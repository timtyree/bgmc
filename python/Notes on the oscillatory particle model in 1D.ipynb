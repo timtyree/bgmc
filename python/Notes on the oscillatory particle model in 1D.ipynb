{
 "cells": [
  {
   "cell_type": "markdown",
   "id": "48b40740",
   "metadata": {},
   "source": [
    "# simulating the oscillatory particle model in 1D\n",
    "Tim Tyree<br>\n",
    "12.16.2021"
   ]
  },
  {
   "cell_type": "markdown",
   "id": "40e830f9",
   "metadata": {},
   "source": [
    "Let $R(t)>0$ represent the range between pairwise-attracting and diffusing particles in the viscous limit.  It can be shown the corresponding Langivin equation can be written in the form of the 1-dimensional SDE:\n",
    "\n",
    "$$\n",
    "dR(t')=f(R,t)dt + \\sqrt{8D}dW(t),\n",
    "$$\n",
    "\n",
    "where attraction implies the sign of $f$ is negative at close ranges, on average.\n",
    "\n",
    "We refer to the oscillatory particle model as the one with\n",
    "\n",
    "$$\n",
    "f(R,t) = \\frac{-2a}{R} \\cos(\\omega t +\\phi)\n",
    "$$\n",
    "\n",
    "While time-dependent models for $\\phi=\\phi(t)$ can encode the general motion of flower-shaped particle trajectories, we consider a simplified model where $\\phi$ takes a constant value.  We consider modeling with the ansatz that the phase goes to zero when two particles meet, that $\\phi\\rightarrow0$ as $R\\rightarrow0$.  To impose this boundary condition on the phases, it is natural to use the backwards-time picture to study the typical time evolution of ^this SDE.  However, since $1/R$ is not well defined at the value $R=0$, we consider initializing our simulation at time $t_f$ and range $R_f$, and then evolving backwards in time with increasing $t'=t_f-t>0$.  \n",
    "\n",
    "The constraint that $R(t)=R_f>0$ together with the constant $\\phi\\rightarrow0$ as $R\\rightarrow0$ renders $t_f$ computable. Through the SDE:\n",
    "\n",
    "$$\n",
    "dR = \\frac{-2a}{R}\\cos(\\omega(t-t_f)dt + \\sqrt{8D}dW(t)\n",
    "$$\n",
    "\n",
    "for $\\omega=2\\pi/T$ for $T=100-120$ ms (LR) or for $T=90$ ms (FK).  To keep the model simple, $\\phi=\\phi_0$ is a phase constant.\n",
    "\n",
    "Solutions for $t_f$ in the simplest cases are as follows:"
   ]
  },
  {
   "cell_type": "markdown",
   "id": "6bd6647b",
   "metadata": {},
   "source": [
    "__Case 1: The Deterministic Case (D=0)__\n",
    "Setting $D=0$ and integrating ^that SDE produces the expression\n",
    "\n",
    "$$\n",
    "\\frac{1}{2}R_f^2 =\\frac{4a}{\\omega} \\sin(\\omega t_f)\n",
    "$$\n",
    "\n",
    "Solving for $t_f$, we find\n",
    "\n",
    "$$\n",
    "t_f = \\frac{1}{\\omega}\\sin^{-1}\\bigg(\\frac{\\omega R_f^2}{4a}\\bigg).\n",
    "$$\n",
    "\n",
    "\n",
    "__Case 2: The Purely Stochastic Case (a=0)__\n",
    "Setting $a=0$ and integrating the expected value of ^that SDE produces an expression for the mean squared range,\n",
    "\n",
    "$$\n",
    "\\bar{R}_f^2 =8Dt_f.\n",
    "$$\n",
    "\n",
    "Solving for $t_f$, we find\n",
    "\n",
    "$$\n",
    "t_f = \\frac{\\bar{R}_f^2}{8D}.\n",
    "$$"
   ]
  },
  {
   "cell_type": "markdown",
   "id": "109957b9",
   "metadata": {},
   "source": [
    "__Self-Consistency argument that $R_f=\\bar{R}_f$ the limit where $t_f\\rightarrow0$__\n",
    "Setting $R_f=\\bar{R}_f$ at time $t_f>0$, we find\n",
    "$$\n",
    "\\sin^{-1}\\bigg(\\frac{\\omega R_f^2}{4a}\\bigg) = t_f = \\frac{\\omega \\bar{R}_f^2}{8D}\n",
    "$$\n",
    "\n",
    "Recalling Taylor's theorem\n",
    "\n",
    "$$\n",
    "\\sin^{-1}(x)=x+x^3/6+3x^5/40+\\mathcal{O}(x^7),\n",
    "$$\n",
    "\n",
    "it can be seen that to leading order when $x=\\frac{\\omega R_f^2}{4a}\\ll1$, we have the equality\n",
    "\n",
    "$$\\frac{\\omega \\bar{R}_f^2}{8D} = \\frac{\\omega R_f^2}{4a} + \\mathcal{O}(x^3)$$\n",
    "\n",
    "Simplifying with $R_f=\\bar{R}_f$ results in the approximation\n",
    "\n",
    "$$\n",
    "a\\approx 2D\n",
    "$$\n",
    "\n",
    "Holding true in the mean-squared limit where $t_f\\rightarrow0$.\n",
    "\n",
    "__Observations that potentially support relating $R_f$ (Case 1) to $\\bar{R}_f$ (Case 2)__\n",
    "\n",
    "Fig. X(top) considers the case where $f(R,t)=-2a/R$.  We observed a linear relationship between the apparent slope of MSR versus time until collision, $4\\hat{a}$, and $D$ for $a$ fixed.  We also observed the relation, $\\hat{a}=a$, when $D=0$.  Fig. X(bottom) considers the case where $f(R,t)= \\frac{-2a}{R} \\cos(\\omega (t-t_f))$, as discussed, under the condition that $a=2D$."
   ]
  }
 ],
 "metadata": {
  "hide_input": false,
  "kernelspec": {
   "display_name": "Python 3 (ipykernel)",
   "language": "python",
   "name": "python3"
  },
  "language_info": {
   "codemirror_mode": {
    "name": "ipython",
    "version": 3
   },
   "file_extension": ".py",
   "mimetype": "text/x-python",
   "name": "python",
   "nbconvert_exporter": "python",
   "pygments_lexer": "ipython3",
   "version": "3.9.5"
  },
  "nbTranslate": {
   "displayLangs": [
    "*"
   ],
   "hotkey": "alt-t",
   "langInMainMenu": true,
   "sourceLang": "en",
   "targetLang": "fr",
   "useGoogleTranslate": true
  },
  "toc": {
   "base_numbering": 1,
   "nav_menu": {},
   "number_sections": true,
   "sideBar": true,
   "skip_h1_title": false,
   "title_cell": "Table of Contents",
   "title_sidebar": "Contents",
   "toc_cell": false,
   "toc_position": {},
   "toc_section_display": true,
   "toc_window_display": false
  }
 },
 "nbformat": 4,
 "nbformat_minor": 5
}
