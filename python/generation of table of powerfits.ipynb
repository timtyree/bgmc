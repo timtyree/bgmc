{
 "cells": [
  {
   "cell_type": "markdown",
   "metadata": {},
   "source": [
    "# dev generation of table of powerfits\n",
    "Tim Tyree<br>\n",
    "8.30.2021"
   ]
  },
  {
   "cell_type": "code",
   "execution_count": 3,
   "metadata": {
    "ExecuteTime": {
     "end_time": "2021-09-03T02:17:55.082626Z",
     "start_time": "2021-09-03T02:17:55.052558Z"
    }
   },
   "outputs": [],
   "source": [
    "from lib.my_initialization import *\n",
    "import random,scipy\n",
    "from lib.measure.compute_slope import *\n",
    "from lib.measure.compute_sliding_slope import *\n",
    "from lib.measure.powerlaw import *\n",
    "%load_ext autoreload\n",
    "%autoreload 2\n",
    "\n",
    "from scipy import stats\n",
    "alpha=0.1\n",
    "#TODO: hook this routine up to dask\n",
    "#TODO: hook this routine up to dask_cuda"
   ]
  },
  {
   "cell_type": "code",
   "execution_count": 4,
   "metadata": {
    "ExecuteTime": {
     "end_time": "2021-09-03T02:17:59.276468Z",
     "start_time": "2021-09-03T02:17:59.245789Z"
    }
   },
   "outputs": [],
   "source": [
    "from scipy.interpolate import LinearNDInterpolator\n",
    "from scipy.interpolate import CloughTocher2DInterpolator"
   ]
  },
  {
   "cell_type": "markdown",
   "metadata": {},
   "source": [
    "- fits may be recomputed by evaluating the .ipynb associated with fitting powerlaws to the full models.\n",
    "- here, w=M*q**m, and Delta_X is the maximum disagreement one could expect to observe with 95% confidence.\n",
    "- here, we observe Delta_X concerns disagreements between statistically independent measurements of X."
   ]
  },
  {
   "cell_type": "code",
   "execution_count": 303,
   "metadata": {
    "ExecuteTime": {
     "end_time": "2021-09-03T00:37:35.033791Z",
     "start_time": "2021-09-03T00:37:35.010492Z"
    }
   },
   "outputs": [],
   "source": [
    "# #DONE: move to lib.measure.smooth_array.py\n",
    "# def spline_ysmooth(x,y,der=0,s=0):\n",
    "#     tck  = scipy.interpolate.splrep(x, y, s=s)\n",
    "#     ynew = scipy.interpolate.splev(x, tck, der=der)\n",
    "#     return ynew"
   ]
  },
  {
   "cell_type": "code",
   "execution_count": 304,
   "metadata": {
    "ExecuteTime": {
     "end_time": "2021-09-03T00:37:36.452338Z",
     "start_time": "2021-09-03T00:37:36.436085Z"
    }
   },
   "outputs": [],
   "source": [
    "# def gener_powerlaw_fit(input_fn,q_min=None,q_max=None,printing=False,testing=False,**kwargs):\n",
    "#     '''for runs 12-15 (and probably later), \n",
    "#     q_min is set to 0.1 particles per square centimeter, and \n",
    "#     q_max is set to 1.0 particles per square centimeter.\n",
    "    \n",
    "#     Example Usage:\n",
    "#     data_dir=\"/home/timothytyree/Documents/GitHub/bgmc/python/data/osg_output/run_15_all.csv\"\n",
    "#     m,Delta_m,M,Delta_M,Rsq,rmse=gener_powerlaw_fit(input_fn,**kwargs)\n",
    "#     '''\n",
    "#     df=pd.read_csv(input_fn)\n",
    "#     # df.head()\n",
    "#     if printing:\n",
    "#         print(f\"the columns present are:\")\n",
    "#         print(list(df.columns))\n",
    "#     if testing:\n",
    "#         assert (not (df.CollRate<0).any())\n",
    "#         if printing:\n",
    "#             print(\"all results from trials have nonnegative collision rates.\")\n",
    "\n",
    "#     #derived values\n",
    "#     df['CollRate']=1./df['CollTime']\n",
    "#     df['A']=df['L']**2\n",
    "#     df['q']=df['N']/df['A'] #number of tips per square centimeter\n",
    "#     df['w']=df['CollRate']/df['A'] #[mHz?]/cm^2\n",
    "\n",
    "#     if q_min is None:\n",
    "#         q_min=np.min(df['q'].values)\n",
    "#     if q_max is None:\n",
    "#         q_max=np.max(df['q'].values)\n",
    "\n",
    "#     # df=df[df.niter==250].copy()\n",
    "#     #extract column values\n",
    "#     r_values=np.array(sorted(set(df.r.values)))#cm\n",
    "#     D_values=np.array(sorted(set(df.D.values)))#cm^2/s\n",
    "#     L_values=np.array(sorted(set(df.L.values)))#cm\n",
    "#     A_values=L_values**2#cm^2\n",
    "#     kappa_values=np.array(sorted(set(df.kappa.values)))#1/s\n",
    "#     varkappa_values=np.array(sorted(set(df.varkappa.values)))#1/s\n",
    "#     x0_values=np.array(sorted(set(df.x0.values)))#1/s\n",
    "#     set_second_values=np.array(sorted(set(df.set_second.values)))\n",
    "#     reflect_values=np.array(sorted(set(df.reflect.values)))\n",
    "#     no_repulsion_values=np.array(sorted(set(df.no_repulsion.values)))\n",
    "#     no_attraction_values=np.array(sorted(set(df.no_attraction.values)))\n",
    "#     neighbor_values=np.array(sorted(set(df.neighbor.values)))\n",
    "#     force_code_values=np.array(sorted(set(df.force_code.values)))\n",
    "\n",
    "#     if printing:\n",
    "#         #make test for whether there is one input parameter present in an input DataFrame\n",
    "#         print(f\"parameter values considered in this df:\")\n",
    "#         print(f\"D~{D_values}\")\n",
    "#         print(f\"L~{L_values}\")\n",
    "#         print(f\"kappa~{kappa_values}\")\n",
    "#         print(f\"x0~{x0_values}\")\n",
    "#         print(f\"set_second~{set_second_values}\")\n",
    "#         print(f\"reflect~{reflect_values}\")\n",
    "#         print(f\"no_repulsion~{no_repulsion_values}\")\n",
    "#         print(f\"no_attraction~{no_attraction_values}\")\n",
    "#         print(f\"neighbor~{neighbor_values}\")\n",
    "#         print(f\"force_code~{force_code_values}\")\n",
    "#         # print(f\"varkappa~{np.mean(varkappa_values):.3f}+-{2*np.std(varkappa_values):.3f}\")\n",
    "#         print(f\"varkappa~{varkappa_values}\")\n",
    "#         print(f\"r~{r_values}\")\n",
    "    \n",
    "#     #query functionally\n",
    "#     r=r_values[0]#1]\n",
    "#     kappa=kappa_values[0]\n",
    "#     D=D_values[0]#-1]#\n",
    "#     varkappa=varkappa_values[0]#3]# #cm^2/s in manuscript, varkappa is a\n",
    "#     x0=x0_values[0]        #cm\n",
    "#     L=L_values[0]\n",
    "#     set_second=set_second_values[0]#0\n",
    "#     no_repulsion=no_repulsion_values[0]#0\n",
    "#     no_attraction=no_attraction_values[0]#0\n",
    "#     reflect=reflect_values[0]#0\n",
    "#     neighbor=neighbor_values[0]#0\n",
    "#     force_code=force_code_values[0]#2\n",
    "    \n",
    "#     #query the DataFrame\n",
    "#     query =(df.set_second==set_second)&(df.reflect==reflect)\n",
    "#     query&=df.r==r\n",
    "#     query&=df.D==D\n",
    "#     query&=df.L==L\n",
    "#     query&=df.varkappa==varkappa\n",
    "#     query&=df.x0==x0\n",
    "#     query&=(df.no_repulsion==no_repulsion)&(df.no_attraction==no_attraction)\n",
    "#     query&=(df.neighbor==neighbor)&(df.force_code==force_code)\n",
    "#     dg=df[query]\n",
    "#     dh=dg[dg.kappa==kappa]\n",
    "#     x_values=dh.q.values\n",
    "#     y_values=dh.w.values\n",
    "\n",
    "#     if printing:\n",
    "#         print((varkappa,x_values.shape))\n",
    "\n",
    "#     #fit powerlaw using OLS of the log-log plot\n",
    "#     boo=(x_values>q_min)&(x_values<q_max)\n",
    "#     x=x_values[boo]\n",
    "#     y=y_values[boo]\n",
    "#     B,Delta_B,m,Delta_m,Rsq=fit_power_law(x,y)\n",
    "#     rmse=compute_power_rmse(x,y,m,B)\n",
    "#     M, Delta_M= comp_power_scale(B,Delta_B,m,Delta_m)\n",
    "#     if printing:\n",
    "#         print(f\"fitting from {q_min:.3f} <= q <= {q_max:.3f}\")\n",
    "#         print(f\"m={m:.6f}+-{Delta_m:.6f}; B={B:.6f}+-{Delta_B:.6f}\")\n",
    "#         print(f\"M= {M:.6f}+-{Delta_M:.6f} Hz*cm^{{2(m-1)}}\")\n",
    "#         print(f\"RMSE={rmse:.4f} Hz/cm^2\")\n",
    "#         print(f\"R^2={Rsq:.4f}\")\n",
    "\n",
    "#     #record input parameters and output measures\n",
    "#     dict_out={\n",
    "#         'm':m,\n",
    "#         'Delta_m':Delta_m,\n",
    "#         'M':M,\n",
    "#         'Delta_M':Delta_M,\n",
    "#         'Rsq':Rsq,\n",
    "#         'rmse':rmse,\n",
    "#         'q_min':q_min,\n",
    "#         'q_max':q_max,\n",
    "#         'r':r,\n",
    "#         'kappa':kappa,\n",
    "#         'D':D,\n",
    "#         'varkappa':varkappa,\n",
    "#         'x0':x0,\n",
    "#         'L':L,\n",
    "#         'force_code':force_code,\n",
    "#         'neighbor':neighbor,\n",
    "#         'reflect':reflect,\n",
    "#         'set_second':set_second,\n",
    "#         'no_repulsion':no_repulsion,\n",
    "#         'no_attraction':no_attraction\n",
    "#     }    \n",
    "        \n",
    "#     return dict_out"
   ]
  },
  {
   "cell_type": "code",
   "execution_count": 302,
   "metadata": {
    "ExecuteTime": {
     "end_time": "2021-09-03T00:29:54.707128Z",
     "start_time": "2021-09-03T00:29:54.684623Z"
    }
   },
   "outputs": [],
   "source": [
    "# def recall_powerlaw_fits_to_full_models():\n",
    "#     \"\"\"\n",
    "#     Example Usage:\n",
    "#     wjr=recall_powerlaw_fits_to_full_models()\n",
    "#     print(*wjr)\n",
    "#     \"\"\"\n",
    "#     # Recall powerlaw fits to full models\n",
    "#     # Fenton-Karma(PBC) \n",
    "#     m, Delta_m, M, Delta_M = 1.8772341309722325, 0.02498750277237229, 5.572315674840435, 0.3053120355191732\n",
    "#     wjr={\n",
    "#         'fk_pbc':{'m':m, 'Delta_m':Delta_m, 'M':M, 'Delta_M':Delta_M}\n",
    "#     }\n",
    "#     # Luo-Rudy(PBC) \n",
    "#     m, Delta_m, M, Delta_M = 1.6375562704001745, 0.017190912126700632, 16.73559858353835, 0.8465090320196467\n",
    "#     wjr['lr_pbc']={'m':m, 'Delta_m':Delta_m, 'M':M, 'Delta_M':Delta_M}\n",
    "#     return wjr"
   ]
  },
  {
   "cell_type": "code",
   "execution_count": 301,
   "metadata": {
    "ExecuteTime": {
     "end_time": "2021-09-03T00:29:51.752523Z",
     "start_time": "2021-09-03T00:29:51.721742Z"
    }
   },
   "outputs": [
    {
     "name": "stdout",
     "output_type": "stream",
     "text": [
      "fk_pbc lr_pbc\n"
     ]
    }
   ],
   "source": [
    "wjr=recall_powerlaw_fits_to_full_models()\n",
    "print(*wjr)"
   ]
  },
  {
   "cell_type": "code",
   "execution_count": 9,
   "metadata": {
    "ExecuteTime": {
     "end_time": "2021-09-02T20:22:05.957643Z",
     "start_time": "2021-09-02T20:22:05.942399Z"
    }
   },
   "outputs": [],
   "source": [
    "# #TODO: debug slice_df_and_print_powerlaw_fit, OR\n",
    "# #TODO: make routine that maps 1 .csv file to a powerlaw fit. And then, extend this routine to make a row in a dataframe using dask (or dask_cuda)\n",
    "# def slice_df_and_print_powerlaw_fit(df, r,D,L,kappa,varkappa,x0,q_min=0.1,q_max=1.,no_attraction=0,no_repulsion=0,force_code=2):\n",
    "#     '''map from trial to power law fit in interval q_min to q_max'''\n",
    "#     #query the DataFrame\n",
    "#     query =(df.set_second==set_second)&(df.reflect==reflect)\n",
    "#     query&=df.r==r#r_values[0]\n",
    "#     query&=df.D==D#D_values[0]\n",
    "#     query&=df.L==L#L_values[0]\n",
    "#     query&=df.kappa==kappa\n",
    "#     query&=df.varkappa==varkappa#_values#[-1]#5]\n",
    "#     query&=df.x0==x0#_values[2]\n",
    "#     query&=(df.no_repulsion==no_repulsion)&(df.no_attraction==no_attraction)\n",
    "#     dff=df[query]\n",
    "#     dg=dff.copy()#[dff.kappa==kappa]#kappa_values[0]]#smaller reaction rate\n",
    "    \n",
    "#     x_values=dg.q.values\n",
    "#     y_values=dg.w.values\n",
    "\n",
    "#     # q_min=0.1;q_max=.4\n",
    "#     # boo=(x_values>q_min)&(x_values<q_max)\n",
    "#     # x=np.log(x_values[boo])\n",
    "#     # y=np.log(y_values[boo])\n",
    "#     # dict_out=compute_95CI_ols(x,y)\n",
    "#     # dict_out\n",
    "#     boo=(x_values>q_min)&(x_values<q_max)\n",
    "#     x=x_values[boo]\n",
    "#     y=y_values[boo]\n",
    "# #     print(x)\n",
    "#     print_fit_power_law(x,y)"
   ]
  },
  {
   "cell_type": "code",
   "execution_count": 305,
   "metadata": {
    "ExecuteTime": {
     "end_time": "2021-09-03T00:38:08.996917Z",
     "start_time": "2021-09-03T00:38:08.965704Z"
    },
    "code_folding": []
   },
   "outputs": [
    {
     "data": {
      "text/plain": [
       "<function __main__.gener_powerlaw_fit(input_fn, q_min=None, q_max=None, printing=False, testing=False, **kwargs)>"
      ]
     },
     "execution_count": 305,
     "metadata": {},
     "output_type": "execute_result"
    }
   ],
   "source": [
    "gener_powerlaw_fit"
   ]
  },
  {
   "cell_type": "code",
   "execution_count": 329,
   "metadata": {
    "ExecuteTime": {
     "end_time": "2021-09-03T01:41:40.297979Z",
     "start_time": "2021-09-03T01:41:40.269612Z"
    }
   },
   "outputs": [],
   "source": [
    "# def gener_df_powerlaw_fits(input_fn,printing=True,testing=True,npartitions=None,return_warnings=False,**kwargs):\n",
    "#     '''\n",
    "#     Example Usage:\n",
    "#     df=gener_df_powerlaw_fits(input_fn,printing=True,testing=True)\n",
    "#     '''\n",
    "#     def routine(input_fn):\n",
    "#         try:\n",
    "#             return gener_powerlaw_fit(input_fn,**kwargs)\n",
    "#         except Exception as e:\n",
    "#             return f\"Warning: for input_fn={input_fn}...\\n {e}\"\n",
    "    \n",
    "#     if testing is True:\n",
    "# #         input_fn=\"/home/timothytyree/Documents/GitHub/bgmc/python/data/osg_output/run_15_all/job.out.13954413.14\"\n",
    "#     #     input_fn=\"/home/timothytyree/Documents/GitHub/bgmc/python/data/osg_output/run_15_all.csv\"\n",
    "#         dict_out=routine(input_fn)\n",
    "#         if printing:\n",
    "#             print(f\"testing input_fn\")\n",
    "#             print(dict_out)\n",
    "#     if npartitions is None:\n",
    "#         npartitions=os.cpu_count()\n",
    "\n",
    "#     #run all ^this over dask (~9800 jobs over 12 cores... 1.5 seconds per job... this supports 0.34 hours to process this step)\n",
    "#     # Estimated run time equals 1.5*9800/12=0.34 hours \n",
    "#     # 1.5*9800/12/60/60\n",
    "#     if printing:\n",
    "#         print(f\"parsing absolute directory of input_fn={input_fn}...\")\n",
    "#     input_folder=os.path.dirname(input_fn)\n",
    "#     trial_folder_name=os.path.dirname(input_folder)\n",
    "\n",
    "#     os.chdir(input_folder)\n",
    "#     # trgt=''#input_fn[input_fn.find('.csv'):]\n",
    "#     # assert(input_fn[-len(trgt):]==trgt)\n",
    "#     # input_fn_lst=get_all_files_matching_pattern(input_fn,trgt)\n",
    "#     input_fn_lst=os.listdir()\n",
    "#     if printing:\n",
    "#         print(f\"We're about to use {npartitions} cores to obliterate {len(input_fn_lst)} csv files from {input_folder}\")\n",
    "\n",
    "#     #all CPU version\n",
    "#     b = db.from_sequence(input_fn_lst, npartitions=npartitions).map(routine)\n",
    "#     start = time.time()\n",
    "#     retval = list(b)\n",
    "#     if printing:\n",
    "#         print(f\"run time for computing powerlaw fits was {time.time()-start:.2f} seconds.\")\n",
    "#     # beep(3)\n",
    "\n",
    "#     if return_warnings:\n",
    "#         dict_out_lst=retval\n",
    "#     else:\n",
    "#         dict_out_lst=[fn for fn in retval if not (type(fn)==type(str()) )]# or not fn.find('Warning:')==-1]\n",
    "#     if printing:\n",
    "#         print(f\"computed powerlaw fits for  {len(dict_out_lst)} trials successfully.\")\n",
    "#     if testing:\n",
    "#         assert (len(dict_out_lst)>0)\n",
    "\n",
    "#     df=pd.DataFrame(dict_out_lst)\n",
    "#     return df\n",
    "\n",
    "# def gener_df_powerlaw_fits_and_to_csv(input_fn,save_folder=None,save_fn=None,printing=True,**kwargs):\n",
    "#     '''\n",
    "#     Example Usage:\n",
    "#     save_dir=gener_df_powerlaw_fits_and_to_csv(input_fn)\n",
    "#     '''\n",
    "    \n",
    "#     df=gener_df_powerlaw_fits(input_fn,printing=printing,**kwargs)\n",
    "#     #run all ^this over dask (~9800 jobs over 12 cores... 1.5 seconds per job... this supports 0.34 hours to process this step)\n",
    "#     # Estimated run time equals 1.5*9800/12=0.34 hours \n",
    "#     # 1.5*9800/12/60/60\n",
    "#     if printing:\n",
    "#         print(f\"parsing absolute directory of input_fn={input_fn}...\")\n",
    "#     input_folder=os.path.dirname(input_fn)\n",
    "#     trial_folder_name=os.path.dirname(os.path.dirname(input_folder))\n",
    "#     if save_folder is None:\n",
    "#         save_folder=trial_folder_name\n",
    "#     if save_fn is None:\n",
    "#         save_fn = 'powerlaw_fits_'+os.path.basename(input_folder)+'.csv'\n",
    "#     #save df as .csv \n",
    "#     os.chdir(save_folder)\n",
    "#     df.to_csv(save_fn,index=False)\n",
    "#     save_dir=os.path.abspath(save_fn)\n",
    "#     if printing:\n",
    "#         print(f\"powerlaw fits from particle model were successfully saved in \\n{save_dir}\")\n",
    "#     return save_dir"
   ]
  },
  {
   "cell_type": "code",
   "execution_count": 330,
   "metadata": {
    "ExecuteTime": {
     "end_time": "2021-09-03T01:41:53.697761Z",
     "start_time": "2021-09-03T01:41:41.768869Z"
    }
   },
   "outputs": [
    {
     "name": "stdout",
     "output_type": "stream",
     "text": [
      "testing input_fn\n",
      "{'m': 1.7790650704389608, 'Delta_m': 0.023485417559118735, 'M': 2.579123035013751, 'Delta_M': 0.08787983363991136, 'Rsq': 0.9960689423299701, 'rmse': 0.07782725060345115, 'q_min': 0.1, 'q_max': 1.0, 'r': 0.05, 'kappa': 250, 'D': 0.7, 'varkappa': 1, 'x0': 0, 'L': 10, 'force_code': 2, 'neighbor': 0, 'reflect': 0, 'set_second': 0, 'no_repulsion': 0, 'no_attraction': 0}\n",
      "parsing absolute directory of input_fn=/home/timothytyree/Documents/GitHub/bgmc/python/data/osg_output/run_15_all/job.out.13954413.14...\n",
      "We're about to use 12 cores to obliterate 9792 csv files from /home/timothytyree/Documents/GitHub/bgmc/python/data/osg_output/run_15_all\n",
      "run time for computing powerlaw fits was 11.73 seconds.\n",
      "computed powerlaw fits for  9790 trials successfully.\n",
      "parsing absolute directory of input_fn=/home/timothytyree/Documents/GitHub/bgmc/python/data/osg_output/run_15_all/job.out.13954413.14...\n",
      "powerlaw fits from particle model were successfully saved in \n",
      "/home/timothytyree/Documents/GitHub/bgmc/python/data/powerlaw_fits_run_15_all.csv\n"
     ]
    }
   ],
   "source": [
    "#generate a csv of all powerlaw fits for a folder containing .csv files returned by postprocessing the raw output data log printed in tim's custom c and perl code\n",
    "# input_fn=search_for_file()\n",
    "input_fn=\"/home/timothytyree/Documents/GitHub/bgmc/python/data/osg_output/run_15_all/job.out.13954413.14\"\n",
    "printing=True\n",
    "kwargs={}\n",
    "npartitions=os.cpu_count()\n",
    "save_dir=gener_df_powerlaw_fits_and_to_csv(input_fn,**kwargs)"
   ]
  },
  {
   "cell_type": "markdown",
   "metadata": {
    "ExecuteTime": {
     "end_time": "2021-08-31T05:22:11.510939Z",
     "start_time": "2021-08-31T05:22:08.189Z"
    }
   },
   "source": [
    "# make an interpolating fit to this data"
   ]
  },
  {
   "cell_type": "code",
   "execution_count": 52,
   "metadata": {
    "ExecuteTime": {
     "end_time": "2021-09-02T20:59:07.741102Z",
     "start_time": "2021-09-02T20:59:07.711452Z"
    }
   },
   "outputs": [],
   "source": [
    "from sklearn import linear_model\n",
    "from scipy.interpolate import LinearNDInterpolator"
   ]
  },
  {
   "cell_type": "code",
   "execution_count": 68,
   "metadata": {
    "ExecuteTime": {
     "end_time": "2021-09-02T21:03:26.644015Z",
     "start_time": "2021-09-02T21:03:26.605765Z"
    }
   },
   "outputs": [
    {
     "data": {
      "text/html": [
       "<div>\n",
       "<style scoped>\n",
       "    .dataframe tbody tr th:only-of-type {\n",
       "        vertical-align: middle;\n",
       "    }\n",
       "\n",
       "    .dataframe tbody tr th {\n",
       "        vertical-align: top;\n",
       "    }\n",
       "\n",
       "    .dataframe thead th {\n",
       "        text-align: right;\n",
       "    }\n",
       "</style>\n",
       "<table border=\"1\" class=\"dataframe\">\n",
       "  <thead>\n",
       "    <tr style=\"text-align: right;\">\n",
       "      <th></th>\n",
       "      <th>m</th>\n",
       "      <th>Delta_m</th>\n",
       "      <th>M</th>\n",
       "      <th>Delta_M</th>\n",
       "      <th>Rsq</th>\n",
       "      <th>rmse</th>\n",
       "      <th>q_min</th>\n",
       "      <th>q_max</th>\n",
       "      <th>r</th>\n",
       "      <th>kappa</th>\n",
       "      <th>D</th>\n",
       "      <th>varkappa</th>\n",
       "      <th>x0</th>\n",
       "      <th>L</th>\n",
       "      <th>force_code</th>\n",
       "      <th>neighbor</th>\n",
       "      <th>reflect</th>\n",
       "      <th>set_second</th>\n",
       "      <th>no_repulsion</th>\n",
       "      <th>no_attraction</th>\n",
       "    </tr>\n",
       "  </thead>\n",
       "  <tbody>\n",
       "    <tr>\n",
       "      <th>0</th>\n",
       "      <td>1.477497</td>\n",
       "      <td>0.017889</td>\n",
       "      <td>10.233038</td>\n",
       "      <td>0.458553</td>\n",
       "      <td>0.996691</td>\n",
       "      <td>0.254568</td>\n",
       "      <td>0.1</td>\n",
       "      <td>1.0</td>\n",
       "      <td>0.10</td>\n",
       "      <td>250</td>\n",
       "      <td>1.6</td>\n",
       "      <td>9</td>\n",
       "      <td>0</td>\n",
       "      <td>10</td>\n",
       "      <td>2</td>\n",
       "      <td>0</td>\n",
       "      <td>0</td>\n",
       "      <td>0</td>\n",
       "      <td>0</td>\n",
       "      <td>0</td>\n",
       "    </tr>\n",
       "    <tr>\n",
       "      <th>1</th>\n",
       "      <td>1.726534</td>\n",
       "      <td>0.013938</td>\n",
       "      <td>18.451423</td>\n",
       "      <td>0.663628</td>\n",
       "      <td>0.998526</td>\n",
       "      <td>0.252599</td>\n",
       "      <td>0.1</td>\n",
       "      <td>1.0</td>\n",
       "      <td>0.20</td>\n",
       "      <td>250</td>\n",
       "      <td>1.0</td>\n",
       "      <td>9</td>\n",
       "      <td>0</td>\n",
       "      <td>10</td>\n",
       "      <td>2</td>\n",
       "      <td>0</td>\n",
       "      <td>1</td>\n",
       "      <td>0</td>\n",
       "      <td>0</td>\n",
       "      <td>0</td>\n",
       "    </tr>\n",
       "    <tr>\n",
       "      <th>2</th>\n",
       "      <td>1.361442</td>\n",
       "      <td>0.010685</td>\n",
       "      <td>34.324471</td>\n",
       "      <td>1.345462</td>\n",
       "      <td>0.998607</td>\n",
       "      <td>0.557511</td>\n",
       "      <td>0.1</td>\n",
       "      <td>1.0</td>\n",
       "      <td>0.10</td>\n",
       "      <td>500</td>\n",
       "      <td>1.2</td>\n",
       "      <td>90</td>\n",
       "      <td>0</td>\n",
       "      <td>10</td>\n",
       "      <td>2</td>\n",
       "      <td>0</td>\n",
       "      <td>1</td>\n",
       "      <td>0</td>\n",
       "      <td>0</td>\n",
       "      <td>0</td>\n",
       "    </tr>\n",
       "    <tr>\n",
       "      <th>3</th>\n",
       "      <td>3.050656</td>\n",
       "      <td>0.082928</td>\n",
       "      <td>110.878921</td>\n",
       "      <td>27.313205</td>\n",
       "      <td>0.983541</td>\n",
       "      <td>8.696932</td>\n",
       "      <td>0.1</td>\n",
       "      <td>1.0</td>\n",
       "      <td>0.40</td>\n",
       "      <td>500</td>\n",
       "      <td>1.6</td>\n",
       "      <td>1</td>\n",
       "      <td>0</td>\n",
       "      <td>10</td>\n",
       "      <td>2</td>\n",
       "      <td>0</td>\n",
       "      <td>0</td>\n",
       "      <td>0</td>\n",
       "      <td>0</td>\n",
       "      <td>0</td>\n",
       "    </tr>\n",
       "    <tr>\n",
       "      <th>4</th>\n",
       "      <td>1.961670</td>\n",
       "      <td>0.014691</td>\n",
       "      <td>3.008488</td>\n",
       "      <td>0.072870</td>\n",
       "      <td>0.998732</td>\n",
       "      <td>0.053220</td>\n",
       "      <td>0.1</td>\n",
       "      <td>1.0</td>\n",
       "      <td>0.05</td>\n",
       "      <td>500</td>\n",
       "      <td>1.9</td>\n",
       "      <td>1</td>\n",
       "      <td>0</td>\n",
       "      <td>10</td>\n",
       "      <td>2</td>\n",
       "      <td>0</td>\n",
       "      <td>0</td>\n",
       "      <td>0</td>\n",
       "      <td>0</td>\n",
       "      <td>0</td>\n",
       "    </tr>\n",
       "  </tbody>\n",
       "</table>\n",
       "</div>"
      ],
      "text/plain": [
       "          m   Delta_m           M    Delta_M       Rsq      rmse  q_min  \\\n",
       "0  1.477497  0.017889   10.233038   0.458553  0.996691  0.254568    0.1   \n",
       "1  1.726534  0.013938   18.451423   0.663628  0.998526  0.252599    0.1   \n",
       "2  1.361442  0.010685   34.324471   1.345462  0.998607  0.557511    0.1   \n",
       "3  3.050656  0.082928  110.878921  27.313205  0.983541  8.696932    0.1   \n",
       "4  1.961670  0.014691    3.008488   0.072870  0.998732  0.053220    0.1   \n",
       "\n",
       "   q_max     r  kappa    D  varkappa  x0   L  force_code  neighbor  reflect  \\\n",
       "0    1.0  0.10    250  1.6         9   0  10           2         0        0   \n",
       "1    1.0  0.20    250  1.0         9   0  10           2         0        1   \n",
       "2    1.0  0.10    500  1.2        90   0  10           2         0        1   \n",
       "3    1.0  0.40    500  1.6         1   0  10           2         0        0   \n",
       "4    1.0  0.05    500  1.9         1   0  10           2         0        0   \n",
       "\n",
       "   set_second  no_repulsion  no_attraction  \n",
       "0           0             0              0  \n",
       "1           0             0              0  \n",
       "2           0             0              0  \n",
       "3           0             0              0  \n",
       "4           0             0              0  "
      ]
     },
     "execution_count": 68,
     "metadata": {},
     "output_type": "execute_result"
    }
   ],
   "source": [
    "input_fn=f\"/home/timothytyree/Documents/GitHub/bgmc/python/data/osg_output/run_15_all/powerlaw_fits_run_15_all.csv\"\n",
    "df=pd.read_csv(input_fn)\n",
    "df.head()"
   ]
  },
  {
   "cell_type": "code",
   "execution_count": 69,
   "metadata": {
    "ExecuteTime": {
     "end_time": "2021-09-02T21:03:27.753486Z",
     "start_time": "2021-09-02T21:03:27.720887Z"
    }
   },
   "outputs": [],
   "source": [
    "# df=df[df.niter==250].copy()\n",
    "#extract column values\n",
    "r_values=np.array(sorted(set(df.r.values)))#cm\n",
    "D_values=np.array(sorted(set(df.D.values)))#cm^2/s\n",
    "L_values=np.array(sorted(set(df.L.values)))#cm\n",
    "A_values=L_values**2#cm^2\n",
    "kappa_values=np.array(sorted(set(df.kappa.values)))#1/s\n",
    "varkappa_values=np.array(sorted(set(df.varkappa.values)))#1/s\n",
    "x0_values=np.array(sorted(set(df.x0.values)))#1/s\n",
    "set_second_values=np.array(sorted(set(df.set_second.values)))\n",
    "reflect_values=np.array(sorted(set(df.reflect.values)))\n",
    "no_repulsion_values=np.array(sorted(set(df.no_repulsion.values)))\n",
    "no_attraction_values=np.array(sorted(set(df.no_attraction.values)))\n",
    "neighbor_values=np.array(sorted(set(df.neighbor.values)))\n",
    "force_code_values=np.array(sorted(set(df.force_code.values)))"
   ]
  },
  {
   "cell_type": "code",
   "execution_count": 71,
   "metadata": {
    "ExecuteTime": {
     "end_time": "2021-09-02T21:03:29.750158Z",
     "start_time": "2021-09-02T21:03:29.734669Z"
    }
   },
   "outputs": [],
   "source": [
    "#TODO: make a fit of m as a function of r,kappa,D,varkappa,x0 for reflect==0\n",
    "#TODO: make a fit of M as a function of r,kappa,D,varkappa,x0 for reflect==0\n",
    "# fits to consider\n",
    "# - linear\n",
    "# - quadratic regression\n",
    "# - knn"
   ]
  },
  {
   "cell_type": "code",
   "execution_count": 87,
   "metadata": {
    "ExecuteTime": {
     "end_time": "2021-09-02T21:10:38.130949Z",
     "start_time": "2021-09-02T21:10:37.690536Z"
    }
   },
   "outputs": [
    {
     "name": "stdout",
     "output_type": "stream",
     "text": [
      "number of training examples is 2450.\n",
      "the rmse of simple interpolation is 0.0000\n",
      "shape of X (2450, 3) --> shape of y=yhat (2450,)\n"
     ]
    }
   ],
   "source": [
    "#define constant parameters\n",
    "reflect=0\n",
    "force_code=2\n",
    "set_second=0\n",
    "neighbor=0\n",
    "no_attraction=0\n",
    "no_repulsion=0\n",
    "kappa=500\n",
    "L=10\n",
    "\n",
    "#query the DataFrame\n",
    "query =(df.set_second==set_second)&(df.reflect==reflect)\n",
    "query&=(df.no_repulsion==no_repulsion)&(df.no_attraction==no_attraction)\n",
    "query&=(df.neighbor==neighbor)&(df.force_code==force_code)\n",
    "# query&=df.r==r\n",
    "query&=df.kappa==kappa\n",
    "# query&=df.D==D\n",
    "query&=df.L==L\n",
    "# query&=df.varkappa==varkappa\n",
    "# query&=df.x0==x0\n",
    "dg=df[query]\n",
    "\n",
    "#define parameters to be varied\n",
    "input_cols=['r','D','varkappa']#,x0\n",
    "# input_cols=['r','kappa','D','varkappa']#,x0\n",
    "output_col='m'\n",
    "#inputs:dg,input_cols,output_col\n",
    "#output: fitted model\n",
    "\n",
    "Xall=dg[input_cols].values \n",
    "yall=dg[output_col].values\n",
    "X=Xall.copy()\n",
    "y=yall.copy()\n",
    "m = len(y) # number of training examples\n",
    "print(f'number of training examples is {m:d}.')\n",
    "\n",
    "interp = LinearNDInterpolator(X, y)\n",
    "# interp = CloughTocher2DInterpolator(X, y)\n",
    "yhat = interp(X)\n",
    "rmse=np.sqrt(np.mean((yhat-y)**2))\n",
    "print(f\"the rmse of simple interpolation is {rmse:.4f}\")\n",
    "\n",
    "# yhat = interp(X)\n",
    "print(f\"shape of X {X.shape} --> shape of y=yhat {yhat.shape}\")"
   ]
  },
  {
   "cell_type": "code",
   "execution_count": 88,
   "metadata": {
    "ExecuteTime": {
     "end_time": "2021-09-02T21:10:42.610072Z",
     "start_time": "2021-09-02T21:10:42.590309Z"
    }
   },
   "outputs": [
    {
     "name": "stdout",
     "output_type": "stream",
     "text": [
      "X = [0.4 1.6 1. ] , y = 3.050656263179872\n",
      "X = [0.05 1.9  1.  ] , y = 1.9616701262849878\n",
      "X = [0.4 1.8 4. ] , y = 2.6786137749142624\n",
      "X = [  0.4   0.8 100. ] , y = 1.7230001377700257\n",
      "X = [0.05 1.4  0.  ] , y = 2.3158987920277783\n"
     ]
    }
   ],
   "source": [
    "# Show only first 5 records\n",
    "for i in range(5):\n",
    "    print('X =', X[i, ], ', y =', y[i])"
   ]
  },
  {
   "cell_type": "code",
   "execution_count": 89,
   "metadata": {
    "ExecuteTime": {
     "end_time": "2021-09-02T21:10:43.810184Z",
     "start_time": "2021-09-02T21:10:43.795314Z"
    }
   },
   "outputs": [],
   "source": [
    "# #ordinary least squares is not helpful...\n",
    "# model_ols =  linear_model.LinearRegression(copy_X=True, fit_intercept=True)#, n_jobs=None, normalize=True)\n",
    "# # model_ols =  linear_model.LinearRegression(normalize=True)\n",
    "# model_ols.fit(X,y)\n",
    "\n",
    "# coef = model_ols.coef_\n",
    "# intercept = model_ols.intercept_\n",
    "# print('coef= ', coef)\n",
    "# print('intercept= ', intercept)\n",
    "\n",
    "# Rsq=model_ols.score(X,y)\n",
    "# print(f\"Rsquared is {Rsq:.4f}\")\n",
    "\n",
    "# yhat=model_ols.predict(X)\n",
    "# rmse=np.sqrt(np.mean((yhat-y)**2))\n",
    "# print(f\"rmse is {rmse:.4f}\")"
   ]
  },
  {
   "cell_type": "code",
   "execution_count": 90,
   "metadata": {
    "ExecuteTime": {
     "end_time": "2021-09-02T21:10:44.747194Z",
     "start_time": "2021-09-02T21:10:44.732264Z"
    },
    "scrolled": false
   },
   "outputs": [],
   "source": [
    "#TODO: guess many values of X that are a boltzman weighted linear combination of the top 6 + some normal error\n",
    "#heretim_later"
   ]
  },
  {
   "cell_type": "code",
   "execution_count": null,
   "metadata": {},
   "outputs": [],
   "source": []
  },
  {
   "cell_type": "code",
   "execution_count": null,
   "metadata": {},
   "outputs": [],
   "source": []
  },
  {
   "cell_type": "code",
   "execution_count": null,
   "metadata": {},
   "outputs": [],
   "source": []
  },
  {
   "cell_type": "markdown",
   "metadata": {},
   "source": [
    "# heatmaps of apparent powerfit parameters on D versus a\n",
    "- TODO: make these into labeled contour plots"
   ]
  },
  {
   "cell_type": "code",
   "execution_count": 91,
   "metadata": {
    "ExecuteTime": {
     "end_time": "2021-09-02T21:10:45.669167Z",
     "start_time": "2021-09-02T21:10:45.653521Z"
    }
   },
   "outputs": [],
   "source": [
    "#DONE: dev and test an inverse mapping from X_values to x1_values and x2_values\n",
    "#DONE: apply ^that same inverse mapping to y_values to ygrid_values\n",
    "import matplotlib as mpl\n",
    "\n",
    "\n",
    "#heretim\n",
    "#GOAL: make a beautiful analysis for WJR and PM\n",
    "#TODO: abstract the xaxis, D into x_col\n",
    "#TODO: in a backwards compatable way, swap a,r with D, and fix D instead\n",
    "#TODO: fix D=2 and kappa=500 and draw a versus r plot\n",
    "# #TODO(later, brief optimization of ^that): make the best color-contrasted heatmap plot of m versus a versus r (i.e. are versus-versus-plot abstractions)\n",
    "# #for fixed D=2\n",
    "# #for fixed kappa=250 Hz\n",
    "# # X_mesh=numpy 2d-array of pixel site values for a versus r\n",
    "# # y_value=the exponent, m. at each pixel site in X_mesh, m has values for the expected exponent from the powerlaw fit\n",
    "# vmin=avg_value-fwhm_value/2\n",
    "# vmax=avg_value+fwhm_value/2\n",
    "\n",
    "#TODO: plot level sets for the m,M from the LR and the FK models\n",
    "#TODO: identify any intersection points\n",
    "\n",
    "#TODO: repeat this for each kappa value observed"
   ]
  },
  {
   "cell_type": "code",
   "execution_count": 92,
   "metadata": {
    "ExecuteTime": {
     "end_time": "2021-09-02T21:10:46.577283Z",
     "start_time": "2021-09-02T21:10:46.562859Z"
    }
   },
   "outputs": [],
   "source": [
    "#TODO: list the parameters r,kappa,D,a:=varkappa that have the closest exponent m to the LR model.  compute the boltzman weighted mean value\n",
    "#TODO: simulate the particle simulation locally/repeatably for the LR model. record.\n",
    "#TODO: rescale time such that the overall magnitude of the particle model is consistent with that of the LR model\n",
    "\n",
    "#TODO: list the parameters r,kappa,D,a:=varkappa that have the closest slope to the FK model\n",
    "#TODO: simulate the particle simulation locally/repeatably for the FK model. record\n",
    "#TODO: rescale time such that the overall magnitude of the particle model is consistent with that of the FK model\n",
    "\n",
    "#Plot these best fits"
   ]
  },
  {
   "cell_type": "code",
   "execution_count": null,
   "metadata": {},
   "outputs": [],
   "source": []
  },
  {
   "cell_type": "code",
   "execution_count": 93,
   "metadata": {
    "ExecuteTime": {
     "end_time": "2021-09-02T21:10:47.504892Z",
     "start_time": "2021-09-02T21:10:47.488793Z"
    }
   },
   "outputs": [],
   "source": [
    "#TODO(for visualization): make a nice visualization using the previous method (just put a line plot of m,M versus a for several r values fixed, and an overall D value, also fixed)\n",
    "#TODO(later? for visualization): make a nice visualization using the new method\n",
    "\n"
   ]
  },
  {
   "cell_type": "code",
   "execution_count": 94,
   "metadata": {
    "ExecuteTime": {
     "end_time": "2021-09-02T21:10:48.431848Z",
     "start_time": "2021-09-02T21:10:48.405169Z"
    }
   },
   "outputs": [
    {
     "name": "stdout",
     "output_type": "stream",
     "text": [
      "2\n"
     ]
    },
    {
     "data": {
      "text/plain": [
       "(50, 50)"
      ]
     },
     "execution_count": 94,
     "metadata": {},
     "output_type": "execute_result"
    }
   ],
   "source": [
    "#solution for the r,D,a basis\n",
    "#restrict to fixed reaction range\n",
    "r=0.1 #cm\n",
    "fixed_value=r\n",
    "fixed_row=0\n",
    "\n",
    "# unfixed_rows=[1,2]\n",
    "boo=Xall[:,fixed_row]==fixed_value\n",
    "X=Xall[boo,1:3].copy()\n",
    "# X[:,unfixed_rows[0]]=Xall[boo,unfixed_rows[0]].copy()\n",
    "# X[:,unfixed_rows[1]]=Xall[boo,unfixed_rows[1]].copy()\n",
    "y=yall[boo].copy()\n",
    "\n",
    "#define the local grid for visualization of N-dim interpolation\n",
    "num_cols=X.shape[1]\n",
    "xi=[]\n",
    "for i in range(num_cols):\n",
    "    x=X[:,i]\n",
    "    xi.append( np.linspace(np.min(x), np.max(x)) )\n",
    "\n",
    "XI=np.meshgrid(*xi)\n",
    "print(len(XI))\n",
    "\n",
    "x1_values=XI[0]\n",
    "x2_values=XI[1]\n",
    "\n",
    "# np.array(list(zip(XI))).shape\n",
    "gridshape=x1_values.shape\n",
    "X_values=np.array(list(zip((x1_values.flatten(),x2_values.flatten()))))[:,fixed_row,:].T\n",
    "\n",
    "\n",
    "#TODO: compute the interpolated values of y on this 2D grid\n",
    "# interp = LinearNDInterpolator(X, y)\n",
    "interp = CloughTocher2DInterpolator(X, y)\n",
    "y_values = interp(X_values).reshape(gridshape[0],gridshape[1])\n",
    "y_values.shape\n",
    "# ,X_values.shape,x1_values.shape\n",
    "# y_values.reshape?"
   ]
  },
  {
   "cell_type": "code",
   "execution_count": 95,
   "metadata": {
    "ExecuteTime": {
     "end_time": "2021-09-02T21:10:56.652250Z",
     "start_time": "2021-09-02T21:10:54.082325Z"
    }
   },
   "outputs": [
    {
     "data": {
      "image/png": "[encoded data removed]",
      "text/plain": [
       "<Figure size 1152x1008 with 6 Axes>"
      ]
     },
     "metadata": {
      "needs_background": "light"
     },
     "output_type": "display_data"
    }
   ],
   "source": [
    "#visualize a versus D\n",
    "x2lim=[0,30]\n",
    "# x2lim=[0,110]\n",
    "x1lim=[0.7,2]#[np.min(x1_values),np.max(x1_values)]\n",
    "# x1lim=[np.min(x1_values),np.max(x1_values)]\n",
    "fontsize=15\n",
    "xlabel=r'$D$ (cm$^2$/s)'\n",
    "ylabel=r'$a$ (cm$^2$/s)'\n",
    "cmap = mpl.cm.cool\n",
    "\n",
    "#TODO: compute the interpolated m (left) and the interpolated M (right) for each pixel.\n",
    "#HINT: if col==0: # then, get fitted m values\n",
    "#HINT: if col==1: # then, get fitted M values\n",
    "\n",
    "\n",
    "#define parameters to be varied\n",
    "input_cols=['r','D','varkappa']#,x0\n",
    "# input_cols=['r','kappa','D','varkappa']#,x0\n",
    "# output_col='m'\n",
    "#inputs:dg,input_cols,output_col\n",
    "#output: fitted model\n",
    "\n",
    "Xall=dg[input_cols].values \n",
    "\n",
    "#columnal kwargs\n",
    "vmin_lst=[1,0]\n",
    "vmax_lst=[3,30]\n",
    "# output_col_lst=['Delta_m','Rsq']\n",
    "output_col_lst=['m','M']\n",
    "#kwargs by row\n",
    "r_lst=[0.1,0.2]\n",
    "fig, axs = plt.subplots(2, len(r_lst), figsize=(16,14))\n",
    "cmaps = ['RdBu_r', 'viridis']\n",
    "title_foo=lambda r:f'r = {r:.1f} cm'\n",
    "nsamples=1000\n",
    "for col in range(len(output_col_lst)):\n",
    "    #extract target output value to fit to\n",
    "    output_col=output_col_lst[col]\n",
    "    yall=dg[output_col].values\n",
    "    for row in range(2):\n",
    "        #restrict to fixed reaction range\n",
    "        r=r_lst[row]\n",
    "        title=title_foo(r)#f'r = {r:.1f} cm'\n",
    "        boo=Xall[:,0]==r\n",
    "        X=Xall[boo,1:3].copy()  #make the x,y axis the 2nd and 3rd columns of X\n",
    "        y=yall[boo].copy()\n",
    "        #TODO: compute the m,M fits\n",
    "        #TODO: compute the interpolated values of y on this 2D grid\n",
    "        interp = LinearNDInterpolator(X, y)\n",
    "        interp = CloughTocher2DInterpolator(X, y)\n",
    "\n",
    "        #define the local grid for visualization of N-dim interpolation\n",
    "        num_cols=X.shape[1]\n",
    "        xi=[]\n",
    "        for i in range(num_cols):\n",
    "            x=X[:,i]\n",
    "            xi.append( np.linspace(np.min(x), np.max(x),nsamples) )\n",
    "\n",
    "        XI=np.meshgrid(*xi)\n",
    "        x1_values=XI[0]\n",
    "        x2_values=XI[1]\n",
    "\n",
    "        # np.array(list(zip(XI))).shape\n",
    "        gridshape=x1_values.shape\n",
    "        X_values =np.array(list(zip((x1_values.flatten(),x2_values.flatten()))))[:,0,:].T\n",
    "        y_values = interp(X_values).reshape(gridshape[0],gridshape[1]) \n",
    "        \n",
    "        ax = axs[row, col]\n",
    "        vmin=vmin_lst[col]\n",
    "        vmax=vmax_lst[col]\n",
    "#         vmin=np.quantile(y_values.flatten(),0.25)\n",
    "#         vmax=np.quantile(y_values.flatten(),0.75)\n",
    "        pcm=ax.pcolormesh(x1_values, x2_values, y_values, vmin=vmin, vmax=vmax, cmap=cmaps[col])\n",
    "        \n",
    "        \n",
    "        ax.set_xlim(x1lim)\n",
    "        ax.set_ylim(x2lim)\n",
    "        ax.set_title(title,fontsize=fontsize)\n",
    "        format_plot(ax, xlabel, ylabel, fontsize)#, use_loglog=False\n",
    "        \n",
    "#     fig.colorbar(pcm, ax=[axs[0, col]], location='top', shrink=0.6)\n",
    "    cbar=fig.colorbar(pcm, ax=axs[:, col],shrink=0.6)#,label=output_col)\n",
    "    cbar.ax.tick_params(labelsize=fontsize)\n",
    "    cbar.set_label(output_col, fontsize=fontsize)    \n",
    "# plt.tight_layout()\n",
    "plt.show()"
   ]
  },
  {
   "cell_type": "code",
   "execution_count": null,
   "metadata": {
    "ExecuteTime": {
     "end_time": "2021-09-02T20:45:23.956199Z",
     "start_time": "2021-09-02T20:45:23.938900Z"
    }
   },
   "outputs": [],
   "source": [
    "#TODO./DONE_up_^there: fit interp on all dimensions"
   ]
  },
  {
   "cell_type": "code",
   "execution_count": null,
   "metadata": {},
   "outputs": [],
   "source": []
  },
  {
   "cell_type": "code",
   "execution_count": 45,
   "metadata": {
    "ExecuteTime": {
     "end_time": "2021-09-02T20:51:04.937674Z",
     "start_time": "2021-09-02T20:51:04.918187Z"
    },
    "scrolled": true
   },
   "outputs": [
    {
     "data": {
      "text/plain": [
       "<function numpy.quantile(a, q, axis=None, out=None, overwrite_input=False, interpolation='linear', keepdims=False)>"
      ]
     },
     "execution_count": 45,
     "metadata": {},
     "output_type": "execute_result"
    }
   ],
   "source": [
    "# x2lim=[0,20]\n",
    "# x1lim=[np.min(x1_values),np.max(x1_values)]\n",
    "# fontsize=20\n",
    "# # xlabel=r'$r$ (cm)'\n",
    "# xlabel=r'$D$ (cm$^2$/s)'\n",
    "# ylabel=r'$a$ (cm$^2$/s)'\n",
    "# vmin=1\n",
    "# vmax=3\n",
    "# cmap = mpl.cm.cool\n",
    "\n",
    "# #TODO:visualize this slice\n",
    "# fig, ax = plt.subplots(figsize=(6, 4))\n",
    "# # ax.pcolormesh(x1_values, x2_values, y_values, shading='auto')\n",
    "# ax.pcolormesh(x1_values, x2_values, y_values, vmin=vmin, vmax=vmax, cmap=cmap)\n",
    "\n",
    "\n",
    "# # # #format for colorbar\n",
    "# # # # fig.subplots_adjust(bottom=0.5)\n",
    "# # norm = mpl.colors.Normalize(vmin=vmin, vmax=vmax)\n",
    "# # fig.colorbar(mpl.cm.ScalarMappable(norm=norm, cmap=cmap),\n",
    "# #              cax=ax, orientation='vertical', label='exponent value')\n",
    "\n",
    "\n",
    "# ax.set_xlim(x1lim)\n",
    "# ax.set_ylim(x2lim)\n",
    "# format_plot(ax, xlabel, ylabel, fontsize)#, use_loglog=False\n",
    "# plt.show()\n",
    "\n",
    "np.quantile"
   ]
  },
  {
   "cell_type": "code",
   "execution_count": 41,
   "metadata": {
    "ExecuteTime": {
     "end_time": "2021-09-02T20:48:57.348795Z",
     "start_time": "2021-09-02T20:48:57.331592Z"
    }
   },
   "outputs": [],
   "source": [
    "# x1lim=[0.05,0.5]#r\n",
    "# x2lim=[0,20]#a\n",
    "# # x1lim=[0.7,2]#D [np.min(x1_values),np.max(x1_values)]\n",
    "# # x1lim=[np.min(x1_values),np.max(x1_values)]\n",
    "# fontsize=15\n",
    "# xlabel=r'$r$ (cm)'\n",
    "# xlabel=r'$D$ (cm$^2$/s)'\n",
    "# # ylabel=r'$a$ (cm$^2$/s)'\n",
    "# cmap = mpl.cm.cool\n",
    "\n",
    "# #TODO: compute the interpolated m (left) and the interpolated M (right) for each pixel.\n",
    "# #HINT: if col==0: # then, get fitted m values\n",
    "# #HINT: if col==1: # then, get fitted M values\n",
    "\n",
    "\n",
    "# #define parameters to be varied\n",
    "# input_cols=['r','D','varkappa']#,x0\n",
    "# # input_cols=['r','kappa','D','varkappa']#,x0\n",
    "# # output_col='m'\n",
    "# #inputs:dg,input_cols,output_col\n",
    "# #output: fitted model\n",
    "\n",
    "# Xall=dg[input_cols].values \n",
    "# #D=2\n",
    "# #columnal kwargs\n",
    "# vmin_lst=[1,0]\n",
    "# vmax_lst=[3,30]\n",
    "# output_col_lst=['m','M']\n",
    "# #kwargs by row\n",
    "# r_lst=[0.1,0.2]\n",
    "# colvar_lst=r_lst\n",
    "# title_foo=lambda r:f'r = {r:.1f} cm'\n",
    "# # kappa_lst=[250,500]\n",
    "# # colvar_lst=kappa_lst\n",
    "# # title_foo=lambda kappa:f'kappa = {kappa:.1f} cm'\n"
   ]
  },
  {
   "cell_type": "code",
   "execution_count": 42,
   "metadata": {
    "ExecuteTime": {
     "end_time": "2021-09-02T20:48:58.273032Z",
     "start_time": "2021-09-02T20:48:58.257832Z"
    }
   },
   "outputs": [],
   "source": [
    "#TODO(for visualization): make a nice visualization using the previous method (just put a line plot of m,M versus a for several r values fixed, and an overall D value, also fixed)\n",
    "#TODO(later? for visualization): make a nice visualization using the new method \n"
   ]
  },
  {
   "cell_type": "markdown",
   "metadata": {},
   "source": [
    "# TODO(heretim): fix D. fix kappa. Plot the heatmap of m value over a versus r"
   ]
  },
  {
   "cell_type": "code",
   "execution_count": 96,
   "metadata": {
    "ExecuteTime": {
     "end_time": "2021-09-02T21:11:26.039962Z",
     "start_time": "2021-09-02T21:11:18.509755Z"
    }
   },
   "outputs": [
    {
     "name": "stdout",
     "output_type": "stream",
     "text": [
      "number of training examples is 4890.\n",
      "the rmse of linear interpolation is 0.0000\n",
      "shape of X (4890, 4) --> shape of y=yhat (4890,)\n"
     ]
    }
   ],
   "source": [
    "#define constant parameters\n",
    "reflect=0\n",
    "force_code=2\n",
    "set_second=0\n",
    "neighbor=0\n",
    "no_attraction=0\n",
    "no_repulsion=0\n",
    "kappa=500\n",
    "L=10\n",
    "\n",
    "#query the DataFrame\n",
    "query =(df.set_second==set_second)&(df.reflect==reflect)\n",
    "query&=(df.no_repulsion==no_repulsion)&(df.no_attraction==no_attraction)\n",
    "query&=(df.neighbor==neighbor)&(df.force_code==force_code)\n",
    "# query&=df.r==r\n",
    "# query&=df.kappa==kappa\n",
    "# query&=df.D==D\n",
    "query&=df.L==L\n",
    "# query&=df.varkappa==varkappa\n",
    "# query&=df.x0==x0\n",
    "query_template=query.copy()\n",
    "dg=df[query]\n",
    "\n",
    "#define parameters to be varied\n",
    "# input_cols=['r','D','varkappa']#,x0\n",
    "input_cols=['r','kappa','D','varkappa']#,x0\n",
    "output_col='m'\n",
    "#inputs:dg,input_cols,output_col\n",
    "#output: fitted model\n",
    "\n",
    "Xall=dg[input_cols].values \n",
    "yall=dg[output_col].values\n",
    "X=Xall.copy()\n",
    "y=yall.copy()\n",
    "m = len(y) # number of training examples\n",
    "print(f'number of training examples is {m:d}.')\n",
    "\n",
    "interp = LinearNDInterpolator(X, y)\n",
    "# interp = CloughTocher2DInterpolator(X, y)\n",
    "yhat = interp(X)\n",
    "rmse=np.sqrt(np.mean((yhat-y)**2))\n",
    "print(f\"the rmse of linear interpolation is {rmse:.4f}\")\n",
    "\n",
    "# yhat = interp(X)\n",
    "print(f\"shape of X {X.shape} --> shape of y=yhat {yhat.shape}\")"
   ]
  },
  {
   "cell_type": "code",
   "execution_count": 97,
   "metadata": {
    "ExecuteTime": {
     "end_time": "2021-09-02T21:11:27.003328Z",
     "start_time": "2021-09-02T21:11:26.987791Z"
    }
   },
   "outputs": [],
   "source": [
    "# TODO: define the query template\n",
    "query_template=query.copy()"
   ]
  },
  {
   "cell_type": "code",
   "execution_count": 105,
   "metadata": {
    "ExecuteTime": {
     "end_time": "2021-09-02T21:13:47.727784Z",
     "start_time": "2021-09-02T21:13:45.784405Z"
    }
   },
   "outputs": [
    {
     "name": "stdout",
     "output_type": "stream",
     "text": [
      "2\n",
      "(1000000, 2)\n",
      "((1000, 1000), (1000, 1000), (1000, 1000))\n",
      "2\n",
      "(1000000, 2)\n",
      "((1000, 1000), (1000, 1000), (1000, 1000))\n"
     ]
    },
    {
     "data": {
      "image/png": "[encoded data removed]",
      "text/plain": [
       "<Figure size 792x324 with 4 Axes>"
      ]
     },
     "metadata": {
      "needs_background": "light"
     },
     "output_type": "display_data"
    }
   ],
   "source": [
    "#visualize a versus r\n",
    "x1lim=[0.05,0.5]\n",
    "x2lim=[1,50]\n",
    "# x2lim=[0,50]\n",
    "fontsize=16\n",
    "figsize=(11,4.5)#(16,6)#(16,14)\n",
    "xlabel=r'$r$ (cm)'\n",
    "ylabel=r'$a$ (cm$^2$/s)'\n",
    "cmap = mpl.cm.cool\n",
    "#columnal kwargs\n",
    "vmin_lst=[1,1]\n",
    "vmax_lst=[3,3]\n",
    "# vmin_lst=[1,0]\n",
    "# vmax_lst=[3,20]\n",
    "output_col_lst=['m','m']\n",
    "# output_col_lst=['m','M']\n",
    "#kwargs by row\n",
    "# r_lst=[0.1,0.2]\n",
    "kappa_lst=[250,500]\n",
    "kappa_col=2\n",
    "cmaps = ['RdBu_r', 'RdBu_r']\n",
    "# cmaps = ['RdBu_r', 'viridis']\n",
    "title_foo=lambda kappa:f'kappa = {kappa:.0f} Hz'\n",
    "# fig,ax=plt.subplots()\n",
    "fig,axs=plt.subplots(ncols=2, figsize=figsize)\n",
    "# fig, axs = plt.subplots(2, len(kappa_lst), figsize=(16,14))\n",
    "D=2\n",
    "# kappa=500\n",
    "nsamples=1000\n",
    "col=0\n",
    "kappa_lst=[250,500]\n",
    "for col,kappa in enumerate(kappa_lst):\n",
    "    output_col=output_col_lst[col]\n",
    "    query = (df['D']==D)\n",
    "    query&= (df['kappa']==kappa)\n",
    "    query&= query_template\n",
    "    X=df.loc[query,['r','varkappa']].values\n",
    "    y_values=df.loc[query,output_col].values\n",
    "#     interp = LinearNDInterpolator(X, y_values)\n",
    "    interp = CloughTocher2DInterpolator(X, y_values)\n",
    "\n",
    "    #TODO: make interpolator that maps X to y values everywhere\n",
    "    #TODO: make a grid realization of y_values\n",
    "    #TODO: how do I compute y_values previously?\n",
    "    #TODO: could this be as easy as a nested for-loop about each pixel value, running y_values=interp(X[j,:])\n",
    "\n",
    "    #define the local grid for visualization of N-dim interpolation\n",
    "    num_cols=X.shape[1]\n",
    "    xi=[]\n",
    "    for i in range(num_cols):\n",
    "        x=X[:,i]\n",
    "        xi.append( np.linspace(np.min(x), np.max(x),nsamples) )\n",
    "    XI=np.meshgrid(*xi)\n",
    "    print(len(XI))\n",
    "    x1_values=XI[0]\n",
    "    x2_values=XI[1]\n",
    "\n",
    "    # np.array(list(zip(XI))).shape\n",
    "    gridshape=x1_values.shape\n",
    "    X_values =np.array(list(zip((x1_values.flatten(),x2_values.flatten()))))[:,0,:].T\n",
    "    print(X_values.shape)\n",
    "    y_values = interp(X_values).reshape(gridshape[0],gridshape[1]) \n",
    "    # y_values = interp(X_values).reshape(gridshape[0],gridshape[1]) \n",
    "    print((x1_values.shape,x2_values.shape,y_values.shape))\n",
    "    ax=axs[col]\n",
    "    #ax = axs[row, col]\n",
    "    #     #plot heatmap in the next axis\n",
    "    #     #ax = axs[row, col]\n",
    "    vmin=vmin_lst[col]\n",
    "    vmax=vmax_lst[col]\n",
    "    pcm=ax.pcolormesh(x1_values, x2_values, y_values, vmin=vmin, vmax=vmax, cmap=cmaps[col])\n",
    "#     pcm=ax.pcolormesh(np.log(x1_values+1), np.log(x2_values+1), y_values, vmin=vmin, vmax=vmax, cmap=cmaps[col])\n",
    "    ax.set_xlim(x1lim)\n",
    "    ax.set_ylim(x2lim)\n",
    "    title=title_foo(kappa)\n",
    "    ax.set_title(title,fontsize=fontsize)\n",
    "    format_plot(ax, xlabel, ylabel, fontsize, use_loglog=False)\n",
    "    ax.set_xscale('log')\n",
    "    ax.set_yscale('log')\n",
    "    cbar=fig.colorbar(pcm, ax=ax, shrink=0.6,label=output_col)#, location='top'\n",
    "    # fig.colorbar(pcm, ax=[axs[0, col]], location='top', shrink=0.6)\n",
    "    #     cbar=fig.colorbar(pcm, ax=axs[:, col],shrink=0.6)#,label=output_col)\n",
    "    cbar.ax.tick_params(labelsize=fontsize)\n",
    "    cbar.set_label(output_col, fontsize=fontsize)    \n",
    "plt.tight_layout()\n",
    "plt.show()\n"
   ]
  },
  {
   "cell_type": "code",
   "execution_count": 99,
   "metadata": {
    "ExecuteTime": {
     "end_time": "2021-09-02T21:11:32.274435Z",
     "start_time": "2021-09-02T21:11:30.691174Z"
    }
   },
   "outputs": [
    {
     "name": "stdout",
     "output_type": "stream",
     "text": [
      "2\n",
      "(1000000, 2)\n",
      "((1000, 1000), (1000, 1000), (1000, 1000))\n",
      "2\n",
      "(1000000, 2)\n",
      "((1000, 1000), (1000, 1000), (1000, 1000))\n"
     ]
    },
    {
     "data": {
      "image/png": "[encoded data removed]",
      "text/plain": [
       "<Figure size 792x324 with 4 Axes>"
      ]
     },
     "metadata": {
      "needs_background": "light"
     },
     "output_type": "display_data"
    }
   ],
   "source": [
    "#visualize a versus r\n",
    "x1lim=[0.05,0.5]\n",
    "x2lim=[1,50]\n",
    "# x2lim=[0,50]\n",
    "fontsize=16\n",
    "figsize=(11,4.5)#(16,6)#(16,14)\n",
    "xlabel=r'$r$ (cm)'\n",
    "ylabel=r'$a$ (cm$^2$/s)'\n",
    "cmap = mpl.cm.cool\n",
    "#columnal kwargs\n",
    "# vmin_lst=[1,1]\n",
    "# vmax_lst=[3,3]\n",
    "vmin_lst=[0,0]\n",
    "vmax_lst=[30,30]\n",
    "output_col_lst=['M','M']\n",
    "# output_col_lst=['m','M']\n",
    "#kwargs by row\n",
    "# r_lst=[0.1,0.2]\n",
    "kappa_lst=[250,500]\n",
    "kappa_col=2\n",
    "# cmaps = ['RdBu_r', 'RdBu_r']\n",
    "cmaps = ['viridis', 'viridis']\n",
    "title_foo=lambda kappa:f'kappa = {kappa:.0f} Hz'\n",
    "# fig,ax=plt.subplots()\n",
    "fig,axs=plt.subplots(ncols=2, figsize=figsize)\n",
    "# fig, axs = plt.subplots(2, len(kappa_lst), figsize=(16,14))\n",
    "D=2.0\n",
    "# kappa=500\n",
    "nsamples=1000\n",
    "col=0\n",
    "kappa_lst=[250,500]\n",
    "for col,kappa in enumerate(kappa_lst):\n",
    "    output_col=output_col_lst[col]\n",
    "    query = (df['D']==D)\n",
    "    query&= (df['kappa']==kappa)\n",
    "    query&= query_template\n",
    "    X=df.loc[query,['r','varkappa']].values\n",
    "    y_values=df.loc[query,output_col].values\n",
    "    interp = LinearNDInterpolator(X, y_values)\n",
    "    # interp = CloughTocher2DInterpolator(X, y_values)\n",
    "\n",
    "    #TODO: make interpolator that maps X to y values everywhere\n",
    "    #TODO: make a grid realization of y_values\n",
    "    #TODO: how do I compute y_values previously?\n",
    "    #TODO: could this be as easy as a nested for-loop about each pixel value, running y_values=interp(X[j,:])\n",
    "\n",
    "    #define the local grid for visualization of N-dim interpolation\n",
    "    num_cols=X.shape[1]\n",
    "    xi=[]\n",
    "    for i in range(num_cols):\n",
    "        x=X[:,i]\n",
    "        xi.append( np.linspace(np.min(x), np.max(x),nsamples) )\n",
    "    XI=np.meshgrid(*xi)\n",
    "    print(len(XI))\n",
    "    x1_values=XI[0]\n",
    "    x2_values=XI[1]\n",
    "\n",
    "    # np.array(list(zip(XI))).shape\n",
    "    gridshape=x1_values.shape\n",
    "    X_values =np.array(list(zip((x1_values.flatten(),x2_values.flatten()))))[:,0,:].T\n",
    "    print(X_values.shape)\n",
    "    y_values = interp(X_values).reshape(gridshape[0],gridshape[1]) \n",
    "    # y_values = interp(X_values).reshape(gridshape[0],gridshape[1]) \n",
    "    print((x1_values.shape,x2_values.shape,y_values.shape))\n",
    "    ax=axs[col]\n",
    "    #ax = axs[row, col]\n",
    "    #     #plot heatmap in the next axis\n",
    "    #     #ax = axs[row, col]\n",
    "    vmin=vmin_lst[col]\n",
    "    vmax=vmax_lst[col]\n",
    "    pcm=ax.pcolormesh(x1_values, x2_values, y_values, vmin=vmin, vmax=vmax, cmap=cmaps[col])\n",
    "#     pcm=ax.pcolormesh(np.log(x1_values+1), np.log(x2_values+1), y_values, vmin=vmin, vmax=vmax, cmap=cmaps[col])\n",
    "    ax.set_xlim(x1lim)\n",
    "    ax.set_ylim(x2lim)\n",
    "    title=title_foo(kappa)\n",
    "    ax.set_title(title,fontsize=fontsize)\n",
    "    format_plot(ax, xlabel, ylabel, fontsize, use_loglog=False)\n",
    "    ax.set_xscale('log')\n",
    "#     ax.set_yscale('log')\n",
    "    cbar=fig.colorbar(pcm, ax=ax, shrink=0.6,label=output_col)#, location='top'\n",
    "    # fig.colorbar(pcm, ax=[axs[0, col]], location='top', shrink=0.6)\n",
    "    #     cbar=fig.colorbar(pcm, ax=axs[:, col],shrink=0.6)#,label=output_col)\n",
    "    cbar.ax.tick_params(labelsize=fontsize)\n",
    "    cbar.set_label(output_col, fontsize=fontsize)    \n",
    "plt.tight_layout()\n",
    "plt.show()\n"
   ]
  },
  {
   "cell_type": "code",
   "execution_count": 100,
   "metadata": {
    "ExecuteTime": {
     "end_time": "2021-09-02T21:11:52.827407Z",
     "start_time": "2021-09-02T21:11:51.270097Z"
    }
   },
   "outputs": [
    {
     "name": "stdout",
     "output_type": "stream",
     "text": [
      "2\n",
      "(1000000, 2)\n",
      "((1000, 1000), (1000, 1000), (1000, 1000))\n",
      "2\n",
      "(1000000, 2)\n",
      "((1000, 1000), (1000, 1000), (1000, 1000))\n"
     ]
    },
    {
     "data": {
      "image/png": "[encoded data removed]",
      "text/plain": [
       "<Figure size 792x324 with 4 Axes>"
      ]
     },
     "metadata": {
      "needs_background": "light"
     },
     "output_type": "display_data"
    }
   ],
   "source": [
    "#visualize a versus r\n",
    "x1lim=[0.05,0.5]\n",
    "x2lim=[1,50]\n",
    "# x2lim=[0,50]\n",
    "fontsize=16\n",
    "figsize=(11,4.5)#(16,6)#(16,14)\n",
    "xlabel=r'$r$ (cm)'\n",
    "ylabel=r'$a$ (cm$^2$/s)'\n",
    "cmap = mpl.cm.cool\n",
    "#columnal kwargs\n",
    "# vmin_lst=[1,1]\n",
    "# vmax_lst=[3,3]\n",
    "vmin_lst=[0,0]\n",
    "vmax_lst=[30,30]\n",
    "output_col_lst=['M','M']\n",
    "# output_col_lst=['m','M']\n",
    "#kwargs by row\n",
    "# r_lst=[0.1,0.2]\n",
    "kappa_lst=[250,500]\n",
    "kappa_col=2\n",
    "# cmaps = ['RdBu_r', 'RdBu_r']\n",
    "cmaps = ['viridis', 'viridis']\n",
    "title_foo=lambda kappa:f'kappa = {kappa:.0f} Hz'\n",
    "# fig,ax=plt.subplots()\n",
    "fig,axs=plt.subplots(ncols=2, figsize=figsize)\n",
    "# fig, axs = plt.subplots(2, len(kappa_lst), figsize=(16,14))\n",
    "D=2.0\n",
    "# kappa=500\n",
    "nsamples=1000\n",
    "col=0\n",
    "kappa_lst=[250,500]\n",
    "for col,kappa in enumerate(kappa_lst):\n",
    "    output_col=output_col_lst[col]\n",
    "    query = (df['D']==D)\n",
    "    query&= (df['kappa']==kappa)\n",
    "    query&= query_template\n",
    "    X=df.loc[query,['r','varkappa']].values\n",
    "    y_values=df.loc[query,output_col].values\n",
    "    interp = LinearNDInterpolator(X, y_values)\n",
    "    # interp = CloughTocher2DInterpolator(X, y_values)\n",
    "\n",
    "    #TODO: make interpolator that maps X to y values everywhere\n",
    "    #TODO: make a grid realization of y_values\n",
    "    #TODO: how do I compute y_values previously?\n",
    "    #TODO: could this be as easy as a nested for-loop about each pixel value, running y_values=interp(X[j,:])\n",
    "\n",
    "    #define the local grid for visualization of N-dim interpolation\n",
    "    num_cols=X.shape[1]\n",
    "    xi=[]\n",
    "    for i in range(num_cols):\n",
    "        x=X[:,i]\n",
    "        xi.append( np.linspace(np.min(x), np.max(x),nsamples) )\n",
    "    XI=np.meshgrid(*xi)\n",
    "    print(len(XI))\n",
    "    x1_values=XI[0]\n",
    "    x2_values=XI[1]\n",
    "\n",
    "    # np.array(list(zip(XI))).shape\n",
    "    gridshape=x1_values.shape\n",
    "    X_values =np.array(list(zip((x1_values.flatten(),x2_values.flatten()))))[:,0,:].T\n",
    "    print(X_values.shape)\n",
    "    y_values = interp(X_values).reshape(gridshape[0],gridshape[1]) \n",
    "    # y_values = interp(X_values).reshape(gridshape[0],gridshape[1]) \n",
    "    print((x1_values.shape,x2_values.shape,y_values.shape))\n",
    "    ax=axs[col]\n",
    "    #ax = axs[row, col]\n",
    "    #     #plot heatmap in the next axis\n",
    "    #     #ax = axs[row, col]\n",
    "    vmin=vmin_lst[col]\n",
    "    vmax=vmax_lst[col]\n",
    "    pcm=ax.pcolormesh(x1_values, x2_values, y_values, vmin=vmin, vmax=vmax, cmap=cmaps[col])\n",
    "#     pcm=ax.pcolormesh(np.log(x1_values+1), np.log(x2_values+1), y_values, vmin=vmin, vmax=vmax, cmap=cmaps[col])\n",
    "    ax.set_xlim(x1lim)\n",
    "    ax.set_ylim(x2lim)\n",
    "    title=title_foo(kappa)\n",
    "    ax.set_title(title,fontsize=fontsize)\n",
    "    format_plot(ax, xlabel, ylabel, fontsize, use_loglog=False)\n",
    "    ax.set_xscale('log')\n",
    "#     ax.set_yscale('log')\n",
    "    cbar=fig.colorbar(pcm, ax=ax, shrink=0.6,label=output_col)#, location='top'\n",
    "    # fig.colorbar(pcm, ax=[axs[0, col]], location='top', shrink=0.6)\n",
    "    #     cbar=fig.colorbar(pcm, ax=axs[:, col],shrink=0.6)#,label=output_col)\n",
    "    cbar.ax.tick_params(labelsize=fontsize)\n",
    "    cbar.set_label(output_col, fontsize=fontsize)    \n",
    "plt.tight_layout()\n",
    "plt.show()"
   ]
  },
  {
   "cell_type": "code",
   "execution_count": 103,
   "metadata": {
    "ExecuteTime": {
     "end_time": "2021-09-02T21:13:23.610778Z",
     "start_time": "2021-09-02T21:13:23.588832Z"
    }
   },
   "outputs": [],
   "source": [
    "# contours = plt.contour(x1_values, x2_values, y_values, 3, colors='black')\n",
    "# plt.clabel(contours, inline=True, fontsize=8)\n",
    "\n",
    "# plt.imshow(y_values, extent=[0.05, 0.5, 0, 50], origin='lower',\n",
    "#            cmap='RdGy', alpha=0.5)\n",
    "# # plt.colorbar();"
   ]
  },
  {
   "cell_type": "code",
   "execution_count": 104,
   "metadata": {
    "ExecuteTime": {
     "end_time": "2021-09-02T21:13:24.660409Z",
     "start_time": "2021-09-02T21:13:24.645065Z"
    }
   },
   "outputs": [
    {
     "data": {
      "text/plain": [
       "1"
      ]
     },
     "execution_count": 104,
     "metadata": {},
     "output_type": "execute_result"
    }
   ],
   "source": [
    "1"
   ]
  },
  {
   "cell_type": "markdown",
   "metadata": {
    "heading_collapsed": true
   },
   "source": [
    "## der scratchwerk%"
   ]
  },
  {
   "cell_type": "code",
   "execution_count": 826,
   "metadata": {
    "ExecuteTime": {
     "end_time": "2021-09-02T04:22:57.982430Z",
     "start_time": "2021-09-02T04:22:57.963732Z"
    },
    "hidden": true
   },
   "outputs": [],
   "source": [
    "#TODO: for a given local m measure in the r,a plane, compute the lewiner level set for a square lattice via the lookup-table implementation."
   ]
  },
  {
   "cell_type": "code",
   "execution_count": null,
   "metadata": {
    "hidden": true
   },
   "outputs": [],
   "source": [
    "#GOAL: level sets\n",
    "#TODO: copy existing method of level sets here!!!\n",
    "#heretim"
   ]
  },
  {
   "cell_type": "code",
   "execution_count": null,
   "metadata": {
    "hidden": true
   },
   "outputs": [],
   "source": []
  },
  {
   "cell_type": "code",
   "execution_count": null,
   "metadata": {
    "hidden": true
   },
   "outputs": [],
   "source": []
  },
  {
   "cell_type": "code",
   "execution_count": 759,
   "metadata": {
    "ExecuteTime": {
     "end_time": "2021-09-02T03:42:47.587282Z",
     "start_time": "2021-09-02T03:42:47.565239Z"
    },
    "hidden": true
   },
   "outputs": [
    {
     "data": {
      "text/plain": [
       "((175, 2), (175,))"
      ]
     },
     "execution_count": 759,
     "metadata": {},
     "output_type": "execute_result"
    }
   ],
   "source": [
    "X.shape,y_values.shape"
   ]
  },
  {
   "cell_type": "code",
   "execution_count": 757,
   "metadata": {
    "ExecuteTime": {
     "end_time": "2021-09-02T03:20:50.831691Z",
     "start_time": "2021-09-02T03:20:50.791248Z"
    },
    "hidden": true
   },
   "outputs": [
    {
     "ename": "ValueError",
     "evalue": "not enough values to unpack (expected 2, got 1)",
     "output_type": "error",
     "traceback": [
      "\u001b[0;31m-------------------------------------------\u001b[0m",
      "\u001b[0;31mValueError\u001b[0mTraceback (most recent call last)",
      "\u001b[0;32m<ipython-input-757-44b3c1e30fbd>\u001b[0m in \u001b[0;36m<module>\u001b[0;34m\u001b[0m\n\u001b[1;32m      3\u001b[0m \u001b[0;31m#     vmin=vmin_lst[col]\u001b[0m\u001b[0;34m\u001b[0m\u001b[0;34m\u001b[0m\u001b[0;34m\u001b[0m\u001b[0m\n\u001b[1;32m      4\u001b[0m \u001b[0;31m#     vmax=vmax_lst[col]\u001b[0m\u001b[0;34m\u001b[0m\u001b[0;34m\u001b[0m\u001b[0;34m\u001b[0m\u001b[0m\n\u001b[0;32m----> 5\u001b[0;31m \u001b[0mpcm\u001b[0m\u001b[0;34m=\u001b[0m\u001b[0max\u001b[0m\u001b[0;34m.\u001b[0m\u001b[0mpcolormesh\u001b[0m\u001b[0;34m(\u001b[0m\u001b[0mx1_values\u001b[0m\u001b[0;34m,\u001b[0m \u001b[0mx2_values\u001b[0m\u001b[0;34m,\u001b[0m \u001b[0my_values\u001b[0m\u001b[0;34m)\u001b[0m\u001b[0;31m#, vmin=vmin, vmax=vmax, cmap=cmaps[col])\u001b[0m\u001b[0;34m\u001b[0m\u001b[0;34m\u001b[0m\u001b[0m\n\u001b[0m",
      "\u001b[0;32m~/anaconda3/lib/python3.7/site-packages/matplotlib/__init__.py\u001b[0m in \u001b[0;36minner\u001b[0;34m(ax, data, *args, **kwargs)\u001b[0m\n\u001b[1;32m   1597\u001b[0m     \u001b[0;32mdef\u001b[0m \u001b[0minner\u001b[0m\u001b[0;34m(\u001b[0m\u001b[0max\u001b[0m\u001b[0;34m,\u001b[0m \u001b[0;34m*\u001b[0m\u001b[0margs\u001b[0m\u001b[0;34m,\u001b[0m \u001b[0mdata\u001b[0m\u001b[0;34m=\u001b[0m\u001b[0;32mNone\u001b[0m\u001b[0;34m,\u001b[0m \u001b[0;34m**\u001b[0m\u001b[0mkwargs\u001b[0m\u001b[0;34m)\u001b[0m\u001b[0;34m:\u001b[0m\u001b[0;34m\u001b[0m\u001b[0;34m\u001b[0m\u001b[0m\n\u001b[1;32m   1598\u001b[0m         \u001b[0;32mif\u001b[0m \u001b[0mdata\u001b[0m \u001b[0;32mis\u001b[0m \u001b[0;32mNone\u001b[0m\u001b[0;34m:\u001b[0m\u001b[0;34m\u001b[0m\u001b[0;34m\u001b[0m\u001b[0m\n\u001b[0;32m-> 1599\u001b[0;31m             \u001b[0;32mreturn\u001b[0m \u001b[0mfunc\u001b[0m\u001b[0;34m(\u001b[0m\u001b[0max\u001b[0m\u001b[0;34m,\u001b[0m \u001b[0;34m*\u001b[0m\u001b[0mmap\u001b[0m\u001b[0;34m(\u001b[0m\u001b[0msanitize_sequence\u001b[0m\u001b[0;34m,\u001b[0m \u001b[0margs\u001b[0m\u001b[0;34m)\u001b[0m\u001b[0;34m,\u001b[0m \u001b[0;34m**\u001b[0m\u001b[0mkwargs\u001b[0m\u001b[0;34m)\u001b[0m\u001b[0;34m\u001b[0m\u001b[0;34m\u001b[0m\u001b[0m\n\u001b[0m\u001b[1;32m   1600\u001b[0m \u001b[0;34m\u001b[0m\u001b[0m\n\u001b[1;32m   1601\u001b[0m         \u001b[0mbound\u001b[0m \u001b[0;34m=\u001b[0m \u001b[0mnew_sig\u001b[0m\u001b[0;34m.\u001b[0m\u001b[0mbind\u001b[0m\u001b[0;34m(\u001b[0m\u001b[0max\u001b[0m\u001b[0;34m,\u001b[0m \u001b[0;34m*\u001b[0m\u001b[0margs\u001b[0m\u001b[0;34m,\u001b[0m \u001b[0;34m**\u001b[0m\u001b[0mkwargs\u001b[0m\u001b[0;34m)\u001b[0m\u001b[0;34m\u001b[0m\u001b[0;34m\u001b[0m\u001b[0m\n",
      "\u001b[0;32m~/anaconda3/lib/python3.7/site-packages/matplotlib/axes/_axes.py\u001b[0m in \u001b[0;36mpcolormesh\u001b[0;34m(self, alpha, norm, cmap, vmin, vmax, shading, antialiased, *args, **kwargs)\u001b[0m\n\u001b[1;32m   6163\u001b[0m         \u001b[0mallmatch\u001b[0m \u001b[0;34m=\u001b[0m \u001b[0;34m(\u001b[0m\u001b[0mshading\u001b[0m \u001b[0;34m==\u001b[0m \u001b[0;34m'gouraud'\u001b[0m\u001b[0;34m)\u001b[0m\u001b[0;34m\u001b[0m\u001b[0;34m\u001b[0m\u001b[0m\n\u001b[1;32m   6164\u001b[0m \u001b[0;34m\u001b[0m\u001b[0m\n\u001b[0;32m-> 6165\u001b[0;31m         \u001b[0mX\u001b[0m\u001b[0;34m,\u001b[0m \u001b[0mY\u001b[0m\u001b[0;34m,\u001b[0m \u001b[0mC\u001b[0m \u001b[0;34m=\u001b[0m \u001b[0mself\u001b[0m\u001b[0;34m.\u001b[0m\u001b[0m_pcolorargs\u001b[0m\u001b[0;34m(\u001b[0m\u001b[0;34m'pcolormesh'\u001b[0m\u001b[0;34m,\u001b[0m \u001b[0;34m*\u001b[0m\u001b[0margs\u001b[0m\u001b[0;34m,\u001b[0m \u001b[0mallmatch\u001b[0m\u001b[0;34m=\u001b[0m\u001b[0mallmatch\u001b[0m\u001b[0;34m)\u001b[0m\u001b[0;34m\u001b[0m\u001b[0;34m\u001b[0m\u001b[0m\n\u001b[0m\u001b[1;32m   6166\u001b[0m         \u001b[0mNy\u001b[0m\u001b[0;34m,\u001b[0m \u001b[0mNx\u001b[0m \u001b[0;34m=\u001b[0m \u001b[0mX\u001b[0m\u001b[0;34m.\u001b[0m\u001b[0mshape\u001b[0m\u001b[0;34m\u001b[0m\u001b[0;34m\u001b[0m\u001b[0m\n\u001b[1;32m   6167\u001b[0m         \u001b[0mX\u001b[0m \u001b[0;34m=\u001b[0m \u001b[0mX\u001b[0m\u001b[0;34m.\u001b[0m\u001b[0mravel\u001b[0m\u001b[0;34m(\u001b[0m\u001b[0;34m)\u001b[0m\u001b[0;34m\u001b[0m\u001b[0;34m\u001b[0m\u001b[0m\n",
      "\u001b[0;32m~/anaconda3/lib/python3.7/site-packages/matplotlib/axes/_axes.py\u001b[0m in \u001b[0;36m_pcolorargs\u001b[0;34m(funcname, allmatch, *args)\u001b[0m\n\u001b[1;32m   5732\u001b[0m                 \u001b[0;32mif\u001b[0m \u001b[0misinstance\u001b[0m\u001b[0;34m(\u001b[0m\u001b[0mY\u001b[0m\u001b[0;34m,\u001b[0m \u001b[0mnp\u001b[0m\u001b[0;34m.\u001b[0m\u001b[0mma\u001b[0m\u001b[0;34m.\u001b[0m\u001b[0mcore\u001b[0m\u001b[0;34m.\u001b[0m\u001b[0mMaskedArray\u001b[0m\u001b[0;34m)\u001b[0m\u001b[0;34m:\u001b[0m\u001b[0;34m\u001b[0m\u001b[0;34m\u001b[0m\u001b[0m\n\u001b[1;32m   5733\u001b[0m                     \u001b[0mY\u001b[0m \u001b[0;34m=\u001b[0m \u001b[0mY\u001b[0m\u001b[0;34m.\u001b[0m\u001b[0mdata\u001b[0m\u001b[0;34m\u001b[0m\u001b[0;34m\u001b[0m\u001b[0m\n\u001b[0;32m-> 5734\u001b[0;31m             \u001b[0mnumRows\u001b[0m\u001b[0;34m,\u001b[0m \u001b[0mnumCols\u001b[0m \u001b[0;34m=\u001b[0m \u001b[0mC\u001b[0m\u001b[0;34m.\u001b[0m\u001b[0mshape\u001b[0m\u001b[0;34m\u001b[0m\u001b[0;34m\u001b[0m\u001b[0m\n\u001b[0m\u001b[1;32m   5735\u001b[0m         \u001b[0;32melse\u001b[0m\u001b[0;34m:\u001b[0m\u001b[0;34m\u001b[0m\u001b[0;34m\u001b[0m\u001b[0m\n\u001b[1;32m   5736\u001b[0m             raise TypeError(\n",
      "\u001b[0;31mValueError\u001b[0m: not enough values to unpack (expected 2, got 1)"
     ]
    }
   ],
   "source": [
    "#  plot heatmap in the next axis\n",
    "#ax = axs[row, col]\n",
    "#     vmin=vmin_lst[col]\n",
    "#     vmax=vmax_lst[col]\n",
    "pcm=ax.pcolormesh(x1_values, x2_values, y_values)#, vmin=vmin, vmax=vmax, cmap=cmaps[col])\n"
   ]
  },
  {
   "cell_type": "code",
   "execution_count": 758,
   "metadata": {
    "ExecuteTime": {
     "end_time": "2021-09-02T03:20:51.693183Z",
     "start_time": "2021-09-02T03:20:51.673201Z"
    },
    "hidden": true
   },
   "outputs": [
    {
     "data": {
      "text/plain": [
       "((175, 2), (50, 50), (50, 50), (175,))"
      ]
     },
     "execution_count": 758,
     "metadata": {},
     "output_type": "execute_result"
    }
   ],
   "source": [
    "X.shape,x1_values.shape,x2_values.shape,y_values.shape"
   ]
  },
  {
   "cell_type": "code",
   "execution_count": 760,
   "metadata": {
    "ExecuteTime": {
     "end_time": "2021-09-02T03:43:29.074676Z",
     "start_time": "2021-09-02T03:43:29.034455Z"
    },
    "hidden": true
   },
   "outputs": [
    {
     "ename": "ValueError",
     "evalue": "zero-size array to reduction operation minimum which has no identity",
     "output_type": "error",
     "traceback": [
      "\u001b[0;31m-------------------------------------------\u001b[0m",
      "\u001b[0;31mValueError\u001b[0mTraceback (most recent call last)",
      "\u001b[0;32m<ipython-input-760-0880fb7eba66>\u001b[0m in \u001b[0;36m<module>\u001b[0;34m\u001b[0m\n\u001b[1;32m     26\u001b[0m \u001b[0;32mfor\u001b[0m \u001b[0mi\u001b[0m \u001b[0;32min\u001b[0m \u001b[0mrange\u001b[0m\u001b[0;34m(\u001b[0m\u001b[0mnum_cols\u001b[0m\u001b[0;34m)\u001b[0m\u001b[0;34m:\u001b[0m\u001b[0;34m\u001b[0m\u001b[0;34m\u001b[0m\u001b[0m\n\u001b[1;32m     27\u001b[0m     \u001b[0mx\u001b[0m\u001b[0;34m=\u001b[0m\u001b[0mX\u001b[0m\u001b[0;34m[\u001b[0m\u001b[0;34m:\u001b[0m\u001b[0;34m,\u001b[0m\u001b[0mi\u001b[0m\u001b[0;34m]\u001b[0m\u001b[0;34m\u001b[0m\u001b[0;34m\u001b[0m\u001b[0m\n\u001b[0;32m---> 28\u001b[0;31m     \u001b[0mxi\u001b[0m\u001b[0;34m.\u001b[0m\u001b[0mappend\u001b[0m\u001b[0;34m(\u001b[0m \u001b[0mnp\u001b[0m\u001b[0;34m.\u001b[0m\u001b[0mlinspace\u001b[0m\u001b[0;34m(\u001b[0m\u001b[0mnp\u001b[0m\u001b[0;34m.\u001b[0m\u001b[0mmin\u001b[0m\u001b[0;34m(\u001b[0m\u001b[0mx\u001b[0m\u001b[0;34m)\u001b[0m\u001b[0;34m,\u001b[0m \u001b[0mnp\u001b[0m\u001b[0;34m.\u001b[0m\u001b[0mmax\u001b[0m\u001b[0;34m(\u001b[0m\u001b[0mx\u001b[0m\u001b[0;34m)\u001b[0m\u001b[0;34m)\u001b[0m \u001b[0;34m)\u001b[0m\u001b[0;34m\u001b[0m\u001b[0;34m\u001b[0m\u001b[0m\n\u001b[0m\u001b[1;32m     29\u001b[0m \u001b[0;34m\u001b[0m\u001b[0m\n\u001b[1;32m     30\u001b[0m \u001b[0mXI\u001b[0m\u001b[0;34m=\u001b[0m\u001b[0mnp\u001b[0m\u001b[0;34m.\u001b[0m\u001b[0mmeshgrid\u001b[0m\u001b[0;34m(\u001b[0m\u001b[0;34m*\u001b[0m\u001b[0mxi\u001b[0m\u001b[0;34m)\u001b[0m\u001b[0;34m\u001b[0m\u001b[0;34m\u001b[0m\u001b[0m\n",
      "\u001b[0;32m<__array_function__ internals>\u001b[0m in \u001b[0;36mamin\u001b[0;34m(*args, **kwargs)\u001b[0m\n",
      "\u001b[0;32m~/anaconda3/lib/python3.7/site-packages/numpy/core/fromnumeric.py\u001b[0m in \u001b[0;36mamin\u001b[0;34m(a, axis, out, keepdims, initial, where)\u001b[0m\n\u001b[1;32m   2829\u001b[0m     \"\"\"\n\u001b[1;32m   2830\u001b[0m     return _wrapreduction(a, np.minimum, 'min', axis, None, out,\n\u001b[0;32m-> 2831\u001b[0;31m                           keepdims=keepdims, initial=initial, where=where)\n\u001b[0m\u001b[1;32m   2832\u001b[0m \u001b[0;34m\u001b[0m\u001b[0m\n\u001b[1;32m   2833\u001b[0m \u001b[0;34m\u001b[0m\u001b[0m\n",
      "\u001b[0;32m~/anaconda3/lib/python3.7/site-packages/numpy/core/fromnumeric.py\u001b[0m in \u001b[0;36m_wrapreduction\u001b[0;34m(obj, ufunc, method, axis, dtype, out, **kwargs)\u001b[0m\n\u001b[1;32m     85\u001b[0m                 \u001b[0;32mreturn\u001b[0m \u001b[0mreduction\u001b[0m\u001b[0;34m(\u001b[0m\u001b[0maxis\u001b[0m\u001b[0;34m=\u001b[0m\u001b[0maxis\u001b[0m\u001b[0;34m,\u001b[0m \u001b[0mout\u001b[0m\u001b[0;34m=\u001b[0m\u001b[0mout\u001b[0m\u001b[0;34m,\u001b[0m \u001b[0;34m**\u001b[0m\u001b[0mpasskwargs\u001b[0m\u001b[0;34m)\u001b[0m\u001b[0;34m\u001b[0m\u001b[0;34m\u001b[0m\u001b[0m\n\u001b[1;32m     86\u001b[0m \u001b[0;34m\u001b[0m\u001b[0m\n\u001b[0;32m---> 87\u001b[0;31m     \u001b[0;32mreturn\u001b[0m \u001b[0mufunc\u001b[0m\u001b[0;34m.\u001b[0m\u001b[0mreduce\u001b[0m\u001b[0;34m(\u001b[0m\u001b[0mobj\u001b[0m\u001b[0;34m,\u001b[0m \u001b[0maxis\u001b[0m\u001b[0;34m,\u001b[0m \u001b[0mdtype\u001b[0m\u001b[0;34m,\u001b[0m \u001b[0mout\u001b[0m\u001b[0;34m,\u001b[0m \u001b[0;34m**\u001b[0m\u001b[0mpasskwargs\u001b[0m\u001b[0;34m)\u001b[0m\u001b[0;34m\u001b[0m\u001b[0;34m\u001b[0m\u001b[0m\n\u001b[0m\u001b[1;32m     88\u001b[0m \u001b[0;34m\u001b[0m\u001b[0m\n\u001b[1;32m     89\u001b[0m \u001b[0;34m\u001b[0m\u001b[0m\n",
      "\u001b[0;31mValueError\u001b[0m: zero-size array to reduction operation minimum which has no identity"
     ]
    }
   ],
   "source": [
    "#define parameters to be varied\n",
    "# input_cols=['r','D','varkappa']#,x0\n",
    "input_cols=['r','kappa','D','varkappa']#,x0\n",
    "output_col='m'\n",
    "#inputs:dg,input_cols,output_col\n",
    "#output: fitted model\n",
    "\n",
    "#solution for the r,D,a basis\n",
    "#restrict to fixed reaction range\n",
    "# r=0.1 #cm\n",
    "D=2\n",
    "fixed_value=D#r\n",
    "fixed_row=1\n",
    "\n",
    "unfixed_rows=[0,2]\n",
    "boo=Xall[:,fixed_row]==fixed_value\n",
    "X=Xall[boo,1:3].copy()\n",
    "X[:,0]=Xall[boo,unfixed_rows[0]].copy()\n",
    "X[:,1]=Xall[boo,unfixed_rows[1]].copy()\n",
    "X[:,1]=Xall[boo,unfixed_rows[1]].copy()\n",
    "y=yall[boo].copy()\n",
    "\n",
    "#define the local grid for visualization of N-dim interpolation\n",
    "num_cols=X.shape[1]\n",
    "xi=[]\n",
    "for i in range(num_cols):\n",
    "    x=X[:,i]\n",
    "    xi.append( np.linspace(np.min(x), np.max(x)) )\n",
    "\n",
    "XI=np.meshgrid(*xi)\n",
    "print(len(XI))\n",
    "\n",
    "x1_values=XI[0]\n",
    "x2_values=XI[1]\n",
    "\n"
   ]
  },
  {
   "cell_type": "code",
   "execution_count": null,
   "metadata": {
    "ExecuteTime": {
     "end_time": "2021-09-02T03:00:02.152879Z",
     "start_time": "2021-09-02T03:00:02.128692Z"
    },
    "hidden": true
   },
   "outputs": [],
   "source": []
  },
  {
   "cell_type": "code",
   "execution_count": null,
   "metadata": {
    "hidden": true
   },
   "outputs": [],
   "source": [
    "        #heretim\n",
    "        X=Xall[boo,1:3].copy()  #make the x,y axis the 2nd and 3rd columns of X\n",
    "        y=yall[boo].copy()\n",
    "        #TODO: compute the m,M fits\n",
    "        #TODO: compute the interpolated values of y on this 2D grid\n",
    "        # interp = LinearNDInterpolator(X, y)\n",
    "        interp = CloughTocher2DInterpolator(X, y)\n",
    "\n",
    "        #define the local grid for visualization of N-dim interpolation\n",
    "        num_cols=X.shape[1]\n",
    "        xi=[]\n",
    "        for i in range(num_cols):\n",
    "            x=X[:,i]\n",
    "            xi.append( np.linspace(np.min(x), np.max(x)) )\n",
    "        XI=np.meshgrid(*xi)\n",
    "        x1_values=XI[0]\n",
    "        x2_values=XI[1]\n",
    "\n",
    "        # np.array(list(zip(XI))).shape\n",
    "        gridshape=x1_values.shape\n",
    "        X_values =np.array(list(zip((x1_values.flatten(),x2_values.flatten()))))[:,0,:].T\n",
    "        y_values = interp(X_values).reshape(gridshape[0],gridshape[1]) \n",
    "        \n",
    "        ax = axs[row, col]\n",
    "        vmin=vmin_lst[col]\n",
    "        vmax=vmax_lst[col]\n",
    "        pcm=ax.pcolormesh(x1_values, x2_values, y_values, vmin=vmin, vmax=vmax, cmap=cmaps[col])\n",
    "       \n",
    "    \n",
    "    "
   ]
  },
  {
   "cell_type": "code",
   "execution_count": 717,
   "metadata": {
    "ExecuteTime": {
     "end_time": "2021-09-02T03:04:41.276869Z",
     "start_time": "2021-09-02T03:04:41.253319Z"
    },
    "hidden": true
   },
   "outputs": [
    {
     "data": {
      "text/plain": [
       "(50, 50)"
      ]
     },
     "execution_count": 717,
     "metadata": {},
     "output_type": "execute_result"
    }
   ],
   "source": [
    "\n",
    "\n",
    "# np.array(list(zip(XI))).shape\n",
    "gridshape=x1_values.shape\n",
    "X_values=np.array(list(zip((x1_values.flatten(),x2_values.flatten()))))[:,0,:].T\n",
    "\n",
    "\n",
    "#TODO: compute the interpolated values of y on this 2D grid\n",
    "# interp = LinearNDInterpolator(X, y)\n",
    "interp = CloughTocher2DInterpolator(X, y)\n",
    "y_values = interp(X_values).reshape(gridshape[0],gridshape[1])\n",
    "y_values.shape\n",
    "# ,X_values.shape,x1_values.shape\n",
    "# y_values.reshape?"
   ]
  },
  {
   "cell_type": "code",
   "execution_count": 718,
   "metadata": {
    "ExecuteTime": {
     "end_time": "2021-09-02T03:04:43.288450Z",
     "start_time": "2021-09-02T03:04:42.777242Z"
    },
    "hidden": true
   },
   "outputs": [
    {
     "ename": "ValueError",
     "evalue": "No points given",
     "output_type": "error",
     "traceback": [
      "\u001b[0;31m-------------------------------------------\u001b[0m",
      "\u001b[0;31mValueError\u001b[0mTraceback (most recent call last)",
      "\u001b[0;32m<ipython-input-718-540928b22244>\u001b[0m in \u001b[0;36m<module>\u001b[0;34m\u001b[0m\n\u001b[1;32m     43\u001b[0m         \u001b[0;31m#TODO: compute the interpolated values of y on this 2D grid\u001b[0m\u001b[0;34m\u001b[0m\u001b[0;34m\u001b[0m\u001b[0;34m\u001b[0m\u001b[0m\n\u001b[1;32m     44\u001b[0m         \u001b[0;31m# interp = LinearNDInterpolator(X, y)\u001b[0m\u001b[0;34m\u001b[0m\u001b[0;34m\u001b[0m\u001b[0;34m\u001b[0m\u001b[0m\n\u001b[0;32m---> 45\u001b[0;31m         \u001b[0minterp\u001b[0m \u001b[0;34m=\u001b[0m \u001b[0mCloughTocher2DInterpolator\u001b[0m\u001b[0;34m(\u001b[0m\u001b[0mX\u001b[0m\u001b[0;34m,\u001b[0m \u001b[0my\u001b[0m\u001b[0;34m)\u001b[0m\u001b[0;34m\u001b[0m\u001b[0;34m\u001b[0m\u001b[0m\n\u001b[0m\u001b[1;32m     46\u001b[0m \u001b[0;34m\u001b[0m\u001b[0m\n\u001b[1;32m     47\u001b[0m         \u001b[0;31m#define the local grid for visualization of N-dim interpolation\u001b[0m\u001b[0;34m\u001b[0m\u001b[0;34m\u001b[0m\u001b[0;34m\u001b[0m\u001b[0m\n",
      "\u001b[0;32minterpnd.pyx\u001b[0m in \u001b[0;36mscipy.interpolate.interpnd.CloughTocher2DInterpolator.__init__\u001b[0;34m()\u001b[0m\n",
      "\u001b[0;32mqhull.pyx\u001b[0m in \u001b[0;36mscipy.spatial.qhull.Delaunay.__init__\u001b[0;34m()\u001b[0m\n",
      "\u001b[0;32mqhull.pyx\u001b[0m in \u001b[0;36mscipy.spatial.qhull._Qhull.__init__\u001b[0;34m()\u001b[0m\n",
      "\u001b[0;31mValueError\u001b[0m: No points given"
     ]
    },
    {
     "data": {
      "image/png": "[encoded data removed]",
      "text/plain": [
       "<Figure size 1152x1008 with 4 Axes>"
      ]
     },
     "metadata": {
      "needs_background": "light"
     },
     "output_type": "display_data"
    }
   ],
   "source": [
    "#visualize a versus r\n",
    "x2lim=[0,20]\n",
    "x1lim=[0.05,0.5]#[np.min(x1_values),np.max(x1_values)]\n",
    "# x1lim=[np.min(x1_values),np.max(x1_values)]\n",
    "fontsize=15\n",
    "xlabel=r'$r$ (cm)'\n",
    "ylabel=r'$a$ (cm$^2$/s)'\n",
    "cmap = mpl.cm.cool\n",
    "\n",
    "#TODO: compute the interpolated m (left) and the interpolated M (right) for each pixel.\n",
    "#HINT: if col==0: # then, get fitted m values\n",
    "#HINT: if col==1: # then, get fitted M values\n",
    "\n",
    "Xall=dg[input_cols].values \n",
    "\n",
    "#columnal kwargs\n",
    "vmin_lst=[1,0]\n",
    "vmax_lst=[3,30]\n",
    "output_col_lst=['m','M']\n",
    "#kwargs by row\n",
    "# r_lst=[0.1,0.2]\n",
    "kappa_lst=[250,500]\n",
    "kappa_col=2\n",
    "fig, axs = plt.subplots(2, len(kappa_lst), figsize=(16,14))\n",
    "cmaps = ['RdBu_r', 'viridis']\n",
    "title_foo=lambda kappa:f'kappa = {kappa:.1f} Hz'\n",
    "\n",
    "for col in range(2):\n",
    "    #extract target output value to fit to\n",
    "    output_col=output_col_lst[col]\n",
    "    yall=dg[output_col].values\n",
    "    for row in range(2):\n",
    "        #restrict to fixed reaction range\n",
    "        kappa=kappa_lst[row]\n",
    "        title=title_foo(kappa)#f'r = {r:.1f} cm'\n",
    "        boo=Xall[:,kappa_col]==kappa\n",
    "        \n",
    "        \n",
    "        #heretim\n",
    "        X=Xall[boo,1:3].copy()  #make the x,y axis the 2nd and 3rd columns of X\n",
    "        y=yall[boo].copy()\n",
    "        #TODO: compute the m,M fits\n",
    "        #TODO: compute the interpolated values of y on this 2D grid\n",
    "        # interp = LinearNDInterpolator(X, y)\n",
    "        interp = CloughTocher2DInterpolator(X, y)\n",
    "\n",
    "        #define the local grid for visualization of N-dim interpolation\n",
    "        num_cols=X.shape[1]\n",
    "        xi=[]\n",
    "        for i in range(num_cols):\n",
    "            x=X[:,i]\n",
    "            xi.append( np.linspace(np.min(x), np.max(x)) )\n",
    "        XI=np.meshgrid(*xi)\n",
    "        x1_values=XI[0]\n",
    "        x2_values=XI[1]\n",
    "\n",
    "        # np.array(list(zip(XI))).shape\n",
    "        gridshape=x1_values.shape\n",
    "        X_values =np.array(list(zip((x1_values.flatten(),x2_values.flatten()))))[:,0,:].T\n",
    "        y_values = interp(X_values).reshape(gridshape[0],gridshape[1]) \n",
    "        \n",
    "        ax = axs[row, col]\n",
    "        vmin=vmin_lst[col]\n",
    "        vmax=vmax_lst[col]\n",
    "        pcm=ax.pcolormesh(x1_values, x2_values, y_values, vmin=vmin, vmax=vmax, cmap=cmaps[col])\n",
    "        \n",
    "        \n",
    "        ax.set_xlim(x1lim)\n",
    "        ax.set_ylim(x2lim)\n",
    "        ax.set_title(title,fontsize=fontsize)\n",
    "        format_plot(ax, xlabel, ylabel, fontsize)#, use_loglog=False\n",
    "        \n",
    "#     fig.colorbar(pcm, ax=[axs[0, col]], location='top', shrink=0.6)\n",
    "    cbar=fig.colorbar(pcm, ax=axs[:, col],shrink=0.6)#,label=output_col)\n",
    "    cbar.ax.tick_params(labelsize=fontsize)\n",
    "    cbar.set_label(output_col, fontsize=fontsize)    \n",
    "# plt.tight_layout()\n",
    "plt.show()"
   ]
  },
  {
   "cell_type": "code",
   "execution_count": null,
   "metadata": {
    "ExecuteTime": {
     "end_time": "2021-09-02T02:27:25.575888Z",
     "start_time": "2021-09-02T02:27:25.557000Z"
    },
    "hidden": true
   },
   "outputs": [],
   "source": []
  },
  {
   "cell_type": "code",
   "execution_count": null,
   "metadata": {
    "hidden": true
   },
   "outputs": [],
   "source": []
  },
  {
   "cell_type": "code",
   "execution_count": null,
   "metadata": {
    "hidden": true
   },
   "outputs": [],
   "source": []
  },
  {
   "cell_type": "code",
   "execution_count": null,
   "metadata": {
    "hidden": true
   },
   "outputs": [],
   "source": []
  },
  {
   "cell_type": "markdown",
   "metadata": {
    "heading_collapsed": true
   },
   "source": [
    "# TODO(for concrete results): compute a reasonable set of r,D,a values for the m,M corresponding to the full models"
   ]
  },
  {
   "cell_type": "code",
   "execution_count": 326,
   "metadata": {
    "ExecuteTime": {
     "end_time": "2021-09-01T01:20:05.174798Z",
     "start_time": "2021-09-01T01:20:05.140219Z"
    },
    "hidden": true
   },
   "outputs": [],
   "source": [
    "# # interp.tri?\n",
    "# # Examples\n",
    "# # --------\n",
    "# # Triangulation of a set of points:\n",
    "\n",
    "# points = np.array([[0, 0], [0, 1.1], [1, 0], [1, 1]])\n",
    "# from scipy.spatial import Delaunay\n",
    "# tri = Delaunay(points)\n",
    "\n",
    "# # We can plot it:\n",
    "\n",
    "# import matplotlib.pyplot as plt\n",
    "# plt.triplot(points[:,0], points[:,1], tri.simplices)\n",
    "# plt.plot(points[:,0], points[:,1], 'o')\n",
    "# plt.show()"
   ]
  },
  {
   "cell_type": "code",
   "execution_count": 328,
   "metadata": {
    "ExecuteTime": {
     "end_time": "2021-09-01T01:20:10.558964Z",
     "start_time": "2021-09-01T01:20:10.546574Z"
    },
    "hidden": true
   },
   "outputs": [],
   "source": [
    "# # Point indices and coordinates for the two triangles forming the triangulation:\n",
    "# print(tri.simplices)\n",
    "\n",
    "# # Note that depending on how rounding errors go, the simplices may\n",
    "# # be in a different order than above.\n",
    "# print(points[tri.simplices])\n",
    "# # Triangle 0 is the only neighbor of triangle 1, and it's opposite to vertex 1 of triangle 1:\n",
    "\n",
    "# print((tri.neighbors[1],points[tri.simplices[1,1]]))\n",
    "\n",
    "# # We can find out which triangle points are in:\n",
    "\n",
    "# p = np.array([(0.1, 0.2), (1.5, 0.5), (0.5, 1.05)])\n",
    "# print(tri.find_simplex(p))\n",
    "# # The returned integers in the array are the indices of the simplex the\n",
    "# # corresponding point is in. If -1 is returned, the point is in no simplex.\n",
    "# # Be aware that the shortcut in the following example only works corretcly\n",
    "# # for valid points as invalid points result in -1 which is itself a valid\n",
    "# # index for the last simplex in the list.\n",
    "\n",
    "# p_valids = np.array([(0.1, 0.2), (0.5, 1.05)])\n",
    "# tri.simplices[tri.find_simplex(p_valids)]\n",
    "\n",
    "# # We can also compute barycentric coordinates in triangle 1 for these points:\n",
    "\n",
    "# b = tri.transform[1,:2].dot(np.transpose(p - tri.transform[1,2]))\n",
    "# np.c_[np.transpose(b), 1 - b.sum(axis=0)]\n",
    "\n",
    "# # The coordinates for the first point are all positive, meaning it\n",
    "# # is indeed inside the triangle. The third point is on a vertex,\n",
    "# # hence its null third coordinate."
   ]
  },
  {
   "cell_type": "code",
   "execution_count": 437,
   "metadata": {
    "ExecuteTime": {
     "end_time": "2021-09-01T04:28:40.303635Z",
     "start_time": "2021-09-01T04:28:40.263874Z"
    },
    "hidden": true
   },
   "outputs": [],
   "source": [
    "# Recall powerlaw fits to full models\n",
    "# Fenton-Karma(PBC) \n",
    "m, Delta_m, M, Delta_M = 1.8772341309722325, 0.02498750277237229, 5.572315674840435, 0.3053120355191732\n",
    "# Luo-Rudy(PBC) \n",
    "m, Delta_m, M, Delta_M = 1.6375562704001745, 0.017190912126700632, 16.73559858353835, 0.8465090320196467\n",
    "\n",
    "# # Fenton-Karma(NCBC) \n",
    "# m, Delta_m, M, Delta_M = 1.854156794480594, 0.02503190538288011, 7.135532649256895, 0.4548432215549294\n",
    "# # Luo-Rudy(NCBC) \n",
    "# m, Delta_m, M, Delta_M = 1.6611400039209043, 0.02740424198712116, 16.75061667963681, 1.3110747548319708\n",
    "\n",
    "#TODO: find the values closest to m\n",
    "ytrgt=M\n",
    "k=20\n",
    "input_cols=['r','kappa', 'D', 'varkappa']\n",
    "output_col='m'"
   ]
  },
  {
   "cell_type": "code",
   "execution_count": 436,
   "metadata": {
    "ExecuteTime": {
     "end_time": "2021-09-01T04:26:42.595372Z",
     "start_time": "2021-09-01T04:26:42.543459Z"
    },
    "hidden": true
   },
   "outputs": [
    {
     "name": "stdout",
     "output_type": "stream",
     "text": [
      "the number of training examples is 2450\n"
     ]
    },
    {
     "ename": "QhullError",
     "evalue": "QH6154 Qhull precision error: Initial simplex is flat (facet 1 is coplanar with the interior point)\n\nWhile executing:  | qhull d Qc Qt Q12 Qbb Qz\nOptions selected for Qhull 2019.1.r 2019/06/21:\n  run-id 1424710694  delaunay  Qcoplanar-keep  Qtriangulate  Q12-allow-wide\n  Qbbound-last  Qz-infinity-point  _pre-merge  _zero-centrum  Qinterior-keep\n  Pgood  _max-width 1.1e+02  Error-roundoff 1.4e-12  _one-merge 1.5e-11\n  Visible-distance 8.2e-12  U-max-coplanar 8.2e-12  Width-outside 1.6e-11\n  _wide-facet 4.9e-11  _maxoutside 1.6e-11\n\nprecision problems (corrected unless 'Q0' or an error)\n      6 nearly singular or axis-parallel hyperplanes\n      6 zero divisors during back substitute\n   4899 zero divisors during gaussian elimination\n\nThe input to qhull appears to be less than 5 dimensional, or a\ncomputation has overflowed.\n\nQhull could not construct a clearly convex simplex from points:\n- p4(v6):  0.05 5e+02   1.4     0 0.019\n- p12(v5):   0.4 5e+02     2     6  0.52\n- p22(v4):   0.1 5e+02   0.7     2 0.052\n- p0(v3):   0.4 5e+02   1.6     1 0.042\n- p26(v2):   0.5 5e+02   0.9    50    33\n- p1(v1):  0.05 5e+02   1.9     1 0.054\n\nThe center point is coplanar with a facet, or a vertex is coplanar\nwith a neighboring facet.  The maximum round off error for\ncomputing distances is 1.4e-12.  The center point, facets and distances\nto the center point are as follows:\n\ncenter point     0.25      500    1.417       10    5.553\n\nfacet p12 p22 p0 p26 p1 distance=    0\nfacet p4 p22 p0 p26 p1 distance=    0\nfacet p4 p12 p0 p26 p1 distance=    0\nfacet p4 p12 p22 p26 p1 distance=    0\nfacet p4 p12 p22 p0 p1 distance=    0\nfacet p4 p12 p22 p0 p26 distance=    0\n\nThese points either have a maximum or minimum x-coordinate, or\nthey maximize the determinant for k coordinates.  Trial points\nare first selected from points that maximize a coordinate.\n\nThe min and max coordinates for each dimension are:\n  0:      0.05       0.5  difference= 0.45\n  1:       500       500  difference=    0\n  2:       0.7         2  difference=  1.3\n  3:         0       110  difference=  110\n  4:         0       500  difference=  500\n\nIf the input should be full dimensional, you have several options that\nmay determine an initial simplex:\n  - use 'QJ'  to joggle the input and make it full dimensional\n  - use 'QbB' to scale the points to the unit cube\n  - use 'QR0' to randomly rotate the input for different maximum points\n  - use 'Qs'  to search all points for the initial simplex\n  - use 'En'  to specify a maximum roundoff error less than 1.4e-12.\n  - trace execution with 'T3' to see the determinant for each point.\n\nIf the input is lower dimensional:\n  - use 'QJ' to joggle the input and make it full dimensional\n  - use 'Qbk:0Bk:0' to delete coordinate k from the input.  You should\n    pick the coordinate with the least range.  The hull will have the\n    correct topology.\n  - determine the flat containing the points, rotate the points\n    into a coordinate plane, and delete the other coordinates.\n  - add one or more points to make the input full dimensional.\n",
     "output_type": "error",
     "traceback": [
      "\u001b[0;31m---------------------------------------------------------------------------\u001b[0m",
      "\u001b[0;31mQhullError\u001b[0m                                Traceback (most recent call last)",
      "\u001b[0;32m<ipython-input-436-9a7e7ff11f8c>\u001b[0m in \u001b[0;36m<module>\u001b[0;34m\u001b[0m\n\u001b[1;32m     36\u001b[0m \u001b[0;32mtry\u001b[0m\u001b[0;34m:\u001b[0m\u001b[0;34m\u001b[0m\u001b[0;34m\u001b[0m\u001b[0m\n\u001b[0;32m---> 37\u001b[0;31m     \u001b[0minterp\u001b[0m \u001b[0;34m=\u001b[0m \u001b[0mLinearNDInterpolator\u001b[0m\u001b[0;34m(\u001b[0m\u001b[0mX\u001b[0m\u001b[0;34m,\u001b[0m \u001b[0my\u001b[0m\u001b[0;34m)\u001b[0m\u001b[0;34m\u001b[0m\u001b[0;34m\u001b[0m\u001b[0m\n\u001b[0m\u001b[1;32m     38\u001b[0m     \u001b[0myhat\u001b[0m \u001b[0;34m=\u001b[0m \u001b[0minterp\u001b[0m\u001b[0;34m(\u001b[0m\u001b[0mX\u001b[0m\u001b[0;34m)\u001b[0m\u001b[0;34m\u001b[0m\u001b[0;34m\u001b[0m\u001b[0m\n",
      "\u001b[0;32minterpnd.pyx\u001b[0m in \u001b[0;36mscipy.interpolate.interpnd.LinearNDInterpolator.__init__\u001b[0;34m()\u001b[0m\n",
      "\u001b[0;32mqhull.pyx\u001b[0m in \u001b[0;36mscipy.spatial.qhull.Delaunay.__init__\u001b[0;34m()\u001b[0m\n",
      "\u001b[0;32mqhull.pyx\u001b[0m in \u001b[0;36mscipy.spatial.qhull._Qhull.__init__\u001b[0;34m()\u001b[0m\n",
      "\u001b[0;31mQhullError\u001b[0m: QH6154 Qhull precision error: Initial simplex is flat (facet 1 is coplanar with the interior point)\n\nWhile executing:  | qhull d Qc Qt Q12 Qbb Qz\nOptions selected for Qhull 2019.1.r 2019/06/21:\n  run-id 1424710694  delaunay  Qcoplanar-keep  Qtriangulate  Q12-allow-wide\n  Qbbound-last  Qz-infinity-point  _pre-merge  _zero-centrum  Qinterior-keep\n  Pgood  _max-width 1.1e+02  Error-roundoff 1.4e-12  _one-merge 1.5e-11\n  Visible-distance 8.2e-12  U-max-coplanar 8.2e-12  Width-outside 1.6e-11\n  _wide-facet 4.9e-11  _maxoutside 1.6e-11\n\nprecision problems (corrected unless 'Q0' or an error)\n      6 nearly singular or axis-parallel hyperplanes\n      6 zero divisors during back substitute\n   4899 zero divisors during gaussian elimination\n\nThe input to qhull appears to be less than 5 dimensional, or a\ncomputation has overflowed.\n\nQhull could not construct a clearly convex simplex from points:\n- p4(v6):  0.05 5e+02   1.4     0 0.019\n- p12(v5):   0.4 5e+02     2     6  0.52\n- p22(v4):   0.1 5e+02   0.7     2 0.052\n- p0(v3):   0.4 5e+02   1.6     1 0.042\n- p26(v2):   0.5 5e+02   0.9    50    33\n- p1(v1):  0.05 5e+02   1.9     1 0.054\n\nThe center point is coplanar with a facet, or a vertex is coplanar\nwith a neighboring facet.  The maximum round off error for\ncomputing distances is 1.4e-12.  The center point, facets and distances\nto the center point are as follows:\n\ncenter point     0.25      500    1.417       10    5.553\n\nfacet p12 p22 p0 p26 p1 distance=    0\nfacet p4 p22 p0 p26 p1 distance=    0\nfacet p4 p12 p0 p26 p1 distance=    0\nfacet p4 p12 p22 p26 p1 distance=    0\nfacet p4 p12 p22 p0 p1 distance=    0\nfacet p4 p12 p22 p0 p26 distance=    0\n\nThese points either have a maximum or minimum x-coordinate, or\nthey maximize the determinant for k coordinates.  Trial points\nare first selected from points that maximize a coordinate.\n\nThe min and max coordinates for each dimension are:\n  0:      0.05       0.5  difference= 0.45\n  1:       500       500  difference=    0\n  2:       0.7         2  difference=  1.3\n  3:         0       110  difference=  110\n  4:         0       500  difference=  500\n\nIf the input should be full dimensional, you have several options that\nmay determine an initial simplex:\n  - use 'QJ'  to joggle the input and make it full dimensional\n  - use 'QbB' to scale the points to the unit cube\n  - use 'QR0' to randomly rotate the input for different maximum points\n  - use 'Qs'  to search all points for the initial simplex\n  - use 'En'  to specify a maximum roundoff error less than 1.4e-12.\n  - trace execution with 'T3' to see the determinant for each point.\n\nIf the input is lower dimensional:\n  - use 'QJ' to joggle the input and make it full dimensional\n  - use 'Qbk:0Bk:0' to delete coordinate k from the input.  You should\n    pick the coordinate with the least range.  The hull will have the\n    correct topology.\n  - determine the flat containing the points, rotate the points\n    into a coordinate plane, and delete the other coordinates.\n  - add one or more points to make the input full dimensional.\n",
      "\nDuring handling of the above exception, another exception occurred:\n",
      "\u001b[0;31mQhullError\u001b[0m                                Traceback (most recent call last)",
      "\u001b[0;32m<ipython-input-436-9a7e7ff11f8c>\u001b[0m in \u001b[0;36m<module>\u001b[0;34m\u001b[0m\n\u001b[1;32m     40\u001b[0m \u001b[0;32mexcept\u001b[0m \u001b[0mException\u001b[0m \u001b[0;32mas\u001b[0m \u001b[0me\u001b[0m\u001b[0;34m:\u001b[0m\u001b[0;34m\u001b[0m\u001b[0;34m\u001b[0m\u001b[0m\n\u001b[1;32m     41\u001b[0m     \u001b[0;31m#print('Warning: '+e) #QhullError...\u001b[0m\u001b[0;34m\u001b[0m\u001b[0;34m\u001b[0m\u001b[0;34m\u001b[0m\u001b[0m\n\u001b[0;32m---> 42\u001b[0;31m     \u001b[0minterp\u001b[0m \u001b[0;34m=\u001b[0m \u001b[0mLinearNDInterpolator\u001b[0m\u001b[0;34m(\u001b[0m\u001b[0mX\u001b[0m\u001b[0;34m,\u001b[0m \u001b[0my\u001b[0m\u001b[0;34m)\u001b[0m\u001b[0;34m\u001b[0m\u001b[0;34m\u001b[0m\u001b[0m\n\u001b[0m\u001b[1;32m     43\u001b[0m     \u001b[0myhat\u001b[0m \u001b[0;34m=\u001b[0m \u001b[0minterp\u001b[0m\u001b[0;34m(\u001b[0m\u001b[0mX\u001b[0m\u001b[0;34m)\u001b[0m\u001b[0;34m\u001b[0m\u001b[0;34m\u001b[0m\u001b[0m\n\u001b[1;32m     44\u001b[0m     \u001b[0mrmse\u001b[0m\u001b[0;34m=\u001b[0m\u001b[0mnp\u001b[0m\u001b[0;34m.\u001b[0m\u001b[0msqrt\u001b[0m\u001b[0;34m(\u001b[0m\u001b[0mnp\u001b[0m\u001b[0;34m.\u001b[0m\u001b[0mmean\u001b[0m\u001b[0;34m(\u001b[0m\u001b[0;34m(\u001b[0m\u001b[0myhat\u001b[0m\u001b[0;34m-\u001b[0m\u001b[0my\u001b[0m\u001b[0;34m)\u001b[0m\u001b[0;34m**\u001b[0m\u001b[0;36m2\u001b[0m\u001b[0;34m)\u001b[0m\u001b[0;34m)\u001b[0m\u001b[0;34m\u001b[0m\u001b[0;34m\u001b[0m\u001b[0m\n",
      "\u001b[0;32minterpnd.pyx\u001b[0m in \u001b[0;36mscipy.interpolate.interpnd.LinearNDInterpolator.__init__\u001b[0;34m()\u001b[0m\n",
      "\u001b[0;32mqhull.pyx\u001b[0m in \u001b[0;36mscipy.spatial.qhull.Delaunay.__init__\u001b[0;34m()\u001b[0m\n",
      "\u001b[0;32mqhull.pyx\u001b[0m in \u001b[0;36mscipy.spatial.qhull._Qhull.__init__\u001b[0;34m()\u001b[0m\n",
      "\u001b[0;31mQhullError\u001b[0m: QH6154 Qhull precision error: Initial simplex is flat (facet 1 is coplanar with the interior point)\n\nWhile executing:  | qhull d Qc Qt Q12 Qbb Qz\nOptions selected for Qhull 2019.1.r 2019/06/21:\n  run-id 1424710694  delaunay  Qcoplanar-keep  Qtriangulate  Q12-allow-wide\n  Qbbound-last  Qz-infinity-point  _pre-merge  _zero-centrum  Qinterior-keep\n  Pgood  _max-width 1.1e+02  Error-roundoff 1.4e-12  _one-merge 1.5e-11\n  Visible-distance 8.2e-12  U-max-coplanar 8.2e-12  Width-outside 1.6e-11\n  _wide-facet 4.9e-11  _maxoutside 1.6e-11\n\nprecision problems (corrected unless 'Q0' or an error)\n      6 nearly singular or axis-parallel hyperplanes\n      6 zero divisors during back substitute\n   4899 zero divisors during gaussian elimination\n\nThe input to qhull appears to be less than 5 dimensional, or a\ncomputation has overflowed.\n\nQhull could not construct a clearly convex simplex from points:\n- p4(v6):  0.05 5e+02   1.4     0 0.019\n- p12(v5):   0.4 5e+02     2     6  0.52\n- p22(v4):   0.1 5e+02   0.7     2 0.052\n- p0(v3):   0.4 5e+02   1.6     1 0.042\n- p26(v2):   0.5 5e+02   0.9    50    33\n- p1(v1):  0.05 5e+02   1.9     1 0.054\n\nThe center point is coplanar with a facet, or a vertex is coplanar\nwith a neighboring facet.  The maximum round off error for\ncomputing distances is 1.4e-12.  The center point, facets and distances\nto the center point are as follows:\n\ncenter point     0.25      500    1.417       10    5.553\n\nfacet p12 p22 p0 p26 p1 distance=    0\nfacet p4 p22 p0 p26 p1 distance=    0\nfacet p4 p12 p0 p26 p1 distance=    0\nfacet p4 p12 p22 p26 p1 distance=    0\nfacet p4 p12 p22 p0 p1 distance=    0\nfacet p4 p12 p22 p0 p26 distance=    0\n\nThese points either have a maximum or minimum x-coordinate, or\nthey maximize the determinant for k coordinates.  Trial points\nare first selected from points that maximize a coordinate.\n\nThe min and max coordinates for each dimension are:\n  0:      0.05       0.5  difference= 0.45\n  1:       500       500  difference=    0\n  2:       0.7         2  difference=  1.3\n  3:         0       110  difference=  110\n  4:         0       500  difference=  500\n\nIf the input should be full dimensional, you have several options that\nmay determine an initial simplex:\n  - use 'QJ'  to joggle the input and make it full dimensional\n  - use 'QbB' to scale the points to the unit cube\n  - use 'QR0' to randomly rotate the input for different maximum points\n  - use 'Qs'  to search all points for the initial simplex\n  - use 'En'  to specify a maximum roundoff error less than 1.4e-12.\n  - trace execution with 'T3' to see the determinant for each point.\n\nIf the input is lower dimensional:\n  - use 'QJ' to joggle the input and make it full dimensional\n  - use 'Qbk:0Bk:0' to delete coordinate k from the input.  You should\n    pick the coordinate with the least range.  The hull will have the\n    correct topology.\n  - determine the flat containing the points, rotate the points\n    into a coordinate plane, and delete the other coordinates.\n  - add one or more points to make the input full dimensional.\n"
     ]
    }
   ],
   "source": [
    "#define constant parameters\n",
    "reflect=0\n",
    "force_code=2\n",
    "set_second=0\n",
    "neighbor=0\n",
    "no_attraction=0\n",
    "no_repulsion=0\n",
    "kappa=500\n",
    "L=10\n",
    "\n",
    "#query the DataFrame\n",
    "query =(df.set_second==set_second)&(df.reflect==reflect)\n",
    "query&=(df.no_repulsion==no_repulsion)&(df.no_attraction==no_attraction)\n",
    "query&=(df.neighbor==neighbor)&(df.force_code==force_code)\n",
    "# query&=df.r==r\n",
    "query&=df.kappa==kappa\n",
    "# query&=df.D==D\n",
    "query&=df.L==L\n",
    "# query&=df.varkappa==varkappa\n",
    "# query&=df.x0==x0\n",
    "dg=df[query]\n",
    "\n",
    "#define parameters to be varied\n",
    "# input_cols=['r','D','varkappa']#,x0\n",
    "# input_cols=['r','kappa','D','varkappa']#,x0\n",
    "\n",
    "#inputs:dg,input_cols,output_col\n",
    "#output: fitted model\n",
    "\n",
    "Xall=dg[input_cols].values \n",
    "yall=dg[output_col].values\n",
    "X=Xall.copy()\n",
    "y=yall.copy()\n",
    "m = len(y) # number of training examples\n",
    "print(f'the number of training examples is {m:d}')\n",
    "try:\n",
    "    interp = LinearNDInterpolator(X, y)\n",
    "    yhat = interp(X)\n",
    "    rmse=np.sqrt(np.mean((yhat-y)**2))\n",
    "except Exception as e:\n",
    "    #print('Warning: '+e) #QhullError...\n",
    "    interp = LinearNDInterpolator(X, y)\n",
    "    yhat = interp(X)\n",
    "    rmse=np.sqrt(np.mean((yhat-y)**2))\n",
    "# # interp = CloughTocher2DInterpolator(X, y)\n",
    "# yhat = interp(X)\n",
    "# rmse=np.sqrt(np.mean((yhat-y)**2))\n",
    "print(f\"the rmse of ordinairy interpolation is {rmse:.4f}\")\n",
    "\n",
    "# #forked from:\n",
    "# interp = LinearNDInterpolator(X, y)\n",
    "# # interp = CloughTocher2DInterpolator(X, y)\n",
    "# yhat = interp(X)\n",
    "# rmse=np.sqrt(np.mean((yhat-y)**2))\n",
    "# print(f\"the rmse of simple interpolation is {rmse:.4f}\")"
   ]
  },
  {
   "cell_type": "code",
   "execution_count": 397,
   "metadata": {
    "ExecuteTime": {
     "end_time": "2021-09-01T04:17:31.646380Z",
     "start_time": "2021-09-01T04:17:31.632267Z"
    },
    "hidden": true
   },
   "outputs": [
    {
     "data": {
      "text/plain": [
       "0       1.477497\n",
       "1       1.726534\n",
       "2       1.361442\n",
       "3       3.050656\n",
       "4       1.961670\n",
       "          ...   \n",
       "9785    1.367459\n",
       "9786    1.394982\n",
       "9787    1.423513\n",
       "9788    2.017669\n",
       "9789    1.273696\n",
       "Name: m, Length: 9790, dtype: float64"
      ]
     },
     "execution_count": 397,
     "metadata": {},
     "output_type": "execute_result"
    }
   ],
   "source": [
    "df[output_col]"
   ]
  },
  {
   "cell_type": "code",
   "execution_count": 398,
   "metadata": {
    "ExecuteTime": {
     "end_time": "2021-09-01T04:17:32.172387Z",
     "start_time": "2021-09-01T04:17:32.143980Z"
    },
    "hidden": true
   },
   "outputs": [
    {
     "name": "stdout",
     "output_type": "stream",
     "text": [
      "printing the 5 indices closest to 16.73559858353835\n"
     ]
    },
    {
     "data": {
      "text/html": [
       "<div>\n",
       "<style scoped>\n",
       "    .dataframe tbody tr th:only-of-type {\n",
       "        vertical-align: middle;\n",
       "    }\n",
       "\n",
       "    .dataframe tbody tr th {\n",
       "        vertical-align: top;\n",
       "    }\n",
       "\n",
       "    .dataframe thead th {\n",
       "        text-align: right;\n",
       "    }\n",
       "</style>\n",
       "<table border=\"1\" class=\"dataframe\">\n",
       "  <thead>\n",
       "    <tr style=\"text-align: right;\">\n",
       "      <th></th>\n",
       "      <th>m</th>\n",
       "      <th>Delta_m</th>\n",
       "      <th>M</th>\n",
       "      <th>Delta_M</th>\n",
       "      <th>Rsq</th>\n",
       "      <th>rmse</th>\n",
       "      <th>q_min</th>\n",
       "      <th>q_max</th>\n",
       "      <th>r</th>\n",
       "      <th>kappa</th>\n",
       "      <th>D</th>\n",
       "      <th>varkappa</th>\n",
       "      <th>x0</th>\n",
       "      <th>L</th>\n",
       "      <th>force_code</th>\n",
       "      <th>neighbor</th>\n",
       "      <th>reflect</th>\n",
       "      <th>set_second</th>\n",
       "      <th>no_repulsion</th>\n",
       "      <th>no_attraction</th>\n",
       "    </tr>\n",
       "  </thead>\n",
       "  <tbody>\n",
       "    <tr>\n",
       "      <th>7876</th>\n",
       "      <td>3.704631</td>\n",
       "      <td>0.129738</td>\n",
       "      <td>113.284370</td>\n",
       "      <td>42.670525</td>\n",
       "      <td>0.972976</td>\n",
       "      <td>11.654004</td>\n",
       "      <td>0.1</td>\n",
       "      <td>1.0</td>\n",
       "      <td>0.4</td>\n",
       "      <td>500</td>\n",
       "      <td>0.7</td>\n",
       "      <td>0</td>\n",
       "      <td>0</td>\n",
       "      <td>10</td>\n",
       "      <td>2</td>\n",
       "      <td>0</td>\n",
       "      <td>1</td>\n",
       "      <td>0</td>\n",
       "      <td>0</td>\n",
       "      <td>0</td>\n",
       "    </tr>\n",
       "    <tr>\n",
       "      <th>9716</th>\n",
       "      <td>3.687513</td>\n",
       "      <td>0.077974</td>\n",
       "      <td>66.923404</td>\n",
       "      <td>14.514080</td>\n",
       "      <td>0.989975</td>\n",
       "      <td>4.409222</td>\n",
       "      <td>0.1</td>\n",
       "      <td>1.0</td>\n",
       "      <td>0.3</td>\n",
       "      <td>500</td>\n",
       "      <td>0.7</td>\n",
       "      <td>0</td>\n",
       "      <td>0</td>\n",
       "      <td>10</td>\n",
       "      <td>2</td>\n",
       "      <td>0</td>\n",
       "      <td>1</td>\n",
       "      <td>0</td>\n",
       "      <td>0</td>\n",
       "      <td>0</td>\n",
       "    </tr>\n",
       "    <tr>\n",
       "      <th>6976</th>\n",
       "      <td>3.643788</td>\n",
       "      <td>0.078303</td>\n",
       "      <td>68.932836</td>\n",
       "      <td>15.323308</td>\n",
       "      <td>0.989650</td>\n",
       "      <td>4.748950</td>\n",
       "      <td>0.1</td>\n",
       "      <td>1.0</td>\n",
       "      <td>0.3</td>\n",
       "      <td>500</td>\n",
       "      <td>0.7</td>\n",
       "      <td>0</td>\n",
       "      <td>0</td>\n",
       "      <td>10</td>\n",
       "      <td>2</td>\n",
       "      <td>0</td>\n",
       "      <td>0</td>\n",
       "      <td>0</td>\n",
       "      <td>0</td>\n",
       "      <td>0</td>\n",
       "    </tr>\n",
       "    <tr>\n",
       "      <th>3507</th>\n",
       "      <td>3.629814</td>\n",
       "      <td>0.074804</td>\n",
       "      <td>67.008355</td>\n",
       "      <td>13.880472</td>\n",
       "      <td>0.990474</td>\n",
       "      <td>4.265267</td>\n",
       "      <td>0.1</td>\n",
       "      <td>1.0</td>\n",
       "      <td>0.3</td>\n",
       "      <td>500</td>\n",
       "      <td>0.8</td>\n",
       "      <td>0</td>\n",
       "      <td>0</td>\n",
       "      <td>10</td>\n",
       "      <td>2</td>\n",
       "      <td>0</td>\n",
       "      <td>1</td>\n",
       "      <td>0</td>\n",
       "      <td>0</td>\n",
       "      <td>0</td>\n",
       "    </tr>\n",
       "    <tr>\n",
       "      <th>6712</th>\n",
       "      <td>3.621501</td>\n",
       "      <td>0.123402</td>\n",
       "      <td>116.287049</td>\n",
       "      <td>42.143416</td>\n",
       "      <td>0.974379</td>\n",
       "      <td>11.760432</td>\n",
       "      <td>0.1</td>\n",
       "      <td>1.0</td>\n",
       "      <td>0.4</td>\n",
       "      <td>500</td>\n",
       "      <td>0.7</td>\n",
       "      <td>0</td>\n",
       "      <td>0</td>\n",
       "      <td>10</td>\n",
       "      <td>2</td>\n",
       "      <td>0</td>\n",
       "      <td>0</td>\n",
       "      <td>0</td>\n",
       "      <td>0</td>\n",
       "      <td>0</td>\n",
       "    </tr>\n",
       "    <tr>\n",
       "      <th>3561</th>\n",
       "      <td>3.612594</td>\n",
       "      <td>0.124107</td>\n",
       "      <td>110.794638</td>\n",
       "      <td>39.655037</td>\n",
       "      <td>0.973968</td>\n",
       "      <td>11.233757</td>\n",
       "      <td>0.1</td>\n",
       "      <td>1.0</td>\n",
       "      <td>0.4</td>\n",
       "      <td>500</td>\n",
       "      <td>0.8</td>\n",
       "      <td>0</td>\n",
       "      <td>0</td>\n",
       "      <td>10</td>\n",
       "      <td>2</td>\n",
       "      <td>0</td>\n",
       "      <td>1</td>\n",
       "      <td>0</td>\n",
       "      <td>0</td>\n",
       "      <td>0</td>\n",
       "    </tr>\n",
       "  </tbody>\n",
       "</table>\n",
       "</div>"
      ],
      "text/plain": [
       "             m   Delta_m           M    Delta_M       Rsq       rmse  q_min  \\\n",
       "7876  3.704631  0.129738  113.284370  42.670525  0.972976  11.654004    0.1   \n",
       "9716  3.687513  0.077974   66.923404  14.514080  0.989975   4.409222    0.1   \n",
       "6976  3.643788  0.078303   68.932836  15.323308  0.989650   4.748950    0.1   \n",
       "3507  3.629814  0.074804   67.008355  13.880472  0.990474   4.265267    0.1   \n",
       "6712  3.621501  0.123402  116.287049  42.143416  0.974379  11.760432    0.1   \n",
       "3561  3.612594  0.124107  110.794638  39.655037  0.973968  11.233757    0.1   \n",
       "\n",
       "      q_max    r  kappa    D  varkappa  x0   L  force_code  neighbor  reflect  \\\n",
       "7876    1.0  0.4    500  0.7         0   0  10           2         0        1   \n",
       "9716    1.0  0.3    500  0.7         0   0  10           2         0        1   \n",
       "6976    1.0  0.3    500  0.7         0   0  10           2         0        0   \n",
       "3507    1.0  0.3    500  0.8         0   0  10           2         0        1   \n",
       "6712    1.0  0.4    500  0.7         0   0  10           2         0        0   \n",
       "3561    1.0  0.4    500  0.8         0   0  10           2         0        1   \n",
       "\n",
       "      set_second  no_repulsion  no_attraction  \n",
       "7876           0             0              0  \n",
       "9716           0             0              0  \n",
       "6976           0             0              0  \n",
       "3507           0             0              0  \n",
       "6712           0             0              0  \n",
       "3561           0             0              0  "
      ]
     },
     "execution_count": 398,
     "metadata": {},
     "output_type": "execute_result"
    }
   ],
   "source": [
    "print(f\"printing the {k} indices closest to {ytrgt}\")\n",
    "unsorted_series=np.abs(df[output_col]-m)\n",
    "indices_of_sorted=unsorted_series.argsort()\n",
    "smallest_deviations=indices_of_sorted.loc[:k].values\n",
    "df.loc[smallest_deviations]"
   ]
  },
  {
   "cell_type": "markdown",
   "metadata": {
    "heading_collapsed": true,
    "hidden": true
   },
   "source": [
    "## TODO: implement genetic algorithm to find the best fit combination of r,D,a:=varkappa for a given kappa\n",
    "- Hint: copy the src/gener_run_X.py implementation of the genetic algorithm here. OR "
   ]
  },
  {
   "cell_type": "markdown",
   "metadata": {
    "hidden": true
   },
   "source": [
    " __Methods__ Method for genetically optimizated fit of the apparent powerlaw. \n",
    " - Step 1: choose best k=2 or 3 for a given set of sample r,D,varkappa,kappa pairs\n",
    " - Step 2: generate N=1000 random sample targets centered about the mean of ^these reproducing elite sample values.  Compute predicted output values.\n",
    "   - Hint: Results may be generated using piecewise linear interpolation for these sammples to save an exceptional amount of computational time.\n",
    " - repeat ^these last couple steps some number of times, K.\n",
    " - Perform a principle component analysis on the final iterate of ^that sample generation process.\n",
    " - select the output vector closest to the desired output value, here (m,M)\n",
    " - perform ./return_CollTimes.sh on this parameter value.  Conside improving performance with more iterates of steps 1 and 2."
   ]
  },
  {
   "cell_type": "code",
   "execution_count": 400,
   "metadata": {
    "ExecuteTime": {
     "end_time": "2021-09-01T04:17:39.139702Z",
     "start_time": "2021-09-01T04:17:39.128075Z"
    },
    "hidden": true
   },
   "outputs": [],
   "source": [
    "# TODO: copy the cells from the dev_run.ipynb "
   ]
  },
  {
   "cell_type": "code",
   "execution_count": 401,
   "metadata": {
    "ExecuteTime": {
     "end_time": "2021-09-01T04:17:39.647584Z",
     "start_time": "2021-09-01T04:17:39.633423Z"
    },
    "hidden": true
   },
   "outputs": [],
   "source": [
    "#TODO: recall from up ^there that I have X,y to fit, for X.shape=(n_samples,n_dimensions:=3)\n",
    "#TODO: modify ^this to dev a genetic optimization problem \n",
    "\n",
    "# __Methods__\n",
    "# - Step 1: choose best k=2 or 3 for a given set of sample r,D,varkappa,kappa pairs\n",
    "# - Step 2: generate N=1000 random sample targets centered about the mean of ^these reproducing elite sample values.  Compute predicted output values.\n",
    "#   - Hint: Results may be generated using piecewise linear interpolation for these sammples to save an exceptional amount of computational time.\n",
    "# - repeat ^these last couple steps some number of times, K.\n",
    "# - Perform a principle component analysis on the final iterate of ^that sample generation process.\n",
    "# - select the output vector closest to the desired output value, here (m,M)\n",
    "# - perform ./return_CollTimes.sh on this parameter value.  Conside improving performance with more iterates of steps 1 and 2."
   ]
  },
  {
   "cell_type": "code",
   "execution_count": 402,
   "metadata": {
    "ExecuteTime": {
     "end_time": "2021-09-01T04:17:40.181572Z",
     "start_time": "2021-09-01T04:17:40.167137Z"
    },
    "hidden": true
   },
   "outputs": [],
   "source": [
    "#TODO: determine the elite superior\n",
    "#TODO: make a map from a number of points (K nearest neighbors, wrt m or separately M) to a correlation matrix\n",
    "#TODO: generate points about the mean randomly using ^that correlation matrix\n",
    "#TODO: test those points"
   ]
  },
  {
   "cell_type": "markdown",
   "metadata": {},
   "source": [
    "# boltzmann defect weighting of the K nearest neighbors"
   ]
  },
  {
   "cell_type": "markdown",
   "metadata": {},
   "source": [
    "- DONE: do ^this with the inverse powerlaw data (force_code==2)\n",
    "- TODO(later): do ^this with the anti-hookean data (force_code==1)"
   ]
  },
  {
   "cell_type": "code",
   "execution_count": 403,
   "metadata": {
    "ExecuteTime": {
     "end_time": "2021-09-01T04:17:40.812183Z",
     "start_time": "2021-09-01T04:17:40.777576Z"
    }
   },
   "outputs": [],
   "source": [
    "K=5"
   ]
  },
  {
   "cell_type": "code",
   "execution_count": 404,
   "metadata": {
    "ExecuteTime": {
     "end_time": "2021-09-01T04:17:41.386483Z",
     "start_time": "2021-09-01T04:17:41.368265Z"
    }
   },
   "outputs": [
    {
     "data": {
      "text/plain": [
       "m                  1.842765\n",
       "Delta_m            0.019784\n",
       "M                 51.154500\n",
       "Delta_M            4.119574\n",
       "Rsq                0.997069\n",
       "rmse               1.378296\n",
       "q_min              0.100000\n",
       "q_max              1.000000\n",
       "r                  0.243054\n",
       "kappa            375.127681\n",
       "D                  1.350133\n",
       "varkappa          33.033708\n",
       "x0                 0.000000\n",
       "L                 10.000000\n",
       "force_code         2.000000\n",
       "neighbor           0.000000\n",
       "reflect            0.500511\n",
       "set_second         0.000000\n",
       "no_repulsion       0.000000\n",
       "no_attraction      0.000000\n",
       "dtype: float64"
      ]
     },
     "execution_count": 404,
     "metadata": {},
     "output_type": "execute_result"
    }
   ],
   "source": [
    "df.mean()"
   ]
  },
  {
   "cell_type": "code",
   "execution_count": 405,
   "metadata": {
    "ExecuteTime": {
     "end_time": "2021-09-01T04:17:41.970740Z",
     "start_time": "2021-09-01T04:17:41.950726Z"
    },
    "scrolled": true
   },
   "outputs": [
    {
     "data": {
      "text/html": [
       "<div>\n",
       "<style scoped>\n",
       "    .dataframe tbody tr th:only-of-type {\n",
       "        vertical-align: middle;\n",
       "    }\n",
       "\n",
       "    .dataframe tbody tr th {\n",
       "        vertical-align: top;\n",
       "    }\n",
       "\n",
       "    .dataframe thead th {\n",
       "        text-align: right;\n",
       "    }\n",
       "</style>\n",
       "<table border=\"1\" class=\"dataframe\">\n",
       "  <thead>\n",
       "    <tr style=\"text-align: right;\">\n",
       "      <th></th>\n",
       "      <th>r</th>\n",
       "      <th>kappa</th>\n",
       "      <th>D</th>\n",
       "      <th>varkappa</th>\n",
       "    </tr>\n",
       "  </thead>\n",
       "  <tbody>\n",
       "    <tr>\n",
       "      <th>7876</th>\n",
       "      <td>0.4</td>\n",
       "      <td>500</td>\n",
       "      <td>0.7</td>\n",
       "      <td>0</td>\n",
       "    </tr>\n",
       "    <tr>\n",
       "      <th>9716</th>\n",
       "      <td>0.3</td>\n",
       "      <td>500</td>\n",
       "      <td>0.7</td>\n",
       "      <td>0</td>\n",
       "    </tr>\n",
       "    <tr>\n",
       "      <th>6976</th>\n",
       "      <td>0.3</td>\n",
       "      <td>500</td>\n",
       "      <td>0.7</td>\n",
       "      <td>0</td>\n",
       "    </tr>\n",
       "    <tr>\n",
       "      <th>3507</th>\n",
       "      <td>0.3</td>\n",
       "      <td>500</td>\n",
       "      <td>0.8</td>\n",
       "      <td>0</td>\n",
       "    </tr>\n",
       "    <tr>\n",
       "      <th>6712</th>\n",
       "      <td>0.4</td>\n",
       "      <td>500</td>\n",
       "      <td>0.7</td>\n",
       "      <td>0</td>\n",
       "    </tr>\n",
       "    <tr>\n",
       "      <th>3561</th>\n",
       "      <td>0.4</td>\n",
       "      <td>500</td>\n",
       "      <td>0.8</td>\n",
       "      <td>0</td>\n",
       "    </tr>\n",
       "  </tbody>\n",
       "</table>\n",
       "</div>"
      ],
      "text/plain": [
       "        r  kappa    D  varkappa\n",
       "7876  0.4    500  0.7         0\n",
       "9716  0.3    500  0.7         0\n",
       "6976  0.3    500  0.7         0\n",
       "3507  0.3    500  0.8         0\n",
       "6712  0.4    500  0.7         0\n",
       "3561  0.4    500  0.8         0"
      ]
     },
     "execution_count": 405,
     "metadata": {},
     "output_type": "execute_result"
    }
   ],
   "source": [
    "df.loc[smallest_deviations, input_cols]"
   ]
  },
  {
   "cell_type": "code",
   "execution_count": 406,
   "metadata": {
    "ExecuteTime": {
     "end_time": "2021-09-01T04:17:42.828959Z",
     "start_time": "2021-09-01T04:17:42.798399Z"
    }
   },
   "outputs": [
    {
     "data": {
      "text/plain": [
       "7876    3.704631\n",
       "9716    3.687513\n",
       "6976    3.643788\n",
       "3507    3.629814\n",
       "6712    3.621501\n",
       "3561    3.612594\n",
       "Name: m, dtype: float64"
      ]
     },
     "execution_count": 406,
     "metadata": {},
     "output_type": "execute_result"
    }
   ],
   "source": [
    "df.loc[smallest_deviations, output_col]"
   ]
  },
  {
   "cell_type": "code",
   "execution_count": 468,
   "metadata": {
    "ExecuteTime": {
     "end_time": "2021-09-01T05:15:08.465071Z",
     "start_time": "2021-09-01T05:15:08.448149Z"
    }
   },
   "outputs": [],
   "source": [
    "# #TODO: wrap this \n",
    "# def comp_boltzman_weighted_weights(output_disagreement_values,**kwargs):\n",
    "#     mean_free_energy=np.mean(0.5*output_disagreement_values**2)\n",
    "#     weight_values=np.exp(-output_disagreement_values/mean_free_energy)\n",
    "#     the_partition_function=np.sum(weight_values)\n",
    "#     weight_values/=the_partition_function\n",
    "#     return weight_values\n",
    "    \n",
    "# def comp_boltzman_weighted_mean(output_disagreement_values,**kwargs):\n",
    "#     '''compute the boltzman weighted average of these K elite members'''\n",
    "#     weight_values=comp_boltzman_weighted_weights(output_disagreement_values,**kwargs)\n",
    "#     result_values=output_disagreement_values*weight_values\n",
    "#     mean_value=np.mean(result_values)\n",
    "#     return mean_value\n",
    "# #     print(f\"the sum of the weights is {sum(weight_values)}\") # one"
   ]
  },
  {
   "cell_type": "code",
   "execution_count": 380,
   "metadata": {
    "ExecuteTime": {
     "end_time": "2021-09-01T04:08:51.386481Z",
     "start_time": "2021-09-01T04:08:51.373032Z"
    },
    "run_control": {
     "marked": true
    }
   },
   "outputs": [],
   "source": [
    "#TODO: wrap ^this into a function\n",
    "#TODO: repeat ^this with M\n",
    "#TODO: put ^that into an output_vector, (m1,M(m1)) and for the M optimized K=5 elite members, (m(M2),M2).  Then, consider seeding the next generation with a correlation matrix times a normally distributed random variable, plus a  random linear interpolant of the fitting points for the K=5 elite of m1_values and M2_values"
   ]
  },
  {
   "cell_type": "code",
   "execution_count": 475,
   "metadata": {
    "ExecuteTime": {
     "end_time": "2021-09-01T05:15:56.680121Z",
     "start_time": "2021-09-01T05:15:56.643750Z"
    }
   },
   "outputs": [
    {
     "data": {
      "text/plain": [
       "['r', 'kappa', 'D', 'varkappa', 'm', 'M']"
      ]
     },
     "execution_count": 475,
     "metadata": {},
     "output_type": "execute_result"
    }
   ],
   "source": [
    "cols"
   ]
  },
  {
   "cell_type": "code",
   "execution_count": 476,
   "metadata": {
    "ExecuteTime": {
     "end_time": "2021-09-01T05:16:42.823157Z",
     "start_time": "2021-09-01T05:16:42.788737Z"
    }
   },
   "outputs": [],
   "source": [
    "#TODO: Boltzman Defect Weighting\n",
    "m1_values=df.loc[smallest_deviations, cols].values\n",
    "# TODO: and M2_values\n",
    "\n",
    "output_values=m1_values\n",
    "\n",
    "#TODO: find the values closest to m\n",
    "ytrgt=M\n",
    "k=20\n",
    "input_cols=['r','kappa', 'D', 'varkappa']\n",
    "output_col='m'"
   ]
  },
  {
   "cell_type": "code",
   "execution_count": 120,
   "metadata": {
    "ExecuteTime": {
     "end_time": "2021-09-02T21:25:44.109653Z",
     "start_time": "2021-09-02T21:25:44.073973Z"
    }
   },
   "outputs": [
    {
     "name": "stdout",
     "output_type": "stream",
     "text": [
      "fk_pbc lr_pbc\n"
     ]
    }
   ],
   "source": [
    "# # Recall powerlaw fits to full models\n",
    "# # Fenton-Karma(PBC) \n",
    "# m, Delta_m, M, Delta_M = 1.8772341309722325, 0.02498750277237229, 5.572315674840435, 0.3053120355191732\n",
    "# wjr={\n",
    "#     'fk_pbc':{'m':m, 'Delta_m':Delta_m, 'M':M, 'Delta_M':Delta_M}\n",
    "# }\n",
    "# # Luo-Rudy(PBC) \n",
    "# m, Delta_m, M, Delta_M = 1.6375562704001745, 0.017190912126700632, 16.73559858353835, 0.8465090320196467\n",
    "# wjr['lr_pbc']={'m':m, 'Delta_m':Delta_m, 'M':M, 'Delta_M':Delta_M}\n",
    "# print(*wjr)"
   ]
  },
  {
   "cell_type": "code",
   "execution_count": 533,
   "metadata": {
    "ExecuteTime": {
     "end_time": "2021-09-01T19:27:36.517860Z",
     "start_time": "2021-09-01T19:27:36.492645Z"
    }
   },
   "outputs": [
    {
     "data": {
      "text/plain": [
       "(6,)"
      ]
     },
     "execution_count": 533,
     "metadata": {},
     "output_type": "execute_result"
    }
   ],
   "source": [
    "# # result_values\n",
    "# list(df.columns)\n",
    "(weight_values*elite_parameter_values[:,1]**2).shape\n"
   ]
  },
  {
   "cell_type": "code",
   "execution_count": 538,
   "metadata": {
    "ExecuteTime": {
     "end_time": "2021-09-01T20:02:33.187435Z",
     "start_time": "2021-09-01T20:02:33.136769Z"
    }
   },
   "outputs": [
    {
     "name": "stdout",
     "output_type": "stream",
     "text": [
      "\n",
      "for the fk_pbc model...\n",
      "the boltzman_weighted mean parameter for the K=6 elite members was {'m': 1.877495768958186, 'Delta_m': 0.003910137278198711, 'M': 106.54991693946528, 'Delta_M': 1.7678825269489105, 'Rsq': 0.9994109955723661, 'rmse': 1.2860529670389256, 'q_min': 0.09999999999999998, 'q_max': 0.9999999999999999, 'r': 0.4166610342552804, 'kappa': 416.6750906107605, 'D': 1.366664677709941, 'varkappa': 46.6662885441238, 'x0': 0.0, 'L': 9.999999999999998, 'force_code': 1.9999999999999998, 'neighbor': 0.0, 'reflect': 0.4999540576848303, 'set_second': 0.0, 'no_repulsion': 0.0, 'no_attraction': 0.0}\n",
      "\n",
      "for the lr_pbc model...\n",
      "the boltzman_weighted mean parameter for the K=6 elite members was {'m': 1.637570612053691, 'Delta_m': 0.009006439598070631, 'M': 14.17553046748441, 'Delta_M': 0.32446421675181075, 'Rsq': 0.9959075092522057, 'rmse': 0.35893648465400807, 'q_min': 0.09999999999999998, 'q_max': 0.9999999999999998, 'r': 0.10833280016164487, 'kappa': 416.66862814504043, 'D': 1.2833217962279788, 'varkappa': 7.833290072950929, 'x0': 0.0, 'L': 9.999999999999998, 'force_code': 1.9999999999999996, 'neighbor': 0.0, 'reflect': 0.6666765268786745, 'set_second': 0.0, 'no_repulsion': 0.0, 'no_attraction': 0.0}\n"
     ]
    }
   ],
   "source": [
    "model_name_lst=['fk_pbc','lr_pbc']\n",
    "output_col_lst=['m','M']\n",
    "cols=list(input_cols)\n",
    "cols.extend(output_col_lst)\n",
    "k=6\n",
    "m1avg_lst=[]\n",
    "M2avg_lst=[]\n",
    "dict_bwm={} #dictiionary of boltzmann weighted mean values\n",
    "dict_pca={}\n",
    "smallest_deviations_lst=[]\n",
    "#for 2-dimensional target space, such as m,M\n",
    "for model_name in model_name_lst:\n",
    "    #for m\n",
    "    Ytrgt=(wjr[model_name][output_col_lst[0]],wjr[model_name][output_col_lst[1]])\n",
    "    ytrgt=Ytrgt[0]\n",
    "    print(f\"\\nfor the {model_name} model...\")\n",
    "#     print(f\"printing the {k} indices closest to m={ytrgt}\")\n",
    "    unsorted_series=np.abs(df[output_col]-ytrgt)\n",
    "    indices_of_sorted=unsorted_series.argsort()\n",
    "    smallest_deviations=indices_of_sorted.loc[:k-1].values\n",
    "#     print(df.loc[smallest_deviations,cols])\n",
    "    smallest_deviations_lst.append(smallest_deviations)\n",
    "    #compute the boltzmann weighted mean m\n",
    "    output_disagreement_values=df.loc[smallest_deviations,output_col].values\n",
    "    boltzman_weighted_mean=comp_boltzman_weighted_mean(output_disagreement_values,**kwargs)\n",
    "#     print(f\"the boltzman_weighted_mean for the K={k} elite members was {boltzman_weighted_mean}\")\n",
    "    m1avg_lst.append(boltzman_weighted_mean)\n",
    "        \n",
    "    #compute the boltzmann weighted average w.r.t. m\n",
    "    weight_values=comp_boltzman_weighted_weights(output_disagreement_values,**kwargs)\n",
    "    elite_parameter_values=df.loc[smallest_deviations].values#,cols]\n",
    "    \n",
    "    #correctly combine Delta_m [1] and Delta_M [3] as the sum of squared variances\n",
    "    elite_parameter_values[:,1]=weight_values*elite_parameter_values[:,1]**2\n",
    "    elite_parameter_values[:,3]=weight_values*elite_parameter_values[:,3]**2\n",
    "    average_values=np.sum(weight_values*elite_parameter_values.T,axis=1)\n",
    "    average_values[1]=np.sqrt(average_values[1])\n",
    "    average_values[3]=np.sqrt(average_values[3])\n",
    "    dict_out=dict(zip(list(df.columns),average_values))\n",
    "    dict_bwm[model_name+'_m']=dict_out\n",
    "    print(f\"the boltzman_weighted mean parameter for the K={k} elite members was {dict_out}\")\n",
    " \n",
    "    #TODO: compute the correlation matrix/PCA on the mean squared differences?/just take random linear combinations in the interpolating space and take the max value\n",
    "    \n",
    "    #for M\n",
    "    ytrgt=Ytrgt[1]\n",
    "#     print(f\"\\nprinting the {k} indices closest to M={ytrgt}\")\n",
    "    unsorted_series=np.abs(df[output_col]-ytrgt)\n",
    "    indices_of_sorted=unsorted_series.argsort()\n",
    "    smallest_deviations=indices_of_sorted.loc[:k-1].values\n",
    "#     print(df.loc[smallest_deviations,cols])\n",
    "    \n",
    "    #compute the boltzmann weighted mean m\n",
    "    output_disagreement_values=df.loc[smallest_deviations,output_col].values\n",
    "    boltzman_weighted_mean=comp_boltzman_weighted_mean(output_disagreement_values,**kwargs)\n",
    "#     print(f\"the boltzman_weighted_mean for the K={k} elite members was {boltzman_weighted_mean}\")\n",
    "    M2avg_lst.append(boltzman_weighted_mean)\n",
    "        \n",
    "    #compute the boltzmann weighted average w.r.t. m\n",
    "    weight_values=comp_boltzman_weighted_weights(output_disagreement_values,**kwargs)\n",
    "    elite_parameter_values=df.loc[smallest_deviations].values#,cols]\n",
    "    dict_out=dict(zip(list(df.columns),np.sum(weight_values*elite_parameter_values.T,axis=1)))\n",
    "    dict_bwm[model_name+'_M']=dict_out\n",
    "#     print(f\"the boltzman_weighted mean parameter for the K={k} elite members was {dict_out}\")\n",
    "    \n",
    "    #TODO: perform PCA on the outputs minus this dict"
   ]
  },
  {
   "cell_type": "code",
   "execution_count": 520,
   "metadata": {
    "ExecuteTime": {
     "end_time": "2021-09-01T19:13:41.817446Z",
     "start_time": "2021-09-01T19:13:41.793404Z"
    }
   },
   "outputs": [
    {
     "name": "stdout",
     "output_type": "stream",
     "text": [
      "{'m': 1.877495768958186, 'Delta_m': 0.009530726455452318, 'M': 106.54991693946528, 'Delta_M': 3.856707202089051, 'Rsq': 0.9994109955723661, 'rmse': 1.2860529670389256, 'q_min': 0.09999999999999998, 'q_max': 0.9999999999999999, 'r': 0.4166610342552804, 'kappa': 416.6750906107605, 'D': 1.366664677709941, 'varkappa': 46.6662885441238, 'x0': 0.0, 'L': 9.999999999999998, 'force_code': 1.9999999999999998, 'neighbor': 0.0, 'reflect': 0.4999540576848303, 'set_second': 0.0, 'no_repulsion': 0.0, 'no_attraction': 0.0}\n"
     ]
    }
   ],
   "source": [
    "print(dict_bwm['fk_pbc_m'])\n"
   ]
  },
  {
   "cell_type": "markdown",
   "metadata": {},
   "source": [
    "__observations__\n",
    "- the mean of the boltzman weights is approximately zero to roughly at least three significant figures here..."
   ]
  },
  {
   "cell_type": "code",
   "execution_count": 521,
   "metadata": {
    "ExecuteTime": {
     "end_time": "2021-09-01T19:14:54.356754Z",
     "start_time": "2021-09-01T19:14:54.336467Z"
    }
   },
   "outputs": [
    {
     "name": "stdout",
     "output_type": "stream",
     "text": [
      "{'m': 1.877495768958186, 'Delta_m': 0.009530726455452318, 'M': 106.54991693946528, 'Delta_M': 3.856707202089051, 'Rsq': 0.9994109955723661, 'rmse': 1.2860529670389256, 'q_min': 0.09999999999999998, 'q_max': 0.9999999999999999, 'r': 0.4166610342552804, 'kappa': 416.6750906107605, 'D': 1.366664677709941, 'varkappa': 46.6662885441238, 'x0': 0.0, 'L': 9.999999999999998, 'force_code': 1.9999999999999998, 'neighbor': 0.0, 'reflect': 0.4999540576848303, 'set_second': 0.0, 'no_repulsion': 0.0, 'no_attraction': 0.0}\n"
     ]
    }
   ],
   "source": [
    "#TODO: compute m boltzman weighted average as m1\n",
    "#TODO: compute M boltzman weighted average as M2\n",
    "\n",
    "#TODO: dev compute_M(m1) via interpolation near output_cols=(r,kappa,D,varkappa)\n",
    "#TODO: dev compute_m(M2)\n",
    "\n",
    "#TODO: plot the linear interpolation of m,M using plt.plot()\n",
    "# print(list(zip((model_name_lst,output_col_lst,m1avg_lst,M2avg_lst))))\n",
    "\n",
    "print(dict_bwm['fk_pbc_m'])\n",
    "print(f\"\"\"the boltzman weighted mean exponent fitted to the Luo-Rudy model was\n",
    "m_lr_observed_bwm :{dict_bwm['fk_pbc_m']['m']:.5f} +- {dict_bwm['fk_pbc_m']['Delta_m']:.5f}\n",
    "m_lr_expected_wjr : {wjr['fk_pbc']['m']:.5f} +- {wjr['fk_pbc']['Delta_m']:.5f}\n",
    "\n",
    "With mean parameters\n",
    "\n",
    "\"\"\")\n",
    "\n",
    "#TODO: compute the two points\n",
    "#TODO: interpolate as boltzman_weighted_mean\n",
    "#TODO: dev compute_boltzman_weighted_cov... Hint: check numpy.linalg.\n",
    "#TODO: using interp, generate 1000 novel offspring... and also include the original line in the coming progeny..."
   ]
  },
  {
   "cell_type": "code",
   "execution_count": null,
   "metadata": {
    "ExecuteTime": {
     "end_time": "2021-09-01T19:03:59.377765Z",
     "start_time": "2021-09-01T19:03:59.342355Z"
    }
   },
   "outputs": [],
   "source": [
    "r=dict_bwm['fk_pbc_m']['r']\n"
   ]
  },
  {
   "cell_type": "code",
   "execution_count": 496,
   "metadata": {
    "ExecuteTime": {
     "end_time": "2021-09-01T18:49:18.538406Z",
     "start_time": "2021-09-01T18:49:08.934269Z"
    }
   },
   "outputs": [
    {
     "name": "stdout",
     "output_type": "stream",
     "text": [
      "number of training examples is 4890.\n",
      "the rmse of simple interpolation is 0.0000\n",
      "shape of X (4890, 4) --> shape of y=yhat (4890,)\n"
     ]
    }
   ],
   "source": [
    "#compute the linear ND interpolating function mapping the parameter space to the output m space, restricting to 4 variables\n",
    "\n",
    "#define constant parameters\n",
    "reflect=0\n",
    "force_code=2\n",
    "set_second=0\n",
    "neighbor=0\n",
    "no_attraction=0\n",
    "no_repulsion=0\n",
    "# kappa=500\n",
    "L=10\n",
    "\n",
    "#query the DataFrame\n",
    "query =(df.set_second==set_second)&(df.reflect==reflect)\n",
    "query&=(df.no_repulsion==no_repulsion)&(df.no_attraction==no_attraction)\n",
    "query&=(df.neighbor==neighbor)&(df.force_code==force_code)\n",
    "# query&=df.r==r\n",
    "# query&=df.kappa==kappa\n",
    "# query&=df.D==D\n",
    "query&=df.L==L\n",
    "# query&=df.varkappa==varkappa\n",
    "# query&=df.x0==x0\n",
    "dg=df[query]\n",
    "\n",
    "#define parameters to be varied\n",
    "# input_cols=['r','D','varkappa']#,x0\n",
    "input_cols=['r','kappa','D','varkappa']#,x0\n",
    "output_col='m'\n",
    "#inputs:dg,input_cols,output_col\n",
    "#output: fitted model\n",
    "\n",
    "Xall=dg[input_cols].values \n",
    "yall=dg[output_col].values\n",
    "X=Xall.copy()\n",
    "y=yall.copy()\n",
    "m = len(y) # number of training examples\n",
    "print(f'number of training examples is {m:d}.')\n",
    "\n",
    "interp = LinearNDInterpolator(X, y)\n",
    "# interp = CloughTocher2DInterpolator(X, y)\n",
    "yhat = interp(X)\n",
    "rmse=np.sqrt(np.mean((yhat-y)**2))\n",
    "print(f\"the rmse of simple interpolation is {rmse:.4f}\")\n",
    "\n",
    "# yhat = interp(X)\n",
    "print(f\"shape of X {X.shape} --> shape of y=yhat {yhat.shape}\")"
   ]
  },
  {
   "cell_type": "markdown",
   "metadata": {
    "heading_collapsed": true
   },
   "source": [
    "# plot the top 1 trials for either full model\n",
    "- using a log(w) versus log(q) plot \n",
    "- with particle data scatterplotted to overlay the powerlaw fits of the full models\n",
    "- wrap ^this functionally into a function that takes an input ax,df_particle_drates and plots the scatterplot data and the fit\n",
    "- generate a run_15_top_6.pdf using bluf.py"
   ]
  },
  {
   "cell_type": "code",
   "execution_count": 561,
   "metadata": {
    "ExecuteTime": {
     "end_time": "2021-09-01T20:32:47.505286Z",
     "start_time": "2021-09-01T20:32:46.815917Z"
    },
    "hidden": true
   },
   "outputs": [],
   "source": [
    "input_fn=f\"/home/timothytyree/Documents/GitHub/bgmc/python/data/osg_output/run_15_all.csv\"\n",
    "df_raw=pd.read_csv(input_fn)\n",
    "#derived values\n",
    "# df_raw['CollRate']=1./df_raw['CollTime']\n",
    "df_raw['A']=df_raw['L']**2\n",
    "df_raw['q']=df_raw['N']/df_raw['A'] #number of tips per square centimeter\n",
    "df_raw['w']=df_raw['CollRate']/df_raw['A'] #[mHz?]/cm^2"
   ]
  },
  {
   "cell_type": "code",
   "execution_count": 562,
   "metadata": {
    "ExecuteTime": {
     "end_time": "2021-09-01T20:32:48.417831Z",
     "start_time": "2021-09-01T20:32:48.390590Z"
    },
    "hidden": true
   },
   "outputs": [],
   "source": [
    "k=0#for k in range(len(smallest_deviations_lst[0])):\n",
    "trial_index_1=smallest_deviations_lst[0][k]\n",
    "trial_index_2=smallest_deviations_lst[1][k]"
   ]
  },
  {
   "cell_type": "code",
   "execution_count": null,
   "metadata": {
    "ExecuteTime": {
     "end_time": "2021-09-01T20:06:48.665193Z",
     "start_time": "2021-09-01T20:06:48.637356Z"
    },
    "hidden": true
   },
   "outputs": [],
   "source": []
  },
  {
   "cell_type": "code",
   "execution_count": 608,
   "metadata": {
    "ExecuteTime": {
     "end_time": "2021-09-01T21:11:52.366394Z",
     "start_time": "2021-09-01T21:11:52.263869Z"
    },
    "hidden": true
   },
   "outputs": [
    {
     "name": "stdout",
     "output_type": "stream",
     "text": [
      "t_m_FK=0.00612\n",
      "t_m_LR=-0.00016\n"
     ]
    }
   ],
   "source": [
    "#compute the powerlaw fitted values for the k^th best exponent (i) with and (ii) without scaling\n",
    "# FK model\n",
    "x_values=np.linspace(0.1,1,91)\n",
    "d=df.loc[trial_index_1]\n",
    "yhat1=d['M']*x_values**d['m']\n",
    "yhat1_scaled=wjr['fk_pbc']['M']*x_values**d['m']\n",
    "scale_factor1=wjr['fk_pbc']['M']/d['M']\n",
    "\n",
    "#computation of tscores\n",
    "t_m_FK=(wjr['fk_pbc']['m']-d['m'])/np.max((wjr['fk_pbc']['Delta_m'],d['Delta_m']))\n",
    "print(f\"t_m_FK={t_m_FK:.5f}\")\n",
    "\n",
    "#query the DataFrame for this d\n",
    "query =(df_raw.set_second==d['set_second'])&(df_raw.reflect==d['reflect'])\n",
    "query&=(df_raw.no_repulsion==d['no_repulsion'])&(df_raw.no_attraction==d['no_attraction'])\n",
    "query&=(df_raw.neighbor==int(d['neighbor']))&(df_raw.force_code==int(d['force_code']))\n",
    "query&=df_raw.r==d['r']\n",
    "query&=df_raw.kappa==d['kappa']\n",
    "query&=df_raw.D==d['D']\n",
    "query&=df_raw.L==d['L']\n",
    "query&=df_raw.varkappa==d['varkappa']\n",
    "query&=df_raw.x0==d['x0']\n",
    "dg=df_raw[query]\n",
    "#and extract the xy values\n",
    "x1_values=dg.q.values\n",
    "y1_values=dg.w.values\n",
    "y1_scaled_values=y1_values*scale_factor1\n",
    "\n",
    "#LR model\n",
    "d=df.loc[trial_index_2]\n",
    "yhat2=d['M']*x_values**d['m']\n",
    "yhat2_scaled=wjr['lr_pbc']['M']*x_values**d['m']\n",
    "scale_factor2=wjr['lr_pbc']['M']/d['M']\n",
    "\n",
    "#computation of tscores\n",
    "t_m_LR=(wjr['lr_pbc']['m']-d['m'])/np.max((wjr['lr_pbc']['Delta_m'],d['Delta_m']))\n",
    "print(f\"t_m_LR={t_m_LR:.5f}\")\n",
    "\n",
    "#query the DataFrame for this d\n",
    "query =(df_raw.set_second==d['set_second'])&(df_raw.reflect==d['reflect'])\n",
    "query&=(df_raw.no_repulsion==d['no_repulsion'])&(df_raw.no_attraction==d['no_attraction'])\n",
    "query&=(df_raw.neighbor==int(d['neighbor']))&(df_raw.force_code==int(d['force_code']))\n",
    "query&=df_raw.r==d['r']\n",
    "query&=df_raw.kappa==d['kappa']\n",
    "query&=df_raw.D==d['D']\n",
    "query&=df_raw.L==d['L']\n",
    "query&=df_raw.varkappa==d['varkappa']\n",
    "query&=df_raw.x0==d['x0']\n",
    "dg=df_raw[query]\n",
    "#and extract the xy values\n",
    "x2_values=dg.q.values\n",
    "y2_values=dg.w.values\n",
    "y2_scaled_values=y2_values*scale_factor2"
   ]
  },
  {
   "cell_type": "code",
   "execution_count": 612,
   "metadata": {
    "ExecuteTime": {
     "end_time": "2021-09-01T21:30:52.111996Z",
     "start_time": "2021-09-01T21:30:52.066044Z"
    },
    "hidden": true
   },
   "outputs": [
    {
     "data": {
      "text/plain": [
       "(0.048, 2.8860000000000006)"
      ]
     },
     "execution_count": 612,
     "metadata": {},
     "output_type": "execute_result"
    }
   ],
   "source": [
    "80*0.03,4*2.22 #cm^2/s attractive force magnitude\n",
    "500*0.03,250*2.22 #Hz reaction rate\n",
    "1.6*0.03,1.3*2.22 #cm^2/s diffusion coefficient"
   ]
  },
  {
   "cell_type": "code",
   "execution_count": 578,
   "metadata": {
    "ExecuteTime": {
     "end_time": "2021-09-01T20:41:03.562529Z",
     "start_time": "2021-09-01T20:41:03.049396Z"
    },
    "hidden": true,
    "scrolled": true
   },
   "outputs": [
    {
     "data": {
      "image/png": "[encoded data removed]",
      "text/plain": [
       "<Figure size 432x288 with 1 Axes>"
      ]
     },
     "metadata": {
      "needs_background": "light"
     },
     "output_type": "display_data"
    }
   ],
   "source": [
    "#plot fits for full model\n",
    "m_fk=wjr['fk_pbc']['m']\n",
    "m_lr=wjr['lr_pbc']['m']\n",
    "M_fk=wjr['fk_pbc']['M']# Hz*cm^{2(m-1)}\n",
    "M_lr=wjr['lr_pbc']['M']# Hz*cm^{2(m-1)}\n",
    "# RMSE_fk=0.1252 Hz/cm^2\n",
    "# RMSE_lr=0.0974 Hz/cm^2\n",
    "# R^2=0.997 (FK)\n",
    "# R^2=0.994 (LR)\n",
    "\n",
    "xv=np.arange(0.1,1.,.05)\n",
    "yv_fk=M_fk*(xv)**m_fk\n",
    "yv_lr=M_lr*(xv)**m_lr\n",
    "\n",
    "yscale=10**3\n",
    "fontsize=16\n",
    "# plt.xlim([0.1,1])\n",
    "# plt.ylim([1e-1,15])\n",
    "plt.yscale('log')\n",
    "plt.xscale('log')\n",
    "plt.plot(xv,yv_fk,label='FK power law fit',zorder=3,lw=4)\n",
    "plt.plot(xv,yv_lr,label='LR power law fit',zorder=3,lw=4)\n",
    "\n",
    "#plot particle model for the FK model\n",
    "plt.scatter(x1_values,y1_values,label=f'(#{k+1} exponent found for FK model)',c='C3',alpha=0.3)\n",
    "plt.plot(x_values,yhat1,label=f'powerlaw fit, particle model',c='C3',alpha=.7,zorder=3,lw=3)\n",
    "\n",
    "#plot particle model for the LR model\n",
    "plt.scatter(x2_values,y2_values,label=f'(#{k+1} exponent found for LR model)',c='C4',alpha=0.3)\n",
    "plt.plot(x_values,yhat2,label=f'powerlaw fit, particle model',c='C4',alpha=.7,zorder=3,lw=3)\n",
    "\n",
    "\n",
    "# plt.title(u'comparison to simulation\\nwith two hybrid modes',fontsize=fontsize)\n",
    "plt.xlabel(r'q (cm$^{-2}$)',fontsize=fontsize)\n",
    "plt.ylabel(r'w (Hz cm$^{-2}$)', fontsize=fontsize)\n",
    "plt.tick_params(axis='both', which='major', labelsize=fontsize)\n",
    "plt.tick_params(axis='both', which='minor', labelsize=0)\n",
    "plt.legend(fontsize=fontsize-5,ncol=2,loc='upper left')\n",
    "plt.show()"
   ]
  },
  {
   "cell_type": "code",
   "execution_count": 601,
   "metadata": {
    "ExecuteTime": {
     "end_time": "2021-09-01T20:59:31.731901Z",
     "start_time": "2021-09-01T20:59:31.239274Z"
    },
    "hidden": true
   },
   "outputs": [
    {
     "data": {
      "image/png": "[encoded data removed]",
      "text/plain": [
       "<Figure size 432x288 with 1 Axes>"
      ]
     },
     "metadata": {
      "needs_background": "light"
     },
     "output_type": "display_data"
    }
   ],
   "source": [
    "#plot fits for full model, with time rescaling\n",
    "m_fk=wjr['fk_pbc']['m']\n",
    "m_lr=wjr['lr_pbc']['m']\n",
    "M_fk=wjr['fk_pbc']['M']# Hz*cm^{2(m-1)}\n",
    "M_lr=wjr['lr_pbc']['M']# Hz*cm^{2(m-1)}\n",
    "# RMSE_fk=0.1252 Hz/cm^2\n",
    "# RMSE_lr=0.0974 Hz/cm^2\n",
    "# R^2=0.997 (FK)\n",
    "# R^2=0.994 (LR)\n",
    "\n",
    "xv=np.arange(0.1,1.,.05)\n",
    "yv_fk=M_fk*(xv)**m_fk\n",
    "yv_lr=M_lr*(xv)**m_lr\n",
    "\n",
    "yscale=10**3\n",
    "fontsize=16\n",
    "# plt.xlim([0.1,1])\n",
    "plt.ylim([5e-2,80])\n",
    "plt.yscale('log')\n",
    "plt.xscale('log')\n",
    "plt.plot(xv,yv_fk,label='FK power law fit',zorder=3,lw=4)\n",
    "plt.plot(xv,yv_lr,label='LR power law fit',zorder=3,lw=4)\n",
    "\n",
    "#plot particle model for the FK model\n",
    "plt.scatter(x1_values,y1_scaled_values,label=f\"particle model setting A\",c='C3',alpha=0.3)\n",
    "# plt.scatter(x1_values,y1_scaled_values,label=f'(#{k+1} exponent found for FK model\\nrescaled by M_new/M_old={scale_factor1:.2f}',c='C3',alpha=0.3)\n",
    "# plt.scatter(x1_values,y1_scaled_values,label=f'(#{k+1} exponent found for FK model,\\nrescaled time)',c='C3',alpha=0.3)\n",
    "# plt.plot(x_values,yhat1_scaled,label=f'powerlaw fit, particle model,\\nrescaled by M_new/M_old={scale_factor1:.2f}',c='C3',alpha=.7,zorder=3,lw=3)\n",
    "\n",
    "#plot particle model for the LR model\n",
    "plt.scatter(x2_values,y2_scaled_values,label=f\"particle model setting B\",c='C4',alpha=0.3)\n",
    "# plt.scatter(x2_values,y2_scaled_values,label=f'(#{k+1} exponent found for LR model,\\nrescaled by M_new/M_old={scale_factor2:.2f}',c='C4',alpha=0.3)\n",
    "# plt.scatter(x2_values,y2_scaled_values,label=f'(#{k+1} exponent found for LR model,\\nrescaled time)',c='C4',alpha=0.3)\n",
    "# plt.plot(x_values,yhat2_scaled,label=f'powerlaw fit, particle model,\\nrescaled by M_new/M_old={scale_factor2:.2f}',c='C4',alpha=.7,zorder=3,lw=3)\n",
    "\n",
    "\n",
    "# plt.title(u'comparison to simulation\\nwith two hybrid modes',fontsize=fontsize)\n",
    "plt.xlabel(r'q (cm$^{-2}$)',fontsize=fontsize)\n",
    "plt.ylabel(r'w (Hz cm$^{-2}$)', fontsize=fontsize)\n",
    "plt.tick_params(axis='both', which='major', labelsize=fontsize)\n",
    "plt.tick_params(axis='both', which='minor', labelsize=0)\n",
    "plt.legend(fontsize=fontsize-5,ncol=2,loc='upper left')\n",
    "plt.show()"
   ]
  },
  {
   "cell_type": "code",
   "execution_count": 622,
   "metadata": {
    "ExecuteTime": {
     "end_time": "2021-09-02T02:07:16.906025Z",
     "start_time": "2021-09-02T02:07:16.868501Z"
    },
    "hidden": true
   },
   "outputs": [
    {
     "name": "stdout",
     "output_type": "stream",
     "text": [
      "printing results for particle model fit to FK model\n",
      "m=1.868452+-0.010846; B=2.508452+-0.017746\n",
      "M= 5.575331+-0.130991 Hz*cm^{2(m-1)}\n",
      "RMSE=0.0640 Hz/cm^2\n",
      "R^2=0.9993\n",
      "^this particle model used parameters:\n",
      "r             0.5\n",
      "kappa       500.0\n",
      "D             1.6\n",
      "varkappa     80.0\n",
      "Name: 2602, dtype: float64\n",
      "\n",
      "printing results for particle model fit to LR model\n",
      "m=1.554571+-0.014465; B=6.132528+-0.052504\n",
      "M= 16.766458+-0.677432 Hz*cm^{2(m-1)}\n",
      "RMSE=0.2560 Hz/cm^2\n",
      "R^2=0.9982\n",
      "^this particle model used parameters:\n",
      "r             0.1\n",
      "kappa       250.0\n",
      "D             1.3\n",
      "varkappa      4.0\n",
      "Name: 6002, dtype: float64\n"
     ]
    }
   ],
   "source": [
    "d=df.loc[trial_index_1]\n",
    "print(f\"printing results for particle model fit to FK model\")\n",
    "boo=(x1_values>=0.2)&(x1_values<=1.0)\n",
    "print_fit_power_law(x1_values[boo],y1_scaled_values[boo])\n",
    "print(f\"^this particle model used parameters:\")\n",
    "print(d[input_cols])\n",
    "\n",
    "d=df.loc[trial_index_2]\n",
    "print(f\"\\nprinting results for particle model fit to LR model\")\n",
    "boo=(x2_values>=0.2)&(x2_values<=1.0)\n",
    "print_fit_power_law(x2_values[boo],y2_scaled_values[boo])\n",
    "print(f\"^this particle model used parameters:\")\n",
    "print(d[input_cols])"
   ]
  },
  {
   "cell_type": "code",
   "execution_count": 616,
   "metadata": {
    "ExecuteTime": {
     "end_time": "2021-09-02T01:50:04.876843Z",
     "start_time": "2021-09-02T01:50:04.851308Z"
    },
    "hidden": true
   },
   "outputs": [],
   "source": [
    "# print(d)"
   ]
  },
  {
   "cell_type": "markdown",
   "metadata": {
    "ExecuteTime": {
     "end_time": "2021-09-02T01:49:49.394383Z",
     "start_time": "2021-09-02T01:49:49.366646Z"
    }
   },
   "source": [
    "# dev functionally automating level set computing on the m heatmaps of a versus r\n",
    "Then, \n",
    "- TODO: plot it\n",
    "- TODO: plot save for M\n",
    "- TODO: overlay the two level sets and indicate the intersection with a black star or something"
   ]
  },
  {
   "cell_type": "code",
   "execution_count": 106,
   "metadata": {
    "ExecuteTime": {
     "end_time": "2021-09-02T21:16:00.464066Z",
     "start_time": "2021-09-02T21:16:00.446494Z"
    }
   },
   "outputs": [],
   "source": [
    "import lib_care import *"
   ]
  },
  {
   "cell_type": "code",
   "execution_count": 178,
   "metadata": {
    "ExecuteTime": {
     "end_time": "2021-09-02T21:54:21.669996Z",
     "start_time": "2021-09-02T21:54:21.626695Z"
    }
   },
   "outputs": [],
   "source": [
    "# #TODO: move this to lib_care.measure\n",
    "# #TODO: These were copied to lib.measure... and lib_care.measure and care/lib.measure\n",
    "# def comp_largest_level_set(array,level,txt):\n",
    "#     #extract the contour in pixel coordinates\n",
    "#     contours=find_contours(array=array, level=level, fully_connected='low', positive_orientation='low', mode='hard_boundary')#, *, mask=None)\n",
    "#     num_contours=len(contours)\n",
    "#     assert(num_contours>0)\n",
    "#     minsize=0\n",
    "#     for contour_any in contours:\n",
    "#         if contour_any.shape[0]>minsize:\n",
    "#             minsize=contour_any.shape[0]\n",
    "#             contour=contour_any\n",
    "#     # plt.plot(contour[:,1],contour[:,0])\n",
    "\n",
    "#     #map pixel coordinates to input coordinates using bilinear interpolation\n",
    "#     #doubling kwargs width and height effectively nullifies the periodic boundary conditions used in interpolate_txt_to_contour by default\n",
    "#     width=2*array.shape[0]\n",
    "#     height=2*array.shape[1]\n",
    "#     contour_values=np.array(interpolate_txt_to_contour(contour,width,height,txt=txt))[1:]#[1:] fixes bug from periodic boundary conditions\n",
    "#     return contour_values"
   ]
  },
  {
   "cell_type": "code",
   "execution_count": 312,
   "metadata": {
    "ExecuteTime": {
     "end_time": "2021-09-03T00:59:06.661493Z",
     "start_time": "2021-09-03T00:59:06.628876Z"
    }
   },
   "outputs": [],
   "source": [
    "# from inspect import getsource\n",
    "# print (\n",
    "#     getsource(moving_average))\n",
    "# find_contours"
   ]
  },
  {
   "cell_type": "code",
   "execution_count": 313,
   "metadata": {
    "ExecuteTime": {
     "end_time": "2021-09-03T00:59:07.740085Z",
     "start_time": "2021-09-03T00:59:07.722015Z"
    }
   },
   "outputs": [],
   "source": [
    "# def smooth_contour_xy(contour_values,navg=20,xcol=0,ycol=1):\n",
    "#     '''returns contour smoothed by a simple moving average with a moving window length of navg nodes/values.\n",
    "#     uses <function lib_care.measure.compute_forces_at_annihilation.moving_average(x, w)>, which should be moved to lib_care.measure.moving_average.py\n",
    "#     Example Usage:\n",
    "#     x_smoothed,y_smoothed=smooth_contour_xy(contour_values,w=20)\n",
    "#     '''\n",
    "#     x=contour_values[:,xcol]\n",
    "#     y=contour_values[:,ycol]\n",
    "#     x_smoothed=moving_average(x,w=navg)\n",
    "#     y_smoothed=moving_average(y,w=navg)\n",
    "#     return x_smoothed,y_smoothed\n",
    "\n",
    "# def smooth_contour(contour_values,navg=20):\n",
    "#     '''returns contour smoothed by a simple moving average with a moving window length of navg nodes/values.\n",
    "#     uses <function lib_care.measure.compute_forces_at_annihilation.moving_average(x, w)>, which should be moved to lib_care.measure.moving_average.py\n",
    "#     Example Usage:\n",
    "#     smoothed_contour_value_lst=smooth_contour(contour_values,navg=20)\n",
    "#     '''\n",
    "#     smoothed_contour_value_lst=[]\n",
    "#     for col in range(contour_values.shape[1]):\n",
    "#         x=contour_values[:,col]\n",
    "#         x_smoothed=moving_average(x,w=navg)\n",
    "#         smoothed_contour_value_lst.append(x_smoothed)\n",
    "#     return smoothed_contour_value_lst"
   ]
  },
  {
   "cell_type": "code",
   "execution_count": 239,
   "metadata": {
    "ExecuteTime": {
     "end_time": "2021-09-02T22:44:52.855278Z",
     "start_time": "2021-09-02T22:44:52.819233Z"
    }
   },
   "outputs": [],
   "source": [
    "# def comp_meshgrid_from_X(X,nsamples=1000):\n",
    "#     #define the local grid for visualization of N-dim interpolation\n",
    "#     num_cols=X.shape[1]\n",
    "#     xi=[]\n",
    "#     for i in range(num_cols):\n",
    "#         x=X[:,i]\n",
    "#         xi.append( np.linspace(np.min(x), np.max(x),nsamples) )\n",
    "#     XI_lst=np.meshgrid(*xi)\n",
    "#     return XI_lst\n",
    "\n",
    "# def comp_coordinate_values_from_X(X,nsamples=1000):\n",
    "#     XI_lst=comp_meshgrid_from_X(X,nsamples=nsamples)\n",
    "#     x1_values=XI_lst[0]\n",
    "#     x2_values=XI_lst[1]\n",
    "#     return x1_values, x2_values"
   ]
  },
  {
   "cell_type": "code",
   "execution_count": 240,
   "metadata": {
    "ExecuteTime": {
     "end_time": "2021-09-02T22:44:53.968860Z",
     "start_time": "2021-09-02T22:44:53.949543Z"
    }
   },
   "outputs": [],
   "source": [
    "# def interp_txt_from_scatter(X,y,nsamples=1000,mode ='spline',**kwargs):\n",
    "#     '''input: X,y,nsamples=1000:\n",
    "#         - (N,2) numpy array as X, (N,1) numpy array as y\n",
    "#         - mode='spline' uses CloughTocher2DInterpolator, which recieves kwargs\n",
    "#         - mode='linear' uses LinearNDInterpolator, which recieves kwargs\n",
    "#     output: x1_values,x2_values,y_values\n",
    "    \n",
    "#     Example Usage:\n",
    "#     x1_values,x2_values,y_values=interp_txt_from_scatter(X,y)\n",
    "#     '''\n",
    "#     if mode == 'linear':\n",
    "#         interp = LinearNDInterpolator(X, y,**kwargs)\n",
    "#     elif mode == 'spline':\n",
    "#         interp = CloughTocher2DInterpolator(X, y,**kwargs)\n",
    "#     else:\n",
    "#         pass\n",
    "#         raise(f\"Warning: mode={mode} is not yet implemented!\")\n",
    "\n",
    "#     #compute the xy coordinate images\n",
    "#     x1_values, x2_values = comp_coordinate_values_from_X(X,nsamples=nsamples)\n",
    "\n",
    "#     #compute the target value images\n",
    "#     gridshape=x1_values.shape\n",
    "#     X_values =np.array(list(zip((x1_values.flatten(),x2_values.flatten()))))[:,0,:].T\n",
    "#     y_values = interp(X_values).reshape(gridshape[0],gridshape[1])\n",
    "#     return x1_values,x2_values,y_values"
   ]
  },
  {
   "cell_type": "code",
   "execution_count": 314,
   "metadata": {
    "ExecuteTime": {
     "end_time": "2021-09-03T01:03:39.800730Z",
     "start_time": "2021-09-03T01:03:39.778841Z"
    }
   },
   "outputs": [],
   "source": [
    "# def comp_longest_level_set_and_smooth(X,y,level,navg=20):\n",
    "#     '''returns the navg-moving average xy coordinates of the level-set \n",
    "#     curve where y(X)=level that has the most segments.\n",
    "#     - X is an N by 2 numpy array\n",
    "#     - y is an N by 1 numpy array\n",
    "#     Example Usage:\n",
    "#     output_col='m'; model_name='lr_pbc'\n",
    "#     level=wjr[model_name][output_col]\n",
    "#     y=df.loc[query,output_col].values\n",
    "#     smoothed_contour_values=comp_longest_level_set(X,y,level,navg=20)\n",
    "#     '''\n",
    "    \n",
    "    \n",
    "#     x1_values,x2_values,y_values=interp_txt_from_scatter(X,y)\n",
    "#     txt=np.stack((x1_values,x2_values)).T\n",
    "\n",
    "#     #TODO(later, add support for measuring M, Delta_M along the m-level set): concat txt from all output arrays of interest at once\n",
    "#     #- compute the y_values for each target output variable\n",
    "#     # - stack y_value_lst at the end as a txt\n",
    "#     #HINT: modify to use only first 2 axis XI_lst=comp_meshgrid_from_X(X) where X is N by D, for D channels you want the value for along the contour\n",
    "#     # ###### MemoryError: Unable to allocate 6.94 EiB for an array with shape (1000, 1000, 1000, 1000, 1000, 1000) and data type float64 \n",
    "#     # #interpolate any desired fields to txt\n",
    "#     # field_txt_col_lst=[x1_col,x2_col,'m','Delta_m','M','Delta_M']\n",
    "#     # X=df.loc[query,field_txt_col_lst].values\n",
    "#     # XI_lst=comp_meshgrid_from_X(X)\n",
    "#     # txt=np.stack(XI_lst).T\n",
    "\n",
    "#     #interpolate the smoothed contour values\n",
    "#     array=y_values\n",
    "#     contour_values=comp_largest_level_set(array,level,txt)\n",
    "#     x_smoothed,y_smoothed=smooth_contour_xy(contour_values,navg=navg)\n",
    "#     smoothed_contour_values=np.stack((x_smoothed,y_smoothed)).T\n",
    "#     #re: ###### MemoryError: Unable to allocate 6.94 EiB \n",
    "#     # smoothed_contour_value_lst=smooth_contour(contour_values,navg=20)\n",
    "#     return smoothed_contour_values"
   ]
  },
  {
   "cell_type": "markdown",
   "metadata": {},
   "source": [
    "# computation of level set curves set to powerlaw fits from the full models"
   ]
  },
  {
   "cell_type": "code",
   "execution_count": 241,
   "metadata": {
    "ExecuteTime": {
     "end_time": "2021-09-02T22:44:55.330080Z",
     "start_time": "2021-09-02T22:44:55.309951Z"
    }
   },
   "outputs": [
    {
     "name": "stdout",
     "output_type": "stream",
     "text": [
      "fk_pbc lr_pbc\n"
     ]
    }
   ],
   "source": [
    "# Recall powerlaw fits to full models\n",
    "# Fenton-Karma(PBC) \n",
    "m, Delta_m, M, Delta_M = 1.8772341309722325, 0.02498750277237229, 5.572315674840435, 0.3053120355191732\n",
    "wjr={\n",
    "    'fk_pbc':{'m':m, 'Delta_m':Delta_m, 'M':M, 'Delta_M':Delta_M}\n",
    "}\n",
    "# Luo-Rudy(PBC) \n",
    "m, Delta_m, M, Delta_M = 1.6375562704001745, 0.017190912126700632, 16.73559858353835, 0.8465090320196467\n",
    "wjr['lr_pbc']={'m':m, 'Delta_m':Delta_m, 'M':M, 'Delta_M':Delta_M}\n",
    "print(*wjr)"
   ]
  },
  {
   "cell_type": "code",
   "execution_count": 293,
   "metadata": {
    "ExecuteTime": {
     "end_time": "2021-09-02T23:28:37.041492Z",
     "start_time": "2021-09-02T23:28:37.007876Z"
    }
   },
   "outputs": [],
   "source": [
    "#load the map between input parameters and emergent observables\n",
    "input_fn=f\"/home/timothytyree/Documents/GitHub/bgmc/python/data/osg_output/run_15_all/powerlaw_fits_run_15_all.csv\"\n",
    "df=pd.read_csv(input_fn)\n",
    "\n",
    "#define constant parameters\n",
    "reflect=0\n",
    "force_code=2\n",
    "set_second=0\n",
    "neighbor=0\n",
    "no_attraction=0\n",
    "no_repulsion=0\n",
    "L=10\n",
    "\n",
    "#query the DataFrame\n",
    "query =(df.set_second==set_second)&(df.reflect==reflect)\n",
    "query&=(df.no_repulsion==no_repulsion)&(df.no_attraction==no_attraction)\n",
    "query&=(df.neighbor==neighbor)&(df.force_code==force_code)\n",
    "# query&=df.r==r\n",
    "# query&=df.kappa==kappa\n",
    "# query&=df.D==D\n",
    "query&=df.L==L\n",
    "# query&=df.varkappa==varkappa\n",
    "# query&=df.x0==x0\n",
    "query_template=query.copy()\n"
   ]
  },
  {
   "cell_type": "code",
   "execution_count": 262,
   "metadata": {
    "ExecuteTime": {
     "end_time": "2021-09-02T23:02:02.816643Z",
     "start_time": "2021-09-02T23:02:02.792000Z"
    }
   },
   "outputs": [],
   "source": [
    "x1_col='r'\n",
    "x2_col='varkappa'\n",
    "nsamples=1000\n",
    "navg=20\n",
    "mode='spline'#'linear'\n",
    "\n",
    "\n",
    "D=2\n",
    "kappa=500\n",
    "query = (df['D']==D)\n",
    "query&= (df['kappa']==kappa)\n",
    "query&= query_template\n",
    "X=df.loc[query,[x1_col,x2_col]].values"
   ]
  },
  {
   "cell_type": "code",
   "execution_count": 292,
   "metadata": {
    "ExecuteTime": {
     "end_time": "2021-09-02T23:28:05.553571Z",
     "start_time": "2021-09-02T23:28:05.176473Z"
    }
   },
   "outputs": [
    {
     "name": "stdout",
     "output_type": "stream",
     "text": [
      "for the lr_pbc model, when kappa=500 Hz and D=2.00 cm^2/s...\n"
     ]
    }
   ],
   "source": [
    "#computation of level set curves set to powerlaw fits from the full models\n",
    "#LR model\n",
    "model_name='lr_pbc'\n",
    "print(f\"for the {model_name} model, when kappa={kappa:.0f} Hz and D={D:.2f} cm^2/s...\")\n",
    "\n",
    "output_col='m'\n",
    "level=wjr[model_name][output_col]\n",
    "y=df.loc[query,output_col].values\n",
    "contour_m_values=comp_longest_level_set_and_smooth(X,y,level,navg=navg)\n",
    "\n",
    "output_col='M'\n",
    "level=wjr[model_name][output_col]\n",
    "y=df.loc[query,output_col].values\n",
    "contour_M_values=comp_longest_level_set_and_smooth(X,y,level,navg=navg)"
   ]
  },
  {
   "cell_type": "code",
   "execution_count": null,
   "metadata": {},
   "outputs": [],
   "source": []
  },
  {
   "cell_type": "code",
   "execution_count": 315,
   "metadata": {
    "ExecuteTime": {
     "end_time": "2021-09-03T01:11:17.903512Z",
     "start_time": "2021-09-03T01:11:17.884233Z"
    }
   },
   "outputs": [],
   "source": [
    "# def compute_intersections(contour_A_values,contour_B_values):\n",
    "#     '''\n",
    "#     Example Usage:\n",
    "#     x1star_values, x2star_values=compute_intersections(contour_A_values,contour_B_values)\n",
    "#     '''    \n",
    "#     contour_m_values=contour_A_values\n",
    "#     contour_M_values=contour_B_values\n",
    "#     x1=contour_m_values[:,0]\n",
    "#     y1=contour_m_values[:,1]\n",
    "#     x2=contour_M_values[:,0]\n",
    "#     y2=contour_M_values[:,1]\n",
    "#     x1star_values, x2star_values=intersection(x1, y1, x2, y2)\n",
    "#     return x1star_values, x2star_values\n",
    "    \n",
    "# def compute_self_consistent_astar_rstar(contour_m_values,contour_M_values):\n",
    "#     '''\n",
    "#     Example Usage:\n",
    "#     rstar,astar=compute_self_consistent_astar_rstar(contour_m_values,contour_M_values)\n",
    "#     ''' \n",
    "#     #compute the intersection point as rstar,astar\n",
    "#     x1star_values, x2star_values=compute_intersections(contour_m_values,contour_M_values)\n",
    "#     assert (x1star_values.shape[0]==1)\n",
    "#     assert (x2star_values.shape[0]==1)\n",
    "#     rstar=x1star_values[0]\n",
    "#     astar=x2star_values[0]\n",
    "#     return rstar,astar\n",
    "#     print(f\"the one intersection found is centered at rstar={rstar:.5f} cm and astar={astar:.5f} cm^2/s.\")"
   ]
  },
  {
   "cell_type": "code",
   "execution_count": 318,
   "metadata": {
    "ExecuteTime": {
     "end_time": "2021-09-03T01:13:23.101762Z",
     "start_time": "2021-09-03T01:13:23.051986Z"
    }
   },
   "outputs": [],
   "source": [
    "rstar,astar=compute_self_consistent_astar_rstar(contour_m_values,contour_M_values)\n",
    "#collect results into a dictionary\n",
    "dict_out={\n",
    "    'model_name':model_name,\n",
    "    'rstar':rstar,\n",
    "    'astar':astar,\n",
    "    'kappa':kappa,\n",
    "    'D':D\n",
    "}\n",
    "# append that dict to list\n",
    "dict_out_lst.append(dict_out)\n",
    "#TODO: save results to .csv"
   ]
  },
  {
   "cell_type": "code",
   "execution_count": 298,
   "metadata": {
    "ExecuteTime": {
     "end_time": "2021-09-02T23:33:53.528392Z",
     "start_time": "2021-09-02T23:33:53.398232Z"
    }
   },
   "outputs": [
    {
     "data": {
      "image/png": "[encoded data removed]",
      "text/plain": [
       "<Figure size 432x288 with 1 Axes>"
      ]
     },
     "metadata": {
      "needs_background": "light"
     },
     "output_type": "display_data"
    }
   ],
   "source": [
    "#visualize the smoothed contour values and verify that they are reasonable\n",
    "plt.plot(contour_m_values[:,0],contour_m_values[:,1],'-',lw=3,c='C1')#,**kwargs)\n",
    "plt.plot(contour_M_values[:,0],contour_M_values[:,1],'--',lw=3,c='C1')#,**kwargs)\n",
    "\n",
    "#TODO: plot the intersection point\n",
    "plt.scatter(x = [rstar], y = [astar], c='k', s=200,zorder=3, marker = '*')#, cmap=cmap, vmin=vmin, vmax=vmax)\n",
    "\n",
    "\n",
    "# plt.xscale('log')\n",
    "# plt.yscale('log')\n",
    "plt.show()"
   ]
  },
  {
   "cell_type": "code",
   "execution_count": null,
   "metadata": {},
   "outputs": [],
   "source": [
    "#TODO: repeat for other full model\n",
    "\n",
    "#DONE: plot the 2 curves\n",
    "#DONE: plot the intersection point\n",
    "#TODO: make a reasonable figure\n",
    "#TODO: automate some reasonable plotting\n",
    "#TODO: repeat for other kappa\n",
    "#TODO: plot rstar,astar versus kappa\n",
    "#TODO: repeat for FK\n",
    "save_folder=f\"{nb_dir}/data/nice_cache\"\n",
    "#TODO: save rstar,astar,kappa,**params as csv in a central location, data/nice_cache/\n",
    "#TODO: finish this multi-paneled figure!!!!!!!!!!!!!!!\n",
    "#TODO: make a nice paneled figure crystalizing all these results!\n",
    "#TODO: share!\n",
    "#TODO: consider starting a new run 16 testing a few more kappa values"
   ]
  },
  {
   "cell_type": "code",
   "execution_count": 174,
   "metadata": {
    "ExecuteTime": {
     "end_time": "2021-09-02T21:41:45.600118Z",
     "start_time": "2021-09-02T21:41:45.580540Z"
    }
   },
   "outputs": [],
   "source": [
    "#DONE: crystalize ^this into a function that takes x1_values,x2_values,y_values, and level, and returns the contour xy values\n",
    "#TODO: get the orange contour for M\n",
    "#TODO: compute the intersection point where m and M self consistently describe this model as r*,a*, rstar, astar\n",
    "# rstar, astar=??\n",
    "#TODO: repeat at another kappa\n",
    "#TODO: plot kappa versus r*,a*\n"
   ]
  },
  {
   "cell_type": "code",
   "execution_count": null,
   "metadata": {},
   "outputs": [],
   "source": [
    "#TODO: finish this multi-paneled figure!!!!!!!!!!!!!!!\n",
    "#TODO(later): automate generating the .csv of all the powerlaw fits... also, change the output location to somewhere central.  record src in some .json file\n",
    "#TODO: dev function that repeatably generates ^this multi-paneled-figure into a fig_X.pdf\n"
   ]
  }
 ],
 "metadata": {
  "kernelspec": {
   "display_name": "Python 3",
   "language": "python",
   "name": "python3"
  },
  "language_info": {
   "codemirror_mode": {
    "name": "ipython",
    "version": 3
   },
   "file_extension": ".py",
   "mimetype": "text/x-python",
   "name": "python",
   "nbconvert_exporter": "python",
   "pygments_lexer": "ipython3",
   "version": "3.7.6"
  },
  "toc": {
   "base_numbering": 1,
   "nav_menu": {},
   "number_sections": true,
   "sideBar": true,
   "skip_h1_title": false,
   "title_cell": "Table of Contents",
   "title_sidebar": "Contents",
   "toc_cell": false,
   "toc_position": {},
   "toc_section_display": true,
   "toc_window_display": false
  },
  "varInspector": {
   "cols": {
    "lenName": 16,
    "lenType": 16,
    "lenVar": 40
   },
   "kernels_config": {
    "python": {
     "delete_cmd_postfix": "",
     "delete_cmd_prefix": "del ",
     "library": "var_list.py",
     "varRefreshCmd": "print(var_dic_list())"
    },
    "r": {
     "delete_cmd_postfix": ") ",
     "delete_cmd_prefix": "rm(",
     "library": "var_list.r",
     "varRefreshCmd": "cat(var_dic_list()) "
    }
   },
   "types_to_exclude": [
    "module",
    "function",
    "builtin_function_or_method",
    "instance",
    "_Feature"
   ],
   "window_display": false
  }
 },
 "nbformat": 4,
 "nbformat_minor": 4
}
