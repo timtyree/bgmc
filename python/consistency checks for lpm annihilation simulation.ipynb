{
 "cells": [
  {
   "cell_type": "markdown",
   "id": "4b08994c",
   "metadata": {},
   "source": [
    "# consistency checks for lpm annihilation simulation\n",
    "Timothy Tyree<br>\n",
    "3.29.2023"
   ]
  },
  {
   "cell_type": "code",
   "execution_count": 1,
   "id": "1d248509",
   "metadata": {
    "ExecuteTime": {
     "end_time": "2023-03-29T23:18:44.806665Z",
     "start_time": "2023-03-29T23:18:41.793440Z"
    }
   },
   "outputs": [
    {
     "name": "stderr",
     "output_type": "stream",
     "text": [
      "/Users/timothytyree/opt/miniconda3/envs/pyenv/lib/python3.9/site-packages/statsmodels/compat/pandas.py:61: FutureWarning: pandas.Int64Index is deprecated and will be removed from pandas in a future version. Use pandas.Index with the appropriate dtype instead.\n",
      "  from pandas import Int64Index as NumericIndex\n"
     ]
    }
   ],
   "source": [
    "from lib.my_initialization import *"
   ]
  },
  {
   "cell_type": "code",
   "execution_count": 45,
   "id": "c29729a2",
   "metadata": {
    "ExecuteTime": {
     "end_time": "2023-03-29T23:33:19.443976Z",
     "start_time": "2023-03-29T23:33:19.441419Z"
    }
   },
   "outputs": [],
   "source": [
    "import subprocess"
   ]
  },
  {
   "cell_type": "code",
   "execution_count": 107,
   "id": "a4b51e2d",
   "metadata": {
    "ExecuteTime": {
     "end_time": "2023-03-30T00:22:08.332915Z",
     "start_time": "2023-03-30T00:22:08.299731Z"
    }
   },
   "outputs": [],
   "source": [
    "plt.plot([1]*4)\n",
    "plt.close()\n",
    "#reset matplotlib\n",
    "import matplotlib\n",
    "matplotlib.rcParams.update(matplotlib.rcParamsDefault)\n",
    "mpl.rcParams.update(matplotlib.rcParamsDefault) #reset matplotlib"
   ]
  },
  {
   "cell_type": "markdown",
   "id": "d71851d6",
   "metadata": {},
   "source": [
    "# define module"
   ]
  },
  {
   "cell_type": "code",
   "execution_count": null,
   "id": "165cda18",
   "metadata": {},
   "outputs": [],
   "source": []
  },
  {
   "cell_type": "markdown",
   "id": "c505c690",
   "metadata": {},
   "source": [
    "# dev"
   ]
  },
  {
   "cell_type": "code",
   "execution_count": 20,
   "id": "31d6335a",
   "metadata": {
    "ExecuteTime": {
     "end_time": "2023-03-29T23:22:50.492501Z",
     "start_time": "2023-03-29T23:22:50.489864Z"
    }
   },
   "outputs": [],
   "source": [
    "# cfolder=f\"{nb_dir}/../c/attractive\"\n",
    "cfolder='/Users/timothytyree/Documents/GitHub/bgmc/c/attractive'\n",
    "os.chdir(cfolder)"
   ]
  },
  {
   "cell_type": "code",
   "execution_count": 21,
   "id": "ea82da4d",
   "metadata": {
    "ExecuteTime": {
     "end_time": "2023-03-29T23:22:51.008401Z",
     "start_time": "2023-03-29T23:22:50.869364Z"
    }
   },
   "outputs": [
    {
     "name": "stdout",
     "output_type": "stream",
     "text": [
      "/Users/timothytyree/Documents/GitHub/bgmc/c/attractive\r\n"
     ]
    }
   ],
   "source": [
    "!pwd"
   ]
  },
  {
   "cell_type": "code",
   "execution_count": 22,
   "id": "36393031",
   "metadata": {
    "ExecuteTime": {
     "end_time": "2023-03-29T23:22:52.354715Z",
     "start_time": "2023-03-29T23:22:52.180694Z"
    }
   },
   "outputs": [
    {
     "data": {
      "text/plain": [
       "0"
      ]
     },
     "execution_count": 22,
     "metadata": {},
     "output_type": "execute_result"
    }
   ],
   "source": [
    "#compile the executable\n",
    "os.system('./gcc.sh')"
   ]
  },
  {
   "cell_type": "code",
   "execution_count": 29,
   "id": "8e732709",
   "metadata": {
    "ExecuteTime": {
     "end_time": "2023-03-29T23:26:11.633018Z",
     "start_time": "2023-03-29T23:26:11.628475Z"
    }
   },
   "outputs": [
    {
     "data": {
      "text/plain": [
       "'/Users/timothytyree/Documents/GitHub/bgmc/c/attractive/return_CollTime.x 0.155 0.4158 5 300 9.3154 1 0.0001 0.0001 4 2 1 0 0 0 0 1 2'"
      ]
     },
     "execution_count": 29,
     "metadata": {},
     "output_type": "execute_result"
    }
   ],
   "source": [
    "# # input_string = f\"0.155 0.4158 5 300 9.3154 1 0.0001 0.0001 4 10000 1 0 0 0 0 1 2\"\n",
    "# # input_string = f\"0.155 0.4158 5 300 9.3154 1 0.0001 0.0001 4 2 1 0 0 0 0 1 2\"\n",
    "# func_path = f\"{cfolder}/return_CollTime.x\"\n",
    "# f\"{func_path} {input_string}\"\n",
    "# # os.system(f\"{func_path} {input_string}\")\n",
    "# # os.system(f\"{func_path} {input_string} | grep 'Tavg=' | grep -Eo '[+-]?[0-9]+([.][0-9]+)?'\")\n",
    "# os.system(f\"{func_path} <<< {input_string} | grep 'Tavg=' | grep -Eo '[+-]?[0-9]+([.][0-9]+)?'\")\n",
    "# # os.system(f\"/return_CollTime.x < 1-control.input | grep 'Tavg=' | grep -Eo '[+-]?[0-9]+([.][0-9]+)?'\")"
   ]
  },
  {
   "cell_type": "code",
   "execution_count": 129,
   "id": "15efbeee",
   "metadata": {
    "ExecuteTime": {
     "end_time": "2023-03-30T01:05:46.944810Z",
     "start_time": "2023-03-30T01:05:46.941880Z"
    }
   },
   "outputs": [],
   "source": [
    "# N0_lst=list(range(2,100,4))\n",
    "N0_lst=list(range(2,100,8))\n",
    "# N0_lst"
   ]
  },
  {
   "cell_type": "code",
   "execution_count": 138,
   "id": "a35e5d15",
   "metadata": {
    "ExecuteTime": {
     "end_time": "2023-03-30T01:13:19.963785Z",
     "start_time": "2023-03-30T01:13:19.958718Z"
    }
   },
   "outputs": [
    {
     "name": "stdout",
     "output_type": "stream",
     "text": [
      "len(task_lst)=13\n"
     ]
    }
   ],
   "source": [
    "niter=1500\n",
    "dt=1e-4\n",
    "L=5 \n",
    "# L=10 \n",
    "# seed=1\n",
    "seed=0\n",
    "task_lst=[]\n",
    "# for N0 in range(2,100,2):\n",
    "for N0 in N0_lst:\n",
    "    input_string = f\"0.155 0.4158 {L} 300 9.3154 1 {dt} {dt} {N0} {niter} {seed} 0 0 0 0 1 2\"\n",
    "    call_string = f\"/Users/timothytyree/Documents/GitHub/bgmc/c/attractive/return_CollTime.x <<< '{input_string}'\"\n",
    "    call_string+= \" | grep 'Tavg=' | grep -Eo '[+-]?[0-9]+([.][0-9]+)?'\"\n",
    "    task_lst.append(call_string)\n",
    "print(f\"{len(task_lst)=}\")"
   ]
  },
  {
   "cell_type": "code",
   "execution_count": 139,
   "id": "685d090c",
   "metadata": {
    "ExecuteTime": {
     "end_time": "2023-03-30T01:13:21.417278Z",
     "start_time": "2023-03-30T01:13:21.414425Z"
    }
   },
   "outputs": [],
   "source": [
    "def routine(call_string):\n",
    "    return eval(subprocess.check_output(call_string, shell=True))"
   ]
  },
  {
   "cell_type": "code",
   "execution_count": 140,
   "id": "38c811f2",
   "metadata": {
    "ExecuteTime": {
     "end_time": "2023-03-30T01:14:14.091499Z",
     "start_time": "2023-03-30T01:13:21.914369Z"
    }
   },
   "outputs": [
    {
     "data": {
      "text/plain": [
       "13"
      ]
     },
     "execution_count": 140,
     "metadata": {},
     "output_type": "execute_result"
    }
   ],
   "source": [
    "retval=[]\n",
    "for call_string in task_lst:\n",
    "    retval.append(routine(call_string))\n",
    "len(retval)"
   ]
  },
  {
   "cell_type": "code",
   "execution_count": 141,
   "id": "0660c049",
   "metadata": {
    "ExecuteTime": {
     "end_time": "2023-03-30T01:14:14.100285Z",
     "start_time": "2023-03-30T01:14:14.094192Z"
    }
   },
   "outputs": [
    {
     "data": {
      "text/plain": [
       "[0.131555,\n",
       " 0.00774567,\n",
       " 0.00319498,\n",
       " 0.001857,\n",
       " 0.00122813,\n",
       " 0.000960866,\n",
       " 0.000687852,\n",
       " 0.000552481,\n",
       " 0.000464615,\n",
       " 0.000381517,\n",
       " 0.000329564,\n",
       " 0.000283613,\n",
       " 0.000265726]"
      ]
     },
     "execution_count": 141,
     "metadata": {},
     "output_type": "execute_result"
    }
   ],
   "source": [
    "retval"
   ]
  },
  {
   "cell_type": "code",
   "execution_count": 94,
   "id": "6308673a",
   "metadata": {
    "ExecuteTime": {
     "end_time": "2023-03-30T00:01:46.861671Z",
     "start_time": "2023-03-30T00:00:07.302658Z"
    }
   },
   "outputs": [
    {
     "name": "stdout",
     "output_type": "stream",
     "text": [
      "running 25 tasks over 7 cpu cores...\n",
      "run time for evaluating routine was 99.55 seconds, yielding 25 values returned\n",
      "tasks complete!\n"
     ]
    }
   ],
   "source": [
    "#run daskbag\n",
    "printing=True\n",
    "max_num_jobs=os.cpu_count()-1\n",
    "npartitions=np.min((len(task_lst),max_num_jobs))\n",
    "if printing:\n",
    "    print(f\"running {len(task_lst)} tasks over {npartitions} cpu cores...\")\n",
    "retval=eval_routine_daskbag(routine,task_lst,npartitions,printing=printing)\n",
    "if printing:\n",
    "    print(f\"tasks complete!\")"
   ]
  },
  {
   "cell_type": "code",
   "execution_count": 95,
   "id": "76ff34ad",
   "metadata": {
    "ExecuteTime": {
     "end_time": "2023-03-30T00:02:23.557007Z",
     "start_time": "2023-03-30T00:02:23.551156Z"
    }
   },
   "outputs": [
    {
     "data": {
      "text/plain": [
       "[0.127428,\n",
       " 0.0177374,\n",
       " 0.00763926,\n",
       " 0.00466361,\n",
       " 0.00323858,\n",
       " 0.00242862,\n",
       " 0.00190103,\n",
       " 0.00149022,\n",
       " 0.00125032,\n",
       " 0.00105341,\n",
       " 0.000962851,\n",
       " 0.000794652,\n",
       " 0.00067221,\n",
       " 0.000629669,\n",
       " 0.000562433,\n",
       " 0.0005051,\n",
       " 0.000450158,\n",
       " 0.000423058,\n",
       " 0.000376942,\n",
       " 0.000353298,\n",
       " 0.000346328,\n",
       " 0.000316123,\n",
       " 0.000291176,\n",
       " 0.000266265,\n",
       " 0.000255795]"
      ]
     },
     "execution_count": 95,
     "metadata": {},
     "output_type": "execute_result"
    }
   ],
   "source": [
    "retval"
   ]
  },
  {
   "cell_type": "code",
   "execution_count": 136,
   "id": "2274e6f8",
   "metadata": {
    "ExecuteTime": {
     "end_time": "2023-03-30T01:08:19.336280Z",
     "start_time": "2023-03-30T01:08:19.332432Z"
    }
   },
   "outputs": [],
   "source": [
    "A=L**2\n",
    "q_lst=[]\n",
    "w_lst=[]\n",
    "for N0,Tavg in zip(N0_lst,retval):\n",
    "    rate = 1/Tavg\n",
    "    w = rate/A\n",
    "    q = N0/A\n",
    "    #record\n",
    "    w_lst.append(w)\n",
    "    q_lst.append(q)"
   ]
  },
  {
   "cell_type": "code",
   "execution_count": 137,
   "id": "0f71b2c9",
   "metadata": {
    "ExecuteTime": {
     "end_time": "2023-03-30T01:08:23.065269Z",
     "start_time": "2023-03-30T01:08:22.685871Z"
    }
   },
   "outputs": [
    {
     "data": {
      "image/png": "[encoded data removed]",
      "text/plain": [
       "<Figure size 300x300 with 1 Axes>"
      ]
     },
     "metadata": {},
     "output_type": "display_data"
    }
   ],
   "source": [
    "fig,ax=plt.subplots(figsize=(3,3))\n",
    "fontsize=12\n",
    "plt.plot(q_lst,w_lst)\n",
    "plt.xscale('log')\n",
    "plt.yscale('log')\n",
    "plt.axis([5e-2,5e0,0.1,100])\n",
    "plt.tick_params(top=True, right=True,direction='in',which='both')\n",
    "format_plot(xlabel=r'q (1/cm$^2$)',ylabel=r'w (Hz/cm$^2$)',\n",
    "            fontsize=fontsize)\n",
    "plt.show()"
   ]
  },
  {
   "cell_type": "code",
   "execution_count": 123,
   "id": "2aa4ac1d",
   "metadata": {
    "ExecuteTime": {
     "end_time": "2023-03-30T00:38:52.735356Z",
     "start_time": "2023-03-30T00:38:51.900236Z"
    }
   },
   "outputs": [
    {
     "name": "stdout",
     "output_type": "stream",
     "text": [
      "-n \u0007\n",
      "-n \u0007\n",
      "-n \u0007\n",
      "-n \u0007\n"
     ]
    },
    {
     "data": {
      "text/plain": [
       "0"
      ]
     },
     "execution_count": 123,
     "metadata": {},
     "output_type": "execute_result"
    }
   ],
   "source": [
    "beep(4)"
   ]
  },
  {
   "cell_type": "code",
   "execution_count": null,
   "id": "99682c84",
   "metadata": {},
   "outputs": [],
   "source": []
  },
  {
   "cell_type": "code",
   "execution_count": null,
   "id": "87e59165",
   "metadata": {},
   "outputs": [],
   "source": []
  },
  {
   "cell_type": "code",
   "execution_count": 101,
   "id": "7c08d279",
   "metadata": {
    "ExecuteTime": {
     "end_time": "2023-03-30T00:15:48.074492Z",
     "start_time": "2023-03-30T00:15:48.072086Z"
    }
   },
   "outputs": [],
   "source": [
    "# from multiprocessing import Pool"
   ]
  },
  {
   "cell_type": "code",
   "execution_count": null,
   "id": "81a748a2",
   "metadata": {},
   "outputs": [],
   "source": [
    "#13 minutes with 1000 perturbations and cross-validation of training per call to routine\n",
    "# npartitions = np.max((1,os.cpu_count()-1))\n",
    "# npartitions = np.min((npartitions,len(task_lst)))\n",
    "# print(f\"evaluating tasks (estimated run time 80 minutes)...\")\n",
    "# print(f\"evaluating {len(task_lst)} calls to gener_tbins_fast over {npartitions} cpu cores...\")"
   ]
  },
  {
   "cell_type": "code",
   "execution_count": 100,
   "id": "c201dd93",
   "metadata": {
    "ExecuteTime": {
     "end_time": "2023-03-30T00:15:15.382679Z",
     "start_time": "2023-03-30T00:15:15.379244Z"
    }
   },
   "outputs": [],
   "source": [
    "# with Pool(processes=(os.cpu_count() - 1)) as pool:\n",
    "#     retval = list(pool.map(routine, task_lst))"
   ]
  },
  {
   "cell_type": "code",
   "execution_count": null,
   "id": "92c0e625",
   "metadata": {},
   "outputs": [],
   "source": []
  },
  {
   "cell_type": "code",
   "execution_count": 124,
   "id": "9aca1945",
   "metadata": {
    "ExecuteTime": {
     "end_time": "2023-03-30T00:56:17.962009Z",
     "start_time": "2023-03-30T00:56:17.918569Z"
    }
   },
   "outputs": [
    {
     "data": {
      "text/html": [
       "<div>\n",
       "<style scoped>\n",
       "    .dataframe tbody tr th:only-of-type {\n",
       "        vertical-align: middle;\n",
       "    }\n",
       "\n",
       "    .dataframe tbody tr th {\n",
       "        vertical-align: top;\n",
       "    }\n",
       "\n",
       "    .dataframe thead th {\n",
       "        text-align: right;\n",
       "    }\n",
       "</style>\n",
       "<table border=\"1\" class=\"dataframe\">\n",
       "  <thead>\n",
       "    <tr style=\"text-align: right;\">\n",
       "      <th></th>\n",
       "      <th>Unnamed: 0</th>\n",
       "      <th>index</th>\n",
       "      <th>N</th>\n",
       "      <th>L</th>\n",
       "      <th>CollTime</th>\n",
       "      <th>q</th>\n",
       "      <th>w</th>\n",
       "      <th>model_name</th>\n",
       "    </tr>\n",
       "  </thead>\n",
       "  <tbody>\n",
       "    <tr>\n",
       "      <th>0</th>\n",
       "      <td>0</td>\n",
       "      <td>0</td>\n",
       "      <td>100</td>\n",
       "      <td>5</td>\n",
       "      <td>0.000526</td>\n",
       "      <td>4.00</td>\n",
       "      <td>76.045627</td>\n",
       "      <td>Fenton-Karma</td>\n",
       "    </tr>\n",
       "    <tr>\n",
       "      <th>1</th>\n",
       "      <td>1</td>\n",
       "      <td>1</td>\n",
       "      <td>99</td>\n",
       "      <td>5</td>\n",
       "      <td>0.000522</td>\n",
       "      <td>3.96</td>\n",
       "      <td>76.628352</td>\n",
       "      <td>Fenton-Karma</td>\n",
       "    </tr>\n",
       "    <tr>\n",
       "      <th>2</th>\n",
       "      <td>2</td>\n",
       "      <td>2</td>\n",
       "      <td>98</td>\n",
       "      <td>5</td>\n",
       "      <td>0.000546</td>\n",
       "      <td>3.92</td>\n",
       "      <td>73.260073</td>\n",
       "      <td>Fenton-Karma</td>\n",
       "    </tr>\n",
       "    <tr>\n",
       "      <th>3</th>\n",
       "      <td>3</td>\n",
       "      <td>3</td>\n",
       "      <td>97</td>\n",
       "      <td>5</td>\n",
       "      <td>0.000570</td>\n",
       "      <td>3.88</td>\n",
       "      <td>70.175439</td>\n",
       "      <td>Fenton-Karma</td>\n",
       "    </tr>\n",
       "    <tr>\n",
       "      <th>4</th>\n",
       "      <td>4</td>\n",
       "      <td>4</td>\n",
       "      <td>96</td>\n",
       "      <td>5</td>\n",
       "      <td>0.000563</td>\n",
       "      <td>3.84</td>\n",
       "      <td>71.047957</td>\n",
       "      <td>Fenton-Karma</td>\n",
       "    </tr>\n",
       "    <tr>\n",
       "      <th>...</th>\n",
       "      <td>...</td>\n",
       "      <td>...</td>\n",
       "      <td>...</td>\n",
       "      <td>...</td>\n",
       "      <td>...</td>\n",
       "      <td>...</td>\n",
       "      <td>...</td>\n",
       "      <td>...</td>\n",
       "    </tr>\n",
       "    <tr>\n",
       "      <th>379</th>\n",
       "      <td>379</td>\n",
       "      <td>91</td>\n",
       "      <td>9</td>\n",
       "      <td>10</td>\n",
       "      <td>0.041062</td>\n",
       "      <td>0.09</td>\n",
       "      <td>0.243534</td>\n",
       "      <td>Luo-Rudy</td>\n",
       "    </tr>\n",
       "    <tr>\n",
       "      <th>380</th>\n",
       "      <td>380</td>\n",
       "      <td>92</td>\n",
       "      <td>8</td>\n",
       "      <td>10</td>\n",
       "      <td>0.056884</td>\n",
       "      <td>0.08</td>\n",
       "      <td>0.175796</td>\n",
       "      <td>Luo-Rudy</td>\n",
       "    </tr>\n",
       "    <tr>\n",
       "      <th>381</th>\n",
       "      <td>381</td>\n",
       "      <td>93</td>\n",
       "      <td>7</td>\n",
       "      <td>10</td>\n",
       "      <td>0.077521</td>\n",
       "      <td>0.07</td>\n",
       "      <td>0.128997</td>\n",
       "      <td>Luo-Rudy</td>\n",
       "    </tr>\n",
       "    <tr>\n",
       "      <th>382</th>\n",
       "      <td>382</td>\n",
       "      <td>94</td>\n",
       "      <td>6</td>\n",
       "      <td>10</td>\n",
       "      <td>0.120295</td>\n",
       "      <td>0.06</td>\n",
       "      <td>0.083129</td>\n",
       "      <td>Luo-Rudy</td>\n",
       "    </tr>\n",
       "    <tr>\n",
       "      <th>383</th>\n",
       "      <td>383</td>\n",
       "      <td>95</td>\n",
       "      <td>5</td>\n",
       "      <td>10</td>\n",
       "      <td>0.223739</td>\n",
       "      <td>0.05</td>\n",
       "      <td>0.044695</td>\n",
       "      <td>Luo-Rudy</td>\n",
       "    </tr>\n",
       "  </tbody>\n",
       "</table>\n",
       "<p>384 rows × 8 columns</p>\n",
       "</div>"
      ],
      "text/plain": [
       "     Unnamed: 0  index    N   L  CollTime     q          w    model_name\n",
       "0             0      0  100   5  0.000526  4.00  76.045627  Fenton-Karma\n",
       "1             1      1   99   5  0.000522  3.96  76.628352  Fenton-Karma\n",
       "2             2      2   98   5  0.000546  3.92  73.260073  Fenton-Karma\n",
       "3             3      3   97   5  0.000570  3.88  70.175439  Fenton-Karma\n",
       "4             4      4   96   5  0.000563  3.84  71.047957  Fenton-Karma\n",
       "..          ...    ...  ...  ..       ...   ...        ...           ...\n",
       "379         379     91    9  10  0.041062  0.09   0.243534      Luo-Rudy\n",
       "380         380     92    8  10  0.056884  0.08   0.175796      Luo-Rudy\n",
       "381         381     93    7  10  0.077521  0.07   0.128997      Luo-Rudy\n",
       "382         382     94    6  10  0.120295  0.06   0.083129      Luo-Rudy\n",
       "383         383     95    5  10  0.223739  0.05   0.044695      Luo-Rudy\n",
       "\n",
       "[384 rows x 8 columns]"
      ]
     },
     "execution_count": 124,
     "metadata": {},
     "output_type": "execute_result"
    }
   ],
   "source": [
    "pd.read_csv ( '/Users/timothytyree/Documents/GitHub/bgmc/python/data/annihil_fitted_values.34.33.csv' )\n"
   ]
  },
  {
   "cell_type": "code",
   "execution_count": 125,
   "id": "b67c2c5f",
   "metadata": {
    "ExecuteTime": {
     "end_time": "2023-03-30T01:02:27.746339Z",
     "start_time": "2023-03-30T01:02:27.742407Z"
    }
   },
   "outputs": [
    {
     "data": {
      "text/plain": [
       "9.3154"
      ]
     },
     "execution_count": 125,
     "metadata": {},
     "output_type": "execute_result"
    }
   ],
   "source": [
    "10.147 - 2*0.4158"
   ]
  },
  {
   "cell_type": "code",
   "execution_count": null,
   "id": "8d47e9da",
   "metadata": {},
   "outputs": [],
   "source": [
    "task_str=f\"{r:.5f} {D:.5f} {L} {kappa:.5f} {varkappa:.5f} {x0} {Dt} {dt} {Nmax} {niter} {reflect} {set_second} {no_repulsion} {no_attraction} {neighbor} {force_code}\""
   ]
  },
  {
   "cell_type": "code",
   "execution_count": null,
   "id": "e7856112",
   "metadata": {},
   "outputs": [],
   "source": [
    "#TODO: replot Fig. 2B\n",
    "#TODO: print its inputs\n",
    "#TODO: use the function to generate its xy values\n",
    "#TODO: overlay the xy values"
   ]
  },
  {
   "cell_type": "code",
   "execution_count": null,
   "id": "33bbf873",
   "metadata": {},
   "outputs": [],
   "source": []
  },
  {
   "cell_type": "code",
   "execution_count": null,
   "id": "f619dedf",
   "metadata": {},
   "outputs": [],
   "source": []
  },
  {
   "cell_type": "code",
   "execution_count": null,
   "id": "a36f48da",
   "metadata": {},
   "outputs": [],
   "source": []
  },
  {
   "cell_type": "code",
   "execution_count": null,
   "id": "36dc932a",
   "metadata": {},
   "outputs": [],
   "source": []
  }
 ],
 "metadata": {
  "hide_input": false,
  "kernelspec": {
   "display_name": "Python 3 (ipykernel)",
   "language": "python",
   "name": "python3"
  },
  "language_info": {
   "codemirror_mode": {
    "name": "ipython",
    "version": 3
   },
   "file_extension": ".py",
   "mimetype": "text/x-python",
   "name": "python",
   "nbconvert_exporter": "python",
   "pygments_lexer": "ipython3",
   "version": "3.9.5"
  },
  "nbTranslate": {
   "displayLangs": [
    "*"
   ],
   "hotkey": "alt-t",
   "langInMainMenu": true,
   "sourceLang": "en",
   "targetLang": "fr",
   "useGoogleTranslate": true
  },
  "toc": {
   "base_numbering": 1,
   "nav_menu": {},
   "number_sections": true,
   "sideBar": true,
   "skip_h1_title": false,
   "title_cell": "Table of Contents",
   "title_sidebar": "Contents",
   "toc_cell": false,
   "toc_position": {},
   "toc_section_display": true,
   "toc_window_display": false
  }
 },
 "nbformat": 4,
 "nbformat_minor": 5
}
