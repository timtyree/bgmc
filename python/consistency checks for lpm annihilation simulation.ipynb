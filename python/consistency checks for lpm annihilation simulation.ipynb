{
 "cells": [
  {
   "cell_type": "markdown",
   "id": "4b08994c",
   "metadata": {},
   "source": [
    "# consistency checks for lpm annihilation simulation\n",
    "Timothy Tyree<br>\n",
    "3.29.2023"
   ]
  },
  {
   "cell_type": "code",
   "execution_count": 1,
   "id": "1d248509",
   "metadata": {
    "ExecuteTime": {
     "end_time": "2023-03-30T19:02:12.848982Z",
     "start_time": "2023-03-30T19:02:10.281055Z"
    }
   },
   "outputs": [],
   "source": [
    "from lib.my_initialization import *"
   ]
  },
  {
   "cell_type": "code",
   "execution_count": 2,
   "id": "c29729a2",
   "metadata": {
    "ExecuteTime": {
     "end_time": "2023-03-30T19:02:12.853757Z",
     "start_time": "2023-03-30T19:02:12.851323Z"
    }
   },
   "outputs": [],
   "source": [
    "import subprocess"
   ]
  },
  {
   "cell_type": "code",
   "execution_count": 3,
   "id": "a4b51e2d",
   "metadata": {
    "ExecuteTime": {
     "end_time": "2023-03-30T19:02:12.879438Z",
     "start_time": "2023-03-30T19:02:12.855821Z"
    }
   },
   "outputs": [],
   "source": [
    "plt.plot([1]*4)\n",
    "plt.close()\n",
    "#reset matplotlib\n",
    "import matplotlib\n",
    "matplotlib.rcParams.update(matplotlib.rcParamsDefault)\n",
    "mpl.rcParams.update(matplotlib.rcParamsDefault) #reset matplotlib"
   ]
  },
  {
   "cell_type": "markdown",
   "id": "d71851d6",
   "metadata": {},
   "source": [
    "# define module"
   ]
  },
  {
   "cell_type": "code",
   "execution_count": null,
   "id": "165cda18",
   "metadata": {},
   "outputs": [],
   "source": []
  },
  {
   "cell_type": "markdown",
   "id": "c505c690",
   "metadata": {},
   "source": [
    "# dev"
   ]
  },
  {
   "cell_type": "code",
   "execution_count": 4,
   "id": "31d6335a",
   "metadata": {
    "ExecuteTime": {
     "end_time": "2023-03-30T19:02:13.827828Z",
     "start_time": "2023-03-30T19:02:13.824752Z"
    }
   },
   "outputs": [],
   "source": [
    "# cfolder=f\"{nb_dir}/../c/attractive\"\n",
    "# cfolder='/Users/timothytyree/Documents/GitHub/bgmc/c/attractive'\n",
    "cfolder='/home/timothytyree/Documents/GitHub/bgmc/c/attractive'\n",
    "os.chdir(cfolder)"
   ]
  },
  {
   "cell_type": "code",
   "execution_count": 5,
   "id": "ea82da4d",
   "metadata": {
    "ExecuteTime": {
     "end_time": "2023-03-30T19:02:14.455583Z",
     "start_time": "2023-03-30T19:02:14.320736Z"
    }
   },
   "outputs": [
    {
     "name": "stdout",
     "output_type": "stream",
     "text": [
      "/home/timothytyree/Documents/GitHub/bgmc/c/attractive\r\n"
     ]
    }
   ],
   "source": [
    "!pwd"
   ]
  },
  {
   "cell_type": "code",
   "execution_count": 6,
   "id": "36393031",
   "metadata": {
    "ExecuteTime": {
     "end_time": "2023-03-30T19:02:18.218965Z",
     "start_time": "2023-03-30T19:02:14.743553Z"
    }
   },
   "outputs": [
    {
     "data": {
      "text/plain": [
       "0"
      ]
     },
     "execution_count": 6,
     "metadata": {},
     "output_type": "execute_result"
    }
   ],
   "source": [
    "#compile the executable\n",
    "os.system('./gcc.sh')"
   ]
  },
  {
   "cell_type": "code",
   "execution_count": 7,
   "id": "8e732709",
   "metadata": {
    "ExecuteTime": {
     "end_time": "2023-03-30T19:02:18.223910Z",
     "start_time": "2023-03-30T19:02:18.221262Z"
    }
   },
   "outputs": [],
   "source": [
    "# # input_string = f\"0.155 0.4158 5 300 9.3154 1 0.0001 0.0001 4 10000 1 0 0 0 0 1 2\"\n",
    "# # input_string = f\"0.155 0.4158 5 300 9.3154 1 0.0001 0.0001 4 2 1 0 0 0 0 1 2\"\n",
    "# func_path = f\"{cfolder}/return_CollTime.x\"\n",
    "# f\"{func_path} {input_string}\"\n",
    "# # os.system(f\"{func_path} {input_string}\")\n",
    "# # os.system(f\"{func_path} {input_string} | grep 'Tavg=' | grep -Eo '[+-]?[0-9]+([.][0-9]+)?'\")\n",
    "# os.system(f\"{func_path} <<< {input_string} | grep 'Tavg=' | grep -Eo '[+-]?[0-9]+([.][0-9]+)?'\")\n",
    "# # os.system(f\"/return_CollTime.x < 1-control.input | grep 'Tavg=' | grep -Eo '[+-]?[0-9]+([.][0-9]+)?'\")"
   ]
  },
  {
   "cell_type": "code",
   "execution_count": 27,
   "id": "15efbeee",
   "metadata": {
    "ExecuteTime": {
     "end_time": "2023-03-30T19:08:18.898967Z",
     "start_time": "2023-03-30T19:08:18.896380Z"
    }
   },
   "outputs": [],
   "source": [
    "# N0_lst=list(range(2,100,4))\n",
    "# N0_lst=list(range(2,100,8))\n",
    "N0_lst=list(range(2,100,4))\n",
    "# N0_lst"
   ]
  },
  {
   "cell_type": "code",
   "execution_count": 28,
   "id": "a35e5d15",
   "metadata": {
    "ExecuteTime": {
     "end_time": "2023-03-30T19:08:21.504243Z",
     "start_time": "2023-03-30T19:08:21.499902Z"
    }
   },
   "outputs": [
    {
     "name": "stdout",
     "output_type": "stream",
     "text": [
      "len(task_lst)=25\n"
     ]
    }
   ],
   "source": [
    "niter=1500\n",
    "dt=1e-4\n",
    "L=5 \n",
    "# L=10 \n",
    "# seed=1\n",
    "seed=0\n",
    "task_lst=[]\n",
    "# for N0 in range(2,100,2):\n",
    "for N0 in N0_lst:\n",
    "    input_string = f\"0.155 0.4158 {L} 300 9.3154 1 {dt} {dt} {N0} {niter} {seed} 0 0 0 0 1 2\"\n",
    "    call_string = f\"/Users/timothytyree/Documents/GitHub/bgmc/c/attractive/return_CollTime.x <<< '{input_string}'\"\n",
    "    call_string+= \" | grep 'Tavg=' | grep -Eo '[+-]?[0-9]+([.][0-9]+)?'\"\n",
    "    task_lst.append(call_string)\n",
    "print(f\"{len(task_lst)=}\")"
   ]
  },
  {
   "cell_type": "code",
   "execution_count": 20,
   "id": "685d090c",
   "metadata": {
    "ExecuteTime": {
     "end_time": "2023-03-30T19:04:53.055142Z",
     "start_time": "2023-03-30T19:04:53.052013Z"
    }
   },
   "outputs": [],
   "source": [
    "def routine(call_string):\n",
    "    return eval(subprocess.check_output(call_string, shell=True))"
   ]
  },
  {
   "cell_type": "code",
   "execution_count": 21,
   "id": "38c811f2",
   "metadata": {
    "ExecuteTime": {
     "end_time": "2023-03-30T19:07:30.789559Z",
     "start_time": "2023-03-30T19:04:56.575618Z"
    }
   },
   "outputs": [
    {
     "data": {
      "text/plain": [
       "13"
      ]
     },
     "execution_count": 21,
     "metadata": {},
     "output_type": "execute_result"
    }
   ],
   "source": [
    "retval=[]\n",
    "for call_string in task_lst:\n",
    "    retval.append(routine(call_string))\n",
    "len(retval)"
   ]
  },
  {
   "cell_type": "code",
   "execution_count": 22,
   "id": "0660c049",
   "metadata": {
    "ExecuteTime": {
     "end_time": "2023-03-30T19:07:30.797022Z",
     "start_time": "2023-03-30T19:07:30.792783Z"
    }
   },
   "outputs": [
    {
     "data": {
      "text/plain": [
       "[0.487786,\n",
       " 0.0227659,\n",
       " 0.00892117,\n",
       " 0.00508737,\n",
       " 0.00340195,\n",
       " 0.00246907,\n",
       " 0.0019022,\n",
       " 0.00151398,\n",
       " 0.00130778,\n",
       " 0.00106154,\n",
       " 0.00091899,\n",
       " 0.000830848,\n",
       " 0.00067526]"
      ]
     },
     "execution_count": 22,
     "metadata": {},
     "output_type": "execute_result"
    }
   ],
   "source": [
    "retval"
   ]
  },
  {
   "cell_type": "code",
   "execution_count": 29,
   "id": "6308673a",
   "metadata": {
    "ExecuteTime": {
     "end_time": "2023-03-30T19:10:12.708784Z",
     "start_time": "2023-03-30T19:08:33.352537Z"
    }
   },
   "outputs": [
    {
     "name": "stdout",
     "output_type": "stream",
     "text": [
      "running 25 tasks over 7 cpu cores...\n",
      "run time for evaluating routine was 99.35 seconds, yielding 25 values returned\n",
      "tasks complete!\n"
     ]
    }
   ],
   "source": [
    "#run daskbag\n",
    "printing=True\n",
    "max_num_jobs=os.cpu_count()-1\n",
    "npartitions=np.min((len(task_lst),max_num_jobs))\n",
    "if printing:\n",
    "    print(f\"running {len(task_lst)} tasks over {npartitions} cpu cores...\")\n",
    "retval=eval_routine_daskbag(routine,task_lst,npartitions,printing=printing)\n",
    "if printing:\n",
    "    print(f\"tasks complete!\")"
   ]
  },
  {
   "cell_type": "code",
   "execution_count": 33,
   "id": "9cd55df8",
   "metadata": {
    "ExecuteTime": {
     "end_time": "2023-03-30T19:11:52.493125Z",
     "start_time": "2023-03-30T19:11:52.488806Z"
    }
   },
   "outputs": [
    {
     "data": {
      "text/plain": [
       "5"
      ]
     },
     "execution_count": 33,
     "metadata": {},
     "output_type": "execute_result"
    }
   ],
   "source": [
    "L"
   ]
  },
  {
   "cell_type": "code",
   "execution_count": 34,
   "id": "76ff34ad",
   "metadata": {
    "ExecuteTime": {
     "end_time": "2023-03-30T19:11:55.179832Z",
     "start_time": "2023-03-30T19:11:55.175544Z"
    }
   },
   "outputs": [
    {
     "data": {
      "text/plain": [
       "[0.131555,\n",
       " 0.0182424,\n",
       " 0.00774567,\n",
       " 0.00473174,\n",
       " 0.00319498,\n",
       " 0.00245092,\n",
       " 0.001857,\n",
       " 0.00148709,\n",
       " 0.00122813,\n",
       " 0.00108667,\n",
       " 0.000960866,\n",
       " 0.000786523,\n",
       " 0.000687852,\n",
       " 0.00061781,\n",
       " 0.000552481,\n",
       " 0.000504789,\n",
       " 0.000464615,\n",
       " 0.00042665,\n",
       " 0.000381517,\n",
       " 0.000357068,\n",
       " 0.000329564,\n",
       " 0.000315809,\n",
       " 0.000283613,\n",
       " 0.000285049,\n",
       " 0.000265726]"
      ]
     },
     "execution_count": 34,
     "metadata": {},
     "output_type": "execute_result"
    }
   ],
   "source": [
    "retval"
   ]
  },
  {
   "cell_type": "code",
   "execution_count": 35,
   "id": "2274e6f8",
   "metadata": {
    "ExecuteTime": {
     "end_time": "2023-03-30T19:11:57.910445Z",
     "start_time": "2023-03-30T19:11:57.906750Z"
    }
   },
   "outputs": [],
   "source": [
    "A=L**2\n",
    "q_lst=[]\n",
    "w_lst=[]\n",
    "for N0,Tavg in zip(N0_lst,retval):\n",
    "    rate = 1/Tavg\n",
    "    w = rate/A\n",
    "    q = (N0+2)/A\n",
    "#     q = N0/A\n",
    "    #record\n",
    "    w_lst.append(w)\n",
    "    q_lst.append(q)"
   ]
  },
  {
   "cell_type": "code",
   "execution_count": 36,
   "id": "0f71b2c9",
   "metadata": {
    "ExecuteTime": {
     "end_time": "2023-03-30T19:11:58.915153Z",
     "start_time": "2023-03-30T19:11:58.484728Z"
    }
   },
   "outputs": [
    {
     "data": {
      "image/png": "[encoded data removed]",
      "text/plain": [
       "<Figure size 300x300 with 1 Axes>"
      ]
     },
     "metadata": {},
     "output_type": "display_data"
    }
   ],
   "source": [
    "fig,ax=plt.subplots(figsize=(3,3))\n",
    "fontsize=12\n",
    "plt.plot(q_lst,w_lst)\n",
    "plt.xscale('log')\n",
    "plt.yscale('log')\n",
    "plt.axis([5e-2,5e0,0.1,100])\n",
    "plt.tick_params(top=True, right=True,direction='in',which='both')\n",
    "format_plot(xlabel=r'q (1/cm$^2$)',ylabel=r'w (Hz/cm$^2$)',\n",
    "            fontsize=fontsize)\n",
    "plt.show()"
   ]
  },
  {
   "cell_type": "code",
   "execution_count": 26,
   "id": "2aa4ac1d",
   "metadata": {
    "ExecuteTime": {
     "end_time": "2023-03-30T19:07:32.518439Z",
     "start_time": "2023-03-30T19:07:31.681096Z"
    }
   },
   "outputs": [
    {
     "name": "stdout",
     "output_type": "stream",
     "text": [
      "-n \u0007\n",
      "-n \u0007\n",
      "-n \u0007\n",
      "-n \u0007\n"
     ]
    },
    {
     "data": {
      "text/plain": [
       "0"
      ]
     },
     "execution_count": 26,
     "metadata": {},
     "output_type": "execute_result"
    }
   ],
   "source": [
    "beep(4)"
   ]
  },
  {
   "cell_type": "code",
   "execution_count": null,
   "id": "99682c84",
   "metadata": {},
   "outputs": [],
   "source": []
  },
  {
   "cell_type": "code",
   "execution_count": null,
   "id": "87e59165",
   "metadata": {},
   "outputs": [],
   "source": []
  },
  {
   "cell_type": "code",
   "execution_count": 101,
   "id": "7c08d279",
   "metadata": {
    "ExecuteTime": {
     "end_time": "2023-03-30T00:15:48.074492Z",
     "start_time": "2023-03-30T00:15:48.072086Z"
    }
   },
   "outputs": [],
   "source": [
    "# from multiprocessing import Pool"
   ]
  },
  {
   "cell_type": "code",
   "execution_count": null,
   "id": "81a748a2",
   "metadata": {},
   "outputs": [],
   "source": [
    "#13 minutes with 1000 perturbations and cross-validation of training per call to routine\n",
    "# npartitions = np.max((1,os.cpu_count()-1))\n",
    "# npartitions = np.min((npartitions,len(task_lst)))\n",
    "# print(f\"evaluating tasks (estimated run time 80 minutes)...\")\n",
    "# print(f\"evaluating {len(task_lst)} calls to gener_tbins_fast over {npartitions} cpu cores...\")"
   ]
  },
  {
   "cell_type": "code",
   "execution_count": 100,
   "id": "c201dd93",
   "metadata": {
    "ExecuteTime": {
     "end_time": "2023-03-30T00:15:15.382679Z",
     "start_time": "2023-03-30T00:15:15.379244Z"
    }
   },
   "outputs": [],
   "source": [
    "# with Pool(processes=(os.cpu_count() - 1)) as pool:\n",
    "#     retval = list(pool.map(routine, task_lst))"
   ]
  },
  {
   "cell_type": "code",
   "execution_count": null,
   "id": "92c0e625",
   "metadata": {},
   "outputs": [],
   "source": []
  },
  {
   "cell_type": "code",
   "execution_count": 124,
   "id": "9aca1945",
   "metadata": {
    "ExecuteTime": {
     "end_time": "2023-03-30T00:56:17.962009Z",
     "start_time": "2023-03-30T00:56:17.918569Z"
    }
   },
   "outputs": [
    {
     "data": {
      "text/html": [
       "<div>\n",
       "<style scoped>\n",
       "    .dataframe tbody tr th:only-of-type {\n",
       "        vertical-align: middle;\n",
       "    }\n",
       "\n",
       "    .dataframe tbody tr th {\n",
       "        vertical-align: top;\n",
       "    }\n",
       "\n",
       "    .dataframe thead th {\n",
       "        text-align: right;\n",
       "    }\n",
       "</style>\n",
       "<table border=\"1\" class=\"dataframe\">\n",
       "  <thead>\n",
       "    <tr style=\"text-align: right;\">\n",
       "      <th></th>\n",
       "      <th>Unnamed: 0</th>\n",
       "      <th>index</th>\n",
       "      <th>N</th>\n",
       "      <th>L</th>\n",
       "      <th>CollTime</th>\n",
       "      <th>q</th>\n",
       "      <th>w</th>\n",
       "      <th>model_name</th>\n",
       "    </tr>\n",
       "  </thead>\n",
       "  <tbody>\n",
       "    <tr>\n",
       "      <th>0</th>\n",
       "      <td>0</td>\n",
       "      <td>0</td>\n",
       "      <td>100</td>\n",
       "      <td>5</td>\n",
       "      <td>0.000526</td>\n",
       "      <td>4.00</td>\n",
       "      <td>76.045627</td>\n",
       "      <td>Fenton-Karma</td>\n",
       "    </tr>\n",
       "    <tr>\n",
       "      <th>1</th>\n",
       "      <td>1</td>\n",
       "      <td>1</td>\n",
       "      <td>99</td>\n",
       "      <td>5</td>\n",
       "      <td>0.000522</td>\n",
       "      <td>3.96</td>\n",
       "      <td>76.628352</td>\n",
       "      <td>Fenton-Karma</td>\n",
       "    </tr>\n",
       "    <tr>\n",
       "      <th>2</th>\n",
       "      <td>2</td>\n",
       "      <td>2</td>\n",
       "      <td>98</td>\n",
       "      <td>5</td>\n",
       "      <td>0.000546</td>\n",
       "      <td>3.92</td>\n",
       "      <td>73.260073</td>\n",
       "      <td>Fenton-Karma</td>\n",
       "    </tr>\n",
       "    <tr>\n",
       "      <th>3</th>\n",
       "      <td>3</td>\n",
       "      <td>3</td>\n",
       "      <td>97</td>\n",
       "      <td>5</td>\n",
       "      <td>0.000570</td>\n",
       "      <td>3.88</td>\n",
       "      <td>70.175439</td>\n",
       "      <td>Fenton-Karma</td>\n",
       "    </tr>\n",
       "    <tr>\n",
       "      <th>4</th>\n",
       "      <td>4</td>\n",
       "      <td>4</td>\n",
       "      <td>96</td>\n",
       "      <td>5</td>\n",
       "      <td>0.000563</td>\n",
       "      <td>3.84</td>\n",
       "      <td>71.047957</td>\n",
       "      <td>Fenton-Karma</td>\n",
       "    </tr>\n",
       "    <tr>\n",
       "      <th>...</th>\n",
       "      <td>...</td>\n",
       "      <td>...</td>\n",
       "      <td>...</td>\n",
       "      <td>...</td>\n",
       "      <td>...</td>\n",
       "      <td>...</td>\n",
       "      <td>...</td>\n",
       "      <td>...</td>\n",
       "    </tr>\n",
       "    <tr>\n",
       "      <th>379</th>\n",
       "      <td>379</td>\n",
       "      <td>91</td>\n",
       "      <td>9</td>\n",
       "      <td>10</td>\n",
       "      <td>0.041062</td>\n",
       "      <td>0.09</td>\n",
       "      <td>0.243534</td>\n",
       "      <td>Luo-Rudy</td>\n",
       "    </tr>\n",
       "    <tr>\n",
       "      <th>380</th>\n",
       "      <td>380</td>\n",
       "      <td>92</td>\n",
       "      <td>8</td>\n",
       "      <td>10</td>\n",
       "      <td>0.056884</td>\n",
       "      <td>0.08</td>\n",
       "      <td>0.175796</td>\n",
       "      <td>Luo-Rudy</td>\n",
       "    </tr>\n",
       "    <tr>\n",
       "      <th>381</th>\n",
       "      <td>381</td>\n",
       "      <td>93</td>\n",
       "      <td>7</td>\n",
       "      <td>10</td>\n",
       "      <td>0.077521</td>\n",
       "      <td>0.07</td>\n",
       "      <td>0.128997</td>\n",
       "      <td>Luo-Rudy</td>\n",
       "    </tr>\n",
       "    <tr>\n",
       "      <th>382</th>\n",
       "      <td>382</td>\n",
       "      <td>94</td>\n",
       "      <td>6</td>\n",
       "      <td>10</td>\n",
       "      <td>0.120295</td>\n",
       "      <td>0.06</td>\n",
       "      <td>0.083129</td>\n",
       "      <td>Luo-Rudy</td>\n",
       "    </tr>\n",
       "    <tr>\n",
       "      <th>383</th>\n",
       "      <td>383</td>\n",
       "      <td>95</td>\n",
       "      <td>5</td>\n",
       "      <td>10</td>\n",
       "      <td>0.223739</td>\n",
       "      <td>0.05</td>\n",
       "      <td>0.044695</td>\n",
       "      <td>Luo-Rudy</td>\n",
       "    </tr>\n",
       "  </tbody>\n",
       "</table>\n",
       "<p>384 rows × 8 columns</p>\n",
       "</div>"
      ],
      "text/plain": [
       "     Unnamed: 0  index    N   L  CollTime     q          w    model_name\n",
       "0             0      0  100   5  0.000526  4.00  76.045627  Fenton-Karma\n",
       "1             1      1   99   5  0.000522  3.96  76.628352  Fenton-Karma\n",
       "2             2      2   98   5  0.000546  3.92  73.260073  Fenton-Karma\n",
       "3             3      3   97   5  0.000570  3.88  70.175439  Fenton-Karma\n",
       "4             4      4   96   5  0.000563  3.84  71.047957  Fenton-Karma\n",
       "..          ...    ...  ...  ..       ...   ...        ...           ...\n",
       "379         379     91    9  10  0.041062  0.09   0.243534      Luo-Rudy\n",
       "380         380     92    8  10  0.056884  0.08   0.175796      Luo-Rudy\n",
       "381         381     93    7  10  0.077521  0.07   0.128997      Luo-Rudy\n",
       "382         382     94    6  10  0.120295  0.06   0.083129      Luo-Rudy\n",
       "383         383     95    5  10  0.223739  0.05   0.044695      Luo-Rudy\n",
       "\n",
       "[384 rows x 8 columns]"
      ]
     },
     "execution_count": 124,
     "metadata": {},
     "output_type": "execute_result"
    }
   ],
   "source": [
    "pd.read_csv ( '/Users/timothytyree/Documents/GitHub/bgmc/python/data/annihil_fitted_values.34.33.csv' )\n"
   ]
  },
  {
   "cell_type": "code",
   "execution_count": 125,
   "id": "b67c2c5f",
   "metadata": {
    "ExecuteTime": {
     "end_time": "2023-03-30T01:02:27.746339Z",
     "start_time": "2023-03-30T01:02:27.742407Z"
    }
   },
   "outputs": [
    {
     "data": {
      "text/plain": [
       "9.3154"
      ]
     },
     "execution_count": 125,
     "metadata": {},
     "output_type": "execute_result"
    }
   ],
   "source": [
    "10.147 - 2*0.4158"
   ]
  },
  {
   "cell_type": "code",
   "execution_count": null,
   "id": "8d47e9da",
   "metadata": {},
   "outputs": [],
   "source": [
    "task_str=f\"{r:.5f} {D:.5f} {L} {kappa:.5f} {varkappa:.5f} {x0} {Dt} {dt} {Nmax} {niter} {reflect} {set_second} {no_repulsion} {no_attraction} {neighbor} {force_code}\""
   ]
  },
  {
   "cell_type": "code",
   "execution_count": null,
   "id": "e7856112",
   "metadata": {},
   "outputs": [],
   "source": [
    "#TODO: replot Fig. 2B\n",
    "#TODO: print its inputs\n",
    "#TODO: use the function to generate its xy values\n",
    "#TODO: overlay the xy values"
   ]
  },
  {
   "cell_type": "code",
   "execution_count": null,
   "id": "33bbf873",
   "metadata": {},
   "outputs": [],
   "source": []
  },
  {
   "cell_type": "code",
   "execution_count": null,
   "id": "f619dedf",
   "metadata": {},
   "outputs": [],
   "source": []
  },
  {
   "cell_type": "code",
   "execution_count": null,
   "id": "a36f48da",
   "metadata": {},
   "outputs": [],
   "source": []
  },
  {
   "cell_type": "code",
   "execution_count": null,
   "id": "36dc932a",
   "metadata": {},
   "outputs": [],
   "source": []
  }
 ],
 "metadata": {
  "hide_input": false,
  "kernelspec": {
   "display_name": "Python 3 (ipykernel)",
   "language": "python",
   "name": "python3"
  },
  "language_info": {
   "codemirror_mode": {
    "name": "ipython",
    "version": 3
   },
   "file_extension": ".py",
   "mimetype": "text/x-python",
   "name": "python",
   "nbconvert_exporter": "python",
   "pygments_lexer": "ipython3",
   "version": "3.9.13"
  },
  "nbTranslate": {
   "displayLangs": [
    "*"
   ],
   "hotkey": "alt-t",
   "langInMainMenu": true,
   "sourceLang": "en",
   "targetLang": "fr",
   "useGoogleTranslate": true
  },
  "toc": {
   "base_numbering": 1,
   "nav_menu": {},
   "number_sections": true,
   "sideBar": true,
   "skip_h1_title": false,
   "title_cell": "Table of Contents",
   "title_sidebar": "Contents",
   "toc_cell": false,
   "toc_position": {},
   "toc_section_display": true,
   "toc_window_display": false
  }
 },
 "nbformat": 4,
 "nbformat_minor": 5
}
