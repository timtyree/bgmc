{
 "cells": [
  {
   "cell_type": "markdown",
   "id": "4b08994c",
   "metadata": {},
   "source": [
    "# consistency checks for lpm annihilation simulation\n",
    "Timothy Tyree<br>\n",
    "3.29.2023"
   ]
  },
  {
   "cell_type": "code",
   "execution_count": 1,
   "id": "1d248509",
   "metadata": {
    "ExecuteTime": {
     "end_time": "2023-03-30T19:02:12.848982Z",
     "start_time": "2023-03-30T19:02:10.281055Z"
    }
   },
   "outputs": [],
   "source": [
    "from lib.my_initialization import *"
   ]
  },
  {
   "cell_type": "code",
   "execution_count": 2,
   "id": "c29729a2",
   "metadata": {
    "ExecuteTime": {
     "end_time": "2023-03-30T19:02:12.853757Z",
     "start_time": "2023-03-30T19:02:12.851323Z"
    }
   },
   "outputs": [],
   "source": [
    "import subprocess"
   ]
  },
  {
   "cell_type": "code",
   "execution_count": 3,
   "id": "a4b51e2d",
   "metadata": {
    "ExecuteTime": {
     "end_time": "2023-03-30T19:02:12.879438Z",
     "start_time": "2023-03-30T19:02:12.855821Z"
    }
   },
   "outputs": [],
   "source": [
    "plt.plot([1]*4)\n",
    "plt.close()\n",
    "#reset matplotlib\n",
    "import matplotlib\n",
    "matplotlib.rcParams.update(matplotlib.rcParamsDefault)\n",
    "mpl.rcParams.update(matplotlib.rcParamsDefault) #reset matplotlib"
   ]
  },
  {
   "cell_type": "markdown",
   "id": "d71851d6",
   "metadata": {},
   "source": [
    "# define module"
   ]
  },
  {
   "cell_type": "code",
   "execution_count": null,
   "id": "165cda18",
   "metadata": {},
   "outputs": [],
   "source": []
  },
  {
   "cell_type": "markdown",
   "id": "c505c690",
   "metadata": {},
   "source": [
    "# dev"
   ]
  },
  {
   "cell_type": "code",
   "execution_count": 39,
   "id": "31d6335a",
   "metadata": {
    "ExecuteTime": {
     "end_time": "2023-04-02T19:01:52.274896Z",
     "start_time": "2023-04-02T19:01:52.272534Z"
    }
   },
   "outputs": [],
   "source": [
    "# cfolder=f\"{nb_dir}/../c/attractive\"\n",
    "cfolder='/Users/timothytyree/Documents/GitHub/bgmc/c/attractive'\n",
    "# cfolder='/home/timothytyree/Documents/GitHub/bgmc/c/attractive'\n",
    "os.chdir(cfolder)"
   ]
  },
  {
   "cell_type": "code",
   "execution_count": 40,
   "id": "ea82da4d",
   "metadata": {
    "ExecuteTime": {
     "end_time": "2023-04-02T19:01:52.968239Z",
     "start_time": "2023-04-02T19:01:52.801398Z"
    }
   },
   "outputs": [
    {
     "name": "stdout",
     "output_type": "stream",
     "text": [
      "/Users/timothytyree/Documents/GitHub/bgmc/c/attractive\r\n"
     ]
    }
   ],
   "source": [
    "!pwd"
   ]
  },
  {
   "cell_type": "code",
   "execution_count": 41,
   "id": "36393031",
   "metadata": {
    "ExecuteTime": {
     "end_time": "2023-04-02T19:01:53.502375Z",
     "start_time": "2023-04-02T19:01:53.243933Z"
    }
   },
   "outputs": [
    {
     "data": {
      "text/plain": [
       "0"
      ]
     },
     "execution_count": 41,
     "metadata": {},
     "output_type": "execute_result"
    }
   ],
   "source": [
    "#compile the executable\n",
    "os.system('./gcc.sh')"
   ]
  },
  {
   "cell_type": "code",
   "execution_count": 42,
   "id": "8e732709",
   "metadata": {
    "ExecuteTime": {
     "end_time": "2023-04-02T19:01:54.172913Z",
     "start_time": "2023-04-02T19:01:54.169709Z"
    }
   },
   "outputs": [],
   "source": [
    "# # input_string = f\"0.155 0.4158 5 300 9.3154 1 0.0001 0.0001 4 10000 1 0 0 0 0 1 2\"\n",
    "# # input_string = f\"0.155 0.4158 5 300 9.3154 1 0.0001 0.0001 4 2 1 0 0 0 0 1 2\"\n",
    "# func_path = f\"{cfolder}/return_CollTime.x\"\n",
    "# f\"{func_path} {input_string}\"\n",
    "# # os.system(f\"{func_path} {input_string}\")\n",
    "# # os.system(f\"{func_path} {input_string} | grep 'Tavg=' | grep -Eo '[+-]?[0-9]+([.][0-9]+)?'\")\n",
    "# os.system(f\"{func_path} <<< {input_string} | grep 'Tavg=' | grep -Eo '[+-]?[0-9]+([.][0-9]+)?'\")\n",
    "# # os.system(f\"/return_CollTime.x < 1-control.input | grep 'Tavg=' | grep -Eo '[+-]?[0-9]+([.][0-9]+)?'\")"
   ]
  },
  {
   "cell_type": "code",
   "execution_count": 76,
   "id": "15efbeee",
   "metadata": {
    "ExecuteTime": {
     "end_time": "2023-04-02T19:15:39.276280Z",
     "start_time": "2023-04-02T19:15:39.273682Z"
    }
   },
   "outputs": [],
   "source": [
    "# N0_lst=list(range(2,100,4))\n",
    "# N0_lst=list(range(2,100,8))\n",
    "N0_lst=list(range(2,102,2))\n",
    "# N0_lst"
   ]
  },
  {
   "cell_type": "code",
   "execution_count": 52,
   "id": "a35e5d15",
   "metadata": {
    "ExecuteTime": {
     "end_time": "2023-04-02T19:07:16.652024Z",
     "start_time": "2023-04-02T19:07:16.641649Z"
    }
   },
   "outputs": [
    {
     "name": "stdout",
     "output_type": "stream",
     "text": [
      "len(task_lst)=50\n"
     ]
    },
    {
     "data": {
      "text/plain": [
       "\"/Users/timothytyree/Documents/GitHub/bgmc/c/attractive/return_CollTime.x <<< '0.155 0.42 5 300 9.3 1 0.0001 0.0001 100 1000 0 0 0 0 0 0 2' | grep 'Tavg=' | grep -Eo '[+-]?[0-9]+([.][0-9]+)?'\""
      ]
     },
     "execution_count": 52,
     "metadata": {},
     "output_type": "execute_result"
    }
   ],
   "source": [
    "niter=1000\n",
    "dt=1e-4\n",
    "L=5\n",
    "# L=10 \n",
    "D=0.42#0.4158\n",
    "alinear=9.3#9.3154\n",
    "neighbor=0\n",
    "r=0.155\n",
    "kappa=300\n",
    "# seed=1\n",
    "seed=0\n",
    "task_lst=[]\n",
    "# for N0 in range(2,100,2):\n",
    "for N0 in N0_lst:\n",
    "    input_string = f\"{r} {D} {L} {kappa} {alinear} 1 {dt} {dt} {N0} {niter} {seed} 0 0 0 0 {neighbor} 2\"\n",
    "    call_string = f\"/Users/timothytyree/Documents/GitHub/bgmc/c/attractive/return_CollTime.x <<< '{input_string}'\"\n",
    "    call_string+= \" | grep 'Tavg=' | grep -Eo '[+-]?[0-9]+([.][0-9]+)?'\"\n",
    "    task_lst.append(call_string)\n",
    "print(f\"{len(task_lst)=}\")\n",
    "call_string"
   ]
  },
  {
   "cell_type": "code",
   "execution_count": 53,
   "id": "685d090c",
   "metadata": {
    "ExecuteTime": {
     "end_time": "2023-04-02T19:07:24.492306Z",
     "start_time": "2023-04-02T19:07:24.489008Z"
    }
   },
   "outputs": [],
   "source": [
    "def routine(call_string):\n",
    "    return eval(subprocess.check_output(call_string, shell=True))"
   ]
  },
  {
   "cell_type": "code",
   "execution_count": 54,
   "id": "38c811f2",
   "metadata": {
    "ExecuteTime": {
     "end_time": "2023-04-02T19:08:44.078804Z",
     "start_time": "2023-04-02T19:07:25.091460Z"
    }
   },
   "outputs": [
    {
     "data": {
      "text/plain": [
       "50"
      ]
     },
     "execution_count": 54,
     "metadata": {},
     "output_type": "execute_result"
    }
   ],
   "source": [
    "retval=[]\n",
    "for call_string in task_lst:\n",
    "    retval.append(routine(call_string))\n",
    "len(retval)"
   ]
  },
  {
   "cell_type": "code",
   "execution_count": 55,
   "id": "0660c049",
   "metadata": {
    "ExecuteTime": {
     "end_time": "2023-04-02T19:08:44.092019Z",
     "start_time": "2023-04-02T19:08:44.084447Z"
    }
   },
   "outputs": [
    {
     "data": {
      "text/plain": [
       "[0.131322,\n",
       " 0.0409117,\n",
       " 0.018264,\n",
       " 0.0110846,\n",
       " 0.00836416,\n",
       " 0.00576834,\n",
       " 0.00455071,\n",
       " 0.0036219,\n",
       " 0.00321197,\n",
       " 0.00262181,\n",
       " 0.00227703,\n",
       " 0.00205087,\n",
       " 0.0017143,\n",
       " 0.00162942,\n",
       " 0.00141236,\n",
       " 0.00130125,\n",
       " 0.00117286,\n",
       " 0.00104599,\n",
       " 0.00098967,\n",
       " 0.000942411,\n",
       " 0.000853312,\n",
       " 0.000790139,\n",
       " 0.000704972,\n",
       " 0.000685969,\n",
       " 0.000661937,\n",
       " 0.000608138,\n",
       " 0.000567319,\n",
       " 0.00054965,\n",
       " 0.000528019,\n",
       " 0.000500825,\n",
       " 0.000482402,\n",
       " 0.00045,\n",
       " 0.000438443,\n",
       " 0.000424393,\n",
       " 0.000403722,\n",
       " 0.000368,\n",
       " 0.00036871,\n",
       " 0.000349875,\n",
       " 0.000342246,\n",
       " 0.000324769,\n",
       " 0.000322267,\n",
       " 0.000290983,\n",
       " 0.000293666,\n",
       " 0.000265928,\n",
       " 0.000275278,\n",
       " 0.000270404,\n",
       " 0.00025546,\n",
       " 0.000247193,\n",
       " 0.000245141,\n",
       " 0.000239968]"
      ]
     },
     "execution_count": 55,
     "metadata": {},
     "output_type": "execute_result"
    }
   ],
   "source": [
    "retval"
   ]
  },
  {
   "cell_type": "code",
   "execution_count": 59,
   "id": "6308673a",
   "metadata": {
    "ExecuteTime": {
     "end_time": "2023-04-02T19:10:02.166394Z",
     "start_time": "2023-04-02T19:10:02.164053Z"
    }
   },
   "outputs": [],
   "source": [
    "# #run daskbag\n",
    "# printing=True\n",
    "# max_num_jobs=os.cpu_count()-1\n",
    "# npartitions=np.min((len(task_lst),max_num_jobs))\n",
    "# if printing:\n",
    "#     print(f\"running {len(task_lst)} tasks over {npartitions} cpu cores...\")\n",
    "# retval=eval_routine_daskbag(routine,task_lst,npartitions,printing=printing)\n",
    "# if printing:\n",
    "#     print(f\"tasks complete!\")"
   ]
  },
  {
   "cell_type": "code",
   "execution_count": 60,
   "id": "9cd55df8",
   "metadata": {
    "ExecuteTime": {
     "end_time": "2023-04-02T19:10:03.906467Z",
     "start_time": "2023-04-02T19:10:03.902554Z"
    }
   },
   "outputs": [
    {
     "data": {
      "text/plain": [
       "5"
      ]
     },
     "execution_count": 60,
     "metadata": {},
     "output_type": "execute_result"
    }
   ],
   "source": [
    "L"
   ]
  },
  {
   "cell_type": "code",
   "execution_count": 77,
   "id": "2274e6f8",
   "metadata": {
    "ExecuteTime": {
     "end_time": "2023-04-02T19:15:47.130395Z",
     "start_time": "2023-04-02T19:15:47.126414Z"
    }
   },
   "outputs": [],
   "source": [
    "A=L**2\n",
    "q_lst=[]\n",
    "w_lst=[]\n",
    "Tavg_lst=[]\n",
    "for N0,Tavg in zip(N0_lst,retval):\n",
    "    rate = 1/Tavg\n",
    "    w = rate/A\n",
    "#     q = (N0+2)/A\n",
    "    q = N0/A\n",
    "    #record\n",
    "    w_lst.append(w)\n",
    "    q_lst.append(q)\n",
    "    Tavg_lst.append(Tavg)"
   ]
  },
  {
   "cell_type": "code",
   "execution_count": 78,
   "id": "0f71b2c9",
   "metadata": {
    "ExecuteTime": {
     "end_time": "2023-04-02T19:15:48.518860Z",
     "start_time": "2023-04-02T19:15:48.067657Z"
    }
   },
   "outputs": [
    {
     "data": {
      "image/png": "[encoded data removed]",
      "text/plain": [
       "<Figure size 300x300 with 1 Axes>"
      ]
     },
     "metadata": {},
     "output_type": "display_data"
    }
   ],
   "source": [
    "fig,ax=plt.subplots(figsize=(3,3))\n",
    "fontsize=12\n",
    "plt.plot(q_lst,w_lst,color='k')\n",
    "plt.xscale('log')\n",
    "plt.yscale('log')\n",
    "plt.axis([5e-2,5e0,0.1,100])\n",
    "plt.tick_params(top=True, right=True,direction='in',which='both')\n",
    "format_plot(xlabel=r'q (1/cm$^2$)',ylabel=r'w (Hz/cm$^2$)',fontsize=fontsize)\n",
    "plt.show()"
   ]
  },
  {
   "cell_type": "code",
   "execution_count": 79,
   "id": "2aa4ac1d",
   "metadata": {
    "ExecuteTime": {
     "end_time": "2023-04-02T19:15:50.646337Z",
     "start_time": "2023-04-02T19:15:49.799179Z"
    }
   },
   "outputs": [
    {
     "name": "stdout",
     "output_type": "stream",
     "text": [
      "-n \u0007\n",
      "-n \u0007\n",
      "-n \u0007\n",
      "-n \u0007\n"
     ]
    },
    {
     "data": {
      "text/plain": [
       "0"
      ]
     },
     "execution_count": 79,
     "metadata": {},
     "output_type": "execute_result"
    }
   ],
   "source": [
    "beep(4)"
   ]
  },
  {
   "cell_type": "code",
   "execution_count": 84,
   "id": "3a001204",
   "metadata": {
    "ExecuteTime": {
     "end_time": "2023-04-02T19:17:41.960973Z",
     "start_time": "2023-04-02T19:17:41.937963Z"
    }
   },
   "outputs": [
    {
     "data": {
      "text/plain": [
       "'/Users/timothytyree/Documents/GitHub/bgmc/python/data/control_data/lpm_table1_lr_L_5.csv'"
      ]
     },
     "execution_count": 84,
     "metadata": {},
     "output_type": "execute_result"
    }
   ],
   "source": [
    "df_rates = pd.DataFrame(dict(\n",
    "    N0=N0_lst,\n",
    "    Tavg=Tavg_lst,\n",
    "    q=q_lst,\n",
    "    w=w_lst))\n",
    "rate_dir = f\"{nb_dir}/data/control_data/lpm_table1_lr_L_5.csv\"\n",
    "df_rates.to_csv(rate_dir,index=False)\n",
    "rate_dir"
   ]
  },
  {
   "cell_type": "code",
   "execution_count": 86,
   "id": "99682c84",
   "metadata": {
    "ExecuteTime": {
     "end_time": "2023-04-02T19:19:08.399198Z",
     "start_time": "2023-04-02T19:19:08.395984Z"
    }
   },
   "outputs": [],
   "source": [
    "kwargs = dict(data_fk_dir=f'{nb_dir}/data/full_results/data_fig4_vidmar_fk_tt.csv',\n",
    "              data_lr_dir=f'{nb_dir}/data/full_results/data_fig4_vidmar_lr_tt.csv',\n",
    "             min_num_particles=9)"
   ]
  },
  {
   "cell_type": "code",
   "execution_count": 88,
   "id": "87e59165",
   "metadata": {
    "ExecuteTime": {
     "end_time": "2023-04-02T19:19:22.603292Z",
     "start_time": "2023-04-02T19:19:22.583307Z"
    }
   },
   "outputs": [
    {
     "name": "stdout",
     "output_type": "stream",
     "text": [
      "annihilation rate density powerlaw fits:\n",
      "m = 1.877234 +/- 0.024488\n",
      "M = 5.572316 +/- 0.299027 Hz/cm^2; B=2.496963 +/- 0.039522\n",
      "RMSE=0.1386 Hz/cm^2; R^2=0.9969; MPE=6.9910%; N=73\n",
      "m = 1.637556 +/- 0.016847\n",
      "M = 16.735599 +/- 0.829136 Hz/cm^2; B=5.587740 +/- 0.065801\n",
      "RMSE=0.1340 Hz/cm^2; R^2=0.9973; MPE=7.2488%; N=100\n"
     ]
    }
   ],
   "source": [
    "dict_wjr = recall_death_rates_vidmar_rappel(**kwargs)\n",
    "fk=dict_wjr['fk']\n",
    "lr=dict_wjr['lr']\n",
    "print(f\"annihilation rate density powerlaw fits:\")\n",
    "dict_fit_death_fk = print_fit_power_law(x=fk['q'].values,y=fk['w'].values)\n",
    "dict_fit_death_lr = print_fit_power_law(x=lr['q'].values,y=lr['w'].values)"
   ]
  },
  {
   "cell_type": "code",
   "execution_count": 92,
   "id": "7c08d279",
   "metadata": {
    "ExecuteTime": {
     "end_time": "2023-04-02T19:21:36.655472Z",
     "start_time": "2023-04-02T19:21:36.079444Z"
    }
   },
   "outputs": [
    {
     "data": {
      "image/png": "[encoded data removed]",
      "text/plain": [
       "<Figure size 400x400 with 1 Axes>"
      ]
     },
     "metadata": {},
     "output_type": "display_data"
    }
   ],
   "source": [
    "use_filterby_minN=True\n",
    "minN=10\n",
    "# minN=8\n",
    "# figsize = (6, 4)  #(5,4)\n",
    "figsize = (4, 4)  #(5,4)\n",
    "fontsize=16\n",
    "\n",
    "# x1lim=[0.008, 11]\n",
    "x1lim=[0.08, 11]\n",
    "x2lim=[0.01, 250]\n",
    "\n",
    "\n",
    "fig, ax = plt.subplots(figsize=figsize)\n",
    "ax = plot_death_rates_loglog_full(fk,lr,ax=ax,fontsize=fontsize,x1lim=x1lim, x2lim=x2lim)\n",
    "\n",
    "ax.plot(q_lst,w_lst,color='k')\n",
    "ax.set_xscale('log')\n",
    "ax.set_yscale('log')\n",
    "# ax.axis([5e-2,5e0,0.1,100])\n",
    "ax.tick_params(top=True, right=True,direction='in',which='both')\n",
    "format_plot(ax=ax,xlabel=r'q (1/cm$^2$)',ylabel=r'w (Hz/cm$^2$)',fontsize=fontsize)\n",
    "plt.show()"
   ]
  },
  {
   "cell_type": "code",
   "execution_count": null,
   "id": "81a748a2",
   "metadata": {},
   "outputs": [],
   "source": [
    "#13 minutes with 1000 perturbations and cross-validation of training per call to routine\n",
    "# npartitions = np.max((1,os.cpu_count()-1))\n",
    "# npartitions = np.min((npartitions,len(task_lst)))\n",
    "# print(f\"evaluating tasks (estimated run time 80 minutes)...\")\n",
    "# print(f\"evaluating {len(task_lst)} calls to gener_tbins_fast over {npartitions} cpu cores...\")"
   ]
  },
  {
   "cell_type": "code",
   "execution_count": 100,
   "id": "c201dd93",
   "metadata": {
    "ExecuteTime": {
     "end_time": "2023-03-30T00:15:15.382679Z",
     "start_time": "2023-03-30T00:15:15.379244Z"
    }
   },
   "outputs": [],
   "source": [
    "# with Pool(processes=(os.cpu_count() - 1)) as pool:\n",
    "#     retval = list(pool.map(routine, task_lst))"
   ]
  },
  {
   "cell_type": "code",
   "execution_count": null,
   "id": "92c0e625",
   "metadata": {},
   "outputs": [],
   "source": []
  },
  {
   "cell_type": "code",
   "execution_count": 65,
   "id": "9aca1945",
   "metadata": {
    "ExecuteTime": {
     "end_time": "2023-04-02T19:12:04.616094Z",
     "start_time": "2023-04-02T19:12:04.613728Z"
    }
   },
   "outputs": [],
   "source": [
    "# pd.read_csv ( '/Users/timothytyree/Documents/GitHub/bgmc/python/data/annihil_fitted_values.34.33.csv' )\n"
   ]
  },
  {
   "cell_type": "code",
   "execution_count": 66,
   "id": "b67c2c5f",
   "metadata": {
    "ExecuteTime": {
     "end_time": "2023-04-02T19:12:06.201849Z",
     "start_time": "2023-04-02T19:12:06.198042Z"
    }
   },
   "outputs": [],
   "source": [
    "# 10.147 - 2*0.4158"
   ]
  },
  {
   "cell_type": "code",
   "execution_count": null,
   "id": "8d47e9da",
   "metadata": {},
   "outputs": [],
   "source": [
    "# task_str=f\"{r:.5f} {D:.5f} {L} {kappa:.5f} {varkappa:.5f} {x0} {Dt} {dt} {Nmax} {niter} {reflect} {set_second} {no_repulsion} {no_attraction} {neighbor} {force_code}\"\n"
   ]
  },
  {
   "cell_type": "code",
   "execution_count": null,
   "id": "e7856112",
   "metadata": {},
   "outputs": [],
   "source": [
    "#TODO: replot Fig. 2B\n",
    "#TODO: print its inputs\n",
    "#TODO: use the function to generate its xy values\n",
    "#TODO: overlay the xy values"
   ]
  },
  {
   "cell_type": "code",
   "execution_count": null,
   "id": "33bbf873",
   "metadata": {},
   "outputs": [],
   "source": []
  },
  {
   "cell_type": "code",
   "execution_count": null,
   "id": "f619dedf",
   "metadata": {},
   "outputs": [],
   "source": []
  },
  {
   "cell_type": "code",
   "execution_count": null,
   "id": "a36f48da",
   "metadata": {},
   "outputs": [],
   "source": []
  },
  {
   "cell_type": "code",
   "execution_count": null,
   "id": "36dc932a",
   "metadata": {},
   "outputs": [],
   "source": []
  }
 ],
 "metadata": {
  "hide_input": false,
  "kernelspec": {
   "display_name": "Python 3 (ipykernel)",
   "language": "python",
   "name": "python3"
  },
  "language_info": {
   "codemirror_mode": {
    "name": "ipython",
    "version": 3
   },
   "file_extension": ".py",
   "mimetype": "text/x-python",
   "name": "python",
   "nbconvert_exporter": "python",
   "pygments_lexer": "ipython3",
   "version": "3.9.5"
  },
  "nbTranslate": {
   "displayLangs": [
    "*"
   ],
   "hotkey": "alt-t",
   "langInMainMenu": true,
   "sourceLang": "en",
   "targetLang": "fr",
   "useGoogleTranslate": true
  },
  "toc": {
   "base_numbering": 1,
   "nav_menu": {},
   "number_sections": true,
   "sideBar": true,
   "skip_h1_title": false,
   "title_cell": "Table of Contents",
   "title_sidebar": "Contents",
   "toc_cell": false,
   "toc_position": {},
   "toc_section_display": true,
   "toc_window_display": false
  }
 },
 "nbformat": 4,
 "nbformat_minor": 5
}
