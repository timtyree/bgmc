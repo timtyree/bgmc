{
 "cells": [
  {
   "cell_type": "markdown",
   "id": "4946646e",
   "metadata": {},
   "source": [
    "# Generation of figure 3\n",
    "Tim Tyree<br>\n",
    "1.3.2022"
   ]
  },
  {
   "cell_type": "code",
   "execution_count": 1,
   "id": "702f8f19",
   "metadata": {
    "ExecuteTime": {
     "end_time": "2022-01-25T22:46:45.013771Z",
     "start_time": "2022-01-25T22:46:43.226477Z"
    }
   },
   "outputs": [
    {
     "name": "stdout",
     "output_type": "stream",
     "text": [
      "The autoreload extension is already loaded. To reload it, use:\n",
      "  %reload_ext autoreload\n"
     ]
    }
   ],
   "source": [
    "# TODO: simplify initialization\n",
    "from scipy.optimize import minimize\n",
    "from lib.my_initialization import *\n",
    "from lib import *\n",
    "from lib.lib_care.measure.level_sets import comp_longest_level_set_and_smooth\n",
    "%load_ext autoreload\n",
    "%autoreload 2\n",
    "\n",
    "import matplotlib.pyplot as plt, numpy as np\n",
    "from mpltools import annotation\n",
    "import random,scipy\n",
    "from scipy.interpolate import LinearNDInterpolator\n",
    "from scipy.interpolate import CloughTocher2DInterpolator\n",
    "import matplotlib as mpl #for colorbar\n",
    "from scipy import stats\n",
    "\n",
    "#for particle params to MSR generating functional\n",
    "from scipy.signal import savgol_filter\n",
    "import dask.bag as db\n",
    "from lib.lib_care.measure.bootstrap import bin_and_bootstrap_xy_values_parallel\n",
    "\n",
    "darkmode=False\n",
    "if darkmode:\n",
    "    # For darkmode plots\n",
    "    from jupyterthemes import jtplot\n",
    "    jtplot.style(theme='monokai', context='notebook', ticks=True, grid=False)\n",
    "\n",
    "import warnings\n",
    "warnings.simplefilter(\"ignore\", UserWarning)\n",
    "%load_ext autoreload\n",
    "%autoreload 2\n",
    "\n",
    "#optional\n",
    "import cupy as cp\n",
    "cp.random.seed(42)\n",
    "np.random.seed(42)"
   ]
  },
  {
   "cell_type": "markdown",
   "id": "334353d8",
   "metadata": {},
   "source": [
    "`\n",
    "NOTE: for latest version of the manuscript's MSR versus tdeath plot, goto \n",
    "http://localhost:8889/notebooks/Analysis%20of%20model%20for%20time-reversed%20oscillatory%20particle%20model.ipynb\n",
    "`"
   ]
  },
  {
   "cell_type": "code",
   "execution_count": 2,
   "id": "a8e5c094",
   "metadata": {
    "ExecuteTime": {
     "end_time": "2022-01-06T01:39:20.567065Z",
     "start_time": "2022-01-06T01:39:20.546638Z"
    }
   },
   "outputs": [],
   "source": [
    "#reset matplotlib\n",
    "mpl.rcParams.update(matplotlib.rcParamsDefault)"
   ]
  },
  {
   "cell_type": "markdown",
   "id": "3a0e28da",
   "metadata": {},
   "source": [
    "# DONE: fit annihilation rates of the interacting inverse-powerlaw particle model to those of the full models\n",
    "- method of fit: minimization of mean squared error of the powerlaw fits of the particle model to those of the full models\n",
    "- method of minimization: Nelder-Mead minimization"
   ]
  },
  {
   "cell_type": "code",
   "execution_count": 3,
   "id": "24d37b8a",
   "metadata": {
    "ExecuteTime": {
     "end_time": "2022-01-06T01:39:39.845795Z",
     "start_time": "2022-01-06T01:39:20.568665Z"
    }
   },
   "outputs": [
    {
     "name": "stdout",
     "output_type": "stream",
     "text": [
      "estimated runtime is ~20 seconds for 17988 training samples...\n",
      "number of training examples is 17988....\n",
      "training complete!\n"
     ]
    }
   ],
   "source": [
    "#recall results from tables in the main mansucript\n",
    "wjr=recall_powerlaw_fits_to_full_models()\n",
    "interp=recall_particle_model_interp()\n",
    "a_hat_FK, D_hat_FK, a_hat_FK_long, a_hat_FK_vlong, a_hat_LR, D_hat_LR, a_hat_LR_long=recall_particle_parameter_measurements()"
   ]
  },
  {
   "cell_type": "code",
   "execution_count": 4,
   "id": "2c6b137a",
   "metadata": {
    "ExecuteTime": {
     "end_time": "2022-01-06T01:39:42.776750Z",
     "start_time": "2022-01-06T01:39:39.847460Z"
    }
   },
   "outputs": [
    {
     "name": "stdout",
     "output_type": "stream",
     "text": [
      "a=8.595, D=0.586055, r=0.10413888309470609, kappa=559.500160485693, rmse=0.028075538795257697\n"
     ]
    }
   ],
   "source": [
    "#fit the particle model to the luo-rudy model\n",
    "dict_out_lr=PlotParticlModelAnnihilationRateFit(a=a_hat_LR,D=D_hat_LR,wjr=wjr,interp=interp,\n",
    "    ax=None,model_name='lr_pbc',c='C1')"
   ]
  },
  {
   "cell_type": "code",
   "execution_count": 5,
   "id": "49a56920",
   "metadata": {
    "ExecuteTime": {
     "end_time": "2022-01-06T01:39:43.251305Z",
     "start_time": "2022-01-06T01:39:42.778223Z"
    },
    "scrolled": false
   },
   "outputs": [
    {
     "name": "stdout",
     "output_type": "stream",
     "text": [
      "a=1.604153, D=0.365238, r=0.06045948522530842, kappa=495.2658318951493, rmse=0.006797222653889483\n"
     ]
    }
   ],
   "source": [
    "#fit the particle model to the fenton-karma model\n",
    "dict_out_fk=PlotParticlModelAnnihilationRateFit(a=a_hat_FK_vlong,D=D_hat_FK,wjr=wjr,interp=interp,\n",
    "    ax=None,model_name='fk_pbc',c='C0')"
   ]
  },
  {
   "cell_type": "code",
   "execution_count": 6,
   "id": "1176e215",
   "metadata": {
    "ExecuteTime": {
     "end_time": "2022-01-06T01:39:43.278012Z",
     "start_time": "2022-01-06T01:39:43.252470Z"
    }
   },
   "outputs": [
    {
     "name": "stdout",
     "output_type": "stream",
     "text": [
      "a=8.595,    D=0.586055, r=0.10413888309470609, kappa=559.500160485693,  rmse=0.028075538795257697\n",
      "a=1.604153, D=0.365238, r=0.06045948522530842, kappa=495.2658318951493, rmse=0.006797222653889483\n"
     ]
    }
   ],
   "source": [
    "#recall ^these fits from lib\n",
    "a,D,r,kappa,rmse=recall_particle_parameter_fits('luorudy')\n",
    "print(f\"a={a},    D={D}, r={r}, kappa={kappa},  rmse={rmse}\")\n",
    "a,D,r,kappa,rmse=recall_particle_parameter_fits('fentonkarma')\n",
    "print(f\"a={a}, D={D}, r={r}, kappa={kappa}, rmse={rmse}\")"
   ]
  },
  {
   "cell_type": "markdown",
   "id": "417c03a1",
   "metadata": {},
   "source": [
    "# scratchwerk"
   ]
  },
  {
   "cell_type": "code",
   "execution_count": 7,
   "id": "3d50f864",
   "metadata": {
    "ExecuteTime": {
     "end_time": "2022-01-06T01:39:43.322688Z",
     "start_time": "2022-01-06T01:39:43.281386Z"
    }
   },
   "outputs": [],
   "source": [
    "# #GOAL(Fig. 3 in this ipynb)\n",
    "# #DONE(Fig. 3): plot \n",
    "# #FK fit of particle model\n",
    "# a=1.604153, D=0.365238, r=0.06045948522530842, kappa=495.2658318951493, rmse=0.006797222653889483\n",
    "# #LR fit of particle model\n",
    "# a=8.595, D=0.586055, r=0.10413888309470609, kappa=559.500160485693, rmse=0.028075538795257697\n",
    "#TODO: plot each figure panel individually"
   ]
  },
  {
   "cell_type": "code",
   "execution_count": null,
   "id": "e0907404",
   "metadata": {},
   "outputs": [],
   "source": []
  },
  {
   "cell_type": "code",
   "execution_count": null,
   "id": "bec6b4ba",
   "metadata": {},
   "outputs": [],
   "source": []
  },
  {
   "cell_type": "code",
   "execution_count": 8,
   "id": "92af9048",
   "metadata": {
    "ExecuteTime": {
     "end_time": "2022-01-06T01:39:43.362406Z",
     "start_time": "2022-01-06T01:39:43.324897Z"
    }
   },
   "outputs": [],
   "source": [
    "#msr from the particle model\n",
    "# npz_dir_FK='/home/timothytyree/Documents/GitHub/bgmc/python/data/control_data/arrays/control_a_7.3923_D_0.365238.npz'#csv'\n",
    "#msr from the full model\n",
    "# msr_dir_fk='/home/timothytyree/Documents/GitHub/bgmc/python/data/full_results/msr_fk_boostrapped_tavg2_14.0_n_19087_a_1.6_tmax_300.csv'\n",
    "\n",
    "#msr from the particle model\n",
    "# npz_dir_LR='/home/timothytyree/Documents/GitHub/bgmc/python/data/control_data/arrays/control_a_8.595_D_0.586055.npz'#.csv'\n"
   ]
  },
  {
   "cell_type": "markdown",
   "id": "df5d0f37",
   "metadata": {},
   "source": [
    "# DONE(Fig. 3.A): quick mockup of barchart \n",
    "quick mockup of barchart showing durations (and bootstrapped 95% CI) of (i) mean period estimates and (ii) mean lifetime estimates for (blue) the Fenton-Karma model and (orange) the Luo-Rudy model"
   ]
  },
  {
   "cell_type": "code",
   "execution_count": 9,
   "id": "8feaf3aa",
   "metadata": {
    "ExecuteTime": {
     "end_time": "2022-01-06T01:39:43.406074Z",
     "start_time": "2022-01-06T01:39:43.364235Z"
    }
   },
   "outputs": [],
   "source": [
    "#reset matplotlib\n",
    "mpl.rcParams.update(matplotlib.rcParamsDefault)"
   ]
  },
  {
   "cell_type": "code",
   "execution_count": 10,
   "id": "30218502",
   "metadata": {
    "ExecuteTime": {
     "end_time": "2022-01-06T01:39:43.433391Z",
     "start_time": "2022-01-06T01:39:43.408135Z"
    }
   },
   "outputs": [],
   "source": [
    "#TODO: compute the kinematic periods from the full models\n",
    "meanT_dir_lr='/home/timothytyree/Documents/GitHub/bgmc/python/data/full_results/luorudy_mean_kinematic_periods.npz'\n",
    "meanT_dir_fk='/home/timothytyree/Documents/GitHub/bgmc/python/data/full_results/fentonkarma_mean_kinematic_periods.npz'\n",
    "# np.mean(meanT_values)"
   ]
  },
  {
   "cell_type": "code",
   "execution_count": null,
   "id": "8f528d54",
   "metadata": {},
   "outputs": [],
   "source": []
  },
  {
   "cell_type": "code",
   "execution_count": 11,
   "id": "073d8af7",
   "metadata": {
    "ExecuteTime": {
     "end_time": "2022-01-06T01:39:43.461535Z",
     "start_time": "2022-01-06T01:39:43.435271Z"
    }
   },
   "outputs": [],
   "source": [
    "#TODO: copy & paste barcharts from neurophysics\n",
    "#TODO: copy lifetimes from .xlsx\n",
    "#TODO: estimate periods from plot and give reasonable 95% CI estimates\n",
    "#TODO: copy & paste ^that to .odg as a re-first-draft of Fig. 3.A\n",
    "#TODO: move on to my sketch of Fig. 3.B\n",
    "# TODO(later): measure the period precisely\n",
    "mean_lst=[90,100,310.057,82.7333]\n",
    "Delta_mean_lst=[10,10,3.5354,0.9154]\n",
    "# Nobs_lst=[43306,10362,43306,10362]#GUESSED PERIOD SAMPLE SIZES\n",
    "Nobs_lst=[4330,1036,4330,1036]#GUESSED PERIOD SAMPLE SIZES\n",
    "# Nobs_lst=[??,??,43306,10362]"
   ]
  },
  {
   "cell_type": "code",
   "execution_count": 12,
   "id": "9f2148be",
   "metadata": {
    "ExecuteTime": {
     "end_time": "2022-01-06T01:39:43.485664Z",
     "start_time": "2022-01-06T01:39:43.462968Z"
    }
   },
   "outputs": [],
   "source": [
    "#perform student t-tests for significantly different average values"
   ]
  },
  {
   "cell_type": "code",
   "execution_count": 13,
   "id": "d6d5fa03",
   "metadata": {
    "ExecuteTime": {
     "end_time": "2022-01-06T01:39:43.513957Z",
     "start_time": "2022-01-06T01:39:43.486841Z"
    }
   },
   "outputs": [
    {
     "name": "stdout",
     "output_type": "stream",
     "text": [
      "a students t-test comparing the mean lifetimes from the Fenton-Karma model to those of the Luo-Rudy model yielded p=0.0.\n"
     ]
    }
   ],
   "source": [
    "stat,p=stats.ttest_ind_from_stats(mean1=mean_lst[2], std1=Delta_mean_lst[2]/1.96*np.sqrt(Nobs_lst[2]), nobs1=Nobs_lst[2],\n",
    "                           mean2=mean_lst[3], std2=Delta_mean_lst[3]/1.96*np.sqrt(Nobs_lst[3]), nobs2=Nobs_lst[3])\n",
    "print(f\"a students t-test comparing the mean lifetimes from the Fenton-Karma model to those of the Luo-Rudy model yielded p={p}.\")"
   ]
  },
  {
   "cell_type": "code",
   "execution_count": 14,
   "id": "a42e13b5",
   "metadata": {
    "ExecuteTime": {
     "end_time": "2022-01-06T01:39:43.541626Z",
     "start_time": "2022-01-06T01:39:43.515550Z"
    }
   },
   "outputs": [
    {
     "name": "stdout",
     "output_type": "stream",
     "text": [
      "a students t-test comparing the mean lifetimes from the Fenton-Karma model to those of the Luo-Rudy model yielded p=0.35119444375871434.\n"
     ]
    }
   ],
   "source": [
    "stat,p=stats.ttest_ind_from_stats(mean1=mean_lst[0], std1=Delta_mean_lst[0]/1.96*np.sqrt(Nobs_lst[0]), nobs1=Nobs_lst[0],\n",
    "                           mean2=mean_lst[1], std2=Delta_mean_lst[1]/1.96*np.sqrt(Nobs_lst[1]), nobs2=Nobs_lst[1])\n",
    "print(f\"a students t-test comparing the mean lifetimes from the Fenton-Karma model to those of the Luo-Rudy model yielded p={p}.\")"
   ]
  },
  {
   "cell_type": "code",
   "execution_count": 15,
   "id": "e668f206",
   "metadata": {
    "ExecuteTime": {
     "end_time": "2022-01-06T01:39:44.039463Z",
     "start_time": "2022-01-06T01:39:43.542872Z"
    },
    "scrolled": true
   },
   "outputs": [
    {
     "data": {
      "image/png": "[encoded data removed]",
      "text/plain": [
       "<Figure size 640x480 with 1 Axes>"
      ]
     },
     "metadata": {},
     "output_type": "display_data"
    },
    {
     "data": {
      "image/png": "[encoded data removed]",
      "text/plain": [
       "<Figure size 400x500 with 1 Axes>"
      ]
     },
     "metadata": {},
     "output_type": "display_data"
    }
   ],
   "source": [
    "bar_height_values=np.array(mean_lst)\n",
    "Delta_bar_height_values=np.array(Delta_mean_lst)\n",
    "color_lst=['C0','C1','C0','C1']\n",
    "bar_label_lst=[r'$T_{FK}$',r'$T_{LR}$',r'$\\Gamma_{FK}$',r'$\\Gamma_{LR}$']\n",
    "# hatch: {'/', '\\\\', '|', '-', '+', 'x', 'o', 'O', '.', '*'}\n",
    "hatch_values=np.array(['','','//','//'])\n",
    "# bar_label_lst=['Audio-Only\\n\\n\\n','Match\\n\\n\\n','Mismatch\\n\\n\\n','Video-Only\\n\\n\\n']\n",
    "ylabel='Avg. Duration (ms)'#\\nwith Preferred Modality'\n",
    "fig,ax=plt.subplots(figsize=(4,5))\n",
    "ax.bar(bar_label_lst,bar_height_values,hatch=hatch_values,yerr=Delta_bar_height_values,alpha=0.9,color=color_lst,capsize=10)\n",
    "# ax.errorbar(bar_label_lst[0],bar_height_values[0],Delta_bar_height_values[0],alpha=0.9,color=color_lst[0])\n",
    "format_plot(ax=ax,xlabel='',ylabel=ylabel)\n",
    "# title=''\n",
    "# ax.set_title(title,fontsize=18)\n",
    "# plt.gca().yaxis.set_major_formatter(mtick.PercentFormatter())\n",
    "plt.ylim([0,410])\n",
    "# plt.xticks(rotation=90)\n",
    "# plt.xticks(rotation=0)\n",
    "# plt.xticks(rotation=-90)\n",
    "plt.show()"
   ]
  },
  {
   "cell_type": "markdown",
   "id": "231f4ed1",
   "metadata": {
    "ExecuteTime": {
     "end_time": "2022-01-05T00:55:08.002101Z",
     "start_time": "2022-01-05T00:55:07.946080Z"
    }
   },
   "source": [
    "# analytic fit to MSR"
   ]
  },
  {
   "cell_type": "markdown",
   "id": "de935620",
   "metadata": {},
   "source": [
    "$$\n",
    "\\text{MSR}_\\text{Osc.}(t')=4at'+\\frac{8D}{\\omega}\\Big(sin(\\omega t' + \\phi_f) - sin(\\phi_f)\\Big)\n",
    "$$"
   ]
  },
  {
   "cell_type": "code",
   "execution_count": 17,
   "id": "644f0f6a",
   "metadata": {
    "ExecuteTime": {
     "end_time": "2022-01-25T23:36:36.555306Z",
     "start_time": "2022-01-25T23:36:36.501275Z"
    }
   },
   "outputs": [
    {
     "name": "stdout",
     "output_type": "stream",
     "text": [
      "a_hat_FK = 1.604153+/-0.040173 cm^2/s, tmax=300\n",
      "a_hat_LR = 8.595018+/-0.377114 cm^2/s, tmax=8\n"
     ]
    }
   ],
   "source": [
    "msr_dir_lr='/home/timothytyree/Documents/GitHub/bgmc/python/data/full_results/msr_lr_boostrapped_tavg2_14.0_n_2083_a_8.6.csv'\n",
    "# a_LR = 8.5950#+/-0.3771 cm^2/s\n",
    "# tavg2=14 ms, num_samples=2083\n",
    "msr_dir_fk='/home/timothytyree/Documents/GitHub/bgmc/python/data/full_results/msr_fk_boostrapped_tavg2_14.0_n_19087_a_1.6_tmax_300.csv'\n",
    "# a_FK = 1.604153#+/-0.040173 cm^2/s\n",
    "# tavg2=14 ms, num_samples=19087, tmin=0, tmax=300 ms\n",
    "\n",
    "df_msd_lr=pd.read_csv(msr_dir_lr)\n",
    "x_values_LR=df_msd_lr['tdeath_avg'].values\n",
    "y_values_LR=df_msd_lr['MSR'].values\n",
    "yerr_values_LR=df_msd_lr['Delta_MSR'].values\n",
    "df_msd_fk=pd.read_csv(msr_dir_fk)\n",
    "x_values_FK=df_msd_fk['tdeath_avg'].values\n",
    "y_values_FK=df_msd_fk['MSR'].values\n",
    "yerr_values_FK=df_msd_fk['Delta_MSR'].values\n",
    "\n",
    "tmax=300#ms\n",
    "x_values=x_values_FK.copy()\n",
    "y_values=y_values_FK.copy()\n",
    "boo=x_values<tmax #ms\n",
    "dict_a_SR=compute_95CI_ols(x_values[boo],y_values[boo])\n",
    "a_SR=dict_a_SR['m']/4*1e3\n",
    "Delta_a_SR=dict_a_SR['Delta_m']/4*1e3\n",
    "print(f\"a_hat_FK = {a_SR:.6f}+/-{Delta_a_SR:.6f} cm^2/s, tmax={tmax}\")\n",
    "a_hat_FK=a_SR\n",
    "\n",
    "tmax=8#ms\n",
    "x_values=x_values_LR.copy()\n",
    "y_values=y_values_LR.copy()\n",
    "boo=x_values<tmax #ms\n",
    "dict_a_SR=compute_95CI_ols(x_values[boo],y_values[boo])\n",
    "a_SR=dict_a_SR['m']/4*1e3\n",
    "Delta_a_SR=dict_a_SR['Delta_m']/4*1e3\n",
    "print(f\"a_hat_LR = {a_SR:.6f}+/-{Delta_a_SR:.6f} cm^2/s, tmax={tmax}\")\n",
    "a_hat_LR=a_SR"
   ]
  },
  {
   "cell_type": "code",
   "execution_count": 20,
   "id": "42319c55",
   "metadata": {
    "ExecuteTime": {
     "end_time": "2022-01-25T23:44:19.622077Z",
     "start_time": "2022-01-25T23:44:19.434951Z"
    }
   },
   "outputs": [
    {
     "data": {
      "image/png": "[encoded data removed]",
      "text/plain": [
       "<Figure size 600x400 with 1 Axes>"
      ]
     },
     "metadata": {},
     "output_type": "display_data"
    }
   ],
   "source": [
    "fontsize=15\n",
    "fig,ax=plt.subplots(figsize=(6,4))\n",
    "### plot expected\n",
    "fontsize=20\n",
    "\n",
    "xv=np.linspace(0,1e3,200)\n",
    "ax.plot(xv,4*a_hat_LR*1e-3*xv,'--',lw=2,alpha=0.8,c='C1')\n",
    "ax.plot(xv,4*a_hat_FK*1e-3*xv,'--',lw=2,alpha=0.8,c='C0')\n",
    "#plot data\n",
    "ax.plot(x_values_FK,y_values_FK,lw=2,alpha=0.8,c='C0')\n",
    "ax.fill_between(x_values_FK,y_values_FK-yerr_values_FK,y_values_FK+yerr_values_FK,lw=2,alpha=0.4,color='C0')\n",
    "ax.plot(x_values_LR,y_values_LR,lw=2,alpha=0.8,c='C1')\n",
    "ax.fill_between(x_values_LR,y_values_LR-yerr_values_LR,y_values_LR+yerr_values_LR,lw=2,alpha=0.4,color='C1')\n",
    "\n",
    "# MSR(t)=at + (2D/\\omega) \\sin(\\omega t + \\phi_f),\n",
    "# DONE: plot ^this model for MSR for fitty parameter settings (LR)\n",
    "# a=3.535902;D=a/2;phi_f=0.;period=0.1 #s\n",
    "a=3.535902;D=a/2;\n",
    "phi_f=0.;\n",
    "# phi_f=-np.pi/2;\n",
    "period=0.12 #s\n",
    "omega=2*np.pi/period\n",
    "constant=-8*D*np.sin(phi_f)/omega#0.15\n",
    "t_values=np.linspace(0,1,1000)\n",
    "MSR_values_oscillatory=4*(a*t_values+(2*D/omega)*np.sin(omega*t_values+phi_f))+constant\n",
    "ax.plot(t_values*1e3,MSR_values_oscillatory,c='C2',\n",
    "        label='$MSR_{Osc.} (a=a_{LR},\\phi_f=0$)')\n",
    "#         label=r'Oscillatory Solution ($a=a_{LR}$, $\\phi_f=0$)')\n",
    "\n",
    "#what param setting to use for the FK model?\n",
    "phi_f=-np.pi/2;\n",
    "a=1.604153;\n",
    "period=0.11 #s\n",
    "D=a/2;\n",
    "# constant=0.15\n",
    "omega=2*np.pi/period\n",
    "constant=-8*D*np.sin(phi_f)/omega#0.15\n",
    "t_values=np.linspace(0,1,1000)\n",
    "MSR_values_oscillatory=4*(a*t_values+(2*D/omega)*np.sin(omega*t_values+phi_f))+constant\n",
    "ax.plot(t_values*1e3,MSR_values_oscillatory,c='C3',\n",
    "                label=r'$MSR_{Osc.} (a=a_{FK}, \\phi_f=-\\frac{\\pi}{2})$')\n",
    "#         label='$MSR_{Osc.} (a=a_{FK}, \\phi_f=-\\frac{\\pi}{2})$')\n",
    "#         label='Oscillatory Solution ($a=a_{FK}$, $\\phi_f=-\\pi/2$)')\n",
    "\n",
    "# #what param setting to use for the FK model?\n",
    "# phi_f=0#-np.pi/2;\n",
    "# # a=1.604153;\n",
    "# # period=0.11 #s\n",
    "# # D=a/2;\n",
    "# # constant=0.15\n",
    "# omega=2*np.pi/period\n",
    "# constant=-8*D*np.sin(phi_f)/omega#0.15\n",
    "# t_values=np.linspace(0,1,1000)\n",
    "# MSR_values_oscillatory=4*(a*t_values+(2*D/omega)*np.sin(omega*t_values+phi_f))+constant\n",
    "# plt.plot(t_values*1e3,MSR_values_oscillatory,c='gray',label='Oscillatory Solution ($a=a_{FK}$, $\\phi_f=0$)')\n",
    "\n",
    "#format plot\n",
    "format_plot(ax=ax,xlabel=r'$t_f-t$ (ms)',ylabel=r'MSR (cm$^2$)',fontsize=fontsize)\n",
    "plt.xlim([0,1000])\n",
    "plt.ylim([0,5.1])\n",
    "plt.legend(loc='lower right',fontsize=fontsize-5,frameon=False)\n",
    "plt.show()\n",
    "# print(f\"tavg2={tavg2} ms, num_samples={max_num_groups}\")"
   ]
  },
  {
   "cell_type": "markdown",
   "id": "48c7df47",
   "metadata": {},
   "source": [
    "## generate MSR for the oscillatory model"
   ]
  },
  {
   "cell_type": "code",
   "execution_count": null,
   "id": "8761e91b",
   "metadata": {
    "ExecuteTime": {
     "start_time": "2022-01-06T04:34:18.777Z"
    }
   },
   "outputs": [],
   "source": []
  },
  {
   "cell_type": "code",
   "execution_count": null,
   "id": "30447a13",
   "metadata": {
    "ExecuteTime": {
     "start_time": "2022-01-06T05:33:33.946Z"
    }
   },
   "outputs": [],
   "source": [
    "include_earliest=False#True#broken?"
   ]
  },
  {
   "cell_type": "code",
   "execution_count": null,
   "id": "bb9a8850",
   "metadata": {
    "ExecuteTime": {
     "start_time": "2022-01-06T04:00:09.563Z"
    }
   },
   "outputs": [
    {
     "name": "stdout",
     "output_type": "stream",
     "text": [
      "Rsq_values mean_array std_array\n",
      "positions_out.shape=(100000, 4, 10000)\n"
     ]
    }
   ],
   "source": [
    "#heretim\n",
    "ahat_long=a_hat_FK_vlong#a_hat_LR_long\n",
    "#Fenton-Karma\n",
    "#GOAL: add a reasonable fit MSR from the reversed-time oscillatory particle model (dotted)\n",
    "#DONE: select either of the xy values form the full model (OR copy & paste ^that to new ipynb)\n",
    "#DONE: initialize the particle model for the FK model\n",
    "a=2.4; #2.5?\n",
    "D=1.2; T=120; phif=0.0003; Rf=1e-02; Ntrials=1000\n",
    "# x_values,y_values=x_values_FK,y_values_FK\n",
    "# #DONE: initialize the particle model for the LR model\n",
    "# a=3.8; D=1.9; T=120; phif=0.0002; Rf=1e-02; Ntrials=1000\n",
    "# x_values,y_values=x_values_LR,y_values_LR\n",
    "T=100#110#140#100#120#180#90#240\n",
    "D=0.365238#\t0.004171\t101774+/-103689,0.6,1.5,0.98 # from particle properties spreadsheet\n",
    "a=1.6\n",
    "D=ahat_long/2#/1 #/4#/4\n",
    "a=ahat_long#/2\n",
    "#TODO: recall my time reversed function that maps parameters of the oscillatory model to MSR\n",
    "# gener_positions_oscillatory_reversed\n",
    "\n",
    "# initial_phase_orientation=phif\n",
    "# initial_phase_orientation-=np.pi/2-np.pi# worse/4#/2\n",
    "initial_phase_orientation+=np.pi/2\n",
    "\n",
    "num_pairs=10000#1min 30sec: 10+1#400#2min 22sec: \n",
    "#before, long runtime\n",
    "dict_out,position_array = gener_positions_oscillatory_reversed(\n",
    "            a=a, D=D, printing=False,num_pairs=num_pairs,initial_phase_orientation=initial_phase_orientation,\n",
    "            include_earliest=include_earliest,\n",
    "            period_of_oscillation=T)\n",
    "print(*dict_out)\n",
    "positions_out=position_array\n",
    "\n",
    "#estimated run time: <1 minute\n",
    "# positions_out=dict_out['positions_out']\n",
    "Dt=1e-5\n",
    "rstart=1e-4\n",
    "title=f\"a={a:.4f}, D={D:.4f},\\n\"+r\"$\\phi_0$\"+f\"={initial_phase_orientation:.4f}, \"+r\"R$_0$\"+f\"={rstart:.4f}, \"+r\" N$_{trials}$\"+f\"={num_pairs}\\n\"\n",
    "print(f\"positions_out.shape={positions_out.shape}\")\n",
    "#compute the distance between each pair of particles after aligning by annihilation (unshifted)\n",
    "x1_values=positions_out[:,0]\n",
    "y1_values=positions_out[:,1]\n",
    "x2_values=positions_out[:,2]\n",
    "y2_values=positions_out[:,3]\n",
    "dx_values=(x2_values-x1_values)\n",
    "dy_values=(y2_values-y1_values)\n",
    "Rsq_values=dx_values**2+dy_values**2\n",
    "#compute the ensemble averaged values\n",
    "MSR_values=np.mean(Rsq_values,axis=1)\n",
    "aligned_coordinates_values=np.mean(positions_out,axis=-1)\n",
    "# maxt=Dt*MSR_values.shape[0]\n",
    "t_values=np.arange(MSR_values.shape[0])*Dt\n",
    "\n",
    "t_values_fk_osc=t_values.copy()\n",
    "MSR_values_fk_osc=MSR_values.copy()\n",
    "beep(5)"
   ]
  },
  {
   "cell_type": "code",
   "execution_count": null,
   "id": "9fd642f3",
   "metadata": {
    "ExecuteTime": {
     "start_time": "2022-01-06T04:00:20.357Z"
    }
   },
   "outputs": [],
   "source": [
    "#heretim\n",
    "ahat_long=a_hat_LR_long#a_hat_FK_vlong#\n",
    "#Luo-Rudy\n",
    "#runtime was ~40 seconds\n",
    "#recompute the Luo-Rudy model's fitty for the MSR of the oscillatory model \n",
    "#GOAL: add a reasonable fit MSR from the reversed-time oscillatory particle model (dotted)\n",
    "#DONE: select either of the xy values form the full model (OR copy & paste ^that to new ipynb)\n",
    "#DONE: initialize the particle model for the FK model\n",
    "a=2.5; D=1.2; T=120; phif=0.0003; Rf=1e-02; Ntrials=1000\n",
    "# x_values,y_values=x_values_FK,y_values_FK\n",
    "#DONE: initialize the particle model for the LR model\n",
    "a=3.8; D=1.9; T=120; phif=0.0002; Rf=1e-02; Ntrials=1000\n",
    "# x_values,y_values=x_values_LR,y_values_LR\n",
    "\n",
    "#TODO: try to get a reasonable a for LR given D=D_LR\n",
    "D=0.586055#\t0.087553\t1871+/-520,0,0.55*,0.89#from particle properties spreadsheet\n",
    "a=5#too big 8.5#tad small...9#4.5#discontinuous... 5#too small... 3.8\n",
    "T=120#100#240#120\n",
    "D=ahat_long/2#/1 #/4\n",
    "a=ahat_long\n",
    "#TODO: recall my time reversed function that maps parameters of the oscillatory model to MSR\n",
    "# gener_positions_oscillatory_reversed\n",
    "\n",
    "initial_phase_orientation=phif\n",
    "num_pairs=10000#1min 30sec: 10+1#400#2min 22sec: \n",
    "#before, long runtime\n",
    "dict_out,position_array = gener_positions_oscillatory_reversed(\n",
    "            a=a, D=D, printing=False,num_pairs=num_pairs,initial_phase_orientation=initial_phase_orientation,\n",
    "            include_earliest=include_earliest,\n",
    "            period_of_oscillation=T)\n",
    "\n",
    "print(*dict_out)\n",
    "positions_out=position_array\n",
    "\n",
    "#estimated run time: <1 minute\n",
    "# positions_out=dict_out['positions_out']\n",
    "Dt=1e-5\n",
    "rstart=1e-4\n",
    "title=f\"a={a:.4f}, D={D:.4f},\\n\"+r\"$\\phi_0$\"+f\"={initial_phase_orientation:.4f}, \"+r\"R$_0$\"+f\"={rstart:.4f}, \"+r\" N$_{trials}$\"+f\"={num_pairs}\\n\"\n",
    "print(f\"positions_out.shape={positions_out.shape}\")\n",
    "#compute the distance between each pair of particles after aligning by annihilation (unshifted)\n",
    "x1_values=positions_out[:,0]\n",
    "y1_values=positions_out[:,1]\n",
    "x2_values=positions_out[:,2]\n",
    "y2_values=positions_out[:,3]\n",
    "dx_values=(x2_values-x1_values)\n",
    "dy_values=(y2_values-y1_values)\n",
    "Rsq_values=dx_values**2+dy_values**2\n",
    "#compute the ensemble averaged values\n",
    "MSR_values=np.mean(Rsq_values,axis=1)\n",
    "aligned_coordinates_values=np.mean(positions_out,axis=-1)\n",
    "# maxt=Dt*MSR_values.shape[0]\n",
    "t_values=np.arange(MSR_values.shape[0])*Dt\n",
    "\n",
    "t_values_lr_osc=t_values.copy()\n",
    "MSR_values_lr_osc=MSR_values.copy()\n",
    "beep(5)"
   ]
  },
  {
   "cell_type": "code",
   "execution_count": null,
   "id": "4b302d10",
   "metadata": {
    "ExecuteTime": {
     "start_time": "2022-01-06T04:09:22.822Z"
    }
   },
   "outputs": [],
   "source": [
    "!pwd"
   ]
  },
  {
   "cell_type": "code",
   "execution_count": null,
   "id": "0f333998",
   "metadata": {
    "ExecuteTime": {
     "start_time": "2022-01-06T04:14:15.480Z"
    }
   },
   "outputs": [],
   "source": [
    "#DONE: save dotted as .npz\n",
    "msr_osc_fn=f\"msr_osc_full.npz\"\n",
    "np.savez_compressed(msr_osc_fn,\n",
    "                   t_values_fk_osc=t_values_fk_osc,\n",
    "                   MSR_values_fk_osc=MSR_values_fk_osc,\n",
    "                   t_values_lr_osc=t_values_lr_osc,\n",
    "                   MSR_values_lr_osc=MSR_values_lr_osc)\n",
    "print(f\"msr_osc_fn='{os.path.abspath(msr_osc_fn)}'\")\n",
    "assert os.path.exists(msr_osc_fn)"
   ]
  },
  {
   "cell_type": "code",
   "execution_count": null,
   "id": "0ef49ddd",
   "metadata": {},
   "outputs": [],
   "source": [
    " "
   ]
  },
  {
   "cell_type": "code",
   "execution_count": null,
   "id": "e4a3bf7f",
   "metadata": {},
   "outputs": [],
   "source": []
  },
  {
   "cell_type": "code",
   "execution_count": 20,
   "id": "bac4bd11",
   "metadata": {
    "ExecuteTime": {
     "end_time": "2022-01-06T01:41:01.988896Z",
     "start_time": "2022-01-06T01:41:01.916743Z"
    }
   },
   "outputs": [
    {
     "data": {
      "text/plain": [
       "False"
      ]
     },
     "execution_count": 20,
     "metadata": {},
     "output_type": "execute_result"
    }
   ],
   "source": [
    "assert not np.isnan(Rsq_values).all()"
   ]
  },
  {
   "cell_type": "markdown",
   "id": "633f4b84",
   "metadata": {},
   "source": [
    "## plot the results"
   ]
  },
  {
   "cell_type": "code",
   "execution_count": 21,
   "id": "cd6c131e",
   "metadata": {
    "ExecuteTime": {
     "end_time": "2022-01-06T01:41:02.008369Z",
     "start_time": "2022-01-06T01:41:01.990050Z"
    }
   },
   "outputs": [],
   "source": [
    "#estimate a_sr expected for this value with a sliding window\n",
    "msr_dir_lr='/home/timothytyree/Documents/GitHub/bgmc/python/data/full_results/msr_lr_boostrapped_tavg2_14.0_n_2083_a_8.6.csv'\n",
    "# a_LR = 8.5950#+/-0.3771 cm^2/s\n",
    "# tavg2=14 ms, num_samples=2083\n",
    "\n",
    "msr_dir_fk='/home/timothytyree/Documents/GitHub/bgmc/python/data/full_results/msr_fk_boostrapped_tavg2_14.0_n_19087_a_1.6_tmax_300.csv'\n",
    "# a_FK = 1.604153#+/-0.040173 cm^2/s\n",
    "# tavg2=14 ms, num_samples=19087, tmin=0, tmax=300 ms"
   ]
  },
  {
   "cell_type": "code",
   "execution_count": 22,
   "id": "59996fe6",
   "metadata": {
    "ExecuteTime": {
     "end_time": "2022-01-06T01:41:02.035475Z",
     "start_time": "2022-01-06T01:41:02.012055Z"
    }
   },
   "outputs": [],
   "source": [
    "df_msd_lr=pd.read_csv(msr_dir_lr)\n",
    "x_values_LR=df_msd_lr['tdeath_avg'].values\n",
    "y_values_LR=df_msd_lr['MSR'].values\n",
    "yerr_values_LR=df_msd_lr['Delta_MSR'].values\n",
    "df_msd_fk=pd.read_csv(msr_dir_fk)\n",
    "x_values_FK=df_msd_fk['tdeath_avg'].values\n",
    "y_values_FK=df_msd_fk['MSR'].values\n",
    "yerr_values_FK=df_msd_fk['Delta_MSR'].values"
   ]
  },
  {
   "cell_type": "code",
   "execution_count": 23,
   "id": "b7055d70",
   "metadata": {
    "ExecuteTime": {
     "end_time": "2022-01-06T01:41:02.058293Z",
     "start_time": "2022-01-06T01:41:02.036936Z"
    }
   },
   "outputs": [
    {
     "name": "stdout",
     "output_type": "stream",
     "text": [
      "a_hat_FK = 1.604153+/-0.040173 cm^2/s, tmax=300\n",
      "a_hat_LR = 8.595018+/-0.377114 cm^2/s, tmax=8\n"
     ]
    }
   ],
   "source": [
    "tmax=300#8#ms\n",
    "x_values=x_values_FK.copy()\n",
    "y_values=y_values_FK.copy()\n",
    "boo=x_values<tmax #ms\n",
    "dict_a_SR=compute_95CI_ols(x_values[boo],y_values[boo])\n",
    "a_SR=dict_a_SR['m']/4*1e3\n",
    "Delta_a_SR=dict_a_SR['Delta_m']/4*1e3\n",
    "print(f\"a_hat_FK = {a_SR:.6f}+/-{Delta_a_SR:.6f} cm^2/s, tmax={tmax}\")\n",
    "a_hat_FK=a_SR\n",
    "\n",
    "tmax=8#ms\n",
    "x_values=x_values_LR.copy()\n",
    "y_values=y_values_LR.copy()\n",
    "boo=x_values<tmax #ms\n",
    "dict_a_SR=compute_95CI_ols(x_values[boo],y_values[boo])\n",
    "a_SR=dict_a_SR['m']/4*1e3\n",
    "Delta_a_SR=dict_a_SR['Delta_m']/4*1e3\n",
    "print(f\"a_hat_LR = {a_SR:.6f}+/-{Delta_a_SR:.6f} cm^2/s, tmax={tmax}\")\n",
    "a_hat_LR=a_SR"
   ]
  },
  {
   "cell_type": "code",
   "execution_count": null,
   "id": "8b92844b",
   "metadata": {
    "ExecuteTime": {
     "start_time": "2022-01-06T04:00:35.777Z"
    },
    "hide_input": true
   },
   "outputs": [],
   "source": [
    "#heretim\n",
    "#plot expected\n",
    "xv=np.linspace(0,1e3,200)\n",
    "plt.plot(xv,4*a_hat_LR*1e-3*xv,'--',lw=2,alpha=0.8,c='C1')\n",
    "plt.plot(xv,4*a_hat_FK*1e-3*xv,'--',lw=2,alpha=0.8,c='C0')\n",
    "#plot fitty\n",
    "plt.plot(t_values_fk_osc*1e3,MSR_values_fk_osc,':',lw=2,alpha=0.5,c='C0')\n",
    "plt.plot(t_values_lr_osc*1e3,MSR_values_lr_osc,':',lw=2,alpha=0.5,c='C1')\n",
    "#plot data\n",
    "plt.plot(x_values_FK,y_values_FK,lw=2,alpha=0.8,c='C0')\n",
    "plt.fill_between(x_values_FK,y_values_FK-yerr_values_FK,y_values_FK+yerr_values_FK,lw=2,alpha=0.4,color='C0')\n",
    "plt.plot(x_values_LR,y_values_LR,lw=2,alpha=0.8,c='C1')\n",
    "plt.fill_between(x_values_LR,y_values_LR-yerr_values_LR,y_values_LR+yerr_values_LR,lw=2,alpha=0.4,color='C1')\n",
    "format_plot(ax=plt.gca(),xlabel=r'$t_f-t$ (ms)',ylabel=r'MSR (cm$^2$)')\n",
    "plt.xlim([0,180])\n",
    "plt.ylim([0,3.1])\n",
    "title=f\"a={a:.4f}, D={D:.4f},\\n\"+r\"$\\phi_0$\"+f\"={initial_phase_orientation:.4f}, \"+r\"R$_0$\"+f\"={rstart:.4f}, \"+r\" N$_{trials}$\"+f\"={num_pairs}\\n\"\n",
    "plt.title(title)\n",
    "plt.show()\n",
    "# print(f\"tavg2={tavg2} ms, num_samples={max_num_groups}\")"
   ]
  },
  {
   "cell_type": "code",
   "execution_count": null,
   "id": "af473cda",
   "metadata": {
    "ExecuteTime": {
     "start_time": "2022-01-06T04:00:36.095Z"
    }
   },
   "outputs": [],
   "source": [
    "#plot expected\n",
    "xv=np.linspace(0,1e3,200)\n",
    "plt.plot(xv,4*a_hat_LR*1e-3*xv,'--',lw=2,alpha=0.8,c='C1')\n",
    "plt.plot(xv,4*a_hat_FK*1e-3*xv,'--',lw=2,alpha=0.8,c='C0')\n",
    "#plot data\n",
    "plt.plot(x_values_FK,y_values_FK,lw=2,alpha=0.8,c='C0')\n",
    "plt.fill_between(x_values_FK,y_values_FK-yerr_values_FK,y_values_FK+yerr_values_FK,lw=2,alpha=0.4,color='C0')\n",
    "plt.plot(x_values_LR,y_values_LR,lw=2,alpha=0.8,c='C1')\n",
    "plt.fill_between(x_values_LR,y_values_LR-yerr_values_LR,y_values_LR+yerr_values_LR,lw=2,alpha=0.4,color='C1')\n",
    "\n",
    "plt.plot(t_values_fk_osc*1e3,MSR_values_fk_osc,':',lw=2,alpha=0.5,c='C0')\n",
    "plt.plot(t_values_lr_osc*1e3,MSR_values_lr_osc,':',lw=2,alpha=0.5,c='C1')\n",
    "\n",
    "#this FAILS to let me change the text displayed...  i must make a triangle and a text box to make the slope's label \"4a_FK\"\n",
    "# #mark the slope of ^that line with slope = 4*1.6 (FK) and slope = 4*8.6 (LR)\n",
    "# x1 = 700\n",
    "# y1 = 4\n",
    "# ax=plt.gca()\n",
    "# annotation.slope_marker(origin=(x1, y1),\n",
    "#                         slope=4*1.6e-3,#(1.6,1),#1.6,\n",
    "# #                         invert=True,\n",
    "# #                         text_kwargs={'color': 'black','fontsize':16, 'alpha':0.7, \"text\":'4a'},\n",
    "#                         text_kwargs={'color': 'black','fontsize':16, 'alpha':0.7},\n",
    "#                         poly_kwargs={'facecolor': (0.5, 0.5, 0.5), 'alpha':0.5},#TODO: replace with purple\n",
    "#                         ax=ax)\n",
    "\n",
    "#format plot\n",
    "format_plot(ax=plt.gca(),xlabel=r'$t_f-t$ (ms)',ylabel=r'MSR (cm$^2$)')\n",
    "plt.xlim([0,1000])\n",
    "plt.ylim([0,5.1])\n",
    "# plt.ylim([0,4.1])\n",
    "\n",
    "plt.show()"
   ]
  },
  {
   "cell_type": "code",
   "execution_count": 26,
   "id": "353bf517",
   "metadata": {
    "ExecuteTime": {
     "end_time": "2022-01-06T01:41:02.386264Z",
     "start_time": "2022-01-06T01:41:02.366868Z"
    }
   },
   "outputs": [],
   "source": [
    "#TODO(later?): add a legend that identifies the 3 different classes of curves with black legend markers\n",
    "# (solid) full model, \n",
    "# (dashed) interacting inverse-powerlaw particle model,\n",
    "# (dotted) oscillatory particle model,"
   ]
  },
  {
   "cell_type": "code",
   "execution_count": 27,
   "id": "82e1ba46",
   "metadata": {
    "ExecuteTime": {
     "end_time": "2022-01-06T01:41:02.411874Z",
     "start_time": "2022-01-06T01:41:02.388042Z"
    }
   },
   "outputs": [],
   "source": [
    "#GOAL: highlight ^this with slopes indicating how ahat is computed \n",
    "# #TODO: change label to 4*a\n",
    "# annotation.slope_marker? #LAME\n",
    "# matplotlib.text.Text? #object oriented\n",
    "# matplotlib.patches.Polygon? #object oriented\n",
    "# #HINT: use ^these two mpl handles to add slopes to indicate "
   ]
  },
  {
   "cell_type": "code",
   "execution_count": 6,
   "id": "7051e1eb",
   "metadata": {
    "ExecuteTime": {
     "end_time": "2022-01-10T01:06:13.333313Z",
     "start_time": "2022-01-10T01:06:13.329454Z"
    }
   },
   "outputs": [
    {
     "data": {
      "text/plain": [
       "0.8020765"
      ]
     },
     "execution_count": 6,
     "metadata": {},
     "output_type": "execute_result"
    }
   ],
   "source": [
    "1.604153/2"
   ]
  },
  {
   "cell_type": "code",
   "execution_count": 5,
   "id": "6eb5f36c",
   "metadata": {
    "ExecuteTime": {
     "end_time": "2022-01-09T20:26:45.473585Z",
     "start_time": "2022-01-09T20:26:45.470870Z"
    }
   },
   "outputs": [
    {
     "name": "stdout",
     "output_type": "stream",
     "text": [
      "Tavg_expected_lr=0.0104560221538015 when N=10, L=5\n",
      "Tavg_expected_lr=0.005404999884333002 when N=16, L=5\n"
     ]
    }
   ],
   "source": [
    "Tavg_expected_lr=1e-03/0.095638665 #seconds #N=10, L=5\n",
    "print(f\"Tavg_expected_lr={Tavg_expected_lr} when N=10, L=5\")\n",
    "Tavg_expected_lr=1e-03/0.18501388 #seconds N=16, L=5\n",
    "print(f\"Tavg_expected_lr={Tavg_expected_lr} when N=16, L=5\")\n",
    "# src: src: full_results/data_fig4_vidmar_lr_tt.csv"
   ]
  },
  {
   "cell_type": "code",
   "execution_count": null,
   "id": "d7774a77",
   "metadata": {},
   "outputs": [],
   "source": []
  },
  {
   "cell_type": "markdown",
   "id": "a976f7c1",
   "metadata": {
    "heading_collapsed": true
   },
   "source": [
    "## (ignore) (example msr traces from oscillatory) generate traces of MSR from the oscilatory model that are reasonable guesses for the full models\n",
    "DONT dev nelder-mead least square fits of the oscillatory model to the MSR of the full models"
   ]
  },
  {
   "cell_type": "code",
   "execution_count": 28,
   "id": "523eea69",
   "metadata": {
    "ExecuteTime": {
     "end_time": "2022-01-06T01:41:02.434922Z",
     "start_time": "2022-01-06T01:41:02.413226Z"
    },
    "hidden": true
   },
   "outputs": [],
   "source": [
    "#GOAL: add a best fit MSR from the reversed-time oscillatory particle model (dotted)\n",
    "#DONE: select either of the xy values form the full model (OR copy & paste ^that to new ipynb)\n",
    "\n",
    "\n",
    "#DONE: initialize the particle model for the FK model\n",
    "a=2.5; D=1.2; T=120; phif=0.0003; Rf=1e-02; Ntrials=1000\n",
    "x_values,y_values=x_values_FK,y_values_FK\n",
    "#DONE: initialize the particle model for the LR model\n",
    "a=3.8; D=1.9; T=120; phif=0.0002; Rf=1e-02; Ntrials=1000\n",
    "x_values,y_values=x_values_LR,y_values_LR\n",
    "\n",
    "#TODO: recall my time reversed function that maps parameters of the oscillatory model to MSR\n",
    "# gener_positions_oscillatory_reversed"
   ]
  },
  {
   "cell_type": "code",
   "execution_count": 29,
   "id": "237bae75",
   "metadata": {
    "ExecuteTime": {
     "end_time": "2022-01-06T01:41:22.248095Z",
     "start_time": "2022-01-06T01:41:02.436174Z"
    },
    "hidden": true
   },
   "outputs": [
    {
     "name": "stdout",
     "output_type": "stream",
     "text": [
      "Rsq_values mean_array std_array\n",
      "positions_out.shape=(100000, 4, 50)\n",
      "\u0007\u0007\u0007\u0007\u0007"
     ]
    }
   ],
   "source": [
    "#     #2 min. runtime?\n",
    "testing=True\n",
    "initial_phase_orientation=phif\n",
    "num_pairs=50#1min 30sec: 10+1#400#2min 22sec: \n",
    "if testing:\n",
    "    #before, long runtime\n",
    "    dict_out,position_array = gener_positions_oscillatory_reversed(\n",
    "                a=a, D=D, printing=False,num_pairs=num_pairs,initial_phase_orientation=initial_phase_orientation)\n",
    "    print(*dict_out)\n",
    "    positions_out=position_array\n",
    "    print(f\"positions_out.shape={positions_out.shape}\")\n",
    "    beep(5)"
   ]
  },
  {
   "cell_type": "code",
   "execution_count": 30,
   "id": "49e215c6",
   "metadata": {
    "ExecuteTime": {
     "end_time": "2022-01-06T01:42:01.693104Z",
     "start_time": "2022-01-06T01:41:22.252236Z"
    },
    "hidden": true
   },
   "outputs": [
    {
     "name": "stdout",
     "output_type": "stream",
     "text": [
      "Rsq_values mean_array std_array\n",
      "positions_out.shape=(100000, 4, 1000)\n",
      "\u0007\u0007\u0007\u0007\u0007"
     ]
    },
    {
     "data": {
      "text/plain": [
       "0"
      ]
     },
     "execution_count": 30,
     "metadata": {},
     "output_type": "execute_result"
    }
   ],
   "source": [
    "#GOAL: add a reasonable fit MSR from the reversed-time oscillatory particle model (dotted)\n",
    "#DONE: select either of the xy values form the full model (OR copy & paste ^that to new ipynb)\n",
    "#DONE: initialize the particle model for the FK model\n",
    "a=2.5; D=1.2; T=120; phif=0.0003; Rf=1e-02; Ntrials=1000\n",
    "x_values,y_values=x_values_FK,y_values_FK\n",
    "#DONE: initialize the particle model for the LR model\n",
    "a=3.8; D=1.9; T=120; phif=0.0002; Rf=1e-02; Ntrials=1000\n",
    "x_values,y_values=x_values_LR,y_values_LR\n",
    "\n",
    "#TODO: recall my time reversed function that maps parameters of the oscillatory model to MSR\n",
    "# gener_positions_oscillatory_reversed\n",
    "\n",
    "initial_phase_orientation=phif\n",
    "num_pairs=1000#1min 30sec: 10+1#400#2min 22sec: \n",
    "#before, long runtime\n",
    "dict_out,position_array = gener_positions_oscillatory_reversed(\n",
    "            a=a, D=D, printing=False,num_pairs=num_pairs,initial_phase_orientation=initial_phase_orientation)\n",
    "print(*dict_out)\n",
    "positions_out=position_array\n",
    "\n",
    "#estimated run time: <1 minute\n",
    "# positions_out=dict_out['positions_out']\n",
    "Dt=1e-5\n",
    "rstart=1e-4\n",
    "title=f\"a={a:.4f}, D={D:.4f},\\n\"+r\"$\\phi_0$\"+f\"={initial_phase_orientation:.4f}, \"+r\"R$_0$\"+f\"={rstart:.4f}, \"+r\" N$_{trials}$\"+f\"={num_pairs}\\n\"\n",
    "print(f\"positions_out.shape={positions_out.shape}\")\n",
    "#compute the distance between each pair of particles after aligning by annihilation (unshifted)\n",
    "x1_values=positions_out[:,0]\n",
    "y1_values=positions_out[:,1]\n",
    "x2_values=positions_out[:,2]\n",
    "y2_values=positions_out[:,3]\n",
    "dx_values=(x2_values-x1_values)\n",
    "dy_values=(y2_values-y1_values)\n",
    "Rsq_values=dx_values**2+dy_values**2\n",
    "#compute the ensemble averaged values\n",
    "MSR_values=np.mean(Rsq_values,axis=1)\n",
    "aligned_coordinates_values=np.mean(positions_out,axis=-1)\n",
    "# maxt=Dt*MSR_values.shape[0]\n",
    "t_values=np.arange(MSR_values.shape[0])*Dt\n",
    "\n",
    "t_values_lr_osc=t_values.copy()\n",
    "MSR_values_lr_osc=MSR_values.copy()\n",
    "beep(5)"
   ]
  },
  {
   "cell_type": "code",
   "execution_count": 31,
   "id": "24e59bb7",
   "metadata": {
    "ExecuteTime": {
     "end_time": "2022-01-06T01:42:25.143071Z",
     "start_time": "2022-01-06T01:42:01.695168Z"
    },
    "hidden": true
   },
   "outputs": [
    {
     "name": "stdout",
     "output_type": "stream",
     "text": [
      "Rsq_values mean_array std_array\n",
      "positions_out.shape=(100000, 4, 200)\n",
      "\u0007\u0007\u0007\u0007\u0007"
     ]
    }
   ],
   "source": [
    "#     #2 min. runtime?\n",
    "testing=True\n",
    "initial_phase_orientation=phif\n",
    "num_pairs=200#1min 30sec: 10+1#400#2min 22sec: \n",
    "if testing:\n",
    "    #before, long runtime\n",
    "    dict_out,position_array = gener_positions_oscillatory_reversed(\n",
    "                a=a, D=D, printing=False,num_pairs=num_pairs,initial_phase_orientation=initial_phase_orientation)\n",
    "    print(*dict_out)\n",
    "    positions_out=position_array\n",
    "    print(f\"positions_out.shape={positions_out.shape}\")\n",
    "    beep(5)"
   ]
  },
  {
   "cell_type": "code",
   "execution_count": 32,
   "id": "8bf1e919",
   "metadata": {
    "ExecuteTime": {
     "end_time": "2022-01-06T01:42:42.792889Z",
     "start_time": "2022-01-06T01:42:25.147172Z"
    },
    "hidden": true
   },
   "outputs": [
    {
     "name": "stdout",
     "output_type": "stream",
     "text": [
      "Rsq_values mean_array std_array\n",
      "positions_out.shape=(100000, 4, 100)\n",
      "\u0007\u0007\u0007\u0007\u0007"
     ]
    }
   ],
   "source": [
    "#     #2 min. runtime?\n",
    "testing=True\n",
    "initial_phase_orientation=phif\n",
    "num_pairs=100#1min 30sec: 10+1#400#2min 22sec: \n",
    "if testing:\n",
    "    #before, long runtime\n",
    "    dict_out,position_array = gener_positions_oscillatory_reversed(\n",
    "                a=a, D=D, printing=False,num_pairs=num_pairs,initial_phase_orientation=initial_phase_orientation)\n",
    "    print(*dict_out)\n",
    "    positions_out=position_array\n",
    "    print(f\"positions_out.shape={positions_out.shape}\")\n",
    "    beep(5)"
   ]
  },
  {
   "cell_type": "code",
   "execution_count": 33,
   "id": "83246ba9",
   "metadata": {
    "ExecuteTime": {
     "end_time": "2022-01-06T01:42:43.022794Z",
     "start_time": "2022-01-06T01:42:42.797239Z"
    },
    "hidden": true
   },
   "outputs": [
    {
     "name": "stdout",
     "output_type": "stream",
     "text": [
      "positions_out.shape=(100000, 4, 100)\n"
     ]
    }
   ],
   "source": [
    "#TODO: average ^that N=1000 run.\n",
    "print(f\"positions_out.shape={positions_out.shape}\")\n",
    "#compute the distance between each pair of particles after aligning by annihilation (unshifted)\n",
    "x1_values=positions_out[:,0]\n",
    "y1_values=positions_out[:,1]\n",
    "x2_values=positions_out[:,2]\n",
    "y2_values=positions_out[:,3]\n",
    "dx_values=(x2_values-x1_values)\n",
    "dy_values=(y2_values-y1_values)\n",
    "Rsq_values=dx_values**2+dy_values**2\n",
    "#compute the ensemble averaged values\n",
    "MSR_values=np.mean(Rsq_values,axis=1)"
   ]
  },
  {
   "cell_type": "code",
   "execution_count": 34,
   "id": "cc1864a5",
   "metadata": {
    "ExecuteTime": {
     "end_time": "2022-01-06T01:42:43.063308Z",
     "start_time": "2022-01-06T01:42:43.024152Z"
    },
    "hidden": true
   },
   "outputs": [
    {
     "data": {
      "text/plain": [
       "[<matplotlib.lines.Line2D at 0x7f865054fd50>]"
      ]
     },
     "execution_count": 34,
     "metadata": {},
     "output_type": "execute_result"
    }
   ],
   "source": [
    "plt.plot(MSR_values)"
   ]
  },
  {
   "cell_type": "code",
   "execution_count": 35,
   "id": "d86c353e",
   "metadata": {
    "ExecuteTime": {
     "end_time": "2022-01-06T01:42:43.086089Z",
     "start_time": "2022-01-06T01:42:43.064932Z"
    },
    "hidden": true
   },
   "outputs": [
    {
     "data": {
      "text/plain": [
       "(100000,)"
      ]
     },
     "execution_count": 35,
     "metadata": {},
     "output_type": "execute_result"
    }
   ],
   "source": [
    "MSR_values_high_res=MSR_values.copy()\n",
    "MSR_values_high_res.shape"
   ]
  },
  {
   "cell_type": "code",
   "execution_count": 36,
   "id": "7b8714ad",
   "metadata": {
    "ExecuteTime": {
     "end_time": "2022-01-06T01:42:43.445141Z",
     "start_time": "2022-01-06T01:42:43.087541Z"
    },
    "hidden": true
   },
   "outputs": [
    {
     "name": "stdout",
     "output_type": "stream",
     "text": [
      "positions_out.shape=(100000, 4, 100)\n"
     ]
    },
    {
     "data": {
      "image/png": "[encoded data removed]",
      "text/plain": [
       "<Figure size 640x480 with 1 Axes>"
      ]
     },
     "metadata": {},
     "output_type": "display_data"
    }
   ],
   "source": [
    "#estimated run time: 11 minutes\n",
    "\n",
    "\n",
    "# positions_out=dict_out['positions_out']\n",
    "Dt=1e-5\n",
    "rstart=1e-4\n",
    "title=f\"a={a:.4f}, D={D:.4f},\\n\"+r\"$\\phi_0$\"+f\"={initial_phase_orientation:.4f}, \"+r\"R$_0$\"+f\"={rstart:.4f}, \"+r\" N$_{trials}$\"+f\"={num_pairs}\\n\"\n",
    "\n",
    "\n",
    "\n",
    "print(f\"positions_out.shape={positions_out.shape}\")\n",
    "#compute the distance between each pair of particles after aligning by annihilation (unshifted)\n",
    "x1_values=positions_out[:,0]\n",
    "y1_values=positions_out[:,1]\n",
    "x2_values=positions_out[:,2]\n",
    "y2_values=positions_out[:,3]\n",
    "dx_values=(x2_values-x1_values)\n",
    "dy_values=(y2_values-y1_values)\n",
    "Rsq_values=dx_values**2+dy_values**2\n",
    "#compute the ensemble averaged values\n",
    "MSR_values=np.mean(Rsq_values,axis=1)\n",
    "aligned_coordinates_values=np.mean(positions_out,axis=-1)\n",
    "# maxt=Dt*MSR_values.shape[0]\n",
    "t_values=np.arange(MSR_values.shape[0])*Dt\n",
    "# x_values=aligned_mean_values[:,0]\n",
    "# plt.plot(aligned_mean_values[:,1])\n",
    "# plt.plot(aligned_mean_values[:,2])\n",
    "# plt.plot(aligned_mean_values[:,3])\n",
    "\n",
    "xmin,xmax=0,0.1\n",
    "ymin,ymax=0,0.6\n",
    "xv=np.linspace(xmin,xmax,100)\n",
    "plt.plot(xv,4*a*xv,'k--',label=r'$4a(t_f-t)$')\n",
    "plt.xlim([xmin,xmax])\n",
    "plt.ylim([ymin,ymax])\n",
    "plt.plot(t_values,MSR_values,c='C5',label=r\"Simulation\")\n",
    "# plt.plot(t_values,aligned_mean_values[::-1,0]**2)\n",
    "plt.plot(t_values,t_values*0.,'--',c='gray',alpha=0.5)\n",
    "format_plot(ax=plt.gca(),xlabel=r'$t_f-t$ (sec)',ylabel=r'MSR (cm$^2$)')\n",
    "plt.title(title,fontsize=16)\n",
    "plt.legend(fontsize=16)\n",
    "plt.show()\n",
    "\n",
    "\n"
   ]
  },
  {
   "cell_type": "code",
   "execution_count": 37,
   "id": "f8ab04da",
   "metadata": {
    "ExecuteTime": {
     "end_time": "2022-01-06T01:42:43.477895Z",
     "start_time": "2022-01-06T01:42:43.446676Z"
    },
    "hidden": true
   },
   "outputs": [
    {
     "name": "stdout",
     "output_type": "stream",
     "text": [
      "m=15.687366825275118\n",
      "Delta_m=0.006563160827167656\n",
      "b=-0.09775733309437928\n",
      "Delta_b=0.003789214250968185\n",
      "Rsquared=0.9954644400547724\n",
      "num_samples=100\n",
      "num_timepoints=100000\n",
      "ahat = 3.9218+/-0.0016\n"
     ]
    }
   ],
   "source": [
    "\n",
    "boo=~(np.isnan(t_values)|np.isnan(MSR_values))\n",
    "dict_fit=compute_95CI_ols(t_values[boo],MSR_values[boo])\n",
    "print_dict(dict_fit)\n",
    "print(f\"num_samples={positions_out.shape[-1]}\")\n",
    "print(f\"num_timepoints={t_values.shape[0]}\")\n",
    "print(f\"ahat = {dict_fit['m']/4:.4f}+/-{dict_fit['Delta_m']/4:.4f}\")"
   ]
  },
  {
   "cell_type": "code",
   "execution_count": null,
   "id": "a50d4a06",
   "metadata": {
    "hidden": true
   },
   "outputs": [],
   "source": []
  },
  {
   "cell_type": "code",
   "execution_count": null,
   "id": "30548c45",
   "metadata": {
    "hidden": true
   },
   "outputs": [],
   "source": []
  },
  {
   "cell_type": "code",
   "execution_count": 38,
   "id": "d58e4d88",
   "metadata": {
    "ExecuteTime": {
     "end_time": "2022-01-06T01:42:43.528347Z",
     "start_time": "2022-01-06T01:42:43.480737Z"
    },
    "hidden": true
   },
   "outputs": [],
   "source": [
    "#TODO: recall my Nelder-Mead least-squares minimization routine\n",
    "#TODO: merge ^those two routines\n",
    "#TODO: plot the MSR of the resulting fit (if Nelder-Mead is sufficiently awesome)"
   ]
  },
  {
   "cell_type": "code",
   "execution_count": 39,
   "id": "38e7a73b",
   "metadata": {
    "ExecuteTime": {
     "end_time": "2022-01-06T01:42:43.714736Z",
     "start_time": "2022-01-06T01:42:43.531225Z"
    },
    "hidden": true
   },
   "outputs": [
    {
     "ename": "NameError",
     "evalue": "name 'meanT_values' is not defined",
     "output_type": "error",
     "traceback": [
      "\u001b[0;31m---------------------------------------------------------------------------\u001b[0m",
      "\u001b[0;31mNameError\u001b[0m                                 Traceback (most recent call last)",
      "\u001b[0;32m/tmp/ipykernel_1441088/1909837706.py\u001b[0m in \u001b[0;36m<module>\u001b[0;34m\u001b[0m\n\u001b[1;32m      1\u001b[0m \u001b[0mmeanT_dir_lr\u001b[0m\u001b[0;34m=\u001b[0m\u001b[0;34m'/home/timothytyree/Documents/GitHub/bgmc/python/data/full_results/luorudy_mean_kinematic_periods.npz'\u001b[0m\u001b[0;34m\u001b[0m\u001b[0;34m\u001b[0m\u001b[0m\n\u001b[1;32m      2\u001b[0m \u001b[0mmeanT_dir_fk\u001b[0m\u001b[0;34m=\u001b[0m\u001b[0;34m'/home/timothytyree/Documents/GitHub/bgmc/python/data/full_results/fentonkarma_mean_kinematic_periods.npz'\u001b[0m\u001b[0;34m\u001b[0m\u001b[0;34m\u001b[0m\u001b[0m\n\u001b[0;32m----> 3\u001b[0;31m \u001b[0mnp\u001b[0m\u001b[0;34m.\u001b[0m\u001b[0mmean\u001b[0m\u001b[0;34m(\u001b[0m\u001b[0mmeanT_values\u001b[0m\u001b[0;34m)\u001b[0m\u001b[0;34m\u001b[0m\u001b[0;34m\u001b[0m\u001b[0m\n\u001b[0m",
      "\u001b[0;31mNameError\u001b[0m: name 'meanT_values' is not defined"
     ]
    }
   ],
   "source": [
    "meanT_dir_lr='/home/timothytyree/Documents/GitHub/bgmc/python/data/full_results/luorudy_mean_kinematic_periods.npz'\n",
    "meanT_dir_fk='/home/timothytyree/Documents/GitHub/bgmc/python/data/full_results/fentonkarma_mean_kinematic_periods.npz'\n",
    "np.mean(meanT_values)"
   ]
  },
  {
   "cell_type": "markdown",
   "id": "8009d620",
   "metadata": {},
   "source": [
    "# generate figure for the mslim consistency argument"
   ]
  },
  {
   "cell_type": "code",
   "execution_count": 3,
   "id": "60513526",
   "metadata": {
    "ExecuteTime": {
     "end_time": "2022-01-25T22:49:35.277411Z",
     "start_time": "2022-01-25T22:49:35.253377Z"
    }
   },
   "outputs": [],
   "source": [
    "a_hat_FK, D_hat_FK, a_hat_FK_long, a_hat_FK_vlong, a_hat_LR, D_hat_LR, a_hat_LR_long=recall_particle_parameter_measurements()\n",
    "# note: a_ratio_lr=a_hat_FK_vlong/a_hat_FK_vlong=1\n",
    "ahat_fk_observed=a_hat_FK_vlong\n",
    "D_hat_fk_observed=D_hat_FK\n",
    "ahat_lr_observed=a_hat_LR\n",
    "D_hat_lr_observed=D_hat_LR\n",
    "a_lr_observed=a_hat_LR_long\n",
    "a_fk_observed=a_hat_FK_vlong"
   ]
  },
  {
   "cell_type": "code",
   "execution_count": 4,
   "id": "44aee509",
   "metadata": {
    "ExecuteTime": {
     "end_time": "2022-01-25T22:49:36.285936Z",
     "start_time": "2022-01-25T22:49:35.712511Z"
    }
   },
   "outputs": [
    {
     "data": {
      "image/png": "[encoded data removed]",
      "text/plain": [
       "<Figure size 432x288 with 1 Axes>"
      ]
     },
     "metadata": {
      "needs_background": "light"
     },
     "output_type": "display_data"
    }
   ],
   "source": [
    "# # TODO: visualize ahat/a by summing the three terms of the attraction coefficient estimator\n",
    "#plot solutions for the estimators\n",
    "slope=-1\n",
    "phi_f=-np.pi*0.5#-np.pi/4\n",
    "alpha=0.2\n",
    "xlabel=r'$\\bar\\Gamma / T$'#\n",
    "ylabel=r'$\\hat a ^2/a^2$'#\n",
    "use_loglog=True\n",
    "# fig,ax=plt.subplots(figsize=(5,3))\n",
    "fig,ax=plt.subplots(figsize=(6,4))\n",
    "z_values=np.logspace(-2,2,100)\n",
    "x_values=z_values/(2.*np.pi)\n",
    "\n",
    "# #plot observed ahat values as horizontal dashed lines\n",
    "# y=ahat_fk_observed/a_fk_observed\n",
    "# ax.plot(x_values,0.*x_values+y,'C0--',lw=2,alpha=0.9,label='Fenton-Karma Model')\n",
    "# y=ahat_lr_observed/a_lr_observed\n",
    "# ax.plot(x_values,0.*x_values+y,'C1--',lw=2,alpha=0.9,label='Luo-Rudy Model')\n",
    "\n",
    "# #plot observed ahat,Gamma/T values as horizontal dashed lines\n",
    "# #Fenton-Karma\n",
    "# x=3\n",
    "# Delta_x=.5 #poorly estimated uncertainty\n",
    "# y=ahat_fk_observed/a_fk_observed\n",
    "# Delta_y=.04 #well estimated uncertainty\n",
    "#plot observed ahat,Gamma/T values as horizontal dashed lines\n",
    "#Fenton-Karma\n",
    "# GammaBar_observed: 387.0374+/-31.3052/2 milliseconds\n",
    "# T:110 +/- ?? ms\n",
    "a=197.3891#ms\n",
    "Delta_GammaBar_observed=35.600166 #ms\n",
    "# a=387.0374#ms\n",
    "# Delta_GammaBar_observed=15.6526#ms\n",
    "b=110#ms\n",
    "Delta_T_estimated=10\n",
    "Delta_a=Delta_GammaBar_observed\n",
    "Delta_b=Delta_T_estimated\n",
    "x=a/b\n",
    "Delta_x=np.sqrt(Delta_a**2/(b**2) + a**2*Delta_b**2/(b**4)) #well estimated uncertainty\n",
    "y=(ahat_fk_observed/a_fk_observed)\n",
    "Delta_y=.04 #well estimated uncertainty for ahat/a\n",
    "ax.errorbar(x, y, xerr=Delta_x, yerr=Delta_y, fmt='o',markersize=8,capsize=4,lw=2,\n",
    "            color='C0')#,label='Fenton-Karma')\n",
    "# #Luo-Rudy\n",
    "# x=0.1\n",
    "# Delta_x=.05 #poorly estimated uncertainty\n",
    "# y=ahat_lr_observed/a_lr_observed\n",
    "# Delta_y=.08 #well estimated uncertainty\n",
    "#Luo-Rudy\n",
    "# GammaBar_observed: 41.9756+/-4.4809/2 milliseconds\n",
    "# T:120 +/- ?? mc\n",
    "# a=41.9756#ms\n",
    "# Delta_GammaBar_observed=15.6526\n",
    "a=15.5618 #ms\n",
    "Delta_GammaBar_observed=1.867684\n",
    "Delta_T_estimated=20\n",
    "b=120#ms\n",
    "Delta_a=Delta_GammaBar_observed\n",
    "Delta_b=Delta_T_estimated\n",
    "x=a/b\n",
    "Delta_x=np.sqrt(Delta_a**2/(b**2) + a**2*Delta_b**2/(b**4)) #well estimated uncertainty\n",
    "y=(ahat_lr_observed/a_lr_observed)\n",
    "Delta_y=.08 #well estimated uncertainty for ahat/a\n",
    "ax.errorbar(x, y, xerr=Delta_x, yerr=Delta_y, fmt='o',markersize=8,capsize=4,lw=2,\n",
    "            color='C1')#,label='Luo-Rudy')\n",
    "\n",
    "\n",
    "#MSLIM\n",
    "#plot predictions for phi=-np.pi/2\n",
    "phi=phi_f\n",
    "a=1 #same plot for any a\n",
    "y_values= comp_ahat_mslim(z_values,a,D=a/2.,phi=phi)/a\n",
    "ax.plot(x_values,y_values,lw=2,alpha=0.4,color='green',\n",
    "                label=r'mslim')\n",
    "#         label=r'$g(\\bar\\Gamma/T,\\phi_f=-\\frac{\\pi}{2})$')\n",
    "squared_ahat_values =correction_diffusion(z_values,a=a,D=a/2.,phi=phi)\n",
    "squared_ahat_values+=correction_cross(z_values,a=a,D=a/2.,phi=phi)\n",
    "squared_ahat_values+=a**2\n",
    "y_values=np.sqrt(squared_ahat_values/a**2)\n",
    "ax.plot(x_values,y_values,lw=2,alpha=0.8,color='green',\n",
    "        label=r'squared mslim')\n",
    "#         label=r'$g(\\bar\\Gamma/T,\\phi_f=-\\frac{\\pi}{2})$')\n",
    "#         label=r'g($\\phi_f=$'+f\"{phi_f:.4f})\")\n",
    "#         label=r'Solution ($\\phi_f=-\\frac{\\pi}{2}$)')\n",
    "# #plot predictions for phi=0\n",
    "# phi=0\n",
    "a=1 #same plot for any a\n",
    "y_values= comp_ahat_mslim(z_values,a,D=a/2.,phi=0)/a\n",
    "ax.plot(x_values,y_values,lw=2,alpha=0.4,color='grey',\n",
    "                label=r'mslim')\n",
    "\n",
    "y_values= comp_ahat_mslim(z_values,a,D=a/2.,phi=phi)/a\n",
    "ax.plot(x_values,y_values,lw=2,alpha=0.4,color='green',\n",
    "                label=r'mslim')\n",
    "#         label=r'$g(\\bar\\Gamma/T,\\phi_f=-\\frac{\\pi}{2})$')\n",
    "squared_ahat_values =correction_diffusion(z_values,a=a,D=a/2.,phi=0)\n",
    "squared_ahat_values+=correction_cross(z_values,a=a,D=a/2.,phi=0)\n",
    "squared_ahat_values+=a**2\n",
    "y_values=np.sqrt(squared_ahat_values/a**2)\n",
    "ax.plot(x_values,y_values,lw=2,alpha=0.8,color='gray',\n",
    "        label=r'squared mslim')\n",
    "#         label=r'$g(\\bar\\Gamma/T,\\phi_f=-\\frac{\\pi}{2})$')\n",
    "\n",
    "#SMSLIM\n",
    "# #plot predictions for phi=-np.pi/2\n",
    "# phi=phi_f\n",
    "# squared_ahat_values =correction_diffusion(z_values,a=a,D=a/2.,phi=phi)\n",
    "# squared_ahat_values+=correction_cross(z_values,a=a,D=a/2.,phi=phi)\n",
    "# squared_ahat_values+=a**2\n",
    "# y_values=np.sqrt(squared_ahat_values/a**2)\n",
    "# ax.plot(x_values,y_values,lw=2,alpha=0.8,color='green',\n",
    "#         label=r'$g(\\bar\\Gamma/T,\\phi_f=-\\frac{\\pi}{2})$')\n",
    "# #         label=r'g($\\phi_f=$'+f\"{phi_f:.4f})\")\n",
    "# #         label=r'Solution ($\\phi_f=-\\frac{\\pi}{2}$)')\n",
    "# #plot predictions for phi=0\n",
    "# phi=0\n",
    "# squared_ahat_values =correction_diffusion(z_values,a=a,D=a/2.,phi=phi)\n",
    "# squared_ahat_values+=correction_cross(z_values,a=a,D=a/2.,phi=phi)\n",
    "# squared_ahat_values+=a**2\n",
    "# x_values=z_values/(2.*np.pi)\n",
    "# y_values=np.sqrt(squared_ahat_values/a**2)\n",
    "# ax.plot(x_values,y_values,lw=2,alpha=0.8,color='gray',\n",
    "#         label=r'$g(\\bar\\Gamma/T,\\phi_f=0)$')\n",
    "# #         label=r'g($\\phi_f=0$)')\n",
    "# #         label=r'Solution ($\\phi_f=0$)')\n",
    "\n",
    "\n",
    "\n",
    "#DONE: copy estimates from .odg\n",
    "#DONE: add error bar estimates\n",
    "#TODO(later): consider improving x,Delta_x estimates\n",
    "#TODO: plot the diffusion correction divided by the cross correction\n",
    "# ax.plot(x_values,0.*x_values+y,'C0--',lw=2,alpha=0.9,label='Fenton-Karma Model')\n",
    "# y=ahat_lr_observed/a_lr_observed\n",
    "# ax.plot(x_values,0.*x_values+y,'C1--',lw=2,alpha=0.9,label='Luo-Rudy Model')\n",
    "fontsize=20\n",
    "\n",
    "#format_plot\n",
    "# plt.title(r' $\\phi_f=-\\frac{\\pi}{2}$',fontsize=18, x=0.8, y=0.9)\n",
    "plt.ylim([8e-1,1.3e2])\n",
    "ax.legend(loc='upper right',fontsize=fontsize-3,frameon=False)\n",
    "format_plot(ax=plt.gca(), xlabel=xlabel, ylabel=ylabel, use_loglog=use_loglog, fontsize=fontsize)#, **kwargs)\n",
    "plt.tick_params(axis='y', which='minor',left=True)\n",
    "plt.tick_params(axis='x', which='minor',bottom=True)\n",
    "# ax.set_yticks([1e-4,1e-3,1e-2,1e-1,1e0,1e1])\n",
    "ax.set_yscale('log')\n",
    "plt.tick_params(axis='y', which='minor')\n",
    "## ax.tick_params(axis='y',reset=False, left=True,right=False, which='minor',\n",
    "##               direction='out', length=6, width=2, colors='k')\n",
    "# mark_slope(ax=ax,x1=1e-2,y1=2e1,slope=(-1,1),invert=True)\n",
    "mark_slope(ax=ax,x1=.8e-2,y1=1.5e1,slope=(-1,1),invert=True)\n",
    "plt.show()"
   ]
  },
  {
   "cell_type": "code",
   "execution_count": 11,
   "id": "591f879b",
   "metadata": {
    "ExecuteTime": {
     "end_time": "2022-01-25T22:53:03.866613Z",
     "start_time": "2022-01-25T22:53:03.844906Z"
    }
   },
   "outputs": [],
   "source": [
    "#reset matplotlib\n",
    "import matplotlib\n",
    "matplotlib.rcParams.update(matplotlib.rcParamsDefault)"
   ]
  },
  {
   "cell_type": "code",
   "execution_count": 13,
   "id": "04c9ad74",
   "metadata": {
    "ExecuteTime": {
     "end_time": "2022-01-25T22:53:38.966903Z",
     "start_time": "2022-01-25T22:53:38.449481Z"
    },
    "scrolled": true
   },
   "outputs": [
    {
     "data": {
      "image/png": "[encoded data removed]",
      "text/plain": [
       "<Figure size 600x400 with 1 Axes>"
      ]
     },
     "metadata": {},
     "output_type": "display_data"
    }
   ],
   "source": [
    "# # TODO: visualize ahat/a by summing the three terms of the attraction coefficient estimator\n",
    "#plot solutions for the estimators\n",
    "slope=-1\n",
    "fontsize=20\n",
    "phi_f=-np.pi*0.5#-np.pi/4\n",
    "alpha=0.2\n",
    "xlabel=r'$\\bar\\Gamma / T$'#\n",
    "ylabel=r'$\\hat a ^2/a^2$'#\n",
    "use_loglog=True\n",
    "# fig,ax=plt.subplots(figsize=(5,3))\n",
    "fig,ax=plt.subplots(figsize=(6,4))\n",
    "z_values=np.logspace(-2,2,100)\n",
    "x_values=z_values/(2.*np.pi)\n",
    "\n",
    "# #plot observed ahat values as horizontal dashed lines\n",
    "# y=ahat_fk_observed/a_fk_observed\n",
    "# ax.plot(x_values,0.*x_values+y,'C0--',lw=2,alpha=0.9,label='Fenton-Karma Model')\n",
    "# y=ahat_lr_observed/a_lr_observed\n",
    "# ax.plot(x_values,0.*x_values+y,'C1--',lw=2,alpha=0.9,label='Luo-Rudy Model')\n",
    "\n",
    "# #plot observed ahat,Gamma/T values as horizontal dashed lines\n",
    "# #Fenton-Karma\n",
    "# x=3\n",
    "# Delta_x=.5 #poorly estimated uncertainty\n",
    "# y=ahat_fk_observed/a_fk_observed\n",
    "# Delta_y=.04 #well estimated uncertainty\n",
    "#plot observed ahat,Gamma/T values as horizontal dashed lines\n",
    "#Fenton-Karma\n",
    "# GammaBar_observed: 387.0374+/-31.3052/2 milliseconds\n",
    "# T:110 +/- ?? ms\n",
    "a=197.3891#ms\n",
    "Delta_GammaBar_observed=35.600166 #ms\n",
    "# a=387.0374#ms\n",
    "# Delta_GammaBar_observed=15.6526#ms\n",
    "b=110#ms\n",
    "Delta_T_estimated=10\n",
    "Delta_a=Delta_GammaBar_observed\n",
    "Delta_b=Delta_T_estimated\n",
    "x=a/b\n",
    "Delta_x=np.sqrt(Delta_a**2/(b**2) + a**2*Delta_b**2/(b**4)) #well estimated uncertainty\n",
    "y=(ahat_fk_observed/a_fk_observed)\n",
    "Delta_y=.04 #well estimated uncertainty for ahat/a\n",
    "ax.errorbar(x, y, xerr=Delta_x, yerr=Delta_y, fmt='o',markersize=8,capsize=4,lw=3,\n",
    "            color='C0')#,label='Fenton-Karma')\n",
    "# #Luo-Rudy\n",
    "# x=0.1\n",
    "# Delta_x=.05 #poorly estimated uncertainty\n",
    "# y=ahat_lr_observed/a_lr_observed\n",
    "# Delta_y=.08 #well estimated uncertainty\n",
    "#Luo-Rudy\n",
    "# GammaBar_observed: 41.9756+/-4.4809/2 milliseconds\n",
    "# T:120 +/- ?? mc\n",
    "# a=41.9756#ms\n",
    "# Delta_GammaBar_observed=15.6526\n",
    "a=15.5618 #ms\n",
    "Delta_GammaBar_observed=1.867684\n",
    "Delta_T_estimated=20\n",
    "b=120#ms\n",
    "Delta_a=Delta_GammaBar_observed\n",
    "Delta_b=Delta_T_estimated\n",
    "x=a/b\n",
    "Delta_x=np.sqrt(Delta_a**2/(b**2) + a**2*Delta_b**2/(b**4)) #well estimated uncertainty\n",
    "y=(ahat_lr_observed/a_lr_observed)\n",
    "Delta_y=.08 #well estimated uncertainty for ahat/a\n",
    "ax.errorbar(x, y, xerr=Delta_x, yerr=Delta_y, fmt='o',markersize=8,capsize=4,lw=3,\n",
    "            color='C1')#,label='Luo-Rudy')\n",
    "\n",
    "\n",
    "#MSLIM\n",
    "#plot predictions for phi=-np.pi/2\n",
    "phi=phi_f\n",
    "a=1 #same plot for any a\n",
    "# y_values= comp_ahat_mslim(z_values,a,D=a/2.,phi=phi)/a\n",
    "# ax.plot(x_values,y_values,lw=2,alpha=0.4,color='green',\n",
    "#                 label=r'mslim')\n",
    "# #         label=r'$g(\\bar\\Gamma/T,\\phi_f=-\\frac{\\pi}{2})$')\n",
    "# squared_ahat_values =correction_diffusion(z_values,a=a,D=a/2.,phi=phi)\n",
    "# squared_ahat_values+=correction_cross(z_values,a=a,D=a/2.,phi=phi)\n",
    "# squared_ahat_values+=a**2\n",
    "# y_values=np.sqrt(squared_ahat_values/a**2)\n",
    "# ax.plot(x_values,y_values,lw=2,alpha=0.8,color='green',\n",
    "#         label=r'squared mslim')\n",
    "#         label=r'$g(\\bar\\Gamma/T,\\phi_f=-\\frac{\\pi}{2})$')\n",
    "#         label=r'g($\\phi_f=$'+f\"{phi_f:.4f})\")\n",
    "#         label=r'Solution ($\\phi_f=-\\frac{\\pi}{2}$)')\n",
    "# #plot predictions for phi=0\n",
    "# phi=0\n",
    "# squared_ahat_values =correction_diffusion(z_values,a=a,D=a/2.,phi=phi)\n",
    "# squared_ahat_values+=correction_cross(z_values,a=a,D=a/2.,phi=phi)\n",
    "# squared_ahat_values+=a**2\n",
    "# x_values=z_values/(2.*np.pi)\n",
    "# y_values=np.sqrt(squared_ahat_values/a**2)\n",
    "# ax.plot(x_values,y_values,lw=2,alpha=0.8,color='gray',\n",
    "#         label=r'$g(\\bar\\Gamma/T,\\phi_f=0)$')\n",
    "# #         label=r'g($\\phi_f=0$)')\n",
    "# #         label=r'Solution ($\\phi_f=0$)')\n",
    "\n",
    "# SMSLIM\n",
    "#plot predictions for phi=-np.pi/2\n",
    "phi=phi_f\n",
    "squared_ahat_values =correction_diffusion(z_values,a=a,D=a/2.,phi=phi)\n",
    "squared_ahat_values+=correction_cross(z_values,a=a,D=a/2.,phi=phi)\n",
    "squared_ahat_values+=a**2\n",
    "y_values=np.sqrt(squared_ahat_values/a**2)\n",
    "ax.plot(x_values,y_values,lw=2,alpha=0.8,color='green',\n",
    "        label=r'$g(\\bar\\Gamma/T,\\phi_f=-\\frac{\\pi}{2})$')\n",
    "#         label=r'g($\\phi_f=$'+f\"{phi_f:.4f})\")\n",
    "#         label=r'Solution ($\\phi_f=-\\frac{\\pi}{2}$)')\n",
    "#plot predictions for phi=0\n",
    "phi=0\n",
    "squared_ahat_values =correction_diffusion(z_values,a=a,D=a/2.,phi=phi)\n",
    "squared_ahat_values+=correction_cross(z_values,a=a,D=a/2.,phi=phi)\n",
    "squared_ahat_values+=a**2\n",
    "x_values=z_values/(2.*np.pi)\n",
    "y_values=np.sqrt(squared_ahat_values/a**2)\n",
    "ax.plot(x_values,y_values,lw=2,alpha=0.8,color='gray',\n",
    "        label=r'$g(\\bar\\Gamma/T,\\phi_f=0)$')\n",
    "#         label=r'g($\\phi_f=0$)')\n",
    "#         label=r'Solution ($\\phi_f=0$)')\n",
    "\n",
    "\n",
    "\n",
    "#DONE: copy estimates from .odg\n",
    "#DONE: add error bar estimates\n",
    "#TODO(later): consider improving x,Delta_x estimates\n",
    "#TODO: plot the diffusion correction divided by the cross correction\n",
    "# ax.plot(x_values,0.*x_values+y,'C0--',lw=2,alpha=0.9,label='Fenton-Karma Model')\n",
    "# y=ahat_lr_observed/a_lr_observed\n",
    "# ax.plot(x_values,0.*x_values+y,'C1--',lw=2,alpha=0.9,label='Luo-Rudy Model')\n",
    "\n",
    "#format_plot\n",
    "# plt.title(r' $\\phi_f=-\\frac{\\pi}{2}$',fontsize=18, x=0.8, y=0.9)\n",
    "plt.ylim([8e-1,1.3e2])\n",
    "ax.legend(loc='upper right',fontsize=fontsize-3,frameon=False)\n",
    "format_plot(ax=plt.gca(), xlabel=xlabel, ylabel=ylabel, use_loglog=use_loglog, fontsize=fontsize)#, **kwargs)\n",
    "plt.tick_params(axis='y', which='minor',left=True)\n",
    "plt.tick_params(axis='x', which='minor',bottom=True)\n",
    "# ax.set_yticks([1e-4,1e-3,1e-2,1e-1,1e0,1e1])\n",
    "ax.set_yscale('log')\n",
    "plt.tick_params(axis='y', which='minor')\n",
    "## ax.tick_params(axis='y',reset=False, left=True,right=False, which='minor',\n",
    "##               direction='out', length=6, width=2, colors='k')\n",
    "mark_slope(ax=ax,x1=1e-2,y1=2e1,slope=(-1,1),invert=True)\n",
    "# mark_slope(ax=ax,x1=.8e-2,y1=1.5e1,slope=(-1,1),invert=True)\n",
    "plt.show()"
   ]
  },
  {
   "cell_type": "code",
   "execution_count": 14,
   "id": "63b9019b",
   "metadata": {
    "ExecuteTime": {
     "end_time": "2022-01-25T22:53:54.437639Z",
     "start_time": "2022-01-25T22:53:54.419842Z"
    }
   },
   "outputs": [],
   "source": [
    "#src\n",
    "# http://localhost:8888/notebooks/python/Notes%20on%20fitting%20the%20oscillatory%20particle%20model%20to%20the%20linear%20particle%20model.ipynb\n"
   ]
  },
  {
   "cell_type": "markdown",
   "id": "295cd203",
   "metadata": {},
   "source": [
    " # generation of lifetimes histogram\n",
    " TODO: copy src from care in \n",
    "    `http://localhost:8889/notebooks/Lifetimes%20of%20Spiral%20Tips.ipynb`"
   ]
  },
  {
   "cell_type": "code",
   "execution_count": 21,
   "id": "0c022bac",
   "metadata": {
    "ExecuteTime": {
     "end_time": "2022-01-25T23:46:09.833381Z",
     "start_time": "2022-01-25T23:46:09.811230Z"
    }
   },
   "outputs": [],
   "source": [
    "#DONE: save results as pkl\n",
    "import pickle\n",
    "\n",
    "# dict_lifetimes = {'lr': {'tbins':bins, 'pdf_bar_heights':bar_heights_lr},\n",
    "#      'fk': {'tbins':bins, 'pdf_bar_heights':bar_heights_fk}\n",
    "#     }\n",
    "\n",
    "lifetime_pdf_dir=\"/home/timothytyree/Documents/GitHub/bgmc/python/data/full_results/lifetimes.pkl\"\n",
    "\n",
    "with open(lifetime_pdf_dir, 'rb') as handle:\n",
    "    dict_lifetimes = pickle.load(handle)"
   ]
  },
  {
   "cell_type": "code",
   "execution_count": null,
   "id": "a68b6ca7",
   "metadata": {},
   "outputs": [],
   "source": []
  },
  {
   "cell_type": "code",
   "execution_count": null,
   "id": "08d1a245",
   "metadata": {},
   "outputs": [],
   "source": [
    "alpha=0.8\n",
    "# bins=300\n",
    "# bins='doane'\n",
    "# bins='rice'\n",
    "# bins='sqrt'\n",
    "bins=np.arange(0,4e3,60)\n",
    "# 'auto', 'fd', 'doane',\n",
    "#     'scott', 'stone', 'rice', 'sturges', or 'sqrt'.\n",
    "\n",
    "#figure panel style histogram of lifetimes\n",
    "fig,ax=plt.subplots(figsize=(6,5))\n",
    "bar_heights_fk,bins,_=plt.hist(lifetime_values_FK,bins=bins,log=True,color='C0',density=True,alpha=alpha, label='Fenton-Karma Model')\n",
    "bar_heights_lr,_,_=plt.hist(lifetime_values_LR,bins=bins,log=True,color='C1',density=True,alpha=alpha, label='Luo-Rudy Model')\n",
    "plt.legend(fontsize=16)\n",
    "format_plot(ax=plt.gca(),xlabel='Lifetime (ms)',ylabel='PDF')\n",
    "plt.show()"
   ]
  },
  {
   "cell_type": "code",
   "execution_count": null,
   "id": "234e3fee",
   "metadata": {},
   "outputs": [],
   "source": []
  }
 ],
 "metadata": {
  "hide_input": false,
  "kernelspec": {
   "display_name": "Python 3 (ipykernel)",
   "language": "python",
   "name": "python3"
  },
  "language_info": {
   "codemirror_mode": {
    "name": "ipython",
    "version": 3
   },
   "file_extension": ".py",
   "mimetype": "text/x-python",
   "name": "python",
   "nbconvert_exporter": "python",
   "pygments_lexer": "ipython3",
   "version": "3.9.5"
  },
  "nbTranslate": {
   "displayLangs": [
    "*"
   ],
   "hotkey": "alt-t",
   "langInMainMenu": true,
   "sourceLang": "en",
   "targetLang": "fr",
   "useGoogleTranslate": true
  },
  "toc": {
   "base_numbering": 1,
   "nav_menu": {},
   "number_sections": true,
   "sideBar": true,
   "skip_h1_title": false,
   "title_cell": "Table of Contents",
   "title_sidebar": "Contents",
   "toc_cell": false,
   "toc_position": {},
   "toc_section_display": true,
   "toc_window_display": false
  },
  "varInspector": {
   "cols": {
    "lenName": 16,
    "lenType": 16,
    "lenVar": 40
   },
   "kernels_config": {
    "python": {
     "delete_cmd_postfix": "",
     "delete_cmd_prefix": "del ",
     "library": "var_list.py",
     "varRefreshCmd": "print(var_dic_list())"
    },
    "r": {
     "delete_cmd_postfix": ") ",
     "delete_cmd_prefix": "rm(",
     "library": "var_list.r",
     "varRefreshCmd": "cat(var_dic_list()) "
    }
   },
   "types_to_exclude": [
    "module",
    "function",
    "builtin_function_or_method",
    "instance",
    "_Feature"
   ],
   "window_display": false
  }
 },
 "nbformat": 4,
 "nbformat_minor": 5
}
