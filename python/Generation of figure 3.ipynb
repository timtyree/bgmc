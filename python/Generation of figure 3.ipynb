{
 "cells": [
  {
   "cell_type": "markdown",
   "id": "4946646e",
   "metadata": {},
   "source": [
    "# Generation of figure 3\n",
    "Tim Tyree<br>\n",
    "1.3.2022"
   ]
  },
  {
   "cell_type": "code",
   "execution_count": 1,
   "id": "702f8f19",
   "metadata": {
    "ExecuteTime": {
     "end_time": "2022-06-07T20:15:48.545326Z",
     "start_time": "2022-06-07T20:15:45.071923Z"
    }
   },
   "outputs": [
    {
     "name": "stdout",
     "output_type": "stream",
     "text": [
      "The autoreload extension is already loaded. To reload it, use:\n",
      "  %reload_ext autoreload\n"
     ]
    }
   ],
   "source": [
    "# TODO: simplify initialization\n",
    "from scipy.optimize import minimize\n",
    "from lib.my_initialization import *\n",
    "from lib import *\n",
    "from lib.lib_care.measure.level_sets import comp_longest_level_set_and_smooth\n",
    "%load_ext autoreload\n",
    "%autoreload 2\n",
    "\n",
    "import matplotlib.pyplot as plt, numpy as np\n",
    "from mpltools import annotation\n",
    "import random,scipy\n",
    "from scipy.interpolate import LinearNDInterpolator\n",
    "from scipy.interpolate import CloughTocher2DInterpolator\n",
    "import matplotlib as mpl #for colorbar\n",
    "from scipy import stats\n",
    "\n",
    "#for particle params to MSR generating functional\n",
    "from scipy.signal import savgol_filter\n",
    "import dask.bag as db\n",
    "from lib.lib_care.measure.bootstrap import bin_and_bootstrap_xy_values_parallel\n",
    "\n",
    "darkmode=False\n",
    "if darkmode:\n",
    "    # For darkmode plots\n",
    "    from jupyterthemes import jtplot\n",
    "    jtplot.style(theme='monokai', context='notebook', ticks=True, grid=False)\n",
    "\n",
    "import warnings\n",
    "warnings.simplefilter(\"ignore\", UserWarning)\n",
    "%load_ext autoreload\n",
    "%autoreload 2\n",
    "\n",
    "#optional\n",
    "import cupy as cp\n",
    "cp.random.seed(42)\n",
    "np.random.seed(42)"
   ]
  },
  {
   "cell_type": "markdown",
   "id": "334353d8",
   "metadata": {},
   "source": [
    "`\n",
    "NOTE: for latest version of the manuscript's MSR versus tdeath plot, goto \n",
    "http://localhost:8889/notebooks/Analysis%20of%20model%20for%20time-reversed%20oscillatory%20particle%20model.ipynb\n",
    "`"
   ]
  },
  {
   "cell_type": "code",
   "execution_count": 2,
   "id": "a8e5c094",
   "metadata": {
    "ExecuteTime": {
     "end_time": "2022-06-07T20:15:48.581483Z",
     "start_time": "2022-06-07T20:15:48.546588Z"
    }
   },
   "outputs": [],
   "source": [
    "#reset matplotlib\n",
    "mpl.rcParams.update(matplotlib.rcParamsDefault)"
   ]
  },
  {
   "cell_type": "markdown",
   "id": "3a0e28da",
   "metadata": {},
   "source": [
    "# DONE: fit annihilation rates of the interacting inverse-powerlaw particle model to those of the full models\n",
    "- method of fit: minimization of mean squared error of the powerlaw fits of the particle model to those of the full models\n",
    "- method of minimization: Nelder-Mead minimization"
   ]
  },
  {
   "cell_type": "code",
   "execution_count": 3,
   "id": "24d37b8a",
   "metadata": {
    "ExecuteTime": {
     "end_time": "2022-06-07T20:16:12.447841Z",
     "start_time": "2022-06-07T20:15:48.583048Z"
    }
   },
   "outputs": [
    {
     "name": "stdout",
     "output_type": "stream",
     "text": [
      "estimated runtime is ~20 seconds for 17988 training samples...\n",
      "number of training examples is 17988....\n",
      "training complete!\n"
     ]
    }
   ],
   "source": [
    "#recall results from tables in the main mansucript\n",
    "wjr=recall_powerlaw_fits_to_full_models()\n",
    "interp=recall_particle_model_interp()\n",
    "a_hat_FK, D_hat_FK, a_hat_FK_long, a_hat_FK_vlong, a_hat_LR, D_hat_LR, a_hat_LR_long=recall_particle_parameter_measurements()"
   ]
  },
  {
   "cell_type": "code",
   "execution_count": 4,
   "id": "2c6b137a",
   "metadata": {
    "ExecuteTime": {
     "end_time": "2022-06-07T20:16:15.369048Z",
     "start_time": "2022-06-07T20:16:12.449091Z"
    }
   },
   "outputs": [
    {
     "name": "stdout",
     "output_type": "stream",
     "text": [
      "a=9.60637, D=0.586055, r=0.11865725394705823, kappa=453.30813258922205, rmse=0.031175747845115034\n"
     ]
    }
   ],
   "source": [
    "#fit the particle model to the luo-rudy model\n",
    "dict_out_lr=PlotParticlModelAnnihilationRateFit(a=a_hat_LR,D=D_hat_LR,wjr=wjr,interp=interp,\n",
    "    ax=None,model_name='lr_pbc',c='C1')"
   ]
  },
  {
   "cell_type": "code",
   "execution_count": 5,
   "id": "49a56920",
   "metadata": {
    "ExecuteTime": {
     "end_time": "2022-06-07T20:16:15.724070Z",
     "start_time": "2022-06-07T20:16:15.370047Z"
    },
    "scrolled": false
   },
   "outputs": [
    {
     "name": "stdout",
     "output_type": "stream",
     "text": [
      "a=1.604153, D=0.365238, r=0.06045948522530842, kappa=495.2658318951493, rmse=0.006797222653889483\n"
     ]
    }
   ],
   "source": [
    "#fit the particle model to the fenton-karma model\n",
    "dict_out_fk=PlotParticlModelAnnihilationRateFit(a=a_hat_FK_vlong,D=D_hat_FK,wjr=wjr,interp=interp,\n",
    "    ax=None,model_name='fk_pbc',c='C0')"
   ]
  },
  {
   "cell_type": "code",
   "execution_count": 6,
   "id": "1176e215",
   "metadata": {
    "ExecuteTime": {
     "end_time": "2022-06-07T20:16:15.741951Z",
     "start_time": "2022-06-07T20:16:15.724977Z"
    }
   },
   "outputs": [
    {
     "name": "stdout",
     "output_type": "stream",
     "text": [
      "a=8.595,    D=0.586055, r=0.10413888309470609, kappa=559.500160485693,  rmse=0.028075538795257697\n",
      "a=1.604153, D=0.365238, r=0.06045948522530842, kappa=495.2658318951493, rmse=0.006797222653889483\n"
     ]
    }
   ],
   "source": [
    "#recall ^these fits from lib\n",
    "a,D,r,kappa,rmse=recall_particle_parameter_fits('luorudy')\n",
    "print(f\"a={a},    D={D}, r={r}, kappa={kappa},  rmse={rmse}\")\n",
    "a,D,r,kappa,rmse=recall_particle_parameter_fits('fentonkarma')\n",
    "print(f\"a={a}, D={D}, r={r}, kappa={kappa}, rmse={rmse}\")"
   ]
  },
  {
   "cell_type": "markdown",
   "id": "417c03a1",
   "metadata": {},
   "source": [
    "# scratchwerk"
   ]
  },
  {
   "cell_type": "code",
   "execution_count": 7,
   "id": "3d50f864",
   "metadata": {
    "ExecuteTime": {
<<<<<<< Updated upstream
     "end_time": "2022-01-06T01:39:43.322688Z",
     "start_time": "2022-01-06T01:39:43.281386Z"
=======
     "end_time": "2022-06-07T20:16:15.759802Z",
     "start_time": "2022-06-07T20:16:15.742791Z"
>>>>>>> Stashed changes
    }
   },
   "outputs": [],
   "source": [
    "# #GOAL(Fig. 3 in this ipynb)\n",
    "# #DONE(Fig. 3): plot \n",
    "# #FK fit of particle model\n",
    "# a=1.604153, D=0.365238, r=0.06045948522530842, kappa=495.2658318951493, rmse=0.006797222653889483\n",
    "# #LR fit of particle model\n",
    "# a=8.595, D=0.586055, r=0.10413888309470609, kappa=559.500160485693, rmse=0.028075538795257697\n",
    "#TODO: plot each figure panel individually"
   ]
  },
  {
   "cell_type": "code",
   "execution_count": null,
   "id": "e0907404",
   "metadata": {},
   "outputs": [],
   "source": []
  },
  {
   "cell_type": "code",
   "execution_count": null,
   "id": "bec6b4ba",
   "metadata": {},
   "outputs": [],
   "source": []
  },
  {
   "cell_type": "code",
   "execution_count": 8,
   "id": "92af9048",
   "metadata": {
    "ExecuteTime": {
<<<<<<< Updated upstream
     "end_time": "2022-01-06T01:39:43.362406Z",
     "start_time": "2022-01-06T01:39:43.324897Z"
=======
     "end_time": "2022-06-07T20:16:15.776801Z",
     "start_time": "2022-06-07T20:16:15.760901Z"
>>>>>>> Stashed changes
    }
   },
   "outputs": [],
   "source": [
    "#msr from the particle model\n",
    "# npz_dir_FK='/home/timothytyree/Documents/GitHub/bgmc/python/data/control_data/arrays/control_a_7.3923_D_0.365238.npz'#csv'\n",
    "#msr from the full model\n",
    "# msr_dir_fk='/home/timothytyree/Documents/GitHub/bgmc/python/data/full_results/msr_fk_boostrapped_tavg2_14.0_n_19087_a_1.6_tmax_300.csv'\n",
    "\n",
    "#msr from the particle model\n",
    "# npz_dir_LR='/home/timothytyree/Documents/GitHub/bgmc/python/data/control_data/arrays/control_a_8.595_D_0.586055.npz'#.csv'\n"
   ]
  },
  {
   "cell_type": "markdown",
   "id": "df5d0f37",
   "metadata": {},
   "source": [
    "# DONE(Fig. 3.A): quick mockup of barchart \n",
    "quick mockup of barchart showing durations (and bootstrapped 95% CI) of (i) mean period estimates and (ii) mean lifetime estimates for (blue) the Fenton-Karma model and (orange) the Luo-Rudy model"
   ]
  },
  {
   "cell_type": "code",
   "execution_count": 9,
   "id": "8feaf3aa",
   "metadata": {
    "ExecuteTime": {
     "end_time": "2022-06-07T20:16:15.795126Z",
     "start_time": "2022-06-07T20:16:15.778620Z"
    }
   },
   "outputs": [],
   "source": [
    "#reset matplotlib\n",
    "mpl.rcParams.update(matplotlib.rcParamsDefault)"
   ]
  },
  {
   "cell_type": "code",
   "execution_count": 10,
   "id": "30218502",
   "metadata": {
    "ExecuteTime": {
     "end_time": "2022-06-07T20:16:15.811617Z",
     "start_time": "2022-06-07T20:16:15.796204Z"
    }
   },
   "outputs": [],
   "source": [
    "#TODO: compute the kinematic periods from the full models\n",
    "meanT_dir_lr='/home/timothytyree/Documents/GitHub/bgmc/python/data/full_results/luorudy_mean_kinematic_periods.npz'\n",
    "meanT_dir_fk='/home/timothytyree/Documents/GitHub/bgmc/python/data/full_results/fentonkarma_mean_kinematic_periods.npz'\n",
    "# np.mean(meanT_values)"
   ]
  },
  {
   "cell_type": "code",
   "execution_count": null,
   "id": "8f528d54",
   "metadata": {},
   "outputs": [],
   "source": []
  },
  {
   "cell_type": "code",
   "execution_count": 11,
   "id": "073d8af7",
   "metadata": {
    "ExecuteTime": {
     "end_time": "2022-06-07T20:16:15.828417Z",
     "start_time": "2022-06-07T20:16:15.812389Z"
    }
   },
   "outputs": [],
   "source": [
    "#TODO: copy & paste barcharts from neurophysics\n",
    "#TODO: copy lifetimes from .xlsx\n",
    "#TODO: estimate periods from plot and give reasonable 95% CI estimates\n",
    "#TODO: copy & paste ^that to .odg as a re-first-draft of Fig. 3.A\n",
    "#TODO: move on to my sketch of Fig. 3.B\n",
    "# TODO(later): measure the period precisely\n",
    "mean_lst=[90,100,310.057,82.7333]\n",
    "Delta_mean_lst=[10,10,3.5354,0.9154]\n",
    "# Nobs_lst=[43306,10362,43306,10362]#GUESSED PERIOD SAMPLE SIZES\n",
    "Nobs_lst=[4330,1036,4330,1036]#GUESSED PERIOD SAMPLE SIZES\n",
    "# Nobs_lst=[??,??,43306,10362]"
   ]
  },
  {
   "cell_type": "code",
   "execution_count": 12,
   "id": "9f2148be",
   "metadata": {
    "ExecuteTime": {
     "end_time": "2022-06-07T20:16:15.845228Z",
     "start_time": "2022-06-07T20:16:15.829388Z"
    }
   },
   "outputs": [],
   "source": [
    "#perform student t-tests for significantly different average values"
   ]
  },
  {
   "cell_type": "code",
   "execution_count": 13,
   "id": "d6d5fa03",
   "metadata": {
    "ExecuteTime": {
     "end_time": "2022-06-07T20:16:15.862891Z",
     "start_time": "2022-06-07T20:16:15.846166Z"
    }
   },
   "outputs": [
    {
     "name": "stdout",
     "output_type": "stream",
     "text": [
      "a students t-test comparing the mean lifetimes from the Fenton-Karma model to those of the Luo-Rudy model yielded p=0.0.\n"
     ]
    }
   ],
   "source": [
    "stat,p=stats.ttest_ind_from_stats(mean1=mean_lst[2], std1=Delta_mean_lst[2]/1.96*np.sqrt(Nobs_lst[2]), nobs1=Nobs_lst[2],\n",
    "                           mean2=mean_lst[3], std2=Delta_mean_lst[3]/1.96*np.sqrt(Nobs_lst[3]), nobs2=Nobs_lst[3])\n",
    "print(f\"a students t-test comparing the mean lifetimes from the Fenton-Karma model to those of the Luo-Rudy model yielded p={p}.\")"
   ]
  },
  {
   "cell_type": "code",
   "execution_count": 14,
   "id": "a42e13b5",
   "metadata": {
    "ExecuteTime": {
     "end_time": "2022-06-07T20:16:15.881213Z",
     "start_time": "2022-06-07T20:16:15.863688Z"
    }
   },
   "outputs": [
    {
     "name": "stdout",
     "output_type": "stream",
     "text": [
      "a students t-test comparing the mean lifetimes from the Fenton-Karma model to those of the Luo-Rudy model yielded p=0.35119444375871434.\n"
     ]
    }
   ],
   "source": [
    "stat,p=stats.ttest_ind_from_stats(mean1=mean_lst[0], std1=Delta_mean_lst[0]/1.96*np.sqrt(Nobs_lst[0]), nobs1=Nobs_lst[0],\n",
    "                           mean2=mean_lst[1], std2=Delta_mean_lst[1]/1.96*np.sqrt(Nobs_lst[1]), nobs2=Nobs_lst[1])\n",
    "print(f\"a students t-test comparing the mean lifetimes from the Fenton-Karma model to those of the Luo-Rudy model yielded p={p}.\")"
   ]
  },
  {
   "cell_type": "code",
   "execution_count": 15,
   "id": "e668f206",
   "metadata": {
    "ExecuteTime": {
     "end_time": "2022-06-07T20:16:16.223521Z",
     "start_time": "2022-06-07T20:16:15.882110Z"
    },
    "scrolled": true
   },
   "outputs": [
    {
     "data": {
      "image/png": "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\n",
      "text/plain": [
       "<Figure size 640x480 with 1 Axes>"
      ]
     },
     "metadata": {},
     "output_type": "display_data"
    },
    {
     "data": {
      "image/png": "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\n",
      "text/plain": [
       "<Figure size 400x500 with 1 Axes>"
      ]
     },
     "metadata": {},
     "output_type": "display_data"
    }
   ],
   "source": [
    "bar_height_values=np.array(mean_lst)\n",
    "Delta_bar_height_values=np.array(Delta_mean_lst)\n",
    "color_lst=['C0','C1','C0','C1']\n",
    "bar_label_lst=[r'$T_{FK}$',r'$T_{LR}$',r'$\\Gamma_{FK}$',r'$\\Gamma_{LR}$']\n",
    "# hatch: {'/', '\\\\', '|', '-', '+', 'x', 'o', 'O', '.', '*'}\n",
    "hatch_values=np.array(['','','//','//'])\n",
    "# bar_label_lst=['Audio-Only\\n\\n\\n','Match\\n\\n\\n','Mismatch\\n\\n\\n','Video-Only\\n\\n\\n']\n",
    "ylabel='Avg. Duration (ms)'#\\nwith Preferred Modality'\n",
    "fig,ax=plt.subplots(figsize=(4,5))\n",
    "ax.bar(bar_label_lst,bar_height_values,hatch=hatch_values,yerr=Delta_bar_height_values,alpha=0.9,color=color_lst,capsize=10)\n",
    "# ax.errorbar(bar_label_lst[0],bar_height_values[0],Delta_bar_height_values[0],alpha=0.9,color=color_lst[0])\n",
    "format_plot(ax=ax,xlabel='',ylabel=ylabel)\n",
    "# title=''\n",
    "# ax.set_title(title,fontsize=18)\n",
    "# plt.gca().yaxis.set_major_formatter(mtick.PercentFormatter())\n",
    "plt.ylim([0,410])\n",
    "# plt.xticks(rotation=90)\n",
    "# plt.xticks(rotation=0)\n",
    "# plt.xticks(rotation=-90)\n",
    "plt.show()"
   ]
  },
  {
   "cell_type": "markdown",
   "id": "231f4ed1",
   "metadata": {
    "ExecuteTime": {
     "end_time": "2022-01-05T00:55:08.002101Z",
     "start_time": "2022-01-05T00:55:07.946080Z"
    }
   },
   "source": [
    "# analytic fit to MSR"
   ]
  },
  {
   "cell_type": "markdown",
   "id": "de935620",
   "metadata": {},
   "source": [
    "$$\n",
    "\\text{MSR}_\\text{Osc.}(t')=4at'+\\frac{8D}{\\omega}\\Big(sin(\\omega t' + \\phi_f) - sin(\\phi_f)\\Big)\n",
    "$$"
   ]
  },
  {
   "cell_type": "code",
   "execution_count": 16,
   "id": "644f0f6a",
   "metadata": {
    "ExecuteTime": {
     "end_time": "2022-06-07T20:16:16.249031Z",
     "start_time": "2022-06-07T20:16:16.224656Z"
    }
   },
   "outputs": [
    {
     "name": "stdout",
     "output_type": "stream",
     "text": [
      "a_hat_FK = 1.604153+/-0.040173 cm^2/s, tmax=300\n",
      "a_hat_LR = 8.595018+/-0.377114 cm^2/s, tmax=8\n"
     ]
    }
   ],
   "source": [
    "msr_dir_lr='/home/timothytyree/Documents/GitHub/bgmc/python/data/full_results/msr_lr_boostrapped_tavg2_14.0_n_2083_a_8.6.csv'\n",
    "# a_LR = 8.5950#+/-0.3771 cm^2/s\n",
    "# tavg2=14 ms, num_samples=2083\n",
    "msr_dir_fk='/home/timothytyree/Documents/GitHub/bgmc/python/data/full_results/msr_fk_boostrapped_tavg2_14.0_n_19087_a_1.6_tmax_300.csv'\n",
    "# a_FK = 1.604153#+/-0.040173 cm^2/s\n",
    "# tavg2=14 ms, num_samples=19087, tmin=0, tmax=300 ms\n",
    "\n",
    "df_msd_lr=pd.read_csv(msr_dir_lr)\n",
    "x_values_LR=df_msd_lr['tdeath_avg'].values\n",
    "y_values_LR=df_msd_lr['MSR'].values\n",
    "yerr_values_LR=df_msd_lr['Delta_MSR'].values\n",
    "df_msd_fk=pd.read_csv(msr_dir_fk)\n",
    "x_values_FK=df_msd_fk['tdeath_avg'].values\n",
    "y_values_FK=df_msd_fk['MSR'].values\n",
    "yerr_values_FK=df_msd_fk['Delta_MSR'].values\n",
    "\n",
    "tmax=300#ms\n",
    "x_values=x_values_FK.copy()\n",
    "y_values=y_values_FK.copy()\n",
    "boo=x_values<tmax #ms\n",
    "dict_a_SR=compute_95CI_ols(x_values[boo],y_values[boo])\n",
    "a_SR=dict_a_SR['m']/4*1e3\n",
    "Delta_a_SR=dict_a_SR['Delta_m']/4*1e3\n",
    "print(f\"a_hat_FK = {a_SR:.6f}+/-{Delta_a_SR:.6f} cm^2/s, tmax={tmax}\")\n",
    "a_hat_FK=a_SR\n",
    "\n",
    "tmax=8#ms\n",
    "x_values=x_values_LR.copy()\n",
    "y_values=y_values_LR.copy()\n",
    "boo=x_values<tmax #ms\n",
    "dict_a_SR=compute_95CI_ols(x_values[boo],y_values[boo])\n",
    "a_SR=dict_a_SR['m']/4*1e3\n",
    "Delta_a_SR=dict_a_SR['Delta_m']/4*1e3\n",
    "print(f\"a_hat_LR = {a_SR:.6f}+/-{Delta_a_SR:.6f} cm^2/s, tmax={tmax}\")\n",
    "a_hat_LR=a_SR"
   ]
  },
  {
   "cell_type": "code",
   "execution_count": 17,
   "id": "42319c55",
   "metadata": {
    "ExecuteTime": {
     "end_time": "2022-06-07T20:16:16.408344Z",
     "start_time": "2022-06-07T20:16:16.250421Z"
    }
   },
   "outputs": [
    {
     "data": {
      "image/png": "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\n",
      "text/plain": [
       "<Figure size 600x400 with 1 Axes>"
      ]
     },
     "metadata": {},
     "output_type": "display_data"
    }
   ],
   "source": [
    "fontsize=15\n",
    "fig,ax=plt.subplots(figsize=(6,4))\n",
    "### plot expected\n",
    "fontsize=20\n",
    "\n",
    "xv=np.linspace(0,1e3,200)\n",
    "ax.plot(xv,4*a_hat_LR*1e-3*xv,'--',lw=2,alpha=0.8,c='C1')\n",
    "ax.plot(xv,4*a_hat_FK*1e-3*xv,'--',lw=2,alpha=0.8,c='C0')\n",
    "#plot data\n",
    "ax.plot(x_values_FK,y_values_FK,lw=2,alpha=0.8,c='C0')\n",
    "ax.fill_between(x_values_FK,y_values_FK-yerr_values_FK,y_values_FK+yerr_values_FK,lw=2,alpha=0.4,color='C0')\n",
    "ax.plot(x_values_LR,y_values_LR,lw=2,alpha=0.8,c='C1')\n",
    "ax.fill_between(x_values_LR,y_values_LR-yerr_values_LR,y_values_LR+yerr_values_LR,lw=2,alpha=0.4,color='C1')\n",
    "\n",
    "# MSR(t)=at + (2D/\\omega) \\sin(\\omega t + \\phi_f),\n",
    "# DONE: plot ^this model for MSR for fitty parameter settings (LR)\n",
    "# a=3.535902;D=a/2;phi_f=0.;period=0.1 #s\n",
    "a=3.535902;D=a/2;\n",
    "phi_f=0.;\n",
    "# phi_f=-np.pi/2;\n",
    "period=0.12 #s\n",
    "omega=2*np.pi/period\n",
    "constant=-8*D*np.sin(phi_f)/omega#0.15\n",
    "t_values=np.linspace(0,1,1000)\n",
    "MSR_values_oscillatory=4*(a*t_values+(2*D/omega)*np.sin(omega*t_values+phi_f))+constant\n",
    "ax.plot(t_values*1e3,MSR_values_oscillatory,c='C2',\n",
    "        label='$MSR_{Osc.} (a=a_{LR},\\phi_f=0$)')\n",
    "#         label=r'Oscillatory Solution ($a=a_{LR}$, $\\phi_f=0$)')\n",
    "\n",
    "#what param setting to use for the FK model?\n",
    "phi_f=-np.pi/2;\n",
    "a=1.604153;\n",
    "period=0.11 #s\n",
    "D=a/2;\n",
    "# constant=0.15\n",
    "omega=2*np.pi/period\n",
    "constant=-8*D*np.sin(phi_f)/omega#0.15\n",
    "t_values=np.linspace(0,1,1000)\n",
    "MSR_values_oscillatory=4*(a*t_values+(2*D/omega)*np.sin(omega*t_values+phi_f))+constant\n",
    "ax.plot(t_values*1e3,MSR_values_oscillatory,c='C3',\n",
    "                label=r'$MSR_{Osc.} (a=a_{FK}, \\phi_f=-\\frac{\\pi}{2})$')\n",
    "#         label='$MSR_{Osc.} (a=a_{FK}, \\phi_f=-\\frac{\\pi}{2})$')\n",
    "#         label='Oscillatory Solution ($a=a_{FK}$, $\\phi_f=-\\pi/2$)')\n",
    "\n",
    "# #what param setting to use for the FK model?\n",
    "# phi_f=0#-np.pi/2;\n",
    "# # a=1.604153;\n",
    "# # period=0.11 #s\n",
    "# # D=a/2;\n",
    "# # constant=0.15\n",
    "# omega=2*np.pi/period\n",
    "# constant=-8*D*np.sin(phi_f)/omega#0.15\n",
    "# t_values=np.linspace(0,1,1000)\n",
    "# MSR_values_oscillatory=4*(a*t_values+(2*D/omega)*np.sin(omega*t_values+phi_f))+constant\n",
    "# plt.plot(t_values*1e3,MSR_values_oscillatory,c='gray',label='Oscillatory Solution ($a=a_{FK}$, $\\phi_f=0$)')\n",
    "\n",
    "#format plot\n",
    "format_plot(ax=ax,xlabel=r'$t_f-t$ (ms)',ylabel=r'MSR (cm$^2$)',fontsize=fontsize)\n",
    "plt.xlim([0,1000])\n",
    "plt.ylim([0,5.1])\n",
    "plt.legend(loc='lower right',fontsize=fontsize-5,frameon=False)\n",
    "plt.show()\n",
    "# print(f\"tavg2={tavg2} ms, num_samples={max_num_groups}\")"
   ]
  },
  {
   "cell_type": "markdown",
   "id": "48c7df47",
   "metadata": {},
   "source": [
    "## generate MSR for the oscillatory model"
   ]
  },
  {
   "cell_type": "code",
   "execution_count": null,
   "id": "8761e91b",
   "metadata": {
    "ExecuteTime": {
     "start_time": "2022-01-06T04:34:18.777Z"
    }
   },
   "outputs": [],
   "source": []
  },
  {
   "cell_type": "code",
   "execution_count": 18,
   "id": "30447a13",
   "metadata": {
    "ExecuteTime": {
<<<<<<< Updated upstream
     "start_time": "2022-01-06T05:33:33.946Z"
=======
     "end_time": "2022-06-07T20:16:16.425987Z",
     "start_time": "2022-06-07T20:16:16.409444Z"
>>>>>>> Stashed changes
    }
   },
   "outputs": [],
   "source": [
    "include_earliest=False#True#broken?"
   ]
  },
  {
   "cell_type": "code",
   "execution_count": 19,
   "id": "bb9a8850",
   "metadata": {
    "ExecuteTime": {
<<<<<<< Updated upstream
     "start_time": "2022-01-06T04:00:09.563Z"
    }
   },
   "outputs": [
    {
     "name": "stdout",
     "output_type": "stream",
     "text": [
      "Rsq_values mean_array std_array\n",
      "positions_out.shape=(100000, 4, 10000)\n"
     ]
=======
     "end_time": "2022-06-07T20:16:16.443931Z",
     "start_time": "2022-06-07T20:16:16.427257Z"
>>>>>>> Stashed changes
    }
   },
   "outputs": [],
   "source": [
    "###### WTF! This killed my kernel!\n",
    "\n",
    "\n",
    "# print(f\"generate predictions from the oscillatory particle model... estimated run time ~??\")\n",
    "# ahat_long=a_hat_FK_vlong#a_hat_LR_long\n",
    "# #Fenton-Karma\n",
    "# #GOAL: add a reasonable fit MSR from the reversed-time oscillatory particle model (dotted)\n",
    "# #DONE: select either of the xy values form the full model (OR copy & paste ^that to new ipynb)\n",
    "# #DONE: initialize the particle model for the FK model\n",
    "# a=2.4; #2.5?\n",
    "# D=1.2; T=120; phif=0.0003; Rf=1e-02; Ntrials=1000\n",
    "# # x_values,y_values=x_values_FK,y_values_FK\n",
    "# # #DONE: initialize the particle model for the LR model\n",
    "# # a=3.8; D=1.9; T=120; phif=0.0002; Rf=1e-02; Ntrials=1000\n",
    "# # x_values,y_values=x_values_LR,y_values_LR\n",
    "# T=100#110#140#100#120#180#90#240\n",
    "# D=0.365238#\t0.004171\t101774+/-103689,0.6,1.5,0.98 # from particle properties spreadsheet\n",
    "# a=1.6\n",
    "# D=ahat_long/2#/1 #/4#/4\n",
    "# a=ahat_long#/2\n",
    "# #TODO: recall my time reversed function that maps parameters of the oscillatory model to MSR\n",
    "# # gener_positions_oscillatory_reversed\n",
    "\n",
    "# initial_phase_orientation=phif\n",
    "# # initial_phase_orientation-=np.pi/2-np.pi# worse/4#/2\n",
    "# initial_phase_orientation+=np.pi/2\n",
    "\n",
    "# num_pairs=10000#1min 30sec: 10+1#400#2min 22sec: \n",
    "# #before, long runtime\n",
    "# dict_out,position_array = gener_positions_oscillatory_reversed(\n",
    "#             a=a, D=D, printing=False,num_pairs=num_pairs,initial_phase_orientation=initial_phase_orientation,\n",
    "#             include_earliest=include_earliest,\n",
    "#             period_of_oscillation=T)\n",
    "# print(*dict_out)\n",
    "# positions_out=position_array\n",
    "\n",
    "# #estimated run time: <1 minute\n",
    "# # positions_out=dict_out['positions_out']\n",
    "# Dt=1e-5\n",
    "# rstart=1e-4\n",
    "# title=f\"a={a:.4f}, D={D:.4f},\\n\"+r\"$\\phi_0$\"+f\"={initial_phase_orientation:.4f}, \"+r\"R$_0$\"+f\"={rstart:.4f}, \"+r\" N$_{trials}$\"+f\"={num_pairs}\\n\"\n",
    "# print(f\"positions_out.shape={positions_out.shape}\")\n",
    "# #compute the distance between each pair of particles after aligning by annihilation (unshifted)\n",
    "# x1_values=positions_out[:,0]\n",
    "# y1_values=positions_out[:,1]\n",
    "# x2_values=positions_out[:,2]\n",
    "# y2_values=positions_out[:,3]\n",
    "# dx_values=(x2_values-x1_values)\n",
    "# dy_values=(y2_values-y1_values)\n",
    "# Rsq_values=dx_values**2+dy_values**2\n",
    "# #compute the ensemble averaged values\n",
    "# MSR_values=np.mean(Rsq_values,axis=1)\n",
    "# aligned_coordinates_values=np.mean(positions_out,axis=-1)\n",
    "# # maxt=Dt*MSR_values.shape[0]\n",
    "# t_values=np.arange(MSR_values.shape[0])*Dt\n",
    "\n",
    "# t_values_fk_osc=t_values.copy()\n",
    "# MSR_values_fk_osc=MSR_values.copy()\n",
    "# beep(5)"
   ]
  },
  {
   "cell_type": "code",
   "execution_count": 20,
   "id": "9fd642f3",
   "metadata": {
    "ExecuteTime": {
<<<<<<< Updated upstream
     "start_time": "2022-01-06T04:00:20.357Z"
=======
     "end_time": "2022-06-07T20:16:16.464256Z",
     "start_time": "2022-06-07T20:16:16.445069Z"
>>>>>>> Stashed changes
    }
   },
   "outputs": [],
   "source": [
    "# #heretim\n",
    "# ahat_long=a_hat_LR_long#a_hat_FK_vlong#\n",
    "# #Luo-Rudy\n",
    "# #runtime was ~40 seconds\n",
    "# #recompute the Luo-Rudy model's fitty for the MSR of the oscillatory model \n",
    "# #GOAL: add a reasonable fit MSR from the reversed-time oscillatory particle model (dotted)\n",
    "# #DONE: select either of the xy values form the full model (OR copy & paste ^that to new ipynb)\n",
    "# #DONE: initialize the particle model for the FK model\n",
    "# a=2.5; D=1.2; T=120; phif=0.0003; Rf=1e-02; Ntrials=1000\n",
    "# # x_values,y_values=x_values_FK,y_values_FK\n",
    "# #DONE: initialize the particle model for the LR model\n",
    "# a=3.8; D=1.9; T=120; phif=0.0002; Rf=1e-02; Ntrials=1000\n",
    "# # x_values,y_values=x_values_LR,y_values_LR\n",
    "\n",
    "# #TODO: try to get a reasonable a for LR given D=D_LR\n",
    "# D=0.586055#\t0.087553\t1871+/-520,0,0.55*,0.89#from particle properties spreadsheet\n",
    "# a=5#too big 8.5#tad small...9#4.5#discontinuous... 5#too small... 3.8\n",
    "# T=120#100#240#120\n",
    "# D=ahat_long/2#/1 #/4\n",
    "# a=ahat_long\n",
    "# #TODO: recall my time reversed function that maps parameters of the oscillatory model to MSR\n",
    "# # gener_positions_oscillatory_reversed\n",
    "\n",
    "# initial_phase_orientation=phif\n",
    "# num_pairs=10000#1min 30sec: 10+1#400#2min 22sec: \n",
    "# #before, long runtime\n",
    "# dict_out,position_array = gener_positions_oscillatory_reversed(\n",
    "#             a=a, D=D, printing=False,num_pairs=num_pairs,initial_phase_orientation=initial_phase_orientation,\n",
    "#             include_earliest=include_earliest,\n",
    "#             period_of_oscillation=T)\n",
    "\n",
    "# print(*dict_out)\n",
    "# positions_out=position_array\n",
    "\n",
    "# #estimated run time: <1 minute\n",
    "# # positions_out=dict_out['positions_out']\n",
    "# Dt=1e-5\n",
    "# rstart=1e-4\n",
    "# title=f\"a={a:.4f}, D={D:.4f},\\n\"+r\"$\\phi_0$\"+f\"={initial_phase_orientation:.4f}, \"+r\"R$_0$\"+f\"={rstart:.4f}, \"+r\" N$_{trials}$\"+f\"={num_pairs}\\n\"\n",
    "# print(f\"positions_out.shape={positions_out.shape}\")\n",
    "# #compute the distance between each pair of particles after aligning by annihilation (unshifted)\n",
    "# x1_values=positions_out[:,0]\n",
    "# y1_values=positions_out[:,1]\n",
    "# x2_values=positions_out[:,2]\n",
    "# y2_values=positions_out[:,3]\n",
    "# dx_values=(x2_values-x1_values)\n",
    "# dy_values=(y2_values-y1_values)\n",
    "# Rsq_values=dx_values**2+dy_values**2\n",
    "# #compute the ensemble averaged values\n",
    "# MSR_values=np.mean(Rsq_values,axis=1)\n",
    "# aligned_coordinates_values=np.mean(positions_out,axis=-1)\n",
    "# # maxt=Dt*MSR_values.shape[0]\n",
    "# t_values=np.arange(MSR_values.shape[0])*Dt\n",
    "\n",
    "# t_values_lr_osc=t_values.copy()\n",
    "# MSR_values_lr_osc=MSR_values.copy()\n",
    "# beep(5)"
   ]
  },
  {
   "cell_type": "code",
   "execution_count": 21,
   "id": "4b302d10",
   "metadata": {
    "ExecuteTime": {
<<<<<<< Updated upstream
     "start_time": "2022-01-06T04:09:22.822Z"
=======
     "end_time": "2022-06-07T20:16:16.605049Z",
     "start_time": "2022-06-07T20:16:16.465336Z"
>>>>>>> Stashed changes
    }
   },
   "outputs": [
    {
     "name": "stdout",
     "output_type": "stream",
     "text": [
      "/home/timothytyree/Documents/GitHub/bgmc/python\r\n"
     ]
    }
   ],
   "source": [
    "!pwd"
   ]
  },
  {
   "cell_type": "code",
   "execution_count": 22,
   "id": "0f333998",
   "metadata": {
    "ExecuteTime": {
<<<<<<< Updated upstream
     "start_time": "2022-01-06T04:14:15.480Z"
=======
     "end_time": "2022-06-07T20:16:16.627205Z",
     "start_time": "2022-06-07T20:16:16.606456Z"
>>>>>>> Stashed changes
    }
   },
   "outputs": [],
   "source": [
    "# #DONE: save dotted as .npz\n",
    "# msr_osc_fn=f\"msr_osc_full.npz\"\n",
    "# np.savez_compressed(msr_osc_fn,\n",
    "#                    t_values_fk_osc=t_values_fk_osc,\n",
    "#                    MSR_values_fk_osc=MSR_values_fk_osc,\n",
    "#                    t_values_lr_osc=t_values_lr_osc,\n",
    "#                    MSR_values_lr_osc=MSR_values_lr_osc)\n",
    "# print(f\"msr_osc_fn='{os.path.abspath(msr_osc_fn)}'\")\n",
    "# assert os.path.exists(msr_osc_fn)"
   ]
  },
  {
   "cell_type": "code",
   "execution_count": null,
   "id": "0ef49ddd",
   "metadata": {},
   "outputs": [],
   "source": [
    " "
   ]
  },
  {
   "cell_type": "code",
   "execution_count": null,
   "id": "e4a3bf7f",
<<<<<<< Updated upstream
   "metadata": {},
=======
   "metadata": {
    "ExecuteTime": {
     "end_time": "2022-03-30T20:11:48.424274Z",
     "start_time": "2022-03-30T20:11:48.257251Z"
    }
   },
>>>>>>> Stashed changes
   "outputs": [],
   "source": []
  },
  {
   "cell_type": "code",
   "execution_count": 23,
   "id": "bac4bd11",
   "metadata": {
    "ExecuteTime": {
<<<<<<< Updated upstream
     "end_time": "2022-01-06T01:41:01.988896Z",
     "start_time": "2022-01-06T01:41:01.916743Z"
    }
   },
   "outputs": [
    {
     "data": {
      "text/plain": [
       "False"
      ]
     },
     "execution_count": 20,
     "metadata": {},
     "output_type": "execute_result"
=======
     "end_time": "2022-06-07T20:16:16.644292Z",
     "start_time": "2022-06-07T20:16:16.628256Z"
>>>>>>> Stashed changes
    }
   },
   "outputs": [],
   "source": [
    "# assert not np.isnan(Rsq_values).all()?"
   ]
  },
  {
   "cell_type": "markdown",
   "id": "633f4b84",
   "metadata": {},
<<<<<<< Updated upstream
=======
   "source": [
    "## plot the results"
   ]
  },
  {
   "cell_type": "code",
   "execution_count": 24,
   "id": "ff92ff08",
   "metadata": {
    "ExecuteTime": {
     "end_time": "2022-06-07T20:16:16.661681Z",
     "start_time": "2022-06-07T20:16:16.645407Z"
    }
   },
   "outputs": [],
>>>>>>> Stashed changes
   "source": [
    "#TODO: look in data/ for msr_osc_fn=f\"msr_osc_full.npz\"...\n",
    "#TODO: import ^that...\n",
    "#TODO: extract its variables..."
   ]
  },
  {
   "cell_type": "code",
   "execution_count": 25,
   "id": "cd6c131e",
   "metadata": {
    "ExecuteTime": {
<<<<<<< Updated upstream
     "end_time": "2022-01-06T01:41:02.008369Z",
     "start_time": "2022-01-06T01:41:01.990050Z"
=======
     "end_time": "2022-06-07T20:16:16.678410Z",
     "start_time": "2022-06-07T20:16:16.662831Z"
>>>>>>> Stashed changes
    }
   },
   "outputs": [],
   "source": [
    "#estimate a_sr expected for this value with a sliding window\n",
    "msr_dir_lr='/home/timothytyree/Documents/GitHub/bgmc/python/data/full_results/msr_lr_boostrapped_tavg2_14.0_n_2083_a_8.6.csv'\n",
    "# a_LR = 8.5950#+/-0.3771 cm^2/s\n",
    "# tavg2=14 ms, num_samples=2083\n",
    "\n",
    "msr_dir_fk='/home/timothytyree/Documents/GitHub/bgmc/python/data/full_results/msr_fk_boostrapped_tavg2_14.0_n_19087_a_1.6_tmax_300.csv'\n",
    "# a_FK = 1.604153#+/-0.040173 cm^2/s\n",
    "# tavg2=14 ms, num_samples=19087, tmin=0, tmax=300 ms"
   ]
  },
  {
   "cell_type": "code",
   "execution_count": 26,
   "id": "59996fe6",
   "metadata": {
    "ExecuteTime": {
<<<<<<< Updated upstream
     "end_time": "2022-01-06T01:41:02.035475Z",
     "start_time": "2022-01-06T01:41:02.012055Z"
=======
     "end_time": "2022-06-07T20:16:16.700237Z",
     "start_time": "2022-06-07T20:16:16.679490Z"
>>>>>>> Stashed changes
    }
   },
   "outputs": [],
   "source": [
    "df_msd_lr=pd.read_csv(msr_dir_lr)\n",
    "x_values_LR=df_msd_lr['tdeath_avg'].values\n",
    "y_values_LR=df_msd_lr['MSR'].values\n",
    "yerr_values_LR=df_msd_lr['Delta_MSR'].values\n",
    "df_msd_fk=pd.read_csv(msr_dir_fk)\n",
    "x_values_FK=df_msd_fk['tdeath_avg'].values\n",
    "y_values_FK=df_msd_fk['MSR'].values\n",
    "yerr_values_FK=df_msd_fk['Delta_MSR'].values"
   ]
  },
  {
   "cell_type": "code",
   "execution_count": 27,
   "id": "b7055d70",
   "metadata": {
    "ExecuteTime": {
<<<<<<< Updated upstream
     "end_time": "2022-01-06T01:41:02.058293Z",
     "start_time": "2022-01-06T01:41:02.036936Z"
=======
     "end_time": "2022-06-07T20:16:16.722491Z",
     "start_time": "2022-06-07T20:16:16.703977Z"
>>>>>>> Stashed changes
    }
   },
   "outputs": [
    {
     "name": "stdout",
     "output_type": "stream",
     "text": [
      "a_hat_FK = 1.604153+/-0.040173 cm^2/s, tmax=300\n",
      "a_hat_LR = 8.595018+/-0.377114 cm^2/s, tmax=8\n"
     ]
    }
   ],
   "source": [
    "tmax=300#8#ms\n",
    "x_values=x_values_FK.copy()\n",
    "y_values=y_values_FK.copy()\n",
    "boo=x_values<tmax #ms\n",
    "dict_a_SR=compute_95CI_ols(x_values[boo],y_values[boo])\n",
    "a_SR=dict_a_SR['m']/4*1e3\n",
    "Delta_a_SR=dict_a_SR['Delta_m']/4*1e3\n",
    "print(f\"a_hat_FK = {a_SR:.6f}+/-{Delta_a_SR:.6f} cm^2/s, tmax={tmax}\")\n",
    "a_hat_FK=a_SR\n",
    "\n",
    "tmax=8#ms\n",
    "x_values=x_values_LR.copy()\n",
    "y_values=y_values_LR.copy()\n",
    "boo=x_values<tmax #ms\n",
    "dict_a_SR=compute_95CI_ols(x_values[boo],y_values[boo])\n",
    "a_SR=dict_a_SR['m']/4*1e3\n",
    "Delta_a_SR=dict_a_SR['Delta_m']/4*1e3\n",
    "print(f\"a_hat_LR = {a_SR:.6f}+/-{Delta_a_SR:.6f} cm^2/s, tmax={tmax}\")\n",
    "a_hat_LR=a_SR"
   ]
  },
  {
   "cell_type": "code",
   "execution_count": 28,
   "id": "8b92844b",
   "metadata": {
    "ExecuteTime": {
<<<<<<< Updated upstream
     "start_time": "2022-01-06T04:00:35.777Z"
    },
    "hide_input": true
=======
     "end_time": "2022-06-07T20:16:16.891495Z",
     "start_time": "2022-06-07T20:16:16.723368Z"
    }
>>>>>>> Stashed changes
   },
   "outputs": [
    {
     "ename": "NameError",
     "evalue": "name 't_values_fk_osc' is not defined",
     "output_type": "error",
     "traceback": [
      "\u001b[0;31m---------------------------------------------------------------------------\u001b[0m",
      "\u001b[0;31mNameError\u001b[0m                                 Traceback (most recent call last)",
      "\u001b[0;32m/tmp/ipykernel_9095/212554318.py\u001b[0m in \u001b[0;36m<module>\u001b[0;34m\u001b[0m\n\u001b[1;32m      5\u001b[0m \u001b[0mplt\u001b[0m\u001b[0;34m.\u001b[0m\u001b[0mplot\u001b[0m\u001b[0;34m(\u001b[0m\u001b[0mxv\u001b[0m\u001b[0;34m,\u001b[0m\u001b[0;36m4\u001b[0m\u001b[0;34m*\u001b[0m\u001b[0ma_hat_FK\u001b[0m\u001b[0;34m*\u001b[0m\u001b[0;36m1e-3\u001b[0m\u001b[0;34m*\u001b[0m\u001b[0mxv\u001b[0m\u001b[0;34m,\u001b[0m\u001b[0;34m'--'\u001b[0m\u001b[0;34m,\u001b[0m\u001b[0mlw\u001b[0m\u001b[0;34m=\u001b[0m\u001b[0;36m2\u001b[0m\u001b[0;34m,\u001b[0m\u001b[0malpha\u001b[0m\u001b[0;34m=\u001b[0m\u001b[0;36m0.8\u001b[0m\u001b[0;34m,\u001b[0m\u001b[0mc\u001b[0m\u001b[0;34m=\u001b[0m\u001b[0;34m'C0'\u001b[0m\u001b[0;34m)\u001b[0m\u001b[0;34m\u001b[0m\u001b[0;34m\u001b[0m\u001b[0m\n\u001b[1;32m      6\u001b[0m \u001b[0;31m#plot fitty\u001b[0m\u001b[0;34m\u001b[0m\u001b[0;34m\u001b[0m\u001b[0;34m\u001b[0m\u001b[0m\n\u001b[0;32m----> 7\u001b[0;31m \u001b[0mplt\u001b[0m\u001b[0;34m.\u001b[0m\u001b[0mplot\u001b[0m\u001b[0;34m(\u001b[0m\u001b[0mt_values_fk_osc\u001b[0m\u001b[0;34m*\u001b[0m\u001b[0;36m1e3\u001b[0m\u001b[0;34m,\u001b[0m\u001b[0mMSR_values_fk_osc\u001b[0m\u001b[0;34m,\u001b[0m\u001b[0;34m':'\u001b[0m\u001b[0;34m,\u001b[0m\u001b[0mlw\u001b[0m\u001b[0;34m=\u001b[0m\u001b[0;36m2\u001b[0m\u001b[0;34m,\u001b[0m\u001b[0malpha\u001b[0m\u001b[0;34m=\u001b[0m\u001b[0;36m0.5\u001b[0m\u001b[0;34m,\u001b[0m\u001b[0mc\u001b[0m\u001b[0;34m=\u001b[0m\u001b[0;34m'C0'\u001b[0m\u001b[0;34m)\u001b[0m\u001b[0;34m\u001b[0m\u001b[0;34m\u001b[0m\u001b[0m\n\u001b[0m\u001b[1;32m      8\u001b[0m \u001b[0mplt\u001b[0m\u001b[0;34m.\u001b[0m\u001b[0mplot\u001b[0m\u001b[0;34m(\u001b[0m\u001b[0mt_values_lr_osc\u001b[0m\u001b[0;34m*\u001b[0m\u001b[0;36m1e3\u001b[0m\u001b[0;34m,\u001b[0m\u001b[0mMSR_values_lr_osc\u001b[0m\u001b[0;34m,\u001b[0m\u001b[0;34m':'\u001b[0m\u001b[0;34m,\u001b[0m\u001b[0mlw\u001b[0m\u001b[0;34m=\u001b[0m\u001b[0;36m2\u001b[0m\u001b[0;34m,\u001b[0m\u001b[0malpha\u001b[0m\u001b[0;34m=\u001b[0m\u001b[0;36m0.5\u001b[0m\u001b[0;34m,\u001b[0m\u001b[0mc\u001b[0m\u001b[0;34m=\u001b[0m\u001b[0;34m'C1'\u001b[0m\u001b[0;34m)\u001b[0m\u001b[0;34m\u001b[0m\u001b[0;34m\u001b[0m\u001b[0m\n\u001b[1;32m      9\u001b[0m \u001b[0;31m#plot data\u001b[0m\u001b[0;34m\u001b[0m\u001b[0;34m\u001b[0m\u001b[0;34m\u001b[0m\u001b[0m\n",
      "\u001b[0;31mNameError\u001b[0m: name 't_values_fk_osc' is not defined"
     ]
    }
   ],
   "source": [
    "#heretim\n",
    "#plot expected\n",
    "xv=np.linspace(0,1e3,200)\n",
    "plt.plot(xv,4*a_hat_LR*1e-3*xv,'--',lw=2,alpha=0.8,c='C1')\n",
    "plt.plot(xv,4*a_hat_FK*1e-3*xv,'--',lw=2,alpha=0.8,c='C0')\n",
    "#plot fitty\n",
    "plt.plot(t_values_fk_osc*1e3,MSR_values_fk_osc,':',lw=2,alpha=0.5,c='C0')\n",
    "plt.plot(t_values_lr_osc*1e3,MSR_values_lr_osc,':',lw=2,alpha=0.5,c='C1')\n",
    "#plot data\n",
    "plt.plot(x_values_FK,y_values_FK,lw=2,alpha=0.8,c='C0')\n",
    "plt.fill_between(x_values_FK,y_values_FK-yerr_values_FK,y_values_FK+yerr_values_FK,lw=2,alpha=0.4,color='C0')\n",
    "plt.plot(x_values_LR,y_values_LR,lw=2,alpha=0.8,c='C1')\n",
    "plt.fill_between(x_values_LR,y_values_LR-yerr_values_LR,y_values_LR+yerr_values_LR,lw=2,alpha=0.4,color='C1')\n",
    "format_plot(ax=plt.gca(),xlabel=r'$t_f-t$ (ms)',ylabel=r'MSR (cm$^2$)')\n",
    "plt.xlim([0,180])\n",
    "plt.ylim([0,3.1])\n",
    "title=f\"a={a:.4f}, D={D:.4f},\\n\"+r\"$\\phi_0$\"+f\"={initial_phase_orientation:.4f}, \"+r\"R$_0$\"+f\"={rstart:.4f}, \"+r\" N$_{trials}$\"+f\"={num_pairs}\\n\"\n",
    "plt.title(title)\n",
    "plt.show()\n",
    "# print(f\"tavg2={tavg2} ms, num_samples={max_num_groups}\")"
   ]
  },
  {
   "cell_type": "code",
   "execution_count": null,
   "id": "af473cda",
   "metadata": {
    "ExecuteTime": {
<<<<<<< Updated upstream
     "start_time": "2022-01-06T04:00:36.095Z"
=======
     "end_time": "2022-06-07T20:16:16.895072Z",
     "start_time": "2022-06-07T20:16:16.895062Z"
>>>>>>> Stashed changes
    }
   },
   "outputs": [],
   "source": [
    "#plot expected\n",
    "xv=np.linspace(0,1e3,200)\n",
    "plt.plot(xv,4*a_hat_LR*1e-3*xv,'--',lw=2,alpha=0.8,c='C1')\n",
    "plt.plot(xv,4*a_hat_FK*1e-3*xv,'--',lw=2,alpha=0.8,c='C0')\n",
    "#plot data\n",
    "plt.plot(x_values_FK,y_values_FK,lw=2,alpha=0.8,c='C0')\n",
    "plt.fill_between(x_values_FK,y_values_FK-yerr_values_FK,y_values_FK+yerr_values_FK,lw=2,alpha=0.4,color='C0')\n",
    "plt.plot(x_values_LR,y_values_LR,lw=2,alpha=0.8,c='C1')\n",
    "plt.fill_between(x_values_LR,y_values_LR-yerr_values_LR,y_values_LR+yerr_values_LR,lw=2,alpha=0.4,color='C1')\n",
    "\n",
    "plt.plot(t_values_fk_osc*1e3,MSR_values_fk_osc,':',lw=2,alpha=0.5,c='C0')\n",
    "plt.plot(t_values_lr_osc*1e3,MSR_values_lr_osc,':',lw=2,alpha=0.5,c='C1')\n",
    "\n",
    "#this FAILS to let me change the text displayed...  i must make a triangle and a text box to make the slope's label \"4a_FK\"\n",
    "# #mark the slope of ^that line with slope = 4*1.6 (FK) and slope = 4*8.6 (LR)\n",
    "# x1 = 700\n",
    "# y1 = 4\n",
    "# ax=plt.gca()\n",
    "# annotation.slope_marker(origin=(x1, y1),\n",
    "#                         slope=4*1.6e-3,#(1.6,1),#1.6,\n",
    "# #                         invert=True,\n",
    "# #                         text_kwargs={'color': 'black','fontsize':16, 'alpha':0.7, \"text\":'4a'},\n",
    "#                         text_kwargs={'color': 'black','fontsize':16, 'alpha':0.7},\n",
    "#                         poly_kwargs={'facecolor': (0.5, 0.5, 0.5), 'alpha':0.5},#TODO: replace with purple\n",
    "#                         ax=ax)\n",
    "\n",
    "#format plot\n",
    "format_plot(ax=plt.gca(),xlabel=r'$t_f-t$ (ms)',ylabel=r'MSR (cm$^2$)')\n",
    "plt.xlim([0,1000])\n",
    "plt.ylim([0,5.1])\n",
    "# plt.ylim([0,4.1])\n",
    "\n",
    "plt.show()"
   ]
  },
  {
   "cell_type": "code",
   "execution_count": null,
   "id": "353bf517",
   "metadata": {
    "ExecuteTime": {
<<<<<<< Updated upstream
     "end_time": "2022-01-06T01:41:02.386264Z",
     "start_time": "2022-01-06T01:41:02.366868Z"
=======
     "end_time": "2022-06-07T20:16:16.896021Z",
     "start_time": "2022-06-07T20:16:16.896010Z"
>>>>>>> Stashed changes
    }
   },
   "outputs": [],
   "source": [
    "#TODO(later?): add a legend that identifies the 3 different classes of curves with black legend markers\n",
    "# (solid) full model, \n",
    "# (dashed) interacting inverse-powerlaw particle model,\n",
    "# (dotted) oscillatory particle model,"
   ]
  },
  {
   "cell_type": "code",
   "execution_count": null,
   "id": "82e1ba46",
   "metadata": {
    "ExecuteTime": {
<<<<<<< Updated upstream
     "end_time": "2022-01-06T01:41:02.411874Z",
     "start_time": "2022-01-06T01:41:02.388042Z"
=======
     "end_time": "2022-06-07T20:16:16.896661Z",
     "start_time": "2022-06-07T20:16:16.896651Z"
>>>>>>> Stashed changes
    }
   },
   "outputs": [],
   "source": [
    "#GOAL: highlight ^this with slopes indicating how ahat is computed \n",
    "# #TODO: change label to 4*a\n",
    "# annotation.slope_marker? #LAME\n",
    "# matplotlib.text.Text? #object oriented\n",
    "# matplotlib.patches.Polygon? #object oriented\n",
    "# #HINT: use ^these two mpl handles to add slopes to indicate "
   ]
  },
  {
   "cell_type": "code",
   "execution_count": null,
   "id": "7051e1eb",
   "metadata": {
    "ExecuteTime": {
<<<<<<< Updated upstream
     "end_time": "2022-01-10T01:06:13.333313Z",
     "start_time": "2022-01-10T01:06:13.329454Z"
    }
   },
   "outputs": [
    {
     "data": {
      "text/plain": [
       "0.8020765"
      ]
     },
     "execution_count": 6,
     "metadata": {},
     "output_type": "execute_result"
=======
     "end_time": "2022-06-07T20:16:16.897379Z",
     "start_time": "2022-06-07T20:16:16.897370Z"
>>>>>>> Stashed changes
    }
   },
   "outputs": [],
   "source": [
    "1.604153/2"
   ]
  },
  {
   "cell_type": "code",
   "execution_count": null,
   "id": "6eb5f36c",
   "metadata": {
    "ExecuteTime": {
<<<<<<< Updated upstream
     "end_time": "2022-01-09T20:26:45.473585Z",
     "start_time": "2022-01-09T20:26:45.470870Z"
    }
   },
   "outputs": [
    {
     "name": "stdout",
     "output_type": "stream",
     "text": [
      "Tavg_expected_lr=0.0104560221538015 when N=10, L=5\n",
      "Tavg_expected_lr=0.005404999884333002 when N=16, L=5\n"
     ]
=======
     "end_time": "2022-06-07T20:16:16.898160Z",
     "start_time": "2022-06-07T20:16:16.898150Z"
>>>>>>> Stashed changes
    }
   },
   "outputs": [],
   "source": [
    "Tavg_expected_lr=1e-03/0.095638665 #seconds #N=10, L=5\n",
    "print(f\"Tavg_expected_lr={Tavg_expected_lr} when N=10, L=5\")\n",
    "Tavg_expected_lr=1e-03/0.18501388 #seconds N=16, L=5\n",
    "print(f\"Tavg_expected_lr={Tavg_expected_lr} when N=16, L=5\")\n",
    "# src: src: full_results/data_fig4_vidmar_lr_tt.csv"
   ]
  },
  {
   "cell_type": "code",
   "execution_count": null,
   "id": "d7774a77",
   "metadata": {},
   "outputs": [],
   "source": []
  },
  {
   "cell_type": "markdown",
   "id": "a976f7c1",
   "metadata": {},
   "source": [
    "## (ignore) (example msr traces from oscillatory) generate traces of MSR from the oscilatory model that are reasonable guesses for the full models\n",
    "DONT dev nelder-mead least square fits of the oscillatory model to the MSR of the full models"
   ]
  },
  {
   "cell_type": "code",
   "execution_count": null,
   "id": "523eea69",
   "metadata": {
    "ExecuteTime": {
     "end_time": "2022-06-07T20:16:16.899108Z",
     "start_time": "2022-06-07T20:16:16.899097Z"
    }
   },
   "outputs": [],
   "source": [
    "#GOAL: add a best fit MSR from the reversed-time oscillatory particle model (dotted)\n",
    "#DONE: select either of the xy values form the full model (OR copy & paste ^that to new ipynb)\n",
    "\n",
    "\n",
    "#DONE: initialize the particle model for the FK model\n",
    "a=2.5; D=1.2; T=120; phif=0.0003; Rf=1e-02; Ntrials=1000\n",
    "x_values,y_values=x_values_FK,y_values_FK\n",
    "#DONE: initialize the particle model for the LR model\n",
    "a=3.8; D=1.9; T=120; phif=0.0002; Rf=1e-02; Ntrials=1000\n",
    "x_values,y_values=x_values_LR,y_values_LR\n",
    "\n",
    "#TODO: recall my time reversed function that maps parameters of the oscillatory model to MSR\n",
    "# gener_positions_oscillatory_reversed"
   ]
  },
  {
   "cell_type": "code",
   "execution_count": null,
   "id": "237bae75",
   "metadata": {
    "ExecuteTime": {
     "end_time": "2022-06-07T20:16:16.900074Z",
     "start_time": "2022-06-07T20:16:16.900064Z"
    }
   },
   "outputs": [],
   "source": [
    "#     #2 min. runtime?\n",
    "testing=True\n",
    "initial_phase_orientation=phif\n",
    "num_pairs=50#1min 30sec: 10+1#400#2min 22sec: \n",
    "if testing:\n",
    "    #before, long runtime\n",
    "    dict_out,position_array = gener_positions_oscillatory_reversed(\n",
    "                a=a, D=D, printing=False,num_pairs=num_pairs,initial_phase_orientation=initial_phase_orientation)\n",
    "    print(*dict_out)\n",
    "    positions_out=position_array\n",
    "    print(f\"positions_out.shape={positions_out.shape}\")\n",
    "    beep(5)"
   ]
  },
  {
   "cell_type": "code",
   "execution_count": null,
   "id": "49e215c6",
   "metadata": {
    "ExecuteTime": {
     "end_time": "2022-06-07T20:16:16.900897Z",
     "start_time": "2022-06-07T20:16:16.900862Z"
    }
   },
   "outputs": [],
   "source": [
    "#GOAL: add a reasonable fit MSR from the reversed-time oscillatory particle model (dotted)\n",
    "#DONE: select either of the xy values form the full model (OR copy & paste ^that to new ipynb)\n",
    "#DONE: initialize the particle model for the FK model\n",
    "a=2.5; D=1.2; T=120; phif=0.0003; Rf=1e-02; Ntrials=1000\n",
    "x_values,y_values=x_values_FK,y_values_FK\n",
    "#DONE: initialize the particle model for the LR model\n",
    "a=3.8; D=1.9; T=120; phif=0.0002; Rf=1e-02; Ntrials=1000\n",
    "x_values,y_values=x_values_LR,y_values_LR\n",
    "\n",
    "#TODO: recall my time reversed function that maps parameters of the oscillatory model to MSR\n",
    "# gener_positions_oscillatory_reversed\n",
    "\n",
    "initial_phase_orientation=phif\n",
    "num_pairs=1000#1min 30sec: 10+1#400#2min 22sec: \n",
    "#before, long runtime\n",
    "dict_out,position_array = gener_positions_oscillatory_reversed(\n",
    "            a=a, D=D, printing=False,num_pairs=num_pairs,initial_phase_orientation=initial_phase_orientation)\n",
    "print(*dict_out)\n",
    "positions_out=position_array\n",
    "\n",
    "#estimated run time: <1 minute\n",
    "# positions_out=dict_out['positions_out']\n",
    "Dt=1e-5\n",
    "rstart=1e-4\n",
    "title=f\"a={a:.4f}, D={D:.4f},\\n\"+r\"$\\phi_0$\"+f\"={initial_phase_orientation:.4f}, \"+r\"R$_0$\"+f\"={rstart:.4f}, \"+r\" N$_{trials}$\"+f\"={num_pairs}\\n\"\n",
    "print(f\"positions_out.shape={positions_out.shape}\")\n",
    "#compute the distance between each pair of particles after aligning by annihilation (unshifted)\n",
    "x1_values=positions_out[:,0]\n",
    "y1_values=positions_out[:,1]\n",
    "x2_values=positions_out[:,2]\n",
    "y2_values=positions_out[:,3]\n",
    "dx_values=(x2_values-x1_values)\n",
    "dy_values=(y2_values-y1_values)\n",
    "Rsq_values=dx_values**2+dy_values**2\n",
    "#compute the ensemble averaged values\n",
    "MSR_values=np.mean(Rsq_values,axis=1)\n",
    "aligned_coordinates_values=np.mean(positions_out,axis=-1)\n",
    "# maxt=Dt*MSR_values.shape[0]\n",
    "t_values=np.arange(MSR_values.shape[0])*Dt\n",
    "\n",
    "t_values_lr_osc=t_values.copy()\n",
    "MSR_values_lr_osc=MSR_values.copy()\n",
    "beep(5)"
   ]
  },
  {
   "cell_type": "code",
   "execution_count": null,
   "id": "24e59bb7",
   "metadata": {
    "ExecuteTime": {
     "end_time": "2022-06-07T20:16:16.901530Z",
     "start_time": "2022-06-07T20:16:16.901520Z"
    }
   },
   "outputs": [],
   "source": [
    "#     #2 min. runtime?\n",
    "testing=True\n",
    "initial_phase_orientation=phif\n",
    "num_pairs=200#1min 30sec: 10+1#400#2min 22sec: \n",
    "if testing:\n",
    "    #before, long runtime\n",
    "    dict_out,position_array = gener_positions_oscillatory_reversed(\n",
    "                a=a, D=D, printing=False,num_pairs=num_pairs,initial_phase_orientation=initial_phase_orientation)\n",
    "    print(*dict_out)\n",
    "    positions_out=position_array\n",
    "    print(f\"positions_out.shape={positions_out.shape}\")\n",
    "    beep(5)"
   ]
  },
  {
   "cell_type": "code",
   "execution_count": null,
   "id": "8bf1e919",
   "metadata": {
    "ExecuteTime": {
     "end_time": "2022-06-07T20:16:16.902690Z",
     "start_time": "2022-06-07T20:16:16.902679Z"
    }
   },
   "outputs": [],
   "source": [
    "#     #2 min. runtime?\n",
    "testing=True\n",
    "initial_phase_orientation=phif\n",
    "num_pairs=100#1min 30sec: 10+1#400#2min 22sec: \n",
    "if testing:\n",
    "    #before, long runtime\n",
    "    dict_out,position_array = gener_positions_oscillatory_reversed(\n",
    "                a=a, D=D, printing=False,num_pairs=num_pairs,initial_phase_orientation=initial_phase_orientation)\n",
    "    print(*dict_out)\n",
    "    positions_out=position_array\n",
    "    print(f\"positions_out.shape={positions_out.shape}\")\n",
    "    beep(5)"
   ]
  },
  {
   "cell_type": "code",
   "execution_count": null,
   "id": "83246ba9",
   "metadata": {
    "ExecuteTime": {
     "end_time": "2022-06-07T20:16:16.903462Z",
     "start_time": "2022-06-07T20:16:16.903452Z"
    }
   },
   "outputs": [],
   "source": [
    "#TODO: average ^that N=1000 run.\n",
    "print(f\"positions_out.shape={positions_out.shape}\")\n",
    "#compute the distance between each pair of particles after aligning by annihilation (unshifted)\n",
    "x1_values=positions_out[:,0]\n",
    "y1_values=positions_out[:,1]\n",
    "x2_values=positions_out[:,2]\n",
    "y2_values=positions_out[:,3]\n",
    "dx_values=(x2_values-x1_values)\n",
    "dy_values=(y2_values-y1_values)\n",
    "Rsq_values=dx_values**2+dy_values**2\n",
    "#compute the ensemble averaged values\n",
    "MSR_values=np.mean(Rsq_values,axis=1)"
   ]
  },
  {
   "cell_type": "code",
   "execution_count": null,
   "id": "cc1864a5",
   "metadata": {
    "ExecuteTime": {
     "end_time": "2022-06-07T20:16:16.904196Z",
     "start_time": "2022-06-07T20:16:16.904186Z"
    }
   },
   "outputs": [],
   "source": [
    "plt.plot(MSR_values)"
   ]
  },
  {
   "cell_type": "code",
   "execution_count": null,
   "id": "d86c353e",
   "metadata": {
    "ExecuteTime": {
     "end_time": "2022-06-07T20:16:16.905047Z",
     "start_time": "2022-06-07T20:16:16.905036Z"
    }
   },
   "outputs": [],
   "source": [
    "MSR_values_high_res=MSR_values.copy()\n",
    "MSR_values_high_res.shape"
   ]
  },
  {
   "cell_type": "code",
   "execution_count": null,
   "id": "7b8714ad",
   "metadata": {
    "ExecuteTime": {
     "end_time": "2022-06-07T20:16:16.905727Z",
     "start_time": "2022-06-07T20:16:16.905717Z"
    }
   },
   "outputs": [],
   "source": [
    "#estimated run time: 11 minutes\n",
    "\n",
    "\n",
    "# positions_out=dict_out['positions_out']\n",
    "Dt=1e-5\n",
    "rstart=1e-4\n",
    "title=f\"a={a:.4f}, D={D:.4f},\\n\"+r\"$\\phi_0$\"+f\"={initial_phase_orientation:.4f}, \"+r\"R$_0$\"+f\"={rstart:.4f}, \"+r\" N$_{trials}$\"+f\"={num_pairs}\\n\"\n",
    "\n",
    "\n",
    "\n",
    "print(f\"positions_out.shape={positions_out.shape}\")\n",
    "#compute the distance between each pair of particles after aligning by annihilation (unshifted)\n",
    "x1_values=positions_out[:,0]\n",
    "y1_values=positions_out[:,1]\n",
    "x2_values=positions_out[:,2]\n",
    "y2_values=positions_out[:,3]\n",
    "dx_values=(x2_values-x1_values)\n",
    "dy_values=(y2_values-y1_values)\n",
    "Rsq_values=dx_values**2+dy_values**2\n",
    "#compute the ensemble averaged values\n",
    "MSR_values=np.mean(Rsq_values,axis=1)\n",
    "aligned_coordinates_values=np.mean(positions_out,axis=-1)\n",
    "# maxt=Dt*MSR_values.shape[0]\n",
    "t_values=np.arange(MSR_values.shape[0])*Dt\n",
    "# x_values=aligned_mean_values[:,0]\n",
    "# plt.plot(aligned_mean_values[:,1])\n",
    "# plt.plot(aligned_mean_values[:,2])\n",
    "# plt.plot(aligned_mean_values[:,3])\n",
    "\n",
    "xmin,xmax=0,0.1\n",
    "ymin,ymax=0,0.6\n",
    "xv=np.linspace(xmin,xmax,100)\n",
    "plt.plot(xv,4*a*xv,'k--',label=r'$4a(t_f-t)$')\n",
    "plt.xlim([xmin,xmax])\n",
    "plt.ylim([ymin,ymax])\n",
    "plt.plot(t_values,MSR_values,c='C5',label=r\"Simulation\")\n",
    "# plt.plot(t_values,aligned_mean_values[::-1,0]**2)\n",
    "plt.plot(t_values,t_values*0.,'--',c='gray',alpha=0.5)\n",
    "format_plot(ax=plt.gca(),xlabel=r'$t_f-t$ (sec)',ylabel=r'MSR (cm$^2$)')\n",
    "plt.title(title,fontsize=16)\n",
    "plt.legend(fontsize=16)\n",
    "plt.show()\n",
    "\n",
    "\n"
   ]
  },
  {
   "cell_type": "code",
   "execution_count": null,
   "id": "f8ab04da",
   "metadata": {
    "ExecuteTime": {
     "end_time": "2022-06-07T20:16:16.906495Z",
     "start_time": "2022-06-07T20:16:16.906485Z"
    }
   },
   "outputs": [],
   "source": [
    "\n",
    "boo=~(np.isnan(t_values)|np.isnan(MSR_values))\n",
    "dict_fit=compute_95CI_ols(t_values[boo],MSR_values[boo])\n",
    "print_dict(dict_fit)\n",
    "print(f\"num_samples={positions_out.shape[-1]}\")\n",
    "print(f\"num_timepoints={t_values.shape[0]}\")\n",
    "print(f\"ahat = {dict_fit['m']/4:.4f}+/-{dict_fit['Delta_m']/4:.4f}\")"
   ]
  },
  {
   "cell_type": "code",
   "execution_count": null,
   "id": "a50d4a06",
   "metadata": {},
   "outputs": [],
   "source": []
  },
  {
   "cell_type": "code",
   "execution_count": null,
   "id": "30548c45",
   "metadata": {},
   "outputs": [],
   "source": []
  },
  {
   "cell_type": "code",
   "execution_count": null,
   "id": "d58e4d88",
   "metadata": {
    "ExecuteTime": {
     "end_time": "2022-06-07T20:16:16.907209Z",
     "start_time": "2022-06-07T20:16:16.907174Z"
    }
   },
   "outputs": [],
   "source": [
    "#TODO: recall my Nelder-Mead least-squares minimization routine\n",
    "#TODO: merge ^those two routines\n",
    "#TODO: plot the MSR of the resulting fit (if Nelder-Mead is sufficiently awesome)"
   ]
  },
  {
   "cell_type": "code",
   "execution_count": null,
   "id": "38e7a73b",
   "metadata": {
    "ExecuteTime": {
     "end_time": "2022-06-07T20:16:16.907984Z",
     "start_time": "2022-06-07T20:16:16.907974Z"
    }
   },
   "outputs": [],
   "source": [
    "meanT_dir_lr='/home/timothytyree/Documents/GitHub/bgmc/python/data/full_results/luorudy_mean_kinematic_periods.npz'\n",
    "meanT_dir_fk='/home/timothytyree/Documents/GitHub/bgmc/python/data/full_results/fentonkarma_mean_kinematic_periods.npz'\n",
    "np.mean(meanT_values)"
   ]
  },
  {
   "cell_type": "markdown",
   "id": "8009d620",
   "metadata": {},
   "source": [
    "# generate figure for the mslim consistency argument"
   ]
  },
  {
   "cell_type": "code",
   "execution_count": null,
   "id": "60513526",
   "metadata": {
    "ExecuteTime": {
     "end_time": "2022-06-07T20:16:16.908618Z",
     "start_time": "2022-06-07T20:16:16.908608Z"
    }
   },
   "outputs": [],
   "source": [
    "a_hat_FK, D_hat_FK, a_hat_FK_long, a_hat_FK_vlong, a_hat_LR, D_hat_LR, a_hat_LR_long=recall_particle_parameter_measurements()\n",
    "# note: a_ratio_lr=a_hat_FK_vlong/a_hat_FK_vlong=1\n",
    "ahat_fk_observed=a_hat_FK_vlong\n",
    "D_hat_fk_observed=D_hat_FK\n",
    "ahat_lr_observed=a_hat_LR\n",
    "D_hat_lr_observed=D_hat_LR\n",
    "a_lr_observed=a_hat_LR_long\n",
    "a_fk_observed=a_hat_FK_vlong"
   ]
  },
  {
   "cell_type": "code",
   "execution_count": null,
   "id": "44aee509",
   "metadata": {
    "ExecuteTime": {
     "end_time": "2022-06-07T20:16:16.909927Z",
     "start_time": "2022-06-07T20:16:16.909911Z"
    }
   },
   "outputs": [],
   "source": [
    "# # TODO: visualize ahat/a by summing the three terms of the attraction coefficient estimator\n",
    "#plot solutions for the estimators\n",
    "slope=-1\n",
    "phi_f=-np.pi*0.5#-np.pi/4\n",
    "alpha=0.2\n",
    "xlabel=r'$\\bar\\Gamma / T$'#\n",
    "ylabel=r'$\\hat a ^2/a^2$'#\n",
    "use_loglog=True\n",
    "# fig,ax=plt.subplots(figsize=(5,3))\n",
    "fig,ax=plt.subplots(figsize=(6,4))\n",
    "z_values=np.logspace(-2,2,100)\n",
    "x_values=z_values/(2.*np.pi)\n",
    "\n",
    "# #plot observed ahat values as horizontal dashed lines\n",
    "# y=ahat_fk_observed/a_fk_observed\n",
    "# ax.plot(x_values,0.*x_values+y,'C0--',lw=2,alpha=0.9,label='Fenton-Karma Model')\n",
    "# y=ahat_lr_observed/a_lr_observed\n",
    "# ax.plot(x_values,0.*x_values+y,'C1--',lw=2,alpha=0.9,label='Luo-Rudy Model')\n",
    "\n",
    "# #plot observed ahat,Gamma/T values as horizontal dashed lines\n",
    "# #Fenton-Karma\n",
    "# x=3\n",
    "# Delta_x=.5 #poorly estimated uncertainty\n",
    "# y=ahat_fk_observed/a_fk_observed\n",
    "# Delta_y=.04 #well estimated uncertainty\n",
    "#plot observed ahat,Gamma/T values as horizontal dashed lines\n",
    "#Fenton-Karma\n",
    "# GammaBar_observed: 387.0374+/-31.3052/2 milliseconds\n",
    "# T:110 +/- ?? ms\n",
    "a=197.3891#ms #GammaBar_observed\n",
    "Delta_GammaBar_observed=35.600166 #ms\n",
    "a/=2\n",
    "Delta_GammaBar_observed/=2\n",
    "\n",
    "# a=387.0374#ms\n",
    "# Delta_GammaBar_observed=15.6526#ms\n",
    "b=110#ms\n",
    "Delta_T_estimated=10\n",
    "Delta_a=Delta_GammaBar_observed\n",
    "Delta_b=Delta_T_estimated\n",
    "\n",
    "\n",
    "\n",
    "\n",
    "\n",
    "x=a/b\n",
    "Delta_x=np.sqrt(Delta_a**2/(b**2) + a**2*Delta_b**2/(b**4)) #well estimated uncertainty\n",
    "y=(ahat_fk_observed/a_fk_observed)\n",
    "# y=(2*D_hat_fk_observed+ahat_fk_observed/a_fk_observed) #*\n",
    "\n",
    "\n",
    "Delta_y=.04 #well estimated uncertainty for ahat/a\n",
    "ax.errorbar(x, y, xerr=Delta_x, yerr=Delta_y, fmt='o',markersize=8,capsize=4,lw=2,\n",
    "            color='C0')#,label='Fenton-Karma')\n",
    "# #Luo-Rudy\n",
    "# x=0.1\n",
    "# Delta_x=.05 #poorly estimated uncertainty\n",
    "# y=ahat_lr_observed/a_lr_observed\n",
    "# Delta_y=.08 #well estimated uncertainty\n",
    "#Luo-Rudy\n",
    "# GammaBar_observed: 41.9756+/-4.4809/2 milliseconds\n",
    "# T:120 +/- ?? mc\n",
    "# a=41.9756#ms\n",
    "# Delta_GammaBar_observed=15.6526\n",
    "a=15.5618 #ms #GammaBar_observed\n",
    "Delta_GammaBar_observed=1.867684\n",
    "a/=2\n",
    "Delta_GammaBar_observed/=2\n",
    "\n",
    "Delta_T_estimated=20\n",
    "b=120#ms\n",
    "Delta_a=Delta_GammaBar_observed\n",
    "Delta_b=Delta_T_estimated\n",
    "x=a/b\n",
    "Delta_x=np.sqrt(Delta_a**2/(b**2) + a**2*Delta_b**2/(b**4)) #well estimated uncertainty\n",
    "\n",
    "y=(ahat_lr_observed/a_lr_observed)\n",
    "# y=(2*D_hat_lr_observed+ahat_lr_observed/a_lr_observed) #*\n",
    "\n",
    "Delta_y=.08 #well estimated uncertainty for ahat/a\n",
    "ax.errorbar(x, y, xerr=Delta_x, yerr=Delta_y, fmt='o',markersize=8,capsize=4,lw=2,\n",
    "            color='C1')#,label='Luo-Rudy')\n",
    "\n",
    "\n",
    "#MSLIM\n",
    "#plot predictions for phi=-np.pi/2\n",
    "phi=phi_f\n",
    "a=1 #same plot for any a\n",
    "y_values= comp_ahat_mslim(z_values,a,D=a/2.,phi=phi)/a\n",
    "ax.plot(x_values,y_values,lw=2,alpha=0.4,color='green',\n",
    "                label=r'mslim')\n",
    "#         label=r'$g(\\bar\\Gamma/T,\\phi_f=-\\frac{\\pi}{2})$')\n",
    "squared_ahat_values =correction_diffusion(z_values,a=a,D=a/2.,phi=phi)\n",
    "squared_ahat_values+=correction_cross(z_values,a=a,D=a/2.,phi=phi)\n",
    "squared_ahat_values+=a**2\n",
    "y_values=np.sqrt(squared_ahat_values/a**2)\n",
    "ax.plot(x_values,y_values,lw=2,alpha=0.8,color='green',\n",
    "        label=r'squared mslim')\n",
    "#         label=r'$g(\\bar\\Gamma/T,\\phi_f=-\\frac{\\pi}{2})$')\n",
    "#         label=r'g($\\phi_f=$'+f\"{phi_f:.4f})\")\n",
    "#         label=r'Solution ($\\phi_f=-\\frac{\\pi}{2}$)')\n",
    "# #plot predictions for phi=0\n",
    "# phi=0\n",
    "a=1 #same plot for any a\n",
    "y_values= comp_ahat_mslim(z_values,a,D=a/2.,phi=0)/a\n",
    "ax.plot(x_values,y_values,lw=2,alpha=0.4,color='grey',\n",
    "                label=r'mslim')\n",
    "\n",
    "y_values= comp_ahat_mslim(z_values,a,D=a/2.,phi=phi)/a\n",
    "ax.plot(x_values,y_values,lw=2,alpha=0.4,color='green',\n",
    "                label=r'mslim')\n",
    "#         label=r'$g(\\bar\\Gamma/T,\\phi_f=-\\frac{\\pi}{2})$')\n",
    "squared_ahat_values =correction_diffusion(z_values,a=a,D=a/2.,phi=0)\n",
    "squared_ahat_values+=correction_cross(z_values,a=a,D=a/2.,phi=0)\n",
    "squared_ahat_values+=a**2\n",
    "y_values=np.sqrt(squared_ahat_values/a**2)\n",
    "ax.plot(x_values,y_values,lw=2,alpha=0.8,color='gray',\n",
    "        label=r'squared mslim')\n",
    "#         label=r'$g(\\bar\\Gamma/T,\\phi_f=-\\frac{\\pi}{2})$')\n",
    "\n",
    "#SMSLIM\n",
    "# #plot predictions for phi=-np.pi/2\n",
    "# phi=phi_f\n",
    "# squared_ahat_values =correction_diffusion(z_values,a=a,D=a/2.,phi=phi)\n",
    "# squared_ahat_values+=correction_cross(z_values,a=a,D=a/2.,phi=phi)\n",
    "# squared_ahat_values+=a**2\n",
    "# y_values=np.sqrt(squared_ahat_values/a**2)\n",
    "# ax.plot(x_values,y_values,lw=2,alpha=0.8,color='green',\n",
    "#         label=r'$g(\\bar\\Gamma/T,\\phi_f=-\\frac{\\pi}{2})$')\n",
    "# #         label=r'g($\\phi_f=$'+f\"{phi_f:.4f})\")\n",
    "# #         label=r'Solution ($\\phi_f=-\\frac{\\pi}{2}$)')\n",
    "# #plot predictions for phi=0\n",
    "# phi=0\n",
    "# squared_ahat_values =correction_diffusion(z_values,a=a,D=a/2.,phi=phi)\n",
    "# squared_ahat_values+=correction_cross(z_values,a=a,D=a/2.,phi=phi)\n",
    "# squared_ahat_values+=a**2\n",
    "# x_values=z_values/(2.*np.pi)\n",
    "# y_values=np.sqrt(squared_ahat_values/a**2)\n",
    "# ax.plot(x_values,y_values,lw=2,alpha=0.8,color='gray',\n",
    "#         label=r'$g(\\bar\\Gamma/T,\\phi_f=0)$')\n",
    "# #         label=r'g($\\phi_f=0$)')\n",
    "# #         label=r'Solution ($\\phi_f=0$)')\n",
    "\n",
    "\n",
    "\n",
    "#DONE: copy estimates from .odg\n",
    "#DONE: add error bar estimates\n",
    "#TODO(later): consider improving x,Delta_x estimates\n",
    "#TODO: plot the diffusion correction divided by the cross correction\n",
    "# ax.plot(x_values,0.*x_values+y,'C0--',lw=2,alpha=0.9,label='Fenton-Karma Model')\n",
    "# y=ahat_lr_observed/a_lr_observed\n",
    "# ax.plot(x_values,0.*x_values+y,'C1--',lw=2,alpha=0.9,label='Luo-Rudy Model')\n",
    "fontsize=20\n",
    "\n",
    "#format_plot\n",
    "# plt.title(r' $\\phi_f=-\\frac{\\pi}{2}$',fontsize=18, x=0.8, y=0.9)\n",
    "plt.ylim([8e-1,1.3e2])\n",
    "ax.legend(loc='upper right',fontsize=fontsize-3,frameon=False)\n",
    "format_plot(ax=plt.gca(), xlabel=xlabel, ylabel=ylabel, use_loglog=use_loglog, fontsize=fontsize)#, **kwargs)\n",
    "plt.tick_params(axis='y', which='minor',left=True)\n",
    "plt.tick_params(axis='x', which='minor',bottom=True)\n",
    "# ax.set_yticks([1e-4,1e-3,1e-2,1e-1,1e0,1e1])\n",
    "ax.set_yscale('log')\n",
    "plt.tick_params(axis='y', which='minor')\n",
    "## ax.tick_params(axis='y',reset=False, left=True,right=False, which='minor',\n",
    "##               direction='out', length=6, width=2, colors='k')\n",
    "# mark_slope(ax=ax,x1=1e-2,y1=2e1,slope=(-1,1),invert=True)\n",
    "mark_slope(ax=ax,x1=.8e-2,y1=1.5e1,slope=(-1,1),invert=True)\n",
    "plt.show()"
   ]
  },
  {
   "cell_type": "code",
   "execution_count": null,
   "id": "591f879b",
   "metadata": {
    "ExecuteTime": {
     "end_time": "2022-06-07T20:16:16.911154Z",
     "start_time": "2022-06-07T20:16:16.911125Z"
    }
   },
   "outputs": [],
   "source": [
    "#reset matplotlib\n",
    "import matplotlib\n",
    "matplotlib.rcParams.update(matplotlib.rcParamsDefault)"
   ]
  },
  {
   "cell_type": "code",
   "execution_count": null,
   "id": "04c9ad74",
   "metadata": {
    "ExecuteTime": {
     "end_time": "2022-06-07T20:16:16.913314Z",
     "start_time": "2022-06-07T20:16:16.913285Z"
    },
    "scrolled": true
   },
   "outputs": [],
   "source": [
    "# # TODO: visualize ahat/a by summing the three terms of the attraction coefficient estimator\n",
    "#plot solutions for the estimators\n",
    "slope=-1\n",
    "fontsize=20\n",
    "phi_f=-np.pi*0.5#-np.pi/4\n",
    "alpha=0.2\n",
    "xlabel=r'$\\bar\\Gamma / T$'#\n",
    "ylabel=r'$\\hat a ^2/a^2$'#\n",
    "use_loglog=True\n",
    "# fig,ax=plt.subplots(figsize=(5,3))\n",
    "fig,ax=plt.subplots(figsize=(6,4))\n",
    "z_values=np.logspace(-2,2,100)\n",
    "x_values=z_values/(2.*np.pi)\n",
    "\n",
    "# #plot observed ahat values as horizontal dashed lines\n",
    "# y=ahat_fk_observed/a_fk_observed\n",
    "# ax.plot(x_values,0.*x_values+y,'C0--',lw=2,alpha=0.9,label='Fenton-Karma Model')\n",
    "# y=ahat_lr_observed/a_lr_observed\n",
    "# ax.plot(x_values,0.*x_values+y,'C1--',lw=2,alpha=0.9,label='Luo-Rudy Model')\n",
    "\n",
    "# #plot observed ahat,Gamma/T values as horizontal dashed lines\n",
    "# #Fenton-Karma\n",
    "# x=3\n",
    "# Delta_x=.5 #poorly estimated uncertainty\n",
    "# y=ahat_fk_observed/a_fk_observed\n",
    "# Delta_y=.04 #well estimated uncertainty\n",
    "#plot observed ahat,Gamma/T values as horizontal dashed lines\n",
    "#Fenton-Karma\n",
    "# GammaBar_observed: 387.0374+/-31.3052/2 milliseconds\n",
    "# T:110 +/- ?? ms\n",
    "a=197.3891#ms\n",
    "Delta_GammaBar_observed=35.600166 #ms\n",
    "# a=387.0374#ms\n",
    "# Delta_GammaBar_observed=15.6526#ms\n",
    "b=110#ms\n",
    "Delta_T_estimated=10\n",
    "Delta_a=Delta_GammaBar_observed\n",
    "Delta_b=Delta_T_estimated\n",
    "x=a/b\n",
    "Delta_x=np.sqrt(Delta_a**2/(b**2) + a**2*Delta_b**2/(b**4)) #well estimated uncertainty\n",
    "y=(ahat_fk_observed/a_fk_observed)\n",
    "Delta_y=.04 #well estimated uncertainty for ahat/a\n",
    "ax.errorbar(x, y, xerr=Delta_x, yerr=Delta_y, fmt='o',markersize=8,capsize=4,lw=3,\n",
    "            color='C0')#,label='Fenton-Karma')\n",
    "# #Luo-Rudy\n",
    "# x=0.1\n",
    "# Delta_x=.05 #poorly estimated uncertainty\n",
    "# y=ahat_lr_observed/a_lr_observed\n",
    "# Delta_y=.08 #well estimated uncertainty\n",
    "#Luo-Rudy\n",
    "# GammaBar_observed: 41.9756+/-4.4809/2 milliseconds\n",
    "# T:120 +/- ?? mc\n",
    "# a=41.9756#ms\n",
    "# Delta_GammaBar_observed=15.6526\n",
    "a=15.5618 #ms\n",
    "Delta_GammaBar_observed=1.867684\n",
    "Delta_T_estimated=20\n",
    "b=120#ms\n",
    "Delta_a=Delta_GammaBar_observed\n",
    "Delta_b=Delta_T_estimated\n",
    "x=a/b\n",
    "Delta_x=np.sqrt(Delta_a**2/(b**2) + a**2*Delta_b**2/(b**4)) #well estimated uncertainty\n",
    "y=(ahat_lr_observed/a_lr_observed)\n",
    "Delta_y=.08 #well estimated uncertainty for ahat/a\n",
    "ax.errorbar(x, y, xerr=Delta_x, yerr=Delta_y, fmt='o',markersize=8,capsize=4,lw=3,\n",
    "            color='C1')#,label='Luo-Rudy')\n",
    "\n",
    "\n",
    "#MSLIM\n",
    "#plot predictions for phi=-np.pi/2\n",
    "phi=phi_f\n",
    "a=1 #same plot for any a\n",
    "# y_values= comp_ahat_mslim(z_values,a,D=a/2.,phi=phi)/a\n",
    "# ax.plot(x_values,y_values,lw=2,alpha=0.4,color='green',\n",
    "#                 label=r'mslim')\n",
    "# #         label=r'$g(\\bar\\Gamma/T,\\phi_f=-\\frac{\\pi}{2})$')\n",
    "# squared_ahat_values =correction_diffusion(z_values,a=a,D=a/2.,phi=phi)\n",
    "# squared_ahat_values+=correction_cross(z_values,a=a,D=a/2.,phi=phi)\n",
    "# squared_ahat_values+=a**2\n",
    "# y_values=np.sqrt(squared_ahat_values/a**2)\n",
    "# ax.plot(x_values,y_values,lw=2,alpha=0.8,color='green',\n",
    "#         label=r'squared mslim')\n",
    "#         label=r'$g(\\bar\\Gamma/T,\\phi_f=-\\frac{\\pi}{2})$')\n",
    "#         label=r'g($\\phi_f=$'+f\"{phi_f:.4f})\")\n",
    "#         label=r'Solution ($\\phi_f=-\\frac{\\pi}{2}$)')\n",
    "# #plot predictions for phi=0\n",
    "# phi=0\n",
    "# squared_ahat_values =correction_diffusion(z_values,a=a,D=a/2.,phi=phi)\n",
    "# squared_ahat_values+=correction_cross(z_values,a=a,D=a/2.,phi=phi)\n",
    "# squared_ahat_values+=a**2\n",
    "# x_values=z_values/(2.*np.pi)\n",
    "# y_values=np.sqrt(squared_ahat_values/a**2)\n",
    "# ax.plot(x_values,y_values,lw=2,alpha=0.8,color='gray',\n",
    "#         label=r'$g(\\bar\\Gamma/T,\\phi_f=0)$')\n",
    "# #         label=r'g($\\phi_f=0$)')\n",
    "# #         label=r'Solution ($\\phi_f=0$)')\n",
    "\n",
    "# SMSLIM\n",
    "#plot predictions for phi=-np.pi/2\n",
    "phi=phi_f\n",
    "squared_ahat_values =correction_diffusion(z_values,a=a,D=a/2.,phi=phi)\n",
    "squared_ahat_values+=correction_cross(z_values,a=a,D=a/2.,phi=phi)\n",
    "squared_ahat_values+=a**2\n",
    "y_values=np.sqrt(squared_ahat_values/a**2)\n",
    "ax.plot(x_values,y_values,lw=2,alpha=0.8,color='green',\n",
    "        label=r'$g(\\bar\\Gamma/T,\\phi_f=-\\frac{\\pi}{2})$')\n",
    "#         label=r'g($\\phi_f=$'+f\"{phi_f:.4f})\")\n",
    "#         label=r'Solution ($\\phi_f=-\\frac{\\pi}{2}$)')\n",
    "#plot predictions for phi=0\n",
    "phi=0\n",
    "squared_ahat_values =correction_diffusion(z_values,a=a,D=a/2.,phi=phi)\n",
    "squared_ahat_values+=correction_cross(z_values,a=a,D=a/2.,phi=phi)\n",
    "squared_ahat_values+=a**2\n",
    "x_values=z_values/(2.*np.pi)\n",
    "y_values=np.sqrt(squared_ahat_values/a**2)\n",
    "ax.plot(x_values,y_values,lw=2,alpha=0.8,color='gray',\n",
    "        label=r'$g(\\bar\\Gamma/T,\\phi_f=0)$')\n",
    "#         label=r'g($\\phi_f=0$)')\n",
    "#         label=r'Solution ($\\phi_f=0$)')\n",
    "\n",
    "\n",
    "\n",
    "#DONE: copy estimates from .odg\n",
    "#DONE: add error bar estimates\n",
    "#TODO(later): consider improving x,Delta_x estimates\n",
    "#TODO: plot the diffusion correction divided by the cross correction\n",
    "# ax.plot(x_values,0.*x_values+y,'C0--',lw=2,alpha=0.9,label='Fenton-Karma Model')\n",
    "# y=ahat_lr_observed/a_lr_observed\n",
    "# ax.plot(x_values,0.*x_values+y,'C1--',lw=2,alpha=0.9,label='Luo-Rudy Model')\n",
    "\n",
    "#format_plot\n",
    "# plt.title(r' $\\phi_f=-\\frac{\\pi}{2}$',fontsize=18, x=0.8, y=0.9)\n",
    "plt.ylim([8e-1,1.3e2])\n",
    "ax.legend(loc='upper right',fontsize=fontsize-3,frameon=False)\n",
    "format_plot(ax=plt.gca(), xlabel=xlabel, ylabel=ylabel, use_loglog=use_loglog, fontsize=fontsize)#, **kwargs)\n",
    "plt.tick_params(axis='y', which='minor',left=True)\n",
    "plt.tick_params(axis='x', which='minor',bottom=True)\n",
    "# ax.set_yticks([1e-4,1e-3,1e-2,1e-1,1e0,1e1])\n",
    "ax.set_yscale('log')\n",
    "plt.tick_params(axis='y', which='minor')\n",
    "## ax.tick_params(axis='y',reset=False, left=True,right=False, which='minor',\n",
    "##               direction='out', length=6, width=2, colors='k')\n",
    "mark_slope(ax=ax,x1=1e-2,y1=2e1,slope=(-1,1),invert=True)\n",
    "# mark_slope(ax=ax,x1=.8e-2,y1=1.5e1,slope=(-1,1),invert=True)\n",
    "plt.show()"
   ]
  },
  {
   "cell_type": "code",
   "execution_count": null,
   "id": "63b9019b",
   "metadata": {
    "ExecuteTime": {
     "end_time": "2022-06-07T20:16:16.914261Z",
     "start_time": "2022-06-07T20:16:16.914231Z"
    }
   },
   "outputs": [],
   "source": [
    "#src\n",
    "# http://localhost:8888/notebooks/python/Notes%20on%20fitting%20the%20oscillatory%20particle%20model%20to%20the%20linear%20particle%20model.ipynb\n"
   ]
  },
  {
   "cell_type": "markdown",
   "id": "295cd203",
   "metadata": {},
   "source": [
    " # generation of lifetimes histogram\n",
    " TODO: copy src from care in \n",
    "    `http://localhost:8889/notebooks/Lifetimes%20of%20Spiral%20Tips.ipynb`"
   ]
  },
  {
   "cell_type": "code",
   "execution_count": null,
   "id": "0c022bac",
   "metadata": {
    "ExecuteTime": {
     "end_time": "2022-06-07T20:16:16.915483Z",
     "start_time": "2022-06-07T20:16:16.915467Z"
    }
   },
   "outputs": [],
   "source": [
    "#DONE: save results as pkl\n",
    "import pickle\n",
    "\n",
    "# dict_lifetimes = {'lr': {'tbins':bins, 'pdf_bar_heights':bar_heights_lr},\n",
    "#      'fk': {'tbins':bins, 'pdf_bar_heights':bar_heights_fk}\n",
    "#     }\n",
    "\n",
    "lifetime_pdf_dir=\"/home/timothytyree/Documents/GitHub/bgmc/python/data/full_results/lifetimes.pkl\"\n",
    "with open(lifetime_pdf_dir, 'rb') as handle:\n",
    "    dict_lifetimes = pickle.load(handle)"
   ]
  },
  {
   "cell_type": "code",
   "execution_count": null,
   "id": "a68b6ca7",
   "metadata": {},
   "outputs": [],
   "source": []
  },
  {
   "cell_type": "code",
   "execution_count": null,
   "id": "08d1a245",
   "metadata": {
    "ExecuteTime": {
     "end_time": "2022-06-07T20:16:16.916460Z",
     "start_time": "2022-06-07T20:16:16.916448Z"
    }
   },
   "outputs": [],
   "source": [
    "alpha=0.8\n",
    "# bins=300\n",
    "# bins='doane'\n",
    "# bins='rice'\n",
    "# bins='sqrt'\n",
    "bins=np.arange(0,4e3,60)\n",
    "# 'auto', 'fd', 'doane',\n",
    "#     'scott', 'stone', 'rice', 'sturges', or 'sqrt'.\n",
    "\n",
    "#figure panel style histogram of lifetimes\n",
    "fig,ax=plt.subplots(figsize=(6,5))\n",
    "bar_heights_fk,bins,_=plt.hist(lifetime_values_FK,bins=bins,log=True,color='C0',density=True,alpha=alpha, label='Fenton-Karma Model')\n",
    "bar_heights_lr,_,_=plt.hist(lifetime_values_LR,bins=bins,log=True,color='C1',density=True,alpha=alpha, label='Luo-Rudy Model')\n",
    "plt.legend(fontsize=16)\n",
    "format_plot(ax=plt.gca(),xlabel='Lifetime (ms)',ylabel='PDF')\n",
    "plt.show()"
   ]
  },
  {
   "cell_type": "code",
   "execution_count": null,
   "id": "234e3fee",
   "metadata": {},
   "outputs": [],
   "source": []
  }
 ],
 "metadata": {
  "hide_input": false,
  "kernelspec": {
   "display_name": "Python 3 (ipykernel)",
   "language": "python",
   "name": "python3"
  },
  "language_info": {
   "codemirror_mode": {
    "name": "ipython",
    "version": 3
   },
   "file_extension": ".py",
   "mimetype": "text/x-python",
   "name": "python",
   "nbconvert_exporter": "python",
   "pygments_lexer": "ipython3",
   "version": "3.9.5"
  },
  "nbTranslate": {
   "displayLangs": [
    "*"
   ],
   "hotkey": "alt-t",
   "langInMainMenu": true,
   "sourceLang": "en",
   "targetLang": "fr",
   "useGoogleTranslate": true
  },
  "toc": {
   "base_numbering": 1,
   "nav_menu": {},
   "number_sections": true,
   "sideBar": true,
   "skip_h1_title": false,
   "title_cell": "Table of Contents",
   "title_sidebar": "Contents",
   "toc_cell": false,
   "toc_position": {},
   "toc_section_display": true,
   "toc_window_display": false
  },
  "varInspector": {
   "cols": {
    "lenName": 16,
    "lenType": 16,
    "lenVar": 40
   },
   "kernels_config": {
    "python": {
     "delete_cmd_postfix": "",
     "delete_cmd_prefix": "del ",
     "library": "var_list.py",
     "varRefreshCmd": "print(var_dic_list())"
    },
    "r": {
     "delete_cmd_postfix": ") ",
     "delete_cmd_prefix": "rm(",
     "library": "var_list.r",
     "varRefreshCmd": "cat(var_dic_list()) "
    }
   },
   "types_to_exclude": [
    "module",
    "function",
    "builtin_function_or_method",
    "instance",
    "_Feature"
   ],
   "window_display": false
  }
 },
 "nbformat": 4,
 "nbformat_minor": 5
}
