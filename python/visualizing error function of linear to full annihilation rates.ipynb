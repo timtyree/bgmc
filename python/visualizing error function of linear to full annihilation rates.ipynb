{
 "cells": [
  {
   "cell_type": "markdown",
   "id": "f40d11a3",
   "metadata": {},
   "source": [
    "# visualizing loss function\n",
    "Tim Tyre<br>\n",
    "9.13.2022"
   ]
  },
  {
   "cell_type": "code",
   "execution_count": 1,
   "id": "db9d82e3",
   "metadata": {
    "ExecuteTime": {
     "end_time": "2022-09-13T21:35:24.605190Z",
     "start_time": "2022-09-13T21:35:22.395857Z"
    }
   },
   "outputs": [
    {
     "name": "stdout",
     "output_type": "stream",
     "text": [
      "The autoreload extension is already loaded. To reload it, use:\n",
      "  %reload_ext autoreload\n"
     ]
    }
   ],
   "source": [
    "from lib.my_initialization import *\n",
    "from lib import *\n",
    "#from lib.lib_care.measure.level_sets import comp_longest_level_set_and_smooth\n",
    "%load_ext autoreload\n",
    "%autoreload 2\n",
    "\n",
    "import random,scipy\n",
    "from scipy.interpolate import LinearNDInterpolator\n",
    "from scipy.interpolate import CloughTocher2DInterpolator\n",
    "from scipy.optimize import minimize\n",
    "#load libraries for color bar\n",
    "import matplotlib as mpl #for colorbar\n",
    "from matplotlib.cm import ScalarMappable\n",
    "import matplotlib.colors as colors\n",
    "import matplotlib.cbook as cbook\n",
    "from matplotlib import cm\n",
    "#def plotter_3dpoint_cloud_sample(az,...):\n",
    "from scipy import stats\n",
    "#DONE: hook this routine up to dask\n",
    "#DONT: hook this routine up to dask_cuda\n",
    "# import scanpy as sc\n",
    "darkmode=False\n",
    "if darkmode:\n",
    "    # For darkmode plots\n",
    "    from jupyterthemes import jtplot\n",
    "    jtplot.style(theme='monokai', context='notebook', ticks=True, grid=False)\n",
    "#     theme=cuxfilter.themes.dark\n",
    "#     #     theme=cuxfilter.themes.rapids\n",
    "else:\n",
    "    sns.set_style('white')\n",
    "#     theme=cuxfilter.themes.light\n",
    "import warnings\n",
    "warnings.simplefilter(\"ignore\", UserWarning)\n",
    "%load_ext autoreload\n",
    "%autoreload 2\n",
    "# import cupy as cp\n",
    "np.random.seed(42)\n",
    "# cp.random.seed(42)"
   ]
  },
  {
   "cell_type": "code",
   "execution_count": 10,
   "id": "917be19d",
   "metadata": {
    "ExecuteTime": {
     "end_time": "2022-09-13T21:35:43.297482Z",
     "start_time": "2022-09-13T21:35:43.276352Z"
    }
   },
   "outputs": [],
   "source": [
    "#reset matplotlib settings\n",
    "from mpltools import annotation\n",
    "import matplotlib as mpl\n",
    "sns.reset_orig()\n",
    "mpl.rc_file_defaults()"
   ]
  },
  {
   "cell_type": "code",
   "execution_count": 3,
   "id": "abc53bb5",
   "metadata": {
    "ExecuteTime": {
     "end_time": "2022-09-13T21:35:24.740549Z",
     "start_time": "2022-09-13T21:35:24.627003Z"
    }
   },
   "outputs": [],
   "source": [
    "from lib.lib_care.routines.interp_texture_from_scatter_data import interp_txt_from_scatter"
   ]
  },
  {
   "cell_type": "markdown",
   "id": "eb4631ad",
   "metadata": {},
   "source": [
    "# define module"
   ]
  },
  {
   "cell_type": "markdown",
   "id": "b16c4427",
   "metadata": {},
   "source": [
    "# TODO: generate table of $a_{max}$ for the best trial in each data run available"
   ]
  },
  {
   "cell_type": "markdown",
   "id": "77a3f753",
   "metadata": {},
   "source": [
    "$$a_{max} = a_{linear} + 2D$$"
   ]
  },
  {
   "cell_type": "markdown",
   "id": "09ee11dc",
   "metadata": {},
   "source": [
    "for each of the full models\n",
    "1. iterate over all defect files cached in .parquet files\n",
    "1. compute the row for the best fit trial"
   ]
  },
  {
   "cell_type": "code",
   "execution_count": 39,
   "id": "ecefa2d8",
   "metadata": {
    "ExecuteTime": {
     "end_time": "2022-09-14T01:16:26.880099Z",
     "start_time": "2022-09-14T01:16:26.456038Z"
    }
   },
   "outputs": [
    {
     "name": "stdout",
     "output_type": "stream",
     "text": [
      "model, run, L, amax/L**2,  rmse, log_likelihood,\n"
     ]
    }
   ],
   "source": [
    "print(\"model, run, L, amax/L**2,  rmse, log_likelihood,\")\n",
    "dict_fit_lst=[]\n",
    "# for each of the full models\n",
    "for model_str in ['fk','lr']:\n",
    "    # for each defect file cached as .parquet files\n",
    "    run_num_lst=reversed(range(27))\n",
    "    for run_num in run_num_lst:\n",
    "        defect_dir=f'/home/timothytyree/Documents/GitHub/bgmc/python/data/osg_output/run_{run_num}_defects_to_fk.parquet'\n",
    "        df_defects_fk=pd.read_parquet(parquet_dir_defects_fk)\n",
    "        \n",
    "        \n",
    "        \n",
    "        \n",
    "#         dict_fit=dict(model=model_str,run=run,\n",
    "#                       L=L,amax=amax,\n",
    "#                       rmse=rmse,log_likelihood=log_likelihood,\n",
    "#                       alinear=alinear,D=D,r=r,kappa=kappa,\n",
    "#                       cluster_index=cluster_index)"
   ]
  },
  {
   "cell_type": "code",
   "execution_count": 43,
   "id": "a3de2f97",
   "metadata": {
    "ExecuteTime": {
     "end_time": "2022-09-14T01:16:58.814225Z",
     "start_time": "2022-09-14T01:16:58.777960Z"
    }
   },
   "outputs": [
    {
     "data": {
      "text/plain": [
       "0        False\n",
       "1        False\n",
       "2        False\n",
       "3        False\n",
       "4        False\n",
       "         ...  \n",
       "17635    False\n",
       "17636    False\n",
       "17637    False\n",
       "17638    False\n",
       "17639    False\n",
       "Name: rmse, Length: 17640, dtype: bool"
      ]
     },
     "execution_count": 43,
     "metadata": {},
     "output_type": "execute_result"
    }
   ],
   "source": [
    "rmse = df_defects_fk['rmse'].min()\n",
    "[rmse==df_defects_fk['rmse']]"
   ]
  },
  {
   "cell_type": "code",
   "execution_count": 37,
   "id": "830f8d57",
   "metadata": {
    "ExecuteTime": {
     "end_time": "2022-09-14T00:30:51.315037Z",
     "start_time": "2022-09-14T00:30:51.259591Z"
    }
   },
   "outputs": [
    {
     "name": "stdout",
     "output_type": "stream",
     "text": [
      "model, run, L, amax/L**2,  rmse, log_likelihood,\n"
     ]
    },
    {
     "ename": "NameError",
     "evalue": "name 'model_str' is not defined",
     "output_type": "error",
     "traceback": [
      "\u001b[0;31m---------------------------------------------------------------------------\u001b[0m",
      "\u001b[0;31mNameError\u001b[0m                                 Traceback (most recent call last)",
      "Input \u001b[0;32mIn [37]\u001b[0m, in \u001b[0;36m<cell line: 8>\u001b[0;34m()\u001b[0m\n\u001b[1;32m      5\u001b[0m df,dict_linear \u001b[38;5;241m=\u001b[39m routine_measure_annihilation_defect(input_fn,printing\u001b[38;5;241m=\u001b[39m\u001b[38;5;28;01mTrue\u001b[39;00m)\u001b[38;5;66;03m#,**kwargs)\u001b[39;00m\n\u001b[1;32m      7\u001b[0m \u001b[38;5;28mprint\u001b[39m(\u001b[38;5;124m\"\u001b[39m\u001b[38;5;124mmodel, run, L, amax/L**2,  rmse, log_likelihood,\u001b[39m\u001b[38;5;124m\"\u001b[39m)\n\u001b[0;32m----> 8\u001b[0m \u001b[38;5;28mprint\u001b[39m(\u001b[38;5;124mf\u001b[39m\u001b[38;5;124m\"\u001b[39m\u001b[38;5;132;01m{\u001b[39;00mmodel_str\u001b[38;5;132;01m}\u001b[39;00m\u001b[38;5;124m, \u001b[39m\u001b[38;5;132;01m{\u001b[39;00mrun_num\u001b[38;5;132;01m}\u001b[39;00m\u001b[38;5;124m, \u001b[39m\u001b[38;5;132;01m{\u001b[39;00mL\u001b[38;5;132;01m}\u001b[39;00m\u001b[38;5;124m, \u001b[39m\u001b[38;5;132;01m{\u001b[39;00mamax\u001b[38;5;241m/\u001b[39mL\u001b[38;5;241m*\u001b[39m\u001b[38;5;241m*\u001b[39m\u001b[38;5;241m2\u001b[39m\u001b[38;5;132;01m}\u001b[39;00m\u001b[38;5;124m, \u001b[39m\u001b[38;5;132;01m{\u001b[39;00mrmse\u001b[38;5;132;01m}\u001b[39;00m\u001b[38;5;124m, \u001b[39m\u001b[38;5;132;01m{\u001b[39;00mlog_likelihood\u001b[38;5;132;01m}\u001b[39;00m\u001b[38;5;124m\"\u001b[39m)\n",
      "\u001b[0;31mNameError\u001b[0m: name 'model_str' is not defined"
     ]
    }
   ],
   "source": [
    "\n",
    "#compute a row describing the parameter settings of the trial with the lowest error/loss\n",
    "#HINT: \n",
    "df,dict_linear = routine_measure_annihilation_defect(input_fn,printing=True)#,**kwargs)\n",
    "\n",
    "print(f\"{model_str}, {run_num}, {L}, {amax/L**2}, {rmse}, {log_likelihood}\")"
   ]
  },
  {
   "cell_type": "markdown",
   "id": "e4ac425d",
   "metadata": {},
   "source": [
    "# select data run to visualize"
   ]
  },
  {
   "cell_type": "code",
   "execution_count": null,
   "id": "cd2071d9",
   "metadata": {},
   "outputs": [],
   "source": []
  },
  {
   "cell_type": "code",
   "execution_count": 138,
   "id": "fea65f5b",
   "metadata": {
    "ExecuteTime": {
     "end_time": "2022-09-14T02:27:14.529927Z",
     "start_time": "2022-09-14T02:27:14.487336Z"
    }
   },
   "outputs": [],
   "source": [
    "run_num=25 #L=5 cm\n",
    "run_num=18 #L=10 cm\n",
    "parquet_dir_defects_fk=f'/home/timothytyree/Documents/GitHub/bgmc/python/data/osg_output/run_{run_num}_defects_to_fk.parquet'\n",
    "parquet_dir_defects_lr=f'/home/timothytyree/Documents/GitHub/bgmc/python/data/osg_output/run_{run_num}_defects_to_lr.parquet'\n",
    "input_folder=f'/home/timothytyree/Documents/GitHub/bgmc/python/data/osg_output/run_{run_num}_all'"
   ]
  },
  {
   "cell_type": "code",
   "execution_count": null,
   "id": "8654a994",
   "metadata": {},
   "outputs": [],
   "source": []
  },
  {
   "cell_type": "markdown",
   "id": "75772a4e",
   "metadata": {},
   "source": [
    "# load defects and plot the best fits"
   ]
  },
  {
   "cell_type": "code",
   "execution_count": 139,
   "id": "adbdf15c",
   "metadata": {
    "ExecuteTime": {
     "end_time": "2022-09-14T02:27:15.315249Z",
     "start_time": "2022-09-14T02:27:15.258412Z"
    }
   },
   "outputs": [],
   "source": [
    "df_defects_fk=pd.read_parquet(parquet_dir_defects_fk)\n",
    "df_defects_lr=pd.read_parquet(parquet_dir_defects_lr)\n",
    "#compute for each member a=amax-2*D\n",
    "num_digits_round=2\n",
    "#add columns for amax\n",
    "df_defects_fk['amax'] = np.around(df_defects_fk['varkappa'] + 2.*df_defects_fk['D'],num_digits_round)\n",
    "df_defects_lr['amax'] = np.around(df_defects_lr['varkappa'] + 2.*df_defects_lr['D'],num_digits_round)"
   ]
  },
  {
   "cell_type": "code",
   "execution_count": 160,
   "id": "934e9ec3",
   "metadata": {
    "ExecuteTime": {
     "end_time": "2022-09-14T02:41:38.595824Z",
     "start_time": "2022-09-14T02:41:37.967056Z"
    }
   },
   "outputs": [
    {
     "name": "stdout",
     "output_type": "stream",
     "text": [
      "parameter range supported in run #18:\n",
      "                 r    kappa        D     varkappa      amax        L\n",
      "min        0.06065    100.0      0.0      1.60188      1.65     10.0\n",
      "max        0.30876   1000.0      0.8     28.58740     28.59     10.0\n",
      "count  17853.00000  17853.0  17853.0  17853.00000  17853.00  17853.0\n",
      "\n",
      "*******************************\n",
      "* Fenton-Karma Model (best settings):\n",
      "*******************************\n",
      "amax=1.6500, rmse_min=0.0957, log_likelihood=106.3476, count=3\n",
      "amax=1.6700, rmse_min=0.0872, log_likelihood=121.5565, count=2\n",
      "amax=1.7200, rmse_min=0.0671, log_likelihood=128.7981, count=10\n",
      "\n",
      "*******************************\n",
      "* Luo-Rudy Model (best settings):\n",
      "*******************************\n",
      "amax=1.6500, rmse_min=2.8715, log_likelihood=-90.9284, count=3\n",
      "amax=1.6900, rmse_min=2.8023, log_likelihood=-89.8021, count=5\n",
      "amax=1.7300, rmse_min=2.7719, log_likelihood=-89.0615, count=6\n",
      "amax=1.7600, rmse_min=2.5838, log_likelihood=-85.8147, count=10\n",
      "amax=1.9100, rmse_min=2.5494, log_likelihood=-85.4087, count=13\n",
      "amax=2.0400, rmse_min=2.5447, log_likelihood=-84.8996, count=26\n",
      "amax=2.2900, rmse_min=2.4865, log_likelihood=-78.1305, count=18\n",
      "amax=2.4300, rmse_min=2.4150, log_likelihood=-75.6724, count=32\n",
      "amax=2.6200, rmse_min=2.3405, log_likelihood=-73.2632, count=12\n",
      "amax=2.7100, rmse_min=2.3066, log_likelihood=-71.9297, count=17\n",
      "amax=2.8500, rmse_min=2.3046, log_likelihood=-71.2311, count=11\n",
      "amax=2.9100, rmse_min=2.1645, log_likelihood=-67.7082, count=18\n",
      "amax=3.0300, rmse_min=2.0867, log_likelihood=-64.7662, count=16\n",
      "amax=3.2500, rmse_min=1.9719, log_likelihood=-61.5695, count=8\n",
      "amax=3.2800, rmse_min=1.8594, log_likelihood=-58.5636, count=5\n",
      "amax=3.3400, rmse_min=1.8473, log_likelihood=-57.3853, count=11\n",
      "amax=3.3600, rmse_min=1.8456, log_likelihood=-60.8436, count=4\n",
      "amax=3.5200, rmse_min=1.7551, log_likelihood=-54.2771, count=11\n",
      "amax=3.5800, rmse_min=1.7384, log_likelihood=-57.0744, count=12\n",
      "amax=3.7600, rmse_min=1.6912, log_likelihood=-51.6751, count=5\n",
      "amax=3.7900, rmse_min=1.4912, log_likelihood=-45.5866, count=5\n",
      "amax=4.0000, rmse_min=1.4582, log_likelihood=-48.8491, count=10\n",
      "amax=4.3600, rmse_min=1.1903, log_likelihood=-37.1624, count=5\n",
      "amax=4.5200, rmse_min=1.1556, log_likelihood=-33.5305, count=6\n",
      "amax=4.6200, rmse_min=1.0863, log_likelihood=-32.8345, count=6\n",
      "amax=4.9900, rmse_min=1.0012, log_likelihood=-27.8562, count=15\n",
      "amax=5.0200, rmse_min=0.7824, log_likelihood=-22.0299, count=2\n",
      "amax=5.1900, rmse_min=0.6500, log_likelihood=-15.4189, count=11\n",
      "amax=5.7300, rmse_min=0.6015, log_likelihood=-13.4826, count=25\n",
      "amax=5.8200, rmse_min=0.3956, log_likelihood=3.0372, count=13\n",
      "amax=5.9600, rmse_min=0.3369, log_likelihood=5.9643, count=14\n",
      "amax=6.1400, rmse_min=0.3076, log_likelihood=10.6472, count=9\n",
      "amax=6.3200, rmse_min=0.1987, log_likelihood=11.4061, count=26\n",
      "amax=6.6900, rmse_min=0.1926, log_likelihood=16.3388, count=12\n",
      "amax=6.8100, rmse_min=0.1633, log_likelihood=19.9251, count=18\n",
      "amax=6.8900, rmse_min=0.1509, log_likelihood=22.9981, count=30\n",
      "amax=7.2500, rmse_min=0.1358, log_likelihood=31.7365, count=19\n",
      "amax=7.3200, rmse_min=0.1313, log_likelihood=29.2679, count=11\n",
      "amax=7.4100, rmse_min=0.1279, log_likelihood=41.5711, count=19\n",
      "amax=7.5200, rmse_min=0.1103, log_likelihood=38.3988, count=20\n",
      "amax=7.6500, rmse_min=0.1068, log_likelihood=41.2072, count=11\n",
      "amax=8.0800, rmse_min=0.1022, log_likelihood=48.6311, count=9\n",
      "amax=8.1200, rmse_min=0.1017, log_likelihood=45.0379, count=17\n",
      "amax=8.4300, rmse_min=0.1011, log_likelihood=58.3010, count=16\n",
      "amax=8.7900, rmse_min=0.0968, log_likelihood=61.0501, count=11\n",
      "amax=8.8700, rmse_min=0.0967, log_likelihood=54.2435, count=8\n",
      "amax=9.1400, rmse_min=0.0961, log_likelihood=61.3366, count=19\n",
      "amax=9.4300, rmse_min=0.0923, log_likelihood=66.1027, count=43\n",
      "amax=9.8100, rmse_min=0.0876, log_likelihood=78.2941, count=33\n",
      "amax=10.1500, rmse_min=0.0852, log_likelihood=74.5710, count=38\n"
     ]
    }
   ],
   "source": [
    "# parquet_dir_defects_fk='/home/timothytyree/Documents/GitHub/bgmc/python/data/osg_output/run_26_defects_to_fk.parquet'\n",
    "# parquet_dir_defects_lr='/home/timothytyree/Documents/GitHub/bgmc/python/data/osg_output/run_26_defects_to_lr.parquet'\n",
    "parquet_dir_defects_fk=f'/home/timothytyree/Documents/GitHub/bgmc/python/data/osg_output/run_{run_num}_defects_to_fk.parquet'\n",
    "parquet_dir_defects_lr=f'/home/timothytyree/Documents/GitHub/bgmc/python/data/osg_output/run_{run_num}_defects_to_lr.parquet'\n",
    "df_defects_fk=pd.read_parquet(parquet_dir_defects_fk)\n",
    "df_defects_lr=pd.read_parquet(parquet_dir_defects_lr)\n",
    "df_defects_lr.shape\n",
    "\n",
    "#compute for each member a=amax-2*D\n",
    "num_digits_round=2\n",
    "#add columns for amax\n",
    "df_defects_fk['amax'] = np.around(df_defects_fk['varkappa'] + 2.*df_defects_fk['D'],num_digits_round)\n",
    "df_defects_lr['amax'] = np.around(df_defects_lr['varkappa'] + 2.*df_defects_lr['D'],num_digits_round)\n",
    "\n",
    "print(f\"parameter range supported in run #{run_num}:\")\n",
    "print(df_defects_lr.describe()[['r','kappa','D','varkappa','amax','L']].T[['min','max','count']].T)\n",
    "\n",
    "#identify the lowest error simulation for each amax value\n",
    "print(f\"\\n*******************************\")\n",
    "print(f\"* Fenton-Karma Model (best settings):\")\n",
    "print(f\"*******************************\")\n",
    "minrmse=9999.\n",
    "supamax=1.8\n",
    "for amax,g in df_defects_fk.groupby(by='amax'):\n",
    "    rmse_min = g['rmse'].min()\n",
    "    count = g['rmse'].count()\n",
    "    log_likelihood = g['log_likelihood'].max()\n",
    "    if (rmse_min<=minrmse)&(amax<=supamax):\n",
    "        minrmse=rmse_min\n",
    "        print(f\"{amax=:.4f}, {rmse_min=:.4f}, {log_likelihood=:.4f}, {count=}\")\n",
    "        gmin_fk=g.copy()\n",
    "    \n",
    "\n",
    "#identify the lowest error simulation for each amax value\n",
    "print(f\"\\n*******************************\")\n",
    "print(f\"* Luo-Rudy Model (best settings):\")\n",
    "print(f\"*******************************\")\n",
    "minrmse=9999.\n",
    "supamax=10.2\n",
    "for amax,g in df_defects_lr.groupby(by='amax'):\n",
    "    rmse_min = g['rmse'].min()\n",
    "    count = g['rmse'].count()\n",
    "    log_likelihood = g['log_likelihood'].max()\n",
    "    if (rmse_min<=minrmse)&(amax<=supamax):\n",
    "        minrmse=rmse_min\n",
    "        print(f\"{amax=:.4f}, {rmse_min=:.4f}, {log_likelihood=:.4f}, {count=}\")\n",
    "        gmin_lr=g.copy()\n"
   ]
  },
  {
   "cell_type": "code",
   "execution_count": null,
   "id": "ba066d7e",
   "metadata": {
    "ExecuteTime": {
     "end_time": "2022-09-14T02:31:00.265862Z",
     "start_time": "2022-09-14T02:31:00.233106Z"
    }
   },
   "outputs": [],
   "source": []
  },
  {
   "cell_type": "code",
   "execution_count": 161,
   "id": "bf29dd17",
   "metadata": {
    "ExecuteTime": {
     "end_time": "2022-09-14T02:41:42.728573Z",
     "start_time": "2022-09-14T02:41:42.703519Z"
    }
   },
   "outputs": [
    {
     "data": {
      "text/html": [
       "<div>\n",
       "<style scoped>\n",
       "    .dataframe tbody tr th:only-of-type {\n",
       "        vertical-align: middle;\n",
       "    }\n",
       "\n",
       "    .dataframe tbody tr th {\n",
       "        vertical-align: top;\n",
       "    }\n",
       "\n",
       "    .dataframe thead th {\n",
       "        text-align: right;\n",
       "    }\n",
       "</style>\n",
       "<table border=\"1\" class=\"dataframe\">\n",
       "  <thead>\n",
       "    <tr style=\"text-align: right;\">\n",
       "      <th></th>\n",
       "      <th>cluster_index</th>\n",
       "      <th>job_index</th>\n",
       "    </tr>\n",
       "  </thead>\n",
       "  <tbody>\n",
       "    <tr>\n",
       "      <th>11900</th>\n",
       "      <td>16106771</td>\n",
       "      <td>52</td>\n",
       "    </tr>\n",
       "  </tbody>\n",
       "</table>\n",
       "</div>"
      ],
      "text/plain": [
       "       cluster_index  job_index\n",
       "11900       16106771         52"
      ]
     },
     "execution_count": 161,
     "metadata": {},
     "output_type": "execute_result"
    }
   ],
   "source": [
    "dg_fk=gmin_fk[gmin_fk['rmse'] == gmin_fk['rmse'].min()]\n",
    "dg_fk[['cluster_index','job_index']]"
   ]
  },
  {
   "cell_type": "code",
   "execution_count": 167,
   "id": "34a65686",
   "metadata": {
    "ExecuteTime": {
     "end_time": "2022-09-14T02:43:06.021411Z",
     "start_time": "2022-09-14T02:43:05.956858Z"
    }
   },
   "outputs": [
    {
     "name": "stdout",
     "output_type": "stream",
     "text": [
      "\n",
      "best fit for Fenton-Karma: RMSE: 0.0671 Hz/cm^2, amax: 1.7200 cm^2/s\n",
      "input_fn_fk='/home/timothytyree/Documents/GitHub/bgmc/python/data/osg_output/run_18_all/job.out.16106771.52'\n"
     ]
    }
   ],
   "source": []
  },
  {
   "cell_type": "code",
   "execution_count": 168,
   "id": "04f10c6a",
   "metadata": {
    "ExecuteTime": {
     "end_time": "2022-09-14T02:56:25.327667Z",
     "start_time": "2022-09-14T02:56:25.263499Z"
    }
   },
   "outputs": [
    {
     "name": "stdout",
     "output_type": "stream",
     "text": [
      "\n",
      "parameter settings of best fits:\n",
      "         r        D     L    kappa  varkappa   x0  neighbor         model\n",
      "0  0.12667  0.00000  10.0  200.000   1.72202  0.0       0.0  Fenton-Karma\n",
      "1  0.15693  0.46368  10.0  290.921   9.22091  0.0       0.0      Luo-Rudy\n"
     ]
    },
    {
     "ename": "TypeError",
     "evalue": "unsupported format string passed to Series.__format__",
     "output_type": "error",
     "traceback": [
      "\u001b[0;31m---------------------------------------------------------------------------\u001b[0m",
      "\u001b[0;31mTypeError\u001b[0m                                 Traceback (most recent call last)",
      "Input \u001b[0;32mIn [168]\u001b[0m, in \u001b[0;36m<cell line: 50>\u001b[0;34m()\u001b[0m\n\u001b[1;32m     46\u001b[0m \u001b[38;5;28mprint\u001b[39m(pd\u001b[38;5;241m.\u001b[39mDataFrame((dict_min_fk,dict_min_lr))\\\n\u001b[1;32m     47\u001b[0m       \u001b[38;5;241m.\u001b[39mdrop(columns\u001b[38;5;241m=\u001b[39m[\u001b[38;5;124m'\u001b[39m\u001b[38;5;124mforce_code\u001b[39m\u001b[38;5;124m'\u001b[39m,\u001b[38;5;124m'\u001b[39m\u001b[38;5;124mq\u001b[39m\u001b[38;5;124m'\u001b[39m,\u001b[38;5;124m'\u001b[39m\u001b[38;5;124mw\u001b[39m\u001b[38;5;124m'\u001b[39m,\u001b[38;5;124m'\u001b[39m\u001b[38;5;124mno_attraction\u001b[39m\u001b[38;5;124m'\u001b[39m,\u001b[38;5;124m'\u001b[39m\u001b[38;5;124mno_repulsion\u001b[39m\u001b[38;5;124m'\u001b[39m,\u001b[38;5;124m'\u001b[39m\u001b[38;5;124mset_second\u001b[39m\u001b[38;5;124m'\u001b[39m,\u001b[38;5;124m'\u001b[39m\u001b[38;5;124mniter\u001b[39m\u001b[38;5;124m'\u001b[39m,\u001b[38;5;124m'\u001b[39m\u001b[38;5;124mreflect\u001b[39m\u001b[38;5;124m'\u001b[39m,\u001b[38;5;124m'\u001b[39m\u001b[38;5;124mDt\u001b[39m\u001b[38;5;124m'\u001b[39m,\u001b[38;5;124m'\u001b[39m\u001b[38;5;124mdt\u001b[39m\u001b[38;5;124m'\u001b[39m,\u001b[38;5;124m'\u001b[39m\u001b[38;5;124mN\u001b[39m\u001b[38;5;124m'\u001b[39m,\u001b[38;5;124m'\u001b[39m\u001b[38;5;124mCollTime\u001b[39m\u001b[38;5;124m'\u001b[39m]))\n\u001b[1;32m     49\u001b[0m rmse_lr\u001b[38;5;241m=\u001b[39mdict_defects_lr[\u001b[38;5;124m'\u001b[39m\u001b[38;5;124mrmse\u001b[39m\u001b[38;5;124m'\u001b[39m]\n\u001b[0;32m---> 50\u001b[0m \u001b[38;5;28mprint\u001b[39m(\u001b[38;5;124mf\u001b[39m\u001b[38;5;124m\"\u001b[39m\u001b[38;5;130;01m\\n\u001b[39;00m\u001b[38;5;124mbest fit for Fenton-Karma: RMSE: \u001b[39m\u001b[38;5;132;01m{\u001b[39;00mrmse_fk\u001b[38;5;132;01m:\u001b[39;00m\u001b[38;5;124m.4f\u001b[39m\u001b[38;5;132;01m}\u001b[39;00m\u001b[38;5;124m, amax: \u001b[39m\u001b[38;5;132;01m{\u001b[39;00mamax_fk\u001b[38;5;132;01m:\u001b[39;00m\u001b[38;5;124m.4f\u001b[39m\u001b[38;5;132;01m}\u001b[39;00m\u001b[38;5;124m \u001b[39m\u001b[38;5;124m\"\u001b[39m)\n\u001b[1;32m     51\u001b[0m \u001b[38;5;28mprint\u001b[39m(\u001b[38;5;124mf\u001b[39m\u001b[38;5;124m\"\u001b[39m\u001b[38;5;132;01m{\u001b[39;00minput_fn_fk\u001b[38;5;132;01m=}\u001b[39;00m\u001b[38;5;124m\"\u001b[39m)\n\u001b[1;32m     52\u001b[0m \u001b[38;5;28mprint\u001b[39m(\u001b[38;5;124mf\u001b[39m\u001b[38;5;124m\"\u001b[39m\u001b[38;5;130;01m\\n\u001b[39;00m\u001b[38;5;124mbest fit for Luo-Rudy: RMSE: \u001b[39m\u001b[38;5;132;01m{\u001b[39;00mrmse_lr\u001b[38;5;132;01m:\u001b[39;00m\u001b[38;5;124m.4f\u001b[39m\u001b[38;5;132;01m}\u001b[39;00m\u001b[38;5;124m, amax: \u001b[39m\u001b[38;5;132;01m{\u001b[39;00mamax_lr\u001b[38;5;132;01m:\u001b[39;00m\u001b[38;5;124m.4f\u001b[39m\u001b[38;5;132;01m}\u001b[39;00m\u001b[38;5;124m \u001b[39m\u001b[38;5;124m\"\u001b[39m)\n",
      "\u001b[0;31mTypeError\u001b[0m: unsupported format string passed to Series.__format__"
     ]
    }
   ],
   "source": [
    "#find best simulation for the FK model so far\n",
    "input_folder = f'/home/timothytyree/Documents/GitHub/bgmc/python/data/osg_output/run_{run_num}_all'\n",
    "# cluster_index,job_index = df_defects_fk[df_defects_fk['rmse'] == df_defects_fk['rmse'].min()][['cluster_index','job_index']].values.T\n",
    "cluster_index,job_index = gmin_fk[gmin_fk['rmse'] == gmin_fk['rmse'].min()][['cluster_index','job_index']].values.T\n",
    "input_fn = os.path.join(input_folder,f\"job.out.{int(cluster_index)}.{int(job_index)}\")\n",
    "assert os.path.exists(input_fn)\n",
    "input_fn_fk=input_fn\n",
    "\n",
    "\n",
    "# df_fit_fk,dict_linear_fit_fk = routine_measure_annihilation_defect(input_fn,printing=True)#,**kwargs)\n",
    "# dict_defects_fk,dict_defects_lr = parse_dict_linear_to_row(dic = dict_linear_fit_fk)\n",
    "# print(f\"best fit for FK has RMSE: {dict_defects_fk['rmse']:.4f} (FK), {dict_defects_lr['rmse']:.4f} (LR)\")\n",
    "# amax_fk=dict_linear_fit_fk['dict_min']['D']*2+dict_linear_fit_fk['dict_min']['varkappa']\n",
    "# rmse_fk=dict_defects_fk['rmse']\n",
    "amax_fk=gmin_fk['amax']\n",
    "rmse_fk=gmin_fk['rmse']\n",
    "\n",
    "\n",
    "\n",
    "# print(f\"best fit of linear particle model fit to FK ({amax=:.4f}):\")\n",
    "# print_dict(dict_linear_fit_fk['dict_min'])\n",
    "#DONE: find best simulation for the LR model so far\n",
    "# cluster_index,job_index = df_defects_lr[df_defects_lr['rmse'] == df_defects_lr['rmse'].min()][['cluster_index','job_index']].values.T\n",
    "cluster_index,job_index = gmin_lr[gmin_lr['rmse'] == gmin_lr['rmse'].min()][['cluster_index','job_index']].values.T\n",
    "input_fn = os.path.join(input_folder,f\"job.out.{int(cluster_index)}.{int(job_index)}\")\n",
    "assert os.path.exists(input_fn)\n",
    "input_fn_lr=input_fn\n",
    "\n",
    "df_fit_lr,dict_linear_fit_lr = routine_measure_annihilation_defect(input_fn,printing=True)#,**kwargs)\n",
    "dict_defects_fk,dict_defects_lr = parse_dict_linear_to_row(dic = dict_linear_fit_lr)\n",
    "# print(f\"best fit for LR has RMSE: {dict_defects_fk['rmse']:.4f} (FK), {dict_defects_lr['rmse']:.4f} (LR)\")\n",
    "# dict_defects_fk\n",
    "amax_lr=dict_linear_fit_lr['dict_min']['D']*2+dict_linear_fit_lr['dict_min']['varkappa']\n",
    "# print(f\"best fit of linear particle model fit to LR ({amax=:.4f}):\")\n",
    "# print_dict(dict_linear_fit_lr['dict_min'])\n",
    "# print(f\"src: {input_fn}\")\n",
    "\n",
    "#print the best fitting parameter settings\n",
    "dict_min_fk=dict_linear_fit_fk['dict_min']\n",
    "dict_min_fk['model']='Fenton-Karma'\n",
    "\n",
    "dict_min_lr=dict_linear_fit_lr['dict_min']\n",
    "dict_min_lr['model']='Luo-Rudy'\n",
    "\n",
    "print(f\"\\nparameter settings of best fits:\")\n",
    "print(pd.DataFrame((dict_min_fk,dict_min_lr))\\\n",
    "      .drop(columns=['force_code','q','w','no_attraction','no_repulsion','set_second','niter','reflect','Dt','dt','N','CollTime']))\n",
    "\n",
    "rmse_lr=dict_defects_lr['rmse']\n",
    "print(f\"\\nbest fit for Fenton-Karma: RMSE: {rmse_fk:.4f}, amax: {amax_fk:.4f} \")\n",
    "print(f\"{input_fn_fk=}\")\n",
    "print(f\"\\nbest fit for Luo-Rudy: RMSE: {rmse_lr:.4f}, amax: {amax_lr:.4f} \")\n",
    "print(f\"{input_fn_lr=}\")"
   ]
  },
  {
   "cell_type": "code",
   "execution_count": 148,
   "id": "04dc4789",
   "metadata": {
    "ExecuteTime": {
     "end_time": "2022-09-14T02:32:14.174281Z",
     "start_time": "2022-09-14T02:32:13.689143Z"
    }
   },
   "outputs": [
    {
     "data": {
      "image/png": "[encoded data removed]",
      "text/plain": [
       "<Figure size 600x400 with 1 Axes>"
      ]
     },
     "metadata": {},
     "output_type": "display_data"
    }
   ],
   "source": [
    "#plot the original annihilation rates\n",
    "dict_wjr = recall_death_rates_vidmar_rappel()\n",
    "fk=dict_wjr['fk']\n",
    "lr=dict_wjr['lr']\n",
    "figsize = (6, 4)  #(5,4)\n",
    "fontsize=18\n",
    "fig, ax = plt.subplots(figsize=figsize)\n",
    "df_fit_fk.plot(x='q',y='w',alpha=0.7,ax=ax,color='k',label='_Best Fit to FK')\n",
    "df_fit_lr.plot(x='q',y='w',alpha=0.7,ax=ax,color='k',label='_Best Fit to LR')\n",
    "ax = plot_death_rates_loglog_full(fk,lr,ax=ax,fontsize=fontsize)\n",
    "# ax.legend(loc='upper left',fontsize=fontsize-2)\n",
    "ax.legend(loc='lower right',fontsize=fontsize-2.,frameon=False)\n",
    "#add annotation\n",
    "xy=(0.3, 11)\n",
    "# xytext=(0.09, 10)\n",
    "xytext=(0.01, 70)\n",
    "ax.annotate(r\"best fit ($a>0$)\", xy=xy, xytext=xytext,fontsize=fontsize)\n",
    "#add marker showing the slope of ~2\n",
    "# annotation.slope_marker(origin=(2.3, 2.0),\n",
    "#                         slope=2,\n",
    "#                         text_kwargs={'color': 'black','fontsize':16, 'alpha':0.7},\n",
    "#                         poly_kwargs={'facecolor': (0.5, 0.5, 0.5), 'alpha':0.5},\n",
    "#                         ax=ax)\n",
    "plt.show()"
   ]
  },
  {
   "cell_type": "markdown",
   "id": "cb6926f1",
   "metadata": {},
   "source": [
    "# line plots of minimum locus traced by constant amax=alinear+2D and increasing D"
   ]
  },
  {
   "cell_type": "code",
   "execution_count": 136,
   "id": "095bbd31",
   "metadata": {
    "ExecuteTime": {
     "end_time": "2022-09-14T02:17:09.917496Z",
     "start_time": "2022-09-14T02:17:09.864505Z"
    }
   },
   "outputs": [
    {
     "data": {
      "text/html": [
       "<div>\n",
       "<style scoped>\n",
       "    .dataframe tbody tr th:only-of-type {\n",
       "        vertical-align: middle;\n",
       "    }\n",
       "\n",
       "    .dataframe tbody tr th {\n",
       "        vertical-align: top;\n",
       "    }\n",
       "\n",
       "    .dataframe thead th {\n",
       "        text-align: right;\n",
       "    }\n",
       "</style>\n",
       "<table border=\"1\" class=\"dataframe\">\n",
       "  <thead>\n",
       "    <tr style=\"text-align: right;\">\n",
       "      <th></th>\n",
       "      <th>num_obs</th>\n",
       "      <th>qmin</th>\n",
       "      <th>qmax</th>\n",
       "      <th>rmse</th>\n",
       "      <th>log_likelihood</th>\n",
       "      <th>emin</th>\n",
       "      <th>emax</th>\n",
       "      <th>lemin</th>\n",
       "      <th>lemax</th>\n",
       "      <th>no_repulsion</th>\n",
       "      <th>...</th>\n",
       "      <th>q_hi</th>\n",
       "      <th>N_lo</th>\n",
       "      <th>N_hi</th>\n",
       "      <th>w_lo</th>\n",
       "      <th>w_hi</th>\n",
       "      <th>CollTime_lo</th>\n",
       "      <th>CollTime_hi</th>\n",
       "      <th>cluster_index</th>\n",
       "      <th>job_index</th>\n",
       "      <th>amax</th>\n",
       "    </tr>\n",
       "  </thead>\n",
       "  <tbody>\n",
       "    <tr>\n",
       "      <th>3</th>\n",
       "      <td>19</td>\n",
       "      <td>0.24</td>\n",
       "      <td>0.96</td>\n",
       "      <td>4.341525</td>\n",
       "      <td>-18.848653</td>\n",
       "      <td>-0.150856</td>\n",
       "      <td>10.680337</td>\n",
       "      <td>-0.150856</td>\n",
       "      <td>10.680337</td>\n",
       "      <td>0.0</td>\n",
       "      <td>...</td>\n",
       "      <td>4.0</td>\n",
       "      <td>6.0</td>\n",
       "      <td>100.0</td>\n",
       "      <td>0.231570</td>\n",
       "      <td>606.060606</td>\n",
       "      <td>0.000066</td>\n",
       "      <td>0.172734</td>\n",
       "      <td>22996017</td>\n",
       "      <td>7420</td>\n",
       "      <td>1.78</td>\n",
       "    </tr>\n",
       "    <tr>\n",
       "      <th>11768</th>\n",
       "      <td>19</td>\n",
       "      <td>0.24</td>\n",
       "      <td>0.96</td>\n",
       "      <td>49.177964</td>\n",
       "      <td>-41.913567</td>\n",
       "      <td>-0.107489</td>\n",
       "      <td>108.475116</td>\n",
       "      <td>-0.107489</td>\n",
       "      <td>108.475116</td>\n",
       "      <td>0.0</td>\n",
       "      <td>...</td>\n",
       "      <td>4.0</td>\n",
       "      <td>6.0</td>\n",
       "      <td>100.0</td>\n",
       "      <td>0.274937</td>\n",
       "      <td>2000.000000</td>\n",
       "      <td>0.000020</td>\n",
       "      <td>0.145488</td>\n",
       "      <td>22996017</td>\n",
       "      <td>17436</td>\n",
       "      <td>1.78</td>\n",
       "    </tr>\n",
       "    <tr>\n",
       "      <th>11779</th>\n",
       "      <td>19</td>\n",
       "      <td>0.24</td>\n",
       "      <td>0.96</td>\n",
       "      <td>6.015207</td>\n",
       "      <td>-22.292509</td>\n",
       "      <td>-0.152411</td>\n",
       "      <td>14.749156</td>\n",
       "      <td>-0.152411</td>\n",
       "      <td>14.749156</td>\n",
       "      <td>0.0</td>\n",
       "      <td>...</td>\n",
       "      <td>4.0</td>\n",
       "      <td>6.0</td>\n",
       "      <td>100.0</td>\n",
       "      <td>0.230015</td>\n",
       "      <td>909.090909</td>\n",
       "      <td>0.000044</td>\n",
       "      <td>0.173902</td>\n",
       "      <td>22996017</td>\n",
       "      <td>7876</td>\n",
       "      <td>1.78</td>\n",
       "    </tr>\n",
       "    <tr>\n",
       "      <th>11783</th>\n",
       "      <td>19</td>\n",
       "      <td>0.24</td>\n",
       "      <td>0.96</td>\n",
       "      <td>15.777854</td>\n",
       "      <td>-33.755643</td>\n",
       "      <td>-0.115355</td>\n",
       "      <td>35.080201</td>\n",
       "      <td>-0.115355</td>\n",
       "      <td>35.080201</td>\n",
       "      <td>0.0</td>\n",
       "      <td>...</td>\n",
       "      <td>4.0</td>\n",
       "      <td>6.0</td>\n",
       "      <td>100.0</td>\n",
       "      <td>0.267071</td>\n",
       "      <td>816.326531</td>\n",
       "      <td>0.000049</td>\n",
       "      <td>0.149773</td>\n",
       "      <td>22996017</td>\n",
       "      <td>16236</td>\n",
       "      <td>1.78</td>\n",
       "    </tr>\n",
       "    <tr>\n",
       "      <th>11785</th>\n",
       "      <td>19</td>\n",
       "      <td>0.24</td>\n",
       "      <td>0.96</td>\n",
       "      <td>2.903861</td>\n",
       "      <td>-14.252780</td>\n",
       "      <td>-0.149323</td>\n",
       "      <td>6.419529</td>\n",
       "      <td>-0.149323</td>\n",
       "      <td>6.419529</td>\n",
       "      <td>0.0</td>\n",
       "      <td>...</td>\n",
       "      <td>4.0</td>\n",
       "      <td>6.0</td>\n",
       "      <td>100.0</td>\n",
       "      <td>0.233103</td>\n",
       "      <td>353.982301</td>\n",
       "      <td>0.000113</td>\n",
       "      <td>0.171598</td>\n",
       "      <td>22996017</td>\n",
       "      <td>7304</td>\n",
       "      <td>1.78</td>\n",
       "    </tr>\n",
       "  </tbody>\n",
       "</table>\n",
       "<p>5 rows × 35 columns</p>\n",
       "</div>"
      ],
      "text/plain": [
       "       num_obs  qmin  qmax       rmse  log_likelihood      emin        emax  \\\n",
       "3           19  0.24  0.96   4.341525      -18.848653 -0.150856   10.680337   \n",
       "11768       19  0.24  0.96  49.177964      -41.913567 -0.107489  108.475116   \n",
       "11779       19  0.24  0.96   6.015207      -22.292509 -0.152411   14.749156   \n",
       "11783       19  0.24  0.96  15.777854      -33.755643 -0.115355   35.080201   \n",
       "11785       19  0.24  0.96   2.903861      -14.252780 -0.149323    6.419529   \n",
       "\n",
       "          lemin       lemax  no_repulsion  ...  q_hi  N_lo   N_hi      w_lo  \\\n",
       "3     -0.150856   10.680337           0.0  ...   4.0   6.0  100.0  0.231570   \n",
       "11768 -0.107489  108.475116           0.0  ...   4.0   6.0  100.0  0.274937   \n",
       "11779 -0.152411   14.749156           0.0  ...   4.0   6.0  100.0  0.230015   \n",
       "11783 -0.115355   35.080201           0.0  ...   4.0   6.0  100.0  0.267071   \n",
       "11785 -0.149323    6.419529           0.0  ...   4.0   6.0  100.0  0.233103   \n",
       "\n",
       "              w_hi  CollTime_lo  CollTime_hi  cluster_index  job_index  amax  \n",
       "3       606.060606     0.000066     0.172734       22996017       7420  1.78  \n",
       "11768  2000.000000     0.000020     0.145488       22996017      17436  1.78  \n",
       "11779   909.090909     0.000044     0.173902       22996017       7876  1.78  \n",
       "11783   816.326531     0.000049     0.149773       22996017      16236  1.78  \n",
       "11785   353.982301     0.000113     0.171598       22996017       7304  1.78  \n",
       "\n",
       "[5 rows x 35 columns]"
      ]
     },
     "execution_count": 136,
     "metadata": {},
     "output_type": "execute_result"
    }
   ],
   "source": [
    "model_name='Fenton-Karma'\n",
    "amax=float(amax_fk)\n",
    "gmin=gmin_fk.sort_values(by='D').copy()\n",
    "\n",
    "# model_name='Luo-Rudy'\n",
    "# amax=float(amax_lr)\n",
    "# gmin=gmin_lr.sort_values(by='D').copy()\n",
    "\n",
    "gmin.head()"
   ]
  },
  {
   "cell_type": "code",
   "execution_count": 137,
   "id": "7a807fb2",
   "metadata": {
    "ExecuteTime": {
     "end_time": "2022-09-14T02:17:10.449265Z",
     "start_time": "2022-09-14T02:17:10.288010Z"
    }
   },
   "outputs": [
    {
     "data": {
      "image/png": "[encoded data removed]",
      "text/plain": [
       "<Figure size 600x400 with 1 Axes>"
      ]
     },
     "metadata": {},
     "output_type": "display_data"
    }
   ],
   "source": [
    "fontsize=14\n",
    "fig,ax=plt.subplots(figsize=(6,4))\n",
    "gmin.plot(x='D',y='rmse',ax=ax)\n",
    "# gmin.plot(x='D',y='log_likelihood')\n",
    "# gmin.plot(x='D',y='r')\n",
    "format_plot(ax=ax,xlabel=r'$D$ (cm$^2$/s)',ylabel=r'RMSE (Hz/cm$^2$)',fontsize=fontsize)\n",
    "ax.set_title(\"Fits to \"+model_name+f'\\n'+r'with $a_{max}$='+f'{amax:.2f}'+r' cm$^2$/s'+f' fixed\\n',fontsize=fontsize)\n",
    "plt.show()"
   ]
  },
  {
   "cell_type": "code",
   "execution_count": null,
   "id": "79cee330",
   "metadata": {},
   "outputs": [],
   "source": []
  },
  {
   "cell_type": "markdown",
   "id": "4bdcd920",
   "metadata": {},
   "source": [
    "# plot loss heatmap in r/L,1/kappa plane "
   ]
  },
  {
   "cell_type": "code",
   "execution_count": null,
   "id": "3ed095c4",
   "metadata": {},
   "outputs": [],
   "source": [
    "print(df_defects_lr.describe()[['r','kappa','D','varkappa','amax','L']].T[['min','max','count']].T)"
   ]
  },
  {
   "cell_type": "code",
   "execution_count": null,
   "id": "4ef04f99",
   "metadata": {},
   "outputs": [],
   "source": []
  },
  {
   "cell_type": "code",
   "execution_count": null,
   "id": "e93bf9ef",
   "metadata": {},
   "outputs": [],
   "source": [
    "amax=1.78 #FK 200x200 diffCoeff=0.0005, src: wj"
   ]
  },
  {
   "cell_type": "code",
   "execution_count": 9,
   "id": "67c1959b",
   "metadata": {
    "ExecuteTime": {
     "end_time": "2022-09-13T21:35:27.803186Z",
     "start_time": "2022-09-13T21:35:27.272902Z"
    }
   },
   "outputs": [
    {
     "ename": "NameError",
     "evalue": "name 'X' is not defined",
     "output_type": "error",
     "traceback": [
      "\u001b[0;31m---------------------------------------------------------------------------\u001b[0m",
      "\u001b[0;31mNameError\u001b[0m                                 Traceback (most recent call last)",
      "Input \u001b[0;32mIn [9]\u001b[0m, in \u001b[0;36m<cell line: 1>\u001b[0;34m()\u001b[0m\n\u001b[0;32m----> 1\u001b[0m x1_values,x2_values,y_values\u001b[38;5;241m=\u001b[39minterp_txt_from_scatter(\u001b[43mX\u001b[49m,y)\n",
      "\u001b[0;31mNameError\u001b[0m: name 'X' is not defined"
     ]
    }
   ],
   "source": [
    "x1_values,x2_values,y_values=interp_txt_from_scatter(X,y)\n"
   ]
  },
  {
   "cell_type": "code",
   "execution_count": null,
   "id": "1b240807",
   "metadata": {
    "ExecuteTime": {
     "end_time": "2022-09-13T21:35:27.805959Z",
     "start_time": "2022-09-13T21:35:27.805935Z"
    }
   },
   "outputs": [],
   "source": [
    "#generate 2 coordinate grids for the x & y bounds\n",
    "num_trials,num_neurons = error_code_array.shape\n",
    "xcoord_values = np.arange(num_trials+1)  #as corners of pixels\n",
    "ycoord_values = np.arange(num_neurons+1) #as corners of pixels\n",
    "x, y = np.meshgrid(xcoord_values, ycoord_values)\n",
    "y=y[::-1,::-1].copy() #flip y axis\n",
    "z=spike_count_array.copy().T\n",
    "zerr=error_code_array.copy().T\n",
    "x.shape,y.shape,z.shape"
   ]
  },
  {
   "cell_type": "code",
   "execution_count": null,
   "id": "9a1bf8f6",
   "metadata": {
    "ExecuteTime": {
     "end_time": "2022-09-13T21:35:27.808129Z",
     "start_time": "2022-09-13T21:35:27.808104Z"
    }
   },
   "outputs": [],
   "source": [
    "#visualize heatmap showing the number of spikes per trial,neuron pair\n",
    "# title_str = \"All\"\n",
    "title = 'Spike Counts For '\n",
    "title+= title_str + ' Trials\\n'\n",
    "vmin=1\n",
    "vmax=150.#np.max(z)\n",
    "# vmax=np.max(z)\n",
    "# fontsize=14\n",
    "# figsize=(16,6)\n",
    "cmap='jet'#'PuBu_r'#\n",
    "fig, ax = plt.subplots(figsize=figsize,constrained_layout=True)\n",
    "ax = GridValuePlotter_colorbar(fig,ax,x,y,z,title,cmap,vmin,vmax,\n",
    "        fontsize=14,xlabel='Trial',ylabel='Neuron')#,**kwargs)\n",
    "# ax = GridValuePlotter_colorbar(fig,ax,x,y,z,title,cmap,vmin,vmax,\n",
    "#                               fontsize=14, xlabel='Trial', ylabel='Neuron', cbar_label='Number of Spikes',\n",
    "#                               fraction=0.07, shrink=0.85, aspect=35, orientation='horizontal', extend='max')#,**kwargs)\n",
    "plt.show()"
   ]
  },
  {
   "cell_type": "code",
   "execution_count": null,
   "id": "e94f5ea0",
   "metadata": {
    "ExecuteTime": {
     "end_time": "2022-09-13T21:35:27.809467Z",
     "start_time": "2022-09-13T21:35:27.809447Z"
    }
   },
   "outputs": [],
   "source": [
    "ax = GridValuePlotter_colorbar(fig,ax,x,y,z,title,cmap,vmin,vmax,\n",
    "                              fontsize=14, xlabel='Trial', ylabel='Neuron', cbar_label='Number of Spikes',\n",
    "                              fraction=0.07, shrink=0.85, aspect=35, orientation='horizontal', extend='max')#,**kwargs)"
   ]
  },
  {
   "cell_type": "code",
   "execution_count": null,
   "id": "a172e494",
   "metadata": {},
   "outputs": [],
   "source": []
  },
  {
   "cell_type": "markdown",
   "id": "cc97ea3b",
   "metadata": {},
   "source": [
    "# TODO: visualize the loss function as a stream plot in r,kappa space"
   ]
  },
  {
   "cell_type": "markdown",
   "id": "32157455",
   "metadata": {},
   "source": [
    "# TODO(later): make a sexy 3D plots in r,kappa,alinear space (scaled to L=1)"
   ]
  },
  {
   "cell_type": "markdown",
   "id": "6fa78742",
   "metadata": {},
   "source": [
    "__Scrum: dev visualization__\n",
    "\n",
    "1. select dg from df with same amax and neighbors setting\n",
    "1. for each D in dg plot heat map of r,kappa colored by the Loss function\n",
    "    - do ibid for Loss=RMSE\n",
    "    - do ibid for Loss=Neg-Log-Likelihood/Entropy\n",
    "1. plot the streamplot of the Loss in r,kappa\n",
    "1. pick a direction to move outward from and measure the increase in Loss as you move away\n",
    "1. Q: is there a simple functional form in that direction?\n",
    "1. Q: how does ibid compare to other directions?\n"
   ]
  },
  {
   "cell_type": "code",
   "execution_count": null,
   "id": "888284af",
   "metadata": {},
   "outputs": [],
   "source": []
  },
  {
   "cell_type": "code",
   "execution_count": null,
   "id": "d9983c54",
   "metadata": {},
   "outputs": [],
   "source": []
  },
  {
   "cell_type": "code",
   "execution_count": null,
   "id": "e14c95f8",
   "metadata": {},
   "outputs": [],
   "source": []
  }
 ],
 "metadata": {
  "hide_input": false,
  "kernelspec": {
   "display_name": "Python 3 (ipykernel)",
   "language": "python",
   "name": "python3"
  },
  "language_info": {
   "codemirror_mode": {
    "name": "ipython",
    "version": 3
   },
   "file_extension": ".py",
   "mimetype": "text/x-python",
   "name": "python",
   "nbconvert_exporter": "python",
   "pygments_lexer": "ipython3",
   "version": "3.9.5"
  },
  "latex_envs": {
   "LaTeX_envs_menu_present": true,
   "autoclose": true,
   "autocomplete": false,
   "bibliofile": "biblio.bib",
   "cite_by": "apalike",
   "current_citInitial": 1,
   "eqLabelWithNumbers": false,
   "eqNumInitial": 1,
   "hotkeys": {
    "equation": "Ctrl-E",
    "itemize": "Ctrl-I"
   },
   "labels_anchors": false,
   "latex_user_defs": false,
   "report_style_numbering": false,
   "user_envs_cfg": false
  },
  "nbTranslate": {
   "displayLangs": [
    "*"
   ],
   "hotkey": "alt-t",
   "langInMainMenu": true,
   "sourceLang": "en",
   "targetLang": "fr",
   "useGoogleTranslate": true
  },
  "toc": {
   "base_numbering": 1,
   "nav_menu": {},
   "number_sections": true,
   "sideBar": true,
   "skip_h1_title": false,
   "title_cell": "Table of Contents",
   "title_sidebar": "Contents",
   "toc_cell": false,
   "toc_position": {},
   "toc_section_display": true,
   "toc_window_display": false
  }
 },
 "nbformat": 4,
 "nbformat_minor": 5
}
