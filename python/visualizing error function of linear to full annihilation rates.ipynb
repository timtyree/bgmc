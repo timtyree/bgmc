{
 "cells": [
  {
   "cell_type": "markdown",
   "id": "f40d11a3",
   "metadata": {},
   "source": [
    "# visualizing loss function\n",
    "Tim Tyre<br>\n",
    "9.13.2022"
   ]
  },
  {
   "cell_type": "code",
   "execution_count": 15,
   "id": "db9d82e3",
   "metadata": {
    "ExecuteTime": {
     "end_time": "2022-10-19T21:28:59.793815Z",
     "start_time": "2022-10-19T21:28:59.768327Z"
    }
   },
   "outputs": [
    {
     "name": "stdout",
     "output_type": "stream",
     "text": [
      "The autoreload extension is already loaded. To reload it, use:\n",
      "  %reload_ext autoreload\n",
      "The autoreload extension is already loaded. To reload it, use:\n",
      "  %reload_ext autoreload\n"
     ]
    }
   ],
   "source": [
    "from lib.my_initialization import *\n",
    "from lib import *\n",
    "#from lib.lib_care.measure.level_sets import comp_longest_level_set_and_smooth\n",
    "%load_ext autoreload\n",
    "%autoreload 2\n",
    "\n",
    "import random,scipy\n",
    "from scipy.interpolate import LinearNDInterpolator\n",
    "from scipy.interpolate import CloughTocher2DInterpolator\n",
    "from scipy.optimize import minimize\n",
    "#load libraries for color bar\n",
    "import matplotlib as mpl #for colorbar\n",
    "from matplotlib.cm import ScalarMappable\n",
    "import matplotlib.colors as colors\n",
    "import matplotlib.cbook as cbook\n",
    "from matplotlib import cm\n",
    "#def plotter_3dpoint_cloud_sample(az,...):\n",
    "from scipy import stats\n",
    "#DONE: hook this routine up to dask\n",
    "#DONT: hook this routine up to dask_cuda\n",
    "# import scanpy as sc\n",
    "darkmode=False\n",
    "if darkmode:\n",
    "    # For darkmode plots\n",
    "    from jupyterthemes import jtplot\n",
    "    jtplot.style(theme='monokai', context='notebook', ticks=True, grid=False)\n",
    "#     theme=cuxfilter.themes.dark\n",
    "#     #     theme=cuxfilter.themes.rapids\n",
    "else:\n",
    "    sns.set_style('white')\n",
    "#     theme=cuxfilter.themes.light\n",
    "import warnings\n",
    "warnings.simplefilter(\"ignore\", UserWarning)\n",
    "%load_ext autoreload\n",
    "%autoreload 2\n",
    "# import cupy as cp\n",
    "np.random.seed(42)\n",
    "# cp.random.seed(42)"
   ]
  },
  {
   "cell_type": "code",
   "execution_count": 55,
   "id": "917be19d",
   "metadata": {
    "ExecuteTime": {
     "end_time": "2022-10-19T22:00:52.886639Z",
     "start_time": "2022-10-19T22:00:52.868274Z"
    }
   },
   "outputs": [],
   "source": [
    "#reset matplotlib settings\n",
    "from mpltools import annotation\n",
    "import matplotlib as mpl\n",
    "sns.reset_orig()\n",
    "mpl.rc_file_defaults()"
   ]
  },
  {
   "cell_type": "code",
   "execution_count": 17,
   "id": "abc53bb5",
   "metadata": {
    "ExecuteTime": {
     "end_time": "2022-10-19T21:29:00.744147Z",
     "start_time": "2022-10-19T21:29:00.725566Z"
    }
   },
   "outputs": [],
   "source": [
    "from lib.lib_care.routines.interp_texture_from_scatter_data import interp_txt_from_scatter"
   ]
  },
  {
   "cell_type": "markdown",
   "id": "eb4631ad",
   "metadata": {},
   "source": [
    "# define module"
   ]
  },
  {
   "cell_type": "markdown",
   "id": "76dfb280",
   "metadata": {
    "heading_collapsed": true
   },
   "source": [
    "# print exponent of mle fits to full at each $a$ value\n",
    "Q: which estimators of $a$ did best at reproducing the exponent of mean annihilation rate density observed from the full models?"
   ]
  },
  {
   "cell_type": "code",
   "execution_count": 488,
   "id": "1c92c2b0",
   "metadata": {
    "ExecuteTime": {
     "end_time": "2022-10-20T02:22:29.511499Z",
     "start_time": "2022-10-20T02:22:29.493698Z"
    },
    "hidden": true
   },
   "outputs": [],
   "source": [
    "kwargs = dict(data_fk_dir=f'{nb_dir}/data/full_results/data_fig4_vidmar_fk_tt.csv',\n",
    "              data_lr_dir=f'{nb_dir}/data/full_results/data_fig4_vidmar_lr_tt.csv',\n",
    "             min_num_particles=9)"
   ]
  },
  {
   "cell_type": "code",
   "execution_count": 489,
   "id": "c5cf1922",
   "metadata": {
    "ExecuteTime": {
     "end_time": "2022-10-20T02:22:30.011717Z",
     "start_time": "2022-10-20T02:22:29.900054Z"
    },
    "hidden": true
   },
   "outputs": [
    {
     "ename": "KeyError",
     "evalue": "'neighbor'",
     "output_type": "error",
     "traceback": [
      "\u001b[0;31m---------------------------------------------------------------------------\u001b[0m",
      "\u001b[0;31mKeyError\u001b[0m                                  Traceback (most recent call last)",
      "File \u001b[0;32m~/miniconda3/envs/pyenv_ub/lib/python3.9/site-packages/pandas/core/indexes/base.py:3629\u001b[0m, in \u001b[0;36mIndex.get_loc\u001b[0;34m(self, key, method, tolerance)\u001b[0m\n\u001b[1;32m   3628\u001b[0m \u001b[38;5;28;01mtry\u001b[39;00m:\n\u001b[0;32m-> 3629\u001b[0m     \u001b[38;5;28;01mreturn\u001b[39;00m \u001b[38;5;28;43mself\u001b[39;49m\u001b[38;5;241;43m.\u001b[39;49m\u001b[43m_engine\u001b[49m\u001b[38;5;241;43m.\u001b[39;49m\u001b[43mget_loc\u001b[49m\u001b[43m(\u001b[49m\u001b[43mcasted_key\u001b[49m\u001b[43m)\u001b[49m\n\u001b[1;32m   3630\u001b[0m \u001b[38;5;28;01mexcept\u001b[39;00m \u001b[38;5;167;01mKeyError\u001b[39;00m \u001b[38;5;28;01mas\u001b[39;00m err:\n",
      "File \u001b[0;32m~/miniconda3/envs/pyenv_ub/lib/python3.9/site-packages/pandas/_libs/index.pyx:136\u001b[0m, in \u001b[0;36mpandas._libs.index.IndexEngine.get_loc\u001b[0;34m()\u001b[0m\n",
      "File \u001b[0;32m~/miniconda3/envs/pyenv_ub/lib/python3.9/site-packages/pandas/_libs/index.pyx:163\u001b[0m, in \u001b[0;36mpandas._libs.index.IndexEngine.get_loc\u001b[0;34m()\u001b[0m\n",
      "File \u001b[0;32mpandas/_libs/hashtable_class_helper.pxi:5198\u001b[0m, in \u001b[0;36mpandas._libs.hashtable.PyObjectHashTable.get_item\u001b[0;34m()\u001b[0m\n",
      "File \u001b[0;32mpandas/_libs/hashtable_class_helper.pxi:5206\u001b[0m, in \u001b[0;36mpandas._libs.hashtable.PyObjectHashTable.get_item\u001b[0;34m()\u001b[0m\n",
      "\u001b[0;31mKeyError\u001b[0m: 'neighbor'",
      "\nThe above exception was the direct cause of the following exception:\n",
      "\u001b[0;31mKeyError\u001b[0m                                  Traceback (most recent call last)",
      "Input \u001b[0;32mIn [489]\u001b[0m, in \u001b[0;36m<cell line: 44>\u001b[0;34m()\u001b[0m\n\u001b[1;32m     55\u001b[0m \u001b[38;5;66;03m#filterby neighbor\u001b[39;00m\n\u001b[1;32m     56\u001b[0m \u001b[38;5;28;01mif\u001b[39;00m use_filterby_neighbor:\n\u001b[0;32m---> 57\u001b[0m     df_defects_fk \u001b[38;5;241m=\u001b[39m df_defects_fk[\u001b[43mdf_defects_fk\u001b[49m\u001b[43m[\u001b[49m\u001b[38;5;124;43m'\u001b[39;49m\u001b[38;5;124;43mneighbor\u001b[39;49m\u001b[38;5;124;43m'\u001b[39;49m\u001b[43m]\u001b[49m\u001b[38;5;241m==\u001b[39mneighbor]\u001b[38;5;241m.\u001b[39mcopy()\n\u001b[1;32m     58\u001b[0m     df_defects_lr \u001b[38;5;241m=\u001b[39m df_defects_lr[df_defects_lr[\u001b[38;5;124m'\u001b[39m\u001b[38;5;124mneighbor\u001b[39m\u001b[38;5;124m'\u001b[39m]\u001b[38;5;241m==\u001b[39mneighbor]\u001b[38;5;241m.\u001b[39mcopy()\n\u001b[1;32m     60\u001b[0m \u001b[38;5;66;03m#compute order parameter for each member a=amax-2*D\u001b[39;00m\n\u001b[1;32m     61\u001b[0m \u001b[38;5;66;03m#add columns for amax\u001b[39;00m\n",
      "File \u001b[0;32m~/miniconda3/envs/pyenv_ub/lib/python3.9/site-packages/pandas/core/frame.py:3505\u001b[0m, in \u001b[0;36mDataFrame.__getitem__\u001b[0;34m(self, key)\u001b[0m\n\u001b[1;32m   3503\u001b[0m \u001b[38;5;28;01mif\u001b[39;00m \u001b[38;5;28mself\u001b[39m\u001b[38;5;241m.\u001b[39mcolumns\u001b[38;5;241m.\u001b[39mnlevels \u001b[38;5;241m>\u001b[39m \u001b[38;5;241m1\u001b[39m:\n\u001b[1;32m   3504\u001b[0m     \u001b[38;5;28;01mreturn\u001b[39;00m \u001b[38;5;28mself\u001b[39m\u001b[38;5;241m.\u001b[39m_getitem_multilevel(key)\n\u001b[0;32m-> 3505\u001b[0m indexer \u001b[38;5;241m=\u001b[39m \u001b[38;5;28;43mself\u001b[39;49m\u001b[38;5;241;43m.\u001b[39;49m\u001b[43mcolumns\u001b[49m\u001b[38;5;241;43m.\u001b[39;49m\u001b[43mget_loc\u001b[49m\u001b[43m(\u001b[49m\u001b[43mkey\u001b[49m\u001b[43m)\u001b[49m\n\u001b[1;32m   3506\u001b[0m \u001b[38;5;28;01mif\u001b[39;00m is_integer(indexer):\n\u001b[1;32m   3507\u001b[0m     indexer \u001b[38;5;241m=\u001b[39m [indexer]\n",
      "File \u001b[0;32m~/miniconda3/envs/pyenv_ub/lib/python3.9/site-packages/pandas/core/indexes/base.py:3631\u001b[0m, in \u001b[0;36mIndex.get_loc\u001b[0;34m(self, key, method, tolerance)\u001b[0m\n\u001b[1;32m   3629\u001b[0m     \u001b[38;5;28;01mreturn\u001b[39;00m \u001b[38;5;28mself\u001b[39m\u001b[38;5;241m.\u001b[39m_engine\u001b[38;5;241m.\u001b[39mget_loc(casted_key)\n\u001b[1;32m   3630\u001b[0m \u001b[38;5;28;01mexcept\u001b[39;00m \u001b[38;5;167;01mKeyError\u001b[39;00m \u001b[38;5;28;01mas\u001b[39;00m err:\n\u001b[0;32m-> 3631\u001b[0m     \u001b[38;5;28;01mraise\u001b[39;00m \u001b[38;5;167;01mKeyError\u001b[39;00m(key) \u001b[38;5;28;01mfrom\u001b[39;00m \u001b[38;5;21;01merr\u001b[39;00m\n\u001b[1;32m   3632\u001b[0m \u001b[38;5;28;01mexcept\u001b[39;00m \u001b[38;5;167;01mTypeError\u001b[39;00m:\n\u001b[1;32m   3633\u001b[0m     \u001b[38;5;66;03m# If we have a listlike key, _check_indexing_error will raise\u001b[39;00m\n\u001b[1;32m   3634\u001b[0m     \u001b[38;5;66;03m#  InvalidIndexError. Otherwise we fall through and re-raise\u001b[39;00m\n\u001b[1;32m   3635\u001b[0m     \u001b[38;5;66;03m#  the TypeError.\u001b[39;00m\n\u001b[1;32m   3636\u001b[0m     \u001b[38;5;28mself\u001b[39m\u001b[38;5;241m.\u001b[39m_check_indexing_error(key)\n",
      "\u001b[0;31mKeyError\u001b[0m: 'neighbor'"
     ]
    }
   ],
   "source": [
    "latest_run_num=29\n",
    "run_num_lst = list(reversed(list(np.arange(14,latest_run_num+1))))\n",
    "# run_num_lst=[25,17]\n",
    "# run_num_lst=[25,19]\n",
    "# run_num_lst=[25,24]\n",
    "# run_num_lst = list(np.arange(12,26))\n",
    "# run_num_lst = list(np.arange(26,14))\n",
    "run_num_lst=[25,18]\n",
    "# run_num_lst=[28,18]\n",
    "run_num_lst=[28,29]\n",
    "# run_num_lst=[25,29]\n",
    "# run_num_lst=[30,29]\n",
    "# run_num_lst=[32,29]\n",
    "run_num_lst=[32,29]\n",
    "#note 31==30...\n",
    "run_num_lst=[28,29]  #what is in Particle_Paper\n",
    "# run_num_lst=[32,33]\n",
    "\n",
    "\n",
    "use_filterby_neighbor=True\n",
    "# neighbor=0\n",
    "neighbor=1\n",
    "\n",
    "use_filterby_minN=True\n",
    "minN=9\n",
    "\n",
    "use_filterby_amax=True\n",
    "min_amax=1.\n",
    "\n",
    "# neighbor=1\n",
    "remove_no_diffusion=True\n",
    "# Dinf=0\n",
    "Dinf=0.01\n",
    "num_digits_round_amax=3\n",
    "# run_num=25 #L=5 cm\n",
    "# run_num=18 #L=10 cm\n",
    "gmin_fk_lst=[]\n",
    "gmin_lr_lst=[]\n",
    "log_dir_fk_lst=[]\n",
    "log_dir_lr_lst=[]\n",
    "dict_results_fk_lst=[]\n",
    "dict_results_lr_lst=[]\n",
    "# for run_num in [25,18]: #chosen exemplar pair\n",
    "for run_num in run_num_lst:\n",
    "    parquet_dir_defects_fk=f'{nb_dir}/data/osg_output/run_{run_num}_defects_to_fk.parquet'\n",
    "    parquet_dir_defects_lr=f'{nb_dir}/data/osg_output/run_{run_num}_defects_to_lr.parquet'\n",
    "    input_folder=f'{nb_dir}/data/osg_output/run_{run_num}_all'\n",
    "#     parquet_dir_defects_fk=f'/home/timothytyree/Documents/GitHub/bgmc/python/data/osg_output/run_{run_num}_defects_to_fk.parquet'\n",
    "#     parquet_dir_defects_lr=f'/home/timothytyree/Documents/GitHub/bgmc/python/data/osg_output/run_{run_num}_defects_to_lr.parquet'\n",
    "#     input_folder=f'/home/timothytyree/Documents/GitHub/bgmc/python/data/osg_output/run_{run_num}_all'\n",
    "    #load data\n",
    "    df_defects_fk=pd.read_parquet(parquet_dir_defects_fk)\n",
    "    df_defects_lr=pd.read_parquet(parquet_dir_defects_lr)\n",
    "    \n",
    "    #filterby neighbor\n",
    "    if use_filterby_neighbor:\n",
    "        df_defects_fk = df_defects_fk[df_defects_fk['neighbor']==neighbor].copy()\n",
    "        df_defects_lr = df_defects_lr[df_defects_lr['neighbor']==neighbor].copy()\n",
    "    \n",
    "    #compute order parameter for each member a=amax-2*D\n",
    "    #add columns for amax\n",
    "    df_defects_fk['amax'] = np.around(df_defects_fk['varkappa'] + 2.*df_defects_fk['D'],num_digits_round_amax)\n",
    "    df_defects_lr['amax'] = np.around(df_defects_lr['varkappa'] + 2.*df_defects_lr['D'],num_digits_round_amax)\n",
    "    \n",
    "    if remove_no_diffusion:\n",
    "        df_defects_fk = df_defects_fk[df_defects_fk['D']>Dinf].copy()\n",
    "        df_defects_lr = df_defects_lr[df_defects_lr['D']>Dinf].copy()\n",
    "        \n",
    "    if use_filterby_amax:\n",
    "        df_defects_fk = df_defects_fk[df_defects_fk['amax']>min_amax].copy()\n",
    "        df_defects_lr = df_defects_lr[df_defects_lr['amax']>min_amax].copy()\n",
    "        \n",
    "    \n",
    "    #identify the lowest error simulation for each amax value\n",
    "    print(f\"\\n**************************************\")\n",
    "    print(f\"* Fenton-Karma Model (best settings):\")\n",
    "    print(f\"**************************************\")\n",
    "    minrmse=9999.\n",
    "    supamax=40.\n",
    "    #supamax=1.8\n",
    "    #supamax=40.\n",
    "    for amax,g in df_defects_fk.groupby(by='amax'):\n",
    "        rmse_min = g['rmse'].min()\n",
    "        count = g['rmse'].count()\n",
    "        log_likelihood = g['log_likelihood'].max()\n",
    "        if (rmse_min<=minrmse)&(amax<=supamax):\n",
    "            minrmse=rmse_min\n",
    "            gmin_fk=g.copy()\n",
    "            print_str =f\"{amax=:.4f}, {rmse_min=:.4f}, {log_likelihood=:.4f}, {count=}\"\n",
    "    print(print_str)\n",
    "    gmin_fk.sort_values(by='D',inplace=True)\n",
    "    \n",
    "\n",
    "    #find best simulation for the full model at this avalue\n",
    "#     dg_fk=gmin_fk[gmin_fk['rmse'] == gmin_fk['rmse'].min()].copy()\n",
    "    dg_fk=gmin_fk[gmin_fk['log_likelihood'] == gmin_fk['log_likelihood'].max()].copy()\n",
    "    dg_fk['run']=run_num\n",
    "    df_defects_fk['run']=run_num\n",
    "    dg_fk['model']='Fenton-Karma'\n",
    "    cluster_index,job_index = dg_fk[['cluster_index','job_index']].values.T\n",
    "    input_fn = os.path.join(input_folder,f\"job.out.{int(cluster_index)}.{int(job_index)}\")\n",
    "    #assert os.path.exists(input_fn)\n",
    "    if os.path.exists(input_fn):\n",
    "        input_fn_fk=input_fn\n",
    "        df_fit_fk,dict_linear_fit_fk = routine_measure_annihilation_defect(input_fn,printing=True,**kwargs)\n",
    "        amax_fk=dg_fk['amax'].median()\n",
    "        rmse_fk=dg_fk['rmse'].median()\n",
    "        L = dg_fk['L'].median()\n",
    "        print(f\"\\nbest fit for Fenton-Karma: RMSE: {rmse_fk:.4f} Hz/cm^2, amax: {amax_fk:.4f} cm^2/s, L: {L} cm\")\n",
    "        print(f\"{input_fn_fk=}\")\n",
    "        #record\n",
    "        dict_results_fk=dict(\n",
    "            model_name='Fenton-Karma',\n",
    "            amax=amax_fk,\n",
    "            rmse=rmse_fk,\n",
    "            L=L,\n",
    "            df_fit=df_fit_fk,\n",
    "            dg_fit=dg_fk,\n",
    "            dict_linear_fit=dict_linear_fit_fk,\n",
    "            filename=input_fn_fk,\n",
    "            gmin=gmin_fk)\n",
    "        dict_results_fk_lst.append(dict_results_fk)\n",
    "        gmin_fk_lst.append(gmin_fk)\n",
    "        log_dir_fk_lst.append(input_fn)\n",
    "    \n",
    "    #identify the lowest error simulation for each amax value\n",
    "    print(f\"\\n**************************************\")\n",
    "    print(f\"* Luo-Rudy Model (best settings):\")\n",
    "    print(f\"**************************************\")\n",
    "    minrmse=9999.\n",
    "    supamax=40\n",
    "    #supamax=10.2\n",
    "    for amax,g in df_defects_lr.groupby(by='amax'):\n",
    "        rmse_min = g['rmse'].min()\n",
    "        count = g['rmse'].count()\n",
    "        log_likelihood = g['log_likelihood'].max()\n",
    "        if (rmse_min<=minrmse)&(amax<=supamax):\n",
    "            minrmse=rmse_min\n",
    "            gmin_lr=g.copy()\n",
    "            print_str =f\"{amax=:.4f}, {rmse_min=:.4f}, {log_likelihood=:.4f}, {count=}\"\n",
    "    print(print_str)        \n",
    "    gmin_lr.sort_values(by='D',inplace=True)\n",
    "    \n",
    "    #find best simulation for the full model at this avalue\n",
    "#     dg_lr=gmin_lr[gmin_lr['rmse'] == gmin_lr['rmse'].min()].copy()\n",
    "    dg_lr=gmin_lr[gmin_lr['log_likelihood'] == gmin_lr['log_likelihood'].max()].copy()\n",
    "    dg_lr['run']=run_num\n",
    "    df_defects_fk['run']=run_num\n",
    "    dg_lr['model']='Luo-Rudy'\n",
    "    cluster_index,job_index = dg_lr[['cluster_index','job_index']].values.T\n",
    "    input_fn = os.path.join(input_folder,f\"job.out.{int(cluster_index)}.{int(job_index)}\")\n",
    "    #assert os.path.exists(input_fn)\n",
    "    if os.path.exists(input_fn):\n",
    "        input_fn_lr=input_fn\n",
    "        df_fit_lr,dict_linear_fit_lr = routine_measure_annihilation_defect(input_fn,printing=True,**kwargs)\n",
    "        amax_lr=dg_fk['amax'].median()\n",
    "        rmse_lr=dg_lr['rmse'].median()\n",
    "        L = dg_lr['L'].median()\n",
    "        print(f\"\\nbest fit for Luo-Rudy: RMSE: {rmse_lr:.4f} Hz/cm^2, amax: {amax_lr:.4f} cm^2/s, L: {L} cm\")\n",
    "        print(f\"{input_fn_lr=}\")\n",
    "        #record\n",
    "        dict_results_lr=dict(\n",
    "            model_name='Luo-Rudy',\n",
    "            amax=amax_lr,\n",
    "            rmse=rmse_lr,\n",
    "            L=L,\n",
    "            df_fit=df_fit_lr,\n",
    "            dg_fit=dg_lr,\n",
    "            dict_linear_fit=dict_linear_fit_lr,\n",
    "            filename=input_fn_lr,\n",
    "            gmin=gmin_lr)\n",
    "        dict_results_lr_lst.append(dict_results_lr)\n",
    "        gmin_lr_lst.append(gmin_lr)\n",
    "        log_dir_lr_lst.append(input_fn)\n",
    "\n",
    "    print(f\"\\nparameter range supported in run #{run_num}:\")\n",
    "    print(f\"number of trials: {df_defects_lr.shape[0]}\")\n",
    "    print(df_defects_lr.describe()[['r','kappa','D','varkappa','amax','L','neighbor']].T[['min','max']].T)"
   ]
  },
  {
   "cell_type": "code",
   "execution_count": 490,
   "id": "ccd42e68",
   "metadata": {
    "ExecuteTime": {
     "end_time": "2022-10-20T02:22:31.049605Z",
     "start_time": "2022-10-20T02:22:30.979093Z"
    },
    "hidden": true
   },
   "outputs": [],
   "source": [
    "run_num=33 #all alinear estimators at L=10\n",
    "# run_num=32 #all constrained to observed at L=5\n",
    "# run_num=28  #what is in Particle_Paper\n",
    "parquet_dir_defects_fk=f'{nb_dir}/data/osg_output/run_{run_num}_defects_to_fk.parquet'\n",
    "parquet_dir_defects_lr=f'{nb_dir}/data/osg_output/run_{run_num}_defects_to_lr.parquet'\n",
    "input_folder=f'{nb_dir}/data/osg_output/run_{run_num}_all'\n",
    "#     parquet_dir_defects_fk=f'/home/timothytyree/Documents/GitHub/bgmc/python/data/osg_output/run_{run_num}_defects_to_fk.parquet'\n",
    "#     parquet_dir_defects_lr=f'/home/timothytyree/Documents/GitHub/bgmc/python/data/osg_output/run_{run_num}_defects_to_lr.parquet'\n",
    "#     input_folder=f'/home/timothytyree/Documents/GitHub/bgmc/python/data/osg_output/run_{run_num}_all'\n",
    "#load data\n",
    "df_defects_fk=pd.read_parquet(parquet_dir_defects_fk)\n",
    "df_defects_lr=pd.read_parquet(parquet_dir_defects_lr)\n",
    "#compute order parameter for each member a=amax-2*D\n",
    "#add columns for amax\n",
    "df_defects_fk['amax'] = np.around(df_defects_fk['varkappa'] + 2.*df_defects_fk['D'],num_digits_round_amax)\n",
    "df_defects_lr['amax'] = np.around(df_defects_lr['varkappa'] + 2.*df_defects_lr['D'],num_digits_round_amax)\n",
    "\n",
    "\n",
    "#filterby neighbor\n",
    "if use_filterby_neighbor:\n",
    "    df_defects_fk = df_defects_fk[df_defects_fk['neighbor']==neighbor].copy()\n",
    "    df_defects_lr = df_defects_lr[df_defects_lr['neighbor']==neighbor].copy()\n",
    "\n",
    "\n",
    "if remove_no_diffusion:\n",
    "    df_defects_fk = df_defects_fk[df_defects_fk['D']>Dinf].copy()\n",
    "    df_defects_lr = df_defects_lr[df_defects_lr['D']>Dinf].copy()\n",
    "\n",
    "if use_filterby_amax:\n",
    "    df_defects_fk = df_defects_fk[df_defects_fk['amax']>min_amax].copy()\n",
    "    df_defects_lr = df_defects_lr[df_defects_lr['amax']>min_amax].copy()"
   ]
  },
  {
   "cell_type": "code",
   "execution_count": 491,
   "id": "7aa1ca70",
   "metadata": {
    "ExecuteTime": {
     "end_time": "2022-10-20T02:22:33.012705Z",
     "start_time": "2022-10-20T02:22:32.698332Z"
    },
    "hidden": true
   },
   "outputs": [
    {
     "name": "stdout",
     "output_type": "stream",
     "text": [
      "\n",
      "**************************************\n",
      "* Fenton-Karma Model (best settings):\n",
      "**************************************\n",
      "amax=1.7810, rmse_min=0.0849, count=1468, log_likelihood=140.6547, [0.0372 0.1145]\n",
      "amax=1.8400, rmse_min=0.0848, count=1463, log_likelihood=118.3832, [0.0372 0.1145]\n",
      "amax=1.9320, rmse_min=0.0813, count=1467, log_likelihood=102.6290, [0.0372 0.1145]\n",
      "amax=2.7350, rmse_min=0.2133, count=1495, log_likelihood=31.4507, [0.0372 0.1145]\n",
      "amax=3.2980, rmse_min=0.2075, count=1254, log_likelihood=32.6980, [0.4158 1.4   ]\n",
      "amax=8.5850, rmse_min=0.2970, count=1510, log_likelihood=10.5435, [0.4158 1.4   ]\n",
      "amax=8.6300, rmse_min=0.3051, count=1513, log_likelihood=11.6757, [0.4158 1.4   ]\n",
      "amax=10.1470, rmse_min=0.3097, count=1511, log_likelihood=-0.3323, [0.4158 1.4   ]\n",
      "amax=12.0170, rmse_min=0.3367, count=1512, log_likelihood=-8.0229, [0.4158 1.4   ]\n",
      "\n",
      "**************************************\n",
      "* Luo-Rudy Model (best settings):\n",
      "**************************************\n",
      "amax=1.7810, rmse_min=1.0103, count=1468, log_likelihood=-35.0561, [0.0372 0.1145]\n",
      "amax=1.8400, rmse_min=0.9975, count=1463, log_likelihood=-33.8506, [0.0372 0.1145]\n",
      "amax=1.9320, rmse_min=0.9560, count=1467, log_likelihood=1.1182, [0.0372 0.1145]\n",
      "amax=2.7350, rmse_min=0.6630, count=1495, log_likelihood=-12.8214, [0.0372 0.1145]\n",
      "amax=3.2980, rmse_min=0.7045, count=1254, log_likelihood=-16.0119, [0.4158 1.4   ]\n",
      "amax=8.5850, rmse_min=0.0783, count=1510, log_likelihood=117.3829, [0.4158 1.4   ]\n",
      "amax=8.6300, rmse_min=0.0961, count=1513, log_likelihood=112.0116, [0.4158 1.4   ]\n",
      "amax=10.1470, rmse_min=0.1021, count=1511, log_likelihood=101.9806, [0.4158 1.4   ]\n",
      "amax=12.0170, rmse_min=0.1090, count=1512, log_likelihood=108.0339, [0.4158 1.4   ]\n",
      "\n",
      "**************************************\n",
      "* the best fit exponents:\n",
      "**************************************\n",
      "- amax: 1.7810, D: 0.1145 --> exponent: 1.9437 +/- 0.0268 (Fenton-Karma)\n",
      "- amax: 1.8402, D: 0.1145 --> exponent: 1.9330 +/- 0.0256 (Fenton-Karma)\n",
      "- amax: 1.9325, D: 0.1145 --> exponent: 1.8893 +/- 0.0277 (Fenton-Karma)\n",
      "- amax: 2.7355, D: 0.1145 --> exponent: 1.6878 +/- 0.0293 (Fenton-Karma)\n",
      "- amax: 3.2981, D: 0.4158 --> exponent: 2.6246 +/- 0.0156 (Luo-Rudy)\n",
      "- amax: 8.5850, D: 0.4158 --> exponent: 1.7417 +/- 0.0251 (Luo-Rudy)\n",
      "- amax: 8.6303, D: 0.4158 --> exponent: 1.7267 +/- 0.0259 (Luo-Rudy)\n",
      "- amax: 10.1470, D: 1.4000 --> exponent: 1.7798 +/- 0.0301 (Luo-Rudy)\n",
      "- amax: 12.0170, D: 1.4000 --> exponent: 1.6907 +/- 0.0218 (Luo-Rudy)\n",
      "exponents were computed with min_N=9 and qmax=0.7.\n"
     ]
    }
   ],
   "source": [
    "#identify the lowest error simulation for each amax value\n",
    "print(f\"\\n**************************************\")\n",
    "print(f\"* Fenton-Karma Model (best settings):\")\n",
    "print(f\"**************************************\")\n",
    "minrmse=9999.\n",
    "supamax=40.\n",
    "#supamax=1.8\n",
    "#supamax=40.\n",
    "gmin_fk_lst=[]\n",
    "dict_results_fk_lst=[]\n",
    "for amax,g in df_defects_fk.groupby(by='amax'):\n",
    "    rmse_min = g['rmse'].min()\n",
    "    count = g['rmse'].count()\n",
    "    log_likelihood = g['log_likelihood'].max()\n",
    "    #if (rmse_min<=minrmse)&(amax<=supamax):\n",
    "    minrmse=rmse_min\n",
    "    gmin_fk=g.copy()\n",
    "    gmin_fk.sort_values(by='D',inplace=True)\n",
    "    print_str =f\"{amax=:.4f}, {rmse_min=:.4f}, {count=}, {log_likelihood=:.4f}, {gmin_fk['D'].drop_duplicates().values}\"\n",
    "    print(print_str)\n",
    "    #TODO: identify xy values of the mle fit\n",
    "        #find best simulation for the full model at this avalue\n",
    "#     dg_fk=gmin_fk[gmin_fk['rmse'] == gmin_fk['rmse'].min()].copy()\n",
    "    dg_fk=gmin_fk[gmin_fk['log_likelihood'] == gmin_fk['log_likelihood'].max()].copy()\n",
    "    dg_fk['run']=run_num\n",
    "    df_defects_fk['run']=run_num\n",
    "    dg_fk['model']='Fenton-Karma'\n",
    "    cluster_index,job_index = dg_fk[['cluster_index','job_index']].values.T\n",
    "    input_fn = os.path.join(input_folder,f\"job.out.{int(cluster_index)}.{int(job_index)}\")\n",
    "    #assert os.path.exists(input_fn)\n",
    "    if os.path.exists(input_fn):\n",
    "        input_fn_fk=input_fn\n",
    "        df_fit_fk,dict_linear_fit_fk = routine_measure_annihilation_defect(input_fn,printing=True,**kwargs)\n",
    "        amax_fk=dg_fk['amax'].median()\n",
    "        rmse_fk=dg_fk['rmse'].median()\n",
    "        L = dg_fk['L'].median()\n",
    "        #print(f\"- best fit RMSE: {rmse_fk:.4f} Hz/cm^2, amax: {amax_fk:.4f} cm^2/s, L: {L} cm\")\n",
    "        #print(f\"{input_fn_fk=}\")\n",
    "        #record\n",
    "        dict_results_fk=dict(\n",
    "            model_name='Fenton-Karma',\n",
    "            amax=amax_fk,\n",
    "            rmse=rmse_fk,\n",
    "            L=L,\n",
    "            df_fit=df_fit_fk,\n",
    "            dg_fit=dg_fk,\n",
    "            dict_linear_fit=dict_linear_fit_fk,\n",
    "            filename=input_fn_fk,\n",
    "            gmin=gmin_fk)\n",
    "        dict_results_fk_lst.append(dict_results_fk)\n",
    "    \n",
    "    #TODO: estimate powerlaw from xy values\n",
    "    #Q: howdo not include q too small\n",
    "    #A: try filter by min_N>10 like before \n",
    "    \n",
    "    #TODO: print the exponent +/- 95%CI for the above powerlaw fit\n",
    "    \n",
    "\n",
    "        gmin_fk_lst.append(gmin_fk)\n",
    "\n",
    "\n",
    "#identify the lowest error simulation for each amax value\n",
    "print(f\"\\n**************************************\")\n",
    "print(f\"* Luo-Rudy Model (best settings):\")\n",
    "print(f\"**************************************\")\n",
    "minrmse=9999.\n",
    "supamax=40.\n",
    "#supamax=1.8\n",
    "#supamax=40.\n",
    "gmin_lr_lst=[]\n",
    "dict_results_lr_lst=[]\n",
    "for amax,g in df_defects_lr.groupby(by='amax'):\n",
    "    rmse_min = g['rmse'].min()\n",
    "    count = g['rmse'].count()\n",
    "    log_likelihood = g['log_likelihood'].max()\n",
    "    #if (rmse_min<=minrmse)&(amax<=supamax):\n",
    "    minrmse=rmse_min\n",
    "    gmin_lr=g.copy()\n",
    "    gmin_lr.sort_values(by='D',inplace=True)\n",
    "    print_str =f\"{amax=:.4f}, {rmse_min=:.4f}, {count=}, {log_likelihood=:.4f}, {gmin_lr['D'].drop_duplicates().values}\"\n",
    "    print(print_str)\n",
    "    #identify xy values of the mle fit\n",
    "    #find best simulation for the full model at this avalue\n",
    "    dg_lr=gmin_lr[gmin_lr['log_likelihood'] == gmin_lr['log_likelihood'].max()].copy()\n",
    "    dg_lr['run']=run_num\n",
    "    df_defects_lr['run']=run_num\n",
    "    dg_lr['model']='Luo-Rudy'\n",
    "    cluster_index,job_index = dg_lr[['cluster_index','job_index']].values.T\n",
    "    input_fn = os.path.join(input_folder,f\"job.out.{int(cluster_index)}.{int(job_index)}\")\n",
    "    #assert os.path.exists(input_fn)\n",
    "    if os.path.exists(input_fn):\n",
    "        input_fn_lr=input_fn\n",
    "        df_fit_lr,dict_linear_fit_lr = routine_measure_annihilation_defect(input_fn,printing=True,**kwargs)\n",
    "        amax_lr=dg_lr['amax'].median()\n",
    "        rmse_lr=dg_lr['rmse'].median()\n",
    "        L = dg_lr['L'].median()\n",
    "        #print(f\"- best fit RMSE: {rmse_lr:.4f} Hz/cm^2, amax: {amax_lr:.4f} cm^2/s, L: {L} cm\")\n",
    "        #record\n",
    "        dict_results_lr=dict(\n",
    "            model_name='Luo-Rudy',\n",
    "            amax=amax_lr,\n",
    "            rmse=rmse_lr,\n",
    "            L=L,\n",
    "            df_fit=df_fit_lr,\n",
    "            dg_fit=dg_lr,\n",
    "            dict_linear_fit=dict_linear_fit_lr,\n",
    "            filename=input_fn_lr,\n",
    "            gmin=gmin_lr)\n",
    "        dict_results_lr_lst.append(dict_results_lr)\n",
    "    \n",
    "    #TODO: estimate powerlaw from xy values\n",
    "    #Q: howdo not include q too small\n",
    "    #A: try filter by min_N>10 like before \n",
    "    \n",
    "    #TODO: print the exponent +/- 95%CI for the above powerlaw fit\n",
    "    \n",
    "\n",
    "        gmin_lr_lst.append(gmin_lr)\n",
    "\n",
    "\n",
    "#print the best fit exponents\n",
    "print(f\"\\n**************************************\")\n",
    "print(f\"* the best fit exponents:\")\n",
    "print(f\"**************************************\")\n",
    "min_N=9\n",
    "qmax=0.7\n",
    "\n",
    "# min_N=20\n",
    "# qmax=10\n",
    "\n",
    "\n",
    "# min_N=10\n",
    "# qmax=1\n",
    "# qmax=1.5\n",
    "# min_N=9\n",
    "# qmax=0.75\n",
    "# min_N=9\n",
    "# qmax=0.85\n",
    "\n",
    "# qmax=1\n",
    "gmin_lst = list(gmin_fk_lst)\n",
    "gmin_lst.extend(gmin_lr_lst)\n",
    "dict_results_lst = list(dict_results_fk_lst)\n",
    "dict_results_lst.extend(dict_results_lr_lst)\n",
    "for gmin,dict_results in zip(gmin_lst,dict_results_lst):\n",
    "    model_name = dict_results['model_name']\n",
    "    \n",
    "    dict_linear_fit = dict_results['dict_linear_fit']\n",
    "    df_fit = dict_results['df_fit']\n",
    "    df_fit = df_fit[df_fit['N']>min_N].copy()\n",
    "    x = df_fit['q'].values\n",
    "    y = df_fit['w'].values\n",
    "    boo = qmax>x\n",
    "    dict_fit = print_fit_power_law(x[boo],y[boo],printing=False)\n",
    "    #dict_fit = print_fit_power_law(x,y,printing=False)\n",
    "\n",
    "    # print_dict(dict_fit)\n",
    "    #yhat = dict_fit['M']*x**dict_fit['m']\n",
    "    # rmsehat = np.sqrt(np.mean((yhat-y)**2))\n",
    "    # rmsehat #confirmed to match rmse in dict_fit\n",
    "    # #DONE: plot powerlaw fit for sanity check\n",
    "    # # plt.plot(x,(y-yhat)/y,'C0')\n",
    "    # plt.plot(x,(y-yhat),'C0')\n",
    "    # plt.plot(x,0.*x,'k--')\n",
    "    # plt.show()\n",
    "\n",
    "    r = df_fit['r'].median()\n",
    "    kappa = df_fit['kappa'].median()\n",
    "    D = df_fit['D'].median()\n",
    "    a = df_fit['varkappa'].median()\n",
    "    neighbor = df_fit['neighbor'].median()\n",
    "    amax= a+2*D\n",
    "\n",
    "     #DONE: estimate powerlaw from xy values\n",
    "    #Q: howdo not include q too small\n",
    "    #A: try filter by min_N>10 like before \n",
    "\n",
    "    #TODO: print the exponent +/- 95%CI for the above powerlaw fit\n",
    "    # dict_fit['M'],dict_fit['m']\n",
    "    is_model = (model_name=='Fenton-Karma')&(amax<3)\n",
    "    is_model|= (model_name=='Luo-Rudy')&(amax>3)\n",
    "    if is_model:\n",
    "        print(f\"- amax: {amax:.4f}, D: {D:.4f} --> exponent: {dict_fit['m']:.4f} +/- {dict_fit['Delta_m']:.4f} ({model_name})\")\n",
    "print(f\"exponents were computed with {min_N=} and {qmax=}.\")\n"
   ]
  },
  {
   "cell_type": "code",
   "execution_count": 36,
   "id": "027cd78c",
   "metadata": {
    "ExecuteTime": {
     "end_time": "2022-10-19T21:36:46.082519Z",
     "start_time": "2022-10-19T21:36:46.065401Z"
    },
    "hidden": true
   },
   "outputs": [],
   "source": [
    "#DONE: go back to computing log-likelihood with s_lst from the apparent rmse as default.\n",
    "#DONE: dev next run, same as before, \n",
    "# but with amax,D given by what's in table 1\n",
    "# , and with L=10"
   ]
  },
  {
   "cell_type": "code",
   "execution_count": null,
   "id": "6a9f99c1",
   "metadata": {
    "hidden": true
   },
   "outputs": [],
   "source": []
  },
  {
   "cell_type": "code",
   "execution_count": 492,
   "id": "0200b52b",
   "metadata": {
    "ExecuteTime": {
     "end_time": "2022-10-20T02:22:58.545277Z",
     "start_time": "2022-10-20T02:22:58.526820Z"
    },
    "hidden": true
   },
   "outputs": [],
   "source": [
    "df_defects_lr['rxn']=df_defects_lr['r']**2*df_defects_lr['kappa']\n",
    "# df_defects_lr['rxn'].min()"
   ]
  },
  {
   "cell_type": "code",
   "execution_count": 493,
   "id": "59ff6bc9",
   "metadata": {
    "ExecuteTime": {
     "end_time": "2022-10-20T02:22:59.099344Z",
     "start_time": "2022-10-20T02:22:59.060158Z"
    },
    "hidden": true
   },
   "outputs": [
    {
     "data": {
      "text/plain": [
       "36150    108.033868\n",
       "Name: log_likelihood, dtype: float64"
      ]
     },
     "execution_count": 493,
     "metadata": {},
     "output_type": "execute_result"
    }
   ],
   "source": [
    "dict_results['dg_fit']['log_likelihood']"
   ]
  },
  {
   "cell_type": "code",
   "execution_count": 494,
   "id": "d97bf36f",
   "metadata": {
    "ExecuteTime": {
     "end_time": "2022-10-20T02:23:00.035665Z",
     "start_time": "2022-10-20T02:22:59.998933Z"
    },
    "hidden": true
   },
   "outputs": [
    {
     "data": {
      "text/plain": [
       "dict_keys(['model_name', 'amax', 'rmse', 'L', 'df_fit', 'dg_fit', 'dict_linear_fit', 'filename', 'gmin'])"
      ]
     },
     "execution_count": 494,
     "metadata": {},
     "output_type": "execute_result"
    }
   ],
   "source": [
    "dict_results.keys()\n"
   ]
  },
  {
   "cell_type": "code",
   "execution_count": 495,
   "id": "30df4e2e",
   "metadata": {
    "ExecuteTime": {
     "end_time": "2022-10-20T02:23:00.842978Z",
     "start_time": "2022-10-20T02:23:00.796359Z"
    },
    "hidden": true
   },
   "outputs": [
    {
     "data": {
      "text/html": [
       "<div>\n",
       "<style scoped>\n",
       "    .dataframe tbody tr th:only-of-type {\n",
       "        vertical-align: middle;\n",
       "    }\n",
       "\n",
       "    .dataframe tbody tr th {\n",
       "        vertical-align: top;\n",
       "    }\n",
       "\n",
       "    .dataframe thead th {\n",
       "        text-align: right;\n",
       "    }\n",
       "</style>\n",
       "<table border=\"1\" class=\"dataframe\">\n",
       "  <thead>\n",
       "    <tr style=\"text-align: right;\">\n",
       "      <th></th>\n",
       "      <th>log_likelihood</th>\n",
       "      <th>varkappa</th>\n",
       "      <th>D</th>\n",
       "      <th>L</th>\n",
       "      <th>neighbor</th>\n",
       "      <th>r</th>\n",
       "      <th>kappa</th>\n",
       "    </tr>\n",
       "  </thead>\n",
       "  <tbody>\n",
       "    <tr>\n",
       "      <th>24</th>\n",
       "      <td>-119.603237</td>\n",
       "      <td>11.18530</td>\n",
       "      <td>0.4158</td>\n",
       "      <td>10.0</td>\n",
       "      <td>1.0</td>\n",
       "      <td>0.030</td>\n",
       "      <td>880.00</td>\n",
       "    </tr>\n",
       "    <tr>\n",
       "      <th>19180</th>\n",
       "      <td>-149.293976</td>\n",
       "      <td>11.18530</td>\n",
       "      <td>0.4158</td>\n",
       "      <td>10.0</td>\n",
       "      <td>1.0</td>\n",
       "      <td>0.090</td>\n",
       "      <td>950.00</td>\n",
       "    </tr>\n",
       "    <tr>\n",
       "      <th>19207</th>\n",
       "      <td>-121.137612</td>\n",
       "      <td>11.18530</td>\n",
       "      <td>0.4158</td>\n",
       "      <td>10.0</td>\n",
       "      <td>1.0</td>\n",
       "      <td>0.095</td>\n",
       "      <td>350.00</td>\n",
       "    </tr>\n",
       "    <tr>\n",
       "      <th>19336</th>\n",
       "      <td>-167.177885</td>\n",
       "      <td>11.18530</td>\n",
       "      <td>0.4158</td>\n",
       "      <td>10.0</td>\n",
       "      <td>1.0</td>\n",
       "      <td>0.195</td>\n",
       "      <td>700.00</td>\n",
       "    </tr>\n",
       "    <tr>\n",
       "      <th>19347</th>\n",
       "      <td>-91.305162</td>\n",
       "      <td>11.18530</td>\n",
       "      <td>0.4158</td>\n",
       "      <td>10.0</td>\n",
       "      <td>1.0</td>\n",
       "      <td>0.040</td>\n",
       "      <td>350.00</td>\n",
       "    </tr>\n",
       "    <tr>\n",
       "      <th>...</th>\n",
       "      <td>...</td>\n",
       "      <td>...</td>\n",
       "      <td>...</td>\n",
       "      <td>...</td>\n",
       "      <td>...</td>\n",
       "      <td>...</td>\n",
       "      <td>...</td>\n",
       "    </tr>\n",
       "    <tr>\n",
       "      <th>20925</th>\n",
       "      <td>-11.245292</td>\n",
       "      <td>9.21695</td>\n",
       "      <td>1.4000</td>\n",
       "      <td>10.0</td>\n",
       "      <td>1.0</td>\n",
       "      <td>0.160</td>\n",
       "      <td>48.64</td>\n",
       "    </tr>\n",
       "    <tr>\n",
       "      <th>20937</th>\n",
       "      <td>-121.487355</td>\n",
       "      <td>9.21695</td>\n",
       "      <td>1.4000</td>\n",
       "      <td>10.0</td>\n",
       "      <td>1.0</td>\n",
       "      <td>0.085</td>\n",
       "      <td>436.74</td>\n",
       "    </tr>\n",
       "    <tr>\n",
       "      <th>6878</th>\n",
       "      <td>-133.411624</td>\n",
       "      <td>9.21695</td>\n",
       "      <td>1.4000</td>\n",
       "      <td>10.0</td>\n",
       "      <td>1.0</td>\n",
       "      <td>0.065</td>\n",
       "      <td>800.00</td>\n",
       "    </tr>\n",
       "    <tr>\n",
       "      <th>20664</th>\n",
       "      <td>-126.831863</td>\n",
       "      <td>9.21695</td>\n",
       "      <td>1.4000</td>\n",
       "      <td>10.0</td>\n",
       "      <td>1.0</td>\n",
       "      <td>0.175</td>\n",
       "      <td>250.00</td>\n",
       "    </tr>\n",
       "    <tr>\n",
       "      <th>17604</th>\n",
       "      <td>-131.867248</td>\n",
       "      <td>9.21695</td>\n",
       "      <td>1.4000</td>\n",
       "      <td>10.0</td>\n",
       "      <td>1.0</td>\n",
       "      <td>0.095</td>\n",
       "      <td>550.00</td>\n",
       "    </tr>\n",
       "  </tbody>\n",
       "</table>\n",
       "<p>1512 rows × 7 columns</p>\n",
       "</div>"
      ],
      "text/plain": [
       "       log_likelihood  varkappa       D     L  neighbor      r   kappa\n",
       "24        -119.603237  11.18530  0.4158  10.0       1.0  0.030  880.00\n",
       "19180     -149.293976  11.18530  0.4158  10.0       1.0  0.090  950.00\n",
       "19207     -121.137612  11.18530  0.4158  10.0       1.0  0.095  350.00\n",
       "19336     -167.177885  11.18530  0.4158  10.0       1.0  0.195  700.00\n",
       "19347      -91.305162  11.18530  0.4158  10.0       1.0  0.040  350.00\n",
       "...               ...       ...     ...   ...       ...    ...     ...\n",
       "20925      -11.245292   9.21695  1.4000  10.0       1.0  0.160   48.64\n",
       "20937     -121.487355   9.21695  1.4000  10.0       1.0  0.085  436.74\n",
       "6878      -133.411624   9.21695  1.4000  10.0       1.0  0.065  800.00\n",
       "20664     -126.831863   9.21695  1.4000  10.0       1.0  0.175  250.00\n",
       "17604     -131.867248   9.21695  1.4000  10.0       1.0  0.095  550.00\n",
       "\n",
       "[1512 rows x 7 columns]"
      ]
     },
     "execution_count": 495,
     "metadata": {},
     "output_type": "execute_result"
    }
   ],
   "source": [
    "col_lst = ['log_likelihood','varkappa','D','L','neighbor','r','kappa']\n",
    "gmin_fk[col_lst]\n",
    "# 'run_num','cluster_index','job_index',\n",
    "# gmin_fk.columns"
   ]
  },
  {
   "cell_type": "code",
   "execution_count": 34,
   "id": "71a6dd98",
   "metadata": {
    "ExecuteTime": {
     "end_time": "2022-10-19T21:34:59.605802Z",
     "start_time": "2022-10-19T21:34:59.586792Z"
    },
    "hidden": true
   },
   "outputs": [],
   "source": [
    "# #find best simulation for the full model at this avalue\n",
    "# #     dg_fk=gmin_fk[gmin_fk['rmse'] == gmin_fk['rmse'].min()].copy()\n",
    "# dg_fk=gmin_fk[gmin_fk['log_likelihood'] == gmin_fk['log_likelihood'].max()].copy()\n",
    "# dg_fk"
   ]
  },
  {
   "cell_type": "markdown",
   "id": "9148421d",
   "metadata": {},
   "source": [
    "# plot power law fits grouped by $a_{max}$"
   ]
  },
  {
   "cell_type": "code",
   "execution_count": 553,
   "id": "ec592be1",
   "metadata": {
    "ExecuteTime": {
     "end_time": "2022-10-20T02:46:06.183713Z",
     "start_time": "2022-10-20T02:46:06.152813Z"
    }
   },
   "outputs": [],
   "source": [
    "num_digits_round_amax=3"
   ]
  },
  {
   "cell_type": "code",
   "execution_count": 576,
   "id": "6ef92490",
   "metadata": {
    "ExecuteTime": {
     "end_time": "2022-10-20T02:58:07.782475Z",
     "start_time": "2022-10-20T02:58:07.736418Z"
    }
   },
   "outputs": [
    {
     "name": "stdout",
     "output_type": "stream",
     "text": [
      "df_powerlaw_fits.shape=(5237, 26)\n",
      "df_powerlaw_fits.columns=Index(['m', 'Delta_m', 'M', 'Delta_M', 'Rsq', 'rmse', 'rmse_full',\n",
      "       'model_name_full', 'q_min', 'q_max', 'r', 'kappa', 'D', 'varkappa',\n",
      "       'x0', 'L', 'force_code', 'neighbor', 'reflect', 'set_second',\n",
      "       'no_repulsion', 'no_attraction', 'dt', 'Dt', 'amax', 'rxn'],\n",
      "      dtype='object')\n"
     ]
    },
    {
     "data": {
      "text/plain": [
       "0    5\n",
       "Name: L, dtype: int64"
      ]
     },
     "execution_count": 576,
     "metadata": {},
     "output_type": "execute_result"
    }
   ],
   "source": [
    "#DONE: search for an L=5 data run that has a=1.78,10.147, D=observed from MSR\n",
    "#DONE: test these last two\n",
    "# run_num=27 #L=5 \n",
    "# run_num=30 #L=5 \n",
    "#TODO(failing ^this): dev run 34 with a=1.78,10.147, D=observed from MSR. and rxn>3, L=5\n",
    "\n",
    "# run_num=28 #L=5 \n",
    "# run_num=32 #L=5\n",
    "# run_num=33 #L=10\n",
    "powerlaw_fit_dir=f'/home/timothytyree/Documents/GitHub/bgmc/python/data/osg_output/run_{run_num}_all_powerlaw_fits.csv'\n",
    "df_powerlaw_fits = pd.read_csv(powerlaw_fit_dir)\n",
    "df_powerlaw_fits['amax'] = np.around(df_powerlaw_fits['varkappa'] + 2.*df_powerlaw_fits['D'],num_digits_round_amax)\n",
    "df_powerlaw_fits['rxn'] = df_powerlaw_fits['kappa']*df_powerlaw_fits['r']**2\n",
    "print(f\"{df_powerlaw_fits.shape=}\")\n",
    "print(f\"{df_powerlaw_fits.columns=}\")\n",
    "# df_powerlaw_fits.head()\n",
    "df_powerlaw_fits['L'].drop_duplicates()"
   ]
  },
  {
   "cell_type": "code",
   "execution_count": 577,
   "id": "3ddbc0fe",
   "metadata": {
    "ExecuteTime": {
     "end_time": "2022-10-20T02:58:08.907838Z",
     "start_time": "2022-10-20T02:58:08.873437Z"
    }
   },
   "outputs": [],
   "source": [
    "### df_powerlaw_fits['amax'].drop_duplicates()"
   ]
  },
  {
   "cell_type": "code",
   "execution_count": null,
   "id": "fc8cf30f",
   "metadata": {},
   "outputs": [],
   "source": []
  },
  {
   "cell_type": "code",
   "execution_count": 578,
   "id": "8334c4fc",
   "metadata": {
    "ExecuteTime": {
     "end_time": "2022-10-20T02:58:09.495133Z",
     "start_time": "2022-10-20T02:58:09.475430Z"
    }
   },
   "outputs": [
    {
     "data": {
      "text/plain": [
       "(array([3.35, 3.29]),\n",
       " array([0.11, 0.41, 0.47, 0.26, 0.17, 0.2 , 0.44, 0.5 , 0.65, 0.05, 0.59,\n",
       "        0.32, 0.62, 0.14, 0.53, 0.08, 0.56, 0.29, 0.23, 0.38, 0.35]))"
      ]
     },
     "execution_count": 578,
     "metadata": {},
     "output_type": "execute_result"
    }
   ],
   "source": [
    "amax_set_values = df_powerlaw_fits['amax'].drop_duplicates().values \n",
    "D_set_values = df_powerlaw_fits['D'].drop_duplicates().values\n",
    "amax_set_values,D_set_values\n",
    "#Q: is there any D=observed from MSR?"
   ]
  },
  {
   "cell_type": "code",
   "execution_count": 575,
   "id": "36512f3b",
   "metadata": {
    "ExecuteTime": {
     "end_time": "2022-10-20T02:56:37.248469Z",
     "start_time": "2022-10-20T02:56:37.231236Z"
    }
   },
   "outputs": [],
   "source": [
    "#FK\n",
    "D_fk = 0.1145\n",
    "amax_fk=1.781 #works\n",
    "# amax_fk= 1.84 #works\n",
    "# amax_fk= 0.658 #clearly too small\n",
    "# amax_fk= 1.932  #almost too big\n",
    "# amax_fk= 2.735 #too big\n",
    "#LR\n",
    "D_lr = 0.4158\n",
    "amax_lr= 10.147  #works\n",
    "# amax_lr= 12.017  #barely too big\n",
    "# amax_lr= 8.63 #works\n",
    "# amax_lr= 8.585 #works\n",
    "title = f'fixing amax,D to {amax_fk}, {D_fk} (FK, black)\\n and {amax_lr}, {D_lr} (LR, red)'\n",
    "# it looks like the mean R works and the mean squared R doesn't for the boe estimate"
   ]
  },
  {
   "cell_type": "code",
   "execution_count": 535,
   "id": "7848d5fd",
   "metadata": {
    "ExecuteTime": {
     "end_time": "2022-10-20T02:35:05.014123Z",
     "start_time": "2022-10-20T02:35:04.791957Z"
    }
   },
   "outputs": [
    {
     "data": {
      "image/png": "[encoded data removed]",
      "text/plain": [
       "<Figure size 600x400 with 1 Axes>"
      ]
     },
     "metadata": {},
     "output_type": "display_data"
    }
   ],
   "source": [
    "neighbor=1\n",
    "# neighbor=0\n",
    "fontsize=16\n",
    "#heretim\n",
    "fig,ax=plt.subplots(figsize=(6,4))\n",
    "#plot the FK model\n",
    "query = neighbor == df_powerlaw_fits['neighbor']\n",
    "query &= df_powerlaw_fits['amax']==amax_fk\n",
    "query &= df_powerlaw_fits['D']==D_fk\n",
    "M_values,m_values = df_powerlaw_fits[query][['M','m']].values.T\n",
    "Delta_M_values,Delta_m_values = df_powerlaw_fits[query][['Delta_M','Delta_m']].values.T\n",
    "ax.errorbar(M_values, m_values, xerr=Delta_M_values, yerr=Delta_m_values, fmt='o',color='k')\n",
    "#plot the LR model\n",
    "query = neighbor == df_powerlaw_fits['neighbor']\n",
    "query &= df_powerlaw_fits['amax']==amax_lr\n",
    "query &= df_powerlaw_fits['D']==D_lr\n",
    "M_values,m_values = df_powerlaw_fits[query][['M','m']].values.T\n",
    "Delta_M_values,Delta_m_values = df_powerlaw_fits[query][['Delta_M','Delta_m']].values.T\n",
    "ax.errorbar(M_values, m_values, xerr=Delta_M_values, yerr=Delta_m_values, fmt='o',color='r')\n",
    "\n",
    "#plot the ground truth\n",
    "model_str = 'fk_pbc'\n",
    "ax.errorbar([wjr[model_str]['M']], [wjr[model_str]['m']], xerr=[wjr[model_str]['Delta_M']], yerr=[wjr[model_str]['Delta_m']], fmt='s',color='C0')\n",
    "model_str = 'lr_pbc'\n",
    "ax.errorbar([wjr[model_str]['M']], [wjr[model_str]['m']], xerr=[wjr[model_str]['Delta_M']], yerr=[wjr[model_str]['Delta_m']], fmt='s',color='C1')\n",
    "\n",
    "# format_plot\n",
    "ax.tick_params(top=True, right=True,direction='in',which='both')\n",
    "format_plot(ax=ax,xlabel=r'$M_-$ (Hz/cm$^2$)',ylabel=r'$\\nu_-$',fontsize=fontsize)\n",
    "ax.set_title(title,fontsize=fontsize)\n",
    "plt.show()"
   ]
  },
  {
   "cell_type": "code",
   "execution_count": 536,
   "id": "10512972",
   "metadata": {
    "ExecuteTime": {
     "end_time": "2022-10-20T02:35:11.584462Z",
     "start_time": "2022-10-20T02:35:11.529996Z"
    }
   },
   "outputs": [
    {
     "name": "stdout",
     "output_type": "stream",
     "text": [
      "fk_pbc lr_pbc fk_ncbc lr_ncbc\n",
      "m = 1.877234 +/- 0.024488\n",
      "M = 5.572316 +/- 0.299027 Hz/cm^2; B=2.496963 +/- 0.039522\n",
      "RMSE=0.1386 Hz/cm^2; R^2=0.9969; N=73\n",
      "m = 1.637556 +/- 0.016847\n",
      "M = 16.735599 +/- 0.829136 Hz/cm^2; B=5.587740 +/- 0.065801\n",
      "RMSE=0.1340 Hz/cm^2; R^2=0.9973; N=100\n"
     ]
    },
    {
     "data": {
      "text/plain": [
       "{'rmse': 0.13399700314367843,\n",
       " 'Rsq': 0.9973072227791476,\n",
       " 'num_obs': 100,\n",
       " 'm': 1.6375562704001747,\n",
       " 'Delta_m': 0.016847093884166615,\n",
       " 'M': 16.73559858353836,\n",
       " 'Delta_M': 0.8291360607383425,\n",
       " 'B': 5.587739544416488,\n",
       " 'Delta_B': 0.06580106796305465}"
      ]
     },
     "execution_count": 536,
     "metadata": {},
     "output_type": "execute_result"
    }
   ],
   "source": [
    "#recall annihilation rate results from vidmar and rappel (2019)\n",
    "#Q: do any of the exponents match?\n",
    "#A: Yes!\n",
    "# - 1.88 ± 0.031 (FK)\n",
    "# - 1.638±0.017 (LR)\n",
    "\n",
    "dict_wjr = recall_death_rates_vidmar_rappel(**kwargs)\n",
    "fk=dict_wjr['fk']\n",
    "lr=dict_wjr['lr']\n",
    "#recall powerlaw fits to full\n",
    "wjr=recall_powerlaw_fits_to_full_models()\n",
    "print(*wjr)\n",
    "model_str = 'fk_pbc'\n",
    "# model_str = 'lr_pbc'\n",
    "# wjr[model_str]\n",
    "\n",
    "#recall annihilation rate results from vidmar and rappel (2019)\n",
    "#load birth death rates from the full model\n",
    "data_folder=f'{nb_dir}/data'\n",
    "os.chdir(data_folder)\n",
    "\n",
    "data_fk_fn='full_results/data_fig4_vidmar_fk_tt.csv'\n",
    "data_lr_fn='full_results/data_fig4_vidmar_lr_tt.csv'\n",
    "\n",
    "fk=pd.read_csv(data_fk_fn)\n",
    "fk['N']=fk['No2']*2\n",
    "fk['q']=fk['N']/fk['A'] #number of tips per square centimeter\n",
    "fk['w']=fk['rate']/fk['A']*10**3 #Hz/cm^2\n",
    "print_fit_power_law(x=fk['q'].values,y=fk['w'].values)\n",
    "\n",
    "lr=pd.read_csv(data_lr_fn)\n",
    "lr['N']=lr['No2']*2\n",
    "lr['q']=lr['N']/lr['A'] #number of tips per square centimeter\n",
    "lr['w']=lr['rate']/lr['A']*10**3 #Hz/cm^2\n",
    "print_fit_power_law(x=lr['q'].values,y=lr['w'].values)"
   ]
  },
  {
   "cell_type": "code",
   "execution_count": 537,
   "id": "e0fd2677",
   "metadata": {
    "ExecuteTime": {
     "end_time": "2022-10-20T02:35:11.935362Z",
     "start_time": "2022-10-20T02:35:11.878285Z"
    }
   },
   "outputs": [],
   "source": [
    "run_num=33 #all alinear estimators at L=10\n",
    "# run_num=32 #all constrained to observed at L=5\n",
    "# run_num=28  #what is in Particle_Paper\n",
    "parquet_dir_defects_fk=f'{nb_dir}/data/osg_output/run_{run_num}_defects_to_fk.parquet'\n",
    "parquet_dir_defects_lr=f'{nb_dir}/data/osg_output/run_{run_num}_defects_to_lr.parquet'\n",
    "input_folder=f'{nb_dir}/data/osg_output/run_{run_num}_all'\n",
    "#     parquet_dir_defects_fk=f'/home/timothytyree/Documents/GitHub/bgmc/python/data/osg_output/run_{run_num}_defects_to_fk.parquet'\n",
    "#     parquet_dir_defects_lr=f'/home/timothytyree/Documents/GitHub/bgmc/python/data/osg_output/run_{run_num}_defects_to_lr.parquet'\n",
    "#     input_folder=f'/home/timothytyree/Documents/GitHub/bgmc/python/data/osg_output/run_{run_num}_all'\n",
    "#load data\n",
    "df_defects_fk=pd.read_parquet(parquet_dir_defects_fk)\n",
    "df_defects_lr=pd.read_parquet(parquet_dir_defects_lr)\n",
    "#compute order parameter for each member a=amax-2*D\n",
    "#add columns for amax\n",
    "df_defects_fk['amax'] = np.around(df_defects_fk['varkappa'] + 2.*df_defects_fk['D'],num_digits_round_amax)\n",
    "df_defects_lr['amax'] = np.around(df_defects_lr['varkappa'] + 2.*df_defects_lr['D'],num_digits_round_amax)\n",
    "df_defects_fk['rxn'] = df_defects_fk['kappa']*df_defects_fk['r']**2\n",
    "df_defects_lr['rxn'] = df_defects_lr['kappa']*df_defects_lr['r']**2"
   ]
  },
  {
   "cell_type": "code",
   "execution_count": 543,
   "id": "33205a41",
   "metadata": {
    "ExecuteTime": {
     "end_time": "2022-10-20T02:37:00.431735Z",
     "start_time": "2022-10-20T02:37:00.403914Z"
    }
   },
   "outputs": [],
   "source": [
    "amax_fk_lst=[1.781,1.84,1.932]\n",
    "amax_lr_lst=[8.63,10.147,12.017]\n",
    "# amax_fk_lst=[1.932]\n",
    "# amax_fk_lst=[1.84]\n",
    "# amax_fk_lst=[1.781]\n",
    "# amax_lr_lst=[10.147]\n"
   ]
  },
  {
   "cell_type": "code",
   "execution_count": null,
   "id": "984a68f0",
   "metadata": {},
   "outputs": [],
   "source": []
  },
  {
   "cell_type": "code",
   "execution_count": 544,
   "id": "99a3377b",
   "metadata": {
    "ExecuteTime": {
     "end_time": "2022-10-20T02:37:01.597528Z",
     "start_time": "2022-10-20T02:37:00.886429Z"
    }
   },
   "outputs": [
    {
     "name": "stdout",
     "output_type": "stream",
     "text": [
      "neighbor=0, L=10\n",
      "amax=1.7810, D=0.1145, r**2*kappa=3.5116, r=0.1450, kappa=167.0200\t--> M: 6.0445, nu: 1.8682\n",
      "amax=1.8400, D=0.1145, r**2*kappa=3.5116, r=0.1450, kappa=167.0200\t--> M: 6.0648, nu: 1.8364\n",
      "amax=1.9320, D=0.1145, r**2*kappa=3.2736, r=0.1400, kappa=167.0200\t--> M: 5.8828, nu: 1.8242\n"
     ]
    },
    {
     "data": {
      "image/png": "[encoded data removed]",
      "text/plain": [
       "<Figure size 600x400 with 1 Axes>"
      ]
     },
     "metadata": {},
     "output_type": "display_data"
    }
   ],
   "source": [
    "df_defects=df_defects_fk.copy()\n",
    "D=float(D_fk)\n",
    "Mscale=0.01\n",
    "neighbor=1\n",
    "neighbor=0\n",
    "# use_filterby_rxn=True\n",
    "use_filterby_rxn=False\n",
    "use_filterby_minN=True\n",
    "minN=10\n",
    "figsize = (6, 4)  #(5,4)\n",
    "fontsize=16\n",
    "# x1lim=[0.008, 11]\n",
    "x1lim=[0.08, 11]\n",
    "x2lim=[0.01, 250]\n",
    "color_lst=['gray','black','purple']\n",
    "# vmax=3\n",
    "# vmin=1\n",
    "#plot annihilation rates\n",
    "fig, ax = plt.subplots(figsize=figsize)\n",
    "plot_death_rates_loglog_full(fk,lr,ax=ax,fontsize=fontsize,x1lim=x1lim, x2lim=x2lim)\n",
    "\n",
    "print(f\"{neighbor=}, {L=}\")\n",
    "# for each amax,D setting:\n",
    "# find the trial with the least square distance (in M,m space from the desired powerlaw fit.\n",
    "for color,amax in zip(color_lst,amax_fk_lst):\n",
    "    model_str = 'fk_pbc'\n",
    "    M = wjr[model_str]['M']\n",
    "    m = wjr[model_str]['m']\n",
    "    #query the linear particle model\n",
    "    query = neighbor == df_powerlaw_fits['neighbor']\n",
    "    query &= df_powerlaw_fits['amax']==amax\n",
    "    query &= df_powerlaw_fits['D']==D\n",
    "    \n",
    "    if use_filterby_rxn:\n",
    "        query &=df_powerlaw_fits['rxn']<=amax*1.1\n",
    "    \n",
    "    M_values,m_values = df_powerlaw_fits[query][['M','m']].values.T\n",
    "    \n",
    "    annihil_dist_values = Mscale*(M_values-M)**2 + (m_values-m)**2\n",
    "    #fit the linear particle model\n",
    "    fit_index = np.argmin(annihil_dist_values)\n",
    "    g = df_powerlaw_fits[query].iloc[fit_index]\n",
    "    #DONE: verified the right row is selected\n",
    "    fit_index = np.argmin(annihil_dist_values)\n",
    "    #get the job index\n",
    "    r = g['r']\n",
    "    kappa = g['kappa']\n",
    "    L = g['L']\n",
    "    #     print(f\"{amax=:.4f}, {D=:.4f}, {r=:.4f}, {kappa=:.4f} --> M: {M_values[fit_index]=:.4f}, nu: {m_values[fit_index]=:.4f}\")\n",
    "    print(f\"{amax=:.4f}, {D=:.4f}, {r**2*kappa=:.4f}, {r=:.4f}, {kappa=:.4f}\\t--> M: {M_values[fit_index]:.4f}, nu: {m_values[fit_index]:.4f}\")\n",
    "\n",
    "    query_defects = neighbor == df_defects['neighbor']\n",
    "    query_defects&= df_defects['amax']==amax\n",
    "    query_defects&= df_defects['D']==D\n",
    "    query_defects&= df_defects['L']==L\n",
    "    query_defects&= df_defects['r']==r\n",
    "    query_defects&= df_defects['kappa']==kappa\n",
    "    #print(sum(query_defects))\n",
    "    cluster_index = int(df_defects[query_defects]['cluster_index'].head(1))\n",
    "    job_index = int(df_defects[query_defects]['job_index'].head(1))\n",
    "    # cluster_index = int(df_defects[query_defects]['cluster_index'].tail(1))\n",
    "    # job_index = int(df_defects[query_defects]['job_index'].tail(1))\n",
    "    # {job_index}\n",
    "    input_fn = os.path.join(input_folder,f\"job.out.{int(cluster_index)}.{int(job_index)}\")\n",
    "    assert os.path.exists(input_fn)\n",
    "    df_fit,dict_linear_fit = routine_measure_annihilation_defect(input_fn,printing=True,**kwargs)\n",
    "    # df_fit_lr,dict_linear_fit_lr = routine_measure_annihilation_defect(input_fn,printing=True,**kwargs)\n",
    "    if use_filterby_minN:\n",
    "        df_fit = df_fit[df_fit['N']>=minN].copy()\n",
    "    #     df_fit_lr = df_fit_lr[df_fit_lr['N']>=minN].copy()\n",
    "\n",
    "    #plot the trial with the least square distance (in M,m space from the desired powerlaw fit.\n",
    "    df_fit.plot.scatter(x='q',y='w',alpha=0.4,ax=ax,color=color,\n",
    "                        label=f'{amax=:.4f}, {D=:.4f}')#,vmin=vmin,vmax=vmax,cmap='Greens')\n",
    "#     df_fit.plot.scatter(x='q',y='w',alpha=0.7,ax=ax,c=amax+0.*df_fit['q'].values,\n",
    "#                         label=f'{amax=:.4f}, {D=:.4f}',vmin=vmin,vmax=vmax,cmap='Greens')\n",
    "# format_plot\n",
    "ax.tick_params(top=True, right=True,direction='in',which='both')\n",
    "format_plot(ax=ax,xlabel=r'$n$ (1/cm$^2$)',ylabel=r'$w_-$ (Hz/cm$^2$)',fontsize=fontsize,use_loglog=True)\n",
    "leg = ax.legend(loc=(1.04,0.04),fontsize=fontsize-2.,frameon=False)\n",
    "# leg = ax.legend(loc='lower right',fontsize=fontsize-3.,frameon=False,ncol=1)\n",
    "\n",
    "for lh in leg.legendHandles: \n",
    "    lh.set_alpha(1)\n",
    "plt.show()"
   ]
  },
  {
   "cell_type": "code",
   "execution_count": 541,
   "id": "4e417c64",
   "metadata": {
    "ExecuteTime": {
     "end_time": "2022-10-20T02:35:51.435070Z",
     "start_time": "2022-10-20T02:35:51.412304Z"
    }
   },
   "outputs": [],
   "source": [
    "#TODO: repeat for LR model\n",
    "amax_lr_lst=[8.63,10.147,12.017]\n",
    "# amax_lr_lst=[8.63]\n",
    "# amax_lr_lst=[10.147]\n",
    "# amax_lr_lst=[12.017]\n"
   ]
  },
  {
   "cell_type": "code",
   "execution_count": 314,
   "id": "9cd89762",
   "metadata": {
    "ExecuteTime": {
     "end_time": "2022-10-19T23:39:11.547595Z",
     "start_time": "2022-10-19T23:39:11.513618Z"
    }
   },
   "outputs": [
    {
     "name": "stdout",
     "output_type": "stream",
     "text": [
      "M_values[fit_index]=5.6323, m_values[fit_index]=1.8109\n",
      "2\n"
     ]
    }
   ],
   "source": []
  },
  {
   "cell_type": "code",
   "execution_count": 513,
   "id": "cea9e643",
   "metadata": {
    "ExecuteTime": {
     "end_time": "2022-10-20T02:27:01.353922Z",
     "start_time": "2022-10-20T02:27:00.676894Z"
    }
   },
   "outputs": [
    {
     "name": "stdout",
     "output_type": "stream",
     "text": [
      "neighbor=1, L=10\n",
      "amax=8.6300, D=0.4158, r**2*kappa=2.1250, r=0.0500, kappa=850.0000\t--> M: 16.7500, nu: 1.6428\n",
      "amax=10.1470, D=0.4158, r**2*kappa=8.4088, r=0.1550, kappa=350.0000\t--> M: 16.6300, nu: 1.6394\n",
      "amax=12.0170, D=0.4158, r**2*kappa=8.1675, r=0.1650, kappa=300.0000\t--> M: 17.3812, nu: 1.6135\n"
     ]
    },
    {
     "data": {
      "image/png": "[encoded data removed]",
      "text/plain": [
       "<Figure size 600x400 with 1 Axes>"
      ]
     },
     "metadata": {},
     "output_type": "display_data"
    }
   ],
   "source": [
    "df_defects=df_defects_lr.copy()\n",
    "D=float(D_lr)\n",
    "Mscale=0.001\n",
    "neighbor=1\n",
    "# neighbor=0\n",
    "\n",
    "use_filterby_minN=True\n",
    "minN=10\n",
    "figsize = (6, 4)  #(5,4)\n",
    "fontsize=16\n",
    "# x1lim=[0.008, 11]\n",
    "x1lim=[0.08, 11]\n",
    "x2lim=[0.01, 250]\n",
    "color_lst=['gray','black','purple']\n",
    "# vmax=3\n",
    "# vmin=1\n",
    "#plot annihilation rates\n",
    "fig, ax = plt.subplots(figsize=figsize)\n",
    "plot_death_rates_loglog_full(fk,lr,ax=ax,fontsize=fontsize,x1lim=x1lim, x2lim=x2lim)\n",
    "\n",
    "print(f\"{neighbor=}, {L=}\")\n",
    "# for each amax,D setting:\n",
    "# find the trial with the least square distance (in M,m space from the desired powerlaw fit.\n",
    "for color,amax in zip(color_lst,amax_lr_lst):\n",
    "    model_str = 'lr_pbc'\n",
    "    M = wjr[model_str]['M']\n",
    "    m = wjr[model_str]['m']\n",
    "    #query the linear particle model\n",
    "    query = neighbor == df_powerlaw_fits['neighbor']\n",
    "    query &= df_powerlaw_fits['amax']==amax\n",
    "    query &= df_powerlaw_fits['D']==D\n",
    "    M_values,m_values = df_powerlaw_fits[query][['M','m']].values.T\n",
    "    annihil_dist_values = Mscale*(M_values-M)**2 + (m_values-m)**2\n",
    "    #fit the linear particle model\n",
    "    fit_index = np.argmin(annihil_dist_values)\n",
    "    g = df_powerlaw_fits[query].iloc[fit_index]\n",
    "    #DONE: verified the right row is selected\n",
    "    fit_index = np.argmin(annihil_dist_values)\n",
    "#     print(f\"{amax=:.4f}, {D=:.4f}, {r=:.4f}, {kappa=:.4f} --> M: {M_values[fit_index]=:.4f}, nu: {m_values[fit_index]=:.4f}\")\n",
    "    print(f\"{amax=:.4f}, {D=:.4f}, {r**2*kappa=:.4f}, {r=:.4f}, {kappa=:.4f}\\t--> M: {M_values[fit_index]:.4f}, nu: {m_values[fit_index]:.4f}\")\n",
    "    #get the job index\n",
    "    r = g['r']\n",
    "    kappa = g['kappa']\n",
    "    L = g['L']\n",
    "    query_defects = neighbor == df_defects['neighbor']\n",
    "    query_defects&= df_defects['amax']==amax\n",
    "    query_defects&= df_defects['D']==D\n",
    "    query_defects&= df_defects['L']==L\n",
    "    query_defects&= df_defects['r']==r\n",
    "    query_defects&= df_defects['kappa']==kappa\n",
    "    #print(sum(query_defects))\n",
    "    cluster_index = int(df_defects[query_defects]['cluster_index'].head(1))\n",
    "    job_index = int(df_defects[query_defects]['job_index'].head(1))\n",
    "    # cluster_index = int(df_defects[query_defects]['cluster_index'].tail(1))\n",
    "    # job_index = int(df_defects[query_defects]['job_index'].tail(1))\n",
    "    # {job_index}\n",
    "    input_fn = os.path.join(input_folder,f\"job.out.{int(cluster_index)}.{int(job_index)}\")\n",
    "    assert os.path.exists(input_fn)\n",
    "    df_fit,dict_linear_fit = routine_measure_annihilation_defect(input_fn,printing=True,**kwargs)\n",
    "    # df_fit_lr,dict_linear_fit_lr = routine_measure_annihilation_defect(input_fn,printing=True,**kwargs)\n",
    "    if use_filterby_minN:\n",
    "        df_fit = df_fit[df_fit['N']>=minN].copy()\n",
    "    #     df_fit_lr = df_fit_lr[df_fit_lr['N']>=minN].copy()\n",
    "\n",
    "    #plot the trial with the least square distance (in M,m space from the desired powerlaw fit.\n",
    "    df_fit.plot.scatter(x='q',y='w',alpha=0.4,ax=ax,color=color,\n",
    "                        label=f'{amax=:.4f}, {D=:.4f}')#,vmin=vmin,vmax=vmax,cmap='Greens')\n",
    "#     df_fit.plot.scatter(x='q',y='w',alpha=0.7,ax=ax,c=amax+0.*df_fit['q'].values,\n",
    "#                         label=f'{amax=:.4f}, {D=:.4f}',vmin=vmin,vmax=vmax,cmap='Greens')\n",
    "# format_plot\n",
    "ax.tick_params(top=True, right=True,direction='in',which='both')\n",
    "format_plot(ax=ax,xlabel=r'$n$ (1/cm$^2$)',ylabel=r'$w_-$ (Hz/cm$^2$)',fontsize=fontsize,use_loglog=True)\n",
    "leg = ax.legend(loc=(1.04,0.04),fontsize=fontsize-2.,frameon=False)\n",
    "# leg = ax.legend(loc='lower right',fontsize=fontsize-3.,frameon=False,ncol=1)\n",
    "\n",
    "for lh in leg.legendHandles: \n",
    "    lh.set_alpha(1)\n",
    "plt.show()"
   ]
  },
  {
   "cell_type": "code",
   "execution_count": 516,
   "id": "ee07690a",
   "metadata": {
    "ExecuteTime": {
     "end_time": "2022-10-20T02:28:24.636995Z",
     "start_time": "2022-10-20T02:28:24.091309Z"
    }
   },
   "outputs": [
    {
     "data": {
      "image/png": "[encoded data removed]",
      "text/plain": [
       "<Figure size 900x300 with 2 Axes>"
      ]
     },
     "metadata": {},
     "output_type": "display_data"
    }
   ],
   "source": [
    "\n",
    "fig,axs=plt.subplots(ncols=2,figsize=(9,3))\n",
    "for color,amax in zip(color_lst,amax_lr_lst):\n",
    "    model_str = 'lr_pbc'\n",
    "    M = wjr[model_str]['M']\n",
    "    m = wjr[model_str]['m']\n",
    "    #query the linear particle model\n",
    "    query = neighbor == df_powerlaw_fits['neighbor']\n",
    "    query &= df_powerlaw_fits['amax']==amax\n",
    "    query &= df_powerlaw_fits['D']==D\n",
    "    M_values,m_values = df_powerlaw_fits[query][['M','m']].values.T\n",
    "    rxn_values = df_powerlaw_fits[query]['r']**2*df_powerlaw_fits[query]['kappa']\n",
    "    axs[0].scatter(rxn_values,M_values,label=f'{amax=:.4f}',s=1)\n",
    "#     axs[1].scatter(rxn_values,m_values/amax,label=f'{amax=:.4f}',s=1)\n",
    "    axs[1].scatter(rxn_values,m_values,label=f'{amax=:.4f}',s=1)\n",
    "axs[1].set_xscale('log')\n",
    "axs[1].set_yscale('log')\n",
    "\n",
    "#plot constant slope on axs[0]\n",
    "xv=np.arange(0,60,1)\n",
    "axs[0].set_title('Slope=5/4',fontsize=fontsize)\n",
    "axs[0].plot(xv,1.25*xv,'k--',alpha=0.7,lw=1)#,label='slope=5/4')\n",
    "\n",
    "#format plots\n",
    "axs[0].tick_params(top=True, right=True,direction='in',which='both')\n",
    "axs[1].tick_params(top=True, right=True,direction='in',which='both')\n",
    "format_plot(ax=axs[0],xlabel=r'$\\kappa r^2$ (cm$^2$/s)',ylabel=r'$M_-$ (Hz/cm$^2$)',fontsize=fontsize)\n",
    "format_plot(ax=axs[1],xlabel=r'$\\kappa r^2$ (cm$^2$/s)',ylabel=r'$\\nu_-$',fontsize=fontsize)\n",
    "AddLegend(fontsize=fontsize)\n",
    "plt.tight_layout()\n",
    "plt.show()"
   ]
  },
  {
   "cell_type": "code",
   "execution_count": 468,
   "id": "49aad827",
   "metadata": {
    "ExecuteTime": {
     "end_time": "2022-10-20T00:59:57.512229Z",
     "start_time": "2022-10-20T00:59:57.493728Z"
    }
   },
   "outputs": [
    {
     "data": {
      "text/plain": [
       "1.82"
      ]
     },
     "execution_count": 468,
     "metadata": {},
     "output_type": "execute_result"
    }
   ],
   "source": [
    "3.64/2"
   ]
  },
  {
   "cell_type": "code",
   "execution_count": null,
   "id": "4ed83ae0",
   "metadata": {},
   "outputs": [],
   "source": []
  },
  {
   "cell_type": "code",
   "execution_count": null,
   "id": "3034a2f5",
   "metadata": {},
   "outputs": [],
   "source": []
  },
  {
   "cell_type": "code",
   "execution_count": null,
   "id": "3bf7a5ab",
   "metadata": {},
   "outputs": [],
   "source": []
  },
  {
   "cell_type": "code",
   "execution_count": null,
   "id": "0655016a",
   "metadata": {
    "ExecuteTime": {
     "end_time": "2022-10-19T23:44:47.395731Z",
     "start_time": "2022-10-19T23:44:47.378392Z"
    }
   },
   "outputs": [],
   "source": []
  },
  {
   "cell_type": "code",
   "execution_count": 339,
   "id": "e8fc0980",
   "metadata": {
    "ExecuteTime": {
     "end_time": "2022-10-19T23:45:21.430768Z",
     "start_time": "2022-10-19T23:45:21.413928Z"
    }
   },
   "outputs": [],
   "source": [
    "# # Q: why was this setting run twice\n",
    "#FIXED\n",
    "# 167.02*0.14**2"
   ]
  },
  {
   "cell_type": "code",
   "execution_count": 331,
   "id": "7ef94e42",
   "metadata": {
    "ExecuteTime": {
     "end_time": "2022-10-19T23:41:05.424139Z",
     "start_time": "2022-10-19T23:41:05.405835Z"
    }
   },
   "outputs": [],
   "source": []
  },
  {
   "cell_type": "code",
   "execution_count": null,
   "id": "ff4fc336",
   "metadata": {
    "ExecuteTime": {
     "end_time": "2022-10-19T23:23:12.977480Z",
     "start_time": "2022-10-19T23:23:12.956236Z"
    }
   },
   "outputs": [],
   "source": []
  },
  {
   "cell_type": "code",
   "execution_count": 333,
   "id": "1c6f5e1f",
   "metadata": {
    "ExecuteTime": {
     "end_time": "2022-10-19T23:41:06.307404Z",
     "start_time": "2022-10-19T23:41:06.275509Z"
    }
   },
   "outputs": [],
   "source": []
  },
  {
   "cell_type": "code",
   "execution_count": 354,
   "id": "a9a54ba0",
   "metadata": {
    "ExecuteTime": {
     "end_time": "2022-10-19T23:50:58.943488Z",
     "start_time": "2022-10-19T23:50:58.838361Z"
    }
   },
   "outputs": [],
   "source": []
  },
  {
   "cell_type": "code",
   "execution_count": 355,
   "id": "89ff9043",
   "metadata": {
    "ExecuteTime": {
     "end_time": "2022-10-19T23:51:19.513408Z",
     "start_time": "2022-10-19T23:51:19.488399Z"
    }
   },
   "outputs": [
    {
     "data": {
      "text/html": [
       "<div>\n",
       "<style scoped>\n",
       "    .dataframe tbody tr th:only-of-type {\n",
       "        vertical-align: middle;\n",
       "    }\n",
       "\n",
       "    .dataframe tbody tr th {\n",
       "        vertical-align: top;\n",
       "    }\n",
       "\n",
       "    .dataframe thead th {\n",
       "        text-align: right;\n",
       "    }\n",
       "</style>\n",
       "<table border=\"1\" class=\"dataframe\">\n",
       "  <thead>\n",
       "    <tr style=\"text-align: right;\">\n",
       "      <th></th>\n",
       "      <th>m</th>\n",
       "      <th>Delta_m</th>\n",
       "      <th>M</th>\n",
       "      <th>Delta_M</th>\n",
       "      <th>Rsq</th>\n",
       "      <th>rmse</th>\n",
       "      <th>rmse_full</th>\n",
       "      <th>model_name_full</th>\n",
       "      <th>q_min</th>\n",
       "      <th>q_max</th>\n",
       "      <th>...</th>\n",
       "      <th>L</th>\n",
       "      <th>force_code</th>\n",
       "      <th>neighbor</th>\n",
       "      <th>reflect</th>\n",
       "      <th>set_second</th>\n",
       "      <th>no_repulsion</th>\n",
       "      <th>no_attraction</th>\n",
       "      <th>dt</th>\n",
       "      <th>Dt</th>\n",
       "      <th>amax</th>\n",
       "    </tr>\n",
       "  </thead>\n",
       "  <tbody>\n",
       "  </tbody>\n",
       "</table>\n",
       "<p>0 rows × 25 columns</p>\n",
       "</div>"
      ],
      "text/plain": [
       "Empty DataFrame\n",
       "Columns: [m, Delta_m, M, Delta_M, Rsq, rmse, rmse_full, model_name_full, q_min, q_max, r, kappa, D, varkappa, x0, L, force_code, neighbor, reflect, set_second, no_repulsion, no_attraction, dt, Dt, amax]\n",
       "Index: []\n",
       "\n",
       "[0 rows x 25 columns]"
      ]
     },
     "execution_count": 355,
     "metadata": {},
     "output_type": "execute_result"
    }
   ],
   "source": [
    "#query best fit\n",
    "query = r == df_powerlaw_fits['r']\n",
    "query&= kappa == df_powerlaw_fits['kappa']\n",
    "query&= D == df_powerlaw_fits['D']\n",
    "query&= a == df_powerlaw_fits['varkappa']\n",
    "query&= neighbor == df_powerlaw_fits['neighbor']\n",
    "df_powerlaw_fits[query]"
   ]
  },
  {
   "cell_type": "code",
   "execution_count": 196,
   "id": "aa449f0f",
   "metadata": {
    "ExecuteTime": {
     "end_time": "2022-10-12T03:15:27.447392Z",
     "start_time": "2022-10-12T03:15:27.424702Z"
    }
   },
   "outputs": [
    {
     "data": {
      "text/html": [
       "<div>\n",
       "<style scoped>\n",
       "    .dataframe tbody tr th:only-of-type {\n",
       "        vertical-align: middle;\n",
       "    }\n",
       "\n",
       "    .dataframe tbody tr th {\n",
       "        vertical-align: top;\n",
       "    }\n",
       "\n",
       "    .dataframe thead th {\n",
       "        text-align: right;\n",
       "    }\n",
       "</style>\n",
       "<table border=\"1\" class=\"dataframe\">\n",
       "  <thead>\n",
       "    <tr style=\"text-align: right;\">\n",
       "      <th></th>\n",
       "      <th>r</th>\n",
       "      <th>kappa</th>\n",
       "    </tr>\n",
       "  </thead>\n",
       "  <tbody>\n",
       "    <tr>\n",
       "      <th>8169</th>\n",
       "      <td>0.035</td>\n",
       "      <td>600.0</td>\n",
       "    </tr>\n",
       "  </tbody>\n",
       "</table>\n",
       "</div>"
      ],
      "text/plain": [
       "          r  kappa\n",
       "8169  0.035  600.0"
      ]
     },
     "execution_count": 196,
     "metadata": {},
     "output_type": "execute_result"
    }
   ],
   "source": [
    "#TODO: compute the likelihood to each of the full models, as before\n",
    "\n",
    "df_powerlaw_fits[query][['r','kappa']]"
   ]
  },
  {
   "cell_type": "code",
   "execution_count": 197,
   "id": "0e1ba1e9",
   "metadata": {
    "ExecuteTime": {
     "end_time": "2022-10-12T03:15:43.475446Z",
     "start_time": "2022-10-12T03:15:43.457712Z"
    }
   },
   "outputs": [
    {
     "data": {
      "text/plain": [
       "0.7350000000000001"
      ]
     },
     "execution_count": 197,
     "metadata": {},
     "output_type": "execute_result"
    }
   ],
   "source": [
    "0.035**2*600\n"
   ]
  },
  {
   "cell_type": "code",
   "execution_count": null,
   "id": "6e6ba53c",
   "metadata": {},
   "outputs": [],
   "source": []
  },
  {
   "cell_type": "code",
   "execution_count": null,
   "id": "4f3cda8d",
   "metadata": {},
   "outputs": [],
   "source": []
  },
  {
   "cell_type": "code",
   "execution_count": null,
   "id": "c1c3873c",
   "metadata": {},
   "outputs": [],
   "source": []
  },
  {
   "cell_type": "markdown",
   "id": "8025d457",
   "metadata": {
    "heading_collapsed": true
   },
   "source": [
    "# Plot mean annihilation rates"
   ]
  },
  {
   "cell_type": "code",
   "execution_count": 134,
   "id": "c14a27fd",
   "metadata": {
    "ExecuteTime": {
     "end_time": "2022-10-12T00:05:03.155186Z",
     "start_time": "2022-10-12T00:05:03.133424Z"
    },
    "hidden": true
   },
   "outputs": [],
   "source": [
    "dict_wjr = recall_death_rates_vidmar_rappel(**kwargs)\n",
    "fk=dict_wjr['fk']\n",
    "lr=dict_wjr['lr']"
   ]
  },
  {
   "cell_type": "code",
   "execution_count": 135,
   "id": "318c6e83",
   "metadata": {
    "ExecuteTime": {
     "end_time": "2022-10-12T00:05:05.182690Z",
     "start_time": "2022-10-12T00:05:05.166140Z"
    },
    "hidden": true
   },
   "outputs": [],
   "source": [
    "# plot_death_rates_loglog_full"
   ]
  },
  {
   "cell_type": "code",
   "execution_count": 136,
   "id": "5fb39d35",
   "metadata": {
    "ExecuteTime": {
     "end_time": "2022-10-12T00:05:06.276049Z",
     "start_time": "2022-10-12T00:05:05.589741Z"
    },
    "hidden": true
   },
   "outputs": [
    {
     "name": "stdout",
     "output_type": "stream",
     "text": [
      "run_num_lst=[28, 29]\n"
     ]
    },
    {
     "data": {
      "image/png": "[encoded data removed]",
      "text/plain": [
       "<Figure size 400x400 with 1 Axes>"
      ]
     },
     "metadata": {},
     "output_type": "display_data"
    }
   ],
   "source": [
    "use_filterby_minN=True\n",
    "minN=10\n",
    "# minN=8\n",
    "# figsize = (6, 4)  #(5,4)\n",
    "figsize = (4, 4)  #(5,4)\n",
    "fontsize=16\n",
    "\n",
    "# x1lim=[0.008, 11]\n",
    "x1lim=[0.08, 11]\n",
    "x2lim=[0.01, 250]\n",
    "\n",
    "\n",
    "fig, ax = plt.subplots(figsize=figsize)\n",
    "\n",
    "\n",
    "\n",
    "ax = plot_death_rates_loglog_full(fk,lr,ax=ax,fontsize=fontsize,x1lim=x1lim, x2lim=x2lim)\n",
    "\n",
    "# Linear Particle (L=5)\n",
    "df_fit_fk = dict_results_fk_lst[0]['df_fit'].copy()\n",
    "dg_fit_fk = dict_results_fk_lst[0]['dg_fit'].copy()\n",
    "df_fit_lr = dict_results_lr_lst[0]['df_fit'].copy()\n",
    "dg_fit_lr = dict_results_lr_lst[0]['dg_fit'].copy()\n",
    "\n",
    "if use_filterby_minN:\n",
    "    df_fit_fk = df_fit_fk[df_fit_fk['N']>=minN].copy()\n",
    "    df_fit_lr = df_fit_lr[df_fit_lr['N']>=minN].copy()\n",
    "\n",
    "df_fit_fk.plot(x='q',y='w',alpha=0.7,ax=ax,color='k',label=r'Lin. (A=25 cm$^2$)')#f'Lin. Particle (L=5)')\n",
    "df_fit_lr.plot(x='q',y='w',alpha=0.7,ax=ax,color='k',label='_Best Fit to LR')\n",
    "# df_fit_fk.plot(x='q',y='w',alpha=0.7,ax=ax,color='k',label=r'Particle (A=25 cm$^2$)')#f'Lin. Particle (L=5)')\n",
    "# df_fit_fk.plot(x='q',y='w',alpha=0.7,ax=ax,color='k',label=r'Linear Particle (A=25 cm$^2$)')#f'Lin. Particle (L=5)')\n",
    "# df_fit_lr.plot(x='q',y='w',alpha=0.7,ax=ax,color='k',label='_Best Fit to LR')\n",
    "\n",
    "# Linear Particle (L=10)\n",
    "df_fit_fk = dict_results_fk_lst[1]['df_fit'].copy()\n",
    "dg_fit_fk = dict_results_fk_lst[1]['dg_fit'].copy()\n",
    "df_fit_lr = dict_results_lr_lst[1]['df_fit'].copy()\n",
    "dg_fit_lr = dict_results_lr_lst[1]['dg_fit'].copy()\n",
    "\n",
    "if use_filterby_minN:\n",
    "    df_fit_fk = df_fit_fk[df_fit_fk['N']>=minN].copy()\n",
    "    df_fit_lr = df_fit_lr[df_fit_lr['N']>=minN].copy()\n",
    "\n",
    "   \n",
    "df_fit_fk.plot(x='q',y='w',alpha=0.7,ax=ax,color='r',label=r'Lin. (A=100 cm$^2$)')#f'Lin. Particle (L=5)')\n",
    "df_fit_lr.plot(x='q',y='w',alpha=0.7,ax=ax,color='r',label='_Best Fit to LR')\n",
    "# df_fit_fk.plot(x='q',y='w',alpha=0.7,ax=ax,color='r',label=r'Linear Particle (A=100 cm$^2$)')#)f'Lin. Particle (L=10)')\n",
    "# # df_fit_fk.plot(x='q',y='w',alpha=0.7,ax=ax,color='r',label=f'Linear Particle (L=10)')#,label='_Best Fit to FK')\n",
    "# # df_fit_fk.plot(x='q',y='w',alpha=0.7,ax=ax,color='r',label=r'Lin. Particle (A=100 cm$^2$)')#)f'Lin. Particle (L=10)')\n",
    "# # df_fit_fk.plot(x='q',y='w',alpha=0.7,ax=ax,color='r',label=r'Particle (A=100 cm$^2$)')#)f'Lin. Particle (L=10)')\n",
    "# df_fit_lr.plot(x='q',y='w',alpha=0.7,ax=ax,color='r',label='_Best Fit to LR')\n",
    "\n",
    "# format_plot\n",
    "ax.tick_params(top=True, right=True,direction='in',which='both')\n",
    "format_plot(ax=ax,xlabel=r'$n$ (1/cm$^2$)',ylabel=r'$w_-$ (Hz/cm$^2$)',fontsize=fontsize,use_loglog=True)\n",
    "# format_plot(ax=ax,xlabel=r'$q$ (1/cm$^2$)',ylabel=r'$w_-$ (Hz/cm$^2$)',fontsize=fontsize,use_loglog=True)\n",
    "# ax.legend(loc='upper left',fontsize=fontsize-2)\n",
    "# ax.legend(loc='lower right',fontsize=fontsize-2.,frameon=False,ncol=2)\n",
    "# leg = ax.legend(loc=(1.04,0.2),fontsize=fontsize-2.,frameon=False)\n",
    "# leg = ax.legend(loc='upper left',fontsize=fontsize-3.,frameon=False,ncol=1)\n",
    "leg = ax.legend(loc='lower right',fontsize=fontsize-3.,frameon=False,ncol=1)\n",
    "for lh in leg.legendHandles: \n",
    "    lh.set_alpha(1)\n",
    "# ax.get_legend().remove()\n",
    "\n",
    "# x1lim = [8e-3, 1.1]  \n",
    "# x2lim = [1e-2, 25]\n",
    "# ax.set_xlim(x1lim)\n",
    "# ax.set_ylim(x2lim)\n",
    "\n",
    "#add annotation\n",
    "# xytext=(0.09, 10)\n",
    "# xytext=(0.01, 90)\n",
    "# ax.annotate(r\"best fit ($a>0$)\", xy=xy, xytext=xytext,fontsize=fontsize)\n",
    "# .tick_params(labelbottom=False, labeltop=True, labelleft=False, labelright=False,\n",
    "#                      bottom=False, top=True, left=False, right=False)\n",
    "# xytext=(0.01, 40)\n",
    "# xy=(0.3, 11)\n",
    "# ax.annotate(r\"$a_{max}$ = const.\", xy=xy, xytext=(0.01, 40),fontsize=fontsize-2)\n",
    "# ax.annotate(r\"$a_{max}$ fixed to observed\", xy=xy, xytext=(0.01, 40),fontsize=fontsize-2)\n",
    "# ax.annotate(r\"$a_{max}$ fixed to observation\"+f\"\\nfrom MSR of full\", xy=xy, xytext=(0.01, 40),fontsize=fontsize-2)\n",
    "# #add marker showing the slope of ~2\n",
    "# annotation.slope_marker(origin=(.75, 2.0),\n",
    "#                         slope=2,\n",
    "#                         text_kwargs={'color': 'black','fontsize':16, 'alpha':0.7},\n",
    "#                         poly_kwargs={'facecolor': (0.5, 0.5, 0.5), 'alpha':0.5},\n",
    "#                         ax=ax)\n",
    "print(f\"{run_num_lst=}\")\n",
    "# print(f\"{neighbor_lst=}\")\n",
    "plt.show()"
   ]
  },
  {
   "cell_type": "code",
   "execution_count": null,
   "id": "ec69b57c",
   "metadata": {
    "hidden": true
   },
   "outputs": [],
   "source": []
  },
  {
   "cell_type": "code",
   "execution_count": null,
   "id": "48ad855a",
   "metadata": {
    "hidden": true
   },
   "outputs": [],
   "source": []
  },
  {
   "cell_type": "markdown",
   "id": "b16c4427",
   "metadata": {
    "heading_collapsed": true
   },
   "source": [
    "# TODO: generate table of $a_{max}$ for the best trial in each data run available"
   ]
  },
  {
   "cell_type": "markdown",
   "id": "77a3f753",
   "metadata": {
    "hidden": true
   },
   "source": [
    "$$a_{max} = a_{linear} + 2D$$"
   ]
  },
  {
   "cell_type": "markdown",
   "id": "09ee11dc",
   "metadata": {
    "hidden": true
   },
   "source": [
    "for each of the full models\n",
    "1. iterate over all defect files cached in .parquet files\n",
    "1. compute the row for the best fit trial"
   ]
  },
  {
   "cell_type": "code",
   "execution_count": 4,
   "id": "ecefa2d8",
   "metadata": {
    "ExecuteTime": {
     "end_time": "2022-09-28T01:51:21.568075Z",
     "start_time": "2022-09-28T01:51:21.531959Z"
    },
    "hidden": true
   },
   "outputs": [],
   "source": [
    "# print(\"model, run, L, amax/L**2,  rmse, log_likelihood,\")\n",
    "# dict_fit_lst=[]\n",
    "# # for each of the full models\n",
    "# for model_str in ['fk','lr']:\n",
    "#     # for each defect file cached as .parquet files\n",
    "#     run_num_lst=reversed(range(27))\n",
    "#     for run_num in run_num_lst:\n",
    "#         defect_dir=f'/home/timothytyree/Documents/GitHub/bgmc/python/data/osg_output/run_{run_num}_defects_to_fk.parquet'\n",
    "#         df_defects_fk=pd.read_parquet(defect_dir)\n",
    "        \n",
    "        \n",
    "        \n",
    "        \n",
    "# #         dict_fit=dict(model=model_str,run=run,\n",
    "# #                       L=L,amax=amax,\n",
    "# #                       rmse=rmse,log_likelihood=log_likelihood,\n",
    "# #                       alinear=alinear,D=D,r=r,kappa=kappa,\n",
    "# #                       cluster_index=cluster_index)"
   ]
  },
  {
   "cell_type": "code",
   "execution_count": 5,
   "id": "a3de2f97",
   "metadata": {
    "ExecuteTime": {
     "end_time": "2022-09-28T01:51:21.612395Z",
     "start_time": "2022-09-28T01:51:21.570187Z"
    },
    "hidden": true
   },
   "outputs": [],
   "source": [
    "# rmse = df_defects_fk['rmse'].min()\n",
    "# [rmse==df_defects_fk['rmse']]"
   ]
  },
  {
   "cell_type": "code",
   "execution_count": 6,
   "id": "830f8d57",
   "metadata": {
    "ExecuteTime": {
     "end_time": "2022-09-28T01:51:22.069415Z",
     "start_time": "2022-09-28T01:51:21.614681Z"
    },
    "hidden": true
   },
   "outputs": [
    {
     "ename": "NameError",
     "evalue": "name 'input_fn' is not defined",
     "output_type": "error",
     "traceback": [
      "\u001b[0;31m---------------------------------------------------------------------------\u001b[0m",
      "\u001b[0;31mNameError\u001b[0m                                 Traceback (most recent call last)",
      "\u001b[0;32m/var/folders/0h/p4cbb7yx22jbxm0qb47vhfbh0000gn/T/ipykernel_94170/533385297.py\u001b[0m in \u001b[0;36m<module>\u001b[0;34m\u001b[0m\n\u001b[1;32m      1\u001b[0m \u001b[0;31m#compute a row describing the parameter settings of the trial with the lowest error/loss\u001b[0m\u001b[0;34m\u001b[0m\u001b[0;34m\u001b[0m\u001b[0;34m\u001b[0m\u001b[0m\n\u001b[1;32m      2\u001b[0m \u001b[0;31m#HINT:\u001b[0m\u001b[0;34m\u001b[0m\u001b[0;34m\u001b[0m\u001b[0;34m\u001b[0m\u001b[0m\n\u001b[0;32m----> 3\u001b[0;31m \u001b[0mdf\u001b[0m\u001b[0;34m,\u001b[0m\u001b[0mdict_linear\u001b[0m \u001b[0;34m=\u001b[0m \u001b[0mroutine_measure_annihilation_defect\u001b[0m\u001b[0;34m(\u001b[0m\u001b[0minput_fn\u001b[0m\u001b[0;34m,\u001b[0m\u001b[0mprinting\u001b[0m\u001b[0;34m=\u001b[0m\u001b[0;32mTrue\u001b[0m\u001b[0;34m)\u001b[0m\u001b[0;31m#,**kwargs)\u001b[0m\u001b[0;34m\u001b[0m\u001b[0;34m\u001b[0m\u001b[0m\n\u001b[0m\u001b[1;32m      4\u001b[0m \u001b[0;34m\u001b[0m\u001b[0m\n\u001b[1;32m      5\u001b[0m \u001b[0mprint\u001b[0m\u001b[0;34m(\u001b[0m\u001b[0;34mf\"{model_str}, {run_num}, {L}, {amax/L**2}, {rmse}, {log_likelihood}\"\u001b[0m\u001b[0;34m)\u001b[0m\u001b[0;34m\u001b[0m\u001b[0;34m\u001b[0m\u001b[0m\n",
      "\u001b[0;31mNameError\u001b[0m: name 'input_fn' is not defined"
     ]
    }
   ],
   "source": [
    "\n",
    "#compute a row describing the parameter settings of the trial with the lowest error/loss\n",
    "#HINT: \n",
    "df,dict_linear = routine_measure_annihilation_defect(input_fn,printing=True)#,**kwargs)\n",
    "\n",
    "print(f\"{model_str}, {run_num}, {L}, {amax/L**2}, {rmse}, {log_likelihood}\")"
   ]
  },
  {
   "cell_type": "markdown",
   "id": "e4ac425d",
   "metadata": {
    "heading_collapsed": true
   },
   "source": [
    "# select data run to visualize"
   ]
  },
  {
   "cell_type": "code",
   "execution_count": null,
   "id": "cd2071d9",
   "metadata": {
    "hidden": true
   },
   "outputs": [],
   "source": []
  },
  {
   "cell_type": "code",
   "execution_count": 11,
   "id": "fea65f5b",
   "metadata": {
    "ExecuteTime": {
     "end_time": "2022-10-09T20:14:22.090242Z",
     "start_time": "2022-10-09T20:14:22.055943Z"
    },
    "hidden": true
   },
   "outputs": [],
   "source": [
    "run_num=30 #L=5 cm\n",
    "# run_num=26 #L=5 cm\n",
    "# run_num=25 #L=5 cm\n",
    "# run_num=18 #L=10 cm\n",
    "parquet_dir_defects_fk=f'/home/timothytyree/Documents/GitHub/bgmc/python/data/osg_output/run_{run_num}_defects_to_fk.parquet'\n",
    "parquet_dir_defects_lr=f'/home/timothytyree/Documents/GitHub/bgmc/python/data/osg_output/run_{run_num}_defects_to_lr.parquet'\n",
    "input_folder=f'/home/timothytyree/Documents/GitHub/bgmc/python/data/osg_output/run_{run_num}_all'"
   ]
  },
  {
   "cell_type": "code",
   "execution_count": null,
   "id": "8654a994",
   "metadata": {
    "hidden": true
   },
   "outputs": [],
   "source": []
  },
  {
   "cell_type": "markdown",
   "id": "75772a4e",
   "metadata": {
    "heading_collapsed": true
   },
   "source": [
    "# load defects and plot the best fits"
   ]
  },
  {
   "cell_type": "code",
   "execution_count": 12,
   "id": "adbdf15c",
   "metadata": {
    "ExecuteTime": {
     "end_time": "2022-10-09T20:14:22.954248Z",
     "start_time": "2022-10-09T20:14:22.892283Z"
    },
    "hidden": true
   },
   "outputs": [],
   "source": [
    "df_defects_fk=pd.read_parquet(parquet_dir_defects_fk)\n",
    "df_defects_lr=pd.read_parquet(parquet_dir_defects_lr)\n",
    "#compute for each member a=amax-2*D\n",
    "num_digits_round=2\n",
    "#add columns for amax\n",
    "df_defects_fk['amax'] = np.around(df_defects_fk['varkappa'] + 2.*df_defects_fk['D'],num_digits_round)\n",
    "df_defects_lr['amax'] = np.around(df_defects_lr['varkappa'] + 2.*df_defects_lr['D'],num_digits_round)"
   ]
  },
  {
   "cell_type": "code",
   "execution_count": 13,
   "id": "934e9ec3",
   "metadata": {
    "ExecuteTime": {
     "end_time": "2022-10-09T20:14:24.149728Z",
     "start_time": "2022-10-09T20:14:24.052987Z"
    },
    "hidden": true
   },
   "outputs": [
    {
     "name": "stdout",
     "output_type": "stream",
     "text": [
      "parameter range supported in run #30:\n",
      "               r     kappa           D     varkappa      amax        L\n",
      "min        0.060    167.02      0.0014      0.42863      0.66      5.0\n",
      "max        0.195   1614.16      0.4158     12.01420     12.02      5.0\n",
      "count  11584.000  11584.00  11584.0000  11584.00000  11584.00  11584.0\n",
      "\n",
      "*******************************\n",
      "* Fenton-Karma Model (best settings):\n",
      "*******************************\n",
      "amax=0.6600, rmse_min=0.6193, log_likelihood=-911.0519, count=1448\n",
      "\n",
      "*******************************\n",
      "* Luo-Rudy Model (best settings):\n",
      "*******************************\n",
      "amax=0.6600, rmse_min=4.5008, log_likelihood=-3801.7347, count=1448\n",
      "amax=1.8400, rmse_min=2.8189, log_likelihood=-839.5843, count=1448\n",
      "amax=1.9300, rmse_min=2.6719, log_likelihood=-740.2604, count=1448\n",
      "amax=2.7400, rmse_min=1.6616, log_likelihood=-304.3111, count=1448\n",
      "amax=3.3000, rmse_min=1.0842, log_likelihood=-133.6276, count=1448\n",
      "amax=8.5900, rmse_min=0.2529, log_likelihood=10.6341, count=1448\n"
     ]
    }
   ],
   "source": [
    "# parquet_dir_defects_fk='/home/timothytyree/Documents/GitHub/bgmc/python/data/osg_output/run_26_defects_to_fk.parquet'\n",
    "# parquet_dir_defects_lr='/home/timothytyree/Documents/GitHub/bgmc/python/data/osg_output/run_26_defects_to_lr.parquet'\n",
    "parquet_dir_defects_fk=f'/home/timothytyree/Documents/GitHub/bgmc/python/data/osg_output/run_{run_num}_defects_to_fk.parquet'\n",
    "parquet_dir_defects_lr=f'/home/timothytyree/Documents/GitHub/bgmc/python/data/osg_output/run_{run_num}_defects_to_lr.parquet'\n",
    "# parquet_dir_defects_fk=f'/Users/timothytyree/Documents/GitHub/bgmc/python/data/osg_output/run_{run_num}_defects_to_fk.parquet'\n",
    "# parquet_dir_defects_lr=f'/Users/timothytyree/Documents/GitHub/bgmc/python/data/osg_output/run_{run_num}_defects_to_lr.parquet'\n",
    "df_defects_fk=pd.read_parquet(parquet_dir_defects_fk)\n",
    "df_defects_lr=pd.read_parquet(parquet_dir_defects_lr)\n",
    "df_defects_lr.shape\n",
    "\n",
    "#compute for each member a=amax-2*D\n",
    "num_digits_round=2\n",
    "#add columns for amax\n",
    "df_defects_fk['amax'] = np.around(df_defects_fk['varkappa'] + 2.*df_defects_fk['D'],num_digits_round)\n",
    "df_defects_lr['amax'] = np.around(df_defects_lr['varkappa'] + 2.*df_defects_lr['D'],num_digits_round)\n",
    "\n",
    "print(f\"parameter range supported in run #{run_num}:\")\n",
    "print(df_defects_lr.describe()[['r','kappa','D','varkappa','amax','L']].T[['min','max','count']].T)\n",
    "\n",
    "#identify the lowest error simulation for each amax value\n",
    "print(f\"\\n*******************************\")\n",
    "print(f\"* Fenton-Karma Model (best settings):\")\n",
    "print(f\"*******************************\")\n",
    "minrmse=9999.\n",
    "supamax=1.8\n",
    "for amax,g in df_defects_fk.groupby(by='amax'):\n",
    "    rmse_min = g['rmse'].min()\n",
    "    count = g['rmse'].count()\n",
    "    log_likelihood = g['log_likelihood'].max()\n",
    "    if (rmse_min<=minrmse)&(amax<=supamax):\n",
    "        minrmse=rmse_min\n",
    "        print(f\"{amax=:.4f}, {rmse_min=:.4f}, {log_likelihood=:.4f}, {count=}\")\n",
    "        gmin_fk=g.copy()\n",
    "    \n",
    "\n",
    "#identify the lowest error simulation for each amax value\n",
    "print(f\"\\n*******************************\")\n",
    "print(f\"* Luo-Rudy Model (best settings):\")\n",
    "print(f\"*******************************\")\n",
    "minrmse=9999.\n",
    "supamax=10.2\n",
    "for amax,g in df_defects_lr.groupby(by='amax'):\n",
    "    rmse_min = g['rmse'].min()\n",
    "    count = g['rmse'].count()\n",
    "    log_likelihood = g['log_likelihood'].max()\n",
    "    if (rmse_min<=minrmse)&(amax<=supamax):\n",
    "        minrmse=rmse_min\n",
    "        print(f\"{amax=:.4f}, {rmse_min=:.4f}, {log_likelihood=:.4f}, {count=}\")\n",
    "        gmin_lr=g.copy()\n"
   ]
  },
  {
   "cell_type": "code",
   "execution_count": null,
   "id": "ba066d7e",
   "metadata": {
    "ExecuteTime": {
     "end_time": "2022-09-14T02:31:00.265862Z",
     "start_time": "2022-09-14T02:31:00.233106Z"
    },
    "hidden": true
   },
   "outputs": [],
   "source": []
  },
  {
   "cell_type": "code",
   "execution_count": 14,
   "id": "bf29dd17",
   "metadata": {
    "ExecuteTime": {
     "end_time": "2022-10-09T20:14:26.657179Z",
     "start_time": "2022-10-09T20:14:26.636889Z"
    },
    "hidden": true
   },
   "outputs": [
    {
     "data": {
      "text/html": [
       "<div>\n",
       "<style scoped>\n",
       "    .dataframe tbody tr th:only-of-type {\n",
       "        vertical-align: middle;\n",
       "    }\n",
       "\n",
       "    .dataframe tbody tr th {\n",
       "        vertical-align: top;\n",
       "    }\n",
       "\n",
       "    .dataframe thead th {\n",
       "        text-align: right;\n",
       "    }\n",
       "</style>\n",
       "<table border=\"1\" class=\"dataframe\">\n",
       "  <thead>\n",
       "    <tr style=\"text-align: right;\">\n",
       "      <th></th>\n",
       "      <th>cluster_index</th>\n",
       "      <th>job_index</th>\n",
       "    </tr>\n",
       "  </thead>\n",
       "  <tbody>\n",
       "    <tr>\n",
       "      <th>5557</th>\n",
       "      <td>24328779</td>\n",
       "      <td>2804</td>\n",
       "    </tr>\n",
       "  </tbody>\n",
       "</table>\n",
       "</div>"
      ],
      "text/plain": [
       "      cluster_index  job_index\n",
       "5557       24328779       2804"
      ]
     },
     "execution_count": 14,
     "metadata": {},
     "output_type": "execute_result"
    }
   ],
   "source": [
    "dg_fk=gmin_fk[gmin_fk['rmse'] == gmin_fk['rmse'].min()]\n",
    "dg_fk[['cluster_index','job_index']]"
   ]
  },
  {
   "cell_type": "code",
   "execution_count": null,
   "id": "34a65686",
   "metadata": {
    "ExecuteTime": {
     "end_time": "2022-09-14T02:43:06.021411Z",
     "start_time": "2022-09-14T02:43:05.956858Z"
    },
    "hidden": true
   },
   "outputs": [],
   "source": []
  },
  {
   "cell_type": "code",
   "execution_count": 18,
   "id": "04f10c6a",
   "metadata": {
    "ExecuteTime": {
     "end_time": "2022-10-09T20:16:19.022339Z",
     "start_time": "2022-10-09T20:16:18.957653Z"
    },
    "hidden": true
   },
   "outputs": [
    {
     "name": "stdout",
     "output_type": "stream",
     "text": [
      "\n",
      "parameter settings of best fits:\n",
      "       r       D    L  kappa  varkappa   x0  neighbor         model\n",
      "0  0.185  0.0372  5.0  450.0   0.58323  0.0       1.0  Fenton-Karma\n",
      "1  0.120  0.4158  5.0  350.0   7.75343  0.0       1.0      Luo-Rudy\n"
     ]
    },
    {
     "ename": "TypeError",
     "evalue": "unsupported format string passed to Series.__format__",
     "output_type": "error",
     "traceback": [
      "\u001b[0;31m---------------------------------------------------------------------------\u001b[0m",
      "\u001b[0;31mTypeError\u001b[0m                                 Traceback (most recent call last)",
      "Input \u001b[0;32mIn [18]\u001b[0m, in \u001b[0;36m<cell line: 51>\u001b[0;34m()\u001b[0m\n\u001b[1;32m     47\u001b[0m \u001b[38;5;28mprint\u001b[39m(pd\u001b[38;5;241m.\u001b[39mDataFrame((dict_min_fk,dict_min_lr))\\\n\u001b[1;32m     48\u001b[0m       \u001b[38;5;241m.\u001b[39mdrop(columns\u001b[38;5;241m=\u001b[39m[\u001b[38;5;124m'\u001b[39m\u001b[38;5;124mforce_code\u001b[39m\u001b[38;5;124m'\u001b[39m,\u001b[38;5;124m'\u001b[39m\u001b[38;5;124mq\u001b[39m\u001b[38;5;124m'\u001b[39m,\u001b[38;5;124m'\u001b[39m\u001b[38;5;124mw\u001b[39m\u001b[38;5;124m'\u001b[39m,\u001b[38;5;124m'\u001b[39m\u001b[38;5;124mno_attraction\u001b[39m\u001b[38;5;124m'\u001b[39m,\u001b[38;5;124m'\u001b[39m\u001b[38;5;124mno_repulsion\u001b[39m\u001b[38;5;124m'\u001b[39m,\u001b[38;5;124m'\u001b[39m\u001b[38;5;124mset_second\u001b[39m\u001b[38;5;124m'\u001b[39m,\u001b[38;5;124m'\u001b[39m\u001b[38;5;124mniter\u001b[39m\u001b[38;5;124m'\u001b[39m,\u001b[38;5;124m'\u001b[39m\u001b[38;5;124mreflect\u001b[39m\u001b[38;5;124m'\u001b[39m,\u001b[38;5;124m'\u001b[39m\u001b[38;5;124mDt\u001b[39m\u001b[38;5;124m'\u001b[39m,\u001b[38;5;124m'\u001b[39m\u001b[38;5;124mdt\u001b[39m\u001b[38;5;124m'\u001b[39m,\u001b[38;5;124m'\u001b[39m\u001b[38;5;124mN\u001b[39m\u001b[38;5;124m'\u001b[39m,\u001b[38;5;124m'\u001b[39m\u001b[38;5;124mCollTime\u001b[39m\u001b[38;5;124m'\u001b[39m]))\n\u001b[1;32m     50\u001b[0m rmse_lr\u001b[38;5;241m=\u001b[39mdict_defects_lr[\u001b[38;5;124m'\u001b[39m\u001b[38;5;124mrmse\u001b[39m\u001b[38;5;124m'\u001b[39m]\n\u001b[0;32m---> 51\u001b[0m \u001b[38;5;28mprint\u001b[39m(\u001b[38;5;124mf\u001b[39m\u001b[38;5;124m\"\u001b[39m\u001b[38;5;130;01m\\n\u001b[39;00m\u001b[38;5;124mbest fit for Fenton-Karma: RMSE: \u001b[39m\u001b[38;5;132;01m{\u001b[39;00mrmse_fk\u001b[38;5;132;01m:\u001b[39;00m\u001b[38;5;124m.4f\u001b[39m\u001b[38;5;132;01m}\u001b[39;00m\u001b[38;5;124m, amax: \u001b[39m\u001b[38;5;132;01m{\u001b[39;00mamax_fk\u001b[38;5;132;01m:\u001b[39;00m\u001b[38;5;124m.4f\u001b[39m\u001b[38;5;132;01m}\u001b[39;00m\u001b[38;5;124m \u001b[39m\u001b[38;5;124m\"\u001b[39m)\n\u001b[1;32m     52\u001b[0m \u001b[38;5;28mprint\u001b[39m(\u001b[38;5;124mf\u001b[39m\u001b[38;5;124m\"\u001b[39m\u001b[38;5;132;01m{\u001b[39;00minput_fn_fk\u001b[38;5;132;01m=}\u001b[39;00m\u001b[38;5;124m\"\u001b[39m)\n\u001b[1;32m     53\u001b[0m \u001b[38;5;28mprint\u001b[39m(\u001b[38;5;124mf\u001b[39m\u001b[38;5;124m\"\u001b[39m\u001b[38;5;130;01m\\n\u001b[39;00m\u001b[38;5;124mbest fit for Luo-Rudy: RMSE: \u001b[39m\u001b[38;5;132;01m{\u001b[39;00mrmse_lr\u001b[38;5;132;01m:\u001b[39;00m\u001b[38;5;124m.4f\u001b[39m\u001b[38;5;132;01m}\u001b[39;00m\u001b[38;5;124m, amax: \u001b[39m\u001b[38;5;132;01m{\u001b[39;00mamax_lr\u001b[38;5;132;01m:\u001b[39;00m\u001b[38;5;124m.4f\u001b[39m\u001b[38;5;132;01m}\u001b[39;00m\u001b[38;5;124m \u001b[39m\u001b[38;5;124m\"\u001b[39m)\n",
      "\u001b[0;31mTypeError\u001b[0m: unsupported format string passed to Series.__format__"
     ]
    }
   ],
   "source": [
    "#find best simulation for the FK model so far\n",
    "# input_folder = f'/Users/timothytyree/Documents/GitHub/bgmc/python/data/osg_output/run_{run_num}_all'\n",
    "input_folder = f'/home/timothytyree/Documents/GitHub/bgmc/python/data/osg_output/run_{run_num}_all'\n",
    "# cluster_index,job_index = df_defects_fk[df_defects_fk['rmse'] == df_defects_fk['rmse'].min()][['cluster_index','job_index']].values.T\n",
    "cluster_index,job_index = gmin_fk[gmin_fk['rmse'] == gmin_fk['rmse'].min()][['cluster_index','job_index']].values.T\n",
    "input_fn = os.path.join(input_folder,f\"job.out.{int(cluster_index)}.{int(job_index)}\")\n",
    "assert os.path.exists(input_fn)\n",
    "input_fn_fk=input_fn\n",
    "\n",
    "\n",
    "df_fit_fk,dict_linear_fit_fk = routine_measure_annihilation_defect(input_fn,printing=True)#,**kwargs)\n",
    "dict_defects_fk,dict_defects_lr = parse_dict_linear_to_row(dic = dict_linear_fit_fk)\n",
    "# print(f\"best fit for FK has RMSE: {dict_defects_fk['rmse']:.4f} (FK), {dict_defects_lr['rmse']:.4f} (LR)\")\n",
    "# amax_fk=dict_linear_fit_fk['dict_min']['D']*2+dict_linear_fit_fk['dict_min']['varkappa']\n",
    "# rmse_fk=dict_defects_fk['rmse']\n",
    "amax_fk=gmin_fk['amax']\n",
    "rmse_fk=gmin_fk['rmse']\n",
    "\n",
    "\n",
    "\n",
    "# print(f\"best fit of linear particle model fit to FK ({amax=:.4f}):\")\n",
    "# print_dict(dict_linear_fit_fk['dict_min'])\n",
    "#DONE: find best simulation for the LR model so far\n",
    "# cluster_index,job_index = df_defects_lr[df_defects_lr['rmse'] == df_defects_lr['rmse'].min()][['cluster_index','job_index']].values.T\n",
    "cluster_index,job_index = gmin_lr[gmin_lr['rmse'] == gmin_lr['rmse'].min()][['cluster_index','job_index']].values.T\n",
    "input_fn = os.path.join(input_folder,f\"job.out.{int(cluster_index)}.{int(job_index)}\")\n",
    "assert os.path.exists(input_fn)\n",
    "input_fn_lr=input_fn\n",
    "\n",
    "df_fit_lr,dict_linear_fit_lr = routine_measure_annihilation_defect(input_fn,printing=True)#,**kwargs)\n",
    "dict_defects_fk,dict_defects_lr = parse_dict_linear_to_row(dic = dict_linear_fit_lr)\n",
    "# print(f\"best fit for LR has RMSE: {dict_defects_fk['rmse']:.4f} (FK), {dict_defects_lr['rmse']:.4f} (LR)\")\n",
    "# dict_defects_fk\n",
    "amax_lr=dict_linear_fit_lr['dict_min']['D']*2+dict_linear_fit_lr['dict_min']['varkappa']\n",
    "# print(f\"best fit of linear particle model fit to LR ({amax=:.4f}):\")\n",
    "# print_dict(dict_linear_fit_lr['dict_min'])\n",
    "# print(f\"src: {input_fn}\")\n",
    "\n",
    "#print the best fitting parameter settings\n",
    "dict_min_fk=dict_linear_fit_fk['dict_min']\n",
    "dict_min_fk['model']='Fenton-Karma'\n",
    "\n",
    "dict_min_lr=dict_linear_fit_lr['dict_min']\n",
    "dict_min_lr['model']='Luo-Rudy'\n",
    "\n",
    "print(f\"\\nparameter settings of best fits:\")\n",
    "print(pd.DataFrame((dict_min_fk,dict_min_lr))\\\n",
    "      .drop(columns=['force_code','q','w','no_attraction','no_repulsion','set_second','niter','reflect','Dt','dt','N','CollTime']))\n",
    "\n",
    "rmse_lr=dict_defects_lr['rmse']\n",
    "print(f\"\\nbest fit for Fenton-Karma: RMSE: {rmse_fk:.4f}, amax: {amax_fk:.4f} \")\n",
    "print(f\"{input_fn_fk=}\")\n",
    "print(f\"\\nbest fit for Luo-Rudy: RMSE: {rmse_lr:.4f}, amax: {amax_lr:.4f} \")\n",
    "print(f\"{input_fn_lr=}\")"
   ]
  },
  {
   "cell_type": "code",
   "execution_count": 16,
   "id": "04dc4789",
   "metadata": {
    "ExecuteTime": {
     "end_time": "2022-09-28T01:52:23.395200Z",
     "start_time": "2022-09-28T01:52:23.292234Z"
    },
    "hidden": true
   },
   "outputs": [
    {
     "ename": "FileNotFoundError",
     "evalue": "[Errno 2] No such file or directory: '/home/timothytyree/Documents/GitHub/bgmc/python/data/full_results/data_fig4_vidmar_fk_tt.csv'",
     "output_type": "error",
     "traceback": [
      "\u001b[0;31m---------------------------------------------------------------------------\u001b[0m",
      "\u001b[0;31mFileNotFoundError\u001b[0m                         Traceback (most recent call last)",
      "\u001b[0;32m/var/folders/0h/p4cbb7yx22jbxm0qb47vhfbh0000gn/T/ipykernel_94170/1161532978.py\u001b[0m in \u001b[0;36m<module>\u001b[0;34m\u001b[0m\n\u001b[1;32m      1\u001b[0m \u001b[0;31m#plot the original annihilation rates\u001b[0m\u001b[0;34m\u001b[0m\u001b[0;34m\u001b[0m\u001b[0;34m\u001b[0m\u001b[0m\n\u001b[0;32m----> 2\u001b[0;31m \u001b[0mdict_wjr\u001b[0m \u001b[0;34m=\u001b[0m \u001b[0mrecall_death_rates_vidmar_rappel\u001b[0m\u001b[0;34m(\u001b[0m\u001b[0;34m)\u001b[0m\u001b[0;34m\u001b[0m\u001b[0;34m\u001b[0m\u001b[0m\n\u001b[0m\u001b[1;32m      3\u001b[0m \u001b[0mfk\u001b[0m\u001b[0;34m=\u001b[0m\u001b[0mdict_wjr\u001b[0m\u001b[0;34m[\u001b[0m\u001b[0;34m'fk'\u001b[0m\u001b[0;34m]\u001b[0m\u001b[0;34m\u001b[0m\u001b[0;34m\u001b[0m\u001b[0m\n\u001b[1;32m      4\u001b[0m \u001b[0mlr\u001b[0m\u001b[0;34m=\u001b[0m\u001b[0mdict_wjr\u001b[0m\u001b[0;34m[\u001b[0m\u001b[0;34m'lr'\u001b[0m\u001b[0;34m]\u001b[0m\u001b[0;34m\u001b[0m\u001b[0;34m\u001b[0m\u001b[0m\n\u001b[1;32m      5\u001b[0m \u001b[0mfigsize\u001b[0m \u001b[0;34m=\u001b[0m \u001b[0;34m(\u001b[0m\u001b[0;36m6\u001b[0m\u001b[0;34m,\u001b[0m \u001b[0;36m4\u001b[0m\u001b[0;34m)\u001b[0m  \u001b[0;31m#(5,4)\u001b[0m\u001b[0;34m\u001b[0m\u001b[0;34m\u001b[0m\u001b[0m\n",
      "\u001b[0;32m~/Documents/GitHub/bgmc/python/lib/model/recall_fits.py\u001b[0m in \u001b[0;36mrecall_death_rates_vidmar_rappel\u001b[0;34m(data_fk_dir, data_lr_dir, **kwargs)\u001b[0m\n\u001b[1;32m    193\u001b[0m     \u001b[0mwjr\u001b[0m\u001b[0;34m=\u001b[0m\u001b[0mrecall_powerlaw_fits_to_full_models\u001b[0m\u001b[0;34m(\u001b[0m\u001b[0;34m)\u001b[0m\u001b[0;34m\u001b[0m\u001b[0;34m\u001b[0m\u001b[0m\n\u001b[1;32m    194\u001b[0m     \u001b[0;31m# #recall annihilation rate results from vidmar and rappel (2019)\u001b[0m\u001b[0;34m\u001b[0m\u001b[0;34m\u001b[0m\u001b[0;34m\u001b[0m\u001b[0m\n\u001b[0;32m--> 195\u001b[0;31m     \u001b[0mfk\u001b[0m\u001b[0;34m=\u001b[0m\u001b[0mpd\u001b[0m\u001b[0;34m.\u001b[0m\u001b[0mread_csv\u001b[0m\u001b[0;34m(\u001b[0m\u001b[0mdata_fk_dir\u001b[0m\u001b[0;34m)\u001b[0m\u001b[0;34m\u001b[0m\u001b[0;34m\u001b[0m\u001b[0m\n\u001b[0m\u001b[1;32m    196\u001b[0m     \u001b[0mfk\u001b[0m\u001b[0;34m[\u001b[0m\u001b[0;34m'N'\u001b[0m\u001b[0;34m]\u001b[0m\u001b[0;34m=\u001b[0m\u001b[0mfk\u001b[0m\u001b[0;34m[\u001b[0m\u001b[0;34m'No2'\u001b[0m\u001b[0;34m]\u001b[0m\u001b[0;34m*\u001b[0m\u001b[0;36m2\u001b[0m\u001b[0;34m\u001b[0m\u001b[0;34m\u001b[0m\u001b[0m\n\u001b[1;32m    197\u001b[0m     \u001b[0mfk\u001b[0m\u001b[0;34m[\u001b[0m\u001b[0;34m'q'\u001b[0m\u001b[0;34m]\u001b[0m\u001b[0;34m=\u001b[0m\u001b[0mfk\u001b[0m\u001b[0;34m[\u001b[0m\u001b[0;34m'N'\u001b[0m\u001b[0;34m]\u001b[0m\u001b[0;34m/\u001b[0m\u001b[0mfk\u001b[0m\u001b[0;34m[\u001b[0m\u001b[0;34m'A'\u001b[0m\u001b[0;34m]\u001b[0m \u001b[0;31m#number of tips per square centimeter\u001b[0m\u001b[0;34m\u001b[0m\u001b[0;34m\u001b[0m\u001b[0m\n",
      "\u001b[0;32m~/opt/miniconda3/envs/pyenv/lib/python3.9/site-packages/pandas/util/_decorators.py\u001b[0m in \u001b[0;36mwrapper\u001b[0;34m(*args, **kwargs)\u001b[0m\n\u001b[1;32m    309\u001b[0m                     \u001b[0mstacklevel\u001b[0m\u001b[0;34m=\u001b[0m\u001b[0mstacklevel\u001b[0m\u001b[0;34m,\u001b[0m\u001b[0;34m\u001b[0m\u001b[0;34m\u001b[0m\u001b[0m\n\u001b[1;32m    310\u001b[0m                 )\n\u001b[0;32m--> 311\u001b[0;31m             \u001b[0;32mreturn\u001b[0m \u001b[0mfunc\u001b[0m\u001b[0;34m(\u001b[0m\u001b[0;34m*\u001b[0m\u001b[0margs\u001b[0m\u001b[0;34m,\u001b[0m \u001b[0;34m**\u001b[0m\u001b[0mkwargs\u001b[0m\u001b[0;34m)\u001b[0m\u001b[0;34m\u001b[0m\u001b[0;34m\u001b[0m\u001b[0m\n\u001b[0m\u001b[1;32m    312\u001b[0m \u001b[0;34m\u001b[0m\u001b[0m\n\u001b[1;32m    313\u001b[0m         \u001b[0;32mreturn\u001b[0m \u001b[0mwrapper\u001b[0m\u001b[0;34m\u001b[0m\u001b[0;34m\u001b[0m\u001b[0m\n",
      "\u001b[0;32m~/opt/miniconda3/envs/pyenv/lib/python3.9/site-packages/pandas/io/parsers/readers.py\u001b[0m in \u001b[0;36mread_csv\u001b[0;34m(filepath_or_buffer, sep, delimiter, header, names, index_col, usecols, squeeze, prefix, mangle_dupe_cols, dtype, engine, converters, true_values, false_values, skipinitialspace, skiprows, skipfooter, nrows, na_values, keep_default_na, na_filter, verbose, skip_blank_lines, parse_dates, infer_datetime_format, keep_date_col, date_parser, dayfirst, cache_dates, iterator, chunksize, compression, thousands, decimal, lineterminator, quotechar, quoting, doublequote, escapechar, comment, encoding, encoding_errors, dialect, error_bad_lines, warn_bad_lines, on_bad_lines, delim_whitespace, low_memory, memory_map, float_precision, storage_options)\u001b[0m\n\u001b[1;32m    678\u001b[0m     \u001b[0mkwds\u001b[0m\u001b[0;34m.\u001b[0m\u001b[0mupdate\u001b[0m\u001b[0;34m(\u001b[0m\u001b[0mkwds_defaults\u001b[0m\u001b[0;34m)\u001b[0m\u001b[0;34m\u001b[0m\u001b[0;34m\u001b[0m\u001b[0m\n\u001b[1;32m    679\u001b[0m \u001b[0;34m\u001b[0m\u001b[0m\n\u001b[0;32m--> 680\u001b[0;31m     \u001b[0;32mreturn\u001b[0m \u001b[0m_read\u001b[0m\u001b[0;34m(\u001b[0m\u001b[0mfilepath_or_buffer\u001b[0m\u001b[0;34m,\u001b[0m \u001b[0mkwds\u001b[0m\u001b[0;34m)\u001b[0m\u001b[0;34m\u001b[0m\u001b[0;34m\u001b[0m\u001b[0m\n\u001b[0m\u001b[1;32m    681\u001b[0m \u001b[0;34m\u001b[0m\u001b[0m\n\u001b[1;32m    682\u001b[0m \u001b[0;34m\u001b[0m\u001b[0m\n",
      "\u001b[0;32m~/opt/miniconda3/envs/pyenv/lib/python3.9/site-packages/pandas/io/parsers/readers.py\u001b[0m in \u001b[0;36m_read\u001b[0;34m(filepath_or_buffer, kwds)\u001b[0m\n\u001b[1;32m    573\u001b[0m \u001b[0;34m\u001b[0m\u001b[0m\n\u001b[1;32m    574\u001b[0m     \u001b[0;31m# Create the parser.\u001b[0m\u001b[0;34m\u001b[0m\u001b[0;34m\u001b[0m\u001b[0;34m\u001b[0m\u001b[0m\n\u001b[0;32m--> 575\u001b[0;31m     \u001b[0mparser\u001b[0m \u001b[0;34m=\u001b[0m \u001b[0mTextFileReader\u001b[0m\u001b[0;34m(\u001b[0m\u001b[0mfilepath_or_buffer\u001b[0m\u001b[0;34m,\u001b[0m \u001b[0;34m**\u001b[0m\u001b[0mkwds\u001b[0m\u001b[0;34m)\u001b[0m\u001b[0;34m\u001b[0m\u001b[0;34m\u001b[0m\u001b[0m\n\u001b[0m\u001b[1;32m    576\u001b[0m \u001b[0;34m\u001b[0m\u001b[0m\n\u001b[1;32m    577\u001b[0m     \u001b[0;32mif\u001b[0m \u001b[0mchunksize\u001b[0m \u001b[0;32mor\u001b[0m \u001b[0miterator\u001b[0m\u001b[0;34m:\u001b[0m\u001b[0;34m\u001b[0m\u001b[0;34m\u001b[0m\u001b[0m\n",
      "\u001b[0;32m~/opt/miniconda3/envs/pyenv/lib/python3.9/site-packages/pandas/io/parsers/readers.py\u001b[0m in \u001b[0;36m__init__\u001b[0;34m(self, f, engine, **kwds)\u001b[0m\n\u001b[1;32m    931\u001b[0m \u001b[0;34m\u001b[0m\u001b[0m\n\u001b[1;32m    932\u001b[0m         \u001b[0mself\u001b[0m\u001b[0;34m.\u001b[0m\u001b[0mhandles\u001b[0m\u001b[0;34m:\u001b[0m \u001b[0mIOHandles\u001b[0m \u001b[0;34m|\u001b[0m \u001b[0;32mNone\u001b[0m \u001b[0;34m=\u001b[0m \u001b[0;32mNone\u001b[0m\u001b[0;34m\u001b[0m\u001b[0;34m\u001b[0m\u001b[0m\n\u001b[0;32m--> 933\u001b[0;31m         \u001b[0mself\u001b[0m\u001b[0;34m.\u001b[0m\u001b[0m_engine\u001b[0m \u001b[0;34m=\u001b[0m \u001b[0mself\u001b[0m\u001b[0;34m.\u001b[0m\u001b[0m_make_engine\u001b[0m\u001b[0;34m(\u001b[0m\u001b[0mf\u001b[0m\u001b[0;34m,\u001b[0m \u001b[0mself\u001b[0m\u001b[0;34m.\u001b[0m\u001b[0mengine\u001b[0m\u001b[0;34m)\u001b[0m\u001b[0;34m\u001b[0m\u001b[0;34m\u001b[0m\u001b[0m\n\u001b[0m\u001b[1;32m    934\u001b[0m \u001b[0;34m\u001b[0m\u001b[0m\n\u001b[1;32m    935\u001b[0m     \u001b[0;32mdef\u001b[0m \u001b[0mclose\u001b[0m\u001b[0;34m(\u001b[0m\u001b[0mself\u001b[0m\u001b[0;34m)\u001b[0m\u001b[0;34m:\u001b[0m\u001b[0;34m\u001b[0m\u001b[0;34m\u001b[0m\u001b[0m\n",
      "\u001b[0;32m~/opt/miniconda3/envs/pyenv/lib/python3.9/site-packages/pandas/io/parsers/readers.py\u001b[0m in \u001b[0;36m_make_engine\u001b[0;34m(self, f, engine)\u001b[0m\n\u001b[1;32m   1215\u001b[0m             \u001b[0;31m# \"Union[str, PathLike[str], ReadCsvBuffer[bytes], ReadCsvBuffer[str]]\"\u001b[0m\u001b[0;34m\u001b[0m\u001b[0;34m\u001b[0m\u001b[0;34m\u001b[0m\u001b[0m\n\u001b[1;32m   1216\u001b[0m             \u001b[0;31m# , \"str\", \"bool\", \"Any\", \"Any\", \"Any\", \"Any\", \"Any\"\u001b[0m\u001b[0;34m\u001b[0m\u001b[0;34m\u001b[0m\u001b[0;34m\u001b[0m\u001b[0m\n\u001b[0;32m-> 1217\u001b[0;31m             self.handles = get_handle(  # type: ignore[call-overload]\n\u001b[0m\u001b[1;32m   1218\u001b[0m                 \u001b[0mf\u001b[0m\u001b[0;34m,\u001b[0m\u001b[0;34m\u001b[0m\u001b[0;34m\u001b[0m\u001b[0m\n\u001b[1;32m   1219\u001b[0m                 \u001b[0mmode\u001b[0m\u001b[0;34m,\u001b[0m\u001b[0;34m\u001b[0m\u001b[0;34m\u001b[0m\u001b[0m\n",
      "\u001b[0;32m~/opt/miniconda3/envs/pyenv/lib/python3.9/site-packages/pandas/io/common.py\u001b[0m in \u001b[0;36mget_handle\u001b[0;34m(path_or_buf, mode, encoding, compression, memory_map, is_text, errors, storage_options)\u001b[0m\n\u001b[1;32m    787\u001b[0m         \u001b[0;32mif\u001b[0m \u001b[0mioargs\u001b[0m\u001b[0;34m.\u001b[0m\u001b[0mencoding\u001b[0m \u001b[0;32mand\u001b[0m \u001b[0;34m\"b\"\u001b[0m \u001b[0;32mnot\u001b[0m \u001b[0;32min\u001b[0m \u001b[0mioargs\u001b[0m\u001b[0;34m.\u001b[0m\u001b[0mmode\u001b[0m\u001b[0;34m:\u001b[0m\u001b[0;34m\u001b[0m\u001b[0;34m\u001b[0m\u001b[0m\n\u001b[1;32m    788\u001b[0m             \u001b[0;31m# Encoding\u001b[0m\u001b[0;34m\u001b[0m\u001b[0;34m\u001b[0m\u001b[0;34m\u001b[0m\u001b[0m\n\u001b[0;32m--> 789\u001b[0;31m             handle = open(\n\u001b[0m\u001b[1;32m    790\u001b[0m                 \u001b[0mhandle\u001b[0m\u001b[0;34m,\u001b[0m\u001b[0;34m\u001b[0m\u001b[0;34m\u001b[0m\u001b[0m\n\u001b[1;32m    791\u001b[0m                 \u001b[0mioargs\u001b[0m\u001b[0;34m.\u001b[0m\u001b[0mmode\u001b[0m\u001b[0;34m,\u001b[0m\u001b[0;34m\u001b[0m\u001b[0;34m\u001b[0m\u001b[0m\n",
      "\u001b[0;31mFileNotFoundError\u001b[0m: [Errno 2] No such file or directory: '/home/timothytyree/Documents/GitHub/bgmc/python/data/full_results/data_fig4_vidmar_fk_tt.csv'"
     ]
    }
   ],
   "source": [
    "#plot the original annihilation rates\n",
    "dict_wjr = recall_death_rates_vidmar_rappel()\n",
    "fk=dict_wjr['fk']\n",
    "lr=dict_wjr['lr']\n",
    "figsize = (6, 4)  #(5,4)\n",
    "fontsize=18\n",
    "fig, ax = plt.subplots(figsize=figsize)\n",
    "df_fit_fk.plot(x='q',y='w',alpha=0.7,ax=ax,color='k',label='_Best Fit to FK')\n",
    "df_fit_lr.plot(x='q',y='w',alpha=0.7,ax=ax,color='k',label='_Best Fit to LR')\n",
    "ax = plot_death_rates_loglog_full(fk,lr,ax=ax,fontsize=fontsize)\n",
    "# ax.legend(loc='upper left',fontsize=fontsize-2)\n",
    "ax.legend(loc='lower right',fontsize=fontsize-2.,frameon=False)\n",
    "#add annotation\n",
    "xy=(0.3, 11)\n",
    "# xytext=(0.09, 10)\n",
    "xytext=(0.01, 70)\n",
    "ax.annotate(r\"best fit ($a>0$)\", xy=xy, xytext=xytext,fontsize=fontsize)\n",
    "#add marker showing the slope of ~2\n",
    "# annotation.slope_marker(origin=(2.3, 2.0),\n",
    "#                         slope=2,\n",
    "#                         text_kwargs={'color': 'black','fontsize':16, 'alpha':0.7},\n",
    "#                         poly_kwargs={'facecolor': (0.5, 0.5, 0.5), 'alpha':0.5},\n",
    "#                         ax=ax)\n",
    "plt.show()"
   ]
  },
  {
   "cell_type": "markdown",
   "id": "cb6926f1",
   "metadata": {
    "heading_collapsed": true
   },
   "source": [
    "# line plots of minimum locus traced by constant amax=alinear+2D and increasing D"
   ]
  },
  {
   "cell_type": "code",
   "execution_count": 136,
   "id": "095bbd31",
   "metadata": {
    "ExecuteTime": {
     "end_time": "2022-09-14T02:17:09.917496Z",
     "start_time": "2022-09-14T02:17:09.864505Z"
    },
    "hidden": true
   },
   "outputs": [
    {
     "data": {
      "text/html": [
       "<div>\n",
       "<style scoped>\n",
       "    .dataframe tbody tr th:only-of-type {\n",
       "        vertical-align: middle;\n",
       "    }\n",
       "\n",
       "    .dataframe tbody tr th {\n",
       "        vertical-align: top;\n",
       "    }\n",
       "\n",
       "    .dataframe thead th {\n",
       "        text-align: right;\n",
       "    }\n",
       "</style>\n",
       "<table border=\"1\" class=\"dataframe\">\n",
       "  <thead>\n",
       "    <tr style=\"text-align: right;\">\n",
       "      <th></th>\n",
       "      <th>num_obs</th>\n",
       "      <th>qmin</th>\n",
       "      <th>qmax</th>\n",
       "      <th>rmse</th>\n",
       "      <th>log_likelihood</th>\n",
       "      <th>emin</th>\n",
       "      <th>emax</th>\n",
       "      <th>lemin</th>\n",
       "      <th>lemax</th>\n",
       "      <th>no_repulsion</th>\n",
       "      <th>...</th>\n",
       "      <th>q_hi</th>\n",
       "      <th>N_lo</th>\n",
       "      <th>N_hi</th>\n",
       "      <th>w_lo</th>\n",
       "      <th>w_hi</th>\n",
       "      <th>CollTime_lo</th>\n",
       "      <th>CollTime_hi</th>\n",
       "      <th>cluster_index</th>\n",
       "      <th>job_index</th>\n",
       "      <th>amax</th>\n",
       "    </tr>\n",
       "  </thead>\n",
       "  <tbody>\n",
       "    <tr>\n",
       "      <th>3</th>\n",
       "      <td>19</td>\n",
       "      <td>0.24</td>\n",
       "      <td>0.96</td>\n",
       "      <td>4.341525</td>\n",
       "      <td>-18.848653</td>\n",
       "      <td>-0.150856</td>\n",
       "      <td>10.680337</td>\n",
       "      <td>-0.150856</td>\n",
       "      <td>10.680337</td>\n",
       "      <td>0.0</td>\n",
       "      <td>...</td>\n",
       "      <td>4.0</td>\n",
       "      <td>6.0</td>\n",
       "      <td>100.0</td>\n",
       "      <td>0.231570</td>\n",
       "      <td>606.060606</td>\n",
       "      <td>0.000066</td>\n",
       "      <td>0.172734</td>\n",
       "      <td>22996017</td>\n",
       "      <td>7420</td>\n",
       "      <td>1.78</td>\n",
       "    </tr>\n",
       "    <tr>\n",
       "      <th>11768</th>\n",
       "      <td>19</td>\n",
       "      <td>0.24</td>\n",
       "      <td>0.96</td>\n",
       "      <td>49.177964</td>\n",
       "      <td>-41.913567</td>\n",
       "      <td>-0.107489</td>\n",
       "      <td>108.475116</td>\n",
       "      <td>-0.107489</td>\n",
       "      <td>108.475116</td>\n",
       "      <td>0.0</td>\n",
       "      <td>...</td>\n",
       "      <td>4.0</td>\n",
       "      <td>6.0</td>\n",
       "      <td>100.0</td>\n",
       "      <td>0.274937</td>\n",
       "      <td>2000.000000</td>\n",
       "      <td>0.000020</td>\n",
       "      <td>0.145488</td>\n",
       "      <td>22996017</td>\n",
       "      <td>17436</td>\n",
       "      <td>1.78</td>\n",
       "    </tr>\n",
       "    <tr>\n",
       "      <th>11779</th>\n",
       "      <td>19</td>\n",
       "      <td>0.24</td>\n",
       "      <td>0.96</td>\n",
       "      <td>6.015207</td>\n",
       "      <td>-22.292509</td>\n",
       "      <td>-0.152411</td>\n",
       "      <td>14.749156</td>\n",
       "      <td>-0.152411</td>\n",
       "      <td>14.749156</td>\n",
       "      <td>0.0</td>\n",
       "      <td>...</td>\n",
       "      <td>4.0</td>\n",
       "      <td>6.0</td>\n",
       "      <td>100.0</td>\n",
       "      <td>0.230015</td>\n",
       "      <td>909.090909</td>\n",
       "      <td>0.000044</td>\n",
       "      <td>0.173902</td>\n",
       "      <td>22996017</td>\n",
       "      <td>7876</td>\n",
       "      <td>1.78</td>\n",
       "    </tr>\n",
       "    <tr>\n",
       "      <th>11783</th>\n",
       "      <td>19</td>\n",
       "      <td>0.24</td>\n",
       "      <td>0.96</td>\n",
       "      <td>15.777854</td>\n",
       "      <td>-33.755643</td>\n",
       "      <td>-0.115355</td>\n",
       "      <td>35.080201</td>\n",
       "      <td>-0.115355</td>\n",
       "      <td>35.080201</td>\n",
       "      <td>0.0</td>\n",
       "      <td>...</td>\n",
       "      <td>4.0</td>\n",
       "      <td>6.0</td>\n",
       "      <td>100.0</td>\n",
       "      <td>0.267071</td>\n",
       "      <td>816.326531</td>\n",
       "      <td>0.000049</td>\n",
       "      <td>0.149773</td>\n",
       "      <td>22996017</td>\n",
       "      <td>16236</td>\n",
       "      <td>1.78</td>\n",
       "    </tr>\n",
       "    <tr>\n",
       "      <th>11785</th>\n",
       "      <td>19</td>\n",
       "      <td>0.24</td>\n",
       "      <td>0.96</td>\n",
       "      <td>2.903861</td>\n",
       "      <td>-14.252780</td>\n",
       "      <td>-0.149323</td>\n",
       "      <td>6.419529</td>\n",
       "      <td>-0.149323</td>\n",
       "      <td>6.419529</td>\n",
       "      <td>0.0</td>\n",
       "      <td>...</td>\n",
       "      <td>4.0</td>\n",
       "      <td>6.0</td>\n",
       "      <td>100.0</td>\n",
       "      <td>0.233103</td>\n",
       "      <td>353.982301</td>\n",
       "      <td>0.000113</td>\n",
       "      <td>0.171598</td>\n",
       "      <td>22996017</td>\n",
       "      <td>7304</td>\n",
       "      <td>1.78</td>\n",
       "    </tr>\n",
       "  </tbody>\n",
       "</table>\n",
       "<p>5 rows × 35 columns</p>\n",
       "</div>"
      ],
      "text/plain": [
       "       num_obs  qmin  qmax       rmse  log_likelihood      emin        emax  \\\n",
       "3           19  0.24  0.96   4.341525      -18.848653 -0.150856   10.680337   \n",
       "11768       19  0.24  0.96  49.177964      -41.913567 -0.107489  108.475116   \n",
       "11779       19  0.24  0.96   6.015207      -22.292509 -0.152411   14.749156   \n",
       "11783       19  0.24  0.96  15.777854      -33.755643 -0.115355   35.080201   \n",
       "11785       19  0.24  0.96   2.903861      -14.252780 -0.149323    6.419529   \n",
       "\n",
       "          lemin       lemax  no_repulsion  ...  q_hi  N_lo   N_hi      w_lo  \\\n",
       "3     -0.150856   10.680337           0.0  ...   4.0   6.0  100.0  0.231570   \n",
       "11768 -0.107489  108.475116           0.0  ...   4.0   6.0  100.0  0.274937   \n",
       "11779 -0.152411   14.749156           0.0  ...   4.0   6.0  100.0  0.230015   \n",
       "11783 -0.115355   35.080201           0.0  ...   4.0   6.0  100.0  0.267071   \n",
       "11785 -0.149323    6.419529           0.0  ...   4.0   6.0  100.0  0.233103   \n",
       "\n",
       "              w_hi  CollTime_lo  CollTime_hi  cluster_index  job_index  amax  \n",
       "3       606.060606     0.000066     0.172734       22996017       7420  1.78  \n",
       "11768  2000.000000     0.000020     0.145488       22996017      17436  1.78  \n",
       "11779   909.090909     0.000044     0.173902       22996017       7876  1.78  \n",
       "11783   816.326531     0.000049     0.149773       22996017      16236  1.78  \n",
       "11785   353.982301     0.000113     0.171598       22996017       7304  1.78  \n",
       "\n",
       "[5 rows x 35 columns]"
      ]
     },
     "execution_count": 136,
     "metadata": {},
     "output_type": "execute_result"
    }
   ],
   "source": [
    "model_name='Fenton-Karma'\n",
    "amax=float(amax_fk)\n",
    "gmin=gmin_fk.sort_values(by='D').copy()\n",
    "\n",
    "# model_name='Luo-Rudy'\n",
    "# amax=float(amax_lr)\n",
    "# gmin=gmin_lr.sort_values(by='D').copy()\n",
    "\n",
    "gmin.head()"
   ]
  },
  {
   "cell_type": "code",
   "execution_count": 137,
   "id": "7a807fb2",
   "metadata": {
    "ExecuteTime": {
     "end_time": "2022-09-14T02:17:10.449265Z",
     "start_time": "2022-09-14T02:17:10.288010Z"
    },
    "hidden": true
   },
   "outputs": [
    {
     "data": {
      "image/png": "[encoded data removed]",
      "text/plain": [
       "<Figure size 600x400 with 1 Axes>"
      ]
     },
     "metadata": {},
     "output_type": "display_data"
    }
   ],
   "source": [
    "fontsize=14\n",
    "fig,ax=plt.subplots(figsize=(6,4))\n",
    "gmin.plot(x='D',y='rmse',ax=ax)\n",
    "# gmin.plot(x='D',y='log_likelihood')\n",
    "# gmin.plot(x='D',y='r')\n",
    "format_plot(ax=ax,xlabel=r'$D$ (cm$^2$/s)',ylabel=r'RMSE (Hz/cm$^2$)',fontsize=fontsize)\n",
    "ax.set_title(\"Fits to \"+model_name+f'\\n'+r'with $a_{max}$='+f'{amax:.2f}'+r' cm$^2$/s'+f' fixed\\n',fontsize=fontsize)\n",
    "plt.show()"
   ]
  },
  {
   "cell_type": "code",
   "execution_count": null,
   "id": "79cee330",
   "metadata": {
    "hidden": true
   },
   "outputs": [],
   "source": []
  },
  {
   "cell_type": "markdown",
   "id": "4bdcd920",
   "metadata": {
    "heading_collapsed": true
   },
   "source": [
    "# plot loss heatmap in r/L,1/kappa plane "
   ]
  },
  {
   "cell_type": "code",
   "execution_count": null,
   "id": "3ed095c4",
   "metadata": {
    "hidden": true
   },
   "outputs": [],
   "source": [
    "print(df_defects_lr.describe()[['r','kappa','D','varkappa','amax','L']].T[['min','max','count']].T)"
   ]
  },
  {
   "cell_type": "code",
   "execution_count": null,
   "id": "4ef04f99",
   "metadata": {
    "hidden": true
   },
   "outputs": [],
   "source": []
  },
  {
   "cell_type": "code",
   "execution_count": null,
   "id": "e93bf9ef",
   "metadata": {
    "hidden": true
   },
   "outputs": [],
   "source": [
    "amax=1.78 #FK 200x200 diffCoeff=0.0005, src: wj"
   ]
  },
  {
   "cell_type": "code",
   "execution_count": 9,
   "id": "67c1959b",
   "metadata": {
    "ExecuteTime": {
     "end_time": "2022-09-13T21:35:27.803186Z",
     "start_time": "2022-09-13T21:35:27.272902Z"
    },
    "hidden": true
   },
   "outputs": [
    {
     "ename": "NameError",
     "evalue": "name 'X' is not defined",
     "output_type": "error",
     "traceback": [
      "\u001b[0;31m---------------------------------------------------------------------------\u001b[0m",
      "\u001b[0;31mNameError\u001b[0m                                 Traceback (most recent call last)",
      "Input \u001b[0;32mIn [9]\u001b[0m, in \u001b[0;36m<cell line: 1>\u001b[0;34m()\u001b[0m\n\u001b[0;32m----> 1\u001b[0m x1_values,x2_values,y_values\u001b[38;5;241m=\u001b[39minterp_txt_from_scatter(\u001b[43mX\u001b[49m,y)\n",
      "\u001b[0;31mNameError\u001b[0m: name 'X' is not defined"
     ]
    }
   ],
   "source": [
    "x1_values,x2_values,y_values=interp_txt_from_scatter(X,y)\n"
   ]
  },
  {
   "cell_type": "code",
   "execution_count": null,
   "id": "1b240807",
   "metadata": {
    "ExecuteTime": {
     "end_time": "2022-09-13T21:35:27.805959Z",
     "start_time": "2022-09-13T21:35:27.805935Z"
    },
    "hidden": true
   },
   "outputs": [],
   "source": [
    "#generate 2 coordinate grids for the x & y bounds\n",
    "num_trials,num_neurons = error_code_array.shape\n",
    "xcoord_values = np.arange(num_trials+1)  #as corners of pixels\n",
    "ycoord_values = np.arange(num_neurons+1) #as corners of pixels\n",
    "x, y = np.meshgrid(xcoord_values, ycoord_values)\n",
    "y=y[::-1,::-1].copy() #flip y axis\n",
    "z=spike_count_array.copy().T\n",
    "zerr=error_code_array.copy().T\n",
    "x.shape,y.shape,z.shape"
   ]
  },
  {
   "cell_type": "code",
   "execution_count": null,
   "id": "9a1bf8f6",
   "metadata": {
    "ExecuteTime": {
     "end_time": "2022-09-13T21:35:27.808129Z",
     "start_time": "2022-09-13T21:35:27.808104Z"
    },
    "hidden": true
   },
   "outputs": [],
   "source": [
    "#visualize heatmap showing the number of spikes per trial,neuron pair\n",
    "# title_str = \"All\"\n",
    "title = 'Spike Counts For '\n",
    "title+= title_str + ' Trials\\n'\n",
    "vmin=1\n",
    "vmax=150.#np.max(z)\n",
    "# vmax=np.max(z)\n",
    "# fontsize=14\n",
    "# figsize=(16,6)\n",
    "cmap='jet'#'PuBu_r'#\n",
    "fig, ax = plt.subplots(figsize=figsize,constrained_layout=True)\n",
    "ax = GridValuePlotter_colorbar(fig,ax,x,y,z,title,cmap,vmin,vmax,\n",
    "        fontsize=14,xlabel='Trial',ylabel='Neuron')#,**kwargs)\n",
    "# ax = GridValuePlotter_colorbar(fig,ax,x,y,z,title,cmap,vmin,vmax,\n",
    "#                               fontsize=14, xlabel='Trial', ylabel='Neuron', cbar_label='Number of Spikes',\n",
    "#                               fraction=0.07, shrink=0.85, aspect=35, orientation='horizontal', extend='max')#,**kwargs)\n",
    "plt.show()"
   ]
  },
  {
   "cell_type": "code",
   "execution_count": null,
   "id": "e94f5ea0",
   "metadata": {
    "ExecuteTime": {
     "end_time": "2022-09-13T21:35:27.809467Z",
     "start_time": "2022-09-13T21:35:27.809447Z"
    },
    "hidden": true
   },
   "outputs": [],
   "source": [
    "ax = GridValuePlotter_colorbar(fig,ax,x,y,z,title,cmap,vmin,vmax,\n",
    "                              fontsize=14, xlabel='Trial', ylabel='Neuron', cbar_label='Number of Spikes',\n",
    "                              fraction=0.07, shrink=0.85, aspect=35, orientation='horizontal', extend='max')#,**kwargs)"
   ]
  },
  {
   "cell_type": "code",
   "execution_count": null,
   "id": "a172e494",
   "metadata": {
    "hidden": true
   },
   "outputs": [],
   "source": []
  },
  {
   "cell_type": "markdown",
   "id": "cc97ea3b",
   "metadata": {},
   "source": [
    "# TODO: visualize the loss function as a stream plot in r,kappa space"
   ]
  },
  {
   "cell_type": "markdown",
   "id": "32157455",
   "metadata": {
    "heading_collapsed": true
   },
   "source": [
    "# TODO(later): make a sexy 3D plots in r,kappa,alinear space (scaled to L=1)"
   ]
  },
  {
   "cell_type": "markdown",
   "id": "6fa78742",
   "metadata": {
    "hidden": true
   },
   "source": [
    "__Scrum: dev visualization__\n",
    "\n",
    "1. select dg from df with same amax and neighbors setting\n",
    "1. for each D in dg plot heat map of r,kappa colored by the Loss function\n",
    "    - do ibid for Loss=RMSE\n",
    "    - do ibid for Loss=Neg-Log-Likelihood/Entropy\n",
    "1. plot the streamplot of the Loss in r,kappa\n",
    "1. pick a direction to move outward from and measure the increase in Loss as you move away\n",
    "1. Q: is there a simple functional form in that direction?\n",
    "1. Q: how does ibid compare to other directions?\n"
   ]
  },
  {
   "cell_type": "code",
   "execution_count": null,
   "id": "888284af",
   "metadata": {
    "hidden": true
   },
   "outputs": [],
   "source": []
  },
  {
   "cell_type": "code",
   "execution_count": null,
   "id": "d9983c54",
   "metadata": {
    "hidden": true
   },
   "outputs": [],
   "source": []
  },
  {
   "cell_type": "code",
   "execution_count": null,
   "id": "e14c95f8",
   "metadata": {
    "hidden": true
   },
   "outputs": [],
   "source": []
  }
 ],
 "metadata": {
  "hide_input": false,
  "kernelspec": {
   "display_name": "Python 3 (ipykernel)",
   "language": "python",
   "name": "python3"
  },
  "language_info": {
   "codemirror_mode": {
    "name": "ipython",
    "version": 3
   },
   "file_extension": ".py",
   "mimetype": "text/x-python",
   "name": "python",
   "nbconvert_exporter": "python",
   "pygments_lexer": "ipython3",
   "version": "3.9.13"
  },
  "latex_envs": {
   "LaTeX_envs_menu_present": true,
   "autoclose": true,
   "autocomplete": false,
   "bibliofile": "biblio.bib",
   "cite_by": "apalike",
   "current_citInitial": 1,
   "eqLabelWithNumbers": false,
   "eqNumInitial": 1,
   "hotkeys": {
    "equation": "Ctrl-E",
    "itemize": "Ctrl-I"
   },
   "labels_anchors": false,
   "latex_user_defs": false,
   "report_style_numbering": false,
   "user_envs_cfg": false
  },
  "nbTranslate": {
   "displayLangs": [
    "*"
   ],
   "hotkey": "alt-t",
   "langInMainMenu": true,
   "sourceLang": "en",
   "targetLang": "fr",
   "useGoogleTranslate": true
  },
  "toc": {
   "base_numbering": 1,
   "nav_menu": {},
   "number_sections": true,
   "sideBar": true,
   "skip_h1_title": false,
   "title_cell": "Table of Contents",
   "title_sidebar": "Contents",
   "toc_cell": false,
   "toc_position": {},
   "toc_section_display": true,
   "toc_window_display": false
  }
 },
 "nbformat": 4,
 "nbformat_minor": 5
}
