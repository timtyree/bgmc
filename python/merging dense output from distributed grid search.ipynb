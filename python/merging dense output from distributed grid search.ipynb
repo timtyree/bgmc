{
 "cells": [
  {
   "cell_type": "markdown",
   "metadata": {},
   "source": [
    "# merging dense output from distributed grid search\n",
    "Timothy Tyree<br>\n",
    "3.27.2021"
   ]
  },
  {
   "cell_type": "code",
   "execution_count": 1,
   "metadata": {
    "ExecuteTime": {
     "end_time": "2021-04-08T23:16:38.632184Z",
     "start_time": "2021-04-08T23:16:38.051431Z"
    }
   },
   "outputs": [],
   "source": [
    "from lib.my_initialization import *\n",
    "# import cudf"
   ]
  },
  {
   "cell_type": "code",
   "execution_count": 2,
   "metadata": {
    "ExecuteTime": {
     "end_time": "2021-04-08T23:16:38.689651Z",
     "start_time": "2021-04-08T23:16:38.633315Z"
    }
   },
   "outputs": [
    {
     "name": "stdout",
     "output_type": "stream",
     "text": [
      "33376\n"
     ]
    }
   ],
   "source": [
    "#find the data\n",
    "data_fn='run_1_to_3_merged.csv'\n",
    "\n",
    "data_folder=f'{nb_dir}/data/osg_output/Log'\n",
    "os.chdir(data_folder)\n",
    "fn_lst=os.listdir()\n",
    "input_fn_lst=[]\n",
    "for fn in fn_lst:\n",
    "    if fn.find('.out.')!=-1:\n",
    "        input_fn_lst.append(fn)\n",
    "print(len(input_fn_lst))"
   ]
  },
  {
   "cell_type": "code",
   "execution_count": 3,
   "metadata": {
    "ExecuteTime": {
     "end_time": "2021-04-08T23:28:06.693960Z",
     "start_time": "2021-04-08T23:16:38.690584Z"
    },
    "scrolled": true
   },
   "outputs": [],
   "source": [
    "#merge the data into one dataframe\n",
    "df_lst=[]\n",
    "for input_fn in input_fn_lst:\n",
    "    df=parse_output_log(input_fn, include_inputs=True,printing=False)\n",
    "    if df is not None:\n",
    "        if np.isnan(df['5'].values).any():\n",
    "            Nmin=5\n",
    "        else:\n",
    "            Nmin=11\n",
    "        # Ntrials=df.index.values.shape[0]\n",
    "        df.drop(columns=[f'{i}' for i in range(Nmin)], inplace=True)\n",
    "        df.dropna(inplace=True)\n",
    "#         df=cudf.from_pandas(df)\n",
    "        df_lst.append(df)\n",
    "\n",
    "\n",
    "# df_merge=cudf.concat(df_lst)\n",
    "df_merge=pd.concat(df_lst)\n",
    "# df_merge.head()\n",
    "# df_merge.head()\n",
    "# beep(4)\n",
    "\n",
    "#save resulting dataframe to .csv\n",
    "os.chdir(data_folder)\n",
    "os.chdir('..')\n",
    "df_merge.to_csv(data_fn,index=False)"
   ]
  },
  {
   "cell_type": "code",
   "execution_count": 4,
   "metadata": {
    "ExecuteTime": {
     "end_time": "2021-04-08T23:28:07.713235Z",
     "start_time": "2021-04-08T23:28:06.695159Z"
    }
   },
   "outputs": [
    {
     "data": {
      "text/plain": [
       "0"
      ]
     },
     "execution_count": 4,
     "metadata": {},
     "output_type": "execute_result"
    }
   ],
   "source": [
    "beep(5)"
   ]
  },
  {
   "cell_type": "code",
   "execution_count": null,
   "metadata": {},
   "outputs": [],
   "source": []
  }
 ],
 "metadata": {
  "kernelspec": {
   "display_name": "Python 3",
   "language": "python",
   "name": "python3"
  },
  "language_info": {
   "codemirror_mode": {
    "name": "ipython",
    "version": 3
   },
   "file_extension": ".py",
   "mimetype": "text/x-python",
   "name": "python",
   "nbconvert_exporter": "python",
   "pygments_lexer": "ipython3",
   "version": "3.8.7"
  },
  "toc": {
   "base_numbering": 1,
   "nav_menu": {},
   "number_sections": true,
   "sideBar": true,
   "skip_h1_title": false,
   "title_cell": "Table of Contents",
   "title_sidebar": "Contents",
   "toc_cell": false,
   "toc_position": {},
   "toc_section_display": true,
   "toc_window_display": false
  },
  "varInspector": {
   "cols": {
    "lenName": 16,
    "lenType": 16,
    "lenVar": 40
   },
   "kernels_config": {
    "python": {
     "delete_cmd_postfix": "",
     "delete_cmd_prefix": "del ",
     "library": "var_list.py",
     "varRefreshCmd": "print(var_dic_list())"
    },
    "r": {
     "delete_cmd_postfix": ") ",
     "delete_cmd_prefix": "rm(",
     "library": "var_list.r",
     "varRefreshCmd": "cat(var_dic_list()) "
    }
   },
   "types_to_exclude": [
    "module",
    "function",
    "builtin_function_or_method",
    "instance",
    "_Feature"
   ],
   "window_display": false
  }
 },
 "nbformat": 4,
 "nbformat_minor": 4
}
