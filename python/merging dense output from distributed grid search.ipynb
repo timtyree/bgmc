{
 "cells": [
  {
   "cell_type": "markdown",
   "metadata": {},
   "source": [
    "# merging dense output from distributed grid search\n",
    "Timothy Tyree<br>\n",
    "3.27.2021"
   ]
  },
  {
   "cell_type": "code",
   "execution_count": 1,
   "metadata": {
    "ExecuteTime": {
     "end_time": "2021-03-31T16:55:29.587559Z",
     "start_time": "2021-03-31T16:55:28.971945Z"
    }
   },
   "outputs": [],
   "source": [
    "from lib.my_initialization import *"
   ]
  },
  {
   "cell_type": "code",
   "execution_count": 2,
   "metadata": {
    "ExecuteTime": {
     "end_time": "2021-03-31T16:55:30.053987Z",
     "start_time": "2021-03-31T16:55:29.963164Z"
    }
   },
   "outputs": [
    {
     "ename": "ModuleNotFoundError",
     "evalue": "No module named 'cudf'",
     "output_type": "error",
     "traceback": [
      "\u001b[0;31m-----------------------------------------------------------------\u001b[0m",
      "\u001b[0;31mModuleNotFoundError\u001b[0m             Traceback (most recent call last)",
      "\u001b[0;32m<ipython-input-2-e13365c50bc4>\u001b[0m in \u001b[0;36m<module>\u001b[0;34m\u001b[0m\n\u001b[0;32m----> 1\u001b[0;31m \u001b[0;32mimport\u001b[0m \u001b[0mcudf\u001b[0m\u001b[0;34m\u001b[0m\u001b[0;34m\u001b[0m\u001b[0m\n\u001b[0m",
      "\u001b[0;31mModuleNotFoundError\u001b[0m: No module named 'cudf'"
     ]
    }
   ],
   "source": [
    "import cudf"
   ]
  },
  {
   "cell_type": "code",
   "execution_count": 3,
   "metadata": {
    "ExecuteTime": {
     "end_time": "2021-03-31T16:55:44.531516Z",
     "start_time": "2021-03-31T16:55:44.506897Z"
    }
   },
   "outputs": [
    {
     "name": "stdout",
     "output_type": "stream",
     "text": [
      "6889\n"
     ]
    }
   ],
   "source": [
    "#find the data\n",
    "data_folder=f'{nb_dir}/data/osg_output/Log'\n",
    "os.chdir(data_folder)\n",
    "fn_lst=os.listdir()\n",
    "input_fn_lst=[]\n",
    "for fn in fn_lst:\n",
    "    if fn.find('.out.')!=-1:\n",
    "        input_fn_lst.append(fn)\n",
    "print(len(input_fn_lst))"
   ]
  },
  {
   "cell_type": "code",
   "execution_count": 4,
   "metadata": {
    "ExecuteTime": {
     "end_time": "2021-03-31T16:56:54.884682Z",
     "start_time": "2021-03-31T16:55:54.478188Z"
    },
    "scrolled": true
   },
   "outputs": [
    {
     "name": "stdout",
     "output_type": "stream",
     "text": [
      "Warning: n_input not found for input_fn=job.out.8623404.454.\n",
      "returning None...\n",
      "Warning: n_input not found for input_fn=job.out.8623404.1624.\n",
      "returning None...\n",
      "Warning: n_input not found for input_fn=job.out.8623404.130.\n",
      "returning None...\n",
      "Warning: n_input not found for input_fn=job.out.8623404.1587.\n",
      "returning None...\n",
      "Warning: n_input not found for input_fn=job.out.8623404.900.\n",
      "returning None...\n",
      "Warning: n_input not found for input_fn=job.out.8623404.2306.\n",
      "returning None...\n",
      "Warning: n_input not found for input_fn=job.out.8623404.851.\n",
      "returning None...\n",
      "Warning: n_input not found for input_fn=job.out.8623404.473.\n",
      "returning None...\n",
      "Warning: n_input not found for input_fn=job.out.8623404.635.\n",
      "returning None...\n",
      "Warning: n_input not found for input_fn=job.out.8623404.7.\n",
      "returning None...\n"
     ]
    },
    {
     "ename": "NameError",
     "evalue": "name 'cudf' is not defined",
     "output_type": "error",
     "traceback": [
      "\u001b[0;31m-----------------------------------------------------------------\u001b[0m",
      "\u001b[0;31mNameError\u001b[0m                       Traceback (most recent call last)",
      "\u001b[0;32m<ipython-input-4-94e9968f3f14>\u001b[0m in \u001b[0;36m<module>\u001b[0;34m\u001b[0m\n\u001b[1;32m     10\u001b[0m \u001b[0;31m#         df=cudf.from_pandas(df)\u001b[0m\u001b[0;34m\u001b[0m\u001b[0;34m\u001b[0m\u001b[0;34m\u001b[0m\u001b[0m\n\u001b[1;32m     11\u001b[0m         \u001b[0mdf_lst\u001b[0m\u001b[0;34m.\u001b[0m\u001b[0mappend\u001b[0m\u001b[0;34m(\u001b[0m\u001b[0mdf\u001b[0m\u001b[0;34m)\u001b[0m\u001b[0;34m\u001b[0m\u001b[0;34m\u001b[0m\u001b[0m\n\u001b[0;32m---> 12\u001b[0;31m \u001b[0mdf_merge\u001b[0m\u001b[0;34m=\u001b[0m\u001b[0mcudf\u001b[0m\u001b[0;34m.\u001b[0m\u001b[0mconcat\u001b[0m\u001b[0;34m(\u001b[0m\u001b[0mdf_lst\u001b[0m\u001b[0;34m)\u001b[0m\u001b[0;34m\u001b[0m\u001b[0;34m\u001b[0m\u001b[0m\n\u001b[0m\u001b[1;32m     13\u001b[0m \u001b[0mdf_merge\u001b[0m\u001b[0;34m.\u001b[0m\u001b[0mhead\u001b[0m\u001b[0;34m(\u001b[0m\u001b[0;34m)\u001b[0m\u001b[0;34m\u001b[0m\u001b[0;34m\u001b[0m\u001b[0m\n",
      "\u001b[0;31mNameError\u001b[0m: name 'cudf' is not defined"
     ]
    }
   ],
   "source": [
    "#merge the data into one dataframe\n",
    "df_lst=[]\n",
    "for input_fn in input_fn_lst:\n",
    "    df=parse_output_log(input_fn, include_inputs=True,printing=False)\n",
    "    if df is not None:\n",
    "        # Ntrials=df.index.values.shape[0]\n",
    "        Nmin=11\n",
    "        df.drop(columns=[f'{i}' for i in range(Nmin)], inplace=True)\n",
    "        df.dropna(inplace=True)\n",
    "#         df=cudf.from_pandas(df)\n",
    "        df_lst.append(df)\n"
   ]
  },
  {
   "cell_type": "code",
   "execution_count": 6,
   "metadata": {
    "ExecuteTime": {
     "end_time": "2021-03-31T17:00:49.277925Z",
     "start_time": "2021-03-31T17:00:45.127066Z"
    }
   },
   "outputs": [
    {
     "data": {
      "text/plain": [
       "0"
      ]
     },
     "execution_count": 6,
     "metadata": {},
     "output_type": "execute_result"
    }
   ],
   "source": [
    "# df_merge=cudf.concat(df_lst)\n",
    "df_merge=pd.concat(df_lst)\n",
    "df_merge.head()\n",
    "# df_merge.head()\n",
    "beep(4)"
   ]
  },
  {
   "cell_type": "code",
   "execution_count": 8,
   "metadata": {
    "ExecuteTime": {
     "end_time": "2021-03-31T17:10:36.726675Z",
     "start_time": "2021-03-31T17:09:17.084014Z"
    }
   },
   "outputs": [],
   "source": [
    "#save resulting dataframe to .csv\n",
    "os.chdir(data_folder)\n",
    "os.chdir('..')\n",
    "data_fn='run_1_merged.csv'\n",
    "df_merge.to_csv(data_fn,index=False)"
   ]
  },
  {
   "cell_type": "code",
   "execution_count": 9,
   "metadata": {
    "ExecuteTime": {
     "end_time": "2021-03-31T17:12:11.394435Z",
     "start_time": "2021-03-31T17:12:10.377744Z"
    }
   },
   "outputs": [
    {
     "data": {
      "text/plain": [
       "0"
      ]
     },
     "execution_count": 9,
     "metadata": {},
     "output_type": "execute_result"
    }
   ],
   "source": [
    "beep(5)"
   ]
  },
  {
   "cell_type": "code",
   "execution_count": null,
   "metadata": {
    "ExecuteTime": {
     "end_time": "2021-03-31T17:42:38.655194Z",
     "start_time": "2021-03-31T17:42:30.308Z"
    }
   },
   "outputs": [],
   "source": [
    "5/300"
   ]
  },
  {
   "cell_type": "code",
   "execution_count": 11,
   "metadata": {
    "ExecuteTime": {
     "end_time": "2021-03-31T17:42:41.571903Z",
     "start_time": "2021-03-31T17:42:41.563651Z"
    }
   },
   "outputs": [
    {
     "data": {
      "text/plain": [
       "0.016666666666666666"
      ]
     },
     "execution_count": 11,
     "metadata": {},
     "output_type": "execute_result"
    }
   ],
   "source": [
    "5/300"
   ]
  },
  {
   "cell_type": "code",
   "execution_count": null,
   "metadata": {
    "ExecuteTime": {
     "end_time": "2021-03-31T17:43:57.057951Z",
     "start_time": "2021-03-31T17:42:55.308Z"
    }
   },
   "outputs": [],
   "source": [
    "5/500"
   ]
  },
  {
   "cell_type": "code",
   "execution_count": 13,
   "metadata": {
    "ExecuteTime": {
     "end_time": "2021-03-31T17:44:01.011964Z",
     "start_time": "2021-03-31T17:44:01.005069Z"
    }
   },
   "outputs": [
    {
     "data": {
      "text/plain": [
       "0.14"
      ]
     },
     "execution_count": 13,
     "metadata": {},
     "output_type": "execute_result"
    }
   ],
   "source": [
    "70/500"
   ]
  },
  {
   "cell_type": "code",
   "execution_count": 14,
   "metadata": {
    "ExecuteTime": {
     "end_time": "2021-03-31T17:44:21.081928Z",
     "start_time": "2021-03-31T17:44:21.075373Z"
    }
   },
   "outputs": [
    {
     "data": {
      "text/plain": [
       "0.05"
      ]
     },
     "execution_count": 14,
     "metadata": {},
     "output_type": "execute_result"
    }
   ],
   "source": [
    "5/100"
   ]
  },
  {
   "cell_type": "code",
   "execution_count": 15,
   "metadata": {
    "ExecuteTime": {
     "end_time": "2021-03-31T17:44:34.467419Z",
     "start_time": "2021-03-31T17:44:34.458295Z"
    }
   },
   "outputs": [
    {
     "data": {
      "text/plain": [
       "0.7"
      ]
     },
     "execution_count": 15,
     "metadata": {},
     "output_type": "execute_result"
    }
   ],
   "source": [
    "70/100"
   ]
  },
  {
   "cell_type": "code",
   "execution_count": 17,
   "metadata": {
    "ExecuteTime": {
     "end_time": "2021-03-31T17:49:10.867661Z",
     "start_time": "2021-03-31T17:49:10.855434Z"
    }
   },
   "outputs": [
    {
     "name": "stdout",
     "output_type": "stream",
     "text": [
      "1440\n"
     ]
    }
   ],
   "source": [
    "niter=250 #trials per worker\n",
    "r_values=np.array([0.1,0.2,0.3,0.4,0.5,1.0])#cm\n",
    "D_values=np.array([0.2,2.0])#cm^2/s\n",
    "A_values=np.array([100,25])#cm^2\n",
    "L_values=np.sqrt(A_values)#cm\n",
    "kappa_values=np.array([10,20,30,40,50,60,70,80,90,100])#1/s\n",
    "num_trials_per_setting=6\n",
    "#iterate over settings, scheduling the longest jobs first\n",
    "count=0\n",
    "for L in L_values:\n",
    "\tfor r in r_values:\n",
    "\t\tfor kappa in kappa_values:\n",
    "\t\t\tfor D in D_values:\n",
    "\t\t\t\tnum_trials=0\n",
    "\t\t\t\twhile num_trials<num_trials_per_setting:\n",
    "\t\t\t\t\tnum_trials+=1\n",
    "\t\t\t\t\tcount=count+1\n",
    "# \t\t\t\t\tprint(f\"{r} {D} {L} {kappa} {niter}\")\n",
    "print(count)"
   ]
  },
  {
   "cell_type": "code",
   "execution_count": null,
   "metadata": {
    "ExecuteTime": {
     "end_time": "2021-03-31T17:50:15.445258Z",
     "start_time": "2021-03-31T17:49:42.461Z"
    }
   },
   "outputs": [],
   "source": [
    "print(count*24)"
   ]
  },
  {
   "cell_type": "code",
   "execution_count": 20,
   "metadata": {
    "ExecuteTime": {
     "end_time": "2021-03-31T17:54:51.744101Z",
     "start_time": "2021-03-31T17:54:51.727075Z"
    }
   },
   "outputs": [
    {
     "name": "stdout",
     "output_type": "stream",
     "text": [
      "13248\n"
     ]
    }
   ],
   "source": [
    "#gen_run_2.py\n",
    "import numpy as np\n",
    "niter=250 #trials per worker\n",
    "r_values=np.array([0.1,.15,0.2,.25,0.3,.35,0.4,.45,0.5,.55,.6,.65,.7,.75,.8,.85,.9,.95,1.0,2.5,5.,7.5,10.])#cm\n",
    "D_values=np.array([0.2,2.0])#cm^2/s\n",
    "A_values=np.array([100,25])#cm^2\n",
    "L_values=np.sqrt(A_values)#cm\n",
    "kappa_values=np.array([5,10,15,20,25,30,35,40,45,50,55,60,65,70,75,80,85,90,95,100,250,500,750,1000])#1/s\n",
    "num_trials_per_setting=6\n",
    "#iterate over settings, scheduling the longest jobs first\n",
    "count=0\n",
    "for L in L_values:\n",
    "\tfor r in r_values:\n",
    "\t\tfor kappa in kappa_values:\n",
    "\t\t\tfor D in D_values:\n",
    "\t\t\t\tnum_trials=0\n",
    "\t\t\t\twhile num_trials<num_trials_per_setting:\n",
    "\t\t\t\t\tnum_trials+=1\n",
    "\t\t\t\t\tcount=count+1\n",
    "# \t\t\t\t\tprint(f\"{r} {D} {L} {kappa} {niter}\")\n",
    "print(count)"
   ]
  },
  {
   "cell_type": "code",
   "execution_count": null,
   "metadata": {},
   "outputs": [],
   "source": []
  }
 ],
 "metadata": {
  "kernelspec": {
   "display_name": "Python 3",
   "language": "python",
   "name": "python3"
  },
  "language_info": {
   "codemirror_mode": {
    "name": "ipython",
    "version": 3
   },
   "file_extension": ".py",
   "mimetype": "text/x-python",
   "name": "python",
   "nbconvert_exporter": "python",
   "pygments_lexer": "ipython3",
   "version": "3.7.6"
  },
  "toc": {
   "base_numbering": 1,
   "nav_menu": {},
   "number_sections": true,
   "sideBar": true,
   "skip_h1_title": false,
   "title_cell": "Table of Contents",
   "title_sidebar": "Contents",
   "toc_cell": false,
   "toc_position": {},
   "toc_section_display": true,
   "toc_window_display": false
  },
  "varInspector": {
   "cols": {
    "lenName": 16,
    "lenType": 16,
    "lenVar": 40
   },
   "kernels_config": {
    "python": {
     "delete_cmd_postfix": "",
     "delete_cmd_prefix": "del ",
     "library": "var_list.py",
     "varRefreshCmd": "print(var_dic_list())"
    },
    "r": {
     "delete_cmd_postfix": ") ",
     "delete_cmd_prefix": "rm(",
     "library": "var_list.r",
     "varRefreshCmd": "cat(var_dic_list()) "
    }
   },
   "types_to_exclude": [
    "module",
    "function",
    "builtin_function_or_method",
    "instance",
    "_Feature"
   ],
   "window_display": false
  }
 },
 "nbformat": 4,
 "nbformat_minor": 4
}
