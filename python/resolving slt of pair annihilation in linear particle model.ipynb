{
 "cells": [
  {
   "cell_type": "markdown",
   "id": "bfacf08c",
   "metadata": {},
   "source": [
    "# resolving singular learning theory of pair annihilation\n",
    "Purpose: Fitting reaction range and rate parameters of linear particle model to annihilation rates of full model<br>\n",
    "Tim Tyree<br>\n",
    "8.16.2022"
   ]
  },
  {
   "cell_type": "code",
   "execution_count": 1,
   "id": "02cda613",
   "metadata": {
    "ExecuteTime": {
     "end_time": "2022-09-05T18:59:50.501005Z",
     "start_time": "2022-09-05T18:59:49.015394Z"
    }
   },
   "outputs": [
    {
     "name": "stdout",
     "output_type": "stream",
     "text": [
      "The autoreload extension is already loaded. To reload it, use:\n",
      "  %reload_ext autoreload\n"
     ]
    }
   ],
   "source": [
    "from lib.my_initialization import *\n",
    "from lib import *\n",
    "#from lib.lib_care.measure.level_sets import comp_longest_level_set_and_smooth\n",
    "%load_ext autoreload\n",
    "%autoreload 2\n",
    "\n",
    "import random,scipy\n",
    "from scipy.interpolate import LinearNDInterpolator\n",
    "from scipy.interpolate import CloughTocher2DInterpolator\n",
    "from scipy.optimize import minimize\n",
    "#load libraries for color bar\n",
    "import matplotlib as mpl #for colorbar\n",
    "from matplotlib.cm import ScalarMappable\n",
    "import matplotlib.colors as colors\n",
    "import matplotlib.cbook as cbook\n",
    "from matplotlib import cm\n",
    "#def plotter_3dpoint_cloud_sample(az,...):\n",
    "from scipy import stats\n",
    "#DONE: hook this routine up to dask\n",
    "#DONT: hook this routine up to dask_cuda\n",
    "# import scanpy as sc\n",
    "darkmode=False\n",
    "if darkmode:\n",
    "    # For darkmode plots\n",
    "    from jupyterthemes import jtplot\n",
    "    jtplot.style(theme='monokai', context='notebook', ticks=True, grid=False)\n",
    "#     theme=cuxfilter.themes.dark\n",
    "#     #     theme=cuxfilter.themes.rapids\n",
    "else:\n",
    "    sns.set_style('white')\n",
    "#     theme=cuxfilter.themes.light\n",
    "import warnings\n",
    "warnings.simplefilter(\"ignore\", UserWarning)\n",
    "%load_ext autoreload\n",
    "%autoreload 2\n",
    "# import cupy as cp\n",
    "np.random.seed(42)\n",
    "# cp.random.seed(42)"
   ]
  },
  {
   "cell_type": "code",
   "execution_count": 2,
   "id": "831fe580",
   "metadata": {
    "ExecuteTime": {
     "end_time": "2022-09-05T18:59:50.519034Z",
     "start_time": "2022-09-05T18:59:50.503065Z"
    }
   },
   "outputs": [],
   "source": [
    "#reset matplotlib settings\n",
    "from mpltools import annotation\n",
    "import matplotlib as mpl\n",
    "sns.reset_orig()\n",
    "mpl.rc_file_defaults()"
   ]
  },
  {
   "cell_type": "code",
   "execution_count": 3,
   "id": "0a38884f",
   "metadata": {
    "ExecuteTime": {
     "end_time": "2022-09-05T18:59:50.536566Z",
     "start_time": "2022-09-05T18:59:50.520405Z"
    }
   },
   "outputs": [
    {
     "name": "stdout",
     "output_type": "stream",
     "text": [
      "fk_pbc lr_pbc fk_ncbc lr_ncbc\n",
      "fk_pbc={'m': 1.8772341309722325, 'Delta_m': 0.02498750277237229, 'M': 5.572315674840435, 'Delta_M': 0.3053120355191732, 'b': 1.665608066257863, 'Delta_b': 0.029341409948945123}\n",
      "lr_pbc={'m': 1.6375562704001745, 'Delta_m': 0.017190912126700632, 'M': 16.73559858353835, 'Delta_M': 0.8465090320196467, 'b': 2.86877101880514, 'Delta_b': 0.0311865277365552}\n",
      "fk_ncbc={'m': 1.854156794480594, 'Delta_m': 0.024531267275222507, 'b': 1.9249840368187936, 'Delta_b': 0.033016842409840354, 'Rsquared': 0.9960514654423748, 'M': 7.135532649256891, 'Delta_M': 0.4454472504725109}\n",
      "lr_ncbc={'m': 1.6611400039209039, 'Delta_m': 0.026856157147378743, 'b': 2.8636688985503183, 'Delta_b': 0.055411463888674725, 'Rsquared': 0.9873700703980065, 'M': 16.75061667963681, 'Delta_M': 1.2837944679833377}\n"
     ]
    }
   ],
   "source": [
    "wjr=recall_powerlaw_fits_to_full_models()\n",
    "print(*wjr)\n",
    "print_dict(wjr)"
   ]
  },
  {
   "cell_type": "code",
   "execution_count": 4,
   "id": "e127fbc1",
   "metadata": {
    "ExecuteTime": {
     "end_time": "2022-09-05T18:59:50.615635Z",
     "start_time": "2022-09-05T18:59:50.595439Z"
    }
   },
   "outputs": [],
   "source": [
    "from isosurfaces import plot_isosurface\n",
    "import numpy as np\n",
    "import matplotlib.pyplot as plt\n",
    "import matplotlib.tri as mtri"
   ]
  },
  {
   "cell_type": "markdown",
   "id": "8f11dc96",
   "metadata": {},
   "source": [
    "# define module"
   ]
  },
  {
   "cell_type": "code",
   "execution_count": 5,
   "id": "42e7c26a",
   "metadata": {
    "ExecuteTime": {
     "end_time": "2022-09-05T18:59:50.650864Z",
     "start_time": "2022-09-05T18:59:50.634497Z"
    }
   },
   "outputs": [],
   "source": [
    "def comp_rmse_powerlaw(df,M,m,dq=0.05,q_values=None):\n",
    "    \"\"\"\n",
    "    Example Usage:\n",
    "input_fn=f\"/home/timothytyree/Documents/GitHub/bgmc/python/data/osg_output/run_24_all_powerlaw_fits.csv\"\n",
    "df=pd.read_csv(input_fn)\n",
    "df = comp_rmse_powerlaw(df,q_values,M,m,dq=0.05)\n",
    "df.sort_values(by='rmse',inplace=True)\n",
    "df['rmse'].values\n",
    "    \"\"\"\n",
    "    if q_values is None:\n",
    "        #compute q_values used by df\n",
    "        q_min = df.q_min.drop_duplicates().values[0]\n",
    "        q_max = df.q_max.drop_duplicates().values[0]\n",
    "        q_values=np.arange(q_min,q_max,dq)\n",
    "        \n",
    "    #input: m,M, q_values used by df\n",
    "    #output: w_values\n",
    "    w_values=M*q_values**m\n",
    "\n",
    "    #compute rmse for each row\n",
    "    df['rmse']=np.nan\n",
    "    for i,row in df.iterrows():\n",
    "        m_ = row['m']\n",
    "        M_ = row['M']\n",
    "        w_values_linear=M_*q_values**m_\n",
    "        df.loc[i,'rmse']= np.sqrt(np.mean((w_values_linear-w_values)**2))\n",
    "    return df"
   ]
  },
  {
   "cell_type": "code",
   "execution_count": 6,
   "id": "fa107e78",
   "metadata": {
    "ExecuteTime": {
     "end_time": "2022-09-05T18:59:50.709662Z",
     "start_time": "2022-09-05T18:59:50.686844Z"
    }
   },
   "outputs": [],
   "source": [
    "def load_cached_powerlaw_fits_linear_particle(input_fn,\n",
    "                            neighbor=1,      #1: forces are computed between nearest neighbors only\n",
    "                            reflect=0,       #0: periodic boundary conditions\n",
    "                            force_code=2,    #2: 1/R attractive force\n",
    "                            set_second=0,    #0: dont set within range\n",
    "                            no_attraction=0, #0: attraction is permitted\n",
    "                            no_repulsion=0,  #0: repulsion is permitted (warning: alinear<0 is prohibitively slow)\n",
    "                            pos_D_only=True, #selects only positive D if true\n",
    "                            printing=True,\n",
    "                            **kwargs):\n",
    "    \"\"\"\n",
    "    Example Usage:\n",
    "input_fn=f\"{nb_dir}/data/osg_output/run_25_all_powerlaw_fits.csv\"\n",
    "dg=load_cached_powerlaw_fits_linear_particle(input_fn,neighbor=1)\n",
    "    \"\"\"\n",
    "    df=pd.read_csv(input_fn)\n",
    "    if printing:\n",
    "        print(f\"loading from src: {input_fn=}...\")\n",
    "\n",
    "        print(f\"\\nnum. alinear values considered: {len(sorted(df['varkappa'].drop_duplicates().values))}\")\n",
    "        print(f\"parameter range:\")\n",
    "        print(df.describe()[['r','kappa','varkappa','D','L']].T[['min','max']].T)\n",
    "\n",
    "    scale_invariant_descr_str = f\"\"\"\n",
    "    coordinates: 'length scale invariant coordinates dual to mean pair-annihilation rate in the linear particle model'\n",
    "        - x1=r       / L\n",
    "        - x2=kappa\n",
    "        - x3=alinear / (L**2)\n",
    "        - x4=D       / (L**2)\n",
    "    \"\"\"\n",
    "    if printing:\n",
    "        print(scale_invariant_descr_str)\n",
    "    #compute the scale invariant coordinates\n",
    "    df['x1']=df['r']/df['L']\n",
    "    df['x2']=df['kappa']\n",
    "    df['x3']=df['varkappa']/(df['L']**2)\n",
    "    df['x4']=df['D']/(df['L']**2)\n",
    "    # xlabel=r'$r/L$'\n",
    "    # # ylabel=r'$1/\\kappa$ (s)'\n",
    "    # ylabel=r'$\\kappa$ (Hz)'\n",
    "    # zlabel=r'$a_{Linear}/L^2$ (Hz)'\n",
    "    if printing:\n",
    "        print(f\"scale-invariant parameter range:\")\n",
    "        print(df.describe()[['x1','x2','x3','x4']].T[['min','max']].T)\n",
    "\n",
    "    # print(f\"\\n\\n(more details:)\")\n",
    "    # print(df.describe().T[['min','max']].T)\n",
    "\n",
    "    #query the DataFrame\n",
    "    query =(df.set_second==set_second)&(df.reflect==reflect)\n",
    "    query&=(df.no_repulsion==no_repulsion)&(df.no_attraction==no_attraction)\n",
    "    query&=(df.neighbor==neighbor)&(df.force_code==force_code)\n",
    "    if pos_D_only:\n",
    "        query&=df.D>0\n",
    "    dg=df[query]\n",
    "    \n",
    "    if printing:\n",
    "        num_rows_selected = dg.shape[0]\n",
    "        num_rows_total = df.shape[0]\n",
    "        print(f\"{num_rows_selected=} out of {num_rows_total}\")\n",
    "    return dg"
   ]
  },
  {
   "cell_type": "code",
   "execution_count": 7,
   "id": "232410b4",
   "metadata": {
    "ExecuteTime": {
     "end_time": "2022-09-05T18:59:50.746629Z",
     "start_time": "2022-09-05T18:59:50.728964Z"
    }
   },
   "outputs": [],
   "source": [
    "def get_interp_magnitude_defect(interp,x4,M):\n",
    "    \"\"\"\n",
    "    Example Usage:\n",
    "interp_magnitude_defect = get_interp_magnitude_defect(interp,x4,M)\n",
    "defect = interp_magnitude_defect(x)\n",
    "    \"\"\"\n",
    "    def interp_magnitude_defect(x):    \n",
    "        x1,x2,x3=x\n",
    "        xx=(x1,x2,x3,x4)\n",
    "        yhat=interp(xx)\n",
    "        Mhat=yhat[0]\n",
    "        #mhat=yhat[1]\n",
    "        return Mhat-M\n",
    "    return interp_magnitude_defect\n",
    "\n",
    "def get_interp_exponent_defect(interp,x4,nu):\n",
    "    \"\"\"\n",
    "    Example Usage:\n",
    "interp_exponent_defect = get_interp_exponent_defect(interp,x4,nu)\n",
    "defect = interp_exponent_defect(x)\n",
    "    \"\"\"\n",
    "    def interp_exponent_defect(x):    \n",
    "        x1,x2,x3=x\n",
    "        xx=(x1,x2,x3,x4)\n",
    "        yhat=interp(xx)\n",
    "        #Mhat=yhat[0]\n",
    "        mhat=yhat[1]\n",
    "        return mhat-nu\n",
    "    return interp_exponent_defect\n"
   ]
  },
  {
   "cell_type": "markdown",
   "id": "8bcf4e3e",
   "metadata": {},
   "source": [
    "# DONE: aggregate linear interpolating function from cached results"
   ]
  },
  {
   "cell_type": "code",
   "execution_count": 8,
   "id": "fb0516d8",
   "metadata": {
    "ExecuteTime": {
     "end_time": "2022-09-05T19:00:00.872026Z",
     "start_time": "2022-09-05T19:00:00.799286Z"
    }
   },
   "outputs": [
    {
     "name": "stdout",
     "output_type": "stream",
     "text": [
      "fn: run_24_all_powerlaw_fits.csv, len: 4239\n",
      "fn: run_25_all_powerlaw_fits.csv, len: 17640\n",
      "21879\n"
     ]
    }
   ],
   "source": [
    "#############################\n",
    "# load cached powerlaw fits\n",
    "#############################\n",
    "#DONE: merge many runs\n",
    "#DONE: search for any more runs to merge with\n",
    "# neighbor=0\n",
    "# input_fn=f\"{nb_dir}/data/osg_output/run_17_all_powerlaw_fits.csv\"  #zero selected (neighbors=0)\n",
    "# input_fn=f\"{nb_dir}/data/osg_output/run_18_all_powerlaw_fits.csv\" #zero selected (neighbors=0)\n",
    "\n",
    "neighbor=1\n",
    "input_fn_lst=[\n",
    "#     f\"{nb_dir}/data/osg_output/run_19_all_powerlaw_fits.csv\", #nonzero selected #interpolates? #this one broke it #linear, perhaps\n",
    "#     f\"{nb_dir}/data/osg_output/run_20_all_powerlaw_fits.csv\", #too low varkappa #nonzero selected #this one broke it #linear, perhaps\n",
    "# #     f\"{nb_dir}/data/osg_output/run_21_all_powerlaw_fits.csv\", #too low varkappa #nonzero selected #this one broke it #oscillatory, perhaps\n",
    "# #     f\"{nb_dir}/data/osg_output/run_22_all_powerlaw_fits.csv\", #too low varkappa #nonzero selected #this one broke it #oscillatory, perhaps\n",
    "# #     f\"{nb_dir}/data/osg_output/run_23_all_powerlaw_fits.csv\", #too low varkappa #nonzero selected #this one broke it #oscillatory, perhaps\n",
    "    f\"{nb_dir}/data/osg_output/run_24_all_powerlaw_fits.csv\", #nonzero selected #interpolates\n",
    "    f\"{nb_dir}/data/osg_output/run_25_all_powerlaw_fits.csv\" #nonzero selected #interpolates\n",
    "]  \n",
    "\n",
    "#TODO: try selecting D>0 only\n",
    "count=0\n",
    "for i,fn in enumerate(input_fn_lst):\n",
    "    df=pd.read_csv(fn)\n",
    "    num_rows=df.shape[0]\n",
    "    print(f\"fn: {os.path.basename(fn)}, len: {num_rows}\")\n",
    "    count+=num_rows\n",
    "print(count)"
   ]
  },
  {
   "cell_type": "code",
   "execution_count": 9,
   "id": "f2f67c23",
   "metadata": {
    "ExecuteTime": {
     "end_time": "2022-09-05T19:00:01.343216Z",
     "start_time": "2022-09-05T19:00:01.325526Z"
    }
   },
   "outputs": [],
   "source": [
    "# fn: run_24_all_powerlaw_fits.csv, len: 4239\n",
    "# fn: run_25_all_powerlaw_fits.csv, len: 17640\n",
    "# 21879"
   ]
  },
  {
   "cell_type": "code",
   "execution_count": 10,
   "id": "67e8e489",
   "metadata": {
    "ExecuteTime": {
     "end_time": "2022-09-05T19:00:03.922126Z",
     "start_time": "2022-09-05T19:00:03.855206Z"
    }
   },
   "outputs": [
    {
     "name": "stdout",
     "output_type": "stream",
     "text": [
      "successfully merged 2 input files!\n"
     ]
    },
    {
     "data": {
      "text/plain": [
       "(21879, 29)"
      ]
     },
     "execution_count": 10,
     "metadata": {},
     "output_type": "execute_result"
    }
   ],
   "source": [
    "#DONE: aggregate list of sessions\n",
    "printing=False\n",
    "dg_lst=[]\n",
    "for input_fn in input_fn_lst:\n",
    "    dg=load_cached_powerlaw_fits_linear_particle(input_fn,neighbor=int(neighbor),printing=printing)\n",
    "    if dg.shape[0]>0:\n",
    "        dg_lst.append(dg)\n",
    "    else:\n",
    "        print(f\"Warning: no rows selected from {input_fn=}\")\n",
    "df_powerlaw_fits=pd.concat(dg_lst)\n",
    "df_powerlaw_fits.reset_index(inplace=True,drop=False)\n",
    "print(f\"successfully merged {len(dg_lst)} input files!\")\n",
    "df_powerlaw_fits.shape"
   ]
  },
  {
   "cell_type": "code",
   "execution_count": 344,
   "id": "4aaad0f4",
   "metadata": {
    "ExecuteTime": {
     "end_time": "2022-09-05T00:29:01.976046Z",
     "start_time": "2022-09-05T00:29:01.940474Z"
    }
   },
   "outputs": [
    {
     "data": {
      "text/plain": [
       "21879"
      ]
     },
     "execution_count": 344,
     "metadata": {},
     "output_type": "execute_result"
    }
   ],
   "source": [
    "num_obs = df_powerlaw_fits.shape[0]\n",
    "num_obs"
   ]
  },
  {
   "cell_type": "code",
   "execution_count": 345,
   "id": "18321344",
   "metadata": {
    "ExecuteTime": {
     "end_time": "2022-09-05T00:29:03.395459Z",
     "start_time": "2022-09-05T00:29:03.117599Z"
    }
   },
   "outputs": [
    {
     "name": "stdout",
     "output_type": "stream",
     "text": [
      "powerlaw_fits_dir='/home/timothytyree/Documents/GitHub/bgmc/python/data/osg_output/powerlaw_fits_aggregated_neighbor_1_numobs_21879.csv'\n"
     ]
    }
   ],
   "source": [
    "saving=True\n",
    "# powerlaw_fits_dir=f\"/home/timothytyree/Documents/GitHub/bgmc/python/data/osg_output/powerlaw_fits_aggregated_neighbor_{neighbor}.csv\"\n",
    "powerlaw_fits_dir=f\"/home/timothytyree/Documents/GitHub/bgmc/python/data/osg_output/powerlaw_fits_aggregated_neighbor_{neighbor}_numobs_{num_obs}.csv\"\n",
    "print(f\"{powerlaw_fits_dir=}\")\n",
    "if saving:\n",
    "    df_powerlaw_fits.to_csv(powerlaw_fits_dir,index=False)"
   ]
  },
  {
   "cell_type": "code",
   "execution_count": null,
   "id": "5954521b",
   "metadata": {},
   "outputs": [],
   "source": []
  },
  {
   "cell_type": "markdown",
   "id": "f87acbbe",
   "metadata": {},
   "source": [
    "# TODO: generate lookup table for linear interpolating function of direct simulation of the linear particle model"
   ]
  },
  {
   "cell_type": "code",
   "execution_count": 348,
   "id": "40c6e7d1",
   "metadata": {
    "ExecuteTime": {
     "end_time": "2022-09-05T00:30:06.316650Z",
     "start_time": "2022-09-05T00:30:06.199518Z"
    }
   },
   "outputs": [
    {
     "name": "stdout",
     "output_type": "stream",
     "text": [
      "df_powerlaw_fits['Rsq'].min()=0.8949494344261261, (21879, 29)\n",
      "df_powerlaw_fits['Rsq'].min()=0.9800395995426732, (20972, 29)\n"
     ]
    },
    {
     "data": {
      "text/html": [
       "<div>\n",
       "<style scoped>\n",
       "    .dataframe tbody tr th:only-of-type {\n",
       "        vertical-align: middle;\n",
       "    }\n",
       "\n",
       "    .dataframe tbody tr th {\n",
       "        vertical-align: top;\n",
       "    }\n",
       "\n",
       "    .dataframe thead th {\n",
       "        text-align: right;\n",
       "    }\n",
       "</style>\n",
       "<table border=\"1\" class=\"dataframe\">\n",
       "  <thead>\n",
       "    <tr style=\"text-align: right;\">\n",
       "      <th></th>\n",
       "      <th>min</th>\n",
       "      <th>max</th>\n",
       "    </tr>\n",
       "  </thead>\n",
       "  <tbody>\n",
       "    <tr>\n",
       "      <th>index</th>\n",
       "      <td>0.000000</td>\n",
       "      <td>17639.000000</td>\n",
       "    </tr>\n",
       "    <tr>\n",
       "      <th>m</th>\n",
       "      <td>1.373735</td>\n",
       "      <td>5.864135</td>\n",
       "    </tr>\n",
       "    <tr>\n",
       "      <th>Delta_m</th>\n",
       "      <td>0.018717</td>\n",
       "      <td>0.509114</td>\n",
       "    </tr>\n",
       "    <tr>\n",
       "      <th>M</th>\n",
       "      <td>1.191753</td>\n",
       "      <td>2301.625941</td>\n",
       "    </tr>\n",
       "    <tr>\n",
       "      <th>Delta_M</th>\n",
       "      <td>0.053949</td>\n",
       "      <td>2806.828886</td>\n",
       "    </tr>\n",
       "    <tr>\n",
       "      <th>Rsq</th>\n",
       "      <td>0.980040</td>\n",
       "      <td>0.999933</td>\n",
       "    </tr>\n",
       "    <tr>\n",
       "      <th>rmse</th>\n",
       "      <td>0.009421</td>\n",
       "      <td>47.928614</td>\n",
       "    </tr>\n",
       "    <tr>\n",
       "      <th>rmse_full</th>\n",
       "      <td>0.087425</td>\n",
       "      <td>509.976374</td>\n",
       "    </tr>\n",
       "    <tr>\n",
       "      <th>q_min</th>\n",
       "      <td>0.240000</td>\n",
       "      <td>0.240000</td>\n",
       "    </tr>\n",
       "    <tr>\n",
       "      <th>q_max</th>\n",
       "      <td>0.700000</td>\n",
       "      <td>0.750000</td>\n",
       "    </tr>\n",
       "    <tr>\n",
       "      <th>r</th>\n",
       "      <td>0.010000</td>\n",
       "      <td>1.700000</td>\n",
       "    </tr>\n",
       "    <tr>\n",
       "      <th>kappa</th>\n",
       "      <td>10.000000</td>\n",
       "      <td>990.000000</td>\n",
       "    </tr>\n",
       "    <tr>\n",
       "      <th>D</th>\n",
       "      <td>0.090000</td>\n",
       "      <td>0.114000</td>\n",
       "    </tr>\n",
       "    <tr>\n",
       "      <th>varkappa</th>\n",
       "      <td>1.553000</td>\n",
       "      <td>9.969000</td>\n",
       "    </tr>\n",
       "    <tr>\n",
       "      <th>x0</th>\n",
       "      <td>0.000000</td>\n",
       "      <td>0.000000</td>\n",
       "    </tr>\n",
       "    <tr>\n",
       "      <th>L</th>\n",
       "      <td>5.000000</td>\n",
       "      <td>5.000000</td>\n",
       "    </tr>\n",
       "    <tr>\n",
       "      <th>force_code</th>\n",
       "      <td>2.000000</td>\n",
       "      <td>2.000000</td>\n",
       "    </tr>\n",
       "    <tr>\n",
       "      <th>neighbor</th>\n",
       "      <td>1.000000</td>\n",
       "      <td>1.000000</td>\n",
       "    </tr>\n",
       "    <tr>\n",
       "      <th>reflect</th>\n",
       "      <td>0.000000</td>\n",
       "      <td>0.000000</td>\n",
       "    </tr>\n",
       "    <tr>\n",
       "      <th>set_second</th>\n",
       "      <td>0.000000</td>\n",
       "      <td>0.000000</td>\n",
       "    </tr>\n",
       "    <tr>\n",
       "      <th>no_repulsion</th>\n",
       "      <td>0.000000</td>\n",
       "      <td>0.000000</td>\n",
       "    </tr>\n",
       "    <tr>\n",
       "      <th>no_attraction</th>\n",
       "      <td>0.000000</td>\n",
       "      <td>0.000000</td>\n",
       "    </tr>\n",
       "    <tr>\n",
       "      <th>dt</th>\n",
       "      <td>0.000010</td>\n",
       "      <td>0.000010</td>\n",
       "    </tr>\n",
       "    <tr>\n",
       "      <th>Dt</th>\n",
       "      <td>0.000010</td>\n",
       "      <td>0.000010</td>\n",
       "    </tr>\n",
       "    <tr>\n",
       "      <th>x1</th>\n",
       "      <td>0.002000</td>\n",
       "      <td>0.340000</td>\n",
       "    </tr>\n",
       "    <tr>\n",
       "      <th>x2</th>\n",
       "      <td>10.000000</td>\n",
       "      <td>990.000000</td>\n",
       "    </tr>\n",
       "    <tr>\n",
       "      <th>x3</th>\n",
       "      <td>0.062120</td>\n",
       "      <td>0.398760</td>\n",
       "    </tr>\n",
       "    <tr>\n",
       "      <th>x4</th>\n",
       "      <td>0.003600</td>\n",
       "      <td>0.004560</td>\n",
       "    </tr>\n",
       "  </tbody>\n",
       "</table>\n",
       "</div>"
      ],
      "text/plain": [
       "                     min           max\n",
       "index           0.000000  17639.000000\n",
       "m               1.373735      5.864135\n",
       "Delta_m         0.018717      0.509114\n",
       "M               1.191753   2301.625941\n",
       "Delta_M         0.053949   2806.828886\n",
       "Rsq             0.980040      0.999933\n",
       "rmse            0.009421     47.928614\n",
       "rmse_full       0.087425    509.976374\n",
       "q_min           0.240000      0.240000\n",
       "q_max           0.700000      0.750000\n",
       "r               0.010000      1.700000\n",
       "kappa          10.000000    990.000000\n",
       "D               0.090000      0.114000\n",
       "varkappa        1.553000      9.969000\n",
       "x0              0.000000      0.000000\n",
       "L               5.000000      5.000000\n",
       "force_code      2.000000      2.000000\n",
       "neighbor        1.000000      1.000000\n",
       "reflect         0.000000      0.000000\n",
       "set_second      0.000000      0.000000\n",
       "no_repulsion    0.000000      0.000000\n",
       "no_attraction   0.000000      0.000000\n",
       "dt              0.000010      0.000010\n",
       "Dt              0.000010      0.000010\n",
       "x1              0.002000      0.340000\n",
       "x2             10.000000    990.000000\n",
       "x3              0.062120      0.398760\n",
       "x4              0.003600      0.004560"
      ]
     },
     "execution_count": 348,
     "metadata": {},
     "output_type": "execute_result"
    }
   ],
   "source": [
    "Rsq_min=0.98\n",
    "#recall results\n",
    "\n",
    "# # #run 19 with 20 #Rsq min is 0.93 before filtering...\n",
    "# # powerlaw_fits_dir='/home/timothytyree/Documents/GitHub/bgmc/python/data/osg_output/powerlaw_fits_aggregated_neighbor_1_numobs_18715.csv'\n",
    "# powerlaw_fits_dir='/home/timothytyree/Documents/GitHub/bgmc/python/data/osg_output/powerlaw_fits_aggregated_neighbor_1_numobs_19965.csv'# \n",
    "\n",
    "# # run 19 with 20, 24, 25  #Rsq min is 0.89 before filtering...\n",
    "# powerlaw_fits_dir='/home/timothytyree/Documents/GitHub/bgmc/python/data/osg_output/powerlaw_fits_aggregated_neighbor_1_numobs_41844.csv'\n",
    "\n",
    "# #run 24, 25  #Rsq min is 0.89 before filtering...\n",
    "# powerlaw_fits_dir='/home/timothytyree/Documents/GitHub/bgmc/python/data/osg_output/powerlaw_fits_aggregated_neighbor_1_numobs_21879.csv'\n",
    "\n",
    "# powerlaw_fits_dir=f\"/home/timothytyree/Documents/GitHub/bgmc/python/data/osg_output/powerlaw_fits_aggregated_neighbor_{neighbor}.csv\"\n",
    "df_powerlaw_fits=pd.read_csv(powerlaw_fits_dir)\n",
    "#TODO: filter any bad fits\n",
    "print(f\"{df_powerlaw_fits['Rsq'].min()=}, {df_powerlaw_fits.shape}\")\n",
    "df_powerlaw_fits = df_powerlaw_fits[df_powerlaw_fits['Rsq']>=Rsq_min].\\\n",
    "    reset_index(drop=True).copy()\n",
    "print(f\"{df_powerlaw_fits['Rsq'].min()=}, {df_powerlaw_fits.shape}\")\n",
    "df_powerlaw_fits.describe().T[['min','max']]"
   ]
  },
  {
   "cell_type": "code",
   "execution_count": 350,
   "id": "faab29a2",
   "metadata": {
    "ExecuteTime": {
     "end_time": "2022-09-05T00:30:30.098457Z",
     "start_time": "2022-09-05T00:30:30.051043Z"
    }
   },
   "outputs": [
    {
     "ename": "ValueError",
     "evalue": "cannot insert level_0, already exists",
     "output_type": "error",
     "traceback": [
      "\u001b[0;31m---------------------------------------------------------------------------\u001b[0m",
      "\u001b[0;31mValueError\u001b[0m                                Traceback (most recent call last)",
      "Input \u001b[0;32mIn [350]\u001b[0m, in \u001b[0;36m<cell line: 2>\u001b[0;34m()\u001b[0m\n\u001b[1;32m      1\u001b[0m \u001b[38;5;66;03m#filter by D,a as positive\u001b[39;00m\n\u001b[0;32m----> 2\u001b[0m df_powerlaw_fits \u001b[38;5;241m=\u001b[39m \u001b[43mdf_powerlaw_fits\u001b[49m\u001b[43m[\u001b[49m\u001b[43mdf_powerlaw_fits\u001b[49m\u001b[43m[\u001b[49m\u001b[38;5;124;43m'\u001b[39;49m\u001b[38;5;124;43mRsq\u001b[39;49m\u001b[38;5;124;43m'\u001b[39;49m\u001b[43m]\u001b[49m\u001b[38;5;241;43m>\u001b[39;49m\u001b[38;5;241;43m=\u001b[39;49m\u001b[43mRsq_min\u001b[49m\u001b[43m]\u001b[49m\u001b[38;5;241;43m.\u001b[39;49m\u001b[43m\\\u001b[49m\n\u001b[1;32m      3\u001b[0m \u001b[43m    \u001b[49m\u001b[43mreset_index\u001b[49m\u001b[43m(\u001b[49m\u001b[43m)\u001b[49m\u001b[38;5;241m.\u001b[39mcopy()\n",
      "File \u001b[0;32m~/miniconda3/envs/pyenv_ub/lib/python3.9/site-packages/pandas/util/_decorators.py:311\u001b[0m, in \u001b[0;36mdeprecate_nonkeyword_arguments.<locals>.decorate.<locals>.wrapper\u001b[0;34m(*args, **kwargs)\u001b[0m\n\u001b[1;32m    305\u001b[0m \u001b[38;5;28;01mif\u001b[39;00m \u001b[38;5;28mlen\u001b[39m(args) \u001b[38;5;241m>\u001b[39m num_allow_args:\n\u001b[1;32m    306\u001b[0m     warnings\u001b[38;5;241m.\u001b[39mwarn(\n\u001b[1;32m    307\u001b[0m         msg\u001b[38;5;241m.\u001b[39mformat(arguments\u001b[38;5;241m=\u001b[39marguments),\n\u001b[1;32m    308\u001b[0m         \u001b[38;5;167;01mFutureWarning\u001b[39;00m,\n\u001b[1;32m    309\u001b[0m         stacklevel\u001b[38;5;241m=\u001b[39mstacklevel,\n\u001b[1;32m    310\u001b[0m     )\n\u001b[0;32m--> 311\u001b[0m \u001b[38;5;28;01mreturn\u001b[39;00m \u001b[43mfunc\u001b[49m\u001b[43m(\u001b[49m\u001b[38;5;241;43m*\u001b[39;49m\u001b[43margs\u001b[49m\u001b[43m,\u001b[49m\u001b[43m \u001b[49m\u001b[38;5;241;43m*\u001b[39;49m\u001b[38;5;241;43m*\u001b[39;49m\u001b[43mkwargs\u001b[49m\u001b[43m)\u001b[49m\n",
      "File \u001b[0;32m~/miniconda3/envs/pyenv_ub/lib/python3.9/site-packages/pandas/core/frame.py:5845\u001b[0m, in \u001b[0;36mDataFrame.reset_index\u001b[0;34m(self, level, drop, inplace, col_level, col_fill)\u001b[0m\n\u001b[1;32m   5839\u001b[0m         \u001b[38;5;28;01mif\u001b[39;00m lab \u001b[38;5;129;01mis\u001b[39;00m \u001b[38;5;129;01mnot\u001b[39;00m \u001b[38;5;28;01mNone\u001b[39;00m:\n\u001b[1;32m   5840\u001b[0m             \u001b[38;5;66;03m# if we have the codes, extract the values with a mask\u001b[39;00m\n\u001b[1;32m   5841\u001b[0m             level_values \u001b[38;5;241m=\u001b[39m algorithms\u001b[38;5;241m.\u001b[39mtake(\n\u001b[1;32m   5842\u001b[0m                 level_values, lab, allow_fill\u001b[38;5;241m=\u001b[39m\u001b[38;5;28;01mTrue\u001b[39;00m, fill_value\u001b[38;5;241m=\u001b[39mlev\u001b[38;5;241m.\u001b[39m_na_value\n\u001b[1;32m   5843\u001b[0m             )\n\u001b[0;32m-> 5845\u001b[0m         \u001b[43mnew_obj\u001b[49m\u001b[38;5;241;43m.\u001b[39;49m\u001b[43minsert\u001b[49m\u001b[43m(\u001b[49m\u001b[38;5;241;43m0\u001b[39;49m\u001b[43m,\u001b[49m\u001b[43m \u001b[49m\u001b[43mname\u001b[49m\u001b[43m,\u001b[49m\u001b[43m \u001b[49m\u001b[43mlevel_values\u001b[49m\u001b[43m)\u001b[49m\n\u001b[1;32m   5847\u001b[0m new_obj\u001b[38;5;241m.\u001b[39mindex \u001b[38;5;241m=\u001b[39m new_index\n\u001b[1;32m   5848\u001b[0m \u001b[38;5;28;01mif\u001b[39;00m \u001b[38;5;129;01mnot\u001b[39;00m inplace:\n",
      "File \u001b[0;32m~/miniconda3/envs/pyenv_ub/lib/python3.9/site-packages/pandas/core/frame.py:4440\u001b[0m, in \u001b[0;36mDataFrame.insert\u001b[0;34m(self, loc, column, value, allow_duplicates)\u001b[0m\n\u001b[1;32m   4434\u001b[0m     \u001b[38;5;28;01mraise\u001b[39;00m \u001b[38;5;167;01mValueError\u001b[39;00m(\n\u001b[1;32m   4435\u001b[0m         \u001b[38;5;124m\"\u001b[39m\u001b[38;5;124mCannot specify \u001b[39m\u001b[38;5;124m'\u001b[39m\u001b[38;5;124mallow_duplicates=True\u001b[39m\u001b[38;5;124m'\u001b[39m\u001b[38;5;124m when \u001b[39m\u001b[38;5;124m\"\u001b[39m\n\u001b[1;32m   4436\u001b[0m         \u001b[38;5;124m\"\u001b[39m\u001b[38;5;124m'\u001b[39m\u001b[38;5;124mself.flags.allows_duplicate_labels\u001b[39m\u001b[38;5;124m'\u001b[39m\u001b[38;5;124m is False.\u001b[39m\u001b[38;5;124m\"\u001b[39m\n\u001b[1;32m   4437\u001b[0m     )\n\u001b[1;32m   4438\u001b[0m \u001b[38;5;28;01mif\u001b[39;00m \u001b[38;5;129;01mnot\u001b[39;00m allow_duplicates \u001b[38;5;129;01mand\u001b[39;00m column \u001b[38;5;129;01min\u001b[39;00m \u001b[38;5;28mself\u001b[39m\u001b[38;5;241m.\u001b[39mcolumns:\n\u001b[1;32m   4439\u001b[0m     \u001b[38;5;66;03m# Should this be a different kind of error??\u001b[39;00m\n\u001b[0;32m-> 4440\u001b[0m     \u001b[38;5;28;01mraise\u001b[39;00m \u001b[38;5;167;01mValueError\u001b[39;00m(\u001b[38;5;124mf\u001b[39m\u001b[38;5;124m\"\u001b[39m\u001b[38;5;124mcannot insert \u001b[39m\u001b[38;5;132;01m{\u001b[39;00mcolumn\u001b[38;5;132;01m}\u001b[39;00m\u001b[38;5;124m, already exists\u001b[39m\u001b[38;5;124m\"\u001b[39m)\n\u001b[1;32m   4441\u001b[0m \u001b[38;5;28;01mif\u001b[39;00m \u001b[38;5;129;01mnot\u001b[39;00m \u001b[38;5;28misinstance\u001b[39m(loc, \u001b[38;5;28mint\u001b[39m):\n\u001b[1;32m   4442\u001b[0m     \u001b[38;5;28;01mraise\u001b[39;00m \u001b[38;5;167;01mTypeError\u001b[39;00m(\u001b[38;5;124m\"\u001b[39m\u001b[38;5;124mloc must be int\u001b[39m\u001b[38;5;124m\"\u001b[39m)\n",
      "\u001b[0;31mValueError\u001b[0m: cannot insert level_0, already exists"
     ]
    }
   ],
   "source": [
    "#filter by D,a as positive\n",
    "df_powerlaw_fits = df_powerlaw_fits[df_powerlaw_fits['Rsq']>=Rsq_min].\\\n",
    "    reset_index().copy()#19 with 20, 19 with 20, "
   ]
  },
  {
   "cell_type": "code",
   "execution_count": null,
   "id": "f09999c4",
   "metadata": {
    "ExecuteTime": {
     "end_time": "2022-09-05T00:26:34.514282Z",
     "start_time": "2022-09-05T00:26:34.444485Z"
    }
   },
   "outputs": [],
   "source": []
  },
  {
   "cell_type": "code",
   "execution_count": null,
   "id": "a0409f26",
   "metadata": {},
   "outputs": [],
   "source": []
  },
  {
   "cell_type": "code",
   "execution_count": 169,
   "id": "be7ff4ca",
   "metadata": {
    "ExecuteTime": {
     "end_time": "2022-08-24T21:31:25.568218Z",
     "start_time": "2022-08-24T21:30:53.206357Z"
    }
   },
   "outputs": [
    {
     "name": "stdout",
     "output_type": "stream",
     "text": [
      "number of training examples is 18715.\n",
      "estimated runtime is ~8 minutes...\n",
      "training complete!\n",
      "shape of X (100, 4) --> shape of y=yhat (100, 2)\n",
      "the rmse of simple interpolation is 0.0000\n"
     ]
    }
   ],
   "source": [
    "#####################\n",
    "# compute interp map\n",
    "#####################\n",
    "dg = df_powerlaw_fits.copy()\n",
    "rescale=True#False\n",
    "testing=True\n",
    "#define parameters to be varied\n",
    "# input_cols=['r','D','varkappa']#\n",
    "# input_cols=['r','kappa','varkappa','D']#\n",
    "input_cols=['x1','x2','x3','x4']#\n",
    "# output_cols=['m','Delta_m','M','Delta_M']#2 minute runtime\n",
    "output_cols=['m','M']#2.75 minute runtime paradoxically...\n",
    "#inputs:dg,input_cols,output_col\n",
    "#output: fitted model\n",
    "\n",
    "Xall=dg[input_cols].values \n",
    "yall=dg[output_cols].values\n",
    "\n",
    "X=Xall.copy()\n",
    "y=yall.copy()\n",
    "m = len(y) # number of training examples\n",
    "print(f'number of training examples is {m:d}.')\n",
    "# print(f\"estimated runtime is ~{20+120*int(testing)} seconds...\")\n",
    "print(f\"estimated runtime is ~{4*len(input_fn_lst)} minutes...\")\n",
    "interp = LinearNDInterpolator(X, y, rescale=rescale)\n",
    "print(f\"training complete!\")\n",
    "if testing:\n",
    "    num_test=100\n",
    "    yhat = interp(X[:num_test])\n",
    "    print(f\"shape of X {X[:num_test].shape} --> shape of y=yhat {yhat.shape}\")\n",
    "    rmse=np.sqrt(np.mean((yhat-y[:num_test])**2))\n",
    "    print(f\"the rmse of simple interpolation is {rmse:.4f}\")"
   ]
  },
  {
   "cell_type": "code",
   "execution_count": 170,
   "id": "49df3cf4",
   "metadata": {
    "ExecuteTime": {
     "end_time": "2022-08-24T21:31:27.663891Z",
     "start_time": "2022-08-24T21:31:27.638093Z"
    }
   },
   "outputs": [
    {
     "data": {
      "text/plain": [
       "array([ 2.67847876, 25.93927313])"
      ]
     },
     "execution_count": 170,
     "metadata": {},
     "output_type": "execute_result"
    }
   ],
   "source": [
    "x1=0.03\n",
    "x2=200. #Hz \n",
    "x3=0.01 #Hz \n",
    "x4=0.01 #Hz \n",
    "x=(x1,x2,x3,x4)\n",
    "yhat=interp(x)\n",
    "yhat\n",
    "# array([ 2.67847876, 25.93927313])"
   ]
  },
  {
   "cell_type": "code",
   "execution_count": null,
   "id": "963b3ed7",
   "metadata": {
    "ExecuteTime": {
     "end_time": "2022-08-19T20:51:27.122416Z",
     "start_time": "2022-08-19T20:51:27.103481Z"
    }
   },
   "outputs": [],
   "source": []
  },
  {
   "cell_type": "markdown",
   "id": "227e8dbe",
   "metadata": {},
   "source": [
    "# TODO: visualize isosurfaces in the scale-invariant dual basis of the linear particle model.\n",
    "- with M given, fixed\n",
    "- with nu given, fixed"
   ]
  },
  {
   "cell_type": "code",
   "execution_count": 171,
   "id": "82977ef4",
   "metadata": {
    "ExecuteTime": {
     "end_time": "2022-08-24T21:31:29.581720Z",
     "start_time": "2022-08-24T21:31:29.562815Z"
    }
   },
   "outputs": [],
   "source": []
  },
  {
   "cell_type": "code",
   "execution_count": 172,
   "id": "a32cd6d4",
   "metadata": {
    "ExecuteTime": {
     "end_time": "2022-08-24T21:31:31.449611Z",
     "start_time": "2022-08-24T21:31:31.430950Z"
    }
   },
   "outputs": [],
   "source": [
    "# M=wjr['fk_pbc']['M']\n",
    "# m=wjr['fk_pbc']['m']\n",
    "# # M=wjr['lr_pbc']['M']\n",
    "# # m=wjr['lr_pbc']['m']"
   ]
  },
  {
   "cell_type": "code",
   "execution_count": 355,
   "id": "ff13fe82",
   "metadata": {
    "ExecuteTime": {
     "end_time": "2022-09-05T02:06:31.032976Z",
     "start_time": "2022-09-05T02:06:31.006137Z"
    }
   },
   "outputs": [
    {
     "name": "stdout",
     "output_type": "stream",
     "text": [
      "bounding box:\n",
      "x1lim=[0.002, 0.3399999999999999]\t(r/L)\n",
      "x2lim=[10, 990]\t(kappa?)\n",
      "x3lim=[0.0621199999999999, 0.39876]\t(alinear/L^2)\n",
      "x4lim=[0.0036, 0.00456]\t(D/L^2)\n"
     ]
    }
   ],
   "source": [
    "#extract coordinates for area bounds\n",
    "x1_values=df_powerlaw_fits['x1'].values # ~ r\n",
    "x2_values=df_powerlaw_fits['x2'].values # ~ kappa\n",
    "x3_values=df_powerlaw_fits['x3'].values # ~ alinear\n",
    "x4_values=df_powerlaw_fits['x4'].values # ~ D\n",
    "\n",
    "#define bounds of surface plot for magnitude equal to M\n",
    "x1lim=[np.min(x1_values),np.max(x1_values)]\n",
    "x2lim=[np.min(x2_values),np.max(x2_values)]\n",
    "x3lim=[np.min(x3_values),np.max(x3_values)]\n",
    "x4lim=[np.min(x4_values),np.max(x4_values)]\n",
    "pmin = np.array([x1lim[0], x2lim[0], x3lim[0]])\n",
    "pmax = np.array([x1lim[1], x2lim[1], x3lim[1]])\n",
    "\n",
    "print (f\"bounding box:\")\n",
    "print (f\"{x1lim=}\\t(r/L)\")\n",
    "print (f\"{x2lim=}\\t(kappa?)\")\n",
    "print (f\"{x3lim=}\\t(alinear/L^2)\")\n",
    "print (f\"{x4lim=}\\t(D/L^2)\")"
   ]
  },
  {
   "cell_type": "code",
   "execution_count": 357,
   "id": "aa3302e6",
   "metadata": {
    "ExecuteTime": {
     "end_time": "2022-09-05T02:06:59.360297Z",
     "start_time": "2022-09-05T02:06:59.336910Z"
    }
   },
   "outputs": [],
   "source": [
    "# #FK 200x200, diffCoeff=0.001\n",
    "# # src: TT\n",
    "# alinear=1.12\n",
    "# D=.365\n",
    "# # src: wjr\n",
    "# M=5.57# +/- (30)\n",
    "# nu=1.877# +/- (25)\n",
    "# L=5\n",
    "\n",
    "# #didn't work...\n",
    "# #LR 200x200, diffCoeff=0.0005\n",
    "# # src: TT\n",
    "# alinear=2.76 \n",
    "# D=0.58\n",
    "# # src: wjr\n",
    "# M=16.73# +/- (84)\n",
    "# nu=1.638# +/- (17)\n",
    "# L=5"
   ]
  },
  {
   "cell_type": "code",
   "execution_count": 356,
   "id": "0f99a43b",
   "metadata": {
    "ExecuteTime": {
     "end_time": "2022-09-05T02:06:58.569739Z",
     "start_time": "2022-09-05T02:06:58.547136Z"
    }
   },
   "outputs": [],
   "source": [
    "#TODO: fix interp_magnitude(x1,x2,x3,x4) to an observed value from the full model\n",
    "\n",
    "# #FK 200x200, diffCoeff=0.0005, src: WJ\n",
    "# alinear=1.553\n",
    "# D=0.114\n",
    "# M=2.7 # +/- (1.3)\n",
    "# nu=0.84 # +/- (17)\n",
    "# L=5\n",
    "\n",
    "#LR 200x200, diffCoeff=0.001, src: WJ\n",
    "alinear=9.969\n",
    "D=0.09\n",
    "M=12.6 # +/- (3.8)\n",
    "nu=1.20 # +/- (8)\n",
    "L=5"
   ]
  },
  {
   "cell_type": "code",
   "execution_count": 358,
   "id": "5589bf68",
   "metadata": {
    "ExecuteTime": {
     "end_time": "2022-09-05T02:07:06.677584Z",
     "start_time": "2022-09-05T02:07:06.657153Z"
    }
   },
   "outputs": [],
   "source": [
    "x4 = D/L/L\n",
    "interp_magnitude_defect = get_interp_magnitude_defect(interp,x4,M)\n",
    "interp_exponent_defect = get_interp_exponent_defect(interp,x4,nu)"
   ]
  },
  {
   "cell_type": "markdown",
   "id": "f8daa0b5",
   "metadata": {
    "heading_collapsed": true
   },
   "source": [
    "## scatter plot the volume cube for either defect interpolating function"
   ]
  },
  {
   "cell_type": "code",
   "execution_count": 359,
   "id": "5126f947",
   "metadata": {
    "ExecuteTime": {
     "end_time": "2022-09-05T02:07:07.831437Z",
     "start_time": "2022-09-05T02:07:07.807211Z"
    },
    "hidden": true
   },
   "outputs": [
    {
     "name": "stdout",
     "output_type": "stream",
     "text": [
      "bounding box:\n",
      "x1lim=[0.002, 0.3399999999999999]\t(r/L)\n",
      "x2lim=[10, 990]\t(kappa?)\n",
      "x3lim=[0.0621199999999999, 0.39876]\t(alinear/L^2)\n",
      "x4lim=[0.0036, 0.00456]\t(D/L^2)\n"
     ]
    }
   ],
   "source": [
    "#define bounds of surface plot for magnitude equal to M\n",
    "# x1lim,x2lim,x3lim\n",
    "#heretimheretim\n",
    "print (f\"bounding box:\")\n",
    "print (f\"{x1lim=}\\t(r/L)\")\n",
    "print (f\"{x2lim=}\\t(kappa?)\")\n",
    "print (f\"{x3lim=}\\t(alinear/L^2)\")\n",
    "print (f\"{x4lim=}\\t(D/L^2)\")"
   ]
  },
  {
   "cell_type": "code",
   "execution_count": 308,
   "id": "4b8bd45f",
   "metadata": {
    "ExecuteTime": {
     "end_time": "2022-09-05T00:10:46.473974Z",
     "start_time": "2022-09-05T00:10:46.239617Z"
    },
    "hidden": true
   },
   "outputs": [],
   "source": [
    "#generate scatterplot data for volume cube\n",
    "grid_lcount=100\n",
    "x1=np.linspace(x1lim[0],x1lim[1],grid_lcount)\n",
    "x2=np.linspace(x2lim[0],x2lim[1],grid_lcount)\n",
    "x3=np.linspace(x3lim[0],x3lim[1],grid_lcount)\n",
    "# arg_arr=np.stack((x1,x2,x3)).T\n",
    "# arg_arr.shape\n",
    "xi=[x1,x2,x3]\n",
    "u1,u2,u3=np.meshgrid(*xi)\n",
    "u1=u1.flatten()\n",
    "u2=u2.flatten()\n",
    "u3=u3.flatten()\n",
    "dM_lst=[]\n",
    "dnu_lst=[]\n",
    "# for uu1,uu2,uu3 in zip(u1,u2,u3):\n",
    "# for args in zip(u1,u2,u3):\n",
    "for args in reversed(list(zip(u1,u2,u3))):\n",
    "    pass"
   ]
  },
  {
   "cell_type": "code",
   "execution_count": 360,
   "id": "fb8d5386",
   "metadata": {
    "ExecuteTime": {
     "end_time": "2022-09-05T02:07:24.880280Z",
     "start_time": "2022-09-05T02:07:24.860629Z"
    },
    "hidden": true
   },
   "outputs": [],
   "source": [
    "# args"
   ]
  },
  {
   "cell_type": "code",
   "execution_count": 310,
   "id": "ff06df67",
   "metadata": {
    "ExecuteTime": {
     "end_time": "2022-09-05T00:11:13.649917Z",
     "start_time": "2022-09-05T00:11:13.626216Z"
    },
    "hidden": true
   },
   "outputs": [
    {
     "ename": "TypeError",
     "evalue": "interp_magnitude_defect() takes 1 positional argument but 3 were given",
     "output_type": "error",
     "traceback": [
      "\u001b[0;31m---------------------------------------------------------------------------\u001b[0m",
      "\u001b[0;31mTypeError\u001b[0m                                 Traceback (most recent call last)",
      "Input \u001b[0;32mIn [310]\u001b[0m, in \u001b[0;36m<cell line: 1>\u001b[0;34m()\u001b[0m\n\u001b[0;32m----> 1\u001b[0m \u001b[43minterp_magnitude_defect\u001b[49m\u001b[43m(\u001b[49m\u001b[38;5;241;43m*\u001b[39;49m\u001b[43margs\u001b[49m\u001b[43m)\u001b[49m\n",
      "\u001b[0;31mTypeError\u001b[0m: interp_magnitude_defect() takes 1 positional argument but 3 were given"
     ]
    }
   ],
   "source": [
    "# interp_magnitude_defect(args)"
   ]
  },
  {
   "cell_type": "code",
   "execution_count": 361,
   "id": "a78f2bfa",
   "metadata": {
    "ExecuteTime": {
     "end_time": "2022-09-05T02:07:30.445980Z",
     "start_time": "2022-09-05T02:07:30.412346Z"
    },
    "hidden": true
   },
   "outputs": [
    {
     "data": {
      "text/plain": [
       "(100, 4)"
      ]
     },
     "execution_count": 361,
     "metadata": {},
     "output_type": "execute_result"
    }
   ],
   "source": [
    "grid_lcount=100\n",
    "x1=np.linspace(x1lim[0],x1lim[1],grid_lcount)\n",
    "x2=np.linspace(x2lim[0],x2lim[1],grid_lcount)\n",
    "x3=np.linspace(x3lim[0],x3lim[1],grid_lcount)\n",
    "x4=np.linspace(x4lim[0],x4lim[1],grid_lcount)\n",
    "arg_arr=np.stack((x1,x2,x3,x4)).T\n",
    "arg_arr.shape"
   ]
  },
  {
   "cell_type": "code",
   "execution_count": 362,
   "id": "9f6ba1f0",
   "metadata": {
    "ExecuteTime": {
     "end_time": "2022-09-05T02:07:32.040047Z",
     "start_time": "2022-09-05T02:07:31.591493Z"
    },
    "hidden": true
   },
   "outputs": [
    {
     "data": {
      "text/plain": [
       "(100, 100, 100, 100)"
      ]
     },
     "execution_count": 362,
     "metadata": {},
     "output_type": "execute_result"
    }
   ],
   "source": [
    "xi=[x1,x2,x3,x4]\n",
    "arg_arr=np.meshgrid(*xi)\n",
    "arg_arr[0].shape"
   ]
  },
  {
   "cell_type": "code",
   "execution_count": 363,
   "id": "1aa8853d",
   "metadata": {
    "ExecuteTime": {
     "end_time": "2022-09-05T02:07:35.143453Z",
     "start_time": "2022-09-05T02:07:35.122740Z"
    },
    "hidden": true
   },
   "outputs": [],
   "source": [
    "#heretim\n",
    "# Make a mesh in the space of parameterisation variables u and v\n",
    "u = np.linspace(0, 2.0 * np.pi, endpoint=True, num=50)\n",
    "v = np.linspace(-0.5, 0.5, endpoint=True, num=10)\n",
    "u, v = np.meshgrid(u, v)\n",
    "u, v = u.flatten(), v.flatten()"
   ]
  },
  {
   "cell_type": "code",
   "execution_count": 364,
   "id": "3e4ae60f",
   "metadata": {
    "ExecuteTime": {
     "end_time": "2022-09-05T02:07:36.486092Z",
     "start_time": "2022-09-05T02:07:36.363079Z"
    },
    "hidden": true
   },
   "outputs": [
    {
     "ename": "NameError",
     "evalue": "name 'func' is not defined",
     "output_type": "error",
     "traceback": [
      "\u001b[0;31m---------------------------------------------------------------------------\u001b[0m",
      "\u001b[0;31mNameError\u001b[0m                                 Traceback (most recent call last)",
      "Input \u001b[0;32mIn [364]\u001b[0m, in \u001b[0;36m<cell line: 3>\u001b[0;34m()\u001b[0m\n\u001b[1;32m      1\u001b[0m \u001b[38;5;28;01mimport\u001b[39;00m \u001b[38;5;21;01mmatplotlib\u001b[39;00m\u001b[38;5;21;01m.\u001b[39;00m\u001b[38;5;21;01mpyplot\u001b[39;00m \u001b[38;5;28;01mas\u001b[39;00m \u001b[38;5;21;01mplt\u001b[39;00m\n\u001b[1;32m      2\u001b[0m plt\u001b[38;5;241m.\u001b[39msubplot(\u001b[38;5;241m221\u001b[39m)\n\u001b[0;32m----> 3\u001b[0m plt\u001b[38;5;241m.\u001b[39mimshow(\u001b[43mfunc\u001b[49m(grid_x, grid_y)\u001b[38;5;241m.\u001b[39mT, extent\u001b[38;5;241m=\u001b[39m(\u001b[38;5;241m0\u001b[39m,\u001b[38;5;241m1\u001b[39m,\u001b[38;5;241m0\u001b[39m,\u001b[38;5;241m1\u001b[39m), origin\u001b[38;5;241m=\u001b[39m\u001b[38;5;124m'\u001b[39m\u001b[38;5;124mlower\u001b[39m\u001b[38;5;124m'\u001b[39m)\n\u001b[1;32m      4\u001b[0m plt\u001b[38;5;241m.\u001b[39mplot(points[:,\u001b[38;5;241m0\u001b[39m], points[:,\u001b[38;5;241m1\u001b[39m], \u001b[38;5;124m'\u001b[39m\u001b[38;5;124mk.\u001b[39m\u001b[38;5;124m'\u001b[39m, ms\u001b[38;5;241m=\u001b[39m\u001b[38;5;241m1\u001b[39m)\n\u001b[1;32m      5\u001b[0m plt\u001b[38;5;241m.\u001b[39mtitle(\u001b[38;5;124m'\u001b[39m\u001b[38;5;124mOriginal\u001b[39m\u001b[38;5;124m'\u001b[39m)\n",
      "\u001b[0;31mNameError\u001b[0m: name 'func' is not defined"
     ]
    },
    {
     "data": {
      "image/png": "[encoded data removed]",
      "text/plain": [
       "<Figure size 640x480 with 1 Axes>"
      ]
     },
     "metadata": {},
     "output_type": "display_data"
    }
   ],
   "source": [
    "import matplotlib.pyplot as plt\n",
    "plt.subplot(221)\n",
    "plt.imshow(func(grid_x, grid_y).T, extent=(0,1,0,1), origin='lower')\n",
    "plt.plot(points[:,0], points[:,1], 'k.', ms=1)\n",
    "plt.title('Original')\n",
    "plt.subplot(222)\n",
    "plt.imshow(grid_z0.T, extent=(0,1,0,1), origin='lower')\n",
    "plt.title('Nearest')\n",
    "plt.subplot(223)\n",
    "plt.imshow(grid_z1.T, extent=(0,1,0,1), origin='lower')\n",
    "plt.title('Linear')\n",
    "plt.subplot(224)\n",
    "plt.imshow(grid_z2.T, extent=(0,1,0,1), origin='lower')\n",
    "plt.title('Cubic')\n",
    "plt.gcf().set_size_inches(6, 6)\n",
    "plt.show()"
   ]
  },
  {
   "cell_type": "code",
   "execution_count": 294,
   "id": "f865e881",
   "metadata": {
    "ExecuteTime": {
     "end_time": "2022-09-04T23:57:57.177832Z",
     "start_time": "2022-09-04T23:57:55.661659Z"
    },
    "hidden": true
   },
   "outputs": [
    {
     "data": {
      "text/plain": [
       "array([[         nan,          nan],\n",
       "       [         nan,          nan],\n",
       "       [  1.4663136 ,   2.87006823],\n",
       "       [  1.4259234 ,   3.67235445],\n",
       "       [  1.40542397,   4.40826822],\n",
       "       [  1.40627013,   5.47848302],\n",
       "       [  1.40055567,   6.17058709],\n",
       "       [  1.40325828,   7.17738743],\n",
       "       [  1.4019584 ,   7.99394017],\n",
       "       [  1.417942  ,   8.91281332],\n",
       "       [  1.47666109,   9.62811329],\n",
       "       [  1.52105038,  10.51781427],\n",
       "       [  1.54250465,  11.28352349],\n",
       "       [  1.58927223,  12.02750409],\n",
       "       [  1.68854962,  12.63363914],\n",
       "       [  1.75678222,  13.24476905],\n",
       "       [  1.72014677,  14.5032562 ],\n",
       "       [  1.76811684,  15.30810589],\n",
       "       [  1.77458654,  16.82452014],\n",
       "       [  1.80637061,  17.58131701],\n",
       "       [  1.80668495,  19.00243445],\n",
       "       [  1.81436526,  20.25541103],\n",
       "       [  1.85304399,  21.36463757],\n",
       "       [  1.84454823,  23.1868277 ],\n",
       "       [  1.8845425 ,  24.58594791],\n",
       "       [  1.85815454,  25.28035535],\n",
       "       [  1.89155801,  26.77957759],\n",
       "       [  1.90441751,  29.71509595],\n",
       "       [  1.885602  ,  30.88596404],\n",
       "       [  1.91958629,  32.48661814],\n",
       "       [  1.95804567,  34.06156994],\n",
       "       [  1.95974662,  36.90823299],\n",
       "       [  1.94221024,  39.34206172],\n",
       "       [  1.95233524,  41.55783047],\n",
       "       [  1.98378356,  44.20510265],\n",
       "       [  2.01314337,  46.46386614],\n",
       "       [  2.00146538,  50.64272668],\n",
       "       [  1.98929298,  53.25775016],\n",
       "       [  2.01476729,  56.25208575],\n",
       "       [  2.0402416 ,  59.24642133],\n",
       "       [  2.04672769,  61.46016292],\n",
       "       [  2.03714045,  66.51764605],\n",
       "       [  2.04761498,  65.78647727],\n",
       "       [  2.07134401,  69.1095722 ],\n",
       "       [  2.08843492,  73.76193873],\n",
       "       [  2.0788419 ,  76.63461356],\n",
       "       [  2.0730537 ,  80.86823144],\n",
       "       [  2.10318881,  87.74635834],\n",
       "       [  2.12572743,  92.20274254],\n",
       "       [  2.12033695,  94.89089708],\n",
       "       [  2.12997089,  96.26139991],\n",
       "       [  2.14906072, 101.35511017],\n",
       "       [         nan,          nan],\n",
       "       [         nan,          nan],\n",
       "       [         nan,          nan],\n",
       "       [         nan,          nan],\n",
       "       [         nan,          nan],\n",
       "       [         nan,          nan],\n",
       "       [         nan,          nan],\n",
       "       [         nan,          nan],\n",
       "       [         nan,          nan],\n",
       "       [         nan,          nan],\n",
       "       [         nan,          nan],\n",
       "       [         nan,          nan],\n",
       "       [         nan,          nan],\n",
       "       [         nan,          nan],\n",
       "       [         nan,          nan],\n",
       "       [         nan,          nan],\n",
       "       [         nan,          nan],\n",
       "       [         nan,          nan],\n",
       "       [         nan,          nan],\n",
       "       [         nan,          nan],\n",
       "       [         nan,          nan],\n",
       "       [         nan,          nan],\n",
       "       [         nan,          nan],\n",
       "       [         nan,          nan],\n",
       "       [         nan,          nan],\n",
       "       [         nan,          nan],\n",
       "       [         nan,          nan],\n",
       "       [         nan,          nan],\n",
       "       [         nan,          nan],\n",
       "       [         nan,          nan],\n",
       "       [         nan,          nan],\n",
       "       [         nan,          nan],\n",
       "       [         nan,          nan],\n",
       "       [         nan,          nan],\n",
       "       [         nan,          nan],\n",
       "       [         nan,          nan],\n",
       "       [         nan,          nan],\n",
       "       [         nan,          nan],\n",
       "       [         nan,          nan],\n",
       "       [         nan,          nan],\n",
       "       [         nan,          nan],\n",
       "       [         nan,          nan],\n",
       "       [         nan,          nan],\n",
       "       [         nan,          nan],\n",
       "       [         nan,          nan],\n",
       "       [         nan,          nan],\n",
       "       [         nan,          nan],\n",
       "       [         nan,          nan]])"
      ]
     },
     "execution_count": 294,
     "metadata": {},
     "output_type": "execute_result"
    }
   ],
   "source": [
    "interp(arg_arr)"
   ]
  },
  {
   "cell_type": "code",
   "execution_count": 292,
   "id": "674916b9",
   "metadata": {
    "ExecuteTime": {
     "end_time": "2022-09-04T23:56:55.025008Z",
     "start_time": "2022-09-04T23:56:55.001138Z"
    },
    "hidden": true
   },
   "outputs": [
    {
     "ename": "ValueError",
     "evalue": "number of dimensions in xi does not match x",
     "output_type": "error",
     "traceback": [
      "\u001b[0;31m---------------------------------------------------------------------------\u001b[0m",
      "\u001b[0;31mValueError\u001b[0m                                Traceback (most recent call last)",
      "Input \u001b[0;32mIn [292]\u001b[0m, in \u001b[0;36m<cell line: 1>\u001b[0;34m()\u001b[0m\n\u001b[0;32m----> 1\u001b[0m \u001b[43minterp\u001b[49m\u001b[43m(\u001b[49m\u001b[43marg_arr\u001b[49m\u001b[38;5;241;43m.\u001b[39;49m\u001b[43mT\u001b[49m\u001b[43m)\u001b[49m\n",
      "File \u001b[0;32minterpnd.pyx:143\u001b[0m, in \u001b[0;36mscipy.interpolate.interpnd.NDInterpolatorBase.__call__\u001b[0;34m()\u001b[0m\n",
      "File \u001b[0;32minterpnd.pyx:119\u001b[0m, in \u001b[0;36mscipy.interpolate.interpnd.NDInterpolatorBase._check_call_shape\u001b[0;34m()\u001b[0m\n",
      "\u001b[0;31mValueError\u001b[0m: number of dimensions in xi does not match x"
     ]
    }
   ],
   "source": [
    "interp(arg_arr.T)"
   ]
  },
  {
   "cell_type": "code",
   "execution_count": null,
   "id": "407e44b1",
   "metadata": {
    "hidden": true
   },
   "outputs": [],
   "source": []
  },
  {
   "cell_type": "code",
   "execution_count": 290,
   "id": "2eb8c9c5",
   "metadata": {
    "ExecuteTime": {
     "end_time": "2022-09-04T23:56:40.753209Z",
     "start_time": "2022-09-04T23:56:40.709181Z"
    },
    "hidden": true
   },
   "outputs": [
    {
     "ename": "ValueError",
     "evalue": "too many values to unpack (expected 3)",
     "output_type": "error",
     "traceback": [
      "\u001b[0;31m---------------------------------------------------------------------------\u001b[0m",
      "\u001b[0;31mValueError\u001b[0m                                Traceback (most recent call last)",
      "Input \u001b[0;32mIn [290]\u001b[0m, in \u001b[0;36m<cell line: 1>\u001b[0;34m()\u001b[0m\n\u001b[0;32m----> 1\u001b[0m \u001b[43minterp_magnitude_defect\u001b[49m\u001b[43m(\u001b[49m\u001b[43marg_arr\u001b[49m\u001b[43m)\u001b[49m\n",
      "Input \u001b[0;32mIn [250]\u001b[0m, in \u001b[0;36mget_interp_magnitude_defect.<locals>.interp_magnitude_defect\u001b[0;34m(x)\u001b[0m\n\u001b[1;32m      7\u001b[0m \u001b[38;5;28;01mdef\u001b[39;00m \u001b[38;5;21minterp_magnitude_defect\u001b[39m(x):    \n\u001b[0;32m----> 8\u001b[0m     x1,x2,x3\u001b[38;5;241m=\u001b[39mx\n\u001b[1;32m      9\u001b[0m     xx\u001b[38;5;241m=\u001b[39m(x1,x2,x3,x4)\n\u001b[1;32m     10\u001b[0m     yhat\u001b[38;5;241m=\u001b[39minterp(xx)\n",
      "\u001b[0;31mValueError\u001b[0m: too many values to unpack (expected 3)"
     ]
    }
   ],
   "source": [
    "interp_magnitude_defect(arg_arr)"
   ]
  },
  {
   "cell_type": "code",
   "execution_count": null,
   "id": "79b1aa34",
   "metadata": {
    "hidden": true
   },
   "outputs": [],
   "source": [
    "#TODO: compute the color values\n",
    "# cvec=interp_magnitude_defect()\n",
    "interp_magnitude_defect()"
   ]
  },
  {
   "cell_type": "code",
   "execution_count": null,
   "id": "c3e2546c",
   "metadata": {
    "hidden": true
   },
   "outputs": [],
   "source": []
  },
  {
   "cell_type": "code",
   "execution_count": null,
   "id": "45f32e0a",
   "metadata": {
    "hidden": true
   },
   "outputs": [],
   "source": [
    "# def interp_magnitude_defect(x):    \n",
    "#         x1,x2,x3=x\n",
    "#         xx=(x1,x2,x3,x4)\n",
    "#         yhat=interp(xx)\n",
    "#         Mhat=yhat[0]\n",
    "#         #mhat=yhat[1]\n",
    "#         return Mhat-M"
   ]
  },
  {
   "cell_type": "code",
   "execution_count": null,
   "id": "1f549eb9",
   "metadata": {
    "hidden": true
   },
   "outputs": [],
   "source": [
    "#TODO: define and normalize a diverging color map with 0 centered at 0"
   ]
  },
  {
   "cell_type": "code",
   "execution_count": null,
   "id": "2439e171",
   "metadata": {
    "hidden": true
   },
   "outputs": [],
   "source": [
    "#TODO: scatter plot some discretization"
   ]
  },
  {
   "cell_type": "code",
   "execution_count": null,
   "id": "c7dbee7b",
   "metadata": {
    "hidden": true
   },
   "outputs": [],
   "source": []
  },
  {
   "cell_type": "code",
   "execution_count": null,
   "id": "b255eb5e",
   "metadata": {
    "hidden": true
   },
   "outputs": [],
   "source": []
  },
  {
   "cell_type": "code",
   "execution_count": null,
   "id": "79f6710b",
   "metadata": {
    "hidden": true
   },
   "outputs": [],
   "source": []
  },
  {
   "cell_type": "markdown",
   "id": "aaa22895",
   "metadata": {},
   "source": [
    "## plot the isolines"
   ]
  },
  {
   "cell_type": "code",
   "execution_count": 365,
   "id": "3ed7b4e9",
   "metadata": {
    "ExecuteTime": {
     "end_time": "2022-09-05T02:08:29.755178Z",
     "start_time": "2022-09-05T02:08:29.731141Z"
    }
   },
   "outputs": [
    {
     "name": "stdout",
     "output_type": "stream",
     "text": [
      "bounding box:\n",
      "x1lim=[0.002, 0.3399999999999999]\t(r/L)\n",
      "x2lim=[10, 990]\t(kappa?)\n",
      "x3lim=[0.0621199999999999, 0.39876]\t(alinear/L^2)\n",
      "x4lim=[0.0036, 0.00456]\t(D/L^2)\n"
     ]
    }
   ],
   "source": [
    "#define bounds of surface plot for magnitude equal to M\n",
    "# x1lim,x2lim,x3lim\n",
    "#heretimheretim\n",
    "print (f\"bounding box:\")\n",
    "print (f\"{x1lim=}\\t(r/L)\")\n",
    "print (f\"{x2lim=}\\t(kappa?)\")\n",
    "print (f\"{x3lim=}\\t(alinear/L^2)\")\n",
    "print (f\"{x4lim=}\\t(D/L^2)\")"
   ]
  },
  {
   "cell_type": "code",
   "execution_count": 366,
   "id": "5ff699a5",
   "metadata": {
    "ExecuteTime": {
     "end_time": "2022-09-05T02:09:35.128308Z",
     "start_time": "2022-09-05T02:08:43.149567Z"
    }
   },
   "outputs": [],
   "source": [
    "#estimate the magnitude isosurface from the linear interpolator\n",
    "min_depth=5\n",
    "min_depth=2\n",
    "max_cells=10000\n",
    "max_cells=64\n",
    "simplices, faces = plot_isosurface(interp_magnitude_defect, \n",
    "                            pmin=pmin, \n",
    "                            pmax=pmax,  \n",
    "                            min_depth=min_depth, \n",
    "                            max_cells=max_cells)"
   ]
  },
  {
   "cell_type": "code",
   "execution_count": 266,
   "id": "8e95a100",
   "metadata": {
    "ExecuteTime": {
     "end_time": "2022-08-25T00:51:08.975744Z",
     "start_time": "2022-08-25T00:51:08.951133Z"
    }
   },
   "outputs": [
    {
     "ename": "AssertionError",
     "evalue": "",
     "output_type": "error",
     "traceback": [
      "\u001b[0;31m---------------------------------------------------------------------------\u001b[0m",
      "\u001b[0;31mAssertionError\u001b[0m                            Traceback (most recent call last)",
      "Input \u001b[0;32mIn [266]\u001b[0m, in \u001b[0;36m<cell line: 2>\u001b[0;34m()\u001b[0m\n\u001b[1;32m      1\u001b[0m \u001b[38;5;66;03m#TODO: test that faces exist\u001b[39;00m\n\u001b[0;32m----> 2\u001b[0m \u001b[38;5;28;01massert\u001b[39;00m \u001b[38;5;129;01mnot\u001b[39;00m faces\u001b[38;5;241m==\u001b[39m\u001b[38;5;28mlist\u001b[39m()\n\u001b[1;32m      3\u001b[0m beep(\u001b[38;5;241m7\u001b[39m)\n",
      "\u001b[0;31mAssertionError\u001b[0m: "
     ]
    }
   ],
   "source": [
    "#TODO: test that faces exist\n",
    "assert not faces==list()\n",
    "beep(7)"
   ]
  },
  {
   "cell_type": "code",
   "execution_count": null,
   "id": "1f8913fa",
   "metadata": {},
   "outputs": [],
   "source": [
    "# Q: did ^that work?\n",
    "# heretim"
   ]
  },
  {
   "cell_type": "code",
   "execution_count": 224,
   "id": "e244a8bb",
   "metadata": {
    "ExecuteTime": {
     "end_time": "2022-08-24T22:33:44.899215Z",
     "start_time": "2022-08-24T22:33:44.874924Z"
    }
   },
   "outputs": [
    {
     "ename": "IndexError",
     "evalue": "list index out of range",
     "output_type": "error",
     "traceback": [
      "\u001b[0;31m---------------------------------------------------------------------------\u001b[0m",
      "\u001b[0;31mIndexError\u001b[0m                                Traceback (most recent call last)",
      "Input \u001b[0;32mIn [224]\u001b[0m, in \u001b[0;36m<cell line: 3>\u001b[0;34m()\u001b[0m\n\u001b[1;32m      1\u001b[0m num_faces\u001b[38;5;241m=\u001b[39m\u001b[38;5;28mlen\u001b[39m(faces)\n\u001b[1;32m      2\u001b[0m num_simplices\u001b[38;5;241m=\u001b[39m\u001b[38;5;28mlen\u001b[39m(simplices) \u001b[38;5;66;03m#not immediately useful\u001b[39;00m\n\u001b[0;32m----> 3\u001b[0m shp\u001b[38;5;241m=\u001b[39mnp\u001b[38;5;241m.\u001b[39marray(\u001b[43mfaces\u001b[49m\u001b[43m[\u001b[49m\u001b[38;5;241;43m0\u001b[39;49m\u001b[43m]\u001b[49m)\u001b[38;5;241m.\u001b[39mshape \u001b[38;5;66;03m#faces appear to be a triangle with 3 coordinate values for each vertex\u001b[39;00m\n\u001b[1;32m      4\u001b[0m \u001b[38;5;66;03m#test all faces are same dimensionality (triangles in 3 dimensions)\u001b[39;00m\n\u001b[1;32m      5\u001b[0m \u001b[38;5;28;01mfor\u001b[39;00m face \u001b[38;5;129;01min\u001b[39;00m faces:\n",
      "\u001b[0;31mIndexError\u001b[0m: list index out of range"
     ]
    }
   ],
   "source": [
    "num_faces=len(faces)\n",
    "num_simplices=len(simplices) #not immediately useful\n",
    "shp=np.array(faces[0]).shape #faces appear to be a triangle with 3 coordinate values for each vertex\n",
    "#test all faces are same dimensionality (triangles in 3 dimensions)\n",
    "for face in faces:\n",
    "    assert shp==shp\n",
    "print(f\"tested all faces are of shape, {shp}.\")\n",
    "print(f\"{num_faces=}\")"
   ]
  },
  {
   "cell_type": "code",
   "execution_count": null,
   "id": "7976805f",
   "metadata": {
    "ExecuteTime": {
     "end_time": "2022-08-24T22:33:44.910052Z",
     "start_time": "2022-08-24T22:33:44.910042Z"
    }
   },
   "outputs": [],
   "source": [
    "#collapse all faces into a set of xyz triples\n",
    "vert_lst=[]\n",
    "for face in faces:\n",
    "    for vert in face:\n",
    "        vert_lst.append(vert)\n",
    "# vert_set=set(sorted(vert_lst) #fast but destructive and unecessary\n",
    "vert_set=set(vert_lst)\n",
    "#format ibid as numpy.array instance\n",
    "vertices = np.array(list(vert_set))\n",
    "vertices.shape"
   ]
  },
  {
   "cell_type": "code",
   "execution_count": null,
   "id": "29164de7",
   "metadata": {
    "run_control": {
     "marked": true
    }
   },
   "outputs": [],
   "source": [
    "#TODO: compute vertex index array with one triangular face per row\n",
    "#TODO(bonus): generate a numpy.array instance of ints indexing the faces\n",
    "#indexing int maps to vertex in vertices\n"
   ]
  },
  {
   "cell_type": "code",
   "execution_count": null,
   "id": "fc0602e3",
   "metadata": {},
   "outputs": [],
   "source": [
    "#TODO: plot surface in 3D"
   ]
  },
  {
   "cell_type": "code",
   "execution_count": 197,
   "id": "a1c5ad8a",
   "metadata": {
    "ExecuteTime": {
     "end_time": "2022-08-24T22:16:07.268775Z",
     "start_time": "2022-08-24T22:16:06.828016Z"
    }
   },
   "outputs": [
    {
     "ename": "ValueError",
     "evalue": "x and y must be equal-length 1D arrays",
     "output_type": "error",
     "traceback": [
      "\u001b[0;31m---------------------------------------------------------------------------\u001b[0m",
      "\u001b[0;31mValueError\u001b[0m                                Traceback (most recent call last)",
      "Input \u001b[0;32mIn [197]\u001b[0m, in \u001b[0;36m<cell line: 3>\u001b[0;34m()\u001b[0m\n\u001b[1;32m      1\u001b[0m \u001b[38;5;66;03m#TODO: plot magnitude defect\u001b[39;00m\n\u001b[1;32m      2\u001b[0m fig \u001b[38;5;241m=\u001b[39m plt\u001b[38;5;241m.\u001b[39mfigure(figsize\u001b[38;5;241m=\u001b[39mplt\u001b[38;5;241m.\u001b[39mfigaspect(\u001b[38;5;241m0.5\u001b[39m))\n\u001b[0;32m----> 3\u001b[0m \u001b[43max\u001b[49m\u001b[38;5;241;43m.\u001b[39;49m\u001b[43mplot_trisurf\u001b[49m\u001b[43m(\u001b[49m\u001b[43mx\u001b[49m\u001b[43m,\u001b[49m\u001b[43m \u001b[49m\u001b[43my\u001b[49m\u001b[43m,\u001b[49m\u001b[43m \u001b[49m\u001b[43mz\u001b[49m\u001b[43m,\u001b[49m\u001b[43m \u001b[49m\u001b[43mtriangles\u001b[49m\u001b[38;5;241;43m=\u001b[39;49m\u001b[43mtri\u001b[49m\u001b[38;5;241;43m.\u001b[39;49m\u001b[43mtriangles\u001b[49m\u001b[43m,\u001b[49m\u001b[43m \u001b[49m\u001b[43mcmap\u001b[49m\u001b[38;5;241;43m=\u001b[39;49m\u001b[43mplt\u001b[49m\u001b[38;5;241;43m.\u001b[39;49m\u001b[43mcm\u001b[49m\u001b[38;5;241;43m.\u001b[39;49m\u001b[43mSpectral\u001b[49m\u001b[43m)\u001b[49m\n\u001b[1;32m      4\u001b[0m \u001b[38;5;66;03m#TODO: format_plot\u001b[39;00m\n\u001b[1;32m      5\u001b[0m plt\u001b[38;5;241m.\u001b[39mshow()\n",
      "File \u001b[0;32m~/miniconda3/envs/pyenv_ub/lib/python3.9/site-packages/mpl_toolkits/mplot3d/axes3d.py:1976\u001b[0m, in \u001b[0;36mAxes3D.plot_trisurf\u001b[0;34m(self, color, norm, vmin, vmax, lightsource, *args, **kwargs)\u001b[0m\n\u001b[1;32m   1972\u001b[0m cmap \u001b[38;5;241m=\u001b[39m kwargs\u001b[38;5;241m.\u001b[39mget(\u001b[38;5;124m'\u001b[39m\u001b[38;5;124mcmap\u001b[39m\u001b[38;5;124m'\u001b[39m, \u001b[38;5;28;01mNone\u001b[39;00m)\n\u001b[1;32m   1973\u001b[0m shade \u001b[38;5;241m=\u001b[39m kwargs\u001b[38;5;241m.\u001b[39mpop(\u001b[38;5;124m'\u001b[39m\u001b[38;5;124mshade\u001b[39m\u001b[38;5;124m'\u001b[39m, cmap \u001b[38;5;129;01mis\u001b[39;00m \u001b[38;5;28;01mNone\u001b[39;00m)\n\u001b[1;32m   1975\u001b[0m tri, args, kwargs \u001b[38;5;241m=\u001b[39m \\\n\u001b[0;32m-> 1976\u001b[0m     \u001b[43mTriangulation\u001b[49m\u001b[38;5;241;43m.\u001b[39;49m\u001b[43mget_from_args_and_kwargs\u001b[49m\u001b[43m(\u001b[49m\u001b[38;5;241;43m*\u001b[39;49m\u001b[43margs\u001b[49m\u001b[43m,\u001b[49m\u001b[43m \u001b[49m\u001b[38;5;241;43m*\u001b[39;49m\u001b[38;5;241;43m*\u001b[39;49m\u001b[43mkwargs\u001b[49m\u001b[43m)\u001b[49m\n\u001b[1;32m   1977\u001b[0m \u001b[38;5;28;01mtry\u001b[39;00m:\n\u001b[1;32m   1978\u001b[0m     z \u001b[38;5;241m=\u001b[39m kwargs\u001b[38;5;241m.\u001b[39mpop(\u001b[38;5;124m'\u001b[39m\u001b[38;5;124mZ\u001b[39m\u001b[38;5;124m'\u001b[39m)\n",
      "File \u001b[0;32m~/miniconda3/envs/pyenv_ub/lib/python3.9/site-packages/matplotlib/tri/triangulation.py:164\u001b[0m, in \u001b[0;36mTriangulation.get_from_args_and_kwargs\u001b[0;34m(*args, **kwargs)\u001b[0m\n\u001b[1;32m    161\u001b[0m     \u001b[38;5;66;03m# Check for mask in kwargs.\u001b[39;00m\n\u001b[1;32m    162\u001b[0m     mask \u001b[38;5;241m=\u001b[39m kwargs\u001b[38;5;241m.\u001b[39mpop(\u001b[38;5;124m'\u001b[39m\u001b[38;5;124mmask\u001b[39m\u001b[38;5;124m'\u001b[39m, \u001b[38;5;28;01mNone\u001b[39;00m)\n\u001b[0;32m--> 164\u001b[0m     triangulation \u001b[38;5;241m=\u001b[39m \u001b[43mTriangulation\u001b[49m\u001b[43m(\u001b[49m\u001b[43mx\u001b[49m\u001b[43m,\u001b[49m\u001b[43m \u001b[49m\u001b[43my\u001b[49m\u001b[43m,\u001b[49m\u001b[43m \u001b[49m\u001b[43mtriangles\u001b[49m\u001b[43m,\u001b[49m\u001b[43m \u001b[49m\u001b[43mmask\u001b[49m\u001b[43m)\u001b[49m\n\u001b[1;32m    165\u001b[0m \u001b[38;5;28;01mreturn\u001b[39;00m triangulation, args, kwargs\n",
      "File \u001b[0;32m~/miniconda3/envs/pyenv_ub/lib/python3.9/site-packages/matplotlib/tri/triangulation.py:44\u001b[0m, in \u001b[0;36mTriangulation.__init__\u001b[0;34m(self, x, y, triangles, mask)\u001b[0m\n\u001b[1;32m     42\u001b[0m \u001b[38;5;28mself\u001b[39m\u001b[38;5;241m.\u001b[39my \u001b[38;5;241m=\u001b[39m np\u001b[38;5;241m.\u001b[39masarray(y, dtype\u001b[38;5;241m=\u001b[39mnp\u001b[38;5;241m.\u001b[39mfloat64)\n\u001b[1;32m     43\u001b[0m \u001b[38;5;28;01mif\u001b[39;00m \u001b[38;5;28mself\u001b[39m\u001b[38;5;241m.\u001b[39mx\u001b[38;5;241m.\u001b[39mshape \u001b[38;5;241m!=\u001b[39m \u001b[38;5;28mself\u001b[39m\u001b[38;5;241m.\u001b[39my\u001b[38;5;241m.\u001b[39mshape \u001b[38;5;129;01mor\u001b[39;00m \u001b[38;5;28mself\u001b[39m\u001b[38;5;241m.\u001b[39mx\u001b[38;5;241m.\u001b[39mndim \u001b[38;5;241m!=\u001b[39m \u001b[38;5;241m1\u001b[39m:\n\u001b[0;32m---> 44\u001b[0m     \u001b[38;5;28;01mraise\u001b[39;00m \u001b[38;5;167;01mValueError\u001b[39;00m(\u001b[38;5;124m\"\u001b[39m\u001b[38;5;124mx and y must be equal-length 1D arrays\u001b[39m\u001b[38;5;124m\"\u001b[39m)\n\u001b[1;32m     46\u001b[0m \u001b[38;5;28mself\u001b[39m\u001b[38;5;241m.\u001b[39mmask \u001b[38;5;241m=\u001b[39m \u001b[38;5;28;01mNone\u001b[39;00m\n\u001b[1;32m     47\u001b[0m \u001b[38;5;28mself\u001b[39m\u001b[38;5;241m.\u001b[39m_edges \u001b[38;5;241m=\u001b[39m \u001b[38;5;28;01mNone\u001b[39;00m\n",
      "\u001b[0;31mValueError\u001b[0m: x and y must be equal-length 1D arrays"
     ]
    },
    {
     "data": {
      "text/plain": [
       "<Figure size 960x480 with 0 Axes>"
      ]
     },
     "metadata": {},
     "output_type": "display_data"
    }
   ],
   "source": [
    "#TODO: plot magnitude defect\n",
    "fig = plt.figure(figsize=plt.figaspect(0.5))\n",
    "ax.plot_trisurf(x, y, z, triangles=tri.triangles, cmap=plt.cm.Spectral)\n",
    "#TODO: format_plot\n",
    "plt.show()"
   ]
  },
  {
   "cell_type": "code",
   "execution_count": null,
   "id": "8cd23451",
   "metadata": {},
   "outputs": [],
   "source": []
  },
  {
   "cell_type": "code",
   "execution_count": null,
   "id": "292efb9b",
   "metadata": {},
   "outputs": [],
   "source": []
  },
  {
   "cell_type": "code",
   "execution_count": 191,
   "id": "af754f30",
   "metadata": {
    "ExecuteTime": {
     "end_time": "2022-08-24T22:07:56.171600Z",
     "start_time": "2022-08-24T22:07:56.127064Z"
    }
   },
   "outputs": [],
   "source": []
  },
  {
   "cell_type": "code",
   "execution_count": null,
   "id": "9f106a75",
   "metadata": {},
   "outputs": [],
   "source": [
    "# dnu_hat=nan\n",
    "# dnu_hat=nan\n",
    "# dnu_hat=nan\n",
    "# dnu_hat=2.8834698272332107\n",
    "# dnu_hat=nan\n",
    "# dnu_hat=38.48232835903418\n",
    "# dnu_hat=33.643018641851825\n",
    "# dnu_hat=437.569586444785\n",
    "\n",
    "# dnu_hat=nan\n",
    "# dnu_hat=nan\n",
    "# dnu_hat=nan\n",
    "# dnu_hat=2.8834698272332098\n",
    "# dnu_hat=433.4022168892278\n",
    "# dnu_hat=38.48232835903418\n",
    "# dnu_hat=33.64301864185182\n",
    "# dnu_hat=437.569586444785"
   ]
  },
  {
   "cell_type": "code",
   "execution_count": 183,
   "id": "30e12f1c",
   "metadata": {
    "ExecuteTime": {
     "end_time": "2022-08-24T21:51:48.465319Z",
     "start_time": "2022-08-24T21:51:48.426734Z"
    }
   },
   "outputs": [
    {
     "data": {
      "text/html": [
       "<div>\n",
       "<style scoped>\n",
       "    .dataframe tbody tr th:only-of-type {\n",
       "        vertical-align: middle;\n",
       "    }\n",
       "\n",
       "    .dataframe tbody tr th {\n",
       "        vertical-align: top;\n",
       "    }\n",
       "\n",
       "    .dataframe thead th {\n",
       "        text-align: right;\n",
       "    }\n",
       "</style>\n",
       "<table border=\"1\" class=\"dataframe\">\n",
       "  <thead>\n",
       "    <tr style=\"text-align: right;\">\n",
       "      <th></th>\n",
       "      <th>level_0</th>\n",
       "      <th>index</th>\n",
       "      <th>m</th>\n",
       "      <th>Delta_m</th>\n",
       "      <th>M</th>\n",
       "      <th>Delta_M</th>\n",
       "      <th>Rsq</th>\n",
       "      <th>rmse</th>\n",
       "      <th>rmse_full</th>\n",
       "      <th>model_name_full</th>\n",
       "      <th>...</th>\n",
       "      <th>reflect</th>\n",
       "      <th>set_second</th>\n",
       "      <th>no_repulsion</th>\n",
       "      <th>no_attraction</th>\n",
       "      <th>x1</th>\n",
       "      <th>x2</th>\n",
       "      <th>x3</th>\n",
       "      <th>x4</th>\n",
       "      <th>dt</th>\n",
       "      <th>Dt</th>\n",
       "    </tr>\n",
       "  </thead>\n",
       "  <tbody>\n",
       "    <tr>\n",
       "      <th>0</th>\n",
       "      <td>NaN</td>\n",
       "      <td>NaN</td>\n",
       "      <td>NaN</td>\n",
       "      <td>NaN</td>\n",
       "      <td>NaN</td>\n",
       "      <td>NaN</td>\n",
       "      <td>NaN</td>\n",
       "      <td>NaN</td>\n",
       "      <td>NaN</td>\n",
       "      <td>NaN</td>\n",
       "      <td>...</td>\n",
       "      <td>NaN</td>\n",
       "      <td>NaN</td>\n",
       "      <td>NaN</td>\n",
       "      <td>NaN</td>\n",
       "      <td>NaN</td>\n",
       "      <td>NaN</td>\n",
       "      <td>NaN</td>\n",
       "      <td>NaN</td>\n",
       "      <td>NaN</td>\n",
       "      <td>NaN</td>\n",
       "    </tr>\n",
       "    <tr>\n",
       "      <th>1</th>\n",
       "      <td>NaN</td>\n",
       "      <td>NaN</td>\n",
       "      <td>NaN</td>\n",
       "      <td>NaN</td>\n",
       "      <td>NaN</td>\n",
       "      <td>NaN</td>\n",
       "      <td>NaN</td>\n",
       "      <td>NaN</td>\n",
       "      <td>NaN</td>\n",
       "      <td>NaN</td>\n",
       "      <td>...</td>\n",
       "      <td>NaN</td>\n",
       "      <td>NaN</td>\n",
       "      <td>NaN</td>\n",
       "      <td>NaN</td>\n",
       "      <td>NaN</td>\n",
       "      <td>NaN</td>\n",
       "      <td>NaN</td>\n",
       "      <td>NaN</td>\n",
       "      <td>NaN</td>\n",
       "      <td>NaN</td>\n",
       "    </tr>\n",
       "    <tr>\n",
       "      <th>2</th>\n",
       "      <td>NaN</td>\n",
       "      <td>NaN</td>\n",
       "      <td>NaN</td>\n",
       "      <td>NaN</td>\n",
       "      <td>NaN</td>\n",
       "      <td>NaN</td>\n",
       "      <td>NaN</td>\n",
       "      <td>NaN</td>\n",
       "      <td>NaN</td>\n",
       "      <td>NaN</td>\n",
       "      <td>...</td>\n",
       "      <td>NaN</td>\n",
       "      <td>NaN</td>\n",
       "      <td>NaN</td>\n",
       "      <td>NaN</td>\n",
       "      <td>NaN</td>\n",
       "      <td>NaN</td>\n",
       "      <td>NaN</td>\n",
       "      <td>NaN</td>\n",
       "      <td>NaN</td>\n",
       "      <td>NaN</td>\n",
       "    </tr>\n",
       "    <tr>\n",
       "      <th>3</th>\n",
       "      <td>NaN</td>\n",
       "      <td>NaN</td>\n",
       "      <td>NaN</td>\n",
       "      <td>NaN</td>\n",
       "      <td>NaN</td>\n",
       "      <td>NaN</td>\n",
       "      <td>NaN</td>\n",
       "      <td>NaN</td>\n",
       "      <td>NaN</td>\n",
       "      <td>NaN</td>\n",
       "      <td>...</td>\n",
       "      <td>NaN</td>\n",
       "      <td>NaN</td>\n",
       "      <td>NaN</td>\n",
       "      <td>NaN</td>\n",
       "      <td>NaN</td>\n",
       "      <td>NaN</td>\n",
       "      <td>NaN</td>\n",
       "      <td>NaN</td>\n",
       "      <td>NaN</td>\n",
       "      <td>NaN</td>\n",
       "    </tr>\n",
       "    <tr>\n",
       "      <th>4</th>\n",
       "      <td>NaN</td>\n",
       "      <td>NaN</td>\n",
       "      <td>NaN</td>\n",
       "      <td>NaN</td>\n",
       "      <td>NaN</td>\n",
       "      <td>NaN</td>\n",
       "      <td>NaN</td>\n",
       "      <td>NaN</td>\n",
       "      <td>NaN</td>\n",
       "      <td>NaN</td>\n",
       "      <td>...</td>\n",
       "      <td>NaN</td>\n",
       "      <td>NaN</td>\n",
       "      <td>NaN</td>\n",
       "      <td>NaN</td>\n",
       "      <td>NaN</td>\n",
       "      <td>NaN</td>\n",
       "      <td>NaN</td>\n",
       "      <td>NaN</td>\n",
       "      <td>NaN</td>\n",
       "      <td>NaN</td>\n",
       "    </tr>\n",
       "    <tr>\n",
       "      <th>...</th>\n",
       "      <td>...</td>\n",
       "      <td>...</td>\n",
       "      <td>...</td>\n",
       "      <td>...</td>\n",
       "      <td>...</td>\n",
       "      <td>...</td>\n",
       "      <td>...</td>\n",
       "      <td>...</td>\n",
       "      <td>...</td>\n",
       "      <td>...</td>\n",
       "      <td>...</td>\n",
       "      <td>...</td>\n",
       "      <td>...</td>\n",
       "      <td>...</td>\n",
       "      <td>...</td>\n",
       "      <td>...</td>\n",
       "      <td>...</td>\n",
       "      <td>...</td>\n",
       "      <td>...</td>\n",
       "      <td>...</td>\n",
       "      <td>...</td>\n",
       "    </tr>\n",
       "    <tr>\n",
       "      <th>18710</th>\n",
       "      <td>NaN</td>\n",
       "      <td>NaN</td>\n",
       "      <td>NaN</td>\n",
       "      <td>NaN</td>\n",
       "      <td>NaN</td>\n",
       "      <td>NaN</td>\n",
       "      <td>NaN</td>\n",
       "      <td>NaN</td>\n",
       "      <td>NaN</td>\n",
       "      <td>NaN</td>\n",
       "      <td>...</td>\n",
       "      <td>NaN</td>\n",
       "      <td>NaN</td>\n",
       "      <td>NaN</td>\n",
       "      <td>NaN</td>\n",
       "      <td>NaN</td>\n",
       "      <td>NaN</td>\n",
       "      <td>NaN</td>\n",
       "      <td>NaN</td>\n",
       "      <td>NaN</td>\n",
       "      <td>NaN</td>\n",
       "    </tr>\n",
       "    <tr>\n",
       "      <th>18711</th>\n",
       "      <td>NaN</td>\n",
       "      <td>NaN</td>\n",
       "      <td>NaN</td>\n",
       "      <td>NaN</td>\n",
       "      <td>NaN</td>\n",
       "      <td>NaN</td>\n",
       "      <td>NaN</td>\n",
       "      <td>NaN</td>\n",
       "      <td>NaN</td>\n",
       "      <td>NaN</td>\n",
       "      <td>...</td>\n",
       "      <td>NaN</td>\n",
       "      <td>NaN</td>\n",
       "      <td>NaN</td>\n",
       "      <td>NaN</td>\n",
       "      <td>NaN</td>\n",
       "      <td>NaN</td>\n",
       "      <td>NaN</td>\n",
       "      <td>NaN</td>\n",
       "      <td>NaN</td>\n",
       "      <td>NaN</td>\n",
       "    </tr>\n",
       "    <tr>\n",
       "      <th>18712</th>\n",
       "      <td>NaN</td>\n",
       "      <td>NaN</td>\n",
       "      <td>NaN</td>\n",
       "      <td>NaN</td>\n",
       "      <td>NaN</td>\n",
       "      <td>NaN</td>\n",
       "      <td>NaN</td>\n",
       "      <td>NaN</td>\n",
       "      <td>NaN</td>\n",
       "      <td>NaN</td>\n",
       "      <td>...</td>\n",
       "      <td>NaN</td>\n",
       "      <td>NaN</td>\n",
       "      <td>NaN</td>\n",
       "      <td>NaN</td>\n",
       "      <td>NaN</td>\n",
       "      <td>NaN</td>\n",
       "      <td>NaN</td>\n",
       "      <td>NaN</td>\n",
       "      <td>NaN</td>\n",
       "      <td>NaN</td>\n",
       "    </tr>\n",
       "    <tr>\n",
       "      <th>18713</th>\n",
       "      <td>NaN</td>\n",
       "      <td>NaN</td>\n",
       "      <td>NaN</td>\n",
       "      <td>NaN</td>\n",
       "      <td>NaN</td>\n",
       "      <td>NaN</td>\n",
       "      <td>NaN</td>\n",
       "      <td>NaN</td>\n",
       "      <td>NaN</td>\n",
       "      <td>NaN</td>\n",
       "      <td>...</td>\n",
       "      <td>NaN</td>\n",
       "      <td>NaN</td>\n",
       "      <td>NaN</td>\n",
       "      <td>NaN</td>\n",
       "      <td>NaN</td>\n",
       "      <td>NaN</td>\n",
       "      <td>NaN</td>\n",
       "      <td>NaN</td>\n",
       "      <td>NaN</td>\n",
       "      <td>NaN</td>\n",
       "    </tr>\n",
       "    <tr>\n",
       "      <th>18714</th>\n",
       "      <td>NaN</td>\n",
       "      <td>NaN</td>\n",
       "      <td>NaN</td>\n",
       "      <td>NaN</td>\n",
       "      <td>NaN</td>\n",
       "      <td>NaN</td>\n",
       "      <td>NaN</td>\n",
       "      <td>NaN</td>\n",
       "      <td>NaN</td>\n",
       "      <td>NaN</td>\n",
       "      <td>...</td>\n",
       "      <td>NaN</td>\n",
       "      <td>NaN</td>\n",
       "      <td>NaN</td>\n",
       "      <td>NaN</td>\n",
       "      <td>NaN</td>\n",
       "      <td>NaN</td>\n",
       "      <td>NaN</td>\n",
       "      <td>NaN</td>\n",
       "      <td>NaN</td>\n",
       "      <td>NaN</td>\n",
       "    </tr>\n",
       "  </tbody>\n",
       "</table>\n",
       "<p>18715 rows × 30 columns</p>\n",
       "</div>"
      ],
      "text/plain": [
       "       level_0  index   m  Delta_m   M  Delta_M  Rsq  rmse  rmse_full  \\\n",
       "0          NaN    NaN NaN      NaN NaN      NaN  NaN   NaN        NaN   \n",
       "1          NaN    NaN NaN      NaN NaN      NaN  NaN   NaN        NaN   \n",
       "2          NaN    NaN NaN      NaN NaN      NaN  NaN   NaN        NaN   \n",
       "3          NaN    NaN NaN      NaN NaN      NaN  NaN   NaN        NaN   \n",
       "4          NaN    NaN NaN      NaN NaN      NaN  NaN   NaN        NaN   \n",
       "...        ...    ...  ..      ...  ..      ...  ...   ...        ...   \n",
       "18710      NaN    NaN NaN      NaN NaN      NaN  NaN   NaN        NaN   \n",
       "18711      NaN    NaN NaN      NaN NaN      NaN  NaN   NaN        NaN   \n",
       "18712      NaN    NaN NaN      NaN NaN      NaN  NaN   NaN        NaN   \n",
       "18713      NaN    NaN NaN      NaN NaN      NaN  NaN   NaN        NaN   \n",
       "18714      NaN    NaN NaN      NaN NaN      NaN  NaN   NaN        NaN   \n",
       "\n",
       "      model_name_full  ...  reflect  set_second  no_repulsion  no_attraction  \\\n",
       "0                 NaN  ...      NaN         NaN           NaN            NaN   \n",
       "1                 NaN  ...      NaN         NaN           NaN            NaN   \n",
       "2                 NaN  ...      NaN         NaN           NaN            NaN   \n",
       "3                 NaN  ...      NaN         NaN           NaN            NaN   \n",
       "4                 NaN  ...      NaN         NaN           NaN            NaN   \n",
       "...               ...  ...      ...         ...           ...            ...   \n",
       "18710             NaN  ...      NaN         NaN           NaN            NaN   \n",
       "18711             NaN  ...      NaN         NaN           NaN            NaN   \n",
       "18712             NaN  ...      NaN         NaN           NaN            NaN   \n",
       "18713             NaN  ...      NaN         NaN           NaN            NaN   \n",
       "18714             NaN  ...      NaN         NaN           NaN            NaN   \n",
       "\n",
       "       x1  x2  x3  x4  dt  Dt  \n",
       "0     NaN NaN NaN NaN NaN NaN  \n",
       "1     NaN NaN NaN NaN NaN NaN  \n",
       "2     NaN NaN NaN NaN NaN NaN  \n",
       "3     NaN NaN NaN NaN NaN NaN  \n",
       "4     NaN NaN NaN NaN NaN NaN  \n",
       "...    ..  ..  ..  ..  ..  ..  \n",
       "18710 NaN NaN NaN NaN NaN NaN  \n",
       "18711 NaN NaN NaN NaN NaN NaN  \n",
       "18712 NaN NaN NaN NaN NaN NaN  \n",
       "18713 NaN NaN NaN NaN NaN NaN  \n",
       "18714 NaN NaN NaN NaN NaN NaN  \n",
       "\n",
       "[18715 rows x 30 columns]"
      ]
     },
     "execution_count": 183,
     "metadata": {},
     "output_type": "execute_result"
    }
   ],
   "source": [
    "#TODO: goal: get 3d surface plotted for both \n",
    "\n",
    "\n",
    "#TODO: root cause analysis as to why i'm getting \n",
    "# dg.shape,dg.dropna().shape, dg['m'].dropna().shape\n",
    "# dg[dg.isnull()]\n",
    "dg.describe()"
   ]
  },
  {
   "cell_type": "code",
   "execution_count": 179,
   "id": "689fef2e",
   "metadata": {
    "ExecuteTime": {
     "end_time": "2022-08-24T21:39:07.040771Z",
     "start_time": "2022-08-24T21:35:32.890951Z"
    }
   },
   "outputs": [
    {
     "ename": "AssertionError",
     "evalue": "",
     "output_type": "error",
     "traceback": [
      "\u001b[0;31m---------------------------------------------------------------------------\u001b[0m",
      "\u001b[0;31mAssertionError\u001b[0m                            Traceback (most recent call last)",
      "Input \u001b[0;32mIn [179]\u001b[0m, in \u001b[0;36m<cell line: 2>\u001b[0;34m()\u001b[0m\n\u001b[1;32m      1\u001b[0m \u001b[38;5;66;03m#estimate the exponent isosurface from the linear interpolator\u001b[39;00m\n\u001b[0;32m----> 2\u001b[0m simplices2, faces2 \u001b[38;5;241m=\u001b[39m \u001b[43mplot_isosurface\u001b[49m\u001b[43m(\u001b[49m\u001b[43minterp_exponent_defect\u001b[49m\u001b[43m,\u001b[49m\u001b[43m \u001b[49m\n\u001b[1;32m      3\u001b[0m \u001b[43m                            \u001b[49m\u001b[43mpmin\u001b[49m\u001b[38;5;241;43m=\u001b[39;49m\u001b[43mpmin\u001b[49m\u001b[43m,\u001b[49m\u001b[43m \u001b[49m\n\u001b[1;32m      4\u001b[0m \u001b[43m                            \u001b[49m\u001b[43mpmax\u001b[49m\u001b[38;5;241;43m=\u001b[39;49m\u001b[43mpmax\u001b[49m\u001b[43m,\u001b[49m\u001b[43m \u001b[49m\n\u001b[1;32m      5\u001b[0m \u001b[43m                            \u001b[49m\u001b[43mmin_depth\u001b[49m\u001b[38;5;241;43m=\u001b[39;49m\u001b[43mmin_depth\u001b[49m\u001b[43m,\u001b[49m\u001b[43m \u001b[49m\n\u001b[1;32m      6\u001b[0m \u001b[43m                            \u001b[49m\u001b[43mmax_cells\u001b[49m\u001b[38;5;241;43m=\u001b[39;49m\u001b[43mmax_cells\u001b[49m\u001b[43m,\u001b[49m\n\u001b[1;32m      7\u001b[0m \u001b[43m                                    \u001b[49m\u001b[43mtol\u001b[49m\u001b[38;5;241;43m=\u001b[39;49m\u001b[38;5;241;43m0.1\u001b[39;49m\u001b[43m)\u001b[49m\n",
      "File \u001b[0;32m~/miniconda3/envs/pyenv_ub/lib/python3.9/site-packages/isosurfaces/isosurface.py:32\u001b[0m, in \u001b[0;36mplot_isosurface\u001b[0;34m(fn, pmin, pmax, min_depth, max_cells, tol)\u001b[0m\n\u001b[1;32m     30\u001b[0m faces \u001b[38;5;241m=\u001b[39m []\n\u001b[1;32m     31\u001b[0m \u001b[38;5;28;01mfor\u001b[39;00m simplex \u001b[38;5;129;01min\u001b[39;00m simplices:\n\u001b[0;32m---> 32\u001b[0m     face \u001b[38;5;241m=\u001b[39m \u001b[43mmarch_simplex\u001b[49m\u001b[43m(\u001b[49m\u001b[43msimplex\u001b[49m\u001b[43m,\u001b[49m\u001b[43m \u001b[49m\u001b[43mfn\u001b[49m\u001b[43m,\u001b[49m\u001b[43m \u001b[49m\u001b[43mtol\u001b[49m\u001b[43m)\u001b[49m\n\u001b[1;32m     33\u001b[0m     \u001b[38;5;28;01mif\u001b[39;00m face \u001b[38;5;129;01mis\u001b[39;00m \u001b[38;5;129;01mnot\u001b[39;00m \u001b[38;5;28;01mNone\u001b[39;00m:\n\u001b[1;32m     34\u001b[0m         faces\u001b[38;5;241m.\u001b[39mappend(face)\n",
      "File \u001b[0;32m~/miniconda3/envs/pyenv_ub/lib/python3.9/site-packages/isosurfaces/isosurface.py:68\u001b[0m, in \u001b[0;36mmarch_simplex\u001b[0;34m(simplex, fn, tol)\u001b[0m\n\u001b[1;32m     66\u001b[0m \u001b[38;5;28;01mfor\u001b[39;00m i, j \u001b[38;5;129;01min\u001b[39;00m indices:\n\u001b[1;32m     67\u001b[0m     intersection, is_zero \u001b[38;5;241m=\u001b[39m binary_search_zero(simplex[i], simplex[j], fn, tol)\n\u001b[0;32m---> 68\u001b[0m     \u001b[38;5;28;01massert\u001b[39;00m is_zero\n\u001b[1;32m     69\u001b[0m     points\u001b[38;5;241m.\u001b[39mappend(intersection\u001b[38;5;241m.\u001b[39mpos)\n\u001b[1;32m     70\u001b[0m \u001b[38;5;28;01mreturn\u001b[39;00m points\n",
      "\u001b[0;31mAssertionError\u001b[0m: "
     ]
    }
   ],
   "source": [
    "#estimate the exponent isosurface from the linear interpolator\n",
    "simplices2, faces2 = plot_isosurface(interp_exponent_defect, \n",
    "                            pmin=pmin, \n",
    "                            pmax=pmax, \n",
    "                            min_depth=min_depth, \n",
    "                            max_cells=max_cells,\n",
    "                                    tol=0.1)"
   ]
  },
  {
   "cell_type": "code",
   "execution_count": null,
   "id": "671cc72c",
   "metadata": {},
   "outputs": [],
   "source": [
    "#heretim"
   ]
  },
  {
   "cell_type": "code",
   "execution_count": null,
   "id": "c0f29acb",
   "metadata": {},
   "outputs": [],
   "source": []
  },
  {
   "cell_type": "code",
   "execution_count": null,
   "id": "55648e65",
   "metadata": {},
   "outputs": [],
   "source": []
  },
  {
   "cell_type": "code",
   "execution_count": 155,
   "id": "0137b451",
   "metadata": {
    "ExecuteTime": {
     "end_time": "2022-08-24T20:40:41.595673Z",
     "start_time": "2022-08-24T20:40:41.577906Z"
    }
   },
   "outputs": [
    {
     "data": {
      "text/plain": [
       "<module 'matplotlib.tri' from '/home/timothytyree/miniconda3/envs/pyenv_ub/lib/python3.9/site-packages/matplotlib/tri/__init__.py'>"
      ]
     },
     "execution_count": 155,
     "metadata": {},
     "output_type": "execute_result"
    }
   ],
   "source": []
  },
  {
   "cell_type": "code",
   "execution_count": 127,
   "id": "5b8d93f7",
   "metadata": {
    "ExecuteTime": {
     "end_time": "2022-08-24T20:22:26.015078Z",
     "start_time": "2022-08-24T20:22:25.715315Z"
    }
   },
   "outputs": [
    {
     "data": {
      "image/png": "[encoded data removed]",
      "text/plain": [
       "<Figure size 960x480 with 2 Axes>"
      ]
     },
     "metadata": {},
     "output_type": "display_data"
    }
   ],
   "source": [
    "fig = plt.figure(figsize=plt.figaspect(0.5))\n",
    "# ==========\n",
    "# First plot\n",
    "# ==========\n",
    "# Make a mesh in the space of parameterisation variables u and v\n",
    "u = np.linspace(0, 2.0 * np.pi, endpoint=True, num=50)\n",
    "v = np.linspace(-0.5, 0.5, endpoint=True, num=10)\n",
    "u, v = np.meshgrid(u, v)\n",
    "u, v = u.flatten(), v.flatten()\n",
    "# This is the Mobius mapping, taking a u, v pair and returning an x, y, z\n",
    "# triple\n",
    "x = (1 + 0.5 * v * np.cos(u / 2.0)) * np.cos(u)\n",
    "y = (1 + 0.5 * v * np.cos(u / 2.0)) * np.sin(u)\n",
    "z = 0.5 * v * np.sin(u / 2.0)\n",
    "# Triangulate parameter space to determine the triangles\n",
    "tri = mtri.Triangulation(u, v)\n",
    "# Plot the surface.  The triangles in parameter space determine which x, y, z\n",
    "# points are connected by an edge.\n",
    "ax = fig.add_subplot(1, 2, 1, projection='3d')\n",
    "ax.plot_trisurf(x, y, z, triangles=tri.triangles, cmap=plt.cm.Spectral)\n",
    "ax.set_zlim(-1, 1)\n",
    "# ===========\n",
    "# Second plot\n",
    "# ===========\n",
    "# Make parameter spaces radii and angles.\n",
    "n_angles = 36\n",
    "n_radii = 8\n",
    "min_radius = 0.25\n",
    "radii = np.linspace(min_radius, 0.95, n_radii)\n",
    "angles = np.linspace(0, 2*np.pi, n_angles, endpoint=False)\n",
    "angles = np.repeat(angles[..., np.newaxis], n_radii, axis=1)\n",
    "angles[:, 1::2] += np.pi/n_angles\n",
    "\n",
    "# Map radius, angle pairs to x, y, z points.\n",
    "x = (radii*np.cos(angles)).flatten()\n",
    "y = (radii*np.sin(angles)).flatten()\n",
    "z = (np.cos(radii)*np.cos(3*angles)).flatten()\n",
    "\n",
    "# Create the Triangulation; no triangles so Delaunay triangulation created.\n",
    "triang = mtri.Triangulation(x, y)\n",
    "\n",
    "# Mask off unwanted triangles.\n",
    "xmid = x[triang.triangles].mean(axis=1)\n",
    "ymid = y[triang.triangles].mean(axis=1)\n",
    "mask = xmid**2 + ymid**2 < min_radius**2\n",
    "triang.set_mask(mask)\n",
    "\n",
    "# Plot the surface.\n",
    "ax = fig.add_subplot(1, 2, 2, projection='3d')\n",
    "ax.plot_trisurf(triang, z, cmap=plt.cm.CMRmap)\n",
    "\n",
    "\n",
    "plt.show()"
   ]
  },
  {
   "cell_type": "code",
   "execution_count": null,
   "id": "288258e9",
   "metadata": {},
   "outputs": [],
   "source": []
  },
  {
   "cell_type": "code",
   "execution_count": null,
   "id": "720e4874",
   "metadata": {},
   "outputs": [],
   "source": []
  },
  {
   "cell_type": "code",
   "execution_count": 134,
   "id": "521a2757",
   "metadata": {
    "ExecuteTime": {
     "end_time": "2022-08-24T20:25:23.656225Z",
     "start_time": "2022-08-24T20:25:23.638399Z"
    }
   },
   "outputs": [],
   "source": []
  },
  {
   "cell_type": "markdown",
   "id": "1d2d437d",
   "metadata": {},
   "source": [
    "## scratchwerk"
   ]
  },
  {
   "cell_type": "code",
   "execution_count": 60,
   "id": "64a6b2e6",
   "metadata": {
    "ExecuteTime": {
     "end_time": "2022-08-19T21:11:23.175084Z",
     "start_time": "2022-08-19T21:11:22.473836Z"
    }
   },
   "outputs": [],
   "source": [
    "metaball_pts = [np.array([0, 1.6, 0]), np.array([0, -1.6, 0])]\n",
    "\n",
    "def fn(p):\n",
    "    # metaballs\n",
    "    # return sum(1 / np.linalg.norm(p - q) for q in metaball_pts) - 1\n",
    "    # cone with singularity at origin\n",
    "    return p[0] ** 2 + p[1] ** 2 - p[2] ** 2\n",
    "\n",
    "pmin = np.array([-4, -4, -4])\n",
    "pmax = np.array([4, 4, 4])\n",
    "simplices, faces = plot_isosurface(fn, pmin, pmax, 2, 64)\n",
    "# faces = list(faces)"
   ]
  },
  {
   "cell_type": "code",
   "execution_count": 76,
   "id": "ca617ce7",
   "metadata": {
    "ExecuteTime": {
     "end_time": "2022-08-19T21:15:14.018873Z",
     "start_time": "2022-08-19T21:15:13.973558Z"
    }
   },
   "outputs": [],
   "source": []
  },
  {
   "cell_type": "code",
   "execution_count": null,
   "id": "2b6b7e94",
   "metadata": {},
   "outputs": [],
   "source": [
    "#heretim\n",
    "#TODO: dev projection from the isosurface to x,y,z values\n",
    "#TODO: compute the isosurface for M\n",
    "#TODO: compute the isosurface for nu"
   ]
  },
  {
   "cell_type": "code",
   "execution_count": 103,
   "id": "016d689a",
   "metadata": {
    "ExecuteTime": {
     "end_time": "2022-08-19T23:46:55.328860Z",
     "start_time": "2022-08-19T23:46:55.103120Z"
    }
   },
   "outputs": [
    {
     "ename": "TypeError",
     "evalue": "int() argument must be a string, a bytes-like object or a number, not 'ValuedPoint'",
     "output_type": "error",
     "traceback": [
      "\u001b[0;31m---------------------------------------------------------------------------\u001b[0m",
      "\u001b[0;31mTypeError\u001b[0m                                 Traceback (most recent call last)",
      "Input \u001b[0;32mIn [103]\u001b[0m, in \u001b[0;36m<cell line: 10>\u001b[0;34m()\u001b[0m\n\u001b[1;32m      4\u001b[0m \u001b[38;5;28;01mimport\u001b[39;00m \u001b[38;5;21;01mtrimesh\u001b[39;00m\n\u001b[1;32m      5\u001b[0m \u001b[38;5;66;03m# vert = np.loadtxt('/home/timothytyree/Documents/GitHub/care/notebooks/membrane-notebooks/Data/pt85_RA_vert')\u001b[39;00m\n\u001b[1;32m      6\u001b[0m \u001b[38;5;66;03m# faces = np.loadtxt('/home/timothytyree/Documents/GitHub/care/notebooks/membrane-notebooks/Data/pt85_RA_faces')\u001b[39;00m\n\u001b[1;32m      7\u001b[0m \u001b[38;5;66;03m# faces = faces - 1 #fix: 1 to 0 indexing\u001b[39;00m\n\u001b[1;32m      8\u001b[0m \u001b[38;5;66;03m# mesh = trimesh.Trimesh(vertices=vert,\u001b[39;00m\n\u001b[1;32m      9\u001b[0m \u001b[38;5;66;03m#                        faces=faces)\u001b[39;00m\n\u001b[0;32m---> 10\u001b[0m mesh \u001b[38;5;241m=\u001b[39m \u001b[43mtrimesh\u001b[49m\u001b[38;5;241;43m.\u001b[39;49m\u001b[43mTrimesh\u001b[49m\u001b[43m(\u001b[49m\u001b[43mvertices\u001b[49m\u001b[38;5;241;43m=\u001b[39;49m\u001b[43mfaces\u001b[49m\u001b[43m,\u001b[49m\n\u001b[1;32m     11\u001b[0m \u001b[43m                       \u001b[49m\u001b[43mfaces\u001b[49m\u001b[38;5;241;43m=\u001b[39;49m\u001b[43msimplices\u001b[49m\u001b[43m)\u001b[49m\n\u001b[1;32m     12\u001b[0m mesh\u001b[38;5;241m.\u001b[39mshow()\n",
      "File \u001b[0;32m~/miniconda3/envs/pyenv_ub/lib/python3.9/site-packages/trimesh/base.py:125\u001b[0m, in \u001b[0;36mTrimesh.__init__\u001b[0;34m(self, vertices, faces, face_normals, vertex_normals, face_colors, vertex_colors, face_attributes, vertex_attributes, metadata, process, validate, merge_tex, merge_norm, use_embree, initial_cache, visual, **kwargs)\u001b[0m\n\u001b[1;32m    122\u001b[0m     \u001b[38;5;28mself\u001b[39m\u001b[38;5;241m.\u001b[39mvertices \u001b[38;5;241m=\u001b[39m vertices\n\u001b[1;32m    123\u001b[0m \u001b[38;5;28;01mif\u001b[39;00m faces \u001b[38;5;129;01mis\u001b[39;00m \u001b[38;5;129;01mnot\u001b[39;00m \u001b[38;5;28;01mNone\u001b[39;00m:\n\u001b[1;32m    124\u001b[0m     \u001b[38;5;66;03m# (m, 3) int of triangle faces, references self.vertices\u001b[39;00m\n\u001b[0;32m--> 125\u001b[0m     \u001b[38;5;28mself\u001b[39m\u001b[38;5;241m.\u001b[39mfaces \u001b[38;5;241m=\u001b[39m faces\n\u001b[1;32m    127\u001b[0m \u001b[38;5;66;03m# hold visual information about the mesh (vertex and face colors)\u001b[39;00m\n\u001b[1;32m    128\u001b[0m \u001b[38;5;28;01mif\u001b[39;00m visual \u001b[38;5;129;01mis\u001b[39;00m \u001b[38;5;28;01mNone\u001b[39;00m:\n",
      "File \u001b[0;32m~/miniconda3/envs/pyenv_ub/lib/python3.9/site-packages/trimesh/base.py:311\u001b[0m, in \u001b[0;36mTrimesh.faces\u001b[0;34m(self, values)\u001b[0m\n\u001b[1;32m    309\u001b[0m     \u001b[38;5;28;01mreturn\u001b[39;00m \u001b[38;5;28mself\u001b[39m\u001b[38;5;241m.\u001b[39m_data\u001b[38;5;241m.\u001b[39mdata\u001b[38;5;241m.\u001b[39mpop(\u001b[38;5;124m'\u001b[39m\u001b[38;5;124mfaces\u001b[39m\u001b[38;5;124m'\u001b[39m, \u001b[38;5;28;01mNone\u001b[39;00m)\n\u001b[1;32m    310\u001b[0m \u001b[38;5;28;01mif\u001b[39;00m \u001b[38;5;129;01mnot\u001b[39;00m (\u001b[38;5;28misinstance\u001b[39m(values, np\u001b[38;5;241m.\u001b[39mndarray) \u001b[38;5;129;01mand\u001b[39;00m values\u001b[38;5;241m.\u001b[39mdtype \u001b[38;5;241m==\u001b[39m np\u001b[38;5;241m.\u001b[39mint64):\n\u001b[0;32m--> 311\u001b[0m     values \u001b[38;5;241m=\u001b[39m \u001b[43mnp\u001b[49m\u001b[38;5;241;43m.\u001b[39;49m\u001b[43masanyarray\u001b[49m\u001b[43m(\u001b[49m\u001b[43mvalues\u001b[49m\u001b[43m,\u001b[49m\u001b[43m \u001b[49m\u001b[43mdtype\u001b[49m\u001b[38;5;241;43m=\u001b[39;49m\u001b[43mnp\u001b[49m\u001b[38;5;241;43m.\u001b[39;49m\u001b[43mint64\u001b[49m\u001b[43m)\u001b[49m\n\u001b[1;32m    313\u001b[0m \u001b[38;5;66;03m# automatically triangulate quad faces\u001b[39;00m\n\u001b[1;32m    314\u001b[0m \u001b[38;5;28;01mif\u001b[39;00m \u001b[38;5;28mlen\u001b[39m(values\u001b[38;5;241m.\u001b[39mshape) \u001b[38;5;241m==\u001b[39m \u001b[38;5;241m2\u001b[39m \u001b[38;5;129;01mand\u001b[39;00m values\u001b[38;5;241m.\u001b[39mshape[\u001b[38;5;241m1\u001b[39m] \u001b[38;5;241m==\u001b[39m \u001b[38;5;241m4\u001b[39m:\n",
      "\u001b[0;31mTypeError\u001b[0m: int() argument must be a string, a bytes-like object or a number, not 'ValuedPoint'"
     ]
    }
   ],
   "source": [
    "#TODO: figure out how to plot an isosurface\n",
    "simp=simplices[0][0]\n",
    "simp.pos\n",
    "import trimesh\n",
    "# vert = np.loadtxt('/home/timothytyree/Documents/GitHub/care/notebooks/membrane-notebooks/Data/pt85_RA_vert')\n",
    "# faces = np.loadtxt('/home/timothytyree/Documents/GitHub/care/notebooks/membrane-notebooks/Data/pt85_RA_faces')\n",
    "# faces = faces - 1 #fix: 1 to 0 indexing\n",
    "# mesh = trimesh.Trimesh(vertices=vert,\n",
    "#                        faces=faces)\n",
    "mesh = trimesh.Trimesh(vertices=faces,\n",
    "                       faces=simplices)\n",
    "mesh.show()"
   ]
  },
  {
   "cell_type": "code",
   "execution_count": 117,
   "id": "8c049732",
   "metadata": {
    "ExecuteTime": {
     "end_time": "2022-08-19T23:50:28.021370Z",
     "start_time": "2022-08-19T23:50:27.989569Z"
    }
   },
   "outputs": [
    {
     "data": {
      "text/plain": [
       "numpy.float64"
      ]
     },
     "execution_count": 117,
     "metadata": {},
     "output_type": "execute_result"
    }
   ],
   "source": [
    "type(simplices[1][0].val)"
   ]
  },
  {
   "cell_type": "code",
   "execution_count": 118,
   "id": "55445910",
   "metadata": {
    "ExecuteTime": {
     "end_time": "2022-08-19T23:50:53.266369Z",
     "start_time": "2022-08-19T23:50:53.223011Z"
    }
   },
   "outputs": [
    {
     "data": {
      "text/plain": [
       "(5376, 4)"
      ]
     },
     "execution_count": 118,
     "metadata": {},
     "output_type": "execute_result"
    }
   ],
   "source": [
    "len(simplices),len(simplices[0])"
   ]
  },
  {
   "cell_type": "code",
   "execution_count": null,
   "id": "81ee9ac7",
   "metadata": {},
   "outputs": [],
   "source": [
    "#face.get_dual(self.fn), <-- that's what we want"
   ]
  },
  {
   "cell_type": "raw",
   "id": "1606a28a",
   "metadata": {},
   "source": [
    "Each simplex comes from:\n",
    "  - 1 volume dual\n",
    "  - 1 face dual\n",
    "  - 1 edge dual (of an edge of their shared face)\n",
    "  - 1 vertex dual (of a vertex of that edge)\n",
    "\n",
    "inferrable schema of simplex[index]:<br>\n",
    "`simplex:\n",
    "    volume_dual: #volume.get_dual(self.fn),\n",
    "    face_dual: #face.get_dual(self.fn), <-- that's what we want\n",
    "    edge_dual: #edge.get_dual(self.fn),\n",
    "    vertex_dual: #v,`\n"
   ]
  },
  {
   "cell_type": "code",
   "execution_count": null,
   "id": "fa50c7df",
   "metadata": {},
   "outputs": [],
   "source": [
    "#TODO: map simplex to dict_simplex\n",
    "#TODO: map faces to a numpy array faces/vertices\n",
    "#TODO: visualize the surface with trimesh\n",
    "# isosurface | trimesh\n",
    "# simplex    | faces = a list of triples of indices indexing vertices.\n",
    "# faces      | vertices = a list of vertices."
   ]
  },
  {
   "cell_type": "code",
   "execution_count": 120,
   "id": "408a2f6c",
   "metadata": {
    "ExecuteTime": {
     "end_time": "2022-08-19T23:51:04.421185Z",
     "start_time": "2022-08-19T23:51:04.383333Z"
    }
   },
   "outputs": [
    {
     "data": {
      "text/plain": [
       "4"
      ]
     },
     "execution_count": 120,
     "metadata": {},
     "output_type": "execute_result"
    }
   ],
   "source": [
    "len(simplices[0])"
   ]
  },
  {
   "cell_type": "code",
   "execution_count": 121,
   "id": "4f48a364",
   "metadata": {
    "ExecuteTime": {
     "end_time": "2022-08-19T23:51:25.240726Z",
     "start_time": "2022-08-19T23:51:25.209028Z"
    }
   },
   "outputs": [],
   "source": [
    "import isosurfaces"
   ]
  },
  {
   "cell_type": "code",
   "execution_count": null,
   "id": "2125f7c0",
   "metadata": {},
   "outputs": [],
   "source": [
    "isosurfaces."
   ]
  },
  {
   "cell_type": "code",
   "execution_count": 115,
   "id": "fbe1e63c",
   "metadata": {
    "ExecuteTime": {
     "end_time": "2022-08-19T23:49:26.841433Z",
     "start_time": "2022-08-19T23:49:26.810255Z"
    }
   },
   "outputs": [
    {
     "data": {
      "text/plain": [
       "9.0"
      ]
     },
     "execution_count": 115,
     "metadata": {},
     "output_type": "execute_result"
    }
   ],
   "source": [
    "pos_lst.append(simplices[1][0].pos)\n",
    "simplices[1][0].val"
   ]
  },
  {
   "cell_type": "code",
   "execution_count": null,
   "id": "58176741",
   "metadata": {},
   "outputs": [],
   "source": [
    "np.concatenate(pos_lst)\n",
    "np.concatenate(val_lst)"
   ]
  },
  {
   "cell_type": "code",
   "execution_count": 109,
   "id": "ba49fb38",
   "metadata": {
    "ExecuteTime": {
     "end_time": "2022-08-19T23:48:39.681147Z",
     "start_time": "2022-08-19T23:48:39.644099Z"
    }
   },
   "outputs": [
    {
     "name": "stdout",
     "output_type": "stream",
     "text": [
      "Object `isosurfaces.point.ValuedPoint` not found.\n"
     ]
    }
   ],
   "source": [
    "isosurfaces.point.ValuedPoint"
   ]
  },
  {
   "cell_type": "code",
   "execution_count": 106,
   "id": "04679e0f",
   "metadata": {
    "ExecuteTime": {
     "end_time": "2022-08-19T23:47:45.102354Z",
     "start_time": "2022-08-19T23:47:45.072750Z"
    }
   },
   "outputs": [
    {
     "data": {
      "text/plain": [
       "[(-3.0,-3.0; 9.0), (-4.0,-3.0; 16.0), (-4.0,-4.0; 23.0), (-4.0,-4.0; 16.0)]"
      ]
     },
     "execution_count": 106,
     "metadata": {},
     "output_type": "execute_result"
    }
   ],
   "source": [
    "simplices[0]"
   ]
  },
  {
   "cell_type": "code",
   "execution_count": null,
   "id": "82c68f68",
   "metadata": {},
   "outputs": [],
   "source": []
  },
  {
   "cell_type": "code",
   "execution_count": null,
   "id": "a4970d17",
   "metadata": {},
   "outputs": [],
   "source": []
  },
  {
   "cell_type": "code",
   "execution_count": 97,
   "id": "f23532ef",
   "metadata": {
    "ExecuteTime": {
     "end_time": "2022-08-19T21:20:25.583358Z",
     "start_time": "2022-08-19T21:20:25.552554Z"
    }
   },
   "outputs": [],
   "source": [
    "\n",
    "fontsize=12\n",
    "num_samples = 1000\n",
    "marker='o'\n",
    "alpha=0.6\n",
    "markersize=150\n",
    "#DONE: plot the point cloud using the simplest possible method from matplotlib\n",
    "fig = plt.figure()\n",
    "ax = fig.add_subplot(projection='3d')\n",
    "\n",
    "# # plot the plane of fixed alinear\n",
    "# # TODO: color plane by c_values interpolated to surface\n",
    "# ax.plot_surface(xx, yy, z_obs, alpha=0.1)\n",
    "# plot the plane of fixed alinear\n",
    "# TODO: color plane by c_values interpolated to surface\n",
    "ax.plot_surface(xx, yy, z_obs, alpha=0.1)\n",
    "\n",
    "\n",
    "#format_plot\n",
    "xlabel=r'$r/L$'\n",
    "# ylabel=r'$1/\\kappa$ (s)'\n",
    "ylabel=r'$\\kappa$ (Hz)'\n",
    "zlabel=r'$a_{Linear}/L^2$ (Hz)'\n",
    "ax.set_xlabel(xlabel,fontsize=fontsize)\n",
    "ax.set_ylabel(ylabel,fontsize=fontsize)\n",
    "ax.set_zlabel(zlabel,fontsize=fontsize)\n",
    "# ax.set_xlim(xlim)\n",
    "# ax.set_ylim(ylim)\n",
    "# ax.set_zlim(zlim)\n",
    "ax.set_title(r'With $D/L^2$'+f'={x4:.4f} Hz',fontsize=fontsize)\n",
    "plt.show()"
   ]
  },
  {
   "cell_type": "code",
   "execution_count": 102,
   "id": "b474df5a",
   "metadata": {
    "ExecuteTime": {
     "end_time": "2022-08-19T21:26:00.561903Z",
     "start_time": "2022-08-19T21:26:00.541376Z"
    }
   },
   "outputs": [],
   "source": []
  },
  {
   "cell_type": "code",
   "execution_count": 96,
   "id": "9df16c8a",
   "metadata": {
    "ExecuteTime": {
     "end_time": "2022-08-19T21:19:20.064994Z",
     "start_time": "2022-08-19T21:19:20.043238Z"
    }
   },
   "outputs": [
    {
     "data": {
      "text/plain": [
       "(12.6, 1.2)"
      ]
     },
     "execution_count": 96,
     "metadata": {},
     "output_type": "execute_result"
    }
   ],
   "source": [
    "M,nu"
   ]
  },
  {
   "cell_type": "code",
   "execution_count": 86,
   "id": "cce9f19b",
   "metadata": {
    "ExecuteTime": {
     "end_time": "2022-08-19T21:18:07.827437Z",
     "start_time": "2022-08-19T21:18:07.795506Z"
    }
   },
   "outputs": [],
   "source": [
    "#TODO: estimate the exponent isosurface from the linear interpolator\n"
   ]
  },
  {
   "cell_type": "markdown",
   "id": "6db0a033",
   "metadata": {},
   "source": [
    "# TODO: dev viewer"
   ]
  },
  {
   "cell_type": "code",
   "execution_count": 14,
   "id": "9b5b04d6",
   "metadata": {
    "ExecuteTime": {
     "end_time": "2022-09-05T19:01:37.074051Z",
     "start_time": "2022-09-05T19:01:37.043818Z"
    }
   },
   "outputs": [],
   "source": [
    "#load birth death rates from the full model\n",
    "data_folder=f'{nb_dir}/data'\n",
    "os.chdir(data_folder)\n",
    "\n",
    "data_fk_fn='full_results/data_fig4_vidmar_fk_tt.csv'\n",
    "data_lr_fn='full_results/data_fig4_vidmar_lr_tt.csv'\n",
    "\n",
    "fk=pd.read_csv(data_fk_fn)\n",
    "fk['N']=fk['No2']*2\n",
    "fk['q']=fk['N']/fk['A'] #number of tips per square centimeter\n",
    "fk['w']=fk['rate']/fk['A']*10**3 #Hz/cm^2\n",
    "\n",
    "lr=pd.read_csv(data_lr_fn)\n",
    "lr['N']=lr['No2']*2\n",
    "lr['q']=lr['N']/lr['A'] #number of tips per square centimeter\n",
    "lr['w']=lr['rate']/lr['A']*10**3 #Hz/cm^2"
   ]
  },
  {
   "cell_type": "code",
   "execution_count": 11,
   "id": "c46f7500",
   "metadata": {
    "ExecuteTime": {
     "end_time": "2022-09-05T19:01:19.539192Z",
     "start_time": "2022-09-05T19:01:19.447776Z"
    }
   },
   "outputs": [
    {
     "data": {
      "text/html": [
       "<div>\n",
       "<style scoped>\n",
       "    .dataframe tbody tr th:only-of-type {\n",
       "        vertical-align: middle;\n",
       "    }\n",
       "\n",
       "    .dataframe tbody tr th {\n",
       "        vertical-align: top;\n",
       "    }\n",
       "\n",
       "    .dataframe thead th {\n",
       "        text-align: right;\n",
       "    }\n",
       "</style>\n",
       "<table border=\"1\" class=\"dataframe\">\n",
       "  <thead>\n",
       "    <tr style=\"text-align: right;\">\n",
       "      <th></th>\n",
       "      <th>varkappa</th>\n",
       "      <th>D</th>\n",
       "      <th>L</th>\n",
       "    </tr>\n",
       "  </thead>\n",
       "  <tbody>\n",
       "    <tr>\n",
       "      <th>min</th>\n",
       "      <td>1.0</td>\n",
       "      <td>0.0</td>\n",
       "      <td>10.0</td>\n",
       "    </tr>\n",
       "    <tr>\n",
       "      <th>max</th>\n",
       "      <td>110.0</td>\n",
       "      <td>0.8</td>\n",
       "      <td>10.0</td>\n",
       "    </tr>\n",
       "  </tbody>\n",
       "</table>\n",
       "</div>"
      ],
      "text/plain": [
       "     varkappa    D     L\n",
       "min       1.0  0.0  10.0\n",
       "max     110.0  0.8  10.0"
      ]
     },
     "execution_count": 11,
     "metadata": {},
     "output_type": "execute_result"
    }
   ],
   "source": [
    "# input_fn=f\"/home/timothytyree/Documents/GitHub/bgmc/python/data/osg_output/run_18_all_powerlaw_fits.csv\"\n",
    "input_fn=f\"/home/timothytyree/Documents/GitHub/bgmc/python/data/osg_output/run_17_all_powerlaw_fits.csv\"\n",
    "# input_fn=f\"{nb_dir}/data/osg_output/run_15_all_powerlaw_fits.csv\" #works for many parameter settings (L=10)\n",
    "dff=pd.read_csv(input_fn)\n",
    "dff.head()\n",
    "dff.describe().T[['min','max']].T[['varkappa','D','L']]\n",
    "# np.array(sorted(dff.varkappa.drop_duplicates().values))"
   ]
  },
  {
   "cell_type": "code",
   "execution_count": 15,
   "id": "8b7091c1",
   "metadata": {
    "ExecuteTime": {
     "end_time": "2022-09-05T19:01:54.248876Z",
     "start_time": "2022-09-05T19:01:37.313180Z"
    }
   },
   "outputs": [
    {
     "name": "stdout",
     "output_type": "stream",
     "text": [
      "estimated runtime is ~20 seconds for 17988 training samples...\n",
      "number of training examples is 17988....\n",
      "training complete!\n"
     ]
    }
   ],
   "source": [
    "#recall results from tables in the main mansucript\n",
    "wjr=recall_powerlaw_fits_to_full_models()\n",
    "\n",
    "# input_fn=f\"{nb_dir}/data/osg_output/run_15_all_powerlaw_fits.csv\"\n",
    "input_fn=f\"{nb_dir}/data/osg_output/run_17_all_powerlaw_fits.csv\" #works for many (L=10)\n",
    "L=10\n",
    "mode='vectorsummed'\n",
    "# input_fn=f\"{nb_dir}/data/osg_output/run_25_all_powerlaw_fits.csv\" # (L=5)\n",
    "# L=5\n",
    "# mode='neighboronly'\n",
    "\n",
    "input_fn_dict={'vectorsummed':input_fn,'neighboronly':input_fn}\n",
    "interp=recall_particle_model_interp(input_fn_dict=input_fn_dict,L=L,mode=mode)\n",
    "# interp=recall_particle_model_interp(input_fn_dict=input_fn_dict)"
   ]
  },
  {
   "cell_type": "code",
   "execution_count": 18,
   "id": "58fd923b",
   "metadata": {
    "ExecuteTime": {
     "end_time": "2022-09-05T19:02:07.622270Z",
     "start_time": "2022-09-05T19:02:07.187559Z"
    }
   },
   "outputs": [
    {
     "name": "stdout",
     "output_type": "stream",
     "text": [
      "a=1.553, D=0.114, r=0.055995618375196024, kappa=600.0003359088596, rmse=0.016286700173075413 (FK) fit to M=5.5997315550892965, nu=1.9066517727219523\n"
     ]
    }
   ],
   "source": [
    "#200x200, diffCO0ff=0.0005, (FK) (src: WJ)\n",
    "a=1.553  \n",
    "D=.114\n",
    "\n",
    "# #200x200, diffCO0ff=0.001, (FK) (src: TT)\n",
    "# a=1.12  *4\n",
    "# D=.365   *4\n",
    "\n",
    "model_name='fk_pbc'#;c='C0'\n",
    "#compute annihilation rates fit to the LR model\n",
    "nu_full=wjr[model_name]['m']\n",
    "M_full=wjr[model_name]['M']\n",
    "\n",
    "\n",
    "\n",
    "q_values=np.linspace(0,1,20)\n",
    "w_values=M_full*q_values**nu_full\n",
    "args=a,D,q_values,w_values,interp\n",
    "if model_name=='lr_pbc':\n",
    "    model_name_string='Luo-Rudy'\n",
    "elif model_name=='fk_pbc':\n",
    "    model_name_string='Fenton-Karma'\n",
    "else:\n",
    "    model_name_string='??'\n",
    "\n",
    "#find a best r,kappa pair for a given a,D pair for a given full model\n",
    "# args=a,D,q_values,w_values,interp\n",
    "bnds = ((1e-3, 2), (1e2, 1e4))\n",
    "x0 = (0.1, 500)\n",
    "# res = minimize(comp_rmse_via_interp, (0.1, 500), args, method='Nelder-Mead', bounds=bnds,tol=1e-3)\n",
    "res = minimize(comp_rmse_via_interp, (0.1, 500), args, method='Nelder-Mead', bounds=bnds,tol=1e-3)\n",
    "mse=comp_mse_via_interp(res.x, *args)\n",
    "rmse=np.sqrt(mse)\n",
    "\n",
    "#compute the resulting annihilation rates\n",
    "r=res.x[0]\n",
    "kappa=res.x[1]\n",
    "X=np.array([[r,kappa,a,D]])\n",
    "yhat = interp(X)\n",
    "nu=yhat[0,0]\n",
    "M=yhat[0,1]\n",
    "# M=M_full\n",
    "# nu=nu_full\n",
    "what_values=M*q_values**nu\n",
    "\n",
    "q_values_fk=q_values.copy()\n",
    "what_values_fk=what_values.copy()\n",
    "print(f\"a={a}, D={D}, r={r}, kappa={kappa}, rmse={rmse} (FK) fit to {M=}, {nu=}\")\n",
    "dict_fk=dict(r=r,kappa=kappa,nu=nu,M=M,rmse=rmse,res=res)"
   ]
  },
  {
   "cell_type": "code",
   "execution_count": 20,
   "id": "fd561848",
   "metadata": {
    "ExecuteTime": {
     "end_time": "2022-09-05T19:02:18.123390Z",
     "start_time": "2022-09-05T19:02:17.286526Z"
    }
   },
   "outputs": [
    {
     "name": "stdout",
     "output_type": "stream",
     "text": [
      "a=9.969, D=0.09, r=0.10058359731826436, kappa=586.9003694162833, rmse=0.010526946048031557 (LR) fit to M=16.718488654328976, nu=1.632170058210073\n"
     ]
    }
   ],
   "source": [
    "# #victor for LR: SMS with GammaBar computed from the average of all spiral tip observations\n",
    "# # SMS:a=9.60637, D=0.586055, r=0.11865725394705823, kappa=453.30813258922205, rmse=0.031175747845115034 (LR)\n",
    "# ahat=9.60637#rmse=0.031175747845115034 (LR)\n",
    "# # ahat=7.28148 #rmse=0.16022186827576143 (LR)\n",
    "# # MS:\n",
    "# # ahat=4.99485 # rmse=0.4555348657752726 (LR)\n",
    "# # ahat=7.13454# rmse=0.17979087126721505 (LR)\n",
    "# a=ahat;\n",
    "# a=a_hat_LR\n",
    "# D=D_hat_LR     #^those\n",
    "\n",
    "# LR 200x200, diffCoeff=0.001 (src: WJ)\n",
    "a=9.969\n",
    "D=0.09     \n",
    "# a=9.969    *4\n",
    "# D=0.09     *4\n",
    "\n",
    "# # #LR 200x200, diffCoeff=0.0005 (src: WJ)\n",
    "# a=2.767   \n",
    "# D=0.58    \n",
    "\n",
    "# a=a_hat_LR;D=D_hat_LR #rmse=0.028075538795257697 (LR)\n",
    "model_name='lr_pbc'#;c='C1'\n",
    "#compute annihilation rates fit to the LR model\n",
    "nu_full=wjr[model_name]['m']\n",
    "M_full=wjr[model_name]['M']\n",
    "q_values=np.linspace(0,1,20)\n",
    "w_values=M_full*q_values**nu_full\n",
    "\n",
    "if model_name=='lr_pbc':\n",
    "    model_name_string='Luo-Rudy'\n",
    "elif model_name=='fk_pbc':\n",
    "    model_name_string='Fenton-Karma'\n",
    "else:\n",
    "    model_name_string='??'\n",
    "\n",
    "#find a best r,kappa pair for a given a,D pair for a given full model\n",
    "args=a,D,q_values,w_values,interp\n",
    "bnds = ((1e-3, 2), (1e2, 1e4))\n",
    "x0 = (0.1, 500)\n",
    "# res = minimize(comp_rmse_via_interp, (0.1, 500), args, method='Nelder-Mead', bounds=bnds,tol=1e-3)\n",
    "res = minimize(comp_rmse_via_interp, (0.1, 500), args, method='Nelder-Mead', bounds=bnds,tol=1e-3)\n",
    "mse=comp_mse_via_interp(res.x, *args)\n",
    "rmse=np.sqrt(mse)\n",
    "#compute the resulting annihilation rates\n",
    "r=res.x[0]\n",
    "kappa=res.x[1]\n",
    "X=np.array([[r,kappa,a,D]])\n",
    "yhat = interp(X)\n",
    "nu=yhat[0,0]\n",
    "M=yhat[0,1]\n",
    "what_values=M*q_values**nu\n",
    "q_values_lr=q_values.copy()\n",
    "what_values_lr=what_values.copy()\n",
    "print(f\"a={a}, D={D}, r={r}, kappa={kappa}, rmse={rmse} (LR) fit to {M=}, {nu=}\")\n",
    "dict_lr=dict(r=r,kappa=kappa,nu=nu,M=M,rmse=rmse,res=res)"
   ]
  },
  {
   "cell_type": "code",
   "execution_count": 21,
   "id": "edb2537b",
   "metadata": {
    "ExecuteTime": {
     "end_time": "2022-09-05T19:02:18.642381Z",
     "start_time": "2022-09-05T19:02:18.198401Z"
    }
   },
   "outputs": [
    {
     "data": {
      "image/png": "[encoded data removed]",
      "text/plain": [
       "<Figure size 432x288 with 1 Axes>"
      ]
     },
     "metadata": {
      "needs_background": "light"
     },
     "output_type": "display_data"
    },
    {
     "data": {
      "text/plain": [
       "(9.969, 16.718488654328976, 1.632170058210073)"
      ]
     },
     "execution_count": 21,
     "metadata": {},
     "output_type": "execute_result"
    }
   ],
   "source": [
    "#plot the best fits when a>0\n",
    "fontsize = 20\n",
    "x1lim = [8e-2, 1.1]  #[1e-1, 1]\n",
    "x2lim = [1e-2, 25]\n",
    "xytext=(0.09, 10)\n",
    "# x1lim=[5,10]\n",
    "# x2lim=[50,350]\n",
    "figsize = (6, 4)  #(5,4)\n",
    "fig, ax = plt.subplots(figsize=figsize)\n",
    "\n",
    "#plot the full models\n",
    "ax.scatter(fk['q'].values,fk['w'].values,c='C0',alpha=0.2,s=40,label='Fenton-Karma',zorder=0)\n",
    "ax.scatter(lr['q'].values,lr['w'].values,c='C1',alpha=0.2,s=40,label='Luo-Rudy',zorder=0)\n",
    "\n",
    "#plot the result over the original annihilation rates\n",
    "plt.plot(q_values_fk,what_values_fk,'--',c='C0',label=f'_Fit to FK',alpha=1,lw=2)\n",
    "plt.plot(q_values_lr,what_values_lr,'--',c='C1',label=f'_Fit to LR',alpha=1,lw=2)\n",
    "\n",
    "#format\n",
    "FormatAxes(\n",
    "    ax,\n",
    "    x1lim=x1lim,\n",
    "    x2lim=x2lim,\n",
    "    x1label=r'$N/A$ (1/cm$^{2}$)',  #q$ (1/cm$^{2}$)',#r'$q=N/A$ (1/cm$^{2}$)',\n",
    "    x2label=\n",
    "    r'$W_{-2}/A$ (Hz/cm$^{2}$)',  #w$ (Hz/cm$^{2}$)',#r'$w=W_{-2}/A$ (Hz/cm$^{2}$)',\n",
    "    title=None,\n",
    "    fontsize=fontsize,\n",
    "    use_loglog=True)\n",
    "ax.annotate(r\"best fit ($a>0$)\", xy=(0.3, 11), xytext=xytext,fontsize=fontsize)\n",
    "leg=ax.legend(loc='lower right',fontsize=fontsize-2,frameon=False)\n",
    "for lh in leg.legendHandles: \n",
    "    lh.set_alpha(1)\n",
    "\n",
    "#mark the slope of ^that line with ~2\n",
    "x1 = 0.09\n",
    "y1 = 2\n",
    "annotation.slope_marker(origin=(x1, y1),\n",
    "                        slope=2,\n",
    "                        text_kwargs={'color': 'black','fontsize':16, 'alpha':0.7},\n",
    "                        poly_kwargs={'facecolor': (0.5, 0.5, 0.5), 'alpha':0.5},#TODO: replace with purple\n",
    "                        ax=ax)\n",
    "# #mark the slope of ^that line with ~3\n",
    "# x1 = 0.6\n",
    "# y1 = 0.3\n",
    "# annotation.slope_marker(origin=(x1, y1),\n",
    "#                         slope=3,#(3, 1),\n",
    "#                         text_kwargs={'color': 'black','fontsize':16, 'alpha':0.7},\n",
    "#                         poly_kwargs={'facecolor': (0.5, 0.5, 0.5), 'alpha':0.5},#TODO: replace with purple\n",
    "#                         ax=ax)\n",
    "plt.show()\n",
    "# print(dict_fk)\n",
    "# print(dict_lr)\n",
    "a,M,nu"
   ]
  },
  {
   "cell_type": "markdown",
   "id": "9c18078a",
   "metadata": {},
   "source": [
    "## TODO: generate a dataframe full of fits to full. compute scale invariant parameter settings, and list the good fits"
   ]
  },
  {
   "cell_type": "code",
   "execution_count": 22,
   "id": "7500b996",
   "metadata": {
    "ExecuteTime": {
     "end_time": "2022-09-05T19:02:24.133093Z",
     "start_time": "2022-09-05T19:02:24.111765Z"
    }
   },
   "outputs": [],
   "source": [
    "model_name='lr_pbc'#;c='C1'\n",
    "D=0.09*4\n",
    "#compute annihilation rates fit to the LR model\n",
    "nu_full=wjr[model_name]['m']\n",
    "M_full=wjr[model_name]['M']\n",
    "q_values=np.linspace(0,1,20)\n",
    "w_values=M_full*q_values**nu_full"
   ]
  },
  {
   "cell_type": "code",
   "execution_count": 23,
   "id": "5c8dd59d",
   "metadata": {
    "ExecuteTime": {
     "end_time": "2022-09-05T19:04:34.668807Z",
     "start_time": "2022-09-05T19:02:25.389709Z"
    }
   },
   "outputs": [],
   "source": [
    "# a_values=np.arange(1,40,1)\n",
    "# a_values=np.arange(7,14,0.5)\n",
    "a_values=np.arange(7,14,0.1)\n",
    "dict_fit_lst=[]\n",
    "for a in a_values:\n",
    "    #find a best r,kappa pair for a given a,D pair for a given full model\n",
    "    args=a,D,q_values,w_values,interp\n",
    "    bnds = ((1e-3, 2), (1e2, 1e4))\n",
    "    x0 = (0.1, 500)\n",
    "    # res = minimize(comp_rmse_via_interp, (0.1, 500), args, method='Nelder-Mead', bounds=bnds,tol=1e-3)\n",
    "    res = minimize(comp_rmse_via_interp, (0.1, 500), args, method='Nelder-Mead', bounds=bnds,tol=1e-3)\n",
    "    mse=comp_mse_via_interp(res.x, *args)\n",
    "    rmse=np.sqrt(mse)\n",
    "    #compute the resulting annihilation rates\n",
    "    r=res.x[0]\n",
    "    kappa=res.x[1]\n",
    "    X=np.array([[r,kappa,a,D]])\n",
    "    yhat = interp(X)\n",
    "    nu=yhat[0,0]\n",
    "    M=yhat[0,1]\n",
    "    what_values=M*q_values**nu\n",
    "    q_values_lr=q_values.copy()\n",
    "    what_values_lr=what_values.copy()\n",
    "    #print(f\"a={a}, D={D}, r={r}, kappa={kappa}, rmse={rmse} (LR) fit to {M=}, {nu=}\")\n",
    "    # dict_lr=dict(r=r,kappa=kappa,nu=nu,M=M,rmse=rmse,res=res)\n",
    "    dict_fit=dict(a=a,D=D,r=r,kappa=kappa,nu=nu,M=M,rmse=rmse)\n",
    "    #record\n",
    "    dict_fit_lst.append(dict_fit)\n",
    "df_fit_lr=pd.DataFrame(dict_fit_lst)"
   ]
  },
  {
   "cell_type": "code",
   "execution_count": 24,
   "id": "039bf134",
   "metadata": {
    "ExecuteTime": {
     "end_time": "2022-09-05T19:04:34.760766Z",
     "start_time": "2022-09-05T19:04:34.744527Z"
    }
   },
   "outputs": [],
   "source": [
    "model_name='fk_pbc'#;c='C1'\n",
    "D=0.114*4 #*4 to account for L=5 --> L=10\n",
    "#compute annihilation rates fit to the LR model\n",
    "nu_full=wjr[model_name]['m']\n",
    "M_full=wjr[model_name]['M']\n",
    "q_values=np.linspace(0,1,20)\n",
    "w_values=M_full*q_values**nu_full"
   ]
  },
  {
   "cell_type": "code",
   "execution_count": 25,
   "id": "1ea0566d",
   "metadata": {
    "ExecuteTime": {
     "end_time": "2022-09-05T19:06:35.463308Z",
     "start_time": "2022-09-05T19:04:34.835127Z"
    }
   },
   "outputs": [],
   "source": [
    "# a_values=np.arange(1,40,1)\n",
    "# a_values=np.arange(1,4,0.1)\n",
    "a_values=np.arange(1,4,0.02)\n",
    "dict_fit_lst=[]\n",
    "for a in a_values:\n",
    "    #find a best r,kappa pair for a given a,D pair for a given full model\n",
    "    args=a,D,q_values,w_values,interp\n",
    "    bnds = ((1e-3, 2), (1e2, 1e4))\n",
    "    x0 = (0.1, 500)\n",
    "    # res = minimize(comp_rmse_via_interp, (0.1, 500), args, method='Nelder-Mead', bounds=bnds,tol=1e-3)\n",
    "    res = minimize(comp_rmse_via_interp, (0.1, 500), args, method='Nelder-Mead', bounds=bnds,tol=1e-3)\n",
    "    mse=comp_mse_via_interp(res.x, *args)\n",
    "    rmse=np.sqrt(mse)\n",
    "    #compute the resulting annihilation rates\n",
    "    r=res.x[0]\n",
    "    kappa=res.x[1]\n",
    "    X=np.array([[r,kappa,a,D]])\n",
    "    yhat = interp(X)\n",
    "    nu=yhat[0,0]\n",
    "    M=yhat[0,1]\n",
    "    what_values=M*q_values**nu\n",
    "    q_values_lr=q_values.copy()\n",
    "    what_values_lr=what_values.copy()\n",
    "    #print(f\"a={a}, D={D}, r={r}, kappa={kappa}, rmse={rmse} (LR) fit to {M=}, {nu=}\")\n",
    "    # dict_lr=dict(r=r,kappa=kappa,nu=nu,M=M,rmse=rmse,res=res)\n",
    "    dict_fit=dict(a=a,D=D,r=r,kappa=kappa,nu=nu,M=M,rmse=rmse)\n",
    "    #record\n",
    "    dict_fit_lst.append(dict_fit)\n",
    "df_fit_fk=pd.DataFrame(dict_fit_lst)"
   ]
  },
  {
   "cell_type": "code",
   "execution_count": 26,
   "id": "cf84f68a",
   "metadata": {
    "ExecuteTime": {
     "end_time": "2022-09-05T19:06:35.569259Z",
     "start_time": "2022-09-05T19:06:35.550599Z"
    }
   },
   "outputs": [],
   "source": [
    "L=10\n",
    "df_fit_fk['x1']=df_fit_fk['r']/L\n",
    "df_fit_fk['x2']=1/df_fit_fk['kappa']\n",
    "df_fit_fk['x3']=df_fit_fk['a']/L**2\n",
    "df_fit_lr['x1']=df_fit_lr['r']/L\n",
    "df_fit_lr['x2']=1/df_fit_lr['kappa']\n",
    "df_fit_lr['x3']=df_fit_lr['a']/L**2\n",
    "\n",
    "xlabel=r'$r/L$'\n",
    "ylabel=r'$1/\\kappa$ (s)'\n",
    "# ylabel=r'$\\kappa$ (Hz)'\n",
    "zlabel=r'$a_{Linear}/L^2$ (Hz)'"
   ]
  },
  {
   "cell_type": "code",
   "execution_count": 34,
   "id": "663eb3a7",
   "metadata": {
    "ExecuteTime": {
     "end_time": "2022-09-05T19:10:35.218029Z",
     "start_time": "2022-09-05T19:10:35.195642Z"
    }
   },
   "outputs": [],
   "source": [
    "#extract desired plot points\n",
    "# rmse_max=0.25\n",
    "rmse_max=0.25\n",
    "df_fit = df_fit_fk[df_fit_fk['rmse']<=rmse_max].copy()\n",
    "# df_fit = df_fit_fk.copy()\n",
    "x1_values_fk=df_fit['x1'].values\n",
    "x2_values_fk=df_fit['x2'].values\n",
    "x3_values_fk=df_fit['x3'].values\n",
    "c_values_fk =df_fit['rmse'].values\n",
    "\n",
    "df_fit = df_fit_lr[df_fit_lr['rmse']<=rmse_max].copy()\n",
    "# df_fit = df_fit_lr.copy()\n",
    "x1_values_lr=df_fit['x1'].values\n",
    "x2_values_lr=df_fit['x2'].values\n",
    "x3_values_lr=df_fit['x3'].values\n",
    "c_values_lr =df_fit['rmse'].values\n"
   ]
  },
  {
   "cell_type": "code",
   "execution_count": 35,
   "id": "cf8d3ad5",
   "metadata": {
    "ExecuteTime": {
     "end_time": "2022-09-05T19:10:35.709299Z",
     "start_time": "2022-09-05T19:10:35.692989Z"
    }
   },
   "outputs": [],
   "source": [
    "# DONE: compute c_values interpolated to surface\n",
    "xlim=[0,0.02]\n",
    "ylim=[0,0.02]\n",
    "zlim=[0,0.15]\n",
    "# zlim=[0,0.5]\n",
    "# xlim=[0.005, 0.05]\n",
    "# ylim=[0.0006666666666666666, 0.01]\n",
    "# zlim=[0.01, 1.1]\n",
    "\n",
    "# xx, yy = np.meshgrid(np.linspace(ylim[0],ylim[1],10),np.linspace(xlim[0],xlim[1],10))\n",
    "xx, yy = np.meshgrid(np.linspace(xlim[0],xlim[1],10),np.linspace(ylim[0],ylim[1],10))\n"
   ]
  },
  {
   "cell_type": "code",
   "execution_count": 36,
   "id": "95185a47",
   "metadata": {
    "ExecuteTime": {
     "end_time": "2022-09-05T19:10:36.232858Z",
     "start_time": "2022-09-05T19:10:36.010400Z"
    }
   },
   "outputs": [
    {
     "data": {
      "image/png": "[encoded data removed]",
      "text/plain": [
       "<Figure size 504x504 with 3 Axes>"
      ]
     },
     "metadata": {
      "needs_background": "light"
     },
     "output_type": "display_data"
    },
    {
     "name": "stdout",
     "output_type": "stream",
     "text": [
      "indicated is (shaded plane) alinear1=2.76 cm^2/s (LR)\n",
      "indicated is (shaded plane) alinear2=1.12 cm^2/s (FK)\n"
     ]
    }
   ],
   "source": [
    "fontsize=10\n",
    "num_samples = 1000\n",
    "marker='o'\n",
    "alpha=0.6\n",
    "markersize=150\n",
    "fig = plt.figure(figsize=(7,7))\n",
    "ax = fig.add_subplot(projection='3d')\n",
    "ax.view_init(elev=5., azim=25)\n",
    "#plot the approximate of the singular learning theory\n",
    "c1=ax.scatter(x1_values_fk,x2_values_fk,x3_values_fk,c=c_values_fk,\n",
    "           marker=marker,alpha=alpha,s=markersize,cmap='Blues_r')\n",
    "c2=ax.scatter(x1_values_lr,x2_values_lr,x3_values_lr,c=c_values_lr,\n",
    "           marker=marker,alpha=alpha,s=markersize,cmap='Oranges_r')\n",
    "#add formated colorbar\n",
    "# fontsize=14\n",
    "fraction=0.07\n",
    "shrink=0.85\n",
    "aspect=35\n",
    "orientation='horizontal'\n",
    "\n",
    "cbar_label=r'RMSE (Hz/cm$^2$)'\n",
    "cax, kw = mpl.colorbar.make_axes_gridspec(ax, orientation=orientation,#pad=0.1,\n",
    "                                       fraction=fraction, shrink=shrink, aspect=aspect)\n",
    "cbar=fig.colorbar(c1, cax=cax, orientation=orientation)#,cmap=cmap)#,norm=norm)##, extend='max')#, fontsize=fontsize)\n",
    "cbar.ax.tick_params(labelsize=fontsize)\n",
    "cbar.set_label(label=cbar_label,size=fontsize)\n",
    "\n",
    "cax, kw = mpl.colorbar.make_axes_gridspec(ax, orientation=orientation,#pad=0.1,\n",
    "                                       fraction=fraction, shrink=shrink, aspect=aspect)\n",
    "cbar=fig.colorbar(c2, cax=cax, orientation=orientation)#,cmap=cmap)#,norm=norm)##, extend='max')#, fontsize=fontsize)\n",
    "cbar.ax.tick_params(labelsize=fontsize)\n",
    "cbar.set_label(label=cbar_label,size=fontsize)\n",
    "\n",
    "# plot the plane of fixed alinear\n",
    "# TODO: color plane by c_values interpolated to surface\n",
    "# alinear1=9.969\n",
    "L_=5\n",
    "# L_=10\n",
    "alinear1=2.76\n",
    "z_obs = 0.*xx - 0.*yy + alinear1/(L_**2)\n",
    "ax.plot_surface(xx, yy, z_obs, alpha=0.2,color='C1')\n",
    "\n",
    "# alinear2=1.553\n",
    "alinear2=1.12\n",
    "z_obs = 0.*xx - 0.*yy + alinear2/(L_**2)\n",
    "ax.plot_surface(xx, yy, z_obs, alpha=0.2,color='C0')\n",
    "\n",
    "title=f'a_FK={alinear2}, a_LR={alinear1} cm^2/s'\n",
    "\n",
    "#format_plot\n",
    "# zlim=[0,0.1]\n",
    "ax.set_xlabel(xlabel,fontsize=fontsize)\n",
    "ax.set_ylabel(ylabel,fontsize=fontsize)\n",
    "ax.set_zlabel(zlabel,fontsize=fontsize)\n",
    "# ax.set_xlim(xlim)\n",
    "# ax.set_ylim(ylim)\n",
    "ax.set_title(title,fontsize=fontsize)\n",
    "ax.set_zlim(zlim)\n",
    "plt.show()\n",
    "print(f\"indicated is (shaded plane) {alinear1=} cm^2/s (LR)\")\n",
    "print(f\"indicated is (shaded plane) {alinear2=} cm^2/s (FK)\")"
   ]
  },
  {
   "cell_type": "code",
   "execution_count": 38,
   "id": "72f1b2c8",
   "metadata": {
    "ExecuteTime": {
     "end_time": "2022-09-05T19:11:15.730419Z",
     "start_time": "2022-09-05T19:11:15.706573Z"
    }
   },
   "outputs": [
    {
     "data": {
      "text/html": [
       "<div>\n",
       "<style scoped>\n",
       "    .dataframe tbody tr th:only-of-type {\n",
       "        vertical-align: middle;\n",
       "    }\n",
       "\n",
       "    .dataframe tbody tr th {\n",
       "        vertical-align: top;\n",
       "    }\n",
       "\n",
       "    .dataframe thead th {\n",
       "        text-align: right;\n",
       "    }\n",
       "</style>\n",
       "<table border=\"1\" class=\"dataframe\">\n",
       "  <thead>\n",
       "    <tr style=\"text-align: right;\">\n",
       "      <th></th>\n",
       "      <th>min</th>\n",
       "      <th>max</th>\n",
       "    </tr>\n",
       "  </thead>\n",
       "  <tbody>\n",
       "    <tr>\n",
       "      <th>r</th>\n",
       "      <td>0.050000</td>\n",
       "      <td>0.067000</td>\n",
       "    </tr>\n",
       "    <tr>\n",
       "      <th>kappa</th>\n",
       "      <td>476.793577</td>\n",
       "      <td>623.483606</td>\n",
       "    </tr>\n",
       "  </tbody>\n",
       "</table>\n",
       "</div>"
      ],
      "text/plain": [
       "              min         max\n",
       "r        0.050000    0.067000\n",
       "kappa  476.793577  623.483606"
      ]
     },
     "execution_count": 38,
     "metadata": {},
     "output_type": "execute_result"
    }
   ],
   "source": [
    "#DONE: determine reasonable bounds for r and kappa for run #26\n",
    "rmse_max=0.05\n",
    "df_fit = df_fit_fk[df_fit_fk['rmse']<=rmse_max].copy()\n",
    "df_fit[['r','kappa']].describe().T[['min','max']]"
   ]
  },
  {
   "cell_type": "code",
   "execution_count": 39,
   "id": "e9eee28d",
   "metadata": {
    "ExecuteTime": {
     "end_time": "2022-09-05T19:11:38.955709Z",
     "start_time": "2022-09-05T19:11:38.927241Z"
    }
   },
   "outputs": [
    {
     "data": {
      "text/html": [
       "<div>\n",
       "<style scoped>\n",
       "    .dataframe tbody tr th:only-of-type {\n",
       "        vertical-align: middle;\n",
       "    }\n",
       "\n",
       "    .dataframe tbody tr th {\n",
       "        vertical-align: top;\n",
       "    }\n",
       "\n",
       "    .dataframe thead th {\n",
       "        text-align: right;\n",
       "    }\n",
       "</style>\n",
       "<table border=\"1\" class=\"dataframe\">\n",
       "  <thead>\n",
       "    <tr style=\"text-align: right;\">\n",
       "      <th></th>\n",
       "      <th>min</th>\n",
       "      <th>max</th>\n",
       "    </tr>\n",
       "  </thead>\n",
       "  <tbody>\n",
       "    <tr>\n",
       "      <th>r</th>\n",
       "      <td>0.088305</td>\n",
       "      <td>0.173811</td>\n",
       "    </tr>\n",
       "    <tr>\n",
       "      <th>kappa</th>\n",
       "      <td>259.873907</td>\n",
       "      <td>679.263519</td>\n",
       "    </tr>\n",
       "  </tbody>\n",
       "</table>\n",
       "</div>"
      ],
      "text/plain": [
       "              min         max\n",
       "r        0.088305    0.173811\n",
       "kappa  259.873907  679.263519"
      ]
     },
     "execution_count": 39,
     "metadata": {},
     "output_type": "execute_result"
    }
   ],
   "source": [
    "rmse_max=0.05\n",
    "df_fit = df_fit_lr[df_fit_lr['rmse']<=rmse_max].copy()\n",
    "df_fit[['r','kappa']].describe().T[['min','max']]"
   ]
  },
  {
   "cell_type": "code",
   "execution_count": 33,
   "id": "a401370c",
   "metadata": {
    "ExecuteTime": {
     "end_time": "2022-09-05T19:10:18.306621Z",
     "start_time": "2022-09-05T19:10:18.285048Z"
    }
   },
   "outputs": [
    {
     "data": {
      "text/html": [
       "<div>\n",
       "<style scoped>\n",
       "    .dataframe tbody tr th:only-of-type {\n",
       "        vertical-align: middle;\n",
       "    }\n",
       "\n",
       "    .dataframe tbody tr th {\n",
       "        vertical-align: top;\n",
       "    }\n",
       "\n",
       "    .dataframe thead th {\n",
       "        text-align: right;\n",
       "    }\n",
       "</style>\n",
       "<table border=\"1\" class=\"dataframe\">\n",
       "  <thead>\n",
       "    <tr style=\"text-align: right;\">\n",
       "      <th></th>\n",
       "      <th>min</th>\n",
       "      <th>max</th>\n",
       "    </tr>\n",
       "  </thead>\n",
       "  <tbody>\n",
       "    <tr>\n",
       "      <th>r</th>\n",
       "      <td>0.05</td>\n",
       "      <td>0.137321</td>\n",
       "    </tr>\n",
       "    <tr>\n",
       "      <th>kappa</th>\n",
       "      <td>100.00</td>\n",
       "      <td>623.483606</td>\n",
       "    </tr>\n",
       "  </tbody>\n",
       "</table>\n",
       "</div>"
      ],
      "text/plain": [
       "          min         max\n",
       "r        0.05    0.137321\n",
       "kappa  100.00  623.483606"
      ]
     },
     "execution_count": 33,
     "metadata": {},
     "output_type": "execute_result"
    }
   ],
   "source": [
    "# kappa from 200 to 1000\n",
    "# r from 0.02 to 0.2"
   ]
  },
  {
   "cell_type": "code",
   "execution_count": null,
   "id": "16d2ee60",
   "metadata": {},
   "outputs": [],
   "source": []
  },
  {
   "cell_type": "code",
   "execution_count": null,
   "id": "5d73dd8c",
   "metadata": {},
   "outputs": [],
   "source": [
    "#heretim\n",
    "#TODO: approximate the singular learning theory with scatter plots"
   ]
  },
  {
   "cell_type": "code",
   "execution_count": null,
   "id": "4d0e067b",
   "metadata": {},
   "outputs": [],
   "source": [
    "#heretim\n",
    "#GOAL: visualize slt\n",
    "#DONE: grid search over a for estimating r,kappa,rmse holding D fixed\n",
    "\n",
    "#TODO: scatter plot all a,D values with rmse<0.1 in the scale invariant parameter representation\n",
    "#DONE: plot the point cloud using the simplest possible method from matplotlib\n",
    "fig = plt.figure()\n",
    "ax = fig.add_subplot(projection='3d')\n",
    "\n",
    "#load libraries for color bar\n",
    "from matplotlib.cm import ScalarMappable\n",
    "import matplotlib.colors as colors\n",
    "import matplotlib.cbook as cbook\n",
    "from matplotlib import cm\n",
    "#def plotter_3dpoint_cloud_sample(az,...):\n",
    "fontsize=12\n",
    "num_samples = 1000\n",
    "marker='o'\n",
    "alpha=0.6\n",
    "markersize=150\n",
    "# markersize=300\n",
    "# xlim=[0.005, 0.05]\n",
    "# ylim=[0.00066, 0.01]\n",
    "# zlim=[0.01, 1.1]\n",
    "\n",
    "vmin=None\n",
    "vmax=None\n",
    "#create a continuous norm to map from data points to colors\n",
    "if vmin is None:\n",
    "    vmin=c_values.min()\n",
    "if vmax is None:\n",
    "    vmax=c_values.max()\n",
    "norm = plt.Normalize(vmin, vmax)\n",
    "\n",
    "# ax.set_title(title_str,fontsize=fontsize)\n",
    "ax.set_title(title_str,fontsize=fontsize+8)\n",
    "# cmap='viridis'\n",
    "# ax.scatter(x_values,y_values,z_values,marker=marker,alpha=alpha,s=markersize,cmap=cmap,c=c_values)\n",
    "ax.scatter(x_values_selected,y_values_selected,z_values_selected,\n",
    "           c=c_values_selected,\n",
    "           marker=marker,alpha=alpha,s=markersize,cmap=cmap)\n",
    "#format_plot\n",
    "ax.set_xlabel(xlabel,fontsize=fontsize)\n",
    "ax.set_ylabel(ylabel,fontsize=fontsize)\n",
    "ax.set_zlabel(zlabel,fontsize=fontsize)\n",
    "ax.set_xlim(xlim)\n",
    "ax.set_ylim(ylim)\n",
    "ax.set_zlim(zlim)\n",
    "plt.show()\n",
    "print(f\"indicated is (shaded plane) {alinear=} cm^2/s.\")"
   ]
  },
  {
   "cell_type": "code",
   "execution_count": null,
   "id": "9ecd03dc",
   "metadata": {},
   "outputs": [],
   "source": []
  },
  {
   "cell_type": "code",
   "execution_count": null,
   "id": "163d0df5",
   "metadata": {},
   "outputs": [],
   "source": []
  },
  {
   "cell_type": "markdown",
   "id": "7e17a0b9",
   "metadata": {},
   "source": [
    "# TODO(later): simple scatter plot of the where the fit is best using the Boltzman distribution, as before.\n",
    "- with M given, fixed\n",
    "- with nu given, fixed\n",
    "- least square loss regression"
   ]
  },
  {
   "cell_type": "code",
   "execution_count": null,
   "id": "dafad212",
   "metadata": {
    "ExecuteTime": {
     "end_time": "2022-08-19T20:50:46.966399Z",
     "start_time": "2022-08-19T20:50:46.966386Z"
    }
   },
   "outputs": [],
   "source": [
    "M=wjr['fk_pbc']['M']\n",
    "m=wjr['fk_pbc']['m']\n",
    "# M=wjr['lr_pbc']['M']\n",
    "# m=wjr['lr_pbc']['m']"
   ]
  },
  {
   "cell_type": "code",
   "execution_count": null,
   "id": "c31181fd",
   "metadata": {
    "ExecuteTime": {
     "end_time": "2022-08-19T20:50:46.967355Z",
     "start_time": "2022-08-19T20:50:46.967343Z"
    }
   },
   "outputs": [],
   "source": [
    "# input_fn=f\"/home/timothytyree/Documents/GitHub/bgmc/python/data/osg_output/run_24_all_powerlaw_fits.csv\"\n",
    "# input_fn=f\"/home/timothytyree/Documents/GitHub/bgmc/python/data/osg_output/run_25_all_powerlaw_fits.csv\"\n",
    "# input_fn=f\"/home/timothytyree/Documents/GitHub/bgmc/python/data/osg_output/run_17_all_powerlaw_fits.csv\"\n",
    "# input_fn=f\"/home/timothytyree/Documents/GitHub/bgmc/python/data/osg_output/run_19_all_powerlaw_fits.csv\"\n",
    "powerlaw_fits_dir='/home/timothytyree/Documents/GitHub/bgmc/python/data/osg_output/powerlaw_fits_aggregated_neighbors_1.csv'\n",
    "input_fn=str(powerlaw_fits_dir)\n",
    "print(f\"{input_fn=}\")\n",
    "df=pd.read_csv(input_fn)\n",
    "df = comp_rmse_powerlaw(df,M=M,m=m,dq=0.05)\n",
    "# df = comp_rmse_powerlaw(df,q_values,M,m,dq=0.05)\n",
    "df.sort_values(by='rmse',inplace=True)\n",
    "df['rmse'].values"
   ]
  },
  {
   "cell_type": "code",
   "execution_count": null,
   "id": "5f1ff5d8",
   "metadata": {},
   "outputs": [],
   "source": []
  },
  {
   "cell_type": "code",
   "execution_count": null,
   "id": "bedd3570",
   "metadata": {
    "ExecuteTime": {
     "end_time": "2022-08-19T20:50:46.968737Z",
     "start_time": "2022-08-19T20:50:46.968713Z"
    }
   },
   "outputs": [],
   "source": [
    "#DONE: plot the point cloud using the simplest possible method from matplotlib\n",
    "fig = plt.figure()\n",
    "ax = fig.add_subplot(projection='3d')\n",
    "\n",
    "#load libraries for color bar\n",
    "from matplotlib.cm import ScalarMappable\n",
    "import matplotlib.colors as colors\n",
    "import matplotlib.cbook as cbook\n",
    "from matplotlib import cm\n",
    "#def plotter_3dpoint_cloud_sample(az,...):\n",
    "fontsize=12\n",
    "num_samples = 1000\n",
    "marker='o'\n",
    "alpha=0.6\n",
    "markersize=150\n",
    "# markersize=300\n",
    "# xlim=[0.005, 0.05]\n",
    "# ylim=[0.00066, 0.01]\n",
    "# zlim=[0.01, 1.1]\n",
    "\n",
    "vmin=None\n",
    "vmax=None\n",
    "#create a continuous norm to map from data points to colors\n",
    "if vmin is None:\n",
    "    vmin=c_values.min()\n",
    "if vmax is None:\n",
    "    vmax=c_values.max()\n",
    "norm = plt.Normalize(vmin, vmax)\n",
    "\n",
    "# ax.set_title(title_str,fontsize=fontsize)\n",
    "ax.set_title(title_str,fontsize=fontsize+8)\n",
    "# cmap='viridis'\n",
    "# ax.scatter(x_values,y_values,z_values,marker=marker,alpha=alpha,s=markersize,cmap=cmap,c=c_values)\n",
    "ax.scatter(x_values_selected,y_values_selected,z_values_selected,\n",
    "           c=c_values_selected,\n",
    "           marker=marker,alpha=alpha,s=markersize,cmap=cmap)\n",
    "\n",
    "booD=D_values_selected>0\n",
    "ax.scatter(x_values_selected[booD],y_values_selected[booD],z_values_selected[booD],\n",
    "           c=c_values_selected[booD],\n",
    "           marker='^',alpha=alpha,s=markersize,cmap=cmap)\n",
    "\n",
    "\n",
    "# N = 100\n",
    "# X, Y = np.mgrid[-3:3:complex(0, N), -2:2:complex(0, N)]\n",
    "# # A low hump with a spike coming out of the top right.  Needs to have\n",
    "# # z/colour axis on a log scale so we see both hump and spike.  linear\n",
    "# # scale only shows the spike.\n",
    "# Z1 = np.exp(-X**2 - Y**2)\n",
    "# Z2 = np.exp(-(X * 10)**2 - (Y * 10)**2)\n",
    "# Z = Z1 + 50 * Z2\n",
    "\n",
    "# # fig, ax = plt.subplots(2, 1)\n",
    "norm=colors.LogNorm(vmin=vmin, vmax=vmax)\n",
    "# pcm = ax[0].pcolor(X, Y, Z,\n",
    "#                    norm=colors.LogNorm(vmin=Z.min(), vmax=Z.max()),\n",
    "#                    cmap='PuBu_r', shading='auto')\n",
    "# fig.colorbar(pcm, ax=ax[0], extend='max')\n",
    "\n",
    "\n",
    "#plot color bar\n",
    "# fig.colorbar(ScalarMappable(norm=norm, cmap=cmap), ax=ax)\n",
    "# cmap='PuBu_r'\n",
    "plt.subplots_adjust(bottom=0.1, right=0.8, top=0.9)\n",
    "#vertical color bar\n",
    "# # cax = plt.axes([0.85, 0.1, 0.075, 0.8])\n",
    "# cax = plt.axes([0.85, 0.2, 0.025, 0.65])\n",
    "# plt.colorbar(ScalarMappable(norm=norm, cmap=cmap),cax=cax,label='RMSE of w(q) (Hz)',extend='max')\n",
    "#horizontal color bar\n",
    "w=.3\n",
    "h=.25\n",
    "cax = plt.axes([0.25, 0, 0.25+w, -0.2+h])\n",
    "plt.colorbar(ScalarMappable(norm=norm, cmap=cmap),cax=cax,label='RMSE of w(q) (Hz)',extend='max',\n",
    "            orientation=\"horizontal\", pad=0.)#,textsize=fontsize)#,\n",
    "\n",
    "# plot the plane of fixed alinear\n",
    "# TODO: color plane by c_values interpolated to surface\n",
    "ax.plot_surface(xx, yy, z_obs, alpha=0.1)\n",
    "\n",
    "\n",
    "#format_plot\n",
    "ax.set_xlabel(xlabel,fontsize=fontsize)\n",
    "ax.set_ylabel(ylabel,fontsize=fontsize)\n",
    "ax.set_zlabel(zlabel,fontsize=fontsize)\n",
    "ax.set_xlim(xlim)\n",
    "ax.set_ylim(ylim)\n",
    "ax.set_zlim(zlim)\n",
    "plt.show()\n",
    "print(f\"indicated is (shaded plane) {alinear=} cm^2/s.\")"
   ]
  },
  {
   "cell_type": "code",
   "execution_count": null,
   "id": "a53fa49b",
   "metadata": {},
   "outputs": [],
   "source": []
  },
  {
   "cell_type": "markdown",
   "id": "2a02ed73",
   "metadata": {
    "ExecuteTime": {
     "end_time": "2022-08-19T19:22:41.286227Z",
     "start_time": "2022-08-19T19:22:41.286201Z"
    }
   },
   "source": [
    "# demonstration of local extrema by sign of parametric defect"
   ]
  },
  {
   "cell_type": "code",
   "execution_count": 196,
   "id": "3f5b4d62",
   "metadata": {
    "ExecuteTime": {
     "end_time": "2022-08-24T22:12:31.319499Z",
     "start_time": "2022-08-24T22:12:31.100153Z"
    }
   },
   "outputs": [
    {
     "name": "stdout",
     "output_type": "stream",
     "text": [
      "magnitude:\n",
      "dnu_hat=nan\n",
      "dnu_hat=nan\n",
      "dnu_hat=nan\n",
      "dnu_hat=-11.26965356438363\n",
      "dnu_hat=nan\n",
      "dnu_hat=-10.982641211213961\n",
      "dnu_hat=-11.209296292367823\n",
      "dnu_hat=-10.594962190337373\n",
      "\n",
      "exponent:\n",
      "dnu_hat=nan\n",
      "dnu_hat=nan\n",
      "dnu_hat=nan\n",
      "dnu_hat=2.8834698272332107\n",
      "dnu_hat=nan\n",
      "dnu_hat=38.48232835903418\n",
      "dnu_hat=33.643018641851825\n",
      "dnu_hat=437.569586444785\n"
     ]
    }
   ],
   "source": [
    "#NOTE: linear program is apparently not working for sign test...\n",
    "#COROLLARY: --> supports desired manifold supporting local maxima for both target parameters (M,nu)\n",
    "def test_interp_defect_3d_crosses_zero(foo,x1lim,x2lim,x3lim,printing=True):\n",
    "    \"\"\"test that dnu crosses zero somewhere before looking for manifolds where dnu crosses zero using linear programming...\n",
    "    Example Usage:\n",
    "has_positive,has_negative = test_interp_defect_3d_crosses_zero(interp_exponent_defect,x1lim,x2lim,x3lim)#,printing=True)\n",
    "assert (has_positive)\n",
    "assert (has_negative)\n",
    "    \"\"\"\n",
    "    interp_exponent_defect = foo\n",
    "    has_positive=False\n",
    "    has_negative=False\n",
    "    dnu_hat = interp_exponent_defect(x=np.array([x1lim[0], x2lim[0], x3lim[0]]))\n",
    "    if printing: print(f\"{dnu_hat=}\")\n",
    "    has_positive |= dnu_hat>0\n",
    "    has_negative |= dnu_hat<0\n",
    "    dnu_hat = interp_exponent_defect(x=np.array([x1lim[1], x2lim[0], x3lim[0]]))\n",
    "    if printing: print(f\"{dnu_hat=}\")\n",
    "    has_positive |= dnu_hat>0\n",
    "    has_negative |= dnu_hat<0\n",
    "    dnu_hat = interp_exponent_defect(x=np.array([x1lim[0], x2lim[1], x3lim[0]]))\n",
    "    if printing: print(f\"{dnu_hat=}\")\n",
    "    has_positive |= dnu_hat>0\n",
    "    has_negative |= dnu_hat<0\n",
    "    dnu_hat = interp_exponent_defect(x=np.array([x1lim[0], x2lim[0], x3lim[1]]))\n",
    "    if printing: print(f\"{dnu_hat=}\")\n",
    "    has_positive |= dnu_hat>0\n",
    "    has_negative |= dnu_hat<0\n",
    "    dnu_hat = interp_exponent_defect(x=np.array([x1lim[1], x2lim[1], x3lim[0]]))\n",
    "    if printing: print(f\"{dnu_hat=}\")\n",
    "    has_positive |= dnu_hat>0\n",
    "    has_negative |= dnu_hat<0\n",
    "    dnu_hat = interp_exponent_defect(x=np.array([x1lim[1], x2lim[0], x3lim[1]]))\n",
    "    if printing: print(f\"{dnu_hat=}\")\n",
    "    has_positive |= dnu_hat>0\n",
    "    has_negative |= dnu_hat<0\n",
    "    dnu_hat = interp_exponent_defect(x=np.array([x1lim[0], x2lim[1], x3lim[1]]))\n",
    "    if printing: print(f\"{dnu_hat=}\")\n",
    "    has_positive |= dnu_hat>0\n",
    "    has_negative |= dnu_hat<0\n",
    "    dnu_hat = interp_exponent_defect(x=np.array([x1lim[1], x2lim[1], x3lim[1]]))\n",
    "    has_positive |= dnu_hat>0\n",
    "    has_negative |= dnu_hat<0\n",
    "    if printing: print(f\"{dnu_hat=}\")\n",
    "    return has_positive,has_negative\n",
    "\n",
    "print(f\"magnitude:\")\n",
    "# test that dM crosses zero somewhere before looking for manifolds where dM crosses zero using linear programming...\n",
    "has_positive,has_negative = test_interp_defect_3d_crosses_zero(interp_magnitude_defect,x1lim,x2lim,x3lim)#,printing=True)\n",
    "# assert (has_positive)#fails\n",
    "# assert (has_negative)#fails\n",
    "print(f\"\\nexponent:\")\n",
    "# test that dnu crosses zero somewhere before looking for manifolds where dnu crosses zero using linear programming...\n",
    "has_positive,has_negative = test_interp_defect_3d_crosses_zero(interp_exponent_defect,x1lim,x2lim,x3lim)#,printing=True)\n",
    "# assert (has_positive)#fails\n",
    "# assert (has_negative)#fails"
   ]
  },
  {
   "cell_type": "markdown",
   "id": "1ad8f51e",
   "metadata": {},
   "source": [
    "# TODO: generate a reasonably spaced subsample of the singular learning theory"
   ]
  },
  {
   "cell_type": "markdown",
   "id": "ad35561e",
   "metadata": {},
   "source": [
    "- --> dev next run_26 with these values (just save to .csv and load it from .csv in ../bgmc/c/attractive/src/ and print them, as before.)<br>\n",
    "`../bgmc/c/attractive/src/`"
   ]
  },
  {
   "cell_type": "code",
   "execution_count": null,
   "id": "ae76b6fa",
   "metadata": {},
   "outputs": [],
   "source": []
  },
  {
   "cell_type": "code",
   "execution_count": null,
   "id": "f93b94ad",
   "metadata": {},
   "outputs": [],
   "source": []
  },
  {
   "cell_type": "markdown",
   "id": "952ac65f",
   "metadata": {},
   "source": [
    "# i don't think scipy.ndimage.map_coordinates is worth spending too much time on..."
   ]
  },
  {
   "cell_type": "code",
   "execution_count": 272,
   "id": "e2dd1419",
   "metadata": {
    "ExecuteTime": {
     "end_time": "2022-09-04T23:09:14.031435Z",
     "start_time": "2022-09-04T23:09:14.007634Z"
    }
   },
   "outputs": [],
   "source": [
    "# # scipy.ndimage.map_coordinates?\n",
    "# from inspect import getsource\n",
    "# print(getsource(scipy.ndimage.map_coordinates))"
   ]
  },
  {
   "cell_type": "code",
   "execution_count": 273,
   "id": "e3e6b76f",
   "metadata": {
    "ExecuteTime": {
     "end_time": "2022-09-04T23:11:46.528017Z",
     "start_time": "2022-09-04T23:11:46.509610Z"
    }
   },
   "outputs": [],
   "source": [
    "# @docfiller\n",
    "# def map_coordinates(input, coordinates, output=None, order=3,\n",
    "#                     mode='constant', cval=0.0, prefilter=True):\n",
    "#     \"\"\"\n",
    "#     Map the input array to new coordinates by interpolation.\n",
    "\n",
    "#     The array of coordinates is used to find, for each point in the output,\n",
    "#     the corresponding coordinates in the input. The value of the input at\n",
    "#     those coordinates is determined by spline interpolation of the\n",
    "#     requested order.\n",
    "\n",
    "#     The shape of the output is derived from that of the coordinate\n",
    "#     array by dropping the first axis. The values of the array along\n",
    "#     the first axis are the coordinates in the input array at which the\n",
    "#     output value is found.\n",
    "\n",
    "#     Parameters\n",
    "#     ----------\n",
    "#     %(input)s\n",
    "#     coordinates : array_like\n",
    "#         The coordinates at which `input` is evaluated.\n",
    "#     %(output)s\n",
    "#     order : int, optional\n",
    "#         The order of the spline interpolation, default is 3.\n",
    "#         The order has to be in the range 0-5.\n",
    "#     %(mode_interp_constant)s\n",
    "#     %(cval)s\n",
    "#     %(prefilter)s\n",
    "\n",
    "#     Returns\n",
    "#     -------\n",
    "#     map_coordinates : ndarray\n",
    "#         The result of transforming the input. The shape of the output is\n",
    "#         derived from that of `coordinates` by dropping the first axis.\n",
    "\n",
    "#     See Also\n",
    "#     --------\n",
    "#     spline_filter, geometric_transform, scipy.interpolate\n",
    "\n",
    "#     Notes\n",
    "#     -----\n",
    "#     For complex-valued `input`, this function maps the real and imaginary\n",
    "#     components independently.\n",
    "\n",
    "#     .. versionadded:: 1.6.0\n",
    "#         Complex-valued support added.\n",
    "\n",
    "#     Examples\n",
    "#     --------\n",
    "#     >>> from scipy import ndimage\n",
    "#     >>> a = np.arange(12.).reshape((4, 3))\n",
    "#     >>> a\n",
    "#     array([[  0.,   1.,   2.],\n",
    "#            [  3.,   4.,   5.],\n",
    "#            [  6.,   7.,   8.],\n",
    "#            [  9.,  10.,  11.]])\n",
    "#     >>> ndimage.map_coordinates(a, [[0.5, 2], [0.5, 1]], order=1)\n",
    "#     array([ 2.,  7.])\n",
    "\n",
    "#     Above, the interpolated value of a[0.5, 0.5] gives output[0], while\n",
    "#     a[2, 1] is output[1].\n",
    "\n",
    "#     >>> inds = np.array([[0.5, 2], [0.5, 4]])\n",
    "#     >>> ndimage.map_coordinates(a, inds, order=1, cval=-33.3)\n",
    "#     array([  2. , -33.3])\n",
    "#     >>> ndimage.map_coordinates(a, inds, order=1, mode='nearest')\n",
    "#     array([ 2.,  8.])\n",
    "#     >>> ndimage.map_coordinates(a, inds, order=1, cval=0, output=bool)\n",
    "#     array([ True, False], dtype=bool)\n",
    "\n",
    "#     \"\"\"\n",
    "#     if order < 0 or order > 5:\n",
    "#         raise RuntimeError('spline order not supported')\n",
    "#     input = numpy.asarray(input)\n",
    "#     coordinates = numpy.asarray(coordinates)\n",
    "#     if numpy.iscomplexobj(coordinates):\n",
    "#         raise TypeError('Complex type not supported')\n",
    "#     output_shape = coordinates.shape[1:]\n",
    "#     if input.ndim < 1 or len(output_shape) < 1:\n",
    "#         raise RuntimeError('input and output rank must be > 0')\n",
    "#     if coordinates.shape[0] != input.ndim:\n",
    "#         raise RuntimeError('invalid shape for coordinate array')\n",
    "#     complex_output = numpy.iscomplexobj(input)\n",
    "#     output = _ni_support._get_output(output, input, shape=output_shape,\n",
    "#                                      complex_output=complex_output)\n",
    "#     if complex_output:\n",
    "#         kwargs = dict(order=order, mode=mode, prefilter=prefilter)\n",
    "#         map_coordinates(input.real, coordinates, output=output.real,\n",
    "#                         cval=numpy.real(cval), **kwargs)\n",
    "#         map_coordinates(input.imag, coordinates, output=output.imag,\n",
    "#                         cval=numpy.imag(cval), **kwargs)\n",
    "#         return output\n",
    "#     if prefilter and order > 1:\n",
    "#         padded, npad = _prepad_for_spline_filter(input, mode, cval)\n",
    "#         filtered = spline_filter(padded, order, output=numpy.float64,\n",
    "#                                  mode=mode)\n",
    "#     else:\n",
    "#         npad = 0\n",
    "#         filtered = input\n",
    "#     mode = _ni_support._extend_mode_to_code(mode)\n",
    "#     _nd_image.geometric_transform(filtered, None, coordinates, None, None,\n",
    "#                                   output, order, mode, cval, npad, None, None)\n",
    "#     return output"
   ]
  },
  {
   "cell_type": "code",
   "execution_count": null,
   "id": "b7233461",
   "metadata": {},
   "outputs": [],
   "source": []
  }
 ],
 "metadata": {
  "kernelspec": {
   "display_name": "Python 3 (ipykernel)",
   "language": "python",
   "name": "python3"
  },
  "language_info": {
   "codemirror_mode": {
    "name": "ipython",
    "version": 3
   },
   "file_extension": ".py",
   "mimetype": "text/x-python",
   "name": "python",
   "nbconvert_exporter": "python",
   "pygments_lexer": "ipython3",
   "version": "3.9.13"
  },
  "toc": {
   "base_numbering": 1,
   "nav_menu": {},
   "number_sections": true,
   "sideBar": true,
   "skip_h1_title": false,
   "title_cell": "Table of Contents",
   "title_sidebar": "Contents",
   "toc_cell": false,
   "toc_position": {
    "height": "calc(100% - 180px)",
    "left": "10px",
    "top": "150px",
    "width": "307.2px"
   },
   "toc_section_display": true,
   "toc_window_display": true
  },
  "varInspector": {
   "cols": {
    "lenName": 16,
    "lenType": 16,
    "lenVar": 40
   },
   "kernels_config": {
    "python": {
     "delete_cmd_postfix": "",
     "delete_cmd_prefix": "del ",
     "library": "var_list.py",
     "varRefreshCmd": "print(var_dic_list())"
    },
    "r": {
     "delete_cmd_postfix": ") ",
     "delete_cmd_prefix": "rm(",
     "library": "var_list.r",
     "varRefreshCmd": "cat(var_dic_list()) "
    }
   },
   "types_to_exclude": [
    "module",
    "function",
    "builtin_function_or_method",
    "instance",
    "_Feature"
   ],
   "window_display": false
  }
 },
 "nbformat": 4,
 "nbformat_minor": 5
}
