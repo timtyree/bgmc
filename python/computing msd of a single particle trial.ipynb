{
 "cells": [
  {
   "cell_type": "markdown",
   "id": "a8659915",
   "metadata": {},
   "source": [
    "# computing msd of a single levy particle trial\n",
    "Tim Tyree<br>\n",
    "5.30.2023"
   ]
  },
  {
   "cell_type": "code",
   "execution_count": 1,
   "id": "8684c8e5",
   "metadata": {
    "ExecuteTime": {
     "end_time": "2023-05-31T17:31:52.594602Z",
     "start_time": "2023-05-31T17:31:48.336558Z"
    }
   },
   "outputs": [
    {
     "name": "stderr",
     "output_type": "stream",
     "text": [
      "/Users/timothytyree/opt/miniconda3/envs/pyenv/lib/python3.9/site-packages/statsmodels/compat/pandas.py:61: FutureWarning: pandas.Int64Index is deprecated and will be removed from pandas in a future version. Use pandas.Index with the appropriate dtype instead.\n",
      "  from pandas import Int64Index as NumericIndex\n"
     ]
    }
   ],
   "source": [
    "from lib.my_initialization import *\n",
    "from lib.utils.pbc import *\n",
    "import random,scipy\n",
    "import shutil\n",
    "%load_ext autoreload\n",
    "%autoreload 2"
   ]
  },
  {
   "cell_type": "code",
   "execution_count": 2,
   "id": "46c41719",
   "metadata": {
    "ExecuteTime": {
     "end_time": "2023-05-31T17:31:52.652230Z",
     "start_time": "2023-05-31T17:31:52.598019Z"
    }
   },
   "outputs": [],
   "source": [
    "#reset matplotlib settings\n",
    "from mpltools import annotation\n",
    "import matplotlib as mpl\n",
    "sns.reset_orig()\n",
    "mpl.rc_file_defaults()"
   ]
  },
  {
   "cell_type": "code",
   "execution_count": 3,
   "id": "70dfd91c",
   "metadata": {
    "ExecuteTime": {
     "end_time": "2023-05-31T17:31:52.704363Z",
     "start_time": "2023-05-31T17:31:52.654537Z"
    }
   },
   "outputs": [],
   "source": [
    "seed=42\n",
    "np.random.seed(seed)\n",
    "\n",
    "# #get distance metric\n",
    "# distance_L2_pbc=get_distance_L2_pbc(width=1,height=1)"
   ]
  },
  {
   "cell_type": "markdown",
   "id": "4de7b913",
   "metadata": {},
   "source": [
    "# define module"
   ]
  },
  {
   "cell_type": "code",
   "execution_count": null,
   "id": "8e849a77",
   "metadata": {},
   "outputs": [],
   "source": []
  },
  {
   "cell_type": "markdown",
   "id": "a0a2629a",
   "metadata": {},
   "source": [
    "# TODO: compute msd for a single particle trial using trackpy's msd function"
   ]
  },
  {
   "cell_type": "code",
   "execution_count": 4,
   "id": "ae4c1109",
   "metadata": {
    "ExecuteTime": {
     "end_time": "2023-05-31T17:31:52.758067Z",
     "start_time": "2023-05-31T17:31:52.706444Z"
    }
   },
   "outputs": [],
   "source": [
    "alpha=1\n",
    "alpha=2\n",
    "# alpha=1.5\n",
    "\n",
    "#TODO: compute single-particle MSD for various alpha and plot\n",
    "\n",
    "#TODO: dev measurement function of rates\n",
    "\n",
    "#FK\n",
    "data_dir =f'/Users/timothytyree/Documents/GitHub/bgmc/python/data/local_results/levy_test/Log/pbc_seed_123456789_fc_2_r_0.7_D_0.115_L_5_kappa_100000.0_varkappa_1.552_alpha_{alpha}_log.csv'\n",
    "# #LR\n",
    "data_dir =f'/Users/timothytyree/Documents/GitHub/bgmc/python/data/local_results/levy_test/Log/pbc_seed_123456789_fc_2_r_0.5_D_0.42_L_5_kappa_100000.0_varkappa_9.3_alpha_{alpha}_log.csv'\n",
    "#control LR (a=0, alpha=2)\n",
    "data_dir= '/Users/timothytyree/Documents/GitHub/bgmc/python/data/local_results/levy_test/Log/pbc_seed_123456789_fc_2_r_0.5_D_0.42_L_5_kappa_100000.0_varkappa_0_alpha_2.0_log.csv'"
   ]
  },
  {
   "cell_type": "code",
   "execution_count": 5,
   "id": "0e3061b4",
   "metadata": {
    "ExecuteTime": {
     "end_time": "2023-05-31T17:31:52.936375Z",
     "start_time": "2023-05-31T17:31:52.760542Z"
    }
   },
   "outputs": [
    {
     "data": {
      "text/html": [
       "<div>\n",
       "<style scoped>\n",
       "    .dataframe tbody tr th:only-of-type {\n",
       "        vertical-align: middle;\n",
       "    }\n",
       "\n",
       "    .dataframe tbody tr th {\n",
       "        vertical-align: top;\n",
       "    }\n",
       "\n",
       "    .dataframe thead th {\n",
       "        text-align: right;\n",
       "    }\n",
       "</style>\n",
       "<table border=\"1\" class=\"dataframe\">\n",
       "  <thead>\n",
       "    <tr style=\"text-align: right;\">\n",
       "      <th></th>\n",
       "      <th>frame</th>\n",
       "      <th>t</th>\n",
       "      <th>n</th>\n",
       "      <th>x</th>\n",
       "      <th>y</th>\n",
       "      <th>particle</th>\n",
       "    </tr>\n",
       "  </thead>\n",
       "  <tbody>\n",
       "    <tr>\n",
       "      <th>0</th>\n",
       "      <td>1</td>\n",
       "      <td>0.00001</td>\n",
       "      <td>16</td>\n",
       "      <td>0.496118</td>\n",
       "      <td>0.499188</td>\n",
       "      <td>0</td>\n",
       "    </tr>\n",
       "    <tr>\n",
       "      <th>1</th>\n",
       "      <td>1</td>\n",
       "      <td>0.00001</td>\n",
       "      <td>16</td>\n",
       "      <td>1.829908</td>\n",
       "      <td>0.499794</td>\n",
       "      <td>1</td>\n",
       "    </tr>\n",
       "    <tr>\n",
       "      <th>2</th>\n",
       "      <td>1</td>\n",
       "      <td>0.00001</td>\n",
       "      <td>16</td>\n",
       "      <td>3.166520</td>\n",
       "      <td>0.503337</td>\n",
       "      <td>2</td>\n",
       "    </tr>\n",
       "    <tr>\n",
       "      <th>3</th>\n",
       "      <td>1</td>\n",
       "      <td>0.00001</td>\n",
       "      <td>16</td>\n",
       "      <td>4.505489</td>\n",
       "      <td>0.495091</td>\n",
       "      <td>3</td>\n",
       "    </tr>\n",
       "    <tr>\n",
       "      <th>4</th>\n",
       "      <td>1</td>\n",
       "      <td>0.00001</td>\n",
       "      <td>16</td>\n",
       "      <td>0.498270</td>\n",
       "      <td>1.830161</td>\n",
       "      <td>4</td>\n",
       "    </tr>\n",
       "  </tbody>\n",
       "</table>\n",
       "</div>"
      ],
      "text/plain": [
       "   frame        t   n         x         y  particle\n",
       "0      1  0.00001  16  0.496118  0.499188         0\n",
       "1      1  0.00001  16  1.829908  0.499794         1\n",
       "2      1  0.00001  16  3.166520  0.503337         2\n",
       "3      1  0.00001  16  4.505489  0.495091         3\n",
       "4      1  0.00001  16  0.498270  1.830161         4"
      ]
     },
     "execution_count": 5,
     "metadata": {},
     "output_type": "execute_result"
    }
   ],
   "source": [
    "df=pd.read_csv(data_dir)\n",
    "df.head(5)"
   ]
  },
  {
   "cell_type": "code",
   "execution_count": 6,
   "id": "aac2acfd",
   "metadata": {
    "ExecuteTime": {
     "end_time": "2023-05-31T17:31:53.009280Z",
     "start_time": "2023-05-31T17:31:52.938040Z"
    }
   },
   "outputs": [],
   "source": [
    "fps=1e-3/df['t'].drop_duplicates().diff().values[1] #kHz\n",
    "# fps=1/df['t'].drop_duplicates().diff().values[1] #kHz\n",
    "# fps=1e5 #Hz\n",
    "# fps=1e2 #Hz\n",
    "# fps=1"
   ]
  },
  {
   "cell_type": "code",
   "execution_count": 7,
   "id": "6a38b746",
   "metadata": {
    "ExecuteTime": {
     "end_time": "2023-05-31T17:31:53.077121Z",
     "start_time": "2023-05-31T17:31:53.011363Z"
    }
   },
   "outputs": [
    {
     "data": {
      "text/plain": [
       "0.48493"
      ]
     },
     "execution_count": 7,
     "metadata": {},
     "output_type": "execute_result"
    }
   ],
   "source": [
    "df['t'].drop_duplicates().max()"
   ]
  },
  {
   "cell_type": "code",
   "execution_count": 8,
   "id": "a3bd4b0f",
   "metadata": {
    "ExecuteTime": {
     "end_time": "2023-05-31T17:31:53.184836Z",
     "start_time": "2023-05-31T17:31:53.078986Z"
    }
   },
   "outputs": [],
   "source": [
    "import trackpy"
   ]
  },
  {
   "cell_type": "code",
   "execution_count": 20,
   "id": "d14df811",
   "metadata": {
    "ExecuteTime": {
     "end_time": "2023-05-31T17:36:36.329545Z",
     "start_time": "2023-05-31T17:36:36.239522Z"
    }
   },
   "outputs": [],
   "source": [
    "Deff = 0.42*2 + 9.3\n",
    "Deff = 0.42*2\n",
    "# Deff = 0.115*2 + 1.552\n",
    "# Deff = 0.115*2\n",
    "Deff/=2"
   ]
  },
  {
   "cell_type": "code",
   "execution_count": 10,
   "id": "8d17252a",
   "metadata": {
    "ExecuteTime": {
     "end_time": "2023-05-31T17:31:53.971535Z",
     "start_time": "2023-05-31T17:31:53.239140Z"
    }
   },
   "outputs": [
    {
     "data": {
      "image/png": "[encoded data removed]",
      "text/plain": [
       "<Figure size 400x300 with 1 Axes>"
      ]
     },
     "metadata": {},
     "output_type": "display_data"
    }
   ],
   "source": [
    "min_num_obs=10\n",
    "min_num_time_points=50\n",
    "figsize=4,3\n",
    "fig,ax=plt.subplots(figsize=figsize)\n",
    "for pid,g in df.groupby(by='particle'):\n",
    "    g_msd = trackpy.msd(g,detail=True,mpp=1,fps=fps)\n",
    "    g_msd['msd']=g_msd['msd'] - g_msd['msd'].values[0] #subtract the first point\n",
    "    g_msd = g_msd[g_msd['N']>=min_num_obs]#drop points with too few data\n",
    "    if g_msd.shape[0]>min_num_time_points:\n",
    "        g_msd.plot(x='lagt',y='msd',ax=ax,color='gray',label='_')\n",
    "        \n",
    "#TODO: plot a powerlaw with exponent of alpha\n",
    "x1 = 2e-2; x2 = 8e-1;\n",
    "M=Deff; nu=1; label='Brownian'\n",
    "# M=Deff; nu=2/1.5; label='Lévy'\n",
    "# M=Deff; nu=1/2; label='Lévy'\n",
    "# ax.plot([x1,x2],[M*x1**(nu),M*x2**(nu)],'k:',label=label)\n",
    "xv=np.linspace(x1,x2,100)\n",
    "ax.plot(xv,M*xv**nu,'k:',label=label)\n",
    "ax.legend(fontsize=16)\n",
    "format_plot(ax=ax,xlabel='Lag (ms)',ylabel=r'MSD (cm$^2$)',fontsize=20)#,use_loglog=True)\n",
    "# plt.legend(None)\n",
    "ax.tick_params(top=True, right=True,direction='in',which='both')\n",
    "# ax.set_xlim([0,10])\n",
    "# ax.set_ylim([0,1])\n",
    "plt.show()"
   ]
  },
  {
   "cell_type": "markdown",
   "id": "d9937e8e",
   "metadata": {},
   "source": [
    "# measure the classical MSD"
   ]
  },
  {
   "cell_type": "code",
   "execution_count": 11,
   "id": "1aa47880",
   "metadata": {
    "ExecuteTime": {
     "end_time": "2023-05-31T17:31:54.036708Z",
     "start_time": "2023-05-31T17:31:53.976047Z"
    }
   },
   "outputs": [],
   "source": [
    "\n",
    "#TODO: measure the classical MSD simply averaged over particles\n",
    "#TODO: measure the classical ensemble-averaged MSD simply averaged over particles"
   ]
  },
  {
   "cell_type": "code",
   "execution_count": 25,
   "id": "6c9f7d67",
   "metadata": {
    "ExecuteTime": {
     "end_time": "2023-05-31T17:43:46.130563Z",
     "start_time": "2023-05-31T17:43:40.214887Z"
    }
   },
   "outputs": [
    {
     "data": {
      "image/png": "[encoded data removed]",
      "text/plain": [
       "<Figure size 400x300 with 1 Axes>"
      ]
     },
     "metadata": {},
     "output_type": "display_data"
    }
   ],
   "source": [
    "L=5\n",
    "min_num_obs=10\n",
    "min_num_time_points=50\n",
    "figsize=4,3\n",
    "fig,ax=plt.subplots(figsize=figsize)\n",
    " \n",
    "for pid,g in df.groupby(by='particle'):\n",
    "    traj = unwrap_traj_and_center(g,width=L,height=L)\n",
    "    lagt=(traj['t']-traj['t'].values[0])*1e3\n",
    "    x=traj['x']-traj['x'].values[0]\n",
    "    y=traj['y']-traj['y'].values[0]\n",
    "    msd = x**2 + y**2\n",
    "    if min_num_time_points<lagt.shape[0]:\n",
    "        plt.plot(lagt,msd,color='gray')\n",
    "\n",
    "#TODO: plot a powerlaw with exponent of alpha\n",
    "x1 = 2e-2; x2 = 4e2;\n",
    "M=2*Deff*1e-3; nu=1; label='Brownian'\n",
    "# M=Deff; nu=2/1.5; label='Lévy'\n",
    "# M=Deff; nu=1/2; label='Lévy'\n",
    "# ax.plot([x1,x2],[M*x1**(nu),M*x2**(nu)],'k:',label=label)\n",
    "xv=np.linspace(x1,x2,100)\n",
    "ax.plot(xv,M*xv**nu,'k:',label=label)\n",
    "ax.legend(fontsize=16)\n",
    "format_plot(ax=ax,xlabel='Lag (ms)',ylabel=r'MSD (cm$^2$)',fontsize=20)#,use_loglog=True)\n",
    "# plt.legend(None)\n",
    "ax.tick_params(top=True, right=True,direction='in',which='both')\n",
    "# ax.set_xlim([0,10])\n",
    "# ax.set_ylim([0,1])\n",
    "plt.show()"
   ]
  },
  {
   "cell_type": "code",
   "execution_count": 18,
   "id": "1ba6275f",
   "metadata": {
    "ExecuteTime": {
     "end_time": "2023-05-31T17:34:57.527565Z",
     "start_time": "2023-05-31T17:34:57.457183Z"
    }
   },
   "outputs": [
    {
     "data": {
      "text/plain": [
       "'/Users/timothytyree/Documents/GitHub/bgmc/python/data/local_results/levy_test/Log/pbc_seed_123456789_fc_2_r_0.5_D_0.42_L_5_kappa_100000.0_varkappa_0_alpha_2.0_log.csv'"
      ]
     },
     "execution_count": 18,
     "metadata": {},
     "output_type": "execute_result"
    }
   ],
   "source": []
  },
  {
   "cell_type": "code",
   "execution_count": null,
   "id": "f4244b65",
   "metadata": {},
   "outputs": [],
   "source": []
  },
  {
   "cell_type": "code",
   "execution_count": null,
   "id": "72a31d2b",
   "metadata": {},
   "outputs": [],
   "source": []
  },
  {
   "cell_type": "code",
   "execution_count": null,
   "id": "64bf5fa6",
   "metadata": {},
   "outputs": [],
   "source": []
  }
 ],
 "metadata": {
  "hide_input": false,
  "kernelspec": {
   "display_name": "Python 3 (ipykernel)",
   "language": "python",
   "name": "python3"
  },
  "language_info": {
   "codemirror_mode": {
    "name": "ipython",
    "version": 3
   },
   "file_extension": ".py",
   "mimetype": "text/x-python",
   "name": "python",
   "nbconvert_exporter": "python",
   "pygments_lexer": "ipython3",
   "version": "3.9.5"
  },
  "nbTranslate": {
   "displayLangs": [
    "*"
   ],
   "hotkey": "alt-t",
   "langInMainMenu": true,
   "sourceLang": "en",
   "targetLang": "fr",
   "useGoogleTranslate": true
  },
  "toc": {
   "base_numbering": 1,
   "nav_menu": {},
   "number_sections": true,
   "sideBar": true,
   "skip_h1_title": false,
   "title_cell": "Table of Contents",
   "title_sidebar": "Contents",
   "toc_cell": false,
   "toc_position": {},
   "toc_section_display": true,
   "toc_window_display": false
  }
 },
 "nbformat": 4,
 "nbformat_minor": 5
}
