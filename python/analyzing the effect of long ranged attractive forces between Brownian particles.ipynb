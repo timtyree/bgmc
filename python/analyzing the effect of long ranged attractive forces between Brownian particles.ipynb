{
 "cells": [
  {
   "cell_type": "markdown",
   "metadata": {},
   "source": [
    "# analyzing the effect of long ranged attractive forces between Brownian particles\n",
    "Tim Tyree<br>\n",
    "6.2.2021"
   ]
  },
  {
   "cell_type": "code",
   "execution_count": 1,
   "metadata": {
    "ExecuteTime": {
     "end_time": "2021-06-02T19:31:35.259573Z",
     "start_time": "2021-06-02T19:31:34.722170Z"
    }
   },
   "outputs": [],
   "source": [
    "from lib.my_initialization import *\n",
    "import random,scipy\n",
    "from lib.measure.compute_slope import *\n",
    "from lib.measure.compute_sliding_slope import *\n",
    "from lib.measure.powerlaw import *\n",
    "%load_ext autoreload\n",
    "%autoreload 2\n",
    "\n",
    "from scipy import stats\n",
    "alpha=0.1"
   ]
  },
  {
   "cell_type": "code",
   "execution_count": 2,
   "metadata": {
    "ExecuteTime": {
     "end_time": "2021-05-28T01:27:24.721170Z",
     "start_time": "2021-05-28T01:27:24.708610Z"
    }
   },
   "outputs": [],
   "source": [
    "# # For darkmode plots\n",
    "# from jupyterthemes import jtplot\n",
    "# jtplot.style(theme='monokai', context='notebook', ticks=True, grid=False)"
   ]
  },
  {
   "cell_type": "markdown",
   "metadata": {},
   "source": [
    "# visualize a single trial\n",
    "- TODO: visualize the effect of turning on/off attractive/repulsive forces."
   ]
  },
  {
   "cell_type": "code",
   "execution_count": 2,
   "metadata": {
    "ExecuteTime": {
     "end_time": "2021-06-02T19:32:00.331918Z",
     "start_time": "2021-06-02T19:32:00.281874Z"
    }
   },
   "outputs": [
    {
     "data": {
      "text/html": [
       "<div>\n",
       "<style scoped>\n",
       "    .dataframe tbody tr th:only-of-type {\n",
       "        vertical-align: middle;\n",
       "    }\n",
       "\n",
       "    .dataframe tbody tr th {\n",
       "        vertical-align: top;\n",
       "    }\n",
       "\n",
       "    .dataframe thead th {\n",
       "        text-align: right;\n",
       "    }\n",
       "</style>\n",
       "<table border=\"1\" class=\"dataframe\">\n",
       "  <thead>\n",
       "    <tr style=\"text-align: right;\">\n",
       "      <th></th>\n",
       "      <th>x0</th>\n",
       "      <th>varkappa</th>\n",
       "      <th>set_second</th>\n",
       "      <th>reflect</th>\n",
       "      <th>r</th>\n",
       "      <th>no_repulsion</th>\n",
       "      <th>no_attraction</th>\n",
       "      <th>niter</th>\n",
       "      <th>neighbor</th>\n",
       "      <th>kappa</th>\n",
       "      <th>force_code</th>\n",
       "      <th>dt</th>\n",
       "      <th>N</th>\n",
       "      <th>L</th>\n",
       "      <th>Dt</th>\n",
       "      <th>D</th>\n",
       "      <th>CollRate</th>\n",
       "    </tr>\n",
       "  </thead>\n",
       "  <tbody>\n",
       "    <tr>\n",
       "      <th>0</th>\n",
       "      <td>0</td>\n",
       "      <td>-20.0</td>\n",
       "      <td>0</td>\n",
       "      <td>0</td>\n",
       "      <td>0.1</td>\n",
       "      <td>1</td>\n",
       "      <td>0</td>\n",
       "      <td>1500</td>\n",
       "      <td>0</td>\n",
       "      <td>500</td>\n",
       "      <td>1</td>\n",
       "      <td>0.00001</td>\n",
       "      <td>6</td>\n",
       "      <td>10</td>\n",
       "      <td>0.00001</td>\n",
       "      <td>2</td>\n",
       "      <td>0.312290</td>\n",
       "    </tr>\n",
       "    <tr>\n",
       "      <th>1</th>\n",
       "      <td>0</td>\n",
       "      <td>-20.0</td>\n",
       "      <td>0</td>\n",
       "      <td>0</td>\n",
       "      <td>0.1</td>\n",
       "      <td>1</td>\n",
       "      <td>0</td>\n",
       "      <td>1500</td>\n",
       "      <td>0</td>\n",
       "      <td>500</td>\n",
       "      <td>1</td>\n",
       "      <td>0.00001</td>\n",
       "      <td>6</td>\n",
       "      <td>10</td>\n",
       "      <td>0.00001</td>\n",
       "      <td>20</td>\n",
       "      <td>0.780937</td>\n",
       "    </tr>\n",
       "    <tr>\n",
       "      <th>2</th>\n",
       "      <td>0</td>\n",
       "      <td>-20.0</td>\n",
       "      <td>0</td>\n",
       "      <td>0</td>\n",
       "      <td>0.1</td>\n",
       "      <td>1</td>\n",
       "      <td>0</td>\n",
       "      <td>1500</td>\n",
       "      <td>0</td>\n",
       "      <td>500</td>\n",
       "      <td>1</td>\n",
       "      <td>0.00001</td>\n",
       "      <td>7</td>\n",
       "      <td>10</td>\n",
       "      <td>0.00001</td>\n",
       "      <td>2</td>\n",
       "      <td>0.526442</td>\n",
       "    </tr>\n",
       "    <tr>\n",
       "      <th>3</th>\n",
       "      <td>0</td>\n",
       "      <td>-20.0</td>\n",
       "      <td>0</td>\n",
       "      <td>0</td>\n",
       "      <td>0.1</td>\n",
       "      <td>1</td>\n",
       "      <td>0</td>\n",
       "      <td>1500</td>\n",
       "      <td>0</td>\n",
       "      <td>500</td>\n",
       "      <td>1</td>\n",
       "      <td>0.00001</td>\n",
       "      <td>7</td>\n",
       "      <td>10</td>\n",
       "      <td>0.00001</td>\n",
       "      <td>20</td>\n",
       "      <td>1.278821</td>\n",
       "    </tr>\n",
       "    <tr>\n",
       "      <th>4</th>\n",
       "      <td>0</td>\n",
       "      <td>-20.0</td>\n",
       "      <td>0</td>\n",
       "      <td>0</td>\n",
       "      <td>0.1</td>\n",
       "      <td>1</td>\n",
       "      <td>0</td>\n",
       "      <td>1500</td>\n",
       "      <td>0</td>\n",
       "      <td>500</td>\n",
       "      <td>1</td>\n",
       "      <td>0.00001</td>\n",
       "      <td>8</td>\n",
       "      <td>10</td>\n",
       "      <td>0.00001</td>\n",
       "      <td>2</td>\n",
       "      <td>0.804132</td>\n",
       "    </tr>\n",
       "  </tbody>\n",
       "</table>\n",
       "</div>"
      ],
      "text/plain": [
       "   x0  varkappa  set_second  reflect    r  no_repulsion  no_attraction  niter  \\\n",
       "0   0     -20.0           0        0  0.1             1              0   1500   \n",
       "1   0     -20.0           0        0  0.1             1              0   1500   \n",
       "2   0     -20.0           0        0  0.1             1              0   1500   \n",
       "3   0     -20.0           0        0  0.1             1              0   1500   \n",
       "4   0     -20.0           0        0  0.1             1              0   1500   \n",
       "\n",
       "   neighbor  kappa  force_code       dt  N   L       Dt   D  CollRate  \n",
       "0         0    500           1  0.00001  6  10  0.00001   2  0.312290  \n",
       "1         0    500           1  0.00001  6  10  0.00001  20  0.780937  \n",
       "2         0    500           1  0.00001  7  10  0.00001   2  0.526442  \n",
       "3         0    500           1  0.00001  7  10  0.00001  20  1.278821  \n",
       "4         0    500           1  0.00001  8  10  0.00001   2  0.804132  "
      ]
     },
     "execution_count": 2,
     "metadata": {},
     "output_type": "execute_result"
    }
   ],
   "source": [
    "data_dir=\"/home/timothytyree/Documents/GitHub/bgmc/python/data/osg_output/run_12_all.csv\"\n",
    "df=pd.read_csv(data_dir)\n",
    "df.head()"
   ]
  },
  {
   "cell_type": "code",
   "execution_count": 3,
   "metadata": {
    "ExecuteTime": {
     "end_time": "2021-06-02T19:32:05.648228Z",
     "start_time": "2021-06-02T19:32:05.635141Z"
    }
   },
   "outputs": [
    {
     "data": {
      "text/plain": [
       "Index(['x0', 'varkappa', 'set_second', 'reflect', 'r', 'no_repulsion',\n",
       "       'no_attraction', 'niter', 'neighbor', 'kappa', 'force_code', 'dt', 'N',\n",
       "       'L', 'Dt', 'D', 'CollRate'],\n",
       "      dtype='object')"
      ]
     },
     "execution_count": 3,
     "metadata": {},
     "output_type": "execute_result"
    }
   ],
   "source": [
    "df.columns"
   ]
  },
  {
   "cell_type": "code",
   "execution_count": 4,
   "metadata": {
    "ExecuteTime": {
     "end_time": "2021-06-02T19:32:07.034764Z",
     "start_time": "2021-06-02T19:32:07.023002Z"
    }
   },
   "outputs": [
    {
     "data": {
      "text/plain": [
       "False"
      ]
     },
     "execution_count": 4,
     "metadata": {},
     "output_type": "execute_result"
    }
   ],
   "source": [
    "(df.CollRate<0).any()"
   ]
  },
  {
   "cell_type": "code",
   "execution_count": 5,
   "metadata": {
    "ExecuteTime": {
     "end_time": "2021-06-02T19:32:41.082695Z",
     "start_time": "2021-06-02T19:32:40.978841Z"
    }
   },
   "outputs": [],
   "source": [
    "#derived values\n",
    "# df['CollRate']=1./df['CollTime']\n",
    "df['A']=df['L']**2\n",
    "df['q']=df['N']/df['A'] #number of tips per square centimeter\n",
    "df['w']=df['CollRate']/df['A'] #[mHz?]/cm^2\n",
    "\n",
    "# df=df[df.niter==250].copy()\n",
    "#extract column values\n",
    "r_values=np.array(sorted(set(df.r.values)))#cm\n",
    "D_values=np.array(sorted(set(df.D.values)))#cm^2/s\n",
    "L_values=np.array(sorted(set(df.L.values)))#cm\n",
    "A_values=L_values**2#cm^2\n",
    "kappa_values=np.array(sorted(set(df.kappa.values)))#1/s\n",
    "varkappa_values=np.array(sorted(set(df.varkappa.values)))#1/s\n",
    "x0_values=np.array(sorted(set(df.x0.values)))#1/s\n",
    "set_second_values=np.array(sorted(set(df.set_second.values)))\n",
    "reflect_values=np.array(sorted(set(df.reflect.values)))\n",
    "no_repulsion_values=np.array(sorted(set(df.no_repulsion.values)))\n",
    "no_attraction_values=np.array(sorted(set(df.no_attraction.values)))\n",
    "neighbor_values=np.array(sorted(set(df.neighbor.values)))\n",
    "force_code_values=np.array(sorted(set(df.force_code.values)))"
   ]
  },
  {
   "cell_type": "code",
   "execution_count": 7,
   "metadata": {
    "ExecuteTime": {
     "end_time": "2021-06-02T19:40:10.917670Z",
     "start_time": "2021-06-02T19:40:10.899170Z"
    }
   },
   "outputs": [
    {
     "name": "stdout",
     "output_type": "stream",
     "text": [
      "fixed parameters:\n",
      "r~[0.1]\n",
      "D~[ 2 20]\n",
      "L~[10]\n",
      "kappa~[ 500 1500]\n",
      "set_second~[0 1]\n",
      "reflect~[0]\n",
      "no_repulsion~[1]\n",
      "no_attraction~[0 1]\n",
      "\n",
      "varied parameters:\n",
      "varkappa~[-20.  -10.   -5.    0.    0.1   1.    5.   10.   20.   50. ]\n",
      "x0~[0 1 5]\n",
      "neighbor~[0 1]\n",
      "force_code~[0 1 2 3]\n"
     ]
    }
   ],
   "source": [
    "#make test for whether there is one input parameter present in an input DataFrame\n",
    "print(f\"fixed parameters:\")\n",
    "print(f\"r~{r_values}\")\n",
    "print(f\"D~{D_values}\")\n",
    "print(f\"L~{L_values}\")\n",
    "print(f\"kappa~{kappa_values}\")\n",
    "print(f\"set_second~{set_second_values}\")\n",
    "print(f\"reflect~{reflect_values}\")\n",
    "print(f\"no_repulsion~{no_repulsion_values}\")\n",
    "print(f\"no_attraction~{no_attraction_values}\")\n",
    "\n",
    "print(f\"\\nvaried parameters:\")\n",
    "# print(f\"varkappa~{np.mean(varkappa_values):.3f}+-{2*np.std(varkappa_values):.3f}\")\n",
    "print(f\"varkappa~{varkappa_values}\")\n",
    "print(f\"x0~{x0_values}\")\n",
    "print(f\"neighbor~{neighbor_values}\")\n",
    "print(f\"force_code~{force_code_values}\")"
   ]
  },
  {
   "cell_type": "code",
   "execution_count": 102,
   "metadata": {
    "ExecuteTime": {
     "end_time": "2021-06-02T20:42:28.516683Z",
     "start_time": "2021-06-02T20:42:28.490383Z"
    }
   },
   "outputs": [],
   "source": [
    "#query the control\n",
    "varkappa=0.#-5 #Hz\n",
    "x0=0.#5        #cm\n",
    "kappa=500\n",
    "D=2\n",
    "r=0.1\n",
    "L=10\n",
    "set_second_values=np.array([0,1])\n",
    "set_second=0\n",
    "no_repulsion=1\n",
    "no_attraction=1\n",
    "reflect=0\n",
    "neighbor=0\n",
    "force_code=0\n",
    "\n",
    "#query the DataFrame\n",
    "query =(df.set_second==set_second)&(df.reflect==reflect)\n",
    "query&=df.r==r\n",
    "query&=df.D==D\n",
    "query&=df.L==L\n",
    "query&=df.kappa==kappa\n",
    "query&=df.varkappa==varkappa\n",
    "query&=df.x0==x0\n",
    "query&=(df.no_repulsion==no_repulsion)&(df.no_attraction==no_attraction)\n",
    "query&=(df.neighbor==neighbor)&(df.force_code==force_code)\n",
    "dg=df[query]\n",
    "x_values=dg.q.values\n",
    "y_values=dg.w.values\n",
    "x_values_control_500=x_values.copy()\n",
    "y_values_control_500=y_values.copy()\n",
    "\n",
    "kappa=1500\n",
    "#query the DataFrame\n",
    "query =(df.set_second==set_second)&(df.reflect==reflect)\n",
    "query&=df.r==r\n",
    "query&=df.D==D\n",
    "query&=df.L==L\n",
    "query&=df.kappa==kappa\n",
    "query&=df.varkappa==varkappa\n",
    "query&=df.x0==x0\n",
    "query&=(df.no_repulsion==no_repulsion)&(df.no_attraction==no_attraction)\n",
    "query&=(df.neighbor==neighbor)&(df.force_code==force_code)\n",
    "dg=df[query]\n",
    "x_values=dg.q.values\n",
    "y_values=dg.w.values\n",
    "x_values_control_1500=x_values.copy()\n",
    "y_values_control_1500=y_values.copy()"
   ]
  },
  {
   "cell_type": "markdown",
   "metadata": {
    "ExecuteTime": {
     "end_time": "2021-06-02T20:19:58.908431Z",
     "start_time": "2021-06-02T20:19:58.874028Z"
    }
   },
   "source": [
    "## plot token trials for close range spring forces"
   ]
  },
  {
   "cell_type": "code",
   "execution_count": 112,
   "metadata": {
    "ExecuteTime": {
     "end_time": "2021-06-02T20:44:04.478973Z",
     "start_time": "2021-06-02T20:44:04.453159Z"
    }
   },
   "outputs": [],
   "source": [
    "#token spring trials\n",
    "# DONE: print spring trials\n",
    "# force_code=1\n",
    "# no_attraction_values=np.array([0])\n",
    "# neighbor_values=np.array([0,1])\n",
    "# set_second_values=np.array([0])\n",
    "# varkappa_values=np.array([-20.,-10.,-5])#1/s\n",
    "# x0_values=np.array([0.,1.0,5.0])#cm\n",
    "\n",
    "kappa=1500;no_attraction=0;force_code=1;neighbor=0;varkappa=-20;x0=1.\n",
    "#query the DataFrame\n",
    "query =(df.set_second==set_second)&(df.reflect==reflect)\n",
    "query&=df.r==r\n",
    "query&=df.D==D\n",
    "query&=df.L==L\n",
    "query&=df.kappa==kappa\n",
    "query&=df.varkappa==varkappa\n",
    "query&=df.x0==x0\n",
    "query&=(df.no_repulsion==no_repulsion)&(df.no_attraction==no_attraction)\n",
    "query&=(df.neighbor==neighbor)&(df.force_code==force_code)\n",
    "dg=df[query]\n",
    "x_values=dg.q.values\n",
    "y_values=dg.w.values\n",
    "x_values_spring_1500=x_values.copy()\n",
    "y_values_spring_1500=y_values.copy()\n",
    "\n",
    "kappa=500\n",
    "#query the DataFrame\n",
    "query =(df.set_second==set_second)&(df.reflect==reflect)\n",
    "query&=df.r==r\n",
    "query&=df.D==D\n",
    "query&=df.L==L\n",
    "query&=df.kappa==kappa\n",
    "query&=df.varkappa==varkappa\n",
    "query&=df.x0==x0\n",
    "query&=(df.no_repulsion==no_repulsion)&(df.no_attraction==no_attraction)\n",
    "query&=(df.neighbor==neighbor)&(df.force_code==force_code)\n",
    "dg=df[query]\n",
    "x_values=dg.q.values\n",
    "y_values=dg.w.values\n",
    "x_values_spring_500=x_values.copy()\n",
    "y_values_spring_500=y_values.copy()"
   ]
  },
  {
   "cell_type": "code",
   "execution_count": 119,
   "metadata": {
    "ExecuteTime": {
     "end_time": "2021-06-02T20:44:58.151344Z",
     "start_time": "2021-06-02T20:44:57.791876Z"
    }
   },
   "outputs": [
    {
     "data": {
      "image/png": "[encoded data removed]",
      "text/plain": [
       "<Figure size 432x288 with 1 Axes>"
      ]
     },
     "metadata": {
      "needs_background": "light"
     },
     "output_type": "display_data"
    }
   ],
   "source": [
    "#plot fits for full model\n",
    "m_fk=1.945;#+-0.030; B_fk=2.441+-0.051\n",
    "m_lr=1.544;#+-0.034; B_lr=5.870+-0.137\n",
    "M_fk=5.67;#+-0.39 Hz*cm^{2(m-1)}\n",
    "M_lr=15.37;#+-1.57 Hz*cm^{2(m-1)}\n",
    "# RMSE_fk=0.1252 Hz/cm^2\n",
    "# RMSE_lr=0.0974 Hz/cm^2\n",
    "# R^2=0.997 (FK)\n",
    "# R^2=0.994 (LR)\n",
    "# yscale=10**3\n",
    "xv=np.arange(0.1,1.,.05)\n",
    "yv_fk=M_fk*(xv)**m_fk\n",
    "yv_lr=M_lr*(xv)**m_lr\n",
    "\n",
    "fontsize=16\n",
    "# plt.xlim([0.1,1])\n",
    "# plt.ylim([1e-1,15])\n",
    "plt.yscale('log')\n",
    "plt.xscale('log')\n",
    "# plt.plot(xv,yv_fk,label='FK power law fit',zorder=3,lw=4)\n",
    "plt.plot(xv,yv_lr,label='LR power law fit',zorder=3,lw=4,color='C1')\n",
    "\n",
    "fontsize=18\n",
    "# plt.plot(x_values_control_500,y_values_control_500,'-',c='k',alpha=.7,label=r'no forces, $\\kappa=500$ Hz',lw=3)\n",
    "plt.plot(x_values_control_1500,y_values_control_1500,'-',c='k',alpha=.7,label=r'no forces, $\\kappa=1500$ Hz',lw=3)\n",
    "# plt.plot(x_values_spring_500,y_values_spring_500,'-',c='g',alpha=.7,label=r'spring forces, $\\kappa=500$ Hz',lw=3)\n",
    "plt.plot(x_values_spring_1500,y_values_spring_1500,'-',c='g',alpha=.7,label=r'spring forces, $\\kappa=1500$ Hz',lw=3)\n",
    "\n",
    "# plt.plot(x_values,y_values,c='C2',alpha=.7,label='simulation',lw=6)\n",
    "# plt.plot(x_values_force,y_values_force,c='C3',alpha=.7,label='simulation with forces',lw=6)\n",
    "# plt.plot(x_values,y_values,c=c_values,alpha=0.4,cmap='bwr')\n",
    "# plt.title(u'comparison to simulation\\nwith two hybrid modes',fontsize=fontsize)\n",
    "plt.xlabel(r'q (cm$^{-2}$)',fontsize=fontsize)\n",
    "plt.ylabel(r'w (Hz cm$^{-2}$)', fontsize=fontsize)\n",
    "plt.tick_params(axis='both', which='major', labelsize=fontsize)\n",
    "plt.tick_params(axis='both', which='minor', labelsize=0)\n",
    "plt.legend(fontsize=fontsize-5)\n",
    "plt.xlim([0.08,1])\n",
    "# print(f'varkappa={varkappa}  Hz');print(f'      x0={x0} cm')\n",
    "plt.title(r'$\\varkappa=$'+f'{varkappa}  Hz, '+r'$x_0=$'+f'{x0} cm\\nforce_code={force_code}, neighbors={neighbor}\\n',fontsize=fontsize)\n",
    "plt.show()"
   ]
  },
  {
   "cell_type": "code",
   "execution_count": 120,
   "metadata": {
    "ExecuteTime": {
     "end_time": "2021-06-02T20:45:09.183590Z",
     "start_time": "2021-06-02T20:45:08.818287Z"
    },
    "scrolled": true
   },
   "outputs": [
    {
     "data": {
      "image/png": "[encoded data removed]",
      "text/plain": [
       "<Figure size 432x288 with 1 Axes>"
      ]
     },
     "metadata": {
      "needs_background": "light"
     },
     "output_type": "display_data"
    }
   ],
   "source": [
    "#plot fits for full model\n",
    "m_fk=1.945;#+-0.030; B_fk=2.441+-0.051\n",
    "m_lr=1.544;#+-0.034; B_lr=5.870+-0.137\n",
    "M_fk=5.67;#+-0.39 Hz*cm^{2(m-1)}\n",
    "M_lr=15.37;#+-1.57 Hz*cm^{2(m-1)}\n",
    "# RMSE_fk=0.1252 Hz/cm^2\n",
    "# RMSE_lr=0.0974 Hz/cm^2\n",
    "# R^2=0.997 (FK)\n",
    "# R^2=0.994 (LR)\n",
    "# yscale=10**3\n",
    "xv=np.arange(0.1,1.,.05)\n",
    "yv_fk=M_fk*(xv)**m_fk\n",
    "yv_lr=M_lr*(xv)**m_lr\n",
    "\n",
    "fontsize=16\n",
    "# plt.xlim([0.1,1])\n",
    "# plt.ylim([1e-1,15])\n",
    "plt.yscale('log')\n",
    "plt.xscale('log')\n",
    "plt.plot(xv,yv_fk,label='FK power law fit',zorder=3,lw=4)\n",
    "# plt.plot(xv,yv_lr,label='LR power law fit',zorder=3,lw=4,color='C1')\n",
    "\n",
    "fontsize=18\n",
    "plt.plot(x_values_control_500,y_values_control_500,'-',c='k',alpha=.7,label=r'no forces, $\\kappa=500$ Hz',lw=3)\n",
    "# plt.plot(x_values_control_1500,y_values_control_1500,'-',c='k',alpha=.7,label=r'no forces, $\\kappa=1500$ Hz',lw=3)\n",
    "plt.plot(x_values_spring_500,y_values_spring_500,'-',c='g',alpha=.7,label=r'spring forces, $\\kappa=500$ Hz',lw=3)\n",
    "# plt.plot(x_values_spring_1500,y_values_spring_1500,'-',c='g',alpha=.7,label=r'spring forces, $\\kappa=1500$ Hz',lw=3)\n",
    "\n",
    "# plt.plot(x_values,y_values,c='C2',alpha=.7,label='simulation',lw=6)\n",
    "# plt.plot(x_values_force,y_values_force,c='C3',alpha=.7,label='simulation with forces',lw=6)\n",
    "# plt.plot(x_values,y_values,c=c_values,alpha=0.4,cmap='bwr')\n",
    "# plt.title(u'comparison to simulation\\nwith two hybrid modes',fontsize=fontsize)\n",
    "plt.xlabel(r'q (cm$^{-2}$)',fontsize=fontsize)\n",
    "plt.ylabel(r'w (Hz cm$^{-2}$)', fontsize=fontsize)\n",
    "plt.tick_params(axis='both', which='major', labelsize=fontsize)\n",
    "plt.tick_params(axis='both', which='minor', labelsize=0)\n",
    "plt.legend(fontsize=fontsize-5)\n",
    "plt.xlim([0.08,1])\n",
    "# print(f'varkappa={varkappa}  Hz');print(f'      x0={x0} cm')\n",
    "plt.title(r'$\\varkappa=$'+f'{varkappa}  Hz, '+r'$x_0=$'+f'{x0} cm\\nforce_code={force_code}, neighbors={neighbor}\\n',fontsize=fontsize)\n",
    "plt.show()"
   ]
  },
  {
   "cell_type": "markdown",
   "metadata": {
    "ExecuteTime": {
     "end_time": "2021-06-02T20:19:58.908431Z",
     "start_time": "2021-06-02T20:19:58.874028Z"
    }
   },
   "source": [
    "## plot token trials for long range 1/r forces"
   ]
  },
  {
   "cell_type": "code",
   "execution_count": 148,
   "metadata": {
    "ExecuteTime": {
     "end_time": "2021-06-02T20:53:45.405632Z",
     "start_time": "2021-06-02T20:53:45.350457Z"
    }
   },
   "outputs": [],
   "source": [
    "#token long-ranged forces\n",
    "# force_code_values=np.array([2,3])\n",
    "# no_attraction_values=np.array([0])\n",
    "# neighbor_values=np.array([0,1])\n",
    "# set_second_values=np.array([0])\n",
    "# varkappa_values=np.array([0.1,1.,5.,10.,20.,50.])#1/s\n",
    "# x0_values=np.array([0.])#,1.0,5.0])#cm #x0 does nothing for QED2,3\n",
    "kappa=1500;no_attraction=0;force_code=2;neighbor=0;varkappa=50;x0=0.\n",
    "#query the DataFrame\n",
    "query =(df.set_second==set_second)&(df.reflect==reflect)\n",
    "query&=df.r==r\n",
    "query&=df.D==D\n",
    "query&=df.L==L\n",
    "query&=df.kappa==kappa\n",
    "query&=df.varkappa==varkappa\n",
    "query&=df.x0==x0\n",
    "query&=(df.no_repulsion==no_repulsion)&(df.no_attraction==no_attraction)\n",
    "query&=(df.neighbor==neighbor)&(df.force_code==force_code)\n",
    "dg=df[query]\n",
    "x_values=dg.q.values\n",
    "y_values=dg.w.values\n",
    "x_values_force_1500=x_values.copy()\n",
    "y_values_force_1500=y_values.copy()\n",
    "\n",
    "kappa=500;\n",
    "#query the DataFrame\n",
    "query =(df.set_second==set_second)&(df.reflect==reflect)\n",
    "query&=df.r==r\n",
    "query&=df.D==D\n",
    "query&=df.L==L\n",
    "query&=df.kappa==kappa\n",
    "query&=df.varkappa==varkappa\n",
    "query&=df.x0==x0\n",
    "query&=(df.no_repulsion==no_repulsion)&(df.no_attraction==no_attraction)\n",
    "query&=(df.neighbor==neighbor)&(df.force_code==force_code)\n",
    "dg=df[query]\n",
    "x_values=dg.q.values\n",
    "y_values=dg.w.values\n",
    "x_values_force_500=x_values.copy()\n",
    "y_values_force_500=y_values.copy()"
   ]
  },
  {
   "cell_type": "code",
   "execution_count": 135,
   "metadata": {
    "ExecuteTime": {
     "end_time": "2021-06-02T20:49:49.023853Z",
     "start_time": "2021-06-02T20:49:48.637294Z"
    }
   },
   "outputs": [
    {
     "data": {
      "image/png": "[encoded data removed]",
      "text/plain": [
       "<Figure size 432x288 with 1 Axes>"
      ]
     },
     "metadata": {
      "needs_background": "light"
     },
     "output_type": "display_data"
    }
   ],
   "source": [
    "#plot fits for full model\n",
    "m_fk=1.945;#+-0.030; B_fk=2.441+-0.051\n",
    "m_lr=1.544;#+-0.034; B_lr=5.870+-0.137\n",
    "M_fk=5.67;#+-0.39 Hz*cm^{2(m-1)}\n",
    "M_lr=15.37;#+-1.57 Hz*cm^{2(m-1)}\n",
    "# RMSE_fk=0.1252 Hz/cm^2\n",
    "# RMSE_lr=0.0974 Hz/cm^2\n",
    "# R^2=0.997 (FK)\n",
    "# R^2=0.994 (LR)\n",
    "# yscale=10**3\n",
    "xv=np.arange(0.1,1.,.05)\n",
    "yv_fk=M_fk*(xv)**m_fk\n",
    "yv_lr=M_lr*(xv)**m_lr\n",
    "\n",
    "fontsize=16\n",
    "# plt.xlim([0.1,1])\n",
    "# plt.ylim([1e-1,15])\n",
    "plt.yscale('log')\n",
    "plt.xscale('log')\n",
    "# plt.plot(xv,yv_fk,label='FK power law fit',zorder=3,lw=4)\n",
    "plt.plot(xv,yv_lr,label='LR power law fit',zorder=3,lw=4,color='C1')\n",
    "\n",
    "fontsize=18\n",
    "# plt.plot(x_values_control_500,y_values_control_500,'-',c='k',alpha=.7,label=r'no forces, $\\kappa=500$ Hz',lw=3)\n",
    "plt.plot(x_values_control_1500,y_values_control_1500,'-',c='k',alpha=.7,label=r'no forces, $\\kappa=1500$ Hz',lw=3)\n",
    "# plt.plot(x_values_force_500,y_values_force_500,'-',c='g',alpha=.7,label=r'1/$r$ forces, $\\kappa=500$ Hz',lw=3)\n",
    "plt.plot(x_values_force_1500,y_values_force_1500,'-',c='g',alpha=.7,label=r'1/$r$ forces, $\\kappa=1500$ Hz',lw=3)\n",
    "\n",
    "# plt.plot(x_values,y_values,c='C2',alpha=.7,label='simulation',lw=6)\n",
    "# plt.plot(x_values_force,y_values_force,c='C3',alpha=.7,label='simulation with forces',lw=6)\n",
    "# plt.plot(x_values,y_values,c=c_values,alpha=0.4,cmap='bwr')\n",
    "# plt.title(u'comparison to simulation\\nwith two hybrid modes',fontsize=fontsize)\n",
    "plt.xlabel(r'q (cm$^{-2}$)',fontsize=fontsize)\n",
    "plt.ylabel(r'w (Hz cm$^{-2}$)', fontsize=fontsize)\n",
    "plt.tick_params(axis='both', which='major', labelsize=fontsize)\n",
    "plt.tick_params(axis='both', which='minor', labelsize=0)\n",
    "plt.legend(fontsize=fontsize-5)\n",
    "# plt.xlim([0.08,1])\n",
    "# print(f'varkappa={varkappa}  Hz');print(f'      x0={x0} cm')\n",
    "plt.title(r'$\\varkappa=$'+f'{varkappa}  Hz cm, '+f'\\nforce_code={force_code}, neighbors={neighbor}\\n',fontsize=fontsize)\n",
    "plt.show()"
   ]
  },
  {
   "cell_type": "code",
   "execution_count": 136,
   "metadata": {
    "ExecuteTime": {
     "end_time": "2021-06-02T20:50:04.226829Z",
     "start_time": "2021-06-02T20:50:03.787317Z"
    }
   },
   "outputs": [
    {
     "data": {
      "image/png": "[encoded data removed]",
      "text/plain": [
       "<Figure size 432x288 with 1 Axes>"
      ]
     },
     "metadata": {
      "needs_background": "light"
     },
     "output_type": "display_data"
    }
   ],
   "source": [
    "#plot fits for full model\n",
    "m_fk=1.945;#+-0.030; B_fk=2.441+-0.051\n",
    "m_lr=1.544;#+-0.034; B_lr=5.870+-0.137\n",
    "M_fk=5.67;#+-0.39 Hz*cm^{2(m-1)}\n",
    "M_lr=15.37;#+-1.57 Hz*cm^{2(m-1)}\n",
    "# RMSE_fk=0.1252 Hz/cm^2\n",
    "# RMSE_lr=0.0974 Hz/cm^2\n",
    "# R^2=0.997 (FK)\n",
    "# R^2=0.994 (LR)\n",
    "# yscale=10**3\n",
    "xv=np.arange(0.1,1.,.05)\n",
    "yv_fk=M_fk*(xv)**m_fk\n",
    "yv_lr=M_lr*(xv)**m_lr\n",
    "\n",
    "fontsize=16\n",
    "# plt.xlim([0.1,1])\n",
    "# plt.ylim([1e-1,15])\n",
    "plt.yscale('log')\n",
    "plt.xscale('log')\n",
    "plt.plot(xv,yv_fk,label='FK power law fit',zorder=3,lw=4)\n",
    "# plt.plot(xv,yv_lr,label='LR power law fit',zorder=3,lw=4,color='C1')\n",
    "\n",
    "fontsize=18\n",
    "plt.plot(x_values_control_500,y_values_control_500,'-',c='k',alpha=.7,label=r'no forces, $\\kappa=500$ Hz',lw=3)\n",
    "# plt.plot(x_values_control_1500,y_values_control_1500,'-',c='k',alpha=.7,label=r'no forces, $\\kappa=1500$ Hz',lw=3)\n",
    "plt.plot(x_values_force_500,y_values_force_500,'-',c='g',alpha=.7,label=r'1/$r$ forces, $\\kappa=500$ Hz',lw=3)\n",
    "# plt.plot(x_values_force_1500,y_values_force_1500,'-',c='g',alpha=.7,label=r'1/$r$ forces, $\\kappa=1500$ Hz',lw=3)\n",
    "\n",
    "# plt.plot(x_values,y_values,c='C2',alpha=.7,label='simulation',lw=6)\n",
    "# plt.plot(x_values_force,y_values_force,c='C3',alpha=.7,label='simulation with forces',lw=6)\n",
    "# plt.plot(x_values,y_values,c=c_values,alpha=0.4,cmap='bwr')\n",
    "# plt.title(u'comparison to simulation\\nwith two hybrid modes',fontsize=fontsize)\n",
    "plt.xlabel(r'q (cm$^{-2}$)',fontsize=fontsize)\n",
    "plt.ylabel(r'w (Hz cm$^{-2}$)', fontsize=fontsize)\n",
    "plt.tick_params(axis='both', which='major', labelsize=fontsize)\n",
    "plt.tick_params(axis='both', which='minor', labelsize=0)\n",
    "plt.legend(fontsize=fontsize-5)\n",
    "# plt.xlim([0.08,1])\n",
    "# print(f'varkappa={varkappa}  Hz');print(f'      x0={x0} cm')\n",
    "plt.title(r'$\\varkappa=$'+f'{varkappa}  Hz cm, '+f'\\nforce_code={force_code}, neighbors={neighbor}\\n',fontsize=fontsize)\n",
    "plt.show()"
   ]
  },
  {
   "cell_type": "code",
   "execution_count": null,
   "metadata": {},
   "outputs": [],
   "source": []
  },
  {
   "cell_type": "markdown",
   "metadata": {
    "ExecuteTime": {
     "end_time": "2021-06-02T20:19:58.908431Z",
     "start_time": "2021-06-02T20:19:58.874028Z"
    }
   },
   "source": [
    "## plot token trials for long range 1/r^2 forces"
   ]
  },
  {
   "cell_type": "code",
   "execution_count": 137,
   "metadata": {
    "ExecuteTime": {
     "end_time": "2021-06-02T20:51:40.547207Z",
     "start_time": "2021-06-02T20:51:40.524416Z"
    }
   },
   "outputs": [],
   "source": [
    "#token long-ranged forces\n",
    "# force_code_values=np.array([2,3])\n",
    "# no_attraction_values=np.array([0])\n",
    "# neighbor_values=np.array([0,1])\n",
    "# set_second_values=np.array([0])\n",
    "# varkappa_values=np.array([0.1,1.,5.,10.,20.,50.])#1/s\n",
    "# x0_values=np.array([0.])#,1.0,5.0])#cm #x0 does nothing for QED2,3\n",
    "kappa=1500;no_attraction=0;force_code=3;neighbor=0;varkappa=50;x0=0.\n",
    "#query the DataFrame\n",
    "query =(df.set_second==set_second)&(df.reflect==reflect)\n",
    "query&=df.r==r\n",
    "query&=df.D==D\n",
    "query&=df.L==L\n",
    "query&=df.kappa==kappa\n",
    "query&=df.varkappa==varkappa\n",
    "query&=df.x0==x0\n",
    "query&=(df.no_repulsion==no_repulsion)&(df.no_attraction==no_attraction)\n",
    "query&=(df.neighbor==neighbor)&(df.force_code==force_code)\n",
    "dg=df[query]\n",
    "x_values=dg.q.values\n",
    "y_values=dg.w.values\n",
    "x_values_force_1500=x_values.copy()\n",
    "y_values_force_1500=y_values.copy()\n",
    "\n",
    "kappa=500;\n",
    "#query the DataFrame\n",
    "query =(df.set_second==set_second)&(df.reflect==reflect)\n",
    "query&=df.r==r\n",
    "query&=df.D==D\n",
    "query&=df.L==L\n",
    "query&=df.kappa==kappa\n",
    "query&=df.varkappa==varkappa\n",
    "query&=df.x0==x0\n",
    "query&=(df.no_repulsion==no_repulsion)&(df.no_attraction==no_attraction)\n",
    "query&=(df.neighbor==neighbor)&(df.force_code==force_code)\n",
    "dg=df[query]\n",
    "x_values=dg.q.values\n",
    "y_values=dg.w.values\n",
    "x_values_force_500=x_values.copy()\n",
    "y_values_force_500=y_values.copy()"
   ]
  },
  {
   "cell_type": "code",
   "execution_count": 139,
   "metadata": {
    "ExecuteTime": {
     "end_time": "2021-06-02T20:52:31.883605Z",
     "start_time": "2021-06-02T20:52:31.522663Z"
    }
   },
   "outputs": [
    {
     "data": {
      "image/png": "[encoded data removed]",
      "text/plain": [
       "<Figure size 432x288 with 1 Axes>"
      ]
     },
     "metadata": {
      "needs_background": "light"
     },
     "output_type": "display_data"
    }
   ],
   "source": [
    "#plot fits for full model\n",
    "m_fk=1.945;#+-0.030; B_fk=2.441+-0.051\n",
    "m_lr=1.544;#+-0.034; B_lr=5.870+-0.137\n",
    "M_fk=5.67;#+-0.39 Hz*cm^{2(m-1)}\n",
    "M_lr=15.37;#+-1.57 Hz*cm^{2(m-1)}\n",
    "# RMSE_fk=0.1252 Hz/cm^2\n",
    "# RMSE_lr=0.0974 Hz/cm^2\n",
    "# R^2=0.997 (FK)\n",
    "# R^2=0.994 (LR)\n",
    "# yscale=10**3\n",
    "xv=np.arange(0.1,1.,.05)\n",
    "yv_fk=M_fk*(xv)**m_fk\n",
    "yv_lr=M_lr*(xv)**m_lr\n",
    "\n",
    "fontsize=16\n",
    "# plt.xlim([0.1,1])\n",
    "# plt.ylim([1e-1,15])\n",
    "plt.yscale('log')\n",
    "plt.xscale('log')\n",
    "# plt.plot(xv,yv_fk,label='FK power law fit',zorder=3,lw=4)\n",
    "plt.plot(xv,yv_lr,label='LR power law fit',zorder=3,lw=4,color='C1')\n",
    "\n",
    "fontsize=18\n",
    "# plt.plot(x_values_control_500,y_values_control_500,'-',c='k',alpha=.7,label=r'no forces, $\\kappa=500$ Hz',lw=3)\n",
    "plt.plot(x_values_control_1500,y_values_control_1500,'-',c='k',alpha=.7,label=r'no forces, $\\kappa=1500$ Hz',lw=3)\n",
    "# plt.plot(x_values_force_500,y_values_force_500,'-',c='g',alpha=.7,label=r'1/$r^2$ forces, $\\kappa=500$ Hz',lw=3)\n",
    "plt.plot(x_values_force_1500,y_values_force_1500,'-',c='g',alpha=.7,label=r'1/$r^2$ forces, $\\kappa=1500$ Hz',lw=3)\n",
    "\n",
    "# plt.plot(x_values,y_values,c='C2',alpha=.7,label='simulation',lw=6)\n",
    "# plt.plot(x_values_force,y_values_force,c='C3',alpha=.7,label='simulation with forces',lw=6)\n",
    "# plt.plot(x_values,y_values,c=c_values,alpha=0.4,cmap='bwr')\n",
    "# plt.title(u'comparison to simulation\\nwith two hybrid modes',fontsize=fontsize)\n",
    "plt.xlabel(r'q (cm$^{-2}$)',fontsize=fontsize)\n",
    "plt.ylabel(r'w (Hz cm$^{-2}$)', fontsize=fontsize)\n",
    "plt.tick_params(axis='both', which='major', labelsize=fontsize)\n",
    "plt.tick_params(axis='both', which='minor', labelsize=0)\n",
    "plt.legend(fontsize=fontsize-5)\n",
    "# plt.xlim([0.08,1])\n",
    "# print(f'varkappa={varkappa}  Hz');print(f'      x0={x0} cm')\n",
    "plt.title(r'$\\varkappa=$'+f'{varkappa}  Hz cm^2, '+f'\\nforce_code={force_code}, neighbors={neighbor}\\n',fontsize=fontsize)\n",
    "plt.show()"
   ]
  },
  {
   "cell_type": "code",
   "execution_count": 161,
   "metadata": {
    "ExecuteTime": {
     "end_time": "2021-06-02T20:56:04.126813Z",
     "start_time": "2021-06-02T20:56:03.748961Z"
    }
   },
   "outputs": [
    {
     "data": {
      "image/png": "[encoded data removed]",
      "text/plain": [
       "<Figure size 432x288 with 1 Axes>"
      ]
     },
     "metadata": {
      "needs_background": "light"
     },
     "output_type": "display_data"
    }
   ],
   "source": [
    "#plot fits for full model\n",
    "m_fk=1.945;#+-0.030; B_fk=2.441+-0.051\n",
    "m_lr=1.544;#+-0.034; B_lr=5.870+-0.137\n",
    "M_fk=5.67;#+-0.39 Hz*cm^{2(m-1)}\n",
    "M_lr=15.37;#+-1.57 Hz*cm^{2(m-1)}\n",
    "# RMSE_fk=0.1252 Hz/cm^2\n",
    "# RMSE_lr=0.0974 Hz/cm^2\n",
    "# R^2=0.997 (FK)\n",
    "# R^2=0.994 (LR)\n",
    "# yscale=10**3\n",
    "xv=np.arange(0.1,1.,.05)\n",
    "yv_fk=M_fk*(xv)**m_fk\n",
    "yv_lr=M_lr*(xv)**m_lr\n",
    "\n",
    "fontsize=16\n",
    "# plt.xlim([0.1,1])\n",
    "# plt.ylim([1e-1,15])\n",
    "plt.yscale('log')\n",
    "plt.xscale('log')\n",
    "plt.plot(xv,yv_fk,label='FK power law fit',zorder=3,lw=4)\n",
    "# plt.plot(xv,yv_lr,label='LR power law fit',zorder=3,lw=4,color='C1')\n",
    "\n",
    "fontsize=18\n",
    "plt.plot(x_values_control_500,y_values_control_500,'-',c='k',alpha=.7,label=r'no forces, $\\kappa=500$ Hz',lw=3)\n",
    "# plt.plot(x_values_control_1500,y_values_control_1500,'-',c='k',alpha=.7,label=r'no forces, $\\kappa=1500$ Hz',lw=3)\n",
    "plt.plot(x_values_force_500,y_values_force_500,'-',c='g',alpha=.7,label=r'1/$r^2$ forces, $\\kappa=500$ Hz',lw=3)\n",
    "# plt.plot(x_values_force_1500,y_values_force_1500,'-',c='g',alpha=.7,label=r'1/$r^2$ forces, $\\kappa=1500$ Hz',lw=3)\n",
    "\n",
    "# plt.plot(x_values,y_values,c='C2',alpha=.7,label='simulation',lw=6)\n",
    "# plt.plot(x_values_force,y_values_force,c='C3',alpha=.7,label='simulation with forces',lw=6)\n",
    "# plt.plot(x_values,y_values,c=c_values,alpha=0.4,cmap='bwr')\n",
    "# plt.title(u'comparison to simulation\\nwith two hybrid modes',fontsize=fontsize)\n",
    "plt.xlabel(r'q (cm$^{-2}$)',fontsize=fontsize)\n",
    "plt.ylabel(r'w (Hz cm$^{-2}$)', fontsize=fontsize)\n",
    "plt.tick_params(axis='both', which='major', labelsize=fontsize)\n",
    "plt.tick_params(axis='both', which='minor', labelsize=0)\n",
    "plt.legend(fontsize=fontsize-5)\n",
    "# plt.xlim([0.08,1])\n",
    "# print(f'varkappa={varkappa}  Hz');print(f'      x0={x0} cm')\n",
    "plt.title(r'$\\varkappa=$'+f'{varkappa}  Hz cm^2, '+f'\\nforce_code={force_code}, neighbors={neighbor}\\n',fontsize=fontsize)\n",
    "plt.show()"
   ]
  },
  {
   "cell_type": "code",
   "execution_count": null,
   "metadata": {},
   "outputs": [],
   "source": []
  },
  {
   "cell_type": "code",
   "execution_count": 158,
   "metadata": {
    "ExecuteTime": {
     "end_time": "2021-06-02T20:54:42.595348Z",
     "start_time": "2021-06-02T20:54:42.581608Z"
    }
   },
   "outputs": [
    {
     "name": "stdout",
     "output_type": "stream",
     "text": [
      "m Delta_m b Delta_b Rsquared\n",
      "2.2061080037818326 0.022902019300985066 3.2420266286378903 0.031409788176236186 0.9986278301835647\n",
      "Therefore, 95% confidence interval DOES include exponent values observed from the Luo-Rudy model, but for this trial, only low densities.\n"
     ]
    }
   ],
   "source": [
    "#slice relevant particle density to the particle densities observed from the full model\n",
    "L=L_values[0]\n",
    "# x_values=x_values_force_500#dg[dg.L==L].q.values\n",
    "# y_values=y_values_force_500#dg[dg.L==L].w.values\n",
    "x_values=x_values_spring_1500#dg[dg.L==L].q.values\n",
    "y_values=y_values_spring_1500#dg[dg.L==L].w.values\n",
    "qmin=0.06;qmax=0.6\n",
    "boo=(x_values>qmin)&(x_values<qmax)\n",
    "dict_ci=compute_95CI_ols(np.log(x_values[boo]),np.log(y_values[boo]))\n",
    "print(*dict_ci)\n",
    "print(*dict_ci.values())\n",
    "print(f\"Therefore, 95% confidence interval DOES include exponent values observed from the Luo-Rudy model, but for this trial, only low densities.\")"
   ]
  },
  {
   "cell_type": "code",
   "execution_count": 159,
   "metadata": {
    "ExecuteTime": {
     "end_time": "2021-06-02T20:54:43.613781Z",
     "start_time": "2021-06-02T20:54:43.598191Z"
    }
   },
   "outputs": [
    {
     "data": {
      "text/plain": [
       "(74,)"
      ]
     },
     "execution_count": 159,
     "metadata": {},
     "output_type": "execute_result"
    }
   ],
   "source": [
    "#compute sliding m\n",
    "xavg_values,slope_values,Rsquared_values = compute_sliding_slope_loglog(x_values,y_values,    \n",
    "    x_min=qmin,\n",
    "    window_width=0.2,\n",
    "    stepsize=0.01,\n",
    ")\n",
    "xavg_values.shape"
   ]
  },
  {
   "cell_type": "code",
   "execution_count": null,
   "metadata": {
    "ExecuteTime": {
     "end_time": "2021-05-24T23:34:04.988108Z",
     "start_time": "2021-05-24T23:34:04.975906Z"
    }
   },
   "outputs": [],
   "source": []
  },
  {
   "cell_type": "code",
   "execution_count": 160,
   "metadata": {
    "ExecuteTime": {
     "end_time": "2021-06-02T20:54:44.662723Z",
     "start_time": "2021-06-02T20:54:44.551256Z"
    },
    "run_control": {
     "marked": true
    }
   },
   "outputs": [
    {
     "data": {
      "image/png": "[encoded data removed]",
      "text/plain": [
       "<Figure size 432x288 with 1 Axes>"
      ]
     },
     "metadata": {
      "needs_background": "light"
     },
     "output_type": "display_data"
    }
   ],
   "source": [
    "fontsize=18\n",
    "x=xavg_values[:-1]\n",
    "# y=Rsquared_values[:-1]\n",
    "y=slope_values[:-1]\n",
    "plt.plot(x,y,lw=2)\n",
    "# plt.scatter(x,y,s=10)\n",
    "# plt.xlabel('N',fontsize=fontsize)\n",
    "# plt.ylabel('Collision Rate',fontsize=fontsize)\n",
    "# plt.xscale('log')\n",
    "# plt.title(u'comparison to simulation\\nwith two hybrid modes',fontsize=fontsize)\n",
    "plt.xlabel(r'q (cm$^{-2}$)',fontsize=fontsize)\n",
    "plt.ylabel(r'exponent', fontsize=fontsize)\n",
    "plt.tick_params(axis='both', which='major', labelsize=fontsize)\n",
    "plt.tick_params(axis='both', which='minor', labelsize=0)\n",
    "# print(f'varkappa={varkappa}  Hz');print(f'      x0={x0} cm')\n",
    "plt.title(r'$\\varkappa=$'+f'{varkappa}  Hz cm^2, '+f'\\nforce_code={force_code}, neighbors={neighbor}\\n',fontsize=fontsize)\n",
    "plt.show()"
   ]
  },
  {
   "cell_type": "markdown",
   "metadata": {
    "heading_collapsed": true
   },
   "source": [
    "# (skip) print powerlaw fits"
   ]
  },
  {
   "cell_type": "code",
   "execution_count": 31,
   "metadata": {
    "ExecuteTime": {
     "end_time": "2021-06-02T20:00:38.022641Z",
     "start_time": "2021-06-02T20:00:37.977959Z"
    },
    "hidden": true
   },
   "outputs": [],
   "source": [
    "def slice_df_and_print_powerlaw_fit(r,D,L,kappa,varkappa,x0,q_min=0.06,q_max=.2,no_attraction=0,no_repulsion=1,force_code=2):\n",
    "    '''map from trial to power law fit in interval q_min to q_max'''\n",
    "    #query the DataFrame\n",
    "    query =(df.set_second==set_second_values[0])&(df.reflect==reflect_values[0])\n",
    "    query&=df.r==r#r_values[0]\n",
    "    query&=df.D==D#D_values[0]\n",
    "    query&=df.L==L#L_values[0]\n",
    "    query&=df.kappa==kappa\n",
    "    query&=df.varkappa==varkappa#_values#[-1]#5]\n",
    "    query&=df.x0==x0#_values[2]\n",
    "    query&=(df.no_repulsion==no_repulsion)&(df.no_attraction==no_attraction)\n",
    "    dff=df[query]\n",
    "    dg=dff.copy()#[dff.kappa==kappa]#kappa_values[0]]#smaller reaction rate\n",
    "\n",
    "    x_values=dg.q.values\n",
    "    y_values=dg.w.values\n",
    "\n",
    "    # q_min=0.1;q_max=.4\n",
    "    # boo=(x_values>q_min)&(x_values<q_max)\n",
    "    # x=np.log(x_values[boo])\n",
    "    # y=np.log(y_values[boo])\n",
    "    # dict_out=compute_95CI_ols(x,y)\n",
    "    # dict_out\n",
    "    boo=(x_values>q_min)&(x_values<q_max)\n",
    "    x=x_values[boo]\n",
    "    y=y_values[boo]\n",
    "#     print(x)\n",
    "    print_fit_power_law(x,y)"
   ]
  },
  {
   "cell_type": "code",
   "execution_count": 16,
   "metadata": {
    "ExecuteTime": {
     "end_time": "2021-05-28T01:28:17.688288Z",
     "start_time": "2021-05-28T01:28:17.672114Z"
    },
    "hidden": true
   },
   "outputs": [
    {
     "name": "stdout",
     "output_type": "stream",
     "text": [
      "m=1.504+-0.063; B=1.263+-0.066\n",
      "M= 1.42+-0.14 Hz*cm^{2(m-1)}\n",
      "RMSE=0.0035 Hz/cm^2\n",
      "R^2=0.995\n"
     ]
    }
   ],
   "source": [
    "varkappa=varkappa_values[-1]\n",
    "x0=x0_values[2]\n",
    "kappa=kappa_values[0]\n",
    "\n",
    "r=r_values[0];D=D_values[0];L=L_values[0];\n",
    "slice_df_and_print_powerlaw_fit(r,D,L,kappa,varkappa,x0)"
   ]
  },
  {
   "cell_type": "code",
   "execution_count": 17,
   "metadata": {
    "ExecuteTime": {
     "end_time": "2021-05-28T01:28:18.201020Z",
     "start_time": "2021-05-28T01:28:18.160383Z"
    },
    "hidden": true
   },
   "outputs": [
    {
     "name": "stdout",
     "output_type": "stream",
     "text": [
      "for r=0.100 cm and D=2 cm^2/s fixed,\n",
      "the powerlaw fit for varkappa=-20 cm and x0=1.0 was\n",
      "m=3.004+-0.168; B=4.158+-0.258\n",
      "M= 72.26+-38.81 Hz*cm^{2(m-1)}\n",
      "RMSE=0.0263 Hz/cm^2\n",
      "R^2=0.991\n",
      "\n",
      "for r=0.100 cm and D=2 cm^2/s fixed,\n",
      "the powerlaw fit for varkappa=-10 cm and x0=1.0 was\n",
      "m=2.831+-0.110; B=3.264+-0.130\n",
      "M= 28.48+-7.90 Hz*cm^{2(m-1)}\n",
      "RMSE=0.0087 Hz/cm^2\n",
      "R^2=0.996\n",
      "\n",
      "for r=0.100 cm and D=2 cm^2/s fixed,\n",
      "the powerlaw fit for varkappa=-5 cm and x0=1.0 was\n",
      "m=2.837+-0.097; B=2.787+-0.087\n",
      "M= 18.33+-3.82 Hz*cm^{2(m-1)}\n",
      "RMSE=0.0041 Hz/cm^2\n",
      "R^2=0.997\n",
      "\n",
      "for r=0.100 cm and D=2 cm^2/s fixed,\n",
      "the powerlaw fit for varkappa=0 cm and x0=1.0 was\n",
      "m=2.830+-0.094; B=2.241+-0.085\n",
      "M= 9.82+-1.99 Hz*cm^{2(m-1)}\n",
      "RMSE=0.0027 Hz/cm^2\n",
      "R^2=0.997\n",
      "\n",
      "for r=0.100 cm and D=2 cm^2/s fixed,\n",
      "the powerlaw fit for varkappa=5 cm and x0=1.0 was\n",
      "m=1.920+-0.073; B=1.579+-0.068\n",
      "M= 2.40+-0.30 Hz*cm^{2(m-1)}\n",
      "RMSE=0.0027 Hz/cm^2\n",
      "R^2=0.996\n",
      "\n",
      "for r=0.100 cm and D=2 cm^2/s fixed,\n",
      "the powerlaw fit for varkappa=10 cm and x0=1.0 was\n",
      "Error: empty slice!\n",
      "\n",
      "for r=0.100 cm and D=2 cm^2/s fixed,\n",
      "the powerlaw fit for varkappa=20 cm and x0=1.0 was\n",
      "m=1.504+-0.063; B=1.263+-0.066\n",
      "M= 1.42+-0.14 Hz*cm^{2(m-1)}\n",
      "RMSE=0.0035 Hz/cm^2\n",
      "R^2=0.995\n",
      "\n"
     ]
    }
   ],
   "source": [
    "# r=r_values[0];D=D_values[0];\n",
    "# varkappa=varkappa_values[0]\n",
    "# x0=x0_values[0]\n",
    "for varkappa in varkappa_values:#[::2]:\n",
    "    print(f\"for r={r:.3f} cm and D={D} cm^2/s fixed,\")\n",
    "    print(f\"the powerlaw fit for varkappa={varkappa} cm and x0={x0} was\")\n",
    "    try:\n",
    "        slice_df_and_print_powerlaw_fit(r,D,L,kappa,varkappa,x0)\n",
    "    except AssertionError as e:\n",
    "        print(f\"Error: empty slice!\")\n",
    "    print(f'')    "
   ]
  },
  {
   "cell_type": "code",
   "execution_count": null,
   "metadata": {
    "hidden": true
   },
   "outputs": [],
   "source": []
  },
  {
   "cell_type": "markdown",
   "metadata": {
    "hidden": true
   },
   "source": [
    "__Result__\n",
    "- attractive spring at with x0=0 gave $m \\approx 2$... Several values are superquadratic."
   ]
  },
  {
   "cell_type": "code",
   "execution_count": 120,
   "metadata": {
    "ExecuteTime": {
     "end_time": "2021-05-26T21:22:15.821246Z",
     "start_time": "2021-05-26T21:22:06.523931Z"
    },
    "hidden": true
   },
   "outputs": [
    {
     "name": "stdout",
     "output_type": "stream",
     "text": [
      "output redirected to /home/timothytyree/Documents/GitHub/bgmc/python/data/osg_output/run_10_all_powerfits.txt.\n",
      "number of trials considered = 2688\n"
     ]
    }
   ],
   "source": [
    "import sys\n",
    "\n",
    "text_fn=data_dir.replace('.csv','_powerfits.txt')\n",
    "original_stdout = sys.stdout # Save a reference to the original standard output\n",
    "count=0\n",
    "with open(text_fn, 'w') as f:\n",
    "    sys.stdout = f # Change the standard output to the file we created.\n",
    "    #     r=r_values[1];D=D_values[3];\n",
    "    for r in r_values:\n",
    "        for D in D_values:\n",
    "            for L in L_values:\n",
    "                for kappa in kappa_values:\n",
    "                    for varkappa in varkappa_values:\n",
    "                        for x0 in x0_values:\n",
    "                            for no_repulsion in no_repulsion_values:\n",
    "                                for no_attraction in no_attraction_values:\n",
    "                                    print(f\"for r={r:.3f} cm, D={D:.3f} cm^2/s, kappa={kappa:.0f} 1/s,no_repulsion={no_repulsion==1}, and no_attraction={no_attraction==1} fixed\")\n",
    "                                    print(f\"the powerlaw fit for varkappa={varkappa:.1f} cm and x0={x0:.1f} was\")\n",
    "                                    try:\n",
    "                                        slice_df_and_print_powerlaw_fit(r,D,L,kappa,varkappa,x0)\n",
    "                                    except AssertionError as e:\n",
    "                                        print(f\"Error: empty slice!\")\n",
    "                                    print(f'')\n",
    "                                    count+=1\n",
    "\n",
    "sys.stdout = original_stdout # Reset the standard output to its original value\n",
    "print(f'output redirected to {text_fn}.')\n",
    "print(f\"number of trials considered = {count}\")"
   ]
  },
  {
   "cell_type": "markdown",
   "metadata": {
    "ExecuteTime": {
     "end_time": "2021-05-05T18:17:56.824839Z",
     "start_time": "2021-05-05T18:17:56.002151Z"
    },
    "hidden": true
   },
   "source": [
    "__Result__\n",
    "- no trials exhibited exponent smaller than m<2.00000. \n",
    "- the robust exponents are still too large to support the LR model, which has m=1.544..."
   ]
  },
  {
   "cell_type": "markdown",
   "metadata": {
    "heading_collapsed": true
   },
   "source": [
    "# (skip?) varying varkappa for Case 3 of spring forces"
   ]
  },
  {
   "cell_type": "code",
   "execution_count": 261,
   "metadata": {
    "ExecuteTime": {
     "end_time": "2021-05-27T00:36:52.326189Z",
     "start_time": "2021-05-27T00:36:51.902716Z"
    },
    "hidden": true
   },
   "outputs": [
    {
     "name": "stdout",
     "output_type": "stream",
     "text": [
      "x0=1.0\n"
     ]
    },
    {
     "data": {
      "image/png": "[encoded data removed]",
      "text/plain": [
       "<Figure size 432x288 with 1 Axes>"
      ]
     },
     "metadata": {
      "needs_background": "light"
     },
     "output_type": "display_data"
    }
   ],
   "source": [
    "x0=x0_values[2];print(f\"x0={x0}\")\n",
    "no_repulsion=1;no_attraction=0;\n",
    "r=r_values[0];D=D_values[0];L=L_values[-1]\n",
    "#plot fits for full model\n",
    "m_fk=1.945;#+-0.030; B_fk=2.441+-0.051\n",
    "m_lr=1.544;#+-0.034; B_lr=5.870+-0.137\n",
    "M_fk=5.67;#+-0.39 Hz*cm^{2(m-1)}\n",
    "M_lr=15.37;#+-1.57 Hz*cm^{2(m-1)}\n",
    "# RMSE_fk=0.1252 Hz/cm^2\n",
    "# RMSE_lr=0.0974 Hz/cm^2\n",
    "# R^2=0.997 (FK)\n",
    "# R^2=0.994 (LR)\n",
    "# yscale=10**3\n",
    "xv=np.arange(0.1,1.,.05)\n",
    "yv_fk=M_fk*(xv)**m_fk\n",
    "yv_lr=M_lr*(xv)**m_lr\n",
    "\n",
    "fontsize=16\n",
    "# plt.xlim([0.1,1])\n",
    "# plt.ylim([1e-1,15])\n",
    "plt.yscale('log')\n",
    "plt.xscale('log')\n",
    "plt.plot(xv,yv_fk,label='FK power law fit',zorder=3,lw=4)\n",
    "plt.plot(xv,yv_lr,label='LR power law fit',zorder=3,lw=4)\n",
    "\n",
    "#plot data\n",
    "for varkappa in varkappa_values[:4]:#[::2]:\n",
    "    #query the DataFrame\n",
    "    query =(df.set_second==set_second_values[0])&(df.reflect==reflect_values[0])\n",
    "    query&=df.r==r#r_values[0]\n",
    "    query&=df.D==D#D_values[0]\n",
    "    query&=df.L==L#L_values[0]\n",
    "    query&=df.kappa==kappa\n",
    "    query&=df.varkappa==varkappa#_values#[-1]#5]\n",
    "    query&=df.x0==x0#_values[2]\n",
    "    query&=(df.no_repulsion==no_repulsion)&(df.no_attraction==no_attraction)\n",
    "    dff=df[query]\n",
    "    dg=dff.copy()#[dff.kappa==kappa]#kappa_values[0]]#smaller reaction rate\n",
    "#     kappa_values=np.array(sorted(set(dff.kappa.values)))\n",
    "#     dg=dff[dff.kappa==kappa_values[-1]]#Luo-Rudy fit\n",
    "#     # dg=dff[dff.kappa==kappa_values[0]]#Fenton-Karma fit\n",
    "\n",
    "    x_values=dg.q.values\n",
    "    y_values=dg.w.values\n",
    "    c_values=dg.varkappa.values\n",
    "\n",
    "    plt.scatter(x_values,y_values,label=r\"$\\varkappa =$ \"+f\"{varkappa:.1f} cm\",alpha=0.8)#,cmap='bwr')\n",
    "\n",
    "# plt.ylim([1e-5,1e4])\n",
    "plt.xlabel(r'q (cm$^{-2}$)',fontsize=fontsize)\n",
    "plt.ylabel(r'w (Hz cm$^{-2}$)', fontsize=fontsize)\n",
    "plt.tick_params(axis='both', which='major', labelsize=fontsize)\n",
    "plt.tick_params(axis='both', which='minor', labelsize=0)\n",
    "plt.legend(fontsize=fontsize-6,ncol=2,loc='lower right')\n",
    "# plt.title(r'$\\varkappa=$'+f'{varkappa}  Hz, '+r'$x_0=$'+f'{x0} cm\\n',fontsize=fontsize)\n",
    "plt.title(r'$x_0=$'+f'{x0} cm\\n',fontsize=fontsize)\n",
    "plt.show()"
   ]
  },
  {
   "cell_type": "code",
   "execution_count": 217,
   "metadata": {
    "ExecuteTime": {
     "end_time": "2021-05-26T23:52:32.256126Z",
     "start_time": "2021-05-26T23:52:32.191248Z"
    },
    "hidden": true
   },
   "outputs": [
    {
     "name": "stdout",
     "output_type": "stream",
     "text": [
      "[0.9977784615639417, 0.9964752057202948, 0.9944716186518238, 0.9979713216760264, 0.9961566124177913, 0.9954945287672208]\n"
     ]
    }
   ],
   "source": [
    "q_min=0.3;q_max=.6\n",
    "#TODO: plot m+-Delta_m versus energy gap for LR and FK model\n",
    "#plot data\n",
    "kappa=kappa_values[0]\n",
    "# r=1.;D=5.;Dratio=1000;L=L_values[-1]\n",
    "eg_lst=[];m_lst=[];Dm_lst=[];Rsq_lst=[]\n",
    "for varkappa in varkappa_values:\n",
    "    try:\n",
    "        #query the DataFrame\n",
    "        query=df.r==r\n",
    "        query&=df.D==D\n",
    "        query&=df.L==L\n",
    "        query&=df.varkappa==varkappa\n",
    "        query&=df['x0']==x0\n",
    "        query&=df.kappa==kappa\n",
    "        query&=(df.no_repulsion==no_repulsion)&(df.no_attraction==no_attraction)\n",
    "        dff=df[query]\n",
    "        dg=dff.copy()\n",
    "        \n",
    "#         kappa_values=np.array(sorted(set(dff.kappa.values)))\n",
    "#         dg=dff[dff.kappa==kappa_values[-1]]#Luo-Rudy fit\n",
    "#         # dg=dff[dff.kappa==kappa_values[0]]#Fenton-Karma fit\n",
    "        x_values=dg.q.values\n",
    "        y_values=dg.w.values\n",
    "\n",
    "        boo=(x_values>q_min)&(x_values<q_max)\n",
    "        x=x_values[boo]\n",
    "        y=y_values[boo]\n",
    "\n",
    "        # print_fit_power_law(x,y)\n",
    "        B,Delta_B,m,Delta_m,Rsq=fit_power_law(x,y)\n",
    "        rmse=compute_power_rmse(x,y,m,B)\n",
    "        M, Delta_M= comp_power_scale(B,Delta_B,m,Delta_m)\n",
    "    #     print(f\"m={m:.3f}+-{Delta_m:.3f}; B={B:.3f}+-{Delta_B:.3f}\")\n",
    "    #     print(f\"M=B**m={M:.2f}+-{Delta_M:.2f} Hz*cm^{{2(m-1)}}\")\n",
    "    #     print(f\"RMSE={rmse:.4f} Hz/cm^2\")\n",
    "    #     print(f\"R^2={Rsq:.3f}\")\n",
    "\n",
    "        eg_lst.append(varkappa)\n",
    "        m_lst.append(m)\n",
    "        Dm_lst.append(Delta_m)\n",
    "        Rsq_lst.append(Rsq)\n",
    "    except AssertionError as e:\n",
    "        pass\n",
    "print(Rsq_lst)"
   ]
  },
  {
   "cell_type": "code",
   "execution_count": 218,
   "metadata": {
    "ExecuteTime": {
     "end_time": "2021-05-26T23:52:35.132594Z",
     "start_time": "2021-05-26T23:52:34.983878Z"
    },
    "hidden": true,
    "scrolled": true
   },
   "outputs": [
    {
     "data": {
      "image/png": "[encoded data removed]",
      "text/plain": [
       "<Figure size 432x288 with 1 Axes>"
      ]
     },
     "metadata": {
      "needs_background": "light"
     },
     "output_type": "display_data"
    },
    {
     "name": "stdout",
     "output_type": "stream",
     "text": [
      "considering 0.3<q<0.6\n"
     ]
    }
   ],
   "source": [
    "m_fk=1.945#1.858;#+-0.027; B_fk=2.464+-0.030<br>\n",
    "m_lr=1.544#1.638;#+-0.017; B_fk=5.588+-0.067\n",
    "plt.errorbar(eg_lst, m_lst, yerr=Dm_lst, fmt='-o',label='Monte Carlo')\n",
    "plt.plot(eg_lst, m_fk+0.*np.array(eg_lst), '--',c='gray',label='Fenton-Karma')\n",
    "plt.plot(eg_lst, m_lr+0.*np.array(eg_lst), '-',c='gray',label='Luo-Rudy')\n",
    "\n",
    "# plt.scatter(Dtdt_lst,m_lst,marker='^')\n",
    "# plt.xscale('log')\n",
    "title=f\"r={r:.1f} cm, \"+r\"$\\kappa$=\"+f\"{kappa:.0f} Hz\\nD={D} cm\"+r\"$^2$/s\"+f\", A={L**2:.0f} cm\"+r\"$^2$\"\n",
    "plt.title(title,fontsize=fontsize)\n",
    "plt.xlabel(r'$\\varkappa$',fontsize=fontsize)\n",
    "plt.ylabel('exponent',fontsize=fontsize)\n",
    "# plt.xscale('log')\n",
    "# plt.yscale('log')\n",
    "plt.tick_params(axis='both', which='major', labelsize=fontsize)\n",
    "plt.tick_params(axis='both', which='minor', labelsize=0)\n",
    "# plt.legend(fontsize=fontsize-8)#,ncol=2)\n",
    "# plt.xlim([10,50])\n",
    "# plt.ylim([0.9,2.3])\n",
    "# plt.grid('on')\n",
    "plt.legend(fontsize=fontsize-2)\n",
    "plt.show()\n",
    "# print(\"considering 20<N<50 spiral tips\")\n",
    "# print(\"considering N<20 spiral tips\")\n",
    "print(f\"considering {q_min}<q<{q_max}\")"
   ]
  },
  {
   "cell_type": "markdown",
   "metadata": {
    "heading_collapsed": true
   },
   "source": [
    "# (skip) varying x0 for Case 3 of spring forces"
   ]
  },
  {
   "cell_type": "code",
   "execution_count": 286,
   "metadata": {
    "ExecuteTime": {
     "end_time": "2021-05-27T00:51:07.917022Z",
     "start_time": "2021-05-27T00:51:07.569646Z"
    },
    "hidden": true
   },
   "outputs": [
    {
     "name": "stdout",
     "output_type": "stream",
     "text": [
      "varkappa=-20\n",
      "D=20\n",
      "kappa=1500\n"
     ]
    },
    {
     "data": {
      "image/png": "[encoded data removed]",
      "text/plain": [
       "<Figure size 432x288 with 1 Axes>"
      ]
     },
     "metadata": {
      "needs_background": "light"
     },
     "output_type": "display_data"
    }
   ],
   "source": [
    "varkappa=varkappa_values[0];print(f'varkappa={varkappa}')\n",
    "# varkappa=varkappa_values[2];print(f'varkappa={varkappa}')\n",
    "r=r_values[0];\n",
    "D=D_values[1];print(f'D={D}')\n",
    "L=L_values[-1]\n",
    "kappa_values=np.array(sorted(set(df['kappa'].values)))\n",
    "kappa=kappa_values[2];print(f'kappa={kappa}')\n",
    "#plot fits for full model\n",
    "m_fk=1.945;#+-0.030; B_fk=2.441+-0.051\n",
    "m_lr=1.544;#+-0.034; B_lr=5.870+-0.137\n",
    "M_fk=5.67;#+-0.39 Hz*cm^{2(m-1)}\n",
    "M_lr=15.37;#+-1.57 Hz*cm^{2(m-1)}\n",
    "# RMSE_fk=0.1252 Hz/cm^2\n",
    "# RMSE_lr=0.0974 Hz/cm^2\n",
    "# R^2=0.997 (FK)\n",
    "# R^2=0.994 (LR)\n",
    "# yscale=10**3\n",
    "xv=np.arange(0.1,1.,.05)\n",
    "yv_fk=M_fk*(xv)**m_fk\n",
    "yv_lr=M_lr*(xv)**m_lr\n",
    "\n",
    "fontsize=16\n",
    "# plt.xlim([0.1,1])\n",
    "# plt.ylim([1e-1,15])\n",
    "plt.yscale('log')\n",
    "plt.xscale('log')\n",
    "plt.plot(xv,yv_fk,label='FK power law fit',zorder=3,lw=4)\n",
    "plt.plot(xv,yv_lr,label='LR power law fit',zorder=3,lw=4)\n",
    "\n",
    "#plot data\n",
    "for x0 in x0_values[[0,1,2,-4,-1]]:#[::2]:\n",
    "    #query the DataFrame\n",
    "    query=df.r==r\n",
    "    query&=df.D==D\n",
    "    query&=df.L==L\n",
    "    query&=df.varkappa==varkappa\n",
    "    query&=df['x0']==x0\n",
    "    query&=df.kappa==kappa\n",
    "    query&=(df.no_repulsion==no_repulsion)&(df.no_attraction==no_attraction)\n",
    "    dff=df[query]\n",
    "    dg=dff.copy()\n",
    "    x_values=dg.q.values\n",
    "    y_values=dg.w.values\n",
    "    if x_values.shape[0]>0:\n",
    "        plt.scatter(x_values,y_values,label=r\"$x_0 =$ \"+f\"{x0:.1f} cm\",alpha=0.8)#,cmap='bwr')\n",
    "\n",
    "plt.ylim([1e-3,1e4])\n",
    "plt.xlabel(r'q (cm$^{-2}$)',fontsize=fontsize)\n",
    "plt.ylabel(r'w (Hz cm$^{-2}$)', fontsize=fontsize)\n",
    "plt.tick_params(axis='both', which='major', labelsize=fontsize)\n",
    "plt.tick_params(axis='both', which='minor', labelsize=0)\n",
    "plt.title(r'$\\varkappa=$'+f'{varkappa}  Hz\\n',fontsize=fontsize)\n",
    "plt.legend(fontsize=fontsize-8,ncol=2,loc='lower right')\n",
    "plt.show()"
   ]
  },
  {
   "cell_type": "code",
   "execution_count": 287,
   "metadata": {
    "ExecuteTime": {
     "end_time": "2021-05-27T00:51:10.317407Z",
     "start_time": "2021-05-27T00:51:10.307171Z"
    },
    "hidden": true
   },
   "outputs": [],
   "source": [
    "# print(f\"\"\"\n",
    "# the following parameter set did not tend to finish in <10 hours...\n",
    "# r={r:.1f},D={D:.0f},L={L:.0f},kappa={kappa:.0f},varkappa={varkappa:.0f},x0={x0:.0f},no_attraction={no_attraction},no_repulsion={no_repulsion}\n",
    "# \"\"\")"
   ]
  },
  {
   "cell_type": "code",
   "execution_count": 288,
   "metadata": {
    "ExecuteTime": {
     "end_time": "2021-05-27T00:51:10.699682Z",
     "start_time": "2021-05-27T00:51:10.639991Z"
    },
    "hidden": true
   },
   "outputs": [
    {
     "name": "stdout",
     "output_type": "stream",
     "text": [
      "[0.996693274038762, 0.9975654219249528, 0.9972765731672059, 0.9978175206269596, 0.9976569344715482, 0.9930568480278263, 0.9961572176751932, 0.9951628886736184]\n"
     ]
    }
   ],
   "source": [
    "q_min=0.3;q_max=0.6\n",
    "#TODO: plot m+-Delta_m versus energy gap for LR and FK model\n",
    "#plot data\n",
    "# r=1.;D=5.;Dratio=1000;L=L_values[-1]\n",
    "eg_lst=[];m_lst=[];Dm_lst=[];Rsq_lst=[]\n",
    "for x0 in x0_values:\n",
    "    try:\n",
    "        #query the DataFrame\n",
    "        query=df.r==r\n",
    "        query&=df.D==D\n",
    "        query&=df.L==L\n",
    "        query&=df.varkappa==varkappa\n",
    "        query&=df['x0']==x0\n",
    "        query&=df.kappa==kappa\n",
    "        query&=(df.no_repulsion==no_repulsion)&(df.no_attraction==no_attraction)\n",
    "        dff=df[query]\n",
    "        dg=dff.copy()\n",
    "        x_values=dg.q.values\n",
    "        y_values=dg.w.values\n",
    "\n",
    "        \n",
    "        boo=(x_values>q_min)&(x_values<q_max)\n",
    "        x=x_values[boo]\n",
    "        y=y_values[boo]\n",
    "\n",
    "        # print_fit_power_law(x,y)\n",
    "        B,Delta_B,m,Delta_m,Rsq=fit_power_law(x,y)\n",
    "        rmse=compute_power_rmse(x,y,m,B)\n",
    "        M, Delta_M= comp_power_scale(B,Delta_B,m,Delta_m)\n",
    "    #     print(f\"m={m:.3f}+-{Delta_m:.3f}; B={B:.3f}+-{Delta_B:.3f}\")\n",
    "    #     print(f\"M=B**m={M:.2f}+-{Delta_M:.2f} Hz*cm^{{2(m-1)}}\")\n",
    "    #     print(f\"RMSE={rmse:.4f} Hz/cm^2\")\n",
    "    #     print(f\"R^2={Rsq:.3f}\")\n",
    "\n",
    "        eg_lst.append(x0)\n",
    "        m_lst.append(m)\n",
    "        Dm_lst.append(Delta_m)\n",
    "        Rsq_lst.append(Rsq)\n",
    "    except AssertionError as e:\n",
    "        pass\n",
    "print(Rsq_lst)"
   ]
  },
  {
   "cell_type": "code",
   "execution_count": 289,
   "metadata": {
    "ExecuteTime": {
     "end_time": "2021-05-27T00:51:11.421392Z",
     "start_time": "2021-05-27T00:51:11.264895Z"
    },
    "hidden": true
   },
   "outputs": [
    {
     "data": {
      "image/png": "[encoded data removed]",
      "text/plain": [
       "<Figure size 432x288 with 1 Axes>"
      ]
     },
     "metadata": {
      "needs_background": "light"
     },
     "output_type": "display_data"
    },
    {
     "name": "stdout",
     "output_type": "stream",
     "text": [
      "considering 0.3<q<0.6\n"
     ]
    }
   ],
   "source": [
    "m_fk=1.945#1.858;#+-0.027; B_fk=2.464+-0.030<br>\n",
    "m_lr=1.544#1.638;#+-0.017; B_fk=5.588+-0.067\n",
    "plt.errorbar(eg_lst, m_lst, yerr=Dm_lst, fmt='-o',label='Monte Carlo')\n",
    "plt.plot(eg_lst, m_fk+0.*np.array(eg_lst), '--',c='gray',label='Fenton-Karma')\n",
    "plt.plot(eg_lst, m_lr+0.*np.array(eg_lst), '-',c='gray',label='Luo-Rudy')\n",
    "\n",
    "# plt.scatter(Dtdt_lst,m_lst,marker='^')\n",
    "# plt.xscale('log')\n",
    "title=f\"r={r:.1f} cm, \"+r\"$\\kappa$=\"+f\"{kappa:.0f} Hz\\nD={D} cm\"+r\"$^2$/s\"+f\", A={L**2:.0f} cm\"+r\"$^2$\"\n",
    "plt.title(title,fontsize=fontsize)\n",
    "plt.xlabel(r'$x_0$',fontsize=fontsize)\n",
    "plt.ylabel('exponent',fontsize=fontsize)\n",
    "# plt.xscale('log')\n",
    "# plt.yscale('log')\n",
    "plt.tick_params(axis='both', which='major', labelsize=fontsize)\n",
    "plt.tick_params(axis='both', which='minor', labelsize=0)\n",
    "# plt.legend(fontsize=fontsize-8)#,ncol=2)\n",
    "# plt.xlim([10,50])\n",
    "# plt.ylim([0.9,2.3])\n",
    "# plt.grid('on')\n",
    "plt.legend(fontsize=fontsize-2)\n",
    "plt.show()\n",
    "# print(\"considering 20<N<50 spiral tips\")\n",
    "# print(\"considering N<20 spiral tips\")\n",
    "print(f\"considering {q_min}<q<{q_max}\")"
   ]
  },
  {
   "cell_type": "markdown",
   "metadata": {
    "ExecuteTime": {
     "end_time": "2021-05-26T23:12:05.448054Z",
     "start_time": "2021-05-26T23:12:05.429490Z"
    },
    "hidden": true
   },
   "source": [
    "__Result:__ at high densities, exponent values _versus_ $x_0$ appear relatively unaffected by increasing the overall rate of reaction, $\\kappa>0$.\n",
    "\n",
    "__Note:__ any trials that returned gibberish results seemed to have r=1.0cm...\n",
    "\n",
    "Can I shift the overall rate (M) without changing the exponent?  So far, no.  Unless if r does it for large r.  I only look at small r here.\n",
    "\n",
    "gibberish trials exhibited negative collision times.  \n",
    "- DONT: find the point in the analysis pipeline where gibberish trials are filtered.\n",
    "    - it is no-where in this .ipynb\n",
    "    - DONE: check around in run_9_all/ for one trial that had CollRate<0.  \n",
    "        - IF none exist, __then filter_folder.py is responsible (confirmed)__\n",
    "            - ( some exist, then I can identify them quickly with a short function using pandas.)\n",
    "- DONT: print ^that slice of the data.  Do they have something concerning in common?\n",
    "\n",
    "Looking at jobs that returned gibberish:\n",
    "- cat job.out.9981847.999\n",
    "    - r=1,kappa=1500,all forces were off\n",
    "- cat job.out.9981847.900\n",
    "    - r=1,kappa=500,all forces were on\n",
    "- cat job.out.9981847.900\n",
    "    - r=1,kappa=500,all forces were on\n",
    "    \n",
    "...no trials were observed with r=1 in df"
   ]
  },
  {
   "cell_type": "code",
   "execution_count": 111,
   "metadata": {
    "ExecuteTime": {
     "end_time": "2021-05-25T01:36:04.252385Z",
     "start_time": "2021-05-25T01:36:04.226676Z"
    },
    "hidden": true
   },
   "outputs": [
    {
     "name": "stdout",
     "output_type": "stream",
     "text": [
      "the set of r values are\n"
     ]
    },
    {
     "data": {
      "text/plain": [
       "{0.1}"
      ]
     },
     "execution_count": 111,
     "metadata": {},
     "output_type": "execute_result"
    }
   ],
   "source": [
    "print(f\"the set of r values are\")\n",
    "set(df.r.values)"
   ]
  },
  {
   "cell_type": "markdown",
   "metadata": {
    "hidden": true
   },
   "source": [
    "__Conclusion__\n",
    "- Large r values resulted in a functional failure... Avoid large r for now.  I have observed them to be small (r~0.1cm) anyway!"
   ]
  },
  {
   "cell_type": "markdown",
   "metadata": {
    "heading_collapsed": true
   },
   "source": [
    "# (skip) varying r for Case 3"
   ]
  },
  {
   "cell_type": "code",
   "execution_count": 400,
   "metadata": {
    "ExecuteTime": {
     "end_time": "2021-05-27T01:32:00.922033Z",
     "start_time": "2021-05-27T01:32:00.617043Z"
    },
    "hidden": true,
    "scrolled": true
   },
   "outputs": [
    {
     "name": "stdout",
     "output_type": "stream",
     "text": [
      "varkappa=-10\n",
      "x0=5.0\n",
      "D=2\n",
      "kappa=1500\n"
     ]
    },
    {
     "data": {
      "image/png": "[encoded data removed]",
      "text/plain": [
       "<Figure size 432x288 with 1 Axes>"
      ]
     },
     "metadata": {
      "needs_background": "light"
     },
     "output_type": "display_data"
    }
   ],
   "source": [
    "# varkappa=varkappa_values[3];print(f'varkappa={varkappa}')\n",
    "varkappa=varkappa_values[1];print(f'varkappa={varkappa}')\n",
    "# r=r_values[0];\n",
    "x0 =x0_values[-1];print(f'x0={x0}')#[0,1,2,-4,-1]]:#[::2]:\n",
    "D=D_values[0];print(f'D={D}')\n",
    "L=L_values[-1]\n",
    "kappa_values=np.array(sorted(set(df['kappa'].values)))\n",
    "kappa=kappa_values[-1];print(f'kappa={kappa}')\n",
    "no_attraction=1\n",
    "#plot fits for full model\n",
    "m_fk=1.945;#+-0.030; B_fk=2.441+-0.051\n",
    "m_lr=1.544;#+-0.034; B_lr=5.870+-0.137\n",
    "M_fk=5.67;#+-0.39 Hz*cm^{2(m-1)}\n",
    "M_lr=15.37;#+-1.57 Hz*cm^{2(m-1)}\n",
    "# RMSE_fk=0.1252 Hz/cm^2\n",
    "# RMSE_lr=0.0974 Hz/cm^2\n",
    "# R^2=0.997 (FK)\n",
    "# R^2=0.994 (LR)\n",
    "# yscale=10**3\n",
    "xv=np.arange(0.1,1.,.05)\n",
    "yv_fk=M_fk*(xv)**m_fk\n",
    "yv_lr=M_lr*(xv)**m_lr\n",
    "\n",
    "fontsize=16\n",
    "# plt.xlim([0.1,1])\n",
    "# plt.ylim([1e-1,15])\n",
    "plt.yscale('log')\n",
    "plt.xscale('log')\n",
    "plt.plot(xv,yv_fk,label='FK power law fit',zorder=3,lw=4)\n",
    "plt.plot(xv,yv_lr,label='LR power law fit',zorder=3,lw=4)\n",
    "\n",
    "#plot data\n",
    "for r in r_values:\n",
    "    #query the DataFrame\n",
    "    query=df.r==r\n",
    "    query&=df.D==D\n",
    "    query&=df.L==L\n",
    "    query&=df.varkappa==varkappa\n",
    "    query&=df['x0']==x0\n",
    "    query&=df.kappa==kappa\n",
    "    query&=(df.no_repulsion==no_repulsion)&(df.no_attraction==no_attraction)\n",
    "    dff=df[query]\n",
    "    dg=dff.copy()\n",
    "    x_values=dg.q.values\n",
    "    y_values=dg.w.values\n",
    "    if x_values.shape[0]>0:\n",
    "        plt.scatter(x_values,y_values,label=r\"$r=$ \"+f\"{r:.1f} cm\",alpha=0.8)#,cmap='bwr')\n",
    "\n",
    "plt.ylim([1e-3,1e4])\n",
    "plt.xlabel(r'q (cm$^{-2}$)',fontsize=fontsize)\n",
    "plt.ylabel(r'w (Hz cm$^{-2}$)', fontsize=fontsize)\n",
    "plt.tick_params(axis='both', which='major', labelsize=fontsize)\n",
    "plt.tick_params(axis='both', which='minor', labelsize=0)\n",
    "plt.title(r'$\\varkappa=$'+f'{varkappa}  Hz\\n',fontsize=fontsize)\n",
    "plt.legend(fontsize=fontsize-8,ncol=2,loc='lower right')\n",
    "plt.show()"
   ]
  },
  {
   "cell_type": "code",
   "execution_count": 401,
   "metadata": {
    "ExecuteTime": {
     "end_time": "2021-05-27T01:32:05.707215Z",
     "start_time": "2021-05-27T01:32:05.695595Z"
    },
    "hidden": true
   },
   "outputs": [],
   "source": [
    "# print(f\"\"\"\n",
    "# the following parameter set did not tend to finish in <10 hours...\n",
    "# r={r:.1f},D={D:.0f},L={L:.0f},kappa={kappa:.0f},varkappa={varkappa:.0f},x0={x0:.0f},no_attraction={no_attraction},no_repulsion={no_repulsion}\n",
    "# \"\"\")\n"
   ]
  },
  {
   "cell_type": "markdown",
   "metadata": {
    "hidden": true
   },
   "source": [
    "TODO: remove as many variables as possible while retaining the ability to control slope and magnitude on the log-log plot\n",
    "- fix r,L\n",
    "- try removing kappa using instantaneous reactions\n",
    "- then, try removing x0 by using scale-invariant, long-ranged forces between (i) nearest neighbors and (ii) all particles\n",
    "- vary D and varkappa to fit to model\n",
    "\n",
    "\n",
    "Alternatively, make a scatterplot of all available varkappa,x0 pairs that worked, and then make a genetic algorithm.\n",
    "\n",
    "Maybe later, consider trying a force like $F = F_1 \\log (r/r0) + F_0$"
   ]
  },
  {
   "cell_type": "code",
   "execution_count": 402,
   "metadata": {
    "ExecuteTime": {
     "end_time": "2021-05-27T01:32:07.467031Z",
     "start_time": "2021-05-27T01:32:07.437972Z"
    },
    "hidden": true
   },
   "outputs": [
    {
     "name": "stdout",
     "output_type": "stream",
     "text": [
      "[0.9961006092182717, 0.9948700088332451]\n"
     ]
    }
   ],
   "source": [
    "q_min=0.3;q_max=0.6\n",
    "#TODO: plot m+-Delta_m versus energy gap for LR and FK model\n",
    "#plot data\n",
    "# r=1.;D=5.;Dratio=1000;L=L_values[-1]\n",
    "eg_lst=[];m_lst=[];Dm_lst=[];Rsq_lst=[]\n",
    "for r in r_values:\n",
    "    try:\n",
    "        #query the DataFrame\n",
    "        query=df.r==r\n",
    "        query&=df.D==D\n",
    "        query&=df.L==L\n",
    "        query&=df.varkappa==varkappa\n",
    "        query&=df['x0']==x0\n",
    "        query&=df.kappa==kappa\n",
    "        query&=(df.no_repulsion==no_repulsion)&(df.no_attraction==no_attraction)\n",
    "        dff=df[query]\n",
    "        dg=dff.copy()\n",
    "        x_values=dg.q.values\n",
    "        y_values=dg.w.values\n",
    "\n",
    "        \n",
    "        boo=(x_values>q_min)&(x_values<q_max)\n",
    "        x=x_values[boo]\n",
    "        y=y_values[boo]\n",
    "\n",
    "        # print_fit_power_law(x,y)\n",
    "        B,Delta_B,m,Delta_m,Rsq=fit_power_law(x,y)\n",
    "        rmse=compute_power_rmse(x,y,m,B)\n",
    "        M, Delta_M= comp_power_scale(B,Delta_B,m,Delta_m)\n",
    "    #     print(f\"m={m:.3f}+-{Delta_m:.3f}; B={B:.3f}+-{Delta_B:.3f}\")\n",
    "    #     print(f\"M=B**m={M:.2f}+-{Delta_M:.2f} Hz*cm^{{2(m-1)}}\")\n",
    "    #     print(f\"RMSE={rmse:.4f} Hz/cm^2\")\n",
    "    #     print(f\"R^2={Rsq:.3f}\")\n",
    "\n",
    "        eg_lst.append(r)\n",
    "        m_lst.append(m)\n",
    "        Dm_lst.append(Delta_m)\n",
    "        Rsq_lst.append(Rsq)\n",
    "    except AssertionError as e:\n",
    "        pass\n",
    "print(Rsq_lst)"
   ]
  },
  {
   "cell_type": "code",
   "execution_count": 403,
   "metadata": {
    "ExecuteTime": {
     "end_time": "2021-05-27T01:32:08.473407Z",
     "start_time": "2021-05-27T01:32:08.335038Z"
    },
    "hidden": true
   },
   "outputs": [
    {
     "data": {
      "image/png": "[encoded data removed]",
      "text/plain": [
       "<Figure size 432x288 with 1 Axes>"
      ]
     },
     "metadata": {
      "needs_background": "light"
     },
     "output_type": "display_data"
    },
    {
     "name": "stdout",
     "output_type": "stream",
     "text": [
      "considering 0.3<q<0.6\n"
     ]
    }
   ],
   "source": [
    "m_fk=1.945#1.858;#+-0.027; B_fk=2.464+-0.030<br>\n",
    "m_lr=1.544#1.638;#+-0.017; B_fk=5.588+-0.067\n",
    "plt.errorbar(eg_lst, m_lst, yerr=Dm_lst, fmt='-o',label='Monte Carlo')\n",
    "plt.plot(eg_lst, m_fk+0.*np.array(eg_lst), '--',c='gray',label='Fenton-Karma')\n",
    "plt.plot(eg_lst, m_lr+0.*np.array(eg_lst), '-',c='gray',label='Luo-Rudy')\n",
    "\n",
    "# plt.scatter(Dtdt_lst,m_lst,marker='^')\n",
    "# plt.xscale('log')\n",
    "title=f\"$x_0=$\"+f\"{x0:.0f} cm, \"+r\"$\\kappa$=\"+f\"{kappa:.0f} Hz\\nD={D} cm\"+r\"$^2$/s\"+f\", A={L**2:.0f} cm\"+r\"$^2$\"\n",
    "plt.title(title,fontsize=fontsize)\n",
    "plt.xlabel(r'$r$',fontsize=fontsize)\n",
    "plt.ylabel('exponent',fontsize=fontsize)\n",
    "# plt.xscale('log')\n",
    "# plt.yscale('log')\n",
    "plt.tick_params(axis='both', which='major', labelsize=fontsize)\n",
    "plt.tick_params(axis='both', which='minor', labelsize=0)\n",
    "# plt.legend(fontsize=fontsize-8)#,ncol=2)\n",
    "# plt.xlim([10,50])\n",
    "# plt.ylim([0.9,2.3])\n",
    "# plt.grid('on')\n",
    "plt.legend(fontsize=fontsize-2,loc='lower right')\n",
    "plt.show()\n",
    "# print(\"considering 20<N<50 spiral tips\")\n",
    "# print(\"considering N<20 spiral tips\")\n",
    "print(f\"considering {q_min}<q<{q_max}\")"
   ]
  },
  {
   "cell_type": "code",
   "execution_count": 373,
   "metadata": {
    "ExecuteTime": {
     "end_time": "2021-05-27T01:22:20.829772Z",
     "start_time": "2021-05-27T01:22:20.811363Z"
    },
    "hidden": true
   },
   "outputs": [
    {
     "name": "stdout",
     "output_type": "stream",
     "text": [
      "trials with case 3 and r=0.4 that finished\n",
      "kappa:{100}\n",
      "D:{2, 20}\n",
      "however, ^these trials did not finish when r=0.1...\n"
     ]
    }
   ],
   "source": [
    "print('trials with case 3 and r=0.4 that finished')\n",
    "print(f'kappa:{set(df[(df.varkappa<0)&(df.r==0.4)&(df.x0>0)].kappa.values)}')\n",
    "print(f'D:{set(df[(df.varkappa<0)&(df.r==0.4)].D.values)}')\n",
    "print(f\"however, ^these trials did not finish when r=0.1...\")"
   ]
  },
  {
   "cell_type": "markdown",
   "metadata": {},
   "source": [
    "# TODO: make the standard 2 panel figure for 1 token control trial\n",
    "- Control: varkappa<0, x0=0\n",
    "\n",
    "# TODO: make the standard 2 panel figure\n",
    " for each nontrivial case\n",
    " - Case 1: varkappa>0, x0=0\n",
    " - Case 2: varkappa>0, x0>0\n",
    " - Case 3: varkappa<0, x0>0\n",
    " \n",
    " \n",
    " Consider Panel \n",
    " A = Control\n",
    " BCD"
   ]
  },
  {
   "cell_type": "markdown",
   "metadata": {
    "heading_collapsed": true
   },
   "source": [
    "# TODO: compute the RMSE of each trial with the power fit of the full model, limiting sample to relevant particle number densities"
   ]
  },
  {
   "cell_type": "markdown",
   "metadata": {
    "heading_collapsed": true
   },
   "source": [
    "# TODO: compute the change in mean CollRate as a result of turning on the forces (setting no_attraction from 1 to 0)."
   ]
  },
  {
   "cell_type": "code",
   "execution_count": 194,
   "metadata": {
    "ExecuteTime": {
     "end_time": "2021-05-26T23:41:01.047840Z",
     "start_time": "2021-05-26T23:41:00.940046Z"
    },
    "hidden": true
   },
   "outputs": [],
   "source": [
    "#TODO: groupby groups\n",
    "groups=['r','D','L','kappa','varkappa','x0','A','no_repulsion']\n",
    "\n",
    "#TODO:compute the rate change \n",
    "df.loc[df.no_attraction==0,'change_of_rate']=df[df.no_attraction==0]['CollRate']-df[df.no_attraction==1]['CollRate']\n",
    "df.loc[df.no_attraction==1,'change_of_rate']=df[df.no_attraction==0]['CollRate']-df[df.no_attraction==1]['CollRate']\n",
    "\n",
    "df.sort_values(['r','D','L','kappa','varkappa','x0','A','no_repulsion'],inplace=True)"
   ]
  },
  {
   "cell_type": "code",
   "execution_count": 195,
   "metadata": {
    "ExecuteTime": {
     "end_time": "2021-05-26T23:41:02.760553Z",
     "start_time": "2021-05-26T23:41:02.723569Z"
    },
    "hidden": true
   },
   "outputs": [
    {
     "data": {
      "text/html": [
       "<div>\n",
       "<style scoped>\n",
       "    .dataframe tbody tr th:only-of-type {\n",
       "        vertical-align: middle;\n",
       "    }\n",
       "\n",
       "    .dataframe tbody tr th {\n",
       "        vertical-align: top;\n",
       "    }\n",
       "\n",
       "    .dataframe thead th {\n",
       "        text-align: right;\n",
       "    }\n",
       "</style>\n",
       "<table border=\"1\" class=\"dataframe\">\n",
       "  <thead>\n",
       "    <tr style=\"text-align: right;\">\n",
       "      <th></th>\n",
       "      <th>x0</th>\n",
       "      <th>varkappa</th>\n",
       "      <th>set_second</th>\n",
       "      <th>reflect</th>\n",
       "      <th>r</th>\n",
       "      <th>no_repulsion</th>\n",
       "      <th>no_attraction</th>\n",
       "      <th>kappa</th>\n",
       "      <th>dt</th>\n",
       "      <th>N</th>\n",
       "      <th>L</th>\n",
       "      <th>Dt</th>\n",
       "      <th>D</th>\n",
       "      <th>CollRate</th>\n",
       "      <th>A</th>\n",
       "      <th>q</th>\n",
       "      <th>w</th>\n",
       "      <th>change_of_rate</th>\n",
       "    </tr>\n",
       "  </thead>\n",
       "  <tbody>\n",
       "    <tr>\n",
       "      <th>21185</th>\n",
       "      <td>0.5</td>\n",
       "      <td>-20</td>\n",
       "      <td>0</td>\n",
       "      <td>0</td>\n",
       "      <td>0.1</td>\n",
       "      <td>1</td>\n",
       "      <td>0</td>\n",
       "      <td>100</td>\n",
       "      <td>0.00001</td>\n",
       "      <td>6</td>\n",
       "      <td>10</td>\n",
       "      <td>0.00001</td>\n",
       "      <td>2</td>\n",
       "      <td>0.260860</td>\n",
       "      <td>100</td>\n",
       "      <td>0.06</td>\n",
       "      <td>0.002609</td>\n",
       "      <td>NaN</td>\n",
       "    </tr>\n",
       "    <tr>\n",
       "      <th>21186</th>\n",
       "      <td>0.5</td>\n",
       "      <td>-20</td>\n",
       "      <td>0</td>\n",
       "      <td>0</td>\n",
       "      <td>0.1</td>\n",
       "      <td>1</td>\n",
       "      <td>0</td>\n",
       "      <td>100</td>\n",
       "      <td>0.00001</td>\n",
       "      <td>7</td>\n",
       "      <td>10</td>\n",
       "      <td>0.00001</td>\n",
       "      <td>2</td>\n",
       "      <td>0.412341</td>\n",
       "      <td>100</td>\n",
       "      <td>0.07</td>\n",
       "      <td>0.004123</td>\n",
       "      <td>NaN</td>\n",
       "    </tr>\n",
       "    <tr>\n",
       "      <th>21187</th>\n",
       "      <td>0.5</td>\n",
       "      <td>-20</td>\n",
       "      <td>0</td>\n",
       "      <td>0</td>\n",
       "      <td>0.1</td>\n",
       "      <td>1</td>\n",
       "      <td>0</td>\n",
       "      <td>100</td>\n",
       "      <td>0.00001</td>\n",
       "      <td>8</td>\n",
       "      <td>10</td>\n",
       "      <td>0.00001</td>\n",
       "      <td>2</td>\n",
       "      <td>0.663055</td>\n",
       "      <td>100</td>\n",
       "      <td>0.08</td>\n",
       "      <td>0.006631</td>\n",
       "      <td>NaN</td>\n",
       "    </tr>\n",
       "    <tr>\n",
       "      <th>21188</th>\n",
       "      <td>0.5</td>\n",
       "      <td>-20</td>\n",
       "      <td>0</td>\n",
       "      <td>0</td>\n",
       "      <td>0.1</td>\n",
       "      <td>1</td>\n",
       "      <td>0</td>\n",
       "      <td>100</td>\n",
       "      <td>0.00001</td>\n",
       "      <td>9</td>\n",
       "      <td>10</td>\n",
       "      <td>0.00001</td>\n",
       "      <td>2</td>\n",
       "      <td>0.923199</td>\n",
       "      <td>100</td>\n",
       "      <td>0.09</td>\n",
       "      <td>0.009232</td>\n",
       "      <td>NaN</td>\n",
       "    </tr>\n",
       "    <tr>\n",
       "      <th>21189</th>\n",
       "      <td>0.5</td>\n",
       "      <td>-20</td>\n",
       "      <td>0</td>\n",
       "      <td>0</td>\n",
       "      <td>0.1</td>\n",
       "      <td>1</td>\n",
       "      <td>0</td>\n",
       "      <td>100</td>\n",
       "      <td>0.00001</td>\n",
       "      <td>10</td>\n",
       "      <td>10</td>\n",
       "      <td>0.00001</td>\n",
       "      <td>2</td>\n",
       "      <td>1.211192</td>\n",
       "      <td>100</td>\n",
       "      <td>0.10</td>\n",
       "      <td>0.012112</td>\n",
       "      <td>NaN</td>\n",
       "    </tr>\n",
       "  </tbody>\n",
       "</table>\n",
       "</div>"
      ],
      "text/plain": [
       "        x0  varkappa  set_second  reflect    r  no_repulsion  no_attraction  \\\n",
       "21185  0.5       -20           0        0  0.1             1              0   \n",
       "21186  0.5       -20           0        0  0.1             1              0   \n",
       "21187  0.5       -20           0        0  0.1             1              0   \n",
       "21188  0.5       -20           0        0  0.1             1              0   \n",
       "21189  0.5       -20           0        0  0.1             1              0   \n",
       "\n",
       "       kappa       dt   N   L       Dt  D  CollRate    A     q         w  \\\n",
       "21185    100  0.00001   6  10  0.00001  2  0.260860  100  0.06  0.002609   \n",
       "21186    100  0.00001   7  10  0.00001  2  0.412341  100  0.07  0.004123   \n",
       "21187    100  0.00001   8  10  0.00001  2  0.663055  100  0.08  0.006631   \n",
       "21188    100  0.00001   9  10  0.00001  2  0.923199  100  0.09  0.009232   \n",
       "21189    100  0.00001  10  10  0.00001  2  1.211192  100  0.10  0.012112   \n",
       "\n",
       "       change_of_rate  \n",
       "21185             NaN  \n",
       "21186             NaN  \n",
       "21187             NaN  \n",
       "21188             NaN  \n",
       "21189             NaN  "
      ]
     },
     "execution_count": 195,
     "metadata": {},
     "output_type": "execute_result"
    }
   ],
   "source": [
    "df.head()"
   ]
  },
  {
   "cell_type": "markdown",
   "metadata": {
    "hidden": true
   },
   "source": [
    "DONE: genetic algorithm k-parents\n",
    "    1. consider the k trials with RMSE for (i) the FK model and (ii) the LR model\n",
    "    1. take random linear combinations of ^those parents, run them on the OSG, and then take the k best fits\n",
    "    1. repeat until desired convergence is met\n",
    "    1. repeat for various k, and visualize any (in)dependence of k\n",
    "- DONE: find rough fit to initialize genetic algorithm\n"
   ]
  },
  {
   "cell_type": "code",
   "execution_count": 408,
   "metadata": {
    "ExecuteTime": {
     "end_time": "2021-05-27T20:31:31.225320Z",
     "start_time": "2021-05-27T20:31:31.081710Z"
    },
    "hidden": true
   },
   "outputs": [
    {
     "data": {
      "text/html": [
       "<div>\n",
       "<style scoped>\n",
       "    .dataframe tbody tr th:only-of-type {\n",
       "        vertical-align: middle;\n",
       "    }\n",
       "\n",
       "    .dataframe tbody tr th {\n",
       "        vertical-align: top;\n",
       "    }\n",
       "\n",
       "    .dataframe thead th {\n",
       "        text-align: right;\n",
       "    }\n",
       "</style>\n",
       "<table border=\"1\" class=\"dataframe\">\n",
       "  <thead>\n",
       "    <tr style=\"text-align: right;\">\n",
       "      <th></th>\n",
       "      <th>x0</th>\n",
       "      <th>varkappa</th>\n",
       "      <th>set_second</th>\n",
       "      <th>reflect</th>\n",
       "      <th>r</th>\n",
       "      <th>no_repulsion</th>\n",
       "      <th>no_attraction</th>\n",
       "      <th>kappa</th>\n",
       "      <th>dt</th>\n",
       "      <th>N</th>\n",
       "      <th>L</th>\n",
       "      <th>Dt</th>\n",
       "      <th>D</th>\n",
       "      <th>CollRate</th>\n",
       "    </tr>\n",
       "  </thead>\n",
       "  <tbody>\n",
       "    <tr>\n",
       "      <th>0</th>\n",
       "      <td>0.0</td>\n",
       "      <td>-20</td>\n",
       "      <td>0</td>\n",
       "      <td>0</td>\n",
       "      <td>0.1</td>\n",
       "      <td>1</td>\n",
       "      <td>0</td>\n",
       "      <td>500</td>\n",
       "      <td>0.00001</td>\n",
       "      <td>6</td>\n",
       "      <td>10</td>\n",
       "      <td>0.00001</td>\n",
       "      <td>2</td>\n",
       "      <td>0.284806</td>\n",
       "    </tr>\n",
       "    <tr>\n",
       "      <th>1</th>\n",
       "      <td>0.0</td>\n",
       "      <td>-20</td>\n",
       "      <td>0</td>\n",
       "      <td>0</td>\n",
       "      <td>0.1</td>\n",
       "      <td>1</td>\n",
       "      <td>0</td>\n",
       "      <td>500</td>\n",
       "      <td>0.00001</td>\n",
       "      <td>6</td>\n",
       "      <td>10</td>\n",
       "      <td>0.00001</td>\n",
       "      <td>20</td>\n",
       "      <td>0.762509</td>\n",
       "    </tr>\n",
       "    <tr>\n",
       "      <th>2</th>\n",
       "      <td>0.0</td>\n",
       "      <td>-20</td>\n",
       "      <td>0</td>\n",
       "      <td>0</td>\n",
       "      <td>0.1</td>\n",
       "      <td>1</td>\n",
       "      <td>0</td>\n",
       "      <td>500</td>\n",
       "      <td>0.00001</td>\n",
       "      <td>7</td>\n",
       "      <td>10</td>\n",
       "      <td>0.00001</td>\n",
       "      <td>2</td>\n",
       "      <td>0.538927</td>\n",
       "    </tr>\n",
       "    <tr>\n",
       "      <th>3</th>\n",
       "      <td>0.0</td>\n",
       "      <td>-20</td>\n",
       "      <td>0</td>\n",
       "      <td>0</td>\n",
       "      <td>0.1</td>\n",
       "      <td>1</td>\n",
       "      <td>0</td>\n",
       "      <td>500</td>\n",
       "      <td>0.00001</td>\n",
       "      <td>7</td>\n",
       "      <td>10</td>\n",
       "      <td>0.00001</td>\n",
       "      <td>20</td>\n",
       "      <td>1.261349</td>\n",
       "    </tr>\n",
       "    <tr>\n",
       "      <th>4</th>\n",
       "      <td>0.0</td>\n",
       "      <td>-20</td>\n",
       "      <td>0</td>\n",
       "      <td>0</td>\n",
       "      <td>0.1</td>\n",
       "      <td>1</td>\n",
       "      <td>0</td>\n",
       "      <td>500</td>\n",
       "      <td>0.00001</td>\n",
       "      <td>8</td>\n",
       "      <td>10</td>\n",
       "      <td>0.00001</td>\n",
       "      <td>2</td>\n",
       "      <td>0.783767</td>\n",
       "    </tr>\n",
       "  </tbody>\n",
       "</table>\n",
       "</div>"
      ],
      "text/plain": [
       "    x0  varkappa  set_second  reflect    r  no_repulsion  no_attraction  \\\n",
       "0  0.0       -20           0        0  0.1             1              0   \n",
       "1  0.0       -20           0        0  0.1             1              0   \n",
       "2  0.0       -20           0        0  0.1             1              0   \n",
       "3  0.0       -20           0        0  0.1             1              0   \n",
       "4  0.0       -20           0        0  0.1             1              0   \n",
       "\n",
       "   kappa       dt  N   L       Dt   D  CollRate  \n",
       "0    500  0.00001  6  10  0.00001   2  0.284806  \n",
       "1    500  0.00001  6  10  0.00001  20  0.762509  \n",
       "2    500  0.00001  7  10  0.00001   2  0.538927  \n",
       "3    500  0.00001  7  10  0.00001  20  1.261349  \n",
       "4    500  0.00001  8  10  0.00001   2  0.783767  "
      ]
     },
     "execution_count": 408,
     "metadata": {},
     "output_type": "execute_result"
    }
   ],
   "source": [
    "data_dir=\"/home/timothytyree/Documents/GitHub/bgmc/python/data/osg_output/run_10_all.csv\"\n",
    "df=pd.read_csv(data_dir)\n",
    "assert not (df.CollRate<0).any()\n",
    "df.head()"
   ]
  },
  {
   "cell_type": "code",
   "execution_count": 409,
   "metadata": {
    "ExecuteTime": {
     "end_time": "2021-05-27T20:31:34.863529Z",
     "start_time": "2021-05-27T20:31:34.682114Z"
    },
    "hidden": true
   },
   "outputs": [],
   "source": [
    "#derived values\n",
    "# df['CollRate']=1./df['CollTime']\n",
    "df['A']=df['L']**2\n",
    "df['q']=df['N']/df['A'] #number of tips per square centimeter\n",
    "df['w']=df['CollRate']/df['A'] #[mHz?]/cm^2\n",
    "\n",
    "# df=df[df.niter==250].copy()\n",
    "#extract column values\n",
    "r_values=np.array(sorted(set(df.r.values)))#cm\n",
    "D_values=np.array(sorted(set(df.D.values)))#cm^2/s\n",
    "L_values=np.array(sorted(set(df.L.values)))#cm\n",
    "A_values=L_values**2#cm^2\n",
    "kappa_values=np.array(sorted(set(df.kappa.values)))#1/s\n",
    "varkappa_values=np.array(sorted(set(df.varkappa.values)))#1/s\n",
    "x0_values=np.array(sorted(set(df.x0.values)))#1/s\n",
    "set_second_values=np.array(sorted(set(df.set_second.values)))\n",
    "reflect_values=np.array(sorted(set(df.reflect.values)))\n",
    "no_repulsion_values=np.array(sorted(set(df.no_repulsion.values)))\n",
    "no_attraction_values=np.array(sorted(set(df.no_attraction.values)))"
   ]
  },
  {
   "cell_type": "code",
   "execution_count": 410,
   "metadata": {
    "ExecuteTime": {
     "end_time": "2021-05-27T20:31:39.406668Z",
     "start_time": "2021-05-27T20:31:39.390865Z"
    },
    "hidden": true
   },
   "outputs": [
    {
     "name": "stdout",
     "output_type": "stream",
     "text": [
      "[0.1 0.2 0.3 0.4]\n",
      "[ 2 20]\n",
      "[10]\n",
      "[ 100  500 1500]\n",
      "[-20 -10  -5   0   5  10  20]\n",
      "[0.  0.5 1.  1.5 2.  3.  4.  5. ]\n",
      "[0]\n",
      "[0]\n",
      "[1]\n",
      "[0 1]\n"
     ]
    }
   ],
   "source": [
    "#make test for whether there is one input parameter present in an input DataFrame1\n",
    "print(r_values)\n",
    "print(D_values)\n",
    "print(L_values)\n",
    "print(kappa_values)\n",
    "print(varkappa_values)\n",
    "print(x0_values)\n",
    "print(set_second_values)\n",
    "print(reflect_values)\n",
    "print(no_repulsion_values)\n",
    "print(no_attraction_values)"
   ]
  },
  {
   "cell_type": "code",
   "execution_count": 412,
   "metadata": {
    "ExecuteTime": {
     "end_time": "2021-05-27T20:33:32.506481Z",
     "start_time": "2021-05-27T20:33:32.475345Z"
    },
    "hidden": true
   },
   "outputs": [
    {
     "name": "stdout",
     "output_type": "stream",
     "text": [
      "varkappa=-20\n",
      "x0=1.0\n",
      "varkappa=0\n",
      "x0=1.0\n"
     ]
    }
   ],
   "source": [
    "varkappa=varkappa_values[0];print(f'varkappa={varkappa}')\n",
    "x0=x0_values[2];print(f'x0={x0}')\n",
    "#query the DataFrame\n",
    "query =(df.set_second==set_second_values[0])&(df.reflect==reflect_values[0])\n",
    "query&=df.r==r_values[0]\n",
    "query&=df.D==D_values[0]\n",
    "query&=df.L==L_values[0]\n",
    "query&=df.varkappa==varkappa\n",
    "query&=df.x0==x0\n",
    "query&=(df.no_repulsion==no_repulsion_values[0])&(df.no_attraction==no_attraction_values[0])\n",
    "dff=df[query]\n",
    "kappa_values=np.array(sorted(set(dff.kappa.values)))\n",
    "dg=dff[dff.kappa==kappa_values[0]]#smaller reaction rate\n",
    "# dg=dff[dff.kappa==kappa_values[-1]]#Luo-Rudy fit\n",
    "# dg=dff.kappa==kappa_values[0]#Fenton-Karma fit\n",
    "x_values_force=dg.q.values\n",
    "y_values_force=dg.w.values\n",
    "\n",
    "varkappa=varkappa_values[3];print(f'varkappa={varkappa}')\n",
    "x0=x0_values[2];print(f'x0={x0}')\n",
    "#query the DataFrame\n",
    "query =(df.set_second==set_second_values[0])&(df.reflect==reflect_values[0])\n",
    "query&=df.r==r_values[0]\n",
    "query&=df.D==D_values[0]\n",
    "query&=df.L==L_values[0]\n",
    "query&=df.varkappa==varkappa\n",
    "query&=df.x0==x0\n",
    "query&=(df.no_repulsion==no_repulsion_values[0])&(df.no_attraction==no_attraction_values[0])\n",
    "dff=df[query]\n",
    "kappa_values=np.array(sorted(set(dff.kappa.values)))\n",
    "dg=dff[dff.kappa==kappa_values[0]]#smaller reaction rate\n",
    "# dg=dff[dff.kappa==kappa_values[-1]]#Luo-Rudy fit\n",
    "# dg=dff.kappa==kappa_values[0]#Fenton-Karma fit\n",
    "x_values=dg.q.values\n",
    "y_values=dg.w.values"
   ]
  },
  {
   "cell_type": "code",
   "execution_count": 447,
   "metadata": {
    "ExecuteTime": {
     "end_time": "2021-05-27T21:59:14.894100Z",
     "start_time": "2021-05-27T21:59:14.517054Z"
    },
    "hidden": true
   },
   "outputs": [
    {
     "data": {
      "image/png": "[encoded data removed]",
      "text/plain": [
       "<Figure size 432x288 with 1 Axes>"
      ]
     },
     "metadata": {
      "needs_background": "light"
     },
     "output_type": "display_data"
    }
   ],
   "source": [
    "dt=1e-5\n",
    "#plot fits for full model\n",
    "m_fk=1.945;#+-0.030; B_fk=2.441+-0.051\n",
    "m_lr=1.544;#+-0.034; B_lr=5.870+-0.137\n",
    "M_fk=5.67;#+-0.39 Hz*cm^{2(m-1)}\n",
    "M_lr=15.37;#+-1.57 Hz*cm^{2(m-1)}\n",
    "# RMSE_fk=0.1252 Hz/cm^2\n",
    "# RMSE_lr=0.0974 Hz/cm^2\n",
    "# R^2=0.997 (FK)\n",
    "# R^2=0.994 (LR)\n",
    "# yscale=10**3\n",
    "xv=np.arange(0.1,1.,.05)\n",
    "yv_fk=M_fk*(xv)**m_fk\n",
    "yv_lr=M_lr*(xv)**m_lr\n",
    "\n",
    "fontsize=16\n",
    "# plt.xlim([0.1,1])\n",
    "# plt.ylim([1e-1,15])\n",
    "plt.yscale('log')\n",
    "plt.xscale('log')\n",
    "plt.plot(xv,yv_fk,label='FK power law fit',zorder=3,lw=4)\n",
    "plt.plot(xv,yv_lr,label='LR power law fit',zorder=3,lw=4)\n",
    "\n",
    "\n",
    "\n",
    "fontsize=18\n",
    "plt.plot(x_values,y_values,c='C2',alpha=.7,label='simulation without forces',lw=6)\n",
    "plt.plot(x_values_force,y_values_force,c='C3',alpha=.7,label='simulation with forces',lw=6)\n",
    "# plt.plot(x_values,y_values,c=c_values,alpha=0.4,cmap='bwr')\n",
    "# plt.title(u'comparison to simulation\\nwith two hybrid modes',fontsize=fontsize)\n",
    "plt.xlabel(r'q (cm$^{-2}$)',fontsize=fontsize)\n",
    "plt.ylabel(r'w (Hz cm$^{-2}$)', fontsize=fontsize)\n",
    "plt.tick_params(axis='both', which='major', labelsize=fontsize)\n",
    "plt.tick_params(axis='both', which='minor', labelsize=0)\n",
    "plt.legend(fontsize=fontsize-5)\n",
    "# print(f'varkappa={varkappa}  Hz');print(f'      x0={x0} cm')\n",
    "title=r\"$\\kappa$=\"+f\"{kappa:.0f} Hz, D={D} cm\"+r\"$^2$/s\"+f\", A={L**2:.0f} cm\"+r\"$^2$\"\n",
    "title+='\\n'+r'$\\varkappa=$'+f'{varkappa}  Hz, '+r'$x_0=$'+f'{x0:.0f} cm, dt={dt} s\\n'\n",
    "plt.title(title,fontsize=fontsize)\n",
    "\n",
    "plt.title(title,fontsize=fontsize)\n",
    "plt.show()"
   ]
  },
  {
   "cell_type": "code",
   "execution_count": 419,
   "metadata": {
    "ExecuteTime": {
     "end_time": "2021-05-27T20:37:19.890720Z",
     "start_time": "2021-05-27T20:37:19.874227Z"
    },
    "hidden": true
   },
   "outputs": [
    {
     "name": "stdout",
     "output_type": "stream",
     "text": [
      "[0.1]\n",
      "[2]\n",
      "[10]\n",
      "[500]\n"
     ]
    }
   ],
   "source": [
    "print(sorted(set(dg.r.values)))\n",
    "print(sorted(set(dg.D.values)))\n",
    "print(sorted(set(dg.L.values)))\n",
    "print(sorted(set(dg.kappa.values)))"
   ]
  },
  {
   "cell_type": "code",
   "execution_count": 435,
   "metadata": {
    "ExecuteTime": {
     "end_time": "2021-05-27T20:52:16.655347Z",
     "start_time": "2021-05-27T20:51:37.479398Z"
    },
    "hidden": true
   },
   "outputs": [
    {
     "ename": "AttributeError",
     "evalue": "'DataFrame' object has no attribute 'CollRate'",
     "output_type": "error",
     "traceback": [
      "\u001b[0;31m---------------------------------------------------------------------------\u001b[0m",
      "\u001b[0;31mAttributeError\u001b[0m                            Traceback (most recent call last)",
      "\u001b[0;32m<ipython-input-435-8c9b9c156302>\u001b[0m in \u001b[0;36m<module>\u001b[0;34m\u001b[0m\n\u001b[1;32m      4\u001b[0m \u001b[0;31m#Is it present in run_4??\u001b[0m\u001b[0;34m\u001b[0m\u001b[0;34m\u001b[0m\u001b[0;34m\u001b[0m\u001b[0m\n\u001b[1;32m      5\u001b[0m \u001b[0mdf\u001b[0m\u001b[0;34m=\u001b[0m\u001b[0mpd\u001b[0m\u001b[0;34m.\u001b[0m\u001b[0mread_csv\u001b[0m\u001b[0;34m(\u001b[0m\u001b[0mdata_dir\u001b[0m\u001b[0;34m)\u001b[0m\u001b[0;34m\u001b[0m\u001b[0;34m\u001b[0m\u001b[0m\n\u001b[0;32m----> 6\u001b[0;31m \u001b[0;32massert\u001b[0m \u001b[0;32mnot\u001b[0m \u001b[0;34m(\u001b[0m\u001b[0mdf\u001b[0m\u001b[0;34m.\u001b[0m\u001b[0mCollRate\u001b[0m\u001b[0;34m<\u001b[0m\u001b[0;36m0\u001b[0m\u001b[0;34m)\u001b[0m\u001b[0;34m.\u001b[0m\u001b[0many\u001b[0m\u001b[0;34m(\u001b[0m\u001b[0;34m)\u001b[0m\u001b[0;34m\u001b[0m\u001b[0;34m\u001b[0m\u001b[0m\n\u001b[0m\u001b[1;32m      7\u001b[0m \u001b[0;31m#derived values\u001b[0m\u001b[0;34m\u001b[0m\u001b[0;34m\u001b[0m\u001b[0;34m\u001b[0m\u001b[0m\n\u001b[1;32m      8\u001b[0m \u001b[0mdf\u001b[0m\u001b[0;34m[\u001b[0m\u001b[0;34m'CollRate'\u001b[0m\u001b[0;34m]\u001b[0m\u001b[0;34m=\u001b[0m\u001b[0;36m1.\u001b[0m\u001b[0;34m/\u001b[0m\u001b[0mdf\u001b[0m\u001b[0;34m[\u001b[0m\u001b[0;34m'CollTime'\u001b[0m\u001b[0;34m]\u001b[0m\u001b[0;34m\u001b[0m\u001b[0;34m\u001b[0m\u001b[0m\n",
      "\u001b[0;32m~/anaconda3/lib/python3.7/site-packages/pandas/core/generic.py\u001b[0m in \u001b[0;36m__getattr__\u001b[0;34m(self, name)\u001b[0m\n\u001b[1;32m   5272\u001b[0m             \u001b[0;32mif\u001b[0m \u001b[0mself\u001b[0m\u001b[0;34m.\u001b[0m\u001b[0m_info_axis\u001b[0m\u001b[0;34m.\u001b[0m\u001b[0m_can_hold_identifiers_and_holds_name\u001b[0m\u001b[0;34m(\u001b[0m\u001b[0mname\u001b[0m\u001b[0;34m)\u001b[0m\u001b[0;34m:\u001b[0m\u001b[0;34m\u001b[0m\u001b[0;34m\u001b[0m\u001b[0m\n\u001b[1;32m   5273\u001b[0m                 \u001b[0;32mreturn\u001b[0m \u001b[0mself\u001b[0m\u001b[0;34m[\u001b[0m\u001b[0mname\u001b[0m\u001b[0;34m]\u001b[0m\u001b[0;34m\u001b[0m\u001b[0;34m\u001b[0m\u001b[0m\n\u001b[0;32m-> 5274\u001b[0;31m             \u001b[0;32mreturn\u001b[0m \u001b[0mobject\u001b[0m\u001b[0;34m.\u001b[0m\u001b[0m__getattribute__\u001b[0m\u001b[0;34m(\u001b[0m\u001b[0mself\u001b[0m\u001b[0;34m,\u001b[0m \u001b[0mname\u001b[0m\u001b[0;34m)\u001b[0m\u001b[0;34m\u001b[0m\u001b[0;34m\u001b[0m\u001b[0m\n\u001b[0m\u001b[1;32m   5275\u001b[0m \u001b[0;34m\u001b[0m\u001b[0m\n\u001b[1;32m   5276\u001b[0m     \u001b[0;32mdef\u001b[0m \u001b[0m__setattr__\u001b[0m\u001b[0;34m(\u001b[0m\u001b[0mself\u001b[0m\u001b[0;34m,\u001b[0m \u001b[0mname\u001b[0m\u001b[0;34m:\u001b[0m \u001b[0mstr\u001b[0m\u001b[0;34m,\u001b[0m \u001b[0mvalue\u001b[0m\u001b[0;34m)\u001b[0m \u001b[0;34m->\u001b[0m \u001b[0;32mNone\u001b[0m\u001b[0;34m:\u001b[0m\u001b[0;34m\u001b[0m\u001b[0;34m\u001b[0m\u001b[0m\n",
      "\u001b[0;31mAttributeError\u001b[0m: 'DataFrame' object has no attribute 'CollRate'"
     ]
    }
   ],
   "source": [
    "#import previous data\n",
    "# data_dir=\"/home/timothytyree/Documents/GitHub/bgmc/python/data/osg_output/run_1_to_3_merged.csv\" \n",
    "# data_dir=\"/home/timothytyree/Documents/GitHub/bgmc/python/data/osg_output/run_6_all.csv\" # has match but dt=1e-5...\n",
    "#Is it present in run_4??\n",
    "df=pd.read_csv(data_dir)\n",
    "assert not (df.CollRate<0).any()\n",
    "#derived values\n",
    "df['CollRate']=1./df['CollTime']\n",
    "df['A']=df['L']**2\n",
    "df['q']=df['N']/df['A'] #number of tips per square centimeter\n",
    "df['w']=df['CollRate']/df['A'] #[mHz?]/cm^2\n",
    "\n",
    "# # df=df[df.niter==250].copy()\n",
    "# #extract column values\n",
    "# r_values=np.array(sorted(set(df.r.values)))#cm\n",
    "# D_values=np.array(sorted(set(df.D.values)))#cm^2/s\n",
    "# L_values=np.array(sorted(set(df.L.values)))#cm\n",
    "# A_values=L_values**2#cm^2\n",
    "# kappa_values=np.array(sorted(set(df.kappa.values)))#1/s\n",
    "# varkappa_values=np.array(sorted(set(df.varkappa.values)))#1/s\n",
    "# x0_values=np.array(sorted(set(df.x0.values)))#1/s\n",
    "# set_second_values=np.array(sorted(set(df.set_second.values)))\n",
    "# reflect_values=np.array(sorted(set(df.reflect.values)))\n",
    "# no_repulsion_values=np.array(sorted(set(df.no_repulsion.values)))\n",
    "# no_attraction_values=np.array(sorted(set(df.no_attraction.values)))\n",
    "\n",
    "#show the first 5 entries that match the query\n",
    "query =df.r==r\n",
    "query&=df.D==D\n",
    "query&=df.L==L\n",
    "query&=df.kappa==kappa\n",
    "query&=df.reflect==reflect\n",
    "dg=df[query]\n",
    "dg.head()"
   ]
  },
  {
   "cell_type": "code",
   "execution_count": 428,
   "metadata": {
    "ExecuteTime": {
     "end_time": "2021-05-27T20:47:42.894078Z",
     "start_time": "2021-05-27T20:47:42.879664Z"
    },
    "hidden": true
   },
   "outputs": [
    {
     "data": {
      "text/plain": [
       "array([1.e-05])"
      ]
     },
     "execution_count": 428,
     "metadata": {},
     "output_type": "execute_result"
    }
   ],
   "source": [
    "dt_values=np.array(sorted(set(dg.dt.values)))\n",
    "dt_values"
   ]
  },
  {
   "cell_type": "code",
   "execution_count": 436,
   "metadata": {
    "ExecuteTime": {
     "end_time": "2021-05-27T21:12:50.732542Z",
     "start_time": "2021-05-27T21:12:50.699184Z"
    },
    "hidden": true
   },
   "outputs": [
    {
     "data": {
      "text/html": [
       "<div>\n",
       "<style scoped>\n",
       "    .dataframe tbody tr th:only-of-type {\n",
       "        vertical-align: middle;\n",
       "    }\n",
       "\n",
       "    .dataframe tbody tr th {\n",
       "        vertical-align: top;\n",
       "    }\n",
       "\n",
       "    .dataframe thead th {\n",
       "        text-align: right;\n",
       "    }\n",
       "</style>\n",
       "<table border=\"1\" class=\"dataframe\">\n",
       "  <thead>\n",
       "    <tr style=\"text-align: right;\">\n",
       "      <th></th>\n",
       "      <th>5</th>\n",
       "      <th>6</th>\n",
       "      <th>7</th>\n",
       "      <th>8</th>\n",
       "      <th>9</th>\n",
       "      <th>10</th>\n",
       "      <th>11</th>\n",
       "      <th>12</th>\n",
       "      <th>13</th>\n",
       "      <th>14</th>\n",
       "      <th>...</th>\n",
       "      <th>65</th>\n",
       "      <th>66</th>\n",
       "      <th>67</th>\n",
       "      <th>68</th>\n",
       "      <th>69</th>\n",
       "      <th>r</th>\n",
       "      <th>D</th>\n",
       "      <th>L</th>\n",
       "      <th>kappa</th>\n",
       "      <th>dt</th>\n",
       "    </tr>\n",
       "  </thead>\n",
       "  <tbody>\n",
       "    <tr>\n",
       "      <th>0</th>\n",
       "      <td>0.00007</td>\n",
       "      <td>0.00007</td>\n",
       "      <td>0.00007</td>\n",
       "      <td>0.00007</td>\n",
       "      <td>0.00007</td>\n",
       "      <td>0.00007</td>\n",
       "      <td>0.00007</td>\n",
       "      <td>0.00007</td>\n",
       "      <td>0.00007</td>\n",
       "      <td>0.00007</td>\n",
       "      <td>...</td>\n",
       "      <td>0.00007</td>\n",
       "      <td>0.00007</td>\n",
       "      <td>0.00007</td>\n",
       "      <td>0.00007</td>\n",
       "      <td>0.00007</td>\n",
       "      <td>0.3</td>\n",
       "      <td>0.2</td>\n",
       "      <td>15.8114</td>\n",
       "      <td>1000</td>\n",
       "      <td>0.00001</td>\n",
       "    </tr>\n",
       "    <tr>\n",
       "      <th>1</th>\n",
       "      <td>0.40660</td>\n",
       "      <td>0.40660</td>\n",
       "      <td>0.40660</td>\n",
       "      <td>0.40660</td>\n",
       "      <td>0.40660</td>\n",
       "      <td>0.40660</td>\n",
       "      <td>0.40660</td>\n",
       "      <td>0.40660</td>\n",
       "      <td>0.40660</td>\n",
       "      <td>0.40660</td>\n",
       "      <td>...</td>\n",
       "      <td>0.00029</td>\n",
       "      <td>0.00029</td>\n",
       "      <td>0.00029</td>\n",
       "      <td>0.00029</td>\n",
       "      <td>0.00029</td>\n",
       "      <td>0.3</td>\n",
       "      <td>0.2</td>\n",
       "      <td>15.8114</td>\n",
       "      <td>1000</td>\n",
       "      <td>0.00001</td>\n",
       "    </tr>\n",
       "    <tr>\n",
       "      <th>2</th>\n",
       "      <td>5.15927</td>\n",
       "      <td>5.15927</td>\n",
       "      <td>5.15927</td>\n",
       "      <td>5.15927</td>\n",
       "      <td>5.15927</td>\n",
       "      <td>5.15927</td>\n",
       "      <td>5.15927</td>\n",
       "      <td>5.15927</td>\n",
       "      <td>5.15927</td>\n",
       "      <td>5.15927</td>\n",
       "      <td>...</td>\n",
       "      <td>0.00979</td>\n",
       "      <td>0.00979</td>\n",
       "      <td>0.00979</td>\n",
       "      <td>0.00979</td>\n",
       "      <td>0.00979</td>\n",
       "      <td>0.3</td>\n",
       "      <td>0.2</td>\n",
       "      <td>15.8114</td>\n",
       "      <td>1000</td>\n",
       "      <td>0.00001</td>\n",
       "    </tr>\n",
       "    <tr>\n",
       "      <th>3</th>\n",
       "      <td>19.50541</td>\n",
       "      <td>13.01108</td>\n",
       "      <td>13.01108</td>\n",
       "      <td>13.01108</td>\n",
       "      <td>13.01108</td>\n",
       "      <td>0.47663</td>\n",
       "      <td>0.47663</td>\n",
       "      <td>0.47663</td>\n",
       "      <td>0.47663</td>\n",
       "      <td>0.47663</td>\n",
       "      <td>...</td>\n",
       "      <td>0.00329</td>\n",
       "      <td>0.00329</td>\n",
       "      <td>0.00329</td>\n",
       "      <td>0.00329</td>\n",
       "      <td>0.00329</td>\n",
       "      <td>0.3</td>\n",
       "      <td>0.2</td>\n",
       "      <td>15.8114</td>\n",
       "      <td>1000</td>\n",
       "      <td>0.00001</td>\n",
       "    </tr>\n",
       "    <tr>\n",
       "      <th>4</th>\n",
       "      <td>11.12850</td>\n",
       "      <td>5.89572</td>\n",
       "      <td>5.89572</td>\n",
       "      <td>5.89572</td>\n",
       "      <td>5.89572</td>\n",
       "      <td>1.87785</td>\n",
       "      <td>1.87785</td>\n",
       "      <td>0.07995</td>\n",
       "      <td>0.07995</td>\n",
       "      <td>0.07995</td>\n",
       "      <td>...</td>\n",
       "      <td>0.00028</td>\n",
       "      <td>0.00028</td>\n",
       "      <td>0.00028</td>\n",
       "      <td>0.00028</td>\n",
       "      <td>0.00028</td>\n",
       "      <td>0.3</td>\n",
       "      <td>0.2</td>\n",
       "      <td>15.8114</td>\n",
       "      <td>1000</td>\n",
       "      <td>0.00001</td>\n",
       "    </tr>\n",
       "  </tbody>\n",
       "</table>\n",
       "<p>5 rows × 70 columns</p>\n",
       "</div>"
      ],
      "text/plain": [
       "          5         6         7         8         9       10       11  \\\n",
       "0   0.00007   0.00007   0.00007   0.00007   0.00007  0.00007  0.00007   \n",
       "1   0.40660   0.40660   0.40660   0.40660   0.40660  0.40660  0.40660   \n",
       "2   5.15927   5.15927   5.15927   5.15927   5.15927  5.15927  5.15927   \n",
       "3  19.50541  13.01108  13.01108  13.01108  13.01108  0.47663  0.47663   \n",
       "4  11.12850   5.89572   5.89572   5.89572   5.89572  1.87785  1.87785   \n",
       "\n",
       "        12       13       14  ...       65       66       67       68  \\\n",
       "0  0.00007  0.00007  0.00007  ...  0.00007  0.00007  0.00007  0.00007   \n",
       "1  0.40660  0.40660  0.40660  ...  0.00029  0.00029  0.00029  0.00029   \n",
       "2  5.15927  5.15927  5.15927  ...  0.00979  0.00979  0.00979  0.00979   \n",
       "3  0.47663  0.47663  0.47663  ...  0.00329  0.00329  0.00329  0.00329   \n",
       "4  0.07995  0.07995  0.07995  ...  0.00028  0.00028  0.00028  0.00028   \n",
       "\n",
       "        69    r    D        L  kappa       dt  \n",
       "0  0.00007  0.3  0.2  15.8114   1000  0.00001  \n",
       "1  0.00029  0.3  0.2  15.8114   1000  0.00001  \n",
       "2  0.00979  0.3  0.2  15.8114   1000  0.00001  \n",
       "3  0.00329  0.3  0.2  15.8114   1000  0.00001  \n",
       "4  0.00028  0.3  0.2  15.8114   1000  0.00001  \n",
       "\n",
       "[5 rows x 70 columns]"
      ]
     },
     "execution_count": 436,
     "metadata": {},
     "output_type": "execute_result"
    }
   ],
   "source": [
    "df.head()"
   ]
  },
  {
   "cell_type": "code",
   "execution_count": 432,
   "metadata": {
    "ExecuteTime": {
     "end_time": "2021-05-27T20:49:11.261143Z",
     "start_time": "2021-05-27T20:49:11.229073Z"
    },
    "hidden": true
   },
   "outputs": [],
   "source": [
    "del dg \n",
    "del df"
   ]
  },
  {
   "cell_type": "code",
   "execution_count": 108,
   "metadata": {
    "ExecuteTime": {
     "end_time": "2021-05-26T20:59:33.634714Z",
     "start_time": "2021-05-26T20:59:33.445802Z"
    },
    "hidden": true,
    "run_control": {
     "marked": true
    },
    "scrolled": true
   },
   "outputs": [
    {
     "data": {
      "image/png": "[encoded data removed]",
      "text/plain": [
       "<Figure size 432x288 with 1 Axes>"
      ]
     },
     "metadata": {
      "needs_background": "light"
     },
     "output_type": "display_data"
    }
   ],
   "source": [
    "# #plot sliding m\n",
    "# fontsize=18\n",
    "# x=xavg_values[:-1]\n",
    "# # y=Rsquared_values[:-1]\n",
    "# y=slope_values[:-1]\n",
    "# plt.plot(x,y,lw=2)\n",
    "# # plt.scatter(x,y,s=10)\n",
    "# # plt.xlabel('N',fontsize=fontsize)\n",
    "# # plt.ylabel('Collision Rate',fontsize=fontsize)\n",
    "# # plt.xscale('log')\n",
    "# # plt.title(u'comparison to simulation\\nwith two hybrid modes',fontsize=fontsize)\n",
    "# plt.xlabel(r'q (cm$^{-2}$)',fontsize=fontsize)\n",
    "# plt.ylabel(r'exponent', fontsize=fontsize)\n",
    "# plt.tick_params(axis='both', which='major', labelsize=fontsize)\n",
    "# plt.tick_params(axis='both', which='minor', labelsize=0)\n",
    "# # print(f'varkappa={varkappa}  Hz');print(f'      x0={x0} cm')\n",
    "# plt.title(r'$\\varkappa=$'+f'{varkappa}  Hz, '+r'$x_0=$'+f'{x0} cm\\n',fontsize=fontsize)\n",
    "# plt.show()"
   ]
  },
  {
   "cell_type": "code",
   "execution_count": null,
   "metadata": {
    "hidden": true
   },
   "outputs": [],
   "source": []
  },
  {
   "cell_type": "code",
   "execution_count": null,
   "metadata": {
    "hidden": true
   },
   "outputs": [],
   "source": []
  },
  {
   "cell_type": "code",
   "execution_count": 421,
   "metadata": {
    "ExecuteTime": {
     "end_time": "2021-05-27T20:39:46.085296Z",
     "start_time": "2021-05-27T20:39:46.064662Z"
    },
    "hidden": true
   },
   "outputs": [],
   "source": [
    "# #measure m in some window\n",
    "# qmin=0.06;qmax=0.2\n",
    "# L=L_values[0]\n",
    "# x_values=dg[dg.L==L].q.values\n",
    "# y_values=dg[dg.L==L].w.values\n",
    "# boo=(x_values>qmin)&(x_values<qmax)\n",
    "# dict_ci=compute_95CI_ols(np.log(x_values[boo]),np.log(y_values[boo]))\n",
    "# print(*dict_ci)\n",
    "# print(*dict_ci.values())\n",
    "# print(f\"Therefore, 95% confidence interval DOES include exponent values observed from the Luo-Rudy model, but for this trial, only low densities.\")\n",
    "\n",
    "# #compute sliding m\n",
    "# xavg_values,slope_values,Rsquared_values = compute_sliding_slope_loglog(x_values,y_values,    \n",
    "#     x_min=qmin,\n",
    "#     window_width=0.2,\n",
    "#     stepsize=0.01,\n",
    "# )\n",
    "# xavg_values.shape"
   ]
  },
  {
   "cell_type": "markdown",
   "metadata": {},
   "source": [
    "# sanity check from return_CollTime.x \n",
    "for probing the effect of dt at high density (q=1)"
   ]
  },
  {
   "cell_type": "markdown",
   "metadata": {},
   "source": [
    "_This is evidence that attractive forces increase the collision rate, W, at high densities, which contradicts the figure I showed WJ and am looking at now._\n",
    "\n",
    "...Then, why did I record a contradictory signal?"
   ]
  },
  {
   "cell_type": "code",
   "execution_count": 437,
   "metadata": {
    "ExecuteTime": {
     "end_time": "2021-05-27T21:14:21.448035Z",
     "start_time": "2021-05-27T21:14:21.433846Z"
    }
   },
   "outputs": [],
   "source": [
    "#I ran these settings without forces using ./return_CollTime.x for N=100\n",
    "r=0.1\n",
    "D=2\n",
    "L=10\n",
    "kappa=500\n",
    "reflect=0"
   ]
  },
  {
   "cell_type": "code",
   "execution_count": 96,
   "metadata": {
    "ExecuteTime": {
     "end_time": "2021-05-28T03:24:16.592195Z",
     "start_time": "2021-05-28T03:24:16.578823Z"
    }
   },
   "outputs": [],
   "source": [
    "#from 1500 independent trials of the reaction N=100 --> N=98\n",
    "#for each trial, seed=1234\n",
    "#no forces\n",
    "dt_control_lst=[1e-5, 1e-6, 1e-7]\n",
    "Tavg_control_lst=[0.00175961,0.00172462,np.nan]\n",
    "#strong attractive forces of close range\n",
    "dt_lst=[1e-5, 1e-6, 1e-7]\n",
    "Tavg_lst=[0.00102133,0.00104635,np.nan]\n",
    "#NOTE: I ended the dt=1e-7 trials after 6 hours... They did not finish...\n",
    "\n",
    "#is runtime on 1e-6 small enough for the OSG?\n",
    "#no..."
   ]
  },
  {
   "cell_type": "markdown",
   "metadata": {},
   "source": [
    "__Results__\n",
    "- rate_with_force > rate_without_force at high densities when the seeds match\n",
    "    - there is apparently a seed dependence to the value of Tavg\n",
    "- it is not practical for me to use dt=1e-6 on the OSG.  It is certainly not practical for me to use dt=1e-7 on the OSG.\n",
    "- it is necessary for seeds to match for the ends to match\n",
    "    - Why is ^this? Is it because at high densities, q~1, the uncertainty is large for niter=1500?\n",
    "- it is not necessary for seeds to match for the ends to match\n",
    "    - TODO: just make niter=5000 on one machine(, or better...)\n",
    "    - or aggregate many machines and make niter=15000\n",
    "- solution: just make niter=5000 on the next data run, and limit search to trials in the neighborhood of where I think they'll model the LR model's powerfit\n",
    "\n",
    "\n",
    "DONT: bootstrap uncertainties for variable N.  __Just increase niter!__\n",
    "- I should measure the variance/95% CI explicitely versus N via bootstrapping for one trial. \n",
    "    - TODO: look for the/some token trial in the dense data from runs_1_to_3.\n",
    "    - TODO: measure ^that trial's variance for each group of constant N\n",
    "    - TODO: visualize the 95% CI of Tavg versus N.\n",
    "    - TODO: translate ^that plot into w versus q\n"
   ]
  },
  {
   "cell_type": "markdown",
   "metadata": {},
   "source": [
    "# print the top 5 of a given run, in terms of RMSE from the LR/FK models\n",
    "then,\n",
    "- use ^those to generate some guesses for the LR/FK models\n",
    "then,\n",
    "- dev run_11\n",
    "then,\n",
    "- condor_submit run_11.submit"
   ]
  },
  {
   "cell_type": "markdown",
   "metadata": {},
   "source": [
    "## # Ranking the top results from the genetic algorithm\n",
    "this is comparing rmse at high densities\n",
    "compute w versus q and find r,kappa with smalles RMSE_lr,fk"
   ]
  },
  {
   "cell_type": "code",
   "execution_count": 23,
   "metadata": {
    "ExecuteTime": {
     "end_time": "2021-04-21T23:11:09.873577Z",
     "start_time": "2021-04-21T23:11:09.871657Z"
    }
   },
   "outputs": [],
   "source": [
    "# def routine(item):\n",
    "#     r,D,kappa=item\n",
    "#     return PlotUnivCurve(r,D,kappa)\n",
    "\n",
    "# #run plotting in parallel\n",
    "# b = db.from_sequence(queue, npartitions=9).map(routine)\n",
    "# start = time.time()\n",
    "# retval = list(b)\n",
    "# print(f\"run time was {time.time()-start:.2f} seconds.\")\n",
    "# beep(10)"
   ]
  },
  {
   "cell_type": "code",
   "execution_count": 25,
   "metadata": {
    "ExecuteTime": {
     "end_time": "2021-06-02T19:58:32.489620Z",
     "start_time": "2021-06-02T19:58:32.473637Z"
    }
   },
   "outputs": [],
   "source": [
    "def get_eval_powerlaw(dict_out):\n",
    "    '''dict_out has fields m and b.\n",
    "    \n",
    "    Example Usage:\n",
    "    eval_powerlaw=get_eval_powerlaw(dict_out)\n",
    "    w=eval_powerlaw(q)\n",
    "    '''\n",
    "    m=dict_out['m'];b=dict_out['b']\n",
    "    q_foo = lambda q: m*q+b\n",
    "    eval_powerlaw = lambda q: np.exp(q_foo(np.log(q)))\n",
    "    return eval_powerlaw"
   ]
  },
  {
   "cell_type": "code",
   "execution_count": 3,
   "metadata": {
    "ExecuteTime": {
     "end_time": "2021-05-28T21:18:15.592514Z",
     "start_time": "2021-05-28T21:18:15.551266Z"
    }
   },
   "outputs": [
    {
     "data": {
      "text/html": [
       "<div>\n",
       "<style scoped>\n",
       "    .dataframe tbody tr th:only-of-type {\n",
       "        vertical-align: middle;\n",
       "    }\n",
       "\n",
       "    .dataframe tbody tr th {\n",
       "        vertical-align: top;\n",
       "    }\n",
       "\n",
       "    .dataframe thead th {\n",
       "        text-align: right;\n",
       "    }\n",
       "</style>\n",
       "<table border=\"1\" class=\"dataframe\">\n",
       "  <thead>\n",
       "    <tr style=\"text-align: right;\">\n",
       "      <th></th>\n",
       "      <th>x0</th>\n",
       "      <th>varkappa</th>\n",
       "      <th>set_second</th>\n",
       "      <th>reflect</th>\n",
       "      <th>r</th>\n",
       "      <th>no_repulsion</th>\n",
       "      <th>no_attraction</th>\n",
       "      <th>kappa</th>\n",
       "      <th>dt</th>\n",
       "      <th>N</th>\n",
       "      <th>L</th>\n",
       "      <th>Dt</th>\n",
       "      <th>D</th>\n",
       "      <th>CollRate</th>\n",
       "    </tr>\n",
       "  </thead>\n",
       "  <tbody>\n",
       "    <tr>\n",
       "      <th>0</th>\n",
       "      <td>0.47757</td>\n",
       "      <td>-2.23362</td>\n",
       "      <td>0</td>\n",
       "      <td>0</td>\n",
       "      <td>0.1</td>\n",
       "      <td>1</td>\n",
       "      <td>0</td>\n",
       "      <td>1500</td>\n",
       "      <td>0.00001</td>\n",
       "      <td>6</td>\n",
       "      <td>10</td>\n",
       "      <td>0.00001</td>\n",
       "      <td>3.17142</td>\n",
       "      <td>0.607921</td>\n",
       "    </tr>\n",
       "    <tr>\n",
       "      <th>1</th>\n",
       "      <td>0.47757</td>\n",
       "      <td>-2.23362</td>\n",
       "      <td>0</td>\n",
       "      <td>0</td>\n",
       "      <td>0.1</td>\n",
       "      <td>1</td>\n",
       "      <td>0</td>\n",
       "      <td>1500</td>\n",
       "      <td>0.00001</td>\n",
       "      <td>7</td>\n",
       "      <td>10</td>\n",
       "      <td>0.00001</td>\n",
       "      <td>3.17142</td>\n",
       "      <td>1.029337</td>\n",
       "    </tr>\n",
       "    <tr>\n",
       "      <th>2</th>\n",
       "      <td>0.47757</td>\n",
       "      <td>-2.23362</td>\n",
       "      <td>0</td>\n",
       "      <td>0</td>\n",
       "      <td>0.1</td>\n",
       "      <td>1</td>\n",
       "      <td>0</td>\n",
       "      <td>1500</td>\n",
       "      <td>0.00001</td>\n",
       "      <td>8</td>\n",
       "      <td>10</td>\n",
       "      <td>0.00001</td>\n",
       "      <td>3.17142</td>\n",
       "      <td>1.528828</td>\n",
       "    </tr>\n",
       "    <tr>\n",
       "      <th>3</th>\n",
       "      <td>0.47757</td>\n",
       "      <td>-2.23362</td>\n",
       "      <td>0</td>\n",
       "      <td>0</td>\n",
       "      <td>0.1</td>\n",
       "      <td>1</td>\n",
       "      <td>0</td>\n",
       "      <td>1500</td>\n",
       "      <td>0.00001</td>\n",
       "      <td>9</td>\n",
       "      <td>10</td>\n",
       "      <td>0.00001</td>\n",
       "      <td>3.17142</td>\n",
       "      <td>2.261622</td>\n",
       "    </tr>\n",
       "    <tr>\n",
       "      <th>4</th>\n",
       "      <td>0.47757</td>\n",
       "      <td>-2.23362</td>\n",
       "      <td>0</td>\n",
       "      <td>0</td>\n",
       "      <td>0.1</td>\n",
       "      <td>1</td>\n",
       "      <td>0</td>\n",
       "      <td>1500</td>\n",
       "      <td>0.00001</td>\n",
       "      <td>10</td>\n",
       "      <td>10</td>\n",
       "      <td>0.00001</td>\n",
       "      <td>3.17142</td>\n",
       "      <td>3.112874</td>\n",
       "    </tr>\n",
       "  </tbody>\n",
       "</table>\n",
       "</div>"
      ],
      "text/plain": [
       "        x0  varkappa  set_second  reflect    r  no_repulsion  no_attraction  \\\n",
       "0  0.47757  -2.23362           0        0  0.1             1              0   \n",
       "1  0.47757  -2.23362           0        0  0.1             1              0   \n",
       "2  0.47757  -2.23362           0        0  0.1             1              0   \n",
       "3  0.47757  -2.23362           0        0  0.1             1              0   \n",
       "4  0.47757  -2.23362           0        0  0.1             1              0   \n",
       "\n",
       "   kappa       dt   N   L       Dt        D  CollRate  \n",
       "0   1500  0.00001   6  10  0.00001  3.17142  0.607921  \n",
       "1   1500  0.00001   7  10  0.00001  3.17142  1.029337  \n",
       "2   1500  0.00001   8  10  0.00001  3.17142  1.528828  \n",
       "3   1500  0.00001   9  10  0.00001  3.17142  2.261622  \n",
       "4   1500  0.00001  10  10  0.00001  3.17142  3.112874  "
      ]
     },
     "execution_count": 3,
     "metadata": {},
     "output_type": "execute_result"
    }
   ],
   "source": [
    "# data_dir=\"/home/timothytyree/Documents/GitHub/bgmc/python/data/osg_output/run_10_all.csv\"\n",
    "data_dir=\"/home/timothytyree/Documents/GitHub/bgmc/python/data/osg_output/run_11_all.csv\"\n",
    "df=pd.read_csv(data_dir)\n",
    "df.head()"
   ]
  },
  {
   "cell_type": "code",
   "execution_count": 4,
   "metadata": {
    "ExecuteTime": {
     "end_time": "2021-05-28T21:18:16.497244Z",
     "start_time": "2021-05-28T21:18:16.485423Z"
    }
   },
   "outputs": [
    {
     "data": {
      "text/plain": [
       "Index(['x0', 'varkappa', 'set_second', 'reflect', 'r', 'no_repulsion',\n",
       "       'no_attraction', 'kappa', 'dt', 'N', 'L', 'Dt', 'D', 'CollRate'],\n",
       "      dtype='object')"
      ]
     },
     "execution_count": 4,
     "metadata": {},
     "output_type": "execute_result"
    }
   ],
   "source": [
    "df.columns"
   ]
  },
  {
   "cell_type": "code",
   "execution_count": 5,
   "metadata": {
    "ExecuteTime": {
     "end_time": "2021-05-28T21:18:19.680759Z",
     "start_time": "2021-05-28T21:18:19.666012Z"
    }
   },
   "outputs": [
    {
     "data": {
      "text/plain": [
       "False"
      ]
     },
     "execution_count": 5,
     "metadata": {},
     "output_type": "execute_result"
    }
   ],
   "source": [
    "(df.CollRate<0).any()"
   ]
  },
  {
   "cell_type": "code",
   "execution_count": 6,
   "metadata": {
    "ExecuteTime": {
     "end_time": "2021-05-28T21:18:20.400509Z",
     "start_time": "2021-05-28T21:18:20.329419Z"
    }
   },
   "outputs": [],
   "source": [
    "#derived values\n",
    "# df['CollRate']=1./df['CollTime']\n",
    "df['A']=df['L']**2\n",
    "df['q']=df['N']/df['A'] #number of tips per square centimeter\n",
    "df['w']=df['CollRate']/df['A'] #[mHz?]/cm^2\n",
    "\n",
    "# df=df[df.niter==250].copy()\n",
    "#extract column values\n",
    "r_values=np.array(sorted(set(df.r.values)))#cm\n",
    "D_values=np.array(sorted(set(df.D.values)))#cm^2/s\n",
    "L_values=np.array(sorted(set(df.L.values)))#cm\n",
    "A_values=L_values**2#cm^2\n",
    "kappa_values=np.array(sorted(set(df.kappa.values)))#1/s\n",
    "varkappa_values=np.array(sorted(set(df.varkappa.values)))#1/s\n",
    "x0_values=np.array(sorted(set(df.x0.values)))#1/s\n",
    "set_second_values=np.array(sorted(set(df.set_second.values)))\n",
    "reflect_values=np.array(sorted(set(df.reflect.values)))\n",
    "no_repulsion_values=np.array(sorted(set(df.no_repulsion.values)))\n",
    "no_attraction_values=np.array(sorted(set(df.no_attraction.values)))"
   ]
  },
  {
   "cell_type": "code",
   "execution_count": 7,
   "metadata": {
    "ExecuteTime": {
     "end_time": "2021-05-28T21:18:20.901677Z",
     "start_time": "2021-05-28T21:18:20.891831Z"
    }
   },
   "outputs": [],
   "source": [
    "# #make test for whether there is one input parameter present in an input DataFrame1\n",
    "# print(r_values)\n",
    "# print(D_values)\n",
    "# print(L_values)\n",
    "# print(kappa_values)\n",
    "# print(varkappa_values)\n",
    "# print(x0_values)\n",
    "# print(set_second_values)\n",
    "# print(reflect_values)\n",
    "# print(no_repulsion_values)\n",
    "# print(no_attraction_values)"
   ]
  },
  {
   "cell_type": "code",
   "execution_count": 8,
   "metadata": {
    "ExecuteTime": {
     "end_time": "2021-05-28T21:18:21.261598Z",
     "start_time": "2021-05-28T21:18:21.251247Z"
    }
   },
   "outputs": [],
   "source": [
    "\n",
    "\n",
    "# r=r_values[0]\n",
    "# L=L_values[0]\n",
    "# D=2;#np.min(D_values);print(f'D={D}')\n",
    "# varkappa=-20;#np.min(varkappa_values);print(f'varkappa={varkappa}')\n",
    "# x0=1.;#np.max(x0_values);print(f'x0={x0}')\n",
    "# # D==D_values[0];print(f'D={D}')\n",
    "# # varkappa=varkappa_values[3];print(f'varkappa={varkappa}')\n",
    "# # x0=x0_values[2];print(f'x0={x0}')\n",
    "# #query the DataFrame\n",
    "# query =(df.set_second==set_second_values[0])&(df.reflect==reflect_values[0])\n",
    "# query&=df.r==r\n",
    "# query&=df.D==D\n",
    "# query&=df.L==L\n",
    "# query&=df.varkappa==varkappa\n",
    "# query&=df.x0==x0\n",
    "# query&=(df.no_repulsion==no_repulsion_values[0])&(df.no_attraction==no_attraction_values[0])\n",
    "# dff=df[query]\n",
    "# kappa_values=np.array(sorted(set(dff.kappa.values)))\n",
    "# dg=dff[dff.kappa==kappa_values[0]]#smaller reaction rate\n",
    "# # dg=dff[dff.kappa==kappa_values[-1]]#Luo-Rudy fit\n",
    "# # dg=dff.kappa==kappa_values[0]#Fenton-Karma fit"
   ]
  },
  {
   "cell_type": "code",
   "execution_count": 9,
   "metadata": {
    "ExecuteTime": {
     "end_time": "2021-05-28T21:18:21.729464Z",
     "start_time": "2021-05-28T21:18:21.718972Z"
    }
   },
   "outputs": [],
   "source": [
    "# varkappa=varkappa_values[3];print(f'varkappa={varkappa}')\n",
    "# x0=x0_values[2];print(f'x0={x0}')\n",
    "# #query the DataFrame\n",
    "# query =(df.set_second==set_second_values[0])&(df.reflect==reflect_values[0])\n",
    "# query&=df.r==r_values[0]\n",
    "# query&=df.D==D_values[0]\n",
    "# query&=df.L==L_values[0]\n",
    "# query&=df.varkappa==varkappa\n",
    "# query&=df.x0==x0\n",
    "# query&=(df.no_repulsion==no_repulsion_values[0])&(df.no_attraction==no_attraction_values[0])\n",
    "# dff=df[query]\n",
    "# kappa_values=np.array(sorted(set(dff.kappa.values)))\n",
    "# dg=dff[dff.kappa==kappa_values[0]].copy()#smaller reaction rate"
   ]
  },
  {
   "cell_type": "code",
   "execution_count": 162,
   "metadata": {
    "ExecuteTime": {
     "end_time": "2021-06-02T20:57:39.589187Z",
     "start_time": "2021-06-02T20:57:39.566152Z"
    }
   },
   "outputs": [],
   "source": [
    "#load birth death rates from the full model\n",
    "data_folder=f'{nb_dir}/data'\n",
    "os.chdir(data_folder)\n",
    "\n",
    "data_fk_fn='full_results/data_fig4_vidmar_fk_tt.csv'\n",
    "data_lr_fn='full_results/data_fig4_vidmar_lr_tt.csv'\n",
    "\n",
    "fk=pd.read_csv(data_fk_fn)\n",
    "fk['N']=fk['No2']*2\n",
    "fk['q']=fk['N']/fk['A'] #number of tips per square centimeter\n",
    "fk['w']=fk['rate']/fk['A'] #[mHz?]/cm^2\n",
    "\n",
    "lr=pd.read_csv(data_lr_fn)\n",
    "lr['N']=lr['No2']*2\n",
    "lr['q']=lr['N']/lr['A'] #number of tips per square centimeter\n",
    "lr['w']=lr['rate']/lr['A'] #[mHz?]/cm^2\n",
    "\n"
   ]
  },
  {
   "cell_type": "code",
   "execution_count": 163,
   "metadata": {
    "ExecuteTime": {
     "end_time": "2021-06-02T20:57:39.912002Z",
     "start_time": "2021-06-02T20:57:39.896134Z"
    }
   },
   "outputs": [],
   "source": [
    "#compute w_lr and w_fk using a linear regression of a log-log plot\n",
    "# from lib.compute_slope import *\n",
    "yscale=10**3\n",
    "x=lr.q.values\n",
    "y=yscale*lr.w.values\n",
    "dict_out=compute_95CI_ols(np.log(x),np.log(y))\n",
    "dict_lr=dict_out.copy()\n",
    "#predict the values functionally over all q\n",
    "m=dict_out['m'];b=dict_out['b']\n",
    "q_foo = lambda q: m*q+b\n",
    "df['w_lr']=np.exp(q_foo(np.log(df['q'].values)))\n",
    "\n",
    "x=fk.q.values\n",
    "y=yscale*fk.w.values\n",
    "dict_out=compute_95CI_ols(np.log(x),np.log(y))\n",
    "dict_fk=dict_out.copy()\n",
    "#predict the values functionally over all q\n",
    "m=dict_out['m'];b=dict_out['b']\n",
    "q_foo = lambda q: m*q+b\n",
    "df['w_fk']=np.exp(q_foo(np.log(df['q'].values)))"
   ]
  },
  {
   "cell_type": "code",
   "execution_count": 164,
   "metadata": {
    "ExecuteTime": {
     "end_time": "2021-06-02T20:57:40.259515Z",
     "start_time": "2021-06-02T20:57:40.245271Z"
    }
   },
   "outputs": [],
   "source": [
    "#compute the square errors \n",
    "df['se_w_fk']=(df['w']-df['w_fk'])**2\n",
    "df['se_w_lr']=(df['w']-df['w_lr'])**2"
   ]
  },
  {
   "cell_type": "code",
   "execution_count": 165,
   "metadata": {
    "ExecuteTime": {
     "end_time": "2021-06-02T20:57:40.664675Z",
     "start_time": "2021-06-02T20:57:40.653700Z"
    }
   },
   "outputs": [],
   "source": [
    "# df_fn='w_vs_q_agg_over_A.csv'\n",
    "# os.chdir(data_folder)\n",
    "# df.to_csv(dg_fn,index=False)"
   ]
  },
  {
   "cell_type": "code",
   "execution_count": 250,
   "metadata": {
    "ExecuteTime": {
     "end_time": "2021-06-03T00:34:31.711897Z",
     "start_time": "2021-06-03T00:34:19.971763Z"
    },
    "run_control": {
     "marked": false
    }
   },
   "outputs": [],
   "source": [
    "#in rmse_lr,fk cell\n",
    "qmin=0.3;qmax=1.0;\n",
    "#compute the root mean squared errors over various axes\n",
    "#common defines\n",
    "no_attraction=0;no_repulsion=1;reflect=0;set_second=0\n",
    "#input list\n",
    "r_lst=[];D_lst=[];L_lst=[];kappa_lst=[];varkappa_lst=[];x0_lst=[]\n",
    "neighbor_lst=[];force_code_lst=[]\n",
    "varkappa_values=np.array(sorted(set(df.varkappa.values)))\n",
    "#output list\n",
    "rmse_lr_lst=[];rmse_fk_lst=[];m_lst=[];Delta_m_lst=[]\n",
    "for set_second in set_second_values:\n",
    "    for reflect in reflect_values:\n",
    "        for r in r_values:\n",
    "            for D in D_values:\n",
    "                for L in L_values:\n",
    "                    for kappa in kappa_values:\n",
    "                        for varkappa in varkappa_values:\n",
    "                            for x0 in x0_values:\n",
    "                                for no_repulsion in no_repulsion_values:\n",
    "                                    for no_attraction in no_attraction_values:\n",
    "                                        for neighbor in neighbor_values:\n",
    "                                            for force_code in force_code_values:\n",
    "                                                #query the DataFrame\n",
    "                                                query =(df.set_second==set_second)&(df.reflect==reflect)\n",
    "                                                query&=df.r==r\n",
    "                                                query&=df.D==D\n",
    "                                                query&=df.L==L\n",
    "                                                query&=df.kappa==kappa\n",
    "                                                query&=df.varkappa==varkappa\n",
    "                                                query&=df.x0==x0\n",
    "                                                query&=(df.no_repulsion==no_repulsion)&(df.no_attraction==no_attraction)\n",
    "                                                query&=(df.force_code==force_code)&(df.neighbor==neighbor)\n",
    "                                                dg=df[query]\n",
    "                                                #limit query to the specified interval of particle densities\n",
    "                                                query=(dg.q>qmin)&(dg.q<qmax)\n",
    "                                                qu=dg[query]\n",
    "                                                # if the slice is non-empty\n",
    "                                                if qu.size>0:\n",
    "                                                    rmse_lr=np.sqrt(qu.se_w_lr.mean())\n",
    "                                                    rmse_fk=np.sqrt(qu.se_w_fk.mean())\n",
    "                                                    #extract the data\n",
    "                                                    x_values=dg.q.values\n",
    "                                                    y_values=dg.w.values\n",
    "                                                    boo=(x_values>qmin)&(x_values<qmax)#redundant\n",
    "                                                    try:\n",
    "                                                        dict_ci=compute_95CI_ols(np.log(x_values[boo]),np.log(y_values[boo]))\n",
    "                                                        #                             print(*zip(dict_ci,dict_ci.values()))\n",
    "                                                        m=dict_ci['m']\n",
    "                                                        Delta_m=dict_ci['Delta_m']                        \n",
    "                                                    except AssertionError as e:\n",
    "                                                        m=-9999\n",
    "                                                        Delta_m=-9999                           \n",
    "                                                    #record inputs\n",
    "                                                    r_lst.append(r)\n",
    "                                                    D_lst.append(D)\n",
    "                                                    L_lst.append(L)\n",
    "                                                    kappa_lst.append(kappa)\n",
    "                                                    varkappa_lst.append(varkappa)\n",
    "                                                    x0_lst.append(x0)\n",
    "                                                    neighbor_lst.append(neighbor)\n",
    "                                                    force_code_lst.append(force_code)\n",
    "                                                    #record outputs\n",
    "                                                    rmse_lr_lst.append(rmse_lr)\n",
    "                                                    rmse_fk_lst.append(rmse_fk)   \n",
    "                                                    m_lst.append(m)\n",
    "                                                    Delta_m_lst.append(Delta_m)"
   ]
  },
  {
   "cell_type": "code",
   "execution_count": 251,
   "metadata": {
    "ExecuteTime": {
     "end_time": "2021-06-03T00:34:34.004605Z",
     "start_time": "2021-06-03T00:34:31.960651Z"
    }
   },
   "outputs": [
    {
     "data": {
      "text/plain": [
       "0"
      ]
     },
     "execution_count": 251,
     "metadata": {},
     "output_type": "execute_result"
    }
   ],
   "source": [
    "beep(10)"
   ]
  },
  {
   "cell_type": "code",
   "execution_count": 252,
   "metadata": {
    "ExecuteTime": {
     "end_time": "2021-06-03T00:34:34.205958Z",
     "start_time": "2021-06-03T00:34:34.177113Z"
    }
   },
   "outputs": [
    {
     "data": {
      "text/html": [
       "<div>\n",
       "<style scoped>\n",
       "    .dataframe tbody tr th:only-of-type {\n",
       "        vertical-align: middle;\n",
       "    }\n",
       "\n",
       "    .dataframe tbody tr th {\n",
       "        vertical-align: top;\n",
       "    }\n",
       "\n",
       "    .dataframe thead th {\n",
       "        text-align: right;\n",
       "    }\n",
       "</style>\n",
       "<table border=\"1\" class=\"dataframe\">\n",
       "  <thead>\n",
       "    <tr style=\"text-align: right;\">\n",
       "      <th></th>\n",
       "      <th>rmse_lr</th>\n",
       "      <th>rmse_fk</th>\n",
       "      <th>m</th>\n",
       "      <th>Delta_m</th>\n",
       "      <th>r</th>\n",
       "      <th>D</th>\n",
       "      <th>L</th>\n",
       "      <th>kappa</th>\n",
       "      <th>varkappa</th>\n",
       "      <th>x0</th>\n",
       "      <th>neighbor</th>\n",
       "      <th>force_code</th>\n",
       "    </tr>\n",
       "  </thead>\n",
       "  <tbody>\n",
       "    <tr>\n",
       "      <th>0</th>\n",
       "      <td>7.436866</td>\n",
       "      <td>0.321309</td>\n",
       "      <td>2.454450</td>\n",
       "      <td>0.011045</td>\n",
       "      <td>0.1</td>\n",
       "      <td>2</td>\n",
       "      <td>10</td>\n",
       "      <td>500</td>\n",
       "      <td>-20.0</td>\n",
       "      <td>0</td>\n",
       "      <td>0</td>\n",
       "      <td>1</td>\n",
       "    </tr>\n",
       "    <tr>\n",
       "      <th>1</th>\n",
       "      <td>6.186927</td>\n",
       "      <td>1.076640</td>\n",
       "      <td>2.070693</td>\n",
       "      <td>0.011045</td>\n",
       "      <td>0.1</td>\n",
       "      <td>2</td>\n",
       "      <td>10</td>\n",
       "      <td>500</td>\n",
       "      <td>-20.0</td>\n",
       "      <td>1</td>\n",
       "      <td>0</td>\n",
       "      <td>1</td>\n",
       "    </tr>\n",
       "    <tr>\n",
       "      <th>2</th>\n",
       "      <td>6.235297</td>\n",
       "      <td>1.029690</td>\n",
       "      <td>2.094252</td>\n",
       "      <td>0.011045</td>\n",
       "      <td>0.1</td>\n",
       "      <td>2</td>\n",
       "      <td>10</td>\n",
       "      <td>500</td>\n",
       "      <td>-20.0</td>\n",
       "      <td>5</td>\n",
       "      <td>0</td>\n",
       "      <td>1</td>\n",
       "    </tr>\n",
       "    <tr>\n",
       "      <th>3</th>\n",
       "      <td>20.549289</td>\n",
       "      <td>27.604795</td>\n",
       "      <td>1.876708</td>\n",
       "      <td>0.011045</td>\n",
       "      <td>0.1</td>\n",
       "      <td>2</td>\n",
       "      <td>10</td>\n",
       "      <td>500</td>\n",
       "      <td>-20.0</td>\n",
       "      <td>5</td>\n",
       "      <td>1</td>\n",
       "      <td>1</td>\n",
       "    </tr>\n",
       "    <tr>\n",
       "      <th>4</th>\n",
       "      <td>7.440128</td>\n",
       "      <td>0.328607</td>\n",
       "      <td>2.449910</td>\n",
       "      <td>0.011045</td>\n",
       "      <td>0.1</td>\n",
       "      <td>2</td>\n",
       "      <td>10</td>\n",
       "      <td>500</td>\n",
       "      <td>-10.0</td>\n",
       "      <td>0</td>\n",
       "      <td>0</td>\n",
       "      <td>1</td>\n",
       "    </tr>\n",
       "  </tbody>\n",
       "</table>\n",
       "</div>"
      ],
      "text/plain": [
       "     rmse_lr    rmse_fk         m   Delta_m    r  D   L  kappa  varkappa  x0  \\\n",
       "0   7.436866   0.321309  2.454450  0.011045  0.1  2  10    500     -20.0   0   \n",
       "1   6.186927   1.076640  2.070693  0.011045  0.1  2  10    500     -20.0   1   \n",
       "2   6.235297   1.029690  2.094252  0.011045  0.1  2  10    500     -20.0   5   \n",
       "3  20.549289  27.604795  1.876708  0.011045  0.1  2  10    500     -20.0   5   \n",
       "4   7.440128   0.328607  2.449910  0.011045  0.1  2  10    500     -10.0   0   \n",
       "\n",
       "   neighbor  force_code  \n",
       "0         0           1  \n",
       "1         0           1  \n",
       "2         0           1  \n",
       "3         1           1  \n",
       "4         0           1  "
      ]
     },
     "execution_count": 252,
     "metadata": {},
     "output_type": "execute_result"
    }
   ],
   "source": [
    "#form a pandas.DataFrame of ^that\n",
    "dh=pd.DataFrame({\n",
    "    'rmse_lr':rmse_lr_lst,\n",
    "    'rmse_fk':rmse_fk_lst,\n",
    "    'm':m_lst,\n",
    "    'Delta_m':Delta_m,\n",
    "    'r':r_lst,\n",
    "    'D':D_lst,\n",
    "    'L':L_lst,\n",
    "    'kappa':kappa_lst,\n",
    "    'varkappa':varkappa_lst,\n",
    "    'x0':x0_lst, \n",
    "    'neighbor':neighbor_lst,\n",
    "    'force_code':force_code_lst, \n",
    "})\n",
    "dh.head()"
   ]
  },
  {
   "cell_type": "code",
   "execution_count": 253,
   "metadata": {
    "ExecuteTime": {
     "end_time": "2021-06-03T00:34:34.404080Z",
     "start_time": "2021-06-03T00:34:34.377498Z"
    }
   },
   "outputs": [
    {
     "name": "stdout",
     "output_type": "stream",
     "text": [
      "The top 5 for the Fenton-Karma model:\n"
     ]
    },
    {
     "data": {
      "text/html": [
       "<div>\n",
       "<style scoped>\n",
       "    .dataframe tbody tr th:only-of-type {\n",
       "        vertical-align: middle;\n",
       "    }\n",
       "\n",
       "    .dataframe tbody tr th {\n",
       "        vertical-align: top;\n",
       "    }\n",
       "\n",
       "    .dataframe thead th {\n",
       "        text-align: right;\n",
       "    }\n",
       "</style>\n",
       "<table border=\"1\" class=\"dataframe\">\n",
       "  <thead>\n",
       "    <tr style=\"text-align: right;\">\n",
       "      <th></th>\n",
       "      <th>rmse_lr</th>\n",
       "      <th>rmse_fk</th>\n",
       "      <th>m</th>\n",
       "      <th>Delta_m</th>\n",
       "      <th>r</th>\n",
       "      <th>D</th>\n",
       "      <th>L</th>\n",
       "      <th>kappa</th>\n",
       "      <th>varkappa</th>\n",
       "      <th>x0</th>\n",
       "      <th>neighbor</th>\n",
       "      <th>force_code</th>\n",
       "    </tr>\n",
       "  </thead>\n",
       "  <tbody>\n",
       "    <tr>\n",
       "      <th>28</th>\n",
       "      <td>7.434655</td>\n",
       "      <td>0.319750</td>\n",
       "      <td>2.452719</td>\n",
       "      <td>0.011045</td>\n",
       "      <td>0.1</td>\n",
       "      <td>2</td>\n",
       "      <td>10</td>\n",
       "      <td>500</td>\n",
       "      <td>20.0</td>\n",
       "      <td>0</td>\n",
       "      <td>1</td>\n",
       "      <td>3</td>\n",
       "    </tr>\n",
       "    <tr>\n",
       "      <th>0</th>\n",
       "      <td>7.436866</td>\n",
       "      <td>0.321309</td>\n",
       "      <td>2.454450</td>\n",
       "      <td>0.011045</td>\n",
       "      <td>0.1</td>\n",
       "      <td>2</td>\n",
       "      <td>10</td>\n",
       "      <td>500</td>\n",
       "      <td>-20.0</td>\n",
       "      <td>0</td>\n",
       "      <td>0</td>\n",
       "      <td>1</td>\n",
       "    </tr>\n",
       "    <tr>\n",
       "      <th>8</th>\n",
       "      <td>7.430339</td>\n",
       "      <td>0.322087</td>\n",
       "      <td>2.449040</td>\n",
       "      <td>0.011045</td>\n",
       "      <td>0.1</td>\n",
       "      <td>2</td>\n",
       "      <td>10</td>\n",
       "      <td>500</td>\n",
       "      <td>-5.0</td>\n",
       "      <td>0</td>\n",
       "      <td>0</td>\n",
       "      <td>1</td>\n",
       "    </tr>\n",
       "    <tr>\n",
       "      <th>24</th>\n",
       "      <td>7.442412</td>\n",
       "      <td>0.322796</td>\n",
       "      <td>2.449669</td>\n",
       "      <td>0.011045</td>\n",
       "      <td>0.1</td>\n",
       "      <td>2</td>\n",
       "      <td>10</td>\n",
       "      <td>500</td>\n",
       "      <td>10.0</td>\n",
       "      <td>0</td>\n",
       "      <td>1</td>\n",
       "      <td>3</td>\n",
       "    </tr>\n",
       "    <tr>\n",
       "      <th>5</th>\n",
       "      <td>7.427221</td>\n",
       "      <td>0.323118</td>\n",
       "      <td>2.452320</td>\n",
       "      <td>0.011045</td>\n",
       "      <td>0.1</td>\n",
       "      <td>2</td>\n",
       "      <td>10</td>\n",
       "      <td>500</td>\n",
       "      <td>-10.0</td>\n",
       "      <td>0</td>\n",
       "      <td>1</td>\n",
       "      <td>1</td>\n",
       "    </tr>\n",
       "  </tbody>\n",
       "</table>\n",
       "</div>"
      ],
      "text/plain": [
       "     rmse_lr   rmse_fk         m   Delta_m    r  D   L  kappa  varkappa  x0  \\\n",
       "28  7.434655  0.319750  2.452719  0.011045  0.1  2  10    500      20.0   0   \n",
       "0   7.436866  0.321309  2.454450  0.011045  0.1  2  10    500     -20.0   0   \n",
       "8   7.430339  0.322087  2.449040  0.011045  0.1  2  10    500      -5.0   0   \n",
       "24  7.442412  0.322796  2.449669  0.011045  0.1  2  10    500      10.0   0   \n",
       "5   7.427221  0.323118  2.452320  0.011045  0.1  2  10    500     -10.0   0   \n",
       "\n",
       "    neighbor  force_code  \n",
       "28         1           3  \n",
       "0          0           1  \n",
       "8          0           1  \n",
       "24         1           3  \n",
       "5          1           1  "
      ]
     },
     "execution_count": 253,
     "metadata": {},
     "output_type": "execute_result"
    }
   ],
   "source": [
    "#and the top 5 matches for either model is... (FK)\n",
    "print(f\"The top 5 for the Fenton-Karma model:\")\n",
    "dh.sort_values(by='rmse_fk').head(5)"
   ]
  },
  {
   "cell_type": "code",
   "execution_count": 254,
   "metadata": {
    "ExecuteTime": {
     "end_time": "2021-06-03T00:34:34.581931Z",
     "start_time": "2021-06-03T00:34:34.555693Z"
    }
   },
   "outputs": [
    {
     "name": "stdout",
     "output_type": "stream",
     "text": [
      "The top 5 for the Luo-Rudy model:\n"
     ]
    },
    {
     "data": {
      "text/html": [
       "<div>\n",
       "<style scoped>\n",
       "    .dataframe tbody tr th:only-of-type {\n",
       "        vertical-align: middle;\n",
       "    }\n",
       "\n",
       "    .dataframe tbody tr th {\n",
       "        vertical-align: top;\n",
       "    }\n",
       "\n",
       "    .dataframe thead th {\n",
       "        text-align: right;\n",
       "    }\n",
       "</style>\n",
       "<table border=\"1\" class=\"dataframe\">\n",
       "  <thead>\n",
       "    <tr style=\"text-align: right;\">\n",
       "      <th></th>\n",
       "      <th>rmse_lr</th>\n",
       "      <th>rmse_fk</th>\n",
       "      <th>m</th>\n",
       "      <th>Delta_m</th>\n",
       "      <th>r</th>\n",
       "      <th>D</th>\n",
       "      <th>L</th>\n",
       "      <th>kappa</th>\n",
       "      <th>varkappa</th>\n",
       "      <th>x0</th>\n",
       "      <th>neighbor</th>\n",
       "      <th>force_code</th>\n",
       "    </tr>\n",
       "  </thead>\n",
       "  <tbody>\n",
       "    <tr>\n",
       "      <th>123</th>\n",
       "      <td>1.142266</td>\n",
       "      <td>6.852364</td>\n",
       "      <td>2.224817</td>\n",
       "      <td>0.011045</td>\n",
       "      <td>0.1</td>\n",
       "      <td>20</td>\n",
       "      <td>10</td>\n",
       "      <td>1500</td>\n",
       "      <td>0.1</td>\n",
       "      <td>0</td>\n",
       "      <td>1</td>\n",
       "      <td>3</td>\n",
       "    </tr>\n",
       "    <tr>\n",
       "      <th>138</th>\n",
       "      <td>1.142507</td>\n",
       "      <td>6.825276</td>\n",
       "      <td>2.221439</td>\n",
       "      <td>0.011045</td>\n",
       "      <td>0.1</td>\n",
       "      <td>20</td>\n",
       "      <td>10</td>\n",
       "      <td>1500</td>\n",
       "      <td>20.0</td>\n",
       "      <td>0</td>\n",
       "      <td>1</td>\n",
       "      <td>2</td>\n",
       "    </tr>\n",
       "    <tr>\n",
       "      <th>131</th>\n",
       "      <td>1.147039</td>\n",
       "      <td>6.854849</td>\n",
       "      <td>2.219115</td>\n",
       "      <td>0.011045</td>\n",
       "      <td>0.1</td>\n",
       "      <td>20</td>\n",
       "      <td>10</td>\n",
       "      <td>1500</td>\n",
       "      <td>5.0</td>\n",
       "      <td>0</td>\n",
       "      <td>1</td>\n",
       "      <td>3</td>\n",
       "    </tr>\n",
       "    <tr>\n",
       "      <th>122</th>\n",
       "      <td>1.151625</td>\n",
       "      <td>6.917481</td>\n",
       "      <td>2.228963</td>\n",
       "      <td>0.011045</td>\n",
       "      <td>0.1</td>\n",
       "      <td>20</td>\n",
       "      <td>10</td>\n",
       "      <td>1500</td>\n",
       "      <td>0.1</td>\n",
       "      <td>0</td>\n",
       "      <td>1</td>\n",
       "      <td>2</td>\n",
       "    </tr>\n",
       "    <tr>\n",
       "      <th>119</th>\n",
       "      <td>1.153784</td>\n",
       "      <td>6.865104</td>\n",
       "      <td>2.224741</td>\n",
       "      <td>0.011045</td>\n",
       "      <td>0.1</td>\n",
       "      <td>20</td>\n",
       "      <td>10</td>\n",
       "      <td>1500</td>\n",
       "      <td>0.0</td>\n",
       "      <td>0</td>\n",
       "      <td>0</td>\n",
       "      <td>0</td>\n",
       "    </tr>\n",
       "  </tbody>\n",
       "</table>\n",
       "</div>"
      ],
      "text/plain": [
       "      rmse_lr   rmse_fk         m   Delta_m    r   D   L  kappa  varkappa  x0  \\\n",
       "123  1.142266  6.852364  2.224817  0.011045  0.1  20  10   1500       0.1   0   \n",
       "138  1.142507  6.825276  2.221439  0.011045  0.1  20  10   1500      20.0   0   \n",
       "131  1.147039  6.854849  2.219115  0.011045  0.1  20  10   1500       5.0   0   \n",
       "122  1.151625  6.917481  2.228963  0.011045  0.1  20  10   1500       0.1   0   \n",
       "119  1.153784  6.865104  2.224741  0.011045  0.1  20  10   1500       0.0   0   \n",
       "\n",
       "     neighbor  force_code  \n",
       "123         1           3  \n",
       "138         1           2  \n",
       "131         1           3  \n",
       "122         1           2  \n",
       "119         0           0  "
      ]
     },
     "execution_count": 254,
     "metadata": {},
     "output_type": "execute_result"
    }
   ],
   "source": [
    "#and the top 5 matches for either model is... (FK)\n",
    "print(f\"The top 5 for the Luo-Rudy model:\")\n",
    "dh.sort_values(by='rmse_lr',inplace=True)\n",
    "dh.head(5)"
   ]
  },
  {
   "cell_type": "code",
   "execution_count": 255,
   "metadata": {
    "ExecuteTime": {
     "end_time": "2021-06-03T00:34:34.767053Z",
     "start_time": "2021-06-03T00:34:34.749434Z"
    }
   },
   "outputs": [],
   "source": [
    "#compute absolute error from the target exponent\n",
    "dh['m_fk']=np.abs(dh['m']-m_fk)\n",
    "dh['m_lr']=np.abs(dh['m']-m_lr)"
   ]
  },
  {
   "cell_type": "code",
   "execution_count": 256,
   "metadata": {
    "ExecuteTime": {
     "end_time": "2021-06-03T00:34:35.040732Z",
     "start_time": "2021-06-03T00:34:35.004549Z"
    }
   },
   "outputs": [
    {
     "name": "stdout",
     "output_type": "stream",
     "text": [
      "The top 5 for the exponent of the Fenton-Karma model:\n"
     ]
    },
    {
     "data": {
      "text/html": [
       "<div>\n",
       "<style scoped>\n",
       "    .dataframe tbody tr th:only-of-type {\n",
       "        vertical-align: middle;\n",
       "    }\n",
       "\n",
       "    .dataframe tbody tr th {\n",
       "        vertical-align: top;\n",
       "    }\n",
       "\n",
       "    .dataframe thead th {\n",
       "        text-align: right;\n",
       "    }\n",
       "</style>\n",
       "<table border=\"1\" class=\"dataframe\">\n",
       "  <thead>\n",
       "    <tr style=\"text-align: right;\">\n",
       "      <th></th>\n",
       "      <th>rmse_lr</th>\n",
       "      <th>rmse_fk</th>\n",
       "      <th>m</th>\n",
       "      <th>Delta_m</th>\n",
       "      <th>r</th>\n",
       "      <th>D</th>\n",
       "      <th>L</th>\n",
       "      <th>kappa</th>\n",
       "      <th>varkappa</th>\n",
       "      <th>x0</th>\n",
       "      <th>neighbor</th>\n",
       "      <th>force_code</th>\n",
       "      <th>m_fk</th>\n",
       "      <th>m_lr</th>\n",
       "    </tr>\n",
       "  </thead>\n",
       "  <tbody>\n",
       "    <tr>\n",
       "      <th>77</th>\n",
       "      <td>5.983339</td>\n",
       "      <td>1.271839</td>\n",
       "      <td>1.984985</td>\n",
       "      <td>0.011045</td>\n",
       "      <td>0.1</td>\n",
       "      <td>20</td>\n",
       "      <td>10</td>\n",
       "      <td>500</td>\n",
       "      <td>-10.0</td>\n",
       "      <td>1</td>\n",
       "      <td>0</td>\n",
       "      <td>1</td>\n",
       "      <td>0.039985</td>\n",
       "      <td>0.440985</td>\n",
       "    </tr>\n",
       "    <tr>\n",
       "      <th>40</th>\n",
       "      <td>2.470119</td>\n",
       "      <td>9.565495</td>\n",
       "      <td>1.987484</td>\n",
       "      <td>0.011045</td>\n",
       "      <td>0.1</td>\n",
       "      <td>2</td>\n",
       "      <td>10</td>\n",
       "      <td>1500</td>\n",
       "      <td>-10.0</td>\n",
       "      <td>1</td>\n",
       "      <td>0</td>\n",
       "      <td>1</td>\n",
       "      <td>0.042484</td>\n",
       "      <td>0.443484</td>\n",
       "    </tr>\n",
       "    <tr>\n",
       "      <th>6</th>\n",
       "      <td>5.987457</td>\n",
       "      <td>1.267852</td>\n",
       "      <td>1.988236</td>\n",
       "      <td>0.011045</td>\n",
       "      <td>0.1</td>\n",
       "      <td>2</td>\n",
       "      <td>10</td>\n",
       "      <td>500</td>\n",
       "      <td>-10.0</td>\n",
       "      <td>1</td>\n",
       "      <td>0</td>\n",
       "      <td>1</td>\n",
       "      <td>0.043236</td>\n",
       "      <td>0.444236</td>\n",
       "    </tr>\n",
       "    <tr>\n",
       "      <th>114</th>\n",
       "      <td>2.435987</td>\n",
       "      <td>9.535482</td>\n",
       "      <td>1.990218</td>\n",
       "      <td>0.011045</td>\n",
       "      <td>0.1</td>\n",
       "      <td>20</td>\n",
       "      <td>10</td>\n",
       "      <td>1500</td>\n",
       "      <td>-10.0</td>\n",
       "      <td>1</td>\n",
       "      <td>0</td>\n",
       "      <td>1</td>\n",
       "      <td>0.045218</td>\n",
       "      <td>0.446218</td>\n",
       "    </tr>\n",
       "    <tr>\n",
       "      <th>74</th>\n",
       "      <td>20.430583</td>\n",
       "      <td>27.487057</td>\n",
       "      <td>1.883089</td>\n",
       "      <td>0.011045</td>\n",
       "      <td>0.1</td>\n",
       "      <td>20</td>\n",
       "      <td>10</td>\n",
       "      <td>500</td>\n",
       "      <td>-20.0</td>\n",
       "      <td>5</td>\n",
       "      <td>1</td>\n",
       "      <td>1</td>\n",
       "      <td>0.061911</td>\n",
       "      <td>0.339089</td>\n",
       "    </tr>\n",
       "  </tbody>\n",
       "</table>\n",
       "</div>"
      ],
      "text/plain": [
       "       rmse_lr    rmse_fk         m   Delta_m    r   D   L  kappa  varkappa  \\\n",
       "77    5.983339   1.271839  1.984985  0.011045  0.1  20  10    500     -10.0   \n",
       "40    2.470119   9.565495  1.987484  0.011045  0.1   2  10   1500     -10.0   \n",
       "6     5.987457   1.267852  1.988236  0.011045  0.1   2  10    500     -10.0   \n",
       "114   2.435987   9.535482  1.990218  0.011045  0.1  20  10   1500     -10.0   \n",
       "74   20.430583  27.487057  1.883089  0.011045  0.1  20  10    500     -20.0   \n",
       "\n",
       "     x0  neighbor  force_code      m_fk      m_lr  \n",
       "77    1         0           1  0.039985  0.440985  \n",
       "40    1         0           1  0.042484  0.443484  \n",
       "6     1         0           1  0.043236  0.444236  \n",
       "114   1         0           1  0.045218  0.446218  \n",
       "74    5         1           1  0.061911  0.339089  "
      ]
     },
     "execution_count": 256,
     "metadata": {},
     "output_type": "execute_result"
    }
   ],
   "source": [
    "#rank each trial by distance from m_fk\n",
    "print(f\"The top 5 for the exponent of the Fenton-Karma model:\")\n",
    "dh.sort_values(by='m_fk').head(5)"
   ]
  },
  {
   "cell_type": "code",
   "execution_count": 257,
   "metadata": {
    "ExecuteTime": {
     "end_time": "2021-06-03T00:34:35.301461Z",
     "start_time": "2021-06-03T00:34:35.268520Z"
    }
   },
   "outputs": [
    {
     "name": "stdout",
     "output_type": "stream",
     "text": [
      "The top 5 for the exponent of the Luo-Rudy model:\n"
     ]
    },
    {
     "data": {
      "text/html": [
       "<div>\n",
       "<style scoped>\n",
       "    .dataframe tbody tr th:only-of-type {\n",
       "        vertical-align: middle;\n",
       "    }\n",
       "\n",
       "    .dataframe tbody tr th {\n",
       "        vertical-align: top;\n",
       "    }\n",
       "\n",
       "    .dataframe thead th {\n",
       "        text-align: right;\n",
       "    }\n",
       "</style>\n",
       "<table border=\"1\" class=\"dataframe\">\n",
       "  <thead>\n",
       "    <tr style=\"text-align: right;\">\n",
       "      <th></th>\n",
       "      <th>rmse_lr</th>\n",
       "      <th>rmse_fk</th>\n",
       "      <th>m</th>\n",
       "      <th>Delta_m</th>\n",
       "      <th>r</th>\n",
       "      <th>D</th>\n",
       "      <th>L</th>\n",
       "      <th>kappa</th>\n",
       "      <th>varkappa</th>\n",
       "      <th>x0</th>\n",
       "      <th>neighbor</th>\n",
       "      <th>force_code</th>\n",
       "      <th>m_fk</th>\n",
       "      <th>m_lr</th>\n",
       "    </tr>\n",
       "  </thead>\n",
       "  <tbody>\n",
       "    <tr>\n",
       "      <th>37</th>\n",
       "      <td>35.143435</td>\n",
       "      <td>42.290526</td>\n",
       "      <td>1.590049</td>\n",
       "      <td>0.011045</td>\n",
       "      <td>0.1</td>\n",
       "      <td>2</td>\n",
       "      <td>10</td>\n",
       "      <td>1500</td>\n",
       "      <td>-20.0</td>\n",
       "      <td>5</td>\n",
       "      <td>1</td>\n",
       "      <td>1</td>\n",
       "      <td>0.354951</td>\n",
       "      <td>0.046049</td>\n",
       "    </tr>\n",
       "    <tr>\n",
       "      <th>111</th>\n",
       "      <td>35.203806</td>\n",
       "      <td>42.354415</td>\n",
       "      <td>1.595877</td>\n",
       "      <td>0.011045</td>\n",
       "      <td>0.1</td>\n",
       "      <td>20</td>\n",
       "      <td>10</td>\n",
       "      <td>1500</td>\n",
       "      <td>-20.0</td>\n",
       "      <td>5</td>\n",
       "      <td>1</td>\n",
       "      <td>1</td>\n",
       "      <td>0.349123</td>\n",
       "      <td>0.051877</td>\n",
       "    </tr>\n",
       "    <tr>\n",
       "      <th>3</th>\n",
       "      <td>20.549289</td>\n",
       "      <td>27.604795</td>\n",
       "      <td>1.876708</td>\n",
       "      <td>0.011045</td>\n",
       "      <td>0.1</td>\n",
       "      <td>2</td>\n",
       "      <td>10</td>\n",
       "      <td>500</td>\n",
       "      <td>-20.0</td>\n",
       "      <td>5</td>\n",
       "      <td>1</td>\n",
       "      <td>1</td>\n",
       "      <td>0.068292</td>\n",
       "      <td>0.332708</td>\n",
       "    </tr>\n",
       "    <tr>\n",
       "      <th>74</th>\n",
       "      <td>20.430583</td>\n",
       "      <td>27.487057</td>\n",
       "      <td>1.883089</td>\n",
       "      <td>0.011045</td>\n",
       "      <td>0.1</td>\n",
       "      <td>20</td>\n",
       "      <td>10</td>\n",
       "      <td>500</td>\n",
       "      <td>-20.0</td>\n",
       "      <td>5</td>\n",
       "      <td>1</td>\n",
       "      <td>1</td>\n",
       "      <td>0.061911</td>\n",
       "      <td>0.339089</td>\n",
       "    </tr>\n",
       "    <tr>\n",
       "      <th>77</th>\n",
       "      <td>5.983339</td>\n",
       "      <td>1.271839</td>\n",
       "      <td>1.984985</td>\n",
       "      <td>0.011045</td>\n",
       "      <td>0.1</td>\n",
       "      <td>20</td>\n",
       "      <td>10</td>\n",
       "      <td>500</td>\n",
       "      <td>-10.0</td>\n",
       "      <td>1</td>\n",
       "      <td>0</td>\n",
       "      <td>1</td>\n",
       "      <td>0.039985</td>\n",
       "      <td>0.440985</td>\n",
       "    </tr>\n",
       "  </tbody>\n",
       "</table>\n",
       "</div>"
      ],
      "text/plain": [
       "       rmse_lr    rmse_fk         m   Delta_m    r   D   L  kappa  varkappa  \\\n",
       "37   35.143435  42.290526  1.590049  0.011045  0.1   2  10   1500     -20.0   \n",
       "111  35.203806  42.354415  1.595877  0.011045  0.1  20  10   1500     -20.0   \n",
       "3    20.549289  27.604795  1.876708  0.011045  0.1   2  10    500     -20.0   \n",
       "74   20.430583  27.487057  1.883089  0.011045  0.1  20  10    500     -20.0   \n",
       "77    5.983339   1.271839  1.984985  0.011045  0.1  20  10    500     -10.0   \n",
       "\n",
       "     x0  neighbor  force_code      m_fk      m_lr  \n",
       "37    5         1           1  0.354951  0.046049  \n",
       "111   5         1           1  0.349123  0.051877  \n",
       "3     5         1           1  0.068292  0.332708  \n",
       "74    5         1           1  0.061911  0.339089  \n",
       "77    1         0           1  0.039985  0.440985  "
      ]
     },
     "execution_count": 257,
     "metadata": {},
     "output_type": "execute_result"
    }
   ],
   "source": [
    "#rank each trial by distance from m_lr\n",
    "print(f\"The top 5 for the exponent of the Luo-Rudy model:\")\n",
    "dh.sort_values(by='m_lr').head(5)"
   ]
  },
  {
   "cell_type": "code",
   "execution_count": 258,
   "metadata": {
    "ExecuteTime": {
     "end_time": "2021-06-03T00:34:35.584357Z",
     "start_time": "2021-06-03T00:34:35.552889Z"
    }
   },
   "outputs": [],
   "source": [
    "#save dh as csv\n",
    "save_folder=f\"{nb_dir}/data/osg_output\"\n",
    "assert ( os.path.exists(save_folder))\n",
    "os.chdir(save_folder)\n",
    "save_fn=data_dir.replace('.csv',f'run_12_rmse_m_lr_fk_qmin_{qmin}_qmax_{qmax}.csv')\n",
    "dh.to_csv(save_fn,index=False)\n",
    "assert(os.path.exists(save_fn))"
   ]
  },
  {
   "cell_type": "code",
   "execution_count": 259,
   "metadata": {
    "ExecuteTime": {
     "end_time": "2021-06-03T00:34:36.648296Z",
     "start_time": "2021-06-03T00:34:36.632994Z"
    }
   },
   "outputs": [
    {
     "data": {
      "text/plain": [
       "{-20.0, -10.0, -5.0, 0.0, 0.1, 1.0, 5.0, 10.0, 20.0, 50.0}"
      ]
     },
     "execution_count": 259,
     "metadata": {},
     "output_type": "execute_result"
    }
   ],
   "source": [
    "set(dh.varkappa.values)"
   ]
  },
  {
   "cell_type": "markdown",
   "metadata": {},
   "source": [
    "## DONE: dev run 11 using random linear combinations of ^those for the LR model \n",
    "-TODO(later): fork run 11 to fit the FK model."
   ]
  },
  {
   "cell_type": "code",
   "execution_count": 260,
   "metadata": {
    "ExecuteTime": {
     "end_time": "2021-06-03T00:34:38.101114Z",
     "start_time": "2021-06-03T00:34:38.082928Z"
    }
   },
   "outputs": [],
   "source": [
    "# - DONE: make run 11 have niter=5000 and Nmax=60...\n",
    "# num_trials_born=100 # the total number of daughters\n",
    "# # print the breeding_values of the top 5 \n",
    "# # num_breeders=5\n",
    "# # num_breeding_params=3\n",
    "# # breeding_cols=['D','varkappa','x0']\n",
    "# # num_breeding_params=len(breeding_cols)\n",
    "# # # taken from the *.ipynb located here: 'analyzing the effect of strong attractive forces between nearest neighbors.ipynb'\n",
    "# # breeder_values=dh[breeding_cols].head(num_breeders).values\n",
    "# # breeder_values_LR=breeder_values\n",
    "# # print(breeder_values)\n",
    "# #the top 5 for the LR model. Epoch 0\n",
    "# breeder_values=np.array(\n",
    "#     [[  2.,   -5.,    5. ],\n",
    "#      [ 20.,   -5.,    5. ],\n",
    "#      [ 20.,  -20.,    1.5],\n",
    "#      [ 20.,  -10.,    3. ],\n",
    "#      [  2.,  -20.,    1.5]])\n",
    "\n",
    "# #breed the given most-fit trials omnisexually.\n",
    "# num_breeders, num_breeding_params = breeder_values.shape\n",
    "# rand_matrix=np.random.rand(num_trials_born-num_breeders,num_breeders) # each entry is uniformly distributed on the interval from 0 to 1.\n",
    "\n",
    "# breeder_trials=np.matmul(rand_matrix,breeder_values)/num_breeders\n",
    "# #prepend the breeding_values of the top 5 to breeder_trials\n",
    "# trial_values=np.concatenate((breeder_values,breeder_trials),axis=0)\n",
    "# for trial in trial_values:\n",
    "#     D,varkappa,x0=trial\n",
    "#     pass\n",
    "# # trial_values.shape\n",
    "# print ( (D,varkappa,x0))"
   ]
  },
  {
   "cell_type": "markdown",
   "metadata": {},
   "source": [
    "## TODO(later): analyze ^those top 5-10 results by plotting them and paying a lot of attention to them..."
   ]
  },
  {
   "cell_type": "code",
   "execution_count": 265,
   "metadata": {
    "ExecuteTime": {
     "end_time": "2021-06-03T00:38:51.828302Z",
     "start_time": "2021-06-03T00:38:51.797935Z"
    }
   },
   "outputs": [
    {
     "name": "stdout",
     "output_type": "stream",
     "text": [
      "The top 5 for the Luo-Rudy model:\n"
     ]
    },
    {
     "data": {
      "text/html": [
       "<div>\n",
       "<style scoped>\n",
       "    .dataframe tbody tr th:only-of-type {\n",
       "        vertical-align: middle;\n",
       "    }\n",
       "\n",
       "    .dataframe tbody tr th {\n",
       "        vertical-align: top;\n",
       "    }\n",
       "\n",
       "    .dataframe thead th {\n",
       "        text-align: right;\n",
       "    }\n",
       "</style>\n",
       "<table border=\"1\" class=\"dataframe\">\n",
       "  <thead>\n",
       "    <tr style=\"text-align: right;\">\n",
       "      <th></th>\n",
       "      <th>rmse_lr</th>\n",
       "      <th>rmse_fk</th>\n",
       "      <th>m</th>\n",
       "      <th>Delta_m</th>\n",
       "      <th>r</th>\n",
       "      <th>D</th>\n",
       "      <th>L</th>\n",
       "      <th>kappa</th>\n",
       "      <th>varkappa</th>\n",
       "      <th>x0</th>\n",
       "      <th>neighbor</th>\n",
       "      <th>force_code</th>\n",
       "      <th>m_fk</th>\n",
       "      <th>m_lr</th>\n",
       "    </tr>\n",
       "  </thead>\n",
       "  <tbody>\n",
       "    <tr>\n",
       "      <th>37</th>\n",
       "      <td>35.143435</td>\n",
       "      <td>42.290526</td>\n",
       "      <td>1.590049</td>\n",
       "      <td>0.011045</td>\n",
       "      <td>0.1</td>\n",
       "      <td>2</td>\n",
       "      <td>10</td>\n",
       "      <td>1500</td>\n",
       "      <td>-20.0</td>\n",
       "      <td>5</td>\n",
       "      <td>1</td>\n",
       "      <td>1</td>\n",
       "      <td>0.354951</td>\n",
       "      <td>0.046049</td>\n",
       "    </tr>\n",
       "    <tr>\n",
       "      <th>111</th>\n",
       "      <td>35.203806</td>\n",
       "      <td>42.354415</td>\n",
       "      <td>1.595877</td>\n",
       "      <td>0.011045</td>\n",
       "      <td>0.1</td>\n",
       "      <td>20</td>\n",
       "      <td>10</td>\n",
       "      <td>1500</td>\n",
       "      <td>-20.0</td>\n",
       "      <td>5</td>\n",
       "      <td>1</td>\n",
       "      <td>1</td>\n",
       "      <td>0.349123</td>\n",
       "      <td>0.051877</td>\n",
       "    </tr>\n",
       "    <tr>\n",
       "      <th>3</th>\n",
       "      <td>20.549289</td>\n",
       "      <td>27.604795</td>\n",
       "      <td>1.876708</td>\n",
       "      <td>0.011045</td>\n",
       "      <td>0.1</td>\n",
       "      <td>2</td>\n",
       "      <td>10</td>\n",
       "      <td>500</td>\n",
       "      <td>-20.0</td>\n",
       "      <td>5</td>\n",
       "      <td>1</td>\n",
       "      <td>1</td>\n",
       "      <td>0.068292</td>\n",
       "      <td>0.332708</td>\n",
       "    </tr>\n",
       "    <tr>\n",
       "      <th>74</th>\n",
       "      <td>20.430583</td>\n",
       "      <td>27.487057</td>\n",
       "      <td>1.883089</td>\n",
       "      <td>0.011045</td>\n",
       "      <td>0.1</td>\n",
       "      <td>20</td>\n",
       "      <td>10</td>\n",
       "      <td>500</td>\n",
       "      <td>-20.0</td>\n",
       "      <td>5</td>\n",
       "      <td>1</td>\n",
       "      <td>1</td>\n",
       "      <td>0.061911</td>\n",
       "      <td>0.339089</td>\n",
       "    </tr>\n",
       "    <tr>\n",
       "      <th>77</th>\n",
       "      <td>5.983339</td>\n",
       "      <td>1.271839</td>\n",
       "      <td>1.984985</td>\n",
       "      <td>0.011045</td>\n",
       "      <td>0.1</td>\n",
       "      <td>20</td>\n",
       "      <td>10</td>\n",
       "      <td>500</td>\n",
       "      <td>-10.0</td>\n",
       "      <td>1</td>\n",
       "      <td>0</td>\n",
       "      <td>1</td>\n",
       "      <td>0.039985</td>\n",
       "      <td>0.440985</td>\n",
       "    </tr>\n",
       "  </tbody>\n",
       "</table>\n",
       "</div>"
      ],
      "text/plain": [
       "       rmse_lr    rmse_fk         m   Delta_m    r   D   L  kappa  varkappa  \\\n",
       "37   35.143435  42.290526  1.590049  0.011045  0.1   2  10   1500     -20.0   \n",
       "111  35.203806  42.354415  1.595877  0.011045  0.1  20  10   1500     -20.0   \n",
       "3    20.549289  27.604795  1.876708  0.011045  0.1   2  10    500     -20.0   \n",
       "74   20.430583  27.487057  1.883089  0.011045  0.1  20  10    500     -20.0   \n",
       "77    5.983339   1.271839  1.984985  0.011045  0.1  20  10    500     -10.0   \n",
       "\n",
       "     x0  neighbor  force_code      m_fk      m_lr  \n",
       "37    5         1           1  0.354951  0.046049  \n",
       "111   5         1           1  0.349123  0.051877  \n",
       "3     5         1           1  0.068292  0.332708  \n",
       "74    5         1           1  0.061911  0.339089  \n",
       "77    1         0           1  0.039985  0.440985  "
      ]
     },
     "execution_count": 265,
     "metadata": {},
     "output_type": "execute_result"
    }
   ],
   "source": [
    "#TODO: plot the best trial\n",
    "#and the top 5 matches for either model is... (FK)\n",
    "print(f\"The top 5 for the Luo-Rudy model:\")\n",
    "dh.sort_values(by='m_lr',inplace=True)\n",
    "dh.head(5)\n",
    "#DONE: plot the corresponding control trial.  overlay with ^that\n",
    "#DONE: plot the exponent versus q for the best trial and its control\n",
    "#DONE: indicate the exponent of the LR model"
   ]
  },
  {
   "cell_type": "code",
   "execution_count": 263,
   "metadata": {
    "ExecuteTime": {
     "end_time": "2021-06-03T00:37:24.715191Z",
     "start_time": "2021-06-03T00:37:24.689006Z"
    }
   },
   "outputs": [
    {
     "name": "stdout",
     "output_type": "stream",
     "text": [
      "The top 5 for the Fenton-Karma model:\n"
     ]
    },
    {
     "data": {
      "text/html": [
       "<div>\n",
       "<style scoped>\n",
       "    .dataframe tbody tr th:only-of-type {\n",
       "        vertical-align: middle;\n",
       "    }\n",
       "\n",
       "    .dataframe tbody tr th {\n",
       "        vertical-align: top;\n",
       "    }\n",
       "\n",
       "    .dataframe thead th {\n",
       "        text-align: right;\n",
       "    }\n",
       "</style>\n",
       "<table border=\"1\" class=\"dataframe\">\n",
       "  <thead>\n",
       "    <tr style=\"text-align: right;\">\n",
       "      <th></th>\n",
       "      <th>rmse_lr</th>\n",
       "      <th>rmse_fk</th>\n",
       "      <th>m</th>\n",
       "      <th>Delta_m</th>\n",
       "      <th>r</th>\n",
       "      <th>D</th>\n",
       "      <th>L</th>\n",
       "      <th>kappa</th>\n",
       "      <th>varkappa</th>\n",
       "      <th>x0</th>\n",
       "      <th>neighbor</th>\n",
       "      <th>force_code</th>\n",
       "      <th>m_fk</th>\n",
       "      <th>m_lr</th>\n",
       "    </tr>\n",
       "  </thead>\n",
       "  <tbody>\n",
       "    <tr>\n",
       "      <th>77</th>\n",
       "      <td>5.983339</td>\n",
       "      <td>1.271839</td>\n",
       "      <td>1.984985</td>\n",
       "      <td>0.011045</td>\n",
       "      <td>0.1</td>\n",
       "      <td>20</td>\n",
       "      <td>10</td>\n",
       "      <td>500</td>\n",
       "      <td>-10.0</td>\n",
       "      <td>1</td>\n",
       "      <td>0</td>\n",
       "      <td>1</td>\n",
       "      <td>0.039985</td>\n",
       "      <td>0.440985</td>\n",
       "    </tr>\n",
       "    <tr>\n",
       "      <th>40</th>\n",
       "      <td>2.470119</td>\n",
       "      <td>9.565495</td>\n",
       "      <td>1.987484</td>\n",
       "      <td>0.011045</td>\n",
       "      <td>0.1</td>\n",
       "      <td>2</td>\n",
       "      <td>10</td>\n",
       "      <td>1500</td>\n",
       "      <td>-10.0</td>\n",
       "      <td>1</td>\n",
       "      <td>0</td>\n",
       "      <td>1</td>\n",
       "      <td>0.042484</td>\n",
       "      <td>0.443484</td>\n",
       "    </tr>\n",
       "    <tr>\n",
       "      <th>6</th>\n",
       "      <td>5.987457</td>\n",
       "      <td>1.267852</td>\n",
       "      <td>1.988236</td>\n",
       "      <td>0.011045</td>\n",
       "      <td>0.1</td>\n",
       "      <td>2</td>\n",
       "      <td>10</td>\n",
       "      <td>500</td>\n",
       "      <td>-10.0</td>\n",
       "      <td>1</td>\n",
       "      <td>0</td>\n",
       "      <td>1</td>\n",
       "      <td>0.043236</td>\n",
       "      <td>0.444236</td>\n",
       "    </tr>\n",
       "    <tr>\n",
       "      <th>114</th>\n",
       "      <td>2.435987</td>\n",
       "      <td>9.535482</td>\n",
       "      <td>1.990218</td>\n",
       "      <td>0.011045</td>\n",
       "      <td>0.1</td>\n",
       "      <td>20</td>\n",
       "      <td>10</td>\n",
       "      <td>1500</td>\n",
       "      <td>-10.0</td>\n",
       "      <td>1</td>\n",
       "      <td>0</td>\n",
       "      <td>1</td>\n",
       "      <td>0.045218</td>\n",
       "      <td>0.446218</td>\n",
       "    </tr>\n",
       "    <tr>\n",
       "      <th>74</th>\n",
       "      <td>20.430583</td>\n",
       "      <td>27.487057</td>\n",
       "      <td>1.883089</td>\n",
       "      <td>0.011045</td>\n",
       "      <td>0.1</td>\n",
       "      <td>20</td>\n",
       "      <td>10</td>\n",
       "      <td>500</td>\n",
       "      <td>-20.0</td>\n",
       "      <td>5</td>\n",
       "      <td>1</td>\n",
       "      <td>1</td>\n",
       "      <td>0.061911</td>\n",
       "      <td>0.339089</td>\n",
       "    </tr>\n",
       "  </tbody>\n",
       "</table>\n",
       "</div>"
      ],
      "text/plain": [
       "       rmse_lr    rmse_fk         m   Delta_m    r   D   L  kappa  varkappa  \\\n",
       "77    5.983339   1.271839  1.984985  0.011045  0.1  20  10    500     -10.0   \n",
       "40    2.470119   9.565495  1.987484  0.011045  0.1   2  10   1500     -10.0   \n",
       "6     5.987457   1.267852  1.988236  0.011045  0.1   2  10    500     -10.0   \n",
       "114   2.435987   9.535482  1.990218  0.011045  0.1  20  10   1500     -10.0   \n",
       "74   20.430583  27.487057  1.883089  0.011045  0.1  20  10    500     -20.0   \n",
       "\n",
       "     x0  neighbor  force_code      m_fk      m_lr  \n",
       "77    1         0           1  0.039985  0.440985  \n",
       "40    1         0           1  0.042484  0.443484  \n",
       "6     1         0           1  0.043236  0.444236  \n",
       "114   1         0           1  0.045218  0.446218  \n",
       "74    5         1           1  0.061911  0.339089  "
      ]
     },
     "execution_count": 263,
     "metadata": {},
     "output_type": "execute_result"
    }
   ],
   "source": [
    "print(f\"The top 5 for the Fenton-Karma model:\")\n",
    "dh.sort_values(by='m_fk',inplace=True)\n",
    "dh.head(5)"
   ]
  },
  {
   "cell_type": "code",
   "execution_count": 288,
   "metadata": {
    "ExecuteTime": {
     "end_time": "2021-06-03T00:47:58.838816Z",
     "start_time": "2021-06-03T00:47:58.820345Z"
    }
   },
   "outputs": [],
   "source": [
    "arr=dh.head(5).values[:6,4:12]\n",
    "arr=np.array([\n",
    "    [1.0e-01, 2.0e+0, 1.0e+01, 1.5e+03, -5,5,0,1],\n",
    "#     [1.0e-01, 2.0e+0, 1.0e+01, 1.5e+03, -5,5,1,1],\n",
    "    [1.0e-01, 2.0e+0, 1.0e+01, 1.5e+03, 20,0,0,2],\n",
    "    [1.0e-01, 2.0e+0, 1.0e+01, 1.5e+03, 20,0,1,2],\n",
    "    [1.0e-01, 2.0e+0, 1.0e+01, 1.5e+03, 50,0,0,3],\n",
    "    [1.0e-01, 2.0e+0, 1.0e+01, 1.5e+03, 50,0,1,3],\n",
    "])\n",
    "for j in range(arr.shape[0]):\n",
    "    r, D, L, kappa, varkappa, x0, neighbor, force_code = arr[j]"
   ]
  },
  {
   "cell_type": "markdown",
   "metadata": {},
   "source": [
    "__Results__\n",
    "- the best trials for the LR model have long ranges\n",
    "- matching the seeds corrected the high density disagreement.\n",
    "\n",
    "__Questions__\n",
    "- did increasing niter fix the high density disagreement?"
   ]
  },
  {
   "cell_type": "code",
   "execution_count": 289,
   "metadata": {
    "ExecuteTime": {
     "end_time": "2021-06-03T00:47:59.454781Z",
     "start_time": "2021-06-03T00:47:59.429717Z"
    }
   },
   "outputs": [
    {
     "data": {
      "text/plain": [
       "(1.0, 3.0)"
      ]
     },
     "execution_count": 289,
     "metadata": {},
     "output_type": "execute_result"
    }
   ],
   "source": [
    "neighbor,force_code"
   ]
  },
  {
   "cell_type": "code",
   "execution_count": 290,
   "metadata": {
    "ExecuteTime": {
     "end_time": "2021-06-03T00:48:05.821839Z",
     "start_time": "2021-06-03T00:47:59.891687Z"
    }
   },
   "outputs": [
    {
     "name": "stdout",
     "output_type": "stream",
     "text": [
      "0.1 2.0 10.0 1500.0 -5.0 5.0 0.0 1.0\n",
      "saved figure in run_12_effect_of_attraction_r_0.1_D_2.00_L_10_kappa_1500_varkappa_-5.00_x0_5.00_neighbor_0_force_code_1.png\n",
      "0.1 2.0 10.0 1500.0 20.0 0.0 0.0 2.0\n",
      "saved figure in run_12_effect_of_attraction_r_0.1_D_2.00_L_10_kappa_1500_varkappa_20.00_x0_0.00_neighbor_0_force_code_2.png\n",
      "0.1 2.0 10.0 1500.0 20.0 0.0 1.0 2.0\n",
      "saved figure in run_12_effect_of_attraction_r_0.1_D_2.00_L_10_kappa_1500_varkappa_20.00_x0_0.00_neighbor_1_force_code_2.png\n",
      "0.1 2.0 10.0 1500.0 50.0 0.0 0.0 3.0\n",
      "saved figure in run_12_effect_of_attraction_r_0.1_D_2.00_L_10_kappa_1500_varkappa_50.00_x0_0.00_neighbor_0_force_code_3.png\n",
      "0.1 2.0 10.0 1500.0 50.0 0.0 1.0 3.0\n",
      "saved figure in run_12_effect_of_attraction_r_0.1_D_2.00_L_10_kappa_1500_varkappa_50.00_x0_0.00_neighbor_1_force_code_3.png\n"
     ]
    },
    {
     "data": {
      "text/plain": [
       "0"
      ]
     },
     "execution_count": 290,
     "metadata": {},
     "output_type": "execute_result"
    }
   ],
   "source": [
    "savefig_folder=f'{nb_dir}/../fig'\n",
    "saving=True\n",
    "for j in range(arr.shape[0]):\n",
    "    reflect=0\n",
    "    set_second=0\n",
    "    no_repulsion=1\n",
    "    L=10\n",
    "    r, D, L, kappa, varkappa, x0,neighbor,force_code = arr[j] # #dh.head(5).values[j,4:12]\n",
    "    savefig_fn=f'run_12_effect_of_attraction_r_{r:.1f}_D_{D:.2f}_L_{L:.0f}_kappa_{kappa:.0f}_varkappa_{varkappa:.2f}_x0_{x0:.2f}_neighbor_{int(neighbor):0d}_force_code_{int(force_code):0d}.png'\n",
    "    print (*(r, D, L, kappa, varkappa, x0, neighbor, force_code))\n",
    "    # r=0.1;D=20;L=10;kappa=1500;varkappa=-5;x0=5.\n",
    "\n",
    "    #with forces\n",
    "    #slice the df\n",
    "    query =df.no_attraction==0\n",
    "    query&=df.no_repulsion==no_repulsion\n",
    "    query&=df.reflect==reflect\n",
    "    query&=df.set_second==set_second\n",
    "    query&=df.r==r\n",
    "    query&=df.L==L\n",
    "    query&=df.kappa==kappa\n",
    "    dff=df[query]#.copy()\n",
    "    #query the dataframe with the bred parameters\n",
    "    query =dff.D==D\n",
    "    query&=dff.varkappa==varkappa\n",
    "    query&=dff.x0==x0\n",
    "    query&=(dff.neighbor==int(neighbor))&(dff.force_code==int(force_code))\n",
    "    dg=dff[query]#.copy() \n",
    "    #extract the data\n",
    "    x_values_force=dg.q.values\n",
    "    y_values_force=dg.w.values\n",
    "    assert (y_values_force.shape[0]>0)###################\n",
    "    \n",
    "    #query the control\n",
    "    #query the DataFrame\n",
    "    query =(df.set_second==set_second)&(df.reflect==reflect)\n",
    "    query&=df.r==r\n",
    "    query&=df.D==D\n",
    "    query&=df.L==L\n",
    "    query&=df.kappa==kappa\n",
    "    query&=df.varkappa==0\n",
    "    query&=df.x0==0\n",
    "    query&=(df.no_repulsion==no_repulsion)&(df.no_attraction==1)\n",
    "    query&=(df.neighbor==0)&(df.force_code==0)\n",
    "    dg=df[query]\n",
    "    x_values=dg.q.values\n",
    "    y_values=dg.w.values\n",
    "\n",
    "    #slice relevant particle density to the particle densities observed from the full model\n",
    "    qmin=0.1;qmax=1\n",
    "    window_width=0.3\n",
    "    stepsize=0.1\n",
    "    try:\n",
    "        boo=(x_values>qmin)&(x_values<qmax)\n",
    "        dict_ci=compute_95CI_ols(np.log(x_values[boo]),np.log(y_values[boo]))\n",
    "#         print(*zip(dict_ci,dict_ci.values()))\n",
    "        #compute sliding m\n",
    "        xavg_values,slope_values,Rsquared_values = compute_sliding_slope_loglog(x_values,y_values,    \n",
    "            x_min=qmin,\n",
    "            window_width=window_width,\n",
    "            stepsize=stepsize,\n",
    "        )\n",
    "    except AssertionError as e:\n",
    "        xavg_values,slope_values=np.array([]),np.array([])\n",
    "        print ('uh-oh')\n",
    "\n",
    "    #with forces\n",
    "    boo=(x_values_force>qmin)&(x_values_force<qmax)\n",
    "    dict_ci=compute_95CI_ols(np.log(x_values_force[boo]),np.log(y_values_force[boo]))\n",
    "#     print(*zip(dict_ci,dict_ci.values()))\n",
    "    #compute sliding m\n",
    "    xavg_values_force,slope_values_force,Rsquared_values_force = compute_sliding_slope_loglog(x_values_force,y_values_force,    \n",
    "        x_min=qmin,\n",
    "        window_width=window_width,\n",
    "        stepsize=stepsize,\n",
    "    )\n",
    "#     print((xavg_values.shape,xavg_values_force.shape))\n",
    "    assert (xavg_values_force.shape[0]>0)\n",
    "\n",
    "    #plot ^this trial against its control\n",
    "\n",
    "    #plot fits for full model\n",
    "    m_fk=1.945;#+-0.030; B_fk=2.441+-0.051\n",
    "    m_lr=1.544;#+-0.034; B_lr=5.870+-0.137\n",
    "    M_fk=5.67;#+-0.39 Hz*cm^{2(m-1)}\n",
    "    M_lr=15.37;#+-1.57 Hz*cm^{2(m-1)}\n",
    "    # RMSE_fk=0.1252 Hz/cm^2\n",
    "    # RMSE_lr=0.0974 Hz/cm^2\n",
    "    # R^2=0.997 (FK)\n",
    "    # R^2=0.994 (LR)\n",
    "    # yscale=10**3\n",
    "    xv=np.arange(0.1,1.,.05)\n",
    "    yv_fk=M_fk*(xv)**m_fk\n",
    "    yv_lr=M_lr*(xv)**m_lr\n",
    "\n",
    "    #plot the values\n",
    "    figsize=(12,5)\n",
    "    fontsize=16\n",
    "    fig, axs = plt.subplots(ncols=2,figsize=figsize, constrained_layout=True)\n",
    "    lw=3\n",
    "\n",
    "    ax=axs[0]\n",
    "    ax.plot(xv,yv_fk,label='Fenton-Karma',zorder=1,lw=lw,c='C0',alpha=.7)\n",
    "    ax.plot(xv,yv_lr,label='Luo-Rudy',zorder=1,lw=lw,c='C1',alpha=.7)\n",
    "    ax.plot(x_values,y_values,c='k',alpha=.7,label='without forces',lw=lw)\n",
    "    ax.plot(x_values_force,y_values_force,c='C2',alpha=0.7,label='with forces',lw=lw)\n",
    "    # plt.plot(x_values,y_values,c=c_values,alpha=0.4,cmap='bwr')\n",
    "    # plt.title(u'comparison to simulation\\nwith two hybrid modes',fontsize=fontsize)\n",
    "    ax.set_xlabel(r'q (cm$^{-2}$)',fontsize=fontsize)\n",
    "    ax.set_ylabel(r'w (Hz cm$^{-2}$)', fontsize=fontsize)\n",
    "    ax.tick_params(axis='both', which='major', labelsize=fontsize)\n",
    "    ax.tick_params(axis='both', which='minor', labelsize=0)\n",
    "    ax.legend(fontsize=fontsize-2)\n",
    "    # title=r'$D=$'+f'{D} cm'+r'$^2$/s, '+r'$\\varkappa=$'+f'{varkappa}  Hz, '+r'$x_0=$'+f'{x0} cm\\n'\n",
    "    # ax.set_title(title,fontsize=fontsize)\n",
    "    # plt.xlim([0.1,1])\n",
    "    ax.set_ylim([2e-3,50])\n",
    "    ax.set_yscale('log')\n",
    "    ax.set_xscale('log')\n",
    "\n",
    "    ax=axs[1]\n",
    "    ax.plot(xavg_values,slope_values,lw=lw,c='k', label='without forces',alpha=.7)\n",
    "    ax.plot(xavg_values_force,slope_values_force,lw=lw,c='C2', label='with forces',alpha=.7)\n",
    "    ax.plot(xavg_values_force, m_fk+0.*xavg_values_force, '-',lw=lw,c='C0',label='Fenton-Karma',alpha=.7)\n",
    "    ax.plot(xavg_values_force, m_lr+0.*xavg_values_force, '-',lw=lw,c='C1',label='Luo-Rudy',alpha=.7)\n",
    "    # ax.set_xscale('log')\n",
    "    ax.set_ylim([1.4,3])\n",
    "    ax.set_xlabel(r'q (cm$^{-2}$)',fontsize=fontsize)\n",
    "    ax.set_ylabel(r'exponent', fontsize=fontsize)\n",
    "    ax.tick_params(axis='both', which='major', labelsize=fontsize)\n",
    "    ax.tick_params(axis='both', which='minor', labelsize=0)\n",
    "    # title=r'$D=$'+f'{D} cm'+r'$^2$/s, '+r'$\\varkappa=$'+f'{varkappa}  Hz, '+r'$x_0=$'+f'{x0} cm\\n'\n",
    "    # title+=f\"r={r:.1f} cm, \"+r\"$\\kappa$=\"+f\"{kappa:.0f} Hz, A={L**2:.0f} cm\"+r\"$^2$\"+'\\n'\n",
    "    # ax.set_title(title,fontsize=fontsize)\n",
    "    # ax.legend(loc='best',fontsize=fontsize-4,ncol=2)\n",
    "    #format title\n",
    "    title=r'$D=$'+f'{D:.0f} cm'+r'$^2$/s, '+r'$\\varkappa=$'+f'{varkappa:.0f} Hz, '+r'$x_0=$'+f'{x0:.0f} cm\\nforce_code={int(force_code)}, neighbors={int(neighbor)}\\n'\n",
    "    title+=f\"r={r:.1f} cm, \"+r\"$\\kappa$=\"+f\"{kappa:.0f} Hz, A={L**2:.0f} cm\"+r\"$^2$\"+f'\\n'#Rank = #{j+1}'\n",
    "    fig.suptitle(title, fontsize=fontsize+2)\n",
    "    # fig.tight_layout()\n",
    "    if not saving:\n",
    "        plt.show()\n",
    "    else:\n",
    "        os.chdir(savefig_folder)\n",
    "        plt.savefig(savefig_fn, dpi=300)\n",
    "        print(f\"saved figure in {savefig_fn}\")\n",
    "    plt.close()\n",
    "beep(7)"
   ]
  },
  {
   "cell_type": "code",
   "execution_count": 194,
   "metadata": {
    "ExecuteTime": {
     "end_time": "2021-06-02T23:58:22.436890Z",
     "start_time": "2021-06-02T23:58:22.422321Z"
    }
   },
   "outputs": [],
   "source": [
    "# # plot one of ^these trials against its control\n",
    "# saving=False\n",
    "\n",
    "# #plot fits for full model\n",
    "# m_fk=1.945;#+-0.030; B_fk=2.441+-0.051\n",
    "# m_lr=1.544;#+-0.034; B_lr=5.870+-0.137\n",
    "# M_fk=5.67;#+-0.39 Hz*cm^{2(m-1)}\n",
    "# M_lr=15.37;#+-1.57 Hz*cm^{2(m-1)}\n",
    "# # RMSE_fk=0.1252 Hz/cm^2\n",
    "# # RMSE_lr=0.0974 Hz/cm^2\n",
    "# # R^2=0.997 (FK)\n",
    "# # R^2=0.994 (LR)\n",
    "# # yscale=10**3\n",
    "# xv=np.arange(0.1,1.,.05)\n",
    "# yv_fk=M_fk*(xv)**m_fk\n",
    "# yv_lr=M_lr*(xv)**m_lr\n",
    "\n",
    "# #plot the values\n",
    "# figsize=(6,5)\n",
    "# fontsize=16\n",
    "# savefig_folder=f'{nb_dir}/../fig'\n",
    "# savefig_fn=f'effect_of_attraction_D_{D:.0f}_varkappa_{varkappa:.0f}_x0_{x0:.0f}.png'\n",
    "# fig, ax = plt.subplots(ncols=1,figsize=figsize)# ax=axs[1]\n",
    "# lw=3\n",
    "\n",
    "\n",
    "# ax.plot(xv,yv_fk,label='FK power law fit',zorder=1,lw=lw,c='C0',alpha=.7)\n",
    "# ax.plot(xv,yv_lr,label='LR power law fit',zorder=1,lw=lw,c='C1',alpha=.7)\n",
    "# ax.plot(x_values,y_values,c='k',alpha=.7,label='without forces',lw=lw)\n",
    "# ax.plot(x_values_force,y_values_force,c='C2',alpha=0.7,label='with forces',lw=lw)\n",
    "# # plt.plot(x_values,y_values,c=c_values,alpha=0.4,cmap='bwr')\n",
    "# # plt.title(u'comparison to simulation\\nwith two hybrid modes',fontsize=fontsize)\n",
    "# ax.set_xlabel(r'q (cm$^{-2}$)',fontsize=fontsize)\n",
    "# ax.set_ylabel(r'w (Hz cm$^{-2}$)', fontsize=fontsize)\n",
    "# ax.tick_params(axis='both', which='major', labelsize=fontsize)\n",
    "# ax.tick_params(axis='both', which='minor', labelsize=0)\n",
    "# ax.legend(fontsize=fontsize-5)\n",
    "# title=r'$D=$'+f'{D} cm'+r'$^2$/s, '+r'$\\varkappa=$'+f'{varkappa}  Hz, '+r'$x_0=$'+f'{x0} cm\\n'\n",
    "# ax.set_title(title,fontsize=fontsize)\n",
    "# # plt.xlim([0.1,1])\n",
    "# # plt.ylim([1e-1,15])\n",
    "# ax.set_yscale('log')\n",
    "# ax.set_xscale('log')\n",
    "# fig.tight_layout()\n",
    "# if not saving:\n",
    "#     plt.show()\n",
    "# else:\n",
    "#     plt.tight_layout()\n",
    "#     os.chdir(savefig_folder)\n",
    "#     plt.savefig(savefig_fn, dpi=300)\n",
    "# #         print(f\"saved figure in \\n\\t{savefig_fn}\")\n",
    "# #         plt.close()"
   ]
  },
  {
   "cell_type": "code",
   "execution_count": null,
   "metadata": {
    "ExecuteTime": {
     "end_time": "2021-05-28T22:05:35.766113Z",
     "start_time": "2021-05-28T22:03:39.271Z"
    }
   },
   "outputs": [],
   "source": [
    "#DONT: abstract both plotting methods as functions\n",
    "#DONE: merge ^these to plots quickly into one"
   ]
  },
  {
   "cell_type": "code",
   "execution_count": null,
   "metadata": {
    "ExecuteTime": {
     "end_time": "2021-05-28T22:05:35.771767Z",
     "start_time": "2021-05-28T22:03:39.723Z"
    }
   },
   "outputs": [],
   "source": [
    "# m_fk=1.945#1.858;#+-0.027; B_fk=2.464+-0.030<br>\n",
    "# m_lr=1.544#1.638;#+-0.017; B_fk=5.588+-0.067\n",
    "# fontsize=16\n",
    "# lw=3\n",
    "# x=xavg_values[:-1]\n",
    "# # y=Rsquared_values[:-1]\n",
    "# y=slope_values[:-1]\n",
    "# plt.plot(xavg_values,slope_values,lw=lw,c='k', label='without forces')\n",
    "# plt.plot(xavg_values_force,slope_values_force,lw=lw,c='C2', label='with forces')\n",
    "# plt.plot(xavg_values_force, m_fk+0.*xavg_values_force, '--',lw=lw,c='gray',label='Fenton-Karma')\n",
    "# plt.plot(xavg_values_force, m_lr+0.*xavg_values_force, '-',lw=lw,c='gray',label='Luo-Rudy')\n",
    "# # plt.scatter(x,y,s=10)\n",
    "# # plt.xlabel('N',fontsize=fontsize)\n",
    "# # plt.ylabel('Collision Rate',fontsize=fontsize)\n",
    "# # plt.xscale('log')\n",
    "# # plt.title(u'comparison to simulation\\nwith two hybrid modes',fontsize=fontsize)\n",
    "# plt.xlabel(r'q (cm$^{-2}$)',fontsize=fontsize)\n",
    "# plt.ylabel(r'exponent', fontsize=fontsize)\n",
    "# plt.tick_params(axis='both', which='major', labelsize=fontsize)\n",
    "# plt.tick_params(axis='both', which='minor', labelsize=0)\n",
    "# # print(f'varkappa={varkappa}  Hz');print(f'      x0={x0} cm')\n",
    "# title=r'$D=$'+f'{D} cm'+r'$^2$/s, '+r'$\\varkappa=$'+f'{varkappa}  Hz, '+r'$x_0=$'+f'{x0} cm\\n'\n",
    "# title+=f\"r={r:.1f} cm, \"+r\"$\\kappa$=\"+f\"{kappa:.0f} Hz, A={L**2:.0f} cm\"+r\"$^2$\"+'\\n'\n",
    "# plt.title(title,fontsize=fontsize)\n",
    "# plt.legend(loc='best',fontsize=fontsize-4,ncol=2)\n",
    "# plt.show()"
   ]
  },
  {
   "cell_type": "code",
   "execution_count": 37,
   "metadata": {
    "ExecuteTime": {
     "end_time": "2021-05-28T21:54:18.266083Z",
     "start_time": "2021-05-28T21:54:18.254303Z"
    }
   },
   "outputs": [],
   "source": [
    "#DONE: fix the y axes\n",
    "#DONE(now): make ^those for 3 or so more trial settings\n",
    "#TODO: assemble ^those in .odg on left side of one page\n",
    "#TODO: on right side, take some Cornell notes.\n",
    "#TODO(later): put all ^this into a function an automate the plotting of a given input csv that has only one trial in it.\n"
   ]
  },
  {
   "cell_type": "code",
   "execution_count": 245,
   "metadata": {
    "ExecuteTime": {
     "end_time": "2021-06-03T00:31:14.021527Z",
     "start_time": "2021-06-03T00:31:14.003451Z"
    }
   },
   "outputs": [
    {
     "data": {
      "text/plain": [
       "{0.1, 1.0, 5.0, 10.0, 20.0, 50.0}"
      ]
     },
     "execution_count": 245,
     "metadata": {},
     "output_type": "execute_result"
    }
   ],
   "source": [
    "#what are the varkappa values when force_code=2,3\n",
    "set(df[df.force_code==3].varkappa.values)"
   ]
  },
  {
   "cell_type": "code",
   "execution_count": null,
   "metadata": {},
   "outputs": [],
   "source": []
  },
  {
   "cell_type": "code",
   "execution_count": null,
   "metadata": {},
   "outputs": [],
   "source": []
  }
 ],
 "metadata": {
  "kernelspec": {
   "display_name": "Python 3",
   "language": "python",
   "name": "python3"
  },
  "language_info": {
   "codemirror_mode": {
    "name": "ipython",
    "version": 3
   },
   "file_extension": ".py",
   "mimetype": "text/x-python",
   "name": "python",
   "nbconvert_exporter": "python",
   "pygments_lexer": "ipython3",
   "version": "3.7.6"
  },
  "toc": {
   "base_numbering": 1,
   "nav_menu": {},
   "number_sections": true,
   "sideBar": true,
   "skip_h1_title": false,
   "title_cell": "Table of Contents",
   "title_sidebar": "Contents",
   "toc_cell": false,
   "toc_position": {},
   "toc_section_display": true,
   "toc_window_display": false
  },
  "varInspector": {
   "cols": {
    "lenName": 16,
    "lenType": 16,
    "lenVar": 40
   },
   "kernels_config": {
    "python": {
     "delete_cmd_postfix": "",
     "delete_cmd_prefix": "del ",
     "library": "var_list.py",
     "varRefreshCmd": "print(var_dic_list())"
    },
    "r": {
     "delete_cmd_postfix": ") ",
     "delete_cmd_prefix": "rm(",
     "library": "var_list.r",
     "varRefreshCmd": "cat(var_dic_list()) "
    }
   },
   "types_to_exclude": [
    "module",
    "function",
    "builtin_function_or_method",
    "instance",
    "_Feature"
   ],
   "window_display": false
  }
 },
 "nbformat": 4,
 "nbformat_minor": 4
}
