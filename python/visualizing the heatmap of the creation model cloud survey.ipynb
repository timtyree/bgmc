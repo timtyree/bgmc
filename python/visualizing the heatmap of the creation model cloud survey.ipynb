{
 "cells": [
  {
   "cell_type": "markdown",
   "id": "13ad4e66",
   "metadata": {
    "ExecuteTime": {
     "end_time": "2024-11-16T22:26:12.999494Z",
     "start_time": "2024-11-16T22:26:12.987618Z"
    }
   },
   "source": [
    "# visualizing the heatmap of the creation model cloud survey\n",
    "Tim Tyree<br>\n",
    "11.16.2024"
   ]
  },
  {
   "cell_type": "code",
   "execution_count": 1,
   "id": "12f87f71",
   "metadata": {
    "ExecuteTime": {
     "end_time": "2024-11-16T23:54:18.671356Z",
     "start_time": "2024-11-16T23:54:15.181626Z"
    }
   },
   "outputs": [],
   "source": [
    "import sys\n",
    "import pathlib\n",
    "import os\n",
    "\n",
    "from lib.my_initialization import *\n",
    "plt.plot([1]*4)\n",
    "plt.close()\n",
    "#reset matplotlib\n",
    "import matplotlib\n",
    "matplotlib.rcParams.update(matplotlib.rcParamsDefault)\n",
    "mpl.rcParams.update(matplotlib.rcParamsDefault) #reset matplotlib"
   ]
  },
  {
   "cell_type": "markdown",
   "id": "d4c0dc6d",
   "metadata": {},
   "source": [
    "# define module"
   ]
  },
  {
   "cell_type": "code",
   "execution_count": 2,
   "id": "a2a01dbb",
   "metadata": {
    "ExecuteTime": {
     "end_time": "2024-11-16T23:54:18.674890Z",
     "start_time": "2024-11-16T23:54:18.672180Z"
    }
   },
   "outputs": [
    {
     "data": {
      "text/plain": [
       "11"
      ]
     },
     "execution_count": 2,
     "metadata": {},
     "output_type": "execute_result"
    }
   ],
   "source": [
    "1_1"
   ]
  },
  {
   "cell_type": "markdown",
   "id": "4d056ef1",
   "metadata": {},
   "source": [
    "# dev"
   ]
  },
  {
   "cell_type": "code",
   "execution_count": 3,
   "id": "ab4e4800",
   "metadata": {
    "ExecuteTime": {
     "end_time": "2024-11-16T23:54:18.677520Z",
     "start_time": "2024-11-16T23:54:18.676268Z"
    }
   },
   "outputs": [],
   "source": [
    "#TODO: figure out reading of one result (please let it be valid!)\n",
    "#TODO: print it and extract relevant information\n",
    "#TODO: scale it up and create a single data frame with all the results\n",
    "#TODO: OR average each pixel before/after doing ^that\n",
    "#TODO: plot each pixelc"
   ]
  },
  {
   "cell_type": "code",
   "execution_count": 4,
   "id": "e932efb9",
   "metadata": {
    "ExecuteTime": {
     "end_time": "2024-11-16T23:54:18.680877Z",
     "start_time": "2024-11-16T23:54:18.678878Z"
    }
   },
   "outputs": [
    {
     "data": {
      "text/plain": [
       "True"
      ]
     },
     "execution_count": 4,
     "metadata": {},
     "output_type": "execute_result"
    }
   ],
   "source": [
    "input_folder = f\"{nb_dir}/data/osg_output/run_42\"\n",
    "os.path.exists(input_folder)"
   ]
  },
  {
   "cell_type": "code",
   "execution_count": 11,
   "id": "5725da05",
   "metadata": {
    "ExecuteTime": {
     "end_time": "2024-11-17T19:20:56.511224Z",
     "start_time": "2024-11-17T19:20:56.506218Z"
    }
   },
   "outputs": [],
   "source": [
    "fn = f\"job.log.15552477.1001197\""
   ]
  },
  {
   "cell_type": "code",
   "execution_count": 12,
   "id": "e58272ca",
   "metadata": {
    "ExecuteTime": {
     "end_time": "2024-11-17T19:22:25.473956Z",
     "start_time": "2024-11-17T19:22:25.467474Z"
    }
   },
   "outputs": [
    {
     "data": {
      "text/plain": [
       "<_io.TextIOWrapper name='/Users/timothytyree/Documents/GitHub/bgmc/python/data/osg_output/run_42/job.log.15552477.1001197' mode='r' encoding='UTF-8'>"
      ]
     },
     "execution_count": 12,
     "metadata": {},
     "output_type": "execute_result"
    }
   ],
   "source": [
    "directory = os.path.join(input_folder,fn)\n",
    "# with open(directory) as f:\n",
    "#     line = \n",
    "f = open (directory)\n",
    "f"
   ]
  },
  {
   "cell_type": "code",
   "execution_count": 14,
   "id": "4f5ec56b",
   "metadata": {
    "ExecuteTime": {
     "end_time": "2024-11-17T19:23:17.304442Z",
     "start_time": "2024-11-17T19:23:17.298374Z"
    }
   },
   "outputs": [
    {
     "name": "stdout",
     "output_type": "stream",
     "text": [
      "['000 (15552477.1001197.000) 2024-08-29 13:36:39 Job submitted from host: <192.170.231.142:9618?addrs=192.170.231.142-9618+[2605-9a00-10-200b-192-170-231-142]-9618&alias=ap21.uc.osg-htc.org&noUDP&sock=schedd_1701494_f032>\\n', '    WARNING: Committed job submission into the queue with the following warning(s): QMGMT:0:When using containers, please do not limit your jobs to specific operating systems in the job requirements. Removing the OSGVO_OS_STRING part will allow your jobs to run on more resources.|QMGMT:0:Job requirements contains RHEL 7, which is past its end of life and will limit the number of jobs you can have running. Consider removing this requirement and replace it with a container. See https://portal.osg-htc.org/documentation/htc_workloads/specific_resource/el9-transition/#options-for-transitioning-your-jobs|QMGMT:0:Modules/HAS_MODULES are deprecated, and will be disabled 1/31/2023. For alternatives, please see https://portal.osg-htc.org/documentation/htc_workloads/using_software/software-overview/\\n', '...\\n', '040 (15552477.1001197.000) 2024-08-29 13:53:55 Started transferring input files\\n', '\\tTransferring to host: <10.5.209.178:42184?CCBID=128.105.82.148:9618%3faddrs%3d128.105.82.148-9618+[2607-f388-2200-9d-59ea-66d1-ffa8-d232]-9618%26alias%3dospool-ccb.osg.chtc.io%26noUDP%26sock%3dcollector5#48814372%20192.170.231.11:9618%3faddrs%3d192.170.231.11-9618+[fd85-ee78-d8a6-8607--1-88e]-9618%26alias%3dospool-ccb.osgprod.tempest.chtc.io%26noUDP%26sock%3dcollector7#7125590&PrivNet=CRUSH-OSG-C7-10-5-209-178&addrs=10.5.209.178-42184&alias=CRUSH-OSG-C7-10-5-209-178&noUDP>\\n', '...\\n', '040 (15552477.1001197.000) 2024-08-29 13:54:14 Finished transferring input files\\n', '...\\n', '021 (15552477.1001197.000) 2024-08-29 13:54:17 Message from starter on slot1_59@glidein_39972_59711360@CRUSH-OSG-C7-10-5-209-178:\\n', '\\tPREPARE_JOB (prepare-hook) succeeded (reported status 000): Using Singularity image /cvmfs/singularity.opensciencegrid.org/opensciencegrid/osgvo-ubuntu-20.04:latest\\n', '...\\n', '001 (15552477.1001197.000) 2024-08-29 13:54:19 Job executing on host: <10.5.209.178:35437?CCBID=128.105.82.148:9618%3faddrs%3d128.105.82.148-9618+[2607-f388-2200-9d-59ea-66d1-ffa8-d232]-9618%26alias%3dospool-ccb.osg.chtc.io%26noUDP%26sock%3dcollector3#47968425%20192.170.231.11:9618%3faddrs%3d192.170.231.11-9618+[fd85-ee78-d8a6-8607--1-88e]-9618%26alias%3dospool-ccb.osgprod.tempest.chtc.io%26noUDP%26sock%3dcollector7#7008542&PrivNet=CRUSH-OSG-C7-10-5-209-178&addrs=10.5.209.178-35437&alias=CRUSH-OSG-C7-10-5-209-178&noUDP>\\n', '\\tSlotName: slot1_59@CRUSH-OSG-C7-10-5-209-178\\n', '\\tCondorScratchDir = \"/var/lib/condor/execute/dir_39970/glide_gdG4Kf/execute/dir_79315\"\\n', '\\tCpus = 1\\n', '\\tDisk = 154624\\n', '\\tGLIDEIN_ResourceName = \"SU-ITS-CE3\"\\n', '\\tGPUs = 0\\n', '\\tMemory = 256\\n', '...\\n', '006 (15552477.1001197.000) 2024-08-29 13:54:29 Image size of job updated: 669516\\n', '\\t69  -  MemoryUsage of job (MB)\\n', '\\t69828  -  ResidentSetSize of job (KB)\\n', '...\\n', '040 (15552477.1001197.000) 2024-08-29 13:55:02 Started transferring output files\\n', '...\\n', '040 (15552477.1001197.000) 2024-08-29 13:55:06 Finished transferring output files\\n', '...\\n', '005 (15552477.1001197.000) 2024-08-29 13:55:19 Job terminated.\\n', '\\t(1) Normal termination (return value 0)\\n', '\\t\\tUsr 0 00:00:36, Sys 0 00:00:00  -  Run Remote Usage\\n', '\\t\\tUsr 0 00:00:00, Sys 0 00:00:00  -  Run Local Usage\\n', '\\t\\tUsr 0 00:00:36, Sys 0 00:00:00  -  Total Remote Usage\\n', '\\t\\tUsr 0 00:00:00, Sys 0 00:00:00  -  Total Local Usage\\n', '\\t844  -  Run Bytes Sent By Job\\n', '\\t88425856  -  Run Bytes Received By Job\\n', '\\t844  -  Total Bytes Sent By Job\\n', '\\t88425856  -  Total Bytes Received By Job\\n', '\\tPartitionable Resources :     Usage  Request Allocated \\n', '\\t   Cpus                 :      0.02        1         1 \\n', '\\t   Disk (KB)            : 366117      153600    154624 \\n', '\\t   GPUs                 :                            0 \\n', '\\t   Memory (MB)          :     69         150       256 \\n', '\\t   TimeExecute (s)      :     41                       \\n', '\\t   TimeSlotBusy (s)     :    141                       \\n', '\\n', '\\tJob terminated of its own accord at 2024-08-29T18:54:58Z with exit-code 0.\\n', '...\\n']\n"
     ]
    }
   ],
   "source": [
    "lines = f.readlines()\n",
    "print(lines)"
   ]
  },
  {
   "cell_type": "code",
   "execution_count": 6,
   "id": "77c50f9e",
   "metadata": {
    "ExecuteTime": {
     "end_time": "2024-11-16T23:54:18.685159Z",
     "start_time": "2024-11-16T23:54:18.683952Z"
    }
   },
   "outputs": [],
   "source": [
    "# path = input_folder\n",
    "# pl = pathlib.Path(path).iterdir()\n",
    "# # oslb = os.listdir(path)\n",
    "# print(type(pl))\n",
    "# # print (type(oslb))\n",
    "\n",
    "# print ('pathlib.iter: %s' % sys.getsizeof(pl))\n",
    "# # print ('os.listdir: %s' % sys.getsizeof(oslb))"
   ]
  },
  {
   "cell_type": "code",
   "execution_count": 7,
   "id": "d635a5df",
   "metadata": {
    "ExecuteTime": {
     "end_time": "2024-11-16T23:54:19.386184Z",
     "start_time": "2024-11-16T23:54:18.685858Z"
    }
   },
   "outputs": [
    {
     "name": "stdout",
     "output_type": "stream",
     "text": [
      "-n \u0007\n",
      "-n \u0007\n",
      "-n \u0007\n"
     ]
    },
    {
     "data": {
      "text/plain": [
       "0"
      ]
     },
     "execution_count": 7,
     "metadata": {},
     "output_type": "execute_result"
    }
   ],
   "source": [
    "beep(3)"
   ]
  },
  {
   "cell_type": "code",
   "execution_count": null,
   "id": "d657584d",
   "metadata": {},
   "outputs": [],
   "source": []
  },
  {
   "cell_type": "code",
   "execution_count": null,
   "id": "56b97c5a",
   "metadata": {},
   "outputs": [],
   "source": []
  },
  {
   "cell_type": "code",
   "execution_count": 8,
   "id": "87e93f1f",
   "metadata": {
    "ExecuteTime": {
     "end_time": "2024-11-16T23:54:19.393157Z",
     "start_time": "2024-11-16T23:54:19.390102Z"
    }
   },
   "outputs": [],
   "source": [
    "# fn_lst = os.listdir(input_folder)\n",
    "# len(fn_lst)"
   ]
  },
  {
   "cell_type": "code",
   "execution_count": 9,
   "id": "c20ec38b",
   "metadata": {
    "ExecuteTime": {
     "end_time": "2024-11-16T23:54:19.405255Z",
     "start_time": "2024-11-16T23:54:19.402613Z"
    }
   },
   "outputs": [],
   "source": [
    "# for fn in os.listdir(input_folder):\n",
    "#     pass"
   ]
  },
  {
   "cell_type": "code",
   "execution_count": 10,
   "id": "12fdca27",
   "metadata": {
    "ExecuteTime": {
     "end_time": "2024-11-16T23:54:19.410063Z",
     "start_time": "2024-11-16T23:54:19.406985Z"
    }
   },
   "outputs": [],
   "source": [
    "# fn"
   ]
  },
  {
   "cell_type": "code",
   "execution_count": null,
   "id": "fca6544e",
   "metadata": {},
   "outputs": [],
   "source": []
  },
  {
   "cell_type": "code",
   "execution_count": null,
   "id": "5510d173",
   "metadata": {},
   "outputs": [],
   "source": []
  }
 ],
 "metadata": {
  "hide_input": false,
  "kernelspec": {
   "display_name": "Python 3 (ipykernel)",
   "language": "python",
   "name": "python3"
  },
  "language_info": {
   "codemirror_mode": {
    "name": "ipython",
    "version": 3
   },
   "file_extension": ".py",
   "mimetype": "text/x-python",
   "name": "python",
   "nbconvert_exporter": "python",
   "pygments_lexer": "ipython3",
   "version": "3.9.5"
  },
  "nbTranslate": {
   "displayLangs": [
    "*"
   ],
   "hotkey": "alt-t",
   "langInMainMenu": true,
   "sourceLang": "en",
   "targetLang": "fr",
   "useGoogleTranslate": true
  },
  "toc": {
   "base_numbering": 1,
   "nav_menu": {},
   "number_sections": true,
   "sideBar": true,
   "skip_h1_title": false,
   "title_cell": "Table of Contents",
   "title_sidebar": "Contents",
   "toc_cell": false,
   "toc_position": {},
   "toc_section_display": true,
   "toc_window_display": false
  },
  "varInspector": {
   "cols": {
    "lenName": 16,
    "lenType": 16,
    "lenVar": 40
   },
   "kernels_config": {
    "python": {
     "delete_cmd_postfix": "",
     "delete_cmd_prefix": "del ",
     "library": "var_list.py",
     "varRefreshCmd": "print(var_dic_list())"
    },
    "r": {
     "delete_cmd_postfix": ") ",
     "delete_cmd_prefix": "rm(",
     "library": "var_list.r",
     "varRefreshCmd": "cat(var_dic_list()) "
    }
   },
   "types_to_exclude": [
    "module",
    "function",
    "builtin_function_or_method",
    "instance",
    "_Feature"
   ],
   "window_display": false
  }
 },
 "nbformat": 4,
 "nbformat_minor": 5
}
