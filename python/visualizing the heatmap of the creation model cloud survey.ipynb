{
 "cells": [
  {
   "cell_type": "markdown",
   "id": "13ad4e66",
   "metadata": {
    "ExecuteTime": {
     "end_time": "2024-11-16T22:26:12.999494Z",
     "start_time": "2024-11-16T22:26:12.987618Z"
    }
   },
   "source": [
    "# visualizing the heatmap of the creation model cloud survey\n",
    "Tim Tyree<br>\n",
    "11.16.2024"
   ]
  },
  {
   "cell_type": "code",
   "execution_count": 1,
   "id": "12f87f71",
   "metadata": {
    "ExecuteTime": {
     "end_time": "2024-11-20T16:25:53.268923Z",
     "start_time": "2024-11-20T16:25:46.015574Z"
    }
   },
   "outputs": [],
   "source": [
    "import sys\n",
    "import pathlib\n",
    "import os\n",
    "\n",
    "from lib.my_initialization import *\n",
    "plt.plot([1]*4)\n",
    "plt.close()\n",
    "#reset matplotlib\n",
    "import matplotlib\n",
    "matplotlib.rcParams.update(matplotlib.rcParamsDefault)\n",
    "mpl.rcParams.update(matplotlib.rcParamsDefault) #reset matplotlib\n",
    "\n",
    "import matplotlib.pyplot as plt\n",
    "import numpy as np\n",
    "from matplotlib.colors import LogNorm"
   ]
  },
  {
   "cell_type": "markdown",
   "id": "d4c0dc6d",
   "metadata": {},
   "source": [
    "# define module"
   ]
  },
  {
   "cell_type": "code",
   "execution_count": 2,
   "id": "a2a01dbb",
   "metadata": {
    "ExecuteTime": {
     "end_time": "2024-11-20T16:25:53.272843Z",
     "start_time": "2024-11-20T16:25:53.269918Z"
    }
   },
   "outputs": [
    {
     "data": {
      "text/plain": [
       "11"
      ]
     },
     "execution_count": 2,
     "metadata": {},
     "output_type": "execute_result"
    }
   ],
   "source": [
    "1_1"
   ]
  },
  {
   "cell_type": "markdown",
   "id": "4d056ef1",
   "metadata": {},
   "source": [
    "# dev"
   ]
  },
  {
   "cell_type": "code",
   "execution_count": 3,
   "id": "ab4e4800",
   "metadata": {
    "ExecuteTime": {
     "end_time": "2024-11-20T16:25:53.275779Z",
     "start_time": "2024-11-20T16:25:53.274329Z"
    }
   },
   "outputs": [],
   "source": [
    "#TODO: figure out reading of one result (please let it be valid!)\n",
    "#TODO: print it and extract relevant information\n",
    "#TODO: scale it up and create a single data frame with all the results\n",
    "#TODO: OR average each pixel before/after doing ^that\n",
    "#TODO: plot each pixelc"
   ]
  },
  {
   "cell_type": "code",
   "execution_count": 4,
   "id": "e932efb9",
   "metadata": {
    "ExecuteTime": {
     "end_time": "2024-11-20T16:25:53.278670Z",
     "start_time": "2024-11-20T16:25:53.276490Z"
    }
   },
   "outputs": [
    {
     "data": {
      "text/plain": [
       "True"
      ]
     },
     "execution_count": 4,
     "metadata": {},
     "output_type": "execute_result"
    }
   ],
   "source": [
    "input_folder = f\"{nb_dir}/data/osg_output/run_42\"\n",
    "os.path.exists(input_folder)"
   ]
  },
  {
   "cell_type": "code",
   "execution_count": 5,
   "id": "5725da05",
   "metadata": {
    "ExecuteTime": {
     "end_time": "2024-11-20T17:25:32.979585Z",
     "start_time": "2024-11-20T16:25:53.279811Z"
    }
   },
   "outputs": [
    {
     "data": {
      "text/plain": [
       "(721115, 16)"
      ]
     },
     "execution_count": 5,
     "metadata": {},
     "output_type": "execute_result"
    }
   ],
   "source": [
    "# max_num_trials = 1001197  # 5 min 11 seconds\n",
    "# max_num_trials = 5*1001197\n",
    "max_num_trials = 50*1001197\n",
    "# num_num_trials = 100000 #works for the upper few rows only\n",
    "num_num_trials = max_num_trials\n",
    "# index=0\n",
    "# index=103\n",
    "trgti='Printing Inputs:'\n",
    "trgto='Printing Outputs:'\n",
    "dicts_lst = []\n",
    "for index in range(num_num_trials):\n",
    "    # fn = f\"job.log.15552477.1001197\"\n",
    "    # fn = f\"job.out.15552477.1001197\"\n",
    "    fn = f\"job.out.15552477.{index}\"\n",
    "    # fn = f\"job.log.15552477.{index}\"\n",
    "    directory = os.path.join(input_folder,fn)\n",
    "    if os.path.exists(directory):\n",
    "        with open(directory) as f:\n",
    "            lines = np.array(f.readlines())\n",
    "        #find io in file\n",
    "        if len(lines)>2:\n",
    "            ii = -9999\n",
    "            io = -9999\n",
    "            for i,line in enumerate(lines):\n",
    "    #             print(line)\n",
    "                if line.find(trgti) != -1:\n",
    "                    ii=i\n",
    "                if line.find(trgto) != -1:\n",
    "                    io=i\n",
    "            #extract\n",
    "            sdict = 'dict('+''.join([x.replace('\\n',',') for x in lines[ii+1:io-1]])\n",
    "            sdict+=lines[io+1].replace('\\n',',')\n",
    "            sdict+=')'\n",
    "            dicts = eval(sdict)\n",
    "            #record\n",
    "            dicts_lst.append(dicts)\n",
    "len(dicts_lst)\n",
    "df = pd.DataFrame(dicts_lst); del dicts_lst\n",
    "df.shape"
   ]
  },
  {
   "cell_type": "code",
   "execution_count": null,
   "id": "2abf4889",
   "metadata": {
    "ExecuteTime": {
     "end_time": "2024-11-19T23:02:13.540831Z",
     "start_time": "2024-11-19T23:02:13.536064Z"
    }
   },
   "outputs": [],
   "source": []
  },
  {
   "cell_type": "code",
   "execution_count": 6,
   "id": "83ddd70a",
   "metadata": {
    "ExecuteTime": {
     "end_time": "2024-11-20T17:25:32.981866Z",
     "start_time": "2024-11-20T17:25:32.980395Z"
    }
   },
   "outputs": [],
   "source": [
    "# for i,line in enumerate(lines):\n",
    "#     print(line)"
   ]
  },
  {
   "cell_type": "code",
   "execution_count": null,
   "id": "2144f78b",
   "metadata": {},
   "outputs": [],
   "source": []
  },
  {
   "cell_type": "code",
   "execution_count": null,
   "id": "e7330a2b",
   "metadata": {},
   "outputs": [],
   "source": []
  },
  {
   "cell_type": "code",
   "execution_count": 7,
   "id": "77c50f9e",
   "metadata": {
    "ExecuteTime": {
     "end_time": "2024-11-20T17:25:32.985519Z",
     "start_time": "2024-11-20T17:25:32.982432Z"
    }
   },
   "outputs": [],
   "source": [
    "# path = input_folder\n",
    "# pl = pathlib.Path(path).iterdir()\n",
    "# # oslb = os.listdir(path)\n",
    "# print(type(pl))\n",
    "# # print (type(oslb))\n",
    "\n",
    "# print ('pathlib.iter: %s' % sys.getsizeof(pl))\n",
    "# # print ('os.listdir: %s' % sys.getsizeof(oslb))"
   ]
  },
  {
   "cell_type": "code",
   "execution_count": 8,
   "id": "f785f7a1",
   "metadata": {
    "ExecuteTime": {
     "end_time": "2024-11-20T17:25:32.987733Z",
     "start_time": "2024-11-20T17:25:32.986212Z"
    }
   },
   "outputs": [],
   "source": [
    "a_fk = 1.552\n",
    "b_fk = 3.01"
   ]
  },
  {
   "cell_type": "code",
   "execution_count": 9,
   "id": "71bfbdc6",
   "metadata": {
    "ExecuteTime": {
     "end_time": "2024-11-20T17:25:32.996626Z",
     "start_time": "2024-11-20T17:25:32.988399Z"
    }
   },
   "outputs": [],
   "source": [
    "df['a'] = df['varkappa'].round(3)\n",
    "df['b'] = (df['a']*(df['chi']-1)).round(3)\n",
    "#Q: is ^this right??\n",
    "#A: yes."
   ]
  },
  {
   "cell_type": "code",
   "execution_count": 10,
   "id": "f2d64a11",
   "metadata": {
    "ExecuteTime": {
     "end_time": "2024-11-20T17:25:33.016058Z",
     "start_time": "2024-11-20T17:25:32.997819Z"
    }
   },
   "outputs": [
    {
     "data": {
      "text/plain": [
       "(array([ 1.   ,  1.1  ,  1.2  ,  1.3  ,  1.4  ,  1.5  ,  1.552,  1.6  ,\n",
       "         1.7  ,  1.8  ,  1.9  ,  2.   ,  2.1  ,  2.2  ,  2.3  ,  2.4  ,\n",
       "         2.5  ,  2.6  ,  2.7  ,  2.8  ,  2.9  ,  3.   ,  3.1  ,  3.2  ,\n",
       "         3.3  ,  3.4  ,  3.5  ,  3.6  ,  3.7  ,  3.8  ,  3.9  ,  4.   ,\n",
       "         4.1  ,  4.2  ,  4.3  ,  4.4  ,  4.5  ,  4.6  ,  4.7  ,  4.8  ,\n",
       "         4.9  ,  5.   ,  5.1  ,  5.2  ,  5.3  ,  5.4  ,  5.5  ,  5.6  ,\n",
       "         5.7  ,  5.8  ,  5.9  ,  6.   ,  6.1  ,  6.2  ,  6.3  ,  6.4  ,\n",
       "         6.5  ,  6.6  ,  6.7  ,  6.8  ,  6.9  ,  7.   ,  7.1  ,  7.2  ,\n",
       "         7.3  ,  7.4  ,  7.5  ,  7.6  ,  7.7  ,  7.8  ,  7.9  ,  8.   ,\n",
       "         8.1  ,  8.2  ,  8.3  ,  8.4  ,  8.5  ,  8.6  ,  8.7  ,  8.8  ,\n",
       "         8.9  ,  9.   ,  9.1  ,  9.2  ,  9.3  ,  9.4  ,  9.5  ,  9.6  ,\n",
       "         9.7  ,  9.8  ,  9.9  , 10.   ]),\n",
       " array([ 6.5,  6.6,  6.7,  6.8,  6.9,  7. ,  7.1,  7.2,  7.3,  7.4,  7.5,\n",
       "         7.6,  7.7,  7.8,  7.9,  8. ,  8.1,  8.2,  8.3,  8.4,  8.5,  8.6,\n",
       "         8.7,  8.8,  8.9,  9. ,  9.1,  9.2,  9.3,  9.4,  9.5,  9.6,  9.7,\n",
       "         9.8,  9.9, 10. , 10.1, 10.2, 10.3, 10.4, 10.5, 10.6, 10.7, 10.8,\n",
       "        10.9, 11. , 11.1, 11.2, 11.3, 11.4, 11.5, 11.6, 11.7, 11.8, 11.9,\n",
       "        12. , 12.1, 12.2, 12.3, 12.4, 12.5, 12.6, 12.7, 12.8, 12.9, 13. ,\n",
       "        13.1, 13.2, 13.3, 13.4, 13.5, 13.6, 13.7, 13.8, 13.9, 14. , 14.1,\n",
       "        14.2, 14.3, 14.4, 14.5, 14.6, 14.7, 14.8, 14.9, 15. ]))"
      ]
     },
     "execution_count": 10,
     "metadata": {},
     "output_type": "execute_result"
    }
   ],
   "source": [
    "a_values = df['a'].round(3).drop_duplicates().sort_values().values\n",
    "b_values = df['b'].round(3).drop_duplicates().sort_values().values\n",
    "DA = np.median(np.diff(a_values))\n",
    "DB = np.median(np.diff(b_values))\n",
    "DA,DB\n",
    "a_values,b_values"
   ]
  },
  {
   "cell_type": "code",
   "execution_count": 11,
   "id": "c727ceb8",
   "metadata": {
    "ExecuteTime": {
     "end_time": "2024-11-20T17:25:33.044333Z",
     "start_time": "2024-11-20T17:25:33.018607Z"
    }
   },
   "outputs": [],
   "source": [
    "df_mean = df.groupby(by=['a','b'])['TermTime'].mean()"
   ]
  },
  {
   "cell_type": "code",
   "execution_count": 12,
   "id": "406bae35",
   "metadata": {
    "ExecuteTime": {
     "end_time": "2024-11-20T17:25:38.181431Z",
     "start_time": "2024-11-20T17:25:33.045227Z"
    }
   },
   "outputs": [],
   "source": [
    "df_descr = df.groupby(by=['a','b'])['TermTime'].describe()"
   ]
  },
  {
   "cell_type": "code",
   "execution_count": 13,
   "id": "0597ee1e",
   "metadata": {
    "ExecuteTime": {
     "end_time": "2024-11-20T17:25:38.185554Z",
     "start_time": "2024-11-20T17:25:38.182420Z"
    }
   },
   "outputs": [],
   "source": [
    "# np.array(df_descr.index.values)\n",
    "a_values = df_descr.reset_index()['a'].drop_duplicates().values\n",
    "b_values = df_descr.reset_index()['b'].drop_duplicates().values"
   ]
  },
  {
   "cell_type": "code",
   "execution_count": null,
   "id": "845016da",
   "metadata": {},
   "outputs": [],
   "source": []
  },
  {
   "cell_type": "code",
   "execution_count": 14,
   "id": "4509d23e",
   "metadata": {
    "ExecuteTime": {
     "end_time": "2024-11-20T17:25:38.614119Z",
     "start_time": "2024-11-20T17:25:38.186221Z"
    }
   },
   "outputs": [],
   "source": [
    "x, y = np.mgrid[slice(1,10.05,0.1),\n",
    "                slice(1,15.05,0.1)]\n",
    "# y, x = np.mgrid[slice(-4, 4 + dy, dy),\n",
    "#                 slice(-4, 4 + dx, dx)]\n",
    "# z = (1 - x / 3. + x ** 6 + y ** 3) * np.exp(-x ** 2 - y ** 2)\n",
    "z = x*y\n",
    "# z = z[:-1, :-1]\n",
    "z*=0\n",
    "z-=9999.\n",
    "# x[0].shape,y[:,0].shape\n",
    "d = df_descr['mean']\n",
    "# atol = 1e2\n",
    "atol=1e-5\n",
    "# atol = 13.5\n",
    "# tol = 1e2\n",
    "# for i,a in enumerate(x[0]):\n",
    "#     ia = np.argwhere(np.isclose(a_values,a,atol=atol))    \n",
    "# #     ia = np.argwhere(np.isclose(a_values,a,rtol=tol))    \n",
    "#     for j,b in enumerate(y[:,0]):\n",
    "for i,a in enumerate(x[:,0]):\n",
    "    ia = np.argwhere(np.isclose(a_values,a,atol=atol))    \n",
    "    for j,b in enumerate(y[0]):\n",
    "# for i,a in enumerate(x[0]):\n",
    "#     for j,b in enumerate(y[:,0]):\n",
    "        ib = np.argwhere(np.isclose(b_values,b,atol=atol))\n",
    "#         ib = np.argwhere(np.isclose(b_values,b,rtol=tol))\n",
    "        try:\n",
    "            if (ia.shape[0]>0) and (ib.shape[0]>0):\n",
    "                val = d.loc[a_values[ia[0,0]],b_values[ib[0,0]]]\n",
    "                z[i-1,j-1] = val\n",
    "#                 print(f\"index found! at {i=},{j=}\")\n",
    "        except KeyError as e:\n",
    "#             print(f\"asdf\")\n",
    "            pass\n",
    "# for (a,b),row in df_descr.iterrows():\n",
    "#     val = row['mean']\n",
    "#     #record\n",
    "#     z_lst.append(val)\n",
    "#     a_set.update(set([a]))\n",
    "# # df_mean\n",
    "# nrows = len(a_set)"
   ]
  },
  {
   "cell_type": "code",
   "execution_count": 15,
   "id": "281829f1",
   "metadata": {
    "ExecuteTime": {
     "end_time": "2024-11-20T17:25:38.616412Z",
     "start_time": "2024-11-20T17:25:38.614924Z"
    }
   },
   "outputs": [],
   "source": [
    "# # val\n",
    "# # d.loc[ia[0],ib[0]]\n",
    "# # ia[0],ib[0]\n",
    "# # val\n",
    "# # d\n",
    "# ia = np.argwhere(np.isclose(a_values,a,atol=1e-5))    \n",
    "# ia,ib,a,b"
   ]
  },
  {
   "cell_type": "code",
   "execution_count": 16,
   "id": "3ba9e6dc",
   "metadata": {
    "ExecuteTime": {
     "end_time": "2024-11-20T17:25:38.619644Z",
     "start_time": "2024-11-20T17:25:38.617269Z"
    }
   },
   "outputs": [
    {
     "data": {
      "text/plain": [
       "array([[85]])"
      ]
     },
     "execution_count": 16,
     "metadata": {},
     "output_type": "execute_result"
    }
   ],
   "source": [
    "b_values\n",
    "# # d.loc[a].loc[b]\n",
    "# b\n",
    "# a\n",
    "# a,b\n",
    "np.isclose(b_values,b,atol=atol)\n",
    "np.argwhere(np.isclose(b_values,b,atol=atol))"
   ]
  },
  {
   "cell_type": "code",
   "execution_count": 17,
   "id": "ac8e2758",
   "metadata": {
    "ExecuteTime": {
     "end_time": "2024-11-20T17:25:38.621600Z",
     "start_time": "2024-11-20T17:25:38.620270Z"
    }
   },
   "outputs": [],
   "source": [
    "# z = np.array(z_lst).reshape(-1,nrows)\n",
    "# z.shape"
   ]
  },
  {
   "cell_type": "code",
   "execution_count": null,
   "id": "9e03008d",
   "metadata": {},
   "outputs": [],
   "source": []
  },
  {
   "cell_type": "code",
   "execution_count": null,
   "id": "bf94bb31",
   "metadata": {},
   "outputs": [],
   "source": []
  },
  {
   "cell_type": "code",
   "execution_count": 18,
   "id": "542e0bc7",
   "metadata": {
    "ExecuteTime": {
     "end_time": "2024-11-20T17:25:38.624507Z",
     "start_time": "2024-11-20T17:25:38.622190Z"
    }
   },
   "outputs": [
    {
     "data": {
      "text/plain": [
       "array([ 6.5,  6.6,  6.7,  6.8,  6.9,  7. ,  7.1,  7.2,  7.3,  7.4,  7.5,\n",
       "        7.6,  7.7,  7.8,  7.9,  8. ,  8.1,  8.2,  8.3,  8.4,  8.5,  8.6,\n",
       "        8.7,  8.8,  8.9,  9. ,  9.1,  9.2,  9.3,  9.4,  9.5,  9.6,  9.7,\n",
       "        9.8,  9.9, 10. , 10.1, 10.2, 10.3, 10.4, 10.5, 10.6, 10.7, 10.8,\n",
       "       10.9, 11. , 11.1, 11.2, 11.3, 11.4, 11.5, 11.6, 11.7, 11.8, 11.9,\n",
       "       12. , 12.1, 12.2, 12.3, 12.4, 12.5, 12.6, 12.7, 12.8, 12.9, 13. ,\n",
       "       13.1, 13.2, 13.3, 13.4, 13.5, 13.6, 13.7, 13.8, 13.9, 14. , 14.1,\n",
       "       14.2, 14.3, 14.4, 14.5, 14.6, 14.7, 14.8, 14.9, 15. ])"
      ]
     },
     "execution_count": 18,
     "metadata": {},
     "output_type": "execute_result"
    }
   ],
   "source": [
    "b_values"
   ]
  },
  {
   "cell_type": "code",
   "execution_count": 19,
   "id": "46c0cf60",
   "metadata": {
    "ExecuteTime": {
     "end_time": "2024-11-20T17:25:38.626400Z",
     "start_time": "2024-11-20T17:25:38.625038Z"
    }
   },
   "outputs": [],
   "source": [
    "# df['a']*(df['chi'] - 1)"
   ]
  },
  {
   "cell_type": "code",
   "execution_count": 20,
   "id": "5f32492e",
   "metadata": {
    "ExecuteTime": {
     "end_time": "2024-11-20T17:25:38.628899Z",
     "start_time": "2024-11-20T17:25:38.627052Z"
    }
   },
   "outputs": [],
   "source": [
    "# dx, dy = 0.015, 0.05\n",
    "# xcol = 'a'\n",
    "# ycol = 'b'\n",
    "# # a_values = np.arange(1,10.05,0.1)\n",
    "# # b_values = np.arange(1,15.05,0.1)\n",
    "# # x, y = np.mgrid[iter(sorted(a_values)),\n",
    "# #                 iter(sorted(b_values))]\n",
    "# x, y = np.mgrid[slice(1,10.05,0.1),\n",
    "#                 slice(1,15.05,0.1)]\n",
    "# # y, x = np.mgrid[slice(-4, 4 + dy, dy),\n",
    "# #                 slice(-4, 4 + dx, dx)]\n",
    "# z = (1 - x / 3. + x ** 6 + y ** 3) * np.exp(-x ** 2 - y ** 2)\n",
    "# z = z[:-1, :-1]\n",
    "# z*=0\n",
    "# z-=9999.\n",
    "# ncols,nrows = x.shape\n",
    "# ncols,nrows,z.shape\n",
    "\n",
    "# zcol='TermTime'\n",
    "# # n_digits_round=7\n",
    "# n_digits_round=15\n",
    "# # atol = 1e-08\n",
    "# # atol = 1e-04\n",
    "# # atol = 1e-2\n",
    "# # atol = 1e-1#different but smaller\n",
    "# atol = 1e-0 #different\n",
    "# # atol=1e1\n",
    "# min_num_obs = 1\n",
    "# boona = ~np.isnan(df[zcol].values)\n",
    "# for i in range(ncols-1):\n",
    "#     for j in range(nrows-1):\n",
    "#         pass\n",
    "#         #compute the mean of the four corners\n",
    "# #         boo = np.isclose(df[xcol],x[i,j],atol=n_digits_round) & np.isclose(df[ycol],y[i,j],atol=n_digits_round) & boona\n",
    "# #         boo = np.isclose(df[xcol],x[i,j],atol=atol) & np.isclose(df[ycol],y[i,j],atol=atol) & boona\n",
    "#         boo = np.isclose(df[xcol],x[i,j]) & np.isclose(df[ycol],y[i,j]) & boona\n",
    "#         if sum(boo)>=min_num_obs:\n",
    "#             zvalue = df[boo][zcol].mean()\n",
    "#             #TODO: record to z[i,j] the mean of the means\n",
    "#             z[i,j] = zvalue # i*j"
   ]
  },
  {
   "cell_type": "code",
   "execution_count": 21,
   "id": "f63828a5",
   "metadata": {
    "ExecuteTime": {
     "end_time": "2024-11-20T17:25:38.630981Z",
     "start_time": "2024-11-20T17:25:38.629644Z"
    }
   },
   "outputs": [],
   "source": [
    "# beep(3)"
   ]
  },
  {
   "cell_type": "code",
   "execution_count": 22,
   "id": "5b5922c7",
   "metadata": {
    "ExecuteTime": {
     "end_time": "2024-11-20T17:25:38.633053Z",
     "start_time": "2024-11-20T17:25:38.631655Z"
    }
   },
   "outputs": [],
   "source": [
    "# assert sum(boona)/boona.shape[0]==1\n",
    "# #^that says there is no nan value"
   ]
  },
  {
   "cell_type": "code",
   "execution_count": 23,
   "id": "501c99d5",
   "metadata": {
    "ExecuteTime": {
     "end_time": "2024-11-20T17:25:38.635367Z",
     "start_time": "2024-11-20T17:25:38.633779Z"
    }
   },
   "outputs": [],
   "source": [
    "# tol=1e-1\n",
    "# (np.isclose(df[xcol],x[i,j],rtol=tol) & np.isclose(df[ycol],y[i,j],rtol=tol)).sum(),boona.shape"
   ]
  },
  {
   "cell_type": "code",
   "execution_count": null,
   "id": "beee1f4d",
   "metadata": {},
   "outputs": [],
   "source": []
  },
  {
   "cell_type": "code",
   "execution_count": null,
   "id": "471a292b",
   "metadata": {},
   "outputs": [],
   "source": []
  },
  {
   "cell_type": "code",
   "execution_count": 24,
   "id": "dabe7975",
   "metadata": {
    "ExecuteTime": {
     "end_time": "2024-11-20T17:25:38.637609Z",
     "start_time": "2024-11-20T17:25:38.636036Z"
    }
   },
   "outputs": [],
   "source": [
    "# beep(3)"
   ]
  },
  {
   "cell_type": "code",
   "execution_count": 25,
   "id": "bfad70fc",
   "metadata": {
    "ExecuteTime": {
     "end_time": "2024-11-20T17:25:38.639695Z",
     "start_time": "2024-11-20T17:25:38.638438Z"
    }
   },
   "outputs": [],
   "source": [
    "# df[zcol].describe()"
   ]
  },
  {
   "cell_type": "code",
   "execution_count": 26,
   "id": "6df61b39",
   "metadata": {
    "ExecuteTime": {
     "end_time": "2024-11-20T17:25:38.641929Z",
     "start_time": "2024-11-20T17:25:38.640433Z"
    }
   },
   "outputs": [],
   "source": [
    "# df[zcol].mean()"
   ]
  },
  {
   "cell_type": "code",
   "execution_count": 27,
   "id": "ea9b4a54",
   "metadata": {
    "ExecuteTime": {
     "end_time": "2024-11-20T17:25:38.644061Z",
     "start_time": "2024-11-20T17:25:38.642635Z"
    }
   },
   "outputs": [],
   "source": [
    "# # df[boo][zcol].hist()\n",
    "# df[boo][zcol].shape"
   ]
  },
  {
   "cell_type": "code",
   "execution_count": 28,
   "id": "217f4cfb",
   "metadata": {
    "ExecuteTime": {
     "end_time": "2024-11-20T17:25:38.645995Z",
     "start_time": "2024-11-20T17:25:38.644696Z"
    }
   },
   "outputs": [],
   "source": [
    "# np.isclose?"
   ]
  },
  {
   "cell_type": "code",
   "execution_count": 29,
   "id": "b399f7b4",
   "metadata": {
    "ExecuteTime": {
     "end_time": "2024-11-20T17:25:38.648119Z",
     "start_time": "2024-11-20T17:25:38.646584Z"
    }
   },
   "outputs": [],
   "source": [
    "# z"
   ]
  },
  {
   "cell_type": "code",
   "execution_count": 30,
   "id": "fa822105",
   "metadata": {
    "ExecuteTime": {
     "end_time": "2024-11-20T17:25:38.919851Z",
     "start_time": "2024-11-20T17:25:38.648867Z"
    }
   },
   "outputs": [
    {
     "data": {
      "image/png": "[encoded data removed]",
      "text/plain": [
       "<Figure size 640x480 with 2 Axes>"
      ]
     },
     "metadata": {},
     "output_type": "display_data"
    }
   ],
   "source": [
    "fontsize=18\n",
    "# z_min, z_max = -np.abs(z).max(), np.abs(z).max()\n",
    "# z_min, z_max = 1e-9, z.max()\n",
    "# z_min, z_max = 1e-3, z.max()\n",
    "# z_min, z_max = 1e-1, z.max()\n",
    "# z_min, z_max = 1e-1, 100\n",
    "z_min, z_max = 1, 100\n",
    "# z_min, z_max = 1e1, z.max()\n",
    "# z_min, z_max = 1e-9, 1e-5\n",
    "c = plt.pcolormesh(x, y, z, cmap ='gray_r', vmin = z_min, vmax = z_max, norm=LogNorm())#, cmap='viridis')\n",
    "cbar = plt.colorbar(c)\n",
    "cbar.set_label('Termination Time  (sec)',fontsize=fontsize)\n",
    "format_plot(xlabel=r'$a$ (cm$^2/$s)', ylabel=r'$b$ (cm$^2/$s)',fontsize=fontsize)\n",
    "# plt.ylim([7.8,15])\n",
    "# plt.title('matplotlib.pyplot.pcolormesh() function Example', fontweight =\"bold\")\n",
    "plt.show()"
   ]
  },
  {
   "cell_type": "code",
   "execution_count": 1,
   "id": "ae02f1fb",
   "metadata": {
    "ExecuteTime": {
     "end_time": "2024-12-30T18:02:46.421629Z",
     "start_time": "2024-12-30T18:02:46.416454Z"
    }
   },
   "outputs": [],
   "source": [
    "# type(cbar)\n",
    "# # ,fontsize=fontsize"
   ]
  },
  {
   "cell_type": "code",
   "execution_count": null,
   "id": "d0f3b149",
   "metadata": {},
   "outputs": [],
   "source": []
  },
  {
   "cell_type": "code",
   "execution_count": 32,
   "id": "ff31a47d",
   "metadata": {
    "ExecuteTime": {
     "end_time": "2024-11-20T17:25:38.925291Z",
     "start_time": "2024-11-20T17:25:38.923779Z"
    }
   },
   "outputs": [],
   "source": [
    "# a_values = np.arange(1,10.05,0.1)\n",
    "# b_values = np.arange(1,15.05,0.1)\n",
    "# xx, yy = np.meshgrid(a_values, b_values, sparse=True)\n",
    "# z = np.sin(xx**2 + yy**2) / (xx**2 + yy**2)"
   ]
  },
  {
   "cell_type": "code",
   "execution_count": 33,
   "id": "8a892d86",
   "metadata": {
    "ExecuteTime": {
     "end_time": "2024-11-20T17:25:38.927606Z",
     "start_time": "2024-11-20T17:25:38.925962Z"
    }
   },
   "outputs": [],
   "source": [
    "# plt.imshow(z)"
   ]
  },
  {
   "cell_type": "code",
   "execution_count": 34,
   "id": "4394a66c",
   "metadata": {
    "ExecuteTime": {
     "end_time": "2024-11-20T17:25:38.929861Z",
     "start_time": "2024-11-20T17:25:38.928448Z"
    }
   },
   "outputs": [],
   "source": [
    "# for (a,b),ts in df[['a','b','TermTime']].groupby(by=['a','b']):\n",
    "#     pass"
   ]
  },
  {
   "cell_type": "code",
   "execution_count": 35,
   "id": "1aad36bb",
   "metadata": {
    "ExecuteTime": {
     "end_time": "2024-11-20T17:25:38.936279Z",
     "start_time": "2024-11-20T17:25:38.934865Z"
    }
   },
   "outputs": [],
   "source": [
    "# tsv = ts['TermTime'].values\n",
    "# plt.hist(tsv,bins=np.arange(0,1,0.05))\n",
    "# plt.show()"
   ]
  },
  {
   "cell_type": "code",
   "execution_count": 36,
   "id": "83041dac",
   "metadata": {
    "ExecuteTime": {
     "end_time": "2024-11-20T17:25:38.938408Z",
     "start_time": "2024-11-20T17:25:38.937001Z"
    }
   },
   "outputs": [],
   "source": [
    "# a,b"
   ]
  },
  {
   "cell_type": "code",
   "execution_count": 37,
   "id": "70de4ab1",
   "metadata": {
    "ExecuteTime": {
     "end_time": "2024-11-20T17:25:38.940623Z",
     "start_time": "2024-11-20T17:25:38.939079Z"
    }
   },
   "outputs": [],
   "source": [
    "#heretim (bonus mode)\n",
    "#DONE: condense table to minimal a,b,TermTime table\n",
    "#DONE(trivially): generate spline estimate of mean value of surface in given (a,b) space\n",
    "#DONEDONE: visualize ibid\n",
    "#TODO: polish it, and scale it up as much as possible\n",
    "#TODO: put it in a nice LaTeX document and share it with wouter via Overleaf"
   ]
  },
  {
   "cell_type": "code",
   "execution_count": null,
   "id": "d3f63250",
   "metadata": {},
   "outputs": [],
   "source": []
  },
  {
   "cell_type": "code",
   "execution_count": null,
   "id": "8a84ca15",
   "metadata": {},
   "outputs": [],
   "source": []
  },
  {
   "cell_type": "code",
   "execution_count": null,
   "id": "6a6f3b2c",
   "metadata": {},
   "outputs": [],
   "source": []
  },
  {
   "cell_type": "code",
   "execution_count": null,
   "id": "5ae81558",
   "metadata": {},
   "outputs": [],
   "source": []
  },
  {
   "cell_type": "code",
   "execution_count": null,
   "id": "63e3f80f",
   "metadata": {},
   "outputs": [],
   "source": []
  },
  {
   "cell_type": "code",
   "execution_count": null,
   "id": "b0d7a832",
   "metadata": {},
   "outputs": [],
   "source": []
  },
  {
   "cell_type": "code",
   "execution_count": 38,
   "id": "d635a5df",
   "metadata": {
    "ExecuteTime": {
     "end_time": "2024-11-20T17:25:39.739075Z",
     "start_time": "2024-11-20T17:25:38.941323Z"
    }
   },
   "outputs": [
    {
     "name": "stdout",
     "output_type": "stream",
     "text": [
      "-n \u0007\n",
      "-n \u0007\n",
      "-n \u0007\n"
     ]
    },
    {
     "data": {
      "text/plain": [
       "0"
      ]
     },
     "execution_count": 38,
     "metadata": {},
     "output_type": "execute_result"
    }
   ],
   "source": [
    "beep(3)"
   ]
  },
  {
   "cell_type": "code",
   "execution_count": null,
   "id": "d657584d",
   "metadata": {},
   "outputs": [],
   "source": []
  },
  {
   "cell_type": "code",
   "execution_count": null,
   "id": "56b97c5a",
   "metadata": {},
   "outputs": [],
   "source": []
  },
  {
   "cell_type": "code",
   "execution_count": 39,
   "id": "87e93f1f",
   "metadata": {
    "ExecuteTime": {
     "end_time": "2024-11-20T17:25:39.744619Z",
     "start_time": "2024-11-20T17:25:39.740929Z"
    }
   },
   "outputs": [],
   "source": [
    "# fn_lst = os.listdir(input_folder)\n",
    "# len(fn_lst)"
   ]
  },
  {
   "cell_type": "code",
   "execution_count": 40,
   "id": "c20ec38b",
   "metadata": {
    "ExecuteTime": {
     "end_time": "2024-11-20T17:25:39.746989Z",
     "start_time": "2024-11-20T17:25:39.745532Z"
    }
   },
   "outputs": [],
   "source": [
    "# for fn in os.listdir(input_folder):\n",
    "#     pass"
   ]
  },
  {
   "cell_type": "code",
   "execution_count": 41,
   "id": "12fdca27",
   "metadata": {
    "ExecuteTime": {
     "end_time": "2024-11-20T17:25:39.749227Z",
     "start_time": "2024-11-20T17:25:39.747794Z"
    }
   },
   "outputs": [],
   "source": [
    "# fn"
   ]
  },
  {
   "cell_type": "code",
   "execution_count": null,
   "id": "fca6544e",
   "metadata": {},
   "outputs": [],
   "source": []
  },
  {
   "cell_type": "code",
   "execution_count": null,
   "id": "5510d173",
   "metadata": {},
   "outputs": [],
   "source": []
  },
  {
   "cell_type": "code",
   "execution_count": null,
   "id": "cf7c4dc2",
   "metadata": {},
   "outputs": [],
   "source": []
  }
 ],
 "metadata": {
  "hide_input": false,
  "kernelspec": {
   "display_name": "Python 3 (ipykernel)",
   "language": "python",
   "name": "python3"
  },
  "language_info": {
   "codemirror_mode": {
    "name": "ipython",
    "version": 3
   },
   "file_extension": ".py",
   "mimetype": "text/x-python",
   "name": "python",
   "nbconvert_exporter": "python",
   "pygments_lexer": "ipython3",
   "version": "3.9.5"
  },
  "nbTranslate": {
   "displayLangs": [
    "*"
   ],
   "hotkey": "alt-t",
   "langInMainMenu": true,
   "sourceLang": "en",
   "targetLang": "fr",
   "useGoogleTranslate": true
  },
  "toc": {
   "base_numbering": 1,
   "nav_menu": {},
   "number_sections": true,
   "sideBar": true,
   "skip_h1_title": false,
   "title_cell": "Table of Contents",
   "title_sidebar": "Contents",
   "toc_cell": false,
   "toc_position": {},
   "toc_section_display": true,
   "toc_window_display": false
  },
  "varInspector": {
   "cols": {
    "lenName": 16,
    "lenType": 16,
    "lenVar": 40
   },
   "kernels_config": {
    "python": {
     "delete_cmd_postfix": "",
     "delete_cmd_prefix": "del ",
     "library": "var_list.py",
     "varRefreshCmd": "print(var_dic_list())"
    },
    "r": {
     "delete_cmd_postfix": ") ",
     "delete_cmd_prefix": "rm(",
     "library": "var_list.r",
     "varRefreshCmd": "cat(var_dic_list()) "
    }
   },
   "types_to_exclude": [
    "module",
    "function",
    "builtin_function_or_method",
    "instance",
    "_Feature"
   ],
   "window_display": false
  }
 },
 "nbformat": 4,
 "nbformat_minor": 5
}
