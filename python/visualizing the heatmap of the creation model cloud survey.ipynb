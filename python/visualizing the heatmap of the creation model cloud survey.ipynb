{
 "cells": [
  {
   "cell_type": "markdown",
   "id": "13ad4e66",
   "metadata": {
    "ExecuteTime": {
     "end_time": "2024-11-16T22:26:12.999494Z",
     "start_time": "2024-11-16T22:26:12.987618Z"
    }
   },
   "source": [
    "# visualizing the heatmap of the creation model cloud survey\n",
    "Tim Tyree<br>\n",
    "11.16.2024"
   ]
  },
  {
   "cell_type": "code",
   "execution_count": 1,
   "id": "12f87f71",
   "metadata": {
    "ExecuteTime": {
     "end_time": "2025-02-03T00:36:46.595337Z",
     "start_time": "2025-02-03T00:36:41.160689Z"
    }
   },
   "outputs": [],
   "source": [
    "import sys\n",
    "import pathlib\n",
    "import os\n",
    "\n",
    "from lib.my_initialization import *\n",
    "plt.plot([1]*4)\n",
    "plt.close()\n",
    "#reset matplotlib\n",
    "import matplotlib\n",
    "matplotlib.rcParams.update(matplotlib.rcParamsDefault)\n",
    "mpl.rcParams.update(matplotlib.rcParamsDefault) #reset matplotlib\n",
    "\n",
    "import matplotlib.pyplot as plt\n",
    "import numpy as np\n",
    "from matplotlib.colors import LogNorm"
   ]
  },
  {
   "cell_type": "markdown",
   "id": "d4c0dc6d",
   "metadata": {},
   "source": [
    "# define module"
   ]
  },
  {
   "cell_type": "code",
   "execution_count": 2,
   "id": "a2a01dbb",
   "metadata": {
    "ExecuteTime": {
     "end_time": "2025-02-03T00:36:46.601071Z",
     "start_time": "2025-02-03T00:36:46.597977Z"
    }
   },
   "outputs": [
    {
     "data": {
      "text/plain": [
       "11"
      ]
     },
     "execution_count": 2,
     "metadata": {},
     "output_type": "execute_result"
    }
   ],
   "source": [
    "1_1"
   ]
  },
  {
   "cell_type": "markdown",
   "id": "4d056ef1",
   "metadata": {},
   "source": [
    "# dev"
   ]
  },
  {
   "cell_type": "code",
   "execution_count": 3,
   "id": "ab4e4800",
   "metadata": {
    "ExecuteTime": {
     "end_time": "2025-02-03T00:36:46.603335Z",
     "start_time": "2025-02-03T00:36:46.601976Z"
    }
   },
   "outputs": [],
   "source": [
    "#TODO: figure out reading of one result (please let it be valid!)\n",
    "#TODO: print it and extract relevant information\n",
    "#TODO: scale it up and create a single data frame with all the results\n",
    "#TODO: OR average each pixel before/after doing ^that\n",
    "#TODO: plot each pixelc"
   ]
  },
  {
   "cell_type": "code",
   "execution_count": 4,
   "id": "e932efb9",
   "metadata": {
    "ExecuteTime": {
     "end_time": "2025-02-03T00:36:46.606352Z",
     "start_time": "2025-02-03T00:36:46.604022Z"
    }
   },
   "outputs": [
    {
     "data": {
      "text/plain": [
       "True"
      ]
     },
     "execution_count": 4,
     "metadata": {},
     "output_type": "execute_result"
    }
   ],
   "source": [
    "# input_folder = f\"{nb_dir}/data/osg_output/run_42\"\n",
    "# cluster = '15552477'\n",
    "input_folder = f\"{nb_dir}/data/osg_output/run_43\"\n",
    "cluster = '16923356'\n",
    "os.path.exists(input_folder)"
   ]
  },
  {
   "cell_type": "code",
   "execution_count": 5,
   "id": "5725da05",
   "metadata": {
    "ExecuteTime": {
     "end_time": "2025-02-03T00:40:54.379849Z",
     "start_time": "2025-02-03T00:36:46.607309Z"
    }
   },
   "outputs": [
    {
     "data": {
      "text/plain": [
       "(1088740, 16)"
      ]
     },
     "execution_count": 5,
     "metadata": {},
     "output_type": "execute_result"
    }
   ],
   "source": [
    "max_num_trials = 1089600  \n",
    "# max_num_trials = 1001197  # 5 min 11 seconds\n",
    "# # max_num_trials = 5*1001197\n",
    "# max_num_trials = 50*1001197\n",
    "# # num_num_trials = 100000 #works for the upper few rows only\n",
    "num_num_trials = max_num_trials\n",
    "# index=0\n",
    "# index=103\n",
    "trgti='Printing Inputs:'\n",
    "trgto='Printing Outputs:'\n",
    "dicts_lst = []\n",
    "for index in range(num_num_trials):\n",
    "    # fn = f\"job.log.15552477.1001197\"\n",
    "    # fn = f\"job.out.15552477.1001197\"\n",
    "    fn = f\"job.out.{cluster}.{index}\"\n",
    "    # fn = f\"job.log.15552477.{index}\"\n",
    "    directory = os.path.join(input_folder,fn)\n",
    "    if os.path.exists(directory):\n",
    "        with open(directory) as f:\n",
    "            lines = np.array(f.readlines())\n",
    "        #find io in file\n",
    "        if len(lines)>2:\n",
    "            ii = -9999\n",
    "            io = -9999\n",
    "            for i,line in enumerate(lines):\n",
    "    #             print(line)\n",
    "                if line.find(trgti) != -1:\n",
    "                    ii=i\n",
    "                if line.find(trgto) != -1:\n",
    "                    io=i\n",
    "            #extract\n",
    "            sdict = 'dict('+''.join([x.replace('\\n',',') for x in lines[ii+1:io-1]])\n",
    "            sdict+=lines[io+1].replace('\\n',',')\n",
    "            sdict+=')'\n",
    "            dicts = eval(sdict)\n",
    "            #record\n",
    "            dicts_lst.append(dicts)\n",
    "len(dicts_lst)\n",
    "df = pd.DataFrame(dicts_lst); del dicts_lst\n",
    "df.shape"
   ]
  },
  {
   "cell_type": "code",
   "execution_count": 6,
   "id": "2abf4889",
   "metadata": {
    "ExecuteTime": {
     "end_time": "2025-02-03T00:40:55.102846Z",
     "start_time": "2025-02-03T00:40:54.380725Z"
    }
   },
   "outputs": [
    {
     "name": "stdout",
     "output_type": "stream",
     "text": [
      "-n \u0007\n",
      "-n \u0007\n",
      "-n \u0007\n"
     ]
    },
    {
     "data": {
      "text/plain": [
       "0"
      ]
     },
     "execution_count": 6,
     "metadata": {},
     "output_type": "execute_result"
    }
   ],
   "source": [
    "beep(3)"
   ]
  },
  {
   "cell_type": "code",
   "execution_count": 7,
   "id": "83ddd70a",
   "metadata": {
    "ExecuteTime": {
     "end_time": "2025-02-03T00:40:55.108762Z",
     "start_time": "2025-02-03T00:40:55.105391Z"
    }
   },
   "outputs": [],
   "source": [
    "# for i,line in enumerate(lines):\n",
    "#     print(line)"
   ]
  },
  {
   "cell_type": "code",
   "execution_count": null,
   "id": "2144f78b",
   "metadata": {},
   "outputs": [],
   "source": []
  },
  {
   "cell_type": "code",
   "execution_count": null,
   "id": "e7330a2b",
   "metadata": {},
   "outputs": [],
   "source": []
  },
  {
   "cell_type": "code",
   "execution_count": 8,
   "id": "77c50f9e",
   "metadata": {
    "ExecuteTime": {
     "end_time": "2025-02-03T00:40:55.118264Z",
     "start_time": "2025-02-03T00:40:55.115417Z"
    }
   },
   "outputs": [],
   "source": [
    "# path = input_folder\n",
    "# pl = pathlib.Path(path).iterdir()\n",
    "# # oslb = os.listdir(path)\n",
    "# print(type(pl))\n",
    "# # print (type(oslb))\n",
    "\n",
    "# print ('pathlib.iter: %s' % sys.getsizeof(pl))\n",
    "# # print ('os.listdir: %s' % sys.getsizeof(oslb))"
   ]
  },
  {
   "cell_type": "code",
   "execution_count": 9,
   "id": "f785f7a1",
   "metadata": {
    "ExecuteTime": {
     "end_time": "2025-02-03T00:40:55.124537Z",
     "start_time": "2025-02-03T00:40:55.120365Z"
    }
   },
   "outputs": [],
   "source": [
    "a_fk = 1.552\n",
    "b_fk = 3.01"
   ]
  },
  {
   "cell_type": "code",
   "execution_count": 10,
   "id": "71bfbdc6",
   "metadata": {
    "ExecuteTime": {
     "end_time": "2025-02-03T00:40:55.143263Z",
     "start_time": "2025-02-03T00:40:55.126262Z"
    }
   },
   "outputs": [],
   "source": [
    "df['a'] = df['varkappa'].round(3)\n",
    "df['b'] = (df['a']*(df['chi']-1)).round(3)\n",
    "#Q: is ^this right??\n",
    "#A: yes."
   ]
  },
  {
   "cell_type": "code",
   "execution_count": 11,
   "id": "fc138e48",
   "metadata": {
    "ExecuteTime": {
     "end_time": "2025-02-03T00:40:55.156377Z",
     "start_time": "2025-02-03T00:40:55.144222Z"
    }
   },
   "outputs": [],
   "source": [
    "df['log10b'] = np.log10(df['b']).round(5)"
   ]
  },
  {
   "cell_type": "code",
   "execution_count": 12,
   "id": "f2d64a11",
   "metadata": {
    "ExecuteTime": {
     "end_time": "2025-02-03T00:40:55.184105Z",
     "start_time": "2025-02-03T00:40:55.157429Z"
    }
   },
   "outputs": [
    {
     "data": {
      "text/plain": [
       "(0.20000000000000018, 0.013390000000000013)"
      ]
     },
     "execution_count": 12,
     "metadata": {},
     "output_type": "execute_result"
    }
   ],
   "source": [
    "a_values = df['a'].round(3).drop_duplicates().sort_values().values\n",
    "# b_values = df['b'].round(3).drop_duplicates().sort_values().values\n",
    "b_values = df['log10b'].round(5).drop_duplicates().sort_values().values\n",
    "DA = np.median(np.diff(a_values))\n",
    "DB = np.median(np.diff(b_values))\n",
    "DA,DB\n",
    "# a_values,b_values"
   ]
  },
  {
   "cell_type": "code",
   "execution_count": 13,
   "id": "c727ceb8",
   "metadata": {
    "ExecuteTime": {
     "end_time": "2025-02-03T00:40:55.233207Z",
     "start_time": "2025-02-03T00:40:55.184940Z"
    }
   },
   "outputs": [],
   "source": [
    "# df_mean = df.groupby(by=['a','b'])['TermTime'].mean()\n",
    "df_mean = df.groupby(by=['a','log10b'])['TermTime'].mean()"
   ]
  },
  {
   "cell_type": "code",
   "execution_count": 14,
   "id": "406bae35",
   "metadata": {
    "ExecuteTime": {
     "end_time": "2025-02-03T00:41:01.988854Z",
     "start_time": "2025-02-03T00:40:55.233997Z"
    }
   },
   "outputs": [],
   "source": [
    "# df_descr = df.groupby(by=['a','b'])['TermTime'].describe()\n",
    "df_descr = df.groupby(by=['a','log10b'])['TermTime'].describe()"
   ]
  },
  {
   "cell_type": "code",
   "execution_count": 15,
   "id": "0597ee1e",
   "metadata": {
    "ExecuteTime": {
     "end_time": "2025-02-03T00:41:01.992839Z",
     "start_time": "2025-02-03T00:41:01.989758Z"
    }
   },
   "outputs": [],
   "source": [
    "# np.array(df_descr.index.values)\n",
    "a_values = df_descr.reset_index()['a'].drop_duplicates().values\n",
    "# b_values = df_descr.reset_index()['b'].drop_duplicates().values\n",
    "log10b_values = df_descr.reset_index()['log10b'].drop_duplicates().values"
   ]
  },
  {
   "cell_type": "code",
   "execution_count": 16,
   "id": "59663cbc",
   "metadata": {
    "ExecuteTime": {
     "end_time": "2025-02-03T00:41:01.995938Z",
     "start_time": "2025-02-03T00:41:01.993542Z"
    }
   },
   "outputs": [
    {
     "data": {
      "text/plain": [
       "(0.0, 3.0, 0.013390000000000013)"
      ]
     },
     "execution_count": 16,
     "metadata": {},
     "output_type": "execute_result"
    }
   ],
   "source": [
    "# log10b_values = np.around(np.log10(b_values),5)\n",
    "logb_step = np.median(np.diff(log10b_values))\n",
    "logb_min = np.min(log10b_values)\n",
    "logb_max = np.max(log10b_values)\n",
    "logb_min,logb_max,logb_step"
   ]
  },
  {
   "cell_type": "code",
   "execution_count": 17,
   "id": "845016da",
   "metadata": {
    "ExecuteTime": {
     "end_time": "2025-02-03T00:41:01.997738Z",
     "start_time": "2025-02-03T00:41:01.996491Z"
    }
   },
   "outputs": [],
   "source": [
    "# np.mgrid?"
   ]
  },
  {
   "cell_type": "code",
   "execution_count": 18,
   "id": "4509d23e",
   "metadata": {
    "ExecuteTime": {
     "end_time": "2025-02-03T00:41:02.415872Z",
     "start_time": "2025-02-03T00:41:01.998491Z"
    }
   },
   "outputs": [],
   "source": [
    "x, y = np.mgrid[slice(1,10.05,0.2),\n",
    "                slice(logb_min,logb_max,logb_step)]\n",
    "# x, y = np.mgrid[slice(1,10.05,0.1),\n",
    "#                 slice(1,15.05,0.1)]\n",
    "# y, x = np.mgrid[slice(-4, 4 + dy, dy),\n",
    "#                 slice(-4, 4 + dx, dx)]\n",
    "# z = (1 - x / 3. + x ** 6 + y ** 3) * np.exp(-x ** 2 - y ** 2)\n",
    "z = x*y\n",
    "# z = z[:-1, :-1]\n",
    "z*=0\n",
    "z-=9999.\n",
    "# x[0].shape,y[:,0].shape\n",
    "d = df_descr['mean']\n",
    "# atol = 1e2\n",
    "atol=1e-3\n",
    "# atol=1e-4\n",
    "# atol=1e-5\n",
    "## atol = 13.5\n",
    "## tol = 1e2\n",
    "# for i,a in enumerate(x[0]):\n",
    "#     ia = np.argwhere(np.isclose(a_values,a,atol=atol))    \n",
    "# #     ia = np.argwhere(np.isclose(a_values,a,rtol=tol))    \n",
    "#     for j,b in enumerate(y[:,0]):\n",
    "for i,a in enumerate(x[:,0]):\n",
    "    ia = np.argwhere(np.isclose(a_values,a,atol=atol))    \n",
    "    for j,b in enumerate(y[0]):\n",
    "# for i,a in enumerate(x[0]):\n",
    "#     for j,b in enumerate(y[:,0]):\n",
    "        ib = np.argwhere(np.isclose(log10b_values,b,atol=atol))\n",
    "#         ib = np.argwhere(np.isclose(b_values,b,atol=atol))\n",
    "#         ib = np.argwhere(np.isclose(b_values,b,rtol=tol))\n",
    "        try:\n",
    "            if (ia.shape[0]>0) and (ib.shape[0]>0):\n",
    "                val = d.loc[a_values[ia[0,0]],log10b_values[ib[0,0]]]\n",
    "#                 val = d.loc[a_values[ia[0,0]],b_values[ib[0,0]]]\n",
    "                z[i-1,j-1] = val\n",
    "#                 print(f\"index found! at {i=},{j=}\")\n",
    "        except KeyError as e:\n",
    "#             print(f\"asdf\")\n",
    "            pass\n",
    "# for (a,b),row in df_descr.iterrows():\n",
    "#     val = row['mean']\n",
    "#     #record\n",
    "#     z_lst.append(val)\n",
    "#     a_set.update(set([a]))\n",
    "# # df_mean\n",
    "# nrows = len(a_set)"
   ]
  },
  {
   "cell_type": "code",
   "execution_count": 19,
   "id": "05968a9c",
   "metadata": {
    "ExecuteTime": {
     "end_time": "2025-02-03T00:41:02.419014Z",
     "start_time": "2025-02-03T00:41:02.416806Z"
    }
   },
   "outputs": [
    {
     "data": {
      "text/plain": [
       "((1, 1), (1, 1))"
      ]
     },
     "execution_count": 19,
     "metadata": {},
     "output_type": "execute_result"
    }
   ],
   "source": [
    "ia.shape,ib.shape"
   ]
  },
  {
   "cell_type": "code",
   "execution_count": 20,
   "id": "ada1c4ee",
   "metadata": {
    "ExecuteTime": {
     "end_time": "2025-02-03T00:41:02.421417Z",
     "start_time": "2025-02-03T00:41:02.419646Z"
    }
   },
   "outputs": [
    {
     "data": {
      "text/plain": [
       "0.3144952000000012"
      ]
     },
     "execution_count": 20,
     "metadata": {},
     "output_type": "execute_result"
    }
   ],
   "source": [
    "val"
   ]
  },
  {
   "cell_type": "code",
   "execution_count": 21,
   "id": "b399f7b4",
   "metadata": {
    "ExecuteTime": {
     "end_time": "2025-02-03T00:41:02.424012Z",
     "start_time": "2025-02-03T00:41:02.422044Z"
    }
   },
   "outputs": [
    {
     "data": {
      "text/plain": [
       "array([[19.1116    , 21.1976344 , 19.3274241 , ..., 12.8583991 ,\n",
       "        13.1739611 , 16.4769465 ],\n",
       "       [10.0584656 , 10.6381316 , 12.3663595 , ...,  9.3502661 ,\n",
       "        10.4007777 , 10.3500684 ],\n",
       "       [ 6.7918578 ,  7.13121576,  7.1343392 , ...,  7.2917802 ,\n",
       "         8.354706  ,  7.5301019 ],\n",
       "       ...,\n",
       "       [ 0.2301558 ,  0.2370597 ,  0.244833  , ...,  0.3188044 ,\n",
       "         0.3399703 ,  0.2425068 ],\n",
       "       [ 0.2318927 ,  0.244313  ,  0.2395959 , ...,  0.314492  ,\n",
       "         0.3144952 ,  0.2256459 ],\n",
       "       [31.5932806 , 35.633971  , 33.7384341 , ..., 21.1394884 ,\n",
       "        18.5488338 , 33.0777314 ]])"
      ]
     },
     "execution_count": 21,
     "metadata": {},
     "output_type": "execute_result"
    }
   ],
   "source": [
    "z"
   ]
  },
  {
   "cell_type": "code",
   "execution_count": 22,
   "id": "281829f1",
   "metadata": {
    "ExecuteTime": {
     "end_time": "2025-02-03T00:41:02.428459Z",
     "start_time": "2025-02-03T00:41:02.424578Z"
    }
   },
   "outputs": [
    {
     "data": {
      "text/plain": [
       "a     log10b \n",
       "1.0   0.00000    33.077731\n",
       "      0.01326    31.593281\n",
       "      0.02694    35.633971\n",
       "      0.04021    33.738434\n",
       "      0.05346    35.212301\n",
       "                   ...    \n",
       "10.0  2.94643     0.372083\n",
       "      2.95982     0.309855\n",
       "      2.97321     0.340422\n",
       "      2.98661     0.314492\n",
       "      3.00000     0.314495\n",
       "Name: mean, Length: 10896, dtype: float64"
      ]
     },
     "execution_count": 22,
     "metadata": {},
     "output_type": "execute_result"
    }
   ],
   "source": [
    "d\n",
    "# # val\n",
    "# # d.loc[ia[0],ib[0]]\n",
    "# # ia[0],ib[0]\n",
    "# # val\n",
    "# # d\n",
    "# ia = np.argwhere(np.isclose(a_values,a,atol=1e-5))    \n",
    "# ia,ib,a,b"
   ]
  },
  {
   "cell_type": "code",
   "execution_count": 23,
   "id": "3ba9e6dc",
   "metadata": {
    "ExecuteTime": {
     "end_time": "2025-02-03T00:41:02.431699Z",
     "start_time": "2025-02-03T00:41:02.429163Z"
    }
   },
   "outputs": [
    {
     "data": {
      "text/plain": [
       "array([[226]])"
      ]
     },
     "execution_count": 23,
     "metadata": {},
     "output_type": "execute_result"
    }
   ],
   "source": [
    "b_values\n",
    "# # d.loc[a].loc[b]\n",
    "# b\n",
    "# a\n",
    "# a,b\n",
    "# np.isclose(b_values,b,atol=atol)\n",
    "# np.argwhere(np.isclose(b_values,b,atol=atol))\n",
    "np.isclose(log10b_values,b,atol=atol)\n",
    "np.argwhere(np.isclose(log10b_values,b,atol=atol))"
   ]
  },
  {
   "cell_type": "code",
   "execution_count": 24,
   "id": "ac8e2758",
   "metadata": {
    "ExecuteTime": {
     "end_time": "2025-02-03T00:41:02.433955Z",
     "start_time": "2025-02-03T00:41:02.432506Z"
    }
   },
   "outputs": [],
   "source": [
    "# z = np.array(z_lst).reshape(-1,nrows)\n",
    "# z.shape"
   ]
  },
  {
   "cell_type": "code",
   "execution_count": null,
   "id": "9e03008d",
   "metadata": {},
   "outputs": [],
   "source": []
  },
  {
   "cell_type": "code",
   "execution_count": null,
   "id": "bf94bb31",
   "metadata": {},
   "outputs": [],
   "source": []
  },
  {
   "cell_type": "code",
   "execution_count": 25,
   "id": "542e0bc7",
   "metadata": {
    "ExecuteTime": {
     "end_time": "2025-02-03T00:41:02.435948Z",
     "start_time": "2025-02-03T00:41:02.434684Z"
    }
   },
   "outputs": [],
   "source": [
    "# b_values"
   ]
  },
  {
   "cell_type": "code",
   "execution_count": 26,
   "id": "46c0cf60",
   "metadata": {
    "ExecuteTime": {
     "end_time": "2025-02-03T00:41:02.441391Z",
     "start_time": "2025-02-03T00:41:02.440088Z"
    }
   },
   "outputs": [],
   "source": [
    "# df['a']*(df['chi'] - 1)"
   ]
  },
  {
   "cell_type": "code",
   "execution_count": 27,
   "id": "5f32492e",
   "metadata": {
    "ExecuteTime": {
     "end_time": "2025-02-03T00:41:02.444085Z",
     "start_time": "2025-02-03T00:41:02.442079Z"
    }
   },
   "outputs": [],
   "source": [
    "# dx, dy = 0.015, 0.05\n",
    "# xcol = 'a'\n",
    "# ycol = 'b'\n",
    "# # a_values = np.arange(1,10.05,0.1)\n",
    "# # b_values = np.arange(1,15.05,0.1)\n",
    "# # x, y = np.mgrid[iter(sorted(a_values)),\n",
    "# #                 iter(sorted(b_values))]\n",
    "# x, y = np.mgrid[slice(1,10.05,0.1),\n",
    "#                 slice(1,15.05,0.1)]\n",
    "# # y, x = np.mgrid[slice(-4, 4 + dy, dy),\n",
    "# #                 slice(-4, 4 + dx, dx)]\n",
    "# z = (1 - x / 3. + x ** 6 + y ** 3) * np.exp(-x ** 2 - y ** 2)\n",
    "# z = z[:-1, :-1]\n",
    "# z*=0\n",
    "# z-=9999.\n",
    "# ncols,nrows = x.shape\n",
    "# ncols,nrows,z.shape\n",
    "\n",
    "# zcol='TermTime'\n",
    "# # n_digits_round=7\n",
    "# n_digits_round=15\n",
    "# # atol = 1e-08\n",
    "# # atol = 1e-04\n",
    "# # atol = 1e-2\n",
    "# # atol = 1e-1#different but smaller\n",
    "# atol = 1e-0 #different\n",
    "# # atol=1e1\n",
    "# min_num_obs = 1\n",
    "# boona = ~np.isnan(df[zcol].values)\n",
    "# for i in range(ncols-1):\n",
    "#     for j in range(nrows-1):\n",
    "#         pass\n",
    "#         #compute the mean of the four corners\n",
    "# #         boo = np.isclose(df[xcol],x[i,j],atol=n_digits_round) & np.isclose(df[ycol],y[i,j],atol=n_digits_round) & boona\n",
    "# #         boo = np.isclose(df[xcol],x[i,j],atol=atol) & np.isclose(df[ycol],y[i,j],atol=atol) & boona\n",
    "#         boo = np.isclose(df[xcol],x[i,j]) & np.isclose(df[ycol],y[i,j]) & boona\n",
    "#         if sum(boo)>=min_num_obs:\n",
    "#             zvalue = df[boo][zcol].mean()\n",
    "#             #TODO: record to z[i,j] the mean of the means\n",
    "#             z[i,j] = zvalue # i*j"
   ]
  },
  {
   "cell_type": "code",
   "execution_count": 28,
   "id": "f63828a5",
   "metadata": {
    "ExecuteTime": {
     "end_time": "2025-02-03T00:41:02.446203Z",
     "start_time": "2025-02-03T00:41:02.444945Z"
    }
   },
   "outputs": [],
   "source": [
    "# beep(3)"
   ]
  },
  {
   "cell_type": "code",
   "execution_count": 29,
   "id": "5b5922c7",
   "metadata": {
    "ExecuteTime": {
     "end_time": "2025-02-03T00:41:02.448082Z",
     "start_time": "2025-02-03T00:41:02.446931Z"
    }
   },
   "outputs": [],
   "source": [
    "# assert sum(boona)/boona.shape[0]==1\n",
    "# #^that says there is no nan value"
   ]
  },
  {
   "cell_type": "code",
   "execution_count": 30,
   "id": "501c99d5",
   "metadata": {
    "ExecuteTime": {
     "end_time": "2025-02-03T00:41:02.816698Z",
     "start_time": "2025-02-03T00:41:02.448694Z"
    }
   },
   "outputs": [],
   "source": [
    "from lib.lib_care.measure._find_contours import find_contours"
   ]
  },
  {
   "cell_type": "code",
   "execution_count": 31,
   "id": "56dc062b",
   "metadata": {
    "ExecuteTime": {
     "end_time": "2025-02-03T00:41:02.818879Z",
     "start_time": "2025-02-03T00:41:02.817577Z"
    }
   },
   "outputs": [],
   "source": [
    "# find_contours?"
   ]
  },
  {
   "cell_type": "code",
   "execution_count": 32,
   "id": "beee1f4d",
   "metadata": {
    "ExecuteTime": {
     "end_time": "2025-02-03T00:41:02.823558Z",
     "start_time": "2025-02-03T00:41:02.819702Z"
    }
   },
   "outputs": [
    {
     "data": {
      "text/plain": [
       "(285, 0)"
      ]
     },
     "execution_count": 32,
     "metadata": {},
     "output_type": "execute_result"
    }
   ],
   "source": [
    "# clotting_time = 40 #s\n",
    "clotting_time = 10 #s\n",
    "contours = find_contours(z, level = clotting_time, mode = 'hard_boundary')\n",
    "# for c in contours:\n",
    "#     pass\n",
    "# c\n",
    "imax = -9999\n",
    "max_len = 0\n",
    "for i,c in enumerate(contours):\n",
    "    l = c.shape[0]\n",
    "    if l>max_len:\n",
    "        max_len = l\n",
    "        imax = i\n",
    "max_len,imax"
   ]
  },
  {
   "cell_type": "code",
   "execution_count": null,
   "id": "471a292b",
   "metadata": {},
   "outputs": [],
   "source": []
  },
  {
   "cell_type": "code",
   "execution_count": 33,
   "id": "dabe7975",
   "metadata": {
    "ExecuteTime": {
     "end_time": "2025-02-03T00:41:02.825765Z",
     "start_time": "2025-02-03T00:41:02.824305Z"
    }
   },
   "outputs": [],
   "source": [
    "# beep(3)"
   ]
  },
  {
   "cell_type": "code",
   "execution_count": 34,
   "id": "bfad70fc",
   "metadata": {
    "ExecuteTime": {
     "end_time": "2025-02-03T00:41:02.828006Z",
     "start_time": "2025-02-03T00:41:02.826739Z"
    }
   },
   "outputs": [],
   "source": [
    "# df[zcol].describe()"
   ]
  },
  {
   "cell_type": "code",
   "execution_count": 35,
   "id": "6df61b39",
   "metadata": {
    "ExecuteTime": {
     "end_time": "2025-02-03T00:41:02.830047Z",
     "start_time": "2025-02-03T00:41:02.828613Z"
    }
   },
   "outputs": [],
   "source": [
    "# df[zcol].mean()"
   ]
  },
  {
   "cell_type": "code",
   "execution_count": 36,
   "id": "ea9b4a54",
   "metadata": {
    "ExecuteTime": {
     "end_time": "2025-02-03T00:41:02.832118Z",
     "start_time": "2025-02-03T00:41:02.830868Z"
    }
   },
   "outputs": [],
   "source": [
    "# # df[boo][zcol].hist()\n",
    "# df[boo][zcol].shape"
   ]
  },
  {
   "cell_type": "code",
   "execution_count": 37,
   "id": "217f4cfb",
   "metadata": {
    "ExecuteTime": {
     "end_time": "2025-02-03T00:41:02.834064Z",
     "start_time": "2025-02-03T00:41:02.832754Z"
    }
   },
   "outputs": [],
   "source": [
    "# np.isclose?"
   ]
  },
  {
   "cell_type": "code",
   "execution_count": 38,
   "id": "fa822105",
   "metadata": {
    "ExecuteTime": {
     "end_time": "2025-02-03T00:41:03.115049Z",
     "start_time": "2025-02-03T00:41:02.834779Z"
    }
   },
   "outputs": [
    {
     "data": {
      "image/png": "[encoded data removed]",
      "text/plain": [
       "<Figure size 640x480 with 2 Axes>"
      ]
     },
     "metadata": {},
     "output_type": "display_data"
    }
   ],
   "source": [
    "fontsize=18\n",
    "# z_min, z_max = -np.abs(z).max(), np.abs(z).max()\n",
    "# z_min, z_max = 1e-9, z.max()\n",
    "# z_min, z_max = 1e-3, z.max()\n",
    "# z_min, z_max = 1e-1, z.max()\n",
    "# z_min, z_max = 1e-1, 100\n",
    "z_min, z_max = 1, 100\n",
    "# z_min, z_max = 1e1, z.max()\n",
    "# z_min, z_max = 1e-9, 1e-5\n",
    "# c = plt.pcolormesh(x, y, z, cmap ='gray_r')#, cmap='viridis')\n",
    "c = plt.pcolormesh(x, y, z, cmap ='gray_r', vmin = z_min, vmax = z_max, norm=LogNorm())#, cmap='viridis')\n",
    "cbar = plt.colorbar(c)\n",
    "cbar.set_label('Termination Time  (sec)',fontsize=fontsize)\n",
    "# cbar.set_ticklabels(fontsize=fontsize)\n",
    "\n",
    "#plot contours\n",
    "ixv = np.arange(x[:,0].shape[0])\n",
    "iyv = np.arange(y[0,:].shape[0])\n",
    "# for c in contours:\n",
    "c  = contours[imax]\n",
    "xv = np.interp(x=c[:,0], xp=ixv, fp=x[:,0])\n",
    "yv = np.interp(x=c[:,1], xp=iyv, fp=y[0,:])\n",
    "plt.plot(xv,yv,color='r',lw=2,alpha=0.8)\n",
    "\n",
    "#plot points of full models\n",
    "afull = [1.552,9.3]\n",
    "lbfull = np.log10([3.01,10.0])\n",
    "cfull = ['C0','C1']\n",
    "plt.scatter(x=[afull[0]],y=[lbfull[0]],c=[cfull[0]],zorder=10,s=50)\n",
    "plt.scatter(x=[afull[1]],y=[lbfull[1]],c=[cfull[1]],zorder=10,s=50)\n",
    "\n",
    "format_plot(xlabel=r'$a$ (cm$^2/$s)', ylabel=r'$b$ (cm$^2/$s)',fontsize=fontsize)\n",
    "# plt.ylim([7.8,15])\n",
    "# plt.title('matplotlib.pyplot.pcolormesh() function Example', fontweight =\"bold\")\n",
    "plt.yticks(range(4))\n",
    "plt.gca().set_yticklabels([r\"$10^0$\",r\"$10^1$\",r\"$10^2$\",r\"$10^3$\"])\n",
    "plt.show()"
   ]
  },
  {
   "cell_type": "code",
   "execution_count": 39,
   "id": "ae02f1fb",
   "metadata": {
    "ExecuteTime": {
     "end_time": "2025-02-03T00:41:03.117529Z",
     "start_time": "2025-02-03T00:41:03.116051Z"
    }
   },
   "outputs": [],
   "source": [
    "# TODO: increase fontsize of cbar tick labels\n",
    "# DONE: draw a red level set for a constant threshold\n",
    "# DONE: place one scatter plot point for FK in blue\n",
    "# DONE: place one scatter plot point for LR in orange\n",
    "# TODO(bonus): make a line plot with a blue,orange line for increasing b at constant a_full"
   ]
  },
  {
   "cell_type": "code",
   "execution_count": 40,
   "id": "d0f3b149",
   "metadata": {
    "ExecuteTime": {
     "end_time": "2025-02-03T00:41:03.119684Z",
     "start_time": "2025-02-03T00:41:03.118248Z"
    }
   },
   "outputs": [],
   "source": [
    "# #plot contours\n",
    "# ixv = np.arange(x[:,0].shape[0])\n",
    "# iyv = np.arange(y[0,:].shape[0])\n",
    "# # for c in contours:\n",
    "# c  = contours[0]\n",
    "# xv = np.interp(x=c[:,0], xp=ixv, fp=x[:,0])\n",
    "# yv = np.interp(x=c[:,1], xp=iyv, fp=y[0,:])\n",
    "# plt.plot(xv,yv,color='r',lw=2,alpha=0.8)"
   ]
  },
  {
   "cell_type": "code",
   "execution_count": 41,
   "id": "3ee2b291",
   "metadata": {
    "ExecuteTime": {
     "end_time": "2025-02-03T00:41:03.121753Z",
     "start_time": "2025-02-03T00:41:03.120371Z"
    }
   },
   "outputs": [],
   "source": [
    "# len(contours)"
   ]
  },
  {
   "cell_type": "code",
   "execution_count": null,
   "id": "294e89fe",
   "metadata": {},
   "outputs": [],
   "source": []
  },
  {
   "cell_type": "code",
   "execution_count": 42,
   "id": "ff31a47d",
   "metadata": {
    "ExecuteTime": {
     "end_time": "2025-02-03T00:41:03.123686Z",
     "start_time": "2025-02-03T00:41:03.122406Z"
    }
   },
   "outputs": [],
   "source": [
    "# a_values = np.arange(1,10.05,0.1)\n",
    "# b_values = np.arange(1,15.05,0.1)\n",
    "# xx, yy = np.meshgrid(a_values, b_values, sparse=True)\n",
    "# z = np.sin(xx**2 + yy**2) / (xx**2 + yy**2)"
   ]
  },
  {
   "cell_type": "code",
   "execution_count": 43,
   "id": "8a892d86",
   "metadata": {
    "ExecuteTime": {
     "end_time": "2025-02-03T00:41:03.125753Z",
     "start_time": "2025-02-03T00:41:03.124397Z"
    }
   },
   "outputs": [],
   "source": [
    "# plt.imshow(z)"
   ]
  },
  {
   "cell_type": "code",
   "execution_count": 44,
   "id": "4394a66c",
   "metadata": {
    "ExecuteTime": {
     "end_time": "2025-02-03T00:41:03.128065Z",
     "start_time": "2025-02-03T00:41:03.126489Z"
    }
   },
   "outputs": [],
   "source": [
    "# for (a,b),ts in df[['a','b','TermTime']].groupby(by=['a','b']):\n",
    "#     pass"
   ]
  },
  {
   "cell_type": "code",
   "execution_count": 45,
   "id": "1aad36bb",
   "metadata": {
    "ExecuteTime": {
     "end_time": "2025-02-03T00:41:03.130256Z",
     "start_time": "2025-02-03T00:41:03.128926Z"
    }
   },
   "outputs": [],
   "source": [
    "# tsv = ts['TermTime'].values\n",
    "# plt.hist(tsv,bins=np.arange(0,1,0.05))\n",
    "# plt.show()"
   ]
  },
  {
   "cell_type": "code",
   "execution_count": 46,
   "id": "83041dac",
   "metadata": {
    "ExecuteTime": {
     "end_time": "2025-02-03T00:41:03.132310Z",
     "start_time": "2025-02-03T00:41:03.130950Z"
    }
   },
   "outputs": [],
   "source": [
    "# a,b"
   ]
  },
  {
   "cell_type": "code",
   "execution_count": 47,
   "id": "70de4ab1",
   "metadata": {
    "ExecuteTime": {
     "end_time": "2025-02-03T00:41:03.134450Z",
     "start_time": "2025-02-03T00:41:03.132930Z"
    }
   },
   "outputs": [],
   "source": [
    "#heretim (bonus mode)\n",
    "#DONE: condense table to minimal a,b,TermTime table\n",
    "#DONE(trivially): generate spline estimate of mean value of surface in given (a,b) space\n",
    "#DONEDONE: visualize ibid\n",
    "#TODO: polish it, and scale it up as much as possible\n",
    "#TODO: put it in a nice LaTeX document and share it with wouter via Overleaf"
   ]
  },
  {
   "cell_type": "code",
   "execution_count": null,
   "id": "d3f63250",
   "metadata": {},
   "outputs": [],
   "source": []
  },
  {
   "cell_type": "code",
   "execution_count": null,
   "id": "8a84ca15",
   "metadata": {},
   "outputs": [],
   "source": []
  },
  {
   "cell_type": "code",
   "execution_count": null,
   "id": "6a6f3b2c",
   "metadata": {},
   "outputs": [],
   "source": []
  },
  {
   "cell_type": "code",
   "execution_count": null,
   "id": "5ae81558",
   "metadata": {},
   "outputs": [],
   "source": []
  },
  {
   "cell_type": "code",
   "execution_count": null,
   "id": "63e3f80f",
   "metadata": {},
   "outputs": [],
   "source": []
  },
  {
   "cell_type": "code",
   "execution_count": null,
   "id": "b0d7a832",
   "metadata": {},
   "outputs": [],
   "source": []
  },
  {
   "cell_type": "code",
   "execution_count": 48,
   "id": "d635a5df",
   "metadata": {
    "ExecuteTime": {
     "end_time": "2025-02-03T00:41:03.844902Z",
     "start_time": "2025-02-03T00:41:03.135223Z"
    }
   },
   "outputs": [
    {
     "name": "stdout",
     "output_type": "stream",
     "text": [
      "-n \u0007\n",
      "-n \u0007\n",
      "-n \u0007\n"
     ]
    },
    {
     "data": {
      "text/plain": [
       "0"
      ]
     },
     "execution_count": 48,
     "metadata": {},
     "output_type": "execute_result"
    }
   ],
   "source": [
    "beep(3)"
   ]
  },
  {
   "cell_type": "code",
   "execution_count": null,
   "id": "d657584d",
   "metadata": {},
   "outputs": [],
   "source": []
  },
  {
   "cell_type": "code",
   "execution_count": null,
   "id": "56b97c5a",
   "metadata": {},
   "outputs": [],
   "source": []
  },
  {
   "cell_type": "code",
   "execution_count": 49,
   "id": "87e93f1f",
   "metadata": {
    "ExecuteTime": {
     "end_time": "2025-02-03T00:41:03.851025Z",
     "start_time": "2025-02-03T00:41:03.847270Z"
    }
   },
   "outputs": [],
   "source": [
    "# fn_lst = os.listdir(input_folder)\n",
    "# len(fn_lst)"
   ]
  },
  {
   "cell_type": "code",
   "execution_count": 50,
   "id": "c20ec38b",
   "metadata": {
    "ExecuteTime": {
     "end_time": "2025-02-03T00:41:03.857777Z",
     "start_time": "2025-02-03T00:41:03.855357Z"
    }
   },
   "outputs": [],
   "source": [
    "# for fn in os.listdir(input_folder):\n",
    "#     pass"
   ]
  },
  {
   "cell_type": "code",
   "execution_count": 51,
   "id": "12fdca27",
   "metadata": {
    "ExecuteTime": {
     "end_time": "2025-02-03T00:41:03.865028Z",
     "start_time": "2025-02-03T00:41:03.860828Z"
    }
   },
   "outputs": [],
   "source": [
    "# fn"
   ]
  },
  {
   "cell_type": "markdown",
   "id": "438b948b",
   "metadata": {},
   "source": [
    "# make a smoothed version of the phase diagram"
   ]
  },
  {
   "cell_type": "code",
   "execution_count": 52,
   "id": "5510d173",
   "metadata": {
    "ExecuteTime": {
     "end_time": "2025-02-03T00:41:03.871620Z",
     "start_time": "2025-02-03T00:41:03.867619Z"
    }
   },
   "outputs": [],
   "source": [
    "#input: z\n",
    "#output: z_smooothed as zs "
   ]
  },
  {
   "cell_type": "code",
   "execution_count": 53,
   "id": "cf7c4dc2",
   "metadata": {
    "ExecuteTime": {
     "end_time": "2025-02-03T00:41:03.876618Z",
     "start_time": "2025-02-03T00:41:03.873187Z"
    }
   },
   "outputs": [],
   "source": [
    "@njit\n",
    "def __blur_at_pixel(inVfs,x,y):\n",
    "\t'''coefficients returned by GaussianMatrix[1] // MatrixForm'''\n",
    "\toutV  = 0.00987648 * inVfs[x-1,y+1] + 0.0796275 * inVfs[  x,y+1] + 0.00987648 * inVfs[ x +1, y + 1]\n",
    "\toutV += 0.0796275  * inVfs[x  ,y  ] + 0.641984 *  inVfs[  x,  y] + 0.0796275  * inVfs[ x +1, y    ]\n",
    "\toutV += 0.00987648 * inVfs[x-1,y-1] + 0.0796275 * inVfs[  x,y-1] + 0.00987648 * inVfs[ x +1, y - 1]\n",
    "\treturn outV"
   ]
  },
  {
   "cell_type": "code",
   "execution_count": 54,
   "id": "2c6ce7f4",
   "metadata": {
    "ExecuteTime": {
     "end_time": "2025-02-03T00:41:04.009650Z",
     "start_time": "2025-02-03T00:41:03.877584Z"
    }
   },
   "outputs": [],
   "source": [
    "zs = z.copy()\n",
    "ncol,nrow = z.shape\n",
    "for i in range(2,ncol-2):\n",
    "    for j in range(2,nrow-2):\n",
    "        zs[i,j] = __blur_at_pixel(z,i,j)\n",
    "\n",
    "niter = 7\n",
    "for k in range(niter):\n",
    "    zs2 = zs.copy()\n",
    "    for i in range(2,ncol-2):\n",
    "        for j in range(2,nrow-2):\n",
    "            zs2[i,j] = __blur_at_pixel(zs,i,j)\n",
    "    zs = zs2.copy()\n",
    "    for i in range(2,ncol-2):\n",
    "        for j in range(2,nrow-2):\n",
    "            zs[i,j] = __blur_at_pixel(zs2,i,j)\n"
   ]
  },
  {
   "cell_type": "code",
   "execution_count": 55,
   "id": "15d7a547",
   "metadata": {
    "ExecuteTime": {
     "end_time": "2025-02-03T00:41:04.012190Z",
     "start_time": "2025-02-03T00:41:04.010609Z"
    }
   },
   "outputs": [],
   "source": [
    "#TODO: figure out simple blurring"
   ]
  },
  {
   "cell_type": "code",
   "execution_count": null,
   "id": "6d3b9bd4",
   "metadata": {},
   "outputs": [],
   "source": []
  },
  {
   "cell_type": "code",
   "execution_count": 56,
   "id": "440fc0ce",
   "metadata": {
    "ExecuteTime": {
     "end_time": "2025-02-03T00:41:04.016544Z",
     "start_time": "2025-02-03T00:41:04.013035Z"
    }
   },
   "outputs": [
    {
     "data": {
      "text/plain": [
       "(243, 0)"
      ]
     },
     "execution_count": 56,
     "metadata": {},
     "output_type": "execute_result"
    }
   ],
   "source": [
    "# clotting_time = 40 #s\n",
    "clotting_time = 10 #s\n",
    "contours = find_contours(zs, level = clotting_time, mode = 'hard_boundary')\n",
    "# for c in contours:\n",
    "#     pass\n",
    "# c\n",
    "imax = -9999\n",
    "max_len = 0\n",
    "for i,c in enumerate(contours):\n",
    "    l = c.shape[0]\n",
    "    if l>max_len:\n",
    "        max_len = l\n",
    "        imax = i\n",
    "max_len,imax"
   ]
  },
  {
   "cell_type": "code",
   "execution_count": 57,
   "id": "0bc5e865",
   "metadata": {
    "ExecuteTime": {
     "end_time": "2025-02-03T00:41:04.169672Z",
     "start_time": "2025-02-03T00:41:04.017388Z"
    }
   },
   "outputs": [
    {
     "data": {
      "image/png": "[encoded data removed]",
      "text/plain": [
       "<Figure size 640x480 with 2 Axes>"
      ]
     },
     "metadata": {},
     "output_type": "display_data"
    }
   ],
   "source": [
    "fontsize=18\n",
    "# z_min, z_max = -np.abs(z).max(), np.abs(z).max()\n",
    "# z_min, z_max = 1e-9, z.max()\n",
    "# z_min, z_max = 1e-3, z.max()\n",
    "# z_min, z_max = 1e-1, z.max()\n",
    "# z_min, z_max = 1e-1, 100\n",
    "z_min, z_max = 1, 100\n",
    "# z_min, z_max = 1, 60\n",
    "# z_min, z_max = 1e1, z.max()\n",
    "# z_min, z_max = 1e-9, 1e-5\n",
    "# c = plt.pcolormesh(x, y, z, cmap ='gray_r')#, cmap='viridis')\n",
    "c = plt.pcolormesh(x, y, z, cmap ='gray_r', vmin = z_min, vmax = z_max, norm=LogNorm())#, cmap='viridis')\n",
    "# c = plt.pcolormesh(x, y, zs, cmap ='gray_r', vmin = z_min, vmax = z_max, norm=LogNorm())#, cmap='viridis')\n",
    "cbar = plt.colorbar(c)\n",
    "cbar.set_label('Termination Time  (sec)',fontsize=fontsize)\n",
    "cbar.ax.tick_params(labelsize=fontsize) \n",
    "\n",
    "#plot contours\n",
    "ixv = np.arange(x[:,0].shape[0])\n",
    "iyv = np.arange(y[0,:].shape[0])\n",
    "# for c in contours:\n",
    "c  = contours[imax]\n",
    "xv = np.interp(x=c[:,0], xp=ixv, fp=x[:,0])\n",
    "yv = np.interp(x=c[:,1], xp=iyv, fp=y[0,:])\n",
    "plt.plot(xv,yv,color='r',lw=2,alpha=0.8)\n",
    "\n",
    "#plot points of full models\n",
    "afull = [1.552,9.3]\n",
    "lbfull = np.log10([3.01,10.0])\n",
    "cfull = ['C0','C1']\n",
    "plt.scatter(x=[afull[0]],y=[lbfull[0]],c=[cfull[0]],zorder=10,s=50)\n",
    "plt.scatter(x=[afull[1]],y=[lbfull[1]],c=[cfull[1]],zorder=10,s=50)\n",
    "\n",
    "format_plot(xlabel=r'$a$ (cm$^2/$s)', ylabel=r'$b$ (cm$^2/$s)',fontsize=fontsize)\n",
    "# plt.ylim([7.8,15])\n",
    "# plt.title('matplotlib.pyplot.pcolormesh() function Example', fontweight =\"bold\")\n",
    "plt.yticks(range(4))\n",
    "plt.xlim([1,5])\n",
    "plt.gca().set_yticklabels([r\"$10^0$\",r\"$10^1$\",r\"$10^2$\",r\"$10^3$\"])\n",
    "plt.show()"
   ]
  },
  {
   "cell_type": "code",
   "execution_count": 58,
   "id": "829a3f33",
   "metadata": {
    "ExecuteTime": {
     "end_time": "2025-02-03T00:41:04.321494Z",
     "start_time": "2025-02-03T00:41:04.170528Z"
    }
   },
   "outputs": [
    {
     "data": {
      "image/png": "[encoded data removed]",
      "text/plain": [
       "<Figure size 640x480 with 2 Axes>"
      ]
     },
     "metadata": {},
     "output_type": "display_data"
    }
   ],
   "source": [
    "fontsize=18\n",
    "# z_min, z_max = -np.abs(z).max(), np.abs(z).max()\n",
    "# z_min, z_max = 1e-9, z.max()\n",
    "# z_min, z_max = 1e-3, z.max()\n",
    "# z_min, z_max = 1e-1, z.max()\n",
    "# z_min, z_max = 1e-1, 100\n",
    "z_min, z_max = 1, 100\n",
    "# z_min, z_max = 1, 60\n",
    "# z_min, z_max = 1e1, z.max()\n",
    "# z_min, z_max = 1e-9, 1e-5\n",
    "# c = plt.pcolormesh(x, y, z, cmap ='gray_r')#, cmap='viridis')\n",
    "# c = plt.pcolormesh(x, y, z, cmap ='gray_r', vmin = z_min, vmax = z_max, norm=LogNorm())#, cmap='viridis')\n",
    "c = plt.pcolormesh(x, y, zs, cmap ='gray_r', vmin = z_min, vmax = z_max, norm=LogNorm())#, cmap='viridis')\n",
    "cbar = plt.colorbar(c)\n",
    "cbar.set_label('Termination Time  (sec)',fontsize=fontsize)\n",
    "cbar.ax.tick_params(labelsize=fontsize) \n",
    "\n",
    "#plot contours\n",
    "ixv = np.arange(x[:,0].shape[0])\n",
    "iyv = np.arange(y[0,:].shape[0])\n",
    "# for c in contours:\n",
    "c  = contours[imax]\n",
    "xv = np.interp(x=c[:,0], xp=ixv, fp=x[:,0])\n",
    "yv = np.interp(x=c[:,1], xp=iyv, fp=y[0,:])\n",
    "plt.plot(xv,yv,color='r',lw=2,alpha=0.8)\n",
    "\n",
    "#plot points of full models\n",
    "afull = [1.552,9.3]\n",
    "lbfull = np.log10([3.01,10.0])\n",
    "cfull = ['C0','C1']\n",
    "plt.scatter(x=[afull[0]],y=[lbfull[0]],c=[cfull[0]],zorder=10,s=50)\n",
    "plt.scatter(x=[afull[1]],y=[lbfull[1]],c=[cfull[1]],zorder=10,s=50)\n",
    "\n",
    "format_plot(xlabel=r'$a$ (cm$^2/$s)', ylabel=r'$b$ (cm$^2/$s)',fontsize=fontsize)\n",
    "# plt.ylim([7.8,15])\n",
    "# plt.title('matplotlib.pyplot.pcolormesh() function Example', fontweight =\"bold\")\n",
    "plt.yticks(range(4))\n",
    "plt.xlim([1,5])\n",
    "plt.gca().set_yticklabels([r\"$10^0$\",r\"$10^1$\",r\"$10^2$\",r\"$10^3$\"])\n",
    "plt.show()"
   ]
  },
  {
   "cell_type": "markdown",
   "id": "6059d4d0",
   "metadata": {},
   "source": [
    "# TODO: dev line plot of mean termination time versus $b$"
   ]
  },
  {
   "cell_type": "code",
   "execution_count": 65,
   "id": "033a7a14",
   "metadata": {
    "ExecuteTime": {
     "end_time": "2025-02-03T00:46:23.614765Z",
     "start_time": "2025-02-03T00:46:23.598639Z"
    }
   },
   "outputs": [],
   "source": [
    "# x_values,y_values = df[df['a']==a_fk].sort_values(by='b')[['b','TermTime']].values.T\n",
    "dd = df[df['a']==a_fk].groupby(by='b')['TermTime'].mean()\n",
    "x_values = dd.index.values\n",
    "y_values = dd.values"
   ]
  },
  {
   "cell_type": "code",
   "execution_count": 77,
   "id": "a907ec37",
   "metadata": {
    "ExecuteTime": {
     "end_time": "2025-02-03T00:51:22.475938Z",
     "start_time": "2025-02-03T00:51:22.468498Z"
    }
   },
   "outputs": [],
   "source": [
    "def moving_average(a, n=3):\n",
    "    ret = np.cumsum(a, dtype=float)\n",
    "    ret[n:] = ret[n:] - ret[:-n]\n",
    "    return ret[n - 1:] / n"
   ]
  },
  {
   "cell_type": "code",
   "execution_count": 88,
   "id": "b718fcb7",
   "metadata": {
    "ExecuteTime": {
     "end_time": "2025-02-03T00:53:30.631378Z",
     "start_time": "2025-02-03T00:53:30.624724Z"
    }
   },
   "outputs": [],
   "source": [
    "navg = 15\n",
    "yavg_values = moving_average(y_values,n=navg)\n",
    "xavg_values = moving_average(x_values,n=navg)\n",
    "# yavg_values"
   ]
  },
  {
   "cell_type": "code",
   "execution_count": 89,
   "id": "819c1cfa",
   "metadata": {
    "ExecuteTime": {
     "end_time": "2025-02-03T00:53:31.066898Z",
     "start_time": "2025-02-03T00:53:31.060487Z"
    }
   },
   "outputs": [],
   "source": [
    "# np.ma.mean?"
   ]
  },
  {
   "cell_type": "code",
   "execution_count": 96,
   "id": "9170ba6b",
   "metadata": {
    "ExecuteTime": {
     "end_time": "2025-02-03T01:01:39.228363Z",
     "start_time": "2025-02-03T01:01:39.054988Z"
    }
   },
   "outputs": [
    {
     "data": {
      "image/png": "[encoded data removed]",
      "text/plain": [
       "<Figure size 640x480 with 1 Axes>"
      ]
     },
     "metadata": {},
     "output_type": "display_data"
    }
   ],
   "source": [
    "plt.plot(x_values,y_values,color='gray',lw=2)\n",
    "plt.plot(xavg_values,yavg_values,color='k',lw=2)\n",
    "ylim = plt.ylim()\n",
    "plt.plot([b_fk,b_fk],ylim,color='C0',lw=2)\n",
    "plt.ylim(ylim)\n",
    "# format_plot\n",
    "format_plot(fontsize=fontsize,xlabel=r'$b$ (cm$^2$/s)',ylabel='Termination Time (sec)')\n",
    "plt.xscale('log')\n",
    "plt.show()"
   ]
  },
  {
   "cell_type": "code",
   "execution_count": null,
   "id": "f1e0b7e9",
   "metadata": {},
   "outputs": [],
   "source": []
  }
 ],
 "metadata": {
  "hide_input": false,
  "kernelspec": {
   "display_name": "Python 3 (ipykernel)",
   "language": "python",
   "name": "python3"
  },
  "language_info": {
   "codemirror_mode": {
    "name": "ipython",
    "version": 3
   },
   "file_extension": ".py",
   "mimetype": "text/x-python",
   "name": "python",
   "nbconvert_exporter": "python",
   "pygments_lexer": "ipython3",
   "version": "3.9.5"
  },
  "nbTranslate": {
   "displayLangs": [
    "*"
   ],
   "hotkey": "alt-t",
   "langInMainMenu": true,
   "sourceLang": "en",
   "targetLang": "fr",
   "useGoogleTranslate": true
  },
  "toc": {
   "base_numbering": 1,
   "nav_menu": {},
   "number_sections": true,
   "sideBar": true,
   "skip_h1_title": false,
   "title_cell": "Table of Contents",
   "title_sidebar": "Contents",
   "toc_cell": false,
   "toc_position": {},
   "toc_section_display": true,
   "toc_window_display": false
  },
  "varInspector": {
   "cols": {
    "lenName": 16,
    "lenType": 16,
    "lenVar": 40
   },
   "kernels_config": {
    "python": {
     "delete_cmd_postfix": "",
     "delete_cmd_prefix": "del ",
     "library": "var_list.py",
     "varRefreshCmd": "print(var_dic_list())"
    },
    "r": {
     "delete_cmd_postfix": ") ",
     "delete_cmd_prefix": "rm(",
     "library": "var_list.r",
     "varRefreshCmd": "cat(var_dic_list()) "
    }
   },
   "types_to_exclude": [
    "module",
    "function",
    "builtin_function_or_method",
    "instance",
    "_Feature"
   ],
   "window_display": false
  }
 },
 "nbformat": 4,
 "nbformat_minor": 5
}
