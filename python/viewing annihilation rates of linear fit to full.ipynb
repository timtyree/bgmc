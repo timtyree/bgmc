{
 "cells": [
  {
   "cell_type": "markdown",
   "id": "02afbc6f",
   "metadata": {},
   "source": [
    "# viewing annihilation rates of linear fit to full\n",
    "Tim Tyree<br>\n",
    "10.15.2022"
   ]
  },
  {
   "cell_type": "code",
   "execution_count": null,
   "id": "7310d92f",
   "metadata": {
    "ExecuteTime": {
     "end_time": "2022-10-19T20:04:52.855705Z",
     "start_time": "2022-10-19T20:04:50.610394Z"
    }
   },
   "outputs": [],
   "source": [
    "from lib.my_initialization import *\n",
    "from lib import *\n",
    "#from lib.lib_care.measure.level_sets import comp_longest_level_set_and_smooth\n",
    "%load_ext autoreload\n",
    "%autoreload 2\n",
    "\n",
    "import random,scipy\n",
    "from scipy.interpolate import LinearNDInterpolator\n",
    "from scipy.interpolate import CloughTocher2DInterpolator\n",
    "from scipy.optimize import minimize\n",
    "#load libraries for color bar\n",
    "import matplotlib as mpl #for colorbar\n",
    "from matplotlib.cm import ScalarMappable\n",
    "import matplotlib.colors as colors\n",
    "import matplotlib.cbook as cbook\n",
    "from matplotlib import cm\n",
    "#def plotter_3dpoint_cloud_sample(az,...):\n",
    "from scipy import stats\n",
    "#DONE: hook this routine up to dask\n",
    "#DONT: hook this routine up to dask_cuda\n",
    "# import scanpy as sc\n",
    "\n",
    "import warnings\n",
    "warnings.simplefilter(\"ignore\", UserWarning)\n",
    "%load_ext autoreload\n",
    "%autoreload 2\n",
    "# import cupy as cp\n",
    "np.random.seed(42)\n",
    "# cp.random.seed(42)"
   ]
  },
  {
   "cell_type": "code",
   "execution_count": null,
   "id": "662a910f",
   "metadata": {
    "ExecuteTime": {
     "end_time": "2022-10-19T20:04:52.880163Z",
     "start_time": "2022-10-19T20:04:52.859364Z"
    }
   },
   "outputs": [],
   "source": [
    "#reset matplotlib settings\n",
    "from mpltools import annotation\n",
    "import matplotlib as mpl\n",
    "sns.reset_orig()\n",
    "mpl.rc_file_defaults()"
   ]
  },
  {
   "cell_type": "code",
   "execution_count": null,
   "id": "4096ae01",
   "metadata": {
    "ExecuteTime": {
     "end_time": "2022-10-19T20:04:52.916192Z",
     "start_time": "2022-10-19T20:04:52.884392Z"
    }
   },
   "outputs": [],
   "source": [
    "darkmode=True\n",
    "if darkmode:\n",
    "    # For darkmode plots\n",
    "    from jupyterthemes import jtplot\n",
    "    jtplot.style(theme='monokai', context='notebook', ticks=True, grid=False)\n",
    "#     theme=cuxfilter.themes.dark\n",
    "#     #     theme=cuxfilter.themes.rapids\n",
    "else:\n",
    "    sns.set_style('white')\n",
    "#     theme=cuxfilter.themes.light"
   ]
  },
  {
   "cell_type": "code",
   "execution_count": null,
   "id": "40644afd",
   "metadata": {
    "ExecuteTime": {
     "end_time": "2022-10-19T20:04:53.712786Z",
     "start_time": "2022-10-19T20:04:52.920213Z"
    }
   },
   "outputs": [],
   "source": [
    "import panel as pn\n",
    "# pn.extension('tabulator', sizing_mode=\"stretch_width\")\n",
    "# pn.extension('katex', 'mathjax')\n"
   ]
  },
  {
   "cell_type": "code",
   "execution_count": null,
   "id": "b8b7a868",
   "metadata": {
    "ExecuteTime": {
     "end_time": "2022-10-19T20:04:55.212395Z",
     "start_time": "2022-10-19T20:04:54.116782Z"
    }
   },
   "outputs": [],
   "source": [
    "import hvplot.pandas\n",
    "import holoviews as hv\n",
    "hv.extension('bokeh')"
   ]
  },
  {
   "cell_type": "code",
   "execution_count": null,
   "id": "1f4c0d24",
   "metadata": {
    "ExecuteTime": {
     "end_time": "2022-10-19T20:05:02.251986Z",
     "start_time": "2022-10-19T20:04:55.218064Z"
    }
   },
   "outputs": [],
   "source": [
    "import umap\n",
    "import umap.plot"
   ]
  },
  {
   "cell_type": "markdown",
   "id": "970729a4",
   "metadata": {},
   "source": [
    "# define module"
   ]
  },
  {
   "cell_type": "code",
   "execution_count": null,
   "id": "9fcad5d2",
   "metadata": {},
   "outputs": [],
   "source": []
  },
  {
   "cell_type": "markdown",
   "id": "7b1c2fb2",
   "metadata": {},
   "source": [
    "# init for interactive viewer"
   ]
  },
  {
   "cell_type": "code",
   "execution_count": null,
   "id": "24e70536",
   "metadata": {
    "ExecuteTime": {
     "end_time": "2022-10-19T20:05:02.315716Z",
     "start_time": "2022-10-19T20:05:02.256008Z"
    }
   },
   "outputs": [],
   "source": [
    "#define function to determine environment\n",
    "def environment():\n",
    "    try:\n",
    "        get_ipython()\n",
    "        return \"notebook\"\n",
    "    except:\n",
    "        return \"server\"\n",
    "print(f\"{environment()=}\")\n",
    "#define color palette\n",
    "# PALETTE = [\"#ff6f69\", \"#ffcc5c\", \"#88d8b0\", ] #jammin\n",
    "PALETTE = [\"#ff6f69\", \"#b103fc\", \"#624c6b\", \"#27663e\"] #darkula\n",
    "print(f\"color palette:\")\n",
    "pn.Row(*[pn.layout.HSpacer(height=50, background=x) for x in PALETTE])"
   ]
  },
  {
   "cell_type": "markdown",
   "id": "6da74d45",
   "metadata": {},
   "source": [
    "# define dataframe pipeline"
   ]
  },
  {
   "cell_type": "code",
   "execution_count": null,
   "id": "d608e32c",
   "metadata": {
    "ExecuteTime": {
     "end_time": "2022-10-18T23:22:40.537460Z",
     "start_time": "2022-10-18T23:22:40.495927Z"
    }
   },
   "outputs": [],
   "source": []
  },
  {
   "cell_type": "markdown",
   "id": "1dd65643",
   "metadata": {},
   "source": [
    "# DONE: basic viewer of mle fits"
   ]
  },
  {
   "cell_type": "code",
   "execution_count": null,
   "id": "279d6b72",
   "metadata": {
    "ExecuteTime": {
     "end_time": "2022-10-19T20:05:09.208669Z",
     "start_time": "2022-10-19T20:05:09.183018Z"
    }
   },
   "outputs": [],
   "source": [
    "#basic viewer for mle fits\n",
    "kwargs = dict(data_fk_dir=f'{nb_dir}/data/full_results/data_fig4_vidmar_fk_tt.csv',\n",
    "              data_lr_dir=f'{nb_dir}/data/full_results/data_fig4_vidmar_lr_tt.csv',\n",
    "             min_num_particles=9)"
   ]
  },
  {
   "cell_type": "code",
   "execution_count": null,
   "id": "8f463d29",
   "metadata": {
    "ExecuteTime": {
     "end_time": "2022-10-19T20:05:09.873246Z",
     "start_time": "2022-10-19T20:05:09.646837Z"
    }
   },
   "outputs": [],
   "source": [
    "latest_run_num=29\n",
    "run_num_lst = list(reversed(list(np.arange(14,latest_run_num+1))))\n",
    "# run_num_lst=[25,17]\n",
    "# run_num_lst=[25,19]\n",
    "# run_num_lst=[25,24]\n",
    "# run_num_lst = list(np.arange(12,26))\n",
    "# run_num_lst = list(np.arange(26,14))\n",
    "run_num_lst=[25,18]\n",
    "# run_num_lst=[28,18]\n",
    "run_num_lst=[28,29]\n",
    "# run_num_lst=[25,29]\n",
    "# run_num_lst=[30,29]\n",
    "# run_num_lst=[32,29]\n",
    "run_num_lst=[32,29]\n",
    "#note 31==30...\n",
    "# run_num_lst=[28,29]  #what is in Particle_Paper\n",
    "# run_num_lst=[30,33]\n",
    "# run_num_lst=[28,33]\n",
    "# run_num_lst=[28,19]\n",
    "run_num_lst=[28,33]\n",
    "#heretim\n",
    "\n",
    "\n",
    "\n",
    "use_filterby_neighbor=True\n",
    "# neighbor=0\n",
    "neighbor=1\n",
    "\n",
    "use_filterby_minN=True\n",
    "minN=9\n",
    "\n",
    "use_filterby_amax=True\n",
    "min_amax=1.\n",
    "\n",
    "# neighbor=1\n",
    "remove_no_diffusion=True\n",
    "# Dinf=0\n",
    "Dinf=0.01\n",
    "num_digits_round_amax=3\n",
    "# run_num=25 #L=5 cm\n",
    "# run_num=18 #L=10 cm\n",
    "gmin_fk_lst=[]\n",
    "gmin_lr_lst=[]\n",
    "log_dir_fk_lst=[]\n",
    "log_dir_lr_lst=[]\n",
    "dict_results_fk_lst=[]\n",
    "dict_results_lr_lst=[]\n",
    "# for run_num in [25,18]: #chosen exemplar pair\n",
    "for run_num in run_num_lst:\n",
    "    parquet_dir_defects_fk=f'{nb_dir}/data/osg_output/run_{run_num}_defects_to_fk.parquet'\n",
    "    parquet_dir_defects_lr=f'{nb_dir}/data/osg_output/run_{run_num}_defects_to_lr.parquet'\n",
    "    input_folder=f'{nb_dir}/data/osg_output/run_{run_num}_all'\n",
    "#     parquet_dir_defects_fk=f'/home/timothytyree/Documents/GitHub/bgmc/python/data/osg_output/run_{run_num}_defects_to_fk.parquet'\n",
    "#     parquet_dir_defects_lr=f'/home/timothytyree/Documents/GitHub/bgmc/python/data/osg_output/run_{run_num}_defects_to_lr.parquet'\n",
    "#     input_folder=f'/home/timothytyree/Documents/GitHub/bgmc/python/data/osg_output/run_{run_num}_all'\n",
    "    #load data\n",
    "    df_defects_fk=pd.read_parquet(parquet_dir_defects_fk)\n",
    "    df_defects_lr=pd.read_parquet(parquet_dir_defects_lr)\n",
    "    \n",
    "    #filterby neighbor\n",
    "    if use_filterby_neighbor:\n",
    "        df_defects_fk = df_defects_fk[df_defects_fk['neighbor']==neighbor].copy()\n",
    "        df_defects_lr = df_defects_lr[df_defects_lr['neighbor']==neighbor].copy()\n",
    "    \n",
    "    #compute order parameter for each member a=amax-2*D\n",
    "    #add columns for amax\n",
    "    df_defects_fk['amax'] = np.around(df_defects_fk['varkappa'] + 2.*df_defects_fk['D'],num_digits_round_amax)\n",
    "    df_defects_lr['amax'] = np.around(df_defects_lr['varkappa'] + 2.*df_defects_lr['D'],num_digits_round_amax)\n",
    "    \n",
    "    if remove_no_diffusion:\n",
    "        df_defects_fk = df_defects_fk[df_defects_fk['D']>Dinf].copy()\n",
    "        df_defects_lr = df_defects_lr[df_defects_lr['D']>Dinf].copy()\n",
    "        \n",
    "    if use_filterby_amax:\n",
    "        df_defects_fk = df_defects_fk[df_defects_fk['amax']>min_amax].copy()\n",
    "        df_defects_lr = df_defects_lr[df_defects_lr['amax']>min_amax].copy()\n",
    "        \n",
    "    \n",
    "    #identify the lowest error simulation for each amax value\n",
    "    print(f\"\\n**************************************\")\n",
    "    print(f\"* Fenton-Karma Model (best settings):\")\n",
    "    print(f\"**************************************\")\n",
    "    minrmse=9999.\n",
    "    supamax=40.\n",
    "    #supamax=1.8\n",
    "    #supamax=40.\n",
    "    for amax,g in df_defects_fk.groupby(by='amax'):\n",
    "        rmse_min = g['rmse'].min()\n",
    "        count = g['rmse'].count()\n",
    "        log_likelihood = g['log_likelihood'].max()\n",
    "        if (rmse_min<=minrmse)&(amax<=supamax):\n",
    "            minrmse=rmse_min\n",
    "            gmin_fk=g.copy()\n",
    "            print_str =f\"{amax=:.4f}, {rmse_min=:.4f}, {log_likelihood=:.4f}, {count=}\"\n",
    "    print(print_str)\n",
    "    gmin_fk.sort_values(by='D',inplace=True)\n",
    "    \n",
    "\n",
    "    #find best simulation for the full model at this avalue\n",
    "#     dg_fk=gmin_fk[gmin_fk['rmse'] == gmin_fk['rmse'].min()].copy()\n",
    "    dg_fk=gmin_fk[gmin_fk['log_likelihood'] == gmin_fk['log_likelihood'].max()].copy()\n",
    "    dg_fk['run']=run_num\n",
    "    df_defects_fk['run']=run_num\n",
    "    dg_fk['model']='Fenton-Karma'\n",
    "    cluster_index,job_index = dg_fk[['cluster_index','job_index']].values.T\n",
    "    input_fn = os.path.join(input_folder,f\"job.out.{int(cluster_index)}.{int(job_index)}\")\n",
    "    #assert os.path.exists(input_fn)\n",
    "    if os.path.exists(input_fn):\n",
    "        input_fn_fk=input_fn\n",
    "        df_fit_fk,dict_linear_fit_fk = routine_measure_annihilation_defect(input_fn,printing=True,**kwargs)\n",
    "        amax_fk=dg_fk['amax'].median()\n",
    "        rmse_fk=dg_fk['rmse'].median()\n",
    "        L = dg_fk['L'].median()\n",
    "        print(f\"\\nbest fit for Fenton-Karma: RMSE: {rmse_fk:.4f} Hz/cm^2, amax: {amax_fk:.4f} cm^2/s, L: {L} cm\")\n",
    "        print(f\"{input_fn_fk=}\")\n",
    "        #record\n",
    "        dict_results_fk=dict(\n",
    "            model_name='Fenton-Karma',\n",
    "            amax=amax_fk,\n",
    "            rmse=rmse_fk,\n",
    "            L=L,\n",
    "            df_fit=df_fit_fk,\n",
    "            dg_fit=dg_fk,\n",
    "            dict_linear_fit=dict_linear_fit_fk,\n",
    "            filename=input_fn_fk,\n",
    "            gmin=gmin_fk)\n",
    "        dict_results_fk_lst.append(dict_results_fk)\n",
    "        gmin_fk_lst.append(gmin_fk)\n",
    "        log_dir_fk_lst.append(input_fn)\n",
    "    \n",
    "    #identify the lowest error simulation for each amax value\n",
    "    print(f\"\\n**************************************\")\n",
    "    print(f\"* Luo-Rudy Model (best settings):\")\n",
    "    print(f\"**************************************\")\n",
    "    minrmse=9999.\n",
    "    supamax=40\n",
    "    #supamax=10.2\n",
    "    for amax,g in df_defects_lr.groupby(by='amax'):\n",
    "        rmse_min = g['rmse'].min()\n",
    "        count = g['rmse'].count()\n",
    "        log_likelihood = g['log_likelihood'].max()\n",
    "        if (rmse_min<=minrmse)&(amax<=supamax):\n",
    "            minrmse=rmse_min\n",
    "            gmin_lr=g.copy()\n",
    "            print_str =f\"{amax=:.4f}, {rmse_min=:.4f}, {log_likelihood=:.4f}, {count=}\"\n",
    "    print(print_str)        \n",
    "    gmin_lr.sort_values(by='D',inplace=True)\n",
    "    \n",
    "    #find best simulation for the full model at this avalue\n",
    "#     dg_lr=gmin_lr[gmin_lr['rmse'] == gmin_lr['rmse'].min()].copy()\n",
    "    dg_lr=gmin_lr[gmin_lr['log_likelihood'] == gmin_lr['log_likelihood'].max()].copy()\n",
    "    dg_lr['run']=run_num\n",
    "    df_defects_fk['run']=run_num\n",
    "    dg_lr['model']='Luo-Rudy'\n",
    "    cluster_index,job_index = dg_lr[['cluster_index','job_index']].values.T\n",
    "    input_fn = os.path.join(input_folder,f\"job.out.{int(cluster_index)}.{int(job_index)}\")\n",
    "    #assert os.path.exists(input_fn)\n",
    "    if os.path.exists(input_fn):\n",
    "        input_fn_lr=input_fn\n",
    "        df_fit_lr,dict_linear_fit_lr = routine_measure_annihilation_defect(input_fn,printing=True,**kwargs)\n",
    "        amax_lr=dg_fk['amax'].median()\n",
    "        rmse_lr=dg_lr['rmse'].median()\n",
    "        L = dg_lr['L'].median()\n",
    "        print(f\"\\nbest fit for Luo-Rudy: RMSE: {rmse_lr:.4f} Hz/cm^2, amax: {amax_lr:.4f} cm^2/s, L: {L} cm\")\n",
    "        print(f\"{input_fn_lr=}\")\n",
    "        #record\n",
    "        dict_results_lr=dict(\n",
    "            model_name='Luo-Rudy',\n",
    "            amax=amax_lr,\n",
    "            rmse=rmse_lr,\n",
    "            L=L,\n",
    "            df_fit=df_fit_lr,\n",
    "            dg_fit=dg_lr,\n",
    "            dict_linear_fit=dict_linear_fit_lr,\n",
    "            filename=input_fn_lr,\n",
    "            gmin=gmin_lr)\n",
    "        dict_results_lr_lst.append(dict_results_lr)\n",
    "        gmin_lr_lst.append(gmin_lr)\n",
    "        log_dir_lr_lst.append(input_fn)\n",
    "\n",
    "#     print(f\"\\nparameter range supported in run #{run_num}:\")\n",
    "#     print(f\"number of trials: {df_defects_lr.shape[0]}\")\n",
    "#     print(df_defects_lr.describe()[['r','kappa','D','varkappa','amax','L','neighbor']].T[['min','max']].T)"
   ]
  },
  {
   "cell_type": "code",
   "execution_count": null,
   "id": "8f2157f4",
   "metadata": {
    "ExecuteTime": {
     "end_time": "2022-10-19T20:05:10.462753Z",
     "start_time": "2022-10-19T20:05:10.383802Z"
    }
   },
   "outputs": [],
   "source": [
    "# run_num=33 #all alinear estimators at L=10\n",
    "# run_num=32 #all constrained to observed at L=5\n",
    "# run_num=28  #what is in Particle_Paper\n",
    "parquet_dir_defects_fk=f'{nb_dir}/data/osg_output/run_{run_num}_defects_to_fk.parquet'\n",
    "parquet_dir_defects_lr=f'{nb_dir}/data/osg_output/run_{run_num}_defects_to_lr.parquet'\n",
    "input_folder=f'{nb_dir}/data/osg_output/run_{run_num}_all'\n",
    "#     parquet_dir_defects_fk=f'/home/timothytyree/Documents/GitHub/bgmc/python/data/osg_output/run_{run_num}_defects_to_fk.parquet'\n",
    "#     parquet_dir_defects_lr=f'/home/timothytyree/Documents/GitHub/bgmc/python/data/osg_output/run_{run_num}_defects_to_lr.parquet'\n",
    "#     input_folder=f'/home/timothytyree/Documents/GitHub/bgmc/python/data/osg_output/run_{run_num}_all'\n",
    "#load data\n",
    "df_defects_fk=pd.read_parquet(parquet_dir_defects_fk)\n",
    "df_defects_lr=pd.read_parquet(parquet_dir_defects_lr)\n",
    "\n",
    "#filterby neighbor\n",
    "if use_filterby_neighbor:\n",
    "    df_defects_fk = df_defects_fk[df_defects_fk['neighbor']==neighbor].copy()\n",
    "    df_defects_lr = df_defects_lr[df_defects_lr['neighbor']==neighbor].copy()\n",
    "\n",
    "#compute order parameter for each member a=amax-2*D\n",
    "#add columns for amax\n",
    "df_defects_fk['amax'] = np.around(df_defects_fk['varkappa'] + 2.*df_defects_fk['D'],num_digits_round_amax)\n",
    "df_defects_lr['amax'] = np.around(df_defects_lr['varkappa'] + 2.*df_defects_lr['D'],num_digits_round_amax)\n",
    "\n",
    "if remove_no_diffusion:\n",
    "    df_defects_fk = df_defects_fk[df_defects_fk['D']>Dinf].copy()\n",
    "    df_defects_lr = df_defects_lr[df_defects_lr['D']>Dinf].copy()\n",
    "\n",
    "if use_filterby_amax:\n",
    "    df_defects_fk = df_defects_fk[df_defects_fk['amax']>min_amax].copy()\n",
    "    df_defects_lr = df_defects_lr[df_defects_lr['amax']>min_amax].copy()"
   ]
  },
  {
   "cell_type": "code",
   "execution_count": null,
   "id": "078d28d2",
   "metadata": {
    "ExecuteTime": {
     "end_time": "2022-10-19T20:05:12.298811Z",
     "start_time": "2022-10-19T20:05:11.499305Z"
    }
   },
   "outputs": [],
   "source": [
    "dict_wjr = recall_death_rates_vidmar_rappel(**kwargs)\n",
    "fk=dict_wjr['fk']\n",
    "lr=dict_wjr['lr']\n",
    "\n",
    "use_filterby_minN=True\n",
    "minN=10\n",
    "# minN=8\n",
    "# figsize = (6, 4)  #(5,4)\n",
    "figsize = (4, 4)  #(5,4)\n",
    "fontsize=16\n",
    "\n",
    "# x1lim=[0.008, 11]\n",
    "x1lim=[0.08, 11]\n",
    "x2lim=[0.01, 250]\n",
    "\n",
    "\n",
    "fig, ax = plt.subplots(figsize=figsize)\n",
    "\n",
    "\n",
    "\n",
    "ax = plot_death_rates_loglog_full(fk,lr,ax=ax,fontsize=fontsize,x1lim=x1lim, x2lim=x2lim)\n",
    "\n",
    "# Linear Particle (L=5)\n",
    "df_fit_fk = dict_results_fk_lst[0]['df_fit'].copy()\n",
    "dg_fit_fk = dict_results_fk_lst[0]['dg_fit'].copy()\n",
    "df_fit_lr = dict_results_lr_lst[0]['df_fit'].copy()\n",
    "dg_fit_lr = dict_results_lr_lst[0]['dg_fit'].copy()\n",
    "\n",
    "if use_filterby_minN:\n",
    "    df_fit_fk = df_fit_fk[df_fit_fk['N']>=minN].copy()\n",
    "    df_fit_lr = df_fit_lr[df_fit_lr['N']>=minN].copy()\n",
    "\n",
    "df_fit_fk.plot(x='q',y='w',alpha=0.7,ax=ax,color='k',label=r'Lin. (A=25 cm$^2$)')#f'Lin. Particle (L=5)')\n",
    "df_fit_lr.plot(x='q',y='w',alpha=0.7,ax=ax,color='k',label='_Best Fit to LR')\n",
    "# df_fit_fk.plot(x='q',y='w',alpha=0.7,ax=ax,color='k',label=r'Particle (A=25 cm$^2$)')#f'Lin. Particle (L=5)')\n",
    "# df_fit_fk.plot(x='q',y='w',alpha=0.7,ax=ax,color='k',label=r'Linear Particle (A=25 cm$^2$)')#f'Lin. Particle (L=5)')\n",
    "# df_fit_lr.plot(x='q',y='w',alpha=0.7,ax=ax,color='k',label='_Best Fit to LR')\n",
    "\n",
    "# Linear Particle (L=10)\n",
    "df_fit_fk = dict_results_fk_lst[1]['df_fit'].copy()\n",
    "dg_fit_fk = dict_results_fk_lst[1]['dg_fit'].copy()\n",
    "df_fit_lr = dict_results_lr_lst[1]['df_fit'].copy()\n",
    "dg_fit_lr = dict_results_lr_lst[1]['dg_fit'].copy()\n",
    "\n",
    "if use_filterby_minN:\n",
    "    df_fit_fk = df_fit_fk[df_fit_fk['N']>=minN].copy()\n",
    "    df_fit_lr = df_fit_lr[df_fit_lr['N']>=minN].copy()\n",
    "\n",
    "   \n",
    "df_fit_fk.plot(x='q',y='w',alpha=0.7,ax=ax,color='r',label=r'Lin. (A=100 cm$^2$)')#f'Lin. Particle (L=5)')\n",
    "df_fit_lr.plot(x='q',y='w',alpha=0.7,ax=ax,color='r',label='_Best Fit to LR')\n",
    "# df_fit_fk.plot(x='q',y='w',alpha=0.7,ax=ax,color='r',label=r'Linear Particle (A=100 cm$^2$)')#)f'Lin. Particle (L=10)')\n",
    "# # df_fit_fk.plot(x='q',y='w',alpha=0.7,ax=ax,color='r',label=f'Linear Particle (L=10)')#,label='_Best Fit to FK')\n",
    "# # df_fit_fk.plot(x='q',y='w',alpha=0.7,ax=ax,color='r',label=r'Lin. Particle (A=100 cm$^2$)')#)f'Lin. Particle (L=10)')\n",
    "# # df_fit_fk.plot(x='q',y='w',alpha=0.7,ax=ax,color='r',label=r'Particle (A=100 cm$^2$)')#)f'Lin. Particle (L=10)')\n",
    "# df_fit_lr.plot(x='q',y='w',alpha=0.7,ax=ax,color='r',label='_Best Fit to LR')\n",
    "\n",
    "# format_plot\n",
    "ax.tick_params(top=True, right=True,direction='in',which='both')\n",
    "format_plot(ax=ax,xlabel=r'$n$ (1/cm$^2$)',ylabel=r'$w_-$ (Hz/cm$^2$)',fontsize=fontsize,use_loglog=True)\n",
    "# format_plot(ax=ax,xlabel=r'$q$ (1/cm$^2$)',ylabel=r'$w_-$ (Hz/cm$^2$)',fontsize=fontsize,use_loglog=True)\n",
    "# ax.legend(loc='upper left',fontsize=fontsize-2)\n",
    "# ax.legend(loc='lower right',fontsize=fontsize-2.,frameon=False,ncol=2)\n",
    "# leg = ax.legend(loc=(1.04,0.2),fontsize=fontsize-2.,frameon=False)\n",
    "# leg = ax.legend(loc='upper left',fontsize=fontsize-3.,frameon=False,ncol=1)\n",
    "leg = ax.legend(loc='lower right',fontsize=fontsize-3.,frameon=False,ncol=1)\n",
    "for lh in leg.legendHandles: \n",
    "    lh.set_alpha(1)\n",
    "# ax.get_legend().remove()\n",
    "\n",
    "# x1lim = [8e-3, 1.1]  \n",
    "# x2lim = [1e-2, 25]\n",
    "# ax.set_xlim(x1lim)\n",
    "# ax.set_ylim(x2lim)\n",
    "\n",
    "#add annotation\n",
    "# xytext=(0.09, 10)\n",
    "# xytext=(0.01, 90)\n",
    "# ax.annotate(r\"best fit ($a>0$)\", xy=xy, xytext=xytext,fontsize=fontsize)\n",
    "# .tick_params(labelbottom=False, labeltop=True, labelleft=False, labelright=False,\n",
    "#                      bottom=False, top=True, left=False, right=False)\n",
    "# xytext=(0.01, 40)\n",
    "# xy=(0.3, 11)\n",
    "# ax.annotate(r\"$a_{max}$ = const.\", xy=xy, xytext=(0.01, 40),fontsize=fontsize-2)\n",
    "# ax.annotate(r\"$a_{max}$ fixed to observed\", xy=xy, xytext=(0.01, 40),fontsize=fontsize-2)\n",
    "# ax.annotate(r\"$a_{max}$ fixed to observation\"+f\"\\nfrom MSR of full\", xy=xy, xytext=(0.01, 40),fontsize=fontsize-2)\n",
    "# #add marker showing the slope of ~2\n",
    "# annotation.slope_marker(origin=(.75, 2.0),\n",
    "#                         slope=2,\n",
    "#                         text_kwargs={'color': 'black','fontsize':16, 'alpha':0.7},\n",
    "#                         poly_kwargs={'facecolor': (0.5, 0.5, 0.5), 'alpha':0.5},\n",
    "#                         ax=ax)\n",
    "print(f\"{run_num_lst=}\")\n",
    "# print(f\"{neighbor_lst=}\")\n",
    "plt.show()"
   ]
  },
  {
   "cell_type": "code",
   "execution_count": null,
   "id": "605c67a2",
   "metadata": {
    "ExecuteTime": {
     "end_time": "2022-10-19T19:59:43.495530Z",
     "start_time": "2022-10-19T19:59:43.466269Z"
    }
   },
   "outputs": [],
   "source": [
    "#heretim\n",
    "#TODO: constrain ^that to desired a,D values by selecting them from df_defects_fk,lr\n",
    "#TODO: plot all reasonably close fits from the linear particle model. \n",
    "# Q: do any appear to match exponents at high density?\n",
    "#TODO: recompute likliehood using linearly extrapolated powerlaw from full\n",
    "#TODO(later, bonus): consider making a dask dashboard with umap on the left with each point selecting a different linear particle model fit on the right"
   ]
  },
  {
   "cell_type": "markdown",
   "id": "0ff574ac",
   "metadata": {
    "heading_collapsed": true
   },
   "source": [
    "# identify the lowest error simulation for each amax value"
   ]
  },
  {
   "cell_type": "code",
   "execution_count": null,
   "id": "92547ff1",
   "metadata": {
    "ExecuteTime": {
     "end_time": "2022-10-19T20:05:18.996348Z",
     "start_time": "2022-10-19T20:05:18.660854Z"
    },
    "hidden": true,
    "scrolled": true
   },
   "outputs": [],
   "source": [
    "print(f\"\\n**************************************\")\n",
    "print(f\"* Fenton-Karma Model (best settings):\")\n",
    "print(f\"**************************************\")\n",
    "minrmse=9999.\n",
    "supamax=40.\n",
    "#supamax=1.8\n",
    "#supamax=40.\n",
    "gmin_fk_lst=[]\n",
    "dict_results_fk_lst=[]\n",
    "for amax,g in df_defects_fk.groupby(by='amax'):\n",
    "    rmse_min = g['rmse'].min()\n",
    "    count = g['rmse'].count()\n",
    "    log_likelihood = g['log_likelihood'].max()\n",
    "    #if (rmse_min<=minrmse)&(amax<=supamax):\n",
    "    minrmse=rmse_min\n",
    "    gmin_fk=g.copy()\n",
    "    gmin_fk.sort_values(by='D',inplace=True)\n",
    "    print_str =f\"{amax=:.4f}, {rmse_min=:.4f}, {count=}, {log_likelihood=:.4f}, {gmin_fk['D'].drop_duplicates().values}\"\n",
    "    print(print_str)\n",
    "    #TODO: identify xy values of the mle fit\n",
    "        #find best simulation for the full model at this avalue\n",
    "#     dg_fk=gmin_fk[gmin_fk['rmse'] == gmin_fk['rmse'].min()].copy()\n",
    "    dg_fk=gmin_fk[gmin_fk['log_likelihood'] == gmin_fk['log_likelihood'].max()].copy()\n",
    "    dg_fk['run']=run_num\n",
    "    df_defects_fk['run']=run_num\n",
    "    dg_fk['model']='Fenton-Karma'\n",
    "    cluster_index,job_index = dg_fk[['cluster_index','job_index']].values.T\n",
    "    input_fn = os.path.join(input_folder,f\"job.out.{int(cluster_index)}.{int(job_index)}\")\n",
    "    #assert os.path.exists(input_fn)\n",
    "    if os.path.exists(input_fn):\n",
    "        input_fn_fk=input_fn\n",
    "        df_fit_fk,dict_linear_fit_fk = routine_measure_annihilation_defect(input_fn,printing=True,**kwargs)\n",
    "        amax_fk=dg_fk['amax'].median()\n",
    "        rmse_fk=dg_fk['rmse'].median()\n",
    "        L = dg_fk['L'].median()\n",
    "        #print(f\"- best fit RMSE: {rmse_fk:.4f} Hz/cm^2, amax: {amax_fk:.4f} cm^2/s, L: {L} cm\")\n",
    "        #print(f\"{input_fn_fk=}\")\n",
    "        #record\n",
    "        dict_results_fk=dict(\n",
    "            model_name='Fenton-Karma',\n",
    "            amax=amax_fk,\n",
    "            rmse=rmse_fk,\n",
    "            L=L,\n",
    "            df_fit=df_fit_fk,\n",
    "            dg_fit=dg_fk,\n",
    "            dict_linear_fit=dict_linear_fit_fk,\n",
    "            filename=input_fn_fk,\n",
    "            gmin=gmin_fk)\n",
    "        dict_results_fk_lst.append(dict_results_fk)\n",
    "    \n",
    "    #TODO: estimate powerlaw from xy values\n",
    "    #Q: howdo not include q too small\n",
    "    #A: try filter by min_N>10 like before \n",
    "    \n",
    "    #TODO: print the exponent +/- 95%CI for the above powerlaw fit\n",
    "    \n",
    "\n",
    "        gmin_fk_lst.append(gmin_fk)\n",
    "\n",
    "\n",
    "#identify the lowest error simulation for each amax value\n",
    "print(f\"\\n**************************************\")\n",
    "print(f\"* Luo-Rudy Model (best settings):\")\n",
    "print(f\"**************************************\")\n",
    "minrmse=9999.\n",
    "supamax=40.\n",
    "#supamax=1.8\n",
    "#supamax=40.\n",
    "gmin_lr_lst=[]\n",
    "dict_results_lr_lst=[]\n",
    "for amax,g in df_defects_lr.groupby(by='amax'):\n",
    "    rmse_min = g['rmse'].min()\n",
    "    count = g['rmse'].count()\n",
    "    log_likelihood = g['log_likelihood'].max()\n",
    "    #if (rmse_min<=minrmse)&(amax<=supamax):\n",
    "    minrmse=rmse_min\n",
    "    gmin_lr=g.copy()\n",
    "    gmin_lr.sort_values(by='D',inplace=True)\n",
    "    print_str =f\"{amax=:.4f}, {rmse_min=:.4f}, {count=}, {log_likelihood=:.4f}, {gmin_lr['D'].drop_duplicates().values}\"\n",
    "    print(print_str)\n",
    "    #identify xy values of the mle fit\n",
    "    #find best simulation for the full model at this avalue\n",
    "    dg_lr=gmin_lr[gmin_lr['log_likelihood'] == gmin_lr['log_likelihood'].max()].copy()\n",
    "    dg_lr['run']=run_num\n",
    "    df_defects_lr['run']=run_num\n",
    "    dg_lr['model']='Luo-Rudy'\n",
    "    cluster_index,job_index = dg_lr[['cluster_index','job_index']].values.T\n",
    "    input_fn = os.path.join(input_folder,f\"job.out.{int(cluster_index)}.{int(job_index)}\")\n",
    "    #assert os.path.exists(input_fn)\n",
    "    if os.path.exists(input_fn):\n",
    "        input_fn_lr=input_fn\n",
    "        df_fit_lr,dict_linear_fit_lr = routine_measure_annihilation_defect(input_fn,printing=True,**kwargs)\n",
    "        amax_lr=dg_lr['amax'].median()\n",
    "        rmse_lr=dg_lr['rmse'].median()\n",
    "        L = dg_lr['L'].median()\n",
    "        #print(f\"- best fit RMSE: {rmse_lr:.4f} Hz/cm^2, amax: {amax_lr:.4f} cm^2/s, L: {L} cm\")\n",
    "        #record\n",
    "        dict_results_lr=dict(\n",
    "            model_name='Luo-Rudy',\n",
    "            amax=amax_lr,\n",
    "            rmse=rmse_lr,\n",
    "            L=L,\n",
    "            df_fit=df_fit_lr,\n",
    "            dg_fit=dg_lr,\n",
    "            dict_linear_fit=dict_linear_fit_lr,\n",
    "            filename=input_fn_lr,\n",
    "            gmin=gmin_lr)\n",
    "        dict_results_lr_lst.append(dict_results_lr)\n",
    "    \n",
    "    #TODO: estimate powerlaw from xy values\n",
    "    #Q: howdo not include q too small\n",
    "    #A: try filter by min_N>10 like before \n",
    "    \n",
    "    #TODO: print the exponent +/- 95%CI for the above powerlaw fit\n",
    "    \n",
    "\n",
    "        gmin_lr_lst.append(gmin_lr)\n",
    "\n",
    "\n",
    "#print the best fit exponents\n",
    "print(f\"\\n**************************************\")\n",
    "print(f\"* the best fit exponents:\")\n",
    "print(f\"**************************************\")\n",
    "min_N=9\n",
    "qmax=0.7\n",
    "\n",
    "min_N=10\n",
    "# qmax=1\n",
    "# qmax=1.5\n",
    "# min_N=9\n",
    "# qmax=0.75\n",
    "# min_N=9\n",
    "# qmax=0.85\n",
    "\n",
    "# qmax=1\n",
    "gmin_lst = list(gmin_fk_lst)\n",
    "gmin_lst.extend(gmin_lr_lst)\n",
    "dict_results_lst = list(dict_results_fk_lst)\n",
    "dict_results_lst.extend(dict_results_lr_lst)\n",
    "for gmin,dict_results in zip(gmin_lst,dict_results_lst):\n",
    "    model_name = dict_results['model_name']\n",
    "    \n",
    "    dict_linear_fit = dict_results['dict_linear_fit']\n",
    "    df_fit = dict_results['df_fit']\n",
    "    df_fit = df_fit[df_fit['N']>min_N].copy()\n",
    "    x = df_fit['q'].values\n",
    "    y = df_fit['w'].values\n",
    "    boo = qmax>x\n",
    "    dict_fit = print_fit_power_law(x[boo],y[boo],printing=False)\n",
    "    #dict_fit = print_fit_power_law(x,y,printing=False)\n",
    "\n",
    "    # print_dict(dict_fit)\n",
    "    #yhat = dict_fit['M']*x**dict_fit['m']\n",
    "    # rmsehat = np.sqrt(np.mean((yhat-y)**2))\n",
    "    # rmsehat #confirmed to match rmse in dict_fit\n",
    "    # #DONE: plot powerlaw fit for sanity check\n",
    "    # # plt.plot(x,(y-yhat)/y,'C0')\n",
    "    # plt.plot(x,(y-yhat),'C0')\n",
    "    # plt.plot(x,0.*x,'k--')\n",
    "    # plt.show()\n",
    "\n",
    "    r = df_fit['r'].median()\n",
    "    kappa = df_fit['kappa'].median()\n",
    "    D = df_fit['D'].median()\n",
    "    a = df_fit['varkappa'].median()\n",
    "    neighbor = df_fit['neighbor'].median()\n",
    "    amax= a+2*D\n",
    "\n",
    "     #DONE: estimate powerlaw from xy values\n",
    "    #Q: howdo not include q too small\n",
    "    #A: try filter by min_N>10 like before \n",
    "\n",
    "    #TODO: print the exponent +/- 95%CI for the above powerlaw fit\n",
    "    # dict_fit['M'],dict_fit['m']\n",
    "    is_model = (model_name=='Fenton-Karma')&(amax<3)\n",
    "    is_model|= (model_name=='Luo-Rudy')&(amax>3)\n",
    "    if is_model:\n",
    "        print(f\"- amax: {amax:.4f}, D: {D:.4f} --> exponent: {dict_fit['m']:.4f} +/- {dict_fit['Delta_m']:.4f} ({model_name})\")\n",
    "print(f\"exponents were computed with {min_N=} and {qmax=}.\")\n"
   ]
  },
  {
   "cell_type": "markdown",
   "id": "7121ae59",
   "metadata": {
    "ExecuteTime": {
     "end_time": "2022-10-15T19:49:56.617929Z",
     "start_time": "2022-10-15T19:49:56.594062Z"
    }
   },
   "source": [
    "# generate umap representation of trials"
   ]
  },
  {
   "cell_type": "code",
   "execution_count": null,
   "id": "5b611e01",
   "metadata": {
    "ExecuteTime": {
     "end_time": "2022-10-17T22:20:35.633736Z",
     "start_time": "2022-10-17T22:20:29.499045Z"
    }
   },
   "outputs": [],
   "source": []
  },
  {
   "cell_type": "code",
   "execution_count": null,
   "id": "e20e08aa",
   "metadata": {
    "ExecuteTime": {
     "end_time": "2022-10-19T20:05:29.279367Z",
     "start_time": "2022-10-19T20:05:29.223783Z"
    },
    "code_folding": []
   },
   "outputs": [],
   "source": [
    "#define the data dirs\n",
    "# DATA_DIR = './data'\n",
    "DATA_DIR = f'{nb_dir}/data/osg_output'\n",
    "run_num=33\n",
    "input_folder=f'{DATA_DIR}/run_{run_num}_all'\n",
    "parquet_dir_defects_fk=f'{DATA_DIR}/run_{run_num}_defects_to_fk.parquet'\n",
    "parquet_dir_defects_lr=f'{DATA_DIR}/run_{run_num}_defects_to_lr.parquet'\n",
    "#load data\n",
    "df_defects_fk=pd.read_parquet(parquet_dir_defects_fk)\n",
    "df_defects_lr=pd.read_parquet(parquet_dir_defects_lr)\n",
    "#heretim\n",
    "#basic viewer for mle fits\n",
    "kwargs_files = dict(\n",
    "    data_fk_dir=f'{nb_dir}/data/full_results/data_fig4_vidmar_fk_tt.csv',\n",
    "    data_lr_dir=f'{nb_dir}/data/full_results/data_fig4_vidmar_lr_tt.csv',\n",
    "    parquet_dir_defects_fk=parquet_dir_defects_fk,\n",
    "    parquet_dir_defects_lr=parquet_dir_defects_lr,\n",
    "#     input_folder=input_folder,\n",
    "#     run_num=run_num\n",
    "#              min_num_particles=9\n",
    ")"
   ]
  },
  {
   "cell_type": "code",
   "execution_count": null,
   "id": "4997a186",
   "metadata": {
    "ExecuteTime": {
     "end_time": "2022-10-19T20:05:30.024918Z",
     "start_time": "2022-10-19T20:05:29.983851Z"
    }
   },
   "outputs": [],
   "source": [
    "xcol_lst=['amax','D','rxn','delta','neighbor']\n",
    "# xcol_lst=['varkappa','D','rxn','delta','neighbor']\n",
    "#extract features for training umap\n",
    "df_defects_fk['rxn']=df_defects_fk['r']**2*df_defects_fk['kappa'] #cm^2/s #reaction coefficient\n",
    "df_defects_fk['delta']=np.pi*df_defects_fk['r']**2*(df_defects_fk['L']**2) #cm^2/s #fraction of domain covered by one particle\n",
    "df_defects_fk['amax']=df_defects_fk['varkappa']+2*df_defects_fk['D']\n",
    "Xfk = df_defects_fk[xcol_lst].values\n",
    "yfk = df_defects_fk['log_likelihood'].values\n",
    "\n",
    "df_defects_lr['rxn']=df_defects_lr['r']**2*df_defects_lr['kappa'] #cm^2/s #reaction coefficient\n",
    "df_defects_lr['delta']=np.pi*df_defects_lr['r']**2*(df_defects_lr['L']**2) #cm^2/s #fraction of domain covered by one particle\n",
    "df_defects_lr['amax']=df_defects_lr['varkappa']+2*df_defects_lr['D']\n",
    "Xlr = df_defects_lr[xcol_lst].values\n",
    "ylr = df_defects_lr['log_likelihood'].values"
   ]
  },
  {
   "cell_type": "code",
   "execution_count": null,
   "id": "2f289f7e",
   "metadata": {
    "ExecuteTime": {
     "end_time": "2022-10-19T20:05:30.572457Z",
     "start_time": "2022-10-19T20:05:30.544297Z"
    }
   },
   "outputs": [],
   "source": [
    "kwargs_umap = dict(\n",
    "    n_neighbors=25,#15,\n",
    "    n_components=2,\n",
    "    metric='euclidean',\n",
    "    metric_kwds=None,\n",
    "    output_metric='euclidean',\n",
    "    output_metric_kwds=None,\n",
    "    n_epochs=None,\n",
    "    learning_rate=1.0,\n",
    "    init='spectral',\n",
    "    min_dist=0.1,\n",
    "    spread=1.0,\n",
    "    random_state=42\n",
    ")"
   ]
  },
  {
   "cell_type": "code",
   "execution_count": null,
   "id": "3c2cc3b7",
   "metadata": {
    "ExecuteTime": {
     "end_time": "2022-10-19T20:06:49.473793Z",
     "start_time": "2022-10-19T20:05:31.152801Z"
    }
   },
   "outputs": [],
   "source": [
    "print(f\"performing UMAP (estimated run time)...\")\n",
    "#train and visualize umap\n",
    "model_name='Luo-Rudy'\n",
    "print(f\"training {model_name}...\")\n",
    "mapper_lr = umap.UMAP(**kwargs_umap).fit(Xlr)\n",
    "# mapper_lr_supervised = umap.UMAP(**kwargs_umap).fit(Xlr,ylr)\n",
    "\n",
    "model_name='Fenton-Karma'\n",
    "print(f\"training {model_name}...\")\n",
    "mapper_fk = umap.UMAP(**kwargs_umap).fit(Xfk)\n",
    "# mapper_fk_supervised = umap.UMAP(**kwargs_umap).fit(Xfk,yfk)\n",
    "# mapper_fk['model']=model_name"
   ]
  },
  {
   "cell_type": "code",
   "execution_count": null,
   "id": "f00d66ef",
   "metadata": {
    "ExecuteTime": {
     "end_time": "2022-10-19T20:06:49.974791Z",
     "start_time": "2022-10-19T20:06:49.477362Z"
    }
   },
   "outputs": [],
   "source": [
    "# umap.plot.points(mapper_fk, labels=yfk\n",
    "# umap.plot.points(mapper_fk, values=yfk, theme='fire')\n",
    "# umap.plot.points(mapper_lr, values=Xlr[:,0], theme='fire') #amax\n",
    "# umap.plot.points(mapper_lr, values=Xlr[:,1], theme='fire') #D\n",
    "# umap.plot.points(mapper_lr, values=Xlr[:,2], theme='fire') #rxn\n",
    "# umap.plot.points(mapper_lr, values=Xlr[:,3], theme='fire') #delta\n",
    "# umap.plot.points(mapper_lr, values=Xlr[:,4]+1*126, theme='fire') #neighbor... may be all black.\n",
    "# umap.plot.points(mapper_lr, values=ylr, theme='fire')\n",
    "umap.plot.points(mapper_fk, values=yfk, theme='fire')\n",
    "plt.show()"
   ]
  },
  {
   "cell_type": "code",
   "execution_count": null,
   "id": "24508f91",
   "metadata": {
    "ExecuteTime": {
     "end_time": "2022-10-18T23:32:08.110909Z",
     "start_time": "2022-10-18T23:32:08.086141Z"
    }
   },
   "outputs": [],
   "source": [
    "# #TODO(later): make UMAP happen on the gpu\n",
    "# from cuml.manifold import UMAP"
   ]
  },
  {
   "cell_type": "code",
   "execution_count": null,
   "id": "29ac8199",
   "metadata": {
    "ExecuteTime": {
     "end_time": "2022-10-19T20:06:50.017853Z",
     "start_time": "2022-10-19T20:06:49.978691Z"
    }
   },
   "outputs": [],
   "source": [
    "#label all of the rows with the UMAP coordinates\n",
    "Xfk_umap = mapper_fk.transform(Xfk)\n",
    "Xlr_umap = mapper_lr.transform(Xlr)\n",
    "df_defects_fk['UMAP1']=Xfk_umap[:,0]\n",
    "df_defects_fk['UMAP2']=Xfk_umap[:,1]\n",
    "df_defects_lr['UMAP1']=Xlr_umap[:,0]\n",
    "df_defects_lr['UMAP2']=Xlr_umap[:,1]"
   ]
  },
  {
   "cell_type": "code",
   "execution_count": null,
   "id": "985344d1",
   "metadata": {
    "ExecuteTime": {
     "end_time": "2022-10-19T20:06:50.173081Z",
     "start_time": "2022-10-19T20:06:50.021935Z"
    }
   },
   "outputs": [],
   "source": [
    "#derive fields from log_likelihood\n",
    "df_defects_fk['likelihood'] = np.exp(df_defects_fk['log_likelihood'])\n",
    "df_defects_fk['rel_size'] = df_defects_fk['likelihood']/(1+df_defects_fk['likelihood']) #for markersize relative to from 0 to 1\n",
    "df_defects_lr['likelihood'] = np.exp(df_defects_lr['log_likelihood'])\n",
    "df_defects_lr['rel_size'] = df_defects_lr['likelihood']/(1+df_defects_lr['likelihood']) #for markersize relative to from 0 to 1\n",
    "\n",
    "#index by run,cluster,job\n",
    "dffk=df_defects_fk.copy()\n",
    "dflr=df_defects_lr.copy()\n",
    "dffk.set_index(['cluster_index','job_index'],inplace=True)\n",
    "dflr.set_index(['cluster_index','job_index'],inplace=True)\n",
    "\n",
    "#likelihoods from _fk and _lr into one dataframe, df_defects as df\n",
    "df = dffk.copy()\n",
    "df.rename({'rel_size':'rel_size_fk','likelihood':'likelihood_fk','log_likelihood':'log_likelihood_fk'},inplace=True)\n",
    "df['rel_size_lr']=dflr['rel_size']\n",
    "df['likelihood_lr']=dflr['likelihood']\n",
    "df['log_likelihood_lr']=dflr['log_likelihood']\n",
    "df.reset_index(inplace=True)\n",
    "df.head(1)"
   ]
  },
  {
   "cell_type": "code",
   "execution_count": null,
   "id": "d04e2e2e",
   "metadata": {
    "ExecuteTime": {
     "end_time": "2022-10-19T20:06:51.406696Z",
     "start_time": "2022-10-19T20:06:50.178078Z"
    }
   },
   "outputs": [],
   "source": [
    "viewer_dir = os.path.join(input_folder,'_viewer.csv')\n",
    "print(f\"{viewer_dir=}\")\n",
    "df.to_csv(viewer_dir,index=False)"
   ]
  },
  {
   "cell_type": "code",
   "execution_count": null,
   "id": "7d61209f",
   "metadata": {
    "ExecuteTime": {
     "end_time": "2022-10-19T20:10:24.550035Z",
     "start_time": "2022-10-19T20:10:24.337441Z"
    }
   },
   "outputs": [],
   "source": [
    "df = pd.read_csv('/home/timothytyree/Documents/GitHub/bgmc/python/data/osg_output/run_33_all/_viewer.csv')"
   ]
  },
  {
   "cell_type": "code",
   "execution_count": null,
   "id": "33345752",
   "metadata": {
    "ExecuteTime": {
     "end_time": "2022-10-19T20:10:25.580020Z",
     "start_time": "2022-10-19T20:10:25.534853Z"
    }
   },
   "outputs": [],
   "source": [
    "# #likelihoods from _fk and _lr into one dataframe, df_defects as df\n",
    "# df = dffk.copy()\n",
    "# df.rename({'rel_size':'rel_size_fk','likelihood':'likelihood_fk','log_likelihood':'log_likelihood_fk'},inplace=True)\n",
    "# df['rel_size_lr']=dflr['rel_size']\n",
    "# df['likelihood_lr']=dflr['likelihood']\n",
    "# df['log_likelihood_lr']=dflr['log_likelihood']\n",
    "# df.head()"
   ]
  },
  {
   "cell_type": "markdown",
   "id": "2f037fc4",
   "metadata": {},
   "source": [
    "# define panels for interactive viewing"
   ]
  },
  {
   "cell_type": "code",
   "execution_count": null,
   "id": "a22b94d1",
   "metadata": {
    "ExecuteTime": {
     "end_time": "2022-10-19T20:10:26.662396Z",
     "start_time": "2022-10-19T20:10:26.616208Z"
    }
   },
   "outputs": [],
   "source": [
    "#TODO: follow walkthrough from \"Make DataFrame Pipeline Interactive\"\n",
    "# df_defects_fk.shape,df_defects_lr.shape\n",
    "if environment()==\"server\":\n",
    "    theme=\"fast\"\n",
    "else:\n",
    "    theme=\"simple\""
   ]
  },
  {
   "cell_type": "code",
   "execution_count": null,
   "id": "b82150ce",
   "metadata": {
    "ExecuteTime": {
     "end_time": "2022-10-19T20:10:27.209813Z",
     "start_time": "2022-10-19T20:10:27.160819Z"
    }
   },
   "outputs": [],
   "source": [
    "#TODO: dev a finished viewer\n",
    "#TODO(later): abstract a finished producct for viewer to dynamically link panel left scatter via indexcol_lst\n",
    "#define text fields\n",
    "# textcol_lst=['r','kappa','L','varkappa','neighbor','D']\n",
    "indexcol_lst=['cluster_index','job_index']\n",
    "xcol_lst=['varkappa','D','r','kappa','L','neighbor']\n",
    "ycol_lst=['log_likelihood_fk','log_likelihood_lr']\n",
    "textcol_lst = list(xcol_lst)\n",
    "textcol_lst.extend(xcol_lst)\n",
    "textcol_lst.extend(ycol_lst)"
   ]
  },
  {
   "cell_type": "markdown",
   "id": "e5b49c3d",
   "metadata": {
    "ExecuteTime": {
     "end_time": "2022-10-17T23:08:07.293311Z",
     "start_time": "2022-10-17T23:08:07.149075Z"
    }
   },
   "source": [
    "todo(later): define [Panel widgets](https://panel.holoviz.org/reference/index.html#widgets)\n"
   ]
  },
  {
   "cell_type": "code",
   "execution_count": null,
   "id": "fc5caeb8",
   "metadata": {
    "ExecuteTime": {
     "end_time": "2022-10-19T20:10:28.431279Z",
     "start_time": "2022-10-19T20:10:28.400425Z"
    }
   },
   "outputs": [],
   "source": [
    "#TODO: make click get columns in xcol_lst for the selected scatter plot point\n",
    "#TODO: set ^these values to panel, right using .interactive\n",
    "xcol_lst"
   ]
  },
  {
   "cell_type": "code",
   "execution_count": null,
   "id": "1fafed14",
   "metadata": {
    "ExecuteTime": {
     "end_time": "2022-10-19T20:10:29.014367Z",
     "start_time": "2022-10-19T20:10:28.966284Z"
    }
   },
   "outputs": [],
   "source": [
    "#src for tutorial: https://github.com/sophiamyang/hvplot_interactive\n",
    "# #TODO(later): define panel widgets\n",
    "# cylinders = pn.widgets.IntSlider(name='Cylinders', start=4, end=8, step=2)\n",
    "# mfr = pn.widgets.ToggleGroup(\n",
    "#     name='MFR',\n",
    "#     options=['ford', 'chevrolet', 'honda', 'toyota', 'audi'], \n",
    "#     value=['ford', 'chevrolet', 'honda', 'toyota', 'audi'],\n",
    "#     button_type='success')\n",
    "# yaxis = pn.widgets.RadioButtonGroup(\n",
    "#     name='Y axis', \n",
    "#     options=['hp', 'weight'],\n",
    "#     button_type='success'\n",
    "# )\n",
    "# #TODO(later): test panel widgets\n",
    "# ipipeline = (\n",
    "#     idf[\n",
    "#         (idf.cyl == cylinders) & \n",
    "#         (idf.mfr.isin(mfr))\n",
    "#     ]\n",
    "#     .groupby(['origin', 'mpg'])[yaxis].mean()\n",
    "#     .to_frame()\n",
    "#     .reset_index()\n",
    "#     .sort_values(by='mpg')  \n",
    "#     .reset_index(drop=True)\n",
    "# )\n",
    "# ipipeline.head()"
   ]
  },
  {
   "cell_type": "code",
   "execution_count": null,
   "id": "5e4d16cb",
   "metadata": {
    "ExecuteTime": {
     "end_time": "2022-10-19T20:10:29.529671Z",
     "start_time": "2022-10-19T20:10:29.467344Z"
    }
   },
   "outputs": [],
   "source": [
    "# # view interactive dashboard by piping to hvplot\n",
    "# ihvplot = ipipeline.hvplot(x='mpg', y=yaxis, by='origin', color=PALETTE, line_width=6, height=400)\n",
    "# ihvplot"
   ]
  },
  {
   "cell_type": "code",
   "execution_count": null,
   "id": "7e52dfc3",
   "metadata": {
    "ExecuteTime": {
     "end_time": "2022-10-19T20:10:29.789383Z",
     "start_time": "2022-10-19T20:10:29.727119Z"
    }
   },
   "outputs": [],
   "source": [
    "# neighbors_button = pn.widgets.RadioButtonGroup(\n",
    "#     name='neighbors_button', \n",
    "#     options=['vector-summed', 'neighbors'],\n",
    "#     button_type='success'\n",
    "# )\n",
    "# cylinders = pn.widgets.IntSlider(name='Cylinders', start=4, end=8, step=2)\n"
   ]
  },
  {
   "cell_type": "markdown",
   "id": "37f20163",
   "metadata": {},
   "source": [
    "# TODO: dev loader for annihilation rate results"
   ]
  },
  {
   "cell_type": "code",
   "execution_count": null,
   "id": "2d235c53",
   "metadata": {
    "ExecuteTime": {
     "end_time": "2022-10-19T20:10:30.453552Z",
     "start_time": "2022-10-19T20:10:30.422284Z"
    }
   },
   "outputs": [],
   "source": [
    "kwargs = dict(data_fk_dir=f'{nb_dir}/data/full_results/data_fig4_vidmar_fk_tt.csv',\n",
    "              data_lr_dir=f'{nb_dir}/data/full_results/data_fig4_vidmar_lr_tt.csv',\n",
    "             min_num_particles=10)"
   ]
  },
  {
   "cell_type": "code",
   "execution_count": null,
   "id": "238bd631",
   "metadata": {
    "ExecuteTime": {
     "end_time": "2022-10-19T20:10:30.910209Z",
     "start_time": "2022-10-19T20:10:30.877688Z"
    }
   },
   "outputs": [],
   "source": [
    "#select the trial for panel right\n",
    "run_num=33; cluster_index=24419143; job_index=36139 #noice example\n",
    "cluster_index = int(cluster_index); job_index = int(job_index); \n",
    "print(f\"{run_num=}, {cluster_index=}, {job_index=}\")"
   ]
  },
  {
   "cell_type": "code",
   "execution_count": null,
   "id": "fd22517a",
   "metadata": {
    "ExecuteTime": {
     "end_time": "2022-10-19T20:10:32.830141Z",
     "start_time": "2022-10-19T20:10:32.799434Z"
    }
   },
   "outputs": [],
   "source": [
    "def load_annihilation_rate_results(cluster_index,job_index,input_folder,min_num_particles=10,printing=False,\n",
    "                                   xcol='q',ycol='w',color='k',\n",
    "                                   **kwargs):\n",
    "    \"\"\"\n",
    "    Example Usage\n",
    "p2 = load_annihilation_rate_results(cluster_index,job_index,input_folder,min_num_particles=10,\n",
    "                                   xcol='q',ycol='w',color='k')\n",
    "    \"\"\"\n",
    "    input_fn = os.path.join(input_folder,f\"job.out.{int(cluster_index)}.{int(job_index)}\")\n",
    "    #assert os.path.exists(input_fn)\n",
    "    if os.path.exists(input_fn):\n",
    "        df_fit,dict_linear_fit= routine_measure_annihilation_defect(input_fn,\n",
    "                                                                    printing=printing,\n",
    "                                                                    min_num_particles=min_num_particles)#,**kwargs\n",
    "        return df_fit.hvplot(x=xcol,y=ycol,c=color).opts(framewise=True)\n",
    "    else:\n",
    "        raise f\"Error: the file does not exist: {input_fn}\""
   ]
  },
  {
   "cell_type": "code",
   "execution_count": null,
   "id": "c3347271",
   "metadata": {
    "ExecuteTime": {
     "end_time": "2022-10-19T20:10:33.440067Z",
     "start_time": "2022-10-19T20:10:33.392420Z"
    }
   },
   "outputs": [],
   "source": [
    "#TODO(later): add on/off support for loglog\n",
    "# use_loglog=True\n",
    "# # xlabel=r'n (1/cm$^2$)',ylabel=r'$w_-$ (Hz/cm$^2$)',fontsize=fontsize\n",
    "# if use_loglog:\n",
    "#     pass"
   ]
  },
  {
   "cell_type": "code",
   "execution_count": null,
   "id": "3ac10b33",
   "metadata": {
    "ExecuteTime": {
     "end_time": "2022-10-19T20:10:33.829153Z",
     "start_time": "2022-10-19T20:10:33.792615Z"
    }
   },
   "outputs": [],
   "source": [
    "dict_wjr = recall_death_rates_vidmar_rappel(**kwargs)\n",
    "fk=dict_wjr['fk']\n",
    "lr=dict_wjr['lr']"
   ]
  },
  {
   "cell_type": "code",
   "execution_count": null,
   "id": "47474f15",
   "metadata": {
    "ExecuteTime": {
     "end_time": "2022-10-19T20:10:34.467886Z",
     "start_time": "2022-10-19T20:10:34.418962Z"
    }
   },
   "outputs": [],
   "source": [
    "use_filterby_minN=True\n",
    "minN=10\n",
    "# minN=8\n",
    "# figsize = (6, 4)  #(5,4)\n",
    "figsize = (4, 4)  #(5,4)\n",
    "fontsize=16\n",
    "# x1lim=[0.008, 11]\n",
    "xlim=[0.08, 11]\n",
    "ylim=[0.01, 250]"
   ]
  },
  {
   "cell_type": "code",
   "execution_count": null,
   "id": "add9c4c1",
   "metadata": {
    "ExecuteTime": {
     "end_time": "2022-10-19T20:10:35.058714Z",
     "start_time": "2022-10-19T20:10:35.009969Z"
    }
   },
   "outputs": [],
   "source": [
    "legend_alpha=1.\n",
    "minx=0.1\n",
    "alpha=0.2\n",
    "s=40\n",
    "fontsize=18\n",
    "\n",
    "frameon_legend=False\n",
    "show_fk=True\n",
    "show_lr=True\n",
    "zorder=0"
   ]
  },
  {
   "cell_type": "code",
   "execution_count": null,
   "id": "0ad7954b",
   "metadata": {
    "ExecuteTime": {
     "end_time": "2022-10-19T20:10:35.554718Z",
     "start_time": "2022-10-19T20:10:35.514688Z"
    }
   },
   "outputs": [],
   "source": [
    "# del p1"
   ]
  },
  {
   "cell_type": "code",
   "execution_count": 2,
   "id": "ac7e6ed5",
   "metadata": {
    "ExecuteTime": {
     "end_time": "2022-10-19T21:22:16.633245Z",
     "start_time": "2022-10-19T21:22:16.631323Z"
    }
   },
   "outputs": [],
   "source": [
    "#TODO: try to get job_index from hover or click event out of sctter plot\n",
    "#heretimheretim\n"
   ]
  },
  {
   "cell_type": "code",
   "execution_count": null,
   "id": "f49b8895",
   "metadata": {
    "ExecuteTime": {
     "end_time": "2022-10-19T20:22:20.812085Z",
     "start_time": "2022-10-19T20:22:20.724067Z"
    }
   },
   "outputs": [],
   "source": [
    "#define plot of full model annihilation rates as a holoview panel base \n",
    "width=400;height=700\n",
    "xcol='q'\n",
    "ycol='w'\n",
    "color_lst_mpldefault=['#1f77b4', '#ff7f0e', '#2ca02c', '#d62728', '#9467bd', '#8c564b', '#e377c2', '#7f7f7f', '#bcbd22', '#17becf']\n",
    "#plot the full models\n",
    "\n",
    "if show_fk:\n",
    "    boofk=fk['q']>=minx\n",
    "    pfk=fk[boofk].hvplot.scatter(x=xcol,y=ycol,c=color_lst_mpldefault[0],\n",
    "                           alpha=alpha,s=s,label='Fenton-Karma',\n",
    "                                  hover=False,\n",
    "                                 legend='bottom',rot=45,\n",
    "                                    width=width,height=height,\n",
    "                                    logx=True,logy=True,\n",
    "#                                  xlabel=r'$n$ (1/cm$^2$)',ylabel=r'$w_-$ (Hz/cm$^2$)',\n",
    "                                    xlabel=r'n (1/cm^2)',ylabel=r'w (Hz/cm^2)',\n",
    "                                    xlim=xlim,ylim=ylim)\n",
    "#                           )#.opts(framewise=True)\n",
    "if show_lr:\n",
    "    boolr=lr['q']>=minx\n",
    "    plr=lr[boolr].hvplot.scatter(x=xcol,y=ycol,c=color_lst_mpldefault[1],\n",
    "                                    alpha=alpha,s=s,label='Luo-Rudy',\n",
    "                                    hover=False)\n",
    "#                                  xlabel=r'$n$ (1/cm$^2$)',ylabel=r'$w_-$ (Hz/cm$^2$)'\n",
    "#                                  xlabel = #xlabel/ylabel/clabel (default=None): str\n",
    "#                                  xticks/yticks\n",
    "#                                  responsive=True, #whether the plot should responsively resize depending on the  size of the browser\n",
    "#                           )#.opts(framewise=True)\n",
    "    \n",
    "p2_base = pfk*plr\n",
    "# p2_base = plr*pfk"
   ]
  },
  {
   "cell_type": "code",
   "execution_count": null,
   "id": "eb12fd58",
   "metadata": {
    "ExecuteTime": {
     "end_time": "2022-10-19T20:22:21.463707Z",
     "start_time": "2022-10-19T20:22:21.429957Z"
    }
   },
   "outputs": [],
   "source": [
    "min_num_particles=10 #8\n",
    "printing=True\n",
    "#TODO: add title with the selected linear particle model parameters\n",
    "title=f\"{textcol_lst}\"\n",
    "print(title)\n",
    "# # title=f\"{textcol_lst_values}\"\n",
    "# p2_selected = load_annihilation_rate_results(cluster_index,job_index,input_folder,min_num_particles=min_num_particles,printing=printing,\n",
    "#                                    xcol='q',ycol='w',color='k',title=title)\n",
    "\n",
    "# # p2 = df_fit.hvplot(x='q',y='w',c='k').opts(framewise=True)\n",
    "# # type(p2)\n",
    "# p2 = p2_base*p2_selected\n",
    "# p2 #uncomment to preview"
   ]
  },
  {
   "cell_type": "code",
   "execution_count": null,
   "id": "fb088d44",
   "metadata": {
    "ExecuteTime": {
     "end_time": "2022-10-19T20:22:21.881988Z",
     "start_time": "2022-10-19T20:22:21.831769Z"
    }
   },
   "outputs": [],
   "source": [
    "def loader_annihilation_rate_results(cluster_index,job_index):\n",
    "    return load_annihilation_rate_results(cluster_index,job_index,input_folder,min_num_particles=min_num_particles,printing=printing,\n",
    "                                   xcol='q',ycol='w',color='k',title=title)"
   ]
  },
  {
   "cell_type": "code",
   "execution_count": null,
   "id": "3008a1f6",
   "metadata": {
    "ExecuteTime": {
     "end_time": "2022-10-19T20:22:22.355318Z",
     "start_time": "2022-10-19T20:22:22.303297Z"
    }
   },
   "outputs": [],
   "source": [
    "max_job_index = df['job_index'].max()\n",
    "cluster_index_values = df['cluster_index'].drop_duplicates().values.flatten()\n",
    "job_index_values = df['job_index'].drop_duplicates().values.flatten()\n",
    "cluster_index_values,max_job_index"
   ]
  },
  {
   "cell_type": "code",
   "execution_count": null,
   "id": "cb49817e",
   "metadata": {
    "ExecuteTime": {
     "end_time": "2022-10-19T20:22:22.753171Z",
     "start_time": "2022-10-19T20:22:22.703348Z"
    }
   },
   "outputs": [],
   "source": [
    "job_index,cluster_index\n",
    "max_job_index"
   ]
  },
  {
   "cell_type": "code",
   "execution_count": null,
   "id": "7a5c41ac",
   "metadata": {
    "ExecuteTime": {
     "end_time": "2022-10-19T20:22:23.707922Z",
     "start_time": "2022-10-19T20:22:23.662571Z"
    }
   },
   "outputs": [],
   "source": [
    "# # define dataframe for interactive viewing\n",
    "# idf = df.interactive()\n"
   ]
  },
  {
   "cell_type": "code",
   "execution_count": null,
   "id": "60db5177",
   "metadata": {
    "ExecuteTime": {
     "end_time": "2022-10-19T20:22:24.454253Z",
     "start_time": "2022-10-19T20:22:24.402963Z"
    }
   },
   "outputs": [],
   "source": [
    "# symbol = pn.widgets.RadioButtonGroup(options=stock_symbols)\n",
    "cluster_dropdown = pn.widgets.Select(name=\"Cluster:\", options=list(cluster_index_values))# value=24419143)\n",
    "# job_dropdown = pn.widgets.Select(name=\"Job:\", options=list(cluster_index_values))\n",
    "# job_dropdown = pn.widgets.Select(name=\"Cluster:\", options=list(job_index_values))# value=24419143)\n",
    "job_input = pn.widgets.IntInput(name='Job:',value=job_index)\n",
    "# job_index_slider = pn.widgets.IntSlider(name=\"Job:\", value=36139, start=1, end=max_job_index)\n",
    "\n",
    "p_widgets = pn.Column(cluster_dropdown,job_input)"
   ]
  },
  {
   "cell_type": "code",
   "execution_count": null,
   "id": "00e0354b",
   "metadata": {
    "ExecuteTime": {
     "end_time": "2022-10-19T20:22:31.613383Z",
     "start_time": "2022-10-19T20:22:31.534068Z"
    }
   },
   "outputs": [],
   "source": [
    "#DONE: make p1 show index upon hover\n",
    "#DONE: make p1 show list of data upon hover\n",
    "#TODO: make p1 dynamically update a the selected index\n",
    "ccol='log_likelihood_lr'\n",
    "max_markersize=1.\n",
    "scol='size'\n",
    "df[scol]=(df['rel_size_lr']+1)*max_markersize\n",
    "p1 = df.hvplot.scatter(\n",
    "    x=\"UMAP1\",\n",
    "    y=\"UMAP2\",\n",
    "    s=scol,\n",
    "    cmap='fire',\n",
    "    c=ccol,#clim=[vmin,vmax],\n",
    "    colorbar=False,\n",
    "    fontscale=1., #default\n",
    "#     grid=True,\n",
    "    height=height,\n",
    "    width=height,\n",
    "    hover=True,\n",
    "    hover_cols=textcol_lst,\n",
    ")#, height=400, width=400)\n",
    "#project=True)\n",
    "# project (default=False):\n",
    "#     Whether to project the data before plotting (adds initial\n",
    "#     overhead but avoids projecting data when plot is dynamically\n",
    "#     updated).\n",
    "# p1"
   ]
  },
  {
   "cell_type": "code",
   "execution_count": null,
   "id": "a1152ad9",
   "metadata": {
    "ExecuteTime": {
     "end_time": "2022-10-19T20:22:38.064421Z",
     "start_time": "2022-10-19T20:22:38.018762Z"
    }
   },
   "outputs": [],
   "source": [
    "# # p_widgets\n",
    "# p1"
   ]
  },
  {
   "cell_type": "code",
   "execution_count": null,
   "id": "19f5747c",
   "metadata": {
    "ExecuteTime": {
     "end_time": "2022-10-19T20:22:39.191327Z",
     "start_time": "2022-10-19T20:22:39.144546Z"
    }
   },
   "outputs": [],
   "source": [
    "# rolling_window = pn.widgets.IntSlider(name='Rolling Window', value=10, start=1, end=365)\n",
    "\n",
    "# print(f\"the widget will look like the following:\")\n",
    "# pn.Column(symbol, variable, rolling_window)\n",
    "# dmap = hv.DynamicMap(loader_annihilation_rate_results,\n",
    "#                     cluster_index=cluster_dropdown, \n",
    "#                     job_index=job_input)#,input_folder=input_folder)\n",
    "# dmap\n",
    "# dmap = hv.DynamicMap(load_annihilation_rate_results,\n",
    "#                      kdims=['cluster_index','job_index',input_folder])\n",
    "#DONE: replace [job_index] with all jobs available: \n",
    "#DONE: replace [cluster_index] with all jobs available: \n",
    "# dmap = dmap.redim.values(cluster_index=[cluster_index], job_index=[job_index])\n",
    "\n"
   ]
  },
  {
   "cell_type": "code",
   "execution_count": null,
   "id": "a05faa76",
   "metadata": {
    "ExecuteTime": {
     "end_time": "2022-10-19T20:22:40.977370Z",
     "start_time": "2022-10-19T20:22:40.915409Z"
    }
   },
   "outputs": [],
   "source": [
    "# p2_selected = dmap ## does this work??\n",
    "#Q: does ^this loop like p2_selected?\n",
    "#if A==Yes, smack it in as  the pout = p1 + p2*p2_selected\n",
    "dmap = hv.DynamicMap(loader_annihilation_rate_results,\n",
    "                     kdims=['cluster_index','job_index'])\n",
    "dmap = dmap.redim.values(cluster_index=list(cluster_index_values), job_index=list(job_index_values))\n",
    "dmap.opts(framewise=True)\n",
    "p2_selected = dmap\n"
   ]
  },
  {
   "cell_type": "code",
   "execution_count": null,
   "id": "aeac76d2",
   "metadata": {
    "ExecuteTime": {
     "end_time": "2022-10-19T20:22:42.900548Z",
     "start_time": "2022-10-19T20:22:42.857395Z"
    }
   },
   "outputs": [],
   "source": [
    "# # pn.template.DarkTheme.\n",
    "# pn.template.FastListTemplate(\n",
    "#     site=\"Panel\", title=\"Folium\", main=[\"This app demonstrates **how to use Folium with Panel**.\", \n",
    "#                                         PanelFoliumMap().view])#.servable()\n"
   ]
  },
  {
   "cell_type": "code",
   "execution_count": null,
   "id": "592a6793",
   "metadata": {
    "ExecuteTime": {
     "end_time": "2022-10-19T20:23:06.321141Z",
     "start_time": "2022-10-19T20:23:06.279847Z"
    }
   },
   "outputs": [],
   "source": [
    "# run_num"
   ]
  },
  {
   "cell_type": "code",
   "execution_count": null,
   "id": "9e25d3cf",
   "metadata": {
    "ExecuteTime": {
     "end_time": "2022-10-19T20:23:07.215538Z",
     "start_time": "2022-10-19T20:23:06.989043Z"
    },
    "run_control": {
     "marked": true
    }
   },
   "outputs": [],
   "source": [
    "p2 = p2_base*p2_selected\n",
    "# pout = p1+p2*p2_selected\n",
    "# pout\n",
    "app =  pn.Row(p1,p2*p2_selected)"
   ]
  },
  {
   "cell_type": "code",
   "execution_count": null,
   "id": "7f737a0c",
   "metadata": {
    "ExecuteTime": {
     "end_time": "2022-10-19T20:33:44.869791Z",
     "start_time": "2022-10-19T20:33:44.828590Z"
    }
   },
   "outputs": [],
   "source": [
    "# #TODO: use tile to merge ^these two panels instead of +\n",
    "# #TODO: cursory search for linking panels using panel.tile? as tile.\n",
    "app"
   ]
  },
  {
   "cell_type": "code",
   "execution_count": null,
   "id": "e68b79e1",
   "metadata": {
    "ExecuteTime": {
     "end_time": "2022-10-19T20:33:30.485629Z",
     "start_time": "2022-10-19T20:33:30.454807Z"
    }
   },
   "outputs": [],
   "source": [
    "#this .html file takes forever to write, and it is huge...\n",
    "# app.save(f\"dashboard_{run_num}.html\", embed=True)"
   ]
  },
  {
   "cell_type": "code",
   "execution_count": null,
   "id": "8e7c555f",
   "metadata": {},
   "outputs": [],
   "source": [
    "# dmap = hv.DynamicMap(pn.bind(load_symbol, symbol=symbol, variable=variable))\n",
    "# smoothed = rolling(dmap, rolling_window=rolling_window)\n",
    "\n",
    "# app = pn.Row(pn.WidgetBox('## Stock Explorer', symbol, variable, rolling_window), \n",
    "#              smoothed.opts(width=500, framewise=True)).servable()\n",
    "# app"
   ]
  },
  {
   "cell_type": "code",
   "execution_count": null,
   "id": "5210ba12",
   "metadata": {
    "ExecuteTime": {
     "end_time": "2022-10-19T01:33:16.028814Z",
     "start_time": "2022-10-19T01:33:15.988797Z"
    }
   },
   "outputs": [],
   "source": [
    "# pn.template.react.ReactDarkTheme\n"
   ]
  },
  {
   "cell_type": "code",
   "execution_count": null,
   "id": "9a09bf40",
   "metadata": {},
   "outputs": [],
   "source": []
  },
  {
   "cell_type": "code",
   "execution_count": null,
   "id": "f3522f18",
   "metadata": {},
   "outputs": [],
   "source": []
  },
  {
   "cell_type": "code",
   "execution_count": null,
   "id": "85ee07be",
   "metadata": {
    "ExecuteTime": {
     "end_time": "2022-10-18T23:41:00.465708Z",
     "start_time": "2022-10-18T23:41:00.070035Z"
    }
   },
   "outputs": [],
   "source": [
    "# load_annihilation_rate_results\n",
    "#TODO: dynamically set annihilation trial on right panel\n",
    "# stock_symbols = ['AAPL', 'IBM', 'FB', 'GOOG', 'MSFT']\n",
    "# variables = ['open', 'high', 'low', 'close', 'volume', 'adj_close']\n",
    "\n",
    "app = pn.Row(pn.WidgetBox('## Linear Particle Model Explorer', cluster_dropdown, job_input), \n",
    "             dmap.opts(width=500, framewise=True)).servable()\n",
    "app\n",
    "#TODO: use ^these to update p2 dynamically\n",
    "\n",
    "#GOAL: figure out scatter plot point selection\n",
    "#TODO: search for a way to use hvplot.scatter to select a value from a scatter plot dynamically\n",
    "#TODO: search for a way to use cuxfilter/datashader to select a value from a scatter plot dynamically\n",
    "#heretimheretim\n",
    "#Q: wasn't it something ... .bind( ...?"
   ]
  },
  {
   "cell_type": "code",
   "execution_count": null,
   "id": "b9a1c20b",
   "metadata": {
    "ExecuteTime": {
     "end_time": "2022-10-18T03:06:03.808868Z",
     "start_time": "2022-10-18T03:06:03.759744Z"
    }
   },
   "outputs": [],
   "source": [
    "# max_job_index=10\n",
    "# pn.widgets.IntSlider?"
   ]
  },
  {
   "cell_type": "code",
   "execution_count": null,
   "id": "1f50e0ce",
   "metadata": {
    "ExecuteTime": {
     "end_time": "2022-10-18T03:06:04.653336Z",
     "start_time": "2022-10-18T03:06:04.628069Z"
    }
   },
   "outputs": [],
   "source": [
    "# pn.widgets.Select?"
   ]
  },
  {
   "cell_type": "code",
   "execution_count": null,
   "id": "65481b87",
   "metadata": {},
   "outputs": [],
   "source": [
    "# app = pn.Row(pn.WidgetBox('## Stock Explorer', symbol, variable, rolling_window), \n",
    "#              smoothed.opts(width=500, framewise=True)).servable()\n",
    "# app"
   ]
  },
  {
   "cell_type": "code",
   "execution_count": null,
   "id": "a0d4096f",
   "metadata": {},
   "outputs": [],
   "source": []
  },
  {
   "cell_type": "code",
   "execution_count": null,
   "id": "f8b0287d",
   "metadata": {},
   "outputs": [],
   "source": []
  },
  {
   "cell_type": "code",
   "execution_count": null,
   "id": "bd7a1f6b",
   "metadata": {
    "ExecuteTime": {
     "end_time": "2022-10-18T01:56:19.453417Z",
     "start_time": "2022-10-18T01:56:19.429065Z"
    }
   },
   "outputs": [],
   "source": [
    "#TODO(later): make legend markers easier to see\n",
    "#HINT:\n",
    "# leg = ax.legend(loc='lower right',fontsize=fontsize-3.,frameon=False,ncol=1)\n",
    "# for lh in leg.legendHandles: \n",
    "#     lh.set_alpha(1)"
   ]
  },
  {
   "cell_type": "code",
   "execution_count": null,
   "id": "7636e931",
   "metadata": {
    "ExecuteTime": {
     "end_time": "2022-10-18T01:56:19.818786Z",
     "start_time": "2022-10-18T01:56:19.791494Z"
    }
   },
   "outputs": [],
   "source": [
    "textcol_lst=[#'cluster_index','job_index'\n",
    "             'amax','D','r','kappa','L','neighbor',\n",
    "#              'log_likelihood_fk','log_likelihood_lr'\n",
    "            ]"
   ]
  },
  {
   "cell_type": "code",
   "execution_count": null,
   "id": "0171cdac",
   "metadata": {
    "ExecuteTime": {
     "end_time": "2022-10-18T01:50:59.987211Z",
     "start_time": "2022-10-18T01:50:59.960163Z"
    }
   },
   "outputs": [],
   "source": [
    "#TODO(later): change backend of p1 plotting to cudf... it should be as easy as cudf.DataFrame?\n",
    "# import cudf\n",
    "# >>> unknown cuda error\n",
    "#TODO(later): fix cudf not importing in this ipython environment...\n",
    "# gf=cudf.DataFrame(df)"
   ]
  },
  {
   "cell_type": "code",
   "execution_count": null,
   "id": "5cc8764b",
   "metadata": {
    "ExecuteTime": {
     "end_time": "2022-10-18T01:57:14.626113Z",
     "start_time": "2022-10-18T01:57:14.602133Z"
    }
   },
   "outputs": [],
   "source": [
    "# #DONE: format panel p2\n",
    "# p2.options\n",
    "# p2.param\n",
    "# p2.params\n",
    "# p2.values\n",
    "# p2.set_param\n",
    "# p2.update\n",
    "# p2.relabel?\n",
    "# p2.redim.range?"
   ]
  },
  {
   "cell_type": "code",
   "execution_count": null,
   "id": "756c21af",
   "metadata": {},
   "outputs": [],
   "source": [
    "# hv.help(the_holoviews_object)"
   ]
  },
  {
   "cell_type": "markdown",
   "id": "14f6b5b2",
   "metadata": {},
   "source": [
    "# TODO: dev declaritive viewer from src:\n"
   ]
  },
  {
   "cell_type": "code",
   "execution_count": null,
   "id": "5837fc43",
   "metadata": {
    "ExecuteTime": {
     "end_time": "2022-10-18T02:01:09.738215Z",
     "start_time": "2022-10-18T02:01:09.198640Z"
    }
   },
   "outputs": [],
   "source": [
    "#TODO: add selection functionality from panel left to panel right\n",
    "p1+p2*p2_selected"
   ]
  },
  {
   "cell_type": "code",
   "execution_count": null,
   "id": "d68f8584",
   "metadata": {
    "ExecuteTime": {
     "end_time": "2022-10-18T02:23:57.428747Z",
     "start_time": "2022-10-18T02:23:57.403340Z"
    }
   },
   "outputs": [],
   "source": []
  },
  {
   "cell_type": "code",
   "execution_count": null,
   "id": "0bc45389",
   "metadata": {},
   "outputs": [],
   "source": []
  },
  {
   "cell_type": "code",
   "execution_count": null,
   "id": "0e7beb86",
   "metadata": {},
   "outputs": [],
   "source": [
    "# import panel as pn\n",
    "\n",
    "symbol = pn.widgets.RadioButtonGroup(options=stock_symbols)\n",
    "variable = pn.widgets.Select(options=variables)\n",
    "rolling_window = pn.widgets.IntSlider(name='Rolling Window', value=10, start=1, end=365)\n",
    "\n",
    "pn.Column(symbol, variable, rolling_window)"
   ]
  },
  {
   "cell_type": "code",
   "execution_count": null,
   "id": "87fc4c33",
   "metadata": {},
   "outputs": [],
   "source": [
    "# # dmap = hv.DynamicMap(pn.bind(load_symbol, symbol=symbol, variable=variable))\n",
    "# # smoothed = rolling(dmap, rolling_window=rolling_window)\n",
    "\n",
    "# app = pn.Row(pn.WidgetBox('## Stock Explorer', symbol, variable, rolling_window), \n",
    "#              smoothed.opts(width=500, framewise=True)).servable()\n",
    "# app"
   ]
  },
  {
   "cell_type": "code",
   "execution_count": null,
   "id": "b947fef6",
   "metadata": {},
   "outputs": [],
   "source": []
  },
  {
   "cell_type": "code",
   "execution_count": null,
   "id": "ce7169eb",
   "metadata": {
    "ExecuteTime": {
     "end_time": "2022-10-17T23:05:38.806580Z",
     "start_time": "2022-10-17T23:05:38.782438Z"
    }
   },
   "outputs": [],
   "source": [
    "\n",
    "## Make DataFrame Pipeline Interactive\n",
    "#TODO: dev figure rightin hvplot\n",
    "# xcol_lst"
   ]
  },
  {
   "cell_type": "code",
   "execution_count": null,
   "id": "fc81ae45",
   "metadata": {},
   "outputs": [],
   "source": []
  },
  {
   "cell_type": "code",
   "execution_count": null,
   "id": "201cd37d",
   "metadata": {},
   "outputs": [],
   "source": [
    "# #to serve ^this dashboard through HINT, uncomment and then run something like hin\n",
    "# template = pn.template.FastListTemplate(\n",
    "#     title='Interactive DataFrame Dashboards with hvplot .interactive', \n",
    "#     sidebar=[cylinders, 'Manufacturers', mfr, 'Y axis' , yaxis],\n",
    "#     main=[ihvplot.panel(), itable.panel()],\n",
    "#     accent_base_color=\"#88d8b0\",\n",
    "#     header_background=\"#88d8b0\",\n",
    "# )\n",
    "# # template.show()\n",
    "# template.servable();"
   ]
  },
  {
   "cell_type": "markdown",
   "id": "e15567e0",
   "metadata": {
    "ExecuteTime": {
     "end_time": "2022-10-17T23:18:14.624547Z",
     "start_time": "2022-10-17T23:18:14.599590Z"
    }
   },
   "source": [
    "HINT: To get the Tabulator table styled nicely for dark mode you can set `theme='fast'` when you define the `itable`. It won't work in the notebook though.\n",
    "\n",
    "To *serve the notebook* run `panel serve hvplot_interactive.ipynb`."
   ]
  },
  {
   "cell_type": "code",
   "execution_count": null,
   "id": "f32ccaa9",
   "metadata": {
    "ExecuteTime": {
     "end_time": "2022-10-17T23:05:36.806254Z",
     "start_time": "2022-10-17T23:05:36.773556Z"
    }
   },
   "outputs": [],
   "source": [
    "#heretim\n",
    "#DONE: looked for any dtypes that need fixin\n",
    "# ['num_obs', 'qmin', 'qmax', 'rmse', 'log_likelihood', 'emin', 'emax',\n",
    "#        'lemin', 'lemax', 'no_repulsion', 'dt', 'L', 'r', 'set_second', 'kappa',\n",
    "#        'D', 'reflect', 'neighbor', 'x0', 'varkappa', 'no_attraction', 'Dt',\n",
    "#        'niter', 'force_code', 'q_lo', 'q_hi', 'N_lo', 'N_hi', 'w_lo', 'w_hi',\n",
    "#        'CollTime_lo', 'CollTime_hi', 'rxn', 'delta', 'amax', 'UMAP1', 'UMAP2',\n",
    "#        'likelihood', 'rel_size', 'rel_size_lr', 'likelihood_lr',\n",
    "#        'log_likelihood_lr']\n",
    "# col='likelihood_lr'\n",
    "# col='cluster_index'\n",
    "# df[col].dtype\n",
    "#note: cluster_index,job_index columns do not exist because i elevated them together as the index\n",
    "# query = df['neighbor']==neighbor\n"
   ]
  },
  {
   "cell_type": "code",
   "execution_count": null,
   "id": "4dd138ca",
   "metadata": {
    "ExecuteTime": {
     "end_time": "2022-10-17T23:05:47.360459Z",
     "start_time": "2022-10-17T23:05:47.322344Z"
    }
   },
   "outputs": [],
   "source": [
    "# 'reflect', 'neighbor',"
   ]
  },
  {
   "cell_type": "code",
   "execution_count": null,
   "id": "82844364",
   "metadata": {
    "ExecuteTime": {
     "end_time": "2022-10-17T23:01:04.082195Z",
     "start_time": "2022-10-17T23:01:04.027071Z"
    }
   },
   "outputs": [],
   "source": [
    "#TODO: make textcol_lst visible upon hover\n",
    "textcol_lst\n",
    "\n",
    "#TODO: make click get columns in xcol_lst for the selected scatter plot point\n",
    "#TODO: set ^these values to panel, right using .interactive\n",
    "xcol_lst"
   ]
  },
  {
   "cell_type": "code",
   "execution_count": null,
   "id": "7ff6ade2",
   "metadata": {
    "ExecuteTime": {
     "end_time": "2022-10-16T21:44:30.661716Z",
     "start_time": "2022-10-16T21:44:30.606120Z"
    }
   },
   "outputs": [],
   "source": [
    "#TODO: dev map from row in X=Xlr to plot of (black,red) the annihilation rates over (blue,orange) those of the full models\n",
    "i=137\n",
    "X=Xlr\n",
    "df_defects = df_defects_lr\n",
    "# xcol_lst = ['amax', 'D', 'rxn', 'delta', 'neighbor']\n",
    "# def foo\n",
    "xvals= X[i]\n",
    "# amax,D,rxn,delta,neighbor = vals\n",
    "query = True\n",
    "for x,xcol in zip(xvals,xcol_lst):\n",
    "    query &= df_defects[xcol]==x\n",
    "num_selected=np.sum(query)\n",
    "print(f\"{num_selected=}\")"
   ]
  },
  {
   "cell_type": "code",
   "execution_count": null,
   "id": "69cff760",
   "metadata": {
    "ExecuteTime": {
     "end_time": "2022-10-16T21:44:30.709207Z",
     "start_time": "2022-10-16T21:44:30.666671Z"
    }
   },
   "outputs": [],
   "source": [
    "testing=True\n",
    "if testing:\n",
    "    #test that precisely one job is selected\n",
    "    assert num_selected==1 \n",
    "    \n",
    "#select the job\n",
    "cluster_index,job_index = df_defects[query][['cluster_index','job_index']].values.T#.tolist()\n",
    "cluster_index = int(cluster_index); job_index = int(job_index); \n",
    "print(f\"{run_num=}, {cluster_index=}, {job_index=}\")\n",
    "\n",
    "#TODO: recall the directory from the base_folder belonging to model_name\n",
    "#inputs: base_folder belonging to osg grid searches\n",
    "#inputs: run_num,cluster_index,job_index"
   ]
  },
  {
   "cell_type": "code",
   "execution_count": null,
   "id": "5c4fbc5c",
   "metadata": {},
   "outputs": [],
   "source": []
  },
  {
   "cell_type": "code",
   "execution_count": null,
   "id": "60b1f121",
   "metadata": {},
   "outputs": [],
   "source": [
    "p1 = df_defects_fk.hvplot.scatter(x='UMAP1', y='UMAP2',label='Fenton-Karma')#, **kwargs)\n",
    "p2 = df_defects_lr.hvplot.scatter(x='UMAP1', y='UMAP2',label='Luo-Rudy',\n",
    "                                  cmap='jet',c='amax',s='size'\n",
    "                                 )#, **kwargs)\n",
    "print(p1+p2)\n",
    "#heretim\n",
    "#TODO: dev hvplot of what I want on panel left\n",
    "#TODO: choose a trial point from it using .interactive as shown below\n",
    "# p1+p2\n",
    "p2\n",
    "p1\n",
    "\n",
    "#TODO: hv plot this run's annihilation rates\n",
    "#TODO: hv plot the full models' annihilation rates\n",
    "#TODO: compose these\n",
    "#TODO: view these and verify looks reasonable\n",
    "#TODO: compose these two into a dashboard\n",
    "#TODO: modify ^that dashboard to use .interactive() to update panel right from  default run_num=33, cluster_index=24419143, job_index=21754 \n",
    "print(f\"{run_num=}, {cluster_index=}, {job_index=}\")"
   ]
  },
  {
   "cell_type": "code",
   "execution_count": null,
   "id": "41a8ef0e",
   "metadata": {},
   "outputs": [],
   "source": []
  },
  {
   "cell_type": "code",
   "execution_count": null,
   "id": "6387e0f0",
   "metadata": {
    "ExecuteTime": {
     "end_time": "2022-10-16T04:07:27.918396Z",
     "start_time": "2022-10-16T04:07:27.888901Z"
    }
   },
   "outputs": [],
   "source": [
    "df_defects.columns"
   ]
  },
  {
   "cell_type": "markdown",
   "id": "72d76ddc",
   "metadata": {
    "heading_collapsed": true
   },
   "source": [
    "# TODO: dev hvplot minimalist dashboard"
   ]
  },
  {
   "cell_type": "code",
   "execution_count": null,
   "id": "52f7f59a",
   "metadata": {
    "ExecuteTime": {
     "end_time": "2022-10-16T04:15:06.836045Z",
     "start_time": "2022-10-16T04:15:06.737731Z"
    },
    "hidden": true
   },
   "outputs": [],
   "source": [
    "# #DONT: use two cudf dataframes in one dashboard...\n",
    "# # #move dataframes to gpu\n",
    "# dffk=cudf.DataFrame(df_defects_fk)\n",
    "# dflr=cudf.DataFrame(df_defects_lr)\n",
    "# # dffk.shape,dflr.shape\n",
    "\n",
    "# # cux_df = cuxfilter.DataFrame.from_arrow(DATA_DIR+'/auto_accidents.arrow')\n"
   ]
  },
  {
   "cell_type": "code",
   "execution_count": null,
   "id": "977eef55",
   "metadata": {
    "hidden": true
   },
   "outputs": [],
   "source": []
  },
  {
   "cell_type": "code",
   "execution_count": null,
   "id": "e5b33e82",
   "metadata": {
    "ExecuteTime": {
     "end_time": "2022-10-17T21:28:14.357098Z",
     "start_time": "2022-10-17T21:28:14.071938Z"
    },
    "hidden": true
   },
   "outputs": [],
   "source": [
    "# from bokeh.sampledata.autompg import autompg_clean as df\n",
    "import hvplot.pandas\n",
    "import hvplot.pandas\n",
    "import panel as pn\n",
    "import holoviews as hv\n",
    "hv.extension('bokeh')\n",
    "pn.extension('tabulator')\n",
    "PALETTE = [\"#ff6f69\", \"#ffcc5c\", \"#88d8b0\", ]"
   ]
  },
  {
   "cell_type": "code",
   "execution_count": null,
   "id": "61de4146",
   "metadata": {
    "ExecuteTime": {
     "end_time": "2022-10-16T21:32:38.166919Z",
     "start_time": "2022-10-16T21:32:38.108951Z"
    },
    "hidden": true
   },
   "outputs": [],
   "source": [
    "hv.extension('bokeh')\n",
    "pn.extension('tabulator')\n",
    "PALETTE = [\"#ff6f69\", \"#ffcc5c\", \"#88d8b0\", ]\n",
    "# view rawhvplot_interactive2.py hosted with ❤ by GitHub"
   ]
  },
  {
   "cell_type": "code",
   "execution_count": null,
   "id": "16c16a78",
   "metadata": {
    "ExecuteTime": {
     "end_time": "2022-10-16T21:40:49.008392Z",
     "start_time": "2022-10-16T21:40:48.966225Z"
    },
    "hidden": true
   },
   "outputs": [],
   "source": [
    "max_markersize=50.\n",
    "df_defects_fk['likelihood'] = np.exp(df_defects_fk['log_likelihood'])\n",
    "df_defects_fk['size'] = max_markersize*df_defects_fk['likelihood']/(1+df_defects_fk['likelihood'])\n",
    "df_defects_lr['likelihood'] = np.exp(df_defects_lr['log_likelihood'])\n",
    "df_defects_lr['size'] = max_markersize*df_defects_lr['likelihood']/(1+df_defects_lr['likelihood'])\n",
    "#heretim"
   ]
  },
  {
   "cell_type": "code",
   "execution_count": null,
   "id": "95884f3d",
   "metadata": {
    "ExecuteTime": {
     "end_time": "2022-10-17T21:26:20.890246Z",
     "start_time": "2022-10-17T21:26:20.679890Z"
    },
    "hidden": true
   },
   "outputs": [],
   "source": [
    "\n",
    "p1 = df_defects_fk.hvplot.scatter(x='UMAP1', y='UMAP2',label='Fenton-Karma')#, **kwargs)\n",
    "p2 = df_defects_lr.hvplot.scatter(x='UMAP1', y='UMAP2',label='Luo-Rudy',\n",
    "                                  cmap='jet',c='amax',s='size'\n",
    "                                 )#, **kwargs)\n",
    "print(p1+p2)\n",
    "#heretim\n",
    "#TODO: dev hvplot of what I want on panel left\n",
    "#TODO: choose a trial point from it using .interactive as shown below\n",
    "# p1+p2\n",
    "p2\n",
    "p1"
   ]
  },
  {
   "cell_type": "code",
   "execution_count": null,
   "id": "71e034b2",
   "metadata": {
    "ExecuteTime": {
     "end_time": "2022-10-17T21:26:22.293248Z",
     "start_time": "2022-10-17T21:26:22.259967Z"
    },
    "hidden": true
   },
   "outputs": [],
   "source": [
    "#TODO: hv plot this run's annihilation rates\n",
    "#TODO: hv plot the full models' annihilation rates\n",
    "#TODO: compose these\n",
    "#TODO: view these and verify looks reasonable\n",
    "#TODO: compose these two into a dashboard\n",
    "#TODO: modify ^that dashboard to use .interactive() to update panel right from  default run_num=33, cluster_index=24419143, job_index=21754 \n",
    "print(f\"{run_num=}, {cluster_index=}, {job_index=}\")\n"
   ]
  },
  {
   "cell_type": "code",
   "execution_count": null,
   "id": "48ad87dc",
   "metadata": {
    "hidden": true
   },
   "outputs": [],
   "source": []
  },
  {
   "cell_type": "code",
   "execution_count": null,
   "id": "d5de88e6",
   "metadata": {
    "ExecuteTime": {
     "end_time": "2022-10-17T21:26:25.044874Z",
     "start_time": "2022-10-17T21:26:24.974261Z"
    },
    "hidden": true
   },
   "outputs": [],
   "source": [
    "\n",
    "# hv.show()\n",
    "# p1.pprint()"
   ]
  },
  {
   "cell_type": "code",
   "execution_count": null,
   "id": "4dda8963",
   "metadata": {
    "hidden": true
   },
   "outputs": [],
   "source": [
    "#TODO: dev hvplot of what I want on panel right"
   ]
  },
  {
   "cell_type": "code",
   "execution_count": null,
   "id": "3ef1d14b",
   "metadata": {
    "hidden": true
   },
   "outputs": [],
   "source": [
    "# #TODO: dev map from my data to data i want to see plotted:\n",
    "# #HINT: \n",
    "\n",
    "# # Make DataFrame Pipeline Interactive\n",
    "# idf = df.interactive()\n",
    "\n",
    "# # Define Panel widgets\n",
    "# cylinders = pn.widgets.IntSlider(name='Cylinders', start=4, end=8, step=2)\n",
    "# mfr = pn.widgets.ToggleGroup(\n",
    "#     name='MFR',\n",
    "#     options=['ford', 'chevrolet', 'honda', 'toyota', 'audi'], \n",
    "#     value=['ford', 'chevrolet', 'honda', 'toyota', 'audi'],\n",
    "#     button_type='success')\n",
    "# yaxis = pn.widgets.RadioButtonGroup(\n",
    "#     name='Y axis', \n",
    "#     options=['hp', 'weight'],\n",
    "#     button_type='success'\n",
    "# )\n",
    "\n",
    "# # Combine pipeline and widgets\n",
    "# ipipeline = (\n",
    "#     idf[\n",
    "#         (idf.cyl == cylinders) & \n",
    "#         (idf.mfr.isin(mfr))\n",
    "#     ]\n",
    "#     .groupby(['origin', 'mpg'])[yaxis].mean()\n",
    "#     .to_frame()\n",
    "#     .reset_index()\n",
    "#     .sort_values(by='mpg')  \n",
    "#     .reset_index(drop=True)\n",
    "# )"
   ]
  },
  {
   "cell_type": "code",
   "execution_count": null,
   "id": "c1f1e931",
   "metadata": {
    "hidden": true
   },
   "outputs": [],
   "source": [
    "# #HINT: build dashboard\n",
    "# #Layout using Template\n",
    "# template = pn.template.FastListTemplate(\n",
    "#     title='Interactive DataFrame Dashboards with hvplot .interactive', \n",
    "#     sidebar=[cylinders, 'Manufacturers', mfr, 'Y axis' , yaxis],\n",
    "#     main=[ihvplot.panel(), itable.panel()],\n",
    "#     accent_base_color=\"#88d8b0\",\n",
    "#     header_background=\"#88d8b0\",\n",
    "# )\n",
    "# # template.show()\n",
    "# template.servable();"
   ]
  },
  {
   "cell_type": "code",
   "execution_count": null,
   "id": "e114f94b",
   "metadata": {
    "ExecuteTime": {
     "end_time": "2022-10-16T18:35:33.097520Z",
     "start_time": "2022-10-16T18:35:33.042138Z"
    },
    "hidden": true
   },
   "outputs": [],
   "source": [
    "print(f\"HINT: deploy a dashboard, simple run in terminal:\")\n",
    "print(f\"$ panel serve hvplot_interactive.ipynb\")"
   ]
  },
  {
   "cell_type": "code",
   "execution_count": null,
   "id": "c12e6aff",
   "metadata": {
    "hidden": true
   },
   "outputs": [],
   "source": []
  },
  {
   "cell_type": "code",
   "execution_count": null,
   "id": "0d4d6a8e",
   "metadata": {
    "hidden": true
   },
   "outputs": [],
   "source": []
  },
  {
   "cell_type": "code",
   "execution_count": null,
   "id": "810fc5ac",
   "metadata": {
    "hidden": true
   },
   "outputs": [],
   "source": [
    "# holoviews.Scatter?\n",
    "# chart_hs = holoviews.Scatter(data=dflr, kdims=['UMAP1'], vdims=['UMAP2'],label='LR')#, **kwargs)\n",
    "# type(chart_hs)\n",
    "# chart_hs"
   ]
  },
  {
   "cell_type": "code",
   "execution_count": null,
   "id": "02845850",
   "metadata": {
    "hidden": true
   },
   "outputs": [],
   "source": []
  },
  {
   "cell_type": "code",
   "execution_count": null,
   "id": "7a2e0fd1",
   "metadata": {
    "hidden": true
   },
   "outputs": [],
   "source": []
  },
  {
   "cell_type": "markdown",
   "id": "7f10d956",
   "metadata": {
    "heading_collapsed": true
   },
   "source": [
    "# scratchwerk"
   ]
  },
  {
   "cell_type": "code",
   "execution_count": null,
   "id": "e2d0f8c1",
   "metadata": {
    "ExecuteTime": {
     "end_time": "2022-10-16T02:23:58.733015Z",
     "start_time": "2022-10-16T02:23:58.703767Z"
    },
    "hidden": true
   },
   "outputs": [],
   "source": [
    "import cudf\n",
    "from bokeh.server.server import Server\n",
    "import cuxfilter\n",
    "import sys"
   ]
  },
  {
   "cell_type": "code",
   "execution_count": null,
   "id": "845e80f7",
   "metadata": {
    "ExecuteTime": {
     "end_time": "2022-10-16T05:18:46.882540Z",
     "start_time": "2022-10-16T05:18:46.835626Z"
    },
    "hidden": true
   },
   "outputs": [],
   "source": [
    "#NOTE: this will all be way easier if i do the full models separately.\n",
    "# df = cudf.read_parquet('./data/census_data.parquet/*')\n",
    "# df=cudf.DataFrame(df_defects_fk)\n",
    "df=cudf.DataFrame(df_defects_lr)\n",
    "df.reset_index(inplace=True)\n",
    "df['indexcol']=df.index.values\n",
    "# df=cudf.DataFrame(df_defects)\n",
    "#create cuxfilter dataframe\n",
    "cux_df = cuxfilter.DataFrame.from_dataframe(df)\n",
    "# df_defects_lr['UMAP1']"
   ]
  },
  {
   "cell_type": "code",
   "execution_count": null,
   "id": "c9a59550",
   "metadata": {
    "ExecuteTime": {
     "end_time": "2022-10-16T05:18:50.337619Z",
     "start_time": "2022-10-16T05:18:50.295700Z"
    },
    "hidden": true
   },
   "outputs": [],
   "source": [
    "chart0 = cuxfilter.charts.view_dataframe(textcol_lst)#['UMAP1', 'UMAP2'])\n",
    "\n",
    "\n",
    "\n",
    "#declare dashboard\n",
    "# d = cux_df.dashboard([chart0], title='UMAP Dashboard')\n",
    "\n",
    "# cuxfilter.load_notebook_assets()\n",
    "# chart0.view()"
   ]
  },
  {
   "cell_type": "code",
   "execution_count": null,
   "id": "bc171e9b",
   "metadata": {
    "ExecuteTime": {
     "end_time": "2022-10-16T05:18:50.767651Z",
     "start_time": "2022-10-16T05:18:50.741987Z"
    },
    "hidden": true
   },
   "outputs": [],
   "source": [
    "import random\n",
    "# dffk['UMAP1']"
   ]
  },
  {
   "cell_type": "code",
   "execution_count": null,
   "id": "8d0dd437",
   "metadata": {
    "ExecuteTime": {
     "end_time": "2022-10-16T04:15:44.601766Z",
     "start_time": "2022-10-16T04:15:44.574861Z"
    },
    "hidden": true
   },
   "outputs": [],
   "source": []
  },
  {
   "cell_type": "code",
   "execution_count": null,
   "id": "827eded9",
   "metadata": {
    "ExecuteTime": {
     "end_time": "2022-10-16T05:18:51.591597Z",
     "start_time": "2022-10-16T05:18:51.565646Z"
    },
    "hidden": true
   },
   "outputs": [],
   "source": [
    "# dffk[['UMAP1','UMAP2']].to_pandas().describe()"
   ]
  },
  {
   "cell_type": "code",
   "execution_count": null,
   "id": "2592384d",
   "metadata": {
    "ExecuteTime": {
     "end_time": "2022-10-16T05:18:52.257792Z",
     "start_time": "2022-10-16T05:18:52.205290Z"
    },
    "hidden": true
   },
   "outputs": [],
   "source": [
    "# # dffk[['UMAP1','UMAP2']].describe()\n",
    "# #src: https://docs.rapids.ai/api/cuxfilter/stable/charts/datashader_charts.html#scatter-chart\n",
    "# #heretim\n",
    "# #TODO: get this example working\n",
    "# #TODO: modify this example to show the annihilation rates overlaid on the full model...\n",
    "# from cuxfilter import DataFrame\n",
    "# from cuxfilter.charts.datashader import line\n",
    "# import numpy as np\n",
    "# import cudf\n",
    "# import random\n",
    "# import cuxfilter\n",
    "\n",
    "# n = 100000                           # Number of points\n",
    "# start = 1456297053                   # Start time\n",
    "# end = start + 60 * 60 * 24\n",
    "\n",
    "# cux_df_ = DataFrame.from_dataframe(cudf.DataFrame({'x': np.linspace(start, end, n), 'y':np.random.normal(0, 0.3, size=n).cumsum() + 50}))\n",
    "# line_chart_1 = line(x='x', y='y', unselected_alpha=0.2)\n",
    "\n",
    "# d = cux_df_.dashboard([line_chart_1])\n",
    "# line_chart_1.view()"
   ]
  },
  {
   "cell_type": "code",
   "execution_count": null,
   "id": "e890f4bc",
   "metadata": {
    "ExecuteTime": {
     "end_time": "2022-10-16T05:18:52.716248Z",
     "start_time": "2022-10-16T05:18:52.672201Z"
    },
    "hidden": true
   },
   "outputs": [],
   "source": [
    "# cuxfilter.assets.geojson_mapper.geo_json_mapper"
   ]
  },
  {
   "cell_type": "code",
   "execution_count": null,
   "id": "11304752",
   "metadata": {
    "ExecuteTime": {
     "end_time": "2022-10-16T05:18:53.489054Z",
     "start_time": "2022-10-16T05:18:53.464094Z"
    },
    "hidden": true
   },
   "outputs": [],
   "source": [
    "# cuxfilter.datatile.BaseChart?\n",
    "# cuxfilter.charts.bokeh.bokeh.plots.Line\n"
   ]
  },
  {
   "cell_type": "code",
   "execution_count": null,
   "id": "5cce60ba",
   "metadata": {
    "ExecuteTime": {
     "end_time": "2022-10-16T05:24:21.557674Z",
     "start_time": "2022-10-16T05:24:21.515657Z"
    },
    "hidden": true
   },
   "outputs": [],
   "source": [
    "# cux_df.dashboard?\n",
    "# cuxfilter.charts.scatter?\n",
    "# cuxfilter.charts.scatter?"
   ]
  },
  {
   "cell_type": "code",
   "execution_count": null,
   "id": "994b525b",
   "metadata": {
    "ExecuteTime": {
     "end_time": "2022-10-16T06:26:52.461989Z",
     "start_time": "2022-10-16T06:26:52.317278Z"
    },
    "hidden": true
   },
   "outputs": [],
   "source": [
    "scatter_chart = cuxfilter.charts.scatter(x='UMAP1',y='UMAP2',aggregate_col='amax')#, pixel_shade_type=\"linear\", unselected_alpha=0.2)\n",
    "# scatter_chart = cuxfilter.charts.scatter(x='UMAP1',y='UMAP2',aggregate_col='indexcol')#, pixel_shade_type=\"linear\", unselected_alpha=0.2)\n",
    "d = cux_df.dashboard([scatter_chart])\n",
    "scatter_chart.view()"
   ]
  },
  {
   "cell_type": "code",
   "execution_count": null,
   "id": "459477ce",
   "metadata": {
    "ExecuteTime": {
     "end_time": "2022-10-16T04:56:46.700547Z",
     "start_time": "2022-10-16T04:56:46.651759Z"
    },
    "hidden": true
   },
   "outputs": [],
   "source": [
    "from cuxfilter import DataFrame\n",
    "from cuxfilter.charts import scatter\n",
    "import cudf\n",
    "import random\n",
    "\n",
    "# cux_df = DataFrame.from_dataframe(cudf.DataFrame({'x': [float(random.randrange(-8239000,-8229000)) for i in range(10000)], 'y':[float(random.randrange(4960000, 4980000)) for i in range(10000)]}))\n",
    "# setting pixel_shade_type='linear' to display legend (currently supports only log/linear)\n",
    "# scatter_chart = scatter(x='x',y='y')#, pixel_shade_type=\"linear\", unselected_alpha=0.2)\n",
    "\n",
    "# d = cux_df.dashboard([scatter_chart])\n",
    "d = cux_df.dashboard(\n",
    "    [scatter_chart],\n",
    "    sidebar: ['UMAP1'],\n",
    "    layout=<class 'cuxfilter.layouts.layouts.Layout0'>,\n",
    "    theme=<class 'cuxfilter.themes.light.LightTheme'>,\n",
    "    title='Dashboard',\n",
    "    data_size_widget=True,\n",
    "    warnings=False,\n",
    "    layout_array=None,\n",
    ")\n",
    "scatter_chart.view()\n"
   ]
  },
  {
   "cell_type": "code",
   "execution_count": null,
   "id": "94ec86c9",
   "metadata": {
    "ExecuteTime": {
     "end_time": "2022-10-16T04:33:39.405606Z",
     "start_time": "2022-10-16T04:33:38.660902Z"
    },
    "hidden": true
   },
   "outputs": [],
   "source": [
    "#CONFIRMED: scatter plot is failing to function because of something completely independent of me.\n",
    "#src: https://docs.rapids.ai/api/cuxfilter/legacy/charts/datashader_charts.html\n",
    "from cuxfilter import DataFrame\n",
    "from cuxfilter.charts import scatter\n",
    "import cudf\n",
    "import random\n",
    "\n",
    "cux_df = DataFrame.from_dataframe(cudf.DataFrame({'x': [float(random.randrange(-8239000,-8229000)) for i in range(10000)], 'y':[float(random.randrange(4960000, 4980000)) for i in range(10000)]}))\n",
    "# setting pixel_shade_type='linear' to display legend (currently supports only log/linear)\n",
    "scatter_chart = scatter(x='x',y='y', pixel_shade_type=\"linear\", unselected_alpha=0.2)\n",
    "\n",
    "# fig = px.scatter(df, x=\"gdp per capita\", y=\"life expectancy\",\n",
    "#                  size=\"population\", color=\"continent\", hover_name=\"country\",\n",
    "#                  log_x=True, size_max=60)\n",
    "\n",
    "d = cux_df.dashboard([scatter_chart])\n",
    "scatter_chart.view()"
   ]
  },
  {
   "cell_type": "code",
   "execution_count": null,
   "id": "394782a8",
   "metadata": {
    "ExecuteTime": {
     "end_time": "2022-10-16T04:31:30.649105Z",
     "start_time": "2022-10-16T04:31:28.650807Z"
    },
    "hidden": true
   },
   "outputs": [],
   "source": [
    "# cuxfilter.charts.scatter/?\n",
    "# from cuxfilter import DataFrame\n",
    "# from cuxfilter.charts import scatter\n",
    "# import cudf\n",
    "# cux_df = cuxfilter.DataFrame.from_dataframe(dffk)\n",
    "cux_df = cuxfilter.DataFrame.from_dataframe(dflr)\n",
    "# cux_df = DataFrame.from_dataframe(cudf.DataFrame({'x': [float(random.randrange(-8239000,-8229000)) for i in range(10000)], 'y':[float(random.randrange(4960000, 4980000)) for i in range(10000)]}))\n",
    "# chart1=cuxfilter.charts.datashader.scatter('UMAP1','UMAP2')\n",
    "\n",
    "\n",
    "# setting pixel_shade_type='linear' to display legend (currently supports only log/linear)\n",
    "# scatter_chart = cuxfilter.charts.scatter(x='amax',y='D')#, pixel_shade_type=\"linear\", unselected_alpha=0.2)\n",
    "# scatter_chart = cuxfilter.charts.scatter(x='UMAP1',y='UMAP2', pixel_shade_type=\"linear\", unselected_alpha=0.2)\n",
    "\n",
    "# d = cux_df.dashboard([scatter_chart])\n",
    "# scatter_chart.view()"
   ]
  },
  {
   "cell_type": "code",
   "execution_count": null,
   "id": "26886dfd",
   "metadata": {
    "ExecuteTime": {
     "end_time": "2022-10-16T05:10:48.154603Z",
     "start_time": "2022-10-16T05:10:48.127615Z"
    },
    "hidden": true
   },
   "outputs": [],
   "source": [
    "import holoviews"
   ]
  },
  {
   "cell_type": "code",
   "execution_count": null,
   "id": "4bd0678b",
   "metadata": {
    "hidden": true
   },
   "outputs": [],
   "source": [
    "# # Run this app with `python app.py` and\n",
    "# # visit http://127.0.0.1:8050/ in your web browser.\n",
    "\n",
    "# from dash import Dash, dcc, html\n",
    "# import plotly.express as px\n",
    "# import pandas as pd\n",
    "\n",
    "\n",
    "# app = Dash(__name__)\n",
    "\n",
    "# df = pd.read_csv('https://gist.githubusercontent.com/chriddyp/5d1ea79569ed194d432e56108a04d188/raw/a9f9e8076b837d541398e999dcbac2b2826a81f8/gdp-life-exp-2007.csv')\n",
    "\n",
    "# fig = px.scatter(df, x=\"gdp per capita\", y=\"life expectancy\",\n",
    "#                  size=\"population\", color=\"continent\", hover_name=\"country\",\n",
    "#                  log_x=True, size_max=60)"
   ]
  },
  {
   "cell_type": "code",
   "execution_count": null,
   "id": "41e1d477",
   "metadata": {
    "ExecuteTime": {
     "end_time": "2022-10-16T05:29:37.140295Z",
     "start_time": "2022-10-16T05:29:37.093242Z"
    },
    "hidden": true
   },
   "outputs": [],
   "source": [
    "# holoviews.Scatter?\n",
    "chart_hs = holoviews.Scatter(data=dflr, kdims=['UMAP1'], vdims=['UMAP2'],label='LR')#, **kwargs)\n",
    "type(chart_hs)\n",
    "# chart_hs"
   ]
  },
  {
   "cell_type": "code",
   "execution_count": null,
   "id": "2137f8f4",
   "metadata": {
    "ExecuteTime": {
     "end_time": "2022-10-16T05:29:43.807182Z",
     "start_time": "2022-10-16T05:29:39.956169Z"
    },
    "hidden": true
   },
   "outputs": [],
   "source": [
    "await d.preview()"
   ]
  },
  {
   "cell_type": "code",
   "execution_count": null,
   "id": "e7175330",
   "metadata": {
    "ExecuteTime": {
     "end_time": "2022-10-16T04:31:11.177978Z",
     "start_time": "2022-10-16T04:31:02.658969Z"
    },
    "hidden": true
   },
   "outputs": [],
   "source": [
    "#TODO: add a line chart\n",
    "# cux_df = cuxfilter.DataFrame.from_dataframe(cudf.DataFrame({'key': [0, 1, 2, 3, 4], 'val':[float(i + 10) for i in range(5)]}))\n",
    "# line_chart_1 = cuxfilter.charts.line('key', 'val', data_points=5, add_interaction=False)\n",
    "line_chart_1 = cuxfilter.charts.line(x='UMAP1', y='UMAP2', data_points=5, add_interaction=False)\n",
    "\n",
    "d = cux_df.dashboard([line_chart_1])\n",
    "#view the individual bar chart part of the dashboard d\n",
    "await d.preview()\n",
    "# line_chart_1.view()"
   ]
  },
  {
   "cell_type": "code",
   "execution_count": null,
   "id": "b8636b13",
   "metadata": {
    "ExecuteTime": {
     "end_time": "2022-10-16T05:41:03.402797Z",
     "start_time": "2022-10-16T05:41:03.360962Z"
    },
    "hidden": true
   },
   "outputs": [],
   "source": [
    "# # tile_provider\n",
    "# cuxfilter.charts.scatter?"
   ]
  },
  {
   "cell_type": "code",
   "execution_count": null,
   "id": "fa3b09c5",
   "metadata": {
    "ExecuteTime": {
     "end_time": "2022-10-16T05:31:41.594703Z",
     "start_time": "2022-10-16T05:31:41.500324Z"
    },
    "hidden": true
   },
   "outputs": [],
   "source": [
    "#TODO: add a table chart\n",
    "#src: https://docs.rapids.ai/api/cuxfilter/stable/charts/custom_charts.html#table-view-chart\n",
    "import numpy as np\n",
    "import cudf\n",
    "import cuxfilter\n",
    "\n",
    "geoJSONSource='https://raw.githubusercontent.com/rapidsai/cuxfilter/GTC-2018-mortgage-visualization/javascript/demos/GTC%20demo/src/data/zip3-ms-rhs-lessprops.json'\n",
    "size = 1000\n",
    "\n",
    "cux_df = cuxfilter.DataFrame.from_dataframe(\n",
    "    cudf.DataFrame({\n",
    "                    '_color':np.random.randint(20,30, size=size*10)/100,\n",
    "                    'zip': list(np.arange(1,1001))*10,\n",
    "                    'elevation': np.random.randint(0,1000, size=size*10)\n",
    "    })\n",
    ")\n",
    "\n",
    "chart0 = cuxfilter.charts.view_dataframe(['zip', 'elevation'])\n",
    "# chart0 = cuxfilter.charts.scatter('zip', 'elevation')\n",
    "\n",
    "#declare dashboard\n",
    "d = cux_df.dashboard([chart0], title='Mortgage Dashboard')\n",
    "\n",
    "# cuxfilter.load_notebook_assets()\n",
    "chart0.view()"
   ]
  },
  {
   "cell_type": "code",
   "execution_count": null,
   "id": "04570004",
   "metadata": {
    "ExecuteTime": {
     "end_time": "2022-10-16T05:41:09.841422Z",
     "start_time": "2022-10-16T05:41:09.668815Z"
    },
    "hidden": true
   },
   "outputs": [],
   "source": [
    "import dash\n",
    "import plotly"
   ]
  },
  {
   "cell_type": "code",
   "execution_count": null,
   "id": "129e4715",
   "metadata": {
    "ExecuteTime": {
     "end_time": "2022-10-16T06:08:15.354536Z",
     "start_time": "2022-10-16T06:08:14.983769Z"
    },
    "hidden": true
   },
   "outputs": [],
   "source": [
    "# Run this app with `python app.py` and\n",
    "# visit http://127.0.0.1:8050/ in your web browser.\n",
    "\n",
    "from dash import Dash, dcc, html\n",
    "import plotly.express as px\n",
    "import pandas as pd\n",
    "\n",
    "\n",
    "# # app = Dash(__name__)\n",
    "# app = Dash()\n",
    "# app.run_server(debug=True)\n",
    "# df = pd.read_csv('https://gist.githubusercontent.com/chriddyp/5d1ea79569ed194d432e56108a04d188/raw/a9f9e8076b837d541398e999dcbac2b2826a81f8/gdp-life-exp-2007.csv')\n",
    "df = df_defects_lr.copy()\n",
    "fig = px.scatter(df, x=\"UMAP1\", y=\"UMAP2\",\n",
    "                 size=\"D\", color=\"rxn\", hover_name=\"amax\",\n",
    "                 log_x=False, size_max=6)\n",
    "\n",
    "\n",
    "\n",
    "# if __name__ == '__main__':\n",
    "#     app.run_server(debug=True)\n",
    "fig.show()"
   ]
  },
  {
   "cell_type": "code",
   "execution_count": null,
   "id": "bb902aee",
   "metadata": {
    "ExecuteTime": {
     "end_time": "2022-10-16T05:57:01.440813Z",
     "start_time": "2022-10-16T05:57:01.390739Z"
    },
    "hidden": true
   },
   "outputs": [],
   "source": [
    "# app."
   ]
  },
  {
   "cell_type": "code",
   "execution_count": null,
   "id": "d23babd1",
   "metadata": {
    "ExecuteTime": {
     "end_time": "2022-10-16T05:57:01.808417Z",
     "start_time": "2022-10-16T05:57:01.742698Z"
    },
    "hidden": true
   },
   "outputs": [],
   "source": [
    "import plotly.graph_objects as go # or plotly.express as px\n",
    "# fig = go.Figure() # or any Plotly Express function e.g. px.bar(...)\n",
    "# fig.add_trace( ... )\n",
    "# fig.update_layout( ... )\n",
    "\n",
    "import dash\n",
    "import dash_core_components as dcc\n",
    "import dash_html_components as html\n"
   ]
  },
  {
   "cell_type": "code",
   "execution_count": null,
   "id": "be5472ef",
   "metadata": {
    "ExecuteTime": {
     "start_time": "2022-10-16T05:57:05.426Z"
    },
    "hidden": true
   },
   "outputs": [],
   "source": [
    "\n",
    "app = dash.Dash()\n",
    "app.layout = html.Div([\n",
    "    dcc.Graph(figure=fig)\n",
    "])\n",
    "\n",
    "app.run_server(debug=True, \n",
    "               port='8053',#'8050',\n",
    "               use_reloader=False)  # Turn off reloader if inside Jupyter"
   ]
  },
  {
   "cell_type": "code",
   "execution_count": null,
   "id": "768087f2",
   "metadata": {
    "ExecuteTime": {
     "end_time": "2022-10-16T05:50:01.056799Z",
     "start_time": "2022-10-16T05:50:01.022175Z"
    },
    "hidden": true
   },
   "outputs": [],
   "source": [
    "# app.run?"
   ]
  },
  {
   "cell_type": "code",
   "execution_count": null,
   "id": "11c71ae0",
   "metadata": {
    "hidden": true
   },
   "outputs": [],
   "source": []
  },
  {
   "cell_type": "code",
   "execution_count": null,
   "id": "16c7b80b",
   "metadata": {
    "ExecuteTime": {
     "end_time": "2022-10-16T05:43:26.564525Z",
     "start_time": "2022-10-16T05:43:25.879244Z"
    },
    "hidden": true
   },
   "outputs": [],
   "source": [
    "# app = Dash(__name__)\n",
    "app = Dash()\n",
    "app.layout = html.Div([\n",
    "    dcc.Graph(\n",
    "        id='amax',\n",
    "        figure=fig\n",
    "    )\n",
    "])\n",
    "# app.run_server(debug=True)"
   ]
  },
  {
   "cell_type": "code",
   "execution_count": null,
   "id": "f38dfc55",
   "metadata": {
    "hidden": true
   },
   "outputs": [],
   "source": []
  },
  {
   "cell_type": "code",
   "execution_count": null,
   "id": "93295e26",
   "metadata": {
    "ExecuteTime": {
     "end_time": "2022-10-16T05:32:12.992484Z",
     "start_time": "2022-10-16T05:32:12.573679Z"
    },
    "hidden": true
   },
   "outputs": [],
   "source": [
    "import pandas as pd\n",
    "import numpy as np\n",
    "import matplotlib.pyplot as plt\n",
    "import holoviews as hv\n",
    "hv.extension('bokeh')\n",
    "from holoviews import opts\n",
    "from holoviews.plotting.links import DataLink\n",
    "# import hvplot.pandas\n",
    "\n",
    "df = pd.DataFrame(np.random.randint(0,100,size=(100, 4)), columns=list('ABCD'))\n",
    "df['Even'] = df['D']%2 == 0\n",
    "\n",
    "vdims = [('A', 'A')]\n",
    "ds = hv.Dataset(df, ['B','Even'], vdims)\n",
    "#ds = ds.aggregate(function=np.mean) this does nothing here, in my code it takes the mean of 100 or so data points in each group for each year.\n",
    "\n",
    "scat = hv.Scatter(ds,'B','A')\n",
    "layout = ds.to(hv.Scatter,'B','A') * hv.Slope.from_scatter(scat)\n",
    "layout.opts(opts.Curve(width=800, height=400, framewise=True))"
   ]
  },
  {
   "cell_type": "code",
   "execution_count": null,
   "id": "d660d3f1",
   "metadata": {
    "ExecuteTime": {
     "end_time": "2022-10-16T05:33:53.887601Z",
     "start_time": "2022-10-16T05:33:53.829572Z"
    },
    "hidden": true
   },
   "outputs": [],
   "source": [
    "#TODO: turn this into a holoview widget that selects the trial\n",
    "#src: https://holoviews.org/user_guide/Dashboards.html\n",
    "dmap = hv.DynamicMap(pn.bind(load_symbol, symbol=symbol, variable=variable))\n",
    "smoothed = rolling(dmap, rolling_window=rolling_window)\n",
    "\n",
    "app = pn.Row(pn.WidgetBox('## Stock Explorer', symbol, variable, rolling_window), \n",
    "             smoothed.opts(width=500, framewise=True)).servable()\n",
    "app"
   ]
  },
  {
   "cell_type": "code",
   "execution_count": null,
   "id": "91d98784",
   "metadata": {
    "ExecuteTime": {
     "end_time": "2022-10-16T06:27:22.611933Z",
     "start_time": "2022-10-16T06:27:22.577505Z"
    },
    "hidden": true
   },
   "outputs": [],
   "source": [
    "# hv.DynamicMap?"
   ]
  },
  {
   "cell_type": "code",
   "execution_count": null,
   "id": "c5106e21",
   "metadata": {
    "ExecuteTime": {
     "end_time": "2022-10-16T04:12:20.791844Z",
     "start_time": "2022-10-16T04:12:20.765226Z"
    },
    "hidden": true
   },
   "outputs": [],
   "source": [
    "#heretim\n",
    "#TODO: use cuxfilter.charts.scatter as chart1\n",
    "# cuxfilter.charts.scatter?\n",
    "# chart1=cuxfilter.charts.datashader.scatter('UMAP1','UMAP2')\n",
    "#     x='UMAP1',\n",
    "#     y='UMAP2')#\n",
    "#     x_range=None,\n",
    "#     y_range=None,\n",
    "#     add_interaction=True,\n",
    "#     color_palette=None,\n",
    "#     aggregate_col=None,\n",
    "#     aggregate_fn='count',\n",
    "#     point_size=15,\n",
    "#     point_shape='circle',\n",
    "#     pixel_shade_type='eq_hist',\n",
    "#     pixel_density=0.5,\n",
    "#     pixel_spread='dynspread',\n",
    "#     tile_provider=None,\n",
    "#     width=800,\n",
    "#     height=400,\n",
    "#     title='',\n",
    "#     timeout=100,\n",
    "#     legend=True,\n",
    "#     legend_position='top_right',\n",
    "#     unselected_alpha=0.2,\n",
    "#     **library_specific_params,\n",
    "# )"
   ]
  },
  {
   "cell_type": "code",
   "execution_count": null,
   "id": "6b3ce4c1",
   "metadata": {
    "ExecuteTime": {
     "end_time": "2022-10-16T04:12:21.391327Z",
     "start_time": "2022-10-16T04:12:21.364182Z"
    },
    "hidden": true
   },
   "outputs": [],
   "source": [
    "# chart1 = cuxfilter.charts.bar('amax')\n",
    "chart2 = cuxfilter.charts.bar('rxn')"
   ]
  },
  {
   "cell_type": "code",
   "execution_count": null,
   "id": "c5374fb0",
   "metadata": {
    "ExecuteTime": {
     "end_time": "2022-10-16T04:12:25.670940Z",
     "start_time": "2022-10-16T04:12:21.967943Z"
    },
    "hidden": true
   },
   "outputs": [],
   "source": [
    "# declare dashboard\n",
    "# charts_list = [chart1, chart2]\n",
    "charts_list = [chart1, chart2]\n",
    "d = cux_df.dashboard(charts_list, layout=cuxfilter.layouts.feature_and_base, theme=cuxfilter.themes.rapids, title=\"Data Layout: Custom (as left feature right double)\")\n",
    "\n",
    "# d = cux_df.dashboard(charts_list, \n",
    "#                      layout=cuxfilter.layouts.feature_and_double_base,\n",
    "#                      theme =cuxfilter.themes.rapids, #cuxfilter.themes.light, \n",
    "#                      title='Dataset')\n",
    "# d = cux_df.dashboard(charts_list[:4], layout=cuxfilter.layouts.left_feature_right_double, theme=cuxfilter.themes.rapids, title=\"Layout - left feature right double\")\n",
    "await d.preview()"
   ]
  },
  {
   "cell_type": "code",
   "execution_count": null,
   "id": "0649d3ac",
   "metadata": {
    "hidden": true
   },
   "outputs": [],
   "source": []
  },
  {
   "cell_type": "code",
   "execution_count": null,
   "id": "d6ca52bb",
   "metadata": {
    "ExecuteTime": {
     "end_time": "2022-10-16T04:10:08.704022Z",
     "start_time": "2022-10-16T04:10:02.952822Z"
    },
    "hidden": true
   },
   "outputs": [],
   "source": [
    "# chart1 = cuxfilter.charts.scatter(x='amax', y='log_likelihood')\n",
    "# chart1 = cuxfilter.charts.bar('amax')\n",
    "chart2 = cuxfilter.charts.bar('rxn')\n",
    "chart3 = cuxfilter.charts.bar('delta')\n",
    "chart4 = cuxfilter.charts.bar('log_likelihood')\n",
    "# d = cux_df.dashboard([chart0, chart1, chart2], layout=cuxfilter.layouts.feature_and_double_base)\n",
    "# d.show()\n",
    "\n",
    "#TODO: modify this example to host a multiuser server dashboard for this\n",
    "# [chart0, chart1, chart2], layout=cuxfilter.layouts.feature_and_double_base\n",
    "\n",
    "# cuxfilter.layouts.feature_and_base?\n",
    "charts_list = [\n",
    "    chart1, chart2,\n",
    "    chart3, chart4,\n",
    "]\n",
    "# declare dashboard\n",
    "charts_list = [chart1, chart2, chart3, chart4]\n",
    "d = cux_df.dashboard(charts_list, layout_array=[\n",
    "    [1, 1, 2, 2],\n",
    "    [1, 1, 3, 4]\n",
    "    ], theme=cuxfilter.themes.rapids, title=\"Data Layout: Custom (as left feature right double)\")\n",
    "\n",
    "# d = cux_df.dashboard(charts_list, \n",
    "#                      layout=cuxfilter.layouts.feature_and_double_base,\n",
    "#                      theme =cuxfilter.themes.rapids, #cuxfilter.themes.light, \n",
    "#                      title='Dataset')\n",
    "# d = cux_df.dashboard(charts_list[:4], layout=cuxfilter.layouts.left_feature_right_double, theme=cuxfilter.themes.rapids, title=\"Layout - left feature right double\")\n",
    "await d.preview()"
   ]
  },
  {
   "cell_type": "code",
   "execution_count": null,
   "id": "60226902",
   "metadata": {
    "ExecuteTime": {
     "end_time": "2022-10-16T04:04:08.150282Z",
     "start_time": "2022-10-16T04:04:08.096278Z"
    },
    "hidden": true
   },
   "outputs": [],
   "source": [
    "# Run this app with `python app.py` and\n",
    "# visit http://127.0.0.1:8050/ in your web browser.\n",
    "\n",
    "from dash import Dash, dcc, html\n",
    "import plotly.express as px\n",
    "import pandas as pd\n",
    "\n",
    "\n",
    "app = Dash(__name__)\n",
    "\n",
    "df = pd.read_csv('https://gist.githubusercontent.com/chriddyp/5d1ea79569ed194d432e56108a04d188/raw/a9f9e8076b837d541398e999dcbac2b2826a81f8/gdp-life-exp-2007.csv')\n",
    "\n",
    "fig = px.scatter(df, x=\"gdp per capita\", y=\"life expectancy\",\n",
    "                 size=\"population\", color=\"continent\", hover_name=\"country\",\n",
    "                 log_x=True, size_max=60)\n",
    "\n",
    "app.layout = html.Div([\n",
    "    dcc.Graph(\n",
    "        id='life-exp-vs-gdp',\n",
    "        figure=fig\n",
    "    )\n",
    "])\n",
    "\n",
    "if __name__ == '__main__':\n",
    "    app.run_server(debug=True)"
   ]
  },
  {
   "cell_type": "code",
   "execution_count": null,
   "id": "6dcaf5a9",
   "metadata": {
    "ExecuteTime": {
     "end_time": "2022-10-16T03:54:14.092747Z",
     "start_time": "2022-10-16T03:54:14.039943Z"
    },
    "hidden": true
   },
   "outputs": [],
   "source": [
    "# # cuxfilter.charts.datashader.scatter?\n",
    "# cuxfilter.charts.datashader.scatter(\n",
    "#     x,\n",
    "#     y,\n",
    "#     x_range=None,\n",
    "#     y_range=None,\n",
    "#     add_interaction=True,\n",
    "#     color_palette=None,\n",
    "#     aggregate_col=None,\n",
    "#     aggregate_fn='count',\n",
    "#     point_size=15,\n",
    "#     point_shape='circle',\n",
    "#     pixel_shade_type='eq_hist',\n",
    "#     pixel_density=0.5,\n",
    "#     pixel_spread='dynspread',\n",
    "#     tile_provider=None,\n",
    "#     width=800,\n",
    "#     height=400,\n",
    "#     title='',\n",
    "#     timeout=100,\n",
    "#     legend=True,\n",
    "#     legend_position='top_right',\n",
    "#     unselected_alpha=0.2,\n",
    "#     **library_specific_params,\n",
    "# )"
   ]
  },
  {
   "cell_type": "code",
   "execution_count": null,
   "id": "6d678295",
   "metadata": {
    "hidden": true
   },
   "outputs": [],
   "source": []
  },
  {
   "cell_type": "code",
   "execution_count": null,
   "id": "35eb2415",
   "metadata": {
    "hidden": true
   },
   "outputs": [],
   "source": []
  },
  {
   "cell_type": "code",
   "execution_count": null,
   "id": "0aea87b3",
   "metadata": {
    "ExecuteTime": {
     "end_time": "2022-10-16T03:08:45.349392Z",
     "start_time": "2022-10-16T03:08:45.203967Z"
    },
    "hidden": true
   },
   "outputs": [],
   "source": [
    "#  NameError: name 'port' is not defined \n",
    "# ---------------------------------------------------------------------------\n",
    "\n",
    "# def bkapp(doc):\n",
    "#     global cux_df\n",
    "#     #_________________________________________________\n",
    "# chart1 = cuxfilter.charts.scatter(x='amax', y='log_likelihood')\n",
    "chart1 = cuxfilter.charts.bar('amax')\n",
    "chart2 = cuxfilter.charts.bar('rxn')\n",
    "chart3 = cuxfilter.charts.bar('delta')\n",
    "chart4 = cuxfilter.charts.bar('log_likelihood')\n",
    "# d = cux_df.dashboard([chart0, chart1, chart2], layout=cuxfilter.layouts.feature_and_double_base)\n",
    "# d.show()\n",
    "\n",
    "#TODO: modify this example to host a multiuser server dashboard for this\n",
    "# [chart0, chart1, chart2], layout=cuxfilter.layouts.feature_and_double_base\n",
    "\n",
    "# cuxfilter.layouts.feature_and_base?\n",
    "charts_list = [\n",
    "    chart1, chart2,\n",
    "    chart3, chart4,\n",
    "]\n",
    "# declare dashboard\n",
    "charts_list = [chart1, chart2, chart3, chart4]\n",
    "d = cux_df.dashboard(charts_list, layout_array=[\n",
    "    [1, 1, 2, 2],\n",
    "    [1, 1, 3, 4]\n",
    "    ], theme=cuxfilter.themes.rapids, title=\"Data Layout: Custom (as left feature right double)\")\n",
    "#     #^^^^^^^^^^^^^^^^^^^^^^^^^^^^^^^^^^^^^^^^^^^^^^^^^^^\n",
    "#         # run the dashboard as a webapp:\n",
    "#     d._dashboard.generate_dashboard(\n",
    "#         d.title, d._charts, d._theme\n",
    "#     ).server_doc(doc)"
   ]
  },
  {
   "cell_type": "code",
   "execution_count": null,
   "id": "b3ecd7ad",
   "metadata": {
    "ExecuteTime": {
     "end_time": "2022-10-16T03:09:51.520246Z",
     "start_time": "2022-10-16T03:09:46.026910Z"
    },
    "hidden": true
   },
   "outputs": [],
   "source": [
    "await d.preview()"
   ]
  },
  {
   "cell_type": "code",
   "execution_count": null,
   "id": "a2421b99",
   "metadata": {
    "ExecuteTime": {
     "end_time": "2022-10-16T03:09:55.977844Z",
     "start_time": "2022-10-16T03:09:55.821303Z"
    },
    "hidden": true
   },
   "outputs": [],
   "source": [
    "d.show()"
   ]
  },
  {
   "cell_type": "code",
   "execution_count": null,
   "id": "1488ec5a",
   "metadata": {
    "ExecuteTime": {
     "end_time": "2022-10-16T03:05:40.098830Z",
     "start_time": "2022-10-16T03:05:40.058536Z"
    },
    "hidden": true
   },
   "outputs": [],
   "source": [
    "#  NameError: name 'port' is not defined \n",
    "# ---------------------------------------------------------------------------\n",
    "server = Server({'/custom_dashboard': bkapp}, num_procs=1, allow_websocket_origin=[\"127.0.0.1:80\"])\n",
    "server.start()\n",
    "\n",
    "print('running server on port '+str(port))\n",
    "server.io_loop.start()"
   ]
  },
  {
   "cell_type": "code",
   "execution_count": null,
   "id": "29c3aa33",
   "metadata": {
    "hidden": true
   },
   "outputs": [],
   "source": []
  },
  {
   "cell_type": "code",
   "execution_count": null,
   "id": "cf61f656",
   "metadata": {
    "hidden": true
   },
   "outputs": [],
   "source": [
    "    \n",
    "    # run the dashboard as a webapp:\n",
    "    d._dashboard.generate_dashboard(\n",
    "        d.title, d._charts, d._theme\n",
    "    ).server_doc(doc)\n",
    "\n"
   ]
  },
  {
   "cell_type": "code",
   "execution_count": null,
   "id": "a30d6b77",
   "metadata": {
    "hidden": true
   },
   "outputs": [],
   "source": []
  },
  {
   "cell_type": "code",
   "execution_count": null,
   "id": "955dbc9f",
   "metadata": {
    "ExecuteTime": {
     "end_time": "2022-10-16T01:49:18.355360Z",
     "start_time": "2022-10-16T01:49:18.261159Z"
    },
    "hidden": true
   },
   "outputs": [],
   "source": [
    "# #TODO: plot multiuser dashboard for these dataframes\n",
    "# # cux_df = cuxfilter.DataFrame.from_arrow(DATA_DIR+'/auto_accidents.arrow')\n",
    "# # cux_df = cuxfilter.DataFrame.from_parquet(parquet_dir_defects_fk)\n",
    "# cux_df = cuxfilter.DataFrame.from_parquet(parquet_dir_defects_lr)\n",
    "# # cux_df.data['ST_CASE'] = cux_df.data['ST_CASE'].astype('float64')\n",
    "\n",
    "# def bkapp(doc):\n",
    "#     global cux_df\n",
    "#     label_map = {1: 'Sunday',    2: 'Monday',    3: 'Tuesday',    4: 'Wednesday',   5: 'Thursday',    6: 'Friday',    7: 'Saturday',    9: 'Unknown'}\n",
    "#     gtc_demo_red_blue_palette = [ (49,130,189), (107,174,214), (123, 142, 216), (226,103,152), (255,0,104) , (50,50,50) ]\n",
    "\n",
    "#     # declare charts\n",
    "#     chart1 = cuxfilter.charts.scatter(x='dropoff_x', y='dropoff_y', aggregate_col='ST_CASE',\n",
    "#                                             color_palette=gtc_demo_red_blue_palette)\n",
    "#     chart2 = cuxfilter.charts.multi_select('YEAR')\n",
    "#     chart3 = cuxfilter.charts.bar('DAY_WEEK', x_label_map=label_map)\n",
    "#     chart4 = cuxfilter.charts.bar('MONTH')\n",
    "\n",
    "#     # declare dashboard\n",
    "#     d = cux_df.dashboard([chart1, chart2, chart3, chart4], \n",
    "#                          layout=cuxfilter.layouts.feature_and_double_base,\n",
    "#                          theme =cuxfilter.themes.rapids, #cuxfilter.themes.light, \n",
    "#                          title='Dataset')\n",
    "#     charts_list = [chart1, chart2, chart3, chart4]\n",
    "#     d = cux_df.dashboard(charts_list, layout_array=[\n",
    "#     [1, 1, 2, 2],\n",
    "#     [1, 1, 3, 4]\n",
    "# ], theme=cuxfilter.themes.rapids, title=\"Data Layout: Custom (as left feature right double)\")\n",
    "# # d = cux_df.dashboard(charts_list[:4], layout=cuxfilter.layouts.left_feature_right_double, theme=cuxfilter.themes.rapids, title=\"Layout - left feature right double\")\n",
    "\n",
    "    \n",
    "#     # run the dashboard as a webapp:\n",
    "#     d._dashboard.generate_dashboard(\n",
    "#         d.title, d._charts, d._theme\n",
    "#     ).server_doc(doc)\n",
    "\n"
   ]
  },
  {
   "cell_type": "code",
   "execution_count": null,
   "id": "47a965f1",
   "metadata": {
    "hidden": true
   },
   "outputs": [],
   "source": [
    "#launch the multiuser server\n",
    "# if __name__ == '__main__':\n",
    "server = Server({'/custom_dashboard': bkapp}, num_procs=1, allow_websocket_origin=[\"127.0.0.1:80\"])\n",
    "server.start()\n",
    "\n",
    "print('running server on port '+str(port))\n",
    "server.io_loop.start()"
   ]
  },
  {
   "cell_type": "code",
   "execution_count": null,
   "id": "b9fae7df",
   "metadata": {
    "ExecuteTime": {
     "end_time": "2022-10-16T01:42:48.674995Z",
     "start_time": "2022-10-16T01:42:48.613778Z"
    },
    "hidden": true
   },
   "outputs": [],
   "source": []
  },
  {
   "cell_type": "code",
   "execution_count": null,
   "id": "9ee04ab3",
   "metadata": {
    "hidden": true
   },
   "outputs": [],
   "source": []
  },
  {
   "cell_type": "code",
   "execution_count": null,
   "id": "9a8da903",
   "metadata": {
    "hidden": true
   },
   "outputs": [],
   "source": [
    "#TODO: dev inverse mapping from one row of xcol_lst to one row of df_defects\n",
    "#TODO: wrap ^that as foo\n",
    "#TODO: recall map from one row to annihilation rates\n",
    "#TODO: cp basic dashboard with two scatterplot panels\n",
    "#TODO: test it works\n",
    "#TODO: modify it to my desired dashboard\n",
    "# - (left) umap scatter plot that let's me select a point\n",
    "# - (right) plot of "
   ]
  },
  {
   "cell_type": "code",
   "execution_count": null,
   "id": "e8e9bac8",
   "metadata": {
    "hidden": true
   },
   "outputs": [],
   "source": [
    "#TODO: make basic plot from one value "
   ]
  }
 ],
 "metadata": {
  "kernelspec": {
   "display_name": "Python 3 (ipykernel)",
   "language": "python",
   "name": "python3"
  },
  "language_info": {
   "codemirror_mode": {
    "name": "ipython",
    "version": 3
   },
   "file_extension": ".py",
   "mimetype": "text/x-python",
   "name": "python",
   "nbconvert_exporter": "python",
   "pygments_lexer": "ipython3",
   "version": "3.9.13"
  },
  "toc": {
   "base_numbering": 1,
   "nav_menu": {},
   "number_sections": true,
   "sideBar": true,
   "skip_h1_title": false,
   "title_cell": "Table of Contents",
   "title_sidebar": "Contents",
   "toc_cell": false,
   "toc_position": {},
   "toc_section_display": true,
   "toc_window_display": false
  }
 },
 "nbformat": 4,
 "nbformat_minor": 5
}
