{
 "cells": [
  {
   "cell_type": "markdown",
   "metadata": {},
   "source": [
    "# generating logs from the particle model\n",
    "Tim Tyree<br>\n",
    "7.1.2021"
   ]
  },
  {
   "cell_type": "code",
   "execution_count": 1,
   "metadata": {
    "ExecuteTime": {
     "end_time": "2021-10-13T22:04:34.834065Z",
     "start_time": "2021-10-13T22:04:32.874256Z"
    }
   },
   "outputs": [
    {
     "data": {
      "text/plain": [
       "<function lib.routines.gener_log.get_routine_gener_logs(results_folder, N=16, L=10, r=0.1, D=2, kappa=1500, Dt=1e-05, dt=1e-05, tmax=10, force_code=2, varkappa=5, save_every=25, dist_cutoff=0.01, x0=5, no_repulsion=1, no_attraction=0, use_neighbors=0, explicitly_uniform_ic=False, **kwargs)>"
      ]
     },
     "execution_count": 1,
     "metadata": {},
     "output_type": "execute_result"
    }
   ],
   "source": [
    "from lib.my_initialization import *\n",
    "from lib.utils.pbc import *\n",
    "import shutil\n",
    "from numpy.random import MT19937\n",
    "from numpy.random import RandomState, SeedSequence\n",
    "\n",
    "from lib.routines.gener_log import *\n",
    "\n",
    "%load_ext autoreload\n",
    "%autoreload 2\n",
    "get_routine_gener_logs"
   ]
  },
  {
   "cell_type": "code",
   "execution_count": 2,
   "metadata": {
    "ExecuteTime": {
     "end_time": "2021-10-13T22:04:35.902863Z",
     "start_time": "2021-10-13T22:04:35.876202Z"
    }
   },
   "outputs": [],
   "source": [
    "#DONE: dev functional routine that takes an integer seed as input and outputs a directory of the resulting _log.csv file\n",
    "#DONE: put ^that in a .py file and load it\n",
    "#DONE: make a list of enough integers\n",
    "# seed_values=np.arange(100)+1\n",
    "#DONE: daskbag over ^that\n"
   ]
  },
  {
   "cell_type": "code",
   "execution_count": 3,
   "metadata": {
    "ExecuteTime": {
     "end_time": "2021-10-13T22:04:36.930667Z",
     "start_time": "2021-10-13T22:04:36.914108Z"
    }
   },
   "outputs": [
    {
     "data": {
      "text/plain": [
       "1"
      ]
     },
     "execution_count": 3,
     "metadata": {},
     "output_type": "execute_result"
    }
   ],
   "source": [
    "# #performace test\n",
    "# results_folder=f\"{nb_dir}/data/local_results\"\n",
    "# routine_gener_logs=get_routine_gener_logs(results_folder,tmax=.1)\n",
    "# routine_gener_logs(seed=1)\n",
    "# 16*100/60 #=~27min per trial\n",
    "Dt=1e-5\n",
    "dt=1e-5\n",
    "iter_per_movestep = round(Dt / dt)\n",
    "iter_per_movestep"
   ]
  },
  {
   "cell_type": "code",
   "execution_count": 10,
   "metadata": {
    "ExecuteTime": {
     "end_time": "2021-10-14T18:42:09.589683Z",
     "start_time": "2021-10-14T18:42:09.490425Z"
    }
   },
   "outputs": [],
   "source": [
    "#on Mac...\n",
    "# 16*100/60 #=~27min per trial\n",
    "#8 cores... 12 hours...\n",
    "# 12*60*8/27 #213 trials\n",
    "num_trials=2000\n",
    "seed_values=np.arange(num_trials)+1\n",
    "tmax=10\n",
    "varkappa=5\n",
    "D=0\n",
    "kappa=1500\n",
    "r=0.1\n",
    "save_every=25\n",
    "use_neighbors=1\n",
    "N=2#16"
   ]
  },
  {
   "cell_type": "code",
   "execution_count": 11,
   "metadata": {
    "ExecuteTime": {
     "end_time": "2021-10-14T18:42:10.962742Z",
     "start_time": "2021-10-14T18:42:10.931687Z"
    }
   },
   "outputs": [
    {
     "name": "stdout",
     "output_type": "stream",
     "text": [
      "the resulting logs will have a time resolution of 0.25 'ms' between two frames\n"
     ]
    }
   ],
   "source": [
    "DT=save_every*Dt #seconds between two frames\n",
    "print(f\"the resulting logs will have a time resolution of {DT*10**3} 'ms' between two frames\")"
   ]
  },
  {
   "cell_type": "code",
   "execution_count": 12,
   "metadata": {
    "ExecuteTime": {
     "end_time": "2021-10-15T02:47:08.916992Z",
     "start_time": "2021-10-14T18:42:14.274767Z"
    }
   },
   "outputs": [
    {
     "name": "stdout",
     "output_type": "stream",
     "text": [
      "computing xy trajectories for the particle model...\n",
      "considering in 2000 trial sets.\n",
      "outputing to .csv in results_folder=/home/timothytyree/Documents/GitHub/bgmc/python/data/local_results...\n",
      "the run time for computing xy trajectories was 484.91 minutes.\n"
     ]
    }
   ],
   "source": [
    "results_folder=f\"{nb_dir}/data/local_results\"\n",
    "kwargs=dict(tmax=tmax,varkappa=varkappa,D=D,kappa=kappa,use_neighbors=use_neighbors,r=r,N=N)\n",
    "routine_gener_logs=get_routine_gener_logs(results_folder,**kwargs)\n",
    "routine=routine_gener_logs\n",
    "npartitions=os.cpu_count()\n",
    "#for each trial set...\n",
    "bag = db.from_sequence(seed_values, npartitions=npartitions).map(routine)\n",
    "print(f\"computing xy trajectories for the particle model...\\nconsidering in {len(list(seed_values))} trial sets.\\noutputing to .csv in results_folder={results_folder}...\")\n",
    "start = time.time()\n",
    "retval_lst = list(bag)\n",
    "print(f\"the run time for computing xy trajectories was {(time.time()-start)/60:.2f} minutes.\")"
   ]
  },
  {
   "cell_type": "code",
   "execution_count": 9,
   "metadata": {
    "ExecuteTime": {
     "end_time": "2021-10-14T18:38:54.864408Z",
     "start_time": "2021-10-14T18:38:54.826827Z"
    }
   },
   "outputs": [
    {
     "data": {
      "text/plain": [
       "['/home/timothytyree/Documents/GitHub/bgmc/python/data/local_results/neighbors_1_uniformic_0_fc_2_r_0.1_D_0_L_10_kappa_1500_varkappa_5/Log/pbc_particle_log1_log.csv',\n",
       " '/home/timothytyree/Documents/GitHub/bgmc/python/data/local_results/neighbors_1_uniformic_0_fc_2_r_0.1_D_0_L_10_kappa_1500_varkappa_5/Log/pbc_particle_log2_log.csv',\n",
       " '/home/timothytyree/Documents/GitHub/bgmc/python/data/local_results/neighbors_1_uniformic_0_fc_2_r_0.1_D_0_L_10_kappa_1500_varkappa_5/Log/pbc_particle_log3_log.csv',\n",
       " '/home/timothytyree/Documents/GitHub/bgmc/python/data/local_results/neighbors_1_uniformic_0_fc_2_r_0.1_D_0_L_10_kappa_1500_varkappa_5/Log/pbc_particle_log4_log.csv',\n",
       " '/home/timothytyree/Documents/GitHub/bgmc/python/data/local_results/neighbors_1_uniformic_0_fc_2_r_0.1_D_0_L_10_kappa_1500_varkappa_5/Log/pbc_particle_log5_log.csv',\n",
       " '/home/timothytyree/Documents/GitHub/bgmc/python/data/local_results/neighbors_1_uniformic_0_fc_2_r_0.1_D_0_L_10_kappa_1500_varkappa_5/Log/pbc_particle_log6_log.csv',\n",
       " '/home/timothytyree/Documents/GitHub/bgmc/python/data/local_results/neighbors_1_uniformic_0_fc_2_r_0.1_D_0_L_10_kappa_1500_varkappa_5/Log/pbc_particle_log7_log.csv',\n",
       " '/home/timothytyree/Documents/GitHub/bgmc/python/data/local_results/neighbors_1_uniformic_0_fc_2_r_0.1_D_0_L_10_kappa_1500_varkappa_5/Log/pbc_particle_log8_log.csv',\n",
       " '/home/timothytyree/Documents/GitHub/bgmc/python/data/local_results/neighbors_1_uniformic_0_fc_2_r_0.1_D_0_L_10_kappa_1500_varkappa_5/Log/pbc_particle_log9_log.csv',\n",
       " '/home/timothytyree/Documents/GitHub/bgmc/python/data/local_results/neighbors_1_uniformic_0_fc_2_r_0.1_D_0_L_10_kappa_1500_varkappa_5/Log/pbc_particle_log10_log.csv',\n",
       " '/home/timothytyree/Documents/GitHub/bgmc/python/data/local_results/neighbors_1_uniformic_0_fc_2_r_0.1_D_0_L_10_kappa_1500_varkappa_5/Log/pbc_particle_log11_log.csv',\n",
       " '/home/timothytyree/Documents/GitHub/bgmc/python/data/local_results/neighbors_1_uniformic_0_fc_2_r_0.1_D_0_L_10_kappa_1500_varkappa_5/Log/pbc_particle_log12_log.csv',\n",
       " '/home/timothytyree/Documents/GitHub/bgmc/python/data/local_results/neighbors_1_uniformic_0_fc_2_r_0.1_D_0_L_10_kappa_1500_varkappa_5/Log/pbc_particle_log13_log.csv',\n",
       " '/home/timothytyree/Documents/GitHub/bgmc/python/data/local_results/neighbors_1_uniformic_0_fc_2_r_0.1_D_0_L_10_kappa_1500_varkappa_5/Log/pbc_particle_log14_log.csv',\n",
       " '/home/timothytyree/Documents/GitHub/bgmc/python/data/local_results/neighbors_1_uniformic_0_fc_2_r_0.1_D_0_L_10_kappa_1500_varkappa_5/Log/pbc_particle_log15_log.csv',\n",
       " '/home/timothytyree/Documents/GitHub/bgmc/python/data/local_results/neighbors_1_uniformic_0_fc_2_r_0.1_D_0_L_10_kappa_1500_varkappa_5/Log/pbc_particle_log16_log.csv',\n",
       " '/home/timothytyree/Documents/GitHub/bgmc/python/data/local_results/neighbors_1_uniformic_0_fc_2_r_0.1_D_0_L_10_kappa_1500_varkappa_5/Log/pbc_particle_log17_log.csv',\n",
       " '/home/timothytyree/Documents/GitHub/bgmc/python/data/local_results/neighbors_1_uniformic_0_fc_2_r_0.1_D_0_L_10_kappa_1500_varkappa_5/Log/pbc_particle_log18_log.csv',\n",
       " '/home/timothytyree/Documents/GitHub/bgmc/python/data/local_results/neighbors_1_uniformic_0_fc_2_r_0.1_D_0_L_10_kappa_1500_varkappa_5/Log/pbc_particle_log19_log.csv',\n",
       " '/home/timothytyree/Documents/GitHub/bgmc/python/data/local_results/neighbors_1_uniformic_0_fc_2_r_0.1_D_0_L_10_kappa_1500_varkappa_5/Log/pbc_particle_log20_log.csv',\n",
       " '/home/timothytyree/Documents/GitHub/bgmc/python/data/local_results/neighbors_1_uniformic_0_fc_2_r_0.1_D_0_L_10_kappa_1500_varkappa_5/Log/pbc_particle_log21_log.csv',\n",
       " '/home/timothytyree/Documents/GitHub/bgmc/python/data/local_results/neighbors_1_uniformic_0_fc_2_r_0.1_D_0_L_10_kappa_1500_varkappa_5/Log/pbc_particle_log22_log.csv',\n",
       " '/home/timothytyree/Documents/GitHub/bgmc/python/data/local_results/neighbors_1_uniformic_0_fc_2_r_0.1_D_0_L_10_kappa_1500_varkappa_5/Log/pbc_particle_log23_log.csv',\n",
       " '/home/timothytyree/Documents/GitHub/bgmc/python/data/local_results/neighbors_1_uniformic_0_fc_2_r_0.1_D_0_L_10_kappa_1500_varkappa_5/Log/pbc_particle_log24_log.csv',\n",
       " '/home/timothytyree/Documents/GitHub/bgmc/python/data/local_results/neighbors_1_uniformic_0_fc_2_r_0.1_D_0_L_10_kappa_1500_varkappa_5/Log/pbc_particle_log25_log.csv',\n",
       " '/home/timothytyree/Documents/GitHub/bgmc/python/data/local_results/neighbors_1_uniformic_0_fc_2_r_0.1_D_0_L_10_kappa_1500_varkappa_5/Log/pbc_particle_log26_log.csv',\n",
       " '/home/timothytyree/Documents/GitHub/bgmc/python/data/local_results/neighbors_1_uniformic_0_fc_2_r_0.1_D_0_L_10_kappa_1500_varkappa_5/Log/pbc_particle_log27_log.csv',\n",
       " '/home/timothytyree/Documents/GitHub/bgmc/python/data/local_results/neighbors_1_uniformic_0_fc_2_r_0.1_D_0_L_10_kappa_1500_varkappa_5/Log/pbc_particle_log28_log.csv',\n",
       " '/home/timothytyree/Documents/GitHub/bgmc/python/data/local_results/neighbors_1_uniformic_0_fc_2_r_0.1_D_0_L_10_kappa_1500_varkappa_5/Log/pbc_particle_log29_log.csv',\n",
       " '/home/timothytyree/Documents/GitHub/bgmc/python/data/local_results/neighbors_1_uniformic_0_fc_2_r_0.1_D_0_L_10_kappa_1500_varkappa_5/Log/pbc_particle_log30_log.csv',\n",
       " '/home/timothytyree/Documents/GitHub/bgmc/python/data/local_results/neighbors_1_uniformic_0_fc_2_r_0.1_D_0_L_10_kappa_1500_varkappa_5/Log/pbc_particle_log31_log.csv',\n",
       " '/home/timothytyree/Documents/GitHub/bgmc/python/data/local_results/neighbors_1_uniformic_0_fc_2_r_0.1_D_0_L_10_kappa_1500_varkappa_5/Log/pbc_particle_log32_log.csv',\n",
       " '/home/timothytyree/Documents/GitHub/bgmc/python/data/local_results/neighbors_1_uniformic_0_fc_2_r_0.1_D_0_L_10_kappa_1500_varkappa_5/Log/pbc_particle_log33_log.csv',\n",
       " '/home/timothytyree/Documents/GitHub/bgmc/python/data/local_results/neighbors_1_uniformic_0_fc_2_r_0.1_D_0_L_10_kappa_1500_varkappa_5/Log/pbc_particle_log34_log.csv',\n",
       " '/home/timothytyree/Documents/GitHub/bgmc/python/data/local_results/neighbors_1_uniformic_0_fc_2_r_0.1_D_0_L_10_kappa_1500_varkappa_5/Log/pbc_particle_log35_log.csv',\n",
       " '/home/timothytyree/Documents/GitHub/bgmc/python/data/local_results/neighbors_1_uniformic_0_fc_2_r_0.1_D_0_L_10_kappa_1500_varkappa_5/Log/pbc_particle_log36_log.csv',\n",
       " '/home/timothytyree/Documents/GitHub/bgmc/python/data/local_results/neighbors_1_uniformic_0_fc_2_r_0.1_D_0_L_10_kappa_1500_varkappa_5/Log/pbc_particle_log37_log.csv',\n",
       " '/home/timothytyree/Documents/GitHub/bgmc/python/data/local_results/neighbors_1_uniformic_0_fc_2_r_0.1_D_0_L_10_kappa_1500_varkappa_5/Log/pbc_particle_log38_log.csv',\n",
       " '/home/timothytyree/Documents/GitHub/bgmc/python/data/local_results/neighbors_1_uniformic_0_fc_2_r_0.1_D_0_L_10_kappa_1500_varkappa_5/Log/pbc_particle_log39_log.csv',\n",
       " '/home/timothytyree/Documents/GitHub/bgmc/python/data/local_results/neighbors_1_uniformic_0_fc_2_r_0.1_D_0_L_10_kappa_1500_varkappa_5/Log/pbc_particle_log40_log.csv',\n",
       " '/home/timothytyree/Documents/GitHub/bgmc/python/data/local_results/neighbors_1_uniformic_0_fc_2_r_0.1_D_0_L_10_kappa_1500_varkappa_5/Log/pbc_particle_log41_log.csv',\n",
       " '/home/timothytyree/Documents/GitHub/bgmc/python/data/local_results/neighbors_1_uniformic_0_fc_2_r_0.1_D_0_L_10_kappa_1500_varkappa_5/Log/pbc_particle_log42_log.csv',\n",
       " '/home/timothytyree/Documents/GitHub/bgmc/python/data/local_results/neighbors_1_uniformic_0_fc_2_r_0.1_D_0_L_10_kappa_1500_varkappa_5/Log/pbc_particle_log43_log.csv',\n",
       " '/home/timothytyree/Documents/GitHub/bgmc/python/data/local_results/neighbors_1_uniformic_0_fc_2_r_0.1_D_0_L_10_kappa_1500_varkappa_5/Log/pbc_particle_log44_log.csv',\n",
       " '/home/timothytyree/Documents/GitHub/bgmc/python/data/local_results/neighbors_1_uniformic_0_fc_2_r_0.1_D_0_L_10_kappa_1500_varkappa_5/Log/pbc_particle_log45_log.csv',\n",
       " '/home/timothytyree/Documents/GitHub/bgmc/python/data/local_results/neighbors_1_uniformic_0_fc_2_r_0.1_D_0_L_10_kappa_1500_varkappa_5/Log/pbc_particle_log46_log.csv',\n",
       " '/home/timothytyree/Documents/GitHub/bgmc/python/data/local_results/neighbors_1_uniformic_0_fc_2_r_0.1_D_0_L_10_kappa_1500_varkappa_5/Log/pbc_particle_log47_log.csv',\n",
       " '/home/timothytyree/Documents/GitHub/bgmc/python/data/local_results/neighbors_1_uniformic_0_fc_2_r_0.1_D_0_L_10_kappa_1500_varkappa_5/Log/pbc_particle_log48_log.csv',\n",
       " '/home/timothytyree/Documents/GitHub/bgmc/python/data/local_results/neighbors_1_uniformic_0_fc_2_r_0.1_D_0_L_10_kappa_1500_varkappa_5/Log/pbc_particle_log49_log.csv',\n",
       " '/home/timothytyree/Documents/GitHub/bgmc/python/data/local_results/neighbors_1_uniformic_0_fc_2_r_0.1_D_0_L_10_kappa_1500_varkappa_5/Log/pbc_particle_log50_log.csv',\n",
       " '/home/timothytyree/Documents/GitHub/bgmc/python/data/local_results/neighbors_1_uniformic_0_fc_2_r_0.1_D_0_L_10_kappa_1500_varkappa_5/Log/pbc_particle_log51_log.csv',\n",
       " '/home/timothytyree/Documents/GitHub/bgmc/python/data/local_results/neighbors_1_uniformic_0_fc_2_r_0.1_D_0_L_10_kappa_1500_varkappa_5/Log/pbc_particle_log52_log.csv',\n",
       " '/home/timothytyree/Documents/GitHub/bgmc/python/data/local_results/neighbors_1_uniformic_0_fc_2_r_0.1_D_0_L_10_kappa_1500_varkappa_5/Log/pbc_particle_log53_log.csv',\n",
       " '/home/timothytyree/Documents/GitHub/bgmc/python/data/local_results/neighbors_1_uniformic_0_fc_2_r_0.1_D_0_L_10_kappa_1500_varkappa_5/Log/pbc_particle_log54_log.csv',\n",
       " '/home/timothytyree/Documents/GitHub/bgmc/python/data/local_results/neighbors_1_uniformic_0_fc_2_r_0.1_D_0_L_10_kappa_1500_varkappa_5/Log/pbc_particle_log55_log.csv',\n",
       " '/home/timothytyree/Documents/GitHub/bgmc/python/data/local_results/neighbors_1_uniformic_0_fc_2_r_0.1_D_0_L_10_kappa_1500_varkappa_5/Log/pbc_particle_log56_log.csv',\n",
       " '/home/timothytyree/Documents/GitHub/bgmc/python/data/local_results/neighbors_1_uniformic_0_fc_2_r_0.1_D_0_L_10_kappa_1500_varkappa_5/Log/pbc_particle_log57_log.csv',\n",
       " '/home/timothytyree/Documents/GitHub/bgmc/python/data/local_results/neighbors_1_uniformic_0_fc_2_r_0.1_D_0_L_10_kappa_1500_varkappa_5/Log/pbc_particle_log58_log.csv',\n",
       " '/home/timothytyree/Documents/GitHub/bgmc/python/data/local_results/neighbors_1_uniformic_0_fc_2_r_0.1_D_0_L_10_kappa_1500_varkappa_5/Log/pbc_particle_log59_log.csv',\n",
       " '/home/timothytyree/Documents/GitHub/bgmc/python/data/local_results/neighbors_1_uniformic_0_fc_2_r_0.1_D_0_L_10_kappa_1500_varkappa_5/Log/pbc_particle_log60_log.csv',\n",
       " '/home/timothytyree/Documents/GitHub/bgmc/python/data/local_results/neighbors_1_uniformic_0_fc_2_r_0.1_D_0_L_10_kappa_1500_varkappa_5/Log/pbc_particle_log61_log.csv',\n",
       " '/home/timothytyree/Documents/GitHub/bgmc/python/data/local_results/neighbors_1_uniformic_0_fc_2_r_0.1_D_0_L_10_kappa_1500_varkappa_5/Log/pbc_particle_log62_log.csv',\n",
       " '/home/timothytyree/Documents/GitHub/bgmc/python/data/local_results/neighbors_1_uniformic_0_fc_2_r_0.1_D_0_L_10_kappa_1500_varkappa_5/Log/pbc_particle_log63_log.csv',\n",
       " '/home/timothytyree/Documents/GitHub/bgmc/python/data/local_results/neighbors_1_uniformic_0_fc_2_r_0.1_D_0_L_10_kappa_1500_varkappa_5/Log/pbc_particle_log64_log.csv',\n",
       " '/home/timothytyree/Documents/GitHub/bgmc/python/data/local_results/neighbors_1_uniformic_0_fc_2_r_0.1_D_0_L_10_kappa_1500_varkappa_5/Log/pbc_particle_log65_log.csv',\n",
       " '/home/timothytyree/Documents/GitHub/bgmc/python/data/local_results/neighbors_1_uniformic_0_fc_2_r_0.1_D_0_L_10_kappa_1500_varkappa_5/Log/pbc_particle_log66_log.csv',\n",
       " '/home/timothytyree/Documents/GitHub/bgmc/python/data/local_results/neighbors_1_uniformic_0_fc_2_r_0.1_D_0_L_10_kappa_1500_varkappa_5/Log/pbc_particle_log67_log.csv',\n",
       " '/home/timothytyree/Documents/GitHub/bgmc/python/data/local_results/neighbors_1_uniformic_0_fc_2_r_0.1_D_0_L_10_kappa_1500_varkappa_5/Log/pbc_particle_log68_log.csv',\n",
       " '/home/timothytyree/Documents/GitHub/bgmc/python/data/local_results/neighbors_1_uniformic_0_fc_2_r_0.1_D_0_L_10_kappa_1500_varkappa_5/Log/pbc_particle_log69_log.csv',\n",
       " '/home/timothytyree/Documents/GitHub/bgmc/python/data/local_results/neighbors_1_uniformic_0_fc_2_r_0.1_D_0_L_10_kappa_1500_varkappa_5/Log/pbc_particle_log70_log.csv',\n",
       " '/home/timothytyree/Documents/GitHub/bgmc/python/data/local_results/neighbors_1_uniformic_0_fc_2_r_0.1_D_0_L_10_kappa_1500_varkappa_5/Log/pbc_particle_log71_log.csv',\n",
       " '/home/timothytyree/Documents/GitHub/bgmc/python/data/local_results/neighbors_1_uniformic_0_fc_2_r_0.1_D_0_L_10_kappa_1500_varkappa_5/Log/pbc_particle_log72_log.csv',\n",
       " '/home/timothytyree/Documents/GitHub/bgmc/python/data/local_results/neighbors_1_uniformic_0_fc_2_r_0.1_D_0_L_10_kappa_1500_varkappa_5/Log/pbc_particle_log73_log.csv',\n",
       " '/home/timothytyree/Documents/GitHub/bgmc/python/data/local_results/neighbors_1_uniformic_0_fc_2_r_0.1_D_0_L_10_kappa_1500_varkappa_5/Log/pbc_particle_log74_log.csv',\n",
       " '/home/timothytyree/Documents/GitHub/bgmc/python/data/local_results/neighbors_1_uniformic_0_fc_2_r_0.1_D_0_L_10_kappa_1500_varkappa_5/Log/pbc_particle_log75_log.csv',\n",
       " '/home/timothytyree/Documents/GitHub/bgmc/python/data/local_results/neighbors_1_uniformic_0_fc_2_r_0.1_D_0_L_10_kappa_1500_varkappa_5/Log/pbc_particle_log76_log.csv',\n",
       " '/home/timothytyree/Documents/GitHub/bgmc/python/data/local_results/neighbors_1_uniformic_0_fc_2_r_0.1_D_0_L_10_kappa_1500_varkappa_5/Log/pbc_particle_log77_log.csv',\n",
       " '/home/timothytyree/Documents/GitHub/bgmc/python/data/local_results/neighbors_1_uniformic_0_fc_2_r_0.1_D_0_L_10_kappa_1500_varkappa_5/Log/pbc_particle_log78_log.csv',\n",
       " '/home/timothytyree/Documents/GitHub/bgmc/python/data/local_results/neighbors_1_uniformic_0_fc_2_r_0.1_D_0_L_10_kappa_1500_varkappa_5/Log/pbc_particle_log79_log.csv',\n",
       " '/home/timothytyree/Documents/GitHub/bgmc/python/data/local_results/neighbors_1_uniformic_0_fc_2_r_0.1_D_0_L_10_kappa_1500_varkappa_5/Log/pbc_particle_log80_log.csv',\n",
       " '/home/timothytyree/Documents/GitHub/bgmc/python/data/local_results/neighbors_1_uniformic_0_fc_2_r_0.1_D_0_L_10_kappa_1500_varkappa_5/Log/pbc_particle_log81_log.csv',\n",
       " '/home/timothytyree/Documents/GitHub/bgmc/python/data/local_results/neighbors_1_uniformic_0_fc_2_r_0.1_D_0_L_10_kappa_1500_varkappa_5/Log/pbc_particle_log82_log.csv',\n",
       " '/home/timothytyree/Documents/GitHub/bgmc/python/data/local_results/neighbors_1_uniformic_0_fc_2_r_0.1_D_0_L_10_kappa_1500_varkappa_5/Log/pbc_particle_log83_log.csv',\n",
       " '/home/timothytyree/Documents/GitHub/bgmc/python/data/local_results/neighbors_1_uniformic_0_fc_2_r_0.1_D_0_L_10_kappa_1500_varkappa_5/Log/pbc_particle_log84_log.csv',\n",
       " '/home/timothytyree/Documents/GitHub/bgmc/python/data/local_results/neighbors_1_uniformic_0_fc_2_r_0.1_D_0_L_10_kappa_1500_varkappa_5/Log/pbc_particle_log85_log.csv',\n",
       " '/home/timothytyree/Documents/GitHub/bgmc/python/data/local_results/neighbors_1_uniformic_0_fc_2_r_0.1_D_0_L_10_kappa_1500_varkappa_5/Log/pbc_particle_log86_log.csv',\n",
       " '/home/timothytyree/Documents/GitHub/bgmc/python/data/local_results/neighbors_1_uniformic_0_fc_2_r_0.1_D_0_L_10_kappa_1500_varkappa_5/Log/pbc_particle_log87_log.csv',\n",
       " '/home/timothytyree/Documents/GitHub/bgmc/python/data/local_results/neighbors_1_uniformic_0_fc_2_r_0.1_D_0_L_10_kappa_1500_varkappa_5/Log/pbc_particle_log88_log.csv',\n",
       " '/home/timothytyree/Documents/GitHub/bgmc/python/data/local_results/neighbors_1_uniformic_0_fc_2_r_0.1_D_0_L_10_kappa_1500_varkappa_5/Log/pbc_particle_log89_log.csv',\n",
       " '/home/timothytyree/Documents/GitHub/bgmc/python/data/local_results/neighbors_1_uniformic_0_fc_2_r_0.1_D_0_L_10_kappa_1500_varkappa_5/Log/pbc_particle_log90_log.csv',\n",
       " '/home/timothytyree/Documents/GitHub/bgmc/python/data/local_results/neighbors_1_uniformic_0_fc_2_r_0.1_D_0_L_10_kappa_1500_varkappa_5/Log/pbc_particle_log91_log.csv',\n",
       " '/home/timothytyree/Documents/GitHub/bgmc/python/data/local_results/neighbors_1_uniformic_0_fc_2_r_0.1_D_0_L_10_kappa_1500_varkappa_5/Log/pbc_particle_log92_log.csv',\n",
       " '/home/timothytyree/Documents/GitHub/bgmc/python/data/local_results/neighbors_1_uniformic_0_fc_2_r_0.1_D_0_L_10_kappa_1500_varkappa_5/Log/pbc_particle_log93_log.csv',\n",
       " '/home/timothytyree/Documents/GitHub/bgmc/python/data/local_results/neighbors_1_uniformic_0_fc_2_r_0.1_D_0_L_10_kappa_1500_varkappa_5/Log/pbc_particle_log94_log.csv',\n",
       " '/home/timothytyree/Documents/GitHub/bgmc/python/data/local_results/neighbors_1_uniformic_0_fc_2_r_0.1_D_0_L_10_kappa_1500_varkappa_5/Log/pbc_particle_log95_log.csv',\n",
       " '/home/timothytyree/Documents/GitHub/bgmc/python/data/local_results/neighbors_1_uniformic_0_fc_2_r_0.1_D_0_L_10_kappa_1500_varkappa_5/Log/pbc_particle_log96_log.csv',\n",
       " '/home/timothytyree/Documents/GitHub/bgmc/python/data/local_results/neighbors_1_uniformic_0_fc_2_r_0.1_D_0_L_10_kappa_1500_varkappa_5/Log/pbc_particle_log97_log.csv',\n",
       " '/home/timothytyree/Documents/GitHub/bgmc/python/data/local_results/neighbors_1_uniformic_0_fc_2_r_0.1_D_0_L_10_kappa_1500_varkappa_5/Log/pbc_particle_log98_log.csv',\n",
       " '/home/timothytyree/Documents/GitHub/bgmc/python/data/local_results/neighbors_1_uniformic_0_fc_2_r_0.1_D_0_L_10_kappa_1500_varkappa_5/Log/pbc_particle_log99_log.csv',\n",
       " '/home/timothytyree/Documents/GitHub/bgmc/python/data/local_results/neighbors_1_uniformic_0_fc_2_r_0.1_D_0_L_10_kappa_1500_varkappa_5/Log/pbc_particle_log100_log.csv',\n",
       " '/home/timothytyree/Documents/GitHub/bgmc/python/data/local_results/neighbors_1_uniformic_0_fc_2_r_0.1_D_0_L_10_kappa_1500_varkappa_5/Log/pbc_particle_log101_log.csv',\n",
       " '/home/timothytyree/Documents/GitHub/bgmc/python/data/local_results/neighbors_1_uniformic_0_fc_2_r_0.1_D_0_L_10_kappa_1500_varkappa_5/Log/pbc_particle_log102_log.csv',\n",
       " '/home/timothytyree/Documents/GitHub/bgmc/python/data/local_results/neighbors_1_uniformic_0_fc_2_r_0.1_D_0_L_10_kappa_1500_varkappa_5/Log/pbc_particle_log103_log.csv',\n",
       " '/home/timothytyree/Documents/GitHub/bgmc/python/data/local_results/neighbors_1_uniformic_0_fc_2_r_0.1_D_0_L_10_kappa_1500_varkappa_5/Log/pbc_particle_log104_log.csv',\n",
       " '/home/timothytyree/Documents/GitHub/bgmc/python/data/local_results/neighbors_1_uniformic_0_fc_2_r_0.1_D_0_L_10_kappa_1500_varkappa_5/Log/pbc_particle_log105_log.csv',\n",
       " '/home/timothytyree/Documents/GitHub/bgmc/python/data/local_results/neighbors_1_uniformic_0_fc_2_r_0.1_D_0_L_10_kappa_1500_varkappa_5/Log/pbc_particle_log106_log.csv',\n",
       " '/home/timothytyree/Documents/GitHub/bgmc/python/data/local_results/neighbors_1_uniformic_0_fc_2_r_0.1_D_0_L_10_kappa_1500_varkappa_5/Log/pbc_particle_log107_log.csv',\n",
       " '/home/timothytyree/Documents/GitHub/bgmc/python/data/local_results/neighbors_1_uniformic_0_fc_2_r_0.1_D_0_L_10_kappa_1500_varkappa_5/Log/pbc_particle_log108_log.csv',\n",
       " '/home/timothytyree/Documents/GitHub/bgmc/python/data/local_results/neighbors_1_uniformic_0_fc_2_r_0.1_D_0_L_10_kappa_1500_varkappa_5/Log/pbc_particle_log109_log.csv',\n",
       " '/home/timothytyree/Documents/GitHub/bgmc/python/data/local_results/neighbors_1_uniformic_0_fc_2_r_0.1_D_0_L_10_kappa_1500_varkappa_5/Log/pbc_particle_log110_log.csv',\n",
       " '/home/timothytyree/Documents/GitHub/bgmc/python/data/local_results/neighbors_1_uniformic_0_fc_2_r_0.1_D_0_L_10_kappa_1500_varkappa_5/Log/pbc_particle_log111_log.csv',\n",
       " '/home/timothytyree/Documents/GitHub/bgmc/python/data/local_results/neighbors_1_uniformic_0_fc_2_r_0.1_D_0_L_10_kappa_1500_varkappa_5/Log/pbc_particle_log112_log.csv',\n",
       " '/home/timothytyree/Documents/GitHub/bgmc/python/data/local_results/neighbors_1_uniformic_0_fc_2_r_0.1_D_0_L_10_kappa_1500_varkappa_5/Log/pbc_particle_log113_log.csv',\n",
       " '/home/timothytyree/Documents/GitHub/bgmc/python/data/local_results/neighbors_1_uniformic_0_fc_2_r_0.1_D_0_L_10_kappa_1500_varkappa_5/Log/pbc_particle_log114_log.csv',\n",
       " '/home/timothytyree/Documents/GitHub/bgmc/python/data/local_results/neighbors_1_uniformic_0_fc_2_r_0.1_D_0_L_10_kappa_1500_varkappa_5/Log/pbc_particle_log115_log.csv',\n",
       " '/home/timothytyree/Documents/GitHub/bgmc/python/data/local_results/neighbors_1_uniformic_0_fc_2_r_0.1_D_0_L_10_kappa_1500_varkappa_5/Log/pbc_particle_log116_log.csv',\n",
       " '/home/timothytyree/Documents/GitHub/bgmc/python/data/local_results/neighbors_1_uniformic_0_fc_2_r_0.1_D_0_L_10_kappa_1500_varkappa_5/Log/pbc_particle_log117_log.csv',\n",
       " '/home/timothytyree/Documents/GitHub/bgmc/python/data/local_results/neighbors_1_uniformic_0_fc_2_r_0.1_D_0_L_10_kappa_1500_varkappa_5/Log/pbc_particle_log118_log.csv',\n",
       " '/home/timothytyree/Documents/GitHub/bgmc/python/data/local_results/neighbors_1_uniformic_0_fc_2_r_0.1_D_0_L_10_kappa_1500_varkappa_5/Log/pbc_particle_log119_log.csv',\n",
       " '/home/timothytyree/Documents/GitHub/bgmc/python/data/local_results/neighbors_1_uniformic_0_fc_2_r_0.1_D_0_L_10_kappa_1500_varkappa_5/Log/pbc_particle_log120_log.csv',\n",
       " '/home/timothytyree/Documents/GitHub/bgmc/python/data/local_results/neighbors_1_uniformic_0_fc_2_r_0.1_D_0_L_10_kappa_1500_varkappa_5/Log/pbc_particle_log121_log.csv',\n",
       " '/home/timothytyree/Documents/GitHub/bgmc/python/data/local_results/neighbors_1_uniformic_0_fc_2_r_0.1_D_0_L_10_kappa_1500_varkappa_5/Log/pbc_particle_log122_log.csv',\n",
       " '/home/timothytyree/Documents/GitHub/bgmc/python/data/local_results/neighbors_1_uniformic_0_fc_2_r_0.1_D_0_L_10_kappa_1500_varkappa_5/Log/pbc_particle_log123_log.csv',\n",
       " '/home/timothytyree/Documents/GitHub/bgmc/python/data/local_results/neighbors_1_uniformic_0_fc_2_r_0.1_D_0_L_10_kappa_1500_varkappa_5/Log/pbc_particle_log124_log.csv',\n",
       " '/home/timothytyree/Documents/GitHub/bgmc/python/data/local_results/neighbors_1_uniformic_0_fc_2_r_0.1_D_0_L_10_kappa_1500_varkappa_5/Log/pbc_particle_log125_log.csv',\n",
       " '/home/timothytyree/Documents/GitHub/bgmc/python/data/local_results/neighbors_1_uniformic_0_fc_2_r_0.1_D_0_L_10_kappa_1500_varkappa_5/Log/pbc_particle_log126_log.csv',\n",
       " '/home/timothytyree/Documents/GitHub/bgmc/python/data/local_results/neighbors_1_uniformic_0_fc_2_r_0.1_D_0_L_10_kappa_1500_varkappa_5/Log/pbc_particle_log127_log.csv',\n",
       " '/home/timothytyree/Documents/GitHub/bgmc/python/data/local_results/neighbors_1_uniformic_0_fc_2_r_0.1_D_0_L_10_kappa_1500_varkappa_5/Log/pbc_particle_log128_log.csv',\n",
       " '/home/timothytyree/Documents/GitHub/bgmc/python/data/local_results/neighbors_1_uniformic_0_fc_2_r_0.1_D_0_L_10_kappa_1500_varkappa_5/Log/pbc_particle_log129_log.csv',\n",
       " '/home/timothytyree/Documents/GitHub/bgmc/python/data/local_results/neighbors_1_uniformic_0_fc_2_r_0.1_D_0_L_10_kappa_1500_varkappa_5/Log/pbc_particle_log130_log.csv',\n",
       " '/home/timothytyree/Documents/GitHub/bgmc/python/data/local_results/neighbors_1_uniformic_0_fc_2_r_0.1_D_0_L_10_kappa_1500_varkappa_5/Log/pbc_particle_log131_log.csv',\n",
       " '/home/timothytyree/Documents/GitHub/bgmc/python/data/local_results/neighbors_1_uniformic_0_fc_2_r_0.1_D_0_L_10_kappa_1500_varkappa_5/Log/pbc_particle_log132_log.csv',\n",
       " '/home/timothytyree/Documents/GitHub/bgmc/python/data/local_results/neighbors_1_uniformic_0_fc_2_r_0.1_D_0_L_10_kappa_1500_varkappa_5/Log/pbc_particle_log133_log.csv',\n",
       " '/home/timothytyree/Documents/GitHub/bgmc/python/data/local_results/neighbors_1_uniformic_0_fc_2_r_0.1_D_0_L_10_kappa_1500_varkappa_5/Log/pbc_particle_log134_log.csv',\n",
       " '/home/timothytyree/Documents/GitHub/bgmc/python/data/local_results/neighbors_1_uniformic_0_fc_2_r_0.1_D_0_L_10_kappa_1500_varkappa_5/Log/pbc_particle_log135_log.csv',\n",
       " '/home/timothytyree/Documents/GitHub/bgmc/python/data/local_results/neighbors_1_uniformic_0_fc_2_r_0.1_D_0_L_10_kappa_1500_varkappa_5/Log/pbc_particle_log136_log.csv',\n",
       " '/home/timothytyree/Documents/GitHub/bgmc/python/data/local_results/neighbors_1_uniformic_0_fc_2_r_0.1_D_0_L_10_kappa_1500_varkappa_5/Log/pbc_particle_log137_log.csv',\n",
       " '/home/timothytyree/Documents/GitHub/bgmc/python/data/local_results/neighbors_1_uniformic_0_fc_2_r_0.1_D_0_L_10_kappa_1500_varkappa_5/Log/pbc_particle_log138_log.csv',\n",
       " '/home/timothytyree/Documents/GitHub/bgmc/python/data/local_results/neighbors_1_uniformic_0_fc_2_r_0.1_D_0_L_10_kappa_1500_varkappa_5/Log/pbc_particle_log139_log.csv',\n",
       " '/home/timothytyree/Documents/GitHub/bgmc/python/data/local_results/neighbors_1_uniformic_0_fc_2_r_0.1_D_0_L_10_kappa_1500_varkappa_5/Log/pbc_particle_log140_log.csv',\n",
       " '/home/timothytyree/Documents/GitHub/bgmc/python/data/local_results/neighbors_1_uniformic_0_fc_2_r_0.1_D_0_L_10_kappa_1500_varkappa_5/Log/pbc_particle_log141_log.csv',\n",
       " '/home/timothytyree/Documents/GitHub/bgmc/python/data/local_results/neighbors_1_uniformic_0_fc_2_r_0.1_D_0_L_10_kappa_1500_varkappa_5/Log/pbc_particle_log142_log.csv',\n",
       " '/home/timothytyree/Documents/GitHub/bgmc/python/data/local_results/neighbors_1_uniformic_0_fc_2_r_0.1_D_0_L_10_kappa_1500_varkappa_5/Log/pbc_particle_log143_log.csv',\n",
       " '/home/timothytyree/Documents/GitHub/bgmc/python/data/local_results/neighbors_1_uniformic_0_fc_2_r_0.1_D_0_L_10_kappa_1500_varkappa_5/Log/pbc_particle_log144_log.csv',\n",
       " '/home/timothytyree/Documents/GitHub/bgmc/python/data/local_results/neighbors_1_uniformic_0_fc_2_r_0.1_D_0_L_10_kappa_1500_varkappa_5/Log/pbc_particle_log145_log.csv',\n",
       " '/home/timothytyree/Documents/GitHub/bgmc/python/data/local_results/neighbors_1_uniformic_0_fc_2_r_0.1_D_0_L_10_kappa_1500_varkappa_5/Log/pbc_particle_log146_log.csv',\n",
       " '/home/timothytyree/Documents/GitHub/bgmc/python/data/local_results/neighbors_1_uniformic_0_fc_2_r_0.1_D_0_L_10_kappa_1500_varkappa_5/Log/pbc_particle_log147_log.csv',\n",
       " '/home/timothytyree/Documents/GitHub/bgmc/python/data/local_results/neighbors_1_uniformic_0_fc_2_r_0.1_D_0_L_10_kappa_1500_varkappa_5/Log/pbc_particle_log148_log.csv',\n",
       " '/home/timothytyree/Documents/GitHub/bgmc/python/data/local_results/neighbors_1_uniformic_0_fc_2_r_0.1_D_0_L_10_kappa_1500_varkappa_5/Log/pbc_particle_log149_log.csv',\n",
       " '/home/timothytyree/Documents/GitHub/bgmc/python/data/local_results/neighbors_1_uniformic_0_fc_2_r_0.1_D_0_L_10_kappa_1500_varkappa_5/Log/pbc_particle_log150_log.csv',\n",
       " '/home/timothytyree/Documents/GitHub/bgmc/python/data/local_results/neighbors_1_uniformic_0_fc_2_r_0.1_D_0_L_10_kappa_1500_varkappa_5/Log/pbc_particle_log151_log.csv',\n",
       " '/home/timothytyree/Documents/GitHub/bgmc/python/data/local_results/neighbors_1_uniformic_0_fc_2_r_0.1_D_0_L_10_kappa_1500_varkappa_5/Log/pbc_particle_log152_log.csv',\n",
       " '/home/timothytyree/Documents/GitHub/bgmc/python/data/local_results/neighbors_1_uniformic_0_fc_2_r_0.1_D_0_L_10_kappa_1500_varkappa_5/Log/pbc_particle_log153_log.csv',\n",
       " '/home/timothytyree/Documents/GitHub/bgmc/python/data/local_results/neighbors_1_uniformic_0_fc_2_r_0.1_D_0_L_10_kappa_1500_varkappa_5/Log/pbc_particle_log154_log.csv',\n",
       " '/home/timothytyree/Documents/GitHub/bgmc/python/data/local_results/neighbors_1_uniformic_0_fc_2_r_0.1_D_0_L_10_kappa_1500_varkappa_5/Log/pbc_particle_log155_log.csv',\n",
       " '/home/timothytyree/Documents/GitHub/bgmc/python/data/local_results/neighbors_1_uniformic_0_fc_2_r_0.1_D_0_L_10_kappa_1500_varkappa_5/Log/pbc_particle_log156_log.csv',\n",
       " '/home/timothytyree/Documents/GitHub/bgmc/python/data/local_results/neighbors_1_uniformic_0_fc_2_r_0.1_D_0_L_10_kappa_1500_varkappa_5/Log/pbc_particle_log157_log.csv',\n",
       " '/home/timothytyree/Documents/GitHub/bgmc/python/data/local_results/neighbors_1_uniformic_0_fc_2_r_0.1_D_0_L_10_kappa_1500_varkappa_5/Log/pbc_particle_log158_log.csv',\n",
       " '/home/timothytyree/Documents/GitHub/bgmc/python/data/local_results/neighbors_1_uniformic_0_fc_2_r_0.1_D_0_L_10_kappa_1500_varkappa_5/Log/pbc_particle_log159_log.csv',\n",
       " '/home/timothytyree/Documents/GitHub/bgmc/python/data/local_results/neighbors_1_uniformic_0_fc_2_r_0.1_D_0_L_10_kappa_1500_varkappa_5/Log/pbc_particle_log160_log.csv',\n",
       " '/home/timothytyree/Documents/GitHub/bgmc/python/data/local_results/neighbors_1_uniformic_0_fc_2_r_0.1_D_0_L_10_kappa_1500_varkappa_5/Log/pbc_particle_log161_log.csv',\n",
       " '/home/timothytyree/Documents/GitHub/bgmc/python/data/local_results/neighbors_1_uniformic_0_fc_2_r_0.1_D_0_L_10_kappa_1500_varkappa_5/Log/pbc_particle_log162_log.csv',\n",
       " '/home/timothytyree/Documents/GitHub/bgmc/python/data/local_results/neighbors_1_uniformic_0_fc_2_r_0.1_D_0_L_10_kappa_1500_varkappa_5/Log/pbc_particle_log163_log.csv',\n",
       " '/home/timothytyree/Documents/GitHub/bgmc/python/data/local_results/neighbors_1_uniformic_0_fc_2_r_0.1_D_0_L_10_kappa_1500_varkappa_5/Log/pbc_particle_log164_log.csv',\n",
       " '/home/timothytyree/Documents/GitHub/bgmc/python/data/local_results/neighbors_1_uniformic_0_fc_2_r_0.1_D_0_L_10_kappa_1500_varkappa_5/Log/pbc_particle_log165_log.csv',\n",
       " '/home/timothytyree/Documents/GitHub/bgmc/python/data/local_results/neighbors_1_uniformic_0_fc_2_r_0.1_D_0_L_10_kappa_1500_varkappa_5/Log/pbc_particle_log166_log.csv',\n",
       " '/home/timothytyree/Documents/GitHub/bgmc/python/data/local_results/neighbors_1_uniformic_0_fc_2_r_0.1_D_0_L_10_kappa_1500_varkappa_5/Log/pbc_particle_log167_log.csv',\n",
       " '/home/timothytyree/Documents/GitHub/bgmc/python/data/local_results/neighbors_1_uniformic_0_fc_2_r_0.1_D_0_L_10_kappa_1500_varkappa_5/Log/pbc_particle_log168_log.csv',\n",
       " '/home/timothytyree/Documents/GitHub/bgmc/python/data/local_results/neighbors_1_uniformic_0_fc_2_r_0.1_D_0_L_10_kappa_1500_varkappa_5/Log/pbc_particle_log169_log.csv',\n",
       " '/home/timothytyree/Documents/GitHub/bgmc/python/data/local_results/neighbors_1_uniformic_0_fc_2_r_0.1_D_0_L_10_kappa_1500_varkappa_5/Log/pbc_particle_log170_log.csv',\n",
       " '/home/timothytyree/Documents/GitHub/bgmc/python/data/local_results/neighbors_1_uniformic_0_fc_2_r_0.1_D_0_L_10_kappa_1500_varkappa_5/Log/pbc_particle_log171_log.csv',\n",
       " '/home/timothytyree/Documents/GitHub/bgmc/python/data/local_results/neighbors_1_uniformic_0_fc_2_r_0.1_D_0_L_10_kappa_1500_varkappa_5/Log/pbc_particle_log172_log.csv',\n",
       " '/home/timothytyree/Documents/GitHub/bgmc/python/data/local_results/neighbors_1_uniformic_0_fc_2_r_0.1_D_0_L_10_kappa_1500_varkappa_5/Log/pbc_particle_log173_log.csv',\n",
       " '/home/timothytyree/Documents/GitHub/bgmc/python/data/local_results/neighbors_1_uniformic_0_fc_2_r_0.1_D_0_L_10_kappa_1500_varkappa_5/Log/pbc_particle_log174_log.csv',\n",
       " '/home/timothytyree/Documents/GitHub/bgmc/python/data/local_results/neighbors_1_uniformic_0_fc_2_r_0.1_D_0_L_10_kappa_1500_varkappa_5/Log/pbc_particle_log175_log.csv',\n",
       " '/home/timothytyree/Documents/GitHub/bgmc/python/data/local_results/neighbors_1_uniformic_0_fc_2_r_0.1_D_0_L_10_kappa_1500_varkappa_5/Log/pbc_particle_log176_log.csv',\n",
       " '/home/timothytyree/Documents/GitHub/bgmc/python/data/local_results/neighbors_1_uniformic_0_fc_2_r_0.1_D_0_L_10_kappa_1500_varkappa_5/Log/pbc_particle_log177_log.csv',\n",
       " '/home/timothytyree/Documents/GitHub/bgmc/python/data/local_results/neighbors_1_uniformic_0_fc_2_r_0.1_D_0_L_10_kappa_1500_varkappa_5/Log/pbc_particle_log178_log.csv',\n",
       " '/home/timothytyree/Documents/GitHub/bgmc/python/data/local_results/neighbors_1_uniformic_0_fc_2_r_0.1_D_0_L_10_kappa_1500_varkappa_5/Log/pbc_particle_log179_log.csv',\n",
       " '/home/timothytyree/Documents/GitHub/bgmc/python/data/local_results/neighbors_1_uniformic_0_fc_2_r_0.1_D_0_L_10_kappa_1500_varkappa_5/Log/pbc_particle_log180_log.csv',\n",
       " '/home/timothytyree/Documents/GitHub/bgmc/python/data/local_results/neighbors_1_uniformic_0_fc_2_r_0.1_D_0_L_10_kappa_1500_varkappa_5/Log/pbc_particle_log181_log.csv',\n",
       " '/home/timothytyree/Documents/GitHub/bgmc/python/data/local_results/neighbors_1_uniformic_0_fc_2_r_0.1_D_0_L_10_kappa_1500_varkappa_5/Log/pbc_particle_log182_log.csv',\n",
       " '/home/timothytyree/Documents/GitHub/bgmc/python/data/local_results/neighbors_1_uniformic_0_fc_2_r_0.1_D_0_L_10_kappa_1500_varkappa_5/Log/pbc_particle_log183_log.csv',\n",
       " '/home/timothytyree/Documents/GitHub/bgmc/python/data/local_results/neighbors_1_uniformic_0_fc_2_r_0.1_D_0_L_10_kappa_1500_varkappa_5/Log/pbc_particle_log184_log.csv',\n",
       " '/home/timothytyree/Documents/GitHub/bgmc/python/data/local_results/neighbors_1_uniformic_0_fc_2_r_0.1_D_0_L_10_kappa_1500_varkappa_5/Log/pbc_particle_log185_log.csv',\n",
       " '/home/timothytyree/Documents/GitHub/bgmc/python/data/local_results/neighbors_1_uniformic_0_fc_2_r_0.1_D_0_L_10_kappa_1500_varkappa_5/Log/pbc_particle_log186_log.csv',\n",
       " '/home/timothytyree/Documents/GitHub/bgmc/python/data/local_results/neighbors_1_uniformic_0_fc_2_r_0.1_D_0_L_10_kappa_1500_varkappa_5/Log/pbc_particle_log187_log.csv',\n",
       " '/home/timothytyree/Documents/GitHub/bgmc/python/data/local_results/neighbors_1_uniformic_0_fc_2_r_0.1_D_0_L_10_kappa_1500_varkappa_5/Log/pbc_particle_log188_log.csv',\n",
       " '/home/timothytyree/Documents/GitHub/bgmc/python/data/local_results/neighbors_1_uniformic_0_fc_2_r_0.1_D_0_L_10_kappa_1500_varkappa_5/Log/pbc_particle_log189_log.csv',\n",
       " '/home/timothytyree/Documents/GitHub/bgmc/python/data/local_results/neighbors_1_uniformic_0_fc_2_r_0.1_D_0_L_10_kappa_1500_varkappa_5/Log/pbc_particle_log190_log.csv',\n",
       " '/home/timothytyree/Documents/GitHub/bgmc/python/data/local_results/neighbors_1_uniformic_0_fc_2_r_0.1_D_0_L_10_kappa_1500_varkappa_5/Log/pbc_particle_log191_log.csv',\n",
       " '/home/timothytyree/Documents/GitHub/bgmc/python/data/local_results/neighbors_1_uniformic_0_fc_2_r_0.1_D_0_L_10_kappa_1500_varkappa_5/Log/pbc_particle_log192_log.csv',\n",
       " '/home/timothytyree/Documents/GitHub/bgmc/python/data/local_results/neighbors_1_uniformic_0_fc_2_r_0.1_D_0_L_10_kappa_1500_varkappa_5/Log/pbc_particle_log193_log.csv',\n",
       " '/home/timothytyree/Documents/GitHub/bgmc/python/data/local_results/neighbors_1_uniformic_0_fc_2_r_0.1_D_0_L_10_kappa_1500_varkappa_5/Log/pbc_particle_log194_log.csv',\n",
       " '/home/timothytyree/Documents/GitHub/bgmc/python/data/local_results/neighbors_1_uniformic_0_fc_2_r_0.1_D_0_L_10_kappa_1500_varkappa_5/Log/pbc_particle_log195_log.csv',\n",
       " '/home/timothytyree/Documents/GitHub/bgmc/python/data/local_results/neighbors_1_uniformic_0_fc_2_r_0.1_D_0_L_10_kappa_1500_varkappa_5/Log/pbc_particle_log196_log.csv',\n",
       " '/home/timothytyree/Documents/GitHub/bgmc/python/data/local_results/neighbors_1_uniformic_0_fc_2_r_0.1_D_0_L_10_kappa_1500_varkappa_5/Log/pbc_particle_log197_log.csv',\n",
       " '/home/timothytyree/Documents/GitHub/bgmc/python/data/local_results/neighbors_1_uniformic_0_fc_2_r_0.1_D_0_L_10_kappa_1500_varkappa_5/Log/pbc_particle_log198_log.csv',\n",
       " '/home/timothytyree/Documents/GitHub/bgmc/python/data/local_results/neighbors_1_uniformic_0_fc_2_r_0.1_D_0_L_10_kappa_1500_varkappa_5/Log/pbc_particle_log199_log.csv',\n",
       " '/home/timothytyree/Documents/GitHub/bgmc/python/data/local_results/neighbors_1_uniformic_0_fc_2_r_0.1_D_0_L_10_kappa_1500_varkappa_5/Log/pbc_particle_log200_log.csv']"
      ]
     },
     "execution_count": 9,
     "metadata": {},
     "output_type": "execute_result"
    }
   ],
   "source": [
    "retval_lst"
   ]
  },
  {
   "cell_type": "code",
   "execution_count": null,
   "metadata": {
    "ExecuteTime": {
     "start_time": "2021-10-13T07:40:23.719Z"
    }
   },
   "outputs": [],
   "source": [
    "300/60"
   ]
  },
  {
   "cell_type": "markdown",
   "metadata": {},
   "source": [
    "On my Mac, 200 trials took ~3 hours at a temporal resolution of DT=0.25 ms between two frames (using all 8 \"cores\" shared with 8 other python processes...).\n",
    "\n",
    "On my UB, 200 trials took ~2, 1.33 hours at a temporal resolution of DT=0.25 ms between two frames (using all 12 cores)\n",
    "\n",
    "On my UB, 50 ~2, 1.33 hours at a temporal resolution of DT=0.25 ms between two frames (using all 12 cores)"
   ]
  },
  {
   "cell_type": "code",
   "execution_count": null,
   "metadata": {
    "ExecuteTime": {
     "start_time": "2021-10-13T07:40:23.720Z"
    }
   },
   "outputs": [],
   "source": [
    "\n",
    "#scratchwork\n",
    "#define model parameters baked into simulation\n",
    "# N=16\n",
    "# L=10 #cm\n",
    "# r=0.1 #cm\n",
    "# D=2 #cm^2/s\n",
    "# kappa=1500 #Hz\n",
    "# # Dt=1e-5;dt=1e-5;tmax=10 #s #UNCOMMENT_HERE\n",
    "# Dt=1e-5;dt=1e-5;tmax=.1 #s #COMMENT_HERE\n",
    "# force_code=2\n",
    "# varkappa=5\n",
    "# save_every=25#frames\n",
    "# dist_cutoff=1e-2#cm\n",
    "# x0=5\n",
    "# no_repulsion=1\n",
    "# no_attraction=0\n",
    "\n",
    "#for forces\n",
    "# # message='without forces'\n",
    "# # force_code=0\n",
    "# # varkappa=0\n",
    "# message='with anti-spring forces'\n",
    "# force_code=1\n",
    "# varkappa=-5\n",
    "# message='with inverse powerlaw forces'\n",
    "# force_code=2\n",
    "# varkappa=5"
   ]
  },
  {
   "cell_type": "markdown",
   "metadata": {},
   "source": [
    "__TODO__: with tmax=3 and kappa=0 and varkappa=0, generate a folder of particle locations... Could this be an artifact of particles switching places?  This could be in how I'm doing the tracking... \n",
    "__TODO__: See if the trackpy particle tracking is to blame by explicitely tracking particles in the routine\n",
    "\n",
    "```printing summary stats on particle lifetimes for one input folder in /Users/timothytyree/Documents/GitHub/bgmc/python/data/local_results/euic_False_fc_2_r_0.1_D_2_L_10_kappa_1500_varkappa_0:\n",
    "count       16.000000\n",
    "mean      2868.140625\n",
    "std       3345.547204\n",
    "min          1.250000\n",
    "25%        444.187500\n",
    "50%       1740.750000\n",
    "75%       3737.437500\n",
    "max      10000.000000\n",
    "Name: min, dtype: float64\n",
    "particle\n",
    "0       57.75\n",
    "1    10000.00\n",
    "2     2325.25\n",
    "3     3059.00\n",
    "4     9999.75\n",
    "5        1.25\n",
    "6     3059.00\n",
    "7     5772.75\n",
    "8      573.00\n",
    "9     5772.75\n",
    "Name: min, dtype: float64```"
   ]
  },
  {
   "cell_type": "code",
   "execution_count": null,
   "metadata": {},
   "outputs": [],
   "source": []
  }
 ],
 "metadata": {
  "kernelspec": {
   "display_name": "Python 3",
   "language": "python",
   "name": "python3"
  },
  "language_info": {
   "codemirror_mode": {
    "name": "ipython",
    "version": 3
   },
   "file_extension": ".py",
   "mimetype": "text/x-python",
   "name": "python",
   "nbconvert_exporter": "python",
   "pygments_lexer": "ipython3",
   "version": "3.7.6"
  },
  "toc": {
   "base_numbering": 1,
   "nav_menu": {},
   "number_sections": true,
   "sideBar": true,
   "skip_h1_title": false,
   "title_cell": "Table of Contents",
   "title_sidebar": "Contents",
   "toc_cell": false,
   "toc_position": {},
   "toc_section_display": true,
   "toc_window_display": false
  },
  "varInspector": {
   "cols": {
    "lenName": 16,
    "lenType": 16,
    "lenVar": 40
   },
   "kernels_config": {
    "python": {
     "delete_cmd_postfix": "",
     "delete_cmd_prefix": "del ",
     "library": "var_list.py",
     "varRefreshCmd": "print(var_dic_list())"
    },
    "r": {
     "delete_cmd_postfix": ") ",
     "delete_cmd_prefix": "rm(",
     "library": "var_list.r",
     "varRefreshCmd": "cat(var_dic_list()) "
    }
   },
   "types_to_exclude": [
    "module",
    "function",
    "builtin_function_or_method",
    "instance",
    "_Feature"
   ],
   "window_display": false
  }
 },
 "nbformat": 4,
 "nbformat_minor": 4
}
