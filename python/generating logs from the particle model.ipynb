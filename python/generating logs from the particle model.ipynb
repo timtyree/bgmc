{
 "cells": [
  {
   "cell_type": "markdown",
   "metadata": {},
   "source": [
    "# generating logs from the particle model\n",
    "Tim Tyree<br>\n",
    "7.1.2021"
   ]
  },
  {
   "cell_type": "code",
   "execution_count": 1,
   "metadata": {
    "ExecuteTime": {
     "end_time": "2021-11-04T00:48:42.543266Z",
     "start_time": "2021-11-04T00:48:41.453045Z"
    }
   },
   "outputs": [
    {
     "data": {
      "text/plain": [
       "<function lib.routines.gener_log.get_routine_gener_logs(results_folder, N=16, L=10, r=0.1, D=2, kappa=1500, Dt=1e-05, dt=1e-05, tmax=10, force_code=2, varkappa=5, save_every=25, dist_cutoff=0.01, x0=5, no_repulsion=1, no_attraction=0, use_neighbors=0, explicitly_uniform_ic=False, set_pair_ic=False, **kwargs)>"
      ]
     },
     "execution_count": 1,
     "metadata": {},
     "output_type": "execute_result"
    }
   ],
   "source": [
    "from lib.my_initialization import *\n",
    "from lib.utils.pbc import *\n",
    "import shutil\n",
    "from numpy.random import MT19937\n",
    "from numpy.random import RandomState, SeedSequence\n",
    "\n",
    "from lib.routines.gener_log import *\n",
    "\n",
    "%load_ext autoreload\n",
    "%autoreload 2\n",
    "get_routine_gener_logs"
   ]
  },
  {
   "cell_type": "code",
   "execution_count": 2,
   "metadata": {
    "ExecuteTime": {
     "end_time": "2021-11-04T00:48:43.039903Z",
     "start_time": "2021-11-04T00:48:43.026724Z"
    }
   },
   "outputs": [],
   "source": [
    "#DONE: dev functional routine that takes an integer seed as input and outputs a directory of the resulting _log.csv file\n",
    "#DONE: put ^that in a .py file and load it\n",
    "#DONE: make a list of enough integers\n",
    "# seed_values=np.arange(100)+1\n",
    "#DONE: daskbag over ^that\n"
   ]
  },
  {
   "cell_type": "code",
   "execution_count": 3,
   "metadata": {
    "ExecuteTime": {
     "end_time": "2021-11-04T00:48:43.498020Z",
     "start_time": "2021-11-04T00:48:43.484522Z"
    }
   },
   "outputs": [
    {
     "data": {
      "text/plain": [
       "1"
      ]
     },
     "execution_count": 3,
     "metadata": {},
     "output_type": "execute_result"
    }
   ],
   "source": [
    "# #performace test\n",
    "# results_folder=f\"{nb_dir}/data/local_results\"\n",
    "# routine_gener_logs=get_routine_gener_logs(results_folder,tmax=.1)\n",
    "# routine_gener_logs(seed=1)\n",
    "# 16*100/60 #=~27min per trial\n",
    "Dt=1e-5\n",
    "dt=1e-5\n",
    "iter_per_movestep = round(Dt / dt)\n",
    "iter_per_movestep"
   ]
  },
  {
   "cell_type": "code",
   "execution_count": 4,
   "metadata": {
    "ExecuteTime": {
     "end_time": "2021-11-04T00:48:56.993044Z",
     "start_time": "2021-11-04T00:48:56.976490Z"
    }
   },
   "outputs": [],
   "source": [
    "#on Mac...\n",
    "# 16*100/60 #=~27min per trial\n",
    "#8 cores... 12 hours...\n",
    "# 12*60*8/27 #213 trials\n",
    "num_trials=300\n",
    "seed_values=np.arange(num_trials)+1\n",
    "tmax=100\n",
    "varkappa=6\n",
    "D=0.7\n",
    "kappa=1500\n",
    "r=0.1\n",
    "save_every=25\n",
    "use_neighbors=1\n",
    "N=2#16\n",
    "set_pair_ic=True"
   ]
  },
  {
   "cell_type": "code",
   "execution_count": 6,
   "metadata": {
    "ExecuteTime": {
     "end_time": "2021-11-04T00:51:08.935738Z",
     "start_time": "2021-11-04T00:51:08.916311Z"
    }
   },
   "outputs": [],
   "source": [
    "a_values=np.array([0.6,6.0])\n",
    "# D_values=np.arange(0,2.1,.1,)\n",
    "D_values=np.array([0.3,0.7])\n",
    "neighbor_values=np.array([0,1])\n"
   ]
  },
  {
   "cell_type": "code",
   "execution_count": 7,
   "metadata": {
    "ExecuteTime": {
     "end_time": "2021-11-04T00:51:10.857298Z",
     "start_time": "2021-11-04T00:51:10.840201Z"
    }
   },
   "outputs": [],
   "source": [
    "# #TODO: dev \n",
    "# # L=1 set_pair_ic=True\n",
    "# x_values=np.array([0,0.5])\n",
    "# y_values=np.array([0,0.5])\n",
    "# np.sqrt(sum((x_values-y_values)**2))#They're touching"
   ]
  },
  {
   "cell_type": "code",
   "execution_count": 8,
   "metadata": {
    "ExecuteTime": {
     "end_time": "2021-11-04T00:51:13.308439Z",
     "start_time": "2021-11-04T00:51:13.265757Z"
    }
   },
   "outputs": [],
   "source": [
    "# D_values,npartitions"
   ]
  },
  {
   "cell_type": "code",
   "execution_count": 9,
   "metadata": {
    "ExecuteTime": {
     "end_time": "2021-11-04T00:51:14.610276Z",
     "start_time": "2021-11-04T00:51:14.594325Z"
    }
   },
   "outputs": [
    {
     "name": "stdout",
     "output_type": "stream",
     "text": [
      "the resulting logs will have a time resolution of 0.25 'ms' between two frames\n"
     ]
    }
   ],
   "source": [
    "DT=save_every*Dt #seconds between two frames\n",
    "print(f\"the resulting logs will have a time resolution of {DT*10**3} 'ms' between two frames\")"
   ]
  },
  {
   "cell_type": "code",
   "execution_count": null,
   "metadata": {
    "ExecuteTime": {
     "start_time": "2021-11-04T00:52:54.648Z"
    }
   },
   "outputs": [
    {
     "name": "stdout",
     "output_type": "stream",
     "text": [
      "computing xy trajectories for the particle model with D=0.3 cm^2/s...\n",
      "considering in 300 trial sets.\n",
      "outputing to .csv in results_folder=/home/timothytyree/Documents/GitHub/bgmc/python/data/local_results...\n"
     ]
    }
   ],
   "source": [
    "results_folder=f\"{nb_dir}/data/local_results\"\n",
    "printing=True\n",
    "for varkappa in a_values:\n",
    "    for D in D_values:\n",
    "        for neighbor in neighbor_values:\n",
    "            use_neighbors=neighbor==1\n",
    "            kwargs=dict(tmax=tmax,varkappa=varkappa,D=D,kappa=kappa,use_neighbors=use_neighbors,r=r,N=N,set_pair_ic=set_pair_ic)\n",
    "            routine_gener_logs=get_routine_gener_logs(results_folder,**kwargs)\n",
    "            routine=routine_gener_logs\n",
    "            npartitions=os.cpu_count()\n",
    "            #for each trial set...\n",
    "            bag = db.from_sequence(seed_values, npartitions=npartitions).map(routine)\n",
    "            if printing:\n",
    "                print(f\"computing xy trajectories for the particle model with D={D:.1f} cm^2/s...\\nconsidering in {len(list(seed_values))} trial sets.\\noutputing to .csv in results_folder={results_folder}...\")\n",
    "            start = time.time()\n",
    "            retval_lst = list(bag)\n",
    "            if printing:\n",
    "                print(f\"the run time for computing xy trajectories was {(time.time()-start)/60:.2f} minutes.\")\n"
   ]
  },
  {
   "cell_type": "code",
   "execution_count": 33,
   "metadata": {
    "ExecuteTime": {
     "end_time": "2021-11-02T02:39:57.799790Z",
     "start_time": "2021-11-02T02:39:57.781166Z"
    }
   },
   "outputs": [],
   "source": [
    "# results_folder=f\"{nb_dir}/data/local_results\"\n",
    "# kwargs=dict(tmax=tmax,varkappa=varkappa,D=D,kappa=kappa,use_neighbors=use_neighbors,r=r,N=N,set_pair_ic=set_pair_ic)\n",
    "# routine_gener_logs=get_routine_gener_logs(results_folder,**kwargs)\n",
    "# routine=routine_gener_logs\n",
    "# npartitions=os.cpu_count()\n",
    "# #for each trial set...\n",
    "# bag = db.from_sequence(seed_values, npartitions=npartitions).map(routine)\n",
    "# print(f\"computing xy trajectories for the particle model...\\nconsidering in {len(list(seed_values))} trial sets.\\noutputing to .csv in results_folder={results_folder}...\")\n",
    "# start = time.time()\n",
    "# retval_lst = list(bag)\n",
    "# print(f\"the run time for computing xy trajectories was {(time.time()-start)/60:.2f} minutes.\")"
   ]
  },
  {
   "cell_type": "code",
   "execution_count": null,
   "metadata": {
    "ExecuteTime": {
     "start_time": "2021-10-13T07:40:23.719Z"
    }
   },
   "outputs": [],
   "source": [
    "300/60"
   ]
  },
  {
   "cell_type": "markdown",
   "metadata": {},
   "source": [
    "On my Mac, 200 trials took ~3 hours at a temporal resolution of DT=0.25 ms between two frames (using all 8 \"cores\" shared with 8 other python processes...).\n",
    "\n",
    "On my UB, 200 trials took ~2, 1.33 hours at a temporal resolution of DT=0.25 ms between two frames (using all 12 cores)\n",
    "\n",
    "On my UB, 50 ~2, 1.33 hours at a temporal resolution of DT=0.25 ms between two frames (using all 12 cores)"
   ]
  },
  {
   "cell_type": "code",
   "execution_count": null,
   "metadata": {
    "ExecuteTime": {
     "start_time": "2021-10-13T07:40:23.720Z"
    }
   },
   "outputs": [],
   "source": [
    "\n",
    "#scratchwork\n",
    "#define model parameters baked into simulation\n",
    "# N=16\n",
    "# L=10 #cm\n",
    "# r=0.1 #cm\n",
    "# D=2 #cm^2/s\n",
    "# kappa=1500 #Hz\n",
    "# # Dt=1e-5;dt=1e-5;tmax=10 #s #UNCOMMENT_HERE\n",
    "# Dt=1e-5;dt=1e-5;tmax=.1 #s #COMMENT_HERE\n",
    "# force_code=2\n",
    "# varkappa=5\n",
    "# save_every=25#frames\n",
    "# dist_cutoff=1e-2#cm\n",
    "# x0=5\n",
    "# no_repulsion=1\n",
    "# no_attraction=0\n",
    "\n",
    "#for forces\n",
    "# # message='without forces'\n",
    "# # force_code=0\n",
    "# # varkappa=0\n",
    "# message='with anti-spring forces'\n",
    "# force_code=1\n",
    "# varkappa=-5\n",
    "# message='with inverse powerlaw forces'\n",
    "# force_code=2\n",
    "# varkappa=5"
   ]
  },
  {
   "cell_type": "markdown",
   "metadata": {},
   "source": [
    "__TODO__: with tmax=3 and kappa=0 and varkappa=0, generate a folder of particle locations... Could this be an artifact of particles switching places?  This could be in how I'm doing the tracking... \n",
    "__TODO__: See if the trackpy particle tracking is to blame by explicitely tracking particles in the routine\n",
    "\n",
    "```printing summary stats on particle lifetimes for one input folder in /Users/timothytyree/Documents/GitHub/bgmc/python/data/local_results/euic_False_fc_2_r_0.1_D_2_L_10_kappa_1500_varkappa_0:\n",
    "count       16.000000\n",
    "mean      2868.140625\n",
    "std       3345.547204\n",
    "min          1.250000\n",
    "25%        444.187500\n",
    "50%       1740.750000\n",
    "75%       3737.437500\n",
    "max      10000.000000\n",
    "Name: min, dtype: float64\n",
    "particle\n",
    "0       57.75\n",
    "1    10000.00\n",
    "2     2325.25\n",
    "3     3059.00\n",
    "4     9999.75\n",
    "5        1.25\n",
    "6     3059.00\n",
    "7     5772.75\n",
    "8      573.00\n",
    "9     5772.75\n",
    "Name: min, dtype: float64```"
   ]
  },
  {
   "cell_type": "markdown",
   "metadata": {},
   "source": [
    "# TODO: grid search over D from 0.1 to 2 in steps on 0.14\n",
    "(GPU accelerate in cupy)\n",
    "TODO: rewrite it from scratch, developing in vectorized pairs of particles\n",
    "1. start 2 particles 1/np.sqrt(2) away from one another\n",
    "\n",
    "\n",
    "__Schema__\n",
    "1. t,x1,x2,y1,y2,pair_num"
   ]
  },
  {
   "cell_type": "code",
   "execution_count": 40,
   "metadata": {
    "ExecuteTime": {
     "end_time": "2021-11-02T20:48:24.339553Z",
     "start_time": "2021-11-02T20:48:24.319829Z"
    }
   },
   "outputs": [
    {
     "data": {
      "text/plain": [
       "0.7071067811865475"
      ]
     },
     "execution_count": 40,
     "metadata": {},
     "output_type": "execute_result"
    }
   ],
   "source": [
    "1/np.sqrt(2)"
   ]
  },
  {
   "cell_type": "code",
   "execution_count": null,
   "metadata": {},
   "outputs": [],
   "source": []
  }
 ],
 "metadata": {
  "hide_input": false,
  "kernelspec": {
   "display_name": "Python 3 (ipykernel)",
   "language": "python",
   "name": "python3"
  },
  "language_info": {
   "codemirror_mode": {
    "name": "ipython",
    "version": 3
   },
   "file_extension": ".py",
   "mimetype": "text/x-python",
   "name": "python",
   "nbconvert_exporter": "python",
   "pygments_lexer": "ipython3",
   "version": "3.9.5"
  },
  "nbTranslate": {
   "displayLangs": [
    "*"
   ],
   "hotkey": "alt-t",
   "langInMainMenu": true,
   "sourceLang": "en",
   "targetLang": "fr",
   "useGoogleTranslate": true
  },
  "toc": {
   "base_numbering": 1,
   "nav_menu": {},
   "number_sections": true,
   "sideBar": true,
   "skip_h1_title": false,
   "title_cell": "Table of Contents",
   "title_sidebar": "Contents",
   "toc_cell": false,
   "toc_position": {},
   "toc_section_display": true,
   "toc_window_display": false
  },
  "varInspector": {
   "cols": {
    "lenName": 16,
    "lenType": 16,
    "lenVar": 40
   },
   "kernels_config": {
    "python": {
     "delete_cmd_postfix": "",
     "delete_cmd_prefix": "del ",
     "library": "var_list.py",
     "varRefreshCmd": "print(var_dic_list())"
    },
    "r": {
     "delete_cmd_postfix": ") ",
     "delete_cmd_prefix": "rm(",
     "library": "var_list.r",
     "varRefreshCmd": "cat(var_dic_list()) "
    }
   },
   "types_to_exclude": [
    "module",
    "function",
    "builtin_function_or_method",
    "instance",
    "_Feature"
   ],
   "window_display": false
  }
 },
 "nbformat": 4,
 "nbformat_minor": 4
}
