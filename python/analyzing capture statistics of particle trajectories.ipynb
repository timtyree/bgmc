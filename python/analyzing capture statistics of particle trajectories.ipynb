{
 "cells": [
  {
   "cell_type": "markdown",
   "id": "a7d0059b",
   "metadata": {},
   "source": [
    "# analyzing capture statistics of particle trajectories\n",
    "Tim Tyree<br>\n",
    "1.10.2024"
   ]
  },
  {
   "cell_type": "code",
   "execution_count": 1,
   "id": "03142ced",
   "metadata": {
    "ExecuteTime": {
     "end_time": "2024-01-11T00:34:37.681210Z",
     "start_time": "2024-01-11T00:34:30.564059Z"
    }
   },
   "outputs": [],
   "source": [
    "from lib.my_initialization import *\n",
    "plt.plot([1]*4)\n",
    "plt.close()\n",
    "#reset matplotlib\n",
    "import matplotlib\n",
    "matplotlib.rcParams.update(matplotlib.rcParamsDefault)\n",
    "mpl.rcParams.update(matplotlib.rcParamsDefault) #reset matplotlib"
   ]
  },
  {
   "cell_type": "markdown",
   "id": "f28107c1",
   "metadata": {},
   "source": [
    "# define module"
   ]
  },
  {
   "cell_type": "code",
   "execution_count": 26,
   "id": "145f4084",
   "metadata": {
    "ExecuteTime": {
     "end_time": "2024-01-11T02:04:52.556507Z",
     "start_time": "2024-01-11T02:04:52.547946Z"
    }
   },
   "outputs": [],
   "source": [
    "# !ls -lstr /home/timothytyree/Documents/GitHub/bgmc/python/data/local_results\n",
    "def process_particle_log_min_range_timeseries(dirname,threshR,icol='pid_explicit',**kwargs):\n",
    "    \"\"\"\n",
    "    Example Usage:\n",
    "minR_lst_lst = process_particle_log_min_range_timeseries(dirname,threshR,icol='pid_explicit')#,**kwargs)\n",
    "    \"\"\"\n",
    "    df=pd.read_csv(dirname)\n",
    "    width,height=np.around(df.describe().loc['max'][['x','y']].values.T,3)\n",
    "    DT=df['t'].tail(3).diff().iloc[1]\n",
    "    distance_L2_pbc = get_distance_L2_pbc(width=width, height=height)\n",
    "    minR_lst_lst=[]\n",
    "    pid_values_self = df[icol].drop_duplicates().values\n",
    "    for index_self in pid_values_self:\n",
    "        t=df.loc[(df[icol]==index_self),['t']].max().values[0]\n",
    "        minR=9e9\n",
    "        xy_self=df.loc[(df['t']==t)&(df[icol]==index_self),['x','y']].values\n",
    "        pid_values = df[df['t']==t][icol].drop_duplicates().values\n",
    "        for index_other in np.setdiff1d(pid_values,[index_self]):\n",
    "            xy_other=df.loc[(df['t']==t)&(df[icol]==index_other),['x','y']].values\n",
    "    #         print(f\"{xy_other.shape=}\")\n",
    "            dist=distance_L2_pbc(xy_self[0],xy_other[0])\n",
    "            if minR>dist:\n",
    "                minR=dist\n",
    "    #     print ( f\"- {index_self=}, {t=}, {minR=}\")\n",
    "\n",
    "        if threshR>minR:\n",
    "            #stop condition\n",
    "        #     tnext=df.loc[df['t']>t,'t'].min()\n",
    "            tnext=df.loc[df['t']<t,'t'].max()\n",
    "            boo=(df['t']==tnext)&(df[icol]==index_self)\n",
    "            if not boo.any():\n",
    "                index_self=-1\n",
    "\n",
    "            minR_lst=[]\n",
    "            minR_lst.append(minR)\n",
    "        #     dur=float(DT)\n",
    "            while index_self!=-1:\n",
    "        #         tnext=df.loc[df['t']>t,'t'].min()\n",
    "                tnext=df.loc[df['t']<t,'t'].max()\n",
    "                #stop condition\n",
    "                boo=(df['t']==tnext)&(df[icol]==index_self)\n",
    "                if not boo.any():\n",
    "                    index_self=-1\n",
    "                else:\n",
    "                    t=tnext\n",
    "                    minR=9e9\n",
    "                    xy_self=df.loc[(df['t']==t)&(df[icol]==index_self),['x','y']].values\n",
    "                    for index_other in np.setdiff1d(pid_values,[index_self]):\n",
    "                        xy_other=df.loc[(df['t']==t)&(df[icol]==index_other),['x','y']].values\n",
    "                        dist=distance_L2_pbc(xy_self[0],xy_other[0])\n",
    "                        if minR>dist:\n",
    "                            minR=dist\n",
    "                    minR_lst.append(minR)\n",
    "            minR_lst_lst.append(minR_lst)\n",
    "    return minR_lst_lst"
   ]
  },
  {
   "cell_type": "code",
   "execution_count": null,
   "id": "5eb8f760",
   "metadata": {},
   "outputs": [],
   "source": []
  },
  {
   "cell_type": "markdown",
   "id": "03d4e327",
   "metadata": {},
   "source": [
    "# generate LPM particle trajectories fit to the full models"
   ]
  },
  {
   "cell_type": "code",
   "execution_count": 80,
   "id": "b1220568",
   "metadata": {
    "ExecuteTime": {
     "end_time": "2024-01-11T02:23:24.548892Z",
     "start_time": "2024-01-11T02:23:24.543631Z"
    }
   },
   "outputs": [],
   "source": [
    "# DX=0.025\n",
    "DX=1.\n",
    "# mindur=100 #ms\n",
    "\n",
    "#   FK          LR\n",
    "# r 0.457±0.009 0.314±0.003\n",
    "# r=0.1 #cm\n",
    "# r=0.25 #cm\n",
    "# r = 0.457#±0.009 cm #FK\n",
    "r = 0.314#±0.003 cm #LR\n",
    "threshR=r/DX\n",
    "# print(f\"{threshR=:.4} pixels\")"
   ]
  },
  {
   "cell_type": "code",
   "execution_count": 134,
   "id": "e337579b",
   "metadata": {
    "ExecuteTime": {
     "end_time": "2024-01-12T22:40:57.351190Z",
     "start_time": "2024-01-12T22:40:57.345133Z"
    }
   },
   "outputs": [],
   "source": [
    "save_folder = \"/home/timothytyree/Documents/GitHub/bgmc/python/data/local_results\"\n",
    "#FK\n",
    "folder = f\"{save_folder}/neighbors_False_uniformic_0_fc_2_r_0.457_D_0.115_L_5_kappa_15_varkappa_1.552_N_8/Log\"\n",
    "#LR\n",
    "folder = f\"{save_folder}/neighbors_False_uniformic_0_fc_2_r_0.314_D_0.42_L_5_kappa_75_varkappa_9.3_N_4/Log\"\n",
    "#dev\n",
    "# folder = f\"{save_folder}/neighbors_False_uniformic_0_fc_2_r_0.1_D_0.3_L_10_kappa_1500_varkappa_0.6_N_2/Log\"\n",
    "task_lst=[]\n",
    "for fn in os.listdir(folder):\n",
    "    pass\n",
    "    dirname=os.path.join(folder,fn)\n",
    "    task=dirname,threshR\n",
    "    task_lst.append(task)\n",
    "def routine(task):\n",
    "    dirname,threshR=task\n",
    "    minR_lst_lst = process_particle_log_min_range_timeseries(dirname,threshR,icol='pid_explicit')#,**kwargs)\n",
    "    return minR_lst_lst"
   ]
  },
  {
   "cell_type": "code",
   "execution_count": 135,
   "id": "e6cb4947",
   "metadata": {
    "ExecuteTime": {
     "end_time": "2024-01-13T01:30:02.660979Z",
     "start_time": "2024-01-12T22:41:00.292229Z"
    }
   },
   "outputs": [],
   "source": [
    "ncores=np.min((len(task_lst),os.cpu_count()-1))\n",
    "retval_lst = eval_routine_multiprocess(routine, task_lst, ncores)\n"
   ]
  },
  {
   "cell_type": "code",
   "execution_count": 136,
   "id": "ec99635c",
   "metadata": {
    "ExecuteTime": {
     "end_time": "2024-01-13T01:30:03.276297Z",
     "start_time": "2024-01-13T01:30:02.663201Z"
    }
   },
   "outputs": [
    {
     "name": "stdout",
     "output_type": "stream",
     "text": [
      "\u0007\u0007\u0007"
     ]
    },
    {
     "data": {
      "text/plain": [
       "0"
      ]
     },
     "execution_count": 136,
     "metadata": {},
     "output_type": "execute_result"
    }
   ],
   "source": [
    "beep(3)"
   ]
  },
  {
   "cell_type": "code",
   "execution_count": 137,
   "id": "884a3299",
   "metadata": {
    "ExecuteTime": {
     "end_time": "2024-01-13T01:30:03.285050Z",
     "start_time": "2024-01-13T01:30:03.281436Z"
    }
   },
   "outputs": [],
   "source": [
    "minR_lst_lst = []\n",
    "for rv in retval_lst:\n",
    "    minR_lst_lst.extend(rv)"
   ]
  },
  {
   "cell_type": "code",
   "execution_count": 138,
   "id": "d504bb2d",
   "metadata": {
    "ExecuteTime": {
     "end_time": "2024-01-13T01:30:03.300941Z",
     "start_time": "2024-01-13T01:30:03.286611Z"
    }
   },
   "outputs": [
    {
     "data": {
      "text/plain": [
       "[547,\n",
       " 547,\n",
       " 919,\n",
       " 919,\n",
       " 168,\n",
       " 168,\n",
       " 673,\n",
       " 673,\n",
       " 250,\n",
       " 250,\n",
       " 62,\n",
       " 62,\n",
       " 322,\n",
       " 322,\n",
       " 217,\n",
       " 217,\n",
       " 75,\n",
       " 75,\n",
       " 21,\n",
       " 21,\n",
       " 1151,\n",
       " 1151,\n",
       " 348,\n",
       " 400001,\n",
       " 348,\n",
       " 400001,\n",
       " 314,\n",
       " 314,\n",
       " 390,\n",
       " 390,\n",
       " 184,\n",
       " 184,\n",
       " 299,\n",
       " 299,\n",
       " 301,\n",
       " 301,\n",
       " 118,\n",
       " 118,\n",
       " 431,\n",
       " 431,\n",
       " 471,\n",
       " 471,\n",
       " 230,\n",
       " 230,\n",
       " 73,\n",
       " 73,\n",
       " 216,\n",
       " 216,\n",
       " 402,\n",
       " 402,\n",
       " 271,\n",
       " 271,\n",
       " 507,\n",
       " 507,\n",
       " 84,\n",
       " 84,\n",
       " 210,\n",
       " 210,\n",
       " 376,\n",
       " 376,\n",
       " 500,\n",
       " 500,\n",
       " 223,\n",
       " 223,\n",
       " 845,\n",
       " 845,\n",
       " 47,\n",
       " 47,\n",
       " 277,\n",
       " 277,\n",
       " 108,\n",
       " 108,\n",
       " 107,\n",
       " 107,\n",
       " 649,\n",
       " 649,\n",
       " 167,\n",
       " 167,\n",
       " 343,\n",
       " 343,\n",
       " 196,\n",
       " 196,\n",
       " 126,\n",
       " 126,\n",
       " 686,\n",
       " 686,\n",
       " 141,\n",
       " 141,\n",
       " 165,\n",
       " 165,\n",
       " 44,\n",
       " 44,\n",
       " 565,\n",
       " 565,\n",
       " 262,\n",
       " 262,\n",
       " 122,\n",
       " 122,\n",
       " 15,\n",
       " 15,\n",
       " 142,\n",
       " 142,\n",
       " 455,\n",
       " 455,\n",
       " 679,\n",
       " 679,\n",
       " 298,\n",
       " 298,\n",
       " 236,\n",
       " 236,\n",
       " 141,\n",
       " 141,\n",
       " 62,\n",
       " 62,\n",
       " 3,\n",
       " 3,\n",
       " 109,\n",
       " 109,\n",
       " 213,\n",
       " 213,\n",
       " 176,\n",
       " 176,\n",
       " 58,\n",
       " 58,\n",
       " 341,\n",
       " 341,\n",
       " 303,\n",
       " 303,\n",
       " 284,\n",
       " 284,\n",
       " 525,\n",
       " 525,\n",
       " 194,\n",
       " 194,\n",
       " 400001,\n",
       " 218,\n",
       " 218,\n",
       " 400001,\n",
       " 90,\n",
       " 90,\n",
       " 80,\n",
       " 80,\n",
       " 89,\n",
       " 89,\n",
       " 231,\n",
       " 231,\n",
       " 10,\n",
       " 10,\n",
       " 422,\n",
       " 422,\n",
       " 237,\n",
       " 237,\n",
       " 280,\n",
       " 280,\n",
       " 71,\n",
       " 71,\n",
       " 529,\n",
       " 529,\n",
       " 245,\n",
       " 245,\n",
       " 236,\n",
       " 236,\n",
       " 44,\n",
       " 44,\n",
       " 62,\n",
       " 62,\n",
       " 216,\n",
       " 216,\n",
       " 276,\n",
       " 276,\n",
       " 487,\n",
       " 487,\n",
       " 17,\n",
       " 17,\n",
       " 597,\n",
       " 597,\n",
       " 172,\n",
       " 172,\n",
       " 234,\n",
       " 234,\n",
       " 446,\n",
       " 446,\n",
       " 159,\n",
       " 159,\n",
       " 94,\n",
       " 94,\n",
       " 269,\n",
       " 269,\n",
       " 113,\n",
       " 113,\n",
       " 316,\n",
       " 316,\n",
       " 98,\n",
       " 98,\n",
       " 27,\n",
       " 27,\n",
       " 272,\n",
       " 272,\n",
       " 245,\n",
       " 245,\n",
       " 48,\n",
       " 48,\n",
       " 430,\n",
       " 430,\n",
       " 304,\n",
       " 304,\n",
       " 208,\n",
       " 208,\n",
       " 713,\n",
       " 713,\n",
       " 346,\n",
       " 346,\n",
       " 17,\n",
       " 17,\n",
       " 56,\n",
       " 56,\n",
       " 528,\n",
       " 528,\n",
       " 98,\n",
       " 98,\n",
       " 277,\n",
       " 277,\n",
       " 134,\n",
       " 134,\n",
       " 409,\n",
       " 409,\n",
       " 85,\n",
       " 85,\n",
       " 243,\n",
       " 243,\n",
       " 222,\n",
       " 222,\n",
       " 4,\n",
       " 4,\n",
       " 442,\n",
       " 442,\n",
       " 214,\n",
       " 214,\n",
       " 432,\n",
       " 432,\n",
       " 250,\n",
       " 250,\n",
       " 447,\n",
       " 447,\n",
       " 268,\n",
       " 400001,\n",
       " 268,\n",
       " 400001,\n",
       " 192,\n",
       " 192,\n",
       " 316,\n",
       " 316,\n",
       " 182,\n",
       " 182,\n",
       " 92,\n",
       " 92,\n",
       " 330,\n",
       " 330,\n",
       " 178,\n",
       " 178,\n",
       " 501,\n",
       " 501,\n",
       " 29,\n",
       " 29,\n",
       " 194,\n",
       " 194,\n",
       " 156,\n",
       " 156,\n",
       " 466,\n",
       " 466,\n",
       " 309,\n",
       " 309,\n",
       " 326,\n",
       " 326,\n",
       " 250,\n",
       " 250,\n",
       " 305,\n",
       " 305,\n",
       " 394,\n",
       " 394,\n",
       " 534,\n",
       " 534,\n",
       " 105,\n",
       " 105,\n",
       " 135,\n",
       " 135,\n",
       " 637,\n",
       " 637,\n",
       " 154,\n",
       " 154,\n",
       " 49,\n",
       " 49,\n",
       " 231,\n",
       " 231,\n",
       " 221,\n",
       " 221,\n",
       " 350,\n",
       " 350,\n",
       " 356,\n",
       " 356,\n",
       " 72,\n",
       " 72,\n",
       " 154,\n",
       " 154,\n",
       " 167,\n",
       " 167,\n",
       " 449,\n",
       " 449,\n",
       " 296,\n",
       " 296,\n",
       " 323,\n",
       " 323,\n",
       " 12,\n",
       " 12,\n",
       " 177,\n",
       " 177,\n",
       " 284,\n",
       " 284,\n",
       " 96,\n",
       " 96,\n",
       " 294,\n",
       " 294,\n",
       " 289,\n",
       " 289,\n",
       " 1135,\n",
       " 1135,\n",
       " 209,\n",
       " 209,\n",
       " 214,\n",
       " 214,\n",
       " 91,\n",
       " 91,\n",
       " 43,\n",
       " 43,\n",
       " 581,\n",
       " 581,\n",
       " 37,\n",
       " 37,\n",
       " 266,\n",
       " 266,\n",
       " 51,\n",
       " 51,\n",
       " 169,\n",
       " 169,\n",
       " 21,\n",
       " 21,\n",
       " 272,\n",
       " 272,\n",
       " 793,\n",
       " 793,\n",
       " 301,\n",
       " 301,\n",
       " 136,\n",
       " 136,\n",
       " 340,\n",
       " 340,\n",
       " 252,\n",
       " 252,\n",
       " 333,\n",
       " 333,\n",
       " 515,\n",
       " 515,\n",
       " 80,\n",
       " 80,\n",
       " 102,\n",
       " 102,\n",
       " 219,\n",
       " 219,\n",
       " 218,\n",
       " 218,\n",
       " 67,\n",
       " 67,\n",
       " 212,\n",
       " 212,\n",
       " 349,\n",
       " 349,\n",
       " 47,\n",
       " 47,\n",
       " 259,\n",
       " 259,\n",
       " 79,\n",
       " 79,\n",
       " 138,\n",
       " 138,\n",
       " 214,\n",
       " 214,\n",
       " 706,\n",
       " 706,\n",
       " 410,\n",
       " 410,\n",
       " 197,\n",
       " 197,\n",
       " 186,\n",
       " 186,\n",
       " 437,\n",
       " 437,\n",
       " 138,\n",
       " 138,\n",
       " 31,\n",
       " 31,\n",
       " 158,\n",
       " 158]"
      ]
     },
     "execution_count": 138,
     "metadata": {},
     "output_type": "execute_result"
    }
   ],
   "source": [
    "[len(x) for x in minR_lst_lst]"
   ]
  },
  {
   "cell_type": "code",
   "execution_count": 139,
   "id": "51e88e32",
   "metadata": {
    "ExecuteTime": {
     "end_time": "2024-01-13T01:30:03.917258Z",
     "start_time": "2024-01-13T01:30:03.302385Z"
    }
   },
   "outputs": [
    {
     "name": "stdout",
     "output_type": "stream",
     "text": [
      "\u0007\u0007\u0007"
     ]
    },
    {
     "data": {
      "text/plain": [
       "0"
      ]
     },
     "execution_count": 139,
     "metadata": {},
     "output_type": "execute_result"
    }
   ],
   "source": [
    "beep(3)"
   ]
  },
  {
   "cell_type": "code",
   "execution_count": 140,
   "id": "3e6442c0",
   "metadata": {
    "ExecuteTime": {
     "end_time": "2024-01-13T01:30:03.927975Z",
     "start_time": "2024-01-13T01:30:03.922093Z"
    }
   },
   "outputs": [],
   "source": [
    "def moving_average(a, n=3) :\n",
    "    \"\"\"\n",
    "    Example Usage:\n",
    "a_smoothed=moving_average(a, n=window_smooth)\n",
    "    \"\"\"\n",
    "    aa=np.array(a)\n",
    "    ret = np.cumsum(aa, dtype=float)\n",
    "    ret[n:] = ret[n:] - ret[:-n]\n",
    "    return ret[n - 1:] / n"
   ]
  },
  {
   "cell_type": "code",
   "execution_count": 141,
   "id": "43ae0d6a",
   "metadata": {
    "ExecuteTime": {
     "end_time": "2024-01-13T01:30:03.940384Z",
     "start_time": "2024-01-13T01:30:03.929214Z"
    }
   },
   "outputs": [
    {
     "data": {
      "text/plain": [
       "402"
      ]
     },
     "execution_count": 141,
     "metadata": {},
     "output_type": "execute_result"
    }
   ],
   "source": [
    "len(minR_lst_lst)"
   ]
  },
  {
   "cell_type": "code",
   "execution_count": 142,
   "id": "c0c8b1af",
   "metadata": {
    "ExecuteTime": {
     "end_time": "2024-01-13T01:30:04.885577Z",
     "start_time": "2024-01-13T01:30:03.941460Z"
    }
   },
   "outputs": [
    {
     "name": "stdout",
     "output_type": "stream",
     "text": [
      "tavg=4.0 ms\n"
     ]
    },
    {
     "data": {
      "image/png": "[encoded data removed]",
      "text/plain": [
       "<Figure size 640x480 with 1 Axes>"
      ]
     },
     "metadata": {},
     "output_type": "display_data"
    },
    {
     "data": {
      "text/plain": [
       "0.25"
      ]
     },
     "execution_count": 142,
     "metadata": {},
     "output_type": "execute_result"
    }
   ],
   "source": [
    "navg=16\n",
    "tavg=navg*DT\n",
    "print(f\"{tavg=} ms\")\n",
    "ymax=0\n",
    "for minR_lst in minR_lst_lst:\n",
    "    y=moving_average(minR_lst,navg)\n",
    "    plt.plot(y,color='gray')\n",
    "    if ymax<np.max(minR_lst):\n",
    "        ymax=np.max(minR_lst)\n",
    "plt.ylim([0,ymax])\n",
    "plt.show()\n",
    "DT"
   ]
  },
  {
   "cell_type": "code",
   "execution_count": 143,
   "id": "264727d2",
   "metadata": {
    "ExecuteTime": {
     "end_time": "2024-01-13T01:30:04.889567Z",
     "start_time": "2024-01-13T01:30:04.886952Z"
    }
   },
   "outputs": [],
   "source": [
    "#DONE: remake the forloop starting from the end and working backwords\n",
    "#MOTIVATION: so i don't have to track every nonexample for very long"
   ]
  },
  {
   "cell_type": "code",
   "execution_count": 144,
   "id": "15969b42",
   "metadata": {
    "ExecuteTime": {
     "end_time": "2024-01-13T01:30:04.901605Z",
     "start_time": "2024-01-13T01:30:04.891788Z"
    }
   },
   "outputs": [],
   "source": [
    "# #compute the minimum initial range to another tip\n",
    "# dist_values=np.zeros(numparticles)"
   ]
  },
  {
   "cell_type": "code",
   "execution_count": 145,
   "id": "a93a36e6",
   "metadata": {
    "ExecuteTime": {
     "end_time": "2024-01-13T01:30:04.906656Z",
     "start_time": "2024-01-13T01:30:04.902928Z"
    }
   },
   "outputs": [],
   "source": [
    "# #compute the minimum initial range to another tip\n",
    "# dist_values=np.zeros(numparticles)\n",
    "# xy_self=d_next.iloc[index_self][['x','y']].values\n",
    "# for index_other in index_other_values:\n",
    "#     xy_other=d_next.iloc[index_other][['x','y']].values\n",
    "#     dist=distance_L2_pbc(xy_self,xy_other)\n",
    "#     dist_values[index_other]=dist\n",
    "# minR = dist_values[dist_values>0].min()"
   ]
  },
  {
   "cell_type": "code",
   "execution_count": 146,
   "id": "ee7d2bb8",
   "metadata": {
    "ExecuteTime": {
     "end_time": "2024-01-13T01:30:04.913793Z",
     "start_time": "2024-01-13T01:30:04.908114Z"
    }
   },
   "outputs": [
    {
     "name": "stdout",
     "output_type": "stream",
     "text": [
      "dirout='/home/timothytyree/Documents/GitHub/bgmc/python/data/local_results/neighbors_False_uniformic_0_fc_2_r_0.314_D_0.42_L_5_kappa_75_varkappa_9.3_N_4/Log/../min_range_list.npz'\n"
     ]
    }
   ],
   "source": [
    "dirout = os.path.join(folder,f\"../min_range_list.npz\")\n",
    "print (f\"{dirout=}\")"
   ]
  },
  {
   "cell_type": "code",
   "execution_count": 147,
   "id": "c0cb1740",
   "metadata": {
    "ExecuteTime": {
     "end_time": "2024-01-13T01:30:05.713835Z",
     "start_time": "2024-01-13T01:30:04.914971Z"
    }
   },
   "outputs": [],
   "source": [
    "np.savez_compressed(dirout,*minR_lst_lst)"
   ]
  },
  {
   "cell_type": "markdown",
   "id": "454d54b2",
   "metadata": {},
   "source": [
    "# compute F_LPM for both fits to full models"
   ]
  },
  {
   "cell_type": "code",
   "execution_count": 176,
   "id": "09b76605",
   "metadata": {
    "ExecuteTime": {
     "end_time": "2024-02-05T20:06:27.213108Z",
     "start_time": "2024-02-05T20:06:27.027265Z"
    }
   },
   "outputs": [],
   "source": [
    "# #LPM fit to FK\n",
    "# dirout='/home/timothytyree/Documents/GitHub/bgmc/python/data/local_results/neighbors_False_uniformic_0_fc_2_r_0.457_D_0.115_L_5_kappa_15_varkappa_1.552_N_8/Log/../min_range_list.npz'\n",
    "# # r = 0.457#±0.009 cm #FK\n",
    "#LPM fit to LR\n",
    "dirout='/home/timothytyree/Documents/GitHub/bgmc/python/data/local_results/neighbors_False_uniformic_0_fc_2_r_0.314_D_0.42_L_5_kappa_75_varkappa_9.3_N_4/Log/../min_range_list.npz'\n",
    "# r = 0.314#±0.003 cm #LR\n",
    "r=0.1\n",
    "r2=0.15\n",
    "# r2=0.2\n",
    "DX=1.\n",
    "minR_lst_lst = list(np.load(dirout).values())\n",
    "threshR=r/DX\n",
    "threshR2=r2/DX"
   ]
  },
  {
   "cell_type": "code",
   "execution_count": 177,
   "id": "683f5612",
   "metadata": {
    "ExecuteTime": {
     "end_time": "2024-02-05T20:06:27.913281Z",
     "start_time": "2024-02-05T20:06:27.896840Z"
    }
   },
   "outputs": [
    {
     "name": "stdout",
     "output_type": "stream",
     "text": [
      "0 entries had zero observations\n"
     ]
    }
   ],
   "source": [
    "dict_lst=[]\n",
    "count=0\n",
    "for minR_lst in minR_lst_lst:\n",
    "    nobs=len(minR_lst)\n",
    "    if nobs==0:\n",
    "        count+=1\n",
    "    else:\n",
    "        #trajectory was longer than mindur in duration, consider\n",
    "        minR = np.min(minR_lst)\n",
    "        #compute a large number of minR_lst values\n",
    "        boo_in_range = np.array(minR_lst)<threshR\n",
    "        ends_in_range = boo_in_range[0]\n",
    "        leaves_in_range=False\n",
    "        if ends_in_range:\n",
    "            #check if trajectory leaves in_range status\n",
    "            i0=np.argwhere(boo_in_range)[0][0]\n",
    "            if i0<(nobs-1): \n",
    "                leaves_in_range = boo_in_range[i0:].all()\n",
    "        #check if it really leaves the outer range at any point\n",
    "        if leaves_in_range:\n",
    "            boo_in_range2 = np.array(minR_lst)<threshR2\n",
    "            booir=boo_in_range2[i0:]\n",
    "            if booir.all():\n",
    "                #then the pair never leaves the outer range, disregard\n",
    "                leaves_in_range=False\n",
    "\n",
    "        #record\n",
    "        dict_lst.append(dict(\n",
    "            minR=minR,nobs=nobs,\n",
    "            ends_in_range=ends_in_range,\n",
    "            leaves_in_range=leaves_in_range,\n",
    "        ))\n",
    "print(f\"{count} entries had zero observations\")\n",
    "len(dict_lst)\n",
    "df=pd.DataFrame(dict_lst)\n",
    "# df.head()"
   ]
  },
  {
   "cell_type": "code",
   "execution_count": 178,
   "id": "fd94fb0b",
   "metadata": {
    "ExecuteTime": {
     "end_time": "2024-02-05T20:06:28.753234Z",
     "start_time": "2024-02-05T20:06:28.749868Z"
    }
   },
   "outputs": [
    {
     "name": "stdout",
     "output_type": "stream",
     "text": [
      "0 out of 208 trajectories left range r=0.1 cm (F_LPM=0.0000%)\n"
     ]
    }
   ],
   "source": [
    "# identify sum1 out of sum2 trajectories that enter range r stay in range r\n",
    "sum1=df['leaves_in_range'].sum()\n",
    "sum2=df['ends_in_range'].sum()\n",
    "# record F_\n",
    "# F_LPM = 1-sum1/sum2\n",
    "F_LPM = sum1/sum2\n",
    "print(f\"{sum1} out of {sum2} trajectories left range {r=} cm ({F_LPM=:.4%})\")"
   ]
  },
  {
   "cell_type": "code",
   "execution_count": 179,
   "id": "e0114a25",
   "metadata": {
    "ExecuteTime": {
     "end_time": "2024-02-05T20:06:31.423798Z",
     "start_time": "2024-02-05T20:06:30.801453Z"
    }
   },
   "outputs": [],
   "source": [
    "#LPM fit to FK\n",
    "dirout='/home/timothytyree/Documents/GitHub/bgmc/python/data/local_results/neighbors_False_uniformic_0_fc_2_r_0.457_D_0.115_L_5_kappa_15_varkappa_1.552_N_8/Log/../min_range_list.npz'\n",
    "# r = 0.457#±0.009 cm #FK\n",
    "# #LPM fit to LR\n",
    "# dirout='/home/timothytyree/Documents/GitHub/bgmc/python/data/local_results/neighbors_False_uniformic_0_fc_2_r_0.314_D_0.42_L_5_kappa_75_varkappa_9.3_N_4/Log/../min_range_list.npz'\n",
    "# r = 0.314#±0.003 cm #LR\n",
    "# r = 0.1#±0.009 cm #FK\n",
    "DX=1.\n",
    "minR_lst_lst = list(np.load(dirout).values())\n",
    "# threshR=r/DX"
   ]
  },
  {
   "cell_type": "code",
   "execution_count": 180,
   "id": "9c01d6a5",
   "metadata": {
    "ExecuteTime": {
     "end_time": "2024-02-05T20:06:31.463942Z",
     "start_time": "2024-02-05T20:06:31.425316Z"
    }
   },
   "outputs": [
    {
     "name": "stdout",
     "output_type": "stream",
     "text": [
      "0 entries had zero observations\n"
     ]
    }
   ],
   "source": [
    "dict_lst=[]\n",
    "count=0\n",
    "for minR_lst in minR_lst_lst:\n",
    "    nobs=len(minR_lst)\n",
    "    if nobs==0:\n",
    "        count+=1\n",
    "    else:\n",
    "        #trajectory was longer than mindur in duration, consider\n",
    "        minR = np.min(minR_lst)\n",
    "        #compute a large number of minR_lst values\n",
    "        boo_in_range = np.array(minR_lst)<threshR\n",
    "        ends_in_range = boo_in_range[0]\n",
    "        leaves_in_range=False\n",
    "        if ends_in_range:\n",
    "            #check if trajectory leaves in_range status\n",
    "            i0=np.argwhere(boo_in_range)[0][0]\n",
    "            if i0<(nobs-1): \n",
    "                leaves_in_range = boo_in_range[i0:].all()\n",
    "        #check if it really leaves the outer range at any point\n",
    "        if leaves_in_range:\n",
    "            boo_in_range2 = np.array(minR_lst)<threshR2\n",
    "            booir=boo_in_range2[i0:]\n",
    "            if booir.all():\n",
    "                #then the pair never leaves the outer range, disregard\n",
    "                leaves_in_range=False\n",
    "\n",
    "        #record\n",
    "        dict_lst.append(dict(\n",
    "            minR=minR,nobs=nobs,\n",
    "            ends_in_range=ends_in_range,\n",
    "            leaves_in_range=leaves_in_range,\n",
    "        ))\n",
    "print(f\"{count} entries had zero observations\")\n",
    "len(dict_lst)\n",
    "df=pd.DataFrame(dict_lst)\n",
    "# df.head()"
   ]
  },
  {
   "cell_type": "code",
   "execution_count": 181,
   "id": "49eae22c",
   "metadata": {
    "ExecuteTime": {
     "end_time": "2024-02-05T20:06:32.200464Z",
     "start_time": "2024-02-05T20:06:32.194266Z"
    }
   },
   "outputs": [
    {
     "name": "stdout",
     "output_type": "stream",
     "text": [
      "0 out of 541 trajectories left range r=0.1 cm (F_LPM=0.0000%)\n"
     ]
    }
   ],
   "source": [
    "# identify sum1 out of sum2 trajectories that enter range r stay in range r\n",
    "sum1=df['leaves_in_range'].sum()\n",
    "sum2=df['ends_in_range'].sum()\n",
    "# record F_\n",
    "# F_LPM = 1-sum1/sum2\n",
    "F_LPM = sum1/sum2\n",
    "print(f\"{sum1} out of {sum2} trajectories left range {r=} cm ({F_LPM=:.4%})\")"
   ]
  },
  {
   "cell_type": "code",
   "execution_count": 174,
   "id": "3fd7c24e",
   "metadata": {
    "ExecuteTime": {
     "end_time": "2024-02-05T20:05:20.466550Z",
     "start_time": "2024-02-05T20:05:20.460079Z"
    }
   },
   "outputs": [],
   "source": [
    "# 4 out of 30 trajectories left range r=0.457 cm (F_LPM=86.6667%)\n",
    "# 173 out of 1199 trajectories left range r=0.457 cm (F_LPM=85.5713%)\n",
    "\n"
   ]
  },
  {
   "cell_type": "code",
   "execution_count": 175,
   "id": "68876857",
   "metadata": {
    "ExecuteTime": {
     "end_time": "2024-02-05T20:05:21.198063Z",
     "start_time": "2024-02-05T20:05:21.193363Z"
    }
   },
   "outputs": [],
   "source": [
    "#FK\n",
    "# 4 out of 541 trajectories left range r=0.1 cm (F_LPM=99.2606%)\n",
    "#LR\n",
    "# 0 out of 208 trajectories left range r=0.1 cm (F_LPM=100.0000%)\n"
   ]
  },
  {
   "cell_type": "code",
   "execution_count": null,
   "id": "82eff08d",
   "metadata": {},
   "outputs": [],
   "source": []
  },
  {
   "cell_type": "code",
   "execution_count": null,
   "id": "8291ab42",
   "metadata": {},
   "outputs": [],
   "source": []
  },
  {
   "cell_type": "code",
   "execution_count": null,
   "id": "4fba58d6",
   "metadata": {},
   "outputs": [],
   "source": []
  }
 ],
 "metadata": {
  "kernelspec": {
   "display_name": "Python 3 (ipykernel)",
   "language": "python",
   "name": "python3"
  },
  "language_info": {
   "codemirror_mode": {
    "name": "ipython",
    "version": 3
   },
   "file_extension": ".py",
   "mimetype": "text/x-python",
   "name": "python",
   "nbconvert_exporter": "python",
   "pygments_lexer": "ipython3",
   "version": "3.9.13"
  },
  "toc": {
   "base_numbering": 1,
   "nav_menu": {},
   "number_sections": true,
   "sideBar": true,
   "skip_h1_title": false,
   "title_cell": "Table of Contents",
   "title_sidebar": "Contents",
   "toc_cell": false,
   "toc_position": {},
   "toc_section_display": true,
   "toc_window_display": false
  }
 },
 "nbformat": 4,
 "nbformat_minor": 5
}
