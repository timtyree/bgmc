{
 "cells": [
  {
   "cell_type": "markdown",
   "metadata": {},
   "source": [
    "# Computing mean termination time for a powerlaw fit\n",
    " Tim Tyree<br>\n",
    " 9.7.2021"
   ]
  },
  {
   "cell_type": "code",
   "execution_count": 1,
   "metadata": {
    "ExecuteTime": {
     "end_time": "2021-09-08T18:37:04.757506Z",
     "start_time": "2021-09-08T18:37:01.701202Z"
    }
   },
   "outputs": [],
   "source": [
    "from lib.my_initialization import *\n",
    "from lib import *\n",
    "%load_ext autoreload\n",
    "%autoreload 2\n",
    "\n",
    "import random,scipy\n",
    "from scipy.interpolate import LinearNDInterpolator\n",
    "from scipy.interpolate import CloughTocher2DInterpolator\n",
    "import matplotlib as mpl #for colorbar\n",
    "from scipy import stats\n",
    "#DONE: hook this routine up to dask\n",
    "#DONT: hook this routine up to dask_cuda"
   ]
  },
  {
   "cell_type": "code",
   "execution_count": 2,
   "metadata": {
    "ExecuteTime": {
     "end_time": "2021-09-08T18:37:04.809290Z",
     "start_time": "2021-09-08T18:37:04.759850Z"
    }
   },
   "outputs": [],
   "source": [
    "# # For darkmode plots\n",
    "# from jupyterthemes import jtplot\n",
    "# jtplot.style(theme='monokai', context='notebook', ticks=True, grid=False)"
   ]
  },
  {
   "cell_type": "markdown",
   "metadata": {},
   "source": [
    "__Introduction__\n",
    "\n",
    "Suppose we have a death process between randomly moving particles that are attracted to one another.\n",
    "\n",
    "Simpler: \n",
    "Suppose we have a death process defined over the positive even integers, $\\Omega={0,2,4,...}$.  The rate of the process $N\\rightarrow N-2$ is denoted as $W_{-2}(N)$  we observe the approximately scale invarient solution numerically identified previously (CITE: Vidmar \\& Rappel,2019), $w=W_{-2}(N)/A~f(q)=f(N/A)$.   From their data we have deduced a concave powerlaw relationship,\n",
    "\n",
    "$$w=W_{-2}(N)/A=Mq^\\nu=M(N/A)^\\nu$$\n",
    "\n"
   ]
  },
  {
   "cell_type": "markdown",
   "metadata": {},
   "source": [
    "__Computing the mean termination time (MTT) of an annihilation process with decay rates scaling with some powerlaw dependence on N/A__\n",
    "- TODO: plot tau(2) as grayscale over M versus nu\n",
    "- TODO: plot tau(2) as grayscale over M versus nu_new, which is built to work with PM's forceless model, where nu=2... here $\\nu_{new}=2-\\nu$\n",
    "- TODO: plot plot tau(4),tau(6),tau(8) as grayscale over M versus nu\n",
    "- TODO: plot tau(2) on a versus r using the interpolating function that maps ($a$,$r$),$\\kappa=500$ Hz, $D=2$ cm$^2/s$ $\\longrightarrow (M,\\nu) \\longrightarrow$ MTT.\n"
   ]
  },
  {
   "cell_type": "markdown",
   "metadata": {},
   "source": [
    "# dev map $(M,\\nu) \\longrightarrow$ the mean termination time conditioned on two particles that annihilate"
   ]
  },
  {
   "cell_type": "markdown",
   "metadata": {},
   "source": [
    "Sketch of proof that MTT2$ =\\tau(2)$ = the mean termination time conditioned on two particles \n",
    "$$\n",
    "\\tau(2)=1/W_{-2}(N=2)=1/(w(q=2/A)A)=1/(AM(2/A)^\\nu)\n",
    "$$\n",
    "\n",
    "It can be shown that\n",
    "$$\n",
    "\\tau(2)=2^{-\\nu}A^{\\nu-1}M^{-1}\n",
    "$$\n",
    "\n",
    "For $A=25$ cm$^2$, we have\n",
    "$$\n",
    "\\tau(2)=2^{-\\nu}(25 cm^2)^{\\nu-1}M^{-1}\n",
    "$$"
   ]
  },
  {
   "cell_type": "markdown",
   "metadata": {},
   "source": [
    "For N>2, we can solve by adding the rates as capacitors in series:\n",
    "\n",
    "$$\n",
    "\\tau(N) = \\frac{1}{W_{-2}(2)} + \\frac{1}{W_{-2}(4)} + ... \\frac{1}{W_{-2}(N)}\n",
    "$$\n",
    "\n",
    "Factoring by $\\tau(2)$, we arrive at the following formula for $\\tau(N)$:\n",
    "\n",
    "$$\n",
    "\\tau(N) = \\tau(2)\\sum_{j=1}^{\\lfloor N/2\\rfloor} j^{-\\nu}\n",
    "$$"
   ]
  },
  {
   "cell_type": "code",
   "execution_count": 3,
   "metadata": {
    "ExecuteTime": {
     "end_time": "2021-09-08T18:37:04.855804Z",
     "start_time": "2021-09-08T18:37:04.810885Z"
    }
   },
   "outputs": [],
   "source": [
    "def comp_tau2(M,nu,A=25.):\n",
    "    '''the mean termination time from the 2->0 process, with powerlaw distributed annihilation rates'''\n",
    "    tau2=2**-nu * A**(nu-1) * M\n",
    "    return tau2\n",
    "\n",
    "def comp_tau(N,M,nu,A=25.):\n",
    "    '''the mean termination time from the N->0 process, with powerlaw distributed annihilation rates'''\n",
    "    kmax=int(N/2)\n",
    "    tau2=comp_tau2(M,nu,A)\n",
    "    ktot=0.\n",
    "    for k in range(kmax):\n",
    "        ktot = ktot + (k+1)**-nu\n",
    "    return tau2*ktot  "
   ]
  },
  {
   "cell_type": "code",
   "execution_count": 4,
   "metadata": {
    "ExecuteTime": {
     "end_time": "2021-09-08T18:37:04.909378Z",
     "start_time": "2021-09-08T18:37:04.857448Z"
    }
   },
   "outputs": [],
   "source": [
    "#test that the N=2 value maps to tau2 as it should\n",
    "assert ( comp_tau(N=2,M=15,nu=2,A=25.)==comp_tau2(M=15,nu=2,A=25.) ) "
   ]
  },
  {
   "cell_type": "code",
   "execution_count": null,
   "metadata": {
    "ExecuteTime": {
     "end_time": "2021-09-08T02:48:46.214597Z",
     "start_time": "2021-09-08T02:48:46.163393Z"
    }
   },
   "outputs": [],
   "source": []
  },
  {
   "cell_type": "code",
   "execution_count": 31,
   "metadata": {
    "ExecuteTime": {
     "end_time": "2021-09-08T19:29:00.511789Z",
     "start_time": "2021-09-08T19:29:00.188195Z"
    }
   },
   "outputs": [
    {
     "name": "stdout",
     "output_type": "stream",
     "text": [
      "fk_pbc\n",
      "tau(2)=0.43 minutes\n",
      "tau(4)=0.54 minutes\n",
      "tau(6)=0.60 minutes\n",
      "\n",
      "lr_pbc\n",
      "tau(2)=0.70 minutes\n",
      "tau(4)=0.92 minutes\n",
      "tau(6)=1.04 minutes\n"
     ]
    }
   ],
   "source": [
    "wjr=recall_powerlaw_fits_to_full_models()\n",
    "model_name='fk_pbc'\n",
    "print(model_name)\n",
    "#some exampels\n",
    "for j in range(3):\n",
    "    k=2*(j+1)\n",
    "    print(f\"tau({k})={comp_tau(N=k,M=wjr[model_name]['M'],nu=wjr[model_name]['m'],A=25.)/60:.2f} minutes\")\n",
    " \n",
    "print('')\n",
    "model_name='lr_pbc'\n",
    "print(model_name)\n",
    "#some exampels\n",
    "for j in range(3):\n",
    "    k=2*(j+1)\n",
    "    print(f\"tau({k})={comp_tau(N=k,M=wjr[model_name]['M'],nu=wjr[model_name]['m'],A=25.)/60:.2f} minutes\")\n",
    "        "
   ]
  },
  {
   "cell_type": "code",
   "execution_count": 61,
   "metadata": {
    "ExecuteTime": {
     "end_time": "2021-09-08T20:14:28.723491Z",
     "start_time": "2021-09-08T20:14:28.660077Z"
    }
   },
   "outputs": [],
   "source": [
    "def PlotMTTAnnihilationOnly(fig,ax,N=2,A=25,show_cbar=True,use_cbar=True,use_legend=True,**kwargs):\n",
    "    '''\n",
    "    N=positive even integer representing the initial number of particles\n",
    "    A=25#cm^2= area of computational domain \n",
    "    '''\n",
    "    #define pixel locations\n",
    "    M_values=np.linspace(0,30,101)#199)#<3\n",
    "    nu_values=np.linspace(0,3,101)#100)\n",
    "\n",
    "    #TODO: plot the FK and LR model scattered on this with uncertainty bars\n",
    "    errkwargs={\n",
    "        'alpha':.7,\n",
    "        'fmt':'o',\n",
    "        'markersize':2,\n",
    "        'elinewidth':3,\n",
    "        'errorevery':1,\n",
    "        'capsize':3\n",
    "    }\n",
    "    wjr=recall_powerlaw_fits_to_full_models()\n",
    "\n",
    "\n",
    "    #compute the data\n",
    "    XI=np.meshgrid(*(M_values,nu_values))\n",
    "    x1_values=XI[0]\n",
    "    x2_values=XI[1]\n",
    "    y_values=comp_tau(N,x1_values,x2_values,A)/60 #minutes\n",
    "\n",
    "    fontsize=20\n",
    "    vmin=0#np.min(y_values)\n",
    "    vmax=1#np.max(y_values)\n",
    "    clabel=r'mean termination'+f'\\n'+f'time (min) for {N:d}'+r'$\\rightarrow0$'\n",
    "    cmap='gray'\n",
    "    # cmap='Reds'\n",
    "    x1label=r'$M$ (cm$^{2(\\nu-1)}/$s)'\n",
    "    x2label=r'$\\nu$'\n",
    "    title=f'Area of domain = {A:d} cm'+r'$^2$'\n",
    "    x1lim=(np.min(x1_values),np.max(x1_values))\n",
    "    x2lim=(np.min(x2_values),np.max(x2_values))\n",
    "\n",
    "    #plot the grayscale background and format plot\n",
    "    PlotInterpolatedBackground(fig,ax,x1_values,x2_values,y_values,vmin,vmax,clabel,cmap,fontsize=fontsize,show_cbar=show_cbar,use_cbar=use_cbar,**kwargs)\n",
    "    FormatAxes(ax, x1lim, x2lim, x1label, x2label, title, fontsize=fontsize, use_loglog=False, **kwargs)\n",
    "\n",
    "    #plot the power law fits for the full models\n",
    "    model_name='fk_pbc'\n",
    "    plt.errorbar(x   =[wjr[model_name]['M']]     , y=[wjr[model_name]['m']],\n",
    "                 xerr=[wjr[model_name]['Delta_M']],yerr=[wjr[model_name]['Delta_m']],c='C0',ecolor='C0',label='Fenton-Karma model',**errkwargs)\n",
    "    model_name='lr_pbc'\n",
    "    ax.errorbar(x   =[wjr[model_name]['M']]     , y=[wjr[model_name]['m']],\n",
    "                 xerr=[wjr[model_name]['Delta_M']],yerr=[wjr[model_name]['Delta_m']],c='C1',ecolor='C1',label='Luo-Rudy model',**errkwargs)\n",
    "    \n",
    "    ax.plot(M_values,2+0.*M_values,'k--',alpha=0.3,lw=3)\n",
    "    if use_legend:\n",
    "        ax.legend(fontsize=fontsize-8)\n",
    "    return True"
   ]
  },
  {
   "cell_type": "code",
   "execution_count": 62,
   "metadata": {
    "ExecuteTime": {
     "end_time": "2021-09-08T20:14:29.315161Z",
     "start_time": "2021-09-08T20:14:29.021503Z"
    }
   },
   "outputs": [
    {
     "data": {
      "image/png": "[encoded data removed]",
      "text/plain": [
       "<Figure size 432x288 with 2 Axes>"
      ]
     },
     "metadata": {
      "needs_background": "light"
     },
     "output_type": "display_data"
    }
   ],
   "source": [
    "#TODO: redo ^that plot for 4->0 and 6->0 with A=25 cm^2 fixed\n",
    "#TODO: redo at least one of ^those plots (2->0)  for A=50 and A=100cm^2 \n",
    "#TODO: rerun this notebook with darkmode turned off.  collect screenshots into a .pdf for today's meeting.\n",
    "fig,ax=plt.subplots(1)\n",
    "PlotMTTAnnihilationOnly(fig,ax,N=2,A=25)\n",
    "plt.show()"
   ]
  },
  {
   "cell_type": "code",
   "execution_count": 63,
   "metadata": {
    "ExecuteTime": {
     "end_time": "2021-09-08T20:14:30.839856Z",
     "start_time": "2021-09-08T20:14:30.550311Z"
    }
   },
   "outputs": [
    {
     "data": {
      "image/png": "[encoded data removed]",
      "text/plain": [
       "<Figure size 432x288 with 2 Axes>"
      ]
     },
     "metadata": {
      "needs_background": "light"
     },
     "output_type": "display_data"
    }
   ],
   "source": [
    "# fig,axs=plt.subplots(ncols=3,figsize=(12,4))\n",
    "# PlotMTTAnnihilationOnly(fig,axs[0],N=2,A=25,show_cbar=False,use_cbar=False,use_legend=False)\n",
    "# PlotMTTAnnihilationOnly(fig,axs[1],N=4,A=25,show_cbar=False,use_cbar=False,use_legend=False)\n",
    "# PlotMTTAnnihilationOnly(fig,axs[2],N=6,A=25,show_cbar=False,use_cbar=False,use_legend=False)\n",
    "# plt.tight_layout()\n",
    "# fig.show()\n",
    "\n",
    "fig,ax=plt.subplots(1)\n",
    "PlotMTTAnnihilationOnly(fig,ax,N=4,A=25)\n",
    "plt.show()"
   ]
  },
  {
   "cell_type": "code",
   "execution_count": 64,
   "metadata": {
    "ExecuteTime": {
     "end_time": "2021-09-08T20:14:31.441698Z",
     "start_time": "2021-09-08T20:14:31.137844Z"
    }
   },
   "outputs": [
    {
     "data": {
      "image/png": "[encoded data removed]",
      "text/plain": [
       "<Figure size 432x288 with 2 Axes>"
      ]
     },
     "metadata": {
      "needs_background": "light"
     },
     "output_type": "display_data"
    }
   ],
   "source": [
    "fig,ax=plt.subplots(1)\n",
    "PlotMTTAnnihilationOnly(fig,ax,N=6,A=25)\n",
    "plt.show()"
   ]
  },
  {
   "cell_type": "code",
   "execution_count": 65,
   "metadata": {
    "ExecuteTime": {
     "end_time": "2021-09-08T20:14:32.196733Z",
     "start_time": "2021-09-08T20:14:31.749117Z"
    }
   },
   "outputs": [
    {
     "data": {
      "image/png": "[encoded data removed]",
      "text/plain": [
       "<Figure size 432x288 with 2 Axes>"
      ]
     },
     "metadata": {
      "needs_background": "light"
     },
     "output_type": "display_data"
    }
   ],
   "source": [
    "fig,ax=plt.subplots(1)\n",
    "PlotMTTAnnihilationOnly(fig,ax,N=2,A=50)\n",
    "plt.show()"
   ]
  },
  {
   "cell_type": "code",
   "execution_count": 66,
   "metadata": {
    "ExecuteTime": {
     "end_time": "2021-09-08T20:14:32.803489Z",
     "start_time": "2021-09-08T20:14:32.493238Z"
    }
   },
   "outputs": [
    {
     "data": {
      "image/png": "[encoded data removed]",
      "text/plain": [
       "<Figure size 432x288 with 2 Axes>"
      ]
     },
     "metadata": {
      "needs_background": "light"
     },
     "output_type": "display_data"
    }
   ],
   "source": [
    "fig,ax=plt.subplots(1)\n",
    "PlotMTTAnnihilationOnly(fig,ax,N=2,A=100)\n",
    "plt.show()"
   ]
  },
  {
   "cell_type": "code",
   "execution_count": null,
   "metadata": {},
   "outputs": [],
   "source": []
  },
  {
   "cell_type": "code",
   "execution_count": 68,
   "metadata": {
    "ExecuteTime": {
     "end_time": "2021-09-08T20:30:20.754966Z",
     "start_time": "2021-09-08T20:30:20.696547Z"
    }
   },
   "outputs": [
    {
     "name": "stdout",
     "output_type": "stream",
     "text": [
      "fk_pbc\n",
      "for A=25 cm^2, tau(6)=0.43 minutes\n",
      "for A=50 cm^2, tau(6)=0.78 minutes\n",
      "for A=100 cm^2, tau(6)=1.44 minutes\n",
      "\n",
      "lr_pbc\n",
      "for A=25 cm^2, tau(6)=0.70 minutes\n",
      "for A=50 cm^2, tau(6)=1.09 minutes\n",
      "for A=100 cm^2, tau(6)=1.69 minutes\n"
     ]
    }
   ],
   "source": [
    "wjr=recall_powerlaw_fits_to_full_models()\n",
    "model_name='fk_pbc'\n",
    "print(model_name)\n",
    "#some exampels\n",
    "for A in [25,50,100]:\n",
    "    print(f\"for A={A:.0f} cm^2, tau({k})={comp_tau(N=2,M=wjr[model_name]['M'],nu=wjr[model_name]['m'],A=A)/60:.2f} minutes\")\n",
    " \n",
    "print('')\n",
    "model_name='lr_pbc'\n",
    "print(model_name)\n",
    "#some exampels\n",
    "for A in [25,50,100]:\n",
    "    print(f\"for A={A:.0f} cm^2, tau({k})={comp_tau(N=2,M=wjr[model_name]['M'],nu=wjr[model_name]['m'],A=A)/60:.2f} minutes\")\n",
    "        "
   ]
  },
  {
   "cell_type": "markdown",
   "metadata": {},
   "source": [
    "__Next Steps: Including Birth Rates__  See iPad pen & paper work/notes...  The nested infinite sum is computable for the sake of making plots and such.  The following absolutely converging Dirichlet series keeps appearing though...\n",
    "\n",
    "For powerlaw creation rates,\n",
    "$w_+(q) = W_{+2}(N)/A = M_+(N/A)^{\\nu_+}$\n",
    "and annihilation rates,\n",
    "$w_-(q) = W_{-2}(N)/A = M_-(N/A)^{\\nu_-}$\n",
    "\n",
    "we may substitute into Eqn. 8 (Vidmar & Rappel, 2019) to analytically compute the mean termination time conditioned on $N$ tips initially being present.\n",
    "\n",
    "$$\n",
    "\\tau(N) = M_+^{-1}(A/2)^{\\nu_+} \\sum_{k=1}^{\\lfloor N/2\\rfloor} x^{1-k}(k-1)! \\sum_{j=k}^\\infty Q_k(x,\\beta,\\nu_+)\n",
    "$$\n",
    "where we have defined the constant parameters, $\\beta=\\nu_--\\nu_+$ and $x=\\frac{M_+}{M_-}(\\frac{A}{2})^\\beta$, and we have defined the function $Q_k = Q_k(x,\\beta,\\nu_+)$\n",
    "$$\n",
    "Q_k =  \\sum_{j=k}^\\infty \\frac{x^j j^{-s}}{j!^\\beta}\n",
    "$$\n",
    "\n",
    "Plugging in $N=2$, we find $\\tau(2)=M_+^{-1}(A/2)^{\\nu_+} Q_1$, which involves the Dirichlet series in $s=\\nu_+$ which is absolutely convergent:\n",
    "\n",
    "$$\n",
    "Q_1 = \\sum_{j=1}^\\infty \\frac{x^j}{j!^\\beta j^{s}}\n",
    "$$\n",
    "\n",
    "Computing higher orders of $\\tau(N)$ is straightforward after the evaluation of $Q_{k=1}$. \n",
    "\n",
    "For the full models we expect the following real parameters:"
   ]
  },
  {
   "cell_type": "markdown",
   "metadata": {},
   "source": [
    "At high densities, where $N/A>0.1$ per square centimeter, we expect the following parameter values for $A = 25 cm^2$:\n",
    "<table>\n",
    "  <tr>\n",
    "    <th>model</th>\n",
    "    <th>$s$</th>\n",
    "    <th>$\\beta$</th>\n",
    "    <th>$x$</th>\n",
    "  </tr>\n",
    "  <tr>\n",
    "    <td>Fenton-Karma</td>\n",
    "    <td>0.197(7)</td>\n",
    "    <td>1.68(3)</td>\n",
    "    <th>$\\approx12.2$</th>\n",
    "  </tr>\n",
    "  <tr>\n",
    "    <td>Luo-Rudy</td>\n",
    "    <td>0.65(2)</td>\n",
    "    <td>0.93(3)</td>\n",
    "    <th>$\\approx1.3$</th>\n",
    "  </tr>\n",
    "</table>"
   ]
  },
  {
   "cell_type": "code",
   "execution_count": 86,
   "metadata": {
    "ExecuteTime": {
     "end_time": "2021-09-08T21:12:32.570728Z",
     "start_time": "2021-09-08T21:12:32.507501Z"
    }
   },
   "outputs": [],
   "source": [
    "wjr=recall_powerlaw_fits_to_full_models()"
   ]
  },
  {
   "cell_type": "code",
   "execution_count": 90,
   "metadata": {
    "ExecuteTime": {
     "end_time": "2021-09-08T21:16:46.411292Z",
     "start_time": "2021-09-08T21:16:46.343227Z"
    }
   },
   "outputs": [
    {
     "name": "stdout",
     "output_type": "stream",
     "text": [
      "(1.6829999999999998, 0.030805843601498725)\n",
      "(0.9695973198794758, nan)\n"
     ]
    },
    {
     "data": {
      "text/plain": [
       "12.208301515908579"
      ]
     },
     "execution_count": 90,
     "metadata": {},
     "output_type": "execute_result"
    }
   ],
   "source": [
    "A=25 #cm^2\n",
    "# x=\\frac{M_+}{M_-}(\\frac{A}{2})^\\beta$\n",
    "#calc x for FK\n",
    "beta=1.88-.197\n",
    "Delta_beta=np.sqrt(0.03**2+0.007**2)\n",
    "print((beta,Delta_beta))\n",
    "\n",
    "#Mplus for FK model\n",
    "Mplus,Delta_Mplus=comp_power_scale(B=np.exp(-0.1568262933553215), Delta_B=np.exp(0.008869706927806541), m=0.19687022603831317, Delta_m=0.007054990756244542)\n",
    "print((Mplus,Delta_Mplus))\n",
    "Mminus=wjr['fk_pbc']['M']\n",
    "Delta_Mminus=wjr['fk_pbc']['Delta_M']\n",
    "\n",
    "#TODO: compute uncertainty estimate in x\n",
    "x=(Mplus/Mminus)*(A/2)**beta\n",
    "x"
   ]
  },
  {
   "cell_type": "code",
   "execution_count": 91,
   "metadata": {
    "ExecuteTime": {
     "end_time": "2021-09-08T21:16:47.162146Z",
     "start_time": "2021-09-08T21:16:47.097486Z"
    }
   },
   "outputs": [
    {
     "name": "stdout",
     "output_type": "stream",
     "text": [
      "(0.93, 0.0282842712474619)\n",
      "(2.0847932731052743, 0.502483064106906)\n"
     ]
    },
    {
     "data": {
      "text/plain": [
       "1.3048123503058182"
      ]
     },
     "execution_count": 91,
     "metadata": {},
     "output_type": "execute_result"
    }
   ],
   "source": [
    "# x=\\frac{M_+}{M_-}(\\frac{A}{2})^\\beta$\n",
    "#calc x for LR\n",
    "beta=1.58-.65\n",
    "Delta_beta=np.sqrt(0.02**2+0.02**2)\n",
    "print((beta,Delta_beta))\n",
    "\n",
    "#Mplus for LR model\n",
    "Mplus,Delta_Mplus=comp_power_scale(B=np.exp(1.1263098384848962), Delta_B=np.exp(0.02645979865782054), m=0.6522802834907268, Delta_m=0.016231149413306015)\n",
    "print((Mplus,Delta_Mplus))\n",
    "\n",
    "\n",
    "#Mplus for FK model\n",
    "Mminus=wjr['lr_pbc']['M']\n",
    "Delta_Mminus=wjr['lr_pbc']['Delta_M']\n",
    "\n",
    "#TODO: compute uncertainty estimate in x\n",
    "x=(Mplus/Mminus)*(A/2)**beta\n",
    "x"
   ]
  },
  {
   "cell_type": "code",
   "execution_count": 76,
   "metadata": {
    "ExecuteTime": {
     "end_time": "2021-09-08T21:06:39.476518Z",
     "start_time": "2021-09-08T21:06:39.421308Z"
    }
   },
   "outputs": [
    {
     "name": "stdout",
     "output_type": "stream",
     "text": [
      "def comp_power_scale(B,Delta_B,m,Delta_m):\n",
      "    '''compute pessemistic 95% CI of annihilation rate scale, M_fk=B_fk**m_fk'''\n",
      "    #min bound\n",
      "    min_bound=(B-Delta_B)**(m-Delta_m)\n",
      "    # print(B**m-min_bound)\n",
      "    #max bound\n",
      "    max_bound=(B+Delta_B)**(m+Delta_m)\n",
      "    # print(max_bound-B**m)\n",
      "    Delta_M=np.max((max_bound-B**m,B**m-min_bound))\n",
      "    M=B**m\n",
      "    return M,Delta_M\n",
      "\n"
     ]
    }
   ],
   "source": [
    "from inspect import getsource\n",
    "print(getsource(comp_power_scale))"
   ]
  },
  {
   "cell_type": "code",
   "execution_count": 77,
   "metadata": {
    "ExecuteTime": {
     "end_time": "2021-09-08T21:07:34.131474Z",
     "start_time": "2021-09-08T21:07:34.075239Z"
    }
   },
   "outputs": [
    {
     "data": {
      "text/plain": [
       "-0.6309573444801932"
      ]
     },
     "execution_count": 77,
     "metadata": {},
     "output_type": "execute_result"
    }
   ],
   "source": [
    "-0.1**.2"
   ]
  },
  {
   "cell_type": "code",
   "execution_count": 81,
   "metadata": {
    "ExecuteTime": {
     "end_time": "2021-09-08T21:09:08.819736Z",
     "start_time": "2021-09-08T21:09:08.751512Z"
    }
   },
   "outputs": [
    {
     "data": {
      "text/plain": [
       "(0.5609848381063952+0.3990249405386927j)"
      ]
     },
     "execution_count": 81,
     "metadata": {},
     "output_type": "execute_result"
    }
   ],
   "source": [
    "(-.15)**.1968"
   ]
  },
  {
   "cell_type": "code",
   "execution_count": 96,
   "metadata": {
    "ExecuteTime": {
     "end_time": "2021-09-08T21:32:10.876247Z",
     "start_time": "2021-09-08T21:32:10.810463Z"
    }
   },
   "outputs": [
    {
     "name": "stdout",
     "output_type": "stream",
     "text": [
      "tau(2)=2.79 minutes for the FK model\n",
      "tau(2)=0.09 minutes for the LR model\n"
     ]
    }
   ],
   "source": [
    "A=25 #cm^2\n",
    "#computing tau(2)\n",
    "#from mathematica, for FK\n",
    "Q1=98.8398\n",
    "#Mplus for FK model\n",
    "Mplus,Delta_Mplus=comp_power_scale(B=np.exp(-0.1568262933553215), Delta_B=np.exp(0.008869706927806541), m=0.19687022603831317, Delta_m=0.007054990756244542)\n",
    "tau2=1/Mplus*(A/2)**0.19687022603831317*Q1\n",
    "print(f\"tau(2)={tau2/60:.2f} minutes for the FK model\")\n",
    "\n",
    "#from mathematica, for LR\n",
    "Q1=2.14817\n",
    "# Mplus for LR model\n",
    "Mplus,Delta_Mplus=comp_power_scale(B=np.exp(1.1263098384848962), Delta_B=np.exp(0.02645979865782054), m=0.6522802834907268, Delta_m=0.016231149413306015)\n",
    "tau2=1/Mplus*(A/2)**0.6522802834907268*Q1\n",
    "print(f\"tau(2)={tau2/60:.2f} minutes for the LR model\")\n"
   ]
  },
  {
   "cell_type": "markdown",
   "metadata": {},
   "source": [
    "__Nota bene:__ adding creation should _increase_ tau(2), but this isn't the case for the Luo-Rudy model..."
   ]
  },
  {
   "cell_type": "markdown",
   "metadata": {},
   "source": [
    "Maybe you could help me/offer me some advice on this.  Last night, I was trying to compute the mean termination time for powerlaw birth/death rates using the analytic equations in Vidma & Rappel (2019), and I keep running into an infinite series of the form\n",
    "$$Q(x,\\beta,s) = \\sum_{n=1}^\\infty \\frac{x^n}{(n!)^\\beta n^s}$$\n",
    "\n",
    "This is a Dirichlet series that converges absolutely, I believe.  Also, we can assume $x$, $\\beta$ and $s$ are all strictly positive real numbers that have observable values that I can compute for the Fenton-Karma model and for the Luo-Rudy models.  The numerical sum converges very quickly, which leads me to believe a simplified form exists in terms of special functions. However, I couldn't find something like Q in this table (http://www-elsa.physik.uni-bonn.de/~dieckman/InfProd/InfProd.html) or by plugging it into Mathematica...  Maybe Weierstrass's definition of the Euler Gamma function would help in analytically evaluating $(n!)^\\beta$...  Maybe Dirichlet convolution could be used to break Q up into two Dirichlet infinite series that have already been solved in close form..."
   ]
  },
  {
   "cell_type": "markdown",
   "metadata": {},
   "source": [
    "# TODO: consider using Monte Carlo to solve MTT \n",
    "- for the pbc case ( only pair creation / annihilation )\n",
    "- for the pbc case with arbitrary input powerlaw fits, m,M\n",
    "- for the nonconducting boundary condition case"
   ]
  },
  {
   "cell_type": "code",
   "execution_count": 6,
   "metadata": {
    "ExecuteTime": {
     "end_time": "2021-09-15T18:50:33.594105Z",
     "start_time": "2021-09-15T18:50:33.582793Z"
    }
   },
   "outputs": [
    {
     "ename": "NameError",
     "evalue": "name 'recall_ncbc_powerlaw_fits' is not defined",
     "output_type": "error",
     "traceback": [
      "\u001b[0;31m---------------------------------------------------------------------------\u001b[0m",
      "\u001b[0;31mNameError\u001b[0m                                 Traceback (most recent call last)",
      "\u001b[0;32m<ipython-input-6-5e738c8f8659>\u001b[0m in \u001b[0;36m<module>\u001b[0;34m\u001b[0m\n\u001b[1;32m      1\u001b[0m \u001b[0;32mfrom\u001b[0m \u001b[0mlib\u001b[0m \u001b[0;32mimport\u001b[0m \u001b[0;34m*\u001b[0m\u001b[0;34m\u001b[0m\u001b[0;34m\u001b[0m\u001b[0m\n\u001b[0;32m----> 2\u001b[0;31m \u001b[0mncbc\u001b[0m\u001b[0;34m=\u001b[0m\u001b[0mrecall_ncbc_powerlaw_fits\u001b[0m\u001b[0;34m(\u001b[0m\u001b[0;34m)\u001b[0m\u001b[0;34m\u001b[0m\u001b[0;34m\u001b[0m\u001b[0m\n\u001b[0m",
      "\u001b[0;31mNameError\u001b[0m: name 'recall_ncbc_powerlaw_fits' is not defined"
     ]
    }
   ],
   "source": [
    "from lib import *\n",
    "ncbc=recall_ncbc_powerlaw_fits()\n"
   ]
  },
  {
   "cell_type": "code",
   "execution_count": null,
   "metadata": {
    "ExecuteTime": {
     "end_time": "2021-09-15T18:29:00.047850Z",
     "start_time": "2021-09-15T18:29:00.038587Z"
    }
   },
   "outputs": [],
   "source": [
    "wjr=recall_powerlaw_fits_to_full_models()\n",
    "\n",
    "wjr"
   ]
  },
  {
   "cell_type": "code",
   "execution_count": null,
   "metadata": {},
   "outputs": [],
   "source": []
  }
 ],
 "metadata": {
  "kernelspec": {
   "display_name": "Python 3",
   "language": "python",
   "name": "python3"
  },
  "language_info": {
   "codemirror_mode": {
    "name": "ipython",
    "version": 3
   },
   "file_extension": ".py",
   "mimetype": "text/x-python",
   "name": "python",
   "nbconvert_exporter": "python",
   "pygments_lexer": "ipython3",
   "version": "3.7.6"
  },
  "toc": {
   "base_numbering": 1,
   "nav_menu": {},
   "number_sections": false,
   "sideBar": true,
   "skip_h1_title": false,
   "title_cell": "Table of Contents",
   "title_sidebar": "Contents",
   "toc_cell": false,
   "toc_position": {},
   "toc_section_display": true,
   "toc_window_display": false
  },
  "varInspector": {
   "cols": {
    "lenName": 16,
    "lenType": 16,
    "lenVar": 40
   },
   "kernels_config": {
    "python": {
     "delete_cmd_postfix": "",
     "delete_cmd_prefix": "del ",
     "library": "var_list.py",
     "varRefreshCmd": "print(var_dic_list())"
    },
    "r": {
     "delete_cmd_postfix": ") ",
     "delete_cmd_prefix": "rm(",
     "library": "var_list.r",
     "varRefreshCmd": "cat(var_dic_list()) "
    }
   },
   "types_to_exclude": [
    "module",
    "function",
    "builtin_function_or_method",
    "instance",
    "_Feature"
   ],
   "window_display": false
  }
 },
 "nbformat": 4,
 "nbformat_minor": 5
}
