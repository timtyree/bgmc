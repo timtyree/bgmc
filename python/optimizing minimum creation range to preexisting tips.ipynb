{
 "cells": [
  {
   "cell_type": "markdown",
   "id": "cf95a8df",
   "metadata": {},
   "source": [
    "# optimizing minimum creation range to preexisting tips\n",
    "Tim Tyree<br>\n",
    "7.8.2025"
   ]
  },
  {
   "cell_type": "code",
   "execution_count": 1,
   "id": "e0863662",
   "metadata": {
    "ExecuteTime": {
     "end_time": "2025-07-09T00:23:19.900291Z",
     "start_time": "2025-07-09T00:23:15.846977Z"
    }
   },
   "outputs": [],
   "source": [
    "from lib.my_initialization import *"
   ]
  },
  {
   "cell_type": "code",
   "execution_count": 2,
   "id": "b12c58d2",
   "metadata": {
    "ExecuteTime": {
     "end_time": "2025-07-09T00:23:23.294273Z",
     "start_time": "2025-07-09T00:23:23.261769Z"
    }
   },
   "outputs": [],
   "source": [
    "plt.plot([1]*4)\n",
    "plt.close()\n",
    "#reset matplotlib\n",
    "import matplotlib\n",
    "matplotlib.rcParams.update(matplotlib.rcParamsDefault)"
   ]
  },
  {
   "cell_type": "markdown",
   "id": "5f710652",
   "metadata": {},
   "source": [
    "# define module"
   ]
  },
  {
   "cell_type": "code",
   "execution_count": 18,
   "id": "eae9c9b9",
   "metadata": {
    "ExecuteTime": {
     "end_time": "2025-07-09T00:32:02.871242Z",
     "start_time": "2025-07-09T00:32:02.858308Z"
    }
   },
   "outputs": [],
   "source": [
    "# parse_iolines\n",
    "def parse_iolines_single(input_fn, printing=False):\n",
    "    n_input=-9999\n",
    "    n_output=-9999\n",
    "    with open(input_fn) as f:\n",
    "#         trgt1='Printing Inputs...\\n'\n",
    "#         trgt2='Printing Outputs...\\n'\n",
    "        trgt1='Printing Inputs:\\n'\n",
    "        trgt2='Printing Outputs:\\n'\n",
    "        for n,line in enumerate(f):\n",
    "            if trgt1 == line:\n",
    "                if printing:\n",
    "                    print(f'found inputs starting after line {n}')\n",
    "                n_input=n\n",
    "            if trgt2 == line:\n",
    "                if printing:\n",
    "                    print(f'found outputs starting after line {n}')\n",
    "                n_output=n\n",
    "    return n_input,n_output\n",
    "\n",
    "def parse_outputs_single_trial(input_fn, n_output):\n",
    "    \"\"\"\n",
    "    Example Usage:\n",
    "TermTime = parse_outputs_single_trial(input_fn, n_output)\n",
    "    \"\"\"\n",
    "    with open(input_fn) as f:\n",
    "        for n,line in enumerate(f):\n",
    "            if n == n_output+1:\n",
    "                lin0 =line\n",
    "                TermTime = eval(lin0[:-2].split('=')[-1])\n",
    "                return TermTime\n",
    "#         if n == n_output+1:\n",
    "#             line_N = line\n",
    "#         if n == n_output+2:\n",
    "#             line_CollTime =line\n",
    "# N_values=np.array([eval(s) for s in line_N[:-2].split(',')])\n",
    "# CollTime_values=np.array([eval(s) for s in line_CollTime[:-2].split(',')])\n",
    "# # CollTime_values=np.array([eval(s) for s in line_CollTime[:-1].split(',')])\n",
    "# df=pd.DataFrame({\n",
    "#     'N':N_values,\n",
    "#     'CollTime':CollTime_values\n",
    "# })\n",
    "# df=df.loc[df.CollTime!=-9999]\n",
    "# df.reset_index(inplace=True,drop=True)\n",
    "## return df\n",
    "\n",
    "# parse_outputs(input_fn, n_output=)\n",
    "def parse_log_single(input_fn,printing=False):\n",
    "    \"\"\"\n",
    "    Example Usage:\n",
    "dict_data = parse_log_single(input_fn,printing=False)\n",
    "    \"\"\"\n",
    "    n_input,n_output=parse_iolines_single(input_fn, printing=False)\n",
    "    if n_input==-9999:\n",
    "        if printing:\n",
    "            print(f\"Warning: n_input not found for input_fn={input_fn}.\\nreturning None...\")\n",
    "        return None\n",
    "    col_name_lst, col_value_lst=parse_inputs(input_fn,n_input,n_output,printing=printing)\n",
    "    dict_inputs=dict(zip(col_name_lst,col_value_lst))\n",
    "    TermTime = parse_outputs_single_trial(input_fn, n_output)\n",
    "    dict_data = dict(dict_inputs)\n",
    "    dict_data['TermTime'] = TermTime\n",
    "    return dict_data"
   ]
  },
  {
   "cell_type": "markdown",
   "id": "e928f7d9",
   "metadata": {},
   "source": [
    "# recall correct termination time target from the cardiac models"
   ]
  },
  {
   "cell_type": "code",
   "execution_count": 3,
   "id": "369e79a5",
   "metadata": {
    "ExecuteTime": {
     "end_time": "2025-07-09T00:24:48.988156Z",
     "start_time": "2025-07-09T00:24:48.570677Z"
    }
   },
   "outputs": [
    {
     "data": {
      "image/png": "[encoded data removed]",
      "text/plain": [
       "<Figure size 300x400 with 1 Axes>"
      ]
     },
     "metadata": {},
     "output_type": "display_data"
    },
    {
     "data": {
      "text/plain": [
       "(0.0, 100.0, 0.13850549065122997, 12000.0)"
      ]
     },
     "execution_count": 3,
     "metadata": {},
     "output_type": "execute_result"
    }
   ],
   "source": [
    "data_folder = f\"{nb_dir}/Data/full_results\"\n",
    "os.path.exists(data_folder)\n",
    "\n",
    "\n",
    "\n",
    "Nbar_dir = os.path.join(data_folder,'Nbar_vs_A_full.csv')\n",
    "taubar_dir = os.path.join(data_folder,'taubar_vs_A_full.csv')\n",
    "df_Nbar = pd.read_csv(Nbar_dir)\n",
    "df_taubar = pd.read_csv(taubar_dir)\n",
    "# df_taubar\n",
    "# df_Nbar\n",
    "\n",
    "\n",
    "\n",
    "from scipy.optimize import dual_annealing\n",
    "#only magnitude is to be varied\n",
    "def comp_ss_err(x,*args):\n",
    "    A_values,tau_values,powr,navg = args\n",
    "    tau_pred_values = x * (2/A_values)**(powr) * np.exp(A_values*navg*powr/2)\n",
    "    se = (tau_values-tau_pred_values) ** 2\n",
    "    sse = np.sum(se)\n",
    "    #return sse\n",
    "    #smpe = np.sum(np.log(tau_pred_values/tau_values))\n",
    "    smpe = np.mean( se / tau_values**2 )\n",
    "    return smpe\n",
    "\n",
    "\n",
    "xfk = df_taubar[df_taubar['model_name']=='FK']['A'].values\n",
    "yfk = df_taubar[df_taubar['model_name']=='FK']['taubar'].values\n",
    "xlr = df_taubar[df_taubar['model_name']=='LR']['A'].values\n",
    "ylr = df_taubar[df_taubar['model_name']=='LR']['taubar'].values\n",
    "\n",
    "\n",
    "# Mp = dict_fit_birth_fk['M']\n",
    "# nup = dict_fit_birth_fk['m']\n",
    "# Mm = dict_fit_death_fk['M']\n",
    "# num = dict_fit_death_fk['m']\n",
    "model_name='Fenton-Karma'\n",
    "A_values = xfk\n",
    "tau_values = yfk\n",
    "\n",
    "\n",
    "# Mp = dict_fit_birth_lr['M']\n",
    "# nup = dict_fit_birth_lr['m']\n",
    "# Mm = dict_fit_death_lr['M']\n",
    "# num = dict_fit_death_lr['m']\n",
    "# model_name='Luo-Rudy'\n",
    "# A_values = xlr\n",
    "# tau_values = ylr\n",
    "\n",
    "# #simulated annealing fit \n",
    "# powr = num - nup\n",
    "# navg = (Mp/Mm) ** (1/powr)\n",
    "# tau_pred_foo = lambda x: x * (2/A_values)**(powr) * np.exp(A_values*navg*powr/2)\n",
    "\n",
    "\n",
    "#fk\n",
    "# mag=2.033588801144e+00 ± 0.000000000000e+00\n",
    "mag=2.0335888011441683\n",
    "# res_again.x=array([2.0335888])\n",
    "# # magfk=1.566390007127e+00 #± 3.762187006373e-09 #1e3 epochs\n",
    "# # magfk=1.566390008379e+00 #± 5.014229476075e-09 #1e4 epochs\n",
    "magfk = mag\n",
    "\n",
    "maglr=9.319636219057e-01 #± 3.981174279133e-10 #1e3 epochs\n",
    "maglr=9.319636257483e-01 #± 3.444428298138e-09 #1e4 epochs\n",
    "maglr = mag\n",
    "\n",
    "\n",
    "# Mp = dict_fit_birth_fk['M']\n",
    "# nup = dict_fit_birth_fk['m']\n",
    "# Mm = dict_fit_death_fk['M']\n",
    "# num = dict_fit_death_fk['m']\n",
    "model_name='Fenton-Karma'\n",
    "# powr = num - nup\n",
    "# navg = (Mp/Mm) ** (1/powr)\n",
    "# yfk_pred = magfk * (2/xfk)**(powr) * np.exp(xfk*navg*powr/2)\n",
    "# powrfk = float(powr)\n",
    "# navgfk = float(navg)\n",
    "# tau_pred_foofk = lambda x: float(magfk) * (2/x)**float(powrfk) * np.exp(x*float(navgfk*powrfk/2))\n",
    "\n",
    "\n",
    "# Mp = dict_fit_birth_lr['M']\n",
    "# nup = dict_fit_birth_lr['m']\n",
    "# Mm = dict_fit_death_lr['M']\n",
    "# num = dict_fit_death_lr['m']\n",
    "model_name='Luo-Rudy'\n",
    "# powr = num - nup\n",
    "# navg = (Mp/Mm) ** (1/powr)\n",
    "# ylr_pred = maglr * (2/xlr)**(powr) * np.exp(xlr*navg*powr/2)\n",
    "# tau_pred_foolr = lambda x: float(maglr) * (2/x)**float(powr) * np.exp(x*float(navg*powr/2))\n",
    "\n",
    "\n",
    "#plot the simulated annealing fits\n",
    "figsize=(3,4)\n",
    "fontsize=15\n",
    "alpha=0.7\n",
    "fig,ax=plt.subplots(figsize=figsize)\n",
    "ax.scatter(xfk,yfk,c='C0',alpha=alpha,label='Fenton-Karma')\n",
    "ax.scatter(xlr,ylr,c='C1',alpha=alpha,label='Luo-Rudy')\n",
    "# # ax.scatter(xfk,yfk_pred,c='k',alpha=alpha,marker='+')#,label='Fenton-Karma')\n",
    "# # ax.scatter(xlr,ylr_pred,c='k',alpha=alpha,marker='+')#,label='Luo-Rudy')\n",
    "# # ax.scatter([A_fk],[tau_fk],marker='o',edgecolor='k',c='C0',#'k',\n",
    "# #            alpha=1,label='Fenton-Karma')\n",
    "# # ax.scatter([A_lr],[tau_lr],marker='o',edgecolor='k',c='C1',#c='k',\n",
    "# #            alpha=1,label='Luo-Rudy')\n",
    "# # xv=np.linspace(0,40,10)\n",
    "# # ax.plot(xv,taubar0fk*np.exp(xv/A0fk),':',color='gray')#,'k--',lw=2)\n",
    "# # xv=np.linspace(0,80,10)\n",
    "# # ax.plot(xv,taubar0lr*np.exp(xv/A0lr),':',color='gray')#,'k--',lw=2)\n",
    "# xv=np.linspace(10,40,10)\n",
    "# xv=np.linspace(10,180,10)\n",
    "# ax.plot(xv,tau_pred_foofk(xv),':',color='gray')#,'k--',lw=2)\n",
    "# xv=np.linspace(10,180,10)\n",
    "# ax.plot(xv,tau_pred_foolr(xv),':',color='gray')#,'k--',lw=2)\n",
    "\n",
    "ax.set_xticks([0,50,100,150])\n",
    "\n",
    "# format_plot(ax=ax,xlabel=r'$a$ (cm$^2/$s)',ylabel=r'$\\tau$  (s)',fontsize=16)\n",
    "format_plot(ax=ax,xlabel=r'$A$ (cm$^2$)',ylabel=r'$\\langle\\tau\\rangle$  (s)',fontsize=16)\n",
    "# ax.set_xscale('log')\n",
    "ax.set_yscale('log')\n",
    "ax.tick_params(top=True, right=True,direction='in',which='both')\n",
    "ax.tick_params(top=True, right=True,direction='in',which='minor',length=3)\n",
    "# ax.set_ylim([1e-2,100])\n",
    "# # AddLegend(ax=ax,xy=(-0.12,0.240),fontsize=fontsize-3)\n",
    "leg = ax.legend(loc='upper right',fontsize=fontsize-2)#,alpha=1.)#,frameon=False,ncol=1)\n",
    "# leg.set_alpha(1.)\n",
    "# , edgecolor=\"black\")\n",
    "leg.get_frame().set_alpha(None)\n",
    "# leg.get_frame().set_facecolor((1, 1, 1, 1))\n",
    "# leg = ax.legend(loc='lower right',fontsize=fontsize-3.,frameon=False,ncol=1)\n",
    "for lh in leg.legendHandles: \n",
    "    lh.set_alpha(1)\n",
    "# ax.set_ylim([0.31392551380514033, 4e9])\n",
    "ax.set_xlim([0.,100])\n",
    "ax.set_ylim([0.13850549065122997,12000])\n",
    "# AddLege nd(ax=ax,xy=(0.05,0.990),fontsize=fontsize-3)\n",
    "# AddLegend(ax=ax,xy=(0.7,0.990),fontsize=fontsize-3)\n",
    "# AddLegend(ax=ax,xy=(0.4,0.990),fontsize=fontsize-3)\n",
    "# AddLegend(ax=ax,xy=(0.1,0.25),fontsize=fontsize-3)\n",
    "# ax.tick_params(axis='y', which='minor', left=True)\n",
    "# plt.minorticks_on()\n",
    "plt.show()\n",
    "ax.axis()\n",
    "#og src: http://localhost:8888/notebooks/Simulating%20the%20paired%20birth%20death%20process.ipynb\n"
   ]
  },
  {
   "cell_type": "code",
   "execution_count": 16,
   "id": "33a5b0fe",
   "metadata": {
    "ExecuteTime": {
     "end_time": "2025-07-09T00:27:41.432108Z",
     "start_time": "2025-07-09T00:27:41.425340Z"
    }
   },
   "outputs": [
    {
     "name": "stdout",
     "output_type": "stream",
     "text": [
      "tau_fk=25.598 s\n",
      "tau_lr=0.769 s\n"
     ]
    }
   ],
   "source": [
    "A = 25. # cm^2\n",
    "tau_fk = yfk[np.around(xfk-A,5)==0][0]\n",
    "tau_lr = ylr[np.around(xlr-A,5)==0][0]\n",
    "print(f\"{tau_fk=:.3f} s\")\n",
    "print(f\"{tau_lr=:.3f} s\")"
   ]
  },
  {
   "cell_type": "markdown",
   "id": "1a0b3db1",
   "metadata": {},
   "source": [
    "# load run #50 results from cache to and quantify tau for each R_c_bar input value as dataframe"
   ]
  },
  {
   "cell_type": "code",
   "execution_count": 19,
   "id": "c3f5188f",
   "metadata": {
    "ExecuteTime": {
     "end_time": "2025-07-09T00:32:39.229365Z",
     "start_time": "2025-07-09T00:32:39.225631Z"
    }
   },
   "outputs": [],
   "source": [
    "run_num = 50\n",
    "# fldr = f\"{nb_dir}/data/osg_output/run_44\"\n",
    "# fldr = f\"{nb_dir}/data/osg_output/run_45\"\n",
    "# fldr = f\"{nb_dir}/data/osg_output/run_46\"\n",
    "# fldr = f\"{nb_dir}/data/osg_output/run_47\"\n",
    "fldr = f\"{nb_dir}/data/osg_output/run_{run_num}\""
   ]
  },
  {
   "cell_type": "code",
   "execution_count": 20,
   "id": "ecc64006",
   "metadata": {
    "ExecuteTime": {
     "end_time": "2025-07-09T00:32:52.829035Z",
     "start_time": "2025-07-09T00:32:52.825652Z"
    }
   },
   "outputs": [],
   "source": [
    "assert os.path.exists(fldr)"
   ]
  },
  {
   "cell_type": "code",
   "execution_count": 21,
   "id": "56000eab",
   "metadata": {
    "ExecuteTime": {
     "end_time": "2025-07-09T00:36:31.713201Z",
     "start_time": "2025-07-09T00:33:05.295396Z"
    }
   },
   "outputs": [],
   "source": [
    "dict_data_lst = []\n",
    "for fn in os.listdir(fldr):\n",
    "    if fn.find('.out.')!=-1:\n",
    "        input_fn = os.path.join(fldr,fn)\n",
    "        dict_data = parse_log_single(input_fn,printing=False)\n",
    "        if dict_data is not None:\n",
    "            #record\n",
    "            dict_data_lst.append(dict_data)\n",
    "df=pd.DataFrame(dict_data_lst); del dict_data_lst"
   ]
  },
  {
   "cell_type": "code",
   "execution_count": 24,
   "id": "db0b48aa",
   "metadata": {
    "ExecuteTime": {
     "end_time": "2025-07-09T00:39:16.255864Z",
     "start_time": "2025-07-09T00:39:14.681359Z"
    }
   },
   "outputs": [
    {
     "name": "stdout",
     "output_type": "stream",
     "text": [
      "LPM with Same Creation Vs. R_c (Run #50):\n",
      "- R_c_bar=0.00, D=0.115, L=5.0: mean tau: 9.8378 +/- 2.6112 seconds (N=1000, p_normal=0.0000)\n",
      "- R_c_bar=0.01, D=0.115, L=5.0: mean tau: 10.2372 +/- 3.0871 seconds (N=1000, p_normal=0.0000)\n",
      "- R_c_bar=0.02, D=0.115, L=5.0: mean tau: 9.1062 +/- 1.2039 seconds (N=1000, p_normal=0.0000)\n",
      "- R_c_bar=0.03, D=0.115, L=5.0: mean tau: 9.7793 +/- 2.2165 seconds (N=1000, p_normal=0.0000)\n",
      "- R_c_bar=0.04, D=0.115, L=5.0: mean tau: 9.6289 +/- 1.5370 seconds (N=1000, p_normal=0.0000)\n",
      "- R_c_bar=0.05, D=0.115, L=5.0: mean tau: 9.1968 +/- 0.6005 seconds (N=1000, p_normal=0.4724)\n",
      "- R_c_bar=0.06, D=0.115, L=5.0: mean tau: 9.1525 +/- 0.6129 seconds (N=1000, p_normal=0.4814)\n",
      "- R_c_bar=0.07, D=0.115, L=5.0: mean tau: 8.8553 +/- 0.5555 seconds (N=1000, p_normal=0.9854)\n",
      "- R_c_bar=0.08, D=0.115, L=5.0: mean tau: 14.8189 +/- 11.8602 seconds (N=1000, p_normal=0.0000)\n",
      "- R_c_bar=0.09, D=0.115, L=5.0: mean tau: 9.1680 +/- 0.5898 seconds (N=1000, p_normal=0.2755)\n",
      "- R_c_bar=0.10, D=0.115, L=5.0: mean tau: 11.3897 +/- 4.8364 seconds (N=1000, p_normal=0.0000)\n",
      "- R_c_bar=0.11, D=0.115, L=5.0: mean tau: 8.7843 +/- 0.5802 seconds (N=1000, p_normal=0.1086)\n",
      "- R_c_bar=0.12, D=0.115, L=5.0: mean tau: 8.9476 +/- 0.5853 seconds (N=1000, p_normal=0.9068)\n",
      "- R_c_bar=0.13, D=0.115, L=5.0: mean tau: 13.1972 +/- 8.8768 seconds (N=1000, p_normal=0.0000)\n",
      "- R_c_bar=0.14, D=0.115, L=5.0: mean tau: 11.8653 +/- 4.4261 seconds (N=1000, p_normal=0.0000)\n",
      "- R_c_bar=0.15, D=0.115, L=5.0: mean tau: 18.7494 +/- 10.8989 seconds (N=1000, p_normal=0.0000)\n",
      "- R_c_bar=0.16, D=0.115, L=5.0: mean tau: 15.1697 +/- 12.5321 seconds (N=1000, p_normal=0.0000)\n",
      "- R_c_bar=0.17, D=0.115, L=5.0: mean tau: 9.0325 +/- 0.5801 seconds (N=1000, p_normal=0.1389)\n",
      "- R_c_bar=0.18, D=0.115, L=5.0: mean tau: 9.2119 +/- 0.5594 seconds (N=1000, p_normal=0.2997)\n",
      "- R_c_bar=0.19, D=0.115, L=5.0: mean tau: 13.4401 +/- 9.1336 seconds (N=1000, p_normal=0.0000)\n",
      "- R_c_bar=0.20, D=0.115, L=5.0: mean tau: 9.2107 +/- 0.6023 seconds (N=1000, p_normal=0.1187)\n",
      "- R_c_bar=0.21, D=0.115, L=5.0: mean tau: 8.7025 +/- 0.5679 seconds (N=1000, p_normal=0.6467)\n",
      "- R_c_bar=0.22, D=0.115, L=5.0: mean tau: 15.0373 +/- 8.3362 seconds (N=1000, p_normal=0.0000)\n",
      "- R_c_bar=0.23, D=0.115, L=5.0: mean tau: 16.6660 +/- 12.0767 seconds (N=1000, p_normal=0.0000)\n",
      "- R_c_bar=0.24, D=0.115, L=5.0: mean tau: 17.1128 +/- 12.8970 seconds (N=1000, p_normal=0.0000)\n",
      "- R_c_bar=0.25, D=0.115, L=5.0: mean tau: 9.4398 +/- 0.6514 seconds (N=1000, p_normal=0.1807)\n",
      "- R_c_bar=0.26, D=0.115, L=5.0: mean tau: 15.8494 +/- 11.3000 seconds (N=1000, p_normal=0.0000)\n",
      "- R_c_bar=0.27, D=0.115, L=5.0: mean tau: 15.6647 +/- 11.7445 seconds (N=1000, p_normal=0.0000)\n",
      "- R_c_bar=0.28, D=0.115, L=5.0: mean tau: 15.9642 +/- 11.4789 seconds (N=1000, p_normal=0.0000)\n",
      "- R_c_bar=0.29, D=0.115, L=5.0: mean tau: 10.9002 +/- 1.6371 seconds (N=1000, p_normal=0.0000)\n",
      "- R_c_bar=0.30, D=0.115, L=5.0: mean tau: 24.7922 +/- 16.2558 seconds (N=1000, p_normal=0.0000)\n",
      "- R_c_bar=0.31, D=0.115, L=5.0: mean tau: 17.3707 +/- 12.2144 seconds (N=1000, p_normal=0.0000)\n",
      "- R_c_bar=0.32, D=0.115, L=5.0: mean tau: 10.3317 +/- 0.6134 seconds (N=1000, p_normal=0.5926)\n",
      "- R_c_bar=0.33, D=0.115, L=5.0: mean tau: 17.1040 +/- 12.0362 seconds (N=1000, p_normal=0.0000)\n",
      "- R_c_bar=0.34, D=0.115, L=5.0: mean tau: 18.5478 +/- 10.7331 seconds (N=1000, p_normal=0.0000)\n",
      "- R_c_bar=0.35, D=0.115, L=5.0: mean tau: 22.8979 +/- 15.9986 seconds (N=1000, p_normal=0.0000)\n",
      "- R_c_bar=0.36, D=0.115, L=5.0: mean tau: 10.8004 +/- 0.7799 seconds (N=1000, p_normal=0.3317)\n",
      "- R_c_bar=0.37, D=0.115, L=5.0: mean tau: 14.5101 +/- 7.0459 seconds (N=1000, p_normal=0.0000)\n",
      "- R_c_bar=0.38, D=0.115, L=5.0: mean tau: 11.2923 +/- 0.7287 seconds (N=1000, p_normal=0.8390)\n",
      "- R_c_bar=0.39, D=0.115, L=5.0: mean tau: 22.4471 +/- 15.9294 seconds (N=1000, p_normal=0.0000)\n",
      "- R_c_bar=0.40, D=0.115, L=5.0: mean tau: 11.3160 +/- 0.6553 seconds (N=1000, p_normal=0.1899)\n",
      "- R_c_bar=0.41, D=0.115, L=5.0: mean tau: 12.1110 +/- 0.8436 seconds (N=1000, p_normal=0.1352)\n",
      "- R_c_bar=0.42, D=0.115, L=5.0: mean tau: 20.9122 +/- 12.6917 seconds (N=1000, p_normal=0.0000)\n",
      "- R_c_bar=0.43, D=0.115, L=5.0: mean tau: 24.2231 +/- 16.7322 seconds (N=1000, p_normal=0.0000)\n",
      "- R_c_bar=0.44, D=0.115, L=5.0: mean tau: 18.9027 +/- 9.6968 seconds (N=1000, p_normal=0.0000)\n",
      "- R_c_bar=0.45, D=0.115, L=5.0: mean tau: 20.2386 +/- 12.3995 seconds (N=1000, p_normal=0.0000)\n",
      "- R_c_bar=0.46, D=0.115, L=5.0: mean tau: 27.3908 +/- 18.4241 seconds (N=1000, p_normal=0.0000)\n",
      "- R_c_bar=0.47, D=0.115, L=5.0: mean tau: 18.8571 +/- 11.2703 seconds (N=1000, p_normal=0.0000)\n",
      "- R_c_bar=0.48, D=0.115, L=5.0: mean tau: 22.0677 +/- 13.4696 seconds (N=1000, p_normal=0.0000)\n",
      "- R_c_bar=0.49, D=0.115, L=5.0: mean tau: 23.9299 +/- 14.3607 seconds (N=1000, p_normal=0.0000)\n",
      "- R_c_bar=0.50, D=0.115, L=5.0: mean tau: 12.8209 +/- 0.8407 seconds (N=1000, p_normal=0.9356)\n",
      "- R_c_bar=0.51, D=0.115, L=5.0: mean tau: 18.0060 +/- 12.3966 seconds (N=1000, p_normal=0.0000)\n",
      "- R_c_bar=0.52, D=0.115, L=5.0: mean tau: 23.8954 +/- 14.6570 seconds (N=1000, p_normal=0.0000)\n",
      "- R_c_bar=0.53, D=0.115, L=5.0: mean tau: 19.5162 +/- 12.0906 seconds (N=1000, p_normal=0.0000)\n",
      "- R_c_bar=0.54, D=0.115, L=5.0: mean tau: 15.6438 +/- 3.5372 seconds (N=1000, p_normal=0.0000)\n",
      "- R_c_bar=0.55, D=0.115, L=5.0: mean tau: 13.0111 +/- 0.8318 seconds (N=1000, p_normal=0.1666)\n",
      "- R_c_bar=0.56, D=0.115, L=5.0: mean tau: 14.5137 +/- 0.9220 seconds (N=1000, p_normal=0.8588)\n",
      "- R_c_bar=0.57, D=0.115, L=5.0: mean tau: 29.9954 +/- 16.4992 seconds (N=1000, p_normal=0.0000)\n",
      "- R_c_bar=0.58, D=0.115, L=5.0: mean tau: 26.7490 +/- 16.8695 seconds (N=1000, p_normal=0.0000)\n",
      "- R_c_bar=0.59, D=0.115, L=5.0: mean tau: 25.5194 +/- 13.5098 seconds (N=1000, p_normal=0.0000)\n",
      "- R_c_bar=0.60, D=0.115, L=5.0: mean tau: 15.1688 +/- 2.0734 seconds (N=1000, p_normal=0.0000)\n",
      "- R_c_bar=0.61, D=0.115, L=5.0: mean tau: 24.6637 +/- 13.5351 seconds (N=1000, p_normal=0.0000)\n",
      "- R_c_bar=0.62, D=0.115, L=5.0: mean tau: 21.5655 +/- 11.9003 seconds (N=1000, p_normal=0.0000)\n",
      "- R_c_bar=0.63, D=0.115, L=5.0: mean tau: 21.8242 +/- 12.0591 seconds (N=1000, p_normal=0.0000)\n",
      "- R_c_bar=0.64, D=0.115, L=5.0: mean tau: 19.2039 +/- 5.5812 seconds (N=1000, p_normal=0.0000)\n",
      "- R_c_bar=0.65, D=0.115, L=5.0: mean tau: 33.0305 +/- 17.4256 seconds (N=1000, p_normal=0.0000)\n",
      "- R_c_bar=0.66, D=0.115, L=5.0: mean tau: 23.1973 +/- 11.3934 seconds (N=1000, p_normal=0.0000)\n",
      "- R_c_bar=0.67, D=0.115, L=5.0: mean tau: 23.5950 +/- 11.1683 seconds (N=1000, p_normal=0.0000)\n",
      "- R_c_bar=0.68, D=0.115, L=5.0: mean tau: 18.2315 +/- 1.8457 seconds (N=1000, p_normal=0.0000)\n",
      "- R_c_bar=0.69, D=0.115, L=5.0: mean tau: 33.1203 +/- 18.0377 seconds (N=1000, p_normal=0.0000)\n",
      "- R_c_bar=0.70, D=0.115, L=5.0: mean tau: 35.6453 +/- 20.5123 seconds (N=1000, p_normal=0.0000)\n",
      "- R_c_bar=0.71, D=0.115, L=5.0: mean tau: 19.5683 +/- 2.8214 seconds (N=1000, p_normal=0.0000)\n",
      "- R_c_bar=0.72, D=0.115, L=5.0: mean tau: 19.0916 +/- 1.2387 seconds (N=1000, p_normal=0.0470)\n",
      "- R_c_bar=0.73, D=0.115, L=5.0: mean tau: 25.1652 +/- 8.4296 seconds (N=1000, p_normal=0.0000)\n",
      "- R_c_bar=0.74, D=0.115, L=5.0: mean tau: 37.1015 +/- 19.0414 seconds (N=1000, p_normal=0.0000)\n",
      "- R_c_bar=0.75, D=0.115, L=5.0: mean tau: 27.7745 +/- 12.6640 seconds (N=1000, p_normal=0.0000)\n",
      "- R_c_bar=0.76, D=0.115, L=5.0: mean tau: 27.5460 +/- 12.6349 seconds (N=1000, p_normal=0.0000)\n",
      "- R_c_bar=0.77, D=0.115, L=5.0: mean tau: 27.5675 +/- 11.7739 seconds (N=1000, p_normal=0.0000)\n",
      "- R_c_bar=0.78, D=0.115, L=5.0: mean tau: 24.3019 +/- 5.4321 seconds (N=1000, p_normal=0.0000)\n",
      "- R_c_bar=0.79, D=0.115, L=5.0: mean tau: 37.3723 +/- 16.9611 seconds (N=1000, p_normal=0.0000)\n",
      "- R_c_bar=0.80, D=0.115, L=5.0: mean tau: 43.2629 +/- 21.6286 seconds (N=1000, p_normal=0.0000)\n",
      "- R_c_bar=0.81, D=0.115, L=5.0: mean tau: 30.3495 +/- 12.2377 seconds (N=1000, p_normal=0.0000)\n",
      "- R_c_bar=0.82, D=0.115, L=5.0: mean tau: 42.6533 +/- 20.6276 seconds (N=1000, p_normal=0.0000)\n",
      "- R_c_bar=0.83, D=0.115, L=5.0: mean tau: 29.6207 +/- 11.7255 seconds (N=1000, p_normal=0.0000)\n",
      "- R_c_bar=0.84, D=0.115, L=5.0: mean tau: 44.4817 +/- 20.7453 seconds (N=1000, p_normal=0.0000)\n",
      "- R_c_bar=0.85, D=0.115, L=5.0: mean tau: 66.1776 +/- 29.9564 seconds (N=1000, p_normal=0.0003)\n"
     ]
    }
   ],
   "source": [
    "np.random.seed(42)\n",
    "printing=True\n",
    "if printing:\n",
    "    print(f\"LPM with Same Creation Vs. R_c (Run #50):\")\n",
    "dict_lst = []\n",
    "for (R_c_bar,D,L),g in df.groupby(by=['R_c_bar','D','L']):\n",
    "    tau_values = g['TermTime'].values\n",
    "    meanx,Delta_meanx,num_obs,p_normal=comp_mean_bootstrap_uncertainty(tau_values)\n",
    "    printing=True\n",
    "    a=g['varkappa'].max()\n",
    "    chi=g['chi'].max()\n",
    "    if printing:\n",
    "        print(f\"- {R_c_bar=:.2f}, {D=}, {L=}: mean tau: {meanx:.4f} +/- {Delta_meanx:.4f} seconds (N={num_obs}, {p_normal=:.4f})\")\n",
    "    dict_lst.append(dict(R_c_bar=R_c_bar,D=D,L=L,a=a,chi=chi,\n",
    "                         tau=meanx,Delta_tau=Delta_meanx,\n",
    "                         num_obs=num_obs,p_normal=p_normal,\n",
    "                        ))"
   ]
  },
  {
   "cell_type": "code",
   "execution_count": 26,
   "id": "8294592a",
   "metadata": {
    "ExecuteTime": {
     "end_time": "2025-07-09T00:43:53.515084Z",
     "start_time": "2025-07-09T00:43:52.760732Z"
    }
   },
   "outputs": [
    {
     "name": "stdout",
     "output_type": "stream",
     "text": [
      "/Users/timothytyree/Documents/GitHub/bgmc/python/data/osg_output/run_50_tau_vs_R_c.csv\n",
      "-n \u0007\n",
      "-n \u0007\n",
      "-n \u0007\n"
     ]
    },
    {
     "data": {
      "text/plain": [
       "0"
      ]
     },
     "execution_count": 26,
     "metadata": {},
     "output_type": "execute_result"
    }
   ],
   "source": [
    "df_taubar = pd.DataFrame(dict_lst)\n",
    "savedir = f\"{nb_dir}/data/osg_output/run_{run_num}_tau_vs_R_c.csv\"\n",
    "df_taubar.to_csv(savedir,index=False)\n",
    "print(savedir)\n",
    "beep(3)"
   ]
  },
  {
   "cell_type": "markdown",
   "id": "cba0dfed",
   "metadata": {},
   "source": [
    "# compute the squared error of tau versus R_c_bar and coarsely optimize R_c_bar for the Fenton-Karma model\n",
    "Q: are any insignificantly different from target?"
   ]
  },
  {
   "cell_type": "code",
   "execution_count": 34,
   "id": "73d44d5c",
   "metadata": {
    "ExecuteTime": {
     "end_time": "2025-07-09T00:49:24.955596Z",
     "start_time": "2025-07-09T00:49:24.947085Z"
    }
   },
   "outputs": [
    {
     "data": {
      "text/plain": [
       "R_c_bar      5.900000e-01\n",
       "D            1.150000e-01\n",
       "L            5.000000e+00\n",
       "a            1.552000e+00\n",
       "chi          2.939433e+00\n",
       "tau          2.551941e+01\n",
       "Delta_tau    1.350978e+01\n",
       "num_obs      1.000000e+03\n",
       "p_normal     4.486029e-20\n",
       "Name: 59, dtype: float64"
      ]
     },
     "execution_count": 34,
     "metadata": {},
     "output_type": "execute_result"
    }
   ],
   "source": [
    "ibest = ((df_taubar['tau']-tau_fk) ** 2).argmin()\n",
    "df_taubar.loc[ibest]"
   ]
  },
  {
   "cell_type": "code",
   "execution_count": 79,
   "id": "d01fa469",
   "metadata": {
    "ExecuteTime": {
     "end_time": "2025-07-09T01:18:07.028023Z",
     "start_time": "2025-07-09T01:18:07.022563Z"
    }
   },
   "outputs": [
    {
     "name": "stdout",
     "output_type": "stream",
     "text": [
      "R_c_bar_fk=0.59\n"
     ]
    }
   ],
   "source": [
    "R_c_bar_fk = df_taubar.loc[ibest,'R_c_bar']\n",
    "print(f\"{R_c_bar_fk=}\")"
   ]
  },
  {
   "cell_type": "markdown",
   "id": "a4380c4b",
   "metadata": {},
   "source": [
    "# TODO: visualize the distribution of termination times at that setting"
   ]
  },
  {
   "cell_type": "code",
   "execution_count": 80,
   "id": "992249f2",
   "metadata": {
    "ExecuteTime": {
     "end_time": "2025-07-09T01:18:08.431324Z",
     "start_time": "2025-07-09T01:18:08.375740Z"
    }
   },
   "outputs": [
    {
     "data": {
      "text/plain": [
       "exit_code\n",
       "-99      1.0\n",
       "-1      39.0\n",
       " 1     960.0\n",
       "Name: count, dtype: float64"
      ]
     },
     "execution_count": 80,
     "metadata": {},
     "output_type": "execute_result"
    }
   ],
   "source": [
    "df[df['R_c_bar'] == R_c_bar_fk]['exit_code'].drop_duplicates()\n",
    "df[df['R_c_bar'] == R_c_bar_fk].groupby('exit_code').describe()['seed']['count']"
   ]
  },
  {
   "cell_type": "code",
   "execution_count": 81,
   "id": "6ec94940",
   "metadata": {
    "ExecuteTime": {
     "end_time": "2025-07-09T01:18:08.841944Z",
     "start_time": "2025-07-09T01:18:08.832970Z"
    }
   },
   "outputs": [
    {
     "data": {
      "text/plain": [
       "80142    6000.000009\n",
       "Name: TermTime, dtype: float64"
      ]
     },
     "execution_count": 81,
     "metadata": {},
     "output_type": "execute_result"
    }
   ],
   "source": [
    "exit_code=-99\n",
    "df[(df['R_c_bar'] == R_c_bar_fk)&(df['exit_code'] == exit_code)]['TermTime']"
   ]
  },
  {
   "cell_type": "code",
   "execution_count": 82,
   "id": "d098bda3",
   "metadata": {
    "ExecuteTime": {
     "end_time": "2025-07-09T01:18:09.265348Z",
     "start_time": "2025-07-09T01:18:09.254400Z"
    }
   },
   "outputs": [
    {
     "data": {
      "text/plain": [
       "1709     0.96905\n",
       "2474     0.26539\n",
       "9056     0.36580\n",
       "9609     0.15413\n",
       "10775    0.08641\n",
       "10869    0.29121\n",
       "11504    0.23541\n",
       "12441    0.64626\n",
       "13772    0.07701\n",
       "14776    0.18962\n",
       "15452    0.05522\n",
       "17505    0.08936\n",
       "19397    0.05170\n",
       "23543    0.23750\n",
       "24932    0.27383\n",
       "26435    0.40349\n",
       "30372    0.24654\n",
       "30393    0.26100\n",
       "31747    0.07861\n",
       "34977    0.24933\n",
       "36993    0.98778\n",
       "39461    0.03420\n",
       "41255    0.06624\n",
       "44600    0.10051\n",
       "46295    0.12041\n",
       "47043    1.56174\n",
       "49145    0.25230\n",
       "53353    0.66895\n",
       "54356    0.20848\n",
       "60969    0.26108\n",
       "65378    0.12991\n",
       "65971    0.77311\n",
       "66009    1.26868\n",
       "70255    0.06629\n",
       "78676    0.12535\n",
       "80345    0.68470\n",
       "81402    0.15001\n",
       "82513    0.04141\n",
       "83181    1.06838\n",
       "Name: TermTime, dtype: float64"
      ]
     },
     "execution_count": 82,
     "metadata": {},
     "output_type": "execute_result"
    }
   ],
   "source": [
    "exit_code=-1\n",
    "df[(df['R_c_bar'] == R_c_bar_fk)&(df['exit_code'] == exit_code)]['TermTime']"
   ]
  },
  {
   "cell_type": "code",
   "execution_count": 83,
   "id": "a3bcafd5",
   "metadata": {
    "ExecuteTime": {
     "end_time": "2025-07-09T01:18:09.648105Z",
     "start_time": "2025-07-09T01:18:09.638332Z"
    }
   },
   "outputs": [
    {
     "data": {
      "text/plain": [
       "2972.1170042245"
      ]
     },
     "execution_count": 83,
     "metadata": {},
     "output_type": "execute_result"
    }
   ],
   "source": [
    "exit_code=1\n",
    "df[(df['R_c_bar'] == R_c_bar_fk)&(df['exit_code'] == exit_code)]['TermTime'].max()"
   ]
  },
  {
   "cell_type": "code",
   "execution_count": 84,
   "id": "00a94079",
   "metadata": {
    "ExecuteTime": {
     "end_time": "2025-07-09T01:18:10.000747Z",
     "start_time": "2025-07-09T01:18:09.998516Z"
    }
   },
   "outputs": [],
   "source": [
    "#DONE: found at least one decent parameter setting.\n",
    "#DONT(do only if none work): try run #50 again with run_faster.py (and the logger version) edited to explicitely not allow three removals in a single time step."
   ]
  },
  {
   "cell_type": "code",
   "execution_count": 85,
   "id": "6e94b27a",
   "metadata": {
    "ExecuteTime": {
     "end_time": "2025-07-09T01:18:10.350131Z",
     "start_time": "2025-07-09T01:18:10.306567Z"
    }
   },
   "outputs": [
    {
     "data": {
      "text/plain": [
       "(1000, 25.519410379360618, 12.70977468186484)"
      ]
     },
     "execution_count": 85,
     "metadata": {},
     "output_type": "execute_result"
    }
   ],
   "source": [
    "t_term_values_fk = df[df['R_c_bar'] == R_c_bar_fk]['TermTime'].values\n",
    "mtt_lpm_fk,Delta_mtt_lpm_fk,num_obs,p_normal=comp_mean_bootstrap_uncertainty(t_term_values_fk)\n",
    "num_obs,mtt_lpm_fk,Delta_mtt_lpm_fk"
   ]
  },
  {
   "cell_type": "code",
   "execution_count": 86,
   "id": "d5be587d",
   "metadata": {
    "ExecuteTime": {
     "end_time": "2025-07-09T01:18:10.661936Z",
     "start_time": "2025-07-09T01:18:10.651091Z"
    }
   },
   "outputs": [],
   "source": [
    "# from scipy.stats import gamma\n",
    "\n",
    "#compute xy values of histogram\n",
    "# bins_fk=np.arange(0,50,1.6)\n",
    "# bins_fk=np.arange(0,20,0.4)\n",
    "bins_fk=np.arange(0,40,0.4)\n",
    "bins_fk=np.arange(0,4000,4)\n",
    "# bins_fk=np.arange(0,40,1)\n",
    "#compute the histograms\n",
    "barheights_fk,bins_fk = np.histogram(\n",
    "    t_term_values_fk,\n",
    "    bins=bins_fk,#10,\n",
    "    range=None,\n",
    "#     normed=None,\n",
    "    weights=None,\n",
    "    density=False,\n",
    ")\n",
    "t_term_fk=0.5*(bins_fk[1:]+bins_fk[:-1])\n",
    "num_samples = t_term_values_fk.shape[0]\n",
    "prob_fk = barheights_fk/(bins_fk[1:]-bins_fk[:-1])/num_samples\n",
    "\n",
    "# # bins_lr=np.arange(0,16,0.4)\n",
    "# bins_lr=np.arange(0,40,0.4)\n",
    "# # bins_lr=np.arange(0,40,1)\n",
    "# barheights_lr,bins_lr = np.histogram(\n",
    "#     t_term_values_lr,\n",
    "#     bins=bins_lr,#bins[bins<0.45],#10,\n",
    "#     range=None,\n",
    "# #     normed=None,\n",
    "#     weights=None,\n",
    "#     density=False,\n",
    "# )\n",
    "# t_term_lr=0.5*(bins_lr[1:]+bins_lr[:-1])\n",
    "# num_samples = t_term_values_lr.shape[0]\n",
    "# prob_lr = barheights_lr/(bins_lr[1:]-bins_lr[:-1])/num_samples\n",
    "# # prob_fk = barheights_fk/num_samples\n",
    "# # prob_lr = barheights_lr/num_samples\n",
    "\n",
    "# #fit analytic functions to these distributions\n",
    "# shpe_fk,loc_fk,scale_fk = gamma.fit(t_term_values_fk,method='MLE')\n",
    "# shpe_lr,loc_lr,scale_lr = gamma.fit(t_term_values_lr,method='MLE')\n",
    "#  # erlang.fit(t_term_values_fk),\n",
    "\n",
    "\n",
    "# print(f\"MLE fits of MTT: shape, loc, scale\")\n",
    "# print(f\"Fenton-Karma: {shpe_fk:.4f},{loc_fk:.4f},{scale_fk:.4f}\")\n",
    "# print(f\"Luo-Rudy: {shpe_lr:.4f},{loc_lr:.4f},{scale_lr:.4f}\")"
   ]
  },
  {
   "cell_type": "code",
   "execution_count": 87,
   "id": "10a255a1",
   "metadata": {
    "ExecuteTime": {
     "end_time": "2025-07-09T01:18:11.236893Z",
     "start_time": "2025-07-09T01:18:11.024641Z"
    }
   },
   "outputs": [
    {
     "data": {
      "image/png": "[encoded data removed]",
      "text/plain": [
       "<Figure size 400x400 with 1 Axes>"
      ]
     },
     "metadata": {},
     "output_type": "display_data"
    }
   ],
   "source": [
    "fig,ax=plt.subplots(figsize=(4,4))\n",
    "fontsize=16\n",
    "alpha=0.9\n",
    "# xlim=[0,100]\n",
    "# xlim=[0,20]\n",
    "xlim=[0,40]\n",
    "xlim=[0,250]\n",
    "# #plot histograms\n",
    "# bins = np.arange(0.,220.,1.6)\n",
    "# ax.hist(t_term_values_fk,color='C0',alpha=alpha,density=True,bins=bins,stacked=True)#,label='Fenton-Karma')\n",
    "# bins = np.arange(0.,220.,0.4)\n",
    "# ax.hist(t_term_values_lr,color='C1',alpha=alpha,density=True,bins=bins,stacked=True)#,label='Luo-Rudy')\n",
    "\n",
    "\n",
    "# # #plot line plot traces\n",
    "# x = np.linspace(gamma.ppf(0.01, shpe_fk,loc=loc_fk,scale=scale_fk),\n",
    "#                 gamma.ppf(0.99, shpe_fk,loc=loc_fk,scale=scale_fk), 100)\n",
    "# # x = np.arange(0.1,40,0.4)\n",
    "# ax.plot(x, gamma.pdf(x, shpe_fk,loc=loc_fk,scale=scale_fk),\n",
    "#        'k-', lw=2, alpha=alpha, label='_MLE Fit')\n",
    "# ax.plot(x, gamma.pdf(x, shpe_lr,loc=loc_lr,scale=scale_lr),\n",
    "#        'k-', lw=2, alpha=alpha, label='MLE')\n",
    "\n",
    "#plot line plot traces\n",
    "ax.scatter(t_term_fk,prob_fk,color='C0',alpha=alpha,label='FK: LPM',s=10)\n",
    "# ax.scatter(t_term_lr,prob_lr,color='C1',alpha=alpha,label='Luo-Rudy',s=10)\n",
    "\n",
    "#plot MLE fit to the exponential distribution from the cardiac model\n",
    "xv = t_term_fk.copy()\n",
    "yv = np.exp(-xv/tau_fk)/tau_fk\n",
    "ax.plot(xv, yv,\n",
    "       'k-', lw=2, alpha=alpha, label='FK: Cardiac')\n",
    "\n",
    "\n",
    "#format_plot\n",
    "format_plot(ax=ax,xlabel='Termination Time (s)',ylabel='Probability Density',fontsize=fontsize)#,use_loglog=True)\n",
    "# ax.set_xscale('log')\n",
    "ax.set_yscale('log')\n",
    "ax.set_xlim(xlim)\n",
    "# ax.set_ylim((11*1.0178650359332904e-05, 80))\n",
    "# ax.set_ylim((11*1.0178650359332904e-05, 8))\n",
    "ax.set_ylim((2e-5, 2))\n",
    "ax.tick_params(top=True, right=True,direction='in',which='both')\n",
    "ax.legend(fontsize=fontsize-2,frameon=False)\n",
    "ax.set_title(f'Rc={R_c_bar_fk}, <tau>={mtt_lpm_fk:.3f} (LPM)\\n<tau>={tau_fk:.3f} (Cardiac)', fontsize=fontsize)\n",
    "plt.show()"
   ]
  },
  {
   "cell_type": "markdown",
   "id": "5fd20369",
   "metadata": {},
   "source": [
    "# compare to the old fit"
   ]
  },
  {
   "cell_type": "code",
   "execution_count": 88,
   "id": "e556921d",
   "metadata": {
    "ExecuteTime": {
     "end_time": "2025-07-09T01:18:12.365651Z",
     "start_time": "2025-07-09T01:18:12.129948Z"
    }
   },
   "outputs": [
    {
     "data": {
      "image/png": "[encoded data removed]",
      "text/plain": [
       "<Figure size 400x400 with 1 Axes>"
      ]
     },
     "metadata": {},
     "output_type": "display_data"
    }
   ],
   "source": [
    "R_c_bar_fk = 0.85\n",
    "t_term_values_fk = df[df['R_c_bar'] == R_c_bar_fk]['TermTime'].values\n",
    "mtt_lpm_fk,Delta_mtt_lpm_fk,num_obs,p_normal=comp_mean_bootstrap_uncertainty(t_term_values_fk)\n",
    "num_obs,mtt_lpm_fk,Delta_mtt_lpm_fk\n",
    "\n",
    "# from scipy.stats import gamma\n",
    "\n",
    "#compute xy values of histogram\n",
    "# bins_fk=np.arange(0,50,1.6)\n",
    "# bins_fk=np.arange(0,20,0.4)\n",
    "bins_fk=np.arange(0,40,0.4)\n",
    "bins_fk=np.arange(0,4000,4)\n",
    "# bins_fk=np.arange(0,40,1)\n",
    "#compute the histograms\n",
    "barheights_fk,bins_fk = np.histogram(\n",
    "    t_term_values_fk,\n",
    "    bins=bins_fk,#10,\n",
    "    range=None,\n",
    "#     normed=None,\n",
    "    weights=None,\n",
    "    density=False,\n",
    ")\n",
    "t_term_fk=0.5*(bins_fk[1:]+bins_fk[:-1])\n",
    "num_samples = t_term_values_fk.shape[0]\n",
    "prob_fk = barheights_fk/(bins_fk[1:]-bins_fk[:-1])/num_samples\n",
    "\n",
    "# # bins_lr=np.arange(0,16,0.4)\n",
    "# bins_lr=np.arange(0,40,0.4)\n",
    "# # bins_lr=np.arange(0,40,1)\n",
    "# barheights_lr,bins_lr = np.histogram(\n",
    "#     t_term_values_lr,\n",
    "#     bins=bins_lr,#bins[bins<0.45],#10,\n",
    "#     range=None,\n",
    "# #     normed=None,\n",
    "#     weights=None,\n",
    "#     density=False,\n",
    "# )\n",
    "# t_term_lr=0.5*(bins_lr[1:]+bins_lr[:-1])\n",
    "# num_samples = t_term_values_lr.shape[0]\n",
    "# prob_lr = barheights_lr/(bins_lr[1:]-bins_lr[:-1])/num_samples\n",
    "# # prob_fk = barheights_fk/num_samples\n",
    "# # prob_lr = barheights_lr/num_samples\n",
    "\n",
    "# #fit analytic functions to these distributions\n",
    "# shpe_fk,loc_fk,scale_fk = gamma.fit(t_term_values_fk,method='MLE')\n",
    "# shpe_lr,loc_lr,scale_lr = gamma.fit(t_term_values_lr,method='MLE')\n",
    "#  # erlang.fit(t_term_values_fk),\n",
    "\n",
    "\n",
    "# print(f\"MLE fits of MTT: shape, loc, scale\")\n",
    "# print(f\"Fenton-Karma: {shpe_fk:.4f},{loc_fk:.4f},{scale_fk:.4f}\")\n",
    "# print(f\"Luo-Rudy: {shpe_lr:.4f},{loc_lr:.4f},{scale_lr:.4f}\")\n",
    "\n",
    "fig,ax=plt.subplots(figsize=(4,4))\n",
    "fontsize=16\n",
    "alpha=0.9\n",
    "# xlim=[0,100]\n",
    "# xlim=[0,20]\n",
    "xlim=[0,40]\n",
    "xlim=[0,250]\n",
    "# #plot histograms\n",
    "# bins = np.arange(0.,220.,1.6)\n",
    "# ax.hist(t_term_values_fk,color='C0',alpha=alpha,density=True,bins=bins,stacked=True)#,label='Fenton-Karma')\n",
    "# bins = np.arange(0.,220.,0.4)\n",
    "# ax.hist(t_term_values_lr,color='C1',alpha=alpha,density=True,bins=bins,stacked=True)#,label='Luo-Rudy')\n",
    "\n",
    "\n",
    "# # #plot line plot traces\n",
    "# x = np.linspace(gamma.ppf(0.01, shpe_fk,loc=loc_fk,scale=scale_fk),\n",
    "#                 gamma.ppf(0.99, shpe_fk,loc=loc_fk,scale=scale_fk), 100)\n",
    "# # x = np.arange(0.1,40,0.4)\n",
    "# ax.plot(x, gamma.pdf(x, shpe_fk,loc=loc_fk,scale=scale_fk),\n",
    "#        'k-', lw=2, alpha=alpha, label='_MLE Fit')\n",
    "# ax.plot(x, gamma.pdf(x, shpe_lr,loc=loc_lr,scale=scale_lr),\n",
    "#        'k-', lw=2, alpha=alpha, label='MLE')\n",
    "\n",
    "#plot line plot traces\n",
    "ax.scatter(t_term_fk,prob_fk,color='C0',alpha=alpha,label='FK: LPM',s=10)\n",
    "# ax.scatter(t_term_lr,prob_lr,color='C1',alpha=alpha,label='Luo-Rudy',s=10)\n",
    "\n",
    "#plot MLE fit to the exponential distribution from the cardiac model\n",
    "xv = t_term_fk.copy()\n",
    "yv = np.exp(-xv/tau_fk)/tau_fk\n",
    "ax.plot(xv, yv,\n",
    "       'k-', lw=2, alpha=alpha, label='FK: Cardiac')\n",
    "\n",
    "\n",
    "#format_plot\n",
    "format_plot(ax=ax,xlabel='Termination Time (s)',ylabel='Probability Density',fontsize=fontsize)#,use_loglog=True)\n",
    "# ax.set_xscale('log')\n",
    "ax.set_yscale('log')\n",
    "ax.set_xlim(xlim)\n",
    "# ax.set_ylim((11*1.0178650359332904e-05, 80))\n",
    "# ax.set_ylim((11*1.0178650359332904e-05, 8))\n",
    "ax.set_ylim((2e-5, 2))\n",
    "ax.tick_params(top=True, right=True,direction='in',which='both')\n",
    "ax.legend(fontsize=fontsize-2,frameon=False)\n",
    "ax.set_title(f'Rc={R_c_bar_fk}, <tau>={mtt_lpm_fk:.3f} (LPM)\\n<tau>={tau_fk:.3f} (Cardiac)', fontsize=fontsize)\n",
    "plt.show()"
   ]
  },
  {
   "cell_type": "code",
   "execution_count": null,
   "id": "4cd17f9b",
   "metadata": {},
   "outputs": [],
   "source": []
  }
 ],
 "metadata": {
  "kernelspec": {
   "display_name": "Python 3 (ipykernel)",
   "language": "python",
   "name": "python3"
  },
  "language_info": {
   "codemirror_mode": {
    "name": "ipython",
    "version": 3
   },
   "file_extension": ".py",
   "mimetype": "text/x-python",
   "name": "python",
   "nbconvert_exporter": "python",
   "pygments_lexer": "ipython3",
   "version": "3.9.5"
  },
  "toc": {
   "base_numbering": 1,
   "nav_menu": {},
   "number_sections": true,
   "sideBar": true,
   "skip_h1_title": false,
   "title_cell": "Table of Contents",
   "title_sidebar": "Contents",
   "toc_cell": false,
   "toc_position": {},
   "toc_section_display": true,
   "toc_window_display": false
  }
 },
 "nbformat": 4,
 "nbformat_minor": 5
}
