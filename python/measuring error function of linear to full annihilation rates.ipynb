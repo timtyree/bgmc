{
 "cells": [
  {
   "cell_type": "markdown",
   "id": "e432c3a3",
   "metadata": {},
   "source": [
    "# computing error of linear particle annihilation rate to that of the full models (gpu-accelerated)\n",
    "Tim Tyree<br>\n",
    "9.12..2022"
   ]
  },
  {
   "cell_type": "code",
   "execution_count": 1,
   "id": "b46871d6",
   "metadata": {
    "ExecuteTime": {
     "end_time": "2022-09-13T07:13:12.291478Z",
     "start_time": "2022-09-13T07:13:10.376305Z"
    }
   },
   "outputs": [
    {
     "name": "stdout",
     "output_type": "stream",
     "text": [
      "The autoreload extension is already loaded. To reload it, use:\n",
      "  %reload_ext autoreload\n"
     ]
    }
   ],
   "source": [
    "from lib.my_initialization import *\n",
    "from lib import *\n",
    "#from lib.lib_care.measure.level_sets import comp_longest_level_set_and_smooth\n",
    "%load_ext autoreload\n",
    "%autoreload 2\n",
    "\n",
    "import random,scipy\n",
    "from scipy.interpolate import LinearNDInterpolator\n",
    "from scipy.interpolate import CloughTocher2DInterpolator\n",
    "from scipy.optimize import minimize\n",
    "#load libraries for color bar\n",
    "import matplotlib as mpl #for colorbar\n",
    "from matplotlib.cm import ScalarMappable\n",
    "import matplotlib.colors as colors\n",
    "import matplotlib.cbook as cbook\n",
    "from matplotlib import cm\n",
    "#def plotter_3dpoint_cloud_sample(az,...):\n",
    "from scipy import stats\n",
    "#DONE: hook this routine up to dask\n",
    "#DONT: hook this routine up to dask_cuda\n",
    "# import scanpy as sc\n",
    "darkmode=False\n",
    "if darkmode:\n",
    "    # For darkmode plots\n",
    "    from jupyterthemes import jtplot\n",
    "    jtplot.style(theme='monokai', context='notebook', ticks=True, grid=False)\n",
    "#     theme=cuxfilter.themes.dark\n",
    "#     #     theme=cuxfilter.themes.rapids\n",
    "else:\n",
    "    sns.set_style('white')\n",
    "#     theme=cuxfilter.themes.light\n",
    "import warnings\n",
    "warnings.simplefilter(\"ignore\", UserWarning)\n",
    "%load_ext autoreload\n",
    "%autoreload 2\n",
    "# import cupy as cp\n",
    "np.random.seed(42)\n",
    "# cp.random.seed(42)"
   ]
  },
  {
   "cell_type": "code",
   "execution_count": 66,
   "id": "2ab26af7",
   "metadata": {
    "ExecuteTime": {
     "end_time": "2022-09-13T07:59:38.350449Z",
     "start_time": "2022-09-13T07:59:38.332605Z"
    }
   },
   "outputs": [],
   "source": [
    "#reset matplotlib settings\n",
    "from mpltools import annotation\n",
    "import matplotlib as mpl\n",
    "sns.reset_orig()\n",
    "mpl.rc_file_defaults()"
   ]
  },
  {
   "cell_type": "markdown",
   "id": "eec8f975",
   "metadata": {},
   "source": [
    "# define module"
   ]
  },
  {
   "cell_type": "code",
   "execution_count": 4,
   "id": "0cba8802",
   "metadata": {
    "ExecuteTime": {
     "end_time": "2022-09-13T07:13:13.768662Z",
     "start_time": "2022-09-13T07:13:13.748145Z"
    }
   },
   "outputs": [],
   "source": [
    "def recall_death_rates_vidmar_rappel(data_fk_dir='/home/timothytyree/Documents/GitHub/bgmc/python/data/full_results/data_fig4_vidmar_fk_tt.csv',\n",
    "                                     data_lr_dir='/home/timothytyree/Documents/GitHub/bgmc/python/data/full_results/data_fig4_vidmar_lr_tt.csv',**kwargs):\n",
    "    \"\"\"\n",
    "    Example Usage:\n",
    "dict_wjr = recall_death_rates_vidmar_rappel()\n",
    "print(*dict_wjr)\n",
    "model_str = 'fk_pbc'\n",
    "# model_str = 'lr_pbc'\n",
    "print_dict(dict_wjr['wjr'][model_str])\n",
    "    \"\"\"\n",
    "    #recall powerlaw fits to full\n",
    "    wjr=recall_powerlaw_fits_to_full_models()\n",
    "    # #recall annihilation rate results from vidmar and rappel (2019)\n",
    "    fk=pd.read_csv(data_fk_dir)\n",
    "    fk['N']=fk['No2']*2\n",
    "    fk['q']=fk['N']/fk['A'] #number of tips per square centimeter\n",
    "    fk['w']=fk['rate']/fk['A']*10**3 #Hz/cm^2\n",
    "    lr=pd.read_csv(data_lr_dir)\n",
    "    lr['N']=lr['No2']*2\n",
    "    lr['q']=lr['N']/lr['A'] #number of tips per square centimeter\n",
    "    lr['w']=lr['rate']/lr['A']*10**3 #Hz/cm^2\n",
    "    \n",
    "    #evaluate min/max particle density observed\n",
    "    qlim_fk =  [np.min(fk['q']),np.max(fk['q'])]\n",
    "    qlim_lr =  [np.min(lr['q']),np.max(lr['q'])]\n",
    "    dict_wjr=dict(wjr=wjr,fk=fk,lr=lr,qlim_fk=qlim_fk,qlim_lr=qlim_lr)\n",
    "    return dict_wjr"
   ]
  },
  {
   "cell_type": "code",
   "execution_count": 5,
   "id": "43375370",
   "metadata": {
    "ExecuteTime": {
     "end_time": "2022-09-13T07:13:13.948516Z",
     "start_time": "2022-09-13T07:13:13.921749Z"
    }
   },
   "outputs": [],
   "source": [
    "def plot_death_rates_loglog_full(fk,lr,ax=None,\n",
    "                                x1lim = [8e-3, 11],  #[8e-2, 1.1],  #[1e-1, 1] # [5,10]\n",
    "                                x2lim = [1e-2, 250],  #[1e-2, 25], #[50,350]\n",
    "                                legend_alpha=1.,\n",
    "                                alpha=0.2,\n",
    "                                s=40,\n",
    "                                fontsize=18,\n",
    "                                use_loglog=True,\n",
    "                                frameon_legend=False,\n",
    "                                zorder=0,**kwargs):\n",
    "    \"\"\"\n",
    "    Example Usage:\n",
    "ax = plot_death_rates_loglog_full(fk,lr,ax)\n",
    "    \"\"\"\n",
    "    if ax is None:\n",
    "        ax = plt.gca()\n",
    "    #plot the full models\n",
    "    ax.scatter(fk['q'].values,fk['w'].values,c='C0',alpha=alpha,s=s,label='Fenton-Karma',zorder=zorder)\n",
    "    ax.scatter(lr['q'].values,lr['w'].values,c='C1',alpha=alpha,s=s,label='Luo-Rudy',zorder=zorder)\n",
    "    #format\n",
    "    FormatAxes(\n",
    "        ax=ax,\n",
    "        x1lim=x1lim,\n",
    "        x2lim=x2lim,\n",
    "        x1label=r'$N/A$ (1/cm$^{2}$)',  #q$ (1/cm$^{2}$)',#r'$q=N/A$ (1/cm$^{2}$)',\n",
    "        x2label=\n",
    "        r'$W_{-2}/A$ (Hz/cm$^{2}$)',  #w$ (Hz/cm$^{2}$)',#r'$w=W_{-2}/A$ (Hz/cm$^{2}$)',\n",
    "        title=None,\n",
    "        fontsize=fontsize,\n",
    "        use_loglog=use_loglog)\n",
    "    format_plot(ax=ax,xlabel=r'q (1/cm$^2$)',ylabel=r'w (Hz/cm$^2$)',fontsize=fontsize,use_loglog=use_loglog,**kwargs)\n",
    "    leg=ax.legend(loc='lower right',fontsize=fontsize,frameon=frameon_legend)\n",
    "    for lh in leg.legendHandles: \n",
    "        lh.set_alpha(legend_alpha)\n",
    "    return ax"
   ]
  },
  {
   "cell_type": "code",
   "execution_count": 6,
   "id": "f6371c21",
   "metadata": {
    "ExecuteTime": {
     "end_time": "2022-09-13T07:13:14.143944Z",
     "start_time": "2022-09-13T07:13:14.124692Z"
    }
   },
   "outputs": [],
   "source": [
    "def comp_log_likelihood_ols(se_values,\n",
    "                            s = None, #input parameter\n",
    "                            **kwargs):\n",
    "    \"\"\"comp_log_likelihood_ols computes log_likelihood for linear regression \n",
    "    evaluated at the closed-form maximum likelhood estimator from Eqn. 1-3 from src.  \n",
    "    If posterior root variance, s, is None, then s is set to the apparent \n",
    "    root mean squared error (rmse), which is the mle of s for the ols prior.\n",
    "            \n",
    "    src: https://www.stat.cmu.edu/~cshalizi/mreg/15/lectures/06/lecture-06.pdf/\n",
    "\n",
    "    Example Usage:\n",
    "se_values = (np.log(w_values)-np.log(what_values))**2\n",
    "ll = comp_log_likelihood_ols(se_values)\n",
    "    \"\"\"\n",
    "    n = se_values.shape[0]\n",
    "    if s is None:\n",
    "        s = np.sqrt(np.mean(se_values)) # float(rmse) # \n",
    "    ll  = - 0.5*n*np.log(2.*np.pi)\n",
    "    ll -= n*np.log(s)\n",
    "    ll -= np.sum(se_values)/(2.*s**2)\n",
    "    return ll"
   ]
  },
  {
   "cell_type": "code",
   "execution_count": 7,
   "id": "8fd0dcf6",
   "metadata": {
    "ExecuteTime": {
     "end_time": "2022-09-13T07:13:14.520165Z",
     "start_time": "2022-09-13T07:13:14.498918Z"
    }
   },
   "outputs": [],
   "source": [
    "def comp_defect_mean_annihil_rate(df, qlim_full, fit_full, **kwargs):\n",
    "    \"\"\"comp_defect_mean_annihil_rate computes the error of w(q) in df to full.\n",
    "    dict_linear contains the boundaries of df intersected with full as the effective qmin,qmax.\n",
    "    the linear defects at the boundary are evaluated (emin,emax) in addition to the log defects (lemin,lemax).\n",
    "    defects computed include the root mean squared error (rmse) and the log-likelihood.\n",
    "    if parameter s is not specified, then s is taken to be the mle for the ols prior.\n",
    "    \n",
    "    Example Usage:\n",
    "dict_defects = comp_defect_mean_annihil_rate( df, qlim_full, fit_full)\n",
    "    \"\"\"\n",
    "    #inputs: df, qlim_full, fit_full, \n",
    "    #outputs: \n",
    "    #compute the maximal intersection of the explanatory variable, q\n",
    "    qmin = np.max((df['q'].min(),qlim_full[0]))\n",
    "    qmax = np.min((df['q'].max(),qlim_full[1]))\n",
    "    #constrain boundary evaluate to the closest interior points simulated value for q at either bound\n",
    "    qmin = df.loc[df['q']>=qmin,'q'].min()\n",
    "    qmax = df.loc[df['q']<=qmax,'q'].max()\n",
    "    #constrain to the interior\n",
    "    boo  = (df['q']>=qmin)&(df['q']<=qmax)\n",
    "    q_values = df[boo]['q'].values\n",
    "    w_values = df[boo]['w'].values\n",
    "    #evaluate the full model powerlaw fit\n",
    "    what_values = fit_full['M']*(q_values**fit_full['m'])\n",
    "    #evaluate boundary and compute rmse\n",
    "    e_values = w_values-what_values\n",
    "    emin = float(e_values[q_values==qmin])\n",
    "    emax = float(e_values[q_values==qmax])\n",
    "    num_obs = w_values.shape[0]\n",
    "    #compute rmse\n",
    "    rmse = np.sqrt(np.mean((e_values)**2))\n",
    "    #evaluate boundary and compute log-likelihood\n",
    "    le_values = np.log(w_values/what_values)\n",
    "    lemin = float(e_values[q_values==qmin])\n",
    "    lemax = float(e_values[q_values==qmax])\n",
    "    #compute log-likelihood / negative mutual information / negative entropy\n",
    "    ll = comp_log_likelihood_ols(le_values**2,**kwargs)\n",
    "\n",
    "    dict_defects = dict(num_obs=num_obs,qmin=qmin,qmax=qmax,\n",
    "                        rmse=rmse,log_likelihood=ll,\n",
    "                       emin=emin,emax=emax,lemin=lemin,lemax=lemax)\n",
    "    return dict_defects"
   ]
  },
  {
   "cell_type": "code",
   "execution_count": 8,
   "id": "93d0e3f1",
   "metadata": {
    "ExecuteTime": {
     "end_time": "2022-09-13T07:13:14.739476Z",
     "start_time": "2022-09-13T07:13:14.710806Z"
    }
   },
   "outputs": [],
   "source": [
    "def routine_measure_annihilation_defect(input_fn,**kwargs):\n",
    "    \"\"\"returns tuple of the pandas.DataFrameinstance read from input_fn\n",
    "    along with associated dictionary, dict_linear.\n",
    "    dict_linear contains the error of linear/powerlaw fit to full pair-annihilation rates\n",
    "    kwargs are directly passed to recall_death_rates_vidmar_rappel\n",
    "    in addition to being passed to comp_defect_mean_annihil_rate directly.\n",
    "    \n",
    "    Example Usage:\n",
    "df,dict_linear = routine_measure_annihilation_defect(input_fn,printing=True)#,**kwargs)\n",
    "    \"\"\"\n",
    "    df=pd.read_csv(input_fn)\n",
    "    #parse input_fn for unique identifier\n",
    "    lst = input_fn.split('.')\n",
    "    cluster_index=eval(lst[-2])\n",
    "    job_index=eval(lst[-1])\n",
    "    #compute w,q and add as fields to df\n",
    "    df['q']=df['N']/(df['L']**2)\n",
    "    df['w']=(df['CollTime']**-1)/(df['L']**2)\n",
    "    #parse input_fn for unique identifier\n",
    "    lst = input_fn.split('.')\n",
    "    cluster_index=eval(lst[-2])\n",
    "    job_index=eval(lst[-1])\n",
    "    #recall annihilation rates from full model\n",
    "    dict_wjr = recall_death_rates_vidmar_rappel(**kwargs)\n",
    "    fk=dict_wjr['fk']\n",
    "    lr=dict_wjr['lr']\n",
    "    #determine a reasonable qmin,qmax\n",
    "    dict_linear=dict(cluster_index=cluster_index,job_index=job_index,\n",
    "            dict_min = dict(df.min()),\n",
    "            dict_max = dict(df.max()),\n",
    "    )\n",
    "    #compute defects for either of the full models\n",
    "    for model_str in ['fk','lr']:\n",
    "        qlim_full = dict_wjr[f'qlim_{model_str}']\n",
    "        fit_full = dict_wjr['wjr'][f\"{model_str}_pbc\"]\n",
    "        #compute defect\n",
    "        dict_defects = comp_defect_mean_annihil_rate( df, qlim_full, fit_full,**kwargs)\n",
    "        dict_linear[f\"dict_defects_{model_str}\"]=dict(dict_defects)\n",
    "    return df,dict_linear\n"
   ]
  },
  {
   "cell_type": "code",
   "execution_count": 9,
   "id": "8c3d12af",
   "metadata": {
    "ExecuteTime": {
     "end_time": "2022-09-13T07:13:14.903164Z",
     "start_time": "2022-09-13T07:13:14.882131Z"
    }
   },
   "outputs": [],
   "source": [
    "def dict_compare(d1, d2):\n",
    "    \"\"\"dict_compare returns a tuple of sets containing keys to dict1 or dict2.\n",
    "    \n",
    "    Example Usage:\n",
    "added, removed, modified, same = dict_compare(d1=dict(a=1, b=2), d2=dict(a=2, b=2))\n",
    "added, removed, modified, same\n",
    "\"\"\"\n",
    "    d1_keys  = set(d1.keys())\n",
    "    d2_keys  = set(d2.keys())\n",
    "    shared_keys = d1_keys.intersection(d2_keys)\n",
    "    added    = d1_keys - d2_keys\n",
    "    removed  = d2_keys - d1_keys\n",
    "    modified = {o : (d1[o], d2[o]) for o in shared_keys if d1[o] != d2[o]}\n",
    "    same = set(o for o in shared_keys if d1[o] == d2[o])\n",
    "    return added, removed, modified, same\n",
    "\n",
    "def parse_dict_linear_to_row(dic):\n",
    "    \"\"\"\n",
    "    Example Usage:\n",
    "dict_defects_fk,dict_defects_lr = parse_dict_linear_to_row(dic = dict_linear)\n",
    "    \"\"\"\n",
    "    added, removed, modified, same = dict_compare(dic['dict_min'],dic['dict_max'])\n",
    "    #test for equality of keys\n",
    "    assert set()==added\n",
    "    assert set()==removed\n",
    "    #test exactly the right keys are equal in the dictionary\n",
    "    assert same=={'D','Dt','L','dt','force_code','kappa','neighbor','niter','no_attraction','no_repulsion','r','reflect','set_second','varkappa','x0'}\n",
    "\n",
    "    dict_defects_fk = dict(dic['dict_defects_fk'])\n",
    "    dict_defects_lr = dict(dic['dict_defects_lr'])\n",
    "    #wlog, map same values in dict_min to dict_defects_...\n",
    "    dict_min=dic['dict_min']\n",
    "    for key in same:\n",
    "        dict_defects_fk[key]=dict_min[key]\n",
    "        dict_defects_lr[key]=dict_min[key]\n",
    "    #for modified values, map them to ..._lo,_hi fields\n",
    "    for key in modified:\n",
    "        vlim=modified[key]\n",
    "        dict_defects_fk[f\"{key}_lo\"]=vlim[0]\n",
    "        dict_defects_fk[f\"{key}_hi\"]=vlim[1]\n",
    "        dict_defects_lr[f\"{key}_lo\"]=vlim[0]\n",
    "        dict_defects_lr[f\"{key}_hi\"]=vlim[1]\n",
    "    #set the unique identifier index fields\n",
    "    dict_defects_fk['cluster_index']=dic['cluster_index']\n",
    "    dict_defects_fk['job_index']=dic['job_index']\n",
    "    dict_defects_lr['cluster_index']=dic['cluster_index']\n",
    "    dict_defects_lr['job_index']=dic['job_index']\n",
    "    return dict_defects_fk,dict_defects_lr\n"
   ]
  },
  {
   "cell_type": "markdown",
   "id": "73b74bd5",
   "metadata": {},
   "source": [
    "# DONE: developed routine for generating a really big pandas.DataFrame instance before attempting to aggregate it into one spot\n",
    "- TODO: use it over dask with 100 tasks\n",
    "- TODO: use it over dask with 1000 tasks\n",
    "- TODO: use it over dask with all available tasks"
   ]
  },
  {
   "cell_type": "code",
   "execution_count": null,
   "id": "a787f7f2",
   "metadata": {},
   "outputs": [],
   "source": []
  },
  {
   "cell_type": "markdown",
   "id": "e543101c",
   "metadata": {},
   "source": [
    "__log-likliehood for linear regression:__\n",
    "\n",
    "$$\n",
    "L(b_0,b_1,s^2) = \\log \\Pi_{i=1}^n p(y_i | x_i; b_0,b_1,s^2)\n",
    "$$\n",
    "$$...$$\n",
    "$$\n",
    "L(b_0,b_1,s^2) = -\\frac{n}{2}\\log 2\\pi - n\\log s -\\frac{1}{2s^2}\\sum_{i=1}^n(y_i - (b_0 +b_1x_i))^2\n",
    "$$\n",
    "\n",
    "maximum likelihood estimate of s is the root mean squared error, (RMSE). <br> src: `https://www.stat.cmu.edu/~cshalizi/mreg/15/lectures/06/lecture-06.pdf/`."
   ]
  },
  {
   "cell_type": "code",
   "execution_count": 36,
   "id": "b2f802de",
   "metadata": {
    "ExecuteTime": {
     "end_time": "2022-09-13T07:40:42.934094Z",
     "start_time": "2022-09-13T07:40:42.322256Z"
    }
   },
   "outputs": [
    {
     "name": "stdout",
     "output_type": "stream",
     "text": [
      "added 140775 tasks to queue!\n"
     ]
    }
   ],
   "source": [
    "#load the final file listed in a run folder\n",
    "run_num=26\n",
    "printing=True\n",
    "input_folder=f'/home/timothytyree/Documents/GitHub/bgmc/python/data/osg_output/run_{run_num}_all'\n",
    "os.chdir(input_folder)\n",
    "task_lst = [os.path.abspath(input_fn) for input_fn in os.listdir()]\n",
    "if printing:\n",
    "    print(f\"added {len(task_lst)} tasks to queue!\")"
   ]
  },
  {
   "cell_type": "code",
   "execution_count": 9,
   "id": "be9eaf14",
   "metadata": {
    "ExecuteTime": {
     "end_time": "2022-09-13T06:07:41.898758Z",
     "start_time": "2022-09-13T06:07:41.805102Z"
    }
   },
   "outputs": [
    {
     "name": "stdout",
     "output_type": "stream",
     "text": [
      "computed defect for mean annihilation rates of dict_linear['job_index']=50567 in dict_linear['cluster_index']=23278799:\n",
      "varkappa: 2.64\n",
      "D: 0.125\n",
      "r: 0.085\n",
      "kappa: 340\n",
      "L: 5\n",
      "df.shape=(95, 19)\n",
      "\n",
      "keys available in dict_linear:\n",
      "cluster_index job_index dict_min dict_max dict_defects_fk dict_defects_lr\n",
      "apparent defects/errors:\n",
      "rmse_fk: 1.4532\n",
      "loglik_fk: -8.1187\n",
      "rmse_lr: 2.8923\n",
      "loglik_lr: -16.1483\n"
     ]
    }
   ],
   "source": [
    "testing=True\n",
    "if testing:\n",
    "    input_fn = task_lst[0]\n",
    "    df,dict_linear = routine_measure_annihilation_defect(input_fn,printing=True)#,**kwargs)\n",
    "    if printing:\n",
    "        print(f\"computed defect for mean annihilation rates of {dict_linear['job_index']=} in {dict_linear['cluster_index']=}:\")\n",
    "        col_lst=['varkappa','D','r','kappa','L']\n",
    "        for col in col_lst:\n",
    "            val=df[col].min()\n",
    "            print(f\"{col}: {val}\")\n",
    "        print(F\"{df.shape=}\")\n",
    "        print(f\"\\nkeys available in dict_linear:\")\n",
    "        print(*dict_linear)\n",
    "        print(f\"apparent defects/errors:\")\n",
    "        print(f\"rmse_fk: {dict_linear['dict_defects_fk']['rmse']:.4f}\")\n",
    "        print(f\"loglik_fk: {dict_linear['dict_defects_fk']['log_likelihood']:.4f}\")\n",
    "        print(f\"rmse_lr: {dict_linear['dict_defects_lr']['rmse']:.4f}\")\n",
    "        print(f\"loglik_lr: {dict_linear['dict_defects_lr']['log_likelihood']:.4f}\")"
   ]
  },
  {
   "cell_type": "code",
   "execution_count": 33,
   "id": "c5686c07",
   "metadata": {
    "ExecuteTime": {
     "end_time": "2022-09-13T06:17:30.455047Z",
     "start_time": "2022-09-13T06:17:30.022286Z"
    }
   },
   "outputs": [
    {
     "data": {
      "image/png": "[encoded data removed]",
      "text/plain": [
       "<Figure size 600x400 with 1 Axes>"
      ]
     },
     "metadata": {},
     "output_type": "display_data"
    }
   ],
   "source": [
    "#plot the original annihilation rates\n",
    "dict_wjr = recall_death_rates_vidmar_rappel()\n",
    "fk=dict_wjr['fk']\n",
    "lr=dict_wjr['lr']\n",
    "figsize = (6, 4)  #(5,4)\n",
    "fontsize=18\n",
    "if testing:\n",
    "    fig, ax = plt.subplots(figsize=figsize)\n",
    "    df.plot(x='q',y='w',alpha=0.7,ax=ax,color='black',label='Linear Particle')\n",
    "    ax = plot_death_rates_loglog_full(fk,lr,ax=ax,fontsize=fontsize)\n",
    "    ax.legend(loc='upper left',fontsize=fontsize-2)\n",
    "    #add annotation\n",
    "    # xy=(0.3, 11)\n",
    "    # xytext=(0.09, 10)\n",
    "    #ax.annotate(r\"best fit ($a>0$)\", xy=xy, xytext=xytext,fontsize=fontsize)\n",
    "    #add marker showing the slope of ~2\n",
    "    annotation.slope_marker(origin=(2.3, 2.0),\n",
    "                            slope=2,\n",
    "                            text_kwargs={'color': 'black','fontsize':16, 'alpha':0.7},\n",
    "                            poly_kwargs={'facecolor': (0.5, 0.5, 0.5), 'alpha':0.5},#TODO: replace with purple\n",
    "                            ax=ax)\n",
    "    plt.show()"
   ]
  },
  {
   "cell_type": "markdown",
   "id": "d2c12726",
   "metadata": {},
   "source": [
    "# compute error/defect of a linear particle model annihilation rates wrt the full model"
   ]
  },
  {
   "cell_type": "markdown",
   "id": "8e00f99a",
   "metadata": {},
   "source": [
    "- DONE: Option 1: do it directly in a way that is impenetrable in argument\n",
    "- DONT: Option 2: do it lazily by copying the solution which i already said is flawed to wjr during our last excellent meeting...\n",
    "- DONE: evaluate over all such files"
   ]
  },
  {
   "cell_type": "code",
   "execution_count": 11,
   "id": "200a3b8f",
   "metadata": {
    "ExecuteTime": {
     "end_time": "2022-09-13T06:07:42.439328Z",
     "start_time": "2022-09-13T06:07:42.422051Z"
    }
   },
   "outputs": [],
   "source": [
    "def routine(task):\n",
    "    try:\n",
    "        input_fn = task\n",
    "        df,dict_linear = routine_measure_annihilation_defect(input_fn,printing=True)#,**kwargs)\n",
    "        #dict_linear['folder'] = os.path.basename(input_fn) #strings are relatively expensive at these scales...\n",
    "        return dict_linear\n",
    "    except Exception as e:\n",
    "        return f\"Warning: {e} for {task=}\""
   ]
  },
  {
   "cell_type": "code",
   "execution_count": 12,
   "id": "51c45ce1",
   "metadata": {
    "ExecuteTime": {
     "end_time": "2022-09-13T06:07:42.458265Z",
     "start_time": "2022-09-13T06:07:42.440916Z"
    }
   },
   "outputs": [],
   "source": [
    "use_evaluate_annihilation_defects=False\n",
    "if use_evaluate_annihilation_defects:\n",
    "    from dask.distributed import Client, progress\n",
    "    client = Client(n_workers=4, threads_per_worker=1)\n",
    "    client"
   ]
  },
  {
   "cell_type": "code",
   "execution_count": 60,
   "id": "6020670b",
   "metadata": {
    "ExecuteTime": {
     "end_time": "2022-09-13T06:38:58.510753Z",
     "start_time": "2022-09-13T06:38:58.489882Z"
    }
   },
   "outputs": [],
   "source": [
    "#save the defects as a complicated hierarchical dataset\n",
    "max_num_jobs=4\n",
    "printing=True\n",
    "saving=True\n",
    "pkl_dir_defects=f'/home/timothytyree/Documents/GitHub/bgmc/python/data/osg_output/run_{run_num}_defects_to_full.pkl'\n",
    "#optionally, run daskbag\n",
    "os.chdir(nb_dir)\n",
    "npartitions=np.min((len(task_lst),max_num_jobs))\n",
    "if use_evaluate_annihilation_defects:\n",
    "    if printing:\n",
    "        print(f\"running {len(task_lst)} tasks over {npartitions} cpu cores (140775 tasks over 4 cpu cores took <7.5 minutes)...\")\n",
    "    retval=eval_routine_daskbag(routine,task_lst,npartitions,printing=printing)\n",
    "    if printing:\n",
    "        print(f\"tasks complete!\")\n",
    "    #format results\n",
    "    dict_linear_lst=[]\n",
    "    for rv in retval:\n",
    "        if type(rv)==type(''):\n",
    "            print(rv)\n",
    "        else:\n",
    "            dict_linear_lst.append(rv)\n",
    "    if saving:\n",
    "        pdict=dict(zip(range(len(dict_linear_lst)),dict_linear_lst))\n",
    "        save_to_pickle(pkl_dir_defects,pdict)\n",
    "        print(f\"saved to\\n{pkl_dir_defects=}\")"
   ]
  },
  {
   "cell_type": "markdown",
   "id": "ae9824f0",
   "metadata": {},
   "source": [
    "# visually investigate the defects"
   ]
  },
  {
   "cell_type": "code",
   "execution_count": 14,
   "id": "5799ea20",
   "metadata": {
    "ExecuteTime": {
     "end_time": "2022-09-13T06:07:42.495539Z",
     "start_time": "2022-09-13T06:07:42.479468Z"
    }
   },
   "outputs": [],
   "source": [
    "load_cache=False\n",
    "if load_cache:\n",
    "    pkl_dir_defects='/home/timothytyree/Documents/GitHub/bgmc/python/data/osg_output/run_26_defects_to_full.pkl' #~200MB\n",
    "    pdict=load_from_pickle(pkl_dir_defects)\n",
    "    num_trials = len(list(pdict.keys()))\n",
    "    print(f\"loaded defects from {num_trials} trials.\")"
   ]
  },
  {
   "cell_type": "code",
   "execution_count": 66,
   "id": "2aba5cbf",
   "metadata": {
    "ExecuteTime": {
     "end_time": "2022-09-13T06:41:41.945347Z",
     "start_time": "2022-09-13T06:41:41.921752Z"
    }
   },
   "outputs": [],
   "source": [
    "def routine_(task):\n",
    "    try:\n",
    "        input_fn = task\n",
    "        df,dict_linear = routine_measure_annihilation_defect(input_fn,printing=True)#,**kwargs)\n",
    "        #dict_linear['folder'] = os.path.basename(input_fn) #strings are relatively expensive at these scales...\n",
    "        dict_defects_fk,dict_defects_lr = parse_dict_linear_to_row(dic = dict_linear)\n",
    "        return dict_defects_fk,dict_defects_lr\n",
    "    except Exception as e:\n",
    "        return f\"Warning: {e} for {task=}\"\n"
   ]
  },
  {
   "cell_type": "code",
   "execution_count": 73,
   "id": "6decf123",
   "metadata": {
    "ExecuteTime": {
     "end_time": "2022-09-13T06:48:18.324073Z",
     "start_time": "2022-09-13T06:48:17.285222Z"
    }
   },
   "outputs": [
    {
     "name": "stdout",
     "output_type": "stream",
     "text": [
      "<Client: 'tcp://127.0.0.1:43285' processes=4 threads=4, memory=62.53 GiB>\n"
     ]
    }
   ],
   "source": [
    "#compute the defects as rows for tables\n",
    "use_generate_annihilation_defect_table=True\n",
    "if use_generate_annihilation_defect_table:\n",
    "    from dask.distributed import Client, progress\n",
    "    client = Client(n_workers=4, threads_per_worker=1)\n",
    "    print(client)\n"
   ]
  },
  {
   "cell_type": "code",
   "execution_count": 74,
   "id": "73cd3802",
   "metadata": {
    "ExecuteTime": {
     "end_time": "2022-09-13T06:48:20.633460Z",
     "start_time": "2022-09-13T06:48:20.611788Z"
    }
   },
   "outputs": [
    {
     "name": "stdout",
     "output_type": "stream",
     "text": [
      "link to dask dashboard: http://127.0.0.1:44493/status\n"
     ]
    }
   ],
   "source": [
    "#save the defects as a table (parquet is good)\n",
    "print(f\"link to dask dashboard: {client.dashboard_link}\")"
   ]
  },
  {
   "cell_type": "code",
   "execution_count": 76,
   "id": "78d4a965",
   "metadata": {
    "ExecuteTime": {
     "end_time": "2022-09-13T06:58:44.710628Z",
     "start_time": "2022-09-13T06:49:24.010989Z"
    }
   },
   "outputs": [
    {
     "name": "stdout",
     "output_type": "stream",
     "text": [
      "running 140775 tasks over 4 cpu cores (140775 tasks over 4 cpu cores took <7.5?? minutes)...\n"
     ]
    },
    {
     "name": "stderr",
     "output_type": "stream",
     "text": [
      "/tmp/ipykernel_18814/576671410.py:20: RuntimeWarning: invalid value encountered in double_scalars\n",
      "/tmp/ipykernel_18814/576671410.py:20: RuntimeWarning: invalid value encountered in double_scalars\n",
      "/tmp/ipykernel_18814/576671410.py:20: RuntimeWarning: invalid value encountered in double_scalars\n",
      "/tmp/ipykernel_18814/576671410.py:20: RuntimeWarning: invalid value encountered in double_scalars\n",
      "/tmp/ipykernel_18814/576671410.py:20: RuntimeWarning: invalid value encountered in double_scalars\n",
      "/tmp/ipykernel_18814/576671410.py:20: RuntimeWarning: invalid value encountered in double_scalars\n",
      "/tmp/ipykernel_18814/576671410.py:20: RuntimeWarning: invalid value encountered in double_scalars\n",
      "/tmp/ipykernel_18814/576671410.py:20: RuntimeWarning: invalid value encountered in double_scalars\n",
      "/tmp/ipykernel_18814/576671410.py:20: RuntimeWarning: invalid value encountered in double_scalars\n",
      "/tmp/ipykernel_18814/576671410.py:20: RuntimeWarning: invalid value encountered in double_scalars\n",
      "/tmp/ipykernel_18814/576671410.py:20: RuntimeWarning: invalid value encountered in double_scalars\n",
      "/tmp/ipykernel_18814/576671410.py:20: RuntimeWarning: invalid value encountered in double_scalars\n",
      "/tmp/ipykernel_18814/576671410.py:20: RuntimeWarning: invalid value encountered in double_scalars\n"
     ]
    },
    {
     "name": "stdout",
     "output_type": "stream",
     "text": [
      "run time for evaluating routine was 560.62 seconds, yielding 140775 values returned\n",
      "tasks complete!\n"
     ]
    }
   ],
   "source": [
    "#save the defects as a complicated hierarchical dataset\n",
    "max_num_jobs=4\n",
    "printing=True\n",
    "saving=True\n",
    "# parquet_dir_defects=f'/home/timothytyree/Documents/GitHub/bgmc/python/data/osg_output/run_{run_num}_defects_to_full.parquet'\n",
    "#optionally, run daskbag\n",
    "os.chdir(nb_dir)\n",
    "npartitions=np.min((len(task_lst),max_num_jobs))\n",
    "if use_generate_annihilation_defect_table:\n",
    "    if printing:\n",
    "        print(f\"running {len(task_lst)} tasks over {npartitions} cpu cores (140775 tasks over 4 cpu cores took <9.5?? minutes)...\")\n",
    "    retval=eval_routine_daskbag(routine_,task_lst,npartitions,printing=printing)\n",
    "    if printing:\n",
    "        print(f\"tasks complete!\")"
   ]
  },
  {
   "cell_type": "code",
   "execution_count": null,
   "id": "1a23619b",
   "metadata": {
    "ExecuteTime": {
     "end_time": "2022-09-13T06:59:29.035634Z",
     "start_time": "2022-09-13T06:59:29.035621Z"
    }
   },
   "outputs": [],
   "source": [
    "beep(4)"
   ]
  },
  {
   "cell_type": "code",
   "execution_count": 85,
   "id": "ede89e22",
   "metadata": {
    "ExecuteTime": {
     "end_time": "2022-09-13T07:09:36.892434Z",
     "start_time": "2022-09-13T07:09:34.146768Z"
    }
   },
   "outputs": [
    {
     "name": "stdout",
     "output_type": "stream",
     "text": [
      "Warning: invalid syntax (<string>, line 1) for task='/home/timothytyree/Documents/GitHub/bgmc/python/data/osg_output/run_26_all/cufile.log'\n",
      "Warning: [Errno 21] Is a directory: '/home/timothytyree/Documents/GitHub/bgmc/python/data/osg_output/run_26_all/dask-worker-space' for task='/home/timothytyree/Documents/GitHub/bgmc/python/data/osg_output/run_26_all/dask-worker-space'\n",
      "Warning:  for task='/home/timothytyree/Documents/GitHub/bgmc/python/data/osg_output/run_26_all/job.out.23278799.40619'\n"
     ]
    }
   ],
   "source": [
    "# if use_generate_annihilation_defect_table:\n",
    "#format results\n",
    "dict_defects_fk_lst=[]\n",
    "dict_defects_lr_lst=[]\n",
    "for rv in retval:\n",
    "    if type(rv)==type(''):\n",
    "        print(rv)\n",
    "    else:\n",
    "        dict_defects_fk,dict_defects_lr = rv\n",
    "        dict_defects_fk_lst.append(dict_defects_fk)\n",
    "        dict_defects_lr_lst.append(dict_defects_lr)\n",
    "df_defects_fk = pd.DataFrame(dict_defects_fk_lst)\n",
    "df_defects_lr = pd.DataFrame(dict_defects_lr_lst)"
   ]
  },
  {
   "cell_type": "code",
   "execution_count": 83,
   "id": "2312467c",
   "metadata": {
    "ExecuteTime": {
     "end_time": "2022-09-13T07:05:18.849470Z",
     "start_time": "2022-09-13T07:05:18.514663Z"
    }
   },
   "outputs": [
    {
     "name": "stdout",
     "output_type": "stream",
     "text": [
      "saved to\n",
      "parquet_dir_defects='/home/timothytyree/Documents/GitHub/bgmc/python/data/osg_output/run_26_defects_to_full.parquet'\n"
     ]
    }
   ],
   "source": [
    "#DONE: save measures as .parquet ~10 MB per full model\n",
    "if saving:\n",
    "    parquet_dir_defects_fk=f'/home/timothytyree/Documents/GitHub/bgmc/python/data/osg_output/run_{run_num}_defects_to_fk.parquet'\n",
    "    df_defects_fk.to_parquet(parquet_dir_defects_fk)\n",
    "    parquet_dir_defects_lr=f'/home/timothytyree/Documents/GitHub/bgmc/python/data/osg_output/run_{run_num}_defects_to_lr.parquet'\n",
    "    df_defects_lr.to_parquet(parquet_dir_defects_lr)\n",
    "    print(f\"saved to\\n{parquet_dir_defects=}\")"
   ]
  },
  {
   "cell_type": "code",
   "execution_count": 84,
   "id": "f18d2325",
   "metadata": {
    "ExecuteTime": {
     "end_time": "2022-09-13T07:07:25.744188Z",
     "start_time": "2022-09-13T07:07:25.720382Z"
    }
   },
   "outputs": [
    {
     "name": "stdout",
     "output_type": "stream",
     "text": [
      "parquet_dir_defects_fk='/home/timothytyree/Documents/GitHub/bgmc/python/data/osg_output/run_26_defects_to_fk.parquet'\n",
      "parquet_dir_defects_lr='/home/timothytyree/Documents/GitHub/bgmc/python/data/osg_output/run_26_defects_to_lr.parquet'\n"
     ]
    }
   ],
   "source": [
    "print(f\"{parquet_dir_defects_fk=}\")\n",
    "print(f\"{parquet_dir_defects_lr=}\")"
   ]
  },
  {
   "cell_type": "markdown",
   "id": "b0656db6",
   "metadata": {},
   "source": [
    "# TODO: visualize the locus traced by constant amax=alinear+2D and increasing D"
   ]
  },
  {
   "cell_type": "code",
   "execution_count": 20,
   "id": "eebfad86",
   "metadata": {
    "ExecuteTime": {
     "end_time": "2022-09-13T07:22:08.690262Z",
     "start_time": "2022-09-13T07:22:08.584222Z"
    }
   },
   "outputs": [],
   "source": [
    "parquet_dir_defects_fk='/home/timothytyree/Documents/GitHub/bgmc/python/data/osg_output/run_26_defects_to_fk.parquet'\n",
    "parquet_dir_defects_lr='/home/timothytyree/Documents/GitHub/bgmc/python/data/osg_output/run_26_defects_to_lr.parquet'\n",
    "df_defects_fk=pd.read_parquet(parquet_dir_defects_fk)\n",
    "df_defects_lr=pd.read_parquet(parquet_dir_defects_lr)\n",
    "df_defects_lr.shape\n",
    "\n",
    "#compute for each member a=amax-2*D\n",
    "num_digits_round=2\n",
    "#add columns for amax\n",
    "df_defects_fk['amax'] = np.around(df_defects_fk['varkappa'] + 2.*df_defects_fk['D'],num_digits_round)\n",
    "df_defects_lr['amax'] = np.around(df_defects_lr['varkappa'] + 2.*df_defects_lr['D'],num_digits_round)\n"
   ]
  },
  {
   "cell_type": "code",
   "execution_count": 82,
   "id": "d4c4cbfa",
   "metadata": {
    "ExecuteTime": {
     "end_time": "2022-09-13T08:10:18.487949Z",
     "start_time": "2022-09-13T08:10:18.453224Z"
    }
   },
   "outputs": [
    {
     "name": "stdout",
     "output_type": "stream",
     "text": [
      "lower rmse for each amax (FK)\n",
      "amax=1.78\n",
      "rmse_min=0.09057709492737111\n",
      "count=44391\n",
      "amax=2.89\n",
      "rmse_min=0.07137593663617144\n",
      "count=78321\n",
      "amax=3.29\n",
      "rmse_min=0.1463495458311799\n",
      "count=18060\n"
     ]
    }
   ],
   "source": [
    "#DONE: confirmed there are only the original values for amax present\n",
    "#TODO: identify the lowest error simulation for each amax value\n",
    "print(f\"lower rmse for each amax (FK)\")\n",
    "for amax,g in df_defects_fk.groupby(by='amax'):\n",
    "    dict_best_fits = dict(amax=amax,\n",
    "         rmse_min = g['rmse'].min(),\n",
    "                count = g['rmse'].count()\n",
    "#          nll_min = -g['log_likelihood'].max()\n",
    "                         )\n",
    "    print_dict(dict_best_fits)"
   ]
  },
  {
   "cell_type": "code",
   "execution_count": 81,
   "id": "09e7e8ee",
   "metadata": {
    "ExecuteTime": {
     "end_time": "2022-09-13T08:09:38.447236Z",
     "start_time": "2022-09-13T08:09:38.403090Z"
    }
   },
   "outputs": [
    {
     "name": "stdout",
     "output_type": "stream",
     "text": [
      "lower rmse for each amax (LR)\n",
      "amax=1.78\n",
      "rmse_min=2.8312013767099358\n",
      "count=44391\n",
      "amax=2.89\n",
      "rmse_min=1.717015086669923\n",
      "count=78321\n",
      "amax=3.29\n",
      "rmse_min=1.3838283430866074\n",
      "count=18060\n"
     ]
    }
   ],
   "source": [
    "#DONE: confirmed there are only the original values for amax present\n",
    "#TODO: identify the lowest error simulation for each amax value\n",
    "print(f\"lower rmse for each amax (LR)\")\n",
    "for amax,g in df_defects_lr.groupby(by='amax'):\n",
    "    dict_best_fits = dict(amax=amax,\n",
    "         rmse_min = g['rmse'].min(),\n",
    "        count = g['rmse'].count()\n",
    "#          nll_min = -g['log_likelihood'].max()\n",
    "                         )\n",
    "    print_dict(dict_best_fits)"
   ]
  },
  {
   "cell_type": "code",
   "execution_count": 29,
   "id": "ede25837",
   "metadata": {
    "ExecuteTime": {
     "end_time": "2022-09-13T07:28:02.275554Z",
     "start_time": "2022-09-13T07:28:02.114089Z"
    }
   },
   "outputs": [
    {
     "name": "stdout",
     "output_type": "stream",
     "text": [
      "                r     kappa           D   varkappa       amax         L\n",
      "min         0.005     200.0       0.050       0.30       1.78       5.0\n",
      "max         0.200     980.0       1.295       3.19       3.29       5.0\n",
      "count  140772.000  140772.0  140772.000  140772.00  140772.00  140772.0\n"
     ]
    }
   ],
   "source": [
    "print(df_defects_lr.describe()[['r','kappa','D','varkappa','amax','L']].T[['min','max','count']].T)"
   ]
  },
  {
   "cell_type": "markdown",
   "id": "b1c4f65b",
   "metadata": {},
   "source": [
    "# TODO: plot the best fit for either of the full models"
   ]
  },
  {
   "cell_type": "code",
   "execution_count": 85,
   "id": "bb52399c",
   "metadata": {
    "ExecuteTime": {
     "end_time": "2022-09-13T08:14:22.630148Z",
     "start_time": "2022-09-13T08:14:22.567655Z"
    }
   },
   "outputs": [
    {
     "name": "stdout",
     "output_type": "stream",
     "text": [
      "best fit for FK has RMSE: 0.0714 (FK), 3.5353 (LR)\n",
      "parameter settings of linear particle model fit to FK (amax=1.0100):\n",
      "N=6.0\n",
      "CollTime=0.000932\n",
      "r=0.07\n",
      "D=0.47\n",
      "L=5.0\n",
      "kappa=200.0\n",
      "varkappa=1.95\n",
      "x0=0.0\n",
      "dt=1e-05\n",
      "Dt=1e-05\n",
      "niter=1500.0\n",
      "reflect=0.0\n",
      "set_second=0.0\n",
      "no_repulsion=0.0\n",
      "no_attraction=0.0\n",
      "neighbor=0.0\n",
      "force_code=2.0\n",
      "q=0.24\n",
      "w=0.2500890942398229\n",
      "src: /home/timothytyree/Documents/GitHub/bgmc/python/data/osg_output/run_26_all/job.out.23278799.72520\n"
     ]
    }
   ],
   "source": [
    "#DONE: find best simulation for the FK model so far\n",
    "cluster_index,job_index = df_defects_fk[df_defects_fk['rmse'] == df_defects_fk['rmse'].min()][['cluster_index','job_index']].values.T\n",
    "input_fn = os.path.join(input_folder,f\"job.out.{int(cluster_index)}.{int(job_index)}\")\n",
    "assert os.path.exists(input_fn)\n",
    "\n",
    "df_fit_fk,dict_linear_fit_fk = routine_measure_annihilation_defect(input_fn,printing=True)#,**kwargs)\n",
    "dict_defects_fk,dict_defects_lr = parse_dict_linear_to_row(dic = dict_linear_fit_fk)\n",
    "print(f\"best fit for FK has RMSE: {dict_defects_fk['rmse']:.4f} (FK), {dict_defects_lr['rmse']:.4f} (LR)\")\n",
    "# dict_defects_fk\n",
    "\n",
    "amax=-dict_linear_fit_fk['dict_min']['D']*2+dict_linear_fit_fk['dict_min']['varkappa']\n",
    "print(f\"parameter settings of linear particle model fit to FK ({amax=:.4f}):\")\n",
    "print_dict(dict_linear_fit_fk['dict_min'])\n",
    "print(f\"src: {input_fn}\")"
   ]
  },
  {
   "cell_type": "code",
   "execution_count": 86,
   "id": "96b8db34",
   "metadata": {
    "ExecuteTime": {
     "end_time": "2022-09-13T08:14:23.039849Z",
     "start_time": "2022-09-13T08:14:23.010102Z"
    }
   },
   "outputs": [
    {
     "name": "stdout",
     "output_type": "stream",
     "text": [
      "best fit for LR has RMSE: 8.5081 (FK), 1.3838 (LR)\n",
      "parameter settings of linear particle model fit to LR (amax=2.9100):\n",
      "N=6.0\n",
      "CollTime=5e-05\n",
      "r=0.2\n",
      "D=0.095\n",
      "L=5.0\n",
      "kappa=920.0\n",
      "varkappa=3.1\n",
      "x0=0.0\n",
      "dt=1e-05\n",
      "Dt=1e-05\n",
      "niter=1500.0\n",
      "reflect=0.0\n",
      "set_second=0.0\n",
      "no_repulsion=0.0\n",
      "no_attraction=0.0\n",
      "neighbor=0.0\n",
      "force_code=2.0\n",
      "q=0.24\n",
      "w=0.42560435818862785\n",
      "src: /home/timothytyree/Documents/GitHub/bgmc/python/data/osg_output/run_26_all/job.out.23278799.129596\n"
     ]
    }
   ],
   "source": [
    "#DONE: find best simulation for the LR model so far\n",
    "cluster_index,job_index = df_defects_lr[df_defects_lr['rmse'] == df_defects_lr['rmse'].min()][['cluster_index','job_index']].values.T\n",
    "input_fn = os.path.join(input_folder,f\"job.out.{int(cluster_index)}.{int(job_index)}\")\n",
    "assert os.path.exists(input_fn)\n",
    "\n",
    "df_fit_lr,dict_linear_fit_lr = routine_measure_annihilation_defect(input_fn,printing=True)#,**kwargs)\n",
    "dict_defects_fk,dict_defects_lr = parse_dict_linear_to_row(dic = dict_linear_fit_lr)\n",
    "print(f\"best fit for LR has RMSE: {dict_defects_fk['rmse']:.4f} (FK), {dict_defects_lr['rmse']:.4f} (LR)\")\n",
    "dict_defects_fk\n",
    "amax=-dict_linear_fit_lr['dict_min']['D']*2+dict_linear_fit_lr['dict_min']['varkappa']\n",
    "print(f\"parameter settings of linear particle model fit to LR ({amax=:.4f}):\")\n",
    "print_dict(dict_linear_fit_lr['dict_min'])\n",
    "print(f\"src: {input_fn}\")"
   ]
  },
  {
   "cell_type": "code",
   "execution_count": 87,
   "id": "4931b0c7",
   "metadata": {
    "ExecuteTime": {
     "end_time": "2022-09-13T08:14:23.894719Z",
     "start_time": "2022-09-13T08:14:23.455412Z"
    }
   },
   "outputs": [
    {
     "data": {
      "image/png": "[encoded data removed]",
      "text/plain": [
       "<Figure size 600x400 with 1 Axes>"
      ]
     },
     "metadata": {},
     "output_type": "display_data"
    }
   ],
   "source": [
    "#plot the original annihilation rates\n",
    "dict_wjr = recall_death_rates_vidmar_rappel()\n",
    "fk=dict_wjr['fk']\n",
    "lr=dict_wjr['lr']\n",
    "figsize = (6, 4)  #(5,4)\n",
    "fontsize=18\n",
    "fig, ax = plt.subplots(figsize=figsize)\n",
    "df_fit_fk.plot(x='q',y='w',alpha=0.7,ax=ax,color='C0',label='_Best Fit to FK')\n",
    "df_fit_lr.plot(x='q',y='w',alpha=0.7,ax=ax,color='C1',label='_Best Fit to LR')\n",
    "ax = plot_death_rates_loglog_full(fk,lr,ax=ax,fontsize=fontsize)\n",
    "ax.legend(loc='upper left',fontsize=fontsize-2)\n",
    "#add annotation\n",
    "# xy=(0.3, 11)\n",
    "# xytext=(0.09, 10)\n",
    "#ax.annotate(r\"best fit ($a>0$)\", xy=xy, xytext=xytext,fontsize=fontsize)\n",
    "#add marker showing the slope of ~2\n",
    "# annotation.slope_marker(origin=(2.3, 2.0),\n",
    "#                         slope=2,\n",
    "#                         text_kwargs={'color': 'black','fontsize':16, 'alpha':0.7},\n",
    "#                         poly_kwargs={'facecolor': (0.5, 0.5, 0.5), 'alpha':0.5},\n",
    "#                         ax=ax)\n",
    "plt.show()"
   ]
  },
  {
   "cell_type": "code",
   "execution_count": null,
   "id": "6b5908b2",
   "metadata": {},
   "outputs": [],
   "source": []
  },
  {
   "cell_type": "code",
   "execution_count": null,
   "id": "6b07b657",
   "metadata": {},
   "outputs": [],
   "source": []
  },
  {
   "cell_type": "markdown",
   "id": "98860e2d",
   "metadata": {
    "heading_collapsed": true
   },
   "source": [
    "# DONE: completed task list"
   ]
  },
  {
   "cell_type": "code",
   "execution_count": 18,
   "id": "4f1ff492",
   "metadata": {
    "ExecuteTime": {
     "end_time": "2022-09-13T06:07:42.569070Z",
     "start_time": "2022-09-13T06:07:42.552832Z"
    },
    "hidden": true
   },
   "outputs": [],
   "source": [
    "#DONE: (pre)compute w,q from the full model as a lookup table with linear lookups\n",
    "#DONE: for each row in df,\n",
    "##DONE: compute the squared error (se) to the FK model\n",
    "##DONE: compute the squared error (se) to the LR model\n",
    "#then,\n",
    "#DONE: wrap ^this into a function from df,wjr to df\n",
    "#DONE(later, if forloop is slow): daskbag over ^this for a disappointing speedup...\n",
    "#DONT(later, if cpu is slow): make ^this into a cudf function?\n",
    "##DONT(prereq): dev wjr_lookup_table from wjr, nah the raw data. looks undeniably like a powerlaw \n",
    "##DONT(prereq): test ^this works with Example Usage that computes the rmse to/from the FK/LR model (print a 2x2 matrix)\n",
    "##DONT: dev chunker / generator / something that returns with yield or yield from.\n",
    "##DONT: plug ^that into the identity function from df to df\n",
    "##DONT: modify the identity function to add fields for se_fk and se_lr for each row using wjr_lookup_table"
   ]
  },
  {
   "cell_type": "code",
   "execution_count": null,
   "id": "9d457b51",
   "metadata": {
    "ExecuteTime": {
     "end_time": "2022-09-13T07:03:16.667042Z",
     "start_time": "2022-09-13T07:03:16.667030Z"
    },
    "hidden": true
   },
   "outputs": [],
   "source": [
    "# df_defects_lr.to_parquet? >>\n",
    "# See Also\n",
    "# --------\n",
    "# read_parquet : Read a parquet file.\n",
    "# DataFrame.to_csv : Write a csv file.\n",
    "# DataFrame.to_sql : Write to a sql table.\n",
    "# DataFrame.to_hdf : Write to hdf."
   ]
  },
  {
   "cell_type": "markdown",
   "id": "2a5581f0",
   "metadata": {
    "heading_collapsed": true
   },
   "source": [
    "# TODO(later): dev analysis of powerfits"
   ]
  },
  {
   "cell_type": "code",
   "execution_count": 19,
   "id": "c6963beb",
   "metadata": {
    "ExecuteTime": {
     "end_time": "2022-09-13T06:07:42.586120Z",
     "start_time": "2022-09-13T06:07:42.570452Z"
    },
    "hidden": true
   },
   "outputs": [],
   "source": [
    "# b = db.from_delayed([dask.delayed(range)(i) for i in [100000000] * 5])"
   ]
  },
  {
   "cell_type": "code",
   "execution_count": 20,
   "id": "5c902f4e",
   "metadata": {
    "ExecuteTime": {
     "end_time": "2022-09-13T06:07:42.603362Z",
     "start_time": "2022-09-13T06:07:42.587624Z"
    },
    "hidden": true
   },
   "outputs": [],
   "source": [
    "# printing=True\n",
    "# if printing:\n",
    "#     print(f\"dict_linear contains the error of linear fit to full pair-annihilation rates:\")\n",
    "#     print_dict(dict_linear)\n",
    "#     print(f\"\\npowerlaw data for the {model_str} model:\")\n",
    "#     print(f\"{qlim_full=}\")\n",
    "#     print_dict(fit_full)"
   ]
  },
  {
   "cell_type": "code",
   "execution_count": 21,
   "id": "4b427431",
   "metadata": {
    "ExecuteTime": {
     "end_time": "2022-09-13T06:07:42.620014Z",
     "start_time": "2022-09-13T06:07:42.604620Z"
    },
    "hidden": true
   },
   "outputs": [],
   "source": [
    "# powerlaw_fit_dir='/home/timothytyree/Documents/GitHub/bgmc/python/data/osg_output/run_26_all_powerlaw_fits.csv'\n",
    "# df=pd.read_csv(powerlaw_fit_dir)\n",
    "# print (f\"{df.shape=}\")\n",
    "# df.head()"
   ]
  },
  {
   "cell_type": "code",
   "execution_count": 22,
   "id": "18d82e68",
   "metadata": {
    "ExecuteTime": {
     "end_time": "2022-09-13T06:07:42.640859Z",
     "start_time": "2022-09-13T06:07:42.624868Z"
    },
    "hidden": true
   },
   "outputs": [],
   "source": [
    "# #DONE(preivously): plot given log-file result over the original annihilation rates\n",
    "# #plot the best fits when a>0\n",
    "# plt.plot(q_values_fk,what_values_fk,'--',c='C0',label=f'_Fit to FK',alpha=1,lw=2)\n",
    "# plt.plot(q_values_lr,what_values_lr,'--',c='C1',label=f'_Fit to LR',alpha=1,lw=2)\n"
   ]
  },
  {
   "cell_type": "code",
   "execution_count": 23,
   "id": "d6204061",
   "metadata": {
    "ExecuteTime": {
     "end_time": "2022-09-13T06:07:42.660534Z",
     "start_time": "2022-09-13T06:07:42.642486Z"
    },
    "hidden": true
   },
   "outputs": [],
   "source": [
    "# use_loglog=True\n",
    "# df.plot.scatter(x='q',y='w',alpha=0.7)\n",
    "# format_plot(ax=plt.gca(),xlabel=r'q (1/cm$^2$)',ylabel=r'w (Hz/cm$^2$)',fontsize=18,use_loglog=use_loglog)\n",
    "# plt.xlim([0.1,4])\n",
    "# plt.ylim([0.1,100])\n",
    "# # plt.xlim([0.1,1])\n",
    "# # plt.ylim([0.1,800])\n",
    "# plt.show()"
   ]
  },
  {
   "cell_type": "code",
   "execution_count": 24,
   "id": "961f896c",
   "metadata": {
    "ExecuteTime": {
     "end_time": "2022-09-13T06:07:42.680485Z",
     "start_time": "2022-09-13T06:07:42.662046Z"
    },
    "hidden": true
   },
   "outputs": [],
   "source": [
    "#DONT: use search_for_file() #demon function! avoid! crashes meh terminal cli!\n",
    "#DONE: abstracted parsing of attractive output to .csv\n",
    "# input_folder=f\"../data\"\n",
    "# input_fn='example.log'\n",
    "# os.chdir(input_folder)\n",
    "# assert (os.path.exists(input_fn))\n",
    "# df=parse_output_log(input_fn, include_inputs=False, printing=True)\n",
    "#get last input_fn listed for run_num\n"
   ]
  }
 ],
 "metadata": {
  "kernelspec": {
   "display_name": "Python 3 (ipykernel)",
   "language": "python",
   "name": "python3"
  },
  "language_info": {
   "codemirror_mode": {
    "name": "ipython",
    "version": 3
   },
   "file_extension": ".py",
   "mimetype": "text/x-python",
   "name": "python",
   "nbconvert_exporter": "python",
   "pygments_lexer": "ipython3",
   "version": "3.9.13"
  },
  "toc": {
   "base_numbering": 1,
   "nav_menu": {},
   "number_sections": true,
   "sideBar": true,
   "skip_h1_title": false,
   "title_cell": "Table of Contents",
   "title_sidebar": "Contents",
   "toc_cell": false,
   "toc_position": {},
   "toc_section_display": true,
   "toc_window_display": false
  },
  "varInspector": {
   "cols": {
    "lenName": 16,
    "lenType": 16,
    "lenVar": 40
   },
   "kernels_config": {
    "python": {
     "delete_cmd_postfix": "",
     "delete_cmd_prefix": "del ",
     "library": "var_list.py",
     "varRefreshCmd": "print(var_dic_list())"
    },
    "r": {
     "delete_cmd_postfix": ") ",
     "delete_cmd_prefix": "rm(",
     "library": "var_list.r",
     "varRefreshCmd": "cat(var_dic_list()) "
    }
   },
   "types_to_exclude": [
    "module",
    "function",
    "builtin_function_or_method",
    "instance",
    "_Feature"
   ],
   "window_display": false
  }
 },
 "nbformat": 4,
 "nbformat_minor": 5
}
