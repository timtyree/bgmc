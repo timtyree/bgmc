{
 "cells": [
  {
   "cell_type": "markdown",
   "id": "e432c3a3",
   "metadata": {},
   "source": [
    "# computing error of linear particle annihilation rate to that of the full models (gpu-accelerated)\n",
    "Tim Tyree<br>\n",
    "9.12..2022"
   ]
  },
  {
   "cell_type": "code",
   "execution_count": 1,
   "id": "b46871d6",
   "metadata": {
    "ExecuteTime": {
     "end_time": "2022-09-15T02:40:50.520251Z",
     "start_time": "2022-09-15T02:40:48.690812Z"
    }
   },
   "outputs": [
    {
     "name": "stdout",
     "output_type": "stream",
     "text": [
      "The autoreload extension is already loaded. To reload it, use:\n",
      "  %reload_ext autoreload\n"
     ]
    }
   ],
   "source": [
    "from lib.my_initialization import *\n",
    "from lib import *\n",
    "#from lib.lib_care.measure.level_sets import comp_longest_level_set_and_smooth\n",
    "%load_ext autoreload\n",
    "%autoreload 2\n",
    "\n",
    "import random,scipy\n",
    "from scipy.interpolate import LinearNDInterpolator\n",
    "from scipy.interpolate import CloughTocher2DInterpolator\n",
    "from scipy.optimize import minimize\n",
    "#load libraries for color bar\n",
    "import matplotlib as mpl #for colorbar\n",
    "from matplotlib.cm import ScalarMappable\n",
    "import matplotlib.colors as colors\n",
    "import matplotlib.cbook as cbook\n",
    "from matplotlib import cm\n",
    "#def plotter_3dpoint_cloud_sample(az,...):\n",
    "from scipy import stats\n",
    "#DONE: hook this routine up to dask\n",
    "#DONT: hook this routine up to dask_cuda\n",
    "# import scanpy as sc\n",
    "darkmode=False\n",
    "if darkmode:\n",
    "    # For darkmode plots\n",
    "    from jupyterthemes import jtplot\n",
    "    jtplot.style(theme='monokai', context='notebook', ticks=True, grid=False)\n",
    "#     theme=cuxfilter.themes.dark\n",
    "#     #     theme=cuxfilter.themes.rapids\n",
    "else:\n",
    "    sns.set_style('white')\n",
    "#     theme=cuxfilter.themes.light\n",
    "import warnings\n",
    "warnings.simplefilter(\"ignore\", UserWarning)\n",
    "%load_ext autoreload\n",
    "%autoreload 2\n",
    "# import cupy as cp\n",
    "np.random.seed(42)\n",
    "# cp.random.seed(42)"
   ]
  },
  {
   "cell_type": "code",
   "execution_count": 2,
   "id": "3c324a5e",
   "metadata": {
    "ExecuteTime": {
     "end_time": "2022-09-15T02:40:50.542649Z",
     "start_time": "2022-09-15T02:40:50.522474Z"
    }
   },
   "outputs": [],
   "source": [
    "#reset matplotlib settings\n",
    "from mpltools import annotation\n",
    "import matplotlib as mpl\n",
    "sns.reset_orig()\n",
    "mpl.rc_file_defaults()"
   ]
  },
  {
   "cell_type": "markdown",
   "id": "3ce5b75c",
   "metadata": {
    "ExecuteTime": {
     "end_time": "2022-09-13T21:59:31.158017Z",
     "start_time": "2022-09-13T21:59:31.080104Z"
    }
   },
   "source": [
    "# define module"
   ]
  },
  {
   "cell_type": "code",
   "execution_count": 3,
   "id": "b2f802de",
   "metadata": {
    "ExecuteTime": {
     "end_time": "2022-09-15T02:40:50.570082Z",
     "start_time": "2022-09-15T02:40:50.544167Z"
    }
   },
   "outputs": [],
   "source": [
    "def routine_measure_annihilation_error_function_linear_to_full(input_folder,max_num_jobs=8,\n",
    "        printing=True,testing=True,**kwargs):\n",
    "    \"\"\"\n",
    "    Example Usage:\n",
    "input_folder=f'/home/timothytyree/Documents/GitHub/bgmc/python/data/osg_output/run_{run_num}_all'\n",
    "df_defects_fk,df_defects_lr = routine_measure_annihilation_error_function_linear_to_full(input_folder=input_folder,max_num_jobs=8,printing=True,testing=True)#,**kwargs)\n",
    "    \"\"\"\n",
    "    os.chdir(input_folder)\n",
    "    task_lst = [os.path.abspath(input_fn) for input_fn in os.listdir()]\n",
    "    if printing:\n",
    "        print(f\"{input_folder=}\")\n",
    "        print(f\"added {len(task_lst)} tasks to queue!\")\n",
    "\n",
    "    def routine_(task):\n",
    "        try:\n",
    "            input_fn = task\n",
    "            df,dict_linear = routine_measure_annihilation_defect(input_fn,printing=True)#,**kwargs)\n",
    "            if dict_linear is None:\n",
    "                return None\n",
    "            #dict_linear['folder'] = os.path.basename(input_fn) #strings are relatively expensive at these scales...\n",
    "            dict_defects_fk,dict_defects_lr = parse_dict_linear_to_row(dic = dict_linear)\n",
    "            return dict_defects_fk,dict_defects_lr\n",
    "        except Exception as e:\n",
    "            return f\"Warning: {e} for {task=}\"\n",
    "\n",
    "    if testing:\n",
    "        input_fn = task_lst[0]\n",
    "        df,dict_linear = routine_measure_annihilation_defect(input_fn,printing=True)#,**kwargs)\n",
    "        if printing:\n",
    "            print(f\"computed defect for mean annihilation rates of {dict_linear['job_index']=} in {dict_linear['cluster_index']=}:\")\n",
    "            col_lst=['varkappa','D','r','kappa','L']\n",
    "            for col in col_lst:\n",
    "                val=df[col].min()\n",
    "                print(f\"{col}: {val}\")\n",
    "            print(F\"{df.shape=}\")\n",
    "            print(f\"\\nkeys available in dict_linear:\")\n",
    "            print(*dict_linear)\n",
    "            print(f\"apparent defects/errors:\")\n",
    "            print(f\"rmse_fk: {dict_linear['dict_defects_fk']['rmse']:.4f}\")\n",
    "            print(f\"loglik_fk: {dict_linear['dict_defects_fk']['log_likelihood']:.4f}\")\n",
    "            print(f\"rmse_lr: {dict_linear['dict_defects_lr']['rmse']:.4f}\")\n",
    "            print(f\"loglik_lr: {dict_linear['dict_defects_lr']['log_likelihood']:.4f}\")\n",
    "\n",
    "    #save the defects as a complicated hierarchical dataset\n",
    "    #optionally, run daskbag\n",
    "    os.chdir(nb_dir)\n",
    "    npartitions=np.min((len(task_lst),max_num_jobs))\n",
    "    # if use_generate_annihilation_defect_table:\n",
    "    if printing:\n",
    "        print(f\"running {len(task_lst)} tasks over {npartitions} cpu cores (140775 tasks over 4 cpu cores took <9.5?? minutes)...\")\n",
    "    retval=eval_routine_daskbag(routine_,task_lst,npartitions,printing=printing)\n",
    "    if printing:\n",
    "        print(f\"tasks complete!\")\n",
    "\n",
    "    #format results\n",
    "    dict_defects_fk_lst=[]\n",
    "    dict_defects_lr_lst=[]\n",
    "    for rv in retval:\n",
    "        if type(rv)==type(''):\n",
    "            print(rv)\n",
    "        elif rv is not None:\n",
    "            dict_defects_fk,dict_defects_lr = rv\n",
    "            dict_defects_fk_lst.append(dict_defects_fk)\n",
    "            dict_defects_lr_lst.append(dict_defects_lr)\n",
    "    df_defects_fk = pd.DataFrame(dict_defects_fk_lst)\n",
    "    df_defects_lr = pd.DataFrame(dict_defects_lr_lst)\n",
    "    return df_defects_fk,df_defects_lr\n"
   ]
  },
  {
   "cell_type": "markdown",
   "id": "73b74bd5",
   "metadata": {},
   "source": [
    "# evaluate measurement routine"
   ]
  },
  {
   "cell_type": "markdown",
   "id": "24154190",
   "metadata": {
    "ExecuteTime": {
     "end_time": "2022-09-13T22:23:37.362129Z",
     "start_time": "2022-09-13T22:23:37.330356Z"
    }
   },
   "source": [
    "__log-likliehood for linear regression:__\n",
    "\n",
    "$$\n",
    "L(b_0,b_1,s^2) = \\log \\Pi_{i=1}^n p(y_i | x_i; b_0,b_1,s^2)\n",
    "$$\n",
    "$$...$$\n",
    "$$\n",
    "L(b_0,b_1,s^2) = -\\frac{n}{2}\\log 2\\pi - n\\log s -\\frac{1}{2s^2}\\sum_{i=1}^n(y_i - (b_0 +b_1x_i))^2\n",
    "$$\n",
    "maximum likelihood estimate of s is the root mean squared error, (RMSE). <br> src: `\\https://www.stat.cmu.edu/~cshalizi/mreg/15/lectures/06/lecture-06.pdf/`.\n",
    "\n",
    "- DONE: use it over dask with 100 tasks\n",
    "- DONE: use it over dask with 1000 tasks\n",
    "- DONE: use it over dask with all available tasks"
   ]
  },
  {
   "cell_type": "code",
   "execution_count": 7,
   "id": "a0973468",
   "metadata": {
    "ExecuteTime": {
     "end_time": "2022-09-15T02:59:40.435900Z",
     "start_time": "2022-09-15T02:59:40.416126Z"
    }
   },
   "outputs": [],
   "source": [
    "max_num_jobs=8\n",
    "printing=True\n",
    "saving=True"
   ]
  },
  {
   "cell_type": "code",
   "execution_count": 8,
   "id": "7c44b6fc",
   "metadata": {
    "ExecuteTime": {
     "end_time": "2022-09-15T03:00:23.855914Z",
     "start_time": "2022-09-15T02:59:40.740394Z"
    }
   },
   "outputs": [
    {
     "name": "stdout",
     "output_type": "stream",
     "text": [
      "parquet_dir_defects_fk='/home/timothytyree/Documents/GitHub/bgmc/python/data/osg_output/run_27_defects_to_fk.parquet'\n",
      "parquet_dir_defects_lr='/home/timothytyree/Documents/GitHub/bgmc/python/data/osg_output/run_27_defects_to_lr.parquet'\n"
     ]
    }
   ],
   "source": [
    "#estimated runtime = 1.25 hours for \n",
    "output_dir_fk_lst=[]\n",
    "output_dir_lr_lst=[]\n",
    "# for run_num in reversed(range(27)):\n",
    "for run_num in [27]:\n",
    "    #compute the defects\n",
    "    input_folder=f'/home/timothytyree/Documents/GitHub/bgmc/python/data/osg_output/run_{run_num}_all'\n",
    "    df_defects_fk,df_defects_lr = routine_measure_annihilation_error_function_linear_to_full(input_folder=input_folder,max_num_jobs=max_num_jobs,printing=False,testing=False)#,**kwargs)\n",
    "    #save loss measurements as .parquet <15 MB per full model\n",
    "    if saving:\n",
    "        parquet_dir_defects_fk=f'/home/timothytyree/Documents/GitHub/bgmc/python/data/osg_output/run_{run_num}_defects_to_fk.parquet'\n",
    "        df_defects_fk.to_parquet(parquet_dir_defects_fk)\n",
    "        parquet_dir_defects_lr=f'/home/timothytyree/Documents/GitHub/bgmc/python/data/osg_output/run_{run_num}_defects_to_lr.parquet'\n",
    "        df_defects_lr.to_parquet(parquet_dir_defects_lr)\n",
    "        print(f\"{parquet_dir_defects_fk=}\")\n",
    "        print(f\"{parquet_dir_defects_lr=}\")\n",
    "    #record\n",
    "    output_dir_fk_lst.append(parquet_dir_defects_fk)\n",
    "    output_dir_lr_lst.append(parquet_dir_defects_lr)\n",
    "    "
   ]
  },
  {
   "cell_type": "code",
   "execution_count": 89,
   "id": "2f4bcda9",
   "metadata": {
    "ExecuteTime": {
     "end_time": "2022-09-14T00:37:06.700025Z",
     "start_time": "2022-09-14T00:37:06.675027Z"
    }
   },
   "outputs": [
    {
     "data": {
      "text/plain": [
       "22"
      ]
     },
     "execution_count": 89,
     "metadata": {},
     "output_type": "execute_result"
    }
   ],
   "source": [
    "len(output_dir_fk_lst)"
   ]
  },
  {
   "cell_type": "markdown",
   "id": "74446eb2",
   "metadata": {},
   "source": [
    "# visualize best settings by $a_{max}$ for one data run:"
   ]
  },
  {
   "cell_type": "code",
   "execution_count": 142,
   "id": "71092e0b",
   "metadata": {
    "ExecuteTime": {
     "end_time": "2022-09-14T01:17:44.228597Z",
     "start_time": "2022-09-14T01:17:43.592627Z"
    }
   },
   "outputs": [
    {
     "name": "stdout",
     "output_type": "stream",
     "text": [
      "parameter range supported in run #18:\n",
      "                 r    kappa        D     varkappa      amax        L\n",
      "min        0.06065    100.0      0.0      1.60188      1.65     10.0\n",
      "max        0.30876   1000.0      0.8     28.58740     28.59     10.0\n",
      "count  17853.00000  17853.0  17853.0  17853.00000  17853.00  17853.0\n",
      "\n",
      "*******************************\n",
      "* Fenton-Karma Model (best settings):\n",
      "*******************************\n",
      "amax=1.6500, rmse_min=0.0957, log_likelihood=106.3476, count=3\n",
      "amax=1.6700, rmse_min=0.0872, log_likelihood=121.5565, count=2\n",
      "amax=1.7200, rmse_min=0.0671, log_likelihood=128.7981, count=10\n",
      "amax=2.5000, rmse_min=0.0641, log_likelihood=136.1063, count=23\n",
      "amax=2.8900, rmse_min=0.0617, log_likelihood=126.4161, count=29\n",
      "\n",
      "*******************************\n",
      "* Luo-Rudy Model (best settings):\n",
      "*******************************\n",
      "amax=1.6500, rmse_min=2.8715, log_likelihood=-90.9284, count=3\n",
      "amax=1.6900, rmse_min=2.8023, log_likelihood=-89.8021, count=5\n",
      "amax=1.7300, rmse_min=2.7719, log_likelihood=-89.0615, count=6\n",
      "amax=1.7600, rmse_min=2.5838, log_likelihood=-85.8147, count=10\n",
      "amax=1.9100, rmse_min=2.5494, log_likelihood=-85.4087, count=13\n",
      "amax=2.0400, rmse_min=2.5447, log_likelihood=-84.8996, count=26\n",
      "amax=2.2900, rmse_min=2.4865, log_likelihood=-78.1305, count=18\n",
      "amax=2.4300, rmse_min=2.4150, log_likelihood=-75.6724, count=32\n",
      "amax=2.6200, rmse_min=2.3405, log_likelihood=-73.2632, count=12\n",
      "amax=2.7100, rmse_min=2.3066, log_likelihood=-71.9297, count=17\n",
      "amax=2.8500, rmse_min=2.3046, log_likelihood=-71.2311, count=11\n",
      "amax=2.9100, rmse_min=2.1645, log_likelihood=-67.7082, count=18\n",
      "amax=3.0300, rmse_min=2.0867, log_likelihood=-64.7662, count=16\n",
      "amax=3.2500, rmse_min=1.9719, log_likelihood=-61.5695, count=8\n",
      "amax=3.2800, rmse_min=1.8594, log_likelihood=-58.5636, count=5\n",
      "amax=3.3400, rmse_min=1.8473, log_likelihood=-57.3853, count=11\n",
      "amax=3.3600, rmse_min=1.8456, log_likelihood=-60.8436, count=4\n",
      "amax=3.5200, rmse_min=1.7551, log_likelihood=-54.2771, count=11\n",
      "amax=3.5800, rmse_min=1.7384, log_likelihood=-57.0744, count=12\n",
      "amax=3.7600, rmse_min=1.6912, log_likelihood=-51.6751, count=5\n",
      "amax=3.7900, rmse_min=1.4912, log_likelihood=-45.5866, count=5\n",
      "amax=4.0000, rmse_min=1.4582, log_likelihood=-48.8491, count=10\n",
      "amax=4.3600, rmse_min=1.1903, log_likelihood=-37.1624, count=5\n",
      "amax=4.5200, rmse_min=1.1556, log_likelihood=-33.5305, count=6\n",
      "amax=4.6200, rmse_min=1.0863, log_likelihood=-32.8345, count=6\n",
      "amax=4.9900, rmse_min=1.0012, log_likelihood=-27.8562, count=15\n",
      "amax=5.0200, rmse_min=0.7824, log_likelihood=-22.0299, count=2\n",
      "amax=5.1900, rmse_min=0.6500, log_likelihood=-15.4189, count=11\n",
      "amax=5.7300, rmse_min=0.6015, log_likelihood=-13.4826, count=25\n",
      "amax=5.8200, rmse_min=0.3956, log_likelihood=3.0372, count=13\n",
      "amax=5.9600, rmse_min=0.3369, log_likelihood=5.9643, count=14\n",
      "amax=6.1400, rmse_min=0.3076, log_likelihood=10.6472, count=9\n",
      "amax=6.3200, rmse_min=0.1987, log_likelihood=11.4061, count=26\n",
      "amax=6.6900, rmse_min=0.1926, log_likelihood=16.3388, count=12\n",
      "amax=6.8100, rmse_min=0.1633, log_likelihood=19.9251, count=18\n",
      "amax=6.8900, rmse_min=0.1509, log_likelihood=22.9981, count=30\n",
      "amax=7.2500, rmse_min=0.1358, log_likelihood=31.7365, count=19\n",
      "amax=7.3200, rmse_min=0.1313, log_likelihood=29.2679, count=11\n",
      "amax=7.4100, rmse_min=0.1279, log_likelihood=41.5711, count=19\n",
      "amax=7.5200, rmse_min=0.1103, log_likelihood=38.3988, count=20\n",
      "amax=7.6500, rmse_min=0.1068, log_likelihood=41.2072, count=11\n",
      "amax=8.0800, rmse_min=0.1022, log_likelihood=48.6311, count=9\n",
      "amax=8.1200, rmse_min=0.1017, log_likelihood=45.0379, count=17\n",
      "amax=8.4300, rmse_min=0.1011, log_likelihood=58.3010, count=16\n",
      "amax=8.7900, rmse_min=0.0968, log_likelihood=61.0501, count=11\n",
      "amax=8.8700, rmse_min=0.0967, log_likelihood=54.2435, count=8\n",
      "amax=9.1400, rmse_min=0.0961, log_likelihood=61.3366, count=19\n",
      "amax=9.4300, rmse_min=0.0923, log_likelihood=66.1027, count=43\n",
      "amax=9.8100, rmse_min=0.0876, log_likelihood=78.2941, count=33\n",
      "amax=10.1500, rmse_min=0.0852, log_likelihood=74.5710, count=38\n",
      "amax=11.0600, rmse_min=0.0835, log_likelihood=84.1053, count=17\n",
      "amax=11.1300, rmse_min=0.0819, log_likelihood=85.7542, count=16\n",
      "amax=11.2600, rmse_min=0.0812, log_likelihood=92.9022, count=23\n",
      "amax=13.5700, rmse_min=0.0714, log_likelihood=117.5222, count=7\n",
      "amax=15.1700, rmse_min=0.0661, log_likelihood=124.2667, count=9\n",
      "amax=15.4500, rmse_min=0.0568, log_likelihood=123.4538, count=6\n"
     ]
    }
   ],
   "source": [
    "# run_num=12\n",
    "# run_num=17\n",
    "run_num=18 #best so far\n",
    "# run_num=19\n",
    "# run_num=20\n",
    "# run_num=21\n",
    "# run_num=22\n",
    "# run_num=23\n",
    "# run_num=24\n",
    "# run_num=25  #good for both\n",
    "# run_num=26  #\n",
    "# parquet_dir_defects_fk='/home/timothytyree/Documents/GitHub/bgmc/python/data/osg_output/run_26_defects_to_fk.parquet'\n",
    "# parquet_dir_defects_lr='/home/timothytyree/Documents/GitHub/bgmc/python/data/osg_output/run_26_defects_to_lr.parquet'\n",
    "parquet_dir_defects_fk=f'/home/timothytyree/Documents/GitHub/bgmc/python/data/osg_output/run_{run_num}_defects_to_fk.parquet'\n",
    "parquet_dir_defects_lr=f'/home/timothytyree/Documents/GitHub/bgmc/python/data/osg_output/run_{run_num}_defects_to_lr.parquet'\n",
    "df_defects_fk=pd.read_parquet(parquet_dir_defects_fk)\n",
    "df_defects_lr=pd.read_parquet(parquet_dir_defects_lr)\n",
    "df_defects_lr.shape\n",
    "\n",
    "#compute for each member a=amax-2*D\n",
    "num_digits_round=2\n",
    "#add columns for amax\n",
    "df_defects_fk['amax'] = np.around(df_defects_fk['varkappa'] + 2.*df_defects_fk['D'],num_digits_round)\n",
    "df_defects_lr['amax'] = np.around(df_defects_lr['varkappa'] + 2.*df_defects_lr['D'],num_digits_round)\n",
    "\n",
    "print(f\"parameter range supported in run #{run_num}:\")\n",
    "print(df_defects_lr.describe()[['r','kappa','D','varkappa','amax','L']].T[['min','max','count']].T)\n",
    "\n",
    "#identify the lowest error simulation for each amax value\n",
    "print(f\"\\n*******************************\")\n",
    "print(f\"* Fenton-Karma Model (best settings):\")\n",
    "print(f\"*******************************\")\n",
    "minrmse=9999.\n",
    "for amax,g in df_defects_fk.groupby(by='amax'):\n",
    "    rmse_min = g['rmse'].min()\n",
    "    count = g['rmse'].count()\n",
    "    log_likelihood = g['log_likelihood'].max()\n",
    "    if rmse_min<=minrmse:\n",
    "        minrmse=rmse_min\n",
    "        print(f\"{amax=:.4f}, {rmse_min=:.4f}, {log_likelihood=:.4f}, {count=}\")\n",
    "    \n",
    "\n",
    "#identify the lowest error simulation for each amax value\n",
    "print(f\"\\n*******************************\")\n",
    "print(f\"* Luo-Rudy Model (best settings):\")\n",
    "print(f\"*******************************\")\n",
    "minrmse=9999.\n",
    "for amax,g in df_defects_lr.groupby(by='amax'):\n",
    "    rmse_min = g['rmse'].min()\n",
    "    count = g['rmse'].count()\n",
    "    log_likelihood = g['log_likelihood'].max()\n",
    "    if rmse_min<=minrmse:\n",
    "        minrmse=rmse_min\n",
    "        print(f\"{amax=:.4f}, {rmse_min=:.4f}, {log_likelihood=:.4f}, {count=}\")\n",
    "    \n"
   ]
  },
  {
   "cell_type": "code",
   "execution_count": 138,
   "id": "1ffd24e2",
   "metadata": {
    "ExecuteTime": {
     "end_time": "2022-09-14T01:06:12.555202Z",
     "start_time": "2022-09-14T01:06:12.532319Z"
    }
   },
   "outputs": [],
   "source": [
    "# rmse_min"
   ]
  },
  {
   "cell_type": "markdown",
   "id": "c6bffbfa",
   "metadata": {},
   "source": [
    "# plot the best fit for either of the full models"
   ]
  },
  {
   "cell_type": "code",
   "execution_count": 144,
   "id": "f0eb28b1",
   "metadata": {
    "ExecuteTime": {
     "end_time": "2022-09-14T01:18:30.141331Z",
     "start_time": "2022-09-14T01:18:30.107634Z"
    }
   },
   "outputs": [],
   "source": [
    "input_folder = f'/home/timothytyree/Documents/GitHub/bgmc/python/data/osg_output/run_{run_num}_all'"
   ]
  },
  {
   "cell_type": "code",
   "execution_count": 145,
   "id": "4b1dd341",
   "metadata": {
    "ExecuteTime": {
     "end_time": "2022-09-14T01:18:30.908186Z",
     "start_time": "2022-09-14T01:18:30.853325Z"
    }
   },
   "outputs": [
    {
     "name": "stdout",
     "output_type": "stream",
     "text": [
      "best fit for LR has RMSE: 5.7485 (FK), 0.0568 (LR)\n",
      "parameter settings of linear particle model fit to LR (amax=12.4302):\n",
      "N=10.0\n",
      "CollTime=0.000594\n",
      "r=0.30405\n",
      "D=0.75551\n",
      "L=10.0\n",
      "kappa=100.0\n",
      "varkappa=13.9412\n",
      "x0=0.0\n",
      "dt=1e-05\n",
      "Dt=1e-05\n",
      "niter=1500.0\n",
      "reflect=1.0\n",
      "set_second=0.0\n",
      "no_repulsion=0.0\n",
      "no_attraction=0.0\n",
      "neighbor=0.0\n",
      "force_code=2.0\n",
      "q=0.1\n",
      "w=0.3455544421023532\n",
      "src: /home/timothytyree/Documents/GitHub/bgmc/python/data/osg_output/run_18_all/job.out.16106771.11591\n"
     ]
    }
   ],
   "source": [
    "#DONE: find best simulation for the LR model so far\n",
    "cluster_index,job_index = df_defects_lr[df_defects_lr['rmse'] == df_defects_lr['rmse'].min()][['cluster_index','job_index']].values.T\n",
    "input_fn = os.path.join(input_folder,f\"job.out.{int(cluster_index)}.{int(job_index)}\")\n",
    "assert os.path.exists(input_fn)\n",
    "\n",
    "df_fit_lr,dict_linear_fit_lr = routine_measure_annihilation_defect(input_fn,printing=True)#,**kwargs)\n",
    "dict_defects_fk,dict_defects_lr = parse_dict_linear_to_row(dic = dict_linear_fit_lr)\n",
    "print(f\"best fit for LR has RMSE: {dict_defects_fk['rmse']:.4f} (FK), {dict_defects_lr['rmse']:.4f} (LR)\")\n",
    "dict_defects_fk\n",
    "amax=-dict_linear_fit_lr['dict_min']['D']*2+dict_linear_fit_lr['dict_min']['varkappa']\n",
    "print(f\"parameter settings of linear particle model fit to LR ({amax=:.4f}):\")\n",
    "print_dict(dict_linear_fit_lr['dict_min'])\n",
    "print(f\"src: {input_fn}\")"
   ]
  },
  {
   "cell_type": "code",
   "execution_count": 146,
   "id": "269d4d13",
   "metadata": {
    "ExecuteTime": {
     "end_time": "2022-09-14T01:18:35.102779Z",
     "start_time": "2022-09-14T01:18:35.066281Z"
    }
   },
   "outputs": [
    {
     "name": "stdout",
     "output_type": "stream",
     "text": [
      "best fit for FK has RMSE: 0.0617 (FK), 3.0007 (LR)\n",
      "parameter settings of linear particle model fit to FK (amax=0.4855):\n",
      "N=10.0\n",
      "CollTime=0.001779\n",
      "r=0.17958\n",
      "D=0.60176\n",
      "L=10.0\n",
      "kappa=100.0\n",
      "varkappa=1.68904\n",
      "x0=0.0\n",
      "dt=1e-05\n",
      "Dt=1e-05\n",
      "niter=1500.0\n",
      "reflect=1.0\n",
      "set_second=0.0\n",
      "no_repulsion=0.0\n",
      "no_attraction=0.0\n",
      "neighbor=0.0\n",
      "force_code=2.0\n",
      "q=0.1\n",
      "w=0.057539716789513966\n",
      "src: /home/timothytyree/Documents/GitHub/bgmc/python/data/osg_output/run_18_all/job.out.16106771.15074\n"
     ]
    }
   ],
   "source": [
    "#DONE: find best simulation for the FK model so far\n",
    "cluster_index,job_index = df_defects_fk[df_defects_fk['rmse'] == df_defects_fk['rmse'].min()][['cluster_index','job_index']].values.T\n",
    "input_fn = os.path.join(input_folder,f\"job.out.{int(cluster_index)}.{int(job_index)}\")\n",
    "assert os.path.exists(input_fn)\n",
    "\n",
    "df_fit_fk,dict_linear_fit_fk = routine_measure_annihilation_defect(input_fn,printing=True)#,**kwargs)\n",
    "dict_defects_fk,dict_defects_lr = parse_dict_linear_to_row(dic = dict_linear_fit_fk)\n",
    "print(f\"best fit for FK has RMSE: {dict_defects_fk['rmse']:.4f} (FK), {dict_defects_lr['rmse']:.4f} (LR)\")\n",
    "# dict_defects_fk\n",
    "\n",
    "amax=-dict_linear_fit_fk['dict_min']['D']*2+dict_linear_fit_fk['dict_min']['varkappa']\n",
    "print(f\"parameter settings of linear particle model fit to FK ({amax=:.4f}):\")\n",
    "print_dict(dict_linear_fit_fk['dict_min'])\n",
    "print(f\"src: {input_fn}\")"
   ]
  },
  {
   "cell_type": "code",
   "execution_count": 147,
   "id": "99307da9",
   "metadata": {
    "ExecuteTime": {
     "end_time": "2022-09-14T01:18:36.436576Z",
     "start_time": "2022-09-14T01:18:35.913257Z"
    }
   },
   "outputs": [
    {
     "data": {
      "image/png": "[encoded data removed]",
      "text/plain": [
       "<Figure size 600x400 with 1 Axes>"
      ]
     },
     "metadata": {},
     "output_type": "display_data"
    }
   ],
   "source": [
    "#plot the original annihilation rates\n",
    "dict_wjr = recall_death_rates_vidmar_rappel()\n",
    "fk=dict_wjr['fk']\n",
    "lr=dict_wjr['lr']\n",
    "figsize = (6, 4)  #(5,4)\n",
    "fontsize=18\n",
    "fig, ax = plt.subplots(figsize=figsize)\n",
    "df_fit_fk.plot(x='q',y='w',alpha=0.7,ax=ax,color='C0',label='_Best Fit to FK')\n",
    "df_fit_lr.plot(x='q',y='w',alpha=0.7,ax=ax,color='C1',label='_Best Fit to LR')\n",
    "ax = plot_death_rates_loglog_full(fk,lr,ax=ax,fontsize=fontsize)\n",
    "ax.legend(loc='upper left',fontsize=fontsize-2)\n",
    "#add annotation\n",
    "# xy=(0.3, 11)\n",
    "# xytext=(0.09, 10)\n",
    "#ax.annotate(r\"best fit ($a>0$)\", xy=xy, xytext=xytext,fontsize=fontsize)\n",
    "#add marker showing the slope of ~2\n",
    "# annotation.slope_marker(origin=(2.3, 2.0),\n",
    "#                         slope=2,\n",
    "#                         text_kwargs={'color': 'black','fontsize':16, 'alpha':0.7},\n",
    "#                         poly_kwargs={'facecolor': (0.5, 0.5, 0.5), 'alpha':0.5},\n",
    "#                         ax=ax)\n",
    "plt.show()"
   ]
  },
  {
   "cell_type": "code",
   "execution_count": 110,
   "id": "1a05e599",
   "metadata": {
    "ExecuteTime": {
     "end_time": "2022-09-13T21:59:30.981782Z",
     "start_time": "2022-09-13T21:59:30.357579Z"
    }
   },
   "outputs": [
    {
     "name": "stdout",
     "output_type": "stream",
     "text": [
      "\u0007\u0007\u0007"
     ]
    },
    {
     "data": {
      "text/plain": [
       "0"
      ]
     },
     "execution_count": 110,
     "metadata": {},
     "output_type": "execute_result"
    }
   ],
   "source": [
    "beep(3)"
   ]
  },
  {
   "cell_type": "code",
   "execution_count": 106,
   "id": "1a23619b",
   "metadata": {
    "ExecuteTime": {
     "end_time": "2022-09-13T21:59:30.147620Z",
     "start_time": "2022-09-13T21:59:29.312283Z"
    }
   },
   "outputs": [
    {
     "name": "stdout",
     "output_type": "stream",
     "text": [
      "\u0007\u0007\u0007\u0007"
     ]
    },
    {
     "data": {
      "text/plain": [
       "0"
      ]
     },
     "execution_count": 106,
     "metadata": {},
     "output_type": "execute_result"
    }
   ],
   "source": [
    "beep(4)"
   ]
  },
  {
   "cell_type": "markdown",
   "id": "5fb5518b",
   "metadata": {},
   "source": [
    "# scratchwerk"
   ]
  },
  {
   "cell_type": "code",
   "execution_count": 104,
   "id": "6decf123",
   "metadata": {
    "ExecuteTime": {
     "end_time": "2022-09-13T21:59:00.839964Z",
     "start_time": "2022-09-13T21:59:00.822499Z"
    }
   },
   "outputs": [],
   "source": [
    "# # #compute the defects as rows for tables\n",
    "# # use_generate_annihilation_defect_table=True\n",
    "# # if use_generate_annihilation_defect_table:\n",
    "# #     from dask.distributed import Client, progress\n",
    "# #     client = Client(n_workers=4, threads_per_worker=1)\n",
    "# #     print(client)\n",
    "# #save the defects as a table (parquet is good)\n",
    "# print(f\"link to dask dashboard: {client.dashboard_link}\")"
   ]
  },
  {
   "cell_type": "code",
   "execution_count": 102,
   "id": "5799ea20",
   "metadata": {
    "ExecuteTime": {
     "end_time": "2022-09-13T21:59:00.112366Z",
     "start_time": "2022-09-13T21:59:00.069242Z"
    }
   },
   "outputs": [],
   "source": [
    "# load_cache=False\n",
    "# if load_cache:\n",
    "#     pkl_dir_defects='/home/timothytyree/Documents/GitHub/bgmc/python/data/osg_output/run_26_defects_to_full.pkl' #~200MB\n",
    "#     pdict=load_from_pickle(pkl_dir_defects)\n",
    "#     num_trials = len(list(pdict.keys()))\n",
    "#     print(f\"loaded defects from {num_trials} trials.\")"
   ]
  },
  {
   "cell_type": "code",
   "execution_count": 22,
   "id": "c5686c07",
   "metadata": {
    "ExecuteTime": {
     "end_time": "2022-09-13T22:44:30.078644Z",
     "start_time": "2022-09-13T22:44:29.425501Z"
    }
   },
   "outputs": [
    {
     "data": {
      "image/png": "[encoded data removed]",
      "text/plain": [
       "<Figure size 432x288 with 1 Axes>"
      ]
     },
     "metadata": {
      "needs_background": "light"
     },
     "output_type": "display_data"
    }
   ],
   "source": [
    "testing=True\n",
    "#plot the original annihilation rates\n",
    "dict_wjr = recall_death_rates_vidmar_rappel()\n",
    "fk=dict_wjr['fk']\n",
    "lr=dict_wjr['lr']\n",
    "figsize = (6, 4)  #(5,4)\n",
    "fontsize=18\n",
    "if testing:\n",
    "    #input_fn = task_lst[17]\n",
    "    fig, ax = plt.subplots(figsize=figsize)\n",
    "    df.plot(x='q',y='w',alpha=0.7,ax=ax,color='black',label='Linear Particle')\n",
    "    ax = plot_death_rates_loglog_full(fk,lr,ax=ax,fontsize=fontsize)\n",
    "    ax.legend(loc='upper left',fontsize=fontsize-2)\n",
    "    #add annotation\n",
    "    # xy=(0.3, 11)\n",
    "    # xytext=(0.09, 10)\n",
    "    #ax.annotate(r\"best fit ($a>0$)\", xy=xy, xytext=xytext,fontsize=fontsize)\n",
    "    #add marker showing the slope of ~2\n",
    "    annotation.slope_marker(origin=(2.3, 2.0),\n",
    "                            slope=2,\n",
    "                            text_kwargs={'color': 'black','fontsize':16, 'alpha':0.7},\n",
    "                            poly_kwargs={'facecolor': (0.5, 0.5, 0.5), 'alpha':0.5},#TODO: replace with purple\n",
    "                            ax=ax)\n",
    "    plt.show()"
   ]
  },
  {
   "cell_type": "code",
   "execution_count": 120,
   "id": "f231bf51",
   "metadata": {
    "ExecuteTime": {
     "end_time": "2022-09-13T22:02:24.179989Z",
     "start_time": "2022-09-13T22:02:24.161912Z"
    }
   },
   "outputs": [],
   "source": [
    "# input_fn=\"/home/timothytyree/Documents/GitHub/bgmc/python/data/osg_output/run_26_all/job.out.23278799.122997\"\n",
    "# input_fn=\"/home/timothytyree/Documents/GitHub/bgmc/python/data/osg_output/run_26_all/job.out.23278799.142139\"\n",
    "# input_fn=\"/home/timothytyree/Documents/GitHub/bgmc/python/data/osg_output/run_26_all/job.out.23278799.135362\"\n",
    "# df,dict_linear = routine_measure_annihilation_defect(input_fn,printing=True)#,**kwargs)"
   ]
  },
  {
   "cell_type": "markdown",
   "id": "ae9824f0",
   "metadata": {},
   "source": [
    "# visually investigate the defects"
   ]
  },
  {
   "cell_type": "markdown",
   "id": "d2c12726",
   "metadata": {
    "heading_collapsed": true
   },
   "source": [
    "# compute error/defect of a linear particle model annihilation rates wrt the full model"
   ]
  },
  {
   "cell_type": "markdown",
   "id": "8e00f99a",
   "metadata": {
    "hidden": true
   },
   "source": [
    "- DONE: Option 1: do it directly in a way that is impenetrable in argument\n",
    "- DONT: Option 2: do it lazily by copying the solution which i already said is flawed to wjr during our last excellent meeting...\n",
    "- DONE: evaluate over all such files"
   ]
  },
  {
   "cell_type": "code",
   "execution_count": 122,
   "id": "200a3b8f",
   "metadata": {
    "ExecuteTime": {
     "end_time": "2022-09-13T22:02:25.505969Z",
     "start_time": "2022-09-13T22:02:25.483650Z"
    },
    "hidden": true
   },
   "outputs": [],
   "source": [
    "# def routine(task):\n",
    "#     try:\n",
    "#         input_fn = task\n",
    "#         df,dict_linear = routine_measure_annihilation_defect(input_fn,printing=True)#,**kwargs)\n",
    "#         #dict_linear['folder'] = os.path.basename(input_fn) #strings are relatively expensive at these scales...\n",
    "#         return dict_linear\n",
    "#     except Exception as e:\n",
    "#         return f\"Warning: {e} for {task=}\""
   ]
  },
  {
   "cell_type": "code",
   "execution_count": 123,
   "id": "51c45ce1",
   "metadata": {
    "ExecuteTime": {
     "end_time": "2022-09-13T22:02:25.943192Z",
     "start_time": "2022-09-13T22:02:25.925678Z"
    },
    "hidden": true
   },
   "outputs": [],
   "source": [
    "# use_evaluate_annihilation_defects=False\n",
    "# if use_evaluate_annihilation_defects:\n",
    "#     from dask.distributed import Client, progress\n",
    "#     client = Client(n_workers=4, threads_per_worker=1)\n",
    "#     client"
   ]
  },
  {
   "cell_type": "code",
   "execution_count": 124,
   "id": "6020670b",
   "metadata": {
    "ExecuteTime": {
     "end_time": "2022-09-13T22:02:26.194360Z",
     "start_time": "2022-09-13T22:02:26.176249Z"
    },
    "hidden": true
   },
   "outputs": [],
   "source": [
    "# max_num_jobs=4\n",
    "# printing=True\n",
    "# saving=False\n",
    "# #optionally, run daskbag\n",
    "# os.chdir(nb_dir)\n",
    "# npartitions=np.min((len(task_lst),max_num_jobs))\n",
    "# if use_evaluate_annihilation_defects:\n",
    "#     if printing:\n",
    "#         print(f\"running {len(task_lst)} tasks over {npartitions} cpu cores (140775 tasks over 4 cpu cores took <7.5 minutes)...\")\n",
    "#     retval=eval_routine_daskbag(routine,task_lst,npartitions,printing=printing)\n",
    "#     if printing:\n",
    "#         print(f\"tasks complete!\")\n",
    "#     #format results\n",
    "#     dict_linear_lst=[]\n",
    "#     for rv in retval:\n",
    "#         if type(rv)==type(''):\n",
    "#             print(rv)\n",
    "#         else:\n",
    "#             dict_linear_lst.append(rv)\n",
    "#     if saving:\n",
    "#         #DONT: save the defects as a complicated hierarchical dataset\n",
    "#         pkl_dir_defects=f'/home/timothytyree/Documents/GitHub/bgmc/python/data/osg_output/run_{run_num}_defects_to_full.pkl'\n",
    "#         pdict=dict(zip(range(len(dict_linear_lst)),dict_linear_lst))\n",
    "#         save_to_pickle(pkl_dir_defects,pdict)\n",
    "#         print(f\"saved to\\n{pkl_dir_defects=}\")"
   ]
  },
  {
   "cell_type": "code",
   "execution_count": null,
   "id": "e71b4c2c",
   "metadata": {
    "hidden": true
   },
   "outputs": [],
   "source": []
  },
  {
   "cell_type": "markdown",
   "id": "008b9e8d",
   "metadata": {
    "heading_collapsed": true
   },
   "source": [
    "# DONE: completed task list"
   ]
  },
  {
   "cell_type": "code",
   "execution_count": null,
   "id": "4f1ff492",
   "metadata": {
    "ExecuteTime": {
     "end_time": "2022-09-13T21:37:34.510768Z",
     "start_time": "2022-09-13T21:37:34.510755Z"
    },
    "hidden": true
   },
   "outputs": [],
   "source": [
    "#DONE: (pre)compute w,q from the full model as a lookup table with linear lookups\n",
    "#DONE: for each row in df,\n",
    "##DONE: compute the squared error (se) to the FK model\n",
    "##DONE: compute the squared error (se) to the LR model\n",
    "#then,\n",
    "#DONE: wrap ^this into a function from df,wjr to df\n",
    "#DONE(later, if forloop is slow): daskbag over ^this for a disappointing speedup...\n",
    "#DONT(later, if cpu is slow): make ^this into a cudf function?\n",
    "##DONT(prereq): dev wjr_lookup_table from wjr, nah the raw data. looks undeniably like a powerlaw \n",
    "##DONT(prereq): test ^this works with Example Usage that computes the rmse to/from the FK/LR model (print a 2x2 matrix)\n",
    "##DONT: dev chunker / generator / something that returns with yield or yield from.\n",
    "##DONT: plug ^that into the identity function from df to df\n",
    "##DONT: modify the identity function to add fields for se_fk and se_lr for each row using wjr_lookup_table"
   ]
  },
  {
   "cell_type": "code",
   "execution_count": null,
   "id": "9d457b51",
   "metadata": {
    "ExecuteTime": {
     "end_time": "2022-09-13T21:37:34.512099Z",
     "start_time": "2022-09-13T21:37:34.512088Z"
    },
    "hidden": true
   },
   "outputs": [],
   "source": [
    "# df_defects_lr.to_parquet? >>\n",
    "# See Also\n",
    "# --------\n",
    "# read_parquet : Read a parquet file.\n",
    "# DataFrame.to_csv : Write a csv file.\n",
    "# DataFrame.to_sql : Write to a sql table.\n",
    "# DataFrame.to_hdf : Write to hdf."
   ]
  },
  {
   "cell_type": "markdown",
   "id": "2a5581f0",
   "metadata": {
    "heading_collapsed": true
   },
   "source": [
    "# DONT(later): dev analysis of powerfits"
   ]
  },
  {
   "cell_type": "code",
   "execution_count": null,
   "id": "c6963beb",
   "metadata": {
    "ExecuteTime": {
     "end_time": "2022-09-13T21:37:34.513104Z",
     "start_time": "2022-09-13T21:37:34.513094Z"
    },
    "hidden": true
   },
   "outputs": [],
   "source": [
    "# b = db.from_delayed([dask.delayed(range)(i) for i in [100000000] * 5])"
   ]
  },
  {
   "cell_type": "code",
   "execution_count": null,
   "id": "5c902f4e",
   "metadata": {
    "ExecuteTime": {
     "end_time": "2022-09-13T21:37:34.514622Z",
     "start_time": "2022-09-13T21:37:34.514591Z"
    },
    "hidden": true
   },
   "outputs": [],
   "source": [
    "# printing=True\n",
    "# if printing:\n",
    "#     print(f\"dict_linear contains the error of linear fit to full pair-annihilation rates:\")\n",
    "#     print_dict(dict_linear)\n",
    "#     print(f\"\\npowerlaw data for the {model_str} model:\")\n",
    "#     print(f\"{qlim_full=}\")\n",
    "#     print_dict(fit_full)"
   ]
  },
  {
   "cell_type": "code",
   "execution_count": null,
   "id": "4b427431",
   "metadata": {
    "ExecuteTime": {
     "end_time": "2022-09-13T21:37:34.515984Z",
     "start_time": "2022-09-13T21:37:34.515972Z"
    },
    "hidden": true
   },
   "outputs": [],
   "source": [
    "# powerlaw_fit_dir='/home/timothytyree/Documents/GitHub/bgmc/python/data/osg_output/run_26_all_powerlaw_fits.csv'\n",
    "# df=pd.read_csv(powerlaw_fit_dir)\n",
    "# print (f\"{df.shape=}\")\n",
    "# df.head()"
   ]
  },
  {
   "cell_type": "code",
   "execution_count": null,
   "id": "18d82e68",
   "metadata": {
    "ExecuteTime": {
     "end_time": "2022-09-13T21:37:34.517609Z",
     "start_time": "2022-09-13T21:37:34.517597Z"
    },
    "hidden": true
   },
   "outputs": [],
   "source": [
    "# #DONE(preivously): plot given log-file result over the original annihilation rates\n",
    "# #plot the best fits when a>0\n",
    "# plt.plot(q_values_fk,what_values_fk,'--',c='C0',label=f'_Fit to FK',alpha=1,lw=2)\n",
    "# plt.plot(q_values_lr,what_values_lr,'--',c='C1',label=f'_Fit to LR',alpha=1,lw=2)\n"
   ]
  },
  {
   "cell_type": "code",
   "execution_count": null,
   "id": "d6204061",
   "metadata": {
    "ExecuteTime": {
     "end_time": "2022-09-13T21:37:34.519027Z",
     "start_time": "2022-09-13T21:37:34.519017Z"
    },
    "hidden": true
   },
   "outputs": [],
   "source": [
    "# use_loglog=True\n",
    "# df.plot.scatter(x='q',y='w',alpha=0.7)\n",
    "# format_plot(ax=plt.gca(),xlabel=r'q (1/cm$^2$)',ylabel=r'w (Hz/cm$^2$)',fontsize=18,use_loglog=use_loglog)\n",
    "# plt.xlim([0.1,4])\n",
    "# plt.ylim([0.1,100])\n",
    "# # plt.xlim([0.1,1])\n",
    "# # plt.ylim([0.1,800])\n",
    "# plt.show()"
   ]
  },
  {
   "cell_type": "code",
   "execution_count": null,
   "id": "961f896c",
   "metadata": {
    "ExecuteTime": {
     "end_time": "2022-09-13T21:37:34.520026Z",
     "start_time": "2022-09-13T21:37:34.520016Z"
    },
    "hidden": true
   },
   "outputs": [],
   "source": [
    "#DONT: use search_for_file() #demon function! avoid! crashes meh terminal cli!\n",
    "#DONE: abstracted parsing of attractive output to .csv\n",
    "# input_folder=f\"../data\"\n",
    "# input_fn='example.log'\n",
    "# os.chdir(input_folder)\n",
    "# assert (os.path.exists(input_fn))\n",
    "# df=parse_output_log(input_fn, include_inputs=False, printing=True)\n",
    "#get last input_fn listed for run_num\n"
   ]
  }
 ],
 "metadata": {
  "kernelspec": {
   "display_name": "Python 3 (ipykernel)",
   "language": "python",
   "name": "python3"
  },
  "language_info": {
   "codemirror_mode": {
    "name": "ipython",
    "version": 3
   },
   "file_extension": ".py",
   "mimetype": "text/x-python",
   "name": "python",
   "nbconvert_exporter": "python",
   "pygments_lexer": "ipython3",
   "version": "3.9.13"
  },
  "toc": {
   "base_numbering": 1,
   "nav_menu": {},
   "number_sections": true,
   "sideBar": true,
   "skip_h1_title": false,
   "title_cell": "Table of Contents",
   "title_sidebar": "Contents",
   "toc_cell": false,
   "toc_position": {},
   "toc_section_display": true,
   "toc_window_display": false
  },
  "varInspector": {
   "cols": {
    "lenName": 16,
    "lenType": 16,
    "lenVar": 40
   },
   "kernels_config": {
    "python": {
     "delete_cmd_postfix": "",
     "delete_cmd_prefix": "del ",
     "library": "var_list.py",
     "varRefreshCmd": "print(var_dic_list())"
    },
    "r": {
     "delete_cmd_postfix": ") ",
     "delete_cmd_prefix": "rm(",
     "library": "var_list.r",
     "varRefreshCmd": "cat(var_dic_list()) "
    }
   },
   "types_to_exclude": [
    "module",
    "function",
    "builtin_function_or_method",
    "instance",
    "_Feature"
   ],
   "window_display": false
  }
 },
 "nbformat": 4,
 "nbformat_minor": 5
}
