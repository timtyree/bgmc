{
 "cells": [
  {
   "cell_type": "markdown",
   "metadata": {},
   "source": [
    "# analyzing the effect of a constant force with an inverse powerlaw attractive force\n",
    "Tim Tyree<br>\n",
    "8.11.2021"
   ]
  },
  {
   "cell_type": "code",
   "execution_count": 3,
   "metadata": {
    "ExecuteTime": {
     "end_time": "2021-09-02T01:55:58.732060Z",
     "start_time": "2021-09-02T01:55:57.636656Z"
    }
   },
   "outputs": [],
   "source": [
    "from lib.my_initialization import *\n",
    "import random,scipy\n",
    "from lib.measure.compute_slope import *\n",
    "from lib.measure.compute_sliding_slope import *\n",
    "from lib.measure.powerlaw import *\n",
    "%load_ext autoreload\n",
    "%autoreload 2\n",
    "\n",
    "from scipy import stats\n",
    "alpha=0.1"
   ]
  },
  {
   "cell_type": "code",
   "execution_count": 4,
   "metadata": {
    "ExecuteTime": {
     "end_time": "2021-09-02T01:55:58.806851Z",
     "start_time": "2021-09-02T01:55:58.782518Z"
    }
   },
   "outputs": [],
   "source": [
    "# # For darkmode plots\n",
    "# from jupyterthemes import jtplot\n",
    "# jtplot.style(theme='monokai', context='notebook', ticks=True, grid=False)"
   ]
  },
  {
   "cell_type": "markdown",
   "metadata": {},
   "source": [
    "# visualize the effect of turning on/off a basin of attraction"
   ]
  },
  {
   "cell_type": "markdown",
   "metadata": {},
   "source": [
    "Qualitative Results from Run 13\n",
    "- my kappa is too big... TODO: remeasure kappa vs. r form the full models with the FIRST time particles pass eachother\n",
    "- kappa for FK should probably be smaller than kappa for LR...\n",
    "- a constant repulsive force only effects the low densities\n",
    "- a constant repulsive force lowers the rate particles annihilate. TODO: dev run 14 with a constant attractive force.\n",
    "- a 10X factor between varkappa_LR and varkappa_FK reasonably mapped the exponents between the two models\n",
    "- there is no qualitative difference between summing forces between all particles and considering forces between nearest neighbors only"
   ]
  },
  {
   "cell_type": "code",
   "execution_count": 5,
   "metadata": {
    "ExecuteTime": {
     "end_time": "2021-09-02T01:56:00.664956Z",
     "start_time": "2021-09-02T01:55:59.971832Z"
    }
   },
   "outputs": [
    {
     "name": "stdout",
     "output_type": "stream",
     "text": [
      "['x0', 'varkappa', 'set_second', 'reflect', 'r', 'no_repulsion', 'no_attraction', 'niter', 'neighbor', 'kappa', 'force_code', 'dt', 'N', 'L', 'Dt', 'D', 'CollRate']\n"
     ]
    }
   ],
   "source": [
    "data_dir=\"/home/timothytyree/Documents/GitHub/bgmc/python/data/osg_output/run_15_all.csv\"\n",
    "# data_dir=\"/home/timothytyree/Documents/GitHub/bgmc/python/data/osg_output/run_13_all.csv\"\n",
    "df=pd.read_csv(data_dir)\n",
    "# df.head()\n",
    "\n",
    "print(list(df.columns))\n",
    "\n",
    "assert (not (df.CollRate<0).any())"
   ]
  },
  {
   "cell_type": "code",
   "execution_count": 7,
   "metadata": {
    "ExecuteTime": {
     "end_time": "2021-09-02T01:56:33.250666Z",
     "start_time": "2021-09-02T01:56:32.096215Z"
    }
   },
   "outputs": [
    {
     "name": "stdout",
     "output_type": "stream",
     "text": [
      "fixed parameters:\n",
      "r~[0.05 0.1  0.15 0.2  0.3  0.4  0.5 ]\n",
      "D~[0.7 0.8 0.9 1.  1.1 1.2 1.3 1.4 1.5 1.6 1.7 1.8 1.9 2. ]\n",
      "L~[10]\n",
      "kappa~[250 500]\n",
      "a~[  0   1   2   3   4   5   6   7   8   9  10  15  20  25  30  35  40  45\n",
      "  50  60  70  80  90 100 110]\n",
      "x0~[0]\n",
      "set_second~[0]\n",
      "reflect~[0 1]\n",
      "no_repulsion~[0]\n",
      "no_attraction~[0]\n",
      "neighbor~[0]\n",
      "force_code~[2]\n"
     ]
    }
   ],
   "source": [
    "#derived values\n",
    "# df['CollRate']=1./df['CollTime']\n",
    "df['A']=df['L']**2\n",
    "df['q']=df['N']/df['A'] #number of tips per square centimeter\n",
    "df['w']=df['CollRate']/df['A'] #[mHz?]/cm^2\n",
    "\n",
    "# df=df[df.niter==250].copy()\n",
    "#extract column values\n",
    "r_values=np.array(sorted(set(df.r.values)))#cm\n",
    "D_values=np.array(sorted(set(df.D.values)))#cm^2/s\n",
    "L_values=np.array(sorted(set(df.L.values)))#cm\n",
    "A_values=L_values**2#cm^2\n",
    "kappa_values=np.array(sorted(set(df.kappa.values)))#1/s\n",
    "varkappa_values=np.array(sorted(set(df.varkappa.values)))#1/s\n",
    "x0_values=np.array(sorted(set(df.x0.values)))#1/s\n",
    "set_second_values=np.array(sorted(set(df.set_second.values)))\n",
    "reflect_values=np.array(sorted(set(df.reflect.values)))\n",
    "no_repulsion_values=np.array(sorted(set(df.no_repulsion.values)))\n",
    "no_attraction_values=np.array(sorted(set(df.no_attraction.values)))\n",
    "neighbor_values=np.array(sorted(set(df.neighbor.values)))\n",
    "force_code_values=np.array(sorted(set(df.force_code.values)))\n",
    "\n",
    "#make test for whether there is one input parameter present in an input DataFrame\n",
    "print(f\"parameters:\")\n",
    "print(f\"r~{r_values}\")\n",
    "print(f\"D~{D_values}\")\n",
    "print(f\"L~{L_values}\")\n",
    "print(f\"kappa~{kappa_values}\")\n",
    "print(f\"a~{varkappa_values}\")\n",
    "print(f\"x0~{x0_values}\")\n",
    "print(f\"set_second~{set_second_values}\")\n",
    "print(f\"reflect~{reflect_values}\")\n",
    "print(f\"no_repulsion~{no_repulsion_values}\")\n",
    "print(f\"no_attraction~{no_attraction_values}\")\n",
    "print(f\"neighbor~{neighbor_values}\")\n",
    "print(f\"force_code~{force_code_values}\")"
   ]
  },
  {
   "cell_type": "code",
   "execution_count": null,
   "metadata": {
    "ExecuteTime": {
     "end_time": "2021-08-11T18:39:02.298336Z",
     "start_time": "2021-08-11T18:39:02.237430Z"
    }
   },
   "outputs": [],
   "source": []
  },
  {
   "cell_type": "code",
   "execution_count": 215,
   "metadata": {
    "ExecuteTime": {
     "end_time": "2021-08-11T19:44:25.042693Z",
     "start_time": "2021-08-11T19:44:25.006464Z"
    }
   },
   "outputs": [
    {
     "name": "stdout",
     "output_type": "stream",
     "text": [
      "(0.1, 25.0, 5, 1013.58, 50, 1.5)\n"
     ]
    }
   ],
   "source": [
    "#for FK model\n",
    "#query the control\n",
    "varkappa=varkappa_values[-6] #cm^2/s\n",
    "D=D_values[3]#-1]\n",
    "r=r_values[0]\n",
    "L=L_values[0]\n",
    "set_second=0\n",
    "no_repulsion=0\n",
    "no_attraction=0\n",
    "reflect=0\n",
    "neighbor=1\n",
    "force_code=4\n",
    "\n",
    "x0=x0_values[-1]        #cm\n",
    "#query the DataFrame\n",
    "query =(df.set_second==set_second)&(df.reflect==reflect)\n",
    "query&=df.r==r\n",
    "query&=df.D==D\n",
    "query&=df.L==L\n",
    "query&=df.varkappa==varkappa\n",
    "query&=df.x0==x0\n",
    "query&=(df.no_repulsion==no_repulsion)&(df.no_attraction==no_attraction)\n",
    "query&=(df.neighbor==neighbor)&(df.force_code==force_code)\n",
    "dg=df[query]\n",
    "kappa_values=np.array(sorted(set(dg.kappa.values)))\n",
    "\n",
    "kappa=kappa_values[0]\n",
    "dh=dg[dg.kappa==kappa]\n",
    "x_values=dh.q.values\n",
    "y_values=dh.w.values\n",
    "x_values_control=x_values.copy()\n",
    "y_values_control=y_values.copy()\n",
    "\n",
    "x0=x0_values[0]        #cm\n",
    "#query the DataFrame\n",
    "query =(df.set_second==set_second)&(df.reflect==reflect)\n",
    "query&=df.r==r\n",
    "query&=df.D==D\n",
    "query&=df.L==L\n",
    "query&=df.varkappa==varkappa\n",
    "query&=df.x0==x0\n",
    "query&=(df.no_repulsion==no_repulsion)&(df.no_attraction==no_attraction)\n",
    "query&=(df.neighbor==neighbor)&(df.force_code==force_code)\n",
    "dg=df[query]\n",
    "\n",
    "# kappa_values=np.array(sorted(set(dg.kappa.values)))\n",
    "# kappa=kappa_values[1]\n",
    "dh=dg[dg.kappa==kappa]\n",
    "x_values=dh.q.values\n",
    "y_values=dh.w.values\n",
    "x_values_test=x_values.copy()\n",
    "y_values_test=y_values.copy()\n",
    "print((r,D,L,kappa,varkappa,x0))"
   ]
  },
  {
   "cell_type": "code",
   "execution_count": 216,
   "metadata": {
    "ExecuteTime": {
     "end_time": "2021-08-11T19:44:28.320751Z",
     "start_time": "2021-08-11T19:44:27.936873Z"
    }
   },
   "outputs": [
    {
     "data": {
      "image/png": "[encoded data removed]",
      "text/plain": [
       "<Figure size 432x288 with 1 Axes>"
      ]
     },
     "metadata": {
      "needs_background": "light"
     },
     "output_type": "display_data"
    }
   ],
   "source": [
    "#plot fits for full model\n",
    "m_fk=1.945;#+-0.030; B_fk=2.441+-0.051\n",
    "m_lr=1.544;#+-0.034; B_lr=5.870+-0.137\n",
    "M_fk=5.67;#+-0.39 Hz*cm^{2(m-1)}\n",
    "M_lr=15.37;#+-1.57 Hz*cm^{2(m-1)}\n",
    "# RMSE_fk=0.1252 Hz/cm^2\n",
    "# RMSE_lr=0.0974 Hz/cm^2\n",
    "# R^2=0.997 (FK)\n",
    "# R^2=0.994 (LR)\n",
    "# yscale=10**3\n",
    "xv=np.arange(0.1,1.,.05)\n",
    "yv_fk=M_fk*(xv)**m_fk\n",
    "yv_lr=M_lr*(xv)**m_lr\n",
    "\n",
    "fontsize=16\n",
    "# plt.xlim([0.1,1])\n",
    "# plt.ylim([1e-1,15])\n",
    "plt.yscale('log')\n",
    "plt.xscale('log')\n",
    "# plt.plot(xv,yv_fk,label='FK power law fit',zorder=3,lw=4)\n",
    "plt.plot(xv,yv_lr,label='LR power law fit',zorder=3,lw=4,color='C1')\n",
    "\n",
    "fontsize=18\n",
    "plt.plot(x_values_control,y_values_control,'-',c='k',alpha=.7,label=r'approx. infinite basin',lw=3)\n",
    "plt.plot(x_values_test,y_values_test,'-',c='g',alpha=.7,label=f'finite basin, x0={x0:.1f} cm',lw=3)\n",
    "\n",
    "# plt.plot(x_values,y_values,c='C2',alpha=.7,label='simulation',lw=6)\n",
    "# plt.plot(x_values_force,y_values_force,c='C3',alpha=.7,label='simulation with forces',lw=6)\n",
    "# plt.plot(x_values,y_values,c=c_values,alpha=0.4,cmap='bwr')\n",
    "# plt.title(u'comparison to simulation\\nwith two hybrid modes',fontsize=fontsize)\n",
    "plt.xlabel(r'q (cm$^{-2}$)',fontsize=fontsize)\n",
    "plt.ylabel(r'w (Hz cm$^{-2}$)', fontsize=fontsize)\n",
    "plt.tick_params(axis='both', which='major', labelsize=fontsize)\n",
    "plt.tick_params(axis='both', which='minor', labelsize=0)\n",
    "plt.legend(fontsize=fontsize-5)\n",
    "# plt.xlim([0.08,1])\n",
    "# print(f'varkappa={varkappa}  Hz');print(f'      x0={x0} cm')\n",
    "# plt.title(r'$\\varkappa=$'+f'{varkappa}  Hz, '+r'$x_0=$'+f'{x0} cm\\nforce_code={force_code}, neighbors={neighbor}\\n',fontsize=fontsize)\n",
    "plt.title(r'$\\varkappa=$'+f'{varkappa}, '+r'$\\kappa=$'+f'{kappa:.1f}\\nforce_code={force_code}, neighbors={neighbor}\\nr={r},D={D},L={L}\\n',fontsize=fontsize)\n",
    "plt.show()"
   ]
  },
  {
   "cell_type": "code",
   "execution_count": 173,
   "metadata": {
    "ExecuteTime": {
     "end_time": "2021-08-11T19:06:27.981280Z",
     "start_time": "2021-08-11T19:06:27.866546Z"
    }
   },
   "outputs": [
    {
     "name": "stdout",
     "output_type": "stream",
     "text": [
      "(0.1, 1.5, 5, 5127.03, 5, 1.5)\n"
     ]
    }
   ],
   "source": [
    "#for FK model\n",
    "#query the control\n",
    "varkappa=varkappa_values[0] #cm^2/s\n",
    "D=D_values[1]#0]#-2]\n",
    "r=r_values[0]\n",
    "L=L_values[0]\n",
    "set_second=0\n",
    "no_repulsion=0\n",
    "no_attraction=0\n",
    "reflect=0\n",
    "neighbor=0\n",
    "force_code=4\n",
    "\n",
    "x0=x0_values[-1]        #cm\n",
    "#query the DataFrame\n",
    "query =(df.set_second==set_second)&(df.reflect==reflect)\n",
    "query&=df.r==r\n",
    "query&=df.D==D\n",
    "query&=df.L==L\n",
    "query&=df.varkappa==varkappa\n",
    "query&=df.x0==x0\n",
    "query&=(df.no_repulsion==no_repulsion)&(df.no_attraction==no_attraction)\n",
    "query&=(df.neighbor==neighbor)&(df.force_code==force_code)\n",
    "dg=df[query]\n",
    "kappa_values=np.array(sorted(set(dg.kappa.values)))\n",
    "\n",
    "kappa=kappa_values[0]\n",
    "dh=dg[dg.kappa==kappa]\n",
    "x_values=dh.q.values\n",
    "y_values=dh.w.values\n",
    "x_values_control=x_values.copy()\n",
    "y_values_control=y_values.copy()\n",
    "\n",
    "x0=x0_values[0]        #cm\n",
    "#query the DataFrame\n",
    "query =(df.set_second==set_second)&(df.reflect==reflect)\n",
    "query&=df.r==r\n",
    "query&=df.D==D\n",
    "query&=df.L==L\n",
    "query&=df.varkappa==varkappa\n",
    "query&=df.x0==x0\n",
    "query&=(df.no_repulsion==no_repulsion)&(df.no_attraction==no_attraction)\n",
    "query&=(df.neighbor==neighbor)&(df.force_code==force_code)\n",
    "dg=df[query]\n",
    "\n",
    "kappa_values=np.array(sorted(set(dg.kappa.values)))\n",
    "kappa=kappa_values[0]\n",
    "dh=dg[dg.kappa==kappa]\n",
    "x_values=dh.q.values\n",
    "y_values=dh.w.values\n",
    "x_values_test=x_values.copy()\n",
    "y_values_test=y_values.copy()\n",
    "print((r,D,L,kappa,varkappa,x0))"
   ]
  },
  {
   "cell_type": "code",
   "execution_count": 174,
   "metadata": {
    "ExecuteTime": {
     "end_time": "2021-08-11T19:06:31.081996Z",
     "start_time": "2021-08-11T19:06:30.022845Z"
    }
   },
   "outputs": [
    {
     "data": {
      "image/png": "[encoded data removed]",
      "text/plain": [
       "<Figure size 432x288 with 1 Axes>"
      ]
     },
     "metadata": {
      "needs_background": "light"
     },
     "output_type": "display_data"
    }
   ],
   "source": [
    "#plot fits for full model\n",
    "m_fk=1.945;#+-0.030; B_fk=2.441+-0.051\n",
    "m_lr=1.544;#+-0.034; B_lr=5.870+-0.137\n",
    "M_fk=5.67;#+-0.39 Hz*cm^{2(m-1)}\n",
    "M_lr=15.37;#+-1.57 Hz*cm^{2(m-1)}\n",
    "# RMSE_fk=0.1252 Hz/cm^2\n",
    "# RMSE_lr=0.0974 Hz/cm^2\n",
    "# R^2=0.997 (FK)\n",
    "# R^2=0.994 (LR)\n",
    "# yscale=10**3\n",
    "xv=np.arange(0.1,1.,.05)\n",
    "yv_fk=M_fk*(xv)**m_fk\n",
    "yv_lr=M_lr*(xv)**m_lr\n",
    "\n",
    "fontsize=16\n",
    "# plt.xlim([0.1,1])\n",
    "# plt.ylim([1e-1,15])\n",
    "plt.yscale('log')\n",
    "plt.xscale('log')\n",
    "plt.plot(xv,yv_fk,label='FK power law fit',zorder=3,lw=4)\n",
    "# plt.plot(xv,yv_lr,label='LR power law fit',zorder=3,lw=4,color='C1')\n",
    "\n",
    "fontsize=18\n",
    "plt.plot(x_values_control,y_values_control,'-',c='k',alpha=.7,label=r'approx. infinite basin',lw=3)\n",
    "plt.plot(x_values_test,y_values_test,'-',c='g',alpha=.7,label=f'finite basin, x0={x0:.1f} cm',lw=3)\n",
    "\n",
    "# plt.plot(x_values,y_values,c='C2',alpha=.7,label='simulation',lw=6)\n",
    "# plt.plot(x_values_force,y_values_force,c='C3',alpha=.7,label='simulation with forces',lw=6)\n",
    "# plt.plot(x_values,y_values,c=c_values,alpha=0.4,cmap='bwr')\n",
    "# plt.title(u'comparison to simulation\\nwith two hybrid modes',fontsize=fontsize)\n",
    "plt.xlabel(r'q (cm$^{-2}$)',fontsize=fontsize)\n",
    "plt.ylabel(r'w (Hz cm$^{-2}$)', fontsize=fontsize)\n",
    "plt.tick_params(axis='both', which='major', labelsize=fontsize)\n",
    "plt.tick_params(axis='both', which='minor', labelsize=0)\n",
    "plt.legend(fontsize=fontsize-5)\n",
    "# plt.xlim([0.08,1])\n",
    "# print(f'varkappa={varkappa}  Hz');print(f'      x0={x0} cm')\n",
    "# plt.title(r'$\\varkappa=$'+f'{varkappa}  Hz, '+r'$x_0=$'+f'{x0} cm\\nforce_code={force_code}, neighbors={neighbor}\\n',fontsize=fontsize)\n",
    "plt.title(r'$\\varkappa=$'+f'{varkappa}, '+r'$\\kappa=$'+f'{kappa:.1f}\\nforce_code={force_code}, neighbors={neighbor}\\nr={r},D={D},L={L}\\n',fontsize=fontsize)\n",
    "plt.show()"
   ]
  },
  {
   "cell_type": "markdown",
   "metadata": {
    "ExecuteTime": {
     "end_time": "2021-06-02T20:19:58.908431Z",
     "start_time": "2021-06-02T20:19:58.874028Z"
    },
    "heading_collapsed": true
   },
   "source": [
    "## (skip) plot token trials for long range 1/r forces"
   ]
  },
  {
   "cell_type": "code",
   "execution_count": 414,
   "metadata": {
    "ExecuteTime": {
     "end_time": "2021-06-03T21:14:15.991642Z",
     "start_time": "2021-06-03T21:14:15.966900Z"
    },
    "hidden": true
   },
   "outputs": [],
   "source": [
    "#token long-ranged forces\n",
    "# force_code_values=np.array([2,3])\n",
    "# no_attraction_values=np.array([0])\n",
    "# neighbor_values=np.array([0,1])\n",
    "# set_second_values=np.array([0])\n",
    "# varkappa_values=np.array([0.1,1.,5.,10.,20.,50.])#1/s\n",
    "# x0_values=np.array([0.])#,1.0,5.0])#cm #x0 does nothing for QED2,3\n",
    "kappa=1500;no_attraction=0;force_code=2;neighbor=0;varkappa=50;x0=0.\n",
    "#query the DataFrame\n",
    "query =(df.set_second==set_second)&(df.reflect==reflect)\n",
    "query&=df.r==r\n",
    "query&=df.D==D\n",
    "query&=df.L==L\n",
    "query&=df.kappa==kappa\n",
    "query&=df.varkappa==varkappa\n",
    "query&=df.x0==x0\n",
    "query&=(df.no_repulsion==no_repulsion)&(df.no_attraction==no_attraction)\n",
    "query&=(df.neighbor==neighbor)&(df.force_code==force_code)\n",
    "dg=df[query]\n",
    "x_values=dg.q.values\n",
    "y_values=dg.w.values\n",
    "x_values_force_1500=x_values.copy()\n",
    "y_values_force_1500=y_values.copy()\n",
    "\n",
    "kappa=500;\n",
    "#query the DataFrame\n",
    "query =(df.set_second==set_second)&(df.reflect==reflect)\n",
    "query&=df.r==r\n",
    "query&=df.D==D\n",
    "query&=df.L==L\n",
    "query&=df.kappa==kappa\n",
    "query&=df.varkappa==varkappa\n",
    "query&=df.x0==x0\n",
    "query&=(df.no_repulsion==no_repulsion)&(df.no_attraction==no_attraction)\n",
    "query&=(df.neighbor==neighbor)&(df.force_code==force_code)\n",
    "dg=df[query]\n",
    "x_values=dg.q.values\n",
    "y_values=dg.w.values\n",
    "x_values_force_500=x_values.copy()\n",
    "y_values_force_500=y_values.copy()"
   ]
  },
  {
   "cell_type": "code",
   "execution_count": 415,
   "metadata": {
    "ExecuteTime": {
     "end_time": "2021-06-03T21:14:17.031360Z",
     "start_time": "2021-06-03T21:14:16.628768Z"
    },
    "hidden": true
   },
   "outputs": [
    {
     "data": {
      "image/png": "[encoded data removed]",
      "text/plain": [
       "<Figure size 432x288 with 1 Axes>"
      ]
     },
     "metadata": {
      "needs_background": "light"
     },
     "output_type": "display_data"
    }
   ],
   "source": [
    "#plot fits for full model\n",
    "m_fk=1.945;#+-0.030; B_fk=2.441+-0.051\n",
    "m_lr=1.544;#+-0.034; B_lr=5.870+-0.137\n",
    "M_fk=5.67;#+-0.39 Hz*cm^{2(m-1)}\n",
    "M_lr=15.37;#+-1.57 Hz*cm^{2(m-1)}\n",
    "# RMSE_fk=0.1252 Hz/cm^2\n",
    "# RMSE_lr=0.0974 Hz/cm^2\n",
    "# R^2=0.997 (FK)\n",
    "# R^2=0.994 (LR)\n",
    "# yscale=10**3\n",
    "xv=np.arange(0.1,1.,.05)\n",
    "yv_fk=M_fk*(xv)**m_fk\n",
    "yv_lr=M_lr*(xv)**m_lr\n",
    "\n",
    "fontsize=16\n",
    "# plt.xlim([0.1,1])\n",
    "# plt.ylim([1e-1,15])\n",
    "plt.yscale('log')\n",
    "plt.xscale('log')\n",
    "# plt.plot(xv,yv_fk,label='FK power law fit',zorder=3,lw=4)\n",
    "plt.plot(xv,yv_lr,label='LR power law fit',zorder=3,lw=4,color='C1')\n",
    "\n",
    "fontsize=18\n",
    "# plt.plot(x_values_control_500,y_values_control_500,'-',c='k',alpha=.7,label=r'no forces, $\\kappa=500$ Hz',lw=3)\n",
    "plt.plot(x_values_control_1500,y_values_control_1500,'-',c='k',alpha=.7,label=r'no forces, $\\kappa=1500$ Hz',lw=3)\n",
    "# plt.plot(x_values_force_500,y_values_force_500,'-',c='g',alpha=.7,label=r'1/$r$ forces, $\\kappa=500$ Hz',lw=3)\n",
    "plt.plot(x_values_force_1500,y_values_force_1500,'-',c='g',alpha=.7,label=r'1/$r$ forces, $\\kappa=1500$ Hz',lw=3)\n",
    "\n",
    "# plt.plot(x_values,y_values,c='C2',alpha=.7,label='simulation',lw=6)\n",
    "# plt.plot(x_values_force,y_values_force,c='C3',alpha=.7,label='simulation with forces',lw=6)\n",
    "# plt.plot(x_values,y_values,c=c_values,alpha=0.4,cmap='bwr')\n",
    "# plt.title(u'comparison to simulation\\nwith two hybrid modes',fontsize=fontsize)\n",
    "plt.xlabel(r'q (cm$^{-2}$)',fontsize=fontsize)\n",
    "plt.ylabel(r'w (Hz cm$^{-2}$)', fontsize=fontsize)\n",
    "plt.tick_params(axis='both', which='major', labelsize=fontsize)\n",
    "plt.tick_params(axis='both', which='minor', labelsize=0)\n",
    "plt.legend(fontsize=fontsize-5)\n",
    "# plt.xlim([0.08,1])\n",
    "# print(f'varkappa={varkappa}  Hz');print(f'      x0={x0} cm')\n",
    "plt.title(r'$\\varkappa=$'+f'{varkappa}  Hz cm, '+f'\\nforce_code={force_code}, neighbors={neighbor}\\n',fontsize=fontsize)\n",
    "plt.show()"
   ]
  },
  {
   "cell_type": "code",
   "execution_count": 416,
   "metadata": {
    "ExecuteTime": {
     "end_time": "2021-06-03T21:14:18.638820Z",
     "start_time": "2021-06-03T21:14:18.211358Z"
    },
    "hidden": true
   },
   "outputs": [
    {
     "data": {
      "image/png": "[encoded data removed]",
      "text/plain": [
       "<Figure size 432x288 with 1 Axes>"
      ]
     },
     "metadata": {
      "needs_background": "light"
     },
     "output_type": "display_data"
    }
   ],
   "source": [
    "#plot fits for full model\n",
    "m_fk=1.945;#+-0.030; B_fk=2.441+-0.051\n",
    "m_lr=1.544;#+-0.034; B_lr=5.870+-0.137\n",
    "M_fk=5.67;#+-0.39 Hz*cm^{2(m-1)}\n",
    "M_lr=15.37;#+-1.57 Hz*cm^{2(m-1)}\n",
    "# RMSE_fk=0.1252 Hz/cm^2\n",
    "# RMSE_lr=0.0974 Hz/cm^2\n",
    "# R^2=0.997 (FK)\n",
    "# R^2=0.994 (LR)\n",
    "# yscale=10**3\n",
    "xv=np.arange(0.1,1.,.05)\n",
    "yv_fk=M_fk*(xv)**m_fk\n",
    "yv_lr=M_lr*(xv)**m_lr\n",
    "\n",
    "fontsize=16\n",
    "# plt.xlim([0.1,1])\n",
    "# plt.ylim([1e-1,15])\n",
    "plt.yscale('log')\n",
    "plt.xscale('log')\n",
    "plt.plot(xv,yv_fk,label='FK power law fit',zorder=3,lw=4)\n",
    "plt.plot(xv,yv_lr,label='LR power law fit',zorder=3,lw=4,color='C1')\n",
    "\n",
    "fontsize=18\n",
    "plt.plot(x_values_control_500,y_values_control_500,'-',c='k',alpha=.7,label=r'no forces, $\\kappa=500$ Hz',lw=3)\n",
    "# plt.plot(x_values_control_1500,y_values_control_1500,'-',c='k',alpha=.7,label=r'no forces, $\\kappa=1500$ Hz',lw=3)\n",
    "plt.plot(x_values_force_500,y_values_force_500,'-',c='g',alpha=.7,label=r'1/$r$ forces, $\\kappa=500$ Hz',lw=3)\n",
    "# plt.plot(x_values_force_1500,y_values_force_1500,'-',c='g',alpha=.7,label=r'1/$r$ forces, $\\kappa=1500$ Hz',lw=3)\n",
    "\n",
    "# plt.plot(x_values,y_values,c='C2',alpha=.7,label='simulation',lw=6)\n",
    "# plt.plot(x_values_force,y_values_force,c='C3',alpha=.7,label='simulation with forces',lw=6)\n",
    "# plt.plot(x_values,y_values,c=c_values,alpha=0.4,cmap='bwr')\n",
    "# plt.title(u'comparison to simulation\\nwith two hybrid modes',fontsize=fontsize)\n",
    "plt.xlabel(r'q (cm$^{-2}$)',fontsize=fontsize)\n",
    "plt.ylabel(r'w (Hz cm$^{-2}$)', fontsize=fontsize)\n",
    "plt.tick_params(axis='both', which='major', labelsize=fontsize)\n",
    "plt.tick_params(axis='both', which='minor', labelsize=0)\n",
    "plt.legend(fontsize=fontsize-5)\n",
    "# plt.xlim([0.08,1])\n",
    "# print(f'varkappa={varkappa}  Hz');print(f'      x0={x0} cm')\n",
    "plt.title(r'$\\varkappa=$'+f'{varkappa}  Hz cm, '+f'\\nforce_code={force_code}, neighbors={neighbor}\\n',fontsize=fontsize)\n",
    "plt.show()"
   ]
  },
  {
   "cell_type": "code",
   "execution_count": null,
   "metadata": {
    "hidden": true
   },
   "outputs": [],
   "source": []
  },
  {
   "cell_type": "markdown",
   "metadata": {
    "ExecuteTime": {
     "end_time": "2021-06-02T20:19:58.908431Z",
     "start_time": "2021-06-02T20:19:58.874028Z"
    },
    "heading_collapsed": true
   },
   "source": [
    "## (skip) plot token trials for long range 1/r^2 forces"
   ]
  },
  {
   "cell_type": "code",
   "execution_count": 408,
   "metadata": {
    "ExecuteTime": {
     "end_time": "2021-06-03T21:09:22.074153Z",
     "start_time": "2021-06-03T21:09:22.050581Z"
    },
    "hidden": true
   },
   "outputs": [],
   "source": [
    "#token long-ranged forces\n",
    "# force_code_values=np.array([2,3])\n",
    "# no_attraction_values=np.array([0])\n",
    "# neighbor_values=np.array([0,1])\n",
    "# set_second_values=np.array([0])\n",
    "# varkappa_values=np.array([0.1,1.,5.,10.,20.,50.])#1/s\n",
    "# x0_values=np.array([0.])#,1.0,5.0])#cm #x0 does nothing for QED2,3\n",
    "kappa=1500;no_attraction=0;force_code=3;neighbor=0;varkappa=50;x0=0.\n",
    "#query the DataFrame\n",
    "query =(df.set_second==set_second)&(df.reflect==reflect)\n",
    "query&=df.r==r\n",
    "query&=df.D==D\n",
    "query&=df.L==L\n",
    "query&=df.kappa==kappa\n",
    "query&=df.varkappa==varkappa\n",
    "query&=df.x0==x0\n",
    "query&=(df.no_repulsion==no_repulsion)&(df.no_attraction==no_attraction)\n",
    "query&=(df.neighbor==neighbor)&(df.force_code==force_code)\n",
    "dg=df[query]\n",
    "x_values=dg.q.values\n",
    "y_values=dg.w.values\n",
    "x_values_force_1500=x_values.copy()\n",
    "y_values_force_1500=y_values.copy()\n",
    "\n",
    "kappa=500;\n",
    "#query the DataFrame\n",
    "query =(df.set_second==set_second)&(df.reflect==reflect)\n",
    "query&=df.r==r\n",
    "query&=df.D==D\n",
    "query&=df.L==L\n",
    "query&=df.kappa==kappa\n",
    "query&=df.varkappa==varkappa\n",
    "query&=df.x0==x0\n",
    "query&=(df.no_repulsion==no_repulsion)&(df.no_attraction==no_attraction)\n",
    "query&=(df.neighbor==neighbor)&(df.force_code==force_code)\n",
    "dg=df[query]\n",
    "x_values=dg.q.values\n",
    "y_values=dg.w.values\n",
    "x_values_force_500=x_values.copy()\n",
    "y_values_force_500=y_values.copy()"
   ]
  },
  {
   "cell_type": "code",
   "execution_count": 409,
   "metadata": {
    "ExecuteTime": {
     "end_time": "2021-06-03T21:09:22.876996Z",
     "start_time": "2021-06-03T21:09:22.490137Z"
    },
    "hidden": true
   },
   "outputs": [
    {
     "data": {
      "image/png": "[encoded data removed]",
      "text/plain": [
       "<Figure size 432x288 with 1 Axes>"
      ]
     },
     "metadata": {
      "needs_background": "light"
     },
     "output_type": "display_data"
    }
   ],
   "source": [
    "#plot fits for full model\n",
    "m_fk=1.945;#+-0.030; B_fk=2.441+-0.051\n",
    "m_lr=1.544;#+-0.034; B_lr=5.870+-0.137\n",
    "M_fk=5.67;#+-0.39 Hz*cm^{2(m-1)}\n",
    "M_lr=15.37;#+-1.57 Hz*cm^{2(m-1)}\n",
    "# RMSE_fk=0.1252 Hz/cm^2\n",
    "# RMSE_lr=0.0974 Hz/cm^2\n",
    "# R^2=0.997 (FK)\n",
    "# R^2=0.994 (LR)\n",
    "# yscale=10**3\n",
    "xv=np.arange(0.1,1.,.05)\n",
    "yv_fk=M_fk*(xv)**m_fk\n",
    "yv_lr=M_lr*(xv)**m_lr\n",
    "\n",
    "fontsize=16\n",
    "# plt.xlim([0.1,1])\n",
    "# plt.ylim([1e-1,15])\n",
    "plt.yscale('log')\n",
    "plt.xscale('log')\n",
    "plt.plot(xv,yv_fk,label='FK power law fit',zorder=3,lw=4)\n",
    "plt.plot(xv,yv_lr,label='LR power law fit',zorder=3,lw=4,color='C1')\n",
    "\n",
    "fontsize=18\n",
    "# plt.plot(x_values_control_500,y_values_control_500,'-',c='k',alpha=.7,label=r'no forces, $\\kappa=500$ Hz',lw=3)\n",
    "plt.plot(x_values_control_1500,y_values_control_1500,'-',c='k',alpha=.7,label=r'no forces, $\\kappa=1500$ Hz',lw=3)\n",
    "# plt.plot(x_values_force_500,y_values_force_500,'-',c='g',alpha=.7,label=r'1/$r^2$ forces, $\\kappa=500$ Hz',lw=3)\n",
    "plt.plot(x_values_force_1500,y_values_force_1500,'-',c='g',alpha=.7,label=r'1/$r^2$ forces, $\\kappa=1500$ Hz',lw=3)\n",
    "\n",
    "# plt.plot(x_values,y_values,c='C2',alpha=.7,label='simulation',lw=6)\n",
    "# plt.plot(x_values_force,y_values_force,c='C3',alpha=.7,label='simulation with forces',lw=6)\n",
    "# plt.plot(x_values,y_values,c=c_values,alpha=0.4,cmap='bwr')\n",
    "# plt.title(u'comparison to simulation\\nwith two hybrid modes',fontsize=fontsize)\n",
    "plt.xlabel(r'q (cm$^{-2}$)',fontsize=fontsize)\n",
    "plt.ylabel(r'w (Hz cm$^{-2}$)', fontsize=fontsize)\n",
    "plt.tick_params(axis='both', which='major', labelsize=fontsize)\n",
    "plt.tick_params(axis='both', which='minor', labelsize=0)\n",
    "plt.legend(fontsize=fontsize-5)\n",
    "# plt.xlim([0.08,1])\n",
    "# print(f'varkappa={varkappa}  Hz');print(f'      x0={x0} cm')\n",
    "plt.title(r'$\\varkappa=$'+f'{varkappa}  Hz cm^2, '+f'\\nforce_code={force_code}, neighbors={neighbor}\\n',fontsize=fontsize)\n",
    "plt.show()"
   ]
  },
  {
   "cell_type": "code",
   "execution_count": 410,
   "metadata": {
    "ExecuteTime": {
     "end_time": "2021-06-03T21:09:23.870237Z",
     "start_time": "2021-06-03T21:09:23.423376Z"
    },
    "hidden": true
   },
   "outputs": [
    {
     "data": {
      "image/png": "[encoded data removed]",
      "text/plain": [
       "<Figure size 432x288 with 1 Axes>"
      ]
     },
     "metadata": {
      "needs_background": "light"
     },
     "output_type": "display_data"
    }
   ],
   "source": [
    "#plot fits for full model\n",
    "m_fk=1.945;#+-0.030; B_fk=2.441+-0.051\n",
    "m_lr=1.544;#+-0.034; B_lr=5.870+-0.137\n",
    "M_fk=5.67;#+-0.39 Hz*cm^{2(m-1)}\n",
    "M_lr=15.37;#+-1.57 Hz*cm^{2(m-1)}\n",
    "# RMSE_fk=0.1252 Hz/cm^2\n",
    "# RMSE_lr=0.0974 Hz/cm^2\n",
    "# R^2=0.997 (FK)\n",
    "# R^2=0.994 (LR)\n",
    "# yscale=10**3\n",
    "xv=np.arange(0.1,1.,.05)\n",
    "yv_fk=M_fk*(xv)**m_fk\n",
    "yv_lr=M_lr*(xv)**m_lr\n",
    "\n",
    "fontsize=16\n",
    "# plt.xlim([0.1,1])\n",
    "# plt.ylim([1e-1,15])\n",
    "plt.yscale('log')\n",
    "plt.xscale('log')\n",
    "plt.plot(xv,yv_fk,label='FK power law fit',zorder=3,lw=4)\n",
    "plt.plot(xv,yv_lr,label='LR power law fit',zorder=3,lw=4,color='C1')\n",
    "\n",
    "fontsize=18\n",
    "plt.plot(x_values_control_500,y_values_control_500,'-',c='k',alpha=.7,label=r'no forces, $\\kappa=500$ Hz',lw=3)\n",
    "# plt.plot(x_values_control_1500,y_values_control_1500,'-',c='k',alpha=.7,label=r'no forces, $\\kappa=1500$ Hz',lw=3)\n",
    "plt.plot(x_values_force_500,y_values_force_500,'-',c='g',alpha=.7,label=r'1/$r^2$ forces, $\\kappa=500$ Hz',lw=3)\n",
    "# plt.plot(x_values_force_1500,y_values_force_1500,'-',c='g',alpha=.7,label=r'1/$r^2$ forces, $\\kappa=1500$ Hz',lw=3)\n",
    "\n",
    "# plt.plot(x_values,y_values,c='C2',alpha=.7,label='simulation',lw=6)\n",
    "# plt.plot(x_values_force,y_values_force,c='C3',alpha=.7,label='simulation with forces',lw=6)\n",
    "# plt.plot(x_values,y_values,c=c_values,alpha=0.4,cmap='bwr')\n",
    "# plt.title(u'comparison to simulation\\nwith two hybrid modes',fontsize=fontsize)\n",
    "plt.xlabel(r'q (cm$^{-2}$)',fontsize=fontsize)\n",
    "plt.ylabel(r'w (Hz cm$^{-2}$)', fontsize=fontsize)\n",
    "plt.tick_params(axis='both', which='major', labelsize=fontsize)\n",
    "plt.tick_params(axis='both', which='minor', labelsize=0)\n",
    "plt.legend(fontsize=fontsize-5)\n",
    "# plt.xlim([0.08,1])\n",
    "# print(f'varkappa={varkappa}  Hz');print(f'      x0={x0} cm')\n",
    "plt.title(r'$\\varkappa=$'+f'{varkappa}  Hz cm^2, '+f'\\nforce_code={force_code}, neighbors={neighbor}\\n',fontsize=fontsize)\n",
    "plt.show()"
   ]
  },
  {
   "cell_type": "code",
   "execution_count": null,
   "metadata": {
    "hidden": true
   },
   "outputs": [],
   "source": []
  },
  {
   "cell_type": "code",
   "execution_count": 158,
   "metadata": {
    "ExecuteTime": {
     "end_time": "2021-06-02T20:54:42.595348Z",
     "start_time": "2021-06-02T20:54:42.581608Z"
    },
    "hidden": true
   },
   "outputs": [
    {
     "name": "stdout",
     "output_type": "stream",
     "text": [
      "m Delta_m b Delta_b Rsquared\n",
      "2.2061080037818326 0.022902019300985066 3.2420266286378903 0.031409788176236186 0.9986278301835647\n",
      "Therefore, 95% confidence interval DOES include exponent values observed from the Luo-Rudy model, but for this trial, only low densities.\n"
     ]
    }
   ],
   "source": [
    "#slice relevant particle density to the particle densities observed from the full model\n",
    "L=L_values[0]\n",
    "# x_values=x_values_force_500#dg[dg.L==L].q.values\n",
    "# y_values=y_values_force_500#dg[dg.L==L].w.values\n",
    "x_values=x_values_spring_1500#dg[dg.L==L].q.values\n",
    "y_values=y_values_spring_1500#dg[dg.L==L].w.values\n",
    "qmin=0.06;qmax=0.6\n",
    "boo=(x_values>qmin)&(x_values<qmax)\n",
    "dict_ci=compute_95CI_ols(np.log(x_values[boo]),np.log(y_values[boo]))\n",
    "print(*dict_ci)\n",
    "print(*dict_ci.values())\n",
    "print(f\"Therefore, 95% confidence interval DOES include exponent values observed from the Luo-Rudy model, but for this trial, only low densities.\")"
   ]
  },
  {
   "cell_type": "code",
   "execution_count": 159,
   "metadata": {
    "ExecuteTime": {
     "end_time": "2021-06-02T20:54:43.613781Z",
     "start_time": "2021-06-02T20:54:43.598191Z"
    },
    "hidden": true
   },
   "outputs": [
    {
     "data": {
      "text/plain": [
       "(74,)"
      ]
     },
     "execution_count": 159,
     "metadata": {},
     "output_type": "execute_result"
    }
   ],
   "source": [
    "#compute sliding m\n",
    "xavg_values,slope_values,Rsquared_values = compute_sliding_slope_loglog(x_values,y_values,    \n",
    "    x_min=qmin,\n",
    "    window_width=0.2,\n",
    "    stepsize=0.01,\n",
    ")\n",
    "xavg_values.shape"
   ]
  },
  {
   "cell_type": "code",
   "execution_count": null,
   "metadata": {
    "ExecuteTime": {
     "end_time": "2021-05-24T23:34:04.988108Z",
     "start_time": "2021-05-24T23:34:04.975906Z"
    },
    "hidden": true
   },
   "outputs": [],
   "source": []
  },
  {
   "cell_type": "code",
   "execution_count": 160,
   "metadata": {
    "ExecuteTime": {
     "end_time": "2021-06-02T20:54:44.662723Z",
     "start_time": "2021-06-02T20:54:44.551256Z"
    },
    "hidden": true,
    "run_control": {
     "marked": true
    }
   },
   "outputs": [
    {
     "data": {
      "image/png": "[encoded data removed]",
      "text/plain": [
       "<Figure size 432x288 with 1 Axes>"
      ]
     },
     "metadata": {
      "needs_background": "light"
     },
     "output_type": "display_data"
    }
   ],
   "source": [
    "fontsize=18\n",
    "x=xavg_values[:-1]\n",
    "# y=Rsquared_values[:-1]\n",
    "y=slope_values[:-1]\n",
    "plt.plot(x,y,lw=2)\n",
    "# plt.scatter(x,y,s=10)\n",
    "# plt.xlabel('N',fontsize=fontsize)\n",
    "# plt.ylabel('Collision Rate',fontsize=fontsize)\n",
    "# plt.xscale('log')\n",
    "# plt.title(u'comparison to simulation\\nwith two hybrid modes',fontsize=fontsize)\n",
    "plt.xlabel(r'q (cm$^{-2}$)',fontsize=fontsize)\n",
    "plt.ylabel(r'exponent', fontsize=fontsize)\n",
    "plt.tick_params(axis='both', which='major', labelsize=fontsize)\n",
    "plt.tick_params(axis='both', which='minor', labelsize=0)\n",
    "# print(f'varkappa={varkappa}  Hz');print(f'      x0={x0} cm')\n",
    "plt.title(r'$\\varkappa=$'+f'{varkappa}  Hz cm^2, '+f'\\nforce_code={force_code}, neighbors={neighbor}\\n',fontsize=fontsize)\n",
    "plt.show()"
   ]
  },
  {
   "cell_type": "markdown",
   "metadata": {
    "heading_collapsed": true
   },
   "source": [
    "# (skip) print powerlaw fits"
   ]
  },
  {
   "cell_type": "code",
   "execution_count": 31,
   "metadata": {
    "ExecuteTime": {
     "end_time": "2021-06-02T20:00:38.022641Z",
     "start_time": "2021-06-02T20:00:37.977959Z"
    },
    "hidden": true
   },
   "outputs": [],
   "source": [
    "def slice_df_and_print_powerlaw_fit(r,D,L,kappa,varkappa,x0,q_min=0.06,q_max=.2,no_attraction=0,no_repulsion=1,force_code=2):\n",
    "    '''map from trial to power law fit in interval q_min to q_max'''\n",
    "    #query the DataFrame\n",
    "    query =(df.set_second==set_second_values[0])&(df.reflect==reflect_values[0])\n",
    "    query&=df.r==r#r_values[0]\n",
    "    query&=df.D==D#D_values[0]\n",
    "    query&=df.L==L#L_values[0]\n",
    "    query&=df.kappa==kappa\n",
    "    query&=df.varkappa==varkappa#_values#[-1]#5]\n",
    "    query&=df.x0==x0#_values[2]\n",
    "    query&=(df.no_repulsion==no_repulsion)&(df.no_attraction==no_attraction)\n",
    "    dff=df[query]\n",
    "    dg=dff.copy()#[dff.kappa==kappa]#kappa_values[0]]#smaller reaction rate\n",
    "\n",
    "    x_values=dg.q.values\n",
    "    y_values=dg.w.values\n",
    "\n",
    "    # q_min=0.1;q_max=.4\n",
    "    # boo=(x_values>q_min)&(x_values<q_max)\n",
    "    # x=np.log(x_values[boo])\n",
    "    # y=np.log(y_values[boo])\n",
    "    # dict_out=compute_95CI_ols(x,y)\n",
    "    # dict_out\n",
    "    boo=(x_values>q_min)&(x_values<q_max)\n",
    "    x=x_values[boo]\n",
    "    y=y_values[boo]\n",
    "#     print(x)\n",
    "    print_fit_power_law(x,y)"
   ]
  },
  {
   "cell_type": "code",
   "execution_count": 16,
   "metadata": {
    "ExecuteTime": {
     "end_time": "2021-05-28T01:28:17.688288Z",
     "start_time": "2021-05-28T01:28:17.672114Z"
    },
    "hidden": true
   },
   "outputs": [
    {
     "name": "stdout",
     "output_type": "stream",
     "text": [
      "m=1.504+-0.063; B=1.263+-0.066\n",
      "M= 1.42+-0.14 Hz*cm^{2(m-1)}\n",
      "RMSE=0.0035 Hz/cm^2\n",
      "R^2=0.995\n"
     ]
    }
   ],
   "source": [
    "varkappa=varkappa_values[-1]\n",
    "x0=x0_values[2]\n",
    "kappa=kappa_values[0]\n",
    "\n",
    "r=r_values[0];D=D_values[0];L=L_values[0];\n",
    "slice_df_and_print_powerlaw_fit(r,D,L,kappa,varkappa,x0)"
   ]
  },
  {
   "cell_type": "code",
   "execution_count": 17,
   "metadata": {
    "ExecuteTime": {
     "end_time": "2021-05-28T01:28:18.201020Z",
     "start_time": "2021-05-28T01:28:18.160383Z"
    },
    "hidden": true
   },
   "outputs": [
    {
     "name": "stdout",
     "output_type": "stream",
     "text": [
      "for r=0.100 cm and D=2 cm^2/s fixed,\n",
      "the powerlaw fit for varkappa=-20 cm and x0=1.0 was\n",
      "m=3.004+-0.168; B=4.158+-0.258\n",
      "M= 72.26+-38.81 Hz*cm^{2(m-1)}\n",
      "RMSE=0.0263 Hz/cm^2\n",
      "R^2=0.991\n",
      "\n",
      "for r=0.100 cm and D=2 cm^2/s fixed,\n",
      "the powerlaw fit for varkappa=-10 cm and x0=1.0 was\n",
      "m=2.831+-0.110; B=3.264+-0.130\n",
      "M= 28.48+-7.90 Hz*cm^{2(m-1)}\n",
      "RMSE=0.0087 Hz/cm^2\n",
      "R^2=0.996\n",
      "\n",
      "for r=0.100 cm and D=2 cm^2/s fixed,\n",
      "the powerlaw fit for varkappa=-5 cm and x0=1.0 was\n",
      "m=2.837+-0.097; B=2.787+-0.087\n",
      "M= 18.33+-3.82 Hz*cm^{2(m-1)}\n",
      "RMSE=0.0041 Hz/cm^2\n",
      "R^2=0.997\n",
      "\n",
      "for r=0.100 cm and D=2 cm^2/s fixed,\n",
      "the powerlaw fit for varkappa=0 cm and x0=1.0 was\n",
      "m=2.830+-0.094; B=2.241+-0.085\n",
      "M= 9.82+-1.99 Hz*cm^{2(m-1)}\n",
      "RMSE=0.0027 Hz/cm^2\n",
      "R^2=0.997\n",
      "\n",
      "for r=0.100 cm and D=2 cm^2/s fixed,\n",
      "the powerlaw fit for varkappa=5 cm and x0=1.0 was\n",
      "m=1.920+-0.073; B=1.579+-0.068\n",
      "M= 2.40+-0.30 Hz*cm^{2(m-1)}\n",
      "RMSE=0.0027 Hz/cm^2\n",
      "R^2=0.996\n",
      "\n",
      "for r=0.100 cm and D=2 cm^2/s fixed,\n",
      "the powerlaw fit for varkappa=10 cm and x0=1.0 was\n",
      "Error: empty slice!\n",
      "\n",
      "for r=0.100 cm and D=2 cm^2/s fixed,\n",
      "the powerlaw fit for varkappa=20 cm and x0=1.0 was\n",
      "m=1.504+-0.063; B=1.263+-0.066\n",
      "M= 1.42+-0.14 Hz*cm^{2(m-1)}\n",
      "RMSE=0.0035 Hz/cm^2\n",
      "R^2=0.995\n",
      "\n"
     ]
    }
   ],
   "source": [
    "# r=r_values[0];D=D_values[0];\n",
    "# varkappa=varkappa_values[0]\n",
    "# x0=x0_values[0]\n",
    "for varkappa in varkappa_values:#[::2]:\n",
    "    print(f\"for r={r:.3f} cm and D={D} cm^2/s fixed,\")\n",
    "    print(f\"the powerlaw fit for varkappa={varkappa} cm and x0={x0} was\")\n",
    "    try:\n",
    "        slice_df_and_print_powerlaw_fit(r,D,L,kappa,varkappa,x0)\n",
    "    except AssertionError as e:\n",
    "        print(f\"Error: empty slice!\")\n",
    "    print(f'')    "
   ]
  },
  {
   "cell_type": "code",
   "execution_count": null,
   "metadata": {
    "hidden": true
   },
   "outputs": [],
   "source": []
  },
  {
   "cell_type": "markdown",
   "metadata": {
    "hidden": true
   },
   "source": [
    "__Result__\n",
    "- attractive spring at with x0=0 gave $m \\approx 2$... Several values are superquadratic."
   ]
  },
  {
   "cell_type": "code",
   "execution_count": 120,
   "metadata": {
    "ExecuteTime": {
     "end_time": "2021-05-26T21:22:15.821246Z",
     "start_time": "2021-05-26T21:22:06.523931Z"
    },
    "hidden": true
   },
   "outputs": [
    {
     "name": "stdout",
     "output_type": "stream",
     "text": [
      "output redirected to /home/timothytyree/Documents/GitHub/bgmc/python/data/osg_output/run_10_all_powerfits.txt.\n",
      "number of trials considered = 2688\n"
     ]
    }
   ],
   "source": [
    "import sys\n",
    "\n",
    "text_fn=data_dir.replace('.csv','_powerfits.txt')\n",
    "original_stdout = sys.stdout # Save a reference to the original standard output\n",
    "count=0\n",
    "with open(text_fn, 'w') as f:\n",
    "    sys.stdout = f # Change the standard output to the file we created.\n",
    "    #     r=r_values[1];D=D_values[3];\n",
    "    for r in r_values:\n",
    "        for D in D_values:\n",
    "            for L in L_values:\n",
    "                for kappa in kappa_values:\n",
    "                    for varkappa in varkappa_values:\n",
    "                        for x0 in x0_values:\n",
    "                            for no_repulsion in no_repulsion_values:\n",
    "                                for no_attraction in no_attraction_values:\n",
    "                                    print(f\"for r={r:.3f} cm, D={D:.3f} cm^2/s, kappa={kappa:.0f} 1/s,no_repulsion={no_repulsion==1}, and no_attraction={no_attraction==1} fixed\")\n",
    "                                    print(f\"the powerlaw fit for varkappa={varkappa:.1f} cm and x0={x0:.1f} was\")\n",
    "                                    try:\n",
    "                                        slice_df_and_print_powerlaw_fit(r,D,L,kappa,varkappa,x0)\n",
    "                                    except AssertionError as e:\n",
    "                                        print(f\"Error: empty slice!\")\n",
    "                                    print(f'')\n",
    "                                    count+=1\n",
    "\n",
    "sys.stdout = original_stdout # Reset the standard output to its original value\n",
    "print(f'output redirected to {text_fn}.')\n",
    "print(f\"number of trials considered = {count}\")"
   ]
  },
  {
   "cell_type": "markdown",
   "metadata": {
    "ExecuteTime": {
     "end_time": "2021-05-05T18:17:56.824839Z",
     "start_time": "2021-05-05T18:17:56.002151Z"
    },
    "hidden": true
   },
   "source": [
    "__Result__\n",
    "- no trials exhibited exponent smaller than m<2.00000. \n",
    "- the robust exponents are still too large to support the LR model, which has m=1.544..."
   ]
  },
  {
   "cell_type": "markdown",
   "metadata": {},
   "source": [
    "# varying varkappa"
   ]
  },
  {
   "cell_type": "code",
   "execution_count": 227,
   "metadata": {
    "ExecuteTime": {
     "end_time": "2021-08-11T19:50:21.678823Z",
     "start_time": "2021-08-11T19:50:21.207253Z"
    }
   },
   "outputs": [
    {
     "name": "stdout",
     "output_type": "stream",
     "text": [
      "x0=10000.0\n",
      "kappa=5127.0,varkappa=5.0\n",
      "kappa=5127.0,varkappa=10.0\n",
      "kappa=1013.6,varkappa=50.0\n",
      "kappa=1013.6,varkappa=100.0\n"
     ]
    },
    {
     "data": {
      "image/png": "[encoded data removed]",
      "text/plain": [
       "<Figure size 432x288 with 1 Axes>"
      ]
     },
     "metadata": {
      "needs_background": "light"
     },
     "output_type": "display_data"
    }
   ],
   "source": [
    "x0=x0_values[-1];print(f\"x0={x0}\")\n",
    "no_repulsion=0;no_attraction=0;reflect=0;neighbors=0;set_second=0\n",
    "r=r_values[0];D=D_values[-1];L=L_values[0]\n",
    "#plot fits for full model\n",
    "m_fk=1.945;#+-0.030; B_fk=2.441+-0.051\n",
    "m_lr=1.544;#+-0.034; B_lr=5.870+-0.137\n",
    "M_fk=5.67;#+-0.39 Hz*cm^{2(m-1)}\n",
    "M_lr=15.37;#+-1.57 Hz*cm^{2(m-1)}\n",
    "# RMSE_fk=0.1252 Hz/cm^2\n",
    "# RMSE_lr=0.0974 Hz/cm^2\n",
    "# R^2=0.997 (FK)\n",
    "# R^2=0.994 (LR)\n",
    "# yscale=10**3\n",
    "xv=np.arange(0.1,1.,.05)\n",
    "yv_fk=M_fk*(xv)**m_fk\n",
    "yv_lr=M_lr*(xv)**m_lr\n",
    "\n",
    "fontsize=16\n",
    "# plt.xlim([0.1,1])\n",
    "# plt.ylim([1e-1,15])act\n",
    "plt.yscale('log')\n",
    "plt.xscale('log')\n",
    "plt.plot(xv,yv_fk,label='FK power law fit',zorder=3,lw=4)\n",
    "plt.plot(xv,yv_lr,label='LR power law fit',zorder=3,lw=4)\n",
    "\n",
    "#plot data\n",
    "for varkappa in varkappa_values[::3]:#[:4]:#[::2]:\n",
    "    #query the DataFrame\n",
    "    query =(df.set_second==set_second)&(df.reflect==reflect)\n",
    "    query&=df.r==r\n",
    "    query&=df.D==D\n",
    "    query&=df.L==L\n",
    "    query&=df.varkappa==varkappa\n",
    "    query&=df.x0==x0\n",
    "    query&=(df.no_repulsion==no_repulsion)&(df.no_attraction==no_attraction)\n",
    "    query&=(df.neighbor==neighbor)&(df.force_code==force_code)\n",
    "    dg=df[query]\n",
    "\n",
    "    kappa_values=np.array(sorted(set(dg.kappa.values)))\n",
    "    kappa=kappa_values[0]\n",
    "    dh=dg[dg.kappa==kappa]\n",
    "    x_values=dh.q.values\n",
    "    y_values=dh.w.values\n",
    "    print(r'kappa='+f'{kappa:.1f},varkappa={varkappa:.1f}')\n",
    "    \n",
    "    \n",
    "    plt.scatter(x_values,y_values,label=r\"$\\varkappa =$ \"+f\"{varkappa:.1f} cm\",alpha=0.8,s=5)#,cmap='bwr')\n",
    "\n",
    "# plt.ylim([1e-5,1e4])\n",
    "plt.xlabel(r'q (cm$^{-2}$)',fontsize=fontsize)\n",
    "plt.ylabel(r'w (Hz cm$^{-2}$)', fontsize=fontsize)\n",
    "plt.tick_params(axis='both', which='major', labelsize=fontsize)\n",
    "plt.tick_params(axis='both', which='minor', labelsize=0)\n",
    "plt.legend(fontsize=fontsize-6,ncol=2,loc='lower right')\n",
    "# plt.title(r'$\\varkappa=$'+f'{varkappa}  Hz, '+r'$x_0=$'+f'{x0} cm\\n',fontsize=fontsize)\n",
    "# plt.title(r'$x_0=$'+f'{x0} cm\\n',fontsize=fontsize)\n",
    "# plt.title(r'$\\kappa=$'+f'{kappa:.1f}\\nforce_code={force_code}, neighbors={neighbor}\\nr={r},D={D},L={L}\\n',fontsize=fontsize)\n",
    "plt.title(r'$\\kappa=$'+f'variable\\nforce_code={force_code}, neighbors={neighbor}\\nr={r},D={D},L={L}\\n',fontsize=fontsize)\n",
    "plt.show()"
   ]
  },
  {
   "cell_type": "code",
   "execution_count": 231,
   "metadata": {
    "ExecuteTime": {
     "end_time": "2021-08-11T19:51:55.047976Z",
     "start_time": "2021-08-11T19:51:54.964853Z"
    }
   },
   "outputs": [
    {
     "name": "stdout",
     "output_type": "stream",
     "text": [
      "[0.9980735675578696, 0.9982327915134429, 0.9982496907562921, 0.998202726304392, 0.9979102003723361, 0.9976229576711108, 0.9977539676153646, 0.9982775613427805, 0.9979115054323936, 0.9984489011627689, 0.9977881691220786, 0.9975113193034242]\n"
     ]
    }
   ],
   "source": [
    "q_min=0.3;q_max=2\n",
    "#TODO: plot m+-Delta_m versus energy gap for LR and FK model\n",
    "#plot data\n",
    "kappa=kappa_values[0]\n",
    "# r=1.;D=5.;Dratio=1000;L=L_values[-1]\n",
    "eg_lst=[];m_lst=[];Dm_lst=[];Rsq_lst=[]\n",
    "for varkappa in varkappa_values:\n",
    "    try:\n",
    "        #query the DataFrame\n",
    "        query =(df.set_second==set_second)&(df.reflect==reflect)\n",
    "        query&=df.r==r\n",
    "        query&=df.D==D\n",
    "        query&=df.L==L\n",
    "        query&=df.varkappa==varkappa\n",
    "        query&=df.x0==x0\n",
    "        query&=(df.no_repulsion==no_repulsion)&(df.no_attraction==no_attraction)\n",
    "        query&=(df.neighbor==neighbor)&(df.force_code==force_code)\n",
    "        dg=df[query]\n",
    "\n",
    "        kappa_values=np.array(sorted(set(dg.kappa.values)))\n",
    "        kappa=kappa_values[0]\n",
    "        dh=dg[dg.kappa==kappa]\n",
    "        x_values=dh.q.values\n",
    "        y_values=dh.w.values\n",
    "\n",
    "        boo=(x_values>q_min)&(x_values<q_max)\n",
    "        x=x_values[boo]\n",
    "        y=y_values[boo]\n",
    "        \n",
    "        # print_fit_power_law(x,y)\n",
    "        B,Delta_B,m,Delta_m,Rsq=fit_power_law(x,y)\n",
    "        rmse=compute_power_rmse(x,y,m,B)\n",
    "        M, Delta_M= comp_power_scale(B,Delta_B,m,Delta_m)\n",
    "    #     print(f\"m={m:.3f}+-{Delta_m:.3f}; B={B:.3f}+-{Delta_B:.3f}\")\n",
    "    #     print(f\"M=B**m={M:.2f}+-{Delta_M:.2f} Hz*cm^{{2(m-1)}}\")\n",
    "    #     print(f\"RMSE={rmse:.4f} Hz/cm^2\")\n",
    "    #     print(f\"R^2={Rsq:.3f}\")\n",
    "\n",
    "        eg_lst.append(varkappa)\n",
    "        m_lst.append(m)\n",
    "        Dm_lst.append(Delta_m)\n",
    "        Rsq_lst.append(Rsq)\n",
    "    except AssertionError as e:\n",
    "        pass\n",
    "print(Rsq_lst)"
   ]
  },
  {
   "cell_type": "code",
   "execution_count": 233,
   "metadata": {
    "ExecuteTime": {
     "end_time": "2021-08-11T19:52:42.005132Z",
     "start_time": "2021-08-11T19:52:41.838039Z"
    },
    "scrolled": true
   },
   "outputs": [
    {
     "data": {
      "image/png": "[encoded data removed]",
      "text/plain": [
       "<Figure size 432x288 with 1 Axes>"
      ]
     },
     "metadata": {
      "needs_background": "light"
     },
     "output_type": "display_data"
    },
    {
     "name": "stdout",
     "output_type": "stream",
     "text": [
      "considering 0.3<q<2\n"
     ]
    }
   ],
   "source": [
    "m_fk=1.945#1.858;#+-0.027; B_fk=2.464+-0.030<br>\n",
    "m_lr=1.544#1.638;#+-0.017; B_fk=5.588+-0.067\n",
    "plt.errorbar(eg_lst, m_lst, yerr=Dm_lst, fmt='-o',label='Monte Carlo')\n",
    "plt.plot(eg_lst, m_fk+0.*np.array(eg_lst), '--',c='gray',label='Fenton-Karma')\n",
    "plt.plot(eg_lst, m_lr+0.*np.array(eg_lst), '-',c='gray',label='Luo-Rudy')\n",
    "\n",
    "# plt.scatter(Dtdt_lst,m_lst,marker='^')\n",
    "# plt.xscale('log')\n",
    "# title=f\"r={r:.1f} cm, \"+r\"$\\kappa$=\"+f\"{kappa:.0f} Hz\\nD={D} cm\"+r\"$^2$/s\"+f\", A={L**2:.0f} cm\"+r\"$^2$\"\n",
    "title=f\"r={r:.1f} cm, \"+r\"$\\kappa$=\"+f\"variable\\nD={D} cm\"+r\"$^2$/s\"+f\", A={L**2:.0f} cm\"+r\"$^2$\"\n",
    "plt.title(title,fontsize=fontsize)\n",
    "plt.xlabel(r'$\\varkappa$',fontsize=fontsize)\n",
    "plt.ylabel('exponent',fontsize=fontsize)\n",
    "# plt.xscale('log')\n",
    "# plt.yscale('log')\n",
    "plt.tick_params(axis='both', which='major', labelsize=fontsize)\n",
    "plt.tick_params(axis='both', which='minor', labelsize=0)\n",
    "# plt.legend(fontsize=fontsize-8)#,ncol=2)\n",
    "# plt.xlim([10,50])\n",
    "# plt.ylim([0.9,2.3])\n",
    "# plt.grid('on')\n",
    "plt.legend(fontsize=fontsize-2)\n",
    "plt.show()\n",
    "# print(\"considering 20<N<50 spiral tips\")\n",
    "# print(\"considering N<20 spiral tips\")\n",
    "print(f\"considering {q_min}<q<{q_max}\")"
   ]
  },
  {
   "cell_type": "markdown",
   "metadata": {
    "heading_collapsed": true
   },
   "source": [
    "# (skip) varying x0 for Case 3 of spring forces"
   ]
  },
  {
   "cell_type": "code",
   "execution_count": 286,
   "metadata": {
    "ExecuteTime": {
     "end_time": "2021-05-27T00:51:07.917022Z",
     "start_time": "2021-05-27T00:51:07.569646Z"
    },
    "hidden": true
   },
   "outputs": [
    {
     "name": "stdout",
     "output_type": "stream",
     "text": [
      "varkappa=-20\n",
      "D=20\n",
      "kappa=1500\n"
     ]
    },
    {
     "data": {
      "image/png": "[encoded data removed]",
      "text/plain": [
       "<Figure size 432x288 with 1 Axes>"
      ]
     },
     "metadata": {
      "needs_background": "light"
     },
     "output_type": "display_data"
    }
   ],
   "source": [
    "varkappa=varkappa_values[0];print(f'varkappa={varkappa}')\n",
    "# varkappa=varkappa_values[2];print(f'varkappa={varkappa}')\n",
    "r=r_values[0];\n",
    "D=D_values[1];print(f'D={D}')\n",
    "L=L_values[-1]\n",
    "kappa_values=np.array(sorted(set(df['kappa'].values)))\n",
    "kappa=kappa_values[2];print(f'kappa={kappa}')\n",
    "#plot fits for full model\n",
    "m_fk=1.945;#+-0.030; B_fk=2.441+-0.051\n",
    "m_lr=1.544;#+-0.034; B_lr=5.870+-0.137\n",
    "M_fk=5.67;#+-0.39 Hz*cm^{2(m-1)}\n",
    "M_lr=15.37;#+-1.57 Hz*cm^{2(m-1)}\n",
    "# RMSE_fk=0.1252 Hz/cm^2\n",
    "# RMSE_lr=0.0974 Hz/cm^2\n",
    "# R^2=0.997 (FK)\n",
    "# R^2=0.994 (LR)\n",
    "# yscale=10**3\n",
    "xv=np.arange(0.1,1.,.05)\n",
    "yv_fk=M_fk*(xv)**m_fk\n",
    "yv_lr=M_lr*(xv)**m_lr\n",
    "\n",
    "fontsize=16\n",
    "# plt.xlim([0.1,1])\n",
    "# plt.ylim([1e-1,15])\n",
    "plt.yscale('log')\n",
    "plt.xscale('log')\n",
    "plt.plot(xv,yv_fk,label='FK power law fit',zorder=3,lw=4)\n",
    "plt.plot(xv,yv_lr,label='LR power law fit',zorder=3,lw=4)\n",
    "\n",
    "#plot data\n",
    "for x0 in x0_values[[0,1,2,-4,-1]]:#[::2]:\n",
    "    #query the DataFrame\n",
    "    query=df.r==r\n",
    "    query&=df.D==D\n",
    "    query&=df.L==L\n",
    "    query&=df.varkappa==varkappa\n",
    "    query&=df['x0']==x0\n",
    "    query&=df.kappa==kappa\n",
    "    query&=(df.no_repulsion==no_repulsion)&(df.no_attraction==no_attraction)\n",
    "    dff=df[query]\n",
    "    dg=dff.copy()\n",
    "    x_values=dg.q.values\n",
    "    y_values=dg.w.values\n",
    "    if x_values.shape[0]>0:\n",
    "        plt.scatter(x_values,y_values,label=r\"$x_0 =$ \"+f\"{x0:.1f} cm\",alpha=0.8)#,cmap='bwr')\n",
    "\n",
    "plt.ylim([1e-3,1e4])\n",
    "plt.xlabel(r'q (cm$^{-2}$)',fontsize=fontsize)\n",
    "plt.ylabel(r'w (Hz cm$^{-2}$)', fontsize=fontsize)\n",
    "plt.tick_params(axis='both', which='major', labelsize=fontsize)\n",
    "plt.tick_params(axis='both', which='minor', labelsize=0)\n",
    "plt.title(r'$\\varkappa=$'+f'{varkappa}  Hz\\n',fontsize=fontsize)\n",
    "plt.legend(fontsize=fontsize-8,ncol=2,loc='lower right')\n",
    "plt.show()"
   ]
  },
  {
   "cell_type": "code",
   "execution_count": 287,
   "metadata": {
    "ExecuteTime": {
     "end_time": "2021-05-27T00:51:10.317407Z",
     "start_time": "2021-05-27T00:51:10.307171Z"
    },
    "hidden": true
   },
   "outputs": [],
   "source": [
    "# print(f\"\"\"\n",
    "# the following parameter set did not tend to finish in <10 hours...\n",
    "# r={r:.1f},D={D:.0f},L={L:.0f},kappa={kappa:.0f},varkappa={varkappa:.0f},x0={x0:.0f},no_attraction={no_attraction},no_repulsion={no_repulsion}\n",
    "# \"\"\")"
   ]
  },
  {
   "cell_type": "code",
   "execution_count": 288,
   "metadata": {
    "ExecuteTime": {
     "end_time": "2021-05-27T00:51:10.699682Z",
     "start_time": "2021-05-27T00:51:10.639991Z"
    },
    "hidden": true
   },
   "outputs": [
    {
     "name": "stdout",
     "output_type": "stream",
     "text": [
      "[0.996693274038762, 0.9975654219249528, 0.9972765731672059, 0.9978175206269596, 0.9976569344715482, 0.9930568480278263, 0.9961572176751932, 0.9951628886736184]\n"
     ]
    }
   ],
   "source": [
    "q_min=0.3;q_max=0.6\n",
    "#TODO: plot m+-Delta_m versus energy gap for LR and FK model\n",
    "#plot data\n",
    "# r=1.;D=5.;Dratio=1000;L=L_values[-1]\n",
    "eg_lst=[];m_lst=[];Dm_lst=[];Rsq_lst=[]\n",
    "for x0 in x0_values:\n",
    "    try:\n",
    "        #query the DataFrame\n",
    "        query=df.r==r\n",
    "        query&=df.D==D\n",
    "        query&=df.L==L\n",
    "        query&=df.varkappa==varkappa\n",
    "        query&=df['x0']==x0\n",
    "        query&=df.kappa==kappa\n",
    "        query&=(df.no_repulsion==no_repulsion)&(df.no_attraction==no_attraction)\n",
    "        dff=df[query]\n",
    "        dg=dff.copy()\n",
    "        x_values=dg.q.values\n",
    "        y_values=dg.w.values\n",
    "\n",
    "        \n",
    "        boo=(x_values>q_min)&(x_values<q_max)\n",
    "        x=x_values[boo]\n",
    "        y=y_values[boo]\n",
    "\n",
    "        # print_fit_power_law(x,y)\n",
    "        B,Delta_B,m,Delta_m,Rsq=fit_power_law(x,y)\n",
    "        rmse=compute_power_rmse(x,y,m,B)\n",
    "        M, Delta_M= comp_power_scale(B,Delta_B,m,Delta_m)\n",
    "    #     print(f\"m={m:.3f}+-{Delta_m:.3f}; B={B:.3f}+-{Delta_B:.3f}\")\n",
    "    #     print(f\"M=B**m={M:.2f}+-{Delta_M:.2f} Hz*cm^{{2(m-1)}}\")\n",
    "    #     print(f\"RMSE={rmse:.4f} Hz/cm^2\")\n",
    "    #     print(f\"R^2={Rsq:.3f}\")\n",
    "\n",
    "        eg_lst.append(x0)\n",
    "        m_lst.append(m)\n",
    "        Dm_lst.append(Delta_m)\n",
    "        Rsq_lst.append(Rsq)\n",
    "    except AssertionError as e:\n",
    "        pass\n",
    "print(Rsq_lst)"
   ]
  },
  {
   "cell_type": "code",
   "execution_count": 289,
   "metadata": {
    "ExecuteTime": {
     "end_time": "2021-05-27T00:51:11.421392Z",
     "start_time": "2021-05-27T00:51:11.264895Z"
    },
    "hidden": true
   },
   "outputs": [
    {
     "data": {
      "image/png": "[encoded data removed]",
      "text/plain": [
       "<Figure size 432x288 with 1 Axes>"
      ]
     },
     "metadata": {
      "needs_background": "light"
     },
     "output_type": "display_data"
    },
    {
     "name": "stdout",
     "output_type": "stream",
     "text": [
      "considering 0.3<q<0.6\n"
     ]
    }
   ],
   "source": [
    "m_fk=1.945#1.858;#+-0.027; B_fk=2.464+-0.030<br>\n",
    "m_lr=1.544#1.638;#+-0.017; B_fk=5.588+-0.067\n",
    "plt.errorbar(eg_lst, m_lst, yerr=Dm_lst, fmt='-o',label='Monte Carlo')\n",
    "plt.plot(eg_lst, m_fk+0.*np.array(eg_lst), '--',c='gray',label='Fenton-Karma')\n",
    "plt.plot(eg_lst, m_lr+0.*np.array(eg_lst), '-',c='gray',label='Luo-Rudy')\n",
    "\n",
    "# plt.scatter(Dtdt_lst,m_lst,marker='^')\n",
    "# plt.xscale('log')\n",
    "title=f\"r={r:.1f} cm, \"+r\"$\\kappa$=\"+f\"{kappa:.0f} Hz\\nD={D} cm\"+r\"$^2$/s\"+f\", A={L**2:.0f} cm\"+r\"$^2$\"\n",
    "plt.title(title,fontsize=fontsize)\n",
    "plt.xlabel(r'$x_0$',fontsize=fontsize)\n",
    "plt.ylabel('exponent',fontsize=fontsize)\n",
    "# plt.xscale('log')\n",
    "# plt.yscale('log')\n",
    "plt.tick_params(axis='both', which='major', labelsize=fontsize)\n",
    "plt.tick_params(axis='both', which='minor', labelsize=0)\n",
    "# plt.legend(fontsize=fontsize-8)#,ncol=2)\n",
    "# plt.xlim([10,50])\n",
    "# plt.ylim([0.9,2.3])\n",
    "# plt.grid('on')\n",
    "plt.legend(fontsize=fontsize-2)\n",
    "plt.show()\n",
    "# print(\"considering 20<N<50 spiral tips\")\n",
    "# print(\"considering N<20 spiral tips\")\n",
    "print(f\"considering {q_min}<q<{q_max}\")"
   ]
  },
  {
   "cell_type": "markdown",
   "metadata": {
    "ExecuteTime": {
     "end_time": "2021-05-26T23:12:05.448054Z",
     "start_time": "2021-05-26T23:12:05.429490Z"
    },
    "hidden": true
   },
   "source": [
    "__Result:__ at high densities, exponent values _versus_ $x_0$ appear relatively unaffected by increasing the overall rate of reaction, $\\kappa>0$.\n",
    "\n",
    "__Note:__ any trials that returned gibberish results seemed to have r=1.0cm...\n",
    "\n",
    "Can I shift the overall rate (M) without changing the exponent?  So far, no.  Unless if r does it for large r.  I only look at small r here.\n",
    "\n",
    "gibberish trials exhibited negative collision times.  \n",
    "- DONT: find the point in the analysis pipeline where gibberish trials are filtered.\n",
    "    - it is no-where in this .ipynb\n",
    "    - DONE: check around in run_9_all/ for one trial that had CollRate<0.  \n",
    "        - IF none exist, __then filter_folder.py is responsible (confirmed)__\n",
    "            - ( some exist, then I can identify them quickly with a short function using pandas.)\n",
    "- DONT: print ^that slice of the data.  Do they have something concerning in common?\n",
    "\n",
    "Looking at jobs that returned gibberish:\n",
    "- cat job.out.9981847.999\n",
    "    - r=1,kappa=1500,all forces were off\n",
    "- cat job.out.9981847.900\n",
    "    - r=1,kappa=500,all forces were on\n",
    "- cat job.out.9981847.900\n",
    "    - r=1,kappa=500,all forces were on\n",
    "    \n",
    "...no trials were observed with r=1 in df"
   ]
  },
  {
   "cell_type": "code",
   "execution_count": 111,
   "metadata": {
    "ExecuteTime": {
     "end_time": "2021-05-25T01:36:04.252385Z",
     "start_time": "2021-05-25T01:36:04.226676Z"
    },
    "hidden": true
   },
   "outputs": [
    {
     "name": "stdout",
     "output_type": "stream",
     "text": [
      "the set of r values are\n"
     ]
    },
    {
     "data": {
      "text/plain": [
       "{0.1}"
      ]
     },
     "execution_count": 111,
     "metadata": {},
     "output_type": "execute_result"
    }
   ],
   "source": [
    "print(f\"the set of r values are\")\n",
    "set(df.r.values)"
   ]
  },
  {
   "cell_type": "markdown",
   "metadata": {
    "hidden": true
   },
   "source": [
    "__Conclusion__\n",
    "- Large r values resulted in a functional failure... Avoid large r for now.  I have observed them to be small (r~0.1cm) anyway!"
   ]
  },
  {
   "cell_type": "markdown",
   "metadata": {
    "heading_collapsed": true
   },
   "source": [
    "# (skip) varying r for Case 3"
   ]
  },
  {
   "cell_type": "code",
   "execution_count": 400,
   "metadata": {
    "ExecuteTime": {
     "end_time": "2021-05-27T01:32:00.922033Z",
     "start_time": "2021-05-27T01:32:00.617043Z"
    },
    "hidden": true,
    "scrolled": true
   },
   "outputs": [
    {
     "name": "stdout",
     "output_type": "stream",
     "text": [
      "varkappa=-10\n",
      "x0=5.0\n",
      "D=2\n",
      "kappa=1500\n"
     ]
    },
    {
     "data": {
      "image/png": "[encoded data removed]",
      "text/plain": [
       "<Figure size 432x288 with 1 Axes>"
      ]
     },
     "metadata": {
      "needs_background": "light"
     },
     "output_type": "display_data"
    }
   ],
   "source": [
    "# varkappa=varkappa_values[3];print(f'varkappa={varkappa}')\n",
    "varkappa=varkappa_values[1];print(f'varkappa={varkappa}')\n",
    "# r=r_values[0];\n",
    "x0 =x0_values[-1];print(f'x0={x0}')#[0,1,2,-4,-1]]:#[::2]:\n",
    "D=D_values[0];print(f'D={D}')\n",
    "L=L_values[-1]\n",
    "kappa_values=np.array(sorted(set(df['kappa'].values)))\n",
    "kappa=kappa_values[-1];print(f'kappa={kappa}')\n",
    "no_attraction=1\n",
    "#plot fits for full model\n",
    "m_fk=1.945;#+-0.030; B_fk=2.441+-0.051\n",
    "m_lr=1.544;#+-0.034; B_lr=5.870+-0.137\n",
    "M_fk=5.67;#+-0.39 Hz*cm^{2(m-1)}\n",
    "M_lr=15.37;#+-1.57 Hz*cm^{2(m-1)}\n",
    "# RMSE_fk=0.1252 Hz/cm^2\n",
    "# RMSE_lr=0.0974 Hz/cm^2\n",
    "# R^2=0.997 (FK)\n",
    "# R^2=0.994 (LR)\n",
    "# yscale=10**3\n",
    "xv=np.arange(0.1,1.,.05)\n",
    "yv_fk=M_fk*(xv)**m_fk\n",
    "yv_lr=M_lr*(xv)**m_lr\n",
    "\n",
    "fontsize=16\n",
    "# plt.xlim([0.1,1])\n",
    "# plt.ylim([1e-1,15])\n",
    "plt.yscale('log')\n",
    "plt.xscale('log')\n",
    "plt.plot(xv,yv_fk,label='FK power law fit',zorder=3,lw=4)\n",
    "plt.plot(xv,yv_lr,label='LR power law fit',zorder=3,lw=4)\n",
    "\n",
    "#plot data\n",
    "for r in r_values:\n",
    "    #query the DataFrame\n",
    "    query=df.r==r\n",
    "    query&=df.D==D\n",
    "    query&=df.L==L\n",
    "    query&=df.varkappa==varkappa\n",
    "    query&=df['x0']==x0\n",
    "    query&=df.kappa==kappa\n",
    "    query&=(df.no_repulsion==no_repulsion)&(df.no_attraction==no_attraction)\n",
    "    dff=df[query]\n",
    "    dg=dff.copy()\n",
    "    x_values=dg.q.values\n",
    "    y_values=dg.w.values\n",
    "    if x_values.shape[0]>0:\n",
    "        plt.scatter(x_values,y_values,label=r\"$r=$ \"+f\"{r:.1f} cm\",alpha=0.8)#,cmap='bwr')\n",
    "\n",
    "plt.ylim([1e-3,1e4])\n",
    "plt.xlabel(r'q (cm$^{-2}$)',fontsize=fontsize)\n",
    "plt.ylabel(r'w (Hz cm$^{-2}$)', fontsize=fontsize)\n",
    "plt.tick_params(axis='both', which='major', labelsize=fontsize)\n",
    "plt.tick_params(axis='both', which='minor', labelsize=0)\n",
    "plt.title(r'$\\varkappa=$'+f'{varkappa}  Hz\\n',fontsize=fontsize)\n",
    "plt.legend(fontsize=fontsize-8,ncol=2,loc='lower right')\n",
    "plt.show()"
   ]
  },
  {
   "cell_type": "code",
   "execution_count": 401,
   "metadata": {
    "ExecuteTime": {
     "end_time": "2021-05-27T01:32:05.707215Z",
     "start_time": "2021-05-27T01:32:05.695595Z"
    },
    "hidden": true
   },
   "outputs": [],
   "source": [
    "# print(f\"\"\"\n",
    "# the following parameter set did not tend to finish in <10 hours...\n",
    "# r={r:.1f},D={D:.0f},L={L:.0f},kappa={kappa:.0f},varkappa={varkappa:.0f},x0={x0:.0f},no_attraction={no_attraction},no_repulsion={no_repulsion}\n",
    "# \"\"\")\n"
   ]
  },
  {
   "cell_type": "markdown",
   "metadata": {
    "hidden": true
   },
   "source": [
    "TODO: remove as many variables as possible while retaining the ability to control slope and magnitude on the log-log plot\n",
    "- fix r,L\n",
    "- try removing kappa using instantaneous reactions\n",
    "- then, try removing x0 by using scale-invariant, long-ranged forces between (i) nearest neighbors and (ii) all particles\n",
    "- vary D and varkappa to fit to model\n",
    "\n",
    "\n",
    "Alternatively, make a scatterplot of all available varkappa,x0 pairs that worked, and then make a genetic algorithm.\n",
    "\n",
    "Maybe later, consider trying a force like $F = F_1 \\log (r/r0) + F_0$"
   ]
  },
  {
   "cell_type": "code",
   "execution_count": 402,
   "metadata": {
    "ExecuteTime": {
     "end_time": "2021-05-27T01:32:07.467031Z",
     "start_time": "2021-05-27T01:32:07.437972Z"
    },
    "hidden": true
   },
   "outputs": [
    {
     "name": "stdout",
     "output_type": "stream",
     "text": [
      "[0.9961006092182717, 0.9948700088332451]\n"
     ]
    }
   ],
   "source": [
    "q_min=0.3;q_max=0.6\n",
    "#TODO: plot m+-Delta_m versus energy gap for LR and FK model\n",
    "#plot data\n",
    "# r=1.;D=5.;Dratio=1000;L=L_values[-1]\n",
    "eg_lst=[];m_lst=[];Dm_lst=[];Rsq_lst=[]\n",
    "for r in r_values:\n",
    "    try:\n",
    "        #query the DataFrame\n",
    "        query=df.r==r\n",
    "        query&=df.D==D\n",
    "        query&=df.L==L\n",
    "        query&=df.varkappa==varkappa\n",
    "        query&=df['x0']==x0\n",
    "        query&=df.kappa==kappa\n",
    "        query&=(df.no_repulsion==no_repulsion)&(df.no_attraction==no_attraction)\n",
    "        dff=df[query]\n",
    "        dg=dff.copy()\n",
    "        x_values=dg.q.values\n",
    "        y_values=dg.w.values\n",
    "\n",
    "        \n",
    "        boo=(x_values>q_min)&(x_values<q_max)\n",
    "        x=x_values[boo]\n",
    "        y=y_values[boo]\n",
    "\n",
    "        # print_fit_power_law(x,y)\n",
    "        B,Delta_B,m,Delta_m,Rsq=fit_power_law(x,y)\n",
    "        rmse=compute_power_rmse(x,y,m,B)\n",
    "        M, Delta_M= comp_power_scale(B,Delta_B,m,Delta_m)\n",
    "    #     print(f\"m={m:.3f}+-{Delta_m:.3f}; B={B:.3f}+-{Delta_B:.3f}\")\n",
    "    #     print(f\"M=B**m={M:.2f}+-{Delta_M:.2f} Hz*cm^{{2(m-1)}}\")\n",
    "    #     print(f\"RMSE={rmse:.4f} Hz/cm^2\")\n",
    "    #     print(f\"R^2={Rsq:.3f}\")\n",
    "\n",
    "        eg_lst.append(r)\n",
    "        m_lst.append(m)\n",
    "        Dm_lst.append(Delta_m)\n",
    "        Rsq_lst.append(Rsq)\n",
    "    except AssertionError as e:\n",
    "        pass\n",
    "print(Rsq_lst)"
   ]
  },
  {
   "cell_type": "code",
   "execution_count": 403,
   "metadata": {
    "ExecuteTime": {
     "end_time": "2021-05-27T01:32:08.473407Z",
     "start_time": "2021-05-27T01:32:08.335038Z"
    },
    "hidden": true
   },
   "outputs": [
    {
     "data": {
      "image/png": "[encoded data removed]",
      "text/plain": [
       "<Figure size 432x288 with 1 Axes>"
      ]
     },
     "metadata": {
      "needs_background": "light"
     },
     "output_type": "display_data"
    },
    {
     "name": "stdout",
     "output_type": "stream",
     "text": [
      "considering 0.3<q<0.6\n"
     ]
    }
   ],
   "source": [
    "m_fk=1.945#1.858;#+-0.027; B_fk=2.464+-0.030<br>\n",
    "m_lr=1.544#1.638;#+-0.017; B_fk=5.588+-0.067\n",
    "plt.errorbar(eg_lst, m_lst, yerr=Dm_lst, fmt='-o',label='Monte Carlo')\n",
    "plt.plot(eg_lst, m_fk+0.*np.array(eg_lst), '--',c='gray',label='Fenton-Karma')\n",
    "plt.plot(eg_lst, m_lr+0.*np.array(eg_lst), '-',c='gray',label='Luo-Rudy')\n",
    "\n",
    "# plt.scatter(Dtdt_lst,m_lst,marker='^')\n",
    "# plt.xscale('log')\n",
    "title=f\"$x_0=$\"+f\"{x0:.0f} cm, \"+r\"$\\kappa$=\"+f\"{kappa:.0f} Hz\\nD={D} cm\"+r\"$^2$/s\"+f\", A={L**2:.0f} cm\"+r\"$^2$\"\n",
    "plt.title(title,fontsize=fontsize)\n",
    "plt.xlabel(r'$r$',fontsize=fontsize)\n",
    "plt.ylabel('exponent',fontsize=fontsize)\n",
    "# plt.xscale('log')\n",
    "# plt.yscale('log')\n",
    "plt.tick_params(axis='both', which='major', labelsize=fontsize)\n",
    "plt.tick_params(axis='both', which='minor', labelsize=0)\n",
    "# plt.legend(fontsize=fontsize-8)#,ncol=2)\n",
    "# plt.xlim([10,50])\n",
    "# plt.ylim([0.9,2.3])\n",
    "# plt.grid('on')\n",
    "plt.legend(fontsize=fontsize-2,loc='lower right')\n",
    "plt.show()\n",
    "# print(\"considering 20<N<50 spiral tips\")\n",
    "# print(\"considering N<20 spiral tips\")\n",
    "print(f\"considering {q_min}<q<{q_max}\")"
   ]
  },
  {
   "cell_type": "code",
   "execution_count": 373,
   "metadata": {
    "ExecuteTime": {
     "end_time": "2021-05-27T01:22:20.829772Z",
     "start_time": "2021-05-27T01:22:20.811363Z"
    },
    "hidden": true
   },
   "outputs": [
    {
     "name": "stdout",
     "output_type": "stream",
     "text": [
      "trials with case 3 and r=0.4 that finished\n",
      "kappa:{100}\n",
      "D:{2, 20}\n",
      "however, ^these trials did not finish when r=0.1...\n"
     ]
    }
   ],
   "source": [
    "print('trials with case 3 and r=0.4 that finished')\n",
    "print(f'kappa:{set(df[(df.varkappa<0)&(df.r==0.4)&(df.x0>0)].kappa.values)}')\n",
    "print(f'D:{set(df[(df.varkappa<0)&(df.r==0.4)].D.values)}')\n",
    "print(f\"however, ^these trials did not finish when r=0.1...\")"
   ]
  },
  {
   "cell_type": "markdown",
   "metadata": {},
   "source": [
    "# TODO: make the standard 2 panel figure for 1 token control trial\n",
    "- Control: varkappa<0, x0=0\n",
    "\n",
    "# TODO: make the standard 2 panel figure\n",
    " for each nontrivial case\n",
    " - Case 1: varkappa>0, x0=0\n",
    " - Case 2: varkappa>0, x0>0\n",
    " - Case 3: varkappa<0, x0>0\n",
    " \n",
    " \n",
    " Consider Panel \n",
    " A = Control\n",
    " BCD"
   ]
  },
  {
   "cell_type": "markdown",
   "metadata": {
    "heading_collapsed": true
   },
   "source": [
    "# TODO: compute the RMSE of each trial with the power fit of the full model, limiting sample to relevant particle number densities"
   ]
  },
  {
   "cell_type": "markdown",
   "metadata": {
    "heading_collapsed": true
   },
   "source": [
    "# TODO: compute the change in mean CollRate as a result of turning on the forces (setting no_attraction from 1 to 0)."
   ]
  },
  {
   "cell_type": "code",
   "execution_count": 194,
   "metadata": {
    "ExecuteTime": {
     "end_time": "2021-05-26T23:41:01.047840Z",
     "start_time": "2021-05-26T23:41:00.940046Z"
    },
    "hidden": true
   },
   "outputs": [],
   "source": [
    "#TODO: groupby groups\n",
    "groups=['r','D','L','kappa','varkappa','x0','A','no_repulsion']\n",
    "\n",
    "#TODO:compute the rate change \n",
    "df.loc[df.no_attraction==0,'change_of_rate']=df[df.no_attraction==0]['CollRate']-df[df.no_attraction==1]['CollRate']\n",
    "df.loc[df.no_attraction==1,'change_of_rate']=df[df.no_attraction==0]['CollRate']-df[df.no_attraction==1]['CollRate']\n",
    "\n",
    "df.sort_values(['r','D','L','kappa','varkappa','x0','A','no_repulsion'],inplace=True)"
   ]
  },
  {
   "cell_type": "code",
   "execution_count": 195,
   "metadata": {
    "ExecuteTime": {
     "end_time": "2021-05-26T23:41:02.760553Z",
     "start_time": "2021-05-26T23:41:02.723569Z"
    },
    "hidden": true
   },
   "outputs": [
    {
     "data": {
      "text/html": [
       "<div>\n",
       "<style scoped>\n",
       "    .dataframe tbody tr th:only-of-type {\n",
       "        vertical-align: middle;\n",
       "    }\n",
       "\n",
       "    .dataframe tbody tr th {\n",
       "        vertical-align: top;\n",
       "    }\n",
       "\n",
       "    .dataframe thead th {\n",
       "        text-align: right;\n",
       "    }\n",
       "</style>\n",
       "<table border=\"1\" class=\"dataframe\">\n",
       "  <thead>\n",
       "    <tr style=\"text-align: right;\">\n",
       "      <th></th>\n",
       "      <th>x0</th>\n",
       "      <th>varkappa</th>\n",
       "      <th>set_second</th>\n",
       "      <th>reflect</th>\n",
       "      <th>r</th>\n",
       "      <th>no_repulsion</th>\n",
       "      <th>no_attraction</th>\n",
       "      <th>kappa</th>\n",
       "      <th>dt</th>\n",
       "      <th>N</th>\n",
       "      <th>L</th>\n",
       "      <th>Dt</th>\n",
       "      <th>D</th>\n",
       "      <th>CollRate</th>\n",
       "      <th>A</th>\n",
       "      <th>q</th>\n",
       "      <th>w</th>\n",
       "      <th>change_of_rate</th>\n",
       "    </tr>\n",
       "  </thead>\n",
       "  <tbody>\n",
       "    <tr>\n",
       "      <th>21185</th>\n",
       "      <td>0.5</td>\n",
       "      <td>-20</td>\n",
       "      <td>0</td>\n",
       "      <td>0</td>\n",
       "      <td>0.1</td>\n",
       "      <td>1</td>\n",
       "      <td>0</td>\n",
       "      <td>100</td>\n",
       "      <td>0.00001</td>\n",
       "      <td>6</td>\n",
       "      <td>10</td>\n",
       "      <td>0.00001</td>\n",
       "      <td>2</td>\n",
       "      <td>0.260860</td>\n",
       "      <td>100</td>\n",
       "      <td>0.06</td>\n",
       "      <td>0.002609</td>\n",
       "      <td>NaN</td>\n",
       "    </tr>\n",
       "    <tr>\n",
       "      <th>21186</th>\n",
       "      <td>0.5</td>\n",
       "      <td>-20</td>\n",
       "      <td>0</td>\n",
       "      <td>0</td>\n",
       "      <td>0.1</td>\n",
       "      <td>1</td>\n",
       "      <td>0</td>\n",
       "      <td>100</td>\n",
       "      <td>0.00001</td>\n",
       "      <td>7</td>\n",
       "      <td>10</td>\n",
       "      <td>0.00001</td>\n",
       "      <td>2</td>\n",
       "      <td>0.412341</td>\n",
       "      <td>100</td>\n",
       "      <td>0.07</td>\n",
       "      <td>0.004123</td>\n",
       "      <td>NaN</td>\n",
       "    </tr>\n",
       "    <tr>\n",
       "      <th>21187</th>\n",
       "      <td>0.5</td>\n",
       "      <td>-20</td>\n",
       "      <td>0</td>\n",
       "      <td>0</td>\n",
       "      <td>0.1</td>\n",
       "      <td>1</td>\n",
       "      <td>0</td>\n",
       "      <td>100</td>\n",
       "      <td>0.00001</td>\n",
       "      <td>8</td>\n",
       "      <td>10</td>\n",
       "      <td>0.00001</td>\n",
       "      <td>2</td>\n",
       "      <td>0.663055</td>\n",
       "      <td>100</td>\n",
       "      <td>0.08</td>\n",
       "      <td>0.006631</td>\n",
       "      <td>NaN</td>\n",
       "    </tr>\n",
       "    <tr>\n",
       "      <th>21188</th>\n",
       "      <td>0.5</td>\n",
       "      <td>-20</td>\n",
       "      <td>0</td>\n",
       "      <td>0</td>\n",
       "      <td>0.1</td>\n",
       "      <td>1</td>\n",
       "      <td>0</td>\n",
       "      <td>100</td>\n",
       "      <td>0.00001</td>\n",
       "      <td>9</td>\n",
       "      <td>10</td>\n",
       "      <td>0.00001</td>\n",
       "      <td>2</td>\n",
       "      <td>0.923199</td>\n",
       "      <td>100</td>\n",
       "      <td>0.09</td>\n",
       "      <td>0.009232</td>\n",
       "      <td>NaN</td>\n",
       "    </tr>\n",
       "    <tr>\n",
       "      <th>21189</th>\n",
       "      <td>0.5</td>\n",
       "      <td>-20</td>\n",
       "      <td>0</td>\n",
       "      <td>0</td>\n",
       "      <td>0.1</td>\n",
       "      <td>1</td>\n",
       "      <td>0</td>\n",
       "      <td>100</td>\n",
       "      <td>0.00001</td>\n",
       "      <td>10</td>\n",
       "      <td>10</td>\n",
       "      <td>0.00001</td>\n",
       "      <td>2</td>\n",
       "      <td>1.211192</td>\n",
       "      <td>100</td>\n",
       "      <td>0.10</td>\n",
       "      <td>0.012112</td>\n",
       "      <td>NaN</td>\n",
       "    </tr>\n",
       "  </tbody>\n",
       "</table>\n",
       "</div>"
      ],
      "text/plain": [
       "        x0  varkappa  set_second  reflect    r  no_repulsion  no_attraction  \\\n",
       "21185  0.5       -20           0        0  0.1             1              0   \n",
       "21186  0.5       -20           0        0  0.1             1              0   \n",
       "21187  0.5       -20           0        0  0.1             1              0   \n",
       "21188  0.5       -20           0        0  0.1             1              0   \n",
       "21189  0.5       -20           0        0  0.1             1              0   \n",
       "\n",
       "       kappa       dt   N   L       Dt  D  CollRate    A     q         w  \\\n",
       "21185    100  0.00001   6  10  0.00001  2  0.260860  100  0.06  0.002609   \n",
       "21186    100  0.00001   7  10  0.00001  2  0.412341  100  0.07  0.004123   \n",
       "21187    100  0.00001   8  10  0.00001  2  0.663055  100  0.08  0.006631   \n",
       "21188    100  0.00001   9  10  0.00001  2  0.923199  100  0.09  0.009232   \n",
       "21189    100  0.00001  10  10  0.00001  2  1.211192  100  0.10  0.012112   \n",
       "\n",
       "       change_of_rate  \n",
       "21185             NaN  \n",
       "21186             NaN  \n",
       "21187             NaN  \n",
       "21188             NaN  \n",
       "21189             NaN  "
      ]
     },
     "execution_count": 195,
     "metadata": {},
     "output_type": "execute_result"
    }
   ],
   "source": [
    "df.head()"
   ]
  },
  {
   "cell_type": "markdown",
   "metadata": {
    "hidden": true
   },
   "source": [
    "DONE: genetic algorithm k-parents\n",
    "    1. consider the k trials with RMSE for (i) the FK model and (ii) the LR model\n",
    "    1. take random linear combinations of ^those parents, run them on the OSG, and then take the k best fits\n",
    "    1. repeat until desired convergence is met\n",
    "    1. repeat for various k, and visualize any (in)dependence of k\n",
    "- DONE: find rough fit to initialize genetic algorithm\n"
   ]
  },
  {
   "cell_type": "code",
   "execution_count": 408,
   "metadata": {
    "ExecuteTime": {
     "end_time": "2021-05-27T20:31:31.225320Z",
     "start_time": "2021-05-27T20:31:31.081710Z"
    },
    "hidden": true
   },
   "outputs": [
    {
     "data": {
      "text/html": [
       "<div>\n",
       "<style scoped>\n",
       "    .dataframe tbody tr th:only-of-type {\n",
       "        vertical-align: middle;\n",
       "    }\n",
       "\n",
       "    .dataframe tbody tr th {\n",
       "        vertical-align: top;\n",
       "    }\n",
       "\n",
       "    .dataframe thead th {\n",
       "        text-align: right;\n",
       "    }\n",
       "</style>\n",
       "<table border=\"1\" class=\"dataframe\">\n",
       "  <thead>\n",
       "    <tr style=\"text-align: right;\">\n",
       "      <th></th>\n",
       "      <th>x0</th>\n",
       "      <th>varkappa</th>\n",
       "      <th>set_second</th>\n",
       "      <th>reflect</th>\n",
       "      <th>r</th>\n",
       "      <th>no_repulsion</th>\n",
       "      <th>no_attraction</th>\n",
       "      <th>kappa</th>\n",
       "      <th>dt</th>\n",
       "      <th>N</th>\n",
       "      <th>L</th>\n",
       "      <th>Dt</th>\n",
       "      <th>D</th>\n",
       "      <th>CollRate</th>\n",
       "    </tr>\n",
       "  </thead>\n",
       "  <tbody>\n",
       "    <tr>\n",
       "      <th>0</th>\n",
       "      <td>0.0</td>\n",
       "      <td>-20</td>\n",
       "      <td>0</td>\n",
       "      <td>0</td>\n",
       "      <td>0.1</td>\n",
       "      <td>1</td>\n",
       "      <td>0</td>\n",
       "      <td>500</td>\n",
       "      <td>0.00001</td>\n",
       "      <td>6</td>\n",
       "      <td>10</td>\n",
       "      <td>0.00001</td>\n",
       "      <td>2</td>\n",
       "      <td>0.284806</td>\n",
       "    </tr>\n",
       "    <tr>\n",
       "      <th>1</th>\n",
       "      <td>0.0</td>\n",
       "      <td>-20</td>\n",
       "      <td>0</td>\n",
       "      <td>0</td>\n",
       "      <td>0.1</td>\n",
       "      <td>1</td>\n",
       "      <td>0</td>\n",
       "      <td>500</td>\n",
       "      <td>0.00001</td>\n",
       "      <td>6</td>\n",
       "      <td>10</td>\n",
       "      <td>0.00001</td>\n",
       "      <td>20</td>\n",
       "      <td>0.762509</td>\n",
       "    </tr>\n",
       "    <tr>\n",
       "      <th>2</th>\n",
       "      <td>0.0</td>\n",
       "      <td>-20</td>\n",
       "      <td>0</td>\n",
       "      <td>0</td>\n",
       "      <td>0.1</td>\n",
       "      <td>1</td>\n",
       "      <td>0</td>\n",
       "      <td>500</td>\n",
       "      <td>0.00001</td>\n",
       "      <td>7</td>\n",
       "      <td>10</td>\n",
       "      <td>0.00001</td>\n",
       "      <td>2</td>\n",
       "      <td>0.538927</td>\n",
       "    </tr>\n",
       "    <tr>\n",
       "      <th>3</th>\n",
       "      <td>0.0</td>\n",
       "      <td>-20</td>\n",
       "      <td>0</td>\n",
       "      <td>0</td>\n",
       "      <td>0.1</td>\n",
       "      <td>1</td>\n",
       "      <td>0</td>\n",
       "      <td>500</td>\n",
       "      <td>0.00001</td>\n",
       "      <td>7</td>\n",
       "      <td>10</td>\n",
       "      <td>0.00001</td>\n",
       "      <td>20</td>\n",
       "      <td>1.261349</td>\n",
       "    </tr>\n",
       "    <tr>\n",
       "      <th>4</th>\n",
       "      <td>0.0</td>\n",
       "      <td>-20</td>\n",
       "      <td>0</td>\n",
       "      <td>0</td>\n",
       "      <td>0.1</td>\n",
       "      <td>1</td>\n",
       "      <td>0</td>\n",
       "      <td>500</td>\n",
       "      <td>0.00001</td>\n",
       "      <td>8</td>\n",
       "      <td>10</td>\n",
       "      <td>0.00001</td>\n",
       "      <td>2</td>\n",
       "      <td>0.783767</td>\n",
       "    </tr>\n",
       "  </tbody>\n",
       "</table>\n",
       "</div>"
      ],
      "text/plain": [
       "    x0  varkappa  set_second  reflect    r  no_repulsion  no_attraction  \\\n",
       "0  0.0       -20           0        0  0.1             1              0   \n",
       "1  0.0       -20           0        0  0.1             1              0   \n",
       "2  0.0       -20           0        0  0.1             1              0   \n",
       "3  0.0       -20           0        0  0.1             1              0   \n",
       "4  0.0       -20           0        0  0.1             1              0   \n",
       "\n",
       "   kappa       dt  N   L       Dt   D  CollRate  \n",
       "0    500  0.00001  6  10  0.00001   2  0.284806  \n",
       "1    500  0.00001  6  10  0.00001  20  0.762509  \n",
       "2    500  0.00001  7  10  0.00001   2  0.538927  \n",
       "3    500  0.00001  7  10  0.00001  20  1.261349  \n",
       "4    500  0.00001  8  10  0.00001   2  0.783767  "
      ]
     },
     "execution_count": 408,
     "metadata": {},
     "output_type": "execute_result"
    }
   ],
   "source": [
    "data_dir=\"/home/timothytyree/Documents/GitHub/bgmc/python/data/osg_output/run_10_all.csv\"\n",
    "df=pd.read_csv(data_dir)\n",
    "assert not (df.CollRate<0).any()\n",
    "df.head()"
   ]
  },
  {
   "cell_type": "code",
   "execution_count": 409,
   "metadata": {
    "ExecuteTime": {
     "end_time": "2021-05-27T20:31:34.863529Z",
     "start_time": "2021-05-27T20:31:34.682114Z"
    },
    "hidden": true
   },
   "outputs": [],
   "source": [
    "#derived values\n",
    "# df['CollRate']=1./df['CollTime']\n",
    "df['A']=df['L']**2\n",
    "df['q']=df['N']/df['A'] #number of tips per square centimeter\n",
    "df['w']=df['CollRate']/df['A'] #[mHz?]/cm^2\n",
    "\n",
    "# df=df[df.niter==250].copy()\n",
    "#extract column values\n",
    "r_values=np.array(sorted(set(df.r.values)))#cm\n",
    "D_values=np.array(sorted(set(df.D.values)))#cm^2/s\n",
    "L_values=np.array(sorted(set(df.L.values)))#cm\n",
    "A_values=L_values**2#cm^2\n",
    "kappa_values=np.array(sorted(set(df.kappa.values)))#1/s\n",
    "varkappa_values=np.array(sorted(set(df.varkappa.values)))#1/s\n",
    "x0_values=np.array(sorted(set(df.x0.values)))#1/s\n",
    "set_second_values=np.array(sorted(set(df.set_second.values)))\n",
    "reflect_values=np.array(sorted(set(df.reflect.values)))\n",
    "no_repulsion_values=np.array(sorted(set(df.no_repulsion.values)))\n",
    "no_attraction_values=np.array(sorted(set(df.no_attraction.values)))"
   ]
  },
  {
   "cell_type": "code",
   "execution_count": 410,
   "metadata": {
    "ExecuteTime": {
     "end_time": "2021-05-27T20:31:39.406668Z",
     "start_time": "2021-05-27T20:31:39.390865Z"
    },
    "hidden": true
   },
   "outputs": [
    {
     "name": "stdout",
     "output_type": "stream",
     "text": [
      "[0.1 0.2 0.3 0.4]\n",
      "[ 2 20]\n",
      "[10]\n",
      "[ 100  500 1500]\n",
      "[-20 -10  -5   0   5  10  20]\n",
      "[0.  0.5 1.  1.5 2.  3.  4.  5. ]\n",
      "[0]\n",
      "[0]\n",
      "[1]\n",
      "[0 1]\n"
     ]
    }
   ],
   "source": [
    "#make test for whether there is one input parameter present in an input DataFrame1\n",
    "print(r_values)\n",
    "print(D_values)\n",
    "print(L_values)\n",
    "print(kappa_values)\n",
    "print(varkappa_values)\n",
    "print(x0_values)\n",
    "print(set_second_values)\n",
    "print(reflect_values)\n",
    "print(no_repulsion_values)\n",
    "print(no_attraction_values)"
   ]
  },
  {
   "cell_type": "code",
   "execution_count": 412,
   "metadata": {
    "ExecuteTime": {
     "end_time": "2021-05-27T20:33:32.506481Z",
     "start_time": "2021-05-27T20:33:32.475345Z"
    },
    "hidden": true
   },
   "outputs": [
    {
     "name": "stdout",
     "output_type": "stream",
     "text": [
      "varkappa=-20\n",
      "x0=1.0\n",
      "varkappa=0\n",
      "x0=1.0\n"
     ]
    }
   ],
   "source": [
    "varkappa=varkappa_values[0];print(f'varkappa={varkappa}')\n",
    "x0=x0_values[2];print(f'x0={x0}')\n",
    "#query the DataFrame\n",
    "query =(df.set_second==set_second_values[0])&(df.reflect==reflect_values[0])\n",
    "query&=df.r==r_values[0]\n",
    "query&=df.D==D_values[0]\n",
    "query&=df.L==L_values[0]\n",
    "query&=df.varkappa==varkappa\n",
    "query&=df.x0==x0\n",
    "query&=(df.no_repulsion==no_repulsion_values[0])&(df.no_attraction==no_attraction_values[0])\n",
    "dff=df[query]\n",
    "kappa_values=np.array(sorted(set(dff.kappa.values)))\n",
    "dg=dff[dff.kappa==kappa_values[0]]#smaller reaction rate\n",
    "# dg=dff[dff.kappa==kappa_values[-1]]#Luo-Rudy fit\n",
    "# dg=dff.kappa==kappa_values[0]#Fenton-Karma fit\n",
    "x_values_force=dg.q.values\n",
    "y_values_force=dg.w.values\n",
    "\n",
    "varkappa=varkappa_values[3];print(f'varkappa={varkappa}')\n",
    "x0=x0_values[2];print(f'x0={x0}')\n",
    "#query the DataFrame\n",
    "query =(df.set_second==set_second_values[0])&(df.reflect==reflect_values[0])\n",
    "query&=df.r==r_values[0]\n",
    "query&=df.D==D_values[0]\n",
    "query&=df.L==L_values[0]\n",
    "query&=df.varkappa==varkappa\n",
    "query&=df.x0==x0\n",
    "query&=(df.no_repulsion==no_repulsion_values[0])&(df.no_attraction==no_attraction_values[0])\n",
    "dff=df[query]\n",
    "kappa_values=np.array(sorted(set(dff.kappa.values)))\n",
    "dg=dff[dff.kappa==kappa_values[0]]#smaller reaction rate\n",
    "# dg=dff[dff.kappa==kappa_values[-1]]#Luo-Rudy fit\n",
    "# dg=dff.kappa==kappa_values[0]#Fenton-Karma fit\n",
    "x_values=dg.q.values\n",
    "y_values=dg.w.values"
   ]
  },
  {
   "cell_type": "code",
   "execution_count": 447,
   "metadata": {
    "ExecuteTime": {
     "end_time": "2021-05-27T21:59:14.894100Z",
     "start_time": "2021-05-27T21:59:14.517054Z"
    },
    "hidden": true
   },
   "outputs": [
    {
     "data": {
      "image/png": "[encoded data removed]",
      "text/plain": [
       "<Figure size 432x288 with 1 Axes>"
      ]
     },
     "metadata": {
      "needs_background": "light"
     },
     "output_type": "display_data"
    }
   ],
   "source": [
    "dt=1e-5\n",
    "#plot fits for full model\n",
    "m_fk=1.945;#+-0.030; B_fk=2.441+-0.051\n",
    "m_lr=1.544;#+-0.034; B_lr=5.870+-0.137\n",
    "M_fk=5.67;#+-0.39 Hz*cm^{2(m-1)}\n",
    "M_lr=15.37;#+-1.57 Hz*cm^{2(m-1)}\n",
    "# RMSE_fk=0.1252 Hz/cm^2\n",
    "# RMSE_lr=0.0974 Hz/cm^2\n",
    "# R^2=0.997 (FK)\n",
    "# R^2=0.994 (LR)\n",
    "# yscale=10**3\n",
    "xv=np.arange(0.1,1.,.05)\n",
    "yv_fk=M_fk*(xv)**m_fk\n",
    "yv_lr=M_lr*(xv)**m_lr\n",
    "\n",
    "fontsize=16\n",
    "# plt.xlim([0.1,1])\n",
    "# plt.ylim([1e-1,15])\n",
    "plt.yscale('log')\n",
    "plt.xscale('log')\n",
    "plt.plot(xv,yv_fk,label='FK power law fit',zorder=3,lw=4)\n",
    "plt.plot(xv,yv_lr,label='LR power law fit',zorder=3,lw=4)\n",
    "\n",
    "\n",
    "\n",
    "fontsize=18\n",
    "plt.plot(x_values,y_values,c='C2',alpha=.7,label='simulation without forces',lw=6)\n",
    "plt.plot(x_values_force,y_values_force,c='C3',alpha=.7,label='simulation with forces',lw=6)\n",
    "# plt.plot(x_values,y_values,c=c_values,alpha=0.4,cmap='bwr')\n",
    "# plt.title(u'comparison to simulation\\nwith two hybrid modes',fontsize=fontsize)\n",
    "plt.xlabel(r'q (cm$^{-2}$)',fontsize=fontsize)\n",
    "plt.ylabel(r'w (Hz cm$^{-2}$)', fontsize=fontsize)\n",
    "plt.tick_params(axis='both', which='major', labelsize=fontsize)\n",
    "plt.tick_params(axis='both', which='minor', labelsize=0)\n",
    "plt.legend(fontsize=fontsize-5)\n",
    "# print(f'varkappa={varkappa}  Hz');print(f'      x0={x0} cm')\n",
    "title=r\"$\\kappa$=\"+f\"{kappa:.0f} Hz, D={D} cm\"+r\"$^2$/s\"+f\", A={L**2:.0f} cm\"+r\"$^2$\"\n",
    "title+='\\n'+r'$\\varkappa=$'+f'{varkappa}  Hz, '+r'$x_0=$'+f'{x0:.0f} cm, dt={dt} s\\n'\n",
    "plt.title(title,fontsize=fontsize)\n",
    "\n",
    "plt.title(title,fontsize=fontsize)\n",
    "plt.show()"
   ]
  },
  {
   "cell_type": "code",
   "execution_count": 419,
   "metadata": {
    "ExecuteTime": {
     "end_time": "2021-05-27T20:37:19.890720Z",
     "start_time": "2021-05-27T20:37:19.874227Z"
    },
    "hidden": true
   },
   "outputs": [
    {
     "name": "stdout",
     "output_type": "stream",
     "text": [
      "[0.1]\n",
      "[2]\n",
      "[10]\n",
      "[500]\n"
     ]
    }
   ],
   "source": [
    "print(sorted(set(dg.r.values)))\n",
    "print(sorted(set(dg.D.values)))\n",
    "print(sorted(set(dg.L.values)))\n",
    "print(sorted(set(dg.kappa.values)))"
   ]
  },
  {
   "cell_type": "code",
   "execution_count": 435,
   "metadata": {
    "ExecuteTime": {
     "end_time": "2021-05-27T20:52:16.655347Z",
     "start_time": "2021-05-27T20:51:37.479398Z"
    },
    "hidden": true
   },
   "outputs": [
    {
     "ename": "AttributeError",
     "evalue": "'DataFrame' object has no attribute 'CollRate'",
     "output_type": "error",
     "traceback": [
      "\u001b[0;31m---------------------------------------------------------------------------\u001b[0m",
      "\u001b[0;31mAttributeError\u001b[0m                            Traceback (most recent call last)",
      "\u001b[0;32m<ipython-input-435-8c9b9c156302>\u001b[0m in \u001b[0;36m<module>\u001b[0;34m\u001b[0m\n\u001b[1;32m      4\u001b[0m \u001b[0;31m#Is it present in run_4??\u001b[0m\u001b[0;34m\u001b[0m\u001b[0;34m\u001b[0m\u001b[0;34m\u001b[0m\u001b[0m\n\u001b[1;32m      5\u001b[0m \u001b[0mdf\u001b[0m\u001b[0;34m=\u001b[0m\u001b[0mpd\u001b[0m\u001b[0;34m.\u001b[0m\u001b[0mread_csv\u001b[0m\u001b[0;34m(\u001b[0m\u001b[0mdata_dir\u001b[0m\u001b[0;34m)\u001b[0m\u001b[0;34m\u001b[0m\u001b[0;34m\u001b[0m\u001b[0m\n\u001b[0;32m----> 6\u001b[0;31m \u001b[0;32massert\u001b[0m \u001b[0;32mnot\u001b[0m \u001b[0;34m(\u001b[0m\u001b[0mdf\u001b[0m\u001b[0;34m.\u001b[0m\u001b[0mCollRate\u001b[0m\u001b[0;34m<\u001b[0m\u001b[0;36m0\u001b[0m\u001b[0;34m)\u001b[0m\u001b[0;34m.\u001b[0m\u001b[0many\u001b[0m\u001b[0;34m(\u001b[0m\u001b[0;34m)\u001b[0m\u001b[0;34m\u001b[0m\u001b[0;34m\u001b[0m\u001b[0m\n\u001b[0m\u001b[1;32m      7\u001b[0m \u001b[0;31m#derived values\u001b[0m\u001b[0;34m\u001b[0m\u001b[0;34m\u001b[0m\u001b[0;34m\u001b[0m\u001b[0m\n\u001b[1;32m      8\u001b[0m \u001b[0mdf\u001b[0m\u001b[0;34m[\u001b[0m\u001b[0;34m'CollRate'\u001b[0m\u001b[0;34m]\u001b[0m\u001b[0;34m=\u001b[0m\u001b[0;36m1.\u001b[0m\u001b[0;34m/\u001b[0m\u001b[0mdf\u001b[0m\u001b[0;34m[\u001b[0m\u001b[0;34m'CollTime'\u001b[0m\u001b[0;34m]\u001b[0m\u001b[0;34m\u001b[0m\u001b[0;34m\u001b[0m\u001b[0m\n",
      "\u001b[0;32m~/anaconda3/lib/python3.7/site-packages/pandas/core/generic.py\u001b[0m in \u001b[0;36m__getattr__\u001b[0;34m(self, name)\u001b[0m\n\u001b[1;32m   5272\u001b[0m             \u001b[0;32mif\u001b[0m \u001b[0mself\u001b[0m\u001b[0;34m.\u001b[0m\u001b[0m_info_axis\u001b[0m\u001b[0;34m.\u001b[0m\u001b[0m_can_hold_identifiers_and_holds_name\u001b[0m\u001b[0;34m(\u001b[0m\u001b[0mname\u001b[0m\u001b[0;34m)\u001b[0m\u001b[0;34m:\u001b[0m\u001b[0;34m\u001b[0m\u001b[0;34m\u001b[0m\u001b[0m\n\u001b[1;32m   5273\u001b[0m                 \u001b[0;32mreturn\u001b[0m \u001b[0mself\u001b[0m\u001b[0;34m[\u001b[0m\u001b[0mname\u001b[0m\u001b[0;34m]\u001b[0m\u001b[0;34m\u001b[0m\u001b[0;34m\u001b[0m\u001b[0m\n\u001b[0;32m-> 5274\u001b[0;31m             \u001b[0;32mreturn\u001b[0m \u001b[0mobject\u001b[0m\u001b[0;34m.\u001b[0m\u001b[0m__getattribute__\u001b[0m\u001b[0;34m(\u001b[0m\u001b[0mself\u001b[0m\u001b[0;34m,\u001b[0m \u001b[0mname\u001b[0m\u001b[0;34m)\u001b[0m\u001b[0;34m\u001b[0m\u001b[0;34m\u001b[0m\u001b[0m\n\u001b[0m\u001b[1;32m   5275\u001b[0m \u001b[0;34m\u001b[0m\u001b[0m\n\u001b[1;32m   5276\u001b[0m     \u001b[0;32mdef\u001b[0m \u001b[0m__setattr__\u001b[0m\u001b[0;34m(\u001b[0m\u001b[0mself\u001b[0m\u001b[0;34m,\u001b[0m \u001b[0mname\u001b[0m\u001b[0;34m:\u001b[0m \u001b[0mstr\u001b[0m\u001b[0;34m,\u001b[0m \u001b[0mvalue\u001b[0m\u001b[0;34m)\u001b[0m \u001b[0;34m->\u001b[0m \u001b[0;32mNone\u001b[0m\u001b[0;34m:\u001b[0m\u001b[0;34m\u001b[0m\u001b[0;34m\u001b[0m\u001b[0m\n",
      "\u001b[0;31mAttributeError\u001b[0m: 'DataFrame' object has no attribute 'CollRate'"
     ]
    }
   ],
   "source": [
    "#import previous data\n",
    "# data_dir=\"/home/timothytyree/Documents/GitHub/bgmc/python/data/osg_output/run_1_to_3_merged.csv\" \n",
    "# data_dir=\"/home/timothytyree/Documents/GitHub/bgmc/python/data/osg_output/run_6_all.csv\" # has match but dt=1e-5...\n",
    "#Is it present in run_4??\n",
    "df=pd.read_csv(data_dir)\n",
    "assert not (df.CollRate<0).any()\n",
    "#derived values\n",
    "df['CollRate']=1./df['CollTime']\n",
    "df['A']=df['L']**2\n",
    "df['q']=df['N']/df['A'] #number of tips per square centimeter\n",
    "df['w']=df['CollRate']/df['A'] #[mHz?]/cm^2\n",
    "\n",
    "# # df=df[df.niter==250].copy()\n",
    "# #extract column values\n",
    "# r_values=np.array(sorted(set(df.r.values)))#cm\n",
    "# D_values=np.array(sorted(set(df.D.values)))#cm^2/s\n",
    "# L_values=np.array(sorted(set(df.L.values)))#cm\n",
    "# A_values=L_values**2#cm^2\n",
    "# kappa_values=np.array(sorted(set(df.kappa.values)))#1/s\n",
    "# varkappa_values=np.array(sorted(set(df.varkappa.values)))#1/s\n",
    "# x0_values=np.array(sorted(set(df.x0.values)))#1/s\n",
    "# set_second_values=np.array(sorted(set(df.set_second.values)))\n",
    "# reflect_values=np.array(sorted(set(df.reflect.values)))\n",
    "# no_repulsion_values=np.array(sorted(set(df.no_repulsion.values)))\n",
    "# no_attraction_values=np.array(sorted(set(df.no_attraction.values)))\n",
    "\n",
    "#show the first 5 entries that match the query\n",
    "query =df.r==r\n",
    "query&=df.D==D\n",
    "query&=df.L==L\n",
    "query&=df.kappa==kappa\n",
    "query&=df.reflect==reflect\n",
    "dg=df[query]\n",
    "dg.head()"
   ]
  },
  {
   "cell_type": "code",
   "execution_count": 428,
   "metadata": {
    "ExecuteTime": {
     "end_time": "2021-05-27T20:47:42.894078Z",
     "start_time": "2021-05-27T20:47:42.879664Z"
    },
    "hidden": true
   },
   "outputs": [
    {
     "data": {
      "text/plain": [
       "array([1.e-05])"
      ]
     },
     "execution_count": 428,
     "metadata": {},
     "output_type": "execute_result"
    }
   ],
   "source": [
    "dt_values=np.array(sorted(set(dg.dt.values)))\n",
    "dt_values"
   ]
  },
  {
   "cell_type": "code",
   "execution_count": 436,
   "metadata": {
    "ExecuteTime": {
     "end_time": "2021-05-27T21:12:50.732542Z",
     "start_time": "2021-05-27T21:12:50.699184Z"
    },
    "hidden": true
   },
   "outputs": [
    {
     "data": {
      "text/html": [
       "<div>\n",
       "<style scoped>\n",
       "    .dataframe tbody tr th:only-of-type {\n",
       "        vertical-align: middle;\n",
       "    }\n",
       "\n",
       "    .dataframe tbody tr th {\n",
       "        vertical-align: top;\n",
       "    }\n",
       "\n",
       "    .dataframe thead th {\n",
       "        text-align: right;\n",
       "    }\n",
       "</style>\n",
       "<table border=\"1\" class=\"dataframe\">\n",
       "  <thead>\n",
       "    <tr style=\"text-align: right;\">\n",
       "      <th></th>\n",
       "      <th>5</th>\n",
       "      <th>6</th>\n",
       "      <th>7</th>\n",
       "      <th>8</th>\n",
       "      <th>9</th>\n",
       "      <th>10</th>\n",
       "      <th>11</th>\n",
       "      <th>12</th>\n",
       "      <th>13</th>\n",
       "      <th>14</th>\n",
       "      <th>...</th>\n",
       "      <th>65</th>\n",
       "      <th>66</th>\n",
       "      <th>67</th>\n",
       "      <th>68</th>\n",
       "      <th>69</th>\n",
       "      <th>r</th>\n",
       "      <th>D</th>\n",
       "      <th>L</th>\n",
       "      <th>kappa</th>\n",
       "      <th>dt</th>\n",
       "    </tr>\n",
       "  </thead>\n",
       "  <tbody>\n",
       "    <tr>\n",
       "      <th>0</th>\n",
       "      <td>0.00007</td>\n",
       "      <td>0.00007</td>\n",
       "      <td>0.00007</td>\n",
       "      <td>0.00007</td>\n",
       "      <td>0.00007</td>\n",
       "      <td>0.00007</td>\n",
       "      <td>0.00007</td>\n",
       "      <td>0.00007</td>\n",
       "      <td>0.00007</td>\n",
       "      <td>0.00007</td>\n",
       "      <td>...</td>\n",
       "      <td>0.00007</td>\n",
       "      <td>0.00007</td>\n",
       "      <td>0.00007</td>\n",
       "      <td>0.00007</td>\n",
       "      <td>0.00007</td>\n",
       "      <td>0.3</td>\n",
       "      <td>0.2</td>\n",
       "      <td>15.8114</td>\n",
       "      <td>1000</td>\n",
       "      <td>0.00001</td>\n",
       "    </tr>\n",
       "    <tr>\n",
       "      <th>1</th>\n",
       "      <td>0.40660</td>\n",
       "      <td>0.40660</td>\n",
       "      <td>0.40660</td>\n",
       "      <td>0.40660</td>\n",
       "      <td>0.40660</td>\n",
       "      <td>0.40660</td>\n",
       "      <td>0.40660</td>\n",
       "      <td>0.40660</td>\n",
       "      <td>0.40660</td>\n",
       "      <td>0.40660</td>\n",
       "      <td>...</td>\n",
       "      <td>0.00029</td>\n",
       "      <td>0.00029</td>\n",
       "      <td>0.00029</td>\n",
       "      <td>0.00029</td>\n",
       "      <td>0.00029</td>\n",
       "      <td>0.3</td>\n",
       "      <td>0.2</td>\n",
       "      <td>15.8114</td>\n",
       "      <td>1000</td>\n",
       "      <td>0.00001</td>\n",
       "    </tr>\n",
       "    <tr>\n",
       "      <th>2</th>\n",
       "      <td>5.15927</td>\n",
       "      <td>5.15927</td>\n",
       "      <td>5.15927</td>\n",
       "      <td>5.15927</td>\n",
       "      <td>5.15927</td>\n",
       "      <td>5.15927</td>\n",
       "      <td>5.15927</td>\n",
       "      <td>5.15927</td>\n",
       "      <td>5.15927</td>\n",
       "      <td>5.15927</td>\n",
       "      <td>...</td>\n",
       "      <td>0.00979</td>\n",
       "      <td>0.00979</td>\n",
       "      <td>0.00979</td>\n",
       "      <td>0.00979</td>\n",
       "      <td>0.00979</td>\n",
       "      <td>0.3</td>\n",
       "      <td>0.2</td>\n",
       "      <td>15.8114</td>\n",
       "      <td>1000</td>\n",
       "      <td>0.00001</td>\n",
       "    </tr>\n",
       "    <tr>\n",
       "      <th>3</th>\n",
       "      <td>19.50541</td>\n",
       "      <td>13.01108</td>\n",
       "      <td>13.01108</td>\n",
       "      <td>13.01108</td>\n",
       "      <td>13.01108</td>\n",
       "      <td>0.47663</td>\n",
       "      <td>0.47663</td>\n",
       "      <td>0.47663</td>\n",
       "      <td>0.47663</td>\n",
       "      <td>0.47663</td>\n",
       "      <td>...</td>\n",
       "      <td>0.00329</td>\n",
       "      <td>0.00329</td>\n",
       "      <td>0.00329</td>\n",
       "      <td>0.00329</td>\n",
       "      <td>0.00329</td>\n",
       "      <td>0.3</td>\n",
       "      <td>0.2</td>\n",
       "      <td>15.8114</td>\n",
       "      <td>1000</td>\n",
       "      <td>0.00001</td>\n",
       "    </tr>\n",
       "    <tr>\n",
       "      <th>4</th>\n",
       "      <td>11.12850</td>\n",
       "      <td>5.89572</td>\n",
       "      <td>5.89572</td>\n",
       "      <td>5.89572</td>\n",
       "      <td>5.89572</td>\n",
       "      <td>1.87785</td>\n",
       "      <td>1.87785</td>\n",
       "      <td>0.07995</td>\n",
       "      <td>0.07995</td>\n",
       "      <td>0.07995</td>\n",
       "      <td>...</td>\n",
       "      <td>0.00028</td>\n",
       "      <td>0.00028</td>\n",
       "      <td>0.00028</td>\n",
       "      <td>0.00028</td>\n",
       "      <td>0.00028</td>\n",
       "      <td>0.3</td>\n",
       "      <td>0.2</td>\n",
       "      <td>15.8114</td>\n",
       "      <td>1000</td>\n",
       "      <td>0.00001</td>\n",
       "    </tr>\n",
       "  </tbody>\n",
       "</table>\n",
       "<p>5 rows × 70 columns</p>\n",
       "</div>"
      ],
      "text/plain": [
       "          5         6         7         8         9       10       11  \\\n",
       "0   0.00007   0.00007   0.00007   0.00007   0.00007  0.00007  0.00007   \n",
       "1   0.40660   0.40660   0.40660   0.40660   0.40660  0.40660  0.40660   \n",
       "2   5.15927   5.15927   5.15927   5.15927   5.15927  5.15927  5.15927   \n",
       "3  19.50541  13.01108  13.01108  13.01108  13.01108  0.47663  0.47663   \n",
       "4  11.12850   5.89572   5.89572   5.89572   5.89572  1.87785  1.87785   \n",
       "\n",
       "        12       13       14  ...       65       66       67       68  \\\n",
       "0  0.00007  0.00007  0.00007  ...  0.00007  0.00007  0.00007  0.00007   \n",
       "1  0.40660  0.40660  0.40660  ...  0.00029  0.00029  0.00029  0.00029   \n",
       "2  5.15927  5.15927  5.15927  ...  0.00979  0.00979  0.00979  0.00979   \n",
       "3  0.47663  0.47663  0.47663  ...  0.00329  0.00329  0.00329  0.00329   \n",
       "4  0.07995  0.07995  0.07995  ...  0.00028  0.00028  0.00028  0.00028   \n",
       "\n",
       "        69    r    D        L  kappa       dt  \n",
       "0  0.00007  0.3  0.2  15.8114   1000  0.00001  \n",
       "1  0.00029  0.3  0.2  15.8114   1000  0.00001  \n",
       "2  0.00979  0.3  0.2  15.8114   1000  0.00001  \n",
       "3  0.00329  0.3  0.2  15.8114   1000  0.00001  \n",
       "4  0.00028  0.3  0.2  15.8114   1000  0.00001  \n",
       "\n",
       "[5 rows x 70 columns]"
      ]
     },
     "execution_count": 436,
     "metadata": {},
     "output_type": "execute_result"
    }
   ],
   "source": [
    "df.head()"
   ]
  },
  {
   "cell_type": "code",
   "execution_count": 432,
   "metadata": {
    "ExecuteTime": {
     "end_time": "2021-05-27T20:49:11.261143Z",
     "start_time": "2021-05-27T20:49:11.229073Z"
    },
    "hidden": true
   },
   "outputs": [],
   "source": [
    "del dg \n",
    "del df"
   ]
  },
  {
   "cell_type": "code",
   "execution_count": 108,
   "metadata": {
    "ExecuteTime": {
     "end_time": "2021-05-26T20:59:33.634714Z",
     "start_time": "2021-05-26T20:59:33.445802Z"
    },
    "hidden": true,
    "run_control": {
     "marked": true
    },
    "scrolled": true
   },
   "outputs": [
    {
     "data": {
      "image/png": "[encoded data removed]",
      "text/plain": [
       "<Figure size 432x288 with 1 Axes>"
      ]
     },
     "metadata": {
      "needs_background": "light"
     },
     "output_type": "display_data"
    }
   ],
   "source": [
    "# #plot sliding m\n",
    "# fontsize=18\n",
    "# x=xavg_values[:-1]\n",
    "# # y=Rsquared_values[:-1]\n",
    "# y=slope_values[:-1]\n",
    "# plt.plot(x,y,lw=2)\n",
    "# # plt.scatter(x,y,s=10)\n",
    "# # plt.xlabel('N',fontsize=fontsize)\n",
    "# # plt.ylabel('Collision Rate',fontsize=fontsize)\n",
    "# # plt.xscale('log')\n",
    "# # plt.title(u'comparison to simulation\\nwith two hybrid modes',fontsize=fontsize)\n",
    "# plt.xlabel(r'q (cm$^{-2}$)',fontsize=fontsize)\n",
    "# plt.ylabel(r'exponent', fontsize=fontsize)\n",
    "# plt.tick_params(axis='both', which='major', labelsize=fontsize)\n",
    "# plt.tick_params(axis='both', which='minor', labelsize=0)\n",
    "# # print(f'varkappa={varkappa}  Hz');print(f'      x0={x0} cm')\n",
    "# plt.title(r'$\\varkappa=$'+f'{varkappa}  Hz, '+r'$x_0=$'+f'{x0} cm\\n',fontsize=fontsize)\n",
    "# plt.show()"
   ]
  },
  {
   "cell_type": "code",
   "execution_count": null,
   "metadata": {
    "hidden": true
   },
   "outputs": [],
   "source": []
  },
  {
   "cell_type": "code",
   "execution_count": null,
   "metadata": {
    "hidden": true
   },
   "outputs": [],
   "source": []
  },
  {
   "cell_type": "code",
   "execution_count": 421,
   "metadata": {
    "ExecuteTime": {
     "end_time": "2021-05-27T20:39:46.085296Z",
     "start_time": "2021-05-27T20:39:46.064662Z"
    },
    "hidden": true
   },
   "outputs": [],
   "source": [
    "# #measure m in some window\n",
    "# qmin=0.06;qmax=0.2\n",
    "# L=L_values[0]\n",
    "# x_values=dg[dg.L==L].q.values\n",
    "# y_values=dg[dg.L==L].w.values\n",
    "# boo=(x_values>qmin)&(x_values<qmax)\n",
    "# dict_ci=compute_95CI_ols(np.log(x_values[boo]),np.log(y_values[boo]))\n",
    "# print(*dict_ci)\n",
    "# print(*dict_ci.values())\n",
    "# print(f\"Therefore, 95% confidence interval DOES include exponent values observed from the Luo-Rudy model, but for this trial, only low densities.\")\n",
    "\n",
    "# #compute sliding m\n",
    "# xavg_values,slope_values,Rsquared_values = compute_sliding_slope_loglog(x_values,y_values,    \n",
    "#     x_min=qmin,\n",
    "#     window_width=0.2,\n",
    "#     stepsize=0.01,\n",
    "# )\n",
    "# xavg_values.shape"
   ]
  },
  {
   "cell_type": "markdown",
   "metadata": {},
   "source": [
    "# sanity check from return_CollTime.x \n",
    "for probing the effect of dt at high density (q=1)"
   ]
  },
  {
   "cell_type": "markdown",
   "metadata": {},
   "source": [
    "_This is evidence that attractive forces increase the collision rate, W, at high densities, which contradicts the figure I showed WJ and am looking at now._\n",
    "\n",
    "...Then, why did I record a contradictory signal?"
   ]
  },
  {
   "cell_type": "code",
   "execution_count": 437,
   "metadata": {
    "ExecuteTime": {
     "end_time": "2021-05-27T21:14:21.448035Z",
     "start_time": "2021-05-27T21:14:21.433846Z"
    }
   },
   "outputs": [],
   "source": [
    "#I ran these settings without forces using ./return_CollTime.x for N=100\n",
    "r=0.1\n",
    "D=2\n",
    "L=10\n",
    "kappa=500\n",
    "reflect=0"
   ]
  },
  {
   "cell_type": "code",
   "execution_count": 96,
   "metadata": {
    "ExecuteTime": {
     "end_time": "2021-05-28T03:24:16.592195Z",
     "start_time": "2021-05-28T03:24:16.578823Z"
    }
   },
   "outputs": [],
   "source": [
    "#from 1500 independent trials of the reaction N=100 --> N=98\n",
    "#for each trial, seed=1234\n",
    "#no forces\n",
    "dt_control_lst=[1e-5, 1e-6, 1e-7]\n",
    "Tavg_control_lst=[0.00175961,0.00172462,np.nan]\n",
    "#strong attractive forces of close range\n",
    "dt_lst=[1e-5, 1e-6, 1e-7]\n",
    "Tavg_lst=[0.00102133,0.00104635,np.nan]\n",
    "#NOTE: I ended the dt=1e-7 trials after 6 hours... They did not finish...\n",
    "\n",
    "#is runtime on 1e-6 small enough for the OSG?\n",
    "#no..."
   ]
  },
  {
   "cell_type": "markdown",
   "metadata": {},
   "source": [
    "__Results__\n",
    "- rate_with_force > rate_without_force at high densities when the seeds match\n",
    "    - there is apparently a seed dependence to the value of Tavg\n",
    "- it is not practical for me to use dt=1e-6 on the OSG.  It is certainly not practical for me to use dt=1e-7 on the OSG.\n",
    "- it is necessary for seeds to match for the ends to match\n",
    "    - Why is ^this? Is it because at high densities, q~1, the uncertainty is large for niter=1500?\n",
    "- it is not necessary for seeds to match for the ends to match\n",
    "    - TODO: just make niter=5000 on one machine(, or better...)\n",
    "    - or aggregate many machines and make niter=15000\n",
    "- solution: just make niter=5000 on the next data run, and limit search to trials in the neighborhood of where I think they'll model the LR model's powerfit\n",
    "\n",
    "\n",
    "DONT: bootstrap uncertainties for variable N.  __Just increase niter!__\n",
    "- I should measure the variance/95% CI explicitely versus N via bootstrapping for one trial. \n",
    "    - TODO: look for the/some token trial in the dense data from runs_1_to_3.\n",
    "    - TODO: measure ^that trial's variance for each group of constant N\n",
    "    - TODO: visualize the 95% CI of Tavg versus N.\n",
    "    - TODO: translate ^that plot into w versus q\n"
   ]
  },
  {
   "cell_type": "markdown",
   "metadata": {},
   "source": [
    "# print the top 5 of a given run, in terms of RMSE from the LR/FK models\n",
    "then,\n",
    "- use ^those to generate some guesses for the LR/FK models\n",
    "then,\n",
    "- dev run_11\n",
    "then,\n",
    "- condor_submit run_11.submit"
   ]
  },
  {
   "cell_type": "markdown",
   "metadata": {},
   "source": [
    "## # Ranking the top results from the genetic algorithm\n",
    "this is comparing rmse at high densities\n",
    "compute w versus q and find r,kappa with smalles RMSE_lr,fk"
   ]
  },
  {
   "cell_type": "code",
   "execution_count": 23,
   "metadata": {
    "ExecuteTime": {
     "end_time": "2021-04-21T23:11:09.873577Z",
     "start_time": "2021-04-21T23:11:09.871657Z"
    }
   },
   "outputs": [],
   "source": [
    "# def routine(item):\n",
    "#     r,D,kappa=item\n",
    "#     return PlotUnivCurve(r,D,kappa)\n",
    "\n",
    "# #run plotting in parallel\n",
    "# b = db.from_sequence(queue, npartitions=9).map(routine)\n",
    "# start = time.time()\n",
    "# retval = list(b)\n",
    "# print(f\"run time was {time.time()-start:.2f} seconds.\")\n",
    "# beep(10)"
   ]
  },
  {
   "cell_type": "code",
   "execution_count": 417,
   "metadata": {
    "ExecuteTime": {
     "end_time": "2021-06-03T21:20:26.908688Z",
     "start_time": "2021-06-03T21:20:26.894778Z"
    }
   },
   "outputs": [],
   "source": [
    "def get_eval_powerlaw(dict_out):\n",
    "    '''dict_out has fields m and b.\n",
    "    \n",
    "    Example Usage:\n",
    "    eval_powerlaw=get_eval_powerlaw(dict_out)\n",
    "    w=eval_powerlaw(q)\n",
    "    '''\n",
    "    m=dict_out['m'];b=dict_out['b']\n",
    "    q_foo = lambda q: m*q+b\n",
    "    eval_powerlaw = lambda q: np.exp(q_foo(np.log(q)))\n",
    "    return eval_powerlaw"
   ]
  },
  {
   "cell_type": "code",
   "execution_count": 418,
   "metadata": {
    "ExecuteTime": {
     "end_time": "2021-06-03T21:20:45.299758Z",
     "start_time": "2021-06-03T21:20:45.247421Z"
    }
   },
   "outputs": [
    {
     "data": {
      "text/html": [
       "<div>\n",
       "<style scoped>\n",
       "    .dataframe tbody tr th:only-of-type {\n",
       "        vertical-align: middle;\n",
       "    }\n",
       "\n",
       "    .dataframe tbody tr th {\n",
       "        vertical-align: top;\n",
       "    }\n",
       "\n",
       "    .dataframe thead th {\n",
       "        text-align: right;\n",
       "    }\n",
       "</style>\n",
       "<table border=\"1\" class=\"dataframe\">\n",
       "  <thead>\n",
       "    <tr style=\"text-align: right;\">\n",
       "      <th></th>\n",
       "      <th>x0</th>\n",
       "      <th>varkappa</th>\n",
       "      <th>set_second</th>\n",
       "      <th>reflect</th>\n",
       "      <th>r</th>\n",
       "      <th>no_repulsion</th>\n",
       "      <th>no_attraction</th>\n",
       "      <th>niter</th>\n",
       "      <th>neighbor</th>\n",
       "      <th>kappa</th>\n",
       "      <th>force_code</th>\n",
       "      <th>dt</th>\n",
       "      <th>N</th>\n",
       "      <th>L</th>\n",
       "      <th>Dt</th>\n",
       "      <th>D</th>\n",
       "      <th>CollRate</th>\n",
       "    </tr>\n",
       "  </thead>\n",
       "  <tbody>\n",
       "    <tr>\n",
       "      <th>0</th>\n",
       "      <td>0</td>\n",
       "      <td>-20.0</td>\n",
       "      <td>0</td>\n",
       "      <td>0</td>\n",
       "      <td>0.1</td>\n",
       "      <td>1</td>\n",
       "      <td>0</td>\n",
       "      <td>1500</td>\n",
       "      <td>0</td>\n",
       "      <td>500</td>\n",
       "      <td>1</td>\n",
       "      <td>0.00001</td>\n",
       "      <td>6</td>\n",
       "      <td>10</td>\n",
       "      <td>0.00001</td>\n",
       "      <td>2</td>\n",
       "      <td>0.307259</td>\n",
       "    </tr>\n",
       "    <tr>\n",
       "      <th>1</th>\n",
       "      <td>0</td>\n",
       "      <td>-20.0</td>\n",
       "      <td>0</td>\n",
       "      <td>0</td>\n",
       "      <td>0.1</td>\n",
       "      <td>1</td>\n",
       "      <td>0</td>\n",
       "      <td>1500</td>\n",
       "      <td>0</td>\n",
       "      <td>500</td>\n",
       "      <td>1</td>\n",
       "      <td>0.00001</td>\n",
       "      <td>6</td>\n",
       "      <td>10</td>\n",
       "      <td>0.00001</td>\n",
       "      <td>20</td>\n",
       "      <td>0.781616</td>\n",
       "    </tr>\n",
       "    <tr>\n",
       "      <th>2</th>\n",
       "      <td>0</td>\n",
       "      <td>-20.0</td>\n",
       "      <td>0</td>\n",
       "      <td>0</td>\n",
       "      <td>0.1</td>\n",
       "      <td>1</td>\n",
       "      <td>0</td>\n",
       "      <td>1500</td>\n",
       "      <td>0</td>\n",
       "      <td>500</td>\n",
       "      <td>1</td>\n",
       "      <td>0.00001</td>\n",
       "      <td>7</td>\n",
       "      <td>10</td>\n",
       "      <td>0.00001</td>\n",
       "      <td>2</td>\n",
       "      <td>0.523640</td>\n",
       "    </tr>\n",
       "    <tr>\n",
       "      <th>3</th>\n",
       "      <td>0</td>\n",
       "      <td>-20.0</td>\n",
       "      <td>0</td>\n",
       "      <td>0</td>\n",
       "      <td>0.1</td>\n",
       "      <td>1</td>\n",
       "      <td>0</td>\n",
       "      <td>1500</td>\n",
       "      <td>0</td>\n",
       "      <td>500</td>\n",
       "      <td>1</td>\n",
       "      <td>0.00001</td>\n",
       "      <td>7</td>\n",
       "      <td>10</td>\n",
       "      <td>0.00001</td>\n",
       "      <td>20</td>\n",
       "      <td>1.282065</td>\n",
       "    </tr>\n",
       "    <tr>\n",
       "      <th>4</th>\n",
       "      <td>0</td>\n",
       "      <td>-20.0</td>\n",
       "      <td>0</td>\n",
       "      <td>0</td>\n",
       "      <td>0.1</td>\n",
       "      <td>1</td>\n",
       "      <td>0</td>\n",
       "      <td>1500</td>\n",
       "      <td>0</td>\n",
       "      <td>500</td>\n",
       "      <td>1</td>\n",
       "      <td>0.00001</td>\n",
       "      <td>8</td>\n",
       "      <td>10</td>\n",
       "      <td>0.00001</td>\n",
       "      <td>2</td>\n",
       "      <td>0.786102</td>\n",
       "    </tr>\n",
       "  </tbody>\n",
       "</table>\n",
       "</div>"
      ],
      "text/plain": [
       "   x0  varkappa  set_second  reflect    r  no_repulsion  no_attraction  niter  \\\n",
       "0   0     -20.0           0        0  0.1             1              0   1500   \n",
       "1   0     -20.0           0        0  0.1             1              0   1500   \n",
       "2   0     -20.0           0        0  0.1             1              0   1500   \n",
       "3   0     -20.0           0        0  0.1             1              0   1500   \n",
       "4   0     -20.0           0        0  0.1             1              0   1500   \n",
       "\n",
       "   neighbor  kappa  force_code       dt  N   L       Dt   D  CollRate  \n",
       "0         0    500           1  0.00001  6  10  0.00001   2  0.307259  \n",
       "1         0    500           1  0.00001  6  10  0.00001  20  0.781616  \n",
       "2         0    500           1  0.00001  7  10  0.00001   2  0.523640  \n",
       "3         0    500           1  0.00001  7  10  0.00001  20  1.282065  \n",
       "4         0    500           1  0.00001  8  10  0.00001   2  0.786102  "
      ]
     },
     "execution_count": 418,
     "metadata": {},
     "output_type": "execute_result"
    }
   ],
   "source": [
    "data_dir=\"/home/timothytyree/Documents/GitHub/bgmc/python/data/osg_output/run_12_all.csv\"\n",
    "df=pd.read_csv(data_dir)\n",
    "df.head()"
   ]
  },
  {
   "cell_type": "code",
   "execution_count": 419,
   "metadata": {
    "ExecuteTime": {
     "end_time": "2021-06-03T21:20:49.055339Z",
     "start_time": "2021-06-03T21:20:49.037840Z"
    }
   },
   "outputs": [
    {
     "data": {
      "text/plain": [
       "Index(['x0', 'varkappa', 'set_second', 'reflect', 'r', 'no_repulsion',\n",
       "       'no_attraction', 'niter', 'neighbor', 'kappa', 'force_code', 'dt', 'N',\n",
       "       'L', 'Dt', 'D', 'CollRate'],\n",
       "      dtype='object')"
      ]
     },
     "execution_count": 419,
     "metadata": {},
     "output_type": "execute_result"
    }
   ],
   "source": [
    "df.columns"
   ]
  },
  {
   "cell_type": "code",
   "execution_count": 420,
   "metadata": {
    "ExecuteTime": {
     "end_time": "2021-06-03T21:20:50.450406Z",
     "start_time": "2021-06-03T21:20:50.437027Z"
    }
   },
   "outputs": [
    {
     "data": {
      "text/plain": [
       "False"
      ]
     },
     "execution_count": 420,
     "metadata": {},
     "output_type": "execute_result"
    }
   ],
   "source": [
    "(df.CollRate<0).any()"
   ]
  },
  {
   "cell_type": "code",
   "execution_count": 421,
   "metadata": {
    "ExecuteTime": {
     "end_time": "2021-06-03T21:20:53.977538Z",
     "start_time": "2021-06-03T21:20:53.924546Z"
    }
   },
   "outputs": [],
   "source": [
    "#derived values\n",
    "# df['CollRate']=1./df['CollTime']\n",
    "df['A']=df['L']**2\n",
    "df['q']=df['N']/df['A'] #number of tips per square centimeter\n",
    "df['w']=df['CollRate']/df['A'] #[mHz?]/cm^2\n",
    "\n",
    "# df=df[df.niter==250].copy()\n",
    "#extract column values\n",
    "r_values=np.array(sorted(set(df.r.values)))#cm\n",
    "D_values=np.array(sorted(set(df.D.values)))#cm^2/s\n",
    "L_values=np.array(sorted(set(df.L.values)))#cm\n",
    "A_values=L_values**2#cm^2\n",
    "kappa_values=np.array(sorted(set(df.kappa.values)))#1/s\n",
    "varkappa_values=np.array(sorted(set(df.varkappa.values)))#1/s\n",
    "x0_values=np.array(sorted(set(df.x0.values)))#1/s\n",
    "set_second_values=np.array(sorted(set(df.set_second.values)))\n",
    "reflect_values=np.array(sorted(set(df.reflect.values)))\n",
    "no_repulsion_values=np.array(sorted(set(df.no_repulsion.values)))\n",
    "no_attraction_values=np.array(sorted(set(df.no_attraction.values)))"
   ]
  },
  {
   "cell_type": "code",
   "execution_count": 422,
   "metadata": {
    "ExecuteTime": {
     "end_time": "2021-06-03T21:20:54.774773Z",
     "start_time": "2021-06-03T21:20:54.763319Z"
    }
   },
   "outputs": [],
   "source": [
    "# #make test for whether there is one input parameter present in an input DataFrame1\n",
    "# print(r_values)\n",
    "# print(D_values)\n",
    "# print(L_values)\n",
    "# print(kappa_values)\n",
    "# print(varkappa_values)\n",
    "# print(x0_values)\n",
    "# print(set_second_values)\n",
    "# print(reflect_values)\n",
    "# print(no_repulsion_values)\n",
    "# print(no_attraction_values)"
   ]
  },
  {
   "cell_type": "code",
   "execution_count": 423,
   "metadata": {
    "ExecuteTime": {
     "end_time": "2021-06-03T21:20:55.240614Z",
     "start_time": "2021-06-03T21:20:55.229099Z"
    }
   },
   "outputs": [],
   "source": [
    "\n",
    "\n",
    "# r=r_values[0]\n",
    "# L=L_values[0]\n",
    "# D=2;#np.min(D_values);print(f'D={D}')\n",
    "# varkappa=-20;#np.min(varkappa_values);print(f'varkappa={varkappa}')\n",
    "# x0=1.;#np.max(x0_values);print(f'x0={x0}')\n",
    "# # D==D_values[0];print(f'D={D}')\n",
    "# # varkappa=varkappa_values[3];print(f'varkappa={varkappa}')\n",
    "# # x0=x0_values[2];print(f'x0={x0}')\n",
    "# #query the DataFrame\n",
    "# query =(df.set_second==set_second_values[0])&(df.reflect==reflect_values[0])\n",
    "# query&=df.r==r\n",
    "# query&=df.D==D\n",
    "# query&=df.L==L\n",
    "# query&=df.varkappa==varkappa\n",
    "# query&=df.x0==x0\n",
    "# query&=(df.no_repulsion==no_repulsion_values[0])&(df.no_attraction==no_attraction_values[0])\n",
    "# dff=df[query]\n",
    "# kappa_values=np.array(sorted(set(dff.kappa.values)))\n",
    "# dg=dff[dff.kappa==kappa_values[0]]#smaller reaction rate\n",
    "# # dg=dff[dff.kappa==kappa_values[-1]]#Luo-Rudy fit\n",
    "# # dg=dff.kappa==kappa_values[0]#Fenton-Karma fit"
   ]
  },
  {
   "cell_type": "code",
   "execution_count": 424,
   "metadata": {
    "ExecuteTime": {
     "end_time": "2021-06-03T21:20:56.026719Z",
     "start_time": "2021-06-03T21:20:56.014830Z"
    }
   },
   "outputs": [],
   "source": [
    "# varkappa=varkappa_values[3];print(f'varkappa={varkappa}')\n",
    "# x0=x0_values[2];print(f'x0={x0}')\n",
    "# #query the DataFrame\n",
    "# query =(df.set_second==set_second_values[0])&(df.reflect==reflect_values[0])\n",
    "# query&=df.r==r_values[0]\n",
    "# query&=df.D==D_values[0]\n",
    "# query&=df.L==L_values[0]\n",
    "# query&=df.varkappa==varkappa\n",
    "# query&=df.x0==x0\n",
    "# query&=(df.no_repulsion==no_repulsion_values[0])&(df.no_attraction==no_attraction_values[0])\n",
    "# dff=df[query]\n",
    "# kappa_values=np.array(sorted(set(dff.kappa.values)))\n",
    "# dg=dff[dff.kappa==kappa_values[0]].copy()#smaller reaction rate"
   ]
  },
  {
   "cell_type": "code",
   "execution_count": 425,
   "metadata": {
    "ExecuteTime": {
     "end_time": "2021-06-03T21:20:56.782512Z",
     "start_time": "2021-06-03T21:20:56.742974Z"
    }
   },
   "outputs": [],
   "source": [
    "#load birth death rates from the full model\n",
    "data_folder=f'{nb_dir}/data'\n",
    "os.chdir(data_folder)\n",
    "\n",
    "data_fk_fn='full_results/data_fig4_vidmar_fk_tt.csv'\n",
    "data_lr_fn='full_results/data_fig4_vidmar_lr_tt.csv'\n",
    "\n",
    "fk=pd.read_csv(data_fk_fn)\n",
    "fk['N']=fk['No2']*2\n",
    "fk['q']=fk['N']/fk['A'] #number of tips per square centimeter\n",
    "fk['w']=fk['rate']/fk['A'] #[mHz?]/cm^2\n",
    "\n",
    "lr=pd.read_csv(data_lr_fn)\n",
    "lr['N']=lr['No2']*2\n",
    "lr['q']=lr['N']/lr['A'] #number of tips per square centimeter\n",
    "lr['w']=lr['rate']/lr['A'] #[mHz?]/cm^2\n",
    "\n"
   ]
  },
  {
   "cell_type": "code",
   "execution_count": 426,
   "metadata": {
    "ExecuteTime": {
     "end_time": "2021-06-03T21:20:57.348980Z",
     "start_time": "2021-06-03T21:20:57.316327Z"
    }
   },
   "outputs": [],
   "source": [
    "#compute w_lr and w_fk using a linear regression of a log-log plot\n",
    "# from lib.compute_slope import *\n",
    "yscale=10**3\n",
    "x=lr.q.values\n",
    "y=yscale*lr.w.values\n",
    "dict_out=compute_95CI_ols(np.log(x),np.log(y))\n",
    "dict_lr=dict_out.copy()\n",
    "#predict the values functionally over all q\n",
    "m=dict_out['m'];b=dict_out['b']\n",
    "q_foo = lambda q: m*q+b\n",
    "df['w_lr']=np.exp(q_foo(np.log(df['q'].values)))\n",
    "\n",
    "x=fk.q.values\n",
    "y=yscale*fk.w.values\n",
    "dict_out=compute_95CI_ols(np.log(x),np.log(y))\n",
    "dict_fk=dict_out.copy()\n",
    "#predict the values functionally over all q\n",
    "m=dict_out['m'];b=dict_out['b']\n",
    "q_foo = lambda q: m*q+b\n",
    "df['w_fk']=np.exp(q_foo(np.log(df['q'].values)))"
   ]
  },
  {
   "cell_type": "code",
   "execution_count": 427,
   "metadata": {
    "ExecuteTime": {
     "end_time": "2021-06-03T21:20:57.841518Z",
     "start_time": "2021-06-03T21:20:57.826145Z"
    }
   },
   "outputs": [],
   "source": [
    "#compute the square errors \n",
    "df['se_w_fk']=(df['w']-df['w_fk'])**2\n",
    "df['se_w_lr']=(df['w']-df['w_lr'])**2"
   ]
  },
  {
   "cell_type": "code",
   "execution_count": 428,
   "metadata": {
    "ExecuteTime": {
     "end_time": "2021-06-03T21:20:58.270747Z",
     "start_time": "2021-06-03T21:20:58.258738Z"
    }
   },
   "outputs": [],
   "source": [
    "# df_fn='w_vs_q_agg_over_A.csv'\n",
    "# os.chdir(data_folder)\n",
    "# df.to_csv(dg_fn,index=False)"
   ]
  },
  {
   "cell_type": "code",
   "execution_count": 429,
   "metadata": {
    "ExecuteTime": {
     "end_time": "2021-06-03T21:21:09.976216Z",
     "start_time": "2021-06-03T21:20:58.779392Z"
    },
    "run_control": {
     "marked": false
    }
   },
   "outputs": [],
   "source": [
    "#in rmse_lr,fk cell\n",
    "qmin=0.3;qmax=1.0;\n",
    "#compute the root mean squared errors over various axes\n",
    "#common defines\n",
    "no_attraction=0;no_repulsion=1;reflect=0;set_second=0\n",
    "#input list\n",
    "r_lst=[];D_lst=[];L_lst=[];kappa_lst=[];varkappa_lst=[];x0_lst=[]\n",
    "neighbor_lst=[];force_code_lst=[]\n",
    "varkappa_values=np.array(sorted(set(df.varkappa.values)))\n",
    "#output list\n",
    "rmse_lr_lst=[];rmse_fk_lst=[];m_lst=[];Delta_m_lst=[]\n",
    "for set_second in set_second_values:\n",
    "    for reflect in reflect_values:\n",
    "        for r in r_values:\n",
    "            for D in D_values:\n",
    "                for L in L_values:\n",
    "                    for kappa in kappa_values:\n",
    "                        for varkappa in varkappa_values:\n",
    "                            for x0 in x0_values:\n",
    "                                for no_repulsion in no_repulsion_values:\n",
    "                                    for no_attraction in no_attraction_values:\n",
    "                                        for neighbor in neighbor_values:\n",
    "                                            for force_code in force_code_values:\n",
    "                                                #query the DataFrame\n",
    "                                                query =(df.set_second==set_second)&(df.reflect==reflect)\n",
    "                                                query&=df.r==r\n",
    "                                                query&=df.D==D\n",
    "                                                query&=df.L==L\n",
    "                                                query&=df.kappa==kappa\n",
    "                                                query&=df.varkappa==varkappa\n",
    "                                                query&=df.x0==x0\n",
    "                                                query&=(df.no_repulsion==no_repulsion)&(df.no_attraction==no_attraction)\n",
    "                                                query&=(df.force_code==force_code)&(df.neighbor==neighbor)\n",
    "                                                dg=df[query]\n",
    "                                                #limit query to the specified interval of particle densities\n",
    "                                                query=(dg.q>qmin)&(dg.q<qmax)\n",
    "                                                qu=dg[query]\n",
    "                                                # if the slice is non-empty\n",
    "                                                if qu.size>0:\n",
    "                                                    rmse_lr=np.sqrt(qu.se_w_lr.mean())\n",
    "                                                    rmse_fk=np.sqrt(qu.se_w_fk.mean())\n",
    "                                                    #extract the data\n",
    "                                                    x_values=dg.q.values\n",
    "                                                    y_values=dg.w.values\n",
    "                                                    boo=(x_values>qmin)&(x_values<qmax)#redundant\n",
    "                                                    try:\n",
    "                                                        dict_ci=compute_95CI_ols(np.log(x_values[boo]),np.log(y_values[boo]))\n",
    "                                                        #                             print(*zip(dict_ci,dict_ci.values()))\n",
    "                                                        m=dict_ci['m']\n",
    "                                                        Delta_m=dict_ci['Delta_m']                        \n",
    "                                                    except AssertionError as e:\n",
    "                                                        m=-9999\n",
    "                                                        Delta_m=-9999                           \n",
    "                                                    #record inputs\n",
    "                                                    r_lst.append(r)\n",
    "                                                    D_lst.append(D)\n",
    "                                                    L_lst.append(L)\n",
    "                                                    kappa_lst.append(kappa)\n",
    "                                                    varkappa_lst.append(varkappa)\n",
    "                                                    x0_lst.append(x0)\n",
    "                                                    neighbor_lst.append(neighbor)\n",
    "                                                    force_code_lst.append(force_code)\n",
    "                                                    #record outputs\n",
    "                                                    rmse_lr_lst.append(rmse_lr)\n",
    "                                                    rmse_fk_lst.append(rmse_fk)   \n",
    "                                                    m_lst.append(m)\n",
    "                                                    Delta_m_lst.append(Delta_m)"
   ]
  },
  {
   "cell_type": "code",
   "execution_count": 430,
   "metadata": {
    "ExecuteTime": {
     "end_time": "2021-06-03T21:21:12.195289Z",
     "start_time": "2021-06-03T21:21:10.156758Z"
    }
   },
   "outputs": [
    {
     "data": {
      "text/plain": [
       "0"
      ]
     },
     "execution_count": 430,
     "metadata": {},
     "output_type": "execute_result"
    }
   ],
   "source": [
    "beep(10)"
   ]
  },
  {
   "cell_type": "code",
   "execution_count": 431,
   "metadata": {
    "ExecuteTime": {
     "end_time": "2021-06-03T21:47:42.127243Z",
     "start_time": "2021-06-03T21:47:42.102765Z"
    }
   },
   "outputs": [
    {
     "data": {
      "text/html": [
       "<div>\n",
       "<style scoped>\n",
       "    .dataframe tbody tr th:only-of-type {\n",
       "        vertical-align: middle;\n",
       "    }\n",
       "\n",
       "    .dataframe tbody tr th {\n",
       "        vertical-align: top;\n",
       "    }\n",
       "\n",
       "    .dataframe thead th {\n",
       "        text-align: right;\n",
       "    }\n",
       "</style>\n",
       "<table border=\"1\" class=\"dataframe\">\n",
       "  <thead>\n",
       "    <tr style=\"text-align: right;\">\n",
       "      <th></th>\n",
       "      <th>rmse_lr</th>\n",
       "      <th>rmse_fk</th>\n",
       "      <th>m</th>\n",
       "      <th>Delta_m</th>\n",
       "      <th>r</th>\n",
       "      <th>D</th>\n",
       "      <th>L</th>\n",
       "      <th>kappa</th>\n",
       "      <th>varkappa</th>\n",
       "      <th>x0</th>\n",
       "      <th>neighbor</th>\n",
       "      <th>force_code</th>\n",
       "    </tr>\n",
       "  </thead>\n",
       "  <tbody>\n",
       "    <tr>\n",
       "      <th>0</th>\n",
       "      <td>7.448599</td>\n",
       "      <td>0.333901</td>\n",
       "      <td>2.447971</td>\n",
       "      <td>0.02166</td>\n",
       "      <td>0.1</td>\n",
       "      <td>2</td>\n",
       "      <td>10</td>\n",
       "      <td>500</td>\n",
       "      <td>-20.0</td>\n",
       "      <td>0</td>\n",
       "      <td>0</td>\n",
       "      <td>1</td>\n",
       "    </tr>\n",
       "    <tr>\n",
       "      <th>1</th>\n",
       "      <td>7.426256</td>\n",
       "      <td>0.330097</td>\n",
       "      <td>2.458719</td>\n",
       "      <td>0.02166</td>\n",
       "      <td>0.1</td>\n",
       "      <td>2</td>\n",
       "      <td>10</td>\n",
       "      <td>500</td>\n",
       "      <td>-20.0</td>\n",
       "      <td>0</td>\n",
       "      <td>1</td>\n",
       "      <td>1</td>\n",
       "    </tr>\n",
       "    <tr>\n",
       "      <th>2</th>\n",
       "      <td>4.927409</td>\n",
       "      <td>2.312934</td>\n",
       "      <td>1.703322</td>\n",
       "      <td>0.02166</td>\n",
       "      <td>0.1</td>\n",
       "      <td>2</td>\n",
       "      <td>10</td>\n",
       "      <td>500</td>\n",
       "      <td>-20.0</td>\n",
       "      <td>1</td>\n",
       "      <td>0</td>\n",
       "      <td>1</td>\n",
       "    </tr>\n",
       "    <tr>\n",
       "      <th>3</th>\n",
       "      <td>5.072494</td>\n",
       "      <td>2.167726</td>\n",
       "      <td>1.708695</td>\n",
       "      <td>0.02166</td>\n",
       "      <td>0.1</td>\n",
       "      <td>2</td>\n",
       "      <td>10</td>\n",
       "      <td>500</td>\n",
       "      <td>-20.0</td>\n",
       "      <td>1</td>\n",
       "      <td>1</td>\n",
       "      <td>1</td>\n",
       "    </tr>\n",
       "    <tr>\n",
       "      <th>4</th>\n",
       "      <td>3.379839</td>\n",
       "      <td>10.360578</td>\n",
       "      <td>1.099381</td>\n",
       "      <td>0.02166</td>\n",
       "      <td>0.1</td>\n",
       "      <td>2</td>\n",
       "      <td>10</td>\n",
       "      <td>500</td>\n",
       "      <td>-20.0</td>\n",
       "      <td>5</td>\n",
       "      <td>0</td>\n",
       "      <td>1</td>\n",
       "    </tr>\n",
       "  </tbody>\n",
       "</table>\n",
       "</div>"
      ],
      "text/plain": [
       "    rmse_lr    rmse_fk         m  Delta_m    r  D   L  kappa  varkappa  x0  \\\n",
       "0  7.448599   0.333901  2.447971  0.02166  0.1  2  10    500     -20.0   0   \n",
       "1  7.426256   0.330097  2.458719  0.02166  0.1  2  10    500     -20.0   0   \n",
       "2  4.927409   2.312934  1.703322  0.02166  0.1  2  10    500     -20.0   1   \n",
       "3  5.072494   2.167726  1.708695  0.02166  0.1  2  10    500     -20.0   1   \n",
       "4  3.379839  10.360578  1.099381  0.02166  0.1  2  10    500     -20.0   5   \n",
       "\n",
       "   neighbor  force_code  \n",
       "0         0           1  \n",
       "1         1           1  \n",
       "2         0           1  \n",
       "3         1           1  \n",
       "4         0           1  "
      ]
     },
     "execution_count": 431,
     "metadata": {},
     "output_type": "execute_result"
    }
   ],
   "source": [
    "#form a pandas.DataFrame of ^that\n",
    "dh=pd.DataFrame({\n",
    "    'rmse_lr':rmse_lr_lst,\n",
    "    'rmse_fk':rmse_fk_lst,\n",
    "    'm':m_lst,\n",
    "    'Delta_m':Delta_m,\n",
    "    'r':r_lst,\n",
    "    'D':D_lst,\n",
    "    'L':L_lst,\n",
    "    'kappa':kappa_lst,\n",
    "    'varkappa':varkappa_lst,\n",
    "    'x0':x0_lst, \n",
    "    'neighbor':neighbor_lst,\n",
    "    'force_code':force_code_lst, \n",
    "})\n",
    "dh.head()"
   ]
  },
  {
   "cell_type": "code",
   "execution_count": 436,
   "metadata": {
    "ExecuteTime": {
     "end_time": "2021-06-03T21:48:10.037806Z",
     "start_time": "2021-06-03T21:48:10.023452Z"
    }
   },
   "outputs": [],
   "source": [
    "#compute absolute error from the target exponent\n",
    "dh['m_fk']=np.abs(dh['m']-m_fk)\n",
    "dh['m_lr']=np.abs(dh['m']-m_lr)"
   ]
  },
  {
   "cell_type": "code",
   "execution_count": 437,
   "metadata": {
    "ExecuteTime": {
     "end_time": "2021-06-03T21:48:10.270976Z",
     "start_time": "2021-06-03T21:48:10.251338Z"
    }
   },
   "outputs": [
    {
     "name": "stdout",
     "output_type": "stream",
     "text": [
      "The top 5 for the Fenton-Karma model:\n"
     ]
    },
    {
     "data": {
      "text/html": [
       "<div>\n",
       "<style scoped>\n",
       "    .dataframe tbody tr th:only-of-type {\n",
       "        vertical-align: middle;\n",
       "    }\n",
       "\n",
       "    .dataframe tbody tr th {\n",
       "        vertical-align: top;\n",
       "    }\n",
       "\n",
       "    .dataframe thead th {\n",
       "        text-align: right;\n",
       "    }\n",
       "</style>\n",
       "<table border=\"1\" class=\"dataframe\">\n",
       "  <thead>\n",
       "    <tr style=\"text-align: right;\">\n",
       "      <th></th>\n",
       "      <th>rmse_lr</th>\n",
       "      <th>rmse_fk</th>\n",
       "      <th>m</th>\n",
       "      <th>Delta_m</th>\n",
       "      <th>r</th>\n",
       "      <th>D</th>\n",
       "      <th>L</th>\n",
       "      <th>kappa</th>\n",
       "      <th>varkappa</th>\n",
       "      <th>x0</th>\n",
       "      <th>neighbor</th>\n",
       "      <th>force_code</th>\n",
       "      <th>m_fk</th>\n",
       "      <th>m_lr</th>\n",
       "    </tr>\n",
       "  </thead>\n",
       "  <tbody>\n",
       "    <tr>\n",
       "      <th>247</th>\n",
       "      <td>7.200128</td>\n",
       "      <td>0.226445</td>\n",
       "      <td>2.290367</td>\n",
       "      <td>0.02166</td>\n",
       "      <td>0.1</td>\n",
       "      <td>2</td>\n",
       "      <td>10</td>\n",
       "      <td>500</td>\n",
       "      <td>5.0</td>\n",
       "      <td>0</td>\n",
       "      <td>1</td>\n",
       "      <td>3</td>\n",
       "      <td>0.345367</td>\n",
       "      <td>0.746367</td>\n",
       "    </tr>\n",
       "    <tr>\n",
       "      <th>38</th>\n",
       "      <td>7.320455</td>\n",
       "      <td>0.231302</td>\n",
       "      <td>2.303026</td>\n",
       "      <td>0.02166</td>\n",
       "      <td>0.1</td>\n",
       "      <td>2</td>\n",
       "      <td>10</td>\n",
       "      <td>500</td>\n",
       "      <td>5.0</td>\n",
       "      <td>0</td>\n",
       "      <td>1</td>\n",
       "      <td>3</td>\n",
       "      <td>0.358026</td>\n",
       "      <td>0.759026</td>\n",
       "    </tr>\n",
       "    <tr>\n",
       "      <th>34</th>\n",
       "      <td>7.163567</td>\n",
       "      <td>0.253647</td>\n",
       "      <td>2.293618</td>\n",
       "      <td>0.02166</td>\n",
       "      <td>0.1</td>\n",
       "      <td>2</td>\n",
       "      <td>10</td>\n",
       "      <td>500</td>\n",
       "      <td>1.0</td>\n",
       "      <td>0</td>\n",
       "      <td>1</td>\n",
       "      <td>3</td>\n",
       "      <td>0.348618</td>\n",
       "      <td>0.749618</td>\n",
       "    </tr>\n",
       "    <tr>\n",
       "      <th>27</th>\n",
       "      <td>7.337648</td>\n",
       "      <td>0.272561</td>\n",
       "      <td>2.404869</td>\n",
       "      <td>0.02166</td>\n",
       "      <td>0.1</td>\n",
       "      <td>2</td>\n",
       "      <td>10</td>\n",
       "      <td>500</td>\n",
       "      <td>0.1</td>\n",
       "      <td>0</td>\n",
       "      <td>0</td>\n",
       "      <td>2</td>\n",
       "      <td>0.459869</td>\n",
       "      <td>0.860869</td>\n",
       "    </tr>\n",
       "    <tr>\n",
       "      <th>28</th>\n",
       "      <td>7.250630</td>\n",
       "      <td>0.275988</td>\n",
       "      <td>2.398979</td>\n",
       "      <td>0.02166</td>\n",
       "      <td>0.1</td>\n",
       "      <td>2</td>\n",
       "      <td>10</td>\n",
       "      <td>500</td>\n",
       "      <td>0.1</td>\n",
       "      <td>0</td>\n",
       "      <td>0</td>\n",
       "      <td>3</td>\n",
       "      <td>0.453979</td>\n",
       "      <td>0.854979</td>\n",
       "    </tr>\n",
       "  </tbody>\n",
       "</table>\n",
       "</div>"
      ],
      "text/plain": [
       "      rmse_lr   rmse_fk         m  Delta_m    r  D   L  kappa  varkappa  x0  \\\n",
       "247  7.200128  0.226445  2.290367  0.02166  0.1  2  10    500       5.0   0   \n",
       "38   7.320455  0.231302  2.303026  0.02166  0.1  2  10    500       5.0   0   \n",
       "34   7.163567  0.253647  2.293618  0.02166  0.1  2  10    500       1.0   0   \n",
       "27   7.337648  0.272561  2.404869  0.02166  0.1  2  10    500       0.1   0   \n",
       "28   7.250630  0.275988  2.398979  0.02166  0.1  2  10    500       0.1   0   \n",
       "\n",
       "     neighbor  force_code      m_fk      m_lr  \n",
       "247         1           3  0.345367  0.746367  \n",
       "38          1           3  0.358026  0.759026  \n",
       "34          1           3  0.348618  0.749618  \n",
       "27          0           2  0.459869  0.860869  \n",
       "28          0           3  0.453979  0.854979  "
      ]
     },
     "execution_count": 437,
     "metadata": {},
     "output_type": "execute_result"
    }
   ],
   "source": [
    "#and the top 5 matches for either model is... (FK)\n",
    "print(f\"The top 5 for the Fenton-Karma model:\")\n",
    "dh.sort_values(by='rmse_fk').head(5)"
   ]
  },
  {
   "cell_type": "code",
   "execution_count": 438,
   "metadata": {
    "ExecuteTime": {
     "end_time": "2021-06-03T21:48:10.481427Z",
     "start_time": "2021-06-03T21:48:10.458697Z"
    }
   },
   "outputs": [
    {
     "name": "stdout",
     "output_type": "stream",
     "text": [
      "The top 5 for the Luo-Rudy model:\n"
     ]
    },
    {
     "data": {
      "text/html": [
       "<div>\n",
       "<style scoped>\n",
       "    .dataframe tbody tr th:only-of-type {\n",
       "        vertical-align: middle;\n",
       "    }\n",
       "\n",
       "    .dataframe tbody tr th {\n",
       "        vertical-align: top;\n",
       "    }\n",
       "\n",
       "    .dataframe thead th {\n",
       "        text-align: right;\n",
       "    }\n",
       "</style>\n",
       "<table border=\"1\" class=\"dataframe\">\n",
       "  <thead>\n",
       "    <tr style=\"text-align: right;\">\n",
       "      <th></th>\n",
       "      <th>rmse_lr</th>\n",
       "      <th>rmse_fk</th>\n",
       "      <th>m</th>\n",
       "      <th>Delta_m</th>\n",
       "      <th>r</th>\n",
       "      <th>D</th>\n",
       "      <th>L</th>\n",
       "      <th>kappa</th>\n",
       "      <th>varkappa</th>\n",
       "      <th>x0</th>\n",
       "      <th>neighbor</th>\n",
       "      <th>force_code</th>\n",
       "      <th>m_fk</th>\n",
       "      <th>m_lr</th>\n",
       "    </tr>\n",
       "  </thead>\n",
       "  <tbody>\n",
       "    <tr>\n",
       "      <th>147</th>\n",
       "      <td>0.508427</td>\n",
       "      <td>7.666471</td>\n",
       "      <td>1.542957</td>\n",
       "      <td>0.02166</td>\n",
       "      <td>0.1</td>\n",
       "      <td>20</td>\n",
       "      <td>10</td>\n",
       "      <td>500</td>\n",
       "      <td>20.0</td>\n",
       "      <td>0</td>\n",
       "      <td>0</td>\n",
       "      <td>2</td>\n",
       "      <td>0.402043</td>\n",
       "      <td>0.001043</td>\n",
       "    </tr>\n",
       "    <tr>\n",
       "      <th>39</th>\n",
       "      <td>0.543930</td>\n",
       "      <td>6.925783</td>\n",
       "      <td>1.487709</td>\n",
       "      <td>0.02166</td>\n",
       "      <td>0.1</td>\n",
       "      <td>2</td>\n",
       "      <td>10</td>\n",
       "      <td>500</td>\n",
       "      <td>10.0</td>\n",
       "      <td>0</td>\n",
       "      <td>0</td>\n",
       "      <td>2</td>\n",
       "      <td>0.457291</td>\n",
       "      <td>0.056291</td>\n",
       "    </tr>\n",
       "    <tr>\n",
       "      <th>149</th>\n",
       "      <td>0.673514</td>\n",
       "      <td>6.608440</td>\n",
       "      <td>1.587236</td>\n",
       "      <td>0.02166</td>\n",
       "      <td>0.1</td>\n",
       "      <td>20</td>\n",
       "      <td>10</td>\n",
       "      <td>500</td>\n",
       "      <td>20.0</td>\n",
       "      <td>0</td>\n",
       "      <td>1</td>\n",
       "      <td>2</td>\n",
       "      <td>0.357764</td>\n",
       "      <td>0.043236</td>\n",
       "    </tr>\n",
       "    <tr>\n",
       "      <th>359</th>\n",
       "      <td>0.681848</td>\n",
       "      <td>7.742419</td>\n",
       "      <td>1.458437</td>\n",
       "      <td>0.02166</td>\n",
       "      <td>0.1</td>\n",
       "      <td>20</td>\n",
       "      <td>10</td>\n",
       "      <td>500</td>\n",
       "      <td>20.0</td>\n",
       "      <td>0</td>\n",
       "      <td>1</td>\n",
       "      <td>2</td>\n",
       "      <td>0.486563</td>\n",
       "      <td>0.085563</td>\n",
       "    </tr>\n",
       "    <tr>\n",
       "      <th>41</th>\n",
       "      <td>0.786547</td>\n",
       "      <td>6.582102</td>\n",
       "      <td>1.456214</td>\n",
       "      <td>0.02166</td>\n",
       "      <td>0.1</td>\n",
       "      <td>2</td>\n",
       "      <td>10</td>\n",
       "      <td>500</td>\n",
       "      <td>10.0</td>\n",
       "      <td>0</td>\n",
       "      <td>1</td>\n",
       "      <td>2</td>\n",
       "      <td>0.488786</td>\n",
       "      <td>0.087786</td>\n",
       "    </tr>\n",
       "  </tbody>\n",
       "</table>\n",
       "</div>"
      ],
      "text/plain": [
       "      rmse_lr   rmse_fk         m  Delta_m    r   D   L  kappa  varkappa  x0  \\\n",
       "147  0.508427  7.666471  1.542957  0.02166  0.1  20  10    500      20.0   0   \n",
       "39   0.543930  6.925783  1.487709  0.02166  0.1   2  10    500      10.0   0   \n",
       "149  0.673514  6.608440  1.587236  0.02166  0.1  20  10    500      20.0   0   \n",
       "359  0.681848  7.742419  1.458437  0.02166  0.1  20  10    500      20.0   0   \n",
       "41   0.786547  6.582102  1.456214  0.02166  0.1   2  10    500      10.0   0   \n",
       "\n",
       "     neighbor  force_code      m_fk      m_lr  \n",
       "147         0           2  0.402043  0.001043  \n",
       "39          0           2  0.457291  0.056291  \n",
       "149         1           2  0.357764  0.043236  \n",
       "359         1           2  0.486563  0.085563  \n",
       "41          1           2  0.488786  0.087786  "
      ]
     },
     "execution_count": 438,
     "metadata": {},
     "output_type": "execute_result"
    }
   ],
   "source": [
    "#and the top 5 matches for either model is... (FK)\n",
    "print(f\"The top 5 for the Luo-Rudy model:\")\n",
    "dh.sort_values(by='rmse_lr',inplace=True)\n",
    "dh.head(5)"
   ]
  },
  {
   "cell_type": "code",
   "execution_count": 439,
   "metadata": {
    "ExecuteTime": {
     "end_time": "2021-06-03T21:48:10.651002Z",
     "start_time": "2021-06-03T21:48:10.631057Z"
    }
   },
   "outputs": [
    {
     "name": "stdout",
     "output_type": "stream",
     "text": [
      "The top 5 for the exponent of the Fenton-Karma model:\n"
     ]
    },
    {
     "data": {
      "text/html": [
       "<div>\n",
       "<style scoped>\n",
       "    .dataframe tbody tr th:only-of-type {\n",
       "        vertical-align: middle;\n",
       "    }\n",
       "\n",
       "    .dataframe tbody tr th {\n",
       "        vertical-align: top;\n",
       "    }\n",
       "\n",
       "    .dataframe thead th {\n",
       "        text-align: right;\n",
       "    }\n",
       "</style>\n",
       "<table border=\"1\" class=\"dataframe\">\n",
       "  <thead>\n",
       "    <tr style=\"text-align: right;\">\n",
       "      <th></th>\n",
       "      <th>rmse_lr</th>\n",
       "      <th>rmse_fk</th>\n",
       "      <th>m</th>\n",
       "      <th>Delta_m</th>\n",
       "      <th>r</th>\n",
       "      <th>D</th>\n",
       "      <th>L</th>\n",
       "      <th>kappa</th>\n",
       "      <th>varkappa</th>\n",
       "      <th>x0</th>\n",
       "      <th>neighbor</th>\n",
       "      <th>force_code</th>\n",
       "      <th>m_fk</th>\n",
       "      <th>m_lr</th>\n",
       "    </tr>\n",
       "  </thead>\n",
       "  <tbody>\n",
       "    <tr>\n",
       "      <th>314</th>\n",
       "      <td>5.235112</td>\n",
       "      <td>2.017382</td>\n",
       "      <td>1.948413</td>\n",
       "      <td>0.02166</td>\n",
       "      <td>0.1</td>\n",
       "      <td>20</td>\n",
       "      <td>10</td>\n",
       "      <td>500</td>\n",
       "      <td>-20.0</td>\n",
       "      <td>1</td>\n",
       "      <td>0</td>\n",
       "      <td>1</td>\n",
       "      <td>0.003413</td>\n",
       "      <td>0.404413</td>\n",
       "    </tr>\n",
       "    <tr>\n",
       "      <th>172</th>\n",
       "      <td>1.899622</td>\n",
       "      <td>8.993642</td>\n",
       "      <td>1.950208</td>\n",
       "      <td>0.02166</td>\n",
       "      <td>0.1</td>\n",
       "      <td>20</td>\n",
       "      <td>10</td>\n",
       "      <td>1500</td>\n",
       "      <td>-5.0</td>\n",
       "      <td>5</td>\n",
       "      <td>1</td>\n",
       "      <td>1</td>\n",
       "      <td>0.005208</td>\n",
       "      <td>0.406208</td>\n",
       "    </tr>\n",
       "    <tr>\n",
       "      <th>367</th>\n",
       "      <td>3.654284</td>\n",
       "      <td>10.825935</td>\n",
       "      <td>1.938239</td>\n",
       "      <td>0.02166</td>\n",
       "      <td>0.1</td>\n",
       "      <td>20</td>\n",
       "      <td>10</td>\n",
       "      <td>1500</td>\n",
       "      <td>-20.0</td>\n",
       "      <td>1</td>\n",
       "      <td>0</td>\n",
       "      <td>1</td>\n",
       "      <td>0.006761</td>\n",
       "      <td>0.394239</td>\n",
       "    </tr>\n",
       "    <tr>\n",
       "      <th>141</th>\n",
       "      <td>4.965076</td>\n",
       "      <td>2.291202</td>\n",
       "      <td>1.937195</td>\n",
       "      <td>0.02166</td>\n",
       "      <td>0.1</td>\n",
       "      <td>20</td>\n",
       "      <td>10</td>\n",
       "      <td>500</td>\n",
       "      <td>5.0</td>\n",
       "      <td>0</td>\n",
       "      <td>0</td>\n",
       "      <td>2</td>\n",
       "      <td>0.007805</td>\n",
       "      <td>0.393195</td>\n",
       "    </tr>\n",
       "    <tr>\n",
       "      <th>8</th>\n",
       "      <td>6.086469</td>\n",
       "      <td>1.164434</td>\n",
       "      <td>1.954083</td>\n",
       "      <td>0.02166</td>\n",
       "      <td>0.1</td>\n",
       "      <td>2</td>\n",
       "      <td>10</td>\n",
       "      <td>500</td>\n",
       "      <td>-10.0</td>\n",
       "      <td>1</td>\n",
       "      <td>0</td>\n",
       "      <td>1</td>\n",
       "      <td>0.009083</td>\n",
       "      <td>0.410083</td>\n",
       "    </tr>\n",
       "  </tbody>\n",
       "</table>\n",
       "</div>"
      ],
      "text/plain": [
       "      rmse_lr    rmse_fk         m  Delta_m    r   D   L  kappa  varkappa  x0  \\\n",
       "314  5.235112   2.017382  1.948413  0.02166  0.1  20  10    500     -20.0   1   \n",
       "172  1.899622   8.993642  1.950208  0.02166  0.1  20  10   1500      -5.0   5   \n",
       "367  3.654284  10.825935  1.938239  0.02166  0.1  20  10   1500     -20.0   1   \n",
       "141  4.965076   2.291202  1.937195  0.02166  0.1  20  10    500       5.0   0   \n",
       "8    6.086469   1.164434  1.954083  0.02166  0.1   2  10    500     -10.0   1   \n",
       "\n",
       "     neighbor  force_code      m_fk      m_lr  \n",
       "314         0           1  0.003413  0.404413  \n",
       "172         1           1  0.005208  0.406208  \n",
       "367         0           1  0.006761  0.394239  \n",
       "141         0           2  0.007805  0.393195  \n",
       "8           0           1  0.009083  0.410083  "
      ]
     },
     "execution_count": 439,
     "metadata": {},
     "output_type": "execute_result"
    }
   ],
   "source": [
    "#rank each trial by distance from m_fk\n",
    "print(f\"The top 5 for the exponent of the Fenton-Karma model:\")\n",
    "dh.sort_values(by='m_fk').head(5)"
   ]
  },
  {
   "cell_type": "code",
   "execution_count": 440,
   "metadata": {
    "ExecuteTime": {
     "end_time": "2021-06-03T21:48:11.349974Z",
     "start_time": "2021-06-03T21:48:11.314861Z"
    }
   },
   "outputs": [
    {
     "name": "stdout",
     "output_type": "stream",
     "text": [
      "The top 5 for the exponent of the Luo-Rudy model:\n"
     ]
    },
    {
     "data": {
      "text/html": [
       "<div>\n",
       "<style scoped>\n",
       "    .dataframe tbody tr th:only-of-type {\n",
       "        vertical-align: middle;\n",
       "    }\n",
       "\n",
       "    .dataframe tbody tr th {\n",
       "        vertical-align: top;\n",
       "    }\n",
       "\n",
       "    .dataframe thead th {\n",
       "        text-align: right;\n",
       "    }\n",
       "</style>\n",
       "<table border=\"1\" class=\"dataframe\">\n",
       "  <thead>\n",
       "    <tr style=\"text-align: right;\">\n",
       "      <th></th>\n",
       "      <th>rmse_lr</th>\n",
       "      <th>rmse_fk</th>\n",
       "      <th>m</th>\n",
       "      <th>Delta_m</th>\n",
       "      <th>r</th>\n",
       "      <th>D</th>\n",
       "      <th>L</th>\n",
       "      <th>kappa</th>\n",
       "      <th>varkappa</th>\n",
       "      <th>x0</th>\n",
       "      <th>neighbor</th>\n",
       "      <th>force_code</th>\n",
       "      <th>m_fk</th>\n",
       "      <th>m_lr</th>\n",
       "    </tr>\n",
       "  </thead>\n",
       "  <tbody>\n",
       "    <tr>\n",
       "      <th>147</th>\n",
       "      <td>0.508427</td>\n",
       "      <td>7.666471</td>\n",
       "      <td>1.542957</td>\n",
       "      <td>0.02166</td>\n",
       "      <td>0.1</td>\n",
       "      <td>20</td>\n",
       "      <td>10</td>\n",
       "      <td>500</td>\n",
       "      <td>20.0</td>\n",
       "      <td>0</td>\n",
       "      <td>0</td>\n",
       "      <td>2</td>\n",
       "      <td>0.402043</td>\n",
       "      <td>0.001043</td>\n",
       "    </tr>\n",
       "    <tr>\n",
       "      <th>160</th>\n",
       "      <td>7.944012</td>\n",
       "      <td>15.181191</td>\n",
       "      <td>1.549711</td>\n",
       "      <td>0.02166</td>\n",
       "      <td>0.1</td>\n",
       "      <td>20</td>\n",
       "      <td>10</td>\n",
       "      <td>1500</td>\n",
       "      <td>-20.0</td>\n",
       "      <td>5</td>\n",
       "      <td>1</td>\n",
       "      <td>1</td>\n",
       "      <td>0.395289</td>\n",
       "      <td>0.005711</td>\n",
       "    </tr>\n",
       "    <tr>\n",
       "      <th>62</th>\n",
       "      <td>5.279637</td>\n",
       "      <td>12.514453</td>\n",
       "      <td>1.550335</td>\n",
       "      <td>0.02166</td>\n",
       "      <td>0.1</td>\n",
       "      <td>2</td>\n",
       "      <td>10</td>\n",
       "      <td>1500</td>\n",
       "      <td>-10.0</td>\n",
       "      <td>5</td>\n",
       "      <td>1</td>\n",
       "      <td>1</td>\n",
       "      <td>0.394665</td>\n",
       "      <td>0.006335</td>\n",
       "    </tr>\n",
       "    <tr>\n",
       "      <th>61</th>\n",
       "      <td>5.553771</td>\n",
       "      <td>12.789959</td>\n",
       "      <td>1.537566</td>\n",
       "      <td>0.02166</td>\n",
       "      <td>0.1</td>\n",
       "      <td>2</td>\n",
       "      <td>10</td>\n",
       "      <td>1500</td>\n",
       "      <td>-10.0</td>\n",
       "      <td>5</td>\n",
       "      <td>0</td>\n",
       "      <td>1</td>\n",
       "      <td>0.407434</td>\n",
       "      <td>0.006434</td>\n",
       "    </tr>\n",
       "    <tr>\n",
       "      <th>96</th>\n",
       "      <td>13.628419</td>\n",
       "      <td>20.863749</td>\n",
       "      <td>1.536944</td>\n",
       "      <td>0.02166</td>\n",
       "      <td>0.1</td>\n",
       "      <td>2</td>\n",
       "      <td>10</td>\n",
       "      <td>1500</td>\n",
       "      <td>20.0</td>\n",
       "      <td>0</td>\n",
       "      <td>0</td>\n",
       "      <td>2</td>\n",
       "      <td>0.408056</td>\n",
       "      <td>0.007056</td>\n",
       "    </tr>\n",
       "  </tbody>\n",
       "</table>\n",
       "</div>"
      ],
      "text/plain": [
       "       rmse_lr    rmse_fk         m  Delta_m    r   D   L  kappa  varkappa  \\\n",
       "147   0.508427   7.666471  1.542957  0.02166  0.1  20  10    500      20.0   \n",
       "160   7.944012  15.181191  1.549711  0.02166  0.1  20  10   1500     -20.0   \n",
       "62    5.279637  12.514453  1.550335  0.02166  0.1   2  10   1500     -10.0   \n",
       "61    5.553771  12.789959  1.537566  0.02166  0.1   2  10   1500     -10.0   \n",
       "96   13.628419  20.863749  1.536944  0.02166  0.1   2  10   1500      20.0   \n",
       "\n",
       "     x0  neighbor  force_code      m_fk      m_lr  \n",
       "147   0         0           2  0.402043  0.001043  \n",
       "160   5         1           1  0.395289  0.005711  \n",
       "62    5         1           1  0.394665  0.006335  \n",
       "61    5         0           1  0.407434  0.006434  \n",
       "96    0         0           2  0.408056  0.007056  "
      ]
     },
     "execution_count": 440,
     "metadata": {},
     "output_type": "execute_result"
    }
   ],
   "source": [
    "#rank each trial by distance from m_lr\n",
    "print(f\"The top 5 for the exponent of the Luo-Rudy model:\")\n",
    "dh.sort_values(by='m_lr').head(5)"
   ]
  },
  {
   "cell_type": "code",
   "execution_count": 441,
   "metadata": {
    "ExecuteTime": {
     "end_time": "2021-06-03T21:48:13.849715Z",
     "start_time": "2021-06-03T21:48:13.833226Z"
    }
   },
   "outputs": [],
   "source": [
    "#save dh as csv\n",
    "save_folder=f\"{nb_dir}/data/osg_output\"\n",
    "assert ( os.path.exists(save_folder))\n",
    "os.chdir(save_folder)\n",
    "save_fn=data_dir.replace('.csv',f'run_12_rmse_m_lr_fk_qmin_{qmin}_qmax_{qmax}.csv')\n",
    "dh.to_csv(save_fn,index=False)\n",
    "assert(os.path.exists(save_fn))"
   ]
  },
  {
   "cell_type": "code",
   "execution_count": 442,
   "metadata": {
    "ExecuteTime": {
     "end_time": "2021-06-03T21:48:15.295295Z",
     "start_time": "2021-06-03T21:48:15.283465Z"
    }
   },
   "outputs": [
    {
     "data": {
      "text/plain": [
       "{-20.0, -10.0, -5.0, 0.0, 0.1, 1.0, 5.0, 10.0, 20.0, 50.0}"
      ]
     },
     "execution_count": 442,
     "metadata": {},
     "output_type": "execute_result"
    }
   ],
   "source": [
    "set(dh.varkappa.values)"
   ]
  },
  {
   "cell_type": "markdown",
   "metadata": {},
   "source": [
    "## DONE: dev run 11 using random linear combinations of ^those for the LR model \n",
    "-TODO(later): fork run 11 to fit the FK model."
   ]
  },
  {
   "cell_type": "code",
   "execution_count": 260,
   "metadata": {
    "ExecuteTime": {
     "end_time": "2021-06-03T00:34:38.101114Z",
     "start_time": "2021-06-03T00:34:38.082928Z"
    }
   },
   "outputs": [],
   "source": [
    "# - DONE: make run 11 have niter=5000 and Nmax=60...\n",
    "# num_trials_born=100 # the total number of daughters\n",
    "# # print the breeding_values of the top 5 \n",
    "# # num_breeders=5\n",
    "# # num_breeding_params=3\n",
    "# # breeding_cols=['D','varkappa','x0']\n",
    "# # num_breeding_params=len(breeding_cols)\n",
    "# # # taken from the *.ipynb located here: 'analyzing the effect of strong attractive forces between nearest neighbors.ipynb'\n",
    "# # breeder_values=dh[breeding_cols].head(num_breeders).values\n",
    "# # breeder_values_LR=breeder_values\n",
    "# # print(breeder_values)\n",
    "# #the top 5 for the LR model. Epoch 0\n",
    "# breeder_values=np.array(\n",
    "#     [[  2.,   -5.,    5. ],\n",
    "#      [ 20.,   -5.,    5. ],\n",
    "#      [ 20.,  -20.,    1.5],\n",
    "#      [ 20.,  -10.,    3. ],\n",
    "#      [  2.,  -20.,    1.5]])\n",
    "\n",
    "# #breed the given most-fit trials omnisexually.\n",
    "# num_breeders, num_breeding_params = breeder_values.shape\n",
    "# rand_matrix=np.random.rand(num_trials_born-num_breeders,num_breeders) # each entry is uniformly distributed on the interval from 0 to 1.\n",
    "\n",
    "# breeder_trials=np.matmul(rand_matrix,breeder_values)/num_breeders\n",
    "# #prepend the breeding_values of the top 5 to breeder_trials\n",
    "# trial_values=np.concatenate((breeder_values,breeder_trials),axis=0)\n",
    "# for trial in trial_values:\n",
    "#     D,varkappa,x0=trial\n",
    "#     pass\n",
    "# # trial_values.shape\n",
    "# print ( (D,varkappa,x0))"
   ]
  },
  {
   "cell_type": "markdown",
   "metadata": {},
   "source": [
    "## TODO(later): analyze ^those top 5-10 results by plotting them and paying a lot of attention to them..."
   ]
  },
  {
   "cell_type": "code",
   "execution_count": 446,
   "metadata": {
    "ExecuteTime": {
     "end_time": "2021-06-03T21:52:11.483617Z",
     "start_time": "2021-06-03T21:52:11.452315Z"
    }
   },
   "outputs": [
    {
     "name": "stdout",
     "output_type": "stream",
     "text": [
      "The top 5 for the Luo-Rudy model:\n"
     ]
    },
    {
     "data": {
      "text/html": [
       "<div>\n",
       "<style scoped>\n",
       "    .dataframe tbody tr th:only-of-type {\n",
       "        vertical-align: middle;\n",
       "    }\n",
       "\n",
       "    .dataframe tbody tr th {\n",
       "        vertical-align: top;\n",
       "    }\n",
       "\n",
       "    .dataframe thead th {\n",
       "        text-align: right;\n",
       "    }\n",
       "</style>\n",
       "<table border=\"1\" class=\"dataframe\">\n",
       "  <thead>\n",
       "    <tr style=\"text-align: right;\">\n",
       "      <th></th>\n",
       "      <th>rmse_lr</th>\n",
       "      <th>rmse_fk</th>\n",
       "      <th>m</th>\n",
       "      <th>Delta_m</th>\n",
       "      <th>r</th>\n",
       "      <th>D</th>\n",
       "      <th>L</th>\n",
       "      <th>kappa</th>\n",
       "      <th>varkappa</th>\n",
       "      <th>x0</th>\n",
       "      <th>neighbor</th>\n",
       "      <th>force_code</th>\n",
       "      <th>m_fk</th>\n",
       "      <th>m_lr</th>\n",
       "    </tr>\n",
       "  </thead>\n",
       "  <tbody>\n",
       "    <tr>\n",
       "      <th>147</th>\n",
       "      <td>0.508427</td>\n",
       "      <td>7.666471</td>\n",
       "      <td>1.542957</td>\n",
       "      <td>0.02166</td>\n",
       "      <td>0.1</td>\n",
       "      <td>20</td>\n",
       "      <td>10</td>\n",
       "      <td>500</td>\n",
       "      <td>20.0</td>\n",
       "      <td>0</td>\n",
       "      <td>0</td>\n",
       "      <td>2</td>\n",
       "      <td>0.402043</td>\n",
       "      <td>0.001043</td>\n",
       "    </tr>\n",
       "    <tr>\n",
       "      <th>160</th>\n",
       "      <td>7.944012</td>\n",
       "      <td>15.181191</td>\n",
       "      <td>1.549711</td>\n",
       "      <td>0.02166</td>\n",
       "      <td>0.1</td>\n",
       "      <td>20</td>\n",
       "      <td>10</td>\n",
       "      <td>1500</td>\n",
       "      <td>-20.0</td>\n",
       "      <td>5</td>\n",
       "      <td>1</td>\n",
       "      <td>1</td>\n",
       "      <td>0.395289</td>\n",
       "      <td>0.005711</td>\n",
       "    </tr>\n",
       "    <tr>\n",
       "      <th>62</th>\n",
       "      <td>5.279637</td>\n",
       "      <td>12.514453</td>\n",
       "      <td>1.550335</td>\n",
       "      <td>0.02166</td>\n",
       "      <td>0.1</td>\n",
       "      <td>2</td>\n",
       "      <td>10</td>\n",
       "      <td>1500</td>\n",
       "      <td>-10.0</td>\n",
       "      <td>5</td>\n",
       "      <td>1</td>\n",
       "      <td>1</td>\n",
       "      <td>0.394665</td>\n",
       "      <td>0.006335</td>\n",
       "    </tr>\n",
       "    <tr>\n",
       "      <th>61</th>\n",
       "      <td>5.553771</td>\n",
       "      <td>12.789959</td>\n",
       "      <td>1.537566</td>\n",
       "      <td>0.02166</td>\n",
       "      <td>0.1</td>\n",
       "      <td>2</td>\n",
       "      <td>10</td>\n",
       "      <td>1500</td>\n",
       "      <td>-10.0</td>\n",
       "      <td>5</td>\n",
       "      <td>0</td>\n",
       "      <td>1</td>\n",
       "      <td>0.407434</td>\n",
       "      <td>0.006434</td>\n",
       "    </tr>\n",
       "    <tr>\n",
       "      <th>96</th>\n",
       "      <td>13.628419</td>\n",
       "      <td>20.863749</td>\n",
       "      <td>1.536944</td>\n",
       "      <td>0.02166</td>\n",
       "      <td>0.1</td>\n",
       "      <td>2</td>\n",
       "      <td>10</td>\n",
       "      <td>1500</td>\n",
       "      <td>20.0</td>\n",
       "      <td>0</td>\n",
       "      <td>0</td>\n",
       "      <td>2</td>\n",
       "      <td>0.408056</td>\n",
       "      <td>0.007056</td>\n",
       "    </tr>\n",
       "  </tbody>\n",
       "</table>\n",
       "</div>"
      ],
      "text/plain": [
       "       rmse_lr    rmse_fk         m  Delta_m    r   D   L  kappa  varkappa  \\\n",
       "147   0.508427   7.666471  1.542957  0.02166  0.1  20  10    500      20.0   \n",
       "160   7.944012  15.181191  1.549711  0.02166  0.1  20  10   1500     -20.0   \n",
       "62    5.279637  12.514453  1.550335  0.02166  0.1   2  10   1500     -10.0   \n",
       "61    5.553771  12.789959  1.537566  0.02166  0.1   2  10   1500     -10.0   \n",
       "96   13.628419  20.863749  1.536944  0.02166  0.1   2  10   1500      20.0   \n",
       "\n",
       "     x0  neighbor  force_code      m_fk      m_lr  \n",
       "147   0         0           2  0.402043  0.001043  \n",
       "160   5         1           1  0.395289  0.005711  \n",
       "62    5         1           1  0.394665  0.006335  \n",
       "61    5         0           1  0.407434  0.006434  \n",
       "96    0         0           2  0.408056  0.007056  "
      ]
     },
     "execution_count": 446,
     "metadata": {},
     "output_type": "execute_result"
    }
   ],
   "source": [
    "#TODO: plot the best trial\n",
    "#and the top 5 matches for either model is... (FK)\n",
    "print(f\"The top 5 for the Luo-Rudy model:\")\n",
    "dh.sort_values(by='m_lr',inplace=True)\n",
    "dh.head(5)\n",
    "#DONE: plot the corresponding control trial.  overlay with ^that\n",
    "#DONE: plot the exponent versus q for the best trial and its control\n",
    "#DONE: indicate the exponent of the LR model"
   ]
  },
  {
   "cell_type": "code",
   "execution_count": 451,
   "metadata": {
    "ExecuteTime": {
     "end_time": "2021-06-03T23:39:32.681307Z",
     "start_time": "2021-06-03T23:39:32.660100Z"
    }
   },
   "outputs": [
    {
     "name": "stdout",
     "output_type": "stream",
     "text": [
      "The top 5 for the Fenton-Karma model:\n"
     ]
    },
    {
     "data": {
      "text/html": [
       "<div>\n",
       "<style scoped>\n",
       "    .dataframe tbody tr th:only-of-type {\n",
       "        vertical-align: middle;\n",
       "    }\n",
       "\n",
       "    .dataframe tbody tr th {\n",
       "        vertical-align: top;\n",
       "    }\n",
       "\n",
       "    .dataframe thead th {\n",
       "        text-align: right;\n",
       "    }\n",
       "</style>\n",
       "<table border=\"1\" class=\"dataframe\">\n",
       "  <thead>\n",
       "    <tr style=\"text-align: right;\">\n",
       "      <th></th>\n",
       "      <th>rmse_lr</th>\n",
       "      <th>rmse_fk</th>\n",
       "      <th>m</th>\n",
       "      <th>Delta_m</th>\n",
       "      <th>r</th>\n",
       "      <th>D</th>\n",
       "      <th>L</th>\n",
       "      <th>kappa</th>\n",
       "      <th>varkappa</th>\n",
       "      <th>x0</th>\n",
       "      <th>neighbor</th>\n",
       "      <th>force_code</th>\n",
       "      <th>m_fk</th>\n",
       "      <th>m_lr</th>\n",
       "    </tr>\n",
       "  </thead>\n",
       "  <tbody>\n",
       "    <tr>\n",
       "      <th>314</th>\n",
       "      <td>5.235112</td>\n",
       "      <td>2.017382</td>\n",
       "      <td>1.948413</td>\n",
       "      <td>0.02166</td>\n",
       "      <td>0.1</td>\n",
       "      <td>20</td>\n",
       "      <td>10</td>\n",
       "      <td>500</td>\n",
       "      <td>-20.0</td>\n",
       "      <td>1</td>\n",
       "      <td>0</td>\n",
       "      <td>1</td>\n",
       "      <td>0.003413</td>\n",
       "      <td>0.404413</td>\n",
       "    </tr>\n",
       "    <tr>\n",
       "      <th>172</th>\n",
       "      <td>1.899622</td>\n",
       "      <td>8.993642</td>\n",
       "      <td>1.950208</td>\n",
       "      <td>0.02166</td>\n",
       "      <td>0.1</td>\n",
       "      <td>20</td>\n",
       "      <td>10</td>\n",
       "      <td>1500</td>\n",
       "      <td>-5.0</td>\n",
       "      <td>5</td>\n",
       "      <td>1</td>\n",
       "      <td>1</td>\n",
       "      <td>0.005208</td>\n",
       "      <td>0.406208</td>\n",
       "    </tr>\n",
       "    <tr>\n",
       "      <th>367</th>\n",
       "      <td>3.654284</td>\n",
       "      <td>10.825935</td>\n",
       "      <td>1.938239</td>\n",
       "      <td>0.02166</td>\n",
       "      <td>0.1</td>\n",
       "      <td>20</td>\n",
       "      <td>10</td>\n",
       "      <td>1500</td>\n",
       "      <td>-20.0</td>\n",
       "      <td>1</td>\n",
       "      <td>0</td>\n",
       "      <td>1</td>\n",
       "      <td>0.006761</td>\n",
       "      <td>0.394239</td>\n",
       "    </tr>\n",
       "    <tr>\n",
       "      <th>141</th>\n",
       "      <td>4.965076</td>\n",
       "      <td>2.291202</td>\n",
       "      <td>1.937195</td>\n",
       "      <td>0.02166</td>\n",
       "      <td>0.1</td>\n",
       "      <td>20</td>\n",
       "      <td>10</td>\n",
       "      <td>500</td>\n",
       "      <td>5.0</td>\n",
       "      <td>0</td>\n",
       "      <td>0</td>\n",
       "      <td>2</td>\n",
       "      <td>0.007805</td>\n",
       "      <td>0.393195</td>\n",
       "    </tr>\n",
       "    <tr>\n",
       "      <th>8</th>\n",
       "      <td>6.086469</td>\n",
       "      <td>1.164434</td>\n",
       "      <td>1.954083</td>\n",
       "      <td>0.02166</td>\n",
       "      <td>0.1</td>\n",
       "      <td>2</td>\n",
       "      <td>10</td>\n",
       "      <td>500</td>\n",
       "      <td>-10.0</td>\n",
       "      <td>1</td>\n",
       "      <td>0</td>\n",
       "      <td>1</td>\n",
       "      <td>0.009083</td>\n",
       "      <td>0.410083</td>\n",
       "    </tr>\n",
       "  </tbody>\n",
       "</table>\n",
       "</div>"
      ],
      "text/plain": [
       "      rmse_lr    rmse_fk         m  Delta_m    r   D   L  kappa  varkappa  x0  \\\n",
       "314  5.235112   2.017382  1.948413  0.02166  0.1  20  10    500     -20.0   1   \n",
       "172  1.899622   8.993642  1.950208  0.02166  0.1  20  10   1500      -5.0   5   \n",
       "367  3.654284  10.825935  1.938239  0.02166  0.1  20  10   1500     -20.0   1   \n",
       "141  4.965076   2.291202  1.937195  0.02166  0.1  20  10    500       5.0   0   \n",
       "8    6.086469   1.164434  1.954083  0.02166  0.1   2  10    500     -10.0   1   \n",
       "\n",
       "     neighbor  force_code      m_fk      m_lr  \n",
       "314         0           1  0.003413  0.404413  \n",
       "172         1           1  0.005208  0.406208  \n",
       "367         0           1  0.006761  0.394239  \n",
       "141         0           2  0.007805  0.393195  \n",
       "8           0           1  0.009083  0.410083  "
      ]
     },
     "execution_count": 451,
     "metadata": {},
     "output_type": "execute_result"
    }
   ],
   "source": [
    "print(f\"The top 5 for the Fenton-Karma model:\")\n",
    "dh.sort_values(by='m_fk',inplace=True)\n",
    "dh.head(5)"
   ]
  },
  {
   "cell_type": "code",
   "execution_count": 452,
   "metadata": {
    "ExecuteTime": {
     "end_time": "2021-06-03T23:39:35.850285Z",
     "start_time": "2021-06-03T23:39:35.834552Z"
    }
   },
   "outputs": [],
   "source": [
    "arr=dh.head(5).values[:6,4:12]\n",
    "# arr=np.array([\n",
    "#     [1.0e-01, 2.0e+0, 1.0e+01, 1.5e+03, -5,5,0,1],\n",
    "# #     [1.0e-01, 2.0e+0, 1.0e+01, 1.5e+03, -5,5,1,1],\n",
    "#     [1.0e-01, 2.0e+0, 1.0e+01, 1.5e+03, 20,0,0,2],\n",
    "#     [1.0e-01, 2.0e+0, 1.0e+01, 1.5e+03, 20,0,1,2],\n",
    "#     [1.0e-01, 2.0e+0, 1.0e+01, 1.5e+03, 50,0,0,3],\n",
    "#     [1.0e-01, 2.0e+0, 1.0e+01, 1.5e+03, 50,0,1,3],\n",
    "# ])\n",
    "for j in range(arr.shape[0]):\n",
    "    r, D, L, kappa, varkappa, x0, neighbor, force_code = arr[j]"
   ]
  },
  {
   "cell_type": "markdown",
   "metadata": {},
   "source": [
    "__Results__\n",
    "- the best trials for the LR model have long ranges\n",
    "- matching the seeds corrected the high density disagreement.\n",
    "\n",
    "__Questions__\n",
    "- did increasing niter fix the high density disagreement?"
   ]
  },
  {
   "cell_type": "code",
   "execution_count": 453,
   "metadata": {
    "ExecuteTime": {
     "end_time": "2021-06-03T23:39:36.628242Z",
     "start_time": "2021-06-03T23:39:36.607662Z"
    }
   },
   "outputs": [
    {
     "data": {
      "text/plain": [
       "(0.0, 1.0)"
      ]
     },
     "execution_count": 453,
     "metadata": {},
     "output_type": "execute_result"
    }
   ],
   "source": [
    "neighbor,force_code"
   ]
  },
  {
   "cell_type": "code",
   "execution_count": 454,
   "metadata": {
    "ExecuteTime": {
     "end_time": "2021-06-03T23:39:42.157130Z",
     "start_time": "2021-06-03T23:39:37.072737Z"
    }
   },
   "outputs": [
    {
     "name": "stdout",
     "output_type": "stream",
     "text": [
      "0.1 20.0 10.0 500.0 -20.0 1.0 0.0 1.0\n",
      "saved figure in run_12_effect_of_attraction_r_0.1_D_20.00_L_10_kappa_500_varkappa_-20.00_x0_1.00_neighbor_0_force_code_1.png\n",
      "0.1 20.0 10.0 1500.0 -5.0 5.0 1.0 1.0\n",
      "saved figure in run_12_effect_of_attraction_r_0.1_D_20.00_L_10_kappa_1500_varkappa_-5.00_x0_5.00_neighbor_1_force_code_1.png\n",
      "0.1 20.0 10.0 1500.0 -20.0 1.0 0.0 1.0\n",
      "saved figure in run_12_effect_of_attraction_r_0.1_D_20.00_L_10_kappa_1500_varkappa_-20.00_x0_1.00_neighbor_0_force_code_1.png\n",
      "0.1 20.0 10.0 500.0 5.0 0.0 0.0 2.0\n",
      "saved figure in run_12_effect_of_attraction_r_0.1_D_20.00_L_10_kappa_500_varkappa_5.00_x0_0.00_neighbor_0_force_code_2.png\n",
      "0.1 2.0 10.0 500.0 -10.0 1.0 0.0 1.0\n",
      "saved figure in run_12_effect_of_attraction_r_0.1_D_2.00_L_10_kappa_500_varkappa_-10.00_x0_1.00_neighbor_0_force_code_1.png\n"
     ]
    },
    {
     "data": {
      "text/plain": [
       "0"
      ]
     },
     "execution_count": 454,
     "metadata": {},
     "output_type": "execute_result"
    }
   ],
   "source": [
    "savefig_folder=f'{nb_dir}/../fig'\n",
    "saving=True\n",
    "for j in range(arr.shape[0]):\n",
    "    reflect=0\n",
    "    set_second=0\n",
    "    no_repulsion=1\n",
    "    L=10\n",
    "    r, D, L, kappa, varkappa, x0,neighbor,force_code = arr[j] # #dh.head(5).values[j,4:12]\n",
    "    savefig_fn=f'run_12_effect_of_attraction_r_{r:.1f}_D_{D:.2f}_L_{L:.0f}_kappa_{kappa:.0f}_varkappa_{varkappa:.2f}_x0_{x0:.2f}_neighbor_{int(neighbor):0d}_force_code_{int(force_code):0d}.png'\n",
    "    print (*(r, D, L, kappa, varkappa, x0, neighbor, force_code))\n",
    "    # r=0.1;D=20;L=10;kappa=1500;varkappa=-5;x0=5.\n",
    "\n",
    "    #with forces\n",
    "    #slice the df\n",
    "    query =df.no_attraction==0\n",
    "    query&=df.no_repulsion==no_repulsion\n",
    "    query&=df.reflect==reflect\n",
    "    query&=df.set_second==set_second\n",
    "    query&=df.r==r\n",
    "    query&=df.L==L\n",
    "    query&=df.kappa==kappa\n",
    "    dff=df[query]#.copy()\n",
    "    #query the dataframe with the bred parameters\n",
    "    query =dff.D==D\n",
    "    query&=dff.varkappa==varkappa\n",
    "    query&=dff.x0==x0\n",
    "    query&=(dff.neighbor==int(neighbor))&(dff.force_code==int(force_code))\n",
    "    dg=dff[query]#.copy() \n",
    "    #extract the data\n",
    "    x_values_force=dg.q.values\n",
    "    y_values_force=dg.w.values\n",
    "    assert (y_values_force.shape[0]>0)###################\n",
    "    \n",
    "    #query the control\n",
    "    #query the DataFrame\n",
    "    query =(df.set_second==set_second)&(df.reflect==reflect)\n",
    "    query&=df.r==r\n",
    "    query&=df.D==D\n",
    "    query&=df.L==L\n",
    "    query&=df.kappa==kappa\n",
    "    query&=df.varkappa==0\n",
    "    query&=df.x0==0\n",
    "    query&=(df.no_repulsion==no_repulsion)&(df.no_attraction==1)\n",
    "    query&=(df.neighbor==0)&(df.force_code==0)\n",
    "    dg=df[query]\n",
    "    x_values=dg.q.values\n",
    "    y_values=dg.w.values\n",
    "\n",
    "    #slice relevant particle density to the particle densities observed from the full model\n",
    "    qmin=0.1;qmax=1\n",
    "    window_width=0.3\n",
    "    stepsize=0.1\n",
    "    try:\n",
    "        boo=(x_values>qmin)&(x_values<qmax)\n",
    "        dict_ci=compute_95CI_ols(np.log(x_values[boo]),np.log(y_values[boo]))\n",
    "#         print(*zip(dict_ci,dict_ci.values()))\n",
    "        #compute sliding m\n",
    "        xavg_values,slope_values,Rsquared_values = compute_sliding_slope_loglog(x_values,y_values,    \n",
    "            x_min=qmin,\n",
    "            window_width=window_width,\n",
    "            stepsize=stepsize,\n",
    "        )\n",
    "    except AssertionError as e:\n",
    "        xavg_values,slope_values=np.array([]),np.array([])\n",
    "        print ('uh-oh')\n",
    "\n",
    "    #with forces\n",
    "    boo=(x_values_force>qmin)&(x_values_force<qmax)\n",
    "    dict_ci=compute_95CI_ols(np.log(x_values_force[boo]),np.log(y_values_force[boo]))\n",
    "#     print(*zip(dict_ci,dict_ci.values()))\n",
    "    #compute sliding m\n",
    "    xavg_values_force,slope_values_force,Rsquared_values_force = compute_sliding_slope_loglog(x_values_force,y_values_force,    \n",
    "        x_min=qmin,\n",
    "        window_width=window_width,\n",
    "        stepsize=stepsize,\n",
    "    )\n",
    "#     print((xavg_values.shape,xavg_values_force.shape))\n",
    "    assert (xavg_values_force.shape[0]>0)\n",
    "\n",
    "    #plot ^this trial against its control\n",
    "\n",
    "    #plot fits for full model\n",
    "    m_fk=1.945;#+-0.030; B_fk=2.441+-0.051\n",
    "    m_lr=1.544;#+-0.034; B_lr=5.870+-0.137\n",
    "    M_fk=5.67;#+-0.39 Hz*cm^{2(m-1)}\n",
    "    M_lr=15.37;#+-1.57 Hz*cm^{2(m-1)}\n",
    "    # RMSE_fk=0.1252 Hz/cm^2\n",
    "    # RMSE_lr=0.0974 Hz/cm^2\n",
    "    # R^2=0.997 (FK)\n",
    "    # R^2=0.994 (LR)\n",
    "    # yscale=10**3\n",
    "    xv=np.arange(0.1,1.,.05)\n",
    "    yv_fk=M_fk*(xv)**m_fk\n",
    "    yv_lr=M_lr*(xv)**m_lr\n",
    "\n",
    "    #plot the values\n",
    "    figsize=(12,5)\n",
    "    fontsize=16\n",
    "    fig, axs = plt.subplots(ncols=2,figsize=figsize, constrained_layout=True)\n",
    "    lw=3\n",
    "\n",
    "    ax=axs[0]\n",
    "    ax.plot(xv,yv_fk,label='Fenton-Karma',zorder=1,lw=lw,c='C0',alpha=.7)\n",
    "    ax.plot(xv,yv_lr,label='Luo-Rudy',zorder=1,lw=lw,c='C1',alpha=.7)\n",
    "    ax.plot(x_values,y_values,c='k',alpha=.7,label='without forces',lw=lw)\n",
    "    ax.plot(x_values_force,y_values_force,c='C2',alpha=0.7,label='with forces',lw=lw)\n",
    "    # plt.plot(x_values,y_values,c=c_values,alpha=0.4,cmap='bwr')\n",
    "    # plt.title(u'comparison to simulation\\nwith two hybrid modes',fontsize=fontsize)\n",
    "    ax.set_xlabel(r'q (cm$^{-2}$)',fontsize=fontsize)\n",
    "    ax.set_ylabel(r'w (Hz cm$^{-2}$)', fontsize=fontsize)\n",
    "    ax.tick_params(axis='both', which='major', labelsize=fontsize)\n",
    "    ax.tick_params(axis='both', which='minor', labelsize=0)\n",
    "    ax.legend(fontsize=fontsize-2)\n",
    "    # title=r'$D=$'+f'{D} cm'+r'$^2$/s, '+r'$\\varkappa=$'+f'{varkappa}  Hz, '+r'$x_0=$'+f'{x0} cm\\n'\n",
    "    # ax.set_title(title,fontsize=fontsize)\n",
    "    # plt.xlim([0.1,1])\n",
    "    ax.set_ylim([2e-3,50])\n",
    "    ax.set_yscale('log')\n",
    "    ax.set_xscale('log')\n",
    "\n",
    "    ax=axs[1]\n",
    "    ax.plot(xavg_values,slope_values,lw=lw,c='k', label='without forces',alpha=.7)\n",
    "    ax.plot(xavg_values_force,slope_values_force,lw=lw,c='C2', label='with forces',alpha=.7)\n",
    "    ax.plot(xavg_values_force, m_fk+0.*xavg_values_force, '-',lw=lw,c='C0',label='Fenton-Karma',alpha=.7)\n",
    "    ax.plot(xavg_values_force, m_lr+0.*xavg_values_force, '-',lw=lw,c='C1',label='Luo-Rudy',alpha=.7)\n",
    "    # ax.set_xscale('log')\n",
    "    ax.set_ylim([1.4,3])\n",
    "    ax.set_xlabel(r'q (cm$^{-2}$)',fontsize=fontsize)\n",
    "    ax.set_ylabel(r'exponent', fontsize=fontsize)\n",
    "    ax.tick_params(axis='both', which='major', labelsize=fontsize)\n",
    "    ax.tick_params(axis='both', which='minor', labelsize=0)\n",
    "    # title=r'$D=$'+f'{D} cm'+r'$^2$/s, '+r'$\\varkappa=$'+f'{varkappa}  Hz, '+r'$x_0=$'+f'{x0} cm\\n'\n",
    "    # title+=f\"r={r:.1f} cm, \"+r\"$\\kappa$=\"+f\"{kappa:.0f} Hz, A={L**2:.0f} cm\"+r\"$^2$\"+'\\n'\n",
    "    # ax.set_title(title,fontsize=fontsize)\n",
    "    # ax.legend(loc='best',fontsize=fontsize-4,ncol=2)\n",
    "    #format title\n",
    "    title=r'$D=$'+f'{D:.0f} cm'+r'$^2$/s, '+r'$\\varkappa=$'+f'{varkappa:.0f} Hz, '+r'$x_0=$'+f'{x0:.0f} cm\\nforce_code={int(force_code)}, neighbors={int(neighbor)}\\n'\n",
    "#     title+=f\"r={r:.1f} cm, \"+r\"$\\kappa$=\"+f\"{kappa:.0f} Hz, A={L**2:.0f} cm\"+r\"$^2$\"+f'\\n'#Rank = #{j+1}'\n",
    "    title+=f\"r={r:.1f} cm, \"+r\"$\\kappa$=\"+f\"{kappa:.0f} Hz, A={L**2:.0f} cm\"+r\"$^2$\"+f'\\nRank = #{j+1}'\n",
    "    fig.suptitle(title, fontsize=fontsize+2)\n",
    "    # fig.tight_layout()\n",
    "    if not saving:\n",
    "        plt.show()\n",
    "    else:\n",
    "        os.chdir(savefig_folder)\n",
    "        plt.savefig(savefig_fn, dpi=300)\n",
    "        print(f\"saved figure in {savefig_fn}\")\n",
    "    plt.close()\n",
    "beep(7)"
   ]
  },
  {
   "cell_type": "code",
   "execution_count": 194,
   "metadata": {
    "ExecuteTime": {
     "end_time": "2021-06-02T23:58:22.436890Z",
     "start_time": "2021-06-02T23:58:22.422321Z"
    }
   },
   "outputs": [],
   "source": [
    "# # plot one of ^these trials against its control\n",
    "# saving=False\n",
    "\n",
    "# #plot fits for full model\n",
    "# m_fk=1.945;#+-0.030; B_fk=2.441+-0.051\n",
    "# m_lr=1.544;#+-0.034; B_lr=5.870+-0.137\n",
    "# M_fk=5.67;#+-0.39 Hz*cm^{2(m-1)}\n",
    "# M_lr=15.37;#+-1.57 Hz*cm^{2(m-1)}\n",
    "# # RMSE_fk=0.1252 Hz/cm^2\n",
    "# # RMSE_lr=0.0974 Hz/cm^2\n",
    "# # R^2=0.997 (FK)\n",
    "# # R^2=0.994 (LR)\n",
    "# # yscale=10**3\n",
    "# xv=np.arange(0.1,1.,.05)\n",
    "# yv_fk=M_fk*(xv)**m_fk\n",
    "# yv_lr=M_lr*(xv)**m_lr\n",
    "\n",
    "# #plot the values\n",
    "# figsize=(6,5)\n",
    "# fontsize=16\n",
    "# savefig_folder=f'{nb_dir}/../fig'\n",
    "# savefig_fn=f'effect_of_attraction_D_{D:.0f}_varkappa_{varkappa:.0f}_x0_{x0:.0f}.png'\n",
    "# fig, ax = plt.subplots(ncols=1,figsize=figsize)# ax=axs[1]\n",
    "# lw=3\n",
    "\n",
    "\n",
    "# ax.plot(xv,yv_fk,label='FK power law fit',zorder=1,lw=lw,c='C0',alpha=.7)\n",
    "# ax.plot(xv,yv_lr,label='LR power law fit',zorder=1,lw=lw,c='C1',alpha=.7)\n",
    "# ax.plot(x_values,y_values,c='k',alpha=.7,label='without forces',lw=lw)\n",
    "# ax.plot(x_values_force,y_values_force,c='C2',alpha=0.7,label='with forces',lw=lw)\n",
    "# # plt.plot(x_values,y_values,c=c_values,alpha=0.4,cmap='bwr')\n",
    "# # plt.title(u'comparison to simulation\\nwith two hybrid modes',fontsize=fontsize)\n",
    "# ax.set_xlabel(r'q (cm$^{-2}$)',fontsize=fontsize)\n",
    "# ax.set_ylabel(r'w (Hz cm$^{-2}$)', fontsize=fontsize)\n",
    "# ax.tick_params(axis='both', which='major', labelsize=fontsize)\n",
    "# ax.tick_params(axis='both', which='minor', labelsize=0)\n",
    "# ax.legend(fontsize=fontsize-5)\n",
    "# title=r'$D=$'+f'{D} cm'+r'$^2$/s, '+r'$\\varkappa=$'+f'{varkappa}  Hz, '+r'$x_0=$'+f'{x0} cm\\n'\n",
    "# ax.set_title(title,fontsize=fontsize)\n",
    "# # plt.xlim([0.1,1])\n",
    "# # plt.ylim([1e-1,15])\n",
    "# ax.set_yscale('log')\n",
    "# ax.set_xscale('log')\n",
    "# fig.tight_layout()\n",
    "# if not saving:\n",
    "#     plt.show()\n",
    "# else:\n",
    "#     plt.tight_layout()\n",
    "#     os.chdir(savefig_folder)\n",
    "#     plt.savefig(savefig_fn, dpi=300)\n",
    "# #         print(f\"saved figure in \\n\\t{savefig_fn}\")\n",
    "# #         plt.close()"
   ]
  },
  {
   "cell_type": "code",
   "execution_count": null,
   "metadata": {
    "ExecuteTime": {
     "end_time": "2021-05-28T22:05:35.766113Z",
     "start_time": "2021-05-28T22:03:39.271Z"
    }
   },
   "outputs": [],
   "source": [
    "#DONT: abstract both plotting methods as functions\n",
    "#DONE: merge ^these to plots quickly into one"
   ]
  },
  {
   "cell_type": "code",
   "execution_count": null,
   "metadata": {
    "ExecuteTime": {
     "end_time": "2021-05-28T22:05:35.771767Z",
     "start_time": "2021-05-28T22:03:39.723Z"
    }
   },
   "outputs": [],
   "source": [
    "# m_fk=1.945#1.858;#+-0.027; B_fk=2.464+-0.030<br>\n",
    "# m_lr=1.544#1.638;#+-0.017; B_fk=5.588+-0.067\n",
    "# fontsize=16\n",
    "# lw=3\n",
    "# x=xavg_values[:-1]\n",
    "# # y=Rsquared_values[:-1]\n",
    "# y=slope_values[:-1]\n",
    "# plt.plot(xavg_values,slope_values,lw=lw,c='k', label='without forces')\n",
    "# plt.plot(xavg_values_force,slope_values_force,lw=lw,c='C2', label='with forces')\n",
    "# plt.plot(xavg_values_force, m_fk+0.*xavg_values_force, '--',lw=lw,c='gray',label='Fenton-Karma')\n",
    "# plt.plot(xavg_values_force, m_lr+0.*xavg_values_force, '-',lw=lw,c='gray',label='Luo-Rudy')\n",
    "# # plt.scatter(x,y,s=10)\n",
    "# # plt.xlabel('N',fontsize=fontsize)\n",
    "# # plt.ylabel('Collision Rate',fontsize=fontsize)\n",
    "# # plt.xscale('log')\n",
    "# # plt.title(u'comparison to simulation\\nwith two hybrid modes',fontsize=fontsize)\n",
    "# plt.xlabel(r'q (cm$^{-2}$)',fontsize=fontsize)\n",
    "# plt.ylabel(r'exponent', fontsize=fontsize)\n",
    "# plt.tick_params(axis='both', which='major', labelsize=fontsize)\n",
    "# plt.tick_params(axis='both', which='minor', labelsize=0)\n",
    "# # print(f'varkappa={varkappa}  Hz');print(f'      x0={x0} cm')\n",
    "# title=r'$D=$'+f'{D} cm'+r'$^2$/s, '+r'$\\varkappa=$'+f'{varkappa}  Hz, '+r'$x_0=$'+f'{x0} cm\\n'\n",
    "# title+=f\"r={r:.1f} cm, \"+r\"$\\kappa$=\"+f\"{kappa:.0f} Hz, A={L**2:.0f} cm\"+r\"$^2$\"+'\\n'\n",
    "# plt.title(title,fontsize=fontsize)\n",
    "# plt.legend(loc='best',fontsize=fontsize-4,ncol=2)\n",
    "# plt.show()"
   ]
  },
  {
   "cell_type": "code",
   "execution_count": 37,
   "metadata": {
    "ExecuteTime": {
     "end_time": "2021-05-28T21:54:18.266083Z",
     "start_time": "2021-05-28T21:54:18.254303Z"
    }
   },
   "outputs": [],
   "source": [
    "#DONE: fix the y axes\n",
    "#DONE(now): make ^those for 3 or so more trial settings\n",
    "#TODO: assemble ^those in .odg on left side of one page\n",
    "#TODO: on right side, take some Cornell notes.\n",
    "#TODO(later): put all ^this into a function an automate the plotting of a given input csv that has only one trial in it.\n"
   ]
  },
  {
   "cell_type": "code",
   "execution_count": 245,
   "metadata": {
    "ExecuteTime": {
     "end_time": "2021-06-03T00:31:14.021527Z",
     "start_time": "2021-06-03T00:31:14.003451Z"
    }
   },
   "outputs": [
    {
     "data": {
      "text/plain": [
       "{0.1, 1.0, 5.0, 10.0, 20.0, 50.0}"
      ]
     },
     "execution_count": 245,
     "metadata": {},
     "output_type": "execute_result"
    }
   ],
   "source": [
    "#what are the varkappa values when force_code=2,3\n",
    "set(df[df.force_code==3].varkappa.values)"
   ]
  },
  {
   "cell_type": "markdown",
   "metadata": {},
   "source": [
    "# TODO: show nearest=0,1 is not equivalent to machine precision"
   ]
  },
  {
   "cell_type": "code",
   "execution_count": 456,
   "metadata": {
    "ExecuteTime": {
     "end_time": "2021-06-04T00:29:53.948143Z",
     "start_time": "2021-06-04T00:29:53.923959Z"
    }
   },
   "outputs": [],
   "source": [
    "#token long-ranged forces\n",
    "# force_code_values=np.array([2,3])\n",
    "# no_attraction_values=np.array([0])\n",
    "# neighbor_values=np.array([0,1])\n",
    "# set_second_values=np.array([0])\n",
    "# varkappa_values=np.array([0.1,1.,5.,10.,20.,50.])#1/s\n",
    "# x0_values=np.array([0.])#,1.0,5.0])#cm #x0 does nothing for QED2,3\n",
    "kappa=1500;no_attraction=0;force_code=1;neighbor=0;varkappa=-5;x0=5.\n",
    "#query the DataFrame\n",
    "query =(df.set_second==set_second)&(df.reflect==reflect)\n",
    "query&=df.r==r\n",
    "query&=df.D==D\n",
    "query&=df.L==L\n",
    "query&=df.kappa==kappa\n",
    "query&=df.varkappa==varkappa\n",
    "query&=df.x0==x0\n",
    "query&=(df.no_repulsion==no_repulsion)&(df.no_attraction==no_attraction)\n",
    "query&=(df.neighbor==neighbor)&(df.force_code==force_code)\n",
    "dg=df[query]\n",
    "x_values=dg.q.values\n",
    "y_values=dg.w.values\n",
    "x_values_force_neigh_0=x_values.copy()\n",
    "y_values_force_neigh_0=y_values.copy()\n",
    "\n",
    "neighbor=1\n",
    "#query the DataFrame\n",
    "query =(df.set_second==set_second)&(df.reflect==reflect)\n",
    "query&=df.r==r\n",
    "query&=df.D==D\n",
    "query&=df.L==L\n",
    "query&=df.kappa==kappa\n",
    "query&=df.varkappa==varkappa\n",
    "query&=df.x0==x0\n",
    "query&=(df.no_repulsion==no_repulsion)&(df.no_attraction==no_attraction)\n",
    "query&=(df.neighbor==neighbor)&(df.force_code==force_code)\n",
    "dg=df[query]\n",
    "x_values=dg.q.values\n",
    "y_values=dg.w.values\n",
    "x_values_force_neigh_1=x_values.copy()\n",
    "y_values_force_neigh_1=y_values.copy()"
   ]
  },
  {
   "cell_type": "code",
   "execution_count": 469,
   "metadata": {
    "ExecuteTime": {
     "end_time": "2021-06-04T00:38:13.726603Z",
     "start_time": "2021-06-04T00:38:13.325544Z"
    }
   },
   "outputs": [
    {
     "data": {
      "image/png": "[encoded data removed]",
      "text/plain": [
       "<Figure size 432x288 with 1 Axes>"
      ]
     },
     "metadata": {
      "needs_background": "light"
     },
     "output_type": "display_data"
    }
   ],
   "source": [
    "#plot fits for full model\n",
    "m_fk=1.945;#+-0.030; B_fk=2.441+-0.051\n",
    "m_lr=1.544;#+-0.034; B_lr=5.870+-0.137\n",
    "M_fk=5.67;#+-0.39 Hz*cm^{2(m-1)}\n",
    "M_lr=15.37;#+-1.57 Hz*cm^{2(m-1)}\n",
    "# RMSE_fk=0.1252 Hz/cm^2\n",
    "# RMSE_lr=0.0974 Hz/cm^2\n",
    "# R^2=0.997 (FK)\n",
    "# R^2=0.994 (LR)\n",
    "# yscale=10**3\n",
    "xv=np.arange(0.1,1.,.05)\n",
    "yv_fk=M_fk*(xv)**m_fk\n",
    "yv_lr=M_lr*(xv)**m_lr\n",
    "\n",
    "fontsize=16\n",
    "# plt.xlim([0.1,1])\n",
    "# plt.ylim([1e-1,15])\n",
    "plt.yscale('log')\n",
    "plt.xscale('log')\n",
    "plt.plot(xv,yv_fk,label='FK power law fit',zorder=3,lw=4)\n",
    "plt.plot(xv,yv_lr,label='LR power law fit',zorder=3,lw=4,color='C1')\n",
    "\n",
    "fontsize=18\n",
    "plt.plot(x_values_force_neigh_1,y_values_force_neigh_1,'-',c='r',alpha=.7,label=r'neighbors only',lw=3)\n",
    "plt.plot(x_values_force_neigh_0,y_values_force_neigh_0,'-',c='g',alpha=.7,label=r'all particles',lw=3)\n",
    "\n",
    "# plt.plot(x_values,y_values,c='C2',alpha=.7,label='simulation',lw=6)\n",
    "# plt.plot(x_values_force,y_values_force,c='C3',alpha=.7,label='simulation with forces',lw=6)\n",
    "# plt.plot(x_values,y_values,c=c_values,alpha=0.4,cmap='bwr')\n",
    "# plt.title(u'comparison to simulation\\nwith two hybrid modes',fontsize=fontsize)\n",
    "plt.xlabel(r'q (cm$^{-2}$)',fontsize=fontsize)\n",
    "plt.ylabel(r'w (Hz cm$^{-2}$)', fontsize=fontsize)\n",
    "plt.tick_params(axis='both', which='major', labelsize=fontsize)\n",
    "plt.tick_params(axis='both', which='minor', labelsize=0)\n",
    "plt.legend(fontsize=fontsize-5)\n",
    "# plt.xlim([0.08,1])\n",
    "# print(f'varkappa={varkappa}  Hz');print(f'      x0={x0} cm')\n",
    "plt.title(r'$\\kappa=1500$ Hz, $\\varkappa=$'+f'{varkappa}  Hz, '+r'$x_0=$'+f'{x0:.0f} cm, '+f'\\nforce_code={force_code}\\n',fontsize=fontsize)\n",
    "plt.show()"
   ]
  },
  {
   "cell_type": "code",
   "execution_count": 470,
   "metadata": {
    "ExecuteTime": {
     "end_time": "2021-06-04T00:38:14.084059Z",
     "start_time": "2021-06-04T00:38:13.900750Z"
    }
   },
   "outputs": [
    {
     "data": {
      "image/png": "[encoded data removed]",
      "text/plain": [
       "<Figure size 432x288 with 1 Axes>"
      ]
     },
     "metadata": {
      "needs_background": "light"
     },
     "output_type": "display_data"
    }
   ],
   "source": [
    "# plt.yscale('log')\n",
    "# plt.xscale('log')\n",
    "# plt.plot(xv,yv_fk,label='FK power law fit',zorder=3,lw=4)\n",
    "# plt.plot(xv,yv_lr,label='LR power law fit',zorder=3,lw=4,color='C1')\n",
    "\n",
    "fontsize=18\n",
    "plt.plot(x_values_force_neigh_1,y_values_force_neigh_1-y_values_force_neigh_0,'-',c='purple',alpha=.7,label=r'neighbors only minus all particles',lw=3)\n",
    "\n",
    "# plt.plot(x_values,y_values,c='C2',alpha=.7,label='simulation',lw=6)\n",
    "# plt.plot(x_values_force,y_values_force,c='C3',alpha=.7,label='simulation with forces',lw=6)\n",
    "# plt.plot(x_values,y_values,c=c_values,alpha=0.4,cmap='bwr')\n",
    "# plt.title(u'comparison to simulation\\nwith two hybrid modes',fontsize=fontsize)\n",
    "plt.xlabel(r'q (cm$^{-2}$)',fontsize=fontsize)\n",
    "plt.ylabel(r'w (Hz cm$^{-2}$)', fontsize=fontsize)\n",
    "plt.tick_params(axis='both', which='major', labelsize=fontsize)\n",
    "plt.tick_params(axis='both', which='minor', labelsize=0)\n",
    "plt.legend(fontsize=fontsize-5)\n",
    "# plt.xlim([0.08,1])\n",
    "# print(f'varkappa={varkappa}  Hz');print(f'      x0={x0} cm')\n",
    "plt.title(r'$\\kappa=1500$ Hz, $\\varkappa=$'+f'{varkappa}  Hz, '+r'$x_0=$'+f'{x0:.0f} cm, '+f'\\nforce_code={force_code}\\n',fontsize=fontsize)\n",
    "plt.show()"
   ]
  },
  {
   "cell_type": "code",
   "execution_count": null,
   "metadata": {},
   "outputs": [],
   "source": []
  },
  {
   "cell_type": "code",
   "execution_count": 1,
   "metadata": {
    "ExecuteTime": {
     "end_time": "2021-09-01T18:38:10.820486Z",
     "start_time": "2021-09-01T18:38:10.745549Z"
    }
   },
   "outputs": [
    {
     "ename": "NameError",
     "evalue": "name 'df' is not defined",
     "output_type": "error",
     "traceback": [
      "\u001b[0;31m---------------------------------------------------------------------------\u001b[0m",
      "\u001b[0;31mNameError\u001b[0m                                 Traceback (most recent call last)",
      "\u001b[0;32m<ipython-input-1-25ffa8668f20>\u001b[0m in \u001b[0;36m<module>\u001b[0;34m\u001b[0m\n\u001b[1;32m      8\u001b[0m \u001b[0mkappa\u001b[0m\u001b[0;34m=\u001b[0m\u001b[0;36m1500\u001b[0m\u001b[0;34m;\u001b[0m\u001b[0mno_attraction\u001b[0m\u001b[0;34m=\u001b[0m\u001b[0;36m0\u001b[0m\u001b[0;34m;\u001b[0m\u001b[0mforce_code\u001b[0m\u001b[0;34m=\u001b[0m\u001b[0;36m1\u001b[0m\u001b[0;34m;\u001b[0m\u001b[0mneighbor\u001b[0m\u001b[0;34m=\u001b[0m\u001b[0;36m0\u001b[0m\u001b[0;34m;\u001b[0m\u001b[0mvarkappa\u001b[0m\u001b[0;34m=\u001b[0m\u001b[0;34m-\u001b[0m\u001b[0;36m5\u001b[0m\u001b[0;34m;\u001b[0m\u001b[0mx0\u001b[0m\u001b[0;34m=\u001b[0m\u001b[0;36m5.\u001b[0m\u001b[0;34m\u001b[0m\u001b[0;34m\u001b[0m\u001b[0m\n\u001b[1;32m      9\u001b[0m \u001b[0;31m#query the DataFrame\u001b[0m\u001b[0;34m\u001b[0m\u001b[0;34m\u001b[0m\u001b[0;34m\u001b[0m\u001b[0m\n\u001b[0;32m---> 10\u001b[0;31m \u001b[0mquery\u001b[0m \u001b[0;34m=\u001b[0m\u001b[0;34m(\u001b[0m\u001b[0mdf\u001b[0m\u001b[0;34m.\u001b[0m\u001b[0mset_second\u001b[0m\u001b[0;34m==\u001b[0m\u001b[0mset_second\u001b[0m\u001b[0;34m)\u001b[0m\u001b[0;34m&\u001b[0m\u001b[0;34m(\u001b[0m\u001b[0mdf\u001b[0m\u001b[0;34m.\u001b[0m\u001b[0mreflect\u001b[0m\u001b[0;34m==\u001b[0m\u001b[0mreflect\u001b[0m\u001b[0;34m)\u001b[0m\u001b[0;34m\u001b[0m\u001b[0;34m\u001b[0m\u001b[0m\n\u001b[0m\u001b[1;32m     11\u001b[0m \u001b[0mquery\u001b[0m\u001b[0;34m&=\u001b[0m\u001b[0mdf\u001b[0m\u001b[0;34m.\u001b[0m\u001b[0mr\u001b[0m\u001b[0;34m==\u001b[0m\u001b[0mr\u001b[0m\u001b[0;34m\u001b[0m\u001b[0;34m\u001b[0m\u001b[0m\n\u001b[1;32m     12\u001b[0m \u001b[0mquery\u001b[0m\u001b[0;34m&=\u001b[0m\u001b[0mdf\u001b[0m\u001b[0;34m.\u001b[0m\u001b[0mD\u001b[0m\u001b[0;34m==\u001b[0m\u001b[0mD\u001b[0m\u001b[0;34m\u001b[0m\u001b[0;34m\u001b[0m\u001b[0m\n",
      "\u001b[0;31mNameError\u001b[0m: name 'df' is not defined"
     ]
    }
   ],
   "source": []
  },
  {
   "cell_type": "code",
   "execution_count": null,
   "metadata": {},
   "outputs": [],
   "source": []
  }
 ],
 "metadata": {
  "kernelspec": {
   "display_name": "Python 3",
   "language": "python",
   "name": "python3"
  },
  "language_info": {
   "codemirror_mode": {
    "name": "ipython",
    "version": 3
   },
   "file_extension": ".py",
   "mimetype": "text/x-python",
   "name": "python",
   "nbconvert_exporter": "python",
   "pygments_lexer": "ipython3",
   "version": "3.7.3"
  },
  "toc": {
   "base_numbering": 1,
   "nav_menu": {},
   "number_sections": true,
   "sideBar": true,
   "skip_h1_title": false,
   "title_cell": "Table of Contents",
   "title_sidebar": "Contents",
   "toc_cell": false,
   "toc_position": {},
   "toc_section_display": true,
   "toc_window_display": false
  },
  "varInspector": {
   "cols": {
    "lenName": 16,
    "lenType": 16,
    "lenVar": 40
   },
   "kernels_config": {
    "python": {
     "delete_cmd_postfix": "",
     "delete_cmd_prefix": "del ",
     "library": "var_list.py",
     "varRefreshCmd": "print(var_dic_list())"
    },
    "r": {
     "delete_cmd_postfix": ") ",
     "delete_cmd_prefix": "rm(",
     "library": "var_list.r",
     "varRefreshCmd": "cat(var_dic_list()) "
    }
   },
   "types_to_exclude": [
    "module",
    "function",
    "builtin_function_or_method",
    "instance",
    "_Feature"
   ],
   "window_display": false
  }
 },
 "nbformat": 4,
 "nbformat_minor": 4
}
