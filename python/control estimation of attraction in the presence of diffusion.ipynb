{
 "cells": [
  {
   "cell_type": "markdown",
   "id": "cf6163a7",
   "metadata": {},
   "source": [
    "# control estimation of attraction in the presence of diffusion\n",
    "Tim Tyree<br>\n",
    "11.2.2021"
   ]
  },
  {
   "cell_type": "code",
   "execution_count": 2,
   "id": "a581f115",
   "metadata": {
    "ExecuteTime": {
     "end_time": "2021-11-04T15:28:47.928144Z",
     "start_time": "2021-11-04T15:28:45.885278Z"
    }
   },
   "outputs": [],
   "source": [
    "import cupy as cp, numpy as np\n",
    "import time\n",
    "import matplotlib.pyplot as plt\n",
    "from lib import *\n",
    "from scipy.signal import savgol_filter\n",
    "import dask.bag as db"
   ]
  },
  {
   "cell_type": "code",
   "execution_count": 3,
   "id": "6a6a6904",
   "metadata": {
    "ExecuteTime": {
     "end_time": "2021-11-04T15:28:47.959416Z",
     "start_time": "2021-11-04T15:28:47.956171Z"
    }
   },
   "outputs": [],
   "source": [
    "darkmode=False\n",
    "if darkmode:\n",
    "    # For darkmode plots\n",
    "    from jupyterthemes import jtplot\n",
    "    jtplot.style(theme='monokai', context='notebook', ticks=True, grid=False)"
   ]
  },
  {
   "cell_type": "code",
   "execution_count": 4,
   "id": "1de9784b",
   "metadata": {
    "ExecuteTime": {
     "end_time": "2021-11-04T15:28:48.189254Z",
     "start_time": "2021-11-04T15:28:47.985079Z"
    }
   },
   "outputs": [],
   "source": [
    "seed=42\n",
    "# #random number stream A\n",
    "# rs = RandomState(MT19937(SeedSequence(seed)))\n",
    "# #random number stream B\n",
    "# # rs = RandomState(MT19937(SeedSequence(987654321)))\n",
    "np.random.seed(seed)\n",
    "cp.random.seed(seed)"
   ]
  },
  {
   "cell_type": "markdown",
   "id": "19a9d100",
   "metadata": {},
   "source": [
    "# define module"
   ]
  },
  {
   "cell_type": "code",
   "execution_count": 5,
   "id": "c1d96a92",
   "metadata": {
    "ExecuteTime": {
     "end_time": "2021-11-04T15:28:48.207799Z",
     "start_time": "2021-11-04T15:28:48.205554Z"
    }
   },
   "outputs": [],
   "source": [
    "num_pairs=1500 #number of independent pairs of particles\n",
    "a=5 #cm^2/s known attraction coefficient \n",
    "D=1 #cm^2/s known diffusion coefficient\n",
    "Dt=1e-5\n",
    "print_every=100000\n",
    "rend=0.1#0.0001 #cm\n",
    "# printing=False#,**kwargs\n",
    "printing=True\n"
   ]
  },
  {
   "cell_type": "code",
   "execution_count": 97,
   "id": "078795bd",
   "metadata": {
    "ExecuteTime": {
     "end_time": "2021-11-04T16:15:23.810862Z",
     "start_time": "2021-11-04T16:15:23.794756Z"
    }
   },
   "outputs": [],
   "source": [
    "def gener_positions_control(\n",
    "    num_pairs=1500, #number of independent pairs of particles\n",
    "    a=5, #cm^2/s known attraction coefficient \n",
    "    D=1, #cm^2/s known diffusion coefficient\n",
    "    Dt=1e-5,\n",
    "    print_every=100000,\n",
    "    rend=0.1, #cm\n",
    "    printing=False,**kwargs\n",
    "):\n",
    "    '''\n",
    "    Example Usage:\n",
    "    positions_out,mean_array,std_array=gener_positions_control(a=a,D=D,printing=True)\n",
    "    '''\n",
    "    #initialize particles locations as being at the same locations\n",
    "    t=0\n",
    "    x1=0\n",
    "    x2=0.5\n",
    "    y1=0\n",
    "    y2=0.5\n",
    "    zero_values=np.zeros(num_pairs)\n",
    "\n",
    "    x1_values=zero_values.copy()+x1\n",
    "    x2_values=zero_values.copy()+x2\n",
    "    y1_values=zero_values.copy()+y1\n",
    "    y2_values=zero_values.copy()+y2\n",
    "\n",
    "    stepscale = np.sqrt(2 * D * Dt)\n",
    "    impulse_prefactor = a * Dt\n",
    "\n",
    "    tmax=10#0.1#1 #seconds\n",
    "    num_steps=np.int64(np.around(tmax/Dt))\n",
    "\n",
    "    position_array=np.zeros(shape=(num_steps,4,num_pairs))+np.nan\n",
    "    mean_array=np.zeros(shape=(num_steps,3))\n",
    "    std_array=np.zeros(shape=(num_steps,3))\n",
    "\n",
    "    #GOAL: add support for still_running\n",
    "\n",
    "    boo_still_running=zero_values==zero_values\n",
    "    #TODO: initiallize still_running to True\n",
    "    #TODO: compute boo where particles become smaller than R_\n",
    "\n",
    "    #compute the distance between each pair of particles\n",
    "    dx_values=(x2_values-x1_values)\n",
    "    dy_values=(y2_values-y1_values)\n",
    "    Rsq_values=dx_values*dx_values+dy_values*dy_values\n",
    "\n",
    "    if printing:\n",
    "        print(f\"running simulation for {num_steps} steps...\")\n",
    "    start=time.time()\n",
    "    for step_num in range(num_steps):\n",
    "        #compute the attractive step between all pairs\n",
    "        f_values=impulse_prefactor/Rsq_values\n",
    "        F1x=f_values*dx_values\n",
    "        F1y=f_values*dy_values\n",
    "\n",
    "        #compute the diffusive step between all pairs\n",
    "        dxW1_values=stepscale*np.random.normal(size=num_pairs)\n",
    "        dxW2_values=stepscale*np.random.normal(size=num_pairs)\n",
    "        dyW1_values=stepscale*np.random.normal(size=num_pairs)\n",
    "        dyW2_values=stepscale*np.random.normal(size=num_pairs)\n",
    "\n",
    "        #the mean distance between all pairs of particles\n",
    "        R_values=np.sqrt(Rsq_values)\n",
    "        mean_R=np.mean(R_values)\n",
    "        std_R=np.mean(R_values)\n",
    "\n",
    "        #the mean magnitude of the diffusive step\n",
    "        diffusive_step_values=0.5*np.sqrt(dxW1_values**2+dyW1_values**2)+0.5*np.sqrt(dxW2_values**2+dyW2_values**2)\n",
    "        mean_diffusive_step=np.mean(diffusive_step_values)\n",
    "        std_diffusive_step=np.std(diffusive_step_values)\n",
    "\n",
    "        #the mean magnitude of the attractive step\n",
    "        attractive_step_values=np.sqrt(F1x**2+F1y**2)\n",
    "        mean_attractive_step=np.mean(attractive_step_values)\n",
    "        std_attractive_step=np.std(attractive_step_values)\n",
    "        if printing:\n",
    "            if (step_num+1) % print_every == 0:\n",
    "                relative_percent=100*mean_diffusive_step/mean_attractive_step\n",
    "                print(f\"simulation {100*(step_num+1)/num_steps:.0f}% completed: R={mean_R:.4f}+/-{1.96*std_R:.4f}, diffusion/attraction is {relative_percent:.2f}%\")\n",
    "                # print(f\"the mean range is {mean_R:.4f} cm\")\n",
    "                # print(f\"the mean diffusive step was {100*mean_diffusive_step/mean_attractive_step:.2f}% larger than the mean attractive step\")\n",
    "\n",
    "        #compute the net change in position \n",
    "        x1step_values=F1x+dxW1_values\n",
    "        y1step_values=F1y+dyW1_values\n",
    "        x2step_values=-F1x+dxW2_values\n",
    "        y2step_values=-F1y+dyW2_values\n",
    "\n",
    "        #identify any particles that didn't get within the threshold distance\n",
    "        #compute the distance between each pair of particles\n",
    "        dx_values=(x2_values-x1_values)\n",
    "        dy_values=(y2_values-y1_values)\n",
    "        Rsq_values=dx_values*dx_values+dy_values*dy_values\n",
    "\n",
    "        #update particle locations if they are still running\n",
    "        x1_values[boo_still_running]=x1_values[boo_still_running]+x1step_values[boo_still_running]\n",
    "        y1_values[boo_still_running]=y1_values[boo_still_running]+y1step_values[boo_still_running]\n",
    "        x2_values[boo_still_running]=x2_values[boo_still_running]+x2step_values[boo_still_running]\n",
    "        y2_values[boo_still_running]=y2_values[boo_still_running]+y2step_values[boo_still_running]\n",
    "        #DONE: verified the mean distance between particles got smaller    \n",
    "        # if (step_count+1) % save_every == 0:\n",
    "        #save particle locations to a numpy array with the correct number of positions\n",
    "        # x1,y1,x2,y2\n",
    "        position_array[step_num,0,boo_still_running]=x1_values[boo_still_running]\n",
    "        position_array[step_num,1,boo_still_running]=y1_values[boo_still_running]\n",
    "        position_array[step_num,2,boo_still_running]=x2_values[boo_still_running]\n",
    "        position_array[step_num,3,boo_still_running]=y2_values[boo_still_running]\n",
    "        mean_array[step_num,0]=mean_R\n",
    "        mean_array[step_num,1]=mean_diffusive_step\n",
    "        mean_array[step_num,2]=mean_attractive_step\n",
    "        #save results for quick plotting\n",
    "        std_array[step_num,0]=std_R\n",
    "        std_array[step_num,1]=std_diffusive_step\n",
    "        std_array[step_num,2]=std_attractive_step\n",
    "\n",
    "    #         #identify any particles that didn't get within the threshold distance\n",
    "    #         #compute the distance between each pair of particles\n",
    "    #         dx_values=(x2_values-x1_values)\n",
    "    #         dy_values=(y2_values-y1_values)\n",
    "    #         Rsq_values=dx_values*dx_values+dy_values*dy_values\n",
    "        R_values=np.sqrt(Rsq_values)\n",
    "        boo_still_running=boo_still_running&(R_values>rend)\n",
    "\n",
    "    if printing:\n",
    "        print(f\"simulation complete!\\nTotal run time: {time.time()-start:.4f} seconds\")\n",
    "        print(f\"the number of particles that didn't finished is {sum(boo_still_running)} out of {boo_still_running.shape[0]}.\")\n",
    "\n",
    "    #DONE: compute the apparent attraction coefficient without smoothing\n",
    "    # np.argwhere(np.isnan(position_array[:,0,i])).flatten()\n",
    "    #identify any pairs that didn't end up closer than rend\n",
    "    boo_didnt_finish=~np.isnan(position_array[-1,0,:])\n",
    "    pairs_didnt_finish=np.argwhere(boo_didnt_finish).flatten()\n",
    "    #     if printing:\n",
    "    #         print((boo_didnt_finish.shape,pairs_didnt_finish))\n",
    "    set_pairs_ignore=set(pairs_didnt_finish)\n",
    "\n",
    "    tmax_recall=0.055 #max time to recall before the value is not nan\n",
    "    num_rows_recall=np.int64(np.around(tmax_recall/Dt))\n",
    "    if printing:\n",
    "        print(num_rows_recall)\n",
    "\n",
    "    #for each pair, identify the last row where the value is not nan\n",
    "    row_end_values=zero_values.copy()+np.nan\n",
    "    for i in range(num_pairs):\n",
    "        if not set_pairs_ignore.issuperset({i}):\n",
    "            row_end=np.int64(np.argwhere(np.isnan(position_array[:,0,i]))[0,0])-1\n",
    "            row_end_values[i]=row_end\n",
    "    #         #this step can introduce some error\n",
    "    #         if row_end<num_rows_recall:\n",
    "    #             #add this i to the ignore list\n",
    "    #             set_pairs_ignore.add(i)\n",
    "\n",
    "    #DONE: add pair to set_pairs_ignore if it ends sooner than num_rows_recall\n",
    "\n",
    "    #for each pair not to be ignored, put the last num_rows_recall before row_end_values into an array\n",
    "    positions_lst=[]\n",
    "    for i in range(num_pairs):\n",
    "        if not set_pairs_ignore.issuperset({i}):\n",
    "            row_end=np.int(row_end_values[i])\n",
    "            if row_end>=num_rows_recall:\n",
    "                positions=position_array[row_end-num_rows_recall:row_end,:,i]\n",
    "            else:\n",
    "                num_rows_rec=row_end\n",
    "                num_rows_pad=num_rows_recall-row_end\n",
    "                #pad the start with nans\n",
    "                nan_pad=np.full([num_rows_pad,4], np.nan)\n",
    "                positions=position_array[row_end-num_rows_rec:row_end,:,i]\n",
    "                #pad positions at its front\n",
    "                positions=np.concatenate((nan_pad,positions))\n",
    "\n",
    "            positions_lst.append(positions)\n",
    "    positions_out=np.stack(positions_lst,axis=-1)\n",
    "    del position_array\n",
    "    del positions_lst\n",
    "    return positions_out,mean_array,std_array"
   ]
  },
  {
   "cell_type": "markdown",
   "id": "222efd59",
   "metadata": {},
   "source": [
    "Recall that it can be shown that\n",
    "    $$\n",
    "    dW(s')dW(s)=s\\delta_{ss'};\\; \\int_0^tWdW(s)=\\frac{1}{2}W(t)^2-\\frac{1}{2}t^2\n",
    "    $$"
   ]
  },
  {
   "cell_type": "markdown",
   "id": "6784e9b9",
   "metadata": {},
   "source": [
    "Let \n",
    "$$\n",
    "dR=-\\frac{2a}{R}dt + CdW.\n",
    "$$\n",
    "Then, \n",
    "\n",
    "$$\\begin{eqnarray}\n",
    "\\mathbb{E}[R^2(t)] &=& \\mathbb{E}[\\int_0^tdR^2(s)] \\\\\n",
    "&=& \\int_0^t\\mathbb{E}[2RdR(s)] \\qquad \\text{product rule}\\\\\n",
    "&=& \\int_0^t\\mathbb{E}[2R(-\\frac{2a}{R}dt + CdW(s))] + R_0^2 \\qquad \\text{substitution} \\\\\n",
    "&=& 2\\int_0^t(-2adt)+2C\\int_0^t \\mathbb{E}[RdW(s)] + R_0^2 \\qquad \\text{linearity} \\\\\n",
    "&=& -4at+2C\\int_0^t\\mathbb{E}\\big[\\big(R_0+\\int_0^s-\\frac{2a}{R}ds' + \\int_0^sCdW(s')\\big)dW(s)\\big] + R_0^2 \\qquad \\text{substitution} \\\\\n",
    "&=& -4at+2C^2\\int_0^t \\int_0^s\\mathbb{E}[dW(s')dW(s)] + R_0^2 \\\\\n",
    "&=& -4at+2C^2\\int_0^t \\int_0^sds' + R_0^2 \\\\\n",
    "&=& -4at+2C^2\\int_0^t ds + R_0^2 \\\\\n",
    "&=& -4at+2C^2t + R_0^2 \\\\\n",
    "\\end{eqnarray}$$\n"
   ]
  },
  {
   "cell_type": "code",
   "execution_count": null,
   "id": "1105f72d",
   "metadata": {},
   "outputs": [],
   "source": []
  },
  {
   "cell_type": "code",
   "execution_count": 7,
   "id": "05cf5818",
   "metadata": {
    "ExecuteTime": {
     "end_time": "2021-11-04T15:28:50.176526Z",
     "start_time": "2021-11-04T15:28:50.170639Z"
    }
   },
   "outputs": [
    {
     "data": {
      "text/plain": [
       "4.0"
      ]
     },
     "execution_count": 7,
     "metadata": {},
     "output_type": "execute_result"
    }
   ],
   "source": [
    "22000/5500"
   ]
  },
  {
   "cell_type": "code",
   "execution_count": 8,
   "id": "b9aac096",
   "metadata": {
    "ExecuteTime": {
     "end_time": "2021-11-04T15:28:50.686575Z",
     "start_time": "2021-11-04T15:28:50.684574Z"
    }
   },
   "outputs": [],
   "source": [
    "# for p in positions_lst:\n",
    "#     print(len(p))"
   ]
  },
  {
   "cell_type": "code",
   "execution_count": 9,
   "id": "f153621a",
   "metadata": {
    "ExecuteTime": {
     "end_time": "2021-11-04T15:28:51.232939Z",
     "start_time": "2021-11-04T15:28:51.230593Z"
    }
   },
   "outputs": [],
   "source": [
    "# #TODO: solve the array length disagreement in positions_lst\n",
    "# D"
   ]
  },
  {
   "cell_type": "code",
   "execution_count": null,
   "id": "c6824fac",
   "metadata": {},
   "outputs": [],
   "source": []
  },
  {
   "cell_type": "code",
   "execution_count": 10,
   "id": "d9f77fe9",
   "metadata": {
    "ExecuteTime": {
     "end_time": "2021-11-04T15:28:52.054513Z",
     "start_time": "2021-11-04T15:28:52.051521Z"
    }
   },
   "outputs": [],
   "source": [
    "def moving_average(a, n=3):\n",
    "    ret = np.cumsum(a, dtype=float,axis=0)\n",
    "    ret[n:] = ret[n:] - ret[:-n]\n",
    "    return ret[n - 1:] / n"
   ]
  },
  {
   "cell_type": "code",
   "execution_count": null,
   "id": "7741bcde",
   "metadata": {
    "ExecuteTime": {
     "end_time": "2021-11-04T15:59:39.955298Z",
     "start_time": "2021-11-04T15:59:39.820130Z"
    }
   },
   "outputs": [],
   "source": []
  },
  {
   "cell_type": "code",
   "execution_count": 91,
   "id": "e01e59ea",
   "metadata": {
    "ExecuteTime": {
     "end_time": "2021-11-04T16:06:47.132663Z",
     "start_time": "2021-11-04T16:06:47.124542Z"
    }
   },
   "outputs": [],
   "source": [
    "def compute_attraction_coefficient_results(positions_out,tavg1,tavg2,Dt,printing=False,**kwargs):\n",
    "    '''\n",
    "    Example Usage:\n",
    "    df=compute_attraction_coefficient_results(positions_out,tavg1,tavg2,Dt)\n",
    "    '''\n",
    "    navg1=np.int(np.around(tavg1/(Dt*10**3)))\n",
    "    navg2=np.int(np.around(tavg2/(Dt*10**3)))\n",
    "\n",
    "    #define time points\n",
    "    #i=0\n",
    "    num_timepoints=positions_out.shape[0]\n",
    "    t_values=np.arange(0,Dt*num_timepoints,Dt)\n",
    "    #assert t_values.shape==range_values[:,i].shape\n",
    "    \n",
    "    #moving avg\n",
    "    if tavg1>0:\n",
    "        #compute the moving average of the positional trajectories\n",
    "        tavg_values=moving_average(t_values,n=navg1)\n",
    "        positions_out_ma=moving_average(positions_out, n=navg1)\n",
    "    else:\n",
    "        tavg_values=t_values\n",
    "        positions_out_ma=positions_out\n",
    "\n",
    "    #compute range # x1,y1,x2,y2\n",
    "    range_values= np.sqrt((positions_out_ma[:,0,:]-positions_out_ma[:,2,:])**2 + (positions_out_ma[:,1,:]-positions_out_ma[:,3,:])**2)\n",
    "\n",
    "\n",
    "\n",
    "    #compute savgol filter\n",
    "    if navg2>0:\n",
    "        if navg2<30: navg2=30\n",
    "        if navg2%2==0:navg2+=1\n",
    "        #DONE: test whether there is a significant difference between the savgol derivative and the finite difference derivative of the savgol filter\n",
    "        savgol_kwargs = dict(window_length=navg2,polyorder=3,deriv=0,delta=1.0,axis=-1,mode='interp')\n",
    "        #compute the savgol_filtered values for R\n",
    "        R_savgol_values=savgol_filter(range_values,**savgol_kwargs)\n",
    "        SR_values=R_savgol_values**2\n",
    "    else:\n",
    "        SR_values=range_values**2\n",
    "\n",
    "    #DONE: sompute MSR_values from SR_values\n",
    "    # SR_values\n",
    "\n",
    "#     if printing:\n",
    "#         print('nota bene: nan values are being kept in positions_out, so care needs to be taken to compute the particle averaged SR for every time')\n",
    "#         print(f\"HINT: I need to compute the nonnan boolean index for each time slice\")\n",
    "    np.isnan(SR_values).any(),SR_values.shape\n",
    "    # assert not np.isnan(positions_out).any()\n",
    "\n",
    "    # the nonnan boolean index for each time slice\n",
    "    MSR_values=np.zeros_like(SR_values[:,0])\n",
    "    num_tbin,num_trials=SR_values.shape\n",
    "    for j in range (num_tbin):\n",
    "        boo=~np.isnan(SR_values[j,:])\n",
    "        MSR_values[j]=np.mean(SR_values[j,boo])\n",
    "\n",
    "    t_thresh_values=np.arange(0.005,0.04,0.005)\n",
    "\n",
    "#     start=time.time()\n",
    "    #generate apparent attraction coefficient data\n",
    "    a_sr_lst=[]\n",
    "    Delta_a_sr_lst=[]\n",
    "    Rsq_sr_lst=[]\n",
    "    # a_one_over_R_lst=[]\n",
    "    # Delta_a_one_over_R_lst=[]\n",
    "    # Rsq_one_over_R_lst=[]\n",
    "    tdeath_values=np.max(tavg_values)-tavg_values\n",
    "    for t_thresh in t_thresh_values:\n",
    "        #squared range method\n",
    "        boo=tdeath_values<=t_thresh\n",
    "        boo&=~np.isnan(MSR_values)\n",
    "        if sum(boo)>2:\n",
    "            dict_sr=compute_slope.compute_95CI_ols(tdeath_values[boo], MSR_values[boo])\n",
    "            a_sr=dict_sr['m']/4\n",
    "            Delta_a_sr=dict_sr['Delta_m']/4\n",
    "            Rsquared=dict_sr['Rsquared']\n",
    "        else:\n",
    "            a_sr=np.nan\n",
    "            Delta_a_sr=np.nan\n",
    "            Rsquared=np.nan\n",
    "            \n",
    "    #     #inverse range method\n",
    "    #     boo=one_over_R_values<1/R_thresh\n",
    "    #     dict_one_over_R=compute_slope.compute_95CI_ols(one_over_R_values[boo], dRdt_values[boo])\n",
    "    #     a_one_over_R=-1*dict_one_over_R['m']/2\n",
    "    #     Delta_a_one_over_R=dict_one_over_R['Delta_m']/2\n",
    "\n",
    "        #record results\n",
    "        a_sr_lst.append(a_sr)\n",
    "        Delta_a_sr_lst.append(Delta_a_sr)\n",
    "        Rsq_sr_lst.append(Rsquared)\n",
    "    #     a_one_over_R_lst.append(a_one_over_R)\n",
    "    #     Delta_a_one_over_R_lst.append(Delta_a_one_over_R)\n",
    "    #     Rsq_one_over_R_lst.append(dict_one_over_R['Rsquared'])\n",
    "#     if printing:\n",
    "#         print(f\"runtime computing attraction coefficients: {time.time()-start:.4f}\")\n",
    "\n",
    "    df=pd.DataFrame({\n",
    "        'tavg1':tavg1,\n",
    "        'tavg2':tavg2,\n",
    "        'tmax':t_thresh_values,\n",
    "        'a':a_sr_lst,\n",
    "        'Delta_a':Delta_a_sr_lst,\n",
    "        'Rsq_a':Rsq_sr_lst\n",
    "    })\n",
    "    return df"
   ]
  },
  {
   "cell_type": "code",
   "execution_count": 66,
   "id": "ccea6197",
   "metadata": {
    "ExecuteTime": {
     "end_time": "2021-11-04T15:51:01.565899Z",
     "start_time": "2021-11-04T15:51:01.562648Z"
    }
   },
   "outputs": [
    {
     "data": {
      "text/plain": [
       "2"
      ]
     },
     "execution_count": 66,
     "metadata": {},
     "output_type": "execute_result"
    }
   ],
   "source": [
    "1+1"
   ]
  },
  {
   "cell_type": "code",
   "execution_count": 92,
   "id": "2986ffa8",
   "metadata": {
    "ExecuteTime": {
     "end_time": "2021-11-04T16:06:47.202788Z",
     "start_time": "2021-11-04T16:06:47.197008Z"
    },
    "run_control": {
     "marked": true
    }
   },
   "outputs": [],
   "source": [
    "def save_control_results_for_setting(a,\n",
    "                                     D,\n",
    "                                     tavg_step=0.1,\n",
    "                                     tavg1_max=20,\n",
    "                                     tavg2_max=20,\n",
    "                                     printing=False,\n",
    "                                    save_folder=None,**kwargs):\n",
    "    if save_folder==None:\n",
    "        nb_dir=os.getcwd()\n",
    "        save_folder = f\"{nb_dir}/data/control_data/arrays\"\n",
    "    if not os.path.exists(save_folder):\n",
    "        os.mkdir(save_folder)\n",
    "    save_dir = os.path.join(save_folder, f\"control_a_{a}_D_{D}.npz\")\n",
    "\n",
    "    use_cache = False\n",
    "    caching = False\n",
    "\n",
    "    if use_cache:\n",
    "        arr = np.load(save_dir)\n",
    "        positions_out = arr['arr_0']\n",
    "    else:\n",
    "        positions_out, mean_array, std_array = gener_positions_control(\n",
    "            a=a, D=D, printing=printing,**kwargs)\n",
    "\n",
    "    if caching:\n",
    "        #save array of positions to .npz\n",
    "        np.savez_compressed(save_dir, positions_out)\n",
    "        assert (os.path.exists(save_dir))\n",
    "\n",
    "        if printing:\n",
    "            print('saving array in:')\n",
    "            print(save_dir)\n",
    "\n",
    "    start=time.time()\n",
    "    df_lst = []\n",
    "    for tavg1 in np.arange(0, tavg1_max, tavg_step):\n",
    "        for tavg2 in np.arange(0, tavg2_max, tavg_step):\n",
    "            df = compute_attraction_coefficient_results(\n",
    "                positions_out=positions_out, tavg1=tavg1, tavg2=tavg2, Dt=Dt,printing=printing)\n",
    "            df_lst.append(df)\n",
    "    df_out = pd.concat(df_lst)\n",
    "    del df_lst\n",
    "    if printing:\n",
    "        print(f\"runtime computing attraction coefficients: {time.time()-start:.4f}\")\n",
    "\n",
    "    csv_dir = os.path.join(save_folder, f\"control_a_{a}_D_{D}.csv\")\n",
    "    df_out.to_csv(csv_dir, index=False)\n",
    "    return csv_dir"
   ]
  },
  {
   "cell_type": "markdown",
   "id": "ba0ce45e",
   "metadata": {},
   "source": [
    "# single simulation of diffusion in an unbounded domain\n",
    "- TODO: grid search over D from 0.1 to 2 in steps of 0.1\n",
    "- (GPU accelerate in cupy)\n",
    "- TODO: rewrite it from scratch, developing in vectorized pairs of particles\n",
    "- start 2 particles 1/np.sqrt(2) away from one another\n",
    "\n",
    "__Schema__\n",
    "1. t,x1,x2,y1,y2,pair_num"
   ]
  },
  {
   "cell_type": "code",
   "execution_count": 101,
   "id": "e33a30c4",
   "metadata": {
    "ExecuteTime": {
     "end_time": "2021-11-04T16:23:56.635339Z",
     "start_time": "2021-11-04T16:23:56.632971Z"
    }
   },
   "outputs": [],
   "source": [
    "num_pairs=3000 #number of independent pairs of particles\n",
    "a=5 #cm^2/s known attraction coefficient \n",
    "D=1 #cm^2/s known diffusion coefficient\n",
    "Dt=1e-5\n",
    "print_every=100000"
   ]
  },
  {
   "cell_type": "code",
   "execution_count": null,
   "id": "d4fddd5a",
   "metadata": {
    "ExecuteTime": {
     "start_time": "2021-11-04T16:23:57.337Z"
    }
   },
   "outputs": [
    {
     "name": "stdout",
     "output_type": "stream",
     "text": [
      "running simulation for 1000000 steps...\n"
     ]
    }
   ],
   "source": [
    "save_folder=None#'/home/AD/tttyree/bgmc_data'\n",
    "testing=True\n",
    "if testing:\n",
    "    fn_out=save_control_results_for_setting(a,D,\n",
    "                                    tavg_step=0.1,\n",
    "                                    tavg1_max=1,\n",
    "                                    tavg2_max=1,printing=True,save_folder=save_folder)\n",
    "    df=pd.read_csv(fn_out)\n",
    "    print(df.head(10))"
   ]
  },
  {
   "cell_type": "code",
   "execution_count": null,
   "id": "93ba75de",
   "metadata": {
    "ExecuteTime": {
     "start_time": "2021-11-04T16:23:58.955Z"
    }
   },
   "outputs": [],
   "source": [
    "print(fn_out)\n",
    "print((a,D))\n",
    "print(df.head(10))"
   ]
  },
  {
   "cell_type": "code",
   "execution_count": 98,
   "id": "41e2d0a4",
   "metadata": {
    "ExecuteTime": {
     "end_time": "2021-11-04T16:16:54.285936Z",
     "start_time": "2021-11-04T16:16:54.280443Z"
    }
   },
   "outputs": [],
   "source": [
    "num_pairs=1500 #number of independent pairs of particles\n",
    "a=5 #cm^2/s known attraction coefficient \n",
    "D=0. #cm^2/s known diffusion coefficient\n",
    "Dt=1e-5\n",
    "print_every=100000"
   ]
  },
  {
   "cell_type": "code",
   "execution_count": 99,
   "id": "9c0a9813",
   "metadata": {
    "ExecuteTime": {
     "end_time": "2021-11-04T16:22:59.135510Z",
     "start_time": "2021-11-04T16:16:55.805523Z"
    }
   },
   "outputs": [
    {
     "name": "stdout",
     "output_type": "stream",
     "text": [
      "running simulation for 1000000 steps...\n",
      "simulation 10% completed: R=0.0989+/-0.1939, diffusion/attraction is 0.00%\n",
      "simulation 20% completed: R=0.0989+/-0.1939, diffusion/attraction is 0.00%\n",
      "simulation 30% completed: R=0.0989+/-0.1939, diffusion/attraction is 0.00%\n",
      "simulation 40% completed: R=0.0989+/-0.1939, diffusion/attraction is 0.00%\n",
      "simulation 50% completed: R=0.0989+/-0.1939, diffusion/attraction is 0.00%\n",
      "simulation 60% completed: R=0.0989+/-0.1939, diffusion/attraction is 0.00%\n",
      "simulation 70% completed: R=0.0989+/-0.1939, diffusion/attraction is 0.00%\n",
      "simulation 80% completed: R=0.0989+/-0.1939, diffusion/attraction is 0.00%\n",
      "simulation 90% completed: R=0.0989+/-0.1939, diffusion/attraction is 0.00%\n",
      "simulation 100% completed: R=0.0989+/-0.1939, diffusion/attraction is 0.00%\n",
      "simulation complete!\n",
      "Total run time: 248.1766 seconds\n",
      "the number of particles that didn't finished is 0 out of 1500.\n",
      "5500\n"
     ]
    },
    {
     "name": "stderr",
     "output_type": "stream",
     "text": [
      "/home/timothytyree/anaconda3/envs/pyenv_ub/lib/python3.7/site-packages/numpy/core/fromnumeric.py:3373: RuntimeWarning: Mean of empty slice.\n",
      "  out=out, **kwargs)\n",
      "/home/timothytyree/anaconda3/envs/pyenv_ub/lib/python3.7/site-packages/numpy/core/_methods.py:170: RuntimeWarning: invalid value encountered in double_scalars\n",
      "  ret = ret.dtype.type(ret / rcount)\n"
     ]
    },
    {
     "name": "stdout",
     "output_type": "stream",
     "text": [
      "runtime computing attraction coefficients: 68.7202\n",
      "   tavg1  tavg2   tmax         a   Delta_a     Rsq_a\n",
      "0    0.0    0.0  0.005  4.984920  0.000380  0.999999\n",
      "1    0.0    0.0  0.010  4.991225  0.000191  1.000000\n",
      "2    0.0    0.0  0.015  4.993777  0.000121  1.000000\n",
      "3    0.0    0.0  0.020  4.995163  0.000086  1.000000\n",
      "4    0.0    0.0  0.025  4.995972  0.000067  1.000000\n"
     ]
    }
   ],
   "source": [
    "save_folder=None#'/home/AD/tttyree/bgmc_data'\n",
    "testing=True\n",
    "if testing:\n",
    "    fn_out=save_control_results_for_setting(a,D,\n",
    "                                    tavg_step=0.1,\n",
    "                                    tavg1_max=1,\n",
    "                                    tavg2_max=1,printing=True,save_folder=save_folder)\n",
    "    df=pd.read_csv(fn_out)\n",
    "    print(df.head())"
   ]
  },
  {
   "cell_type": "code",
   "execution_count": 100,
   "id": "98a8f51c",
   "metadata": {
    "ExecuteTime": {
     "end_time": "2021-11-04T16:22:59.209325Z",
     "start_time": "2021-11-04T16:22:59.202460Z"
    }
   },
   "outputs": [
    {
     "name": "stdout",
     "output_type": "stream",
     "text": [
      "/home/timothytyree/Documents/GitHub/bgmc/python/data/control_data/arrays/control_a_5_D_0.0.csv\n",
      "(5, 0.0)\n",
      "    tavg1  tavg2   tmax         a   Delta_a     Rsq_a\n",
      "0     0.0    0.0  0.005  4.984920  0.000380  0.999999\n",
      "1     0.0    0.0  0.010  4.991225  0.000191  1.000000\n",
      "2     0.0    0.0  0.015  4.993777  0.000121  1.000000\n",
      "3     0.0    0.0  0.020  4.995163  0.000086  1.000000\n",
      "4     0.0    0.0  0.025  4.995972  0.000067  1.000000\n",
      "5     0.0    0.0  0.030  4.995972  0.000067  1.000000\n",
      "6     0.0    0.0  0.035  4.995972  0.000067  1.000000\n",
      "7     0.0    0.0  0.040  4.995972  0.000067  1.000000\n",
      "8     0.0    0.1  0.005  4.984920  0.000380  0.999999\n",
      "9     0.0    0.1  0.010  4.991225  0.000191  1.000000\n",
      "10    0.0    0.1  0.015  4.993777  0.000121  1.000000\n",
      "11    0.0    0.1  0.020  4.995163  0.000086  1.000000\n",
      "12    0.0    0.1  0.025  4.995972  0.000067  1.000000\n",
      "13    0.0    0.1  0.030  4.995972  0.000067  1.000000\n",
      "14    0.0    0.1  0.035  4.995972  0.000067  1.000000\n",
      "15    0.0    0.1  0.040  4.995972  0.000067  1.000000\n",
      "16    0.0    0.2  0.005  4.984920  0.000380  0.999999\n",
      "17    0.0    0.2  0.010  4.991225  0.000191  1.000000\n",
      "18    0.0    0.2  0.015  4.993777  0.000121  1.000000\n",
      "19    0.0    0.2  0.020  4.995163  0.000086  1.000000\n"
     ]
    }
   ],
   "source": [
    "print(fn_out)\n",
    "print((a,D))\n",
    "print(df.head(20))"
   ]
  },
  {
   "cell_type": "code",
   "execution_count": null,
   "id": "7bb507ad",
   "metadata": {},
   "outputs": [],
   "source": []
  },
  {
   "cell_type": "code",
   "execution_count": null,
   "id": "53bb564d",
   "metadata": {},
   "outputs": [],
   "source": []
  },
  {
   "cell_type": "code",
   "execution_count": 16,
   "id": "35429ca3",
   "metadata": {
    "ExecuteTime": {
     "end_time": "2021-11-04T15:22:48.916994Z",
     "start_time": "2021-11-04T15:22:48.913776Z"
    }
   },
   "outputs": [],
   "source": [
    "task_lst=[]\n",
    "for a in [5,2]:\n",
    "    for D in np.arange(0,1.1,0.1):#[4:]:\n",
    "        task_lst.append((a,D))\n",
    "        \n",
    "def routine(data):\n",
    "    a,D=data\n",
    "    return save_control_results_for_setting(a,D,\n",
    "                                    tavg_step=2.,\n",
    "                                    tavg1_max=20,\n",
    "                                    tavg2_max=0,printing=False,save_folder=save_folder)"
   ]
  },
  {
   "cell_type": "code",
   "execution_count": null,
   "id": "678f218b",
   "metadata": {
    "ExecuteTime": {
     "end_time": "2021-11-03T20:10:32.758177Z",
     "start_time": "2021-11-03T20:10:32.748337Z"
    }
   },
   "outputs": [],
   "source": []
  },
  {
   "cell_type": "code",
   "execution_count": 17,
   "id": "c13257d6",
   "metadata": {
    "ExecuteTime": {
     "end_time": "2021-11-04T15:23:58.425412Z",
     "start_time": "2021-11-04T15:22:48.946512Z"
    }
   },
   "outputs": [
    {
     "ename": "KeyboardInterrupt",
     "evalue": "",
     "output_type": "error",
     "traceback": [
      "\u001b[0;31m---------------------------------------------------------------------------\u001b[0m",
      "\u001b[0;31mKeyboardInterrupt\u001b[0m                         Traceback (most recent call last)",
      "\u001b[0;32m/tmp/ipykernel_40476/590473979.py\u001b[0m in \u001b[0;36m<module>\u001b[0;34m\u001b[0m\n\u001b[1;32m      2\u001b[0m \u001b[0mretval_lst\u001b[0m\u001b[0;34m=\u001b[0m\u001b[0;34m[\u001b[0m\u001b[0;34m]\u001b[0m\u001b[0;34m\u001b[0m\u001b[0;34m\u001b[0m\u001b[0m\n\u001b[1;32m      3\u001b[0m \u001b[0;32mfor\u001b[0m \u001b[0mtask\u001b[0m \u001b[0;32min\u001b[0m \u001b[0mtask_lst\u001b[0m\u001b[0;34m:\u001b[0m\u001b[0;34m\u001b[0m\u001b[0;34m\u001b[0m\u001b[0m\n\u001b[0;32m----> 4\u001b[0;31m     \u001b[0mretval_lst\u001b[0m\u001b[0;34m.\u001b[0m\u001b[0mappend\u001b[0m\u001b[0;34m(\u001b[0m\u001b[0mroutine\u001b[0m\u001b[0;34m(\u001b[0m\u001b[0mtask\u001b[0m\u001b[0;34m)\u001b[0m\u001b[0;34m)\u001b[0m\u001b[0;34m\u001b[0m\u001b[0;34m\u001b[0m\u001b[0m\n\u001b[0m\u001b[1;32m      5\u001b[0m \u001b[0mprint\u001b[0m\u001b[0;34m(\u001b[0m\u001b[0;34mf\"the run time for {len(retval_lst)} simulations was {(time.time()-start)/60:.2f} minutes.\"\u001b[0m\u001b[0;34m)\u001b[0m\u001b[0;34m\u001b[0m\u001b[0;34m\u001b[0m\u001b[0m\n",
      "\u001b[0;32m/tmp/ipykernel_40476/249105838.py\u001b[0m in \u001b[0;36mroutine\u001b[0;34m(data)\u001b[0m\n\u001b[1;32m      9\u001b[0m                                     \u001b[0mtavg_step\u001b[0m\u001b[0;34m=\u001b[0m\u001b[0;36m2.\u001b[0m\u001b[0;34m,\u001b[0m\u001b[0;34m\u001b[0m\u001b[0;34m\u001b[0m\u001b[0m\n\u001b[1;32m     10\u001b[0m                                     \u001b[0mtavg1_max\u001b[0m\u001b[0;34m=\u001b[0m\u001b[0;36m20\u001b[0m\u001b[0;34m,\u001b[0m\u001b[0;34m\u001b[0m\u001b[0;34m\u001b[0m\u001b[0m\n\u001b[0;32m---> 11\u001b[0;31m                                     tavg2_max=0,printing=False,save_folder=save_folder)\n\u001b[0m",
      "\u001b[0;32m/tmp/ipykernel_40476/2802408330.py\u001b[0m in \u001b[0;36msave_control_results_for_setting\u001b[0;34m(a, D, tavg_step, tavg1_max, tavg2_max, printing, save_folder, **kwargs)\u001b[0m\n\u001b[1;32m     21\u001b[0m     \u001b[0;32melse\u001b[0m\u001b[0;34m:\u001b[0m\u001b[0;34m\u001b[0m\u001b[0;34m\u001b[0m\u001b[0m\n\u001b[1;32m     22\u001b[0m         positions_out, mean_array, std_array = gener_positions_control(\n\u001b[0;32m---> 23\u001b[0;31m             a=a, D=D, printing=False,**kwargs)\n\u001b[0m\u001b[1;32m     24\u001b[0m \u001b[0;34m\u001b[0m\u001b[0m\n\u001b[1;32m     25\u001b[0m     \u001b[0;32mif\u001b[0m \u001b[0mcaching\u001b[0m\u001b[0;34m:\u001b[0m\u001b[0;34m\u001b[0m\u001b[0;34m\u001b[0m\u001b[0m\n",
      "\u001b[0;32m/tmp/ipykernel_40476/853650839.py\u001b[0m in \u001b[0;36mgener_positions_control\u001b[0;34m(num_pairs, a, D, Dt, print_every, rend, printing, **kwargs)\u001b[0m\n\u001b[1;32m     53\u001b[0m         \u001b[0mf_values\u001b[0m\u001b[0;34m=\u001b[0m\u001b[0mimpulse_prefactor\u001b[0m\u001b[0;34m/\u001b[0m\u001b[0mRsq_values\u001b[0m\u001b[0;34m\u001b[0m\u001b[0;34m\u001b[0m\u001b[0m\n\u001b[1;32m     54\u001b[0m         \u001b[0mF1x\u001b[0m\u001b[0;34m=\u001b[0m\u001b[0mf_values\u001b[0m\u001b[0;34m*\u001b[0m\u001b[0mdx_values\u001b[0m\u001b[0;34m\u001b[0m\u001b[0;34m\u001b[0m\u001b[0m\n\u001b[0;32m---> 55\u001b[0;31m         \u001b[0mF1y\u001b[0m\u001b[0;34m=\u001b[0m\u001b[0mf_values\u001b[0m\u001b[0;34m*\u001b[0m\u001b[0mdy_values\u001b[0m\u001b[0;34m\u001b[0m\u001b[0;34m\u001b[0m\u001b[0m\n\u001b[0m\u001b[1;32m     56\u001b[0m \u001b[0;34m\u001b[0m\u001b[0m\n\u001b[1;32m     57\u001b[0m         \u001b[0;31m#compute the diffusive step between all pairs\u001b[0m\u001b[0;34m\u001b[0m\u001b[0;34m\u001b[0m\u001b[0;34m\u001b[0m\u001b[0m\n",
      "\u001b[0;31mKeyboardInterrupt\u001b[0m: "
     ]
    }
   ],
   "source": [
    "start = time.time()\n",
    "retval_lst=[]\n",
    "for task in task_lst:\n",
    "    retval_lst.append(routine(task))\n",
    "print(f\"the run time for {len(retval_lst)} simulations was {(time.time()-start)/60:.2f} minutes.\")"
   ]
  },
  {
   "cell_type": "code",
   "execution_count": null,
   "id": "57d7995b",
   "metadata": {
    "ExecuteTime": {
     "end_time": "2021-11-04T15:23:58.429221Z",
     "start_time": "2021-11-04T15:23:58.429211Z"
    }
   },
   "outputs": [],
   "source": [
    "# print(f\"note: approximately 45 GB of RAM is needed per worker\")\n",
    "# npartitions=1#8\n",
    "# print(f\"running simulation on {npartitions} workers...\")\n",
    "# bag = db.from_sequence(task_lst, npartitions=npartitions).map(routine)\n",
    "# start = time.time()\n",
    "# retval_lst = list(bag)\n",
    "# print(f\"the run time for {len(retval_lst)} simulations was {(time.time()-start)/60:.2f} minutes.\")\n",
    "# # return retval_lst\n",
    "# print(len(retval_lst))"
   ]
  },
  {
   "cell_type": "markdown",
   "id": "c655a737",
   "metadata": {},
   "source": [
    "# visualization"
   ]
  },
  {
   "cell_type": "code",
   "execution_count": 19,
   "id": "cffcdc85",
   "metadata": {
    "ExecuteTime": {
     "end_time": "2021-11-04T15:35:46.707318Z",
     "start_time": "2021-11-04T15:35:46.703830Z"
    }
   },
   "outputs": [
    {
     "data": {
      "text/plain": [
       "<function __main__.gener_positions_control(num_pairs=1500, a=5, D=1, Dt=1e-05, print_every=100000, rend=0.1, printing=False, **kwargs)>"
      ]
     },
     "execution_count": 19,
     "metadata": {},
     "output_type": "execute_result"
    }
   ],
   "source": [
    "gener_positions_control"
   ]
  },
  {
   "cell_type": "code",
   "execution_count": 20,
   "id": "36930634",
   "metadata": {
    "ExecuteTime": {
     "end_time": "2021-11-04T15:37:40.503833Z",
     "start_time": "2021-11-04T15:35:50.451275Z"
    }
   },
   "outputs": [
    {
     "name": "stdout",
     "output_type": "stream",
     "text": [
      "running simulation for 1000000 steps...\n",
      "Simulation 10% completed: R=0.0989+/-0.1939, diffusion/attraction is 0.00%\n",
      "Simulation 20% completed: R=0.0989+/-0.1939, diffusion/attraction is 0.00%\n",
      "Simulation 30% completed: R=0.0989+/-0.1939, diffusion/attraction is 0.00%\n",
      "Simulation 40% completed: R=0.0989+/-0.1939, diffusion/attraction is 0.00%\n",
      "Simulation 50% completed: R=0.0989+/-0.1939, diffusion/attraction is 0.00%\n",
      "Simulation 60% completed: R=0.0989+/-0.1939, diffusion/attraction is 0.00%\n",
      "Simulation 70% completed: R=0.0989+/-0.1939, diffusion/attraction is 0.00%\n",
      "Simulation 80% completed: R=0.0989+/-0.1939, diffusion/attraction is 0.00%\n",
      "Simulation 90% completed: R=0.0989+/-0.1939, diffusion/attraction is 0.00%\n",
      "Simulation 100% completed: R=0.0989+/-0.1939, diffusion/attraction is 0.00%\n",
      "simulation complete!\n",
      "Total run time: 107.5376 seconds\n",
      "the number of particles that didn't finished is 0 out of 100.\n",
      "5500\n"
     ]
    }
   ],
   "source": [
    "a=5\n",
    "D=0#1\n",
    "positions_out, mean_array, std_array = gener_positions_control(\n",
    "            a=a, D=D, printing=True,num_pairs=100)"
   ]
  },
  {
   "cell_type": "code",
   "execution_count": 21,
   "id": "58f9f8f2",
   "metadata": {
    "ExecuteTime": {
     "end_time": "2021-11-04T15:37:40.561681Z",
     "start_time": "2021-11-04T15:37:40.557059Z"
    }
   },
   "outputs": [
    {
     "data": {
      "text/plain": [
       "2.23606797749979"
      ]
     },
     "execution_count": 21,
     "metadata": {},
     "output_type": "execute_result"
    }
   ],
   "source": [
    "tavg1=0\n",
    "tavg2=0\n",
    "printing=True\n",
    "np.sqrt(2.6/0.6)\n",
    "np.sqrt(5)"
   ]
  },
  {
   "cell_type": "code",
   "execution_count": null,
   "id": "0e947685",
   "metadata": {
    "ExecuteTime": {
     "end_time": "2021-11-04T15:58:15.760351Z",
     "start_time": "2021-11-04T15:58:15.751807Z"
    }
   },
   "outputs": [],
   "source": []
  },
  {
   "cell_type": "code",
   "execution_count": 80,
   "id": "c2e99f58",
   "metadata": {
    "ExecuteTime": {
     "end_time": "2021-11-04T15:57:57.749025Z",
     "start_time": "2021-11-04T15:57:57.593410Z"
    }
   },
   "outputs": [
    {
     "name": "stdout",
     "output_type": "stream",
     "text": [
      "runtime computing attraction coefficients: 0.0763\n"
     ]
    },
    {
     "name": "stderr",
     "output_type": "stream",
     "text": [
      "/home/timothytyree/anaconda3/envs/pyenv_ub/lib/python3.7/site-packages/numpy/core/fromnumeric.py:3373: RuntimeWarning: Mean of empty slice.\n",
      "  out=out, **kwargs)\n",
      "/home/timothytyree/anaconda3/envs/pyenv_ub/lib/python3.7/site-packages/numpy/core/_methods.py:170: RuntimeWarning: invalid value encountered in double_scalars\n",
      "  ret = ret.dtype.type(ret / rcount)\n"
     ]
    },
    {
     "data": {
      "text/html": [
       "<div>\n",
       "<style scoped>\n",
       "    .dataframe tbody tr th:only-of-type {\n",
       "        vertical-align: middle;\n",
       "    }\n",
       "\n",
       "    .dataframe tbody tr th {\n",
       "        vertical-align: top;\n",
       "    }\n",
       "\n",
       "    .dataframe thead th {\n",
       "        text-align: right;\n",
       "    }\n",
       "</style>\n",
       "<table border=\"1\" class=\"dataframe\">\n",
       "  <thead>\n",
       "    <tr style=\"text-align: right;\">\n",
       "      <th></th>\n",
       "      <th>tavg1</th>\n",
       "      <th>tavg2</th>\n",
       "      <th>tmax</th>\n",
       "      <th>a</th>\n",
       "      <th>Delta_a</th>\n",
       "      <th>Rsq_a</th>\n",
       "    </tr>\n",
       "  </thead>\n",
       "  <tbody>\n",
       "    <tr>\n",
       "      <th>0</th>\n",
       "      <td>0</td>\n",
       "      <td>0</td>\n",
       "      <td>0.005</td>\n",
       "      <td>NaN</td>\n",
       "      <td>NaN</td>\n",
       "      <td>NaN</td>\n",
       "    </tr>\n",
       "    <tr>\n",
       "      <th>1</th>\n",
       "      <td>0</td>\n",
       "      <td>0</td>\n",
       "      <td>0.010</td>\n",
       "      <td>NaN</td>\n",
       "      <td>NaN</td>\n",
       "      <td>NaN</td>\n",
       "    </tr>\n",
       "    <tr>\n",
       "      <th>2</th>\n",
       "      <td>0</td>\n",
       "      <td>0</td>\n",
       "      <td>0.015</td>\n",
       "      <td>NaN</td>\n",
       "      <td>NaN</td>\n",
       "      <td>NaN</td>\n",
       "    </tr>\n",
       "    <tr>\n",
       "      <th>3</th>\n",
       "      <td>0</td>\n",
       "      <td>0</td>\n",
       "      <td>0.020</td>\n",
       "      <td>NaN</td>\n",
       "      <td>NaN</td>\n",
       "      <td>NaN</td>\n",
       "    </tr>\n",
       "    <tr>\n",
       "      <th>4</th>\n",
       "      <td>0</td>\n",
       "      <td>0</td>\n",
       "      <td>0.025</td>\n",
       "      <td>NaN</td>\n",
       "      <td>NaN</td>\n",
       "      <td>NaN</td>\n",
       "    </tr>\n",
       "  </tbody>\n",
       "</table>\n",
       "</div>"
      ],
      "text/plain": [
       "   tavg1  tavg2   tmax   a  Delta_a  Rsq_a\n",
       "0      0      0  0.005 NaN      NaN    NaN\n",
       "1      0      0  0.010 NaN      NaN    NaN\n",
       "2      0      0  0.015 NaN      NaN    NaN\n",
       "3      0      0  0.020 NaN      NaN    NaN\n",
       "4      0      0  0.025 NaN      NaN    NaN"
      ]
     },
     "execution_count": 80,
     "metadata": {},
     "output_type": "execute_result"
    }
   ],
   "source": [
    "df = compute_attraction_coefficient_results(\n",
    "    positions_out=positions_out, tavg1=0, tavg2=0, Dt=1e5,printing=printing)\n",
    "df.head()"
   ]
  },
  {
   "cell_type": "code",
   "execution_count": 22,
   "id": "da5b9daa",
   "metadata": {
    "ExecuteTime": {
     "end_time": "2021-11-04T15:37:40.613451Z",
     "start_time": "2021-11-04T15:37:40.610843Z"
    }
   },
   "outputs": [
    {
     "data": {
      "text/plain": [
       "2.23606797749979"
      ]
     },
     "execution_count": 22,
     "metadata": {},
     "output_type": "execute_result"
    }
   ],
   "source": [
    "np.sqrt(5)"
   ]
  },
  {
   "cell_type": "code",
   "execution_count": 83,
   "id": "dfe0c8c6",
   "metadata": {
    "ExecuteTime": {
     "end_time": "2021-11-04T15:59:06.851033Z",
     "start_time": "2021-11-04T15:59:06.705769Z"
    }
   },
   "outputs": [
    {
     "name": "stdout",
     "output_type": "stream",
     "text": [
      "runtime computing attraction coefficients: 0.0657\n"
     ]
    },
    {
     "name": "stderr",
     "output_type": "stream",
     "text": [
      "/home/timothytyree/anaconda3/envs/pyenv_ub/lib/python3.7/site-packages/numpy/core/fromnumeric.py:3373: RuntimeWarning: Mean of empty slice.\n",
      "  out=out, **kwargs)\n",
      "/home/timothytyree/anaconda3/envs/pyenv_ub/lib/python3.7/site-packages/numpy/core/_methods.py:170: RuntimeWarning: invalid value encountered in double_scalars\n",
      "  ret = ret.dtype.type(ret / rcount)\n"
     ]
    },
    {
     "data": {
      "text/html": [
       "<div>\n",
       "<style scoped>\n",
       "    .dataframe tbody tr th:only-of-type {\n",
       "        vertical-align: middle;\n",
       "    }\n",
       "\n",
       "    .dataframe tbody tr th {\n",
       "        vertical-align: top;\n",
       "    }\n",
       "\n",
       "    .dataframe thead th {\n",
       "        text-align: right;\n",
       "    }\n",
       "</style>\n",
       "<table border=\"1\" class=\"dataframe\">\n",
       "  <thead>\n",
       "    <tr style=\"text-align: right;\">\n",
       "      <th></th>\n",
       "      <th>tavg1</th>\n",
       "      <th>tavg2</th>\n",
       "      <th>tmax</th>\n",
       "      <th>a</th>\n",
       "      <th>Delta_a</th>\n",
       "      <th>Rsq_a</th>\n",
       "    </tr>\n",
       "  </thead>\n",
       "  <tbody>\n",
       "    <tr>\n",
       "      <th>0</th>\n",
       "      <td>0</td>\n",
       "      <td>0</td>\n",
       "      <td>0.005</td>\n",
       "      <td>4.984920</td>\n",
       "      <td>0.000380</td>\n",
       "      <td>0.999999</td>\n",
       "    </tr>\n",
       "    <tr>\n",
       "      <th>1</th>\n",
       "      <td>0</td>\n",
       "      <td>0</td>\n",
       "      <td>0.010</td>\n",
       "      <td>4.991225</td>\n",
       "      <td>0.000191</td>\n",
       "      <td>1.000000</td>\n",
       "    </tr>\n",
       "    <tr>\n",
       "      <th>2</th>\n",
       "      <td>0</td>\n",
       "      <td>0</td>\n",
       "      <td>0.015</td>\n",
       "      <td>4.993777</td>\n",
       "      <td>0.000121</td>\n",
       "      <td>1.000000</td>\n",
       "    </tr>\n",
       "    <tr>\n",
       "      <th>3</th>\n",
       "      <td>0</td>\n",
       "      <td>0</td>\n",
       "      <td>0.020</td>\n",
       "      <td>4.995163</td>\n",
       "      <td>0.000086</td>\n",
       "      <td>1.000000</td>\n",
       "    </tr>\n",
       "    <tr>\n",
       "      <th>4</th>\n",
       "      <td>0</td>\n",
       "      <td>0</td>\n",
       "      <td>0.025</td>\n",
       "      <td>4.995972</td>\n",
       "      <td>0.000067</td>\n",
       "      <td>1.000000</td>\n",
       "    </tr>\n",
       "    <tr>\n",
       "      <th>5</th>\n",
       "      <td>0</td>\n",
       "      <td>0</td>\n",
       "      <td>0.030</td>\n",
       "      <td>4.995972</td>\n",
       "      <td>0.000067</td>\n",
       "      <td>1.000000</td>\n",
       "    </tr>\n",
       "    <tr>\n",
       "      <th>6</th>\n",
       "      <td>0</td>\n",
       "      <td>0</td>\n",
       "      <td>0.035</td>\n",
       "      <td>4.995972</td>\n",
       "      <td>0.000067</td>\n",
       "      <td>1.000000</td>\n",
       "    </tr>\n",
       "    <tr>\n",
       "      <th>7</th>\n",
       "      <td>0</td>\n",
       "      <td>0</td>\n",
       "      <td>0.040</td>\n",
       "      <td>4.995972</td>\n",
       "      <td>0.000067</td>\n",
       "      <td>1.000000</td>\n",
       "    </tr>\n",
       "  </tbody>\n",
       "</table>\n",
       "</div>"
      ],
      "text/plain": [
       "   tavg1  tavg2   tmax         a   Delta_a     Rsq_a\n",
       "0      0      0  0.005  4.984920  0.000380  0.999999\n",
       "1      0      0  0.010  4.991225  0.000191  1.000000\n",
       "2      0      0  0.015  4.993777  0.000121  1.000000\n",
       "3      0      0  0.020  4.995163  0.000086  1.000000\n",
       "4      0      0  0.025  4.995972  0.000067  1.000000\n",
       "5      0      0  0.030  4.995972  0.000067  1.000000\n",
       "6      0      0  0.035  4.995972  0.000067  1.000000\n",
       "7      0      0  0.040  4.995972  0.000067  1.000000"
      ]
     },
     "execution_count": 83,
     "metadata": {},
     "output_type": "execute_result"
    }
   ],
   "source": [
    "navg1=np.int(np.around(tavg1/(Dt*10**3)))\n",
    "navg2=np.int(np.around(tavg2/(Dt*10**3)))\n",
    "\n",
    "#define time points\n",
    "#i=0\n",
    "num_timepoints=positions_out.shape[0]\n",
    "t_values=np.arange(0,Dt*num_timepoints,Dt)\n",
    "#assert t_values.shape==range_values[:,i].shape\n",
    "\n",
    "#moving avg\n",
    "if tavg1>0:\n",
    "    #compute the moving average of the positional trajectories\n",
    "    tavg_values=moving_average(t_values,n=navg1)\n",
    "    positions_out_ma=moving_average(positions_out, n=navg1)\n",
    "else:\n",
    "    tavg_values=t_values\n",
    "    positions_out_ma=positions_out\n",
    "\n",
    "#compute range # x1,y1,x2,y2\n",
    "range_values= np.sqrt((positions_out_ma[:,0,:]-positions_out_ma[:,2,:])**2 + (positions_out_ma[:,1,:]-positions_out_ma[:,3,:])**2)\n",
    "\n",
    "\n",
    "\n",
    "#compute savgol filter\n",
    "if navg2>0:\n",
    "    if navg2<30: navg2=30\n",
    "    if navg2%2==0:navg2+=1\n",
    "    #DONE: test whether there is a significant difference between the savgol derivative and the finite difference derivative of the savgol filter\n",
    "    savgol_kwargs = dict(window_length=navg2,polyorder=3,deriv=0,delta=1.0,axis=-1,mode='interp')\n",
    "    #compute the savgol_filtered values for R\n",
    "    R_savgol_values=savgol_filter(range_values,**savgol_kwargs)\n",
    "    SR_values=R_savgol_values**2\n",
    "else:\n",
    "    SR_values=range_values**2\n",
    "\n",
    "#DONE: sompute MSR_values from SR_values\n",
    "# SR_values\n",
    "\n",
    "#     if printing:\n",
    "#         print('nota bene: nan values are being kept in positions_out, so care needs to be taken to compute the particle averaged SR for every time')\n",
    "#         print(f\"HINT: I need to compute the nonnan boolean index for each time slice\")\n",
    "np.isnan(SR_values).any(),SR_values.shape\n",
    "# assert not np.isnan(positions_out).any()\n",
    "\n",
    "# the nonnan boolean index for each time slice\n",
    "MSR_values=np.zeros_like(SR_values[:,0])\n",
    "num_tbin,num_trials=SR_values.shape\n",
    "for j in range (num_tbin):\n",
    "    boo=~np.isnan(SR_values[j,:])\n",
    "    MSR_values[j]=np.mean(SR_values[j,boo])\n",
    "\n",
    "t_thresh_values=np.arange(0.005,0.04,0.005)\n",
    "\n",
    "start=time.time()\n",
    "#generate apparent attraction coefficient data\n",
    "a_sr_lst=[]\n",
    "Delta_a_sr_lst=[]\n",
    "Rsq_sr_lst=[]\n",
    "# a_one_over_R_lst=[]\n",
    "# Delta_a_one_over_R_lst=[]\n",
    "# Rsq_one_over_R_lst=[]\n",
    "tdeath_values=np.max(tavg_values)-tavg_values\n",
    "for t_thresh in t_thresh_values:\n",
    "    #squared range method\n",
    "    boo=tdeath_values<=t_thresh\n",
    "    boo&=~np.isnan(MSR_values)\n",
    "    if sum(boo)>2:\n",
    "        dict_sr=compute_slope.compute_95CI_ols(tdeath_values[boo], MSR_values[boo])\n",
    "        a_sr=dict_sr['m']/4\n",
    "        Delta_a_sr=dict_sr['Delta_m']/4\n",
    "        Rsquared=dict_sr['Rsquared']\n",
    "    else:\n",
    "        a_sr=np.nan\n",
    "        Delta_a_sr=np.nan\n",
    "        Rsquared=np.nan\n",
    "\n",
    "#     #inverse range method\n",
    "#     boo=one_over_R_values<1/R_thresh\n",
    "#     dict_one_over_R=compute_slope.compute_95CI_ols(one_over_R_values[boo], dRdt_values[boo])\n",
    "#     a_one_over_R=-1*dict_one_over_R['m']/2\n",
    "#     Delta_a_one_over_R=dict_one_over_R['Delta_m']/2\n",
    "\n",
    "    #record results\n",
    "    a_sr_lst.append(a_sr)\n",
    "    Delta_a_sr_lst.append(Delta_a_sr)\n",
    "    Rsq_sr_lst.append(Rsquared)\n",
    "#     a_one_over_R_lst.append(a_one_over_R)\n",
    "#     Delta_a_one_over_R_lst.append(Delta_a_one_over_R)\n",
    "#     Rsq_one_over_R_lst.append(dict_one_over_R['Rsquared'])\n",
    "if printing:\n",
    "    print(f\"runtime computing attraction coefficients: {time.time()-start:.4f}\")\n",
    "\n",
    "df=pd.DataFrame({\n",
    "    'tavg1':tavg1,\n",
    "    'tavg2':tavg2,\n",
    "    'tmax':t_thresh_values,\n",
    "    'a':a_sr_lst,\n",
    "    'Delta_a':Delta_a_sr_lst,\n",
    "    'Rsq_a':Rsq_sr_lst\n",
    "})\n",
    "df"
   ]
  },
  {
   "cell_type": "code",
   "execution_count": 70,
   "id": "c0f52763",
   "metadata": {
    "ExecuteTime": {
     "end_time": "2021-11-04T15:54:16.957052Z",
     "start_time": "2021-11-04T15:54:16.871527Z"
    }
   },
   "outputs": [
    {
     "name": "stderr",
     "output_type": "stream",
     "text": [
      "/home/timothytyree/anaconda3/envs/pyenv_ub/lib/python3.7/site-packages/numpy/core/fromnumeric.py:3373: RuntimeWarning: Mean of empty slice.\n",
      "  out=out, **kwargs)\n",
      "/home/timothytyree/anaconda3/envs/pyenv_ub/lib/python3.7/site-packages/numpy/core/_methods.py:170: RuntimeWarning: invalid value encountered in double_scalars\n",
      "  ret = ret.dtype.type(ret / rcount)\n"
     ]
    }
   ],
   "source": [
    "navg1=np.int(np.around(tavg1/(Dt*10**3)))\n",
    "navg2=np.int(np.around(tavg2/(Dt*10**3)))\n",
    "\n",
    "#define time points\n",
    "#i=0\n",
    "num_timepoints=positions_out.shape[0]\n",
    "t_values=np.arange(0,Dt*num_timepoints,Dt)\n",
    "#assert t_values.shape==range_values[:,i].shape\n",
    "\n",
    "#moving avg\n",
    "if tavg1>0:\n",
    "    #compute the moving average of the positional trajectories\n",
    "    tavg_values=moving_average(t_values,n=navg1)\n",
    "    positions_out_ma=moving_average(positions_out, n=navg1)\n",
    "else:\n",
    "    tavg_values=t_values\n",
    "    positions_out_ma=positions_out\n",
    "\n",
    "#compute range # x1,y1,x2,y2\n",
    "range_values= np.sqrt((positions_out_ma[:,0,:]-positions_out_ma[:,2,:])**2 + (positions_out_ma[:,1,:]-positions_out_ma[:,3,:])**2)\n",
    "\n",
    "\n",
    "\n",
    "#compute savgol filter\n",
    "if navg2>0:\n",
    "    if navg2<30: navg2=30\n",
    "    if navg2%2==0:navg2+=1\n",
    "    #DONE: test whether there is a significant difference between the savgol derivative and the finite difference derivative of the savgol filter\n",
    "    savgol_kwargs = dict(window_length=navg2,polyorder=3,deriv=0,delta=1.0,axis=-1,mode='interp')\n",
    "    #compute the savgol_filtered values for R\n",
    "    R_savgol_values=savgol_filter(range_values,**savgol_kwargs)\n",
    "    SR_values=R_savgol_values**2\n",
    "else:\n",
    "    SR_values=range_values**2\n",
    "\n",
    "#DONE: sompute MSR_values from SR_values\n",
    "# SR_values\n",
    "\n",
    "#     if printing:\n",
    "#         print('nota bene: nan values are being kept in positions_out, so care needs to be taken to compute the particle averaged SR for every time')\n",
    "#         print(f\"HINT: I need to compute the nonnan boolean index for each time slice\")\n",
    "np.isnan(SR_values).any(),SR_values.shape\n",
    "# assert not np.isnan(positions_out).any()\n",
    "\n",
    "# the nonnan boolean index for each time slice\n",
    "MSR_values=np.zeros_like(SR_values[:,0])\n",
    "num_tbin,num_trials=SR_values.shape\n",
    "for j in range (num_tbin):\n",
    "    boo=~np.isnan(SR_values[j,:])\n",
    "    MSR_values[j]=np.mean(SR_values[j,boo])\n",
    "\n",
    "t_thresh_values=np.arange(0.005,0.04,0.005)\n"
   ]
  },
  {
   "cell_type": "code",
   "execution_count": 76,
   "id": "269eb29d",
   "metadata": {
    "ExecuteTime": {
     "end_time": "2021-11-04T15:56:22.666138Z",
     "start_time": "2021-11-04T15:56:22.588602Z"
    }
   },
   "outputs": [
    {
     "name": "stdout",
     "output_type": "stream",
     "text": [
      "runtime computing attraction coefficients: 0.0667\n"
     ]
    },
    {
     "data": {
      "text/html": [
       "<div>\n",
       "<style scoped>\n",
       "    .dataframe tbody tr th:only-of-type {\n",
       "        vertical-align: middle;\n",
       "    }\n",
       "\n",
       "    .dataframe tbody tr th {\n",
       "        vertical-align: top;\n",
       "    }\n",
       "\n",
       "    .dataframe thead th {\n",
       "        text-align: right;\n",
       "    }\n",
       "</style>\n",
       "<table border=\"1\" class=\"dataframe\">\n",
       "  <thead>\n",
       "    <tr style=\"text-align: right;\">\n",
       "      <th></th>\n",
       "      <th>tavg1</th>\n",
       "      <th>tavg2</th>\n",
       "      <th>tmax</th>\n",
       "      <th>a</th>\n",
       "      <th>Delta_a</th>\n",
       "      <th>Rsq_a</th>\n",
       "    </tr>\n",
       "  </thead>\n",
       "  <tbody>\n",
       "    <tr>\n",
       "      <th>0</th>\n",
       "      <td>0</td>\n",
       "      <td>0</td>\n",
       "      <td>0.005</td>\n",
       "      <td>4.984920</td>\n",
       "      <td>0.000380</td>\n",
       "      <td>0.999999</td>\n",
       "    </tr>\n",
       "    <tr>\n",
       "      <th>1</th>\n",
       "      <td>0</td>\n",
       "      <td>0</td>\n",
       "      <td>0.010</td>\n",
       "      <td>4.991225</td>\n",
       "      <td>0.000191</td>\n",
       "      <td>1.000000</td>\n",
       "    </tr>\n",
       "    <tr>\n",
       "      <th>2</th>\n",
       "      <td>0</td>\n",
       "      <td>0</td>\n",
       "      <td>0.015</td>\n",
       "      <td>4.993777</td>\n",
       "      <td>0.000121</td>\n",
       "      <td>1.000000</td>\n",
       "    </tr>\n",
       "    <tr>\n",
       "      <th>3</th>\n",
       "      <td>0</td>\n",
       "      <td>0</td>\n",
       "      <td>0.020</td>\n",
       "      <td>4.995163</td>\n",
       "      <td>0.000086</td>\n",
       "      <td>1.000000</td>\n",
       "    </tr>\n",
       "    <tr>\n",
       "      <th>4</th>\n",
       "      <td>0</td>\n",
       "      <td>0</td>\n",
       "      <td>0.025</td>\n",
       "      <td>4.995972</td>\n",
       "      <td>0.000067</td>\n",
       "      <td>1.000000</td>\n",
       "    </tr>\n",
       "    <tr>\n",
       "      <th>5</th>\n",
       "      <td>0</td>\n",
       "      <td>0</td>\n",
       "      <td>0.030</td>\n",
       "      <td>4.995972</td>\n",
       "      <td>0.000067</td>\n",
       "      <td>1.000000</td>\n",
       "    </tr>\n",
       "    <tr>\n",
       "      <th>6</th>\n",
       "      <td>0</td>\n",
       "      <td>0</td>\n",
       "      <td>0.035</td>\n",
       "      <td>4.995972</td>\n",
       "      <td>0.000067</td>\n",
       "      <td>1.000000</td>\n",
       "    </tr>\n",
       "    <tr>\n",
       "      <th>7</th>\n",
       "      <td>0</td>\n",
       "      <td>0</td>\n",
       "      <td>0.040</td>\n",
       "      <td>4.995972</td>\n",
       "      <td>0.000067</td>\n",
       "      <td>1.000000</td>\n",
       "    </tr>\n",
       "  </tbody>\n",
       "</table>\n",
       "</div>"
      ],
      "text/plain": [
       "   tavg1  tavg2   tmax         a   Delta_a     Rsq_a\n",
       "0      0      0  0.005  4.984920  0.000380  0.999999\n",
       "1      0      0  0.010  4.991225  0.000191  1.000000\n",
       "2      0      0  0.015  4.993777  0.000121  1.000000\n",
       "3      0      0  0.020  4.995163  0.000086  1.000000\n",
       "4      0      0  0.025  4.995972  0.000067  1.000000\n",
       "5      0      0  0.030  4.995972  0.000067  1.000000\n",
       "6      0      0  0.035  4.995972  0.000067  1.000000\n",
       "7      0      0  0.040  4.995972  0.000067  1.000000"
      ]
     },
     "execution_count": 76,
     "metadata": {},
     "output_type": "execute_result"
    }
   ],
   "source": [
    "start=time.time()\n",
    "#generate apparent attraction coefficient data\n",
    "a_sr_lst=[]\n",
    "Delta_a_sr_lst=[]\n",
    "Rsq_sr_lst=[]\n",
    "# a_one_over_R_lst=[]\n",
    "# Delta_a_one_over_R_lst=[]\n",
    "# Rsq_one_over_R_lst=[]\n",
    "tdeath_values=np.max(tavg_values)-tavg_values\n",
    "for t_thresh in t_thresh_values:\n",
    "    #squared range method\n",
    "    boo=tdeath_values<=t_thresh\n",
    "    boo&=~np.isnan(MSR_values)\n",
    "    if sum(boo)>2:\n",
    "        dict_sr=compute_slope.compute_95CI_ols(tdeath_values[boo], MSR_values[boo])\n",
    "        a_sr=dict_sr['m']/4\n",
    "        Delta_a_sr=dict_sr['Delta_m']/4\n",
    "        Rsquared=dict_sr['Rsquared']\n",
    "    else:\n",
    "        a_sr=np.nan\n",
    "        Delta_a_sr=np.nan\n",
    "        Rsquared=np.nan\n",
    "\n",
    "#     #inverse range method\n",
    "#     boo=one_over_R_values<1/R_thresh\n",
    "#     dict_one_over_R=compute_slope.compute_95CI_ols(one_over_R_values[boo], dRdt_values[boo])\n",
    "#     a_one_over_R=-1*dict_one_over_R['m']/2\n",
    "#     Delta_a_one_over_R=dict_one_over_R['Delta_m']/2\n",
    "\n",
    "    #record results\n",
    "    a_sr_lst.append(a_sr)\n",
    "    Delta_a_sr_lst.append(Delta_a_sr)\n",
    "    Rsq_sr_lst.append(Rsquared)\n",
    "#     a_one_over_R_lst.append(a_one_over_R)\n",
    "#     Delta_a_one_over_R_lst.append(Delta_a_one_over_R)\n",
    "#     Rsq_one_over_R_lst.append(dict_one_over_R['Rsquared'])\n",
    "if printing:\n",
    "    print(f\"runtime computing attraction coefficients: {time.time()-start:.4f}\")\n",
    "\n",
    "df=pd.DataFrame({\n",
    "    'tavg1':tavg1,\n",
    "    'tavg2':tavg2,\n",
    "    'tmax':t_thresh_values,\n",
    "    'a':a_sr_lst,\n",
    "    'Delta_a':Delta_a_sr_lst,\n",
    "    'Rsq_a':Rsq_sr_lst\n",
    "})\n",
    "df"
   ]
  },
  {
   "cell_type": "code",
   "execution_count": 75,
   "id": "acb29414",
   "metadata": {
    "ExecuteTime": {
     "end_time": "2021-11-04T15:56:18.174896Z",
     "start_time": "2021-11-04T15:56:18.052019Z"
    }
   },
   "outputs": [
    {
     "name": "stderr",
     "output_type": "stream",
     "text": [
      "/home/timothytyree/anaconda3/envs/pyenv_ub/lib/python3.7/site-packages/numpy/core/fromnumeric.py:3373: RuntimeWarning: Mean of empty slice.\n",
      "  out=out, **kwargs)\n",
      "/home/timothytyree/anaconda3/envs/pyenv_ub/lib/python3.7/site-packages/numpy/core/_methods.py:170: RuntimeWarning: invalid value encountered in double_scalars\n",
      "  ret = ret.dtype.type(ret / rcount)\n"
     ]
    }
   ],
   "source": [
    "# the nonnan boolean index for each time slice\n",
    "MSR_values=np.zeros_like(SR_values[:,0])\n",
    "num_tbin,num_trials=SR_values.shape\n",
    "for j in range (num_tbin):\n",
    "    boo=~np.isnan(SR_values[j,:])\n",
    "    MSR_values[j]=np.mean(SR_values[j,boo])\n",
    "\n",
    "t_thresh_values=np.arange(0.005,0.04,0.005)\n"
   ]
  },
  {
   "cell_type": "code",
   "execution_count": 64,
   "id": "67be99fd",
   "metadata": {
    "ExecuteTime": {
     "end_time": "2021-11-04T15:50:39.526316Z",
     "start_time": "2021-11-04T15:50:39.514625Z"
    }
   },
   "outputs": [
    {
     "data": {
      "text/plain": [
       "4.995971762499999"
      ]
     },
     "execution_count": 64,
     "metadata": {},
     "output_type": "execute_result"
    }
   ],
   "source": [
    "# start=time.time()\n",
    "#generate apparent attraction coefficient data\n",
    "a_sr_lst=[]\n",
    "Delta_a_sr_lst=[]\n",
    "Rsq_sr_lst=[]\n",
    "# a_one_over_R_lst=[]\n",
    "# Delta_a_one_over_R_lst=[]\n",
    "# Rsq_one_over_R_lst=[]\n",
    "tdeath_values=np.max(tavg_values)-tavg_values\n",
    "for t_thresh in t_thresh_values:\n",
    "    #squared range method\n",
    "    boo=tdeath_values<=t_thresh\n",
    "    boo&=~np.isnan(MSR_values)\n",
    "    dict_sr=compute_slope.compute_95CI_ols(tdeath_values[boo], MSR_values[boo])\n",
    "    a_sr=dict_sr['m']/4\n",
    "    Delta_a_sr=dict_sr['Delta_m']/4\n",
    "    \n",
    "a_sr"
   ]
  },
  {
   "cell_type": "code",
   "execution_count": 54,
   "id": "1616ecba",
   "metadata": {
    "ExecuteTime": {
     "end_time": "2021-11-04T15:46:17.900016Z",
     "start_time": "2021-11-04T15:46:17.895053Z"
    }
   },
   "outputs": [
    {
     "data": {
      "text/plain": [
       "array([[       nan,        nan,        nan, ...,        nan,        nan,\n",
       "               nan],\n",
       "       [       nan,        nan,        nan, ...,        nan,        nan,\n",
       "               nan],\n",
       "       [       nan,        nan,        nan, ...,        nan,        nan,\n",
       "               nan],\n",
       "       ...,\n",
       "       [0.0103782 , 0.0103782 , 0.0103782 , ..., 0.0103782 , 0.0103782 ,\n",
       "        0.0103782 ],\n",
       "       [0.01018102, 0.01018102, 0.01018102, ..., 0.01018102, 0.01018102,\n",
       "        0.01018102],\n",
       "       [0.00998389, 0.00998389, 0.00998389, ..., 0.00998389, 0.00998389,\n",
       "        0.00998389]])"
      ]
     },
     "execution_count": 54,
     "metadata": {},
     "output_type": "execute_result"
    }
   ],
   "source": [
    "SR_values"
   ]
  },
  {
   "cell_type": "code",
   "execution_count": 72,
   "id": "d1cbc843",
   "metadata": {
    "ExecuteTime": {
     "end_time": "2021-11-04T15:54:49.675795Z",
     "start_time": "2021-11-04T15:54:49.573164Z"
    }
   },
   "outputs": [
    {
     "data": {
      "text/plain": [
       "[<matplotlib.lines.Line2D at 0x7f500ebd7190>]"
      ]
     },
     "execution_count": 72,
     "metadata": {},
     "output_type": "execute_result"
    },
    {
     "data": {
      "image/png": "[encoded data removed]",
      "text/plain": [
       "<Figure size 432x288 with 1 Axes>"
      ]
     },
     "metadata": {
      "needs_background": "light"
     },
     "output_type": "display_data"
    }
   ],
   "source": [
    "#squared range method\n",
    "boo=tdeath_values<=t_thresh\n",
    "boo&=~np.isnan(MSR_values)\n",
    "plt.plot(tdeath_values[boo], MSR_values[boo])"
   ]
  },
  {
   "cell_type": "code",
   "execution_count": 47,
   "id": "e07beb0f",
   "metadata": {
    "ExecuteTime": {
     "end_time": "2021-11-04T15:44:56.558566Z",
     "start_time": "2021-11-04T15:44:56.478580Z"
    }
   },
   "outputs": [
    {
     "name": "stderr",
     "output_type": "stream",
     "text": [
      "/home/timothytyree/anaconda3/envs/pyenv_ub/lib/python3.7/site-packages/numpy/core/fromnumeric.py:3373: RuntimeWarning: Mean of empty slice.\n",
      "  out=out, **kwargs)\n",
      "/home/timothytyree/anaconda3/envs/pyenv_ub/lib/python3.7/site-packages/numpy/core/_methods.py:170: RuntimeWarning: invalid value encountered in double_scalars\n",
      "  ret = ret.dtype.type(ret / rcount)\n"
     ]
    },
    {
     "data": {
      "text/plain": [
       "(5500,)"
      ]
     },
     "execution_count": 47,
     "metadata": {},
     "output_type": "execute_result"
    }
   ],
   "source": [
    "lst=[]\n",
    "for j in range(num_tbin):\n",
    "    boo=~np.isnan(SR_values[j,:])\n",
    "    lst.append(np.mean(SR_values[j,boo]))\n",
    "MSR_values=np.array(list(lst))\n",
    "MSR_values.shape"
   ]
  },
  {
   "cell_type": "code",
   "execution_count": 24,
   "id": "e3388e80",
   "metadata": {
    "ExecuteTime": {
     "end_time": "2021-11-04T03:05:35.952957Z",
     "start_time": "2021-11-04T03:05:35.949634Z"
    }
   },
   "outputs": [
    {
     "data": {
      "text/plain": [
       "True"
      ]
     },
     "execution_count": 24,
     "metadata": {},
     "output_type": "execute_result"
    }
   ],
   "source": [
    "j=5\n",
    "boo=~np.isnan(SR_values[j,:])\n",
    "SR_values[j,:]\n",
    "np.isnan(SR_values[j,~boo]).any()\n",
    "np.isnan(SR_values[j]).any()"
   ]
  },
  {
   "cell_type": "code",
   "execution_count": null,
   "id": "54a9d85b",
   "metadata": {
    "ExecuteTime": {
     "start_time": "2021-11-04T03:50:53.244Z"
    }
   },
   "outputs": [],
   "source": [
    "# np.mean(SR_values[j,boo])\n",
    "# list(reversed(lst))\n",
    "plt.plot(MSR_values)"
   ]
  },
  {
   "cell_type": "code",
   "execution_count": null,
   "id": "d8f96955",
   "metadata": {
    "ExecuteTime": {
     "end_time": "2021-11-03T22:45:08.495017Z",
     "start_time": "2021-11-03T22:45:08.486205Z"
    }
   },
   "outputs": [],
   "source": [
    "#TODO: measure slope of ^this"
   ]
  },
  {
   "cell_type": "code",
   "execution_count": null,
   "id": "f40bd479",
   "metadata": {
    "ExecuteTime": {
     "end_time": "2021-11-04T01:11:47.601508Z",
     "start_time": "2021-11-04T01:11:47.601495Z"
    }
   },
   "outputs": [],
   "source": [
    "#TODO: figure out why I keep getting stalling at zero!?"
   ]
  },
  {
   "cell_type": "code",
   "execution_count": null,
   "id": "89b00598",
   "metadata": {
    "ExecuteTime": {
     "end_time": "2021-11-04T01:11:47.602217Z",
     "start_time": "2021-11-04T01:11:47.602205Z"
    }
   },
   "outputs": [],
   "source": [
    "# j=0\n",
    "# boo=~np.isnan(SR_values[j,:])\n",
    "# plt.hist(SR_values[j,boo])"
   ]
  },
  {
   "cell_type": "code",
   "execution_count": null,
   "id": "affdd718",
   "metadata": {
    "ExecuteTime": {
     "start_time": "2021-11-04T03:51:17.882Z"
    }
   },
   "outputs": [],
   "source": [
    "# t_values.shape,SR_values[::-1,:14].shape\n",
    "1+1"
   ]
  },
  {
   "cell_type": "code",
   "execution_count": 28,
   "id": "e8267f6c",
   "metadata": {
    "ExecuteTime": {
     "end_time": "2021-11-04T03:43:38.343921Z",
     "start_time": "2021-11-04T03:43:38.163244Z"
    }
   },
   "outputs": [
    {
     "ename": "ValueError",
     "evalue": "keyword c is not recognized; valid keywords are ['size', 'width', 'color', 'tickdir', 'pad', 'labelsize', 'labelcolor', 'zorder', 'gridOn', 'tick1On', 'tick2On', 'label1On', 'label2On', 'length', 'direction', 'left', 'bottom', 'right', 'top', 'labelleft', 'labelbottom', 'labelright', 'labeltop', 'labelrotation', 'grid_agg_filter', 'grid_alpha', 'grid_animated', 'grid_antialiased', 'grid_clip_box', 'grid_clip_on', 'grid_clip_path', 'grid_color', 'grid_contains', 'grid_dash_capstyle', 'grid_dash_joinstyle', 'grid_dashes', 'grid_data', 'grid_drawstyle', 'grid_figure', 'grid_fillstyle', 'grid_gid', 'grid_in_layout', 'grid_label', 'grid_linestyle', 'grid_linewidth', 'grid_marker', 'grid_markeredgecolor', 'grid_markeredgewidth', 'grid_markerfacecolor', 'grid_markerfacecoloralt', 'grid_markersize', 'grid_markevery', 'grid_path_effects', 'grid_picker', 'grid_pickradius', 'grid_rasterized', 'grid_sketch_params', 'grid_snap', 'grid_solid_capstyle', 'grid_solid_joinstyle', 'grid_transform', 'grid_url', 'grid_visible', 'grid_xdata', 'grid_ydata', 'grid_zorder', 'grid_aa', 'grid_c', 'grid_ds', 'grid_ls', 'grid_lw', 'grid_mec', 'grid_mew', 'grid_mfc', 'grid_mfcalt', 'grid_ms']",
     "output_type": "error",
     "traceback": [
      "\u001b[0;31m---------------------------------------------------------------------------\u001b[0m",
      "\u001b[0;31mValueError\u001b[0m                                Traceback (most recent call last)",
      "\u001b[0;32m/tmp/ipykernel_6573/1557034511.py\u001b[0m in \u001b[0;36m<module>\u001b[0;34m\u001b[0m\n\u001b[1;32m      2\u001b[0m \u001b[0mplt\u001b[0m\u001b[0;34m.\u001b[0m\u001b[0mplot\u001b[0m\u001b[0;34m(\u001b[0m\u001b[0mt_values\u001b[0m\u001b[0;34m,\u001b[0m\u001b[0mMSR_values\u001b[0m\u001b[0;34m)\u001b[0m\u001b[0;34m\u001b[0m\u001b[0;34m\u001b[0m\u001b[0m\n\u001b[1;32m      3\u001b[0m \u001b[0mplt\u001b[0m\u001b[0;34m.\u001b[0m\u001b[0mplot\u001b[0m\u001b[0;34m(\u001b[0m\u001b[0mt_values\u001b[0m\u001b[0;34m[\u001b[0m\u001b[0;36m1\u001b[0m\u001b[0;34m:\u001b[0m\u001b[0;34m]\u001b[0m\u001b[0;34m,\u001b[0m\u001b[0mt_values\u001b[0m\u001b[0;34m[\u001b[0m\u001b[0;36m1\u001b[0m\u001b[0;34m:\u001b[0m\u001b[0;34m]\u001b[0m\u001b[0;34m*\u001b[0m\u001b[0;36m4\u001b[0m\u001b[0;34m*\u001b[0m\u001b[0ma\u001b[0m\u001b[0;34m,\u001b[0m\u001b[0mc\u001b[0m\u001b[0;34m=\u001b[0m\u001b[0;34m'k'\u001b[0m\u001b[0;34m,\u001b[0m\u001b[0mlw\u001b[0m\u001b[0;34m=\u001b[0m\u001b[0;36m2\u001b[0m\u001b[0;34m,\u001b[0m\u001b[0malpha\u001b[0m\u001b[0;34m=\u001b[0m\u001b[0;36m0.5\u001b[0m\u001b[0;34m,\u001b[0m\u001b[0mlabel\u001b[0m\u001b[0;34m=\u001b[0m\u001b[0;34m'Expected'\u001b[0m\u001b[0;34m)\u001b[0m\u001b[0;34m\u001b[0m\u001b[0;34m\u001b[0m\u001b[0m\n\u001b[0;32m----> 4\u001b[0;31m \u001b[0mformat_plot\u001b[0m\u001b[0;34m(\u001b[0m\u001b[0max\u001b[0m\u001b[0;34m=\u001b[0m\u001b[0mplt\u001b[0m\u001b[0;34m.\u001b[0m\u001b[0mgca\u001b[0m\u001b[0;34m(\u001b[0m\u001b[0;34m)\u001b[0m\u001b[0;34m,\u001b[0m\u001b[0mxlabel\u001b[0m\u001b[0;34m=\u001b[0m\u001b[0;34mr'$t_f-t$ (sec)'\u001b[0m\u001b[0;34m,\u001b[0m\u001b[0mylabel\u001b[0m\u001b[0;34m=\u001b[0m\u001b[0;34mr'MSR (cm$^2$)'\u001b[0m\u001b[0;34m,\u001b[0m\u001b[0mc\u001b[0m\u001b[0;34m=\u001b[0m\u001b[0;34m'gray'\u001b[0m\u001b[0;34m)\u001b[0m\u001b[0;34m\u001b[0m\u001b[0;34m\u001b[0m\u001b[0m\n\u001b[0m\u001b[1;32m      5\u001b[0m \u001b[0mplt\u001b[0m\u001b[0;34m.\u001b[0m\u001b[0mlegend\u001b[0m\u001b[0;34m(\u001b[0m\u001b[0mfontsize\u001b[0m\u001b[0;34m=\u001b[0m\u001b[0;36m18\u001b[0m\u001b[0;34m)\u001b[0m\u001b[0;34m\u001b[0m\u001b[0;34m\u001b[0m\u001b[0m\n\u001b[1;32m      6\u001b[0m \u001b[0mplt\u001b[0m\u001b[0;34m.\u001b[0m\u001b[0mshow\u001b[0m\u001b[0;34m(\u001b[0m\u001b[0;34m)\u001b[0m\u001b[0;34m\u001b[0m\u001b[0;34m\u001b[0m\u001b[0m\n",
      "\u001b[0;32m~/Documents/GitHub/bgmc/python/lib/viewer/bluf/pdf_utils.py\u001b[0m in \u001b[0;36mformat_plot\u001b[0;34m(ax, xlabel, ylabel, fontsize, use_loglog, **kwargs)\u001b[0m\n\u001b[1;32m     17\u001b[0m     \u001b[0max\u001b[0m\u001b[0;34m.\u001b[0m\u001b[0mset_xlabel\u001b[0m\u001b[0;34m(\u001b[0m\u001b[0mxlabel\u001b[0m\u001b[0;34m,\u001b[0m\u001b[0mfontsize\u001b[0m\u001b[0;34m=\u001b[0m\u001b[0mfontsize\u001b[0m\u001b[0;34m,\u001b[0m\u001b[0;34m**\u001b[0m\u001b[0mkwargs\u001b[0m\u001b[0;34m)\u001b[0m\u001b[0;34m\u001b[0m\u001b[0;34m\u001b[0m\u001b[0m\n\u001b[1;32m     18\u001b[0m     \u001b[0max\u001b[0m\u001b[0;34m.\u001b[0m\u001b[0mset_ylabel\u001b[0m\u001b[0;34m(\u001b[0m\u001b[0mylabel\u001b[0m\u001b[0;34m,\u001b[0m\u001b[0mfontsize\u001b[0m\u001b[0;34m=\u001b[0m\u001b[0mfontsize\u001b[0m\u001b[0;34m,\u001b[0m\u001b[0;34m**\u001b[0m\u001b[0mkwargs\u001b[0m\u001b[0;34m)\u001b[0m\u001b[0;34m\u001b[0m\u001b[0;34m\u001b[0m\u001b[0m\n\u001b[0;32m---> 19\u001b[0;31m     \u001b[0max\u001b[0m\u001b[0;34m.\u001b[0m\u001b[0mtick_params\u001b[0m\u001b[0;34m(\u001b[0m\u001b[0maxis\u001b[0m\u001b[0;34m=\u001b[0m\u001b[0;34m'both'\u001b[0m\u001b[0;34m,\u001b[0m \u001b[0mwhich\u001b[0m\u001b[0;34m=\u001b[0m\u001b[0;34m'major'\u001b[0m\u001b[0;34m,\u001b[0m \u001b[0mlabelsize\u001b[0m\u001b[0;34m=\u001b[0m\u001b[0mfontsize\u001b[0m\u001b[0;34m,\u001b[0m\u001b[0;34m**\u001b[0m\u001b[0mkwargs\u001b[0m\u001b[0;34m)\u001b[0m\u001b[0;34m\u001b[0m\u001b[0;34m\u001b[0m\u001b[0m\n\u001b[0m\u001b[1;32m     20\u001b[0m     \u001b[0max\u001b[0m\u001b[0;34m.\u001b[0m\u001b[0mtick_params\u001b[0m\u001b[0;34m(\u001b[0m\u001b[0maxis\u001b[0m\u001b[0;34m=\u001b[0m\u001b[0;34m'both'\u001b[0m\u001b[0;34m,\u001b[0m \u001b[0mwhich\u001b[0m\u001b[0;34m=\u001b[0m\u001b[0;34m'minor'\u001b[0m\u001b[0;34m,\u001b[0m \u001b[0mlabelsize\u001b[0m\u001b[0;34m=\u001b[0m\u001b[0;36m0\u001b[0m\u001b[0;34m,\u001b[0m\u001b[0;34m**\u001b[0m\u001b[0mkwargs\u001b[0m\u001b[0;34m)\u001b[0m\u001b[0;34m\u001b[0m\u001b[0;34m\u001b[0m\u001b[0m\n\u001b[1;32m     21\u001b[0m     \u001b[0;32mreturn\u001b[0m \u001b[0;32mTrue\u001b[0m\u001b[0;34m\u001b[0m\u001b[0;34m\u001b[0m\u001b[0m\n",
      "\u001b[0;32m~/anaconda3/envs/pyenv_ub/lib/python3.7/site-packages/matplotlib/axes/_base.py\u001b[0m in \u001b[0;36mtick_params\u001b[0;34m(self, axis, **kwargs)\u001b[0m\n\u001b[1;32m   3255\u001b[0m             \u001b[0mxkw\u001b[0m\u001b[0;34m.\u001b[0m\u001b[0mpop\u001b[0m\u001b[0;34m(\u001b[0m\u001b[0;34m'labelleft'\u001b[0m\u001b[0;34m,\u001b[0m \u001b[0;32mNone\u001b[0m\u001b[0;34m)\u001b[0m\u001b[0;34m\u001b[0m\u001b[0;34m\u001b[0m\u001b[0m\n\u001b[1;32m   3256\u001b[0m             \u001b[0mxkw\u001b[0m\u001b[0;34m.\u001b[0m\u001b[0mpop\u001b[0m\u001b[0;34m(\u001b[0m\u001b[0;34m'labelright'\u001b[0m\u001b[0;34m,\u001b[0m \u001b[0;32mNone\u001b[0m\u001b[0;34m)\u001b[0m\u001b[0;34m\u001b[0m\u001b[0;34m\u001b[0m\u001b[0m\n\u001b[0;32m-> 3257\u001b[0;31m             \u001b[0mself\u001b[0m\u001b[0;34m.\u001b[0m\u001b[0mxaxis\u001b[0m\u001b[0;34m.\u001b[0m\u001b[0mset_tick_params\u001b[0m\u001b[0;34m(\u001b[0m\u001b[0;34m**\u001b[0m\u001b[0mxkw\u001b[0m\u001b[0;34m)\u001b[0m\u001b[0;34m\u001b[0m\u001b[0;34m\u001b[0m\u001b[0m\n\u001b[0m\u001b[1;32m   3258\u001b[0m         \u001b[0;32mif\u001b[0m \u001b[0maxis\u001b[0m \u001b[0;32min\u001b[0m \u001b[0;34m[\u001b[0m\u001b[0;34m'y'\u001b[0m\u001b[0;34m,\u001b[0m \u001b[0;34m'both'\u001b[0m\u001b[0;34m]\u001b[0m\u001b[0;34m:\u001b[0m\u001b[0;34m\u001b[0m\u001b[0;34m\u001b[0m\u001b[0m\n\u001b[1;32m   3259\u001b[0m             \u001b[0mykw\u001b[0m \u001b[0;34m=\u001b[0m \u001b[0mdict\u001b[0m\u001b[0;34m(\u001b[0m\u001b[0mkwargs\u001b[0m\u001b[0;34m)\u001b[0m\u001b[0;34m\u001b[0m\u001b[0;34m\u001b[0m\u001b[0m\n",
      "\u001b[0;32m~/anaconda3/envs/pyenv_ub/lib/python3.7/site-packages/matplotlib/axis.py\u001b[0m in \u001b[0;36mset_tick_params\u001b[0;34m(self, which, reset, **kw)\u001b[0m\n\u001b[1;32m    839\u001b[0m         \"\"\"\n\u001b[1;32m    840\u001b[0m         \u001b[0m_api\u001b[0m\u001b[0;34m.\u001b[0m\u001b[0mcheck_in_list\u001b[0m\u001b[0;34m(\u001b[0m\u001b[0;34m[\u001b[0m\u001b[0;34m'major'\u001b[0m\u001b[0;34m,\u001b[0m \u001b[0;34m'minor'\u001b[0m\u001b[0;34m,\u001b[0m \u001b[0;34m'both'\u001b[0m\u001b[0;34m]\u001b[0m\u001b[0;34m,\u001b[0m \u001b[0mwhich\u001b[0m\u001b[0;34m=\u001b[0m\u001b[0mwhich\u001b[0m\u001b[0;34m)\u001b[0m\u001b[0;34m\u001b[0m\u001b[0;34m\u001b[0m\u001b[0m\n\u001b[0;32m--> 841\u001b[0;31m         \u001b[0mkwtrans\u001b[0m \u001b[0;34m=\u001b[0m \u001b[0mself\u001b[0m\u001b[0;34m.\u001b[0m\u001b[0m_translate_tick_kw\u001b[0m\u001b[0;34m(\u001b[0m\u001b[0mkw\u001b[0m\u001b[0;34m)\u001b[0m\u001b[0;34m\u001b[0m\u001b[0;34m\u001b[0m\u001b[0m\n\u001b[0m\u001b[1;32m    842\u001b[0m \u001b[0;34m\u001b[0m\u001b[0m\n\u001b[1;32m    843\u001b[0m         \u001b[0;31m# the kwargs are stored in self._major/minor_tick_kw so that any\u001b[0m\u001b[0;34m\u001b[0m\u001b[0;34m\u001b[0m\u001b[0;34m\u001b[0m\u001b[0m\n",
      "\u001b[0;32m~/anaconda3/envs/pyenv_ub/lib/python3.7/site-packages/matplotlib/axis.py\u001b[0m in \u001b[0;36m_translate_tick_kw\u001b[0;34m(kw)\u001b[0m\n\u001b[1;32m    911\u001b[0m                 raise ValueError(\n\u001b[1;32m    912\u001b[0m                     \u001b[0;34m\"keyword %s is not recognized; valid keywords are %s\"\u001b[0m\u001b[0;34m\u001b[0m\u001b[0;34m\u001b[0m\u001b[0m\n\u001b[0;32m--> 913\u001b[0;31m                     % (key, kwkeys))\n\u001b[0m\u001b[1;32m    914\u001b[0m         \u001b[0mkwtrans\u001b[0m\u001b[0;34m.\u001b[0m\u001b[0mupdate\u001b[0m\u001b[0;34m(\u001b[0m\u001b[0mkw\u001b[0m\u001b[0;34m)\u001b[0m\u001b[0;34m\u001b[0m\u001b[0;34m\u001b[0m\u001b[0m\n\u001b[1;32m    915\u001b[0m         \u001b[0;32mreturn\u001b[0m \u001b[0mkwtrans\u001b[0m\u001b[0;34m\u001b[0m\u001b[0;34m\u001b[0m\u001b[0m\n",
      "\u001b[0;31mValueError\u001b[0m: keyword c is not recognized; valid keywords are ['size', 'width', 'color', 'tickdir', 'pad', 'labelsize', 'labelcolor', 'zorder', 'gridOn', 'tick1On', 'tick2On', 'label1On', 'label2On', 'length', 'direction', 'left', 'bottom', 'right', 'top', 'labelleft', 'labelbottom', 'labelright', 'labeltop', 'labelrotation', 'grid_agg_filter', 'grid_alpha', 'grid_animated', 'grid_antialiased', 'grid_clip_box', 'grid_clip_on', 'grid_clip_path', 'grid_color', 'grid_contains', 'grid_dash_capstyle', 'grid_dash_joinstyle', 'grid_dashes', 'grid_data', 'grid_drawstyle', 'grid_figure', 'grid_fillstyle', 'grid_gid', 'grid_in_layout', 'grid_label', 'grid_linestyle', 'grid_linewidth', 'grid_marker', 'grid_markeredgecolor', 'grid_markeredgewidth', 'grid_markerfacecolor', 'grid_markerfacecoloralt', 'grid_markersize', 'grid_markevery', 'grid_path_effects', 'grid_picker', 'grid_pickradius', 'grid_rasterized', 'grid_sketch_params', 'grid_snap', 'grid_solid_capstyle', 'grid_solid_joinstyle', 'grid_transform', 'grid_url', 'grid_visible', 'grid_xdata', 'grid_ydata', 'grid_zorder', 'grid_aa', 'grid_c', 'grid_ds', 'grid_ls', 'grid_lw', 'grid_mec', 'grid_mew', 'grid_mfc', 'grid_mfcalt', 'grid_ms']"
     ]
    },
    {
     "data": {
      "image/png": "[encoded data removed]",
      "text/plain": [
       "<Figure size 432x288 with 1 Axes>"
      ]
     },
     "metadata": {
      "needs_background": "light"
     },
     "output_type": "display_data"
    }
   ],
   "source": [
    "plt.plot(t_values,SR_values[::-1,:4])\n",
    "plt.plot(t_values,MSR_values)\n",
    "plt.plot(t_values[1:],t_values[1:]*4*a,c='k',lw=2,alpha=0.5,label='Expected')\n",
    "format_plot(ax=plt.gca(),xlabel=r'$t_f-t$ (sec)',ylabel=r'MSR (cm$^2$)',c='gray')\n",
    "plt.legend(fontsize=18)\n",
    "plt.show()"
   ]
  },
  {
   "cell_type": "code",
   "execution_count": 29,
   "id": "def994e3",
   "metadata": {
    "ExecuteTime": {
     "end_time": "2021-11-04T03:44:02.652396Z",
     "start_time": "2021-11-04T03:44:02.551190Z"
    }
   },
   "outputs": [
    {
     "name": "stdout",
     "output_type": "stream",
     "text": [
      "[2.50364239e-09 1.29990371e-04 2.72744542e-04 ... 3.79730885e-03\n",
      " 4.16655914e-03 4.14747316e-03]\n"
     ]
    },
    {
     "data": {
      "image/png": "[encoded data removed]",
      "text/plain": [
       "<Figure size 432x288 with 1 Axes>"
      ]
     },
     "metadata": {
      "needs_background": "light"
     },
     "output_type": "display_data"
    }
   ],
   "source": [
    "i=6\n",
    "print(range_values[::-1,i]**2)\n",
    "plt.plot(t_values,range_values[::-1,i]**2,c='gray',lw=1,alpha=0.5)\n",
    "plt.show()"
   ]
  },
  {
   "cell_type": "code",
   "execution_count": 30,
   "id": "3a2f9494",
   "metadata": {
    "ExecuteTime": {
     "end_time": "2021-11-04T03:44:10.008672Z",
     "start_time": "2021-11-04T03:44:09.883368Z"
    }
   },
   "outputs": [
    {
     "data": {
      "image/png": "[encoded data removed]",
      "text/plain": [
       "<Figure size 432x288 with 1 Axes>"
      ]
     },
     "metadata": {
      "needs_background": "light"
     },
     "output_type": "display_data"
    }
   ],
   "source": [
    "for i in range(7):#[5,7,100]:\n",
    "    plt.plot(t_values,range_values[::-1,i]**2,c='gray',lw=1,alpha=0.5)\n",
    "format_plot(ax=plt.gca(),xlabel='t (sec)',ylabel=r'MSR (cm$^2$)')\n",
    "plt.show()"
   ]
  },
  {
   "cell_type": "markdown",
   "id": "d2b7b607",
   "metadata": {},
   "source": [
    "I think the problem was from when I was turning off a given particle's simulation.  If a particle stepped within the minimum distance, it had a chance to step out of that minimum distance and then be considered for another time step before being removed from the simulation.  Because of this, every particle had a nontrivial probability of \"stalling\" at the cutoff distance.  This \"stalling\" led to an attraction coefficient that was too small.  \n",
    "\n",
    "After turning off particle motion at the end of each time step, [the simulation produced results in agreement with the case with no diffusion].\n",
    "\n",
    "I produced a small proof supporting the independence of diffusion on the apparent attraction coefficient.  It is attached."
   ]
  },
  {
   "cell_type": "code",
   "execution_count": 31,
   "id": "4577e4fb",
   "metadata": {
    "ExecuteTime": {
     "end_time": "2021-11-04T03:44:16.955681Z",
     "start_time": "2021-11-04T03:44:16.952130Z"
    }
   },
   "outputs": [
    {
     "data": {
      "text/plain": [
       "array([4.80473414e-09, 1.25973647e-04, 2.43063170e-04, ...,\n",
       "       5.08937538e-02, 4.86574743e-02, 4.85614501e-02])"
      ]
     },
     "execution_count": 31,
     "metadata": {},
     "output_type": "execute_result"
    }
   ],
   "source": [
    "MSR_values"
   ]
  },
  {
   "cell_type": "code",
   "execution_count": null,
   "id": "54384820",
   "metadata": {
    "ExecuteTime": {
     "end_time": "2021-11-04T01:11:47.608509Z",
     "start_time": "2021-11-04T01:11:47.608497Z"
    },
    "cell_style": "center"
   },
   "outputs": [],
   "source": [
    "#make a simple plot of MSR vs tf-t\n",
    "for i in [5,7,100,1000,50]:\n",
    "    plt.plot(t_values,range_values[::-1,i]**2,c='gray',lw=1,alpha=0.5)\n",
    "format_plot(ax=plt.gca(),xlabel='t (sec)',ylabel=r'MSR (cm$^2$)')\n",
    "plt.plot(t_values[1:],MSR_values[1:]**2,c='C0',lw=2,alpha=0.5)\n",
    "plt.plot(t_values[1:],t_values[1:]*4*5,c='k',lw=2,alpha=0.5,label='Expected')\n",
    "format_plot(ax=plt.gca(),xlabel=r'$t_f-t$ (sec)',ylabel=r'MSR (cm$^2$)')\n",
    "plt.legend(fontsize=18)\n",
    "plt.show()\n",
    "\n",
    "#TODO: visualize a_SR versus tmax\n",
    "#make a simple plot of MSR vs tf-t\n",
    "for i in range(50):\n",
    "    plt.plot(t_values,range_values[::-1,i]**2,c='gray',lw=1,alpha=0.05)\n",
    "format_plot(ax=plt.gca(),xlabel='t (sec)',ylabel=r'MSR (cm$^2$)')\n",
    "plt.plot(t_values[1:],MSR_values[1:]**2,c='C0',lw=2,alpha=0.5)\n",
    "plt.plot(t_values[1:],t_values[1:]*4*5,c='k',lw=2,alpha=0.5,label='Expected')\n",
    "format_plot(ax=plt.gca(),xlabel=r'$t_f-t$ (sec)',ylabel=r'MSR (cm$^2$)')\n",
    "plt.legend(fontsize=18)\n",
    "plt.show()\n",
    "\n",
    "#TODO: try to understand what the quadratic MSR versus t means"
   ]
  },
  {
   "cell_type": "code",
   "execution_count": null,
   "id": "8cf89e59",
   "metadata": {
    "ExecuteTime": {
     "end_time": "2021-11-04T01:11:47.609385Z",
     "start_time": "2021-11-04T01:11:47.609374Z"
    }
   },
   "outputs": [],
   "source": [
    "#TODO: wrap map from tavg1,tavg2 to a_SR et al"
   ]
  },
  {
   "cell_type": "code",
   "execution_count": null,
   "id": "16494cc5",
   "metadata": {},
   "outputs": [],
   "source": []
  },
  {
   "cell_type": "code",
   "execution_count": null,
   "id": "49056c05",
   "metadata": {},
   "outputs": [],
   "source": []
  },
  {
   "cell_type": "code",
   "execution_count": null,
   "id": "25f634a3",
   "metadata": {
    "ExecuteTime": {
     "end_time": "2021-11-04T01:11:47.610496Z",
     "start_time": "2021-11-04T01:11:47.610482Z"
    }
   },
   "outputs": [],
   "source": [
    "#TODO: dev grid search over tavg1,tavg2 to a dataframe of a_SR et al"
   ]
  },
  {
   "cell_type": "code",
   "execution_count": null,
   "id": "7add01b8",
   "metadata": {
    "ExecuteTime": {
     "end_time": "2021-11-04T01:11:47.611435Z",
     "start_time": "2021-11-04T01:11:47.611422Z"
    }
   },
   "outputs": [],
   "source": [
    "#TODO: save ^that dataframe as csv"
   ]
  },
  {
   "cell_type": "code",
   "execution_count": null,
   "id": "c9278772",
   "metadata": {
    "ExecuteTime": {
     "end_time": "2021-11-04T01:11:47.612292Z",
     "start_time": "2021-11-04T01:11:47.612280Z"
    }
   },
   "outputs": [],
   "source": [
    "#(supposing the tavg1,tavg2 grid search is reasonably fast <1 hour),\n",
    "#TODO: run a dask bag over D=0.,...,1. in min(0.1,x), where x = the minimum stepsize that should finish by the time I wakeup tomorrow\n",
    "#nota bene: without too much difficulty, I could use 50 cores from ssh-miller and use ~5X smaller x..."
   ]
  },
  {
   "cell_type": "code",
   "execution_count": null,
   "id": "37a50a52",
   "metadata": {
    "ExecuteTime": {
     "end_time": "2021-11-04T01:11:47.613170Z",
     "start_time": "2021-11-04T01:11:47.613157Z"
    }
   },
   "outputs": [],
   "source": [
    "    #GOAL: vectorized processing\n",
    "    # DONE: plot the basic results versus time and verify that they look reasonable\n",
    "    # DONE(optional): compute the moving average of particle locations\n",
    "    # DONE: compute all ranges\n",
    "    # DONE: find the row index where the positions first become closer than R_thresh=0.001 cm\n",
    "\n",
    "    #     ylabel_lst=['R (cm)','diffusive\\nstep size (cm)','attractive\\nstep size (cm)']\n",
    "    #     fig,axs=plt.subplots(1,3,figsize=(14,4),constrained_layout=True)\n",
    "    #     for i,(ax,ylabel) in enumerate(zip(axs,ylabel_lst)):\n",
    "    #         ax.plot(mean_array[:,i])\n",
    "    #         ax.fill_between(mean_array[:,i]-1.96*std_array[:,i],mean_array[:,i]+1.96*std_array[:,i],alpha=0.5)\n",
    "    #         format_plot(ax=ax,xlabel='t (sec)',ylabel=ylabel)\n",
    "    #     plt.show()\n"
   ]
  }
 ],
 "metadata": {
  "kernelspec": {
   "display_name": "Python 3 (ipykernel)",
   "language": "python",
   "name": "python3"
  },
  "language_info": {
   "codemirror_mode": {
    "name": "ipython",
    "version": 3
   },
   "file_extension": ".py",
   "mimetype": "text/x-python",
   "name": "python",
   "nbconvert_exporter": "python",
   "pygments_lexer": "ipython3",
   "version": "3.7.10"
  },
  "toc": {
   "base_numbering": 1,
   "nav_menu": {},
   "number_sections": true,
   "sideBar": true,
   "skip_h1_title": false,
   "title_cell": "Table of Contents",
   "title_sidebar": "Contents",
   "toc_cell": false,
   "toc_position": {},
   "toc_section_display": true,
   "toc_window_display": false
  },
  "varInspector": {
   "cols": {
    "lenName": 16,
    "lenType": 16,
    "lenVar": 40
   },
   "kernels_config": {
    "python": {
     "delete_cmd_postfix": "",
     "delete_cmd_prefix": "del ",
     "library": "var_list.py",
     "varRefreshCmd": "print(var_dic_list())"
    },
    "r": {
     "delete_cmd_postfix": ") ",
     "delete_cmd_prefix": "rm(",
     "library": "var_list.r",
     "varRefreshCmd": "cat(var_dic_list()) "
    }
   },
   "types_to_exclude": [
    "module",
    "function",
    "builtin_function_or_method",
    "instance",
    "_Feature"
   ],
   "window_display": false
  }
 },
 "nbformat": 4,
 "nbformat_minor": 5
}
