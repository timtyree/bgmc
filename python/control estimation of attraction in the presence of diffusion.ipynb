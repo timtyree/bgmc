{
 "cells": [
  {
   "cell_type": "markdown",
   "id": "e4f6377b",
   "metadata": {},
   "source": [
    "# control estimation of attraction in the presence of diffusion\n",
    "Tim Tyree<br>\n",
    "11.2.2021"
   ]
  },
  {
   "cell_type": "code",
   "execution_count": 17,
   "id": "fb4c9923",
   "metadata": {
    "ExecuteTime": {
     "end_time": "2021-11-02T23:03:53.271493Z",
     "start_time": "2021-11-02T23:03:53.268351Z"
    }
   },
   "outputs": [],
   "source": [
    "import cupy as cp, numpy as np\n",
    "import time\n",
    "import matplotlib.pyplot as plt\n",
    "from lib import *"
   ]
  },
  {
   "cell_type": "code",
   "execution_count": 2,
   "id": "1ae631b8",
   "metadata": {
    "ExecuteTime": {
     "end_time": "2021-11-02T22:48:37.990174Z",
     "start_time": "2021-11-02T22:48:37.631775Z"
    }
   },
   "outputs": [],
   "source": [
    "darkmode=True\n",
    "if darkmode:\n",
    "    # For darkmode plots\n",
    "    from jupyterthemes import jtplot\n",
    "    jtplot.style(theme='monokai', context='notebook', ticks=True, grid=False)"
   ]
  },
  {
   "cell_type": "code",
   "execution_count": 3,
   "id": "dc71011a",
   "metadata": {
    "ExecuteTime": {
     "end_time": "2021-11-02T22:48:38.103218Z",
     "start_time": "2021-11-02T22:48:37.992044Z"
    }
   },
   "outputs": [],
   "source": [
    "seed=42\n",
    "# #random number stream A\n",
    "# rs = RandomState(MT19937(SeedSequence(seed)))\n",
    "# #random number stream B\n",
    "# # rs = RandomState(MT19937(SeedSequence(987654321)))\n",
    "np.random.seed(seed)\n",
    "cp.random.seed(seed)"
   ]
  },
  {
   "cell_type": "markdown",
   "id": "5705bb8b",
   "metadata": {},
   "source": [
    "# single simulation of diffusion in an unbounded domain\n",
    "- TODO: grid search over D from 0.1 to 2 in steps of 0.1\n",
    "- (GPU accelerate in cupy)\n",
    "- TODO: rewrite it from scratch, developing in vectorized pairs of particles\n",
    "- start 2 particles 1/np.sqrt(2) away from one another\n",
    "\n",
    "__Schema__\n",
    "1. t,x1,x2,y1,y2,pair_num"
   ]
  },
  {
   "cell_type": "code",
   "execution_count": 4,
   "id": "0dccaaac",
   "metadata": {
    "ExecuteTime": {
     "end_time": "2021-11-02T22:48:38.106847Z",
     "start_time": "2021-11-02T22:48:38.104355Z"
    }
   },
   "outputs": [],
   "source": [
    "num_pairs=1500 #number of independent pairs of particles\n",
    "a=2 #cm^2/s known attraction coefficient \n",
    "D=1 #cm^2/s known diffusion coefficient\n",
    "Dt=1e-5\n",
    "print_every=100000"
   ]
  },
  {
   "cell_type": "code",
   "execution_count": 5,
   "id": "3303e8eb",
   "metadata": {
    "ExecuteTime": {
     "end_time": "2021-11-02T22:48:38.115317Z",
     "start_time": "2021-11-02T22:48:38.107894Z"
    }
   },
   "outputs": [],
   "source": [
    "#initialize particles locations as being at the same location for\n",
    "t=0\n",
    "x1=0\n",
    "x2=0.5\n",
    "y1=0\n",
    "y2=0.5\n",
    "zero_values=np.zeros(num_pairs)"
   ]
  },
  {
   "cell_type": "code",
   "execution_count": 6,
   "id": "9113d9cd",
   "metadata": {
    "ExecuteTime": {
     "end_time": "2021-11-02T22:48:38.121100Z",
     "start_time": "2021-11-02T22:48:38.116698Z"
    }
   },
   "outputs": [],
   "source": [
    "x1_values=zero_values.copy()+x1\n",
    "x2_values=zero_values.copy()+x2\n",
    "y1_values=zero_values.copy()+y1\n",
    "y2_values=zero_values.copy()+y2"
   ]
  },
  {
   "cell_type": "code",
   "execution_count": 7,
   "id": "ade1824d",
   "metadata": {
    "ExecuteTime": {
     "end_time": "2021-11-02T22:48:38.130710Z",
     "start_time": "2021-11-02T22:48:38.122411Z"
    }
   },
   "outputs": [],
   "source": [
    "stepscale = np.sqrt(2 * D * Dt)\n",
    "impulse_prefactor = a * Dt"
   ]
  },
  {
   "cell_type": "code",
   "execution_count": 8,
   "id": "06b345ac",
   "metadata": {
    "ExecuteTime": {
     "end_time": "2021-11-02T22:49:03.930818Z",
     "start_time": "2021-11-02T22:48:38.132151Z"
    }
   },
   "outputs": [
    {
     "data": {
      "text/plain": [
       "1000000"
      ]
     },
     "execution_count": 8,
     "metadata": {},
     "output_type": "execute_result"
    }
   ],
   "source": [
    "tmax=10#0.1#1 #seconds\n",
    "num_steps=np.int(np.around(tmax/Dt))\n",
    "\n",
    "position_array=np.zeros(shape=(num_steps,4,num_pairs))+np.nan\n",
    "mean_array=np.zeros(shape=(num_steps,3))\n",
    "std_array=np.zeros(shape=(num_steps,3))\n",
    "num_steps"
   ]
  },
  {
   "cell_type": "code",
   "execution_count": 9,
   "id": "5357901f",
   "metadata": {
    "ExecuteTime": {
     "end_time": "2021-11-02T22:49:03.935177Z",
     "start_time": "2021-11-02T22:49:03.932128Z"
    }
   },
   "outputs": [],
   "source": [
    "#GOAL: add support for still_running\n",
    "rend=0.001 #cm\n",
    "boo_still_running=zero_values==zero_values\n",
    "#TODO: initiallize still_running to True\n",
    "#TODO: compute boo where particles become smaller than R_"
   ]
  },
  {
   "cell_type": "code",
   "execution_count": 10,
   "id": "8b28c441",
   "metadata": {
    "ExecuteTime": {
     "end_time": "2021-11-02T22:54:21.328382Z",
     "start_time": "2021-11-02T22:49:03.936503Z"
    }
   },
   "outputs": [
    {
     "name": "stdout",
     "output_type": "stream",
     "text": [
      "running simulation for 1000000 steps...\n",
      "step #2000/1000000: R=0.6511+/-1.2762, diffusion/attraction is 745.70%\n",
      "step #4000/1000000: R=0.6015+/-1.1790, diffusion/attraction is 94.38%\n",
      "step #6000/1000000: R=0.5385+/-1.0554, diffusion/attraction is 43.14%\n",
      "step #8000/1000000: R=0.4895+/-0.9594, diffusion/attraction is 33.22%\n",
      "step #10000/1000000: R=0.4587+/-0.8990, diffusion/attraction is 28.09%\n",
      "step #12000/1000000: R=0.4353+/-0.8532, diffusion/attraction is 25.60%\n",
      "step #14000/1000000: R=0.4095+/-0.8027, diffusion/attraction is 23.57%\n",
      "step #16000/1000000: R=0.3919+/-0.7681, diffusion/attraction is 22.23%\n",
      "step #18000/1000000: R=0.3723+/-0.7296, diffusion/attraction is 20.72%\n",
      "step #20000/1000000: R=0.3592+/-0.7041, diffusion/attraction is 19.65%\n",
      "step #22000/1000000: R=0.3506+/-0.6873, diffusion/attraction is 19.03%\n",
      "step #24000/1000000: R=0.3383+/-0.6631, diffusion/attraction is 18.69%\n",
      "step #26000/1000000: R=0.3309+/-0.6485, diffusion/attraction is 17.99%\n",
      "step #28000/1000000: R=0.3225+/-0.6321, diffusion/attraction is 17.62%\n",
      "step #30000/1000000: R=0.3116+/-0.6108, diffusion/attraction is 17.34%\n",
      "step #32000/1000000: R=0.2991+/-0.5862, diffusion/attraction is 17.17%\n",
      "step #34000/1000000: R=0.2862+/-0.5610, diffusion/attraction is 16.86%\n",
      "step #36000/1000000: R=0.2760+/-0.5410, diffusion/attraction is 16.64%\n",
      "step #38000/1000000: R=0.2672+/-0.5238, diffusion/attraction is 16.70%\n",
      "step #40000/1000000: R=0.2578+/-0.5053, diffusion/attraction is 16.26%\n",
      "step #42000/1000000: R=0.2516+/-0.4931, diffusion/attraction is 16.24%\n",
      "step #44000/1000000: R=0.2451+/-0.4804, diffusion/attraction is 15.92%\n",
      "step #46000/1000000: R=0.2431+/-0.4765, diffusion/attraction is 15.92%\n",
      "step #48000/1000000: R=0.2362+/-0.4630, diffusion/attraction is 16.02%\n",
      "step #50000/1000000: R=0.2299+/-0.4506, diffusion/attraction is 15.66%\n",
      "step #52000/1000000: R=0.2259+/-0.4428, diffusion/attraction is 15.63%\n",
      "step #54000/1000000: R=0.2215+/-0.4342, diffusion/attraction is 15.31%\n",
      "step #56000/1000000: R=0.2166+/-0.4245, diffusion/attraction is 15.37%\n",
      "step #58000/1000000: R=0.2136+/-0.4186, diffusion/attraction is 15.15%\n",
      "step #60000/1000000: R=0.2084+/-0.4084, diffusion/attraction is 15.10%\n",
      "step #62000/1000000: R=0.2067+/-0.4052, diffusion/attraction is 15.10%\n",
      "step #64000/1000000: R=0.1981+/-0.3883, diffusion/attraction is 15.18%\n",
      "step #66000/1000000: R=0.1951+/-0.3824, diffusion/attraction is 14.87%\n",
      "step #68000/1000000: R=0.1910+/-0.3744, diffusion/attraction is 14.89%\n",
      "step #70000/1000000: R=0.1886+/-0.3696, diffusion/attraction is 14.87%\n",
      "step #72000/1000000: R=0.1867+/-0.3660, diffusion/attraction is 14.56%\n",
      "step #74000/1000000: R=0.1802+/-0.3532, diffusion/attraction is 14.44%\n",
      "step #76000/1000000: R=0.1757+/-0.3444, diffusion/attraction is 14.76%\n",
      "step #78000/1000000: R=0.1730+/-0.3391, diffusion/attraction is 14.79%\n",
      "step #80000/1000000: R=0.1718+/-0.3367, diffusion/attraction is 14.85%\n",
      "step #82000/1000000: R=0.1714+/-0.3360, diffusion/attraction is 15.01%\n",
      "step #84000/1000000: R=0.1699+/-0.3329, diffusion/attraction is 14.32%\n",
      "step #86000/1000000: R=0.1708+/-0.3347, diffusion/attraction is 14.32%\n",
      "step #88000/1000000: R=0.1690+/-0.3312, diffusion/attraction is 14.59%\n",
      "step #90000/1000000: R=0.1646+/-0.3227, diffusion/attraction is 14.35%\n",
      "step #92000/1000000: R=0.1661+/-0.3255, diffusion/attraction is 14.35%\n",
      "step #94000/1000000: R=0.1675+/-0.3284, diffusion/attraction is 14.41%\n",
      "step #96000/1000000: R=0.1651+/-0.3236, diffusion/attraction is 14.32%\n",
      "step #98000/1000000: R=0.1644+/-0.3222, diffusion/attraction is 14.43%\n",
      "step #100000/1000000: R=0.1630+/-0.3194, diffusion/attraction is 14.57%\n",
      "step #102000/1000000: R=0.1605+/-0.3145, diffusion/attraction is 14.36%\n",
      "step #104000/1000000: R=0.1568+/-0.3073, diffusion/attraction is 14.38%\n",
      "step #106000/1000000: R=0.1568+/-0.3073, diffusion/attraction is 14.38%\n",
      "step #108000/1000000: R=0.1534+/-0.3007, diffusion/attraction is 14.52%\n",
      "step #110000/1000000: R=0.1531+/-0.3000, diffusion/attraction is 14.48%\n",
      "step #112000/1000000: R=0.1558+/-0.3053, diffusion/attraction is 14.38%\n",
      "step #114000/1000000: R=0.1595+/-0.3126, diffusion/attraction is 14.57%\n",
      "step #116000/1000000: R=0.1573+/-0.3084, diffusion/attraction is 14.28%\n",
      "step #118000/1000000: R=0.1578+/-0.3093, diffusion/attraction is 14.37%\n",
      "step #120000/1000000: R=0.1586+/-0.3109, diffusion/attraction is 14.28%\n",
      "step #122000/1000000: R=0.1559+/-0.3055, diffusion/attraction is 14.13%\n",
      "step #124000/1000000: R=0.1572+/-0.3080, diffusion/attraction is 14.46%\n",
      "step #126000/1000000: R=0.1576+/-0.3090, diffusion/attraction is 14.14%\n",
      "step #128000/1000000: R=0.1556+/-0.3051, diffusion/attraction is 14.40%\n",
      "step #130000/1000000: R=0.1542+/-0.3022, diffusion/attraction is 14.10%\n",
      "step #132000/1000000: R=0.1538+/-0.3014, diffusion/attraction is 14.06%\n",
      "step #134000/1000000: R=0.1522+/-0.2984, diffusion/attraction is 14.37%\n",
      "step #136000/1000000: R=0.1493+/-0.2927, diffusion/attraction is 14.37%\n",
      "step #138000/1000000: R=0.1469+/-0.2880, diffusion/attraction is 14.33%\n",
      "step #140000/1000000: R=0.1462+/-0.2866, diffusion/attraction is 14.17%\n",
      "step #142000/1000000: R=0.1472+/-0.2885, diffusion/attraction is 14.05%\n",
      "step #144000/1000000: R=0.1484+/-0.2909, diffusion/attraction is 14.39%\n",
      "step #146000/1000000: R=0.1454+/-0.2850, diffusion/attraction is 14.24%\n",
      "step #148000/1000000: R=0.1414+/-0.2772, diffusion/attraction is 14.18%\n",
      "step #150000/1000000: R=0.1422+/-0.2787, diffusion/attraction is 14.33%\n",
      "step #152000/1000000: R=0.1424+/-0.2792, diffusion/attraction is 14.11%\n",
      "step #154000/1000000: R=0.1412+/-0.2767, diffusion/attraction is 13.88%\n",
      "step #156000/1000000: R=0.1402+/-0.2749, diffusion/attraction is 14.21%\n",
      "step #158000/1000000: R=0.1384+/-0.2713, diffusion/attraction is 14.10%\n",
      "step #160000/1000000: R=0.1371+/-0.2688, diffusion/attraction is 13.86%\n",
      "step #162000/1000000: R=0.1369+/-0.2683, diffusion/attraction is 14.17%\n",
      "step #164000/1000000: R=0.1370+/-0.2685, diffusion/attraction is 13.98%\n",
      "step #166000/1000000: R=0.1385+/-0.2715, diffusion/attraction is 14.03%\n",
      "step #168000/1000000: R=0.1381+/-0.2706, diffusion/attraction is 13.96%\n",
      "step #170000/1000000: R=0.1390+/-0.2724, diffusion/attraction is 13.96%\n",
      "step #172000/1000000: R=0.1369+/-0.2683, diffusion/attraction is 13.82%\n",
      "step #174000/1000000: R=0.1351+/-0.2648, diffusion/attraction is 13.99%\n",
      "step #176000/1000000: R=0.1315+/-0.2577, diffusion/attraction is 13.96%\n",
      "step #178000/1000000: R=0.1318+/-0.2584, diffusion/attraction is 14.28%\n",
      "step #180000/1000000: R=0.1280+/-0.2509, diffusion/attraction is 13.97%\n",
      "step #182000/1000000: R=0.1275+/-0.2499, diffusion/attraction is 13.77%\n",
      "step #184000/1000000: R=0.1271+/-0.2492, diffusion/attraction is 14.05%\n",
      "step #186000/1000000: R=0.1272+/-0.2493, diffusion/attraction is 14.03%\n",
      "step #188000/1000000: R=0.1275+/-0.2499, diffusion/attraction is 13.94%\n",
      "step #190000/1000000: R=0.1276+/-0.2501, diffusion/attraction is 13.99%\n",
      "step #192000/1000000: R=0.1282+/-0.2513, diffusion/attraction is 13.90%\n",
      "step #194000/1000000: R=0.1287+/-0.2522, diffusion/attraction is 13.97%\n",
      "step #196000/1000000: R=0.1287+/-0.2522, diffusion/attraction is 13.98%\n",
      "step #198000/1000000: R=0.1279+/-0.2507, diffusion/attraction is 14.20%\n",
      "step #200000/1000000: R=0.1264+/-0.2478, diffusion/attraction is 13.74%\n",
      "step #202000/1000000: R=0.1256+/-0.2462, diffusion/attraction is 13.98%\n",
      "step #204000/1000000: R=0.1243+/-0.2436, diffusion/attraction is 13.90%\n",
      "step #206000/1000000: R=0.1249+/-0.2447, diffusion/attraction is 13.86%\n",
      "step #208000/1000000: R=0.1228+/-0.2407, diffusion/attraction is 13.78%\n",
      "step #210000/1000000: R=0.1222+/-0.2394, diffusion/attraction is 14.09%\n",
      "step #212000/1000000: R=0.1205+/-0.2361, diffusion/attraction is 13.99%\n",
      "step #214000/1000000: R=0.1201+/-0.2355, diffusion/attraction is 13.83%\n",
      "step #216000/1000000: R=0.1197+/-0.2347, diffusion/attraction is 13.83%\n",
      "step #218000/1000000: R=0.1202+/-0.2356, diffusion/attraction is 13.83%\n",
      "step #220000/1000000: R=0.1211+/-0.2374, diffusion/attraction is 13.93%\n",
      "step #222000/1000000: R=0.1198+/-0.2347, diffusion/attraction is 14.07%\n",
      "step #224000/1000000: R=0.1178+/-0.2309, diffusion/attraction is 13.97%\n",
      "step #226000/1000000: R=0.1176+/-0.2306, diffusion/attraction is 13.80%\n",
      "step #228000/1000000: R=0.1148+/-0.2249, diffusion/attraction is 14.01%\n"
     ]
    },
    {
     "name": "stdout",
     "output_type": "stream",
     "text": [
      "step #230000/1000000: R=0.1156+/-0.2265, diffusion/attraction is 14.11%\n",
      "step #232000/1000000: R=0.1182+/-0.2316, diffusion/attraction is 14.10%\n",
      "step #234000/1000000: R=0.1163+/-0.2279, diffusion/attraction is 13.91%\n",
      "step #236000/1000000: R=0.1164+/-0.2282, diffusion/attraction is 13.95%\n",
      "step #238000/1000000: R=0.1152+/-0.2258, diffusion/attraction is 13.86%\n",
      "step #240000/1000000: R=0.1139+/-0.2233, diffusion/attraction is 13.77%\n",
      "step #242000/1000000: R=0.1139+/-0.2233, diffusion/attraction is 13.99%\n",
      "step #244000/1000000: R=0.1128+/-0.2212, diffusion/attraction is 13.98%\n",
      "step #246000/1000000: R=0.1152+/-0.2259, diffusion/attraction is 13.77%\n",
      "step #248000/1000000: R=0.1157+/-0.2269, diffusion/attraction is 13.93%\n",
      "step #250000/1000000: R=0.1146+/-0.2247, diffusion/attraction is 14.00%\n",
      "step #252000/1000000: R=0.1154+/-0.2261, diffusion/attraction is 13.85%\n",
      "step #254000/1000000: R=0.1170+/-0.2293, diffusion/attraction is 13.94%\n",
      "step #256000/1000000: R=0.1187+/-0.2327, diffusion/attraction is 13.96%\n",
      "step #258000/1000000: R=0.1179+/-0.2310, diffusion/attraction is 13.91%\n",
      "step #260000/1000000: R=0.1173+/-0.2298, diffusion/attraction is 14.06%\n",
      "step #262000/1000000: R=0.1180+/-0.2312, diffusion/attraction is 13.73%\n",
      "step #264000/1000000: R=0.1185+/-0.2323, diffusion/attraction is 13.98%\n",
      "step #266000/1000000: R=0.1176+/-0.2305, diffusion/attraction is 13.84%\n",
      "step #268000/1000000: R=0.1176+/-0.2306, diffusion/attraction is 13.83%\n",
      "step #270000/1000000: R=0.1171+/-0.2296, diffusion/attraction is 13.70%\n",
      "step #272000/1000000: R=0.1181+/-0.2314, diffusion/attraction is 13.81%\n",
      "step #274000/1000000: R=0.1161+/-0.2276, diffusion/attraction is 13.75%\n",
      "step #276000/1000000: R=0.1142+/-0.2239, diffusion/attraction is 13.75%\n",
      "step #278000/1000000: R=0.1150+/-0.2255, diffusion/attraction is 13.92%\n",
      "step #280000/1000000: R=0.1161+/-0.2275, diffusion/attraction is 13.90%\n",
      "step #282000/1000000: R=0.1146+/-0.2246, diffusion/attraction is 13.93%\n",
      "step #284000/1000000: R=0.1137+/-0.2229, diffusion/attraction is 14.05%\n",
      "step #286000/1000000: R=0.1121+/-0.2197, diffusion/attraction is 13.92%\n",
      "step #288000/1000000: R=0.1125+/-0.2205, diffusion/attraction is 13.97%\n",
      "step #290000/1000000: R=0.1118+/-0.2192, diffusion/attraction is 13.75%\n",
      "step #292000/1000000: R=0.1107+/-0.2169, diffusion/attraction is 13.72%\n",
      "step #294000/1000000: R=0.1084+/-0.2125, diffusion/attraction is 14.04%\n",
      "step #296000/1000000: R=0.1092+/-0.2141, diffusion/attraction is 13.91%\n",
      "step #298000/1000000: R=0.1079+/-0.2114, diffusion/attraction is 13.62%\n",
      "step #300000/1000000: R=0.1077+/-0.2110, diffusion/attraction is 13.62%\n",
      "step #302000/1000000: R=0.1076+/-0.2110, diffusion/attraction is 13.83%\n",
      "step #304000/1000000: R=0.1083+/-0.2122, diffusion/attraction is 13.79%\n",
      "step #306000/1000000: R=0.1072+/-0.2101, diffusion/attraction is 13.68%\n",
      "step #308000/1000000: R=0.1076+/-0.2109, diffusion/attraction is 13.72%\n",
      "step #310000/1000000: R=0.1078+/-0.2113, diffusion/attraction is 13.80%\n",
      "step #312000/1000000: R=0.1071+/-0.2098, diffusion/attraction is 13.98%\n",
      "step #314000/1000000: R=0.1073+/-0.2103, diffusion/attraction is 13.80%\n",
      "step #316000/1000000: R=0.1083+/-0.2123, diffusion/attraction is 13.75%\n",
      "step #318000/1000000: R=0.1085+/-0.2126, diffusion/attraction is 13.88%\n",
      "step #320000/1000000: R=0.1097+/-0.2151, diffusion/attraction is 13.82%\n",
      "step #322000/1000000: R=0.1084+/-0.2125, diffusion/attraction is 13.88%\n",
      "step #324000/1000000: R=0.1087+/-0.2131, diffusion/attraction is 13.88%\n",
      "step #326000/1000000: R=0.1084+/-0.2124, diffusion/attraction is 13.83%\n",
      "step #328000/1000000: R=0.1089+/-0.2135, diffusion/attraction is 13.74%\n",
      "step #330000/1000000: R=0.1088+/-0.2133, diffusion/attraction is 14.01%\n",
      "step #332000/1000000: R=0.1086+/-0.2128, diffusion/attraction is 13.91%\n",
      "step #334000/1000000: R=0.1093+/-0.2142, diffusion/attraction is 13.79%\n",
      "step #336000/1000000: R=0.1078+/-0.2112, diffusion/attraction is 13.76%\n",
      "step #338000/1000000: R=0.1083+/-0.2123, diffusion/attraction is 13.81%\n",
      "step #340000/1000000: R=0.1080+/-0.2117, diffusion/attraction is 13.67%\n",
      "step #342000/1000000: R=0.1072+/-0.2102, diffusion/attraction is 14.08%\n",
      "step #344000/1000000: R=0.1080+/-0.2117, diffusion/attraction is 13.68%\n",
      "step #346000/1000000: R=0.1079+/-0.2115, diffusion/attraction is 13.71%\n",
      "step #348000/1000000: R=0.1094+/-0.2144, diffusion/attraction is 13.87%\n",
      "step #350000/1000000: R=0.1102+/-0.2160, diffusion/attraction is 13.68%\n",
      "step #352000/1000000: R=0.1107+/-0.2171, diffusion/attraction is 13.69%\n",
      "step #354000/1000000: R=0.1110+/-0.2175, diffusion/attraction is 13.56%\n",
      "step #356000/1000000: R=0.1123+/-0.2200, diffusion/attraction is 13.75%\n",
      "step #358000/1000000: R=0.1129+/-0.2213, diffusion/attraction is 13.83%\n",
      "step #360000/1000000: R=0.1132+/-0.2219, diffusion/attraction is 13.57%\n",
      "step #362000/1000000: R=0.1124+/-0.2203, diffusion/attraction is 13.71%\n",
      "step #364000/1000000: R=0.1117+/-0.2190, diffusion/attraction is 13.73%\n",
      "step #366000/1000000: R=0.1120+/-0.2195, diffusion/attraction is 13.74%\n",
      "step #368000/1000000: R=0.1118+/-0.2191, diffusion/attraction is 13.48%\n",
      "step #370000/1000000: R=0.1114+/-0.2183, diffusion/attraction is 13.67%\n",
      "step #372000/1000000: R=0.1097+/-0.2151, diffusion/attraction is 13.89%\n",
      "step #374000/1000000: R=0.1092+/-0.2141, diffusion/attraction is 13.54%\n",
      "step #376000/1000000: R=0.1096+/-0.2149, diffusion/attraction is 13.61%\n",
      "step #378000/1000000: R=0.1096+/-0.2148, diffusion/attraction is 13.74%\n",
      "step #380000/1000000: R=0.1077+/-0.2111, diffusion/attraction is 13.58%\n",
      "step #382000/1000000: R=0.1085+/-0.2127, diffusion/attraction is 14.09%\n",
      "step #384000/1000000: R=0.1086+/-0.2129, diffusion/attraction is 13.87%\n",
      "step #386000/1000000: R=0.1083+/-0.2123, diffusion/attraction is 13.82%\n",
      "step #388000/1000000: R=0.1091+/-0.2138, diffusion/attraction is 13.85%\n",
      "step #390000/1000000: R=0.1088+/-0.2132, diffusion/attraction is 13.73%\n",
      "step #392000/1000000: R=0.1080+/-0.2117, diffusion/attraction is 13.95%\n",
      "step #394000/1000000: R=0.1090+/-0.2137, diffusion/attraction is 13.97%\n",
      "step #396000/1000000: R=0.1089+/-0.2135, diffusion/attraction is 13.74%\n",
      "step #398000/1000000: R=0.1093+/-0.2142, diffusion/attraction is 13.84%\n",
      "step #400000/1000000: R=0.1091+/-0.2138, diffusion/attraction is 13.75%\n",
      "step #402000/1000000: R=0.1100+/-0.2156, diffusion/attraction is 13.63%\n",
      "step #404000/1000000: R=0.1090+/-0.2136, diffusion/attraction is 13.65%\n",
      "step #406000/1000000: R=0.1094+/-0.2145, diffusion/attraction is 13.91%\n",
      "step #408000/1000000: R=0.1087+/-0.2130, diffusion/attraction is 13.62%\n",
      "step #410000/1000000: R=0.1086+/-0.2128, diffusion/attraction is 13.71%\n",
      "step #412000/1000000: R=0.1085+/-0.2127, diffusion/attraction is 13.89%\n",
      "step #414000/1000000: R=0.1089+/-0.2135, diffusion/attraction is 13.65%\n",
      "step #416000/1000000: R=0.1095+/-0.2146, diffusion/attraction is 13.77%\n",
      "step #418000/1000000: R=0.1096+/-0.2149, diffusion/attraction is 13.70%\n",
      "step #420000/1000000: R=0.1092+/-0.2140, diffusion/attraction is 13.65%\n",
      "step #422000/1000000: R=0.1080+/-0.2116, diffusion/attraction is 13.90%\n",
      "step #424000/1000000: R=0.1074+/-0.2106, diffusion/attraction is 13.67%\n",
      "step #426000/1000000: R=0.1082+/-0.2121, diffusion/attraction is 13.59%\n",
      "step #428000/1000000: R=0.1067+/-0.2092, diffusion/attraction is 13.67%\n",
      "step #430000/1000000: R=0.1090+/-0.2137, diffusion/attraction is 13.87%\n",
      "step #432000/1000000: R=0.1082+/-0.2120, diffusion/attraction is 13.86%\n",
      "step #434000/1000000: R=0.1078+/-0.2113, diffusion/attraction is 13.79%\n",
      "step #436000/1000000: R=0.1076+/-0.2109, diffusion/attraction is 13.98%\n",
      "step #438000/1000000: R=0.1064+/-0.2086, diffusion/attraction is 13.94%\n",
      "step #440000/1000000: R=0.1068+/-0.2094, diffusion/attraction is 13.78%\n",
      "step #442000/1000000: R=0.1066+/-0.2089, diffusion/attraction is 13.93%\n",
      "step #444000/1000000: R=0.1057+/-0.2072, diffusion/attraction is 13.81%\n",
      "step #446000/1000000: R=0.1043+/-0.2045, diffusion/attraction is 13.93%\n",
      "step #448000/1000000: R=0.1047+/-0.2052, diffusion/attraction is 13.68%\n",
      "step #450000/1000000: R=0.1046+/-0.2051, diffusion/attraction is 13.65%\n",
      "step #452000/1000000: R=0.1039+/-0.2037, diffusion/attraction is 13.73%\n",
      "step #454000/1000000: R=0.1039+/-0.2036, diffusion/attraction is 13.67%\n",
      "step #456000/1000000: R=0.1045+/-0.2047, diffusion/attraction is 13.76%\n"
     ]
    },
    {
     "name": "stdout",
     "output_type": "stream",
     "text": [
      "step #458000/1000000: R=0.1056+/-0.2070, diffusion/attraction is 13.93%\n",
      "step #460000/1000000: R=0.1054+/-0.2066, diffusion/attraction is 13.94%\n",
      "step #462000/1000000: R=0.1059+/-0.2076, diffusion/attraction is 13.50%\n",
      "step #464000/1000000: R=0.1062+/-0.2081, diffusion/attraction is 13.76%\n",
      "step #466000/1000000: R=0.1068+/-0.2094, diffusion/attraction is 13.69%\n",
      "step #468000/1000000: R=0.1058+/-0.2073, diffusion/attraction is 13.82%\n",
      "step #470000/1000000: R=0.1059+/-0.2075, diffusion/attraction is 13.95%\n",
      "step #472000/1000000: R=0.1064+/-0.2085, diffusion/attraction is 13.79%\n",
      "step #474000/1000000: R=0.1075+/-0.2106, diffusion/attraction is 13.59%\n",
      "step #476000/1000000: R=0.1072+/-0.2101, diffusion/attraction is 13.81%\n",
      "step #478000/1000000: R=0.1062+/-0.2082, diffusion/attraction is 13.83%\n",
      "step #480000/1000000: R=0.1069+/-0.2096, diffusion/attraction is 13.82%\n",
      "step #482000/1000000: R=0.1064+/-0.2085, diffusion/attraction is 13.72%\n",
      "step #484000/1000000: R=0.1061+/-0.2080, diffusion/attraction is 13.70%\n",
      "step #486000/1000000: R=0.1072+/-0.2102, diffusion/attraction is 13.53%\n",
      "step #488000/1000000: R=0.1062+/-0.2082, diffusion/attraction is 13.76%\n",
      "step #490000/1000000: R=0.1063+/-0.2084, diffusion/attraction is 13.65%\n",
      "step #492000/1000000: R=0.1074+/-0.2105, diffusion/attraction is 13.89%\n",
      "step #494000/1000000: R=0.1065+/-0.2087, diffusion/attraction is 13.97%\n",
      "step #496000/1000000: R=0.1064+/-0.2085, diffusion/attraction is 13.90%\n",
      "step #498000/1000000: R=0.1080+/-0.2116, diffusion/attraction is 13.86%\n",
      "step #500000/1000000: R=0.1073+/-0.2103, diffusion/attraction is 13.49%\n",
      "step #502000/1000000: R=0.1086+/-0.2129, diffusion/attraction is 13.49%\n",
      "step #504000/1000000: R=0.1065+/-0.2088, diffusion/attraction is 13.62%\n",
      "step #506000/1000000: R=0.1065+/-0.2088, diffusion/attraction is 13.80%\n",
      "step #508000/1000000: R=0.1093+/-0.2142, diffusion/attraction is 13.80%\n",
      "step #510000/1000000: R=0.1092+/-0.2140, diffusion/attraction is 14.04%\n",
      "step #512000/1000000: R=0.1081+/-0.2118, diffusion/attraction is 13.59%\n",
      "step #514000/1000000: R=0.1086+/-0.2128, diffusion/attraction is 13.63%\n",
      "step #516000/1000000: R=0.1090+/-0.2137, diffusion/attraction is 13.59%\n",
      "step #518000/1000000: R=0.1087+/-0.2131, diffusion/attraction is 13.55%\n",
      "step #520000/1000000: R=0.1102+/-0.2160, diffusion/attraction is 13.81%\n",
      "step #522000/1000000: R=0.1107+/-0.2169, diffusion/attraction is 13.91%\n",
      "step #524000/1000000: R=0.1100+/-0.2155, diffusion/attraction is 13.62%\n",
      "step #526000/1000000: R=0.1097+/-0.2149, diffusion/attraction is 13.69%\n",
      "step #528000/1000000: R=0.1111+/-0.2178, diffusion/attraction is 13.88%\n",
      "step #530000/1000000: R=0.1103+/-0.2162, diffusion/attraction is 13.83%\n",
      "step #532000/1000000: R=0.1099+/-0.2153, diffusion/attraction is 13.77%\n",
      "step #534000/1000000: R=0.1102+/-0.2159, diffusion/attraction is 13.58%\n",
      "step #536000/1000000: R=0.1099+/-0.2154, diffusion/attraction is 13.67%\n",
      "step #538000/1000000: R=0.1102+/-0.2161, diffusion/attraction is 13.65%\n",
      "step #540000/1000000: R=0.1096+/-0.2148, diffusion/attraction is 13.65%\n",
      "step #542000/1000000: R=0.1100+/-0.2156, diffusion/attraction is 13.61%\n",
      "step #544000/1000000: R=0.1110+/-0.2175, diffusion/attraction is 13.72%\n",
      "step #546000/1000000: R=0.1102+/-0.2159, diffusion/attraction is 13.89%\n",
      "step #548000/1000000: R=0.1107+/-0.2169, diffusion/attraction is 13.67%\n",
      "step #550000/1000000: R=0.1119+/-0.2193, diffusion/attraction is 13.91%\n",
      "step #552000/1000000: R=0.1132+/-0.2218, diffusion/attraction is 13.96%\n",
      "step #554000/1000000: R=0.1115+/-0.2185, diffusion/attraction is 13.67%\n",
      "step #556000/1000000: R=0.1115+/-0.2184, diffusion/attraction is 13.68%\n",
      "step #558000/1000000: R=0.1105+/-0.2166, diffusion/attraction is 13.67%\n",
      "step #560000/1000000: R=0.1096+/-0.2147, diffusion/attraction is 13.66%\n",
      "step #562000/1000000: R=0.1088+/-0.2132, diffusion/attraction is 13.41%\n",
      "step #564000/1000000: R=0.1077+/-0.2112, diffusion/attraction is 13.85%\n",
      "step #566000/1000000: R=0.1084+/-0.2125, diffusion/attraction is 13.74%\n",
      "step #568000/1000000: R=0.1065+/-0.2088, diffusion/attraction is 13.76%\n",
      "step #570000/1000000: R=0.1064+/-0.2086, diffusion/attraction is 13.76%\n",
      "step #572000/1000000: R=0.1061+/-0.2080, diffusion/attraction is 13.60%\n",
      "step #574000/1000000: R=0.1045+/-0.2048, diffusion/attraction is 13.90%\n",
      "step #576000/1000000: R=0.1048+/-0.2055, diffusion/attraction is 13.73%\n",
      "step #578000/1000000: R=0.1056+/-0.2069, diffusion/attraction is 13.82%\n",
      "step #580000/1000000: R=0.1053+/-0.2064, diffusion/attraction is 13.76%\n",
      "step #582000/1000000: R=0.1054+/-0.2066, diffusion/attraction is 13.74%\n",
      "step #584000/1000000: R=0.1059+/-0.2076, diffusion/attraction is 13.61%\n",
      "step #586000/1000000: R=0.1071+/-0.2100, diffusion/attraction is 13.54%\n",
      "step #588000/1000000: R=0.1064+/-0.2086, diffusion/attraction is 13.61%\n",
      "step #590000/1000000: R=0.1060+/-0.2078, diffusion/attraction is 13.95%\n",
      "step #592000/1000000: R=0.1045+/-0.2048, diffusion/attraction is 13.84%\n",
      "step #594000/1000000: R=0.1043+/-0.2043, diffusion/attraction is 13.78%\n",
      "step #596000/1000000: R=0.1030+/-0.2018, diffusion/attraction is 13.76%\n",
      "step #598000/1000000: R=0.1016+/-0.1991, diffusion/attraction is 13.75%\n",
      "step #600000/1000000: R=0.0999+/-0.1958, diffusion/attraction is 13.80%\n",
      "step #602000/1000000: R=0.0999+/-0.1959, diffusion/attraction is 13.88%\n",
      "step #604000/1000000: R=0.1014+/-0.1987, diffusion/attraction is 13.91%\n",
      "step #606000/1000000: R=0.0997+/-0.1955, diffusion/attraction is 13.68%\n",
      "step #608000/1000000: R=0.0993+/-0.1947, diffusion/attraction is 13.76%\n",
      "step #610000/1000000: R=0.0999+/-0.1958, diffusion/attraction is 13.60%\n",
      "step #612000/1000000: R=0.0996+/-0.1951, diffusion/attraction is 13.64%\n",
      "step #614000/1000000: R=0.1001+/-0.1961, diffusion/attraction is 13.86%\n",
      "step #616000/1000000: R=0.1001+/-0.1961, diffusion/attraction is 13.87%\n",
      "step #618000/1000000: R=0.0995+/-0.1950, diffusion/attraction is 13.51%\n",
      "step #620000/1000000: R=0.0987+/-0.1935, diffusion/attraction is 13.71%\n",
      "step #622000/1000000: R=0.0996+/-0.1952, diffusion/attraction is 13.79%\n",
      "step #624000/1000000: R=0.1001+/-0.1963, diffusion/attraction is 13.72%\n",
      "step #626000/1000000: R=0.0991+/-0.1943, diffusion/attraction is 13.75%\n",
      "step #628000/1000000: R=0.0982+/-0.1924, diffusion/attraction is 13.80%\n",
      "step #630000/1000000: R=0.0977+/-0.1914, diffusion/attraction is 13.57%\n",
      "step #632000/1000000: R=0.0980+/-0.1921, diffusion/attraction is 13.84%\n",
      "step #634000/1000000: R=0.0976+/-0.1912, diffusion/attraction is 13.65%\n",
      "step #636000/1000000: R=0.0968+/-0.1897, diffusion/attraction is 13.79%\n",
      "step #638000/1000000: R=0.0974+/-0.1910, diffusion/attraction is 13.52%\n",
      "step #640000/1000000: R=0.0983+/-0.1927, diffusion/attraction is 13.71%\n",
      "step #642000/1000000: R=0.0979+/-0.1920, diffusion/attraction is 13.76%\n",
      "step #644000/1000000: R=0.0975+/-0.1911, diffusion/attraction is 13.65%\n",
      "step #646000/1000000: R=0.0966+/-0.1893, diffusion/attraction is 13.88%\n",
      "step #648000/1000000: R=0.0966+/-0.1893, diffusion/attraction is 13.59%\n",
      "step #650000/1000000: R=0.0963+/-0.1887, diffusion/attraction is 13.82%\n",
      "step #652000/1000000: R=0.0961+/-0.1883, diffusion/attraction is 13.57%\n",
      "step #654000/1000000: R=0.0965+/-0.1891, diffusion/attraction is 13.65%\n",
      "step #656000/1000000: R=0.0955+/-0.1871, diffusion/attraction is 14.03%\n",
      "step #658000/1000000: R=0.0968+/-0.1897, diffusion/attraction is 13.52%\n",
      "step #660000/1000000: R=0.0960+/-0.1882, diffusion/attraction is 13.98%\n",
      "step #662000/1000000: R=0.0948+/-0.1857, diffusion/attraction is 13.59%\n",
      "step #664000/1000000: R=0.0947+/-0.1856, diffusion/attraction is 13.97%\n",
      "step #666000/1000000: R=0.0940+/-0.1842, diffusion/attraction is 13.97%\n",
      "step #668000/1000000: R=0.0944+/-0.1849, diffusion/attraction is 13.49%\n",
      "step #670000/1000000: R=0.0938+/-0.1839, diffusion/attraction is 13.61%\n",
      "step #672000/1000000: R=0.0951+/-0.1864, diffusion/attraction is 13.48%\n",
      "step #674000/1000000: R=0.0942+/-0.1847, diffusion/attraction is 13.56%\n",
      "step #676000/1000000: R=0.0945+/-0.1853, diffusion/attraction is 13.74%\n",
      "step #678000/1000000: R=0.0934+/-0.1830, diffusion/attraction is 13.59%\n",
      "step #680000/1000000: R=0.0922+/-0.1807, diffusion/attraction is 13.64%\n",
      "step #682000/1000000: R=0.0933+/-0.1828, diffusion/attraction is 13.71%\n",
      "step #684000/1000000: R=0.0932+/-0.1827, diffusion/attraction is 13.66%\n"
     ]
    },
    {
     "name": "stdout",
     "output_type": "stream",
     "text": [
      "step #686000/1000000: R=0.0929+/-0.1821, diffusion/attraction is 13.76%\n",
      "step #688000/1000000: R=0.0915+/-0.1793, diffusion/attraction is 13.68%\n",
      "step #690000/1000000: R=0.0926+/-0.1815, diffusion/attraction is 13.68%\n",
      "step #692000/1000000: R=0.0919+/-0.1802, diffusion/attraction is 13.78%\n",
      "step #694000/1000000: R=0.0916+/-0.1796, diffusion/attraction is 14.04%\n",
      "step #696000/1000000: R=0.0921+/-0.1806, diffusion/attraction is 13.66%\n",
      "step #698000/1000000: R=0.0915+/-0.1793, diffusion/attraction is 13.72%\n",
      "step #700000/1000000: R=0.0913+/-0.1790, diffusion/attraction is 13.74%\n",
      "step #702000/1000000: R=0.0912+/-0.1788, diffusion/attraction is 13.87%\n",
      "step #704000/1000000: R=0.0911+/-0.1786, diffusion/attraction is 13.90%\n",
      "step #706000/1000000: R=0.0908+/-0.1780, diffusion/attraction is 13.82%\n",
      "step #708000/1000000: R=0.0905+/-0.1774, diffusion/attraction is 13.71%\n",
      "step #710000/1000000: R=0.0905+/-0.1774, diffusion/attraction is 13.47%\n",
      "step #712000/1000000: R=0.0907+/-0.1779, diffusion/attraction is 13.56%\n",
      "step #714000/1000000: R=0.0929+/-0.1821, diffusion/attraction is 13.64%\n",
      "step #716000/1000000: R=0.0939+/-0.1841, diffusion/attraction is 13.83%\n",
      "step #718000/1000000: R=0.0952+/-0.1866, diffusion/attraction is 13.76%\n",
      "step #720000/1000000: R=0.0946+/-0.1854, diffusion/attraction is 13.64%\n",
      "step #722000/1000000: R=0.0942+/-0.1846, diffusion/attraction is 13.69%\n",
      "step #724000/1000000: R=0.0932+/-0.1827, diffusion/attraction is 13.71%\n",
      "step #726000/1000000: R=0.0915+/-0.1793, diffusion/attraction is 13.67%\n",
      "step #728000/1000000: R=0.0918+/-0.1800, diffusion/attraction is 13.73%\n",
      "step #730000/1000000: R=0.0915+/-0.1793, diffusion/attraction is 13.86%\n",
      "step #732000/1000000: R=0.0917+/-0.1797, diffusion/attraction is 13.72%\n",
      "step #734000/1000000: R=0.0901+/-0.1766, diffusion/attraction is 13.62%\n",
      "step #736000/1000000: R=0.0899+/-0.1762, diffusion/attraction is 13.74%\n",
      "step #738000/1000000: R=0.0904+/-0.1773, diffusion/attraction is 13.68%\n",
      "step #740000/1000000: R=0.0908+/-0.1780, diffusion/attraction is 13.98%\n",
      "step #742000/1000000: R=0.0907+/-0.1777, diffusion/attraction is 13.79%\n",
      "step #744000/1000000: R=0.0905+/-0.1775, diffusion/attraction is 13.56%\n",
      "step #746000/1000000: R=0.0902+/-0.1767, diffusion/attraction is 13.76%\n",
      "step #748000/1000000: R=0.0900+/-0.1765, diffusion/attraction is 13.75%\n",
      "step #750000/1000000: R=0.0899+/-0.1762, diffusion/attraction is 13.83%\n",
      "step #752000/1000000: R=0.0881+/-0.1727, diffusion/attraction is 13.52%\n",
      "step #754000/1000000: R=0.0884+/-0.1733, diffusion/attraction is 13.82%\n",
      "step #756000/1000000: R=0.0898+/-0.1759, diffusion/attraction is 13.67%\n",
      "step #758000/1000000: R=0.0905+/-0.1775, diffusion/attraction is 13.84%\n",
      "step #760000/1000000: R=0.0894+/-0.1751, diffusion/attraction is 13.73%\n",
      "step #762000/1000000: R=0.0886+/-0.1736, diffusion/attraction is 13.84%\n",
      "step #764000/1000000: R=0.0888+/-0.1740, diffusion/attraction is 13.94%\n",
      "step #766000/1000000: R=0.0888+/-0.1741, diffusion/attraction is 13.79%\n",
      "step #768000/1000000: R=0.0880+/-0.1725, diffusion/attraction is 13.98%\n",
      "step #770000/1000000: R=0.0882+/-0.1729, diffusion/attraction is 13.74%\n",
      "step #772000/1000000: R=0.0889+/-0.1742, diffusion/attraction is 13.68%\n",
      "step #774000/1000000: R=0.0900+/-0.1764, diffusion/attraction is 13.73%\n",
      "step #776000/1000000: R=0.0906+/-0.1776, diffusion/attraction is 13.79%\n",
      "step #778000/1000000: R=0.0914+/-0.1792, diffusion/attraction is 13.77%\n",
      "step #780000/1000000: R=0.0921+/-0.1805, diffusion/attraction is 13.86%\n",
      "step #782000/1000000: R=0.0933+/-0.1830, diffusion/attraction is 13.52%\n",
      "step #784000/1000000: R=0.0928+/-0.1819, diffusion/attraction is 13.74%\n",
      "step #786000/1000000: R=0.0935+/-0.1833, diffusion/attraction is 13.69%\n",
      "step #788000/1000000: R=0.0937+/-0.1837, diffusion/attraction is 13.75%\n",
      "step #790000/1000000: R=0.0942+/-0.1847, diffusion/attraction is 13.91%\n",
      "step #792000/1000000: R=0.0948+/-0.1858, diffusion/attraction is 13.89%\n",
      "step #794000/1000000: R=0.0958+/-0.1877, diffusion/attraction is 13.54%\n",
      "step #796000/1000000: R=0.0958+/-0.1879, diffusion/attraction is 13.74%\n",
      "step #798000/1000000: R=0.0963+/-0.1887, diffusion/attraction is 13.67%\n",
      "step #800000/1000000: R=0.0968+/-0.1898, diffusion/attraction is 13.72%\n",
      "step #802000/1000000: R=0.0965+/-0.1891, diffusion/attraction is 13.73%\n",
      "step #804000/1000000: R=0.0967+/-0.1895, diffusion/attraction is 13.55%\n",
      "step #806000/1000000: R=0.0968+/-0.1897, diffusion/attraction is 13.66%\n",
      "step #808000/1000000: R=0.0979+/-0.1918, diffusion/attraction is 13.82%\n",
      "step #810000/1000000: R=0.0977+/-0.1915, diffusion/attraction is 13.90%\n",
      "step #812000/1000000: R=0.0974+/-0.1909, diffusion/attraction is 13.63%\n",
      "step #814000/1000000: R=0.0973+/-0.1906, diffusion/attraction is 13.74%\n",
      "step #816000/1000000: R=0.0967+/-0.1896, diffusion/attraction is 13.46%\n",
      "step #818000/1000000: R=0.0955+/-0.1871, diffusion/attraction is 13.74%\n",
      "step #820000/1000000: R=0.0960+/-0.1882, diffusion/attraction is 13.90%\n",
      "step #822000/1000000: R=0.0959+/-0.1880, diffusion/attraction is 13.69%\n",
      "step #824000/1000000: R=0.0955+/-0.1872, diffusion/attraction is 13.64%\n",
      "step #826000/1000000: R=0.0961+/-0.1883, diffusion/attraction is 13.59%\n",
      "step #828000/1000000: R=0.0960+/-0.1882, diffusion/attraction is 13.68%\n",
      "step #830000/1000000: R=0.0966+/-0.1893, diffusion/attraction is 13.65%\n",
      "step #832000/1000000: R=0.0959+/-0.1880, diffusion/attraction is 13.82%\n",
      "step #834000/1000000: R=0.0954+/-0.1870, diffusion/attraction is 13.83%\n",
      "step #836000/1000000: R=0.0953+/-0.1867, diffusion/attraction is 13.90%\n",
      "step #838000/1000000: R=0.0950+/-0.1862, diffusion/attraction is 13.75%\n",
      "step #840000/1000000: R=0.0960+/-0.1882, diffusion/attraction is 13.82%\n",
      "step #842000/1000000: R=0.0956+/-0.1875, diffusion/attraction is 13.76%\n",
      "step #844000/1000000: R=0.0955+/-0.1872, diffusion/attraction is 13.65%\n",
      "step #846000/1000000: R=0.0951+/-0.1864, diffusion/attraction is 13.77%\n",
      "step #848000/1000000: R=0.0947+/-0.1856, diffusion/attraction is 13.61%\n",
      "step #850000/1000000: R=0.0950+/-0.1861, diffusion/attraction is 13.77%\n",
      "step #852000/1000000: R=0.0945+/-0.1852, diffusion/attraction is 13.77%\n",
      "step #854000/1000000: R=0.0949+/-0.1860, diffusion/attraction is 13.88%\n",
      "step #856000/1000000: R=0.0953+/-0.1868, diffusion/attraction is 13.70%\n",
      "step #858000/1000000: R=0.0956+/-0.1874, diffusion/attraction is 13.62%\n",
      "step #860000/1000000: R=0.0958+/-0.1878, diffusion/attraction is 13.83%\n",
      "step #862000/1000000: R=0.0955+/-0.1873, diffusion/attraction is 13.65%\n",
      "step #864000/1000000: R=0.0955+/-0.1871, diffusion/attraction is 13.72%\n",
      "step #866000/1000000: R=0.0961+/-0.1883, diffusion/attraction is 13.60%\n",
      "step #868000/1000000: R=0.0969+/-0.1899, diffusion/attraction is 13.68%\n",
      "step #870000/1000000: R=0.0975+/-0.1910, diffusion/attraction is 13.67%\n",
      "step #872000/1000000: R=0.0973+/-0.1907, diffusion/attraction is 13.55%\n",
      "step #874000/1000000: R=0.0972+/-0.1905, diffusion/attraction is 13.77%\n",
      "step #876000/1000000: R=0.0953+/-0.1869, diffusion/attraction is 13.68%\n",
      "step #878000/1000000: R=0.0948+/-0.1859, diffusion/attraction is 13.82%\n",
      "step #880000/1000000: R=0.0939+/-0.1839, diffusion/attraction is 13.52%\n",
      "step #882000/1000000: R=0.0930+/-0.1824, diffusion/attraction is 13.76%\n",
      "step #884000/1000000: R=0.0929+/-0.1820, diffusion/attraction is 13.82%\n",
      "step #886000/1000000: R=0.0936+/-0.1834, diffusion/attraction is 13.53%\n",
      "step #888000/1000000: R=0.0938+/-0.1839, diffusion/attraction is 13.49%\n",
      "step #890000/1000000: R=0.0928+/-0.1820, diffusion/attraction is 13.66%\n",
      "step #892000/1000000: R=0.0929+/-0.1821, diffusion/attraction is 13.50%\n",
      "step #894000/1000000: R=0.0925+/-0.1813, diffusion/attraction is 13.92%\n",
      "step #896000/1000000: R=0.0933+/-0.1829, diffusion/attraction is 13.57%\n",
      "step #898000/1000000: R=0.0929+/-0.1822, diffusion/attraction is 13.66%\n",
      "step #900000/1000000: R=0.0922+/-0.1807, diffusion/attraction is 13.69%\n",
      "step #902000/1000000: R=0.0920+/-0.1803, diffusion/attraction is 13.93%\n",
      "step #904000/1000000: R=0.0924+/-0.1811, diffusion/attraction is 13.91%\n",
      "step #906000/1000000: R=0.0911+/-0.1785, diffusion/attraction is 13.54%\n",
      "step #908000/1000000: R=0.0919+/-0.1801, diffusion/attraction is 13.72%\n",
      "step #910000/1000000: R=0.0917+/-0.1797, diffusion/attraction is 13.79%\n",
      "step #912000/1000000: R=0.0928+/-0.1818, diffusion/attraction is 13.91%\n"
     ]
    },
    {
     "name": "stdout",
     "output_type": "stream",
     "text": [
      "step #914000/1000000: R=0.0939+/-0.1841, diffusion/attraction is 13.70%\n",
      "step #916000/1000000: R=0.0948+/-0.1858, diffusion/attraction is 13.50%\n",
      "step #918000/1000000: R=0.0947+/-0.1856, diffusion/attraction is 13.75%\n",
      "step #920000/1000000: R=0.0942+/-0.1846, diffusion/attraction is 13.63%\n",
      "step #922000/1000000: R=0.0932+/-0.1827, diffusion/attraction is 13.77%\n",
      "step #924000/1000000: R=0.0938+/-0.1838, diffusion/attraction is 13.72%\n",
      "step #926000/1000000: R=0.0938+/-0.1839, diffusion/attraction is 13.68%\n",
      "step #928000/1000000: R=0.0938+/-0.1839, diffusion/attraction is 13.85%\n",
      "step #930000/1000000: R=0.0932+/-0.1827, diffusion/attraction is 13.76%\n",
      "step #932000/1000000: R=0.0936+/-0.1835, diffusion/attraction is 13.80%\n",
      "step #934000/1000000: R=0.0932+/-0.1826, diffusion/attraction is 13.70%\n",
      "step #936000/1000000: R=0.0950+/-0.1862, diffusion/attraction is 13.52%\n",
      "step #938000/1000000: R=0.0945+/-0.1852, diffusion/attraction is 13.66%\n",
      "step #940000/1000000: R=0.0950+/-0.1862, diffusion/attraction is 13.75%\n",
      "step #942000/1000000: R=0.0943+/-0.1848, diffusion/attraction is 13.92%\n",
      "step #944000/1000000: R=0.0933+/-0.1830, diffusion/attraction is 13.86%\n",
      "step #946000/1000000: R=0.0930+/-0.1823, diffusion/attraction is 13.49%\n",
      "step #948000/1000000: R=0.0924+/-0.1811, diffusion/attraction is 13.86%\n",
      "step #950000/1000000: R=0.0917+/-0.1797, diffusion/attraction is 13.62%\n",
      "step #952000/1000000: R=0.0913+/-0.1790, diffusion/attraction is 13.55%\n",
      "step #954000/1000000: R=0.0915+/-0.1793, diffusion/attraction is 13.73%\n",
      "step #956000/1000000: R=0.0915+/-0.1793, diffusion/attraction is 13.70%\n",
      "step #958000/1000000: R=0.0911+/-0.1785, diffusion/attraction is 13.67%\n",
      "step #960000/1000000: R=0.0927+/-0.1816, diffusion/attraction is 13.87%\n",
      "step #962000/1000000: R=0.0927+/-0.1816, diffusion/attraction is 13.69%\n",
      "step #964000/1000000: R=0.0914+/-0.1792, diffusion/attraction is 13.96%\n",
      "step #966000/1000000: R=0.0910+/-0.1783, diffusion/attraction is 13.80%\n",
      "step #968000/1000000: R=0.0906+/-0.1776, diffusion/attraction is 13.51%\n",
      "step #970000/1000000: R=0.0904+/-0.1772, diffusion/attraction is 13.96%\n",
      "step #972000/1000000: R=0.0907+/-0.1777, diffusion/attraction is 13.87%\n",
      "step #974000/1000000: R=0.0899+/-0.1762, diffusion/attraction is 13.53%\n",
      "step #976000/1000000: R=0.0898+/-0.1761, diffusion/attraction is 13.61%\n",
      "step #978000/1000000: R=0.0899+/-0.1762, diffusion/attraction is 13.77%\n",
      "step #980000/1000000: R=0.0871+/-0.1707, diffusion/attraction is 13.80%\n",
      "step #982000/1000000: R=0.0885+/-0.1735, diffusion/attraction is 13.67%\n",
      "step #984000/1000000: R=0.0881+/-0.1726, diffusion/attraction is 13.57%\n",
      "step #986000/1000000: R=0.0891+/-0.1747, diffusion/attraction is 13.60%\n",
      "step #988000/1000000: R=0.0893+/-0.1750, diffusion/attraction is 13.72%\n",
      "step #990000/1000000: R=0.0877+/-0.1720, diffusion/attraction is 13.46%\n",
      "step #992000/1000000: R=0.0879+/-0.1723, diffusion/attraction is 13.59%\n",
      "step #994000/1000000: R=0.0880+/-0.1725, diffusion/attraction is 13.80%\n",
      "step #996000/1000000: R=0.0875+/-0.1716, diffusion/attraction is 13.45%\n",
      "step #998000/1000000: R=0.0874+/-0.1713, diffusion/attraction is 13.94%\n",
      "step #1000000/1000000: R=0.0870+/-0.1706, diffusion/attraction is 13.64%\n",
      "simulation complete!\n",
      "Total run time: 317.3770 seconds\n"
     ]
    }
   ],
   "source": [
    "print(f\"running simulation for {num_steps} steps...\")\n",
    "start=time.time()\n",
    "for step_num in range(num_steps):\n",
    "    #compute the distance between each pair of particles\n",
    "    dx_values=(x2_values-x1_values)\n",
    "    dy_values=(y2_values-y1_values)\n",
    "    Rsq_values=dx_values*dx_values+dy_values*dy_values\n",
    "\n",
    "    #compute the attractive step between all pairs\n",
    "    f_values=impulse_prefactor/Rsq_values\n",
    "    F1x=f_values*dx_values\n",
    "    F1y=f_values*dy_values\n",
    "\n",
    "    #compute the diffusive step between all pairs\n",
    "    dxW1_values=stepscale*np.random.normal(size=num_pairs)\n",
    "    dxW2_values=stepscale*np.random.normal(size=num_pairs)\n",
    "    dyW1_values=stepscale*np.random.normal(size=num_pairs)\n",
    "    dyW2_values=stepscale*np.random.normal(size=num_pairs)\n",
    "\n",
    "    #the mean distance between all pairs of particles\n",
    "    R_values=np.sqrt(Rsq_values)\n",
    "    mean_R=np.mean(R_values)\n",
    "    std_R=np.mean(R_values)\n",
    "    \n",
    "    #identify any particles that didn't get within the threshold distance\n",
    "    boo_still_running=R_values>rend\n",
    "    \n",
    "    #the mean magnitude of the diffusive step\n",
    "    diffusive_step_values=0.5*np.sqrt(dxW1_values**2+dyW1_values**2)+0.5*np.sqrt(dxW2_values**2+dyW2_values**2)\n",
    "    mean_diffusive_step=np.mean(diffusive_step_values)\n",
    "    std_diffusive_step=np.std(diffusive_step_values)\n",
    "\n",
    "    #the mean magnitude of the attractive step\n",
    "    attractive_step_values=np.sqrt(F1x**2+F1y**2)\n",
    "    mean_attractive_step=np.mean(attractive_step_values)\n",
    "    std_attractive_step=np.std(attractive_step_values)\n",
    "    if (step_num+1) % print_every == 0:\n",
    "        relative_percent=100*mean_diffusive_step/mean_attractive_step\n",
    "        print(f\"step #{step_num+1}/{num_steps}: R={mean_R:.4f}+/-{1.96*std_R:.4f}, diffusion/attraction is {relative_percent:.2f}%\")\n",
    "        # print(f\"the mean range is {mean_R:.4f} cm\")\n",
    "        # print(f\"the mean diffusive step was {100*mean_diffusive_step/mean_attractive_step:.2f}% larger than the mean attractive step\")\n",
    "\n",
    "    #compute the net change in position \n",
    "    x1step_values=F1x+dxW1_values\n",
    "    y1step_values=F1y+dyW1_values\n",
    "    x2step_values=-F1x+dxW2_values\n",
    "    y2step_values=-F1y+dyW2_values\n",
    "        \n",
    "    #update particle locations if they are still running\n",
    "    x1_values[boo_still_running]=x1_values[boo_still_running]+x1step_values[boo_still_running]\n",
    "    y1_values[boo_still_running]=y1_values[boo_still_running]+y1step_values[boo_still_running]\n",
    "    x2_values[boo_still_running]=x2_values[boo_still_running]+x2step_values[boo_still_running]\n",
    "    y2_values[boo_still_running]=y2_values[boo_still_running]+y2step_values[boo_still_running]\n",
    "    #DONE: verified the mean distance between particles got smaller    \n",
    "    # if (step_count+1) % save_every == 0:\n",
    "    #save particle locations to a numpy array with the correct number of positions\n",
    "    position_array[step_num,0,boo_still_running]=x1_values[boo_still_running]\n",
    "    position_array[step_num,1,boo_still_running]=y1_values[boo_still_running]\n",
    "    position_array[step_num,2,boo_still_running]=x2_values[boo_still_running]\n",
    "    position_array[step_num,3,boo_still_running]=y2_values[boo_still_running]\n",
    "    mean_array[step_num,0]=mean_R\n",
    "    mean_array[step_num,1]=mean_diffusive_step\n",
    "    mean_array[step_num,2]=mean_attractive_step\n",
    "    #save results for quick plotting\n",
    "    std_array[step_num,0]=std_R\n",
    "    std_array[step_num,1]=std_diffusive_step\n",
    "    std_array[step_num,2]=std_attractive_step\n",
    "\n",
    "print(f\"simulation complete!\\nTotal run time: {time.time()-start:.4f} seconds\")"
   ]
  },
  {
   "cell_type": "code",
   "execution_count": 29,
   "id": "b2b0f78e",
   "metadata": {
    "ExecuteTime": {
     "end_time": "2021-11-02T23:13:58.340350Z",
     "start_time": "2021-11-02T23:13:58.335356Z"
    }
   },
   "outputs": [
    {
     "name": "stdout",
     "output_type": "stream",
     "text": [
      "the number of particles that didn't finished is 15 out of 1500.\n"
     ]
    }
   ],
   "source": [
    "print(f\"the number of particles that didn't finished is {sum(boo_still_running)} out of {boo_still_running.shape[0]}.\")\n"
   ]
  },
  {
   "cell_type": "code",
   "execution_count": null,
   "id": "77fc3c86",
   "metadata": {
    "ExecuteTime": {
     "end_time": "2021-11-02T22:54:21.797550Z",
     "start_time": "2021-11-02T22:54:21.797538Z"
    }
   },
   "outputs": [],
   "source": [
    "#GOAL: vectorized processing\n",
    "# TODO: plot the basic results versus time and verify that they look reasonable\n",
    "# TODO(optional): compute the moving average of particle locations\n",
    "# TODO: compute all ranges\n",
    "# TODO: find the row index where the positions first become closer than R_thresh=0.001 cm"
   ]
  },
  {
   "cell_type": "code",
   "execution_count": 28,
   "id": "f825cd8c",
   "metadata": {
    "ExecuteTime": {
     "end_time": "2021-11-02T23:13:33.781068Z",
     "start_time": "2021-11-02T23:13:32.642823Z"
    }
   },
   "outputs": [
    {
     "data": {
      "image/png": "[encoded data removed]",
      "text/plain": [
       "<Figure size 1008x288 with 3 Axes>"
      ]
     },
     "metadata": {},
     "output_type": "display_data"
    }
   ],
   "source": [
    "ylabel_lst=['R (cm)','diffusive\\nstep size (cm)','attractive\\nstep size (cm)']\n",
    "fig,axs=plt.subplots(1,3,figsize=(14,4),constrained_layout=True)\n",
    "for i,(ax,ylabel) in enumerate(zip(axs,ylabel_lst)):\n",
    "    ax.plot(mean_array[:,i])\n",
    "    ax.fill_between(mean_array[:,i]-1.96*std_array[:,i],mean_array[:,i]+1.96*std_array[:,i],alpha=0.5)\n",
    "    format_plot(ax=ax,xlabel='t (sec)',ylabel=ylabel)\n",
    "plt.show()"
   ]
  },
  {
   "cell_type": "code",
   "execution_count": 30,
   "id": "2c6a7b04",
   "metadata": {
    "ExecuteTime": {
     "end_time": "2021-11-02T23:14:38.446902Z",
     "start_time": "2021-11-02T23:14:38.444818Z"
    }
   },
   "outputs": [],
   "source": [
    "#TODO: compute the apparent attraction coefficient without smoothing"
   ]
  },
  {
   "cell_type": "code",
   "execution_count": 33,
   "id": "af959453",
   "metadata": {
    "ExecuteTime": {
     "end_time": "2021-11-02T23:16:11.832829Z",
     "start_time": "2021-11-02T23:16:11.828872Z"
    }
   },
   "outputs": [
    {
     "data": {
      "text/plain": [
       "(1000000, 4, 1500)"
      ]
     },
     "execution_count": 33,
     "metadata": {},
     "output_type": "execute_result"
    }
   ],
   "source": [
    "position_array.shape"
   ]
  },
  {
   "cell_type": "code",
   "execution_count": 1,
   "id": "e55a8ece",
   "metadata": {
    "ExecuteTime": {
     "end_time": "2021-11-02T23:29:33.013402Z",
     "start_time": "2021-11-02T23:29:32.956903Z"
    }
   },
   "outputs": [
    {
     "ename": "NameError",
     "evalue": "name 'zero_values' is not defined",
     "output_type": "error",
     "traceback": [
      "\u001b[0;31m---------------------------------------------------------------------------\u001b[0m",
      "\u001b[0;31mNameError\u001b[0m                                 Traceback (most recent call last)",
      "\u001b[0;32m/tmp/ipykernel_74374/2764900244.py\u001b[0m in \u001b[0;36m<module>\u001b[0;34m\u001b[0m\n\u001b[1;32m      1\u001b[0m \u001b[0;31m#TODO: for each pair, identify the last row where the value is not nan\u001b[0m\u001b[0;34m\u001b[0m\u001b[0;34m\u001b[0m\u001b[0;34m\u001b[0m\u001b[0m\n\u001b[0;32m----> 2\u001b[0;31m \u001b[0mrow_end_values\u001b[0m\u001b[0;34m=\u001b[0m\u001b[0mzero_values\u001b[0m\u001b[0;34m.\u001b[0m\u001b[0mcopy\u001b[0m\u001b[0;34m(\u001b[0m\u001b[0;34m)\u001b[0m\u001b[0;34m\u001b[0m\u001b[0;34m\u001b[0m\u001b[0m\n\u001b[0m\u001b[1;32m      3\u001b[0m \u001b[0;32mfor\u001b[0m \u001b[0mi\u001b[0m \u001b[0;32min\u001b[0m \u001b[0mrange\u001b[0m\u001b[0;34m(\u001b[0m\u001b[0mnum_pairs\u001b[0m\u001b[0;34m)\u001b[0m\u001b[0;34m:\u001b[0m\u001b[0;34m\u001b[0m\u001b[0;34m\u001b[0m\u001b[0m\n\u001b[1;32m      4\u001b[0m     \u001b[0mrow_end_values\u001b[0m\u001b[0;34m[\u001b[0m\u001b[0mi\u001b[0m\u001b[0;34m]\u001b[0m\u001b[0;34m=\u001b[0m\u001b[0mnp\u001b[0m\u001b[0;34m.\u001b[0m\u001b[0mint\u001b[0m\u001b[0;34m(\u001b[0m\u001b[0mnp\u001b[0m\u001b[0;34m.\u001b[0m\u001b[0margwhere\u001b[0m\u001b[0;34m(\u001b[0m\u001b[0mnp\u001b[0m\u001b[0;34m.\u001b[0m\u001b[0misnan\u001b[0m\u001b[0;34m(\u001b[0m\u001b[0mposition_array\u001b[0m\u001b[0;34m[\u001b[0m\u001b[0;34m:\u001b[0m\u001b[0;34m,\u001b[0m\u001b[0;36m0\u001b[0m\u001b[0;34m,\u001b[0m\u001b[0mi\u001b[0m\u001b[0;34m]\u001b[0m\u001b[0;34m)\u001b[0m\u001b[0;34m)\u001b[0m\u001b[0;34m[\u001b[0m\u001b[0;36m0\u001b[0m\u001b[0;34m,\u001b[0m\u001b[0;36m0\u001b[0m\u001b[0;34m]\u001b[0m\u001b[0;34m)\u001b[0m\u001b[0;34m-\u001b[0m\u001b[0;36m1\u001b[0m\u001b[0;34m\u001b[0m\u001b[0;34m\u001b[0m\u001b[0m\n",
      "\u001b[0;31mNameError\u001b[0m: name 'zero_values' is not defined"
     ]
    }
   ],
   "source": [
    "#TODO: for each pair, identify the last row where the value is not nan\n",
    "row_end_values=zero_values.copy()\n",
    "for i in range(num_pairs):\n",
    "    row_end_values[i]=np.int(np.argwhere(np.isnan(position_array[:,0,i]))[0,0])-1"
   ]
  },
  {
   "cell_type": "code",
   "execution_count": null,
   "id": "57ce4347",
   "metadata": {},
   "outputs": [],
   "source": []
  }
 ],
 "metadata": {
  "kernelspec": {
   "display_name": "Python 3 (ipykernel)",
   "language": "python",
   "name": "python3"
  },
  "language_info": {
   "codemirror_mode": {
    "name": "ipython",
    "version": 3
   },
   "file_extension": ".py",
   "mimetype": "text/x-python",
   "name": "python",
   "nbconvert_exporter": "python",
   "pygments_lexer": "ipython3",
   "version": "3.7.10"
  },
  "toc": {
   "base_numbering": 1,
   "nav_menu": {},
   "number_sections": true,
   "sideBar": true,
   "skip_h1_title": false,
   "title_cell": "Table of Contents",
   "title_sidebar": "Contents",
   "toc_cell": false,
   "toc_position": {},
   "toc_section_display": true,
   "toc_window_display": false
  },
  "varInspector": {
   "cols": {
    "lenName": 16,
    "lenType": 16,
    "lenVar": 40
   },
   "kernels_config": {
    "python": {
     "delete_cmd_postfix": "",
     "delete_cmd_prefix": "del ",
     "library": "var_list.py",
     "varRefreshCmd": "print(var_dic_list())"
    },
    "r": {
     "delete_cmd_postfix": ") ",
     "delete_cmd_prefix": "rm(",
     "library": "var_list.r",
     "varRefreshCmd": "cat(var_dic_list()) "
    }
   },
   "types_to_exclude": [
    "module",
    "function",
    "builtin_function_or_method",
    "instance",
    "_Feature"
   ],
   "window_display": false
  }
 },
 "nbformat": 4,
 "nbformat_minor": 5
}
