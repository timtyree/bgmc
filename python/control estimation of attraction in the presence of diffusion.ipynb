{
 "cells": [
  {
   "cell_type": "markdown",
   "id": "cf6163a7",
   "metadata": {},
   "source": [
    "# control estimation of attraction in the presence of diffusion\n",
    "Tim Tyree<br>\n",
    "11.2.2021"
   ]
  },
  {
   "cell_type": "code",
   "execution_count": 1,
   "id": "a581f115",
   "metadata": {
    "ExecuteTime": {
     "end_time": "2021-11-03T15:42:34.668659Z",
     "start_time": "2021-11-03T15:42:32.075481Z"
    }
   },
   "outputs": [],
   "source": [
    "import cupy as cp, numpy as np\n",
    "import time\n",
    "import matplotlib.pyplot as plt\n",
    "from lib import *\n",
    "from scipy.signal import savgol_filter\n",
    "import dask.bag as db"
   ]
  },
  {
   "cell_type": "code",
   "execution_count": 2,
   "id": "6a6a6904",
   "metadata": {
    "ExecuteTime": {
     "end_time": "2021-11-03T15:42:34.679652Z",
     "start_time": "2021-11-03T15:42:34.669952Z"
    }
   },
   "outputs": [],
   "source": [
    "darkmode=True\n",
    "if darkmode:\n",
    "    # For darkmode plots\n",
    "    from jupyterthemes import jtplot\n",
    "    jtplot.style(theme='monokai', context='notebook', ticks=True, grid=False)"
   ]
  },
  {
   "cell_type": "code",
   "execution_count": 3,
   "id": "1de9784b",
   "metadata": {
    "ExecuteTime": {
     "end_time": "2021-11-03T15:42:36.438275Z",
     "start_time": "2021-11-03T15:42:34.680967Z"
    }
   },
   "outputs": [],
   "source": [
    "seed=42\n",
    "# #random number stream A\n",
    "# rs = RandomState(MT19937(SeedSequence(seed)))\n",
    "# #random number stream B\n",
    "# # rs = RandomState(MT19937(SeedSequence(987654321)))\n",
    "np.random.seed(seed)\n",
    "cp.random.seed(seed)"
   ]
  },
  {
   "cell_type": "markdown",
   "id": "19a9d100",
   "metadata": {},
   "source": [
    "# define module"
   ]
  },
  {
   "cell_type": "code",
   "execution_count": null,
   "id": "ca23efbd",
   "metadata": {},
   "outputs": [],
   "source": []
  },
  {
   "cell_type": "code",
   "execution_count": 61,
   "id": "078795bd",
   "metadata": {
    "ExecuteTime": {
     "end_time": "2021-11-03T18:03:54.427375Z",
     "start_time": "2021-11-03T18:03:54.400706Z"
    }
   },
   "outputs": [],
   "source": [
    "def gener_positions_control(\n",
    "        num_pairs=1500, #number of independent pairs of particles\n",
    "        a=5, #cm^2/s known attraction coefficient \n",
    "        D=1, #cm^2/s known diffusion coefficient\n",
    "        Dt=1e-5,\n",
    "        print_every=100000,\n",
    "        rend=0.001, #cm\n",
    "        printing=False\n",
    "    ):\n",
    "    '''\n",
    "    Example Usage:\n",
    "    positions_out,mean_array,std_array=gener_positions_control(a=a,D=D,printing=True)\n",
    "    '''\n",
    "    #initialize particles locations as being at the same location for\n",
    "    t=0\n",
    "    x1=0\n",
    "    x2=0.5\n",
    "    y1=0\n",
    "    y2=0.5\n",
    "    zero_values=np.zeros(num_pairs)\n",
    "\n",
    "    x1_values=zero_values.copy()+x1\n",
    "    x2_values=zero_values.copy()+x2\n",
    "    y1_values=zero_values.copy()+y1\n",
    "    y2_values=zero_values.copy()+y2\n",
    "\n",
    "    stepscale = np.sqrt(2 * D * Dt)\n",
    "    impulse_prefactor = a * Dt\n",
    "\n",
    "    tmax=10#0.1#1 #seconds\n",
    "    num_steps=np.int(np.around(tmax/Dt))\n",
    "\n",
    "    position_array=np.zeros(shape=(num_steps,4,num_pairs))+np.nan\n",
    "    mean_array=np.zeros(shape=(num_steps,3))\n",
    "    std_array=np.zeros(shape=(num_steps,3))\n",
    "    num_steps\n",
    "\n",
    "    #GOAL: add support for still_running\n",
    "    \n",
    "    boo_still_running=zero_values==zero_values\n",
    "    #TODO: initiallize still_running to True\n",
    "    #TODO: compute boo where particles become smaller than R_\n",
    "\n",
    "    if printing:\n",
    "        print(f\"running simulation for {num_steps} steps...\")\n",
    "    start=time.time()\n",
    "    for step_num in range(num_steps):\n",
    "        #compute the distance between each pair of particles\n",
    "        dx_values=(x2_values-x1_values)\n",
    "        dy_values=(y2_values-y1_values)\n",
    "        Rsq_values=dx_values*dx_values+dy_values*dy_values\n",
    "\n",
    "        #compute the attractive step between all pairs\n",
    "        f_values=impulse_prefactor/Rsq_values\n",
    "        F1x=f_values*dx_values\n",
    "        F1y=f_values*dy_values\n",
    "\n",
    "        #compute the diffusive step between all pairs\n",
    "        dxW1_values=stepscale*np.random.normal(size=num_pairs)\n",
    "        dxW2_values=stepscale*np.random.normal(size=num_pairs)\n",
    "        dyW1_values=stepscale*np.random.normal(size=num_pairs)\n",
    "        dyW2_values=stepscale*np.random.normal(size=num_pairs)\n",
    "\n",
    "        #the mean distance between all pairs of particles\n",
    "        R_values=np.sqrt(Rsq_values)\n",
    "        mean_R=np.mean(R_values)\n",
    "        std_R=np.mean(R_values)\n",
    "\n",
    "        #identify any particles that didn't get within the threshold distance\n",
    "        boo_still_running=R_values>rend\n",
    "\n",
    "        #the mean magnitude of the diffusive step\n",
    "        diffusive_step_values=0.5*np.sqrt(dxW1_values**2+dyW1_values**2)+0.5*np.sqrt(dxW2_values**2+dyW2_values**2)\n",
    "        mean_diffusive_step=np.mean(diffusive_step_values)\n",
    "        std_diffusive_step=np.std(diffusive_step_values)\n",
    "\n",
    "        #the mean magnitude of the attractive step\n",
    "        attractive_step_values=np.sqrt(F1x**2+F1y**2)\n",
    "        mean_attractive_step=np.mean(attractive_step_values)\n",
    "        std_attractive_step=np.std(attractive_step_values)\n",
    "        if printing:\n",
    "            if (step_num+1) % print_every == 0:\n",
    "                relative_percent=100*mean_diffusive_step/mean_attractive_step\n",
    "                print(f\"Simulation {100*(step_num+1)/num_steps:.0f}% completed: R={mean_R:.4f}+/-{1.96*std_R:.4f}, diffusion/attraction is {relative_percent:.2f}%\")\n",
    "                # print(f\"the mean range is {mean_R:.4f} cm\")\n",
    "                # print(f\"the mean diffusive step was {100*mean_diffusive_step/mean_attractive_step:.2f}% larger than the mean attractive step\")\n",
    "\n",
    "        #compute the net change in position \n",
    "        x1step_values=F1x+dxW1_values\n",
    "        y1step_values=F1y+dyW1_values\n",
    "        x2step_values=-F1x+dxW2_values\n",
    "        y2step_values=-F1y+dyW2_values\n",
    "\n",
    "        #update particle locations if they are still running\n",
    "        x1_values[boo_still_running]=x1_values[boo_still_running]+x1step_values[boo_still_running]\n",
    "        y1_values[boo_still_running]=y1_values[boo_still_running]+y1step_values[boo_still_running]\n",
    "        x2_values[boo_still_running]=x2_values[boo_still_running]+x2step_values[boo_still_running]\n",
    "        y2_values[boo_still_running]=y2_values[boo_still_running]+y2step_values[boo_still_running]\n",
    "        #DONE: verified the mean distance between particles got smaller    \n",
    "        # if (step_count+1) % save_every == 0:\n",
    "        #save particle locations to a numpy array with the correct number of positions\n",
    "        # x1,y1,x2,y2\n",
    "        position_array[step_num,0,boo_still_running]=x1_values[boo_still_running]\n",
    "        position_array[step_num,1,boo_still_running]=y1_values[boo_still_running]\n",
    "        position_array[step_num,2,boo_still_running]=x2_values[boo_still_running]\n",
    "        position_array[step_num,3,boo_still_running]=y2_values[boo_still_running]\n",
    "        mean_array[step_num,0]=mean_R\n",
    "        mean_array[step_num,1]=mean_diffusive_step\n",
    "        mean_array[step_num,2]=mean_attractive_step\n",
    "        #save results for quick plotting\n",
    "        std_array[step_num,0]=std_R\n",
    "        std_array[step_num,1]=std_diffusive_step\n",
    "        std_array[step_num,2]=std_attractive_step\n",
    "\n",
    "    \n",
    "    if printing:\n",
    "        print(f\"simulation complete!\\nTotal run time: {time.time()-start:.4f} seconds\")\n",
    "        print(f\"the number of particles that didn't finished is {sum(boo_still_running)} out of {boo_still_running.shape[0]}.\")\n",
    "\n",
    "    #GOAL: vectorized processing\n",
    "    # DONE: plot the basic results versus time and verify that they look reasonable\n",
    "    # DONE(optional): compute the moving average of particle locations\n",
    "    # DONE: compute all ranges\n",
    "    # DONE: find the row index where the positions first become closer than R_thresh=0.001 cm\n",
    "\n",
    "    #     ylabel_lst=['R (cm)','diffusive\\nstep size (cm)','attractive\\nstep size (cm)']\n",
    "    #     fig,axs=plt.subplots(1,3,figsize=(14,4),constrained_layout=True)\n",
    "    #     for i,(ax,ylabel) in enumerate(zip(axs,ylabel_lst)):\n",
    "    #         ax.plot(mean_array[:,i])\n",
    "    #         ax.fill_between(mean_array[:,i]-1.96*std_array[:,i],mean_array[:,i]+1.96*std_array[:,i],alpha=0.5)\n",
    "    #         format_plot(ax=ax,xlabel='t (sec)',ylabel=ylabel)\n",
    "    #     plt.show()\n",
    "\n",
    "    #DONE: compute the apparent attraction coefficient without smoothing\n",
    "    # np.argwhere(np.isnan(position_array[:,0,i])).flatten()\n",
    "    #identify any pairs that didn't end up closer than rend\n",
    "    boo_didnt_finish=~np.isnan(position_array[-1,0,:])\n",
    "    pairs_didnt_finish=np.argwhere(boo_didnt_finish).flatten()\n",
    "    #     if printing:\n",
    "    #         print((boo_didnt_finish.shape,pairs_didnt_finish))\n",
    "    set_pairs_ignore=set(pairs_didnt_finish)\n",
    "\n",
    "    tmax_recall=0.055 #max time to recall before the value is not nan\n",
    "    num_rows_recall=np.int(np.around(tmax_recall/Dt))\n",
    "    if printing:\n",
    "        print(num_rows_recall)\n",
    "\n",
    "    #for each pair, identify the last row where the value is not nan\n",
    "    row_end_values=zero_values.copy()+np.nan\n",
    "    for i in range(num_pairs):\n",
    "        if not set_pairs_ignore.issuperset({i}):\n",
    "            row_end=np.int(np.argwhere(np.isnan(position_array[:,0,i]))[0,0])-1\n",
    "            row_end_values[i]=row_end\n",
    "    #         #this step can introduce some error\n",
    "    #         if row_end<num_rows_recall:\n",
    "    #             #add this i to the ignore list\n",
    "    #             set_pairs_ignore.add(i)\n",
    "\n",
    "    #DONE: add pair to set_pairs_ignore if it ends sooner than num_rows_recall\n",
    "\n",
    "    #for each pair not to be ignored, put the last num_rows_recall before row_end_values into an array\n",
    "    positions_lst=[]\n",
    "    for i in range(num_pairs):\n",
    "        if not set_pairs_ignore.issuperset({i}):\n",
    "            row_end=np.int(row_end_values[i])\n",
    "            if row_end>=num_rows_recall:\n",
    "                positions=position_array[row_end-num_rows_recall:row_end,:,i]\n",
    "            else:\n",
    "                num_rows_rec=row_end\n",
    "                num_rows_pad=num_rows_recall-row_end\n",
    "                #pad the start with nans\n",
    "                nan_pad=np.full([num_rows_pad,4], np.nan)\n",
    "                positions=position_array[row_end-num_rows_rec:row_end,:,i]\n",
    "                #pad positions at its front\n",
    "                positions=np.concatenate((nan_pad,positions))\n",
    "\n",
    "            positions_lst.append(positions)\n",
    "    positions_out=np.stack(positions_lst,axis=-1)\n",
    "    del position_array\n",
    "    del positions_lst\n",
    "    return positions_out,mean_array,std_array"
   ]
  },
  {
   "cell_type": "code",
   "execution_count": 37,
   "id": "d9f77fe9",
   "metadata": {
    "ExecuteTime": {
     "end_time": "2021-11-03T17:44:52.692291Z",
     "start_time": "2021-11-03T17:44:52.688410Z"
    }
   },
   "outputs": [],
   "source": [
    "def moving_average(a, n=3):\n",
    "    ret = np.cumsum(a, dtype=float,axis=0)\n",
    "    ret[n:] = ret[n:] - ret[:-n]\n",
    "    return ret[n - 1:] / n"
   ]
  },
  {
   "cell_type": "code",
   "execution_count": 44,
   "id": "e01e59ea",
   "metadata": {
    "ExecuteTime": {
     "end_time": "2021-11-03T17:47:51.358643Z",
     "start_time": "2021-11-03T17:47:51.349882Z"
    }
   },
   "outputs": [],
   "source": [
    "def compute_attraction_coefficient_results(positions_out,tavg1,tavg2,Dt,printing=False):\n",
    "    '''\n",
    "    Example Usage:\n",
    "    df=compute_attraction_coefficient_results(positions_out,tavg1,tavg2,Dt)\n",
    "    '''\n",
    "    navg1=np.int(np.around(tavg1/(Dt*10**3)))\n",
    "    navg2=np.int(np.around(tavg2/(Dt*10**3)))\n",
    "\n",
    "    #define time points\n",
    "    #i=0\n",
    "    num_timepoints=positions_out.shape[0]\n",
    "    t_values=np.arange(0,Dt*num_timepoints,Dt)\n",
    "    #assert t_values.shape==range_values[:,i].shape\n",
    "    \n",
    "    #moving avg\n",
    "    if tavg1>0:\n",
    "        #compute the moving average of the positional trajectories\n",
    "        tavg_values=moving_average(t_values,n=navg1)\n",
    "        positions_out_ma=moving_average(positions_out, n=navg1)\n",
    "    else:\n",
    "        tavg_values=t_values\n",
    "        positions_out_ma=positions_out\n",
    "\n",
    "    #compute range # x1,y1,x2,y2\n",
    "    range_values= np.sqrt((positions_out_ma[:,0,:]-positions_out_ma[:,2,:])**2 + (positions_out_ma[:,1,:]-positions_out_ma[:,3,:])**2)\n",
    "\n",
    "\n",
    "\n",
    "    #compute savgol filter\n",
    "    if navg2>0:\n",
    "        if navg2<30: navg2=30\n",
    "        if navg2%2==0:navg2+=1\n",
    "        #DONE: test whether there is a significant difference between the savgol derivative and the finite difference derivative of the savgol filter\n",
    "        savgol_kwargs = dict(window_length=navg2,polyorder=3,deriv=0,delta=1.0,axis=-1,mode='interp')\n",
    "        #compute the savgol_filtered values for R\n",
    "        R_savgol_values=savgol_filter(range_values,**savgol_kwargs)\n",
    "        SR_values=R_savgol_values**2\n",
    "    else:\n",
    "        SR_values=range_values**2\n",
    "\n",
    "    #DONE: sompute MSR_values from SR_values\n",
    "    # SR_values\n",
    "\n",
    "    if printing:\n",
    "        print('nota bene: nan values are being kept in positions_out, so care needs to be taken to compute the particle averaged SR for every time')\n",
    "        print(f\"HINT: I need to compute the nonnan boolean index for each time slice\")\n",
    "    np.isnan(SR_values).any(),SR_values.shape\n",
    "    # assert not np.isnan(positions_out).any()\n",
    "\n",
    "    # the nonnan boolean index for each time slice\n",
    "    MSR_values=np.zeros_like(SR_values[:,0])\n",
    "    num_tbin,num_trials=SR_values.shape\n",
    "    for j in range (num_tbin):\n",
    "        boo=~np.isnan(SR_values[j,:])\n",
    "        MSR_values[-j]=np.mean(SR_values[j,boo])\n",
    "\n",
    "    t_thresh_values=np.arange(0.005,0.04,0.005)\n",
    "\n",
    "    start=time.time()\n",
    "    #generate apparent attraction coefficient data\n",
    "    a_sr_lst=[]\n",
    "    Delta_a_sr_lst=[]\n",
    "    Rsq_sr_lst=[]\n",
    "    # a_one_over_R_lst=[]\n",
    "    # Delta_a_one_over_R_lst=[]\n",
    "    # Rsq_one_over_R_lst=[]\n",
    "    tdeath_values=np.max(tavg_values)-tavg_values\n",
    "    for t_thresh in t_thresh_values:\n",
    "        #squared range method\n",
    "        boo=tdeath_values<=t_thresh\n",
    "        dict_sr=compute_slope.compute_95CI_ols(tdeath_values[boo], MSR_values[boo])\n",
    "        a_sr=dict_sr['m']/4\n",
    "        Delta_a_sr=dict_sr['Delta_m']/4\n",
    "\n",
    "    #     #inverse range method\n",
    "    #     boo=one_over_R_values<1/R_thresh\n",
    "    #     dict_one_over_R=compute_slope.compute_95CI_ols(one_over_R_values[boo], dRdt_values[boo])\n",
    "    #     a_one_over_R=-1*dict_one_over_R['m']/2\n",
    "    #     Delta_a_one_over_R=dict_one_over_R['Delta_m']/2\n",
    "\n",
    "        #record results\n",
    "        a_sr_lst.append(a_sr)\n",
    "        Delta_a_sr_lst.append(Delta_a_sr)\n",
    "        Rsq_sr_lst.append(dict_sr['Rsquared'])\n",
    "    #     a_one_over_R_lst.append(a_one_over_R)\n",
    "    #     Delta_a_one_over_R_lst.append(Delta_a_one_over_R)\n",
    "    #     Rsq_one_over_R_lst.append(dict_one_over_R['Rsquared'])\n",
    "    if printing:\n",
    "        print(f\"runtime computing attraction coefficients: {time.time()-start:.4f}\")\n",
    "\n",
    "    df=pd.DataFrame({\n",
    "        'tavg1':tavg1,\n",
    "        'tavg2':tavg2,\n",
    "        'tmax':t_thresh_values,\n",
    "        'a':a_sr_lst,\n",
    "        'Delta_a':Delta_a_sr_lst,\n",
    "        'Rsq_a':Rsq_sr_lst\n",
    "    })\n",
    "    return df"
   ]
  },
  {
   "cell_type": "code",
   "execution_count": null,
   "id": "d687e3a2",
   "metadata": {
    "ExecuteTime": {
     "end_time": "2021-11-03T18:05:03.483193Z",
     "start_time": "2021-11-03T18:05:03.446183Z"
    }
   },
   "outputs": [],
   "source": []
  },
  {
   "cell_type": "code",
   "execution_count": 54,
   "id": "2986ffa8",
   "metadata": {
    "ExecuteTime": {
     "end_time": "2021-11-03T17:53:01.247216Z",
     "start_time": "2021-11-03T17:53:01.236371Z"
    },
    "run_control": {
     "marked": true
    }
   },
   "outputs": [],
   "source": [
    "def save_control_results_for_setting(a,\n",
    "                                     D,\n",
    "                                     tavg_step=0.1,\n",
    "                                     tavg1_max=20,\n",
    "                                     tavg2_max=20,\n",
    "                                     printing=False,\n",
    "                                    save_folder=None):\n",
    "    if save_folder==None:\n",
    "        nb_dir=os.getcwd()\n",
    "        save_folder = f\"{nb_dir}/data/control_data/arrays\"\n",
    "    if not os.path.exists(save_folder):\n",
    "        os.mkdir(save_folder)\n",
    "    save_dir = os.path.join(save_folder, f\"control_a_{a}_D_{D}.npz\")\n",
    "\n",
    "    use_cache = False\n",
    "    caching = False\n",
    "\n",
    "    if use_cache:\n",
    "        arr = np.load(save_dir)\n",
    "        positions_out = arr['arr_0']\n",
    "    else:\n",
    "        positions_out, mean_array, std_array = gener_positions_control(\n",
    "            a=a, D=D, printing=True)\n",
    "\n",
    "    if caching:\n",
    "        #save array of positions to .npz\n",
    "        np.savez_compressed(save_dir, positions_out)\n",
    "        assert (os.path.exists(save_dir))\n",
    "\n",
    "        if printing:\n",
    "            print('saving array in:')\n",
    "            print(save_dir)\n",
    "\n",
    "    df_lst = []\n",
    "    for tavg1 in np.arange(0, tavg1_max, tavg_step):\n",
    "        for tavg2 in np.arange(0, tavg2_max, tavg_step):\n",
    "            df = compute_attraction_coefficient_results(\n",
    "                positions_out, tavg1, tavg2, Dt)\n",
    "            df_lst.append(df)\n",
    "    df_out = pd.concat(df_lst)\n",
    "    del df_lst\n",
    "\n",
    "    csv_dir = save_dir.replace(f'arrays/control_a_{a}_D_{D}.npz',\n",
    "                               f'control_a_{a}_D_{D}.csv')\n",
    "    df_out.to_csv(csv_dir, index=False)\n",
    "    return csv_dir"
   ]
  },
  {
   "cell_type": "markdown",
   "id": "ba0ce45e",
   "metadata": {},
   "source": [
    "# single simulation of diffusion in an unbounded domain\n",
    "- TODO: grid search over D from 0.1 to 2 in steps of 0.1\n",
    "- (GPU accelerate in cupy)\n",
    "- TODO: rewrite it from scratch, developing in vectorized pairs of particles\n",
    "- start 2 particles 1/np.sqrt(2) away from one another\n",
    "\n",
    "__Schema__\n",
    "1. t,x1,x2,y1,y2,pair_num"
   ]
  },
  {
   "cell_type": "code",
   "execution_count": 53,
   "id": "e33a30c4",
   "metadata": {
    "ExecuteTime": {
     "end_time": "2021-11-03T17:51:54.453630Z",
     "start_time": "2021-11-03T17:51:54.451215Z"
    }
   },
   "outputs": [],
   "source": [
    "num_pairs=1500 #number of independent pairs of particles\n",
    "a=5 #cm^2/s known attraction coefficient \n",
    "D=1 #cm^2/s known diffusion coefficient\n",
    "Dt=1e-5\n",
    "print_every=100000"
   ]
  },
  {
   "cell_type": "code",
   "execution_count": 55,
   "id": "9feb94fa",
   "metadata": {
    "ExecuteTime": {
     "end_time": "2021-11-03T17:53:09.003157Z",
     "start_time": "2021-11-03T17:53:08.995764Z"
    }
   },
   "outputs": [],
   "source": [
    "# positions_out,mean_array,std_array=gener_positions_control(a=a,D=D,printing=True)"
   ]
  },
  {
   "cell_type": "code",
   "execution_count": 56,
   "id": "ea61c48f",
   "metadata": {
    "ExecuteTime": {
     "end_time": "2021-11-03T17:53:11.027522Z",
     "start_time": "2021-11-03T17:53:11.025592Z"
    }
   },
   "outputs": [],
   "source": [
    "# df_lst=[]\n",
    "# for tavg1 in np.arange(0,1.,0.1):\n",
    "#     for tavg2 in np.arange(0,1.,0.1):\n",
    "#         df=compute_attraction_coefficient_results(positions_out,tavg1,tavg2,Dt)\n",
    "#         df_lst.append(df)\n",
    "# df_out=pd.concat(df_lst)\n",
    "# print(len(df_lst))\n",
    "# del df_lst\n",
    "# save_folder=f\"{nb_dir}/data/control_data/arrays\"\n",
    "# if not os.path.exists(save_folder):\n",
    "#     os.mkdir(save_folder)\n",
    "# save_dir=os.path.join(save_folder,f\"control_a_{a}_D_{D}.npz\")\n",
    "# csv_dir=save_dir.replace(f'arrays/control_a_{a}_D_{D}.npz',f'control_a_{a}_D_{D}.csv')\n",
    "# df_out.to_csv(csv_dir,index=False)"
   ]
  },
  {
   "cell_type": "code",
   "execution_count": 57,
   "id": "9e955fc6",
   "metadata": {
    "ExecuteTime": {
     "end_time": "2021-11-03T17:53:13.364721Z",
     "start_time": "2021-11-03T17:53:13.362725Z"
    }
   },
   "outputs": [],
   "source": [
    "# # tavg1,tavg2\n",
    "# a,D"
   ]
  },
  {
   "cell_type": "code",
   "execution_count": 29,
   "id": "65fef69f",
   "metadata": {
    "ExecuteTime": {
     "end_time": "2021-11-03T17:41:14.215729Z",
     "start_time": "2021-11-03T17:41:14.210485Z"
    }
   },
   "outputs": [
    {
     "data": {
      "text/plain": [
       "(array([0.000e+00, 1.000e-05, 2.000e-05, ..., 5.497e-02, 5.498e-02,\n",
       "        5.499e-02]),\n",
       " 0)"
      ]
     },
     "execution_count": 29,
     "metadata": {},
     "output_type": "execute_result"
    }
   ],
   "source": [
    "t_values,navg1"
   ]
  },
  {
   "cell_type": "code",
   "execution_count": 21,
   "id": "966c5e13",
   "metadata": {
    "ExecuteTime": {
     "end_time": "2021-11-03T17:37:46.807173Z",
     "start_time": "2021-11-03T17:37:46.805009Z"
    }
   },
   "outputs": [],
   "source": [
    "#TODO: fix the dask bag implementation"
   ]
  },
  {
   "cell_type": "code",
   "execution_count": 58,
   "id": "c1c74f77",
   "metadata": {
    "ExecuteTime": {
     "end_time": "2021-11-03T17:53:16.426082Z",
     "start_time": "2021-11-03T17:53:16.423853Z"
    }
   },
   "outputs": [],
   "source": [
    "# beep(5)"
   ]
  },
  {
   "cell_type": "code",
   "execution_count": 59,
   "id": "d4fddd5a",
   "metadata": {
    "ExecuteTime": {
     "end_time": "2021-11-03T17:53:17.818508Z",
     "start_time": "2021-11-03T17:53:17.813373Z"
    }
   },
   "outputs": [],
   "source": [
    "task_lst=[]\n",
    "for a in [5,2]:\n",
    "    for D in np.arange(0,1.1,0.1)[4:]:\n",
    "        task_lst.append((a,D))\n",
    "        \n",
    "def routine(data):\n",
    "    a,D=data\n",
    "    return save_control_results_for_setting(a,D)"
   ]
  },
  {
   "cell_type": "code",
   "execution_count": 60,
   "id": "1d7578c7",
   "metadata": {
    "ExecuteTime": {
     "end_time": "2021-11-03T18:01:22.156442Z",
     "start_time": "2021-11-03T17:54:18.648624Z"
    }
   },
   "outputs": [
    {
     "name": "stdout",
     "output_type": "stream",
     "text": [
      "running simulation for 1000000 steps...\n",
      "Simulation 10% completed: R=0.1420+/-0.2783, diffusion/attraction is 15.27%\n",
      "Simulation 20% completed: R=0.1035+/-0.2029, diffusion/attraction is 14.85%\n",
      "Simulation 30% completed: R=0.0866+/-0.1697, diffusion/attraction is 14.65%\n",
      "Simulation 40% completed: R=0.0595+/-0.1166, diffusion/attraction is 14.68%\n",
      "Simulation 50% completed: R=0.0578+/-0.1132, diffusion/attraction is 14.78%\n",
      "Simulation 60% completed: R=0.0530+/-0.1038, diffusion/attraction is 14.55%\n",
      "Simulation 70% completed: R=0.0490+/-0.0960, diffusion/attraction is 14.49%\n",
      "Simulation 80% completed: R=0.0573+/-0.1123, diffusion/attraction is 14.62%\n",
      "Simulation 90% completed: R=0.0564+/-0.1105, diffusion/attraction is 14.41%\n",
      "Simulation 100% completed: R=0.0561+/-0.1099, diffusion/attraction is 14.86%\n",
      "simulation complete!\n",
      "Total run time: 313.5142 seconds\n",
      "the number of particles that didn't finished is 10 out of 1500.\n",
      "((1500,), array([ 240,  323,  356,  844,  921, 1122, 1138, 1219, 1221, 1433]))\n",
      "5500\n",
      "   tavg1  tavg2   tmax         a   Delta_a     Rsq_a\n",
      "0    0.0    0.0  0.005 -2.432381  0.024563  0.986927\n",
      "1    0.0    0.0  0.010 -2.223505  0.012179  0.992266\n",
      "2    0.0    0.0  0.015 -2.302335  0.006936  0.996471\n",
      "3    0.0    0.0  0.020 -2.380395  0.005433  0.997298\n",
      "4    0.0    0.0  0.025 -2.379911  0.003501  0.998594\n"
     ]
    }
   ],
   "source": [
    "testing=True\n",
    "if testing:\n",
    "    fn_out=save_control_results_for_setting(a,D,\n",
    "                                    tavg_step=0.1,\n",
    "                                    tavg1_max=1,\n",
    "                                    tavg2_max=1,printing=True)\n",
    "    df=pd.read_csv(fn_out)\n",
    "    print(df.head())"
   ]
  },
  {
   "cell_type": "code",
   "execution_count": 18,
   "id": "1c8e9005",
   "metadata": {
    "ExecuteTime": {
     "end_time": "2021-11-03T17:07:16.067345Z",
     "start_time": "2021-11-03T17:01:35.800250Z"
    }
   },
   "outputs": [
    {
     "name": "stdout",
     "output_type": "stream",
     "text": [
      "note: approximately 45 GB of RAM is needed per worker\n",
      "running simulation for 1000000 steps...\n",
      "Simulation 10% completed: R=0.0007+/-0.0013, diffusion/attraction is 3.57%\n",
      "Simulation 20% completed: R=0.0007+/-0.0013, diffusion/attraction is 3.59%\n",
      "Simulation 30% completed: R=0.0007+/-0.0013, diffusion/attraction is 3.56%\n",
      "Simulation 40% completed: R=0.0007+/-0.0013, diffusion/attraction is 3.59%\n",
      "Simulation 50% completed: R=0.0007+/-0.0013, diffusion/attraction is 3.60%\n",
      "Simulation 60% completed: R=0.0007+/-0.0013, diffusion/attraction is 3.58%\n",
      "Simulation 70% completed: R=0.0007+/-0.0013, diffusion/attraction is 3.66%\n",
      "Simulation 80% completed: R=0.0007+/-0.0013, diffusion/attraction is 3.62%\n",
      "Simulation 90% completed: R=0.0007+/-0.0013, diffusion/attraction is 3.65%\n",
      "Simulation 100% completed: R=0.0007+/-0.0013, diffusion/attraction is 3.57%\n",
      "simulation complete!\n",
      "Total run time: 285.1986 seconds\n",
      "the number of particles that didn't finished is 0 out of 1500.\n",
      "((1500,), array([], dtype=int64))\n",
      "5500\n"
     ]
    },
    {
     "ename": "ValueError",
     "evalue": "operands could not be broadcast together with shapes (5500,) (0,) ",
     "output_type": "error",
     "traceback": [
      "\u001b[0;31m---------------------------------------------------------------------------\u001b[0m",
      "\u001b[0;31mValueError\u001b[0m                                Traceback (most recent call last)",
      "\u001b[0;32m/tmp/ipykernel_6069/3126697987.py\u001b[0m in \u001b[0;36m<module>\u001b[0;34m\u001b[0m\n\u001b[1;32m      2\u001b[0m \u001b[0mbag\u001b[0m \u001b[0;34m=\u001b[0m \u001b[0mdb\u001b[0m\u001b[0;34m.\u001b[0m\u001b[0mfrom_sequence\u001b[0m\u001b[0;34m(\u001b[0m\u001b[0mtask_lst\u001b[0m\u001b[0;34m,\u001b[0m \u001b[0mnpartitions\u001b[0m\u001b[0;34m=\u001b[0m\u001b[0;36m1\u001b[0m\u001b[0;34m)\u001b[0m\u001b[0;34m.\u001b[0m\u001b[0mmap\u001b[0m\u001b[0;34m(\u001b[0m\u001b[0mroutine\u001b[0m\u001b[0;34m)\u001b[0m\u001b[0;34m\u001b[0m\u001b[0;34m\u001b[0m\u001b[0m\n\u001b[1;32m      3\u001b[0m \u001b[0mstart\u001b[0m \u001b[0;34m=\u001b[0m \u001b[0mtime\u001b[0m\u001b[0;34m.\u001b[0m\u001b[0mtime\u001b[0m\u001b[0;34m(\u001b[0m\u001b[0;34m)\u001b[0m\u001b[0;34m\u001b[0m\u001b[0;34m\u001b[0m\u001b[0m\n\u001b[0;32m----> 4\u001b[0;31m \u001b[0mretval_lst\u001b[0m \u001b[0;34m=\u001b[0m \u001b[0mlist\u001b[0m\u001b[0;34m(\u001b[0m\u001b[0mbag\u001b[0m\u001b[0;34m)\u001b[0m\u001b[0;34m\u001b[0m\u001b[0;34m\u001b[0m\u001b[0m\n\u001b[0m\u001b[1;32m      5\u001b[0m \u001b[0mprint\u001b[0m\u001b[0;34m(\u001b[0m\u001b[0;34mf\"the run time for filtering files was {(time.time()-start)/60:.2f} minutes.\"\u001b[0m\u001b[0;34m)\u001b[0m\u001b[0;34m\u001b[0m\u001b[0;34m\u001b[0m\u001b[0m\n\u001b[1;32m      6\u001b[0m \u001b[0;31m# return retval_lst\u001b[0m\u001b[0;34m\u001b[0m\u001b[0;34m\u001b[0m\u001b[0;34m\u001b[0m\u001b[0m\n",
      "\u001b[0;32m~/anaconda3/envs/pyenv_ub/lib/python3.7/site-packages/dask/bag/core.py\u001b[0m in \u001b[0;36m__iter__\u001b[0;34m(self)\u001b[0m\n\u001b[1;32m   1441\u001b[0m \u001b[0;34m\u001b[0m\u001b[0m\n\u001b[1;32m   1442\u001b[0m     \u001b[0;32mdef\u001b[0m \u001b[0m__iter__\u001b[0m\u001b[0;34m(\u001b[0m\u001b[0mself\u001b[0m\u001b[0;34m)\u001b[0m\u001b[0;34m:\u001b[0m\u001b[0;34m\u001b[0m\u001b[0;34m\u001b[0m\u001b[0m\n\u001b[0;32m-> 1443\u001b[0;31m         \u001b[0;32mreturn\u001b[0m \u001b[0miter\u001b[0m\u001b[0;34m(\u001b[0m\u001b[0mself\u001b[0m\u001b[0;34m.\u001b[0m\u001b[0mcompute\u001b[0m\u001b[0;34m(\u001b[0m\u001b[0;34m)\u001b[0m\u001b[0;34m)\u001b[0m\u001b[0;34m\u001b[0m\u001b[0;34m\u001b[0m\u001b[0m\n\u001b[0m\u001b[1;32m   1444\u001b[0m \u001b[0;34m\u001b[0m\u001b[0m\n\u001b[1;32m   1445\u001b[0m     def groupby(\n",
      "\u001b[0;32m~/anaconda3/envs/pyenv_ub/lib/python3.7/site-packages/dask/base.py\u001b[0m in \u001b[0;36mcompute\u001b[0;34m(self, **kwargs)\u001b[0m\n\u001b[1;32m    284\u001b[0m         \u001b[0mdask\u001b[0m\u001b[0;34m.\u001b[0m\u001b[0mbase\u001b[0m\u001b[0;34m.\u001b[0m\u001b[0mcompute\u001b[0m\u001b[0;34m\u001b[0m\u001b[0;34m\u001b[0m\u001b[0m\n\u001b[1;32m    285\u001b[0m         \"\"\"\n\u001b[0;32m--> 286\u001b[0;31m         \u001b[0;34m(\u001b[0m\u001b[0mresult\u001b[0m\u001b[0;34m,\u001b[0m\u001b[0;34m)\u001b[0m \u001b[0;34m=\u001b[0m \u001b[0mcompute\u001b[0m\u001b[0;34m(\u001b[0m\u001b[0mself\u001b[0m\u001b[0;34m,\u001b[0m \u001b[0mtraverse\u001b[0m\u001b[0;34m=\u001b[0m\u001b[0;32mFalse\u001b[0m\u001b[0;34m,\u001b[0m \u001b[0;34m**\u001b[0m\u001b[0mkwargs\u001b[0m\u001b[0;34m)\u001b[0m\u001b[0;34m\u001b[0m\u001b[0;34m\u001b[0m\u001b[0m\n\u001b[0m\u001b[1;32m    287\u001b[0m         \u001b[0;32mreturn\u001b[0m \u001b[0mresult\u001b[0m\u001b[0;34m\u001b[0m\u001b[0;34m\u001b[0m\u001b[0m\n\u001b[1;32m    288\u001b[0m \u001b[0;34m\u001b[0m\u001b[0m\n",
      "\u001b[0;32m~/anaconda3/envs/pyenv_ub/lib/python3.7/site-packages/dask/base.py\u001b[0m in \u001b[0;36mcompute\u001b[0;34m(*args, **kwargs)\u001b[0m\n\u001b[1;32m    566\u001b[0m         \u001b[0mpostcomputes\u001b[0m\u001b[0;34m.\u001b[0m\u001b[0mappend\u001b[0m\u001b[0;34m(\u001b[0m\u001b[0mx\u001b[0m\u001b[0;34m.\u001b[0m\u001b[0m__dask_postcompute__\u001b[0m\u001b[0;34m(\u001b[0m\u001b[0;34m)\u001b[0m\u001b[0;34m)\u001b[0m\u001b[0;34m\u001b[0m\u001b[0;34m\u001b[0m\u001b[0m\n\u001b[1;32m    567\u001b[0m \u001b[0;34m\u001b[0m\u001b[0m\n\u001b[0;32m--> 568\u001b[0;31m     \u001b[0mresults\u001b[0m \u001b[0;34m=\u001b[0m \u001b[0mschedule\u001b[0m\u001b[0;34m(\u001b[0m\u001b[0mdsk\u001b[0m\u001b[0;34m,\u001b[0m \u001b[0mkeys\u001b[0m\u001b[0;34m,\u001b[0m \u001b[0;34m**\u001b[0m\u001b[0mkwargs\u001b[0m\u001b[0;34m)\u001b[0m\u001b[0;34m\u001b[0m\u001b[0;34m\u001b[0m\u001b[0m\n\u001b[0m\u001b[1;32m    569\u001b[0m     \u001b[0;32mreturn\u001b[0m \u001b[0mrepack\u001b[0m\u001b[0;34m(\u001b[0m\u001b[0;34m[\u001b[0m\u001b[0mf\u001b[0m\u001b[0;34m(\u001b[0m\u001b[0mr\u001b[0m\u001b[0;34m,\u001b[0m \u001b[0;34m*\u001b[0m\u001b[0ma\u001b[0m\u001b[0;34m)\u001b[0m \u001b[0;32mfor\u001b[0m \u001b[0mr\u001b[0m\u001b[0;34m,\u001b[0m \u001b[0;34m(\u001b[0m\u001b[0mf\u001b[0m\u001b[0;34m,\u001b[0m \u001b[0ma\u001b[0m\u001b[0;34m)\u001b[0m \u001b[0;32min\u001b[0m \u001b[0mzip\u001b[0m\u001b[0;34m(\u001b[0m\u001b[0mresults\u001b[0m\u001b[0;34m,\u001b[0m \u001b[0mpostcomputes\u001b[0m\u001b[0;34m)\u001b[0m\u001b[0;34m]\u001b[0m\u001b[0;34m)\u001b[0m\u001b[0;34m\u001b[0m\u001b[0;34m\u001b[0m\u001b[0m\n\u001b[1;32m    570\u001b[0m \u001b[0;34m\u001b[0m\u001b[0m\n",
      "\u001b[0;32m~/anaconda3/envs/pyenv_ub/lib/python3.7/site-packages/dask/multiprocessing.py\u001b[0m in \u001b[0;36mget\u001b[0;34m(dsk, keys, num_workers, func_loads, func_dumps, optimize_graph, pool, chunksize, **kwargs)\u001b[0m\n\u001b[1;32m    228\u001b[0m             \u001b[0mraise_exception\u001b[0m\u001b[0;34m=\u001b[0m\u001b[0mreraise\u001b[0m\u001b[0;34m,\u001b[0m\u001b[0;34m\u001b[0m\u001b[0;34m\u001b[0m\u001b[0m\n\u001b[1;32m    229\u001b[0m             \u001b[0mchunksize\u001b[0m\u001b[0;34m=\u001b[0m\u001b[0mchunksize\u001b[0m\u001b[0;34m,\u001b[0m\u001b[0;34m\u001b[0m\u001b[0;34m\u001b[0m\u001b[0m\n\u001b[0;32m--> 230\u001b[0;31m             \u001b[0;34m**\u001b[0m\u001b[0mkwargs\u001b[0m\u001b[0;34m\u001b[0m\u001b[0;34m\u001b[0m\u001b[0m\n\u001b[0m\u001b[1;32m    231\u001b[0m         )\n\u001b[1;32m    232\u001b[0m     \u001b[0;32mfinally\u001b[0m\u001b[0;34m:\u001b[0m\u001b[0;34m\u001b[0m\u001b[0;34m\u001b[0m\u001b[0m\n",
      "\u001b[0;32m~/anaconda3/envs/pyenv_ub/lib/python3.7/site-packages/dask/local.py\u001b[0m in \u001b[0;36mget_async\u001b[0;34m(submit, num_workers, dsk, result, cache, get_id, rerun_exceptions_locally, pack_exception, raise_exception, callbacks, dumps, loads, chunksize, **kwargs)\u001b[0m\n\u001b[1;32m    512\u001b[0m                             \u001b[0m_execute_task\u001b[0m\u001b[0;34m(\u001b[0m\u001b[0mtask\u001b[0m\u001b[0;34m,\u001b[0m \u001b[0mdata\u001b[0m\u001b[0;34m)\u001b[0m  \u001b[0;31m# Re-execute locally\u001b[0m\u001b[0;34m\u001b[0m\u001b[0;34m\u001b[0m\u001b[0m\n\u001b[1;32m    513\u001b[0m                         \u001b[0;32melse\u001b[0m\u001b[0;34m:\u001b[0m\u001b[0;34m\u001b[0m\u001b[0;34m\u001b[0m\u001b[0m\n\u001b[0;32m--> 514\u001b[0;31m                             \u001b[0mraise_exception\u001b[0m\u001b[0;34m(\u001b[0m\u001b[0mexc\u001b[0m\u001b[0;34m,\u001b[0m \u001b[0mtb\u001b[0m\u001b[0;34m)\u001b[0m\u001b[0;34m\u001b[0m\u001b[0;34m\u001b[0m\u001b[0m\n\u001b[0m\u001b[1;32m    515\u001b[0m                     \u001b[0mres\u001b[0m\u001b[0;34m,\u001b[0m \u001b[0mworker_id\u001b[0m \u001b[0;34m=\u001b[0m \u001b[0mloads\u001b[0m\u001b[0;34m(\u001b[0m\u001b[0mres_info\u001b[0m\u001b[0;34m)\u001b[0m\u001b[0;34m\u001b[0m\u001b[0;34m\u001b[0m\u001b[0m\n\u001b[1;32m    516\u001b[0m                     \u001b[0mstate\u001b[0m\u001b[0;34m[\u001b[0m\u001b[0;34m\"cache\"\u001b[0m\u001b[0;34m]\u001b[0m\u001b[0;34m[\u001b[0m\u001b[0mkey\u001b[0m\u001b[0;34m]\u001b[0m \u001b[0;34m=\u001b[0m \u001b[0mres\u001b[0m\u001b[0;34m\u001b[0m\u001b[0;34m\u001b[0m\u001b[0m\n",
      "\u001b[0;32m~/anaconda3/envs/pyenv_ub/lib/python3.7/site-packages/dask/local.py\u001b[0m in \u001b[0;36mreraise\u001b[0;34m(exc, tb)\u001b[0m\n\u001b[1;32m    323\u001b[0m     \u001b[0;32mif\u001b[0m \u001b[0mexc\u001b[0m\u001b[0;34m.\u001b[0m\u001b[0m__traceback__\u001b[0m \u001b[0;32mis\u001b[0m \u001b[0;32mnot\u001b[0m \u001b[0mtb\u001b[0m\u001b[0;34m:\u001b[0m\u001b[0;34m\u001b[0m\u001b[0;34m\u001b[0m\u001b[0m\n\u001b[1;32m    324\u001b[0m         \u001b[0;32mraise\u001b[0m \u001b[0mexc\u001b[0m\u001b[0;34m.\u001b[0m\u001b[0mwith_traceback\u001b[0m\u001b[0;34m(\u001b[0m\u001b[0mtb\u001b[0m\u001b[0;34m)\u001b[0m\u001b[0;34m\u001b[0m\u001b[0;34m\u001b[0m\u001b[0m\n\u001b[0;32m--> 325\u001b[0;31m     \u001b[0;32mraise\u001b[0m \u001b[0mexc\u001b[0m\u001b[0;34m\u001b[0m\u001b[0;34m\u001b[0m\u001b[0m\n\u001b[0m\u001b[1;32m    326\u001b[0m \u001b[0;34m\u001b[0m\u001b[0m\n\u001b[1;32m    327\u001b[0m \u001b[0;34m\u001b[0m\u001b[0m\n",
      "\u001b[0;32m~/anaconda3/envs/pyenv_ub/lib/python3.7/site-packages/dask/local.py\u001b[0m in \u001b[0;36mexecute_task\u001b[0;34m()\u001b[0m\n\u001b[1;32m    221\u001b[0m     \u001b[0;32mtry\u001b[0m\u001b[0;34m:\u001b[0m\u001b[0;34m\u001b[0m\u001b[0;34m\u001b[0m\u001b[0m\n\u001b[1;32m    222\u001b[0m         \u001b[0mtask\u001b[0m\u001b[0;34m,\u001b[0m \u001b[0mdata\u001b[0m \u001b[0;34m=\u001b[0m \u001b[0mloads\u001b[0m\u001b[0;34m(\u001b[0m\u001b[0mtask_info\u001b[0m\u001b[0;34m)\u001b[0m\u001b[0;34m\u001b[0m\u001b[0;34m\u001b[0m\u001b[0m\n\u001b[0;32m--> 223\u001b[0;31m         \u001b[0mresult\u001b[0m \u001b[0;34m=\u001b[0m \u001b[0m_execute_task\u001b[0m\u001b[0;34m(\u001b[0m\u001b[0mtask\u001b[0m\u001b[0;34m,\u001b[0m \u001b[0mdata\u001b[0m\u001b[0;34m)\u001b[0m\u001b[0;34m\u001b[0m\u001b[0;34m\u001b[0m\u001b[0m\n\u001b[0m\u001b[1;32m    224\u001b[0m         \u001b[0mid\u001b[0m \u001b[0;34m=\u001b[0m \u001b[0mget_id\u001b[0m\u001b[0;34m(\u001b[0m\u001b[0;34m)\u001b[0m\u001b[0;34m\u001b[0m\u001b[0;34m\u001b[0m\u001b[0m\n\u001b[1;32m    225\u001b[0m         \u001b[0mresult\u001b[0m \u001b[0;34m=\u001b[0m \u001b[0mdumps\u001b[0m\u001b[0;34m(\u001b[0m\u001b[0;34m(\u001b[0m\u001b[0mresult\u001b[0m\u001b[0;34m,\u001b[0m \u001b[0mid\u001b[0m\u001b[0;34m)\u001b[0m\u001b[0;34m)\u001b[0m\u001b[0;34m\u001b[0m\u001b[0;34m\u001b[0m\u001b[0m\n",
      "\u001b[0;32m~/anaconda3/envs/pyenv_ub/lib/python3.7/site-packages/dask/core.py\u001b[0m in \u001b[0;36m_execute_task\u001b[0;34m()\u001b[0m\n\u001b[1;32m    119\u001b[0m         \u001b[0;31m# temporaries by their reference count and can execute certain\u001b[0m\u001b[0;34m\u001b[0m\u001b[0;34m\u001b[0m\u001b[0;34m\u001b[0m\u001b[0m\n\u001b[1;32m    120\u001b[0m         \u001b[0;31m# operations in-place.\u001b[0m\u001b[0;34m\u001b[0m\u001b[0;34m\u001b[0m\u001b[0;34m\u001b[0m\u001b[0m\n\u001b[0;32m--> 121\u001b[0;31m         \u001b[0;32mreturn\u001b[0m \u001b[0mfunc\u001b[0m\u001b[0;34m(\u001b[0m\u001b[0;34m*\u001b[0m\u001b[0;34m(\u001b[0m\u001b[0m_execute_task\u001b[0m\u001b[0;34m(\u001b[0m\u001b[0ma\u001b[0m\u001b[0;34m,\u001b[0m \u001b[0mcache\u001b[0m\u001b[0;34m)\u001b[0m \u001b[0;32mfor\u001b[0m \u001b[0ma\u001b[0m \u001b[0;32min\u001b[0m \u001b[0margs\u001b[0m\u001b[0;34m)\u001b[0m\u001b[0;34m)\u001b[0m\u001b[0;34m\u001b[0m\u001b[0;34m\u001b[0m\u001b[0m\n\u001b[0m\u001b[1;32m    122\u001b[0m     \u001b[0;32melif\u001b[0m \u001b[0;32mnot\u001b[0m \u001b[0mishashable\u001b[0m\u001b[0;34m(\u001b[0m\u001b[0marg\u001b[0m\u001b[0;34m)\u001b[0m\u001b[0;34m:\u001b[0m\u001b[0;34m\u001b[0m\u001b[0;34m\u001b[0m\u001b[0m\n\u001b[1;32m    123\u001b[0m         \u001b[0;32mreturn\u001b[0m \u001b[0marg\u001b[0m\u001b[0;34m\u001b[0m\u001b[0;34m\u001b[0m\u001b[0m\n",
      "\u001b[0;32m~/anaconda3/envs/pyenv_ub/lib/python3.7/site-packages/dask/bag/core.py\u001b[0m in \u001b[0;36mreify\u001b[0;34m()\u001b[0m\n\u001b[1;32m   1807\u001b[0m \u001b[0;32mdef\u001b[0m \u001b[0mreify\u001b[0m\u001b[0;34m(\u001b[0m\u001b[0mseq\u001b[0m\u001b[0;34m)\u001b[0m\u001b[0;34m:\u001b[0m\u001b[0;34m\u001b[0m\u001b[0;34m\u001b[0m\u001b[0m\n\u001b[1;32m   1808\u001b[0m     \u001b[0;32mif\u001b[0m \u001b[0misinstance\u001b[0m\u001b[0;34m(\u001b[0m\u001b[0mseq\u001b[0m\u001b[0;34m,\u001b[0m \u001b[0mIterator\u001b[0m\u001b[0;34m)\u001b[0m\u001b[0;34m:\u001b[0m\u001b[0;34m\u001b[0m\u001b[0;34m\u001b[0m\u001b[0m\n\u001b[0;32m-> 1809\u001b[0;31m         \u001b[0mseq\u001b[0m \u001b[0;34m=\u001b[0m \u001b[0mlist\u001b[0m\u001b[0;34m(\u001b[0m\u001b[0mseq\u001b[0m\u001b[0;34m)\u001b[0m\u001b[0;34m\u001b[0m\u001b[0;34m\u001b[0m\u001b[0m\n\u001b[0m\u001b[1;32m   1810\u001b[0m     \u001b[0;32mif\u001b[0m \u001b[0mlen\u001b[0m\u001b[0;34m(\u001b[0m\u001b[0mseq\u001b[0m\u001b[0;34m)\u001b[0m \u001b[0;32mand\u001b[0m \u001b[0misinstance\u001b[0m\u001b[0;34m(\u001b[0m\u001b[0mseq\u001b[0m\u001b[0;34m[\u001b[0m\u001b[0;36m0\u001b[0m\u001b[0;34m]\u001b[0m\u001b[0;34m,\u001b[0m \u001b[0mIterator\u001b[0m\u001b[0;34m)\u001b[0m\u001b[0;34m:\u001b[0m\u001b[0;34m\u001b[0m\u001b[0;34m\u001b[0m\u001b[0m\n\u001b[1;32m   1811\u001b[0m         \u001b[0mseq\u001b[0m \u001b[0;34m=\u001b[0m \u001b[0mlist\u001b[0m\u001b[0;34m(\u001b[0m\u001b[0mmap\u001b[0m\u001b[0;34m(\u001b[0m\u001b[0mlist\u001b[0m\u001b[0;34m,\u001b[0m \u001b[0mseq\u001b[0m\u001b[0;34m)\u001b[0m\u001b[0;34m)\u001b[0m\u001b[0;34m\u001b[0m\u001b[0;34m\u001b[0m\u001b[0m\n",
      "\u001b[0;32m~/anaconda3/envs/pyenv_ub/lib/python3.7/site-packages/dask/bag/core.py\u001b[0m in \u001b[0;36m__next__\u001b[0;34m()\u001b[0m\n\u001b[1;32m   1994\u001b[0m             \u001b[0mkwargs\u001b[0m \u001b[0;34m=\u001b[0m \u001b[0mdict\u001b[0m\u001b[0;34m(\u001b[0m\u001b[0mzip\u001b[0m\u001b[0;34m(\u001b[0m\u001b[0mself\u001b[0m\u001b[0;34m.\u001b[0m\u001b[0mkwarg_keys\u001b[0m\u001b[0;34m,\u001b[0m \u001b[0mvals\u001b[0m\u001b[0;34m[\u001b[0m\u001b[0;34m-\u001b[0m\u001b[0mself\u001b[0m\u001b[0;34m.\u001b[0m\u001b[0mnkws\u001b[0m \u001b[0;34m:\u001b[0m\u001b[0;34m]\u001b[0m\u001b[0;34m)\u001b[0m\u001b[0;34m)\u001b[0m\u001b[0;34m\u001b[0m\u001b[0;34m\u001b[0m\u001b[0m\n\u001b[1;32m   1995\u001b[0m             \u001b[0;32mreturn\u001b[0m \u001b[0mself\u001b[0m\u001b[0;34m.\u001b[0m\u001b[0mf\u001b[0m\u001b[0;34m(\u001b[0m\u001b[0;34m*\u001b[0m\u001b[0margs\u001b[0m\u001b[0;34m,\u001b[0m \u001b[0;34m**\u001b[0m\u001b[0mkwargs\u001b[0m\u001b[0;34m)\u001b[0m\u001b[0;34m\u001b[0m\u001b[0;34m\u001b[0m\u001b[0m\n\u001b[0;32m-> 1996\u001b[0;31m         \u001b[0;32mreturn\u001b[0m \u001b[0mself\u001b[0m\u001b[0;34m.\u001b[0m\u001b[0mf\u001b[0m\u001b[0;34m(\u001b[0m\u001b[0;34m*\u001b[0m\u001b[0mvals\u001b[0m\u001b[0;34m)\u001b[0m\u001b[0;34m\u001b[0m\u001b[0;34m\u001b[0m\u001b[0m\n\u001b[0m\u001b[1;32m   1997\u001b[0m \u001b[0;34m\u001b[0m\u001b[0m\n\u001b[1;32m   1998\u001b[0m     \u001b[0;32mdef\u001b[0m \u001b[0mcheck_all_iterators_consumed\u001b[0m\u001b[0;34m(\u001b[0m\u001b[0mself\u001b[0m\u001b[0;34m)\u001b[0m\u001b[0;34m:\u001b[0m\u001b[0;34m\u001b[0m\u001b[0;34m\u001b[0m\u001b[0m\n",
      "\u001b[0;32m/tmp/ipykernel_6069/3212897719.py\u001b[0m in \u001b[0;36mroutine\u001b[0;34m()\u001b[0m\n\u001b[1;32m      6\u001b[0m \u001b[0;32mdef\u001b[0m \u001b[0mroutine\u001b[0m\u001b[0;34m(\u001b[0m\u001b[0mdata\u001b[0m\u001b[0;34m)\u001b[0m\u001b[0;34m:\u001b[0m\u001b[0;34m\u001b[0m\u001b[0;34m\u001b[0m\u001b[0m\n\u001b[1;32m      7\u001b[0m     \u001b[0ma\u001b[0m\u001b[0;34m,\u001b[0m\u001b[0mD\u001b[0m\u001b[0;34m=\u001b[0m\u001b[0mdata\u001b[0m\u001b[0;34m\u001b[0m\u001b[0;34m\u001b[0m\u001b[0m\n\u001b[0;32m----> 8\u001b[0;31m     \u001b[0;32mreturn\u001b[0m \u001b[0msave_control_results_for_setting\u001b[0m\u001b[0;34m(\u001b[0m\u001b[0ma\u001b[0m\u001b[0;34m,\u001b[0m\u001b[0mD\u001b[0m\u001b[0;34m)\u001b[0m\u001b[0;34m\u001b[0m\u001b[0;34m\u001b[0m\u001b[0m\n\u001b[0m",
      "\u001b[0;32m/tmp/ipykernel_6069/2863379483.py\u001b[0m in \u001b[0;36msave_control_results_for_setting\u001b[0;34m()\u001b[0m\n\u001b[1;32m     26\u001b[0m     \u001b[0;32mfor\u001b[0m \u001b[0mtavg1\u001b[0m \u001b[0;32min\u001b[0m \u001b[0mnp\u001b[0m\u001b[0;34m.\u001b[0m\u001b[0marange\u001b[0m\u001b[0;34m(\u001b[0m\u001b[0;36m0\u001b[0m\u001b[0;34m,\u001b[0m\u001b[0;36m20\u001b[0m\u001b[0;34m,\u001b[0m\u001b[0;36m0.1\u001b[0m\u001b[0;34m)\u001b[0m\u001b[0;34m:\u001b[0m\u001b[0;34m\u001b[0m\u001b[0;34m\u001b[0m\u001b[0m\n\u001b[1;32m     27\u001b[0m         \u001b[0;32mfor\u001b[0m \u001b[0mtavg2\u001b[0m \u001b[0;32min\u001b[0m \u001b[0mnp\u001b[0m\u001b[0;34m.\u001b[0m\u001b[0marange\u001b[0m\u001b[0;34m(\u001b[0m\u001b[0;36m0\u001b[0m\u001b[0;34m,\u001b[0m\u001b[0;36m20\u001b[0m\u001b[0;34m,\u001b[0m\u001b[0;36m0.1\u001b[0m\u001b[0;34m)\u001b[0m\u001b[0;34m:\u001b[0m\u001b[0;34m\u001b[0m\u001b[0;34m\u001b[0m\u001b[0m\n\u001b[0;32m---> 28\u001b[0;31m             \u001b[0mdf\u001b[0m\u001b[0;34m=\u001b[0m\u001b[0mcompute_attraction_coefficient_results\u001b[0m\u001b[0;34m(\u001b[0m\u001b[0mpositions_out\u001b[0m\u001b[0;34m,\u001b[0m\u001b[0mtavg1\u001b[0m\u001b[0;34m,\u001b[0m\u001b[0mtavg2\u001b[0m\u001b[0;34m,\u001b[0m\u001b[0mDt\u001b[0m\u001b[0;34m)\u001b[0m\u001b[0;34m\u001b[0m\u001b[0;34m\u001b[0m\u001b[0m\n\u001b[0m\u001b[1;32m     29\u001b[0m             \u001b[0mdf_lst\u001b[0m\u001b[0;34m.\u001b[0m\u001b[0mappend\u001b[0m\u001b[0;34m(\u001b[0m\u001b[0mdf\u001b[0m\u001b[0;34m)\u001b[0m\u001b[0;34m\u001b[0m\u001b[0;34m\u001b[0m\u001b[0m\n\u001b[1;32m     30\u001b[0m     \u001b[0mdf_out\u001b[0m\u001b[0;34m=\u001b[0m\u001b[0mpd\u001b[0m\u001b[0;34m.\u001b[0m\u001b[0mconcat\u001b[0m\u001b[0;34m(\u001b[0m\u001b[0mdf_lst\u001b[0m\u001b[0;34m)\u001b[0m\u001b[0;34m\u001b[0m\u001b[0;34m\u001b[0m\u001b[0m\n",
      "\u001b[0;32m/tmp/ipykernel_6069/3607601906.py\u001b[0m in \u001b[0;36mcompute_attraction_coefficient_results\u001b[0;34m()\u001b[0m\n\u001b[1;32m     34\u001b[0m         \u001b[0msavgol_kwargs\u001b[0m \u001b[0;34m=\u001b[0m \u001b[0mdict\u001b[0m\u001b[0;34m(\u001b[0m\u001b[0mwindow_length\u001b[0m\u001b[0;34m=\u001b[0m\u001b[0mnavg2\u001b[0m\u001b[0;34m,\u001b[0m\u001b[0mpolyorder\u001b[0m\u001b[0;34m=\u001b[0m\u001b[0;36m3\u001b[0m\u001b[0;34m,\u001b[0m\u001b[0mderiv\u001b[0m\u001b[0;34m=\u001b[0m\u001b[0;36m0\u001b[0m\u001b[0;34m,\u001b[0m\u001b[0mdelta\u001b[0m\u001b[0;34m=\u001b[0m\u001b[0;36m1.0\u001b[0m\u001b[0;34m,\u001b[0m\u001b[0maxis\u001b[0m\u001b[0;34m=\u001b[0m\u001b[0;34m-\u001b[0m\u001b[0;36m1\u001b[0m\u001b[0;34m,\u001b[0m\u001b[0mmode\u001b[0m\u001b[0;34m=\u001b[0m\u001b[0;34m'interp'\u001b[0m\u001b[0;34m)\u001b[0m\u001b[0;34m\u001b[0m\u001b[0;34m\u001b[0m\u001b[0m\n\u001b[1;32m     35\u001b[0m         \u001b[0;31m#compute the moving average of the positional trajectories\u001b[0m\u001b[0;34m\u001b[0m\u001b[0;34m\u001b[0m\u001b[0;34m\u001b[0m\u001b[0m\n\u001b[0;32m---> 36\u001b[0;31m         \u001b[0mtavg_values\u001b[0m\u001b[0;34m=\u001b[0m\u001b[0mmoving_average\u001b[0m\u001b[0;34m(\u001b[0m\u001b[0mt_values\u001b[0m\u001b[0;34m,\u001b[0m\u001b[0mnavg1\u001b[0m\u001b[0;34m)\u001b[0m\u001b[0;34m\u001b[0m\u001b[0;34m\u001b[0m\u001b[0m\n\u001b[0m\u001b[1;32m     37\u001b[0m         \u001b[0;31m#compute the savgol_filtered values for R\u001b[0m\u001b[0;34m\u001b[0m\u001b[0;34m\u001b[0m\u001b[0;34m\u001b[0m\u001b[0m\n\u001b[1;32m     38\u001b[0m         \u001b[0mR_savgol_values\u001b[0m\u001b[0;34m=\u001b[0m\u001b[0msavgol_filter\u001b[0m\u001b[0;34m(\u001b[0m\u001b[0mrange_values\u001b[0m\u001b[0;34m,\u001b[0m\u001b[0;34m**\u001b[0m\u001b[0msavgol_kwargs\u001b[0m\u001b[0;34m)\u001b[0m\u001b[0;34m\u001b[0m\u001b[0;34m\u001b[0m\u001b[0m\n",
      "\u001b[0;32m/tmp/ipykernel_6069/194526412.py\u001b[0m in \u001b[0;36mmoving_average\u001b[0;34m()\u001b[0m\n\u001b[1;32m      1\u001b[0m \u001b[0;32mdef\u001b[0m \u001b[0mmoving_average\u001b[0m\u001b[0;34m(\u001b[0m\u001b[0ma\u001b[0m\u001b[0;34m,\u001b[0m \u001b[0mn\u001b[0m\u001b[0;34m=\u001b[0m\u001b[0;36m3\u001b[0m\u001b[0;34m)\u001b[0m\u001b[0;34m:\u001b[0m\u001b[0;34m\u001b[0m\u001b[0;34m\u001b[0m\u001b[0m\n\u001b[1;32m      2\u001b[0m     \u001b[0mret\u001b[0m \u001b[0;34m=\u001b[0m \u001b[0mnp\u001b[0m\u001b[0;34m.\u001b[0m\u001b[0mcumsum\u001b[0m\u001b[0;34m(\u001b[0m\u001b[0ma\u001b[0m\u001b[0;34m,\u001b[0m \u001b[0mdtype\u001b[0m\u001b[0;34m=\u001b[0m\u001b[0mfloat\u001b[0m\u001b[0;34m,\u001b[0m\u001b[0maxis\u001b[0m\u001b[0;34m=\u001b[0m\u001b[0;36m0\u001b[0m\u001b[0;34m)\u001b[0m\u001b[0;34m\u001b[0m\u001b[0;34m\u001b[0m\u001b[0m\n\u001b[0;32m----> 3\u001b[0;31m     \u001b[0mret\u001b[0m\u001b[0;34m[\u001b[0m\u001b[0mn\u001b[0m\u001b[0;34m:\u001b[0m\u001b[0;34m]\u001b[0m \u001b[0;34m=\u001b[0m \u001b[0mret\u001b[0m\u001b[0;34m[\u001b[0m\u001b[0mn\u001b[0m\u001b[0;34m:\u001b[0m\u001b[0;34m]\u001b[0m \u001b[0;34m-\u001b[0m \u001b[0mret\u001b[0m\u001b[0;34m[\u001b[0m\u001b[0;34m:\u001b[0m\u001b[0;34m-\u001b[0m\u001b[0mn\u001b[0m\u001b[0;34m]\u001b[0m\u001b[0;34m\u001b[0m\u001b[0;34m\u001b[0m\u001b[0m\n\u001b[0m\u001b[1;32m      4\u001b[0m     \u001b[0;32mreturn\u001b[0m \u001b[0mret\u001b[0m\u001b[0;34m[\u001b[0m\u001b[0mn\u001b[0m \u001b[0;34m-\u001b[0m \u001b[0;36m1\u001b[0m\u001b[0;34m:\u001b[0m\u001b[0;34m]\u001b[0m \u001b[0;34m/\u001b[0m \u001b[0mn\u001b[0m\u001b[0;34m\u001b[0m\u001b[0;34m\u001b[0m\u001b[0m\n",
      "\u001b[0;31mValueError\u001b[0m: operands could not be broadcast together with shapes (5500,) (0,) "
     ]
    }
   ],
   "source": [
    "print(f\"note: approximately 45 GB of RAM is needed per worker\")\n",
    "npartitions=1\n",
    "bag = db.from_sequence(task_lst, npartitions=npartitions).map(routine)\n",
    "start = time.time()\n",
    "retval_lst = list(bag)\n",
    "print(f\"the run time for filtering files was {(time.time()-start)/60:.2f} minutes.\")\n",
    "# return retval_lst\n",
    "print(len(retval_lst))"
   ]
  },
  {
   "cell_type": "markdown",
   "id": "c655a737",
   "metadata": {},
   "source": [
    "# visualization"
   ]
  },
  {
   "cell_type": "code",
   "execution_count": null,
   "id": "3a2f9494",
   "metadata": {
    "ExecuteTime": {
     "end_time": "2021-11-03T15:43:43.934221Z",
     "start_time": "2021-11-03T15:43:43.934199Z"
    }
   },
   "outputs": [],
   "source": [
    "for i in range(100):#[5,7,100]:\n",
    "    plt.plot(t_values,range_values[::-1,i],c='gray',lw=2,alpha=0.5)\n",
    "format_plot(ax=plt.gca(),xlabel='t (sec)',ylabel=r'MSR (cm$^2$)')\n",
    "plt.show()"
   ]
  },
  {
   "cell_type": "code",
   "execution_count": null,
   "id": "54384820",
   "metadata": {
    "ExecuteTime": {
     "end_time": "2021-11-03T15:43:43.935938Z",
     "start_time": "2021-11-03T15:43:43.935913Z"
    }
   },
   "outputs": [],
   "source": [
    "#TODO: make a simple plot of MSR vs tf-t\n",
    "# for i in range(100):#[5,7,100]:\n",
    "#     plt.plot(t_values,range_values[::-1,i]**2,c='gray',lw=2,alpha=0.5)\n",
    "plt.plot(t_values[1:],MSR_values[1:]**2,c='C0',lw=2,alpha=0.5)\n",
    "format_plot(ax=plt.gca(),xlabel=r'$t_f-t$ (sec)',ylabel=r'MSR (cm$^2$)')\n",
    "plt.show()"
   ]
  },
  {
   "cell_type": "code",
   "execution_count": null,
   "id": "2bdf5656",
   "metadata": {
    "ExecuteTime": {
     "end_time": "2021-11-03T15:43:43.937886Z",
     "start_time": "2021-11-03T15:43:43.937863Z"
    }
   },
   "outputs": [],
   "source": [
    "#TODO: visualize a_SR versus tmax\n",
    "a_SR_lst"
   ]
  },
  {
   "cell_type": "code",
   "execution_count": null,
   "id": "ea6cd570",
   "metadata": {
    "ExecuteTime": {
     "end_time": "2021-11-03T15:43:43.939719Z",
     "start_time": "2021-11-03T15:43:43.939696Z"
    }
   },
   "outputs": [],
   "source": [
    "#TODO: try to understand what the quadratic MSR versus t means"
   ]
  },
  {
   "cell_type": "code",
   "execution_count": null,
   "id": "8cf89e59",
   "metadata": {
    "ExecuteTime": {
     "end_time": "2021-11-03T15:43:43.941221Z",
     "start_time": "2021-11-03T15:43:43.941203Z"
    }
   },
   "outputs": [],
   "source": [
    "#TODO: wrap map from tavg1,tavg2 to a_SR et al"
   ]
  },
  {
   "cell_type": "code",
   "execution_count": null,
   "id": "16494cc5",
   "metadata": {},
   "outputs": [],
   "source": []
  },
  {
   "cell_type": "code",
   "execution_count": null,
   "id": "49056c05",
   "metadata": {},
   "outputs": [],
   "source": []
  },
  {
   "cell_type": "code",
   "execution_count": null,
   "id": "25f634a3",
   "metadata": {
    "ExecuteTime": {
     "end_time": "2021-11-03T15:43:43.942396Z",
     "start_time": "2021-11-03T15:43:43.942373Z"
    }
   },
   "outputs": [],
   "source": [
    "#TODO: dev grid search over tavg1,tavg2 to a dataframe of a_SR et al"
   ]
  },
  {
   "cell_type": "code",
   "execution_count": null,
   "id": "7add01b8",
   "metadata": {
    "ExecuteTime": {
     "end_time": "2021-11-03T15:43:43.944267Z",
     "start_time": "2021-11-03T15:43:43.944247Z"
    }
   },
   "outputs": [],
   "source": [
    "#TODO: save ^that dataframe as csv"
   ]
  },
  {
   "cell_type": "code",
   "execution_count": null,
   "id": "c9278772",
   "metadata": {
    "ExecuteTime": {
     "end_time": "2021-11-03T15:43:43.945791Z",
     "start_time": "2021-11-03T15:43:43.945774Z"
    }
   },
   "outputs": [],
   "source": [
    "#(supposing the tavg1,tavg2 grid search is reasonably fast <1 hour),\n",
    "#TODO: run a dask bag over D=0.,...,1. in min(0.1,x), where x = the minimum stepsize that should finish by the time I wakeup tomorrow\n",
    "#nota bene: without too much difficulty, I could use 50 cores from ssh-miller and use ~5X smaller x..."
   ]
  },
  {
   "cell_type": "code",
   "execution_count": null,
   "id": "37a50a52",
   "metadata": {},
   "outputs": [],
   "source": []
  }
 ],
 "metadata": {
  "kernelspec": {
   "display_name": "Python 3 (ipykernel)",
   "language": "python",
   "name": "python3"
  },
  "language_info": {
   "codemirror_mode": {
    "name": "ipython",
    "version": 3
   },
   "file_extension": ".py",
   "mimetype": "text/x-python",
   "name": "python",
   "nbconvert_exporter": "python",
   "pygments_lexer": "ipython3",
   "version": "3.7.10"
  },
  "toc": {
   "base_numbering": 1,
   "nav_menu": {},
   "number_sections": true,
   "sideBar": true,
   "skip_h1_title": false,
   "title_cell": "Table of Contents",
   "title_sidebar": "Contents",
   "toc_cell": false,
   "toc_position": {},
   "toc_section_display": true,
   "toc_window_display": false
  },
  "varInspector": {
   "cols": {
    "lenName": 16,
    "lenType": 16,
    "lenVar": 40
   },
   "kernels_config": {
    "python": {
     "delete_cmd_postfix": "",
     "delete_cmd_prefix": "del ",
     "library": "var_list.py",
     "varRefreshCmd": "print(var_dic_list())"
    },
    "r": {
     "delete_cmd_postfix": ") ",
     "delete_cmd_prefix": "rm(",
     "library": "var_list.r",
     "varRefreshCmd": "cat(var_dic_list()) "
    }
   },
   "types_to_exclude": [
    "module",
    "function",
    "builtin_function_or_method",
    "instance",
    "_Feature"
   ],
   "window_display": false
  }
 },
 "nbformat": 4,
 "nbformat_minor": 5
}
