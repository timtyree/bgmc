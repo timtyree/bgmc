{
 "cells": [
  {
   "cell_type": "markdown",
   "id": "cf6163a7",
   "metadata": {},
   "source": [
    "# control estimation of attraction in the presence of diffusion\n",
    "Tim Tyree<br>\n",
    "11.2.2021"
   ]
  },
  {
   "cell_type": "code",
   "execution_count": 1,
   "id": "a581f115",
   "metadata": {
    "ExecuteTime": {
     "end_time": "2021-11-10T06:12:06.769442Z",
     "start_time": "2021-11-10T06:12:04.343664Z"
    }
   },
   "outputs": [],
   "source": [
    "import cupy as cp, numpy as np\n",
    "import time\n",
    "import matplotlib.pyplot as plt\n",
    "from lib import *\n",
    "from scipy.signal import savgol_filter\n",
    "import dask.bag as db"
   ]
  },
  {
   "cell_type": "code",
   "execution_count": 2,
   "id": "6a6a6904",
   "metadata": {
    "ExecuteTime": {
     "end_time": "2021-11-10T06:12:06.781003Z",
     "start_time": "2021-11-10T06:12:06.771759Z"
    }
   },
   "outputs": [],
   "source": [
    "darkmode=True\n",
    "if darkmode:\n",
    "    # For darkmode plots\n",
    "    from jupyterthemes import jtplot\n",
    "    jtplot.style(theme='monokai', context='notebook', ticks=True, grid=False)"
   ]
  },
  {
   "cell_type": "code",
   "execution_count": 3,
   "id": "1de9784b",
   "metadata": {
    "ExecuteTime": {
     "end_time": "2021-11-10T06:12:06.785200Z",
     "start_time": "2021-11-10T06:12:06.782468Z"
    }
   },
   "outputs": [],
   "source": [
    "seed=42\n",
    "# #random number stream A\n",
    "# rs = RandomState(MT19937(SeedSequence(seed)))\n",
    "# #random number stream B\n",
    "# # rs = RandomState(MT19937(SeedSequence(987654321)))\n",
    "np.random.seed(seed)\n",
    "# cp.random.seed(seed)"
   ]
  },
  {
   "cell_type": "markdown",
   "id": "19a9d100",
   "metadata": {},
   "source": [
    "# define module"
   ]
  },
  {
   "cell_type": "code",
   "execution_count": null,
   "id": "c1d96a92",
   "metadata": {
    "ExecuteTime": {
     "end_time": "2021-11-04T15:28:48.207799Z",
     "start_time": "2021-11-04T15:28:48.205554Z"
    }
   },
   "outputs": [],
   "source": []
  },
  {
   "cell_type": "code",
   "execution_count": 4,
   "id": "078795bd",
   "metadata": {
    "ExecuteTime": {
     "end_time": "2021-11-10T06:12:06.806960Z",
     "start_time": "2021-11-10T06:12:06.786959Z"
    }
   },
   "outputs": [],
   "source": [
    "def gener_positions_control(\n",
    "    num_pairs=1500, #number of independent pairs of particles\n",
    "    a=5, #cm^2/s known attraction coefficient \n",
    "    D=1, #cm^2/s known diffusion coefficient\n",
    "    Dt=1e-5,\n",
    "    print_every=100000,\n",
    "    rend=0.1, #cm\n",
    "    printing=False,**kwargs\n",
    "):\n",
    "    '''\n",
    "    Example Usage:\n",
    "    positions_out,mean_array,std_array=gener_positions_control(a=a,D=D,printing=True)\n",
    "    '''\n",
    "    #initialize particles locations as being at the same locations\n",
    "    t=0\n",
    "    x1=0\n",
    "    x2=0.5\n",
    "    y1=0\n",
    "    y2=0.5\n",
    "    zero_values=np.zeros(num_pairs)\n",
    "\n",
    "    x1_values=zero_values.copy()+x1\n",
    "    x2_values=zero_values.copy()+x2\n",
    "    y1_values=zero_values.copy()+y1\n",
    "    y2_values=zero_values.copy()+y2\n",
    "\n",
    "    stepscale = np.sqrt(2 * D * Dt)\n",
    "    impulse_prefactor = a * Dt\n",
    "\n",
    "    tmax=10#0.1#1 #seconds\n",
    "    num_steps=np.int64(np.around(tmax/Dt))\n",
    "\n",
    "    position_array=np.zeros(shape=(num_steps,4,num_pairs))+np.nan\n",
    "    mean_array=np.zeros(shape=(num_steps,3))\n",
    "    std_array=np.zeros(shape=(num_steps,3))\n",
    "\n",
    "    #GOAL: add support for still_running\n",
    "\n",
    "    boo_still_running=zero_values==zero_values\n",
    "    #TODO: initiallize still_running to True\n",
    "    #TODO: compute boo where particles become smaller than R_\n",
    "\n",
    "    #compute the distance between each pair of particles\n",
    "    dx_values=(x2_values-x1_values)\n",
    "    dy_values=(y2_values-y1_values)\n",
    "    Rsq_values=dx_values*dx_values+dy_values*dy_values\n",
    "\n",
    "    if printing:\n",
    "        print(f\"running simulation for {num_steps} steps...\")\n",
    "    start=time.time()\n",
    "    for step_num in range(num_steps):\n",
    "        #compute the attractive step between all pairs\n",
    "        f_values=impulse_prefactor/Rsq_values\n",
    "        F1x=f_values*dx_values\n",
    "        F1y=f_values*dy_values\n",
    "\n",
    "        #compute the diffusive step between all pairs\n",
    "        dxW1_values=stepscale*np.random.normal(size=num_pairs)\n",
    "        dxW2_values=stepscale*np.random.normal(size=num_pairs)\n",
    "        dyW1_values=stepscale*np.random.normal(size=num_pairs)\n",
    "        dyW2_values=stepscale*np.random.normal(size=num_pairs)\n",
    "\n",
    "        #the mean distance between all pairs of particles\n",
    "        R_values=np.sqrt(Rsq_values)\n",
    "        mean_R=np.mean(R_values)\n",
    "        std_R=np.mean(R_values)\n",
    "\n",
    "        #the mean magnitude of the diffusive step\n",
    "        diffusive_step_values=0.5*np.sqrt(dxW1_values**2+dyW1_values**2)+0.5*np.sqrt(dxW2_values**2+dyW2_values**2)\n",
    "        mean_diffusive_step=np.mean(diffusive_step_values)\n",
    "        std_diffusive_step=np.std(diffusive_step_values)\n",
    "\n",
    "        #the mean magnitude of the attractive step\n",
    "        attractive_step_values=np.sqrt(F1x**2+F1y**2)\n",
    "        mean_attractive_step=np.mean(attractive_step_values)\n",
    "        std_attractive_step=np.std(attractive_step_values)\n",
    "        if printing:\n",
    "            if (step_num+1) % print_every == 0:\n",
    "                relative_percent=100*mean_diffusive_step/mean_attractive_step\n",
    "                print(f\"simulation {100*(step_num+1)/num_steps:.0f}% completed: R={mean_R:.4f}+/-{1.96*std_R:.4f}, diffusion/attraction is {relative_percent:.2f}%\")\n",
    "                # print(f\"the mean range is {mean_R:.4f} cm\")\n",
    "                # print(f\"the mean diffusive step was {100*mean_diffusive_step/mean_attractive_step:.2f}% larger than the mean attractive step\")\n",
    "\n",
    "        #compute the net change in position \n",
    "        x1step_values=F1x+dxW1_values\n",
    "        y1step_values=F1y+dyW1_values\n",
    "        x2step_values=-F1x+dxW2_values\n",
    "        y2step_values=-F1y+dyW2_values\n",
    "\n",
    "        #identify any particles that didn't get within the threshold distance\n",
    "        #compute the distance between each pair of particles\n",
    "        dx_values=(x2_values-x1_values)\n",
    "        dy_values=(y2_values-y1_values)\n",
    "        Rsq_values=dx_values*dx_values+dy_values*dy_values\n",
    "\n",
    "        #update particle locations if they are still running\n",
    "        x1_values[boo_still_running]=x1_values[boo_still_running]+x1step_values[boo_still_running]\n",
    "        y1_values[boo_still_running]=y1_values[boo_still_running]+y1step_values[boo_still_running]\n",
    "        x2_values[boo_still_running]=x2_values[boo_still_running]+x2step_values[boo_still_running]\n",
    "        y2_values[boo_still_running]=y2_values[boo_still_running]+y2step_values[boo_still_running]\n",
    "        #DONE: verified the mean distance between particles got smaller    \n",
    "        # if (step_count+1) % save_every == 0:\n",
    "        #save particle locations to a numpy array with the correct number of positions\n",
    "        # x1,y1,x2,y2\n",
    "        position_array[step_num,0,boo_still_running]=x1_values[boo_still_running]\n",
    "        position_array[step_num,1,boo_still_running]=y1_values[boo_still_running]\n",
    "        position_array[step_num,2,boo_still_running]=x2_values[boo_still_running]\n",
    "        position_array[step_num,3,boo_still_running]=y2_values[boo_still_running]\n",
    "        mean_array[step_num,0]=mean_R\n",
    "        mean_array[step_num,1]=mean_diffusive_step\n",
    "        mean_array[step_num,2]=mean_attractive_step\n",
    "        #save results for quick plotting\n",
    "        std_array[step_num,0]=std_R\n",
    "        std_array[step_num,1]=std_diffusive_step\n",
    "        std_array[step_num,2]=std_attractive_step\n",
    "\n",
    "    #         #identify any particles that didn't get within the threshold distance\n",
    "    #         #compute the distance between each pair of particles\n",
    "    #         dx_values=(x2_values-x1_values)\n",
    "    #         dy_values=(y2_values-y1_values)\n",
    "    #         Rsq_values=dx_values*dx_values+dy_values*dy_values\n",
    "        R_values=np.sqrt(Rsq_values)\n",
    "        boo_still_running=boo_still_running&(R_values>rend)\n",
    "\n",
    "    if printing:\n",
    "        print(f\"simulation complete!\\nTotal run time: {time.time()-start:.4f} seconds\")\n",
    "        print(f\"the number of particles that didn't finished is {sum(boo_still_running)} out of {boo_still_running.shape[0]}.\")\n",
    "\n",
    "    #DONE: compute the apparent attraction coefficient without smoothing\n",
    "    # np.argwhere(np.isnan(position_array[:,0,i])).flatten()\n",
    "    #identify any pairs that didn't end up closer than rend\n",
    "    boo_didnt_finish=~np.isnan(position_array[-1,0,:])\n",
    "    pairs_didnt_finish=np.argwhere(boo_didnt_finish).flatten()\n",
    "    #     if printing:\n",
    "    #         print((boo_didnt_finish.shape,pairs_didnt_finish))\n",
    "    set_pairs_ignore=set(pairs_didnt_finish)\n",
    "\n",
    "    tmax_recall=0.055 #max time to recall before the value is not nan\n",
    "    num_rows_recall=np.int64(np.around(tmax_recall/Dt))\n",
    "    if printing:\n",
    "        print(num_rows_recall)\n",
    "\n",
    "    #for each pair, identify the last row where the value is not nan\n",
    "    row_end_values=zero_values.copy()+np.nan\n",
    "    for i in range(num_pairs):\n",
    "        if not set_pairs_ignore.issuperset({i}):\n",
    "            row_end=np.int64(np.argwhere(np.isnan(position_array[:,0,i]))[0,0])-1\n",
    "            row_end_values[i]=row_end\n",
    "    #         #this step can introduce some error\n",
    "    #         if row_end<num_rows_recall:\n",
    "    #             #add this i to the ignore list\n",
    "    #             set_pairs_ignore.add(i)\n",
    "\n",
    "    #DONE: add pair to set_pairs_ignore if it ends sooner than num_rows_recall\n",
    "\n",
    "    #for each pair not to be ignored, put the last num_rows_recall before row_end_values into an array\n",
    "    positions_lst=[]\n",
    "    for i in range(num_pairs):\n",
    "        if not set_pairs_ignore.issuperset({i}):\n",
    "            row_end=np.int64(row_end_values[i])\n",
    "            if row_end>=num_rows_recall:\n",
    "                positions=position_array[row_end-num_rows_recall:row_end,:,i]\n",
    "            else:\n",
    "                num_rows_rec=row_end\n",
    "                num_rows_pad=num_rows_recall-row_end\n",
    "                #pad the start with nans\n",
    "                nan_pad=np.full([num_rows_pad,4], np.nan)\n",
    "                positions=position_array[row_end-num_rows_rec:row_end,:,i]\n",
    "                #pad positions at its front\n",
    "                positions=np.concatenate((nan_pad,positions))\n",
    "\n",
    "            positions_lst.append(positions)\n",
    "    positions_out=np.stack(positions_lst,axis=-1)\n",
    "    del position_array\n",
    "    del positions_lst\n",
    "    return positions_out,mean_array,std_array"
   ]
  },
  {
   "cell_type": "markdown",
   "id": "222efd59",
   "metadata": {},
   "source": [
    "Recall that it can be shown that\n",
    "    $$\n",
    "    dW(s')dW(s)=s\\delta_{ss'};\\; \\int_0^tWdW(s)=\\frac{1}{2}W(t)^2-\\frac{1}{2}t^2\n",
    "    $$"
   ]
  },
  {
   "cell_type": "markdown",
   "id": "9af553fa",
   "metadata": {
    "ExecuteTime": {
     "end_time": "2021-11-04T18:45:46.595164Z",
     "start_time": "2021-11-04T18:45:46.590825Z"
    }
   },
   "source": [
    "__Lemma__\n",
    "$$\n",
    "\\int_0^tdW(s)[W(s)]_\\alpha=\\frac{1}{2}W^2(t)+(\\alpha-\\frac{1}{2})t\n",
    "$$"
   ]
  },
  {
   "cell_type": "markdown",
   "id": "6784e9b9",
   "metadata": {},
   "source": [
    "__Result__\n",
    "The slope of the mean squared range until collision can be used to estimate the attraction coeffiecient in the presence of diffusion.\n",
    "\n",
    "__Proof__\n",
    "\n",
    "Let \n",
    "$$\n",
    "dR=-\\frac{2a}{R}dt + CdW.\n",
    "$$\n",
    "Then, \n",
    "\n",
    "$$\\begin{eqnarray}\n",
    "\\mathbb{E}[R^2(t)] &=& \\mathbb{E}[\\int_0^tdR^2(s)] \\\\\n",
    "&=& \\int_0^t\\mathbb{E}[2RdR(s)] \\qquad \\text{product rule}\\\\\n",
    "&=& \\int_0^t\\mathbb{E}[2R(-\\frac{2a}{R}ds + CdW(s))] + R_0^2 \\qquad \\text{substitution} \\\\\n",
    "&=& 2\\int_0^t(-2ads)+2C\\int_0^t \\mathbb{E}[RdW(s)] + R_0^2 \\qquad \\text{linearity} \\\\\n",
    "&=& -4at+2C\\int_0^t\\mathbb{E}\\big[\\big(R_0+\\int_0^s-\\frac{2a}{R}ds' + \\int_0^sCdW(s')\\big)dW(s)\\big] + R_0^2 \\qquad \\text{substitution} \\\\\n",
    "&=& -4at+2C^2\\int_0^t \\mathbb{E}[\\int_0^s dW(s')dW(s)] + R_0^2 \\\\\n",
    "&=& -4at+2C^2\\mathbb{E}[\\int_0^t W(s)dW(s)] + R_0^2 \\\\\n",
    "&=& -4at+2C^2\\mathbb{E}[\\int_0^t dW(s)[W(s)]_\\alpha] + R_0^2 \\qquad \\text{choose discretization } \\alpha\\in[0,1) \\\\\n",
    "&=& -4at+2C^2\\mathbb{E}[\\frac{1}{2}W^2(t)+(\\alpha-\\frac{1}{2})t] + R_0^2 \\\\\n",
    "&=& -4at+C^2(t+2\\alpha t - t) + R_0^2 \\\\\n",
    "&=& -4at+2C^2\\alpha t + R_0^2 \\\\\n",
    "&=& -4(a-\\frac{1}{2}\\alpha C^2)t + R_0^2 \\\\\n",
    "&\\equiv& -4\\hat{a}t + R_0^2 \\\\\n",
    "&\\equiv& 4\\hat{a}(t_f-t) \\\\\n",
    "\\end{eqnarray}$$\n",
    "\n",
    "\n",
    "For $\\alpha=0$ (It$\\hat{o}$), we have $\\hat{a}=a$.\n",
    "\n",
    "For $\\alpha=1/2$ (Stratonivich) and for $C=\\sqrt{8D}$, we have \n",
    "\n",
    "$$\n",
    "a=\\hat{a}-\\frac{1}{2}\\alpha C^2 =\\hat{a}-2D\n",
    "$$\n",
    "\n",
    "Equivalently,\n",
    "\n",
    "$$\n",
    "\\hat{a}=a+2D\n",
    "$$\n",
    "\n",
    "This suggests that (in the Stratovinich picture, we would expect the apparent attraction coefficient $\\hat{a}$ estimated by ordinary least squares to be larger than the ground truth attraction coefficient, $a$, by an amount $D$."
   ]
  },
  {
   "cell_type": "code",
   "execution_count": null,
   "id": "2c663b5b",
   "metadata": {},
   "outputs": [],
   "source": []
  },
  {
   "cell_type": "code",
   "execution_count": 5,
   "id": "05cf5818",
   "metadata": {
    "ExecuteTime": {
     "end_time": "2021-11-10T06:12:06.816703Z",
     "start_time": "2021-11-10T06:12:06.808094Z"
    }
   },
   "outputs": [
    {
     "data": {
      "text/plain": [
       "4.0"
      ]
     },
     "execution_count": 5,
     "metadata": {},
     "output_type": "execute_result"
    }
   ],
   "source": [
    "22000/5500"
   ]
  },
  {
   "cell_type": "code",
   "execution_count": 6,
   "id": "b9aac096",
   "metadata": {
    "ExecuteTime": {
     "end_time": "2021-11-10T06:12:06.821487Z",
     "start_time": "2021-11-10T06:12:06.818756Z"
    }
   },
   "outputs": [],
   "source": [
    "# for p in positions_lst:\n",
    "#     print(len(p))"
   ]
  },
  {
   "cell_type": "code",
   "execution_count": 7,
   "id": "f153621a",
   "metadata": {
    "ExecuteTime": {
     "end_time": "2021-11-10T06:12:06.826869Z",
     "start_time": "2021-11-10T06:12:06.824690Z"
    }
   },
   "outputs": [],
   "source": [
    "# #TODO: solve the array length disagreement in positions_lst\n",
    "# D"
   ]
  },
  {
   "cell_type": "code",
   "execution_count": null,
   "id": "c6824fac",
   "metadata": {},
   "outputs": [],
   "source": []
  },
  {
   "cell_type": "code",
   "execution_count": 8,
   "id": "d9f77fe9",
   "metadata": {
    "ExecuteTime": {
     "end_time": "2021-11-10T06:12:06.832078Z",
     "start_time": "2021-11-10T06:12:06.828454Z"
    }
   },
   "outputs": [],
   "source": [
    "def moving_average(a, n=3):\n",
    "    ret = np.cumsum(a, dtype=float,axis=0)\n",
    "    ret[n:] = ret[n:] - ret[:-n]\n",
    "    return ret[n - 1:] / n"
   ]
  },
  {
   "cell_type": "code",
   "execution_count": null,
   "id": "1328f395",
   "metadata": {
    "ExecuteTime": {
     "end_time": "2021-11-04T15:59:39.955298Z",
     "start_time": "2021-11-04T15:59:39.820130Z"
    }
   },
   "outputs": [],
   "source": []
  },
  {
   "cell_type": "code",
   "execution_count": 9,
   "id": "e01e59ea",
   "metadata": {
    "ExecuteTime": {
     "end_time": "2021-11-10T06:12:06.846106Z",
     "start_time": "2021-11-10T06:12:06.834122Z"
    }
   },
   "outputs": [],
   "source": [
    "def compute_attraction_coefficient_results(positions_out,tavg1,tavg2,Dt,printing=False,**kwargs):\n",
    "    '''\n",
    "    Example Usage:\n",
    "    df=compute_attraction_coefficient_results(positions_out,tavg1,tavg2,Dt)\n",
    "    '''\n",
    "    navg1=np.int64(np.around(tavg1/(Dt*10**3)))\n",
    "    navg2=np.int64(np.around(tavg2/(Dt*10**3)))\n",
    "\n",
    "    #define time points\n",
    "    #i=0\n",
    "    num_timepoints=positions_out.shape[0]\n",
    "    t_values=np.arange(0,Dt*num_timepoints,Dt)\n",
    "    #assert t_values.shape==range_values[:,i].shape\n",
    "    \n",
    "    #moving avg\n",
    "    if tavg1>0:\n",
    "        #compute the moving average of the positional trajectories\n",
    "        tavg_values=moving_average(t_values,n=navg1)\n",
    "        positions_out_ma=moving_average(positions_out, n=navg1)\n",
    "    else:\n",
    "        tavg_values=t_values\n",
    "        positions_out_ma=positions_out\n",
    "\n",
    "    #compute range # x1,y1,x2,y2\n",
    "    range_values= np.sqrt((positions_out_ma[:,0,:]-positions_out_ma[:,2,:])**2 + (positions_out_ma[:,1,:]-positions_out_ma[:,3,:])**2)\n",
    "\n",
    "\n",
    "    R_savgol_values=range_values.copy()\n",
    "    #compute savgol filter\n",
    "    if navg2>0:\n",
    "        if navg2<30: navg2=30\n",
    "        if navg2%2==0:navg2+=1\n",
    "        #DONE: test whether there is a significant difference between the savgol derivative and the finite difference derivative of the savgol filter\n",
    "        savgol_kwargs = dict(window_length=navg2,polyorder=3,deriv=0,delta=1.0,axis=-1,mode='interp')\n",
    "        #compute the savgol_filtered values for R\n",
    "        for i in range(range_values.shape[1]):\n",
    "            R_savgol_values[:,i]=savgol_filter(range_values[:,i],**savgol_kwargs)\n",
    "        SR_values=R_savgol_values**2\n",
    "    else:\n",
    "        SR_values=range_values**2\n",
    "\n",
    "    #DONE: sompute MSR_values from SR_values\n",
    "    # SR_values\n",
    "\n",
    "#     if printing:\n",
    "#         print('nota bene: nan values are being kept in positions_out, so care needs to be taken to compute the particle averaged SR for every time')\n",
    "#         print(f\"HINT: I need to compute the nonnan boolean index for each time slice\")\n",
    "    #np.isnan(SR_values).any(),SR_values.shape\n",
    "    # assert not np.isnan(positions_out).any()\n",
    "\n",
    "    # the nonnan boolean index for each time slice\n",
    "    MSR_values=np.zeros_like(SR_values[:,0])\n",
    "    num_tbin,num_trials=SR_values.shape\n",
    "    for j in range (num_tbin):\n",
    "        boo=~np.isnan(SR_values[j,:])\n",
    "        MSR_values[j]=np.mean(SR_values[j,boo])\n",
    "\n",
    "    t_thresh_values=np.arange(0.005,0.04,0.005)\n",
    "\n",
    "#     start=time.time()\n",
    "    #generate apparent attraction coefficient data\n",
    "    a_sr_lst=[]\n",
    "    Delta_a_sr_lst=[]\n",
    "    Rsq_sr_lst=[]\n",
    "    # a_one_over_R_lst=[]\n",
    "    # Delta_a_one_over_R_lst=[]\n",
    "    # Rsq_one_over_R_lst=[]\n",
    "    tdeath_values=np.max(tavg_values)-tavg_values\n",
    "    for t_thresh in t_thresh_values:\n",
    "        #squared range method\n",
    "        boo=tdeath_values<=t_thresh\n",
    "        boo&=~np.isnan(MSR_values)\n",
    "        if sum(boo)>2:\n",
    "            dict_sr=compute_slope.compute_95CI_ols(tdeath_values[boo], MSR_values[boo])\n",
    "            a_sr=dict_sr['m']/4\n",
    "            Delta_a_sr=dict_sr['Delta_m']/4\n",
    "            Rsquared=dict_sr['Rsquared']\n",
    "        else:\n",
    "            a_sr=np.nan\n",
    "            Delta_a_sr=np.nan\n",
    "            Rsquared=np.nan\n",
    "            \n",
    "    #     #inverse range method\n",
    "    #     boo=one_over_R_values<1/R_thresh\n",
    "    #     dict_one_over_R=compute_slope.compute_95CI_ols(one_over_R_values[boo], dRdt_values[boo])\n",
    "    #     a_one_over_R=-1*dict_one_over_R['m']/2\n",
    "    #     Delta_a_one_over_R=dict_one_over_R['Delta_m']/2\n",
    "\n",
    "        #record results\n",
    "        a_sr_lst.append(a_sr)\n",
    "        Delta_a_sr_lst.append(Delta_a_sr)\n",
    "        Rsq_sr_lst.append(Rsquared)\n",
    "    #     a_one_over_R_lst.append(a_one_over_R)\n",
    "    #     Delta_a_one_over_R_lst.append(Delta_a_one_over_R)\n",
    "    #     Rsq_one_over_R_lst.append(dict_one_over_R['Rsquared'])\n",
    "#     if printing:\n",
    "#         print(f\"runtime computing attraction coefficients: {time.time()-start:.4f}\")\n",
    "\n",
    "    df=pd.DataFrame({\n",
    "        'tavg1':tavg1,\n",
    "        'tavg2':tavg2,\n",
    "        'tmax':t_thresh_values,\n",
    "        'a':a_sr_lst,\n",
    "        'Delta_a':Delta_a_sr_lst,\n",
    "        'Rsq_a':Rsq_sr_lst\n",
    "    })\n",
    "    return df"
   ]
  },
  {
   "cell_type": "code",
   "execution_count": 10,
   "id": "ccea6197",
   "metadata": {
    "ExecuteTime": {
     "end_time": "2021-11-10T06:12:06.852442Z",
     "start_time": "2021-11-10T06:12:06.847080Z"
    }
   },
   "outputs": [
    {
     "data": {
      "text/plain": [
       "1"
      ]
     },
     "execution_count": 10,
     "metadata": {},
     "output_type": "execute_result"
    }
   ],
   "source": [
    "#     num_pairs=1500, #number of independent pairs of particles\n",
    "#     a=5, #cm^2/s known attraction coefficient \n",
    "#     D=1, #cm^2/s known diffusion coefficient\n",
    "#     Dt=1e-5,\n",
    "1\n",
    "#     print_every=100000,\n",
    "#     rend=0.1, #cm\n",
    "#     printing=False,**kwargs"
   ]
  },
  {
   "cell_type": "code",
   "execution_count": 11,
   "id": "2986ffa8",
   "metadata": {
    "ExecuteTime": {
     "end_time": "2021-11-10T06:12:06.865176Z",
     "start_time": "2021-11-10T06:12:06.853747Z"
    },
    "run_control": {
     "marked": true
    }
   },
   "outputs": [],
   "source": [
    "def save_control_results_for_setting(a,\n",
    "                                     D,\n",
    "                                     Dt,\n",
    "                                     tavg_step=0.1,\n",
    "                                     tavg1_max=20,\n",
    "                                     tavg2_max=20,\n",
    "                                     printing=False,\n",
    "                                    save_folder=None,**kwargs):\n",
    "    if not save_folder:\n",
    "        nb_dir=os.getcwd()\n",
    "        save_folder = f\"{nb_dir}/data/control_data/arrays\"\n",
    "    if not os.path.exists(save_folder):\n",
    "        os.mkdir(save_folder)\n",
    "    save_dir = os.path.join(save_folder, f\"control_a_{a}_D_{D}.npz\")\n",
    "\n",
    "    use_cache = False\n",
    "    caching = False\n",
    "\n",
    "    if use_cache:\n",
    "        arr = np.load(save_dir)\n",
    "        positions_out = arr['arr_0']\n",
    "    else:\n",
    "        positions_out, mean_array, std_array = gener_positions_control(\n",
    "            a=a, D=D, printing=printing,**kwargs)\n",
    "\n",
    "    if caching:\n",
    "        #save array of positions to .npz\n",
    "        np.savez_compressed(save_dir, positions_out)\n",
    "        assert (os.path.exists(save_dir))\n",
    "\n",
    "        if printing:\n",
    "            print('saving array in:')\n",
    "            print(save_dir)\n",
    "\n",
    "    #save the raw mean squared range versus time until death to npz\n",
    "    range_values= np.sqrt((positions_out[:,0,:]-positions_out[:,2,:])**2 + (positions_out[:,1,:]-positions_out[:,3,:])**2)\n",
    "    SR_values=range_values**2\n",
    "    MSR_values=np.zeros_like(SR_values[:,0])\n",
    "    num_tbin,num_trials=SR_values.shape\n",
    "    for j in range (num_tbin):\n",
    "        boo=~np.isnan(SR_values[j,:])\n",
    "        MSR_values[j]=np.mean(SR_values[j,boo])\n",
    "    num_timepoints=positions_out.shape[0]\n",
    "    t_values=np.arange(0,Dt*num_timepoints,Dt)\n",
    "    tdeath_values=np.max(t_values)-t_values\n",
    "    npz_dir = os.path.join(save_folder, f\"control_a_{a}_D_{D}.npz\")\n",
    "    np.savez_compressed(npz_dir,MSR=MSR_values,tdeath=tdeath_values)\n",
    "#     return npz_dir\n",
    "    start=time.time()\n",
    "    df_lst = []\n",
    "    for tavg1 in np.arange(0, tavg1_max, tavg_step):\n",
    "        for tavg2 in np.arange(0, tavg2_max, tavg_step):\n",
    "            df = compute_attraction_coefficient_results(\n",
    "                positions_out=positions_out, tavg1=tavg1, tavg2=tavg2, Dt=Dt,printing=printing)\n",
    "            df_lst.append(df)\n",
    "    df_out = pd.concat(df_lst)\n",
    "    del df_lst\n",
    "    if printing:\n",
    "        print(f\"runtime computing attraction coefficients: {time.time()-start:.4f}\")\n",
    "\n",
    "    csv_dir = os.path.join(save_folder, f\"control_a_{a}_D_{D}.csv\")\n",
    "    df_out.to_csv(csv_dir, index=False)\n",
    "    return csv_dir"
   ]
  },
  {
   "cell_type": "code",
   "execution_count": 12,
   "id": "8733b7c2",
   "metadata": {
    "ExecuteTime": {
     "end_time": "2021-11-10T06:12:06.870862Z",
     "start_time": "2021-11-10T06:12:06.866399Z"
    }
   },
   "outputs": [],
   "source": [
    "# np.savez_compressed"
   ]
  },
  {
   "cell_type": "markdown",
   "id": "ba0ce45e",
   "metadata": {},
   "source": [
    "# single simulation of diffusion in an unbounded domain\n",
    "- TODO: grid search over D from 0.1 to 2 in steps of 0.1\n",
    "- (GPU accelerate in cupy)\n",
    "- TODO: rewrite it from scratch, developing in vectorized pairs of particles\n",
    "- start 2 particles 1/np.sqrt(2) away from one another\n",
    "\n",
    "__Schema__\n",
    "1. t,x1,x2,y1,y2,pair_num"
   ]
  },
  {
   "cell_type": "code",
   "execution_count": 13,
   "id": "eac9b924",
   "metadata": {
    "ExecuteTime": {
     "end_time": "2021-11-10T06:12:06.874914Z",
     "start_time": "2021-11-10T06:12:06.872362Z"
    }
   },
   "outputs": [],
   "source": [
    "# rend=0.1#0.0001 #cm\n",
    "# printing=False#,**kwargs\n",
    "# # printing=True"
   ]
  },
  {
   "cell_type": "code",
   "execution_count": 14,
   "id": "e33a30c4",
   "metadata": {
    "ExecuteTime": {
     "end_time": "2021-11-10T06:12:06.879230Z",
     "start_time": "2021-11-10T06:12:06.876329Z"
    }
   },
   "outputs": [],
   "source": [
    "# num_pairs=1500#5000 #number of independent pairs of particles\n",
    "# a=5 #cm^2/s known attraction coefficient \n",
    "# D=1 #cm^2/s known diffusion coefficient\n",
    "# Dt=1e-5\n",
    "\n",
    "# print_every=100000"
   ]
  },
  {
   "cell_type": "code",
   "execution_count": 15,
   "id": "d4fddd5a",
   "metadata": {
    "ExecuteTime": {
     "end_time": "2021-11-10T06:14:14.496702Z",
     "start_time": "2021-11-10T06:12:06.880736Z"
    }
   },
   "outputs": [
    {
     "name": "stdout",
     "output_type": "stream",
     "text": [
      "running simulation for 1000000 steps...\n",
      "simulation 10% completed: R=0.0978+/-0.1916, diffusion/attraction is 361.38%\n",
      "simulation 20% completed: R=0.0978+/-0.1916, diffusion/attraction is 376.77%\n",
      "simulation 30% completed: R=0.0978+/-0.1916, diffusion/attraction is 411.73%\n",
      "simulation 40% completed: R=0.0978+/-0.1916, diffusion/attraction is 399.20%\n",
      "simulation 50% completed: R=0.0978+/-0.1916, diffusion/attraction is 344.12%\n",
      "simulation 60% completed: R=0.0978+/-0.1916, diffusion/attraction is 501.25%\n",
      "simulation 70% completed: R=0.0978+/-0.1916, diffusion/attraction is 530.14%\n",
      "simulation 80% completed: R=0.0978+/-0.1916, diffusion/attraction is 495.37%\n",
      "simulation 90% completed: R=0.0978+/-0.1916, diffusion/attraction is 420.56%\n",
      "simulation 100% completed: R=0.0978+/-0.1916, diffusion/attraction is 526.72%\n",
      "simulation complete!\n",
      "Total run time: 126.7335 seconds\n",
      "the number of particles that didn't finished is 0 out of 5.\n",
      "5500\n"
     ]
    },
    {
     "name": "stderr",
     "output_type": "stream",
     "text": [
      "/home/AD/tttyree/anaconda3/envs/pyenv_tt/lib/python3.8/site-packages/numpy/core/fromnumeric.py:3440: RuntimeWarning: Mean of empty slice.\n",
      "  return _methods._mean(a, axis=axis, dtype=dtype,\n",
      "/home/AD/tttyree/anaconda3/envs/pyenv_tt/lib/python3.8/site-packages/numpy/core/_methods.py:189: RuntimeWarning: invalid value encountered in double_scalars\n",
      "  ret = ret.dtype.type(ret / rcount)\n"
     ]
    },
    {
     "name": "stdout",
     "output_type": "stream",
     "text": [
      "runtime computing attraction coefficients: 0.6381\n",
      "   tavg1  tavg2   tmax         a   Delta_a     Rsq_a\n",
      "0    0.0    0.0  0.005  7.799901  0.124418  0.968007\n",
      "1    0.0    0.0  0.010  9.214454  0.068528  0.985835\n",
      "2    0.0    0.0  0.015  8.020245  0.061222  0.977769\n",
      "3    0.0    0.0  0.020  6.642148  0.074503  0.940201\n",
      "4    0.0    0.0  0.025  6.642148  0.074503  0.940201\n",
      "5    0.0    0.0  0.030  6.642148  0.074503  0.940201\n",
      "6    0.0    0.0  0.035  6.642148  0.074503  0.940201\n",
      "7    0.0    0.0  0.040  6.642148  0.074503  0.940201\n",
      "8    0.0    0.5  0.005  7.801300  0.119427  0.970458\n",
      "9    0.0    0.5  0.010  9.215859  0.065430  0.987074\n"
     ]
    }
   ],
   "source": [
    "# save_folder='/home/AD/tttyree/bgmc_data'#None\n",
    "#~15 min runtime per trial\n",
    "testing=True\n",
    "if testing:\n",
    "    fn_out=save_control_results_for_setting(a=9.5,D=0.7,Dt=1e-5,\n",
    "                                    num_pairs=5,\n",
    "                                    tavg_step=0.5,\n",
    "                                    tavg1_max=1,\n",
    "                                    tavg2_max=1,printing=True,save_folder='/home/AD/tttyree/bgmc_data')\n",
    "    df=pd.read_csv(fn_out)\n",
    "    print(df.head(10))"
   ]
  },
  {
   "cell_type": "code",
   "execution_count": 16,
   "id": "50d68a60",
   "metadata": {
    "ExecuteTime": {
     "end_time": "2021-11-10T06:14:14.502704Z",
     "start_time": "2021-11-10T06:14:14.498497Z"
    }
   },
   "outputs": [
    {
     "data": {
      "text/plain": [
       "1"
      ]
     },
     "execution_count": 16,
     "metadata": {},
     "output_type": "execute_result"
    }
   ],
   "source": [
    "# #verify the raw trace was saved\n",
    "# arr=np.load(fn_out.replace('.csv','.npz'))\n",
    "# MSR_values=arr['MSR']\n",
    "# tdeath_values=arr['tdeath']\n",
    "# plt.plot(tdeath_values,MSR_values)\n",
    "# plt.show()\n",
    "1"
   ]
  },
  {
   "cell_type": "code",
   "execution_count": 17,
   "id": "93ba75de",
   "metadata": {
    "ExecuteTime": {
     "end_time": "2021-11-10T06:14:14.509233Z",
     "start_time": "2021-11-10T06:14:14.504097Z"
    }
   },
   "outputs": [],
   "source": [
    "# print(fn_out)\n",
    "# print((a,D))\n",
    "# print(df.head(10))"
   ]
  },
  {
   "cell_type": "code",
   "execution_count": 18,
   "id": "2dd0f259",
   "metadata": {
    "ExecuteTime": {
     "end_time": "2021-11-10T06:14:14.515322Z",
     "start_time": "2021-11-10T06:14:14.510502Z"
    }
   },
   "outputs": [
    {
     "name": "stdout",
     "output_type": "stream",
     "text": [
      "/home/timothytyree/Documents/GitHub/bgmc/python/data/control_data/arrays/control_a_5_D_1.csv\n",
      "(5, 1)\n",
      "   tavg1  tavg2   tmax         a   Delta_a     Rsq_a\n",
      "0    0.0    0.0  0.005  7.191040  0.012445  0.999611\n",
      "1    0.0    0.0  0.010  6.869135  0.014162  0.998897\n",
      "2    0.0    0.0  0.015  6.125852  0.029851  0.990819\n",
      "3    0.0    0.0  0.020  5.367075  0.033962  0.979599\n",
      "4    0.0    0.0  0.025  4.737008  0.033624  0.968265\n",
      "5    0.0    0.0  0.030  4.223528  0.031963  0.957203\n",
      "6    0.0    0.0  0.035  3.844839  0.028658  0.951847\n",
      "7    0.0    0.0  0.040  3.588715  0.024679  0.953082\n",
      "8    0.0    0.1  0.005  6.714680  0.012548  0.999547\n",
      "9    0.0    0.1  0.010  6.416435  0.012409  0.999029\n"
     ]
    }
   ],
   "source": [
    "# save_folder='/home/AD/tttyree/bgmc_data'#None\n"
   ]
  },
  {
   "cell_type": "code",
   "execution_count": 19,
   "id": "41e2d0a4",
   "metadata": {
    "ExecuteTime": {
     "end_time": "2021-11-10T06:14:14.520481Z",
     "start_time": "2021-11-10T06:14:14.516616Z"
    }
   },
   "outputs": [],
   "source": [
    "# num_pairs=1500 #number of independent pairs of particles\n",
    "# a=5 #cm^2/s known attraction coefficient \n",
    "# D=0. #cm^2/s known diffusion coefficient\n",
    "# Dt=1e-5\n",
    "# print_every=100000"
   ]
  },
  {
   "cell_type": "code",
   "execution_count": 20,
   "id": "88c427b9",
   "metadata": {
    "ExecuteTime": {
     "end_time": "2021-11-10T06:14:14.620862Z",
     "start_time": "2021-11-10T06:14:14.522533Z"
    }
   },
   "outputs": [
    {
     "data": {
      "text/plain": [
       "[<matplotlib.lines.Line2D at 0x7fb75136bc70>]"
      ]
     },
     "execution_count": 20,
     "metadata": {},
     "output_type": "execute_result"
    },
    {
     "data": {
      "image/png": "[encoded data removed]",
      "text/plain": [
       "<Figure size 576x504 with 1 Axes>"
      ]
     },
     "metadata": {},
     "output_type": "display_data"
    }
   ],
   "source": [
    "D_lst=[0,0.5,1]\n",
    "ahat_lst=[5,6,7.16]\n",
    "plt.plot(D_lst,ahat_lst)"
   ]
  },
  {
   "cell_type": "code",
   "execution_count": 21,
   "id": "9c0a9813",
   "metadata": {
    "ExecuteTime": {
     "end_time": "2021-11-10T06:14:14.624537Z",
     "start_time": "2021-11-10T06:14:14.622229Z"
    }
   },
   "outputs": [],
   "source": [
    "# save_folder=None#'/home/AD/tttyree/bgmc_data'\n",
    "# testing=True\n",
    "# if testing:\n",
    "#     fn_out=save_control_results_for_setting(a,D,\n",
    "#                                     tavg_step=0.1,\n",
    "#                                     tavg1_max=1,\n",
    "#                                     tavg2_max=1,printing=True,save_folder=save_folder)\n",
    "#     df=pd.read_csv(fn_out)\n",
    "#     print(df.head())"
   ]
  },
  {
   "cell_type": "code",
   "execution_count": 22,
   "id": "7bb507ad",
   "metadata": {
    "ExecuteTime": {
     "end_time": "2021-11-10T06:14:14.633373Z",
     "start_time": "2021-11-10T06:14:14.627704Z"
    }
   },
   "outputs": [
    {
     "data": {
      "text/plain": [
       "(34, 8.5)"
      ]
     },
     "execution_count": 22,
     "metadata": {},
     "output_type": "execute_result"
    }
   ],
   "source": [
    "D_lst=list(np.arange(0,3.1,0.2))\n",
    "D_lst.append(0.7)\n",
    "# D_lst=[0,0.3,0.7]\n",
    "task_lst=[]\n",
    "for a in [1.6,9.5]:\n",
    "    for D in D_lst:#[4:]:\n",
    "        task_lst.append((a,np.around(D,1)))\n",
    "len(task_lst),len(task_lst)*15/60#hours if one worker is used... <2 hour if 4 workers are used\n",
    "# task_lst"
   ]
  },
  {
   "cell_type": "code",
   "execution_count": 23,
   "id": "53bb564d",
   "metadata": {
    "ExecuteTime": {
     "end_time": "2021-11-10T06:14:14.824177Z",
     "start_time": "2021-11-10T06:14:14.634778Z"
    }
   },
   "outputs": [],
   "source": [
    "np.random.seed(seed)\n",
    "cp.random.seed(seed)"
   ]
  },
  {
   "cell_type": "code",
   "execution_count": null,
   "id": "98a8f51c",
   "metadata": {
    "ExecuteTime": {
     "end_time": "2021-11-04T16:47:15.492444Z",
     "start_time": "2021-11-04T16:47:15.490370Z"
    }
   },
   "outputs": [],
   "source": []
  },
  {
   "cell_type": "code",
   "execution_count": 24,
   "id": "35429ca3",
   "metadata": {
    "ExecuteTime": {
     "end_time": "2021-11-10T06:14:14.828481Z",
     "start_time": "2021-11-10T06:14:14.825527Z"
    }
   },
   "outputs": [],
   "source": [
    "def routine(data):\n",
    "    a,D=data\n",
    "    return save_control_results_for_setting(a,D,Dt=1e-5,\n",
    "                                    num_pairs=1500,\n",
    "                                    tavg_step=2.,\n",
    "                                    tavg1_max=20,\n",
    "                                    tavg2_max=20,\n",
    "                                    printing=False,\n",
    "                                    save_folder='/home/AD/tttyree/bgmc_data')"
   ]
  },
  {
   "cell_type": "code",
   "execution_count": 25,
   "id": "678f218b",
   "metadata": {
    "ExecuteTime": {
     "end_time": "2021-11-10T06:14:14.836213Z",
     "start_time": "2021-11-10T06:14:14.829908Z"
    }
   },
   "outputs": [
    {
     "data": {
      "text/plain": [
       "8.5"
      ]
     },
     "execution_count": 25,
     "metadata": {},
     "output_type": "execute_result"
    }
   ],
   "source": [
    "len(task_lst)/4"
   ]
  },
  {
   "cell_type": "code",
   "execution_count": 26,
   "id": "c13257d6",
   "metadata": {
    "ExecuteTime": {
     "end_time": "2021-11-10T14:02:06.674679Z",
     "start_time": "2021-11-10T06:14:14.838001Z"
    }
   },
   "outputs": [
    {
     "name": "stderr",
     "output_type": "stream",
     "text": [
      "/home/AD/tttyree/anaconda3/envs/pyenv_tt/lib/python3.8/site-packages/numpy/core/fromnumeric.py:3440: RuntimeWarning: Mean of empty slice.\n",
      "  return _methods._mean(a, axis=axis, dtype=dtype,\n",
      "/home/AD/tttyree/anaconda3/envs/pyenv_tt/lib/python3.8/site-packages/numpy/core/_methods.py:189: RuntimeWarning: invalid value encountered in double_scalars\n",
      "  ret = ret.dtype.type(ret / rcount)\n"
     ]
    },
    {
     "name": "stdout",
     "output_type": "stream",
     "text": [
      "the run time for 34 simulations was 467.86 minutes.\n"
     ]
    }
   ],
   "source": [
    "start = time.time()\n",
    "retval_lst=[]\n",
    "for task in task_lst:\n",
    "    retval_lst.append(routine(task))\n",
    "print(f\"the run time for {len(retval_lst)} simulations was {(time.time()-start)/60:.2f} minutes.\")"
   ]
  },
  {
   "cell_type": "code",
   "execution_count": 27,
   "id": "57d7995b",
   "metadata": {
    "ExecuteTime": {
     "end_time": "2021-11-10T14:02:06.679922Z",
     "start_time": "2021-11-10T14:02:06.676583Z"
    }
   },
   "outputs": [],
   "source": [
    "# #apparent runtime=40min\n",
    "# print(f\"note: approximately 45 GB of RAM is needed per worker\")\n",
    "# npartitions=6#1#8\n",
    "# print(f\"running simulation on {npartitions} workers...\")\n",
    "# bag = db.from_sequence(task_lst, npartitions=npartitions).map(routine)\n",
    "# start = time.time()\n",
    "# retval_lst = list(bag)\n",
    "# print(f\"the run time for {len(retval_lst)} simulations was {(time.time()-start)/60:.2f} minutes.\")\n",
    "# # return retval_lst\n",
    "# print(len(retval_lst))"
   ]
  },
  {
   "cell_type": "markdown",
   "id": "c655a737",
   "metadata": {},
   "source": [
    "# visualization"
   ]
  },
  {
   "cell_type": "code",
   "execution_count": 28,
   "id": "cffcdc85",
   "metadata": {
    "ExecuteTime": {
     "end_time": "2021-11-10T14:02:06.779575Z",
     "start_time": "2021-11-10T14:02:06.681251Z"
    }
   },
   "outputs": [
    {
     "data": {
      "text/plain": [
       "(5500, 4, 100)"
      ]
     },
     "execution_count": 28,
     "metadata": {},
     "output_type": "execute_result"
    }
   ],
   "source": [
    "positions_out.shape"
   ]
  },
  {
   "cell_type": "code",
   "execution_count": 29,
   "id": "36930634",
   "metadata": {
    "ExecuteTime": {
     "end_time": "2021-11-10T14:04:27.911294Z",
     "start_time": "2021-11-10T14:02:06.780629Z"
    }
   },
   "outputs": [
    {
     "name": "stdout",
     "output_type": "stream",
     "text": [
      "running simulation for 1000000 steps...\n",
      "simulation 10% completed: R=0.0989+/-0.1939, diffusion/attraction is 0.00%\n",
      "simulation 20% completed: R=0.0989+/-0.1939, diffusion/attraction is 0.00%\n",
      "simulation 30% completed: R=0.0989+/-0.1939, diffusion/attraction is 0.00%\n",
      "simulation 40% completed: R=0.0989+/-0.1939, diffusion/attraction is 0.00%\n",
      "simulation 50% completed: R=0.0989+/-0.1939, diffusion/attraction is 0.00%\n",
      "simulation 60% completed: R=0.0989+/-0.1939, diffusion/attraction is 0.00%\n",
      "simulation 70% completed: R=0.0989+/-0.1939, diffusion/attraction is 0.00%\n",
      "simulation 80% completed: R=0.0989+/-0.1939, diffusion/attraction is 0.00%\n",
      "simulation 90% completed: R=0.0989+/-0.1939, diffusion/attraction is 0.00%\n",
      "simulation 100% completed: R=0.0989+/-0.1939, diffusion/attraction is 0.00%\n",
      "simulation complete!\n",
      "Total run time: 138.4179 seconds\n",
      "the number of particles that didn't finished is 0 out of 100.\n",
      "5500\n"
     ]
    }
   ],
   "source": [
    "a=5\n",
    "D=1\n",
    "positions_out, mean_array, std_array = gener_positions_control(\n",
    "            a=a, D=D, printing=True,num_pairs=1000)"
   ]
  },
  {
   "cell_type": "code",
   "execution_count": 30,
   "id": "58f9f8f2",
   "metadata": {
    "ExecuteTime": {
     "end_time": "2021-11-10T14:04:27.917463Z",
     "start_time": "2021-11-10T14:04:27.912885Z"
    }
   },
   "outputs": [
    {
     "data": {
      "text/plain": [
       "2.23606797749979"
      ]
     },
     "execution_count": 30,
     "metadata": {},
     "output_type": "execute_result"
    }
   ],
   "source": [
    "tavg1=0\n",
    "tavg2=0\n",
    "printing=True\n",
    "np.sqrt(2.6/0.6)\n",
    "np.sqrt(5)"
   ]
  },
  {
   "cell_type": "code",
   "execution_count": 31,
   "id": "0e947685",
   "metadata": {
    "ExecuteTime": {
     "end_time": "2021-11-10T14:04:27.925437Z",
     "start_time": "2021-11-10T14:04:27.918717Z"
    }
   },
   "outputs": [
    {
     "data": {
      "text/plain": [
       "0"
      ]
     },
     "execution_count": 31,
     "metadata": {},
     "output_type": "execute_result"
    }
   ],
   "source": [
    "D"
   ]
  },
  {
   "cell_type": "code",
   "execution_count": 32,
   "id": "c2e99f58",
   "metadata": {
    "ExecuteTime": {
     "end_time": "2021-11-10T14:04:28.219782Z",
     "start_time": "2021-11-10T14:04:27.926926Z"
    }
   },
   "outputs": [
    {
     "data": {
      "text/html": [
       "<div>\n",
       "<style scoped>\n",
       "    .dataframe tbody tr th:only-of-type {\n",
       "        vertical-align: middle;\n",
       "    }\n",
       "\n",
       "    .dataframe tbody tr th {\n",
       "        vertical-align: top;\n",
       "    }\n",
       "\n",
       "    .dataframe thead th {\n",
       "        text-align: right;\n",
       "    }\n",
       "</style>\n",
       "<table border=\"1\" class=\"dataframe\">\n",
       "  <thead>\n",
       "    <tr style=\"text-align: right;\">\n",
       "      <th></th>\n",
       "      <th>tavg1</th>\n",
       "      <th>tavg2</th>\n",
       "      <th>tmax</th>\n",
       "      <th>a</th>\n",
       "      <th>Delta_a</th>\n",
       "      <th>Rsq_a</th>\n",
       "    </tr>\n",
       "  </thead>\n",
       "  <tbody>\n",
       "    <tr>\n",
       "      <th>0</th>\n",
       "      <td>0</td>\n",
       "      <td>0</td>\n",
       "      <td>0.005</td>\n",
       "      <td>7.139568</td>\n",
       "      <td>0.020423</td>\n",
       "      <td>0.998938</td>\n",
       "    </tr>\n",
       "    <tr>\n",
       "      <th>1</th>\n",
       "      <td>0</td>\n",
       "      <td>0</td>\n",
       "      <td>0.010</td>\n",
       "      <td>6.840775</td>\n",
       "      <td>0.011598</td>\n",
       "      <td>0.999254</td>\n",
       "    </tr>\n",
       "    <tr>\n",
       "      <th>2</th>\n",
       "      <td>0</td>\n",
       "      <td>0</td>\n",
       "      <td>0.015</td>\n",
       "      <td>6.067483</td>\n",
       "      <td>0.030449</td>\n",
       "      <td>0.990269</td>\n",
       "    </tr>\n",
       "    <tr>\n",
       "      <th>3</th>\n",
       "      <td>0</td>\n",
       "      <td>0</td>\n",
       "      <td>0.020</td>\n",
       "      <td>5.228016</td>\n",
       "      <td>0.037813</td>\n",
       "      <td>0.973513</td>\n",
       "    </tr>\n",
       "    <tr>\n",
       "      <th>4</th>\n",
       "      <td>0</td>\n",
       "      <td>0</td>\n",
       "      <td>0.025</td>\n",
       "      <td>4.576281</td>\n",
       "      <td>0.035718</td>\n",
       "      <td>0.961882</td>\n",
       "    </tr>\n",
       "  </tbody>\n",
       "</table>\n",
       "</div>"
      ],
      "text/plain": [
       "   tavg1  tavg2   tmax         a   Delta_a     Rsq_a\n",
       "0      0      0  0.005  7.139568  0.020423  0.998938\n",
       "1      0      0  0.010  6.840775  0.011598  0.999254\n",
       "2      0      0  0.015  6.067483  0.030449  0.990269\n",
       "3      0      0  0.020  5.228016  0.037813  0.973513\n",
       "4      0      0  0.025  4.576281  0.035718  0.961882"
      ]
     },
     "execution_count": 32,
     "metadata": {},
     "output_type": "execute_result"
    }
   ],
   "source": [
    "df = compute_attraction_coefficient_results(\n",
    "    positions_out=positions_out, tavg1=0, tavg2=0, Dt=1e-5,printing=printing)\n",
    "df.head()"
   ]
  },
  {
   "cell_type": "code",
   "execution_count": 33,
   "id": "da5b9daa",
   "metadata": {
    "ExecuteTime": {
     "end_time": "2021-11-10T14:04:28.225541Z",
     "start_time": "2021-11-10T14:04:28.221488Z"
    }
   },
   "outputs": [
    {
     "data": {
      "text/plain": [
       "2.23606797749979"
      ]
     },
     "execution_count": 33,
     "metadata": {},
     "output_type": "execute_result"
    }
   ],
   "source": [
    "np.sqrt(5)"
   ]
  },
  {
   "cell_type": "code",
   "execution_count": 34,
   "id": "dfe0c8c6",
   "metadata": {
    "ExecuteTime": {
     "end_time": "2021-11-10T14:04:31.980295Z",
     "start_time": "2021-11-10T14:04:28.226919Z"
    }
   },
   "outputs": [
    {
     "name": "stdout",
     "output_type": "stream",
     "text": [
      "runtime computing attraction coefficients: 0.0749\n"
     ]
    },
    {
     "data": {
      "text/html": [
       "<div>\n",
       "<style scoped>\n",
       "    .dataframe tbody tr th:only-of-type {\n",
       "        vertical-align: middle;\n",
       "    }\n",
       "\n",
       "    .dataframe tbody tr th {\n",
       "        vertical-align: top;\n",
       "    }\n",
       "\n",
       "    .dataframe thead th {\n",
       "        text-align: right;\n",
       "    }\n",
       "</style>\n",
       "<table border=\"1\" class=\"dataframe\">\n",
       "  <thead>\n",
       "    <tr style=\"text-align: right;\">\n",
       "      <th></th>\n",
       "      <th>tavg1</th>\n",
       "      <th>tavg2</th>\n",
       "      <th>tmax</th>\n",
       "      <th>a</th>\n",
       "      <th>Delta_a</th>\n",
       "      <th>Rsq_a</th>\n",
       "    </tr>\n",
       "  </thead>\n",
       "  <tbody>\n",
       "    <tr>\n",
       "      <th>0</th>\n",
       "      <td>0</td>\n",
       "      <td>0</td>\n",
       "      <td>0.005</td>\n",
       "      <td>7.139568</td>\n",
       "      <td>0.020423</td>\n",
       "      <td>0.998938</td>\n",
       "    </tr>\n",
       "    <tr>\n",
       "      <th>1</th>\n",
       "      <td>0</td>\n",
       "      <td>0</td>\n",
       "      <td>0.010</td>\n",
       "      <td>6.840775</td>\n",
       "      <td>0.011598</td>\n",
       "      <td>0.999254</td>\n",
       "    </tr>\n",
       "    <tr>\n",
       "      <th>2</th>\n",
       "      <td>0</td>\n",
       "      <td>0</td>\n",
       "      <td>0.015</td>\n",
       "      <td>6.067483</td>\n",
       "      <td>0.030449</td>\n",
       "      <td>0.990269</td>\n",
       "    </tr>\n",
       "    <tr>\n",
       "      <th>3</th>\n",
       "      <td>0</td>\n",
       "      <td>0</td>\n",
       "      <td>0.020</td>\n",
       "      <td>5.228016</td>\n",
       "      <td>0.037813</td>\n",
       "      <td>0.973513</td>\n",
       "    </tr>\n",
       "    <tr>\n",
       "      <th>4</th>\n",
       "      <td>0</td>\n",
       "      <td>0</td>\n",
       "      <td>0.025</td>\n",
       "      <td>4.576281</td>\n",
       "      <td>0.035718</td>\n",
       "      <td>0.961882</td>\n",
       "    </tr>\n",
       "    <tr>\n",
       "      <th>5</th>\n",
       "      <td>0</td>\n",
       "      <td>0</td>\n",
       "      <td>0.030</td>\n",
       "      <td>4.184043</td>\n",
       "      <td>0.029931</td>\n",
       "      <td>0.961586</td>\n",
       "    </tr>\n",
       "    <tr>\n",
       "      <th>6</th>\n",
       "      <td>0</td>\n",
       "      <td>0</td>\n",
       "      <td>0.035</td>\n",
       "      <td>3.819793</td>\n",
       "      <td>0.027175</td>\n",
       "      <td>0.955944</td>\n",
       "    </tr>\n",
       "    <tr>\n",
       "      <th>7</th>\n",
       "      <td>0</td>\n",
       "      <td>0</td>\n",
       "      <td>0.040</td>\n",
       "      <td>3.501530</td>\n",
       "      <td>0.025158</td>\n",
       "      <td>0.949003</td>\n",
       "    </tr>\n",
       "  </tbody>\n",
       "</table>\n",
       "</div>"
      ],
      "text/plain": [
       "   tavg1  tavg2   tmax         a   Delta_a     Rsq_a\n",
       "0      0      0  0.005  7.139568  0.020423  0.998938\n",
       "1      0      0  0.010  6.840775  0.011598  0.999254\n",
       "2      0      0  0.015  6.067483  0.030449  0.990269\n",
       "3      0      0  0.020  5.228016  0.037813  0.973513\n",
       "4      0      0  0.025  4.576281  0.035718  0.961882\n",
       "5      0      0  0.030  4.184043  0.029931  0.961586\n",
       "6      0      0  0.035  3.819793  0.027175  0.955944\n",
       "7      0      0  0.040  3.501530  0.025158  0.949003"
      ]
     },
     "execution_count": 139,
     "metadata": {},
     "output_type": "execute_result"
    }
   ],
   "source": [
    "navg1=np.int(np.around(tavg1/(Dt*10**3)))\n",
    "navg2=np.int(np.around(tavg2/(Dt*10**3)))\n",
    "\n",
    "#define time points\n",
    "#i=0\n",
    "num_timepoints=positions_out.shape[0]\n",
    "t_values=np.arange(0,Dt*num_timepoints,Dt)\n",
    "#assert t_values.shape==range_values[:,i].shape\n",
    "\n",
    "#moving avg\n",
    "if tavg1>0:\n",
    "    #compute the moving average of the positional trajectories\n",
    "    tavg_values=moving_average(t_values,n=navg1)\n",
    "    positions_out_ma=moving_average(positions_out, n=navg1)\n",
    "else:\n",
    "    tavg_values=t_values\n",
    "    positions_out_ma=positions_out\n",
    "\n",
    "#compute range # x1,y1,x2,y2\n",
    "range_values= np.sqrt((positions_out_ma[:,0,:]-positions_out_ma[:,2,:])**2 + (positions_out_ma[:,1,:]-positions_out_ma[:,3,:])**2)\n",
    "\n",
    "\n",
    "\n",
    "#compute savgol filter\n",
    "if navg2>0:\n",
    "    if navg2<30: navg2=30\n",
    "    if navg2%2==0:navg2+=1\n",
    "    #DONE: test whether there is a significant difference between the savgol derivative and the finite difference derivative of the savgol filter\n",
    "    savgol_kwargs = dict(window_length=navg2,polyorder=3,deriv=0,delta=1.0,axis=-1,mode='interp')\n",
    "    #compute the savgol_filtered values for R\n",
    "    R_savgol_values=savgol_filter(range_values,**savgol_kwargs)\n",
    "    SR_values=R_savgol_values**2\n",
    "else:\n",
    "    SR_values=range_values**2\n",
    "\n",
    "#DONE: sompute MSR_values from SR_values\n",
    "# SR_values\n",
    "\n",
    "#     if printing:\n",
    "#         print('nota bene: nan values are being kept in positions_out, so care needs to be taken to compute the particle averaged SR for every time')\n",
    "#         print(f\"HINT: I need to compute the nonnan boolean index for each time slice\")\n",
    "np.isnan(SR_values).any(),SR_values.shape\n",
    "# assert not np.isnan(positions_out).any()\n",
    "\n",
    "# the nonnan boolean index for each time slice\n",
    "MSR_values=np.zeros_like(SR_values[:,0])\n",
    "num_tbin,num_trials=SR_values.shape\n",
    "for j in range (num_tbin):\n",
    "    boo=~np.isnan(SR_values[j,:])\n",
    "    MSR_values[j]=np.mean(SR_values[j,boo])\n",
    "\n",
    "t_thresh_values=np.arange(0.005,0.04,0.005)\n",
    "\n",
    "start=time.time()\n",
    "#generate apparent attraction coefficient data\n",
    "a_sr_lst=[]\n",
    "Delta_a_sr_lst=[]\n",
    "Rsq_sr_lst=[]\n",
    "# a_one_over_R_lst=[]\n",
    "# Delta_a_one_over_R_lst=[]\n",
    "# Rsq_one_over_R_lst=[]\n",
    "tdeath_values=np.max(tavg_values)-tavg_values\n",
    "for t_thresh in t_thresh_values:\n",
    "    #squared range method\n",
    "    boo=tdeath_values<=t_thresh\n",
    "    boo&=~np.isnan(MSR_values)\n",
    "    if sum(boo)>2:\n",
    "        dict_sr=compute_slope.compute_95CI_ols(tdeath_values[boo], MSR_values[boo])\n",
    "        a_sr=dict_sr['m']/4\n",
    "        Delta_a_sr=dict_sr['Delta_m']/4\n",
    "        Rsquared=dict_sr['Rsquared']\n",
    "    else:\n",
    "        a_sr=np.nan\n",
    "        Delta_a_sr=np.nan\n",
    "        Rsquared=np.nan\n",
    "\n",
    "#     #inverse range method\n",
    "#     boo=one_over_R_values<1/R_thresh\n",
    "#     dict_one_over_R=compute_slope.compute_95CI_ols(one_over_R_values[boo], dRdt_values[boo])\n",
    "#     a_one_over_R=-1*dict_one_over_R['m']/2\n",
    "#     Delta_a_one_over_R=dict_one_over_R['Delta_m']/2\n",
    "\n",
    "    #record results\n",
    "    a_sr_lst.append(a_sr)\n",
    "    Delta_a_sr_lst.append(Delta_a_sr)\n",
    "    Rsq_sr_lst.append(Rsquared)\n",
    "#     a_one_over_R_lst.append(a_one_over_R)\n",
    "#     Delta_a_one_over_R_lst.append(Delta_a_one_over_R)\n",
    "#     Rsq_one_over_R_lst.append(dict_one_over_R['Rsquared'])\n",
    "if printing:\n",
    "    print(f\"runtime computing attraction coefficients: {time.time()-start:.4f}\")\n",
    "\n",
    "df=pd.DataFrame({\n",
    "    'tavg1':tavg1,\n",
    "    'tavg2':tavg2,\n",
    "    'tmax':t_thresh_values,\n",
    "    'a':a_sr_lst,\n",
    "    'Delta_a':Delta_a_sr_lst,\n",
    "    'Rsq_a':Rsq_sr_lst\n",
    "})\n",
    "df"
   ]
  },
  {
   "cell_type": "code",
   "execution_count": 140,
   "id": "c0f52763",
   "metadata": {
    "ExecuteTime": {
     "end_time": "2021-11-04T19:26:25.579130Z",
     "start_time": "2021-11-04T19:26:25.421177Z"
    }
   },
   "outputs": [],
   "source": [
    "navg1=np.int(np.around(tavg1/(Dt*10**3)))\n",
    "navg2=np.int(np.around(tavg2/(Dt*10**3)))\n",
    "\n",
    "#define time points\n",
    "#i=0\n",
    "num_timepoints=positions_out.shape[0]\n",
    "t_values=np.arange(0,Dt*num_timepoints,Dt)\n",
    "#assert t_values.shape==range_values[:,i].shape\n",
    "\n",
    "#moving avg\n",
    "if tavg1>0:\n",
    "    #compute the moving average of the positional trajectories\n",
    "    tavg_values=moving_average(t_values,n=navg1)\n",
    "    positions_out_ma=moving_average(positions_out, n=navg1)\n",
    "else:\n",
    "    tavg_values=t_values\n",
    "    positions_out_ma=positions_out\n",
    "\n",
    "#compute range # x1,y1,x2,y2\n",
    "range_values= np.sqrt((positions_out_ma[:,0,:]-positions_out_ma[:,2,:])**2 + (positions_out_ma[:,1,:]-positions_out_ma[:,3,:])**2)\n",
    "\n",
    "\n",
    "\n",
    "#compute savgol filter\n",
    "if navg2>0:\n",
    "    if navg2<30: navg2=30\n",
    "    if navg2%2==0:navg2+=1\n",
    "    #DONE: test whether there is a significant difference between the savgol derivative and the finite difference derivative of the savgol filter\n",
    "    savgol_kwargs = dict(window_length=navg2,polyorder=3,deriv=0,delta=1.0,axis=-1,mode='interp')\n",
    "    #compute the savgol_filtered values for R\n",
    "    R_savgol_values=savgol_filter(range_values,**savgol_kwargs)\n",
    "    SR_values=R_savgol_values**2\n",
    "else:\n",
    "    SR_values=range_values**2\n",
    "\n",
    "#DONE: sompute MSR_values from SR_values\n",
    "# SR_values\n",
    "\n",
    "#     if printing:\n",
    "#         print('nota bene: nan values are being kept in positions_out, so care needs to be taken to compute the particle averaged SR for every time')\n",
    "#         print(f\"HINT: I need to compute the nonnan boolean index for each time slice\")\n",
    "np.isnan(SR_values).any(),SR_values.shape\n",
    "# assert not np.isnan(positions_out).any()\n",
    "\n",
    "# the nonnan boolean index for each time slice\n",
    "MSR_values=np.zeros_like(SR_values[:,0])\n",
    "num_tbin,num_trials=SR_values.shape\n",
    "for j in range (num_tbin):\n",
    "    boo=~np.isnan(SR_values[j,:])\n",
    "    MSR_values[j]=np.mean(SR_values[j,boo])\n",
    "\n",
    "t_thresh_values=np.arange(0.005,0.04,0.005)\n"
   ]
  },
  {
   "cell_type": "code",
   "execution_count": 141,
   "id": "ef933fa7",
   "metadata": {
    "ExecuteTime": {
     "end_time": "2021-11-04T19:26:25.736446Z",
     "start_time": "2021-11-04T19:26:25.647474Z"
    }
   },
   "outputs": [
    {
     "name": "stdout",
     "output_type": "stream",
     "text": [
      "runtime computing attraction coefficients: 0.0765\n"
     ]
    },
    {
     "data": {
      "text/html": [
       "<div>\n",
       "<style scoped>\n",
       "    .dataframe tbody tr th:only-of-type {\n",
       "        vertical-align: middle;\n",
       "    }\n",
       "\n",
       "    .dataframe tbody tr th {\n",
       "        vertical-align: top;\n",
       "    }\n",
       "\n",
       "    .dataframe thead th {\n",
       "        text-align: right;\n",
       "    }\n",
       "</style>\n",
       "<table border=\"1\" class=\"dataframe\">\n",
       "  <thead>\n",
       "    <tr style=\"text-align: right;\">\n",
       "      <th></th>\n",
       "      <th>tavg1</th>\n",
       "      <th>tavg2</th>\n",
       "      <th>tmax</th>\n",
       "      <th>a</th>\n",
       "      <th>Delta_a</th>\n",
       "      <th>Rsq_a</th>\n",
       "    </tr>\n",
       "  </thead>\n",
       "  <tbody>\n",
       "    <tr>\n",
       "      <th>0</th>\n",
       "      <td>0</td>\n",
       "      <td>0</td>\n",
       "      <td>0.005</td>\n",
       "      <td>7.139568</td>\n",
       "      <td>0.020423</td>\n",
       "      <td>0.998938</td>\n",
       "    </tr>\n",
       "    <tr>\n",
       "      <th>1</th>\n",
       "      <td>0</td>\n",
       "      <td>0</td>\n",
       "      <td>0.010</td>\n",
       "      <td>6.840775</td>\n",
       "      <td>0.011598</td>\n",
       "      <td>0.999254</td>\n",
       "    </tr>\n",
       "    <tr>\n",
       "      <th>2</th>\n",
       "      <td>0</td>\n",
       "      <td>0</td>\n",
       "      <td>0.015</td>\n",
       "      <td>6.067483</td>\n",
       "      <td>0.030449</td>\n",
       "      <td>0.990269</td>\n",
       "    </tr>\n",
       "    <tr>\n",
       "      <th>3</th>\n",
       "      <td>0</td>\n",
       "      <td>0</td>\n",
       "      <td>0.020</td>\n",
       "      <td>5.228016</td>\n",
       "      <td>0.037813</td>\n",
       "      <td>0.973513</td>\n",
       "    </tr>\n",
       "    <tr>\n",
       "      <th>4</th>\n",
       "      <td>0</td>\n",
       "      <td>0</td>\n",
       "      <td>0.025</td>\n",
       "      <td>4.576281</td>\n",
       "      <td>0.035718</td>\n",
       "      <td>0.961882</td>\n",
       "    </tr>\n",
       "    <tr>\n",
       "      <th>5</th>\n",
       "      <td>0</td>\n",
       "      <td>0</td>\n",
       "      <td>0.030</td>\n",
       "      <td>4.184043</td>\n",
       "      <td>0.029931</td>\n",
       "      <td>0.961586</td>\n",
       "    </tr>\n",
       "    <tr>\n",
       "      <th>6</th>\n",
       "      <td>0</td>\n",
       "      <td>0</td>\n",
       "      <td>0.035</td>\n",
       "      <td>3.819793</td>\n",
       "      <td>0.027175</td>\n",
       "      <td>0.955944</td>\n",
       "    </tr>\n",
       "    <tr>\n",
       "      <th>7</th>\n",
       "      <td>0</td>\n",
       "      <td>0</td>\n",
       "      <td>0.040</td>\n",
       "      <td>3.501530</td>\n",
       "      <td>0.025158</td>\n",
       "      <td>0.949003</td>\n",
       "    </tr>\n",
       "  </tbody>\n",
       "</table>\n",
       "</div>"
      ],
      "text/plain": [
       "   tavg1  tavg2   tmax         a   Delta_a     Rsq_a\n",
       "0      0      0  0.005  7.139568  0.020423  0.998938\n",
       "1      0      0  0.010  6.840775  0.011598  0.999254\n",
       "2      0      0  0.015  6.067483  0.030449  0.990269\n",
       "3      0      0  0.020  5.228016  0.037813  0.973513\n",
       "4      0      0  0.025  4.576281  0.035718  0.961882\n",
       "5      0      0  0.030  4.184043  0.029931  0.961586\n",
       "6      0      0  0.035  3.819793  0.027175  0.955944\n",
       "7      0      0  0.040  3.501530  0.025158  0.949003"
      ]
     },
     "execution_count": 141,
     "metadata": {},
     "output_type": "execute_result"
    }
   ],
   "source": [
    "start=time.time()\n",
    "#generate apparent attraction coefficient data\n",
    "a_sr_lst=[]\n",
    "Delta_a_sr_lst=[]\n",
    "Rsq_sr_lst=[]\n",
    "# a_one_over_R_lst=[]\n",
    "# Delta_a_one_over_R_lst=[]\n",
    "# Rsq_one_over_R_lst=[]\n",
    "tdeath_values=np.max(tavg_values)-tavg_values\n",
    "for t_thresh in t_thresh_values:\n",
    "    #squared range method\n",
    "    boo=tdeath_values<=t_thresh\n",
    "    boo&=~np.isnan(MSR_values)\n",
    "    if sum(boo)>2:\n",
    "        dict_sr=compute_slope.compute_95CI_ols(tdeath_values[boo], MSR_values[boo])\n",
    "        a_sr=dict_sr['m']/4\n",
    "        Delta_a_sr=dict_sr['Delta_m']/4\n",
    "        Rsquared=dict_sr['Rsquared']\n",
    "    else:\n",
    "        a_sr=np.nan\n",
    "        Delta_a_sr=np.nan\n",
    "        Rsquared=np.nan\n",
    "\n",
    "#     #inverse range method\n",
    "#     boo=one_over_R_values<1/R_thresh\n",
    "#     dict_one_over_R=compute_slope.compute_95CI_ols(one_over_R_values[boo], dRdt_values[boo])\n",
    "#     a_one_over_R=-1*dict_one_over_R['m']/2\n",
    "#     Delta_a_one_over_R=dict_one_over_R['Delta_m']/2\n",
    "\n",
    "    #record results\n",
    "    a_sr_lst.append(a_sr)\n",
    "    Delta_a_sr_lst.append(Delta_a_sr)\n",
    "    Rsq_sr_lst.append(Rsquared)\n",
    "#     a_one_over_R_lst.append(a_one_over_R)\n",
    "#     Delta_a_one_over_R_lst.append(Delta_a_one_over_R)\n",
    "#     Rsq_one_over_R_lst.append(dict_one_over_R['Rsquared'])\n",
    "if printing:\n",
    "    print(f\"runtime computing attraction coefficients: {time.time()-start:.4f}\")\n",
    "\n",
    "df=pd.DataFrame({\n",
    "    'tavg1':tavg1,\n",
    "    'tavg2':tavg2,\n",
    "    'tmax':t_thresh_values,\n",
    "    'a':a_sr_lst,\n",
    "    'Delta_a':Delta_a_sr_lst,\n",
    "    'Rsq_a':Rsq_sr_lst\n",
    "})\n",
    "df"
   ]
  },
  {
   "cell_type": "code",
   "execution_count": 142,
   "id": "360c7ac0",
   "metadata": {
    "ExecuteTime": {
     "end_time": "2021-11-04T19:26:25.889077Z",
     "start_time": "2021-11-04T19:26:25.799262Z"
    }
   },
   "outputs": [],
   "source": [
    "# the nonnan boolean index for each time slice\n",
    "MSR_values=np.zeros_like(SR_values[:,0])\n",
    "num_tbin,num_trials=SR_values.shape\n",
    "for j in range (num_tbin):\n",
    "    boo=~np.isnan(SR_values[j,:])\n",
    "    MSR_values[j]=np.mean(SR_values[j,boo])\n",
    "\n",
    "t_thresh_values=np.arange(0.005,0.04,0.005)\n"
   ]
  },
  {
   "cell_type": "code",
   "execution_count": 143,
   "id": "63bfa93e",
   "metadata": {
    "ExecuteTime": {
     "end_time": "2021-11-04T19:26:25.966362Z",
     "start_time": "2021-11-04T19:26:25.959886Z"
    }
   },
   "outputs": [
    {
     "data": {
      "text/plain": [
       "3.501529675546694"
      ]
     },
     "execution_count": 143,
     "metadata": {},
     "output_type": "execute_result"
    }
   ],
   "source": [
    "# start=time.time()\n",
    "#generate apparent attraction coefficient data\n",
    "a_sr_lst=[]\n",
    "Delta_a_sr_lst=[]\n",
    "Rsq_sr_lst=[]\n",
    "# a_one_over_R_lst=[]\n",
    "# Delta_a_one_over_R_lst=[]\n",
    "# Rsq_one_over_R_lst=[]\n",
    "tdeath_values=np.max(tavg_values)-tavg_values\n",
    "for t_thresh in t_thresh_values:\n",
    "    #squared range method\n",
    "    boo=tdeath_values<=t_thresh\n",
    "    boo&=~np.isnan(MSR_values)\n",
    "    dict_sr=compute_slope.compute_95CI_ols(tdeath_values[boo], MSR_values[boo])\n",
    "    a_sr=dict_sr['m']/4\n",
    "    Delta_a_sr=dict_sr['Delta_m']/4\n",
    "    \n",
    "a_sr"
   ]
  },
  {
   "cell_type": "code",
   "execution_count": 144,
   "id": "4208149b",
   "metadata": {
    "ExecuteTime": {
     "end_time": "2021-11-04T19:26:26.035493Z",
     "start_time": "2021-11-04T19:26:26.032059Z"
    }
   },
   "outputs": [
    {
     "data": {
      "text/plain": [
       "array([[       nan,        nan, 2.07751217, ...,        nan,        nan,\n",
       "               nan],\n",
       "       [       nan,        nan, 2.07320697, ...,        nan,        nan,\n",
       "               nan],\n",
       "       [       nan,        nan, 2.07337873, ...,        nan,        nan,\n",
       "               nan],\n",
       "       ...,\n",
       "       [0.01293852, 0.01016335, 0.01189654, ..., 0.01128866, 0.01256878,\n",
       "        0.01029097],\n",
       "       [0.01176645, 0.01176738, 0.01093364, ..., 0.01016212, 0.01043423,\n",
       "        0.01067259],\n",
       "       [0.00976229, 0.00752802, 0.00952387, ..., 0.00956764, 0.00892987,\n",
       "        0.00949838]])"
      ]
     },
     "execution_count": 144,
     "metadata": {},
     "output_type": "execute_result"
    }
   ],
   "source": [
    "SR_values"
   ]
  },
  {
   "cell_type": "code",
   "execution_count": 145,
   "id": "a8c404d1",
   "metadata": {
    "ExecuteTime": {
     "end_time": "2021-11-04T19:26:26.204426Z",
     "start_time": "2021-11-04T19:26:26.099608Z"
    }
   },
   "outputs": [
    {
     "data": {
      "text/plain": [
       "[<matplotlib.lines.Line2D at 0x7f500e374310>]"
      ]
     },
     "execution_count": 145,
     "metadata": {},
     "output_type": "execute_result"
    },
    {
     "data": {
      "image/png": "[encoded data removed]",
      "text/plain": [
       "<Figure size 432x288 with 1 Axes>"
      ]
     },
     "metadata": {
      "needs_background": "light"
     },
     "output_type": "display_data"
    }
   ],
   "source": [
    "#squared range method\n",
    "boo=tdeath_values<=t_thresh\n",
    "boo&=~np.isnan(MSR_values)\n",
    "plt.plot(tdeath_values[boo], MSR_values[boo])"
   ]
  },
  {
   "cell_type": "code",
   "execution_count": 146,
   "id": "e07beb0f",
   "metadata": {
    "ExecuteTime": {
     "end_time": "2021-11-04T19:26:26.382622Z",
     "start_time": "2021-11-04T19:26:26.289089Z"
    }
   },
   "outputs": [
    {
     "data": {
      "text/plain": [
       "(5500,)"
      ]
     },
     "execution_count": 146,
     "metadata": {},
     "output_type": "execute_result"
    }
   ],
   "source": [
    "lst=[]\n",
    "for j in range(num_tbin):\n",
    "    boo=~np.isnan(SR_values[j,:])\n",
    "    lst.append(np.mean(SR_values[j,boo]))\n",
    "MSR_values=np.array(list(lst))\n",
    "MSR_values.shape"
   ]
  },
  {
   "cell_type": "code",
   "execution_count": 147,
   "id": "e3388e80",
   "metadata": {
    "ExecuteTime": {
     "end_time": "2021-11-04T19:26:26.490545Z",
     "start_time": "2021-11-04T19:26:26.486990Z"
    }
   },
   "outputs": [
    {
     "data": {
      "text/plain": [
       "True"
      ]
     },
     "execution_count": 147,
     "metadata": {},
     "output_type": "execute_result"
    }
   ],
   "source": [
    "j=5\n",
    "boo=~np.isnan(SR_values[j,:])\n",
    "SR_values[j,:]\n",
    "np.isnan(SR_values[j,~boo]).any()\n",
    "np.isnan(SR_values[j]).any()"
   ]
  },
  {
   "cell_type": "code",
   "execution_count": 132,
   "id": "54a9d85b",
   "metadata": {
    "ExecuteTime": {
     "end_time": "2021-11-04T19:11:19.649068Z",
     "start_time": "2021-11-04T19:11:19.543932Z"
    }
   },
   "outputs": [
    {
     "data": {
      "text/plain": [
       "True"
      ]
     },
     "execution_count": 132,
     "metadata": {},
     "output_type": "execute_result"
    },
    {
     "data": {
      "image/png": "[encoded data removed]",
      "text/plain": [
       "<Figure size 432x288 with 1 Axes>"
      ]
     },
     "metadata": {
      "needs_background": "light"
     },
     "output_type": "display_data"
    }
   ],
   "source": [
    "D_lst=[0,0.5,1]\n",
    "ahat_lst=[5,6,7.16]\n",
    "plt.plot(D_lst,ahat_lst)\n",
    "format_plot(ax=plt.gca(),xlabel=r'D (cm$^2$/s)',ylabel=r'$\\hat{a}$ (cm$^2$/s)')"
   ]
  },
  {
   "cell_type": "code",
   "execution_count": null,
   "id": "d8f96955",
   "metadata": {
    "ExecuteTime": {
     "end_time": "2021-11-10T14:04:32.000706Z",
     "start_time": "2021-11-10T14:04:32.000692Z"
    }
   },
   "outputs": [],
   "source": [
    "#TODO: measure slope of ^this"
   ]
  },
  {
   "cell_type": "code",
   "execution_count": null,
   "id": "f40bd479",
   "metadata": {
    "ExecuteTime": {
     "end_time": "2021-11-10T14:04:32.001765Z",
     "start_time": "2021-11-10T14:04:32.001752Z"
    }
   },
   "outputs": [],
   "source": [
    "#TODO: figure out why I keep getting stalling at zero!?"
   ]
  },
  {
   "cell_type": "code",
   "execution_count": null,
   "id": "89b00598",
   "metadata": {
    "ExecuteTime": {
     "end_time": "2021-11-10T14:04:32.002753Z",
     "start_time": "2021-11-10T14:04:32.002740Z"
    }
   },
   "outputs": [],
   "source": [
    "# j=0\n",
    "# boo=~np.isnan(SR_values[j,:])\n",
    "# plt.hist(SR_values[j,boo])"
   ]
  },
  {
   "cell_type": "code",
   "execution_count": null,
   "id": "affdd718",
   "metadata": {
    "ExecuteTime": {
     "end_time": "2021-11-10T14:04:32.003783Z",
     "start_time": "2021-11-10T14:04:32.003770Z"
    }
   },
   "outputs": [],
   "source": [
    "# t_values.shape,SR_values[::-1,:14].shape\n",
    "1+1"
   ]
  },
  {
   "cell_type": "code",
   "execution_count": 129,
   "id": "e8267f6c",
   "metadata": {
    "ExecuteTime": {
     "end_time": "2021-11-04T18:00:21.629040Z",
     "start_time": "2021-11-04T18:00:21.463747Z"
    }
   },
   "outputs": [
    {
     "data": {
      "image/png": "[encoded data removed]",
      "text/plain": [
       "<Figure size 432x288 with 1 Axes>"
      ]
     },
     "metadata": {
      "needs_background": "light"
     },
     "output_type": "display_data"
    }
   ],
   "source": [
    "plt.plot(t_values,SR_values[::-1,:7],c='gray',alpha=0.5)\n",
    "plt.plot(tdeath_values,MSR_values)\n",
    "plt.plot(tdeath_values[1:],tdeath_values[1:]*4*a,c='k',lw=2,alpha=0.8,label=r'a=5 cm$^2$/s')\n",
    "format_plot(ax=plt.gca(),xlabel=r'$t_f-t$ (sec)',ylabel=r'MSR (cm$^2$)')\n",
    "plt.legend(fontsize=18)\n",
    "plt.show()"
   ]
  },
  {
   "cell_type": "code",
   "execution_count": null,
   "id": "def994e3",
   "metadata": {
    "ExecuteTime": {
     "end_time": "2021-11-10T14:04:32.005842Z",
     "start_time": "2021-11-10T14:04:32.005830Z"
    }
   },
   "outputs": [],
   "source": [
    "i=6\n",
    "print(range_values[::-1,i]**2)\n",
    "plt.plot(t_values,range_values[::-1,i]**2,c='gray',lw=1,alpha=0.5)\n",
    "plt.show()"
   ]
  },
  {
   "cell_type": "code",
   "execution_count": null,
   "id": "3a2f9494",
   "metadata": {
    "ExecuteTime": {
     "end_time": "2021-11-10T14:04:32.006862Z",
     "start_time": "2021-11-10T14:04:32.006848Z"
    }
   },
   "outputs": [],
   "source": [
    "for i in range(7):#[5,7,100]:\n",
    "    plt.plot(t_values,range_values[::-1,i]**2,c='gray',lw=1,alpha=0.5)\n",
    "format_plot(ax=plt.gca(),xlabel='t (sec)',ylabel=r'MSR (cm$^2$)')\n",
    "plt.show()"
   ]
  },
  {
   "cell_type": "markdown",
   "id": "d2b7b607",
   "metadata": {},
   "source": [
    "I think the problem was from when I was turning off a given particle's simulation.  If a particle stepped within the minimum distance, it had a chance to step out of that minimum distance and then be considered for another time step before being removed from the simulation.  Because of this, every particle had a nontrivial probability of \"stalling\" at the cutoff distance.  This \"stalling\" led to an attraction coefficient that was too small.  \n",
    "\n",
    "After turning off particle motion at the end of each time step, [the simulation produced results in agreement with the case with no diffusion].\n",
    "\n",
    "I produced a small proof supporting the independence of diffusion on the apparent attraction coefficient.  It is attached."
   ]
  },
  {
   "cell_type": "code",
   "execution_count": null,
   "id": "4577e4fb",
   "metadata": {
    "ExecuteTime": {
     "end_time": "2021-11-10T14:04:32.007972Z",
     "start_time": "2021-11-10T14:04:32.007958Z"
    }
   },
   "outputs": [],
   "source": [
    "MSR_values"
   ]
  },
  {
   "cell_type": "code",
   "execution_count": null,
   "id": "54384820",
   "metadata": {
    "ExecuteTime": {
     "end_time": "2021-11-10T14:04:32.008978Z",
     "start_time": "2021-11-10T14:04:32.008965Z"
    },
    "cell_style": "center"
   },
   "outputs": [],
   "source": [
    "#make a simple plot of MSR vs tf-t\n",
    "for i in [5,7,100,1000,50]:\n",
    "    plt.plot(t_values,range_values[::-1,i]**2,c='gray',lw=1,alpha=0.5)\n",
    "format_plot(ax=plt.gca(),xlabel='t (sec)',ylabel=r'MSR (cm$^2$)')\n",
    "plt.plot(t_values[1:],MSR_values[1:]**2,c='C0',lw=2,alpha=0.5)\n",
    "plt.plot(t_values[1:],t_values[1:]*4*5,c='k',lw=2,alpha=0.5,label='Expected')\n",
    "format_plot(ax=plt.gca(),xlabel=r'$t_f-t$ (sec)',ylabel=r'MSR (cm$^2$)')\n",
    "plt.legend(fontsize=18)\n",
    "plt.show()\n",
    "\n",
    "#TODO: visualize a_SR versus tmax\n",
    "#make a simple plot of MSR vs tf-t\n",
    "for i in range(50):\n",
    "    plt.plot(t_values,range_values[::-1,i]**2,c='gray',lw=1,alpha=0.05)\n",
    "format_plot(ax=plt.gca(),xlabel='t (sec)',ylabel=r'MSR (cm$^2$)')\n",
    "plt.plot(t_values[1:],MSR_values[1:]**2,c='C0',lw=2,alpha=0.5)\n",
    "plt.plot(t_values[1:],t_values[1:]*4*5,c='k',lw=2,alpha=0.5,label='Expected')\n",
    "format_plot(ax=plt.gca(),xlabel=r'$t_f-t$ (sec)',ylabel=r'MSR (cm$^2$)')\n",
    "plt.legend(fontsize=18)\n",
    "plt.show()\n",
    "\n",
    "#TODO: try to understand what the quadratic MSR versus t means"
   ]
  },
  {
   "cell_type": "code",
   "execution_count": null,
   "id": "8cf89e59",
   "metadata": {
    "ExecuteTime": {
     "end_time": "2021-11-10T14:04:32.010071Z",
     "start_time": "2021-11-10T14:04:32.010058Z"
    }
   },
   "outputs": [],
   "source": [
    "#TODO: wrap map from tavg1,tavg2 to a_SR et al"
   ]
  },
  {
   "cell_type": "code",
   "execution_count": null,
   "id": "16494cc5",
   "metadata": {},
   "outputs": [],
   "source": []
  },
  {
   "cell_type": "code",
   "execution_count": null,
   "id": "49056c05",
   "metadata": {},
   "outputs": [],
   "source": []
  },
  {
   "cell_type": "code",
   "execution_count": null,
   "id": "25f634a3",
   "metadata": {
    "ExecuteTime": {
     "end_time": "2021-11-10T14:04:32.011085Z",
     "start_time": "2021-11-10T14:04:32.011072Z"
    }
   },
   "outputs": [],
   "source": [
    "#TODO: dev grid search over tavg1,tavg2 to a dataframe of a_SR et al"
   ]
  },
  {
   "cell_type": "code",
   "execution_count": null,
   "id": "7add01b8",
   "metadata": {
    "ExecuteTime": {
     "end_time": "2021-11-10T14:04:32.012090Z",
     "start_time": "2021-11-10T14:04:32.012077Z"
    }
   },
   "outputs": [],
   "source": [
    "#TODO: save ^that dataframe as csv"
   ]
  },
  {
   "cell_type": "code",
   "execution_count": null,
   "id": "c9278772",
   "metadata": {
    "ExecuteTime": {
     "end_time": "2021-11-10T14:04:32.013420Z",
     "start_time": "2021-11-10T14:04:32.013407Z"
    }
   },
   "outputs": [],
   "source": [
    "#(supposing the tavg1,tavg2 grid search is reasonably fast <1 hour),\n",
    "#TODO: run a dask bag over D=0.,...,1. in min(0.1,x), where x = the minimum stepsize that should finish by the time I wakeup tomorrow\n",
    "#nota bene: without too much difficulty, I could use 50 cores from ssh-miller and use ~5X smaller x..."
   ]
  },
  {
   "cell_type": "code",
   "execution_count": null,
   "id": "37a50a52",
   "metadata": {
    "ExecuteTime": {
     "end_time": "2021-11-10T14:04:32.014170Z",
     "start_time": "2021-11-10T14:04:32.014157Z"
    }
   },
   "outputs": [],
   "source": [
    "    #GOAL: vectorized processing\n",
    "    # DONE: plot the basic results versus time and verify that they look reasonable\n",
    "    # DONE(optional): compute the moving average of particle locations\n",
    "    # DONE: compute all ranges\n",
    "    # DONE: find the row index where the positions first become closer than R_thresh=0.001 cm\n",
    "\n",
    "    #     ylabel_lst=['R (cm)','diffusive\\nstep size (cm)','attractive\\nstep size (cm)']\n",
    "    #     fig,axs=plt.subplots(1,3,figsize=(14,4),constrained_layout=True)\n",
    "    #     for i,(ax,ylabel) in enumerate(zip(axs,ylabel_lst)):\n",
    "    #         ax.plot(mean_array[:,i])\n",
    "    #         ax.fill_between(mean_array[:,i]-1.96*std_array[:,i],mean_array[:,i]+1.96*std_array[:,i],alpha=0.5)\n",
    "    #         format_plot(ax=ax,xlabel='t (sec)',ylabel=ylabel)\n",
    "    #     plt.show()\n"
   ]
  }
 ],
 "metadata": {
  "kernelspec": {
   "display_name": "Python (rapidneurophysics)",
   "language": "python",
   "name": "python3"
  },
  "language_info": {
   "codemirror_mode": {
    "name": "ipython",
    "version": 3
   },
   "file_extension": ".py",
   "mimetype": "text/x-python",
   "name": "python",
   "nbconvert_exporter": "python",
   "pygments_lexer": "ipython3",
   "version": "3.8.10"
  },
  "toc": {
   "base_numbering": 1,
   "nav_menu": {},
   "number_sections": true,
   "sideBar": true,
   "skip_h1_title": false,
   "title_cell": "Table of Contents",
   "title_sidebar": "Contents",
   "toc_cell": false,
   "toc_position": {},
   "toc_section_display": true,
   "toc_window_display": false
  },
  "varInspector": {
   "cols": {
    "lenName": 16,
    "lenType": 16,
    "lenVar": 40
   },
   "kernels_config": {
    "python": {
     "delete_cmd_postfix": "",
     "delete_cmd_prefix": "del ",
     "library": "var_list.py",
     "varRefreshCmd": "print(var_dic_list())"
    },
    "r": {
     "delete_cmd_postfix": ") ",
     "delete_cmd_prefix": "rm(",
     "library": "var_list.r",
     "varRefreshCmd": "cat(var_dic_list()) "
    }
   },
   "types_to_exclude": [
    "module",
    "function",
    "builtin_function_or_method",
    "instance",
    "_Feature"
   ],
   "window_display": false
  }
 },
 "nbformat": 4,
 "nbformat_minor": 5
}
