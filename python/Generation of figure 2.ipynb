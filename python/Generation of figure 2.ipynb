{
 "cells": [
  {
   "cell_type": "markdown",
   "id": "b6eb107d",
   "metadata": {},
   "source": [
    "# Generation of figure 2\n",
    "Tim Tyree<br>\n",
    "1.3.2022"
   ]
  },
  {
   "cell_type": "code",
   "execution_count": 1,
   "id": "002b9571",
   "metadata": {
    "ExecuteTime": {
     "end_time": "2022-01-04T01:05:39.288644Z",
     "start_time": "2022-01-04T01:05:37.740332Z"
    }
   },
   "outputs": [
    {
     "name": "stdout",
     "output_type": "stream",
     "text": [
      "The autoreload extension is already loaded. To reload it, use:\n",
      "  %reload_ext autoreload\n"
     ]
    }
   ],
   "source": [
    "from scipy.optimize import minimize\n",
    "\n",
    "from lib.my_initialization import *\n",
    "from lib import *\n",
    "from lib.lib_care.measure.level_sets import comp_longest_level_set_and_smooth\n",
    "%load_ext autoreload\n",
    "%autoreload 2\n",
    "\n",
    "import random,scipy\n",
    "from scipy.interpolate import LinearNDInterpolator\n",
    "from scipy.interpolate import CloughTocher2DInterpolator\n",
    "import matplotlib as mpl #for colorbar\n",
    "from scipy import stats\n",
    "#DONE: hook this routine up to dask\n",
    "#DONT: hook this routine up to dask_cuda\n",
    "# import scanpy as sc\n",
    "darkmode=False\n",
    "if darkmode:\n",
    "    # For darkmode plots\n",
    "    from jupyterthemes import jtplot\n",
    "    jtplot.style(theme='monokai', context='notebook', ticks=True, grid=False)\n",
    "#     theme=cuxfilter.themes.dark\n",
    "#     #     theme=cuxfilter.themes.rapids\n",
    "else:\n",
    "    sns.set_style('white')\n",
    "#     theme=cuxfilter.themes.light\n",
    "import warnings\n",
    "warnings.simplefilter(\"ignore\", UserWarning)\n",
    "%load_ext autoreload\n",
    "%autoreload 2\n",
    "import cupy as cp\n",
    "np.random.seed(42)\n",
    "cp.random.seed(42)"
   ]
  },
  {
   "cell_type": "code",
   "execution_count": null,
   "id": "bcc8dbd5",
   "metadata": {
    "ExecuteTime": {
     "end_time": "2022-01-04T01:05:39.307752Z",
     "start_time": "2022-01-04T01:05:39.289805Z"
    }
   },
   "outputs": [],
   "source": []
  },
  {
   "cell_type": "code",
   "execution_count": 3,
   "id": "2bb8c687",
   "metadata": {
    "ExecuteTime": {
     "end_time": "2022-01-04T01:05:56.442100Z",
     "start_time": "2022-01-04T01:05:39.310432Z"
    }
   },
   "outputs": [
    {
     "name": "stdout",
     "output_type": "stream",
     "text": [
      "estimated runtime is ~20 seconds for 17988 training samples...\n",
      "number of training examples is 17988....\n",
      "training complete!\n"
     ]
    }
   ],
   "source": [
    "interp=recall_particle_model_interp()"
   ]
  },
  {
   "cell_type": "code",
   "execution_count": 4,
   "id": "674f8fac",
   "metadata": {
    "ExecuteTime": {
     "end_time": "2022-01-04T01:05:56.460112Z",
     "start_time": "2022-01-04T01:05:56.443311Z"
    }
   },
   "outputs": [],
   "source": [
    "# #recall the fit of the particle model to the powerlaw fits from the full models\n",
    "# wjr=recall_powerlaw_fits_to_full_models()\n",
    "# print(*wjr)"
   ]
  },
  {
   "cell_type": "code",
   "execution_count": 29,
   "id": "aa225f20",
   "metadata": {
    "ExecuteTime": {
     "end_time": "2022-01-04T01:12:12.725907Z",
     "start_time": "2022-01-04T01:12:12.698442Z"
    }
   },
   "outputs": [],
   "source": [
    "# # recall_particle_parameter_fits \n",
    "# a,D,r,kappa,rmse=recall_particle_parameter_fits('luorudy')\n",
    "# a,D,r,kappa,rmse=recall_particle_parameter_fits('fentonkarma')\n",
    "# a_hat_FK, D_hat_FK, a_hat_FK_long, a_hat_FK_vlong, a_hat_LR, D_hat_LR, a_hat_LR_long=recall_particle_parameter_measurements()"
   ]
  },
  {
   "cell_type": "markdown",
   "id": "f2ad5971",
   "metadata": {},
   "source": [
    "# directly compute the powerlaws from the particle model with vector-summed inverse powerlaw attraction\n",
    "- Nota Bene: this process is automated by my pythonic function recall_particle_model_interp from lib"
   ]
  },
  {
   "cell_type": "code",
   "execution_count": 8,
   "id": "2aaf3b83",
   "metadata": {
    "ExecuteTime": {
     "end_time": "2022-01-04T01:06:45.217237Z",
     "start_time": "2022-01-04T01:06:45.148128Z"
    }
   },
   "outputs": [
    {
     "data": {
      "text/html": [
       "<div>\n",
       "<style scoped>\n",
       "    .dataframe tbody tr th:only-of-type {\n",
       "        vertical-align: middle;\n",
       "    }\n",
       "\n",
       "    .dataframe tbody tr th {\n",
       "        vertical-align: top;\n",
       "    }\n",
       "\n",
       "    .dataframe thead th {\n",
       "        text-align: right;\n",
       "    }\n",
       "</style>\n",
       "<table border=\"1\" class=\"dataframe\">\n",
       "  <thead>\n",
       "    <tr style=\"text-align: right;\">\n",
       "      <th></th>\n",
       "      <th>m</th>\n",
       "      <th>Delta_m</th>\n",
       "      <th>M</th>\n",
       "      <th>Delta_M</th>\n",
       "      <th>Rsq</th>\n",
       "      <th>rmse</th>\n",
       "      <th>rmse_full</th>\n",
       "      <th>model_name_full</th>\n",
       "      <th>q_min</th>\n",
       "      <th>q_max</th>\n",
       "      <th>...</th>\n",
       "      <th>D</th>\n",
       "      <th>varkappa</th>\n",
       "      <th>x0</th>\n",
       "      <th>L</th>\n",
       "      <th>force_code</th>\n",
       "      <th>neighbor</th>\n",
       "      <th>reflect</th>\n",
       "      <th>set_second</th>\n",
       "      <th>no_repulsion</th>\n",
       "      <th>no_attraction</th>\n",
       "    </tr>\n",
       "  </thead>\n",
       "  <tbody>\n",
       "    <tr>\n",
       "      <th>0</th>\n",
       "      <td>1.477497</td>\n",
       "      <td>0.017889</td>\n",
       "      <td>10.233038</td>\n",
       "      <td>0.458553</td>\n",
       "      <td>0.996691</td>\n",
       "      <td>0.254568</td>\n",
       "      <td>2.192560</td>\n",
       "      <td>fk_ncbc</td>\n",
       "      <td>0.1</td>\n",
       "      <td>1.0</td>\n",
       "      <td>...</td>\n",
       "      <td>1.6</td>\n",
       "      <td>9</td>\n",
       "      <td>0</td>\n",
       "      <td>10</td>\n",
       "      <td>2</td>\n",
       "      <td>0</td>\n",
       "      <td>0</td>\n",
       "      <td>0</td>\n",
       "      <td>0</td>\n",
       "      <td>0</td>\n",
       "    </tr>\n",
       "    <tr>\n",
       "      <th>1</th>\n",
       "      <td>1.726534</td>\n",
       "      <td>0.013938</td>\n",
       "      <td>18.451423</td>\n",
       "      <td>0.663628</td>\n",
       "      <td>0.998526</td>\n",
       "      <td>0.252599</td>\n",
       "      <td>0.849591</td>\n",
       "      <td>lr_pbc</td>\n",
       "      <td>0.1</td>\n",
       "      <td>1.0</td>\n",
       "      <td>...</td>\n",
       "      <td>1.0</td>\n",
       "      <td>9</td>\n",
       "      <td>0</td>\n",
       "      <td>10</td>\n",
       "      <td>2</td>\n",
       "      <td>0</td>\n",
       "      <td>1</td>\n",
       "      <td>0</td>\n",
       "      <td>0</td>\n",
       "      <td>0</td>\n",
       "    </tr>\n",
       "    <tr>\n",
       "      <th>2</th>\n",
       "      <td>1.361442</td>\n",
       "      <td>0.010685</td>\n",
       "      <td>34.324471</td>\n",
       "      <td>1.345462</td>\n",
       "      <td>0.998607</td>\n",
       "      <td>0.557511</td>\n",
       "      <td>10.602247</td>\n",
       "      <td>lr_pbc</td>\n",
       "      <td>0.1</td>\n",
       "      <td>1.0</td>\n",
       "      <td>...</td>\n",
       "      <td>1.2</td>\n",
       "      <td>90</td>\n",
       "      <td>0</td>\n",
       "      <td>10</td>\n",
       "      <td>2</td>\n",
       "      <td>0</td>\n",
       "      <td>1</td>\n",
       "      <td>0</td>\n",
       "      <td>0</td>\n",
       "      <td>0</td>\n",
       "    </tr>\n",
       "    <tr>\n",
       "      <th>3</th>\n",
       "      <td>3.050656</td>\n",
       "      <td>0.082928</td>\n",
       "      <td>110.878921</td>\n",
       "      <td>27.313205</td>\n",
       "      <td>0.983541</td>\n",
       "      <td>8.696932</td>\n",
       "      <td>40.571684</td>\n",
       "      <td>lr_pbc</td>\n",
       "      <td>0.1</td>\n",
       "      <td>1.0</td>\n",
       "      <td>...</td>\n",
       "      <td>1.6</td>\n",
       "      <td>1</td>\n",
       "      <td>0</td>\n",
       "      <td>10</td>\n",
       "      <td>2</td>\n",
       "      <td>0</td>\n",
       "      <td>0</td>\n",
       "      <td>0</td>\n",
       "      <td>0</td>\n",
       "      <td>0</td>\n",
       "    </tr>\n",
       "    <tr>\n",
       "      <th>4</th>\n",
       "      <td>1.961670</td>\n",
       "      <td>0.014691</td>\n",
       "      <td>3.008488</td>\n",
       "      <td>0.072870</td>\n",
       "      <td>0.998732</td>\n",
       "      <td>0.053220</td>\n",
       "      <td>1.228204</td>\n",
       "      <td>fk_pbc</td>\n",
       "      <td>0.1</td>\n",
       "      <td>1.0</td>\n",
       "      <td>...</td>\n",
       "      <td>1.9</td>\n",
       "      <td>1</td>\n",
       "      <td>0</td>\n",
       "      <td>10</td>\n",
       "      <td>2</td>\n",
       "      <td>0</td>\n",
       "      <td>0</td>\n",
       "      <td>0</td>\n",
       "      <td>0</td>\n",
       "      <td>0</td>\n",
       "    </tr>\n",
       "  </tbody>\n",
       "</table>\n",
       "<p>5 rows × 22 columns</p>\n",
       "</div>"
      ],
      "text/plain": [
       "          m   Delta_m           M    Delta_M       Rsq      rmse  rmse_full  \\\n",
       "0  1.477497  0.017889   10.233038   0.458553  0.996691  0.254568   2.192560   \n",
       "1  1.726534  0.013938   18.451423   0.663628  0.998526  0.252599   0.849591   \n",
       "2  1.361442  0.010685   34.324471   1.345462  0.998607  0.557511  10.602247   \n",
       "3  3.050656  0.082928  110.878921  27.313205  0.983541  8.696932  40.571684   \n",
       "4  1.961670  0.014691    3.008488   0.072870  0.998732  0.053220   1.228204   \n",
       "\n",
       "  model_name_full  q_min  q_max  ...    D  varkappa  x0   L  force_code  \\\n",
       "0         fk_ncbc    0.1    1.0  ...  1.6         9   0  10           2   \n",
       "1          lr_pbc    0.1    1.0  ...  1.0         9   0  10           2   \n",
       "2          lr_pbc    0.1    1.0  ...  1.2        90   0  10           2   \n",
       "3          lr_pbc    0.1    1.0  ...  1.6         1   0  10           2   \n",
       "4          fk_pbc    0.1    1.0  ...  1.9         1   0  10           2   \n",
       "\n",
       "   neighbor  reflect  set_second  no_repulsion  no_attraction  \n",
       "0         0        0           0             0              0  \n",
       "1         0        1           0             0              0  \n",
       "2         0        1           0             0              0  \n",
       "3         0        0           0             0              0  \n",
       "4         0        0           0             0              0  \n",
       "\n",
       "[5 rows x 22 columns]"
      ]
     },
     "execution_count": 8,
     "metadata": {},
     "output_type": "execute_result"
    }
   ],
   "source": [
    "# input_fn=f\"/home/timothytyree/Documents/GitHub/bgmc/python/data/osg_output/run_18_all_powerlaw_fits.csv\"\n",
    "# input_fn=f\"/home/timothytyree/Documents/GitHub/bgmc/python/data/osg_output/run_17_all_powerlaw_fits.csv\"\n",
    "input_fn=f\"/home/timothytyree/Documents/GitHub/bgmc/python/data/osg_output/run_15_all_powerlaw_fits.csv\"\n",
    "df=pd.read_csv(input_fn)\n",
    "df.head()"
   ]
  },
  {
   "cell_type": "code",
   "execution_count": 10,
   "id": "5f16d04f",
   "metadata": {
    "ExecuteTime": {
     "end_time": "2022-01-04T01:07:04.378758Z",
     "start_time": "2022-01-04T01:07:04.356198Z"
    }
   },
   "outputs": [],
   "source": [
    "r=0.1\n",
    "kappa=250\n",
    "D=0.7\n",
    "# varkappa_lst=sorted(set(df['varkappa'].values))\n",
    "# varkappa_lst\n",
    "\n",
    "#TODO: extract xy values for kappa, r, D fixed to any value, which I can change later\n",
    "#define constant parameters\n",
    "reflect=0\n",
    "force_code=2\n",
    "set_second=0\n",
    "neighbor=0\n",
    "no_attraction=0\n",
    "no_repulsion=0\n",
    "# kappa=100\n",
    "L=10\n",
    "\n",
    "#template query for the DataFrame\n",
    "query =(df.set_second==set_second)\n",
    "query&=(df.no_repulsion==no_repulsion)&(df.no_attraction==no_attraction)\n",
    "query&=(df.neighbor==neighbor)&(df.force_code==force_code)\n",
    "query&=df.r==r\n",
    "query&=df.kappa==kappa\n",
    "query&=df.D==D\n",
    "query&=df.L==L\n",
    "# query&=df.x0==x0\n",
    "query_template=query.copy()"
   ]
  },
  {
   "cell_type": "code",
   "execution_count": 28,
   "id": "d6f4b631",
   "metadata": {
    "ExecuteTime": {
     "end_time": "2022-01-04T01:10:18.202006Z",
     "start_time": "2022-01-04T01:10:17.565860Z"
    }
   },
   "outputs": [
    {
     "data": {
      "image/png": "[encoded data removed]",
      "text/plain": [
       "<Figure size 360x288 with 2 Axes>"
      ]
     },
     "metadata": {},
     "output_type": "display_data"
    }
   ],
   "source": [
    "num_points = 25\n",
    "c_col = 'rmse_full'\n",
    "vmin = 0.\n",
    "vmax = .25\n",
    "fontsize = 20\n",
    "x1lim = [1e-1, 1]\n",
    "x2lim = [1e-2, 25]\n",
    "# x1lim=[5,10]\n",
    "# x2lim=[50,350]\n",
    "fig, ax = plt.subplots(figsize=(5,4))\n",
    "varkappa_lst = sorted(set(df['varkappa'].values))\n",
    "varkappa_lst = list(reversed([0,1,2,3, 5, 10, 20, 30]))\n",
    "\n",
    "vmin = 0\n",
    "vmax = np.max(varkappa_lst)\n",
    "for varkappa in varkappa_lst:\n",
    "    #extract the data\n",
    "    query = query_template.copy()\n",
    "    query &= df.varkappa == varkappa\n",
    "    M_returned = df.loc[query, 'M'].values\n",
    "    nu_returned = df.loc[query, 'm'].values\n",
    "    #     print((M_returned.shape,nu_returned.shape))  #shows there is a unique fit recalled\n",
    "    M = M_returned[0]\n",
    "    nu = nu_returned[0]\n",
    "    x_values = np.linspace(0, 1, 1000)\n",
    "    y_values = M * x_values**nu\n",
    "    c_values = varkappa + 0. * x_values\n",
    "\n",
    "    #scatter plot\n",
    "    if varkappa==0:\n",
    "        ax.plot(x_values,y_values,c='black',alpha=1.,lw=3)#,s=5)\n",
    "        first_case=False\n",
    "    else:\n",
    "        ax.scatter(x_values,y_values,\n",
    "               c=c_values,cmap='Greens',alpha=0.7,s=3,vmin=vmin,vmax=2*vmax)\n",
    "# title=f'Top {num_points} Trials for {modelname} Model\\n'\n",
    "FormatAxes(ax,\n",
    "           x1lim=x1lim,\n",
    "           x2lim=x2lim,\n",
    "           x1label=r'$q$ (1/cm$^{2}$)',#r'$q=N/A$ (1/cm$^{2}$)',\n",
    "           x2label=r'$w$ (Hz/cm$^{2}$)',#r'$w=W_{-2}/A$ (Hz/cm$^{2}$)',\n",
    "           title=None,\n",
    "           fontsize=fontsize,\n",
    "           use_loglog=True)\n",
    "# cbar=fig.colorbar(cmap='bone', ax=ax, shrink=0.6,label=r'RMSE$_{particle\\;vs\\;full}$')#, location='top'\n",
    "# fig.colorbar(pcm, ax=[axs[0, col]], location='top', shrink=0.6)\n",
    "#     cbar=fig.colorbar(pcm, ax=axs[:, col],shrink=0.6)#,label=output_col)\n",
    "\n",
    "import matplotlib as mpl\n",
    "norm = mpl.colors.Normalize(vmin=vmin, vmax=vmax)\n",
    "cmap = plt.cm.Greens\n",
    "cax = fig.add_axes([0.95, 0.2, 0.02, 0.6])\n",
    "cb = mpl.colorbar.ColorbarBase(cax,\n",
    "                               cmap=cmap,\n",
    "                               norm=norm,\n",
    "                               spacing='proportional')\n",
    "cb.set_label(r'$a$ (cm$^{2}/$s)', fontsize=fontsize)\n",
    "cb.ax.tick_params(labelsize=fontsize)\n",
    "\n",
    "ax.annotate(\"decreasing a\", xy=(0.3, 11), xytext=(0.11, 10),fontsize=fontsize)\n",
    "ax.set_title(r'$\\forall $ A $ > 0$',fontsize=fontsize)\n",
    "# ax.set_title(r'For all A $ > 0$',fontsize=fontsize)\n",
    "plt.show()"
   ]
  },
  {
   "cell_type": "markdown",
   "id": "1e04c20c",
   "metadata": {},
   "source": [
    "src 'generate figure effect of increasing a.ipynb':\n",
    "- for D=0.7, kappa=250, r=0.1 fixed,\n",
    "- the powerlaw OLS fit for loglog of M versus a\n",
    "- m=0.34662844685683697\n",
    "- Delta_m=0.007544034420649642\n",
    "- b=1.5430792099954873\n",
    "- Delta_b=0.023831286783598894\n",
    "- Rsquared=0.9972947153026107"
   ]
  },
  {
   "cell_type": "markdown",
   "id": "c60c0de7",
   "metadata": {
    "ExecuteTime": {
     "end_time": "2022-01-04T01:10:10.059105Z",
     "start_time": "2022-01-04T01:10:10.000911Z"
    }
   },
   "source": [
    "#  TODO: plot Fig. 2"
   ]
  },
  {
   "cell_type": "code",
   "execution_count": 30,
   "id": "afb4af97",
   "metadata": {
    "ExecuteTime": {
     "end_time": "2022-01-04T01:20:00.276322Z",
     "start_time": "2022-01-04T01:20:00.258082Z"
    }
   },
   "outputs": [],
   "source": [
    "#TODO(easy): plot the original full model annihilation rate measurements\n",
    "#DONE: find previous \"decreasing a\" plot NOT from 'Generating Annihilation Rate Plots from Remote Cache of Particle Model.ipynb'\n",
    "#TODO: merge ^those\n",
    "#TODO: perform basic edits to match sketch"
   ]
  },
  {
   "cell_type": "code",
   "execution_count": 33,
   "id": "e06addd5",
   "metadata": {
    "ExecuteTime": {
     "end_time": "2022-01-04T01:31:22.939787Z",
     "start_time": "2022-01-04T01:31:22.903521Z"
    }
   },
   "outputs": [],
   "source": [
    "#load birth death rates from the full model\n",
    "data_folder=f'{nb_dir}/data'\n",
    "os.chdir(data_folder)\n",
    "\n",
    "data_fk_fn='full_results/data_fig4_vidmar_fk_tt.csv'\n",
    "data_lr_fn='full_results/data_fig4_vidmar_lr_tt.csv'\n",
    "\n",
    "fk=pd.read_csv(data_fk_fn)\n",
    "fk['N']=fk['No2']*2\n",
    "fk['q']=fk['N']/fk['A'] #number of tips per square centimeter\n",
    "fk['w']=fk['rate']/fk['A']*10**3 #Hz/cm^2\n",
    "\n",
    "lr=pd.read_csv(data_lr_fn)\n",
    "lr['N']=lr['No2']*2\n",
    "lr['q']=lr['N']/lr['A'] #number of tips per square centimeter\n",
    "lr['w']=lr['rate']/lr['A']*10**3 #Hz/cm^2"
   ]
  },
  {
   "cell_type": "code",
   "execution_count": 38,
   "id": "52a65c06",
   "metadata": {
    "ExecuteTime": {
     "end_time": "2022-01-04T01:34:36.273885Z",
     "start_time": "2022-01-04T01:34:36.249468Z"
    }
   },
   "outputs": [],
   "source": [
    "#TODO: dev PlotScatter function for the full models\n",
    "#input: ax, df=lr or fk, c='C0' or 'C1'\n",
    "#output: True and plotted values"
   ]
  },
  {
   "cell_type": "code",
   "execution_count": null,
   "id": "16394c00",
   "metadata": {},
   "outputs": [],
   "source": []
  }
 ],
 "metadata": {
  "kernelspec": {
   "display_name": "Python 3 (ipykernel)",
   "language": "python",
   "name": "python3"
  },
  "language_info": {
   "codemirror_mode": {
    "name": "ipython",
    "version": 3
   },
   "file_extension": ".py",
   "mimetype": "text/x-python",
   "name": "python",
   "nbconvert_exporter": "python",
   "pygments_lexer": "ipython3",
   "version": "3.7.10"
  },
  "toc": {
   "base_numbering": 1,
   "nav_menu": {},
   "number_sections": true,
   "sideBar": true,
   "skip_h1_title": false,
   "title_cell": "Table of Contents",
   "title_sidebar": "Contents",
   "toc_cell": false,
   "toc_position": {},
   "toc_section_display": true,
   "toc_window_display": false
  },
  "varInspector": {
   "cols": {
    "lenName": 16,
    "lenType": 16,
    "lenVar": 40
   },
   "kernels_config": {
    "python": {
     "delete_cmd_postfix": "",
     "delete_cmd_prefix": "del ",
     "library": "var_list.py",
     "varRefreshCmd": "print(var_dic_list())"
    },
    "r": {
     "delete_cmd_postfix": ") ",
     "delete_cmd_prefix": "rm(",
     "library": "var_list.r",
     "varRefreshCmd": "cat(var_dic_list()) "
    }
   },
   "types_to_exclude": [
    "module",
    "function",
    "builtin_function_or_method",
    "instance",
    "_Feature"
   ],
   "window_display": false
  }
 },
 "nbformat": 4,
 "nbformat_minor": 5
}
