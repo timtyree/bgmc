{
 "cells": [
  {
   "cell_type": "markdown",
   "id": "a21b2793",
   "metadata": {},
   "source": [
    "# Generation of figure 2\n",
    "Tim Tyree<br>\n",
    "1.3.2022"
   ]
  },
  {
   "cell_type": "code",
   "execution_count": 1,
   "id": "82075f4e",
   "metadata": {
    "ExecuteTime": {
     "end_time": "2022-01-04T00:22:15.194310Z",
     "start_time": "2022-01-04T00:22:13.766514Z"
    }
   },
   "outputs": [
    {
     "name": "stdout",
     "output_type": "stream",
     "text": [
      "The autoreload extension is already loaded. To reload it, use:\n",
      "  %reload_ext autoreload\n"
     ]
    }
   ],
   "source": [
    "from scipy.optimize import minimize\n",
    "\n",
    "from lib.my_initialization import *\n",
    "from lib import *\n",
    "from lib.lib_care.measure.level_sets import comp_longest_level_set_and_smooth\n",
    "%load_ext autoreload\n",
    "%autoreload 2\n",
    "\n",
    "import random,scipy\n",
    "from scipy.interpolate import LinearNDInterpolator\n",
    "from scipy.interpolate import CloughTocher2DInterpolator\n",
    "import matplotlib as mpl #for colorbar\n",
    "from scipy import stats\n",
    "#DONE: hook this routine up to dask\n",
    "#DONT: hook this routine up to dask_cuda\n",
    "# import scanpy as sc\n",
    "darkmode=False\n",
    "if darkmode:\n",
    "    # For darkmode plots\n",
    "    from jupyterthemes import jtplot\n",
    "    jtplot.style(theme='monokai', context='notebook', ticks=True, grid=False)\n",
    "#     theme=cuxfilter.themes.dark\n",
    "#     #     theme=cuxfilter.themes.rapids\n",
    "else:\n",
    "    sns.set_style('white')\n",
    "#     theme=cuxfilter.themes.light\n",
    "import warnings\n",
    "warnings.simplefilter(\"ignore\", UserWarning)\n",
    "%load_ext autoreload\n",
    "%autoreload 2\n",
    "import cupy as cp\n",
    "np.random.seed(42)\n",
    "cp.random.seed(42)"
   ]
  },
  {
   "cell_type": "code",
   "execution_count": 2,
   "id": "ddbb813e",
   "metadata": {
    "ExecuteTime": {
     "end_time": "2022-01-04T00:22:15.217081Z",
     "start_time": "2022-01-04T00:22:15.196270Z"
    }
   },
   "outputs": [],
   "source": [
    "#TODO(easy): plot the original full model annihilation rate measurements\n",
    "#TODO: find previous \"decreasing a\" plot from 'Generating Annihilation Rate Plots from Remote Cache of Particle Model.ipynb'\n",
    "#TODO: merge ^those\n",
    "#TODO: perform basic edits to match sketch"
   ]
  },
  {
   "cell_type": "code",
   "execution_count": 3,
   "id": "35c2ebb1",
   "metadata": {
    "ExecuteTime": {
     "end_time": "2022-01-04T00:22:30.648861Z",
     "start_time": "2022-01-04T00:22:15.218688Z"
    }
   },
   "outputs": [
    {
     "name": "stdout",
     "output_type": "stream",
     "text": [
      "estimated runtime is ~20 seconds for 17988 training samples...\n",
      "number of training examples is 17988.\n",
      "training complete!\n"
     ]
    }
   ],
   "source": [
    "interp=recall_particle_model_interp()"
   ]
  },
  {
   "cell_type": "code",
   "execution_count": 4,
   "id": "c6128fa8",
   "metadata": {
    "ExecuteTime": {
     "end_time": "2022-01-04T00:22:30.674186Z",
     "start_time": "2022-01-04T00:22:30.652151Z"
    }
   },
   "outputs": [],
   "source": [
    "# #fit the particle model to the powerlaw fits from the full models\n",
    "# wjr=recall_powerlaw_fits_to_full_models()\n",
    "# print(*wjr)"
   ]
  },
  {
   "cell_type": "code",
   "execution_count": 5,
   "id": "226ae910",
   "metadata": {
    "ExecuteTime": {
     "end_time": "2022-01-04T00:22:30.701334Z",
     "start_time": "2022-01-04T00:22:30.675629Z"
    }
   },
   "outputs": [],
   "source": [
    "# a,D,r,kappa,rmse=recall_particle_parameter_fits('luorudy')\n",
    "# a,D,r,kappa,rmse=recall_particle_parameter_fits('fentonkarma')\n",
    "# a_hat_FK, D_hat_FK, a_hat_FK_long, a_hat_FK_vlong, a_hat_LR, D_hat_LR, a_hat_LR_long=recall_particle_parameter_measurements()"
   ]
  },
  {
   "cell_type": "code",
   "execution_count": null,
   "id": "12bf02ab",
   "metadata": {},
   "outputs": [],
   "source": []
  },
  {
   "cell_type": "code",
   "execution_count": null,
   "id": "ac908e5c",
   "metadata": {},
   "outputs": [],
   "source": []
  },
  {
   "cell_type": "code",
   "execution_count": null,
   "id": "6db895a6",
   "metadata": {
    "ExecuteTime": {
     "end_time": "2022-01-03T23:19:59.432416Z",
     "start_time": "2022-01-03T23:19:59.410816Z"
    }
   },
   "outputs": [],
   "source": []
  },
  {
   "cell_type": "code",
   "execution_count": null,
   "id": "71c14931",
   "metadata": {},
   "outputs": [],
   "source": []
  }
 ],
 "metadata": {
  "kernelspec": {
   "display_name": "Python 3 (ipykernel)",
   "language": "python",
   "name": "python3"
  },
  "language_info": {
   "codemirror_mode": {
    "name": "ipython",
    "version": 3
   },
   "file_extension": ".py",
   "mimetype": "text/x-python",
   "name": "python",
   "nbconvert_exporter": "python",
   "pygments_lexer": "ipython3",
   "version": "3.7.10"
  },
  "toc": {
   "base_numbering": 1,
   "nav_menu": {},
   "number_sections": true,
   "sideBar": true,
   "skip_h1_title": false,
   "title_cell": "Table of Contents",
   "title_sidebar": "Contents",
   "toc_cell": false,
   "toc_position": {},
   "toc_section_display": true,
   "toc_window_display": false
  },
  "varInspector": {
   "cols": {
    "lenName": 16,
    "lenType": 16,
    "lenVar": 40
   },
   "kernels_config": {
    "python": {
     "delete_cmd_postfix": "",
     "delete_cmd_prefix": "del ",
     "library": "var_list.py",
     "varRefreshCmd": "print(var_dic_list())"
    },
    "r": {
     "delete_cmd_postfix": ") ",
     "delete_cmd_prefix": "rm(",
     "library": "var_list.r",
     "varRefreshCmd": "cat(var_dic_list()) "
    }
   },
   "types_to_exclude": [
    "module",
    "function",
    "builtin_function_or_method",
    "instance",
    "_Feature"
   ],
   "window_display": false
  }
 },
 "nbformat": 4,
 "nbformat_minor": 5
}
