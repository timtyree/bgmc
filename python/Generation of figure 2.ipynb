{
 "cells": [
  {
   "cell_type": "markdown",
   "id": "b6eb107d",
   "metadata": {},
   "source": [
    "# Generation of figure 2\n",
    "Tim Tyree<br>\n",
    "1.3.2022"
   ]
  },
  {
   "cell_type": "code",
   "execution_count": 2,
   "id": "002b9571",
   "metadata": {
    "ExecuteTime": {
     "end_time": "2022-02-07T02:27:39.165501Z",
     "start_time": "2022-02-07T02:27:39.143121Z"
    }
   },
   "outputs": [
    {
     "name": "stdout",
     "output_type": "stream",
     "text": [
      "The autoreload extension is already loaded. To reload it, use:\n",
      "  %reload_ext autoreload\n"
     ]
    }
   ],
   "source": [
    "from lib.my_initialization import *\n",
    "from lib import *\n",
    "%load_ext autoreload\n",
    "%autoreload 2\n",
    "\n",
    "import matplotlib.pyplot as plt, numpy as np\n",
    "from mpltools import annotation\n",
    "import random,scipy\n",
    "import matplotlib as mpl #for colorbar\n",
    "from scipy.interpolate import LinearNDInterpolator\n",
    "from scipy.interpolate import CloughTocher2DInterpolator\n",
    "from scipy import stats\n",
    "darkmode=False\n",
    "if darkmode:\n",
    "    # For darkmode plots\n",
    "    from jupyterthemes import jtplot\n",
    "    jtplot.style(theme='monokai', context='notebook', ticks=True, grid=False)\n",
    "import warnings\n",
    "warnings.simplefilter(\"ignore\", UserWarning)\n",
    "# import cupy as cp\n",
    "np.random.seed(42)\n",
    "# cp.random.seed(42)"
   ]
  },
  {
   "cell_type": "code",
   "execution_count": 3,
   "id": "bcc8dbd5",
   "metadata": {
    "ExecuteTime": {
     "end_time": "2022-02-07T02:27:39.664823Z",
     "start_time": "2022-02-07T02:27:39.639391Z"
    }
   },
   "outputs": [
    {
     "data": {
      "text/plain": [
       "<function lib.measure.mean_squared_error.comp_mse_via_interp_unattractive(x, *args)>"
      ]
     },
     "execution_count": 3,
     "metadata": {},
     "output_type": "execute_result"
    }
   ],
   "source": [
    "#TODO(later): remake these plots with any a,D,r,kappa combination inside the bounds of the result of my >500 years of computation time\n",
    "#HINT: interp=recall_particle_model_interp()  #estimated run time ~20 seconds\n",
    "comp_mse_via_interp_unattractive\n"
   ]
  },
  {
   "cell_type": "code",
   "execution_count": 4,
   "id": "674f8fac",
   "metadata": {
    "ExecuteTime": {
     "end_time": "2022-02-07T02:27:39.853851Z",
     "start_time": "2022-02-07T02:27:39.837343Z"
    }
   },
   "outputs": [],
   "source": [
    "# #recall the fit of the particle model to the powerlaw fits from the full models\n",
    "# wjr=recall_powerlaw_fits_to_full_models()\n",
    "# print(*wjr)"
   ]
  },
  {
   "cell_type": "code",
   "execution_count": 5,
   "id": "aa225f20",
   "metadata": {
    "ExecuteTime": {
     "end_time": "2022-02-07T02:27:40.438732Z",
     "start_time": "2022-02-07T02:27:40.406973Z"
    }
   },
   "outputs": [],
   "source": [
    "# # recall_particle_parameter_fits \n",
    "# a,D,r,kappa,rmse=recall_particle_parameter_fits('luorudy')\n",
    "# a,D,r,kappa,rmse=recall_particle_parameter_fits('fentonkarma')\n",
    "# a_hat_FK, D_hat_FK, a_hat_FK_long, a_hat_FK_vlong, a_hat_LR, D_hat_LR, a_hat_LR_long=recall_particle_parameter_measurements()"
   ]
  },
  {
   "cell_type": "code",
   "execution_count": 9,
   "id": "f653aed9",
   "metadata": {
    "ExecuteTime": {
     "end_time": "2022-02-07T02:28:23.253232Z",
     "start_time": "2022-02-07T02:28:23.235323Z"
    }
   },
   "outputs": [],
   "source": [
    "#reset matplotlib\n",
    "import matplotlib\n",
    "matplotlib.rcParams.update(matplotlib.rcParamsDefault)"
   ]
  },
  {
   "cell_type": "markdown",
   "id": "f2ad5971",
   "metadata": {},
   "source": [
    "# load data\n",
    "- DONE: directly compute the powerlaws from the particle model with vector-summed inverse powerlaw attraction\n",
    "- Nota Bene: this process is automated by my pythonic function recall_particle_model_interp from lib"
   ]
  },
  {
   "cell_type": "code",
   "execution_count": 10,
   "id": "2aaf3b83",
   "metadata": {
    "ExecuteTime": {
     "end_time": "2022-02-07T02:28:27.123167Z",
     "start_time": "2022-02-07T02:28:27.078812Z"
    }
   },
   "outputs": [
    {
     "data": {
      "text/html": [
       "<div>\n",
       "<style scoped>\n",
       "    .dataframe tbody tr th:only-of-type {\n",
       "        vertical-align: middle;\n",
       "    }\n",
       "\n",
       "    .dataframe tbody tr th {\n",
       "        vertical-align: top;\n",
       "    }\n",
       "\n",
       "    .dataframe thead th {\n",
       "        text-align: right;\n",
       "    }\n",
       "</style>\n",
       "<table border=\"1\" class=\"dataframe\">\n",
       "  <thead>\n",
       "    <tr style=\"text-align: right;\">\n",
       "      <th></th>\n",
       "      <th>m</th>\n",
       "      <th>Delta_m</th>\n",
       "      <th>M</th>\n",
       "      <th>Delta_M</th>\n",
       "      <th>Rsq</th>\n",
       "      <th>rmse</th>\n",
       "      <th>rmse_full</th>\n",
       "      <th>model_name_full</th>\n",
       "      <th>q_min</th>\n",
       "      <th>q_max</th>\n",
       "      <th>...</th>\n",
       "      <th>D</th>\n",
       "      <th>varkappa</th>\n",
       "      <th>x0</th>\n",
       "      <th>L</th>\n",
       "      <th>force_code</th>\n",
       "      <th>neighbor</th>\n",
       "      <th>reflect</th>\n",
       "      <th>set_second</th>\n",
       "      <th>no_repulsion</th>\n",
       "      <th>no_attraction</th>\n",
       "    </tr>\n",
       "  </thead>\n",
       "  <tbody>\n",
       "    <tr>\n",
       "      <th>0</th>\n",
       "      <td>1.477497</td>\n",
       "      <td>0.017889</td>\n",
       "      <td>10.233038</td>\n",
       "      <td>0.458553</td>\n",
       "      <td>0.996691</td>\n",
       "      <td>0.254568</td>\n",
       "      <td>2.192560</td>\n",
       "      <td>fk_ncbc</td>\n",
       "      <td>0.1</td>\n",
       "      <td>1.0</td>\n",
       "      <td>...</td>\n",
       "      <td>1.6</td>\n",
       "      <td>9</td>\n",
       "      <td>0</td>\n",
       "      <td>10</td>\n",
       "      <td>2</td>\n",
       "      <td>0</td>\n",
       "      <td>0</td>\n",
       "      <td>0</td>\n",
       "      <td>0</td>\n",
       "      <td>0</td>\n",
       "    </tr>\n",
       "    <tr>\n",
       "      <th>1</th>\n",
       "      <td>1.726534</td>\n",
       "      <td>0.013938</td>\n",
       "      <td>18.451423</td>\n",
       "      <td>0.663628</td>\n",
       "      <td>0.998526</td>\n",
       "      <td>0.252599</td>\n",
       "      <td>0.849591</td>\n",
       "      <td>lr_pbc</td>\n",
       "      <td>0.1</td>\n",
       "      <td>1.0</td>\n",
       "      <td>...</td>\n",
       "      <td>1.0</td>\n",
       "      <td>9</td>\n",
       "      <td>0</td>\n",
       "      <td>10</td>\n",
       "      <td>2</td>\n",
       "      <td>0</td>\n",
       "      <td>1</td>\n",
       "      <td>0</td>\n",
       "      <td>0</td>\n",
       "      <td>0</td>\n",
       "    </tr>\n",
       "    <tr>\n",
       "      <th>2</th>\n",
       "      <td>1.361442</td>\n",
       "      <td>0.010685</td>\n",
       "      <td>34.324471</td>\n",
       "      <td>1.345462</td>\n",
       "      <td>0.998607</td>\n",
       "      <td>0.557511</td>\n",
       "      <td>10.602247</td>\n",
       "      <td>lr_pbc</td>\n",
       "      <td>0.1</td>\n",
       "      <td>1.0</td>\n",
       "      <td>...</td>\n",
       "      <td>1.2</td>\n",
       "      <td>90</td>\n",
       "      <td>0</td>\n",
       "      <td>10</td>\n",
       "      <td>2</td>\n",
       "      <td>0</td>\n",
       "      <td>1</td>\n",
       "      <td>0</td>\n",
       "      <td>0</td>\n",
       "      <td>0</td>\n",
       "    </tr>\n",
       "    <tr>\n",
       "      <th>3</th>\n",
       "      <td>3.050656</td>\n",
       "      <td>0.082928</td>\n",
       "      <td>110.878921</td>\n",
       "      <td>27.313205</td>\n",
       "      <td>0.983541</td>\n",
       "      <td>8.696932</td>\n",
       "      <td>40.571684</td>\n",
       "      <td>lr_pbc</td>\n",
       "      <td>0.1</td>\n",
       "      <td>1.0</td>\n",
       "      <td>...</td>\n",
       "      <td>1.6</td>\n",
       "      <td>1</td>\n",
       "      <td>0</td>\n",
       "      <td>10</td>\n",
       "      <td>2</td>\n",
       "      <td>0</td>\n",
       "      <td>0</td>\n",
       "      <td>0</td>\n",
       "      <td>0</td>\n",
       "      <td>0</td>\n",
       "    </tr>\n",
       "    <tr>\n",
       "      <th>4</th>\n",
       "      <td>1.961670</td>\n",
       "      <td>0.014691</td>\n",
       "      <td>3.008488</td>\n",
       "      <td>0.072870</td>\n",
       "      <td>0.998732</td>\n",
       "      <td>0.053220</td>\n",
       "      <td>1.228204</td>\n",
       "      <td>fk_pbc</td>\n",
       "      <td>0.1</td>\n",
       "      <td>1.0</td>\n",
       "      <td>...</td>\n",
       "      <td>1.9</td>\n",
       "      <td>1</td>\n",
       "      <td>0</td>\n",
       "      <td>10</td>\n",
       "      <td>2</td>\n",
       "      <td>0</td>\n",
       "      <td>0</td>\n",
       "      <td>0</td>\n",
       "      <td>0</td>\n",
       "      <td>0</td>\n",
       "    </tr>\n",
       "  </tbody>\n",
       "</table>\n",
       "<p>5 rows × 22 columns</p>\n",
       "</div>"
      ],
      "text/plain": [
       "          m   Delta_m           M    Delta_M       Rsq      rmse  rmse_full  \\\n",
       "0  1.477497  0.017889   10.233038   0.458553  0.996691  0.254568   2.192560   \n",
       "1  1.726534  0.013938   18.451423   0.663628  0.998526  0.252599   0.849591   \n",
       "2  1.361442  0.010685   34.324471   1.345462  0.998607  0.557511  10.602247   \n",
       "3  3.050656  0.082928  110.878921  27.313205  0.983541  8.696932  40.571684   \n",
       "4  1.961670  0.014691    3.008488   0.072870  0.998732  0.053220   1.228204   \n",
       "\n",
       "  model_name_full  q_min  q_max  ...    D  varkappa  x0   L  force_code  \\\n",
       "0         fk_ncbc    0.1    1.0  ...  1.6         9   0  10           2   \n",
       "1          lr_pbc    0.1    1.0  ...  1.0         9   0  10           2   \n",
       "2          lr_pbc    0.1    1.0  ...  1.2        90   0  10           2   \n",
       "3          lr_pbc    0.1    1.0  ...  1.6         1   0  10           2   \n",
       "4          fk_pbc    0.1    1.0  ...  1.9         1   0  10           2   \n",
       "\n",
       "   neighbor  reflect  set_second  no_repulsion  no_attraction  \n",
       "0         0        0           0             0              0  \n",
       "1         0        1           0             0              0  \n",
       "2         0        1           0             0              0  \n",
       "3         0        0           0             0              0  \n",
       "4         0        0           0             0              0  \n",
       "\n",
       "[5 rows x 22 columns]"
      ]
     },
     "execution_count": 10,
     "metadata": {},
     "output_type": "execute_result"
    }
   ],
   "source": [
    "# input_fn=f\"/home/timothytyree/Documents/GitHub/bgmc/python/data/osg_output/run_18_all_powerlaw_fits.csv\"\n",
    "# input_fn=f\"/home/timothytyree/Documents/GitHub/bgmc/python/data/osg_output/run_17_all_powerlaw_fits.csv\"\n",
    "input_fn=f\"/home/timothytyree/Documents/GitHub/bgmc/python/data/osg_output/run_15_all_powerlaw_fits.csv\"\n",
    "df=pd.read_csv(input_fn)\n",
    "df.head()"
   ]
  },
  {
   "cell_type": "code",
   "execution_count": 11,
   "id": "5f16d04f",
   "metadata": {
    "ExecuteTime": {
     "end_time": "2022-02-07T02:28:27.662107Z",
     "start_time": "2022-02-07T02:28:27.640067Z"
    }
   },
   "outputs": [],
   "source": [
    "r=0.1\n",
    "kappa=500#250\n",
    "D=0.7\n",
    "# varkappa_lst=sorted(set(df['varkappa'].values))\n",
    "# varkappa_lst\n",
    "\n",
    "#TODO: extract xy values for kappa, r, D fixed to any value, which I can change later\n",
    "#define constant parameters\n",
    "reflect=0\n",
    "force_code=2\n",
    "set_second=0\n",
    "neighbor=0\n",
    "no_attraction=0\n",
    "no_repulsion=0\n",
    "# kappa=100\n",
    "L=10\n",
    "\n",
    "#template query for the DataFrame\n",
    "query =(df.set_second==set_second)\n",
    "query&=(df.no_repulsion==no_repulsion)&(df.no_attraction==no_attraction)\n",
    "query&=(df.neighbor==neighbor)&(df.force_code==force_code)\n",
    "query&=df.r==r\n",
    "query&=df.kappa==kappa\n",
    "query&=df.D==D\n",
    "query&=df.L==L\n",
    "# query&=df.x0==x0\n",
    "query_template=query.copy()"
   ]
  },
  {
   "cell_type": "code",
   "execution_count": 12,
   "id": "d6f4b631",
   "metadata": {
    "ExecuteTime": {
     "end_time": "2022-02-07T02:28:28.714268Z",
     "start_time": "2022-02-07T02:28:28.132514Z"
    },
    "scrolled": false
   },
   "outputs": [
    {
     "data": {
      "image/png": "[encoded data removed]",
      "text/plain": [
       "<Figure size 500x400 with 2 Axes>"
      ]
     },
     "metadata": {},
     "output_type": "display_data"
    }
   ],
   "source": [
    "num_points = 25\n",
    "c_col = 'rmse_full'\n",
    "vmin = 0.\n",
    "vmax = .25\n",
    "fontsize = 20\n",
    "x1lim = [1e-1, 1]\n",
    "x2lim = [1e-2, 25]\n",
    "# x1lim=[5,10]\n",
    "# x2lim=[50,350]\n",
    "fig, ax = plt.subplots(figsize=(5,4))\n",
    "varkappa_lst = sorted(set(df['varkappa'].values))\n",
    "varkappa_lst = list(reversed([0,1,2,3, 5, 10, 20, 30]))\n",
    "\n",
    "vmin = 0\n",
    "vmax = np.max(varkappa_lst)\n",
    "for varkappa in varkappa_lst:\n",
    "    #extract the data\n",
    "    query = query_template.copy()\n",
    "    query &= df.varkappa == varkappa\n",
    "    M_returned = df.loc[query, 'M'].values\n",
    "    nu_returned = df.loc[query, 'm'].values\n",
    "    #     print((M_returned.shape,nu_returned.shape))  #shows there is a unique fit recalled\n",
    "    M = M_returned[0]\n",
    "    nu = nu_returned[0]\n",
    "    x_values = np.linspace(0, 1, 1000)\n",
    "    y_values = M * x_values**nu\n",
    "    c_values = varkappa + 0. * x_values\n",
    "\n",
    "    #scatter plot\n",
    "    if varkappa==0:\n",
    "        ax.plot(x_values,y_values,c='black',alpha=1.,lw=3)#,s=5)\n",
    "        first_case=False\n",
    "    else:\n",
    "        ax.scatter(x_values,y_values,\n",
    "               c=c_values,cmap='Greens',alpha=0.7,s=3,vmin=vmin,vmax=2*vmax)\n",
    "# title=f'Top {num_points} Trials for {modelname} Model\\n'\n",
    "FormatAxes(ax,\n",
    "           x1lim=x1lim,\n",
    "           x2lim=x2lim,\n",
    "           x1label=r'$q$ (1/cm$^{2}$)',#r'$q=N/A$ (1/cm$^{2}$)',\n",
    "           x2label=r'$w$ (Hz/cm$^{2}$)',#r'$w=W_{-2}/A$ (Hz/cm$^{2}$)',\n",
    "           title=None,\n",
    "           fontsize=fontsize,\n",
    "           use_loglog=True)\n",
    "# cbar=fig.colorbar(cmap='bone', ax=ax, shrink=0.6,label=r'RMSE$_{particle\\;vs\\;full}$')#, location='top'\n",
    "# fig.colorbar(pcm, ax=[axs[0, col]], location='top', shrink=0.6)\n",
    "#     cbar=fig.colorbar(pcm, ax=axs[:, col],shrink=0.6)#,label=output_col)\n",
    "\n",
    "import matplotlib as mpl\n",
    "norm = mpl.colors.Normalize(vmin=vmin, vmax=vmax)\n",
    "cmap = plt.cm.Greens\n",
    "cax = fig.add_axes([0.95, 0.2, 0.02, 0.6])\n",
    "cb = mpl.colorbar.ColorbarBase(cax,\n",
    "                               cmap=cmap,\n",
    "                               norm=norm,\n",
    "                               spacing='proportional')\n",
    "cb.set_label(r'$a$ (cm$^{2}/$s)', fontsize=fontsize)\n",
    "cb.ax.tick_params(labelsize=fontsize)\n",
    "\n",
    "ax.annotate(\"decreasing a\", xy=(0.3, 11), xytext=(0.11, 10),fontsize=fontsize)\n",
    "ax.set_title(r'$\\forall $ A $ > 0$',fontsize=fontsize)\n",
    "# ax.set_title(r'For all A $ > 0$',fontsize=fontsize)\n",
    "plt.show()"
   ]
  },
  {
   "cell_type": "markdown",
   "id": "1e04c20c",
   "metadata": {},
   "source": [
    "__dependence of M on a__\n",
    "\n",
    "src 'generate figure effect of increasing a.ipynb':\n",
    "- for D=0.7, kappa=250, r=0.1 fixed,\n",
    "- the powerlaw OLS fit for loglog of M versus a\n",
    "- m=0.34662844685683697\n",
    "- Delta_m=0.007544034420649642\n",
    "- b=1.5430792099954873\n",
    "- Delta_b=0.023831286783598894\n",
    "- Rsquared=0.9972947153026107"
   ]
  },
  {
   "cell_type": "markdown",
   "id": "c60c0de7",
   "metadata": {
    "ExecuteTime": {
     "end_time": "2022-01-04T01:10:10.059105Z",
     "start_time": "2022-01-04T01:10:10.000911Z"
    },
    "heading_collapsed": true
   },
   "source": [
    "#  DONE: generate Fig. 2C individually"
   ]
  },
  {
   "cell_type": "code",
   "execution_count": 13,
   "id": "e06addd5",
   "metadata": {
    "ExecuteTime": {
     "end_time": "2022-02-07T02:28:31.867921Z",
     "start_time": "2022-02-07T02:28:31.838053Z"
    },
    "hidden": true
   },
   "outputs": [],
   "source": [
    "#load birth death rates from the full model\n",
    "data_folder=f'{nb_dir}/data'\n",
    "os.chdir(data_folder)\n",
    "\n",
    "data_fk_fn='full_results/data_fig4_vidmar_fk_tt.csv'\n",
    "data_lr_fn='full_results/data_fig4_vidmar_lr_tt.csv'\n",
    "\n",
    "fk=pd.read_csv(data_fk_fn)\n",
    "fk['N']=fk['No2']*2\n",
    "fk['q']=fk['N']/fk['A'] #number of tips per square centimeter\n",
    "fk['w']=fk['rate']/fk['A']*10**3 #Hz/cm^2\n",
    "\n",
    "lr=pd.read_csv(data_lr_fn)\n",
    "lr['N']=lr['No2']*2\n",
    "lr['q']=lr['N']/lr['A'] #number of tips per square centimeter\n",
    "lr['w']=lr['rate']/lr['A']*10**3 #Hz/cm^2"
   ]
  },
  {
   "cell_type": "code",
   "execution_count": 14,
   "id": "52a65c06",
   "metadata": {
    "ExecuteTime": {
     "end_time": "2022-02-07T02:28:32.394580Z",
     "start_time": "2022-02-07T02:28:32.360896Z"
    },
    "hidden": true
   },
   "outputs": [],
   "source": [
    "#DONT: dev PlotScatter function for the full models\n",
    "#input: ax, df=lr or fk, c='C0' or 'C1'\n",
    "#output: True and plotted values\n",
    "#reset matplotlib\n",
    "mpl.rcParams.update(matplotlib.rcParamsDefault)\n"
   ]
  },
  {
   "cell_type": "code",
   "execution_count": null,
   "id": "69385456",
   "metadata": {
    "ExecuteTime": {
     "end_time": "2022-01-04T19:16:37.648666Z",
     "start_time": "2022-01-04T19:16:37.598902Z"
    },
    "hidden": true
   },
   "outputs": [],
   "source": []
  },
  {
   "cell_type": "code",
   "execution_count": 15,
   "id": "1e5a8134",
   "metadata": {
    "ExecuteTime": {
     "end_time": "2022-02-07T02:28:33.949580Z",
     "start_time": "2022-02-07T02:28:33.373701Z"
    },
    "hidden": true,
    "scrolled": true
   },
   "outputs": [
    {
     "data": {
      "image/png": "[encoded data removed]",
      "text/plain": [
       "<Figure size 600x400 with 2 Axes>"
      ]
     },
     "metadata": {},
     "output_type": "display_data"
    }
   ],
   "source": [
    "cmap = 'Spectral' + '_r'\n",
    "num_points = 25\n",
    "c_col = 'rmse_full'\n",
    "fontsize = 20\n",
    "xytext = (0.09, 10)\n",
    "x1lim = [8e-2, 1.1]  #[1e-1, 1]\n",
    "x2lim = [1e-2, 25]\n",
    "# x1lim=[5,10]\n",
    "# x2lim=[50,350]\n",
    "figsize = (6, 4)  #(5,4)\n",
    "fig, ax = plt.subplots(figsize=figsize)\n",
    "\n",
    "# #plot the particle models\n",
    "# varkappa_lst = sorted(set(df['varkappa'].values))\n",
    "varkappa_lst = list(reversed([0, 1, 2, 5, 15, 30]))\n",
    "# varkappa_lst = list(reversed([0,1,2,3, 5, 10, 20, 30]))\n",
    "\n",
    "vmin = 0\n",
    "vmax = 20  #np.max(varkappa_lst)\n",
    "for varkappa in varkappa_lst:\n",
    "    #extract the data\n",
    "    query = query_template.copy()\n",
    "    query &= df.varkappa == varkappa\n",
    "    M_returned = df.loc[query, 'M'].values\n",
    "    nu_returned = df.loc[query, 'm'].values\n",
    "    #     print((M_returned.shape,nu_returned.shape))  #shows there is a unique fit recalled from cache\n",
    "    M = M_returned[0]\n",
    "    nu = nu_returned[0]\n",
    "    x_values = np.linspace(0, 1, 1000)\n",
    "    y_values = M * x_values**nu\n",
    "    c_values = varkappa + 0. * x_values\n",
    "    #plot\n",
    "    ax.scatter(x_values,\n",
    "               y_values,\n",
    "               c=c_values,\n",
    "               cmap=cmap,\n",
    "               alpha=0.6,\n",
    "               s=3,\n",
    "               vmin=vmin,\n",
    "               vmax=vmax)\n",
    "# title=f'Top {num_points} Trials for {modelname} Model\\n'\n",
    "FormatAxes(\n",
    "    ax,\n",
    "    x1lim=x1lim,\n",
    "    x2lim=x2lim,\n",
    "    x1label=r'$N/A$ (1/cm$^{2}$)',  #q$ (1/cm$^{2}$)',#r'$q=N/A$ (1/cm$^{2}$)',\n",
    "    x2label=\n",
    "    r'$W_{-2}/A$ (Hz/cm$^{2}$)',  #w$ (Hz/cm$^{2}$)',#r'$w=W_{-2}/A$ (Hz/cm$^{2}$)',\n",
    "    title=None,\n",
    "    fontsize=fontsize,\n",
    "    use_loglog=True)\n",
    "# cbar=fig.colorbar(cmap='bone', ax=ax, shrink=0.6,label=r'RMSE$_{particle\\;vs\\;full}$')#, location='top'\n",
    "# fig.colorbar(pcm, ax=[axs[0, col]], location='top', shrink=0.6)\n",
    "#     cbar=fig.colorbar(pcm, ax=axs[:, col],shrink=0.6)#,label=output_col)\n",
    "norm = mpl.colors.Normalize(vmin=vmin, vmax=vmax)\n",
    "cmap_obj = mpl.cm.get_cmap(cmap)\n",
    "cax = fig.add_axes([0.95, 0.2, 0.02, 0.6])\n",
    "cb = mpl.colorbar.ColorbarBase(cax,\n",
    "                               cmap=cmap_obj,\n",
    "                               norm=norm,\n",
    "                               spacing='proportional')\n",
    "cb.set_label(r'$a$ (cm$^{2}/$s)', fontsize=fontsize)\n",
    "cb.ax.tick_params(labelsize=fontsize)\n",
    "\n",
    "#plot the full models\n",
    "ax.scatter(fk['q'].values,\n",
    "           fk['w'].values,\n",
    "           c='C0',\n",
    "           alpha=0.2,\n",
    "           s=40,\n",
    "           label='Fenton-Karma',\n",
    "           zorder=0)\n",
    "ax.scatter(lr['q'].values,\n",
    "           lr['w'].values,\n",
    "           c='C1',\n",
    "           alpha=0.2,\n",
    "           s=40,\n",
    "           label='Luo-Rudy',\n",
    "           zorder=0)\n",
    "\n",
    "#plot arrow annotation\n",
    "ax.annotate(\"decreasing a\", xy=(0.3, 11), xytext=xytext, fontsize=fontsize)\n",
    "ax.annotate(\n",
    "    \"\",\n",
    "    xy=(0.5, 0.08),\n",
    "    xytext=(0.15, 8),  #,zorder=-1e8,#zorder can send to back\n",
    "    arrowprops=dict(lw=3, headwidth=20., headlength=20., color='k',\n",
    "                    alpha=0.8))  #arrowstyle=\"->\",\n",
    "\n",
    "#TODO: add dashed-black line below a=0 with slope of exactly two\n",
    "# #TODO: mark the slope of ^that line with ~2\n",
    "# x1 = 0.09\n",
    "# y1 = 2\n",
    "# annotation.slope_marker(origin=(x1, y1),\n",
    "#                         slope=2,\n",
    "#                         text_kwargs={'color': 'black','fontsize':16, 'alpha':0.7},\n",
    "#                         poly_kwargs={'facecolor': (0.5, 0.5, 0.5), 'alpha':0.5},#TODO: replace with purple\n",
    "#                         ax=ax)\n",
    "# #DONE: mark the slope of ^that line with ~3\n",
    "# x1 = 0.6\n",
    "# y1 = 0.3\n",
    "# annotation.slope_marker(origin=(x1, y1),\n",
    "#                         slope=3,#(3, 1),\n",
    "#                         text_kwargs={'color': 'black','fontsize':16, 'alpha':0.7},\n",
    "#                         poly_kwargs={'facecolor': (0.5, 0.5, 0.5), 'alpha':0.5},#TODO: replace with purple\n",
    "#                         ax=ax)\n",
    "\n",
    "# # #DONE: test whether this slope is correct with a scatter plot of 2 points\n",
    "# # x2 = 0.7\n",
    "# # y2 = y1 * (x2 / x1)**3\n",
    "# # ax.scatter([x1,x2],[y1,y2],marker='^',c='r',s=100,zorder=-1)\n",
    "# # #DONT: if not, dev my own custom loglog slope plotter\n",
    "# leg = ax.legend(loc='lower right', fontsize=fontsize - 6)\n",
    "# for lh in leg.legendHandles:\n",
    "#     lh.set_alpha(1)\n",
    "plt.show()"
   ]
  },
  {
   "cell_type": "code",
   "execution_count": 19,
   "id": "79c71b75",
   "metadata": {
    "ExecuteTime": {
     "end_time": "2022-02-07T02:29:24.625363Z",
     "start_time": "2022-02-07T02:29:24.606015Z"
    },
    "hidden": true
   },
   "outputs": [
    {
     "name": "stdout",
     "output_type": "stream",
     "text": [
      "Notes on Fig. 2\n",
      "kappa=500 Hz, r = 0.1 cm, D=0.7 cm^2/s, fixed.\n",
      "in order to make the particle model line up better with the FK model, I'll need to change r to 0.8 or 0.6 cm...\n",
      "^this would require a bit of coding, to use interp instead of df...\n"
     ]
    }
   ],
   "source": [
    "print(f\"Notes on Fig. 2\")\n",
    "print(f\"kappa={kappa} Hz, r = {r} cm, D={D} cm^2/s, fixed.\")\n",
    "print(f\"in order to make the particle model line up better with the FK model, I'll need to change r to 0.8 or 0.6 cm...\")\n",
    "print(f\"^this would require a bit of coding, to use interp instead of df...\")"
   ]
  },
  {
   "cell_type": "code",
   "execution_count": 20,
   "id": "1f4d4c4a",
   "metadata": {
    "ExecuteTime": {
     "end_time": "2022-02-07T02:29:29.472421Z",
     "start_time": "2022-02-07T02:29:28.983703Z"
    },
    "hidden": true
   },
   "outputs": [
    {
     "data": {
      "image/png": "[encoded data removed]",
      "text/plain": [
       "<Figure size 400x300 with 2 Axes>"
      ]
     },
     "metadata": {},
     "output_type": "display_data"
    }
   ],
   "source": [
    "cmap='Spectral'+'_r'\n",
    "num_points = 25\n",
    "c_col = 'rmse_full'\n",
    "fontsize = 18\n",
    "xytext=(0.09, 10)\n",
    "x1lim = [8e-2, 1.1]#[1e-1, 1]\n",
    "x2lim = [8e-3, 25]\n",
    "# x2lim = [4e-3, 25]\n",
    "# x1lim=[5,10]\n",
    "# x2lim=[50,350]\n",
    "figsize=(4,3)#(5,4)\n",
    "fig, ax = plt.subplots(figsize=figsize)\n",
    "\n",
    "# #plot the particle models\n",
    "# varkappa_lst = sorted(set(df['varkappa'].values))\n",
    "varkappa_lst = list(reversed([0, 1, 2, 5, 15, 30]))\n",
    "# varkappa_lst = list(reversed([0,1,2,3, 5, 10, 20, 30]))\n",
    "vmin = 0\n",
    "vmax = 20#np.max(varkappa_lst)\n",
    "for varkappa in varkappa_lst:\n",
    "    #extract the data\n",
    "    query = query_template.copy()\n",
    "    query &= df.varkappa == varkappa\n",
    "    M_returned = df.loc[query, 'M'].values\n",
    "    nu_returned = df.loc[query, 'm'].values\n",
    "    #     print((M_returned.shape,nu_returned.shape))  #shows there is a unique fit recalled from cache\n",
    "    M = M_returned[0]\n",
    "    nu = nu_returned[0]\n",
    "    x_values = np.linspace(0, 1, 1000)\n",
    "    y_values = M * x_values**nu\n",
    "    c_values = varkappa + 0. * x_values\n",
    "    #plot \n",
    "    ax.scatter(x_values,y_values,\n",
    "               c=c_values,cmap=cmap,alpha=0.6,s=3,vmin=vmin,vmax=vmax)\n",
    "# title=f'Top {num_points} Trials for {modelname} Model\\n'\n",
    "FormatAxes(ax,\n",
    "           x1lim=x1lim,\n",
    "           x2lim=x2lim,\n",
    "           x1label=r'$N/A$ (1/cm$^{2}$)',#q$ (1/cm$^{2}$)',#r'$q=N/A$ (1/cm$^{2}$)',\n",
    "           x2label=r'$W_{-2}/A$ (Hz/cm$^{2}$)',#w$ (Hz/cm$^{2}$)',#r'$w=W_{-2}/A$ (Hz/cm$^{2}$)',\n",
    "           title=None,\n",
    "           fontsize=fontsize,\n",
    "           use_loglog=True)\n",
    "# cbar=fig.colorbar(cmap='bone', ax=ax, shrink=0.6,label=r'RMSE$_{particle\\;vs\\;full}$')#, location='top'\n",
    "# fig.colorbar(pcm, ax=[axs[0, col]], location='top', shrink=0.6)\n",
    "#     cbar=fig.colorbar(pcm, ax=axs[:, col],shrink=0.6)#,label=output_col)\n",
    "norm = mpl.colors.Normalize(vmin=vmin, vmax=vmax)\n",
    "cmap_obj = mpl.cm.get_cmap(cmap)\n",
    "cax = fig.add_axes([0.95, 0.2, 0.02, 0.6])\n",
    "cb = mpl.colorbar.ColorbarBase(cax,\n",
    "                               cmap=cmap_obj,\n",
    "                               norm=norm,\n",
    "                               spacing='proportional')\n",
    "cb.set_label(r'$a$ (cm$^{2}/$s)', fontsize=fontsize)\n",
    "cb.ax.tick_params(labelsize=fontsize)\n",
    "\n",
    "#plot the full models\n",
    "ax.scatter(fk['q'].values,fk['w'].values,c='C0',alpha=0.2,s=40,label='Fenton-Karma',zorder=0)\n",
    "ax.scatter(lr['q'].values,lr['w'].values,c='C1',alpha=0.2,s=40,label='Luo-Rudy',zorder=0)\n",
    "\n",
    "#plot arrow annotation\n",
    "ax.annotate(\"decreasing a\", xy=(0.3, 11), xytext=xytext,fontsize=fontsize)\n",
    "ax.annotate(\"\", xy=(0.5, 0.08), xytext=(0.15, 8),#,zorder=-1e8,#zorder can send to back\n",
    "            arrowprops=dict(lw=2,headwidth=10.,headlength=10.,color='k',alpha=0.8))#arrowstyle=\"->\",\n",
    "\n",
    "leg=ax.legend(loc='lower right',fontsize=fontsize-6)\n",
    "for lh in leg.legendHandles: \n",
    "    lh.set_alpha(1)\n",
    "plt.show()\n",
    "#TODO: lower fontsize in the yticksllabels only"
   ]
  },
  {
   "cell_type": "code",
   "execution_count": 18,
   "id": "bfaf7a6f",
   "metadata": {
    "ExecuteTime": {
     "end_time": "2022-02-07T02:28:35.239952Z",
     "start_time": "2022-02-07T02:28:35.224568Z"
    },
    "hidden": true
   },
   "outputs": [],
   "source": [
    "# matplotlib.colors.get_named_colors_mapping()"
   ]
  },
  {
   "cell_type": "code",
   "execution_count": 15,
   "id": "afb4af97",
   "metadata": {
    "ExecuteTime": {
     "end_time": "2022-01-04T19:16:38.666994Z",
     "start_time": "2022-01-04T19:16:38.653457Z"
    },
    "hidden": true
   },
   "outputs": [],
   "source": [
    "#DONE(easy): plot the original full model annihilation rate measurements\n",
    "#DONE: find previous \"decreasing a\" plot NOT from 'Generating Annihilation Rate Plots from Remote Cache of Particle Model.ipynb'\n",
    "#TODO: merge ^those\n",
    "#TODO: perform basic edits to match sketch"
   ]
  },
  {
   "cell_type": "markdown",
   "id": "68ec4967",
   "metadata": {},
   "source": [
    "# DONE: generate Fig. 2A  individually\n",
    "- for 2A as the best fits to the particle models (blue) FK and (orange) LR.\n",
    "    - try showing loglog fit first\n",
    "- for 2B as the residuals with (dashed) a=0 and (solid) a>0 for both of the full models?"
   ]
  },
  {
   "cell_type": "code",
   "execution_count": 277,
   "id": "2a483e18",
   "metadata": {
    "ExecuteTime": {
     "end_time": "2022-02-08T00:31:23.838030Z",
     "start_time": "2022-02-08T00:31:07.911556Z"
    }
   },
   "outputs": [
    {
     "name": "stdout",
     "output_type": "stream",
     "text": [
      "estimated runtime is ~20 seconds for 17988 training samples...\n",
      "number of training examples is 17988....\n",
      "training complete!\n"
     ]
    }
   ],
   "source": [
    "#recall results from tables in the main mansucript..\n",
    "wjr=recall_powerlaw_fits_to_full_models()\n",
    "interp=recall_particle_model_interp()\n",
    "a_hat_FK, D_hat_FK, a_hat_FK_long, a_hat_FK_vlong, a_hat_LR, D_hat_LR, a_hat_LR_long=recall_particle_parameter_measurements()"
   ]
  },
  {
   "cell_type": "code",
   "execution_count": 278,
   "id": "6096aba6",
   "metadata": {
    "ExecuteTime": {
     "end_time": "2022-02-08T00:31:24.015422Z",
     "start_time": "2022-02-08T00:31:24.000133Z"
    }
   },
   "outputs": [],
   "source": [
    "#enter experimental attraction coefficients as substitute\n",
    "# SMS:\n",
    "# -  FK: ahat=1.65037\n",
    "# MS:\n",
    "# - FK: ahat=1.8876\n",
    "#heretim"
   ]
  },
  {
   "cell_type": "code",
   "execution_count": 279,
   "id": "ac4f1dbd",
   "metadata": {
    "ExecuteTime": {
     "end_time": "2022-02-08T00:31:25.276332Z",
     "start_time": "2022-02-08T00:31:24.288240Z"
    }
   },
   "outputs": [
    {
     "name": "stdout",
     "output_type": "stream",
     "text": [
      "a=1.65037, D=0.365238, r=0.05782447427115468, kappa=514.0137457236058, rmse=2.041284178317197e-08 (FK)\n"
     ]
    }
   ],
   "source": [
    "# ahat=1.8876  #rmse=0.04109107558241248 (FK)  # GammaBar with trivial trajectories\n",
    "ahat=1.65037#rmse=2.041284178317197e-08 (FK) # GammaBar without trivial trajectories\n",
    "a=ahat;D=D_hat_FK#,wjr=wjr,interp=interp,ax=ax,\n",
    "# a=a_hat_FK_vlong;D=D_hat_FK#rmse=0.006797222653889483 (FK)\n",
    "a_hat_FK\n",
    "# a=a_hat_FK;D=D_hat_FK #rmse=2.041284178317197e-08 (FK) #with ahat=1.65037\n",
    "\n",
    "model_name='fk_pbc'#;c='C0'\n",
    "#compute annihilation rates fit to the LR model\n",
    "nu_full=wjr[model_name]['m']\n",
    "M_full=wjr[model_name]['M']\n",
    "q_values=np.linspace(0,1,20)\n",
    "w_values=M_full*q_values**nu_full\n",
    "args=a,D,q_values,w_values,interp\n",
    "\n",
    "if model_name=='lr_pbc':\n",
    "    model_name_string='Luo-Rudy'\n",
    "elif model_name=='fk_pbc':\n",
    "    model_name_string='Fenton-Karma'\n",
    "else:\n",
    "    model_name_string='??'\n",
    "\n",
    "#find a best r,kappa pair for a given a,D pair for a given full model\n",
    "# args=a,D,q_values,w_values,interp\n",
    "bnds = ((1e-3, 2), (1e2, 1e4))\n",
    "x0 = (0.1, 500)\n",
    "# res = minimize(comp_rmse_via_interp, (0.1, 500), args, method='Nelder-Mead', bounds=bnds,tol=1e-3)\n",
    "res = minimize(comp_rmse_via_interp, (0.1, 500), args, method='Nelder-Mead', bounds=bnds,tol=1e-3)\n",
    "mse=comp_mse_via_interp(res.x, *args)\n",
    "rmse=np.sqrt(mse)\n",
    "\n",
    "#compute the resulting annihilation rates\n",
    "r=res.x[0]\n",
    "kappa=res.x[1]\n",
    "X=np.array([[r,kappa,a,D]])\n",
    "yhat = interp(X)\n",
    "nu=yhat[0,0]\n",
    "M=yhat[0,1]\n",
    "what_values=M*q_values**nu\n",
    "\n",
    "q_values_fk=q_values.copy()\n",
    "what_values_fk=what_values.copy()\n",
    "print(f\"a={a}, D={D}, r={r}, kappa={kappa}, rmse={rmse} (FK)\")\n",
    "dict_fk=dict(r=r,kappa=kappa,nu=nu,M=M,rmse=rmse,res=res)"
   ]
  },
  {
   "cell_type": "code",
   "execution_count": 280,
   "id": "ab18228d",
   "metadata": {
    "ExecuteTime": {
     "end_time": "2022-02-08T00:31:25.461722Z",
     "start_time": "2022-02-08T00:31:25.445082Z"
    }
   },
   "outputs": [],
   "source": [
    "#enter experimental attraction coefficients as substitute\n",
    "\n",
    "# TODO: test powerlaw fits of linear particle model for\n",
    "# SMS:\n",
    "# -  LR: ahat=9.60637,7.28148\n",
    "# -  FK: ahat=1.65037\n",
    "# MS:\n",
    "# - LR: ahat=7.13454,4.99485\n",
    "# - FK: ahat=1.8876\n",
    "#heretim"
   ]
  },
  {
   "cell_type": "code",
   "execution_count": 281,
   "id": "79f5d3f1",
   "metadata": {
    "ExecuteTime": {
     "end_time": "2022-02-08T00:31:25.693314Z",
     "start_time": "2022-02-08T00:31:25.631714Z"
    }
   },
   "outputs": [
    {
     "name": "stdout",
     "output_type": "stream",
     "text": [
      "a=1.65037, D=0.365238, r=0.05782447427115468, kappa=514.0137457236058, rmse=2.041284178317197e-08 (FK)\n"
     ]
    }
   ],
   "source": [
    "model_name='fk_pbc'#;c='C0'\n",
    "#compute annihilation rates fit to the LR model\n",
    "nu_full=wjr[model_name]['m']\n",
    "M_full=wjr[model_name]['M']\n",
    "q_values=np.linspace(0,1,20)\n",
    "w_values=M_full*q_values**nu_full\n",
    "args=a,D,q_values,w_values,interp\n",
    "\n",
    "if model_name=='lr_pbc':\n",
    "    model_name_string='Luo-Rudy'\n",
    "elif model_name=='fk_pbc':\n",
    "    model_name_string='Fenton-Karma'\n",
    "else:\n",
    "    model_name_string='??'\n",
    "\n",
    "#find a best r,kappa pair for a given a,D pair for a given full model\n",
    "# args=a,D,q_values,w_values,interp\n",
    "bnds = ((1e-3, 2), (1e2, 1e4))\n",
    "x0 = (0.1, 500)\n",
    "# res = minimize(comp_rmse_via_interp, (0.1, 500), args, method='Nelder-Mead', bounds=bnds,tol=1e-3)\n",
    "res = minimize(comp_rmse_via_interp, (0.1, 500), args, method='Nelder-Mead', bounds=bnds,tol=1e-3)\n",
    "mse=comp_mse_via_interp(res.x, *args)\n",
    "rmse=np.sqrt(mse)\n",
    "\n",
    "#compute the resulting annihilation rates\n",
    "r=res.x[0]\n",
    "kappa=res.x[1]\n",
    "X=np.array([[r,kappa,a,D]])\n",
    "yhat = interp(X)\n",
    "nu=yhat[0,0]\n",
    "M=yhat[0,1]\n",
    "what_values=M*q_values**nu\n",
    "\n",
    "q_values_fk=q_values.copy()\n",
    "what_values_fk=what_values.copy()\n",
    "print(f\"a={a}, D={D}, r={r}, kappa={kappa}, rmse={rmse} (FK)\")\n",
    "dict_fk=dict(r=r,kappa=kappa,nu=nu,M=M,rmse=rmse,res=res)"
   ]
  },
  {
   "cell_type": "code",
   "execution_count": 282,
   "id": "c27413cd",
   "metadata": {
    "ExecuteTime": {
     "end_time": "2022-02-08T00:31:27.815251Z",
     "start_time": "2022-02-08T00:31:25.845819Z"
    }
   },
   "outputs": [
    {
     "name": "stdout",
     "output_type": "stream",
     "text": [
      "a=9.60637, D=0.586055, r=0.11865725394705823, kappa=453.30813258922205, rmse=0.031175747845115034 (LR)\n"
     ]
    }
   ],
   "source": [
    "#victor for LR: SMS with GammaBar computed from the average of all spiral tip observations\n",
    "# SMS:a=9.60637, D=0.586055, r=0.11865725394705823, kappa=453.30813258922205, rmse=0.031175747845115034 (LR)\n",
    "ahat=9.60637#rmse=0.031175747845115034 (LR)\n",
    "# ahat=7.28148 #rmse=0.16022186827576143 (LR)\n",
    "# MS:\n",
    "# ahat=4.99485 # rmse=0.4555348657752726 (LR)\n",
    "# ahat=7.13454# rmse=0.17979087126721505 (LR)\n",
    "a=ahat;D=D_hat_LR     #^those\n",
    "# a=a_hat_LR;D=D_hat_LR #rmse=0.028075538795257697 (LR)\n",
    "model_name='lr_pbc'#;c='C1'\n",
    "#compute annihilation rates fit to the LR model\n",
    "nu_full=wjr[model_name]['m']\n",
    "M_full=wjr[model_name]['M']\n",
    "q_values=np.linspace(0,1,20)\n",
    "w_values=M_full*q_values**nu_full\n",
    "\n",
    "if model_name=='lr_pbc':\n",
    "    model_name_string='Luo-Rudy'\n",
    "elif model_name=='fk_pbc':\n",
    "    model_name_string='Fenton-Karma'\n",
    "else:\n",
    "    model_name_string='??'\n",
    "\n",
    "#find a best r,kappa pair for a given a,D pair for a given full model\n",
    "args=a,D,q_values,w_values,interp\n",
    "bnds = ((1e-3, 2), (1e2, 1e4))\n",
    "x0 = (0.1, 500)\n",
    "# res = minimize(comp_rmse_via_interp, (0.1, 500), args, method='Nelder-Mead', bounds=bnds,tol=1e-3)\n",
    "res = minimize(comp_rmse_via_interp, (0.1, 500), args, method='Nelder-Mead', bounds=bnds,tol=1e-3)\n",
    "mse=comp_mse_via_interp(res.x, *args)\n",
    "rmse=np.sqrt(mse)\n",
    "\n",
    "#compute the resulting annihilation rates\n",
    "r=res.x[0]\n",
    "kappa=res.x[1]\n",
    "X=np.array([[r,kappa,a,D]])\n",
    "yhat = interp(X)\n",
    "nu=yhat[0,0]\n",
    "M=yhat[0,1]\n",
    "what_values=M*q_values**nu\n",
    "\n",
    "q_values_lr=q_values.copy()\n",
    "what_values_lr=what_values.copy()\n",
    "print(f\"a={a}, D={D}, r={r}, kappa={kappa}, rmse={rmse} (LR)\")\n",
    "dict_lr=dict(r=r,kappa=kappa,nu=nu,M=M,rmse=rmse,res=res)"
   ]
  },
  {
   "cell_type": "code",
   "execution_count": 283,
   "id": "948053b0",
   "metadata": {
    "ExecuteTime": {
     "end_time": "2022-02-08T00:31:28.374184Z",
     "start_time": "2022-02-08T00:31:27.970461Z"
    }
   },
   "outputs": [
    {
     "data": {
      "image/png": "[encoded data removed]",
      "text/plain": [
       "<Figure size 600x400 with 1 Axes>"
      ]
     },
     "metadata": {},
     "output_type": "display_data"
    }
   ],
   "source": [
    "#plot the best fits when a>0\n",
    "fontsize = 20\n",
    "x1lim = [8e-2, 1.1]  #[1e-1, 1]\n",
    "x2lim = [1e-2, 25]\n",
    "# x1lim=[5,10]\n",
    "# x2lim=[50,350]\n",
    "figsize = (6, 4)  #(5,4)\n",
    "fig, ax = plt.subplots(figsize=figsize)\n",
    "\n",
    "#plot the full models\n",
    "ax.scatter(fk['q'].values,fk['w'].values,c='C0',alpha=0.2,s=40,label='Fenton-Karma',zorder=0)\n",
    "ax.scatter(lr['q'].values,lr['w'].values,c='C1',alpha=0.2,s=40,label='Luo-Rudy',zorder=0)\n",
    "\n",
    "#plot the result over the original annihilation rates\n",
    "plt.plot(q_values_fk,what_values_fk,'--',c='C0',label=f'_Fit to FK',alpha=1,lw=2)\n",
    "plt.plot(q_values_lr,what_values_lr,'--',c='C1',label=f'_Fit to LR',alpha=1,lw=2)\n",
    "\n",
    "#format\n",
    "FormatAxes(\n",
    "    ax,\n",
    "    x1lim=x1lim,\n",
    "    x2lim=x2lim,\n",
    "    x1label=r'$N/A$ (1/cm$^{2}$)',  #q$ (1/cm$^{2}$)',#r'$q=N/A$ (1/cm$^{2}$)',\n",
    "    x2label=\n",
    "    r'$W_{-2}/A$ (Hz/cm$^{2}$)',  #w$ (Hz/cm$^{2}$)',#r'$w=W_{-2}/A$ (Hz/cm$^{2}$)',\n",
    "    title=None,\n",
    "    fontsize=fontsize,\n",
    "    use_loglog=True)\n",
    "ax.annotate(r\"best fit ($a>0$)\", xy=(0.3, 11), xytext=xytext,fontsize=fontsize)\n",
    "leg=ax.legend(loc='lower right',fontsize=fontsize-2,frameon=False)\n",
    "for lh in leg.legendHandles: \n",
    "    lh.set_alpha(1)\n",
    "# #mark the slope of ^that line with ~2\n",
    "# x1 = 0.2\n",
    "# y1 = 2\n",
    "# annotation.slope_marker(origin=(x1, y1),\n",
    "#                         slope=2,invert=True,\n",
    "#                         text_kwargs={'color': 'black','fontsize':16, 'alpha':0.7},\n",
    "#                         poly_kwargs={'facecolor': (0.5, 0.5, 0.5), 'alpha':0.5},#TODO: replace with purple\n",
    "#                         ax=ax)    \n",
    "#mark the slope of ^that line with ~2\n",
    "x1 = 0.09\n",
    "y1 = 2\n",
    "annotation.slope_marker(origin=(x1, y1),\n",
    "                        slope=2,\n",
    "                        text_kwargs={'color': 'black','fontsize':16, 'alpha':0.7},\n",
    "                        poly_kwargs={'facecolor': (0.5, 0.5, 0.5), 'alpha':0.5},#TODO: replace with purple\n",
    "                        ax=ax)\n",
    "# #mark the slope of ^that line with ~3\n",
    "# x1 = 0.6\n",
    "# y1 = 0.3\n",
    "# annotation.slope_marker(origin=(x1, y1),\n",
    "#                         slope=3,#(3, 1),\n",
    "#                         text_kwargs={'color': 'black','fontsize':16, 'alpha':0.7},\n",
    "#                         poly_kwargs={'facecolor': (0.5, 0.5, 0.5), 'alpha':0.5},#TODO: replace with purple\n",
    "#                         ax=ax)\n",
    "\n",
    "plt.show()"
   ]
  },
  {
   "cell_type": "markdown",
   "id": "a9a1d9af",
   "metadata": {
    "heading_collapsed": true
   },
   "source": [
    "# DONE: generate powerlaw fits directly from observed mean collision time "
   ]
  },
  {
   "cell_type": "code",
   "execution_count": 140,
   "id": "afb286ab",
   "metadata": {
    "ExecuteTime": {
     "end_time": "2022-01-05T00:38:01.026068Z",
     "start_time": "2022-01-05T00:37:41.833054Z"
    },
    "hidden": true
   },
   "outputs": [
    {
     "name": "stdout",
     "output_type": "stream",
     "text": [
      "testing input_fn\n",
      "{'m': 2.348691687055711, 'Delta_m': 0.01579402321139273, 'M': 8.45369889951118, 'Delta_M': 0.285922297679015, 'Rsq': 0.99897695178761, 'rmse': 0.15705548701034783, 'rmse_full': 0.43658535881740856, 'model_name_full': 'fk_ncbc', 'q_min': 0.1, 'q_max': 1.0, 'r': 0.07, 'kappa': 1500, 'D': 6.6, 'varkappa': 0, 'x0': 0, 'L': 10, 'force_code': 2, 'neighbor': 1, 'reflect': 0, 'set_second': 0, 'no_repulsion': 0, 'no_attraction': 0}\n",
      "parsing absolute directory of input_fn=/home/timothytyree/Documents/GitHub/bgmc/python/data/osg_output/run_20_all/job.out.21377943.2385...\n",
      "We're about to use 12 cores to obliterate 4018 csv files from /home/timothytyree/Documents/GitHub/bgmc/python/data/osg_output/run_20_all\n",
      "run time for computing powerlaw fits was 19.10 seconds.\n",
      "computed powerlaw fits for  4017 trials successfully.\n",
      "parsing absolute directory of input_fn=/home/timothytyree/Documents/GitHub/bgmc/python/data/osg_output/run_20_all/job.out.21377943.2385...\n",
      "powerlaw fits from particle model were successfully saved in \n",
      "/home/timothytyree/Documents/GitHub/bgmc/python/data/osg_output/run_20_all_powerlaw_fits.csv\n"
     ]
    }
   ],
   "source": [
    "input_fn=f\"/home/timothytyree/Documents/GitHub/bgmc/python/data/osg_output/run_20_all/job.out.21377943.2385\"\n",
    "# input_fn=\"/home/timothytyree/Documents/GitHub/bgmc/python/data/osg_output/run_19_all/job.out.19842066.24\"\n",
    "# input_fn=f\"/home/timothytyree/Documents/GitHub/bgmc/python/data/osg_output/run_18_all/job.out.16106771.17\"\n",
    "# input_fn=f\"/home/timothytyree/Documents/GitHub/bgmc/python/data/osg_output/run_17_all/job.out.15270959.1\"\n",
    "# input_fn=f\"/home/timothytyree/Documents/GitHub/bgmc/python/data/local_results/black_star_run_1_all/out.0\"\n",
    "# input_fn=\"/home/timothytyree/Documents/GitHub/bgmc/python/data/osg_output/run_16_all/job.out.14688026.14\"\n",
    "# input_fn=\"/home/timothytyree/Documents/GitHub/bgmc/python/data/osg_output/run_15_all/job.out.13954413.14\"\n",
    "printing=True\n",
    "npartitions=os.cpu_count()\n",
    "# kwargs={}\n",
    "kwargs=dict(npartitions=npartitions)\n",
    "save_dir=gener_df_powerlaw_fits_and_to_csv(input_fn,**kwargs)"
   ]
  },
  {
   "cell_type": "code",
   "execution_count": null,
   "id": "ed149cb9",
   "metadata": {
    "hidden": true
   },
   "outputs": [],
   "source": []
  },
  {
   "cell_type": "markdown",
   "id": "78fc1a83",
   "metadata": {},
   "source": [
    "# DONE: generate Fig. 2B individually\n",
    "- for 2B as the best fits to the particle models (blue) FK and (orange) LR when a=0\n",
    "- for 2B as the residuals with (dashed) a=0 and (solid) a>0 for both of the full models?"
   ]
  },
  {
   "cell_type": "code",
   "execution_count": 21,
   "id": "90ccdf90",
   "metadata": {
    "ExecuteTime": {
     "end_time": "2022-01-04T19:17:01.720266Z",
     "start_time": "2022-01-04T19:17:01.703259Z"
    }
   },
   "outputs": [],
   "source": [
    "#is a=2D in the annihilation rate fits? no."
   ]
  },
  {
   "cell_type": "code",
   "execution_count": null,
   "id": "a067b345",
   "metadata": {},
   "outputs": [],
   "source": []
  },
  {
   "cell_type": "code",
   "execution_count": null,
   "id": "40dc1929",
   "metadata": {},
   "outputs": [],
   "source": []
  },
  {
   "cell_type": "code",
   "execution_count": 192,
   "id": "de2ab9e4",
   "metadata": {
    "ExecuteTime": {
     "end_time": "2022-02-07T21:12:10.736747Z",
     "start_time": "2022-02-07T21:12:10.182803Z"
    }
   },
   "outputs": [
    {
     "name": "stdout",
     "output_type": "stream",
     "text": [
      "run #5: (3242, 22)\n",
      "run #6: (181944, 22)\n",
      "run #15: (382, 22)\n",
      "run #16: (0, 22)\n",
      "run #17: (0, 22)\n",
      "run #18: (0, 22)\n",
      "run #19: (0, 22)\n",
      "run #20: (4017, 22)\n"
     ]
    }
   ],
   "source": [
    "for run_num in range(21):\n",
    "    input_fn= f\"/home/timothytyree/Documents/GitHub/bgmc/python/data/osg_output/run_{run_num}_all_powerlaw_fits.csv\"\n",
    "    try:\n",
    "        df=pd.read_csv(input_fn)\n",
    "        print(f\"run #{run_num}: {df[df['varkappa']==0].shape}\")\n",
    "    except Exception as e:\n",
    "        pass"
   ]
  },
  {
   "cell_type": "code",
   "execution_count": 218,
   "id": "ed21d347",
   "metadata": {
    "ExecuteTime": {
     "end_time": "2022-02-08T00:09:36.339152Z",
     "start_time": "2022-02-08T00:09:35.947323Z"
    }
   },
   "outputs": [
    {
     "name": "stdout",
     "output_type": "stream",
     "text": [
      "varkappa values: [0]\n"
     ]
    },
    {
     "data": {
      "text/plain": [
       "(181944, 24)"
      ]
     },
     "execution_count": 218,
     "metadata": {},
     "output_type": "execute_result"
    }
   ],
   "source": [
    "#DONE: see here if any df from pd.read_csv(input_fn) has powerlaws for the a=0 case\n",
    "#DONE: try a bunch of run_num\n",
    "# run_num=5 # uses the 'beta' column to show funny reaction rates/ranges didn't work\n",
    "run_num=6\n",
    "# run_num=15 #worked (N=186)\n",
    "# run_num=20 #worked? (N=?) Enot really working#4017\n",
    "# run_num=15#382\n",
    "input_fn= f\"/home/timothytyree/Documents/GitHub/bgmc/python/data/osg_output/run_{run_num}_all_powerlaw_fits.csv\"\n",
    "input_fn_dict={'vectorsummed':input_fn,'neighboronly':input_fn}\n",
    "\n",
    "#recall results from tables in the main mansucript\n",
    "wjr=recall_powerlaw_fits_to_full_models()\n",
    "a_hat_FK, D_hat_FK, a_hat_FK_long, a_hat_FK_vlong, a_hat_LR, D_hat_LR, a_hat_LR_long=recall_particle_parameter_measurements()\n",
    "\n",
    "df=pd.read_csv(input_fn)\n",
    "print(f\"varkappa values: {np.unique(df['varkappa'].values)}\")\n",
    "df.shape"
   ]
  },
  {
   "cell_type": "code",
   "execution_count": 206,
   "id": "7549d73d",
   "metadata": {
    "ExecuteTime": {
     "end_time": "2022-02-08T00:08:00.774773Z",
     "start_time": "2022-02-08T00:08:00.164389Z"
    }
   },
   "outputs": [
    {
     "name": "stdout",
     "output_type": "stream",
     "text": [
      "estimated runtime is ~140 seconds for 17988 training samples...\n",
      "number of training examples is 1687....\n",
      "training complete!\n",
      "shape of X (1687, 3) --> shape of y=yhat (1687, 2)\n",
      "Example Usage:\n",
      "yhat=interp(X)\n",
      "the rmse of simple interpolation is 0.0000\n"
     ]
    }
   ],
   "source": [
    "#DONE: root cause analysis on why broken: recall_particle_model_interp_unattractive. answer mode='neighboronly' for run 20...\n",
    "interp_unattractive=recall_particle_model_interp_unattractive(input_fn_dict=input_fn_dict,#mode='neighboronly',\n",
    "                                                              printing=True,testing=True)#,L=None)"
   ]
  },
  {
   "cell_type": "code",
   "execution_count": 207,
   "id": "1be8cf48",
   "metadata": {
    "ExecuteTime": {
     "end_time": "2022-02-08T00:08:02.637132Z",
     "start_time": "2022-02-08T00:08:02.621009Z"
    }
   },
   "outputs": [],
   "source": [
    "# #recall fits from lib\n",
    "# # a,D,r,kappa,rmse=recall_particle_parameter_fits('luorudy')\n",
    "# # print(f\"a={a},    D={D}, r={r}, kappa={kappa},  rmse={rmse}\")\n",
    "# a,D,r,kappa,rmse=recall_particle_parameter_fits('fentonkarma')\n",
    "# # print(f\"a={a}, D={D}, r={r}, kappa={kappa}, rmse={rmse}\")\n",
    "\n",
    "# D=D_hat_FK\n",
    "# kappa=500\n",
    "# r=0.3#needed because the smaller r values havent' finished yet...\n",
    "# a=0"
   ]
  },
  {
   "cell_type": "code",
   "execution_count": 273,
   "id": "3eee8c67",
   "metadata": {
    "ExecuteTime": {
     "end_time": "2022-02-08T00:24:41.460698Z",
     "start_time": "2022-02-08T00:24:41.436081Z"
    }
   },
   "outputs": [],
   "source": [
    "#TODO: try dev function from ['r','kappa','D'] to mse, as before\n",
    "#TODO: modify old routine for multidimensional optimization to here\n",
    "#TODO: generate fig. 2B\n",
    "#TODO: update drive\n",
    "#TODO: see if a particle fit works when a=2D\n",
    "# np.min(X[:,0]),np.max(X[:,0])"
   ]
  },
  {
   "cell_type": "code",
   "execution_count": 228,
   "id": "8483ad36",
   "metadata": {
    "ExecuteTime": {
     "end_time": "2022-02-08T00:12:37.190384Z",
     "start_time": "2022-02-08T00:12:37.140640Z"
    }
   },
   "outputs": [
    {
     "name": "stdout",
     "output_type": "stream",
     "text": [
      "a=0, D=4.998975853600221, r=0.12254632061727341, kappa=250.0, rmse=0.14588114790017753 (FK)\n"
     ]
    }
   ],
   "source": [
    "model_name='fk_pbc'\n",
    "D=D_hat_FK\n",
    "kappa=500\n",
    "r=0.3#needed because the smaller r values havent' finished yet...\n",
    "a=0\n",
    "\n",
    "#compute annihilation rates fit to the LR model\n",
    "nu_full=wjr[model_name]['m']\n",
    "M_full=wjr[model_name]['M']\n",
    "q_values=np.linspace(0,1,20)\n",
    "w_values=M_full*q_values**nu_full\n",
    "args=q_values,w_values,interp_unattractive\n",
    "\n",
    "if model_name=='lr_pbc':\n",
    "    model_name_string='Luo-Rudy'\n",
    "elif model_name=='fk_pbc':\n",
    "    model_name_string='Fenton-Karma'\n",
    "else:\n",
    "    model_name_string='??'\n",
    "\n",
    "#find a best r,kappa pair for a given a,D pair for a given full model\n",
    "# args=a,D,q_values,w_values,interp\n",
    "bnds = ((0.01, 0.5), (250, 1500),(0.1,8.))\n",
    "# bnds = ((0.3, 0.5), (250, 1500),(0.1,8.))\n",
    "# x0 = (r,kappa,D)\n",
    "x0 = (0.3,kappa,D)\n",
    "\n",
    "res = minimize(comp_mse_via_interp_unattractive, x0, args, method='Nelder-Mead', bounds=bnds,tol=1e-3)\n",
    "mse=comp_mse_via_interp_unattractive(res.x, *args)\n",
    "rmse=np.sqrt(mse)\n",
    "\n",
    "#compute the resulting annihilation rates\n",
    "a=0\n",
    "r=res.x[0]\n",
    "kappa=res.x[1]\n",
    "D=res.x[2]\n",
    "X=np.array([r,kappa,D])\n",
    "yhat = interp_unattractive(X)\n",
    "nu=yhat[0,0]\n",
    "M=yhat[0,1]\n",
    "what_values=M*q_values**nu\n",
    "\n",
    "q_values_fk=q_values.copy()\n",
    "what_values_fk=what_values.copy()\n",
    "print(f\"a={a}, D={D}, r={r}, kappa={kappa}, rmse={rmse} (FK)\")\n",
    "dict_fk_unattractive=dict(r=r,kappa=kappa,nu=nu,M=M,rmse=rmse,res=res)"
   ]
  },
  {
   "cell_type": "code",
   "execution_count": 211,
   "id": "dcaf89e3",
   "metadata": {
    "ExecuteTime": {
     "end_time": "2022-02-08T00:08:15.741130Z",
     "start_time": "2022-02-08T00:08:15.724869Z"
    }
   },
   "outputs": [],
   "source": [
    "# X=np.array([r,kappa,D])\n",
    "# yhat = interp_unattractive(X)"
   ]
  },
  {
   "cell_type": "code",
   "execution_count": null,
   "id": "ffa919fe",
   "metadata": {},
   "outputs": [],
   "source": []
  },
  {
   "cell_type": "code",
   "execution_count": 270,
   "id": "b0b78d5a",
   "metadata": {
    "ExecuteTime": {
     "end_time": "2022-02-08T00:21:01.683253Z",
     "start_time": "2022-02-08T00:21:01.639749Z"
    }
   },
   "outputs": [
    {
     "name": "stdout",
     "output_type": "stream",
     "text": [
      "a=0, D=5.0, r=0.3, kappa=500.0, rmse=20.731065688766602 (LR)\n"
     ]
    }
   ],
   "source": [
    "model_name='lr_pbc'\n",
    "# D=D_hat_LR\n",
    "D=5\n",
    "kappa=500\n",
    "r=0.15#needed because the smaller r values havent' finished yet...\n",
    "a=0\n",
    "\n",
    "#compute annihilation rates fit to the LR model\n",
    "nu_full=wjr[model_name]['m']\n",
    "M_full=wjr[model_name]['M']\n",
    "q_values=np.linspace(0,1,20)\n",
    "w_values=M_full*q_values**nu_full\n",
    "args=q_values,w_values,interp_unattractive\n",
    "\n",
    "if model_name=='lr_pbc':\n",
    "    model_name_string='Luo-Rudy'\n",
    "elif model_name=='fk_pbc':\n",
    "    model_name_string='Fenton-Karma'\n",
    "else:\n",
    "    model_name_string='??'\n",
    "\n",
    "#find a best r,kappa pair for a given a,D pair for a given full model\n",
    "# args=a,D,q_values,w_values,interp\n",
    "bnds = ((0.01, 0.5), (250, 1500),(0.1,8.))\n",
    "# bnds = ((0.3, 0.5), (250, 1500),(0.1,8.))\n",
    "# x0 = (r,kappa,D)\n",
    "x0 = (0.3,kappa,D)\n",
    "\n",
    "res = minimize(comp_mse_via_interp_unattractive, x0, args, method='Nelder-Mead', bounds=bnds,tol=1e-3)\n",
    "mse=comp_mse_via_interp_unattractive(res.x, *args)\n",
    "rmse=np.sqrt(mse)\n",
    "\n",
    "# #compute the resulting annihilation rates\n",
    "# a=0\n",
    "# r=res.x[0]\n",
    "# kappa=res.x[1]\n",
    "# X=np.array([[r,kappa,D]])\n",
    "# yhat = interp(X)\n",
    "# nu=yhat[0,0]\n",
    "# M=yhat[0,1]\n",
    "# what_values=M*q_values**nu\n",
    "\n",
    "# q_values_fk=q_values.copy()\n",
    "# what_values_fk=what_values.copy()\n",
    "# print(f\"a={a}, D={D}, r={r}, kappa={kappa}, rmse={rmse} (FK)\")\n",
    "# dict_fk_unattractive=dict(r=r,kappa=kappa,nu=nu,M=M,rmse=rmse,res=res)\n",
    "\n",
    "\n",
    "#compute the resulting annihilation rates\n",
    "r=res.x[0]\n",
    "kappa=res.x[1]#*1.7\n",
    "D=res.x[2]\n",
    "X=np.array([r,kappa,D])\n",
    "yhat = interp_unattractive(X)\n",
    "nu=yhat[0,0]\n",
    "M=yhat[0,1]\n",
    "what_values=M*q_values**nu\n",
    "\n",
    "q_values_lr=q_values.copy()\n",
    "what_values_lr=what_values.copy()\n",
    "print(f\"a={a}, D={D}, r={r}, kappa={kappa}, rmse={rmse} (LR)\")\n",
    "dict_lr_unattractive=dict(r=r,kappa=kappa,nu=nu,M=M,rmse=rmse,res=res)"
   ]
  },
  {
   "cell_type": "code",
   "execution_count": 271,
   "id": "f53e4471",
   "metadata": {
    "ExecuteTime": {
     "end_time": "2022-02-08T00:21:04.872689Z",
     "start_time": "2022-02-08T00:21:04.857564Z"
    }
   },
   "outputs": [],
   "source": [
    "#DONE: simplify ^that\n",
    "#DONE: repeat ^that for LR\n",
    "#TODO: generate plot\n",
    "#TODO: update!"
   ]
  },
  {
   "cell_type": "code",
   "execution_count": 276,
   "id": "b0487d50",
   "metadata": {
    "ExecuteTime": {
     "end_time": "2022-02-08T00:30:10.882188Z",
     "start_time": "2022-02-08T00:30:10.467078Z"
    }
   },
   "outputs": [
    {
     "data": {
      "image/png": "[encoded data removed]",
      "text/plain": [
       "<Figure size 600x400 with 1 Axes>"
      ]
     },
     "metadata": {},
     "output_type": "display_data"
    }
   ],
   "source": [
    "#plot the best fits when a>0\n",
    "fontsize = 20\n",
    "x1lim = [8e-2, 1.1]  #[1e-1, 1]\n",
    "x2lim = [1e-2, 25]\n",
    "# x1lim=[5,10]\n",
    "# x2lim=[50,350]\n",
    "figsize = (6, 4)  #(5,4)\n",
    "fig, ax = plt.subplots(figsize=figsize)\n",
    "\n",
    "#plot the full models\n",
    "ax.scatter(fk['q'].values,fk['w'].values,c='C0',alpha=0.2,s=40,label='Fenton-Karma',zorder=0)\n",
    "ax.scatter(lr['q'].values,lr['w'].values,c='C1',alpha=0.2,s=40,label='Luo-Rudy',zorder=0)\n",
    "\n",
    "#plot the result over the original annihilation rates\n",
    "plt.plot(q_values_fk,what_values_fk,'--',c='C0',label=f'_Fit to FK',alpha=1,lw=2)\n",
    "plt.plot(q_values_lr,what_values_lr,'--',c='C1',label=f'_Fit to LR',alpha=1,lw=2)\n",
    "\n",
    "#format\n",
    "FormatAxes(\n",
    "    ax,\n",
    "    x1lim=x1lim,\n",
    "    x2lim=x2lim,\n",
    "    x1label=r'$N/A$ (1/cm$^{2}$)',  #q$ (1/cm$^{2}$)',#r'$q=N/A$ (1/cm$^{2}$)',\n",
    "    x2label=\n",
    "    r'$W_{-2}/A$ (Hz/cm$^{2}$)',  #w$ (Hz/cm$^{2}$)',#r'$w=W_{-2}/A$ (Hz/cm$^{2}$)',\n",
    "    title=None,\n",
    "    fontsize=fontsize,\n",
    "    use_loglog=True)\n",
    "ax.annotate(r\"best fit ($a=0$)\", xy=(0.3, 11), xytext=xytext,fontsize=fontsize)\n",
    "leg=ax.legend(loc='lower right',fontsize=fontsize-2,frameon=False)\n",
    "for lh in leg.legendHandles: \n",
    "    lh.set_alpha(1)\n",
    "    \n",
    "# #mark the slope of ^that line with ~2\n",
    "x1 = 0.09\n",
    "y1 = 2\n",
    "# annotation.slope_marker(origin=(x1, y1),\n",
    "#                         slope=2,\n",
    "#                         text_kwargs={'color': 'black','fontsize':16, 'alpha':0.7},\n",
    "#                         poly_kwargs={'facecolor': (0.5, 0.5, 0.5), 'alpha':0.5},#TODO: replace with purple\n",
    "#                         ax=ax)\n",
    "#mark the slope of ^that line with ~3\n",
    "# x1 = 0.6\n",
    "# y1 = 0.3\n",
    "annotation.slope_marker(origin=(x1, y1),\n",
    "                        slope=3,#(3, 1),\n",
    "                        text_kwargs={'color': 'black','fontsize':16, 'alpha':0.7},\n",
    "                        poly_kwargs={'facecolor': (0.5, 0.5, 0.5), 'alpha':0.5},#TODO: replace with purple\n",
    "                        ax=ax)\n",
    "\n",
    "plt.show()"
   ]
  },
  {
   "cell_type": "code",
   "execution_count": null,
   "id": "0a4247d3",
   "metadata": {},
   "outputs": [],
   "source": []
  },
  {
   "cell_type": "markdown",
   "id": "67a362c0",
   "metadata": {
    "heading_collapsed": true
   },
   "source": [
    "## scratchwerk"
   ]
  },
  {
   "cell_type": "code",
   "execution_count": null,
   "id": "e6b70023",
   "metadata": {
    "ExecuteTime": {
     "end_time": "2022-01-04T19:17:02.312191Z",
     "start_time": "2022-01-04T19:17:02.312160Z"
    },
    "hidden": true
   },
   "outputs": [],
   "source": [
    "print(\"(FK):\")\n",
    "a=a_hat_FK_vlong\n",
    "D=D_hat_FK#,wjr=wjr,interp=interp,ax=ax,\n",
    "model_name='fk_pbc'#;c='C0'\n",
    "# a=a_hat_LR;D=D_hat_LR#,wjr=wjr,interp=interp,ax=ax,\n",
    "# model_name='lr_pbc'#;c='C1'\n",
    "#compute annihilation rates fit to the LR model\n",
    "nu_full=wjr[model_name]['m']\n",
    "M_full=wjr[model_name]['M']\n",
    "q_values=np.linspace(0,20)\n",
    "w_values=M_full*q_values**nu_full\n",
    "\n",
    "if model_name=='lr_pbc':\n",
    "    model_name_string='Luo-Rudy'\n",
    "elif model_name=='fk_pbc':\n",
    "    model_name_string='Fenton-Karma'\n",
    "else:\n",
    "    model_name_string='??'\n",
    "\n",
    "\n",
    "#set attraction coefficient to zero\n",
    "a=0\n",
    "    \n",
    "#find a best r,kappa pair for a given a,D pair for a given full model\n",
    "args=a,D,q_values,w_values,interp\n",
    "bnds = ((1e-3, 2), (1e2, 1e4))\n",
    "x0 = (0.1, 500)\n",
    "# res = minimize(comp_rmse_via_interp, (0.1, 500), args, method='Nelder-Mead', bounds=bnds,tol=1e-3)\n",
    "res = minimize(comp_rmse_via_interp, (0.1, 500), args, method='Nelder-Mead', bounds=bnds,tol=1e-3)\n",
    "mse=comp_mse_via_interp(res.x, *args)\n",
    "rmse=np.sqrt(mse)\n",
    "\n",
    "\n",
    "#compute the resulting annihilation rates\n",
    "r=res.x[0]\n",
    "kappa=res.x[1]\n",
    "X=np.array([[r,kappa,a,D]])\n",
    "yhat = interp(X)\n",
    "nu=yhat[0,0]\n",
    "M=yhat[0,1]\n",
    "what_values=M*q_values**nu\n",
    "\n",
    "q_values_fk=q_values.copy()\n",
    "what_values_fk=what_values.copy()\n",
    "\n",
    "#TODO: initialize changing parameters\n",
    "print(f\"initializing parameters to:\")\n",
    "print(f\"a={a}, D={D}, r={r}, kappa={kappa}, rmse={rmse}\")\n",
    "a0=float(a); D0=float(D); r0=float(r); kappa0=float(kappa);rmse0=float(rmse)\n",
    "# dict_fk=dict(r=r,kappa=kappa,nu=nu,M=M,rmse=rmse,res=res)"
   ]
  },
  {
   "cell_type": "code",
   "execution_count": null,
   "id": "67b54064",
   "metadata": {
    "ExecuteTime": {
     "end_time": "2022-01-04T19:17:02.313204Z",
     "start_time": "2022-01-04T19:17:02.313191Z"
    },
    "hidden": true
   },
   "outputs": [],
   "source": [
    "#CONFIRMED: setting a=0 causes interp to become nan\n",
    "#NOTE: ^this is consistent with my prior observation of a weird jump at a=0\n",
    "#TODO: dev function that returns interp (r,kappa,D) conditioned on a=0"
   ]
  },
  {
   "cell_type": "code",
   "execution_count": null,
   "id": "d85574d2",
   "metadata": {
    "ExecuteTime": {
     "end_time": "2022-01-04T19:17:02.314453Z",
     "start_time": "2022-01-04T19:17:02.314441Z"
    },
    "hidden": true
   },
   "outputs": [],
   "source": [
    "# interp="
   ]
  },
  {
   "cell_type": "code",
   "execution_count": null,
   "id": "30759c43",
   "metadata": {
    "hidden": true
   },
   "outputs": [],
   "source": []
  },
  {
   "cell_type": "code",
   "execution_count": null,
   "id": "b2c262eb",
   "metadata": {
    "ExecuteTime": {
     "end_time": "2022-01-04T19:17:02.315481Z",
     "start_time": "2022-01-04T19:17:02.315467Z"
    },
    "hidden": true
   },
   "outputs": [],
   "source": [
    "#TODO: get interp working using an earlier example with the perturbation\n",
    "X=np.array([[r0,kappa0,a0,D0]])\n",
    "yhat = interp(X)\n",
    "print(yhat)\n",
    "nu=yhat[0,0]\n",
    "M=yhat[0,1]\n",
    "what_values=M*q_values**nu\n",
    "#TODO: get interp working using an earlier example\n",
    "# comp_rmse_via_interp\n",
    "#TODO: show interp works for a perturbation\n",
    "#TODO: make an array of guesses for interp\n",
    "#TODO: compute the rmse for each\n",
    "#TODO: return the smallest such parameter setting"
   ]
  },
  {
   "cell_type": "code",
   "execution_count": null,
   "id": "2400d959",
   "metadata": {
    "hidden": true
   },
   "outputs": [],
   "source": []
  },
  {
   "cell_type": "code",
   "execution_count": null,
   "id": "85b7b0bb",
   "metadata": {
    "hidden": true
   },
   "outputs": [],
   "source": []
  },
  {
   "cell_type": "code",
   "execution_count": null,
   "id": "7b237902",
   "metadata": {
    "ExecuteTime": {
     "end_time": "2022-01-04T19:17:02.316898Z",
     "start_time": "2022-01-04T19:17:02.316885Z"
    },
    "hidden": true
   },
   "outputs": [],
   "source": [
    "interp(np.array([[r,kappa,a,D],[r,kappa,a,D]]).T)"
   ]
  },
  {
   "cell_type": "code",
   "execution_count": null,
   "id": "ec9e965c",
   "metadata": {
    "ExecuteTime": {
     "end_time": "2022-01-04T19:17:02.318002Z",
     "start_time": "2022-01-04T19:17:02.317990Z"
    },
    "hidden": true
   },
   "outputs": [],
   "source": [
    "#initialize repeatably\n",
    "a=float(a0); D=float(D0); r=float(r0); kappa=float(kappa0); rmse0=float(rmse)"
   ]
  },
  {
   "cell_type": "code",
   "execution_count": null,
   "id": "f57de0f2",
   "metadata": {
    "ExecuteTime": {
     "end_time": "2022-01-04T19:17:02.319051Z",
     "start_time": "2022-01-04T19:17:02.319040Z"
    },
    "hidden": true
   },
   "outputs": [],
   "source": [
    "def perform_perturbation_D(a,D,r,kappa,dx):\n",
    "    D*=(1+dx)\n",
    "    return a,D,r,kappa\n",
    "def perform_perturbation_r(a,D,r,kappa,dx):\n",
    "    r*=(1+dx)\n",
    "    return a,D,r,kappa\n",
    "def perform_perturbation_kappa(a,D,r,kappa,dx):\n",
    "    kappa*=(1+dx)\n",
    "    return a,D,r,kappa"
   ]
  },
  {
   "cell_type": "code",
   "execution_count": null,
   "id": "b9e6e801",
   "metadata": {
    "ExecuteTime": {
     "end_time": "2022-01-04T19:17:02.319856Z",
     "start_time": "2022-01-04T19:17:02.319844Z"
    },
    "hidden": true
   },
   "outputs": [],
   "source": [
    "q_values.shape,w_values.shape"
   ]
  },
  {
   "cell_type": "code",
   "execution_count": null,
   "id": "8524beb1",
   "metadata": {
    "ExecuteTime": {
     "end_time": "2022-01-04T19:17:02.321253Z",
     "start_time": "2022-01-04T19:17:02.321236Z"
    },
    "hidden": true
   },
   "outputs": [],
   "source": [
    "#option A: the high level approach\n",
    "#DONE: make map from scalar r perturbation to mse\n",
    "def fun_r(dx,a,D,r,kappa,q_values,w_values,interp):\n",
    "    #perturb one parameter by a factor of 1+dx \n",
    "    a,D,r,kappa=perform_perturbation_r(a,D,r,kappa,dx)\n",
    "    args=a,D,q_values,w_values,interp\n",
    "    #compute loss function\n",
    "    x=r,kappa\n",
    "    argsp=a,D,q_values,w_values,interp\n",
    "    mse=comp_mse_via_interp(x, *argsp)\n",
    "    return mse"
   ]
  },
  {
   "cell_type": "code",
   "execution_count": null,
   "id": "8c1f0acc",
   "metadata": {
    "ExecuteTime": {
     "end_time": "2022-01-04T19:17:02.322492Z",
     "start_time": "2022-01-04T19:17:02.322480Z"
    },
    "hidden": true
   },
   "outputs": [],
   "source": [
    "perform_perturbation_r(a,D,r,kappa,dx),perform_perturbation_r(a,D,r,kappa,dx+1)"
   ]
  },
  {
   "cell_type": "code",
   "execution_count": null,
   "id": "9c5d8867",
   "metadata": {
    "ExecuteTime": {
     "end_time": "2022-01-04T19:17:02.323409Z",
     "start_time": "2022-01-04T19:17:02.323398Z"
    },
    "hidden": true
   },
   "outputs": [],
   "source": [
    "def comp_mse_via_interp_simple(r,kappa,a,D,q_values,w_values,interp):\n",
    "    '''compute the mean squared error from the xy values, q_values,w_values.\n",
    "    the model uses the powerlaw fit returned by yhat = interp(np.array([[r,kappa,a,D]]))\n",
    "    '''\n",
    "    #interpolate nu and M using interp\n",
    "    X=np.array([[r,kappa,a,D]])\n",
    "    yhat = interp(X)\n",
    "    nu=yhat[0,0]\n",
    "    M=yhat[0,1]\n",
    "    what_values=M*q_values**nu\n",
    "    mse=np.mean((what_values-w_values)**2)\n",
    "    return mse\n"
   ]
  },
  {
   "cell_type": "code",
   "execution_count": null,
   "id": "5696033a",
   "metadata": {
    "ExecuteTime": {
     "end_time": "2022-01-04T19:17:02.324227Z",
     "start_time": "2022-01-04T19:17:02.324207Z"
    },
    "hidden": true
   },
   "outputs": [],
   "source": [
    "r,kappa,a,D,q_values,w_values,interp"
   ]
  },
  {
   "cell_type": "code",
   "execution_count": null,
   "id": "de444c60",
   "metadata": {
    "ExecuteTime": {
     "end_time": "2022-01-04T07:57:09.066091Z",
     "start_time": "2022-01-04T07:57:09.041799Z"
    },
    "hidden": true
   },
   "outputs": [],
   "source": []
  },
  {
   "cell_type": "code",
   "execution_count": null,
   "id": "d3397a01",
   "metadata": {
    "ExecuteTime": {
     "end_time": "2022-01-04T19:17:02.325094Z",
     "start_time": "2022-01-04T19:17:02.325083Z"
    },
    "hidden": true
   },
   "outputs": [],
   "source": [
    "X=np.array([[r,kappa,a,D]])\n",
    "yhat = interp(X)\n",
    "nu=yhat[0,0]\n",
    "M=yhat[0,1]\n",
    "what_values=M*q_values**nu\n",
    "mse=np.mean((what_values-w_values)**2)"
   ]
  },
  {
   "cell_type": "code",
   "execution_count": null,
   "id": "70510461",
   "metadata": {
    "ExecuteTime": {
     "end_time": "2022-01-04T19:17:02.326045Z",
     "start_time": "2022-01-04T19:17:02.326031Z"
    },
    "hidden": true
   },
   "outputs": [],
   "source": [
    "comp_mse_via_interp_simple(r,kappa,a,D,q_values,w_values,interp)"
   ]
  },
  {
   "cell_type": "code",
   "execution_count": null,
   "id": "85a3a23e",
   "metadata": {
    "ExecuteTime": {
     "end_time": "2022-01-04T19:17:02.326896Z",
     "start_time": "2022-01-04T19:17:02.326883Z"
    },
    "hidden": true
   },
   "outputs": [],
   "source": [
    "#     a,D,r,kappa=perform_perturbation_r(a,D,r,kappa,dx)\n",
    "#     args=a,D,q_values,w_values,interp\n",
    "#compute loss function\n",
    "x=r,kappa\n",
    "argsp=a,D,q_values,w_values,interp\n",
    "mse=comp_mse_via_interp(x, *argsp)\n",
    "mse"
   ]
  },
  {
   "cell_type": "code",
   "execution_count": null,
   "id": "c21aa08b",
   "metadata": {
    "ExecuteTime": {
     "end_time": "2022-01-04T19:17:02.327768Z",
     "start_time": "2022-01-04T19:17:02.327756Z"
    },
    "hidden": true
   },
   "outputs": [],
   "source": [
    "dx=1\n",
    "fun_r(dx,a,D,r,kappa,q_values,w_values,interp)"
   ]
  },
  {
   "cell_type": "code",
   "execution_count": null,
   "id": "0ec3c351",
   "metadata": {
    "ExecuteTime": {
     "end_time": "2022-01-04T19:17:02.328921Z",
     "start_time": "2022-01-04T19:17:02.328908Z"
    },
    "hidden": true
   },
   "outputs": [],
   "source": [
    "# can i iterate on an object of class returned by minimize?\n",
    "# minimize?\n",
    "trgt_parameter='r'\n",
    "args=a,D,q_values,w_values,interp\n",
    "fun=comp_fun_1D(res,args,trgt_parameter)\n",
    "res_next=minimize_scalar(\n",
    "    fun,\n",
    "    bracket=None,\n",
    "    bounds=None,\n",
    "    args=args,\n",
    "    method='brent',\n",
    "    tol=None,\n",
    "    options=None,\n",
    ")"
   ]
  },
  {
   "cell_type": "code",
   "execution_count": null,
   "id": "ef2a7f76",
   "metadata": {
    "ExecuteTime": {
     "end_time": "2022-01-04T19:17:02.330010Z",
     "start_time": "2022-01-04T19:17:02.329997Z"
    },
    "hidden": true
   },
   "outputs": [],
   "source": [
    "#TODO: optimize r wrt mse"
   ]
  },
  {
   "cell_type": "code",
   "execution_count": null,
   "id": "b75275b4",
   "metadata": {
    "ExecuteTime": {
     "end_time": "2022-01-04T19:17:02.331018Z",
     "start_time": "2022-01-04T19:17:02.331005Z"
    },
    "hidden": true
   },
   "outputs": [],
   "source": [
    "\n",
    "#TODO: repeat ^that for any other desired parameters\n",
    "#TODO: wrap ^that into a function\n",
    "#TODO: iterate over ^that function 100 times\n",
    "#TODO: plot the result\n",
    "#TODO: increase the number of samples\n",
    "#TODO: plot the result\n",
    "#TODO: if the result didn't change, document, share, and go to bed."
   ]
  },
  {
   "cell_type": "code",
   "execution_count": null,
   "id": "4809e8e5",
   "metadata": {
    "ExecuteTime": {
     "end_time": "2022-01-04T19:17:02.332144Z",
     "start_time": "2022-01-04T19:17:02.332113Z"
    },
    "hidden": true
   },
   "outputs": [],
   "source": [
    "#option B: the low level approach\n",
    "#TODO: perturb r\n",
    "#TODO: measure change\n",
    "#TODO: accept or deny"
   ]
  },
  {
   "cell_type": "code",
   "execution_count": null,
   "id": "fa10748c",
   "metadata": {
    "hidden": true
   },
   "outputs": [],
   "source": []
  },
  {
   "cell_type": "code",
   "execution_count": null,
   "id": "1e0670ce",
   "metadata": {
    "hidden": true
   },
   "outputs": [],
   "source": []
  },
  {
   "cell_type": "code",
   "execution_count": null,
   "id": "d2169b4c",
   "metadata": {
    "ExecuteTime": {
     "end_time": "2022-01-04T19:17:02.333598Z",
     "start_time": "2022-01-04T19:17:02.333585Z"
    },
    "hidden": true
   },
   "outputs": [],
   "source": [
    "#TODO: dev map from dict_res to dict_res\n",
    "#map dict_res to args and the first parameter to be varied, r\n",
    "#map dict_res to args and the next parameter to be varied, kappa\n",
    "#map dict_res to args and the next parameter to be varied, D\n",
    "#TODO: test ^that\n",
    "#TODO: simply try simple 1D optimization (bounded tho)\n",
    "#TODO(|failing ^that): try each available method for 1D optimization"
   ]
  },
  {
   "cell_type": "code",
   "execution_count": null,
   "id": "fa67bfab",
   "metadata": {
    "ExecuteTime": {
     "end_time": "2022-01-04T19:17:02.334397Z",
     "start_time": "2022-01-04T19:17:02.334385Z"
    },
    "hidden": true
   },
   "outputs": [],
   "source": [
    "# fun=comp_fun_1D(res,args,trgt_parameter)\n",
    "res_next=minimize_scalar(\n",
    "    fun,\n",
    "    bracket=None,\n",
    "    bounds=None,\n",
    "    args=(),\n",
    "    method='brent',\n",
    "    tol=None,\n",
    "    options=None,\n",
    ")"
   ]
  },
  {
   "cell_type": "code",
   "execution_count": null,
   "id": "aef8e9ba",
   "metadata": {
    "hidden": true
   },
   "outputs": [],
   "source": []
  },
  {
   "cell_type": "code",
   "execution_count": null,
   "id": "5ab6d346",
   "metadata": {
    "ExecuteTime": {
     "end_time": "2022-01-04T19:17:02.335588Z",
     "start_time": "2022-01-04T19:17:02.335575Z"
    },
    "hidden": true
   },
   "outputs": [],
   "source": [
    "# model_name='fk_pbc'#;c='C0'\n",
    "# #compute annihilation rates fit to the LR model\n",
    "# nu_full=wjr[model_name]['m']\n",
    "# M_full=wjr[model_name]['M']\n",
    "# q_values=np.linspace(0,1,20)\n",
    "# w_values=M_full*q_values**nu_full\n",
    "# args=a,D,q_values,w_values,interp\n",
    "res.x,args"
   ]
  },
  {
   "cell_type": "code",
   "execution_count": null,
   "id": "e7807df9",
   "metadata": {
    "ExecuteTime": {
     "end_time": "2022-01-04T19:17:02.336348Z",
     "start_time": "2022-01-04T19:17:02.336318Z"
    },
    "hidden": true
   },
   "outputs": [],
   "source": [
    "r,kappa=res.x\n",
    "r"
   ]
  },
  {
   "cell_type": "code",
   "execution_count": null,
   "id": "34d5c939",
   "metadata": {
    "ExecuteTime": {
     "end_time": "2022-01-04T19:17:02.337272Z",
     "start_time": "2022-01-04T19:17:02.337260Z"
    },
    "hidden": true
   },
   "outputs": [],
   "source": [
    "a_next,D_next,r_next,kappa_next=perform_perturbation_r(a,D,r,kappa,dx)"
   ]
  },
  {
   "cell_type": "code",
   "execution_count": null,
   "id": "d5c8f378",
   "metadata": {
    "ExecuteTime": {
     "end_time": "2022-01-04T19:17:02.338002Z",
     "start_time": "2022-01-04T19:17:02.337992Z"
    },
    "hidden": true
   },
   "outputs": [],
   "source": [
    "trgt_parameter='r'\n",
    "def fun(dx):   \n",
    "    a,D,r,kappa=perform_perturbation(a,D,r,kappa,trgt_parameter)\n",
    "    #compute loss function\n",
    "    x=r,kappa\n",
    "    argsp=a,D,q_values,w_values,interp\n",
    "    mse=comp_mse_via_interp(x, *argsp)\n",
    "    rmse=np.sqrt(mse)\n",
    "    return mse#rmse"
   ]
  },
  {
   "cell_type": "code",
   "execution_count": null,
   "id": "5544e411",
   "metadata": {
    "ExecuteTime": {
     "end_time": "2022-01-04T19:17:02.338989Z",
     "start_time": "2022-01-04T19:17:02.338978Z"
    },
    "hidden": true
   },
   "outputs": [],
   "source": [
    "\n",
    "# # define local fun to minimize in one coordinate only\n",
    "# def comp_fun_1D(res,args,trgt_parameter):\n",
    "#     '''run maps dx to mean squared error where dx is a change to the trgt_parameter\n",
    "#     trgt_parameter is in {'a','D','r','kappa'}\n",
    "#     '''\n",
    "#     r,kappa=res.x\n",
    "#     a,D,q_values,w_values,interp=args\n",
    "#     trgt_parameter=str(trgt_parameter)\n",
    "\n",
    "#     def fun(dx):   \n",
    "#         a,D,r,kappa=perform_perturbation(a,D,r,kappa,trgt_parameter)\n",
    "#         #compute loss function\n",
    "#         x=r,kappa\n",
    "#         argsp=a,D,q_values,w_values,interp\n",
    "#         mse=comp_mse_via_interp(x, *argsp)\n",
    "#         rmse=np.sqrt(mse)\n",
    "#         return mse#rmse\n",
    "#     return fun"
   ]
  },
  {
   "cell_type": "code",
   "execution_count": null,
   "id": "2921ec4e",
   "metadata": {
    "ExecuteTime": {
     "end_time": "2022-01-04T19:17:02.340144Z",
     "start_time": "2022-01-04T19:17:02.340124Z"
    },
    "hidden": true
   },
   "outputs": [],
   "source": [
    "# can i iterate on an object of class returned by minimize?\n",
    "# minimize?\n",
    "trgt_parameter='r'\n",
    "args=a,D,q_values,w_values,interp\n",
    "fun=comp_fun_1D(res,args,trgt_parameter)\n",
    "res_next=minimize_scalar(\n",
    "    fun,\n",
    "    bracket=None,\n",
    "    bounds=None,\n",
    "    args=(),\n",
    "    method='brent',\n",
    "    tol=None,\n",
    "    options=None,\n",
    ")"
   ]
  },
  {
   "cell_type": "code",
   "execution_count": null,
   "id": "d9a2a175",
   "metadata": {
    "ExecuteTime": {
     "end_time": "2022-01-04T19:17:02.341074Z",
     "start_time": "2022-01-04T19:17:02.341059Z"
    },
    "hidden": true
   },
   "outputs": [],
   "source": [
    "fun(res),rmse"
   ]
  },
  {
   "cell_type": "code",
   "execution_count": null,
   "id": "93402879",
   "metadata": {
    "ExecuteTime": {
     "end_time": "2022-01-04T19:17:02.342286Z",
     "start_time": "2022-01-04T19:17:02.342274Z"
    },
    "hidden": true
   },
   "outputs": [],
   "source": [
    "# from scipy.optimize import minimize_scalar\n",
    "# # minimize_scalar?\n",
    "# method : str or callable, optional\n",
    "#     Type of solver.  Should be one of:\n",
    "\n",
    "#         - 'Brent'     :ref:`(see here) <optimize.minimize_scalar-brent>`\n",
    "#         - 'Bounded'   :ref:`(see here) <optimize.minimize_scalar-bounded>`\n",
    "#         - 'Golden'    :ref:`(see here) <optimize.minimize_scalar-golden>`\n",
    "#         - custom - a callable object (added in version 0.14.0), see below\n",
    "        \n",
    "# Using the *Bounded* method, we find a local minimum with specified\n",
    "# bounds as:\n",
    "def f(x):\n",
    "    return (x - 2) * x * (x + 2)**2\n",
    "res = minimize_scalar(f, bounds=(-3, -1), method='bounded')\n",
    "res.x"
   ]
  },
  {
   "cell_type": "code",
   "execution_count": null,
   "id": "75c0b017",
   "metadata": {
    "ExecuteTime": {
     "end_time": "2022-01-04T19:17:02.342920Z",
     "start_time": "2022-01-04T19:17:02.342890Z"
    },
    "hidden": true
   },
   "outputs": [],
   "source": [
    "def f(x):\n",
    "\n",
    "#DONT: make change in a changing parameter\n",
    "#DONT: wrap ^that into a function that maps paramter_state,parameter_col_change,comp_priority to parameter_state (or somethign)"
   ]
  },
  {
   "cell_type": "code",
   "execution_count": null,
   "id": "5ce17b85",
   "metadata": {
    "ExecuteTime": {
     "end_time": "2022-01-04T19:17:02.343928Z",
     "start_time": "2022-01-04T19:17:02.343912Z"
    },
    "hidden": true
   },
   "outputs": [],
   "source": [
    "#TODO: make a function that tries to change each parameter by a random amount once\n"
   ]
  },
  {
   "cell_type": "code",
   "execution_count": null,
   "id": "f8c553d0",
   "metadata": {
    "hidden": true
   },
   "outputs": [],
   "source": []
  },
  {
   "cell_type": "code",
   "execution_count": null,
   "id": "d6ce1ef9",
   "metadata": {
    "hidden": true
   },
   "outputs": [],
   "source": []
  },
  {
   "cell_type": "code",
   "execution_count": null,
   "id": "63c00eb1",
   "metadata": {
    "ExecuteTime": {
     "end_time": "2022-01-04T19:17:02.344685Z",
     "start_time": "2022-01-04T19:17:02.344672Z"
    },
    "hidden": true
   },
   "outputs": [],
   "source": [
    "#TODO: iterate through and perform tyree-potts refinement n_iter times from the base case \n",
    "n_iter=10"
   ]
  },
  {
   "cell_type": "code",
   "execution_count": null,
   "id": "7fe96bc0",
   "metadata": {
    "ExecuteTime": {
     "end_time": "2022-01-04T19:17:02.345802Z",
     "start_time": "2022-01-04T19:17:02.345789Z"
    },
    "hidden": true
   },
   "outputs": [],
   "source": [
    "# q_values_lr=q_values.copy()\n",
    "# what_values_lr=what_values.copy()\n",
    "# print(f\"a={a}, D={D}, r={r}, kappa={kappa}, rmse={rmse} (LR)\")\n",
    "# dict_lr=dict(r=r,kappa=kappa,nu=nu,M=M,rmse=rmse,res=res)"
   ]
  },
  {
   "cell_type": "code",
   "execution_count": null,
   "id": "7d0841ed",
   "metadata": {
    "ExecuteTime": {
     "end_time": "2022-01-04T19:17:02.346666Z",
     "start_time": "2022-01-04T19:17:02.346655Z"
    },
    "hidden": true
   },
   "outputs": [],
   "source": [
    "#DONE: copy 2A data gen\n",
    "#DONE: test that ^that doesn't work\n",
    "#TODO(option A): make a really simple least squares optimizer based on my \"tyree-potts\" optimization (randomly change one parameter, and keep if mse lowers)\n",
    "#TODO(option B): root cause analysis as to why it doesn't work\n",
    "#HINT: i remember trying every option in the function minimize to no avail...\n",
    "#TODO: copy 2A figure gen"
   ]
  },
  {
   "cell_type": "code",
   "execution_count": null,
   "id": "65b4c8a2",
   "metadata": {
    "ExecuteTime": {
     "end_time": "2022-01-04T19:17:02.347828Z",
     "start_time": "2022-01-04T19:17:02.347815Z"
    },
    "hidden": true
   },
   "outputs": [],
   "source": [
    "#TODO(later): retry every option of the multidimensional minimization black box... but when q_values and w_values are strictly positive (>0)\n",
    "# print(\"(FK):\")\n",
    "# a=a_hat_FK_vlong\n",
    "# a=0\n",
    "# D=D_hat_FK#,wjr=wjr,interp=interp,ax=ax,\n",
    "# model_name='fk_pbc'#;c='C0'\n",
    "# # a=a_hat_LR;D=D_hat_LR#,wjr=wjr,interp=interp,ax=ax,\n",
    "# # model_name='lr_pbc'#;c='C1'\n",
    "# #compute annihilation rates fit to the LR model\n",
    "# nu_full=wjr[model_name]['m']\n",
    "# M_full=wjr[model_name]['M']\n",
    "# q_values=np.linspace(0.01,20)\n",
    "# w_values=M_full*q_values**nu_full\n",
    "\n",
    "# if model_name=='lr_pbc':\n",
    "#     model_name_string='Luo-Rudy'\n",
    "# elif model_name=='fk_pbc':\n",
    "#     model_name_string='Fenton-Karma'\n",
    "# else:\n",
    "#     model_name_string='??'\n",
    "\n",
    "# #find a best r,kappa pair for a given a,D pair for a given full model\n",
    "# args=a,D,q_values,w_values,interp\n",
    "# bnds = ((1e-3, 2), (1e2, 1e4))\n",
    "# x0 = (0.1, 500)\n",
    "# # res = minimize(comp_rmse_via_interp, (0.1, 500), args, method='Nelder-Mead', bounds=bnds,tol=1e-3)\n",
    "# res = minimize(comp_rmse_via_interp, (0.1, 500), args, method='Nelder-Mead', bounds=bnds,tol=1e-3)\n",
    "# mse=comp_mse_via_interp(res.x, *args)\n",
    "# rmse=np.sqrt(mse)\n",
    "\n",
    "# # #set attraction coefficient to zero\n",
    "# # a=0\n",
    "\n",
    "# #compute the resulting annihilation rates\n",
    "# r=res.x[0]\n",
    "# kappa=res.x[1]\n",
    "# X=np.array([[r,kappa,a,D]])\n",
    "# yhat = interp(X)\n",
    "# nu=yhat[0,0]\n",
    "# M=yhat[0,1]\n",
    "# what_values=M*q_values**nu\n",
    "\n",
    "# q_values_fk=q_values.copy()\n",
    "# what_values_fk=what_values.copy()\n",
    "\n",
    "# #TODO: initialize changing parameters\n",
    "# print(f\"initializing parameters to:\")\n",
    "# print(f\"a={a}, D={D}, r={r}, kappa={kappa}, rmse={rmse}\")\n",
    "# a0=float(a); D0=float(D); r0=float(r); kappa0=float(kappa);\n",
    "# dict_fk=dict(r=r,kappa=kappa,nu=nu,M=M,rmse=rmse,res=res)"
   ]
  },
  {
   "cell_type": "markdown",
   "id": "e8b15007",
   "metadata": {
    "heading_collapsed": true
   },
   "source": [
    "# scratchwerk"
   ]
  },
  {
   "cell_type": "code",
   "execution_count": null,
   "id": "f7e11539",
   "metadata": {
    "hidden": true
   },
   "outputs": [],
   "source": []
  },
  {
   "cell_type": "code",
   "execution_count": null,
   "id": "d11189ef",
   "metadata": {
    "hidden": true
   },
   "outputs": [],
   "source": []
  },
  {
   "cell_type": "code",
   "execution_count": null,
   "id": "dae2b0c4",
   "metadata": {
    "hidden": true
   },
   "outputs": [],
   "source": []
  },
  {
   "cell_type": "code",
   "execution_count": null,
   "id": "8f438467",
   "metadata": {
    "ExecuteTime": {
     "end_time": "2022-01-04T19:17:02.348603Z",
     "start_time": "2022-01-04T19:17:02.348592Z"
    },
    "hidden": true
   },
   "outputs": [],
   "source": [
    "\n",
    "fontsize = 20\n",
    "x1lim = [8e-2, 1.1]  #[1e-1, 1]\n",
    "x2lim = [1e-2, 25]\n",
    "# x1lim=[5,10]\n",
    "# x2lim=[50,350]\n",
    "figsize = (6, 4)  #(5,4)\n",
    "fig, ax = plt.subplots(figsize=figsize)\n",
    "#fit the particle model to the luo-rudy model\n",
    "dict_out_lr=PlotParticlModelAnnihilationRateFit(a=a_hat_LR,D=D_hat_LR,wjr=wjr,interp=interp,\n",
    "    ax=ax,model_name='lr_pbc',c='C1')\n",
    "#fit the particle model to the fenton-karma model\n",
    "dict_out_fk=PlotParticlModelAnnihilationRateFit(a=a_hat_FK_vlong,D=D_hat_FK,wjr=wjr,interp=interp,\n",
    "    ax=ax,model_name='fk_pbc',c='C0')\n",
    "print(f\"\\ndict_out_fk:\")\n",
    "print_dict(dict_out_fk)\n",
    "print(f\"dict_out_lr:\")\n",
    "print_dict(dict_out_lr)"
   ]
  },
  {
   "cell_type": "code",
   "execution_count": null,
   "id": "6b8673d1",
   "metadata": {
    "ExecuteTime": {
     "end_time": "2022-01-04T19:17:02.349627Z",
     "start_time": "2022-01-04T19:17:02.349615Z"
    },
    "hidden": true
   },
   "outputs": [],
   "source": [
    "#TODO(option A): keep it simple, stupid!\n",
    "#TODO(option B): keep it in the function\n",
    "#TODO: add options to change lines from dashed to dotted\n",
    "#TODO: add option for yoffset\n",
    "#TODO: add option for ylabel of fit"
   ]
  },
  {
   "cell_type": "code",
   "execution_count": null,
   "id": "fe801fd0",
   "metadata": {
    "hidden": true
   },
   "outputs": [],
   "source": []
  },
  {
   "cell_type": "code",
   "execution_count": null,
   "id": "dda8f98b",
   "metadata": {
    "hidden": true
   },
   "outputs": [],
   "source": []
  },
  {
   "cell_type": "code",
   "execution_count": null,
   "id": "6678088d",
   "metadata": {
    "ExecuteTime": {
     "end_time": "2022-01-04T19:17:02.350572Z",
     "start_time": "2022-01-04T19:17:02.350561Z"
    },
    "hidden": true
   },
   "outputs": [],
   "source": [
    "fontsize = 20\n",
    "x1lim = [8e-2, 1.1]  #[1e-1, 1]\n",
    "x2lim = [1e-2, 25]\n",
    "# x1lim=[5,10]\n",
    "# x2lim=[50,350]\n",
    "figsize = (6, 4)  #(5,4)\n",
    "fig, ax = plt.subplots(figsize=figsize)\n",
    "#fit the particle model to the luo-rudy model\n",
    "dict_out_lr=PlotParticlModelAnnihilationRateFit(a=0,D=D_hat_LR,wjr=wjr,interp=interp,\n",
    "    ax=ax,model_name='lr_pbc',c='C1')\n",
    "#fit the particle model to the fenton-karma model\n",
    "dict_out_fk=PlotParticlModelAnnihilationRateFit(a=0,D=D_hat_FK,wjr=wjr,interp=interp,\n",
    "    ax=ax,model_name='fk_pbc',c='C0')\n",
    "print(f\"\\ndict_out_fk:\")\n",
    "print_dict(dict_out_fk)\n",
    "print(f\"dict_out_lr:\")\n",
    "print_dict(dict_out_lr)"
   ]
  },
  {
   "cell_type": "code",
   "execution_count": null,
   "id": "8a6ca5fe",
   "metadata": {
    "ExecuteTime": {
     "end_time": "2022-01-04T19:17:02.351231Z",
     "start_time": "2022-01-04T19:17:02.351220Z"
    },
    "hidden": true
   },
   "outputs": [],
   "source": [
    "#TODO: fork PlotParticlModelAnnihilationRateFit into PlotParticlModelAnnihilationRateFitUnattractive and condition it on a=0 explicitely\n",
    "#HINT: it'll probably be easier if I \n",
    "#TODO: copy the whole PlotParticlModelAnnihilationRateFit\n",
    "#TODO: run each block separately until I get to evidence that the fit didn't work\n",
    "#..."
   ]
  },
  {
   "cell_type": "code",
   "execution_count": null,
   "id": "8b7af406",
   "metadata": {
    "ExecuteTime": {
     "end_time": "2022-01-04T19:17:02.351981Z",
     "start_time": "2022-01-04T19:17:02.351971Z"
    },
    "hidden": true
   },
   "outputs": [],
   "source": [
    "#recall ^these fits from lib\n",
    "a,D,r,kappa,rmse=recall_particle_parameter_fits('luorudy')\n",
    "print(f\"a={a},    D={D}, r={r}, kappa={kappa},  rmse={rmse}\")\n",
    "a,D,r,kappa,rmse=recall_particle_parameter_fits('fentonkarma')\n",
    "print(f\"a={a}, D={D}, r={r}, kappa={kappa}, rmse={rmse}\")"
   ]
  }
 ],
 "metadata": {
  "hide_input": false,
  "kernelspec": {
   "display_name": "Python 3 (ipykernel)",
   "language": "python",
   "name": "python3"
  },
  "language_info": {
   "codemirror_mode": {
    "name": "ipython",
    "version": 3
   },
   "file_extension": ".py",
   "mimetype": "text/x-python",
   "name": "python",
   "nbconvert_exporter": "python",
   "pygments_lexer": "ipython3",
   "version": "3.9.5"
  },
  "nbTranslate": {
   "displayLangs": [
    "*"
   ],
   "hotkey": "alt-t",
   "langInMainMenu": true,
   "sourceLang": "en",
   "targetLang": "fr",
   "useGoogleTranslate": true
  },
  "toc": {
   "base_numbering": 1,
   "nav_menu": {},
   "number_sections": true,
   "sideBar": true,
   "skip_h1_title": false,
   "title_cell": "Table of Contents",
   "title_sidebar": "Contents",
   "toc_cell": false,
   "toc_position": {},
   "toc_section_display": true,
   "toc_window_display": false
  },
  "varInspector": {
   "cols": {
    "lenName": 16,
    "lenType": 16,
    "lenVar": 40
   },
   "kernels_config": {
    "python": {
     "delete_cmd_postfix": "",
     "delete_cmd_prefix": "del ",
     "library": "var_list.py",
     "varRefreshCmd": "print(var_dic_list())"
    },
    "r": {
     "delete_cmd_postfix": ") ",
     "delete_cmd_prefix": "rm(",
     "library": "var_list.r",
     "varRefreshCmd": "cat(var_dic_list()) "
    }
   },
   "types_to_exclude": [
    "module",
    "function",
    "builtin_function_or_method",
    "instance",
    "_Feature"
   ],
   "window_display": false
  }
 },
 "nbformat": 4,
 "nbformat_minor": 5
}
