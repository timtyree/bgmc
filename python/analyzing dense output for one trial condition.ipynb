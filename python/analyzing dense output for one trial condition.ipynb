{
 "cells": [
  {
   "cell_type": "markdown",
   "metadata": {},
   "source": [
    "# analyzing dense output\n",
    "Timothy Tyree<br>\n",
    "3.26.2021"
   ]
  },
  {
   "cell_type": "code",
   "execution_count": 3,
   "metadata": {
    "ExecuteTime": {
     "end_time": "2021-05-15T19:11:28.645440Z",
     "start_time": "2021-05-15T19:11:27.684653Z"
    }
   },
   "outputs": [],
   "source": [
    "darkmode=False\n",
    "from lib.my_initialization import *\n",
    "# For darkmode plots\n",
    "from jupyterthemes import jtplot\n",
    "jtplot.style(theme='monokai', context='notebook', ticks=True, grid=False)\n"
   ]
  },
  {
   "cell_type": "markdown",
   "metadata": {
    "heading_collapsed": true
   },
   "source": [
    "## plot the collision times"
   ]
  },
  {
   "cell_type": "code",
   "execution_count": 155,
   "metadata": {
    "ExecuteTime": {
     "end_time": "2021-03-27T00:25:55.742650Z",
     "start_time": "2021-03-27T00:25:55.704485Z"
    },
    "hidden": true
   },
   "outputs": [
    {
     "data": {
      "text/html": [
       "<div>\n",
       "<style scoped>\n",
       "    .dataframe tbody tr th:only-of-type {\n",
       "        vertical-align: middle;\n",
       "    }\n",
       "\n",
       "    .dataframe tbody tr th {\n",
       "        vertical-align: top;\n",
       "    }\n",
       "\n",
       "    .dataframe thead th {\n",
       "        text-align: right;\n",
       "    }\n",
       "</style>\n",
       "<table border=\"1\" class=\"dataframe\">\n",
       "  <thead>\n",
       "    <tr style=\"text-align: right;\">\n",
       "      <th></th>\n",
       "      <th>11</th>\n",
       "      <th>12</th>\n",
       "      <th>13</th>\n",
       "      <th>14</th>\n",
       "      <th>15</th>\n",
       "      <th>16</th>\n",
       "      <th>17</th>\n",
       "      <th>18</th>\n",
       "      <th>19</th>\n",
       "      <th>20</th>\n",
       "      <th>...</th>\n",
       "      <th>60</th>\n",
       "      <th>61</th>\n",
       "      <th>62</th>\n",
       "      <th>63</th>\n",
       "      <th>64</th>\n",
       "      <th>65</th>\n",
       "      <th>66</th>\n",
       "      <th>67</th>\n",
       "      <th>68</th>\n",
       "      <th>69</th>\n",
       "    </tr>\n",
       "  </thead>\n",
       "  <tbody>\n",
       "    <tr>\n",
       "      <th>0</th>\n",
       "      <td>2.47000</td>\n",
       "      <td>2.47000</td>\n",
       "      <td>2.47000</td>\n",
       "      <td>2.47000</td>\n",
       "      <td>2.47000</td>\n",
       "      <td>2.47000</td>\n",
       "      <td>0.69080</td>\n",
       "      <td>0.56114</td>\n",
       "      <td>0.56114</td>\n",
       "      <td>0.56114</td>\n",
       "      <td>...</td>\n",
       "      <td>0.06454</td>\n",
       "      <td>0.06454</td>\n",
       "      <td>0.06454</td>\n",
       "      <td>0.06454</td>\n",
       "      <td>0.06454</td>\n",
       "      <td>0.06454</td>\n",
       "      <td>0.06454</td>\n",
       "      <td>0.06454</td>\n",
       "      <td>0.06454</td>\n",
       "      <td>0.02795</td>\n",
       "    </tr>\n",
       "    <tr>\n",
       "      <th>1</th>\n",
       "      <td>1.18204</td>\n",
       "      <td>1.18204</td>\n",
       "      <td>1.18204</td>\n",
       "      <td>1.18204</td>\n",
       "      <td>1.18204</td>\n",
       "      <td>1.18204</td>\n",
       "      <td>1.18204</td>\n",
       "      <td>1.18204</td>\n",
       "      <td>1.18204</td>\n",
       "      <td>1.18204</td>\n",
       "      <td>...</td>\n",
       "      <td>0.10980</td>\n",
       "      <td>0.10980</td>\n",
       "      <td>0.02032</td>\n",
       "      <td>0.02032</td>\n",
       "      <td>0.02032</td>\n",
       "      <td>0.02032</td>\n",
       "      <td>0.02032</td>\n",
       "      <td>0.02032</td>\n",
       "      <td>0.02032</td>\n",
       "      <td>0.02032</td>\n",
       "    </tr>\n",
       "    <tr>\n",
       "      <th>2</th>\n",
       "      <td>0.81593</td>\n",
       "      <td>0.81593</td>\n",
       "      <td>0.81593</td>\n",
       "      <td>0.81593</td>\n",
       "      <td>0.81593</td>\n",
       "      <td>0.81593</td>\n",
       "      <td>0.81593</td>\n",
       "      <td>0.81593</td>\n",
       "      <td>0.81593</td>\n",
       "      <td>0.81593</td>\n",
       "      <td>...</td>\n",
       "      <td>0.03425</td>\n",
       "      <td>0.03425</td>\n",
       "      <td>0.03425</td>\n",
       "      <td>0.03425</td>\n",
       "      <td>0.03425</td>\n",
       "      <td>0.03425</td>\n",
       "      <td>0.03425</td>\n",
       "      <td>0.03425</td>\n",
       "      <td>0.03425</td>\n",
       "      <td>0.03425</td>\n",
       "    </tr>\n",
       "    <tr>\n",
       "      <th>3</th>\n",
       "      <td>0.14193</td>\n",
       "      <td>0.14193</td>\n",
       "      <td>0.14193</td>\n",
       "      <td>0.14193</td>\n",
       "      <td>0.14193</td>\n",
       "      <td>0.14193</td>\n",
       "      <td>0.14193</td>\n",
       "      <td>0.14193</td>\n",
       "      <td>0.14193</td>\n",
       "      <td>0.14193</td>\n",
       "      <td>...</td>\n",
       "      <td>0.03570</td>\n",
       "      <td>0.03570</td>\n",
       "      <td>0.03570</td>\n",
       "      <td>0.03570</td>\n",
       "      <td>0.02346</td>\n",
       "      <td>0.02346</td>\n",
       "      <td>0.02346</td>\n",
       "      <td>0.02346</td>\n",
       "      <td>0.02346</td>\n",
       "      <td>0.02346</td>\n",
       "    </tr>\n",
       "    <tr>\n",
       "      <th>4</th>\n",
       "      <td>2.43258</td>\n",
       "      <td>2.43258</td>\n",
       "      <td>2.43258</td>\n",
       "      <td>2.43258</td>\n",
       "      <td>2.43258</td>\n",
       "      <td>2.43258</td>\n",
       "      <td>2.43258</td>\n",
       "      <td>2.43258</td>\n",
       "      <td>2.43258</td>\n",
       "      <td>2.43258</td>\n",
       "      <td>...</td>\n",
       "      <td>0.00877</td>\n",
       "      <td>0.00877</td>\n",
       "      <td>0.00877</td>\n",
       "      <td>0.00877</td>\n",
       "      <td>0.00877</td>\n",
       "      <td>0.00877</td>\n",
       "      <td>0.00877</td>\n",
       "      <td>0.00877</td>\n",
       "      <td>0.00877</td>\n",
       "      <td>0.00877</td>\n",
       "    </tr>\n",
       "  </tbody>\n",
       "</table>\n",
       "<p>5 rows × 59 columns</p>\n",
       "</div>"
      ],
      "text/plain": [
       "        11       12       13       14       15       16       17       18  \\\n",
       "0  2.47000  2.47000  2.47000  2.47000  2.47000  2.47000  0.69080  0.56114   \n",
       "1  1.18204  1.18204  1.18204  1.18204  1.18204  1.18204  1.18204  1.18204   \n",
       "2  0.81593  0.81593  0.81593  0.81593  0.81593  0.81593  0.81593  0.81593   \n",
       "3  0.14193  0.14193  0.14193  0.14193  0.14193  0.14193  0.14193  0.14193   \n",
       "4  2.43258  2.43258  2.43258  2.43258  2.43258  2.43258  2.43258  2.43258   \n",
       "\n",
       "        19       20  ...       60       61       62       63       64  \\\n",
       "0  0.56114  0.56114  ...  0.06454  0.06454  0.06454  0.06454  0.06454   \n",
       "1  1.18204  1.18204  ...  0.10980  0.10980  0.02032  0.02032  0.02032   \n",
       "2  0.81593  0.81593  ...  0.03425  0.03425  0.03425  0.03425  0.03425   \n",
       "3  0.14193  0.14193  ...  0.03570  0.03570  0.03570  0.03570  0.02346   \n",
       "4  2.43258  2.43258  ...  0.00877  0.00877  0.00877  0.00877  0.00877   \n",
       "\n",
       "        65       66       67       68       69  \n",
       "0  0.06454  0.06454  0.06454  0.06454  0.02795  \n",
       "1  0.02032  0.02032  0.02032  0.02032  0.02032  \n",
       "2  0.03425  0.03425  0.03425  0.03425  0.03425  \n",
       "3  0.02346  0.02346  0.02346  0.02346  0.02346  \n",
       "4  0.00877  0.00877  0.00877  0.00877  0.00877  \n",
       "\n",
       "[5 rows x 59 columns]"
      ]
     },
     "execution_count": 155,
     "metadata": {},
     "output_type": "execute_result"
    }
   ],
   "source": [
    "#load the example data\n",
    "# os.chdir(nb_dir)\n",
    "# data_dir='data/out.csv'\n",
    "# assert ( os.path.exists(data_dir) ) \n",
    "# df=pd.read_csv(data_dir,lineterminator=None)\n",
    "\n",
    "#load a log file\n",
    "input_folder=f\"{nb_dir}/data\"\n",
    "input_fn='example.log'\n",
    "os.chdir(input_folder)\n",
    "df=parse_output_log(input_fn, include_inputs=False,printing=False)\n",
    "Ntrials=df.index.values.shape[0]\n",
    "Nmin=11\n",
    "df.drop(columns=[f'{i}' for i in range(Nmin)], inplace=True)\n",
    "#any duds still there?\n",
    "assert ( not (df.values<-9000).any() )\n",
    "df.head()"
   ]
  },
  {
   "cell_type": "code",
   "execution_count": 156,
   "metadata": {
    "ExecuteTime": {
     "end_time": "2021-03-27T00:26:00.433673Z",
     "start_time": "2021-03-27T00:26:00.297438Z"
    },
    "hidden": true
   },
   "outputs": [
    {
     "data": {
      "text/html": [
       "<div>\n",
       "<style scoped>\n",
       "    .dataframe tbody tr th:only-of-type {\n",
       "        vertical-align: middle;\n",
       "    }\n",
       "\n",
       "    .dataframe tbody tr th {\n",
       "        vertical-align: top;\n",
       "    }\n",
       "\n",
       "    .dataframe thead th {\n",
       "        text-align: right;\n",
       "    }\n",
       "</style>\n",
       "<table border=\"1\" class=\"dataframe\">\n",
       "  <thead>\n",
       "    <tr style=\"text-align: right;\">\n",
       "      <th></th>\n",
       "      <th>mean</th>\n",
       "      <th>std</th>\n",
       "      <th>min</th>\n",
       "      <th>25%</th>\n",
       "      <th>50%</th>\n",
       "      <th>75%</th>\n",
       "      <th>max</th>\n",
       "    </tr>\n",
       "  </thead>\n",
       "  <tbody>\n",
       "    <tr>\n",
       "      <th>11</th>\n",
       "      <td>1.282126</td>\n",
       "      <td>1.340333</td>\n",
       "      <td>0.00269</td>\n",
       "      <td>0.311847</td>\n",
       "      <td>0.852540</td>\n",
       "      <td>1.832960</td>\n",
       "      <td>7.00783</td>\n",
       "    </tr>\n",
       "    <tr>\n",
       "      <th>12</th>\n",
       "      <td>1.090162</td>\n",
       "      <td>1.123887</td>\n",
       "      <td>0.00269</td>\n",
       "      <td>0.276240</td>\n",
       "      <td>0.735680</td>\n",
       "      <td>1.507798</td>\n",
       "      <td>6.12881</td>\n",
       "    </tr>\n",
       "    <tr>\n",
       "      <th>13</th>\n",
       "      <td>0.898572</td>\n",
       "      <td>0.930067</td>\n",
       "      <td>0.00269</td>\n",
       "      <td>0.261888</td>\n",
       "      <td>0.639650</td>\n",
       "      <td>1.217553</td>\n",
       "      <td>5.53320</td>\n",
       "    </tr>\n",
       "    <tr>\n",
       "      <th>14</th>\n",
       "      <td>0.776358</td>\n",
       "      <td>0.756320</td>\n",
       "      <td>0.00269</td>\n",
       "      <td>0.222100</td>\n",
       "      <td>0.601945</td>\n",
       "      <td>1.057830</td>\n",
       "      <td>4.84248</td>\n",
       "    </tr>\n",
       "    <tr>\n",
       "      <th>15</th>\n",
       "      <td>0.660640</td>\n",
       "      <td>0.661866</td>\n",
       "      <td>0.00108</td>\n",
       "      <td>0.172733</td>\n",
       "      <td>0.502590</td>\n",
       "      <td>0.893335</td>\n",
       "      <td>3.97202</td>\n",
       "    </tr>\n",
       "  </tbody>\n",
       "</table>\n",
       "</div>"
      ],
      "text/plain": [
       "        mean       std      min       25%       50%       75%      max\n",
       "11  1.282126  1.340333  0.00269  0.311847  0.852540  1.832960  7.00783\n",
       "12  1.090162  1.123887  0.00269  0.276240  0.735680  1.507798  6.12881\n",
       "13  0.898572  0.930067  0.00269  0.261888  0.639650  1.217553  5.53320\n",
       "14  0.776358  0.756320  0.00269  0.222100  0.601945  1.057830  4.84248\n",
       "15  0.660640  0.661866  0.00108  0.172733  0.502590  0.893335  3.97202"
      ]
     },
     "execution_count": 156,
     "metadata": {},
     "output_type": "execute_result"
    }
   ],
   "source": [
    "dfd=df.describe().T.drop(columns=['count'])\n",
    "dfd.head()"
   ]
  },
  {
   "cell_type": "code",
   "execution_count": 157,
   "metadata": {
    "ExecuteTime": {
     "end_time": "2021-03-27T00:26:02.417060Z",
     "start_time": "2021-03-27T00:26:02.411472Z"
    },
    "hidden": true
   },
   "outputs": [],
   "source": [
    "#extract the values\n",
    "x_values=np.array([eval(x) for x in dfd.index.values])\n",
    "y_values=np.array(dfd['50%'].values)\n",
    "yerr1_values=np.array(dfd['25%'].values)\n",
    "yerr2_values=np.array(dfd['75%'].values)\n",
    "\n",
    "y2_values=np.array(dfd['mean'].values)\n",
    "y2err1_values=y2_values-np.array(dfd['std'].values)\n",
    "y2err2_values=y2_values+np.array(dfd['std'].values)"
   ]
  },
  {
   "cell_type": "code",
   "execution_count": 158,
   "metadata": {
    "ExecuteTime": {
     "end_time": "2021-03-27T00:26:04.564489Z",
     "start_time": "2021-03-27T00:26:03.380555Z"
    },
    "hidden": true
   },
   "outputs": [
    {
     "name": "stdout",
     "output_type": "stream",
     "text": [
      "saved figure in \n",
      "\tcolltimes.png\n"
     ]
    },
    {
     "data": {
      "image/png": "[encoded data removed]",
      "text/plain": [
       "<Figure size 864x432 with 2 Axes>"
      ]
     },
     "metadata": {},
     "output_type": "display_data"
    }
   ],
   "source": [
    "#plot the values\n",
    "figsize=(12,6)\n",
    "fontsize=18\n",
    "saving=True\n",
    "savefig_folder=f'{nb_dir}/../fig'\n",
    "savefig_fn='colltimes.png'\n",
    "fig, axs = plt.subplots(ncols=2,figsize=figsize)\n",
    "ax=axs[1]\n",
    "ax.fill_between(x_values,yerr1_values,yerr2_values,alpha=0.3)\n",
    "ax.plot(x_values,y_values,lw=2)\n",
    "ax.set_xlabel('n', fontsize=fontsize)\n",
    "ax.set_ylabel(r'time to first collision (sec)', fontsize=fontsize)\n",
    "ax.tick_params(axis='both', which='major', labelsize=fontsize)\n",
    "ax.tick_params(axis='both', which='minor', labelsize=0)\n",
    "ax.set_title('median', fontsize=fontsize)\n",
    "ax=axs[0]\n",
    "ax.fill_between(x_values,y2err1_values,y2err2_values,alpha=0.3)\n",
    "ax.plot(x_values,y2_values,lw=2)\n",
    "ax.set_xlabel('n', fontsize=fontsize)\n",
    "ax.set_ylabel(r'time to first collision (sec)', fontsize=fontsize)\n",
    "ax.tick_params(axis='both', which='major', labelsize=fontsize)\n",
    "ax.tick_params(axis='both', which='minor', labelsize=0)\n",
    "ax.set_title('mean', fontsize=fontsize)\n",
    "fig.tight_layout()\n",
    "if not saving:\n",
    "    plt.show()\n",
    "else:\n",
    "    plt.tight_layout()\n",
    "    os.chdir(savefig_folder)\n",
    "    plt.savefig(savefig_fn, dpi=300)\n",
    "    print(f\"saved figure in \\n\\t{savefig_fn}\")\n",
    "#     plt.close()"
   ]
  },
  {
   "cell_type": "markdown",
   "metadata": {
    "ExecuteTime": {
     "end_time": "2021-03-26T22:56:37.637402Z",
     "start_time": "2021-03-26T22:56:37.633163Z"
    },
    "heading_collapsed": true
   },
   "source": [
    "## plot the collision rates"
   ]
  },
  {
   "cell_type": "code",
   "execution_count": 163,
   "metadata": {
    "ExecuteTime": {
     "end_time": "2021-03-27T00:27:21.436228Z",
     "start_time": "2021-03-27T00:27:20.226905Z"
    },
    "hidden": true
   },
   "outputs": [
    {
     "name": "stdout",
     "output_type": "stream",
     "text": [
      "saved figure in \n",
      "\tcollrates.png\n"
     ]
    },
    {
     "data": {
      "image/png": "[encoded data removed]",
      "text/plain": [
       "<Figure size 864x432 with 2 Axes>"
      ]
     },
     "metadata": {},
     "output_type": "display_data"
    }
   ],
   "source": [
    "#plot the values\n",
    "figsize=(12,6)\n",
    "fontsize=18\n",
    "saving=True\n",
    "savefig_folder=f'{nb_dir}/../fig'\n",
    "savefig_fn='collrates.png'\n",
    "fig, axs = plt.subplots(ncols=2,figsize=figsize)\n",
    "ax=axs[1]\n",
    "ax.fill_between(x_values,1/yerr2_values,1/yerr1_values,alpha=0.3)\n",
    "ax.plot(x_values,1/y_values,lw=2)\n",
    "ax.set_xlabel('n', fontsize=fontsize)\n",
    "ax.set_ylabel(r'$W_{{-2}}$ (1/sec)', fontsize=fontsize)\n",
    "ax.tick_params(axis='both', which='major', labelsize=fontsize)\n",
    "ax.tick_params(axis='both', which='minor', labelsize=0)\n",
    "ax.set_title('median', fontsize=fontsize)\n",
    "ax=axs[0]\n",
    "# ax.fill_between(x_values,1/y2err2_values,1/y2err1_values,alpha=0.3)\n",
    "ax.plot(x_values,1/y2_values,lw=2)\n",
    "ax.set_xlabel('n', fontsize=fontsize)\n",
    "ax.set_ylabel(r'$W_{{-2}}$ (1/sec)', fontsize=fontsize)\n",
    "ax.tick_params(axis='both', which='major', labelsize=fontsize)\n",
    "ax.tick_params(axis='both', which='minor', labelsize=0)\n",
    "# ax.set_ylim([0,1])\n",
    "ax.set_title('mean', fontsize=fontsize)\n",
    "fig.tight_layout()\n",
    "if not saving:\n",
    "    plt.show()\n",
    "else:\n",
    "    plt.tight_layout()\n",
    "    os.chdir(savefig_folder)\n",
    "    plt.savefig(savefig_fn, dpi=300)\n",
    "    print(f\"saved figure in \\n\\t{savefig_fn}\")\n",
    "#     plt.close()"
   ]
  },
  {
   "cell_type": "markdown",
   "metadata": {
    "heading_collapsed": true
   },
   "source": [
    "## Results\n",
    "collision rates/times are being generated with uncertainty that cannot be reliably quantified in terms of mean and standard deviation. Therefore, output logs must include dense output"
   ]
  },
  {
   "cell_type": "markdown",
   "metadata": {
    "ExecuteTime": {
     "end_time": "2021-03-26T23:00:48.107778Z",
     "start_time": "2021-03-26T23:00:48.104851Z"
    },
    "hidden": true
   },
   "source": [
    "- DONE: dev parsing output logs\n",
    "- DONE: generate run_1.dat and run_test.dat\n"
   ]
  },
  {
   "cell_type": "code",
   "execution_count": 144,
   "metadata": {
    "ExecuteTime": {
     "end_time": "2021-03-27T00:08:15.502384Z",
     "start_time": "2021-03-27T00:08:15.494617Z"
    },
    "hidden": true
   },
   "outputs": [],
   "source": [
    "def parse_output_log(input_fn,include_inputs=True,printing=False):\n",
    "    with open(input_fn) as f:\n",
    "        trgt1='Printing Inputs...\\n'\n",
    "        trgt2='Printing Outputs...\\n'\n",
    "        for n,line in enumerate(f):\n",
    "            if trgt1 == line:\n",
    "                if printing:\n",
    "                    print(f'found inputs starting after line {n}')\n",
    "                n_input=n\n",
    "            if trgt2 == line:\n",
    "                if printing:\n",
    "                    print(f'found outputs starting after line {n}')\n",
    "                n_output=n\n",
    "\n",
    "    with open(input_fn) as f:\n",
    "        inputs=f.readlines()[n_input+1:n_output-1]\n",
    "    col_name_lst=[]\n",
    "    col_value_lst=[]\n",
    "    for line in inputs:\n",
    "        string=line.split(' ')[-1]\n",
    "        eid=string.find('=')\n",
    "        if eid!=-1:\n",
    "            col_name=string[:eid]\n",
    "            col_value=eval(string[eid+1:-2])\n",
    "            col_name_lst.append(col_name)\n",
    "            col_value_lst.append(col_value)\n",
    "    df=pd.read_csv(input_fn,header=n_output-2)\n",
    "    #drop that 'Unammed: {Nmax}' column \n",
    "    df.drop(columns=[df.columns[-1]], inplace=True)\n",
    "    if include_inputs:\n",
    "        if printing:\n",
    "            print(\"input parameters were:\")\n",
    "            print(col_name_lst)\n",
    "            print(col_value_lst)\n",
    "            print(\"returning outputs as pandas.DataFrame instance\")\n",
    "        for name,value in zip ( col_name_lst, col_value_lst):\n",
    "            df[name]=value\n",
    "    return df"
   ]
  },
  {
   "cell_type": "code",
   "execution_count": 147,
   "metadata": {
    "ExecuteTime": {
     "end_time": "2021-03-27T00:21:36.523568Z",
     "start_time": "2021-03-27T00:21:36.460090Z"
    },
    "hidden": true
   },
   "outputs": [
    {
     "name": "stdout",
     "output_type": "stream",
     "text": [
      "found inputs starting after line 10\n",
      "found outputs starting after line 17\n",
      "input parameters were:\n",
      "['r', 'D', 'L', 'kappa', 'dt']\n",
      "[5.0, 1.56, 2.025, 1.0, 1.0]\n",
      "returning outputs as pandas.DataFrame instance\n"
     ]
    },
    {
     "data": {
      "text/html": [
       "<div>\n",
       "<style scoped>\n",
       "    .dataframe tbody tr th:only-of-type {\n",
       "        vertical-align: middle;\n",
       "    }\n",
       "\n",
       "    .dataframe tbody tr th {\n",
       "        vertical-align: top;\n",
       "    }\n",
       "\n",
       "    .dataframe thead th {\n",
       "        text-align: right;\n",
       "    }\n",
       "</style>\n",
       "<table border=\"1\" class=\"dataframe\">\n",
       "  <thead>\n",
       "    <tr style=\"text-align: right;\">\n",
       "      <th></th>\n",
       "      <th>0</th>\n",
       "      <th>1</th>\n",
       "      <th>2</th>\n",
       "      <th>3</th>\n",
       "      <th>4</th>\n",
       "      <th>5</th>\n",
       "      <th>6</th>\n",
       "      <th>7</th>\n",
       "      <th>8</th>\n",
       "      <th>9</th>\n",
       "      <th>...</th>\n",
       "      <th>65</th>\n",
       "      <th>66</th>\n",
       "      <th>67</th>\n",
       "      <th>68</th>\n",
       "      <th>69</th>\n",
       "      <th>r</th>\n",
       "      <th>D</th>\n",
       "      <th>L</th>\n",
       "      <th>kappa</th>\n",
       "      <th>dt</th>\n",
       "    </tr>\n",
       "  </thead>\n",
       "  <tbody>\n",
       "    <tr>\n",
       "      <th>0</th>\n",
       "      <td>-9.99900e+03</td>\n",
       "      <td>-9999.00000</td>\n",
       "      <td>-9999.00000</td>\n",
       "      <td>-9999.00000</td>\n",
       "      <td>-9999.00000</td>\n",
       "      <td>-9999.00000</td>\n",
       "      <td>-9999.00000</td>\n",
       "      <td>-9999.00000</td>\n",
       "      <td>-9999.00000</td>\n",
       "      <td>2.47000</td>\n",
       "      <td>...</td>\n",
       "      <td>0.06454</td>\n",
       "      <td>0.06454</td>\n",
       "      <td>0.06454</td>\n",
       "      <td>0.06454</td>\n",
       "      <td>0.02795</td>\n",
       "      <td>5.0</td>\n",
       "      <td>1.56</td>\n",
       "      <td>2.025</td>\n",
       "      <td>1.0</td>\n",
       "      <td>1.0</td>\n",
       "    </tr>\n",
       "    <tr>\n",
       "      <th>1</th>\n",
       "      <td>-9.99900e+03</td>\n",
       "      <td>-9999.00000</td>\n",
       "      <td>-9999.00000</td>\n",
       "      <td>-9999.00000</td>\n",
       "      <td>-9999.00000</td>\n",
       "      <td>-9999.00000</td>\n",
       "      <td>-9999.00000</td>\n",
       "      <td>-9999.00000</td>\n",
       "      <td>-9999.00000</td>\n",
       "      <td>1.18204</td>\n",
       "      <td>...</td>\n",
       "      <td>0.02032</td>\n",
       "      <td>0.02032</td>\n",
       "      <td>0.02032</td>\n",
       "      <td>0.02032</td>\n",
       "      <td>0.02032</td>\n",
       "      <td>5.0</td>\n",
       "      <td>1.56</td>\n",
       "      <td>2.025</td>\n",
       "      <td>1.0</td>\n",
       "      <td>1.0</td>\n",
       "    </tr>\n",
       "    <tr>\n",
       "      <th>2</th>\n",
       "      <td>-9.99900e+03</td>\n",
       "      <td>-9999.00000</td>\n",
       "      <td>-9999.00000</td>\n",
       "      <td>-9999.00000</td>\n",
       "      <td>-9999.00000</td>\n",
       "      <td>-9999.00000</td>\n",
       "      <td>-9999.00000</td>\n",
       "      <td>-9999.00000</td>\n",
       "      <td>-9999.00000</td>\n",
       "      <td>-9999.00000</td>\n",
       "      <td>...</td>\n",
       "      <td>0.03425</td>\n",
       "      <td>0.03425</td>\n",
       "      <td>0.03425</td>\n",
       "      <td>0.03425</td>\n",
       "      <td>0.03425</td>\n",
       "      <td>5.0</td>\n",
       "      <td>1.56</td>\n",
       "      <td>2.025</td>\n",
       "      <td>1.0</td>\n",
       "      <td>1.0</td>\n",
       "    </tr>\n",
       "    <tr>\n",
       "      <th>3</th>\n",
       "      <td>-9.99900e+03</td>\n",
       "      <td>0.14193</td>\n",
       "      <td>0.14193</td>\n",
       "      <td>0.14193</td>\n",
       "      <td>0.14193</td>\n",
       "      <td>0.14193</td>\n",
       "      <td>0.14193</td>\n",
       "      <td>0.14193</td>\n",
       "      <td>0.14193</td>\n",
       "      <td>0.14193</td>\n",
       "      <td>...</td>\n",
       "      <td>0.02346</td>\n",
       "      <td>0.02346</td>\n",
       "      <td>0.02346</td>\n",
       "      <td>0.02346</td>\n",
       "      <td>0.02346</td>\n",
       "      <td>5.0</td>\n",
       "      <td>1.56</td>\n",
       "      <td>2.025</td>\n",
       "      <td>1.0</td>\n",
       "      <td>1.0</td>\n",
       "    </tr>\n",
       "    <tr>\n",
       "      <th>4</th>\n",
       "      <td>-9.99900e+03</td>\n",
       "      <td>-9999.00000</td>\n",
       "      <td>-9999.00000</td>\n",
       "      <td>-9999.00000</td>\n",
       "      <td>-9999.00000</td>\n",
       "      <td>-9999.00000</td>\n",
       "      <td>-9999.00000</td>\n",
       "      <td>-9999.00000</td>\n",
       "      <td>-9999.00000</td>\n",
       "      <td>-9999.00000</td>\n",
       "      <td>...</td>\n",
       "      <td>0.00877</td>\n",
       "      <td>0.00877</td>\n",
       "      <td>0.00877</td>\n",
       "      <td>0.00877</td>\n",
       "      <td>0.00877</td>\n",
       "      <td>5.0</td>\n",
       "      <td>1.56</td>\n",
       "      <td>2.025</td>\n",
       "      <td>1.0</td>\n",
       "      <td>1.0</td>\n",
       "    </tr>\n",
       "  </tbody>\n",
       "</table>\n",
       "<p>5 rows × 75 columns</p>\n",
       "</div>"
      ],
      "text/plain": [
       "              0           1           2           3           4           5  \\\n",
       "0  -9.99900e+03 -9999.00000 -9999.00000 -9999.00000 -9999.00000 -9999.00000   \n",
       "1  -9.99900e+03 -9999.00000 -9999.00000 -9999.00000 -9999.00000 -9999.00000   \n",
       "2  -9.99900e+03 -9999.00000 -9999.00000 -9999.00000 -9999.00000 -9999.00000   \n",
       "3  -9.99900e+03     0.14193     0.14193     0.14193     0.14193     0.14193   \n",
       "4  -9.99900e+03 -9999.00000 -9999.00000 -9999.00000 -9999.00000 -9999.00000   \n",
       "\n",
       "            6           7           8           9  ...       65       66  \\\n",
       "0 -9999.00000 -9999.00000 -9999.00000     2.47000  ...  0.06454  0.06454   \n",
       "1 -9999.00000 -9999.00000 -9999.00000     1.18204  ...  0.02032  0.02032   \n",
       "2 -9999.00000 -9999.00000 -9999.00000 -9999.00000  ...  0.03425  0.03425   \n",
       "3     0.14193     0.14193     0.14193     0.14193  ...  0.02346  0.02346   \n",
       "4 -9999.00000 -9999.00000 -9999.00000 -9999.00000  ...  0.00877  0.00877   \n",
       "\n",
       "        67       68       69    r     D      L  kappa   dt  \n",
       "0  0.06454  0.06454  0.02795  5.0  1.56  2.025    1.0  1.0  \n",
       "1  0.02032  0.02032  0.02032  5.0  1.56  2.025    1.0  1.0  \n",
       "2  0.03425  0.03425  0.03425  5.0  1.56  2.025    1.0  1.0  \n",
       "3  0.02346  0.02346  0.02346  5.0  1.56  2.025    1.0  1.0  \n",
       "4  0.00877  0.00877  0.00877  5.0  1.56  2.025    1.0  1.0  \n",
       "\n",
       "[5 rows x 75 columns]"
      ]
     },
     "execution_count": 147,
     "metadata": {},
     "output_type": "execute_result"
    }
   ],
   "source": [
    "input_folder=f\"{nb_dir}/data\"\n",
    "input_fn='example.log'\n",
    "os.chdir(input_folder)\n",
    "df=parse_output_log(input_fn, include_inputs=True,printing=True)\n",
    "df.head()"
   ]
  },
  {
   "cell_type": "markdown",
   "metadata": {
    "heading_collapsed": true
   },
   "source": [
    "## generate run_1.dat \n"
   ]
  },
  {
   "cell_type": "code",
   "execution_count": 167,
   "metadata": {
    "ExecuteTime": {
     "end_time": "2021-03-27T01:12:20.622039Z",
     "start_time": "2021-03-27T01:12:20.616207Z"
    },
    "hidden": true
   },
   "outputs": [
    {
     "data": {
      "text/plain": [
       "array([13.74772708, 12.5       , 10.        ,  7.5       ,  7.07106781,\n",
       "        6.244998  ,  5.        ,  4.5       ])"
      ]
     },
     "execution_count": 167,
     "metadata": {},
     "output_type": "execute_result"
    }
   ],
   "source": [
    "A_values=np.array([20.25,25,39,50,56.25,100,156.25,189])[::-1]\n",
    "L_values=np.sqrt(A_values)\n",
    "L_values"
   ]
  },
  {
   "cell_type": "code",
   "execution_count": 183,
   "metadata": {
    "ExecuteTime": {
     "end_time": "2021-03-27T01:16:17.784240Z",
     "start_time": "2021-03-27T01:16:17.775926Z"
    },
    "hidden": true
   },
   "outputs": [
    {
     "name": "stdout",
     "output_type": "stream",
     "text": [
      "6912\n"
     ]
    }
   ],
   "source": [
    "niter=250 #trials per worker\n",
    "r_values=np.array([0.1,0.2,0.3,0.4,0.5,1.0])#cm\n",
    "D_values=np.array([0.25,0.5,0.75,1.0,1.25,1.5,1.75,2.0])#cm^2/s\n",
    "A_values=np.array([20.25,25,39,50,56.25,100,156.25,189])[::-1]#cm^2\n",
    "L_values=np.sqrt(A_values)#cm\n",
    "kappa_values=np.array([1,10,100])#1/s\n",
    "num_trials_per_setting=6\n",
    "#iterate over settings, scheduling the longest jobs first\n",
    "count=0\n",
    "for r in r_values:\n",
    "    for D in D_values:\n",
    "        for L in L_values:\n",
    "            for kappa in kappa_values:\n",
    "                num_trials=0\n",
    "                while num_trials<num_trials_per_setting:\n",
    "                    num_trials+=1\n",
    "                    count=count+1\n",
    "print(count)"
   ]
  },
  {
   "cell_type": "markdown",
   "metadata": {
    "heading_collapsed": true
   },
   "source": [
    "## debugging log parsing"
   ]
  },
  {
   "cell_type": "code",
   "execution_count": 16,
   "metadata": {
    "ExecuteTime": {
     "end_time": "2021-03-27T21:37:21.584129Z",
     "start_time": "2021-03-27T21:37:21.573356Z"
    },
    "hidden": true
   },
   "outputs": [
    {
     "name": "stdout",
     "output_type": "stream",
     "text": [
      "found inputs starting after line 11\n",
      "found outputs starting after line 18\n"
     ]
    },
    {
     "ename": "NameError",
     "evalue": "name 'pd' is not defined",
     "output_type": "error",
     "traceback": [
      "\u001b[0;31m---------------------------------------------------------------------------\u001b[0m",
      "\u001b[0;31mNameError\u001b[0m                                 Traceback (most recent call last)",
      "\u001b[0;32m<ipython-input-16-ab002f34ac44>\u001b[0m in \u001b[0;36m<module>\u001b[0;34m\u001b[0m\n\u001b[1;32m     29\u001b[0m         \u001b[0mcol_name_lst\u001b[0m\u001b[0;34m.\u001b[0m\u001b[0mappend\u001b[0m\u001b[0;34m(\u001b[0m\u001b[0mcol_name\u001b[0m\u001b[0;34m)\u001b[0m\u001b[0;34m\u001b[0m\u001b[0;34m\u001b[0m\u001b[0m\n\u001b[1;32m     30\u001b[0m         \u001b[0mcol_value_lst\u001b[0m\u001b[0;34m.\u001b[0m\u001b[0mappend\u001b[0m\u001b[0;34m(\u001b[0m\u001b[0mcol_value\u001b[0m\u001b[0;34m)\u001b[0m\u001b[0;34m\u001b[0m\u001b[0;34m\u001b[0m\u001b[0m\n\u001b[0;32m---> 31\u001b[0;31m \u001b[0mdf\u001b[0m\u001b[0;34m=\u001b[0m\u001b[0mpd\u001b[0m\u001b[0;34m.\u001b[0m\u001b[0mread_csv\u001b[0m\u001b[0;34m(\u001b[0m\u001b[0minput_fn\u001b[0m\u001b[0;34m,\u001b[0m\u001b[0mheader\u001b[0m\u001b[0;34m=\u001b[0m\u001b[0mn_output\u001b[0m\u001b[0;34m-\u001b[0m\u001b[0;36m1\u001b[0m\u001b[0;34m)\u001b[0m\u001b[0;34m\u001b[0m\u001b[0;34m\u001b[0m\u001b[0m\n\u001b[0m\u001b[1;32m     32\u001b[0m \u001b[0;31m#drop that 'Unammed: {Nmax}' column\u001b[0m\u001b[0;34m\u001b[0m\u001b[0;34m\u001b[0m\u001b[0;34m\u001b[0m\u001b[0m\n\u001b[1;32m     33\u001b[0m \u001b[0mdf\u001b[0m\u001b[0;34m.\u001b[0m\u001b[0mdrop\u001b[0m\u001b[0;34m(\u001b[0m\u001b[0mcolumns\u001b[0m\u001b[0;34m=\u001b[0m\u001b[0;34m[\u001b[0m\u001b[0mdf\u001b[0m\u001b[0;34m.\u001b[0m\u001b[0mcolumns\u001b[0m\u001b[0;34m[\u001b[0m\u001b[0;34m-\u001b[0m\u001b[0;36m1\u001b[0m\u001b[0;34m]\u001b[0m\u001b[0;34m]\u001b[0m\u001b[0;34m,\u001b[0m \u001b[0minplace\u001b[0m\u001b[0;34m=\u001b[0m\u001b[0;32mTrue\u001b[0m\u001b[0;34m)\u001b[0m\u001b[0;34m\u001b[0m\u001b[0;34m\u001b[0m\u001b[0m\n",
      "\u001b[0;31mNameError\u001b[0m: name 'pd' is not defined"
     ]
    }
   ],
   "source": [
    "input_fn='/home/timothytyree/Documents/GitHub/bgmc/python/data/osg_output/Log/job.out.8623404.5130'\n",
    "# def parse_output_log(input_fn,\n",
    "include_inputs=True,\n",
    "printing=True\n",
    "# ):\n",
    "with open(input_fn) as f:\n",
    "    trgt1='Printing Inputs...\\n'\n",
    "    trgt2='Printing Outputs...\\n'\n",
    "    for n,line in enumerate(f):\n",
    "        if trgt1 == line:\n",
    "            if printing:\n",
    "                print(f'found inputs starting after line {n}')\n",
    "            n_input=n\n",
    "        if trgt2 == line:\n",
    "            if printing:\n",
    "                print(f'found outputs starting after line {n}')\n",
    "            n_output=n\n",
    "\n",
    "with open(input_fn) as f:\n",
    "    inputs=f.readlines()[n_input+1:n_output-1]\n",
    "col_name_lst=[]\n",
    "col_value_lst=[]\n",
    "for line in inputs:\n",
    "    string=line.split(' ')[-1]\n",
    "    eid=string.find('=')\n",
    "    if eid!=-1:\n",
    "        col_name=string[:eid]\n",
    "        col_value=eval(string[eid+1:-1])\n",
    "        col_name_lst.append(col_name)\n",
    "        col_value_lst.append(col_value)\n",
    "df=pd.read_csv(input_fn,header=n_output-1)\n",
    "#drop that 'Unammed: {Nmax}' column \n",
    "df.drop(columns=[df.columns[-1]], inplace=True)\n",
    "if include_inputs:\n",
    "    if printing:\n",
    "        print(\"input parameters were:\")\n",
    "        print(col_name_lst)\n",
    "        print(col_value_lst)\n",
    "        print(\"returning outputs as pandas.DataFrame instance\")\n",
    "    for name,value in zip ( col_name_lst, col_value_lst):\n",
    "        df[name]=value\n",
    "#     return df"
   ]
  },
  {
   "cell_type": "code",
   "execution_count": 9,
   "metadata": {
    "ExecuteTime": {
     "end_time": "2021-03-27T21:32:41.672900Z",
     "start_time": "2021-03-27T21:32:41.669110Z"
    },
    "hidden": true
   },
   "outputs": [
    {
     "ename": "SyntaxError",
     "evalue": "unexpected EOF while parsing (<string>, line 0)",
     "output_type": "error",
     "traceback": [
      "Traceback \u001b[0;36m(most recent call last)\u001b[0m:\n",
      "  File \u001b[1;32m\"/home/timothytyree/anaconda3/lib/python3.7/site-packages/IPython/core/interactiveshell.py\"\u001b[0m, line \u001b[1;32m3331\u001b[0m, in \u001b[1;35mrun_code\u001b[0m\n    exec(code_obj, self.user_global_ns, self.user_ns)\n",
      "\u001b[0;36m  File \u001b[0;32m\"<ipython-input-9-01238dab5ff1>\"\u001b[0;36m, line \u001b[0;32m4\u001b[0;36m, in \u001b[0;35m<module>\u001b[0;36m\u001b[0m\n\u001b[0;31m    col_value=eval(string[eid+1:-2])\u001b[0m\n",
      "\u001b[0;36m  File \u001b[0;32m\"<string>\"\u001b[0;36m, line \u001b[0;32munknown\u001b[0m\n\u001b[0;31m    \u001b[0m\n\u001b[0m    ^\u001b[0m\n\u001b[0;31mSyntaxError\u001b[0m\u001b[0;31m:\u001b[0m unexpected EOF while parsing\n"
     ]
    }
   ],
   "source": [
    "eid=string.find('=')\n",
    "if eid!=-1:\n",
    "    col_name=string[:eid]\n",
    "    col_value=eval(string[eid+1:-2])\n",
    "    col_name_lst.append(col_name)\n",
    "    col_value_lst.append(col_value)"
   ]
  },
  {
   "cell_type": "code",
   "execution_count": 15,
   "metadata": {
    "ExecuteTime": {
     "end_time": "2021-03-27T21:33:10.901330Z",
     "start_time": "2021-03-27T21:33:10.895234Z"
    },
    "hidden": true
   },
   "outputs": [
    {
     "data": {
      "text/plain": [
       "'1'"
      ]
     },
     "execution_count": 15,
     "metadata": {},
     "output_type": "execute_result"
    }
   ],
   "source": [
    "string[eid+1:-1]"
   ]
  },
  {
   "cell_type": "markdown",
   "metadata": {},
   "source": [
    "# (not meant for this ipynb) analyze manual output"
   ]
  },
  {
   "cell_type": "code",
   "execution_count": 19,
   "metadata": {
    "ExecuteTime": {
     "end_time": "2021-05-15T19:15:03.412504Z",
     "start_time": "2021-05-15T19:15:03.400612Z"
    }
   },
   "outputs": [],
   "source": [
    "arr1=np.array([6.62549e-05,6.329412e-05,6.154902e-05,5.390196e-05,4.927451e-05,4.609804e-05,4.245098e-05,4.035294e-05,3.492157e-05,2.927451e-05,2.776471e-05,2.539216e-05,2.288235e-05,1.94902e-05,1.717647e-05,1.590196e-05,1.413725e-05,1.362745e-05,1.109804e-05,1.011765e-05,9.235294e-06,8.941176e-06,7.941176e-06,7.039216e-06,6.313725e-06,6.176471e-06,6.078431e-06,6e-06,5.823529e-06,5.45098e-06,4.529412e-06,4.509804e-06,4.352941e-06,4.313725e-06,4e-06,3.921569e-06,3.862745e-06,3.745098e-06,3.588235e-06,3.411765e-06,3.333333e-06,2.627451e-06,2.529412e-06,2.490196e-06,2.313725e-06,2.313725e-06,2.294118e-06,2.27451e-06,2.254902e-06,2.078431e-06,1.960784e-06,1.803922e-06,1.72549e-06,1.705882e-06,1.647059e-06,1.627451e-06,1.588235e-06,1.568627e-06,1.568627e-06,1.529412e-06,1.45098e-06,1.45098e-06,1.45098e-06,1.45098e-06,1.45098e-06,1.431373e-06,1.431373e-06,1.431373e-06,1.431373e-06,1.431373e-06,1.411765e-06,1.392157e-06,1.392157e-06,1.352941e-06,1.333333e-06,1.333333e-06,1.313725e-06,1.313725e-06,1.27451e-06,1.215686e-06,1.215686e-06,1.176471e-06,1.176471e-06,1.176471e-06,1.176471e-06,1.176471e-06,1.176471e-06,1.176471e-06,1.176471e-06,1.137255e-06,1.137255e-06,1.137255e-06,1.137255e-06,1.137255e-06,1.137255e-06,1.117647e-06,1.098039e-06,1.078431e-06,1.078431e-06,1.078431e-06,1.078431e-06,1.078431e-06,1.078431e-06,1.078431e-06,1.078431e-06,1.078431e-06,1.078431e-06,1.078431e-06,1.078431e-06,1.078431e-06,1.058824e-06,1.058824e-06])\n",
    "arr2=np.array([4.143137e-05,4.027451e-05,4.027451e-05,4.015686e-05,3.792157e-05,3.439216e-05,2.94902e-05,2.560784e-05,2.513725e-05,2.264706e-05,2.058824e-05,1.770588e-05,1.670588e-05,1.55098e-05,1.523529e-05,1.347059e-05,1.168627e-05,1.009804e-05,9.529412e-06,9.058824e-06,8.431373e-06,8e-06,7.666667e-06,7.666667e-06,7.215686e-06,6.509804e-06,5.901961e-06,5.666667e-06,5e-06,4.627451e-06,4.156863e-06,3.960784e-06,3.784314e-06,3.72549e-06,3.607843e-06,3.529412e-06,3.529412e-06,3.333333e-06,3.313725e-06,3.294118e-06,3.039216e-06,2.980392e-06,2.745098e-06,2.490196e-06,2.352941e-06,2.333333e-06,2.333333e-06,2.333333e-06,2.235294e-06,2.215686e-06,2.137255e-06,2.039216e-06,1.960784e-06,1.921569e-06,1.882353e-06,1.882353e-06,1.862745e-06,1.803922e-06,1.72549e-06,1.705882e-06,1.666667e-06,1.490196e-06,1.333333e-06,1.333333e-06,1.313725e-06,1.294118e-06,1.27451e-06,1.27451e-06,1.254902e-06,1.254902e-06,1.254902e-06,1.254902e-06,1.254902e-06,1.254902e-06,1.235294e-06,1.235294e-06,1.235294e-06,1.215686e-06,1.215686e-06,1.215686e-06,1.196078e-06,1.176471e-06,1.156863e-06,1.156863e-06,1.117647e-06,1.117647e-06,1.117647e-06,1.117647e-06,1.117647e-06,1.117647e-06,1.117647e-06,1.098039e-06,1.098039e-06,1.058824e-06,1.039216e-06,1.039216e-06,1.039216e-06,1.039216e-06,1.039216e-06,1.039216e-06,1.039216e-06,1.039216e-06,1.039216e-06,1.039216e-06,1.039216e-06,1.039216e-06,1.039216e-06,1.039216e-06,1.039216e-06,1.019608e-06,1.019608e-06,1.019608e-06,1.019608e-06,1.019608e-06,1.019608e-06,1.019608e-06])"
   ]
  },
  {
   "cell_type": "code",
   "execution_count": 21,
   "metadata": {
    "ExecuteTime": {
     "end_time": "2021-05-15T19:15:20.212752Z",
     "start_time": "2021-05-15T19:15:19.748282Z"
    }
   },
   "outputs": [
    {
     "data": {
      "image/png": "[encoded data removed]",
      "text/plain": [
       "<Figure size 576x504 with 1 Axes>"
      ]
     },
     "metadata": {},
     "output_type": "display_data"
    }
   ],
   "source": [
    "fontsize=18\n",
    "plt.plot(1/arr1)\n",
    "plt.plot(1/arr2)\n",
    "plt.xscale('log')\n",
    "plt.yscale('log')\n",
    "# plt.xlim([1e-0,1e3])\n",
    "# plt.ylim([1e4,6e6])\n",
    "plt.title('attractive forces increased slope',fontsize=fontsize)\n",
    "plt.show()"
   ]
  },
  {
   "cell_type": "code",
   "execution_count": 18,
   "metadata": {
    "ExecuteTime": {
     "end_time": "2021-05-15T05:35:10.040289Z",
     "start_time": "2021-05-15T05:35:10.024668Z"
    }
   },
   "outputs": [],
   "source": [
    "from numpy import linspace\n",
    "from scipy.integrate import odeint\n",
    "\n",
    "#you can choose a better guess using fsolve instead of 0\n",
    "def integral(y, _, F_l, M, cache=[0]):\n",
    "    v, preva = y[1], cache[0]\n",
    "    #use value for 'a' from the previous timestep\n",
    "    F_r = (((1 - preva) / 3) ** 2 + (2 * (1 + preva) / 3) ** 2) * v \n",
    "    #calculate the new value\n",
    "    a = (F_l - F_r) / M\n",
    "    cache[0] = a\n",
    "    return [v, a]\n",
    "\n",
    "y0 = [0, 5]\n",
    "time = linspace(0., 10., 1000)\n",
    "F_lon = 100.\n",
    "mass = 1000.\n",
    "\n",
    "dydt = odeint(integral, y0, time, args=(F_lon, mass))"
   ]
  },
  {
   "cell_type": "code",
   "execution_count": 23,
   "metadata": {
    "ExecuteTime": {
     "end_time": "2021-05-15T05:36:08.555481Z",
     "start_time": "2021-05-15T05:36:08.551344Z"
    }
   },
   "outputs": [
    {
     "data": {
      "text/plain": [
       "(1000, 2)"
      ]
     },
     "execution_count": 23,
     "metadata": {},
     "output_type": "execute_result"
    }
   ],
   "source": [
    "dydt.shape"
   ]
  },
  {
   "cell_type": "code",
   "execution_count": 33,
   "metadata": {
    "ExecuteTime": {
     "end_time": "2021-05-15T05:37:49.927144Z",
     "start_time": "2021-05-15T05:37:49.758587Z"
    }
   },
   "outputs": [
    {
     "data": {
      "image/png": "[encoded data removed]",
      "text/plain": [
       "<Figure size 576x504 with 1 Axes>"
      ]
     },
     "metadata": {},
     "output_type": "display_data"
    }
   ],
   "source": [
    "plt.scatter(x=time,y=time*(10-time),c=time,cmap='jet')\n",
    "# plt.scatter(x=time,y=dydt[:,0],c=time,cmap='jet')\n",
    "# plt.scatter(x=time,y=dydt[:,1])\n",
    "\n",
    "# plt.xscale('log')\n",
    "# plt.yscale('log')\n",
    "# plt.xlim([1e-1,1e1])\n",
    "# plt.ylim([1e4,6e4])\n",
    "# plt.title('accelerated attraction/annihilation trials only')\n",
    "plt.show()"
   ]
  },
  {
   "cell_type": "code",
   "execution_count": null,
   "metadata": {},
   "outputs": [],
   "source": []
  }
 ],
 "metadata": {
  "kernelspec": {
   "display_name": "Python 3",
   "language": "python",
   "name": "python3"
  },
  "language_info": {
   "codemirror_mode": {
    "name": "ipython",
    "version": 3
   },
   "file_extension": ".py",
   "mimetype": "text/x-python",
   "name": "python",
   "nbconvert_exporter": "python",
   "pygments_lexer": "ipython3",
   "version": "3.7.6"
  },
  "toc": {
   "base_numbering": 1,
   "nav_menu": {},
   "number_sections": true,
   "sideBar": true,
   "skip_h1_title": false,
   "title_cell": "Table of Contents",
   "title_sidebar": "Contents",
   "toc_cell": false,
   "toc_position": {},
   "toc_section_display": true,
   "toc_window_display": false
  },
  "varInspector": {
   "cols": {
    "lenName": 16,
    "lenType": 16,
    "lenVar": 40
   },
   "kernels_config": {
    "python": {
     "delete_cmd_postfix": "",
     "delete_cmd_prefix": "del ",
     "library": "var_list.py",
     "varRefreshCmd": "print(var_dic_list())"
    },
    "r": {
     "delete_cmd_postfix": ") ",
     "delete_cmd_prefix": "rm(",
     "library": "var_list.r",
     "varRefreshCmd": "cat(var_dic_list()) "
    }
   },
   "types_to_exclude": [
    "module",
    "function",
    "builtin_function_or_method",
    "instance",
    "_Feature"
   ],
   "window_display": false
  }
 },
 "nbformat": 4,
 "nbformat_minor": 4
}
