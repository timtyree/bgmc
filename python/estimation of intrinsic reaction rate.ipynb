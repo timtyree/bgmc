{
 "cells": [
  {
   "cell_type": "markdown",
   "id": "26f7be0e",
   "metadata": {},
   "source": [
    "# estimation of intrinsic reaction rate\n",
    "Tim Tyree<br>\n",
    "10.6.2022"
   ]
  },
  {
   "cell_type": "code",
   "execution_count": 1,
   "id": "dccbdd58",
   "metadata": {
    "ExecuteTime": {
     "end_time": "2022-10-09T19:50:27.726074Z",
     "start_time": "2022-10-09T19:50:25.334700Z"
    }
   },
   "outputs": [
    {
     "name": "stdout",
     "output_type": "stream",
     "text": [
      "The autoreload extension is already loaded. To reload it, use:\n",
      "  %reload_ext autoreload\n"
     ]
    }
   ],
   "source": [
    "# simplify initialization\n",
    "from scipy.optimize import minimize\n",
    "from lib.my_initialization import *\n",
    "from lib import *\n",
    "from lib.lib_care.measure.level_sets import comp_longest_level_set_and_smooth\n",
    "%load_ext autoreload\n",
    "%autoreload 2\n",
    "\n",
    "import matplotlib.pyplot as plt, numpy as np\n",
    "from mpltools import annotation\n",
    "import random,scipy\n",
    "from scipy.interpolate import LinearNDInterpolator\n",
    "from scipy.interpolate import CloughTocher2DInterpolator\n",
    "import matplotlib as mpl #for colorbar\n",
    "from scipy import stats\n",
    "\n",
    "#for particle params to MSR generating functional\n",
    "from scipy.signal import savgol_filter\n",
    "import dask.bag as db\n",
    "from lib.lib_care.measure.bootstrap import bin_and_bootstrap_xy_values_parallel\n",
    "\n",
    "darkmode=False\n",
    "if darkmode:\n",
    "    # For darkmode plots\n",
    "    from jupyterthemes import jtplot\n",
    "    jtplot.style(theme='monokai', context='notebook', ticks=True, grid=False)\n",
    "\n",
    "import warnings\n",
    "warnings.simplefilter(\"ignore\", UserWarning)\n",
    "%load_ext autoreload\n",
    "%autoreload 2\n",
    "\n",
    "#optional\n",
    "# import cupy as cp\n",
    "# cp.random.seed(42)\n",
    "np.random.seed(42)"
   ]
  },
  {
   "cell_type": "code",
   "execution_count": 12,
   "id": "bda0aa69",
   "metadata": {
    "ExecuteTime": {
     "end_time": "2022-10-09T19:51:16.099382Z",
     "start_time": "2022-10-09T19:51:16.075873Z"
    }
   },
   "outputs": [],
   "source": [
    "#reset matplotlib settings\n",
    "import matplotlib as mpl\n",
    "sns.reset_orig()\n",
    "mpl.rc_file_defaults()"
   ]
  },
  {
   "cell_type": "code",
   "execution_count": 3,
   "id": "6dc971f5",
   "metadata": {
    "ExecuteTime": {
     "end_time": "2022-10-09T19:50:27.772036Z",
     "start_time": "2022-10-09T19:50:27.750246Z"
    }
   },
   "outputs": [],
   "source": [
    "from scipy.optimize import dual_annealing"
   ]
  },
  {
   "cell_type": "code",
   "execution_count": null,
   "id": "c7688b4a",
   "metadata": {},
   "outputs": [],
   "source": []
  },
  {
   "cell_type": "markdown",
   "id": "222315d8",
   "metadata": {},
   "source": [
    "# define module"
   ]
  },
  {
   "cell_type": "code",
   "execution_count": null,
   "id": "f764a648",
   "metadata": {},
   "outputs": [],
   "source": []
  },
  {
   "cell_type": "markdown",
   "id": "01c5be7e",
   "metadata": {},
   "source": [
    "# notae"
   ]
  },
  {
   "cell_type": "markdown",
   "id": "0a5a1782",
   "metadata": {},
   "source": [
    "$$\n",
    "\\frac{dP (n,t)}{dt} = \\sum_r [W_r(n-r)P(n-r,t)-W_r(n)P(n,t)].\n",
    "$$"
   ]
  },
  {
   "cell_type": "markdown",
   "id": "4c0cb6c2",
   "metadata": {
    "ExecuteTime": {
     "end_time": "2022-10-07T02:24:00.668603Z",
     "start_time": "2022-10-07T02:24:00.613501Z"
    }
   },
   "source": [
    "For periodic boundary conditions, we are only concerned with $r=\\pm2$.\n",
    "\n",
    "$$\n",
    "\\frac{dP (n,t)}{dt} = W_{-2}(n-(-2))P(n-(-2),t)-W_{-2}(n)P(n,t) \\\\\n",
    "    + W_{+2}(n-(+2))P(n-(+2),t)-W_{+2}(n)P(n,t)\n",
    "$$\n",
    "\n",
    "$$\n",
    "\\frac{dP (n,t)}{dt} = W_{-2}(n+2)P(n+2,t)-W_{-2}(n)P(n,t) \\\\\n",
    "    + W_{+2}(n-2)P(n-2,t)-W_{+2}(n)P(n,t)\n",
    "$$\n",
    "\n",
    "The quasistationary state is defined by setting the left hand side to zero and solving for $P_{qs}(n)=P(n)$.\n",
    "\n",
    "Base Case: n=2 particles\n",
    "\n",
    "$$\n",
    "0 \\overset{!}{=} \\frac{dP (2,t)}{dt} = W_{-2}(2+2)P(2+2)-W_{-2}(2)P(2) \\\\\n",
    "    + W_{+2}(2-2)P(2-2)-W_{+2}(2)P(2) \\\\\n",
    "    = W_{-2}(4)P(4)-W_{-2}(2)P(2) + 0-W_{+2}(2)P(2)\n",
    "$$\n",
    "\n",
    "Therefore, \n",
    "\n",
    "$$P(4) = P(2) \\bigg(\\frac{W_{-2}(2)+W_{+2}(2)}{W_{-2}(4)}\\bigg).$$\n"
   ]
  },
  {
   "cell_type": "markdown",
   "id": "92fa5212",
   "metadata": {},
   "source": [
    "With ibid as a quasistatic distribution, we are equipped with an ab initio estimator of the reaction rate in the limit of arbitrarily large attraction, as $a\\rightarrow\\infty$:\n",
    "\n",
    "$$\n",
    "\\kappa \\overset{?}{=} \\sum_N \\frac{w_-(N/A))}{N/A}P_{qs}(N)\n",
    "$$\n",
    "\n",
    "It seems $\\kappa$ values closer to the unconcstrained MLE fit result from putting all the rate into one spiral tip.\n",
    "\n",
    "$$\n",
    "\\kappa = \\sum_N \\frac{w_-(N/A))}{1/A}P_{qs}(N)\n",
    "$$\n"
   ]
  },
  {
   "cell_type": "markdown",
   "id": "bbd1ec38",
   "metadata": {},
   "source": [
    "# dev"
   ]
  },
  {
   "cell_type": "code",
   "execution_count": 4,
   "id": "d3d864a5",
   "metadata": {
    "ExecuteTime": {
     "end_time": "2022-10-09T19:50:30.481436Z",
     "start_time": "2022-10-09T19:50:30.464830Z"
    }
   },
   "outputs": [],
   "source": [
    "wjr=recall_powerlaw_fits_to_full_models()\n",
    "\n",
    "\n",
    "#recall the w pm rate densities\n",
    "#DONE: get token inputs prepared\n",
    "dict_fit_death_lr = dict(wjr['lr_pbc'])\n",
    "dict_fit_death_fk = dict(wjr['fk_pbc'])"
   ]
  },
  {
   "cell_type": "code",
   "execution_count": 13,
   "id": "92133edc",
   "metadata": {
    "ExecuteTime": {
     "end_time": "2022-10-09T19:51:23.733503Z",
     "start_time": "2022-10-09T19:51:23.287733Z"
    }
   },
   "outputs": [
    {
     "name": "stdout",
     "output_type": "stream",
     "text": [
      "m = 0.229594 +/- 0.010098\n",
      "M = 0.864210 +/- 0.002349 Hz/cm^2; B=0.529597 +/- 0.020570\n",
      "RMSE=0.0215 Hz/cm^2; R^2=0.9655; N=73\n",
      "m = 0.714755 +/- 0.009768\n",
      "M = 3.277073 +/- 0.102643 Hz/cm^2; B=5.262676 +/- 0.107278\n",
      "RMSE=0.0417 Hz/cm^2; R^2=0.9971; N=62\n",
      "\n",
      "wjr['fk_pbc']:\n",
      "m=1.8772341309722325\n",
      "Delta_m=0.02498750277237229\n",
      "M=5.572315674840435\n",
      "Delta_M=0.3053120355191732\n",
      "b=1.665608066257863\n",
      "Delta_b=0.029341409948945123\n",
      "\n",
      "wjr['lr_pbc']:\n",
      "m=1.6375562704001745\n",
      "Delta_m=0.017190912126700632\n",
      "M=16.73559858353835\n",
      "Delta_M=0.8465090320196467\n",
      "b=2.86877101880514\n",
      "Delta_b=0.0311865277365552\n",
      "\n",
      "wjr['fk_pbc']:\n",
      "m=1.8772341309722325\n",
      "Delta_m=0.02498750277237229\n",
      "M=5.572315674840435\n",
      "Delta_M=0.3053120355191732\n",
      "b=1.665608066257863\n",
      "Delta_b=0.029341409948945123\n",
      "\n",
      "wjr['lr_pbc']:\n",
      "m=1.6375562704001745\n",
      "Delta_m=0.017190912126700632\n",
      "M=16.73559858353835\n",
      "Delta_M=0.8465090320196467\n",
      "b=2.86877101880514\n",
      "Delta_b=0.0311865277365552\n"
     ]
    },
    {
     "data": {
      "image/png": "[encoded data removed]",
      "text/plain": [
       "<Figure size 600x400 with 1 Axes>"
      ]
     },
     "metadata": {},
     "output_type": "display_data"
    }
   ],
   "source": [
    "# input_fn = search_for_file()\n",
    "# input_fn\n",
    "kwargs = dict(data_fk_dir=f'{nb_dir}/data/full_results/data_fig4_vidmar_fk_tt.csv',\n",
    "              data_lr_dir=f'{nb_dir}/data/full_results/data_fig4_vidmar_lr_tt.csv',\n",
    "             min_num_particles=9)\n",
    "dict_wjr = recall_death_rates_vidmar_rappel(**kwargs)\n",
    "fk=dict_wjr['fk'].sort_values(by='q')\n",
    "lr=dict_wjr['lr'].sort_values(by='q')\n",
    "\n",
    "birth_rate_dir_fk = '/home/timothytyree/Documents/GitHub/bgmc/python/data/full_results/data_fig4_timothy_fk_up2_rescaled_per_tt.csv'\n",
    "birth_rate_dir_lr = '/home/timothytyree/Documents/GitHub/bgmc/python/data/full_results/data_fig4_timothy_lr_up2_rescaled_per_tt.csv'\n",
    "# birth_rate_dir_fk = '/Users/timothytyree/Documents/GitHub/bgmc/python/data/full_results/data_fig4_timothy_fk_up2_rescaled_per_tt.csv'\n",
    "# birth_rate_dir_lr = '/Users/timothytyree/Documents/GitHub/bgmc/python/data/full_results/data_fig4_timothy_lr_up2_rescaled_per_tt.csv'\n",
    "# death_rate_dir_fk = '/Users/timothytyree/Documents/GitHub/bgmc/python/data/full_results/data_fig4_vidmar_fk_rescaled_rates.csv'\n",
    "# death_rate_dir_lr = '/Users/timothytyree/Documents/GitHub/bgmc/python/data/full_results/data_fig4_vidmar_lr_rescaled_rates.csv'\n",
    "# df_death = pd.read_csv(death_rate_dir_fk)\n",
    "df_birth_fk = pd.read_csv(birth_rate_dir_fk)\n",
    "# df_death = pd.read_csv(death_rate_dir_lr)\n",
    "df_birth_lr = pd.read_csv(birth_rate_dir_lr)\n",
    "\n",
    "#scale from kHz to Hz\n",
    "df_birth_fk['w']*=1e3\n",
    "df_birth_lr['w']*=1e3\n",
    "\n",
    "# DONE: compute powerlaw fits of birth rates wjr\n",
    "dict_fit_birth_fk = print_fit_power_law(x=df_birth_fk['q'].values,y=df_birth_fk['w'].values)\n",
    "dict_fit_birth_lr = print_fit_power_law(x=df_birth_lr['q'].values,y=df_birth_lr['w'].values)\n",
    "\n",
    "print(f\"\\nwjr['fk_pbc']:\")\n",
    "print_dict(wjr['fk_pbc'])\n",
    "print(f\"\\nwjr['lr_pbc']:\")\n",
    "print_dict(wjr['lr_pbc'])\n",
    "\n",
    "print(f\"\\nwjr['fk_pbc']:\")\n",
    "print_dict(wjr['fk_pbc'])\n",
    "print(f\"\\nwjr['lr_pbc']:\")\n",
    "print_dict(wjr['lr_pbc'])\n",
    "\n",
    "xv = np.arange(0.02, 1,0.01)\n",
    "# evaluate powerlaw fits of birth rates wjr\n",
    "yv_birth_lr = dict_fit_birth_lr['M']*xv**dict_fit_birth_lr['m']\n",
    "yv_death_lr = wjr['lr_pbc']['M']*xv**wjr['lr_pbc']['m']\n",
    "# evalutate plot powerlaw fits of death rates wjr\n",
    "yv_birth_fk = dict_fit_birth_fk['M']*xv**dict_fit_birth_fk['m']\n",
    "yv_death_fk = wjr['fk_pbc']['M']*xv**wjr['fk_pbc']['m']\n",
    "# yv_birth_lr.shape,yv_birth_fk.shape\n",
    "\n",
    "#compute the intersection point for both of the full models\n",
    "index_fk = np.argmin(np.exp(np.log(yv_birth_fk/yv_death_fk)**2))\n",
    "qstar_fk = xv[index_fk]\n",
    "wstar_fk = yv_birth_fk[index_fk]\n",
    "# index_lr = np.argmin(np.log(yv_birth_lr/yv_death_lr)**2)\n",
    "index_lr = np.argmin(np.exp(np.log(yv_birth_lr/yv_death_lr)**2))\n",
    "qstar_lr = xv[index_lr]\n",
    "wstar_lr = yv_birth_lr[index_lr]\n",
    "qstar_lr\n",
    "\n",
    "# plt.plot(xv,(yv_birth_lr-yv_death_lr)**2)\n",
    "# plt.show()\n",
    "qstar_fk,qstar_lr\n",
    "\n",
    "# fig,ax=plt.subplots()\n",
    "fig,ax=plt.subplots(figsize=(6,4))\n",
    "fontsize=16\n",
    "# fontsize=20\n",
    "alpha=0.9\n",
    "\n",
    "# df_birth_fk.plot(x='q',y='w',ax=ax,c='C0',alpha=0.5,label=r'FK: N$\\rightarrow$N+2',lw=4)\n",
    "# fk.plot(x='q',y='w',ax=ax,c='C0',label=r'FK: N$\\rightarrow$N-2',lw=4)\n",
    "# df_birth_lr.plot(x='q',y='w',ax=ax,c='C1',alpha=0.5,label=r'LR: N$\\rightarrow$N+2',lw=4)\n",
    "# lr.plot(x='q',y='w',ax=ax,c='C1',label=r'LR: N$\\rightarrow$N-2',lw=4)\n",
    "markersize=30\n",
    "df_birth_fk.plot.scatter(x='q',y='w',ax=ax,c='C0',#'gray',#\n",
    "                         marker='^',\n",
    "                         alpha=1.,label=r'FK: N$\\rightarrow$N+2',s=markersize)\n",
    "fk.plot.scatter(x='q',y='w',ax=ax,c='C0',label=r'FK: N$\\rightarrow$N-2',s=markersize)\n",
    "df_birth_lr.plot.scatter(x='q',y='w',ax=ax,c='C1',#'r',#\n",
    "                        marker='^',\n",
    "                         alpha=1.,label=r'LR: N$\\rightarrow$N+2',s=markersize)\n",
    "lr.plot.scatter(x='q',y='w',ax=ax,c='C1',label=r'LR: N$\\rightarrow$N-2',s=markersize)\n",
    "\n",
    "\n",
    "#plot the powerlaw fits\n",
    "ax.plot(xv,yv_death_fk,'k--',alpha=0.5)\n",
    "ax.plot(xv,yv_death_lr,'k--',alpha=0.5)\n",
    "ax.plot(xv,yv_birth_fk,'k--',alpha=0.5)\n",
    "ax.plot(xv,yv_birth_lr,'k--',alpha=0.5)\n",
    "\n",
    "#draw vertical dotted line up to the intersection point for both of the full models\n",
    "ax.scatter([qstar_fk],[wstar_fk],c='k',s=40,alpha=0.9,zorder=100)\n",
    "ax.scatter([qstar_lr],[wstar_lr],c='k',s=40,alpha=0.9,zorder=100)\n",
    "# ax.plot([qstar_fk,qstar_fk],[0.001,wstar_fk],'k:',alpha=0.9)\n",
    "# ax.plot([qstar_lr,qstar_lr],[0.001,wstar_lr],'k:',alpha=0.9)\n",
    "\n",
    "\n",
    "# format_plot\n",
    "format_plot(ax=ax,xlabel=r'n (1/cm$^2$)',ylabel=r'w (Hz/cm$^2$)',fontsize=fontsize)#,use_loglog=True)\n",
    "# format_plot(ax=ax,xlabel=r'q (1/cm$^2$)',ylabel=r'w (Hz/cm$^2$)',fontsize=fontsize)#,use_loglog=True)\n",
    "# plt.legend(fontsize=16,frameon=False,loc='upper left')\n",
    "plt.legend(fontsize=14,frameon=False,loc='upper left')\n",
    "# AddLegend(loc='upper left')\n",
    "ax.set_xscale('log')\n",
    "ax.set_yscale('log')\n",
    "ax.set_ylim((0.0023641776732192935, 25.08908114695242))\n",
    "ax.tick_params(top=True, right=True,direction='in',which='both')\n",
    "\n",
    "plt.show()"
   ]
  },
  {
   "cell_type": "code",
   "execution_count": 14,
   "id": "a8bf5f45",
   "metadata": {
    "ExecuteTime": {
     "end_time": "2022-10-09T19:51:26.644735Z",
     "start_time": "2022-10-09T19:51:26.620481Z"
    }
   },
   "outputs": [],
   "source": [
    "#select an area, A\n",
    "# L=5 #cm\n",
    "L=10 #cm\n",
    "A=L**2\n",
    "num_iter=40"
   ]
  },
  {
   "cell_type": "code",
   "execution_count": 15,
   "id": "d62ec26f",
   "metadata": {
    "ExecuteTime": {
     "end_time": "2022-10-09T19:51:27.127803Z",
     "start_time": "2022-10-09T19:51:27.006171Z"
    }
   },
   "outputs": [
    {
     "name": "stdout",
     "output_type": "stream",
     "text": [
      "Fenton-Karma (A=100 cm^2):\n",
      "- mean num particles (qstar*A): 32.3000\n",
      "- mean num particles (correct qs distr): 31.5797\n",
      "- b.o.e. est. of mean termination time (correct qs distr): 936950392.2312 s\n"
     ]
    },
    {
     "data": {
      "image/png": "[encoded data removed]",
      "text/plain": [
       "<Figure size 640x480 with 1 Axes>"
      ]
     },
     "metadata": {},
     "output_type": "display_data"
    },
    {
     "data": {
      "text/plain": [
       "(31.57974254584227, 1.0, 40)"
      ]
     },
     "execution_count": 15,
     "metadata": {},
     "output_type": "execute_result"
    }
   ],
   "source": [
    "Mp = dict_fit_birth_fk['M']\n",
    "nup = dict_fit_birth_fk['m']\n",
    "Mm = dict_fit_death_fk['M']\n",
    "num = dict_fit_death_fk['m']\n",
    "model_name='Fenton-Karma'\n",
    "\n",
    "# Mp = dict_fit_birth_lr['M']\n",
    "# nup = dict_fit_birth_lr['m']\n",
    "# Mm = dict_fit_death_lr['M']\n",
    "# num = dict_fit_death_lr['m']\n",
    "# model_name='Luo-Rudy'\n",
    "\n",
    "\n",
    "#estimate the quasistatic distribution\n",
    "# L=5 #cm\n",
    "# A=L**2\n",
    "# num_iter=20\n",
    "comp_Wp = get_comp_W(A,nup,Mp)\n",
    "comp_Wm = get_comp_W(A,num,Mm)\n",
    "# n_qs,prob_qs = comp_quasistatic_distrib_paired_bdrates(comp_Wm,comp_Wp,num_iter=num_iter,freq_prev=1.)\n",
    "n_qs,prob_qs = comp_quasistatic_distrib_paired_bdrates(comp_Wm,comp_Wp,num_iter=num_iter,freq_prev=100.)\n",
    "\n",
    "printing=True\n",
    "#plot the wrong qs distribution (published) vs. the correct qs distribution\n",
    "plt.plot(n_qs,prob_qs,label='correct qs distribution')\n",
    "format_plot(xlabel='N',ylabel='Probability')\n",
    "plt.legend(fontsize=fontsize)\n",
    "# plt.xlim([0,40])\n",
    "plt.xlim([0,80])\n",
    "\n",
    "#print summary\n",
    "xv = np.arange(0.02, 1,0.001)\n",
    "qstar,wstar = comp_powerlaw_intersection(Mp,nup,Mm,num,xv=xv)\n",
    "if printing:\n",
    "    print(f\"{model_name} ({A=:.0f} cm^2):\")\n",
    "    print(f\"- mean num particles (qstar*A): {qstar*A:.4f}\") \n",
    "    print(f\"- mean num particles (correct qs distr): {np.sum(prob_qs*n_qs):.4f}\")\n",
    "#     print(f\"- mean num particles (incorrect qs distr): {np.sum(prob_values_qs*n_values_qs)}\")\n",
    "    n=2\n",
    "    tau = 1/(comp_Wm(2)*prob_qs[n_qs==n])[0]\n",
    "    print(f\"- b.o.e. est. of mean termination time (correct qs distr): {tau:.4f} s\")\n",
    "#     tau = 1/(comp_Wm(2)*prob_values_qs[n_values_qs==n])[0]\n",
    "#     print(f\"- b.o.e. est. of mean termination time (incorrect qs distr): {tau:.4f} s\")\n",
    "\n",
    "plt.show()\n",
    "\n",
    "#TODO: dev unit test on qs distribution generating function\n",
    "comp_Wp = get_comp_W(A,nup,Mp)\n",
    "comp_Wm = get_comp_W(A,num,Mm)\n",
    "n_qs,prob_qs = comp_quasistatic_distrib_paired_bdrates(comp_Wm,comp_Wp,num_iter=num_iter)\n",
    "np.sum(prob_qs*n_qs),np.sum(prob_qs),prob_qs.shape[0]"
   ]
  },
  {
   "cell_type": "markdown",
   "id": "2cf7c8dc",
   "metadata": {},
   "source": [
    "With ibid as a quasistatic distribution, we are equipped with an ab initio estimator of the reaction rate in the limit of arbitrarily large attraction, as $a\\rightarrow\\infty$:\n",
    "\n",
    "$$\n",
    "\\kappa = \\sum_N \\frac{w_-(1/A))}{N/A}P_{qs}(N)\n",
    "$$\n",
    "\n",
    "<!-- $$\n",
    "\\kappa = \\sum_N \\frac{w_-(N/A))}{N/A}P_{qs}(N)\n",
    "$$ -->"
   ]
  },
  {
   "cell_type": "code",
   "execution_count": 16,
   "id": "dd7dfe8f",
   "metadata": {
    "ExecuteTime": {
     "end_time": "2022-10-09T19:51:51.938022Z",
     "start_time": "2022-10-09T19:51:51.914710Z"
    }
   },
   "outputs": [
    {
     "name": "stdout",
     "output_type": "stream",
     "text": [
      "kappa: km_sum=202.2885 Hz\n",
      "kappa: kp_sum=216.0827 Hz\n",
      "kappa: kb_sum=418.3712 Hz\n",
      "kappa: kd_sum=13.7941 Hz\n"
     ]
    }
   ],
   "source": [
    "#average rate densities over quasistatic particle number distribution\n",
    "km_sum=0\n",
    "kp_sum=0\n",
    "kb_sum=0\n",
    "kd_sum=0\n",
    "# for N,prob in zip(n_values_qs,prob_values_qs):  #wrong distro\n",
    "for N,prob in zip(n_qs,prob_qs):\n",
    "    Wm=comp_Wm(N)\n",
    "    Wp=comp_Wp(N)\n",
    "    n=N/A  # --> ~48 Hz for FK\n",
    "#     n=1/A  # --> ~436 Hz for FK\n",
    "    dkm=(Wm/n)*prob\n",
    "    dkp=(Wp/n)*prob\n",
    "    #record\n",
    "    km_sum += dkm\n",
    "    kp_sum += dkp\n",
    "    kb_sum += dkp+dkm\n",
    "    kd_sum += dkp-dkm\n",
    "\n",
    "#TODO: print ibid. does kappa look reasonable?\n",
    "print(f\"kappa: {km_sum=:.4f} Hz\")\n",
    "print(f\"kappa: {kp_sum=:.4f} Hz\")\n",
    "print(f\"kappa: {kb_sum=:.4f} Hz\")\n",
    "print(f\"kappa: {kd_sum=:.4f} Hz\")"
   ]
  },
  {
   "cell_type": "code",
   "execution_count": 17,
   "id": "697025a2",
   "metadata": {
    "ExecuteTime": {
     "end_time": "2022-10-09T19:51:52.916304Z",
     "start_time": "2022-10-09T19:51:52.873277Z"
    }
   },
   "outputs": [],
   "source": [
    "#compute kappa versus A using ^that method, and then plot it!\n",
    "\n",
    "Mp = dict_fit_birth_fk['M']\n",
    "nup = dict_fit_birth_fk['m']\n",
    "Mm = dict_fit_death_fk['M']\n",
    "num = dict_fit_death_fk['m']\n",
    "model_name='Fenton-Karma'\n",
    "\n",
    "# Mp = dict_fit_birth_lr['M']\n",
    "# nup = dict_fit_birth_lr['m']\n",
    "# Mm = dict_fit_death_lr['M']\n",
    "# num = dict_fit_death_lr['m']\n",
    "# model_name='Luo-Rudy'\n",
    "\n",
    "\n",
    "A_values = np.arange(10,1000,5)\n",
    "kappa_lst=[]\n",
    "for A in A_values:\n",
    "    comp_Wp = get_comp_W(A,nup,Mp)\n",
    "    comp_Wm = get_comp_W(A,num,Mm)\n",
    "    # n_qs,prob_qs = comp_quasistatic_distrib_paired_bdrates(comp_Wm,comp_Wp,num_iter=num_iter,freq_prev=1.)\n",
    "    n_qs,prob_qs = comp_quasistatic_distrib_paired_bdrates(comp_Wm,comp_Wp,num_iter=num_iter,freq_prev=100.)\n",
    "\n",
    "    #average rate densities over quasistatic particle number distribution\n",
    "    km_sum=0\n",
    "    kp_sum=0\n",
    "    kb_sum=0\n",
    "    kd_sum=0\n",
    "    # for N,prob in zip(n_values_qs,prob_values_qs):  #wrong distro\n",
    "    for N,prob in zip(n_qs,prob_qs):\n",
    "        Wm=comp_Wm(N)\n",
    "        Wp=comp_Wp(N)\n",
    "#         n=N/A  # --> ~48 Hz for FK\n",
    "        n=1/A  # --> ~436 Hz for FK\n",
    "        dkm=(Wm/n)*prob\n",
    "        dkp=(Wp/n)*prob\n",
    "        #record\n",
    "        km_sum += dkm\n",
    "        kp_sum += dkp\n",
    "        kb_sum += dkp+dkm\n",
    "        kd_sum += dkp-dkm\n",
    "\n",
    "    # #print ibid. does kappa look reasonable?\n",
    "#     print(f\"Area: {A} cm^2, kappa: {km_sum=:.4f} Hz\")\n",
    "    # # print(f\"kappa: {kp_sum=:.4f} Hz\")\n",
    "    # # print(f\"kappa: {kb_sum=:.4f} Hz\")\n",
    "    # print(f\"kappa: {kd_sum=:.4f} Hz\")\n",
    "    \n",
    "    kappa = float(km_sum)\n",
    "    \n",
    "    #record: \n",
    "    kappa_lst.append(kappa)\n",
    "kappa_values=np.array(kappa_lst)\n",
    "\n",
    "A_values_fk = A_values.copy()\n",
    "kappa_values_fk = kappa_values.copy()"
   ]
  },
  {
   "cell_type": "code",
   "execution_count": 19,
   "id": "05db03fb",
   "metadata": {
    "ExecuteTime": {
     "end_time": "2022-10-09T19:51:57.501570Z",
     "start_time": "2022-10-09T19:51:57.467800Z"
    }
   },
   "outputs": [],
   "source": [
    "#compute kappa versus A using ^that method, and then plot it!\n",
    "\n",
    "# Mp = dict_fit_birth_fk['M']\n",
    "# nup = dict_fit_birth_fk['m']\n",
    "# Mm = dict_fit_death_fk['M']\n",
    "# num = dict_fit_death_fk['m']\n",
    "# model_name='Fenton-Karma'\n",
    "\n",
    "Mp = dict_fit_birth_lr['M']\n",
    "nup = dict_fit_birth_lr['m']\n",
    "Mm = dict_fit_death_lr['M']\n",
    "num = dict_fit_death_lr['m']\n",
    "model_name='Luo-Rudy'\n",
    "\n",
    "\n",
    "A_values = np.arange(10,1000,10)\n",
    "kappa_lst=[]\n",
    "for A in A_values:\n",
    "    comp_Wp = get_comp_W(A,nup,Mp)\n",
    "    comp_Wm = get_comp_W(A,num,Mm)\n",
    "    # n_qs,prob_qs = comp_quasistatic_distrib_paired_bdrates(comp_Wm,comp_Wp,num_iter=num_iter,freq_prev=1.)\n",
    "    n_qs,prob_qs = comp_quasistatic_distrib_paired_bdrates(comp_Wm,comp_Wp,num_iter=num_iter,freq_prev=100.)\n",
    "\n",
    "    #average rate densities over quasistatic particle number distribution\n",
    "    km_sum=0\n",
    "    kp_sum=0\n",
    "    kb_sum=0\n",
    "    kd_sum=0\n",
    "    # for N,prob in zip(n_values_qs,prob_values_qs):  #wrong distro\n",
    "    for N,prob in zip(n_qs,prob_qs):\n",
    "        Wm=comp_Wm(N)\n",
    "        Wp=comp_Wp(N)\n",
    "        #n=N/A  # --> ~48 Hz for FK\n",
    "        n=1/A  # --> ~436 Hz for FK\n",
    "        dkm=(Wm/n)*prob\n",
    "        dkp=(Wp/n)*prob\n",
    "        #record\n",
    "        km_sum += dkm\n",
    "        kp_sum += dkp\n",
    "        kb_sum += dkp+dkm\n",
    "        kd_sum += dkp-dkm\n",
    "\n",
    "    # #print ibid. does kappa look reasonable?\n",
    "#     print(f\"Area: {A} cm^2, kappa: {km_sum=:.4f} Hz\")\n",
    "    # # print(f\"kappa: {kp_sum=:.4f} Hz\")\n",
    "    # # print(f\"kappa: {kb_sum=:.4f} Hz\")\n",
    "    # print(f\"kappa: {kd_sum=:.4f} Hz\")\n",
    "    \n",
    "    kappa = float(km_sum)\n",
    "    \n",
    "    #record: \n",
    "    kappa_lst.append(kappa)\n",
    "kappa_values=np.array(kappa_lst)\n",
    "\n",
    "A_values_lr = A_values.copy()\n",
    "kappa_values_lr = kappa_values.copy()"
   ]
  },
  {
   "cell_type": "code",
   "execution_count": 20,
   "id": "6580f744",
   "metadata": {
    "ExecuteTime": {
     "end_time": "2022-10-09T19:51:57.886577Z",
     "start_time": "2022-10-09T19:51:57.503120Z"
    }
   },
   "outputs": [
    {
     "data": {
      "image/png": "[encoded data removed]",
      "text/plain": [
       "<Figure size 500x400 with 1 Axes>"
      ]
     },
     "metadata": {},
     "output_type": "display_data"
    }
   ],
   "source": [
    "xlabel=r'$A$ (cm$^2$)'\n",
    "ylabel=r'$\\kappa$ (Hz)'\n",
    "fontsize=18\n",
    "figsize=(5,4)\n",
    "fig,ax=plt.subplots(figsize=figsize)\n",
    "ax.scatter(A_values_fk,kappa_values_fk,label='Fenton-Karma')\n",
    "ax.scatter(A_values_lr,kappa_values_lr,label='Luo-Rudy')\n",
    "format_plot(ax=ax,xlabel=xlabel,ylabel=ylabel,fontsize=fontsize)\n",
    "AddLegend()\n",
    "\n",
    "ax.legend(fontsize=16,frameon=False)\n",
    "ax.tick_params(bottom=True,left=True,top=True, right=True,direction='in',which='both')\n",
    "\n",
    "ax.set_xscale('log')\n",
    "ax.set_yscale('log')\n",
    "\n",
    "plt.show()"
   ]
  },
  {
   "cell_type": "markdown",
   "id": "3dcbdd91",
   "metadata": {},
   "source": []
  },
  {
   "cell_type": "markdown",
   "id": "04da4766",
   "metadata": {},
   "source": [
    "# attemping to estimate $\\tau_\\infty$ consistent with $\\kappa$\n",
    "$$\n",
    "\\frac{1}{\\tau} \\ge W_{-2}(2)P(2)\n",
    "$$\n",
    "\n",
    "$$\n",
    "\\tau \\le 1/(W_{-2}(2)P(2))\n",
    "$$\n",
    "\n",
    "\n",
    "<!-- $$\n",
    "\\frac{1}{\\tau} = W_{-2}(2)P(2)\n",
    "$$ -->\n",
    "\n",
    "\n",
    "Q: does the b.o.e. Estimate for tau serve as tauinfty?\n",
    "A: no. "
   ]
  },
  {
   "cell_type": "markdown",
   "id": "e9a43e07",
   "metadata": {},
   "source": [
    "# print the kappa estimates for either of the full models"
   ]
  },
  {
   "cell_type": "code",
   "execution_count": 21,
   "id": "aed7188f",
   "metadata": {
    "ExecuteTime": {
     "end_time": "2022-10-09T19:52:03.474106Z",
     "start_time": "2022-10-09T19:52:03.438944Z"
    }
   },
   "outputs": [],
   "source": [
    "A = 25 #cm^2\n",
    "A = 100 #cm^2"
   ]
  },
  {
   "cell_type": "code",
   "execution_count": 23,
   "id": "da8c93c2",
   "metadata": {
    "ExecuteTime": {
     "end_time": "2022-10-09T19:52:31.739634Z",
     "start_time": "2022-10-09T19:52:31.717546Z"
    }
   },
   "outputs": [
    {
     "name": "stdout",
     "output_type": "stream",
     "text": [
      "Area: 100 cm^2, kappa: 6608.97 Hz (Fenton-Karma)\n",
      "Area: 100 cm^2, kappa: 8597.22 Hz (Luo-Rudy)\n"
     ]
    }
   ],
   "source": [
    "Mp = dict_fit_birth_fk['M'] \n",
    "nup = dict_fit_birth_fk['m']\n",
    "Mm = dict_fit_death_fk['M']\n",
    "num = dict_fit_death_fk['m']\n",
    "model_name='Fenton-Karma'\n",
    "\n",
    "# Mp = dict_fit_birth_lr['M']\n",
    "# nup = dict_fit_birth_lr['m']\n",
    "# Mm = dict_fit_death_lr['M']\n",
    "# num = dict_fit_death_lr['m']\n",
    "# model_name='Luo-Rudy'\n",
    "\n",
    "\n",
    "comp_Wp = get_comp_W(A,nup,Mp)\n",
    "comp_Wm = get_comp_W(A,num,Mm)\n",
    "n_qs,prob_qs = comp_quasistatic_distrib_paired_bdrates(comp_Wm,comp_Wp,num_iter=num_iter,freq_prev=1.)\n",
    "#average rate densities over quasistatic particle number distribution\n",
    "km_sum=0\n",
    "kp_sum=0\n",
    "kb_sum=0\n",
    "kd_sum=0\n",
    "# for N,prob in zip(n_values_qs,prob_values_qs):  #wrong distro\n",
    "for N,prob in zip(n_qs,prob_qs):\n",
    "    Wm=comp_Wm(N)\n",
    "    Wp=comp_Wp(N)\n",
    "#     n=N/A  # --> ~48 Hz for FK\n",
    "    n=1/A  # --> ~436 Hz for FK\n",
    "    dkm=(Wm/n)*prob\n",
    "    dkp=(Wp/n)*prob\n",
    "    #record\n",
    "    km_sum += dkm\n",
    "    kp_sum += dkp\n",
    "    kb_sum += dkp+dkm\n",
    "    kd_sum += dkp-dkm\n",
    "\n",
    "#print ibid. does kappa look reasonable?\n",
    "print(f\"Area: {A} cm^2, kappa: {km_sum:.2f} Hz ({model_name})\")\n",
    "# print(f\"kappa: {kp_sum=:.4f} Hz\")\n",
    "# print(f\"kappa: {kb_sum=:.4f} Hz\")\n",
    "# print(f\"kappa: {kd_sum=:.4f} Hz\")\n",
    "kappa_fk = float(km_sum)\n",
    "\n",
    "#############################\n",
    "# repeat for Luo-Rudy\n",
    "#############################\n",
    "# Mp = dict_fit_birth_fk['M']\n",
    "# nup = dict_fit_birth_fk['m']\n",
    "# Mm = dict_fit_death_fk['M']\n",
    "# num = dict_fit_death_fk['m']\n",
    "# model_name='Fenton-Karma'\n",
    "Mp = dict_fit_birth_lr['M']\n",
    "nup = dict_fit_birth_lr['m']\n",
    "Mm = dict_fit_death_lr['M']\n",
    "num = dict_fit_death_lr['m']\n",
    "model_name='Luo-Rudy'\n",
    "\n",
    "comp_Wp = get_comp_W(A,nup,Mp)\n",
    "comp_Wm = get_comp_W(A,num,Mm)\n",
    "n_qs,prob_qs = comp_quasistatic_distrib_paired_bdrates(comp_Wm,comp_Wp,num_iter=num_iter,freq_prev=1.)\n",
    "#average rate densities over quasistatic particle number distribution\n",
    "km_sum=0\n",
    "kp_sum=0\n",
    "kb_sum=0\n",
    "kd_sum=0\n",
    "# for N,prob in zip(n_values_qs,prob_values_qs):  #wrong distro\n",
    "for N,prob in zip(n_qs,prob_qs):\n",
    "    Wm=comp_Wm(N)\n",
    "    Wp=comp_Wp(N)\n",
    "#     n=N/A  # --> ~48 Hz for FK\n",
    "    n=1/A  # --> ~436 Hz for FK\n",
    "    dkm=(Wm/n)*prob\n",
    "    dkp=(Wp/n)*prob\n",
    "    #record\n",
    "    km_sum += dkm\n",
    "    kp_sum += dkp\n",
    "    kb_sum += dkp+dkm\n",
    "    kd_sum += dkp-dkm\n",
    "\n",
    "#print ibid. does kappa look reasonable?\n",
    "print(f\"Area: {A} cm^2, kappa: {km_sum:.2f} Hz ({model_name})\")\n",
    "# print(f\"kappa: {kp_sum=:.4f} Hz\")\n",
    "# print(f\"kappa: {kb_sum=:.4f} Hz\")\n",
    "# print(f\"kappa: {kd_sum=:.4f} Hz\")\n",
    "kappa_lr = float(km_sum)"
   ]
  },
  {
   "cell_type": "code",
   "execution_count": 115,
   "id": "4555ef39",
   "metadata": {
    "ExecuteTime": {
     "end_time": "2022-10-07T22:18:52.538364Z",
     "start_time": "2022-10-07T22:18:52.480904Z"
    }
   },
   "outputs": [],
   "source": [
    "# float(1/(comp_Wm(2)*prob_qs[n_qs==2]))"
   ]
  },
  {
   "cell_type": "code",
   "execution_count": null,
   "id": "c22dd370",
   "metadata": {},
   "outputs": [],
   "source": [
    "# Area: 100 cm^2, kappa: 202.29 Hz (Fenton-Karma)\n",
    "# Area: 100 cm^2, kappa: 500.57 Hz (Luo-Rudy)\n",
    "# Area: 100 cm^2, kappa: 6608.97 Hz (Fenton-Karma)\n",
    "# Area: 100 cm^2, kappa: 8597.22 Hz (Luo-Rudy)"
   ]
  },
  {
   "cell_type": "markdown",
   "id": "c50eae09",
   "metadata": {},
   "source": [
    "# TODO(later): estimate alinear for fixed period"
   ]
  },
  {
   "cell_type": "markdown",
   "id": "1f43f7f3",
   "metadata": {},
   "source": [
    "### estimates of rotational period from total self-crossings\n",
    "\n",
    "Fenton-Karma:\n",
    "- number_termination_events_considered: 20\n",
    "- total number of loops observed longer than 10ms: 11293\n",
    "- (number of particles considered: 22694)\n",
    "- (mean number of loops per particle lifetime: 0.4976)\n",
    "- number of particles considered with at least 1 loop: 12368\n",
    "- mean number of loops per particle lifetime (at least 1 loop): 0.9131\n",
    "- expected num. revolutions per lifetime: lifetime_fk/period_fk=0.9082\n",
    "\n",
    "Luo-Rudy:\n",
    "- number_termination_events_considered: 639\n",
    "- total number of loops observed longer than 10ms: 10108\n",
    "- (number of particles considered with at least 1 loop: 3644)\n",
    "- (mean number of loops per particle lifetime (at least 1 loop): 2.7739)\n",
    "- number of particles considered: 29402\n",
    "- mean number of loops per particle lifetime: 0.3438\n",
    "- expected num. revolutions per lifetime: lifetime_lr/period_lr=0.3427\n",
    "\n",
    "src: http://localhost:8889/notebooks/computing%20rotational%20period%20of%20mean%20fortranic%20spiral%20trajectories.ipynb"
   ]
  },
  {
   "cell_type": "markdown",
   "id": "e6c4e805",
   "metadata": {},
   "source": [
    "0.3438\n",
    "lifetime_lr/0.3427 = period_lr\n",
    "period_lr = lifetime_lr/0.3438 \n"
   ]
  },
  {
   "cell_type": "code",
   "execution_count": null,
   "id": "5f2ee241",
   "metadata": {},
   "outputs": [],
   "source": []
  }
 ],
 "metadata": {
  "hide_input": false,
  "kernelspec": {
   "display_name": "Python 3 (ipykernel)",
   "language": "python",
   "name": "python3"
  },
  "language_info": {
   "codemirror_mode": {
    "name": "ipython",
    "version": 3
   },
   "file_extension": ".py",
   "mimetype": "text/x-python",
   "name": "python",
   "nbconvert_exporter": "python",
   "pygments_lexer": "ipython3",
   "version": "3.9.13"
  },
  "latex_envs": {
   "LaTeX_envs_menu_present": true,
   "autoclose": true,
   "autocomplete": false,
   "bibliofile": "biblio.bib",
   "cite_by": "apalike",
   "current_citInitial": 1,
   "eqLabelWithNumbers": false,
   "eqNumInitial": 1,
   "hotkeys": {
    "equation": "Ctrl-E",
    "itemize": "Ctrl-I"
   },
   "labels_anchors": false,
   "latex_user_defs": false,
   "report_style_numbering": false,
   "user_envs_cfg": false
  },
  "nbTranslate": {
   "displayLangs": [
    "*"
   ],
   "hotkey": "alt-t",
   "langInMainMenu": true,
   "sourceLang": "en",
   "targetLang": "fr",
   "useGoogleTranslate": true
  },
  "toc": {
   "base_numbering": 1,
   "nav_menu": {},
   "number_sections": true,
   "sideBar": true,
   "skip_h1_title": false,
   "title_cell": "Table of Contents",
   "title_sidebar": "Contents",
   "toc_cell": false,
   "toc_position": {},
   "toc_section_display": true,
   "toc_window_display": false
  }
 },
 "nbformat": 4,
 "nbformat_minor": 5
}
