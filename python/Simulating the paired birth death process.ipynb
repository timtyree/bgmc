{
 "cells": [
  {
   "cell_type": "markdown",
   "id": "bb7ee63f",
   "metadata": {},
   "source": [
    "# Simulating the paired birth death process\n",
    "Tim Tyree<br>\n",
    "10.12.2022"
   ]
  },
  {
   "cell_type": "markdown",
   "id": "7b689290",
   "metadata": {},
   "source": [
    "## import python modules"
   ]
  },
  {
   "cell_type": "code",
   "execution_count": 1,
   "id": "6051eefe",
   "metadata": {
    "ExecuteTime": {
     "end_time": "2023-06-20T20:45:13.876885Z",
     "start_time": "2023-06-20T20:45:10.133421Z"
    }
   },
   "outputs": [
    {
     "name": "stderr",
     "output_type": "stream",
     "text": [
      "/Users/timothytyree/opt/miniconda3/envs/pyenv/lib/python3.9/site-packages/statsmodels/compat/pandas.py:61: FutureWarning: pandas.Int64Index is deprecated and will be removed from pandas in a future version. Use pandas.Index with the appropriate dtype instead.\n",
      "  from pandas import Int64Index as NumericIndex\n"
     ]
    }
   ],
   "source": [
    "from lib import *"
   ]
  },
  {
   "cell_type": "code",
   "execution_count": 2,
   "id": "2e1147a0",
   "metadata": {
    "ExecuteTime": {
     "end_time": "2023-06-20T20:45:13.986389Z",
     "start_time": "2023-06-20T20:45:13.879549Z"
    }
   },
   "outputs": [],
   "source": [
    "%load_ext autoreload\n",
    "%autoreload 2"
   ]
  },
  {
   "cell_type": "code",
   "execution_count": 3,
   "id": "c1e62bbe",
   "metadata": {
    "ExecuteTime": {
     "end_time": "2023-06-20T20:45:14.041248Z",
     "start_time": "2023-06-20T20:45:13.988828Z"
    }
   },
   "outputs": [],
   "source": [
    "# %reload_ext autoreload"
   ]
  },
  {
   "cell_type": "code",
   "execution_count": 4,
   "id": "c7ddc714",
   "metadata": {
    "ExecuteTime": {
     "end_time": "2023-06-20T20:45:14.101516Z",
     "start_time": "2023-06-20T20:45:14.045810Z"
    }
   },
   "outputs": [],
   "source": [
    "from collections import deque\n",
    "from scipy import stats\n",
    "darkmode=False\n",
    "if darkmode:\n",
    "    # For darkmode plots\n",
    "    from jupyterthemes import jtplot\n",
    "    jtplot.style(theme='monokai', context='notebook', ticks=True, grid=False)\n",
    "import warnings\n",
    "warnings.simplefilter(\"ignore\", UserWarning)\n",
    "# import cupy as cp\n",
    "np.random.seed(42)\n",
    "# cp.random.seed(42)"
   ]
  },
  {
   "cell_type": "code",
   "execution_count": 5,
   "id": "dd060137",
   "metadata": {
    "ExecuteTime": {
     "end_time": "2023-06-20T20:45:14.172575Z",
     "start_time": "2023-06-20T20:45:14.103552Z"
    }
   },
   "outputs": [],
   "source": [
    "plt.plot([1]*4)\n",
    "plt.close()\n",
    "#reset matplotlib\n",
    "import matplotlib\n",
    "matplotlib.rcParams.update(matplotlib.rcParamsDefault)\n",
    "\n",
    "# import numpy as np, pandas as pd\n",
    "# import matplotlib.pyplot as plt\n",
    "# # %matplotlib notebook\n",
    "# %matplotlib inline"
   ]
  },
  {
   "cell_type": "code",
   "execution_count": 6,
   "id": "f103a149",
   "metadata": {
    "ExecuteTime": {
     "end_time": "2023-06-20T20:45:14.245750Z",
     "start_time": "2023-06-20T20:45:14.174846Z"
    }
   },
   "outputs": [],
   "source": [
    "wjr=recall_powerlaw_fits_to_full_models()"
   ]
  },
  {
   "cell_type": "markdown",
   "id": "9b3da639",
   "metadata": {},
   "source": [
    "# define module"
   ]
  },
  {
   "cell_type": "code",
   "execution_count": 7,
   "id": "67e1984c",
   "metadata": {
    "ExecuteTime": {
     "end_time": "2023-06-20T20:45:14.307673Z",
     "start_time": "2023-06-20T20:45:14.248175Z"
    }
   },
   "outputs": [],
   "source": [
    "#TODO: move these to lib\n",
    "#set initial number of particles\n",
    "@njit\n",
    "def comp_first_passage_time_paired_bd_process(\n",
    "        N=6,\n",
    "        DT=0.1,\n",
    "        random_state=42,\n",
    "        max_num_steps=1000000,**kwargs):\n",
    "    \"\"\"\n",
    "    Example Usage:\n",
    "first_passage_time = comp_first_passage_time_paired_bd_process(N=6,\n",
    "            random_state=42,max_num_steps=1000000)#,**kwargs)\n",
    "    \"\"\"\n",
    "    np.random.seed(random_state)\n",
    "    error_code=0\n",
    "    assert N%2==0\n",
    "    step=0\n",
    "    dont_break=True\n",
    "    while dont_break:\n",
    "        #compute transition probabilities\n",
    "        pup = Wp(N)*DT\n",
    "        pum = Wm(N)*DT\n",
    "        #randomly sample a value\n",
    "        p = np.random.rand()\n",
    "        #change depending on that value\n",
    "        if p>pup:\n",
    "            N+=2\n",
    "        if p<pum:\n",
    "            N-=2\n",
    "        #i know edge case exists for ~1/2 of the sample in theory.\n",
    "        #decide edge cases by predominance\n",
    "        #by setting switch to go up instead of down when transition is otherwise undefined.\n",
    "        #else, we'll keep to the default, wherein negative wins...\n",
    "        if pum>pup:\n",
    "            #closest one to half wins\n",
    "            dpum=np.abs(0.5-pum)\n",
    "            dpup=np.abs(0.5-pup)\n",
    "            if dpup<dpum:\n",
    "                #then for once, positive wins!\n",
    "                if (p>pup) & (p<pum):\n",
    "                    N+=2\n",
    "        #break if not a particle exists\n",
    "        if N<1:\n",
    "            dont_break=False\n",
    "        elif step>max_num_steps:\n",
    "            dont_break=False\n",
    "            error_code=1\n",
    "        step+=1\n",
    "\n",
    "    first_passage_time = step*DT\n",
    "    return first_passage_time\n",
    "\n",
    "def construct_transition_matrix_paired_bd_process(Wp,Wm,\n",
    "                                max_num_particles_init_over_2=200,**kwargs):\n",
    "    \"\"\"\n",
    "    Example Usage:\n",
    "DT=0.000025 #stable?\n",
    "t_matrix = construct_transition_matrix_paired_bd_process(Wp,Wm,\n",
    "                                max_num_particles_init_over_2=200)#,**kwargs)\n",
    "t_matrix*=DT #transfer func is now in dimensionless units \n",
    "    \"\"\"\n",
    "    dim=max_num_particles_init_over_2\n",
    "    #precompute the transition matrix\n",
    "    N_values = 2*(1+np.arange(dim))\n",
    "    t_matrix=np.zeros((dim,dim))\n",
    "    for i,N in enumerate(N_values):\n",
    "        flux_in_lo = Wp(N-2)\n",
    "        flux_in_hi = Wm(N+2)\n",
    "        flux_out= Wp(N) + Wm(N)\n",
    "        t_matrix[i,i]-=flux_out\n",
    "        t_matrix[i,i-1]+=flux_in_lo\n",
    "        if i+1<dim:\n",
    "            t_matrix[i,i+1]+=flux_in_hi\n",
    "    t_matrix[0,0] = -(Wm(2)+Wp(2)) # from N=2\n",
    "    t_matrix[0,1] = Wm(4) # from N=4\n",
    "    #reflecting bc at end\n",
    "    Nmax=int(N_values[-1])\n",
    "    t_matrix[-1,-1] = -Wm(Nmax) #-(Wm(Nmax)+Wp(Nmax)) \n",
    "    t_matrix[-1,-2] = Wp(Nmax-2) \n",
    "    return t_matrix\n",
    "\n",
    "def integrate_transition_matrix(t_matrix,P_values,\n",
    "                                num_steps=100000,\n",
    "                                save_every=1000,**kwargs):\n",
    "    \"\"\"\n",
    "    Example Usage:\n",
    "P_values=P_qs.copy()\n",
    "print(f\"{sum(P_values)=}\")\n",
    "t_values,P_net_values = integrate_transition_matrix(t_matrix,P_values,\n",
    "                                num_steps=100000,save_every=1000)#,**kwargs)\n",
    "print(f\"{P_net_values[-1]=}\")\n",
    "    \"\"\"\n",
    "    #input:  \n",
    "    #output: \n",
    "    P_net_lst=[]\n",
    "    step_lst=[]\n",
    "    for step in range(num_steps):\n",
    "        # dP_values=np.dot(t_matrix,P_values)\n",
    "        P_values+=np.dot(t_matrix,P_values)#dP_values\n",
    "        if step%save_every==0:\n",
    "            P_net = np.sum(P_values)\n",
    "            #record\n",
    "            P_net_lst.append(P_net)\n",
    "            step_lst.append(step)\n",
    "        #P_net_values[step]=P_net\n",
    "    P_net_values=np.array(P_net_lst)\n",
    "    t_values=np.array(step_lst)*DT #seconds\n",
    "    return t_values,P_net_values\n",
    "\n",
    "\n",
    "# t_values=np.arange(num_steps)*DT #seconds"
   ]
  },
  {
   "cell_type": "markdown",
   "id": "9b1aa667",
   "metadata": {},
   "source": [
    "# scratchwerk"
   ]
  },
  {
   "cell_type": "code",
   "execution_count": 8,
   "id": "7770ad6f",
   "metadata": {
    "ExecuteTime": {
     "end_time": "2023-06-20T20:45:14.359509Z",
     "start_time": "2023-06-20T20:45:14.309407Z"
    }
   },
   "outputs": [],
   "source": [
    "# #define token system parameters\n",
    "# num=4/3\n",
    "# nup=2/3\n",
    "# A=1.\n",
    "# Mp=1.\n",
    "# # mag_ratio=0.5 #minus divided by plus\n",
    "# # Mm=float(Mp * mag_ratio)\n",
    "# Mm=0.5\n",
    "# comp_Wp = get_comp_W(A,nup,Mp)\n",
    "# comp_Wm = get_comp_W(A,num,Mm)\n",
    "# Wp = njit(comp_Wp)\n",
    "# Wm = njit(comp_Wm)\n"
   ]
  },
  {
   "cell_type": "code",
   "execution_count": 9,
   "id": "53225092",
   "metadata": {
    "ExecuteTime": {
     "end_time": "2023-06-20T20:45:14.410541Z",
     "start_time": "2023-06-20T20:45:14.361882Z"
    }
   },
   "outputs": [],
   "source": [
    "# #define time step, DT\n",
    "# DT = 0.1\n",
    "# # DT = 0.025\n",
    "# print(f\"let {DT=} seconds.\")\n",
    "# print(f\"{np.sqrt((DT*512)**2*100)=}\")\n",
    "# print(f\"{np.log(128)/np.log(2)=}\")\n",
    "# print(f\"{np.sqrt(128/2)=}\")"
   ]
  },
  {
   "cell_type": "markdown",
   "id": "442c69f4",
   "metadata": {},
   "source": [
    "__result:__ ^that attempt is inefficient.  it didn't even finish after 10000002 time steps\n"
   ]
  },
  {
   "cell_type": "code",
   "execution_count": 10,
   "id": "08cb911d",
   "metadata": {
    "ExecuteTime": {
     "end_time": "2023-06-20T20:45:14.463413Z",
     "start_time": "2023-06-20T20:45:14.415838Z"
    }
   },
   "outputs": [],
   "source": [
    "#compute the probability of upward/downward transition by powerlaw\n",
    "#input: N, Wp, Wm\n",
    "#output: real value between 0 and 1\n",
    "#TODO: implement linked list bc it handles infinite spaces well.\n",
    "#HINT: stackoverflow numpy linked list datatype"
   ]
  },
  {
   "cell_type": "code",
   "execution_count": 11,
   "id": "1c8bf44a",
   "metadata": {
    "ExecuteTime": {
     "end_time": "2023-06-20T20:45:14.512700Z",
     "start_time": "2023-06-20T20:45:14.465310Z"
    }
   },
   "outputs": [],
   "source": [
    "# #test comp_first_passage_time_paired_bd_process works\n",
    "# random_state=42\n",
    "# np.random.seed(random_state)\n",
    "\n",
    "# max_num_steps=100000\n",
    "\n",
    "\n",
    "\n",
    "# # first_passage_time = comp_first_passage_time_paired_bd_process(N=6,DT=DT,\n",
    "# #                                             max_num_steps=1000000)\n",
    "# comp_first_passage_time_paired_bd_process(\n",
    "#         N=6,\n",
    "#         DT=0.1,\n",
    "#         random_state=43,\n",
    "#         max_num_steps=1000000)\n",
    "\n",
    "# # first_passage_time\n",
    "# #TODO: vectorize ^this\n",
    "# # first_passage_time = comp_first_passage_time_paired_bd_process(N=6,\n",
    "# #             random_state=42,max_num_steps=1000000)#,**kwargs)\n",
    "# # first_passage_time\n"
   ]
  },
  {
   "cell_type": "code",
   "execution_count": 12,
   "id": "58e4b890",
   "metadata": {
    "ExecuteTime": {
     "end_time": "2023-06-20T20:45:14.569169Z",
     "start_time": "2023-06-20T20:45:14.514915Z"
    }
   },
   "outputs": [],
   "source": [
    "#warning >5 min run time\n",
    "# #simulate first passage times many times\n",
    "# max_num_steps=1000000\n",
    "# num_epochs=100\n",
    "# DT=0.01\n",
    "# seed=random_state\n",
    "# N_values  = np.arange(2,80,2)\n",
    "# zeroes_values = np.zeros_like(N_values)\n",
    "# first_passage_time_values_lst = []\n",
    "# for epoch in range(num_epochs):\n",
    "#     first_passage_time_values = zeroes_values.copy()    \n",
    "#     for i,N in enumerate(N_values):\n",
    "#         first_passage_time_values[i]=comp_first_passage_time_paired_bd_process(\n",
    "#                 N=N,DT=DT,random_state=seed*(epoch+1),max_num_steps=max_num_steps)\n",
    "#     #record\n",
    "#     first_passage_time_values_lst.append(first_passage_time_values.copy())\n",
    "# #     first_passage_time_values_lst.append(first_passage_time_values)"
   ]
  },
  {
   "cell_type": "code",
   "execution_count": 13,
   "id": "721c16e1",
   "metadata": {
    "ExecuteTime": {
     "end_time": "2023-06-20T20:45:14.624732Z",
     "start_time": "2023-06-20T20:45:14.571158Z"
    }
   },
   "outputs": [],
   "source": [
    "# first_passage_time_values_lst[1]"
   ]
  },
  {
   "cell_type": "code",
   "execution_count": 14,
   "id": "f3831e3b",
   "metadata": {
    "ExecuteTime": {
     "end_time": "2023-06-20T20:45:14.696613Z",
     "start_time": "2023-06-20T20:45:14.626163Z"
    }
   },
   "outputs": [],
   "source": [
    "# arr = np.stack(first_passage_time_values_lst)\n",
    "# y_values = np.mean(arr,axis=0)\n",
    "# plt.plot(N_values,y_values)"
   ]
  },
  {
   "cell_type": "code",
   "execution_count": 15,
   "id": "273432ea",
   "metadata": {
    "ExecuteTime": {
     "end_time": "2023-06-20T20:45:14.748293Z",
     "start_time": "2023-06-20T20:45:14.698396Z"
    }
   },
   "outputs": [],
   "source": [
    "# #DONE: estimate the distribution of termination times\n",
    "# arr[-1].shape"
   ]
  },
  {
   "cell_type": "code",
   "execution_count": 16,
   "id": "c92e19e9",
   "metadata": {
    "ExecuteTime": {
     "end_time": "2023-06-20T20:45:14.801870Z",
     "start_time": "2023-06-20T20:45:14.750530Z"
    }
   },
   "outputs": [],
   "source": [
    "# arr[:,-1]"
   ]
  },
  {
   "cell_type": "code",
   "execution_count": 17,
   "id": "e5d3c9ff",
   "metadata": {
    "ExecuteTime": {
     "end_time": "2023-06-20T20:45:14.852816Z",
     "start_time": "2023-06-20T20:45:14.803535Z"
    }
   },
   "outputs": [],
   "source": [
    "# fontsize=14\n",
    "# bins=np.arange(4,20,0.2)\n",
    "# fig,ax=plt.subplots()\n",
    "# for i in range(10):\n",
    "#     ax.hist(arr[:,i],bins=bins,label=i)\n",
    "# format_plot(ax=ax,xlabel='x',ylabel='y',fontsize=fontsize)\n",
    "# ax.legend(fontsize=fontsize,loc='upper right')\n",
    "# plt.show()"
   ]
  },
  {
   "cell_type": "code",
   "execution_count": 18,
   "id": "02a6c06f",
   "metadata": {
    "ExecuteTime": {
     "end_time": "2023-06-20T20:45:14.908013Z",
     "start_time": "2023-06-20T20:45:14.854793Z"
    }
   },
   "outputs": [],
   "source": [
    "# TODO: average ^this over the expected number of particles from the qs distrib"
   ]
  },
  {
   "cell_type": "code",
   "execution_count": 19,
   "id": "99ac6148",
   "metadata": {
    "ExecuteTime": {
     "end_time": "2023-06-20T20:45:14.963369Z",
     "start_time": "2023-06-20T20:45:14.909474Z"
    }
   },
   "outputs": [],
   "source": [
    "# def comp_probability_current(N,N_values,P_values,Wp,Wm):\n",
    "#     \"\"\"returns the probability current in the paired birth-death process.\n",
    "    \n",
    "#     N_values is int array indexed by int N.  \n",
    "#     P_values is a float array. \n",
    "#     Wp,Wm are real functions that return floats.\n",
    "    \n",
    "#     Example Usage:\n",
    "# P_values=np.ones(N_values.shape[0])\n",
    "# flux_in_hi , flux_in_lo , flux_out = comp_probability_current(N,N_values,P_values,Wp,Wm)\n",
    "#     \"\"\"\n",
    "#     P = float(P_values[N==N_values])\n",
    "#     Pp= float(P_values[N+2==N_values])\n",
    "#     Pm= float(P_values[N-2==N_values])\n",
    "#     flux_in_lo = Wp(N-2)*Pm \n",
    "#     flux_in_hi = Wm(N+2)*Pp \n",
    "#     flux_out= Wp(N)*P    + Wm(N)*P \n",
    "#     current = flux_in_hi + flux_in_lo - flux_out\n",
    "#     return flux_in_hi , flux_in_lo , flux_out\n",
    "#     #return current"
   ]
  },
  {
   "cell_type": "markdown",
   "id": "505effa5",
   "metadata": {},
   "source": [
    "# integrate the transition matrix"
   ]
  },
  {
   "cell_type": "code",
   "execution_count": 20,
   "id": "7a3d3b6a",
   "metadata": {
    "ExecuteTime": {
     "end_time": "2023-06-20T20:45:15.018488Z",
     "start_time": "2023-06-20T20:45:14.965233Z"
    }
   },
   "outputs": [],
   "source": [
    "#DONE: dev deterministic one step method from the recurrance relation from the master equation\n",
    "#input: Wp, Wm\n",
    "#output: t_matrix = transition matrix for this linear system of ode's\n",
    "#input: t_matrix,p_values\n",
    "#output: number of steps until termination"
   ]
  },
  {
   "cell_type": "code",
   "execution_count": 21,
   "id": "a10f5255",
   "metadata": {
    "ExecuteTime": {
     "end_time": "2023-06-20T20:45:15.075231Z",
     "start_time": "2023-06-20T20:45:15.019927Z"
    }
   },
   "outputs": [],
   "source": [
    "max_num_particles_init_over_2=512\n",
    "max_num_particles_init_over_2=50\n",
    "max_num_particles_init_over_2=200\n"
   ]
  },
  {
   "cell_type": "code",
   "execution_count": null,
   "id": "e9e42eb2",
   "metadata": {
    "ExecuteTime": {
     "end_time": "2022-12-18T21:26:57.305528Z",
     "start_time": "2022-12-18T21:26:56.888722Z"
    }
   },
   "outputs": [],
   "source": []
  },
  {
   "cell_type": "code",
   "execution_count": 22,
   "id": "d3a0eca4",
   "metadata": {
    "ExecuteTime": {
     "end_time": "2023-06-20T20:45:15.154838Z",
     "start_time": "2023-06-20T20:45:15.076785Z"
    }
   },
   "outputs": [
    {
     "name": "stdout",
     "output_type": "stream",
     "text": [
      "m = 0.229594 +/- 0.010098\n",
      "M = 0.864210 +/- 0.002349 Hz/cm^2; B=0.529597 +/- 0.020570\n",
      "RMSE=0.0215 Hz/cm^2; R^2=0.9655; MPE=3.0209%; N=73\n",
      "m = 0.714755 +/- 0.009768\n",
      "M = 3.277073 +/- 0.102643 Hz/cm^2; B=5.262676 +/- 0.107278\n",
      "RMSE=0.0417 Hz/cm^2; R^2=0.9971; MPE=4.2323%; N=62\n",
      "\n",
      "wjr['fk_pbc']:\n",
      "m=1.8772341309722325\n",
      "Delta_m=0.02498750277237229\n",
      "M=5.572315674840435\n",
      "Delta_M=0.3053120355191732\n",
      "b=1.665608066257863\n",
      "Delta_b=0.029341409948945123\n",
      "\n",
      "wjr['lr_pbc']:\n",
      "m=1.6375562704001745\n",
      "Delta_m=0.017190912126700632\n",
      "M=16.73559858353835\n",
      "Delta_M=0.8465090320196467\n",
      "b=2.86877101880514\n",
      "Delta_b=0.0311865277365552\n",
      "\n",
      "wjr['fk_pbc']:\n",
      "m=1.8772341309722325\n",
      "Delta_m=0.02498750277237229\n",
      "M=5.572315674840435\n",
      "Delta_M=0.3053120355191732\n",
      "b=1.665608066257863\n",
      "Delta_b=0.029341409948945123\n",
      "\n",
      "wjr['lr_pbc']:\n",
      "m=1.6375562704001745\n",
      "Delta_m=0.017190912126700632\n",
      "M=16.73559858353835\n",
      "Delta_M=0.8465090320196467\n",
      "b=2.86877101880514\n",
      "Delta_b=0.0311865277365552\n"
     ]
    }
   ],
   "source": [
    "# input_fn = search_for_file()\n",
    "# input_fn\n",
    "\n",
    "kwargs = dict(data_fk_dir=f'{nb_dir}/data/full_results/data_fig4_vidmar_fk_tt.csv',\n",
    "              data_lr_dir=f'{nb_dir}/data/full_results/data_fig4_vidmar_lr_tt.csv',\n",
    "             min_num_particles=9)\n",
    "dict_wjr = recall_death_rates_vidmar_rappel(**kwargs)\n",
    "fk=dict_wjr['fk'].sort_values(by='q')\n",
    "lr=dict_wjr['lr'].sort_values(by='q')\n",
    "\n",
    "# birth_rate_dir_fk = '/home/timothytyree/Documents/GitHub/bgmc/python/data/full_results/data_fig4_timothy_fk_up2_rescaled_per_tt.csv'\n",
    "# birth_rate_dir_lr = '/home/timothytyree/Documents/GitHub/bgmc/python/data/full_results/data_fig4_timothy_lr_up2_rescaled_per_tt.csv'\n",
    "birth_rate_dir_fk = '/Users/timothytyree/Documents/GitHub/bgmc/python/data/full_results/data_fig4_timothy_fk_up2_rescaled_per_tt.csv'\n",
    "birth_rate_dir_lr = '/Users/timothytyree/Documents/GitHub/bgmc/python/data/full_results/data_fig4_timothy_lr_up2_rescaled_per_tt.csv'\n",
    "# death_rate_dir_fk = '/Users/timothytyree/Documents/GitHub/bgmc/python/data/full_results/data_fig4_vidmar_fk_rescaled_rates.csv'\n",
    "# death_rate_dir_lr = '/Users/timothytyree/Documents/GitHub/bgmc/python/data/full_results/data_fig4_vidmar_lr_rescaled_rates.csv'\n",
    "# df_death = pd.read_csv(death_rate_dir_fk)\n",
    "df_birth_fk = pd.read_csv(birth_rate_dir_fk)\n",
    "# df_death = pd.read_csv(death_rate_dir_lr)\n",
    "df_birth_lr = pd.read_csv(birth_rate_dir_lr)\n",
    "\n",
    "#scale from kHz to Hz\n",
    "df_birth_fk['w']*=1e3\n",
    "df_birth_lr['w']*=1e3\n",
    "\n",
    "# DONE: compute powerlaw fits of birth rates wjr\n",
    "dict_fit_birth_fk = print_fit_power_law(x=df_birth_fk['q'].values,y=df_birth_fk['w'].values)\n",
    "dict_fit_birth_lr = print_fit_power_law(x=df_birth_lr['q'].values,y=df_birth_lr['w'].values)\n",
    "\n",
    "print(f\"\\nwjr['fk_pbc']:\")\n",
    "print_dict(wjr['fk_pbc'])\n",
    "print(f\"\\nwjr['lr_pbc']:\")\n",
    "print_dict(wjr['lr_pbc'])\n",
    "\n",
    "print(f\"\\nwjr['fk_pbc']:\")\n",
    "print_dict(wjr['fk_pbc'])\n",
    "print(f\"\\nwjr['lr_pbc']:\")\n",
    "print_dict(wjr['lr_pbc'])"
   ]
  },
  {
   "cell_type": "code",
   "execution_count": 23,
   "id": "ee6b765f",
   "metadata": {
    "ExecuteTime": {
     "end_time": "2023-06-20T20:45:15.212520Z",
     "start_time": "2023-06-20T20:45:15.156934Z"
    }
   },
   "outputs": [],
   "source": [
    "#DONE: get token inputs prepared\n",
    "dict_fit_death_lr = dict(wjr['lr_pbc'])\n",
    "dict_fit_death_fk = dict(wjr['fk_pbc'])\n",
    "Mp = dict_fit_birth_fk['M']\n",
    "nup = dict_fit_birth_fk['m']\n",
    "Mm = dict_fit_death_fk['M']\n",
    "num = dict_fit_death_fk['m']\n",
    "model_name='Fenton-Karma'\n",
    "\n",
    "Mp = dict_fit_birth_lr['M']\n",
    "nup = dict_fit_birth_lr['m']\n",
    "Mm = dict_fit_death_lr['M']\n",
    "num = dict_fit_death_lr['m']\n",
    "model_name='Luo-Rudy'"
   ]
  },
  {
   "cell_type": "code",
   "execution_count": 24,
   "id": "9446f57c",
   "metadata": {
    "ExecuteTime": {
     "end_time": "2023-06-20T20:45:15.331580Z",
     "start_time": "2023-06-20T20:45:15.215041Z"
    }
   },
   "outputs": [],
   "source": [
    "#TODO: compute the eigenvalues of the transition matrix\n",
    "#TODO: compute the fraction terminated time trace initializing at the quasistatic distribution\n",
    "#estimate the quasistatic distribution\n",
    "# L=5 #cm\n",
    "# A=L**2\n",
    "A = 100\n",
    "num_iter=20\n",
    "\n",
    "#TODO: recall the powerlaw fits to the FK model \n",
    "#heretim\n",
    "\n",
    "# Wp = get_comp_W(A,nup,Mp)\n",
    "# Wm = get_comp_W(A,num,Mm)\n",
    "comp_Wp = get_comp_W(A,nup,Mp)\n",
    "comp_Wm = get_comp_W(A,num,Mm)\n",
    "Wp = njit(comp_Wp)\n",
    "Wm = njit(comp_Wm)\n",
    "\n",
    "# n_qs,prob_qs = comp_quasistatic_distrib_paired_bdrates(comp_Wm,comp_Wp,num_iter=num_iter,freq_prev=1.)\n",
    "n_qs,prob_qs = comp_quasistatic_distrib_paired_bdrates(Wm,Wp,num_iter=num_iter,freq_prev=100.)"
   ]
  },
  {
   "cell_type": "code",
   "execution_count": 25,
   "id": "2766beea",
   "metadata": {
    "ExecuteTime": {
     "end_time": "2023-06-20T20:45:15.384709Z",
     "start_time": "2023-06-20T20:45:15.333561Z"
    }
   },
   "outputs": [],
   "source": [
    "# DT=0.01\n",
    "# DT=0.0025\n",
    "# DT=0.0000025 #stable at N=Nmax measurement as initial condition\n",
    "#DONT: #transpose\n",
    "# t_matrix = t_matrix.T.copy()\n",
    "# num_steps=100000\n",
    "# save_every=1000\n",
    "# num_steps=int(1e8)\n",
    "# save_every=10000\n",
    "# num_steps=int(1e6)  #gives a perfect exponential curve in <60 seconds\n",
    "#TODO: use  ^this 1e6 time steps to deduce the \n",
    "# functional dependence / gradients of nup,num,Mp,Mm evaluated at the full models\n",
    "#implement the absorbing boundary condition at N=0\n",
    "#DONE: do a basic numerical test case using an initial state measured to be at N=2.\n",
    "# P_values = np.zeros(dim)\n",
    "# P_values[0]=1. #measured to be at N=2.\n",
    "# P_values[-1]=1. #measured to be at N=Nmax."
   ]
  },
  {
   "cell_type": "code",
   "execution_count": 26,
   "id": "ed36bb49",
   "metadata": {
    "ExecuteTime": {
     "end_time": "2023-06-20T20:45:15.447321Z",
     "start_time": "2023-06-20T20:45:15.387967Z"
    }
   },
   "outputs": [],
   "source": [
    "max_num_particles_init_over_2=200\n",
    "DT=0.000025 #stable\n",
    "t_matrix = construct_transition_matrix_paired_bd_process(Wp,Wm,\n",
    "                                max_num_particles_init_over_2=max_num_particles_init_over_2)#,**kwargs)\n",
    "t_matrix*=DT #transfer func is now in dimensionless units "
   ]
  },
  {
   "cell_type": "code",
   "execution_count": 27,
   "id": "2a47e50d",
   "metadata": {
    "ExecuteTime": {
     "end_time": "2023-06-20T20:45:15.508132Z",
     "start_time": "2023-06-20T20:45:15.449946Z"
    }
   },
   "outputs": [
    {
     "data": {
      "text/plain": [
       "((200,), 0.9999999999999999)"
      ]
     },
     "execution_count": 27,
     "metadata": {},
     "output_type": "execute_result"
    }
   ],
   "source": [
    "# num_iter=int(Nmax/2)\n",
    "dim=max_num_particles_init_over_2\n",
    "N_qs,P_qs = comp_quasistatic_distrib_paired_bdrates(Wm,Wp,num_iter=dim,freq_prev=1.)\n",
    "# P_qs/=np.sum(P_qs) #normalize for 1.0000000000000002 floating point arith error\n",
    "# assert np.sum(P_qs)==1\n",
    "P_qs.shape,np.sum(P_qs)"
   ]
  },
  {
   "cell_type": "code",
   "execution_count": 231,
   "id": "4cadac88",
   "metadata": {
    "ExecuteTime": {
     "end_time": "2023-06-20T22:48:33.384542Z",
     "start_time": "2023-06-20T22:48:08.196138Z"
    }
   },
   "outputs": [
    {
     "name": "stdout",
     "output_type": "stream",
     "text": [
      "sum(P_values)=1.0000000000000002\n",
      "P_net_values[-1]=0.11004047415415986\n"
     ]
    }
   ],
   "source": [
    "#<10s run time to simulate\n",
    "#num_steps=100000\n",
    "# tmax=25\n",
    "tmax=100\n",
    "num_steps=int(tmax/DT)\n",
    "P_values=P_qs.copy()\n",
    "print(f\"{sum(P_values)=}\")\n",
    "t_values,P_net_values = integrate_transition_matrix(t_matrix,P_values,\n",
    "                                num_steps=num_steps,save_every=1000)#,**kwargs)\n",
    "print(f\"{P_net_values[-1]=}\")\n"
   ]
  },
  {
   "cell_type": "code",
   "execution_count": 232,
   "id": "b49812a0",
   "metadata": {
    "ExecuteTime": {
     "end_time": "2023-06-20T22:48:33.450298Z",
     "start_time": "2023-06-20T22:48:33.387062Z"
    }
   },
   "outputs": [],
   "source": [
    "\n",
    "#DONE: find where I directly integrate the mastser equations\n",
    "#DONE: wrap it to foo\n",
    "#DONE: test it where it is\n",
    "#TODO: call that function here to test Eqn. 10"
   ]
  },
  {
   "cell_type": "code",
   "execution_count": 233,
   "id": "0e98f7da",
   "metadata": {
    "ExecuteTime": {
     "end_time": "2023-06-20T22:48:33.752285Z",
     "start_time": "2023-06-20T22:48:33.452298Z"
    }
   },
   "outputs": [
    {
     "data": {
      "image/png": "[encoded data removed]",
      "text/plain": [
       "<Figure size 600x400 with 1 Axes>"
      ]
     },
     "metadata": {},
     "output_type": "display_data"
    }
   ],
   "source": [
    "fig,ax=plt.subplots(figsize=(6,4))\n",
    "ax.plot(t_values,P_net_values,lw=1,color='k')\n",
    "# ax.plot(t_values,P_net_values,lw=1)\n",
    "# ax.set_xlim([DT/2,1.1])\n",
    "# ax.set_ylim([0.001,1])\n",
    "# ax.set_xscale('log')\n",
    "ax.set_yscale('log')\n",
    "format_plot(ax=ax,xlabel='time (s)',ylabel='fraction not terminated',fontsize=14)\n",
    "ax.tick_params(top=True, right=True,direction='in',which='both')\n",
    "plt.ylim([1e-1,2])\n",
    "plt.show()"
   ]
  },
  {
   "cell_type": "code",
   "execution_count": 31,
   "id": "6ade909b",
   "metadata": {
    "ExecuteTime": {
     "end_time": "2023-06-20T20:45:24.800935Z",
     "start_time": "2023-06-20T20:45:24.744328Z"
    }
   },
   "outputs": [
    {
     "name": "stdout",
     "output_type": "stream",
     "text": [
      "m=-0.022075+-0.000000\n",
      "B= 0.000050+-0.000000\n",
      "RMSE=0.0000\n",
      "R^2=1.0000\n"
     ]
    }
   ],
   "source": [
    "#compute the mean term. time from the OLS fit\n",
    "x,y=t_values,P_net_values\n",
    "B,Delta_B,m,Delta_m,Rsq=fit_exponential(x,y)\n",
    "rmse=compute_exponential_rmse(x,y,m,B)\n",
    "print_fit_exponential(x,y)\n",
    "mte = -1/m\n",
    "Delta_mte = Delta_m/(m**2)"
   ]
  },
  {
   "cell_type": "code",
   "execution_count": null,
   "id": "ec0ec10d",
   "metadata": {
    "ExecuteTime": {
     "end_time": "2023-02-14T04:31:51.046278Z",
     "start_time": "2023-02-14T04:31:51.005577Z"
    }
   },
   "outputs": [],
   "source": []
  },
  {
   "cell_type": "code",
   "execution_count": 32,
   "id": "bf68784d",
   "metadata": {
    "ExecuteTime": {
     "end_time": "2023-06-20T20:45:49.937107Z",
     "start_time": "2023-06-20T20:45:24.802656Z"
    }
   },
   "outputs": [
    {
     "name": "stdout",
     "output_type": "stream",
     "text": [
      "tau: 4.530210e+01 (eqn. 10)\n",
      "mte: 45.300102 ± 0.000061 seconds (transition matrix)\n",
      "mean num particles: 15.583139951233266 (powerlaw)\n"
     ]
    }
   ],
   "source": [
    "#evaluate Eqn. 10\n",
    "num_iter=20\n",
    "# num_iter=40\n",
    "num_iter=80\n",
    "# A=25\n",
    "num_iter\n",
    "comp_Wp = get_comp_W(A,nup,Mp)\n",
    "comp_Wm = get_comp_W(A,num,Mm)\n",
    "phi = get_phi(comp_Wm,comp_Wp)\n",
    "n_qs,prob_qs = comp_quasistatic_distrib_paired_bdrates(comp_Wm,comp_Wp,num_iter=num_iter,freq_prev=1.) #correct qs\n",
    "Nbar = np.dot(n_qs,prob_qs)\n",
    "eval_tau= get_eval_tau(eval_tau_expression)\n",
    "tau = eval_tau(n_qs, prob_qs, phi, comp_Wm, comp_Wp, printing=False,**kwargs)\n",
    "# print(f\"tau: {tau:f} (eqn. 10)\")\n",
    "print(f\"tau: {tau:e} (eqn. 10)\")\n",
    "print(f\"mte: {mte:f} ± {Delta_mte:f} seconds (transition matrix)\")\n",
    "print(f\"mean num particles: {Nbar} (powerlaw)\")"
   ]
  },
  {
   "cell_type": "code",
   "execution_count": 33,
   "id": "022e0fbb",
   "metadata": {
    "ExecuteTime": {
     "end_time": "2023-06-20T20:45:50.015600Z",
     "start_time": "2023-06-20T20:45:49.938879Z"
    }
   },
   "outputs": [
    {
     "data": {
      "text/plain": [
       "'9.369504e+08'"
      ]
     },
     "execution_count": 33,
     "metadata": {},
     "output_type": "execute_result"
    }
   ],
   "source": [
    "9.37e8\n",
    "f\"{936950391.580149:e}\""
   ]
  },
  {
   "cell_type": "code",
   "execution_count": 34,
   "id": "fb5e0bfa",
   "metadata": {
    "ExecuteTime": {
     "end_time": "2023-06-20T20:45:50.093521Z",
     "start_time": "2023-06-20T20:45:50.018523Z"
    }
   },
   "outputs": [],
   "source": [
    "\n",
    "# #FK (A=100)\n",
    "# tau: 936950391.580149 (eqn. 10)\n",
    "# mte: 937602566.766670 ± 814.104918 seconds (transition matrix)\n",
    "# mean num particles: 31.57974255220953 (powerlaw)\n",
    "# #LR (A=100)\n",
    "# tau: 4.530210e+01 (eqn. 10)\n",
    "# mte: 45.300102 ± 0.000061 seconds (transition matrix)\n",
    "# mean num particles: 15.583139951233266 (powerlaw)"
   ]
  },
  {
   "cell_type": "markdown",
   "id": "48f33e6e",
   "metadata": {},
   "source": [
    "old row from table 2:\n",
    "\n",
    "                $\\tau$   (s)        &   27.8$\\pm$6.5          & 25.9            & 1.68$\\times 10^9$     &   0.74$\\pm$0.06       &  0.51            &  8.16$\\times 10^1$ \\\\\n",
    "\n",
    "new row from table 2:\n",
    "\n",
    "                $\\tau$   (s)        &   27.8$\\pm$6.5          & 14.7            & 9.37$\\times 10^8$     &   0.74$\\pm$0.06       &  0.45            &  4.53$\\times 10^1$ \\\\\n"
   ]
  },
  {
   "cell_type": "code",
   "execution_count": 35,
   "id": "0d7bdf5a",
   "metadata": {
    "ExecuteTime": {
     "end_time": "2023-06-20T20:45:50.175753Z",
     "start_time": "2023-06-20T20:45:50.096132Z"
    }
   },
   "outputs": [],
   "source": [
    "# #LR (A=25)\n",
    "# tau: 0.445704 (eqn. 10)\n",
    "# mte: 0.415771 ± 0.000007 seconds (transition matrix)\n",
    "# mean num particles: 9.221797147385518 (powerlaw)\n",
    "\n",
    "\n",
    "# #FK (A=25)\n",
    "# tau: 14.734877 (eqn. 10)\n",
    "# mte: 14.726451 ± 0.000082 seconds (transition matrix)\n",
    "# mean num particles: 7.841028755574144 (powerlaw)"
   ]
  },
  {
   "cell_type": "code",
   "execution_count": null,
   "id": "8394e886",
   "metadata": {},
   "outputs": [],
   "source": []
  },
  {
   "cell_type": "code",
   "execution_count": null,
   "id": "0e42cda7",
   "metadata": {},
   "outputs": [],
   "source": []
  },
  {
   "cell_type": "code",
   "execution_count": 36,
   "id": "d59409d5",
   "metadata": {
    "ExecuteTime": {
     "end_time": "2023-06-20T20:45:50.257831Z",
     "start_time": "2023-06-20T20:45:50.177989Z"
    }
   },
   "outputs": [],
   "source": [
    "#Q: does changing the divide by net probability change tau?\n",
    "# A: no.\n",
    "#Q: does changing max cutoff change tau?\n",
    "# A: no.\n",
    "#Q: does reversing the change to inner_sum *= phi(2*k) change tau?\n",
    "# A: yes. tau=25.856213587248263, (Nbar=7.624837359362673)\n",
    "#Q: does tau agree with the 1/exponent from OLS fit to the distribution of termination times\n"
   ]
  },
  {
   "cell_type": "code",
   "execution_count": 37,
   "id": "e13065a0",
   "metadata": {
    "ExecuteTime": {
     "end_time": "2023-06-20T20:45:50.335668Z",
     "start_time": "2023-06-20T20:45:50.260704Z"
    }
   },
   "outputs": [],
   "source": [
    "#TODO(later): implement the IMR using a linear algebra solve\n",
    "#DONT(later): implement the IMR using the iterative method"
   ]
  },
  {
   "cell_type": "markdown",
   "id": "91ecd554",
   "metadata": {
    "ExecuteTime": {
     "end_time": "2023-02-14T03:47:39.624466Z",
     "start_time": "2023-02-14T03:47:39.590394Z"
    }
   },
   "source": [
    "# plot the transition matrix as a heatmap"
   ]
  },
  {
   "cell_type": "markdown",
   "id": "290683e9",
   "metadata": {},
   "source": [
    "__Result__ all eigen values are strictly negative, supporting the existence of a rate limiting step that sets and the effective time scale for an exponential distribution of termination times.\n",
    "\n",
    "- TODO: plug ^that into letter and let them challenge me, bruh."
   ]
  },
  {
   "cell_type": "code",
   "execution_count": 38,
   "id": "cfd7ef7e",
   "metadata": {
    "ExecuteTime": {
     "end_time": "2023-06-20T20:45:50.621525Z",
     "start_time": "2023-06-20T20:45:50.338109Z"
    }
   },
   "outputs": [
    {
     "name": "stderr",
     "output_type": "stream",
     "text": [
      "/Users/timothytyree/opt/miniconda3/envs/pyenv/lib/python3.9/site-packages/numpy/core/_asarray.py:102: ComplexWarning: Casting complex values to real discards the imaginary part\n",
      "  return array(a, dtype, copy=False, order=order)\n"
     ]
    },
    {
     "data": {
      "image/png": "[encoded data removed]",
      "text/plain": [
       "<Figure size 640x480 with 1 Axes>"
      ]
     },
     "metadata": {},
     "output_type": "display_data"
    }
   ],
   "source": [
    "plt.plot(np.linalg.eigvals(-t_matrix))\n",
    "# format_plot(use_loglog=True)\n",
    "plt.show()"
   ]
  },
  {
   "cell_type": "code",
   "execution_count": 39,
   "id": "bddf8f18",
   "metadata": {
    "ExecuteTime": {
     "end_time": "2023-06-20T20:45:51.695406Z",
     "start_time": "2023-06-20T20:45:50.624561Z"
    }
   },
   "outputs": [
    {
     "data": {
      "image/png": "[encoded data removed]",
      "text/plain": [
       "<Figure size 640x480 with 2 Axes>"
      ]
     },
     "metadata": {},
     "output_type": "display_data"
    }
   ],
   "source": [
    "sns.heatmap(t_matrix,vmin=-3,vmax=3,cmap='bwr')\n",
    "plt.show()"
   ]
  },
  {
   "cell_type": "code",
   "execution_count": 40,
   "id": "d644bb55",
   "metadata": {
    "ExecuteTime": {
     "end_time": "2023-06-20T20:45:51.834941Z",
     "start_time": "2023-06-20T20:45:51.699537Z"
    }
   },
   "outputs": [],
   "source": [
    "# dp_values =  #dpdt\n",
    "# dp_values*=DT"
   ]
  },
  {
   "cell_type": "code",
   "execution_count": 41,
   "id": "61a2d7a3",
   "metadata": {
    "ExecuteTime": {
     "end_time": "2023-06-20T20:45:51.965195Z",
     "start_time": "2023-06-20T20:45:51.839184Z"
    }
   },
   "outputs": [],
   "source": [
    "# Wp,Wm"
   ]
  },
  {
   "cell_type": "code",
   "execution_count": 42,
   "id": "e2e60caa",
   "metadata": {
    "ExecuteTime": {
     "end_time": "2023-06-20T20:45:52.091102Z",
     "start_time": "2023-06-20T20:45:51.973174Z"
    }
   },
   "outputs": [],
   "source": [
    "#TODO: dev one step method from the recurrance relation from the master equation\n",
    "#HINT: i can copy stuff from the quasistatic solution \n",
    "# if i don't want to transcribe my easily accessible notes from this afternoon.\n",
    "#TODO: compute transition from lo to hi\n",
    "#TODO: compute transition from hi to lo\n",
    "#TODO: format this as a matrix\n",
    "#TODO: multiply by the transition matrix until  "
   ]
  },
  {
   "cell_type": "code",
   "execution_count": 43,
   "id": "7b27145b",
   "metadata": {
    "ExecuteTime": {
     "end_time": "2023-06-20T20:45:52.187535Z",
     "start_time": "2023-06-20T20:45:52.094937Z"
    }
   },
   "outputs": [],
   "source": [
    "#TODO: compute thresholds lo and hi given N"
   ]
  },
  {
   "cell_type": "code",
   "execution_count": 44,
   "id": "f8644054",
   "metadata": {
    "ExecuteTime": {
     "end_time": "2023-06-20T20:45:52.282264Z",
     "start_time": "2023-06-20T20:45:52.191878Z"
    }
   },
   "outputs": [],
   "source": [
    "# pthresh_lo=?"
   ]
  },
  {
   "cell_type": "code",
   "execution_count": 45,
   "id": "02badb71",
   "metadata": {
    "ExecuteTime": {
     "end_time": "2023-06-20T20:45:52.380259Z",
     "start_time": "2023-06-20T20:45:52.285587Z"
    }
   },
   "outputs": [],
   "source": [
    "# pthresh_hi=?"
   ]
  },
  {
   "cell_type": "code",
   "execution_count": 46,
   "id": "7e888b30",
   "metadata": {
    "ExecuteTime": {
     "end_time": "2023-06-20T20:45:52.460882Z",
     "start_time": "2023-06-20T20:45:52.383387Z"
    }
   },
   "outputs": [],
   "source": [
    "# dim=max_num_particles_init_over_2\n",
    "# t_matrix=np.zeros((dim,dim))\n",
    "# l_matrix=np.zeros((dim,dim))\n",
    "# i_matrix=np.eye(dim)\n",
    "# for i in range(dim):\n",
    "#     im=i-1\n",
    "#     #im=i+1\n",
    "#     for j in range(dim):\n",
    "#         if im==j:\n",
    "#             l_matrix[i,j]=1\n",
    "# # i_matrix      \n",
    "# l_matrix.T"
   ]
  },
  {
   "cell_type": "code",
   "execution_count": null,
   "id": "f8a6cf33",
   "metadata": {},
   "outputs": [],
   "source": []
  },
  {
   "cell_type": "code",
   "execution_count": 47,
   "id": "85e7da64",
   "metadata": {
    "ExecuteTime": {
     "end_time": "2023-06-20T20:45:52.575004Z",
     "start_time": "2023-06-20T20:45:52.463775Z"
    }
   },
   "outputs": [],
   "source": [
    "# #TODO: derive the rate of growth/decay at each n value\n",
    "# N=6\n",
    "# random_state=42\n",
    "# assert N%2==0\n",
    "# np.random.seed(random_state)\n",
    "# p = np.random.rand()\n",
    "# if p<pthresh_lo:\n",
    "#     print(f\"oh oh! lo fo sho!\")\n",
    "# if p<pthresh_hi:\n",
    "#     print(f\"he hi! wanna come by!?\")"
   ]
  },
  {
   "cell_type": "code",
   "execution_count": null,
   "id": "dad5ab4c",
   "metadata": {},
   "outputs": [],
   "source": []
  },
  {
   "cell_type": "code",
   "execution_count": null,
   "id": "15dc4b26",
   "metadata": {},
   "outputs": [],
   "source": []
  },
  {
   "cell_type": "code",
   "execution_count": 48,
   "id": "3d4e8ae3",
   "metadata": {
    "ExecuteTime": {
     "end_time": "2023-06-20T20:45:52.676677Z",
     "start_time": "2023-06-20T20:45:52.578133Z"
    }
   },
   "outputs": [],
   "source": [
    "\n",
    "# # p_deque = deque(np.array(list(range(max_num_particles_init_over_2))))\n",
    "# # p_deque = deque(np.array(list(range(max_num_particles_init_over_2))))\n",
    "# n_deque = deque(np.arange(1,N+1))\n",
    "# p_deque = deque([0.*x for x in n_deque])\n",
    "# n_deque.\n",
    "# d = deque([1,2,3,4])\n",
    "\n",
    "# # # print d\n",
    "# # for x in d:\n",
    "# #     print x\n",
    "# # # print d.pop(), d"
   ]
  },
  {
   "cell_type": "markdown",
   "id": "b99172ff",
   "metadata": {},
   "source": [
    "# fit powerlaws to birth/death rates"
   ]
  },
  {
   "cell_type": "code",
   "execution_count": 49,
   "id": "f9e9b742",
   "metadata": {
    "ExecuteTime": {
     "end_time": "2023-06-20T20:45:52.801510Z",
     "start_time": "2023-06-20T20:45:52.679564Z"
    }
   },
   "outputs": [],
   "source": [
    "kwargs = dict(data_fk_dir=f'{nb_dir}/data/full_results/data_fig4_vidmar_fk_tt.csv',\n",
    "              data_lr_dir=f'{nb_dir}/data/full_results/data_fig4_vidmar_lr_tt.csv',\n",
    "             min_num_particles=9)\n",
    "dict_wjr = recall_death_rates_vidmar_rappel(**kwargs)\n",
    "fk=dict_wjr['fk'].sort_values(by='q')\n",
    "lr=dict_wjr['lr'].sort_values(by='q')"
   ]
  },
  {
   "cell_type": "code",
   "execution_count": 50,
   "id": "18efd93b",
   "metadata": {
    "ExecuteTime": {
     "end_time": "2023-06-20T20:45:52.957391Z",
     "start_time": "2023-06-20T20:45:52.808281Z"
    }
   },
   "outputs": [],
   "source": [
    "birth_rate_dir_fk = f'{nb_dir}//data/full_results/data_fig4_timothy_fk_up2_rescaled_per_tt.csv'\n",
    "birth_rate_dir_lr = f'{nb_dir}//data/full_results/data_fig4_timothy_lr_up2_rescaled_per_tt.csv'\n",
    "# birth_rate_dir_fk = '/home/timothytyree/Documents/GitHub/bgmc/python/data/full_results/data_fig4_timothy_fk_up2_rescaled_per_tt.csv'\n",
    "# birth_rate_dir_lr = '/home/timothytyree/Documents/GitHub/bgmc/python/data/full_results/data_fig4_timothy_lr_up2_rescaled_per_tt.csv'\n",
    "# death_rate_dir_fk = '/Users/timothytyree/Documents/GitHub/bgmc/python/data/full_results/data_fig4_vidmar_fk_rescaled_rates.csv'\n",
    "# death_rate_dir_lr = '/Users/timothytyree/Documents/GitHub/bgmc/python/data/full_results/data_fig4_vidmar_lr_rescaled_rates.csv'\n",
    "# df_death = pd.read_csv(death_rate_dir_fk)\n",
    "df_birth_fk = pd.read_csv(birth_rate_dir_fk)\n",
    "# df_death = pd.read_csv(death_rate_dir_lr)\n",
    "df_birth_lr = pd.read_csv(birth_rate_dir_lr)\n",
    "\n",
    "#scale from kHz to Hz\n",
    "df_birth_fk['w']*=1e3\n",
    "df_birth_lr['w']*=1e3"
   ]
  },
  {
   "cell_type": "code",
   "execution_count": 51,
   "id": "97e4eb3f",
   "metadata": {
    "ExecuteTime": {
     "end_time": "2023-06-20T20:45:53.062432Z",
     "start_time": "2023-06-20T20:45:52.959692Z"
    }
   },
   "outputs": [
    {
     "name": "stdout",
     "output_type": "stream",
     "text": [
      "m = 0.229594 +/- 0.010098\n",
      "M = 0.864210 +/- 0.002349 Hz/cm^2; B=0.529597 +/- 0.020570\n",
      "RMSE=0.0215 Hz/cm^2; R^2=0.9655; MPE=3.0209%; N=73\n",
      "m = 0.714755 +/- 0.009768\n",
      "M = 3.277073 +/- 0.102643 Hz/cm^2; B=5.262676 +/- 0.107278\n",
      "RMSE=0.0417 Hz/cm^2; R^2=0.9971; MPE=4.2323%; N=62\n",
      "\n",
      "wjr['fk_pbc']:\n",
      "m=1.8772341309722325\n",
      "Delta_m=0.02498750277237229\n",
      "M=5.572315674840435\n",
      "Delta_M=0.3053120355191732\n",
      "b=1.665608066257863\n",
      "Delta_b=0.029341409948945123\n",
      "\n",
      "wjr['lr_pbc']:\n",
      "m=1.6375562704001745\n",
      "Delta_m=0.017190912126700632\n",
      "M=16.73559858353835\n",
      "Delta_M=0.8465090320196467\n",
      "b=2.86877101880514\n",
      "Delta_b=0.0311865277365552\n",
      "\n",
      "wjr['fk_pbc']:\n",
      "m=1.8772341309722325\n",
      "Delta_m=0.02498750277237229\n",
      "M=5.572315674840435\n",
      "Delta_M=0.3053120355191732\n",
      "b=1.665608066257863\n",
      "Delta_b=0.029341409948945123\n",
      "\n",
      "wjr['lr_pbc']:\n",
      "m=1.6375562704001745\n",
      "Delta_m=0.017190912126700632\n",
      "M=16.73559858353835\n",
      "Delta_M=0.8465090320196467\n",
      "b=2.86877101880514\n",
      "Delta_b=0.0311865277365552\n"
     ]
    }
   ],
   "source": [
    "# DONE: compute powerlaw fits of birth rates wjr\n",
    "dict_fit_birth_fk = print_fit_power_law(x=df_birth_fk['q'].values,y=df_birth_fk['w'].values)\n",
    "dict_fit_birth_lr = print_fit_power_law(x=df_birth_lr['q'].values,y=df_birth_lr['w'].values)\n",
    "\n",
    "print(f\"\\nwjr['fk_pbc']:\")\n",
    "print_dict(wjr['fk_pbc'])\n",
    "print(f\"\\nwjr['lr_pbc']:\")\n",
    "print_dict(wjr['lr_pbc'])\n",
    "\n",
    "print(f\"\\nwjr['fk_pbc']:\")\n",
    "print_dict(wjr['fk_pbc'])\n",
    "print(f\"\\nwjr['lr_pbc']:\")\n",
    "print_dict(wjr['lr_pbc'])"
   ]
  },
  {
   "cell_type": "code",
   "execution_count": 52,
   "id": "c9317d93",
   "metadata": {
    "ExecuteTime": {
     "end_time": "2023-06-20T20:45:53.170109Z",
     "start_time": "2023-06-20T20:45:53.065149Z"
    }
   },
   "outputs": [
    {
     "data": {
      "text/plain": [
       "0.16999999999999996"
      ]
     },
     "execution_count": 52,
     "metadata": {},
     "output_type": "execute_result"
    }
   ],
   "source": [
    "xv = np.arange(0.02, 1,0.01)\n",
    "# evaluate powerlaw fits of birth rates wjr\n",
    "yv_birth_lr = dict_fit_birth_lr['M']*xv**dict_fit_birth_lr['m']\n",
    "yv_death_lr = wjr['lr_pbc']['M']*xv**wjr['lr_pbc']['m']\n",
    "# evalutate plot powerlaw fits of death rates wjr\n",
    "yv_birth_fk = dict_fit_birth_fk['M']*xv**dict_fit_birth_fk['m']\n",
    "yv_death_fk = wjr['fk_pbc']['M']*xv**wjr['fk_pbc']['m']\n",
    "# yv_birth_lr.shape,yv_birth_fk.shape\n",
    "\n",
    "#compute the intersection point for both of the full models\n",
    "index_fk = np.argmin(np.exp(np.log(yv_birth_fk/yv_death_fk)**2))\n",
    "qstar_fk = xv[index_fk]\n",
    "wstar_fk = yv_birth_fk[index_fk]\n",
    "# index_lr = np.argmin(np.log(yv_birth_lr/yv_death_lr)**2)\n",
    "index_lr = np.argmin(np.exp(np.log(yv_birth_lr/yv_death_lr)**2))\n",
    "qstar_lr = xv[index_lr]\n",
    "wstar_lr = yv_birth_lr[index_lr]\n",
    "qstar_lr"
   ]
  },
  {
   "cell_type": "code",
   "execution_count": 53,
   "id": "0238d5a0",
   "metadata": {
    "ExecuteTime": {
     "end_time": "2023-06-20T20:45:54.215103Z",
     "start_time": "2023-06-20T20:45:53.172860Z"
    },
    "scrolled": true
   },
   "outputs": [
    {
     "data": {
      "image/png": "[encoded data removed]",
      "text/plain": [
       "<Figure size 600x400 with 1 Axes>"
      ]
     },
     "metadata": {},
     "output_type": "display_data"
    }
   ],
   "source": [
    "fig,ax=plt.subplots(figsize=(6,4))\n",
    "fontsize=16\n",
    "alpha=0.9\n",
    "markersize=30\n",
    "df_birth_fk.plot.scatter(x='q',y='w',ax=ax,c='C0',#'gray',#\n",
    "                         marker='^',\n",
    "                         alpha=1.,label=r'FK: N$\\rightarrow$N+2',s=markersize)\n",
    "fk.plot.scatter(x='q',y='w',ax=ax,c='C0',label=r'FK: N$\\rightarrow$N-2',s=markersize)\n",
    "df_birth_lr.plot.scatter(x='q',y='w',ax=ax,c='C1',#'r',#\n",
    "                        marker='^',\n",
    "                         alpha=1.,label=r'LR: N$\\rightarrow$N+2',s=markersize)\n",
    "lr.plot.scatter(x='q',y='w',ax=ax,c='C1',label=r'LR: N$\\rightarrow$N-2',s=markersize)\n",
    "#plot the powerlaw fits\n",
    "ax.plot(xv,yv_death_fk,'k--',alpha=0.5)\n",
    "ax.plot(xv,yv_death_lr,'k--',alpha=0.5)\n",
    "ax.plot(xv,yv_birth_fk,'k--',alpha=0.5)\n",
    "ax.plot(xv,yv_birth_lr,'k--',alpha=0.5)\n",
    "#draw vertical dotted line up to the intersection point for both of the full models\n",
    "ax.scatter([qstar_fk],[wstar_fk],c='k',s=40,alpha=0.9,zorder=100)\n",
    "ax.scatter([qstar_lr],[wstar_lr],c='k',s=40,alpha=0.9,zorder=100)\n",
    "# ax.plot([qstar_fk,qstar_fk],[0.001,wstar_fk],'k:',alpha=0.9)\n",
    "# ax.plot([qstar_lr,qstar_lr],[0.001,wstar_lr],'k:',alpha=0.9)\n",
    "# format_plot\n",
    "format_plot(ax=ax,xlabel=r'n (1/cm$^2$)',ylabel=r'w (Hz/cm$^2$)',fontsize=fontsize)#,use_loglog=True)\n",
    "plt.legend(fontsize=14,frameon=False,loc='upper left')\n",
    "ax.set_xscale('log')\n",
    "ax.set_yscale('log')\n",
    "ax.set_ylim((0.0023641776732192935, 25.08908114695242))\n",
    "ax.tick_params(top=True, right=True,direction='in',which='both')\n",
    "plt.show()"
   ]
  },
  {
   "cell_type": "markdown",
   "id": "ea9d992b",
   "metadata": {},
   "source": [
    "# DONE: test the apparent error of Eqn. 10 using directly integrating the master equations as the gold standard"
   ]
  },
  {
   "cell_type": "code",
   "execution_count": 54,
   "id": "cf9a450d",
   "metadata": {
    "ExecuteTime": {
     "end_time": "2023-06-20T20:45:54.295642Z",
     "start_time": "2023-06-20T20:45:54.217874Z"
    }
   },
   "outputs": [],
   "source": [
    "# Eqn. 10 reads:\n",
    "# $$\n",
    "# \\tau(N) = \\sum_{k=1}^{N/2} \\phi(2(k-1)) \\sum_{j=k}^\\infty \\frac{1}{\\phi(2j)W_{+2}(2j)},\n",
    "# $$\n",
    "# Mean termination time is calculated according to\n",
    "# $$\n",
    "# \\mathbb{E}[\\tau] = \\sum_{N=0}^\\infty \\tau(N) P(N).\n",
    "# $$"
   ]
  },
  {
   "cell_type": "code",
   "execution_count": 55,
   "id": "5285ec41",
   "metadata": {
    "ExecuteTime": {
     "end_time": "2023-06-20T20:45:54.370716Z",
     "start_time": "2023-06-20T20:45:54.297645Z"
    }
   },
   "outputs": [],
   "source": [
    "\n",
    "# DONE: completed ^this in ibid."
   ]
  },
  {
   "cell_type": "markdown",
   "id": "1b679518",
   "metadata": {},
   "source": [
    "# analytical check: test whether tau(N_0) increases exponentially with A"
   ]
  },
  {
   "cell_type": "code",
   "execution_count": 56,
   "id": "51e212e2",
   "metadata": {
    "ExecuteTime": {
     "end_time": "2023-06-20T20:45:54.439748Z",
     "start_time": "2023-06-20T20:45:54.373275Z"
    }
   },
   "outputs": [],
   "source": [
    "# We have an expressions for $\\tau(N)$ in terms of the action variable, $\\phi$:\n",
    " \n",
    "# $$\n",
    "# \\tau(N) = \\sum_{k=1}^{N/2} \\phi(2(k-1)) \\sum_{j=k}^\\infty \\frac{1}{\\phi(2j)W_{+2}(2j)},\n",
    "# $$\n",
    "# and \n",
    "# $$\n",
    "# \\phi(k) = \\Pi_{i=1}^{k/2} \\frac{W_{-2}(2i)}{W_{+2}(2i)}.\n",
    "# $$\n",
    "\n",
    "# Given the mean termination time conditioned on $N$ particles existing, we estimate the mean termination time according to:\n",
    "# $$\n",
    "# \\mathbb{E}[\\tau] = \\sum_{N=0}^\\infty \\tau(N) P(N)\n",
    "# $$\n",
    "# Where $P(N)$ is the quasistatic distribution.\n"
   ]
  },
  {
   "cell_type": "code",
   "execution_count": 57,
   "id": "111c70b0",
   "metadata": {
    "ExecuteTime": {
     "end_time": "2023-06-20T20:45:54.513078Z",
     "start_time": "2023-06-20T20:45:54.441970Z"
    }
   },
   "outputs": [],
   "source": [
    "#DONE: get token inputs prepared\n",
    "dict_fit_death_lr = dict(wjr['lr_pbc'])\n",
    "dict_fit_death_fk = dict(wjr['fk_pbc'])\n",
    "Mp = dict_fit_birth_fk['M']\n",
    "nup = dict_fit_birth_fk['m']\n",
    "Mm = dict_fit_death_fk['M']\n",
    "num = dict_fit_death_fk['m']\n",
    "model_name='Fenton-Karma'\n",
    "\n",
    "# Mp = dict_fit_birth_lr['M']\n",
    "# nup = dict_fit_birth_lr['m']\n",
    "# Mm = dict_fit_death_lr['M']\n",
    "# num = dict_fit_death_lr['m']\n",
    "# model_name='Luo-Rudy'"
   ]
  },
  {
   "cell_type": "code",
   "execution_count": 58,
   "id": "8a4146be",
   "metadata": {
    "ExecuteTime": {
     "end_time": "2023-06-20T20:45:54.585887Z",
     "start_time": "2023-06-20T20:45:54.515780Z"
    }
   },
   "outputs": [
    {
     "name": "stdout",
     "output_type": "stream",
     "text": [
      "universal inputs\n",
      "Mp=0.8642103569057054; nup=0.22959399086621063\n",
      "Mm=5.572315674840435; num=1.8772341309722325\n",
      "--> qstar=0.3200; wstar=0.6653\n"
     ]
    }
   ],
   "source": [
    "print(f\"universal inputs\")\n",
    "print(f\"{Mp=}; {nup=}\")\n",
    "print(f\"{Mm=}; {num=}\")\n",
    "\n",
    "xv = np.arange(0.02, 1,0.01)\n",
    "qstar,wstar = comp_powerlaw_intersection(Mp,nup,Mm,num,xv=xv)\n",
    "print(f\"--> {qstar=:.4f}; {wstar=:.4f}\")"
   ]
  },
  {
   "cell_type": "code",
   "execution_count": 59,
   "id": "28cbf9e8",
   "metadata": {
    "ExecuteTime": {
     "end_time": "2023-06-20T20:46:01.381596Z",
     "start_time": "2023-06-20T20:45:54.589330Z"
    },
    "scrolled": true
   },
   "outputs": [
    {
     "data": {
      "text/html": [
       "<div>\n",
       "<style scoped>\n",
       "    .dataframe tbody tr th:only-of-type {\n",
       "        vertical-align: middle;\n",
       "    }\n",
       "\n",
       "    .dataframe tbody tr th {\n",
       "        vertical-align: top;\n",
       "    }\n",
       "\n",
       "    .dataframe thead th {\n",
       "        text-align: right;\n",
       "    }\n",
       "</style>\n",
       "<table border=\"1\" class=\"dataframe\">\n",
       "  <thead>\n",
       "    <tr style=\"text-align: right;\">\n",
       "      <th></th>\n",
       "      <th>A</th>\n",
       "      <th>N0</th>\n",
       "      <th>tau</th>\n",
       "      <th>Nbar</th>\n",
       "    </tr>\n",
       "  </thead>\n",
       "  <tbody>\n",
       "    <tr>\n",
       "      <th>0</th>\n",
       "      <td>5</td>\n",
       "      <td>2</td>\n",
       "      <td>0.243042</td>\n",
       "      <td>1.6</td>\n",
       "    </tr>\n",
       "    <tr>\n",
       "      <th>1</th>\n",
       "      <td>5</td>\n",
       "      <td>4</td>\n",
       "      <td>0.303718</td>\n",
       "      <td>1.6</td>\n",
       "    </tr>\n",
       "    <tr>\n",
       "      <th>2</th>\n",
       "      <td>5</td>\n",
       "      <td>6</td>\n",
       "      <td>0.330996</td>\n",
       "      <td>1.6</td>\n",
       "    </tr>\n",
       "    <tr>\n",
       "      <th>3</th>\n",
       "      <td>5</td>\n",
       "      <td>8</td>\n",
       "      <td>0.346573</td>\n",
       "      <td>1.6</td>\n",
       "    </tr>\n",
       "    <tr>\n",
       "      <th>4</th>\n",
       "      <td>5</td>\n",
       "      <td>10</td>\n",
       "      <td>0.356696</td>\n",
       "      <td>1.6</td>\n",
       "    </tr>\n",
       "  </tbody>\n",
       "</table>\n",
       "</div>"
      ],
      "text/plain": [
       "   A  N0       tau  Nbar\n",
       "0  5   2  0.243042   1.6\n",
       "1  5   4  0.303718   1.6\n",
       "2  5   6  0.330996   1.6\n",
       "3  5   8  0.346573   1.6\n",
       "4  5  10  0.356696   1.6"
      ]
     },
     "execution_count": 59,
     "metadata": {},
     "output_type": "execute_result"
    }
   ],
   "source": [
    "# A_values = np.arange(5,100,1)\n",
    "A_values = np.arange(5,400,5)\n",
    "# A_values = np.arange(10,1000,5)\n",
    "N0_values = np.arange(2,12,2)\n",
    "# N0_values = np.arange(2,40,2)\n",
    "# maxinf_num_inner_sum=20 # high particle number cutoff\n",
    "# maxinf_num_inner_sum=np.max(N0_values)+10 # high particle number cutoff\n",
    "# maxinf_num_inner_sum=np.max(N0_values)+10 # high particle number cutoff\n",
    "maxinf_num_inner_sum=100 # high particle number cutoff\n",
    "\n",
    "dict_tau_lst=[]\n",
    "for A in A_values:\n",
    "    comp_Wp = get_comp_W(A,nup,Mp)\n",
    "    comp_Wm = get_comp_W(A,num,Mm)\n",
    "#     comp_Wp = njit(get_comp_W(A,nup,Mp))\n",
    "#     comp_Wm = njit(get_comp_W(A,num,Mm))\n",
    "    phi = get_phi(comp_Wm,comp_Wp)\n",
    "    eval_tau= get_eval_tau(eval_tau_expression)\n",
    "#     #compute average over initial values\n",
    "#     n_qs,prob_qs = comp_quasistatic_distrib_paired_bdrates(comp_Wm,comp_Wp,num_iter=20)\n",
    "#     taubar = eval_tau(n_qs, prob_qs, phi, comp_Wm, comp_Wp, printing=False,**kwargs)\n",
    "    Nbar = qstar*A\n",
    "\n",
    "    for N0 in N0_values:\n",
    "        tau = eval_tau_expression(n_over_2 = int(np.floor(N0/2)),phi=phi, comp_Wm=comp_Wm, comp_Wp=comp_Wp, maxinf_num_inner_sum=maxinf_num_inner_sum,printing=False)\n",
    "#         tau = eval_tau_expression(n_over_2 = int(np.floor(N0/2)),phi=phi, comp_Wm=comp_Wm, comp_Wp=comp_Wp, maxinf_num_inner_sum=int(Nbar)+2,printing=False)\n",
    "        #record\n",
    "        dict_tau_lst.append(dict(\n",
    "            A=A,\n",
    "            N0=N0,\n",
    "            tau=tau,\n",
    "#             taubar=taubar,\n",
    "            Nbar=Nbar,\n",
    "        ))\n",
    "df_tau = pd.DataFrame(dict_tau_lst)\n",
    "df_tau.head()"
   ]
  },
  {
   "cell_type": "code",
   "execution_count": 60,
   "id": "64dc897a",
   "metadata": {
    "ExecuteTime": {
     "end_time": "2023-06-20T20:46:01.861771Z",
     "start_time": "2023-06-20T20:46:01.383500Z"
    }
   },
   "outputs": [
    {
     "data": {
      "image/png": "[encoded data removed]",
      "text/plain": [
       "<Figure size 500x400 with 2 Axes>"
      ]
     },
     "metadata": {},
     "output_type": "display_data"
    }
   ],
   "source": [
    "#basic scatter plot of the data\n",
    "figsize=(5,4)\n",
    "cmap='viridis'\n",
    "vmin=0\n",
    "vmax=np.max(N0_values)\n",
    "fontsize=14\n",
    "fig,ax=plt.subplots(figsize=figsize)\n",
    "#plot data\n",
    "df_tau.plot.scatter(x='A',y='tau',c='N0',s=10,alpha=0.7,\n",
    "                    cmap=cmap,ax=ax,vmin=vmin,vmax=vmax,colorbar=False)\n",
    "    \n",
    "#add colorbar\n",
    "norm = mpl.colors.Normalize(vmin=vmin, vmax=vmax)\n",
    "# norm = mpl.colors.LogNorm(vmin=vmin, vmax=vmax)\n",
    "cmap_obj = mpl.cm.get_cmap(cmap)\n",
    "cax = fig.add_axes([0.95, 0.2, 0.02, 0.6])\n",
    "cb = mpl.colorbar.ColorbarBase(cax,\n",
    "                               cmap=cmap_obj,\n",
    "                               norm=norm,\n",
    "                               spacing='proportional')\n",
    "cb.set_label(r'$N_0$', fontsize=fontsize)\n",
    "cb.ax.tick_params(labelsize=fontsize)\n",
    "ax.tick_params(top=True, right=True,direction='in',which='both')\n",
    "\n",
    "# format_plot\n",
    "format_plot(ax=ax,xlabel=r'$A$   (cm$^2$)',ylabel=r'$\\tau(N_0)$   (s)',fontsize=fontsize)\n",
    "ax.set_title(model_name,fontsize=fontsize)\n",
    "ax.set_yscale('log')\n",
    "# plt.tight_layout()\n",
    "plt.show()"
   ]
  },
  {
   "cell_type": "code",
   "execution_count": null,
   "id": "1212ae0d",
   "metadata": {},
   "outputs": [],
   "source": []
  },
  {
   "cell_type": "markdown",
   "id": "4ffcb5a5",
   "metadata": {},
   "source": [
    "## scratch work"
   ]
  },
  {
   "cell_type": "code",
   "execution_count": 61,
   "id": "84d581b1",
   "metadata": {
    "ExecuteTime": {
     "end_time": "2023-06-20T20:46:01.943181Z",
     "start_time": "2023-06-20T20:46:01.865364Z"
    }
   },
   "outputs": [],
   "source": [
    "# TODO(later): search for universal relations involving tau(N_0) and A"
   ]
  },
  {
   "cell_type": "code",
   "execution_count": 62,
   "id": "232f8dfd",
   "metadata": {
    "ExecuteTime": {
     "end_time": "2023-06-20T20:46:02.002861Z",
     "start_time": "2023-06-20T20:46:01.944901Z"
    }
   },
   "outputs": [],
   "source": [
    "groups = df_tau.groupby(by='N0')"
   ]
  },
  {
   "cell_type": "code",
   "execution_count": 63,
   "id": "c1b39e41",
   "metadata": {
    "ExecuteTime": {
     "end_time": "2023-06-20T20:46:02.063131Z",
     "start_time": "2023-06-20T20:46:02.004844Z"
    }
   },
   "outputs": [],
   "source": [
    "\n",
    "#\n",
    "#define xy columns\n",
    "df_tau['x'] = df_tau['A']\n",
    "df_tau['y'] = df_tau['tau']\n",
    "#TODO: extract xy values\n",
    "for N0,g in df_tau.groupby(by='N0'):\n",
    "    pass\n",
    "x_values = g['A'].values #A\n",
    "# x_values = N0/g['A'].values #q\n"
   ]
  },
  {
   "cell_type": "markdown",
   "id": "671ae28a",
   "metadata": {
    "ExecuteTime": {
     "end_time": "2022-12-18T21:41:11.315619Z",
     "start_time": "2022-12-18T21:41:11.267284Z"
    }
   },
   "source": [
    "# plot $\\tau(N_0)$ versus $A$ for both the full models"
   ]
  },
  {
   "cell_type": "code",
   "execution_count": 64,
   "id": "4bf05fc4",
   "metadata": {
    "ExecuteTime": {
     "end_time": "2023-06-20T20:46:02.122747Z",
     "start_time": "2023-06-20T20:46:02.065099Z"
    }
   },
   "outputs": [
    {
     "data": {
      "text/plain": [
       "array([ 2, 20])"
      ]
     },
     "execution_count": 64,
     "metadata": {},
     "output_type": "execute_result"
    }
   ],
   "source": [
    "N0_values = np.arange(2,12,2)\n",
    "# N0_values = np.arange(2,40,2)\n",
    "N0_values = np.array([2,20])\n",
    "N0_values"
   ]
  },
  {
   "cell_type": "code",
   "execution_count": 65,
   "id": "e57e458f",
   "metadata": {
    "ExecuteTime": {
     "end_time": "2023-06-20T20:46:02.181709Z",
     "start_time": "2023-06-20T20:46:02.124435Z"
    }
   },
   "outputs": [
    {
     "data": {
      "text/plain": [
       "(10.0, 1.0)"
      ]
     },
     "execution_count": 65,
     "metadata": {},
     "output_type": "execute_result"
    }
   ],
   "source": [
    "np.floor(20/2),np.floor(2/2)"
   ]
  },
  {
   "cell_type": "code",
   "execution_count": 66,
   "id": "714036ff",
   "metadata": {
    "ExecuteTime": {
     "end_time": "2023-06-20T20:46:06.394560Z",
     "start_time": "2023-06-20T20:46:02.184380Z"
    }
   },
   "outputs": [
    {
     "name": "stdout",
     "output_type": "stream",
     "text": [
      "universal inputs\n",
      "Mp=0.8642103569057054; nup=0.22959399086621063\n",
      "Mm=5.572315674840435; num=1.8772341309722325\n",
      "--> qstar=0.3200; wstar=0.6653\n"
     ]
    }
   ],
   "source": [
    "#DONE: get token inputs prepared\n",
    "dict_fit_death_lr = dict(wjr['lr_pbc'])\n",
    "dict_fit_death_fk = dict(wjr['fk_pbc'])\n",
    "Mp = dict_fit_birth_fk['M']\n",
    "nup = dict_fit_birth_fk['m']\n",
    "Mm = dict_fit_death_fk['M']\n",
    "num = dict_fit_death_fk['m']\n",
    "model_name='Fenton-Karma'\n",
    "\n",
    "# Mp = dict_fit_birth_lr['M']\n",
    "# nup = dict_fit_birth_lr['m']\n",
    "# Mm = dict_fit_death_lr['M']\n",
    "# num = dict_fit_death_lr['m']\n",
    "# model_name='Luo-Rudy'\n",
    "\n",
    "print(f\"universal inputs\")\n",
    "print(f\"{Mp=}; {nup=}\")\n",
    "print(f\"{Mm=}; {num=}\")\n",
    "\n",
    "xv = np.arange(0.02, 1,0.01)\n",
    "qstar,wstar = comp_powerlaw_intersection(Mp,nup,Mm,num,xv=xv)\n",
    "print(f\"--> {qstar=:.4f}; {wstar=:.4f}\")\n",
    "\n",
    "# A_values = np.arange(5,100,1)\n",
    "A_values = np.arange(5,400,5)\n",
    "# A_values = np.arange(10,1000,5)\n",
    "# N0_values = np.arange(2,12,2)\n",
    "# # N0_values = np.arange(2,40,2)\n",
    "# maxinf_num_inner_sum=20 # high particle number cutoff\n",
    "# maxinf_num_inner_sum=np.max(N0_values)+10 # high particle number cutoff\n",
    "# maxinf_num_inner_sum=np.max(N0_values)+10 # high particle number cutoff\n",
    "maxinf_num_inner_sum=100 # high particle number cutoff\n",
    "\n",
    "dict_tau_lst=[]\n",
    "for A in A_values:\n",
    "    comp_Wp = get_comp_W(A,nup,Mp)\n",
    "    comp_Wm = get_comp_W(A,num,Mm)\n",
    "#     comp_Wp = njit(get_comp_W(A,nup,Mp))\n",
    "#     comp_Wm = njit(get_comp_W(A,num,Mm))\n",
    "    phi = get_phi(comp_Wm,comp_Wp)\n",
    "    eval_tau= get_eval_tau(eval_tau_expression)\n",
    "#     #compute average over initial values\n",
    "#     n_qs,prob_qs = comp_quasistatic_distrib_paired_bdrates(comp_Wm,comp_Wp,num_iter=20)\n",
    "#     taubar = eval_tau(n_qs, prob_qs, phi, comp_Wm, comp_Wp, printing=False,**kwargs)\n",
    "    Nbar = qstar*A\n",
    "\n",
    "    for N0 in N0_values:\n",
    "        tau = eval_tau_expression(n_over_2 = int(np.floor(N0/2)),phi=phi, comp_Wm=comp_Wm, comp_Wp=comp_Wp, maxinf_num_inner_sum=maxinf_num_inner_sum,printing=False)\n",
    "#         tau = eval_tau_expression(n_over_2 = int(np.floor(N0/2)),phi=phi, comp_Wm=comp_Wm, comp_Wp=comp_Wp, maxinf_num_inner_sum=int(Nbar)+2,printing=False)\n",
    "        #record\n",
    "        dict_tau_lst.append(dict(\n",
    "            A=A,\n",
    "            N0=N0,\n",
    "            tau=tau,\n",
    "#             taubar=taubar,\n",
    "            Nbar=Nbar,\n",
    "        ))\n",
    "df_tau = pd.DataFrame(dict_tau_lst)\n",
    "df_tau_fk = df_tau.copy()"
   ]
  },
  {
   "cell_type": "code",
   "execution_count": 67,
   "id": "bb8aaeaf",
   "metadata": {
    "ExecuteTime": {
     "end_time": "2023-06-20T20:46:10.671559Z",
     "start_time": "2023-06-20T20:46:06.396132Z"
    }
   },
   "outputs": [
    {
     "name": "stdout",
     "output_type": "stream",
     "text": [
      "universal inputs\n",
      "Mp=3.2770725040489235; nup=0.7147550082416185\n",
      "Mm=16.73559858353835; num=1.6375562704001745\n",
      "--> qstar=0.1700; wstar=0.9235\n"
     ]
    }
   ],
   "source": [
    "#DONE: get token inputs prepared\n",
    "# dict_fit_death_lr = dict(wjr['lr_pbc'])\n",
    "# dict_fit_death_fk = dict(wjr['fk_pbc'])\n",
    "# Mp = dict_fit_birth_fk['M']\n",
    "# nup = dict_fit_birth_fk['m']\n",
    "# Mm = dict_fit_death_fk['M']\n",
    "# num = dict_fit_death_fk['m']\n",
    "# model_name='Fenton-Karma'\n",
    "\n",
    "Mp = dict_fit_birth_lr['M']\n",
    "nup = dict_fit_birth_lr['m']\n",
    "Mm = dict_fit_death_lr['M']\n",
    "num = dict_fit_death_lr['m']\n",
    "model_name='Luo-Rudy'\n",
    "\n",
    "print(f\"universal inputs\")\n",
    "print(f\"{Mp=}; {nup=}\")\n",
    "print(f\"{Mm=}; {num=}\")\n",
    "\n",
    "xv = np.arange(0.02, 1,0.01)\n",
    "qstar,wstar = comp_powerlaw_intersection(Mp,nup,Mm,num,xv=xv)\n",
    "print(f\"--> {qstar=:.4f}; {wstar=:.4f}\")\n",
    "\n",
    "# A_values = np.arange(5,100,1)\n",
    "A_values = np.arange(5,400,5)\n",
    "# A_values = np.arange(10,1000,5)\n",
    "# N0_values = np.arange(2,12,2)\n",
    "# # N0_values = np.arange(2,40,2)\n",
    "# maxinf_num_inner_sum=20 # high particle number cutoff\n",
    "# maxinf_num_inner_sum=np.max(N0_values)+10 # high particle number cutoff\n",
    "# maxinf_num_inner_sum=np.max(N0_values)+10 # high particle number cutoff\n",
    "maxinf_num_inner_sum=100 # high particle number cutoff\n",
    "\n",
    "dict_tau_lst=[]\n",
    "for A in A_values:\n",
    "    comp_Wp = get_comp_W(A,nup,Mp)\n",
    "    comp_Wm = get_comp_W(A,num,Mm)\n",
    "#     comp_Wp = njit(get_comp_W(A,nup,Mp))\n",
    "#     comp_Wm = njit(get_comp_W(A,num,Mm))\n",
    "    phi = get_phi(comp_Wm,comp_Wp)\n",
    "    eval_tau= get_eval_tau(eval_tau_expression)\n",
    "#     #compute average over initial values\n",
    "#     n_qs,prob_qs = comp_quasistatic_distrib_paired_bdrates(comp_Wm,comp_Wp,num_iter=20)\n",
    "#     taubar = eval_tau(n_qs, prob_qs, phi, comp_Wm, comp_Wp, printing=False,**kwargs)\n",
    "    Nbar = qstar*A\n",
    "\n",
    "    for N0 in N0_values:\n",
    "        tau = eval_tau_expression(n_over_2 = int(np.floor(N0/2)),phi=phi, comp_Wm=comp_Wm, comp_Wp=comp_Wp, maxinf_num_inner_sum=maxinf_num_inner_sum,printing=False)\n",
    "#         tau = eval_tau_expression(n_over_2 = int(np.floor(N0/2)),phi=phi, comp_Wm=comp_Wm, comp_Wp=comp_Wp, maxinf_num_inner_sum=int(Nbar)+2,printing=False)\n",
    "        #record\n",
    "        dict_tau_lst.append(dict(\n",
    "            A=A,\n",
    "            N0=N0,\n",
    "            tau=tau,\n",
    "#             taubar=taubar,\n",
    "            Nbar=Nbar,\n",
    "        ))\n",
    "df_tau = pd.DataFrame(dict_tau_lst)\n",
    "df_tau_lr = df_tau.copy()"
   ]
  },
  {
   "cell_type": "code",
   "execution_count": null,
   "id": "0eb7ee71",
   "metadata": {
    "ExecuteTime": {
     "end_time": "2023-02-07T20:02:59.014141Z",
     "start_time": "2023-02-07T20:02:59.010568Z"
    }
   },
   "outputs": [],
   "source": []
  },
  {
   "cell_type": "code",
   "execution_count": 68,
   "id": "cf5e7a2f",
   "metadata": {
    "ExecuteTime": {
     "end_time": "2023-06-20T20:46:11.082808Z",
     "start_time": "2023-06-20T20:46:10.673347Z"
    }
   },
   "outputs": [
    {
     "data": {
      "image/png": "[encoded data removed]",
      "text/plain": [
       "<Figure size 400x400 with 1 Axes>"
      ]
     },
     "metadata": {},
     "output_type": "display_data"
    }
   ],
   "source": [
    "#basic scatter plot of the data at N_0 fixed\n",
    "N0 = 2\n",
    "N0 = 20\n",
    "# xlim\n",
    "figsize=(4,4)\n",
    "fontsize=16\n",
    "markersize=10\n",
    "alpha=1.0\n",
    "ylim = (0.0005007487135910895, 5.156057164412211e+44)\n",
    "# ylim=0.0005,100\n",
    "# xlim=1,20\n",
    "\n",
    "# alpha=0.7\n",
    "fig,ax=plt.subplots(figsize=figsize)\n",
    "#plot data\n",
    "# df_tau_fk[df_tau_fk['N0']==N0].plot.scatter(x='A',y='tau',s=markersize,alpha=alpha,ax=ax,label='Fenton-Karma',color='C0')\n",
    "# df_tau_lr[df_tau_lr['N0']==N0].plot.scatter(x='A',y='tau',s=markersize,alpha=alpha,ax=ax,label='Luo-Rudy',color='C1')\n",
    "df_tau_fk[df_tau_fk['N0']==N0].plot(x='A',y='tau',alpha=alpha,ax=ax,label='Fenton-Karma',color='C0',lw=2)\n",
    "df_tau_lr[df_tau_lr['N0']==N0].plot(x='A',y='tau',alpha=alpha,ax=ax,label='Luo-Rudy',color='C1',lw=2)\n",
    "    \n",
    "# format_plot\n",
    "# format_plot(ax=ax,xlabel=r'$A$   (cm$^2$)',ylabel=r'$\\tau(N_0)$   (s)',fontsize=fontsize)\n",
    "format_plot(ax=ax,xlabel=r'$A$   (cm$^2$)',ylabel=r'$\\tau\\;$($N_0=$'+f'{N0})   (s)',fontsize=fontsize)\n",
    "# ax.set_title(model_name,fontsize=fontsize)\n",
    "ax.set_yscale('log')\n",
    "# plt.tight_layout()\n",
    "ax.tick_params(top=True, right=True,direction='in',which='both')\n",
    "ax.legend(fontsize=fontsize-2,frameon=False,loc='upper left')\n",
    "# ax.set_xlim(xlim)\n",
    "ax.set_ylim(ylim)\n",
    "plt.show()"
   ]
  },
  {
   "cell_type": "code",
   "execution_count": 69,
   "id": "3ab0fc97",
   "metadata": {
    "ExecuteTime": {
     "end_time": "2023-06-20T20:46:11.610681Z",
     "start_time": "2023-06-20T20:46:11.101153Z"
    }
   },
   "outputs": [
    {
     "data": {
      "image/png": "[encoded data removed]",
      "text/plain": [
       "<Figure size 400x400 with 1 Axes>"
      ]
     },
     "metadata": {},
     "output_type": "display_data"
    }
   ],
   "source": [
    "#basic scatter plot of the data at N_0 fixed\n",
    "# N0 = 2\n",
    "N0 = 20\n",
    "# xlim\n",
    "figsize=(4,4)\n",
    "fontsize=16\n",
    "markersize=10\n",
    "alpha=1.0\n",
    "# ylim = (0.0005007487135910895, 5.156057164412211e+44)\n",
    "# alpha=0.7\n",
    "fig,ax=plt.subplots(figsize=figsize)\n",
    "#plot data\n",
    "# df_tau_fk[df_tau_fk['N0']==N0].plot.scatter(x='A',y='tau',s=markersize,alpha=alpha,ax=ax,label='Fenton-Karma',color='C0')\n",
    "# df_tau_lr[df_tau_lr['N0']==N0].plot.scatter(x='A',y='tau',s=markersize,alpha=alpha,ax=ax,label='Luo-Rudy',color='C1')\n",
    "df_tau_fk[df_tau_fk['N0']==N0].plot(x='A',y='tau',alpha=alpha,ax=ax,label='Fenton-Karma',color='C0',lw=2)\n",
    "df_tau_lr[df_tau_lr['N0']==N0].plot(x='A',y='tau',alpha=alpha,ax=ax,label='Luo-Rudy',color='C1',lw=2)\n",
    "    \n",
    "# format_plot\n",
    "# format_plot(ax=ax,xlabel=r'$A$   (cm$^2$)',ylabel=r'$\\tau(N_0)$   (s)',fontsize=fontsize)\n",
    "format_plot(ax=ax,xlabel=r'$A$   (cm$^2$)',ylabel=r'$\\tau\\;$($N_0=$'+f'{N0})   (s)',fontsize=fontsize)\n",
    "# ax.set_title(model_name,fontsize=fontsize)\n",
    "ax.set_yscale('log')\n",
    "# plt.tight_layout()\n",
    "ax.tick_params(top=True, right=True,direction='in',which='both')\n",
    "ax.legend(fontsize=fontsize-2,frameon=False,loc='upper left')\n",
    "ax.set_ylim(ylim)\n",
    "# ax.set_ylim(xlim)\n",
    "plt.show()"
   ]
  },
  {
   "cell_type": "code",
   "execution_count": 70,
   "id": "5c8af2b9",
   "metadata": {
    "ExecuteTime": {
     "end_time": "2023-06-20T20:46:11.681326Z",
     "start_time": "2023-06-20T20:46:11.613271Z"
    }
   },
   "outputs": [],
   "source": [
    "#DONE: zoom into small A and verify that N0=2 is not erroneously N0=20\n",
    "#DONE: add exponential fits as dotted lines to ibid\n",
    "#DONT: figure how the characteristic Ac varies with the parameters\n",
    "#HINT: start with my hypothesis, A0, as Ac.\n",
    "#DONE: get token inputs prepared\n",
    "# dict_fit_death_lr = dict(wjr['lr_pbc'])\n",
    "# dict_fit_death_fk = dict(wjr['fk_pbc'])"
   ]
  },
  {
   "cell_type": "code",
   "execution_count": 71,
   "id": "84ffddd4",
   "metadata": {
    "ExecuteTime": {
     "end_time": "2023-06-20T20:46:11.750525Z",
     "start_time": "2023-06-20T20:46:11.683422Z"
    }
   },
   "outputs": [
    {
     "name": "stdout",
     "output_type": "stream",
     "text": [
      "xfactor=0.5\n"
     ]
    }
   ],
   "source": [
    "# xfactor=4.\n",
    "# xfactor=0.7 #<<worse.\n",
    "# xfactor=0.66 #<<worse\n",
    "# xfactor=0.6 #<<worse?\n",
    "# xfactor=0.55 #<<worse?\n",
    "# xfactor=1 #<<worse?\n",
    "# xfactor = (1.46025/2.21033)**2\n",
    "# xfactor=0.45 #<<worse.\n",
    "xfactor=0.5\n",
    "# xfactor=2/np.pi\n",
    "# xfactor=3/np.pi/2\n",
    "# xfactor=4/np.pi/3\n",
    "# xfactor=5/np.pi/4\n",
    "# xfactor=0.4 #<<worse.\n",
    "print(f\"{xfactor=}\")"
   ]
  },
  {
   "cell_type": "markdown",
   "id": "6582b50f",
   "metadata": {},
   "source": [
    "Claim:`xfactor`=0.5, for\n",
    "\n",
    "$$\n",
    "A_0 = \\frac{1}{2}\\Big(x\\frac{M_-}{M_+}\\Big)^{1/(\\nu_--\\nu_+)}\n",
    "$$\n",
    "\n",
    "where $x=$4.19033 +/- 0.34682 for the Luo-Rudy model <br> and $x=$4.57527 +/- 0.38506 for the Fenton-Karma model."
   ]
  },
  {
   "cell_type": "markdown",
   "id": "be8355ea",
   "metadata": {
    "ExecuteTime": {
     "end_time": "2023-01-10T23:59:57.503987Z",
     "start_time": "2023-01-10T23:59:57.499847Z"
    }
   },
   "source": [
    "__with initial formula__:<br>\n",
    "For Fenton-Karma:\n",
    "Inputs:\n",
    "Mp=0.8642103569057054; nup=0.22959399086621063\n",
    "Mm=5.572315674840435; num=1.8772341309722325\n",
    "\t--> qstar=0.3200; wstar=0.6653\n",
    "x=0.46568 +/- 0.03596\n",
    "let y=x**(1/(num-nup)). then,\n",
    "y=0.62885 +/- 0.13289\n",
    "\n",
    "For Luo-Rudy:\n",
    "Inputs:\n",
    "Mp=3.2770725040489235; nup=0.7147550082416185\n",
    "Mm=16.73559858353835; num=1.6375562704001745\n",
    "\t--> qstar=0.1700; wstar=0.9235\n",
    "x=1.16347 +/- 0.08143\n",
    "let y=x**(1/(num-nup)). then,\n",
    "y=1.17830 +/- 0.06601"
   ]
  },
  {
   "cell_type": "markdown",
   "id": "b62a67d2",
   "metadata": {},
   "source": [
    "__with num-nup --> nup-num__:<br>\n",
    "For Fenton-Karma:\n",
    "Inputs:\n",
    "Mp=0.8642103569057054; nup=1.8772341309722325\n",
    "Mm=5.572315674840435; num=0.22959399086621063\n",
    "\t--> qstar=0.9900; wstar=0.8481\n",
    "x=0.05165 +/- 0.00370\n",
    "let y=x**(1/(num-nup)). then,\n",
    "y=6.04040 +/- 29.90383\n",
    "\n",
    "For Luo-Rudy:\n",
    "Inputs:\n",
    "Mp=3.2770725040489235; nup=1.6375562704001745\n",
    "Mm=16.73559858353835; num=0.7147550082416185\n",
    "\t--> qstar=0.9900; wstar=3.2236\n",
    "x=0.03296 +/- 0.00216\n",
    "let y=x**(1/(num-nup)). then,\n",
    "y=40.36936 +/- 775.35777"
   ]
  },
  {
   "cell_type": "markdown",
   "id": "12cc046a",
   "metadata": {},
   "source": [
    "\t  *** at N0=2: ***\n",
    "*** A0: 3.8999 +/- 0.0553 cm^2 (FK) ***\n",
    "*** A0: 13.8252 +/- 1.2442 cm^2 (LR) ***\n",
    "      *** at N0=20: ***\n",
    "*** A0: 3.8980 +/- 0.0509 cm^2 (FK) ***\n",
    "*** A0: 13.7938 +/- 1.0491 cm^2 (LR) ***"
   ]
  },
  {
   "cell_type": "code",
   "execution_count": 72,
   "id": "5af1e5bd",
   "metadata": {
    "ExecuteTime": {
     "end_time": "2023-06-20T20:46:11.860970Z",
     "start_time": "2023-06-20T20:46:11.752609Z"
    }
   },
   "outputs": [
    {
     "name": "stdout",
     "output_type": "stream",
     "text": [
      "Measurements of A0 = 1/m by OLS:\n",
      "\n",
      "Fenton-Karma:\n",
      "A0: 3.8273 +/- 0.0071317510675663305  ***********************\n",
      "tau0=0.002456 +/- Delta_tau0=0.000097  ***********************\n",
      "\n",
      "Luo-Rudy:\n",
      "m=0.075217+-0.000113\n",
      "B= -4.205943+-0.034227\n",
      "RMSE=876899907.3163\n",
      "R^2=1.0000\n",
      "A0: 13.2878 +/- 0.2557905765472377 ***********************\n",
      "tau0=0.0147 +/- Delta_tau0=0.0005 ***********************\n",
      "\n",
      "For Fenton-Karma:\n",
      "Inputs:\n",
      "- Mp=0.8642103569057054; nup=0.22959399086621063\n",
      "- Mm=5.572315674840435; num=1.8772341309722325\n",
      "Outputs:\n",
      "\t--> qstar=0.3200; wstar=0.6653\n",
      "*** x=4.43585 +/- 0.01363 (xfactor=0.5)\n",
      "*** y=2.46984 +/- 0.07374 ***\n",
      "\n",
      "For Luo-Rudy:\n",
      "Inputs:\n",
      "- Mp=3.2770725040489235; nup=0.7147550082416185\n",
      "- Mm=16.73559858353835; num=1.6375562704001745\n",
      "Outputs:\n",
      "\t--> qstar=0.1700; wstar=0.9235\n",
      "*** x=4.03980 +/- 0.07171 \n",
      "*** y=4.54031 +/- 0.05752 ***\n",
      "\n",
      "Q: Do x agree?\n",
      "here: xfactor=0.5\n"
     ]
    }
   ],
   "source": [
    "#measure A0 from exponential fit to tau(A)\n",
    "# N0=2\n",
    "N0=20\n",
    "Amin=200\n",
    "boo = df_tau_fk['N0']==N0\n",
    "# boo&= df_tau_fk['A']>=Amin\n",
    "xv,yv=df_tau_fk[boo][['A','tau']].values.T\n",
    "print(f\"Measurements of A0 = 1/m by OLS:\")\n",
    "#compute exponential fit and characteristic area\n",
    "B,Delta_B,m,Delta_m,Rsq=fit_exponential(xv[xv>Amin],yv[xv>Amin])\n",
    "# B,Delta_B,m,Delta_m,Rsq=fit_exponential(xv,yv)\n",
    "yvhat=np.exp(xv*m+B)\n",
    "rmse=np.sqrt(np.mean((yvhat-yv)**2))\n",
    "print(f\"\\nFenton-Karma:\")\n",
    "# print_fit_exponential(xv,yv)\n",
    "A0fk=float(1./m)\n",
    "Delta_A0fk=float(Delta_m*float(1./m)/(m**2))\n",
    "yvhatfk=yvhat.copy()\n",
    "yvfk=yv.copy()\n",
    "xvfk=xv.copy()\n",
    "print(f\"A0: {A0fk:.4f} +/- {Delta_A0fk}  ***********************\")\n",
    "tau0=np.exp(B)\n",
    "Delta_tau0=float(np.exp(B+Delta_B)-tau0)\n",
    "print(f\"{tau0=:.6f} +/- {Delta_tau0=:.6f}  ***********************\")\n",
    "boo = df_tau_lr['N0']==N0\n",
    "boo&= df_tau_lr['A']>=Amin\n",
    "xv,yv=df_tau_lr[boo][['A','tau']].values.T\n",
    "#compute exponential fit and characteristic area\n",
    "B,Delta_B,m,Delta_m,Rsq=fit_exponential(xv[xv>Amin],yv[xv>Amin])\n",
    "# B,Delta_B,m,Delta_m,Rsq=fit_exponential(xv,yv)\n",
    "yvhat=np.exp(xv*m+B)\n",
    "rmse=np.sqrt(np.mean((yvhat-yv)**2))\n",
    "print(f\"\\nLuo-Rudy:\")\n",
    "print_fit_exponential(xv,yv)\n",
    "A0lr=float(1./m)\n",
    "Delta_A0lr=float(Delta_m*float(1./m)/(m**2))\n",
    "yvhatlr=yvhat.copy()\n",
    "yvlr=yv.copy()\n",
    "xvlr=xv.copy()\n",
    "print(f\"A0: {A0lr:.4f} +/- {Delta_A0lr} ***********************\")\n",
    "tau0=np.exp(B)\n",
    "Delta_tau0=float(np.exp(B+Delta_B)-tau0)\n",
    "print(f\"{tau0=:.4f} +/- {Delta_tau0=:.4f} ***********************\")\n",
    "Mp = dict_fit_birth_fk['M']\n",
    "nup = dict_fit_birth_fk['m']\n",
    "Mm = dict_fit_death_fk['M']\n",
    "num = dict_fit_death_fk['m']\n",
    "model_name='Fenton-Karma'\n",
    "# nu=nup;nup=num;num=nu\n",
    "A0=A0fk\n",
    "Delta_A0=Delta_A0fk\n",
    "# x=Mp/Mm * (A0/2.)**(num-nup)\n",
    "# Delta_x=np.abs(Mp/Mm * ((Delta_A0+A0)/2.)**(num-nup) - x)\n",
    "x=Mp/Mm * (A0/xfactor)**(num-nup)\n",
    "Delta_x=np.abs(Mp/Mm * ((Delta_A0+A0)/xfactor)**(num-nup) - x)\n",
    "print(f\"\\nFor {model_name}:\")\n",
    "print(f\"Inputs:\")\n",
    "print(f\"- {Mp=}; {nup=}\")\n",
    "print(f\"- {Mm=}; {num=}\")\n",
    "_xv = np.arange(0.02, 1,0.01)\n",
    "qstar,wstar = comp_powerlaw_intersection(Mp,nup,Mm,num,xv=_xv)\n",
    "print(f\"Outputs:\")\n",
    "print(f\"\\t--> {qstar=:.4f}; {wstar=:.4f}\")\n",
    "print(f\"*** {x=:.5f} +/- {Delta_x:.5f} ({xfactor=})\")\n",
    "# print(f\"let y=x**(1/(num-nup)). then,\")\n",
    "y=x**(1/(num-nup))\n",
    "Delta_y=Delta_x**(1/(num-nup))\n",
    "print(f\"*** {y=:.5f} +/- {Delta_y:.5f} ***\")\n",
    "Mp = dict_fit_birth_lr['M']\n",
    "nup = dict_fit_birth_lr['m']\n",
    "Mm = dict_fit_death_lr['M']\n",
    "num = dict_fit_death_lr['m']\n",
    "model_name='Luo-Rudy'\n",
    "# nu=nup;nup=num;num=nu\n",
    "A0=A0lr\n",
    "Delta_A0=Delta_A0lr\n",
    "# x=Mp/Mm * (A0/2.)**(num-nup)\n",
    "# Delta_x=np.abs(Mp/Mm * ((Delta_A0+A0)/2.)**(num-nup) - x)\n",
    "x=Mp/Mm * (A0/xfactor)**(num-nup)\n",
    "Delta_x=np.abs(Mp/Mm * ((Delta_A0+A0)/xfactor)**(num-nup) - x)\n",
    "print(f\"\\nFor {model_name}:\")\n",
    "print(f\"Inputs:\")\n",
    "print(f\"- {Mp=}; {nup=}\")\n",
    "print(f\"- {Mm=}; {num=}\")\n",
    "_xv = np.arange(0.02, 1,0.01)\n",
    "qstar,wstar = comp_powerlaw_intersection(Mp,nup,Mm,num,xv=_xv)\n",
    "print(f\"Outputs:\")\n",
    "print(f\"\\t--> {qstar=:.4f}; {wstar=:.4f}\")\n",
    "print(f\"*** {x=:.5f} +/- {Delta_x:.5f} \")\n",
    "# print(f\"let y=x**(1/(num-nup)). then,\")\n",
    "y=x**(1/(num-nup))\n",
    "Delta_y=Delta_x**(1/(num-nup))\n",
    "print(f\"*** {y=:.5f} +/- {Delta_y:.5f} ***\")\n",
    "print(f\"\\nQ: Do x agree?\")\n",
    "print(f\"here: {xfactor=}\")"
   ]
  },
  {
   "cell_type": "code",
   "execution_count": 73,
   "id": "de63463c",
   "metadata": {
    "ExecuteTime": {
     "end_time": "2023-06-20T20:46:12.345954Z",
     "start_time": "2023-06-20T20:46:11.864061Z"
    }
   },
   "outputs": [
    {
     "data": {
      "image/png": "[encoded data removed]",
      "text/plain": [
       "<Figure size 400x400 with 1 Axes>"
      ]
     },
     "metadata": {},
     "output_type": "display_data"
    }
   ],
   "source": [
    "#basic scatter plot of the data at N_0 given\n",
    "# xlim\n",
    "figsize=(4,4)\n",
    "fontsize=16\n",
    "markersize=10\n",
    "alpha=1.0\n",
    "# ylim = (0.0005007487135910895, 5.156057164412211e+44)\n",
    "# alpha=0.7\n",
    "fig,ax=plt.subplots(figsize=figsize)\n",
    "#plot data\n",
    "# df_tau_fk[df_tau_fk['N0']==N0].plot.scatter(x='A',y='tau',s=markersize,alpha=alpha,ax=ax,label='Fenton-Karma',color='C0')\n",
    "# df_tau_lr[df_tau_lr['N0']==N0].plot.scatter(x='A',y='tau',s=markersize,alpha=alpha,ax=ax,label='Luo-Rudy',color='C1')\n",
    "df_tau_fk[df_tau_fk['N0']==N0].plot(x='A',y='tau',alpha=alpha,ax=ax,label='Fenton-Karma',color='C0',lw=2)\n",
    "df_tau_lr[df_tau_lr['N0']==N0].plot(x='A',y='tau',alpha=alpha,ax=ax,label='Luo-Rudy',color='C1',lw=2)\n",
    "#plot the fits as dotted lines\n",
    "# xv,yv=df_tau_fk[df_tau_fk['N0']==N0][['A','tau']].values.T\n",
    "xv,yv=df_tau_fk[(df_tau_fk['N0']==N0)&(df_tau_fk['A']>=25)][['A','tau']].values.T\n",
    "B,Delta_B,m,Delta_m,Rsq=fit_exponential(xv[xv>Amin],yv[xv>Amin])\n",
    "# B,Delta_B,m,Delta_m,Rsq=fit_exponential(xv,yv)\n",
    "xvfk=xv.copy()\n",
    "yvhatfk=np.exp(xv*m+B)\n",
    "ax.plot(xvfk,yvhatfk,'k:',alpha=0.7,lw=2)\n",
    "xv,yv=df_tau_lr[(df_tau_lr['N0']==N0)&(df_tau_lr['A']>=25)][['A','tau']].values.T\n",
    "B,Delta_B,m,Delta_m,Rsq=fit_exponential(xv[xv>200],yv[xv>200])\n",
    "# B,Delta_B,m,Delta_m,Rsq=fit_exponential(xv,yv)\n",
    "xvlr=xv.copy()\n",
    "# yvhatlr=np.exp(xv*m-B)\n",
    "yvhatlr=np.exp(B)*np.exp(xv*m)\n",
    "ax.plot(xvlr,yvhatlr,'k:',alpha=0.7,lw=2)\n",
    "# format_plot\n",
    "# format_plot(ax=ax,xlabel=r'$A$   (cm$^2$)',ylabel=r'$\\tau(N_0)$   (s)',fontsize=fontsize)\n",
    "format_plot(ax=ax,xlabel=r'$A$   (cm$^2$)',ylabel=r'$\\tau\\;$($N_0=$'+f'{N0})   (s)',fontsize=fontsize)\n",
    "# ax.set_title(model_name,fontsize=fontsize)\n",
    "ax.set_yscale('log')\n",
    "# plt.tight_layout()\n",
    "ax.tick_params(top=True, right=True,direction='in',which='both')\n",
    "ax.legend(fontsize=fontsize-2,frameon=False,loc='upper left')\n",
    "ax.set_ylim(ylim)\n",
    "# ax.set_ylim(xlim)\n",
    "plt.show()"
   ]
  },
  {
   "cell_type": "code",
   "execution_count": 74,
   "id": "0e2a6b34",
   "metadata": {
    "ExecuteTime": {
     "end_time": "2023-06-20T20:46:12.433892Z",
     "start_time": "2023-06-20T20:46:12.348733Z"
    }
   },
   "outputs": [
    {
     "name": "stdout",
     "output_type": "stream",
     "text": [
      "\t  *** at N0=20: ***\n",
      "*** A0: 3.8273 +/- 0.0071 cm^2 (FK) ***\n",
      "*** A0: 13.2878 +/- 0.2558 cm^2 (LR) ***\n"
     ]
    }
   ],
   "source": [
    "# #N0=2:\n",
    "# xvfk2,yvhatfk2,xvlr2,yvhatlr2 = xvfk,yvhatfk,xvlr,yvhatlr\n",
    "# df_tau_fk2=df_tau_fk.copy()\n",
    "# df_tau_lr2=df_tau_lr.copy()\n",
    "# # #N0=20:\n",
    "xvfk20,yvhatfk20,xvlr20,yvhatlr20 = xvfk,yvhatfk,xvlr,yvhatlr\n",
    "df_tau_fk20=df_tau_fk.copy()\n",
    "df_tau_lr20=df_tau_lr.copy()\n",
    "\n",
    "print(f\"\\t  *** at {N0=}: ***\")\n",
    "print(f\"*** A0: {A0fk:.4f} +/- {Delta_A0fk:.4f} cm^2 (FK) ***\")\n",
    "print(f\"*** A0: {A0lr:.4f} +/- {Delta_A0lr:.4f} cm^2 (LR) ***\")"
   ]
  },
  {
   "cell_type": "code",
   "execution_count": 75,
   "id": "0a94e3c1",
   "metadata": {
    "ExecuteTime": {
     "end_time": "2023-06-20T20:46:12.543331Z",
     "start_time": "2023-06-20T20:46:12.438669Z"
    }
   },
   "outputs": [
    {
     "name": "stdout",
     "output_type": "stream",
     "text": [
      "Measurements of A0 = 1/m by OLS:\n",
      "\n",
      "Fenton-Karma:\n",
      "A0: 3.8272 +/- 0.007087305386919504  ***********************\n",
      "tau0=0.002444 +/- Delta_tau0=0.000096  ***********************\n",
      "\n",
      "Luo-Rudy:\n",
      "A0: 13.2533 +/- 0.22658918392439428 ***********************\n",
      "tau0=0.0131 +/- Delta_tau0=0.0004 ***********************\n",
      "\n",
      "For Fenton-Karma:\n",
      "Inputs:\n",
      "- Mp=0.8642103569057054; nup=0.22959399086621063\n",
      "- Mm=5.572315674840435; num=1.8772341309722325\n",
      "Outputs:\n",
      "\t--> qstar=0.3200; wstar=0.6653\n",
      "*** x=4.43557 +/- 0.01354 (xfactor=0.5)\n",
      "*** y=2.46974 +/- 0.07346 ***\n",
      "\n",
      "For Luo-Rudy:\n",
      "Inputs:\n",
      "- Mp=3.2770725040489235; nup=0.7147550082416185\n",
      "- Mm=16.73559858353835; num=1.6375562704001745\n",
      "Outputs:\n",
      "\t--> qstar=0.1700; wstar=0.9235\n",
      "*** x=4.03012 +/- 0.06354 \n",
      "*** y=4.52853 +/- 0.05046 ***\n",
      "\n",
      "Q: Do x agree?\n",
      "here: xfactor=0.5\n"
     ]
    }
   ],
   "source": [
    "#measure A0 from exponential fit to tau(A)\n",
    "N0=2\n",
    "# N0=20\n",
    "Amin=200\n",
    "boo = df_tau_fk['N0']==N0\n",
    "boo&= df_tau_fk['A']>=Amin\n",
    "xv,yv=df_tau_fk[boo][['A','tau']].values.T\n",
    "print(f\"Measurements of A0 = 1/m by OLS:\")\n",
    "#compute exponential fit and characteristic area\n",
    "B,Delta_B,m,Delta_m,Rsq=fit_exponential(xv[xv>Amin],yv[xv>Amin])\n",
    "# B,Delta_B,m,Delta_m,Rsq=fit_exponential(xv,yv)\n",
    "yvhat=np.exp(xv*m+B)\n",
    "rmse=np.sqrt(np.mean((yvhat-yv)**2))\n",
    "print(f\"\\nFenton-Karma:\")\n",
    "# print_fit_exponential(xv,yv)\n",
    "A0fk=float(1./m)\n",
    "Delta_A0fk=float(Delta_m*float(1./m)/(m**2))\n",
    "yvhatfk=yvhat.copy()\n",
    "yvfk=yv.copy()\n",
    "xvfk=xv.copy()\n",
    "print(f\"A0: {A0fk:.4f} +/- {Delta_A0fk}  ***********************\")\n",
    "tau0=np.exp(B)\n",
    "Delta_tau0=float(np.exp(B+Delta_B)-tau0)\n",
    "print(f\"{tau0=:.6f} +/- {Delta_tau0=:.6f}  ***********************\")\n",
    "boo = df_tau_lr['N0']==N0\n",
    "boo&= df_tau_lr['A']>=Amin\n",
    "xv,yv=df_tau_lr[boo][['A','tau']].values.T\n",
    "#compute exponential fit and characteristic area\n",
    "B,Delta_B,m,Delta_m,Rsq=fit_exponential(xv[xv>Amin],yv[xv>Amin])\n",
    "# B,Delta_B,m,Delta_m,Rsq=fit_exponential(xv,yv)\n",
    "yvhat=np.exp(xv*m+B)\n",
    "rmse=np.sqrt(np.mean((yvhat-yv)**2))\n",
    "print(f\"\\nLuo-Rudy:\")\n",
    "# print_fit_exponential(xv,yv)\n",
    "A0lr=float(1./m)\n",
    "Delta_A0lr=float(Delta_m*float(1./m)/(m**2))\n",
    "yvhatlr=yvhat.copy()\n",
    "yvlr=yv.copy()\n",
    "xvlr=xv.copy()\n",
    "print(f\"A0: {A0lr:.4f} +/- {Delta_A0lr} ***********************\")\n",
    "tau0=np.exp(B)\n",
    "Delta_tau0=float(np.exp(B+Delta_B)-tau0)\n",
    "print(f\"{tau0=:.4f} +/- {Delta_tau0=:.4f} ***********************\")\n",
    "Mp = dict_fit_birth_fk['M']\n",
    "nup = dict_fit_birth_fk['m']\n",
    "Mm = dict_fit_death_fk['M']\n",
    "num = dict_fit_death_fk['m']\n",
    "model_name='Fenton-Karma'\n",
    "# nu=nup;nup=num;num=nu\n",
    "A0=A0fk\n",
    "Delta_A0=Delta_A0fk\n",
    "# x=Mp/Mm * (A0/2.)**(num-nup)\n",
    "# Delta_x=np.abs(Mp/Mm * ((Delta_A0+A0)/2.)**(num-nup) - x)\n",
    "x=Mp/Mm * (A0/xfactor)**(num-nup)\n",
    "Delta_x=np.abs(Mp/Mm * ((Delta_A0+A0)/xfactor)**(num-nup) - x)\n",
    "print(f\"\\nFor {model_name}:\")\n",
    "print(f\"Inputs:\")\n",
    "print(f\"- {Mp=}; {nup=}\")\n",
    "print(f\"- {Mm=}; {num=}\")\n",
    "_xv = np.arange(0.02, 1,0.01)\n",
    "qstar,wstar = comp_powerlaw_intersection(Mp,nup,Mm,num,xv=_xv)\n",
    "print(f\"Outputs:\")\n",
    "print(f\"\\t--> {qstar=:.4f}; {wstar=:.4f}\")\n",
    "print(f\"*** {x=:.5f} +/- {Delta_x:.5f} ({xfactor=})\")\n",
    "# print(f\"let y=x**(1/(num-nup)). then,\")\n",
    "y=x**(1/(num-nup))\n",
    "Delta_y=Delta_x**(1/(num-nup))\n",
    "print(f\"*** {y=:.5f} +/- {Delta_y:.5f} ***\")\n",
    "Mp = dict_fit_birth_lr['M']\n",
    "nup = dict_fit_birth_lr['m']\n",
    "Mm = dict_fit_death_lr['M']\n",
    "num = dict_fit_death_lr['m']\n",
    "model_name='Luo-Rudy'\n",
    "# nu=nup;nup=num;num=nu\n",
    "A0=A0lr\n",
    "Delta_A0=Delta_A0lr\n",
    "# x=Mp/Mm * (A0/2.)**(num-nup)\n",
    "# Delta_x=np.abs(Mp/Mm * ((Delta_A0+A0)/2.)**(num-nup) - x)\n",
    "x=Mp/Mm * (A0/xfactor)**(num-nup)\n",
    "Delta_x=np.abs(Mp/Mm * ((Delta_A0+A0)/xfactor)**(num-nup) - x)\n",
    "print(f\"\\nFor {model_name}:\")\n",
    "print(f\"Inputs:\")\n",
    "print(f\"- {Mp=}; {nup=}\")\n",
    "print(f\"- {Mm=}; {num=}\")\n",
    "_xv = np.arange(0.02, 1,0.01)\n",
    "qstar,wstar = comp_powerlaw_intersection(Mp,nup,Mm,num,xv=_xv)\n",
    "print(f\"Outputs:\")\n",
    "print(f\"\\t--> {qstar=:.4f}; {wstar=:.4f}\")\n",
    "print(f\"*** {x=:.5f} +/- {Delta_x:.5f} \")\n",
    "# print(f\"let y=x**(1/(num-nup)). then,\")\n",
    "y=x**(1/(num-nup))\n",
    "Delta_y=Delta_x**(1/(num-nup))\n",
    "print(f\"*** {y=:.5f} +/- {Delta_y:.5f} ***\")\n",
    "print(f\"\\nQ: Do x agree?\")\n",
    "print(f\"here: {xfactor=}\")"
   ]
  },
  {
   "cell_type": "code",
   "execution_count": 76,
   "id": "cf35459b",
   "metadata": {
    "ExecuteTime": {
     "end_time": "2023-06-20T20:46:12.962614Z",
     "start_time": "2023-06-20T20:46:12.545416Z"
    }
   },
   "outputs": [
    {
     "data": {
      "image/png": "[encoded data removed]",
      "text/plain": [
       "<Figure size 400x400 with 1 Axes>"
      ]
     },
     "metadata": {},
     "output_type": "display_data"
    }
   ],
   "source": [
    "#basic scatter plot of the data at N_0 given\n",
    "# xlim\n",
    "figsize=(4,4)\n",
    "fontsize=16\n",
    "markersize=10\n",
    "alpha=1.0\n",
    "# ylim = (0.0005007487135910895, 5.156057164412211e+44)\n",
    "# alpha=0.7\n",
    "fig,ax=plt.subplots(figsize=figsize)\n",
    "#plot data\n",
    "# df_tau_fk[df_tau_fk['N0']==N0].plot.scatter(x='A',y='tau',s=markersize,alpha=alpha,ax=ax,label='Fenton-Karma',color='C0')\n",
    "# df_tau_lr[df_tau_lr['N0']==N0].plot.scatter(x='A',y='tau',s=markersize,alpha=alpha,ax=ax,label='Luo-Rudy',color='C1')\n",
    "df_tau_fk[df_tau_fk['N0']==N0].plot(x='A',y='tau',alpha=alpha,ax=ax,label='Fenton-Karma',color='C0',lw=2)\n",
    "df_tau_lr[df_tau_lr['N0']==N0].plot(x='A',y='tau',alpha=alpha,ax=ax,label='Luo-Rudy',color='C1',lw=2)\n",
    "#plot the fits as dotted lines\n",
    "# xv,yv=df_tau_fk[df_tau_fk['N0']==N0][['A','tau']].values.T\n",
    "xv,yv=df_tau_fk[(df_tau_fk['N0']==N0)&(df_tau_fk['A']>=25)][['A','tau']].values.T\n",
    "B,Delta_B,m,Delta_m,Rsq=fit_exponential(xv[xv>Amin],yv[xv>Amin])\n",
    "# B,Delta_B,m,Delta_m,Rsq=fit_exponential(xv,yv)\n",
    "xvfk=xv.copy()\n",
    "yvhatfk=np.exp(xv*m+B)\n",
    "ax.plot(xvfk,yvhatfk,'k:',alpha=0.7,lw=2)\n",
    "xv,yv=df_tau_lr[(df_tau_lr['N0']==N0)&(df_tau_lr['A']>=25)][['A','tau']].values.T\n",
    "B,Delta_B,m,Delta_m,Rsq=fit_exponential(xv[xv>Amin],yv[xv>Amin])\n",
    "# B,Delta_B,m,Delta_m,Rsq=fit_exponential(xv,yv)\n",
    "xvlr=xv.copy()\n",
    "# yvhatlr=np.exp(xv*m-B)\n",
    "yvhatlr=np.exp(B)*np.exp(xv*m)\n",
    "ax.plot(xvlr,yvhatlr,'k:',alpha=0.7,lw=2)\n",
    "# format_plot\n",
    "# format_plot(ax=ax,xlabel=r'$A$   (cm$^2$)',ylabel=r'$\\tau(N_0)$   (s)',fontsize=fontsize)\n",
    "format_plot(ax=ax,xlabel=r'$A$   (cm$^2$)',ylabel=r'$\\tau\\;$($N_0=$'+f'{N0})   (s)',fontsize=fontsize)\n",
    "# ax.set_title(model_name,fontsize=fontsize)\n",
    "ax.set_yscale('log')\n",
    "# plt.tight_layout()\n",
    "ax.tick_params(top=True, right=True,direction='in',which='both')\n",
    "ax.legend(fontsize=fontsize-2,frameon=False,loc='upper left')\n",
    "ax.set_ylim(ylim)\n",
    "# ax.set_ylim(xlim)\n",
    "plt.show()"
   ]
  },
  {
   "cell_type": "code",
   "execution_count": 77,
   "id": "595b6200",
   "metadata": {
    "ExecuteTime": {
     "end_time": "2023-06-20T20:46:13.057134Z",
     "start_time": "2023-06-20T20:46:12.965196Z"
    }
   },
   "outputs": [
    {
     "name": "stdout",
     "output_type": "stream",
     "text": [
      "\t  *** at N0=2: ***\n",
      "*** A0: 3.8272 +/- 0.0071 cm^2 (FK) ***\n",
      "*** A0: 13.2533 +/- 0.2266 cm^2 (LR) ***\n"
     ]
    }
   ],
   "source": [
    "# #N0=2:\n",
    "xvfk2,yvhatfk2,xvlr2,yvhatlr2 = xvfk,yvhatfk,xvlr,yvhatlr\n",
    "df_tau_fk2=df_tau_fk.copy()\n",
    "df_tau_lr2=df_tau_lr.copy()\n",
    "# # #N0=20:\n",
    "# xvfk20,yvhatfk20,xvlr20,yvhatlr20 = xvfk,yvhatfk,xvlr,yvhatlr\n",
    "# df_tau_fk20=df_tau_fk.copy()\n",
    "# df_tau_lr20=df_tau_lr.copy()\n",
    "\n",
    "print(f\"\\t  *** at {N0=}: ***\")\n",
    "print(f\"*** A0: {A0fk:.4f} +/- {Delta_A0fk:.4f} cm^2 (FK) ***\")\n",
    "print(f\"*** A0: {A0lr:.4f} +/- {Delta_A0lr:.4f} cm^2 (LR) ***\")"
   ]
  },
  {
   "cell_type": "code",
   "execution_count": null,
   "id": "379afa9a",
   "metadata": {},
   "outputs": [],
   "source": []
  },
  {
   "cell_type": "code",
   "execution_count": 78,
   "id": "fc5a5f6b",
   "metadata": {
    "ExecuteTime": {
     "end_time": "2023-06-20T20:46:13.137842Z",
     "start_time": "2023-06-20T20:46:13.059504Z"
    }
   },
   "outputs": [],
   "source": [
    "viewer_pkl_dir=f\"{nb_dir}/data/figure_data_tauratio_20_to_2_vs_A.pkl\""
   ]
  },
  {
   "cell_type": "code",
   "execution_count": 79,
   "id": "3a8e5340",
   "metadata": {
    "ExecuteTime": {
     "end_time": "2023-06-20T20:46:13.227226Z",
     "start_time": "2023-06-20T20:46:13.140876Z"
    }
   },
   "outputs": [
    {
     "name": "stdout",
     "output_type": "stream",
     "text": [
      "viewer_pkl_dir='/Users/timothytyree/Documents/GitHub/bgmc/python/data/figure_data_tauratio_20_to_2_vs_A.pkl'\n"
     ]
    }
   ],
   "source": [
    "saving=True\n",
    "# saving=False\n",
    "if saving:\n",
    "    #DONE: put in dict. save to .pkl\n",
    "    data=dict(\n",
    "        df_tau_fk2=df_tau_fk2,\n",
    "        df_tau_fk20=df_tau_fk20,\n",
    "        df_tau_lr2=df_tau_lr2,\n",
    "        df_tau_lr20=df_tau_lr20,\n",
    "        xvfk2=xvfk2,yvhatfk2=yvhatfk2,xvlr2=xvlr2,yvhatlr2=yvhatlr2,\n",
    "        xvfk20=xvfk20,yvhatfk20=yvhatfk20,xvlr20=xvlr20,yvhatlr20=yvhatlr20,\n",
    "    )\n",
    "    save_to_pickle(viewer_pkl_dir, data)\n",
    "    print(f\"{viewer_pkl_dir=}\")"
   ]
  },
  {
   "cell_type": "markdown",
   "id": "a62d01e1",
   "metadata": {},
   "source": [
    "# plot ratio pf tau( N0=20 ) to tau( N0=2 )"
   ]
  },
  {
   "cell_type": "code",
   "execution_count": 80,
   "id": "ba7a95c8",
   "metadata": {
    "ExecuteTime": {
     "end_time": "2023-06-20T20:46:13.310237Z",
     "start_time": "2023-06-20T20:46:13.229041Z"
    }
   },
   "outputs": [],
   "source": [
    "# import pandas as pd\n",
    "# pd.__version__"
   ]
  },
  {
   "cell_type": "code",
   "execution_count": 81,
   "id": "63793a9e",
   "metadata": {
    "ExecuteTime": {
     "end_time": "2023-06-20T20:46:13.426609Z",
     "start_time": "2023-06-20T20:46:13.313078Z"
    }
   },
   "outputs": [],
   "source": [
    "# from lib import *"
   ]
  },
  {
   "cell_type": "code",
   "execution_count": 82,
   "id": "b529ebdb",
   "metadata": {
    "ExecuteTime": {
     "end_time": "2023-06-20T20:46:13.511702Z",
     "start_time": "2023-06-20T20:46:13.429114Z"
    }
   },
   "outputs": [],
   "source": [
    "# # !pip install pandas==1.4.1\n",
    "# import pickle\n",
    "# def load_from_pickle(input_fn):\n",
    "#     with open(input_fn,'rb') as f: dict_pkl = pickle.load(f)\n",
    "#     return dict_pkl\n",
    "# viewer_pkl_dir=f\"{nb_dir}/data/figure_data_tauratio_20_to_2_vs_A.pkl\"\n",
    "# data = load_from_pickle(viewer_pkl_dir)\n",
    "# df_tau_fk = data['df_tau_fk2']\n",
    "# df_tau_lr = data['df_tau_lr2']\n",
    "# print ( f\"{df_tau_fk.describe()=}\")\n",
    "# print ( f\"\\n{df_tau_lr.describe()=}\")\n",
    "# data.keys()"
   ]
  },
  {
   "cell_type": "code",
   "execution_count": 83,
   "id": "1e07ec81",
   "metadata": {
    "ExecuteTime": {
     "end_time": "2023-06-20T20:46:13.602524Z",
     "start_time": "2023-06-20T20:46:13.514186Z"
    }
   },
   "outputs": [],
   "source": [
    "viewer_pkl_dir=f\"{nb_dir}/data/figure_data_tauratio_20_to_2_vs_A.pkl\"\n",
    "data = load_from_pickle(viewer_pkl_dir)\n",
    "df_tau_fk2 = data['df_tau_fk2']\n",
    "df_tau_lr2 = data['df_tau_lr2']\n",
    "df_tau_fk20 = data['df_tau_fk20']\n",
    "df_tau_lr20 = data['df_tau_lr20']"
   ]
  },
  {
   "cell_type": "code",
   "execution_count": 84,
   "id": "910cd157",
   "metadata": {
    "ExecuteTime": {
     "end_time": "2023-06-20T20:46:13.698971Z",
     "start_time": "2023-06-20T20:46:13.608491Z"
    }
   },
   "outputs": [],
   "source": [
    "#compute the ratio of their values in a given dataframe\n",
    "df_tau_fk2['tauratio'] = df_tau_fk20['tau']/df_tau_fk2['tau']\n",
    "df_tau_lr2['tauratio'] = df_tau_lr20['tau']/df_tau_lr2['tau']"
   ]
  },
  {
   "cell_type": "code",
   "execution_count": 85,
   "id": "8ccd0519",
   "metadata": {
    "ExecuteTime": {
     "end_time": "2023-06-20T20:46:13.781725Z",
     "start_time": "2023-06-20T20:46:13.701665Z"
    }
   },
   "outputs": [
    {
     "data": {
      "text/plain": [
       "dict_keys(['df_tau_fk2', 'df_tau_fk20', 'df_tau_lr2', 'df_tau_lr20', 'xvfk2', 'yvhatfk2', 'xvlr2', 'yvhatlr2', 'xvfk20', 'yvhatfk20', 'xvlr20', 'yvhatlr20'])"
      ]
     },
     "execution_count": 85,
     "metadata": {},
     "output_type": "execute_result"
    }
   ],
   "source": [
    "#N0 is already in df_tau, you big dummy!  At least now i can easily put a dotted line around their exponential fit's ratio\n",
    "data.keys()"
   ]
  },
  {
   "cell_type": "code",
   "execution_count": 86,
   "id": "9de357c6",
   "metadata": {
    "ExecuteTime": {
     "end_time": "2023-06-20T20:46:13.915989Z",
     "start_time": "2023-06-20T20:46:13.784424Z"
    }
   },
   "outputs": [],
   "source": [
    "globals().update(data)\n",
    "# for x in [\"xvfk2\",\"yvhatfk2\",\"xvlr2\",\"yvhatlr2\",\"xvfk20\",\"yvhatfk20\",\"xvlr20\",\"yvhatlr20\"]:\n",
    "#     globals().update(data)[x])\n",
    "# data['yvhatfk20'].shape,data['yvhatfk2'].shape\n",
    "# ,xvlr20"
   ]
  },
  {
   "cell_type": "code",
   "execution_count": 87,
   "id": "74d31d48",
   "metadata": {
    "ExecuteTime": {
     "end_time": "2023-06-20T20:46:14.050871Z",
     "start_time": "2023-06-20T20:46:13.919847Z"
    }
   },
   "outputs": [],
   "source": [
    "# plt.scatter(Afk,trfk,c='C0',alpha=1.,s=10,label='Fenton-Karma')\n",
    "# plt.scatter(Alr,trlr,c='C1',alpha=1.,s=10,label='Luo-Rudy')\n",
    "# ax.plot(xvfk2,yvhatfk20/yvhatfk2,'k--',alpha=0.7,lw=2)\n",
    "# ax.plot(xvlr2,yvhatlr20/yvhatlr2,'k--',alpha=0.7,lw=2)"
   ]
  },
  {
   "cell_type": "code",
   "execution_count": 88,
   "id": "a8c99594",
   "metadata": {
    "ExecuteTime": {
     "end_time": "2023-06-20T20:46:14.165535Z",
     "start_time": "2023-06-20T20:46:14.054217Z"
    }
   },
   "outputs": [],
   "source": [
    "#TODO: compute their correct ratio\n",
    "Afk = df_tau_fk20.loc[df_tau_fk20['N0']==2,'A'].values\n",
    "t2fk = df_tau_fk20.loc[df_tau_fk20['N0']==2,'tau'].values\n",
    "t20fk = df_tau_fk20.loc[df_tau_fk20['N0']==20,'tau'].values\n",
    "trfk=t20fk/t2fk\n",
    "\n",
    "\n",
    "Alr = df_tau_lr20.loc[df_tau_lr20['N0']==2,'A'].values\n",
    "t2lr = df_tau_lr20.loc[df_tau_lr20['N0']==2,'tau'].values\n",
    "t20lr = df_tau_lr20.loc[df_tau_lr20['N0']==20,'tau'].values\n",
    "trlr=t20lr/t2lr\n",
    "\n"
   ]
  },
  {
   "cell_type": "code",
   "execution_count": 89,
   "id": "848482eb",
   "metadata": {
    "ExecuteTime": {
     "end_time": "2023-06-20T20:46:14.256385Z",
     "start_time": "2023-06-20T20:46:14.168821Z"
    }
   },
   "outputs": [
    {
     "data": {
      "text/plain": [
       "((75,), (75,), (75,), (75,))"
      ]
     },
     "execution_count": 89,
     "metadata": {},
     "output_type": "execute_result"
    }
   ],
   "source": [
    "#TODO: dev plotter for ^this data\n",
    "#HINT: plot ratio pf tau( N0=20 ) to tau( N0=2 )\n",
    "xvfk20.shape,xvfk2.shape,yvhatfk20[xvfk20>=25].shape,yvhatfk2[[xvfk2>=25]].shape"
   ]
  },
  {
   "cell_type": "code",
   "execution_count": 90,
   "id": "2fc03b9e",
   "metadata": {
    "ExecuteTime": {
     "end_time": "2023-06-20T20:46:14.554274Z",
     "start_time": "2023-06-20T20:46:14.259236Z"
    }
   },
   "outputs": [
    {
     "data": {
      "image/png": "[encoded data removed]",
      "text/plain": [
       "<Figure size 400x400 with 1 Axes>"
      ]
     },
     "metadata": {},
     "output_type": "display_data"
    }
   ],
   "source": [
    "#basic scatter plot of the data at N_0 given\n",
    "# xlim\n",
    "figsize=(4,4)\n",
    "fontsize=16\n",
    "markersize=10\n",
    "alpha=1.0\n",
    "# ylim = (0.0005007487135910895, 5.156057164412211e+44)\n",
    "# alpha=0.7\n",
    "fig,ax=plt.subplots(figsize=figsize)\n",
    "# #plot data\n",
    "# # df_tau_fk[df_tau_fk['N0']==N0].plot.scatter(x='A',y='tau',s=markersize,alpha=alpha,ax=ax,label='Fenton-Karma',color='C0')\n",
    "# # df_tau_lr[df_tau_lr['N0']==N0].plot.scatter(x='A',y='tau',s=markersize,alpha=alpha,ax=ax,label='Luo-Rudy',color='C1')\n",
    "# df_tau_fk2[df_tau_fk2['N0']==N0].plot(x='A',y='tauratio',alpha=alpha,ax=ax,label='Fenton-Karma',color='C0',lw=2)\n",
    "# df_tau_lr2[df_tau_lr2['N0']==N0].plot(x='A',y='tauratio',alpha=alpha,ax=ax,label='Luo-Rudy',color='C1',lw=2)\n",
    "\n",
    "\n",
    "# #plot the fits as dotted lines\n",
    "# # xv,yv=df_tau_fk[df_tau_fk['N0']==N0][['A','tau']].values.T\n",
    "# xv,yv=df_tau_fk[(df_tau_fk['N0']==N0)&(df_tau_fk['A']>=25)][['A','tau']].values.T\n",
    "# B,Delta_B,m,Delta_m,Rsq=fit_exponential(xv,yv)\n",
    "# xvfk=xv.copy()\n",
    "# yvhatfk=np.exp(xv*m+B)\n",
    "# # yvhatfk=-B*np.exp(xv*m)\n",
    "# # yvhatfk=1e-3*np.exp(xv*m)\n",
    "# # yvhatfk=np.exp(xvfk/A0fk-B)\n",
    "# ax.plot(xvfk,yvhatfk,'k:',alpha=0.7,lw=2)\n",
    "# xv,yv=df_tau_lr[(df_tau_lr['N0']==N0)&(df_tau_lr['A']>=25)][['A','tau']].values.T\n",
    "# B,Delta_B,m,Delta_m,Rsq=fit_exponential(xv,yv)\n",
    "# xvlr=xv.copy()\n",
    "# # yvhatlr=np.exp(xv*m-B)\n",
    "# yvhatlr=np.exp(B)*np.exp(xv*m)\n",
    "# ax.plot(xvlr,yvhatlr,'k:',alpha=0.7,lw=2)\n",
    "    \n",
    "# ax.plot(xvfk20,yvhatfk20[xvfk20>=25]/yvhatfk2[[xvfk2>=25]],'k--',alpha=0.7,lw=2)\n",
    "# ax.plot(xvlr20,yvhatlr20[xvlr20>=25]/yvhatlr2[[xvlr2>=25]],'k--',alpha=0.7,lw=2)\n",
    "ax.plot(xvfk2,yvhatfk20/yvhatfk2,'k--',alpha=0.7,lw=2)\n",
    "ax.plot(xvlr2,yvhatlr20/yvhatlr2,'k--',alpha=0.7,lw=2)\n",
    "ax.plot(Afk,trfk,c='C0',alpha=.7,lw=2,label='Fenton-Karma')\n",
    "ax.plot(Alr,trlr,c='C1',alpha=.7,lw=2,label='Luo-Rudy')\n",
    "\n",
    "# ax.set_ylim([1,2.5])\n",
    "ax.set_ylim([0,3])\n",
    "# ax.set_ylim([1,3])\n",
    "#format plot, as before\n",
    "    \n",
    "# format_plot\n",
    "# format_plot(ax=ax,xlabel=r'$A$   (cm$^2$)',ylabel=r'$\\tau(N_0)$   (s)',fontsize=fontsize)\n",
    "# format_plot(ax=ax,xlabel=r'$A$   (cm$^2$)',ylabel=r'$\\tau(N_0=20)\\,/\\,\\tau(N_0=2)$',fontsize=fontsize)\n",
    "format_plot(ax=ax,xlabel=r'$A$   (cm$^2$)',ylabel=r'$\\tau(N_0=20)\\,/\\,\\tau(N_0=2)$',fontsize=fontsize)\n",
    "# ax.set_title(model_name,fontsize=fontsize)\n",
    "# ax.set_yscale('log')\n",
    "# plt.tight_layout()\n",
    "ax.tick_params(top=True, right=True,direction='in',which='both')\n",
    "ax.legend(fontsize=fontsize-2,frameon=False,loc='upper left')\n",
    "# ax.set_ylim(ylim)\n",
    "# ax.set_ylim(xlim)\n",
    "plt.show()"
   ]
  },
  {
   "cell_type": "code",
   "execution_count": 91,
   "id": "8dca8814",
   "metadata": {
    "ExecuteTime": {
     "end_time": "2023-06-20T20:46:14.626728Z",
     "start_time": "2023-06-20T20:46:14.557132Z"
    }
   },
   "outputs": [],
   "source": [
    "#HERETIM: \n",
    "#DONE: esimate xvfk,yvhatfk,xvlr,yvhatlr for N0=2\n",
    "#DONE: esimate xvfk,yvhatfk,xvlr,yvhatlr for N0=20\n",
    "\n",
    "#DONE: compute their correct ratio\n",
    "#DONE: plot their ratio versus A\n",
    "#DONE: update the supplemental figure in .odg\n",
    "#TODO: update git\n",
    "#TODO: update the SM with ^that"
   ]
  },
  {
   "cell_type": "code",
   "execution_count": 92,
   "id": "61a7186b",
   "metadata": {
    "ExecuteTime": {
     "end_time": "2023-06-20T20:46:14.708072Z",
     "start_time": "2023-06-20T20:46:14.629668Z"
    }
   },
   "outputs": [],
   "source": [
    "# #basic scatter plot of the data at N_0 given\n",
    "# # xlim\n",
    "# figsize=(4,4)\n",
    "# fontsize=16\n",
    "# markersize=10\n",
    "# alpha=1.0\n",
    "# # ylim = (0.0005007487135910895, 5.156057164412211e+44)\n",
    "# # alpha=0.7\n",
    "# fig,ax=plt.subplots(figsize=figsize)\n",
    "# # #plot data\n",
    "# # # df_tau_fk[df_tau_fk['N0']==N0].plot.scatter(x='A',y='tau',s=markersize,alpha=alpha,ax=ax,label='Fenton-Karma',color='C0')\n",
    "# # # df_tau_lr[df_tau_lr['N0']==N0].plot.scatter(x='A',y='tau',s=markersize,alpha=alpha,ax=ax,label='Luo-Rudy',color='C1')\n",
    "# # df_tau_fk2[df_tau_fk2['N0']==N0].plot(x='A',y='tauratio',alpha=alpha,ax=ax,label='Fenton-Karma',color='C0',lw=2)\n",
    "# # df_tau_lr2[df_tau_lr2['N0']==N0].plot(x='A',y='tauratio',alpha=alpha,ax=ax,label='Luo-Rudy',color='C1',lw=2)\n",
    "\n",
    "\n",
    "# # #plot the fits as dotted lines\n",
    "# # # xv,yv=df_tau_fk[df_tau_fk['N0']==N0][['A','tau']].values.T\n",
    "# # xv,yv=df_tau_fk[(df_tau_fk['N0']==N0)&(df_tau_fk['A']>=25)][['A','tau']].values.T\n",
    "# # B,Delta_B,m,Delta_m,Rsq=fit_exponential(xv,yv)\n",
    "# # xvfk=xv.copy()\n",
    "# # yvhatfk=np.exp(xv*m+B)\n",
    "# # # yvhatfk=-B*np.exp(xv*m)\n",
    "# # # yvhatfk=1e-3*np.exp(xv*m)\n",
    "# # # yvhatfk=np.exp(xvfk/A0fk-B)\n",
    "# # ax.plot(xvfk,yvhatfk,'k:',alpha=0.7,lw=2)\n",
    "# # xv,yv=df_tau_lr[(df_tau_lr['N0']==N0)&(df_tau_lr['A']>=25)][['A','tau']].values.T\n",
    "# # B,Delta_B,m,Delta_m,Rsq=fit_exponential(xv,yv)\n",
    "# # xvlr=xv.copy()\n",
    "# # # yvhatlr=np.exp(xv*m-B)\n",
    "# # yvhatlr=np.exp(B)*np.exp(xv*m)\n",
    "# # ax.plot(xvlr,yvhatlr,'k:',alpha=0.7,lw=2)\n",
    "    \n",
    "# ax.plot(xvfk2,(yvhatfk20-yvhatfk2)/yvhatfk2,'k--',alpha=0.7,lw=2)\n",
    "# ax.plot(xvlr2,(yvhatlr20-yvhatlr2)/yvhatlr2,'k--',alpha=0.7,lw=2)\n",
    "\n",
    "\n",
    "# ax.plot(Afk,trfk-1,c='C0',alpha=.7,lw=2,label='Fenton-Karma')\n",
    "# ax.plot(Alr,trlr-1,c='C1',alpha=.7,lw=2,label='Luo-Rudy')\n",
    "\n",
    "# # ax.set_ylim([1,2.5])\n",
    "# ax.set_ylim([0,2])\n",
    "# #format plot, as before\n",
    "    \n",
    "# # format_plot\n",
    "# # format_plot(ax=ax,xlabel=r'$A$   (cm$^2$)',ylabel=r'$\\tau(N_0)$   (s)',fontsize=fontsize)\n",
    "# # format_plot(ax=ax,xlabel=r'$A$   (cm$^2$)',ylabel=r'$\\tau(N_0=20)\\,/\\,\\tau(N_0=2)$',fontsize=fontsize)\n",
    "# format_plot(ax=ax,xlabel=r'$A$   (cm$^2$)',ylabel=r'$(\\tau(N_0=20) - \\tau(N_0=2))\\,/\\,\\tau(N_0=2)$',fontsize=fontsize)\n",
    "# # ax.set_title(model_name,fontsize=fontsize)\n",
    "# # ax.set_yscale('log')\n",
    "# # plt.tight_layout()\n",
    "# ax.tick_params(top=True, right=True,direction='in',which='both')\n",
    "# ax.legend(fontsize=fontsize-2,frameon=False,loc='upper left')\n",
    "# # ax.set_ylim(ylim)\n",
    "# # ax.set_ylim(xlim)\n",
    "# plt.show()"
   ]
  },
  {
   "cell_type": "markdown",
   "id": "524f513f",
   "metadata": {},
   "source": [
    "# converting save file to ascii as the requested table"
   ]
  },
  {
   "cell_type": "code",
   "execution_count": 93,
   "id": "2ebbf7f6",
   "metadata": {
    "ExecuteTime": {
     "end_time": "2023-06-20T20:46:14.794812Z",
     "start_time": "2023-06-20T20:46:14.710347Z"
    }
   },
   "outputs": [],
   "source": [
    "#compute their correct ratio\n",
    "Afk = df_tau_fk20.loc[df_tau_fk20['N0']==2,'A'].values\n",
    "t2fk = df_tau_fk20.loc[df_tau_fk20['N0']==2,'tau'].values\n",
    "t20fk = df_tau_fk20.loc[df_tau_fk20['N0']==20,'tau'].values\n",
    "trfk=t20fk/t2fk\n",
    "\n",
    "Alr = df_tau_lr20.loc[df_tau_lr20['N0']==2,'A'].values\n",
    "t2lr = df_tau_lr20.loc[df_tau_lr20['N0']==2,'tau'].values\n",
    "t20lr = df_tau_lr20.loc[df_tau_lr20['N0']==20,'tau'].values\n",
    "trlr=t20lr/t2lr"
   ]
  },
  {
   "cell_type": "code",
   "execution_count": 94,
   "id": "1f335cd8",
   "metadata": {
    "ExecuteTime": {
     "end_time": "2023-06-20T20:46:14.882625Z",
     "start_time": "2023-06-20T20:46:14.796777Z"
    }
   },
   "outputs": [],
   "source": [
    "#DONE: get token inputs prepared\n",
    "dict_fit_death_lr = dict(wjr['lr_pbc'])\n",
    "dict_fit_death_fk = dict(wjr['fk_pbc'])\n",
    "Mp = dict_fit_birth_fk['M']\n",
    "nup = dict_fit_birth_fk['m']\n",
    "Mm = dict_fit_death_fk['M']\n",
    "num = dict_fit_death_fk['m']\n",
    "model_name='Fenton-Karma'\n",
    "\n",
    "# Mp = dict_fit_birth_lr['M']\n",
    "# nup = dict_fit_birth_lr['m']\n",
    "# Mm = dict_fit_death_lr['M']\n",
    "# num = dict_fit_death_lr['m']\n",
    "# model_name='Luo-Rudy'"
   ]
  },
  {
   "cell_type": "code",
   "execution_count": 95,
   "id": "4525e711",
   "metadata": {
    "ExecuteTime": {
     "end_time": "2023-06-20T20:46:14.961599Z",
     "start_time": "2023-06-20T20:46:14.884774Z"
    }
   },
   "outputs": [
    {
     "name": "stdout",
     "output_type": "stream",
     "text": [
      "rmse=0.02146081244355575\n",
      "mpe=3.0208628443993715\n",
      "Rsq=0.9654796556850139\n",
      "num_obs=73\n",
      "m=0.22959399086621063\n",
      "Delta_m=0.010098419553149371\n",
      "M=0.8642103569057054\n",
      "Delta_M=0.002349228836948769\n",
      "B=0.5295965607887574\n",
      "Delta_B=0.020570019807819657\n",
      "\n",
      "rmse=0.04167045716352006\n",
      "mpe=4.232291720696869\n",
      "Rsq=0.9970917077923233\n",
      "num_obs=62\n",
      "m=0.7147550082416185\n",
      "Delta_m=0.009767628218375237\n",
      "M=3.2770725040489235\n",
      "Delta_M=0.10264333510862889\n",
      "B=5.262675949542562\n",
      "Delta_B=0.10727785296723925\n"
     ]
    }
   ],
   "source": [
    "print_dict(dict_fit_birth_fk)\n",
    "print(f\"\")\n",
    "print_dict(dict_fit_birth_lr)"
   ]
  },
  {
   "cell_type": "code",
   "execution_count": 96,
   "id": "2bfb3b58",
   "metadata": {
    "ExecuteTime": {
     "end_time": "2023-06-20T20:46:15.041976Z",
     "start_time": "2023-06-20T20:46:14.964024Z"
    }
   },
   "outputs": [],
   "source": [
    "#Q: what does WJ want for 'full MTE'\n",
    "#NOTE: ^this means averaging over P_qs, which I didn't do before, but I can do now without much difficulty..."
   ]
  },
  {
   "cell_type": "code",
   "execution_count": 97,
   "id": "d5cbb138",
   "metadata": {
    "ExecuteTime": {
     "end_time": "2023-06-20T20:46:15.127246Z",
     "start_time": "2023-06-20T20:46:15.044197Z"
    }
   },
   "outputs": [],
   "source": [
    "# plot $\\tau$ versus $A$ for both the full models\n",
    "# fork from?: plot $\\tau(N_0)$ versus $A$ for both the full models\n",
    "# eval_tau_expression"
   ]
  },
  {
   "cell_type": "code",
   "execution_count": 98,
   "id": "285668d3",
   "metadata": {
    "ExecuteTime": {
     "end_time": "2023-06-20T20:46:15.214147Z",
     "start_time": "2023-06-20T20:46:15.129281Z"
    }
   },
   "outputs": [],
   "source": [
    "# eval_tau"
   ]
  },
  {
   "cell_type": "code",
   "execution_count": 99,
   "id": "144568fd",
   "metadata": {
    "ExecuteTime": {
     "end_time": "2023-06-20T21:05:54.611704Z",
     "start_time": "2023-06-20T20:46:15.217640Z"
    }
   },
   "outputs": [
    {
     "name": "stdout",
     "output_type": "stream",
     "text": [
      "warning: run time may be ~20 minutes...\n",
      "Progress: |██████████████████████████████████████████████████| 100.0% Complete\r"
     ]
    }
   ],
   "source": [
    "print(f\"warning: run time may be ~20 minutes...\")\n",
    "num_iter=20 # runtime 3 seconds\n",
    "num_iter=20 # runtime 30 seconds integrating each a second time to the mean num. particles\n",
    "num_iter=20 # runtime 4 minutes integrating each a second time to the mean+30 particles\n",
    "# num_iter=21 # runtime 3.5 seconds\n",
    "# num_iter=40 # runtime 40 seconds\n",
    "# num_iter=100 # too long runtime >14\n",
    "printing=True\n",
    "A_values = Afk.copy()\n",
    "nvals=A_values.shape[0]\n",
    "tau_values = np.zeros(nvals)\n",
    "eval_tau= get_eval_tau(eval_tau_expression)\n",
    "for i,A in enumerate(A_values):\n",
    "    comp_Wp = get_comp_W(A,nup,Mp)\n",
    "    comp_Wm = get_comp_W(A,num,Mm)\n",
    "    phi = get_phi(comp_Wm,comp_Wp)\n",
    "    n_qs,prob_qs = comp_quasistatic_distrib_paired_bdrates(comp_Wm,comp_Wp,num_iter=num_iter,freq_prev=1.) #correct qs\n",
    "    Nbar = np.dot(n_qs,prob_qs)\n",
    "    #num_iter2 = int(np.ceil(Nbar))\n",
    "    #num_iter2 = int(np.ceil(Nbar))+3\n",
    "    num_iter2 = int(np.ceil(Nbar))+30 #4 min.\n",
    "    n_qs,prob_qs = comp_quasistatic_distrib_paired_bdrates(comp_Wm,comp_Wp,num_iter=num_iter2,freq_prev=1.) #correct qs\n",
    "    tau = eval_tau(n_qs, prob_qs, phi, comp_Wm, comp_Wp, printing=False)#,**kwargs)  # <<< primary source of runtime\n",
    "    #tau = eval_tau(n_qs, prob_qs, phi, comp_Wm, comp_Wp, printing=False,**kwargs)\n",
    "    tau_values[i]=tau\n",
    "    #print progress bar\n",
    "    if printing:\n",
    "        printProgressBar(i+1, nvals, prefix = 'Progress:', suffix = 'Complete', length = 50)        \n",
    "    "
   ]
  },
  {
   "cell_type": "code",
   "execution_count": 100,
   "id": "71d2fbeb",
   "metadata": {
    "ExecuteTime": {
     "end_time": "2023-06-20T21:05:54.839318Z",
     "start_time": "2023-06-20T21:05:54.613862Z"
    }
   },
   "outputs": [],
   "source": [
    "#record values in namespace\n",
    "A_values_fk,tau_values_fk = A_values.copy(),tau_values.copy()"
   ]
  },
  {
   "cell_type": "code",
   "execution_count": 101,
   "id": "dc33e323",
   "metadata": {
    "ExecuteTime": {
     "end_time": "2023-06-20T21:18:06.631766Z",
     "start_time": "2023-06-20T21:05:54.840527Z"
    }
   },
   "outputs": [
    {
     "name": "stdout",
     "output_type": "stream",
     "text": [
      "Progress: |██████████████████████████████████████████████████| 100.0% Complete\r"
     ]
    }
   ],
   "source": [
    "#repeat for LR model\n",
    "Mp = dict_fit_birth_lr['M']\n",
    "nup = dict_fit_birth_lr['m']\n",
    "Mm = dict_fit_death_lr['M']\n",
    "num = dict_fit_death_lr['m']\n",
    "model_name='Luo-Rudy'\n",
    "num_iter=20 # runtime 4 minutes integrating each a second time to the mean+30 particles\n",
    "printing=True\n",
    "A_values = Afk.copy()\n",
    "nvals=A_values.shape[0]\n",
    "tau_values = np.zeros(nvals)\n",
    "eval_tau= get_eval_tau(eval_tau_expression)\n",
    "for i,A in enumerate(A_values):\n",
    "    comp_Wp = get_comp_W(A,nup,Mp)\n",
    "    comp_Wm = get_comp_W(A,num,Mm)\n",
    "    phi = get_phi(comp_Wm,comp_Wp)\n",
    "    n_qs,prob_qs = comp_quasistatic_distrib_paired_bdrates(comp_Wm,comp_Wp,num_iter=num_iter,freq_prev=1.) #correct qs\n",
    "    Nbar = np.dot(n_qs,prob_qs)\n",
    "    #num_iter2 = int(np.ceil(Nbar))\n",
    "    #num_iter2 = int(np.ceil(Nbar))+3\n",
    "    num_iter2 = int(np.ceil(Nbar))+30 #4 min.\n",
    "    n_qs,prob_qs = comp_quasistatic_distrib_paired_bdrates(comp_Wm,comp_Wp,num_iter=num_iter2,freq_prev=1.) #correct qs\n",
    "    tau = eval_tau(n_qs, prob_qs, phi, comp_Wm, comp_Wp, printing=False)#,**kwargs)  # <<< primary source of runtime\n",
    "    #tau = eval_tau(n_qs, prob_qs, phi, comp_Wm, comp_Wp, printing=False,**kwargs)\n",
    "    tau_values[i]=tau\n",
    "    #print progress bar\n",
    "    if printing:\n",
    "        printProgressBar(i+1, nvals, prefix = 'Progress:', suffix = 'Complete', length = 50)        "
   ]
  },
  {
   "cell_type": "code",
   "execution_count": 102,
   "id": "636831c8",
   "metadata": {
    "ExecuteTime": {
     "end_time": "2023-06-20T21:18:06.683929Z",
     "start_time": "2023-06-20T21:18:06.633789Z"
    }
   },
   "outputs": [],
   "source": [
    "#record values in namespace\n",
    "A_values_lr,tau_values_lr = A_values.copy(),tau_values.copy()"
   ]
  },
  {
   "cell_type": "code",
   "execution_count": 103,
   "id": "6d9f7cf8",
   "metadata": {
    "ExecuteTime": {
     "end_time": "2023-06-20T21:18:06.907340Z",
     "start_time": "2023-06-20T21:18:06.685513Z"
    }
   },
   "outputs": [
    {
     "data": {
      "image/png": "[encoded data removed]",
      "text/plain": [
       "<Figure size 640x480 with 1 Axes>"
      ]
     },
     "metadata": {},
     "output_type": "display_data"
    }
   ],
   "source": [
    "plt.plot(A_values_fk,tau_values_fk)\n",
    "plt.plot(A_values_lr,tau_values_lr,c='C1')\n",
    "plt.yscale('log')\n",
    "format_plot(xlabel=r'$A$ (cm$^2$)',ylabel=r'$\\tau$   (s)')\n",
    "plt.show()"
   ]
  },
  {
   "cell_type": "code",
   "execution_count": 104,
   "id": "25631e33",
   "metadata": {
    "ExecuteTime": {
     "end_time": "2023-06-20T21:18:06.966316Z",
     "start_time": "2023-06-20T21:18:06.908927Z"
    }
   },
   "outputs": [
    {
     "data": {
      "text/html": [
       "<div>\n",
       "<style scoped>\n",
       "    .dataframe tbody tr th:only-of-type {\n",
       "        vertical-align: middle;\n",
       "    }\n",
       "\n",
       "    .dataframe tbody tr th {\n",
       "        vertical-align: top;\n",
       "    }\n",
       "\n",
       "    .dataframe thead th {\n",
       "        text-align: right;\n",
       "    }\n",
       "</style>\n",
       "<table border=\"1\" class=\"dataframe\">\n",
       "  <thead>\n",
       "    <tr style=\"text-align: right;\">\n",
       "      <th></th>\n",
       "      <th>model</th>\n",
       "      <th>area</th>\n",
       "      <th>full MTT</th>\n",
       "      <th>MTT(N=2)</th>\n",
       "      <th>MTT(N=20)</th>\n",
       "    </tr>\n",
       "  </thead>\n",
       "  <tbody>\n",
       "    <tr>\n",
       "      <th>0</th>\n",
       "      <td>FK</td>\n",
       "      <td>5</td>\n",
       "      <td>2.868253e-01</td>\n",
       "      <td>2.430422e-01</td>\n",
       "      <td>3.792453e-01</td>\n",
       "    </tr>\n",
       "    <tr>\n",
       "      <th>1</th>\n",
       "      <td>FK</td>\n",
       "      <td>10</td>\n",
       "      <td>7.976107e-01</td>\n",
       "      <td>6.785313e-01</td>\n",
       "      <td>9.731825e-01</td>\n",
       "    </tr>\n",
       "    <tr>\n",
       "      <th>2</th>\n",
       "      <td>FK</td>\n",
       "      <td>15</td>\n",
       "      <td>2.036781e+00</td>\n",
       "      <td>1.749740e+00</td>\n",
       "      <td>2.290591e+00</td>\n",
       "    </tr>\n",
       "    <tr>\n",
       "      <th>3</th>\n",
       "      <td>FK</td>\n",
       "      <td>20</td>\n",
       "      <td>5.350398e+00</td>\n",
       "      <td>4.681993e+00</td>\n",
       "      <td>5.669314e+00</td>\n",
       "    </tr>\n",
       "    <tr>\n",
       "      <th>4</th>\n",
       "      <td>FK</td>\n",
       "      <td>25</td>\n",
       "      <td>1.473431e+01</td>\n",
       "      <td>1.320377e+01</td>\n",
       "      <td>1.509984e+01</td>\n",
       "    </tr>\n",
       "    <tr>\n",
       "      <th>...</th>\n",
       "      <td>...</td>\n",
       "      <td>...</td>\n",
       "      <td>...</td>\n",
       "      <td>...</td>\n",
       "      <td>...</td>\n",
       "    </tr>\n",
       "    <tr>\n",
       "      <th>74</th>\n",
       "      <td>LR</td>\n",
       "      <td>375</td>\n",
       "      <td>2.698348e+10</td>\n",
       "      <td>2.583706e+10</td>\n",
       "      <td>2.698348e+10</td>\n",
       "    </tr>\n",
       "    <tr>\n",
       "      <th>75</th>\n",
       "      <td>LR</td>\n",
       "      <td>380</td>\n",
       "      <td>3.947962e+10</td>\n",
       "      <td>3.782358e+10</td>\n",
       "      <td>3.947962e+10</td>\n",
       "    </tr>\n",
       "    <tr>\n",
       "      <th>76</th>\n",
       "      <td>LR</td>\n",
       "      <td>385</td>\n",
       "      <td>5.777370e+10</td>\n",
       "      <td>5.538062e+10</td>\n",
       "      <td>5.777370e+10</td>\n",
       "    </tr>\n",
       "    <tr>\n",
       "      <th>77</th>\n",
       "      <td>LR</td>\n",
       "      <td>390</td>\n",
       "      <td>8.456045e+10</td>\n",
       "      <td>8.110109e+10</td>\n",
       "      <td>8.456045e+10</td>\n",
       "    </tr>\n",
       "    <tr>\n",
       "      <th>78</th>\n",
       "      <td>LR</td>\n",
       "      <td>395</td>\n",
       "      <td>1.237890e+11</td>\n",
       "      <td>1.187865e+11</td>\n",
       "      <td>1.237890e+11</td>\n",
       "    </tr>\n",
       "  </tbody>\n",
       "</table>\n",
       "<p>158 rows × 5 columns</p>\n",
       "</div>"
      ],
      "text/plain": [
       "   model  area      full MTT      MTT(N=2)     MTT(N=20)\n",
       "0     FK     5  2.868253e-01  2.430422e-01  3.792453e-01\n",
       "1     FK    10  7.976107e-01  6.785313e-01  9.731825e-01\n",
       "2     FK    15  2.036781e+00  1.749740e+00  2.290591e+00\n",
       "3     FK    20  5.350398e+00  4.681993e+00  5.669314e+00\n",
       "4     FK    25  1.473431e+01  1.320377e+01  1.509984e+01\n",
       "..   ...   ...           ...           ...           ...\n",
       "74    LR   375  2.698348e+10  2.583706e+10  2.698348e+10\n",
       "75    LR   380  3.947962e+10  3.782358e+10  3.947962e+10\n",
       "76    LR   385  5.777370e+10  5.538062e+10  5.777370e+10\n",
       "77    LR   390  8.456045e+10  8.110109e+10  8.456045e+10\n",
       "78    LR   395  1.237890e+11  1.187865e+11  1.237890e+11\n",
       "\n",
       "[158 rows x 5 columns]"
      ]
     },
     "execution_count": 104,
     "metadata": {},
     "output_type": "execute_result"
    }
   ],
   "source": [
    "#TODO: format ^these to df\n",
    "df1=pd.DataFrame({\n",
    "    'model':'FK',#'LR',\n",
    "    'area': A_values_fk, #Afk,#Alr,\n",
    "    'full MTT': tau_values_fk, #tau_values_lr\n",
    "    'MTT(N=2)': t2fk,  #t2lr,\n",
    "    'MTT(N=20)': t20fk, #t20lr,\n",
    "})\n",
    "df2=pd.DataFrame({\n",
    "    'model':'LR',\n",
    "    'area':Alr,\n",
    "    'full MTT': tau_values_lr,\n",
    "    'MTT(N=2)': t2lr,\n",
    "    'MTT(N=20)': t20lr,\n",
    "})\n",
    "df_tau_vs_A=pd.concat([df1,df2])\n",
    "# area, full MTE, MTE(N=2), MTE(N=20).\n",
    "# pandas.DataFrame.to_csv\n",
    "# encoding : string, optional\n",
    "# A string representing the encoding to use in the output file, defaults to ‘ascii’ on Python 2 and ‘utf-8’ on Python 3\n",
    "df_tau_vs_A"
   ]
  },
  {
   "cell_type": "code",
   "execution_count": 105,
   "id": "c0c9f27d",
   "metadata": {
    "ExecuteTime": {
     "end_time": "2023-06-20T21:18:07.024832Z",
     "start_time": "2023-06-20T21:18:06.968111Z"
    }
   },
   "outputs": [
    {
     "name": "stdout",
     "output_type": "stream",
     "text": [
      "save_tau_vs_A_dir='/Users/timothytyree/Documents/GitHub/bgmc/python/data/figure_data_tau_vs_A_c.csv'\n"
     ]
    }
   ],
   "source": [
    "#save df as .csv with encoding='ascii'\n",
    "save_tau_vs_A_dir = f\"{nb_dir}/data/figure_data_tau_vs_A_c.csv\"\n",
    "# save_tau_vs_A_dir = f\"{nb_dir}/data/figure_data_tau_vs_A.csv\"\n",
    "df_tau_vs_A.to_csv(save_tau_vs_A_dir,encoding='ascii',index=False)\n",
    "print(f\"{save_tau_vs_A_dir=}\")"
   ]
  },
  {
   "cell_type": "code",
   "execution_count": 106,
   "id": "be94c987",
   "metadata": {
    "ExecuteTime": {
     "end_time": "2023-06-20T21:18:07.730026Z",
     "start_time": "2023-06-20T21:18:07.027112Z"
    }
   },
   "outputs": [
    {
     "name": "stdout",
     "output_type": "stream",
     "text": [
      "-n \u0007\n",
      "-n \u0007\n",
      "-n \u0007\n"
     ]
    },
    {
     "data": {
      "text/plain": [
       "0"
      ]
     },
     "execution_count": 106,
     "metadata": {},
     "output_type": "execute_result"
    }
   ],
   "source": [
    "beep(3)"
   ]
  },
  {
   "cell_type": "code",
   "execution_count": 107,
   "id": "adb06548",
   "metadata": {
    "ExecuteTime": {
     "end_time": "2023-06-20T21:18:07.799761Z",
     "start_time": "2023-06-20T21:18:07.732235Z"
    }
   },
   "outputs": [
    {
     "data": {
      "text/html": [
       "<div>\n",
       "<style scoped>\n",
       "    .dataframe tbody tr th:only-of-type {\n",
       "        vertical-align: middle;\n",
       "    }\n",
       "\n",
       "    .dataframe tbody tr th {\n",
       "        vertical-align: top;\n",
       "    }\n",
       "\n",
       "    .dataframe thead th {\n",
       "        text-align: right;\n",
       "    }\n",
       "</style>\n",
       "<table border=\"1\" class=\"dataframe\">\n",
       "  <thead>\n",
       "    <tr style=\"text-align: right;\">\n",
       "      <th></th>\n",
       "      <th>model</th>\n",
       "      <th>area</th>\n",
       "      <th>full MTT</th>\n",
       "      <th>MTT(N=2)</th>\n",
       "      <th>MTT(N=20)</th>\n",
       "    </tr>\n",
       "  </thead>\n",
       "  <tbody>\n",
       "    <tr>\n",
       "      <th>4</th>\n",
       "      <td>FK</td>\n",
       "      <td>25</td>\n",
       "      <td>14.734314</td>\n",
       "      <td>13.203774</td>\n",
       "      <td>15.099838</td>\n",
       "    </tr>\n",
       "    <tr>\n",
       "      <th>4</th>\n",
       "      <td>LR</td>\n",
       "      <td>25</td>\n",
       "      <td>0.443404</td>\n",
       "      <td>0.337228</td>\n",
       "      <td>0.548641</td>\n",
       "    </tr>\n",
       "  </tbody>\n",
       "</table>\n",
       "</div>"
      ],
      "text/plain": [
       "  model  area   full MTT   MTT(N=2)  MTT(N=20)\n",
       "4    FK    25  14.734314  13.203774  15.099838\n",
       "4    LR    25   0.443404   0.337228   0.548641"
      ]
     },
     "execution_count": 107,
     "metadata": {},
     "output_type": "execute_result"
    }
   ],
   "source": [
    "# Q: does tau agree any better with Table 2?\n",
    "df_tau_vs_A[df_tau_vs_A['area']==25]"
   ]
  },
  {
   "cell_type": "code",
   "execution_count": 108,
   "id": "0240a52a",
   "metadata": {
    "ExecuteTime": {
     "end_time": "2023-06-20T21:18:07.862472Z",
     "start_time": "2023-06-20T21:18:07.801867Z"
    }
   },
   "outputs": [],
   "source": [
    "save_tau_vs_A_dir='/Users/timothytyree/Documents/GitHub/bgmc/python/data/figure_data_tau_vs_A_c.csv'\n",
    "df_tau_vs_A = pd.read_csv(save_tau_vs_A_dir)"
   ]
  },
  {
   "cell_type": "code",
   "execution_count": 109,
   "id": "7c3ce83f",
   "metadata": {
    "ExecuteTime": {
     "end_time": "2023-06-20T21:18:07.914271Z",
     "start_time": "2023-06-20T21:18:07.864479Z"
    }
   },
   "outputs": [],
   "source": [
    "# # xfactor=4.\n",
    "# # xfactor=0.7 #<<worse.\n",
    "# # xfactor=0.66 #<<worse\n",
    "# # xfactor=0.6 #<<worse?\n",
    "# # xfactor=0.55 #<<worse?\n",
    "# # xfactor=1 #<<worse?\n",
    "# # xfactor = (1.46025/2.21033)**2\n",
    "# # xfactor=0.45 #<<worse.\n",
    "# xfactor=0.5\n",
    "# # xfactor=2/np.pi\n",
    "# # xfactor=3/np.pi/2\n",
    "# # xfactor=4/np.pi/3\n",
    "# # xfactor=5/np.pi/4"
   ]
  },
  {
   "cell_type": "code",
   "execution_count": 110,
   "id": "df0124df",
   "metadata": {
    "ExecuteTime": {
     "end_time": "2023-06-20T21:18:07.992276Z",
     "start_time": "2023-06-20T21:18:07.916262Z"
    }
   },
   "outputs": [],
   "source": [
    "\n",
    "# Mp = dict_fit_birth_fk['M']\n",
    "# nup = dict_fit_birth_fk['m']\n",
    "# Mm = dict_fit_death_fk['M']\n",
    "# num = dict_fit_death_fk['m']\n",
    "# model_name='Fenton-Karma'\n",
    "# # nu=nup;nup=num;num=nu\n",
    "\n",
    "# A0=A0fk\n",
    "# Delta_A0=Delta_A0fk\n",
    "# # x=Mp/Mm * (A0/2.)**(num-nup)\n",
    "# # Delta_x=np.abs(Mp/Mm * ((Delta_A0+A0)/2.)**(num-nup) - x)\n",
    "# x=Mp/Mm * (A0/xfactor)**(num-nup)\n",
    "# Delta_x=np.abs(Mp/Mm * ((Delta_A0+A0)/xfactor)**(num-nup) - x)\n",
    "# print(f\"\\nFor {model_name}:\")\n",
    "# print(f\"Inputs:\")\n",
    "# print(f\"- {Mp=}; {nup=}\")\n",
    "# print(f\"- {Mm=}; {num=}\")\n",
    "# _xv = np.arange(0.02, 1,0.01)\n",
    "# qstar,wstar = comp_powerlaw_intersection(Mp,nup,Mm,num,xv=_xv)\n",
    "# print(f\"Outputs:\")\n",
    "# print(f\"\\t--> {qstar=:.4f}; {wstar=:.4f}\")\n",
    "# print(f\"*** {x=:.5f} +/- {Delta_x:.5f} ({xfactor=})\")\n",
    "# # print(f\"let y=x**(1/(num-nup)). then,\")\n",
    "# y=x**(1/(num-nup))\n",
    "# Delta_y=Delta_x**(1/(num-nup))\n",
    "# print(f\"*** {y=:.5f} +/- {Delta_y:.5f} ***\")\n",
    "\n",
    "\n",
    "# Mp = dict_fit_birth_lr['M']\n",
    "# nup = dict_fit_birth_lr['m']\n",
    "# Mm = dict_fit_death_lr['M']\n",
    "# num = dict_fit_death_lr['m']\n",
    "# model_name='Luo-Rudy'\n",
    "# # nu=nup;nup=num;num=nu\n",
    "\n",
    "# A0=A0lr\n",
    "# Delta_A0=Delta_A0lr\n",
    "# # x=Mp/Mm * (A0/2.)**(num-nup)\n",
    "# # Delta_x=np.abs(Mp/Mm * ((Delta_A0+A0)/2.)**(num-nup) - x)\n",
    "# x=Mp/Mm * (A0/xfactor)**(num-nup)\n",
    "# Delta_x=np.abs(Mp/Mm * ((Delta_A0+A0)/xfactor)**(num-nup) - x)\n",
    "# print(f\"\\nFor {model_name}:\")\n",
    "# print(f\"Inputs:\")\n",
    "# print(f\"- {Mp=}; {nup=}\")\n",
    "# print(f\"- {Mm=}; {num=}\")\n",
    "# _xv = np.arange(0.02, 1,0.01)\n",
    "# qstar,wstar = comp_powerlaw_intersection(Mp,nup,Mm,num,xv=_xv)\n",
    "# print(f\"Outputs:\")\n",
    "# print(f\"\\t--> {qstar=:.4f}; {wstar=:.4f}\")\n",
    "# print(f\"*** {x=:.5f} +/- {Delta_x:.5f} \")\n",
    "# # print(f\"let y=x**(1/(num-nup)). then,\")\n",
    "# y=x**(1/(num-nup))\n",
    "# Delta_y=Delta_x**(1/(num-nup))\n",
    "# print(f\"*** {y=:.5f} +/- {Delta_y:.5f} ***\")\n",
    "\n",
    "# print(f\"\\nQ: Do x agree?\")\n",
    "# print(f\"here: {xfactor=}\")"
   ]
  },
  {
   "cell_type": "code",
   "execution_count": 111,
   "id": "5691878f",
   "metadata": {
    "ExecuteTime": {
     "end_time": "2023-06-20T21:18:08.055550Z",
     "start_time": "2023-06-20T21:18:07.994609Z"
    }
   },
   "outputs": [
    {
     "name": "stdout",
     "output_type": "stream",
     "text": [
      "OLS Exponential Fits:\n",
      "\n",
      "Fenton-Karma:\n",
      "- A0:\t3.8273 +/- 0.0071 (cm^2)\n",
      "- tau0:\t0.0025 +/- 0.0001 (seconds)\n",
      "\n",
      "Luo-Rudy:\n",
      "- A0:\t13.2878 +/- 0.2558 (cm^2)\n",
      "- tau0:\t0.0147 +/- 0.0005 (seconds)\n"
     ]
    }
   ],
   "source": [
    "#print the exponential fits. \n",
    "\n",
    "#fit exponentials to FK\n",
    "print(f\"OLS Exponential Fits:\")\n",
    "xv = A_values_fk\n",
    "yv = tau_values_fk\n",
    "#compute exponential fit and characteristic area\n",
    "B,Delta_B,m,Delta_m,Rsq=fit_exponential(xv[xv>Amin],yv[xv>Amin])\n",
    "# B,Delta_B,m,Delta_m,Rsq=fit_exponential(xv,yv)\n",
    "yvhat=np.exp(xv*m+B)\n",
    "rmse=np.sqrt(np.mean((yvhat-yv)**2))\n",
    "print(f\"\\nFenton-Karma:\")\n",
    "# print_fit_exponential(xv,yv)\n",
    "A0fk=float(1./m)\n",
    "Delta_A0fk=float(Delta_m*float(1./m)/(m**2))\n",
    "yvhatfk=yvhat.copy()\n",
    "yvfk=yv.copy()\n",
    "xvfk=xv.copy()\n",
    "print(f\"- A0:\\t{A0fk:.4f} +/- {Delta_A0fk:.4f} (cm^2)\")\n",
    "tau0=np.exp(B)\n",
    "Delta_tau0=float(np.exp(B+Delta_B)-tau0)\n",
    "print(f\"- tau0:\\t{tau0:.4f} +/- {Delta_tau0:.4f} (seconds)\")\n",
    "tau0fk=float(tau0)\n",
    "Delta_tau0fk=float(Delta_tau0)\n",
    "\n",
    "print(f\"\\nLuo-Rudy:\")\n",
    "xv = A_values_lr\n",
    "yv = tau_values_lr\n",
    "#compute exponential fit and characteristic area\n",
    "B,Delta_B,m,Delta_m,Rsq=fit_exponential(xv[xv>Amin],yv[xv>Amin])\n",
    "# B,Delta_B,m,Delta_m,Rsq=fit_exponential(xv,yv)\n",
    "yvhat=np.exp(xv*m+B)\n",
    "rmse=np.sqrt(np.mean((yvhat-yv)**2))\n",
    "# print_fit_exponential(xv,yv)\n",
    "A0lr=float(1./m)\n",
    "Delta_A0lr=float(Delta_m*float(1./m)/(m**2))\n",
    "yvhatlr=yvhat.copy()\n",
    "yvlr=yv.copy()\n",
    "xvlr=xv.copy()\n",
    "print(f\"- A0:\\t{A0lr:.4f} +/- {Delta_A0lr:.4f} (cm^2)\")\n",
    "tau0=np.exp(B)\n",
    "Delta_tau0=float(np.exp(B+Delta_B)-tau0)\n",
    "print(f\"- tau0:\\t{tau0:.4f} +/- {Delta_tau0:.4f} (seconds)\")\n",
    "tau0lr=float(tau0)\n",
    "Delta_tau0lr=float(Delta_tau0)"
   ]
  },
  {
   "cell_type": "markdown",
   "id": "f965970e",
   "metadata": {
    "ExecuteTime": {
     "end_time": "2023-02-07T04:20:14.213399Z",
     "start_time": "2023-02-07T04:20:14.204137Z"
    }
   },
   "source": [
    "before change: \n",
    "\n",
    "OLS Exponential Fits:\n",
    "\n",
    "Fenton-Karma:\n",
    "- A0:\t13.7367 +/- 0.8758 (cm^2)\n",
    "- tau0:\t0.0593 +/- 0.0048 (seconds)\n",
    "\n",
    "Luo-Rudy:\n",
    "- A0:\t13.7367 +/- 0.8758 (cm^2)\n",
    "- tau0:\t0.0593 +/- 0.0048 (seconds)"
   ]
  },
  {
   "cell_type": "code",
   "execution_count": 112,
   "id": "ee0584f3",
   "metadata": {
    "ExecuteTime": {
     "end_time": "2023-06-20T21:18:08.383761Z",
     "start_time": "2023-06-20T21:18:08.058754Z"
    }
   },
   "outputs": [
    {
     "data": {
      "image/png": "[encoded data removed]",
      "text/plain": [
       "<Figure size 400x400 with 1 Axes>"
      ]
     },
     "metadata": {},
     "output_type": "display_data"
    }
   ],
   "source": [
    "#TODO: plot traces with exponential fits overlaid, like before\n",
    "#basic scatter plot of the data at N_0 given\n",
    "# xlim\n",
    "figsize=(4,4)\n",
    "fontsize=16\n",
    "markersize=10\n",
    "alpha=1.0\n",
    "ycol='tau'\n",
    "ycol='full MTT'\n",
    "# ylim = (0.0005007487135910895, 5.156057164412211e+44)\n",
    "# alpha=0.7\n",
    "fig,ax=plt.subplots(figsize=figsize)\n",
    "#plot data\n",
    "# df_tau_fk[df_tau_fk['N0']==N0].plot.scatter(x='A',y='tau',s=markersize,alpha=alpha,ax=ax,label='Fenton-Karma',color='C0')\n",
    "# df_tau_lr[df_tau_lr['N0']==N0].plot.scatter(x='A',y='tau',s=markersize,alpha=alpha,ax=ax,label='Luo-Rudy',color='C1')\n",
    "df_tau_vs_A[df_tau_vs_A['model']=='FK'].plot(x='area',y=ycol,alpha=alpha,ax=ax,label='Fenton-Karma',color='C0',lw=2)\n",
    "df_tau_vs_A[df_tau_vs_A['model']=='LR'].plot(x='area',y=ycol,alpha=alpha,ax=ax,label='Luo-Rudy',color='C1',lw=2)\n",
    "\n",
    "#plot the fits as dotted lines\n",
    "# xv,yv=df_tau_fk[df_tau_fk['N0']==N0][['A','tau']].values.T\n",
    "# xv,yv=df_tau_fk[(df_tau_fk['N0']==N0)&(df_tau_fk['A']>=25)][['A','tau']].values.T\n",
    "xv,yv=df_tau_vs_A[df_tau_vs_A['model']=='FK'][['area',ycol]].values.T\n",
    "B,Delta_B,m,Delta_m,Rsq=fit_exponential(xv[xv>Amin],yv[xv>Amin])\n",
    "# B,Delta_B,m,Delta_m,Rsq=fit_exponential(xv,yv)\n",
    "xvfk=xv.copy()\n",
    "yvhatfk=np.exp(xv*m+B)\n",
    "# yvhatfk=-B*np.exp(xv*m)\n",
    "# yvhatfk=1e-3*np.exp(xv*m)\n",
    "# yvhatfk=np.exp(xvfk/A0fk-B)\n",
    "ax.plot(xvfk,yvhatfk,'k:',alpha=0.7,lw=2)\n",
    "\n",
    "# xv,yv=df_tau_lr[(df_tau_lr['N0']==N0)&(df_tau_lr['A']>=25)][['A','tau']].values.T\n",
    "xv,yv=df_tau_vs_A[df_tau_vs_A['model']=='LR'][['area',ycol]].values.T\n",
    "B,Delta_B,m,Delta_m,Rsq=fit_exponential(xv[xv>Amin],yv[xv>Amin])\n",
    "# B,Delta_B,m,Delta_m,Rsq=fit_exponential(xv,yv)\n",
    "xvlr=xv.copy()\n",
    "# yvhatlr=np.exp(xv*m-B)\n",
    "yvhatlr=np.exp(B)*np.exp(xv*m)\n",
    "ax.plot(xvlr,yvhatlr,'k:',alpha=0.7,lw=2)\n",
    "\n",
    "# format_plot\n",
    "# format_plot(ax=ax,xlabel=r'$A$   (cm$^2$)',ylabel=r'$\\tau(N_0)$   (s)',fontsize=fontsize)\n",
    "format_plot(ax=ax,xlabel=r'$A$   (cm$^2$)',ylabel=r'$\\tau\\;$  (seconds)',fontsize=fontsize)\n",
    "# ax.set_title(model_name,fontsize=fontsize)\n",
    "ax.set_yscale('log')\n",
    "# plt.tight_layout()\n",
    "ax.tick_params(top=True, right=True,direction='in',which='both')\n",
    "ax.legend(fontsize=fontsize-2,frameon=False,loc='upper left')\n",
    "# ax.set_ylim(ylim)\n",
    "# ax.set_ylim(xlim)\n",
    "plt.show()"
   ]
  },
  {
   "cell_type": "code",
   "execution_count": 113,
   "id": "68c5b924",
   "metadata": {
    "ExecuteTime": {
     "end_time": "2023-06-20T21:18:08.463290Z",
     "start_time": "2023-06-20T21:18:08.386277Z"
    }
   },
   "outputs": [],
   "source": [
    "#DONE: add exponential fits to .odg\n",
    "#TODO: copy the input powerlaw fits to .odg\n",
    "#heretim\n",
    "#TODO: update .odg and share with WJ, attaching the aforementioned .csv"
   ]
  },
  {
   "cell_type": "code",
   "execution_count": 114,
   "id": "b26ac5f3",
   "metadata": {
    "ExecuteTime": {
     "end_time": "2023-06-20T21:18:08.536133Z",
     "start_time": "2023-06-20T21:18:08.466069Z"
    }
   },
   "outputs": [
    {
     "name": "stdout",
     "output_type": "stream",
     "text": [
      "Fenton-Karma:\n",
      "  Mp=0.8642103569057054; nup=0.22959399086621063\n",
      "  Mm=5.572315674840435; num=1.8772341309722325\n",
      "    --> mean values: qstar=0.3200; wstar=0.6653\n",
      "Luo-Rudy:\n",
      "  Mp=3.2770725040489235; nup=0.7147550082416185\n",
      "  Mm=16.73559858353835; num=1.6375562704001745\n",
      "    --> mean values: qstar=0.1700; wstar=0.9235\n"
     ]
    }
   ],
   "source": [
    "#DONE: get token inputs prepared\n",
    "dict_fit_death_lr = dict(wjr['lr_pbc'])\n",
    "dict_fit_death_fk = dict(wjr['fk_pbc'])\n",
    "Mp = dict_fit_birth_fk['M']\n",
    "nup = dict_fit_birth_fk['m']\n",
    "Mm = dict_fit_death_fk['M']\n",
    "num = dict_fit_death_fk['m']\n",
    "model_name='Fenton-Karma'\n",
    "print(f\"{model_name}:\")\n",
    "print(f\"  {Mp=}; {nup=}\")\n",
    "print(f\"  {Mm=}; {num=}\")\n",
    "xv = np.arange(0.02, 1,0.01)\n",
    "qstar,wstar = comp_powerlaw_intersection(Mp,nup,Mm,num,xv=xv)\n",
    "print(f\"    --> mean values: {qstar=:.4f}; {wstar=:.4f}\")\n",
    "\n",
    "\n",
    "Mp = dict_fit_birth_lr['M']\n",
    "nup = dict_fit_birth_lr['m']\n",
    "Mm = dict_fit_death_lr['M']\n",
    "num = dict_fit_death_lr['m']\n",
    "model_name='Luo-Rudy'\n",
    "print(f\"{model_name}:\")\n",
    "print(f\"  {Mp=}; {nup=}\")\n",
    "print(f\"  {Mm=}; {num=}\")\n",
    "xv = np.arange(0.02, 1,0.01)\n",
    "qstar,wstar = comp_powerlaw_intersection(Mp,nup,Mm,num,xv=xv)\n",
    "print(f\"    --> mean values: {qstar=:.4f}; {wstar=:.4f}\")\n",
    "\n"
   ]
  },
  {
   "cell_type": "code",
   "execution_count": null,
   "id": "f7e6d3ef",
   "metadata": {},
   "outputs": [],
   "source": []
  },
  {
   "cell_type": "code",
   "execution_count": null,
   "id": "1f3e9de0",
   "metadata": {},
   "outputs": [],
   "source": []
  },
  {
   "cell_type": "code",
   "execution_count": 115,
   "id": "f31f7cb7",
   "metadata": {
    "ExecuteTime": {
     "end_time": "2023-06-20T21:18:08.602769Z",
     "start_time": "2023-06-20T21:18:08.538092Z"
    }
   },
   "outputs": [],
   "source": [
    "# #DONE: estimate the exponential fit using fit_exponential\n",
    "# xv=A_values.copy(); yv=tau_values.copy()\n",
    "# B,Delta_B,m,Delta_m,Rsq=fit_exponential(xv,yv)\n",
    "# yvhat=np.exp(B)*np.exp(xv*m)\n",
    "# plt.plot(xv,yvhat,'k:',alpha=0.7,lw=2)\n",
    "# plt.yscale('log')"
   ]
  },
  {
   "cell_type": "code",
   "execution_count": 116,
   "id": "1ea98d94",
   "metadata": {
    "ExecuteTime": {
     "end_time": "2023-06-20T21:18:09.301372Z",
     "start_time": "2023-06-20T21:18:08.605152Z"
    }
   },
   "outputs": [
    {
     "name": "stdout",
     "output_type": "stream",
     "text": [
      "-n \u0007\n",
      "-n \u0007\n",
      "-n \u0007\n"
     ]
    },
    {
     "data": {
      "text/plain": [
       "0"
      ]
     },
     "execution_count": 116,
     "metadata": {},
     "output_type": "execute_result"
    }
   ],
   "source": [
    "beep(3)\n",
    "#TODO: plot ^this trace for LR overlaid with FK\n",
    "#TODO: save ^these to .csv with the other data\n",
    "#TODO: share with wjr"
   ]
  },
  {
   "cell_type": "code",
   "execution_count": 117,
   "id": "78cda6a5",
   "metadata": {
    "ExecuteTime": {
     "end_time": "2023-06-20T21:18:09.379757Z",
     "start_time": "2023-06-20T21:18:09.303429Z"
    }
   },
   "outputs": [],
   "source": [
    "# #heretim\n",
    "# plt.plot(A_values_fk,tau_values_fk)\n",
    "# plt.yscale('log')\n",
    "# format_plot(xlabel=r'$A$ (cm$^2$)',ylabel=r'$\\tau$   (s)')\n",
    "# plt.show()"
   ]
  },
  {
   "cell_type": "code",
   "execution_count": null,
   "id": "403627f0",
   "metadata": {},
   "outputs": [],
   "source": []
  },
  {
   "cell_type": "code",
   "execution_count": 118,
   "id": "03a7a0f0",
   "metadata": {
    "ExecuteTime": {
     "end_time": "2023-06-20T21:18:09.449616Z",
     "start_time": "2023-06-20T21:18:09.382029Z"
    }
   },
   "outputs": [],
   "source": [
    "A=25\n",
    "comp_Wp = get_comp_W(A,nup,Mp)\n",
    "comp_Wm = get_comp_W(A,num,Mm)\n",
    "phi = get_phi(comp_Wm,comp_Wp)\n",
    "n_qs,prob_qs = comp_quasistatic_distrib_paired_bdrates(comp_Wm,comp_Wp,num_iter=num_iter,freq_prev=1.) #correct qs\n",
    "Nbar = np.dot(n_qs,prob_qs)"
   ]
  },
  {
   "cell_type": "code",
   "execution_count": 119,
   "id": "62752938",
   "metadata": {
    "ExecuteTime": {
     "end_time": "2023-06-20T21:18:09.640566Z",
     "start_time": "2023-06-20T21:18:09.452430Z"
    }
   },
   "outputs": [
    {
     "name": "stdout",
     "output_type": "stream",
     "text": [
      "tau=0.4405663553405909, (Nbar=6.587830396477089)\n"
     ]
    }
   ],
   "source": [
    "#Q: does changing the divide by net probability change tau?\n",
    "# A: no.\n",
    "#Q: does changing max cutoff change tau?\n",
    "# A: no.\n",
    "#Q: does reversing the change to inner_sum *= phi(2*k) change tau?\n",
    "# A: yes. tau=25.856213587248263, (Nbar=7.624837359362673)\n",
    "#heretim\n",
    "eval_tau= get_eval_tau(eval_tau_expression)\n",
    "tau = eval_tau(n_qs, prob_qs, phi, comp_Wm, comp_Wp, printing=False,**kwargs)\n",
    "print(f\"{tau=}, ({Nbar=})\")"
   ]
  },
  {
   "cell_type": "code",
   "execution_count": 120,
   "id": "4759c3d1",
   "metadata": {
    "ExecuteTime": {
     "end_time": "2023-06-20T21:18:09.809522Z",
     "start_time": "2023-06-20T21:18:09.642581Z"
    }
   },
   "outputs": [
    {
     "name": "stdout",
     "output_type": "stream",
     "text": [
      "tau=0.4405663553405909, (Nbar=6.587830396477089)\n"
     ]
    }
   ],
   "source": [
    "#after change to inner_sum *= phi(2*k) change tau\n",
    "eval_tau= get_eval_tau(eval_tau_expression)\n",
    "tau = eval_tau(n_qs, prob_qs, phi, comp_Wm, comp_Wp, printing=False,**kwargs)\n",
    "print(f\"{tau=}, ({Nbar=})\")"
   ]
  },
  {
   "cell_type": "code",
   "execution_count": 121,
   "id": "d249667c",
   "metadata": {
    "ExecuteTime": {
     "end_time": "2023-06-20T21:18:09.962036Z",
     "start_time": "2023-06-20T21:18:09.811382Z"
    }
   },
   "outputs": [
    {
     "name": "stdout",
     "output_type": "stream",
     "text": [
      "tau=0.4405663553405909, (Nbar=6.587830396477089)\n"
     ]
    }
   ],
   "source": [
    "#after change to kk from k\n",
    "eval_tau= get_eval_tau(eval_tau_expression)\n",
    "tau = eval_tau(n_qs, prob_qs, phi, comp_Wm, comp_Wp, printing=False,**kwargs)\n",
    "print(f\"{tau=}, ({Nbar=})\")"
   ]
  },
  {
   "cell_type": "code",
   "execution_count": 122,
   "id": "9193b35d",
   "metadata": {
    "ExecuteTime": {
     "end_time": "2023-06-20T21:18:10.114594Z",
     "start_time": "2023-06-20T21:18:09.964267Z"
    }
   },
   "outputs": [
    {
     "name": "stdout",
     "output_type": "stream",
     "text": [
      "tau=0.4405663553405909, (Nbar=6.59)\n"
     ]
    }
   ],
   "source": [
    "#after change to j from jj\n",
    "eval_tau= get_eval_tau(eval_tau_expression)\n",
    "tau = eval_tau(n_qs, prob_qs, phi, comp_Wm, comp_Wp, printing=False,**kwargs)\n",
    "print(f\"{tau=}, ({Nbar=:.2f})\")"
   ]
  },
  {
   "cell_type": "code",
   "execution_count": null,
   "id": "85e7393e",
   "metadata": {
    "ExecuteTime": {
     "end_time": "2023-02-07T21:43:56.682525Z",
     "start_time": "2023-02-07T21:43:56.612169Z"
    }
   },
   "outputs": [],
   "source": []
  },
  {
   "cell_type": "code",
   "execution_count": 123,
   "id": "f56c78f7",
   "metadata": {
    "ExecuteTime": {
     "end_time": "2023-06-20T21:18:10.291556Z",
     "start_time": "2023-06-20T21:18:10.116461Z"
    }
   },
   "outputs": [
    {
     "name": "stdout",
     "output_type": "stream",
     "text": [
      "tau=0.4405663553405909, (Nbar=6.59)\n"
     ]
    }
   ],
   "source": [
    "#...\n",
    "eval_tau= get_eval_tau(eval_tau_expression)\n",
    "tau = eval_tau(n_qs, prob_qs, phi, comp_Wm, comp_Wp, printing=False,**kwargs)\n",
    "print(f\"{tau=}, ({Nbar=:.2f})\")"
   ]
  },
  {
   "cell_type": "code",
   "execution_count": 124,
   "id": "d04c828b",
   "metadata": {
    "ExecuteTime": {
     "end_time": "2023-06-20T21:18:10.354197Z",
     "start_time": "2023-06-20T21:18:10.293394Z"
    }
   },
   "outputs": [],
   "source": [
    "# # phi(2)-0.1004090260 = 7.64461033277708e-05 >>> the error between our phi(2) values\n",
    "# for j in range(2,20):\n",
    "#     print(j)"
   ]
  },
  {
   "cell_type": "code",
   "execution_count": 125,
   "id": "26860b40",
   "metadata": {
    "ExecuteTime": {
     "end_time": "2023-06-20T21:18:10.420221Z",
     "start_time": "2023-06-20T21:18:10.356207Z"
    }
   },
   "outputs": [
    {
     "data": {
      "text/plain": [
       "1.8873048200950442"
      ]
     },
     "execution_count": 125,
     "metadata": {},
     "output_type": "execute_result"
    }
   ],
   "source": [
    "# FK:\n",
    "# - Full MTE: 27.8±6.5 s\n",
    "# - MTE (before change): 25.9 s\n",
    "# - MTE (after change): 14.73 s \n",
    "27.8/14.73"
   ]
  },
  {
   "cell_type": "code",
   "execution_count": 126,
   "id": "c545abde",
   "metadata": {
    "ExecuteTime": {
     "end_time": "2023-06-20T21:18:10.487168Z",
     "start_time": "2023-06-20T21:18:10.422178Z"
    }
   },
   "outputs": [
    {
     "data": {
      "text/plain": [
       "1.6086956521739129"
      ]
     },
     "execution_count": 126,
     "metadata": {},
     "output_type": "execute_result"
    }
   ],
   "source": [
    "# LR:\n",
    "# - Full MTE: 0.74±0.06 s\n",
    "# - MTE (before change): 0.51 s\n",
    "# - MTE (after change): 0.46 s \n",
    "0.74/0.46"
   ]
  },
  {
   "cell_type": "code",
   "execution_count": 127,
   "id": "e6235101",
   "metadata": {
    "ExecuteTime": {
     "end_time": "2023-06-20T21:18:10.554317Z",
     "start_time": "2023-06-20T21:18:10.489345Z"
    }
   },
   "outputs": [
    {
     "data": {
      "text/plain": [
       "0.4965068628906701"
      ]
     },
     "execution_count": 127,
     "metadata": {},
     "output_type": "execute_result"
    }
   ],
   "source": [
    "phi(2)"
   ]
  },
  {
   "cell_type": "markdown",
   "id": "e9ca2a3e",
   "metadata": {},
   "source": [
    "# TODO: generate a figure showing the approximate solution"
   ]
  },
  {
   "cell_type": "code",
   "execution_count": 128,
   "id": "d5154add",
   "metadata": {
    "ExecuteTime": {
     "end_time": "2023-06-20T21:18:10.632187Z",
     "start_time": "2023-06-20T21:18:10.556164Z"
    }
   },
   "outputs": [
    {
     "data": {
      "text/plain": [
       "True"
      ]
     },
     "execution_count": 128,
     "metadata": {},
     "output_type": "execute_result"
    }
   ],
   "source": [
    "data_folder = f\"{nb_dir}/Data/full_results\"\n",
    "os.path.exists(data_folder)"
   ]
  },
  {
   "cell_type": "code",
   "execution_count": 179,
   "id": "cb634f3a",
   "metadata": {
    "ExecuteTime": {
     "end_time": "2023-06-20T22:23:06.946247Z",
     "start_time": "2023-06-20T22:23:06.877708Z"
    }
   },
   "outputs": [],
   "source": [
    "Nbar_dir = os.path.join(data_folder,'Nbar_vs_A_full.csv')\n",
    "taubar_dir = os.path.join(data_folder,'taubar_vs_A_full.csv')\n",
    "df_Nbar = pd.read_csv(Nbar_dir)\n",
    "df_taubar = pd.read_csv(taubar_dir)\n",
    "# df_taubar\n",
    "# df_Nbar"
   ]
  },
  {
   "cell_type": "code",
   "execution_count": 180,
   "id": "eba411dd",
   "metadata": {
    "ExecuteTime": {
     "end_time": "2023-06-20T22:23:10.835861Z",
     "start_time": "2023-06-20T22:23:10.768545Z"
    }
   },
   "outputs": [],
   "source": [
    "xfk = df_taubar[df_taubar['model_name']=='FK']['A'].values\n",
    "yfk = df_taubar[df_taubar['model_name']=='FK']['taubar'].values\n",
    "xlr = df_taubar[df_taubar['model_name']=='LR']['A'].values\n",
    "ylr = df_taubar[df_taubar['model_name']=='LR']['taubar'].values"
   ]
  },
  {
   "cell_type": "code",
   "execution_count": 181,
   "id": "84c863a6",
   "metadata": {
    "ExecuteTime": {
     "end_time": "2023-06-20T22:23:12.018348Z",
     "start_time": "2023-06-20T22:23:11.944429Z"
    }
   },
   "outputs": [
    {
     "data": {
      "text/html": [
       "<div>\n",
       "<style scoped>\n",
       "    .dataframe tbody tr th:only-of-type {\n",
       "        vertical-align: middle;\n",
       "    }\n",
       "\n",
       "    .dataframe tbody tr th {\n",
       "        vertical-align: top;\n",
       "    }\n",
       "\n",
       "    .dataframe thead th {\n",
       "        text-align: right;\n",
       "    }\n",
       "</style>\n",
       "<table border=\"1\" class=\"dataframe\">\n",
       "  <thead>\n",
       "    <tr style=\"text-align: right;\">\n",
       "      <th></th>\n",
       "      <th>model_name</th>\n",
       "      <th>A</th>\n",
       "      <th>taubar</th>\n",
       "      <th>taubar_alt</th>\n",
       "    </tr>\n",
       "  </thead>\n",
       "  <tbody>\n",
       "    <tr>\n",
       "      <th>0</th>\n",
       "      <td>FK</td>\n",
       "      <td>20.250000</td>\n",
       "      <td>11.935307</td>\n",
       "      <td>1193.530664</td>\n",
       "    </tr>\n",
       "    <tr>\n",
       "      <th>1</th>\n",
       "      <td>FK</td>\n",
       "      <td>22.562502</td>\n",
       "      <td>18.722880</td>\n",
       "      <td>1872.287982</td>\n",
       "    </tr>\n",
       "    <tr>\n",
       "      <th>2</th>\n",
       "      <td>FK</td>\n",
       "      <td>25.000004</td>\n",
       "      <td>25.598378</td>\n",
       "      <td>2559.837778</td>\n",
       "    </tr>\n",
       "    <tr>\n",
       "      <th>3</th>\n",
       "      <td>FK</td>\n",
       "      <td>27.562502</td>\n",
       "      <td>46.659020</td>\n",
       "      <td>4665.902041</td>\n",
       "    </tr>\n",
       "    <tr>\n",
       "      <th>4</th>\n",
       "      <td>FK</td>\n",
       "      <td>31.640629</td>\n",
       "      <td>93.176000</td>\n",
       "      <td>9317.600000</td>\n",
       "    </tr>\n",
       "  </tbody>\n",
       "</table>\n",
       "</div>"
      ],
      "text/plain": [
       "  model_name          A     taubar   taubar_alt\n",
       "0         FK  20.250000  11.935307  1193.530664\n",
       "1         FK  22.562502  18.722880  1872.287982\n",
       "2         FK  25.000004  25.598378  2559.837778\n",
       "3         FK  27.562502  46.659020  4665.902041\n",
       "4         FK  31.640629  93.176000  9317.600000"
      ]
     },
     "execution_count": 181,
     "metadata": {},
     "output_type": "execute_result"
    }
   ],
   "source": [
    "df_taubar.head()"
   ]
  },
  {
   "cell_type": "code",
   "execution_count": 182,
   "id": "9c5fd1a1",
   "metadata": {
    "ExecuteTime": {
     "end_time": "2023-06-20T22:23:12.603500Z",
     "start_time": "2023-06-20T22:23:12.536342Z"
    }
   },
   "outputs": [],
   "source": [
    "yfk_pred = df_taubar[df_taubar['model_name']=='FK']['taubar_alt'].values.copy()\n",
    "ylr_pred = df_taubar[df_taubar['model_name']=='LR']['taubar_alt'].values.copy()\n",
    "yfk_pred*= yfk[0]/yfk_pred[0]\n",
    "ylr_pred*= ylr[0]/ylr_pred[0]"
   ]
  },
  {
   "cell_type": "code",
   "execution_count": 183,
   "id": "70285ab3",
   "metadata": {
    "ExecuteTime": {
     "end_time": "2023-06-20T22:23:13.267086Z",
     "start_time": "2023-06-20T22:23:13.201138Z"
    }
   },
   "outputs": [],
   "source": [
    "A_fk = 25\n",
    "boo  = np.isclose(xfk,25)\n",
    "assert boo.any()\n",
    "tau_fk = yfk[boo][0]\n",
    "A_lr = 25\n",
    "boo  = np.isclose(xlr,25)\n",
    "assert boo.any()\n",
    "tau_lr = ylr[boo][0]"
   ]
  },
  {
   "cell_type": "code",
   "execution_count": 184,
   "id": "2210de53",
   "metadata": {
    "ExecuteTime": {
     "end_time": "2023-06-20T22:23:13.972753Z",
     "start_time": "2023-06-20T22:23:13.902279Z"
    }
   },
   "outputs": [
    {
     "name": "stdout",
     "output_type": "stream",
     "text": [
      "Warning: CI not valid for less than 8 data points!\n",
      "\t{m},{B},{rmse},{Rsq}\n",
      "0.1830,-1.2411,2.3137,0.9984\n",
      "Warning: CI not valid for less than 8 data points!\n",
      "\t{m},{B},{rmse},{Rsq}\n",
      "0.0547,-1.5932,0.1112,0.9991\n"
     ]
    }
   ],
   "source": [
    "# print_fit_exponential\n",
    "B,Delta_B,m,Delta_m,Rsq=fit_exponential(xfk,yfk)\n",
    "rmse=compute_exponential_rmse(xfk,yfk,m,B)\n",
    "print(\"\\t{m},{B},{rmse},{Rsq}\")\n",
    "print(f\"{m:.4f},{B:.4f},{rmse:.4f},{Rsq:.4f}\")\n",
    "#generate OLS exp fit to fk navg(A)\n",
    "taubar0fk = np.exp(B)\n",
    "A0fk=1/m\n",
    "\n",
    "# print_fit_exponential\n",
    "B,Delta_B,m,Delta_m,Rsq=fit_exponential(xlr,ylr)\n",
    "rmse=compute_exponential_rmse(xlr,ylr,m,B)\n",
    "print(\"\\t{m},{B},{rmse},{Rsq}\")\n",
    "print(f\"{m:.4f},{B:.4f},{rmse:.4f},{Rsq:.4f}\")\n",
    "#generate OLS exp fit to lr navg(A)\n",
    "taubar0lr = np.exp(B)\n",
    "A0lr=1/m"
   ]
  },
  {
   "cell_type": "code",
   "execution_count": 185,
   "id": "eb16fa5d",
   "metadata": {
    "ExecuteTime": {
     "end_time": "2023-06-20T22:23:14.767433Z",
     "start_time": "2023-06-20T22:23:14.695679Z"
    }
   },
   "outputs": [
    {
     "name": "stdout",
     "output_type": "stream",
     "text": [
      "Warning: CI not valid for less than 8 data points!\n",
      "\t{m},{B},{rmse},{Rsq}\n",
      "0.2053,-1.7820,57.4729,0.9917\n",
      "Warning: CI not valid for less than 8 data points!\n",
      "\t{m},{B},{rmse},{Rsq}\n",
      "0.0711,-2.0566,8.2554,0.9899\n"
     ]
    }
   ],
   "source": [
    "# print_fit_exponential\n",
    "B,Delta_B,m,Delta_m,Rsq=fit_exponential(xfk,yfk_pred)\n",
    "rmse=compute_exponential_rmse(xfk,yfk,m,B)\n",
    "print(\"\\t{m},{B},{rmse},{Rsq}\")\n",
    "print(f\"{m:.4f},{B:.4f},{rmse:.4f},{Rsq:.4f}\")\n",
    "#generate OLS exp fit to fk navg(A)\n",
    "taubar0fk_pred = np.exp(B)\n",
    "A0fk_pred=1/m\n",
    "\n",
    "# print_fit_exponential\n",
    "B,Delta_B,m,Delta_m,Rsq=fit_exponential(xlr,ylr_pred)\n",
    "rmse=compute_exponential_rmse(xlr,ylr,m,B)\n",
    "print(\"\\t{m},{B},{rmse},{Rsq}\")\n",
    "print(f\"{m:.4f},{B:.4f},{rmse:.4f},{Rsq:.4f}\")\n",
    "#generate OLS exp fit to lr navg(A)\n",
    "taubar0lr_pred = np.exp(B)\n",
    "A0lr_pred=1/m"
   ]
  },
  {
   "cell_type": "code",
   "execution_count": 186,
   "id": "0483fda5",
   "metadata": {
    "ExecuteTime": {
     "end_time": "2023-06-20T22:23:15.857116Z",
     "start_time": "2023-06-20T22:23:15.791671Z"
    }
   },
   "outputs": [
    {
     "name": "stdout",
     "output_type": "stream",
     "text": [
      "taubar0fk=0.28906791044740987, A0fk=5.463811177812322\n",
      "taubar0lr=0.20327503523477822, A0lr=18.276212440563896\n",
      "taubar0fk_pred=0.1682944040405909, A0fk_pred=4.8703479814116415\n",
      "taubar0lr_pred=0.12788168437730674, A0lr_pred=14.069532048956733\n"
     ]
    }
   ],
   "source": [
    "print(f\"{taubar0fk=}, {A0fk=}\")\n",
    "print(f\"{taubar0lr=}, {A0lr=}\")\n",
    "print(f\"{taubar0fk_pred=}, {A0fk_pred=}\")\n",
    "print(f\"{taubar0lr_pred=}, {A0lr_pred=}\")"
   ]
  },
  {
   "cell_type": "code",
   "execution_count": 187,
   "id": "1c9e5329",
   "metadata": {
    "ExecuteTime": {
     "end_time": "2023-06-20T22:23:17.731537Z",
     "start_time": "2023-06-20T22:23:17.428265Z"
    }
   },
   "outputs": [
    {
     "data": {
      "image/png": "[encoded data removed]",
      "text/plain": [
       "<Figure size 300x400 with 1 Axes>"
      ]
     },
     "metadata": {},
     "output_type": "display_data"
    }
   ],
   "source": [
    "figsize=(3,4)\n",
    "fontsize=15\n",
    "alpha=0.7\n",
    "fig,ax=plt.subplots(figsize=figsize)\n",
    "ax.scatter(xfk,yfk,c='C0',alpha=alpha)#,label='Fenton-Karma')\n",
    "ax.scatter(xlr,ylr,c='C1',alpha=alpha)#,label='Luo-Rudy')\n",
    "ax.scatter(xfk,yfk_pred,c='k',alpha=alpha,marker='+')#,label='Fenton-Karma')\n",
    "ax.scatter(xlr,ylr_pred,c='k',alpha=alpha,marker='+')#,label='Luo-Rudy')\n",
    "# ax.scatter([A_fk],[tau_fk],marker='o',edgecolor='k',c='C0',#'k',\n",
    "#            alpha=1,label='Fenton-Karma')\n",
    "# ax.scatter([A_lr],[tau_lr],marker='o',edgecolor='k',c='C1',#c='k',\n",
    "#            alpha=1,label='Luo-Rudy')\n",
    "\n",
    "# xv=np.linspace(0,40,10)\n",
    "xv=np.linspace(0,100,10)\n",
    "ax.plot(xv,taubar0fk*np.exp(xv/A0fk),':',color='gray')#,'k--',lw=2)\n",
    "xv=np.linspace(0,80,10)\n",
    "ax.plot(xv,taubar0lr*np.exp(xv/A0lr),':',color='gray')#,'k--',lw=2)\n",
    "\n",
    "\n",
    "# format_plot(ax=ax,xlabel=r'$a$ (cm$^2/$s)',ylabel=r'$\\tau$  (s)',fontsize=16)\n",
    "format_plot(ax=ax,xlabel=r'$A$ (cm$^2$)',ylabel=r'$\\tau$  (s)',fontsize=16)\n",
    "# ax.set_xscale('log')\n",
    "ax.set_yscale('log')\n",
    "ax.tick_params(top=True, right=True,direction='in',which='both')\n",
    "ax.tick_params(top=True, right=True,direction='in',which='minor',length=3)\n",
    "# ax.set_ylim([1e-2,100])\n",
    "# # AddLegend(ax=ax,xy=(-0.12,0.240),fontsize=fontsize-3)\n",
    "# leg = ax.legend(loc='upper left',fontsize=fontsize-2)#,frameon=False,ncol=1)\n",
    "# # leg = ax.legend(loc='lower right',fontsize=fontsize-3.,frameon=False,ncol=1)\n",
    "# for lh in leg.legendHandles: \n",
    "#     lh.set_alpha(1)\n",
    "# ax.set_ylim([0.13850549065122997,12000])\n",
    "# AddLegend(ax=ax,xy=(0.05,0.990),fontsize=fontsize-3)\n",
    "# AddLegend(ax=ax,xy=(0.7,0.990),fontsize=fontsize-3)\n",
    "# AddLegend(ax=ax,xy=(0.4,0.990),fontsize=fontsize-3)\n",
    "# AddLegend(ax=ax,xy=(0.1,0.25),fontsize=fontsize-3)\n",
    "plt.show()"
   ]
  },
  {
   "cell_type": "code",
   "execution_count": 188,
   "id": "16a963a8",
   "metadata": {
    "ExecuteTime": {
     "end_time": "2023-06-20T22:23:31.379185Z",
     "start_time": "2023-06-20T22:23:30.868930Z"
    }
   },
   "outputs": [
    {
     "data": {
      "image/png": "[encoded data removed]",
      "text/plain": [
       "<Figure size 300x400 with 1 Axes>"
      ]
     },
     "metadata": {},
     "output_type": "display_data"
    }
   ],
   "source": [
    "figsize=(3,4)\n",
    "fontsize=15\n",
    "alpha=0.7\n",
    "\n",
    "fig,ax=plt.subplots(figsize=figsize)\n",
    "ax.scatter(xfk,yfk,c='C0',alpha=alpha,label='Fenton-Karma')\n",
    "ax.scatter(xlr,ylr,c='C1',alpha=alpha,label='Luo-Rudy')\n",
    "# ax.scatter([A_fk],[tau_fk],marker='o',edgecolor='k',c='C0',#'k',\n",
    "#            alpha=1,label='Fenton-Karma')\n",
    "# ax.scatter([A_lr],[tau_lr],marker='o',edgecolor='k',c='C1',#c='k',\n",
    "#            alpha=1,label='Luo-Rudy')\n",
    "\n",
    "xv=np.linspace(0,40,10)\n",
    "ax.plot(xv,taubar0fk*np.exp(xv/A0fk),':',color='gray')#,'k--',lw=2)\n",
    "xv=np.linspace(0,80,10)\n",
    "ax.plot(xv,taubar0lr*np.exp(xv/A0lr),':',color='gray')#,'k--',lw=2)\n",
    "\n",
    "\n",
    "# format_plot(ax=ax,xlabel=r'$a$ (cm$^2/$s)',ylabel=r'$\\tau$  (s)',fontsize=16)\n",
    "format_plot(ax=ax,xlabel=r'$A$ (cm$^2$)',ylabel=r'$\\tau$  (s)',fontsize=16)\n",
    "# ax.set_xscale('log')\n",
    "ax.set_yscale('log')\n",
    "ax.tick_params(top=True, right=True,direction='in',which='both')\n",
    "ax.tick_params(top=True, right=True,direction='in',which='minor',length=3)\n",
    "# ax.set_ylim([1e-2,100])\n",
    "# AddLegend(ax=ax,xy=(-0.12,0.240),fontsize=fontsize-3)\n",
    "leg = ax.legend(loc='upper left',fontsize=fontsize-2)#,frameon=False,ncol=1)\n",
    "# leg = ax.legend(loc='lower right',fontsize=fontsize-3.,frameon=False,ncol=1)\n",
    "for lh in leg.legendHandles: \n",
    "    lh.set_alpha(1)\n",
    "ax.set_ylim([0.13850549065122997,12000])\n",
    "# AddLegend(ax=ax,xy=(0.05,0.990),fontsize=fontsize-3)\n",
    "# AddLegend(ax=ax,xy=(0.7,0.990),fontsize=fontsize-3)\n",
    "# AddLegend(ax=ax,xy=(0.4,0.990),fontsize=fontsize-3)\n",
    "# AddLegend(ax=ax,xy=(0.1,0.25),fontsize=fontsize-3)\n",
    "plt.show()"
   ]
  },
  {
   "cell_type": "code",
   "execution_count": 189,
   "id": "5f3c7cf5",
   "metadata": {
    "ExecuteTime": {
     "end_time": "2023-06-20T22:23:32.612628Z",
     "start_time": "2023-06-20T22:23:32.564115Z"
    }
   },
   "outputs": [],
   "source": [
    "\n",
    "# DONE: plot WJ's predictions (the <10 data points)\n",
    "# DONE: plot my predictions (the trace)\n",
    "# TODO: least squares estimate the magnitudes at large areas using WJ's scaling relation\n",
    "# TODO: plot magnitudes of least squares fit overlaid over my exact solution/predictions\n",
    "# TODO: decide which (both?) dotted lines to include in figure 4\n",
    "# TODO: do those other things WJ wanted me to do for figure 4\n",
    "# TODO: update figure 4 on the overleaf. add minimalist caption\n",
    "# TODO: email WJ with my pen-and-paper work with link to updated figures"
   ]
  },
  {
   "cell_type": "code",
   "execution_count": 191,
   "id": "0355495e",
   "metadata": {
    "ExecuteTime": {
     "end_time": "2023-06-20T22:23:46.546439Z",
     "start_time": "2023-06-20T22:23:46.482411Z"
    }
   },
   "outputs": [],
   "source": [
    "#load my predictions\n",
    "save_tau_vs_A_dir='/Users/timothytyree/Documents/GitHub/bgmc/python/data/figure_data_tau_vs_A_c.csv'\n",
    "df_tau_vs_A = pd.read_csv(save_tau_vs_A_dir)"
   ]
  },
  {
   "cell_type": "code",
   "execution_count": 192,
   "id": "1c97e36f",
   "metadata": {
    "ExecuteTime": {
     "end_time": "2023-06-20T22:23:47.845301Z",
     "start_time": "2023-06-20T22:23:47.264235Z"
    }
   },
   "outputs": [
    {
     "data": {
      "image/png": "[encoded data removed]",
      "text/plain": [
       "<Figure size 300x400 with 1 Axes>"
      ]
     },
     "metadata": {},
     "output_type": "display_data"
    }
   ],
   "source": [
    "# N0=2\n",
    "# N0=20\n",
    "Amin=200\n",
    "#plot traces with exponential fits overlaid, like before\n",
    "#basic scatter plot of the data at N_0 given\n",
    "figsize=(3,4)\n",
    "fontsize=15\n",
    "alpha=0.7\n",
    "\n",
    "ycol='tau'\n",
    "ycol='full MTT'\n",
    "# ylim = (0.0005007487135910895, 5.156057164412211e+44)\n",
    "# alpha=0.7\n",
    "# fig,ax=plt.subplots(figsize=figsize)\n",
    "fig,ax=plt.subplots(figsize=figsize)\n",
    "ax.scatter(xfk,yfk,c='C0',alpha=alpha)#,label='Fenton-Karma')\n",
    "ax.scatter(xlr,ylr,c='C1',alpha=alpha)#,label='Luo-Rudy')\n",
    "# ax.scatter([A_fk],[tau_fk],marker='o',edgecolor='k',c='C0',#'k',\n",
    "#            alpha=1,label='Fenton-Karma')\n",
    "# ax.scatter([A_lr],[tau_lr],marker='o',edgecolor='k',c='C1',#c='k',\n",
    "#            alpha=1,label='Luo-Rudy')\n",
    "\n",
    "xv=np.linspace(0,40,10)\n",
    "ax.plot(xv,taubar0fk*np.exp(xv/A0fk),':',color='k')#,'k--',lw=2)\n",
    "xv=np.linspace(0,80,10)\n",
    "ax.plot(xv,taubar0lr*np.exp(xv/A0lr),':',color='k')#,'k--',lw=2)\n",
    "\n",
    "\n",
    "\n",
    "#plot data\n",
    "# df_tau_fk[df_tau_fk['N0']==N0].plot.scatter(x='A',y='tau',s=markersize,alpha=alpha,ax=ax,label='Fenton-Karma',color='C0')\n",
    "# df_tau_lr[df_tau_lr['N0']==N0].plot.scatter(x='A',y='tau',s=markersize,alpha=alpha,ax=ax,label='Luo-Rudy',color='C1')\n",
    "df_tau_vs_A[df_tau_vs_A['model']=='FK'].plot(x='area',y=ycol,alpha=alpha,ax=ax,label='Fenton-Karma',color='C0',lw=2,legend=False)\n",
    "df_tau_vs_A[df_tau_vs_A['model']=='LR'].plot(x='area',y=ycol,alpha=alpha,ax=ax,label='Luo-Rudy',color='C1',lw=2,legend=False)\n",
    "\n",
    "#plot the fits as dotted lines\n",
    "# xv,yv=df_tau_fk[df_tau_fk['N0']==N0][['A','tau']].values.T\n",
    "# xv,yv=df_tau_fk[(df_tau_fk['N0']==N0)&(df_tau_fk['A']>=25)][['A','tau']].values.T\n",
    "xv,yv=df_tau_vs_A[df_tau_vs_A['model']=='FK'][['area',ycol]].values.T\n",
    "B,Delta_B,m,Delta_m,Rsq=fit_exponential(xv[xv>Amin],yv[xv>Amin])\n",
    "# B,Delta_B,m,Delta_m,Rsq=fit_exponential(xv,yv)\n",
    "xvfk=xv.copy()\n",
    "yvhatfk=np.exp(xv*m+B)\n",
    "# yvhatfk=-B*np.exp(xv*m)\n",
    "# yvhatfk=1e-3*np.exp(xv*m)\n",
    "# yvhatfk=np.exp(xvfk/A0fk-B)\n",
    "ax.plot(xvfk,yvhatfk,'k--',alpha=0.7,lw=2)\n",
    "\n",
    "# xv,yv=df_tau_lr[(df_tau_lr['N0']==N0)&(df_tau_lr['A']>=25)][['A','tau']].values.T\n",
    "xv,yv=df_tau_vs_A[df_tau_vs_A['model']=='LR'][['area',ycol]].values.T\n",
    "B,Delta_B,m,Delta_m,Rsq=fit_exponential(xv[xv>Amin],yv[xv>Amin])\n",
    "# B,Delta_B,m,Delta_m,Rsq=fit_exponential(xv,yv)\n",
    "xvlr=xv.copy()\n",
    "# yvhatlr=np.exp(xv*m-B)\n",
    "yvhatlr=np.exp(B)*np.exp(xv*m)\n",
    "ax.plot(xvlr,yvhatlr,'k--',alpha=0.7,lw=2)\n",
    "\n",
    "# format_plot\n",
    "# format_plot(ax=ax,xlabel=r'$A$   (cm$^2$)',ylabel=r'$\\tau(N_0)$   (s)',fontsize=fontsize)\n",
    "format_plot(ax=ax,xlabel=r'$A$   (cm$^2$)',ylabel=r'$\\tau\\;$  (seconds)',fontsize=fontsize)\n",
    "# ax.set_title(model_name,fontsize=fontsize)\n",
    "ax.set_yscale('log')\n",
    "# plt.tight_layout()\n",
    "ax.axis()\n",
    "ax.tick_params(top=True, right=True,direction='in',which='both')\n",
    "# ax.legend(fontsize=fontsize-2,frameon=False)#,loc='upper left')\n",
    "# ax.set_ylim(ylim)\n",
    "ax.set_xticks([0,50,100,150])\n",
    "# ax.set_ylim(xlim)\n",
    "# ax.axis((-4.0, 84.0, 0.13850549065122997, 12000.0))\n",
    "ax.axis((-4.0, 184.0, 0.13850549065122997, 120000.0))\n",
    "plt.show()"
   ]
  },
  {
   "cell_type": "code",
   "execution_count": null,
   "id": "fa124408",
   "metadata": {},
   "outputs": [],
   "source": []
  },
  {
   "cell_type": "code",
   "execution_count": 193,
   "id": "8e4ae6e6",
   "metadata": {
    "ExecuteTime": {
     "end_time": "2023-06-20T22:23:57.371019Z",
     "start_time": "2023-06-20T22:23:56.718105Z"
    }
   },
   "outputs": [
    {
     "data": {
      "image/png": "[encoded data removed]",
      "text/plain": [
       "<Figure size 300x400 with 1 Axes>"
      ]
     },
     "metadata": {},
     "output_type": "display_data"
    }
   ],
   "source": [
    "#plot traces with exponential fits overlaid, like before\n",
    "#basic scatter plot of the data at N_0 given\n",
    "figsize=(3,4)\n",
    "fontsize=15\n",
    "alpha=0.7\n",
    "\n",
    "ycol='tau'\n",
    "ycol='full MTT'\n",
    "# ylim = (0.0005007487135910895, 5.156057164412211e+44)\n",
    "# alpha=0.7\n",
    "# fig,ax=plt.subplots(figsize=figsize)\n",
    "fig,ax=plt.subplots(figsize=figsize)\n",
    "ax.scatter(xfk,yfk,c='C0',alpha=alpha)#,label='Fenton-Karma')\n",
    "ax.scatter(xlr,ylr,c='C1',alpha=alpha)#,label='Luo-Rudy')\n",
    "# ax.scatter([A_fk],[tau_fk],marker='o',edgecolor='k',c='C0',#'k',\n",
    "#            alpha=1,label='Fenton-Karma')\n",
    "# ax.scatter([A_lr],[tau_lr],marker='o',edgecolor='k',c='C1',#c='k',\n",
    "#            alpha=1,label='Luo-Rudy')\n",
    "\n",
    "xv=np.linspace(0,40,10)\n",
    "ax.plot(xv,taubar0fk*np.exp(xv/A0fk),':',color='k')#,'k--',lw=2)\n",
    "xv=np.linspace(0,80,10)\n",
    "ax.plot(xv,taubar0lr*np.exp(xv/A0lr),':',color='k')#,'k--',lw=2)\n",
    "\n",
    "\n",
    "\n",
    "#plot data\n",
    "# df_tau_fk[df_tau_fk['N0']==N0].plot.scatter(x='A',y='tau',s=markersize,alpha=alpha,ax=ax,label='Fenton-Karma',color='C0')\n",
    "# df_tau_lr[df_tau_lr['N0']==N0].plot.scatter(x='A',y='tau',s=markersize,alpha=alpha,ax=ax,label='Luo-Rudy',color='C1')\n",
    "df_tau_vs_A[df_tau_vs_A['model']=='FK'].plot(x='area',y=ycol,alpha=alpha,ax=ax,label='Fenton-Karma',color='C0',lw=2,legend=False)\n",
    "df_tau_vs_A[df_tau_vs_A['model']=='LR'].plot(x='area',y=ycol,alpha=alpha,ax=ax,label='Luo-Rudy',color='C1',lw=2,legend=False)\n",
    "\n",
    "#plot the fits as dotted lines\n",
    "# xv,yv=df_tau_fk[df_tau_fk['N0']==N0][['A','tau']].values.T\n",
    "# xv,yv=df_tau_fk[(df_tau_fk['N0']==N0)&(df_tau_fk['A']>=25)][['A','tau']].values.T\n",
    "xv,yv=df_tau_vs_A[df_tau_vs_A['model']=='FK'][['area',ycol]].values.T\n",
    "B,Delta_B,m,Delta_m,Rsq=fit_exponential(xv[xv>Amin],yv[xv>Amin])\n",
    "# B,Delta_B,m,Delta_m,Rsq=fit_exponential(xv,yv)\n",
    "xvfk=xv.copy()\n",
    "yvhatfk=np.exp(xv*m+B)\n",
    "# yvhatfk=-B*np.exp(xv*m)\n",
    "# yvhatfk=1e-3*np.exp(xv*m)\n",
    "# yvhatfk=np.exp(xvfk/A0fk-B)\n",
    "# ax.plot(xvfk,yvhatfk,'k--',alpha=0.7,lw=2)\n",
    "\n",
    "# xv,yv=df_tau_lr[(df_tau_lr['N0']==N0)&(df_tau_lr['A']>=25)][['A','tau']].values.T\n",
    "xv,yv=df_tau_vs_A[df_tau_vs_A['model']=='LR'][['area',ycol]].values.T\n",
    "B,Delta_B,m,Delta_m,Rsq=fit_exponential(xv[xv>Amin],yv[xv>Amin])\n",
    "# B,Delta_B,m,Delta_m,Rsq=fit_exponential(xv,yv)\n",
    "xvlr=xv.copy()\n",
    "# yvhatlr=np.exp(xv*m-B)\n",
    "yvhatlr=np.exp(B)*np.exp(xv*m)\n",
    "# ax.plot(xvlr,yvhatlr,'k--',alpha=0.7,lw=2)\n",
    "\n",
    "# format_plot\n",
    "# format_plot(ax=ax,xlabel=r'$A$   (cm$^2$)',ylabel=r'$\\tau(N_0)$   (s)',fontsize=fontsize)\n",
    "format_plot(ax=ax,xlabel=r'$A$   (cm$^2$)',ylabel=r'$\\tau\\;$  (seconds)',fontsize=fontsize)\n",
    "# ax.set_title(model_name,fontsize=fontsize)\n",
    "ax.set_yscale('log')\n",
    "# plt.tight_layout()\n",
    "ax.axis()\n",
    "ax.tick_params(top=True, right=True,direction='in',which='both')\n",
    "# ax.legend(fontsize=fontsize-2,frameon=False)#,loc='upper left')\n",
    "# ax.set_ylim(ylim)\n",
    "ax.set_xticks([0,50,100,150])\n",
    "# ax.set_ylim(xlim)\n",
    "# ax.axis((-4.0, 84.0, 0.13850549065122997, 12000.0))\n",
    "ax.axis((-4.0, 184.0, 0.13850549065122997, 120000.0))\n",
    "plt.show()"
   ]
  },
  {
   "cell_type": "markdown",
   "id": "c35da099",
   "metadata": {},
   "source": [
    "## replace the solid lines with universal scaling relation"
   ]
  },
  {
   "cell_type": "code",
   "execution_count": 194,
   "id": "c32290b0",
   "metadata": {
    "ExecuteTime": {
     "end_time": "2023-06-20T22:24:00.635083Z",
     "start_time": "2023-06-20T22:24:00.568572Z"
    }
   },
   "outputs": [],
   "source": [
    "from scipy.optimize import dual_annealing"
   ]
  },
  {
   "cell_type": "code",
   "execution_count": 195,
   "id": "519cb70c",
   "metadata": {
    "ExecuteTime": {
     "end_time": "2023-06-20T22:24:01.573634Z",
     "start_time": "2023-06-20T22:24:01.507630Z"
    }
   },
   "outputs": [],
   "source": [
    "#only magnitude is to be varied\n",
    "def comp_ss_err(x,*args):\n",
    "    A_values,tau_values,powr,navg = args\n",
    "    tau_pred_values = x * (2/A_values)**(powr) * np.exp(A_values*navg*powr/2)\n",
    "    se = (tau_values-tau_pred_values) ** 2\n",
    "    sse = np.sum(se)\n",
    "    #return sse\n",
    "    #smpe = np.sum(np.log(tau_pred_values/tau_values))\n",
    "    smpe = np.mean( se / tau_values**2 )\n",
    "    return smpe\n",
    "    \n",
    "\n",
    "# #try likelihood instead\n",
    "# def comp_ss_err(x,*args):\n",
    "#     A_values,tau_values,powr,navg = args\n",
    "#     tau_pred_values = x * (2/A_values)**(powr) * np.exp(A_values*navg*powr/2)\n",
    "#     #sse = np.sum((tau_values-tau_pred_values) ** 2)\n",
    "#     #return sse\n",
    "#     #log_likelihood = np.sum(tau_values*np.log(tau_values/tau_pred_values))\n",
    "#     #return log_likelihood\n",
    "#     mpe = np.mean(100*(tau_values - tau_pred_values)/tau_values)\n",
    "#     return mpe"
   ]
  },
  {
   "cell_type": "code",
   "execution_count": 196,
   "id": "28bf4a56",
   "metadata": {
    "ExecuteTime": {
     "end_time": "2023-06-20T22:24:04.011626Z",
     "start_time": "2023-06-20T22:24:03.935665Z"
    }
   },
   "outputs": [],
   "source": [
    "xfk = df_taubar[df_taubar['model_name']=='FK']['A'].values\n",
    "yfk = df_taubar[df_taubar['model_name']=='FK']['taubar'].values\n",
    "xlr = df_taubar[df_taubar['model_name']=='LR']['A'].values\n",
    "ylr = df_taubar[df_taubar['model_name']=='LR']['taubar'].values"
   ]
  },
  {
   "cell_type": "code",
   "execution_count": 197,
   "id": "24d55738",
   "metadata": {
    "ExecuteTime": {
     "end_time": "2023-06-20T22:24:05.538533Z",
     "start_time": "2023-06-20T22:24:05.471385Z"
    }
   },
   "outputs": [],
   "source": [
    "Mp = dict_fit_birth_fk['M']\n",
    "nup = dict_fit_birth_fk['m']\n",
    "Mm = dict_fit_death_fk['M']\n",
    "num = dict_fit_death_fk['m']\n",
    "model_name='Fenton-Karma'\n",
    "A_values = xfk\n",
    "tau_values = yfk\n",
    "\n",
    "\n",
    "# Mp = dict_fit_birth_lr['M']\n",
    "# nup = dict_fit_birth_lr['m']\n",
    "# Mm = dict_fit_death_lr['M']\n",
    "# num = dict_fit_death_lr['m']\n",
    "# model_name='Luo-Rudy'\n",
    "# A_values = xlr\n",
    "# tau_values = ylr\n",
    "\n",
    "#simulated annealing fit \n",
    "powr = num - nup\n",
    "navg = (Mp/Mm) ** (1/powr)\n",
    "tau_pred_foo = lambda x: x * (2/A_values)**(powr) * np.exp(A_values*navg*powr/2)"
   ]
  },
  {
   "cell_type": "code",
   "execution_count": 199,
   "id": "cdcf2a8c",
   "metadata": {
    "ExecuteTime": {
     "end_time": "2023-06-20T22:24:11.586298Z",
     "start_time": "2023-06-20T22:24:11.260321Z"
    }
   },
   "outputs": [
    {
     "name": "stdout",
     "output_type": "stream",
     "text": [
      "\n",
      "performing dual simulated annealing for 100 epochs...\n",
      "fitting complete!\n",
      "res_again['message']=['Maximum number of iteration reached']\n",
      "\n",
      "performing dual simulated annealing for 1000 epochs...\n",
      "fitting complete!\n",
      "res['message']=['Maximum number of iteration reached']\n"
     ]
    }
   ],
   "source": [
    "printing=True\n",
    "seed = 42\n",
    "# maxiter = int(1e5) #2 min and 9 sig figs\n",
    "# maxiter = int(1e4)\n",
    "maxiter = int(1e3)\n",
    "no_local_search = False\n",
    "#,**kwargs):\n",
    "maxiter_again = np.max((int(maxiter/10),10))\n",
    "seed_again = seed+1\n",
    "#define observed data as static parameters\n",
    "args = [A_values,tau_values,powr,navg]\n",
    "# args = [A_values[:-1],tau_values[:-1],powr,navg]\n",
    "# args = [A_values[:-2],tau_values[:-2],powr,navg]\n",
    "#set args to be immutable\n",
    "args = tuple(args)\n",
    "# define reasonable bounds on parameter space to search\n",
    "xmin = 1e-5;   xmax = 1e+20\n",
    "bounds = [ (xmin, xmax), ]\n",
    "#set bounds to be immutable\n",
    "bounds = tuple(bounds)\n",
    "if printing:\n",
    "    print(f\"\\nperforming dual simulated annealing for {int(maxiter/10):d} epochs...\")\n",
    "#perform simulated annealing\n",
    "res_again = dual_annealing(\n",
    "    comp_ss_err,\n",
    "    bounds=bounds,\n",
    "    args=args,\n",
    "    maxiter=maxiter_again,\n",
    "    seed=seed_again,\n",
    "    no_local_search=no_local_search)\n",
    "if printing:\n",
    "    print(f\"fitting complete!\")\n",
    "    #print final errors /any warning messages\n",
    "    print(f\"{res_again['message']=}\")\n",
    "    print(f\"\\nperforming dual simulated annealing for {int(maxiter):d} epochs...\")\n",
    "#perform simulated annealing again with a different randomization seed\n",
    "res = dual_annealing(\n",
    "    comp_ss_err,\n",
    "    bounds=bounds,\n",
    "    args=args,\n",
    "    maxiter=maxiter,\n",
    "    seed=seed,\n",
    "    no_local_search=no_local_search)\n",
    "if printing:\n",
    "    print(f\"fitting complete!\")\n",
    "    #print final errors /any warning messages\n",
    "    print(f\"{res['message']=}\")"
   ]
  },
  {
   "cell_type": "code",
   "execution_count": 200,
   "id": "cf38f403",
   "metadata": {
    "ExecuteTime": {
     "end_time": "2023-06-20T22:24:11.947398Z",
     "start_time": "2023-06-20T22:24:11.879847Z"
    }
   },
   "outputs": [
    {
     "name": "stdout",
     "output_type": "stream",
     "text": [
      "mag=2.033588801144e+00 ± 0.000000000000e+00\n",
      "mag=2.0335888011441683\n",
      "res_again.x=array([2.0335888])\n"
     ]
    }
   ],
   "source": [
    "mag = res.x[0]\n",
    "Delta_mag = np.abs(mag - res_again.x[0])\n",
    "print(f\"{mag=:.12e} ± {Delta_mag:.12e}\")\n",
    "print(f\"{mag=}\")\n",
    "print(f\"{res_again.x=}\")\n",
    "\n",
    "#beep(4)"
   ]
  },
  {
   "cell_type": "code",
   "execution_count": 201,
   "id": "37da93e5",
   "metadata": {
    "ExecuteTime": {
     "end_time": "2023-06-20T22:24:17.294817Z",
     "start_time": "2023-06-20T22:24:17.228905Z"
    }
   },
   "outputs": [],
   "source": [
    "#fk\n",
    "# magfk=1.566390007127e+00 #± 3.762187006373e-09 #1e3 epochs\n",
    "# magfk=1.566390008379e+00 #± 5.014229476075e-09 #1e4 epochs\n",
    "magfk = mag"
   ]
  },
  {
   "cell_type": "code",
   "execution_count": 202,
   "id": "44218fac",
   "metadata": {
    "ExecuteTime": {
     "end_time": "2023-06-20T22:24:25.353601Z",
     "start_time": "2023-06-20T22:24:17.588384Z"
    }
   },
   "outputs": [
    {
     "name": "stdout",
     "output_type": "stream",
     "text": [
      "\n",
      "performing dual simulated annealing for 1000 epochs...\n",
      "fitting complete!\n",
      "res_again['message']=['Maximum number of iteration reached']\n",
      "\n",
      "performing dual simulated annealing for 10000 epochs...\n",
      "fitting complete!\n",
      "res['message']=['Maximum number of iteration reached']\n",
      "mag=1.077870959581e+00 ± 1.025218443473e-08\n",
      "mag=1.0778709595809355\n",
      "res_again.x=array([1.07787095])\n"
     ]
    }
   ],
   "source": [
    "# Mp = dict_fit_birth_fk['M']\n",
    "# nup = dict_fit_birth_fk['m']\n",
    "# Mm = dict_fit_death_fk['M']\n",
    "# num = dict_fit_death_fk['m']\n",
    "# model_name='Fenton-Karma'\n",
    "# A_values = xfk\n",
    "# tau_values = yfk\n",
    "\n",
    "Mp = dict_fit_birth_lr['M']\n",
    "nup = dict_fit_birth_lr['m']\n",
    "Mm = dict_fit_death_lr['M']\n",
    "num = dict_fit_death_lr['m']\n",
    "model_name='Luo-Rudy'\n",
    "A_values = xlr\n",
    "tau_values = ylr\n",
    "\n",
    "#simulated annealing fit \n",
    "powr = num - nup\n",
    "navg = (Mp/Mm) ** (1/powr)\n",
    "tau_pred_foo = lambda x: x * (2/A_values)**(powr) * np.exp(A_values*navg*powr/2)\n",
    "\n",
    "printing=True\n",
    "seed = 42\n",
    "# maxiter = int(1e5) #2 min and 9 sig figs\n",
    "maxiter = int(1e4)\n",
    "# maxiter = int(1e3)\n",
    "no_local_search = False\n",
    "#,**kwargs):\n",
    "maxiter_again = np.max((int(maxiter/10),10))\n",
    "seed_again = seed+1\n",
    "#define observed data as static parameters\n",
    "args = [A_values,tau_values,powr,navg]\n",
    "#set args to be immutable\n",
    "args = tuple(args)\n",
    "# define reasonable bounds on parameter space to search\n",
    "xmin = 1e-5;   xmax = 1e+20\n",
    "bounds = [ (xmin, xmax), ]\n",
    "#set bounds to be immutable\n",
    "bounds = tuple(bounds)\n",
    "if printing:\n",
    "    print(f\"\\nperforming dual simulated annealing for {int(maxiter/10):d} epochs...\")\n",
    "#perform simulated annealing\n",
    "res_again = dual_annealing(\n",
    "    comp_ss_err,\n",
    "    bounds=bounds,\n",
    "    args=args,\n",
    "    maxiter=maxiter_again,\n",
    "    seed=seed_again,\n",
    "    no_local_search=no_local_search)\n",
    "if printing:\n",
    "    print(f\"fitting complete!\")\n",
    "    #print final errors /any warning messages\n",
    "    print(f\"{res_again['message']=}\")\n",
    "    print(f\"\\nperforming dual simulated annealing for {int(maxiter):d} epochs...\")\n",
    "#perform simulated annealing again with a different randomization seed\n",
    "res = dual_annealing(\n",
    "    comp_ss_err,\n",
    "    bounds=bounds,\n",
    "    args=args,\n",
    "    maxiter=maxiter,\n",
    "    seed=seed,\n",
    "    no_local_search=no_local_search)\n",
    "if printing:\n",
    "    print(f\"fitting complete!\")\n",
    "    #print final errors /any warning messages\n",
    "    print(f\"{res['message']=}\")\n",
    "\n",
    "mag = res.x[0]\n",
    "Delta_mag = np.abs(mag - res_again.x[0])\n",
    "print(f\"{mag=:.12e} ± {Delta_mag:.12e}\")\n",
    "print(f\"{mag=}\")\n",
    "print(f\"{res_again.x=}\")\n",
    "\n",
    "#beep(4)"
   ]
  },
  {
   "cell_type": "code",
   "execution_count": 203,
   "id": "88bb2a4e",
   "metadata": {
    "ExecuteTime": {
     "end_time": "2023-06-20T22:24:25.419434Z",
     "start_time": "2023-06-20T22:24:25.356566Z"
    }
   },
   "outputs": [],
   "source": [
    "maglr=9.319636219057e-01 #± 3.981174279133e-10 #1e3 epochs\n",
    "maglr=9.319636257483e-01 #± 3.444428298138e-09 #1e4 epochs\n",
    "maglr = mag"
   ]
  },
  {
   "cell_type": "code",
   "execution_count": 204,
   "id": "47fd3ca8",
   "metadata": {
    "ExecuteTime": {
     "end_time": "2023-06-20T22:24:25.497098Z",
     "start_time": "2023-06-20T22:24:25.421187Z"
    }
   },
   "outputs": [],
   "source": [
    "Mp = dict_fit_birth_fk['M']\n",
    "nup = dict_fit_birth_fk['m']\n",
    "Mm = dict_fit_death_fk['M']\n",
    "num = dict_fit_death_fk['m']\n",
    "model_name='Fenton-Karma'\n",
    "powr = num - nup\n",
    "navg = (Mp/Mm) ** (1/powr)\n",
    "yfk_pred = magfk * (2/xfk)**(powr) * np.exp(xfk*navg*powr/2)\n",
    "powrfk = float(powr)\n",
    "navgfk = float(navg)\n",
    "tau_pred_foofk = lambda x: float(magfk) * (2/x)**float(powrfk) * np.exp(x*float(navgfk*powrfk/2))"
   ]
  },
  {
   "cell_type": "code",
   "execution_count": 205,
   "id": "874a510b",
   "metadata": {
    "ExecuteTime": {
     "end_time": "2023-06-20T22:24:26.826837Z",
     "start_time": "2023-06-20T22:24:26.745637Z"
    }
   },
   "outputs": [],
   "source": [
    "Mp = dict_fit_birth_lr['M']\n",
    "nup = dict_fit_birth_lr['m']\n",
    "Mm = dict_fit_death_lr['M']\n",
    "num = dict_fit_death_lr['m']\n",
    "model_name='Luo-Rudy'\n",
    "powr = num - nup\n",
    "navg = (Mp/Mm) ** (1/powr)\n",
    "ylr_pred = maglr * (2/xlr)**(powr) * np.exp(xlr*navg*powr/2)\n",
    "tau_pred_foolr = lambda x: float(maglr) * (2/x)**float(powr) * np.exp(x*float(navg*powr/2))\n"
   ]
  },
  {
   "cell_type": "code",
   "execution_count": null,
   "id": "a6cd7b80",
   "metadata": {},
   "outputs": [],
   "source": []
  },
  {
   "cell_type": "code",
   "execution_count": null,
   "id": "1c9915b1",
   "metadata": {},
   "outputs": [],
   "source": []
  },
  {
   "cell_type": "code",
   "execution_count": 211,
   "id": "7d4338b1",
   "metadata": {
    "ExecuteTime": {
     "end_time": "2023-06-20T22:25:51.733536Z",
     "start_time": "2023-06-20T22:25:51.390217Z"
    }
   },
   "outputs": [
    {
     "data": {
      "image/png": "[encoded data removed]",
      "text/plain": [
       "<Figure size 300x400 with 1 Axes>"
      ]
     },
     "metadata": {},
     "output_type": "display_data"
    },
    {
     "data": {
      "text/plain": [
       "(0.0, 188.5, 0.31392551380514033, 4000000000.0)"
      ]
     },
     "execution_count": 211,
     "metadata": {},
     "output_type": "execute_result"
    }
   ],
   "source": [
    "#plot the simulated annealing fits\n",
    "figsize=(3,4)\n",
    "fontsize=15\n",
    "alpha=0.7\n",
    "fig,ax=plt.subplots(figsize=figsize)\n",
    "ax.scatter(xfk,yfk,c='C0',alpha=alpha,label='Fenton-Karma')\n",
    "ax.scatter(xlr,ylr,c='C1',alpha=alpha,label='Luo-Rudy')\n",
    "# ax.scatter(xfk,yfk_pred,c='k',alpha=alpha,marker='+')#,label='Fenton-Karma')\n",
    "# ax.scatter(xlr,ylr_pred,c='k',alpha=alpha,marker='+')#,label='Luo-Rudy')\n",
    "# ax.scatter([A_fk],[tau_fk],marker='o',edgecolor='k',c='C0',#'k',\n",
    "#            alpha=1,label='Fenton-Karma')\n",
    "# ax.scatter([A_lr],[tau_lr],marker='o',edgecolor='k',c='C1',#c='k',\n",
    "#            alpha=1,label='Luo-Rudy')\n",
    "# xv=np.linspace(0,40,10)\n",
    "# ax.plot(xv,taubar0fk*np.exp(xv/A0fk),':',color='gray')#,'k--',lw=2)\n",
    "# xv=np.linspace(0,80,10)\n",
    "# ax.plot(xv,taubar0lr*np.exp(xv/A0lr),':',color='gray')#,'k--',lw=2)\n",
    "xv=np.linspace(10,40,10)\n",
    "xv=np.linspace(10,180,10)\n",
    "ax.plot(xv,tau_pred_foofk(xv),':',color='gray')#,'k--',lw=2)\n",
    "xv=np.linspace(10,180,10)\n",
    "ax.plot(xv,tau_pred_foolr(xv),':',color='gray')#,'k--',lw=2)\n",
    "\n",
    "ax.set_xticks([0,50,100,150])\n",
    "\n",
    "# format_plot(ax=ax,xlabel=r'$a$ (cm$^2/$s)',ylabel=r'$\\tau$  (s)',fontsize=16)\n",
    "format_plot(ax=ax,xlabel=r'$A$ (cm$^2$)',ylabel=r'$\\tau$  (s)',fontsize=16)\n",
    "# ax.set_xscale('log')\n",
    "ax.set_yscale('log')\n",
    "ax.tick_params(top=True, right=True,direction='in',which='both')\n",
    "ax.tick_params(top=True, right=True,direction='in',which='minor',length=3)\n",
    "# ax.set_ylim([1e-2,100])\n",
    "# # AddLegend(ax=ax,xy=(-0.12,0.240),fontsize=fontsize-3)\n",
    "leg = ax.legend(loc='upper right',fontsize=fontsize-2)#,alpha=1.)#,frameon=False,ncol=1)\n",
    "# leg.set_alpha(1.)\n",
    "# , edgecolor=\"black\")\n",
    "leg.get_frame().set_alpha(None)\n",
    "# leg.get_frame().set_facecolor((1, 1, 1, 1))\n",
    "# leg = ax.legend(loc='lower right',fontsize=fontsize-3.,frameon=False,ncol=1)\n",
    "for lh in leg.legendHandles: \n",
    "    lh.set_alpha(1)\n",
    "ax.set_ylim([0.31392551380514033, 4e9])\n",
    "# ax.set_ylim([0.13850549065122997,12000])\n",
    "# AddLege nd(ax=ax,xy=(0.05,0.990),fontsize=fontsize-3)\n",
    "# AddLegend(ax=ax,xy=(0.7,0.990),fontsize=fontsize-3)\n",
    "# AddLegend(ax=ax,xy=(0.4,0.990),fontsize=fontsize-3)\n",
    "# AddLegend(ax=ax,xy=(0.1,0.25),fontsize=fontsize-3)\n",
    "# ax.tick_params(axis='y', which='minor', left=True)\n",
    "# plt.minorticks_on()\n",
    "plt.show()\n",
    "ax.axis()"
   ]
  },
  {
   "cell_type": "code",
   "execution_count": 210,
   "id": "61594fef",
   "metadata": {
    "ExecuteTime": {
     "end_time": "2023-06-20T22:25:35.861787Z",
     "start_time": "2023-06-20T22:25:35.797157Z"
    }
   },
   "outputs": [],
   "source": [
    "# xfk = df_taubar[df_taubar['model_name']=='FK']['A'].values\n",
    "# yfk = df_taubar[df_taubar['model_name']=='FK']['taubar'].values\n",
    "# xlr = df_taubar[df_taubar['model_name']=='LR']['A'].values\n",
    "# ylr = df_taubar[df_taubar['model_name']=='LR']['taubar'].values"
   ]
  },
  {
   "cell_type": "code",
   "execution_count": 212,
   "id": "7e3a3f60",
   "metadata": {
    "ExecuteTime": {
     "end_time": "2023-06-20T22:26:00.686662Z",
     "start_time": "2023-06-20T22:26:00.621039Z"
    }
   },
   "outputs": [],
   "source": [
    "# df_taubar"
   ]
  },
  {
   "cell_type": "code",
   "execution_count": null,
   "id": "d4fd1df6",
   "metadata": {},
   "outputs": [],
   "source": []
  },
  {
   "cell_type": "code",
   "execution_count": null,
   "id": "35d4a43e",
   "metadata": {},
   "outputs": [],
   "source": []
  },
  {
   "cell_type": "markdown",
   "id": "9da5922f",
   "metadata": {},
   "source": [
    "# DONE: plot the density of particles"
   ]
  },
  {
   "cell_type": "code",
   "execution_count": 222,
   "id": "7addb363",
   "metadata": {
    "ExecuteTime": {
     "end_time": "2023-06-20T22:30:03.208905Z",
     "start_time": "2023-06-20T22:30:03.134883Z"
    }
   },
   "outputs": [
    {
     "data": {
      "text/plain": [
       "(8.17856704602387, 5.1500517)"
      ]
     },
     "execution_count": 222,
     "metadata": {},
     "output_type": "execute_result"
    }
   ],
   "source": [
    "xfk = df_Nbar[df_Nbar['model_name']=='FK']['A'].values\n",
    "yfk = df_Nbar[df_Nbar['model_name']=='FK']['Nbar'].values\n",
    "xlr = df_Nbar[df_Nbar['model_name']=='LR']['A'].values\n",
    "ylr = df_Nbar[df_Nbar['model_name']=='LR']['Nbar'].values\n",
    "\n",
    "boo=xfk<50\n",
    "boo2=xlr<100\n",
    "xfk=xfk[boo].copy()\n",
    "yfk=yfk[boo].copy()\n",
    "xlr=xlr[boo2].copy()\n",
    "ylr=ylr[boo2].copy()\n",
    "\n",
    "A_fk = 25\n",
    "boo  = np.isclose(xfk,25)\n",
    "assert boo.any()\n",
    "N_fk = yfk[boo][0]\n",
    "A_lr = 25\n",
    "boo  = np.isclose(xlr,25)\n",
    "assert boo.any()\n",
    "N_lr = ylr[boo][0]\n",
    "N_fk,N_lr"
   ]
  },
  {
   "cell_type": "code",
   "execution_count": 223,
   "id": "adf39830",
   "metadata": {
    "ExecuteTime": {
     "end_time": "2023-06-20T22:30:04.408302Z",
     "start_time": "2023-06-20T22:30:04.336868Z"
    }
   },
   "outputs": [
    {
     "name": "stdout",
     "output_type": "stream",
     "text": [
      "Warning: CI not valid for less than 8 data points!\n",
      "\t{m},{B},{rmse},{Rsq}\n",
      "0.0340,1.2349,0.1634,0.9929\n",
      "Warning: CI not valid for less than 8 data points!\n",
      "\t{m},{B},{rmse},{Rsq}\n",
      "0.0159,1.2702,0.2147,0.9929\n"
     ]
    },
    {
     "data": {
      "text/plain": [
       "(1.2702018136590154, 62.928033803121046)"
      ]
     },
     "execution_count": 223,
     "metadata": {},
     "output_type": "execute_result"
    }
   ],
   "source": [
    "# print_fit_exponential\n",
    "B,Delta_B,m,Delta_m,Rsq=fit_exponential(xfk,yfk)\n",
    "rmse=compute_exponential_rmse(xfk,yfk,m,B)\n",
    "print(\"\\t{m},{B},{rmse},{Rsq}\")\n",
    "print(f\"{m:.4f},{B:.4f},{rmse:.4f},{Rsq:.4f}\")\n",
    "#generate OLS exp fit to fk navg(A)\n",
    "nbar0fk = np.exp(B)\n",
    "A0fk=1/m\n",
    "# print_fit_exponential\n",
    "B,Delta_B,m,Delta_m,Rsq=fit_exponential(xlr,ylr)\n",
    "rmse=compute_exponential_rmse(xlr,ylr,m,B)\n",
    "print(\"\\t{m},{B},{rmse},{Rsq}\")\n",
    "print(f\"{m:.4f},{B:.4f},{rmse:.4f},{Rsq:.4f}\")\n",
    "#generate OLS exp fit to lr navg(A)\n",
    "# nbar0lr = np.exp(B)\n",
    "nbar0lr = B\n",
    "A0lr=1/m\n",
    "nbar0fk,A0fk\n",
    "nbar0lr,A0lr"
   ]
  },
  {
   "cell_type": "code",
   "execution_count": 225,
   "id": "c68967ac",
   "metadata": {
    "ExecuteTime": {
     "end_time": "2023-06-20T22:31:38.701761Z",
     "start_time": "2023-06-20T22:31:38.281491Z"
    }
   },
   "outputs": [
    {
     "data": {
      "image/png": "[encoded data removed]",
      "text/plain": [
       "<Figure size 300x400 with 1 Axes>"
      ]
     },
     "metadata": {},
     "output_type": "display_data"
    }
   ],
   "source": [
    "figsize=(3,4)\n",
    "fontsize=15\n",
    "alpha=0.7\n",
    "fig,ax=plt.subplots(figsize=figsize)\n",
    "ax.scatter(xfk,yfk,c='C0',alpha=alpha,label='Fenton-Karma')\n",
    "ax.scatter(xlr,ylr,c='C1',alpha=alpha,label='Luo-Rudy')\n",
    "# ax.scatter(xfk,yfk/xfk,c='C0',alpha=alpha,label='Fenton-Karma')\n",
    "# ax.scatter(xlr,ylr/xlr,c='C1',alpha=alpha,label='Luo-Rudy')\n",
    "# ax.scatter([A_fk],[N_fk/A_fk],marker='o',edgecolor='k',c='C0',#'k',\n",
    "#            alpha=1,label='Fenton-Karma')\n",
    "# ax.scatter([A_lr],[N_lr/A_lr],marker='o',edgecolor='k',c='C1',#c='k',\n",
    "#            alpha=1,label='Luo-Rudy')\n",
    "# format_plot(ax=ax,xlabel=r'$a$ (cm$^2/$s)',ylabel=r'$\\tau$  (s)',fontsize=16)\n",
    "format_plot(ax=ax,xlabel=r'$A$ (cm$^2$)',ylabel=r'$N_{avg}$',fontsize=16)\n",
    "# format_plot(ax=ax,xlabel=r'$A$ (cm$^2$)',ylabel=r'$n_{avg}$  (cm$^{-2}$)',fontsize=16)\n",
    "# ax.set_xscale('log')\n",
    "# ax.set_yscale('log')\n",
    "ax.tick_params(top=True, right=True,direction='in',which='both')\n",
    "ax.tick_params(top=True, right=True,direction='in',which='minor',length=3)\n",
    "ax.set_xlim([8e0,3e2])\n",
    "# ax.set_ylim([0,1])\n",
    "\n",
    "#plot dotted line at end\n",
    "yendfk = yfk[-1]/xfk[-1]\n",
    "yendlr = ylr[-1]/xlr[-1]\n",
    "xv=np.linspace(3,300,10)\n",
    "ax.plot(xv,xv*yendfk,':',color='gray')#,'k--',lw=2)\n",
    "ax.plot(xv,xv*yendlr,':',color='gray')#,'k--',lw=2)\n",
    "# ax.plot(xv,nbar0fk*np.exp(-xv/A0fk),':',color='gray')#,'k--',lw=2)\n",
    "# ax.plot(xv,nbar0lr*np.exp(-xv/A0lr),':',color='gray')#,'k--',lw=2)\n",
    "\n",
    "# ax.set_ylim([1e-1,1])\n",
    "# AddLegend(ax=ax,xy=(-0.12,0.240),fontsize=fontsize-3)\n",
    "leg = ax.legend(loc='upper right',fontsize=fontsize-2)#,frameon=False,ncol=1)\n",
    "# leg = ax.legend(loc='lower right',fontsize=fontsize-3.,frameon=False,ncol=1)\n",
    "for lh in leg.legendHandles: \n",
    "    lh.set_alpha(1)\n",
    "    \n",
    "leg.get_frame().set_alpha(None)\n",
    "\n",
    "# AddLegend(ax=ax,xy=(0.05,0.990),fontsize=fontsize-3)\n",
    "# AddLegend(ax=ax,xy=(0.7,0.990),fontsize=fontsize-3)\n",
    "# AddLegend(ax=ax,xy=(0.4,0.990),fontsize=fontsize-3)\n",
    "# AddLegend(ax=ax,xy=(0.1,0.25),fontsize=fontsize-3)\n",
    "ax.set_xticks([0,50,100,150])\n",
    "ax.set_xlim([0.0, 188.5])\n",
    "ax.set_ylim([0.0, 78.5])\n",
    "plt.show()"
   ]
  },
  {
   "cell_type": "code",
   "execution_count": 221,
   "id": "41ec8881",
   "metadata": {
    "ExecuteTime": {
     "end_time": "2023-06-20T22:28:36.360306Z",
     "start_time": "2023-06-20T22:28:35.676034Z"
    }
   },
   "outputs": [
    {
     "name": "stdout",
     "output_type": "stream",
     "text": [
      "-n \u0007\n",
      "-n \u0007\n",
      "-n \u0007\n"
     ]
    },
    {
     "data": {
      "text/plain": [
       "0"
      ]
     },
     "execution_count": 221,
     "metadata": {},
     "output_type": "execute_result"
    }
   ],
   "source": [
    "#DONE: copy+paste Fig. 4C generation\n",
    "#DONE: modify it to plot taubar vs. A\n",
    "#DONE: modify it to plot Nbar vs. A\n",
    "#DONE: compute Nbar vs. a \n",
    "#DONE: plot Nbar vs. a in style of ^that\n",
    "#DONE: update Fig. 4 with ^this as Fig. 4D-\n",
    "beep(3)"
   ]
  },
  {
   "cell_type": "code",
   "execution_count": 159,
   "id": "f02f0f02",
   "metadata": {
    "ExecuteTime": {
     "end_time": "2023-06-20T21:18:25.143254Z",
     "start_time": "2023-06-20T21:18:25.085798Z"
    }
   },
   "outputs": [],
   "source": [
    "# pd.read_csv?"
   ]
  },
  {
   "cell_type": "code",
   "execution_count": 160,
   "id": "84827f80",
   "metadata": {
    "ExecuteTime": {
     "end_time": "2023-06-20T21:18:25.199418Z",
     "start_time": "2023-06-20T21:18:25.145045Z"
    }
   },
   "outputs": [],
   "source": [
    "taubarian_dir = os.path.join(nb_dir,'data/lpm_results/taubar_vs_alinear_at_A_25.csv')\n",
    "df_taubariN = pd.read_csv(taubarian_dir, skipinitialspace = True) \n"
   ]
  },
  {
   "cell_type": "code",
   "execution_count": 161,
   "id": "83724490",
   "metadata": {
    "ExecuteTime": {
     "end_time": "2023-06-20T21:18:25.254280Z",
     "start_time": "2023-06-20T21:18:25.200991Z"
    }
   },
   "outputs": [],
   "source": [
    "A = 25\n",
    "ycol='Nbar'\n",
    "ycol='Nbar_soln' # << 'taubar'\n",
    "# ycol='taubar'  # << not 'taubar'\n",
    "xfk = df_taubariN[df_taubariN['model_name']=='FK']['alinear'].values\n",
    "yfk = df_taubariN[df_taubariN['model_name']=='FK'][ycol].values#/A\n",
    "xlr = df_taubariN[df_taubariN['model_name']=='LR']['alinear'].values\n",
    "ylr = df_taubariN[df_taubariN['model_name']=='LR'][ycol].values#/A\n",
    "\n",
    "\n",
    "aline_fk = 1.552\n",
    "aline_lr = 9.3\n",
    "N_fk = yfk[xfk==aline_fk][0]\n",
    "N_lr = ylr[xlr==aline_lr][0]"
   ]
  },
  {
   "cell_type": "code",
   "execution_count": 162,
   "id": "3d25d79f",
   "metadata": {
    "ExecuteTime": {
     "end_time": "2023-06-20T21:18:25.611812Z",
     "start_time": "2023-06-20T21:18:25.255742Z"
    }
   },
   "outputs": [
    {
     "data": {
      "image/png": "[encoded data removed]",
      "text/plain": [
       "<Figure size 300x400 with 1 Axes>"
      ]
     },
     "metadata": {},
     "output_type": "display_data"
    }
   ],
   "source": [
    "figsize=(3,4)\n",
    "fontsize=15\n",
    "alpha=0.7\n",
    "fig,ax=plt.subplots(figsize=figsize)\n",
    "ax.scatter(xfk,yfk,c='C0',alpha=alpha)#,label='Fenton-Karma')\n",
    "ax.scatter(xlr,ylr,c='C1',alpha=alpha)#,label='Luo-Rudy')\n",
    "ax.scatter([aline_fk],[N_fk],marker='o',edgecolor='k',c='C0',alpha=1,label='Fenton-Karma')\n",
    "ax.scatter([aline_lr],[N_lr],marker='o',edgecolor='k',c='C1',alpha=1,label='Luo-Rudy')\n",
    "format_plot(ax=ax,xlabel=r'$a$ (cm$^2/$s)',ylabel=r'$N_{avg}$',fontsize=16)\n",
    "# ax.scatter(xfk,yfk/A,c='C0',alpha=alpha)#,label='Fenton-Karma')\n",
    "# ax.scatter(xlr,ylr/A,c='C1',alpha=alpha)#,label='Luo-Rudy')\n",
    "# ax.scatter([aline_fk],[N_fk/A],marker='o',edgecolor='k',c='C0',alpha=1,label='Fenton-Karma')\n",
    "# ax.scatter([aline_lr],[N_lr/A],marker='o',edgecolor='k',c='C1',alpha=1,label='Luo-Rudy')\n",
    "# format_plot(ax=ax,xlabel=r'$a$ (cm$^2/$s)',ylabel=r'$n_{avg}$  (cm$^{-2}$)',fontsize=16)\n",
    "ax.set_xscale('log')\n",
    "ax.tick_params(top=True, right=True,direction='in',which='both')\n",
    "ax.tick_params(top=True, right=True,direction='in',which='minor',length=3)\n",
    "# ax.set_ylim([0,1])\n",
    "leg = ax.legend(loc='upper right',fontsize=fontsize-2)#,frameon=False,ncol=1)\n",
    "for lh in leg.legendHandles: \n",
    "    lh.set_alpha(1)\n",
    "plt.show()\n"
   ]
  },
  {
   "cell_type": "code",
   "execution_count": null,
   "id": "3afcf348",
   "metadata": {},
   "outputs": [],
   "source": []
  },
  {
   "cell_type": "code",
   "execution_count": 163,
   "id": "89799ea9",
   "metadata": {
    "ExecuteTime": {
     "end_time": "2023-06-20T21:18:25.661889Z",
     "start_time": "2023-06-20T21:18:25.613608Z"
    }
   },
   "outputs": [],
   "source": [
    "#TODO: add exponential fits to taubar vs. A\n",
    "#DONE: generate a vs. A in the style above\n",
    "#HINT: make A be the x-axis in a log scale to highlight invariance of a to A."
   ]
  },
  {
   "cell_type": "markdown",
   "id": "21b259c9",
   "metadata": {},
   "source": [
    "# scatter plot amax versus A"
   ]
  },
  {
   "cell_type": "code",
   "execution_count": 164,
   "id": "de0e5500",
   "metadata": {
    "ExecuteTime": {
     "end_time": "2023-06-20T21:18:25.734815Z",
     "start_time": "2023-06-20T21:18:25.663896Z"
    }
   },
   "outputs": [
    {
     "name": "stdout",
     "output_type": "stream",
     "text": [
      "For the FK model, increasing $A$ by 444.4444444% increased $a$ by -55.6975344%.\n",
      "For the FK model, increasing $A$ by 444% increased $a$ by -56%.\n",
      "For the LR model, increasing $A$ by 300.0000000% increased $a$ by -23.5236207%.\n",
      "For the LR model, increasing $A$ by 300% increased $a$ by -24%.\n"
     ]
    }
   ],
   "source": [
    "# scatter plot amax versus A\n",
    "#src: from_wjr\n",
    "DS=0.025 #cm/px\n",
    "#recall amax versus A values from before\n",
    "dict_amax_lst_fk=[]\n",
    "for model,\twidth,\tamax,\tamax_again, D, Delta_D in [\n",
    "    ('FK',\t150,\t1.6779,\t1.6779, #0.0, 0),#0.05, 0),\n",
    "         -0.06313856048623989,0.015406066199523744),\n",
    "    ('FK',\t200,\t1.7812,\t1.7811, #0.0, 0),##0.05, 0),\n",
    "         0.11449546281753001,0.007987364738330576),\n",
    "    ('FK',\t250,\t1.8334,\t1.8337, #0.0, 0),#0.05, 0)\n",
    "         0.20307175047033585,0.008569188343031837),\n",
    "    ('FK',\t283,\t1.8492,1.8494, #0.0, 0),#0.05, 0)\n",
    "         0.1699978601290549,0.016751440381045642),\n",
    "    ('FK',\t350,\t1.8454,1.8453, #1.447357,0.022455, #0.0, 0),#0.05, 0)\n",
    "         0.5230525259515364,0.022385509656234013),\n",
    "     ]:\n",
    "    # print(f\"{width},{D},{Delta_D},{min_tdeath},{max_tdeath}\")\n",
    "    # FK at A=76.5625:\n",
    "    # 350,0.28212721083867737,0.05638616673030058,600.0,1500.0\n",
    "    # 350,0.5230525259515364,0.022385509656234013,300.0,1000.0\n",
    "    # FK at A=50.0556:\n",
    "    # 283,0.1699978601290549,0.016751440381045642,600.0,1500.0\n",
    "    # 283,0.08835528394206124,0.009578146837089064,300.0,1000.0\n",
    "\n",
    "\n",
    "    dict_amax_lst_fk.append(\n",
    "        dict(model=model,width=width,amax=amax,amax_again=amax_again,D=D,Delta_D=Delta_D)\n",
    "    )  \n",
    "#heretim\n",
    "#src: from_wjr\n",
    "dict_amax_lst_lr=[]\n",
    "for model,\twidth,\tamax,\tamax_again, D, Delta_D in [\n",
    "    ('LR',\t200,\t10.147,\t10.147, #0.0, 0),#0.05, 0),\n",
    "         0.41579792802708637,0.1383129275716018), # as reported in Letter\n",
    "    ('LR',\t250,\t10.5917,10.5941, #0.0, 0),##0.05, 0),\n",
    "         0.884142229988156,0.08591228213410576),\n",
    "    ('LR',\t300,\t11.4431,11.442, #0.0, 0),##0.05, 0),\n",
    "         1.7371134990867834,0.21835134626786248),\n",
    "     ('LR',\t350,\t11.5883,11.5875, #0.0, 0),##0.05, 0),\n",
    "         2.152934418246597,0.24985450606055637),\n",
    "    ('LR',\t400,\t11.606,\t11.6056, #0.0, 0),##0.05, 0),\n",
    "         2.2409580980757418,0.13694044386234994),\n",
    "     ]:\n",
    "    dict_amax_lst_lr.append(\n",
    "        dict(model=model,width=width,amax=amax,amax_again=amax_again,D=D,Delta_D=Delta_D)\n",
    "    )\n",
    "df_fk = pd.DataFrame(dict_amax_lst_fk)\n",
    "df_lr = pd.DataFrame(dict_amax_lst_lr)\n",
    "#compute scatter plot xy values\n",
    "df = df_fk\n",
    "df['L']=df['width']*DS\n",
    "df['A']=df['L']**2\n",
    "df['Delta_amax'] = np.abs(df['amax'] -df['amax_again'])\n",
    "x_values_fk = df['A'].values\n",
    "y_values_fk = df['amax'].values - 2*df['D'].values\n",
    "yerr_values_fk = df['Delta_amax'].values + 2*df['Delta_D'].values\n",
    "df['a']=y_values_fk\n",
    "df['Delta_a']=yerr_values_fk\n",
    "df = df_lr\n",
    "df['L']=df['width']*DS\n",
    "df['A']=df['L']**2\n",
    "df['Delta_amax'] = np.abs(df['amax'] -df['amax_again'])\n",
    "x_values_lr = df['A'].values\n",
    "# y_values_lr = df['amax'].values \n",
    "y_values_lr = df['amax'].values  - 2*df['D'].values\n",
    "yerr_values_lr = df['Delta_amax'].values + 2*df['Delta_D'].values\n",
    "df['a']=y_values_lr\n",
    "df['Delta_a']=yerr_values_lr\n",
    "# figsize=(4,4)\n",
    "#scatter plot amax versus A\n",
    "# fig,ax=plt.subplots(figsize=figsize)\n",
    "# fontsize=16\n",
    "# alpha=0.9\n",
    "# # #plot line plot traces\n",
    "# ax.scatter(x_values_fk,y_values_fk,color='C0',alpha=alpha,label='Fenton-Karma',s=10)\n",
    "# ax.scatter(x_values_lr,y_values_lr,color='C1',alpha=alpha,label='Luo-Rudy',s=10)\n",
    "# #format_plot\n",
    "# format_plot(ax=ax,xlabel=r'$A$ (cm$^2$)',ylabel=r'$a$ (cm$^2$/s)',fontsize=fontsize)\n",
    "# # format_plot(ax=ax,xlabel=r'$A$ (cm$^2$)',ylabel=r'$a+2D$ (cm$^2$/s)',fontsize=fontsize)\n",
    "# ax.set_ylim((0,16))\n",
    "# ax.tick_params(top=True, right=True,direction='in',which='both')\n",
    "# ax.legend(fontsize=fontsize-2,frameon=False,loc='upper left')\n",
    "# # ax.legend(fontsize=fontsize-2,frameon=True)\n",
    "# plt.show()\n",
    "#print the max percent change in a for increasing A\n",
    "a_hi = df_fk.loc[df_fk['A']==df_fk['A'].max()]['a'].values[0]\n",
    "a_lo = df_fk.loc[df_fk['A']==df_fk['A'].min()]['a'].values[0]\n",
    "percent_change_amax = 1.*(a_hi - a_lo)/a_lo\n",
    "# percent_change_amax = 1.*(df_fk['amax'].max() - df_fk['amax'].min())/df_fk['amax'].min()\n",
    "percent_change_A = 1.*(df_fk['A'].max() - df_fk['A'].min())/df_fk['A'].min()\n",
    "# percent_change_A = 1.*(df_fk['A'].max() - 25)/df_fk['A'].min()\n",
    "print(f\"For the FK model, increasing $A$ by {percent_change_A:.7%} increased $a$ by {percent_change_amax:.7%}.\")\n",
    "print(f\"For the FK model, increasing $A$ by {percent_change_A:.0%} increased $a$ by {percent_change_amax:.0%}.\")\n",
    "\n",
    "#print the max percent change in a for increasing A\n",
    "a_hi = df_lr.loc[df_lr['A']==df_lr['A'].max()]['a'].values[0]\n",
    "a_lo = df_lr.loc[df_lr['A']==df_lr['A'].min()]['a'].values[0]\n",
    "percent_change_amax = 1.*(a_hi - a_lo)/a_lo\n",
    "# percent_change_amax = 1.*(df_lr['amax'].max() - df_lr['amax'].min())/df_lr['amax'].min()\n",
    "percent_change_A = 1.*(df_lr['A'].max() - df_lr['A'].min())/df_lr['A'].min()\n",
    "# print(f\"For LR model, increasing $A$ by {percent_change_A:.7%} increased $a$ by {percent_change_amax:.7%}.\")\n",
    "print(f\"For the LR model, increasing $A$ by {percent_change_A:.7%} increased $a$ by {percent_change_amax:.7%}.\")\n",
    "print(f\"For the LR model, increasing $A$ by {percent_change_A:.0%} increased $a$ by {percent_change_amax:.0%}.\")"
   ]
  },
  {
   "cell_type": "code",
   "execution_count": 165,
   "id": "5e379dcb",
   "metadata": {
    "ExecuteTime": {
     "end_time": "2023-06-20T21:18:25.785978Z",
     "start_time": "2023-06-20T21:18:25.736265Z"
    }
   },
   "outputs": [],
   "source": [
    "aline_fk = 1.552\n",
    "aline_lr = 9.3\n",
    "A_fk = 25#yfk[xfk==aline_fk][0]\n",
    "A_lr = 25#ylr[xlr==aline_lr][0]\n",
    "A=25\n",
    "#heretimheretimheretimheretim"
   ]
  },
  {
   "cell_type": "code",
   "execution_count": 166,
   "id": "111e95de",
   "metadata": {
    "ExecuteTime": {
     "end_time": "2023-06-20T21:18:26.136819Z",
     "start_time": "2023-06-20T21:18:25.788159Z"
    }
   },
   "outputs": [
    {
     "data": {
      "image/png": "[encoded data removed]",
      "text/plain": [
       "<Figure size 300x400 with 1 Axes>"
      ]
     },
     "metadata": {},
     "output_type": "display_data"
    },
    {
     "data": {
      "text/plain": [
       "(0.0, 105.0, 0.7069396432246786, 137.0)"
      ]
     },
     "execution_count": 166,
     "metadata": {},
     "output_type": "execute_result"
    }
   ],
   "source": [
    "figsize=(3,4)\n",
    "fontsize=15\n",
    "alpha=0.7\n",
    "fig,ax=plt.subplots(figsize=figsize)\n",
    "# ax.scatter(xfk,yfk,c='C0',alpha=alpha)#,label='Fenton-Karma')\n",
    "# ax.scatter(xlr,ylr,c='C1',alpha=alpha)#,label='Luo-Rudy')\n",
    "ax.scatter(x_values_fk,y_values_fk,color='C0',alpha=alpha)#,s=10)\n",
    "ax.scatter(x_values_lr,y_values_lr,color='C1',alpha=alpha)#,s=10)\n",
    "ax.scatter([A],[aline_fk],marker='o',edgecolor='k',c='C0',#'k',\n",
    "           alpha=1,label='Fenton-Karma')\n",
    "ax.scatter([A],[aline_lr],marker='o',edgecolor='k',c='C1',#c='k',\n",
    "           alpha=1,label='Luo-Rudy')\n",
    "format_plot(ax=ax,xlabel=r'$A$ (cm$^2$)',ylabel=r'$a$ (cm$^2$/s)',fontsize=16)\n",
    "# ax.set_xscale('log')\n",
    "ax.set_yscale('log')\n",
    "ax.tick_params(top=True, right=True,direction='in',which='both')\n",
    "ax.tick_params(top=True, right=True,direction='in',which='minor',length=3)\n",
    "ax.set_ylim([0.7069396432246786, 137])\n",
    "ax.set_xlim([0,105])\n",
    "leg = ax.legend(loc='upper right',fontsize=fontsize-2)#,frameon=False,ncol=1)\n",
    "for lh in leg.legendHandles: \n",
    "    lh.set_alpha(1)\n",
    "plt.show()\n",
    "ax.axis()"
   ]
  },
  {
   "cell_type": "code",
   "execution_count": 167,
   "id": "11927ac5",
   "metadata": {
    "ExecuteTime": {
     "end_time": "2023-06-20T21:18:26.607050Z",
     "start_time": "2023-06-20T21:18:26.138294Z"
    }
   },
   "outputs": [
    {
     "data": {
      "image/png": "[encoded data removed]",
      "text/plain": [
       "<Figure size 300x400 with 1 Axes>"
      ]
     },
     "metadata": {},
     "output_type": "display_data"
    }
   ],
   "source": [
    "figsize=(3,4)\n",
    "fontsize=15\n",
    "alpha=0.7\n",
    "fig,ax=plt.subplots(figsize=figsize)\n",
    "# ax.scatter(xfk,yfk,c='C0',alpha=alpha)#,label='Fenton-Karma')\n",
    "# ax.scatter(xlr,ylr,c='C1',alpha=alpha)#,label='Luo-Rudy')\n",
    "ax.scatter(x_values_fk[:-1],y_values_fk[:-1],color='C0',alpha=alpha,label='Fenton-Karma')#)#,s=10)\n",
    "ax.scatter(x_values_lr,y_values_lr,color='C1',alpha=alpha,label='Luo-Rudy')#)#,s=10)\n",
    "# ax.scatter([A],[aline_fk],marker='o',edgecolor='k',c='C0',#'k',\n",
    "#            alpha=1,label='Fenton-Karma')\n",
    "# ax.scatter([A],[aline_lr],marker='o',edgecolor='k',c='C1',#c='k',\n",
    "#            alpha=1,label='Luo-Rudy')\n",
    "\n",
    "#plot dotted line at end\n",
    "yendfk = y_values_fk[-2]\n",
    "yendlr = y_values_lr[-1]\n",
    "xv=np.linspace(30,300,10)\n",
    "ax.plot(xv,xv*0+yendfk,':',color='gray')#,'k--',lw=2)\n",
    "ax.plot(xv,xv*0+yendlr,':',color='gray')#,'k--',lw=2)\n",
    "\n",
    "format_plot(ax=ax,xlabel=r'$A$ (cm$^2$)',ylabel=r'$a$ (cm$^2$/s)',fontsize=16)\n",
    "# ax.set_xscale('log')\n",
    "ax.set_yscale('log')\n",
    "ax.tick_params(top=True, right=True,direction='in',which='both')\n",
    "ax.tick_params(top=True, right=True,direction='in',which='minor',length=3)\n",
    "# ax.set_ylim([0.7069396432246786, 10.532377895478525])\n",
    "ax.set_ylim([0.7069396432246786, 137])\n",
    "ax.set_xlim([0,105])\n",
    "leg = ax.legend(loc='upper right',fontsize=fontsize-2)#,frameon=False,ncol=1)\n",
    "for lh in leg.legendHandles: \n",
    "    lh.set_alpha(1)\n",
    "plt.show()"
   ]
  },
  {
   "cell_type": "code",
   "execution_count": null,
   "id": "bd8168fe",
   "metadata": {},
   "outputs": [],
   "source": []
  },
  {
   "cell_type": "code",
   "execution_count": null,
   "id": "f26aa293",
   "metadata": {},
   "outputs": [],
   "source": []
  },
  {
   "cell_type": "code",
   "execution_count": 168,
   "id": "048b1902",
   "metadata": {
    "ExecuteTime": {
     "end_time": "2023-06-20T21:18:26.768933Z",
     "start_time": "2023-06-20T21:18:26.609299Z"
    }
   },
   "outputs": [
    {
     "name": "stderr",
     "output_type": "stream",
     "text": [
      "No handles with labels found to put in legend.\n"
     ]
    },
    {
     "data": {
      "image/png": "[encoded data removed]",
      "text/plain": [
       "<Figure size 300x400 with 1 Axes>"
      ]
     },
     "metadata": {},
     "output_type": "display_data"
    }
   ],
   "source": [
    "figsize=(3,4)\n",
    "fontsize=15\n",
    "alpha=0.7\n",
    "#scatter plot amax versus A\n",
    "fig,ax=plt.subplots(figsize=figsize)\n",
    "# #plot line plot traces\n",
    "ax.scatter(x_values_fk,y_values_fk,color='C0',alpha=alpha,s=10)\n",
    "ax.scatter(x_values_lr,y_values_lr,color='C1',alpha=alpha,s=10)\n",
    "# ax.plot(x_values_fk,y_values_fk,color='C0',alpha=alpha,label='Fenton-Karma',lw=2)\n",
    "# ax.plot(x_values_lr,y_values_lr,color='C1',alpha=alpha,label='Luo-Rudy',lw=2)\n",
    "# ax.errorbar(x_values_fk,y_values_fk,yerr_values_fk,color='C0',alpha=alpha,lw=1)#,label='Fenton-Karma')\n",
    "# ax.errorbar(x_values_lr,y_values_lr,yerr_values_lr,color='C1',alpha=alpha,lw=1)#,label='Luo-Rudy')\n",
    "#format_plot\n",
    "format_plot(ax=ax,xlabel=r'$A$ (cm$^2$)',ylabel=r'$a$ (cm$^2$/s)',fontsize=fontsize)\n",
    "# format_plot(ax=ax,xlabel=r'$A$ (cm$^2$)',ylabel=r'$a+2D$ (cm$^2$/s)',fontsize=fontsize)\n",
    "ax.set_ylim((0,16))\n",
    "ax.tick_params(top=True, right=True,direction='in',which='both')\n",
    "ax.legend(fontsize=fontsize-2,frameon=False,loc='upper left')\n",
    "# ax.legend(fontsize=fontsize-2,frameon=True)\n",
    "plt.show()"
   ]
  },
  {
   "cell_type": "code",
   "execution_count": 169,
   "id": "43b58056",
   "metadata": {
    "ExecuteTime": {
     "end_time": "2023-06-20T21:18:26.818422Z",
     "start_time": "2023-06-20T21:18:26.770595Z"
    }
   },
   "outputs": [],
   "source": [
    "#compute scatter plot xy values\n",
    "df = df_fk\n",
    "x_values_fk = df['A'].values\n",
    "y_values_fk = df['amax'].values \n",
    "yerr_values_fk = df['Delta_amax'].values\n",
    "df = df_lr\n",
    "x_values_lr = df['A'].values\n",
    "y_values_lr = df['amax'].values \n",
    "yerr_values_lr = df['Delta_amax'].values"
   ]
  },
  {
   "cell_type": "code",
   "execution_count": null,
   "id": "910f4b42",
   "metadata": {},
   "outputs": [],
   "source": []
  },
  {
   "cell_type": "code",
   "execution_count": 170,
   "id": "8ef9e170",
   "metadata": {
    "ExecuteTime": {
     "end_time": "2023-06-20T21:18:26.868516Z",
     "start_time": "2023-06-20T21:18:26.819981Z"
    }
   },
   "outputs": [],
   "source": [
    "aline_fk = 1.552\n",
    "aline_lr = 9.3\n",
    "N_fk = yfk[xfk==aline_fk][0]\n",
    "N_lr = ylr[xlr==aline_lr][0]"
   ]
  },
  {
   "cell_type": "code",
   "execution_count": 171,
   "id": "a8094f2b",
   "metadata": {
    "ExecuteTime": {
     "end_time": "2023-06-20T21:18:27.047563Z",
     "start_time": "2023-06-20T21:18:26.870447Z"
    }
   },
   "outputs": [
    {
     "data": {
      "image/png": "[encoded data removed]",
      "text/plain": [
       "<Figure size 400x400 with 1 Axes>"
      ]
     },
     "metadata": {},
     "output_type": "display_data"
    }
   ],
   "source": [
    "figsize=(4,4)\n",
    "#scatter plot amax versus A\n",
    "fig,ax=plt.subplots(figsize=figsize)\n",
    "fontsize=16\n",
    "alpha=1.\n",
    "# #plot line plot traces\n",
    "ax.scatter(x_values_fk,y_values_fk,color='C0',alpha=alpha,s=10)\n",
    "ax.scatter(x_values_lr,y_values_lr,color='C1',alpha=alpha,s=10)\n",
    "ax.plot(x_values_fk,y_values_fk,color='C0',alpha=alpha,label='Fenton-Karma',lw=2)\n",
    "ax.plot(x_values_lr,y_values_lr,color='C1',alpha=alpha,label='Luo-Rudy',lw=2)\n",
    "ax.errorbar(x_values_fk,y_values_fk,yerr_values_fk,color='C0',alpha=alpha,lw=1)#,label='Fenton-Karma')\n",
    "ax.errorbar(x_values_lr,y_values_lr,yerr_values_lr,color='C1',alpha=alpha,lw=1)#,label='Luo-Rudy')\n",
    "#format_plot\n",
    "# format_plot(ax=ax,xlabel=r'$A$ (cm$^2$)',ylabel=r'$a$ (cm$^2$/s)',fontsize=fontsize)\n",
    "format_plot(ax=ax,xlabel=r'$A$ (cm$^2$)',ylabel=r'$a+2D$ (cm$^2$/s)',fontsize=fontsize)\n",
    "ax.set_ylim((0,16))\n",
    "ax.tick_params(top=True, right=True,direction='in',which='both')\n",
    "ax.legend(fontsize=fontsize-2,frameon=False,loc='upper left')\n",
    "# ax.legend(fontsize=fontsize-2,frameon=True)\n",
    "plt.show()"
   ]
  },
  {
   "cell_type": "code",
   "execution_count": null,
   "id": "63431286",
   "metadata": {},
   "outputs": [],
   "source": []
  },
  {
   "cell_type": "code",
   "execution_count": null,
   "id": "23d4504b",
   "metadata": {},
   "outputs": [],
   "source": []
  },
  {
   "cell_type": "code",
   "execution_count": 172,
   "id": "c107670d",
   "metadata": {
    "ExecuteTime": {
     "end_time": "2023-06-20T21:18:28.151142Z",
     "start_time": "2023-06-20T21:18:27.049658Z"
    }
   },
   "outputs": [
    {
     "name": "stdout",
     "output_type": "stream",
     "text": [
      "-n \u0007\n",
      "-n \u0007\n",
      "-n \u0007\n",
      "-n \u0007\n",
      "-n \u0007\n"
     ]
    },
    {
     "data": {
      "text/plain": [
       "0"
      ]
     },
     "execution_count": 172,
     "metadata": {},
     "output_type": "execute_result"
    }
   ],
   "source": [
    "beep(5)"
   ]
  },
  {
   "cell_type": "code",
   "execution_count": null,
   "id": "02718d0e",
   "metadata": {},
   "outputs": [],
   "source": []
  }
 ],
 "metadata": {
  "hide_input": false,
  "kernelspec": {
   "display_name": "Python 3 (ipykernel)",
   "language": "python",
   "name": "python3"
  },
  "language_info": {
   "codemirror_mode": {
    "name": "ipython",
    "version": 3
   },
   "file_extension": ".py",
   "mimetype": "text/x-python",
   "name": "python",
   "nbconvert_exporter": "python",
   "pygments_lexer": "ipython3",
   "version": "3.9.5"
  },
  "latex_envs": {
   "LaTeX_envs_menu_present": true,
   "autoclose": true,
   "autocomplete": false,
   "bibliofile": "biblio.bib",
   "cite_by": "apalike",
   "current_citInitial": 1,
   "eqLabelWithNumbers": false,
   "eqNumInitial": 1,
   "hotkeys": {
    "equation": "Ctrl-E",
    "itemize": "Ctrl-I"
   },
   "labels_anchors": false,
   "latex_user_defs": false,
   "report_style_numbering": false,
   "user_envs_cfg": false
  },
  "nbTranslate": {
   "displayLangs": [
    "*"
   ],
   "hotkey": "alt-t",
   "langInMainMenu": true,
   "sourceLang": "en",
   "targetLang": "fr",
   "useGoogleTranslate": true
  },
  "toc": {
   "base_numbering": 1,
   "nav_menu": {},
   "number_sections": true,
   "sideBar": true,
   "skip_h1_title": false,
   "title_cell": "Table of Contents",
   "title_sidebar": "Contents",
   "toc_cell": false,
   "toc_position": {},
   "toc_section_display": true,
   "toc_window_display": true
  }
 },
 "nbformat": 4,
 "nbformat_minor": 5
}
