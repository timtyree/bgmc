{
 "cells": [
  {
   "cell_type": "markdown",
   "id": "bb7ee63f",
   "metadata": {},
   "source": [
    "# Simulating the paired birth death process\n",
    "Tim Tyree<br>\n",
    "10.12.2022"
   ]
  },
  {
   "cell_type": "code",
   "execution_count": 16,
   "id": "6051eefe",
   "metadata": {
    "ExecuteTime": {
     "end_time": "2022-12-18T21:26:44.612564Z",
     "start_time": "2022-12-18T21:26:44.609870Z"
    }
   },
   "outputs": [],
   "source": [
    "from lib import *"
   ]
  },
  {
   "cell_type": "code",
   "execution_count": 17,
   "id": "c7ddc714",
   "metadata": {
    "ExecuteTime": {
     "end_time": "2022-12-18T21:26:45.168282Z",
     "start_time": "2022-12-18T21:26:45.165566Z"
    }
   },
   "outputs": [],
   "source": [
    "from collections import deque\n"
   ]
  },
  {
   "cell_type": "code",
   "execution_count": 7,
   "id": "dd060137",
   "metadata": {
    "ExecuteTime": {
     "end_time": "2022-12-18T21:26:04.791259Z",
     "start_time": "2022-12-18T21:26:04.786858Z"
    }
   },
   "outputs": [],
   "source": [
    "#reset matplotlib\n",
    "import matplotlib\n",
    "matplotlib.rcParams.update(matplotlib.rcParamsDefault)"
   ]
  },
  {
   "cell_type": "code",
   "execution_count": 4,
   "id": "b7d6efe5",
   "metadata": {
    "ExecuteTime": {
     "end_time": "2022-12-18T21:25:59.697655Z",
     "start_time": "2022-12-18T21:25:59.693190Z"
    }
   },
   "outputs": [],
   "source": [
    "import numpy as np, pandas as pd\n",
    "import matplotlib.pyplot as plt\n",
    "# %matplotlib notebook\n",
    "%matplotlib inline"
   ]
  },
  {
   "cell_type": "code",
   "execution_count": 5,
   "id": "374c1b60",
   "metadata": {
    "ExecuteTime": {
     "end_time": "2022-12-18T21:25:59.715870Z",
     "start_time": "2022-12-18T21:25:59.699686Z"
    }
   },
   "outputs": [],
   "source": [
    "from scipy import stats\n",
    "darkmode=True\n",
    "if darkmode:\n",
    "    # For darkmode plots\n",
    "    from jupyterthemes import jtplot\n",
    "    jtplot.style(theme='monokai', context='notebook', ticks=True, grid=False)\n",
    "import warnings\n",
    "warnings.simplefilter(\"ignore\", UserWarning)\n",
    "# import cupy as cp\n",
    "np.random.seed(42)\n",
    "# cp.random.seed(42)"
   ]
  },
  {
   "cell_type": "code",
   "execution_count": 9,
   "id": "7770ad6f",
   "metadata": {
    "ExecuteTime": {
     "end_time": "2022-12-18T21:26:12.440722Z",
     "start_time": "2022-12-18T21:26:12.436794Z"
    }
   },
   "outputs": [],
   "source": [
    "#define token system parameters\n",
    "num=4/3\n",
    "nup=2/3\n",
    "A=1.\n",
    "Mp=1.\n",
    "# mag_ratio=0.5 #minus divided by plus\n",
    "# Mm=float(Mp * mag_ratio)\n",
    "Mm=0.5\n",
    "comp_Wp = get_comp_W(A,nup,Mp)\n",
    "comp_Wm = get_comp_W(A,num,Mm)\n",
    "Wp = njit(comp_Wp)\n",
    "Wm = njit(comp_Wm)\n"
   ]
  },
  {
   "cell_type": "code",
   "execution_count": 10,
   "id": "53225092",
   "metadata": {
    "ExecuteTime": {
     "end_time": "2022-12-18T21:26:14.734174Z",
     "start_time": "2022-12-18T21:26:14.729717Z"
    }
   },
   "outputs": [
    {
     "name": "stdout",
     "output_type": "stream",
     "text": [
      "let DT=0.1 seconds.\n",
      "np.sqrt((DT*512)**2*100)=512.0\n",
      "np.log(128)/np.log(2)=7.0\n",
      "np.sqrt(128/2)=8.0\n",
      "ooh... yes...\n"
     ]
    }
   ],
   "source": [
    "#define time step, DT\n",
    "# DT = 0.025\n",
    "DT = 0.1#0.025\n",
    "print(f\"let {DT=} seconds.\")\n",
    "print(f\"{np.sqrt((DT*512)**2*100)=}\")\n",
    "print(f\"{np.log(128)/np.log(2)=}\")\n",
    "print(f\"{np.sqrt(128/2)=}\")\n",
    "print(f\"ooh... yes...\")"
   ]
  },
  {
   "cell_type": "code",
   "execution_count": 11,
   "id": "08cb911d",
   "metadata": {
    "ExecuteTime": {
     "end_time": "2022-12-18T21:26:15.789502Z",
     "start_time": "2022-12-18T21:26:15.786823Z"
    }
   },
   "outputs": [],
   "source": [
    "#compute the probability of upward/downward transition by powerlaw\n",
    "#input: N, Wp, Wm\n",
    "#output: real value between 0 and 1\n",
    "#TODO: implement linked list bc it handles infinite spaces well.\n",
    "#HINT: stackoverflow numpy linked list datatype"
   ]
  },
  {
   "cell_type": "code",
   "execution_count": 18,
   "id": "67e1984c",
   "metadata": {
    "ExecuteTime": {
     "end_time": "2022-12-18T21:26:49.539920Z",
     "start_time": "2022-12-18T21:26:49.533330Z"
    }
   },
   "outputs": [],
   "source": [
    "#set initial number of particles\n",
    "@njit\n",
    "def comp_first_passage_time_paired_bd_process(\n",
    "        N=6,\n",
    "        DT=0.1,\n",
    "        random_state=42,\n",
    "        max_num_steps=1000000,**kwargs):\n",
    "    \"\"\"\n",
    "    Example Usage:\n",
    "first_passage_time = comp_first_passage_time_paired_bd_process(N=6,\n",
    "            random_state=42,max_num_steps=1000000)#,**kwargs)\n",
    "    \"\"\"\n",
    "    np.random.seed(random_state)\n",
    "    error_code=0\n",
    "    assert N%2==0\n",
    "    step=0\n",
    "    dont_break=True\n",
    "    while dont_break:\n",
    "        #compute transition probabilities\n",
    "        pup = Wp(N)*DT\n",
    "        pum = Wm(N)*DT\n",
    "        #randomly sample a value\n",
    "        p = np.random.rand()\n",
    "        #change depending on that value\n",
    "        if p>pup:\n",
    "            N+=2\n",
    "        if p<pum:\n",
    "            N-=2\n",
    "        #i know edge case exists for ~1/2 of the sample in theory.\n",
    "        #decide edge cases by predominance\n",
    "        #by setting switch to go up instead of down when transition is otherwise undefined.\n",
    "        #else, we'll keep to the default, wherein negative wins...\n",
    "        if pum>pup:\n",
    "            #closest one to half wins\n",
    "            dpum=np.abs(0.5-pum)\n",
    "            dpup=np.abs(0.5-pup)\n",
    "            if dpup<dpum:\n",
    "                #then for once, positive wins!\n",
    "                if (p>pup) & (p<pum):\n",
    "                    N+=2\n",
    "        #break if not a particle exists\n",
    "        if N<1:\n",
    "            dont_break=False\n",
    "        elif step>max_num_steps:\n",
    "            dont_break=False\n",
    "            error_code=1\n",
    "        step+=1\n",
    "\n",
    "    first_passage_time = step*DT\n",
    "    return first_passage_time"
   ]
  },
  {
   "cell_type": "markdown",
   "id": "442c69f4",
   "metadata": {},
   "source": [
    "__result:__ ^that is crazy-ass inefficient.  it didn't even finish after 10000002 time steps\n"
   ]
  },
  {
   "cell_type": "code",
   "execution_count": 19,
   "id": "1c8bf44a",
   "metadata": {
    "ExecuteTime": {
     "end_time": "2022-12-18T21:26:51.125890Z",
     "start_time": "2022-12-18T21:26:50.932961Z"
    }
   },
   "outputs": [
    {
     "data": {
      "text/plain": [
       "240.9"
      ]
     },
     "execution_count": 19,
     "metadata": {},
     "output_type": "execute_result"
    }
   ],
   "source": [
    "\n",
    "random_state=42\n",
    "max_num_steps=100000\n",
    "\n",
    "np.random.seed(random_state)\n",
    "\n",
    "\n",
    "# first_passage_time = comp_first_passage_time_paired_bd_process(N=6,DT=DT,\n",
    "#                                             max_num_steps=1000000)\n",
    "comp_first_passage_time_paired_bd_process(\n",
    "        N=6,\n",
    "        DT=0.1,\n",
    "        random_state=43,\n",
    "        max_num_steps=1000000)\n",
    "\n",
    "# first_passage_time\n",
    "#TODO: vectorize ^this\n",
    "# first_passage_time = comp_first_passage_time_paired_bd_process(N=6,\n",
    "#             random_state=42,max_num_steps=1000000)#,**kwargs)\n",
    "# first_passage_time\n"
   ]
  },
  {
   "cell_type": "code",
   "execution_count": 14,
   "id": "58e4b890",
   "metadata": {
    "ExecuteTime": {
     "end_time": "2022-12-18T21:26:21.839130Z",
     "start_time": "2022-12-18T21:26:21.836207Z"
    }
   },
   "outputs": [],
   "source": [
    "#warning >5 min run time\n",
    "# #simulate first passage times many times\n",
    "# max_num_steps=1000000\n",
    "# num_epochs=100\n",
    "# DT=0.01\n",
    "# seed=random_state\n",
    "# N_values  = np.arange(2,80,2)\n",
    "# zeroes_values = np.zeros_like(N_values)\n",
    "# first_passage_time_values_lst = []\n",
    "# for epoch in range(num_epochs):\n",
    "#     first_passage_time_values = zeroes_values.copy()    \n",
    "#     for i,N in enumerate(N_values):\n",
    "#         first_passage_time_values[i]=comp_first_passage_time_paired_bd_process(\n",
    "#                 N=N,DT=DT,random_state=seed*(epoch+1),max_num_steps=max_num_steps)\n",
    "#     #record\n",
    "#     first_passage_time_values_lst.append(first_passage_time_values.copy())\n",
    "# #     first_passage_time_values_lst.append(first_passage_time_values)"
   ]
  },
  {
   "cell_type": "code",
   "execution_count": 15,
   "id": "721c16e1",
   "metadata": {
    "ExecuteTime": {
     "end_time": "2022-12-18T21:26:22.055696Z",
     "start_time": "2022-12-18T21:26:22.052904Z"
    }
   },
   "outputs": [],
   "source": [
    "# first_passage_time_values_lst[1]"
   ]
  },
  {
   "cell_type": "code",
   "execution_count": 697,
   "id": "f3831e3b",
   "metadata": {
    "ExecuteTime": {
     "end_time": "2022-10-14T02:52:27.339267Z",
     "start_time": "2022-10-14T02:52:27.336739Z"
    }
   },
   "outputs": [],
   "source": [
    "# arr = np.stack(first_passage_time_values_lst)\n",
    "# y_values = np.mean(arr,axis=0)\n",
    "# plt.plot(N_values,y_values)"
   ]
  },
  {
   "cell_type": "code",
   "execution_count": 698,
   "id": "273432ea",
   "metadata": {
    "ExecuteTime": {
     "end_time": "2022-10-14T02:52:27.607931Z",
     "start_time": "2022-10-14T02:52:27.605244Z"
    }
   },
   "outputs": [],
   "source": [
    "# #DONE: estimate the distribution of termination times\n",
    "# arr[-1].shape"
   ]
  },
  {
   "cell_type": "code",
   "execution_count": 699,
   "id": "c92e19e9",
   "metadata": {
    "ExecuteTime": {
     "end_time": "2022-10-14T02:52:27.926686Z",
     "start_time": "2022-10-14T02:52:27.924271Z"
    }
   },
   "outputs": [],
   "source": [
    "# arr[:,-1]"
   ]
  },
  {
   "cell_type": "code",
   "execution_count": 700,
   "id": "e5d3c9ff",
   "metadata": {
    "ExecuteTime": {
     "end_time": "2022-10-14T02:52:28.324602Z",
     "start_time": "2022-10-14T02:52:28.321624Z"
    }
   },
   "outputs": [],
   "source": [
    "# fontsize=14\n",
    "# bins=np.arange(4,20,0.2)\n",
    "# fig,ax=plt.subplots()\n",
    "# for i in range(10):\n",
    "#     ax.hist(arr[:,i],bins=bins,label=i)\n",
    "# format_plot(ax=ax,xlabel='x',ylabel='y',fontsize=fontsize)\n",
    "# ax.legend(fontsize=fontsize,loc='upper right')\n",
    "# plt.show()"
   ]
  },
  {
   "cell_type": "code",
   "execution_count": null,
   "id": "f51524fc",
   "metadata": {},
   "outputs": [],
   "source": []
  },
  {
   "cell_type": "code",
   "execution_count": null,
   "id": "787ae70a",
   "metadata": {},
   "outputs": [],
   "source": []
  },
  {
   "cell_type": "code",
   "execution_count": null,
   "id": "3611d52c",
   "metadata": {},
   "outputs": [],
   "source": []
  },
  {
   "cell_type": "code",
   "execution_count": 701,
   "id": "02a6c06f",
   "metadata": {
    "ExecuteTime": {
     "end_time": "2022-10-14T02:52:29.436700Z",
     "start_time": "2022-10-14T02:52:29.434471Z"
    }
   },
   "outputs": [],
   "source": [
    "# TODO: average ^this over the expected number of particles from the qs distrib"
   ]
  },
  {
   "cell_type": "code",
   "execution_count": null,
   "id": "0235bde0",
   "metadata": {},
   "outputs": [],
   "source": []
  },
  {
   "cell_type": "markdown",
   "id": "0c5fbc25",
   "metadata": {},
   "source": [
    "# scratchwerk"
   ]
  },
  {
   "cell_type": "code",
   "execution_count": 702,
   "id": "72dd3e6a",
   "metadata": {
    "ExecuteTime": {
     "end_time": "2022-10-14T02:52:30.989758Z",
     "start_time": "2022-10-14T02:52:30.987540Z"
    }
   },
   "outputs": [],
   "source": [
    "# #set initial number of particles\n",
    "# N=6\n",
    "# max_num_particles_init_over_2=512\n",
    "# # Nmax=2*max_num_particles_init_over_2\n",
    "# n_values = np.arange(max_num_particles_init_over_2)\n",
    "# p_values = np.zeros(max_num_particles_init_over_2)\n",
    "# # pin_values = np.zeros(max_num_particles_init_over_2)\n",
    "# # pout_values = np.zeros(max_num_particles_init_over_2)\n",
    "# p_values[n_values==N]=1.\n",
    "# p_values_out=p_values.copy()"
   ]
  },
  {
   "cell_type": "code",
   "execution_count": 703,
   "id": "7a3d3b6a",
   "metadata": {
    "ExecuteTime": {
     "end_time": "2022-10-14T02:52:31.273622Z",
     "start_time": "2022-10-14T02:52:31.271139Z"
    }
   },
   "outputs": [],
   "source": [
    "#TODO: dev deterministic one step method from the recurrance relation from the master equation\n",
    "#input: Wp, Wm\n",
    "#output: t_matrix = transition matrix for this linear system of ode's\n",
    "#input: t_matrix,p_values\n",
    "#output: number of steps until termination\n",
    "\n",
    "# input_p_values=\n"
   ]
  },
  {
   "cell_type": "code",
   "execution_count": 704,
   "id": "99ac6148",
   "metadata": {
    "ExecuteTime": {
     "end_time": "2022-10-14T02:52:31.921915Z",
     "start_time": "2022-10-14T02:52:31.918736Z"
    }
   },
   "outputs": [],
   "source": [
    "# def comp_probability_current(N,N_values,P_values,Wp,Wm):\n",
    "#     \"\"\"returns the probability current in the paired birth-death process.\n",
    "    \n",
    "#     N_values is int array indexed by int N.  \n",
    "#     P_values is a float array. \n",
    "#     Wp,Wm are real functions that return floats.\n",
    "    \n",
    "#     Example Usage:\n",
    "# P_values=np.ones(N_values.shape[0])\n",
    "# flux_in_hi , flux_in_lo , flux_out = comp_probability_current(N,N_values,P_values,Wp,Wm)\n",
    "#     \"\"\"\n",
    "#     P = float(P_values[N==N_values])\n",
    "#     Pp= float(P_values[N+2==N_values])\n",
    "#     Pm= float(P_values[N-2==N_values])\n",
    "#     flux_in_lo = Wp(N-2)*Pm \n",
    "#     flux_in_hi = Wm(N+2)*Pp \n",
    "#     flux_out= Wp(N)*P    + Wm(N)*P \n",
    "#     current = flux_in_hi + flux_in_lo - flux_out\n",
    "#     return flux_in_hi , flux_in_lo , flux_out\n",
    "#     #return current"
   ]
  },
  {
   "cell_type": "markdown",
   "id": "505effa5",
   "metadata": {},
   "source": [
    "# simulating the master equations"
   ]
  },
  {
   "cell_type": "code",
   "execution_count": 30,
   "id": "a10f5255",
   "metadata": {
    "ExecuteTime": {
     "end_time": "2022-12-18T21:27:56.976797Z",
     "start_time": "2022-12-18T21:27:56.974284Z"
    }
   },
   "outputs": [],
   "source": [
    "max_num_particles_init_over_2=512\n",
    "max_num_particles_init_over_2=50\n",
    "max_num_particles_init_over_2=200\n"
   ]
  },
  {
   "cell_type": "code",
   "execution_count": null,
   "id": "e9e42eb2",
   "metadata": {
    "ExecuteTime": {
     "end_time": "2022-12-18T21:26:57.305528Z",
     "start_time": "2022-12-18T21:26:56.888722Z"
    }
   },
   "outputs": [],
   "source": []
  },
  {
   "cell_type": "code",
   "execution_count": 31,
   "id": "d3a0eca4",
   "metadata": {
    "ExecuteTime": {
     "end_time": "2022-12-18T21:27:58.652909Z",
     "start_time": "2022-12-18T21:27:58.630254Z"
    }
   },
   "outputs": [
    {
     "name": "stdout",
     "output_type": "stream",
     "text": [
      "m = 0.229594 +/- 0.010098\n",
      "M = 0.864210 +/- 0.002349 Hz/cm^2; B=0.529597 +/- 0.020570\n",
      "RMSE=0.0215 Hz/cm^2; R^2=0.9655; MPE=3.0209%; N=73\n",
      "m = 0.714755 +/- 0.009768\n",
      "M = 3.277073 +/- 0.102643 Hz/cm^2; B=5.262676 +/- 0.107278\n",
      "RMSE=0.0417 Hz/cm^2; R^2=0.9971; MPE=4.2323%; N=62\n",
      "\n",
      "wjr['fk_pbc']:\n",
      "m=1.8772341309722325\n",
      "Delta_m=0.02498750277237229\n",
      "M=5.572315674840435\n",
      "Delta_M=0.3053120355191732\n",
      "b=1.665608066257863\n",
      "Delta_b=0.029341409948945123\n",
      "\n",
      "wjr['lr_pbc']:\n",
      "m=1.6375562704001745\n",
      "Delta_m=0.017190912126700632\n",
      "M=16.73559858353835\n",
      "Delta_M=0.8465090320196467\n",
      "b=2.86877101880514\n",
      "Delta_b=0.0311865277365552\n",
      "\n",
      "wjr['fk_pbc']:\n",
      "m=1.8772341309722325\n",
      "Delta_m=0.02498750277237229\n",
      "M=5.572315674840435\n",
      "Delta_M=0.3053120355191732\n",
      "b=1.665608066257863\n",
      "Delta_b=0.029341409948945123\n",
      "\n",
      "wjr['lr_pbc']:\n",
      "m=1.6375562704001745\n",
      "Delta_m=0.017190912126700632\n",
      "M=16.73559858353835\n",
      "Delta_M=0.8465090320196467\n",
      "b=2.86877101880514\n",
      "Delta_b=0.0311865277365552\n"
     ]
    }
   ],
   "source": [
    "# input_fn = search_for_file()\n",
    "# input_fn\n",
    "wjr=recall_powerlaw_fits_to_full_models()\n",
    "\n",
    "kwargs = dict(data_fk_dir=f'{nb_dir}/data/full_results/data_fig4_vidmar_fk_tt.csv',\n",
    "              data_lr_dir=f'{nb_dir}/data/full_results/data_fig4_vidmar_lr_tt.csv',\n",
    "             min_num_particles=9)\n",
    "dict_wjr = recall_death_rates_vidmar_rappel(**kwargs)\n",
    "fk=dict_wjr['fk'].sort_values(by='q')\n",
    "lr=dict_wjr['lr'].sort_values(by='q')\n",
    "\n",
    "# birth_rate_dir_fk = '/home/timothytyree/Documents/GitHub/bgmc/python/data/full_results/data_fig4_timothy_fk_up2_rescaled_per_tt.csv'\n",
    "# birth_rate_dir_lr = '/home/timothytyree/Documents/GitHub/bgmc/python/data/full_results/data_fig4_timothy_lr_up2_rescaled_per_tt.csv'\n",
    "birth_rate_dir_fk = '/Users/timothytyree/Documents/GitHub/bgmc/python/data/full_results/data_fig4_timothy_fk_up2_rescaled_per_tt.csv'\n",
    "birth_rate_dir_lr = '/Users/timothytyree/Documents/GitHub/bgmc/python/data/full_results/data_fig4_timothy_lr_up2_rescaled_per_tt.csv'\n",
    "# death_rate_dir_fk = '/Users/timothytyree/Documents/GitHub/bgmc/python/data/full_results/data_fig4_vidmar_fk_rescaled_rates.csv'\n",
    "# death_rate_dir_lr = '/Users/timothytyree/Documents/GitHub/bgmc/python/data/full_results/data_fig4_vidmar_lr_rescaled_rates.csv'\n",
    "# df_death = pd.read_csv(death_rate_dir_fk)\n",
    "df_birth_fk = pd.read_csv(birth_rate_dir_fk)\n",
    "# df_death = pd.read_csv(death_rate_dir_lr)\n",
    "df_birth_lr = pd.read_csv(birth_rate_dir_lr)\n",
    "\n",
    "#scale from kHz to Hz\n",
    "df_birth_fk['w']*=1e3\n",
    "df_birth_lr['w']*=1e3\n",
    "\n",
    "# DONE: compute powerlaw fits of birth rates wjr\n",
    "dict_fit_birth_fk = print_fit_power_law(x=df_birth_fk['q'].values,y=df_birth_fk['w'].values)\n",
    "dict_fit_birth_lr = print_fit_power_law(x=df_birth_lr['q'].values,y=df_birth_lr['w'].values)\n",
    "\n",
    "print(f\"\\nwjr['fk_pbc']:\")\n",
    "print_dict(wjr['fk_pbc'])\n",
    "print(f\"\\nwjr['lr_pbc']:\")\n",
    "print_dict(wjr['lr_pbc'])\n",
    "\n",
    "print(f\"\\nwjr['fk_pbc']:\")\n",
    "print_dict(wjr['fk_pbc'])\n",
    "print(f\"\\nwjr['lr_pbc']:\")\n",
    "print_dict(wjr['lr_pbc'])\n",
    "\n",
    "\n",
    "#DONE: get token inputs prepared\n",
    "dict_fit_death_lr = dict(wjr['lr_pbc'])\n",
    "dict_fit_death_fk = dict(wjr['fk_pbc'])\n",
    "Mp = dict_fit_birth_fk['M']\n",
    "nup = dict_fit_birth_fk['m']\n",
    "Mm = dict_fit_death_fk['M']\n",
    "num = dict_fit_death_fk['m']\n",
    "model_name='Fenton-Karma'\n",
    "\n",
    "# Mp = dict_fit_birth_lr['M']\n",
    "# nup = dict_fit_birth_lr['m']\n",
    "# Mm = dict_fit_death_lr['M']\n",
    "# num = dict_fit_death_lr['m']\n",
    "# model_name='Luo-Rudy'"
   ]
  },
  {
   "cell_type": "code",
   "execution_count": 32,
   "id": "9446f57c",
   "metadata": {
    "ExecuteTime": {
     "end_time": "2022-12-18T21:27:59.991676Z",
     "start_time": "2022-12-18T21:27:59.900122Z"
    }
   },
   "outputs": [],
   "source": [
    "#TODO: compute the eigenvalues of the transition matrix\n",
    "#TODO: compute the fraction terminated time trace initializing at the quasistatic distribution\n",
    "#estimate the quasistatic distribution\n",
    "L=5 #cm\n",
    "A=L**2\n",
    "num_iter=20\n",
    "\n",
    "#TODO: recall the powerlaw fits to the FK model \n",
    "#heretim\n",
    "\n",
    "# Wp = get_comp_W(A,nup,Mp)\n",
    "# Wm = get_comp_W(A,num,Mm)\n",
    "comp_Wp = get_comp_W(A,nup,Mp)\n",
    "comp_Wm = get_comp_W(A,num,Mm)\n",
    "Wp = njit(comp_Wp)\n",
    "Wm = njit(comp_Wm)\n",
    "\n",
    "# n_qs,prob_qs = comp_quasistatic_distrib_paired_bdrates(comp_Wm,comp_Wp,num_iter=num_iter,freq_prev=1.)\n",
    "n_qs,prob_qs = comp_quasistatic_distrib_paired_bdrates(Wm,Wp,num_iter=num_iter,freq_prev=100.)"
   ]
  },
  {
   "cell_type": "code",
   "execution_count": 33,
   "id": "4b2e779f",
   "metadata": {
    "ExecuteTime": {
     "end_time": "2022-12-18T21:28:12.503005Z",
     "start_time": "2022-12-18T21:28:12.495511Z"
    }
   },
   "outputs": [],
   "source": [
    "# DT=0.01\n",
    "# DT=0.0025\n",
    "# DT=0.0000025 #stable at N=Nmax measurement as initial condition\n",
    "DT=0.000025 #stable?\n",
    "dim=max_num_particles_init_over_2\n",
    "#precompute the transition matrix\n",
    "N_values = 2*(1+np.arange(dim))\n",
    "t_matrix=np.zeros((dim,dim))\n",
    "for i,N in enumerate(N_values):\n",
    "    flux_in_lo = Wp(N-2)\n",
    "    flux_in_hi = Wm(N+2)\n",
    "    flux_out= Wp(N) + Wm(N)\n",
    "    t_matrix[i,i]-=flux_out\n",
    "    t_matrix[i,i-1]+=flux_in_lo\n",
    "    if i+1<dim:\n",
    "        t_matrix[i,i+1]+=flux_in_hi\n",
    "#     else:\n",
    "#         #TODO: implement reflecting boundary conditions at the high particle number cutoff\n",
    "#         #heretim\n",
    "# #         t_matrix[i+1,i+1]+=flux_in_hi # is it that simple?\n",
    "#         t_matrix[i,i]+=flux_in_hi # is it that simple?\n",
    "        \n",
    "t_matrix[0,0] = -(Wm(2)+Wp(2)) # from N=2\n",
    "t_matrix[0,1] = Wm(4) # from N=4\n",
    "\n",
    "#reflecting bc at end\n",
    "Nmax=int(N_values[-1])\n",
    "# t_matrix[-1,-1] = -(Wm(Nmax)) #-(Wm(Nmax)+Wp(Nmax)) \n",
    "t_matrix[-1,-1] = -Wm(Nmax) #-(Wm(Nmax)+Wp(Nmax)) \n",
    "t_matrix[-1,-2] = Wp(Nmax-2) \n",
    "\n",
    "t_matrix*=DT #transfer func is now in dimensionless units \n",
    "\n",
    "#DONT: #transpose\n",
    "# t_matrix = t_matrix.T.copy()"
   ]
  },
  {
   "cell_type": "code",
   "execution_count": 34,
   "id": "2a47e50d",
   "metadata": {
    "ExecuteTime": {
     "end_time": "2022-12-18T21:28:13.368675Z",
     "start_time": "2022-12-18T21:28:13.363470Z"
    }
   },
   "outputs": [
    {
     "data": {
      "text/plain": [
       "((200,), 1.0000000000000002)"
      ]
     },
     "execution_count": 34,
     "metadata": {},
     "output_type": "execute_result"
    }
   ],
   "source": [
    "# num_iter=int(Nmax/2)\n",
    "N_qs,P_qs = comp_quasistatic_distrib_paired_bdrates(Wm,Wp,num_iter=dim,freq_prev=1.)\n",
    "# P_qs/=np.sum(P_qs) #normalize for 1.0000000000000002 floating point arith error\n",
    "# assert np.sum(P_qs)==1\n",
    "P_qs.shape,np.sum(P_qs)"
   ]
  },
  {
   "cell_type": "code",
   "execution_count": 48,
   "id": "8bd7cd89",
   "metadata": {
    "ExecuteTime": {
     "end_time": "2022-12-18T21:29:44.894045Z",
     "start_time": "2022-12-18T21:29:44.112490Z"
    }
   },
   "outputs": [
    {
     "name": "stdout",
     "output_type": "stream",
     "text": [
      "sum(P_values)=1.0000000000000004\n",
      "sum(P_values)=0.8443886393863168\n"
     ]
    }
   ],
   "source": [
    "num_steps=100000\n",
    "save_every=1000\n",
    "# num_steps=int(1e8)\n",
    "# save_every=10000\n",
    "# num_steps=int(1e6)  #gives a perfect exponential curve in <60 seconds\n",
    "#TODO: use  ^this 1e6 time steps to deduce the \n",
    "# functional dependence / gradients of nup,num,Mp,Mm evaluated at the full models\n",
    "\n",
    "#implement the absorbing boundary condition at N=0\n",
    "#TODO: do a basic numerical test case using an initial state measured to be at N=2.\n",
    "# P_values = np.zeros(dim)\n",
    "# P_values[0]=1. #measured to be at N=2.\n",
    "# P_values[-1]=1. #measured to be at N=Nmax.\n",
    "P_values=P_qs.copy()\n",
    "print(f\"{sum(P_values)=}\")\n",
    "# P_net_values = np.zeros(num_steps)-9999.\n",
    "P_net_lst=[]\n",
    "step_lst=[]\n",
    "for step in range(num_steps):\n",
    "    # dP_values=np.dot(t_matrix,P_values)\n",
    "    P_values+=np.dot(t_matrix,P_values)#dP_values\n",
    "    if step%save_every==0:\n",
    "        P_net = np.sum(P_values)\n",
    "        #record\n",
    "        P_net_lst.append(P_net)\n",
    "        step_lst.append(step)\n",
    "    #P_net_values[step]=P_net\n",
    "print(f\"{sum(P_values)=}\")\n",
    "P_net_values=np.array(P_net_lst)\n",
    "t_values=np.array(step_lst)*DT #seconds\n",
    "# t_values=np.arange(num_steps)*DT #seconds"
   ]
  },
  {
   "cell_type": "code",
   "execution_count": 49,
   "id": "30da65d6",
   "metadata": {
    "ExecuteTime": {
     "end_time": "2022-12-18T21:29:46.163250Z",
     "start_time": "2022-12-18T21:29:45.528473Z"
    }
   },
   "outputs": [
    {
     "name": "stdout",
     "output_type": "stream",
     "text": [
      "-n \u0007\n",
      "-n \u0007\n",
      "-n \u0007\n"
     ]
    },
    {
     "data": {
      "text/plain": [
       "0"
      ]
     },
     "execution_count": 49,
     "metadata": {},
     "output_type": "execute_result"
    }
   ],
   "source": [
    "beep(3)"
   ]
  },
  {
   "cell_type": "code",
   "execution_count": 50,
   "id": "e13065a0",
   "metadata": {
    "ExecuteTime": {
     "end_time": "2022-12-18T21:29:46.281964Z",
     "start_time": "2022-12-18T21:29:46.277532Z"
    }
   },
   "outputs": [],
   "source": [
    "#TODO: implement the IMR using the iterative method"
   ]
  },
  {
   "cell_type": "markdown",
   "id": "290683e9",
   "metadata": {},
   "source": [
    "__Result__ all eigen values are strictly negative, supporting the existence of a rate limiting step that sets and the effective time scale for an exponential distribution of termination times.\n",
    "\n",
    "- TODO: plug ^that into letter and let them challenge me, bruh."
   ]
  },
  {
   "cell_type": "code",
   "execution_count": 51,
   "id": "cfd7ef7e",
   "metadata": {
    "ExecuteTime": {
     "end_time": "2022-12-18T21:29:47.209127Z",
     "start_time": "2022-12-18T21:29:47.054870Z"
    }
   },
   "outputs": [
    {
     "name": "stderr",
     "output_type": "stream",
     "text": [
      "/Users/timothytyree/opt/miniconda3/envs/pyenv/lib/python3.9/site-packages/numpy/core/_asarray.py:102: ComplexWarning: Casting complex values to real discards the imaginary part\n",
      "  return array(a, dtype, copy=False, order=order)\n"
     ]
    },
    {
     "data": {
      "image/png": "[encoded data removed]",
      "text/plain": [
       "<Figure size 640x480 with 1 Axes>"
      ]
     },
     "metadata": {},
     "output_type": "display_data"
    }
   ],
   "source": [
    "plt.plot(np.linalg.eigvals(-t_matrix))\n",
    "# format_plot(use_loglog=True)\n",
    "plt.show()"
   ]
  },
  {
   "cell_type": "code",
   "execution_count": 52,
   "id": "0e98f7da",
   "metadata": {
    "ExecuteTime": {
     "end_time": "2022-12-18T21:29:48.375904Z",
     "start_time": "2022-12-18T21:29:48.085259Z"
    }
   },
   "outputs": [
    {
     "data": {
      "image/png": "[encoded data removed]",
      "text/plain": [
       "<Figure size 600x400 with 1 Axes>"
      ]
     },
     "metadata": {},
     "output_type": "display_data"
    }
   ],
   "source": [
    "fig,ax=plt.subplots(figsize=(6,4))\n",
    "ax.plot(t_values,P_net_values,lw=1)\n",
    "# ax.plot(t_values,P_net_values,lw=1)\n",
    "# ax.set_xlim([DT/2,1.1])\n",
    "# ax.set_ylim([0.001,1])\n",
    "# ax.set_xscale('log')\n",
    "ax.set_yscale('log')\n",
    "format_plot(ax=ax,xlabel='time (s)',ylabel='fraction terminated',fontsize=14)\n",
    "ax.tick_params(top=True, right=True,direction='in',which='both')\n",
    "plt.show()"
   ]
  },
  {
   "cell_type": "code",
   "execution_count": 53,
   "id": "1328bd02",
   "metadata": {
    "ExecuteTime": {
     "end_time": "2022-12-18T21:29:53.119203Z",
     "start_time": "2022-12-18T21:29:53.115585Z"
    }
   },
   "outputs": [
    {
     "data": {
      "text/plain": [
       "25"
      ]
     },
     "execution_count": 53,
     "metadata": {},
     "output_type": "execute_result"
    }
   ],
   "source": [
    "A"
   ]
  },
  {
   "cell_type": "code",
   "execution_count": null,
   "id": "5afc9cf0",
   "metadata": {},
   "outputs": [],
   "source": []
  },
  {
   "cell_type": "code",
   "execution_count": null,
   "id": "0500e27b",
   "metadata": {},
   "outputs": [],
   "source": []
  },
  {
   "cell_type": "code",
   "execution_count": null,
   "id": "71460153",
   "metadata": {
    "ExecuteTime": {
     "end_time": "2022-10-14T00:14:30.931588Z",
     "start_time": "2022-10-14T00:14:30.925832Z"
    }
   },
   "outputs": [],
   "source": []
  },
  {
   "cell_type": "code",
   "execution_count": null,
   "id": "90266da4",
   "metadata": {},
   "outputs": [],
   "source": []
  },
  {
   "cell_type": "code",
   "execution_count": 54,
   "id": "2a13daca",
   "metadata": {
    "ExecuteTime": {
     "end_time": "2022-12-18T21:29:54.214152Z",
     "start_time": "2022-12-18T21:29:54.047425Z"
    }
   },
   "outputs": [
    {
     "data": {
      "text/plain": [
       "<AxesSubplot:>"
      ]
     },
     "execution_count": 54,
     "metadata": {},
     "output_type": "execute_result"
    },
    {
     "data": {
      "image/png": "[encoded data removed]",
      "text/plain": [
       "<Figure size 640x480 with 2 Axes>"
      ]
     },
     "metadata": {},
     "output_type": "display_data"
    }
   ],
   "source": [
    "#heretim\n",
    "#TODO: do a basic numerical test case using quasistatic distribution\n",
    "#\n",
    "sns.heatmap(t_matrix[:4,:4],vmin=-.03,vmax=.03,cmap='bwr')"
   ]
  },
  {
   "cell_type": "code",
   "execution_count": null,
   "id": "e126e0b3",
   "metadata": {},
   "outputs": [],
   "source": []
  },
  {
   "cell_type": "code",
   "execution_count": 55,
   "id": "bddf8f18",
   "metadata": {
    "ExecuteTime": {
     "end_time": "2022-12-18T21:29:56.891068Z",
     "start_time": "2022-12-18T21:29:56.319784Z"
    }
   },
   "outputs": [
    {
     "data": {
      "text/plain": [
       "<AxesSubplot:>"
      ]
     },
     "execution_count": 55,
     "metadata": {},
     "output_type": "execute_result"
    },
    {
     "data": {
      "image/png": "[encoded data removed]",
      "text/plain": [
       "<Figure size 640x480 with 2 Axes>"
      ]
     },
     "metadata": {},
     "output_type": "display_data"
    }
   ],
   "source": [
    "sns.heatmap(t_matrix,vmin=-3,vmax=3,cmap='bwr')"
   ]
  },
  {
   "cell_type": "code",
   "execution_count": null,
   "id": "d644bb55",
   "metadata": {},
   "outputs": [],
   "source": [
    "dp_values =  #dpdt\n",
    "dp_values*=DT"
   ]
  },
  {
   "cell_type": "code",
   "execution_count": 367,
   "id": "61a2d7a3",
   "metadata": {
    "ExecuteTime": {
     "end_time": "2022-10-13T22:08:19.350631Z",
     "start_time": "2022-10-13T22:08:19.336137Z"
    }
   },
   "outputs": [
    {
     "data": {
      "text/plain": [
       "(CPUDispatcher(<function get_comp_W.<locals>.comp_W at 0x7fdcf974eaf0>),\n",
       " CPUDispatcher(<function get_comp_W.<locals>.comp_W at 0x7fdcf974e940>))"
      ]
     },
     "execution_count": 367,
     "metadata": {},
     "output_type": "execute_result"
    }
   ],
   "source": [
    "Wp,Wm"
   ]
  },
  {
   "cell_type": "code",
   "execution_count": 153,
   "id": "e2e60caa",
   "metadata": {
    "ExecuteTime": {
     "end_time": "2022-10-13T07:15:12.232426Z",
     "start_time": "2022-10-13T07:15:12.227219Z"
    }
   },
   "outputs": [],
   "source": [
    "#TODO: dev one step method from the recurrance relation from the master equation\n",
    "#HINT: i can copy stuff from the quasistatic solution \n",
    "# if i don't want to transcribe my easily accessible notes from this afternoon.\n",
    "#TODO: compute transition from lo to hi\n",
    "#TODO: compute transition from hi to lo\n",
    "#TODO: format this as a matrix\n",
    "#TODO: multiply by the transition matrix until  "
   ]
  },
  {
   "cell_type": "code",
   "execution_count": 55,
   "id": "7b27145b",
   "metadata": {
    "ExecuteTime": {
     "end_time": "2022-10-13T05:51:36.173003Z",
     "start_time": "2022-10-13T05:51:36.170842Z"
    }
   },
   "outputs": [],
   "source": [
    "#TODO: compute thresholds lo and hi given N"
   ]
  },
  {
   "cell_type": "code",
   "execution_count": 369,
   "id": "f8644054",
   "metadata": {
    "ExecuteTime": {
     "end_time": "2022-10-13T22:08:56.216013Z",
     "start_time": "2022-10-13T22:08:56.211409Z"
    }
   },
   "outputs": [],
   "source": [
    "# pthresh_lo=?"
   ]
  },
  {
   "cell_type": "code",
   "execution_count": 368,
   "id": "02badb71",
   "metadata": {
    "ExecuteTime": {
     "end_time": "2022-10-13T22:08:55.115171Z",
     "start_time": "2022-10-13T22:08:55.110248Z"
    }
   },
   "outputs": [],
   "source": [
    "# pthresh_hi=?"
   ]
  },
  {
   "cell_type": "code",
   "execution_count": 56,
   "id": "7e888b30",
   "metadata": {
    "ExecuteTime": {
     "end_time": "2022-12-18T21:30:09.076087Z",
     "start_time": "2022-12-18T21:30:09.058606Z"
    }
   },
   "outputs": [
    {
     "data": {
      "text/plain": [
       "array([[0., 1., 0., ..., 0., 0., 0.],\n",
       "       [0., 0., 1., ..., 0., 0., 0.],\n",
       "       [0., 0., 0., ..., 0., 0., 0.],\n",
       "       ...,\n",
       "       [0., 0., 0., ..., 0., 1., 0.],\n",
       "       [0., 0., 0., ..., 0., 0., 1.],\n",
       "       [0., 0., 0., ..., 0., 0., 0.]])"
      ]
     },
     "execution_count": 56,
     "metadata": {},
     "output_type": "execute_result"
    }
   ],
   "source": [
    "dim=max_num_particles_init_over_2\n",
    "t_matrix=np.zeros((dim,dim))\n",
    "l_matrix=np.zeros((dim,dim))\n",
    "i_matrix=np.eye(dim)\n",
    "for i in range(dim):\n",
    "    im=i-1\n",
    "    #im=i+1\n",
    "    for j in range(dim):\n",
    "        if im==j:\n",
    "            l_matrix[i,j]=1\n",
    "# i_matrix      \n",
    "l_matrix.T"
   ]
  },
  {
   "cell_type": "code",
   "execution_count": null,
   "id": "f8a6cf33",
   "metadata": {},
   "outputs": [],
   "source": []
  },
  {
   "cell_type": "code",
   "execution_count": 370,
   "id": "85e7da64",
   "metadata": {
    "ExecuteTime": {
     "end_time": "2022-10-13T22:09:05.771790Z",
     "start_time": "2022-10-13T22:09:05.761632Z"
    }
   },
   "outputs": [],
   "source": [
    "# #TODO: derive the rate of growth/decay at each n value\n",
    "# N=6\n",
    "# random_state=42\n",
    "# assert N%2==0\n",
    "# np.random.seed(random_state)\n",
    "# p = np.random.rand()\n",
    "# if p<pthresh_lo:\n",
    "#     print(f\"oh oh! lo fo sho!\")\n",
    "# if p<pthresh_hi:\n",
    "#     print(f\"he hi! wanna come by!?\")"
   ]
  },
  {
   "cell_type": "code",
   "execution_count": null,
   "id": "dad5ab4c",
   "metadata": {},
   "outputs": [],
   "source": []
  },
  {
   "cell_type": "code",
   "execution_count": null,
   "id": "15dc4b26",
   "metadata": {},
   "outputs": [],
   "source": []
  },
  {
   "cell_type": "code",
   "execution_count": 365,
   "id": "3d4e8ae3",
   "metadata": {
    "ExecuteTime": {
     "end_time": "2022-10-13T22:07:55.075027Z",
     "start_time": "2022-10-13T22:07:55.034681Z"
    }
   },
   "outputs": [],
   "source": [
    "\n",
    "# # p_deque = deque(np.array(list(range(max_num_particles_init_over_2))))\n",
    "# # p_deque = deque(np.array(list(range(max_num_particles_init_over_2))))\n",
    "# n_deque = deque(np.arange(1,N+1))\n",
    "# p_deque = deque([0.*x for x in n_deque])\n",
    "# n_deque.\n",
    "# d = deque([1,2,3,4])\n",
    "\n",
    "# # # print d\n",
    "# # for x in d:\n",
    "# #     print x\n",
    "# # # print d.pop(), d"
   ]
  },
  {
   "cell_type": "markdown",
   "id": "b99172ff",
   "metadata": {},
   "source": [
    "# fit powerlaws to birth/death rates"
   ]
  },
  {
   "cell_type": "code",
   "execution_count": 57,
   "id": "f9e9b742",
   "metadata": {
    "ExecuteTime": {
     "end_time": "2022-12-18T21:31:46.025767Z",
     "start_time": "2022-12-18T21:31:46.013343Z"
    }
   },
   "outputs": [],
   "source": [
    "# input_fn = search_for_file()\n",
    "# input_fn\n",
    "kwargs = dict(data_fk_dir=f'{nb_dir}/data/full_results/data_fig4_vidmar_fk_tt.csv',\n",
    "              data_lr_dir=f'{nb_dir}/data/full_results/data_fig4_vidmar_lr_tt.csv',\n",
    "             min_num_particles=9)\n",
    "dict_wjr = recall_death_rates_vidmar_rappel(**kwargs)\n",
    "fk=dict_wjr['fk'].sort_values(by='q')\n",
    "lr=dict_wjr['lr'].sort_values(by='q')\n"
   ]
  },
  {
   "cell_type": "code",
   "execution_count": 58,
   "id": "672970f1",
   "metadata": {
    "ExecuteTime": {
     "end_time": "2022-12-18T21:31:46.448600Z",
     "start_time": "2022-12-18T21:31:46.443644Z"
    }
   },
   "outputs": [
    {
     "data": {
      "text/plain": [
       "'/Users/timothytyree/Documents/GitHub/bgmc/python'"
      ]
     },
     "execution_count": 58,
     "metadata": {},
     "output_type": "execute_result"
    }
   ],
   "source": [
    "nb_dir"
   ]
  },
  {
   "cell_type": "code",
   "execution_count": 59,
   "id": "18efd93b",
   "metadata": {
    "ExecuteTime": {
     "end_time": "2022-12-18T21:31:47.074365Z",
     "start_time": "2022-12-18T21:31:47.065286Z"
    }
   },
   "outputs": [],
   "source": [
    "# birth_rate_dir_fk = '/home/timothytyree/Documents/GitHub/bgmc/python/data/full_results/data_fig4_timothy_fk_up2_rescaled_per_tt.csv'\n",
    "# birth_rate_dir_lr = '/home/timothytyree/Documents/GitHub/bgmc/python/data/full_results/data_fig4_timothy_lr_up2_rescaled_per_tt.csv'\n",
    "birth_rate_dir_fk = f'{nb_dir}//data/full_results/data_fig4_timothy_fk_up2_rescaled_per_tt.csv'\n",
    "birth_rate_dir_lr = f'{nb_dir}//data/full_results/data_fig4_timothy_lr_up2_rescaled_per_tt.csv'\n",
    "# death_rate_dir_fk = '/Users/timothytyree/Documents/GitHub/bgmc/python/data/full_results/data_fig4_vidmar_fk_rescaled_rates.csv'\n",
    "# death_rate_dir_lr = '/Users/timothytyree/Documents/GitHub/bgmc/python/data/full_results/data_fig4_vidmar_lr_rescaled_rates.csv'\n",
    "# df_death = pd.read_csv(death_rate_dir_fk)\n",
    "df_birth_fk = pd.read_csv(birth_rate_dir_fk)\n",
    "# df_death = pd.read_csv(death_rate_dir_lr)\n",
    "df_birth_lr = pd.read_csv(birth_rate_dir_lr)\n",
    "\n",
    "#scale from kHz to Hz\n",
    "df_birth_fk['w']*=1e3\n",
    "df_birth_lr['w']*=1e3"
   ]
  },
  {
   "cell_type": "code",
   "execution_count": 60,
   "id": "97e4eb3f",
   "metadata": {
    "ExecuteTime": {
     "end_time": "2022-12-18T21:31:47.599713Z",
     "start_time": "2022-12-18T21:31:47.591460Z"
    }
   },
   "outputs": [
    {
     "name": "stdout",
     "output_type": "stream",
     "text": [
      "m = 0.229594 +/- 0.010098\n",
      "M = 0.864210 +/- 0.002349 Hz/cm^2; B=0.529597 +/- 0.020570\n",
      "RMSE=0.0215 Hz/cm^2; R^2=0.9655; MPE=3.0209%; N=73\n",
      "m = 0.714755 +/- 0.009768\n",
      "M = 3.277073 +/- 0.102643 Hz/cm^2; B=5.262676 +/- 0.107278\n",
      "RMSE=0.0417 Hz/cm^2; R^2=0.9971; MPE=4.2323%; N=62\n",
      "\n",
      "wjr['fk_pbc']:\n",
      "m=1.8772341309722325\n",
      "Delta_m=0.02498750277237229\n",
      "M=5.572315674840435\n",
      "Delta_M=0.3053120355191732\n",
      "b=1.665608066257863\n",
      "Delta_b=0.029341409948945123\n",
      "\n",
      "wjr['lr_pbc']:\n",
      "m=1.6375562704001745\n",
      "Delta_m=0.017190912126700632\n",
      "M=16.73559858353835\n",
      "Delta_M=0.8465090320196467\n",
      "b=2.86877101880514\n",
      "Delta_b=0.0311865277365552\n",
      "\n",
      "wjr['fk_pbc']:\n",
      "m=1.8772341309722325\n",
      "Delta_m=0.02498750277237229\n",
      "M=5.572315674840435\n",
      "Delta_M=0.3053120355191732\n",
      "b=1.665608066257863\n",
      "Delta_b=0.029341409948945123\n",
      "\n",
      "wjr['lr_pbc']:\n",
      "m=1.6375562704001745\n",
      "Delta_m=0.017190912126700632\n",
      "M=16.73559858353835\n",
      "Delta_M=0.8465090320196467\n",
      "b=2.86877101880514\n",
      "Delta_b=0.0311865277365552\n"
     ]
    }
   ],
   "source": [
    "# DONE: compute powerlaw fits of birth rates wjr\n",
    "dict_fit_birth_fk = print_fit_power_law(x=df_birth_fk['q'].values,y=df_birth_fk['w'].values)\n",
    "dict_fit_birth_lr = print_fit_power_law(x=df_birth_lr['q'].values,y=df_birth_lr['w'].values)\n",
    "\n",
    "print(f\"\\nwjr['fk_pbc']:\")\n",
    "print_dict(wjr['fk_pbc'])\n",
    "print(f\"\\nwjr['lr_pbc']:\")\n",
    "print_dict(wjr['lr_pbc'])\n",
    "\n",
    "print(f\"\\nwjr['fk_pbc']:\")\n",
    "print_dict(wjr['fk_pbc'])\n",
    "print(f\"\\nwjr['lr_pbc']:\")\n",
    "print_dict(wjr['lr_pbc'])"
   ]
  },
  {
   "cell_type": "code",
   "execution_count": 61,
   "id": "c9317d93",
   "metadata": {
    "ExecuteTime": {
     "end_time": "2022-12-18T21:31:48.944399Z",
     "start_time": "2022-12-18T21:31:48.936089Z"
    }
   },
   "outputs": [
    {
     "data": {
      "text/plain": [
       "0.16999999999999996"
      ]
     },
     "execution_count": 61,
     "metadata": {},
     "output_type": "execute_result"
    }
   ],
   "source": [
    "xv = np.arange(0.02, 1,0.01)\n",
    "# evaluate powerlaw fits of birth rates wjr\n",
    "yv_birth_lr = dict_fit_birth_lr['M']*xv**dict_fit_birth_lr['m']\n",
    "yv_death_lr = wjr['lr_pbc']['M']*xv**wjr['lr_pbc']['m']\n",
    "# evalutate plot powerlaw fits of death rates wjr\n",
    "yv_birth_fk = dict_fit_birth_fk['M']*xv**dict_fit_birth_fk['m']\n",
    "yv_death_fk = wjr['fk_pbc']['M']*xv**wjr['fk_pbc']['m']\n",
    "# yv_birth_lr.shape,yv_birth_fk.shape\n",
    "\n",
    "#compute the intersection point for both of the full models\n",
    "index_fk = np.argmin(np.exp(np.log(yv_birth_fk/yv_death_fk)**2))\n",
    "qstar_fk = xv[index_fk]\n",
    "wstar_fk = yv_birth_fk[index_fk]\n",
    "# index_lr = np.argmin(np.log(yv_birth_lr/yv_death_lr)**2)\n",
    "index_lr = np.argmin(np.exp(np.log(yv_birth_lr/yv_death_lr)**2))\n",
    "qstar_lr = xv[index_lr]\n",
    "wstar_lr = yv_birth_lr[index_lr]\n",
    "qstar_lr"
   ]
  },
  {
   "cell_type": "code",
   "execution_count": 62,
   "id": "f6d08f8b",
   "metadata": {
    "ExecuteTime": {
     "end_time": "2022-12-18T21:31:50.006014Z",
     "start_time": "2022-12-18T21:31:50.001336Z"
    }
   },
   "outputs": [
    {
     "data": {
      "text/plain": [
       "(0.31999999999999995, 0.16999999999999996)"
      ]
     },
     "execution_count": 62,
     "metadata": {},
     "output_type": "execute_result"
    }
   ],
   "source": [
    "# plt.plot(xv,(yv_birth_lr-yv_death_lr)**2)\n",
    "# plt.show()\n",
    "qstar_fk,qstar_lr"
   ]
  },
  {
   "cell_type": "code",
   "execution_count": 63,
   "id": "0238d5a0",
   "metadata": {
    "ExecuteTime": {
     "end_time": "2022-12-18T21:31:51.093142Z",
     "start_time": "2022-12-18T21:31:50.437134Z"
    }
   },
   "outputs": [
    {
     "data": {
      "image/png": "[encoded data removed]",
      "text/plain": [
       "<Figure size 600x400 with 1 Axes>"
      ]
     },
     "metadata": {},
     "output_type": "display_data"
    }
   ],
   "source": [
    "# fig,ax=plt.subplots()\n",
    "fig,ax=plt.subplots(figsize=(6,4))\n",
    "fontsize=16\n",
    "# fontsize=20\n",
    "alpha=0.9\n",
    "\n",
    "# df_birth_fk.plot(x='q',y='w',ax=ax,c='C0',alpha=0.5,label=r'FK: N$\\rightarrow$N+2',lw=4)\n",
    "# fk.plot(x='q',y='w',ax=ax,c='C0',label=r'FK: N$\\rightarrow$N-2',lw=4)\n",
    "# df_birth_lr.plot(x='q',y='w',ax=ax,c='C1',alpha=0.5,label=r'LR: N$\\rightarrow$N+2',lw=4)\n",
    "# lr.plot(x='q',y='w',ax=ax,c='C1',label=r'LR: N$\\rightarrow$N-2',lw=4)\n",
    "markersize=30\n",
    "df_birth_fk.plot.scatter(x='q',y='w',ax=ax,c='C0',#'gray',#\n",
    "                         marker='^',\n",
    "                         alpha=1.,label=r'FK: N$\\rightarrow$N+2',s=markersize)\n",
    "fk.plot.scatter(x='q',y='w',ax=ax,c='C0',label=r'FK: N$\\rightarrow$N-2',s=markersize)\n",
    "df_birth_lr.plot.scatter(x='q',y='w',ax=ax,c='C1',#'r',#\n",
    "                        marker='^',\n",
    "                         alpha=1.,label=r'LR: N$\\rightarrow$N+2',s=markersize)\n",
    "lr.plot.scatter(x='q',y='w',ax=ax,c='C1',label=r'LR: N$\\rightarrow$N-2',s=markersize)\n",
    "\n",
    "\n",
    "#plot the powerlaw fits\n",
    "ax.plot(xv,yv_death_fk,'k--',alpha=0.5)\n",
    "ax.plot(xv,yv_death_lr,'k--',alpha=0.5)\n",
    "ax.plot(xv,yv_birth_fk,'k--',alpha=0.5)\n",
    "ax.plot(xv,yv_birth_lr,'k--',alpha=0.5)\n",
    "\n",
    "#draw vertical dotted line up to the intersection point for both of the full models\n",
    "ax.scatter([qstar_fk],[wstar_fk],c='k',s=40,alpha=0.9,zorder=100)\n",
    "ax.scatter([qstar_lr],[wstar_lr],c='k',s=40,alpha=0.9,zorder=100)\n",
    "# ax.plot([qstar_fk,qstar_fk],[0.001,wstar_fk],'k:',alpha=0.9)\n",
    "# ax.plot([qstar_lr,qstar_lr],[0.001,wstar_lr],'k:',alpha=0.9)\n",
    "\n",
    "\n",
    "# format_plot\n",
    "format_plot(ax=ax,xlabel=r'n (1/cm$^2$)',ylabel=r'w (Hz/cm$^2$)',fontsize=fontsize)#,use_loglog=True)\n",
    "# format_plot(ax=ax,xlabel=r'q (1/cm$^2$)',ylabel=r'w (Hz/cm$^2$)',fontsize=fontsize)#,use_loglog=True)\n",
    "# plt.legend(fontsize=16,frameon=False,loc='upper left')\n",
    "plt.legend(fontsize=14,frameon=False,loc='upper left')\n",
    "# AddLegend(loc='upper left')\n",
    "ax.set_xscale('log')\n",
    "ax.set_yscale('log')\n",
    "ax.set_ylim((0.0023641776732192935, 25.08908114695242))\n",
    "ax.tick_params(top=True, right=True,direction='in',which='both')\n",
    "\n",
    "plt.show()"
   ]
  },
  {
   "cell_type": "code",
   "execution_count": null,
   "id": "9842a52b",
   "metadata": {},
   "outputs": [],
   "source": []
  },
  {
   "cell_type": "code",
   "execution_count": null,
   "id": "0cd784a9",
   "metadata": {},
   "outputs": [],
   "source": []
  },
  {
   "cell_type": "markdown",
   "id": "1b679518",
   "metadata": {},
   "source": [
    "# analytical check: test whether tau(N_0) increases exponentially with A"
   ]
  },
  {
   "cell_type": "markdown",
   "id": "f57720f6",
   "metadata": {},
   "source": [
    "We have an expressions for $\\tau(N)$ in terms of the action variable, $\\phi$:\n",
    " \n",
    "$$\n",
    "\\tau(N) = \\sum_{k=1}^{N/2} \\phi(2(k-1)) \\sum_{j=k}^\\infty \\frac{1}{\\phi(2j)W_{+2}(2j)},\n",
    "$$\n",
    "and \n",
    "$$\n",
    "\\phi(k) = \\Pi_{i=1}^{k/2} \\frac{W_{-2}(2i)}{W_{+2}(2i)}.\n",
    "$$\n",
    "\n",
    "Given the mean termination time conditioned on $N$ particles existing, we estimate the mean termination time according to:\n",
    "$$\n",
    "\\mathbb{E}[\\tau] = \\sum_{N=0}^\\infty \\tau(N) P(N)\n",
    "$$\n",
    "Where $P(N)$ is the quasistatic distribution.\n"
   ]
  },
  {
   "cell_type": "code",
   "execution_count": 148,
   "id": "111c70b0",
   "metadata": {
    "ExecuteTime": {
     "end_time": "2022-12-18T22:30:28.026528Z",
     "start_time": "2022-12-18T22:30:28.022690Z"
    }
   },
   "outputs": [],
   "source": [
    "#DONE: get token inputs prepared\n",
    "dict_fit_death_lr = dict(wjr['lr_pbc'])\n",
    "dict_fit_death_fk = dict(wjr['fk_pbc'])\n",
    "Mp = dict_fit_birth_fk['M']\n",
    "nup = dict_fit_birth_fk['m']\n",
    "Mm = dict_fit_death_fk['M']\n",
    "num = dict_fit_death_fk['m']\n",
    "model_name='Fenton-Karma'\n",
    "\n",
    "# Mp = dict_fit_birth_lr['M']\n",
    "# nup = dict_fit_birth_lr['m']\n",
    "# Mm = dict_fit_death_lr['M']\n",
    "# num = dict_fit_death_lr['m']\n",
    "# model_name='Luo-Rudy'"
   ]
  },
  {
   "cell_type": "code",
   "execution_count": 149,
   "id": "8a4146be",
   "metadata": {
    "ExecuteTime": {
     "end_time": "2022-12-18T22:30:28.477258Z",
     "start_time": "2022-12-18T22:30:28.472578Z"
    }
   },
   "outputs": [
    {
     "name": "stdout",
     "output_type": "stream",
     "text": [
      "universal inputs\n",
      "Mp=0.8642103569057054; nup=0.22959399086621063\n",
      "Mm=5.572315674840435; num=1.8772341309722325\n",
      "--> qstar=0.3200; wstar=0.6653\n"
     ]
    }
   ],
   "source": [
    "print(f\"universal inputs\")\n",
    "print(f\"{Mp=}; {nup=}\")\n",
    "print(f\"{Mm=}; {num=}\")\n",
    "\n",
    "xv = np.arange(0.02, 1,0.01)\n",
    "qstar,wstar = comp_powerlaw_intersection(Mp,nup,Mm,num,xv=xv)\n",
    "print(f\"--> {qstar=:.4f}; {wstar=:.4f}\")"
   ]
  },
  {
   "cell_type": "code",
   "execution_count": 150,
   "id": "28cbf9e8",
   "metadata": {
    "ExecuteTime": {
     "end_time": "2022-12-18T22:30:34.373138Z",
     "start_time": "2022-12-18T22:30:28.958950Z"
    },
    "scrolled": true
   },
   "outputs": [
    {
     "data": {
      "text/html": [
       "<div>\n",
       "<style scoped>\n",
       "    .dataframe tbody tr th:only-of-type {\n",
       "        vertical-align: middle;\n",
       "    }\n",
       "\n",
       "    .dataframe tbody tr th {\n",
       "        vertical-align: top;\n",
       "    }\n",
       "\n",
       "    .dataframe thead th {\n",
       "        text-align: right;\n",
       "    }\n",
       "</style>\n",
       "<table border=\"1\" class=\"dataframe\">\n",
       "  <thead>\n",
       "    <tr style=\"text-align: right;\">\n",
       "      <th></th>\n",
       "      <th>A</th>\n",
       "      <th>N0</th>\n",
       "      <th>tau</th>\n",
       "      <th>Nbar</th>\n",
       "    </tr>\n",
       "  </thead>\n",
       "  <tbody>\n",
       "    <tr>\n",
       "      <th>0</th>\n",
       "      <td>5</td>\n",
       "      <td>2</td>\n",
       "      <td>0.243042</td>\n",
       "      <td>1.6</td>\n",
       "    </tr>\n",
       "    <tr>\n",
       "      <th>1</th>\n",
       "      <td>5</td>\n",
       "      <td>4</td>\n",
       "      <td>0.285628</td>\n",
       "      <td>1.6</td>\n",
       "    </tr>\n",
       "    <tr>\n",
       "      <th>2</th>\n",
       "      <td>5</td>\n",
       "      <td>6</td>\n",
       "      <td>0.291738</td>\n",
       "      <td>1.6</td>\n",
       "    </tr>\n",
       "    <tr>\n",
       "      <th>3</th>\n",
       "      <td>5</td>\n",
       "      <td>8</td>\n",
       "      <td>0.293527</td>\n",
       "      <td>1.6</td>\n",
       "    </tr>\n",
       "    <tr>\n",
       "      <th>4</th>\n",
       "      <td>5</td>\n",
       "      <td>10</td>\n",
       "      <td>0.294251</td>\n",
       "      <td>1.6</td>\n",
       "    </tr>\n",
       "  </tbody>\n",
       "</table>\n",
       "</div>"
      ],
      "text/plain": [
       "   A  N0       tau  Nbar\n",
       "0  5   2  0.243042   1.6\n",
       "1  5   4  0.285628   1.6\n",
       "2  5   6  0.291738   1.6\n",
       "3  5   8  0.293527   1.6\n",
       "4  5  10  0.294251   1.6"
      ]
     },
     "execution_count": 150,
     "metadata": {},
     "output_type": "execute_result"
    }
   ],
   "source": [
    "# A_values = np.arange(5,100,1)\n",
    "A_values = np.arange(5,400,5)\n",
    "# A_values = np.arange(10,1000,5)\n",
    "N0_values = np.arange(2,12,2)\n",
    "# N0_values = np.arange(2,40,2)\n",
    "# maxinf_num_inner_sum=20 # high particle number cutoff\n",
    "# maxinf_num_inner_sum=np.max(N0_values)+10 # high particle number cutoff\n",
    "# maxinf_num_inner_sum=np.max(N0_values)+10 # high particle number cutoff\n",
    "maxinf_num_inner_sum=100 # high particle number cutoff\n",
    "\n",
    "dict_tau_lst=[]\n",
    "for A in A_values:\n",
    "    comp_Wp = get_comp_W(A,nup,Mp)\n",
    "    comp_Wm = get_comp_W(A,num,Mm)\n",
    "#     comp_Wp = njit(get_comp_W(A,nup,Mp))\n",
    "#     comp_Wm = njit(get_comp_W(A,num,Mm))\n",
    "    phi = get_phi(comp_Wm,comp_Wp)\n",
    "    eval_tau= get_eval_tau(eval_tau_expression)\n",
    "#     #compute average over initial values\n",
    "#     n_qs,prob_qs = comp_quasistatic_distrib_paired_bdrates(comp_Wm,comp_Wp,num_iter=20)\n",
    "#     taubar = eval_tau(n_qs, prob_qs, phi, comp_Wm, comp_Wp, printing=False,**kwargs)\n",
    "    Nbar = qstar*A\n",
    "\n",
    "    for N0 in N0_values:\n",
    "        tau = eval_tau_expression(n_over_2 = int(np.floor(N0/2)),phi=phi, comp_Wm=comp_Wm, comp_Wp=comp_Wp, maxinf_num_inner_sum=maxinf_num_inner_sum,printing=False)\n",
    "#         tau = eval_tau_expression(n_over_2 = int(np.floor(N0/2)),phi=phi, comp_Wm=comp_Wm, comp_Wp=comp_Wp, maxinf_num_inner_sum=int(Nbar)+2,printing=False)\n",
    "        #record\n",
    "        dict_tau_lst.append(dict(\n",
    "            A=A,\n",
    "            N0=N0,\n",
    "            tau=tau,\n",
    "#             taubar=taubar,\n",
    "            Nbar=Nbar,\n",
    "        ))\n",
    "df_tau = pd.DataFrame(dict_tau_lst)\n",
    "df_tau.head()"
   ]
  },
  {
   "cell_type": "code",
   "execution_count": 151,
   "id": "64dc897a",
   "metadata": {
    "ExecuteTime": {
     "end_time": "2022-12-18T22:30:34.684038Z",
     "start_time": "2022-12-18T22:30:34.375284Z"
    }
   },
   "outputs": [
    {
     "data": {
      "image/png": "[encoded data removed]",
      "text/plain": [
       "<Figure size 500x400 with 2 Axes>"
      ]
     },
     "metadata": {},
     "output_type": "display_data"
    }
   ],
   "source": [
    "#basic scatter plot of the data\n",
    "figsize=(5,4)\n",
    "cmap='viridis'\n",
    "vmin=0\n",
    "vmax=np.max(N0_values)\n",
    "fontsize=14\n",
    "fig,ax=plt.subplots(figsize=figsize)\n",
    "#plot data\n",
    "df_tau.plot.scatter(x='A',y='tau',c='N0',s=10,alpha=0.7,\n",
    "                    cmap=cmap,ax=ax,vmin=vmin,vmax=vmax,colorbar=False)\n",
    "    \n",
    "#add colorbar\n",
    "norm = mpl.colors.Normalize(vmin=vmin, vmax=vmax)\n",
    "# norm = mpl.colors.LogNorm(vmin=vmin, vmax=vmax)\n",
    "cmap_obj = mpl.cm.get_cmap(cmap)\n",
    "cax = fig.add_axes([0.95, 0.2, 0.02, 0.6])\n",
    "cb = mpl.colorbar.ColorbarBase(cax,\n",
    "                               cmap=cmap_obj,\n",
    "                               norm=norm,\n",
    "                               spacing='proportional')\n",
    "cb.set_label(r'$N_0$', fontsize=fontsize)\n",
    "cb.ax.tick_params(labelsize=fontsize)\n",
    "ax.tick_params(top=True, right=True,direction='in',which='both')\n",
    "\n",
    "# format_plot\n",
    "format_plot(ax=ax,xlabel=r'$A$   (cm$^2$)',ylabel=r'$\\tau(N_0)$   (s)',fontsize=fontsize)\n",
    "ax.set_title(model_name,fontsize=fontsize)\n",
    "ax.set_yscale('log')\n",
    "# plt.tight_layout()\n",
    "plt.show()"
   ]
  },
  {
   "cell_type": "code",
   "execution_count": null,
   "id": "1212ae0d",
   "metadata": {},
   "outputs": [],
   "source": []
  },
  {
   "cell_type": "code",
   "execution_count": null,
   "id": "a4a87ea5",
   "metadata": {},
   "outputs": [],
   "source": []
  },
  {
   "cell_type": "markdown",
   "id": "bf04321f",
   "metadata": {},
   "source": [
    "# TODO(later): search for universal relations involving tau(N_0) and A"
   ]
  },
  {
   "cell_type": "code",
   "execution_count": 96,
   "id": "232f8dfd",
   "metadata": {
    "ExecuteTime": {
     "end_time": "2022-12-18T21:48:17.152979Z",
     "start_time": "2022-12-18T21:48:17.149750Z"
    }
   },
   "outputs": [],
   "source": [
    "groups = df_tau.groupby(by='N0')"
   ]
  },
  {
   "cell_type": "code",
   "execution_count": null,
   "id": "c1b39e41",
   "metadata": {
    "ExecuteTime": {
     "end_time": "2022-12-18T21:49:46.190859Z",
     "start_time": "2022-12-18T21:49:46.178931Z"
    }
   },
   "outputs": [],
   "source": [
    "\n",
    "#\n",
    "#define xy columns\n",
    "df_tau['x'] = df_tau['A']\n",
    "df_tau['y'] = df_tau['tau']\n",
    "#TODO: extract xy values\n",
    "for N0,g in df_tau.groupby(by='N0'):\n",
    "    pass\n",
    "x_values = g['A'].values #A\n",
    "# x_values = N0/g['A'].values #q\n"
   ]
  },
  {
   "cell_type": "code",
   "execution_count": 82,
   "id": "43860608",
   "metadata": {
    "ExecuteTime": {
     "end_time": "2022-12-18T21:41:11.315619Z",
     "start_time": "2022-12-18T21:41:11.267284Z"
    }
   },
   "outputs": [
    {
     "name": "stdout",
     "output_type": "stream",
     "text": [
      "tau=147391528 seconds\n"
     ]
    }
   ],
   "source": [
    "sns.scatterplot"
   ]
  },
  {
   "cell_type": "code",
   "execution_count": null,
   "id": "714036ff",
   "metadata": {},
   "outputs": [],
   "source": []
  }
 ],
 "metadata": {
  "hide_input": false,
  "kernelspec": {
   "display_name": "Python 3 (ipykernel)",
   "language": "python",
   "name": "python3"
  },
  "language_info": {
   "codemirror_mode": {
    "name": "ipython",
    "version": 3
   },
   "file_extension": ".py",
   "mimetype": "text/x-python",
   "name": "python",
   "nbconvert_exporter": "python",
   "pygments_lexer": "ipython3",
   "version": "3.9.5"
  },
  "latex_envs": {
   "LaTeX_envs_menu_present": true,
   "autoclose": true,
   "autocomplete": false,
   "bibliofile": "biblio.bib",
   "cite_by": "apalike",
   "current_citInitial": 1,
   "eqLabelWithNumbers": false,
   "eqNumInitial": 1,
   "hotkeys": {
    "equation": "Ctrl-E",
    "itemize": "Ctrl-I"
   },
   "labels_anchors": false,
   "latex_user_defs": false,
   "report_style_numbering": false,
   "user_envs_cfg": false
  },
  "nbTranslate": {
   "displayLangs": [
    "*"
   ],
   "hotkey": "alt-t",
   "langInMainMenu": true,
   "sourceLang": "en",
   "targetLang": "fr",
   "useGoogleTranslate": true
  },
  "toc": {
   "base_numbering": 1,
   "nav_menu": {},
   "number_sections": true,
   "sideBar": true,
   "skip_h1_title": false,
   "title_cell": "Table of Contents",
   "title_sidebar": "Contents",
   "toc_cell": false,
   "toc_position": {},
   "toc_section_display": true,
   "toc_window_display": false
  }
 },
 "nbformat": 4,
 "nbformat_minor": 5
}
