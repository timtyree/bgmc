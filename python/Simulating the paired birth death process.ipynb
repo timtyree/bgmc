{
 "cells": [
  {
   "cell_type": "markdown",
   "id": "bb7ee63f",
   "metadata": {},
   "source": [
    "# Simulating the paired birth death process\n",
    "Tim Tyree<br>\n",
    "10.12.2022"
   ]
  },
  {
   "cell_type": "markdown",
   "id": "7b689290",
   "metadata": {},
   "source": [
    "## import python modules"
   ]
  },
  {
   "cell_type": "code",
   "execution_count": 235,
   "id": "6051eefe",
   "metadata": {
    "ExecuteTime": {
     "end_time": "2023-02-07T21:09:08.360149Z",
     "start_time": "2023-02-07T21:09:08.313185Z"
    }
   },
   "outputs": [],
   "source": [
    "from lib import *"
   ]
  },
  {
   "cell_type": "code",
   "execution_count": 236,
   "id": "2e1147a0",
   "metadata": {
    "ExecuteTime": {
     "end_time": "2023-02-07T21:09:12.136940Z",
     "start_time": "2023-02-07T21:09:12.095731Z"
    }
   },
   "outputs": [
    {
     "name": "stdout",
     "output_type": "stream",
     "text": [
      "The autoreload extension is already loaded. To reload it, use:\n",
      "  %reload_ext autoreload\n"
     ]
    }
   ],
   "source": [
    "%load_ext autoreload\n",
    "%autoreload 2"
   ]
  },
  {
   "cell_type": "code",
   "execution_count": 237,
   "id": "c1e62bbe",
   "metadata": {
    "ExecuteTime": {
     "end_time": "2023-02-07T21:09:26.151218Z",
     "start_time": "2023-02-07T21:09:26.078563Z"
    }
   },
   "outputs": [],
   "source": [
    "# %reload_ext autoreload"
   ]
  },
  {
   "cell_type": "code",
   "execution_count": 2,
   "id": "c7ddc714",
   "metadata": {
    "ExecuteTime": {
     "end_time": "2023-02-07T20:02:19.248900Z",
     "start_time": "2023-02-07T20:02:19.245174Z"
    }
   },
   "outputs": [],
   "source": [
    "from collections import deque\n",
    "from scipy import stats\n",
    "darkmode=False\n",
    "if darkmode:\n",
    "    # For darkmode plots\n",
    "    from jupyterthemes import jtplot\n",
    "    jtplot.style(theme='monokai', context='notebook', ticks=True, grid=False)\n",
    "import warnings\n",
    "warnings.simplefilter(\"ignore\", UserWarning)\n",
    "# import cupy as cp\n",
    "np.random.seed(42)\n",
    "# cp.random.seed(42)"
   ]
  },
  {
   "cell_type": "code",
   "execution_count": 3,
   "id": "dd060137",
   "metadata": {
    "ExecuteTime": {
     "end_time": "2023-02-07T20:02:19.285975Z",
     "start_time": "2023-02-07T20:02:19.251664Z"
    }
   },
   "outputs": [],
   "source": [
    "plt.plot([1]*4)\n",
    "plt.close()\n",
    "#reset matplotlib\n",
    "import matplotlib\n",
    "matplotlib.rcParams.update(matplotlib.rcParamsDefault)\n",
    "\n",
    "# import numpy as np, pandas as pd\n",
    "# import matplotlib.pyplot as plt\n",
    "# # %matplotlib notebook\n",
    "# %matplotlib inline"
   ]
  },
  {
   "cell_type": "code",
   "execution_count": 4,
   "id": "f103a149",
   "metadata": {
    "ExecuteTime": {
     "end_time": "2023-02-07T20:02:19.293098Z",
     "start_time": "2023-02-07T20:02:19.289235Z"
    }
   },
   "outputs": [],
   "source": [
    "wjr=recall_powerlaw_fits_to_full_models()"
   ]
  },
  {
   "cell_type": "markdown",
   "id": "9b1aa667",
   "metadata": {
    "heading_collapsed": true
   },
   "source": [
    "## skipme: scratch work"
   ]
  },
  {
   "cell_type": "code",
   "execution_count": 8,
   "id": "7770ad6f",
   "metadata": {
    "ExecuteTime": {
     "end_time": "2023-01-30T20:09:18.424696Z",
     "start_time": "2023-01-30T20:09:18.418842Z"
    },
    "hidden": true
   },
   "outputs": [],
   "source": [
    "#define token system parameters\n",
    "num=4/3\n",
    "nup=2/3\n",
    "A=1.\n",
    "Mp=1.\n",
    "# mag_ratio=0.5 #minus divided by plus\n",
    "# Mm=float(Mp * mag_ratio)\n",
    "Mm=0.5\n",
    "comp_Wp = get_comp_W(A,nup,Mp)\n",
    "comp_Wm = get_comp_W(A,num,Mm)\n",
    "Wp = njit(comp_Wp)\n",
    "Wm = njit(comp_Wm)\n"
   ]
  },
  {
   "cell_type": "code",
   "execution_count": 9,
   "id": "53225092",
   "metadata": {
    "ExecuteTime": {
     "end_time": "2023-01-30T20:09:19.389728Z",
     "start_time": "2023-01-30T20:09:19.385576Z"
    },
    "hidden": true
   },
   "outputs": [
    {
     "name": "stdout",
     "output_type": "stream",
     "text": [
      "let DT=0.1 seconds.\n",
      "np.sqrt((DT*512)**2*100)=512.0\n",
      "np.log(128)/np.log(2)=7.0\n",
      "np.sqrt(128/2)=8.0\n",
      "ooh... yes...\n"
     ]
    }
   ],
   "source": [
    "#define time step, DT\n",
    "DT = 0.1\n",
    "# DT = 0.025\n",
    "print(f\"let {DT=} seconds.\")\n",
    "print(f\"{np.sqrt((DT*512)**2*100)=}\")\n",
    "print(f\"{np.log(128)/np.log(2)=}\")\n",
    "print(f\"{np.sqrt(128/2)=}\")"
   ]
  },
  {
   "cell_type": "markdown",
   "id": "442c69f4",
   "metadata": {
    "hidden": true
   },
   "source": [
    "__result:__ ^that attempt is inefficient.  it didn't even finish after 10000002 time steps\n"
   ]
  },
  {
   "cell_type": "code",
   "execution_count": 10,
   "id": "08cb911d",
   "metadata": {
    "ExecuteTime": {
     "end_time": "2023-01-30T20:09:19.842950Z",
     "start_time": "2023-01-30T20:09:19.839249Z"
    },
    "hidden": true
   },
   "outputs": [],
   "source": [
    "#compute the probability of upward/downward transition by powerlaw\n",
    "#input: N, Wp, Wm\n",
    "#output: real value between 0 and 1\n",
    "#TODO: implement linked list bc it handles infinite spaces well.\n",
    "#HINT: stackoverflow numpy linked list datatype"
   ]
  },
  {
   "cell_type": "code",
   "execution_count": 11,
   "id": "67e1984c",
   "metadata": {
    "ExecuteTime": {
     "end_time": "2023-01-30T20:09:20.240422Z",
     "start_time": "2023-01-30T20:09:20.229206Z"
    },
    "hidden": true
   },
   "outputs": [],
   "source": [
    "#set initial number of particles\n",
    "@njit\n",
    "def comp_first_passage_time_paired_bd_process(\n",
    "        N=6,\n",
    "        DT=0.1,\n",
    "        random_state=42,\n",
    "        max_num_steps=1000000,**kwargs):\n",
    "    \"\"\"\n",
    "    Example Usage:\n",
    "first_passage_time = comp_first_passage_time_paired_bd_process(N=6,\n",
    "            random_state=42,max_num_steps=1000000)#,**kwargs)\n",
    "    \"\"\"\n",
    "    np.random.seed(random_state)\n",
    "    error_code=0\n",
    "    assert N%2==0\n",
    "    step=0\n",
    "    dont_break=True\n",
    "    while dont_break:\n",
    "        #compute transition probabilities\n",
    "        pup = Wp(N)*DT\n",
    "        pum = Wm(N)*DT\n",
    "        #randomly sample a value\n",
    "        p = np.random.rand()\n",
    "        #change depending on that value\n",
    "        if p>pup:\n",
    "            N+=2\n",
    "        if p<pum:\n",
    "            N-=2\n",
    "        #i know edge case exists for ~1/2 of the sample in theory.\n",
    "        #decide edge cases by predominance\n",
    "        #by setting switch to go up instead of down when transition is otherwise undefined.\n",
    "        #else, we'll keep to the default, wherein negative wins...\n",
    "        if pum>pup:\n",
    "            #closest one to half wins\n",
    "            dpum=np.abs(0.5-pum)\n",
    "            dpup=np.abs(0.5-pup)\n",
    "            if dpup<dpum:\n",
    "                #then for once, positive wins!\n",
    "                if (p>pup) & (p<pum):\n",
    "                    N+=2\n",
    "        #break if not a particle exists\n",
    "        if N<1:\n",
    "            dont_break=False\n",
    "        elif step>max_num_steps:\n",
    "            dont_break=False\n",
    "            error_code=1\n",
    "        step+=1\n",
    "\n",
    "    first_passage_time = step*DT\n",
    "    return first_passage_time"
   ]
  },
  {
   "cell_type": "code",
   "execution_count": 12,
   "id": "1c8bf44a",
   "metadata": {
    "ExecuteTime": {
     "end_time": "2023-01-30T20:09:21.746815Z",
     "start_time": "2023-01-30T20:09:21.430526Z"
    },
    "hidden": true
   },
   "outputs": [
    {
     "data": {
      "text/plain": [
       "240.9"
      ]
     },
     "execution_count": 12,
     "metadata": {},
     "output_type": "execute_result"
    }
   ],
   "source": [
    "# #test comp_first_passage_time_paired_bd_process works\n",
    "# random_state=42\n",
    "# np.random.seed(random_state)\n",
    "\n",
    "# max_num_steps=100000\n",
    "\n",
    "\n",
    "\n",
    "# # first_passage_time = comp_first_passage_time_paired_bd_process(N=6,DT=DT,\n",
    "# #                                             max_num_steps=1000000)\n",
    "# comp_first_passage_time_paired_bd_process(\n",
    "#         N=6,\n",
    "#         DT=0.1,\n",
    "#         random_state=43,\n",
    "#         max_num_steps=1000000)\n",
    "\n",
    "# # first_passage_time\n",
    "# #TODO: vectorize ^this\n",
    "# # first_passage_time = comp_first_passage_time_paired_bd_process(N=6,\n",
    "# #             random_state=42,max_num_steps=1000000)#,**kwargs)\n",
    "# # first_passage_time\n"
   ]
  },
  {
   "cell_type": "code",
   "execution_count": 16,
   "id": "58e4b890",
   "metadata": {
    "ExecuteTime": {
     "end_time": "2023-01-26T03:54:37.644866Z",
     "start_time": "2023-01-26T03:54:37.639395Z"
    },
    "hidden": true
   },
   "outputs": [],
   "source": [
    "#warning >5 min run time\n",
    "# #simulate first passage times many times\n",
    "# max_num_steps=1000000\n",
    "# num_epochs=100\n",
    "# DT=0.01\n",
    "# seed=random_state\n",
    "# N_values  = np.arange(2,80,2)\n",
    "# zeroes_values = np.zeros_like(N_values)\n",
    "# first_passage_time_values_lst = []\n",
    "# for epoch in range(num_epochs):\n",
    "#     first_passage_time_values = zeroes_values.copy()    \n",
    "#     for i,N in enumerate(N_values):\n",
    "#         first_passage_time_values[i]=comp_first_passage_time_paired_bd_process(\n",
    "#                 N=N,DT=DT,random_state=seed*(epoch+1),max_num_steps=max_num_steps)\n",
    "#     #record\n",
    "#     first_passage_time_values_lst.append(first_passage_time_values.copy())\n",
    "# #     first_passage_time_values_lst.append(first_passage_time_values)"
   ]
  },
  {
   "cell_type": "code",
   "execution_count": 17,
   "id": "721c16e1",
   "metadata": {
    "ExecuteTime": {
     "end_time": "2023-01-26T03:54:37.877756Z",
     "start_time": "2023-01-26T03:54:37.875214Z"
    },
    "hidden": true
   },
   "outputs": [],
   "source": [
    "# first_passage_time_values_lst[1]"
   ]
  },
  {
   "cell_type": "code",
   "execution_count": 18,
   "id": "f3831e3b",
   "metadata": {
    "ExecuteTime": {
     "end_time": "2023-01-26T03:54:38.334128Z",
     "start_time": "2023-01-26T03:54:38.330694Z"
    },
    "hidden": true
   },
   "outputs": [],
   "source": [
    "# arr = np.stack(first_passage_time_values_lst)\n",
    "# y_values = np.mean(arr,axis=0)\n",
    "# plt.plot(N_values,y_values)"
   ]
  },
  {
   "cell_type": "code",
   "execution_count": 19,
   "id": "273432ea",
   "metadata": {
    "ExecuteTime": {
     "end_time": "2023-01-26T03:54:38.558637Z",
     "start_time": "2023-01-26T03:54:38.555634Z"
    },
    "hidden": true
   },
   "outputs": [],
   "source": [
    "# #DONE: estimate the distribution of termination times\n",
    "# arr[-1].shape"
   ]
  },
  {
   "cell_type": "code",
   "execution_count": 20,
   "id": "c92e19e9",
   "metadata": {
    "ExecuteTime": {
     "end_time": "2023-01-26T03:54:39.343989Z",
     "start_time": "2023-01-26T03:54:39.339913Z"
    },
    "hidden": true
   },
   "outputs": [],
   "source": [
    "# arr[:,-1]"
   ]
  },
  {
   "cell_type": "code",
   "execution_count": 21,
   "id": "e5d3c9ff",
   "metadata": {
    "ExecuteTime": {
     "end_time": "2023-01-26T03:54:42.472815Z",
     "start_time": "2023-01-26T03:54:42.467971Z"
    },
    "hidden": true
   },
   "outputs": [],
   "source": [
    "# fontsize=14\n",
    "# bins=np.arange(4,20,0.2)\n",
    "# fig,ax=plt.subplots()\n",
    "# for i in range(10):\n",
    "#     ax.hist(arr[:,i],bins=bins,label=i)\n",
    "# format_plot(ax=ax,xlabel='x',ylabel='y',fontsize=fontsize)\n",
    "# ax.legend(fontsize=fontsize,loc='upper right')\n",
    "# plt.show()"
   ]
  },
  {
   "cell_type": "code",
   "execution_count": 22,
   "id": "02a6c06f",
   "metadata": {
    "ExecuteTime": {
     "end_time": "2023-01-26T03:54:43.221992Z",
     "start_time": "2023-01-26T03:54:43.216802Z"
    },
    "hidden": true
   },
   "outputs": [],
   "source": [
    "# TODO: average ^this over the expected number of particles from the qs distrib"
   ]
  },
  {
   "cell_type": "code",
   "execution_count": 704,
   "id": "99ac6148",
   "metadata": {
    "ExecuteTime": {
     "end_time": "2022-10-14T02:52:31.921915Z",
     "start_time": "2022-10-14T02:52:31.918736Z"
    },
    "hidden": true
   },
   "outputs": [],
   "source": [
    "# def comp_probability_current(N,N_values,P_values,Wp,Wm):\n",
    "#     \"\"\"returns the probability current in the paired birth-death process.\n",
    "    \n",
    "#     N_values is int array indexed by int N.  \n",
    "#     P_values is a float array. \n",
    "#     Wp,Wm are real functions that return floats.\n",
    "    \n",
    "#     Example Usage:\n",
    "# P_values=np.ones(N_values.shape[0])\n",
    "# flux_in_hi , flux_in_lo , flux_out = comp_probability_current(N,N_values,P_values,Wp,Wm)\n",
    "#     \"\"\"\n",
    "#     P = float(P_values[N==N_values])\n",
    "#     Pp= float(P_values[N+2==N_values])\n",
    "#     Pm= float(P_values[N-2==N_values])\n",
    "#     flux_in_lo = Wp(N-2)*Pm \n",
    "#     flux_in_hi = Wm(N+2)*Pp \n",
    "#     flux_out= Wp(N)*P    + Wm(N)*P \n",
    "#     current = flux_in_hi + flux_in_lo - flux_out\n",
    "#     return flux_in_hi , flux_in_lo , flux_out\n",
    "#     #return current"
   ]
  },
  {
   "cell_type": "markdown",
   "id": "505effa5",
   "metadata": {
    "heading_collapsed": true
   },
   "source": [
    "# skipme: plot the transition matrix as a heatmap"
   ]
  },
  {
   "cell_type": "code",
   "execution_count": 38,
   "id": "7a3d3b6a",
   "metadata": {
    "ExecuteTime": {
     "end_time": "2023-01-30T20:13:15.524420Z",
     "start_time": "2023-01-30T20:13:15.521808Z"
    },
    "hidden": true
   },
   "outputs": [],
   "source": [
    "#DONE: dev deterministic one step method from the recurrance relation from the master equation\n",
    "#input: Wp, Wm\n",
    "#output: t_matrix = transition matrix for this linear system of ode's\n",
    "#input: t_matrix,p_values\n",
    "#output: number of steps until termination"
   ]
  },
  {
   "cell_type": "code",
   "execution_count": 13,
   "id": "a10f5255",
   "metadata": {
    "ExecuteTime": {
     "end_time": "2023-01-30T20:11:40.919906Z",
     "start_time": "2023-01-30T20:11:40.917396Z"
    },
    "hidden": true
   },
   "outputs": [],
   "source": [
    "max_num_particles_init_over_2=512\n",
    "max_num_particles_init_over_2=50\n",
    "max_num_particles_init_over_2=200\n"
   ]
  },
  {
   "cell_type": "code",
   "execution_count": null,
   "id": "e9e42eb2",
   "metadata": {
    "ExecuteTime": {
     "end_time": "2022-12-18T21:26:57.305528Z",
     "start_time": "2022-12-18T21:26:56.888722Z"
    },
    "hidden": true
   },
   "outputs": [],
   "source": []
  },
  {
   "cell_type": "code",
   "execution_count": 39,
   "id": "d3a0eca4",
   "metadata": {
    "ExecuteTime": {
     "end_time": "2023-01-30T20:13:35.031745Z",
     "start_time": "2023-01-30T20:13:35.006076Z"
    },
    "hidden": true
   },
   "outputs": [
    {
     "name": "stdout",
     "output_type": "stream",
     "text": [
      "m = 0.229594 +/- 0.010098\n",
      "M = 0.864210 +/- 0.002349 Hz/cm^2; B=0.529597 +/- 0.020570\n",
      "RMSE=0.0215 Hz/cm^2; R^2=0.9655; MPE=3.0209%; N=73\n",
      "m = 0.714755 +/- 0.009768\n",
      "M = 3.277073 +/- 0.102643 Hz/cm^2; B=5.262676 +/- 0.107278\n",
      "RMSE=0.0417 Hz/cm^2; R^2=0.9971; MPE=4.2323%; N=62\n",
      "\n",
      "wjr['fk_pbc']:\n",
      "m=1.8772341309722325\n",
      "Delta_m=0.02498750277237229\n",
      "M=5.572315674840435\n",
      "Delta_M=0.3053120355191732\n",
      "b=1.665608066257863\n",
      "Delta_b=0.029341409948945123\n",
      "\n",
      "wjr['lr_pbc']:\n",
      "m=1.6375562704001745\n",
      "Delta_m=0.017190912126700632\n",
      "M=16.73559858353835\n",
      "Delta_M=0.8465090320196467\n",
      "b=2.86877101880514\n",
      "Delta_b=0.0311865277365552\n",
      "\n",
      "wjr['fk_pbc']:\n",
      "m=1.8772341309722325\n",
      "Delta_m=0.02498750277237229\n",
      "M=5.572315674840435\n",
      "Delta_M=0.3053120355191732\n",
      "b=1.665608066257863\n",
      "Delta_b=0.029341409948945123\n",
      "\n",
      "wjr['lr_pbc']:\n",
      "m=1.6375562704001745\n",
      "Delta_m=0.017190912126700632\n",
      "M=16.73559858353835\n",
      "Delta_M=0.8465090320196467\n",
      "b=2.86877101880514\n",
      "Delta_b=0.0311865277365552\n"
     ]
    }
   ],
   "source": [
    "# input_fn = search_for_file()\n",
    "# input_fn\n",
    "\n",
    "kwargs = dict(data_fk_dir=f'{nb_dir}/data/full_results/data_fig4_vidmar_fk_tt.csv',\n",
    "              data_lr_dir=f'{nb_dir}/data/full_results/data_fig4_vidmar_lr_tt.csv',\n",
    "             min_num_particles=9)\n",
    "dict_wjr = recall_death_rates_vidmar_rappel(**kwargs)\n",
    "fk=dict_wjr['fk'].sort_values(by='q')\n",
    "lr=dict_wjr['lr'].sort_values(by='q')\n",
    "\n",
    "# birth_rate_dir_fk = '/home/timothytyree/Documents/GitHub/bgmc/python/data/full_results/data_fig4_timothy_fk_up2_rescaled_per_tt.csv'\n",
    "# birth_rate_dir_lr = '/home/timothytyree/Documents/GitHub/bgmc/python/data/full_results/data_fig4_timothy_lr_up2_rescaled_per_tt.csv'\n",
    "birth_rate_dir_fk = '/Users/timothytyree/Documents/GitHub/bgmc/python/data/full_results/data_fig4_timothy_fk_up2_rescaled_per_tt.csv'\n",
    "birth_rate_dir_lr = '/Users/timothytyree/Documents/GitHub/bgmc/python/data/full_results/data_fig4_timothy_lr_up2_rescaled_per_tt.csv'\n",
    "# death_rate_dir_fk = '/Users/timothytyree/Documents/GitHub/bgmc/python/data/full_results/data_fig4_vidmar_fk_rescaled_rates.csv'\n",
    "# death_rate_dir_lr = '/Users/timothytyree/Documents/GitHub/bgmc/python/data/full_results/data_fig4_vidmar_lr_rescaled_rates.csv'\n",
    "# df_death = pd.read_csv(death_rate_dir_fk)\n",
    "df_birth_fk = pd.read_csv(birth_rate_dir_fk)\n",
    "# df_death = pd.read_csv(death_rate_dir_lr)\n",
    "df_birth_lr = pd.read_csv(birth_rate_dir_lr)\n",
    "\n",
    "#scale from kHz to Hz\n",
    "df_birth_fk['w']*=1e3\n",
    "df_birth_lr['w']*=1e3\n",
    "\n",
    "# DONE: compute powerlaw fits of birth rates wjr\n",
    "dict_fit_birth_fk = print_fit_power_law(x=df_birth_fk['q'].values,y=df_birth_fk['w'].values)\n",
    "dict_fit_birth_lr = print_fit_power_law(x=df_birth_lr['q'].values,y=df_birth_lr['w'].values)\n",
    "\n",
    "print(f\"\\nwjr['fk_pbc']:\")\n",
    "print_dict(wjr['fk_pbc'])\n",
    "print(f\"\\nwjr['lr_pbc']:\")\n",
    "print_dict(wjr['lr_pbc'])\n",
    "\n",
    "print(f\"\\nwjr['fk_pbc']:\")\n",
    "print_dict(wjr['fk_pbc'])\n",
    "print(f\"\\nwjr['lr_pbc']:\")\n",
    "print_dict(wjr['lr_pbc'])\n",
    "\n",
    "\n",
    "#DONE: get token inputs prepared\n",
    "dict_fit_death_lr = dict(wjr['lr_pbc'])\n",
    "dict_fit_death_fk = dict(wjr['fk_pbc'])\n",
    "Mp = dict_fit_birth_fk['M']\n",
    "nup = dict_fit_birth_fk['m']\n",
    "Mm = dict_fit_death_fk['M']\n",
    "num = dict_fit_death_fk['m']\n",
    "model_name='Fenton-Karma'\n",
    "\n",
    "# Mp = dict_fit_birth_lr['M']\n",
    "# nup = dict_fit_birth_lr['m']\n",
    "# Mm = dict_fit_death_lr['M']\n",
    "# num = dict_fit_death_lr['m']\n",
    "# model_name='Luo-Rudy'"
   ]
  },
  {
   "cell_type": "code",
   "execution_count": 40,
   "id": "9446f57c",
   "metadata": {
    "ExecuteTime": {
     "end_time": "2023-01-30T20:13:35.501201Z",
     "start_time": "2023-01-30T20:13:35.304401Z"
    },
    "hidden": true
   },
   "outputs": [],
   "source": [
    "#TODO: compute the eigenvalues of the transition matrix\n",
    "#TODO: compute the fraction terminated time trace initializing at the quasistatic distribution\n",
    "#estimate the quasistatic distribution\n",
    "L=5 #cm\n",
    "A=L**2\n",
    "num_iter=20\n",
    "\n",
    "#TODO: recall the powerlaw fits to the FK model \n",
    "#heretim\n",
    "\n",
    "# Wp = get_comp_W(A,nup,Mp)\n",
    "# Wm = get_comp_W(A,num,Mm)\n",
    "comp_Wp = get_comp_W(A,nup,Mp)\n",
    "comp_Wm = get_comp_W(A,num,Mm)\n",
    "Wp = njit(comp_Wp)\n",
    "Wm = njit(comp_Wm)\n",
    "\n",
    "# n_qs,prob_qs = comp_quasistatic_distrib_paired_bdrates(comp_Wm,comp_Wp,num_iter=num_iter,freq_prev=1.)\n",
    "n_qs,prob_qs = comp_quasistatic_distrib_paired_bdrates(Wm,Wp,num_iter=num_iter,freq_prev=100.)"
   ]
  },
  {
   "cell_type": "code",
   "execution_count": 41,
   "id": "4b2e779f",
   "metadata": {
    "ExecuteTime": {
     "end_time": "2023-01-30T20:13:35.617218Z",
     "start_time": "2023-01-30T20:13:35.599780Z"
    },
    "hidden": true
   },
   "outputs": [],
   "source": [
    "# DT=0.01\n",
    "# DT=0.0025\n",
    "# DT=0.0000025 #stable at N=Nmax measurement as initial condition\n",
    "DT=0.000025 #stable?\n",
    "dim=max_num_particles_init_over_2\n",
    "#precompute the transition matrix\n",
    "N_values = 2*(1+np.arange(dim))\n",
    "t_matrix=np.zeros((dim,dim))\n",
    "for i,N in enumerate(N_values):\n",
    "    flux_in_lo = Wp(N-2)\n",
    "    flux_in_hi = Wm(N+2)\n",
    "    flux_out= Wp(N) + Wm(N)\n",
    "    t_matrix[i,i]-=flux_out\n",
    "    t_matrix[i,i-1]+=flux_in_lo\n",
    "    if i+1<dim:\n",
    "        t_matrix[i,i+1]+=flux_in_hi\n",
    "#     else:\n",
    "#         #TODO: implement reflecting boundary conditions at the high particle number cutoff\n",
    "#         #heretim\n",
    "# #         t_matrix[i+1,i+1]+=flux_in_hi # is it that simple?\n",
    "#         t_matrix[i,i]+=flux_in_hi # is it that simple?\n",
    "        \n",
    "t_matrix[0,0] = -(Wm(2)+Wp(2)) # from N=2\n",
    "t_matrix[0,1] = Wm(4) # from N=4\n",
    "\n",
    "#reflecting bc at end\n",
    "Nmax=int(N_values[-1])\n",
    "# t_matrix[-1,-1] = -(Wm(Nmax)) #-(Wm(Nmax)+Wp(Nmax)) \n",
    "t_matrix[-1,-1] = -Wm(Nmax) #-(Wm(Nmax)+Wp(Nmax)) \n",
    "t_matrix[-1,-2] = Wp(Nmax-2) \n",
    "\n",
    "t_matrix*=DT #transfer func is now in dimensionless units \n",
    "\n",
    "#DONT: #transpose\n",
    "# t_matrix = t_matrix.T.copy()"
   ]
  },
  {
   "cell_type": "code",
   "execution_count": 42,
   "id": "2a47e50d",
   "metadata": {
    "ExecuteTime": {
     "end_time": "2023-01-30T20:13:35.890338Z",
     "start_time": "2023-01-30T20:13:35.884541Z"
    },
    "hidden": true
   },
   "outputs": [
    {
     "data": {
      "text/plain": [
       "((200,), 1.0000000000000002)"
      ]
     },
     "execution_count": 42,
     "metadata": {},
     "output_type": "execute_result"
    }
   ],
   "source": [
    "# num_iter=int(Nmax/2)\n",
    "N_qs,P_qs = comp_quasistatic_distrib_paired_bdrates(Wm,Wp,num_iter=dim,freq_prev=1.)\n",
    "# P_qs/=np.sum(P_qs) #normalize for 1.0000000000000002 floating point arith error\n",
    "# assert np.sum(P_qs)==1\n",
    "P_qs.shape,np.sum(P_qs)"
   ]
  },
  {
   "cell_type": "code",
   "execution_count": 43,
   "id": "8bd7cd89",
   "metadata": {
    "ExecuteTime": {
     "end_time": "2023-01-30T20:13:37.038125Z",
     "start_time": "2023-01-30T20:13:36.138709Z"
    },
    "hidden": true
   },
   "outputs": [
    {
     "name": "stdout",
     "output_type": "stream",
     "text": [
      "sum(P_values)=1.0000000000000004\n",
      "sum(P_values)=0.8443886393863168\n"
     ]
    }
   ],
   "source": [
    "num_steps=100000\n",
    "save_every=1000\n",
    "# num_steps=int(1e8)\n",
    "# save_every=10000\n",
    "# num_steps=int(1e6)  #gives a perfect exponential curve in <60 seconds\n",
    "#TODO: use  ^this 1e6 time steps to deduce the \n",
    "# functional dependence / gradients of nup,num,Mp,Mm evaluated at the full models\n",
    "\n",
    "#implement the absorbing boundary condition at N=0\n",
    "#TODO: do a basic numerical test case using an initial state measured to be at N=2.\n",
    "# P_values = np.zeros(dim)\n",
    "# P_values[0]=1. #measured to be at N=2.\n",
    "# P_values[-1]=1. #measured to be at N=Nmax.\n",
    "P_values=P_qs.copy()\n",
    "print(f\"{sum(P_values)=}\")\n",
    "# P_net_values = np.zeros(num_steps)-9999.\n",
    "P_net_lst=[]\n",
    "step_lst=[]\n",
    "for step in range(num_steps):\n",
    "    # dP_values=np.dot(t_matrix,P_values)\n",
    "    P_values+=np.dot(t_matrix,P_values)#dP_values\n",
    "    if step%save_every==0:\n",
    "        P_net = np.sum(P_values)\n",
    "        #record\n",
    "        P_net_lst.append(P_net)\n",
    "        step_lst.append(step)\n",
    "    #P_net_values[step]=P_net\n",
    "print(f\"{sum(P_values)=}\")\n",
    "P_net_values=np.array(P_net_lst)\n",
    "t_values=np.array(step_lst)*DT #seconds\n",
    "# t_values=np.arange(num_steps)*DT #seconds"
   ]
  },
  {
   "cell_type": "code",
   "execution_count": 46,
   "id": "30da65d6",
   "metadata": {
    "ExecuteTime": {
     "end_time": "2023-01-30T20:13:42.168093Z",
     "start_time": "2023-01-30T20:13:42.165545Z"
    },
    "hidden": true
   },
   "outputs": [],
   "source": [
    "# beep(3)"
   ]
  },
  {
   "cell_type": "code",
   "execution_count": 47,
   "id": "e13065a0",
   "metadata": {
    "ExecuteTime": {
     "end_time": "2023-01-30T20:13:43.160899Z",
     "start_time": "2023-01-30T20:13:43.158101Z"
    },
    "hidden": true
   },
   "outputs": [],
   "source": [
    "#TODO: implement the IMR using the iterative method"
   ]
  },
  {
   "cell_type": "markdown",
   "id": "290683e9",
   "metadata": {
    "hidden": true
   },
   "source": [
    "__Result__ all eigen values are strictly negative, supporting the existence of a rate limiting step that sets and the effective time scale for an exponential distribution of termination times.\n",
    "\n",
    "- TODO: plug ^that into letter and let them challenge me, bruh."
   ]
  },
  {
   "cell_type": "code",
   "execution_count": 48,
   "id": "cfd7ef7e",
   "metadata": {
    "ExecuteTime": {
     "end_time": "2023-01-30T20:13:44.269786Z",
     "start_time": "2023-01-30T20:13:44.125462Z"
    },
    "hidden": true
   },
   "outputs": [
    {
     "name": "stderr",
     "output_type": "stream",
     "text": [
      "/Users/timothytyree/opt/miniconda3/envs/pyenv/lib/python3.9/site-packages/numpy/core/_asarray.py:102: ComplexWarning: Casting complex values to real discards the imaginary part\n",
      "  return array(a, dtype, copy=False, order=order)\n"
     ]
    },
    {
     "data": {
      "image/png": "[encoded data removed]",
      "text/plain": [
       "<Figure size 432x288 with 1 Axes>"
      ]
     },
     "metadata": {
      "needs_background": "light"
     },
     "output_type": "display_data"
    }
   ],
   "source": [
    "plt.plot(np.linalg.eigvals(-t_matrix))\n",
    "# format_plot(use_loglog=True)\n",
    "plt.show()"
   ]
  },
  {
   "cell_type": "code",
   "execution_count": 49,
   "id": "0e98f7da",
   "metadata": {
    "ExecuteTime": {
     "end_time": "2023-01-30T20:13:44.901351Z",
     "start_time": "2023-01-30T20:13:44.519430Z"
    },
    "hidden": true
   },
   "outputs": [
    {
     "data": {
      "image/png": "[encoded data removed]",
      "text/plain": [
       "<Figure size 432x288 with 1 Axes>"
      ]
     },
     "metadata": {
      "needs_background": "light"
     },
     "output_type": "display_data"
    }
   ],
   "source": [
    "fig,ax=plt.subplots(figsize=(6,4))\n",
    "ax.plot(t_values,P_net_values,lw=1)\n",
    "# ax.plot(t_values,P_net_values,lw=1)\n",
    "# ax.set_xlim([DT/2,1.1])\n",
    "# ax.set_ylim([0.001,1])\n",
    "# ax.set_xscale('log')\n",
    "ax.set_yscale('log')\n",
    "format_plot(ax=ax,xlabel='time (s)',ylabel='fraction terminated',fontsize=14)\n",
    "ax.tick_params(top=True, right=True,direction='in',which='both')\n",
    "plt.show()"
   ]
  },
  {
   "cell_type": "code",
   "execution_count": 50,
   "id": "bddf8f18",
   "metadata": {
    "ExecuteTime": {
     "end_time": "2023-01-30T20:13:45.639814Z",
     "start_time": "2023-01-30T20:13:45.216732Z"
    },
    "hidden": true
   },
   "outputs": [
    {
     "data": {
      "image/png": "[encoded data removed]",
      "text/plain": [
       "<Figure size 432x288 with 2 Axes>"
      ]
     },
     "metadata": {
      "needs_background": "light"
     },
     "output_type": "display_data"
    }
   ],
   "source": [
    "sns.heatmap(t_matrix,vmin=-3,vmax=3,cmap='bwr')\n",
    "plt.show()"
   ]
  },
  {
   "cell_type": "code",
   "execution_count": 51,
   "id": "d644bb55",
   "metadata": {
    "ExecuteTime": {
     "end_time": "2023-01-30T20:13:45.758512Z",
     "start_time": "2023-01-30T20:13:45.755544Z"
    },
    "hidden": true
   },
   "outputs": [],
   "source": [
    "# dp_values =  #dpdt\n",
    "# dp_values*=DT"
   ]
  },
  {
   "cell_type": "code",
   "execution_count": 53,
   "id": "61a2d7a3",
   "metadata": {
    "ExecuteTime": {
     "end_time": "2023-01-30T20:13:48.525842Z",
     "start_time": "2023-01-30T20:13:48.523221Z"
    },
    "hidden": true
   },
   "outputs": [],
   "source": [
    "# Wp,Wm"
   ]
  },
  {
   "cell_type": "code",
   "execution_count": 31,
   "id": "e2e60caa",
   "metadata": {
    "ExecuteTime": {
     "end_time": "2023-01-30T20:12:48.477455Z",
     "start_time": "2023-01-30T20:12:48.473860Z"
    },
    "hidden": true
   },
   "outputs": [],
   "source": [
    "#TODO: dev one step method from the recurrance relation from the master equation\n",
    "#HINT: i can copy stuff from the quasistatic solution \n",
    "# if i don't want to transcribe my easily accessible notes from this afternoon.\n",
    "#TODO: compute transition from lo to hi\n",
    "#TODO: compute transition from hi to lo\n",
    "#TODO: format this as a matrix\n",
    "#TODO: multiply by the transition matrix until  "
   ]
  },
  {
   "cell_type": "code",
   "execution_count": 32,
   "id": "7b27145b",
   "metadata": {
    "ExecuteTime": {
     "end_time": "2023-01-30T20:12:49.478652Z",
     "start_time": "2023-01-30T20:12:49.476205Z"
    },
    "hidden": true
   },
   "outputs": [],
   "source": [
    "#TODO: compute thresholds lo and hi given N"
   ]
  },
  {
   "cell_type": "code",
   "execution_count": 33,
   "id": "f8644054",
   "metadata": {
    "ExecuteTime": {
     "end_time": "2023-01-30T20:12:49.844961Z",
     "start_time": "2023-01-30T20:12:49.842299Z"
    },
    "hidden": true
   },
   "outputs": [],
   "source": [
    "# pthresh_lo=?"
   ]
  },
  {
   "cell_type": "code",
   "execution_count": 34,
   "id": "02badb71",
   "metadata": {
    "ExecuteTime": {
     "end_time": "2023-01-30T20:12:50.387461Z",
     "start_time": "2023-01-30T20:12:50.384960Z"
    },
    "hidden": true
   },
   "outputs": [],
   "source": [
    "# pthresh_hi=?"
   ]
  },
  {
   "cell_type": "code",
   "execution_count": 54,
   "id": "7e888b30",
   "metadata": {
    "ExecuteTime": {
     "end_time": "2023-01-30T20:13:50.629570Z",
     "start_time": "2023-01-30T20:13:50.618273Z"
    },
    "hidden": true
   },
   "outputs": [
    {
     "data": {
      "text/plain": [
       "array([[0., 1., 0., ..., 0., 0., 0.],\n",
       "       [0., 0., 1., ..., 0., 0., 0.],\n",
       "       [0., 0., 0., ..., 0., 0., 0.],\n",
       "       ...,\n",
       "       [0., 0., 0., ..., 0., 1., 0.],\n",
       "       [0., 0., 0., ..., 0., 0., 1.],\n",
       "       [0., 0., 0., ..., 0., 0., 0.]])"
      ]
     },
     "execution_count": 54,
     "metadata": {},
     "output_type": "execute_result"
    }
   ],
   "source": [
    "dim=max_num_particles_init_over_2\n",
    "t_matrix=np.zeros((dim,dim))\n",
    "l_matrix=np.zeros((dim,dim))\n",
    "i_matrix=np.eye(dim)\n",
    "for i in range(dim):\n",
    "    im=i-1\n",
    "    #im=i+1\n",
    "    for j in range(dim):\n",
    "        if im==j:\n",
    "            l_matrix[i,j]=1\n",
    "# i_matrix      \n",
    "l_matrix.T"
   ]
  },
  {
   "cell_type": "code",
   "execution_count": null,
   "id": "f8a6cf33",
   "metadata": {
    "hidden": true
   },
   "outputs": [],
   "source": []
  },
  {
   "cell_type": "code",
   "execution_count": 36,
   "id": "85e7da64",
   "metadata": {
    "ExecuteTime": {
     "end_time": "2023-01-30T20:12:52.907663Z",
     "start_time": "2023-01-30T20:12:52.904705Z"
    },
    "hidden": true
   },
   "outputs": [],
   "source": [
    "# #TODO: derive the rate of growth/decay at each n value\n",
    "# N=6\n",
    "# random_state=42\n",
    "# assert N%2==0\n",
    "# np.random.seed(random_state)\n",
    "# p = np.random.rand()\n",
    "# if p<pthresh_lo:\n",
    "#     print(f\"oh oh! lo fo sho!\")\n",
    "# if p<pthresh_hi:\n",
    "#     print(f\"he hi! wanna come by!?\")"
   ]
  },
  {
   "cell_type": "code",
   "execution_count": null,
   "id": "dad5ab4c",
   "metadata": {
    "hidden": true
   },
   "outputs": [],
   "source": []
  },
  {
   "cell_type": "code",
   "execution_count": null,
   "id": "15dc4b26",
   "metadata": {
    "hidden": true
   },
   "outputs": [],
   "source": []
  },
  {
   "cell_type": "code",
   "execution_count": 37,
   "id": "3d4e8ae3",
   "metadata": {
    "ExecuteTime": {
     "end_time": "2023-01-30T20:12:54.858340Z",
     "start_time": "2023-01-30T20:12:54.855679Z"
    },
    "hidden": true
   },
   "outputs": [],
   "source": [
    "\n",
    "# # p_deque = deque(np.array(list(range(max_num_particles_init_over_2))))\n",
    "# # p_deque = deque(np.array(list(range(max_num_particles_init_over_2))))\n",
    "# n_deque = deque(np.arange(1,N+1))\n",
    "# p_deque = deque([0.*x for x in n_deque])\n",
    "# n_deque.\n",
    "# d = deque([1,2,3,4])\n",
    "\n",
    "# # # print d\n",
    "# # for x in d:\n",
    "# #     print x\n",
    "# # # print d.pop(), d"
   ]
  },
  {
   "cell_type": "markdown",
   "id": "b99172ff",
   "metadata": {},
   "source": [
    "# fit powerlaws to birth/death rates"
   ]
  },
  {
   "cell_type": "code",
   "execution_count": 5,
   "id": "f9e9b742",
   "metadata": {
    "ExecuteTime": {
     "end_time": "2023-02-07T20:02:22.913018Z",
     "start_time": "2023-02-07T20:02:22.897713Z"
    }
   },
   "outputs": [],
   "source": [
    "kwargs = dict(data_fk_dir=f'{nb_dir}/data/full_results/data_fig4_vidmar_fk_tt.csv',\n",
    "              data_lr_dir=f'{nb_dir}/data/full_results/data_fig4_vidmar_lr_tt.csv',\n",
    "             min_num_particles=9)\n",
    "dict_wjr = recall_death_rates_vidmar_rappel(**kwargs)\n",
    "fk=dict_wjr['fk'].sort_values(by='q')\n",
    "lr=dict_wjr['lr'].sort_values(by='q')"
   ]
  },
  {
   "cell_type": "code",
   "execution_count": 6,
   "id": "18efd93b",
   "metadata": {
    "ExecuteTime": {
     "end_time": "2023-02-07T20:02:23.248140Z",
     "start_time": "2023-02-07T20:02:23.238589Z"
    }
   },
   "outputs": [],
   "source": [
    "birth_rate_dir_fk = f'{nb_dir}//data/full_results/data_fig4_timothy_fk_up2_rescaled_per_tt.csv'\n",
    "birth_rate_dir_lr = f'{nb_dir}//data/full_results/data_fig4_timothy_lr_up2_rescaled_per_tt.csv'\n",
    "# birth_rate_dir_fk = '/home/timothytyree/Documents/GitHub/bgmc/python/data/full_results/data_fig4_timothy_fk_up2_rescaled_per_tt.csv'\n",
    "# birth_rate_dir_lr = '/home/timothytyree/Documents/GitHub/bgmc/python/data/full_results/data_fig4_timothy_lr_up2_rescaled_per_tt.csv'\n",
    "# death_rate_dir_fk = '/Users/timothytyree/Documents/GitHub/bgmc/python/data/full_results/data_fig4_vidmar_fk_rescaled_rates.csv'\n",
    "# death_rate_dir_lr = '/Users/timothytyree/Documents/GitHub/bgmc/python/data/full_results/data_fig4_vidmar_lr_rescaled_rates.csv'\n",
    "# df_death = pd.read_csv(death_rate_dir_fk)\n",
    "df_birth_fk = pd.read_csv(birth_rate_dir_fk)\n",
    "# df_death = pd.read_csv(death_rate_dir_lr)\n",
    "df_birth_lr = pd.read_csv(birth_rate_dir_lr)\n",
    "\n",
    "#scale from kHz to Hz\n",
    "df_birth_fk['w']*=1e3\n",
    "df_birth_lr['w']*=1e3"
   ]
  },
  {
   "cell_type": "code",
   "execution_count": 7,
   "id": "97e4eb3f",
   "metadata": {
    "ExecuteTime": {
     "end_time": "2023-02-07T20:02:23.646929Z",
     "start_time": "2023-02-07T20:02:23.637285Z"
    }
   },
   "outputs": [
    {
     "name": "stdout",
     "output_type": "stream",
     "text": [
      "m = 0.229594 +/- 0.010098\n",
      "M = 0.864210 +/- 0.002349 Hz/cm^2; B=0.529597 +/- 0.020570\n",
      "RMSE=0.0215 Hz/cm^2; R^2=0.9655; MPE=3.0209%; N=73\n",
      "m = 0.714755 +/- 0.009768\n",
      "M = 3.277073 +/- 0.102643 Hz/cm^2; B=5.262676 +/- 0.107278\n",
      "RMSE=0.0417 Hz/cm^2; R^2=0.9971; MPE=4.2323%; N=62\n",
      "\n",
      "wjr['fk_pbc']:\n",
      "m=1.8772341309722325\n",
      "Delta_m=0.02498750277237229\n",
      "M=5.572315674840435\n",
      "Delta_M=0.3053120355191732\n",
      "b=1.665608066257863\n",
      "Delta_b=0.029341409948945123\n",
      "\n",
      "wjr['lr_pbc']:\n",
      "m=1.6375562704001745\n",
      "Delta_m=0.017190912126700632\n",
      "M=16.73559858353835\n",
      "Delta_M=0.8465090320196467\n",
      "b=2.86877101880514\n",
      "Delta_b=0.0311865277365552\n",
      "\n",
      "wjr['fk_pbc']:\n",
      "m=1.8772341309722325\n",
      "Delta_m=0.02498750277237229\n",
      "M=5.572315674840435\n",
      "Delta_M=0.3053120355191732\n",
      "b=1.665608066257863\n",
      "Delta_b=0.029341409948945123\n",
      "\n",
      "wjr['lr_pbc']:\n",
      "m=1.6375562704001745\n",
      "Delta_m=0.017190912126700632\n",
      "M=16.73559858353835\n",
      "Delta_M=0.8465090320196467\n",
      "b=2.86877101880514\n",
      "Delta_b=0.0311865277365552\n"
     ]
    }
   ],
   "source": [
    "# DONE: compute powerlaw fits of birth rates wjr\n",
    "dict_fit_birth_fk = print_fit_power_law(x=df_birth_fk['q'].values,y=df_birth_fk['w'].values)\n",
    "dict_fit_birth_lr = print_fit_power_law(x=df_birth_lr['q'].values,y=df_birth_lr['w'].values)\n",
    "\n",
    "print(f\"\\nwjr['fk_pbc']:\")\n",
    "print_dict(wjr['fk_pbc'])\n",
    "print(f\"\\nwjr['lr_pbc']:\")\n",
    "print_dict(wjr['lr_pbc'])\n",
    "\n",
    "print(f\"\\nwjr['fk_pbc']:\")\n",
    "print_dict(wjr['fk_pbc'])\n",
    "print(f\"\\nwjr['lr_pbc']:\")\n",
    "print_dict(wjr['lr_pbc'])"
   ]
  },
  {
   "cell_type": "code",
   "execution_count": 8,
   "id": "c9317d93",
   "metadata": {
    "ExecuteTime": {
     "end_time": "2023-02-07T20:02:24.671052Z",
     "start_time": "2023-02-07T20:02:24.660658Z"
    }
   },
   "outputs": [
    {
     "data": {
      "text/plain": [
       "0.16999999999999996"
      ]
     },
     "execution_count": 8,
     "metadata": {},
     "output_type": "execute_result"
    }
   ],
   "source": [
    "xv = np.arange(0.02, 1,0.01)\n",
    "# evaluate powerlaw fits of birth rates wjr\n",
    "yv_birth_lr = dict_fit_birth_lr['M']*xv**dict_fit_birth_lr['m']\n",
    "yv_death_lr = wjr['lr_pbc']['M']*xv**wjr['lr_pbc']['m']\n",
    "# evalutate plot powerlaw fits of death rates wjr\n",
    "yv_birth_fk = dict_fit_birth_fk['M']*xv**dict_fit_birth_fk['m']\n",
    "yv_death_fk = wjr['fk_pbc']['M']*xv**wjr['fk_pbc']['m']\n",
    "# yv_birth_lr.shape,yv_birth_fk.shape\n",
    "\n",
    "#compute the intersection point for both of the full models\n",
    "index_fk = np.argmin(np.exp(np.log(yv_birth_fk/yv_death_fk)**2))\n",
    "qstar_fk = xv[index_fk]\n",
    "wstar_fk = yv_birth_fk[index_fk]\n",
    "# index_lr = np.argmin(np.log(yv_birth_lr/yv_death_lr)**2)\n",
    "index_lr = np.argmin(np.exp(np.log(yv_birth_lr/yv_death_lr)**2))\n",
    "qstar_lr = xv[index_lr]\n",
    "wstar_lr = yv_birth_lr[index_lr]\n",
    "qstar_lr"
   ]
  },
  {
   "cell_type": "code",
   "execution_count": 9,
   "id": "0238d5a0",
   "metadata": {
    "ExecuteTime": {
     "end_time": "2023-02-07T20:02:26.175495Z",
     "start_time": "2023-02-07T20:02:25.196420Z"
    },
    "scrolled": true
   },
   "outputs": [
    {
     "data": {
      "image/png": "[encoded data removed]",
      "text/plain": [
       "<Figure size 600x400 with 1 Axes>"
      ]
     },
     "metadata": {},
     "output_type": "display_data"
    }
   ],
   "source": [
    "fig,ax=plt.subplots(figsize=(6,4))\n",
    "fontsize=16\n",
    "alpha=0.9\n",
    "markersize=30\n",
    "df_birth_fk.plot.scatter(x='q',y='w',ax=ax,c='C0',#'gray',#\n",
    "                         marker='^',\n",
    "                         alpha=1.,label=r'FK: N$\\rightarrow$N+2',s=markersize)\n",
    "fk.plot.scatter(x='q',y='w',ax=ax,c='C0',label=r'FK: N$\\rightarrow$N-2',s=markersize)\n",
    "df_birth_lr.plot.scatter(x='q',y='w',ax=ax,c='C1',#'r',#\n",
    "                        marker='^',\n",
    "                         alpha=1.,label=r'LR: N$\\rightarrow$N+2',s=markersize)\n",
    "lr.plot.scatter(x='q',y='w',ax=ax,c='C1',label=r'LR: N$\\rightarrow$N-2',s=markersize)\n",
    "#plot the powerlaw fits\n",
    "ax.plot(xv,yv_death_fk,'k--',alpha=0.5)\n",
    "ax.plot(xv,yv_death_lr,'k--',alpha=0.5)\n",
    "ax.plot(xv,yv_birth_fk,'k--',alpha=0.5)\n",
    "ax.plot(xv,yv_birth_lr,'k--',alpha=0.5)\n",
    "#draw vertical dotted line up to the intersection point for both of the full models\n",
    "ax.scatter([qstar_fk],[wstar_fk],c='k',s=40,alpha=0.9,zorder=100)\n",
    "ax.scatter([qstar_lr],[wstar_lr],c='k',s=40,alpha=0.9,zorder=100)\n",
    "# ax.plot([qstar_fk,qstar_fk],[0.001,wstar_fk],'k:',alpha=0.9)\n",
    "# ax.plot([qstar_lr,qstar_lr],[0.001,wstar_lr],'k:',alpha=0.9)\n",
    "# format_plot\n",
    "format_plot(ax=ax,xlabel=r'n (1/cm$^2$)',ylabel=r'w (Hz/cm$^2$)',fontsize=fontsize)#,use_loglog=True)\n",
    "plt.legend(fontsize=14,frameon=False,loc='upper left')\n",
    "ax.set_xscale('log')\n",
    "ax.set_yscale('log')\n",
    "ax.set_ylim((0.0023641776732192935, 25.08908114695242))\n",
    "ax.tick_params(top=True, right=True,direction='in',which='both')\n",
    "plt.show()"
   ]
  },
  {
   "cell_type": "markdown",
   "id": "1b679518",
   "metadata": {},
   "source": [
    "# analytical check: test whether tau(N_0) increases exponentially with A"
   ]
  },
  {
   "cell_type": "markdown",
   "id": "f57720f6",
   "metadata": {},
   "source": [
    "We have an expressions for $\\tau(N)$ in terms of the action variable, $\\phi$:\n",
    " \n",
    "$$\n",
    "\\tau(N) = \\sum_{k=1}^{N/2} \\phi(2(k-1)) \\sum_{j=k}^\\infty \\frac{1}{\\phi(2j)W_{+2}(2j)},\n",
    "$$\n",
    "and \n",
    "$$\n",
    "\\phi(k) = \\Pi_{i=1}^{k/2} \\frac{W_{-2}(2i)}{W_{+2}(2i)}.\n",
    "$$\n",
    "\n",
    "Given the mean termination time conditioned on $N$ particles existing, we estimate the mean termination time according to:\n",
    "$$\n",
    "\\mathbb{E}[\\tau] = \\sum_{N=0}^\\infty \\tau(N) P(N)\n",
    "$$\n",
    "Where $P(N)$ is the quasistatic distribution.\n"
   ]
  },
  {
   "cell_type": "code",
   "execution_count": 10,
   "id": "111c70b0",
   "metadata": {
    "ExecuteTime": {
     "end_time": "2023-02-07T20:02:34.807009Z",
     "start_time": "2023-02-07T20:02:34.803693Z"
    }
   },
   "outputs": [],
   "source": [
    "#DONE: get token inputs prepared\n",
    "dict_fit_death_lr = dict(wjr['lr_pbc'])\n",
    "dict_fit_death_fk = dict(wjr['fk_pbc'])\n",
    "Mp = dict_fit_birth_fk['M']\n",
    "nup = dict_fit_birth_fk['m']\n",
    "Mm = dict_fit_death_fk['M']\n",
    "num = dict_fit_death_fk['m']\n",
    "model_name='Fenton-Karma'\n",
    "\n",
    "# Mp = dict_fit_birth_lr['M']\n",
    "# nup = dict_fit_birth_lr['m']\n",
    "# Mm = dict_fit_death_lr['M']\n",
    "# num = dict_fit_death_lr['m']\n",
    "# model_name='Luo-Rudy'"
   ]
  },
  {
   "cell_type": "code",
   "execution_count": 11,
   "id": "8a4146be",
   "metadata": {
    "ExecuteTime": {
     "end_time": "2023-02-07T20:02:35.535943Z",
     "start_time": "2023-02-07T20:02:35.531758Z"
    }
   },
   "outputs": [
    {
     "name": "stdout",
     "output_type": "stream",
     "text": [
      "universal inputs\n",
      "Mp=0.8642103569057054; nup=0.22959399086621063\n",
      "Mm=5.572315674840435; num=1.8772341309722325\n",
      "--> qstar=0.3200; wstar=0.6653\n"
     ]
    }
   ],
   "source": [
    "print(f\"universal inputs\")\n",
    "print(f\"{Mp=}; {nup=}\")\n",
    "print(f\"{Mm=}; {num=}\")\n",
    "\n",
    "xv = np.arange(0.02, 1,0.01)\n",
    "qstar,wstar = comp_powerlaw_intersection(Mp,nup,Mm,num,xv=xv)\n",
    "print(f\"--> {qstar=:.4f}; {wstar=:.4f}\")"
   ]
  },
  {
   "cell_type": "code",
   "execution_count": 12,
   "id": "28cbf9e8",
   "metadata": {
    "ExecuteTime": {
     "end_time": "2023-02-07T20:02:41.358933Z",
     "start_time": "2023-02-07T20:02:35.935626Z"
    },
    "scrolled": true
   },
   "outputs": [
    {
     "data": {
      "text/html": [
       "<div>\n",
       "<style scoped>\n",
       "    .dataframe tbody tr th:only-of-type {\n",
       "        vertical-align: middle;\n",
       "    }\n",
       "\n",
       "    .dataframe tbody tr th {\n",
       "        vertical-align: top;\n",
       "    }\n",
       "\n",
       "    .dataframe thead th {\n",
       "        text-align: right;\n",
       "    }\n",
       "</style>\n",
       "<table border=\"1\" class=\"dataframe\">\n",
       "  <thead>\n",
       "    <tr style=\"text-align: right;\">\n",
       "      <th></th>\n",
       "      <th>A</th>\n",
       "      <th>N0</th>\n",
       "      <th>tau</th>\n",
       "      <th>Nbar</th>\n",
       "    </tr>\n",
       "  </thead>\n",
       "  <tbody>\n",
       "    <tr>\n",
       "      <th>0</th>\n",
       "      <td>5</td>\n",
       "      <td>2</td>\n",
       "      <td>0.243042</td>\n",
       "      <td>1.6</td>\n",
       "    </tr>\n",
       "    <tr>\n",
       "      <th>1</th>\n",
       "      <td>5</td>\n",
       "      <td>4</td>\n",
       "      <td>0.303718</td>\n",
       "      <td>1.6</td>\n",
       "    </tr>\n",
       "    <tr>\n",
       "      <th>2</th>\n",
       "      <td>5</td>\n",
       "      <td>6</td>\n",
       "      <td>0.330996</td>\n",
       "      <td>1.6</td>\n",
       "    </tr>\n",
       "    <tr>\n",
       "      <th>3</th>\n",
       "      <td>5</td>\n",
       "      <td>8</td>\n",
       "      <td>0.346573</td>\n",
       "      <td>1.6</td>\n",
       "    </tr>\n",
       "    <tr>\n",
       "      <th>4</th>\n",
       "      <td>5</td>\n",
       "      <td>10</td>\n",
       "      <td>0.356696</td>\n",
       "      <td>1.6</td>\n",
       "    </tr>\n",
       "  </tbody>\n",
       "</table>\n",
       "</div>"
      ],
      "text/plain": [
       "   A  N0       tau  Nbar\n",
       "0  5   2  0.243042   1.6\n",
       "1  5   4  0.303718   1.6\n",
       "2  5   6  0.330996   1.6\n",
       "3  5   8  0.346573   1.6\n",
       "4  5  10  0.356696   1.6"
      ]
     },
     "execution_count": 12,
     "metadata": {},
     "output_type": "execute_result"
    }
   ],
   "source": [
    "# A_values = np.arange(5,100,1)\n",
    "A_values = np.arange(5,400,5)\n",
    "# A_values = np.arange(10,1000,5)\n",
    "N0_values = np.arange(2,12,2)\n",
    "# N0_values = np.arange(2,40,2)\n",
    "# maxinf_num_inner_sum=20 # high particle number cutoff\n",
    "# maxinf_num_inner_sum=np.max(N0_values)+10 # high particle number cutoff\n",
    "# maxinf_num_inner_sum=np.max(N0_values)+10 # high particle number cutoff\n",
    "maxinf_num_inner_sum=100 # high particle number cutoff\n",
    "\n",
    "dict_tau_lst=[]\n",
    "for A in A_values:\n",
    "    comp_Wp = get_comp_W(A,nup,Mp)\n",
    "    comp_Wm = get_comp_W(A,num,Mm)\n",
    "#     comp_Wp = njit(get_comp_W(A,nup,Mp))\n",
    "#     comp_Wm = njit(get_comp_W(A,num,Mm))\n",
    "    phi = get_phi(comp_Wm,comp_Wp)\n",
    "    eval_tau= get_eval_tau(eval_tau_expression)\n",
    "#     #compute average over initial values\n",
    "#     n_qs,prob_qs = comp_quasistatic_distrib_paired_bdrates(comp_Wm,comp_Wp,num_iter=20)\n",
    "#     taubar = eval_tau(n_qs, prob_qs, phi, comp_Wm, comp_Wp, printing=False,**kwargs)\n",
    "    Nbar = qstar*A\n",
    "\n",
    "    for N0 in N0_values:\n",
    "        tau = eval_tau_expression(n_over_2 = int(np.floor(N0/2)),phi=phi, comp_Wm=comp_Wm, comp_Wp=comp_Wp, maxinf_num_inner_sum=maxinf_num_inner_sum,printing=False)\n",
    "#         tau = eval_tau_expression(n_over_2 = int(np.floor(N0/2)),phi=phi, comp_Wm=comp_Wm, comp_Wp=comp_Wp, maxinf_num_inner_sum=int(Nbar)+2,printing=False)\n",
    "        #record\n",
    "        dict_tau_lst.append(dict(\n",
    "            A=A,\n",
    "            N0=N0,\n",
    "            tau=tau,\n",
    "#             taubar=taubar,\n",
    "            Nbar=Nbar,\n",
    "        ))\n",
    "df_tau = pd.DataFrame(dict_tau_lst)\n",
    "df_tau.head()"
   ]
  },
  {
   "cell_type": "code",
   "execution_count": 13,
   "id": "64dc897a",
   "metadata": {
    "ExecuteTime": {
     "end_time": "2023-02-07T20:02:41.676090Z",
     "start_time": "2023-02-07T20:02:41.361215Z"
    }
   },
   "outputs": [
    {
     "data": {
      "image/png": "[encoded data removed]",
      "text/plain": [
       "<Figure size 500x400 with 2 Axes>"
      ]
     },
     "metadata": {},
     "output_type": "display_data"
    }
   ],
   "source": [
    "#basic scatter plot of the data\n",
    "figsize=(5,4)\n",
    "cmap='viridis'\n",
    "vmin=0\n",
    "vmax=np.max(N0_values)\n",
    "fontsize=14\n",
    "fig,ax=plt.subplots(figsize=figsize)\n",
    "#plot data\n",
    "df_tau.plot.scatter(x='A',y='tau',c='N0',s=10,alpha=0.7,\n",
    "                    cmap=cmap,ax=ax,vmin=vmin,vmax=vmax,colorbar=False)\n",
    "    \n",
    "#add colorbar\n",
    "norm = mpl.colors.Normalize(vmin=vmin, vmax=vmax)\n",
    "# norm = mpl.colors.LogNorm(vmin=vmin, vmax=vmax)\n",
    "cmap_obj = mpl.cm.get_cmap(cmap)\n",
    "cax = fig.add_axes([0.95, 0.2, 0.02, 0.6])\n",
    "cb = mpl.colorbar.ColorbarBase(cax,\n",
    "                               cmap=cmap_obj,\n",
    "                               norm=norm,\n",
    "                               spacing='proportional')\n",
    "cb.set_label(r'$N_0$', fontsize=fontsize)\n",
    "cb.ax.tick_params(labelsize=fontsize)\n",
    "ax.tick_params(top=True, right=True,direction='in',which='both')\n",
    "\n",
    "# format_plot\n",
    "format_plot(ax=ax,xlabel=r'$A$   (cm$^2$)',ylabel=r'$\\tau(N_0)$   (s)',fontsize=fontsize)\n",
    "ax.set_title(model_name,fontsize=fontsize)\n",
    "ax.set_yscale('log')\n",
    "# plt.tight_layout()\n",
    "plt.show()"
   ]
  },
  {
   "cell_type": "code",
   "execution_count": null,
   "id": "1212ae0d",
   "metadata": {},
   "outputs": [],
   "source": []
  },
  {
   "cell_type": "markdown",
   "id": "4ffcb5a5",
   "metadata": {
    "heading_collapsed": true
   },
   "source": [
    "## scratch work"
   ]
  },
  {
   "cell_type": "code",
   "execution_count": 14,
   "id": "84d581b1",
   "metadata": {
    "ExecuteTime": {
     "end_time": "2023-02-07T04:05:57.944774Z",
     "start_time": "2023-02-07T04:05:57.942226Z"
    },
    "hidden": true
   },
   "outputs": [],
   "source": [
    "# TODO(later): search for universal relations involving tau(N_0) and A"
   ]
  },
  {
   "cell_type": "code",
   "execution_count": 15,
   "id": "232f8dfd",
   "metadata": {
    "ExecuteTime": {
     "end_time": "2023-02-07T04:05:57.950778Z",
     "start_time": "2023-02-07T04:05:57.948082Z"
    },
    "hidden": true
   },
   "outputs": [],
   "source": [
    "groups = df_tau.groupby(by='N0')"
   ]
  },
  {
   "cell_type": "code",
   "execution_count": 16,
   "id": "c1b39e41",
   "metadata": {
    "ExecuteTime": {
     "end_time": "2023-02-07T04:05:57.958953Z",
     "start_time": "2023-02-07T04:05:57.953067Z"
    },
    "hidden": true
   },
   "outputs": [],
   "source": [
    "\n",
    "#\n",
    "#define xy columns\n",
    "df_tau['x'] = df_tau['A']\n",
    "df_tau['y'] = df_tau['tau']\n",
    "#TODO: extract xy values\n",
    "for N0,g in df_tau.groupby(by='N0'):\n",
    "    pass\n",
    "x_values = g['A'].values #A\n",
    "# x_values = N0/g['A'].values #q\n"
   ]
  },
  {
   "cell_type": "markdown",
   "id": "671ae28a",
   "metadata": {
    "ExecuteTime": {
     "end_time": "2022-12-18T21:41:11.315619Z",
     "start_time": "2022-12-18T21:41:11.267284Z"
    }
   },
   "source": [
    "# plot $\\tau(N_0)$ versus $A$ for both the full models"
   ]
  },
  {
   "cell_type": "code",
   "execution_count": 138,
   "id": "4bf05fc4",
   "metadata": {
    "ExecuteTime": {
     "end_time": "2023-02-07T20:24:15.680452Z",
     "start_time": "2023-02-07T20:24:15.674872Z"
    }
   },
   "outputs": [
    {
     "data": {
      "text/plain": [
       "array([ 2, 20])"
      ]
     },
     "execution_count": 138,
     "metadata": {},
     "output_type": "execute_result"
    }
   ],
   "source": [
    "N0_values = np.arange(2,12,2)\n",
    "# N0_values = np.arange(2,40,2)\n",
    "N0_values = np.array([2,20])\n",
    "N0_values"
   ]
  },
  {
   "cell_type": "code",
   "execution_count": 139,
   "id": "e57e458f",
   "metadata": {
    "ExecuteTime": {
     "end_time": "2023-02-07T20:24:16.017910Z",
     "start_time": "2023-02-07T20:24:16.012368Z"
    }
   },
   "outputs": [
    {
     "data": {
      "text/plain": [
       "(10.0, 1.0)"
      ]
     },
     "execution_count": 139,
     "metadata": {},
     "output_type": "execute_result"
    }
   ],
   "source": [
    "np.floor(20/2),np.floor(2/2)"
   ]
  },
  {
   "cell_type": "code",
   "execution_count": 140,
   "id": "714036ff",
   "metadata": {
    "ExecuteTime": {
     "end_time": "2023-02-07T20:24:20.345883Z",
     "start_time": "2023-02-07T20:24:16.334242Z"
    }
   },
   "outputs": [
    {
     "name": "stdout",
     "output_type": "stream",
     "text": [
      "universal inputs\n",
      "Mp=0.8642103569057054; nup=0.22959399086621063\n",
      "Mm=5.572315674840435; num=1.8772341309722325\n",
      "--> qstar=0.3200; wstar=0.6653\n"
     ]
    }
   ],
   "source": [
    "#DONE: get token inputs prepared\n",
    "dict_fit_death_lr = dict(wjr['lr_pbc'])\n",
    "dict_fit_death_fk = dict(wjr['fk_pbc'])\n",
    "Mp = dict_fit_birth_fk['M']\n",
    "nup = dict_fit_birth_fk['m']\n",
    "Mm = dict_fit_death_fk['M']\n",
    "num = dict_fit_death_fk['m']\n",
    "model_name='Fenton-Karma'\n",
    "\n",
    "# Mp = dict_fit_birth_lr['M']\n",
    "# nup = dict_fit_birth_lr['m']\n",
    "# Mm = dict_fit_death_lr['M']\n",
    "# num = dict_fit_death_lr['m']\n",
    "# model_name='Luo-Rudy'\n",
    "\n",
    "print(f\"universal inputs\")\n",
    "print(f\"{Mp=}; {nup=}\")\n",
    "print(f\"{Mm=}; {num=}\")\n",
    "\n",
    "xv = np.arange(0.02, 1,0.01)\n",
    "qstar,wstar = comp_powerlaw_intersection(Mp,nup,Mm,num,xv=xv)\n",
    "print(f\"--> {qstar=:.4f}; {wstar=:.4f}\")\n",
    "\n",
    "# A_values = np.arange(5,100,1)\n",
    "A_values = np.arange(5,400,5)\n",
    "# A_values = np.arange(10,1000,5)\n",
    "# N0_values = np.arange(2,12,2)\n",
    "# # N0_values = np.arange(2,40,2)\n",
    "# maxinf_num_inner_sum=20 # high particle number cutoff\n",
    "# maxinf_num_inner_sum=np.max(N0_values)+10 # high particle number cutoff\n",
    "# maxinf_num_inner_sum=np.max(N0_values)+10 # high particle number cutoff\n",
    "maxinf_num_inner_sum=100 # high particle number cutoff\n",
    "\n",
    "dict_tau_lst=[]\n",
    "for A in A_values:\n",
    "    comp_Wp = get_comp_W(A,nup,Mp)\n",
    "    comp_Wm = get_comp_W(A,num,Mm)\n",
    "#     comp_Wp = njit(get_comp_W(A,nup,Mp))\n",
    "#     comp_Wm = njit(get_comp_W(A,num,Mm))\n",
    "    phi = get_phi(comp_Wm,comp_Wp)\n",
    "    eval_tau= get_eval_tau(eval_tau_expression)\n",
    "#     #compute average over initial values\n",
    "#     n_qs,prob_qs = comp_quasistatic_distrib_paired_bdrates(comp_Wm,comp_Wp,num_iter=20)\n",
    "#     taubar = eval_tau(n_qs, prob_qs, phi, comp_Wm, comp_Wp, printing=False,**kwargs)\n",
    "    Nbar = qstar*A\n",
    "\n",
    "    for N0 in N0_values:\n",
    "        tau = eval_tau_expression(n_over_2 = int(np.floor(N0/2)),phi=phi, comp_Wm=comp_Wm, comp_Wp=comp_Wp, maxinf_num_inner_sum=maxinf_num_inner_sum,printing=False)\n",
    "#         tau = eval_tau_expression(n_over_2 = int(np.floor(N0/2)),phi=phi, comp_Wm=comp_Wm, comp_Wp=comp_Wp, maxinf_num_inner_sum=int(Nbar)+2,printing=False)\n",
    "        #record\n",
    "        dict_tau_lst.append(dict(\n",
    "            A=A,\n",
    "            N0=N0,\n",
    "            tau=tau,\n",
    "#             taubar=taubar,\n",
    "            Nbar=Nbar,\n",
    "        ))\n",
    "df_tau = pd.DataFrame(dict_tau_lst)\n",
    "df_tau_fk = df_tau.copy()"
   ]
  },
  {
   "cell_type": "code",
   "execution_count": 141,
   "id": "bb8aaeaf",
   "metadata": {
    "ExecuteTime": {
     "end_time": "2023-02-07T20:24:24.607047Z",
     "start_time": "2023-02-07T20:24:20.347833Z"
    }
   },
   "outputs": [
    {
     "name": "stdout",
     "output_type": "stream",
     "text": [
      "universal inputs\n",
      "Mp=3.2770725040489235; nup=0.7147550082416185\n",
      "Mm=16.73559858353835; num=1.6375562704001745\n",
      "--> qstar=0.1700; wstar=0.9235\n"
     ]
    }
   ],
   "source": [
    "#DONE: get token inputs prepared\n",
    "# dict_fit_death_lr = dict(wjr['lr_pbc'])\n",
    "# dict_fit_death_fk = dict(wjr['fk_pbc'])\n",
    "# Mp = dict_fit_birth_fk['M']\n",
    "# nup = dict_fit_birth_fk['m']\n",
    "# Mm = dict_fit_death_fk['M']\n",
    "# num = dict_fit_death_fk['m']\n",
    "# model_name='Fenton-Karma'\n",
    "\n",
    "Mp = dict_fit_birth_lr['M']\n",
    "nup = dict_fit_birth_lr['m']\n",
    "Mm = dict_fit_death_lr['M']\n",
    "num = dict_fit_death_lr['m']\n",
    "model_name='Luo-Rudy'\n",
    "\n",
    "print(f\"universal inputs\")\n",
    "print(f\"{Mp=}; {nup=}\")\n",
    "print(f\"{Mm=}; {num=}\")\n",
    "\n",
    "xv = np.arange(0.02, 1,0.01)\n",
    "qstar,wstar = comp_powerlaw_intersection(Mp,nup,Mm,num,xv=xv)\n",
    "print(f\"--> {qstar=:.4f}; {wstar=:.4f}\")\n",
    "\n",
    "# A_values = np.arange(5,100,1)\n",
    "A_values = np.arange(5,400,5)\n",
    "# A_values = np.arange(10,1000,5)\n",
    "# N0_values = np.arange(2,12,2)\n",
    "# # N0_values = np.arange(2,40,2)\n",
    "# maxinf_num_inner_sum=20 # high particle number cutoff\n",
    "# maxinf_num_inner_sum=np.max(N0_values)+10 # high particle number cutoff\n",
    "# maxinf_num_inner_sum=np.max(N0_values)+10 # high particle number cutoff\n",
    "maxinf_num_inner_sum=100 # high particle number cutoff\n",
    "\n",
    "dict_tau_lst=[]\n",
    "for A in A_values:\n",
    "    comp_Wp = get_comp_W(A,nup,Mp)\n",
    "    comp_Wm = get_comp_W(A,num,Mm)\n",
    "#     comp_Wp = njit(get_comp_W(A,nup,Mp))\n",
    "#     comp_Wm = njit(get_comp_W(A,num,Mm))\n",
    "    phi = get_phi(comp_Wm,comp_Wp)\n",
    "    eval_tau= get_eval_tau(eval_tau_expression)\n",
    "#     #compute average over initial values\n",
    "#     n_qs,prob_qs = comp_quasistatic_distrib_paired_bdrates(comp_Wm,comp_Wp,num_iter=20)\n",
    "#     taubar = eval_tau(n_qs, prob_qs, phi, comp_Wm, comp_Wp, printing=False,**kwargs)\n",
    "    Nbar = qstar*A\n",
    "\n",
    "    for N0 in N0_values:\n",
    "        tau = eval_tau_expression(n_over_2 = int(np.floor(N0/2)),phi=phi, comp_Wm=comp_Wm, comp_Wp=comp_Wp, maxinf_num_inner_sum=maxinf_num_inner_sum,printing=False)\n",
    "#         tau = eval_tau_expression(n_over_2 = int(np.floor(N0/2)),phi=phi, comp_Wm=comp_Wm, comp_Wp=comp_Wp, maxinf_num_inner_sum=int(Nbar)+2,printing=False)\n",
    "        #record\n",
    "        dict_tau_lst.append(dict(\n",
    "            A=A,\n",
    "            N0=N0,\n",
    "            tau=tau,\n",
    "#             taubar=taubar,\n",
    "            Nbar=Nbar,\n",
    "        ))\n",
    "df_tau = pd.DataFrame(dict_tau_lst)\n",
    "df_tau_lr = df_tau.copy()"
   ]
  },
  {
   "cell_type": "code",
   "execution_count": null,
   "id": "0eb7ee71",
   "metadata": {
    "ExecuteTime": {
     "end_time": "2023-02-07T20:02:59.014141Z",
     "start_time": "2023-02-07T20:02:59.010568Z"
    }
   },
   "outputs": [],
   "source": []
  },
  {
   "cell_type": "code",
   "execution_count": 142,
   "id": "cf5e7a2f",
   "metadata": {
    "ExecuteTime": {
     "end_time": "2023-02-07T20:24:24.897992Z",
     "start_time": "2023-02-07T20:24:24.608907Z"
    }
   },
   "outputs": [
    {
     "data": {
      "image/png": "[encoded data removed]",
      "text/plain": [
       "<Figure size 400x400 with 1 Axes>"
      ]
     },
     "metadata": {},
     "output_type": "display_data"
    }
   ],
   "source": [
    "#basic scatter plot of the data at N_0 fixed\n",
    "N0 = 2\n",
    "N0 = 20\n",
    "# xlim\n",
    "figsize=(4,4)\n",
    "fontsize=16\n",
    "markersize=10\n",
    "alpha=1.0\n",
    "ylim = (0.0005007487135910895, 5.156057164412211e+44)\n",
    "# ylim=0.0005,100\n",
    "# xlim=1,20\n",
    "\n",
    "# alpha=0.7\n",
    "fig,ax=plt.subplots(figsize=figsize)\n",
    "#plot data\n",
    "# df_tau_fk[df_tau_fk['N0']==N0].plot.scatter(x='A',y='tau',s=markersize,alpha=alpha,ax=ax,label='Fenton-Karma',color='C0')\n",
    "# df_tau_lr[df_tau_lr['N0']==N0].plot.scatter(x='A',y='tau',s=markersize,alpha=alpha,ax=ax,label='Luo-Rudy',color='C1')\n",
    "df_tau_fk[df_tau_fk['N0']==N0].plot(x='A',y='tau',alpha=alpha,ax=ax,label='Fenton-Karma',color='C0',lw=2)\n",
    "df_tau_lr[df_tau_lr['N0']==N0].plot(x='A',y='tau',alpha=alpha,ax=ax,label='Luo-Rudy',color='C1',lw=2)\n",
    "    \n",
    "# format_plot\n",
    "# format_plot(ax=ax,xlabel=r'$A$   (cm$^2$)',ylabel=r'$\\tau(N_0)$   (s)',fontsize=fontsize)\n",
    "format_plot(ax=ax,xlabel=r'$A$   (cm$^2$)',ylabel=r'$\\tau\\;$($N_0=$'+f'{N0})   (s)',fontsize=fontsize)\n",
    "# ax.set_title(model_name,fontsize=fontsize)\n",
    "ax.set_yscale('log')\n",
    "# plt.tight_layout()\n",
    "ax.tick_params(top=True, right=True,direction='in',which='both')\n",
    "ax.legend(fontsize=fontsize-2,frameon=False,loc='upper left')\n",
    "# ax.set_xlim(xlim)\n",
    "ax.set_ylim(ylim)\n",
    "plt.show()"
   ]
  },
  {
   "cell_type": "code",
   "execution_count": 143,
   "id": "3ab0fc97",
   "metadata": {
    "ExecuteTime": {
     "end_time": "2023-02-07T20:24:25.190345Z",
     "start_time": "2023-02-07T20:24:24.902491Z"
    }
   },
   "outputs": [
    {
     "data": {
      "image/png": "[encoded data removed]",
      "text/plain": [
       "<Figure size 400x400 with 1 Axes>"
      ]
     },
     "metadata": {},
     "output_type": "display_data"
    }
   ],
   "source": [
    "#basic scatter plot of the data at N_0 fixed\n",
    "# N0 = 2\n",
    "N0 = 20\n",
    "# xlim\n",
    "figsize=(4,4)\n",
    "fontsize=16\n",
    "markersize=10\n",
    "alpha=1.0\n",
    "# ylim = (0.0005007487135910895, 5.156057164412211e+44)\n",
    "# alpha=0.7\n",
    "fig,ax=plt.subplots(figsize=figsize)\n",
    "#plot data\n",
    "# df_tau_fk[df_tau_fk['N0']==N0].plot.scatter(x='A',y='tau',s=markersize,alpha=alpha,ax=ax,label='Fenton-Karma',color='C0')\n",
    "# df_tau_lr[df_tau_lr['N0']==N0].plot.scatter(x='A',y='tau',s=markersize,alpha=alpha,ax=ax,label='Luo-Rudy',color='C1')\n",
    "df_tau_fk[df_tau_fk['N0']==N0].plot(x='A',y='tau',alpha=alpha,ax=ax,label='Fenton-Karma',color='C0',lw=2)\n",
    "df_tau_lr[df_tau_lr['N0']==N0].plot(x='A',y='tau',alpha=alpha,ax=ax,label='Luo-Rudy',color='C1',lw=2)\n",
    "    \n",
    "# format_plot\n",
    "# format_plot(ax=ax,xlabel=r'$A$   (cm$^2$)',ylabel=r'$\\tau(N_0)$   (s)',fontsize=fontsize)\n",
    "format_plot(ax=ax,xlabel=r'$A$   (cm$^2$)',ylabel=r'$\\tau\\;$($N_0=$'+f'{N0})   (s)',fontsize=fontsize)\n",
    "# ax.set_title(model_name,fontsize=fontsize)\n",
    "ax.set_yscale('log')\n",
    "# plt.tight_layout()\n",
    "ax.tick_params(top=True, right=True,direction='in',which='both')\n",
    "ax.legend(fontsize=fontsize-2,frameon=False,loc='upper left')\n",
    "ax.set_ylim(ylim)\n",
    "# ax.set_ylim(xlim)\n",
    "plt.show()"
   ]
  },
  {
   "cell_type": "code",
   "execution_count": 144,
   "id": "5c8af2b9",
   "metadata": {
    "ExecuteTime": {
     "end_time": "2023-02-07T20:24:25.196804Z",
     "start_time": "2023-02-07T20:24:25.193182Z"
    }
   },
   "outputs": [],
   "source": [
    "#DONE: zoom into small A and verify that N0=2 is not erroneously N0=20\n",
    "#DONE: add exponential fits as dotted lines to ibid\n",
    "#DONT: figure how the characteristic Ac varies with the parameters\n",
    "#HINT: start with my hypothesis, A0, as Ac.\n",
    "#DONE: get token inputs prepared\n",
    "# dict_fit_death_lr = dict(wjr['lr_pbc'])\n",
    "# dict_fit_death_fk = dict(wjr['fk_pbc'])"
   ]
  },
  {
   "cell_type": "code",
   "execution_count": 145,
   "id": "84ffddd4",
   "metadata": {
    "ExecuteTime": {
     "end_time": "2023-02-07T20:24:25.205422Z",
     "start_time": "2023-02-07T20:24:25.200296Z"
    }
   },
   "outputs": [
    {
     "name": "stdout",
     "output_type": "stream",
     "text": [
      "xfactor=0.5\n"
     ]
    }
   ],
   "source": [
    "# xfactor=4.\n",
    "# xfactor=0.7 #<<worse.\n",
    "# xfactor=0.66 #<<worse\n",
    "# xfactor=0.6 #<<worse?\n",
    "# xfactor=0.55 #<<worse?\n",
    "# xfactor=1 #<<worse?\n",
    "# xfactor = (1.46025/2.21033)**2\n",
    "# xfactor=0.45 #<<worse.\n",
    "xfactor=0.5\n",
    "# xfactor=2/np.pi\n",
    "# xfactor=3/np.pi/2\n",
    "# xfactor=4/np.pi/3\n",
    "# xfactor=5/np.pi/4\n",
    "# xfactor=0.4 #<<worse.\n",
    "print(f\"{xfactor=}\")"
   ]
  },
  {
   "cell_type": "markdown",
   "id": "6582b50f",
   "metadata": {},
   "source": [
    "Claim:`xfactor`=0.5, for\n",
    "\n",
    "$$\n",
    "A_0 = \\frac{1}{2}\\Big(x\\frac{M_-}{M_+}\\Big)^{1/(\\nu_--\\nu_+)}\n",
    "$$\n",
    "\n",
    "where $x=$4.19033 +/- 0.34682 for the Luo-Rudy model <br> and $x=$4.57527 +/- 0.38506 for the Fenton-Karma model."
   ]
  },
  {
   "cell_type": "markdown",
   "id": "be8355ea",
   "metadata": {
    "ExecuteTime": {
     "end_time": "2023-01-10T23:59:57.503987Z",
     "start_time": "2023-01-10T23:59:57.499847Z"
    }
   },
   "source": [
    "__with initial formula__:<br>\n",
    "For Fenton-Karma:\n",
    "Inputs:\n",
    "Mp=0.8642103569057054; nup=0.22959399086621063\n",
    "Mm=5.572315674840435; num=1.8772341309722325\n",
    "\t--> qstar=0.3200; wstar=0.6653\n",
    "x=0.46568 +/- 0.03596\n",
    "let y=x**(1/(num-nup)). then,\n",
    "y=0.62885 +/- 0.13289\n",
    "\n",
    "For Luo-Rudy:\n",
    "Inputs:\n",
    "Mp=3.2770725040489235; nup=0.7147550082416185\n",
    "Mm=16.73559858353835; num=1.6375562704001745\n",
    "\t--> qstar=0.1700; wstar=0.9235\n",
    "x=1.16347 +/- 0.08143\n",
    "let y=x**(1/(num-nup)). then,\n",
    "y=1.17830 +/- 0.06601"
   ]
  },
  {
   "cell_type": "markdown",
   "id": "b62a67d2",
   "metadata": {},
   "source": [
    "__with num-nup --> nup-num__:<br>\n",
    "For Fenton-Karma:\n",
    "Inputs:\n",
    "Mp=0.8642103569057054; nup=1.8772341309722325\n",
    "Mm=5.572315674840435; num=0.22959399086621063\n",
    "\t--> qstar=0.9900; wstar=0.8481\n",
    "x=0.05165 +/- 0.00370\n",
    "let y=x**(1/(num-nup)). then,\n",
    "y=6.04040 +/- 29.90383\n",
    "\n",
    "For Luo-Rudy:\n",
    "Inputs:\n",
    "Mp=3.2770725040489235; nup=1.6375562704001745\n",
    "Mm=16.73559858353835; num=0.7147550082416185\n",
    "\t--> qstar=0.9900; wstar=3.2236\n",
    "x=0.03296 +/- 0.00216\n",
    "let y=x**(1/(num-nup)). then,\n",
    "y=40.36936 +/- 775.35777"
   ]
  },
  {
   "cell_type": "markdown",
   "id": "12cc046a",
   "metadata": {},
   "source": [
    "\t  *** at N0=2: ***\n",
    "*** A0: 3.8999 +/- 0.0553 cm^2 (FK) ***\n",
    "*** A0: 13.8252 +/- 1.2442 cm^2 (LR) ***\n",
    "      *** at N0=20: ***\n",
    "*** A0: 3.8980 +/- 0.0509 cm^2 (FK) ***\n",
    "*** A0: 13.7938 +/- 1.0491 cm^2 (LR) ***"
   ]
  },
  {
   "cell_type": "code",
   "execution_count": 163,
   "id": "5af1e5bd",
   "metadata": {
    "ExecuteTime": {
     "end_time": "2023-02-07T20:28:29.702331Z",
     "start_time": "2023-02-07T20:28:29.676138Z"
    }
   },
   "outputs": [
    {
     "name": "stdout",
     "output_type": "stream",
     "text": [
      "Measurements of A0 = 1/m by OLS:\n",
      "\n",
      "Fenton-Karma:\n",
      "A0: 3.8273 +/- 0.007131751568280486  ***********************\n",
      "tau0=0.002456 +/- Delta_tau0=0.000097  ***********************\n",
      "\n",
      "Luo-Rudy:\n",
      "m=0.075217+-0.000113\n",
      "B= -4.205943+-0.034227\n",
      "RMSE=876899907.3163\n",
      "R^2=1.0000\n",
      "A0: 13.2878 +/- 0.2557905765472377 ***********************\n",
      "tau0=0.0147 +/- Delta_tau0=0.0005 ***********************\n",
      "\n",
      "For Fenton-Karma:\n",
      "Inputs:\n",
      "- Mp=0.8642103569057054; nup=0.22959399086621063\n",
      "- Mm=5.572315674840435; num=1.8772341309722325\n",
      "Outputs:\n",
      "\t--> qstar=0.3200; wstar=0.6653\n",
      "*** x=4.43585 +/- 0.01363 (xfactor=0.5)\n",
      "*** y=2.46984 +/- 0.07374 ***\n",
      "\n",
      "For Luo-Rudy:\n",
      "Inputs:\n",
      "- Mp=3.2770725040489235; nup=0.7147550082416185\n",
      "- Mm=16.73559858353835; num=1.6375562704001745\n",
      "Outputs:\n",
      "\t--> qstar=0.1700; wstar=0.9235\n",
      "*** x=4.03980 +/- 0.07171 \n",
      "*** y=4.54031 +/- 0.05752 ***\n",
      "\n",
      "Q: Do x agree?\n",
      "here: xfactor=0.5\n"
     ]
    }
   ],
   "source": [
    "#measure A0 from exponential fit to tau(A)\n",
    "# N0=2\n",
    "N0=20\n",
    "Amin=200\n",
    "boo = df_tau_fk['N0']==N0\n",
    "# boo&= df_tau_fk['A']>=Amin\n",
    "xv,yv=df_tau_fk[boo][['A','tau']].values.T\n",
    "print(f\"Measurements of A0 = 1/m by OLS:\")\n",
    "#compute exponential fit and characteristic area\n",
    "B,Delta_B,m,Delta_m,Rsq=fit_exponential(xv[xv>Amin],yv[xv>Amin])\n",
    "# B,Delta_B,m,Delta_m,Rsq=fit_exponential(xv,yv)\n",
    "yvhat=np.exp(xv*m+B)\n",
    "rmse=np.sqrt(np.mean((yvhat-yv)**2))\n",
    "print(f\"\\nFenton-Karma:\")\n",
    "# print_fit_exponential(xv,yv)\n",
    "A0fk=float(1./m)\n",
    "Delta_A0fk=float(Delta_m*float(1./m)/(m**2))\n",
    "yvhatfk=yvhat.copy()\n",
    "yvfk=yv.copy()\n",
    "xvfk=xv.copy()\n",
    "print(f\"A0: {A0fk:.4f} +/- {Delta_A0fk}  ***********************\")\n",
    "tau0=np.exp(B)\n",
    "Delta_tau0=float(np.exp(B+Delta_B)-tau0)\n",
    "print(f\"{tau0=:.6f} +/- {Delta_tau0=:.6f}  ***********************\")\n",
    "boo = df_tau_lr['N0']==N0\n",
    "boo&= df_tau_lr['A']>=Amin\n",
    "xv,yv=df_tau_lr[boo][['A','tau']].values.T\n",
    "#compute exponential fit and characteristic area\n",
    "B,Delta_B,m,Delta_m,Rsq=fit_exponential(xv[xv>Amin],yv[xv>Amin])\n",
    "# B,Delta_B,m,Delta_m,Rsq=fit_exponential(xv,yv)\n",
    "yvhat=np.exp(xv*m+B)\n",
    "rmse=np.sqrt(np.mean((yvhat-yv)**2))\n",
    "print(f\"\\nLuo-Rudy:\")\n",
    "print_fit_exponential(xv,yv)\n",
    "A0lr=float(1./m)\n",
    "Delta_A0lr=float(Delta_m*float(1./m)/(m**2))\n",
    "yvhatlr=yvhat.copy()\n",
    "yvlr=yv.copy()\n",
    "xvlr=xv.copy()\n",
    "print(f\"A0: {A0lr:.4f} +/- {Delta_A0lr} ***********************\")\n",
    "tau0=np.exp(B)\n",
    "Delta_tau0=float(np.exp(B+Delta_B)-tau0)\n",
    "print(f\"{tau0=:.4f} +/- {Delta_tau0=:.4f} ***********************\")\n",
    "Mp = dict_fit_birth_fk['M']\n",
    "nup = dict_fit_birth_fk['m']\n",
    "Mm = dict_fit_death_fk['M']\n",
    "num = dict_fit_death_fk['m']\n",
    "model_name='Fenton-Karma'\n",
    "# nu=nup;nup=num;num=nu\n",
    "A0=A0fk\n",
    "Delta_A0=Delta_A0fk\n",
    "# x=Mp/Mm * (A0/2.)**(num-nup)\n",
    "# Delta_x=np.abs(Mp/Mm * ((Delta_A0+A0)/2.)**(num-nup) - x)\n",
    "x=Mp/Mm * (A0/xfactor)**(num-nup)\n",
    "Delta_x=np.abs(Mp/Mm * ((Delta_A0+A0)/xfactor)**(num-nup) - x)\n",
    "print(f\"\\nFor {model_name}:\")\n",
    "print(f\"Inputs:\")\n",
    "print(f\"- {Mp=}; {nup=}\")\n",
    "print(f\"- {Mm=}; {num=}\")\n",
    "_xv = np.arange(0.02, 1,0.01)\n",
    "qstar,wstar = comp_powerlaw_intersection(Mp,nup,Mm,num,xv=_xv)\n",
    "print(f\"Outputs:\")\n",
    "print(f\"\\t--> {qstar=:.4f}; {wstar=:.4f}\")\n",
    "print(f\"*** {x=:.5f} +/- {Delta_x:.5f} ({xfactor=})\")\n",
    "# print(f\"let y=x**(1/(num-nup)). then,\")\n",
    "y=x**(1/(num-nup))\n",
    "Delta_y=Delta_x**(1/(num-nup))\n",
    "print(f\"*** {y=:.5f} +/- {Delta_y:.5f} ***\")\n",
    "Mp = dict_fit_birth_lr['M']\n",
    "nup = dict_fit_birth_lr['m']\n",
    "Mm = dict_fit_death_lr['M']\n",
    "num = dict_fit_death_lr['m']\n",
    "model_name='Luo-Rudy'\n",
    "# nu=nup;nup=num;num=nu\n",
    "A0=A0lr\n",
    "Delta_A0=Delta_A0lr\n",
    "# x=Mp/Mm * (A0/2.)**(num-nup)\n",
    "# Delta_x=np.abs(Mp/Mm * ((Delta_A0+A0)/2.)**(num-nup) - x)\n",
    "x=Mp/Mm * (A0/xfactor)**(num-nup)\n",
    "Delta_x=np.abs(Mp/Mm * ((Delta_A0+A0)/xfactor)**(num-nup) - x)\n",
    "print(f\"\\nFor {model_name}:\")\n",
    "print(f\"Inputs:\")\n",
    "print(f\"- {Mp=}; {nup=}\")\n",
    "print(f\"- {Mm=}; {num=}\")\n",
    "_xv = np.arange(0.02, 1,0.01)\n",
    "qstar,wstar = comp_powerlaw_intersection(Mp,nup,Mm,num,xv=_xv)\n",
    "print(f\"Outputs:\")\n",
    "print(f\"\\t--> {qstar=:.4f}; {wstar=:.4f}\")\n",
    "print(f\"*** {x=:.5f} +/- {Delta_x:.5f} \")\n",
    "# print(f\"let y=x**(1/(num-nup)). then,\")\n",
    "y=x**(1/(num-nup))\n",
    "Delta_y=Delta_x**(1/(num-nup))\n",
    "print(f\"*** {y=:.5f} +/- {Delta_y:.5f} ***\")\n",
    "print(f\"\\nQ: Do x agree?\")\n",
    "print(f\"here: {xfactor=}\")"
   ]
  },
  {
   "cell_type": "code",
   "execution_count": 164,
   "id": "de63463c",
   "metadata": {
    "ExecuteTime": {
     "end_time": "2023-02-07T20:28:30.719470Z",
     "start_time": "2023-02-07T20:28:30.463098Z"
    }
   },
   "outputs": [
    {
     "data": {
      "image/png": "[encoded data removed]",
      "text/plain": [
       "<Figure size 400x400 with 1 Axes>"
      ]
     },
     "metadata": {},
     "output_type": "display_data"
    }
   ],
   "source": [
    "#basic scatter plot of the data at N_0 given\n",
    "# xlim\n",
    "figsize=(4,4)\n",
    "fontsize=16\n",
    "markersize=10\n",
    "alpha=1.0\n",
    "# ylim = (0.0005007487135910895, 5.156057164412211e+44)\n",
    "# alpha=0.7\n",
    "fig,ax=plt.subplots(figsize=figsize)\n",
    "#plot data\n",
    "# df_tau_fk[df_tau_fk['N0']==N0].plot.scatter(x='A',y='tau',s=markersize,alpha=alpha,ax=ax,label='Fenton-Karma',color='C0')\n",
    "# df_tau_lr[df_tau_lr['N0']==N0].plot.scatter(x='A',y='tau',s=markersize,alpha=alpha,ax=ax,label='Luo-Rudy',color='C1')\n",
    "df_tau_fk[df_tau_fk['N0']==N0].plot(x='A',y='tau',alpha=alpha,ax=ax,label='Fenton-Karma',color='C0',lw=2)\n",
    "df_tau_lr[df_tau_lr['N0']==N0].plot(x='A',y='tau',alpha=alpha,ax=ax,label='Luo-Rudy',color='C1',lw=2)\n",
    "#plot the fits as dotted lines\n",
    "# xv,yv=df_tau_fk[df_tau_fk['N0']==N0][['A','tau']].values.T\n",
    "xv,yv=df_tau_fk[(df_tau_fk['N0']==N0)&(df_tau_fk['A']>=25)][['A','tau']].values.T\n",
    "B,Delta_B,m,Delta_m,Rsq=fit_exponential(xv[xv>Amin],yv[xv>Amin])\n",
    "# B,Delta_B,m,Delta_m,Rsq=fit_exponential(xv,yv)\n",
    "xvfk=xv.copy()\n",
    "yvhatfk=np.exp(xv*m+B)\n",
    "ax.plot(xvfk,yvhatfk,'k:',alpha=0.7,lw=2)\n",
    "xv,yv=df_tau_lr[(df_tau_lr['N0']==N0)&(df_tau_lr['A']>=25)][['A','tau']].values.T\n",
    "B,Delta_B,m,Delta_m,Rsq=fit_exponential(xv[xv>200],yv[xv>200])\n",
    "# B,Delta_B,m,Delta_m,Rsq=fit_exponential(xv,yv)\n",
    "xvlr=xv.copy()\n",
    "# yvhatlr=np.exp(xv*m-B)\n",
    "yvhatlr=np.exp(B)*np.exp(xv*m)\n",
    "ax.plot(xvlr,yvhatlr,'k:',alpha=0.7,lw=2)\n",
    "# format_plot\n",
    "# format_plot(ax=ax,xlabel=r'$A$   (cm$^2$)',ylabel=r'$\\tau(N_0)$   (s)',fontsize=fontsize)\n",
    "format_plot(ax=ax,xlabel=r'$A$   (cm$^2$)',ylabel=r'$\\tau\\;$($N_0=$'+f'{N0})   (s)',fontsize=fontsize)\n",
    "# ax.set_title(model_name,fontsize=fontsize)\n",
    "ax.set_yscale('log')\n",
    "# plt.tight_layout()\n",
    "ax.tick_params(top=True, right=True,direction='in',which='both')\n",
    "ax.legend(fontsize=fontsize-2,frameon=False,loc='upper left')\n",
    "ax.set_ylim(ylim)\n",
    "# ax.set_ylim(xlim)\n",
    "plt.show()"
   ]
  },
  {
   "cell_type": "code",
   "execution_count": 165,
   "id": "0e2a6b34",
   "metadata": {
    "ExecuteTime": {
     "end_time": "2023-02-07T20:28:31.355456Z",
     "start_time": "2023-02-07T20:28:31.350946Z"
    }
   },
   "outputs": [
    {
     "name": "stdout",
     "output_type": "stream",
     "text": [
      "\t  *** at N0=20: ***\n",
      "*** A0: 3.8273 +/- 0.0071 cm^2 (FK) ***\n",
      "*** A0: 13.2878 +/- 0.2558 cm^2 (LR) ***\n"
     ]
    }
   ],
   "source": [
    "# #N0=2:\n",
    "# xvfk2,yvhatfk2,xvlr2,yvhatlr2 = xvfk,yvhatfk,xvlr,yvhatlr\n",
    "# df_tau_fk2=df_tau_fk.copy()\n",
    "# df_tau_lr2=df_tau_lr.copy()\n",
    "# # #N0=20:\n",
    "xvfk20,yvhatfk20,xvlr20,yvhatlr20 = xvfk,yvhatfk,xvlr,yvhatlr\n",
    "df_tau_fk20=df_tau_fk.copy()\n",
    "df_tau_lr20=df_tau_lr.copy()\n",
    "\n",
    "print(f\"\\t  *** at {N0=}: ***\")\n",
    "print(f\"*** A0: {A0fk:.4f} +/- {Delta_A0fk:.4f} cm^2 (FK) ***\")\n",
    "print(f\"*** A0: {A0lr:.4f} +/- {Delta_A0lr:.4f} cm^2 (LR) ***\")"
   ]
  },
  {
   "cell_type": "code",
   "execution_count": 166,
   "id": "0a94e3c1",
   "metadata": {
    "ExecuteTime": {
     "end_time": "2023-02-07T20:28:32.010638Z",
     "start_time": "2023-02-07T20:28:31.983991Z"
    }
   },
   "outputs": [
    {
     "name": "stdout",
     "output_type": "stream",
     "text": [
      "Measurements of A0 = 1/m by OLS:\n",
      "\n",
      "Fenton-Karma:\n",
      "A0: 3.8272 +/- 0.007087305887863815  ***********************\n",
      "tau0=0.002444 +/- Delta_tau0=0.000096  ***********************\n",
      "\n",
      "Luo-Rudy:\n",
      "A0: 13.2533 +/- 0.22658918392439428 ***********************\n",
      "tau0=0.0131 +/- Delta_tau0=0.0004 ***********************\n",
      "\n",
      "For Fenton-Karma:\n",
      "Inputs:\n",
      "- Mp=0.8642103569057054; nup=0.22959399086621063\n",
      "- Mm=5.572315674840435; num=1.8772341309722325\n",
      "Outputs:\n",
      "\t--> qstar=0.3200; wstar=0.6653\n",
      "*** x=4.43557 +/- 0.01354 (xfactor=0.5)\n",
      "*** y=2.46974 +/- 0.07346 ***\n",
      "\n",
      "For Luo-Rudy:\n",
      "Inputs:\n",
      "- Mp=3.2770725040489235; nup=0.7147550082416185\n",
      "- Mm=16.73559858353835; num=1.6375562704001745\n",
      "Outputs:\n",
      "\t--> qstar=0.1700; wstar=0.9235\n",
      "*** x=4.03012 +/- 0.06354 \n",
      "*** y=4.52853 +/- 0.05046 ***\n",
      "\n",
      "Q: Do x agree?\n",
      "here: xfactor=0.5\n"
     ]
    }
   ],
   "source": [
    "#measure A0 from exponential fit to tau(A)\n",
    "N0=2\n",
    "# N0=20\n",
    "Amin=200\n",
    "boo = df_tau_fk['N0']==N0\n",
    "boo&= df_tau_fk['A']>=Amin\n",
    "xv,yv=df_tau_fk[boo][['A','tau']].values.T\n",
    "print(f\"Measurements of A0 = 1/m by OLS:\")\n",
    "#compute exponential fit and characteristic area\n",
    "B,Delta_B,m,Delta_m,Rsq=fit_exponential(xv[xv>Amin],yv[xv>Amin])\n",
    "# B,Delta_B,m,Delta_m,Rsq=fit_exponential(xv,yv)\n",
    "yvhat=np.exp(xv*m+B)\n",
    "rmse=np.sqrt(np.mean((yvhat-yv)**2))\n",
    "print(f\"\\nFenton-Karma:\")\n",
    "# print_fit_exponential(xv,yv)\n",
    "A0fk=float(1./m)\n",
    "Delta_A0fk=float(Delta_m*float(1./m)/(m**2))\n",
    "yvhatfk=yvhat.copy()\n",
    "yvfk=yv.copy()\n",
    "xvfk=xv.copy()\n",
    "print(f\"A0: {A0fk:.4f} +/- {Delta_A0fk}  ***********************\")\n",
    "tau0=np.exp(B)\n",
    "Delta_tau0=float(np.exp(B+Delta_B)-tau0)\n",
    "print(f\"{tau0=:.6f} +/- {Delta_tau0=:.6f}  ***********************\")\n",
    "boo = df_tau_lr['N0']==N0\n",
    "boo&= df_tau_lr['A']>=Amin\n",
    "xv,yv=df_tau_lr[boo][['A','tau']].values.T\n",
    "#compute exponential fit and characteristic area\n",
    "B,Delta_B,m,Delta_m,Rsq=fit_exponential(xv[xv>Amin],yv[xv>Amin])\n",
    "# B,Delta_B,m,Delta_m,Rsq=fit_exponential(xv,yv)\n",
    "yvhat=np.exp(xv*m+B)\n",
    "rmse=np.sqrt(np.mean((yvhat-yv)**2))\n",
    "print(f\"\\nLuo-Rudy:\")\n",
    "# print_fit_exponential(xv,yv)\n",
    "A0lr=float(1./m)\n",
    "Delta_A0lr=float(Delta_m*float(1./m)/(m**2))\n",
    "yvhatlr=yvhat.copy()\n",
    "yvlr=yv.copy()\n",
    "xvlr=xv.copy()\n",
    "print(f\"A0: {A0lr:.4f} +/- {Delta_A0lr} ***********************\")\n",
    "tau0=np.exp(B)\n",
    "Delta_tau0=float(np.exp(B+Delta_B)-tau0)\n",
    "print(f\"{tau0=:.4f} +/- {Delta_tau0=:.4f} ***********************\")\n",
    "Mp = dict_fit_birth_fk['M']\n",
    "nup = dict_fit_birth_fk['m']\n",
    "Mm = dict_fit_death_fk['M']\n",
    "num = dict_fit_death_fk['m']\n",
    "model_name='Fenton-Karma'\n",
    "# nu=nup;nup=num;num=nu\n",
    "A0=A0fk\n",
    "Delta_A0=Delta_A0fk\n",
    "# x=Mp/Mm * (A0/2.)**(num-nup)\n",
    "# Delta_x=np.abs(Mp/Mm * ((Delta_A0+A0)/2.)**(num-nup) - x)\n",
    "x=Mp/Mm * (A0/xfactor)**(num-nup)\n",
    "Delta_x=np.abs(Mp/Mm * ((Delta_A0+A0)/xfactor)**(num-nup) - x)\n",
    "print(f\"\\nFor {model_name}:\")\n",
    "print(f\"Inputs:\")\n",
    "print(f\"- {Mp=}; {nup=}\")\n",
    "print(f\"- {Mm=}; {num=}\")\n",
    "_xv = np.arange(0.02, 1,0.01)\n",
    "qstar,wstar = comp_powerlaw_intersection(Mp,nup,Mm,num,xv=_xv)\n",
    "print(f\"Outputs:\")\n",
    "print(f\"\\t--> {qstar=:.4f}; {wstar=:.4f}\")\n",
    "print(f\"*** {x=:.5f} +/- {Delta_x:.5f} ({xfactor=})\")\n",
    "# print(f\"let y=x**(1/(num-nup)). then,\")\n",
    "y=x**(1/(num-nup))\n",
    "Delta_y=Delta_x**(1/(num-nup))\n",
    "print(f\"*** {y=:.5f} +/- {Delta_y:.5f} ***\")\n",
    "Mp = dict_fit_birth_lr['M']\n",
    "nup = dict_fit_birth_lr['m']\n",
    "Mm = dict_fit_death_lr['M']\n",
    "num = dict_fit_death_lr['m']\n",
    "model_name='Luo-Rudy'\n",
    "# nu=nup;nup=num;num=nu\n",
    "A0=A0lr\n",
    "Delta_A0=Delta_A0lr\n",
    "# x=Mp/Mm * (A0/2.)**(num-nup)\n",
    "# Delta_x=np.abs(Mp/Mm * ((Delta_A0+A0)/2.)**(num-nup) - x)\n",
    "x=Mp/Mm * (A0/xfactor)**(num-nup)\n",
    "Delta_x=np.abs(Mp/Mm * ((Delta_A0+A0)/xfactor)**(num-nup) - x)\n",
    "print(f\"\\nFor {model_name}:\")\n",
    "print(f\"Inputs:\")\n",
    "print(f\"- {Mp=}; {nup=}\")\n",
    "print(f\"- {Mm=}; {num=}\")\n",
    "_xv = np.arange(0.02, 1,0.01)\n",
    "qstar,wstar = comp_powerlaw_intersection(Mp,nup,Mm,num,xv=_xv)\n",
    "print(f\"Outputs:\")\n",
    "print(f\"\\t--> {qstar=:.4f}; {wstar=:.4f}\")\n",
    "print(f\"*** {x=:.5f} +/- {Delta_x:.5f} \")\n",
    "# print(f\"let y=x**(1/(num-nup)). then,\")\n",
    "y=x**(1/(num-nup))\n",
    "Delta_y=Delta_x**(1/(num-nup))\n",
    "print(f\"*** {y=:.5f} +/- {Delta_y:.5f} ***\")\n",
    "print(f\"\\nQ: Do x agree?\")\n",
    "print(f\"here: {xfactor=}\")"
   ]
  },
  {
   "cell_type": "code",
   "execution_count": 167,
   "id": "cf35459b",
   "metadata": {
    "ExecuteTime": {
     "end_time": "2023-02-07T20:28:33.026308Z",
     "start_time": "2023-02-07T20:28:32.597330Z"
    }
   },
   "outputs": [
    {
     "data": {
      "image/png": "[encoded data removed]",
      "text/plain": [
       "<Figure size 400x400 with 1 Axes>"
      ]
     },
     "metadata": {},
     "output_type": "display_data"
    }
   ],
   "source": [
    "#basic scatter plot of the data at N_0 given\n",
    "# xlim\n",
    "figsize=(4,4)\n",
    "fontsize=16\n",
    "markersize=10\n",
    "alpha=1.0\n",
    "# ylim = (0.0005007487135910895, 5.156057164412211e+44)\n",
    "# alpha=0.7\n",
    "fig,ax=plt.subplots(figsize=figsize)\n",
    "#plot data\n",
    "# df_tau_fk[df_tau_fk['N0']==N0].plot.scatter(x='A',y='tau',s=markersize,alpha=alpha,ax=ax,label='Fenton-Karma',color='C0')\n",
    "# df_tau_lr[df_tau_lr['N0']==N0].plot.scatter(x='A',y='tau',s=markersize,alpha=alpha,ax=ax,label='Luo-Rudy',color='C1')\n",
    "df_tau_fk[df_tau_fk['N0']==N0].plot(x='A',y='tau',alpha=alpha,ax=ax,label='Fenton-Karma',color='C0',lw=2)\n",
    "df_tau_lr[df_tau_lr['N0']==N0].plot(x='A',y='tau',alpha=alpha,ax=ax,label='Luo-Rudy',color='C1',lw=2)\n",
    "#plot the fits as dotted lines\n",
    "# xv,yv=df_tau_fk[df_tau_fk['N0']==N0][['A','tau']].values.T\n",
    "xv,yv=df_tau_fk[(df_tau_fk['N0']==N0)&(df_tau_fk['A']>=25)][['A','tau']].values.T\n",
    "B,Delta_B,m,Delta_m,Rsq=fit_exponential(xv[xv>Amin],yv[xv>Amin])\n",
    "# B,Delta_B,m,Delta_m,Rsq=fit_exponential(xv,yv)\n",
    "xvfk=xv.copy()\n",
    "yvhatfk=np.exp(xv*m+B)\n",
    "ax.plot(xvfk,yvhatfk,'k:',alpha=0.7,lw=2)\n",
    "xv,yv=df_tau_lr[(df_tau_lr['N0']==N0)&(df_tau_lr['A']>=25)][['A','tau']].values.T\n",
    "B,Delta_B,m,Delta_m,Rsq=fit_exponential(xv[xv>Amin],yv[xv>Amin])\n",
    "# B,Delta_B,m,Delta_m,Rsq=fit_exponential(xv,yv)\n",
    "xvlr=xv.copy()\n",
    "# yvhatlr=np.exp(xv*m-B)\n",
    "yvhatlr=np.exp(B)*np.exp(xv*m)\n",
    "ax.plot(xvlr,yvhatlr,'k:',alpha=0.7,lw=2)\n",
    "# format_plot\n",
    "# format_plot(ax=ax,xlabel=r'$A$   (cm$^2$)',ylabel=r'$\\tau(N_0)$   (s)',fontsize=fontsize)\n",
    "format_plot(ax=ax,xlabel=r'$A$   (cm$^2$)',ylabel=r'$\\tau\\;$($N_0=$'+f'{N0})   (s)',fontsize=fontsize)\n",
    "# ax.set_title(model_name,fontsize=fontsize)\n",
    "ax.set_yscale('log')\n",
    "# plt.tight_layout()\n",
    "ax.tick_params(top=True, right=True,direction='in',which='both')\n",
    "ax.legend(fontsize=fontsize-2,frameon=False,loc='upper left')\n",
    "ax.set_ylim(ylim)\n",
    "# ax.set_ylim(xlim)\n",
    "plt.show()"
   ]
  },
  {
   "cell_type": "code",
   "execution_count": 168,
   "id": "595b6200",
   "metadata": {
    "ExecuteTime": {
     "end_time": "2023-02-07T20:28:35.115894Z",
     "start_time": "2023-02-07T20:28:35.111495Z"
    }
   },
   "outputs": [
    {
     "name": "stdout",
     "output_type": "stream",
     "text": [
      "\t  *** at N0=2: ***\n",
      "*** A0: 3.8272 +/- 0.0071 cm^2 (FK) ***\n",
      "*** A0: 13.2533 +/- 0.2266 cm^2 (LR) ***\n"
     ]
    }
   ],
   "source": [
    "# #N0=2:\n",
    "xvfk2,yvhatfk2,xvlr2,yvhatlr2 = xvfk,yvhatfk,xvlr,yvhatlr\n",
    "df_tau_fk2=df_tau_fk.copy()\n",
    "df_tau_lr2=df_tau_lr.copy()\n",
    "# # #N0=20:\n",
    "# xvfk20,yvhatfk20,xvlr20,yvhatlr20 = xvfk,yvhatfk,xvlr,yvhatlr\n",
    "# df_tau_fk20=df_tau_fk.copy()\n",
    "# df_tau_lr20=df_tau_lr.copy()\n",
    "\n",
    "print(f\"\\t  *** at {N0=}: ***\")\n",
    "print(f\"*** A0: {A0fk:.4f} +/- {Delta_A0fk:.4f} cm^2 (FK) ***\")\n",
    "print(f\"*** A0: {A0lr:.4f} +/- {Delta_A0lr:.4f} cm^2 (LR) ***\")"
   ]
  },
  {
   "cell_type": "code",
   "execution_count": null,
   "id": "379afa9a",
   "metadata": {},
   "outputs": [],
   "source": []
  },
  {
   "cell_type": "code",
   "execution_count": 169,
   "id": "fc5a5f6b",
   "metadata": {
    "ExecuteTime": {
     "end_time": "2023-02-07T20:28:36.149658Z",
     "start_time": "2023-02-07T20:28:36.146753Z"
    }
   },
   "outputs": [],
   "source": [
    "viewer_pkl_dir=f\"{nb_dir}/data/figure_data_tauratio_20_to_2_vs_A.pkl\""
   ]
  },
  {
   "cell_type": "code",
   "execution_count": 170,
   "id": "3a8e5340",
   "metadata": {
    "ExecuteTime": {
     "end_time": "2023-02-07T20:28:36.731090Z",
     "start_time": "2023-02-07T20:28:36.725712Z"
    }
   },
   "outputs": [
    {
     "name": "stdout",
     "output_type": "stream",
     "text": [
      "viewer_pkl_dir='/Users/timothytyree/Documents/GitHub/bgmc/python/data/figure_data_tauratio_20_to_2_vs_A.pkl'\n"
     ]
    }
   ],
   "source": [
    "saving=True\n",
    "# saving=False\n",
    "if saving:\n",
    "    #DONE: put in dict. save to .pkl\n",
    "    data=dict(\n",
    "        df_tau_fk2=df_tau_fk2,\n",
    "        df_tau_fk20=df_tau_fk20,\n",
    "        df_tau_lr2=df_tau_lr2,\n",
    "        df_tau_lr20=df_tau_lr20,\n",
    "        xvfk2=xvfk2,yvhatfk2=yvhatfk2,xvlr2=xvlr2,yvhatlr2=yvhatlr2,\n",
    "        xvfk20=xvfk20,yvhatfk20=yvhatfk20,xvlr20=xvlr20,yvhatlr20=yvhatlr20,\n",
    "    )\n",
    "    save_to_pickle(viewer_pkl_dir, data)\n",
    "    print(f\"{viewer_pkl_dir=}\")"
   ]
  },
  {
   "cell_type": "markdown",
   "id": "a62d01e1",
   "metadata": {},
   "source": [
    "# plot ratio pf tau( N0=20 ) to tau( N0=2 )"
   ]
  },
  {
   "cell_type": "code",
   "execution_count": 171,
   "id": "ba7a95c8",
   "metadata": {
    "ExecuteTime": {
     "end_time": "2023-02-07T20:28:39.800307Z",
     "start_time": "2023-02-07T20:28:39.797764Z"
    }
   },
   "outputs": [],
   "source": [
    "# import pandas as pd\n",
    "# pd.__version__"
   ]
  },
  {
   "cell_type": "code",
   "execution_count": 172,
   "id": "63793a9e",
   "metadata": {
    "ExecuteTime": {
     "end_time": "2023-02-07T20:28:39.967087Z",
     "start_time": "2023-02-07T20:28:39.964516Z"
    }
   },
   "outputs": [],
   "source": [
    "# from lib import *"
   ]
  },
  {
   "cell_type": "code",
   "execution_count": 173,
   "id": "b529ebdb",
   "metadata": {
    "ExecuteTime": {
     "end_time": "2023-02-07T20:28:40.679979Z",
     "start_time": "2023-02-07T20:28:40.676594Z"
    }
   },
   "outputs": [],
   "source": [
    "# # !pip install pandas==1.4.1\n",
    "# import pickle\n",
    "# def load_from_pickle(input_fn):\n",
    "#     with open(input_fn,'rb') as f: dict_pkl = pickle.load(f)\n",
    "#     return dict_pkl\n",
    "# viewer_pkl_dir=f\"{nb_dir}/data/figure_data_tauratio_20_to_2_vs_A.pkl\"\n",
    "# data = load_from_pickle(viewer_pkl_dir)\n",
    "# df_tau_fk = data['df_tau_fk2']\n",
    "# df_tau_lr = data['df_tau_lr2']\n",
    "# print ( f\"{df_tau_fk.describe()=}\")\n",
    "# print ( f\"\\n{df_tau_lr.describe()=}\")\n",
    "# data.keys()"
   ]
  },
  {
   "cell_type": "code",
   "execution_count": 174,
   "id": "1e07ec81",
   "metadata": {
    "ExecuteTime": {
     "end_time": "2023-02-07T20:28:41.422391Z",
     "start_time": "2023-02-07T20:28:41.417573Z"
    }
   },
   "outputs": [],
   "source": [
    "viewer_pkl_dir=f\"{nb_dir}/data/figure_data_tauratio_20_to_2_vs_A.pkl\"\n",
    "data = load_from_pickle(viewer_pkl_dir)\n",
    "df_tau_fk2 = data['df_tau_fk2']\n",
    "df_tau_lr2 = data['df_tau_lr2']\n",
    "df_tau_fk20 = data['df_tau_fk20']\n",
    "df_tau_lr20 = data['df_tau_lr20']"
   ]
  },
  {
   "cell_type": "code",
   "execution_count": 175,
   "id": "910cd157",
   "metadata": {
    "ExecuteTime": {
     "end_time": "2023-02-07T20:28:42.680537Z",
     "start_time": "2023-02-07T20:28:42.675979Z"
    }
   },
   "outputs": [],
   "source": [
    "#compute the ratio of their values in a given dataframe\n",
    "df_tau_fk2['tauratio'] = df_tau_fk20['tau']/df_tau_fk2['tau']\n",
    "df_tau_lr2['tauratio'] = df_tau_lr20['tau']/df_tau_lr2['tau']"
   ]
  },
  {
   "cell_type": "code",
   "execution_count": 176,
   "id": "8ccd0519",
   "metadata": {
    "ExecuteTime": {
     "end_time": "2023-02-07T20:28:43.169261Z",
     "start_time": "2023-02-07T20:28:43.164771Z"
    }
   },
   "outputs": [
    {
     "data": {
      "text/plain": [
       "dict_keys(['df_tau_fk2', 'df_tau_fk20', 'df_tau_lr2', 'df_tau_lr20', 'xvfk2', 'yvhatfk2', 'xvlr2', 'yvhatlr2', 'xvfk20', 'yvhatfk20', 'xvlr20', 'yvhatlr20'])"
      ]
     },
     "execution_count": 176,
     "metadata": {},
     "output_type": "execute_result"
    }
   ],
   "source": [
    "#N0 is already in df_tau, you big dummy!  At least now i can easily put a dotted line around their exponential fit's ratio\n",
    "data.keys()"
   ]
  },
  {
   "cell_type": "code",
   "execution_count": 177,
   "id": "9de357c6",
   "metadata": {
    "ExecuteTime": {
     "end_time": "2023-02-07T20:28:43.658657Z",
     "start_time": "2023-02-07T20:28:43.655340Z"
    }
   },
   "outputs": [],
   "source": [
    "globals().update(data)\n",
    "# for x in [\"xvfk2\",\"yvhatfk2\",\"xvlr2\",\"yvhatlr2\",\"xvfk20\",\"yvhatfk20\",\"xvlr20\",\"yvhatlr20\"]:\n",
    "#     globals().update(data)[x])\n",
    "# data['yvhatfk20'].shape,data['yvhatfk2'].shape\n",
    "# ,xvlr20"
   ]
  },
  {
   "cell_type": "code",
   "execution_count": 178,
   "id": "74d31d48",
   "metadata": {
    "ExecuteTime": {
     "end_time": "2023-02-07T20:28:44.156464Z",
     "start_time": "2023-02-07T20:28:44.153696Z"
    }
   },
   "outputs": [],
   "source": [
    "# plt.scatter(Afk,trfk,c='C0',alpha=1.,s=10,label='Fenton-Karma')\n",
    "# plt.scatter(Alr,trlr,c='C1',alpha=1.,s=10,label='Luo-Rudy')\n",
    "# ax.plot(xvfk2,yvhatfk20/yvhatfk2,'k--',alpha=0.7,lw=2)\n",
    "# ax.plot(xvlr2,yvhatlr20/yvhatlr2,'k--',alpha=0.7,lw=2)"
   ]
  },
  {
   "cell_type": "code",
   "execution_count": 179,
   "id": "a8c99594",
   "metadata": {
    "ExecuteTime": {
     "end_time": "2023-02-07T20:28:44.782501Z",
     "start_time": "2023-02-07T20:28:44.775332Z"
    }
   },
   "outputs": [],
   "source": [
    "#TODO: compute their correct ratio\n",
    "Afk = df_tau_fk20.loc[df_tau_fk20['N0']==2,'A'].values\n",
    "t2fk = df_tau_fk20.loc[df_tau_fk20['N0']==2,'tau'].values\n",
    "t20fk = df_tau_fk20.loc[df_tau_fk20['N0']==20,'tau'].values\n",
    "trfk=t20fk/t2fk\n",
    "\n",
    "\n",
    "Alr = df_tau_lr20.loc[df_tau_lr20['N0']==2,'A'].values\n",
    "t2lr = df_tau_lr20.loc[df_tau_lr20['N0']==2,'tau'].values\n",
    "t20lr = df_tau_lr20.loc[df_tau_lr20['N0']==20,'tau'].values\n",
    "trlr=t20lr/t2lr\n",
    "\n"
   ]
  },
  {
   "cell_type": "code",
   "execution_count": 180,
   "id": "848482eb",
   "metadata": {
    "ExecuteTime": {
     "end_time": "2023-02-07T20:28:45.236645Z",
     "start_time": "2023-02-07T20:28:45.230297Z"
    }
   },
   "outputs": [
    {
     "data": {
      "text/plain": [
       "((75,), (75,), (75,), (75,))"
      ]
     },
     "execution_count": 180,
     "metadata": {},
     "output_type": "execute_result"
    }
   ],
   "source": [
    "#TODO: dev plotter for ^this data\n",
    "#HINT: plot ratio pf tau( N0=20 ) to tau( N0=2 )\n",
    "xvfk20.shape,xvfk2.shape,yvhatfk20[xvfk20>=25].shape,yvhatfk2[[xvfk2>=25]].shape"
   ]
  },
  {
   "cell_type": "code",
   "execution_count": 181,
   "id": "2fc03b9e",
   "metadata": {
    "ExecuteTime": {
     "end_time": "2023-02-07T20:28:45.939347Z",
     "start_time": "2023-02-07T20:28:45.779036Z"
    }
   },
   "outputs": [
    {
     "data": {
      "image/png": "[encoded data removed]",
      "text/plain": [
       "<Figure size 400x400 with 1 Axes>"
      ]
     },
     "metadata": {},
     "output_type": "display_data"
    }
   ],
   "source": [
    "#basic scatter plot of the data at N_0 given\n",
    "# xlim\n",
    "figsize=(4,4)\n",
    "fontsize=16\n",
    "markersize=10\n",
    "alpha=1.0\n",
    "# ylim = (0.0005007487135910895, 5.156057164412211e+44)\n",
    "# alpha=0.7\n",
    "fig,ax=plt.subplots(figsize=figsize)\n",
    "# #plot data\n",
    "# # df_tau_fk[df_tau_fk['N0']==N0].plot.scatter(x='A',y='tau',s=markersize,alpha=alpha,ax=ax,label='Fenton-Karma',color='C0')\n",
    "# # df_tau_lr[df_tau_lr['N0']==N0].plot.scatter(x='A',y='tau',s=markersize,alpha=alpha,ax=ax,label='Luo-Rudy',color='C1')\n",
    "# df_tau_fk2[df_tau_fk2['N0']==N0].plot(x='A',y='tauratio',alpha=alpha,ax=ax,label='Fenton-Karma',color='C0',lw=2)\n",
    "# df_tau_lr2[df_tau_lr2['N0']==N0].plot(x='A',y='tauratio',alpha=alpha,ax=ax,label='Luo-Rudy',color='C1',lw=2)\n",
    "\n",
    "\n",
    "# #plot the fits as dotted lines\n",
    "# # xv,yv=df_tau_fk[df_tau_fk['N0']==N0][['A','tau']].values.T\n",
    "# xv,yv=df_tau_fk[(df_tau_fk['N0']==N0)&(df_tau_fk['A']>=25)][['A','tau']].values.T\n",
    "# B,Delta_B,m,Delta_m,Rsq=fit_exponential(xv,yv)\n",
    "# xvfk=xv.copy()\n",
    "# yvhatfk=np.exp(xv*m+B)\n",
    "# # yvhatfk=-B*np.exp(xv*m)\n",
    "# # yvhatfk=1e-3*np.exp(xv*m)\n",
    "# # yvhatfk=np.exp(xvfk/A0fk-B)\n",
    "# ax.plot(xvfk,yvhatfk,'k:',alpha=0.7,lw=2)\n",
    "# xv,yv=df_tau_lr[(df_tau_lr['N0']==N0)&(df_tau_lr['A']>=25)][['A','tau']].values.T\n",
    "# B,Delta_B,m,Delta_m,Rsq=fit_exponential(xv,yv)\n",
    "# xvlr=xv.copy()\n",
    "# # yvhatlr=np.exp(xv*m-B)\n",
    "# yvhatlr=np.exp(B)*np.exp(xv*m)\n",
    "# ax.plot(xvlr,yvhatlr,'k:',alpha=0.7,lw=2)\n",
    "    \n",
    "# ax.plot(xvfk20,yvhatfk20[xvfk20>=25]/yvhatfk2[[xvfk2>=25]],'k--',alpha=0.7,lw=2)\n",
    "# ax.plot(xvlr20,yvhatlr20[xvlr20>=25]/yvhatlr2[[xvlr2>=25]],'k--',alpha=0.7,lw=2)\n",
    "ax.plot(xvfk2,yvhatfk20/yvhatfk2,'k--',alpha=0.7,lw=2)\n",
    "ax.plot(xvlr2,yvhatlr20/yvhatlr2,'k--',alpha=0.7,lw=2)\n",
    "ax.plot(Afk,trfk,c='C0',alpha=.7,lw=2,label='Fenton-Karma')\n",
    "ax.plot(Alr,trlr,c='C1',alpha=.7,lw=2,label='Luo-Rudy')\n",
    "\n",
    "# ax.set_ylim([1,2.5])\n",
    "ax.set_ylim([0,3])\n",
    "# ax.set_ylim([1,3])\n",
    "#format plot, as before\n",
    "    \n",
    "# format_plot\n",
    "# format_plot(ax=ax,xlabel=r'$A$   (cm$^2$)',ylabel=r'$\\tau(N_0)$   (s)',fontsize=fontsize)\n",
    "# format_plot(ax=ax,xlabel=r'$A$   (cm$^2$)',ylabel=r'$\\tau(N_0=20)\\,/\\,\\tau(N_0=2)$',fontsize=fontsize)\n",
    "format_plot(ax=ax,xlabel=r'$A$   (cm$^2$)',ylabel=r'$\\tau(N_0=20)\\,/\\,\\tau(N_0=2)$',fontsize=fontsize)\n",
    "# ax.set_title(model_name,fontsize=fontsize)\n",
    "# ax.set_yscale('log')\n",
    "# plt.tight_layout()\n",
    "ax.tick_params(top=True, right=True,direction='in',which='both')\n",
    "ax.legend(fontsize=fontsize-2,frameon=False,loc='upper left')\n",
    "# ax.set_ylim(ylim)\n",
    "# ax.set_ylim(xlim)\n",
    "plt.show()"
   ]
  },
  {
   "cell_type": "code",
   "execution_count": 90,
   "id": "8dca8814",
   "metadata": {
    "ExecuteTime": {
     "end_time": "2023-02-07T20:18:08.489841Z",
     "start_time": "2023-02-07T20:18:08.487560Z"
    }
   },
   "outputs": [],
   "source": [
    "#HERETIM: \n",
    "#DONE: esimate xvfk,yvhatfk,xvlr,yvhatlr for N0=2\n",
    "#DONE: esimate xvfk,yvhatfk,xvlr,yvhatlr for N0=20\n",
    "\n",
    "#DONE: compute their correct ratio\n",
    "#DONE: plot their ratio versus A\n",
    "#DONE: update the supplemental figure in .odg\n",
    "#TODO: update git\n",
    "#TODO: update the SM with ^that"
   ]
  },
  {
   "cell_type": "code",
   "execution_count": 92,
   "id": "61a7186b",
   "metadata": {
    "ExecuteTime": {
     "end_time": "2023-02-07T20:18:19.246719Z",
     "start_time": "2023-02-07T20:18:19.243491Z"
    }
   },
   "outputs": [],
   "source": [
    "# #basic scatter plot of the data at N_0 given\n",
    "# # xlim\n",
    "# figsize=(4,4)\n",
    "# fontsize=16\n",
    "# markersize=10\n",
    "# alpha=1.0\n",
    "# # ylim = (0.0005007487135910895, 5.156057164412211e+44)\n",
    "# # alpha=0.7\n",
    "# fig,ax=plt.subplots(figsize=figsize)\n",
    "# # #plot data\n",
    "# # # df_tau_fk[df_tau_fk['N0']==N0].plot.scatter(x='A',y='tau',s=markersize,alpha=alpha,ax=ax,label='Fenton-Karma',color='C0')\n",
    "# # # df_tau_lr[df_tau_lr['N0']==N0].plot.scatter(x='A',y='tau',s=markersize,alpha=alpha,ax=ax,label='Luo-Rudy',color='C1')\n",
    "# # df_tau_fk2[df_tau_fk2['N0']==N0].plot(x='A',y='tauratio',alpha=alpha,ax=ax,label='Fenton-Karma',color='C0',lw=2)\n",
    "# # df_tau_lr2[df_tau_lr2['N0']==N0].plot(x='A',y='tauratio',alpha=alpha,ax=ax,label='Luo-Rudy',color='C1',lw=2)\n",
    "\n",
    "\n",
    "# # #plot the fits as dotted lines\n",
    "# # # xv,yv=df_tau_fk[df_tau_fk['N0']==N0][['A','tau']].values.T\n",
    "# # xv,yv=df_tau_fk[(df_tau_fk['N0']==N0)&(df_tau_fk['A']>=25)][['A','tau']].values.T\n",
    "# # B,Delta_B,m,Delta_m,Rsq=fit_exponential(xv,yv)\n",
    "# # xvfk=xv.copy()\n",
    "# # yvhatfk=np.exp(xv*m+B)\n",
    "# # # yvhatfk=-B*np.exp(xv*m)\n",
    "# # # yvhatfk=1e-3*np.exp(xv*m)\n",
    "# # # yvhatfk=np.exp(xvfk/A0fk-B)\n",
    "# # ax.plot(xvfk,yvhatfk,'k:',alpha=0.7,lw=2)\n",
    "# # xv,yv=df_tau_lr[(df_tau_lr['N0']==N0)&(df_tau_lr['A']>=25)][['A','tau']].values.T\n",
    "# # B,Delta_B,m,Delta_m,Rsq=fit_exponential(xv,yv)\n",
    "# # xvlr=xv.copy()\n",
    "# # # yvhatlr=np.exp(xv*m-B)\n",
    "# # yvhatlr=np.exp(B)*np.exp(xv*m)\n",
    "# # ax.plot(xvlr,yvhatlr,'k:',alpha=0.7,lw=2)\n",
    "    \n",
    "# ax.plot(xvfk2,(yvhatfk20-yvhatfk2)/yvhatfk2,'k--',alpha=0.7,lw=2)\n",
    "# ax.plot(xvlr2,(yvhatlr20-yvhatlr2)/yvhatlr2,'k--',alpha=0.7,lw=2)\n",
    "\n",
    "\n",
    "# ax.plot(Afk,trfk-1,c='C0',alpha=.7,lw=2,label='Fenton-Karma')\n",
    "# ax.plot(Alr,trlr-1,c='C1',alpha=.7,lw=2,label='Luo-Rudy')\n",
    "\n",
    "# # ax.set_ylim([1,2.5])\n",
    "# ax.set_ylim([0,2])\n",
    "# #format plot, as before\n",
    "    \n",
    "# # format_plot\n",
    "# # format_plot(ax=ax,xlabel=r'$A$   (cm$^2$)',ylabel=r'$\\tau(N_0)$   (s)',fontsize=fontsize)\n",
    "# # format_plot(ax=ax,xlabel=r'$A$   (cm$^2$)',ylabel=r'$\\tau(N_0=20)\\,/\\,\\tau(N_0=2)$',fontsize=fontsize)\n",
    "# format_plot(ax=ax,xlabel=r'$A$   (cm$^2$)',ylabel=r'$(\\tau(N_0=20) - \\tau(N_0=2))\\,/\\,\\tau(N_0=2)$',fontsize=fontsize)\n",
    "# # ax.set_title(model_name,fontsize=fontsize)\n",
    "# # ax.set_yscale('log')\n",
    "# # plt.tight_layout()\n",
    "# ax.tick_params(top=True, right=True,direction='in',which='both')\n",
    "# ax.legend(fontsize=fontsize-2,frameon=False,loc='upper left')\n",
    "# # ax.set_ylim(ylim)\n",
    "# # ax.set_ylim(xlim)\n",
    "# plt.show()"
   ]
  },
  {
   "cell_type": "markdown",
   "id": "524f513f",
   "metadata": {},
   "source": [
    "# converting save file to ascii as the requested table"
   ]
  },
  {
   "cell_type": "code",
   "execution_count": 207,
   "id": "2ebbf7f6",
   "metadata": {
    "ExecuteTime": {
     "end_time": "2023-02-07T20:44:16.099098Z",
     "start_time": "2023-02-07T20:44:16.092531Z"
    }
   },
   "outputs": [],
   "source": [
    "#compute their correct ratio\n",
    "Afk = df_tau_fk20.loc[df_tau_fk20['N0']==2,'A'].values\n",
    "t2fk = df_tau_fk20.loc[df_tau_fk20['N0']==2,'tau'].values\n",
    "t20fk = df_tau_fk20.loc[df_tau_fk20['N0']==20,'tau'].values\n",
    "trfk=t20fk/t2fk\n",
    "\n",
    "Alr = df_tau_lr20.loc[df_tau_lr20['N0']==2,'A'].values\n",
    "t2lr = df_tau_lr20.loc[df_tau_lr20['N0']==2,'tau'].values\n",
    "t20lr = df_tau_lr20.loc[df_tau_lr20['N0']==20,'tau'].values\n",
    "trlr=t20lr/t2lr"
   ]
  },
  {
   "cell_type": "code",
   "execution_count": 208,
   "id": "1f335cd8",
   "metadata": {
    "ExecuteTime": {
     "end_time": "2023-02-07T20:44:16.468614Z",
     "start_time": "2023-02-07T20:44:16.463996Z"
    }
   },
   "outputs": [],
   "source": [
    "#DONE: get token inputs prepared\n",
    "dict_fit_death_lr = dict(wjr['lr_pbc'])\n",
    "dict_fit_death_fk = dict(wjr['fk_pbc'])\n",
    "Mp = dict_fit_birth_fk['M']\n",
    "nup = dict_fit_birth_fk['m']\n",
    "Mm = dict_fit_death_fk['M']\n",
    "num = dict_fit_death_fk['m']\n",
    "model_name='Fenton-Karma'\n",
    "\n",
    "# Mp = dict_fit_birth_lr['M']\n",
    "# nup = dict_fit_birth_lr['m']\n",
    "# Mm = dict_fit_death_lr['M']\n",
    "# num = dict_fit_death_lr['m']\n",
    "# model_name='Luo-Rudy'"
   ]
  },
  {
   "cell_type": "code",
   "execution_count": 209,
   "id": "4525e711",
   "metadata": {
    "ExecuteTime": {
     "end_time": "2023-02-07T20:44:16.844177Z",
     "start_time": "2023-02-07T20:44:16.839099Z"
    }
   },
   "outputs": [
    {
     "name": "stdout",
     "output_type": "stream",
     "text": [
      "rmse=0.02146081244355575\n",
      "mpe=3.0208628443993715\n",
      "Rsq=0.9654796556850139\n",
      "num_obs=73\n",
      "m=0.22959399086621063\n",
      "Delta_m=0.010098419553149371\n",
      "M=0.8642103569057054\n",
      "Delta_M=0.002349228836948769\n",
      "B=0.5295965607887574\n",
      "Delta_B=0.020570019807819657\n",
      "\n",
      "rmse=0.04167045716352006\n",
      "mpe=4.232291720696869\n",
      "Rsq=0.9970917077923233\n",
      "num_obs=62\n",
      "m=0.7147550082416185\n",
      "Delta_m=0.009767628218375237\n",
      "M=3.2770725040489235\n",
      "Delta_M=0.10264333510862889\n",
      "B=5.262675949542562\n",
      "Delta_B=0.10727785296723925\n"
     ]
    }
   ],
   "source": [
    "print_dict(dict_fit_birth_fk)\n",
    "print(f\"\")\n",
    "print_dict(dict_fit_birth_lr)"
   ]
  },
  {
   "cell_type": "code",
   "execution_count": 210,
   "id": "2bfb3b58",
   "metadata": {
    "ExecuteTime": {
     "end_time": "2023-02-07T20:44:17.238131Z",
     "start_time": "2023-02-07T20:44:17.235379Z"
    }
   },
   "outputs": [],
   "source": [
    "#Q: what does WJ want for 'full MTE'\n",
    "#NOTE: ^this means averaging over P_qs, which I didn't do before, but I can do now without much difficulty..."
   ]
  },
  {
   "cell_type": "code",
   "execution_count": 211,
   "id": "d5cbb138",
   "metadata": {
    "ExecuteTime": {
     "end_time": "2023-02-07T20:44:17.662027Z",
     "start_time": "2023-02-07T20:44:17.659243Z"
    }
   },
   "outputs": [],
   "source": [
    "# plot $\\tau$ versus $A$ for both the full models\n",
    "# fork from?: plot $\\tau(N_0)$ versus $A$ for both the full models\n",
    "# eval_tau_expression"
   ]
  },
  {
   "cell_type": "code",
   "execution_count": 212,
   "id": "285668d3",
   "metadata": {
    "ExecuteTime": {
     "end_time": "2023-02-07T20:44:18.031878Z",
     "start_time": "2023-02-07T20:44:18.029445Z"
    }
   },
   "outputs": [],
   "source": [
    "# eval_tau"
   ]
  },
  {
   "cell_type": "code",
   "execution_count": 213,
   "id": "144568fd",
   "metadata": {
    "ExecuteTime": {
     "end_time": "2023-02-07T20:49:09.167993Z",
     "start_time": "2023-02-07T20:44:19.178769Z"
    }
   },
   "outputs": [
    {
     "name": "stdout",
     "output_type": "stream",
     "text": [
      "Progress: |██████████████████████████████████████████████████| 100.0% Complete\r"
     ]
    }
   ],
   "source": [
    "num_iter=20 # runtime 3 seconds\n",
    "num_iter=20 # runtime 30 seconds integrating each a second time to the mean num. particles\n",
    "num_iter=20 # runtime 4 minutes integrating each a second time to the mean+30 particles\n",
    "# num_iter=21 # runtime 3.5 seconds\n",
    "# num_iter=40 # runtime 40 seconds\n",
    "# num_iter=100 # too long runtime >14\n",
    "printing=True\n",
    "A_values = Afk.copy()\n",
    "nvals=A_values.shape[0]\n",
    "tau_values = np.zeros(nvals)\n",
    "eval_tau= get_eval_tau(eval_tau_expression)\n",
    "for i,A in enumerate(A_values):\n",
    "    comp_Wp = get_comp_W(A,nup,Mp)\n",
    "    comp_Wm = get_comp_W(A,num,Mm)\n",
    "    phi = get_phi(comp_Wm,comp_Wp)\n",
    "    n_qs,prob_qs = comp_quasistatic_distrib_paired_bdrates(comp_Wm,comp_Wp,num_iter=num_iter,freq_prev=1.) #correct qs\n",
    "    Nbar = np.dot(n_qs,prob_qs)\n",
    "    #num_iter2 = int(np.ceil(Nbar))\n",
    "    #num_iter2 = int(np.ceil(Nbar))+3\n",
    "    num_iter2 = int(np.ceil(Nbar))+30 #4 min.\n",
    "    n_qs,prob_qs = comp_quasistatic_distrib_paired_bdrates(comp_Wm,comp_Wp,num_iter=num_iter2,freq_prev=1.) #correct qs\n",
    "    tau = eval_tau(n_qs, prob_qs, phi, comp_Wm, comp_Wp, printing=False)#,**kwargs)  # <<< primary source of runtime\n",
    "    #tau = eval_tau(n_qs, prob_qs, phi, comp_Wm, comp_Wp, printing=False,**kwargs)\n",
    "    tau_values[i]=tau\n",
    "    #print progress bar\n",
    "    if printing:\n",
    "        printProgressBar(i+1, nvals, prefix = 'Progress:', suffix = 'Complete', length = 50)        \n",
    "    "
   ]
  },
  {
   "cell_type": "code",
   "execution_count": 214,
   "id": "71d2fbeb",
   "metadata": {
    "ExecuteTime": {
     "end_time": "2023-02-07T20:49:09.173307Z",
     "start_time": "2023-02-07T20:49:09.171017Z"
    }
   },
   "outputs": [],
   "source": [
    "#record values in namespace\n",
    "A_values_fk,tau_values_fk = A_values.copy(),tau_values.copy()"
   ]
  },
  {
   "cell_type": "code",
   "execution_count": 195,
   "id": "dc33e323",
   "metadata": {
    "ExecuteTime": {
     "end_time": "2023-02-07T20:37:10.688324Z",
     "start_time": "2023-02-07T20:34:03.045057Z"
    }
   },
   "outputs": [
    {
     "name": "stdout",
     "output_type": "stream",
     "text": [
      "Progress: |██████████████████████████████████████████████████| 100.0% Complete\r"
     ]
    }
   ],
   "source": [
    "#repeat for LR model\n",
    "Mp = dict_fit_birth_lr['M']\n",
    "nup = dict_fit_birth_lr['m']\n",
    "Mm = dict_fit_death_lr['M']\n",
    "num = dict_fit_death_lr['m']\n",
    "model_name='Luo-Rudy'\n",
    "num_iter=20 # runtime 4 minutes integrating each a second time to the mean+30 particles\n",
    "printing=True\n",
    "A_values = Afk.copy()\n",
    "nvals=A_values.shape[0]\n",
    "tau_values = np.zeros(nvals)\n",
    "eval_tau= get_eval_tau(eval_tau_expression)\n",
    "for i,A in enumerate(A_values):\n",
    "    comp_Wp = get_comp_W(A,nup,Mp)\n",
    "    comp_Wm = get_comp_W(A,num,Mm)\n",
    "    phi = get_phi(comp_Wm,comp_Wp)\n",
    "    n_qs,prob_qs = comp_quasistatic_distrib_paired_bdrates(comp_Wm,comp_Wp,num_iter=num_iter,freq_prev=1.) #correct qs\n",
    "    Nbar = np.dot(n_qs,prob_qs)\n",
    "    #num_iter2 = int(np.ceil(Nbar))\n",
    "    #num_iter2 = int(np.ceil(Nbar))+3\n",
    "    num_iter2 = int(np.ceil(Nbar))+30 #4 min.\n",
    "    n_qs,prob_qs = comp_quasistatic_distrib_paired_bdrates(comp_Wm,comp_Wp,num_iter=num_iter2,freq_prev=1.) #correct qs\n",
    "    tau = eval_tau(n_qs, prob_qs, phi, comp_Wm, comp_Wp, printing=False)#,**kwargs)  # <<< primary source of runtime\n",
    "    #tau = eval_tau(n_qs, prob_qs, phi, comp_Wm, comp_Wp, printing=False,**kwargs)\n",
    "    tau_values[i]=tau\n",
    "    #print progress bar\n",
    "    if printing:\n",
    "        printProgressBar(i+1, nvals, prefix = 'Progress:', suffix = 'Complete', length = 50)        "
   ]
  },
  {
   "cell_type": "code",
   "execution_count": 197,
   "id": "636831c8",
   "metadata": {
    "ExecuteTime": {
     "end_time": "2023-02-07T20:37:10.870968Z",
     "start_time": "2023-02-07T20:37:10.868621Z"
    }
   },
   "outputs": [],
   "source": [
    "#record values in namespace\n",
    "A_values_lr,tau_values_lr = A_values.copy(),tau_values.copy()"
   ]
  },
  {
   "cell_type": "code",
   "execution_count": 216,
   "id": "6d9f7cf8",
   "metadata": {
    "ExecuteTime": {
     "end_time": "2023-02-07T20:49:09.380624Z",
     "start_time": "2023-02-07T20:49:09.193628Z"
    }
   },
   "outputs": [
    {
     "data": {
      "image/png": "[encoded data removed]",
      "text/plain": [
       "<Figure size 640x480 with 1 Axes>"
      ]
     },
     "metadata": {},
     "output_type": "display_data"
    }
   ],
   "source": [
    "plt.plot(A_values_fk,tau_values_fk)\n",
    "plt.plot(A_values_lr,tau_values_lr,c='C1')\n",
    "plt.yscale('log')\n",
    "format_plot(xlabel=r'$A$ (cm$^2$)',ylabel=r'$\\tau$   (s)')\n",
    "plt.show()"
   ]
  },
  {
   "cell_type": "code",
   "execution_count": 215,
   "id": "25631e33",
   "metadata": {
    "ExecuteTime": {
     "end_time": "2023-02-07T20:49:09.190219Z",
     "start_time": "2023-02-07T20:49:09.174605Z"
    }
   },
   "outputs": [
    {
     "data": {
      "text/html": [
       "<div>\n",
       "<style scoped>\n",
       "    .dataframe tbody tr th:only-of-type {\n",
       "        vertical-align: middle;\n",
       "    }\n",
       "\n",
       "    .dataframe tbody tr th {\n",
       "        vertical-align: top;\n",
       "    }\n",
       "\n",
       "    .dataframe thead th {\n",
       "        text-align: right;\n",
       "    }\n",
       "</style>\n",
       "<table border=\"1\" class=\"dataframe\">\n",
       "  <thead>\n",
       "    <tr style=\"text-align: right;\">\n",
       "      <th></th>\n",
       "      <th>model</th>\n",
       "      <th>area</th>\n",
       "      <th>full MTT</th>\n",
       "      <th>MTT(N=2)</th>\n",
       "      <th>MTT(N=20)</th>\n",
       "    </tr>\n",
       "  </thead>\n",
       "  <tbody>\n",
       "    <tr>\n",
       "      <th>0</th>\n",
       "      <td>FK</td>\n",
       "      <td>5</td>\n",
       "      <td>2.868253e-01</td>\n",
       "      <td>2.430422e-01</td>\n",
       "      <td>3.792453e-01</td>\n",
       "    </tr>\n",
       "    <tr>\n",
       "      <th>1</th>\n",
       "      <td>FK</td>\n",
       "      <td>10</td>\n",
       "      <td>7.976107e-01</td>\n",
       "      <td>6.785313e-01</td>\n",
       "      <td>9.731825e-01</td>\n",
       "    </tr>\n",
       "    <tr>\n",
       "      <th>2</th>\n",
       "      <td>FK</td>\n",
       "      <td>15</td>\n",
       "      <td>2.036781e+00</td>\n",
       "      <td>1.749740e+00</td>\n",
       "      <td>2.290591e+00</td>\n",
       "    </tr>\n",
       "    <tr>\n",
       "      <th>3</th>\n",
       "      <td>FK</td>\n",
       "      <td>20</td>\n",
       "      <td>5.350398e+00</td>\n",
       "      <td>4.681993e+00</td>\n",
       "      <td>5.669314e+00</td>\n",
       "    </tr>\n",
       "    <tr>\n",
       "      <th>4</th>\n",
       "      <td>FK</td>\n",
       "      <td>25</td>\n",
       "      <td>1.473431e+01</td>\n",
       "      <td>1.320377e+01</td>\n",
       "      <td>1.509984e+01</td>\n",
       "    </tr>\n",
       "    <tr>\n",
       "      <th>...</th>\n",
       "      <td>...</td>\n",
       "      <td>...</td>\n",
       "      <td>...</td>\n",
       "      <td>...</td>\n",
       "      <td>...</td>\n",
       "    </tr>\n",
       "    <tr>\n",
       "      <th>74</th>\n",
       "      <td>LR</td>\n",
       "      <td>375</td>\n",
       "      <td>2.698348e+10</td>\n",
       "      <td>2.583706e+10</td>\n",
       "      <td>2.698348e+10</td>\n",
       "    </tr>\n",
       "    <tr>\n",
       "      <th>75</th>\n",
       "      <td>LR</td>\n",
       "      <td>380</td>\n",
       "      <td>3.947962e+10</td>\n",
       "      <td>3.782358e+10</td>\n",
       "      <td>3.947962e+10</td>\n",
       "    </tr>\n",
       "    <tr>\n",
       "      <th>76</th>\n",
       "      <td>LR</td>\n",
       "      <td>385</td>\n",
       "      <td>5.777370e+10</td>\n",
       "      <td>5.538062e+10</td>\n",
       "      <td>5.777370e+10</td>\n",
       "    </tr>\n",
       "    <tr>\n",
       "      <th>77</th>\n",
       "      <td>LR</td>\n",
       "      <td>390</td>\n",
       "      <td>8.456044e+10</td>\n",
       "      <td>8.110109e+10</td>\n",
       "      <td>8.456045e+10</td>\n",
       "    </tr>\n",
       "    <tr>\n",
       "      <th>78</th>\n",
       "      <td>LR</td>\n",
       "      <td>395</td>\n",
       "      <td>1.237890e+11</td>\n",
       "      <td>1.187865e+11</td>\n",
       "      <td>1.237890e+11</td>\n",
       "    </tr>\n",
       "  </tbody>\n",
       "</table>\n",
       "<p>158 rows × 5 columns</p>\n",
       "</div>"
      ],
      "text/plain": [
       "   model  area      full MTT      MTT(N=2)     MTT(N=20)\n",
       "0     FK     5  2.868253e-01  2.430422e-01  3.792453e-01\n",
       "1     FK    10  7.976107e-01  6.785313e-01  9.731825e-01\n",
       "2     FK    15  2.036781e+00  1.749740e+00  2.290591e+00\n",
       "3     FK    20  5.350398e+00  4.681993e+00  5.669314e+00\n",
       "4     FK    25  1.473431e+01  1.320377e+01  1.509984e+01\n",
       "..   ...   ...           ...           ...           ...\n",
       "74    LR   375  2.698348e+10  2.583706e+10  2.698348e+10\n",
       "75    LR   380  3.947962e+10  3.782358e+10  3.947962e+10\n",
       "76    LR   385  5.777370e+10  5.538062e+10  5.777370e+10\n",
       "77    LR   390  8.456044e+10  8.110109e+10  8.456045e+10\n",
       "78    LR   395  1.237890e+11  1.187865e+11  1.237890e+11\n",
       "\n",
       "[158 rows x 5 columns]"
      ]
     },
     "execution_count": 215,
     "metadata": {},
     "output_type": "execute_result"
    }
   ],
   "source": [
    "#TODO: format ^these to df\n",
    "df1=pd.DataFrame({\n",
    "    'model':'FK',#'LR',\n",
    "    'area': A_values_fk, #Afk,#Alr,\n",
    "    'full MTT': tau_values_fk, #tau_values_lr\n",
    "    'MTT(N=2)': t2fk,  #t2lr,\n",
    "    'MTT(N=20)': t20fk, #t20lr,\n",
    "})\n",
    "df2=pd.DataFrame({\n",
    "    'model':'LR',\n",
    "    'area':Alr,\n",
    "    'full MTT': tau_values_lr,\n",
    "    'MTT(N=2)': t2lr,\n",
    "    'MTT(N=20)': t20lr,\n",
    "})\n",
    "df_tau_vs_A=pd.concat([df1,df2])\n",
    "# area, full MTE, MTE(N=2), MTE(N=20).\n",
    "# pandas.DataFrame.to_csv\n",
    "# encoding : string, optional\n",
    "# A string representing the encoding to use in the output file, defaults to ‘ascii’ on Python 2 and ‘utf-8’ on Python 3\n",
    "df_tau_vs_A"
   ]
  },
  {
   "cell_type": "code",
   "execution_count": 220,
   "id": "c0c9f27d",
   "metadata": {
    "ExecuteTime": {
     "end_time": "2023-02-07T21:00:27.607684Z",
     "start_time": "2023-02-07T21:00:27.599578Z"
    }
   },
   "outputs": [
    {
     "name": "stdout",
     "output_type": "stream",
     "text": [
      "save_tau_vs_A_dir='/Users/timothytyree/Documents/GitHub/bgmc/python/data/figure_data_tau_vs_A.csv'\n"
     ]
    }
   ],
   "source": [
    "#save df as .csv with encoding='ascii'\n",
    "save_tau_vs_A_dir = f\"{nb_dir}/data/figure_data_tau_vs_A_c.csv\"\n",
    "# save_tau_vs_A_dir = f\"{nb_dir}/data/figure_data_tau_vs_A.csv\"\n",
    "df_tau_vs_A.to_csv(save_tau_vs_A_dir,encoding='ascii',index=False)\n",
    "print(f\"{save_tau_vs_A_dir=}\")"
   ]
  },
  {
   "cell_type": "code",
   "execution_count": 218,
   "id": "be94c987",
   "metadata": {
    "ExecuteTime": {
     "end_time": "2023-02-07T20:49:31.276705Z",
     "start_time": "2023-02-07T20:49:30.624585Z"
    }
   },
   "outputs": [
    {
     "name": "stdout",
     "output_type": "stream",
     "text": [
      "-n \u0007\n",
      "-n \u0007\n",
      "-n \u0007\n"
     ]
    },
    {
     "data": {
      "text/plain": [
       "0"
      ]
     },
     "execution_count": 218,
     "metadata": {},
     "output_type": "execute_result"
    }
   ],
   "source": [
    "beep(3)"
   ]
  },
  {
   "cell_type": "code",
   "execution_count": 219,
   "id": "adb06548",
   "metadata": {
    "ExecuteTime": {
     "end_time": "2023-02-07T20:49:31.957290Z",
     "start_time": "2023-02-07T20:49:31.949252Z"
    }
   },
   "outputs": [
    {
     "data": {
      "text/html": [
       "<div>\n",
       "<style scoped>\n",
       "    .dataframe tbody tr th:only-of-type {\n",
       "        vertical-align: middle;\n",
       "    }\n",
       "\n",
       "    .dataframe tbody tr th {\n",
       "        vertical-align: top;\n",
       "    }\n",
       "\n",
       "    .dataframe thead th {\n",
       "        text-align: right;\n",
       "    }\n",
       "</style>\n",
       "<table border=\"1\" class=\"dataframe\">\n",
       "  <thead>\n",
       "    <tr style=\"text-align: right;\">\n",
       "      <th></th>\n",
       "      <th>model</th>\n",
       "      <th>area</th>\n",
       "      <th>full MTT</th>\n",
       "      <th>MTT(N=2)</th>\n",
       "      <th>MTT(N=20)</th>\n",
       "    </tr>\n",
       "  </thead>\n",
       "  <tbody>\n",
       "    <tr>\n",
       "      <th>4</th>\n",
       "      <td>FK</td>\n",
       "      <td>25</td>\n",
       "      <td>14.734314</td>\n",
       "      <td>13.203774</td>\n",
       "      <td>15.099838</td>\n",
       "    </tr>\n",
       "    <tr>\n",
       "      <th>4</th>\n",
       "      <td>LR</td>\n",
       "      <td>25</td>\n",
       "      <td>0.443404</td>\n",
       "      <td>0.337228</td>\n",
       "      <td>0.548641</td>\n",
       "    </tr>\n",
       "  </tbody>\n",
       "</table>\n",
       "</div>"
      ],
      "text/plain": [
       "  model  area   full MTT   MTT(N=2)  MTT(N=20)\n",
       "4    FK    25  14.734314  13.203774  15.099838\n",
       "4    LR    25   0.443404   0.337228   0.548641"
      ]
     },
     "execution_count": 219,
     "metadata": {},
     "output_type": "execute_result"
    }
   ],
   "source": [
    "# Q: does tau agree any better with Table 2?\n",
    "df_tau_vs_A[df_tau_vs_A['area']==25]"
   ]
  },
  {
   "cell_type": "code",
   "execution_count": null,
   "id": "0240a52a",
   "metadata": {},
   "outputs": [],
   "source": []
  },
  {
   "cell_type": "code",
   "execution_count": 104,
   "id": "7c3ce83f",
   "metadata": {
    "ExecuteTime": {
     "end_time": "2023-02-07T04:20:14.169371Z",
     "start_time": "2023-02-07T04:20:14.165387Z"
    }
   },
   "outputs": [],
   "source": [
    "# # xfactor=4.\n",
    "# # xfactor=0.7 #<<worse.\n",
    "# # xfactor=0.66 #<<worse\n",
    "# # xfactor=0.6 #<<worse?\n",
    "# # xfactor=0.55 #<<worse?\n",
    "# # xfactor=1 #<<worse?\n",
    "# # xfactor = (1.46025/2.21033)**2\n",
    "# # xfactor=0.45 #<<worse.\n",
    "# xfactor=0.5\n",
    "# # xfactor=2/np.pi\n",
    "# # xfactor=3/np.pi/2\n",
    "# # xfactor=4/np.pi/3\n",
    "# # xfactor=5/np.pi/4"
   ]
  },
  {
   "cell_type": "code",
   "execution_count": 105,
   "id": "df0124df",
   "metadata": {
    "ExecuteTime": {
     "end_time": "2023-02-07T04:20:14.180391Z",
     "start_time": "2023-02-07T04:20:14.175459Z"
    }
   },
   "outputs": [],
   "source": [
    "\n",
    "# Mp = dict_fit_birth_fk['M']\n",
    "# nup = dict_fit_birth_fk['m']\n",
    "# Mm = dict_fit_death_fk['M']\n",
    "# num = dict_fit_death_fk['m']\n",
    "# model_name='Fenton-Karma'\n",
    "# # nu=nup;nup=num;num=nu\n",
    "\n",
    "# A0=A0fk\n",
    "# Delta_A0=Delta_A0fk\n",
    "# # x=Mp/Mm * (A0/2.)**(num-nup)\n",
    "# # Delta_x=np.abs(Mp/Mm * ((Delta_A0+A0)/2.)**(num-nup) - x)\n",
    "# x=Mp/Mm * (A0/xfactor)**(num-nup)\n",
    "# Delta_x=np.abs(Mp/Mm * ((Delta_A0+A0)/xfactor)**(num-nup) - x)\n",
    "# print(f\"\\nFor {model_name}:\")\n",
    "# print(f\"Inputs:\")\n",
    "# print(f\"- {Mp=}; {nup=}\")\n",
    "# print(f\"- {Mm=}; {num=}\")\n",
    "# _xv = np.arange(0.02, 1,0.01)\n",
    "# qstar,wstar = comp_powerlaw_intersection(Mp,nup,Mm,num,xv=_xv)\n",
    "# print(f\"Outputs:\")\n",
    "# print(f\"\\t--> {qstar=:.4f}; {wstar=:.4f}\")\n",
    "# print(f\"*** {x=:.5f} +/- {Delta_x:.5f} ({xfactor=})\")\n",
    "# # print(f\"let y=x**(1/(num-nup)). then,\")\n",
    "# y=x**(1/(num-nup))\n",
    "# Delta_y=Delta_x**(1/(num-nup))\n",
    "# print(f\"*** {y=:.5f} +/- {Delta_y:.5f} ***\")\n",
    "\n",
    "\n",
    "# Mp = dict_fit_birth_lr['M']\n",
    "# nup = dict_fit_birth_lr['m']\n",
    "# Mm = dict_fit_death_lr['M']\n",
    "# num = dict_fit_death_lr['m']\n",
    "# model_name='Luo-Rudy'\n",
    "# # nu=nup;nup=num;num=nu\n",
    "\n",
    "# A0=A0lr\n",
    "# Delta_A0=Delta_A0lr\n",
    "# # x=Mp/Mm * (A0/2.)**(num-nup)\n",
    "# # Delta_x=np.abs(Mp/Mm * ((Delta_A0+A0)/2.)**(num-nup) - x)\n",
    "# x=Mp/Mm * (A0/xfactor)**(num-nup)\n",
    "# Delta_x=np.abs(Mp/Mm * ((Delta_A0+A0)/xfactor)**(num-nup) - x)\n",
    "# print(f\"\\nFor {model_name}:\")\n",
    "# print(f\"Inputs:\")\n",
    "# print(f\"- {Mp=}; {nup=}\")\n",
    "# print(f\"- {Mm=}; {num=}\")\n",
    "# _xv = np.arange(0.02, 1,0.01)\n",
    "# qstar,wstar = comp_powerlaw_intersection(Mp,nup,Mm,num,xv=_xv)\n",
    "# print(f\"Outputs:\")\n",
    "# print(f\"\\t--> {qstar=:.4f}; {wstar=:.4f}\")\n",
    "# print(f\"*** {x=:.5f} +/- {Delta_x:.5f} \")\n",
    "# # print(f\"let y=x**(1/(num-nup)). then,\")\n",
    "# y=x**(1/(num-nup))\n",
    "# Delta_y=Delta_x**(1/(num-nup))\n",
    "# print(f\"*** {y=:.5f} +/- {Delta_y:.5f} ***\")\n",
    "\n",
    "# print(f\"\\nQ: Do x agree?\")\n",
    "# print(f\"here: {xfactor=}\")"
   ]
  },
  {
   "cell_type": "code",
   "execution_count": 106,
   "id": "5691878f",
   "metadata": {
    "ExecuteTime": {
     "end_time": "2023-02-07T04:20:14.200589Z",
     "start_time": "2023-02-07T04:20:14.183337Z"
    }
   },
   "outputs": [
    {
     "name": "stdout",
     "output_type": "stream",
     "text": [
      "OLS Exponential Fits:\n",
      "\n",
      "Fenton-Karma:\n",
      "- A0:\t13.7367 +/- 0.8758 (cm^2)\n",
      "- tau0:\t0.0593 +/- 0.0048 (seconds)\n",
      "\n",
      "Luo-Rudy:\n",
      "- A0:\t13.7367 +/- 0.8758 (cm^2)\n",
      "- tau0:\t0.0593 +/- 0.0048 (seconds)\n"
     ]
    }
   ],
   "source": [
    "#print the exponential fits. \n",
    "\n",
    "#fit exponentials to FK\n",
    "print(f\"OLS Exponential Fits:\")\n",
    "xv = A_values_fk\n",
    "yv = tau_values_fk\n",
    "#compute exponential fit and characteristic area\n",
    "B,Delta_B,m,Delta_m,Rsq=fit_exponential(xv[xv>Amin],yv[xv>Amin])\n",
    "# B,Delta_B,m,Delta_m,Rsq=fit_exponential(xv,yv)\n",
    "yvhat=np.exp(xv*m+B)\n",
    "rmse=np.sqrt(np.mean((yvhat-yv)**2))\n",
    "print(f\"\\nFenton-Karma:\")\n",
    "# print_fit_exponential(xv,yv)\n",
    "A0fk=float(1./m)\n",
    "Delta_A0fk=float(Delta_m*float(1./m)/(m**2))\n",
    "yvhatfk=yvhat.copy()\n",
    "yvfk=yv.copy()\n",
    "xvfk=xv.copy()\n",
    "print(f\"- A0:\\t{A0fk:.4f} +/- {Delta_A0fk:.4f} (cm^2)\")\n",
    "tau0=np.exp(B)\n",
    "Delta_tau0=float(np.exp(B+Delta_B)-tau0)\n",
    "print(f\"- tau0:\\t{tau0:.4f} +/- {Delta_tau0:.4f} (seconds)\")\n",
    "tau0fk=float(tau0)\n",
    "Delta_tau0fk=float(Delta_tau0)\n",
    "\n",
    "print(f\"\\nLuo-Rudy:\")\n",
    "xv = A_values_lr\n",
    "yv = tau_values_lr\n",
    "#compute exponential fit and characteristic area\n",
    "B,Delta_B,m,Delta_m,Rsq=fit_exponential(xv[xv>Amin],yv[xv>Amin])\n",
    "# B,Delta_B,m,Delta_m,Rsq=fit_exponential(xv,yv)\n",
    "yvhat=np.exp(xv*m+B)\n",
    "rmse=np.sqrt(np.mean((yvhat-yv)**2))\n",
    "# print_fit_exponential(xv,yv)\n",
    "A0lr=float(1./m)\n",
    "Delta_A0lr=float(Delta_m*float(1./m)/(m**2))\n",
    "yvhatlr=yvhat.copy()\n",
    "yvlr=yv.copy()\n",
    "xvlr=xv.copy()\n",
    "print(f\"- A0:\\t{A0lr:.4f} +/- {Delta_A0lr:.4f} (cm^2)\")\n",
    "tau0=np.exp(B)\n",
    "Delta_tau0=float(np.exp(B+Delta_B)-tau0)\n",
    "print(f\"- tau0:\\t{tau0:.4f} +/- {Delta_tau0:.4f} (seconds)\")\n",
    "tau0lr=float(tau0)\n",
    "Delta_tau0lr=float(Delta_tau0)"
   ]
  },
  {
   "cell_type": "markdown",
   "id": "f965970e",
   "metadata": {
    "ExecuteTime": {
     "end_time": "2023-02-07T04:20:14.213399Z",
     "start_time": "2023-02-07T04:20:14.204137Z"
    }
   },
   "source": [
    "before change: \n",
    "\n",
    "OLS Exponential Fits:\n",
    "\n",
    "Fenton-Karma:\n",
    "- A0:\t13.7367 +/- 0.8758 (cm^2)\n",
    "- tau0:\t0.0593 +/- 0.0048 (seconds)\n",
    "\n",
    "Luo-Rudy:\n",
    "- A0:\t13.7367 +/- 0.8758 (cm^2)\n",
    "- tau0:\t0.0593 +/- 0.0048 (seconds)"
   ]
  },
  {
   "cell_type": "code",
   "execution_count": 115,
   "id": "ee0584f3",
   "metadata": {
    "ExecuteTime": {
     "end_time": "2023-02-07T19:32:28.906195Z",
     "start_time": "2023-02-07T19:32:28.172239Z"
    }
   },
   "outputs": [
    {
     "data": {
      "image/png": "[encoded data removed]",
      "text/plain": [
       "<Figure size 400x400 with 1 Axes>"
      ]
     },
     "metadata": {},
     "output_type": "display_data"
    }
   ],
   "source": [
    "#TODO: plot traces with exponential fits overlaid, like before\n",
    "#basic scatter plot of the data at N_0 given\n",
    "# xlim\n",
    "figsize=(4,4)\n",
    "fontsize=16\n",
    "markersize=10\n",
    "alpha=1.0\n",
    "ycol='tau'\n",
    "ycol='full MTT'\n",
    "# ylim = (0.0005007487135910895, 5.156057164412211e+44)\n",
    "# alpha=0.7\n",
    "fig,ax=plt.subplots(figsize=figsize)\n",
    "#plot data\n",
    "# df_tau_fk[df_tau_fk['N0']==N0].plot.scatter(x='A',y='tau',s=markersize,alpha=alpha,ax=ax,label='Fenton-Karma',color='C0')\n",
    "# df_tau_lr[df_tau_lr['N0']==N0].plot.scatter(x='A',y='tau',s=markersize,alpha=alpha,ax=ax,label='Luo-Rudy',color='C1')\n",
    "df_tau_vs_A[df_tau_vs_A['model']=='FK'].plot(x='area',y=ycol,alpha=alpha,ax=ax,label='Fenton-Karma',color='C0',lw=2)\n",
    "df_tau_vs_A[df_tau_vs_A['model']=='LR'].plot(x='area',y=ycol,alpha=alpha,ax=ax,label='Luo-Rudy',color='C1',lw=2)\n",
    "\n",
    "#plot the fits as dotted lines\n",
    "# xv,yv=df_tau_fk[df_tau_fk['N0']==N0][['A','tau']].values.T\n",
    "# xv,yv=df_tau_fk[(df_tau_fk['N0']==N0)&(df_tau_fk['A']>=25)][['A','tau']].values.T\n",
    "xv,yv=df_tau_vs_A[df_tau_vs_A['model']=='FK'][['area',ycol]].values.T\n",
    "B,Delta_B,m,Delta_m,Rsq=fit_exponential(xv[xv>Amin],yv[xv>Amin])\n",
    "# B,Delta_B,m,Delta_m,Rsq=fit_exponential(xv,yv)\n",
    "xvfk=xv.copy()\n",
    "yvhatfk=np.exp(xv*m+B)\n",
    "# yvhatfk=-B*np.exp(xv*m)\n",
    "# yvhatfk=1e-3*np.exp(xv*m)\n",
    "# yvhatfk=np.exp(xvfk/A0fk-B)\n",
    "ax.plot(xvfk,yvhatfk,'k:',alpha=0.7,lw=2)\n",
    "\n",
    "# xv,yv=df_tau_lr[(df_tau_lr['N0']==N0)&(df_tau_lr['A']>=25)][['A','tau']].values.T\n",
    "xv,yv=df_tau_vs_A[df_tau_vs_A['model']=='LR'][['area',ycol]].values.T\n",
    "B,Delta_B,m,Delta_m,Rsq=fit_exponential(xv[xv>Amin],yv[xv>Amin])\n",
    "# B,Delta_B,m,Delta_m,Rsq=fit_exponential(xv,yv)\n",
    "xvlr=xv.copy()\n",
    "# yvhatlr=np.exp(xv*m-B)\n",
    "yvhatlr=np.exp(B)*np.exp(xv*m)\n",
    "ax.plot(xvlr,yvhatlr,'k:',alpha=0.7,lw=2)\n",
    "\n",
    "# format_plot\n",
    "# format_plot(ax=ax,xlabel=r'$A$   (cm$^2$)',ylabel=r'$\\tau(N_0)$   (s)',fontsize=fontsize)\n",
    "format_plot(ax=ax,xlabel=r'$A$   (cm$^2$)',ylabel=r'$\\tau\\;$  (seconds)',fontsize=fontsize)\n",
    "# ax.set_title(model_name,fontsize=fontsize)\n",
    "ax.set_yscale('log')\n",
    "# plt.tight_layout()\n",
    "ax.tick_params(top=True, right=True,direction='in',which='both')\n",
    "ax.legend(fontsize=fontsize-2,frameon=False,loc='upper left')\n",
    "# ax.set_ylim(ylim)\n",
    "# ax.set_ylim(xlim)\n",
    "plt.show()"
   ]
  },
  {
   "cell_type": "code",
   "execution_count": 109,
   "id": "68c5b924",
   "metadata": {
    "ExecuteTime": {
     "end_time": "2023-02-07T04:20:14.568545Z",
     "start_time": "2023-02-07T04:20:14.566030Z"
    }
   },
   "outputs": [],
   "source": [
    "#DONE: add exponential fits to .odg\n",
    "#TODO: copy the input powerlaw fits to .odg\n",
    "#heretim\n",
    "#TODO: update .odg and share with WJ, attaching the aforementioned .csv"
   ]
  },
  {
   "cell_type": "code",
   "execution_count": 110,
   "id": "b26ac5f3",
   "metadata": {
    "ExecuteTime": {
     "end_time": "2023-02-07T04:20:14.578555Z",
     "start_time": "2023-02-07T04:20:14.570537Z"
    }
   },
   "outputs": [
    {
     "name": "stdout",
     "output_type": "stream",
     "text": [
      "Fenton-Karma:\n",
      "  Mp=0.8642103569057054; nup=0.22959399086621063\n",
      "  Mm=5.572315674840435; num=1.8772341309722325\n",
      "    --> mean values: qstar=0.3200; wstar=0.6653\n",
      "Luo-Rudy:\n",
      "  Mp=3.2770725040489235; nup=0.7147550082416185\n",
      "  Mm=16.73559858353835; num=1.6375562704001745\n",
      "    --> mean values: qstar=0.1700; wstar=0.9235\n"
     ]
    }
   ],
   "source": [
    "#DONE: get token inputs prepared\n",
    "dict_fit_death_lr = dict(wjr['lr_pbc'])\n",
    "dict_fit_death_fk = dict(wjr['fk_pbc'])\n",
    "Mp = dict_fit_birth_fk['M']\n",
    "nup = dict_fit_birth_fk['m']\n",
    "Mm = dict_fit_death_fk['M']\n",
    "num = dict_fit_death_fk['m']\n",
    "model_name='Fenton-Karma'\n",
    "print(f\"{model_name}:\")\n",
    "print(f\"  {Mp=}; {nup=}\")\n",
    "print(f\"  {Mm=}; {num=}\")\n",
    "xv = np.arange(0.02, 1,0.01)\n",
    "qstar,wstar = comp_powerlaw_intersection(Mp,nup,Mm,num,xv=xv)\n",
    "print(f\"    --> mean values: {qstar=:.4f}; {wstar=:.4f}\")\n",
    "\n",
    "\n",
    "Mp = dict_fit_birth_lr['M']\n",
    "nup = dict_fit_birth_lr['m']\n",
    "Mm = dict_fit_death_lr['M']\n",
    "num = dict_fit_death_lr['m']\n",
    "model_name='Luo-Rudy'\n",
    "print(f\"{model_name}:\")\n",
    "print(f\"  {Mp=}; {nup=}\")\n",
    "print(f\"  {Mm=}; {num=}\")\n",
    "xv = np.arange(0.02, 1,0.01)\n",
    "qstar,wstar = comp_powerlaw_intersection(Mp,nup,Mm,num,xv=xv)\n",
    "print(f\"    --> mean values: {qstar=:.4f}; {wstar=:.4f}\")\n",
    "\n"
   ]
  },
  {
   "cell_type": "code",
   "execution_count": null,
   "id": "f7e6d3ef",
   "metadata": {},
   "outputs": [],
   "source": []
  },
  {
   "cell_type": "code",
   "execution_count": null,
   "id": "1f3e9de0",
   "metadata": {},
   "outputs": [],
   "source": []
  },
  {
   "cell_type": "code",
   "execution_count": 111,
   "id": "f31f7cb7",
   "metadata": {
    "ExecuteTime": {
     "end_time": "2023-02-07T04:20:14.583553Z",
     "start_time": "2023-02-07T04:20:14.580839Z"
    }
   },
   "outputs": [],
   "source": [
    "# #DONE: estimate the exponential fit using fit_exponential\n",
    "# xv=A_values.copy(); yv=tau_values.copy()\n",
    "# B,Delta_B,m,Delta_m,Rsq=fit_exponential(xv,yv)\n",
    "# yvhat=np.exp(B)*np.exp(xv*m)\n",
    "# plt.plot(xv,yvhat,'k:',alpha=0.7,lw=2)\n",
    "# plt.yscale('log')"
   ]
  },
  {
   "cell_type": "code",
   "execution_count": 112,
   "id": "1ea98d94",
   "metadata": {
    "ExecuteTime": {
     "end_time": "2023-02-07T04:20:15.216616Z",
     "start_time": "2023-02-07T04:20:14.585783Z"
    }
   },
   "outputs": [
    {
     "name": "stdout",
     "output_type": "stream",
     "text": [
      "-n \u0007\n",
      "-n \u0007\n",
      "-n \u0007\n"
     ]
    },
    {
     "data": {
      "text/plain": [
       "0"
      ]
     },
     "execution_count": 112,
     "metadata": {},
     "output_type": "execute_result"
    }
   ],
   "source": [
    "beep(3)\n",
    "#TODO: plot ^this trace for LR overlaid with FK\n",
    "#TODO: save ^these to .csv with the other data\n",
    "#TODO: share with wjr"
   ]
  },
  {
   "cell_type": "code",
   "execution_count": 113,
   "id": "78cda6a5",
   "metadata": {
    "ExecuteTime": {
     "end_time": "2023-02-07T04:20:15.421726Z",
     "start_time": "2023-02-07T04:20:15.218320Z"
    }
   },
   "outputs": [
    {
     "data": {
      "image/png": "[encoded data removed]",
      "text/plain": [
       "<Figure size 640x480 with 1 Axes>"
      ]
     },
     "metadata": {},
     "output_type": "display_data"
    }
   ],
   "source": [
    "#heretim\n",
    "plt.plot(A_values,tau_values)\n",
    "plt.yscale('log')\n",
    "format_plot(xlabel=r'$A$ (cm$^2$)',ylabel=r'$\\tau$   (s)')\n",
    "plt.show()"
   ]
  },
  {
   "cell_type": "code",
   "execution_count": null,
   "id": "403627f0",
   "metadata": {},
   "outputs": [],
   "source": []
  },
  {
   "cell_type": "code",
   "execution_count": 242,
   "id": "03a7a0f0",
   "metadata": {
    "ExecuteTime": {
     "end_time": "2023-02-07T21:11:04.184936Z",
     "start_time": "2023-02-07T21:11:04.132895Z"
    }
   },
   "outputs": [],
   "source": [
    "A=25\n",
    "comp_Wp = get_comp_W(A,nup,Mp)\n",
    "comp_Wm = get_comp_W(A,num,Mm)\n",
    "phi = get_phi(comp_Wm,comp_Wp)\n",
    "n_qs,prob_qs = comp_quasistatic_distrib_paired_bdrates(comp_Wm,comp_Wp,num_iter=num_iter,freq_prev=1.) #correct qs\n",
    "Nbar = np.dot(n_qs,prob_qs)"
   ]
  },
  {
   "cell_type": "code",
   "execution_count": 243,
   "id": "62752938",
   "metadata": {
    "ExecuteTime": {
     "end_time": "2023-02-07T21:11:04.573244Z",
     "start_time": "2023-02-07T21:11:04.398063Z"
    }
   },
   "outputs": [
    {
     "name": "stdout",
     "output_type": "stream",
     "text": [
      "tau=25.856213587248263, (Nbar=7.624837359362673)\n"
     ]
    }
   ],
   "source": [
    "#Q: does changing the divide by net probability change tau?\n",
    "# A: no.\n",
    "#Q: does changing max cutoff change tau?\n",
    "# A: no.\n",
    "#Q: does reversing the change to inner_sum *= phi(2*k) change tau?\n",
    "# A: yes. tau=25.856213587248263, (Nbar=7.624837359362673)\n",
    "#heretim\n",
    "eval_tau= get_eval_tau(eval_tau_expression)\n",
    "tau = eval_tau(n_qs, prob_qs, phi, comp_Wm, comp_Wp, printing=False,**kwargs)\n",
    "print(f\"{tau=}, ({Nbar=})\")"
   ]
  },
  {
   "cell_type": "code",
   "execution_count": 244,
   "id": "4759c3d1",
   "metadata": {
    "ExecuteTime": {
     "end_time": "2023-02-07T21:11:48.967573Z",
     "start_time": "2023-02-07T21:11:48.796160Z"
    }
   },
   "outputs": [
    {
     "name": "stdout",
     "output_type": "stream",
     "text": [
      "tau=14.733454107853746, (Nbar=7.624837359362673)\n"
     ]
    }
   ],
   "source": [
    "#after change to inner_sum *= phi(2*k) change tau\n",
    "eval_tau= get_eval_tau(eval_tau_expression)\n",
    "tau = eval_tau(n_qs, prob_qs, phi, comp_Wm, comp_Wp, printing=False,**kwargs)\n",
    "print(f\"{tau=}, ({Nbar=})\")"
   ]
  },
  {
   "cell_type": "code",
   "execution_count": 245,
   "id": "d249667c",
   "metadata": {
    "ExecuteTime": {
     "end_time": "2023-02-07T21:24:25.791256Z",
     "start_time": "2023-02-07T21:24:25.605965Z"
    }
   },
   "outputs": [
    {
     "name": "stdout",
     "output_type": "stream",
     "text": [
      "tau=1.7095882829488598, (Nbar=7.624837359362673)\n"
     ]
    }
   ],
   "source": [
    "#after change to kk from k\n",
    "eval_tau= get_eval_tau(eval_tau_expression)\n",
    "tau = eval_tau(n_qs, prob_qs, phi, comp_Wm, comp_Wp, printing=False,**kwargs)\n",
    "print(f\"{tau=}, ({Nbar=})\")"
   ]
  },
  {
   "cell_type": "code",
   "execution_count": 261,
   "id": "9193b35d",
   "metadata": {
    "ExecuteTime": {
     "end_time": "2023-02-07T21:42:32.696859Z",
     "start_time": "2023-02-07T21:42:32.626010Z"
    }
   },
   "outputs": [
    {
     "name": "stdout",
     "output_type": "stream",
     "text": [
      "tau=14.733453304183998, (Nbar=7.62)\n"
     ]
    }
   ],
   "source": [
    "#after change to j from jj\n",
    "eval_tau= get_eval_tau(eval_tau_expression)\n",
    "tau = eval_tau(n_qs, prob_qs, phi, comp_Wm, comp_Wp, printing=False,**kwargs)\n",
    "print(f\"{tau=}, ({Nbar=:.2f})\")"
   ]
  },
  {
   "cell_type": "code",
   "execution_count": null,
   "id": "85e7393e",
   "metadata": {
    "ExecuteTime": {
     "end_time": "2023-02-07T21:43:56.682525Z",
     "start_time": "2023-02-07T21:43:56.612169Z"
    }
   },
   "outputs": [],
   "source": []
  },
  {
   "cell_type": "code",
   "execution_count": 262,
   "id": "f56c78f7",
   "metadata": {
    "ExecuteTime": {
     "end_time": "2023-02-07T21:42:47.950573Z",
     "start_time": "2023-02-07T21:42:47.785603Z"
    }
   },
   "outputs": [
    {
     "name": "stdout",
     "output_type": "stream",
     "text": [
      "tau=14.733454107853746, (Nbar=7.62)\n"
     ]
    }
   ],
   "source": [
    "#...\n",
    "eval_tau= get_eval_tau(eval_tau_expression)\n",
    "tau = eval_tau(n_qs, prob_qs, phi, comp_Wm, comp_Wp, printing=False,**kwargs)\n",
    "print(f\"{tau=}, ({Nbar=:.2f})\")"
   ]
  },
  {
   "cell_type": "code",
   "execution_count": 265,
   "id": "d04c828b",
   "metadata": {
    "ExecuteTime": {
     "end_time": "2023-02-07T21:46:22.947659Z",
     "start_time": "2023-02-07T21:46:22.909247Z"
    }
   },
   "outputs": [
    {
     "name": "stdout",
     "output_type": "stream",
     "text": [
      "2\n",
      "3\n",
      "4\n",
      "5\n",
      "6\n",
      "7\n",
      "8\n",
      "9\n",
      "10\n",
      "11\n",
      "12\n",
      "13\n",
      "14\n",
      "15\n",
      "16\n",
      "17\n",
      "18\n",
      "19\n"
     ]
    }
   ],
   "source": [
    "# phi(2)-0.1004090260 = 7.64461033277708e-05 >>> the error between our phi(2) values\n",
    "for j in range(2,20):\n",
    "    print(j)"
   ]
  },
  {
   "cell_type": "code",
   "execution_count": 253,
   "id": "26860b40",
   "metadata": {
    "ExecuteTime": {
     "end_time": "2023-02-07T21:33:26.410137Z",
     "start_time": "2023-02-07T21:33:26.364362Z"
    }
   },
   "outputs": [
    {
     "data": {
      "text/plain": [
       "1.8873048200950442"
      ]
     },
     "execution_count": 253,
     "metadata": {},
     "output_type": "execute_result"
    }
   ],
   "source": [
    "# FK:\n",
    "# - Full MTE: 27.8±6.5 s\n",
    "# - MTE (before change): 25.9 s\n",
    "# - MTE (after change): 14.73 s \n",
    "27.8/14.73"
   ]
  },
  {
   "cell_type": "code",
   "execution_count": 254,
   "id": "c545abde",
   "metadata": {
    "ExecuteTime": {
     "end_time": "2023-02-07T21:33:50.517808Z",
     "start_time": "2023-02-07T21:33:50.445281Z"
    }
   },
   "outputs": [
    {
     "data": {
      "text/plain": [
       "1.6086956521739129"
      ]
     },
     "execution_count": 254,
     "metadata": {},
     "output_type": "execute_result"
    }
   ],
   "source": [
    "# LR:\n",
    "# - Full MTE: 0.74±0.06 s\n",
    "# - MTE (before change): 0.51 s\n",
    "# - MTE (after change): 0.46 s \n",
    "0.74/0.46"
   ]
  },
  {
   "cell_type": "code",
   "execution_count": 266,
   "id": "e6235101",
   "metadata": {
    "ExecuteTime": {
     "end_time": "2023-02-07T21:49:04.161929Z",
     "start_time": "2023-02-07T21:49:04.112003Z"
    }
   },
   "outputs": [
    {
     "data": {
      "text/plain": [
       "0.10048547210332777"
      ]
     },
     "execution_count": 266,
     "metadata": {},
     "output_type": "execute_result"
    }
   ],
   "source": [
    "phi(2)"
   ]
  },
  {
   "cell_type": "code",
   "execution_count": null,
   "id": "9af8cc88",
   "metadata": {},
   "outputs": [],
   "source": []
  },
  {
   "cell_type": "code",
   "execution_count": null,
   "id": "e7d4f52f",
   "metadata": {},
   "outputs": [],
   "source": []
  },
  {
   "cell_type": "code",
   "execution_count": null,
   "id": "2907763a",
   "metadata": {},
   "outputs": [],
   "source": []
  }
 ],
 "metadata": {
  "hide_input": false,
  "kernelspec": {
   "display_name": "Python 3 (ipykernel)",
   "language": "python",
   "name": "python3"
  },
  "language_info": {
   "codemirror_mode": {
    "name": "ipython",
    "version": 3
   },
   "file_extension": ".py",
   "mimetype": "text/x-python",
   "name": "python",
   "nbconvert_exporter": "python",
   "pygments_lexer": "ipython3",
   "version": "3.9.5"
  },
  "latex_envs": {
   "LaTeX_envs_menu_present": true,
   "autoclose": true,
   "autocomplete": false,
   "bibliofile": "biblio.bib",
   "cite_by": "apalike",
   "current_citInitial": 1,
   "eqLabelWithNumbers": false,
   "eqNumInitial": 1,
   "hotkeys": {
    "equation": "Ctrl-E",
    "itemize": "Ctrl-I"
   },
   "labels_anchors": false,
   "latex_user_defs": false,
   "report_style_numbering": false,
   "user_envs_cfg": false
  },
  "nbTranslate": {
   "displayLangs": [
    "*"
   ],
   "hotkey": "alt-t",
   "langInMainMenu": true,
   "sourceLang": "en",
   "targetLang": "fr",
   "useGoogleTranslate": true
  },
  "toc": {
   "base_numbering": 1,
   "nav_menu": {},
   "number_sections": true,
   "sideBar": true,
   "skip_h1_title": false,
   "title_cell": "Table of Contents",
   "title_sidebar": "Contents",
   "toc_cell": false,
   "toc_position": {},
   "toc_section_display": true,
   "toc_window_display": false
  }
 },
 "nbformat": 4,
 "nbformat_minor": 5
}
