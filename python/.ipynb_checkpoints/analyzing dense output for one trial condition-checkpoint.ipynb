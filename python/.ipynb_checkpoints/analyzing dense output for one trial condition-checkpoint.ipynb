{
 "cells": [
  {
   "cell_type": "markdown",
   "metadata": {},
   "source": [
    "# analyzing dense output\n",
    "Timothy Tyree<br>\n",
    "3.26.2021"
   ]
  },
  {
   "cell_type": "code",
   "execution_count": 1,
   "metadata": {
    "ExecuteTime": {
     "end_time": "2021-03-26T22:51:35.243888Z",
     "start_time": "2021-03-26T22:51:33.530417Z"
    }
   },
   "outputs": [],
   "source": [
    "from lib.my_initialization import *"
   ]
  },
  {
   "cell_type": "markdown",
   "metadata": {},
   "source": [
    "## plot the collision times"
   ]
  },
  {
   "cell_type": "code",
   "execution_count": 32,
   "metadata": {
    "ExecuteTime": {
     "end_time": "2021-03-26T23:02:13.728685Z",
     "start_time": "2021-03-26T23:02:13.686640Z"
    }
   },
   "outputs": [
    {
     "data": {
      "text/html": [
       "<div>\n",
       "<style scoped>\n",
       "    .dataframe tbody tr th:only-of-type {\n",
       "        vertical-align: middle;\n",
       "    }\n",
       "\n",
       "    .dataframe tbody tr th {\n",
       "        vertical-align: top;\n",
       "    }\n",
       "\n",
       "    .dataframe thead th {\n",
       "        text-align: right;\n",
       "    }\n",
       "</style>\n",
       "<table border=\"1\" class=\"dataframe\">\n",
       "  <thead>\n",
       "    <tr style=\"text-align: right;\">\n",
       "      <th></th>\n",
       "      <th>11</th>\n",
       "      <th>12</th>\n",
       "      <th>13</th>\n",
       "      <th>14</th>\n",
       "      <th>15</th>\n",
       "      <th>16</th>\n",
       "      <th>17</th>\n",
       "      <th>18</th>\n",
       "      <th>19</th>\n",
       "      <th>20</th>\n",
       "      <th>...</th>\n",
       "      <th>60</th>\n",
       "      <th>61</th>\n",
       "      <th>62</th>\n",
       "      <th>63</th>\n",
       "      <th>64</th>\n",
       "      <th>65</th>\n",
       "      <th>66</th>\n",
       "      <th>67</th>\n",
       "      <th>68</th>\n",
       "      <th>69</th>\n",
       "    </tr>\n",
       "  </thead>\n",
       "  <tbody>\n",
       "    <tr>\n",
       "      <th>0</th>\n",
       "      <td>2.47000</td>\n",
       "      <td>2.47000</td>\n",
       "      <td>2.47000</td>\n",
       "      <td>2.47000</td>\n",
       "      <td>2.47000</td>\n",
       "      <td>2.47000</td>\n",
       "      <td>0.69080</td>\n",
       "      <td>0.56114</td>\n",
       "      <td>0.56114</td>\n",
       "      <td>0.56114</td>\n",
       "      <td>...</td>\n",
       "      <td>0.06454</td>\n",
       "      <td>0.06454</td>\n",
       "      <td>0.06454</td>\n",
       "      <td>0.06454</td>\n",
       "      <td>0.06454</td>\n",
       "      <td>0.06454</td>\n",
       "      <td>0.06454</td>\n",
       "      <td>0.06454</td>\n",
       "      <td>0.06454</td>\n",
       "      <td>0.02795</td>\n",
       "    </tr>\n",
       "    <tr>\n",
       "      <th>1</th>\n",
       "      <td>1.18204</td>\n",
       "      <td>1.18204</td>\n",
       "      <td>1.18204</td>\n",
       "      <td>1.18204</td>\n",
       "      <td>1.18204</td>\n",
       "      <td>1.18204</td>\n",
       "      <td>1.18204</td>\n",
       "      <td>1.18204</td>\n",
       "      <td>1.18204</td>\n",
       "      <td>1.18204</td>\n",
       "      <td>...</td>\n",
       "      <td>0.10980</td>\n",
       "      <td>0.10980</td>\n",
       "      <td>0.02032</td>\n",
       "      <td>0.02032</td>\n",
       "      <td>0.02032</td>\n",
       "      <td>0.02032</td>\n",
       "      <td>0.02032</td>\n",
       "      <td>0.02032</td>\n",
       "      <td>0.02032</td>\n",
       "      <td>0.02032</td>\n",
       "    </tr>\n",
       "    <tr>\n",
       "      <th>2</th>\n",
       "      <td>0.81593</td>\n",
       "      <td>0.81593</td>\n",
       "      <td>0.81593</td>\n",
       "      <td>0.81593</td>\n",
       "      <td>0.81593</td>\n",
       "      <td>0.81593</td>\n",
       "      <td>0.81593</td>\n",
       "      <td>0.81593</td>\n",
       "      <td>0.81593</td>\n",
       "      <td>0.81593</td>\n",
       "      <td>...</td>\n",
       "      <td>0.03425</td>\n",
       "      <td>0.03425</td>\n",
       "      <td>0.03425</td>\n",
       "      <td>0.03425</td>\n",
       "      <td>0.03425</td>\n",
       "      <td>0.03425</td>\n",
       "      <td>0.03425</td>\n",
       "      <td>0.03425</td>\n",
       "      <td>0.03425</td>\n",
       "      <td>0.03425</td>\n",
       "    </tr>\n",
       "    <tr>\n",
       "      <th>3</th>\n",
       "      <td>0.14193</td>\n",
       "      <td>0.14193</td>\n",
       "      <td>0.14193</td>\n",
       "      <td>0.14193</td>\n",
       "      <td>0.14193</td>\n",
       "      <td>0.14193</td>\n",
       "      <td>0.14193</td>\n",
       "      <td>0.14193</td>\n",
       "      <td>0.14193</td>\n",
       "      <td>0.14193</td>\n",
       "      <td>...</td>\n",
       "      <td>0.03570</td>\n",
       "      <td>0.03570</td>\n",
       "      <td>0.03570</td>\n",
       "      <td>0.03570</td>\n",
       "      <td>0.02346</td>\n",
       "      <td>0.02346</td>\n",
       "      <td>0.02346</td>\n",
       "      <td>0.02346</td>\n",
       "      <td>0.02346</td>\n",
       "      <td>0.02346</td>\n",
       "    </tr>\n",
       "    <tr>\n",
       "      <th>4</th>\n",
       "      <td>2.43258</td>\n",
       "      <td>2.43258</td>\n",
       "      <td>2.43258</td>\n",
       "      <td>2.43258</td>\n",
       "      <td>2.43258</td>\n",
       "      <td>2.43258</td>\n",
       "      <td>2.43258</td>\n",
       "      <td>2.43258</td>\n",
       "      <td>2.43258</td>\n",
       "      <td>2.43258</td>\n",
       "      <td>...</td>\n",
       "      <td>0.00877</td>\n",
       "      <td>0.00877</td>\n",
       "      <td>0.00877</td>\n",
       "      <td>0.00877</td>\n",
       "      <td>0.00877</td>\n",
       "      <td>0.00877</td>\n",
       "      <td>0.00877</td>\n",
       "      <td>0.00877</td>\n",
       "      <td>0.00877</td>\n",
       "      <td>0.00877</td>\n",
       "    </tr>\n",
       "  </tbody>\n",
       "</table>\n",
       "<p>5 rows × 59 columns</p>\n",
       "</div>"
      ],
      "text/plain": [
       "        11       12       13       14       15       16       17       18  \\\n",
       "0  2.47000  2.47000  2.47000  2.47000  2.47000  2.47000  0.69080  0.56114   \n",
       "1  1.18204  1.18204  1.18204  1.18204  1.18204  1.18204  1.18204  1.18204   \n",
       "2  0.81593  0.81593  0.81593  0.81593  0.81593  0.81593  0.81593  0.81593   \n",
       "3  0.14193  0.14193  0.14193  0.14193  0.14193  0.14193  0.14193  0.14193   \n",
       "4  2.43258  2.43258  2.43258  2.43258  2.43258  2.43258  2.43258  2.43258   \n",
       "\n",
       "        19       20  ...       60       61       62       63       64  \\\n",
       "0  0.56114  0.56114  ...  0.06454  0.06454  0.06454  0.06454  0.06454   \n",
       "1  1.18204  1.18204  ...  0.10980  0.10980  0.02032  0.02032  0.02032   \n",
       "2  0.81593  0.81593  ...  0.03425  0.03425  0.03425  0.03425  0.03425   \n",
       "3  0.14193  0.14193  ...  0.03570  0.03570  0.03570  0.03570  0.02346   \n",
       "4  2.43258  2.43258  ...  0.00877  0.00877  0.00877  0.00877  0.00877   \n",
       "\n",
       "        65       66       67       68       69  \n",
       "0  0.06454  0.06454  0.06454  0.06454  0.02795  \n",
       "1  0.02032  0.02032  0.02032  0.02032  0.02032  \n",
       "2  0.03425  0.03425  0.03425  0.03425  0.03425  \n",
       "3  0.02346  0.02346  0.02346  0.02346  0.02346  \n",
       "4  0.00877  0.00877  0.00877  0.00877  0.00877  \n",
       "\n",
       "[5 rows x 59 columns]"
      ]
     },
     "execution_count": 32,
     "metadata": {},
     "output_type": "execute_result"
    }
   ],
   "source": [
    "#load the example data\n",
    "os.chdir(nb_dir)\n",
    "data_dir='data/out.csv'\n",
    "assert ( os.path.exists(data_dir) ) \n",
    "df=pd.read_csv(data_dir,lineterminator=None)\n",
    "Ntrials=df.index.values.shape[0]\n",
    "Nmin=11\n",
    "df.drop(columns=[f'{i}' for i in range(Nmin)], inplace=True)\n",
    "#any duds still there?\n",
    "assert ( not (df.values<-9000).any() )\n",
    "df.head()"
   ]
  },
  {
   "cell_type": "code",
   "execution_count": 33,
   "metadata": {
    "ExecuteTime": {
     "end_time": "2021-03-26T23:02:25.595033Z",
     "start_time": "2021-03-26T23:02:25.454262Z"
    }
   },
   "outputs": [
    {
     "data": {
      "text/html": [
       "<div>\n",
       "<style scoped>\n",
       "    .dataframe tbody tr th:only-of-type {\n",
       "        vertical-align: middle;\n",
       "    }\n",
       "\n",
       "    .dataframe tbody tr th {\n",
       "        vertical-align: top;\n",
       "    }\n",
       "\n",
       "    .dataframe thead th {\n",
       "        text-align: right;\n",
       "    }\n",
       "</style>\n",
       "<table border=\"1\" class=\"dataframe\">\n",
       "  <thead>\n",
       "    <tr style=\"text-align: right;\">\n",
       "      <th></th>\n",
       "      <th>mean</th>\n",
       "      <th>std</th>\n",
       "      <th>min</th>\n",
       "      <th>25%</th>\n",
       "      <th>50%</th>\n",
       "      <th>75%</th>\n",
       "      <th>max</th>\n",
       "    </tr>\n",
       "  </thead>\n",
       "  <tbody>\n",
       "    <tr>\n",
       "      <th>11</th>\n",
       "      <td>1.227948</td>\n",
       "      <td>0.900448</td>\n",
       "      <td>0.14193</td>\n",
       "      <td>0.445925</td>\n",
       "      <td>1.025695</td>\n",
       "      <td>1.952550</td>\n",
       "      <td>2.47</td>\n",
       "    </tr>\n",
       "    <tr>\n",
       "      <th>12</th>\n",
       "      <td>1.227948</td>\n",
       "      <td>0.900448</td>\n",
       "      <td>0.14193</td>\n",
       "      <td>0.445925</td>\n",
       "      <td>1.025695</td>\n",
       "      <td>1.952550</td>\n",
       "      <td>2.47</td>\n",
       "    </tr>\n",
       "    <tr>\n",
       "      <th>13</th>\n",
       "      <td>1.122452</td>\n",
       "      <td>0.862712</td>\n",
       "      <td>0.14193</td>\n",
       "      <td>0.445925</td>\n",
       "      <td>0.900440</td>\n",
       "      <td>1.683557</td>\n",
       "      <td>2.47</td>\n",
       "    </tr>\n",
       "    <tr>\n",
       "      <th>14</th>\n",
       "      <td>1.122452</td>\n",
       "      <td>0.862712</td>\n",
       "      <td>0.14193</td>\n",
       "      <td>0.445925</td>\n",
       "      <td>0.900440</td>\n",
       "      <td>1.683557</td>\n",
       "      <td>2.47</td>\n",
       "    </tr>\n",
       "    <tr>\n",
       "      <th>15</th>\n",
       "      <td>1.056528</td>\n",
       "      <td>0.825252</td>\n",
       "      <td>0.14193</td>\n",
       "      <td>0.445925</td>\n",
       "      <td>0.900440</td>\n",
       "      <td>1.189127</td>\n",
       "      <td>2.47</td>\n",
       "    </tr>\n",
       "  </tbody>\n",
       "</table>\n",
       "</div>"
      ],
      "text/plain": [
       "        mean       std      min       25%       50%       75%   max\n",
       "11  1.227948  0.900448  0.14193  0.445925  1.025695  1.952550  2.47\n",
       "12  1.227948  0.900448  0.14193  0.445925  1.025695  1.952550  2.47\n",
       "13  1.122452  0.862712  0.14193  0.445925  0.900440  1.683557  2.47\n",
       "14  1.122452  0.862712  0.14193  0.445925  0.900440  1.683557  2.47\n",
       "15  1.056528  0.825252  0.14193  0.445925  0.900440  1.189127  2.47"
      ]
     },
     "execution_count": 33,
     "metadata": {},
     "output_type": "execute_result"
    }
   ],
   "source": [
    "dfd=df.describe().T.drop(columns=['count'])\n",
    "dfd.head()"
   ]
  },
  {
   "cell_type": "code",
   "execution_count": 34,
   "metadata": {
    "ExecuteTime": {
     "end_time": "2021-03-26T23:02:27.716112Z",
     "start_time": "2021-03-26T23:02:27.711143Z"
    }
   },
   "outputs": [],
   "source": [
    "#extract the values\n",
    "x_values=np.array([eval(x) for x in dfd.index.values])\n",
    "y_values=np.array(dfd['50%'].values)\n",
    "yerr1_values=np.array(dfd['25%'].values)\n",
    "yerr2_values=np.array(dfd['75%'].values)\n",
    "\n",
    "y2_values=np.array(dfd['mean'].values)\n",
    "y2err1_values=y2_values-np.array(dfd['std'].values)\n",
    "y2err2_values=y2_values+np.array(dfd['std'].values)"
   ]
  },
  {
   "cell_type": "code",
   "execution_count": 35,
   "metadata": {
    "ExecuteTime": {
     "end_time": "2021-03-26T23:02:31.830316Z",
     "start_time": "2021-03-26T23:02:30.682697Z"
    }
   },
   "outputs": [
    {
     "name": "stdout",
     "output_type": "stream",
     "text": [
      "saved figure in \n",
      "\tcolltimes.png\n"
     ]
    },
    {
     "data": {
      "image/png": "[encoded data removed]",
      "text/plain": [
       "<Figure size 864x432 with 2 Axes>"
      ]
     },
     "metadata": {},
     "output_type": "display_data"
    }
   ],
   "source": [
    "#plot the values\n",
    "figsize=(12,6)\n",
    "fontsize=18\n",
    "saving=True\n",
    "savefig_folder=f'{nb_dir}/../fig'\n",
    "savefig_fn='colltimes.png'\n",
    "fig, axs = plt.subplots(ncols=2,figsize=figsize)\n",
    "ax=axs[1]\n",
    "ax.fill_between(x_values,yerr1_values,yerr2_values,alpha=0.3)\n",
    "ax.plot(x_values,y_values,lw=2)\n",
    "ax.set_xlabel('n', fontsize=fontsize)\n",
    "ax.set_ylabel(r'time to first collision (sec)', fontsize=fontsize)\n",
    "ax.tick_params(axis='both', which='major', labelsize=fontsize)\n",
    "ax.tick_params(axis='both', which='minor', labelsize=0)\n",
    "ax.set_title('median', fontsize=fontsize)\n",
    "ax=axs[0]\n",
    "ax.fill_between(x_values,y2err1_values,y2err2_values,alpha=0.3)\n",
    "ax.plot(x_values,y2_values,lw=2)\n",
    "ax.set_xlabel('n', fontsize=fontsize)\n",
    "ax.set_ylabel(r'time to first collision (sec)', fontsize=fontsize)\n",
    "ax.tick_params(axis='both', which='major', labelsize=fontsize)\n",
    "ax.tick_params(axis='both', which='minor', labelsize=0)\n",
    "ax.set_title('mean', fontsize=fontsize)\n",
    "fig.tight_layout()\n",
    "if not saving:\n",
    "    plt.show()\n",
    "else:\n",
    "    plt.tight_layout()\n",
    "    os.chdir(savefig_folder)\n",
    "    plt.savefig(savefig_fn, dpi=300)\n",
    "    print(f\"saved figure in \\n\\t{savefig_fn}\")\n",
    "#     plt.close()"
   ]
  },
  {
   "cell_type": "markdown",
   "metadata": {
    "ExecuteTime": {
     "end_time": "2021-03-26T22:56:37.637402Z",
     "start_time": "2021-03-26T22:56:37.633163Z"
    }
   },
   "source": [
    "## plot the collision rates"
   ]
  },
  {
   "cell_type": "code",
   "execution_count": 41,
   "metadata": {
    "ExecuteTime": {
     "end_time": "2021-03-26T23:04:46.888285Z",
     "start_time": "2021-03-26T23:04:45.795145Z"
    }
   },
   "outputs": [
    {
     "name": "stdout",
     "output_type": "stream",
     "text": [
      "saved figure in \n",
      "\tcollrates.png\n"
     ]
    },
    {
     "data": {
      "image/png": "[encoded data removed]",
      "text/plain": [
       "<Figure size 864x432 with 2 Axes>"
      ]
     },
     "metadata": {},
     "output_type": "display_data"
    }
   ],
   "source": [
    "#plot the values\n",
    "figsize=(12,6)\n",
    "fontsize=18\n",
    "saving=True\n",
    "savefig_folder=f'{nb_dir}/../fig'\n",
    "savefig_fn='collrates.png'\n",
    "fig, axs = plt.subplots(ncols=2,figsize=figsize)\n",
    "ax=axs[1]\n",
    "ax.fill_between(x_values,1/yerr2_values,1/yerr1_values,alpha=0.3)\n",
    "ax.plot(x_values,1/y_values,lw=2)\n",
    "ax.set_xlabel('n', fontsize=fontsize)\n",
    "ax.set_ylabel(r'time to first collision (sec)', fontsize=fontsize)\n",
    "ax.tick_params(axis='both', which='major', labelsize=fontsize)\n",
    "ax.tick_params(axis='both', which='minor', labelsize=0)\n",
    "ax.set_title('median', fontsize=fontsize)\n",
    "ax=axs[0]\n",
    "# ax.fill_between(x_values,1/y2err2_values,1/y2err1_values,alpha=0.3)\n",
    "ax.plot(x_values,1/y2_values,lw=2)\n",
    "ax.set_xlabel('n', fontsize=fontsize)\n",
    "ax.set_ylabel(r'time to first collision (sec)', fontsize=fontsize)\n",
    "ax.tick_params(axis='both', which='major', labelsize=fontsize)\n",
    "ax.tick_params(axis='both', which='minor', labelsize=0)\n",
    "# ax.set_ylim([0,1])\n",
    "ax.set_title('mean', fontsize=fontsize)\n",
    "fig.tight_layout()\n",
    "if not saving:\n",
    "    plt.show()\n",
    "else:\n",
    "    plt.tight_layout()\n",
    "    os.chdir(savefig_folder)\n",
    "    plt.savefig(savefig_fn, dpi=300)\n",
    "    print(f\"saved figure in \\n\\t{savefig_fn}\")\n",
    "#     plt.close()"
   ]
  },
  {
   "cell_type": "markdown",
   "metadata": {},
   "source": [
    "## Results\n",
    "collision rates/times are being generated with uncertainty that cannot be reliably quantified in terms of mean and standard deviation. Therefore, output logs must include dense output"
   ]
  },
  {
   "cell_type": "markdown",
   "metadata": {
    "ExecuteTime": {
     "end_time": "2021-03-26T23:00:48.107778Z",
     "start_time": "2021-03-26T23:00:48.104851Z"
    }
   },
   "source": [
    "# dev parsing output logs"
   ]
  },
  {
   "cell_type": "code",
   "execution_count": 144,
   "metadata": {
    "ExecuteTime": {
     "end_time": "2021-03-27T00:08:15.502384Z",
     "start_time": "2021-03-27T00:08:15.494617Z"
    }
   },
   "outputs": [],
   "source": [
    "def parse_output_log(input_fn,include_inputs=True,printing=False):\n",
    "    with open(input_fn) as f:\n",
    "        trgt1='Printing Inputs...\\n'\n",
    "        trgt2='Printing Outputs...\\n'\n",
    "        for n,line in enumerate(f):\n",
    "            if trgt1 == line:\n",
    "                if printing:\n",
    "                    print(f'found inputs starting after line {n}')\n",
    "                n_input=n\n",
    "            if trgt2 == line:\n",
    "                if printing:\n",
    "                    print(f'found outputs starting after line {n}')\n",
    "                n_output=n\n",
    "\n",
    "    with open(input_fn) as f:\n",
    "        inputs=f.readlines()[n_input+1:n_output-1]\n",
    "    col_name_lst=[]\n",
    "    col_value_lst=[]\n",
    "    for line in inputs:\n",
    "        string=line.split(' ')[-1]\n",
    "        eid=string.find('=')\n",
    "        if eid!=-1:\n",
    "            col_name=string[:eid]\n",
    "            col_value=eval(string[eid+1:-2])\n",
    "            col_name_lst.append(col_name)\n",
    "            col_value_lst.append(col_value)\n",
    "    df=pd.read_csv(input_fn,header=n_output-2)\n",
    "    #drop that 'Unammed: {Nmax}' column \n",
    "    df.drop(columns=[df.columns[-1]], inplace=True)\n",
    "    if include_inputs:\n",
    "        if printing:\n",
    "            print(\"input parameters were:\")\n",
    "            print(col_name_lst)\n",
    "            print(col_value_lst)\n",
    "            print(\"returning outputs as pandas.DataFrame instance\")\n",
    "        for name,value in zip ( col_name_lst, col_value_lst):\n",
    "            df[name]=value\n",
    "    return df"
   ]
  },
  {
   "cell_type": "code",
   "execution_count": 145,
   "metadata": {
    "ExecuteTime": {
     "end_time": "2021-03-27T00:08:15.747682Z",
     "start_time": "2021-03-27T00:08:15.704143Z"
    }
   },
   "outputs": [
    {
     "name": "stdout",
     "output_type": "stream",
     "text": [
      "found inputs starting after line 10\n",
      "found outputs starting after line 17\n"
     ]
    },
    {
     "data": {
      "text/html": [
       "<div>\n",
       "<style scoped>\n",
       "    .dataframe tbody tr th:only-of-type {\n",
       "        vertical-align: middle;\n",
       "    }\n",
       "\n",
       "    .dataframe tbody tr th {\n",
       "        vertical-align: top;\n",
       "    }\n",
       "\n",
       "    .dataframe thead th {\n",
       "        text-align: right;\n",
       "    }\n",
       "</style>\n",
       "<table border=\"1\" class=\"dataframe\">\n",
       "  <thead>\n",
       "    <tr style=\"text-align: right;\">\n",
       "      <th></th>\n",
       "      <th>0</th>\n",
       "      <th>1</th>\n",
       "      <th>2</th>\n",
       "      <th>3</th>\n",
       "      <th>4</th>\n",
       "      <th>5</th>\n",
       "      <th>6</th>\n",
       "      <th>7</th>\n",
       "      <th>8</th>\n",
       "      <th>9</th>\n",
       "      <th>...</th>\n",
       "      <th>60</th>\n",
       "      <th>61</th>\n",
       "      <th>62</th>\n",
       "      <th>63</th>\n",
       "      <th>64</th>\n",
       "      <th>65</th>\n",
       "      <th>66</th>\n",
       "      <th>67</th>\n",
       "      <th>68</th>\n",
       "      <th>69</th>\n",
       "    </tr>\n",
       "  </thead>\n",
       "  <tbody>\n",
       "    <tr>\n",
       "      <th>0</th>\n",
       "      <td>-9.99900e+03</td>\n",
       "      <td>-9999.00000</td>\n",
       "      <td>-9999.00000</td>\n",
       "      <td>-9999.00000</td>\n",
       "      <td>-9999.00000</td>\n",
       "      <td>-9999.00000</td>\n",
       "      <td>-9999.00000</td>\n",
       "      <td>-9999.00000</td>\n",
       "      <td>-9999.00000</td>\n",
       "      <td>2.47000</td>\n",
       "      <td>...</td>\n",
       "      <td>0.06454</td>\n",
       "      <td>0.06454</td>\n",
       "      <td>0.06454</td>\n",
       "      <td>0.06454</td>\n",
       "      <td>0.06454</td>\n",
       "      <td>0.06454</td>\n",
       "      <td>0.06454</td>\n",
       "      <td>0.06454</td>\n",
       "      <td>0.06454</td>\n",
       "      <td>0.02795</td>\n",
       "    </tr>\n",
       "    <tr>\n",
       "      <th>1</th>\n",
       "      <td>-9.99900e+03</td>\n",
       "      <td>-9999.00000</td>\n",
       "      <td>-9999.00000</td>\n",
       "      <td>-9999.00000</td>\n",
       "      <td>-9999.00000</td>\n",
       "      <td>-9999.00000</td>\n",
       "      <td>-9999.00000</td>\n",
       "      <td>-9999.00000</td>\n",
       "      <td>-9999.00000</td>\n",
       "      <td>1.18204</td>\n",
       "      <td>...</td>\n",
       "      <td>0.10980</td>\n",
       "      <td>0.10980</td>\n",
       "      <td>0.02032</td>\n",
       "      <td>0.02032</td>\n",
       "      <td>0.02032</td>\n",
       "      <td>0.02032</td>\n",
       "      <td>0.02032</td>\n",
       "      <td>0.02032</td>\n",
       "      <td>0.02032</td>\n",
       "      <td>0.02032</td>\n",
       "    </tr>\n",
       "    <tr>\n",
       "      <th>2</th>\n",
       "      <td>-9.99900e+03</td>\n",
       "      <td>-9999.00000</td>\n",
       "      <td>-9999.00000</td>\n",
       "      <td>-9999.00000</td>\n",
       "      <td>-9999.00000</td>\n",
       "      <td>-9999.00000</td>\n",
       "      <td>-9999.00000</td>\n",
       "      <td>-9999.00000</td>\n",
       "      <td>-9999.00000</td>\n",
       "      <td>-9999.00000</td>\n",
       "      <td>...</td>\n",
       "      <td>0.03425</td>\n",
       "      <td>0.03425</td>\n",
       "      <td>0.03425</td>\n",
       "      <td>0.03425</td>\n",
       "      <td>0.03425</td>\n",
       "      <td>0.03425</td>\n",
       "      <td>0.03425</td>\n",
       "      <td>0.03425</td>\n",
       "      <td>0.03425</td>\n",
       "      <td>0.03425</td>\n",
       "    </tr>\n",
       "    <tr>\n",
       "      <th>3</th>\n",
       "      <td>-9.99900e+03</td>\n",
       "      <td>0.14193</td>\n",
       "      <td>0.14193</td>\n",
       "      <td>0.14193</td>\n",
       "      <td>0.14193</td>\n",
       "      <td>0.14193</td>\n",
       "      <td>0.14193</td>\n",
       "      <td>0.14193</td>\n",
       "      <td>0.14193</td>\n",
       "      <td>0.14193</td>\n",
       "      <td>...</td>\n",
       "      <td>0.03570</td>\n",
       "      <td>0.03570</td>\n",
       "      <td>0.03570</td>\n",
       "      <td>0.03570</td>\n",
       "      <td>0.02346</td>\n",
       "      <td>0.02346</td>\n",
       "      <td>0.02346</td>\n",
       "      <td>0.02346</td>\n",
       "      <td>0.02346</td>\n",
       "      <td>0.02346</td>\n",
       "    </tr>\n",
       "    <tr>\n",
       "      <th>4</th>\n",
       "      <td>-9.99900e+03</td>\n",
       "      <td>-9999.00000</td>\n",
       "      <td>-9999.00000</td>\n",
       "      <td>-9999.00000</td>\n",
       "      <td>-9999.00000</td>\n",
       "      <td>-9999.00000</td>\n",
       "      <td>-9999.00000</td>\n",
       "      <td>-9999.00000</td>\n",
       "      <td>-9999.00000</td>\n",
       "      <td>-9999.00000</td>\n",
       "      <td>...</td>\n",
       "      <td>0.00877</td>\n",
       "      <td>0.00877</td>\n",
       "      <td>0.00877</td>\n",
       "      <td>0.00877</td>\n",
       "      <td>0.00877</td>\n",
       "      <td>0.00877</td>\n",
       "      <td>0.00877</td>\n",
       "      <td>0.00877</td>\n",
       "      <td>0.00877</td>\n",
       "      <td>0.00877</td>\n",
       "    </tr>\n",
       "  </tbody>\n",
       "</table>\n",
       "<p>5 rows × 70 columns</p>\n",
       "</div>"
      ],
      "text/plain": [
       "              0           1           2           3           4           5  \\\n",
       "0  -9.99900e+03 -9999.00000 -9999.00000 -9999.00000 -9999.00000 -9999.00000   \n",
       "1  -9.99900e+03 -9999.00000 -9999.00000 -9999.00000 -9999.00000 -9999.00000   \n",
       "2  -9.99900e+03 -9999.00000 -9999.00000 -9999.00000 -9999.00000 -9999.00000   \n",
       "3  -9.99900e+03     0.14193     0.14193     0.14193     0.14193     0.14193   \n",
       "4  -9.99900e+03 -9999.00000 -9999.00000 -9999.00000 -9999.00000 -9999.00000   \n",
       "\n",
       "            6           7           8           9  ...       60       61  \\\n",
       "0 -9999.00000 -9999.00000 -9999.00000     2.47000  ...  0.06454  0.06454   \n",
       "1 -9999.00000 -9999.00000 -9999.00000     1.18204  ...  0.10980  0.10980   \n",
       "2 -9999.00000 -9999.00000 -9999.00000 -9999.00000  ...  0.03425  0.03425   \n",
       "3     0.14193     0.14193     0.14193     0.14193  ...  0.03570  0.03570   \n",
       "4 -9999.00000 -9999.00000 -9999.00000 -9999.00000  ...  0.00877  0.00877   \n",
       "\n",
       "        62       63       64       65       66       67       68       69  \n",
       "0  0.06454  0.06454  0.06454  0.06454  0.06454  0.06454  0.06454  0.02795  \n",
       "1  0.02032  0.02032  0.02032  0.02032  0.02032  0.02032  0.02032  0.02032  \n",
       "2  0.03425  0.03425  0.03425  0.03425  0.03425  0.03425  0.03425  0.03425  \n",
       "3  0.03570  0.03570  0.02346  0.02346  0.02346  0.02346  0.02346  0.02346  \n",
       "4  0.00877  0.00877  0.00877  0.00877  0.00877  0.00877  0.00877  0.00877  \n",
       "\n",
       "[5 rows x 70 columns]"
      ]
     },
     "execution_count": 145,
     "metadata": {},
     "output_type": "execute_result"
    }
   ],
   "source": [
    "input_folder=f\"{nb_dir}/data\"\n",
    "input_fn='example.log'\n",
    "os.chdir(input_folder)\n",
    "df=parse_output_log(input_fn, include_inputs=False,printing=True)\n",
    "df.head()"
   ]
  },
  {
   "cell_type": "code",
   "execution_count": null,
   "metadata": {},
   "outputs": [],
   "source": []
  }
 ],
 "metadata": {
  "kernelspec": {
   "display_name": "Python 3",
   "language": "python",
   "name": "python3"
  },
  "language_info": {
   "codemirror_mode": {
    "name": "ipython",
    "version": 3
   },
   "file_extension": ".py",
   "mimetype": "text/x-python",
   "name": "python",
   "nbconvert_exporter": "python",
   "pygments_lexer": "ipython3",
   "version": "3.8.7"
  },
  "varInspector": {
   "cols": {
    "lenName": 16,
    "lenType": 16,
    "lenVar": 40
   },
   "kernels_config": {
    "python": {
     "delete_cmd_postfix": "",
     "delete_cmd_prefix": "del ",
     "library": "var_list.py",
     "varRefreshCmd": "print(var_dic_list())"
    },
    "r": {
     "delete_cmd_postfix": ") ",
     "delete_cmd_prefix": "rm(",
     "library": "var_list.r",
     "varRefreshCmd": "cat(var_dic_list()) "
    }
   },
   "types_to_exclude": [
    "module",
    "function",
    "builtin_function_or_method",
    "instance",
    "_Feature"
   ],
   "window_display": false
  }
 },
 "nbformat": 4,
 "nbformat_minor": 4
}
