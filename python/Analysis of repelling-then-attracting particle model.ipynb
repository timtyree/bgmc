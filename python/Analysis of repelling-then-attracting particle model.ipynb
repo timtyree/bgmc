{
 "cells": [
  {
   "cell_type": "markdown",
   "id": "5b8655a5",
   "metadata": {},
   "source": [
    "# Analysis of model for repelling-then-attracting particle model\n",
    "- TODO: move this to bgmc"
   ]
  },
  {
   "cell_type": "markdown",
   "id": "502d5653",
   "metadata": {},
   "source": [
    "the deterministic model is \n",
    "\n",
    "$$\n",
    "\\frac{d\\bar R}{dt} = -\\frac{2a}{\\bar R}\\cos(\\omega t).\n",
    "$$\n",
    "\n",
    "integrating, we find\n",
    "\n",
    "\\begin{aligned}\n",
    "\\text{MSR}(t_f-t) = 4a\\frac{\\sin(\\omega (t_f-t))}{\\omega}\n",
    "\\end{aligned}\n",
    "\n",
    "in the short-time limit, we find \n",
    "\n",
    "$$\n",
    "\\text{MSR}(t_f-t) \\sim 4a (t_f-t) \\text{ as } (t_f-t)\\rightarrow 0\n",
    "$$\n",
    "\n",
    "\n",
    "In choosing, the lifetime, $\\Gamma=t_f-t_0$, we also choose the mean value for the apparent attraction coefficient, according to\n",
    "\n",
    "$$\n",
    "\\hat a=??(\\Gamma)\n",
    "$$\n",
    "\n",
    "^this is hard to compute analytically, so let's simulate it 1000 times in numpy..."
   ]
  },
  {
   "cell_type": "code",
   "execution_count": null,
   "id": "b0558a8c",
   "metadata": {},
   "outputs": [],
   "source": []
  },
  {
   "cell_type": "markdown",
   "id": "4b3c5aa9",
   "metadata": {
    "ExecuteTime": {
     "end_time": "2021-12-08T06:18:50.190222Z",
     "start_time": "2021-12-08T06:18:50.188127Z"
    }
   },
   "source": [
    "The stochastic model is\n",
    "\n",
    "$$\n",
    "d\\bar R = -\\frac{2a}{\\bar R}\\cos(\\omega t)dt + \\sqrt{4D}dW\n",
    "$$\n",
    "\n",
    "not \n",
    "\n",
    "\n",
    "$$\n",
    "d\\bar R = -\\frac{2a}{\\bar R}\\cos(\\omega t)dt + \\sqrt{2D}dW\n",
    "$$"
   ]
  },
  {
   "cell_type": "markdown",
   "id": "3b7cccda",
   "metadata": {
    "ExecuteTime": {
     "end_time": "2021-12-08T02:27:38.656107Z",
     "start_time": "2021-12-08T02:27:38.649427Z"
    }
   },
   "source": [
    "# Analysis of model for repelling-then-attracting particle model\n",
    "- TODO: move this to bgmc\n",
    "\n",
    "the deterministic model is \n",
    "\n",
    "$$\n",
    "\\frac{d\\bar R}{dt} = -\\frac{2a}{\\bar R}\\cos(\\omega t).\n",
    "$$\n",
    "\n",
    "integrating, we find\n",
    "\n",
    "\\begin{aligned}\n",
    "\\text{MSR}(t_f-t) = 4a\\frac{\\sin(\\omega (t_f-t))}{\\omega}\n",
    "\\end{aligned}\n",
    "\n",
    "in the short-time limit, we find \n",
    "\n",
    "$$\n",
    "\\text{MSR}(t_f-t) \\sim 4a (t_f-t) \\text{ as } (t_f-t)\\rightarrow 0\n",
    "$$\n",
    "\n",
    "\n",
    "In choosing, the lifetime, $\\Gamma=t_f-t_0$, we also choose the mean value for the apparent attraction coefficient, according to\n",
    "\n",
    "$$\n",
    "\\hat a=??(\\Gamma)\n",
    "$$\n",
    "\n",
    "^this is hard to compute analytically, so let's simulate it 1000 times in numpy..."
   ]
  },
  {
   "cell_type": "markdown",
   "id": "3d3055ac",
   "metadata": {},
   "source": [
    "# GOAL: simulate $\\hat a=??(\\Gamma)$ using the monte-carlo method"
   ]
  },
  {
   "cell_type": "code",
   "execution_count": 1,
   "id": "b8a4fee8",
   "metadata": {
    "ExecuteTime": {
     "end_time": "2021-12-14T09:01:48.076721Z",
     "start_time": "2021-12-14T09:01:48.074569Z"
    }
   },
   "outputs": [],
   "source": [
    "#TODO: copy old simulation from bgmc\n"
   ]
  },
  {
   "cell_type": "code",
   "execution_count": null,
   "id": "24b200e9",
   "metadata": {},
   "outputs": [],
   "source": []
  },
  {
   "cell_type": "code",
   "execution_count": 2,
   "id": "f4b92cdb",
   "metadata": {
    "ExecuteTime": {
     "end_time": "2021-12-14T09:01:48.089226Z",
     "start_time": "2021-12-14T09:01:48.077995Z"
    }
   },
   "outputs": [],
   "source": [
    "#TODO: modify ^this old simulation to releast and have an effective force in the sinusoidal model"
   ]
  },
  {
   "cell_type": "code",
   "execution_count": 3,
   "id": "a581f115",
   "metadata": {
    "ExecuteTime": {
     "end_time": "2021-12-14T09:01:49.630619Z",
     "start_time": "2021-12-14T09:01:48.091009Z"
    }
   },
   "outputs": [],
   "source": [
    "import cupy as cp, numpy as np\n",
    "import time\n",
    "import matplotlib.pyplot as plt\n",
    "from lib import *\n",
    "from scipy.signal import savgol_filter\n",
    "import dask.bag as db"
   ]
  },
  {
   "cell_type": "code",
   "execution_count": 4,
   "id": "be99c366",
   "metadata": {
    "ExecuteTime": {
     "end_time": "2021-12-14T09:01:49.776796Z",
     "start_time": "2021-12-14T09:01:49.632024Z"
    }
   },
   "outputs": [],
   "source": [
    "from lib.lib_care.measure.bootstrap import bin_and_bootstrap_xy_values_parallel"
   ]
  },
  {
   "cell_type": "code",
   "execution_count": 5,
   "id": "6a6a6904",
   "metadata": {
    "ExecuteTime": {
     "end_time": "2021-12-14T09:01:49.781099Z",
     "start_time": "2021-12-14T09:01:49.778095Z"
    }
   },
   "outputs": [],
   "source": [
    "darkmode=False\n",
    "if darkmode:\n",
    "    # For darkmode plots\n",
    "    from jupyterthemes import jtplot\n",
    "    jtplot.style(theme='monokai', context='notebook', ticks=True, grid=False)"
   ]
  },
  {
   "cell_type": "code",
   "execution_count": 6,
   "id": "1de9784b",
   "metadata": {
    "ExecuteTime": {
     "end_time": "2021-12-14T09:01:49.789513Z",
     "start_time": "2021-12-14T09:01:49.782140Z"
    }
   },
   "outputs": [],
   "source": [
    "seed=42\n",
    "# #random number stream A\n",
    "# rs = RandomState(MT19937(SeedSequence(seed)))\n",
    "# #random number stream B\n",
    "# # rs = RandomState(MT19937(SeedSequence(987654321)))\n",
    "np.random.seed(seed)\n",
    "# cp.random.seed(seed)"
   ]
  },
  {
   "cell_type": "markdown",
   "id": "19a9d100",
   "metadata": {},
   "source": [
    "# define module  - TODO: port module to lib"
   ]
  },
  {
   "cell_type": "code",
   "execution_count": 7,
   "id": "c1d96a92",
   "metadata": {
    "ExecuteTime": {
     "end_time": "2021-12-14T09:01:49.795284Z",
     "start_time": "2021-12-14T09:01:49.790573Z"
    }
   },
   "outputs": [],
   "source": [
    "# num_pairs=150 #number of independent pairs of particles\n",
    "# a=8.5 #cm^2/s known attraction coefficient \n",
    "# D=0.3 #cm^2/s known diffusion coefficient\n",
    "# Dt=1e-5 #s\n",
    "# initial_phase_orientation=np.pi#0.#radians\n",
    "# period_of_oscillation=90.#ms\n",
    "# rstart=0.11\n",
    "# rend=0.1 #cm\n",
    "# printing=False\n",
    "# print_every=10000\n",
    "# mode='oscillatory'\n",
    "# use_early_stopping=True\n",
    "# # **kwargs"
   ]
  },
  {
   "cell_type": "code",
   "execution_count": 8,
   "id": "078795bd",
   "metadata": {
    "ExecuteTime": {
     "end_time": "2021-12-14T09:01:49.817656Z",
     "start_time": "2021-12-14T09:01:49.796373Z"
    }
   },
   "outputs": [],
   "source": [
    "def gener_positions_oscillatory(\n",
    "    num_pairs=150, #number of independent pairs of particles\n",
    "    a=8.5, #cm^2/s known attraction coefficient \n",
    "    D=0.3, #cm^2/s known diffusion coefficient\n",
    "    Dt=1e-5, #s\n",
    "    initial_phase_orientation=0.,#radians\n",
    "    period_of_oscillation=90.,#ms\n",
    "    rstart=0.2,\n",
    "    rend=0.1, #cm\n",
    "    printing=False,print_every=50000,\n",
    "    mode='oscillatory',\n",
    "    use_early_stopping=True,\n",
    "    **kwargs\n",
    "    ):\n",
    "    '''\n",
    "    Example Usage:\n",
    "    dict_out,positions_out=gener_positions_oscillatory(a=a,D=D,printing=True)\n",
    "    '''\n",
    "    dont_break=True\n",
    "    #initialize particles locations as being at the same locations\n",
    "    t=0\n",
    "    x1=0\n",
    "    x2=np.sqrt(rstart)\n",
    "    y1=0\n",
    "    y2=np.sqrt(rstart)\n",
    "    zero_values=np.zeros(num_pairs)\n",
    "\n",
    "    x1_values=zero_values.copy()+x1\n",
    "    x2_values=zero_values.copy()+x2\n",
    "    y1_values=zero_values.copy()+y1\n",
    "    y2_values=zero_values.copy()+y2\n",
    "\n",
    "    stepscale = np.sqrt(2 * D * Dt)  #stepsize for each coordinate x,y\n",
    "    impulse_prefactor = a * Dt\n",
    "\n",
    "    tmax=10#0.1#1 #seconds\n",
    "    num_steps=np.int64(np.around(tmax/Dt))\n",
    "\n",
    "    position_array=np.zeros(shape=(num_steps,4,num_pairs))+np.nan\n",
    "    mean_array=np.zeros(shape=(num_steps,3))\n",
    "    std_array=np.zeros(shape=(num_steps,3))\n",
    "\n",
    "    #add support for still_running\n",
    "    boo_still_running=zero_values==zero_values\n",
    "\n",
    "    #compute the distance between each pair of particles\n",
    "    dx_values=(x2_values-x1_values)\n",
    "    dy_values=(y2_values-y1_values)\n",
    "    Rsq_values=dx_values*dx_values+dy_values*dy_values\n",
    "    omega=1/(1e-3*period_of_oscillation/(2*np.pi))\n",
    "    random_time_constant=initial_phase_orientation*omega\n",
    "    if printing:\n",
    "        print(f\"running simulation for {num_steps} steps...\")\n",
    "    start=time.time()\n",
    "    step_num=0\n",
    "    while dont_break and (step_num < num_steps):\n",
    "        t=step_num*Dt + random_time_constant\n",
    "        #compute the attractive step between all pairs\n",
    "        f_values=impulse_prefactor/Rsq_values\n",
    "        F1x=f_values*dx_values\n",
    "        F1y=f_values*dy_values\n",
    "        if mode=='oscillatory':\n",
    "            F1x*=np.sin(omega*t)\n",
    "            F1y*=np.sin(omega*t)\n",
    "\n",
    "        #compute the diffusive step between all pairs\n",
    "        dxW1_values=stepscale*np.random.normal(size=num_pairs)\n",
    "        dxW2_values=stepscale*np.random.normal(size=num_pairs)\n",
    "        dyW1_values=stepscale*np.random.normal(size=num_pairs)\n",
    "        dyW2_values=stepscale*np.random.normal(size=num_pairs)\n",
    "\n",
    "        #the mean distance between all pairs of particles\n",
    "        R_values=np.sqrt(Rsq_values)\n",
    "        mean_R=np.mean(R_values)\n",
    "        std_R=np.std(R_values)\n",
    "\n",
    "        #the mean magnitude of the diffusive step\n",
    "        diffusive_step_values=0.5*np.sqrt(dxW1_values**2+dyW1_values**2)+0.5*np.sqrt(dxW2_values**2+dyW2_values**2)\n",
    "        mean_diffusive_step=np.mean(diffusive_step_values)\n",
    "        std_diffusive_step=np.std(diffusive_step_values)\n",
    "\n",
    "        #the mean magnitude of the attractive step\n",
    "        attractive_step_values=np.sqrt(F1x**2+F1y**2)\n",
    "        mean_attractive_step=np.mean(attractive_step_values)\n",
    "        std_attractive_step=np.std(attractive_step_values)\n",
    "        if printing:\n",
    "            if (step_num+1) % print_every == 0:\n",
    "                relative_percent=100*mean_diffusive_step/mean_attractive_step\n",
    "                print(f\"simulation {100*(step_num+1)/num_steps:.0f}% completed: R={mean_R:.4f}+/-{1.96*std_R:.4f}, diffusion/attraction is {relative_percent:.2f}%\")\n",
    "                # print(f\"the mean range is {mean_R:.4f} cm\")\n",
    "                # print(f\"the mean diffusive step was {100*mean_diffusive_step/mean_attractive_step:.2f}% larger than the mean attractive step\")\n",
    "\n",
    "        #compute the net change in position \n",
    "        x1step_values=F1x+dxW1_values\n",
    "        y1step_values=F1y+dyW1_values\n",
    "        x2step_values=-F1x+dxW2_values\n",
    "        y2step_values=-F1y+dyW2_values\n",
    "\n",
    "        #identify any particles that didn't get within the threshold distance\n",
    "        #compute the distance between each pair of particles\n",
    "        dx_values=(x2_values-x1_values)\n",
    "        dy_values=(y2_values-y1_values)\n",
    "        Rsq_values=dx_values**2+dy_values**2\n",
    "\n",
    "        #update particle locations if they are still running\n",
    "        x1_values[boo_still_running]=x1_values[boo_still_running]+x1step_values[boo_still_running]\n",
    "        y1_values[boo_still_running]=y1_values[boo_still_running]+y1step_values[boo_still_running]\n",
    "        x2_values[boo_still_running]=x2_values[boo_still_running]+x2step_values[boo_still_running]\n",
    "        y2_values[boo_still_running]=y2_values[boo_still_running]+y2step_values[boo_still_running]\n",
    "        #DONE: verified the mean distance between particles got smaller    \n",
    "        # if (step_count+1) % save_every == 0:\n",
    "        #save particle locations to a numpy array with the correct number of positions\n",
    "        # x1,y1,x2,y2\n",
    "        position_array[step_num,0,boo_still_running]=x1_values[boo_still_running]\n",
    "        position_array[step_num,1,boo_still_running]=y1_values[boo_still_running]\n",
    "        position_array[step_num,2,boo_still_running]=x2_values[boo_still_running]\n",
    "        position_array[step_num,3,boo_still_running]=y2_values[boo_still_running]\n",
    "        mean_array[step_num,0]=mean_R\n",
    "        mean_array[step_num,1]=mean_diffusive_step\n",
    "        mean_array[step_num,2]=mean_attractive_step\n",
    "        #save results for quick plotting\n",
    "        std_array[step_num,0]=std_R\n",
    "        std_array[step_num,1]=std_diffusive_step\n",
    "        std_array[step_num,2]=std_attractive_step\n",
    "\n",
    "    #         #identify any particles that didn't get within the threshold distance\n",
    "    #         #compute the distance between each pair of particles\n",
    "    #         dx_values=(x2_values-x1_values)\n",
    "    #         dy_values=(y2_values-y1_values)\n",
    "    #         Rsq_values=dx_values*dx_values+dy_values*dy_values\n",
    "        R_values=np.sqrt(Rsq_values)\n",
    "        boo_still_running=boo_still_running&(R_values>rend)\n",
    "        \n",
    "        step_num+=1\n",
    "        if use_early_stopping and not boo_still_running.any():\n",
    "            dont_break=False\n",
    "    if printing:\n",
    "        print(f\"simulation complete!\\nTotal run time: {time.time()-start:.4f} seconds\")\n",
    "        print(f\"the number of particles that didn't finished is {sum(boo_still_running)} out of {boo_still_running.shape[0]}.\")\n",
    "\n",
    "    #DONE/DONT(ignore): compute the apparent attraction coefficient without smoothing\n",
    "    # np.argwhere(np.isnan(position_array[:,0,i])).flatten()\n",
    "    #identify any pairs that didn't end up closer than rend\n",
    "    boo_didnt_finish=~np.isnan(position_array[-1,0,:])\n",
    "    pairs_didnt_finish=np.argwhere(boo_didnt_finish).flatten()\n",
    "    #     if printing:\n",
    "    #         print((boo_didnt_finish.shape,pairs_didnt_finish))\n",
    "    set_pairs_ignore=set(pairs_didnt_finish)\n",
    "\n",
    "    tmax_recall=0.1 #max time to recall before the value is not nan\n",
    "    num_rows_recall=np.int64(np.around(tmax_recall/Dt))\n",
    "    if printing:\n",
    "        print(f\"num_rows_recall={num_rows_recall}\")\n",
    "\n",
    "    #for each pair, identify the last row where the value is not nan\n",
    "    row_end_values=zero_values.copy()+np.nan\n",
    "    for i in range(num_pairs):\n",
    "        if not set_pairs_ignore.issuperset({i}):\n",
    "            #record end values for lifetimes\n",
    "            row_end=np.int64(np.argwhere(np.isnan(position_array[:,0,i]))[0,0])-1\n",
    "            row_end_values[i]=row_end\n",
    "\n",
    "            #this step can introduce some error\n",
    "            if row_end<num_rows_recall:\n",
    "                #add this i to the ignore list\n",
    "                set_pairs_ignore.add(i)\n",
    "\n",
    "    #DONE: add pair to set_pairs_ignore if it ends sooner than num_rows_recall\n",
    "\n",
    "    #for each pair not to be ignored, put the last num_rows_recall before row_end_values into an array\n",
    "    positions_lst=[]\n",
    "    for i in range(num_pairs):\n",
    "        if not set_pairs_ignore.issuperset({i}):\n",
    "            row_end=np.int64(row_end_values[i])\n",
    "            if row_end>=num_rows_recall:\n",
    "                positions=position_array[row_end-num_rows_recall:row_end,:,i]\n",
    "            else:\n",
    "                num_rows_rec=row_end\n",
    "                num_rows_pad=num_rows_recall-row_end\n",
    "                #pad the start with nans\n",
    "                nan_pad=np.full([num_rows_pad,4], np.nan)\n",
    "                positions=position_array[row_end-num_rows_rec:row_end,:,i]\n",
    "                #pad positions at its front\n",
    "                positions=np.concatenate((nan_pad,positions))\n",
    "\n",
    "            positions_lst.append(positions)\n",
    "    positions_out=np.stack(positions_lst,axis=-1)\n",
    "    #     del position_array\n",
    "    #     del positions_lst\n",
    "\n",
    "    #record lifetime of last remaining particle\n",
    "    Gamma_max=step_num*Dt\n",
    "    Gamma_values=row_end_values*Dt\n",
    "    dict_out={\n",
    "        \"Gamma_max\":np.float32(Gamma_max),\n",
    "        \"Gamma_values\":Gamma_values.astype('float32'),\n",
    "        \"Rsq_values\":Rsq_values.astype('float32'),\n",
    "        \"mean_array\":mean_array.astype('float32'),\n",
    "        \"std_array\":std_array.astype('float32')\n",
    "    }\n",
    "    if printing:\n",
    "        print(*dict_out)\n",
    "        #print_dict(dict_out)\n",
    "    return dict_out,positions_out"
   ]
  },
  {
   "cell_type": "code",
   "execution_count": 9,
   "id": "90c3d090",
   "metadata": {
    "ExecuteTime": {
     "end_time": "2021-12-14T09:01:49.825254Z",
     "start_time": "2021-12-14T09:01:49.820802Z"
    }
   },
   "outputs": [],
   "source": [
    "# # # position_array[row_end-num_rows_recall:row_end,:,i]\n",
    "# # # num_rows_recall,row_end,i\n",
    "# # # positions_lst[0]\n",
    "# # positions\n",
    "# # num_rows_pad\n",
    "# Gamma_values.astype('float32')\n",
    "# np.float32(0.123)"
   ]
  },
  {
   "cell_type": "code",
   "execution_count": 10,
   "id": "c5f5cbf2",
   "metadata": {
    "ExecuteTime": {
     "end_time": "2021-12-14T09:01:49.831230Z",
     "start_time": "2021-12-14T09:01:49.826615Z"
    }
   },
   "outputs": [],
   "source": [
    "# # positions_out.all()\n",
    "# # positions\n",
    "# Dt"
   ]
  },
  {
   "cell_type": "code",
   "execution_count": 11,
   "id": "acf80c0f",
   "metadata": {
    "ExecuteTime": {
     "end_time": "2021-12-14T09:01:49.837467Z",
     "start_time": "2021-12-14T09:01:49.832577Z"
    }
   },
   "outputs": [],
   "source": [
    "# #debug\n",
    "# # susa=x1_values\n",
    "# susa=position_array\n",
    "# np.isnan(susa).all(),np.isnan(susa).any(),susa.shape\n",
    "# # x1_values\n",
    "# # num_steps,step_num"
   ]
  },
  {
   "cell_type": "code",
   "execution_count": 12,
   "id": "469bdb51",
   "metadata": {
    "ExecuteTime": {
     "end_time": "2021-12-14T09:01:49.843068Z",
     "start_time": "2021-12-14T09:01:49.838745Z"
    }
   },
   "outputs": [],
   "source": [
    "# #     mean_array[step_num,0]=mean_R\n",
    "# #     mean_array[step_num,1]=mean_diffusive_step\n",
    "# #     mean_array[step_num,2]=mean_attractive_step\n",
    "# mean_array.shape\n",
    "# # Gamma_max=0.06318\n",
    "# row_end>=num_rows_recall"
   ]
  },
  {
   "cell_type": "markdown",
   "id": "c754363a",
   "metadata": {
    "ExecuteTime": {
     "end_time": "2021-12-08T05:22:37.364332Z",
     "start_time": "2021-12-08T05:22:37.364322Z"
    }
   },
   "source": [
    "# analyse the MSR for the oscillatory particle model "
   ]
  },
  {
   "cell_type": "code",
   "execution_count": 13,
   "id": "6f7a8beb",
   "metadata": {
    "ExecuteTime": {
     "end_time": "2021-12-14T09:04:32.265041Z",
     "start_time": "2021-12-14T09:01:49.844107Z"
    }
   },
   "outputs": [
    {
     "name": "stdout",
     "output_type": "stream",
     "text": [
      "Gamma_max Gamma_values Rsq_values mean_array std_array\n",
      "positions_out.shape=(10000, 4, 39)\n",
      "\u0007\u0007\u0007\u0007\u0007"
     ]
    }
   ],
   "source": [
    "#estimated run time: 11 minutes\n",
    "testing=True\n",
    "if testing:\n",
    "    #2 min. runtime\n",
    "#     a=8.5\n",
    "#     D=0.3\n",
    "    a=1.6\n",
    "    D=0.6\n",
    "    num_pairs=100#2min 22sec: 100#1min 30sec: 10+1\n",
    "    initial_phase_orientation=-np.pi/2\n",
    "    #initial_phase_orientation=np.pi/2\n",
    "    # initial_phase_orientation=0.\n",
    "    # initial_phase_orientation=np.pi\n",
    "    rstart=0.2#1.5\n",
    "    #before, long runtime\n",
    "    dict_out,positions_out = gener_positions_oscillatory(\n",
    "                a=a, D=D, printing=False,num_pairs=num_pairs,rstart=rstart,initial_phase_orientation=initial_phase_orientation)\n",
    "    print(*dict_out)\n",
    "    print(f\"positions_out.shape={positions_out.shape}\")\n",
    "    beep(5)\n",
    "    "
   ]
  },
  {
   "cell_type": "code",
   "execution_count": 14,
   "id": "b5c660bd",
   "metadata": {
    "ExecuteTime": {
     "end_time": "2021-12-14T09:04:32.474879Z",
     "start_time": "2021-12-14T09:04:32.267157Z"
    }
   },
   "outputs": [
    {
     "name": "stdout",
     "output_type": "stream",
     "text": [
      "\u0007"
     ]
    },
    {
     "data": {
      "text/plain": [
       "0"
      ]
     },
     "execution_count": 14,
     "metadata": {},
     "output_type": "execute_result"
    }
   ],
   "source": [
    "beep(1)"
   ]
  },
  {
   "cell_type": "code",
   "execution_count": 15,
   "id": "af43e25f",
   "metadata": {
    "ExecuteTime": {
     "end_time": "2021-12-14T09:04:32.797942Z",
     "start_time": "2021-12-14T09:04:32.476761Z"
    }
   },
   "outputs": [
    {
     "name": "stdout",
     "output_type": "stream",
     "text": [
      "positions_out.shape=(10000, 4, 39)\n"
     ]
    },
    {
     "data": {
      "image/png": "[encoded data removed]",
      "text/plain": [
       "<Figure size 432x288 with 1 Axes>"
      ]
     },
     "metadata": {
      "needs_background": "light"
     },
     "output_type": "display_data"
    }
   ],
   "source": [
    "# positions_out=dict_out['positions_out']\n",
    "Dt=1e-5\n",
    "title=f\"a={a:.4f}, D={D:.4f},\\n\"+r\"$\\phi_0$\"+f\"={initial_phase_orientation:.4f}, \"+r\"R$_0$\"+f\"={rstart:.4f}, \"+r\" N$_{trials}$\"+f\"={num_pairs}\\n\"\n",
    "\n",
    "print(f\"positions_out.shape={positions_out.shape}\")\n",
    "#compute the distance between each pair of particles after aligning by annihilation (unshifted)\n",
    "x1_values=positions_out[::-1,0]\n",
    "y1_values=positions_out[::-1,1]\n",
    "x2_values=positions_out[::-1,2]\n",
    "y2_values=positions_out[::-1,3]\n",
    "dx_values=(x2_values-x1_values)\n",
    "dy_values=(y2_values-y1_values)\n",
    "Rsq_values=dx_values**2+dy_values**2\n",
    "#compute the ensemble averaged values\n",
    "MSR_values=np.mean(Rsq_values,axis=1)\n",
    "aligned_coordinates_values=np.mean(positions_out,axis=-1)\n",
    "# maxt=Dt*MSR_values.shape[0]\n",
    "t_values=np.arange(MSR_values.shape[0])*Dt\n",
    "# x_values=aligned_mean_values[:,0]\n",
    "# plt.plot(aligned_mean_values[:,1])\n",
    "# plt.plot(aligned_mean_values[:,2])\n",
    "# plt.plot(aligned_mean_values[:,3])\n",
    "\n",
    "xmin,xmax=0,0.1\n",
    "ymin,ymax=0,0.6\n",
    "xv=np.linspace(xmin,xmax,100)\n",
    "plt.plot(xv,4*a*xv,'k--',label=r'$4a(t_f-t)$')\n",
    "plt.xlim([xmin,xmax])\n",
    "plt.ylim([ymin,ymax])\n",
    "plt.plot(t_values,MSR_values,c='C5',label=r\"Simulation\")\n",
    "# plt.plot(t_values,aligned_mean_values[::-1,0]**2)\n",
    "plt.plot(t_values,t_values*0.,'--',c='gray',alpha=0.5)\n",
    "format_plot(ax=plt.gca(),xlabel=r'$t_f-t$ (sec)',ylabel=r'MSR (cm$^2$)')\n",
    "plt.title(title,fontsize=16)\n",
    "plt.legend(fontsize=16)\n",
    "plt.show()"
   ]
  },
  {
   "cell_type": "code",
   "execution_count": 16,
   "id": "24f7ec6c",
   "metadata": {
    "ExecuteTime": {
     "end_time": "2021-12-14T09:04:32.802738Z",
     "start_time": "2021-12-14T09:04:32.798976Z"
    }
   },
   "outputs": [
    {
     "name": "stdout",
     "output_type": "stream",
     "text": [
      "m=5.913296630280044\n",
      "Delta_m=0.02070316138386783\n",
      "b=0.10589133029887521\n",
      "Delta_b=0.001195207932113192\n",
      "Rsquared=0.9690844746880398\n",
      "num_samples=39\n",
      "num_timepoints=10000\n",
      "ahat = 1.4783+/-0.0052\n"
     ]
    }
   ],
   "source": [
    "dict_fit=compute_95CI_ols(t_values,MSR_values)\n",
    "print_dict(dict_fit)\n",
    "print(f\"num_samples={positions_out.shape[-1]}\")\n",
    "print(f\"num_timepoints={t_values.shape[0]}\")\n",
    "print(f\"ahat = {dict_fit['m']/4:.4f}+/-{dict_fit['Delta_m']/4:.4f}\")"
   ]
  },
  {
   "cell_type": "code",
   "execution_count": 17,
   "id": "51994d1a",
   "metadata": {
    "ExecuteTime": {
     "end_time": "2021-12-14T09:04:32.915941Z",
     "start_time": "2021-12-14T09:04:32.803874Z"
    }
   },
   "outputs": [
    {
     "data": {
      "text/plain": [
       "True"
      ]
     },
     "execution_count": 17,
     "metadata": {},
     "output_type": "execute_result"
    },
    {
     "data": {
      "image/png": "[encoded data removed]",
      "text/plain": [
       "<Figure size 432x288 with 1 Axes>"
      ]
     },
     "metadata": {
      "needs_background": "light"
     },
     "output_type": "display_data"
    }
   ],
   "source": [
    "Gamma_values=dict_out['Gamma_values']\n",
    "xmin,xmax=[0,3.14]\n",
    "# bins=np.linspace(xmin,xmax,4)\n",
    "bins='auto'\n",
    "plt.hist(Gamma_values,density=True,bins=bins)\n",
    "# plt.xlim([xmin,xmax])\n",
    "format_plot(ax=plt.gca(),xlabel=r'Lifetime, $\\Gamma$ (ms)',ylabel='PDF')"
   ]
  },
  {
   "cell_type": "code",
   "execution_count": 18,
   "id": "33d202e9",
   "metadata": {
    "ExecuteTime": {
     "end_time": "2021-12-14T09:07:21.380078Z",
     "start_time": "2021-12-14T09:04:32.917466Z"
    }
   },
   "outputs": [
    {
     "name": "stdout",
     "output_type": "stream",
     "text": [
      "Gamma_max Gamma_values Rsq_values mean_array std_array\n",
      "positions_out.shape=(10000, 4, 53)\n",
      "\u0007\u0007\u0007\u0007\u0007"
     ]
    }
   ],
   "source": [
    "#estimated run time: 11 minutes\n",
    "testing=True\n",
    "if testing:\n",
    "    #2 min. runtime\n",
    "    a=8.5\n",
    "    D=0.3\n",
    "    num_pairs=100#2min 22sec: 100#1min 30sec: 10+1\n",
    "    initial_phase_orientation=-np.pi/2\n",
    "    #initial_phase_orientation=np.pi/2\n",
    "    # initial_phase_orientation=0.\n",
    "    # initial_phase_orientation=np.pi\n",
    "    rstart=0.2#1.5\n",
    "    #before, long runtime\n",
    "    dict_out,positions_out = gener_positions_oscillatory(\n",
    "                a=a, D=D, printing=False,num_pairs=num_pairs,rstart=rstart,initial_phase_orientation=initial_phase_orientation)\n",
    "    print(*dict_out)\n",
    "    print(f\"positions_out.shape={positions_out.shape}\")\n",
    "    beep(5)\n",
    "    "
   ]
  },
  {
   "cell_type": "code",
   "execution_count": null,
   "id": "c7dce7ca",
   "metadata": {},
   "outputs": [],
   "source": []
  },
  {
   "cell_type": "code",
   "execution_count": 19,
   "id": "f4896d5a",
   "metadata": {
    "ExecuteTime": {
     "end_time": "2021-12-14T09:07:21.612849Z",
     "start_time": "2021-12-14T09:07:21.381456Z"
    }
   },
   "outputs": [
    {
     "name": "stdout",
     "output_type": "stream",
     "text": [
      "positions_out.shape=(10000, 4, 53)\n"
     ]
    },
    {
     "data": {
      "image/png": "[encoded data removed]",
      "text/plain": [
       "<Figure size 432x288 with 1 Axes>"
      ]
     },
     "metadata": {
      "needs_background": "light"
     },
     "output_type": "display_data"
    }
   ],
   "source": [
    "# positions_out=dict_out['positions_out']\n",
    "Dt=1e-5\n",
    "title=f\"a={a:.4f}, D={D:.4f},\\n\"+r\"$\\phi_0$\"+f\"={initial_phase_orientation:.4f}, \"+r\"R$_0$\"+f\"={rstart:.4f}, \"+r\" N$_{trials}$\"+f\"={num_pairs}\\n\"\n",
    "\n",
    "print(f\"positions_out.shape={positions_out.shape}\")\n",
    "#compute the distance between each pair of particles after aligning by annihilation (unshifted)\n",
    "x1_values=positions_out[::-1,0]\n",
    "y1_values=positions_out[::-1,1]\n",
    "x2_values=positions_out[::-1,2]\n",
    "y2_values=positions_out[::-1,3]\n",
    "dx_values=(x2_values-x1_values)\n",
    "dy_values=(y2_values-y1_values)\n",
    "Rsq_values=dx_values**2+dy_values**2\n",
    "#compute the ensemble averaged values\n",
    "MSR_values=np.mean(Rsq_values,axis=1)\n",
    "aligned_coordinates_values=np.mean(positions_out,axis=-1)\n",
    "# maxt=Dt*MSR_values.shape[0]\n",
    "t_values=np.arange(MSR_values.shape[0])*Dt\n",
    "# x_values=aligned_mean_values[:,0]\n",
    "# plt.plot(aligned_mean_values[:,1])\n",
    "# plt.plot(aligned_mean_values[:,2])\n",
    "# plt.plot(aligned_mean_values[:,3])\n",
    "\n",
    "xmin,xmax=0,0.1\n",
    "ymin,ymax=0,0.6\n",
    "xv=np.linspace(xmin,xmax,100)\n",
    "plt.plot(xv,4*a*xv,'k--',label=r'$4a(t_f-t)$')\n",
    "plt.xlim([xmin,xmax])\n",
    "plt.ylim([ymin,ymax])\n",
    "plt.plot(t_values,MSR_values,c='C5',label=r\"Simulation\")\n",
    "# plt.plot(t_values,aligned_mean_values[::-1,0]**2)\n",
    "plt.plot(t_values,t_values*0.,'--',c='gray',alpha=0.5)\n",
    "format_plot(ax=plt.gca(),xlabel=r'$t_f-t$ (sec)',ylabel=r'MSR (cm$^2$)')\n",
    "plt.title(title,fontsize=16)\n",
    "plt.legend(fontsize=16)\n",
    "plt.show()"
   ]
  },
  {
   "cell_type": "code",
   "execution_count": 20,
   "id": "a060fb84",
   "metadata": {
    "ExecuteTime": {
     "end_time": "2021-12-14T09:07:21.618200Z",
     "start_time": "2021-12-14T09:07:21.615225Z"
    }
   },
   "outputs": [],
   "source": [
    "# plt.plot(mean_array[:,2])\n",
    "# plt.plot(std_array[:,2])"
   ]
  },
  {
   "cell_type": "code",
   "execution_count": 21,
   "id": "80aa78af",
   "metadata": {
    "ExecuteTime": {
     "end_time": "2021-12-14T09:07:21.626624Z",
     "start_time": "2021-12-14T09:07:21.619754Z"
    }
   },
   "outputs": [],
   "source": [
    "#DONE: check all output for being reasonable\n"
   ]
  },
  {
   "cell_type": "code",
   "execution_count": 22,
   "id": "2c0cfa34",
   "metadata": {
    "ExecuteTime": {
     "end_time": "2021-12-14T09:07:21.647681Z",
     "start_time": "2021-12-14T09:07:21.628209Z"
    }
   },
   "outputs": [
    {
     "data": {
      "text/plain": [
       "(False, False, (10000, 4, 53))"
      ]
     },
     "execution_count": 22,
     "metadata": {},
     "output_type": "execute_result"
    }
   ],
   "source": [
    "#DONE: check all output for being reasonable\n",
    "np.isnan(positions_out).all(),np.isnan(positions_out).any(),positions_out.shape"
   ]
  },
  {
   "cell_type": "code",
   "execution_count": null,
   "id": "d34a6470",
   "metadata": {},
   "outputs": [],
   "source": []
  },
  {
   "cell_type": "code",
   "execution_count": 23,
   "id": "dc0770e7",
   "metadata": {
    "ExecuteTime": {
     "end_time": "2021-12-14T09:07:21.660361Z",
     "start_time": "2021-12-14T09:07:21.649371Z"
    }
   },
   "outputs": [
    {
     "data": {
      "text/plain": [
       "False"
      ]
     },
     "execution_count": 23,
     "metadata": {},
     "output_type": "execute_result"
    }
   ],
   "source": [
    "np.isnan(positions_out).all()"
   ]
  },
  {
   "cell_type": "code",
   "execution_count": null,
   "id": "f755b5f2",
   "metadata": {},
   "outputs": [],
   "source": []
  },
  {
   "cell_type": "markdown",
   "id": "2d236c03",
   "metadata": {},
   "source": [
    "what's the runtime on ^this? "
   ]
  },
  {
   "cell_type": "code",
   "execution_count": 24,
   "id": "deef9b0b",
   "metadata": {
    "ExecuteTime": {
     "end_time": "2021-12-14T09:07:21.669823Z",
     "start_time": "2021-12-14T09:07:21.661538Z"
    }
   },
   "outputs": [
    {
     "data": {
      "text/plain": [
       "<function __main__.gener_positions_oscillatory(num_pairs=150, a=8.5, D=0.3, Dt=1e-05, initial_phase_orientation=0.0, period_of_oscillation=90.0, rstart=0.2, rend=0.1, printing=False, print_every=50000, mode='oscillatory', use_early_stopping=True, **kwargs)>"
      ]
     },
     "execution_count": 24,
     "metadata": {},
     "output_type": "execute_result"
    }
   ],
   "source": [
    "gener_positions_oscillatory"
   ]
  },
  {
   "cell_type": "markdown",
   "id": "96bb1f09",
   "metadata": {
    "heading_collapsed": true
   },
   "source": [
    "# TODO: gridsearch over initial_phase_orientation and initial distance, rstart\n",
    "- TODO(prereq): get a token basecase working for the default rstart,initial_phase_orientation\n",
    "- TODO: Visualize Gamma_avg versus rstart for initial_phase_orientation fixed\n",
    "- TOOD: repeat ^that for a token set of orientations from -np.pi to np.pi"
   ]
  },
  {
   "cell_type": "code",
   "execution_count": 25,
   "id": "ffb7f88e",
   "metadata": {
    "ExecuteTime": {
     "end_time": "2021-12-14T09:07:21.675542Z",
     "start_time": "2021-12-14T09:07:21.671623Z"
    },
    "hidden": true
   },
   "outputs": [
    {
     "data": {
      "text/plain": [
       "(0.2, -1.5707963267948966)"
      ]
     },
     "execution_count": 25,
     "metadata": {},
     "output_type": "execute_result"
    }
   ],
   "source": [
    "rstart,initial_phase_orientation"
   ]
  },
  {
   "cell_type": "code",
   "execution_count": 26,
   "id": "3dd58288",
   "metadata": {
    "ExecuteTime": {
     "end_time": "2021-12-14T09:07:21.682828Z",
     "start_time": "2021-12-14T09:07:21.677219Z"
    },
    "hidden": true
   },
   "outputs": [],
   "source": [
    "def routine(phi_0):\n",
    "    try:\n",
    "        #variable variables are passed as arguments\n",
    "        initial_phase_orientation=phi_0\n",
    "        #10 hr runtime per trial\n",
    "        #fixed variables\n",
    "        a=8.5\n",
    "        D=0.3\n",
    "        rstart=0.2\n",
    "        num_samples=5e2\n",
    "        #before, long runtime\n",
    "        dict_out = gener_positions_oscillatory(\n",
    "                    a=a, D=D, printing=False,num_pairs=int(num_samples+1),rstart=rstart,initial_phase_orientation=initial_phase_orientation)\n",
    "        return dict_out\n",
    "    except Exception as e:\n",
    "        return None"
   ]
  },
  {
   "cell_type": "code",
   "execution_count": 27,
   "id": "6336951a",
   "metadata": {
    "ExecuteTime": {
     "end_time": "2021-12-14T09:07:21.693531Z",
     "start_time": "2021-12-14T09:07:21.688516Z"
    },
    "hidden": true
   },
   "outputs": [
    {
     "data": {
      "text/plain": [
       "array([-3.14159265, -2.51327412, -1.88495559, -1.25663706, -0.62831853,\n",
       "        0.        ,  0.62831853,  1.25663706,  1.88495559,  2.51327412,\n",
       "        3.14159265])"
      ]
     },
     "execution_count": 27,
     "metadata": {},
     "output_type": "execute_result"
    }
   ],
   "source": [
    "#TODO: repeat ^this measurement with each of the following:\n",
    "initial_phase_orientation_values=np.linspace(-np.pi,np.pi,11)\n",
    "initial_phase_orientation_values"
   ]
  },
  {
   "cell_type": "code",
   "execution_count": 28,
   "id": "c0e12862",
   "metadata": {
    "ExecuteTime": {
     "end_time": "2021-12-14T09:48:26.481308Z",
     "start_time": "2021-12-14T09:07:21.694643Z"
    },
    "hidden": true
   },
   "outputs": [
    {
     "name": "stdout",
     "output_type": "stream",
     "text": [
      "run time simulating oscillatory annihilation events was 2464.78 seconds.\n",
      "number of successfull trials was 11\n"
     ]
    }
   ],
   "source": [
    "#parallelize with dask.bag\n",
    "task_lst=list(initial_phase_orientation_values)\n",
    "#color squared range field in parallelizable fashion\n",
    "#DONE: dask bag accelerate tshift_tare_routine\n",
    "printing=True\n",
    "npartitions=4\n",
    "# npartitions=None\n",
    "if npartitions is None:\n",
    "    npartitions=np.min((os.cpu_count(),len(task_lst)))\n",
    "    print(f\"npartition={npartitions}\")\n",
    "#all CPU version\n",
    "b = db.from_sequence(task_lst, npartitions=npartitions).map(routine)\n",
    "\n",
    "#DONE: evaluate task_lst\n",
    "start = time.time()\n",
    "retval = list(b)\n",
    "dict_out_lst=[x for x in retval if x is not None]\n",
    "if printing:\n",
    "    print(f\"run time simulating oscillatory annihilation events was {time.time()-start:.2f} seconds.\")\n",
    "    print(f\"number of successfull trials was {len(dict_out_lst)}\")"
   ]
  },
  {
   "cell_type": "code",
   "execution_count": 29,
   "id": "6ded69dd",
   "metadata": {
    "ExecuteTime": {
     "end_time": "2021-12-14T09:48:26.485573Z",
     "start_time": "2021-12-14T09:48:26.482792Z"
    },
    "hidden": true
   },
   "outputs": [],
   "source": [
    "save_folder=f\"{nb_dir}/data/oscillatory_results\"\n",
    "if not os.path.exists(save_folder):\n",
    "    os.mkdir(save_folder)\n",
    "os.chdir(save_folder)"
   ]
  },
  {
   "cell_type": "code",
   "execution_count": 30,
   "id": "e9bb26f6",
   "metadata": {
    "ExecuteTime": {
     "end_time": "2021-12-14T09:48:26.500360Z",
     "start_time": "2021-12-14T09:48:26.486443Z"
    },
    "hidden": true
   },
   "outputs": [
    {
     "name": "stdout",
     "output_type": "stream",
     "text": [
      "{'Gamma_max': 10.0, 'Gamma_values': array([0.01737, 0.01643, 0.01042,     nan, 0.01459, 0.01711, 0.02006,\n",
      "       0.01719, 0.01703, 0.02687, 0.01726, 0.01641, 0.01077, 0.0208 ,\n",
      "       0.01516, 0.02623, 0.01567, 0.01387, 0.01839, 0.01703, 0.01723,\n",
      "       0.02073, 0.01399, 0.012  , 0.01352, 0.01483, 0.01403, 0.01554,\n",
      "       0.01229, 0.01847, 0.01681, 0.02203, 0.01576, 0.01395, 0.01583,\n",
      "       0.01612, 0.02057, 0.01034, 0.01473, 0.01403, 0.01229, 0.01444,\n",
      "       0.01618, 0.01789, 0.01767, 0.02187, 0.02115, 0.02129, 0.0134 ,\n",
      "       0.01325, 0.01629, 0.01716, 0.11739, 0.01312, 0.01629, 0.0155 ,\n",
      "       0.01638, 0.01226, 0.01736, 0.01189, 0.0124 , 0.01538, 0.02213,\n",
      "       0.01688, 0.01527, 0.01757, 0.01865, 0.01515, 0.01681, 0.01344,\n",
      "       0.01456, 0.02821, 0.01252, 0.01567, 0.01719, 0.01025, 0.02269,\n",
      "       0.0158 , 0.0154 , 0.01215, 0.02833, 0.01471, 0.01357, 0.01532,\n",
      "       0.01171, 0.0166 , 0.01324, 0.01205, 0.01585, 0.01295, 0.01672,\n",
      "       0.0115 , 0.01823, 0.01655, 0.01317, 0.02163, 0.011  , 0.00795,\n",
      "       0.01334, 0.01503, 0.01425, 0.01409, 0.01028, 0.0103 , 0.01767,\n",
      "       0.0148 , 0.0148 , 0.01344, 0.01657, 0.01482, 0.01466, 0.01392,\n",
      "       0.01558, 0.01271, 0.02482, 0.01189, 0.01538, 0.00906, 0.01941,\n",
      "       0.01565, 0.01417, 0.01732, 0.01169, 0.01066, 0.0131 , 0.01928,\n",
      "       0.01591, 0.0152 , 0.01337, 0.00964, 0.01227, 0.0138 , 0.01674,\n",
      "       0.01154, 0.01312, 0.01218, 0.00936, 0.02061, 0.01851, 0.016  ,\n",
      "       0.01756, 0.01406, 0.01047, 0.01824, 0.02206, 0.02798, 0.01184,\n",
      "       0.02117, 0.01505, 0.0125 , 0.01728, 0.02026, 0.0193 , 0.01051,\n",
      "       0.01906, 0.02701, 0.013  , 0.01649, 0.01501, 0.01962, 0.01904,\n",
      "       0.01535, 0.01746, 0.01365, 0.01403, 0.01047, 0.01972, 0.01297,\n",
      "       0.0107 , 0.01254, 0.02628, 0.01881, 0.0196 , 0.01171, 0.01344,\n",
      "       0.01521, 0.0134 , 0.01454, 0.02415, 0.0185 , 0.01598, 0.01252,\n",
      "       0.00894, 0.01332, 0.02614, 0.02824, 0.01602, 0.01938, 0.01488,\n",
      "       0.01547, 0.02095, 0.01992, 0.03096, 0.01977, 0.01449, 0.02115,\n",
      "       0.01156, 0.01298, 0.02013, 0.01545, 0.01432, 0.01612, 0.01459,\n",
      "       0.01572, 0.01777, 0.01722, 0.01409, 0.01543, 0.02046, 0.00899,\n",
      "       0.0118 , 0.01186, 0.01391, 0.01446, 0.02069, 0.01163, 0.01183,\n",
      "       0.0169 , 0.01457, 0.01742, 0.01478, 0.02263, 0.01   , 0.01534,\n",
      "       0.00877, 0.02572, 0.015  , 0.02068, 0.0169 , 0.01023, 0.01858,\n",
      "       0.01403, 0.00928, 0.01837, 0.02319, 0.01339, 0.014  , 0.0112 ,\n",
      "       0.0153 , 0.01207, 0.0404 , 0.0171 , 0.01991, 0.02033, 0.01818,\n",
      "       0.01059, 0.01964, 0.01314, 0.01475, 0.01737, 0.01617, 0.01396,\n",
      "       0.02634, 0.01876, 0.01846, 0.02169, 0.01844, 0.00975, 0.01519,\n",
      "       0.01686, 0.01416, 0.02592, 0.01543, 0.01565, 0.01749, 0.01362,\n",
      "       0.01065, 0.02008, 0.01399, 0.01023, 0.02511, 0.01245, 0.01205,\n",
      "       0.01621, 0.01752, 0.01649, 0.01892, 0.01821, 0.02005, 0.01494,\n",
      "       0.01038, 0.01323, 0.01435, 0.00837, 0.02136, 0.01161, 0.01705,\n",
      "       0.01689, 0.02194, 0.01469, 0.01571, 0.01838, 0.01693, 0.01277,\n",
      "       0.014  , 0.01908, 0.02036, 0.0212 , 0.01498, 0.02338, 0.03303,\n",
      "       0.01405, 0.01326, 0.01123, 0.02096, 0.01084, 0.01721, 0.01537,\n",
      "       0.01372, 0.00917, 0.0179 , 0.0262 , 0.0105 , 0.01696, 0.01256,\n",
      "       0.01424, 0.01107, 0.02213,     nan, 0.01343, 0.01554, 0.01931,\n",
      "       0.01522, 0.01198, 0.01176, 0.02438, 0.0132 , 0.01542, 0.01355,\n",
      "       0.01588, 0.01584, 0.01646, 0.0072 , 0.01467, 0.02645, 0.0179 ,\n",
      "       0.01176, 0.01759, 0.01385, 0.01544, 0.01541, 0.01714, 0.01234,\n",
      "       0.01551, 0.01323, 0.01786, 0.01038, 0.02363, 0.00953, 0.01453,\n",
      "       0.011  , 0.01348, 0.01465, 0.02085, 0.01742, 0.02051, 0.02193,\n",
      "       0.01544, 0.01843, 0.02869, 0.01195, 0.01333, 0.01354, 0.015  ,\n",
      "       0.01123, 0.01645, 0.01474, 0.0121 , 0.01943, 0.01777, 0.01418,\n",
      "       0.0216 , 0.0156 , 0.01362, 0.01625, 0.01144, 0.01774, 0.01984,\n",
      "       0.01253, 0.01642, 0.01585, 0.02694, 0.02345, 0.02108, 0.02191,\n",
      "       0.00837, 0.02071, 0.01807, 0.01388, 0.01133, 0.0168 , 0.01488,\n",
      "       0.01301, 0.01592, 0.0188 , 0.02228, 0.01018, 0.028  , 0.01415,\n",
      "       0.01864, 0.01835, 0.01632, 0.01377, 0.0112 , 0.01564, 0.01318,\n",
      "       0.00916, 0.01422, 0.02096, 0.0145 , 0.01353, 0.01529, 0.01829,\n",
      "       0.01313, 0.02017, 0.01053, 0.01029, 0.01652, 0.01332, 0.02102,\n",
      "       0.02461, 0.01102, 0.01427, 0.01269, 0.01148, 0.02093, 0.01448,\n",
      "       0.01839, 0.01296, 0.01151, 0.02912, 0.02145, 0.01691, 0.01681,\n",
      "       0.01421, 0.01706, 0.02588, 0.01907, 0.01684, 0.01729, 0.01396,\n",
      "       0.02112, 0.02325, 0.01757, 0.02856, 0.02771, 0.01722, 0.01545,\n",
      "       0.01685, 0.01834, 0.01992, 0.02015, 0.01948, 0.01558, 0.01371,\n",
      "       0.01967, 0.02376, 0.01554, 0.01582, 0.01961, 0.01294, 0.01402,\n",
      "       0.01109, 0.02119, 0.01567, 0.0137 , 0.01107, 0.01466, 0.0165 ,\n",
      "       0.01177, 0.01294, 0.01327, 0.01266, 0.01811, 0.01882, 0.01418,\n",
      "       0.01773, 0.02128, 0.01181, 0.02365, 0.01536, 0.02107, 0.01342,\n",
      "       0.0192 , 0.01282, 0.02402, 0.012  , 0.01629, 0.01374, 0.01303,\n",
      "       0.02185, 0.011  , 0.03371, 0.01371, 0.01475, 0.01448, 0.02441,\n",
      "       0.01777, 0.02017, 0.01858, 0.01449], dtype=float32), 'Rsq_values': array([8.69661570e-03, 8.77195131e-03, 1.01290019e-02, 3.90773487e+00,\n",
      "       9.37269442e-03, 8.06775130e-03, 8.99318978e-03, 9.48324893e-03,\n",
      "       8.97000264e-03, 1.08531164e-02, 8.17897916e-03, 9.36456025e-03,\n",
      "       8.06125626e-03, 8.39416683e-03, 9.09484923e-03, 8.46330542e-03,\n",
      "       9.10787005e-03, 9.68071073e-03, 8.52062460e-03, 9.94481985e-03,\n",
      "       9.40076448e-03, 7.63507094e-03, 9.88796540e-03, 9.03912541e-03,\n",
      "       7.51553010e-03, 7.86718260e-03, 8.90467409e-03, 8.95838812e-03,\n",
      "       8.93201213e-03, 9.55214817e-03, 9.61383153e-03, 8.60849954e-03,\n",
      "       9.23780072e-03, 9.48795024e-03, 9.82497074e-03, 8.60860106e-03,\n",
      "       9.43747442e-03, 8.88452586e-03, 8.98743141e-03, 1.00761522e-02,\n",
      "       7.75937922e-03, 8.81995261e-03, 1.01779746e-02, 8.55787471e-03,\n",
      "       9.51326825e-03, 9.05258395e-03, 9.24960524e-03, 7.91608822e-03,\n",
      "       8.62622447e-03, 9.03117005e-03, 1.00606000e-02, 7.80751975e-03,\n",
      "       1.06544392e-02, 9.49778780e-03, 8.46439321e-03, 1.01838037e-02,\n",
      "       9.68297292e-03, 8.30090977e-03, 9.27955192e-03, 9.39608645e-03,\n",
      "       9.05163959e-03, 1.00760451e-02, 9.41797625e-03, 8.73936713e-03,\n",
      "       9.69633739e-03, 9.40831657e-03, 8.44829530e-03, 8.58043693e-03,\n",
      "       9.33206081e-03, 9.64662712e-03, 9.51934420e-03, 8.83190893e-03,\n",
      "       9.44867637e-03, 9.57218092e-03, 8.90221633e-03, 8.18098057e-03,\n",
      "       1.10601690e-02, 8.02547485e-03, 9.27243009e-03, 9.34475288e-03,\n",
      "       8.74644797e-03, 1.07699558e-02, 8.86691734e-03, 9.99639649e-03,\n",
      "       9.40860808e-03, 9.69423354e-03, 9.01754480e-03, 9.31346882e-03,\n",
      "       7.95036554e-03, 8.94999690e-03, 9.98224225e-03, 9.37499478e-03,\n",
      "       9.97746270e-03, 9.69758071e-03, 9.09862854e-03, 9.77976061e-03,\n",
      "       8.69630091e-03, 9.13167931e-03, 8.63832980e-03, 1.03643201e-02,\n",
      "       8.95594433e-03, 9.17232037e-03, 1.00720674e-02, 9.85366013e-03,\n",
      "       9.51934978e-03, 7.98949320e-03, 9.55257006e-03, 8.01131316e-03,\n",
      "       9.23773460e-03, 9.61188227e-03, 1.09288134e-02, 9.82547551e-03,\n",
      "       8.87023937e-03, 9.31308605e-03, 1.00605302e-02, 9.13423579e-03,\n",
      "       1.06171109e-02, 8.63559917e-03, 8.46487749e-03, 9.15620662e-03,\n",
      "       1.06307855e-02, 1.03137093e-02, 1.08094513e-02, 9.84344445e-03,\n",
      "       9.17901844e-03, 9.94889624e-03, 1.00941043e-02, 8.63045827e-03,\n",
      "       8.68830550e-03, 1.06939655e-02, 9.89484228e-03, 8.41528177e-03,\n",
      "       1.02017224e-02, 8.55537876e-03, 9.09047388e-03, 1.02417460e-02,\n",
      "       8.89030658e-03, 7.70684471e-03, 9.82706156e-03, 9.22919996e-03,\n",
      "       9.78656765e-03, 1.03552779e-02, 9.19665489e-03, 9.72266123e-03,\n",
      "       9.40267835e-03, 8.42220243e-03, 1.04853604e-02, 9.71192308e-03,\n",
      "       8.97178799e-03, 9.10696760e-03, 9.26866848e-03, 9.13001876e-03,\n",
      "       9.21822432e-03, 9.27043147e-03, 8.88351724e-03, 9.36210901e-03,\n",
      "       8.90577678e-03, 1.02391755e-02, 9.34431143e-03, 9.77126975e-03,\n",
      "       9.89131257e-03, 8.30034725e-03, 9.24840942e-03, 8.78956635e-03,\n",
      "       1.00660501e-02, 9.56369564e-03, 8.94949678e-03, 9.55296215e-03,\n",
      "       9.95992031e-03, 8.92756879e-03, 9.43075493e-03, 1.01314373e-02,\n",
      "       1.01733394e-02, 9.28617455e-03, 8.52326304e-03, 7.71933561e-03,\n",
      "       1.03184870e-02, 9.36685875e-03, 8.70065298e-03, 9.42045450e-03,\n",
      "       9.54462681e-03, 9.12807230e-03, 1.00357607e-02, 8.27352703e-03,\n",
      "       8.81187432e-03, 8.96540377e-03, 8.55971500e-03, 9.77086835e-03,\n",
      "       9.01866239e-03, 1.04755070e-02, 9.18587577e-03, 1.09216245e-02,\n",
      "       9.80689842e-03, 9.92226508e-03, 8.12598038e-03, 8.73021968e-03,\n",
      "       9.50928126e-03, 1.01428693e-02, 1.01815145e-02, 9.97236650e-03,\n",
      "       1.00190341e-02, 9.92602855e-03, 1.00797890e-02, 9.40522272e-03,\n",
      "       9.90873389e-03, 1.05193639e-02, 9.47330054e-03, 9.30090062e-03,\n",
      "       9.86498687e-03, 9.87186003e-03, 1.02613242e-02, 7.85996672e-03,\n",
      "       9.41031892e-03, 9.59580112e-03, 9.23251547e-03, 8.61205533e-03,\n",
      "       8.98168795e-03, 9.56869405e-03, 9.94122215e-03, 9.35398135e-03,\n",
      "       8.59536510e-03, 1.03658829e-02, 1.00818640e-02, 1.03911115e-02,\n",
      "       8.88043363e-03, 9.24482848e-03, 9.63783264e-03, 9.20870062e-03,\n",
      "       9.41491406e-03, 8.39933846e-03, 1.01001831e-02, 8.52247234e-03,\n",
      "       9.38805658e-03, 9.19802021e-03, 9.43569653e-03, 8.51625577e-03,\n",
      "       9.65312868e-03, 8.67734849e-03, 1.04743699e-02, 9.67460964e-03,\n",
      "       8.78257211e-03, 8.89121927e-03, 8.16985499e-03, 9.42064356e-03,\n",
      "       7.46109569e-03, 1.10854609e-02, 9.81665682e-03, 9.58563574e-03,\n",
      "       8.88016820e-03, 8.37132987e-03, 9.05261841e-03, 8.25557206e-03,\n",
      "       8.45554937e-03, 9.65017639e-03, 8.88268091e-03, 8.18725675e-03,\n",
      "       9.90797579e-03, 9.64781269e-03, 1.01683689e-02, 8.20450485e-03,\n",
      "       8.96915048e-03, 9.24394000e-03, 7.87078403e-03, 8.59008357e-03,\n",
      "       8.84745829e-03, 9.72361024e-03, 8.30964837e-03, 9.01407376e-03,\n",
      "       1.07546346e-02, 8.37179553e-03, 8.43709148e-03, 8.66601802e-03,\n",
      "       9.26111359e-03, 1.05331196e-02, 9.02827550e-03, 9.55659151e-03,\n",
      "       9.15635191e-03, 1.10362200e-02, 9.89228021e-03, 8.04711506e-03,\n",
      "       9.92629398e-03, 7.60662369e-03, 9.12273489e-03, 9.87738371e-03,\n",
      "       9.13165696e-03, 7.15478323e-03, 8.11026152e-03, 8.63452349e-03,\n",
      "       1.00003704e-02, 9.58832912e-03, 1.00912899e-02, 9.35887638e-03,\n",
      "       8.96328315e-03, 9.07071028e-03, 8.56438838e-03, 1.04652019e-02,\n",
      "       1.02727525e-02, 9.54868644e-03, 8.95796623e-03, 9.47110262e-03,\n",
      "       9.57331341e-03, 9.33850091e-03, 8.73027928e-03, 9.63511690e-03,\n",
      "       8.17924272e-03, 8.83957930e-03, 7.70333549e-03, 9.02372971e-03,\n",
      "       9.08544380e-03, 8.46010260e-03, 9.70182102e-03, 1.05502680e-02,\n",
      "       9.24757216e-03, 9.38755833e-03, 9.60021466e-03, 8.36656429e-03,\n",
      "       9.21396725e-03, 9.60519351e-03, 4.20663872e+01, 1.04733389e-02,\n",
      "       9.20589361e-03, 8.32898170e-03, 9.96367447e-03, 1.03312656e-02,\n",
      "       8.80622678e-03, 8.26924946e-03, 8.66950117e-03, 8.78952350e-03,\n",
      "       9.45333019e-03, 8.82550329e-03, 7.25850789e-03, 1.09278681e-02,\n",
      "       9.14266612e-03, 9.28392075e-03, 9.32465214e-03, 7.95713812e-03,\n",
      "       8.47248826e-03, 9.27794259e-03, 8.59973580e-03, 8.55880789e-03,\n",
      "       8.04012641e-03, 9.28573217e-03, 8.53579771e-03, 8.68131593e-03,\n",
      "       8.52350146e-03, 8.00157059e-03, 9.34799016e-03, 9.64307133e-03,\n",
      "       9.30166058e-03, 9.00016818e-03, 9.45154577e-03, 9.68409423e-03,\n",
      "       9.81145166e-03, 1.01529425e-02, 9.19910986e-03, 9.06979199e-03,\n",
      "       9.49125644e-03, 8.75905529e-03, 9.15617310e-03, 8.93121492e-03,\n",
      "       8.58214218e-03, 9.12795588e-03, 9.28498711e-03, 9.22335312e-03,\n",
      "       9.49024968e-03, 1.01890229e-02, 9.96050797e-03, 9.09578148e-03,\n",
      "       8.92578159e-03, 9.50093009e-03, 9.04222857e-03, 8.77644587e-03,\n",
      "       9.11298208e-03, 9.62152053e-03, 9.74152330e-03, 9.01668053e-03,\n",
      "       9.02900752e-03, 1.00508938e-02, 1.02635976e-02, 8.40720069e-03,\n",
      "       9.60804708e-03, 1.06246937e-02, 9.21343639e-03, 1.02969054e-02,\n",
      "       1.00125270e-02, 8.85924418e-03, 8.89289379e-03, 1.02448231e-02,\n",
      "       1.01096416e-02, 9.37252864e-03, 9.71108302e-03, 9.18838475e-03,\n",
      "       7.82886706e-03, 9.18791629e-03, 9.70807020e-03, 9.12632979e-03,\n",
      "       8.94129090e-03, 9.17662121e-03, 9.58245806e-03, 8.80057272e-03,\n",
      "       9.96479951e-03, 1.06484219e-02, 8.94108322e-03, 9.95171349e-03,\n",
      "       9.20006540e-03, 9.85861197e-03, 9.86798294e-03, 8.57510418e-03,\n",
      "       8.67399573e-03, 9.33580287e-03, 1.04580354e-02, 9.66150966e-03,\n",
      "       8.65422189e-03, 8.90293904e-03, 9.13273543e-03, 8.47168360e-03,\n",
      "       1.06601212e-02, 9.68202110e-03, 9.65777226e-03, 1.06746675e-02,\n",
      "       9.63977352e-03, 9.11090244e-03, 1.04226340e-02, 9.02452972e-03,\n",
      "       9.46746860e-03, 9.08121746e-03, 9.05275345e-03, 9.74189211e-03,\n",
      "       9.15368460e-03, 9.66325682e-03, 8.31879955e-03, 9.38287284e-03,\n",
      "       9.69940238e-03, 9.83767584e-03, 8.96623917e-03, 8.37219507e-03,\n",
      "       9.37509350e-03, 1.02171730e-02, 8.58562719e-03, 8.28983355e-03,\n",
      "       9.16775875e-03, 8.24818760e-03, 8.21983721e-03, 8.80410057e-03,\n",
      "       8.84557888e-03, 9.69310757e-03, 9.47973784e-03, 8.50138441e-03,\n",
      "       8.89403466e-03, 9.85877682e-03, 9.74230282e-03, 1.05265649e-02,\n",
      "       8.94418545e-03, 1.06461374e-02, 9.12647415e-03, 9.46504623e-03,\n",
      "       9.10977833e-03, 1.06202913e-02, 9.91121493e-03, 9.32146143e-03,\n",
      "       8.27903952e-03, 8.56628735e-03, 8.69423524e-03, 8.54769070e-03,\n",
      "       1.10291401e-02, 8.46153498e-03, 9.51150898e-03, 8.63051880e-03,\n",
      "       8.95113032e-03, 9.94225312e-03, 9.35294107e-03, 8.45598616e-03,\n",
      "       8.92892852e-03, 9.58115794e-03, 9.01814178e-03, 9.75464098e-03,\n",
      "       9.16485488e-03, 9.25141852e-03, 8.40723701e-03, 9.50231217e-03,\n",
      "       8.32502916e-03, 1.05673289e-02, 9.75753739e-03, 9.29828268e-03,\n",
      "       8.84712953e-03, 8.65235273e-03, 9.10570566e-03, 8.85987841e-03,\n",
      "       7.38160964e-03, 9.23274178e-03, 9.60844383e-03, 9.17047821e-03,\n",
      "       1.07561992e-02, 8.87364056e-03, 8.10568407e-03, 9.31043644e-03,\n",
      "       9.86719038e-03, 8.94405786e-03, 1.00783324e-02, 8.72016605e-03,\n",
      "       8.67728796e-03], dtype=float32), 'mean_array': array([[6.32455528e-01, 3.10803368e-03, 4.99781891e-05],\n",
      "       [6.32455528e-01, 3.07245459e-03, 5.00652750e-05],\n",
      "       [6.32596076e-01, 3.07954755e-03, 5.01425566e-05],\n",
      "       ...,\n",
      "       [1.12690054e-01, 3.16298939e-03, 7.76297704e-04],\n",
      "       [1.12673305e-01, 3.07728839e-03, 7.76589324e-04],\n",
      "       [1.12692088e-01, 3.10725602e-03, 7.76880188e-04]], dtype=float32), 'std_array': array([[0.0000000e+00, 1.1282261e-03, 0.0000000e+00],\n",
      "       [0.0000000e+00, 1.1723329e-03, 6.7762636e-21],\n",
      "       [3.3012340e-03, 1.1857400e-03, 2.6149687e-07],\n",
      "       ...,\n",
      "       [2.9703429e-01, 1.1106323e-03, 5.6680674e-05],\n",
      "       [2.9676390e-01, 1.0668093e-03, 5.6700224e-05],\n",
      "       [2.9701141e-01, 1.1392287e-03, 5.6724253e-05]], dtype=float32)} [[[0.17224063]\n",
      "  [0.01382072]\n",
      "  [0.60974574]\n",
      "  [0.56515329]]\n",
      "\n",
      " [[0.17319311]\n",
      "  [0.01408627]\n",
      "  [0.60841066]\n",
      "  [0.56588557]]\n",
      "\n",
      " [[0.17692876]\n",
      "  [0.01911204]\n",
      "  [0.60733968]\n",
      "  [0.57038932]]\n",
      "\n",
      " ...\n",
      "\n",
      " [[0.49015067]\n",
      "  [0.20895649]\n",
      "  [0.56113526]\n",
      "  [0.28162866]]\n",
      "\n",
      " [[0.49252569]\n",
      "  [0.20827429]\n",
      "  [0.56529396]\n",
      "  [0.28039908]]\n",
      "\n",
      " [[0.49406506]\n",
      "  [0.20979197]\n",
      "  [0.56519886]\n",
      "  [0.27870971]]]\n"
     ]
    }
   ],
   "source": [
    "print(*dict_out_lst[0])"
   ]
  },
  {
   "cell_type": "code",
   "execution_count": 31,
   "id": "0e6f2f75",
   "metadata": {
    "ExecuteTime": {
     "end_time": "2021-12-14T09:48:26.653577Z",
     "start_time": "2021-12-14T09:48:26.501756Z"
    },
    "hidden": true
   },
   "outputs": [
    {
     "ename": "TypeError",
     "evalue": "tuple indices must be integers or slices, not str",
     "output_type": "error",
     "traceback": [
      "\u001b[0;31m---------------------------------------------------------------------------\u001b[0m",
      "\u001b[0;31mTypeError\u001b[0m                                 Traceback (most recent call last)",
      "\u001b[0;32m/tmp/ipykernel_359047/2507638603.py\u001b[0m in \u001b[0;36m<module>\u001b[0;34m\u001b[0m\n\u001b[0;32m----> 1\u001b[0;31m \u001b[0mpositions_out\u001b[0m\u001b[0;34m=\u001b[0m\u001b[0mdict_out_lst\u001b[0m\u001b[0;34m[\u001b[0m\u001b[0;36m0\u001b[0m\u001b[0;34m]\u001b[0m\u001b[0;34m[\u001b[0m\u001b[0;34m'positions_out'\u001b[0m\u001b[0;34m]\u001b[0m\u001b[0;34m\u001b[0m\u001b[0;34m\u001b[0m\u001b[0m\n\u001b[0m\u001b[1;32m      2\u001b[0m \u001b[0mnum_pairs\u001b[0m\u001b[0;34m=\u001b[0m\u001b[0mpositions_out\u001b[0m\u001b[0;34m.\u001b[0m\u001b[0mshape\u001b[0m\u001b[0;34m[\u001b[0m\u001b[0;34m-\u001b[0m\u001b[0;36m1\u001b[0m\u001b[0;34m]\u001b[0m\u001b[0;34m\u001b[0m\u001b[0;34m\u001b[0m\u001b[0m\n",
      "\u001b[0;31mTypeError\u001b[0m: tuple indices must be integers or slices, not str"
     ]
    }
   ],
   "source": [
    "positions_out=dict_out_lst[0]['positions_out']\n",
    "num_pairs=positions_out.shape[-1]"
   ]
  },
  {
   "cell_type": "code",
   "execution_count": null,
   "id": "a0d35a53",
   "metadata": {
    "ExecuteTime": {
     "end_time": "2021-12-14T09:48:26.656193Z",
     "start_time": "2021-12-14T09:48:26.656181Z"
    },
    "hidden": true
   },
   "outputs": [],
   "source": [
    "#DONE: save dict_out_lst as json\n",
    "# dictout=dict(zip(range(len(dict_out_lst)),dict_out_lst))\n",
    "# dictout=dict(zip(range( len(dict_out_lst)),dict_out_lst))\n",
    "save_fn=f'prelim_data_numtrials_{len(dict_out_lst)}_numpairs_{num_pairs}.npz'\n",
    "np.savez_compressed(save_fn,phi_o=task_lst,**dictout)\n",
    "# save_fn=f'prelim_data_numtrials_{len(dict_out_lst)}_numpairs_{num_pairs}.json'\n",
    "# import json\n",
    "# with open(save_fn, 'w', encoding='utf-8') as f:\n",
    "#     json.dump(dictout, f, ensure_ascii=False, indent=4)\n",
    "assert os.path.exists(save_fn)"
   ]
  },
  {
   "cell_type": "code",
   "execution_count": null,
   "id": "174707d9",
   "metadata": {
    "ExecuteTime": {
     "end_time": "2021-12-14T09:48:26.657016Z",
     "start_time": "2021-12-14T09:48:26.657005Z"
    },
    "hidden": true
   },
   "outputs": [],
   "source": [
    "# np.savez_compressed?"
   ]
  },
  {
   "cell_type": "markdown",
   "id": "6d023453",
   "metadata": {},
   "source": [
    "# TODO: visualize dict_out_lst / MSR vs. tdeath for each dict_out_lst.  label by phi_0."
   ]
  },
  {
   "cell_type": "code",
   "execution_count": null,
   "id": "24caa157",
   "metadata": {
    "ExecuteTime": {
     "end_time": "2021-12-14T09:48:26.657910Z",
     "start_time": "2021-12-14T09:48:26.657899Z"
    }
   },
   "outputs": [],
   "source": [
    "phi_0=0\n",
    "initial_phase_orientation=phi_0\n",
    "#10 hr runtime per trial\n",
    "a=8.5\n",
    "D=0.3\n",
    "rstart=0.2\n",
    "num_samples=1\n",
    "#before, long runtime\n",
    "dict_out = gener_positions_oscillatory(\n",
    "            a=a, D=D, printing=False,num_pairs=int(num_samples+1),rstart=rstart,initial_phase_orientation=initial_phase_orientation)"
   ]
  },
  {
   "cell_type": "code",
   "execution_count": null,
   "id": "4898064b",
   "metadata": {
    "ExecuteTime": {
     "end_time": "2021-12-14T09:48:26.658516Z",
     "start_time": "2021-12-14T09:48:26.658506Z"
    }
   },
   "outputs": [],
   "source": [
    "i"
   ]
  }
 ],
 "metadata": {
  "kernelspec": {
   "display_name": "Python 3 (ipykernel)",
   "language": "python",
   "name": "python3"
  },
  "language_info": {
   "codemirror_mode": {
    "name": "ipython",
    "version": 3
   },
   "file_extension": ".py",
   "mimetype": "text/x-python",
   "name": "python",
   "nbconvert_exporter": "python",
   "pygments_lexer": "ipython3",
   "version": "3.7.10"
  },
  "toc": {
   "base_numbering": 1,
   "nav_menu": {},
   "number_sections": true,
   "sideBar": true,
   "skip_h1_title": false,
   "title_cell": "Table of Contents",
   "title_sidebar": "Contents",
   "toc_cell": false,
   "toc_position": {},
   "toc_section_display": true,
   "toc_window_display": false
  },
  "varInspector": {
   "cols": {
    "lenName": 16,
    "lenType": 16,
    "lenVar": 40
   },
   "kernels_config": {
    "python": {
     "delete_cmd_postfix": "",
     "delete_cmd_prefix": "del ",
     "library": "var_list.py",
     "varRefreshCmd": "print(var_dic_list())"
    },
    "r": {
     "delete_cmd_postfix": ") ",
     "delete_cmd_prefix": "rm(",
     "library": "var_list.r",
     "varRefreshCmd": "cat(var_dic_list()) "
    }
   },
   "types_to_exclude": [
    "module",
    "function",
    "builtin_function_or_method",
    "instance",
    "_Feature"
   ],
   "window_display": false
  }
 },
 "nbformat": 4,
 "nbformat_minor": 5
}
