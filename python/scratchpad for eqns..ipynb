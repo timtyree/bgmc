{
 "cells": [
  {
   "cell_type": "markdown",
   "id": "6c414e71",
   "metadata": {},
   "source": [
    "# Scratchpad for Eqns."
   ]
  },
  {
   "cell_type": "markdown",
   "id": "b578994b",
   "metadata": {
    "ExecuteTime": {
     "end_time": "2022-06-12T06:19:42.925775Z",
     "start_time": "2022-06-12T06:19:42.917925Z"
    }
   },
   "source": [
    "__Numerical Method for Simulating the General Case__\n",
    "\n",
    "Let $X(0)$ be drawn randomly from a uniform distribution of the entire square domain.  We then sample the points time evolved by $\\Delta t=10^{-2}$ms  independently for each axis, $k=1,2$, using the following discrete rules of motion\n",
    "$$\n",
    "X_{ik}(t+\\Delta t) =\\Big[ X_{ik}(t)+\\mu_{ik}\\Big(X(t),\\Phi(t)\\Big)\\Delta t +\\sqrt{2D\\Delta t} Z \\Big]_\\text{pbc}\n",
    "$$\n",
    "Where $[\\,\\cdot\\,]_\\text{pbc}$ denotes enforcement of periodic boundary conditions, $D>0$ is the diffusion coefficient, $Z\\sim\\mathcal{N}(0,1)$ is a value both randomly and independently drawn from the normal distribution with zero mean and unit variance, and $\\Phi=(\\phi_1,\\phi_2,\\phi_3,...,\\phi_N)$ is a vector of local phase variables used to define the oscillatory particle model described in the main text."
   ]
  },
  {
   "cell_type": "markdown",
   "id": "9f622b50",
   "metadata": {},
   "source": [
    "__Numerical Method for Simulating the Oscillatory Particle Model__\n",
    "\n",
    "Let $X_{ik}(t')$ be the $k^{th}$ coordinate of the $i^{th}$ particle at time $t'=t_f-t$. At the time of pair-annihilation, $t'=0$, we consider $X_{1k}(0)=(0,0)_k$ as the final location of particle 1, for $k=1,2$.  Similarly, let $X_{2k}(0)=(R_\\text{start},0)_k$ be the final location of particle 2. \n",
    "\n",
    "For each coordinate $k=1,2$, we simulate the stochastic motion of particle 1 using explicit backwards Euler integration at a time step of $\\Delta t=10^{-2}$ms using the following discrete rule of motion:\n",
    "\n",
    "$$\n",
    "X_{1k}(t'+\\Delta t) = X_{1k}(t')+\n",
    "a\\cos(\\omega t' + \\phi_f)\\Delta t\\frac{X_{2k}(t')-X_{1k}(t')}{\n",
    "\\sum_{k'=1,2}\\Big(X_{2k'}(t')-X_{1k'}(t')\\Big)^2\n",
    "}\n",
    "+\\sqrt{2\\tilde{D}\\Delta t} Z.\n",
    "$$\n",
    "\n",
    "Where $\\tilde{D}>0$ is the oscillatory diffusion coefficient, $a$ is the oscillatory attraction coefficient, $\\phi_f$ is the constant difference between two final angles, and $Z\\sim\\mathcal{N}(0,1)$ is a value randomly and independently drawn from the normal distribution with zero mean and unit variance.  The rule for particle 2 is similar under $1\\leftrightarrow2$.  Rules for the linear particle model are recovered by setting the angular frequency to zero, $\\omega=2\\pi/T=0$."
   ]
  },
  {
   "cell_type": "code",
   "execution_count": null,
   "id": "7957503c",
   "metadata": {},
   "outputs": [],
   "source": []
  }
 ],
 "metadata": {
  "hide_input": false,
  "kernelspec": {
   "display_name": "Python 3 (ipykernel)",
   "language": "python",
   "name": "python3"
  },
  "language_info": {
   "codemirror_mode": {
    "name": "ipython",
    "version": 3
   },
   "file_extension": ".py",
   "mimetype": "text/x-python",
   "name": "python",
   "nbconvert_exporter": "python",
   "pygments_lexer": "ipython3",
   "version": "3.9.5"
  },
  "nbTranslate": {
   "displayLangs": [
    "*"
   ],
   "hotkey": "alt-t",
   "langInMainMenu": true,
   "sourceLang": "en",
   "targetLang": "fr",
   "useGoogleTranslate": true
  },
  "toc": {
   "base_numbering": 1,
   "nav_menu": {},
   "number_sections": true,
   "sideBar": true,
   "skip_h1_title": false,
   "title_cell": "Table of Contents",
   "title_sidebar": "Contents",
   "toc_cell": false,
   "toc_position": {},
   "toc_section_display": true,
   "toc_window_display": false
  }
 },
 "nbformat": 4,
 "nbformat_minor": 5
}
