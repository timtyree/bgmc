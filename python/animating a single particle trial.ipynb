{
 "cells": [
  {
   "cell_type": "markdown",
   "metadata": {},
   "source": [
    "# animating a single particle trial\n",
    "Tim Tyree<br>\n",
    "6.8.2021"
   ]
  },
  {
   "cell_type": "code",
   "execution_count": 1,
   "metadata": {
    "ExecuteTime": {
     "end_time": "2021-06-09T01:04:02.209182Z",
     "start_time": "2021-06-09T01:03:59.932964Z"
    }
   },
   "outputs": [],
   "source": [
    "from lib.my_initialization import *\n",
    "from lib.utils.pbc import *\n",
    "import shutil"
   ]
  },
  {
   "cell_type": "code",
   "execution_count": 2,
   "metadata": {
    "ExecuteTime": {
     "end_time": "2021-06-09T01:04:02.676170Z",
     "start_time": "2021-06-09T01:04:02.212295Z"
    }
   },
   "outputs": [],
   "source": [
    "from numpy.random import MT19937\n",
    "from numpy.random import RandomState, SeedSequence\n",
    "#random number stream A\n",
    "rs = RandomState(MT19937(SeedSequence(123456789)))\n",
    "#random number stream B\n",
    "# rs = RandomState(MT19937(SeedSequence(987654321)))\n",
    "\n",
    "#get distance metric\n",
    "distance_L2_pbc=get_distance_L2_pbc(width=1,height=1)\n",
    "np.random.seed(123456789)"
   ]
  },
  {
   "cell_type": "code",
   "execution_count": 3,
   "metadata": {
    "ExecuteTime": {
     "end_time": "2021-06-09T01:04:02.680306Z",
     "start_time": "2021-06-09T01:04:02.677901Z"
    }
   },
   "outputs": [],
   "source": [
    "#DONE: plot all particle positions with this ic.  \n",
    "#DONE: translate monte carlo into python\n",
    "#DONE: make a movie for simplest case up to time tmax=1\n",
    "#DONE: repeat with each attractive force between all particles \n",
    "#DONE: repeat with explicitely uniform ic.\n",
    "#DONE: repeat with each attractive force between all particles "
   ]
  },
  {
   "cell_type": "code",
   "execution_count": 4,
   "metadata": {
    "ExecuteTime": {
     "end_time": "2021-06-09T01:04:02.686456Z",
     "start_time": "2021-06-09T01:04:02.683078Z"
    }
   },
   "outputs": [],
   "source": [
    "N=16\n",
    "L=10\n",
    "x_values=rs.uniform(size=N)*L\n",
    "y_values=rs.uniform(size=N)*L\n",
    "t=0"
   ]
  },
  {
   "cell_type": "code",
   "execution_count": 5,
   "metadata": {
    "ExecuteTime": {
     "end_time": "2021-06-09T01:04:02.691050Z",
     "start_time": "2021-06-09T01:04:02.688466Z"
    }
   },
   "outputs": [],
   "source": [
    "# #explicitely uniform ic.\n",
    "# uvals=np.linspace(0,L*4/5,4)\n",
    "# x_values,y_values=np.meshgrid(uvals,uvals)\n",
    "# x_values=x_values.flatten()+L/10\n",
    "# y_values=y_values.flatten()+L/10\n",
    "# #TODO: explicitely enter ^these values in my c simulation and run it"
   ]
  },
  {
   "cell_type": "code",
   "execution_count": 6,
   "metadata": {
    "ExecuteTime": {
     "end_time": "2021-06-09T01:04:02.799583Z",
     "start_time": "2021-06-09T01:04:02.694424Z"
    }
   },
   "outputs": [
    {
     "data": {
      "image/png": "[encoded data removed]",
      "text/plain": [
       "<Figure size 432x432 with 1 Axes>"
      ]
     },
     "metadata": {
      "needs_background": "light"
     },
     "output_type": "display_data"
    }
   ],
   "source": [
    "#return a scatter plot that may be saved as png\n",
    "annotating=True\n",
    "message='initial positions'\n",
    "fig=ScatterPlotSnapshot(x_values,y_values,t,width=L,height=L,\n",
    "                        annotating=annotating,message=message,inch=6)\n",
    "plt.show()"
   ]
  },
  {
   "cell_type": "code",
   "execution_count": 7,
   "metadata": {
    "ExecuteTime": {
     "end_time": "2021-06-09T01:04:02.959231Z",
     "start_time": "2021-06-09T01:04:02.804455Z"
    }
   },
   "outputs": [],
   "source": [
    "save_folder=f\"{nb_dir}/Figures/mov\"\n",
    "if os.path.exists(save_folder):\n",
    "    shutil.rmtree(save_folder)\n",
    "    \n",
    "os.mkdir(save_folder)\n",
    "    \n",
    "frameno=1\n",
    "save_fn=None\n",
    "inch=6\n",
    "annotating=True\n",
    "\n",
    "# message='without forces'\n",
    "# force_code=0\n",
    "# varkappa=0\n",
    "message='with anti-spring forces'\n",
    "force_code=1\n",
    "varkappa=-5\n",
    "# message='with inverse powerlaw forces'\n",
    "# force_code=2\n",
    "# varkappa=5"
   ]
  },
  {
   "cell_type": "code",
   "execution_count": 8,
   "metadata": {
    "ExecuteTime": {
     "end_time": "2021-06-09T01:04:03.152344Z",
     "start_time": "2021-06-09T01:04:02.964376Z"
    }
   },
   "outputs": [
    {
     "data": {
      "text/plain": [
       "(0.5223008112208712, 0.3917012992912503)"
      ]
     },
     "execution_count": 8,
     "metadata": {},
     "output_type": "execute_result"
    }
   ],
   "source": [
    "from numba import jit,njit\n",
    "@njit\n",
    "def normalRandom():\n",
    "    return np.random.normal()\n",
    "\n",
    "@njit\n",
    "def uniformRandom():\n",
    "    return np.random.uniform(0,1)\n",
    "normalRandom(),uniformRandom()"
   ]
  },
  {
   "cell_type": "code",
   "execution_count": 10,
   "metadata": {
    "ExecuteTime": {
     "end_time": "2021-06-09T01:05:42.012625Z",
     "start_time": "2021-06-09T01:04:03.160485Z"
    }
   },
   "outputs": [
    {
     "name": "stdout",
     "output_type": "stream",
     "text": [
      "running simulation...\n",
      "simulation complete!\n"
     ]
    }
   ],
   "source": [
    "#define model parameters\n",
    "r=0.1\n",
    "D=2\n",
    "L=10\n",
    "kappa=1500\n",
    "# Dt=1e-5;dt=1e-5;tmax=500 #UNCOMMENT_HERE\n",
    "Dt=1e-5;dt=1e-5;tmax=1 #COMMENT_HERE\n",
    "\n",
    "#for forces\n",
    "x0=5\n",
    "no_repulsion=1\n",
    "no_attraction=0\n",
    "\n",
    "#skipping reflect,set_second, and neighbor functionality\n",
    "\n",
    "#define constants\n",
    "stepscale=np.sqrt(2*D*Dt)\n",
    "probreact=kappa*dt\n",
    "T_net=0;count_net=0\n",
    "np.random.seed(123456789)\n",
    "dist_cutoff=1e-2\n",
    "iter_per_movestep = round(Dt/dt)\n",
    "impulse_prefactor= varkappa * Dt\n",
    "save_every=100\n",
    "step=0\n",
    "\n",
    "print(\"running simulation...\");\n",
    "Time=0;t=0\n",
    "still_running=True;exit_code=-1;T=-9999.\n",
    "#initialize positions\n",
    "# #uniform random ic\n",
    "# x_values=rs.uniform(size=N)*L\n",
    "# y_values=rs.uniform(size=N)*L\n",
    "# #explicitely uniform ic\n",
    "# uvals=np.linspace(0,L,5)\n",
    "# x_values,y_values=np.meshgrid(uvals,uvals)\n",
    "# x_values=x_values.flatten()\n",
    "# y_values=y_values.flatten()\n",
    "\n",
    "#lower case: world coordinates\n",
    "#upper case: material coordinates\n",
    "x=x_values.copy()\n",
    "y=y_values.copy()\n",
    "x_old=x_values.copy()\n",
    "y_old=y_values.copy()\n",
    "x_new=x_values.copy()\n",
    "y_new=y_values.copy()\n",
    "X=x_values.copy()\n",
    "Y=y_values.copy()\n",
    "X_old=x_values.copy()\n",
    "Y_old=y_values.copy()\n",
    "X_new=x_values.copy()\n",
    "Y_new=y_values.copy()\n",
    "zeros=np.zeros_like(x_values)\n",
    "zerosint=np.zeros_like(x_values).astype('int')\n",
    "still_running=zerosint==zerosint\n",
    "# //start set_second kernel\n",
    "# //end set_second kernel\n",
    "#TODO: make still_running into still_running_values\n",
    "while(still_running.any()):\n",
    "    # //reinitialize_kernel, which copies X,Y_new to X,Y_old\n",
    "    min_dist_old=zeros+9999999\n",
    "    i_neighbor=zerosint-1\n",
    "    X_old=X_new\n",
    "    Y_old=Y_new\n",
    "    # //enforce boundary conditions\n",
    "    for i in range(N):\n",
    "        x_old[i]=periodic(X_old[i],L);\n",
    "        y_old[i]=periodic(Y_old[i],L);\n",
    "    \n",
    "    t=Time-dt;#//for an insignificant edge case\n",
    "    Time=Time+Dt;\n",
    "    \n",
    "    # reset the net forces\n",
    "    Fx_net=zeros.copy()\n",
    "    Fy_net=zeros.copy()\n",
    "    \n",
    "    #sum_each_force_kernel\n",
    "    for i in range(N):\n",
    "        if(still_running[i]):\n",
    "            for j in range(i+1,N-1):\n",
    "                if(still_running[j]):\n",
    "                    #compute displacement vector with pbc\n",
    "                    dx = subtract_pbc_1d(x_old[j],x_old[i],L);\n",
    "                    dy = subtract_pbc_1d(y_old[j],y_old[i],L);\n",
    "\n",
    "                    dist2=dx*dx+dy*dy;\n",
    "                    if (dist2<1e-8):\n",
    "                        dist2=float(1e-8)\n",
    "                    dist = np.sqrt(dist2)\n",
    "\n",
    "                    #compute displacement due to drift\n",
    "                    impulse_factor=0.\n",
    "                    if (force_code==1):\n",
    "                      #spring\n",
    "                      impulse_factor=impulse_prefactor*(dist-x0)/dist;\n",
    "                    if (force_code==2):\n",
    "                      #QED2: force ~ inverse power law\n",
    "                      impulse_factor=impulse_prefactor/dist2;\n",
    "                    if (force_code==3):\n",
    "                      #QED3: force ~ inverse square power law\n",
    "                      impulse_factor=impulse_prefactor/dist2/dist;\n",
    "\n",
    "                    #set impulse_factor to zero if it is explicitly forbidden by the user input\n",
    "                    if ((no_attraction==1) & (impulse_factor>0)):\n",
    "                        impulse_factor=0.\n",
    "                    if ((no_repulsion==1) & (impulse_factor<0)):\n",
    "                        impulse_factor=0.\n",
    "\n",
    "                    #sum Fx_net, Fy_net according to a symplectic (momentum conserving) integrator\n",
    "                    Fx_net[i]=Fx_net[i]+dx*impulse_factor;\n",
    "                    Fy_net[i]=Fy_net[i]+dy*impulse_factor;\n",
    "                    Fx_net[j]=Fx_net[j]-dx*impulse_factor;\n",
    "                    Fy_net[j]=Fy_net[j]-dy*impulse_factor\n",
    "\n",
    "    #compute the one_step given the net force, F_net        \n",
    "    for i in range(N):\n",
    "        if(still_running[i]):\n",
    "            dxt=Fx_net[i];\n",
    "            dyt=Fy_net[i];\n",
    "            # compute displacement due to gaussian white noise\n",
    "            dxW=stepscale*normalRandom();\n",
    "            dyW=stepscale*normalRandom();\n",
    "            # next spatial position, time integrating by a duration, Dt.\n",
    "            X_new[i]=X_old[i]+dxW+dxt;\n",
    "            Y_new[i]=Y_old[i]+dyW+dyt;\n",
    "            # enforce PBC\n",
    "            x_new[i]=periodic(X_new[i],L);\n",
    "            y_new[i]=periodic(Y_new[i],L);        \n",
    "\n",
    "            \n",
    "    #interpolation_kernel at short timescale, dt   \n",
    "    for s in range(iter_per_movestep):\n",
    "        # compute local time\n",
    "        t=t+dt;\n",
    "        frac=(Time-t)/Dt;\n",
    "        cfrac=1.-frac;\n",
    "        # kernel_interpolate, which enforces b.c.'s\n",
    "        for i in range(N):\n",
    "            if(still_running[i]):\n",
    "                # linear interpolation\n",
    "                X[i]=frac*X_old[i]+cfrac*X_new[i];\n",
    "                Y[i]=frac*Y_old[i]+cfrac*Y_new[i];\n",
    "                # impose boundary conditions\n",
    "                # enforce PBC\n",
    "                x[i]=periodic(X[i],L);\n",
    "                y[i]=periodic(Y[i],L);\n",
    "\n",
    "    #reaction_kernel\n",
    "    for i in range(N):\n",
    "        if(still_running[i]):\n",
    "            # // each i,j pair is reached once per call to kernel_measure\n",
    "            for j in range(i+1,N-1):\n",
    "                if(still_running[j]):\n",
    "                    # // compute distance between particles that are still running\n",
    "                    dist=dist_pbc(x[i],y[i],x[j],y[j],L);\n",
    "                    in_range=dist<r;\n",
    "                    # // in_range=true;//uncomment for smeared method\n",
    "                    # // if two particles are in range\n",
    "                    if(in_range):\n",
    "                        # // determine whether those two particles react via the simple method\n",
    "                        reacts=probreact>uniformRandom();\n",
    "                        # // determine whether those two particles react via the smeared method\n",
    "                        # // sig=sigmoid(dist, r, beta);\n",
    "                        # // reacts=probreact*sig>uniformRandom();\n",
    "                        if(reacts):\n",
    "                            T=t;\n",
    "                            still_running[i]=False;\n",
    "                            still_running[j]=False;\n",
    "                            exit_code=1;\n",
    "             \n",
    "    if step%save_every==0:\n",
    "        x_plot=x_new[still_running]\n",
    "        y_plot=y_new[still_running]\n",
    "        #save result as png\n",
    "        SaveScatterPlotSnapshot(x_plot,y_plot,t,width=L,height=L,\n",
    "                        frameno=frameno,save_folder=save_folder,\n",
    "                        annotating=annotating,message=message)\n",
    "        frameno+=1\n",
    "        \n",
    "    \n",
    "\n",
    "    #shut simulation down if it's taking too long...\n",
    "    if (t>tmax):\n",
    "        for i in range(N):\n",
    "            still_running[i]=False;\n",
    "            exit_code=-99;\n",
    "    \n",
    "    step+=1\n",
    "    #end while running\n",
    "    \n",
    "#record this trial\n",
    "if (exit_code>0):\n",
    "    if (T>0.):\n",
    "        T_net=T_net+T;\n",
    "        count_net=count_net+1;\n",
    "    \n",
    "print(f\"simulation complete!\")"
   ]
  },
  {
   "cell_type": "code",
   "execution_count": 11,
   "metadata": {
    "ExecuteTime": {
     "end_time": "2021-06-09T01:05:42.022024Z",
     "start_time": "2021-06-09T01:05:42.017502Z"
    }
   },
   "outputs": [],
   "source": [
    "#loop over particles\n",
    "#step each particle \n",
    "#njit the whole function"
   ]
  },
  {
   "cell_type": "code",
   "execution_count": 12,
   "metadata": {
    "ExecuteTime": {
     "end_time": "2021-06-09T01:05:42.035982Z",
     "start_time": "2021-06-09T01:05:42.027158Z"
    }
   },
   "outputs": [
    {
     "data": {
      "text/plain": [
       "array([False, False, False, False, False, False, False, False, False,\n",
       "       False, False, False, False, False, False, False])"
      ]
     },
     "execution_count": 12,
     "metadata": {},
     "output_type": "execute_result"
    }
   ],
   "source": [
    "still_running"
   ]
  },
  {
   "cell_type": "code",
   "execution_count": 13,
   "metadata": {
    "ExecuteTime": {
     "end_time": "2021-06-09T01:06:13.945050Z",
     "start_time": "2021-06-09T01:05:42.038717Z"
    }
   },
   "outputs": [],
   "source": [
    "#concatenate the folder of .png files\n",
    "os.chdir(f'{nb_dir}/../vid/src')\n",
    "os.system(f'./concat_folder_png.sh');"
   ]
  },
  {
   "cell_type": "code",
   "execution_count": 14,
   "metadata": {
    "ExecuteTime": {
     "end_time": "2021-06-09T01:06:14.165141Z",
     "start_time": "2021-06-09T01:06:13.948254Z"
    }
   },
   "outputs": [
    {
     "data": {
      "text/plain": [
       "0"
      ]
     },
     "execution_count": 14,
     "metadata": {},
     "output_type": "execute_result"
    }
   ],
   "source": [
    "beep(1)"
   ]
  }
 ],
 "metadata": {
  "kernelspec": {
   "display_name": "Python 3",
   "language": "python",
   "name": "python3"
  },
  "language_info": {
   "codemirror_mode": {
    "name": "ipython",
    "version": 3
   },
   "file_extension": ".py",
   "mimetype": "text/x-python",
   "name": "python",
   "nbconvert_exporter": "python",
   "pygments_lexer": "ipython3",
   "version": "3.8.7"
  },
  "varInspector": {
   "cols": {
    "lenName": 16,
    "lenType": 16,
    "lenVar": 40
   },
   "kernels_config": {
    "python": {
     "delete_cmd_postfix": "",
     "delete_cmd_prefix": "del ",
     "library": "var_list.py",
     "varRefreshCmd": "print(var_dic_list())"
    },
    "r": {
     "delete_cmd_postfix": ") ",
     "delete_cmd_prefix": "rm(",
     "library": "var_list.r",
     "varRefreshCmd": "cat(var_dic_list()) "
    }
   },
   "types_to_exclude": [
    "module",
    "function",
    "builtin_function_or_method",
    "instance",
    "_Feature"
   ],
   "window_display": false
  }
 },
 "nbformat": 4,
 "nbformat_minor": 4
}
