{
 "cells": [
  {
   "cell_type": "markdown",
   "metadata": {},
   "source": [
    "# animating a single particle trial\n",
    "Tim Tyree<br>\n",
    "6.8.2021"
   ]
  },
  {
   "cell_type": "code",
   "execution_count": 1,
   "metadata": {
    "ExecuteTime": {
     "end_time": "2021-07-02T00:50:34.600418Z",
     "start_time": "2021-07-02T00:50:30.266172Z"
    }
   },
   "outputs": [],
   "source": [
    "from lib.my_initialization import *\n",
    "from lib.utils.pbc import *\n",
    "import shutil"
   ]
  },
  {
   "cell_type": "code",
   "execution_count": 2,
   "metadata": {
    "ExecuteTime": {
     "end_time": "2021-07-02T00:50:35.430551Z",
     "start_time": "2021-07-02T00:50:34.606420Z"
    }
   },
   "outputs": [],
   "source": [
    "from numpy.random import MT19937\n",
    "from numpy.random import RandomState, SeedSequence\n",
    "# seed=123456789#for original movie suite\n",
    "seed=12345678987654321\n",
    "#random number stream A\n",
    "rs = RandomState(MT19937(SeedSequence(seed)))\n",
    "#random number stream B\n",
    "# rs = RandomState(MT19937(SeedSequence(987654321)))\n",
    "\n",
    "#get distance metric\n",
    "distance_L2_pbc=get_distance_L2_pbc(width=1,height=1)\n",
    "np.random.seed(123456789)"
   ]
  },
  {
   "cell_type": "code",
   "execution_count": 3,
   "metadata": {
    "ExecuteTime": {
     "end_time": "2021-07-02T00:50:35.441987Z",
     "start_time": "2021-07-02T00:50:35.433686Z"
    }
   },
   "outputs": [],
   "source": [
    "#Scrum 6.8.2021\n",
    "#DONE: plot all particle positions with this ic.  \n",
    "#DONE: translate monte carlo into python\n",
    "#DONE: make a movie for simplest case up to time tmax=1\n",
    "#DONE: repeat with each attractive force between all particles \n",
    "#DONE: repeat with explicitely uniform ic.\n",
    "#DONE: repeat with each attractive force between all particles\n",
    "\n",
    "#Scrum 7.1.2021\n",
    "#TODO: add force_code for small, constant repulsive force plus inverse powerlaw attractive force\n",
    "#TODO: add option to generate tip log using particle model with 1/r force \n",
    "#TODO: copy estimates for force between particles\n",
    "#TODO: generate particle tip log for FK model. save as .csv\n",
    "#TODO: generate particle tip log for LR model. save as .csv"
   ]
  },
  {
   "cell_type": "code",
   "execution_count": 4,
   "metadata": {
    "ExecuteTime": {
     "end_time": "2021-07-02T00:50:35.461270Z",
     "start_time": "2021-07-02T00:50:35.448791Z"
    }
   },
   "outputs": [],
   "source": [
    "N=16\n",
    "L=10\n",
    "x_values=rs.uniform(size=N)*L\n",
    "y_values=rs.uniform(size=N)*L\n",
    "t=0"
   ]
  },
  {
   "cell_type": "code",
   "execution_count": 5,
   "metadata": {
    "ExecuteTime": {
     "end_time": "2021-07-02T00:50:35.472255Z",
     "start_time": "2021-07-02T00:50:35.467048Z"
    }
   },
   "outputs": [],
   "source": [
    "# #explicitely uniform ic.\n",
    "# uvals=np.linspace(0,L*4/5,4)\n",
    "# x_values,y_values=np.meshgrid(uvals,uvals)\n",
    "# x_values=x_values.flatten()+L/10\n",
    "# y_values=y_values.flatten()+L/10\n",
    "# #TODO: explicitely enter ^these values in my c simulation and run it"
   ]
  },
  {
   "cell_type": "code",
   "execution_count": 6,
   "metadata": {
    "ExecuteTime": {
     "end_time": "2021-07-02T00:50:35.658615Z",
     "start_time": "2021-07-02T00:50:35.480001Z"
    }
   },
   "outputs": [
    {
     "data": {
      "image/png": "[encoded data removed]",
      "text/plain": [
       "<Figure size 432x432 with 1 Axes>"
      ]
     },
     "metadata": {
      "needs_background": "light"
     },
     "output_type": "display_data"
    }
   ],
   "source": [
    "#return a scatter plot that may be saved as png\n",
    "annotating=True\n",
    "message='initial positions'\n",
    "fig=ScatterPlotSnapshot(x_values,y_values,t,width=L,height=L,\n",
    "                        annotating=annotating,message=message,inch=6)\n",
    "plt.show()"
   ]
  },
  {
   "cell_type": "code",
   "execution_count": 7,
   "metadata": {
    "ExecuteTime": {
     "end_time": "2021-07-02T00:50:35.677647Z",
     "start_time": "2021-07-02T00:50:35.673552Z"
    }
   },
   "outputs": [],
   "source": [
    "#DONE: dev function that returns a list of x coordinates and a list of y coordinates\n",
    "#DONE: make a dict_out"
   ]
  },
  {
   "cell_type": "code",
   "execution_count": 8,
   "metadata": {
    "ExecuteTime": {
     "end_time": "2021-07-02T00:50:35.701289Z",
     "start_time": "2021-07-02T00:50:35.695003Z"
    }
   },
   "outputs": [],
   "source": [
    "# @njit\n",
    "def format_particles(frameno,t,x_values,y_values,round_t_to_n_decimals=5):\n",
    "    n_tips = x_values.shape[0]\n",
    "    dict_out = {\n",
    "        'frame':frameno,\n",
    "        't': np.around(t,round_t_to_n_decimals),\n",
    "        'n': n_tips,\n",
    "        'x': x_values,\n",
    "        'y': y_values}\n",
    "    return dict_out"
   ]
  },
  {
   "cell_type": "code",
   "execution_count": null,
   "metadata": {
    "ExecuteTime": {
     "end_time": "2021-07-02T00:05:43.868659Z",
     "start_time": "2021-07-02T00:05:43.856898Z"
    }
   },
   "outputs": [],
   "source": []
  },
  {
   "cell_type": "code",
   "execution_count": 9,
   "metadata": {
    "ExecuteTime": {
     "end_time": "2021-07-02T00:50:35.792748Z",
     "start_time": "2021-07-02T00:50:35.707265Z"
    }
   },
   "outputs": [],
   "source": [
    "save_folder=f\"{nb_dir}/Figures/mov\"\n",
    "if os.path.exists(save_folder):\n",
    "    shutil.rmtree(save_folder)\n",
    "    \n",
    "os.mkdir(save_folder)\n",
    "    \n",
    "frameno=1\n",
    "save_fn=None\n",
    "inch=6\n",
    "annotating=True\n",
    "\n",
    "# # message='without forces'\n",
    "# # force_code=0\n",
    "# # varkappa=0\n",
    "# message='with anti-spring forces'\n",
    "# force_code=1\n",
    "# varkappa=-5\n",
    "message='with inverse powerlaw forces'\n",
    "force_code=2\n",
    "varkappa=5"
   ]
  },
  {
   "cell_type": "code",
   "execution_count": 10,
   "metadata": {
    "ExecuteTime": {
     "end_time": "2021-07-02T00:50:36.132033Z",
     "start_time": "2021-07-02T00:50:35.805406Z"
    }
   },
   "outputs": [
    {
     "data": {
      "text/plain": [
       "(-1.3888567310809736, 0.8080236980144163)"
      ]
     },
     "execution_count": 10,
     "metadata": {},
     "output_type": "execute_result"
    }
   ],
   "source": [
    "from numba import jit,njit\n",
    "@njit\n",
    "def normalRandom():\n",
    "    return np.random.normal()\n",
    "\n",
    "@njit\n",
    "def uniformRandom():\n",
    "    return np.random.uniform(0,1)\n",
    "normalRandom(),uniformRandom()"
   ]
  },
  {
   "cell_type": "code",
   "execution_count": null,
   "metadata": {
    "ExecuteTime": {
     "start_time": "2021-07-02T00:50:29.855Z"
    }
   },
   "outputs": [
    {
     "name": "stdout",
     "output_type": "stream",
     "text": [
      "running simulation...\n"
     ]
    }
   ],
   "source": [
    "#define model parameters\n",
    "r=0.1\n",
    "D=2\n",
    "L=10\n",
    "kappa=1500\n",
    "# Dt=1e-5;dt=1e-5;tmax=500 #UNCOMMENT_HERE\n",
    "Dt=1e-5;dt=1e-5;tmax=30 #COMMENT_HERE\n",
    "\n",
    "#for forces\n",
    "x0=5\n",
    "no_repulsion=1\n",
    "no_attraction=0\n",
    "seed=123456789\n",
    "#skipping reflect,set_second, and neighbor functionality\n",
    "\n",
    "#define constants\n",
    "stepscale=np.sqrt(2*D*Dt)\n",
    "probreact=kappa*dt\n",
    "T_net=0;count_net=0\n",
    "np.random.seed(seed)\n",
    "dist_cutoff=1e-2\n",
    "iter_per_movestep = round(Dt/dt)\n",
    "impulse_prefactor= varkappa * Dt\n",
    "save_every=250#100\n",
    "step=0\n",
    "recording_locations=True\n",
    "\n",
    "print(\"running simulation...\");\n",
    "Time=0;t=0\n",
    "still_running=True;exit_code=-1;T=-9999.\n",
    "#initialize positions\n",
    "# #uniform random ic\n",
    "# x_values=rs.uniform(size=N)*L\n",
    "# y_values=rs.uniform(size=N)*L\n",
    "# #explicitely uniform ic\n",
    "# uvals=np.linspace(0,L,5)\n",
    "# x_values,y_values=np.meshgrid(uvals,uvals)\n",
    "# x_values=x_values.flatten()\n",
    "# y_values=y_values.flatten()\n",
    "\n",
    "#lower case: world coordinates\n",
    "#upper case: material coordinates\n",
    "x=x_values.copy()\n",
    "y=y_values.copy()\n",
    "x_old=x_values.copy()\n",
    "y_old=y_values.copy()\n",
    "x_new=x_values.copy()\n",
    "y_new=y_values.copy()\n",
    "X=x_values.copy()\n",
    "Y=y_values.copy()\n",
    "X_old=x_values.copy()\n",
    "Y_old=y_values.copy()\n",
    "X_new=x_values.copy()\n",
    "Y_new=y_values.copy()\n",
    "zeros=np.zeros_like(x_values)\n",
    "zerosint=np.zeros_like(x_values).astype('int')\n",
    "still_running=zerosint==zerosint\n",
    "# //start set_second kernel\n",
    "# //end set_second kernel\n",
    "#TODO: make still_running into still_running_values\n",
    "dict_out_lst=[]\n",
    "while(still_running.any()):\n",
    "    # //reinitialize_kernel, which copies X,Y_new to X,Y_old\n",
    "    min_dist_old=zeros+9999999\n",
    "    i_neighbor=zerosint-1\n",
    "    X_old=X_new\n",
    "    Y_old=Y_new\n",
    "    # //enforce boundary conditions\n",
    "    for i in range(N):\n",
    "        x_old[i]=periodic(X_old[i],L);\n",
    "        y_old[i]=periodic(Y_old[i],L);\n",
    "    \n",
    "    t=Time-dt;#//for an insignificant edge case\n",
    "    Time=Time+Dt;\n",
    "    \n",
    "    # reset the net forces\n",
    "    Fx_net=zeros.copy()\n",
    "    Fy_net=zeros.copy()\n",
    "    \n",
    "    #sum_each_force_kernel\n",
    "    for i in range(N):\n",
    "        if(still_running[i]):\n",
    "            for j in range(i+1,N-1):\n",
    "                if(still_running[j]):\n",
    "                    #compute displacement vector with pbc\n",
    "                    dx = subtract_pbc_1d(x_old[j],x_old[i],L);\n",
    "                    dy = subtract_pbc_1d(y_old[j],y_old[i],L);\n",
    "\n",
    "                    dist2=dx*dx+dy*dy;\n",
    "                    if (dist2<1e-8):\n",
    "                        dist2=float(1e-8)\n",
    "                    dist = np.sqrt(dist2)\n",
    "\n",
    "                    #compute displacement due to drift\n",
    "                    impulse_factor=0.\n",
    "                    if (force_code==1):\n",
    "                      #spring\n",
    "                      impulse_factor=impulse_prefactor*(dist-x0)/dist;\n",
    "                    if (force_code==2):\n",
    "                      #QED2: force ~ inverse power law\n",
    "                      impulse_factor=impulse_prefactor/dist2;\n",
    "                    if (force_code==3):\n",
    "                      #QED3: force ~ inverse square power law\n",
    "                      impulse_factor=impulse_prefactor/dist2/dist;\n",
    "\n",
    "                    #set impulse_factor to zero if it is explicitly forbidden by the user input\n",
    "                    if ((no_attraction==1) & (impulse_factor>0)):\n",
    "                        impulse_factor=0.\n",
    "                    if ((no_repulsion==1) & (impulse_factor<0)):\n",
    "                        impulse_factor=0.\n",
    "\n",
    "                    #sum Fx_net, Fy_net according to a symplectic (momentum conserving) integrator\n",
    "                    Fx_net[i]=Fx_net[i]+dx*impulse_factor;\n",
    "                    Fy_net[i]=Fy_net[i]+dy*impulse_factor;\n",
    "                    Fx_net[j]=Fx_net[j]-dx*impulse_factor;\n",
    "                    Fy_net[j]=Fy_net[j]-dy*impulse_factor\n",
    "\n",
    "    #compute the one_step given the net force, F_net        \n",
    "    for i in range(N):\n",
    "        if(still_running[i]):\n",
    "            dxt=Fx_net[i];\n",
    "            dyt=Fy_net[i];\n",
    "            # compute displacement due to gaussian white noise\n",
    "            dxW=stepscale*normalRandom();\n",
    "            dyW=stepscale*normalRandom();\n",
    "            # next spatial position, time integrating by a duration, Dt.\n",
    "            X_new[i]=X_old[i]+dxW+dxt;\n",
    "            Y_new[i]=Y_old[i]+dyW+dyt;\n",
    "            # enforce PBC\n",
    "            x_new[i]=periodic(X_new[i],L);\n",
    "            y_new[i]=periodic(Y_new[i],L);        \n",
    "\n",
    "            \n",
    "    #interpolation_kernel at short timescale, dt   \n",
    "    for s in range(iter_per_movestep):\n",
    "        # compute local time\n",
    "        t=t+dt;\n",
    "        frac=(Time-t)/Dt;\n",
    "        cfrac=1.-frac;\n",
    "        # kernel_interpolate, which enforces b.c.'s\n",
    "        for i in range(N):\n",
    "            if(still_running[i]):\n",
    "                # linear interpolation\n",
    "                X[i]=frac*X_old[i]+cfrac*X_new[i];\n",
    "                Y[i]=frac*Y_old[i]+cfrac*Y_new[i];\n",
    "                # impose boundary conditions\n",
    "                # enforce PBC\n",
    "                x[i]=periodic(X[i],L);\n",
    "                y[i]=periodic(Y[i],L);\n",
    "\n",
    "    #reaction_kernel\n",
    "    for i in range(N):\n",
    "        if(still_running[i]):\n",
    "            # // each i,j pair is reached once per call to kernel_measure\n",
    "            for j in range(i+1,N-1):\n",
    "                if(still_running[j]):\n",
    "                    # // compute distance between particles that are still running\n",
    "                    dist=dist_pbc(x[i],y[i],x[j],y[j],L);\n",
    "                    in_range=dist<r;\n",
    "                    # // in_range=true;//uncomment for smeared method\n",
    "                    # // if two particles are in range\n",
    "                    if(in_range):\n",
    "                        # // determine whether those two particles react via the simple method\n",
    "                        reacts=probreact>uniformRandom();\n",
    "                        # // determine whether those two particles react via the smeared method\n",
    "                        # // sig=sigmoid(dist, r, beta);\n",
    "                        # // reacts=probreact*sig>uniformRandom();\n",
    "                        if(reacts):\n",
    "                            T=t;\n",
    "                            still_running[i]=False;\n",
    "                            still_running[j]=False;\n",
    "                            exit_code=1;\n",
    "             \n",
    "    if step%save_every==0:\n",
    "        x_plot=x_new[still_running]\n",
    "        y_plot=y_new[still_running]\n",
    "        #save result as png\n",
    "        SaveScatterPlotSnapshot(x_plot,y_plot,t,width=L,height=L,\n",
    "                        frameno=frameno,save_folder=save_folder,\n",
    "                        annotating=annotating,message=message)\n",
    "        #append particle locations to log, dict_out_lst\n",
    "        if (recording_locations)&(x_plot.shape[0]>0):\n",
    "            dict_out=format_particles(frameno,t,x_plot,y_plot)\n",
    "            dict_out_lst.append(dict_out)\n",
    "    \n",
    "        frameno+=1\n",
    "\n",
    "    #shut simulation down if it's taking too long...\n",
    "    if (t>tmax):\n",
    "        for i in range(N):\n",
    "            still_running[i]=False;\n",
    "            exit_code=-99;\n",
    "    \n",
    "    step+=1\n",
    "    #end while running\n",
    "    \n",
    "#record this trial\n",
    "if (exit_code>0):\n",
    "    if (T>0.):\n",
    "        T_net=T_net+T;\n",
    "        count_net=count_net+1;\n",
    "    \n",
    "print(f\"simulation complete!\")"
   ]
  },
  {
   "cell_type": "code",
   "execution_count": null,
   "metadata": {
    "ExecuteTime": {
     "start_time": "2021-07-02T00:50:29.858Z"
    }
   },
   "outputs": [],
   "source": [
    "#TODO: njit the whole function"
   ]
  },
  {
   "cell_type": "code",
   "execution_count": null,
   "metadata": {
    "ExecuteTime": {
     "start_time": "2021-07-02T00:50:29.861Z"
    }
   },
   "outputs": [],
   "source": [
    "#save particle locations as csv\n",
    "saving=True\n",
    "printing=True\n",
    "data_folder=f\"{nb_dir}/data/local_results/Log\"\n",
    "data_fn=f\"logpbc_seed_{seed}_fc_{force_code}_r_{r}_D_{D}_L_{L}_kappa_{kappa}.csv\"\n",
    "if saving:\n",
    "    df = pd.concat([pd.DataFrame(dict_out) for dict_out in dict_out_lst])\n",
    "    df.reset_index(inplace=True, drop=True)\n",
    "    #save the recorded data\n",
    "    os.chdir(data_folder)\n",
    "    df.to_csv(data_fn, index=False)\n",
    "    if printing:\n",
    "        print('saved to:')\n",
    "        print(os.path.abspath(data_fn))\n",
    "    #     #if the end of AF was indeed reachded, append a row recording this\n",
    "    #     if n_tips==0:\n",
    "    #         next_id = df.index.values[-1]+1\n",
    "    #         df = pd.concat([df,pd.DataFrame({'t': float(save_every_n_frames*h+t),'n': int(n_tips)}, index = [next_id])])\n",
    "    #save the recorded data\n",
    "#     #     df.round(round_output_decimals).to_csv(data_dir_log, index=False)\n",
    "#     if printing:\n",
    "#         print('saved to:')\n",
    "#         print(data_dir_log)"
   ]
  },
  {
   "cell_type": "code",
   "execution_count": null,
   "metadata": {
    "ExecuteTime": {
     "start_time": "2021-07-02T00:50:29.866Z"
    }
   },
   "outputs": [],
   "source": [
    "#TODO: wrap all this into a functional routine\n",
    "#TODO: generate a folder of tip logs with fixed parameters and variable seed\n",
    "#TODO(option 1): copy ^these logs to care.  compute trajectories.\n",
    "#TODO(option 2): copy method to compute trajectories from care\n",
    "#TODO: compute mean dRdt versus R in the last few milliseconds before annihilation. plot.\n",
    "#TODO: p\n",
    "#TODO(option 2): \n",
    "print(os.path.abspath(data_fn))"
   ]
  },
  {
   "cell_type": "code",
   "execution_count": null,
   "metadata": {
    "ExecuteTime": {
     "start_time": "2021-07-02T00:50:29.870Z"
    }
   },
   "outputs": [],
   "source": [
    "#concatenate the folder of .png files\n",
    "os.chdir(f'{nb_dir}/../vid/src')\n",
    "os.system(f'./concat_folder_png.sh');"
   ]
  },
  {
   "cell_type": "code",
   "execution_count": null,
   "metadata": {
    "ExecuteTime": {
     "start_time": "2021-07-02T00:50:29.873Z"
    }
   },
   "outputs": [],
   "source": [
    "beep(7)"
   ]
  }
 ],
 "metadata": {
  "kernelspec": {
   "display_name": "Python 3",
   "language": "python",
   "name": "python3"
  },
  "language_info": {
   "codemirror_mode": {
    "name": "ipython",
    "version": 3
   },
   "file_extension": ".py",
   "mimetype": "text/x-python",
   "name": "python",
   "nbconvert_exporter": "python",
   "pygments_lexer": "ipython3",
   "version": "3.8.7"
  },
  "varInspector": {
   "cols": {
    "lenName": 16,
    "lenType": 16,
    "lenVar": 40
   },
   "kernels_config": {
    "python": {
     "delete_cmd_postfix": "",
     "delete_cmd_prefix": "del ",
     "library": "var_list.py",
     "varRefreshCmd": "print(var_dic_list())"
    },
    "r": {
     "delete_cmd_postfix": ") ",
     "delete_cmd_prefix": "rm(",
     "library": "var_list.r",
     "varRefreshCmd": "cat(var_dic_list()) "
    }
   },
   "types_to_exclude": [
    "module",
    "function",
    "builtin_function_or_method",
    "instance",
    "_Feature"
   ],
   "window_display": false
  }
 },
 "nbformat": 4,
 "nbformat_minor": 4
}
