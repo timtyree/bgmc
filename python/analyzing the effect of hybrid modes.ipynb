{
 "cells": [
  {
   "cell_type": "markdown",
   "metadata": {},
   "source": [
    "# analyzing the effect of hybrid modes\n",
    "Tim Tyree<br>\n",
    "5.5.2021"
   ]
  },
  {
   "cell_type": "code",
   "execution_count": 1,
   "metadata": {
    "ExecuteTime": {
     "end_time": "2021-05-05T17:14:42.747863Z",
     "start_time": "2021-05-05T17:14:42.181287Z"
    }
   },
   "outputs": [],
   "source": [
    "from lib.my_initialization import *\n",
    "import random,scipy\n",
    "from lib.measure.compute_slope import *\n",
    "from lib.measure.compute_sliding_slope import *\n",
    "from lib.measure.powerlaw import *\n",
    "%load_ext autoreload\n",
    "%autoreload 2\n",
    "\n",
    "from scipy import stats\n",
    "alpha=0.1"
   ]
  },
  {
   "cell_type": "code",
   "execution_count": null,
   "metadata": {
    "ExecuteTime": {
     "end_time": "2021-05-05T17:14:42.873894Z",
     "start_time": "2021-05-05T17:14:42.775474Z"
    }
   },
   "outputs": [],
   "source": []
  },
  {
   "cell_type": "markdown",
   "metadata": {},
   "source": [
    "# visualize the effect of fast diffusion versus slow diffusion for one pair of trials"
   ]
  },
  {
   "cell_type": "code",
   "execution_count": 45,
   "metadata": {
    "ExecuteTime": {
     "end_time": "2021-05-05T17:52:46.388021Z",
     "start_time": "2021-05-05T17:52:46.374722Z"
    }
   },
   "outputs": [
    {
     "data": {
      "text/plain": [
       "232301862"
      ]
     },
     "execution_count": 45,
     "metadata": {},
     "output_type": "execute_result"
    }
   ],
   "source": []
  },
  {
   "cell_type": "code",
   "execution_count": 3,
   "metadata": {
    "ExecuteTime": {
     "end_time": "2021-05-05T17:17:57.573107Z",
     "start_time": "2021-05-05T17:17:48.976906Z"
    }
   },
   "outputs": [
    {
     "data": {
      "text/html": [
       "<div>\n",
       "<style scoped>\n",
       "    .dataframe tbody tr th:only-of-type {\n",
       "        vertical-align: middle;\n",
       "    }\n",
       "\n",
       "    .dataframe tbody tr th {\n",
       "        vertical-align: top;\n",
       "    }\n",
       "\n",
       "    .dataframe thead th {\n",
       "        text-align: right;\n",
       "    }\n",
       "</style>\n",
       "<table border=\"1\" class=\"dataframe\">\n",
       "  <thead>\n",
       "    <tr style=\"text-align: right;\">\n",
       "      <th></th>\n",
       "      <th>temperature_energy</th>\n",
       "      <th>set_second</th>\n",
       "      <th>reflect</th>\n",
       "      <th>r</th>\n",
       "      <th>niter</th>\n",
       "      <th>kappa</th>\n",
       "      <th>energy_gap</th>\n",
       "      <th>dt</th>\n",
       "      <th>N</th>\n",
       "      <th>L</th>\n",
       "      <th>Dt</th>\n",
       "      <th>Dratio</th>\n",
       "      <th>D</th>\n",
       "      <th>CollRate</th>\n",
       "    </tr>\n",
       "  </thead>\n",
       "  <tbody>\n",
       "    <tr>\n",
       "      <th>0</th>\n",
       "      <td>1</td>\n",
       "      <td>0</td>\n",
       "      <td>0</td>\n",
       "      <td>0.1</td>\n",
       "      <td>250</td>\n",
       "      <td>216.756</td>\n",
       "      <td>-10.0</td>\n",
       "      <td>1.000000e-07</td>\n",
       "      <td>12</td>\n",
       "      <td>4.5</td>\n",
       "      <td>1.000000e-07</td>\n",
       "      <td>1</td>\n",
       "      <td>0.2</td>\n",
       "      <td>4.661781</td>\n",
       "    </tr>\n",
       "    <tr>\n",
       "      <th>1</th>\n",
       "      <td>1</td>\n",
       "      <td>0</td>\n",
       "      <td>0</td>\n",
       "      <td>0.1</td>\n",
       "      <td>250</td>\n",
       "      <td>216.756</td>\n",
       "      <td>-10.0</td>\n",
       "      <td>1.000000e-07</td>\n",
       "      <td>12</td>\n",
       "      <td>4.5</td>\n",
       "      <td>1.000000e-07</td>\n",
       "      <td>1</td>\n",
       "      <td>1.0</td>\n",
       "      <td>11.092322</td>\n",
       "    </tr>\n",
       "    <tr>\n",
       "      <th>2</th>\n",
       "      <td>1</td>\n",
       "      <td>0</td>\n",
       "      <td>0</td>\n",
       "      <td>0.1</td>\n",
       "      <td>250</td>\n",
       "      <td>216.756</td>\n",
       "      <td>-10.0</td>\n",
       "      <td>1.000000e-07</td>\n",
       "      <td>12</td>\n",
       "      <td>4.5</td>\n",
       "      <td>1.000000e-07</td>\n",
       "      <td>1</td>\n",
       "      <td>1.5</td>\n",
       "      <td>14.650011</td>\n",
       "    </tr>\n",
       "    <tr>\n",
       "      <th>3</th>\n",
       "      <td>1</td>\n",
       "      <td>0</td>\n",
       "      <td>0</td>\n",
       "      <td>0.1</td>\n",
       "      <td>250</td>\n",
       "      <td>216.756</td>\n",
       "      <td>-10.0</td>\n",
       "      <td>1.000000e-07</td>\n",
       "      <td>12</td>\n",
       "      <td>4.5</td>\n",
       "      <td>1.000000e-07</td>\n",
       "      <td>1</td>\n",
       "      <td>2.0</td>\n",
       "      <td>14.729000</td>\n",
       "    </tr>\n",
       "    <tr>\n",
       "      <th>4</th>\n",
       "      <td>1</td>\n",
       "      <td>0</td>\n",
       "      <td>0</td>\n",
       "      <td>0.1</td>\n",
       "      <td>250</td>\n",
       "      <td>216.756</td>\n",
       "      <td>-10.0</td>\n",
       "      <td>1.000000e-07</td>\n",
       "      <td>12</td>\n",
       "      <td>4.5</td>\n",
       "      <td>1.000000e-07</td>\n",
       "      <td>1</td>\n",
       "      <td>5.0</td>\n",
       "      <td>17.727977</td>\n",
       "    </tr>\n",
       "  </tbody>\n",
       "</table>\n",
       "</div>"
      ],
      "text/plain": [
       "   temperature_energy  set_second  reflect    r  niter    kappa  energy_gap  \\\n",
       "0                   1           0        0  0.1    250  216.756       -10.0   \n",
       "1                   1           0        0  0.1    250  216.756       -10.0   \n",
       "2                   1           0        0  0.1    250  216.756       -10.0   \n",
       "3                   1           0        0  0.1    250  216.756       -10.0   \n",
       "4                   1           0        0  0.1    250  216.756       -10.0   \n",
       "\n",
       "             dt   N    L            Dt  Dratio    D   CollRate  \n",
       "0  1.000000e-07  12  4.5  1.000000e-07       1  0.2   4.661781  \n",
       "1  1.000000e-07  12  4.5  1.000000e-07       1  1.0  11.092322  \n",
       "2  1.000000e-07  12  4.5  1.000000e-07       1  1.5  14.650011  \n",
       "3  1.000000e-07  12  4.5  1.000000e-07       1  2.0  14.729000  \n",
       "4  1.000000e-07  12  4.5  1.000000e-07       1  5.0  17.727977  "
      ]
     },
     "execution_count": 3,
     "metadata": {},
     "output_type": "execute_result"
    }
   ],
   "source": [
    "data_dir=\"/home/timothytyree/Documents/GitHub/bgmc/python/data/osg_output/run_7_all.csv\"\n",
    "# data_dir=\"/home/timothytyree/Documents/GitHub/bgmc/python/data/local_results/lrun_1_to_2.csv\"\n",
    "df=pd.read_csv(data_dir)\n",
    "df.head()"
   ]
  },
  {
   "cell_type": "code",
   "execution_count": 46,
   "metadata": {
    "ExecuteTime": {
     "end_time": "2021-05-05T17:53:23.929103Z",
     "start_time": "2021-05-05T17:53:11.863013Z"
    }
   },
   "outputs": [],
   "source": [
    "#derived values\n",
    "df['Dt_over_dt']=df.Dt/df.dt\n",
    "# df['CollRate']=1./df['CollTime']\n",
    "df['A']=df['L']**2\n",
    "df['q']=df['N']/df['A'] #number of tips per square centimeter\n",
    "df['w']=df['CollRate']/df['A'] #[mHz?]/cm^2\n",
    "\n",
    "df=df[df.niter==250].copy()\n",
    "#extract column values\n",
    "r_values=np.array(sorted(set(df.r.values)))#cm\n",
    "D_values=np.array(sorted(set(df.D.values)))#cm^2/s\n",
    "L_values=np.array(sorted(set(df.L.values)))#cm\n",
    "A_values=L_values**2#cm^2\n",
    "kappa_values=np.array(sorted(set(df.kappa.values)))#1/s\n",
    "Dt_over_dt_values=np.array(sorted(set(df.Dt_over_dt.values)))#1/s\n",
    "Dratio_values=np.array(sorted(set(df.Dratio.values)))\n",
    "energy_gap_values=np.array(sorted(set(df.energy_gap.values)))\n",
    "temperature_energy_values=np.array(sorted(set(df.temperature_energy.values)))"
   ]
  },
  {
   "cell_type": "code",
   "execution_count": 6,
   "metadata": {
    "ExecuteTime": {
     "end_time": "2021-05-05T17:19:25.868393Z",
     "start_time": "2021-05-05T17:19:25.855064Z"
    }
   },
   "outputs": [
    {
     "name": "stdout",
     "output_type": "stream",
     "text": [
      "[ 0.1  0.5  1.   1.5  2.   2.5  5.  10. ]\n",
      "[ 0.2  1.   1.5  2.   5.  10.  20. ]\n",
      "[ 4.5      5.       7.07107 10.      12.5     15.8114 ]\n",
      "[1.]\n",
      "[   1   10  100 1000]\n",
      "[1]\n",
      "[-10.   -1.    0.    0.5   1.    2.   10. ]\n"
     ]
    }
   ],
   "source": [
    "#make test for whether there is one input parameter present in an input DataFrame1\n",
    "print(r_values)\n",
    "print(D_values)\n",
    "print(L_values)\n",
    "print(Dt_over_dt_values)\n",
    "print(Dratio_values)\n",
    "print(temperature_energy_values)\n",
    "# print(kappa_values)\n",
    "print(energy_gap_values)"
   ]
  },
  {
   "cell_type": "code",
   "execution_count": 17,
   "metadata": {
    "ExecuteTime": {
     "end_time": "2021-05-05T17:43:31.309449Z",
     "start_time": "2021-05-05T17:43:31.224016Z"
    }
   },
   "outputs": [],
   "source": [
    "#query the DataFrame\n",
    "query =(df.temperature_energy==temperature_energy_values[0])&(df.Dt_over_dt==Dt_over_dt_values[0])\n",
    "query&=df.r==r_values[1]\n",
    "query&=df.D==D_values[3]\n",
    "query&=df.Dratio==Dratio_values[3]\n",
    "query&=df.energy_gap==energy_gap_values[2]\n",
    "dff=df[query]\n",
    "kappa_values=np.array(sorted(set(dff.kappa.values)))\n",
    "dg=dff[dff.kappa==kappa_values[-1]]#Luo-Rudy fit\n",
    "# dg=dff.kappa==kappa_values[0]#Fenton-Karma fit"
   ]
  },
  {
   "cell_type": "code",
   "execution_count": 18,
   "metadata": {
    "ExecuteTime": {
     "end_time": "2021-05-05T17:43:31.976499Z",
     "start_time": "2021-05-05T17:43:31.966181Z"
    }
   },
   "outputs": [],
   "source": [
    "# import numpy as np\n",
    "# niter=250#250 #trials per worker\n",
    "# r=0.2#cm\n",
    "# D=5.#cm^2/s\n",
    "# A=20.25#cm^2\n",
    "# # A_values=np.array([20.25,25,39,50,56.25,100,156.25,189,250])[::-1]#cm^2\n",
    "# L_values=np.sqrt(A_values)#cm\n",
    "# # kappa_values=np.array([5,10,15,20,25,30,35,40,45,50,55,60,65,70,75,80,85,90,95,100,250,500])#1/s\n",
    "# # beta_values=np.array([0.01,0.05,0.01,0.1,0.5,1])#cm\n",
    "# Dt_values=np.array([1e-7])\n",
    "# reflect_values=np.array([0])\n",
    "# set_second_values=np.array([0])\n",
    "# m_values=np.array([1.8772341309722325, 1.6375562704001745])\n",
    "# M_values=np.array([5.572315674840435,16.73559858353835])\n",
    "# num_trials_per_setting=6\n",
    "\n",
    "# Dratio_values=np.array([10])#,100,1000])\n",
    "# energy_gap_values=np.array(sorted([-10,10,0.,1.,-1.,]))#0.5,1,2,-1]))\n",
    "# temperature_energy_values=np.array([1.])"
   ]
  },
  {
   "cell_type": "code",
   "execution_count": 19,
   "metadata": {
    "ExecuteTime": {
     "end_time": "2021-05-05T17:43:32.848939Z",
     "start_time": "2021-05-05T17:43:32.320199Z"
    }
   },
   "outputs": [
    {
     "data": {
      "image/png": "[encoded data removed]",
      "text/plain": [
       "<Figure size 432x288 with 1 Axes>"
      ]
     },
     "metadata": {
      "needs_background": "light"
     },
     "output_type": "display_data"
    }
   ],
   "source": [
    "x_values=dg.q.values\n",
    "y_values=dg.w.values\n",
    "c_values=dg.kappa.values\n",
    "\n",
    "fontsize=22\n",
    "plt.scatter(x_values,y_values,c=c_values)\n",
    "# plt.xlabel('N',fontsize=fontsize)\n",
    "# plt.ylabel('Collision Rate',fontsize=fontsize)\n",
    "plt.xscale('log')\n",
    "plt.yscale('log')\n",
    "plt.show()"
   ]
  },
  {
   "cell_type": "code",
   "execution_count": 32,
   "metadata": {
    "ExecuteTime": {
     "end_time": "2021-05-05T17:44:32.146571Z",
     "start_time": "2021-05-05T17:44:31.367160Z"
    }
   },
   "outputs": [],
   "source": [
    "#DONE: compute sliding m\n",
    "#TODO: compute sliding M\n",
    "xavg_values,slope_values,Rsquared_values = compute_sliding_slope_loglog(x_values,y_values,    \n",
    "    x_min=1.,\n",
    "    window_width=30,\n",
    "    stepsize=None,\n",
    ")"
   ]
  },
  {
   "cell_type": "code",
   "execution_count": 33,
   "metadata": {
    "ExecuteTime": {
     "end_time": "2021-05-05T17:44:32.409956Z",
     "start_time": "2021-05-05T17:44:32.239304Z"
    }
   },
   "outputs": [
    {
     "data": {
      "image/png": "[encoded data removed]",
      "text/plain": [
       "<Figure size 432x288 with 1 Axes>"
      ]
     },
     "metadata": {
      "needs_background": "light"
     },
     "output_type": "display_data"
    }
   ],
   "source": [
    "fontsize=22\n",
    "x=xavg_values[:-1]\n",
    "# y=Rsquared_values[:-1]\n",
    "y=slope_values[:-1]\n",
    "plt.scatter(x,y)\n",
    "# plt.xlabel('N',fontsize=fontsize)\n",
    "# plt.ylabel('Collision Rate',fontsize=fontsize)\n",
    "# plt.xscale('log')\n",
    "# plt.yscale('log')\n",
    "plt.show()"
   ]
  },
  {
   "cell_type": "markdown",
   "metadata": {},
   "source": [
    "# print powerlaw fit of trial modeling LR model for several energy gaps and several D ratios"
   ]
  },
  {
   "cell_type": "code",
   "execution_count": 59,
   "metadata": {
    "ExecuteTime": {
     "end_time": "2021-05-05T18:00:26.554623Z",
     "start_time": "2021-05-05T18:00:26.541058Z"
    }
   },
   "outputs": [],
   "source": [
    "def slice_df_and_print_powerlaw_fit(r,D,Dratio,energy_gap,q_min=0.1,q_max=.4):\n",
    "    '''map from trial to power law fit in interval q_min to q_max'''\n",
    "    #query the DataFrame\n",
    "    query =(df.temperature_energy==temperature_energy_values[0])&(df.Dt_over_dt==Dt_over_dt_values[0])\n",
    "    query&=df.r==r\n",
    "    query&=df.D==D\n",
    "    query&=df.Dratio==Dratio\n",
    "    query&=df.energy_gap==energy_gap\n",
    "    dff=df[query]\n",
    "    kappa_values=np.array(sorted(set(dff.kappa.values)))\n",
    "    dg=dff[dff.kappa==kappa_values[-1]]#Luo-Rudy fit\n",
    "    # dg=dff[dff.kappa==kappa_values[0]]#Fenton-Karma fit\n",
    "\n",
    "    # print(kappa_values)\n",
    "    # print(energy_gap_values)\n",
    "    # query=(dg.kappa==kappa_values[1])&(dg.energy_gap==energy_gap_values[3])\n",
    "    # dgg=dg[query].copy()\n",
    "    x_values=dg.q.values\n",
    "    y_values=dg.w.values\n",
    "\n",
    "    # q_min=0.1;q_max=.4\n",
    "    # boo=(x_values>q_min)&(x_values<q_max)\n",
    "    # x=np.log(x_values[boo])\n",
    "    # y=np.log(y_values[boo])\n",
    "    # dict_out=compute_95CI_ols(x,y)\n",
    "    # dict_out\n",
    "\n",
    "    \n",
    "    boo=(x_values>q_min)&(x_values<q_max)\n",
    "    x=x_values[boo]\n",
    "    y=y_values[boo]\n",
    "    print_fit_power_law(x,y)"
   ]
  },
  {
   "cell_type": "code",
   "execution_count": 60,
   "metadata": {
    "ExecuteTime": {
     "end_time": "2021-05-05T18:01:37.762576Z",
     "start_time": "2021-05-05T18:01:37.680247Z"
    }
   },
   "outputs": [
    {
     "name": "stdout",
     "output_type": "stream",
     "text": [
      "m=2.008+-0.010; B=3.516+-0.019\n",
      "M=B**m=12.49+-0.29 Hz*cm^{2(m-1)}\n",
      "RMSE=0.0220 Hz/cm^2\n",
      "R^2=0.999\n"
     ]
    }
   ],
   "source": [
    "r=r_values[1];D=D_values[3];\n",
    "Dratio=Dratio_values[3];energy_gap=energy_gap_values[2]\n",
    "slice_df_and_print_powerlaw_fit(r,D,Dratio,energy_gap)"
   ]
  },
  {
   "cell_type": "code",
   "execution_count": 70,
   "metadata": {
    "ExecuteTime": {
     "end_time": "2021-05-05T18:15:52.325111Z",
     "start_time": "2021-05-05T18:15:52.047003Z"
    }
   },
   "outputs": [
    {
     "name": "stdout",
     "output_type": "stream",
     "text": [
      "for r=0.5 cm and D_slow=2.0 cm^2/s fixed,\n",
      "the powerlaw fit for D_fast=2000.0 cm^2/s and energy_gap=-10.0 was\n",
      "m=2.016+-0.010; B=3.507+-0.018\n",
      "M= 12.55+-0.29 Hz*cm^{2(m-1)}\n",
      "RMSE=0.0216 Hz/cm^2\n",
      "R^2=0.999\n",
      "\n",
      "for r=0.5 cm and D_slow=2.0 cm^2/s fixed,\n",
      "the powerlaw fit for D_fast=2000.0 cm^2/s and energy_gap=0.0 was\n",
      "m=2.008+-0.010; B=3.516+-0.019\n",
      "M= 12.49+-0.29 Hz*cm^{2(m-1)}\n",
      "RMSE=0.0220 Hz/cm^2\n",
      "R^2=0.999\n",
      "\n",
      "for r=0.5 cm and D_slow=2.0 cm^2/s fixed,\n",
      "the powerlaw fit for D_fast=2000.0 cm^2/s and energy_gap=1.0 was\n",
      "m=2.018+-0.010; B=3.526+-0.018\n",
      "M= 12.73+-0.29 Hz*cm^{2(m-1)}\n",
      "RMSE=0.0206 Hz/cm^2\n",
      "R^2=0.999\n",
      "\n",
      "for r=0.5 cm and D_slow=2.0 cm^2/s fixed,\n",
      "the powerlaw fit for D_fast=2000.0 cm^2/s and energy_gap=10.0 was\n",
      "m=2.307+-0.036; B=3.258+-0.058\n",
      "M= 15.25+-1.33 Hz*cm^{2(m-1)}\n",
      "RMSE=0.0745 Hz/cm^2\n",
      "R^2=0.991\n",
      "\n"
     ]
    }
   ],
   "source": [
    "r=r_values[1];D=D_values[3];\n",
    "# for Dratio in Dratio_values:\n",
    "Dratio=Dratio_values[-1]\n",
    "for energy_gap in energy_gap_values[::2]:\n",
    "    print(f\"for r={r} cm and D_slow={D} cm^2/s fixed,\")\n",
    "    print(f\"the powerlaw fit for D_fast={Dratio*D} cm^2/s and energy_gap={energy_gap} was\")\n",
    "    slice_df_and_print_powerlaw_fit(r,D,Dratio,energy_gap)\n",
    "    print(f'')    "
   ]
  },
  {
   "cell_type": "markdown",
   "metadata": {},
   "source": [
    "__Result__\n",
    "- increasing energy_gap increases M when energy_gap>=2 \n",
    "- the exponent was approximately 2 except when energy_gap=10, wherein it was 2.3"
   ]
  },
  {
   "cell_type": "markdown",
   "metadata": {
    "ExecuteTime": {
     "end_time": "2021-04-28T00:18:25.720646Z",
     "start_time": "2021-04-28T00:18:25.533740Z"
    }
   },
   "source": [
    "__Result__ the slope is still superlinear overall\n",
    "- DONE: make slide summarizing all this, that I tried a new data run that isn't done yet, and that preliminary results suggest it is not subquadratic.  This supports a description of particle-particle forces being necessary to describe complex electrophysiological models such as the Luo-Rudy model.\n",
    "- TODO: try other examples, looking for something subquadratic\n",
    "- TODO: make a nice plot showing ^this example"
   ]
  },
  {
   "cell_type": "code",
   "execution_count": 71,
   "metadata": {
    "ExecuteTime": {
     "end_time": "2021-05-05T18:17:55.914131Z",
     "start_time": "2021-05-05T18:16:04.595080Z"
    }
   },
   "outputs": [
    {
     "name": "stdout",
     "output_type": "stream",
     "text": [
      "output redirected to /home/timothytyree/Documents/GitHub/bgmc/python/data/osg_output/run_7_all_powerfits.txt.\n"
     ]
    }
   ],
   "source": [
    "import sys\n",
    "\n",
    "text_fn=data_dir.replace('.csv','_powerfits.txt')\n",
    "\n",
    "original_stdout = sys.stdout # Save a reference to the original standard output\n",
    "\n",
    "with open(text_fn, 'w') as f:\n",
    "    sys.stdout = f # Change the standard output to the file we created.\n",
    "    #     r=r_values[1];D=D_values[3];\n",
    "    for r in r_values:\n",
    "        for D in D_values:\n",
    "            for Dratio in Dratio_values:\n",
    "                for energy_gap in energy_gap_values:\n",
    "                    print(f\"for r={r} cm and D_slow={D} cm^2/s fixed,\")\n",
    "                    print(f\"the powerlaw fit for D_fast={Dratio*D} cm^2/s and energy_gap={energy_gap} was\")\n",
    "                    slice_df_and_print_powerlaw_fit(r,D,Dratio,energy_gap)\n",
    "                    print(f'')\n",
    "\n",
    "sys.stdout = original_stdout # Reset the standard output to its original value\n",
    "print(f'output redirected to {text_fn}.')\n"
   ]
  },
  {
   "cell_type": "markdown",
   "metadata": {
    "ExecuteTime": {
     "end_time": "2021-05-05T18:17:56.824839Z",
     "start_time": "2021-05-05T18:17:56.002151Z"
    }
   },
   "source": [
    "__Result__\n",
    "- any values exhibiting low exponent, m<1.85, also exhibited low R^2<0.75... \n",
    "- the robust exponents are still too large to support the LR model, which has m=1.544...\n",
    "- if m<1.92, then R^2<0.75.\n",
    "- the smallest m with reasonable R^2>0.9 all had r=5cm"
   ]
  },
  {
   "cell_type": "markdown",
   "metadata": {},
   "source": [
    "# visualizing energy_gap independence"
   ]
  },
  {
   "cell_type": "code",
   "execution_count": 166,
   "metadata": {
    "ExecuteTime": {
     "end_time": "2021-05-05T19:09:53.663260Z",
     "start_time": "2021-05-05T19:09:53.650773Z"
    }
   },
   "outputs": [
    {
     "data": {
      "text/plain": [
       "array([ 0.1,  0.5,  1. ,  1.5,  2. ,  2.5,  5. , 10. ])"
      ]
     },
     "execution_count": 166,
     "metadata": {},
     "output_type": "execute_result"
    }
   ],
   "source": [
    "r_values"
   ]
  },
  {
   "cell_type": "code",
   "execution_count": 188,
   "metadata": {
    "ExecuteTime": {
     "end_time": "2021-05-05T19:17:27.702328Z",
     "start_time": "2021-05-05T19:17:27.029828Z"
    }
   },
   "outputs": [
    {
     "data": {
      "image/png": "[encoded data removed]",
      "text/plain": [
       "<Figure size 432x288 with 1 Axes>"
      ]
     },
     "metadata": {
      "needs_background": "light"
     },
     "output_type": "display_data"
    }
   ],
   "source": [
    "#plot fits for full model\n",
    "m_fk=1.945;#+-0.030; B_fk=2.441+-0.051\n",
    "m_lr=1.544;#+-0.034; B_lr=5.870+-0.137\n",
    "M_fk=5.67;#+-0.39 Hz*cm^{2(m-1)}\n",
    "M_lr=15.37;#+-1.57 Hz*cm^{2(m-1)}\n",
    "# RMSE_fk=0.1252 Hz/cm^2\n",
    "# RMSE_lr=0.0974 Hz/cm^2\n",
    "# R^2=0.997 (FK)\n",
    "# R^2=0.994 (LR)\n",
    "\n",
    "xv=np.arange(0.1,1.,.05)\n",
    "yv_fk=M_fk*(xv)**m_fk\n",
    "yv_lr=M_lr*(xv)**m_lr\n",
    "\n",
    "yscale=10**3\n",
    "fontsize=18\n",
    "# plt.xlim([0.1,1])\n",
    "# plt.ylim([1e-1,15])\n",
    "plt.yscale('log')\n",
    "plt.xscale('log')\n",
    "plt.plot(xv,yv_fk,label='FK power law fit',zorder=3,lw=4)\n",
    "plt.plot(xv,yv_lr,label='LR power law fit',zorder=3,lw=4)\n",
    "\n",
    "#plot data\n",
    "r=5;D=2.;Dratio=1000;L=L_values[-1]\n",
    "for energy_gap in energy_gap_values[::2]:\n",
    "    #query the DataFrame\n",
    "    query =(df.temperature_energy==temperature_energy_values[0])&(df.Dt_over_dt==Dt_over_dt_values[0])\n",
    "    query&=df.r==r\n",
    "    query&=df.L==L_values[-1]\n",
    "    query&=df.D==D\n",
    "    query&=df.Dratio==Dratio\n",
    "    query&=df.energy_gap==energy_gap\n",
    "    dff=df[query]\n",
    "    kappa_values=np.array(sorted(set(dff.kappa.values)))\n",
    "#     dg=dff[dff.kappa==kappa_values[-1]]#Luo-Rudy fit\n",
    "    dg=dff[dff.kappa==kappa_values[0]]#Fenton-Karma fit\n",
    "    x_values=dg.q.values\n",
    "    y_values=dg.w.values\n",
    "\n",
    "    plt.scatter(x_values,y_values,label=r'$\\Delta \\epsilon = $'+f\"{energy_gap:.0f}\")#,c=c_values)\n",
    "\n",
    "# plt.title(u'comparison to simulation\\nwith two hybrid modes',fontsize=fontsize)\n",
    "plt.xlabel(r'q (cm$^{-2}$)',fontsize=fontsize)\n",
    "plt.ylabel(r'w (Hz cm$^{-2}$)', fontsize=fontsize)\n",
    "plt.tick_params(axis='both', which='major', labelsize=fontsize)\n",
    "plt.tick_params(axis='both', which='minor', labelsize=0)\n",
    "plt.legend(fontsize=fontsize-5,ncol=2,loc='upper left')\n",
    "plt.show()"
   ]
  },
  {
   "cell_type": "code",
   "execution_count": 189,
   "metadata": {
    "ExecuteTime": {
     "end_time": "2021-05-05T19:18:02.566457Z",
     "start_time": "2021-05-05T19:18:01.956554Z"
    }
   },
   "outputs": [
    {
     "name": "stdout",
     "output_type": "stream",
     "text": [
      "[0.9995339314200699, 0.9997594041032261, 0.999641813325951, 0.999568893388368, 0.9997771167717145, 0.9995511164883838, 0.9997151424921233]\n"
     ]
    }
   ],
   "source": [
    "#TODO: plot m+-Delta_m versus energy gap for LR and FK model\n",
    "#plot data\n",
    "kappa=kappa_values[0]\n",
    "# r=1.;D=5.;Dratio=1000;L=L_values[-1]\n",
    "eg_lst=[];m_lst=[];Dm_lst=[];Rsq_lst=[]\n",
    "for energy_gap in energy_gap_values:\n",
    "    try:\n",
    "        #query the DataFrame\n",
    "        query =(df.temperature_energy==temperature_energy_values[0])&(df.Dt_over_dt==Dt_over_dt_values[0])\n",
    "        query&=df.r==r\n",
    "        query&=df.L==L_values[-1]\n",
    "        query&=df.D==D\n",
    "        query&=df.Dratio==Dratio\n",
    "        query&=df.energy_gap==energy_gap\n",
    "        dff=df[query]\n",
    "        kappa_values=np.array(sorted(set(dff.kappa.values)))\n",
    "        # dg=dff[dff.kappa==kappa_values[-1]]#Luo-Rudy fit\n",
    "        dg=dff[dff.kappa==kappa_values[0]]#Fenton-Karma fit\n",
    "        x_values=dg.q.values\n",
    "        y_values=dg.w.values\n",
    "\n",
    "        q_min=0.1;q_max=.4\n",
    "        boo=(x_values>q_min)&(x_values<q_max)\n",
    "        x=x_values[boo]\n",
    "        y=y_values[boo]\n",
    "\n",
    "        # print_fit_power_law(x,y)\n",
    "        B,Delta_B,m,Delta_m,Rsq=fit_power_law(x,y)\n",
    "        rmse=compute_power_rmse(x,y,m,B)\n",
    "        M, Delta_M= comp_power_scale(B,Delta_B,m,Delta_m)\n",
    "    #     print(f\"m={m:.3f}+-{Delta_m:.3f}; B={B:.3f}+-{Delta_B:.3f}\")\n",
    "    #     print(f\"M=B**m={M:.2f}+-{Delta_M:.2f} Hz*cm^{{2(m-1)}}\")\n",
    "    #     print(f\"RMSE={rmse:.4f} Hz/cm^2\")\n",
    "    #     print(f\"R^2={Rsq:.3f}\")\n",
    "\n",
    "        eg_lst.append(energy_gap)\n",
    "        m_lst.append(m)\n",
    "        Dm_lst.append(Delta_m)\n",
    "        Rsq_lst.append(Rsq)\n",
    "    except AssertionError as e:\n",
    "        pass\n",
    "print(Rsq_lst)"
   ]
  },
  {
   "cell_type": "code",
   "execution_count": 190,
   "metadata": {
    "ExecuteTime": {
     "end_time": "2021-05-05T19:18:02.849843Z",
     "start_time": "2021-05-05T19:18:02.680126Z"
    }
   },
   "outputs": [
    {
     "data": {
      "image/png": "[encoded data removed]",
      "text/plain": [
       "<Figure size 432x288 with 1 Axes>"
      ]
     },
     "metadata": {
      "needs_background": "light"
     },
     "output_type": "display_data"
    },
    {
     "name": "stdout",
     "output_type": "stream",
     "text": [
      "considering 0.1<q<0.4\n"
     ]
    }
   ],
   "source": [
    "m_fk=1.945#1.858;#+-0.027; B_fk=2.464+-0.030<br>\n",
    "m_lr=1.544#1.638;#+-0.017; B_fk=5.588+-0.067\n",
    "plt.errorbar(eg_lst, m_lst, yerr=Dm_lst, fmt='-o',label='Monte Carlo')\n",
    "plt.plot(eg_lst, m_fk+0.*np.array(eg_lst), '--',c='gray',label='Fenton-Karma')\n",
    "plt.plot(eg_lst, m_lr+0.*np.array(eg_lst), '-',c='gray',label='Luo-Rudy')\n",
    "\n",
    "# plt.scatter(Dtdt_lst,m_lst,marker='^')\n",
    "# plt.xscale('log')\n",
    "title=f\"r={r:.1f} cm, \"+r\"$\\kappa$=\"+f\"{kappa:.2f} Hz\\nD={D} cm\"+r\"$^2$/s\"+f\", A={L**2:.2f} cm\"+r\"$^2$\"\n",
    "plt.title(title,fontsize=fontsize)\n",
    "plt.xlabel(r'$\\Delta \\epsilon$',fontsize=fontsize)\n",
    "plt.ylabel('Exponent value',fontsize=fontsize)\n",
    "# plt.xscale('log')\n",
    "# plt.yscale('log')\n",
    "plt.tick_params(axis='both', which='major', labelsize=fontsize)\n",
    "plt.tick_params(axis='both', which='minor', labelsize=0)\n",
    "# plt.legend(fontsize=fontsize-8)#,ncol=2)\n",
    "# plt.xlim([10,50])\n",
    "plt.ylim([0.9,2.3])\n",
    "# plt.grid('on')\n",
    "plt.legend(fontsize=fontsize-2)\n",
    "plt.show()\n",
    "# print(\"considering 20<N<50 spiral tips\")\n",
    "# print(\"considering N<20 spiral tips\")\n",
    "print(f\"considering {q_min}<q<{q_max}\")"
   ]
  },
  {
   "cell_type": "markdown",
   "metadata": {},
   "source": [
    "# visualizing D_fast/D_slow independence"
   ]
  },
  {
   "cell_type": "code",
   "execution_count": 194,
   "metadata": {
    "ExecuteTime": {
     "end_time": "2021-05-05T19:19:58.346243Z",
     "start_time": "2021-05-05T19:19:57.637729Z"
    }
   },
   "outputs": [
    {
     "data": {
      "image/png": "[encoded data removed]",
      "text/plain": [
       "<Figure size 432x288 with 1 Axes>"
      ]
     },
     "metadata": {
      "needs_background": "light"
     },
     "output_type": "display_data"
    }
   ],
   "source": [
    "#plot fits for full model\n",
    "m_fk=1.945;#+-0.030; B_fk=2.441+-0.051\n",
    "m_lr=1.544;#+-0.034; B_lr=5.870+-0.137\n",
    "M_fk=5.67;#+-0.39 Hz*cm^{2(m-1)}\n",
    "M_lr=15.37;#+-1.57 Hz*cm^{2(m-1)}\n",
    "# RMSE_fk=0.1252 Hz/cm^2\n",
    "# RMSE_lr=0.0974 Hz/cm^2\n",
    "# R^2=0.997 (FK)\n",
    "# R^2=0.994 (LR)\n",
    "\n",
    "xv=np.arange(0.1,1.,.05)\n",
    "yv_fk=M_fk*(xv)**m_fk\n",
    "yv_lr=M_lr*(xv)**m_lr\n",
    "\n",
    "yscale=10**3\n",
    "fontsize=18\n",
    "# plt.xlim([0.1,1])\n",
    "# plt.ylim([1e-1,15])\n",
    "plt.yscale('log')\n",
    "plt.xscale('log')\n",
    "plt.plot(xv,yv_fk,label='FK power law fit',zorder=3,lw=4)\n",
    "plt.plot(xv,yv_lr,label='LR power law fit',zorder=3,lw=4)\n",
    "\n",
    "#plot data\n",
    "r=5.;D=2.;L=L_values[-1]\n",
    "energy_gap=0\n",
    "for Dratio in Dratio_values:\n",
    "    #query the DataFrame\n",
    "    query =(df.temperature_energy==temperature_energy_values[0])&(df.Dt_over_dt==Dt_over_dt_values[0])\n",
    "    query&=df.r==r\n",
    "    query&=df.L==L\n",
    "    query&=df.D==D\n",
    "    query&=df.Dratio==Dratio\n",
    "    query&=df.energy_gap==energy_gap\n",
    "    dff=df[query]\n",
    "    kappa_values=np.array(sorted(set(dff.kappa.values)))\n",
    "#     dg=dff[dff.kappa==kappa_values[-1]]#Luo-Rudy fit\n",
    "    dg=dff[dff.kappa==kappa_values[0]]#Fenton-Karma fit\n",
    "    x_values=dg.q.values\n",
    "    y_values=dg.w.values\n",
    "\n",
    "    plt.scatter(x_values,y_values,label=r'$D_{fast}/D_{slow} = $'+f\"{Dratio:.0f}\")#,c=c_values)\n",
    "\n",
    "# plt.title(u'comparison to simulation\\nwith two hybrid modes',fontsize=fontsize)\n",
    "plt.xlabel(r'q (cm$^{-2}$)',fontsize=fontsize)\n",
    "plt.ylabel(r'w (Hz cm$^{-2}$)', fontsize=fontsize)\n",
    "plt.tick_params(axis='both', which='major', labelsize=fontsize)\n",
    "plt.tick_params(axis='both', which='minor', labelsize=0)\n",
    "plt.legend(fontsize=fontsize-5,ncol=2,loc='upper left')\n",
    "plt.show()"
   ]
  },
  {
   "cell_type": "code",
   "execution_count": 195,
   "metadata": {
    "ExecuteTime": {
     "end_time": "2021-05-05T19:20:37.845100Z",
     "start_time": "2021-05-05T19:20:37.541844Z"
    }
   },
   "outputs": [
    {
     "name": "stdout",
     "output_type": "stream",
     "text": [
      "[0.999587598209781, 0.9996362643233341, 0.9997365896330023, 0.999641813325951]\n"
     ]
    }
   ],
   "source": [
    "#TODO: plot m+-Delta_m versus energy gap for LR and FK model\n",
    "#plot data\n",
    "dr_lst=[];m_lst=[];Dm_lst=[];Rsq_lst=[]\n",
    "#plot data\n",
    "# r=5.;D=2.;L=L_values[-1]\n",
    "# energy_gap=1\n",
    "for Dratio in Dratio_values:\n",
    "    try:\n",
    "        #query the DataFrame\n",
    "        query =(df.temperature_energy==temperature_energy_values[0])&(df.Dt_over_dt==Dt_over_dt_values[0])\n",
    "        query&=df.r==r\n",
    "        query&=df.L==L\n",
    "        query&=df.D==D\n",
    "        query&=df.Dratio==Dratio\n",
    "        query&=df.energy_gap==energy_gap\n",
    "        dff=df[query]\n",
    "        kappa_values=np.array(sorted(set(dff.kappa.values)))\n",
    "        #dg=dff[dff.kappa==kappa_values[-1]]#Luo-Rudy fit\n",
    "        dg=dff[dff.kappa==kappa_values[0]]#Fenton-Karma fit\n",
    "        x_values=dg.q.values\n",
    "        y_values=dg.w.values\n",
    "\n",
    "        q_min=0.1;q_max=.4\n",
    "        boo=(x_values>q_min)&(x_values<q_max)\n",
    "        x=x_values[boo]\n",
    "        y=y_values[boo]\n",
    "\n",
    "        # print_fit_power_law(x,y)\n",
    "        B,Delta_B,m,Delta_m,Rsq=fit_power_law(x,y)\n",
    "        rmse=compute_power_rmse(x,y,m,B)\n",
    "        M, Delta_M= comp_power_scale(B,Delta_B,m,Delta_m)\n",
    "    #     print(f\"m={m:.3f}+-{Delta_m:.3f}; B={B:.3f}+-{Delta_B:.3f}\")\n",
    "    #     print(f\"M=B**m={M:.2f}+-{Delta_M:.2f} Hz*cm^{{2(m-1)}}\")\n",
    "    #     print(f\"RMSE={rmse:.4f} Hz/cm^2\")\n",
    "    #     print(f\"R^2={Rsq:.3f}\")\n",
    "\n",
    "        dr_lst.append(Dratio)\n",
    "        m_lst.append(m)\n",
    "        Dm_lst.append(Delta_m)\n",
    "        Rsq_lst.append(Rsq)\n",
    "    except AssertionError as e:\n",
    "        pass\n",
    "print(Rsq_lst)"
   ]
  },
  {
   "cell_type": "code",
   "execution_count": 196,
   "metadata": {
    "ExecuteTime": {
     "end_time": "2021-05-05T19:20:38.341179Z",
     "start_time": "2021-05-05T19:20:38.000004Z"
    }
   },
   "outputs": [
    {
     "data": {
      "image/png": "[encoded data removed]",
      "text/plain": [
       "<Figure size 432x288 with 1 Axes>"
      ]
     },
     "metadata": {
      "needs_background": "light"
     },
     "output_type": "display_data"
    },
    {
     "name": "stdout",
     "output_type": "stream",
     "text": [
      "considering 0.1<q<0.4\n"
     ]
    }
   ],
   "source": [
    "m_fk=1.945#1.858;#+-0.027; B_fk=2.464+-0.030<br>\n",
    "m_lr=1.544#1.638;#+-0.017; B_fk=5.588+-0.067\n",
    "plt.errorbar(dr_lst, m_lst, yerr=Dm_lst, fmt='-o',label='Monte Carlo')\n",
    "plt.plot(dr_lst, m_fk+0.*np.array(dr_lst), '--',c='gray',label='Fenton-Karma')\n",
    "plt.plot(dr_lst, m_lr+0.*np.array(dr_lst), '-',c='gray',label='Luo-Rudy')\n",
    "\n",
    "# plt.scatter(Dtdt_lst,m_lst,marker='^')\n",
    "# plt.xscale('log')\n",
    "title=f\"r={r:.1f} cm, \"+r\"$\\kappa$=\"+f\"{kappa:.2f} Hz, \"+r\"$\\Delta \\epsilon=$\"+f\"{energy_gap}\\nD={D} cm\"+r\"$^2$/s\"+f\", A={L**2:.2f} cm\"+r\"$^2$\"\n",
    "plt.title(title,fontsize=fontsize)\n",
    "plt.xlabel(r'$D_{fast}/D_{slow}$',fontsize=fontsize)\n",
    "plt.ylabel('Exponent value',fontsize=fontsize)\n",
    "plt.xscale('log')\n",
    "# plt.yscale('log')\n",
    "plt.tick_params(axis='both', which='major', labelsize=fontsize)\n",
    "plt.tick_params(axis='both', which='minor', labelsize=0)\n",
    "# plt.legend(fontsize=fontsize-8)#,ncol=2)\n",
    "# plt.xlim([10,50])\n",
    "plt.ylim([0.9,2.3])\n",
    "# plt.grid('on')\n",
    "plt.legend(fontsize=fontsize-2)\n",
    "plt.show()\n",
    "# print(\"considering 20<N<50 spiral tips\")\n",
    "# print(\"considering N<20 spiral tips\")\n",
    "print(f\"considering {q_min}<q<{q_max}\")"
   ]
  },
  {
   "cell_type": "code",
   "execution_count": null,
   "metadata": {
    "ExecuteTime": {
     "end_time": "2021-05-05T17:36:52.061736Z",
     "start_time": "2021-05-05T17:21:54.100Z"
    }
   },
   "outputs": [],
   "source": []
  },
  {
   "cell_type": "code",
   "execution_count": null,
   "metadata": {},
   "outputs": [],
   "source": []
  },
  {
   "cell_type": "code",
   "execution_count": null,
   "metadata": {
    "ExecuteTime": {
     "end_time": "2021-05-05T17:36:52.065460Z",
     "start_time": "2021-05-05T17:22:00.498Z"
    }
   },
   "outputs": [],
   "source": [
    "beep(20)"
   ]
  },
  {
   "cell_type": "code",
   "execution_count": null,
   "metadata": {},
   "outputs": [],
   "source": []
  }
 ],
 "metadata": {
  "kernelspec": {
   "display_name": "Python 3",
   "language": "python",
   "name": "python3"
  },
  "language_info": {
   "codemirror_mode": {
    "name": "ipython",
    "version": 3
   },
   "file_extension": ".py",
   "mimetype": "text/x-python",
   "name": "python",
   "nbconvert_exporter": "python",
   "pygments_lexer": "ipython3",
   "version": "3.7.6"
  },
  "toc": {
   "base_numbering": 1,
   "nav_menu": {},
   "number_sections": true,
   "sideBar": true,
   "skip_h1_title": false,
   "title_cell": "Table of Contents",
   "title_sidebar": "Contents",
   "toc_cell": false,
   "toc_position": {},
   "toc_section_display": true,
   "toc_window_display": false
  },
  "varInspector": {
   "cols": {
    "lenName": 16,
    "lenType": 16,
    "lenVar": 40
   },
   "kernels_config": {
    "python": {
     "delete_cmd_postfix": "",
     "delete_cmd_prefix": "del ",
     "library": "var_list.py",
     "varRefreshCmd": "print(var_dic_list())"
    },
    "r": {
     "delete_cmd_postfix": ") ",
     "delete_cmd_prefix": "rm(",
     "library": "var_list.r",
     "varRefreshCmd": "cat(var_dic_list()) "
    }
   },
   "types_to_exclude": [
    "module",
    "function",
    "builtin_function_or_method",
    "instance",
    "_Feature"
   ],
   "window_display": false
  }
 },
 "nbformat": 4,
 "nbformat_minor": 4
}
