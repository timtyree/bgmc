{
 "cells": [
  {
   "cell_type": "markdown",
   "id": "920cf84b",
   "metadata": {},
   "source": [
    "# implementing creation events\n",
    "Tim Tyree<br>\n",
    "7.6.2023"
   ]
  },
  {
   "cell_type": "code",
   "execution_count": 1,
   "id": "2fd4548d",
   "metadata": {
    "ExecuteTime": {
     "end_time": "2023-08-17T01:22:47.401078Z",
     "start_time": "2023-08-17T01:22:45.369161Z"
    }
   },
   "outputs": [],
   "source": [
    "from lib.my_initialization import *\n",
    "plt.plot([1]*4)\n",
    "plt.close()\n",
    "#reset matplotlib\n",
    "import matplotlib\n",
    "matplotlib.rcParams.update(matplotlib.rcParamsDefault)\n",
    "mpl.rcParams.update(matplotlib.rcParamsDefault) #reset matplotlib"
   ]
  },
  {
   "cell_type": "markdown",
   "id": "7174e063",
   "metadata": {},
   "source": [
    "# define module"
   ]
  },
  {
   "cell_type": "code",
   "execution_count": 2,
   "id": "a3e7d17f",
   "metadata": {
    "ExecuteTime": {
     "end_time": "2023-08-17T01:22:47.406322Z",
     "start_time": "2023-08-17T01:22:47.402772Z"
    }
   },
   "outputs": [],
   "source": [
    "# @njit\n",
    "def format_particles(frameno,t,x_values,y_values,pid_values,round_t_to_n_decimals=5):\n",
    "    n_tips = x_values.shape[0]\n",
    "    dict_out = {\n",
    "        'frame':frameno,\n",
    "        't': np.around(t,round_t_to_n_decimals),\n",
    "        'n': n_tips,\n",
    "        'x': x_values,\n",
    "        'y': y_values,\n",
    "        'particle':pid_values,\n",
    "    }\n",
    "    return dict_out\n",
    "\n",
    "from numba import jit,njit\n",
    "@njit\n",
    "def normalRandom():\n",
    "    return np.random.normal()\n",
    "\n",
    "@njit\n",
    "def uniformRandom():\n",
    "    return np.random.uniform(0,1)\n",
    "# normalRandom(),uniformRandom()\n",
    "\n",
    "# @njit\n",
    "# def levyRandom2D(alpha):\n",
    "#     th = 2*np.pi*np.random.uniform(0,1)\n",
    "#     ul = np.random.uniform(0,1)**(-1./alpha)\n",
    "#     dWx = ul*np.cos(th)\n",
    "#     dWy = ul*np.sin(th)\n",
    "#     return np.array([dWx,dWy])\n",
    "# dWx,dWy = stepscale*levyRandom2D(alpha)\n",
    "# dWx,dWy "
   ]
  },
  {
   "cell_type": "code",
   "execution_count": 3,
   "id": "1e0c4362",
   "metadata": {
    "ExecuteTime": {
     "end_time": "2023-08-17T01:22:47.412857Z",
     "start_time": "2023-08-17T01:22:47.407602Z"
    }
   },
   "outputs": [],
   "source": [
    "def gener_random_creation_position(x_new,y_new,still_running,R_c_bar,L):\n",
    "    \"\"\"\n",
    "    Example Usage:\n",
    "xg,yg=gener_random_creation_position(x_new,y_new,still_running,R_c_bar,L)\n",
    "x_new[igone[0]] = xg\n",
    "y_new[igone[0]] = yg\n",
    "    \"\"\"\n",
    "    #determine random angle\n",
    "    theta=2*np.pi*np.random.uniform(0,1)\n",
    "    #select random particle\n",
    "    ihere = np.random.choice(np.argwhere(still_running).flatten())\n",
    "    #place new particle distance R_c_bar from random particle\n",
    "    xg=x_new[ihere] + R_c_bar*np.cos(theta)\n",
    "    yg=y_new[ihere] + R_c_bar*np.sin(theta)\n",
    "    #check if new particle is within distance R_c_bar from any other particles\n",
    "    mindist=2.*L\n",
    "    for j in np.argwhere(still_running).flatten():\n",
    "        if j != ihere:\n",
    "            dist=dist_pbc(xg,yg,x_new[j],y_new[j],L);\n",
    "            if dist<mindist:\n",
    "                mindist=dist\n",
    "    #while new particle is within distance R_c_bar from any other particle\n",
    "    while mindist<R_c_bar:\n",
    "        #determine random angle\n",
    "        theta=2*np.pi*np.random.uniform(0,1)\n",
    "        #select random particle\n",
    "        ihere = np.random.choice(np.argwhere(still_running).flatten())\n",
    "        #place new particle distance R_c_bar from random particle\n",
    "        xg=x_new[ihere] + R_c_bar*np.cos(theta)\n",
    "        yg=y_new[ihere] + R_c_bar*np.sin(theta)\n",
    "        #check if new particle is within distance R_c_bar from any other particles\n",
    "        mindist=2.*L\n",
    "        for j in np.argwhere(still_running).flatten():\n",
    "            if j != ihere:\n",
    "                dist=dist_pbc(xg,yg,x_new[j],y_new[j],L);\n",
    "                if dist<mindist:\n",
    "                    mindist=dist\n",
    "    return xg,yg"
   ]
  },
  {
   "cell_type": "markdown",
   "id": "766205f5",
   "metadata": {},
   "source": [
    "# recall apparent birth and death rates"
   ]
  },
  {
   "cell_type": "code",
   "execution_count": 4,
   "id": "dbb3ada6",
   "metadata": {
    "ExecuteTime": {
     "end_time": "2023-08-17T01:22:47.419577Z",
     "start_time": "2023-08-17T01:22:47.414503Z"
    }
   },
   "outputs": [],
   "source": [
    "#DONE: recall creation information\n",
    "R_c_bar=0.7029 #+/-0.0049 cm FK\n",
    "R_c_bar=0.6667 #+/-0.0083 cm LR"
   ]
  },
  {
   "cell_type": "code",
   "execution_count": 5,
   "id": "812ddae9",
   "metadata": {
    "ExecuteTime": {
     "end_time": "2023-08-17T01:22:47.432025Z",
     "start_time": "2023-08-17T01:22:47.421176Z"
    }
   },
   "outputs": [
    {
     "name": "stdout",
     "output_type": "stream",
     "text": [
      "annihilation rate density powerlaw fits:\n",
      "m = 1.877234 +/- 0.024488\n",
      "M = 5.572316 +/- 0.299027 Hz/cm^2; B=2.496963 +/- 0.039522\n",
      "RMSE=0.1386 Hz/cm^2; R^2=0.9969; MPE=6.9910%; N=73\n",
      "m = 1.637556 +/- 0.016847\n",
      "M = 16.735599 +/- 0.829136 Hz/cm^2; B=5.587740 +/- 0.065801\n",
      "RMSE=0.1340 Hz/cm^2; R^2=0.9973; MPE=7.2488%; N=100\n"
     ]
    }
   ],
   "source": [
    "#recall death rates\n",
    "kwargs = dict(data_fk_dir=f'{nb_dir}/data/full_results/data_fig4_vidmar_fk_tt.csv',\n",
    "              data_lr_dir=f'{nb_dir}/data/full_results/data_fig4_vidmar_lr_tt.csv',\n",
    "             min_num_particles=9)\n",
    "dict_wjr = recall_death_rates_vidmar_rappel(**kwargs)\n",
    "fk=dict_wjr['fk']\n",
    "lr=dict_wjr['lr']\n",
    "print(f\"annihilation rate density powerlaw fits:\")\n",
    "dict_fit_death_fk = print_fit_power_law(x=fk['q'].values,y=fk['w'].values)\n",
    "dict_fit_death_lr = print_fit_power_law(x=lr['q'].values,y=lr['w'].values)"
   ]
  },
  {
   "cell_type": "code",
   "execution_count": 6,
   "id": "a3a37736",
   "metadata": {
    "ExecuteTime": {
     "end_time": "2023-08-17T01:22:47.551658Z",
     "start_time": "2023-08-17T01:22:47.543668Z"
    }
   },
   "outputs": [
    {
     "name": "stdout",
     "output_type": "stream",
     "text": [
      "creation rate density powerlaw fits:\n",
      "m = 0.229594 +/- 0.010098\n",
      "M = 0.864210 +/- 0.002349 Hz/cm^2; B=0.529597 +/- 0.020570\n",
      "RMSE=0.0215 Hz/cm^2; R^2=0.9655; MPE=3.0209%; N=73\n",
      "m = 0.714755 +/- 0.009768\n",
      "M = 3.277073 +/- 0.102643 Hz/cm^2; B=5.262676 +/- 0.107278\n",
      "RMSE=0.0417 Hz/cm^2; R^2=0.9971; MPE=4.2323%; N=62\n"
     ]
    }
   ],
   "source": [
    "#recall birth rates\n",
    "birth_rate_dir_fk = f'{nb_dir}/data/full_results/data_fig4_timothy_fk_up2_rescaled_per_tt.csv'\n",
    "birth_rate_dir_lr = f'{nb_dir}/data/full_results/data_fig4_timothy_lr_up2_rescaled_per_tt.csv'\n",
    "df_birth_fk = pd.read_csv(birth_rate_dir_fk)\n",
    "df_birth_lr = pd.read_csv(birth_rate_dir_lr)\n",
    "#scale from kHz to Hz\n",
    "df_birth_fk['w']*=1e3\n",
    "df_birth_lr['w']*=1e3\n",
    "# DONE: compute powerlaw fits of birth rates wjr\n",
    "print(f\"creation rate density powerlaw fits:\")\n",
    "dict_fit_birth_fk = print_fit_power_law(x=df_birth_fk['q'].values,y=df_birth_fk['w'].values)\n",
    "dict_fit_birth_lr = print_fit_power_law(x=df_birth_lr['q'].values,y=df_birth_lr['w'].values)"
   ]
  },
  {
   "cell_type": "code",
   "execution_count": 8,
   "id": "94333d51",
   "metadata": {
    "ExecuteTime": {
     "end_time": "2023-08-17T01:22:52.689754Z",
     "start_time": "2023-08-17T01:22:52.687043Z"
    }
   },
   "outputs": [],
   "source": [
    "Mp=dict_fit_birth_fk['M']\n",
    "nup=dict_fit_birth_fk['m']\n",
    "\n",
    "# Mp=dict_fit_birth_lr['M']\n",
    "# nup=dict_fit_birth_lr['m']"
   ]
  },
  {
   "cell_type": "markdown",
   "id": "ed76b73e",
   "metadata": {
    "heading_collapsed": true
   },
   "source": [
    "# generate video of the LPM with creation"
   ]
  },
  {
   "cell_type": "code",
   "execution_count": 8,
   "id": "a5812cad",
   "metadata": {
    "ExecuteTime": {
     "end_time": "2023-08-11T19:48:28.962303Z",
     "start_time": "2023-08-11T19:48:28.957662Z"
    },
    "hidden": true
   },
   "outputs": [],
   "source": [
    "from numpy.random import MT19937\n",
    "from numpy.random import RandomState, SeedSequence\n",
    "# seed=0\n",
    "# seed=1\n",
    "seed=2\n",
    "# seed=3\n",
    "# seed=4\n",
    "# seed=5\n",
    "# seed=6\n",
    "# seed=42\n",
    "\n",
    "#random number stream A\n",
    "rs = RandomState(MT19937(SeedSequence(seed)))\n",
    "#random number stream B\n",
    "# rs = RandomState(MT19937(SeedSequence(987654321)))\n",
    "np.random.seed(seed)"
   ]
  },
  {
   "cell_type": "code",
   "execution_count": 9,
   "id": "5fc007e0",
   "metadata": {
    "ExecuteTime": {
     "end_time": "2023-08-11T19:48:30.915694Z",
     "start_time": "2023-08-11T19:48:30.912673Z"
    },
    "hidden": true
   },
   "outputs": [],
   "source": [
    "#FK\n",
    "# Mp = 0.8642103569057054 # +/- 0.002349 Hz/cm^2\n",
    "# nup = 0.22959399086621063 #+/- 0.010098\n",
    "Mp  = 0.864 #+/- 0.002 Hz/cm^2\n",
    "nup = 0.230 #+/- 0.010"
   ]
  },
  {
   "cell_type": "code",
   "execution_count": 13,
   "id": "3b86a8e9",
   "metadata": {
    "ExecuteTime": {
     "end_time": "2023-07-20T21:49:40.606923Z",
     "start_time": "2023-07-20T21:49:40.604189Z"
    },
    "hidden": true
   },
   "outputs": [],
   "source": [
    "#LR\n",
    "# Mp = 3.2770725040489235 #+/- 0.102643 Hz/cm^2;\n",
    "# nup = 0.7147550082416185 #+/- 0.009768\n",
    "Mp = 3.28 #+/- 0.10 Hz/cm^2;\n",
    "nup = 0.715 #+/- 0.010\n",
    "\n",
    "# Mp=0 #COMMENT_HERE"
   ]
  },
  {
   "cell_type": "code",
   "execution_count": 14,
   "id": "a800427e",
   "metadata": {
    "ExecuteTime": {
     "end_time": "2023-07-20T21:49:41.257750Z",
     "start_time": "2023-07-20T21:49:41.255032Z"
    },
    "hidden": true
   },
   "outputs": [],
   "source": [
    "#DONE: copy annihilation algorithm here"
   ]
  },
  {
   "cell_type": "code",
   "execution_count": 15,
   "id": "5c4cc02d",
   "metadata": {
    "ExecuteTime": {
     "end_time": "2023-07-20T21:49:42.355270Z",
     "start_time": "2023-07-20T21:49:42.253010Z"
    },
    "hidden": true,
    "run_control": {
     "marked": true
    }
   },
   "outputs": [
    {
     "data": {
      "image/png": "[encoded data removed]",
      "text/plain": [
       "<Figure size 600x600 with 1 Axes>"
      ]
     },
     "metadata": {},
     "output_type": "display_data"
    }
   ],
   "source": [
    "show_movie=True\n",
    "# show_movie=False\n",
    "\n",
    "N=150 #max number of particles\n",
    "# N=2 \n",
    "Ninitial=2 #COMMENT_HERE\n",
    "# Nfinal=6 #~1m run time starting from Ninitial=N\n",
    "Nfinal=0 #~3m play time starting from Ninitial=N\n",
    "# Nfinal=2\n",
    "L=5\n",
    "# L=10\n",
    "np.random.seed(42)\n",
    "x_values=rs.uniform(size=N)*L\n",
    "y_values=rs.uniform(size=N)*L\n",
    "t=0\n",
    "use_uniform_ic=True\n",
    "use_uniform_ic=False\n",
    "if use_uniform_ic:\n",
    "    Nrow=4\n",
    "#     Nrow=10\n",
    "    #explicitely uniform ic.\n",
    "    uvals=np.linspace(0,L*Nrow/(Nrow+1),Nrow)\n",
    "    x_values,y_values=np.meshgrid(uvals,uvals)\n",
    "    x_values=x_values.flatten()+L/(2*(Nrow+1))\n",
    "    y_values=y_values.flatten()+L/(2*(Nrow+1))\n",
    "    #explicitely enter ^these values in my c simulation and run it\n",
    "    N = x_values.shape[0]\n",
    "    \n",
    "#return a scatter plot that may be saved as png\n",
    "if show_movie:\n",
    "    annotating=True\n",
    "    message='initial positions'\n",
    "    fig=ScatterPlotSnapshot(x_values,y_values,t,width=L,height=L,\n",
    "                            annotating=annotating,message=message,inch=6)\n",
    "    plt.show()"
   ]
  },
  {
   "cell_type": "code",
   "execution_count": 16,
   "id": "a3212a2f",
   "metadata": {
    "ExecuteTime": {
     "end_time": "2023-07-20T21:49:43.374351Z",
     "start_time": "2023-07-20T21:49:43.176473Z"
    },
    "hidden": true
   },
   "outputs": [],
   "source": [
    "if show_movie:\n",
    "    #for snapshot output\n",
    "    save_folder=f\"{nb_dir}/Figures/mov\"\n",
    "    if os.path.exists(save_folder):\n",
    "        #cleanse the old snapshot folder\n",
    "        shutil.rmtree(save_folder)\n",
    "    os.mkdir(save_folder)\n",
    "    frameno=1\n",
    "    save_fn=None\n",
    "    inch=6\n",
    "    annotating=True\n",
    "\n",
    "# message='without forces'\n",
    "# force_code=0\n",
    "# varkappa=0\n",
    "# message='with anti-spring forces'\n",
    "# force_code=1\n",
    "# varkappa=-5\n",
    "message='with particle creation'\n",
    "force_code=2\n",
    "# varkappa=1.552"
   ]
  },
  {
   "cell_type": "code",
   "execution_count": 17,
   "id": "68c266f0",
   "metadata": {
    "ExecuteTime": {
     "end_time": "2023-07-20T21:49:46.188611Z",
     "start_time": "2023-07-20T21:49:46.184196Z"
    },
    "hidden": true
   },
   "outputs": [],
   "source": [
    "#define model parameters\n",
    "# #FK\n",
    "# r=0.7 #cm \n",
    "# varkappa=1.552 #cm^2/s\n",
    "# D=0.115 #cm^2/s\n",
    "# # save_every=25\n",
    "# save_every=5\n",
    "# # save_every=1 #45 min\n",
    "\n",
    "#LR\n",
    "r=0.314 #cm \n",
    "varkappa=9.3 #cm^2/s\n",
    "D=0.42 #cm^2/s\n",
    "save_every=5 \n",
    "# save_every=1\n",
    "# save_every=1000000000\n",
    "# varkappa=0 #no attraction\n",
    "\n",
    "kappa=75 #Hz\n",
    "kappa=1e5 #Hz  #COMMENT HERE\n",
    "# varkappa=93 #cm^2/s #COMMENT HERE\n",
    "Dt=1e-5;dt=1e-5\n",
    "# tmax=500\n",
    "tmax=1 #s\n",
    "\n",
    "#for forces\n",
    "x0=5\n",
    "# no_repulsion=1\n",
    "# no_attraction=1\n",
    "no_repulsion=0\n",
    "no_attraction=0\n",
    "seed=123456789\n",
    "#skipping reflect,set_second, and neighbor functionality\n",
    "\n",
    "#define constants\n",
    "alpha=1. #ballistic\n",
    "alpha=2. #diffusive\n",
    "# alpha=1.5 #levy-esque  #gives wrong annihilation rates"
   ]
  },
  {
   "cell_type": "code",
   "execution_count": null,
   "id": "916251b1",
   "metadata": {
    "ExecuteTime": {
     "end_time": "2023-07-10T20:37:21.580232Z",
     "start_time": "2023-07-10T20:37:21.577597Z"
    },
    "hidden": true
   },
   "outputs": [],
   "source": []
  },
  {
   "cell_type": "code",
   "execution_count": 18,
   "id": "c140e75f",
   "metadata": {
    "ExecuteTime": {
     "end_time": "2023-07-20T21:49:51.631035Z",
     "start_time": "2023-07-20T21:49:47.496767Z"
    },
    "hidden": true
   },
   "outputs": [
    {
     "name": "stdout",
     "output_type": "stream",
     "text": [
      "running simulation...\n"
     ]
    },
    {
     "ename": "KeyboardInterrupt",
     "evalue": "",
     "output_type": "error",
     "traceback": [
      "\u001b[0;31m---------------------------------------------------------------------------\u001b[0m",
      "\u001b[0;31mKeyboardInterrupt\u001b[0m                         Traceback (most recent call last)",
      "\u001b[0;32m/var/folders/0h/p4cbb7yx22jbxm0qb47vhfbh0000gn/T/ipykernel_9728/2624769926.py\u001b[0m in \u001b[0;36m<module>\u001b[0;34m\u001b[0m\n\u001b[1;32m    303\u001b[0m             \u001b[0;32mif\u001b[0m \u001b[0mrecording_snapshots\u001b[0m\u001b[0;34m:\u001b[0m\u001b[0;34m\u001b[0m\u001b[0;34m\u001b[0m\u001b[0m\n\u001b[1;32m    304\u001b[0m                 \u001b[0;31m#save result as png\u001b[0m\u001b[0;34m\u001b[0m\u001b[0;34m\u001b[0m\u001b[0;34m\u001b[0m\u001b[0m\n\u001b[0;32m--> 305\u001b[0;31m                 SaveScatterPlotSnapshot(x_plot,y_plot,t,\n\u001b[0m\u001b[1;32m    306\u001b[0m                                         \u001b[0mc\u001b[0m\u001b[0;34m=\u001b[0m\u001b[0mc_plot\u001b[0m\u001b[0;34m,\u001b[0m\u001b[0;34m\u001b[0m\u001b[0;34m\u001b[0m\u001b[0m\n\u001b[1;32m    307\u001b[0m                                         \u001b[0mwidth\u001b[0m\u001b[0;34m=\u001b[0m\u001b[0mL\u001b[0m\u001b[0;34m,\u001b[0m\u001b[0mheight\u001b[0m\u001b[0;34m=\u001b[0m\u001b[0mL\u001b[0m\u001b[0;34m,\u001b[0m\u001b[0;34m\u001b[0m\u001b[0;34m\u001b[0m\u001b[0m\n",
      "\u001b[0;32m~/Documents/GitHub/bgmc/python/lib/viewer/gener_frames_scatterplot.py\u001b[0m in \u001b[0;36mSaveScatterPlotSnapshot\u001b[0;34m(x_values, y_values, t, width, height, frameno, save_folder, annotating, message, saving, inch, save_fn, **kwargs)\u001b[0m\n\u001b[1;32m     55\u001b[0m         \u001b[0;32mif\u001b[0m \u001b[0msave_fn\u001b[0m \u001b[0;32mis\u001b[0m \u001b[0;32mNone\u001b[0m\u001b[0;34m:\u001b[0m\u001b[0;34m\u001b[0m\u001b[0;34m\u001b[0m\u001b[0m\n\u001b[1;32m     56\u001b[0m             \u001b[0msave_fn\u001b[0m \u001b[0;34m=\u001b[0m \u001b[0;34mf\"img{frameno:07d}.png\"\u001b[0m\u001b[0;34m\u001b[0m\u001b[0;34m\u001b[0m\u001b[0m\n\u001b[0;32m---> 57\u001b[0;31m         plt.savefig(save_fn,dpi=720/inch, bbox_inches='tight',pad_inches=0,\n\u001b[0m\u001b[1;32m     58\u001b[0m                     facecolor='white');\n\u001b[1;32m     59\u001b[0m         \u001b[0mplt\u001b[0m\u001b[0;34m.\u001b[0m\u001b[0mclose\u001b[0m\u001b[0;34m(\u001b[0m\u001b[0;34m)\u001b[0m\u001b[0;34m\u001b[0m\u001b[0;34m\u001b[0m\u001b[0m\n",
      "\u001b[0;32m~/opt/miniconda3/envs/pyenv/lib/python3.9/site-packages/matplotlib/pyplot.py\u001b[0m in \u001b[0;36msavefig\u001b[0;34m(*args, **kwargs)\u001b[0m\n\u001b[1;32m    965\u001b[0m     \u001b[0mfig\u001b[0m \u001b[0;34m=\u001b[0m \u001b[0mgcf\u001b[0m\u001b[0;34m(\u001b[0m\u001b[0;34m)\u001b[0m\u001b[0;34m\u001b[0m\u001b[0;34m\u001b[0m\u001b[0m\n\u001b[1;32m    966\u001b[0m     \u001b[0mres\u001b[0m \u001b[0;34m=\u001b[0m \u001b[0mfig\u001b[0m\u001b[0;34m.\u001b[0m\u001b[0msavefig\u001b[0m\u001b[0;34m(\u001b[0m\u001b[0;34m*\u001b[0m\u001b[0margs\u001b[0m\u001b[0;34m,\u001b[0m \u001b[0;34m**\u001b[0m\u001b[0mkwargs\u001b[0m\u001b[0;34m)\u001b[0m\u001b[0;34m\u001b[0m\u001b[0;34m\u001b[0m\u001b[0m\n\u001b[0;32m--> 967\u001b[0;31m     \u001b[0mfig\u001b[0m\u001b[0;34m.\u001b[0m\u001b[0mcanvas\u001b[0m\u001b[0;34m.\u001b[0m\u001b[0mdraw_idle\u001b[0m\u001b[0;34m(\u001b[0m\u001b[0;34m)\u001b[0m   \u001b[0;31m# need this if 'transparent=True' to reset colors\u001b[0m\u001b[0;34m\u001b[0m\u001b[0;34m\u001b[0m\u001b[0m\n\u001b[0m\u001b[1;32m    968\u001b[0m     \u001b[0;32mreturn\u001b[0m \u001b[0mres\u001b[0m\u001b[0;34m\u001b[0m\u001b[0;34m\u001b[0m\u001b[0m\n\u001b[1;32m    969\u001b[0m \u001b[0;34m\u001b[0m\u001b[0m\n",
      "\u001b[0;32m~/opt/miniconda3/envs/pyenv/lib/python3.9/site-packages/matplotlib/backend_bases.py\u001b[0m in \u001b[0;36mdraw_idle\u001b[0;34m(self, *args, **kwargs)\u001b[0m\n\u001b[1;32m   2053\u001b[0m         \u001b[0;32mif\u001b[0m \u001b[0;32mnot\u001b[0m \u001b[0mself\u001b[0m\u001b[0;34m.\u001b[0m\u001b[0m_is_idle_drawing\u001b[0m\u001b[0;34m:\u001b[0m\u001b[0;34m\u001b[0m\u001b[0;34m\u001b[0m\u001b[0m\n\u001b[1;32m   2054\u001b[0m             \u001b[0;32mwith\u001b[0m \u001b[0mself\u001b[0m\u001b[0;34m.\u001b[0m\u001b[0m_idle_draw_cntx\u001b[0m\u001b[0;34m(\u001b[0m\u001b[0;34m)\u001b[0m\u001b[0;34m:\u001b[0m\u001b[0;34m\u001b[0m\u001b[0;34m\u001b[0m\u001b[0m\n\u001b[0;32m-> 2055\u001b[0;31m                 \u001b[0mself\u001b[0m\u001b[0;34m.\u001b[0m\u001b[0mdraw\u001b[0m\u001b[0;34m(\u001b[0m\u001b[0;34m*\u001b[0m\u001b[0margs\u001b[0m\u001b[0;34m,\u001b[0m \u001b[0;34m**\u001b[0m\u001b[0mkwargs\u001b[0m\u001b[0;34m)\u001b[0m\u001b[0;34m\u001b[0m\u001b[0;34m\u001b[0m\u001b[0m\n\u001b[0m\u001b[1;32m   2056\u001b[0m \u001b[0;34m\u001b[0m\u001b[0m\n\u001b[1;32m   2057\u001b[0m     \u001b[0;32mdef\u001b[0m \u001b[0mget_width_height\u001b[0m\u001b[0;34m(\u001b[0m\u001b[0mself\u001b[0m\u001b[0;34m)\u001b[0m\u001b[0;34m:\u001b[0m\u001b[0;34m\u001b[0m\u001b[0;34m\u001b[0m\u001b[0m\n",
      "\u001b[0;32m~/opt/miniconda3/envs/pyenv/lib/python3.9/site-packages/matplotlib/backends/backend_agg.py\u001b[0m in \u001b[0;36mdraw\u001b[0;34m(self)\u001b[0m\n\u001b[1;32m    404\u001b[0m              (self.toolbar._wait_cursor_for_draw_cm() if self.toolbar\n\u001b[1;32m    405\u001b[0m               else nullcontext()):\n\u001b[0;32m--> 406\u001b[0;31m             \u001b[0mself\u001b[0m\u001b[0;34m.\u001b[0m\u001b[0mfigure\u001b[0m\u001b[0;34m.\u001b[0m\u001b[0mdraw\u001b[0m\u001b[0;34m(\u001b[0m\u001b[0mself\u001b[0m\u001b[0;34m.\u001b[0m\u001b[0mrenderer\u001b[0m\u001b[0;34m)\u001b[0m\u001b[0;34m\u001b[0m\u001b[0;34m\u001b[0m\u001b[0m\n\u001b[0m\u001b[1;32m    407\u001b[0m             \u001b[0;31m# A GUI class may be need to update a window using this draw, so\u001b[0m\u001b[0;34m\u001b[0m\u001b[0;34m\u001b[0m\u001b[0;34m\u001b[0m\u001b[0m\n\u001b[1;32m    408\u001b[0m             \u001b[0;31m# don't forget to call the superclass.\u001b[0m\u001b[0;34m\u001b[0m\u001b[0;34m\u001b[0m\u001b[0;34m\u001b[0m\u001b[0m\n",
      "\u001b[0;32m~/opt/miniconda3/envs/pyenv/lib/python3.9/site-packages/matplotlib/artist.py\u001b[0m in \u001b[0;36mdraw_wrapper\u001b[0;34m(artist, renderer, *args, **kwargs)\u001b[0m\n\u001b[1;32m     72\u001b[0m     \u001b[0;34m@\u001b[0m\u001b[0mwraps\u001b[0m\u001b[0;34m(\u001b[0m\u001b[0mdraw\u001b[0m\u001b[0;34m)\u001b[0m\u001b[0;34m\u001b[0m\u001b[0;34m\u001b[0m\u001b[0m\n\u001b[1;32m     73\u001b[0m     \u001b[0;32mdef\u001b[0m \u001b[0mdraw_wrapper\u001b[0m\u001b[0;34m(\u001b[0m\u001b[0martist\u001b[0m\u001b[0;34m,\u001b[0m \u001b[0mrenderer\u001b[0m\u001b[0;34m,\u001b[0m \u001b[0;34m*\u001b[0m\u001b[0margs\u001b[0m\u001b[0;34m,\u001b[0m \u001b[0;34m**\u001b[0m\u001b[0mkwargs\u001b[0m\u001b[0;34m)\u001b[0m\u001b[0;34m:\u001b[0m\u001b[0;34m\u001b[0m\u001b[0;34m\u001b[0m\u001b[0m\n\u001b[0;32m---> 74\u001b[0;31m         \u001b[0mresult\u001b[0m \u001b[0;34m=\u001b[0m \u001b[0mdraw\u001b[0m\u001b[0;34m(\u001b[0m\u001b[0martist\u001b[0m\u001b[0;34m,\u001b[0m \u001b[0mrenderer\u001b[0m\u001b[0;34m,\u001b[0m \u001b[0;34m*\u001b[0m\u001b[0margs\u001b[0m\u001b[0;34m,\u001b[0m \u001b[0;34m**\u001b[0m\u001b[0mkwargs\u001b[0m\u001b[0;34m)\u001b[0m\u001b[0;34m\u001b[0m\u001b[0;34m\u001b[0m\u001b[0m\n\u001b[0m\u001b[1;32m     75\u001b[0m         \u001b[0;32mif\u001b[0m \u001b[0mrenderer\u001b[0m\u001b[0;34m.\u001b[0m\u001b[0m_rasterizing\u001b[0m\u001b[0;34m:\u001b[0m\u001b[0;34m\u001b[0m\u001b[0;34m\u001b[0m\u001b[0m\n\u001b[1;32m     76\u001b[0m             \u001b[0mrenderer\u001b[0m\u001b[0;34m.\u001b[0m\u001b[0mstop_rasterizing\u001b[0m\u001b[0;34m(\u001b[0m\u001b[0;34m)\u001b[0m\u001b[0;34m\u001b[0m\u001b[0;34m\u001b[0m\u001b[0m\n",
      "\u001b[0;32m~/opt/miniconda3/envs/pyenv/lib/python3.9/site-packages/matplotlib/artist.py\u001b[0m in \u001b[0;36mdraw_wrapper\u001b[0;34m(artist, renderer, *args, **kwargs)\u001b[0m\n\u001b[1;32m     49\u001b[0m                 \u001b[0mrenderer\u001b[0m\u001b[0;34m.\u001b[0m\u001b[0mstart_filter\u001b[0m\u001b[0;34m(\u001b[0m\u001b[0;34m)\u001b[0m\u001b[0;34m\u001b[0m\u001b[0;34m\u001b[0m\u001b[0m\n\u001b[1;32m     50\u001b[0m \u001b[0;34m\u001b[0m\u001b[0m\n\u001b[0;32m---> 51\u001b[0;31m             \u001b[0;32mreturn\u001b[0m \u001b[0mdraw\u001b[0m\u001b[0;34m(\u001b[0m\u001b[0martist\u001b[0m\u001b[0;34m,\u001b[0m \u001b[0mrenderer\u001b[0m\u001b[0;34m,\u001b[0m \u001b[0;34m*\u001b[0m\u001b[0margs\u001b[0m\u001b[0;34m,\u001b[0m \u001b[0;34m**\u001b[0m\u001b[0mkwargs\u001b[0m\u001b[0;34m)\u001b[0m\u001b[0;34m\u001b[0m\u001b[0;34m\u001b[0m\u001b[0m\n\u001b[0m\u001b[1;32m     52\u001b[0m         \u001b[0;32mfinally\u001b[0m\u001b[0;34m:\u001b[0m\u001b[0;34m\u001b[0m\u001b[0;34m\u001b[0m\u001b[0m\n\u001b[1;32m     53\u001b[0m             \u001b[0;32mif\u001b[0m \u001b[0martist\u001b[0m\u001b[0;34m.\u001b[0m\u001b[0mget_agg_filter\u001b[0m\u001b[0;34m(\u001b[0m\u001b[0;34m)\u001b[0m \u001b[0;32mis\u001b[0m \u001b[0;32mnot\u001b[0m \u001b[0;32mNone\u001b[0m\u001b[0;34m:\u001b[0m\u001b[0;34m\u001b[0m\u001b[0;34m\u001b[0m\u001b[0m\n",
      "\u001b[0;32m~/opt/miniconda3/envs/pyenv/lib/python3.9/site-packages/matplotlib/figure.py\u001b[0m in \u001b[0;36mdraw\u001b[0;34m(self, renderer)\u001b[0m\n\u001b[1;32m   2788\u001b[0m \u001b[0;34m\u001b[0m\u001b[0m\n\u001b[1;32m   2789\u001b[0m             \u001b[0mself\u001b[0m\u001b[0;34m.\u001b[0m\u001b[0mpatch\u001b[0m\u001b[0;34m.\u001b[0m\u001b[0mdraw\u001b[0m\u001b[0;34m(\u001b[0m\u001b[0mrenderer\u001b[0m\u001b[0;34m)\u001b[0m\u001b[0;34m\u001b[0m\u001b[0;34m\u001b[0m\u001b[0m\n\u001b[0;32m-> 2790\u001b[0;31m             mimage._draw_list_compositing_images(\n\u001b[0m\u001b[1;32m   2791\u001b[0m                 renderer, self, artists, self.suppressComposite)\n\u001b[1;32m   2792\u001b[0m \u001b[0;34m\u001b[0m\u001b[0m\n",
      "\u001b[0;32m~/opt/miniconda3/envs/pyenv/lib/python3.9/site-packages/matplotlib/image.py\u001b[0m in \u001b[0;36m_draw_list_compositing_images\u001b[0;34m(renderer, parent, artists, suppress_composite)\u001b[0m\n\u001b[1;32m    130\u001b[0m     \u001b[0;32mif\u001b[0m \u001b[0mnot_composite\u001b[0m \u001b[0;32mor\u001b[0m \u001b[0;32mnot\u001b[0m \u001b[0mhas_images\u001b[0m\u001b[0;34m:\u001b[0m\u001b[0;34m\u001b[0m\u001b[0;34m\u001b[0m\u001b[0m\n\u001b[1;32m    131\u001b[0m         \u001b[0;32mfor\u001b[0m \u001b[0ma\u001b[0m \u001b[0;32min\u001b[0m \u001b[0martists\u001b[0m\u001b[0;34m:\u001b[0m\u001b[0;34m\u001b[0m\u001b[0;34m\u001b[0m\u001b[0m\n\u001b[0;32m--> 132\u001b[0;31m             \u001b[0ma\u001b[0m\u001b[0;34m.\u001b[0m\u001b[0mdraw\u001b[0m\u001b[0;34m(\u001b[0m\u001b[0mrenderer\u001b[0m\u001b[0;34m)\u001b[0m\u001b[0;34m\u001b[0m\u001b[0;34m\u001b[0m\u001b[0m\n\u001b[0m\u001b[1;32m    133\u001b[0m     \u001b[0;32melse\u001b[0m\u001b[0;34m:\u001b[0m\u001b[0;34m\u001b[0m\u001b[0;34m\u001b[0m\u001b[0m\n\u001b[1;32m    134\u001b[0m         \u001b[0;31m# Composite any adjacent images together\u001b[0m\u001b[0;34m\u001b[0m\u001b[0;34m\u001b[0m\u001b[0;34m\u001b[0m\u001b[0m\n",
      "\u001b[0;32m~/opt/miniconda3/envs/pyenv/lib/python3.9/site-packages/matplotlib/artist.py\u001b[0m in \u001b[0;36mdraw_wrapper\u001b[0;34m(artist, renderer, *args, **kwargs)\u001b[0m\n\u001b[1;32m     49\u001b[0m                 \u001b[0mrenderer\u001b[0m\u001b[0;34m.\u001b[0m\u001b[0mstart_filter\u001b[0m\u001b[0;34m(\u001b[0m\u001b[0;34m)\u001b[0m\u001b[0;34m\u001b[0m\u001b[0;34m\u001b[0m\u001b[0m\n\u001b[1;32m     50\u001b[0m \u001b[0;34m\u001b[0m\u001b[0m\n\u001b[0;32m---> 51\u001b[0;31m             \u001b[0;32mreturn\u001b[0m \u001b[0mdraw\u001b[0m\u001b[0;34m(\u001b[0m\u001b[0martist\u001b[0m\u001b[0;34m,\u001b[0m \u001b[0mrenderer\u001b[0m\u001b[0;34m,\u001b[0m \u001b[0;34m*\u001b[0m\u001b[0margs\u001b[0m\u001b[0;34m,\u001b[0m \u001b[0;34m**\u001b[0m\u001b[0mkwargs\u001b[0m\u001b[0;34m)\u001b[0m\u001b[0;34m\u001b[0m\u001b[0;34m\u001b[0m\u001b[0m\n\u001b[0m\u001b[1;32m     52\u001b[0m         \u001b[0;32mfinally\u001b[0m\u001b[0;34m:\u001b[0m\u001b[0;34m\u001b[0m\u001b[0;34m\u001b[0m\u001b[0m\n\u001b[1;32m     53\u001b[0m             \u001b[0;32mif\u001b[0m \u001b[0martist\u001b[0m\u001b[0;34m.\u001b[0m\u001b[0mget_agg_filter\u001b[0m\u001b[0;34m(\u001b[0m\u001b[0;34m)\u001b[0m \u001b[0;32mis\u001b[0m \u001b[0;32mnot\u001b[0m \u001b[0;32mNone\u001b[0m\u001b[0;34m:\u001b[0m\u001b[0;34m\u001b[0m\u001b[0;34m\u001b[0m\u001b[0m\n",
      "\u001b[0;32m~/opt/miniconda3/envs/pyenv/lib/python3.9/site-packages/matplotlib/_api/deprecation.py\u001b[0m in \u001b[0;36mwrapper\u001b[0;34m(*inner_args, **inner_kwargs)\u001b[0m\n\u001b[1;32m    429\u001b[0m                          \u001b[0;32melse\u001b[0m \u001b[0mdeprecation_addendum\u001b[0m\u001b[0;34m,\u001b[0m\u001b[0;34m\u001b[0m\u001b[0;34m\u001b[0m\u001b[0m\n\u001b[1;32m    430\u001b[0m                 **kwargs)\n\u001b[0;32m--> 431\u001b[0;31m         \u001b[0;32mreturn\u001b[0m \u001b[0mfunc\u001b[0m\u001b[0;34m(\u001b[0m\u001b[0;34m*\u001b[0m\u001b[0minner_args\u001b[0m\u001b[0;34m,\u001b[0m \u001b[0;34m**\u001b[0m\u001b[0minner_kwargs\u001b[0m\u001b[0;34m)\u001b[0m\u001b[0;34m\u001b[0m\u001b[0;34m\u001b[0m\u001b[0m\n\u001b[0m\u001b[1;32m    432\u001b[0m \u001b[0;34m\u001b[0m\u001b[0m\n\u001b[1;32m    433\u001b[0m     \u001b[0;32mreturn\u001b[0m \u001b[0mwrapper\u001b[0m\u001b[0;34m\u001b[0m\u001b[0;34m\u001b[0m\u001b[0m\n",
      "\u001b[0;32m~/opt/miniconda3/envs/pyenv/lib/python3.9/site-packages/matplotlib/axes/_base.py\u001b[0m in \u001b[0;36mdraw\u001b[0;34m(self, renderer, inframe)\u001b[0m\n\u001b[1;32m   2879\u001b[0m                 \u001b[0martists\u001b[0m\u001b[0;34m.\u001b[0m\u001b[0mremove\u001b[0m\u001b[0;34m(\u001b[0m\u001b[0mspine\u001b[0m\u001b[0;34m)\u001b[0m\u001b[0;34m\u001b[0m\u001b[0;34m\u001b[0m\u001b[0m\n\u001b[1;32m   2880\u001b[0m \u001b[0;34m\u001b[0m\u001b[0m\n\u001b[0;32m-> 2881\u001b[0;31m         \u001b[0mself\u001b[0m\u001b[0;34m.\u001b[0m\u001b[0m_update_title_position\u001b[0m\u001b[0;34m(\u001b[0m\u001b[0mrenderer\u001b[0m\u001b[0;34m)\u001b[0m\u001b[0;34m\u001b[0m\u001b[0;34m\u001b[0m\u001b[0m\n\u001b[0m\u001b[1;32m   2882\u001b[0m \u001b[0;34m\u001b[0m\u001b[0m\n\u001b[1;32m   2883\u001b[0m         \u001b[0;32mif\u001b[0m \u001b[0;32mnot\u001b[0m \u001b[0mself\u001b[0m\u001b[0;34m.\u001b[0m\u001b[0maxison\u001b[0m \u001b[0;32mor\u001b[0m \u001b[0minframe\u001b[0m\u001b[0;34m:\u001b[0m\u001b[0;34m\u001b[0m\u001b[0;34m\u001b[0m\u001b[0m\n",
      "\u001b[0;32m~/opt/miniconda3/envs/pyenv/lib/python3.9/site-packages/matplotlib/axes/_base.py\u001b[0m in \u001b[0;36m_update_title_position\u001b[0;34m(self, renderer)\u001b[0m\n\u001b[1;32m   2820\u001b[0m                 \u001b[0m_log\u001b[0m\u001b[0;34m.\u001b[0m\u001b[0mdebug\u001b[0m\u001b[0;34m(\u001b[0m\u001b[0;34m'top of axes not in the figure, so title not moved'\u001b[0m\u001b[0;34m)\u001b[0m\u001b[0;34m\u001b[0m\u001b[0;34m\u001b[0m\u001b[0m\n\u001b[1;32m   2821\u001b[0m                 \u001b[0;32mreturn\u001b[0m\u001b[0;34m\u001b[0m\u001b[0;34m\u001b[0m\u001b[0m\n\u001b[0;32m-> 2822\u001b[0;31m             \u001b[0;32mif\u001b[0m \u001b[0mtitle\u001b[0m\u001b[0;34m.\u001b[0m\u001b[0mget_window_extent\u001b[0m\u001b[0;34m(\u001b[0m\u001b[0mrenderer\u001b[0m\u001b[0;34m)\u001b[0m\u001b[0;34m.\u001b[0m\u001b[0mymin\u001b[0m \u001b[0;34m<\u001b[0m \u001b[0mtop\u001b[0m\u001b[0;34m:\u001b[0m\u001b[0;34m\u001b[0m\u001b[0;34m\u001b[0m\u001b[0m\n\u001b[0m\u001b[1;32m   2823\u001b[0m                 \u001b[0m_\u001b[0m\u001b[0;34m,\u001b[0m \u001b[0my\u001b[0m \u001b[0;34m=\u001b[0m \u001b[0mself\u001b[0m\u001b[0;34m.\u001b[0m\u001b[0mtransAxes\u001b[0m\u001b[0;34m.\u001b[0m\u001b[0minverted\u001b[0m\u001b[0;34m(\u001b[0m\u001b[0;34m)\u001b[0m\u001b[0;34m.\u001b[0m\u001b[0mtransform\u001b[0m\u001b[0;34m(\u001b[0m\u001b[0;34m(\u001b[0m\u001b[0;36m0\u001b[0m\u001b[0;34m,\u001b[0m \u001b[0mtop\u001b[0m\u001b[0;34m)\u001b[0m\u001b[0;34m)\u001b[0m\u001b[0;34m\u001b[0m\u001b[0;34m\u001b[0m\u001b[0m\n\u001b[1;32m   2824\u001b[0m                 \u001b[0mtitle\u001b[0m\u001b[0;34m.\u001b[0m\u001b[0mset_position\u001b[0m\u001b[0;34m(\u001b[0m\u001b[0;34m(\u001b[0m\u001b[0mx\u001b[0m\u001b[0;34m,\u001b[0m \u001b[0my\u001b[0m\u001b[0;34m)\u001b[0m\u001b[0;34m)\u001b[0m\u001b[0;34m\u001b[0m\u001b[0;34m\u001b[0m\u001b[0m\n",
      "\u001b[0;32m~/opt/miniconda3/envs/pyenv/lib/python3.9/site-packages/matplotlib/transforms.py\u001b[0m in \u001b[0;36mymin\u001b[0;34m(self)\u001b[0m\n\u001b[1;32m    332\u001b[0m     \u001b[0;32mdef\u001b[0m \u001b[0mymin\u001b[0m\u001b[0;34m(\u001b[0m\u001b[0mself\u001b[0m\u001b[0;34m)\u001b[0m\u001b[0;34m:\u001b[0m\u001b[0;34m\u001b[0m\u001b[0;34m\u001b[0m\u001b[0m\n\u001b[1;32m    333\u001b[0m         \u001b[0;34m\"\"\"The bottom edge of the bounding box.\"\"\"\u001b[0m\u001b[0;34m\u001b[0m\u001b[0;34m\u001b[0m\u001b[0m\n\u001b[0;32m--> 334\u001b[0;31m         \u001b[0;32mreturn\u001b[0m \u001b[0mnp\u001b[0m\u001b[0;34m.\u001b[0m\u001b[0mmin\u001b[0m\u001b[0;34m(\u001b[0m\u001b[0mself\u001b[0m\u001b[0;34m.\u001b[0m\u001b[0mget_points\u001b[0m\u001b[0;34m(\u001b[0m\u001b[0;34m)\u001b[0m\u001b[0;34m[\u001b[0m\u001b[0;34m:\u001b[0m\u001b[0;34m,\u001b[0m \u001b[0;36m1\u001b[0m\u001b[0;34m]\u001b[0m\u001b[0;34m)\u001b[0m\u001b[0;34m\u001b[0m\u001b[0;34m\u001b[0m\u001b[0m\n\u001b[0m\u001b[1;32m    335\u001b[0m \u001b[0;34m\u001b[0m\u001b[0m\n\u001b[1;32m    336\u001b[0m     \u001b[0;34m@\u001b[0m\u001b[0mproperty\u001b[0m\u001b[0;34m\u001b[0m\u001b[0;34m\u001b[0m\u001b[0m\n",
      "\u001b[0;31mKeyboardInterrupt\u001b[0m: "
     ]
    },
    {
     "data": {
      "image/png": "[encoded data removed]",
      "text/plain": [
       "<Figure size 600x600 with 1 Axes>"
      ]
     },
     "metadata": {},
     "output_type": "display_data"
    }
   ],
   "source": [
    "# message=f'with {alpha=}'\n",
    "message=' '\n",
    "stepscale=np.sqrt(2*D*Dt) #diffusive\n",
    "# stepscale=(2*D*Dt)**(1/alpha)\n",
    "probreact=kappa*dt\n",
    "T_net=0;count_net=0\n",
    "np.random.seed(seed)\n",
    "dist_cutoff=1e-2\n",
    "# iter_per_movestep = round(Dt/dt)\n",
    "impulse_prefactor= varkappa * Dt\n",
    "tiarray=np.zeros(N)\n",
    "tfarray=np.zeros(N)\n",
    "epsilon=5e-2  #reactions happen immediately at this range\n",
    "creation_duration = 0.0025 # 0.001 #s  # 0.1 #s\n",
    "# chi=20. # unitless value >1.  = repulsion_strength / attraction_strength\n",
    "chi=2.08 #±0.04 # LR # unitless value >1.  = repulsion_strength / attraction_strength\n",
    "# chi=2.94 #±0.04 # FK # unitless value >1.  = repulsion_strength / attraction_strength\n",
    "use_pair_create=True\n",
    "# use_pair_create=False\n",
    "use_set_created_from_existing=True\n",
    "# epsilon=5e-4  #reactions happen?\n",
    "#heretim\n",
    "#for csv output\n",
    "data_folder=f\"{nb_dir}/data/local_results/creation_test\"\n",
    "if not os.path.exists(data_folder):\n",
    "    os.mkdir(data_folder)\n",
    "data_folder=data_folder+\"/Log\"\n",
    "if not os.path.exists(data_folder):\n",
    "    os.mkdir(data_folder)\n",
    "data_fn=f\"pbc_seed_{seed}_fc_{force_code}_r_{r}_D_{D}_L_{L}_kappa_{kappa}_varkappa_{varkappa}_alpha_{alpha}_creatdur_{creation_duration}_chi_{chi}_log.csv\"\n",
    "\n",
    "step=0\n",
    "recording_locations=True\n",
    "recording_snapshots=True\n",
    "# recording_locations=False\n",
    "# recording_snapshots=False\n",
    "print(\"running simulation...\");\n",
    "t=-Dt\n",
    "# still_running=True;\n",
    "exit_code=-1;T=-9999.\n",
    "#initialize positions\n",
    "# #uniform random ic\n",
    "# x_values=rs.uniform(size=N)*L\n",
    "# y_values=rs.uniform(size=N)*L\n",
    "# #explicitely uniform ic\n",
    "# uvals=np.linspace(0,L,5)\n",
    "# x_values,y_values=np.meshgrid(uvals,uvals)\n",
    "# x_values=x_values.flatten()\n",
    "# y_values=y_values.flatten()\n",
    "\n",
    "#lower case: world coordinates\n",
    "#upper case: material coordinates\n",
    "x=x_values.copy()\n",
    "y=y_values.copy()\n",
    "x_old=x_values.copy()\n",
    "y_old=y_values.copy()\n",
    "x_new=x_values.copy()\n",
    "y_new=y_values.copy()\n",
    "X=x_values.copy()\n",
    "Y=y_values.copy()\n",
    "X_old=x_values.copy()\n",
    "Y_old=y_values.copy()\n",
    "X_new=x_values.copy()\n",
    "Y_new=y_values.copy()\n",
    "zeros=np.zeros_like(x_values)\n",
    "zerosint=np.zeros_like(x_values).astype('int')\n",
    "# still_running=zerosint==zerosint\n",
    "still_running=zerosint!=zerosint\n",
    "still_running[:Ninitial]=True  #initialize first Ninitial particles to still be running\n",
    "caught=zerosint.copy()-9999#!=zerosint\n",
    "anticaught=zerosint.copy()-9999#!=zerosint\n",
    "# //start set_second kernel\n",
    "# //end set_second kernel\n",
    "#make still_running into still_running_values\n",
    "dict_out_lst=[]\n",
    "# reset the net forces\n",
    "Fx_net=zeros.copy()\n",
    "Fy_net=zeros.copy()\n",
    "# while(still_running.any()):\n",
    "while(still_running.sum()>Nfinal):\n",
    "    # //reinitialize_kernel, which copies X,Y_new to X,Y_old\n",
    "    min_dist_old=zeros+9999999\n",
    "    i_neighbor=zerosint-1\n",
    "    x_old=x_new\n",
    "    y_old=y_new\n",
    "    t=t+Dt;\n",
    "\n",
    "    #sum_each_force_kernel\n",
    "    for i in range(N):\n",
    "        if(still_running[i]):\n",
    "            for j in range(i+1,N):\n",
    "                if(still_running[j]):\n",
    "                    #compute displacement vector with pbc\n",
    "                    dx = subtract_pbc_1d(x_old[j],x_old[i],L);\n",
    "                    dy = subtract_pbc_1d(y_old[j],y_old[i],L);\n",
    "                    dist2=dx*dx+dy*dy;\n",
    "                    if (dist2<1e-8):\n",
    "                        dist2=float(1e-8)\n",
    "                    dist = np.sqrt(dist2)\n",
    "                    #compute displacement due to drift\n",
    "                    impulse_factor=0.\n",
    "                    if (force_code==1):\n",
    "                      #spring\n",
    "                      impulse_factor=impulse_prefactor*(dist-x0)/dist;\n",
    "                    if (force_code==2):\n",
    "                      #QED2: force ~ inverse power law\n",
    "                      impulse_factor=impulse_prefactor/dist2;\n",
    "                    if (force_code==3):\n",
    "                      #QED3: force ~ inverse square power law\n",
    "                      impulse_factor=impulse_prefactor/dist2/dist;\n",
    "                    #set impulse_factor to zero if it is explicitly forbidden by the user input\n",
    "                    if ((no_attraction==1) & (impulse_factor>0)):\n",
    "                        impulse_factor=0.\n",
    "                    if ((no_repulsion==1) & (impulse_factor<0)):\n",
    "                        impulse_factor=0.\n",
    "                    #sum Fx_net, Fy_net according to a symplectic (momentum conserving) integrator\n",
    "                    Fx_net[i]=Fx_net[i]+dx*impulse_factor;\n",
    "                    Fy_net[i]=Fy_net[i]+dy*impulse_factor;\n",
    "                    Fx_net[j]=Fx_net[j]-dx*impulse_factor;\n",
    "                    Fy_net[j]=Fy_net[j]-dy*impulse_factor                    \n",
    "                    #determine if they are closer than epsilon\n",
    "                    if dist<epsilon:\n",
    "                        #remove if they are\n",
    "                        still_running[i]=False\n",
    "                        still_running[j]=False\n",
    "                        #heretim\n",
    "                        uncatch_set=set()\n",
    "                        if caught[i]>=0: \n",
    "                            uncatch_set.update([caught[i]])\n",
    "                            if caught[caught[i]]>=0:\n",
    "                                uncatch_set.update([caught[caught[i]]])\n",
    "                        if caught[j]>=0: \n",
    "                            uncatch_set.update([caught[j]])\n",
    "                            if caught[caught[j]]>=0:\n",
    "                                uncatch_set.update([caught[caught[j]]])\n",
    "                        if len(uncatch_set)>0:\n",
    "                            for k in uncatch_set:\n",
    "                                caught[k]=-9999\n",
    "    #compute the one_step given the net force, F_net\n",
    "    for i in range(N):\n",
    "        if(still_running[i]):\n",
    "            if caught[i]<0:\n",
    "                dxt=Fx_net[i];\n",
    "                dyt=Fy_net[i];\n",
    "                # compute displacement due to levy flight\n",
    "#                 dxW,dyW = stepscale*levyRandom2D(alpha)\n",
    "                dxW = stepscale*normalRandom()\n",
    "                dyW = stepscale*normalRandom()\n",
    "                # next spatial position, time integrating by a duration, Dt. enforce PBC.\n",
    "                x_new[i]=periodic(x_old[i]+dxW+dxt,L);\n",
    "                y_new[i]=periodic(y_old[i]+dyW+dyt,L);\n",
    "            else:\n",
    "                j=caught[i]\n",
    "                ti=tiarray[i]\n",
    "                tf=tfarray[i]            \n",
    "                #compute displacement vector with pbc\n",
    "                dx = subtract_pbc_1d(x_old[j],x_old[i],L)\n",
    "                dy = subtract_pbc_1d(y_old[j],y_old[i],L)      \n",
    "                xl = dx - (x_old[j]-x_old[i])\n",
    "                yl = dy - (y_old[j]-y_old[i])\n",
    "                #compute average location\n",
    "                xavg = x_old[i] + 0.5*dx \n",
    "                yavg = y_old[i] + 0.5*dy\n",
    "                #compute frac to interpolate by\n",
    "                frac = (t-ti)/(tf-ti)\n",
    "                frac = np.min((1,frac))\n",
    "                x_new[i] = periodic(x_old[i]*(1-frac) + (xavg+xl)*frac,L)\n",
    "                y_new[i] = periodic(y_old[i]*(1-frac) + (yavg+yl)*frac,L)\n",
    "    #reaction_kernel\n",
    "    for i in range(N):\n",
    "        if(still_running[i]&(caught[i]<0)):\n",
    "            # // each i,j pair is reached once per call to kernel_measure\n",
    "            for j in range(i+1,N):\n",
    "                if(still_running[j]&(caught[j]<0)):\n",
    "                    # // compute distance between particles that are still running\n",
    "                    dist=dist_pbc(x_new[i],y_new[i],x_new[j],y_new[j],L);\n",
    "                    in_range=dist<r;\n",
    "                    # // in_range=true;//uncomment for smeared method\n",
    "                    # // if two particles are in range\n",
    "                    if(in_range):\n",
    "                        # // determine whether those two particles react via the simple method\n",
    "                        reacts=probreact>uniformRandom();\n",
    "                        # // determine whether those two particles react via the smeared method\n",
    "                        # // sig=sigmoid(dist, r, beta);\n",
    "                        # // reacts=probreact*sig>uniformRandom();\n",
    "                        if(reacts):\n",
    "                            exit_code=1;\n",
    "                            T=t;\n",
    "#                             still_running[i]=False;\n",
    "#                             still_running[j]=False;\n",
    "                            #uncatch any previous catches\n",
    "                            if caught[i]>=0: caught[caught[i]]=-9999\n",
    "                            if caught[j]>=0: caught[caught[j]]=-9999\n",
    "                            #catch these two\n",
    "                            caught[i]=j;\n",
    "                            caught[j]=i;\n",
    "                            #determine deltat\n",
    "                            deltat = dist**2/(4*(varkappa+2*D))\n",
    "                            #determine ti,tf\n",
    "                            tiarray[i]=t\n",
    "                            tfarray[i]=t+deltat\n",
    "                            tiarray[j]=t\n",
    "                            tfarray[j]=t+deltat\n",
    "\n",
    "    \n",
    "    #determine rate_of_creation from average density\n",
    "    num_particles = np.sum(still_running)\n",
    "    A = L**2\n",
    "    prob_create = dt * Mp * (num_particles / A) ** nup * A\n",
    "    #creation_kernel\n",
    "    if prob_create>np.random.uniform():\n",
    "        if np.sum(~still_running)>=2:\n",
    "            #select the first two particles that are removed\n",
    "            igone=np.argwhere(~still_running)\n",
    "            \n",
    "            #set their positions to 2 uniformly distributed positions\n",
    "            x_new[igone[0]]=np.random.uniform()*L\n",
    "            x_new[igone[1]]=np.random.uniform()*L\n",
    "            y_new[igone[0]]=np.random.uniform()*L\n",
    "            y_new[igone[1]]=np.random.uniform()*L\n",
    "\n",
    "            #optionally set their positions to average a random location\n",
    "            if use_pair_create:\n",
    "                #optionally set their positions be a fixed distance to nearest tip\n",
    "                if use_set_created_from_existing:\n",
    "                    #place a pair of particles uniformly on the circle of radius R_c_bar from a random particle\n",
    "                    xg,yg=gener_random_creation_position(x_new,y_new,still_running,R_c_bar,L)\n",
    "                    x_new[igone[0]] = xg\n",
    "                    y_new[igone[0]] = yg\n",
    "                theta=2*np.pi*np.random.uniform(0,1)\n",
    "                x_new[igone[1]]=x_new[igone[0]] + 2.*r*np.cos(theta)\n",
    "                y_new[igone[1]]=y_new[igone[0]] + 2.*r*np.sin(theta)\n",
    "\n",
    "            still_running[igone[0]]=True\n",
    "            still_running[igone[1]]=True\n",
    "            caught[igone[0]]=-9999\n",
    "            caught[igone[1]]=-9999\n",
    "            anticaught[igone[0]]=igone[1]\n",
    "            anticaught[igone[1]]=igone[0]\n",
    "            tfarray[igone[0]]=t+creation_duration\n",
    "            tfarray[igone[1]]=t+creation_duration\n",
    "                \n",
    "    # reset the net forces\n",
    "    Fx_net=zeros.copy()\n",
    "    Fy_net=zeros.copy()\n",
    "    #creation_force_kernel\n",
    "    if use_pair_create:\n",
    "        for i in range(N):\n",
    "            if(still_running[i]&(anticaught[i]>=0)):\n",
    "                j = anticaught[i]\n",
    "                if still_running[j]:\n",
    "                    #compute displacement vector with pbc\n",
    "                    dx = subtract_pbc_1d(x_old[j],x_old[i],L);\n",
    "                    dy = subtract_pbc_1d(y_old[j],y_old[i],L);\n",
    "                    dist2=dx*dx+dy*dy;\n",
    "                    if (dist2<1e-8):\n",
    "                        dist2=float(1e-8)\n",
    "                    dist = np.sqrt(dist2)\n",
    "                    #compute displacement due to drift\n",
    "                    impulse_factor=0.\n",
    "                    if (force_code==1):\n",
    "                      #spring\n",
    "                      impulse_factor=impulse_prefactor*(dist-x0)/dist;\n",
    "                    if (force_code==2):\n",
    "                      #QED2: force ~ inverse power law\n",
    "                      impulse_factor=impulse_prefactor/dist2;\n",
    "                    if (force_code==3):\n",
    "                      #QED3: force ~ inverse square power law\n",
    "                      impulse_factor=impulse_prefactor/dist2/dist;\n",
    "                    #set impulse_factor to zero if it is explicitly forbidden by the user input\n",
    "                    if ((no_attraction==1) & (impulse_factor<0)):\n",
    "                        impulse_factor=0.\n",
    "                    if ((no_repulsion==1) & (impulse_factor>0)):\n",
    "                        impulse_factor=0.\n",
    "                    #account for double counting and then scale\n",
    "                    impulse_factor*=0.5*chi\n",
    "                    #sum Fx_net, Fy_net according to a symplectic (momentum conserving) integrator\n",
    "                    Fx_net[i]=Fx_net[i]-dx*impulse_factor;\n",
    "                    Fy_net[i]=Fy_net[i]-dy*impulse_factor;\n",
    "                    Fx_net[j]=Fx_net[j]+dx*impulse_factor;\n",
    "                    Fy_net[j]=Fy_net[j]+dy*impulse_factor \n",
    "    \n",
    "    #turn off creation array\n",
    "    for i in range(N):\n",
    "        if still_running[i] and anticaught[i]>=0:\n",
    "            if t>tfarray[i]:\n",
    "                anticaught[i]=-9999\n",
    "                    \n",
    "    if show_movie:\n",
    "        if step%save_every==0:\n",
    "            x_plot=x_new[still_running]\n",
    "            y_plot=y_new[still_running]\n",
    "            c_plot = np.array(['gray']*y_plot.shape[0])\n",
    "            caugh=caught[still_running]\n",
    "            for i in range(y_plot.shape[0]):\n",
    "                if caugh[i]>=0:\n",
    "                    c_plot[i]='r'\n",
    "            acaugh=anticaught[still_running]\n",
    "            for i in range(y_plot.shape[0]):\n",
    "                if acaugh[i]>=0:\n",
    "                    c_plot[i]='g'\n",
    "\n",
    "            if recording_snapshots:\n",
    "                #save result as png\n",
    "                SaveScatterPlotSnapshot(x_plot,y_plot,t,\n",
    "                                        c=c_plot,\n",
    "                                        width=L,height=L,\n",
    "                                frameno=frameno,save_folder=save_folder,\n",
    "                                annotating=annotating,message=message)\n",
    "    #             print(f\"- saved pic at {frameno=}\")\n",
    "            if (recording_locations)&(x_plot.shape[0]>0):\n",
    "                pid_values = np.arange(x_values.shape[0])[still_running]\n",
    "                #append particle locations to log, dict_out_lst\n",
    "                dict_out=format_particles(frameno,t,x_plot,y_plot,pid_values=pid_values)\n",
    "                dict_out_lst.append(dict_out)\n",
    "\n",
    "            frameno+=1\n",
    "\n",
    "    #shut simulation down if it's taking too long...\n",
    "    if (t>tmax):\n",
    "        for i in range(N):\n",
    "            still_running[i]=False;\n",
    "            exit_code=-99;\n",
    "    \n",
    "    step+=1\n",
    "    #end while running\n",
    "    \n",
    "#record this trial\n",
    "if (exit_code>0):\n",
    "    if (T>0.):\n",
    "        T_net=T_net+T;\n",
    "        count_net=count_net+1;\n",
    "    \n",
    "print(f\"simulation complete!\")\n",
    "beep(1)"
   ]
  },
  {
   "cell_type": "code",
   "execution_count": 19,
   "id": "1315ff8e",
   "metadata": {
    "ExecuteTime": {
     "end_time": "2023-07-20T21:49:54.737231Z",
     "start_time": "2023-07-20T21:49:54.733344Z"
    },
    "hidden": true
   },
   "outputs": [
    {
     "data": {
      "text/plain": [
       "-9998.99999"
      ]
     },
     "execution_count": 19,
     "metadata": {},
     "output_type": "execute_result"
    }
   ],
   "source": [
    "T+dt"
   ]
  },
  {
   "cell_type": "code",
   "execution_count": null,
   "id": "871c8c1b",
   "metadata": {
    "hidden": true
   },
   "outputs": [],
   "source": []
  },
  {
   "cell_type": "code",
   "execution_count": 20,
   "id": "8f0c0d5a",
   "metadata": {
    "ExecuteTime": {
     "end_time": "2023-07-20T21:50:02.976055Z",
     "start_time": "2023-07-20T21:50:02.972497Z"
    },
    "hidden": true
   },
   "outputs": [
    {
     "name": "stdout",
     "output_type": "stream",
     "text": [
      "termination time: 0.0029 s\n"
     ]
    }
   ],
   "source": [
    "#DONE: print termination time\n",
    "print(f\"termination time: {t:.4f} s\")\n",
    "# termination time: 0.0668 s"
   ]
  },
  {
   "cell_type": "code",
   "execution_count": 278,
   "id": "428305b3",
   "metadata": {
    "ExecuteTime": {
     "end_time": "2023-07-11T04:26:26.301732Z",
     "start_time": "2023-07-11T04:26:25.446781Z"
    },
    "hidden": true
   },
   "outputs": [
    {
     "name": "stdout",
     "output_type": "stream",
     "text": [
      "saved to:\n",
      "/Users/timothytyree/Documents/GitHub/bgmc/python/data/local_results/creation_test/Log/pbc_seed_123456789_fc_2_r_0.314_D_0.42_L_5_kappa_100000.0_varkappa_9.3_alpha_2.0_creatdur_0.0025_chi_2.08_log.csv\n"
     ]
    }
   ],
   "source": [
    "#save particle locations as csv\n",
    "saving=recording_locations\n",
    "# saving=False\n",
    "printing=True\n",
    "df = pd.concat([pd.DataFrame(dict_out) for dict_out in dict_out_lst])\n",
    "df.reset_index(inplace=True, drop=True)\n",
    "if saving:\n",
    "    #save the recorded data\n",
    "    os.chdir(data_folder)\n",
    "    df.to_csv(data_fn, index=False)\n",
    "    if printing:\n",
    "        print('saved to:')\n",
    "        print(os.path.abspath(data_fn))\n",
    "    #     #if the end of AF was indeed reachded, append a row recording this\n",
    "    #     if n_tips==0:\n",
    "    #         next_id = df.index.values[-1]+1\n",
    "    #         df = pd.concat([df,pd.DataFrame({'t': float(save_every_n_frames*h+t),'n': int(n_tips)}, index = [next_id])])\n",
    "    #save the recorded data\n",
    "#     #     df.round(round_output_decimals).to_csv(data_dir_log, index=False)\n",
    "#     if printing:\n",
    "#         print('saved to:')\n",
    "#         print(data_dir_log)"
   ]
  },
  {
   "cell_type": "code",
   "execution_count": 204,
   "id": "36c95a45",
   "metadata": {
    "ExecuteTime": {
     "end_time": "2023-08-11T19:28:43.736901Z",
     "start_time": "2023-08-11T19:28:43.715341Z"
    },
    "hidden": true
   },
   "outputs": [
    {
     "ename": "NameError",
     "evalue": "name 'data_fn' is not defined",
     "output_type": "error",
     "traceback": [
      "\u001b[0;31m---------------------------------------------------------------------------\u001b[0m",
      "\u001b[0;31mNameError\u001b[0m                                 Traceback (most recent call last)",
      "Input \u001b[0;32mIn [204]\u001b[0m, in \u001b[0;36m<cell line: 2>\u001b[0;34m()\u001b[0m\n\u001b[1;32m      1\u001b[0m \u001b[38;5;66;03m# /Users/timothytyree/Documents/GitHub/bgmc/python/data/local_results/creation_test/Log/pbc_seed_123456789_fc_2_r_0.314_D_0.42_L_5_kappa_100000.0_varkappa_9.3_alpha_2.0_creatdur_0.0025_chi_2.08_log.csv\u001b[39;00m\n\u001b[0;32m----> 2\u001b[0m \u001b[38;5;28mprint\u001b[39m(os\u001b[38;5;241m.\u001b[39mpath\u001b[38;5;241m.\u001b[39mabspath(\u001b[43mdata_fn\u001b[49m))\n",
      "\u001b[0;31mNameError\u001b[0m: name 'data_fn' is not defined"
     ]
    }
   ],
   "source": [
    "# /Users/timothytyree/Documents/GitHub/bgmc/python/data/local_results/creation_test/Log/pbc_seed_123456789_fc_2_r_0.314_D_0.42_L_5_kappa_100000.0_varkappa_9.3_alpha_2.0_creatdur_0.0025_chi_2.08_log.csv\n",
    "print(os.path.abspath(data_fn))"
   ]
  },
  {
   "cell_type": "code",
   "execution_count": 203,
   "id": "cb2965ac",
   "metadata": {
    "ExecuteTime": {
     "end_time": "2023-08-11T19:24:23.370809Z",
     "start_time": "2023-08-11T19:24:23.244189Z"
    },
    "hidden": true
   },
   "outputs": [
    {
     "name": "stdout",
     "output_type": "stream",
     "text": [
      "ffmpeg: error while loading shared libraries: libopenh264.so.5: cannot open shared object file: No such file or directory\r\n",
      "./concat_folder_png.sh: 33: source: not found\r\n",
      "ffmpeg: error while loading shared libraries: libopenh264.so.5: cannot open shared object file: No such file or directory\r\n",
      "ffmpeg: error while loading shared libraries: libopenh264.so.5: cannot open shared object file: No such file or directory\r\n",
      "ffmpeg: error while loading shared libraries: libopenh264.so.5: cannot open shared object file: No such file or directory\r\n",
      "ffmpeg: error while loading shared libraries: libopenh264.so.5: cannot open shared object file: No such file or directory\r\n",
      "ffmpeg: error while loading shared libraries: libopenh264.so.5: cannot open shared object file: No such file or directory\r\n"
     ]
    }
   ],
   "source": [
    "!./concat_folder_png.sh"
   ]
  },
  {
   "cell_type": "code",
   "execution_count": 24,
   "id": "8c716e50",
   "metadata": {
    "ExecuteTime": {
     "end_time": "2023-08-16T03:34:01.692868Z",
     "start_time": "2023-08-15T20:37:18.175535Z"
    },
    "hidden": true
   },
   "outputs": [
    {
     "name": "stderr",
     "output_type": "stream",
     "text": [
      "ffmpeg version 5.1.2 Copyright (c) 2000-2022 the FFmpeg developers\n",
      "  built with Apple clang version 14.0.0 (clang-1400.0.29.202)\n",
      "  configuration: --prefix=/usr/local/Cellar/ffmpeg/5.1.2_6 --enable-shared --enable-pthreads --enable-version3 --cc=clang --host-cflags= --host-ldflags= --enable-ffplay --enable-gnutls --enable-gpl --enable-libaom --enable-libaribb24 --enable-libbluray --enable-libdav1d --enable-libmp3lame --enable-libopus --enable-librav1e --enable-librist --enable-librubberband --enable-libsnappy --enable-libsrt --enable-libsvtav1 --enable-libtesseract --enable-libtheora --enable-libvidstab --enable-libvmaf --enable-libvorbis --enable-libvpx --enable-libwebp --enable-libx264 --enable-libx265 --enable-libxml2 --enable-libxvid --enable-lzma --enable-libfontconfig --enable-libfreetype --enable-frei0r --enable-libass --enable-libopencore-amrnb --enable-libopencore-amrwb --enable-libopenjpeg --enable-libspeex --enable-libsoxr --enable-libzmq --enable-libzimg --disable-libjack --disable-indev=jack --enable-videotoolbox\n",
      "  libavutil      57. 28.100 / 57. 28.100\n",
      "  libavcodec     59. 37.100 / 59. 37.100\n",
      "  libavformat    59. 27.100 / 59. 27.100\n",
      "  libavdevice    59.  7.100 / 59.  7.100\n",
      "  libavfilter     8. 44.100 /  8. 44.100\n",
      "  libswscale      6.  7.100 /  6.  7.100\n",
      "  libswresample   4.  7.100 /  4.  7.100\n",
      "  libpostproc    56.  6.100 / 56.  6.100\n",
      "Input #0, image2, from '../../python/Figures/mov/img%07d.png':\n",
      "  Duration: 13:20:00.04, start: 0.000000, bitrate: N/A\n",
      "  Stream #0:0: Video: png, rgba(pc), 558x560 [SAR 4724:4724 DAR 279:280], 25 fps, 25 tbr, 25 tbn\n",
      "Stream mapping:\n",
      "  Stream #0:0 -> #0:0 (png (native) -> h264 (libx264))\n",
      "Press [q] to stop, [?] for help\n",
      "[libx264 @ 0x7fde00907c80] using SAR=1674/1673\n",
      "[libx264 @ 0x7fde00907c80] using cpu capabilities: MMX2 SSE2Fast SSSE3 SSE4.2 AVX FMA3 BMI2 AVX2\n",
      "[libx264 @ 0x7fde00907c80] profile High, level 3.2, 4:2:0, 8-bit\n",
      "Output #0, mpegts, to '../mov/tmp/tmp.MTS':\n",
      "  Metadata:\n",
      "    encoder         : Lavf59.27.100\n",
      "  Stream #0:0: Video: h264, yuv420p(tv, progressive), 1280x720 [SAR 1674:1673 DAR 2976:1673], q=2-31, 60 fps, 90k tbn\n",
      "    Metadata:\n",
      "      encoder         : Lavc59.37.100 libx264\n",
      "    Side data:\n",
      "      cpb: bitrate max/min/avg: 0/0/0 buffer size: 0 vbv_delay: N/A\n",
      "frame=2880002 fps=188 q=-1.0 Lsize=  997159kB time=13:19:59.98 bitrate= 170.2kbits/s speed=3.14x    \n",
      "video:468637kB audio:0kB subtitle:0kB other streams:0kB global headers:0kB muxing overhead: 112.778564%\n",
      "[libx264 @ 0x7fde00907c80] frame I:11521 Avg QP: 8.79  size:  4925\n",
      "[libx264 @ 0x7fde00907c80] frame P:725769 Avg QP:23.85  size:   354\n",
      "[libx264 @ 0x7fde00907c80] frame B:2142712 Avg QP:16.21  size:    78\n",
      "[libx264 @ 0x7fde00907c80] consecutive B-frames:  0.8%  0.0%  0.0% 99.2%\n",
      "[libx264 @ 0x7fde00907c80] mb I  I16..4: 86.0% 10.9%  3.1%\n",
      "[libx264 @ 0x7fde00907c80] mb P  I16..4:  0.0%  0.1%  0.0%  P16..4:  2.4%  0.3%  0.1%  0.0%  0.0%    skip:97.0%\n",
      "[libx264 @ 0x7fde00907c80] mb B  I16..4:  0.0%  0.0%  0.0%  B16..8:  1.2%  0.0%  0.0%  direct: 0.0%  skip:98.7%  L0:58.2% L1:40.9% BI: 0.9%\n",
      "[libx264 @ 0x7fde00907c80] 8x8 transform intra:17.3% inter:39.7%\n",
      "[libx264 @ 0x7fde00907c80] coded y,uvDC,uvAC intra: 2.3% 1.1% 1.0% inter: 0.1% 0.1% 0.1%\n",
      "[libx264 @ 0x7fde00907c80] i16 v,h,dc,p: 96%  1%  3%  0%\n",
      "[libx264 @ 0x7fde00907c80] i8 v,h,dc,ddl,ddr,vr,hd,vl,hu: 21%  4% 74%  0%  0%  0%  0%  0%  0%\n",
      "[libx264 @ 0x7fde00907c80] i4 v,h,dc,ddl,ddr,vr,hd,vl,hu: 32% 18% 28%  3%  4%  4%  4%  4%  3%\n",
      "[libx264 @ 0x7fde00907c80] i8c dc,h,v,p: 96%  2%  2%  0%\n",
      "[libx264 @ 0x7fde00907c80] Weighted P-Frames: Y:0.0% UV:0.0%\n",
      "[libx264 @ 0x7fde00907c80] ref P L0: 80.6%  2.5%  8.8%  8.0%\n",
      "[libx264 @ 0x7fde00907c80] ref B L0: 78.5% 17.6%  3.9%\n",
      "[libx264 @ 0x7fde00907c80] ref B L1: 99.1%  0.9%\n",
      "[libx264 @ 0x7fde00907c80] kb/s:79.98\n",
      "ffmpeg version 5.1.2 Copyright (c) 2000-2022 the FFmpeg developers\n",
      "  built with Apple clang version 14.0.0 (clang-1400.0.29.202)\n",
      "  configuration: --prefix=/usr/local/Cellar/ffmpeg/5.1.2_6 --enable-shared --enable-pthreads --enable-version3 --cc=clang --host-cflags= --host-ldflags= --enable-ffplay --enable-gnutls --enable-gpl --enable-libaom --enable-libaribb24 --enable-libbluray --enable-libdav1d --enable-libmp3lame --enable-libopus --enable-librav1e --enable-librist --enable-librubberband --enable-libsnappy --enable-libsrt --enable-libsvtav1 --enable-libtesseract --enable-libtheora --enable-libvidstab --enable-libvmaf --enable-libvorbis --enable-libvpx --enable-libwebp --enable-libx264 --enable-libx265 --enable-libxml2 --enable-libxvid --enable-lzma --enable-libfontconfig --enable-libfreetype --enable-frei0r --enable-libass --enable-libopencore-amrnb --enable-libopencore-amrwb --enable-libopenjpeg --enable-libspeex --enable-libsoxr --enable-libzmq --enable-libzimg --disable-libjack --disable-indev=jack --enable-videotoolbox\n",
      "  libavutil      57. 28.100 / 57. 28.100\n",
      "  libavcodec     59. 37.100 / 59. 37.100\n",
      "  libavformat    59. 27.100 / 59. 27.100\n",
      "  libavdevice    59.  7.100 / 59.  7.100\n",
      "  libavfilter     8. 44.100 /  8. 44.100\n",
      "  libswscale      6.  7.100 /  6.  7.100\n",
      "  libswresample   4.  7.100 /  4.  7.100\n",
      "  libpostproc    56.  6.100 / 56.  6.100\n",
      "Input #0, lavfi, from 'color=black:1280x720':\n",
      "  Duration: N/A, start: 0.000000, bitrate: N/A\n",
      "  Stream #0:0: Video: rawvideo (I420 / 0x30323449), yuv420p, 1280x720 [SAR 1:1 DAR 16:9], 25 tbr, 25 tbn\n",
      "Input #1, lavfi, from 'anullsrc':\n",
      "  Duration: N/A, start: 0.000000, bitrate: 705 kb/s\n",
      "  Stream #1:0: Audio: pcm_u8, 44100 Hz, stereo, u8, 705 kb/s\n",
      "Stream mapping:\n",
      "  Stream #0:0 -> #0:0 (rawvideo (native) -> h264 (libx264))\n",
      "  Stream #1:0 -> #0:1 (pcm_u8 (native) -> aac (native))\n",
      "Press [q] to stop, [?] for help\n",
      "[libx264 @ 0x7fa14180a3c0] using SAR=1/1\n",
      "[libx264 @ 0x7fa14180a3c0] using cpu capabilities: MMX2 SSE2Fast SSSE3 SSE4.2 AVX FMA3 BMI2 AVX2\n",
      "[libx264 @ 0x7fa14180a3c0] profile High, level 3.2, 4:2:0, 8-bit\n",
      "[libx264 @ 0x7fa14180a3c0] 264 - core 164 r3095 baee400 - H.264/MPEG-4 AVC codec - Copyleft 2003-2022 - http://www.videolan.org/x264.html - options: cabac=1 ref=3 deblock=1:0:0 analyse=0x3:0x113 me=hex subme=7 psy=1 psy_rd=1.00:0.00 mixed_ref=1 me_range=16 chroma_me=1 trellis=1 8x8dct=1 cqm=0 deadzone=21,11 fast_pskip=1 chroma_qp_offset=-2 threads=12 lookahead_threads=2 sliced_threads=0 nr=0 decimate=1 interlaced=0 bluray_compat=0 constrained_intra=0 bframes=3 b_pyramid=2 b_adapt=1 b_bias=0 direct=1 weightb=1 open_gop=0 weightp=2 keyint=250 keyint_min=25 scenecut=40 intra_refresh=0 rc_lookahead=40 rc=abr mbtree=1 bitrate=1000 ratetol=1.0 qcomp=0.60 qpmin=0 qpmax=69 qpstep=4 ip_ratio=1.40 aq=1:1.00\n",
      "Output #0, mp4, to 'tmp/intro.mp4':\n",
      "  Metadata:\n",
      "    encoder         : Lavf59.27.100\n",
      "  Stream #0:0: Video: h264 (avc1 / 0x31637661), yuv420p(progressive), 1280x720 [SAR 1:1 DAR 16:9], q=2-31, 1000 kb/s, 60 fps, 400 tbn\n",
      "    Metadata:\n",
      "      encoder         : Lavc59.37.100 libx264\n",
      "    Side data:\n",
      "      cpb: bitrate max/min/avg: 0/0/1000000 buffer size: 0 vbv_delay: N/A\n",
      "  Stream #0:1: Audio: aac (LC) (mp4a / 0x6134706D), 44100 Hz, stereo, fltp, 128 kb/s\n",
      "    Metadata:\n",
      "      encoder         : Lavc59.37.100 aac\n",
      "frame=   90 fps=0.0 q=-1.0 Lsize=      28kB time=00:00:01.50 bitrate= 151.9kbits/s speed=   4x    \n",
      "video:23kB audio:0kB subtitle:0kB other streams:0kB global headers:0kB muxing overhead: 18.015644%\n",
      "[libx264 @ 0x7fa14180a3c0] frame I:1     Avg QP:21.09  size:   209\n",
      "[libx264 @ 0x7fa14180a3c0] frame P:23    Avg QP:13.02  size:   747\n",
      "[libx264 @ 0x7fa14180a3c0] frame B:66    Avg QP:11.03  size:    87\n",
      "[libx264 @ 0x7fa14180a3c0] consecutive B-frames:  1.1%  2.2%  3.3% 93.3%\n",
      "[libx264 @ 0x7fa14180a3c0] mb I  I16..4: 100.0%  0.0%  0.0%\n",
      "[libx264 @ 0x7fa14180a3c0] mb P  I16..4:  0.2%  0.1%  0.1%  P16..4:  1.3%  0.2%  0.2%  0.0%  0.0%    skip:98.0%\n",
      "[libx264 @ 0x7fa14180a3c0] mb B  I16..4:  0.0%  0.0%  0.0%  B16..8:  1.6%  0.0%  0.0%  direct: 0.0%  skip:98.4%  L0:47.2% L1:52.7% BI: 0.1%\n",
      "[libx264 @ 0x7fa14180a3c0] final ratefactor: 9.13\n",
      "[libx264 @ 0x7fa14180a3c0] 8x8 transform intra:1.6% inter:30.6%\n",
      "[libx264 @ 0x7fa14180a3c0] coded y,uvDC,uvAC intra: 1.9% 0.0% 0.0% inter: 0.2% 0.0% 0.0%\n",
      "[libx264 @ 0x7fa14180a3c0] i16 v,h,dc,p: 94%  3%  2%  0%\n",
      "[libx264 @ 0x7fa14180a3c0] i8 v,h,dc,ddl,ddr,vr,hd,vl,hu: 20% 11% 46%  6%  2%  5%  5%  3%  4%\n",
      "[libx264 @ 0x7fa14180a3c0] i4 v,h,dc,ddl,ddr,vr,hd,vl,hu: 42% 14% 23%  2%  2%  5%  4%  4%  3%\n",
      "[libx264 @ 0x7fa14180a3c0] i8c dc,h,v,p: 100%  0%  0%  0%\n",
      "[libx264 @ 0x7fa14180a3c0] Weighted P-Frames: Y:21.7% UV:0.0%\n",
      "[libx264 @ 0x7fa14180a3c0] ref P L0: 86.3%  5.9%  7.2%  0.3%  0.4%\n",
      "[libx264 @ 0x7fa14180a3c0] ref B L0: 55.9% 42.8%  1.4%\n",
      "[libx264 @ 0x7fa14180a3c0] ref B L1: 98.2%  1.8%\n",
      "[libx264 @ 0x7fa14180a3c0] kb/s:123.58\n",
      "[aac @ 0x7fa14180b800] Qavg: 120.000\n",
      "ffmpeg version 5.1.2 Copyright (c) 2000-2022 the FFmpeg developers\n",
      "  built with Apple clang version 14.0.0 (clang-1400.0.29.202)\n",
      "  configuration: --prefix=/usr/local/Cellar/ffmpeg/5.1.2_6 --enable-shared --enable-pthreads --enable-version3 --cc=clang --host-cflags= --host-ldflags= --enable-ffplay --enable-gnutls --enable-gpl --enable-libaom --enable-libaribb24 --enable-libbluray --enable-libdav1d --enable-libmp3lame --enable-libopus --enable-librav1e --enable-librist --enable-librubberband --enable-libsnappy --enable-libsrt --enable-libsvtav1 --enable-libtesseract --enable-libtheora --enable-libvidstab --enable-libvmaf --enable-libvorbis --enable-libvpx --enable-libwebp --enable-libx264 --enable-libx265 --enable-libxml2 --enable-libxvid --enable-lzma --enable-libfontconfig --enable-libfreetype --enable-frei0r --enable-libass --enable-libopencore-amrnb --enable-libopencore-amrwb --enable-libopenjpeg --enable-libspeex --enable-libsoxr --enable-libzmq --enable-libzimg --disable-libjack --disable-indev=jack --enable-videotoolbox\n",
      "  libavutil      57. 28.100 / 57. 28.100\n",
      "  libavcodec     59. 37.100 / 59. 37.100\n",
      "  libavformat    59. 27.100 / 59. 27.100\n",
      "  libavdevice    59.  7.100 / 59.  7.100\n",
      "  libavfilter     8. 44.100 /  8. 44.100\n",
      "  libswscale      6.  7.100 /  6.  7.100\n",
      "  libswresample   4.  7.100 /  4.  7.100\n",
      "  libpostproc    56.  6.100 / 56.  6.100\n",
      "Input #0, mov,mp4,m4a,3gp,3g2,mj2, from 'tmp/intro.mp4':\n",
      "  Metadata:\n",
      "    major_brand     : isom\n",
      "    minor_version   : 512\n",
      "    compatible_brands: isomiso2avc1mp41\n",
      "    encoder         : Lavf59.27.100\n",
      "  Duration: 00:00:01.50, start: 0.000000, bitrate: 152 kb/s\n",
      "  Stream #0:0[0x1](und): Video: h264 (High) (avc1 / 0x31637661), yuv420p(progressive), 1280x720 [SAR 1:1 DAR 16:9], 127 kb/s, 60 fps, 60 tbr, 400 tbn (default)\n",
      "    Metadata:\n",
      "      handler_name    : VideoHandler\n",
      "      vendor_id       : [0][0][0][0]\n",
      "      encoder         : Lavc59.37.100 libx264\n",
      "  Stream #0:1[0x2](und): Audio: aac (LC) (mp4a / 0x6134706D), 44100 Hz, stereo, fltp, 2 kb/s (default)\n",
      "    Metadata:\n",
      "      handler_name    : SoundHandler\n",
      "      vendor_id       : [0][0][0][0]\n",
      "Stream mapping:\n",
      "  Stream #0:0 -> #0:0 (h264 (native) -> mpeg2video (native))\n",
      "  Stream #0:1 -> #0:1 (aac (native) -> mp2 (native))\n",
      "Press [q] to stop, [?] for help\n",
      "Output #0, mpegts, to 'tmp/clip-1.MTS':\n",
      "  Metadata:\n",
      "    major_brand     : isom\n",
      "    minor_version   : 512\n",
      "    compatible_brands: isomiso2avc1mp41\n",
      "    encoder         : Lavf59.27.100\n",
      "  Stream #0:0(und): Video: mpeg2video (Main), yuv420p(progressive), 1280x720 [SAR 1:1 DAR 16:9], q=2-31, 200 kb/s, 60 fps, 90k tbn (default)\n",
      "    Metadata:\n",
      "      handler_name    : VideoHandler\n",
      "      vendor_id       : [0][0][0][0]\n",
      "      encoder         : Lavc59.37.100 mpeg2video\n",
      "    Side data:\n",
      "      cpb: bitrate max/min/avg: 0/0/200000 buffer size: 0 vbv_delay: N/A\n",
      "  Stream #0:1(und): Audio: mp2, 44100 Hz, stereo, s16, 384 kb/s (default)\n",
      "    Metadata:\n",
      "      handler_name    : SoundHandler\n",
      "      vendor_id       : [0][0][0][0]\n",
      "      encoder         : Lavc59.37.100 mp2\n"
     ]
    },
    {
     "name": "stderr",
     "output_type": "stream",
     "text": [
      "frame=   90 fps=0.0 q=0.0 Lsize=     516kB time=00:00:01.50 bitrate=2810.6kbits/s speed=8.99x    \n",
      "video:417kB audio:71kB subtitle:0kB other streams:0kB global headers:0kB muxing overhead: 5.840719%\n",
      "ffmpeg version 5.1.2 Copyright (c) 2000-2022 the FFmpeg developers\n",
      "  built with Apple clang version 14.0.0 (clang-1400.0.29.202)\n",
      "  configuration: --prefix=/usr/local/Cellar/ffmpeg/5.1.2_6 --enable-shared --enable-pthreads --enable-version3 --cc=clang --host-cflags= --host-ldflags= --enable-ffplay --enable-gnutls --enable-gpl --enable-libaom --enable-libaribb24 --enable-libbluray --enable-libdav1d --enable-libmp3lame --enable-libopus --enable-librav1e --enable-librist --enable-librubberband --enable-libsnappy --enable-libsrt --enable-libsvtav1 --enable-libtesseract --enable-libtheora --enable-libvidstab --enable-libvmaf --enable-libvorbis --enable-libvpx --enable-libwebp --enable-libx264 --enable-libx265 --enable-libxml2 --enable-libxvid --enable-lzma --enable-libfontconfig --enable-libfreetype --enable-frei0r --enable-libass --enable-libopencore-amrnb --enable-libopencore-amrwb --enable-libopenjpeg --enable-libspeex --enable-libsoxr --enable-libzmq --enable-libzimg --disable-libjack --disable-indev=jack --enable-videotoolbox\n",
      "  libavutil      57. 28.100 / 57. 28.100\n",
      "  libavcodec     59. 37.100 / 59. 37.100\n",
      "  libavformat    59. 27.100 / 59. 27.100\n",
      "  libavdevice    59.  7.100 / 59.  7.100\n",
      "  libavfilter     8. 44.100 /  8. 44.100\n",
      "  libswscale      6.  7.100 /  6.  7.100\n",
      "  libswresample   4.  7.100 /  4.  7.100\n",
      "  libpostproc    56.  6.100 / 56.  6.100\n",
      "Input #0, mpegts, from 'tmp/tmp.MTS':\n",
      "  Duration: 13:20:00.03, start: 1.433333, bitrate: 170 kb/s\n",
      "  Program 1 \n",
      "    Metadata:\n",
      "      service_name    : Service01\n",
      "      service_provider: FFmpeg\n",
      "  Stream #0:0[0x100]: Video: h264 (High) ([27][0][0][0] / 0x001B), yuv420p(progressive), 1280x720 [SAR 1674:1673 DAR 2976:1673], 60 fps, 60 tbr, 90k tbn\n",
      "Stream mapping:\n",
      "  Stream #0:0 -> #0:0 (h264 (native) -> mpeg2video (native))\n",
      "Press [q] to stop, [?] for help\n",
      "Output #0, mpegts, to 'tmp/clip-2.MTS':\n",
      "  Metadata:\n",
      "    encoder         : Lavf59.27.100\n",
      "  Stream #0:0: Video: mpeg2video (Main), yuv420p(progressive), 1280x720 [SAR 1674:1673 DAR 2976:1673], q=2-31, 200 kb/s, 60 fps, 90k tbn\n",
      "    Metadata:\n",
      "      encoder         : Lavc59.37.100 mpeg2video\n",
      "    Side data:\n",
      "      cpb: bitrate max/min/avg: 0/0/200000 buffer size: 0 vbv_delay: N/A\n",
      "frame=2880002 fps=898 q=0.0 Lsize=10699690kB time=13:20:00.00 bitrate=1826.1kbits/s speed=  15x    \n",
      "video:9966564kB audio:0kB subtitle:0kB other streams:0kB global headers:0kB muxing overhead: 7.355855%\n",
      "ffmpeg version 5.1.2 Copyright (c) 2000-2022 the FFmpeg developers\n",
      "  built with Apple clang version 14.0.0 (clang-1400.0.29.202)\n",
      "  configuration: --prefix=/usr/local/Cellar/ffmpeg/5.1.2_6 --enable-shared --enable-pthreads --enable-version3 --cc=clang --host-cflags= --host-ldflags= --enable-ffplay --enable-gnutls --enable-gpl --enable-libaom --enable-libaribb24 --enable-libbluray --enable-libdav1d --enable-libmp3lame --enable-libopus --enable-librav1e --enable-librist --enable-librubberband --enable-libsnappy --enable-libsrt --enable-libsvtav1 --enable-libtesseract --enable-libtheora --enable-libvidstab --enable-libvmaf --enable-libvorbis --enable-libvpx --enable-libwebp --enable-libx264 --enable-libx265 --enable-libxml2 --enable-libxvid --enable-lzma --enable-libfontconfig --enable-libfreetype --enable-frei0r --enable-libass --enable-libopencore-amrnb --enable-libopencore-amrwb --enable-libopenjpeg --enable-libspeex --enable-libsoxr --enable-libzmq --enable-libzimg --disable-libjack --disable-indev=jack --enable-videotoolbox\n",
      "  libavutil      57. 28.100 / 57. 28.100\n",
      "  libavcodec     59. 37.100 / 59. 37.100\n",
      "  libavformat    59. 27.100 / 59. 27.100\n",
      "  libavdevice    59.  7.100 / 59.  7.100\n",
      "  libavfilter     8. 44.100 /  8. 44.100\n",
      "  libswscale      6.  7.100 /  6.  7.100\n",
      "  libswresample   4.  7.100 /  4.  7.100\n",
      "  libpostproc    56.  6.100 / 56.  6.100\n",
      "Input #0, concat, from 'list.txt':\n",
      "  Duration: N/A, start: 0.000000, bitrate: N/A\n",
      "  Stream #0:0: Video: mpeg2video (Main) ([2][0][0][0] / 0x0002), yuv420p(tv, progressive), 1280x720 [SAR 1:1 DAR 16:9], 60 fps, 60 tbr, 90k tbn\n",
      "    Side data:\n",
      "      cpb: bitrate max/min/avg: 0/0/0 buffer size: 49152 vbv_delay: N/A\n",
      "  Stream #0:1(und): Audio: mp2 ([3][0][0][0] / 0x0003), 44100 Hz, stereo, s16p, 384 kb/s\n",
      "Output #0, mpegts, to 'tmp/tmp2.MTS':\n",
      "  Metadata:\n",
      "    encoder         : Lavf59.27.100\n",
      "  Stream #0:0: Video: mpeg2video (Main) ([2][0][0][0] / 0x0002), yuv420p(tv, progressive), 1280x720 [SAR 1:1 DAR 16:9], q=2-31, 60 fps, 60 tbr, 90k tbn\n",
      "    Side data:\n",
      "      cpb: bitrate max/min/avg: 0/0/0 buffer size: 49152 vbv_delay: N/A\n",
      "  Stream #0:1(und): Audio: mp2 ([3][0][0][0] / 0x0003), 44100 Hz, stereo, s16p, 384 kb/s\n",
      "Stream mapping:\n",
      "  Stream #0:0 -> #0:0 (copy)\n",
      "  Stream #0:1 -> #0:1 (copy)\n",
      "Press [q] to stop, [?] for help\n",
      "frame=2880092 fps=73130 q=-1.0 Lsize=10700206kB time=13:20:01.51 bitrate=1826.1kbits/s speed=1.22e+03x    \n",
      "video:9966981kB audio:71kB subtitle:0kB other streams:0kB global headers:0kB muxing overhead: 7.355782%\n",
      "ffmpeg version 5.1.2 Copyright (c) 2000-2022 the FFmpeg developers\n",
      "  built with Apple clang version 14.0.0 (clang-1400.0.29.202)\n",
      "  configuration: --prefix=/usr/local/Cellar/ffmpeg/5.1.2_6 --enable-shared --enable-pthreads --enable-version3 --cc=clang --host-cflags= --host-ldflags= --enable-ffplay --enable-gnutls --enable-gpl --enable-libaom --enable-libaribb24 --enable-libbluray --enable-libdav1d --enable-libmp3lame --enable-libopus --enable-librav1e --enable-librist --enable-librubberband --enable-libsnappy --enable-libsrt --enable-libsvtav1 --enable-libtesseract --enable-libtheora --enable-libvidstab --enable-libvmaf --enable-libvorbis --enable-libvpx --enable-libwebp --enable-libx264 --enable-libx265 --enable-libxml2 --enable-libxvid --enable-lzma --enable-libfontconfig --enable-libfreetype --enable-frei0r --enable-libass --enable-libopencore-amrnb --enable-libopencore-amrwb --enable-libopenjpeg --enable-libspeex --enable-libsoxr --enable-libzmq --enable-libzimg --disable-libjack --disable-indev=jack --enable-videotoolbox\n",
      "  libavutil      57. 28.100 / 57. 28.100\n",
      "  libavcodec     59. 37.100 / 59. 37.100\n",
      "  libavformat    59. 27.100 / 59. 27.100\n",
      "  libavdevice    59.  7.100 / 59.  7.100\n",
      "  libavfilter     8. 44.100 /  8. 44.100\n",
      "  libswscale      6.  7.100 /  6.  7.100\n",
      "  libswresample   4.  7.100 /  4.  7.100\n",
      "  libpostproc    56.  6.100 / 56.  6.100\n",
      "Input #0, mpegts, from 'tmp/tmp2.MTS':\n",
      "  Duration: 13:20:01.54, start: 1.405756, bitrate: 1826 kb/s\n",
      "  Program 1 \n",
      "    Metadata:\n",
      "      service_name    : Service01\n",
      "      service_provider: FFmpeg\n",
      "  Stream #0:0[0x100]: Video: mpeg2video (Main) ([2][0][0][0] / 0x0002), yuv420p(tv, progressive), 1280x720 [SAR 1:1 DAR 16:9], 60 fps, 60 tbr, 90k tbn\n",
      "    Side data:\n",
      "      cpb: bitrate max/min/avg: 0/0/0 buffer size: 49152 vbv_delay: N/A\n",
      "  Stream #0:1[0x101](und): Audio: mp2 ([3][0][0][0] / 0x0003), 44100 Hz, stereo, fltp, 384 kb/s\n",
      "Stream mapping:\n",
      "  Stream #0:0 -> #0:0 (mpeg2video (native) -> h264 (libx264))\n",
      "  Stream #0:1 -> #0:1 (mp2 (native) -> aac (native))\n",
      "Press [q] to stop, [?] for help\n",
      "[libx264 @ 0x7facd7f1c100] using SAR=1/1\n",
      "[libx264 @ 0x7facd7f1c100] using cpu capabilities: MMX2 SSE2Fast SSSE3 SSE4.2 AVX FMA3 BMI2 AVX2\n",
      "[libx264 @ 0x7facd7f1c100] profile High, level 3.2, 4:2:0, 8-bit\n",
      "[libx264 @ 0x7facd7f1c100] 264 - core 164 r3095 baee400 - H.264/MPEG-4 AVC codec - Copyleft 2003-2022 - http://www.videolan.org/x264.html - options: cabac=1 ref=3 deblock=1:0:0 analyse=0x3:0x113 me=hex subme=7 psy=1 psy_rd=1.00:0.00 mixed_ref=1 me_range=16 chroma_me=1 trellis=1 8x8dct=1 cqm=0 deadzone=21,11 fast_pskip=1 chroma_qp_offset=-2 threads=12 lookahead_threads=2 sliced_threads=0 nr=0 decimate=1 interlaced=0 bluray_compat=0 constrained_intra=0 bframes=3 b_pyramid=2 b_adapt=1 b_bias=0 direct=1 weightb=1 open_gop=0 weightp=2 keyint=250 keyint_min=25 scenecut=40 intra_refresh=0 rc_lookahead=40 rc=crf mbtree=1 crf=30.0 qcomp=0.60 qpmin=0 qpmax=69 qpstep=4 ip_ratio=1.40 aq=1:1.00\n",
      "Output #0, mov, to 'out.mov':\n",
      "  Metadata:\n",
      "    encoder         : Lavf59.27.100\n",
      "  Stream #0:0: Video: h264 (avc1 / 0x31637661), yuv420p(tv, progressive), 1280x720 [SAR 1:1 DAR 16:9], q=2-31, 60 fps, 15360 tbn\n",
      "    Metadata:\n",
      "      encoder         : Lavc59.37.100 libx264\n",
      "    Side data:\n",
      "      cpb: bitrate max/min/avg: 0/0/0 buffer size: 0 vbv_delay: N/A\n",
      "  Stream #0:1(und): Audio: aac (LC) (mp4a / 0x6134706D), 44100 Hz, stereo, fltp, 128 kb/s\n",
      "    Metadata:\n",
      "      encoder         : Lavc59.37.100 aac\n"
     ]
    },
    {
     "name": "stderr",
     "output_type": "stream",
     "text": [
      "frame=2880093 fps=447 q=-1.0 Lsize=  335693kB time=13:20:01.50 bitrate=  57.3kbits/s dup=1 drop=0 speed=7.44x    \n",
      "video:301970kB audio:0kB subtitle:0kB other streams:0kB global headers:0kB muxing overhead: 11.167765%\n",
      "[libx264 @ 0x7facd7f1c100] frame I:11522 Avg QP:17.35  size:  3124\n",
      "[libx264 @ 0x7facd7f1c100] frame P:728218 Avg QP:28.82  size:   183\n",
      "[libx264 @ 0x7facd7f1c100] frame B:2140353 Avg QP:22.77  size:    66\n",
      "[libx264 @ 0x7facd7f1c100] consecutive B-frames:  0.8%  0.2%  0.2% 98.8%\n",
      "[libx264 @ 0x7facd7f1c100] mb I  I16..4: 64.4% 32.7%  2.9%\n",
      "[libx264 @ 0x7facd7f1c100] mb P  I16..4:  0.0%  0.2%  0.0%  P16..4:  2.5%  0.1%  0.0%  0.0%  0.0%    skip:97.1%\n",
      "[libx264 @ 0x7facd7f1c100] mb B  I16..4:  0.0%  0.0%  0.0%  B16..8:  0.9%  0.0%  0.0%  direct: 0.0%  skip:99.0%  L0:51.2% L1:48.8% BI: 0.0%\n",
      "[libx264 @ 0x7facd7f1c100] 8x8 transform intra:37.4% inter:73.1%\n",
      "[libx264 @ 0x7facd7f1c100] coded y,uvDC,uvAC intra: 1.8% 0.9% 0.8% inter: 0.0% 0.0% 0.0%\n",
      "[libx264 @ 0x7facd7f1c100] i16 v,h,dc,p: 94%  3%  4%  0%\n",
      "[libx264 @ 0x7facd7f1c100] i8 v,h,dc,ddl,ddr,vr,hd,vl,hu: 30%  5% 65%  0%  0%  0%  0%  0%  0%\n",
      "[libx264 @ 0x7facd7f1c100] i4 v,h,dc,ddl,ddr,vr,hd,vl,hu: 38% 17% 22%  4%  4%  4%  4%  5%  3%\n",
      "[libx264 @ 0x7facd7f1c100] i8c dc,h,v,p: 94%  4%  2%  0%\n",
      "[libx264 @ 0x7facd7f1c100] Weighted P-Frames: Y:0.0% UV:0.0%\n",
      "[libx264 @ 0x7facd7f1c100] ref P L0: 86.7%  2.7%  6.8%  3.8%  0.0%\n",
      "[libx264 @ 0x7facd7f1c100] ref B L0: 85.8% 10.6%  3.6%\n",
      "[libx264 @ 0x7facd7f1c100] ref B L1: 97.7%  2.3%\n",
      "[libx264 @ 0x7facd7f1c100] kb/s:51.53\n",
      "[aac @ 0x7facd7f1d500] Qavg: 65536.000\n"
     ]
    }
   ],
   "source": [
    "#concatenate the folder of .png files\n",
    "os.chdir(f'{nb_dir}/../vid/src')\n",
    "os.system(f'./concat_folder_png.sh');"
   ]
  },
  {
   "cell_type": "code",
   "execution_count": 25,
   "id": "0e1446b2",
   "metadata": {
    "ExecuteTime": {
     "end_time": "2023-08-16T03:34:01.993310Z",
     "start_time": "2023-08-16T03:34:01.704288Z"
    },
    "hidden": true
   },
   "outputs": [
    {
     "data": {
      "text/plain": [
       "0"
      ]
     },
     "execution_count": 25,
     "metadata": {},
     "output_type": "execute_result"
    }
   ],
   "source": [
    "os.system(f'open {nb_dir}/../vid/mov/out.mov')"
   ]
  },
  {
   "cell_type": "code",
   "execution_count": 262,
   "id": "38ffe100",
   "metadata": {
    "ExecuteTime": {
     "end_time": "2023-07-11T03:59:49.238073Z",
     "start_time": "2023-07-11T03:59:49.229237Z"
    },
    "hidden": true
   },
   "outputs": [
    {
     "data": {
      "text/plain": [
       "0.0025"
      ]
     },
     "execution_count": 262,
     "metadata": {},
     "output_type": "execute_result"
    }
   ],
   "source": [
    "10000/241\n",
    "0.1/40"
   ]
  },
  {
   "cell_type": "code",
   "execution_count": 263,
   "id": "a77c5cc7",
   "metadata": {
    "ExecuteTime": {
     "end_time": "2023-07-11T03:59:49.256314Z",
     "start_time": "2023-07-11T03:59:49.246092Z"
    },
    "hidden": true
   },
   "outputs": [
    {
     "name": "stdout",
     "output_type": "stream",
     "text": [
      "annihilation duration: deltat/dt=238 steps\n",
      "annihilation duration: deltat/dt/save_every=48 frames\n",
      "creation duration: creation_duration/dt=250 steps\n"
     ]
    }
   ],
   "source": [
    "#Q: why aren't I seeing them pull together slowly?\n",
    "print(f'annihilation duration: {deltat/dt=:.0f} steps')\n",
    "print(f'annihilation duration: {deltat/dt/save_every=:.0f} frames')\n",
    "print(f'creation duration: {creation_duration/dt=:.0f} steps')"
   ]
  },
  {
   "cell_type": "code",
   "execution_count": 264,
   "id": "78c3631f",
   "metadata": {
    "ExecuteTime": {
     "end_time": "2023-07-11T03:59:49.266463Z",
     "start_time": "2023-07-11T03:59:49.261771Z"
    },
    "hidden": true
   },
   "outputs": [],
   "source": [
    "#TODO: determine rate_of_creation from average density\n",
    "#TODO: set prob_create = dt*rate_of_creation/num_particles to a constant for each particle\n",
    "#TODO: if prob_create>prob():\n",
    "#TODO: place a pair of particles uniformly on the circle of radius Rcbar from the particle\n",
    "#TODO: repel those particles with a 1/R force that disappears exponentially fast"
   ]
  },
  {
   "cell_type": "code",
   "execution_count": 265,
   "id": "ded04aa6",
   "metadata": {
    "ExecuteTime": {
     "end_time": "2023-07-11T03:59:49.938505Z",
     "start_time": "2023-07-11T03:59:49.273497Z"
    },
    "hidden": true
   },
   "outputs": [
    {
     "name": "stdout",
     "output_type": "stream",
     "text": [
      "-n \u0007\n",
      "-n \u0007\n",
      "-n \u0007\n"
     ]
    },
    {
     "data": {
      "text/plain": [
       "0"
      ]
     },
     "execution_count": 265,
     "metadata": {},
     "output_type": "execute_result"
    }
   ],
   "source": [
    "beep(3)"
   ]
  },
  {
   "cell_type": "markdown",
   "id": "4d42569a",
   "metadata": {
    "heading_collapsed": true
   },
   "source": [
    "# DONE: implement creation with initial particle placed no closer than a certain distance from existing tips"
   ]
  },
  {
   "cell_type": "code",
   "execution_count": 266,
   "id": "5efa59e4",
   "metadata": {
    "ExecuteTime": {
     "end_time": "2023-07-11T03:59:49.944223Z",
     "start_time": "2023-07-11T03:59:49.941439Z"
    },
    "hidden": true
   },
   "outputs": [],
   "source": [
    "# zerosint=np.zeros_like(x_values).astype('int')\n",
    "# # still_running=zerosint==zerosint\n",
    "# still_running=zerosint!=zerosint\n",
    "# still_running[:Ninitial]=True  #initialize first Ninitial particles to still be running"
   ]
  },
  {
   "cell_type": "code",
   "execution_count": null,
   "id": "52068380",
   "metadata": {
    "ExecuteTime": {
     "end_time": "2023-07-11T03:11:20.505853Z",
     "start_time": "2023-07-11T03:11:20.502339Z"
    },
    "hidden": true
   },
   "outputs": [],
   "source": []
  },
  {
   "cell_type": "code",
   "execution_count": null,
   "id": "5206cfe7",
   "metadata": {
    "hidden": true
   },
   "outputs": [],
   "source": []
  },
  {
   "cell_type": "code",
   "execution_count": null,
   "id": "6b6cb24a",
   "metadata": {
    "hidden": true
   },
   "outputs": [],
   "source": []
  },
  {
   "cell_type": "code",
   "execution_count": null,
   "id": "5f800ece",
   "metadata": {
    "hidden": true
   },
   "outputs": [],
   "source": []
  },
  {
   "cell_type": "markdown",
   "id": "1a5c1819",
   "metadata": {},
   "source": [
    "# compute termination time"
   ]
  },
  {
   "cell_type": "code",
   "execution_count": 8,
   "id": "fa6b533e",
   "metadata": {
    "ExecuteTime": {
     "end_time": "2023-07-20T23:54:29.869412Z",
     "start_time": "2023-07-20T23:54:29.866180Z"
    }
   },
   "outputs": [],
   "source": [
    "#DONE(elsewhere, in care): estimate chi\n",
    "#DONE(in care): determine if spiral tips tend to be created between two tip positions\n",
    "#Q: spiral tips tend to be created between two tip positions?\n",
    "#A: no, though there does appear to be some locality that can be captured by a geometric active contour models\n",
    "# HINT: start by viewing Movie S1"
   ]
  },
  {
   "cell_type": "code",
   "execution_count": 9,
   "id": "4ea0351e",
   "metadata": {
    "ExecuteTime": {
     "end_time": "2023-07-20T23:54:30.501466Z",
     "start_time": "2023-07-20T23:54:30.498676Z"
    }
   },
   "outputs": [],
   "source": [
    "#DONE: wrap this into a function that generates a termination time\n",
    "#DONE: abstract ^this to map a random seed to a termination time\n",
    "#DONE: use multiprocessing to get a distribution of termination times generated\n",
    "#DONE: print the mean of this distribution. record.\n",
    "#DONE: repeat for FK model\n",
    "#TODO: measure MTT conditioned on Ninitial=2 directly from tip positions via bootstrap\n",
    "#TODO: type all this up using as few of words as possible. "
   ]
  },
  {
   "cell_type": "code",
   "execution_count": 9,
   "id": "acd77f8d",
   "metadata": {
    "ExecuteTime": {
     "end_time": "2023-08-17T01:22:59.145464Z",
     "start_time": "2023-08-17T01:22:59.141087Z"
    }
   },
   "outputs": [],
   "source": [
    "def seed_new_particle(x_new,y_new,still_running,L,R_c_bar,max_num_retries=100):\n",
    "    \"\"\"\n",
    "    Example Usage:\n",
    "xg,yg=seed_new_particle(x_new,y_new,still_running,L,R_c_bar,max_num_retries=100)\n",
    "    \"\"\"\n",
    "    xg=np.random.uniform(0,1)*L\n",
    "    yg=np.random.uniform(0,1)*L\n",
    "    mindist=2.*L\n",
    "    for j in np.argwhere(still_running).flatten():\n",
    "        dist=dist_pbc(xg,yg,x_new[j],y_new[j],L);\n",
    "        if dist<mindist:\n",
    "            mindist=dist\n",
    "    #while new particle is within distance R_c_bar from any other particle\n",
    "    num=0\n",
    "    while (mindist<R_c_bar) and (num<max_num_retries):\n",
    "        num+=1\n",
    "        xg=np.random.uniform(0,1)*L\n",
    "        yg=np.random.uniform(0,1)*L\n",
    "        mindist=2.*L\n",
    "        for j in np.argwhere(still_running).flatten():\n",
    "            dist=dist_pbc(xg,yg,x_new[j],y_new[j],L);\n",
    "            if dist<mindist:\n",
    "                mindist=dist\n",
    "    return xg,yg"
   ]
  },
  {
   "cell_type": "code",
   "execution_count": 10,
   "id": "e71b2e5f",
   "metadata": {
    "ExecuteTime": {
     "end_time": "2023-08-17T01:22:59.437047Z",
     "start_time": "2023-08-17T01:22:59.435240Z"
    }
   },
   "outputs": [],
   "source": [
    "# xg,yg=seed_new_particle(x_new,y_new,still_running,L,R_c_bar,max_num_retries=100)\n",
    "# xg,yg"
   ]
  },
  {
   "cell_type": "code",
   "execution_count": 96,
   "id": "4ae80ddd",
   "metadata": {
    "ExecuteTime": {
     "end_time": "2023-08-22T22:21:48.604677Z",
     "start_time": "2023-08-22T22:21:48.600842Z"
    }
   },
   "outputs": [
    {
     "name": "stdout",
     "output_type": "stream",
     "text": [
      "42 2 0 1.142 0.0 0.715 2.08 75 0.314 9.3 0.42 0.202 5 0.1 1e-05\n"
     ]
    }
   ],
   "source": [
    "seed=42\n",
    "Ninitial=2\n",
    "Nfinal=0\n",
    "seed,Ninitial,Nfinal,R_c_bar,Mp,nup,chi,kappa,r,varkappa,D,r0,L,creation_duration,dt = (42, 2, 0, 1.142, 0.0, 0.715, 2.08, 75, 0.314, 9.3, 0.42, 0.202, 5, 0.1, 1e-05)\n",
    "print(*(42, 2, 0, 1.142, 0.0, 0.715, 2.08, 75, 0.314, 9.3, 0.42, 0.202, 5, 0.1, 1e-05))"
   ]
  },
  {
   "cell_type": "code",
   "execution_count": 65,
   "id": "91c82964",
   "metadata": {
    "ExecuteTime": {
     "end_time": "2023-08-22T21:39:25.378728Z",
     "start_time": "2023-08-22T21:39:25.345526Z"
    }
   },
   "outputs": [],
   "source": [
    "def  gener_termination_time(seed,Ninitial=2,Nfinal=0,\n",
    "                            chi=2.08,\n",
    "                            R_c_bar=0.6667, #cm\n",
    "                            kappa=75, #Hz\n",
    "                            r=0.314, #cm \n",
    "                            varkappa=9.3, #cm^2/s\n",
    "                            D=0.42, #cm^2/s\n",
    "                            Mp = 3.28, #+/- 0.10 Hz/cm^2;\n",
    "                            nup = 0.715, #+/- 0.010\n",
    "                            r0=0.202,\n",
    "                            L=5,\n",
    "                            creation_duration = 0.1, #s 0.0025, # 0.001 #s  # \n",
    "                            Dt=1e-5,dt=1e-5,\n",
    "                            no_repulsion=0,no_attraction=0,\n",
    "                            save_every=5,\n",
    "                            tmax=60, #s\n",
    "                            epsilon=5e-2,  #reactions happen immediately at this range\n",
    "                            x0=5,  #skipping reflect,set_second, and neighbor functionality\n",
    "                            N=150, #max number of particles\n",
    "                            force_code=2,\n",
    "                            dist_cutoff=1e-2,\n",
    "                            use_creation=True,\n",
    "                            use_pair_create=True,\n",
    "                            use_set_created_from_existing=True,\n",
    "                            use_uniform_ic=False,\n",
    "                            show_movie=False,#True,\n",
    "                            recording_locations=False,#True,\n",
    "                            recording_snapshots=False,#True,\n",
    "                            printing=False,\n",
    "                          **kwargs):\n",
    "    \"\"\"\n",
    "    Example Usage:\n",
    "t = gener_termination_time(seed,Ninitial=2,Nfinal=0,\n",
    "                            chi=chi,kappa=kappa, #Hz\n",
    "                            r=r, #cm \n",
    "                            varkappa=varkappa, #cm^2/s\n",
    "                            D=D, #cm^2/s\n",
    "                            Mp = Mp, # Hz/cm^2;\n",
    "                            nup = nup,L=L,creation_duration = creation_duration, # 0.001 #s  # 0.1 #s\n",
    "                            Dt=Dt,dt=dt,use_creation=True,use_pair_create=True,use_set_created_from_existing=True)\n",
    "print(f\"termination time: {t}\")\n",
    "    \"\"\"\n",
    "#     r0=r\n",
    "#     r0=6e-2\n",
    "#     tmax=500 #s\n",
    "#     tmax=60 #s\n",
    "#     epsilon=5e-2  #reactions happen immediately at this range\n",
    "#     x0=5\n",
    "#     #skipping reflect,set_second, and neighbor functionality\n",
    "#     N=150 #max number of particles\n",
    "    np.random.seed(seed)            \n",
    "    x_values=np.random.uniform(0,1,size=N)*L\n",
    "    y_values=np.random.uniform(0,1,size=N)*L\n",
    "    t=0\n",
    "    if use_uniform_ic:\n",
    "        Nrow=4\n",
    "    #     Nrow=10\n",
    "        #explicitely uniform ic.\n",
    "        uvals=np.linspace(0,L*Nrow/(Nrow+1),Nrow)\n",
    "        x_values,y_values=np.meshgrid(uvals,uvals)\n",
    "        x_values=x_values.flatten()+L/(2*(Nrow+1))\n",
    "        y_values=y_values.flatten()+L/(2*(Nrow+1))\n",
    "        #explicitely enter ^these values in my c simulation and run it\n",
    "        N = x_values.shape[0]\n",
    "        \n",
    "    #return a scatter plot that may be saved as png\n",
    "    if show_movie:\n",
    "        annotating=True\n",
    "        message='initial positions'\n",
    "        fig=ScatterPlotSnapshot(x_values,y_values,t,width=L,height=L,\n",
    "                                annotating=annotating,message=message,inch=6)\n",
    "        plt.show()\n",
    "\n",
    "    if show_movie:\n",
    "        #for snapshot output\n",
    "        save_folder=f\"{nb_dir}/Figures/mov\"\n",
    "        if os.path.exists(save_folder):\n",
    "            #cleanse the old snapshot folder\n",
    "            shutil.rmtree(save_folder)\n",
    "        os.mkdir(save_folder)\n",
    "        frameno=1\n",
    "        save_fn=None\n",
    "        inch=6\n",
    "        annotating=True\n",
    "\n",
    "#     # message='without forces'\n",
    "#     # force_code=0\n",
    "#     # varkappa=0\n",
    "#     # message='with anti-spring forces'\n",
    "#     # force_code=1\n",
    "#     # varkappa=-5\n",
    "# #     message='with particle creation'\n",
    "#     force_code=2    \n",
    "#     dist_cutoff=1e-2\n",
    "    \n",
    "    # varkappa=1.552\n",
    "    # message=f'with {alpha=}'\n",
    "    message=' '\n",
    "    stepscale=np.sqrt(2*D*Dt) #diffusive\n",
    "    # stepscale=(2*D*Dt)**(1/alpha)\n",
    "    probreact=kappa*dt\n",
    "    A = L**2\n",
    "    T_net=0;count_net=0    \n",
    "    # iter_per_movestep = round(Dt/dt)\n",
    "    impulse_prefactor= varkappa * Dt\n",
    "    tiarray=np.zeros(N)\n",
    "    tfarray=np.zeros(N)\n",
    "    step=0\n",
    "    if printing:\n",
    "        print(\"running simulation...\");\n",
    "    t=-Dt\n",
    "    # still_running=True;\n",
    "    exit_code=-1;T=-9999.\n",
    "    #initialize positions\n",
    "    # #uniform random ic\n",
    "    # x_values=rs.uniform(size=N)*L\n",
    "    # y_values=rs.uniform(size=N)*L\n",
    "    # #explicitely uniform ic\n",
    "    # uvals=np.linspace(0,L,5)\n",
    "    # x_values,y_values=np.meshgrid(uvals,uvals)\n",
    "    # x_values=x_values.flatten()\n",
    "    # y_values=y_values.flatten()\n",
    "\n",
    "    #lower case: world coordinates\n",
    "    #upper case: material coordinates\n",
    "#     x=x_values.copy()\n",
    "#     y=y_values.copy()\n",
    "    x_old=x_values.copy()\n",
    "    y_old=y_values.copy()\n",
    "    x_new=x_values.copy()\n",
    "    y_new=y_values.copy()\n",
    "#     X=x_values.copy()\n",
    "#     Y=y_values.copy()\n",
    "#     X_old=x_values.copy()\n",
    "#     Y_old=y_values.copy()\n",
    "#     X_new=x_values.copy()\n",
    "#     Y_new=y_values.copy()\n",
    "    \n",
    "    \n",
    "    \n",
    "    \n",
    "    zeros=np.zeros_like(x_values)\n",
    "    zerosint=np.zeros_like(x_values).astype('int')\n",
    "    # still_running=zerosint==zerosint\n",
    "    still_running=zerosint!=zerosint\n",
    "#     still_running[:Ninitial]=True  #initialize first Ninitial particles to still be running\n",
    "    caught=zerosint.copy()-9999#!=zerosint\n",
    "    anticaught=zerosint.copy()-9999#!=zerosint\n",
    "    \n",
    "    #create the initial particles\n",
    "    for i in range(Ninitial):\n",
    "        xg,yg=seed_new_particle(x_new,y_new,still_running,L,R_c_bar,max_num_retries=100)\n",
    "        x_new[i]=xg\n",
    "        y_new[i]=yg\n",
    "        still_running[i]=True    \n",
    "    \n",
    "    # //start set_second kernel\n",
    "    # //end set_second kernel\n",
    "    #make still_running into still_running_values\n",
    "    dict_out_lst=[]\n",
    "    # reset the net forces\n",
    "    Fx_net=zeros.copy()\n",
    "    Fy_net=zeros.copy()\n",
    "    # while(still_running.any()):\n",
    "    while(still_running.sum()>Nfinal):\n",
    "        # //reinitialize_kernel, which copies X,Y_new to X,Y_old\n",
    "        min_dist_old=zeros+9999999\n",
    "        i_neighbor=zerosint-1\n",
    "        x_old=x_new\n",
    "        y_old=y_new\n",
    "        t=t+Dt;\n",
    "#         np.random.seed(seed) # didn't make it deterministic\n",
    "\n",
    "        #sum_each_force_kernel\n",
    "        for i in range(N):\n",
    "            if(still_running[i]):\n",
    "                for j in range(i+1,N):\n",
    "                    if(still_running[j]):\n",
    "                        #compute displacement vector with pbc\n",
    "                        dx = subtract_pbc_1d(x_old[j],x_old[i],L);\n",
    "                        dy = subtract_pbc_1d(y_old[j],y_old[i],L);\n",
    "                        dist2=dx*dx+dy*dy;\n",
    "                        if (dist2<1e-8):\n",
    "                            dist2=float(1e-8)\n",
    "                        dist = np.sqrt(dist2)\n",
    "                        #compute displacement due to drift\n",
    "                        impulse_factor=0.\n",
    "                        if (force_code==1):\n",
    "                          #spring\n",
    "                          impulse_factor=impulse_prefactor*(dist-x0)/dist;\n",
    "                        if (force_code==2):\n",
    "                          #QED2: force ~ inverse power law\n",
    "                          impulse_factor=impulse_prefactor/dist2;\n",
    "                        if (force_code==3):\n",
    "                          #QED3: force ~ inverse square power law\n",
    "                          impulse_factor=impulse_prefactor/dist2/dist;\n",
    "                        #set impulse_factor to zero if it is explicitly forbidden by the user input\n",
    "                        if ((no_attraction==1) & (impulse_factor>0)):\n",
    "                            impulse_factor=0.\n",
    "                        if ((no_repulsion==1) & (impulse_factor<0)):\n",
    "                            impulse_factor=0.\n",
    "                        #sum Fx_net, Fy_net according to a symplectic (momentum conserving) integrator\n",
    "                        Fx_net[i]=Fx_net[i]+dx*impulse_factor;\n",
    "                        Fy_net[i]=Fy_net[i]+dy*impulse_factor;\n",
    "                        Fx_net[j]=Fx_net[j]-dx*impulse_factor;\n",
    "                        Fy_net[j]=Fy_net[j]-dy*impulse_factor                    \n",
    "                        #determine if they are closer than epsilon\n",
    "                        if dist<epsilon:\n",
    "                            #remove if they are\n",
    "                            still_running[i]=False\n",
    "                            still_running[j]=False\n",
    "                            uncatch_set=set()\n",
    "                            if caught[i]>=0: \n",
    "                                uncatch_set.update([caught[i]])\n",
    "                                if caught[caught[i]]>=0:\n",
    "                                    uncatch_set.update([caught[caught[i]]])\n",
    "                            if caught[j]>=0: \n",
    "                                uncatch_set.update([caught[j]])\n",
    "                                if caught[caught[j]]>=0:\n",
    "                                    uncatch_set.update([caught[caught[j]]])\n",
    "                            if len(uncatch_set)>0:\n",
    "                                for k in uncatch_set:\n",
    "                                    caught[k]=-9999\n",
    "        #compute the one_step given the net force, F_net\n",
    "        for i in range(N):\n",
    "            if(still_running[i]):\n",
    "                if caught[i]<0:\n",
    "                    dxt=Fx_net[i];\n",
    "                    dyt=Fy_net[i];\n",
    "                    # compute displacement due to levy flight\n",
    "    #                 dxW,dyW = stepscale*levyRandom2D(alpha)\n",
    "#                     dxW = stepscale*normalRandom()\n",
    "#                     dyW = stepscale*normalRandom()\n",
    "                    dxW = stepscale*np.random.normal()\n",
    "                    dyW = stepscale*np.random.normal()\n",
    "                    # next spatial position, time integrating by a duration, Dt. enforce PBC.\n",
    "                    x_new[i]=periodic(x_old[i]+dxW+dxt,L);\n",
    "                    y_new[i]=periodic(y_old[i]+dyW+dyt,L);\n",
    "                else:\n",
    "                    j=caught[i]\n",
    "                    ti=tiarray[i]\n",
    "                    tf=tfarray[i]            \n",
    "                    #compute displacement vector with pbc\n",
    "                    dx = subtract_pbc_1d(x_old[j],x_old[i],L)\n",
    "                    dy = subtract_pbc_1d(y_old[j],y_old[i],L)      \n",
    "                    xl = dx - (x_old[j]-x_old[i])\n",
    "                    yl = dy - (y_old[j]-y_old[i])\n",
    "                    #compute average location\n",
    "                    xavg = x_old[i] + 0.5*dx \n",
    "                    yavg = y_old[i] + 0.5*dy\n",
    "                    #compute frac to interpolate by\n",
    "                    frac = (t-ti)/(tf-ti)\n",
    "                    frac = np.min((1,frac))\n",
    "                    x_new[i] = periodic(x_old[i]*(1-frac) + (xavg+xl)*frac,L)\n",
    "                    y_new[i] = periodic(y_old[i]*(1-frac) + (yavg+yl)*frac,L)\n",
    "        #reaction_kernel\n",
    "        for i in range(N):\n",
    "            if(still_running[i]&(caught[i]<0)&(anticaught[i]<0)):\n",
    "                # // each i,j pair is reached once per call to kernel_measure\n",
    "                for j in range(i+1,N):\n",
    "                    if(still_running[j]&(caught[j]<0)&(anticaught[j]<0)):\n",
    "                        # // compute distance between particles that are still running\n",
    "                        dist=dist_pbc(x_new[i],y_new[i],x_new[j],y_new[j],L);\n",
    "                        in_range=dist<r;\n",
    "                        # // in_range=true;//uncomment for smeared method\n",
    "                        # // if two particles are in range\n",
    "                        if(in_range):\n",
    "                            # // determine whether those two particles react via the simple method\n",
    "#                             reacts=probreact>uniformRandom();\n",
    "                            reacts=probreact>np.random.uniform(0,1);\n",
    "                            # // determine whether those two particles react via the smeared method\n",
    "                            # // sig=sigmoid(dist, r, beta);\n",
    "                            # // reacts=probreact*sig>uniformRandom();\n",
    "                            if(reacts):\n",
    "                                exit_code=1;\n",
    "                                T=t;\n",
    "    #                             still_running[i]=False;\n",
    "    #                             still_running[j]=False;\n",
    "                                #uncatch any previous catches\n",
    "                                if caught[i]>=0: caught[caught[i]]=-9999\n",
    "                                if caught[j]>=0: caught[caught[j]]=-9999\n",
    "                                #catch these two\n",
    "                                caught[i]=j;\n",
    "                                caught[j]=i;\n",
    "                                #determine deltat\n",
    "                                deltat = dist**2/(4*(varkappa+2*D))\n",
    "                                #determine ti,tf\n",
    "                                tiarray[i]=t\n",
    "                                tfarray[i]=t+deltat\n",
    "                                tiarray[j]=t\n",
    "                                tfarray[j]=t+deltat\n",
    "\n",
    "        #determine rate_of_creation from average density\n",
    "        num_particles = np.sum(still_running)\n",
    "        prob_create = dt * Mp * (num_particles / A) ** nup * A\n",
    "        #creation_kernel\n",
    "        if not use_creation:\n",
    "            prob_create=0 \n",
    "        if prob_create>np.random.uniform(0,1):\n",
    "            if np.sum(~still_running)>=2:\n",
    "                #select the first two particles that are removed\n",
    "                igone=np.argwhere(~still_running)\n",
    "                #reset/set their internal state\n",
    "                caught[igone[0]]=-9999\n",
    "                caught[igone[1]]=-9999\n",
    "                anticaught[igone[0]]=igone[1]\n",
    "                anticaught[igone[1]]=igone[0]\n",
    "                tfarray[igone[0]]=t+creation_duration\n",
    "                tfarray[igone[1]]=t+creation_duration\n",
    "                \n",
    "#                 #set their positions to 2 uniformly distributed positions\n",
    "#                 x_new[igone[0]]=np.random.uniform(0,1)*L\n",
    "#                 x_new[igone[1]]=np.random.uniform(0,1)*L\n",
    "#                 y_new[igone[0]]=np.random.uniform(0,1)*L\n",
    "#                 y_new[igone[1]]=np.random.uniform(0,1)*L\n",
    "                \n",
    "                #check if new particle is within distance R_c_bar from any other particles\n",
    "                for ihere in igone[:2]:\n",
    "                    xg,yg=seed_new_particle(x_new,y_new,still_running,L,R_c_bar,max_num_retries=1000)\n",
    "                    x_new[ihere]=xg\n",
    "                    y_new[ihere]=yg\n",
    "                    still_running[ihere]=True\n",
    "            \n",
    "                #optionally set their positions to average a random location\n",
    "                if use_pair_create:\n",
    "                    #optionally set their positions be a fixed distance to nearest tip\n",
    "                    if use_set_created_from_existing:\n",
    "                        #place a pair of particles uniformly on the circle of radius R_c_bar from a random particle\n",
    "                        xg,yg=gener_random_creation_position(x_new,y_new,still_running,R_c_bar,L)\n",
    "                        x_new[igone[0]] = xg\n",
    "                        y_new[igone[0]] = yg\n",
    "                    theta=2*np.pi*np.random.uniform(0,1)\n",
    "                    #heretim\n",
    "                    x_new[igone[1]]=x_new[igone[0]] + 2.*r0*np.cos(theta)\n",
    "                    y_new[igone[1]]=y_new[igone[0]] + 2.*r0*np.sin(theta)\n",
    "\n",
    "\n",
    "        # reset the net forces\n",
    "        Fx_net=zeros.copy()\n",
    "        Fy_net=zeros.copy()\n",
    "        #creation_force_kernel\n",
    "        if use_pair_create:\n",
    "            for i in range(N):\n",
    "                if(still_running[i]&(anticaught[i]>=0)):\n",
    "                    j = anticaught[i]\n",
    "                    if still_running[j]:\n",
    "                        #compute displacement vector with pbc\n",
    "                        dx = subtract_pbc_1d(x_old[j],x_old[i],L);\n",
    "                        dy = subtract_pbc_1d(y_old[j],y_old[i],L);\n",
    "                        dist2=dx*dx+dy*dy;\n",
    "                        if (dist2<1e-8):\n",
    "                            dist2=float(1e-8)\n",
    "                        dist = np.sqrt(dist2)\n",
    "                        #compute displacement due to drift\n",
    "                        impulse_factor=0.\n",
    "                        if (force_code==1):\n",
    "                          #spring\n",
    "                          impulse_factor=impulse_prefactor*(dist-x0)/dist;\n",
    "                        if (force_code==2):\n",
    "                          #QED2: force ~ inverse power law\n",
    "                          impulse_factor=impulse_prefactor/dist2;\n",
    "                        if (force_code==3):\n",
    "                          #QED3: force ~ inverse square power law\n",
    "                          impulse_factor=impulse_prefactor/dist2/dist;\n",
    "                        #set impulse_factor to zero if it is explicitly forbidden by the user input\n",
    "                        if ((no_attraction==1) & (impulse_factor<0)):\n",
    "                            impulse_factor=0.\n",
    "                        if ((no_repulsion==1) & (impulse_factor>0)):\n",
    "                            impulse_factor=0.\n",
    "                        #account for double counting and then scale\n",
    "                        impulse_factor*=0.5*chi\n",
    "                        #sum Fx_net, Fy_net according to a symplectic (momentum conserving) integrator\n",
    "                        Fx_net[i]=Fx_net[i]-dx*impulse_factor;\n",
    "                        Fy_net[i]=Fy_net[i]-dy*impulse_factor;\n",
    "                        Fx_net[j]=Fx_net[j]+dx*impulse_factor;\n",
    "                        Fy_net[j]=Fy_net[j]+dy*impulse_factor \n",
    "\n",
    "        #turn off creation array\n",
    "        for i in range(N):\n",
    "            if still_running[i] and anticaught[i]>=0:\n",
    "                if t>tfarray[i]:\n",
    "                    anticaught[i]=-9999\n",
    "\n",
    "        if show_movie:\n",
    "            if step%save_every==0:\n",
    "                x_plot=x_new[still_running]\n",
    "                y_plot=y_new[still_running]\n",
    "                c_plot = np.array(['gray']*y_plot.shape[0])\n",
    "                caugh=caught[still_running]\n",
    "                for i in range(y_plot.shape[0]):\n",
    "                    if caugh[i]>=0:\n",
    "                        c_plot[i]='r'\n",
    "                acaugh=anticaught[still_running]\n",
    "                for i in range(y_plot.shape[0]):\n",
    "                    if acaugh[i]>=0:\n",
    "                        c_plot[i]='g'\n",
    "\n",
    "                if recording_snapshots:\n",
    "                    #save result as png\n",
    "                    SaveScatterPlotSnapshot(x_plot,y_plot,t,\n",
    "                                            c=c_plot,\n",
    "                                            width=L,height=L,\n",
    "                                    frameno=frameno,save_folder=save_folder,\n",
    "                                    annotating=annotating,message=message)\n",
    "        #             print(f\"- saved pic at {frameno=}\")\n",
    "                if (recording_locations)&(x_plot.shape[0]>0):\n",
    "                    pid_values = np.arange(x_values.shape[0])[still_running]\n",
    "                    #append particle locations to log, dict_out_lst\n",
    "                    dict_out=format_particles(frameno,t,x_plot,y_plot,pid_values=pid_values)\n",
    "                    dict_out_lst.append(dict_out)\n",
    "\n",
    "                frameno+=1\n",
    "\n",
    "        #shut simulation down if it's taking too long...\n",
    "        if (t>tmax):\n",
    "            for i in range(N):\n",
    "                still_running[i]=False;\n",
    "                exit_code=-99;\n",
    "\n",
    "        step+=1\n",
    "        #end while running\n",
    "\n",
    "    #record this trial\n",
    "    if (exit_code>0):\n",
    "        if (T>0.):\n",
    "            T_net=T_net+T;\n",
    "            count_net=count_net+1;\n",
    "\n",
    "    if printing:\n",
    "        print(f\"simulation complete!\")\n",
    "        beep(1)\n",
    "\n",
    "    if recording_locations:\n",
    "        #for csv output\n",
    "        data_folder=f\"{nb_dir}/data/local_results/creation_test_paired\"\n",
    "        if not os.path.exists(data_folder):\n",
    "            os.mkdir(data_folder)\n",
    "        data_folder=data_folder+\"/Log\"\n",
    "        if not os.path.exists(data_folder):\n",
    "            os.mkdir(data_folder)\n",
    "#         data_fn=f\"pbc_seed_{seed}_fc_{force_code}_r_{r}_D_{D}_L_{L}_kappa_{kappa}_varkappa_{varkappa}_alpha_{alpha}_creatdur_{creation_duration}_chi_{chi}_log.csv\"\n",
    "        data_fn=f\"pbc_seed_{seed}_fc_{force_code}_r_{r}_D_{D}_L_{L}_kappa_{kappa}_varkappa_{varkappa}_creatdur_{creation_duration}_chi_{chi}_log.csv\"\n",
    "        \n",
    "    #save particle locations as csv\n",
    "    if recording_locations:\n",
    "        df = pd.concat([pd.DataFrame(dict_out) for dict_out in dict_out_lst])\n",
    "        df.reset_index(inplace=True, drop=True)\n",
    "        #save the recorded data\n",
    "        os.chdir(data_folder)\n",
    "        df.to_csv(data_fn, index=False)\n",
    "        if printing:\n",
    "            print('saved to:')\n",
    "            print(os.path.abspath(data_fn))\n",
    "        \n",
    "    return t"
   ]
  },
  {
   "cell_type": "code",
   "execution_count": null,
   "id": "0ab83f88",
   "metadata": {},
   "outputs": [],
   "source": []
  },
  {
   "cell_type": "code",
   "execution_count": 66,
   "id": "0af14236",
   "metadata": {
    "ExecuteTime": {
     "end_time": "2023-08-22T21:39:26.474574Z",
     "start_time": "2023-08-22T21:39:26.472105Z"
    }
   },
   "outputs": [],
   "source": [
    "# for j in range(5):\n",
    "#     for i in range(5):\n",
    "#         if i == 3:\n",
    "#             break\n",
    "#         print(i)"
   ]
  },
  {
   "cell_type": "code",
   "execution_count": 52,
   "id": "3e0db7c7",
   "metadata": {
    "ExecuteTime": {
     "end_time": "2023-08-20T03:12:27.864174Z",
     "start_time": "2023-08-20T03:12:27.860614Z"
    }
   },
   "outputs": [],
   "source": [
    "#define model parameters\n",
    "#FK\n",
    "# r=0.7 #cm \n",
    "r=0.457#±0.009 \n",
    "varkappa=1.552 #cm^2/s\n",
    "D=0.115 #cm^2/s\n",
    "# save_every=25\n",
    "save_every=5\n",
    "# save_every=1 #45 min\n",
    "kappa = 15\n",
    "#FK\n",
    "# Mp = 0.8642103569057054 # +/- 0.002349 Hz/cm^2\n",
    "# nup = 0.22959399086621063 #+/- 0.010098\n",
    "Mp  = 0.864 #+/- 0.002 Hz/cm^2\n",
    "nup = 0.230 #+/- 0.010\n",
    "chi=2.94 #±0.04 # FK # unitless value >1.  = repulsion_strength / attraction_strength    \n",
    "r0=0.131 #+/- 0.001 cm\n",
    "# R_c_bar=0.7029 #+/-0.0049 cm FK #~9 seconds\n",
    "# R_c_bar=0.75\n",
    "# R_c_bar=0.73\n",
    "# R_c_bar=0.72\n",
    "# R_c_bar=0.71\n",
    "# R_c_bar=0.8 #34 sec\n",
    "# R_c_bar=2*0.7029 #+/-0.0049 cm FK  #never finished >72hr run time\n",
    "# R_c_bar=1.  #>24 hr run time never finished\n",
    "R_c_bar=0.65 #"
   ]
  },
  {
   "cell_type": "code",
   "execution_count": 102,
   "id": "5b2e23ab",
   "metadata": {
    "ExecuteTime": {
     "end_time": "2023-08-22T22:33:08.674207Z",
     "start_time": "2023-08-22T22:33:08.670732Z"
    }
   },
   "outputs": [],
   "source": [
    "#LR\n",
    "# Mp  = 3.2770725040489235 #+/- 0.102643 Hz/cm^2;\n",
    "# nup = 0.7147550082416185 #+/- 0.009768\n",
    "Mp  = 3.28 #+/- 0.10 Hz/cm^2;\n",
    "nup = 0.715 #+/- 0.010\n",
    "\n",
    "# Mp = 0. #no creation\n",
    "\n",
    "#LR\n",
    "r=0.314 #cm \n",
    "varkappa=9.3 #cm^2/s\n",
    "D=0.42 #cm^2/s\n",
    "save_every=5 \n",
    "# save_every=1\n",
    "# save_every=1000000000\n",
    "# varkappa=0 #no attraction\n",
    "r0=0.202 #+/-0.003 cm\n",
    "kappa=75 #Hz\n",
    "#     kappa=1e5 #Hz  #COMMENT HERE\n",
    "# chi=20. # unitless value >1.  = repulsion_strength / attraction_strength\n",
    "chi=2.08 #±0.04 # LR # unitless value >1.  = repulsion_strength / attraction_strength\n",
    "# R_c_bar=0.6667 #+/-0.0083 cm LR\n",
    "# R_c_bar=1.5\n",
    "# R_c_bar=1.0\n",
    "# R_c_bar=1.3334\n",
    "# R_c_bar=1.1\n",
    "# R_c_bar=1.12\n",
    "# R_c_bar=1.13\n",
    "# R_c_bar=1.14\n",
    "R_c_bar=1.142\n",
    "# R_c_bar=1.143\n",
    "# R_c_bar=1.145\n",
    "# R_c_bar=1.2\n",
    "# R_c_bar=1.15\n",
    "# R_c_bar=1.175\n",
    "# R_c_bar=1.17"
   ]
  },
  {
   "cell_type": "code",
   "execution_count": null,
   "id": "4404b6e3",
   "metadata": {},
   "outputs": [],
   "source": []
  },
  {
   "cell_type": "code",
   "execution_count": 103,
   "id": "eee73690",
   "metadata": {
    "ExecuteTime": {
     "end_time": "2023-08-22T22:33:10.189995Z",
     "start_time": "2023-08-22T22:33:10.186942Z"
    }
   },
   "outputs": [],
   "source": [
    "L=5\n",
    "# L=10\n",
    "# Mp=0 #COMMENT_HERE\n",
    "# creation_duration = 0.0025\n",
    "# creation_duration = 0.0\n",
    "# creation_duration = 0.25 #ms?\n",
    "creation_duration = 0.1 #s\n",
    "Dt=1e-5\n",
    "dt=1e-5"
   ]
  },
  {
   "cell_type": "code",
   "execution_count": 104,
   "id": "1174e35b",
   "metadata": {
    "ExecuteTime": {
     "end_time": "2023-08-22T22:33:10.769001Z",
     "start_time": "2023-08-22T22:33:10.765717Z"
    }
   },
   "outputs": [],
   "source": [
    "def routine(seed):\n",
    "    t = gener_termination_time(seed,Ninitial=2,#4,#\n",
    "                               Nfinal=0,\n",
    "                                chi=chi,kappa=kappa, #Hz\n",
    "                                r=r, #cm \n",
    "                                R_c_bar=R_c_bar, #cm\n",
    "                                varkappa=varkappa, #cm^2/s\n",
    "                                D=D, #cm^2/s\n",
    "                                Mp = Mp, # Hz/cm^2;\n",
    "                                r0=r0, #cm\n",
    "                                nup = nup,L=L,creation_duration = creation_duration, \n",
    "                                Dt=Dt,dt=dt,use_creation=True,use_pair_create=True,use_set_created_from_existing=False\n",
    "                              )\n",
    "    return t"
   ]
  },
  {
   "cell_type": "code",
   "execution_count": 105,
   "id": "f03c3d07",
   "metadata": {
    "ExecuteTime": {
     "end_time": "2023-08-22T22:33:11.499222Z",
     "start_time": "2023-08-22T22:33:11.496488Z"
    }
   },
   "outputs": [],
   "source": [
    "# routine(42)\n",
    "# # creation_duration"
   ]
  },
  {
   "cell_type": "code",
   "execution_count": 106,
   "id": "e3a31e77",
   "metadata": {
    "ExecuteTime": {
     "end_time": "2023-08-22T22:33:11.922373Z",
     "start_time": "2023-08-22T22:33:11.919798Z"
    }
   },
   "outputs": [],
   "source": [
    "# beep(2)\n",
    "#heretimheretim"
   ]
  },
  {
   "cell_type": "code",
   "execution_count": 107,
   "id": "e4c3f8db",
   "metadata": {
    "ExecuteTime": {
     "end_time": "2023-08-22T23:54:38.799431Z",
     "start_time": "2023-08-22T22:33:23.383942Z"
    }
   },
   "outputs": [
    {
     "name": "stdout",
     "output_type": "stream",
     "text": [
      "ncores=10\n"
     ]
    }
   ],
   "source": [
    "# num_trials=5000\n",
    "# num_trials=1500\n",
    "# num_trials=400\n",
    "num_trials=1000\n",
    "# num_trials=100\n",
    "# num_trials=1\n",
    "# num_trials=4\n",
    "# ncores=min(os.cpu_count()-1,num_trials)\n",
    "ncores=min(os.cpu_count()-2,num_trials)\n",
    "print(f\"{ncores=}\")\n",
    "t_lst = eval_routine_multiprocess(routine, list(range(num_trials)), ncores)"
   ]
  },
  {
   "cell_type": "code",
   "execution_count": 108,
   "id": "caabf9eb",
   "metadata": {
    "ExecuteTime": {
     "end_time": "2023-08-22T23:54:39.407888Z",
     "start_time": "2023-08-22T23:54:38.801181Z"
    }
   },
   "outputs": [
    {
     "name": "stdout",
     "output_type": "stream",
     "text": [
      "\u0007\u0007\u0007\n",
      "# R_c_bar=1.142 mean termination time: 0.5904910400157506 seconds (num_trials=1000)\n"
     ]
    }
   ],
   "source": [
    "beep(3)\n",
    "print(f\"\\n# {R_c_bar=} mean termination time: {np.mean(t_lst)} seconds ({num_trials=})\")"
   ]
  },
  {
   "cell_type": "code",
   "execution_count": null,
   "id": "ca187daf",
   "metadata": {},
   "outputs": [],
   "source": [
    "# use_creation=True,use_pair_create=True,use_set_created_from_existing=False, creation_duration = 0.1\n",
    "#FK\n",
    "# R_c_bar=0.65 mean termination time: 17.605623600365735 seconds (num_trials=100)\n",
    "#*** mtt=24266.95±197.80 ms (num_obs=81503,p_normal=0.9881103097963074)\n"
   ]
  },
  {
   "cell_type": "code",
   "execution_count": 31,
   "id": "ef419211",
   "metadata": {
    "ExecuteTime": {
     "end_time": "2023-08-17T01:26:05.706740Z",
     "start_time": "2023-08-17T01:26:05.701239Z"
    }
   },
   "outputs": [
    {
     "data": {
      "text/plain": [
       "0.1"
      ]
     },
     "execution_count": 31,
     "metadata": {},
     "output_type": "execute_result"
    }
   ],
   "source": [
    "# use_creation=True,use_pair_create=True,use_set_created_from_existing=False, creation_duration = 0.1\n",
    "#LR\n",
    "# (no creation) R_c_bar=1.142 mean termination time: 0.14049581000002864 seconds (num_trials=1000)\n",
    "# R_c_bar=1.14 mean termination time: 0.5173767720047832 seconds (num_trials=5000)\n",
    "# R_c_bar=1.143 mean termination time: 0.559042546677185 seconds (num_trials=1500)\n",
    "# R_c_bar=1.143 mean termination time: 0.32539750000001677 seconds (num_trials=4)\n",
    "# R_c_bar=1.142 mean termination time: 0.15007410000003432 seconds (num_trials=100)\n",
    "#*** mtt=551.57 ±4.03 ms (num_obs=112062, p_normal=0.7886)"
   ]
  },
  {
   "cell_type": "code",
   "execution_count": null,
   "id": "d4e8df11",
   "metadata": {},
   "outputs": [],
   "source": [
    "# use_creation=True,use_pair_create=False,use_set_created_from_existing=False\n",
    "#FK\n",
    "# R_c_bar=0.65 mean termination time: 23.852541826097294 seconds (num_trials=400)\n",
    "# R_c_bar=0.7029 mean termination time: 26.453913951506603 seconds (num_trials=400)\n",
    "# R_c_bar=0.71 mean termination time: 27.241968726654296 seconds (num_trials=400)\n",
    "# R_c_bar=0.72 mean termination time: 26.770568176689547 seconds (num_trials=400)\n",
    "# R_c_bar=0.72 mean termination time: 30.843771302275357 seconds (num_trials=100)\n",
    "# R_c_bar=0.73 mean termination time: 26.75943750160085 seconds (num_trials=100)\n",
    "# R_c_bar=0.75 mean termination time: 28.33940340174138 seconds (num_trials=100)\n",
    "# R_c_bar=0.8 mean termination time: 34.300554802401685 seconds (num_trials=100)\n",
    "# mean termination time: 1.110395825001123 seconds (num_trials=400) use_creation=True,use_pair_create=True,use_set_created_from_existing=True\n",
    "# mean termination time: 1.1857319000016109 seconds (num_trials=100) use_creation=True,use_pair_create=True,use_set_created_from_existing=True\n",
    "# mean termination time: 0.6099699000000355 seconds (num_trials=100) use_creation=False,use_pair_create=True,use_set_created_from_existing=True\n",
    "# mean termination time: 2.3043088999933348 seconds (num_trials=100) use_creation=True,use_pair_create=True,use_set_created_from_existing=False\n",
    "#*** mean termination time: 9.062298299942903 seconds (num_trials=100) use_creation=True,use_pair_create=False,use_set_created_from_existing=False\n",
    "#*** mtt=24266.95±197.80 ms (num_obs=81503,p_normal=0.9881103097963074)"
   ]
  },
  {
   "cell_type": "code",
   "execution_count": 62,
   "id": "fd7b4820",
   "metadata": {
    "ExecuteTime": {
     "end_time": "2023-07-25T22:58:19.632076Z",
     "start_time": "2023-07-25T22:58:19.629275Z"
    }
   },
   "outputs": [],
   "source": [
    "# use_creation=True,use_pair_create=False,use_set_created_from_existing=False\n",
    "#LR\n",
    "# R_c_bar=1.143 mean termination time: 0.5574098240031797 seconds (num_trials=5000)\n",
    "# R_c_bar=1.15 mean termination time: 0.5742606320048742 seconds (num_trials=5000)\n",
    "# R_c_bar=1.145 mean termination time: 0.5641214660048541 seconds (num_trials=5000)\n",
    "# R_c_bar=1.14 mean termination time: 0.532119972000606 seconds (num_trials=5000)\n",
    "# R_c_bar=1.13 mean termination time: 0.5385729920032527 seconds (num_trials=5000)\n",
    "# R_c_bar=1.12 mean termination time: 0.5389386800053406 seconds (num_trials=1500)\n",
    "# R_c_bar=1.1 mean termination time: 0.5240432800052862 seconds (num_trials=1500)\n",
    "# R_c_bar=1.1 mean termination time: 0.5293599900063447 seconds (num_trials=5000) ***\n",
    "# R_c_bar=1.1 mean termination time: 0.5007108999999207 seconds (num_trials=100)\n",
    "# R_c_bar=1.0 mean termination time: 0.422849439999999 seconds (num_trials=1500)\n",
    "# R_c_bar=1.15 mean termination time: 0.6283578000106073 seconds (num_trials=1500)\n",
    "# R_c_bar=1.17 mean termination time: 0.7066418500197514 seconds (num_trials=400)\n",
    "# R_c_bar=1.175 mean termination time: 0.557225900000157 seconds (num_trials=400)\n",
    "# R_c_bar=1.15 mean termination time: 0.5358903500001004 seconds (num_trials=400)\n",
    "# R_c_bar=1.2 mean termination time: 0.5724554750002581 seconds (num_trials=400)\n",
    "# R_c_bar=1.2 mean termination time: 0.5456433000000622 seconds (num_trials=100)\n",
    "#R_c_bar=1.3334 mean termination time: 0.6969978000004966 seconds (num_trials=100)\n",
    "# R_c_bar=1.   mean termination time: 0.5031106000001673 seconds (num_trials=100)\n",
    "# R_c_bar=1.5  mean termination time: 0.7139236000005404 seconds (num_trials=100)\n",
    "#creation_time=0.25 *** mean termination time: 0.3023589999999963 seconds (num_trials=100)\n",
    "#creation_time=0 *** mean termination time: 0.3023589999999963 seconds (num_trials=100) (all start R_c_bar away) use_creation=True,use_pair_create=False,use_set_created_from_existing=False\n",
    "#(Ninitial=4) mean termination time: 0.34474299999995206 seconds (num_trials=100)\n",
    "\n",
    "\n",
    "#*** mean termination time: 0.20020390000005894 seconds (num_trials=100) use_creation=True,use_pair_create=False,use_set_created_from_existing=False\n",
    "# mean termination time: 0.08749000000001476 seconds (num_trials=4)\n",
    "# mean termination time: 0.12064960000002864 seconds (num_trials=100) use_set_created_from_existing=False\n",
    "# mean termination time: 0.11458660000002324 seconds (num_trials=100) use_set_created_from_existing=True\n",
    "# mean termination time: 0.10718230000001765 seconds (num_trials=100) #without creation\n",
    "#*** mtt=551.57 ±4.03 ms (num_obs=112062, p_normal=0.7886)"
   ]
  },
  {
   "cell_type": "code",
   "execution_count": 98,
   "id": "17937eaa",
   "metadata": {
    "ExecuteTime": {
     "end_time": "2023-08-22T22:29:46.504503Z",
     "start_time": "2023-08-22T22:29:46.500931Z"
    }
   },
   "outputs": [
    {
     "data": {
      "text/plain": [
       "1.142"
      ]
     },
     "execution_count": 98,
     "metadata": {},
     "output_type": "execute_result"
    }
   ],
   "source": [
    "R_c_bar"
   ]
  },
  {
   "cell_type": "code",
   "execution_count": 99,
   "id": "818b6322",
   "metadata": {
    "ExecuteTime": {
     "end_time": "2023-08-22T22:29:47.313033Z",
     "start_time": "2023-08-22T22:29:47.309088Z"
    }
   },
   "outputs": [
    {
     "data": {
      "text/plain": [
       "1.142"
      ]
     },
     "execution_count": 99,
     "metadata": {},
     "output_type": "execute_result"
    }
   ],
   "source": [
    "R_c_bar"
   ]
  },
  {
   "cell_type": "code",
   "execution_count": 100,
   "id": "a8958297",
   "metadata": {
    "ExecuteTime": {
     "end_time": "2023-08-22T22:29:48.327444Z",
     "start_time": "2023-08-22T22:29:47.964405Z"
    },
    "scrolled": true
   },
   "outputs": [
    {
     "data": {
      "image/png": "[encoded data removed]",
      "text/plain": [
       "<Figure size 640x480 with 1 Axes>"
      ]
     },
     "metadata": {},
     "output_type": "display_data"
    }
   ],
   "source": [
    "fontsize=16\n",
    "fig,ax=plt.subplots()\n",
    "bins=16\n",
    "# bins=np.arange(0,5,0.2)\n",
    "# bins=32\n",
    "bins=np.arange(0,3,0.05)\n",
    "ax.hist(t_lst,color='k',bins=bins,density=True,alpha=1,label='Data',edgecolor='w')#,**kwargs)\n",
    "format_plot(xlabel='Termination Time  (s)',ylabel='Probability',ax=ax,fontsize=fontsize)\n",
    "ax.tick_params(top=True, right=True,direction='in',which='both')\n",
    "ax.set_yscale('log')\n",
    "plt.show()"
   ]
  },
  {
   "cell_type": "code",
   "execution_count": 101,
   "id": "0306423d",
   "metadata": {
    "ExecuteTime": {
     "end_time": "2023-08-22T22:29:54.785220Z",
     "start_time": "2023-08-22T22:29:54.188637Z"
    }
   },
   "outputs": [
    {
     "data": {
      "image/png": "[encoded data removed]",
      "text/plain": [
       "<Figure size 640x480 with 1 Axes>"
      ]
     },
     "metadata": {},
     "output_type": "display_data"
    }
   ],
   "source": [
    "fontsize=16\n",
    "fig,ax=plt.subplots()\n",
    "bins=16\n",
    "# bins=np.arange(0,5,0.2)\n",
    "# bins=32\n",
    "# bins=np.arange(0,3,0.05)\n",
    "bins=np.logspace(-2,1,100)\n",
    "ax.hist(t_lst,color='k',bins=bins,density=True,alpha=1,label='Data',edgecolor='w')#,**kwargs)\n",
    "format_plot(xlabel='Termination Time  (s)',ylabel='Probability',ax=ax,fontsize=fontsize)\n",
    "ax.tick_params(top=True, right=True,direction='in',which='both')\n",
    "ax.set_xscale('log')\n",
    "ax.set_yscale('log')\n",
    "plt.show()"
   ]
  },
  {
   "cell_type": "code",
   "execution_count": 89,
   "id": "c10b5d7c",
   "metadata": {
    "ExecuteTime": {
     "end_time": "2023-08-22T21:48:44.540865Z",
     "start_time": "2023-08-22T21:48:44.538336Z"
    }
   },
   "outputs": [],
   "source": [
    "#heretim\n",
    "#Q: does a large number of trials with creation OFF lead to inverse powerlaw termination time distributions?\n",
    "#Q: if creation is OFF, do I get a straight line with slope -1 in the plot ibid?"
   ]
  },
  {
   "cell_type": "code",
   "execution_count": null,
   "id": "66f98cac",
   "metadata": {},
   "outputs": [],
   "source": []
  },
  {
   "cell_type": "code",
   "execution_count": 18,
   "id": "365daa04",
   "metadata": {
    "ExecuteTime": {
     "end_time": "2023-07-20T20:55:10.522902Z",
     "start_time": "2023-07-20T20:55:10.519305Z"
    }
   },
   "outputs": [],
   "source": [
    "# for seed in range(100):\n",
    "#     t = gener_termination_time(seed)\n",
    "# termination time: 0.1626500000000219\n",
    "# termination time: 0.19923000000005847\n",
    "\n",
    "#Q: why was gener_termination_time giving different results!?\n",
    "#A: bc njit's LLVM backend apparently uses a different randomization seed than numpy\n",
    "# termination time: 0.19009000000004933\n",
    "# termination time: 0.03577000000000028\n",
    "# termination time: 0.07939000000000192\n",
    "# termination time: 0.5687100000000466\n",
    "# termination time: 0.021529999999999293\n",
    "# termination time: 0.1721500000000314\n",
    "# termination time: 0.09975999999999402"
   ]
  },
  {
   "cell_type": "code",
   "execution_count": 193,
   "id": "ddbffda2",
   "metadata": {
    "ExecuteTime": {
     "end_time": "2023-07-19T20:40:13.761938Z",
     "start_time": "2023-07-19T20:40:13.749262Z"
    }
   },
   "outputs": [
    {
     "data": {
      "text/plain": [
       "0.1667714285714461"
      ]
     },
     "execution_count": 193,
     "metadata": {},
     "output_type": "execute_result"
    }
   ],
   "source": [
    "np.mean([0.19009000000004933,0.03577000000000028,0.07939000000000192,0.5687100000000466,0.021529999999999293,0.1721500000000314,0.09975999999999402])\n",
    "0.1667714285714461\n"
   ]
  },
  {
   "cell_type": "code",
   "execution_count": 185,
   "id": "22bd6ec2",
   "metadata": {
    "ExecuteTime": {
     "end_time": "2023-07-19T20:38:15.221442Z",
     "start_time": "2023-07-19T20:38:15.218913Z"
    }
   },
   "outputs": [],
   "source": [
    "# seed=42\n",
    "# np.random.seed(seed)\n",
    "# # x_values=np.random.uniform(0,1,size=N)*L\n",
    "# # y_values=np.random.uniform(0,1,size=N)*L\n",
    "# # _values=np.random.choice(list(range(100)))\n",
    "# # _values=np.random.normal()\n",
    "# # _values=uniformRandom()\n",
    "# _values=normalRandom()\n",
    "# # y_values=np.random.uniform(0,1,size=N)*L\n",
    "# _values"
   ]
  },
  {
   "cell_type": "code",
   "execution_count": null,
   "id": "a69befba",
   "metadata": {},
   "outputs": [],
   "source": []
  },
  {
   "cell_type": "code",
   "execution_count": 140,
   "id": "800e875f",
   "metadata": {
    "ExecuteTime": {
     "end_time": "2023-07-19T20:19:30.385985Z",
     "start_time": "2023-07-19T20:19:30.378818Z"
    }
   },
   "outputs": [
    {
     "name": "stdout",
     "output_type": "stream",
     "text": [
      "expected_term_time_N0_2_LR=85.83 ± 20.11 ms\n",
      "expected_term_time_N0_2_FK=1676.61 ± 590.20 ms\n"
     ]
    },
    {
     "data": {
      "text/plain": [
       "25"
      ]
     },
     "execution_count": 140,
     "metadata": {},
     "output_type": "execute_result"
    }
   ],
   "source": [
    "# expected value: for LR model\n",
    "#  τ0 = 13.1 ± 0.4 ms for N0 = 2\n",
    "#  A0 = 13.3 ± 0.3 cm2 at both N0 = 2 and N0=20\n",
    "#src: dissertation\n",
    "expected_term_time_N0_2_LR = 13.1*np.exp(A/13.3) #ms\n",
    "Delta_expected_term_time_N0_2_LR = (0.4/13.1)**2 + (A*0.3/13.3**2)**2\n",
    "Delta_expected_term_time_N0_2_LR *= expected_term_time_N0_2_LR**2\n",
    "print(f\"{expected_term_time_N0_2_LR=:.2f} ± {Delta_expected_term_time_N0_2_LR:.2f} ms\")\n",
    "\n",
    "# τ0 = 2.44 ± 0.02 ms for the FK model\n",
    "# A0 = 3.827 ± 0.007 cm2\n",
    "expected_term_time_N0_2_FK = 2.44*np.exp(A/3.827) #ms\n",
    "Delta_expected_term_time_N0_2_FK = (0.02/2.44)**2 + (A*0.007/3.827**2)**2\n",
    "Delta_expected_term_time_N0_2_FK *= expected_term_time_N0_2_FK**2\n",
    "print(f\"{expected_term_time_N0_2_FK=:.2f} ± {Delta_expected_term_time_N0_2_FK:.2F} ms\")\n",
    "A"
   ]
  },
  {
   "cell_type": "code",
   "execution_count": null,
   "id": "84cafdb6",
   "metadata": {},
   "outputs": [],
   "source": [
    "#TODO: measure tau(2) directly from the full models"
   ]
  }
 ],
 "metadata": {
  "hide_input": false,
  "kernelspec": {
   "display_name": "Python 3 (ipykernel)",
   "language": "python",
   "name": "python3"
  },
  "language_info": {
   "codemirror_mode": {
    "name": "ipython",
    "version": 3
   },
   "file_extension": ".py",
   "mimetype": "text/x-python",
   "name": "python",
   "nbconvert_exporter": "python",
   "pygments_lexer": "ipython3",
   "version": "3.9.13"
  },
  "nbTranslate": {
   "displayLangs": [
    "*"
   ],
   "hotkey": "alt-t",
   "langInMainMenu": true,
   "sourceLang": "en",
   "targetLang": "fr",
   "useGoogleTranslate": true
  },
  "toc": {
   "base_numbering": 1,
   "nav_menu": {},
   "number_sections": true,
   "sideBar": true,
   "skip_h1_title": false,
   "title_cell": "Table of Contents",
   "title_sidebar": "Contents",
   "toc_cell": false,
   "toc_position": {},
   "toc_section_display": true,
   "toc_window_display": false
  }
 },
 "nbformat": 4,
 "nbformat_minor": 5
}
