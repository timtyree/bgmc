{
 "cells": [
  {
   "cell_type": "markdown",
   "id": "920cf84b",
   "metadata": {},
   "source": [
    "# implementing creation events\n",
    "Tim Tyree<br>\n",
    "7.6.2023"
   ]
  },
  {
   "cell_type": "code",
   "execution_count": 1,
   "id": "2fd4548d",
   "metadata": {
    "ExecuteTime": {
     "end_time": "2023-07-10T20:37:21.180008Z",
     "start_time": "2023-07-10T20:37:17.743700Z"
    }
   },
   "outputs": [
    {
     "name": "stderr",
     "output_type": "stream",
     "text": [
      "/Users/timothytyree/opt/miniconda3/envs/pyenv/lib/python3.9/site-packages/statsmodels/compat/pandas.py:61: FutureWarning: pandas.Int64Index is deprecated and will be removed from pandas in a future version. Use pandas.Index with the appropriate dtype instead.\n",
      "  from pandas import Int64Index as NumericIndex\n"
     ]
    }
   ],
   "source": [
    "from lib.my_initialization import *\n",
    "plt.plot([1]*4)\n",
    "plt.close()\n",
    "#reset matplotlib\n",
    "import matplotlib\n",
    "matplotlib.rcParams.update(matplotlib.rcParamsDefault)\n",
    "mpl.rcParams.update(matplotlib.rcParamsDefault) #reset matplotlib"
   ]
  },
  {
   "cell_type": "markdown",
   "id": "7174e063",
   "metadata": {},
   "source": [
    "# define module"
   ]
  },
  {
   "cell_type": "code",
   "execution_count": 2,
   "id": "a3e7d17f",
   "metadata": {
    "ExecuteTime": {
     "end_time": "2023-07-10T20:37:21.192027Z",
     "start_time": "2023-07-10T20:37:21.183984Z"
    }
   },
   "outputs": [],
   "source": [
    "# @njit\n",
    "def format_particles(frameno,t,x_values,y_values,pid_values,round_t_to_n_decimals=5):\n",
    "    n_tips = x_values.shape[0]\n",
    "    dict_out = {\n",
    "        'frame':frameno,\n",
    "        't': np.around(t,round_t_to_n_decimals),\n",
    "        'n': n_tips,\n",
    "        'x': x_values,\n",
    "        'y': y_values,\n",
    "        'particle':pid_values,\n",
    "    }\n",
    "    return dict_out\n",
    "\n",
    "from numba import jit,njit\n",
    "@njit\n",
    "def normalRandom():\n",
    "    return np.random.normal()\n",
    "\n",
    "@njit\n",
    "def uniformRandom():\n",
    "    return np.random.uniform(0,1)\n",
    "# normalRandom(),uniformRandom()\n",
    "\n",
    "# @njit\n",
    "# def levyRandom2D(alpha):\n",
    "#     th = 2*np.pi*np.random.uniform(0,1)\n",
    "#     ul = np.random.uniform(0,1)**(-1./alpha)\n",
    "#     dWx = ul*np.cos(th)\n",
    "#     dWy = ul*np.sin(th)\n",
    "#     return np.array([dWx,dWy])\n",
    "# dWx,dWy = stepscale*levyRandom2D(alpha)\n",
    "# dWx,dWy "
   ]
  },
  {
   "cell_type": "code",
   "execution_count": 173,
   "id": "1e0c4362",
   "metadata": {
    "ExecuteTime": {
     "end_time": "2023-07-11T03:29:51.768957Z",
     "start_time": "2023-07-11T03:29:51.756421Z"
    }
   },
   "outputs": [],
   "source": [
    "def gener_random_creation_position(x_new,y_new,still_running,R_c_bar,L):\n",
    "    \"\"\"\n",
    "    Example Usage:\n",
    "xg,yg=gener_random_creation_position(x_new,y_new,still_running,R_c_bar,L)\n",
    "x_new[igone[0]] = xg\n",
    "y_new[igone[0]] = yg\n",
    "    \"\"\"\n",
    "    #determine random angle\n",
    "    theta=2*np.pi*np.random.uniform()\n",
    "    #select random particle\n",
    "    ihere = np.random.choice(np.argwhere(still_running).flatten())\n",
    "    #place new particle distance R_c_bar from random particle\n",
    "    xg=x_new[ihere] + R_c_bar*np.cos(theta)\n",
    "    yg=y_new[ihere] + R_c_bar*np.sin(theta)\n",
    "    #check if new particle is within distance R_c_bar from any other particles\n",
    "    mindist=2.*L\n",
    "    for j in np.argwhere(still_running).flatten():\n",
    "        if j != ihere:\n",
    "            dist=dist_pbc(xg,yg,x_new[j],y_new[j],L);\n",
    "            if dist<mindist:\n",
    "                mindist=dist\n",
    "    #while new particle is within distance R_c_bar from any other particle\n",
    "    while mindist<R_c_bar:\n",
    "        #determine random angle\n",
    "        theta=2*np.pi*np.random.uniform()\n",
    "        #select random particle\n",
    "        ihere = np.random.choice(np.argwhere(still_running).flatten())\n",
    "        #place new particle distance R_c_bar from random particle\n",
    "        xg=x_new[ihere] + R_c_bar*np.cos(theta)\n",
    "        yg=y_new[ihere] + R_c_bar*np.sin(theta)\n",
    "        #check if new particle is within distance R_c_bar from any other particles\n",
    "        mindist=2.*L\n",
    "        for j in np.argwhere(still_running).flatten():\n",
    "            if j != ihere:\n",
    "                dist=dist_pbc(xg,yg,x_new[j],y_new[j],L);\n",
    "                if dist<mindist:\n",
    "                    mindist=dist\n",
    "    return xg,yg"
   ]
  },
  {
   "cell_type": "markdown",
   "id": "766205f5",
   "metadata": {},
   "source": [
    "# recall apparent birth and death rates"
   ]
  },
  {
   "cell_type": "code",
   "execution_count": 30,
   "id": "dbb3ada6",
   "metadata": {
    "ExecuteTime": {
     "end_time": "2023-07-11T02:52:04.061505Z",
     "start_time": "2023-07-11T02:52:04.056705Z"
    }
   },
   "outputs": [],
   "source": [
    "#DONE: recall creation information\n",
    "R_c_bar=0.7029 #+/-0.0049 cm FK\n",
    "R_c_bar=0.6667 #+/-0.0083 cm LR\n",
    "# not used here unless"
   ]
  },
  {
   "cell_type": "code",
   "execution_count": 4,
   "id": "812ddae9",
   "metadata": {
    "ExecuteTime": {
     "end_time": "2023-07-10T20:37:21.219974Z",
     "start_time": "2023-07-10T20:37:21.200815Z"
    }
   },
   "outputs": [
    {
     "name": "stdout",
     "output_type": "stream",
     "text": [
      "annihilation rate density powerlaw fits:\n",
      "m = 1.877234 +/- 0.024488\n",
      "M = 5.572316 +/- 0.299027 Hz/cm^2; B=2.496963 +/- 0.039522\n",
      "RMSE=0.1386 Hz/cm^2; R^2=0.9969; MPE=6.9910%; N=73\n",
      "m = 1.637556 +/- 0.016847\n",
      "M = 16.735599 +/- 0.829136 Hz/cm^2; B=5.587740 +/- 0.065801\n",
      "RMSE=0.1340 Hz/cm^2; R^2=0.9973; MPE=7.2488%; N=100\n"
     ]
    }
   ],
   "source": [
    "#recall death rates\n",
    "kwargs = dict(data_fk_dir=f'{nb_dir}/data/full_results/data_fig4_vidmar_fk_tt.csv',\n",
    "              data_lr_dir=f'{nb_dir}/data/full_results/data_fig4_vidmar_lr_tt.csv',\n",
    "             min_num_particles=9)\n",
    "dict_wjr = recall_death_rates_vidmar_rappel(**kwargs)\n",
    "fk=dict_wjr['fk']\n",
    "lr=dict_wjr['lr']\n",
    "print(f\"annihilation rate density powerlaw fits:\")\n",
    "dict_fit_death_fk = print_fit_power_law(x=fk['q'].values,y=fk['w'].values)\n",
    "dict_fit_death_lr = print_fit_power_law(x=lr['q'].values,y=lr['w'].values)"
   ]
  },
  {
   "cell_type": "code",
   "execution_count": 5,
   "id": "a3a37736",
   "metadata": {
    "ExecuteTime": {
     "end_time": "2023-07-10T20:37:21.238522Z",
     "start_time": "2023-07-10T20:37:21.223791Z"
    }
   },
   "outputs": [
    {
     "name": "stdout",
     "output_type": "stream",
     "text": [
      "creation rate density powerlaw fits:\n",
      "m = 0.229594 +/- 0.010098\n",
      "M = 0.864210 +/- 0.002349 Hz/cm^2; B=0.529597 +/- 0.020570\n",
      "RMSE=0.0215 Hz/cm^2; R^2=0.9655; MPE=3.0209%; N=73\n",
      "m = 0.714755 +/- 0.009768\n",
      "M = 3.277073 +/- 0.102643 Hz/cm^2; B=5.262676 +/- 0.107278\n",
      "RMSE=0.0417 Hz/cm^2; R^2=0.9971; MPE=4.2323%; N=62\n"
     ]
    }
   ],
   "source": [
    "#recall birth rates\n",
    "birth_rate_dir_fk = f'{nb_dir}/data/full_results/data_fig4_timothy_fk_up2_rescaled_per_tt.csv'\n",
    "birth_rate_dir_lr = f'{nb_dir}/data/full_results/data_fig4_timothy_lr_up2_rescaled_per_tt.csv'\n",
    "df_birth_fk = pd.read_csv(birth_rate_dir_fk)\n",
    "df_birth_lr = pd.read_csv(birth_rate_dir_lr)\n",
    "#scale from kHz to Hz\n",
    "df_birth_fk['w']*=1e3\n",
    "df_birth_lr['w']*=1e3\n",
    "# DONE: compute powerlaw fits of birth rates wjr\n",
    "print(f\"creation rate density powerlaw fits:\")\n",
    "dict_fit_birth_fk = print_fit_power_law(x=df_birth_fk['q'].values,y=df_birth_fk['w'].values)\n",
    "dict_fit_birth_lr = print_fit_power_law(x=df_birth_lr['q'].values,y=df_birth_lr['w'].values)"
   ]
  },
  {
   "cell_type": "code",
   "execution_count": 6,
   "id": "94333d51",
   "metadata": {
    "ExecuteTime": {
     "end_time": "2023-07-10T20:37:21.243321Z",
     "start_time": "2023-07-10T20:37:21.240576Z"
    }
   },
   "outputs": [],
   "source": [
    "Mp=dict_fit_birth_fk['M']\n",
    "nup=dict_fit_birth_fk['m']\n",
    "\n",
    "# Mp=dict_fit_birth_lr['M']\n",
    "# nup=dict_fit_birth_lr['m']"
   ]
  },
  {
   "cell_type": "markdown",
   "id": "ed76b73e",
   "metadata": {},
   "source": [
    "# generate video of the LPM with creation"
   ]
  },
  {
   "cell_type": "code",
   "execution_count": 269,
   "id": "a5812cad",
   "metadata": {
    "ExecuteTime": {
     "end_time": "2023-07-11T04:24:53.024854Z",
     "start_time": "2023-07-11T04:24:53.020668Z"
    }
   },
   "outputs": [],
   "source": [
    "from numpy.random import MT19937\n",
    "from numpy.random import RandomState, SeedSequence\n",
    "# seed=0\n",
    "# seed=1\n",
    "seed=2\n",
    "# seed=3\n",
    "# seed=4\n",
    "# seed=5\n",
    "# seed=6\n",
    "# seed=42\n",
    "\n",
    "#random number stream A\n",
    "rs = RandomState(MT19937(SeedSequence(seed)))\n",
    "#random number stream B\n",
    "# rs = RandomState(MT19937(SeedSequence(987654321)))\n",
    "np.random.seed(seed)"
   ]
  },
  {
   "cell_type": "code",
   "execution_count": 270,
   "id": "5fc007e0",
   "metadata": {
    "ExecuteTime": {
     "end_time": "2023-07-11T04:24:53.667987Z",
     "start_time": "2023-07-11T04:24:53.662984Z"
    }
   },
   "outputs": [],
   "source": [
    "#FK\n",
    "# Mp = 0.8642103569057054 # +/- 0.002349 Hz/cm^2\n",
    "# nup = 0.22959399086621063 #+/- 0.010098\n",
    "Mp  = 0.864 #+/- 0.002 Hz/cm^2\n",
    "nup = 0.230 #+/- 0.010"
   ]
  },
  {
   "cell_type": "code",
   "execution_count": 271,
   "id": "3b86a8e9",
   "metadata": {
    "ExecuteTime": {
     "end_time": "2023-07-11T04:24:56.799083Z",
     "start_time": "2023-07-11T04:24:56.796163Z"
    }
   },
   "outputs": [],
   "source": [
    "#LR\n",
    "# Mp = 3.2770725040489235 #+/- 0.102643 Hz/cm^2;\n",
    "# nup = 0.7147550082416185 #+/- 0.009768\n",
    "Mp = 3.28 #+/- 0.10 Hz/cm^2;\n",
    "nup = 0.715 #+/- 0.010\n",
    "\n",
    "Mp=0 #COMMENT_HERE"
   ]
  },
  {
   "cell_type": "code",
   "execution_count": 272,
   "id": "a800427e",
   "metadata": {
    "ExecuteTime": {
     "end_time": "2023-07-11T04:24:57.464317Z",
     "start_time": "2023-07-11T04:24:57.462040Z"
    }
   },
   "outputs": [],
   "source": [
    "#DONE: copy annihilation algorithm here"
   ]
  },
  {
   "cell_type": "code",
   "execution_count": 273,
   "id": "5c4cc02d",
   "metadata": {
    "ExecuteTime": {
     "end_time": "2023-07-11T04:24:58.046611Z",
     "start_time": "2023-07-11T04:24:57.979291Z"
    }
   },
   "outputs": [
    {
     "data": {
      "image/png": "[encoded data removed]",
      "text/plain": [
       "<Figure size 600x600 with 1 Axes>"
      ]
     },
     "metadata": {},
     "output_type": "display_data"
    }
   ],
   "source": [
    "show_movie=True\n",
    "# show_movie=False\n",
    "\n",
    "N=150 #max number of particles\n",
    "# N=2 \n",
    "Ninitial=2 #COMMENT_HERE\n",
    "# Nfinal=6 #~1m run time starting from Ninitial=N\n",
    "Nfinal=0 #~3m play time starting from Ninitial=N\n",
    "# Nfinal=2\n",
    "L=5\n",
    "# L=10\n",
    "np.random.seed(42)\n",
    "x_values=rs.uniform(size=N)*L\n",
    "y_values=rs.uniform(size=N)*L\n",
    "t=0\n",
    "use_uniform_ic=True\n",
    "use_uniform_ic=False\n",
    "if use_uniform_ic:\n",
    "    Nrow=4\n",
    "#     Nrow=10\n",
    "    #explicitely uniform ic.\n",
    "    uvals=np.linspace(0,L*Nrow/(Nrow+1),Nrow)\n",
    "    x_values,y_values=np.meshgrid(uvals,uvals)\n",
    "    x_values=x_values.flatten()+L/(2*(Nrow+1))\n",
    "    y_values=y_values.flatten()+L/(2*(Nrow+1))\n",
    "    #explicitely enter ^these values in my c simulation and run it\n",
    "    N = x_values.shape[0]\n",
    "    \n",
    "#return a scatter plot that may be saved as png\n",
    "if show_movie:\n",
    "    annotating=True\n",
    "    message='initial positions'\n",
    "    fig=ScatterPlotSnapshot(x_values,y_values,t,width=L,height=L,\n",
    "                            annotating=annotating,message=message,inch=6)\n",
    "    plt.show()"
   ]
  },
  {
   "cell_type": "code",
   "execution_count": 274,
   "id": "a3212a2f",
   "metadata": {
    "ExecuteTime": {
     "end_time": "2023-07-11T04:25:04.751954Z",
     "start_time": "2023-07-11T04:25:04.672616Z"
    }
   },
   "outputs": [],
   "source": [
    "if show_movie:\n",
    "    #for snapshot output\n",
    "    save_folder=f\"{nb_dir}/Figures/mov\"\n",
    "    if os.path.exists(save_folder):\n",
    "        #cleanse the old snapshot folder\n",
    "        shutil.rmtree(save_folder)\n",
    "    os.mkdir(save_folder)\n",
    "    frameno=1\n",
    "    save_fn=None\n",
    "    inch=6\n",
    "    annotating=True\n",
    "\n",
    "# message='without forces'\n",
    "# force_code=0\n",
    "# varkappa=0\n",
    "# message='with anti-spring forces'\n",
    "# force_code=1\n",
    "# varkappa=-5\n",
    "message='with particle creation'\n",
    "force_code=2\n",
    "# varkappa=1.552"
   ]
  },
  {
   "cell_type": "code",
   "execution_count": 275,
   "id": "68c266f0",
   "metadata": {
    "ExecuteTime": {
     "end_time": "2023-07-11T04:25:12.753168Z",
     "start_time": "2023-07-11T04:25:12.748598Z"
    }
   },
   "outputs": [],
   "source": [
    "#define model parameters\n",
    "# #FK\n",
    "# r=0.7 #cm \n",
    "# varkappa=1.552 #cm^2/s\n",
    "# D=0.115 #cm^2/s\n",
    "# # save_every=25\n",
    "# save_every=5\n",
    "# # save_every=1 #45 min\n",
    "\n",
    "#LR\n",
    "r=0.314 #cm \n",
    "varkappa=9.3 #cm^2/s\n",
    "D=0.42 #cm^2/s\n",
    "save_every=5 \n",
    "# save_every=1\n",
    "# save_every=1000000000\n",
    "# varkappa=0 #no attraction\n",
    "\n",
    "kappa=75 #Hz\n",
    "kappa=1e5 #Hz  #COMMENT HERE\n",
    "# varkappa=93 #cm^2/s #COMMENT HERE\n",
    "Dt=1e-5;dt=1e-5\n",
    "# tmax=500\n",
    "tmax=1 #s\n",
    "\n",
    "#for forces\n",
    "x0=5\n",
    "# no_repulsion=1\n",
    "# no_attraction=1\n",
    "no_repulsion=0\n",
    "no_attraction=0\n",
    "seed=123456789\n",
    "#skipping reflect,set_second, and neighbor functionality\n",
    "\n",
    "#define constants\n",
    "alpha=1. #ballistic\n",
    "alpha=2. #diffusive\n",
    "# alpha=1.5 #levy-esque  #gives wrong annihilation rates"
   ]
  },
  {
   "cell_type": "code",
   "execution_count": null,
   "id": "916251b1",
   "metadata": {
    "ExecuteTime": {
     "end_time": "2023-07-10T20:37:21.580232Z",
     "start_time": "2023-07-10T20:37:21.577597Z"
    }
   },
   "outputs": [],
   "source": []
  },
  {
   "cell_type": "code",
   "execution_count": 276,
   "id": "c140e75f",
   "metadata": {
    "ExecuteTime": {
     "end_time": "2023-07-11T04:26:25.437799Z",
     "start_time": "2023-07-11T04:25:14.233186Z"
    }
   },
   "outputs": [
    {
     "name": "stdout",
     "output_type": "stream",
     "text": [
      "running simulation...\n",
      "simulation complete!\n",
      "-n \u0007\n"
     ]
    },
    {
     "data": {
      "text/plain": [
       "0"
      ]
     },
     "execution_count": 276,
     "metadata": {},
     "output_type": "execute_result"
    }
   ],
   "source": [
    "# message=f'with {alpha=}'\n",
    "message=' '\n",
    "stepscale=np.sqrt(2*D*Dt) #diffusive\n",
    "# stepscale=(2*D*Dt)**(1/alpha)\n",
    "probreact=kappa*dt\n",
    "T_net=0;count_net=0\n",
    "np.random.seed(seed)\n",
    "dist_cutoff=1e-2\n",
    "# iter_per_movestep = round(Dt/dt)\n",
    "impulse_prefactor= varkappa * Dt\n",
    "tiarray=np.zeros(N)\n",
    "tfarray=np.zeros(N)\n",
    "epsilon=5e-2  #reactions happen immediately at this range\n",
    "creation_duration = 0.0025 # 0.001 #s  # 0.1 #s\n",
    "# chi=20. # unitless value >1.  = repulsion_strength / attraction_strength\n",
    "chi=2.08 #±0.04 # LR # unitless value >1.  = repulsion_strength / attraction_strength\n",
    "# chi=2.94 #±0.04 # FK # unitless value >1.  = repulsion_strength / attraction_strength\n",
    "use_pair_create=True\n",
    "# use_pair_create=False\n",
    "use_set_created_from_existing=True\n",
    "# epsilon=5e-4  #reactions happen?\n",
    "#heretim\n",
    "#for csv output\n",
    "data_folder=f\"{nb_dir}/data/local_results/creation_test\"\n",
    "if not os.path.exists(data_folder):\n",
    "    os.mkdir(data_folder)\n",
    "data_folder=data_folder+\"/Log\"\n",
    "if not os.path.exists(data_folder):\n",
    "    os.mkdir(data_folder)\n",
    "data_fn=f\"pbc_seed_{seed}_fc_{force_code}_r_{r}_D_{D}_L_{L}_kappa_{kappa}_varkappa_{varkappa}_alpha_{alpha}_creatdur_{creation_duration}_chi_{chi}_log.csv\"\n",
    "\n",
    "step=0\n",
    "recording_locations=True\n",
    "recording_snapshots=True\n",
    "# recording_locations=False\n",
    "# recording_snapshots=False\n",
    "print(\"running simulation...\");\n",
    "t=-Dt\n",
    "# still_running=True;\n",
    "exit_code=-1;T=-9999.\n",
    "#initialize positions\n",
    "# #uniform random ic\n",
    "# x_values=rs.uniform(size=N)*L\n",
    "# y_values=rs.uniform(size=N)*L\n",
    "# #explicitely uniform ic\n",
    "# uvals=np.linspace(0,L,5)\n",
    "# x_values,y_values=np.meshgrid(uvals,uvals)\n",
    "# x_values=x_values.flatten()\n",
    "# y_values=y_values.flatten()\n",
    "\n",
    "#lower case: world coordinates\n",
    "#upper case: material coordinates\n",
    "x=x_values.copy()\n",
    "y=y_values.copy()\n",
    "x_old=x_values.copy()\n",
    "y_old=y_values.copy()\n",
    "x_new=x_values.copy()\n",
    "y_new=y_values.copy()\n",
    "X=x_values.copy()\n",
    "Y=y_values.copy()\n",
    "X_old=x_values.copy()\n",
    "Y_old=y_values.copy()\n",
    "X_new=x_values.copy()\n",
    "Y_new=y_values.copy()\n",
    "zeros=np.zeros_like(x_values)\n",
    "zerosint=np.zeros_like(x_values).astype('int')\n",
    "# still_running=zerosint==zerosint\n",
    "still_running=zerosint!=zerosint\n",
    "still_running[:Ninitial]=True  #initialize first Ninitial particles to still be running\n",
    "caught=zerosint.copy()-9999#!=zerosint\n",
    "anticaught=zerosint.copy()-9999#!=zerosint\n",
    "# //start set_second kernel\n",
    "# //end set_second kernel\n",
    "#make still_running into still_running_values\n",
    "dict_out_lst=[]\n",
    "# reset the net forces\n",
    "Fx_net=zeros.copy()\n",
    "Fy_net=zeros.copy()\n",
    "# while(still_running.any()):\n",
    "while(still_running.sum()>Nfinal):\n",
    "    # //reinitialize_kernel, which copies X,Y_new to X,Y_old\n",
    "    min_dist_old=zeros+9999999\n",
    "    i_neighbor=zerosint-1\n",
    "    x_old=x_new\n",
    "    y_old=y_new\n",
    "    t=t+Dt;\n",
    "\n",
    "    #sum_each_force_kernel\n",
    "    for i in range(N):\n",
    "        if(still_running[i]):\n",
    "            for j in range(i+1,N):\n",
    "                if(still_running[j]):\n",
    "                    #compute displacement vector with pbc\n",
    "                    dx = subtract_pbc_1d(x_old[j],x_old[i],L);\n",
    "                    dy = subtract_pbc_1d(y_old[j],y_old[i],L);\n",
    "                    dist2=dx*dx+dy*dy;\n",
    "                    if (dist2<1e-8):\n",
    "                        dist2=float(1e-8)\n",
    "                    dist = np.sqrt(dist2)\n",
    "                    #compute displacement due to drift\n",
    "                    impulse_factor=0.\n",
    "                    if (force_code==1):\n",
    "                      #spring\n",
    "                      impulse_factor=impulse_prefactor*(dist-x0)/dist;\n",
    "                    if (force_code==2):\n",
    "                      #QED2: force ~ inverse power law\n",
    "                      impulse_factor=impulse_prefactor/dist2;\n",
    "                    if (force_code==3):\n",
    "                      #QED3: force ~ inverse square power law\n",
    "                      impulse_factor=impulse_prefactor/dist2/dist;\n",
    "                    #set impulse_factor to zero if it is explicitly forbidden by the user input\n",
    "                    if ((no_attraction==1) & (impulse_factor>0)):\n",
    "                        impulse_factor=0.\n",
    "                    if ((no_repulsion==1) & (impulse_factor<0)):\n",
    "                        impulse_factor=0.\n",
    "                    #sum Fx_net, Fy_net according to a symplectic (momentum conserving) integrator\n",
    "                    Fx_net[i]=Fx_net[i]+dx*impulse_factor;\n",
    "                    Fy_net[i]=Fy_net[i]+dy*impulse_factor;\n",
    "                    Fx_net[j]=Fx_net[j]-dx*impulse_factor;\n",
    "                    Fy_net[j]=Fy_net[j]-dy*impulse_factor                    \n",
    "                    #determine if they are closer than epsilon\n",
    "                    if dist<epsilon:\n",
    "                        #remove if they are\n",
    "                        still_running[i]=False\n",
    "                        still_running[j]=False\n",
    "                        #heretim\n",
    "                        uncatch_set=set()\n",
    "                        if caught[i]>=0: \n",
    "                            uncatch_set.update([caught[i]])\n",
    "                            if caught[caught[i]]>=0:\n",
    "                                uncatch_set.update([caught[caught[i]]])\n",
    "                        if caught[j]>=0: \n",
    "                            uncatch_set.update([caught[j]])\n",
    "                            if caught[caught[j]]>=0:\n",
    "                                uncatch_set.update([caught[caught[j]]])\n",
    "                        if len(uncatch_set)>0:\n",
    "                            for k in uncatch_set:\n",
    "                                caught[k]=-9999\n",
    "    #compute the one_step given the net force, F_net\n",
    "    for i in range(N):\n",
    "        if(still_running[i]):\n",
    "            if caught[i]<0:\n",
    "                dxt=Fx_net[i];\n",
    "                dyt=Fy_net[i];\n",
    "                # compute displacement due to levy flight\n",
    "#                 dxW,dyW = stepscale*levyRandom2D(alpha)\n",
    "                dxW = stepscale*normalRandom()\n",
    "                dyW = stepscale*normalRandom()\n",
    "                # next spatial position, time integrating by a duration, Dt. enforce PBC.\n",
    "                x_new[i]=periodic(x_old[i]+dxW+dxt,L);\n",
    "                y_new[i]=periodic(y_old[i]+dyW+dyt,L);\n",
    "            else:\n",
    "                j=caught[i]\n",
    "                ti=tiarray[i]\n",
    "                tf=tfarray[i]            \n",
    "                #compute displacement vector with pbc\n",
    "                dx = subtract_pbc_1d(x_old[j],x_old[i],L)\n",
    "                dy = subtract_pbc_1d(y_old[j],y_old[i],L)      \n",
    "                xl = dx - (x_old[j]-x_old[i])\n",
    "                yl = dy - (y_old[j]-y_old[i])\n",
    "                #compute average location\n",
    "                xavg = x_old[i] + 0.5*dx \n",
    "                yavg = y_old[i] + 0.5*dy\n",
    "                #compute frac to interpolate by\n",
    "                frac = (t-ti)/(tf-ti)\n",
    "                frac = np.min((1,frac))\n",
    "                x_new[i] = periodic(x_old[i]*(1-frac) + (xavg+xl)*frac,L)\n",
    "                y_new[i] = periodic(y_old[i]*(1-frac) + (yavg+yl)*frac,L)\n",
    "    #reaction_kernel\n",
    "    for i in range(N):\n",
    "        if(still_running[i]&(caught[i]<0)):\n",
    "            # // each i,j pair is reached once per call to kernel_measure\n",
    "            for j in range(i+1,N):\n",
    "                if(still_running[j]&(caught[j]<0)):\n",
    "                    # // compute distance between particles that are still running\n",
    "                    dist=dist_pbc(x_new[i],y_new[i],x_new[j],y_new[j],L);\n",
    "                    in_range=dist<r;\n",
    "                    # // in_range=true;//uncomment for smeared method\n",
    "                    # // if two particles are in range\n",
    "                    if(in_range):\n",
    "                        # // determine whether those two particles react via the simple method\n",
    "                        reacts=probreact>uniformRandom();\n",
    "                        # // determine whether those two particles react via the smeared method\n",
    "                        # // sig=sigmoid(dist, r, beta);\n",
    "                        # // reacts=probreact*sig>uniformRandom();\n",
    "                        if(reacts):\n",
    "                            exit_code=1;\n",
    "                            T=t;\n",
    "#                             still_running[i]=False;\n",
    "#                             still_running[j]=False;\n",
    "                            #uncatch any previous catches\n",
    "                            if caught[i]>=0: caught[caught[i]]=-9999\n",
    "                            if caught[j]>=0: caught[caught[j]]=-9999\n",
    "                            #catch these two\n",
    "                            caught[i]=j;\n",
    "                            caught[j]=i;\n",
    "                            #determine deltat\n",
    "                            deltat = dist**2/(4*(varkappa+2*D))\n",
    "                            #determine ti,tf\n",
    "                            tiarray[i]=t\n",
    "                            tfarray[i]=t+deltat\n",
    "                            tiarray[j]=t\n",
    "                            tfarray[j]=t+deltat\n",
    "\n",
    "    \n",
    "    #determine rate_of_creation from average density\n",
    "    num_particles = np.sum(still_running)\n",
    "    A = L**2\n",
    "    prob_create = dt * Mp * (num_particles / A) ** nup * A\n",
    "    #creation_kernel\n",
    "    if prob_create>np.random.uniform():\n",
    "        if np.sum(~still_running)>=2:\n",
    "            #select the first two particles that are removed\n",
    "            igone=np.argwhere(~still_running)\n",
    "            \n",
    "            #set their positions to 2 uniformly distributed positions\n",
    "            x_new[igone[0]]=np.random.uniform()*L\n",
    "            x_new[igone[1]]=np.random.uniform()*L\n",
    "            y_new[igone[0]]=np.random.uniform()*L\n",
    "            y_new[igone[1]]=np.random.uniform()*L\n",
    "\n",
    "            #optionally set their positions to average a random location\n",
    "            if use_pair_create:\n",
    "                #optionally set their positions be a fixed distance to nearest tip\n",
    "                if use_set_created_from_existing:\n",
    "                    #place a pair of particles uniformly on the circle of radius R_c_bar from a random particle\n",
    "                    xg,yg=gener_random_creation_position(x_new,y_new,still_running,R_c_bar,L)\n",
    "                    x_new[igone[0]] = xg\n",
    "                    y_new[igone[0]] = yg\n",
    "                theta=2*np.pi*np.random.uniform()\n",
    "                x_new[igone[1]]=x_new[igone[0]] + 2.*r*np.cos(theta)\n",
    "                y_new[igone[1]]=y_new[igone[0]] + 2.*r*np.sin(theta)\n",
    "\n",
    "            still_running[igone[0]]=True\n",
    "            still_running[igone[1]]=True\n",
    "            caught[igone[0]]=-9999\n",
    "            caught[igone[1]]=-9999\n",
    "            anticaught[igone[0]]=igone[1]\n",
    "            anticaught[igone[1]]=igone[0]\n",
    "            tfarray[igone[0]]=t+creation_duration\n",
    "            tfarray[igone[1]]=t+creation_duration\n",
    "                \n",
    "    # reset the net forces\n",
    "    Fx_net=zeros.copy()\n",
    "    Fy_net=zeros.copy()\n",
    "    #creation_force_kernel\n",
    "    if use_pair_create:\n",
    "        for i in range(N):\n",
    "            if(still_running[i]&(anticaught[i]>=0)):\n",
    "                j = anticaught[i]\n",
    "                if still_running[j]:\n",
    "                    #compute displacement vector with pbc\n",
    "                    dx = subtract_pbc_1d(x_old[j],x_old[i],L);\n",
    "                    dy = subtract_pbc_1d(y_old[j],y_old[i],L);\n",
    "                    dist2=dx*dx+dy*dy;\n",
    "                    if (dist2<1e-8):\n",
    "                        dist2=float(1e-8)\n",
    "                    dist = np.sqrt(dist2)\n",
    "                    #compute displacement due to drift\n",
    "                    impulse_factor=0.\n",
    "                    if (force_code==1):\n",
    "                      #spring\n",
    "                      impulse_factor=impulse_prefactor*(dist-x0)/dist;\n",
    "                    if (force_code==2):\n",
    "                      #QED2: force ~ inverse power law\n",
    "                      impulse_factor=impulse_prefactor/dist2;\n",
    "                    if (force_code==3):\n",
    "                      #QED3: force ~ inverse square power law\n",
    "                      impulse_factor=impulse_prefactor/dist2/dist;\n",
    "                    #set impulse_factor to zero if it is explicitly forbidden by the user input\n",
    "                    if ((no_attraction==1) & (impulse_factor<0)):\n",
    "                        impulse_factor=0.\n",
    "                    if ((no_repulsion==1) & (impulse_factor>0)):\n",
    "                        impulse_factor=0.\n",
    "                    #account for double counting and then scale\n",
    "                    impulse_factor*=0.5*chi\n",
    "                    #sum Fx_net, Fy_net according to a symplectic (momentum conserving) integrator\n",
    "                    Fx_net[i]=Fx_net[i]-dx*impulse_factor;\n",
    "                    Fy_net[i]=Fy_net[i]-dy*impulse_factor;\n",
    "                    Fx_net[j]=Fx_net[j]+dx*impulse_factor;\n",
    "                    Fy_net[j]=Fy_net[j]+dy*impulse_factor \n",
    "    \n",
    "    #turn off creation array\n",
    "    for i in range(N):\n",
    "        if still_running[i] and anticaught[i]>=0:\n",
    "            if t>tfarray[i]:\n",
    "                anticaught[i]=-9999\n",
    "                    \n",
    "    if show_movie:\n",
    "        if step%save_every==0:\n",
    "            x_plot=x_new[still_running]\n",
    "            y_plot=y_new[still_running]\n",
    "            c_plot = np.array(['gray']*y_plot.shape[0])\n",
    "            caugh=caught[still_running]\n",
    "            for i in range(y_plot.shape[0]):\n",
    "                if caugh[i]>=0:\n",
    "                    c_plot[i]='r'\n",
    "            acaugh=anticaught[still_running]\n",
    "            for i in range(y_plot.shape[0]):\n",
    "                if acaugh[i]>=0:\n",
    "                    c_plot[i]='g'\n",
    "\n",
    "            if recording_snapshots:\n",
    "                #save result as png\n",
    "                SaveScatterPlotSnapshot(x_plot,y_plot,t,\n",
    "                                        c=c_plot,\n",
    "                                        width=L,height=L,\n",
    "                                frameno=frameno,save_folder=save_folder,\n",
    "                                annotating=annotating,message=message)\n",
    "    #             print(f\"- saved pic at {frameno=}\")\n",
    "            if (recording_locations)&(x_plot.shape[0]>0):\n",
    "                pid_values = np.arange(x_values.shape[0])[still_running]\n",
    "                #append particle locations to log, dict_out_lst\n",
    "                dict_out=format_particles(frameno,t,x_plot,y_plot,pid_values=pid_values)\n",
    "                dict_out_lst.append(dict_out)\n",
    "\n",
    "            frameno+=1\n",
    "\n",
    "    #shut simulation down if it's taking too long...\n",
    "    if (t>tmax):\n",
    "        for i in range(N):\n",
    "            still_running[i]=False;\n",
    "            exit_code=-99;\n",
    "    \n",
    "    step+=1\n",
    "    #end while running\n",
    "    \n",
    "#record this trial\n",
    "if (exit_code>0):\n",
    "    if (T>0.):\n",
    "        T_net=T_net+T;\n",
    "        count_net=count_net+1;\n",
    "    \n",
    "print(f\"simulation complete!\")\n",
    "beep(1)"
   ]
  },
  {
   "cell_type": "code",
   "execution_count": 277,
   "id": "8f0c0d5a",
   "metadata": {
    "ExecuteTime": {
     "end_time": "2023-07-11T04:26:25.443874Z",
     "start_time": "2023-07-11T04:26:25.440156Z"
    }
   },
   "outputs": [
    {
     "name": "stdout",
     "output_type": "stream",
     "text": [
      "termination time: 0.0668 s\n"
     ]
    }
   ],
   "source": [
    "#DONE: print termination time\n",
    "print(f\"termination time: {t:.4f} s\")"
   ]
  },
  {
   "cell_type": "code",
   "execution_count": 278,
   "id": "428305b3",
   "metadata": {
    "ExecuteTime": {
     "end_time": "2023-07-11T04:26:26.301732Z",
     "start_time": "2023-07-11T04:26:25.446781Z"
    }
   },
   "outputs": [
    {
     "name": "stdout",
     "output_type": "stream",
     "text": [
      "saved to:\n",
      "/Users/timothytyree/Documents/GitHub/bgmc/python/data/local_results/creation_test/Log/pbc_seed_123456789_fc_2_r_0.314_D_0.42_L_5_kappa_100000.0_varkappa_9.3_alpha_2.0_creatdur_0.0025_chi_2.08_log.csv\n"
     ]
    }
   ],
   "source": [
    "#save particle locations as csv\n",
    "saving=recording_locations\n",
    "# saving=False\n",
    "printing=True\n",
    "df = pd.concat([pd.DataFrame(dict_out) for dict_out in dict_out_lst])\n",
    "df.reset_index(inplace=True, drop=True)\n",
    "if saving:\n",
    "    #save the recorded data\n",
    "    os.chdir(data_folder)\n",
    "    df.to_csv(data_fn, index=False)\n",
    "    if printing:\n",
    "        print('saved to:')\n",
    "        print(os.path.abspath(data_fn))\n",
    "    #     #if the end of AF was indeed reachded, append a row recording this\n",
    "    #     if n_tips==0:\n",
    "    #         next_id = df.index.values[-1]+1\n",
    "    #         df = pd.concat([df,pd.DataFrame({'t': float(save_every_n_frames*h+t),'n': int(n_tips)}, index = [next_id])])\n",
    "    #save the recorded data\n",
    "#     #     df.round(round_output_decimals).to_csv(data_dir_log, index=False)\n",
    "#     if printing:\n",
    "#         print('saved to:')\n",
    "#         print(data_dir_log)"
   ]
  },
  {
   "cell_type": "code",
   "execution_count": 279,
   "id": "36c95a45",
   "metadata": {
    "ExecuteTime": {
     "end_time": "2023-07-11T04:26:26.311139Z",
     "start_time": "2023-07-11T04:26:26.306979Z"
    }
   },
   "outputs": [
    {
     "name": "stdout",
     "output_type": "stream",
     "text": [
      "/Users/timothytyree/Documents/GitHub/bgmc/python/data/local_results/creation_test/Log/pbc_seed_123456789_fc_2_r_0.314_D_0.42_L_5_kappa_100000.0_varkappa_9.3_alpha_2.0_creatdur_0.0025_chi_2.08_log.csv\n"
     ]
    }
   ],
   "source": [
    "print(os.path.abspath(data_fn))"
   ]
  },
  {
   "cell_type": "code",
   "execution_count": 280,
   "id": "8c716e50",
   "metadata": {
    "ExecuteTime": {
     "end_time": "2023-07-11T04:26:51.006092Z",
     "start_time": "2023-07-11T04:26:26.314343Z"
    }
   },
   "outputs": [
    {
     "name": "stderr",
     "output_type": "stream",
     "text": [
      "ffmpeg version 5.1.2 Copyright (c) 2000-2022 the FFmpeg developers\n",
      "  built with Apple clang version 14.0.0 (clang-1400.0.29.202)\n",
      "  configuration: --prefix=/usr/local/Cellar/ffmpeg/5.1.2_6 --enable-shared --enable-pthreads --enable-version3 --cc=clang --host-cflags= --host-ldflags= --enable-ffplay --enable-gnutls --enable-gpl --enable-libaom --enable-libaribb24 --enable-libbluray --enable-libdav1d --enable-libmp3lame --enable-libopus --enable-librav1e --enable-librist --enable-librubberband --enable-libsnappy --enable-libsrt --enable-libsvtav1 --enable-libtesseract --enable-libtheora --enable-libvidstab --enable-libvmaf --enable-libvorbis --enable-libvpx --enable-libwebp --enable-libx264 --enable-libx265 --enable-libxml2 --enable-libxvid --enable-lzma --enable-libfontconfig --enable-libfreetype --enable-frei0r --enable-libass --enable-libopencore-amrnb --enable-libopencore-amrwb --enable-libopenjpeg --enable-libspeex --enable-libsoxr --enable-libzmq --enable-libzimg --disable-libjack --disable-indev=jack --enable-videotoolbox\n",
      "  libavutil      57. 28.100 / 57. 28.100\n",
      "  libavcodec     59. 37.100 / 59. 37.100\n",
      "  libavformat    59. 27.100 / 59. 27.100\n",
      "  libavdevice    59.  7.100 / 59.  7.100\n",
      "  libavfilter     8. 44.100 /  8. 44.100\n",
      "  libswscale      6.  7.100 /  6.  7.100\n",
      "  libswresample   4.  7.100 /  4.  7.100\n",
      "  libpostproc    56.  6.100 / 56.  6.100\n",
      "Input #0, image2, from '../../python/Figures/mov/img%07d.png':\n",
      "  Duration: 00:00:53.48, start: 0.000000, bitrate: N/A\n",
      "  Stream #0:0: Video: png, rgba(pc), 558x560 [SAR 4724:4724 DAR 279:280], 25 fps, 25 tbr, 25 tbn\n",
      "Stream mapping:\n",
      "  Stream #0:0 -> #0:0 (png (native) -> h264 (libx264))\n",
      "Press [q] to stop, [?] for help\n",
      "[libx264 @ 0x7f83b4f08680] using SAR=1674/1673\n",
      "[libx264 @ 0x7f83b4f08680] using cpu capabilities: MMX2 SSE2Fast SSSE3 SSE4.2 AVX FMA3 BMI2 AVX2\n",
      "[libx264 @ 0x7f83b4f08680] profile High, level 3.2, 4:2:0, 8-bit\n",
      "Output #0, mpegts, to '../mov/tmp/tmp.MTS':\n",
      "  Metadata:\n",
      "    encoder         : Lavf59.27.100\n",
      "  Stream #0:0: Video: h264, yuv420p(tv, progressive), 1280x720 [SAR 1674:1673 DAR 2976:1673], q=2-31, 60 fps, 90k tbn\n",
      "    Metadata:\n",
      "      encoder         : Lavc59.37.100 libx264\n",
      "    Side data:\n",
      "      cpb: bitrate max/min/avg: 0/0/0 buffer size: 0 vbv_delay: N/A\n",
      "frame= 3209 fps=250 q=-1.0 Lsize=     857kB time=00:00:53.43 bitrate= 131.4kbits/s speed=4.17x    \n",
      "video:251kB audio:0kB subtitle:0kB other streams:0kB global headers:0kB muxing overhead: 241.222763%\n",
      "[libx264 @ 0x7f83b4f08680] frame I:13    Avg QP: 9.41  size:  2500\n",
      "[libx264 @ 0x7f83b4f08680] frame P:808   Avg QP:15.14  size:   122\n",
      "[libx264 @ 0x7f83b4f08680] frame B:2388  Avg QP:15.81  size:    53\n",
      "[libx264 @ 0x7f83b4f08680] consecutive B-frames:  0.8%  0.0%  0.0% 99.2%\n",
      "[libx264 @ 0x7f83b4f08680] mb I  I16..4: 96.0%  2.2%  1.8%\n",
      "[libx264 @ 0x7f83b4f08680] mb P  I16..4:  0.0%  0.0%  0.0%  P16..4:  0.4%  0.1%  0.0%  0.0%  0.0%    skip:99.4%\n",
      "[libx264 @ 0x7f83b4f08680] mb B  I16..4:  0.0%  0.0%  0.0%  B16..8:  0.4%  0.0%  0.0%  direct: 0.0%  skip:99.6%  L0:57.5% L1:42.1% BI: 0.4%\n",
      "[libx264 @ 0x7f83b4f08680] 8x8 transform intra:4.2% inter:45.8%\n",
      "[libx264 @ 0x7f83b4f08680] coded y,uvDC,uvAC intra: 1.5% 0.0% 0.0% inter: 0.0% 0.0% 0.0%\n",
      "[libx264 @ 0x7f83b4f08680] i16 v,h,dc,p: 97%  0%  2%  0%\n",
      "[libx264 @ 0x7f83b4f08680] i8 v,h,dc,ddl,ddr,vr,hd,vl,hu: 15%  5% 79%  0%  0%  0%  0%  0%  0%\n",
      "[libx264 @ 0x7f83b4f08680] i4 v,h,dc,ddl,ddr,vr,hd,vl,hu: 37% 20% 24%  3%  3%  3%  3%  4%  2%\n",
      "[libx264 @ 0x7f83b4f08680] i8c dc,h,v,p: 100%  0%  0%  0%\n",
      "[libx264 @ 0x7f83b4f08680] Weighted P-Frames: Y:0.0% UV:0.0%\n",
      "[libx264 @ 0x7f83b4f08680] ref P L0: 74.6%  4.0% 13.3%  8.1%\n",
      "[libx264 @ 0x7f83b4f08680] ref B L0: 80.2% 16.1%  3.7%\n",
      "[libx264 @ 0x7f83b4f08680] ref B L1: 99.1%  0.9%\n",
      "[libx264 @ 0x7f83b4f08680] kb/s:38.47\n",
      "ffmpeg version 5.1.2 Copyright (c) 2000-2022 the FFmpeg developers\n",
      "  built with Apple clang version 14.0.0 (clang-1400.0.29.202)\n",
      "  configuration: --prefix=/usr/local/Cellar/ffmpeg/5.1.2_6 --enable-shared --enable-pthreads --enable-version3 --cc=clang --host-cflags= --host-ldflags= --enable-ffplay --enable-gnutls --enable-gpl --enable-libaom --enable-libaribb24 --enable-libbluray --enable-libdav1d --enable-libmp3lame --enable-libopus --enable-librav1e --enable-librist --enable-librubberband --enable-libsnappy --enable-libsrt --enable-libsvtav1 --enable-libtesseract --enable-libtheora --enable-libvidstab --enable-libvmaf --enable-libvorbis --enable-libvpx --enable-libwebp --enable-libx264 --enable-libx265 --enable-libxml2 --enable-libxvid --enable-lzma --enable-libfontconfig --enable-libfreetype --enable-frei0r --enable-libass --enable-libopencore-amrnb --enable-libopencore-amrwb --enable-libopenjpeg --enable-libspeex --enable-libsoxr --enable-libzmq --enable-libzimg --disable-libjack --disable-indev=jack --enable-videotoolbox\n",
      "  libavutil      57. 28.100 / 57. 28.100\n",
      "  libavcodec     59. 37.100 / 59. 37.100\n",
      "  libavformat    59. 27.100 / 59. 27.100\n",
      "  libavdevice    59.  7.100 / 59.  7.100\n",
      "  libavfilter     8. 44.100 /  8. 44.100\n",
      "  libswscale      6.  7.100 /  6.  7.100\n",
      "  libswresample   4.  7.100 /  4.  7.100\n",
      "  libpostproc    56.  6.100 / 56.  6.100\n",
      "Input #0, lavfi, from 'color=black:1280x720':\n",
      "  Duration: N/A, start: 0.000000, bitrate: N/A\n",
      "  Stream #0:0: Video: rawvideo (I420 / 0x30323449), yuv420p, 1280x720 [SAR 1:1 DAR 16:9], 25 tbr, 25 tbn\n",
      "Input #1, lavfi, from 'anullsrc':\n",
      "  Duration: N/A, start: 0.000000, bitrate: 705 kb/s\n",
      "  Stream #1:0: Audio: pcm_u8, 44100 Hz, stereo, u8, 705 kb/s\n",
      "Stream mapping:\n",
      "  Stream #0:0 -> #0:0 (rawvideo (native) -> h264 (libx264))\n",
      "  Stream #1:0 -> #0:1 (pcm_u8 (native) -> aac (native))\n",
      "Press [q] to stop, [?] for help\n",
      "[libx264 @ 0x7ff2a8f061c0] using SAR=1/1\n",
      "[libx264 @ 0x7ff2a8f061c0] using cpu capabilities: MMX2 SSE2Fast SSSE3 SSE4.2 AVX FMA3 BMI2 AVX2\n",
      "[libx264 @ 0x7ff2a8f061c0] profile High, level 3.2, 4:2:0, 8-bit\n",
      "[libx264 @ 0x7ff2a8f061c0] 264 - core 164 r3095 baee400 - H.264/MPEG-4 AVC codec - Copyleft 2003-2022 - http://www.videolan.org/x264.html - options: cabac=1 ref=3 deblock=1:0:0 analyse=0x3:0x113 me=hex subme=7 psy=1 psy_rd=1.00:0.00 mixed_ref=1 me_range=16 chroma_me=1 trellis=1 8x8dct=1 cqm=0 deadzone=21,11 fast_pskip=1 chroma_qp_offset=-2 threads=12 lookahead_threads=2 sliced_threads=0 nr=0 decimate=1 interlaced=0 bluray_compat=0 constrained_intra=0 bframes=3 b_pyramid=2 b_adapt=1 b_bias=0 direct=1 weightb=1 open_gop=0 weightp=2 keyint=250 keyint_min=25 scenecut=40 intra_refresh=0 rc_lookahead=40 rc=abr mbtree=1 bitrate=1000 ratetol=1.0 qcomp=0.60 qpmin=0 qpmax=69 qpstep=4 ip_ratio=1.40 aq=1:1.00\n",
      "Output #0, mp4, to 'tmp/intro.mp4':\n",
      "  Metadata:\n",
      "    encoder         : Lavf59.27.100\n",
      "  Stream #0:0: Video: h264 (avc1 / 0x31637661), yuv420p(progressive), 1280x720 [SAR 1:1 DAR 16:9], q=2-31, 1000 kb/s, 60 fps, 400 tbn\n",
      "    Metadata:\n",
      "      encoder         : Lavc59.37.100 libx264\n",
      "    Side data:\n",
      "      cpb: bitrate max/min/avg: 0/0/1000000 buffer size: 0 vbv_delay: N/A\n",
      "  Stream #0:1: Audio: aac (LC) (mp4a / 0x6134706D), 44100 Hz, stereo, fltp, 128 kb/s\n",
      "    Metadata:\n",
      "      encoder         : Lavc59.37.100 aac\n",
      "frame=   90 fps=0.0 q=-1.0 Lsize=      25kB time=00:00:01.50 bitrate= 136.8kbits/s speed=4.87x    \n",
      "video:21kB audio:0kB subtitle:0kB other streams:0kB global headers:0kB muxing overhead: 20.409496%\n",
      "[libx264 @ 0x7ff2a8f061c0] frame I:1     Avg QP:23.95  size:   209\n",
      "[libx264 @ 0x7ff2a8f061c0] frame P:23    Avg QP:12.01  size:   652\n",
      "[libx264 @ 0x7ff2a8f061c0] frame B:66    Avg QP:10.34  size:    77\n",
      "[libx264 @ 0x7ff2a8f061c0] consecutive B-frames:  1.1%  2.2%  3.3% 93.3%\n",
      "[libx264 @ 0x7ff2a8f061c0] mb I  I16..4: 99.9%  0.1%  0.0%\n",
      "[libx264 @ 0x7ff2a8f061c0] mb P  I16..4:  0.2%  0.1%  0.1%  P16..4:  1.1%  0.2%  0.2%  0.0%  0.0%    skip:98.2%\n",
      "[libx264 @ 0x7ff2a8f061c0] mb B  I16..4:  0.0%  0.0%  0.0%  B16..8:  1.2%  0.0%  0.0%  direct: 0.0%  skip:98.7%  L0:48.6% L1:51.4% BI: 0.0%\n",
      "[libx264 @ 0x7ff2a8f061c0] final ratefactor: 8.04\n",
      "[libx264 @ 0x7ff2a8f061c0] 8x8 transform intra:1.5% inter:27.7%\n",
      "[libx264 @ 0x7ff2a8f061c0] coded y,uvDC,uvAC intra: 1.5% 0.0% 0.0% inter: 0.2% 0.0% 0.0%\n",
      "[libx264 @ 0x7ff2a8f061c0] i16 v,h,dc,p: 94%  4%  2%  0%\n",
      "[libx264 @ 0x7ff2a8f061c0] i8 v,h,dc,ddl,ddr,vr,hd,vl,hu: 15% 13% 56%  5%  2%  3%  2%  2%  2%\n",
      "[libx264 @ 0x7ff2a8f061c0] i4 v,h,dc,ddl,ddr,vr,hd,vl,hu: 48% 12% 19%  2%  3%  4%  5%  3%  3%\n",
      "[libx264 @ 0x7ff2a8f061c0] i8c dc,h,v,p: 100%  0%  0%  0%\n",
      "[libx264 @ 0x7ff2a8f061c0] Weighted P-Frames: Y:21.7% UV:0.0%\n",
      "[libx264 @ 0x7ff2a8f061c0] ref P L0: 89.5%  4.7%  5.3%  0.3%  0.2%\n",
      "[libx264 @ 0x7ff2a8f061c0] ref B L0: 56.3% 41.9%  1.8%\n",
      "[libx264 @ 0x7ff2a8f061c0] ref B L1: 97.6%  2.4%\n",
      "[libx264 @ 0x7ff2a8f061c0] kb/s:108.38\n",
      "[aac @ 0x7ff2a8f07740] Qavg: 120.000\n",
      "ffmpeg version 5.1.2 Copyright (c) 2000-2022 the FFmpeg developers\n",
      "  built with Apple clang version 14.0.0 (clang-1400.0.29.202)\n",
      "  configuration: --prefix=/usr/local/Cellar/ffmpeg/5.1.2_6 --enable-shared --enable-pthreads --enable-version3 --cc=clang --host-cflags= --host-ldflags= --enable-ffplay --enable-gnutls --enable-gpl --enable-libaom --enable-libaribb24 --enable-libbluray --enable-libdav1d --enable-libmp3lame --enable-libopus --enable-librav1e --enable-librist --enable-librubberband --enable-libsnappy --enable-libsrt --enable-libsvtav1 --enable-libtesseract --enable-libtheora --enable-libvidstab --enable-libvmaf --enable-libvorbis --enable-libvpx --enable-libwebp --enable-libx264 --enable-libx265 --enable-libxml2 --enable-libxvid --enable-lzma --enable-libfontconfig --enable-libfreetype --enable-frei0r --enable-libass --enable-libopencore-amrnb --enable-libopencore-amrwb --enable-libopenjpeg --enable-libspeex --enable-libsoxr --enable-libzmq --enable-libzimg --disable-libjack --disable-indev=jack --enable-videotoolbox\n",
      "  libavutil      57. 28.100 / 57. 28.100\n",
      "  libavcodec     59. 37.100 / 59. 37.100\n",
      "  libavformat    59. 27.100 / 59. 27.100\n",
      "  libavdevice    59.  7.100 / 59.  7.100\n",
      "  libavfilter     8. 44.100 /  8. 44.100\n",
      "  libswscale      6.  7.100 /  6.  7.100\n",
      "  libswresample   4.  7.100 /  4.  7.100\n",
      "  libpostproc    56.  6.100 / 56.  6.100\n",
      "Input #0, mov,mp4,m4a,3gp,3g2,mj2, from 'tmp/intro.mp4':\n",
      "  Metadata:\n",
      "    major_brand     : isom\n",
      "    minor_version   : 512\n",
      "    compatible_brands: isomiso2avc1mp41\n",
      "    encoder         : Lavf59.27.100\n",
      "  Duration: 00:00:01.50, start: 0.000000, bitrate: 137 kb/s\n",
      "  Stream #0:0[0x1](und): Video: h264 (High) (avc1 / 0x31637661), yuv420p(progressive), 1280x720 [SAR 1:1 DAR 16:9], 112 kb/s, 60 fps, 60 tbr, 400 tbn (default)\n",
      "    Metadata:\n",
      "      handler_name    : VideoHandler\n",
      "      vendor_id       : [0][0][0][0]\n",
      "      encoder         : Lavc59.37.100 libx264\n",
      "  Stream #0:1[0x2](und): Audio: aac (LC) (mp4a / 0x6134706D), 44100 Hz, stereo, fltp, 2 kb/s (default)\n",
      "    Metadata:\n",
      "      handler_name    : SoundHandler\n",
      "      vendor_id       : [0][0][0][0]\n",
      "Stream mapping:\n",
      "  Stream #0:0 -> #0:0 (h264 (native) -> mpeg2video (native))\n",
      "  Stream #0:1 -> #0:1 (aac (native) -> mp2 (native))\n",
      "Press [q] to stop, [?] for help\n",
      "Output #0, mpegts, to 'tmp/clip-1.MTS':\n",
      "  Metadata:\n",
      "    major_brand     : isom\n",
      "    minor_version   : 512\n",
      "    compatible_brands: isomiso2avc1mp41\n",
      "    encoder         : Lavf59.27.100\n",
      "  Stream #0:0(und): Video: mpeg2video (Main), yuv420p(progressive), 1280x720 [SAR 1:1 DAR 16:9], q=2-31, 200 kb/s, 60 fps, 90k tbn (default)\n",
      "    Metadata:\n",
      "      handler_name    : VideoHandler\n",
      "      vendor_id       : [0][0][0][0]\n",
      "      encoder         : Lavc59.37.100 mpeg2video\n",
      "    Side data:\n",
      "      cpb: bitrate max/min/avg: 0/0/200000 buffer size: 0 vbv_delay: N/A\n",
      "  Stream #0:1(und): Audio: mp2, 44100 Hz, stereo, s16, 384 kb/s (default)\n",
      "    Metadata:\n",
      "      handler_name    : SoundHandler\n",
      "      vendor_id       : [0][0][0][0]\n",
      "      encoder         : Lavc59.37.100 mp2\n"
     ]
    },
    {
     "name": "stderr",
     "output_type": "stream",
     "text": [
      "frame=   90 fps=0.0 q=0.0 Lsize=     467kB time=00:00:01.50 bitrate=2545.7kbits/s speed=10.5x    \n",
      "video:369kB audio:71kB subtitle:0kB other streams:0kB global headers:0kB muxing overhead: 6.243216%\n",
      "ffmpeg version 5.1.2 Copyright (c) 2000-2022 the FFmpeg developers\n",
      "  built with Apple clang version 14.0.0 (clang-1400.0.29.202)\n",
      "  configuration: --prefix=/usr/local/Cellar/ffmpeg/5.1.2_6 --enable-shared --enable-pthreads --enable-version3 --cc=clang --host-cflags= --host-ldflags= --enable-ffplay --enable-gnutls --enable-gpl --enable-libaom --enable-libaribb24 --enable-libbluray --enable-libdav1d --enable-libmp3lame --enable-libopus --enable-librav1e --enable-librist --enable-librubberband --enable-libsnappy --enable-libsrt --enable-libsvtav1 --enable-libtesseract --enable-libtheora --enable-libvidstab --enable-libvmaf --enable-libvorbis --enable-libvpx --enable-libwebp --enable-libx264 --enable-libx265 --enable-libxml2 --enable-libxvid --enable-lzma --enable-libfontconfig --enable-libfreetype --enable-frei0r --enable-libass --enable-libopencore-amrnb --enable-libopencore-amrwb --enable-libopenjpeg --enable-libspeex --enable-libsoxr --enable-libzmq --enable-libzimg --disable-libjack --disable-indev=jack --enable-videotoolbox\n",
      "  libavutil      57. 28.100 / 57. 28.100\n",
      "  libavcodec     59. 37.100 / 59. 37.100\n",
      "  libavformat    59. 27.100 / 59. 27.100\n",
      "  libavdevice    59.  7.100 / 59.  7.100\n",
      "  libavfilter     8. 44.100 /  8. 44.100\n",
      "  libswscale      6.  7.100 /  6.  7.100\n",
      "  libswresample   4.  7.100 /  4.  7.100\n",
      "  libpostproc    56.  6.100 / 56.  6.100\n",
      "Input #0, mpegts, from 'tmp/tmp.MTS':\n",
      "  Duration: 00:00:53.48, start: 1.433333, bitrate: 131 kb/s\n",
      "  Program 1 \n",
      "    Metadata:\n",
      "      service_name    : Service01\n",
      "      service_provider: FFmpeg\n",
      "  Stream #0:0[0x100]: Video: h264 (High) ([27][0][0][0] / 0x001B), yuv420p(progressive), 1280x720 [SAR 1674:1673 DAR 2976:1673], 60 fps, 60 tbr, 90k tbn\n",
      "Stream mapping:\n",
      "  Stream #0:0 -> #0:0 (h264 (native) -> mpeg2video (native))\n",
      "Press [q] to stop, [?] for help\n",
      "Output #0, mpegts, to 'tmp/clip-2.MTS':\n",
      "  Metadata:\n",
      "    encoder         : Lavf59.27.100\n",
      "  Stream #0:0: Video: mpeg2video (Main), yuv420p(progressive), 1280x720 [SAR 1674:1673 DAR 2976:1673], q=2-31, 200 kb/s, 60 fps, 90k tbn\n",
      "    Metadata:\n",
      "      encoder         : Lavc59.37.100 mpeg2video\n",
      "    Side data:\n",
      "      cpb: bitrate max/min/avg: 0/0/200000 buffer size: 0 vbv_delay: N/A\n",
      "frame= 3209 fps=857 q=0.0 Lsize=    8805kB time=00:00:53.45 bitrate=1349.5kbits/s speed=14.3x    \n",
      "video:8065kB audio:0kB subtitle:0kB other streams:0kB global headers:0kB muxing overhead: 9.181840%\n",
      "ffmpeg version 5.1.2 Copyright (c) 2000-2022 the FFmpeg developers\n",
      "  built with Apple clang version 14.0.0 (clang-1400.0.29.202)\n",
      "  configuration: --prefix=/usr/local/Cellar/ffmpeg/5.1.2_6 --enable-shared --enable-pthreads --enable-version3 --cc=clang --host-cflags= --host-ldflags= --enable-ffplay --enable-gnutls --enable-gpl --enable-libaom --enable-libaribb24 --enable-libbluray --enable-libdav1d --enable-libmp3lame --enable-libopus --enable-librav1e --enable-librist --enable-librubberband --enable-libsnappy --enable-libsrt --enable-libsvtav1 --enable-libtesseract --enable-libtheora --enable-libvidstab --enable-libvmaf --enable-libvorbis --enable-libvpx --enable-libwebp --enable-libx264 --enable-libx265 --enable-libxml2 --enable-libxvid --enable-lzma --enable-libfontconfig --enable-libfreetype --enable-frei0r --enable-libass --enable-libopencore-amrnb --enable-libopencore-amrwb --enable-libopenjpeg --enable-libspeex --enable-libsoxr --enable-libzmq --enable-libzimg --disable-libjack --disable-indev=jack --enable-videotoolbox\n",
      "  libavutil      57. 28.100 / 57. 28.100\n",
      "  libavcodec     59. 37.100 / 59. 37.100\n",
      "  libavformat    59. 27.100 / 59. 27.100\n",
      "  libavdevice    59.  7.100 / 59.  7.100\n",
      "  libavfilter     8. 44.100 /  8. 44.100\n",
      "  libswscale      6.  7.100 /  6.  7.100\n",
      "  libswresample   4.  7.100 /  4.  7.100\n",
      "  libpostproc    56.  6.100 / 56.  6.100\n",
      "Input #0, concat, from 'list.txt':\n",
      "  Duration: N/A, start: 0.000000, bitrate: N/A\n",
      "  Stream #0:0: Video: mpeg2video (Main) ([2][0][0][0] / 0x0002), yuv420p(tv, progressive), 1280x720 [SAR 1:1 DAR 16:9], 60 fps, 60 tbr, 90k tbn\n",
      "    Side data:\n",
      "      cpb: bitrate max/min/avg: 0/0/0 buffer size: 49152 vbv_delay: N/A\n",
      "  Stream #0:1(und): Audio: mp2 ([3][0][0][0] / 0x0003), 44100 Hz, stereo, s16p, 384 kb/s\n",
      "Output #0, mpegts, to 'tmp/tmp2.MTS':\n",
      "  Metadata:\n",
      "    encoder         : Lavf59.27.100\n",
      "  Stream #0:0: Video: mpeg2video (Main) ([2][0][0][0] / 0x0002), yuv420p(tv, progressive), 1280x720 [SAR 1:1 DAR 16:9], q=2-31, 60 fps, 60 tbr, 90k tbn\n",
      "    Side data:\n",
      "      cpb: bitrate max/min/avg: 0/0/0 buffer size: 49152 vbv_delay: N/A\n",
      "  Stream #0:1(und): Audio: mp2 ([3][0][0][0] / 0x0003), 44100 Hz, stereo, s16p, 384 kb/s\n",
      "Stream mapping:\n",
      "  Stream #0:0 -> #0:0 (copy)\n",
      "  Stream #0:1 -> #0:1 (copy)\n",
      "Press [q] to stop, [?] for help\n",
      "frame= 3299 fps=0.0 q=-1.0 Lsize=    9272kB time=00:00:54.96 bitrate=1382.1kbits/s speed=1.3e+03x    \n",
      "video:8433kB audio:71kB subtitle:0kB other streams:0kB global headers:0kB muxing overhead: 9.029816%\n",
      "ffmpeg version 5.1.2 Copyright (c) 2000-2022 the FFmpeg developers\n",
      "  built with Apple clang version 14.0.0 (clang-1400.0.29.202)\n",
      "  configuration: --prefix=/usr/local/Cellar/ffmpeg/5.1.2_6 --enable-shared --enable-pthreads --enable-version3 --cc=clang --host-cflags= --host-ldflags= --enable-ffplay --enable-gnutls --enable-gpl --enable-libaom --enable-libaribb24 --enable-libbluray --enable-libdav1d --enable-libmp3lame --enable-libopus --enable-librav1e --enable-librist --enable-librubberband --enable-libsnappy --enable-libsrt --enable-libsvtav1 --enable-libtesseract --enable-libtheora --enable-libvidstab --enable-libvmaf --enable-libvorbis --enable-libvpx --enable-libwebp --enable-libx264 --enable-libx265 --enable-libxml2 --enable-libxvid --enable-lzma --enable-libfontconfig --enable-libfreetype --enable-frei0r --enable-libass --enable-libopencore-amrnb --enable-libopencore-amrwb --enable-libopenjpeg --enable-libspeex --enable-libsoxr --enable-libzmq --enable-libzimg --disable-libjack --disable-indev=jack --enable-videotoolbox\n",
      "  libavutil      57. 28.100 / 57. 28.100\n",
      "  libavcodec     59. 37.100 / 59. 37.100\n",
      "  libavformat    59. 27.100 / 59. 27.100\n",
      "  libavdevice    59.  7.100 / 59.  7.100\n",
      "  libavfilter     8. 44.100 /  8. 44.100\n",
      "  libswscale      6.  7.100 /  6.  7.100\n",
      "  libswresample   4.  7.100 /  4.  7.100\n",
      "  libpostproc    56.  6.100 / 56.  6.100\n",
      "Input #0, mpegts, from 'tmp/tmp2.MTS':\n",
      "  Duration: 00:00:54.99, start: 1.405756, bitrate: 1381 kb/s\n",
      "  Program 1 \n",
      "    Metadata:\n",
      "      service_name    : Service01\n",
      "      service_provider: FFmpeg\n",
      "  Stream #0:0[0x100]: Video: mpeg2video (Main) ([2][0][0][0] / 0x0002), yuv420p(tv, progressive), 1280x720 [SAR 1:1 DAR 16:9], 60 fps, 60 tbr, 90k tbn\n",
      "    Side data:\n",
      "      cpb: bitrate max/min/avg: 0/0/0 buffer size: 49152 vbv_delay: N/A\n",
      "  Stream #0:1[0x101](und): Audio: mp2 ([3][0][0][0] / 0x0003), 44100 Hz, stereo, fltp, 384 kb/s\n",
      "Stream mapping:\n",
      "  Stream #0:0 -> #0:0 (mpeg2video (native) -> h264 (libx264))\n",
      "  Stream #0:1 -> #0:1 (mp2 (native) -> aac (native))\n",
      "Press [q] to stop, [?] for help\n",
      "[libx264 @ 0x7f98797084c0] using SAR=1/1\n",
      "[libx264 @ 0x7f98797084c0] using cpu capabilities: MMX2 SSE2Fast SSSE3 SSE4.2 AVX FMA3 BMI2 AVX2\n",
      "[libx264 @ 0x7f98797084c0] profile High, level 3.2, 4:2:0, 8-bit\n",
      "[libx264 @ 0x7f98797084c0] 264 - core 164 r3095 baee400 - H.264/MPEG-4 AVC codec - Copyleft 2003-2022 - http://www.videolan.org/x264.html - options: cabac=1 ref=3 deblock=1:0:0 analyse=0x3:0x113 me=hex subme=7 psy=1 psy_rd=1.00:0.00 mixed_ref=1 me_range=16 chroma_me=1 trellis=1 8x8dct=1 cqm=0 deadzone=21,11 fast_pskip=1 chroma_qp_offset=-2 threads=12 lookahead_threads=2 sliced_threads=0 nr=0 decimate=1 interlaced=0 bluray_compat=0 constrained_intra=0 bframes=3 b_pyramid=2 b_adapt=1 b_bias=0 direct=1 weightb=1 open_gop=0 weightp=2 keyint=250 keyint_min=25 scenecut=40 intra_refresh=0 rc_lookahead=40 rc=crf mbtree=1 crf=30.0 qcomp=0.60 qpmin=0 qpmax=69 qpstep=4 ip_ratio=1.40 aq=1:1.00\n",
      "Output #0, mov, to 'out.mov':\n",
      "  Metadata:\n",
      "    encoder         : Lavf59.27.100\n",
      "  Stream #0:0: Video: h264 (avc1 / 0x31637661), yuv420p(tv, progressive), 1280x720 [SAR 1:1 DAR 16:9], q=2-31, 60 fps, 15360 tbn\n",
      "    Metadata:\n",
      "      encoder         : Lavc59.37.100 libx264\n",
      "    Side data:\n",
      "      cpb: bitrate max/min/avg: 0/0/0 buffer size: 0 vbv_delay: N/A\n",
      "  Stream #0:1(und): Audio: aac (LC) (mp4a / 0x6134706D), 44100 Hz, stereo, fltp, 128 kb/s\n",
      "    Metadata:\n",
      "      encoder         : Lavc59.37.100 aac\n"
     ]
    },
    {
     "name": "stderr",
     "output_type": "stream",
     "text": [
      "frame= 3300 fps=489 q=-1.0 Lsize=     256kB time=00:00:54.95 bitrate=  38.1kbits/s dup=1 drop=0 speed=8.14x    \n",
      "video:214kB audio:0kB subtitle:0kB other streams:0kB global headers:0kB muxing overhead: 19.354662%\n",
      "[libx264 @ 0x7f98797084c0] frame I:14    Avg QP:16.62  size:  1571\n",
      "[libx264 @ 0x7f98797084c0] frame P:832   Avg QP:20.61  size:    93\n",
      "[libx264 @ 0x7f98797084c0] frame B:2454  Avg QP:22.68  size:    49\n",
      "[libx264 @ 0x7f98797084c0] consecutive B-frames:  0.8%  0.1%  0.2% 98.9%\n",
      "[libx264 @ 0x7f98797084c0] mb I  I16..4: 93.7%  4.7%  1.7%\n",
      "[libx264 @ 0x7f98797084c0] mb P  I16..4:  0.1%  0.0%  0.0%  P16..4:  0.4%  0.0%  0.0%  0.0%  0.0%    skip:99.4%\n",
      "[libx264 @ 0x7f98797084c0] mb B  I16..4:  0.0%  0.0%  0.0%  B16..8:  0.3%  0.0%  0.0%  direct: 0.0%  skip:99.7%  L0:47.7% L1:52.3% BI: 0.0%\n",
      "[libx264 @ 0x7f98797084c0] 8x8 transform intra:6.7% inter:59.3%\n",
      "[libx264 @ 0x7f98797084c0] coded y,uvDC,uvAC intra: 1.2% 0.0% 0.0% inter: 0.0% 0.0% 0.0%\n",
      "[libx264 @ 0x7f98797084c0] i16 v,h,dc,p: 96%  2%  2%  0%\n",
      "[libx264 @ 0x7f98797084c0] i8 v,h,dc,ddl,ddr,vr,hd,vl,hu:  7%  5% 86%  1%  0%  0%  0%  0%  0%\n",
      "[libx264 @ 0x7f98797084c0] i4 v,h,dc,ddl,ddr,vr,hd,vl,hu: 39% 19% 23%  3%  3%  3%  3%  3%  3%\n",
      "[libx264 @ 0x7f98797084c0] i8c dc,h,v,p: 100%  0%  0%  0%\n",
      "[libx264 @ 0x7f98797084c0] Weighted P-Frames: Y:0.7% UV:0.0%\n",
      "[libx264 @ 0x7f98797084c0] ref P L0: 78.4%  5.1% 11.8%  4.7%  0.0%\n",
      "[libx264 @ 0x7f98797084c0] ref B L0: 85.8% 10.5%  3.6%\n",
      "[libx264 @ 0x7f98797084c0] ref B L1: 98.0%  2.0%\n",
      "[libx264 @ 0x7f98797084c0] kb/s:31.76\n",
      "[aac @ 0x7f9879709740] Qavg: 65536.000\n"
     ]
    }
   ],
   "source": [
    "#concatenate the folder of .png files\n",
    "os.chdir(f'{nb_dir}/../vid/src')\n",
    "os.system(f'./concat_folder_png.sh');"
   ]
  },
  {
   "cell_type": "code",
   "execution_count": 281,
   "id": "0e1446b2",
   "metadata": {
    "ExecuteTime": {
     "end_time": "2023-07-11T04:26:51.259162Z",
     "start_time": "2023-07-11T04:26:51.009504Z"
    }
   },
   "outputs": [
    {
     "data": {
      "text/plain": [
       "0"
      ]
     },
     "execution_count": 281,
     "metadata": {},
     "output_type": "execute_result"
    }
   ],
   "source": [
    "os.system(f'open {nb_dir}/../vid/mov/out.mov')"
   ]
  },
  {
   "cell_type": "code",
   "execution_count": 262,
   "id": "38ffe100",
   "metadata": {
    "ExecuteTime": {
     "end_time": "2023-07-11T03:59:49.238073Z",
     "start_time": "2023-07-11T03:59:49.229237Z"
    }
   },
   "outputs": [
    {
     "data": {
      "text/plain": [
       "0.0025"
      ]
     },
     "execution_count": 262,
     "metadata": {},
     "output_type": "execute_result"
    }
   ],
   "source": [
    "10000/241\n",
    "0.1/40"
   ]
  },
  {
   "cell_type": "code",
   "execution_count": 263,
   "id": "a77c5cc7",
   "metadata": {
    "ExecuteTime": {
     "end_time": "2023-07-11T03:59:49.256314Z",
     "start_time": "2023-07-11T03:59:49.246092Z"
    }
   },
   "outputs": [
    {
     "name": "stdout",
     "output_type": "stream",
     "text": [
      "annihilation duration: deltat/dt=238 steps\n",
      "annihilation duration: deltat/dt/save_every=48 frames\n",
      "creation duration: creation_duration/dt=250 steps\n"
     ]
    }
   ],
   "source": [
    "#Q: why aren't I seeing them pull together slowly?\n",
    "print(f'annihilation duration: {deltat/dt=:.0f} steps')\n",
    "print(f'annihilation duration: {deltat/dt/save_every=:.0f} frames')\n",
    "print(f'creation duration: {creation_duration/dt=:.0f} steps')"
   ]
  },
  {
   "cell_type": "code",
   "execution_count": 264,
   "id": "78c3631f",
   "metadata": {
    "ExecuteTime": {
     "end_time": "2023-07-11T03:59:49.266463Z",
     "start_time": "2023-07-11T03:59:49.261771Z"
    }
   },
   "outputs": [],
   "source": [
    "#TODO: determine rate_of_creation from average density\n",
    "#TODO: set prob_create = dt*rate_of_creation/num_particles to a constant for each particle\n",
    "#TODO: if prob_create>prob():\n",
    "#TODO: place a pair of particles uniformly on the circle of radius Rcbar from the particle\n",
    "#TODO: repel those particles with a 1/R force that disappears exponentially fast"
   ]
  },
  {
   "cell_type": "code",
   "execution_count": 265,
   "id": "ded04aa6",
   "metadata": {
    "ExecuteTime": {
     "end_time": "2023-07-11T03:59:49.938505Z",
     "start_time": "2023-07-11T03:59:49.273497Z"
    }
   },
   "outputs": [
    {
     "name": "stdout",
     "output_type": "stream",
     "text": [
      "-n \u0007\n",
      "-n \u0007\n",
      "-n \u0007\n"
     ]
    },
    {
     "data": {
      "text/plain": [
       "0"
      ]
     },
     "execution_count": 265,
     "metadata": {},
     "output_type": "execute_result"
    }
   ],
   "source": [
    "beep(3)"
   ]
  },
  {
   "cell_type": "markdown",
   "id": "4d42569a",
   "metadata": {},
   "source": [
    "# DONE: implement creation with initial particle placed no closer than a certain distance from existing tips"
   ]
  },
  {
   "cell_type": "code",
   "execution_count": 266,
   "id": "5efa59e4",
   "metadata": {
    "ExecuteTime": {
     "end_time": "2023-07-11T03:59:49.944223Z",
     "start_time": "2023-07-11T03:59:49.941439Z"
    }
   },
   "outputs": [],
   "source": [
    "# zerosint=np.zeros_like(x_values).astype('int')\n",
    "# # still_running=zerosint==zerosint\n",
    "# still_running=zerosint!=zerosint\n",
    "# still_running[:Ninitial]=True  #initialize first Ninitial particles to still be running"
   ]
  },
  {
   "cell_type": "code",
   "execution_count": null,
   "id": "52068380",
   "metadata": {
    "ExecuteTime": {
     "end_time": "2023-07-11T03:11:20.505853Z",
     "start_time": "2023-07-11T03:11:20.502339Z"
    }
   },
   "outputs": [],
   "source": []
  },
  {
   "cell_type": "code",
   "execution_count": null,
   "id": "5206cfe7",
   "metadata": {},
   "outputs": [],
   "source": []
  },
  {
   "cell_type": "code",
   "execution_count": null,
   "id": "6b6cb24a",
   "metadata": {},
   "outputs": [],
   "source": []
  },
  {
   "cell_type": "code",
   "execution_count": null,
   "id": "5f800ece",
   "metadata": {},
   "outputs": [],
   "source": []
  },
  {
   "cell_type": "markdown",
   "id": "1a5c1819",
   "metadata": {},
   "source": [
    "# TODO: wrap into jit compiled minimal simulation"
   ]
  },
  {
   "cell_type": "code",
   "execution_count": 267,
   "id": "fa6b533e",
   "metadata": {
    "ExecuteTime": {
     "end_time": "2023-07-11T03:59:49.951888Z",
     "start_time": "2023-07-11T03:59:49.947314Z"
    }
   },
   "outputs": [],
   "source": [
    "#TODO(elsewhere, in care): estimate chi\n",
    "\n",
    "#TODO(in care): determine if spiral tips tend to be created between two tip positions\n",
    "#Q: spiral tips tend to be created between two tip positions?\n",
    "#A: no, though there does appear to be some locality that can be captured by a geometric active contour models\n",
    "# HINT: start by viewing Movie S1"
   ]
  },
  {
   "cell_type": "code",
   "execution_count": 268,
   "id": "4ea0351e",
   "metadata": {
    "ExecuteTime": {
     "end_time": "2023-07-11T03:59:49.958940Z",
     "start_time": "2023-07-11T03:59:49.955197Z"
    }
   },
   "outputs": [],
   "source": [
    "#TODO: wrap this into a function that generates a termination time\n",
    "#TODO: abstract ^this to map a random seed to a termination time\n",
    "#TODO: use multiprocessing overnight to get a distribution of termination times generated\n",
    "#TODO: print the mean of this distribution. record.\n",
    "#TODO: repeat for FK model\n",
    "#TODO: type all this up using as few of words as possible. "
   ]
  },
  {
   "cell_type": "code",
   "execution_count": null,
   "id": "365daa04",
   "metadata": {},
   "outputs": [],
   "source": []
  },
  {
   "cell_type": "code",
   "execution_count": null,
   "id": "91c82964",
   "metadata": {},
   "outputs": [],
   "source": []
  },
  {
   "cell_type": "code",
   "execution_count": null,
   "id": "ddbffda2",
   "metadata": {},
   "outputs": [],
   "source": []
  },
  {
   "cell_type": "code",
   "execution_count": null,
   "id": "22bd6ec2",
   "metadata": {},
   "outputs": [],
   "source": []
  },
  {
   "cell_type": "code",
   "execution_count": null,
   "id": "800e875f",
   "metadata": {},
   "outputs": [],
   "source": []
  }
 ],
 "metadata": {
  "hide_input": false,
  "kernelspec": {
   "display_name": "Python 3 (ipykernel)",
   "language": "python",
   "name": "python3"
  },
  "language_info": {
   "codemirror_mode": {
    "name": "ipython",
    "version": 3
   },
   "file_extension": ".py",
   "mimetype": "text/x-python",
   "name": "python",
   "nbconvert_exporter": "python",
   "pygments_lexer": "ipython3",
   "version": "3.9.5"
  },
  "nbTranslate": {
   "displayLangs": [
    "*"
   ],
   "hotkey": "alt-t",
   "langInMainMenu": true,
   "sourceLang": "en",
   "targetLang": "fr",
   "useGoogleTranslate": true
  },
  "toc": {
   "base_numbering": 1,
   "nav_menu": {},
   "number_sections": true,
   "sideBar": true,
   "skip_h1_title": false,
   "title_cell": "Table of Contents",
   "title_sidebar": "Contents",
   "toc_cell": false,
   "toc_position": {},
   "toc_section_display": true,
   "toc_window_display": false
  }
 },
 "nbformat": 4,
 "nbformat_minor": 5
}
