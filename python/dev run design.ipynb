{
 "cells": [
  {
   "cell_type": "markdown",
   "metadata": {},
   "source": [
    "# dev run design"
   ]
  },
  {
   "cell_type": "code",
   "execution_count": 1,
   "metadata": {
    "ExecuteTime": {
     "end_time": "2021-05-28T05:02:48.051189Z",
     "start_time": "2021-05-28T05:02:47.540581Z"
    }
   },
   "outputs": [],
   "source": [
    "from lib.my_initialization import *"
   ]
  },
  {
   "cell_type": "code",
   "execution_count": 2,
   "metadata": {
    "ExecuteTime": {
     "end_time": "2021-05-28T05:02:49.395348Z",
     "start_time": "2021-05-28T05:02:49.346188Z"
    }
   },
   "outputs": [
    {
     "name": "stdout",
     "output_type": "stream",
     "text": [
      "2688\n"
     ]
    }
   ],
   "source": [
    "import numpy as np\n",
    "niter=1500 #trials per worker\n",
    "r_values=np.array([0.1,0.2,0.3,0.4])#,0.2,0.3,0.4,0.5,.6,.7,.8,.9,1.,2.])#cm\n",
    "D_values=np.array([2.,20.])#0.2,1.0,1.5,2.0,3.,4.,5.])#cm^2/s\n",
    "# A_values=np.array([25.])#20.25,25,39,50,56.25,100,156.25,189,250])[::-1]#cm^2\n",
    "# L_values=np.sqrt(A_values)#cm\n",
    "L_values=[10]\n",
    "kappa_values=np.array([100,500,1500])#5,10,15,20,25,30,35,40,45,50,55,60,65,70,75,80,85,90,95,100,250,500])#1/s\n",
    "varkappa_values=np.array([-20.,-10.,-5,0,5,10,20])#1/s\n",
    "x0_values=np.array([0.,0.5,1.0,1.5,2.0,3.0,4.0,5.0])#cm\n",
    "Dt_values=np.array([1e-5])#,1e-2])#10**-i for i in range(6)])\n",
    "dt=1e-5\n",
    "Nmax=100\n",
    "num_trials_per_setting=1\n",
    "reflect_values=np.array([0])\n",
    "set_second_values=np.array([0])\n",
    "no_repulsion_values=np.array([1])#1 means no repulsion is true\n",
    "no_attraction_values=np.array([0,1])\n",
    "#iterate over settings, scheduling the longest jobs first\n",
    "count=0\n",
    "for Dt in Dt_values:\n",
    "    for set_second in set_second_values:\n",
    "        for reflect in reflect_values:\n",
    "            for r in r_values:\n",
    "                for D in D_values:\n",
    "                    for L in L_values:\n",
    "                        for kappa in kappa_values:\n",
    "                            for varkappa in varkappa_values:\n",
    "                                for x0 in x0_values:\n",
    "                                    for no_repulsion in no_repulsion_values:\n",
    "                                        for no_attraction in no_attraction_values:\n",
    "                                            num_trials=0\n",
    "                                            while num_trials<num_trials_per_setting:\n",
    "                                                num_trials+=1\n",
    "                                                count=count+1\n",
    "#                                                 print(f\"{r} {D} {L} {kappa} {varkappa} {x0} {Dt} {dt} {Nmax} {niter} {reflect} {set_second} {no_repulsion} {no_attraction}\")\n",
    "print(count)"
   ]
  },
  {
   "cell_type": "code",
   "execution_count": 3,
   "metadata": {
    "ExecuteTime": {
     "end_time": "2021-05-28T05:02:51.039667Z",
     "start_time": "2021-05-28T05:02:51.034271Z"
    }
   },
   "outputs": [],
   "source": [
    "# print(f\"{r} {D} {L} {kappa} {beta} {shape} {niter} {reflect} {set_second}\")"
   ]
  },
  {
   "cell_type": "markdown",
   "metadata": {},
   "source": [
    "The datatype of a spiral tip with its interactions can be represented as the direct product of two/three zero dimensional objects of spin half, that are connected by a one dimensional bosonic string object.  Each object contains some alphabet of attributes, $S_i$."
   ]
  },
  {
   "cell_type": "markdown",
   "metadata": {},
   "source": [
    "# simplest genetic algorithm"
   ]
  },
  {
   "cell_type": "code",
   "execution_count": 5,
   "metadata": {
    "ExecuteTime": {
     "end_time": "2021-05-28T05:04:37.999440Z",
     "start_time": "2021-05-28T05:04:37.985766Z"
    }
   },
   "outputs": [
    {
     "name": "stdout",
     "output_type": "stream",
     "text": [
      "800\n"
     ]
    }
   ],
   "source": [
    "import numpy as np\n",
    "niter=1500 #trials per worker\n",
    "r_values=np.array([0.1])#,0.2,0.3,0.4,0.5,.6,.7,.8,.9,1.,2.])#cm\n",
    "# D_values=np.array([2.,20.])#0.2,1.0,1.5,2.0,3.,4.,5.])#cm^2/s\n",
    "# A_values=np.array([25.])#20.25,25,39,50,56.25,100,156.25,189,250])[::-1]#cm^2\n",
    "# L_values=np.sqrt(A_values)#cm\n",
    "L_values=[10]\n",
    "kappa_values=np.array([1500])#100,500,1500])#5,10,15,20,25,30,35,40,45,50,55,60,65,70,75,80,85,90,95,100,250,500])#1/s\n",
    "# varkappa_values=np.array([-20.,-10.,-5,0,5,10,20])#1/s\n",
    "# x0_values=np.array([0.,0.5,1.0,1.5,2.0,3.0,4.0,5.0])#cm\n",
    "Dt_values=np.array([1e-5])#,1e-2])#10**-i for i in range(6)])\n",
    "dt=1e-5\n",
    "Nmax=100\n",
    "num_trials_per_setting=4\n",
    "reflect_values=np.array([0])\n",
    "set_second_values=np.array([0])\n",
    "no_repulsion_values=np.array([1])#1 means no repulsion is true\n",
    "no_attraction_values=np.array([1,0])\n",
    "\n",
    "num_trials_born=100 # the total number of daughters\n",
    "# print the breeding_values of the top 5\n",
    "# num_breeders=5\n",
    "# num_breeding_params=3\n",
    "# breeding_cols=['D','varkappa','x0']\n",
    "# num_breeding_params=len(breeding_cols)\n",
    "# # taken from the *.ipynb located here: 'analyzing the effect of strong attractive forces between nearest neighbors.ipynb'\n",
    "# breeder_values=dh[breeding_cols].head(num_breeders).values\n",
    "# breeder_values_LR=breeder_values\n",
    "# print(breeder_values)\n",
    "#the top 5 for the LR model. Epoch 0\n",
    "np.random.seed(1234)\n",
    "breeder_values=np.array(\n",
    "    [[  2.,   -5.,    5. ],\n",
    "     [ 20.,   -5.,    5. ],\n",
    "     [ 20.,  -20.,    1.5],\n",
    "     [ 20.,  -10.,    3. ],\n",
    "     [  2.,  -20.,    1.5]])\n",
    "\n",
    "#breed the given most-fit trials omnisexually.\n",
    "num_breeders, num_breeding_params = breeder_values.shape\n",
    "rand_matrix=np.random.rand(num_trials_born-num_breeders,num_breeders) # each entry is uniformly distributed on the interval from 0 to 1.\n",
    "\n",
    "breeder_trials=np.matmul(rand_matrix,breeder_values)/num_breeders\n",
    "#prepend the breeding_values of the top 5 to breeder_trials\n",
    "trial_values=np.concatenate((breeder_values,breeder_trials),axis=0)\n",
    "\n",
    "#iterate over settings, scheduling the longest jobs first\n",
    "count=0\n",
    "for Dt in Dt_values:\n",
    "    for set_second in set_second_values:\n",
    "        for reflect in reflect_values:\n",
    "            for r in r_values:\n",
    "                # for D in D_values:\n",
    "                for L in L_values:\n",
    "                    for kappa in kappa_values:\n",
    "                        # for varkappa in varkappa_values:\n",
    "                        #     for x0 in x0_values:\n",
    "                        for trial in trial_values:\n",
    "                            D,varkappa,x0=trial\n",
    "                            for no_repulsion in no_repulsion_values:\n",
    "                                for no_attraction in no_attraction_values:\n",
    "                                    num_trials=0\n",
    "                                    while num_trials<num_trials_per_setting:\n",
    "                                        num_trials+=1\n",
    "                                        count=count+1\n",
    "#                                         print(f\"{r} {D} {L} {kappa} {varkappa} {x0} {Dt} {dt} {Nmax} {niter} {reflect} {set_second} {no_repulsion} {no_attraction}\")\n",
    "print(count)\n"
   ]
  },
  {
   "cell_type": "code",
   "execution_count": null,
   "metadata": {},
   "outputs": [],
   "source": []
  }
 ],
 "metadata": {
  "kernelspec": {
   "display_name": "Python 3",
   "language": "python",
   "name": "python3"
  },
  "language_info": {
   "codemirror_mode": {
    "name": "ipython",
    "version": 3
   },
   "file_extension": ".py",
   "mimetype": "text/x-python",
   "name": "python",
   "nbconvert_exporter": "python",
   "pygments_lexer": "ipython3",
   "version": "3.7.6"
  },
  "toc": {
   "base_numbering": 1,
   "nav_menu": {},
   "number_sections": true,
   "sideBar": true,
   "skip_h1_title": false,
   "title_cell": "Table of Contents",
   "title_sidebar": "Contents",
   "toc_cell": false,
   "toc_position": {},
   "toc_section_display": true,
   "toc_window_display": false
  },
  "varInspector": {
   "cols": {
    "lenName": 16,
    "lenType": 16,
    "lenVar": 40
   },
   "kernels_config": {
    "python": {
     "delete_cmd_postfix": "",
     "delete_cmd_prefix": "del ",
     "library": "var_list.py",
     "varRefreshCmd": "print(var_dic_list())"
    },
    "r": {
     "delete_cmd_postfix": ") ",
     "delete_cmd_prefix": "rm(",
     "library": "var_list.r",
     "varRefreshCmd": "cat(var_dic_list()) "
    }
   },
   "types_to_exclude": [
    "module",
    "function",
    "builtin_function_or_method",
    "instance",
    "_Feature"
   ],
   "window_display": false
  }
 },
 "nbformat": 4,
 "nbformat_minor": 4
}
