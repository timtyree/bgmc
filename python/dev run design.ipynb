{
 "cells": [
  {
   "cell_type": "markdown",
   "metadata": {},
   "source": [
    "# dev run design"
   ]
  },
  {
   "cell_type": "code",
   "execution_count": 1,
   "metadata": {
    "ExecuteTime": {
     "end_time": "2023-06-06T00:58:10.218538Z",
     "start_time": "2023-06-06T00:58:06.643571Z"
    }
   },
   "outputs": [
    {
     "name": "stderr",
     "output_type": "stream",
     "text": [
      "/Users/timothytyree/opt/miniconda3/envs/pyenv/lib/python3.9/site-packages/statsmodels/compat/pandas.py:61: FutureWarning: pandas.Int64Index is deprecated and will be removed from pandas in a future version. Use pandas.Index with the appropriate dtype instead.\n",
      "  from pandas import Int64Index as NumericIndex\n"
     ]
    }
   ],
   "source": [
    "from lib.my_initialization import *"
   ]
  },
  {
   "cell_type": "markdown",
   "metadata": {
    "heading_collapsed": true
   },
   "source": [
    "# archived"
   ]
  },
  {
   "cell_type": "code",
   "execution_count": null,
   "metadata": {
    "ExecuteTime": {
     "end_time": "2022-09-05T18:34:02.833415Z",
     "start_time": "2022-09-05T18:34:02.822726Z"
    },
    "hidden": true
   },
   "outputs": [],
   "source": [
    "import numpy as np\n",
    "niter=1500 #trials per worker\n",
    "r_values=np.array([0.1,0.2,0.3,0.4])#,0.2,0.3,0.4,0.5,.6,.7,.8,.9,1.,2.])#cm\n",
    "D_values=np.array([2.,20.])#0.2,1.0,1.5,2.0,3.,4.,5.])#cm^2/s\n",
    "# A_values=np.array([25.])#20.25,25,39,50,56.25,100,156.25,189,250])[::-1]#cm^2\n",
    "# L_values=np.sqrt(A_values)#cm\n",
    "L_values=[10]\n",
    "kappa_values=np.array([100,500,1500])#5,10,15,20,25,30,35,40,45,50,55,60,65,70,75,80,85,90,95,100,250,500])#1/s\n",
    "varkappa_values=np.array([-20.,-10.,-5,0,5,10,20])#1/s\n",
    "x0_values=np.array([0.,0.5,1.0,1.5,2.0,3.0,4.0,5.0])#cm\n",
    "Dt_values=np.array([1e-5])#,1e-2])#10**-i for i in range(6)])\n",
    "dt=1e-5\n",
    "Nmax=100\n",
    "num_trials_per_setting=1\n",
    "reflect_values=np.array([0])\n",
    "set_second_values=np.array([0])\n",
    "no_repulsion_values=np.array([1])#1 means no repulsion is true\n",
    "no_attraction_values=np.array([0,1])\n",
    "#iterate over settings, scheduling the longest jobs first\n",
    "count=0\n",
    "for Dt in Dt_values:\n",
    "    for set_second in set_second_values:\n",
    "        for reflect in reflect_values:\n",
    "            for r in r_values:\n",
    "                for D in D_values:\n",
    "                    for L in L_values:\n",
    "                        for kappa in kappa_values:\n",
    "                            for varkappa in varkappa_values:\n",
    "                                for x0 in x0_values:\n",
    "                                    for no_repulsion in no_repulsion_values:\n",
    "                                        for no_attraction in no_attraction_values:\n",
    "                                            num_trials=0\n",
    "                                            while num_trials<num_trials_per_setting:\n",
    "                                                num_trials+=1\n",
    "                                                count=count+1\n",
    "#                                                 print(f\"{r} {D} {L} {kappa} {varkappa} {x0} {Dt} {dt} {Nmax} {niter} {reflect} {set_second} {no_repulsion} {no_attraction}\")\n",
    "print(count)"
   ]
  },
  {
   "cell_type": "code",
   "execution_count": null,
   "metadata": {
    "ExecuteTime": {
     "end_time": "2021-09-15T03:34:39.509942Z",
     "start_time": "2021-09-15T03:34:39.504881Z"
    },
    "hidden": true
   },
   "outputs": [],
   "source": [
    "# print(f\"{r} {D} {L} {kappa} {beta} {shape} {niter} {reflect} {set_second}\")"
   ]
  },
  {
   "cell_type": "markdown",
   "metadata": {
    "hidden": true
   },
   "source": [
    "The datatype of a spiral tip with its interactions can be represented as the direct product of two/three zero dimensional objects of spin half, that are connected by a one dimensional bosonic string object.  Each object contains some alphabet of attributes, $S_i$."
   ]
  },
  {
   "cell_type": "markdown",
   "metadata": {
    "heading_collapsed": true
   },
   "source": [
    "# simplest genetic algorithm.\n",
    "This is elitist initism without mutation.  This is a list of random linear combinations of what worked last time.<br>\n",
    "for run 11 in c/ou"
   ]
  },
  {
   "cell_type": "code",
   "execution_count": null,
   "metadata": {
    "ExecuteTime": {
     "end_time": "2021-09-15T03:34:40.984486Z",
     "start_time": "2021-09-15T03:34:40.954982Z"
    },
    "hidden": true
   },
   "outputs": [],
   "source": [
    "import numpy as np\n",
    "niter=1500 #trials per worker\n",
    "r_values=np.array([0.1])#,0.2,0.3,0.4,0.5,.6,.7,.8,.9,1.,2.])#cm\n",
    "# D_values=np.array([2.,20.])#0.2,1.0,1.5,2.0,3.,4.,5.])#cm^2/s\n",
    "# A_values=np.array([25.])#20.25,25,39,50,56.25,100,156.25,189,250])[::-1]#cm^2\n",
    "# L_values=np.sqrt(A_values)#cm\n",
    "L_values=[10]\n",
    "kappa_values=np.array([1500])#100,500,1500])#5,10,15,20,25,30,35,40,45,50,55,60,65,70,75,80,85,90,95,100,250,500])#1/s\n",
    "# varkappa_values=np.array([-20.,-10.,-5,0,5,10,20])#1/s\n",
    "# x0_values=np.array([0.,0.5,1.0,1.5,2.0,3.0,4.0,5.0])#cm\n",
    "Dt_values=np.array([1e-5])#,1e-2])#10**-i for i in range(6)])\n",
    "dt=1e-5\n",
    "Nmax=100\n",
    "num_trials_per_setting=4\n",
    "reflect_values=np.array([0])\n",
    "set_second_values=np.array([0])\n",
    "no_repulsion_values=np.array([1])#1 means no repulsion is true\n",
    "no_attraction_values=np.array([1,0])\n",
    "\n",
    "num_trials_born=100 # the total number of daughters\n",
    "# print the breeding_values of the top 5\n",
    "# num_breeders=5\n",
    "# num_breeding_params=3\n",
    "# breeding_cols=['D','varkappa','x0']\n",
    "# num_breeding_params=len(breeding_cols)\n",
    "# # taken from the *.ipynb located here: 'analyzing the effect of strong attractive forces between nearest neighbors.ipynb'\n",
    "# breeder_values=dh[breeding_cols].head(num_breeders).values\n",
    "# breeder_values_LR=breeder_values\n",
    "# print(breeder_values)\n",
    "#the top 5 for the LR model. Epoch 0\n",
    "np.random.seed(1234)\n",
    "breeder_values=np.array(\n",
    "    [[  2.,   -5.,    5. ],\n",
    "     [ 20.,   -5.,    5. ],\n",
    "     [ 20.,  -20.,    1.5],\n",
    "     [ 20.,  -10.,    3. ],\n",
    "     [  2.,  -20.,    1.5]])\n",
    "\n",
    "#breed the given most-fit trials omnisexually.\n",
    "num_breeders, num_breeding_params = breeder_values.shape\n",
    "rand_matrix=np.random.rand(num_trials_born-num_breeders,num_breeders) # each entry is uniformly distributed on the interval from 0 to 1.\n",
    "\n",
    "breeder_trials=np.matmul(rand_matrix,breeder_values)/num_breeders\n",
    "#prepend the breeding_values of the top 5 to breeder_trials\n",
    "trial_values=np.concatenate((breeder_values,breeder_trials),axis=0)\n",
    "\n",
    "#iterate over settings, scheduling the longest jobs first\n",
    "count=0\n",
    "for Dt in Dt_values:\n",
    "    for set_second in set_second_values:\n",
    "        for reflect in reflect_values:\n",
    "            for r in r_values:\n",
    "                # for D in D_values:\n",
    "                for L in L_values:\n",
    "                    for kappa in kappa_values:\n",
    "                        # for varkappa in varkappa_values:\n",
    "                        #     for x0 in x0_values:\n",
    "                        for trial in trial_values:\n",
    "                            D,varkappa,x0=trial\n",
    "                            for no_repulsion in no_repulsion_values:\n",
    "                                for no_attraction in no_attraction_values:\n",
    "                                    num_trials=0\n",
    "                                    while num_trials<num_trials_per_setting:\n",
    "                                        num_trials+=1\n",
    "                                        count=count+1\n",
    "#                                         print(f\"{r} {D} {L} {kappa} {varkappa} {x0} {Dt} {dt} {Nmax} {niter} {reflect} {set_second} {no_repulsion} {no_attraction}\")\n",
    "print(count)\n"
   ]
  },
  {
   "cell_type": "markdown",
   "metadata": {
    "heading_collapsed": true
   },
   "source": [
    "# dev run 12\n",
    "first run in c/attractive"
   ]
  },
  {
   "cell_type": "code",
   "execution_count": null,
   "metadata": {
    "ExecuteTime": {
     "end_time": "2021-06-03T01:36:58.886837Z",
     "start_time": "2021-06-03T01:36:58.870681Z"
    },
    "hidden": true
   },
   "outputs": [],
   "source": [
    "import numpy as np\n",
    "niter=1500 #trials per worker\n",
    "r_values=np.array([0.1])#,0.2,0.3,0.4,0.5,.6,.7,.8,.9,1.,2.])#cm\n",
    "D_values=np.array([2.,20.])#0.2,1.0,1.5,2.0,3.,4.,5.])#cm^2/s\n",
    "# A_values=np.array([25.])#20.25,25,39,50,56.25,100,156.25,189,250])[::-1]#cm^2\n",
    "# L_values=np.sqrt(A_values)#cm\n",
    "L_values=[10]\n",
    "kappa_values=np.array([500,1500])#5,10,15,20,25,30,35,40,45,50,55,60,65,70,75,80,85,90,95,100,250,500])#1/s\n",
    "varkappa_values=np.array([0.])#-20.,-10.,-5,0,5,10,20])#1/s\n",
    "# varkappa_values=np.array([-20.,-10.,-5,0,5,10,20])#1/s\n",
    "x0_values=np.array([0.])#,1.0,5.0])#cm\n",
    "Dt_values=np.array([1e-5])#,1e-2])#10**-i for i in range(6)])\n",
    "dt=1e-5\n",
    "Nmax=100\n",
    "num_trials_per_setting=4\n",
    "reflect_values=np.array([0])\n",
    "set_second_values=np.array([0,1])\n",
    "no_repulsion_values=np.array([1])#1 means no repulsion is true\n",
    "no_attraction_values=np.array([1])\n",
    "neighbor=0 \n",
    "force_code=0\n",
    "#iterate over settings, scheduling the longest jobs first\n",
    "count=0\n",
    "\n",
    "#DONE:print control trials\n",
    "for Dt in Dt_values:\n",
    "    for set_second in set_second_values:\n",
    "        for reflect in reflect_values:\n",
    "            for r in r_values:\n",
    "                for D in D_values:\n",
    "                    for L in L_values:\n",
    "                        for kappa in kappa_values:\n",
    "                            for varkappa in varkappa_values:\n",
    "                                for x0 in x0_values:\n",
    "                                    for no_repulsion in no_repulsion_values:\n",
    "                                        for no_attraction in no_attraction_values:\n",
    "                                            num_trials=0\n",
    "                                            while num_trials<num_trials_per_setting:\n",
    "                                                num_trials+=1\n",
    "                                                count=count+1\n",
    "#                                                 print(f\"{r} {D} {L} {kappa} {varkappa} {x0} {Dt} {dt} {Nmax} {niter} {reflect} {set_second} {no_repulsion} {no_attraction} {neighbor} {force_code}\")\n",
    "# print(count)\n",
    "\n",
    "# DONE: print spring trials\n",
    "force_code=1\n",
    "no_attraction_values=np.array([0])\n",
    "neighbor_values=np.array([0,1])\n",
    "set_second_values=np.array([0,1])\n",
    "varkappa_values=np.array([-20.,-10.,-5,0])#1/s\n",
    "x0_values=np.array([0.,1.0,5.0])#cm\n",
    "#DONE:print control trials\n",
    "for Dt in Dt_values:\n",
    "    for set_second in set_second_values:\n",
    "        for reflect in reflect_values:\n",
    "            for r in r_values:\n",
    "                for D in D_values:\n",
    "                    for L in L_values:\n",
    "                        for kappa in kappa_values:\n",
    "                            for varkappa in varkappa_values:\n",
    "                                for x0 in x0_values:\n",
    "                                    for no_repulsion in no_repulsion_values:\n",
    "                                        for no_attraction in no_attraction_values:\n",
    "                                            for neighbor in neighbor_values:\n",
    "                                                num_trials=0\n",
    "                                                while num_trials<num_trials_per_setting:\n",
    "                                                    num_trials+=1\n",
    "                                                    count=count+1\n",
    "#                                                     print(f\"{r} {D} {L} {kappa} {varkappa} {x0} {Dt} {dt} {Nmax} {niter} {reflect} {set_second} {no_repulsion} {no_attraction} {neighbor} {force_code}\")\n",
    "# print(count)\n",
    "\n",
    "#DONE: print QED2 and QED3 trials\n",
    "force_code_values=np.array([2,3])\n",
    "no_attraction_values=np.array([0])\n",
    "neighbor_values=np.array([0,1])\n",
    "set_second_values=np.array([0,1])\n",
    "varkappa_values=np.array([0.,0.1,1.,5.,10.,20.,50.])#1/s\n",
    "x0_values=np.array([0.])#,1.0,5.0])#cm #x0 does nothing for QED2,3\n",
    "#DONE:print control trials\n",
    "for Dt in Dt_values:\n",
    "    for set_second in set_second_values:\n",
    "        for reflect in reflect_values:\n",
    "            for r in r_values:\n",
    "                for D in D_values:\n",
    "                    for L in L_values:\n",
    "                        for kappa in kappa_values:\n",
    "                            for varkappa in varkappa_values:\n",
    "                                for x0 in x0_values:\n",
    "                                    for no_repulsion in no_repulsion_values:\n",
    "                                        for no_attraction in no_attraction_values:\n",
    "                                            for neighbor in neighbor_values:\n",
    "                                                for force_code in force_code_values:\n",
    "                                                    num_trials=0\n",
    "                                                    while num_trials<num_trials_per_setting:\n",
    "                                                        num_trials+=1\n",
    "                                                        count=count+1\n",
    "#                                                     print(f\"{r} {D} {L} {kappa} {varkappa} {x0} {Dt} {dt} {Nmax} {niter} {reflect} {set_second} {no_repulsion} {no_attraction} {neighbor} {force_code}\")\n",
    "print(count)"
   ]
  },
  {
   "cell_type": "markdown",
   "metadata": {
    "heading_collapsed": true
   },
   "source": [
    "# dev run 13 - basin of attraction with inverse powerlaw attraction"
   ]
  },
  {
   "cell_type": "code",
   "execution_count": null,
   "metadata": {
    "ExecuteTime": {
     "end_time": "2021-08-24T17:37:52.952770Z",
     "start_time": "2021-08-24T17:37:52.933961Z"
    },
    "hidden": true,
    "scrolled": false
   },
   "outputs": [],
   "source": [
    "#run_13.py\n",
    "import numpy as np\n",
    "niter=1500 #trials per worker\n",
    "num_trials_per_setting=1\n",
    "\n",
    "#expected values for key parameters\n",
    "#values rounded from full-model-measurements.xlsx\n",
    "nu_dict      ={'fk':-2.1, 'lr':-1.7}\n",
    "beta_dict    ={'fk':4.4,  'lr':3.7 }  #positive varkappa implies an attractive force is present\n",
    "varkappa_dict={'fk':10.,  'lr':100.}  #positive varkappa implies an attractive force is present\n",
    "# b_dict={'fk':  ,  'lr':  } #95% CI was covering zero...\n",
    "\n",
    "def comp_kappa(r,beta,nu):\n",
    "    return np.exp(beta)*r**nu\n",
    "\n",
    "L=5 #cm per domain\n",
    "force_code=4 #QED2 + constant repulsion\n",
    "dt=1e-5\n",
    "Dt=1e-5\n",
    "Nmax=100  #Caution: might not be actually connected to anything...\n",
    "\n",
    "#model parameters\n",
    "D_values=np.array([0.5,1.5,5.,25.])# cm^2/s #5\n",
    "x0_values=np.array([1.5,3.,5.,10.,100.,10000.]) #10\n",
    "r_values=np.array([0.1])#,0.2,0.3,0.4,0.5])# cm #7\n",
    "\n",
    "#factors to multiply functionally computed parameters\n",
    "# f_values=np.array([0.5,0.9,1.,1.1,1.5]) #5\n",
    "f_values=np.array([0.5,0.8,0.9,1.,1.1,1.2]) #7\n",
    "\n",
    "#simulation parameters\n",
    "set_second_values=np.array([0])\n",
    "reflect_values=np.array([0])\n",
    "no_repulsion_values=np.array([0])#1 means no repulsion is true\n",
    "no_attraction_values=np.array([0])\n",
    "neighbor_values=np.array([0,1])\n",
    "\n",
    "#iterate over settings, scheduling the longest jobs first\n",
    "count=0\n",
    "for set_second in set_second_values:\n",
    "    for reflect in reflect_values:\n",
    "        for no_repulsion in no_repulsion_values:\n",
    "            for no_attraction in no_attraction_values:\n",
    "                for neighbor in neighbor_values:\n",
    "                    #compute parameters functionally within the for loop block:\n",
    "                    for mode in ['fk','lr']:\n",
    "                        varkappa_values = varkappa_dict[mode]*f_values\n",
    "                        for r in r_values:\n",
    "                            kappa_values = comp_kappa(r,beta_dict[mode],nu_dict[mode])*f_values\n",
    "                            for kappa in kappa_values:\n",
    "                                for varkappa in varkappa_values:\n",
    "                                    for D in D_values:\n",
    "                                        for x0 in x0_values:\n",
    "                                            num_trials=0\n",
    "                                            while num_trials<num_trials_per_setting:\n",
    "                                                num_trials+=1\n",
    "                                                count=count+1\n",
    "#                                                 print(f\"{r} {D} {L} {kappa:.5f} {varkappa} {x0} {Dt} {dt} {Nmax} {niter} {reflect} {set_second} {no_repulsion} {no_attraction} {neighbor} {force_code}\")\n",
    "print(count)\n",
    "print(comp_kappa(r,beta_dict['fk'],nu_dict['fk'])*f_values)\n",
    "print(comp_kappa(r,beta_dict['lr'],nu_dict['lr'])*f_values)\n",
    "print('printing varkappas')\n",
    "print(varkappa_dict['fk']*f_values)\n",
    "print(varkappa_dict['lr']*f_values)"
   ]
  },
  {
   "cell_type": "markdown",
   "metadata": {
    "heading_collapsed": true
   },
   "source": [
    "# dev run 18"
   ]
  },
  {
   "cell_type": "code",
   "execution_count": null,
   "metadata": {
    "ExecuteTime": {
     "end_time": "2021-09-15T04:51:57.444833Z",
     "start_time": "2021-09-15T04:51:57.430413Z"
    },
    "hidden": true
   },
   "outputs": [],
   "source": [
    "def gener_offspring(X,num_partners=2):\n",
    "    #TODO: randomly draw two parameter settings from     \n",
    "    #TODO: randomly draw two numbers\n",
    "    #TODO: return a randomly weighted average of these two parameter settings\n",
    "    a=np.random.random(num_partners)\n",
    "    a=a/np.sum(a)\n",
    "    #TODO: verify that it looks reasonableX\n",
    "    partners=np.random.permutation(X)[:num_partners]\n",
    "    weights=a\n",
    "    return np.matmul(partners.T,weights)\n",
    "\n",
    "np.random.seed(42)\n",
    "gener_offspring(X,num_partners=2)"
   ]
  },
  {
   "cell_type": "code",
   "execution_count": null,
   "metadata": {
    "ExecuteTime": {
     "end_time": "2022-08-09T02:21:29.444227Z",
     "start_time": "2022-08-09T02:21:29.439721Z"
    },
    "hidden": true
   },
   "outputs": [],
   "source": []
  },
  {
   "cell_type": "code",
   "execution_count": null,
   "metadata": {
    "hidden": true
   },
   "outputs": [],
   "source": []
  },
  {
   "cell_type": "code",
   "execution_count": null,
   "metadata": {
    "ExecuteTime": {
     "end_time": "2021-09-15T04:52:13.870203Z",
     "start_time": "2021-09-15T04:52:11.753526Z"
    },
    "hidden": true
   },
   "outputs": [],
   "source": [
    "#run_18.py\n",
    "import numpy as np,pandas as pd\n",
    "niter=1500 #trials per worker\n",
    "num_trials_per_setting=1\n",
    "np.random.seed(42)\n",
    "L=10 #cm per domain\n",
    "force_code=2 #2 :: QED2, 4 :: QED2 + constant repulsion\n",
    "x0_values=np.array([0])#1.5,3.,5.,10.,100.,10000.]) #10 #doesn't matter for force_code=2\n",
    "\n",
    "dt=1e-5\n",
    "Dt=1e-5\n",
    "Nmax=100  #Caution: might not be actually connected to anything...\n",
    "\n",
    "#compute model parameters\n",
    "#TODO: merge and move to dev run .ipynb\n",
    "# intersection_dir='/home/timothytyree/Documents/GitHub/bgmc/python/data/osg_output/run_15_ar_star.csv'\n",
    "intersection_dir='/home/timothytyree/Documents/GitHub/bgmc/python/data/osg_output/run_17_ar_star.csv'\n",
    "df_star=pd.read_csv(intersection_dir)\n",
    "# df_star.head()\n",
    "\n",
    "input_cols=['rstar', 'kappa', 'D', 'astar']\n",
    "output_col_lst=['m', 'M']\n",
    "X=df_star[input_cols].values\n",
    "num_stars=X.shape[0]\n",
    "\n",
    "#TODO: make a num_samples by num_stars matrix\n",
    "num_samples=10000\n",
    "\n",
    "def gener_offspring(X,num_partners=2):\n",
    "    #TODO: randomly draw two parameter settings from     \n",
    "    #TODO: randomly draw two numbers\n",
    "    #TODO: return a randomly weighted average of these two parameter settings\n",
    "    a=np.random.random(num_partners)\n",
    "    a=a/np.sum(a)\n",
    "    #TODO: verify that it looks reasonableX\n",
    "    partners=np.random.permutation(X)[:num_partners]\n",
    "    weights=a\n",
    "    return np.matmul(partners.T,weights)\n",
    "\n",
    "#TODO: generate 10000 such parameter settings\n",
    "X_lst=[]\n",
    "for j in range(num_samples):\n",
    "    X_lst.append(gener_offspring(X))\n",
    "random_parameter_values=np.array(X_lst)\n",
    "# rarr.shape,X.shape,random_parameter_values.shape,random_parameter_weights.shape\n",
    "# random_parameter_values=np.divide(random_parameter_values.T,random_parameter_weights).T\n",
    "#augment with arr\n",
    "r_values,kappa_values,D_values,varkappa_values=np.concatenate((X,random_parameter_values)).T\n",
    "\n",
    "#later #TODO: augment the 4 bwm parameters for lr,fk_pbc_M,m\n",
    "# df_bwm\n",
    "\n",
    "#old parameter grid\n",
    "# D_values=np.linspace(0.7,2,14)# cm^2/s #14\n",
    "# r_values=np.array([0.05,0.1,0.15,0.2,0.3,0.4,0.5])#,0.2,0.3,0.4,0.5])# cm\n",
    "# kappa_values = np.array([250,500])#,1000,1500]) #Hz\n",
    "# varkappa_values = np.array([0,1,2,3,4,5,6,7,8,9,10,15,20,25,30,35,40,45,50,60,70,80,90,100,110]) #cm^2/s #11\n",
    "\n",
    "#factors to multiply functionally computed parameters\n",
    "# f_values=np.array([0.5,0.9,1.,1.1,1.5]) #5\n",
    "# f_values=np.array([0.5,0.8,0.9,1.,1.1,1.2]) #7\n",
    "\n",
    "#simulation parameters\n",
    "set_second_values=np.array([0])\n",
    "reflect_values=np.array([0,1])\n",
    "no_repulsion_values=np.array([0])#1 means no repulsion is true\n",
    "no_attraction_values=np.array([0])\n",
    "neighbor_values=np.array([0])\n",
    "\n",
    "#iterate over settings, scheduling the longest jobs first\n",
    "count=0\n",
    "for set_second in set_second_values:\n",
    "    for reflect in reflect_values:\n",
    "        for no_repulsion in no_repulsion_values:\n",
    "            for no_attraction in no_attraction_values:\n",
    "                for neighbor in neighbor_values:\n",
    "                    for r,kappa,varkappa,D in zip(r_values,kappa_values,varkappa_values,D_values):\n",
    "#                     for r in r_values:\n",
    "#                         for kappa in kappa_values:\n",
    "#                             for varkappa in varkappa_values:\n",
    "#                                 for D in D_values:\n",
    "                        for x0 in x0_values:\n",
    "                            num_trials=0\n",
    "                            while num_trials<num_trials_per_setting:\n",
    "                                num_trials+=1\n",
    "                                count=count+1\n",
    "                                print(f\"{r:.5f} {D:.5f} {L} {kappa:.5f} {varkappa:.5f} {x0} {Dt} {dt} {Nmax} {niter} {reflect} {set_second} {no_repulsion} {no_attraction} {neighbor} {force_code}\")\n",
    "# print(count)#20304"
   ]
  },
  {
   "cell_type": "markdown",
   "metadata": {
    "ExecuteTime": {
     "end_time": "2021-08-27T18:50:45.176437Z",
     "start_time": "2021-08-27T18:50:45.170808Z"
    },
    "heading_collapsed": true
   },
   "source": [
    "# dev run_16 focusing on black star parameter settings"
   ]
  },
  {
   "cell_type": "markdown",
   "metadata": {
    "hidden": true
   },
   "source": [
    "$$\n",
    "\\text{Let } w=M q^\\nu \\text{, where } w=W_{-2}/A\\text{  and  } q=N/A.\n",
    "$$"
   ]
  },
  {
   "cell_type": "code",
   "execution_count": null,
   "metadata": {
    "ExecuteTime": {
     "end_time": "2021-09-03T20:23:27.364734Z",
     "start_time": "2021-09-03T20:23:27.361761Z"
    },
    "hidden": true
   },
   "outputs": [],
   "source": [
    "(1.877234-1.877081)/0.024488"
   ]
  },
  {
   "cell_type": "code",
   "execution_count": null,
   "metadata": {
    "ExecuteTime": {
     "end_time": "2021-09-03T18:49:55.984525Z",
     "start_time": "2021-09-03T18:49:55.959683Z"
    },
    "hidden": true
   },
   "outputs": [],
   "source": [
    "#run_16.py\n",
    "import numpy as np,pandas as pd\n",
    "niter=1500 #trials per worker\n",
    "num_trials_per_setting=1\n",
    "\n",
    "L=10 #cm per domain\n",
    "force_code=2 #2 :: QED2, 4 :: QED2 + constant repulsion\n",
    "\n",
    "dt=1e-5\n",
    "Dt=1e-5\n",
    "Nmax=100  #Caution: might not be actually connected to anything...\n",
    "\n",
    "#define constant parameters\n",
    "reflect=0\n",
    "force_code=2\n",
    "set_second=0\n",
    "neighbor=0\n",
    "no_attraction=0\n",
    "no_repulsion=0\n",
    "kappa=500\n",
    "L=10\n",
    "x0=0\n",
    "\n",
    "input_fn=f\"/home/timothytyree/Documents/GitHub/bgmc/python/data/osg_output/run_15_ar_star.csv\"\n",
    "df_star=pd.read_csv(input_fn)\n",
    "count=0\n",
    "for index,row in df_star.iterrows():\n",
    "    r=row['rstar']\n",
    "    varkappa=row['astar']\n",
    "    kappa=row['kappa']\n",
    "    D=row['D']\n",
    "    print(f\"{r:.5f} {D:.5f} {L} {kappa:.5f} {varkappa:.5f} {x0} {Dt} {dt} {Nmax} {niter} {reflect} {set_second} {no_repulsion} {no_attraction} {neighbor} {force_code}\")\n",
    "    count+=1\n",
    "# print(count)"
   ]
  },
  {
   "cell_type": "markdown",
   "metadata": {
    "ExecuteTime": {
     "end_time": "2021-09-03T18:47:26.591675Z",
     "start_time": "2021-09-03T18:47:26.576017Z"
    },
    "heading_collapsed": true
   },
   "source": [
    "# dev run 17 for finding parameter settings that support annihilation rates of the full model"
   ]
  },
  {
   "cell_type": "markdown",
   "metadata": {
    "hidden": true
   },
   "source": [
    "- DONT: option 1. Fix a and D from observation and test a lot of kappa, r about that\n",
    "    - cost ~1 year.  will probably make trials that need clipped...\n",
    "- DO: option 2. repeat run 15 with more D and kappa values\n",
    "    - cost ~5 years.  will probably make trials that need clipped...\n",
    "    - D=0, ..., 1.0 in\n",
    "    - a as before less zero\n",
    "    - r as before\n",
    "    - kappa = 100, \n",
    "I don't have perfect measurements of a and D for the full models... Thus, it makes more sense to solve for the full manifold, so I can make a mapping between a and D and r and kappa"
   ]
  },
  {
   "cell_type": "markdown",
   "metadata": {
    "hidden": true
   },
   "source": [
    " see github before 1/10/2022 ipynb cell here if interested..."
   ]
  },
  {
   "cell_type": "markdown",
   "metadata": {
    "ExecuteTime": {
     "end_time": "2021-09-15T17:04:41.137467Z",
     "start_time": "2021-09-15T17:04:41.131473Z"
    },
    "heading_collapsed": true
   },
   "source": [
    "# dev runs for the oscillatory models"
   ]
  },
  {
   "cell_type": "code",
   "execution_count": null,
   "metadata": {
    "hidden": true
   },
   "outputs": [],
   "source": [
    "1.767951,0.8020765"
   ]
  },
  {
   "cell_type": "code",
   "execution_count": null,
   "metadata": {
    "ExecuteTime": {
     "end_time": "2022-01-12T05:16:08.895700Z",
     "start_time": "2022-01-12T05:16:08.883262Z"
    },
    "hidden": true
   },
   "outputs": [],
   "source": [
    "#run_21.py - repeating last dense grid search with a=0 and more D resolution\n",
    "# --> use number of iterations my standard 1500, and the job should finish before the 10 hour mark (i.e. by morning!)\n",
    "import numpy as np\n",
    "niter=1500 #trials per worker\n",
    "num_trials_per_setting=1\n",
    "\n",
    "L=10 #cm per domain\n",
    "force_code=2 #2 :: QED2, 4 :: QED2 + constant repulsion\n",
    "# DONE: double check still performing reasonably well for LR\n",
    "# TODO: see whether the FK params are reasonably fast running\n",
    "# TODO: consider T,T/2 in run_22 over neighbors only\n",
    "# DONE: let T go from 0.05 to 0.56, hitting values like \n",
    "#DONE: include parameter versions for lengh units divided by 4, suppose we use only 500 trials instead of 1500 per trials...\n",
    "#DONE: consider also trying expected a and D divided by 4 (because of the L=10 from L=5 conversion)\n",
    "#DONE: consider also trying expected r divided by 2 (because of the L=10 from L=5 conversion)\n",
    "\n",
    "x0_values=np.array([0.05,0.06,0.1, 0.12]) #period in seconds\n",
    "# x0_values=np.array([0.100, 0.120 , 0.5, 0.06]) #period in seconds\n",
    "dt=1e-5\n",
    "Dt=1e-5\n",
    "Nmax=100  #Caution: might not be actually connected to anything...\n",
    "#pessimistic parameter settings with <10 hours runtime\n",
    "# 0.05  0.4      10  100   .8       0.1  1e-05 1e-05 20    1500   1234 0       0          0            0             1        2\n",
    "# #r    D        L kappa  varkappa  x0   Dt    dt    Nmax  niter seed reflect set_second no_repulsion no_attraction neighbor force_code\n",
    "\n",
    "#model parameters\n",
    "# D_values=np.linspace(0.7,2,14)# cm^2/s #14\n",
    "# D_values=np.arange(0,0.1,0.2,0.3,0.4,0.5,0.6,0.7,0.8,0.9,1.0,1.2,1.4,1.6,1.8,2.0])\n",
    "# r_values=np.array([0.3,0.35,.4,0.41,.45,0.5])# cm\n",
    "D_values=np.array([1.767951,0.8020765])#np.arange(0.1,8.1,0.1)\n",
    "D_values=np.concatenate([D_values,D_values/4])\n",
    "r_values=np.array([0.05,0.06,.1,.12])# cm\n",
    "r_values=np.concatenate([r_values,r_values/2])\n",
    "kappa_values = np.array([100,200,300,400,500,600,700,800,900,1000,1100,1200,1300,1400,1500])#,1000,1500]) #Hz\n",
    "varkappa_values = np.array([3.535902,1.604153])#1,2,3,4,5,6,7,8,9,10,15,20,25,30,35,40,45,50,60,70,80,90,100,110]) #cm^2/s #11\n",
    "varkappa_values=np.concatenate([varkappa_values,varkappa_values/4])\n",
    "\n",
    "#factors to multiply functionally computed parameters\n",
    "# f_values=np.array([0.5,0.9,1.,1.1,1.5]) #5\n",
    "# f_values=np.array([0.5,0.8,0.9,1.,1.1,1.2]) #7\n",
    "\n",
    "#simulation parameters\n",
    "set_second_values=np.array([0])\n",
    "reflect_values=np.array([0])\n",
    "no_repulsion_values=np.array([0])#1 means no repulsion is true\n",
    "no_attraction_values=np.array([0])\n",
    "neighbor_values=np.array([1])\n",
    "\n",
    "#iterate over settings, scheduling the longest jobs first\n",
    "count=0\n",
    "for set_second in set_second_values:\n",
    "    for reflect in reflect_values:\n",
    "        for no_repulsion in no_repulsion_values:\n",
    "            for no_attraction in no_attraction_values:\n",
    "                for neighbor in neighbor_values:\n",
    "                    for r in r_values:\n",
    "                        for kappa in kappa_values:\n",
    "                            for varkappa in varkappa_values:\n",
    "                                for D in D_values:\n",
    "                                    for x0 in x0_values:\n",
    "                                        num_trials=0\n",
    "                                        while num_trials<num_trials_per_setting:\n",
    "                                            num_trials+=1\n",
    "                                            count=count+1\n",
    "#                                             print(f\"{r:.5f} {D:.5f} {L} {kappa:.5f} {varkappa:.5f} {x0} {Dt} {dt} {Nmax} {niter} {reflect} {set_second} {no_repulsion} {no_attraction} {neighbor} {force_code}\")\n",
    "print(count)#7680\n",
    "print((np.min(varkappa_values),np.min(D_values),np.min(r_values)))#(0.40103825, 0.200519125, 0.025)"
   ]
  },
  {
   "cell_type": "code",
   "execution_count": null,
   "metadata": {
    "ExecuteTime": {
     "end_time": "2022-01-12T04:40:32.338092Z",
     "start_time": "2022-01-12T04:40:32.327882Z"
    },
    "hidden": true
   },
   "outputs": [],
   "source": [
    "data=np.load(\"/home/timothytyree/Documents/GitHub/care/notebooks/Data/initial-conditions-suite-3-LR/ic-in/ic014.11.npz\")"
   ]
  },
  {
   "cell_type": "code",
   "execution_count": null,
   "metadata": {
    "ExecuteTime": {
     "end_time": "2022-01-12T04:41:37.060031Z",
     "start_time": "2022-01-12T04:41:37.036291Z"
    },
    "hidden": true
   },
   "outputs": [],
   "source": [
    "data['arr_0'].shape\n",
    "ds=5/200"
   ]
  },
  {
   "cell_type": "code",
   "execution_count": null,
   "metadata": {
    "ExecuteTime": {
     "end_time": "2022-01-12T04:40:49.720190Z",
     "start_time": "2022-01-12T04:40:49.569800Z"
    },
    "hidden": true
   },
   "outputs": [],
   "source": [
    "arr=data['arr_0']\n",
    "arr.shape()"
   ]
  },
  {
   "cell_type": "code",
   "execution_count": null,
   "metadata": {
    "ExecuteTime": {
     "end_time": "2022-01-12T05:13:09.457865Z",
     "start_time": "2022-01-12T05:13:09.454807Z"
    },
    "hidden": true
   },
   "outputs": [],
   "source": [
    "for x in data:\n",
    "    print(type(x))"
   ]
  },
  {
   "cell_type": "code",
   "execution_count": null,
   "metadata": {
    "ExecuteTime": {
     "end_time": "2022-01-12T05:13:25.303753Z",
     "start_time": "2022-01-12T05:13:25.300993Z"
    },
    "hidden": true
   },
   "outputs": [],
   "source": [
    "7.5*80/60\n"
   ]
  },
  {
   "cell_type": "code",
   "execution_count": null,
   "metadata": {
    "ExecuteTime": {
     "end_time": "2022-01-14T05:13:44.125983Z",
     "start_time": "2022-01-14T05:13:43.946422Z"
    },
    "hidden": true
   },
   "outputs": [],
   "source": [
    "import numpy as np"
   ]
  },
  {
   "cell_type": "code",
   "execution_count": null,
   "metadata": {
    "ExecuteTime": {
     "end_time": "2022-01-14T05:14:28.172435Z",
     "start_time": "2022-01-14T05:14:28.166652Z"
    },
    "hidden": true
   },
   "outputs": [],
   "source": [
    "r_values=np.linspace(0.15,1.,18)\n",
    "r_values"
   ]
  },
  {
   "cell_type": "markdown",
   "metadata": {
    "heading_collapsed": true
   },
   "source": [
    "# dev run 24,25,..."
   ]
  },
  {
   "cell_type": "code",
   "execution_count": null,
   "metadata": {
    "ExecuteTime": {
     "end_time": "2022-08-11T18:09:43.457743Z",
     "start_time": "2022-08-11T18:09:43.420060Z"
    },
    "hidden": true
   },
   "outputs": [],
   "source": [
    "#run_20.py - repeating last dense grid search with a=0 and more D resolution\n",
    "import numpy as np\n",
    "niter=1500 #trials per worker\n",
    "num_trials_per_setting=1\n",
    "# niter=150 #trials per worker\n",
    "# num_trials_per_setting=10\n",
    "\n",
    "# L=10 #cm per domain\n",
    "L=5 #cm per domain\n",
    "force_code=2 #2 :: QED2, 4 :: QED2 + constant repulsion\n",
    "x0_values=np.array([0])#1.5,3.,5.,10.,100.,10000.]) #10 #doesn't matter for force_code=2\n",
    "\n",
    "dt=1e-5\n",
    "Dt=1e-5\n",
    "Nmax=100  #Warning: not be actually connected to anything. goto return_Coltimes.sh to modify Nmin,Nmax.\n",
    "\n",
    "#model parameters\n",
    "# D_values=np.linspace(0.7,2,14)# cm^2/s #14\n",
    "# D_values=np.arange(0,0.1,0.2,0.3,0.4,0.5,0.6,0.7,0.8,0.9,1.0,1.2,1.4,1.6,1.8,2.0])\n",
    "varkappa_values =np.array([1.553,9.969])\n",
    "D_values=np.array([.114,.09])\n",
    "#run 25\n",
    "r_values = np.arange(0.01,0.5,0.01)   #cm\n",
    "kappa_values = np.arange(100,1000,10) #Hz\n",
    "\n",
    "#TODO: back of envelope estimate\n",
    "# Q: is r^2*kappa of comparable magnitude in run 25 vs. run 24?\n",
    "\n",
    "\n",
    "#run 24\n",
    "# r_values = np.arange(0.1,1.8,0.2)   #cm\n",
    "# kappa_values = np.arange(10,600,5) #Hz\n",
    "# kappa_values = np.arange(10,600,10) #Hz\n",
    "# kappa_values = np.array([100,250,300,400,500,600,700,800,900,1000,1500])#,1000,1500]) #Hz\n",
    "\n",
    "# r_values = np.array([1.7])\n",
    "# kappa_values = np.array([100,250,300,400,500,600,700,800,900,1000,1500])#,1000,1500]) #Hz\n",
    "\n",
    "#factors to multiply functionally computed parameters\n",
    "# f_values=np.array([0.5,0.9,1.,1.1,1.5]) #5\n",
    "# f_values=np.array([0.5,0.8,0.9,1.,1.1,1.2]) #7\n",
    "\n",
    "#simulation parameters\n",
    "set_second_values=np.array([0])\n",
    "reflect_values=np.array([0])\n",
    "no_repulsion_values=np.array([0])#1 means no repulsion is true\n",
    "no_attraction_values=np.array([0])\n",
    "neighbor_values=np.array([1])\n",
    "\n",
    "#iterate over settings, scheduling the longest jobs first\n",
    "count=0\n",
    "for set_second in set_second_values:\n",
    "    for reflect in reflect_values:\n",
    "        for no_repulsion in no_repulsion_values:\n",
    "            for no_attraction in no_attraction_values:\n",
    "                for neighbor in neighbor_values:\n",
    "                    for r in r_values:\n",
    "                        for kappa in kappa_values:\n",
    "                            for varkappa in varkappa_values:\n",
    "                                for D in D_values:\n",
    "                                    for x0 in x0_values:\n",
    "                                        num_trials=0\n",
    "                                        while num_trials<num_trials_per_setting:\n",
    "                                            num_trials+=1\n",
    "                                            count=count+1\n",
    "#                                             print(f\"{r:.5f} {D:.5f} {L} {kappa:.5f} {varkappa:.5f} {x0} {Dt} {dt} {Nmax} {niter} {reflect} {set_second} {no_repulsion} {no_attraction} {neighbor} {force_code}\")\n",
    "print(count)#2124\n"
   ]
  },
  {
   "cell_type": "markdown",
   "metadata": {
    "heading_collapsed": true
   },
   "source": [
    "# dev run 26,27"
   ]
  },
  {
   "cell_type": "code",
   "execution_count": null,
   "metadata": {
    "ExecuteTime": {
     "end_time": "2022-09-13T18:42:34.712790Z",
     "start_time": "2022-09-13T18:42:34.709842Z"
    },
    "hidden": true
   },
   "outputs": [],
   "source": [
    "#run_27.py - dense grid search with a = amax - 2*D\n",
    "import numpy as np\n",
    "niter=1500 #trials per worker\n",
    "num_trials_per_setting=1\n",
    "# niter=150 #trials per worker\n",
    "# num_trials_per_setting=10\n",
    "\n",
    "# L=10 #cm per domain\n",
    "L=5 #cm per domain\n",
    "force_code=2 #2 :: QED2, 4 :: QED2 + constant repulsion\n",
    "x0_values=np.array([0])#1.5,3.,5.,10.,100.,10000.]) #10 #doesn't matter for force_code=2\n",
    "\n",
    "dt=1e-5\n",
    "Dt=1e-5\n",
    "Nmax=100  #Warning: not be actually connected to anything. goto return_Coltimes.sh to modify Nmin,Nmax.\n",
    "\n",
    "#model parameters\n",
    "#  dense grid search with a = amax - 2*D\n",
    "amax_lst = [3.29,3.35]# cm^2/s \n",
    "# D_values=np.arange(0.05,1.5,0.015)# cm^2/s \n",
    "D_values=np.arange(0.05,1.5,0.03)# cm^2/s \n",
    "\n",
    "alinear_lst=[]\n",
    "D_lst=[]\n",
    "for D in reversed(D_values):\n",
    "    for amax in amax_lst:\n",
    "        alinear=amax-2*D\n",
    "        #if alinear>0.3:\n",
    "        if alinear>2.:\n",
    "            alinear_lst.append(alinear)\n",
    "            D_lst.append(D)\n",
    "#len(alinear_lst)\n",
    "\n",
    "# r from 0.02 to 0.2\n",
    "# r_values = np.arange(0.005,0.1,0.005)   #cm\n",
    "# r_values = np.concatenate((r_values,np.arange(0.12,0.2,0.02)))   #cm\n",
    "r_values = np.arange(0.01,0.1,0.02)   #cm\n",
    "r_values = np.concatenate((r_values,np.arange(0.12,0.2,0.04)))   #cm\n",
    "# kappa from 200 to 1000\n",
    "# kappa_values = np.arange(200,1000,20) #Hz\n",
    "kappa_values = np.arange(200,1000,100) #Hz \n",
    "\n",
    "#simulation parameters\n",
    "set_second_values=np.array([0])\n",
    "reflect_values=np.array([0])\n",
    "no_repulsion_values=np.array([0])#1 means no repulsion is true\n",
    "no_attraction_values=np.array([0])\n",
    "neighbor_values=np.array([0,1])\n",
    "\n",
    "#iterate over settings, scheduling the longest jobs first\n",
    "count=0\n",
    "task_str_lst=[]\n",
    "for set_second in set_second_values:\n",
    "    for reflect in reflect_values:\n",
    "        for no_repulsion in no_repulsion_values:\n",
    "            for no_attraction in no_attraction_values:\n",
    "                for neighbor in neighbor_values:\n",
    "                    for varkappa,D in zip(alinear_lst,D_lst):                    \n",
    "                        for r in r_values:\n",
    "                            for kappa in kappa_values:\n",
    "                                for x0 in x0_values:\n",
    "                                    num_trials=0\n",
    "                                    while num_trials<num_trials_per_setting:\n",
    "                                        num_trials+=1\n",
    "                                        count=count+1\n",
    "                                        task_str=f\"{r:.5f} {D:.5f} {L} {kappa:.5f} {varkappa:.5f} {x0} {Dt} {dt} {Nmax} {niter} {reflect} {set_second} {no_repulsion} {no_attraction} {neighbor} {force_code}\"\n",
    "                                        task_str_lst.append(task_str)\n",
    "                                        #print(f\"{r:.5f} {D:.5f} {L} {kappa:.5f} {varkappa:.5f} {x0} {Dt} {dt} {Nmax} {niter} {reflect} {set_second} {no_repulsion} {no_attraction} {neighbor} {force_code}\")\n",
    "# print(count)#5248\n",
    "# print(task_str_lst[0])\n",
    "# print(task_str_lst[-1])\n",
    "# np.random.seed(42)\n",
    "# np.random.shuffle(task_str_lst)\n",
    "# print(task_str_lst[0])\n",
    "# print(task_str_lst[-1])\n",
    "for task_str in task_str_lst:\n",
    "    print(task_str)"
   ]
  },
  {
   "cell_type": "markdown",
   "metadata": {
    "heading_collapsed": true
   },
   "source": [
    "# dev run 28"
   ]
  },
  {
   "cell_type": "code",
   "execution_count": 3,
   "metadata": {
    "ExecuteTime": {
     "end_time": "2022-10-08T20:54:35.419603Z",
     "start_time": "2022-10-08T20:54:35.415783Z"
    },
    "hidden": true
   },
   "outputs": [],
   "source": [
    "#run_26.py - dense grid search with a = amax - 2*D\n",
    "import numpy as np\n",
    "niter=1500 #trials per worker\n",
    "num_trials_per_setting=1\n",
    "# niter=150 #trials per worker\n",
    "# num_trials_per_setting=10\n",
    "\n",
    "# L=10 #cm per domain\n",
    "L=5 #cm per domain\n",
    "force_code=2 #2 :: QED2, 4 :: QED2 + constant repulsion\n",
    "x0_values=np.array([0])#1.5,3.,5.,10.,100.,10000.]) #10 #doesn't matter for force_code=2\n",
    "\n",
    "dt=1e-5\n",
    "Dt=1e-5\n",
    "Nmax=100  #Warning: not be actually connected to anything. goto return_Coltimes.sh to modify Nmin,Nmax.\n",
    "\n",
    "#model parameters\n",
    "#  dense grid search with amax = a + 2*D fixed\n",
    "amax_lst = [1.78,10.147]# cm^2/s\n",
    "D_values=np.arange(0.05,1.5,0.15)# cm^2/s\n",
    "# D_values=np.arange(0.05,1.5,0.03)# cm^2/s\n",
    "\n",
    "alinear_lst=[]\n",
    "D_lst=[]\n",
    "for amax in amax_lst:\n",
    "    for D in D_values:\n",
    "        alinear=amax-2*D\n",
    "        if alinear>0.2:\n",
    "            alinear_lst.append(alinear)\n",
    "            D_lst.append(D)\n",
    "len(alinear_lst)\n",
    "\n",
    "# r from 0.02 to 0.2\n",
    "r_values = np.arange(0.005,0.1,0.005)   #cm\n",
    "r_values = np.concatenate((r_values,np.arange(0.12,0.2,0.02)))   #cm\n",
    "# kappa from 200 to 1000\n",
    "# kappa_values = np.arange(200,1000,20) #Hz\n",
    "kappa_values = np.arange(200,1000,50) #Hz\n",
    "\n",
    "#simulation parameters\n",
    "set_second_values=np.array([0])\n",
    "reflect_values=np.array([0])\n",
    "no_repulsion_values=np.array([0])#1 means no repulsion is true\n",
    "no_attraction_values=np.array([0])\n",
    "neighbor_values=np.array([0,1])\n",
    "\n",
    "#iterate over settings, scheduling the longest jobs first\n",
    "count=0\n",
    "task_str_lst=[]\n",
    "for set_second in set_second_values:\n",
    "    for reflect in reflect_values:\n",
    "        for no_repulsion in no_repulsion_values:\n",
    "            for no_attraction in no_attraction_values:\n",
    "                for neighbor in neighbor_values:\n",
    "                    for varkappa,D in zip(alinear_lst,D_lst):                    \n",
    "                        for r in r_values:\n",
    "                            for kappa in kappa_values:\n",
    "                                for x0 in x0_values:\n",
    "                                    num_trials=0\n",
    "                                    while num_trials<num_trials_per_setting:\n",
    "                                        num_trials+=1\n",
    "                                        count=count+1\n",
    "                                        task_str=f\"{r:.5f} {D:.5f} {L} {kappa:.5f} {varkappa:.5f} {x0} {Dt} {dt} {Nmax} {niter} {reflect} {set_second} {no_repulsion} {no_attraction} {neighbor} {force_code}\"\n",
    "                                        task_str_lst.append(task_str)\n",
    "np.random.seed(42)\n",
    "np.random.shuffle(task_str_lst)\n",
    "for task_str in task_str_lst:\n",
    "    print(task_str)\n",
    "print(count)#5248"
   ]
  },
  {
   "cell_type": "markdown",
   "metadata": {
    "heading_collapsed": true
   },
   "source": [
    "# dev run #30"
   ]
  },
  {
   "cell_type": "code",
   "execution_count": 52,
   "metadata": {
    "ExecuteTime": {
     "end_time": "2022-10-09T21:08:08.675142Z",
     "start_time": "2022-10-09T21:08:08.509766Z"
    },
    "hidden": true
   },
   "outputs": [
    {
     "name": "stdout",
     "output_type": "stream",
     "text": [
      "24960\n"
     ]
    }
   ],
   "source": [
    "#run_30.py - dense grid search over r,kappa with a = amax - 2*D, D fixed to observed\n",
    "#run_31.py can be a bonus repeat at L=10... \n",
    "# or... i could take the MLE fit on the entire corpus at L=10, which would be both easier and more baller.\n",
    "import numpy as np\n",
    "niter=1500 #trials per worker\n",
    "num_trials_per_setting=1\n",
    "# niter=150 #trials per worker\n",
    "# num_trials_per_setting=10\n",
    "\n",
    "# L=10 #cm per domain\n",
    "L=5 #cm per domain\n",
    "force_code=2 #2 :: QED2, 4 :: QED2 + constant repulsion\n",
    "x0_values=np.array([0])#1.5,3.,5.,10.,100.,10000.]) #10 #doesn't matter for force_code=2\n",
    "\n",
    "dt=1e-5\n",
    "Dt=1e-5\n",
    "Nmax=100  #Warning: not be actually connected to anything. goto return_Coltimes.sh to modify Nmin,Nmax.\n",
    "\n",
    "#measured values for FK\n",
    "#amax\n",
    "amax_lst_fk=[1.84020234,\n",
    "    0.657625095,\n",
    "    1.932490123,\n",
    "    2.735488034,]\n",
    "#D\n",
    "D_lst_fk=[0.0372,\n",
    "    0.1145,]\n",
    "#measured values for LR\n",
    "#amax\n",
    "amax_lst_lr=[8.585030313,\n",
    "    3.29811395,\n",
    "    8.630303341,\n",
    "    12.01694823,]\n",
    "#D\n",
    "D_lst_lr=[0.0014,\n",
    "    0.4158,]\n",
    "\n",
    "min_alinear=0.2 #cm^2/s\n",
    "#define attractive and diffusive force parameters\n",
    "alinear_lst=[]\n",
    "D_lst=[]\n",
    "for amax in amax_lst_fk:\n",
    "    for D in D_lst_fk:\n",
    "        alinear=amax-2*D\n",
    "        if alinear>min_alinear:\n",
    "            alinear_lst.append(alinear)\n",
    "            D_lst.append(D)\n",
    "for amax in amax_lst_lr:\n",
    "    for D in D_lst_lr:\n",
    "        alinear=amax-2*D\n",
    "        if alinear>min_alinear:\n",
    "            alinear_lst.append(alinear)\n",
    "            D_lst.append(D)\n",
    "len(alinear_lst)\n",
    "\n",
    "# kappa from 200 to 1000\n",
    "# kappa_values = np.arange(200,1000,25) #Hz\n",
    "kappa_values = np.arange(200,1000,50) #Hz\n",
    "#include specific hypothesized values for kappa\n",
    "\n",
    "# #kappa (reaction rate) notes:\n",
    "kappa_values_addendum=np.array([\n",
    "    436.74, #A=25 cm^2\n",
    "    1614.16,#A=25 cm^2\n",
    "    48.64,  #A=25 cm^2\n",
    "    167.02, #A=25 cm^2\n",
    "])\n",
    "kappa_values = np.concatenate([kappa_values,kappa_values_addendum])\n",
    "#src: http://localhost:8888/notebooks/estimation%20of%20intrinsic%20reaction%20rate.ipynb\n",
    "# kappa_values.shape\n",
    "\n",
    "min_reaction=0.1 #cm^2/s\n",
    "# r from 0.02 to 0.2\n",
    "r_values = np.arange(0.005,0.1,0.005)   #cm\n",
    "r_values = np.concatenate((r_values,np.arange(0.1,0.2,0.005)))   #cm\n",
    "# r_values = np.concatenate((r_values,np.arange(0.12,0.2,0.02)))   #cm\n",
    "#simulation parameters\n",
    "set_second_values=np.array([0])\n",
    "reflect_values=np.array([0])\n",
    "no_repulsion_values=np.array([0])#1 means no repulsion is true\n",
    "no_attraction_values=np.array([0])\n",
    "neighbor_values=np.array([0,1])\n",
    "\n",
    "#iterate over settings, scheduling the longest jobs first\n",
    "count=0\n",
    "task_str_lst=[]\n",
    "for set_second in set_second_values:\n",
    "    for reflect in reflect_values:\n",
    "        for no_repulsion in no_repulsion_values:\n",
    "            for no_attraction in no_attraction_values:\n",
    "                for neighbor in neighbor_values:\n",
    "                    for varkappa,D in zip(alinear_lst,D_lst):                    \n",
    "                        for r in r_values:\n",
    "                            for kappa in kappa_values:\n",
    "                                if min_reaction<=kappa*r**2:\n",
    "                                    for x0 in x0_values:\n",
    "                                        num_trials=0\n",
    "                                        while num_trials<num_trials_per_setting:\n",
    "                                            num_trials+=1\n",
    "                                            count=count+1\n",
    "                                            task_str=f\"{r:.5f} {D:.5f} {L} {kappa:.5f} {varkappa:.5f} {x0} {Dt} {dt} {Nmax} {niter} {reflect} {set_second} {no_repulsion} {no_attraction} {neighbor} {force_code}\"\n",
    "                                            task_str_lst.append(task_str)\n",
    "np.random.seed(42)\n",
    "np.random.shuffle(task_str_lst)\n",
    "# for task_str in task_str_lst:\n",
    "#     print(task_str)\n",
    "print(count)#11584"
   ]
  },
  {
   "cell_type": "code",
   "execution_count": 7,
   "metadata": {
    "ExecuteTime": {
     "end_time": "2022-10-12T03:18:04.753402Z",
     "start_time": "2022-10-12T03:18:04.570052Z"
    },
    "hidden": true
   },
   "outputs": [
    {
     "name": "stdout",
     "output_type": "stream",
     "text": [
      "37850\n"
     ]
    }
   ],
   "source": [
    "#run_30.py - dense grid search over r,kappa with a = amax - 2*D, D fixed to observed\n",
    "#run_31.py can be a bonus repeat at L=10...\n",
    "# or... i could take the MLE fit on the entire corpus at L=10, which would be both easier and more baller.\n",
    "import numpy as np\n",
    "niter=1500 #trials per worker\n",
    "num_trials_per_setting=1\n",
    "# niter=150 #trials per worker\n",
    "# num_trials_per_setting=10\n",
    "\n",
    "L=10 #cm per domain\n",
    "# L=5 #cm per domain\n",
    "force_code=2 #2 :: QED2, 4 :: QED2 + constant repulsion\n",
    "x0_values=np.array([0])#1.5,3.,5.,10.,100.,10000.]) #10 #doesn't matter for force_code=2\n",
    "\n",
    "dt=1e-5\n",
    "Dt=1e-5\n",
    "Nmax=100  #Warning: not be actually connected to anything. goto return_Coltimes.sh to modify Nmin,Nmax.\n",
    "\n",
    "#measured values for FK\n",
    "#amax\n",
    "amax_lst_fk=[1.84020234,\n",
    "    0.657625095,\n",
    "    1.932490123,\n",
    "    2.735488034,\n",
    "    1.781,\n",
    "    ]\n",
    "#D\n",
    "D_lst_fk=[0.0372,\n",
    "        0.1145,#* <--good one\n",
    "        #0.05,#from table 1\n",
    "        #37.2\n",
    "            ]\n",
    "#measured values for LR\n",
    "#amax\n",
    "amax_lst_lr=[8.585030313,\n",
    "    3.29811395,\n",
    "    8.630303341,\n",
    "    12.01694823,\n",
    "    10.147,\n",
    "    ]\n",
    "#D\n",
    "D_lst_lr=[0.0014,#<--> i think this one was slow...\n",
    "    1.4,#ibid times 1e3\n",
    "    0.4158,]#from table 1\n",
    "\n",
    "min_alinear=0.2 #cm^2/s <-- had some straggler w/  >20hours run time...\n",
    "#define attractive and diffusive force parameters\n",
    "alinear_lst=[]\n",
    "D_lst=[]\n",
    "for amax in amax_lst_fk:\n",
    "    for D in D_lst_fk:\n",
    "        alinear=amax-2*D\n",
    "        if alinear>min_alinear:\n",
    "            alinear_lst.append(alinear)\n",
    "            D_lst.append(D)\n",
    "for amax in amax_lst_lr:\n",
    "    for D in D_lst_lr:\n",
    "        alinear=amax-2*D\n",
    "        if alinear>min_alinear:\n",
    "            alinear_lst.append(alinear)\n",
    "            D_lst.append(D)\n",
    "#len(alinear_lst)\n",
    "\n",
    "# kappa from 200 to 1000\n",
    "# kappa_values = np.arange(200,1000,25) #Hz\n",
    "kappa_values = np.arange(200,1000,50) #Hz\n",
    "#include specific hypothesized values for kappa\n",
    "\n",
    "# #kappa (reaction rate) notes:\n",
    "kappa_values_addendum=np.array([\n",
    "    436.74, #A=25 cm^2\n",
    "    1614.16,#A=25 cm^2\n",
    "    48.64,  #A=25 cm^2\n",
    "    167.02, #A=25 cm^2\n",
    "    880, #250, #from table 1\n",
    "])\n",
    "kappa_values = np.concatenate([kappa_values,kappa_values_addendum])\n",
    "#src: http://localhost:8888/notebooks/estimation%20of%20intrinsic%20reaction%20rate.ipynb\n",
    "#kappa_values.shape\n",
    "\n",
    "#min_reaction=0.1 #cm^2/s# <--- had some stragglers past 20 hours of run time...\n",
    "min_reaction=0.2 #cm^2/s #same value as alinear threshold.\n",
    "# r from 0.02 to 0.2\n",
    "r_values = np.arange(0.005,0.1,0.005)   #cm\n",
    "r_values = np.concatenate((r_values,np.arange(0.1,0.2,0.005))) #cm\n",
    "r_values_addendum=np.array([\n",
    "    #0.02,#0.095,0.1,\n",
    "    0.14,\n",
    "])\n",
    "r_values = np.concatenate((r_values,r_values_addendum))   #cm\n",
    "# r_values = np.concatenate((r_values,np.arange(0.12,0.2,0.02)))   #cm\n",
    "#simulation parameters\n",
    "set_second_values=np.array([0])\n",
    "reflect_values=np.array([0])\n",
    "no_repulsion_values=np.array([0])#1 means no repulsion is true\n",
    "no_attraction_values=np.array([0])\n",
    "neighbor_values=np.array([0,1])\n",
    "\n",
    "#iterate over settings, scheduling the longest jobs first\n",
    "count=0\n",
    "task_str_lst=[]\n",
    "for set_second in set_second_values:\n",
    "    for reflect in reflect_values:\n",
    "        for no_repulsion in no_repulsion_values:\n",
    "            for no_attraction in no_attraction_values:\n",
    "                for neighbor in neighbor_values:\n",
    "                    for varkappa,D in zip(alinear_lst,D_lst):\n",
    "                        for r in r_values:\n",
    "                            for kappa in kappa_values:\n",
    "                                if min_reaction<=kappa*r**2:\n",
    "                                    for x0 in x0_values:\n",
    "                                        num_trials=0\n",
    "                                        while num_trials<num_trials_per_setting:\n",
    "                                            num_trials+=1\n",
    "                                            count=count+1\n",
    "                                            task_str=f\"{r:.5f} {D:.5f} {L} {kappa:.5f} {varkappa:.5f} {x0} {Dt} {dt} {Nmax} {niter} {reflect} {set_second} {no_repulsion} {no_attraction} {neighbor} {force_code}\"\n",
    "                                            task_str_lst.append(task_str)\n",
    "np.random.seed(42)\n",
    "np.random.shuffle(task_str_lst)\n",
    "# for task_str in task_str_lst:\n",
    "#     print(task_str)\n",
    "print(count)#37850\n"
   ]
  },
  {
   "cell_type": "code",
   "execution_count": null,
   "metadata": {
    "ExecuteTime": {
     "end_time": "2022-10-20T03:10:44.883613Z",
     "start_time": "2022-10-20T03:10:44.860951Z"
    },
    "hidden": true
   },
   "outputs": [],
   "source": []
  },
  {
   "cell_type": "code",
   "execution_count": 7,
   "metadata": {
    "ExecuteTime": {
     "end_time": "2022-10-20T03:12:11.766704Z",
     "start_time": "2022-10-20T03:12:11.615716Z"
    },
    "hidden": true
   },
   "outputs": [
    {
     "name": "stdout",
     "output_type": "stream",
     "text": [
      "2296\n"
     ]
    }
   ],
   "source": [
    "#run_30.py - dense grid search over r,kappa with a = amax - 2*D, D fixed to observed\n",
    "#run_31.py can be a bonus repeat at L=10...\n",
    "# or... i could take the MLE fit on the entire corpus at L=10, which would be both easier and more baller.\n",
    "import numpy as np\n",
    "niter=1500 #trials per worker\n",
    "num_trials_per_setting=1\n",
    "# niter=150 #trials per worker\n",
    "# num_trials_per_setting=10\n",
    "\n",
    "# L=10 #cm per domain\n",
    "L=5 #cm per domain\n",
    "force_code=2 #2 :: QED2, 4 :: QED2 + constant repulsion\n",
    "x0_values=np.array([0])#1.5,3.,5.,10.,100.,10000.]) #10 #doesn't matter for force_code=2\n",
    "\n",
    "\n",
    "\n",
    "#TODO(failing ^this): dev run 34 with ^this, rxn>3, and L=5.\n",
    "#TODO: set rxn<12\n",
    "\n",
    "\n",
    "dt=1e-5\n",
    "Dt=1e-5\n",
    "Nmax=100  #Warning: not be actually connected to anything. goto return_Coltimes.sh to modify Nmin,Nmax.\n",
    "\n",
    "#measured values for FK\n",
    "#amax\n",
    "amax_lst_fk=[\n",
    "    1.781,\n",
    "    1.9252,\n",
    "    ]\n",
    "#D\n",
    "D_lst_fk=[#0.0372,\n",
    "        0.1145,#* <--the good one\n",
    "        #0.05,#from table 1\n",
    "            ]\n",
    "#measured values for LR\n",
    "#amax\n",
    "amax_lst_lr=[#8.585030313,\n",
    "    #3.29811395,\n",
    "    #8.630303341,\n",
    "    #12.01694823,\n",
    "    10.147,\n",
    "    11.2437\n",
    "    ]\n",
    "#D\n",
    "D_lst_lr=[#0.0014,#<--> i think this one was slow...\n",
    "    0.4158,]#from table 1\n",
    "\n",
    "min_alinear=0.2 #cm^2/s <-- can produce stragglers w/  >20hours run time...\n",
    "#define attractive and diffusive force parameters\n",
    "alinear_lst=[]\n",
    "D_lst=[]\n",
    "for amax in amax_lst_fk:\n",
    "    for D in D_lst_fk:\n",
    "        alinear=amax-2*D\n",
    "        if alinear>min_alinear:\n",
    "            alinear_lst.append(alinear)\n",
    "            D_lst.append(D)\n",
    "for amax in amax_lst_lr:\n",
    "    for D in D_lst_lr:\n",
    "        alinear=amax-2*D\n",
    "        if alinear>min_alinear:\n",
    "            alinear_lst.append(alinear)\n",
    "            D_lst.append(D)\n",
    "#len(alinear_lst)\n",
    "\n",
    "# kappa from 200 to 1000\n",
    "# kappa_values = np.arange(200,1000,25) #Hz\n",
    "kappa_values = np.arange(200,1000,50) #Hz\n",
    "#include specific hypothesized values for kappa\n",
    "\n",
    "# #kappa (reaction rate) notes:\n",
    "kappa_values_addendum=np.array([\n",
    "    436.74, #A=25 cm^2\n",
    "    1614.16,#A=25 cm^2\n",
    "    48.64,  #A=25 cm^2\n",
    "    167.02, #A=25 cm^2\n",
    "    880, #250, #from table 1\n",
    "])\n",
    "kappa_values = np.concatenate([kappa_values,kappa_values_addendum])\n",
    "#src: http://localhost:8888/notebooks/estimation%20of%20intrinsic%20reaction%20rate.ipynb\n",
    "#kappa_values.shape\n",
    "\n",
    "#min_reaction=0.1 #cm^2/s# <--- had some stragglers past 20 hours of run time...\n",
    "min_reaction=3 #cm^2/s <--- had some stragglers past 20 hours of run time...\n",
    "max_reaction=12\n",
    "# r from 0.02 to 0.2\n",
    "r_values = np.arange(0.005,0.1,0.005)   #cm\n",
    "r_values = np.concatenate((r_values,np.arange(0.1,0.2,0.005))) #cm\n",
    "# r_values_addendum=np.array([\n",
    "#     #0.02,#0.095,0.1,\n",
    "#     0.14, #redundant\n",
    "# ])\n",
    "# r_values = np.concatenate((r_values,r_values_addendum))   #cm\n",
    "# r_values = np.concatenate((r_values,np.arange(0.12,0.2,0.02)))   #cm\n",
    "#simulation parameters\n",
    "set_second_values=np.array([0])\n",
    "reflect_values=np.array([0])\n",
    "no_repulsion_values=np.array([0])#1 means no repulsion is true\n",
    "no_attraction_values=np.array([0])\n",
    "neighbor_values=np.array([0,1])\n",
    "\n",
    "#iterate over settings, scheduling the longest jobs first\n",
    "count=0\n",
    "task_str_lst=[]\n",
    "for set_second in set_second_values:\n",
    "    for reflect in reflect_values:\n",
    "        for no_repulsion in no_repulsion_values:\n",
    "            for no_attraction in no_attraction_values:\n",
    "                for neighbor in neighbor_values:\n",
    "                    for varkappa,D in zip(alinear_lst,D_lst):\n",
    "                        for r in r_values:\n",
    "                            for kappa in kappa_values:\n",
    "                                rxn=kappa*r**2\n",
    "                                #if min_reaction<=rxn:\n",
    "                                if (min_reaction<=rxn) and (max_reaction>=rxn):\n",
    "                                    for x0 in x0_values:\n",
    "                                        num_trials=0\n",
    "                                        while num_trials<num_trials_per_setting:\n",
    "                                            num_trials+=1\n",
    "                                            count=count+1\n",
    "                                            task_str=f\"{r:.5f} {D:.5f} {L} {kappa:.5f} {varkappa:.5f} {x0} {Dt} {dt} {Nmax} {niter} {reflect} {set_second} {no_repulsion} {no_attraction} {neighbor} {force_code}\"\n",
    "                                            task_str_lst.append(task_str)\n",
    "np.random.seed(42)\n",
    "np.random.shuffle(task_str_lst)\n",
    "for task_str in task_str_lst:\n",
    "    print(task_str)\n",
    "# print(count)#2296\n"
   ]
  },
  {
   "cell_type": "markdown",
   "metadata": {
    "heading_collapsed": true
   },
   "source": [
    "# dev next run (35)"
   ]
  },
  {
   "cell_type": "code",
   "execution_count": 1,
   "metadata": {
    "ExecuteTime": {
     "end_time": "2022-11-13T23:53:09.415672Z",
     "start_time": "2022-11-13T23:53:09.176514Z"
    },
    "hidden": true
   },
   "outputs": [
    {
     "name": "stdout",
     "output_type": "stream",
     "text": [
      "10080\n"
     ]
    }
   ],
   "source": [
    "#run_30.py - dense grid search over r,kappa with a = amax - 2*D, D fixed to observed\n",
    "#run_31.py can be a bonus repeat at L=10...\n",
    "# or... i could take the MLE fit on the entire corpus at L=10, which would be both easier and more baller.\n",
    "import numpy as np\n",
    "niter=1500 #trials per worker\n",
    "num_trials_per_setting=1\n",
    "# niter=150 #trials per worker\n",
    "# num_trials_per_setting=10\n",
    "\n",
    "# L=10 #cm per domain\n",
    "# L=5 #cm per domain\n",
    "L_lst=[5,10]\n",
    "force_code=2 #2 :: QED2, 4 :: QED2 + constant repulsion\n",
    "x0_values=np.array([0])#1.5,3.,5.,10.,100.,10000.]) #10 #doesn't matter for force_code=2\n",
    "\n",
    "dt=1e-5\n",
    "Dt=1e-5\n",
    "Nmax=100  #Warning: not be actually connected to anything. goto return_Coltimes.sh to modify Nmin,Nmax.\n",
    "\n",
    "#measured values for FK\n",
    "#amax\n",
    "amax_lst_fk=[\n",
    "    1.781,\n",
    "    1.9252,\n",
    "    ]\n",
    "#D\n",
    "D_lst_fk=[#0.0372,\n",
    "    0.1507, #from powerlaw msd fit\n",
    "    0.1290, #from linear msd fit\n",
    "    # 0.1145,#* <--the good one from msr fit\n",
    "    #0.05,#from table 1\n",
    "            ]\n",
    "#measured values for LR\n",
    "#amax\n",
    "amax_lst_lr=[#8.585030313,\n",
    "    #3.29811395,\n",
    "    #8.630303341,\n",
    "    #12.01694823,\n",
    "    10.147, #TODO(later): try with 10.149\n",
    "    11.2437\n",
    "    ]\n",
    "#D\n",
    "D_lst_lr=[#0.0014,#<--> i think this one was slow...\n",
    "    3.6942, #from powerlaw msd fit\n",
    "    3.7566, #from linear msd fit\n",
    "    # 0.4158,#* <--the good one from msr fit #from table 1\n",
    "    ]\n",
    "\n",
    "min_alinear=0.2 #cm^2/s <-- can produce stragglers w/  >20hours run time...\n",
    "#define attractive and diffusive force parameters\n",
    "alinear_lst=[]\n",
    "D_lst=[]\n",
    "for amax in amax_lst_fk:\n",
    "    for D in D_lst_fk:\n",
    "        alinear=amax-2*D\n",
    "        if alinear>min_alinear:\n",
    "            alinear_lst.append(alinear)\n",
    "            D_lst.append(D)\n",
    "for amax in amax_lst_lr:\n",
    "    for D in D_lst_lr:\n",
    "        alinear=amax-2*D\n",
    "        if alinear>min_alinear:\n",
    "            alinear_lst.append(alinear)\n",
    "            D_lst.append(D)\n",
    "#len(alinear_lst)\n",
    "\n",
    "# kappa from 200 to 1000\n",
    "# kappa_values = np.arange(200,1000,25) #Hz\n",
    "kappa_values = np.arange(200,1000,50) #Hz\n",
    "#include specific hypothesized values for kappa\n",
    "\n",
    "# #kappa (reaction rate) notes:\n",
    "kappa_values_addendum=np.array([\n",
    "    # 436.74, #A=25 cm^2\n",
    "    # 1614.16,#A=25 cm^2\n",
    "    # 48.64,  #A=25 cm^2\n",
    "    # 167.02, #A=25 cm^2\n",
    "    # 880, #250, #from table 1\n",
    "    165,\n",
    "    170,\n",
    "])\n",
    "kappa_values = np.concatenate([kappa_values,kappa_values_addendum])\n",
    "#src: http://localhost:8888/notebooks/estimation%20of%20intrinsic%20reaction%20rate.ipynb\n",
    "#kappa_values.shape\n",
    "\n",
    "#min_reaction=0.1 #cm^2/s# <--- had some stragglers past 20 hours of run time...\n",
    "# min_reaction=3 #cm^2/s <--- had some stragglers past 20 hours of run time...\n",
    "min_reaction=2 #cm^2/s <--- will likely have some stragglers past 20 hours of run time...\n",
    "max_reaction=12\n",
    "# r from 0.02 to 0.2\n",
    "r_values = np.arange(0.005,0.1,0.005)   #cm\n",
    "r_values = np.concatenate((r_values,np.arange(0.1,0.2,0.005))) #cm\n",
    "# r_values_addendum=np.array([\n",
    "#     #0.02,#0.095,0.1,\n",
    "#     0.14, #redundant\n",
    "# ])\n",
    "# r_values = np.concatenate((r_values,r_values_addendum))   #cm\n",
    "# r_values = np.concatenate((r_values,np.arange(0.12,0.2,0.02)))   #cm\n",
    "#simulation parameters\n",
    "set_second_values=np.array([0])\n",
    "reflect_values=np.array([0])\n",
    "no_repulsion_values=np.array([0])#1 means no repulsion is true\n",
    "no_attraction_values=np.array([0])\n",
    "neighbor_values=np.array([0,1])\n",
    "\n",
    "#iterate over settings, scheduling the longest jobs first\n",
    "count=0\n",
    "task_str_lst=[]\n",
    "for L in L_lst:\n",
    "    for set_second in set_second_values:\n",
    "        for reflect in reflect_values:\n",
    "            for no_repulsion in no_repulsion_values:\n",
    "                for no_attraction in no_attraction_values:\n",
    "                    for neighbor in neighbor_values:\n",
    "                        for varkappa,D in zip(alinear_lst,D_lst):\n",
    "                            for r in r_values:\n",
    "                                for kappa in kappa_values:\n",
    "                                    rxn=kappa*r**2\n",
    "                                    #if min_reaction<=rxn:\n",
    "                                    if (min_reaction<=rxn) and (max_reaction>=rxn):\n",
    "                                        for x0 in x0_values:\n",
    "                                            num_trials=0\n",
    "                                            while num_trials<num_trials_per_setting:\n",
    "                                                num_trials+=1\n",
    "                                                count=count+1\n",
    "                                                task_str=f\"{r:.5f} {D:.5f} {L} {kappa:.5f} {varkappa:.5f} {x0} {Dt} {dt} {Nmax} {niter} {reflect} {set_second} {no_repulsion} {no_attraction} {neighbor} {force_code}\"\n",
    "                                                task_str_lst.append(task_str)\n",
    "np.random.seed(42)\n",
    "np.random.shuffle(task_str_lst)\n",
    "# for task_str in task_str_lst:\n",
    "#     print(task_str)\n",
    "print(count)#10080\n"
   ]
  },
  {
   "cell_type": "markdown",
   "metadata": {},
   "source": [
    "# DONE: dev run with linear search over alinear with table 1 parameters fixed (run 36)"
   ]
  },
  {
   "cell_type": "code",
   "execution_count": 9,
   "metadata": {
    "ExecuteTime": {
     "end_time": "2022-11-19T10:03:38.427506Z",
     "start_time": "2022-11-19T10:03:38.415983Z"
    }
   },
   "outputs": [
    {
     "name": "stdout",
     "output_type": "stream",
     "text": [
      "96\n"
     ]
    }
   ],
   "source": [
    "#run_30.py - dense grid search over r,kappa with a = amax - 2*D, D fixed to observed\n",
    "#run_31.py can be a bonus repeat at L=10...\n",
    "# or... i could take the MLE fit on the entire corpus at L=10, which would be both easier and more baller.\n",
    "import numpy as np\n",
    "niter=1500 #trials per worker\n",
    "num_trials_per_setting=1\n",
    "# niter=150 #trials per worker\n",
    "# num_trials_per_setting=10\n",
    "\n",
    "# L=10 #cm per domain\n",
    "# L=5 #cm per domain\n",
    "L_lst=[10]\n",
    "force_code=2 #2 :: QED2, 4 :: QED2 + constant repulsion\n",
    "x0_values=np.array([0])#1.5,3.,5.,10.,100.,10000.]) #10 #doesn't matter for force_code=2\n",
    "\n",
    "dt=1e-5\n",
    "Dt=1e-5\n",
    "Nmax=100  #Warning: not be actually connected to anything. goto return_Coltimes.sh to modify Nmin,Nmax.\n",
    "\n",
    "# amax_lst=[\n",
    "#     1.781, #fk from osc fit to msr\n",
    "#     10.147, #lr from osc fit to msr\n",
    "# ]\n",
    "\n",
    "#inpute exactly what is listed in table 1\n",
    "r_values=np.array([\n",
    "    0.135, #fk from table 1\n",
    "    0.155  #lr from table 1\n",
    "])\n",
    "kappa_values=np.array([\n",
    "    167., #167.02, #fk from table 1\n",
    "    300.  #lr from table 1\n",
    "])\n",
    "D_values=np.array([\n",
    "    0.115, #0.1145, #fk from msr\n",
    "    0.42, #0.4158  #lr from msr\n",
    "])\n",
    "#define linear search over alinear\n",
    "alinear_lst=[\n",
    "    1.5520, #1.781 - 2*0.115, #0.1145,\n",
    "    9.3, #10.147- 2*0.42, #0.4158\n",
    "    0,1,2,3,4,5,\n",
    "    6,7,8,9, # <--- optional bc otherwise I had <60 jobs...\n",
    "    10,15,20,25,30,\n",
    "    40,50,60,70,80,90,100, # <--- optional bc otherwise I had <60 jobs...\n",
    "]\n",
    "\n",
    "#simulation parameters\n",
    "set_second_values=np.array([0])\n",
    "reflect_values=np.array([0])\n",
    "no_repulsion_values=np.array([0])#1 means no repulsion is true\n",
    "no_attraction_values=np.array([0])\n",
    "neighbor_values=np.array([0,1])\n",
    "\n",
    "#iterate over settings, scheduling the longest jobs first\n",
    "count=0\n",
    "task_str_lst=[]\n",
    "for L in L_lst:\n",
    "    for set_second in set_second_values:\n",
    "        for reflect in reflect_values:\n",
    "            for no_repulsion in no_repulsion_values:\n",
    "                for no_attraction in no_attraction_values:\n",
    "                    for neighbor in neighbor_values:\n",
    "                        for r,kappa,D in zip(r_values,kappa_values,D_values):\n",
    "                            for varkappa in alinear_lst:\n",
    "                                for x0 in x0_values:\n",
    "                                    num_trials=0\n",
    "                                    while num_trials<num_trials_per_setting:\n",
    "                                        num_trials+=1\n",
    "                                        count=count+1\n",
    "                                        task_str=f\"{r:.5f} {D:.5f} {L} {kappa:.5f} {varkappa:.5f} {x0} {Dt} {dt} {Nmax} {niter} {reflect} {set_second} {no_repulsion} {no_attraction} {neighbor} {force_code}\"\n",
    "                                        task_str_lst.append(task_str)\n",
    "np.random.seed(42)\n",
    "np.random.shuffle(task_str_lst)\n",
    "# for task_str in task_str_lst:\n",
    "#     print(task_str)\n",
    "print(count)#96\n"
   ]
  },
  {
   "cell_type": "markdown",
   "metadata": {},
   "source": [
    "# dev next run"
   ]
  },
  {
   "cell_type": "code",
   "execution_count": 2,
   "metadata": {
    "ExecuteTime": {
     "end_time": "2023-04-21T17:16:59.951091Z",
     "start_time": "2023-04-21T17:16:59.948294Z"
    }
   },
   "outputs": [],
   "source": [
    "# kappa_values.shape,r_values.shape"
   ]
  },
  {
   "cell_type": "code",
   "execution_count": 3,
   "metadata": {
    "ExecuteTime": {
     "end_time": "2023-04-21T17:17:56.954639Z",
     "start_time": "2023-04-21T17:17:47.285870Z"
    }
   },
   "outputs": [
    {
     "name": "stdout",
     "output_type": "stream",
     "text": [
      "1227600\n"
     ]
    }
   ],
   "source": [
    "#run_30.py - dense grid search over r,kappa with a = amax - 2*D, D fixed to observed\n",
    "#run_31.py can be a bonus repeat at L=10...\n",
    "# or... i could take the MLE fit on the entire corpus at L=10, which would be both easier and more baller.\n",
    "import numpy as np\n",
    "niter=1500 #trials per worker\n",
    "num_trials_per_setting=1\n",
    "# niter=150 #trials per worker\n",
    "# num_trials_per_setting=10\n",
    "\n",
    "# L=10 #cm per domain\n",
    "# L=5 #cm per domain\n",
    "L_lst=[5]\n",
    "force_code=2 #2 :: QED2, 4 :: QED2 + constant repulsion\n",
    "x0_values=np.array([0])#1.5,3.,5.,10.,100.,10000.]) #10 #doesn't matter for force_code=2\n",
    "\n",
    "# dt=1e-5\n",
    "# Dt=1e-5\n",
    "dt=1e-4\n",
    "Dt=1e-4\n",
    "Nmax=150\n",
    "\n",
    "# amax_lst=[\n",
    "#     1.781, #fk from osc fit to msr\n",
    "#     10.147, #lr from osc fit to msr\n",
    "# ]\n",
    "\n",
    "\n",
    "kappa_values=np.arange(10,1000,5)\n",
    "r_values=np.arange(0.0125,0.4,0.0005)\n",
    "\n",
    "#inpute exactly what is listed in table 1\n",
    "# r_values=np.array([\n",
    "#     # 0.135, #fk from table 1\n",
    "#     # 0.155  #lr from table 1\n",
    "#     0.175,\n",
    "#     0.1\n",
    "# ])\n",
    "# kappa_values=np.array([\n",
    "#     100.,\n",
    "#     200.,\n",
    "#     # 167., #167.02, #fk from table 1\n",
    "#     300.  #lr from table 1\n",
    "# ])\n",
    "D_values=np.array([\n",
    "    0.115, #0.1145, #fk from msr\n",
    "    0.42, #0.4158  #lr from msr\n",
    "#     0.4158,\n",
    "#     0.2,\n",
    "#     #0.4,\n",
    "#     0.6,\n",
    "#     0.8,\n",
    "#     1.2,\n",
    "#     1.6,\n",
    "])\n",
    "#define linear search over alinear\n",
    "alinear_lst=[\n",
    "    1.5520, #1.781 - 2*0.115, #0.1145,\n",
    "    9.3,\n",
    "#     9.3154,\n",
    "#     9.307,\n",
    "#     9.3, #10.147- 2*0.42, #0.4158\n",
    "    ###the varkappa sweep####\n",
    "#     0,1,2,3,4,5,\n",
    "#     6,7,8,9, # <--- optional bc otherwise I had <60 jobs...\n",
    "#     10,15,20,25,30,\n",
    "#     40,50,60,70,80,90,100, # <--- optional bc otherwise I had <60 jobs...\n",
    "]\n",
    "\n",
    "#simulation parameters\n",
    "set_second_values=np.array([0])\n",
    "reflect_values=np.array([0])\n",
    "no_repulsion_values=np.array([0])#1 means no repulsion is true\n",
    "no_attraction_values=np.array([0])\n",
    "neighbor_values=np.array([0,1])\n",
    "\n",
    "#iterate over settings, scheduling the longest jobs first\n",
    "count=0\n",
    "task_str_lst=[]\n",
    "for L in L_lst:\n",
    "    for set_second in set_second_values:\n",
    "        for reflect in reflect_values:\n",
    "            for no_repulsion in no_repulsion_values:\n",
    "                for no_attraction in no_attraction_values:\n",
    "                    for neighbor in neighbor_values:\n",
    "                        for D in D_values:\n",
    "                            for r in r_values:\n",
    "                                for kappa in kappa_values:\n",
    "                                    for varkappa in alinear_lst:\n",
    "                                        for x0 in x0_values:\n",
    "                                            num_trials=0\n",
    "                                            while num_trials<num_trials_per_setting:\n",
    "                                                num_trials+=1\n",
    "                                                count=count+1\n",
    "                                                task_str=f\"{r:.5f} {D:.5f} {L} {kappa:.5f} {varkappa:.5f} {x0} {Dt} {dt} {Nmax} {niter} {reflect} {set_second} {no_repulsion} {no_attraction} {neighbor} {force_code}\"\n",
    "                                                task_str_lst.append(task_str)\n",
    "np.random.seed(42)\n",
    "np.random.shuffle(task_str_lst)\n",
    "# for task_str in task_str_lst:\n",
    "#     print(task_str)\n",
    "print(count)\n",
    "# 58560\n",
    "# 1227600"
   ]
  },
  {
   "cell_type": "code",
   "execution_count": 4,
   "metadata": {
    "ExecuteTime": {
     "end_time": "2023-04-21T17:18:34.759305Z",
     "start_time": "2023-04-21T17:18:34.753391Z"
    }
   },
   "outputs": [
    {
     "data": {
      "text/plain": [
       "20.96311475409836"
      ]
     },
     "execution_count": 4,
     "metadata": {},
     "output_type": "execute_result"
    }
   ],
   "source": [
    "1227600/58560"
   ]
  },
  {
   "cell_type": "code",
   "execution_count": 5,
   "metadata": {
    "ExecuteTime": {
     "end_time": "2023-04-21T17:19:54.867222Z",
     "start_time": "2023-04-21T17:19:54.859152Z"
    }
   },
   "outputs": [
    {
     "data": {
      "text/plain": [
       "23.356164383561644"
      ]
     },
     "execution_count": 5,
     "metadata": {},
     "output_type": "execute_result"
    }
   ],
   "source": [
    "10*1227600/60/24/365"
   ]
  },
  {
   "cell_type": "markdown",
   "metadata": {},
   "source": [
    "# TODO: dev run #41"
   ]
  },
  {
   "cell_type": "code",
   "execution_count": 10,
   "metadata": {
    "ExecuteTime": {
     "end_time": "2023-06-06T01:16:24.448693Z",
     "start_time": "2023-06-06T01:16:24.445988Z"
    }
   },
   "outputs": [],
   "source": [
    "# DONE: dev next run to search over kappa at steps of size, 0.1 (L=5). \n",
    "#r=0.314;kappa=(60 through 80 in steps of 0.1) #LR D=0.42, alinear=9.3, neighbor=0, L=5\n",
    "# r=0.457;kappa=(5 through 20 in steps of 0.1) #FK D=0.115, alinear=1.552, neighbor=0, L=5"
   ]
  },
  {
   "cell_type": "code",
   "execution_count": 11,
   "metadata": {
    "ExecuteTime": {
     "end_time": "2023-06-06T01:16:24.911510Z",
     "start_time": "2023-06-06T01:16:24.893095Z"
    }
   },
   "outputs": [
    {
     "name": "stdout",
     "output_type": "stream",
     "text": [
      "400\n"
     ]
    }
   ],
   "source": [
    "#run_41.py - dense grid search over kappa with others fixed to observed\n",
    "import numpy as np\n",
    "niter=1500 #trials per worker\n",
    "num_trials_per_setting=1\n",
    "force_code=2 #2 :: QED2, 4 :: QED2 + constant repulsion\n",
    "x0_values=np.array([0])\n",
    "dt=1e-5\n",
    "Dt=1e-5\n",
    "Nmax=150\n",
    "#simulation parameters\n",
    "set_second_values=np.array([0])\n",
    "reflect_values=np.array([0])\n",
    "no_repulsion_values=np.array([0])#1 means no repulsion is true\n",
    "no_attraction_values=np.array([0])\n",
    "# neighbor_values=np.array([0,1])\n",
    "neighbor_values=np.array([0])\n",
    "L_lst=[5]\n",
    "\n",
    "r_values=np.array([0.314])\n",
    "kappa_values=np.arange(60,80,0.1)\n",
    "D_values=np.array([\n",
    "#     0.115, #0.1145, #fk from msr\n",
    "    0.42, #0.4158  #lr from msr\n",
    "])\n",
    "#define linear search over alinear\n",
    "alinear_lst=[\n",
    "#     1.5520, #1.781 - 2*0.115, #0.1145,\n",
    "    9.3,\n",
    "    ###the varkappa sweep####\n",
    "#     0,1,2,3,4,5,\n",
    "#     6,7,8,9, # <--- optional bc otherwise I had <60 jobs...\n",
    "#     10,15,20,25,30,\n",
    "#     40,50,60,70,80,90,100, # <--- optional bc otherwise I had <60 jobs...\n",
    "]\n",
    "#iterate over settings, scheduling the longest jobs first\n",
    "count=0\n",
    "task_str_lst=[]\n",
    "for L in L_lst:\n",
    "    for set_second in set_second_values:\n",
    "        for reflect in reflect_values:\n",
    "            for no_repulsion in no_repulsion_values:\n",
    "                for no_attraction in no_attraction_values:\n",
    "                    for neighbor in neighbor_values:\n",
    "                        for D in D_values:\n",
    "                            for r in r_values:\n",
    "                                for kappa in kappa_values:\n",
    "                                    for varkappa in alinear_lst:\n",
    "                                        for x0 in x0_values:\n",
    "                                            num_trials=0\n",
    "                                            while num_trials<num_trials_per_setting:\n",
    "                                                num_trials+=1\n",
    "                                                count=count+1\n",
    "                                                task_str=f\"{r:.5f} {D:.5f} {L} {kappa:.5f} {varkappa:.5f} {x0} {Dt} {dt} {Nmax} {niter} {reflect} {set_second} {no_repulsion} {no_attraction} {neighbor} {force_code}\"\n",
    "                                                task_str_lst.append(task_str)\n",
    "\n",
    "\n",
    "r_values=np.array([0.457])\n",
    "kappa_values=np.arange(5,25,0.1)\n",
    "D_values=np.array([\n",
    "    0.115, #0.1145, #fk from msr\n",
    "#     0.42, #0.4158  #lr from msr\n",
    "])\n",
    "#define linear search over alinear\n",
    "alinear_lst=[\n",
    "    1.5520, #1.781 - 2*0.115, #0.1145,\n",
    "#     9.3,\n",
    "    ###the varkappa sweep####\n",
    "#     0,1,2,3,4,5,\n",
    "#     6,7,8,9, # <--- optional bc otherwise I had <60 jobs...\n",
    "#     10,15,20,25,30,\n",
    "#     40,50,60,70,80,90,100, # <--- optional bc otherwise I had <60 jobs...\n",
    "]\n",
    "#iterate over settings, scheduling the longest jobs first\n",
    "# count=0\n",
    "# task_str_lst=[]\n",
    "for L in L_lst:\n",
    "    for set_second in set_second_values:\n",
    "        for reflect in reflect_values:\n",
    "            for no_repulsion in no_repulsion_values:\n",
    "                for no_attraction in no_attraction_values:\n",
    "                    for neighbor in neighbor_values:\n",
    "                        for D in D_values:\n",
    "                            for r in r_values:\n",
    "                                for kappa in kappa_values:\n",
    "                                    for varkappa in alinear_lst:\n",
    "                                        for x0 in x0_values:\n",
    "                                            num_trials=0\n",
    "                                            while num_trials<num_trials_per_setting:\n",
    "                                                num_trials+=1\n",
    "                                                count=count+1\n",
    "                                                task_str=f\"{r:.5f} {D:.5f} {L} {kappa:.5f} {varkappa:.5f} {x0} {Dt} {dt} {Nmax} {niter} {reflect} {set_second} {no_repulsion} {no_attraction} {neighbor} {force_code}\"\n",
    "                                                task_str_lst.append(task_str)\n",
    "np.random.seed(42)\n",
    "np.random.shuffle(task_str_lst)\n",
    "# for task_str in task_str_lst:\n",
    "#     print(task_str)\n",
    "print(count)\n",
    "# 400"
   ]
  },
  {
   "cell_type": "code",
   "execution_count": null,
   "metadata": {},
   "outputs": [],
   "source": []
  }
 ],
 "metadata": {
  "hide_input": false,
  "kernelspec": {
   "display_name": "Python 3 (ipykernel)",
   "language": "python",
   "name": "python3"
  },
  "language_info": {
   "codemirror_mode": {
    "name": "ipython",
    "version": 3
   },
   "file_extension": ".py",
   "mimetype": "text/x-python",
   "name": "python",
   "nbconvert_exporter": "python",
   "pygments_lexer": "ipython3",
   "version": "3.9.5"
  },
  "latex_envs": {
   "LaTeX_envs_menu_present": true,
   "autoclose": true,
   "autocomplete": false,
   "bibliofile": "biblio.bib",
   "cite_by": "apalike",
   "current_citInitial": 1,
   "eqLabelWithNumbers": false,
   "eqNumInitial": 1,
   "hotkeys": {
    "equation": "Ctrl-E",
    "itemize": "Ctrl-I"
   },
   "labels_anchors": false,
   "latex_user_defs": false,
   "report_style_numbering": false,
   "user_envs_cfg": false
  },
  "nbTranslate": {
   "displayLangs": [
    "*"
   ],
   "hotkey": "alt-t",
   "langInMainMenu": true,
   "sourceLang": "en",
   "targetLang": "fr",
   "useGoogleTranslate": true
  },
  "toc": {
   "base_numbering": 1,
   "nav_menu": {},
   "number_sections": true,
   "sideBar": true,
   "skip_h1_title": false,
   "title_cell": "Table of Contents",
   "title_sidebar": "Contents",
   "toc_cell": false,
   "toc_position": {},
   "toc_section_display": true,
   "toc_window_display": false
  },
  "varInspector": {
   "cols": {
    "lenName": 16,
    "lenType": 16,
    "lenVar": 40
   },
   "kernels_config": {
    "python": {
     "delete_cmd_postfix": "",
     "delete_cmd_prefix": "del ",
     "library": "var_list.py",
     "varRefreshCmd": "print(var_dic_list())"
    },
    "r": {
     "delete_cmd_postfix": ") ",
     "delete_cmd_prefix": "rm(",
     "library": "var_list.r",
     "varRefreshCmd": "cat(var_dic_list()) "
    }
   },
   "types_to_exclude": [
    "module",
    "function",
    "builtin_function_or_method",
    "instance",
    "_Feature"
   ],
   "window_display": false
  }
 },
 "nbformat": 4,
 "nbformat_minor": 4
}
