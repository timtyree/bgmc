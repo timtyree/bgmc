{
 "cells": [
  {
   "cell_type": "markdown",
   "metadata": {},
   "source": [
    "# dev run design"
   ]
  },
  {
   "cell_type": "code",
   "execution_count": 1,
   "metadata": {
    "ExecuteTime": {
     "end_time": "2021-08-27T18:48:20.776280Z",
     "start_time": "2021-08-27T18:48:09.488616Z"
    }
   },
   "outputs": [],
   "source": [
    "from lib.my_initialization import *"
   ]
  },
  {
   "cell_type": "markdown",
   "metadata": {
    "heading_collapsed": true
   },
   "source": [
    "# archived"
   ]
  },
  {
   "cell_type": "code",
   "execution_count": 2,
   "metadata": {
    "ExecuteTime": {
     "end_time": "2021-05-28T05:02:49.395348Z",
     "start_time": "2021-05-28T05:02:49.346188Z"
    },
    "hidden": true
   },
   "outputs": [
    {
     "name": "stdout",
     "output_type": "stream",
     "text": [
      "2688\n"
     ]
    }
   ],
   "source": [
    "import numpy as np\n",
    "niter=1500 #trials per worker\n",
    "r_values=np.array([0.1,0.2,0.3,0.4])#,0.2,0.3,0.4,0.5,.6,.7,.8,.9,1.,2.])#cm\n",
    "D_values=np.array([2.,20.])#0.2,1.0,1.5,2.0,3.,4.,5.])#cm^2/s\n",
    "# A_values=np.array([25.])#20.25,25,39,50,56.25,100,156.25,189,250])[::-1]#cm^2\n",
    "# L_values=np.sqrt(A_values)#cm\n",
    "L_values=[10]\n",
    "kappa_values=np.array([100,500,1500])#5,10,15,20,25,30,35,40,45,50,55,60,65,70,75,80,85,90,95,100,250,500])#1/s\n",
    "varkappa_values=np.array([-20.,-10.,-5,0,5,10,20])#1/s\n",
    "x0_values=np.array([0.,0.5,1.0,1.5,2.0,3.0,4.0,5.0])#cm\n",
    "Dt_values=np.array([1e-5])#,1e-2])#10**-i for i in range(6)])\n",
    "dt=1e-5\n",
    "Nmax=100\n",
    "num_trials_per_setting=1\n",
    "reflect_values=np.array([0])\n",
    "set_second_values=np.array([0])\n",
    "no_repulsion_values=np.array([1])#1 means no repulsion is true\n",
    "no_attraction_values=np.array([0,1])\n",
    "#iterate over settings, scheduling the longest jobs first\n",
    "count=0\n",
    "for Dt in Dt_values:\n",
    "    for set_second in set_second_values:\n",
    "        for reflect in reflect_values:\n",
    "            for r in r_values:\n",
    "                for D in D_values:\n",
    "                    for L in L_values:\n",
    "                        for kappa in kappa_values:\n",
    "                            for varkappa in varkappa_values:\n",
    "                                for x0 in x0_values:\n",
    "                                    for no_repulsion in no_repulsion_values:\n",
    "                                        for no_attraction in no_attraction_values:\n",
    "                                            num_trials=0\n",
    "                                            while num_trials<num_trials_per_setting:\n",
    "                                                num_trials+=1\n",
    "                                                count=count+1\n",
    "#                                                 print(f\"{r} {D} {L} {kappa} {varkappa} {x0} {Dt} {dt} {Nmax} {niter} {reflect} {set_second} {no_repulsion} {no_attraction}\")\n",
    "print(count)"
   ]
  },
  {
   "cell_type": "code",
   "execution_count": 3,
   "metadata": {
    "ExecuteTime": {
     "end_time": "2021-05-28T05:02:51.039667Z",
     "start_time": "2021-05-28T05:02:51.034271Z"
    },
    "hidden": true
   },
   "outputs": [],
   "source": [
    "# print(f\"{r} {D} {L} {kappa} {beta} {shape} {niter} {reflect} {set_second}\")"
   ]
  },
  {
   "cell_type": "markdown",
   "metadata": {
    "hidden": true
   },
   "source": [
    "The datatype of a spiral tip with its interactions can be represented as the direct product of two/three zero dimensional objects of spin half, that are connected by a one dimensional bosonic string object.  Each object contains some alphabet of attributes, $S_i$."
   ]
  },
  {
   "cell_type": "markdown",
   "metadata": {
    "heading_collapsed": true
   },
   "source": [
    "# simplest genetic algorithm.\n",
    "This is elitist initism without mutation.  This is a list of random linear combinations of what worked last time.<br>\n",
    "for run 11 in c/ou"
   ]
  },
  {
   "cell_type": "code",
   "execution_count": 5,
   "metadata": {
    "ExecuteTime": {
     "end_time": "2021-05-28T05:04:37.999440Z",
     "start_time": "2021-05-28T05:04:37.985766Z"
    },
    "hidden": true
   },
   "outputs": [
    {
     "name": "stdout",
     "output_type": "stream",
     "text": [
      "800\n"
     ]
    }
   ],
   "source": [
    "import numpy as np\n",
    "niter=1500 #trials per worker\n",
    "r_values=np.array([0.1])#,0.2,0.3,0.4,0.5,.6,.7,.8,.9,1.,2.])#cm\n",
    "# D_values=np.array([2.,20.])#0.2,1.0,1.5,2.0,3.,4.,5.])#cm^2/s\n",
    "# A_values=np.array([25.])#20.25,25,39,50,56.25,100,156.25,189,250])[::-1]#cm^2\n",
    "# L_values=np.sqrt(A_values)#cm\n",
    "L_values=[10]\n",
    "kappa_values=np.array([1500])#100,500,1500])#5,10,15,20,25,30,35,40,45,50,55,60,65,70,75,80,85,90,95,100,250,500])#1/s\n",
    "# varkappa_values=np.array([-20.,-10.,-5,0,5,10,20])#1/s\n",
    "# x0_values=np.array([0.,0.5,1.0,1.5,2.0,3.0,4.0,5.0])#cm\n",
    "Dt_values=np.array([1e-5])#,1e-2])#10**-i for i in range(6)])\n",
    "dt=1e-5\n",
    "Nmax=100\n",
    "num_trials_per_setting=4\n",
    "reflect_values=np.array([0])\n",
    "set_second_values=np.array([0])\n",
    "no_repulsion_values=np.array([1])#1 means no repulsion is true\n",
    "no_attraction_values=np.array([1,0])\n",
    "\n",
    "num_trials_born=100 # the total number of daughters\n",
    "# print the breeding_values of the top 5\n",
    "# num_breeders=5\n",
    "# num_breeding_params=3\n",
    "# breeding_cols=['D','varkappa','x0']\n",
    "# num_breeding_params=len(breeding_cols)\n",
    "# # taken from the *.ipynb located here: 'analyzing the effect of strong attractive forces between nearest neighbors.ipynb'\n",
    "# breeder_values=dh[breeding_cols].head(num_breeders).values\n",
    "# breeder_values_LR=breeder_values\n",
    "# print(breeder_values)\n",
    "#the top 5 for the LR model. Epoch 0\n",
    "np.random.seed(1234)\n",
    "breeder_values=np.array(\n",
    "    [[  2.,   -5.,    5. ],\n",
    "     [ 20.,   -5.,    5. ],\n",
    "     [ 20.,  -20.,    1.5],\n",
    "     [ 20.,  -10.,    3. ],\n",
    "     [  2.,  -20.,    1.5]])\n",
    "\n",
    "#breed the given most-fit trials omnisexually.\n",
    "num_breeders, num_breeding_params = breeder_values.shape\n",
    "rand_matrix=np.random.rand(num_trials_born-num_breeders,num_breeders) # each entry is uniformly distributed on the interval from 0 to 1.\n",
    "\n",
    "breeder_trials=np.matmul(rand_matrix,breeder_values)/num_breeders\n",
    "#prepend the breeding_values of the top 5 to breeder_trials\n",
    "trial_values=np.concatenate((breeder_values,breeder_trials),axis=0)\n",
    "\n",
    "#iterate over settings, scheduling the longest jobs first\n",
    "count=0\n",
    "for Dt in Dt_values:\n",
    "    for set_second in set_second_values:\n",
    "        for reflect in reflect_values:\n",
    "            for r in r_values:\n",
    "                # for D in D_values:\n",
    "                for L in L_values:\n",
    "                    for kappa in kappa_values:\n",
    "                        # for varkappa in varkappa_values:\n",
    "                        #     for x0 in x0_values:\n",
    "                        for trial in trial_values:\n",
    "                            D,varkappa,x0=trial\n",
    "                            for no_repulsion in no_repulsion_values:\n",
    "                                for no_attraction in no_attraction_values:\n",
    "                                    num_trials=0\n",
    "                                    while num_trials<num_trials_per_setting:\n",
    "                                        num_trials+=1\n",
    "                                        count=count+1\n",
    "#                                         print(f\"{r} {D} {L} {kappa} {varkappa} {x0} {Dt} {dt} {Nmax} {niter} {reflect} {set_second} {no_repulsion} {no_attraction}\")\n",
    "print(count)\n"
   ]
  },
  {
   "cell_type": "markdown",
   "metadata": {
    "heading_collapsed": true
   },
   "source": [
    "# dev run 12\n",
    "first run in c/attractive"
   ]
  },
  {
   "cell_type": "code",
   "execution_count": 3,
   "metadata": {
    "ExecuteTime": {
     "end_time": "2021-06-03T01:36:58.886837Z",
     "start_time": "2021-06-03T01:36:58.870681Z"
    },
    "hidden": true
   },
   "outputs": [
    {
     "name": "stdout",
     "output_type": "stream",
     "text": [
      "1696\n"
     ]
    }
   ],
   "source": [
    "import numpy as np\n",
    "niter=1500 #trials per worker\n",
    "r_values=np.array([0.1])#,0.2,0.3,0.4,0.5,.6,.7,.8,.9,1.,2.])#cm\n",
    "D_values=np.array([2.,20.])#0.2,1.0,1.5,2.0,3.,4.,5.])#cm^2/s\n",
    "# A_values=np.array([25.])#20.25,25,39,50,56.25,100,156.25,189,250])[::-1]#cm^2\n",
    "# L_values=np.sqrt(A_values)#cm\n",
    "L_values=[10]\n",
    "kappa_values=np.array([500,1500])#5,10,15,20,25,30,35,40,45,50,55,60,65,70,75,80,85,90,95,100,250,500])#1/s\n",
    "varkappa_values=np.array([0.])#-20.,-10.,-5,0,5,10,20])#1/s\n",
    "# varkappa_values=np.array([-20.,-10.,-5,0,5,10,20])#1/s\n",
    "x0_values=np.array([0.])#,1.0,5.0])#cm\n",
    "Dt_values=np.array([1e-5])#,1e-2])#10**-i for i in range(6)])\n",
    "dt=1e-5\n",
    "Nmax=100\n",
    "num_trials_per_setting=4\n",
    "reflect_values=np.array([0])\n",
    "set_second_values=np.array([0,1])\n",
    "no_repulsion_values=np.array([1])#1 means no repulsion is true\n",
    "no_attraction_values=np.array([1])\n",
    "neighbor=0 \n",
    "force_code=0\n",
    "#iterate over settings, scheduling the longest jobs first\n",
    "count=0\n",
    "\n",
    "#DONE:print control trials\n",
    "for Dt in Dt_values:\n",
    "    for set_second in set_second_values:\n",
    "        for reflect in reflect_values:\n",
    "            for r in r_values:\n",
    "                for D in D_values:\n",
    "                    for L in L_values:\n",
    "                        for kappa in kappa_values:\n",
    "                            for varkappa in varkappa_values:\n",
    "                                for x0 in x0_values:\n",
    "                                    for no_repulsion in no_repulsion_values:\n",
    "                                        for no_attraction in no_attraction_values:\n",
    "                                            num_trials=0\n",
    "                                            while num_trials<num_trials_per_setting:\n",
    "                                                num_trials+=1\n",
    "                                                count=count+1\n",
    "#                                                 print(f\"{r} {D} {L} {kappa} {varkappa} {x0} {Dt} {dt} {Nmax} {niter} {reflect} {set_second} {no_repulsion} {no_attraction} {neighbor} {force_code}\")\n",
    "# print(count)\n",
    "\n",
    "# DONE: print spring trials\n",
    "force_code=1\n",
    "no_attraction_values=np.array([0])\n",
    "neighbor_values=np.array([0,1])\n",
    "set_second_values=np.array([0,1])\n",
    "varkappa_values=np.array([-20.,-10.,-5,0])#1/s\n",
    "x0_values=np.array([0.,1.0,5.0])#cm\n",
    "#DONE:print control trials\n",
    "for Dt in Dt_values:\n",
    "    for set_second in set_second_values:\n",
    "        for reflect in reflect_values:\n",
    "            for r in r_values:\n",
    "                for D in D_values:\n",
    "                    for L in L_values:\n",
    "                        for kappa in kappa_values:\n",
    "                            for varkappa in varkappa_values:\n",
    "                                for x0 in x0_values:\n",
    "                                    for no_repulsion in no_repulsion_values:\n",
    "                                        for no_attraction in no_attraction_values:\n",
    "                                            for neighbor in neighbor_values:\n",
    "                                                num_trials=0\n",
    "                                                while num_trials<num_trials_per_setting:\n",
    "                                                    num_trials+=1\n",
    "                                                    count=count+1\n",
    "#                                                     print(f\"{r} {D} {L} {kappa} {varkappa} {x0} {Dt} {dt} {Nmax} {niter} {reflect} {set_second} {no_repulsion} {no_attraction} {neighbor} {force_code}\")\n",
    "# print(count)\n",
    "\n",
    "#DONE: print QED2 and QED3 trials\n",
    "force_code_values=np.array([2,3])\n",
    "no_attraction_values=np.array([0])\n",
    "neighbor_values=np.array([0,1])\n",
    "set_second_values=np.array([0,1])\n",
    "varkappa_values=np.array([0.,0.1,1.,5.,10.,20.,50.])#1/s\n",
    "x0_values=np.array([0.])#,1.0,5.0])#cm #x0 does nothing for QED2,3\n",
    "#DONE:print control trials\n",
    "for Dt in Dt_values:\n",
    "    for set_second in set_second_values:\n",
    "        for reflect in reflect_values:\n",
    "            for r in r_values:\n",
    "                for D in D_values:\n",
    "                    for L in L_values:\n",
    "                        for kappa in kappa_values:\n",
    "                            for varkappa in varkappa_values:\n",
    "                                for x0 in x0_values:\n",
    "                                    for no_repulsion in no_repulsion_values:\n",
    "                                        for no_attraction in no_attraction_values:\n",
    "                                            for neighbor in neighbor_values:\n",
    "                                                for force_code in force_code_values:\n",
    "                                                    num_trials=0\n",
    "                                                    while num_trials<num_trials_per_setting:\n",
    "                                                        num_trials+=1\n",
    "                                                        count=count+1\n",
    "#                                                     print(f\"{r} {D} {L} {kappa} {varkappa} {x0} {Dt} {dt} {Nmax} {niter} {reflect} {set_second} {no_repulsion} {no_attraction} {neighbor} {force_code}\")\n",
    "print(count)"
   ]
  },
  {
   "cell_type": "markdown",
   "metadata": {
    "heading_collapsed": true
   },
   "source": [
    "# dev run 13 - basin of attraction with inverse powerlaw attraction"
   ]
  },
  {
   "cell_type": "code",
   "execution_count": 5,
   "metadata": {
    "ExecuteTime": {
     "end_time": "2021-08-24T17:37:52.952770Z",
     "start_time": "2021-08-24T17:37:52.933961Z"
    },
    "hidden": true,
    "scrolled": false
   },
   "outputs": [
    {
     "name": "stdout",
     "output_type": "stream",
     "text": [
      "3456\n",
      "[ 5127.02841875  8203.24547     9228.65115375 10254.0568375\n",
      " 11279.46252125 12304.868205  ]\n",
      "[1013.583629   1621.73380639 1824.45053219 2027.16725799 2229.88398379\n",
      " 2432.60070959]\n",
      "printing varkappas\n",
      "[ 5.  8.  9. 10. 11. 12.]\n",
      "[ 50.  80.  90. 100. 110. 120.]\n"
     ]
    }
   ],
   "source": [
    "#run_13.py\n",
    "import numpy as np\n",
    "niter=1500 #trials per worker\n",
    "num_trials_per_setting=1\n",
    "\n",
    "#expected values for key parameters\n",
    "#values rounded from full-model-measurements.xlsx\n",
    "nu_dict      ={'fk':-2.1, 'lr':-1.7}\n",
    "beta_dict    ={'fk':4.4,  'lr':3.7 }  #positive varkappa implies an attractive force is present\n",
    "varkappa_dict={'fk':10.,  'lr':100.}  #positive varkappa implies an attractive force is present\n",
    "# b_dict={'fk':  ,  'lr':  } #95% CI was covering zero...\n",
    "\n",
    "def comp_kappa(r,beta,nu):\n",
    "    return np.exp(beta)*r**nu\n",
    "\n",
    "L=5 #cm per domain\n",
    "force_code=4 #QED2 + constant repulsion\n",
    "dt=1e-5\n",
    "Dt=1e-5\n",
    "Nmax=100  #Caution: might not be actually connected to anything...\n",
    "\n",
    "#model parameters\n",
    "D_values=np.array([0.5,1.5,5.,25.])# cm^2/s #5\n",
    "x0_values=np.array([1.5,3.,5.,10.,100.,10000.]) #10\n",
    "r_values=np.array([0.1])#,0.2,0.3,0.4,0.5])# cm #7\n",
    "\n",
    "#factors to multiply functionally computed parameters\n",
    "# f_values=np.array([0.5,0.9,1.,1.1,1.5]) #5\n",
    "f_values=np.array([0.5,0.8,0.9,1.,1.1,1.2]) #7\n",
    "\n",
    "#simulation parameters\n",
    "set_second_values=np.array([0])\n",
    "reflect_values=np.array([0])\n",
    "no_repulsion_values=np.array([0])#1 means no repulsion is true\n",
    "no_attraction_values=np.array([0])\n",
    "neighbor_values=np.array([0,1])\n",
    "\n",
    "#iterate over settings, scheduling the longest jobs first\n",
    "count=0\n",
    "for set_second in set_second_values:\n",
    "    for reflect in reflect_values:\n",
    "        for no_repulsion in no_repulsion_values:\n",
    "            for no_attraction in no_attraction_values:\n",
    "                for neighbor in neighbor_values:\n",
    "                    #compute parameters functionally within the for loop block:\n",
    "                    for mode in ['fk','lr']:\n",
    "                        varkappa_values = varkappa_dict[mode]*f_values\n",
    "                        for r in r_values:\n",
    "                            kappa_values = comp_kappa(r,beta_dict[mode],nu_dict[mode])*f_values\n",
    "                            for kappa in kappa_values:\n",
    "                                for varkappa in varkappa_values:\n",
    "                                    for D in D_values:\n",
    "                                        for x0 in x0_values:\n",
    "                                            num_trials=0\n",
    "                                            while num_trials<num_trials_per_setting:\n",
    "                                                num_trials+=1\n",
    "                                                count=count+1\n",
    "#                                                 print(f\"{r} {D} {L} {kappa:.5f} {varkappa} {x0} {Dt} {dt} {Nmax} {niter} {reflect} {set_second} {no_repulsion} {no_attraction} {neighbor} {force_code}\")\n",
    "print(count)\n",
    "print(comp_kappa(r,beta_dict['fk'],nu_dict['fk'])*f_values)\n",
    "print(comp_kappa(r,beta_dict['lr'],nu_dict['lr'])*f_values)\n",
    "print('printing varkappas')\n",
    "print(varkappa_dict['fk']*f_values)\n",
    "print(varkappa_dict['lr']*f_values)"
   ]
  },
  {
   "cell_type": "markdown",
   "metadata": {},
   "source": [
    "# dev run 15"
   ]
  },
  {
   "cell_type": "code",
   "execution_count": null,
   "metadata": {},
   "outputs": [],
   "source": []
  },
  {
   "cell_type": "code",
   "execution_count": 14,
   "metadata": {
    "ExecuteTime": {
     "end_time": "2021-08-27T18:57:38.277166Z",
     "start_time": "2021-08-27T18:57:38.248813Z"
    }
   },
   "outputs": [
    {
     "name": "stdout",
     "output_type": "stream",
     "text": [
      "9800\n"
     ]
    }
   ],
   "source": [
    "#run_15.py\n",
    "import numpy as np\n",
    "niter=1500 #trials per worker\n",
    "num_trials_per_setting=1\n",
    "\n",
    "L=10 #cm per domain\n",
    "force_code=2 #2 :: QED2, 4 :: QED2 + constant repulsion\n",
    "x0_values=np.array([0])#1.5,3.,5.,10.,100.,10000.]) #10 #doesn't matter for force_code=2\n",
    "\n",
    "dt=1e-5\n",
    "Dt=1e-5\n",
    "Nmax=100  #Caution: might not be actually connected to anything...\n",
    "\n",
    "#model parameters\n",
    "D_values=np.linspace(0.7,2,14)# cm^2/s #14\n",
    "\n",
    "r_values=np.array([0.05,0.1,0.15,0.2,0.3,0.4,0.5])#,0.2,0.3,0.4,0.5])# cm\n",
    "kappa_values = np.array([250,500])#,1000,1500]) #Hz\n",
    "varkappa_values = np.array([0,1,2,3,4,5,6,7,8,9,10,15,20,25,30,35,40,45,50,60,70,80,90,100,110]) #cm^2/s #11\n",
    "\n",
    "#factors to multiply functionally computed parameters\n",
    "# f_values=np.array([0.5,0.9,1.,1.1,1.5]) #5\n",
    "# f_values=np.array([0.5,0.8,0.9,1.,1.1,1.2]) #7\n",
    "\n",
    "#simulation parameters\n",
    "set_second_values=np.array([0])\n",
    "reflect_values=np.array([0,1])\n",
    "no_repulsion_values=np.array([0])#1 means no repulsion is true\n",
    "no_attraction_values=np.array([0])\n",
    "neighbor_values=np.array([0])\n",
    "\n",
    "#iterate over settings, scheduling the longest jobs first\n",
    "count=0\n",
    "for set_second in set_second_values:\n",
    "    for reflect in reflect_values:\n",
    "        for no_repulsion in no_repulsion_values:\n",
    "            for no_attraction in no_attraction_values:\n",
    "                for neighbor in neighbor_values:\n",
    "                    for r in r_values:\n",
    "                        for kappa in kappa_values:\n",
    "                            for varkappa in varkappa_values:\n",
    "                                for D in D_values:\n",
    "                                    for x0 in x0_values:\n",
    "                                        num_trials=0\n",
    "                                        while num_trials<num_trials_per_setting:\n",
    "                                            num_trials+=1\n",
    "                                            count=count+1\n",
    "#                                             print(f\"{r} {D} {L} {kappa:.5f} {varkappa} {x0} {Dt} {dt} {Nmax} {niter} {reflect} {set_second} {no_repulsion} {no_attraction} {neighbor} {force_code}\")\n",
    "print(count)"
   ]
  },
  {
   "cell_type": "code",
   "execution_count": 7,
   "metadata": {
    "ExecuteTime": {
     "end_time": "2021-08-27T18:50:45.176437Z",
     "start_time": "2021-08-27T18:50:45.170808Z"
    }
   },
   "outputs": [
    {
     "data": {
      "text/plain": [
       "(14,)"
      ]
     },
     "execution_count": 7,
     "metadata": {},
     "output_type": "execute_result"
    }
   ],
   "source": []
  },
  {
   "cell_type": "code",
   "execution_count": null,
   "metadata": {},
   "outputs": [],
   "source": []
  }
 ],
 "metadata": {
  "kernelspec": {
   "display_name": "Python 3",
   "language": "python",
   "name": "python3"
  },
  "language_info": {
   "codemirror_mode": {
    "name": "ipython",
    "version": 3
   },
   "file_extension": ".py",
   "mimetype": "text/x-python",
   "name": "python",
   "nbconvert_exporter": "python",
   "pygments_lexer": "ipython3",
   "version": "3.8.7"
  },
  "toc": {
   "base_numbering": 1,
   "nav_menu": {},
   "number_sections": true,
   "sideBar": true,
   "skip_h1_title": false,
   "title_cell": "Table of Contents",
   "title_sidebar": "Contents",
   "toc_cell": false,
   "toc_position": {},
   "toc_section_display": true,
   "toc_window_display": false
  },
  "varInspector": {
   "cols": {
    "lenName": 16,
    "lenType": 16,
    "lenVar": 40
   },
   "kernels_config": {
    "python": {
     "delete_cmd_postfix": "",
     "delete_cmd_prefix": "del ",
     "library": "var_list.py",
     "varRefreshCmd": "print(var_dic_list())"
    },
    "r": {
     "delete_cmd_postfix": ") ",
     "delete_cmd_prefix": "rm(",
     "library": "var_list.r",
     "varRefreshCmd": "cat(var_dic_list()) "
    }
   },
   "types_to_exclude": [
    "module",
    "function",
    "builtin_function_or_method",
    "instance",
    "_Feature"
   ],
   "window_display": false
  }
 },
 "nbformat": 4,
 "nbformat_minor": 4
}
