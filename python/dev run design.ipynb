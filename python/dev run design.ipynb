{
 "cells": [
  {
   "cell_type": "markdown",
   "metadata": {},
   "source": [
    "# dev run design"
   ]
  },
  {
   "cell_type": "code",
   "execution_count": 1,
   "metadata": {
    "ExecuteTime": {
     "end_time": "2021-05-11T21:34:32.162917Z",
     "start_time": "2021-05-11T21:34:31.582180Z"
    }
   },
   "outputs": [],
   "source": [
    "from lib.my_initialization import *"
   ]
  },
  {
   "cell_type": "code",
   "execution_count": 26,
   "metadata": {
    "ExecuteTime": {
     "end_time": "2021-05-11T22:49:55.892694Z",
     "start_time": "2021-05-11T22:49:55.882324Z"
    }
   },
   "outputs": [
    {
     "name": "stdout",
     "output_type": "stream",
     "text": [
      "job count is 2304\n"
     ]
    }
   ],
   "source": [
    "#mle fit to lr model: source: /home/timothytyree/Documents/GitHub/care/notebooks/Data/initial-conditions-lr-600x600/param_qu_tmax_30/Log/ic600x600.0.1_traj_sr_1200_mem_0.csv \n",
    "shape=-0.3373994872096594; \n",
    "location=0.18616306715070396; #//cm \n",
    "scale=0.1385657625455955; #//cm\n",
    "\n",
    "niter=250 #trials per worker\n",
    "r_values=np.array([location])#0.1,0.2,0.3,0.4,0.5,1.0])#cm\n",
    "D_values=np.array([0.25,0.5,0.75,1.0,1.25,1.5,1.75,2.0])#cm^2/s\n",
    "# A_values=np.array([20.25,25,39,50,56.25,100,156.25,189])[::-1]#cm^2\n",
    "A_values=np.array([25,50,100,189])[::-1]#cm^2\n",
    "L_values=np.sqrt(A_values)#cm\n",
    "kappa_values=np.array([500.])#1/s'\n",
    "shape_values=np.array([shape,0.,-shape])#-.5,shape,0.,-shape])\n",
    "\n",
    "beta_values=np.array([0.01,0.1,scale,1.])#cm\n",
    "num_trials_per_setting=6\n",
    "reflect_values=np.array([0])\n",
    "set_second_values=np.array([0])\n",
    "#iterate over settings, scheduling the longest jobs first\n",
    "count=0\n",
    "for set_second in set_second_values:\n",
    "    for r in r_values:\n",
    "        for D in D_values:\n",
    "            for L in L_values:\n",
    "                for kappa in kappa_values:\n",
    "                    for beta in beta_values:\n",
    "                        for reflect in reflect_values:\n",
    "                            for shape in shape_values:\n",
    "                                num_trials=0\n",
    "                                while num_trials<num_trials_per_setting:\n",
    "                                    num_trials+=1\n",
    "                                    count=count+1\n",
    "#                                     print(f\"{r} {D} {L} {kappa} {beta} {shape} {niter} {reflect} {set_second}\")\n",
    "print(f\"job count is {count}\")"
   ]
  },
  {
   "cell_type": "code",
   "execution_count": 24,
   "metadata": {
    "ExecuteTime": {
     "end_time": "2021-05-11T22:48:21.541308Z",
     "start_time": "2021-05-11T22:48:21.538312Z"
    }
   },
   "outputs": [
    {
     "name": "stdout",
     "output_type": "stream",
     "text": [
      "0.18616306715070396 2.0 5.0 500.0 1.0 -0.3373994872096594 250 0 0\n"
     ]
    }
   ],
   "source": [
    "print(f\"{r} {D} {L} {kappa} {beta} {shape} {niter} {reflect} {set_second}\")"
   ]
  },
  {
   "cell_type": "code",
   "execution_count": null,
   "metadata": {},
   "outputs": [],
   "source": []
  }
 ],
 "metadata": {
  "kernelspec": {
   "display_name": "Python 3",
   "language": "python",
   "name": "python3"
  },
  "language_info": {
   "codemirror_mode": {
    "name": "ipython",
    "version": 3
   },
   "file_extension": ".py",
   "mimetype": "text/x-python",
   "name": "python",
   "nbconvert_exporter": "python",
   "pygments_lexer": "ipython3",
   "version": "3.7.6"
  },
  "toc": {
   "base_numbering": 1,
   "nav_menu": {},
   "number_sections": true,
   "sideBar": true,
   "skip_h1_title": false,
   "title_cell": "Table of Contents",
   "title_sidebar": "Contents",
   "toc_cell": false,
   "toc_position": {},
   "toc_section_display": true,
   "toc_window_display": false
  },
  "varInspector": {
   "cols": {
    "lenName": 16,
    "lenType": 16,
    "lenVar": 40
   },
   "kernels_config": {
    "python": {
     "delete_cmd_postfix": "",
     "delete_cmd_prefix": "del ",
     "library": "var_list.py",
     "varRefreshCmd": "print(var_dic_list())"
    },
    "r": {
     "delete_cmd_postfix": ") ",
     "delete_cmd_prefix": "rm(",
     "library": "var_list.r",
     "varRefreshCmd": "cat(var_dic_list()) "
    }
   },
   "types_to_exclude": [
    "module",
    "function",
    "builtin_function_or_method",
    "instance",
    "_Feature"
   ],
   "window_display": false
  }
 },
 "nbformat": 4,
 "nbformat_minor": 4
}
