{
 "cells": [
  {
   "cell_type": "markdown",
   "id": "ea6a312c",
   "metadata": {},
   "source": [
    "# Analysis of annihilation rates with amax fixed\n",
    "Tim Tyree<br>\n",
    "9.13.2022"
   ]
  },
  {
   "cell_type": "code",
   "execution_count": 1,
   "id": "569b7eb8",
   "metadata": {
    "ExecuteTime": {
     "end_time": "2022-09-14T02:19:39.366202Z",
     "start_time": "2022-09-14T02:19:37.316999Z"
    }
   },
   "outputs": [
    {
     "name": "stdout",
     "output_type": "stream",
     "text": [
      "The autoreload extension is already loaded. To reload it, use:\n",
      "  %reload_ext autoreload\n"
     ]
    }
   ],
   "source": [
    "from lib.my_initialization import *\n",
    "from lib import *\n",
    "#from lib.lib_care.measure.level_sets import comp_longest_level_set_and_smooth\n",
    "%load_ext autoreload\n",
    "%autoreload 2\n",
    "\n",
    "import random,scipy\n",
    "from scipy.interpolate import LinearNDInterpolator\n",
    "from scipy.interpolate import CloughTocher2DInterpolator\n",
    "from scipy.optimize import minimize\n",
    "#load libraries for color bar\n",
    "import matplotlib as mpl #for colorbar\n",
    "from matplotlib.cm import ScalarMappable\n",
    "import matplotlib.colors as colors\n",
    "import matplotlib.cbook as cbook\n",
    "from matplotlib import cm\n",
    "#def plotter_3dpoint_cloud_sample(az,...):\n",
    "from scipy import stats\n",
    "#DONE: hook this routine up to dask\n",
    "#DONT: hook this routine up to dask_cuda\n",
    "# import scanpy as sc\n",
    "darkmode=False\n",
    "if darkmode:\n",
    "    # For darkmode plots\n",
    "    from jupyterthemes import jtplot\n",
    "    jtplot.style(theme='monokai', context='notebook', ticks=True, grid=False)\n",
    "#     theme=cuxfilter.themes.dark\n",
    "#     #     theme=cuxfilter.themes.rapids\n",
    "else:\n",
    "    sns.set_style('white')\n",
    "#     theme=cuxfilter.themes.light\n",
    "import warnings\n",
    "warnings.simplefilter(\"ignore\", UserWarning)\n",
    "%load_ext autoreload\n",
    "%autoreload 2\n",
    "# import cupy as cp\n",
    "np.random.seed(42)\n",
    "# cp.random.seed(42)"
   ]
  },
  {
   "cell_type": "code",
   "execution_count": 4,
   "id": "0d45f067",
   "metadata": {
    "ExecuteTime": {
     "end_time": "2022-09-14T02:20:01.764235Z",
     "start_time": "2022-09-14T02:20:01.672832Z"
    }
   },
   "outputs": [],
   "source": [
    "from lib.lib_care.routines.interp_texture_from_scatter_data import interp_txt_from_scatter"
   ]
  },
  {
   "cell_type": "code",
   "execution_count": 18,
   "id": "8c79ef1f",
   "metadata": {
    "ExecuteTime": {
     "end_time": "2022-09-14T02:58:02.998292Z",
     "start_time": "2022-09-14T02:58:02.972784Z"
    }
   },
   "outputs": [],
   "source": [
    "#reset matplotlib settings\n",
    "from mpltools import annotation\n",
    "import matplotlib as mpl\n",
    "sns.reset_orig()\n",
    "mpl.rc_file_defaults()"
   ]
  },
  {
   "cell_type": "markdown",
   "id": "44db62e7",
   "metadata": {},
   "source": [
    "# define module"
   ]
  },
  {
   "cell_type": "code",
   "execution_count": null,
   "id": "d3f9fc4e",
   "metadata": {},
   "outputs": [],
   "source": []
  },
  {
   "cell_type": "markdown",
   "id": "268085e7",
   "metadata": {},
   "source": [
    "# build minimum dataset from best fits cached for either of the full models at either of the length scales"
   ]
  },
  {
   "cell_type": "code",
   "execution_count": 354,
   "id": "1c92c2b0",
   "metadata": {
    "ExecuteTime": {
     "end_time": "2022-09-14T05:46:34.139062Z",
     "start_time": "2022-09-14T05:46:34.099498Z"
    }
   },
   "outputs": [],
   "source": [
    "\n",
    "latest_run_num=26\n",
    "run_num_lst = list(reversed(list(np.arange(14,latest_run_num+1))))\n",
    "# run_num_lst=[25,17]\n",
    "# run_num_lst=[25,19]\n",
    "run_num_lst=[25,18]\n",
    "# run_num_lst=[25,24]\n",
    "# run_num_lst = list(np.arange(12,26))\n",
    "# run_num_lst = list(np.arange(26,14))\n"
   ]
  },
  {
   "cell_type": "code",
   "execution_count": 377,
   "id": "c5cf1922",
   "metadata": {
    "ExecuteTime": {
     "end_time": "2022-09-14T05:50:45.782056Z",
     "start_time": "2022-09-14T05:50:43.417669Z"
    }
   },
   "outputs": [
    {
     "name": "stdout",
     "output_type": "stream",
     "text": [
      "\n",
      "**************************************\n",
      "* Fenton-Karma Model (best settings):\n",
      "**************************************\n",
      "amax=1.7810, rmse_min=0.0911, log_likelihood=7.0307, count=4410\n",
      "\n",
      "best fit for Fenton-Karma: RMSE: 0.1402 Hz/cm^2, amax: 1.7810 cm^2/s, L: 5.0 cm\n",
      "input_fn_fk='/home/timothytyree/Documents/GitHub/bgmc/python/data/osg_output/run_25_all/job.out.22996017.672'\n",
      "\n",
      "**************************************\n",
      "* Luo-Rudy Model (best settings):\n",
      "**************************************\n",
      "amax=10.1490, rmse_min=0.1695, log_likelihood=10.1045, count=4410\n",
      "\n",
      "best fit for Luo-Rudy: RMSE: 0.1942 Hz/cm^2, amax: 1.7810 cm^2/s, L: 5.0 cm\n",
      "input_fn_lr='/home/timothytyree/Documents/GitHub/bgmc/python/data/osg_output/run_25_all/job.out.22996017.3351'\n",
      "\n",
      "parameter range supported in run #25:\n",
      "number of trials: 17640\n",
      "        r  kappa      D  varkappa    amax    L  neighbor\n",
      "min  0.01  100.0  0.090     1.553   1.733  5.0       1.0\n",
      "max  0.49  990.0  0.114     9.969  10.197  5.0       1.0\n",
      "\n",
      "**************************************\n",
      "* Fenton-Karma Model (best settings):\n",
      "**************************************\n",
      "amax=1.7930, rmse_min=0.1689, log_likelihood=78.8730, count=2\n",
      "\n",
      "best fit for Fenton-Karma: RMSE: 0.1759 Hz/cm^2, amax: 1.7930 cm^2/s, L: 10.0 cm\n",
      "input_fn_fk='/home/timothytyree/Documents/GitHub/bgmc/python/data/osg_output/run_18_all/job.out.16106771.1096'\n",
      "\n",
      "**************************************\n",
      "* Luo-Rudy Model (best settings):\n",
      "**************************************\n",
      "amax=10.1480, rmse_min=0.0852, log_likelihood=74.1403, count=6\n",
      "\n",
      "best fit for Luo-Rudy: RMSE: 0.1285 Hz/cm^2, amax: 1.7930 cm^2/s, L: 10.0 cm\n",
      "input_fn_lr='/home/timothytyree/Documents/GitHub/bgmc/python/data/osg_output/run_18_all/job.out.16106771.5486'\n",
      "\n",
      "parameter range supported in run #18:\n",
      "number of trials: 17560\n",
      "           r   kappa        D  varkappa    amax     L  neighbor\n",
      "min  0.06065   100.0  0.01007   1.60188   1.695  10.0       0.0\n",
      "max  0.30876  1000.0  0.80000  28.10930  28.130  10.0       0.0\n"
     ]
    }
   ],
   "source": [
    "remove_no_diffusion=True\n",
    "# Dinf=0\n",
    "Dinf=0.01\n",
    "num_digits_round_amax=3\n",
    "# run_num=25 #L=5 cm\n",
    "# run_num=18 #L=10 cm\n",
    "gmin_fk_lst=[]\n",
    "gmin_lr_lst=[]\n",
    "log_dir_fk_lst=[]\n",
    "log_dir_lr_lst=[]\n",
    "dict_results_fk_lst=[]\n",
    "dict_results_lr_lst=[]\n",
    "# for run_num in [25,18]: #chosen exemplar pair\n",
    "for run_num in run_num_lst:\n",
    "    parquet_dir_defects_fk=f'/home/timothytyree/Documents/GitHub/bgmc/python/data/osg_output/run_{run_num}_defects_to_fk.parquet'\n",
    "    parquet_dir_defects_lr=f'/home/timothytyree/Documents/GitHub/bgmc/python/data/osg_output/run_{run_num}_defects_to_lr.parquet'\n",
    "    input_folder=f'/home/timothytyree/Documents/GitHub/bgmc/python/data/osg_output/run_{run_num}_all'\n",
    "    #load data\n",
    "    df_defects_fk=pd.read_parquet(parquet_dir_defects_fk)\n",
    "    df_defects_lr=pd.read_parquet(parquet_dir_defects_lr)\n",
    "    #compute order parameter for each member a=amax-2*D\n",
    "    #add columns for amax\n",
    "    df_defects_fk['amax'] = np.around(df_defects_fk['varkappa'] + 2.*df_defects_fk['D'],num_digits_round_amax)\n",
    "    df_defects_lr['amax'] = np.around(df_defects_lr['varkappa'] + 2.*df_defects_lr['D'],num_digits_round_amax)\n",
    "    \n",
    "    if remove_no_diffusion:\n",
    "        df_defects_fk = df_defects_fk[df_defects_fk['D']>Dinf].copy()\n",
    "        df_defects_lr = df_defects_lr[df_defects_lr['D']>Dinf].copy()\n",
    "    \n",
    "    #identify the lowest error simulation for each amax value\n",
    "    print(f\"\\n**************************************\")\n",
    "    print(f\"* Fenton-Karma Model (best settings):\")\n",
    "    print(f\"**************************************\")\n",
    "    minrmse=9999.\n",
    "    supamax=1.8\n",
    "    #supamax=40.\n",
    "    for amax,g in df_defects_fk.groupby(by='amax'):\n",
    "        rmse_min = g['rmse'].min()\n",
    "        count = g['rmse'].count()\n",
    "        log_likelihood = g['log_likelihood'].max()\n",
    "        if (rmse_min<=minrmse)&(amax<=supamax):\n",
    "            minrmse=rmse_min\n",
    "            gmin_fk=g.copy()\n",
    "            print_str =f\"{amax=:.4f}, {rmse_min=:.4f}, {log_likelihood=:.4f}, {count=}\"\n",
    "    print(print_str)\n",
    "    gmin_fk.sort_values(by='D',inplace=True)\n",
    "    \n",
    "\n",
    "    #find best simulation for the full model at this avalue\n",
    "#     dg_fk=gmin_fk[gmin_fk['rmse'] == gmin_fk['rmse'].min()].copy()\n",
    "    dg_fk=gmin_fk[gmin_fk['log_likelihood'] == gmin_fk['log_likelihood'].max()].copy()\n",
    "    dg_fk['run']=run_num\n",
    "    dg_fk['model']='Fenton-Karma'\n",
    "    cluster_index,job_index = dg_fk[['cluster_index','job_index']].values.T\n",
    "    input_fn = os.path.join(input_folder,f\"job.out.{int(cluster_index)}.{int(job_index)}\")\n",
    "    #assert os.path.exists(input_fn)\n",
    "    if os.path.exists(input_fn):\n",
    "        input_fn_fk=input_fn\n",
    "        df_fit_fk,dict_linear_fit_fk = routine_measure_annihilation_defect(input_fn,printing=True)#,**kwargs)\n",
    "        amax_fk=dg_fk['amax'].median()\n",
    "        rmse_fk=dg_fk['rmse'].median()\n",
    "        L = dg_fk['L'].median()\n",
    "        print(f\"\\nbest fit for Fenton-Karma: RMSE: {rmse_fk:.4f} Hz/cm^2, amax: {amax_fk:.4f} cm^2/s, L: {L} cm\")\n",
    "        print(f\"{input_fn_fk=}\")\n",
    "        #record\n",
    "        dict_results_fk=dict(\n",
    "            model_name='Fenton-Karma',\n",
    "            amax=amax_fk,\n",
    "            rmse=rmse_fk,\n",
    "            L=L,\n",
    "            df_fit=df_fit_fk,\n",
    "            dg_fit=dg_fk,\n",
    "            dict_linear_fit=dict_linear_fit_fk,\n",
    "            filename=input_fn_fk,\n",
    "            gmin=gmin_fk)\n",
    "        dict_results_fk_lst.append(dict_results_fk)\n",
    "        gmin_fk_lst.append(gmin_fk)\n",
    "        log_dir_fk_lst.append(input_fn)\n",
    "    \n",
    "    #identify the lowest error simulation for each amax value\n",
    "    print(f\"\\n**************************************\")\n",
    "    print(f\"* Luo-Rudy Model (best settings):\")\n",
    "    print(f\"**************************************\")\n",
    "    minrmse=9999.\n",
    "    supamax=10.2\n",
    "    for amax,g in df_defects_lr.groupby(by='amax'):\n",
    "        rmse_min = g['rmse'].min()\n",
    "        count = g['rmse'].count()\n",
    "        log_likelihood = g['log_likelihood'].max()\n",
    "        if (rmse_min<=minrmse)&(amax<=supamax):\n",
    "            minrmse=rmse_min\n",
    "            gmin_lr=g.copy()\n",
    "            print_str =f\"{amax=:.4f}, {rmse_min=:.4f}, {log_likelihood=:.4f}, {count=}\"\n",
    "    print(print_str)        \n",
    "    gmin_lr.sort_values(by='D',inplace=True)\n",
    "    \n",
    "    #find best simulation for the full model at this avalue\n",
    "#     dg_lr=gmin_lr[gmin_lr['rmse'] == gmin_lr['rmse'].min()].copy()\n",
    "    dg_lr=gmin_lr[gmin_lr['log_likelihood'] == gmin_lr['log_likelihood'].max()].copy()\n",
    "    dg_lr['run']=run_num\n",
    "    dg_lr['model']='Luo-Rudy'\n",
    "    cluster_index,job_index = dg_lr[['cluster_index','job_index']].values.T\n",
    "    input_fn = os.path.join(input_folder,f\"job.out.{int(cluster_index)}.{int(job_index)}\")\n",
    "    #assert os.path.exists(input_fn)\n",
    "    if os.path.exists(input_fn):\n",
    "        input_fn_lr=input_fn\n",
    "        df_fit_lr,dict_linear_fit_lr = routine_measure_annihilation_defect(input_fn,printing=True)#,**kwargs)\n",
    "        amax_lr=dg_fk['amax'].median()\n",
    "        rmse_lr=dg_lr['rmse'].median()\n",
    "        L = dg_lr['L'].median()\n",
    "        print(f\"\\nbest fit for Luo-Rudy: RMSE: {rmse_lr:.4f} Hz/cm^2, amax: {amax_lr:.4f} cm^2/s, L: {L} cm\")\n",
    "        print(f\"{input_fn_lr=}\")\n",
    "        #record\n",
    "        dict_results_lr=dict(\n",
    "            model_name='Luo-Rudy',\n",
    "            amax=amax_lr,\n",
    "            rmse=rmse_lr,\n",
    "            L=L,\n",
    "            df_fit=df_fit_lr,\n",
    "            dg_fit=dg_lr,\n",
    "            dict_linear_fit=dict_linear_fit_lr,\n",
    "            filename=input_fn_lr,\n",
    "            gmin=gmin_lr)\n",
    "        dict_results_lr_lst.append(dict_results_lr)\n",
    "        gmin_lr_lst.append(gmin_lr)\n",
    "        log_dir_lr_lst.append(input_fn)\n",
    "\n",
    "    print(f\"\\nparameter range supported in run #{run_num}:\")\n",
    "    print(f\"number of trials: {df_defects_lr.shape[0]}\")\n",
    "    print(df_defects_lr.describe()[['r','kappa','D','varkappa','amax','L','neighbor']].T[['min','max']].T)\n",
    "\n",
    "\n"
   ]
  },
  {
   "cell_type": "code",
   "execution_count": 378,
   "id": "de0715d6",
   "metadata": {
    "ExecuteTime": {
     "end_time": "2022-09-14T05:50:45.804945Z",
     "start_time": "2022-09-14T05:50:45.784232Z"
    }
   },
   "outputs": [],
   "source": [
    "# len(dict_results_fk_lst)\n",
    "# !pwd"
   ]
  },
  {
   "cell_type": "markdown",
   "id": "8025d457",
   "metadata": {},
   "source": [
    "# Plot mean annihilation rates"
   ]
  },
  {
   "cell_type": "code",
   "execution_count": 379,
   "id": "c14a27fd",
   "metadata": {
    "ExecuteTime": {
     "end_time": "2022-09-14T05:50:45.835056Z",
     "start_time": "2022-09-14T05:50:45.806543Z"
    }
   },
   "outputs": [],
   "source": [
    "dict_wjr = recall_death_rates_vidmar_rappel()\n",
    "fk=dict_wjr['fk']\n",
    "lr=dict_wjr['lr']"
   ]
  },
  {
   "cell_type": "code",
   "execution_count": 380,
   "id": "5fb39d35",
   "metadata": {
    "ExecuteTime": {
     "end_time": "2022-09-14T05:50:46.378004Z",
     "start_time": "2022-09-14T05:50:45.837904Z"
    }
   },
   "outputs": [
    {
     "data": {
      "image/png": "[encoded data removed]",
      "text/plain": [
       "<Figure size 600x400 with 1 Axes>"
      ]
     },
     "metadata": {},
     "output_type": "display_data"
    }
   ],
   "source": [
    "figsize = (6, 4)  #(5,4)\n",
    "fontsize=18\n",
    "fig, ax = plt.subplots(figsize=figsize)\n",
    "ax = plot_death_rates_loglog_full(fk,lr,ax=ax,fontsize=fontsize,x1lim=[0.008, 11], x2lim=[0.01, 250])\n",
    "\n",
    "# Linear Particle (L=5)\n",
    "df_fit_fk = dict_results_fk_lst[0]['df_fit']\n",
    "dg_fit_fk = dict_results_fk_lst[0]['dg_fit']\n",
    "df_fit_lr = dict_results_lr_lst[0]['df_fit']\n",
    "dg_fit_lr = dict_results_lr_lst[0]['dg_fit']\n",
    "df_fit_fk.plot(x='q',y='w',alpha=0.7,ax=ax,color='k',label=f'Linear Particle (L=5)')#,label='_Best Fit to FK')\n",
    "df_fit_lr.plot(x='q',y='w',alpha=0.7,ax=ax,color='k',label='_Best Fit to LR')\n",
    "\n",
    "# Linear Particle (L=10)\n",
    "df_fit_fk = dict_results_fk_lst[1]['df_fit']\n",
    "dg_fit_fk = dict_results_fk_lst[1]['dg_fit']\n",
    "df_fit_lr = dict_results_lr_lst[1]['df_fit']\n",
    "dg_fit_lr = dict_results_lr_lst[1]['dg_fit']\n",
    "# df_fit_fk.plot(x='q',y='w',alpha=0.7,ax=ax,color='r',label=f'Linear Particle (L=10)')#,label='_Best Fit to FK')\n",
    "df_fit_fk.plot(x='q',y='w',alpha=0.7,ax=ax,color='r',label=f'Linear Particle (L=10)')#,label='_Best Fit to FK')\n",
    "df_fit_lr.plot(x='q',y='w',alpha=0.7,ax=ax,color='r',label='_Best Fit to LR')\n",
    "\n",
    "# ax = plot_death_rates_loglog_full(fk,lr,ax=ax,fontsize=fontsize,x1lim=[0.008, 11], x2lim=[0.01, 250])\n",
    "\n",
    "\n",
    "# ax.legend(loc='upper left',fontsize=fontsize-2)\n",
    "# ax.legend(loc='lower right',fontsize=fontsize-2.,frameon=False)\n",
    "leg = ax.legend(loc=(1.04,0.2),fontsize=fontsize-2.,frameon=False)\n",
    "\n",
    "for lh in leg.legendHandles: \n",
    "    lh.set_alpha(1)\n",
    "# ax.get_legend().remove()\n",
    "#add annotation\n",
    "# xytext=(0.09, 10)\n",
    "xy=(0.3, 11)\n",
    "# xytext=(0.01, 90)\n",
    "# ax.annotate(r\"best fit ($a>0$)\", xy=xy, xytext=xytext,fontsize=fontsize)\n",
    "xytext=(0.01, 40)\n",
    "ax.annotate(r\"$a_{max}$ fixed to observation\"+f\"\\nfrom MSR of full\", xy=xy, xytext=xytext,fontsize=fontsize-2)\n",
    "# #add marker showing the slope of ~2\n",
    "# annotation.slope_marker(origin=(.75, 2.0),\n",
    "#                         slope=2,\n",
    "#                         text_kwargs={'color': 'black','fontsize':16, 'alpha':0.7},\n",
    "#                         poly_kwargs={'facecolor': (0.5, 0.5, 0.5), 'alpha':0.5},\n",
    "#                         ax=ax)\n",
    "plt.show()"
   ]
  },
  {
   "cell_type": "code",
   "execution_count": 381,
   "id": "c566b819",
   "metadata": {
    "ExecuteTime": {
     "end_time": "2022-09-14T05:50:46.419584Z",
     "start_time": "2022-09-14T05:50:46.380440Z"
    }
   },
   "outputs": [
    {
     "data": {
      "text/html": [
       "<div>\n",
       "<style scoped>\n",
       "    .dataframe tbody tr th:only-of-type {\n",
       "        vertical-align: middle;\n",
       "    }\n",
       "\n",
       "    .dataframe tbody tr th {\n",
       "        vertical-align: top;\n",
       "    }\n",
       "\n",
       "    .dataframe thead th {\n",
       "        text-align: right;\n",
       "    }\n",
       "</style>\n",
       "<table border=\"1\" class=\"dataframe\">\n",
       "  <thead>\n",
       "    <tr style=\"text-align: right;\">\n",
       "      <th></th>\n",
       "      <th>model</th>\n",
       "      <th>amax</th>\n",
       "      <th>L</th>\n",
       "      <th>varkappa</th>\n",
       "      <th>D</th>\n",
       "      <th>r</th>\n",
       "      <th>kappa</th>\n",
       "      <th>rmse</th>\n",
       "      <th>log_likelihood</th>\n",
       "      <th>neighbor</th>\n",
       "      <th>q_lo</th>\n",
       "      <th>q_hi</th>\n",
       "      <th>CollTime_lo</th>\n",
       "      <th>CollTime_hi</th>\n",
       "      <th>N_lo</th>\n",
       "      <th>N_hi</th>\n",
       "      <th>run</th>\n",
       "      <th>cluster_index</th>\n",
       "      <th>job_index</th>\n",
       "    </tr>\n",
       "  </thead>\n",
       "  <tbody>\n",
       "    <tr>\n",
       "      <th>1979</th>\n",
       "      <td>Fenton-Karma</td>\n",
       "      <td>1.781</td>\n",
       "      <td>5.0</td>\n",
       "      <td>1.55300</td>\n",
       "      <td>0.11400</td>\n",
       "      <td>0.02000</td>\n",
       "      <td>880.000</td>\n",
       "      <td>0.140241</td>\n",
       "      <td>7.030700</td>\n",
       "      <td>1.0</td>\n",
       "      <td>0.24</td>\n",
       "      <td>4.0</td>\n",
       "      <td>0.000927</td>\n",
       "      <td>0.178568</td>\n",
       "      <td>6.0</td>\n",
       "      <td>100.0</td>\n",
       "      <td>25</td>\n",
       "      <td>22996017</td>\n",
       "      <td>672</td>\n",
       "    </tr>\n",
       "    <tr>\n",
       "      <th>13680</th>\n",
       "      <td>Fenton-Karma</td>\n",
       "      <td>1.793</td>\n",
       "      <td>10.0</td>\n",
       "      <td>1.64822</td>\n",
       "      <td>0.07252</td>\n",
       "      <td>0.10393</td>\n",
       "      <td>263.738</td>\n",
       "      <td>0.175862</td>\n",
       "      <td>78.872984</td>\n",
       "      <td>0.0</td>\n",
       "      <td>0.10</td>\n",
       "      <td>1.0</td>\n",
       "      <td>0.001754</td>\n",
       "      <td>0.166719</td>\n",
       "      <td>10.0</td>\n",
       "      <td>100.0</td>\n",
       "      <td>18</td>\n",
       "      <td>16106771</td>\n",
       "      <td>1096</td>\n",
       "    </tr>\n",
       "    <tr>\n",
       "      <th>10855</th>\n",
       "      <td>Luo-Rudy</td>\n",
       "      <td>10.148</td>\n",
       "      <td>10.0</td>\n",
       "      <td>9.22091</td>\n",
       "      <td>0.46368</td>\n",
       "      <td>0.15693</td>\n",
       "      <td>290.921</td>\n",
       "      <td>0.128481</td>\n",
       "      <td>74.140323</td>\n",
       "      <td>0.0</td>\n",
       "      <td>0.10</td>\n",
       "      <td>1.0</td>\n",
       "      <td>0.000618</td>\n",
       "      <td>0.034681</td>\n",
       "      <td>10.0</td>\n",
       "      <td>100.0</td>\n",
       "      <td>18</td>\n",
       "      <td>16106771</td>\n",
       "      <td>5486</td>\n",
       "    </tr>\n",
       "    <tr>\n",
       "      <th>9491</th>\n",
       "      <td>Luo-Rudy</td>\n",
       "      <td>10.149</td>\n",
       "      <td>5.0</td>\n",
       "      <td>9.96900</td>\n",
       "      <td>0.09000</td>\n",
       "      <td>0.10000</td>\n",
       "      <td>370.000</td>\n",
       "      <td>0.194177</td>\n",
       "      <td>10.104532</td>\n",
       "      <td>1.0</td>\n",
       "      <td>0.24</td>\n",
       "      <td>4.0</td>\n",
       "      <td>0.000313</td>\n",
       "      <td>0.032113</td>\n",
       "      <td>6.0</td>\n",
       "      <td>100.0</td>\n",
       "      <td>25</td>\n",
       "      <td>22996017</td>\n",
       "      <td>3351</td>\n",
       "    </tr>\n",
       "  </tbody>\n",
       "</table>\n",
       "</div>"
      ],
      "text/plain": [
       "              model    amax     L  varkappa        D        r    kappa  \\\n",
       "1979   Fenton-Karma   1.781   5.0   1.55300  0.11400  0.02000  880.000   \n",
       "13680  Fenton-Karma   1.793  10.0   1.64822  0.07252  0.10393  263.738   \n",
       "10855      Luo-Rudy  10.148  10.0   9.22091  0.46368  0.15693  290.921   \n",
       "9491       Luo-Rudy  10.149   5.0   9.96900  0.09000  0.10000  370.000   \n",
       "\n",
       "           rmse  log_likelihood  neighbor  q_lo  q_hi  CollTime_lo  \\\n",
       "1979   0.140241        7.030700       1.0  0.24   4.0     0.000927   \n",
       "13680  0.175862       78.872984       0.0  0.10   1.0     0.001754   \n",
       "10855  0.128481       74.140323       0.0  0.10   1.0     0.000618   \n",
       "9491   0.194177       10.104532       1.0  0.24   4.0     0.000313   \n",
       "\n",
       "       CollTime_hi  N_lo   N_hi  run  cluster_index  job_index  \n",
       "1979      0.178568   6.0  100.0   25       22996017        672  \n",
       "13680     0.166719  10.0  100.0   18       16106771       1096  \n",
       "10855     0.034681  10.0  100.0   18       16106771       5486  \n",
       "9491      0.032113   6.0  100.0   25       22996017       3351  "
      ]
     },
     "execution_count": 381,
     "metadata": {},
     "output_type": "execute_result"
    }
   ],
   "source": [
    "dh_lst=[]\n",
    "col_lst=['model','amax','L','varkappa','D','r','kappa',\n",
    "           'rmse','log_likelihood','neighbor',\n",
    "           'q_lo', 'q_hi','CollTime_lo', 'CollTime_hi','N_lo', 'N_hi',\n",
    "          'run','cluster_index', 'job_index']\n",
    "\n",
    "for dict_results_fk in dict_results_fk_lst:\n",
    "    dg_fit_fk = dict_results_fk['dg_fit']\n",
    "    dh_lst.append(dg_fit_fk[col_lst])\n",
    "    #dg_fit_fk = dict_results_fk['dg_fit']\n",
    "    #dh_lst.append(dg_fit_fk[col_lst])\n",
    "\n",
    "for dict_results_lr in dict_results_lr_lst:\n",
    "    dg_fit_lr = dict_results_lr['dg_fit']\n",
    "    dh_lst.append(dg_fit_lr[col_lst])\n",
    "    #dg_fit_lr = dict_results_lr['dg_fit']\n",
    "    #dh_lst.append(dg_fit_lr[col_lst])\n",
    "df_annihil_fits = pd.concat(dh_lst)\n",
    "# df_annihil_fits.reset_index(inplace=True)\n",
    "df_annihil_fits.sort_values(by=['model','rmse'],inplace=True)\n",
    "df_annihil_fits"
   ]
  },
  {
   "cell_type": "code",
   "execution_count": 382,
   "id": "3105e061",
   "metadata": {
    "ExecuteTime": {
     "end_time": "2022-09-14T05:50:46.450799Z",
     "start_time": "2022-09-14T05:50:46.421420Z"
    }
   },
   "outputs": [
    {
     "name": "stdout",
     "output_type": "stream",
     "text": [
      "annihil_fits_dir='/home/timothytyree/Documents/GitHub/bgmc/python/data/annihil_fits.25.18.csv'\n",
      "              model    amax     L  varkappa        D        r    kappa  \\\n",
      "1979   Fenton-Karma   1.781   5.0   1.55300  0.11400  0.02000  880.000   \n",
      "13680  Fenton-Karma   1.793  10.0   1.64822  0.07252  0.10393  263.738   \n",
      "10855      Luo-Rudy  10.148  10.0   9.22091  0.46368  0.15693  290.921   \n",
      "9491       Luo-Rudy  10.149   5.0   9.96900  0.09000  0.10000  370.000   \n",
      "\n",
      "           rmse  log_likelihood  neighbor  q_lo  q_hi  CollTime_lo  \\\n",
      "1979   0.140241        7.030700       1.0  0.24   4.0     0.000927   \n",
      "13680  0.175862       78.872984       0.0  0.10   1.0     0.001754   \n",
      "10855  0.128481       74.140323       0.0  0.10   1.0     0.000618   \n",
      "9491   0.194177       10.104532       1.0  0.24   4.0     0.000313   \n",
      "\n",
      "       CollTime_hi  N_lo   N_hi  run  cluster_index  job_index  \n",
      "1979      0.178568   6.0  100.0   25       22996017        672  \n",
      "13680     0.166719  10.0  100.0   18       16106771       1096  \n",
      "10855     0.034681  10.0  100.0   18       16106771       5486  \n",
      "9491      0.032113   6.0  100.0   25       22996017       3351  \n"
     ]
    }
   ],
   "source": [
    "# annihil_fits_dir = f'/home/timothytyree/Documents/GitHub/bgmc/python/data/annihil_fits.{run_num_lst[0]}.{run_num_lst[1]}.csv'\n",
    "annihil_fits_dir = f'/home/timothytyree/Documents/GitHub/bgmc/python/data/annihil_fits.'\n",
    "for run_num in run_num_lst:\n",
    "    annihil_fits_dir += f\"{run_num}.\"\n",
    "annihil_fits_dir+='csv'\n",
    "print(f\"{annihil_fits_dir=}\")\n",
    "#save as .csv and send to WJ right now!\n",
    "# annihil_fits_dir = '/home/timothytyree/Documents/GitHub/bgmc/python/data/annihil_fits.csv'\n",
    "df_annihil_fits.to_csv(annihil_fits_dir,index=False)\n",
    "print(df_annihil_fits)"
   ]
  },
  {
   "cell_type": "code",
   "execution_count": 383,
   "id": "3eeaff76",
   "metadata": {
    "ExecuteTime": {
     "end_time": "2022-09-14T05:50:46.474631Z",
     "start_time": "2022-09-14T05:50:46.452260Z"
    }
   },
   "outputs": [],
   "source": [
    "# ['model','amax','L','rmse']"
   ]
  },
  {
   "cell_type": "code",
   "execution_count": 260,
   "id": "d53d9a46",
   "metadata": {
    "ExecuteTime": {
     "end_time": "2022-09-14T05:16:16.127836Z",
     "start_time": "2022-09-14T05:16:16.107527Z"
    }
   },
   "outputs": [],
   "source": [
    "# # Linear Particle (L=5)\n",
    "# df_fit_fk = dict_results_fk_lst[0]['df_fit']\n",
    "# # dg_fit_fk = dict_results_fk_lst[0]['dg_fit']\n",
    "# df_fit_lr = dict_results_lr_lst[0]['df_fit']\n",
    "# # dg_fit_lr = dict_results_lr_lst[0]['dg_fit']\n",
    "\n",
    "# # Linear Particle (L=10)\n",
    "# df_fit_fk = dict_results_fk_lst[1]['df_fit']\n",
    "# # dg_fit_fk = dict_results_fk_lst[1]['dg_fit']\n",
    "# df_fit_lr = dict_results_lr_lst[1]['df_fit']\n",
    "# # dg_fit_lr = dict_results_lr_lst[1]['dg_fit']\n",
    "# # dg_fit_fk.columns"
   ]
  },
  {
   "cell_type": "code",
   "execution_count": 130,
   "id": "975bbe3a",
   "metadata": {
    "ExecuteTime": {
     "end_time": "2022-09-14T04:09:19.627414Z",
     "start_time": "2022-09-14T04:09:19.593919Z"
    }
   },
   "outputs": [],
   "source": [
    "# dict_legend = {\"Fenton-Karma Model\":,'C0',\"Luo-Rudy Model\":,'C1'}"
   ]
  },
  {
   "cell_type": "code",
   "execution_count": 95,
   "id": "6080e402",
   "metadata": {
    "ExecuteTime": {
     "end_time": "2022-09-14T03:40:46.646404Z",
     "start_time": "2022-09-14T03:40:46.612015Z"
    }
   },
   "outputs": [],
   "source": [
    "#TODO: restart run 25 as run 27 but with neighbors=0"
   ]
  },
  {
   "cell_type": "markdown",
   "id": "b8cd69b5",
   "metadata": {},
   "source": [
    "# TODO: make latex table "
   ]
  },
  {
   "cell_type": "code",
   "execution_count": 171,
   "id": "6b524d21",
   "metadata": {
    "ExecuteTime": {
     "end_time": "2022-09-14T04:49:32.247190Z",
     "start_time": "2022-09-14T04:49:32.206261Z"
    }
   },
   "outputs": [],
   "source": [
    "#HINT: query the dataframe and then search stackoverflow"
   ]
  },
  {
   "cell_type": "code",
   "execution_count": null,
   "id": "617055f6",
   "metadata": {},
   "outputs": [],
   "source": []
  },
  {
   "cell_type": "code",
   "execution_count": null,
   "id": "faee48bf",
   "metadata": {},
   "outputs": [],
   "source": []
  }
 ],
 "metadata": {
  "kernelspec": {
   "display_name": "Python 3 (ipykernel)",
   "language": "python",
   "name": "python3"
  },
  "language_info": {
   "codemirror_mode": {
    "name": "ipython",
    "version": 3
   },
   "file_extension": ".py",
   "mimetype": "text/x-python",
   "name": "python",
   "nbconvert_exporter": "python",
   "pygments_lexer": "ipython3",
   "version": "3.9.13"
  },
  "toc": {
   "base_numbering": 1,
   "nav_menu": {},
   "number_sections": true,
   "sideBar": true,
   "skip_h1_title": false,
   "title_cell": "Table of Contents",
   "title_sidebar": "Contents",
   "toc_cell": false,
   "toc_position": {},
   "toc_section_display": true,
   "toc_window_display": false
  }
 },
 "nbformat": 4,
 "nbformat_minor": 5
}
