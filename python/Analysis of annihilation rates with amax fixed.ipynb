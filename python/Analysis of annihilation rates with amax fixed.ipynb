{
 "cells": [
  {
   "cell_type": "markdown",
   "id": "ea6a312c",
   "metadata": {},
   "source": [
    "# Analysis of annihilation rates with amax fixed\n",
    "Tim Tyree<br>\n",
    "9.13.2022"
   ]
  },
  {
   "cell_type": "code",
   "execution_count": 109,
   "id": "569b7eb8",
   "metadata": {
    "ExecuteTime": {
     "end_time": "2022-09-27T19:30:01.167034Z",
     "start_time": "2022-09-27T19:30:01.141018Z"
    }
   },
   "outputs": [
    {
     "name": "stdout",
     "output_type": "stream",
     "text": [
      "The autoreload extension is already loaded. To reload it, use:\n",
      "  %reload_ext autoreload\n",
      "The autoreload extension is already loaded. To reload it, use:\n",
      "  %reload_ext autoreload\n"
     ]
    }
   ],
   "source": [
    "from lib.my_initialization import *\n",
    "from lib import *\n",
    "#from lib.lib_care.measure.level_sets import comp_longest_level_set_and_smooth\n",
    "%load_ext autoreload\n",
    "%autoreload 2\n",
    "\n",
    "import random,scipy\n",
    "from scipy.interpolate import LinearNDInterpolator\n",
    "from scipy.interpolate import CloughTocher2DInterpolator\n",
    "from scipy.optimize import minimize\n",
    "#load libraries for color bar\n",
    "import matplotlib as mpl #for colorbar\n",
    "from matplotlib.cm import ScalarMappable\n",
    "import matplotlib.colors as colors\n",
    "import matplotlib.cbook as cbook\n",
    "from matplotlib import cm\n",
    "#def plotter_3dpoint_cloud_sample(az,...):\n",
    "from scipy import stats\n",
    "#DONE: hook this routine up to dask\n",
    "#DONT: hook this routine up to dask_cuda\n",
    "# import scanpy as sc\n",
    "darkmode=False\n",
    "if darkmode:\n",
    "    # For darkmode plots\n",
    "    from jupyterthemes import jtplot\n",
    "    jtplot.style(theme='monokai', context='notebook', ticks=True, grid=False)\n",
    "#     theme=cuxfilter.themes.dark\n",
    "#     #     theme=cuxfilter.themes.rapids\n",
    "else:\n",
    "    sns.set_style('white')\n",
    "#     theme=cuxfilter.themes.light\n",
    "import warnings\n",
    "warnings.simplefilter(\"ignore\", UserWarning)\n",
    "%load_ext autoreload\n",
    "%autoreload 2\n",
    "# import cupy as cp\n",
    "np.random.seed(42)\n",
    "# cp.random.seed(42)"
   ]
  },
  {
   "cell_type": "code",
   "execution_count": 2,
   "id": "0d45f067",
   "metadata": {
    "ExecuteTime": {
     "end_time": "2022-09-27T19:09:36.995017Z",
     "start_time": "2022-09-27T19:09:36.909766Z"
    }
   },
   "outputs": [],
   "source": [
    "from lib.lib_care.routines.interp_texture_from_scatter_data import interp_txt_from_scatter"
   ]
  },
  {
   "cell_type": "code",
   "execution_count": 3,
   "id": "8c79ef1f",
   "metadata": {
    "ExecuteTime": {
     "end_time": "2022-09-27T19:09:37.014106Z",
     "start_time": "2022-09-27T19:09:36.996211Z"
    }
   },
   "outputs": [],
   "source": [
    "#reset matplotlib settings\n",
    "from mpltools import annotation\n",
    "import matplotlib as mpl\n",
    "sns.reset_orig()\n",
    "mpl.rc_file_defaults()"
   ]
  },
  {
   "cell_type": "markdown",
   "id": "44db62e7",
   "metadata": {},
   "source": [
    "# define module"
   ]
  },
  {
   "cell_type": "code",
   "execution_count": 201,
   "id": "5b90c1b7",
   "metadata": {
    "ExecuteTime": {
     "end_time": "2022-09-27T21:08:32.260994Z",
     "start_time": "2022-09-27T21:08:32.231945Z"
    }
   },
   "outputs": [],
   "source": [
    "def meshgrid_heatmap_from_scattergrid(x_values,y_values,c_values):\n",
    "    \"\"\"x_values,y_values,c_values are assumed from a scatterplot of a gridsearch over xy.\n",
    "    \n",
    "    Example Usage:\n",
    "x,y,z = meshgrid_heatmap_from_scatter(x_values,y_values,c_values)\n",
    "    \"\"\"\n",
    "    xcoord_values=np.sort(np.unique(x_values))\n",
    "    ycoord_values=np.sort(np.unique(y_values))\n",
    "    x, y = np.meshgrid(xcoord_values, ycoord_values)\n",
    "    z=np.zeros_like(x)\n",
    "    for xx,yy,zz in zip(x_values,y_values,c_values):\n",
    "        boo = xx==x\n",
    "        boo&= yy==y\n",
    "        z[boo] = zz\n",
    "    return x,y,z"
   ]
  },
  {
   "cell_type": "code",
   "execution_count": 4,
   "id": "b08d556d",
   "metadata": {
    "ExecuteTime": {
     "end_time": "2022-09-27T19:09:37.037862Z",
     "start_time": "2022-09-27T19:09:37.019657Z"
    }
   },
   "outputs": [],
   "source": [
    "def gener_annihil_powerlaw_fit_ols(df,qmin=0.1,qmax=10,qcol='q',wcol='w',printing=True,**kwargs):\n",
    "    \"\"\"\n",
    "    Example Usage:\n",
    "dict_fit = gener_annihil_powerlaw_fit_ols(df=df_fit_fk,qmin=0.1,qmax=10)\n",
    "    \"\"\"\n",
    "    # Rsq_tol=0.9999\n",
    "    q_values = df[qcol].values\n",
    "    w_values = df[wcol].values \n",
    "    boo=(q_values>=qmin)&(q_values<qmax)\n",
    "    x=q_values[boo]\n",
    "    y=w_values[boo]\n",
    "    dict_fit = print_fit_power_law(x,y,printing=printing)\n",
    "    # if dict_fit['Rsq']<Rsq_tol: ...\n",
    "    return dict_fit"
   ]
  },
  {
   "cell_type": "code",
   "execution_count": 5,
   "id": "d981262e",
   "metadata": {
    "ExecuteTime": {
     "end_time": "2022-09-27T19:09:37.056399Z",
     "start_time": "2022-09-27T19:09:37.038951Z"
    }
   },
   "outputs": [],
   "source": [
    "def format_measurement_string(key,val,Delta_val,num_digits=6):\n",
    "    \"\"\"\n",
    "    Example Usage:\n",
    "string = format_measurement_string(key='key',val=0,Delta_val=0.123467890,num_digits=6)\n",
    "print(string)\n",
    "    \"\"\"\n",
    "    if num_digits==0:\n",
    "        return f\"{key} = {val:.0f} +/- {Delta_val:.0f}\"\n",
    "    if num_digits==2:\n",
    "        return f\"{key} = {val:.2f} +/- {Delta_val:.2f}\"\n",
    "    if num_digits==4:\n",
    "        return f\"{key} = {val:.4f} +/- {Delta_val:.4f}\"\n",
    "    if num_digits==6:\n",
    "        return f\"{key} = {val:.6f} +/- {Delta_val:.6f}\"\n",
    "    if num_digits==8:\n",
    "        return f\"{key} = {val:.6f} +/- {Delta_val:.6f}\"\n",
    "    raise f\"Argument Error: {num_digits=} not yet implemented!\\nconsider num_digits as an even number less than 10...\""
   ]
  },
  {
   "cell_type": "code",
   "execution_count": 6,
   "id": "d3f9fc4e",
   "metadata": {
    "ExecuteTime": {
     "end_time": "2022-09-27T19:09:37.076867Z",
     "start_time": "2022-09-27T19:09:37.057703Z"
    }
   },
   "outputs": [],
   "source": [
    "#recall annihilation logs \n",
    "def recall_annihil_log_dir(run_num,cluster_index,job_index,\n",
    "                           base_folder=f'/home/timothytyree/Documents/GitHub/bgmc/python/data/osg_output/',\n",
    "                          **kwargs):\n",
    "    \"\"\"\n",
    "    Example Usage:\n",
    "annihil_log_dir = recall_annihil_log_dir(run_num,cluster_index,job_index)\n",
    "assert os.path.exists(annihil_log_dir)\n",
    "    \"\"\"\n",
    "    annihil_log_dir=base_folder+f'run_{run_num}_all/job.out.{int(cluster_index)}.{int(job_index)}'\n",
    "    return annihil_log_dir\n",
    "\n",
    "def recall_annihilation_log(input_fn,printing=True,**kwargs):\n",
    "    \"\"\"\n",
    "    Example Usage:\n",
    "df_fit,dict_linear_fit = recall_annihilation_log(input_fn,printing=True)#,**kwargs)\n",
    "    \"\"\"\n",
    "    df_fit_fk,dict_linear_fit_fk = routine_measure_annihilation_defect(input_fn,printing=printing,**kwargs)\n",
    "    amax_fk=dg_fk['amax'].median()\n",
    "    rmse_fk=dg_fk['rmse'].median()\n",
    "    L = dg_fk['L'].median()\n",
    "    if printing:\n",
    "        print(f\"amax: {amax_fk:.4f} cm^2/s, L: {L} cm, RMSE as fit to annihilation rates from full: {rmse_fk:.4f} Hz/cm^2\")\n",
    "        print(f\"{input_fn_fk=}\")\n",
    "    return df_fit_fk,dict_linear_fit_fk"
   ]
  },
  {
   "cell_type": "markdown",
   "id": "268085e7",
   "metadata": {},
   "source": [
    "# build minimum dataset from best fits cached for either of the full models at either of the length scales"
   ]
  },
  {
   "cell_type": "code",
   "execution_count": 7,
   "id": "1c92c2b0",
   "metadata": {
    "ExecuteTime": {
     "end_time": "2022-09-27T19:09:37.094468Z",
     "start_time": "2022-09-27T19:09:37.077953Z"
    }
   },
   "outputs": [],
   "source": [
    "kwargs = dict(data_fk_dir=f'{nb_dir}/data/full_results/data_fig4_vidmar_fk_tt.csv',\n",
    "              data_lr_dir=f'{nb_dir}/data/full_results/data_fig4_vidmar_lr_tt.csv',\n",
    "             min_num_particles=9)"
   ]
  },
  {
   "cell_type": "code",
   "execution_count": 78,
   "id": "d6148a17",
   "metadata": {
    "ExecuteTime": {
     "end_time": "2022-09-27T19:18:04.660514Z",
     "start_time": "2022-09-27T19:18:04.637456Z"
    }
   },
   "outputs": [
    {
     "data": {
      "text/plain": [
       "25"
      ]
     },
     "execution_count": 78,
     "metadata": {},
     "output_type": "execute_result"
    }
   ],
   "source": [
    "run_num"
   ]
  },
  {
   "cell_type": "code",
   "execution_count": 79,
   "id": "c5cf1922",
   "metadata": {
    "ExecuteTime": {
     "end_time": "2022-09-27T19:18:08.192902Z",
     "start_time": "2022-09-27T19:18:07.980080Z"
    }
   },
   "outputs": [
    {
     "name": "stdout",
     "output_type": "stream",
     "text": [
      "\n",
      "**************************************\n",
      "* Fenton-Karma Model (best settings):\n",
      "**************************************\n",
      "amax=1.7810, rmse_min=0.0911, log_likelihood=7.0307, count=4410\n",
      "\n",
      "best fit for Fenton-Karma: RMSE: 0.1402 Hz/cm^2, amax: 1.7810 cm^2/s, L: 5.0 cm\n",
      "input_fn_fk='/home/timothytyree/Documents/GitHub/bgmc/python/data/osg_output/run_25_all/job.out.22996017.672'\n",
      "\n",
      "**************************************\n",
      "* Luo-Rudy Model (best settings):\n",
      "**************************************\n",
      "amax=10.1490, rmse_min=0.1695, log_likelihood=10.1045, count=4410\n",
      "\n",
      "best fit for Luo-Rudy: RMSE: 0.1942 Hz/cm^2, amax: 1.7810 cm^2/s, L: 5.0 cm\n",
      "input_fn_lr='/home/timothytyree/Documents/GitHub/bgmc/python/data/osg_output/run_25_all/job.out.22996017.3351'\n",
      "\n",
      "parameter range supported in run #25:\n",
      "number of trials: 17640\n",
      "        r  kappa      D  varkappa    amax    L  neighbor\n",
      "min  0.01  100.0  0.090     1.553   1.733  5.0       1.0\n",
      "max  0.49  990.0  0.114     9.969  10.197  5.0       1.0\n",
      "\n",
      "**************************************\n",
      "* Fenton-Karma Model (best settings):\n",
      "**************************************\n",
      "amax=1.7800, rmse_min=0.0755, log_likelihood=87.7686, count=1155\n",
      "\n",
      "best fit for Fenton-Karma: RMSE: 0.1904 Hz/cm^2, amax: 1.7800 cm^2/s, L: 10.0 cm\n",
      "input_fn_fk='/home/timothytyree/Documents/GitHub/bgmc/python/data/osg_output/run_29_all/job.out.23453634.4366'\n",
      "\n",
      "**************************************\n",
      "* Luo-Rudy Model (best settings):\n",
      "**************************************\n",
      "amax=10.1470, rmse_min=0.0991, log_likelihood=73.7715, count=2720\n",
      "\n",
      "best fit for Luo-Rudy: RMSE: 0.1190 Hz/cm^2, amax: 1.7800 cm^2/s, L: 10.0 cm\n",
      "input_fn_lr='/home/timothytyree/Documents/GitHub/bgmc/python/data/osg_output/run_29_all/job.out.23453634.7260'\n",
      "\n",
      "parameter range supported in run #29:\n",
      "number of trials: 3875\n",
      "        r  kappa     D  varkappa    amax     L  neighbor\n",
      "min  0.04  200.0  0.05     0.480   1.780  10.0       1.0\n",
      "max  0.20  950.0  1.40    10.047  10.147  10.0       1.0\n"
     ]
    }
   ],
   "source": [
    "#heretim\n",
    "latest_run_num=29\n",
    "run_num_lst = list(reversed(list(np.arange(14,latest_run_num+1))))\n",
    "# run_num_lst=[25,17]\n",
    "# run_num_lst=[25,19]\n",
    "# run_num_lst=[25,24]\n",
    "# run_num_lst = list(np.arange(12,26))\n",
    "# run_num_lst = list(np.arange(26,14))\n",
    "run_num_lst=[25,18]\n",
    "# run_num_lst=[28,18]\n",
    "run_num_lst=[28,29]\n",
    "run_num_lst=[25,29]\n",
    "\n",
    "use_filterby_neighbor=True\n",
    "# neighbor=0\n",
    "neighbor=1\n",
    "\n",
    "use_filterby_minN=True\n",
    "minN=9\n",
    "\n",
    "# neighbor=1\n",
    "remove_no_diffusion=True\n",
    "# Dinf=0\n",
    "Dinf=0.01\n",
    "num_digits_round_amax=3\n",
    "# run_num=25 #L=5 cm\n",
    "# run_num=18 #L=10 cm\n",
    "gmin_fk_lst=[]\n",
    "gmin_lr_lst=[]\n",
    "log_dir_fk_lst=[]\n",
    "log_dir_lr_lst=[]\n",
    "dict_results_fk_lst=[]\n",
    "dict_results_lr_lst=[]\n",
    "# for run_num in [25,18]: #chosen exemplar pair\n",
    "for run_num in run_num_lst:\n",
    "    parquet_dir_defects_fk=f'{nb_dir}/data/osg_output/run_{run_num}_defects_to_fk.parquet'\n",
    "    parquet_dir_defects_lr=f'{nb_dir}/data/osg_output/run_{run_num}_defects_to_lr.parquet'\n",
    "    input_folder=f'{nb_dir}/data/osg_output/run_{run_num}_all'\n",
    "#     parquet_dir_defects_fk=f'/home/timothytyree/Documents/GitHub/bgmc/python/data/osg_output/run_{run_num}_defects_to_fk.parquet'\n",
    "#     parquet_dir_defects_lr=f'/home/timothytyree/Documents/GitHub/bgmc/python/data/osg_output/run_{run_num}_defects_to_lr.parquet'\n",
    "#     input_folder=f'/home/timothytyree/Documents/GitHub/bgmc/python/data/osg_output/run_{run_num}_all'\n",
    "    #load data\n",
    "    df_defects_fk=pd.read_parquet(parquet_dir_defects_fk)\n",
    "    df_defects_lr=pd.read_parquet(parquet_dir_defects_lr)\n",
    "    \n",
    "    #filterby neighbor\n",
    "    if use_filterby_neighbor:\n",
    "        df_defects_fk = df_defects_fk[df_defects_fk['neighbor']==neighbor].copy()\n",
    "        df_defects_lr = df_defects_lr[df_defects_lr['neighbor']==neighbor].copy()\n",
    "    \n",
    "    #compute order parameter for each member a=amax-2*D\n",
    "    #add columns for amax\n",
    "    df_defects_fk['amax'] = np.around(df_defects_fk['varkappa'] + 2.*df_defects_fk['D'],num_digits_round_amax)\n",
    "    df_defects_lr['amax'] = np.around(df_defects_lr['varkappa'] + 2.*df_defects_lr['D'],num_digits_round_amax)\n",
    "    \n",
    "    if remove_no_diffusion:\n",
    "        df_defects_fk = df_defects_fk[df_defects_fk['D']>Dinf].copy()\n",
    "        df_defects_lr = df_defects_lr[df_defects_lr['D']>Dinf].copy()\n",
    "    \n",
    "    #identify the lowest error simulation for each amax value\n",
    "    print(f\"\\n**************************************\")\n",
    "    print(f\"* Fenton-Karma Model (best settings):\")\n",
    "    print(f\"**************************************\")\n",
    "    minrmse=9999.\n",
    "    supamax=1.8\n",
    "    #supamax=40.\n",
    "    for amax,g in df_defects_fk.groupby(by='amax'):\n",
    "        rmse_min = g['rmse'].min()\n",
    "        count = g['rmse'].count()\n",
    "        log_likelihood = g['log_likelihood'].max()\n",
    "        if (rmse_min<=minrmse)&(amax<=supamax):\n",
    "            minrmse=rmse_min\n",
    "            gmin_fk=g.copy()\n",
    "            print_str =f\"{amax=:.4f}, {rmse_min=:.4f}, {log_likelihood=:.4f}, {count=}\"\n",
    "    print(print_str)\n",
    "    gmin_fk.sort_values(by='D',inplace=True)\n",
    "    \n",
    "\n",
    "    #find best simulation for the full model at this avalue\n",
    "#     dg_fk=gmin_fk[gmin_fk['rmse'] == gmin_fk['rmse'].min()].copy()\n",
    "    dg_fk=gmin_fk[gmin_fk['log_likelihood'] == gmin_fk['log_likelihood'].max()].copy()\n",
    "    dg_fk['run']=run_num\n",
    "    df_defects_fk['run']=run_num\n",
    "    dg_fk['model']='Fenton-Karma'\n",
    "    cluster_index,job_index = dg_fk[['cluster_index','job_index']].values.T\n",
    "    input_fn = os.path.join(input_folder,f\"job.out.{int(cluster_index)}.{int(job_index)}\")\n",
    "    #assert os.path.exists(input_fn)\n",
    "    if os.path.exists(input_fn):\n",
    "        input_fn_fk=input_fn\n",
    "        df_fit_fk,dict_linear_fit_fk = routine_measure_annihilation_defect(input_fn,printing=True,**kwargs)\n",
    "        amax_fk=dg_fk['amax'].median()\n",
    "        rmse_fk=dg_fk['rmse'].median()\n",
    "        L = dg_fk['L'].median()\n",
    "        print(f\"\\nbest fit for Fenton-Karma: RMSE: {rmse_fk:.4f} Hz/cm^2, amax: {amax_fk:.4f} cm^2/s, L: {L} cm\")\n",
    "        print(f\"{input_fn_fk=}\")\n",
    "        #record\n",
    "        dict_results_fk=dict(\n",
    "            model_name='Fenton-Karma',\n",
    "            amax=amax_fk,\n",
    "            rmse=rmse_fk,\n",
    "            L=L,\n",
    "            df_fit=df_fit_fk,\n",
    "            dg_fit=dg_fk,\n",
    "            dict_linear_fit=dict_linear_fit_fk,\n",
    "            filename=input_fn_fk,\n",
    "            gmin=gmin_fk)\n",
    "        dict_results_fk_lst.append(dict_results_fk)\n",
    "        gmin_fk_lst.append(gmin_fk)\n",
    "        log_dir_fk_lst.append(input_fn)\n",
    "    \n",
    "    #identify the lowest error simulation for each amax value\n",
    "    print(f\"\\n**************************************\")\n",
    "    print(f\"* Luo-Rudy Model (best settings):\")\n",
    "    print(f\"**************************************\")\n",
    "    minrmse=9999.\n",
    "    supamax=10.2\n",
    "    for amax,g in df_defects_lr.groupby(by='amax'):\n",
    "        rmse_min = g['rmse'].min()\n",
    "        count = g['rmse'].count()\n",
    "        log_likelihood = g['log_likelihood'].max()\n",
    "        if (rmse_min<=minrmse)&(amax<=supamax):\n",
    "            minrmse=rmse_min\n",
    "            gmin_lr=g.copy()\n",
    "            print_str =f\"{amax=:.4f}, {rmse_min=:.4f}, {log_likelihood=:.4f}, {count=}\"\n",
    "    print(print_str)        \n",
    "    gmin_lr.sort_values(by='D',inplace=True)\n",
    "    \n",
    "    #find best simulation for the full model at this avalue\n",
    "#     dg_lr=gmin_lr[gmin_lr['rmse'] == gmin_lr['rmse'].min()].copy()\n",
    "    dg_lr=gmin_lr[gmin_lr['log_likelihood'] == gmin_lr['log_likelihood'].max()].copy()\n",
    "    dg_lr['run']=run_num\n",
    "    df_defects_fk['run']=run_num\n",
    "    dg_lr['model']='Luo-Rudy'\n",
    "    cluster_index,job_index = dg_lr[['cluster_index','job_index']].values.T\n",
    "    input_fn = os.path.join(input_folder,f\"job.out.{int(cluster_index)}.{int(job_index)}\")\n",
    "    #assert os.path.exists(input_fn)\n",
    "    if os.path.exists(input_fn):\n",
    "        input_fn_lr=input_fn\n",
    "        df_fit_lr,dict_linear_fit_lr = routine_measure_annihilation_defect(input_fn,printing=True,**kwargs)\n",
    "        amax_lr=dg_fk['amax'].median()\n",
    "        rmse_lr=dg_lr['rmse'].median()\n",
    "        L = dg_lr['L'].median()\n",
    "        print(f\"\\nbest fit for Luo-Rudy: RMSE: {rmse_lr:.4f} Hz/cm^2, amax: {amax_lr:.4f} cm^2/s, L: {L} cm\")\n",
    "        print(f\"{input_fn_lr=}\")\n",
    "        #record\n",
    "        dict_results_lr=dict(\n",
    "            model_name='Luo-Rudy',\n",
    "            amax=amax_lr,\n",
    "            rmse=rmse_lr,\n",
    "            L=L,\n",
    "            df_fit=df_fit_lr,\n",
    "            dg_fit=dg_lr,\n",
    "            dict_linear_fit=dict_linear_fit_lr,\n",
    "            filename=input_fn_lr,\n",
    "            gmin=gmin_lr)\n",
    "        dict_results_lr_lst.append(dict_results_lr)\n",
    "        gmin_lr_lst.append(gmin_lr)\n",
    "        log_dir_lr_lst.append(input_fn)\n",
    "\n",
    "    print(f\"\\nparameter range supported in run #{run_num}:\")\n",
    "    print(f\"number of trials: {df_defects_lr.shape[0]}\")\n",
    "    print(df_defects_lr.describe()[['r','kappa','D','varkappa','amax','L','neighbor']].T[['min','max']].T)"
   ]
  },
  {
   "cell_type": "code",
   "execution_count": 80,
   "id": "de0715d6",
   "metadata": {
    "ExecuteTime": {
     "end_time": "2022-09-27T19:18:11.764753Z",
     "start_time": "2022-09-27T19:18:11.745225Z"
    }
   },
   "outputs": [
    {
     "data": {
      "text/plain": [
       "29"
      ]
     },
     "execution_count": 80,
     "metadata": {},
     "output_type": "execute_result"
    }
   ],
   "source": [
    "run_num\n",
    "# len(dict_results_fk_lst)\n",
    "# !pwd"
   ]
  },
  {
   "cell_type": "markdown",
   "id": "8025d457",
   "metadata": {},
   "source": [
    "# Plot mean annihilation rates"
   ]
  },
  {
   "cell_type": "code",
   "execution_count": 10,
   "id": "c14a27fd",
   "metadata": {
    "ExecuteTime": {
     "end_time": "2022-09-27T19:09:37.450929Z",
     "start_time": "2022-09-27T19:09:37.426492Z"
    }
   },
   "outputs": [],
   "source": [
    "dict_wjr = recall_death_rates_vidmar_rappel(**kwargs)\n",
    "fk=dict_wjr['fk']\n",
    "lr=dict_wjr['lr']"
   ]
  },
  {
   "cell_type": "code",
   "execution_count": 11,
   "id": "5fb39d35",
   "metadata": {
    "ExecuteTime": {
     "end_time": "2022-09-27T19:09:38.018231Z",
     "start_time": "2022-09-27T19:09:37.453015Z"
    }
   },
   "outputs": [
    {
     "data": {
      "image/png": "[encoded data removed]",
      "text/plain": [
       "<Figure size 432x288 with 1 Axes>"
      ]
     },
     "metadata": {
      "needs_background": "light"
     },
     "output_type": "display_data"
    }
   ],
   "source": [
    "figsize = (6, 4)  #(5,4)\n",
    "fontsize=16\n",
    "fig, ax = plt.subplots(figsize=figsize)\n",
    "ax = plot_death_rates_loglog_full(fk,lr,ax=ax,fontsize=fontsize,x1lim=[0.008, 11], x2lim=[0.01, 250])\n",
    "\n",
    "# Linear Particle (L=5)\n",
    "df_fit_fk = dict_results_fk_lst[0]['df_fit']\n",
    "dg_fit_fk = dict_results_fk_lst[0]['dg_fit']\n",
    "df_fit_lr = dict_results_lr_lst[0]['df_fit']\n",
    "dg_fit_lr = dict_results_lr_lst[0]['dg_fit']\n",
    "df_fit_fk.plot(x='q',y='w',alpha=0.7,ax=ax,color='k',label=f'Lin. Particle (L=5)')#,label='_Best Fit to FK')\n",
    "df_fit_lr.plot(x='q',y='w',alpha=0.7,ax=ax,color='k',label='_Best Fit to LR')\n",
    "\n",
    "# Linear Particle (L=10)\n",
    "df_fit_fk = dict_results_fk_lst[1]['df_fit']\n",
    "dg_fit_fk = dict_results_fk_lst[1]['dg_fit']\n",
    "df_fit_lr = dict_results_lr_lst[1]['df_fit']\n",
    "dg_fit_lr = dict_results_lr_lst[1]['dg_fit']\n",
    "# df_fit_fk.plot(x='q',y='w',alpha=0.7,ax=ax,color='r',label=f'Linear Particle (L=10)')#,label='_Best Fit to FK')\n",
    "df_fit_fk.plot(x='q',y='w',alpha=0.7,ax=ax,color='r',label=f'Lin. Particle (L=10)')#,label='_Best Fit to FK')\n",
    "df_fit_lr.plot(x='q',y='w',alpha=0.7,ax=ax,color='r',label='_Best Fit to LR')\n",
    "\n",
    "# format_plot\n",
    "ax.tick_params(top=True, right=True,direction='in',which='both')\n",
    "format_plot(ax=ax,xlabel=r'q (1/cm$^2$)',ylabel=r'w (Hz/cm$^2$)',fontsize=fontsize,use_loglog=True)\n",
    "# ax.legend(loc='upper left',fontsize=fontsize-2)\n",
    "# ax.legend(loc='lower right',fontsize=fontsize-2.,frameon=False,ncol=2)\n",
    "# leg = ax.legend(loc=(1.04,0.2),fontsize=fontsize-2.,frameon=False)\n",
    "leg = ax.legend(loc='upper left',fontsize=fontsize-3.,frameon=False,ncol=1)\n",
    "for lh in leg.legendHandles: \n",
    "    lh.set_alpha(1)\n",
    "# ax.get_legend().remove()\n",
    "\n",
    "#add annotation\n",
    "# xytext=(0.09, 10)\n",
    "# xytext=(0.01, 90)\n",
    "# ax.annotate(r\"best fit ($a>0$)\", xy=xy, xytext=xytext,fontsize=fontsize)\n",
    "# .tick_params(labelbottom=False, labeltop=True, labelleft=False, labelright=False,\n",
    "#                      bottom=False, top=True, left=False, right=False)\n",
    "\n",
    "xytext=(0.01, 40)\n",
    "xy=(0.3, 11)\n",
    "# ax.annotate(r\"$a_{max}$ = const.\", xy=xy, xytext=(0.01, 40),fontsize=fontsize-2)\n",
    "# ax.annotate(r\"$a_{max}$ fixed to observed\", xy=xy, xytext=(0.01, 40),fontsize=fontsize-2)\n",
    "# ax.annotate(r\"$a_{max}$ fixed to observation\"+f\"\\nfrom MSR of full\", xy=xy, xytext=(0.01, 40),fontsize=fontsize-2)\n",
    "# #add marker showing the slope of ~2\n",
    "# annotation.slope_marker(origin=(.75, 2.0),\n",
    "#                         slope=2,\n",
    "#                         text_kwargs={'color': 'black','fontsize':16, 'alpha':0.7},\n",
    "#                         poly_kwargs={'facecolor': (0.5, 0.5, 0.5), 'alpha':0.5},\n",
    "#                         ax=ax)\n",
    "plt.show()"
   ]
  },
  {
   "cell_type": "code",
   "execution_count": 12,
   "id": "c566b819",
   "metadata": {
    "ExecuteTime": {
     "end_time": "2022-09-27T19:09:38.056405Z",
     "start_time": "2022-09-27T19:09:38.020223Z"
    }
   },
   "outputs": [
    {
     "data": {
      "text/html": [
       "<div>\n",
       "<style scoped>\n",
       "    .dataframe tbody tr th:only-of-type {\n",
       "        vertical-align: middle;\n",
       "    }\n",
       "\n",
       "    .dataframe tbody tr th {\n",
       "        vertical-align: top;\n",
       "    }\n",
       "\n",
       "    .dataframe thead th {\n",
       "        text-align: right;\n",
       "    }\n",
       "</style>\n",
       "<table border=\"1\" class=\"dataframe\">\n",
       "  <thead>\n",
       "    <tr style=\"text-align: right;\">\n",
       "      <th></th>\n",
       "      <th>model</th>\n",
       "      <th>amax</th>\n",
       "      <th>L</th>\n",
       "      <th>varkappa</th>\n",
       "      <th>D</th>\n",
       "      <th>r</th>\n",
       "      <th>kappa</th>\n",
       "      <th>rmse</th>\n",
       "      <th>log_likelihood</th>\n",
       "      <th>neighbor</th>\n",
       "      <th>q_lo</th>\n",
       "      <th>q_hi</th>\n",
       "      <th>CollTime_lo</th>\n",
       "      <th>CollTime_hi</th>\n",
       "      <th>N_lo</th>\n",
       "      <th>N_hi</th>\n",
       "      <th>run</th>\n",
       "      <th>cluster_index</th>\n",
       "      <th>job_index</th>\n",
       "    </tr>\n",
       "  </thead>\n",
       "  <tbody>\n",
       "    <tr>\n",
       "      <th>1979</th>\n",
       "      <td>Fenton-Karma</td>\n",
       "      <td>1.781</td>\n",
       "      <td>5.0</td>\n",
       "      <td>1.553</td>\n",
       "      <td>0.114</td>\n",
       "      <td>0.020</td>\n",
       "      <td>880.0</td>\n",
       "      <td>0.140241</td>\n",
       "      <td>7.030700</td>\n",
       "      <td>1.0</td>\n",
       "      <td>0.24</td>\n",
       "      <td>4.0</td>\n",
       "      <td>0.000927</td>\n",
       "      <td>0.178568</td>\n",
       "      <td>6.0</td>\n",
       "      <td>100.0</td>\n",
       "      <td>25</td>\n",
       "      <td>22996017</td>\n",
       "      <td>672</td>\n",
       "    </tr>\n",
       "    <tr>\n",
       "      <th>4501</th>\n",
       "      <td>Fenton-Karma</td>\n",
       "      <td>1.780</td>\n",
       "      <td>10.0</td>\n",
       "      <td>1.680</td>\n",
       "      <td>0.050</td>\n",
       "      <td>0.095</td>\n",
       "      <td>250.0</td>\n",
       "      <td>0.190422</td>\n",
       "      <td>87.768558</td>\n",
       "      <td>1.0</td>\n",
       "      <td>0.08</td>\n",
       "      <td>1.0</td>\n",
       "      <td>0.001985</td>\n",
       "      <td>0.283298</td>\n",
       "      <td>8.0</td>\n",
       "      <td>100.0</td>\n",
       "      <td>29</td>\n",
       "      <td>23453634</td>\n",
       "      <td>4366</td>\n",
       "    </tr>\n",
       "    <tr>\n",
       "      <th>3737</th>\n",
       "      <td>Luo-Rudy</td>\n",
       "      <td>10.147</td>\n",
       "      <td>10.0</td>\n",
       "      <td>10.047</td>\n",
       "      <td>0.050</td>\n",
       "      <td>0.140</td>\n",
       "      <td>350.0</td>\n",
       "      <td>0.119033</td>\n",
       "      <td>73.771470</td>\n",
       "      <td>1.0</td>\n",
       "      <td>0.08</td>\n",
       "      <td>1.0</td>\n",
       "      <td>0.000658</td>\n",
       "      <td>0.052132</td>\n",
       "      <td>8.0</td>\n",
       "      <td>100.0</td>\n",
       "      <td>29</td>\n",
       "      <td>23453634</td>\n",
       "      <td>7260</td>\n",
       "    </tr>\n",
       "    <tr>\n",
       "      <th>9491</th>\n",
       "      <td>Luo-Rudy</td>\n",
       "      <td>10.149</td>\n",
       "      <td>5.0</td>\n",
       "      <td>9.969</td>\n",
       "      <td>0.090</td>\n",
       "      <td>0.100</td>\n",
       "      <td>370.0</td>\n",
       "      <td>0.194177</td>\n",
       "      <td>10.104532</td>\n",
       "      <td>1.0</td>\n",
       "      <td>0.24</td>\n",
       "      <td>4.0</td>\n",
       "      <td>0.000313</td>\n",
       "      <td>0.032113</td>\n",
       "      <td>6.0</td>\n",
       "      <td>100.0</td>\n",
       "      <td>25</td>\n",
       "      <td>22996017</td>\n",
       "      <td>3351</td>\n",
       "    </tr>\n",
       "  </tbody>\n",
       "</table>\n",
       "</div>"
      ],
      "text/plain": [
       "             model    amax     L  varkappa      D      r  kappa      rmse  \\\n",
       "1979  Fenton-Karma   1.781   5.0     1.553  0.114  0.020  880.0  0.140241   \n",
       "4501  Fenton-Karma   1.780  10.0     1.680  0.050  0.095  250.0  0.190422   \n",
       "3737      Luo-Rudy  10.147  10.0    10.047  0.050  0.140  350.0  0.119033   \n",
       "9491      Luo-Rudy  10.149   5.0     9.969  0.090  0.100  370.0  0.194177   \n",
       "\n",
       "      log_likelihood  neighbor  q_lo  q_hi  CollTime_lo  CollTime_hi  N_lo  \\\n",
       "1979        7.030700       1.0  0.24   4.0     0.000927     0.178568   6.0   \n",
       "4501       87.768558       1.0  0.08   1.0     0.001985     0.283298   8.0   \n",
       "3737       73.771470       1.0  0.08   1.0     0.000658     0.052132   8.0   \n",
       "9491       10.104532       1.0  0.24   4.0     0.000313     0.032113   6.0   \n",
       "\n",
       "       N_hi  run  cluster_index  job_index  \n",
       "1979  100.0   25       22996017        672  \n",
       "4501  100.0   29       23453634       4366  \n",
       "3737  100.0   29       23453634       7260  \n",
       "9491  100.0   25       22996017       3351  "
      ]
     },
     "execution_count": 12,
     "metadata": {},
     "output_type": "execute_result"
    }
   ],
   "source": [
    "dh_lst=[]\n",
    "col_lst=['model','amax','L','varkappa','D','r','kappa',\n",
    "           'rmse','log_likelihood','neighbor',\n",
    "           'q_lo', 'q_hi','CollTime_lo', 'CollTime_hi','N_lo', 'N_hi',\n",
    "          'run','cluster_index', 'job_index']\n",
    "\n",
    "for dict_results_fk in dict_results_fk_lst:\n",
    "    dg_fit_fk = dict_results_fk['dg_fit']\n",
    "    dh_lst.append(dg_fit_fk[col_lst])\n",
    "    #dg_fit_fk = dict_results_fk['dg_fit']\n",
    "    #dh_lst.append(dg_fit_fk[col_lst])\n",
    "\n",
    "for dict_results_lr in dict_results_lr_lst:\n",
    "    dg_fit_lr = dict_results_lr['dg_fit']\n",
    "    dh_lst.append(dg_fit_lr[col_lst])\n",
    "    #dg_fit_lr = dict_results_lr['dg_fit']\n",
    "    #dh_lst.append(dg_fit_lr[col_lst])\n",
    "df_annihil_fits = pd.concat(dh_lst)\n",
    "# df_annihil_fits.reset_index(inplace=True)\n",
    "df_annihil_fits.sort_values(by=['model','rmse'],inplace=True)\n",
    "df_annihil_fits"
   ]
  },
  {
   "cell_type": "code",
   "execution_count": 81,
   "id": "3105e061",
   "metadata": {
    "ExecuteTime": {
     "end_time": "2022-09-27T19:18:21.341648Z",
     "start_time": "2022-09-27T19:18:21.317765Z"
    }
   },
   "outputs": [
    {
     "name": "stdout",
     "output_type": "stream",
     "text": [
      "annihil_fits_dir='/home/timothytyree/Documents/GitHub/bgmc/python/data/annihil_fits.25.29.csv'\n",
      "             model    amax     L  varkappa      D      r  kappa      rmse  \\\n",
      "1979  Fenton-Karma   1.781   5.0     1.553  0.114  0.020  880.0  0.140241   \n",
      "4501  Fenton-Karma   1.780  10.0     1.680  0.050  0.095  250.0  0.190422   \n",
      "3737      Luo-Rudy  10.147  10.0    10.047  0.050  0.140  350.0  0.119033   \n",
      "9491      Luo-Rudy  10.149   5.0     9.969  0.090  0.100  370.0  0.194177   \n",
      "\n",
      "      log_likelihood  neighbor  q_lo  q_hi  CollTime_lo  CollTime_hi  N_lo  \\\n",
      "1979        7.030700       1.0  0.24   4.0     0.000927     0.178568   6.0   \n",
      "4501       87.768558       1.0  0.08   1.0     0.001985     0.283298   8.0   \n",
      "3737       73.771470       1.0  0.08   1.0     0.000658     0.052132   8.0   \n",
      "9491       10.104532       1.0  0.24   4.0     0.000313     0.032113   6.0   \n",
      "\n",
      "       N_hi  run  cluster_index  job_index  \n",
      "1979  100.0   25       22996017        672  \n",
      "4501  100.0   29       23453634       4366  \n",
      "3737  100.0   29       23453634       7260  \n",
      "9491  100.0   25       22996017       3351  \n"
     ]
    }
   ],
   "source": [
    "# annihil_fits_dir = f'/home/timothytyree/Documents/GitHub/bgmc/python/data/annihil_fits.{run_num_lst[0]}.{run_num_lst[1]}.csv'\n",
    "annihil_fits_dir = f'/home/timothytyree/Documents/GitHub/bgmc/python/data/annihil_fits.'\n",
    "# annihil_fits_dir = f'/Users/timothytyree/Documents/GitHub/bgmc/python/data/annihil_fits.'\n",
    "for run_num in run_num_lst:\n",
    "    annihil_fits_dir += f\"{run_num}.\"\n",
    "annihil_fits_dir+='csv'\n",
    "print(f\"{annihil_fits_dir=}\")\n",
    "#save as .csv and send to WJ right now!\n",
    "# annihil_fits_dir = '/home/timothytyree/Documents/GitHub/bgmc/python/data/annihil_fits.csv'\n",
    "df_annihil_fits.to_csv(annihil_fits_dir,index=False)\n",
    "print(df_annihil_fits)"
   ]
  },
  {
   "cell_type": "code",
   "execution_count": 82,
   "id": "3eeaff76",
   "metadata": {
    "ExecuteTime": {
     "end_time": "2022-09-27T19:18:22.916976Z",
     "start_time": "2022-09-27T19:18:22.890369Z"
    }
   },
   "outputs": [
    {
     "name": "stdout",
     "output_type": "stream",
     "text": [
      "Table of maximum likelihood fits of linear particle model to full models.\n",
      "             model    amax     L      rmse\n",
      "1979  Fenton-Karma   1.781   5.0  0.140241\n",
      "4501  Fenton-Karma   1.780  10.0  0.190422\n",
      "3737      Luo-Rudy  10.147  10.0  0.119033\n",
      "9491      Luo-Rudy  10.149   5.0  0.194177\n"
     ]
    }
   ],
   "source": [
    "print(f\"Table of maximum likelihood fits of linear particle model to full models.\")\n",
    "print(df_annihil_fits[['model','amax','L','rmse']])"
   ]
  },
  {
   "cell_type": "markdown",
   "id": "6fc5ec56",
   "metadata": {},
   "source": [
    "# make table of powerlaw fits"
   ]
  },
  {
   "cell_type": "markdown",
   "id": "c4ea90c9",
   "metadata": {
    "ExecuteTime": {
     "end_time": "2022-09-14T21:44:46.071175Z",
     "start_time": "2022-09-14T21:44:46.050600Z"
    }
   },
   "source": [
    "- DONE: make powerlaw fits for particle model\n",
    "- DONT: plot ^those and verify they look reasonable\n",
    "- DONE: recall wjr fits\n",
    "- DONE: stack these values into a pandas data frame\n",
    "- DONE: print as table, save as powerlaw_fits.csv"
   ]
  },
  {
   "cell_type": "code",
   "execution_count": 110,
   "id": "57237def",
   "metadata": {
    "ExecuteTime": {
     "end_time": "2022-09-27T19:30:06.076368Z",
     "start_time": "2022-09-27T19:30:06.058058Z"
    },
    "run_control": {
     "marked": true
    }
   },
   "outputs": [
    {
     "data": {
      "text/plain": [
       "{'m': 1.8772341309722325,\n",
       " 'Delta_m': 0.02498750277237229,\n",
       " 'M': 5.572315674840435,\n",
       " 'Delta_M': 0.3053120355191732,\n",
       " 'b': 1.665608066257863,\n",
       " 'Delta_b': 0.029341409948945123}"
      ]
     },
     "execution_count": 110,
     "metadata": {},
     "output_type": "execute_result"
    }
   ],
   "source": [
    "wjr=recall_powerlaw_fits_to_full_models()\n",
    "wjr['fk_pbc']"
   ]
  },
  {
   "cell_type": "code",
   "execution_count": 111,
   "id": "f2e292bc",
   "metadata": {
    "ExecuteTime": {
     "end_time": "2022-09-27T19:30:06.539791Z",
     "start_time": "2022-09-27T19:30:06.507176Z"
    }
   },
   "outputs": [
    {
     "name": "stdout",
     "output_type": "stream",
     "text": [
      "\n",
      "****************************\n",
      "* Fenton-Karma:\n",
      "****************************\n",
      "model=Fenton-Karma\n",
      "L=-\n",
      "m=1.8772341309722325\n",
      "Delta_m=0.02498750277237229\n",
      "M=5.572315674840435\n",
      "Delta_M=0.3053120355191732\n",
      "B=1.665608066257863\n",
      "Delta_B=0.029341409948945123\n",
      "\n",
      "****************************\n",
      "* Luo-Rudy:\n",
      "****************************\n",
      "m=1.6375562704001745\n",
      "Delta_m=0.017190912126700632\n",
      "M=16.73559858353835\n",
      "Delta_M=0.8465090320196467\n",
      "b=2.86877101880514\n",
      "Delta_b=0.0311865277365552\n"
     ]
    },
    {
     "data": {
      "text/html": [
       "<div>\n",
       "<style scoped>\n",
       "    .dataframe tbody tr th:only-of-type {\n",
       "        vertical-align: middle;\n",
       "    }\n",
       "\n",
       "    .dataframe tbody tr th {\n",
       "        vertical-align: top;\n",
       "    }\n",
       "\n",
       "    .dataframe thead th {\n",
       "        text-align: right;\n",
       "    }\n",
       "</style>\n",
       "<table border=\"1\" class=\"dataframe\">\n",
       "  <thead>\n",
       "    <tr style=\"text-align: right;\">\n",
       "      <th></th>\n",
       "      <th>model</th>\n",
       "      <th>L</th>\n",
       "      <th>m</th>\n",
       "      <th>Delta_m</th>\n",
       "      <th>M</th>\n",
       "      <th>Delta_M</th>\n",
       "      <th>B</th>\n",
       "      <th>Delta_B</th>\n",
       "    </tr>\n",
       "  </thead>\n",
       "  <tbody>\n",
       "    <tr>\n",
       "      <th>0</th>\n",
       "      <td>Fenton-Karma</td>\n",
       "      <td>-</td>\n",
       "      <td>1.877234</td>\n",
       "      <td>0.024988</td>\n",
       "      <td>5.572316</td>\n",
       "      <td>0.305312</td>\n",
       "      <td>1.665608</td>\n",
       "      <td>0.029341</td>\n",
       "    </tr>\n",
       "    <tr>\n",
       "      <th>1</th>\n",
       "      <td>Luo-Rudy</td>\n",
       "      <td>-</td>\n",
       "      <td>1.637556</td>\n",
       "      <td>0.017191</td>\n",
       "      <td>16.735599</td>\n",
       "      <td>0.846509</td>\n",
       "      <td>2.868771</td>\n",
       "      <td>0.031187</td>\n",
       "    </tr>\n",
       "  </tbody>\n",
       "</table>\n",
       "</div>"
      ],
      "text/plain": [
       "          model  L         m   Delta_m          M   Delta_M         B  \\\n",
       "0  Fenton-Karma  -  1.877234  0.024988   5.572316  0.305312  1.665608   \n",
       "1      Luo-Rudy  -  1.637556  0.017191  16.735599  0.846509  2.868771   \n",
       "\n",
       "    Delta_B  \n",
       "0  0.029341  \n",
       "1  0.031187  "
      ]
     },
     "execution_count": 111,
     "metadata": {},
     "output_type": "execute_result"
    }
   ],
   "source": [
    "dict_fit_lst_full=[]\n",
    "\n",
    "model_str_fk='Fenton-Karma'\n",
    "model_str=model_str_fk\n",
    "print(\"\\n****************************\")\n",
    "print(f\"* {model_str}:\")\n",
    "print(\"****************************\")\n",
    "dict_fit=dict(model=model_str,\n",
    "              L='-',#np.nan,\n",
    "              m=wjr['fk_pbc']['m'],\n",
    "              Delta_m=wjr['fk_pbc']['Delta_m'],\n",
    "              M=wjr['fk_pbc']['M'],\n",
    "              Delta_M=wjr['fk_pbc']['Delta_M'],\n",
    "              B=wjr['fk_pbc']['b'],\n",
    "              Delta_B=wjr['fk_pbc']['Delta_b']\n",
    "              )\n",
    "dict_fit_lst_full.append(dict_fit)\n",
    "print_dict(dict_fit)\n",
    "\n",
    "model_str_lr='Luo-Rudy'\n",
    "model_str=model_str_lr\n",
    "print(\"\\n****************************\")\n",
    "print(f\"* {model_str}:\")\n",
    "print(\"****************************\")\n",
    "print_dict(wjr['lr_pbc'])\n",
    "dict_fit=dict(model=model_str,\n",
    "              L='-',#np.nan,\n",
    "              m=wjr['lr_pbc']['m'],\n",
    "              Delta_m=wjr['lr_pbc']['Delta_m'],\n",
    "              M=wjr['lr_pbc']['M'],\n",
    "              Delta_M=wjr['lr_pbc']['Delta_M'],\n",
    "              B=wjr['lr_pbc']['b'],\n",
    "              Delta_B=wjr['lr_pbc']['Delta_b']\n",
    "              )\n",
    "dict_fit_lst_full.append(dict_fit)\n",
    "# print_dict(dict_fit)\n",
    "df_fit_full=pd.DataFrame(dict_fit_lst_full)\n",
    "df_fit_full"
   ]
  },
  {
   "cell_type": "code",
   "execution_count": null,
   "id": "856df144",
   "metadata": {},
   "outputs": [],
   "source": [
    "df_fit_full"
   ]
  },
  {
   "cell_type": "code",
   "execution_count": 22,
   "id": "37701f1a",
   "metadata": {
    "ExecuteTime": {
     "end_time": "2022-09-27T19:11:13.670657Z",
     "start_time": "2022-09-27T19:11:13.606830Z"
    }
   },
   "outputs": [
    {
     "name": "stdout",
     "output_type": "stream",
     "text": [
      "\n",
      "****************************\n",
      "* Fenton-Karma:\n",
      "****************************\n",
      "m = 1.916200 +/- 0.060663\n",
      "M = 4.515501 +/- 0.495312 Hz/cm^2; B=2.196185 +/- 0.063511\n",
      "RMSE=0.9182 Hz/cm^2; R^2=0.9892; N=44\n",
      "m = 1.803820 +/- 0.024351\n",
      "M = 4.960711 +/- 0.218099 Hz/cm^2; B=2.429937 +/- 0.028620\n",
      "RMSE=0.1553 Hz/cm^2; R^2=0.9958; N=91\n",
      "\n",
      "****************************\n",
      "* Luo-Rudy:\n",
      "****************************\n",
      "m = 1.616659 +/- 0.031761\n",
      "M = 14.974248 +/- 1.230887 Hz/cm^2; B=5.333609 +/- 0.084226\n",
      "RMSE=1.2579 Hz/cm^2; R^2=0.9958; N=44\n",
      "m = 1.612965 +/- 0.014236\n",
      "M = 15.355886 +/- 0.566430 Hz/cm^2; B=5.438288 +/- 0.040640\n",
      "RMSE=0.2679 Hz/cm^2; R^2=0.9982; N=91\n"
     ]
    },
    {
     "data": {
      "text/html": [
       "<div>\n",
       "<style scoped>\n",
       "    .dataframe tbody tr th:only-of-type {\n",
       "        vertical-align: middle;\n",
       "    }\n",
       "\n",
       "    .dataframe tbody tr th {\n",
       "        vertical-align: top;\n",
       "    }\n",
       "\n",
       "    .dataframe thead th {\n",
       "        text-align: right;\n",
       "    }\n",
       "</style>\n",
       "<table border=\"1\" class=\"dataframe\">\n",
       "  <thead>\n",
       "    <tr style=\"text-align: right;\">\n",
       "      <th></th>\n",
       "      <th>rmse</th>\n",
       "      <th>Rsq</th>\n",
       "      <th>num_obs</th>\n",
       "      <th>m</th>\n",
       "      <th>Delta_m</th>\n",
       "      <th>M</th>\n",
       "      <th>Delta_M</th>\n",
       "      <th>B</th>\n",
       "      <th>Delta_B</th>\n",
       "      <th>r</th>\n",
       "      <th>kappa</th>\n",
       "      <th>D</th>\n",
       "      <th>varkappa</th>\n",
       "      <th>model</th>\n",
       "      <th>L</th>\n",
       "    </tr>\n",
       "  </thead>\n",
       "  <tbody>\n",
       "    <tr>\n",
       "      <th>0</th>\n",
       "      <td>0.918185</td>\n",
       "      <td>0.989161</td>\n",
       "      <td>44</td>\n",
       "      <td>1.916200</td>\n",
       "      <td>0.060663</td>\n",
       "      <td>4.515501</td>\n",
       "      <td>0.495312</td>\n",
       "      <td>2.196185</td>\n",
       "      <td>0.063511</td>\n",
       "      <td>0.020</td>\n",
       "      <td>880.0</td>\n",
       "      <td>0.114</td>\n",
       "      <td>1.553</td>\n",
       "      <td>Fenton-Karma</td>\n",
       "      <td>5</td>\n",
       "    </tr>\n",
       "    <tr>\n",
       "      <th>1</th>\n",
       "      <td>0.155328</td>\n",
       "      <td>0.995796</td>\n",
       "      <td>91</td>\n",
       "      <td>1.803820</td>\n",
       "      <td>0.024351</td>\n",
       "      <td>4.960711</td>\n",
       "      <td>0.218099</td>\n",
       "      <td>2.429937</td>\n",
       "      <td>0.028620</td>\n",
       "      <td>0.095</td>\n",
       "      <td>250.0</td>\n",
       "      <td>0.050</td>\n",
       "      <td>1.680</td>\n",
       "      <td>Fenton-Karma</td>\n",
       "      <td>10</td>\n",
       "    </tr>\n",
       "    <tr>\n",
       "      <th>2</th>\n",
       "      <td>1.257873</td>\n",
       "      <td>0.995798</td>\n",
       "      <td>44</td>\n",
       "      <td>1.616659</td>\n",
       "      <td>0.031761</td>\n",
       "      <td>14.974248</td>\n",
       "      <td>1.230887</td>\n",
       "      <td>5.333609</td>\n",
       "      <td>0.084226</td>\n",
       "      <td>0.100</td>\n",
       "      <td>370.0</td>\n",
       "      <td>0.090</td>\n",
       "      <td>9.969</td>\n",
       "      <td>Luo-Rudy</td>\n",
       "      <td>5</td>\n",
       "    </tr>\n",
       "    <tr>\n",
       "      <th>3</th>\n",
       "      <td>0.267911</td>\n",
       "      <td>0.998199</td>\n",
       "      <td>91</td>\n",
       "      <td>1.612965</td>\n",
       "      <td>0.014236</td>\n",
       "      <td>15.355886</td>\n",
       "      <td>0.566430</td>\n",
       "      <td>5.438288</td>\n",
       "      <td>0.040640</td>\n",
       "      <td>0.140</td>\n",
       "      <td>350.0</td>\n",
       "      <td>0.050</td>\n",
       "      <td>10.047</td>\n",
       "      <td>Luo-Rudy</td>\n",
       "      <td>10</td>\n",
       "    </tr>\n",
       "  </tbody>\n",
       "</table>\n",
       "</div>"
      ],
      "text/plain": [
       "       rmse       Rsq  num_obs         m   Delta_m          M   Delta_M  \\\n",
       "0  0.918185  0.989161       44  1.916200  0.060663   4.515501  0.495312   \n",
       "1  0.155328  0.995796       91  1.803820  0.024351   4.960711  0.218099   \n",
       "2  1.257873  0.995798       44  1.616659  0.031761  14.974248  1.230887   \n",
       "3  0.267911  0.998199       91  1.612965  0.014236  15.355886  0.566430   \n",
       "\n",
       "          B   Delta_B      r  kappa      D  varkappa         model   L  \n",
       "0  2.196185  0.063511  0.020  880.0  0.114     1.553  Fenton-Karma   5  \n",
       "1  2.429937  0.028620  0.095  250.0  0.050     1.680  Fenton-Karma  10  \n",
       "2  5.333609  0.084226  0.100  370.0  0.090     9.969      Luo-Rudy   5  \n",
       "3  5.438288  0.040640  0.140  350.0  0.050    10.047      Luo-Rudy  10  "
      ]
     },
     "execution_count": 22,
     "metadata": {},
     "output_type": "execute_result"
    }
   ],
   "source": [
    "# gener_annihil_powerlaw_fit_ols for particle model\n",
    "dict_fit_lst=[]\n",
    "\n",
    "model_str=model_str_fk\n",
    "print(\"\\n****************************\")\n",
    "print(f\"* {model_str}:\")\n",
    "print(\"****************************\")\n",
    "# Linear Particle (L=5)\n",
    "df_fit = dict_results_fk_lst[0]['df_fit'].sort_values(by='q')\n",
    "dict_fit = gener_annihil_powerlaw_fit_ols(df=df_fit,\n",
    "                                          qmin=0.1,qmax=2)\n",
    "dict_fit.update(dict(df_fit[['r','kappa','D','varkappa']].drop_duplicates().iloc[0]))\n",
    "dict_fit['model']=model_str\n",
    "dict_fit['L']=5\n",
    "dict_fit_lst.append(dict_fit)\n",
    "\n",
    "# Linear Particle (L=10)\n",
    "df_fit = dict_results_fk_lst[1]['df_fit'].sort_values(by='q')\n",
    "dict_fit = gener_annihil_powerlaw_fit_ols(df=df_fit,\n",
    "                                          qmin=0.1,qmax=2)\n",
    "dict_fit.update(dict(df_fit[['r','kappa','D','varkappa']].drop_duplicates().iloc[0]))\n",
    "dict_fit['model']=model_str\n",
    "dict_fit['L']=10\n",
    "dict_fit_lst.append(dict_fit)\n",
    "\n",
    "model_str=model_str_lr\n",
    "print(\"\\n****************************\")\n",
    "print(f\"* {model_str}:\")\n",
    "print(\"****************************\")\n",
    "# Linear Particle (L=5)\n",
    "df_fit = dict_results_lr_lst[0]['df_fit'].sort_values(by='q')\n",
    "dict_fit = gener_annihil_powerlaw_fit_ols(df=df_fit,\n",
    "                                          qmin=0.1,qmax=2)\n",
    "dict_fit.update(dict(df_fit[['r','kappa','D','varkappa']].drop_duplicates().iloc[0]))\n",
    "dict_fit['model']=model_str\n",
    "dict_fit['L']=5\n",
    "dict_fit_lst.append(dict_fit)\n",
    "\n",
    "# Linear Particle (L=10)\n",
    "df_fit = dict_results_lr_lst[1]['df_fit'].sort_values(by='q')\n",
    "dict_fit = gener_annihil_powerlaw_fit_ols(df=df_fit,\n",
    "                                          qmin=0.1,qmax=2)\n",
    "dict_fit.update(dict(df_fit[['r','kappa','D','varkappa']].drop_duplicates().iloc[0]))\n",
    "dict_fit['model']=model_str\n",
    "dict_fit['L']=10\n",
    "dict_fit_lst.append(dict_fit)\n",
    "df_fit_particle = pd.DataFrame(dict_fit_lst)\n",
    "df_fit_particle"
   ]
  },
  {
   "cell_type": "code",
   "execution_count": 23,
   "id": "f8321261",
   "metadata": {
    "ExecuteTime": {
     "end_time": "2022-09-27T19:11:14.455561Z",
     "start_time": "2022-09-27T19:11:14.433658Z"
    }
   },
   "outputs": [
    {
     "name": "stdout",
     "output_type": "stream",
     "text": [
      "       rmse       Rsq  num_obs         m   Delta_m          M   Delta_M  \\\n",
      "0  0.918185  0.989161     44.0  1.916200  0.060663   4.515501  0.495312   \n",
      "1  0.155328  0.995796     91.0  1.803820  0.024351   4.960711  0.218099   \n",
      "2  1.257873  0.995798     44.0  1.616659  0.031761  14.974248  1.230887   \n",
      "3  0.267911  0.998199     91.0  1.612965  0.014236  15.355886  0.566430   \n",
      "0       NaN       NaN      NaN  1.877234  0.024988   5.572316  0.305312   \n",
      "1       NaN       NaN      NaN  1.637556  0.017191  16.735599  0.846509   \n",
      "\n",
      "          B   Delta_B      r  kappa      D  varkappa         model   L  \n",
      "0  2.196185  0.063511  0.020  880.0  0.114     1.553  Fenton-Karma   5  \n",
      "1  2.429937  0.028620  0.095  250.0  0.050     1.680  Fenton-Karma  10  \n",
      "2  5.333609  0.084226  0.100  370.0  0.090     9.969      Luo-Rudy   5  \n",
      "3  5.438288  0.040640  0.140  350.0  0.050    10.047      Luo-Rudy  10  \n",
      "0  1.665608  0.029341    NaN    NaN    NaN       NaN  Fenton-Karma   -  \n",
      "1  2.868771  0.031187    NaN    NaN    NaN       NaN      Luo-Rudy   -  \n"
     ]
    }
   ],
   "source": [
    "col_lst=list(df_fit_full.columns)\n",
    "df_fit=pd.concat((df_fit_particle,df_fit_full))\n",
    "col_lst=['model', 'L', 'm', 'Delta_m', 'M', 'Delta_M']\n",
    "print(df_fit)"
   ]
  },
  {
   "cell_type": "code",
   "execution_count": 26,
   "id": "d53d9a46",
   "metadata": {
    "ExecuteTime": {
     "end_time": "2022-09-27T19:11:34.104702Z",
     "start_time": "2022-09-27T19:11:34.080221Z"
    }
   },
   "outputs": [
    {
     "name": "stdout",
     "output_type": "stream",
     "text": [
      "model     Luo-Rudy                         Fenton-Karma              \\\n",
      "L                -          10           5            -          10   \n",
      "m         1.637556    1.612965    1.616659     1.877234    1.803820   \n",
      "Delta_m   0.017191    0.014236    0.031761     0.024988    0.024351   \n",
      "M        16.735599   15.355886   14.974248     5.572316    4.960711   \n",
      "Delta_M   0.846509    0.566430    1.230887     0.305312    0.218099   \n",
      "r              NaN    0.140000    0.100000          NaN    0.095000   \n",
      "kappa          NaN  350.000000  370.000000          NaN  250.000000   \n",
      "delta          NaN   21.551326   11.623893          NaN    7.088218   \n",
      "a              NaN   10.047000    9.969000          NaN    1.680000   \n",
      "D              NaN    0.050000    0.090000          NaN    0.050000   \n",
      "\n",
      "model                \n",
      "L                 5  \n",
      "m          1.916200  \n",
      "Delta_m    0.060663  \n",
      "M          4.515501  \n",
      "Delta_M    0.495312  \n",
      "r          0.020000  \n",
      "kappa    880.000000  \n",
      "delta      1.105841  \n",
      "a          1.553000  \n",
      "D          0.114000  \n"
     ]
    }
   ],
   "source": [
    "#format as pandas table\n",
    "mindex_lst=['model', 'L']\n",
    "df_fit['delta'] = np.pi*df_fit['r']**2*df_fit['kappa']\n",
    "df_fit['a'] = df_fit['varkappa']\n",
    "df_table_powerlaw=df_fit.sort_values(by=mindex_lst,ascending=False)\\\n",
    "               .set_index(mindex_lst)[['m', 'Delta_m', 'M', 'Delta_M', 'r','kappa', 'delta', 'a', 'D']].T\n",
    "print(df_table_powerlaw)"
   ]
  },
  {
   "cell_type": "code",
   "execution_count": null,
   "id": "471f830f",
   "metadata": {
    "ExecuteTime": {
     "end_time": "2022-09-21T22:00:19.446631Z",
     "start_time": "2022-09-21T22:00:19.274324Z"
    }
   },
   "outputs": [],
   "source": []
  },
  {
   "cell_type": "code",
   "execution_count": 27,
   "id": "e95d7f22",
   "metadata": {
    "ExecuteTime": {
     "end_time": "2022-09-27T19:11:35.633257Z",
     "start_time": "2022-09-27T19:11:35.598563Z"
    }
   },
   "outputs": [],
   "source": [
    "# #TODO(later...): plot the powerlaw fits overlayed on the y-axis\n",
    "# m=wjr['fk_pbc']['m']\n",
    "# M=wjr['fk_pbc']['M']\n",
    "# yhat=M*x**m"
   ]
  },
  {
   "cell_type": "code",
   "execution_count": 28,
   "id": "6080e402",
   "metadata": {
    "ExecuteTime": {
     "end_time": "2022-09-27T19:11:35.920548Z",
     "start_time": "2022-09-27T19:11:35.900452Z"
    }
   },
   "outputs": [],
   "source": [
    "#DONE: restart run run but with neighbors=0,1"
   ]
  },
  {
   "cell_type": "code",
   "execution_count": 29,
   "id": "c558e6b4",
   "metadata": {
    "ExecuteTime": {
     "end_time": "2022-09-27T19:11:36.229500Z",
     "start_time": "2022-09-27T19:11:36.211174Z"
    }
   },
   "outputs": [],
   "source": [
    "# #howdo plot lotsa bars \n",
    "# f, axarr = plt.subplots(2)\n",
    "\n",
    "# axarr[0].bar(range(10), range(10))\n",
    "# axarr[0].tick_params(labelbottom=False, labeltop=True, labelleft=False, labelright=False,\n",
    "#                      bottom=False, top=True, left=False, right=False)\n",
    "\n",
    "# axarr[1].bar(range(10), range(10, 0, -1))\n",
    "# axarr[1].tick_params(labelbottom=True, labeltop=False, labelleft=False, labelright=False,\n",
    "#                      bottom=True, top=False, left=False, right=False)"
   ]
  },
  {
   "cell_type": "markdown",
   "id": "b8cd69b5",
   "metadata": {},
   "source": [
    "# generate minimalist latex tables with formatted dataframes from above"
   ]
  },
  {
   "cell_type": "code",
   "execution_count": 30,
   "id": "50237b4d",
   "metadata": {
    "ExecuteTime": {
     "end_time": "2022-09-27T19:11:36.924576Z",
     "start_time": "2022-09-27T19:11:36.903810Z"
    }
   },
   "outputs": [
    {
     "name": "stdout",
     "output_type": "stream",
     "text": [
      "key = 0.000000 +/- 0.123468\n"
     ]
    }
   ],
   "source": [
    "string = format_measurement_string(key='key',val=0,Delta_val=0.123467890,num_digits=6)\n",
    "print(string)"
   ]
  },
  {
   "cell_type": "code",
   "execution_count": 31,
   "id": "053a6b6f",
   "metadata": {
    "ExecuteTime": {
     "end_time": "2022-09-27T19:11:37.934248Z",
     "start_time": "2022-09-27T19:11:37.903404Z"
    }
   },
   "outputs": [
    {
     "name": "stdout",
     "output_type": "stream",
     "text": [
      "\n",
      "% df_table_powerlaw\n",
      "% \\caption{Table of powerlaw fits of maximum likelihood fits of pair annihilation rates.}\n",
      "model     Luo-Rudy                         Fenton-Karma              \\\n",
      "L                -          10           5            -          10   \n",
      "m         1.637556    1.612965    1.616659     1.877234    1.803820   \n",
      "Delta_m   0.017191    0.014236    0.031761     0.024988    0.024351   \n",
      "M        16.735599   15.355886   14.974248     5.572316    4.960711   \n",
      "Delta_M   0.846509    0.566430    1.230887     0.305312    0.218099   \n",
      "r              NaN    0.140000    0.100000          NaN    0.095000   \n",
      "kappa          NaN  350.000000  370.000000          NaN  250.000000   \n",
      "delta          NaN   21.551326   11.623893          NaN    7.088218   \n",
      "a              NaN   10.047000    9.969000          NaN    1.680000   \n",
      "D              NaN    0.050000    0.090000          NaN    0.050000   \n",
      "\n",
      "model                \n",
      "L                 5  \n",
      "m          1.916200  \n",
      "Delta_m    0.060663  \n",
      "M          4.515501  \n",
      "Delta_M    0.495312  \n",
      "r          0.020000  \n",
      "kappa    880.000000  \n",
      "delta      1.105841  \n",
      "a          1.553000  \n",
      "D          0.114000  \n",
      "\n",
      "% df_table_mle\n",
      "% \\caption{Table of maximum likelihood fits of pair annihilation rates to the full models (complete table in Supplementary).}\n",
      "model   Luo-Rudy            Fenton-Karma          \n",
      "L           10.0       5.0          10.0      5.0 \n",
      "amax   10.147000  10.149000     1.780000  1.781000\n",
      "rmse    0.119033   0.194177     0.190422  0.140241\n",
      "\n",
      "% df_table_mle_complete\n",
      "% \\caption{Table of maximum likelihood fits of pair annihilation rates to the full models.}\n",
      "model               Luo-Rudy                Fenton-Karma              \n",
      "L                       10.0          5.0           10.0          5.0 \n",
      "amax            1.014700e+01  1.014900e+01  1.780000e+00  1.781000e+00\n",
      "varkappa        1.004700e+01  9.969000e+00  1.680000e+00  1.553000e+00\n",
      "D               5.000000e-02  9.000000e-02  5.000000e-02  1.140000e-01\n",
      "r               1.400000e-01  1.000000e-01  9.500000e-02  2.000000e-02\n",
      "kappa           3.500000e+02  3.700000e+02  2.500000e+02  8.800000e+02\n",
      "rmse            1.190332e-01  1.941768e-01  1.904222e-01  1.402414e-01\n",
      "log_likelihood  7.377147e+01  1.010453e+01  8.776856e+01  7.030700e+00\n",
      "neighbor        1.000000e+00  1.000000e+00  1.000000e+00  1.000000e+00\n",
      "q_lo            8.000000e-02  2.400000e-01  8.000000e-02  2.400000e-01\n",
      "q_hi            1.000000e+00  4.000000e+00  1.000000e+00  4.000000e+00\n",
      "CollTime_lo     6.580000e-04  3.130000e-04  1.985000e-03  9.270000e-04\n",
      "CollTime_hi     5.213200e-02  3.211300e-02  2.832980e-01  1.785680e-01\n",
      "N_lo            8.000000e+00  6.000000e+00  8.000000e+00  6.000000e+00\n",
      "N_hi            1.000000e+02  1.000000e+02  1.000000e+02  1.000000e+02\n",
      "run             2.900000e+01  2.500000e+01  2.900000e+01  2.500000e+01\n",
      "cluster_index   2.345363e+07  2.299602e+07  2.345363e+07  2.299602e+07\n",
      "job_index       7.260000e+03  3.351000e+03  4.366000e+03  6.720000e+02\n"
     ]
    }
   ],
   "source": [
    "print(\"\\n% df_table_powerlaw\")\n",
    "print(f\"% \\caption{{Table of powerlaw fits of maximum likelihood fits of pair annihilation rates.}}\")\n",
    "print(df_table_powerlaw)\n",
    "\n",
    "print(\"\\n% df_table_mle\")\n",
    "print(f\"% \\caption{{Table of maximum likelihood fits of pair annihilation rates to the full models (complete table in Supplementary).}}\")\n",
    "df_table_mle=df_annihil_fits.sort_values(by=mindex_lst,ascending=False)\\\n",
    "               .set_index(mindex_lst)[['amax','rmse']].T\n",
    "print(df_table_mle)\n",
    "\n",
    "\n",
    "print(\"\\n% df_table_mle_complete\")\n",
    "print(f\"% \\caption{{Table of maximum likelihood fits of pair annihilation rates to the full models.}}\")\n",
    "df_table_mle_complete=df_annihil_fits.sort_values(by=mindex_lst,ascending=False)\\\n",
    "               .set_index(mindex_lst).T #[['m', 'Delta_m', 'M', 'Delta_M']].T\n",
    "print(df_table_mle_complete)\n",
    "\n"
   ]
  },
  {
   "cell_type": "code",
   "execution_count": null,
   "id": "3025c15f",
   "metadata": {},
   "outputs": [],
   "source": []
  },
  {
   "cell_type": "code",
   "execution_count": 32,
   "id": "7e49b640",
   "metadata": {
    "ExecuteTime": {
     "end_time": "2022-09-27T19:11:38.921081Z",
     "start_time": "2022-09-27T19:11:38.877651Z"
    }
   },
   "outputs": [
    {
     "name": "stdout",
     "output_type": "stream",
     "text": [
      "% ****************************\n",
      "% * Generated LaTeX tables\n",
      "% **************************\n",
      "% df_table_powerlaw\n",
      "% \begin{ruledtabular}\n",
      "% \begin{tabular}{cccccc}\n",
      "\\begin{table}\n",
      "\\centering\n",
      "\\caption{shows powerlaw fits  to the mean pair-annihilation rates for the full models and for the linear particle models at a relatively short length scale ($L=5$ cm) and at a relatively long length scale ($L=10$ cm).  Parameter settings for the linear particle model correspond to Tab. \r",
      "ef{tab:df_table_mle_complete}}\\label{tab:df_table_powerlaw})}\n",
      "\\begin{tabular}{lrrrrrr}\n",
      "\\toprule\n",
      "  index & \\multicolumn{3}{c}{Luo-Rudy} & \\multicolumn{3}{c}{Fenton-Karma} \\\\\n",
      "        &        - &       10 &        5 &            - &       10 &        5 \\\\\n",
      "\\midrule\n",
      "      m &   1.6376 &   1.6130 &   1.6167 &       1.8772 &   1.8038 &   1.9162 \\\\\n",
      "Delta\\_m &   0.0172 &   0.0142 &   0.0318 &       0.0250 &   0.0244 &   0.0607 \\\\\n",
      "      M &  16.7356 &  15.3559 &  14.9742 &       5.5723 &   4.9607 &   4.5155 \\\\\n",
      "Delta\\_M &   0.8465 &   0.5664 &   1.2309 &       0.3053 &   0.2181 &   0.4953 \\\\\n",
      "      r &      NaN &   0.1400 &   0.1000 &          NaN &   0.0950 &   0.0200 \\\\\n",
      "  kappa &      NaN & 350.0000 & 370.0000 &          NaN & 250.0000 & 880.0000 \\\\\n",
      "  delta &      NaN &  21.5513 &  11.6239 &          NaN &   7.0882 &   1.1058 \\\\\n",
      "      a &      NaN &  10.0470 &   9.9690 &          NaN &   1.6800 &   1.5530 \\\\\n",
      "      D &      NaN &   0.0500 &   0.0900 &          NaN &   0.0500 &   0.1140 \\\\\n",
      "\\bottomrule\n",
      "\\end{tabular}\n",
      "\\end{table}\n",
      "\n",
      "\n",
      "% df_table_mle\n",
      "% \begin{ruledtabular}\n",
      "% \begin{tabular}{cccccc}\n",
      "\\begin{table}\n",
      "\\centering\n",
      "\\caption{Table of maximum likelihood fits of pair annihilation rates to the full models (complete table in Supplementary).}\\label{tab:df_table_mle}}\n",
      "\\begin{tabular}{lrrrr}\n",
      "\\toprule\n",
      "index & \\multicolumn{2}{c}{Luo-Rudy} & \\multicolumn{2}{c}{Fenton-Karma} \\\\\n",
      "      &     10.0 &     5.0 &         10.0 &    5.0 \\\\\n",
      "\\midrule\n",
      " amax &  10.1470 & 10.1490 &       1.7800 & 1.7810 \\\\\n",
      " rmse &   0.1190 &  0.1942 &       0.1904 & 0.1402 \\\\\n",
      "\\bottomrule\n",
      "\\end{tabular}\n",
      "\\end{table}\n",
      "\n",
      "\n",
      "% df_table_mle_complete\n",
      "% \begin{ruledtabular}\n",
      "% \begin{tabular}{cccccc}\n",
      "\\begin{table}\n",
      "\\centering\n",
      "\\caption{shows maximum likelihood fits of the mean pair-annihilation rates of the linear particle model to those of the full models. Results are shown for the linear particle model at a relatively short length scale ($L=5$ cm) and at a relatively long length scale ($L=10$ cm).}\\label{tab:df_table_mle_complete}}\n",
      "\\begin{tabular}{lrrrr}\n",
      "\\toprule\n",
      "         index & \\multicolumn{2}{c}{Luo-Rudy} & \\multicolumn{2}{c}{Fenton-Karma} \\\\\n",
      "               &          10.0 &           5.0 &          10.0 &           5.0 \\\\\n",
      "\\midrule\n",
      "          amax &       10.1470 &       10.1490 &        1.7800 &        1.7810 \\\\\n",
      "      varkappa &       10.0470 &        9.9690 &        1.6800 &        1.5530 \\\\\n",
      "             D &        0.0500 &        0.0900 &        0.0500 &        0.1140 \\\\\n",
      "             r &        0.1400 &        0.1000 &        0.0950 &        0.0200 \\\\\n",
      "         kappa &      350.0000 &      370.0000 &      250.0000 &      880.0000 \\\\\n",
      "          rmse &        0.1190 &        0.1942 &        0.1904 &        0.1402 \\\\\n",
      "log\\_likelihood &       73.7715 &       10.1045 &       87.7686 &        7.0307 \\\\\n",
      "      neighbor &        1.0000 &        1.0000 &        1.0000 &        1.0000 \\\\\n",
      "          q\\_lo &        0.0800 &        0.2400 &        0.0800 &        0.2400 \\\\\n",
      "          q\\_hi &        1.0000 &        4.0000 &        1.0000 &        4.0000 \\\\\n",
      "   CollTime\\_lo &        0.0007 &        0.0003 &        0.0020 &        0.0009 \\\\\n",
      "   CollTime\\_hi &        0.0521 &        0.0321 &        0.2833 &        0.1786 \\\\\n",
      "          N\\_lo &        8.0000 &        6.0000 &        8.0000 &        6.0000 \\\\\n",
      "          N\\_hi &      100.0000 &      100.0000 &      100.0000 &      100.0000 \\\\\n",
      "           run &       29.0000 &       25.0000 &       29.0000 &       25.0000 \\\\\n",
      " cluster\\_index & 23453634.0000 & 22996017.0000 & 23453634.0000 & 22996017.0000 \\\\\n",
      "     job\\_index &     7260.0000 &     3351.0000 &     4366.0000 &      672.0000 \\\\\n",
      "\\bottomrule\n",
      "\\end{tabular}\n",
      "\\end{table}\n",
      "\n"
     ]
    }
   ],
   "source": [
    "##############################\n",
    "# LaTeX table generation\n",
    "##############################\n",
    "print(\"% ****************************\")\n",
    "print(\"% * Generated LaTeX tables\")\n",
    "print(\"% **************************\")\n",
    "kwargs_table_2_levels=dict(float_format=\"{:0.4f}\".format,\n",
    "                          multicolumn_format='c',\n",
    "#                            column_format='c',\n",
    "#                            caption=('Table. ?? shows full\\_caption', 'Table. ?? short\\_caption.'),\n",
    "#                            longtable=True #Requires adding a usepackage{longtable} to your LaTeX preamble.\n",
    "                          )\n",
    "print(\"% df_table_powerlaw\")\n",
    "print(\"% \\begin{ruledtabular}\")\n",
    "print(\"% \\begin{tabular}{cccccc}\")\n",
    "print(df_table_powerlaw.reset_index().to_latex(index=False, \n",
    "                                               caption='shows powerlaw fits  to the mean pair-annihilation rates for the full models and for the linear particle models at a relatively short length scale ($L=5$ cm) and at a relatively long length scale ($L=10$ cm).  Parameter settings for the linear particle model correspond to Tab. \\ref{tab:df_table_mle_complete}}\\label{tab:df_table_powerlaw})',\n",
    "                                               **kwargs_table_2_levels))\n",
    "# print(f\"% \\caption{{Table of powerlaw fits of maximum likelihood fits of pair annihilation rates.}}\\label{{tab:df_table_powerlaw}})\")\n",
    "\n",
    "print(\"\\n% df_table_mle\")\n",
    "print(\"% \\begin{ruledtabular}\")\n",
    "print(\"% \\begin{tabular}{cccccc}\")\n",
    "print(df_table_mle.reset_index().to_latex(index=False, \n",
    "                                          caption='Table of maximum likelihood fits of pair annihilation rates to the full models (complete table in Supplementary).}\\label{tab:df_table_mle}',\n",
    "                                          **kwargs_table_2_levels))\n",
    "# print(f\"% \\caption{{Table of maximum likelihood fits of pair annihilation rates to the full models (complete table in Supplementary).}}\\label{{tab:df_table_mle}}\")\n",
    "\n",
    "print(\"\\n% df_table_mle_complete\")\n",
    "print(\"% \\begin{ruledtabular}\")\n",
    "print(\"% \\begin{tabular}{cccccc}\")\n",
    "print(df_table_mle_complete.reset_index().to_latex(index=False, \n",
    "                                                   caption='shows maximum likelihood fits of the mean pair-annihilation rates of the linear particle model to those of the full models. Results are shown for the linear particle model at a relatively short length scale ($L=5$ cm) and at a relatively long length scale ($L=10$ cm).}\\label{tab:df_table_mle_complete}',\n",
    "                                                   **kwargs_table_2_levels))\n",
    "# print(f\"% \\caption{{Table of maximum likelihood fits of pair annihilation rates to the full models.}}\\label{{tab:df_table_mle_complete}}\")"
   ]
  },
  {
   "cell_type": "code",
   "execution_count": null,
   "id": "7ebf6435",
   "metadata": {},
   "outputs": [],
   "source": []
  },
  {
   "cell_type": "code",
   "execution_count": 33,
   "id": "32dd3459",
   "metadata": {
    "ExecuteTime": {
     "end_time": "2022-09-27T19:11:39.900722Z",
     "start_time": "2022-09-27T19:11:39.883926Z"
    }
   },
   "outputs": [],
   "source": [
    "# df_table_mle_complete.to_latex?"
   ]
  },
  {
   "cell_type": "code",
   "execution_count": 34,
   "id": "6b524d21",
   "metadata": {
    "ExecuteTime": {
     "end_time": "2022-09-27T19:11:41.094220Z",
     "start_time": "2022-09-27T19:11:41.077525Z"
    }
   },
   "outputs": [],
   "source": [
    "#DONE: dev foo that maps a .csv to a latex table\n",
    "#HINT: search stackoverflow\n",
    "#TODO: make mle parameter table into latex table\n",
    "#HINT: query the dataframe and then search stackoverflow\n",
    "#DONT: wrap in modules of foo. just use pandas.DataFrame.to_latex? in the future"
   ]
  },
  {
   "cell_type": "markdown",
   "id": "d7846e8d",
   "metadata": {},
   "source": [
    "# DONE: plot the fits for increasing/decreasing D at the shorter length scale\n",
    "TODO: answer Q: \n",
    "- Q: does it make sense to plot other variables versus D?"
   ]
  },
  {
   "cell_type": "code",
   "execution_count": 35,
   "id": "faee48bf",
   "metadata": {
    "ExecuteTime": {
     "end_time": "2022-09-27T19:11:41.927514Z",
     "start_time": "2022-09-27T19:11:41.897463Z"
    }
   },
   "outputs": [],
   "source": [
    "# df_fit = dict_results_fk_lst[0]['df_fit'].sort_values(by='q')\n",
    "# dict_fit = gener_annihil_powerlaw_fit_ols(df=df_fit,\n",
    "#                                           qmin=0.1,qmax=2)"
   ]
  },
  {
   "cell_type": "code",
   "execution_count": 36,
   "id": "17884b8f",
   "metadata": {
    "ExecuteTime": {
     "end_time": "2022-09-27T19:11:42.425744Z",
     "start_time": "2022-09-27T19:11:42.401888Z"
    }
   },
   "outputs": [],
   "source": [
    "#option 1:\n",
    "#TODO: look for a summary dataframe and use it to query my filesystem\n",
    "#option 2:\n",
    "#TODO: copy where I generate dict_results_fk_lst[0]"
   ]
  },
  {
   "cell_type": "code",
   "execution_count": 288,
   "id": "a8aee329",
   "metadata": {
    "ExecuteTime": {
     "end_time": "2022-09-27T21:55:10.251019Z",
     "start_time": "2022-09-27T21:55:09.598759Z"
    }
   },
   "outputs": [
    {
     "name": "stdout",
     "output_type": "stream",
     "text": [
      "\n",
      "**************************************\n",
      "* Fenton-Karma Model (best settings):\n",
      "**************************************\n",
      "amax=1.7810, rmse_min=0.0763, log_likelihood=15.0951, count=4410\n",
      "\n",
      "best fit for Fenton-Karma: RMSE: 0.0836 Hz/cm^2, amax: 1.7810 cm^2/s, L: 5.0 cm\n",
      "input_fn_fk='/home/timothytyree/Documents/GitHub/bgmc/python/data/osg_output/run_25_all/job.out.22996017.1576'\n",
      "\n",
      "**************************************\n",
      "* Luo-Rudy Model (best settings):\n",
      "**************************************\n",
      "amax=10.1490, rmse_min=0.0982, log_likelihood=15.0413, count=4410\n",
      "\n",
      "best fit for Luo-Rudy: RMSE: 0.1171 Hz/cm^2, amax: 1.7810 cm^2/s, L: 5.0 cm\n",
      "input_fn_lr='/home/timothytyree/Documents/GitHub/bgmc/python/data/osg_output/run_25_all/job.out.22996017.2327'\n",
      "\n",
      "parameter range supported in run #25:\n",
      "number of trials: 17640\n",
      "        r  kappa      D  varkappa    amax    L  neighbor\n",
      "min  0.01  100.0  0.090     1.553   1.733  5.0       1.0\n",
      "max  0.49  990.0  0.114     9.969  10.197  5.0       1.0\n",
      "\n",
      "**************************************\n",
      "* Fenton-Karma Model (best settings):\n",
      "**************************************\n",
      "amax=1.7800, rmse_min=0.0768, log_likelihood=18.6331, count=44475\n",
      "\n",
      "best fit for Fenton-Karma: RMSE: 0.0778 Hz/cm^2, amax: 1.7800 cm^2/s, L: 5.0 cm\n",
      "input_fn_fk='/home/timothytyree/Documents/GitHub/bgmc/python/data/osg_output/run_26_all/job.out.23278799.118'\n",
      "\n",
      "**************************************\n",
      "* Luo-Rudy Model (best settings):\n",
      "**************************************\n",
      "amax=3.2900, rmse_min=1.4036, log_likelihood=-217.5333, count=42761\n",
      "\n",
      "best fit for Luo-Rudy: RMSE: 1.4073 Hz/cm^2, amax: 1.7800 cm^2/s, L: 5.0 cm\n",
      "input_fn_lr='/home/timothytyree/Documents/GitHub/bgmc/python/data/osg_output/run_26_all/job.out.23278799.127676'\n",
      "\n",
      "parameter range supported in run #26:\n",
      "number of trials: 166229\n",
      "         r  kappa      D  varkappa  amax    L  neighbor\n",
      "min  0.005  200.0  0.050      0.30  1.78  5.0       0.0\n",
      "max  0.200  980.0  1.295      3.19  3.29  5.0       0.0\n"
     ]
    }
   ],
   "source": [
    "# latest_run_num=27\n",
    "run_num_lst = list(reversed(list(np.arange(14,latest_run_num+1))))\n",
    "# run_num_lst=[25,17]\n",
    "# run_num_lst=[25,19]\n",
    "# run_num_lst=[25,24]\n",
    "# run_num_lst=[25,18]\n",
    "# run_num_lst=[25,27]\n",
    "# run_num_lst=[25,28]\n",
    "# run_num_lst=[28,25]\n",
    "run_num_lst=[25,26]\n",
    "# run_num_lst=[26]\n",
    "# run_num=25 #L=5 cm, neighbors=1\n",
    "# run_num=18 #L=10 cm, neighbors=0\n",
    "remove_no_diffusion=True\n",
    "# Dinf=0\n",
    "Dinf=0.01\n",
    "num_digits_round_amax=3\n",
    "\n",
    "gmin_fk_lst=[]\n",
    "gmin_lr_lst=[]\n",
    "log_dir_fk_lst=[]\n",
    "log_dir_lr_lst=[]\n",
    "dict_results_fk_lst=[]\n",
    "dict_results_lr_lst=[]\n",
    "# for run_num in [25,18]: #chosen exemplar pair\n",
    "for run_num in run_num_lst:\n",
    "    parquet_dir_defects_fk=f'/home/timothytyree/Documents/GitHub/bgmc/python/data/osg_output/run_{run_num}_defects_to_fk.parquet'\n",
    "    parquet_dir_defects_lr=f'/home/timothytyree/Documents/GitHub/bgmc/python/data/osg_output/run_{run_num}_defects_to_lr.parquet'\n",
    "    input_folder=f'/home/timothytyree/Documents/GitHub/bgmc/python/data/osg_output/run_{run_num}_all'\n",
    "    #load data\n",
    "    df_defects_fk=pd.read_parquet(parquet_dir_defects_fk)\n",
    "    df_defects_lr=pd.read_parquet(parquet_dir_defects_lr)\n",
    "    #compute order parameter for each member a=amax-2*D\n",
    "    #add columns for amax\n",
    "    df_defects_fk['amax'] = np.around(df_defects_fk['varkappa'] + 2.*df_defects_fk['D'],num_digits_round_amax)\n",
    "    df_defects_lr['amax'] = np.around(df_defects_lr['varkappa'] + 2.*df_defects_lr['D'],num_digits_round_amax)\n",
    "    \n",
    "    if remove_no_diffusion:\n",
    "        df_defects_fk = df_defects_fk[df_defects_fk['D']>Dinf].copy()\n",
    "        df_defects_lr = df_defects_lr[df_defects_lr['D']>Dinf].copy()\n",
    "    \n",
    "    #identify the lowest error simulation for each amax value\n",
    "    print(f\"\\n**************************************\")\n",
    "    print(f\"* Fenton-Karma Model (best settings):\")\n",
    "    print(f\"**************************************\")\n",
    "    minrmse=9999.\n",
    "    supamax=1.8\n",
    "    #supamax=40.\n",
    "    for amax,g in df_defects_fk.groupby(by='amax'):\n",
    "        rmse_min = g['rmse'].min()\n",
    "        count = g['rmse'].count()\n",
    "        log_likelihood = g['log_likelihood'].max()\n",
    "        if (rmse_min<=minrmse)&(amax<=supamax):\n",
    "            minrmse=rmse_min\n",
    "            gmin_fk=g.copy()\n",
    "            print_str =f\"{amax=:.4f}, {rmse_min=:.4f}, {log_likelihood=:.4f}, {count=}\"\n",
    "    print(print_str)\n",
    "    gmin_fk.sort_values(by='D',inplace=True)\n",
    "    \n",
    "\n",
    "    #find best simulation for the full model at this avalue\n",
    "#     dg_fk=gmin_fk[gmin_fk['rmse'] == gmin_fk['rmse'].min()].copy()\n",
    "    dg_fk=gmin_fk[gmin_fk['log_likelihood'] == gmin_fk['log_likelihood'].max()].copy()\n",
    "    dg_fk['run']=run_num\n",
    "    df_defects_fk['run']=run_num\n",
    "    dg_fk['model']='Fenton-Karma'\n",
    "    cluster_index,job_index = dg_fk[['cluster_index','job_index']].values.T\n",
    "    input_fn = os.path.join(input_folder,f\"job.out.{int(cluster_index)}.{int(job_index)}\")\n",
    "    #assert os.path.exists(input_fn)\n",
    "    if os.path.exists(input_fn):\n",
    "        input_fn_fk=input_fn\n",
    "        df_fit_fk,dict_linear_fit_fk = routine_measure_annihilation_defect(input_fn,printing=True)#,**kwargs)\n",
    "        amax_fk=dg_fk['amax'].median()\n",
    "        rmse_fk=dg_fk['rmse'].median()\n",
    "        L = dg_fk['L'].median()\n",
    "        print(f\"\\nbest fit for Fenton-Karma: RMSE: {rmse_fk:.4f} Hz/cm^2, amax: {amax_fk:.4f} cm^2/s, L: {L} cm\")\n",
    "        print(f\"{input_fn_fk=}\")\n",
    "        #record\n",
    "        dict_results_fk=dict(\n",
    "            model_name='Fenton-Karma',\n",
    "            amax=amax_fk,\n",
    "            rmse=rmse_fk,\n",
    "            L=L,\n",
    "            df_fit=df_fit_fk,\n",
    "            dg_fit=dg_fk,\n",
    "            dict_linear_fit=dict_linear_fit_fk,\n",
    "            filename=input_fn_fk,\n",
    "            gmin=gmin_fk)\n",
    "        dict_results_fk_lst.append(dict_results_fk)\n",
    "        gmin_fk_lst.append(gmin_fk)\n",
    "        log_dir_fk_lst.append(input_fn)\n",
    "    \n",
    "    #identify the lowest error simulation for each amax value\n",
    "    print(f\"\\n**************************************\")\n",
    "    print(f\"* Luo-Rudy Model (best settings):\")\n",
    "    print(f\"**************************************\")\n",
    "    minrmse=9999.\n",
    "    supamax=10.2\n",
    "    for amax,g in df_defects_lr.groupby(by='amax'):\n",
    "        rmse_min = g['rmse'].min()\n",
    "        count = g['rmse'].count()\n",
    "        log_likelihood = g['log_likelihood'].max()\n",
    "        if (rmse_min<=minrmse)&(amax<=supamax):\n",
    "            minrmse=rmse_min\n",
    "            gmin_lr=g.copy()\n",
    "            print_str =f\"{amax=:.4f}, {rmse_min=:.4f}, {log_likelihood=:.4f}, {count=}\"\n",
    "    print(print_str)        \n",
    "    gmin_lr.sort_values(by='D',inplace=True)\n",
    "    \n",
    "    #find best simulation for the full model at this avalue\n",
    "#     dg_lr=gmin_lr[gmin_lr['rmse'] == gmin_lr['rmse'].min()].copy()\n",
    "    dg_lr=gmin_lr[gmin_lr['log_likelihood'] == gmin_lr['log_likelihood'].max()].copy()\n",
    "    dg_lr['run']=run_num\n",
    "    df_defects_lr['run']=run_num\n",
    "    dg_lr['model']='Luo-Rudy'\n",
    "    cluster_index,job_index = dg_lr[['cluster_index','job_index']].values.T\n",
    "    input_fn = os.path.join(input_folder,f\"job.out.{int(cluster_index)}.{int(job_index)}\")\n",
    "    #assert os.path.exists(input_fn)\n",
    "    if os.path.exists(input_fn):\n",
    "        input_fn_lr=input_fn\n",
    "        df_fit_lr,dict_linear_fit_lr = routine_measure_annihilation_defect(input_fn,printing=True)#,**kwargs)\n",
    "        amax_lr=dg_fk['amax'].median()\n",
    "        rmse_lr=dg_lr['rmse'].median()\n",
    "        L = dg_lr['L'].median()\n",
    "        print(f\"\\nbest fit for Luo-Rudy: RMSE: {rmse_lr:.4f} Hz/cm^2, amax: {amax_lr:.4f} cm^2/s, L: {L} cm\")\n",
    "        print(f\"{input_fn_lr=}\")\n",
    "        #record\n",
    "        dict_results_lr=dict(\n",
    "            model_name='Luo-Rudy',\n",
    "            amax=amax_lr,\n",
    "            rmse=rmse_lr,\n",
    "            L=L,\n",
    "            df_fit=df_fit_lr,\n",
    "            dg_fit=dg_lr,\n",
    "            dict_linear_fit=dict_linear_fit_lr,\n",
    "            filename=input_fn_lr,\n",
    "            gmin=gmin_lr)\n",
    "        dict_results_lr_lst.append(dict_results_lr)\n",
    "        gmin_lr_lst.append(gmin_lr)\n",
    "        log_dir_lr_lst.append(input_fn)\n",
    "\n",
    "    print(f\"\\nparameter range supported in run #{run_num}:\")\n",
    "    print(f\"number of trials: {df_defects_lr.shape[0]}\")\n",
    "    print(df_defects_lr.describe()[['r','kappa','D','varkappa','amax','L','neighbor']].T[['min','max']].T)\n",
    "\n",
    "\n"
   ]
  },
  {
   "cell_type": "code",
   "execution_count": 289,
   "id": "63228fa0",
   "metadata": {
    "ExecuteTime": {
     "end_time": "2022-09-27T21:55:11.536383Z",
     "start_time": "2022-09-27T21:55:11.497373Z"
    }
   },
   "outputs": [
    {
     "data": {
      "text/html": [
       "<div>\n",
       "<style scoped>\n",
       "    .dataframe tbody tr th:only-of-type {\n",
       "        vertical-align: middle;\n",
       "    }\n",
       "\n",
       "    .dataframe tbody tr th {\n",
       "        vertical-align: top;\n",
       "    }\n",
       "\n",
       "    .dataframe thead th {\n",
       "        text-align: right;\n",
       "    }\n",
       "</style>\n",
       "<table border=\"1\" class=\"dataframe\">\n",
       "  <thead>\n",
       "    <tr style=\"text-align: right;\">\n",
       "      <th></th>\n",
       "      <th>num_obs</th>\n",
       "      <th>qmin</th>\n",
       "      <th>qmax</th>\n",
       "      <th>rmse</th>\n",
       "      <th>log_likelihood</th>\n",
       "      <th>emin</th>\n",
       "      <th>emax</th>\n",
       "      <th>lemin</th>\n",
       "      <th>lemax</th>\n",
       "      <th>no_repulsion</th>\n",
       "      <th>...</th>\n",
       "      <th>N_lo</th>\n",
       "      <th>N_hi</th>\n",
       "      <th>w_lo</th>\n",
       "      <th>w_hi</th>\n",
       "      <th>CollTime_lo</th>\n",
       "      <th>CollTime_hi</th>\n",
       "      <th>cluster_index</th>\n",
       "      <th>job_index</th>\n",
       "      <th>amax</th>\n",
       "      <th>run</th>\n",
       "    </tr>\n",
       "  </thead>\n",
       "  <tbody>\n",
       "    <tr>\n",
       "      <th>0</th>\n",
       "      <td>17</td>\n",
       "      <td>0.32</td>\n",
       "      <td>0.96</td>\n",
       "      <td>1.536218</td>\n",
       "      <td>-429.017446</td>\n",
       "      <td>0.126243</td>\n",
       "      <td>2.469428</td>\n",
       "      <td>0.126243</td>\n",
       "      <td>2.469428</td>\n",
       "      <td>0.0</td>\n",
       "      <td>...</td>\n",
       "      <td>8.0</td>\n",
       "      <td>100.0</td>\n",
       "      <td>0.782519</td>\n",
       "      <td>80.000000</td>\n",
       "      <td>0.000500</td>\n",
       "      <td>0.051117</td>\n",
       "      <td>23278799</td>\n",
       "      <td>50567</td>\n",
       "      <td>2.89</td>\n",
       "      <td>26</td>\n",
       "    </tr>\n",
       "    <tr>\n",
       "      <th>1</th>\n",
       "      <td>17</td>\n",
       "      <td>0.32</td>\n",
       "      <td>0.96</td>\n",
       "      <td>0.435451</td>\n",
       "      <td>-57.585285</td>\n",
       "      <td>-0.223722</td>\n",
       "      <td>0.998285</td>\n",
       "      <td>-0.223722</td>\n",
       "      <td>0.998285</td>\n",
       "      <td>0.0</td>\n",
       "      <td>...</td>\n",
       "      <td>8.0</td>\n",
       "      <td>100.0</td>\n",
       "      <td>0.432554</td>\n",
       "      <td>105.540897</td>\n",
       "      <td>0.000379</td>\n",
       "      <td>0.092474</td>\n",
       "      <td>23278799</td>\n",
       "      <td>91787</td>\n",
       "      <td>2.89</td>\n",
       "      <td>26</td>\n",
       "    </tr>\n",
       "    <tr>\n",
       "      <th>2</th>\n",
       "      <td>17</td>\n",
       "      <td>0.32</td>\n",
       "      <td>0.96</td>\n",
       "      <td>0.665275</td>\n",
       "      <td>-716.531786</td>\n",
       "      <td>-0.430232</td>\n",
       "      <td>1.643788</td>\n",
       "      <td>-0.430232</td>\n",
       "      <td>1.643788</td>\n",
       "      <td>0.0</td>\n",
       "      <td>...</td>\n",
       "      <td>8.0</td>\n",
       "      <td>100.0</td>\n",
       "      <td>0.226044</td>\n",
       "      <td>314.960630</td>\n",
       "      <td>0.000127</td>\n",
       "      <td>0.176957</td>\n",
       "      <td>23278799</td>\n",
       "      <td>36347</td>\n",
       "      <td>1.78</td>\n",
       "      <td>26</td>\n",
       "    </tr>\n",
       "    <tr>\n",
       "      <th>3</th>\n",
       "      <td>17</td>\n",
       "      <td>0.32</td>\n",
       "      <td>0.96</td>\n",
       "      <td>5.293042</td>\n",
       "      <td>-2123.103438</td>\n",
       "      <td>0.224529</td>\n",
       "      <td>10.961284</td>\n",
       "      <td>0.224529</td>\n",
       "      <td>10.961284</td>\n",
       "      <td>0.0</td>\n",
       "      <td>...</td>\n",
       "      <td>8.0</td>\n",
       "      <td>100.0</td>\n",
       "      <td>0.880805</td>\n",
       "      <td>388.349515</td>\n",
       "      <td>0.000103</td>\n",
       "      <td>0.045413</td>\n",
       "      <td>23278799</td>\n",
       "      <td>48932</td>\n",
       "      <td>2.89</td>\n",
       "      <td>26</td>\n",
       "    </tr>\n",
       "    <tr>\n",
       "      <th>4</th>\n",
       "      <td>17</td>\n",
       "      <td>0.32</td>\n",
       "      <td>0.96</td>\n",
       "      <td>0.798013</td>\n",
       "      <td>-142.705099</td>\n",
       "      <td>-0.089085</td>\n",
       "      <td>-1.780585</td>\n",
       "      <td>-0.089085</td>\n",
       "      <td>-1.780585</td>\n",
       "      <td>0.0</td>\n",
       "      <td>...</td>\n",
       "      <td>8.0</td>\n",
       "      <td>100.0</td>\n",
       "      <td>0.567191</td>\n",
       "      <td>20.597322</td>\n",
       "      <td>0.001942</td>\n",
       "      <td>0.070523</td>\n",
       "      <td>23278799</td>\n",
       "      <td>150744</td>\n",
       "      <td>3.29</td>\n",
       "      <td>26</td>\n",
       "    </tr>\n",
       "  </tbody>\n",
       "</table>\n",
       "<p>5 rows × 36 columns</p>\n",
       "</div>"
      ],
      "text/plain": [
       "   num_obs  qmin  qmax      rmse  log_likelihood      emin       emax  \\\n",
       "0       17  0.32  0.96  1.536218     -429.017446  0.126243   2.469428   \n",
       "1       17  0.32  0.96  0.435451      -57.585285 -0.223722   0.998285   \n",
       "2       17  0.32  0.96  0.665275     -716.531786 -0.430232   1.643788   \n",
       "3       17  0.32  0.96  5.293042    -2123.103438  0.224529  10.961284   \n",
       "4       17  0.32  0.96  0.798013     -142.705099 -0.089085  -1.780585   \n",
       "\n",
       "      lemin      lemax  no_repulsion  ...  N_lo   N_hi      w_lo        w_hi  \\\n",
       "0  0.126243   2.469428           0.0  ...   8.0  100.0  0.782519   80.000000   \n",
       "1 -0.223722   0.998285           0.0  ...   8.0  100.0  0.432554  105.540897   \n",
       "2 -0.430232   1.643788           0.0  ...   8.0  100.0  0.226044  314.960630   \n",
       "3  0.224529  10.961284           0.0  ...   8.0  100.0  0.880805  388.349515   \n",
       "4 -0.089085  -1.780585           0.0  ...   8.0  100.0  0.567191   20.597322   \n",
       "\n",
       "   CollTime_lo  CollTime_hi  cluster_index  job_index  amax  run  \n",
       "0     0.000500     0.051117       23278799      50567  2.89   26  \n",
       "1     0.000379     0.092474       23278799      91787  2.89   26  \n",
       "2     0.000127     0.176957       23278799      36347  1.78   26  \n",
       "3     0.000103     0.045413       23278799      48932  2.89   26  \n",
       "4     0.001942     0.070523       23278799     150744  3.29   26  \n",
       "\n",
       "[5 rows x 36 columns]"
      ]
     },
     "execution_count": 289,
     "metadata": {},
     "output_type": "execute_result"
    }
   ],
   "source": [
    "df_defects_fk.head()"
   ]
  },
  {
   "cell_type": "code",
   "execution_count": 290,
   "id": "5655773a",
   "metadata": {
    "ExecuteTime": {
     "end_time": "2022-09-27T21:55:12.818169Z",
     "start_time": "2022-09-27T21:55:12.775992Z"
    }
   },
   "outputs": [
    {
     "data": {
      "text/html": [
       "<div>\n",
       "<style scoped>\n",
       "    .dataframe tbody tr th:only-of-type {\n",
       "        vertical-align: middle;\n",
       "    }\n",
       "\n",
       "    .dataframe tbody tr th {\n",
       "        vertical-align: top;\n",
       "    }\n",
       "\n",
       "    .dataframe thead th {\n",
       "        text-align: right;\n",
       "    }\n",
       "</style>\n",
       "<table border=\"1\" class=\"dataframe\">\n",
       "  <thead>\n",
       "    <tr style=\"text-align: right;\">\n",
       "      <th></th>\n",
       "      <th>num_obs</th>\n",
       "      <th>qmin</th>\n",
       "      <th>qmax</th>\n",
       "      <th>rmse</th>\n",
       "      <th>log_likelihood</th>\n",
       "      <th>emin</th>\n",
       "      <th>emax</th>\n",
       "      <th>lemin</th>\n",
       "      <th>lemax</th>\n",
       "      <th>no_repulsion</th>\n",
       "      <th>...</th>\n",
       "      <th>N_lo</th>\n",
       "      <th>N_hi</th>\n",
       "      <th>w_lo</th>\n",
       "      <th>w_hi</th>\n",
       "      <th>CollTime_lo</th>\n",
       "      <th>CollTime_hi</th>\n",
       "      <th>cluster_index</th>\n",
       "      <th>job_index</th>\n",
       "      <th>amax</th>\n",
       "      <th>run</th>\n",
       "    </tr>\n",
       "  </thead>\n",
       "  <tbody>\n",
       "    <tr>\n",
       "      <th>0</th>\n",
       "      <td>17</td>\n",
       "      <td>0.32</td>\n",
       "      <td>0.96</td>\n",
       "      <td>1.536218</td>\n",
       "      <td>-429.017446</td>\n",
       "      <td>0.126243</td>\n",
       "      <td>2.469428</td>\n",
       "      <td>0.126243</td>\n",
       "      <td>2.469428</td>\n",
       "      <td>0.0</td>\n",
       "      <td>...</td>\n",
       "      <td>8.0</td>\n",
       "      <td>100.0</td>\n",
       "      <td>0.782519</td>\n",
       "      <td>80.000000</td>\n",
       "      <td>0.000500</td>\n",
       "      <td>0.051117</td>\n",
       "      <td>23278799</td>\n",
       "      <td>50567</td>\n",
       "      <td>2.89</td>\n",
       "      <td>26</td>\n",
       "    </tr>\n",
       "    <tr>\n",
       "      <th>1</th>\n",
       "      <td>17</td>\n",
       "      <td>0.32</td>\n",
       "      <td>0.96</td>\n",
       "      <td>0.435451</td>\n",
       "      <td>-57.585285</td>\n",
       "      <td>-0.223722</td>\n",
       "      <td>0.998285</td>\n",
       "      <td>-0.223722</td>\n",
       "      <td>0.998285</td>\n",
       "      <td>0.0</td>\n",
       "      <td>...</td>\n",
       "      <td>8.0</td>\n",
       "      <td>100.0</td>\n",
       "      <td>0.432554</td>\n",
       "      <td>105.540897</td>\n",
       "      <td>0.000379</td>\n",
       "      <td>0.092474</td>\n",
       "      <td>23278799</td>\n",
       "      <td>91787</td>\n",
       "      <td>2.89</td>\n",
       "      <td>26</td>\n",
       "    </tr>\n",
       "    <tr>\n",
       "      <th>2</th>\n",
       "      <td>17</td>\n",
       "      <td>0.32</td>\n",
       "      <td>0.96</td>\n",
       "      <td>0.665275</td>\n",
       "      <td>-716.531786</td>\n",
       "      <td>-0.430232</td>\n",
       "      <td>1.643788</td>\n",
       "      <td>-0.430232</td>\n",
       "      <td>1.643788</td>\n",
       "      <td>0.0</td>\n",
       "      <td>...</td>\n",
       "      <td>8.0</td>\n",
       "      <td>100.0</td>\n",
       "      <td>0.226044</td>\n",
       "      <td>314.960630</td>\n",
       "      <td>0.000127</td>\n",
       "      <td>0.176957</td>\n",
       "      <td>23278799</td>\n",
       "      <td>36347</td>\n",
       "      <td>1.78</td>\n",
       "      <td>26</td>\n",
       "    </tr>\n",
       "    <tr>\n",
       "      <th>3</th>\n",
       "      <td>17</td>\n",
       "      <td>0.32</td>\n",
       "      <td>0.96</td>\n",
       "      <td>5.293042</td>\n",
       "      <td>-2123.103438</td>\n",
       "      <td>0.224529</td>\n",
       "      <td>10.961284</td>\n",
       "      <td>0.224529</td>\n",
       "      <td>10.961284</td>\n",
       "      <td>0.0</td>\n",
       "      <td>...</td>\n",
       "      <td>8.0</td>\n",
       "      <td>100.0</td>\n",
       "      <td>0.880805</td>\n",
       "      <td>388.349515</td>\n",
       "      <td>0.000103</td>\n",
       "      <td>0.045413</td>\n",
       "      <td>23278799</td>\n",
       "      <td>48932</td>\n",
       "      <td>2.89</td>\n",
       "      <td>26</td>\n",
       "    </tr>\n",
       "    <tr>\n",
       "      <th>4</th>\n",
       "      <td>17</td>\n",
       "      <td>0.32</td>\n",
       "      <td>0.96</td>\n",
       "      <td>0.798013</td>\n",
       "      <td>-142.705099</td>\n",
       "      <td>-0.089085</td>\n",
       "      <td>-1.780585</td>\n",
       "      <td>-0.089085</td>\n",
       "      <td>-1.780585</td>\n",
       "      <td>0.0</td>\n",
       "      <td>...</td>\n",
       "      <td>8.0</td>\n",
       "      <td>100.0</td>\n",
       "      <td>0.567191</td>\n",
       "      <td>20.597322</td>\n",
       "      <td>0.001942</td>\n",
       "      <td>0.070523</td>\n",
       "      <td>23278799</td>\n",
       "      <td>150744</td>\n",
       "      <td>3.29</td>\n",
       "      <td>26</td>\n",
       "    </tr>\n",
       "  </tbody>\n",
       "</table>\n",
       "<p>5 rows × 36 columns</p>\n",
       "</div>"
      ],
      "text/plain": [
       "   num_obs  qmin  qmax      rmse  log_likelihood      emin       emax  \\\n",
       "0       17  0.32  0.96  1.536218     -429.017446  0.126243   2.469428   \n",
       "1       17  0.32  0.96  0.435451      -57.585285 -0.223722   0.998285   \n",
       "2       17  0.32  0.96  0.665275     -716.531786 -0.430232   1.643788   \n",
       "3       17  0.32  0.96  5.293042    -2123.103438  0.224529  10.961284   \n",
       "4       17  0.32  0.96  0.798013     -142.705099 -0.089085  -1.780585   \n",
       "\n",
       "      lemin      lemax  no_repulsion  ...  N_lo   N_hi      w_lo        w_hi  \\\n",
       "0  0.126243   2.469428           0.0  ...   8.0  100.0  0.782519   80.000000   \n",
       "1 -0.223722   0.998285           0.0  ...   8.0  100.0  0.432554  105.540897   \n",
       "2 -0.430232   1.643788           0.0  ...   8.0  100.0  0.226044  314.960630   \n",
       "3  0.224529  10.961284           0.0  ...   8.0  100.0  0.880805  388.349515   \n",
       "4 -0.089085  -1.780585           0.0  ...   8.0  100.0  0.567191   20.597322   \n",
       "\n",
       "   CollTime_lo  CollTime_hi  cluster_index  job_index  amax  run  \n",
       "0     0.000500     0.051117       23278799      50567  2.89   26  \n",
       "1     0.000379     0.092474       23278799      91787  2.89   26  \n",
       "2     0.000127     0.176957       23278799      36347  1.78   26  \n",
       "3     0.000103     0.045413       23278799      48932  2.89   26  \n",
       "4     0.001942     0.070523       23278799     150744  3.29   26  \n",
       "\n",
       "[5 rows x 36 columns]"
      ]
     },
     "execution_count": 290,
     "metadata": {},
     "output_type": "execute_result"
    }
   ],
   "source": [
    "df_defects_fk.head()"
   ]
  },
  {
   "cell_type": "code",
   "execution_count": 291,
   "id": "1acf1858",
   "metadata": {
    "ExecuteTime": {
     "end_time": "2022-09-27T21:55:13.229842Z",
     "start_time": "2022-09-27T21:55:13.207594Z"
    }
   },
   "outputs": [
    {
     "data": {
      "text/plain": [
       "(26, array([23278799]), array([127676]))"
      ]
     },
     "execution_count": 291,
     "metadata": {},
     "output_type": "execute_result"
    }
   ],
   "source": [
    "run_num,cluster_index,job_index"
   ]
  },
  {
   "cell_type": "code",
   "execution_count": 292,
   "id": "675a76e5",
   "metadata": {
    "ExecuteTime": {
     "end_time": "2022-09-27T21:55:13.630734Z",
     "start_time": "2022-09-27T21:55:13.604217Z"
    }
   },
   "outputs": [],
   "source": [
    "annihil_log_dir = recall_annihil_log_dir(run_num,cluster_index,job_index)\n",
    "assert os.path.exists(annihil_log_dir)\n",
    "df=pd.read_csv(annihil_log_dir)\n",
    "df['q'] = df['N']/(df['L']**2)\n",
    "df['w'] = (df['CollTime']**-1)/(df['L']**2)\n",
    "# .sort_values(by='q')\n",
    "# df['q']"
   ]
  },
  {
   "cell_type": "code",
   "execution_count": 293,
   "id": "79a1b320",
   "metadata": {
    "ExecuteTime": {
     "end_time": "2022-09-27T21:55:14.039649Z",
     "start_time": "2022-09-27T21:55:14.014613Z"
    }
   },
   "outputs": [
    {
     "data": {
      "text/plain": [
       "array([2.89, 1.78, 3.29])"
      ]
     },
     "execution_count": 293,
     "metadata": {},
     "output_type": "execute_result"
    }
   ],
   "source": [
    "df_defects_fk['amax'].drop_duplicates().values"
   ]
  },
  {
   "cell_type": "code",
   "execution_count": 294,
   "id": "dbef5acd",
   "metadata": {
    "ExecuteTime": {
     "end_time": "2022-09-27T21:55:14.609504Z",
     "start_time": "2022-09-27T21:55:14.474126Z"
    }
   },
   "outputs": [
    {
     "name": "stdout",
     "output_type": "stream",
     "text": [
      "range of parameter settings:\n",
      "               r    kappa         D  varkappa      amax        L\n",
      "min        0.005    200.0      0.05      0.30      1.78      5.0\n",
      "max        0.200    980.0      0.74      1.68      1.78      5.0\n",
      "count  44475.000  44475.0  44475.00  44475.00  44475.00  44475.0\n"
     ]
    },
    {
     "data": {
      "text/html": [
       "<div>\n",
       "<style scoped>\n",
       "    .dataframe tbody tr th:only-of-type {\n",
       "        vertical-align: middle;\n",
       "    }\n",
       "\n",
       "    .dataframe tbody tr th {\n",
       "        vertical-align: top;\n",
       "    }\n",
       "\n",
       "    .dataframe thead th {\n",
       "        text-align: right;\n",
       "    }\n",
       "</style>\n",
       "<table border=\"1\" class=\"dataframe\">\n",
       "  <thead>\n",
       "    <tr style=\"text-align: right;\">\n",
       "      <th></th>\n",
       "      <th>num_obs</th>\n",
       "      <th>qmin</th>\n",
       "      <th>qmax</th>\n",
       "      <th>rmse</th>\n",
       "      <th>log_likelihood</th>\n",
       "      <th>emin</th>\n",
       "      <th>emax</th>\n",
       "      <th>lemin</th>\n",
       "      <th>lemax</th>\n",
       "      <th>no_repulsion</th>\n",
       "      <th>...</th>\n",
       "      <th>N_lo</th>\n",
       "      <th>N_hi</th>\n",
       "      <th>w_lo</th>\n",
       "      <th>w_hi</th>\n",
       "      <th>CollTime_lo</th>\n",
       "      <th>CollTime_hi</th>\n",
       "      <th>cluster_index</th>\n",
       "      <th>job_index</th>\n",
       "      <th>amax</th>\n",
       "      <th>run</th>\n",
       "    </tr>\n",
       "  </thead>\n",
       "  <tbody>\n",
       "    <tr>\n",
       "      <th>112845</th>\n",
       "      <td>17</td>\n",
       "      <td>0.32</td>\n",
       "      <td>0.96</td>\n",
       "      <td>0.098287</td>\n",
       "      <td>9.030665</td>\n",
       "      <td>-0.166206</td>\n",
       "      <td>-0.113929</td>\n",
       "      <td>-0.166206</td>\n",
       "      <td>-0.113929</td>\n",
       "      <td>0.0</td>\n",
       "      <td>...</td>\n",
       "      <td>8.0</td>\n",
       "      <td>100.0</td>\n",
       "      <td>0.490070</td>\n",
       "      <td>40.444894</td>\n",
       "      <td>0.000989</td>\n",
       "      <td>0.081621</td>\n",
       "      <td>23278799</td>\n",
       "      <td>116</td>\n",
       "      <td>1.78</td>\n",
       "      <td>26</td>\n",
       "    </tr>\n",
       "    <tr>\n",
       "      <th>143707</th>\n",
       "      <td>17</td>\n",
       "      <td>0.32</td>\n",
       "      <td>0.96</td>\n",
       "      <td>0.849868</td>\n",
       "      <td>-90.117489</td>\n",
       "      <td>-0.128272</td>\n",
       "      <td>1.648422</td>\n",
       "      <td>-0.128272</td>\n",
       "      <td>1.648422</td>\n",
       "      <td>0.0</td>\n",
       "      <td>...</td>\n",
       "      <td>8.0</td>\n",
       "      <td>100.0</td>\n",
       "      <td>0.528004</td>\n",
       "      <td>93.240093</td>\n",
       "      <td>0.000429</td>\n",
       "      <td>0.075757</td>\n",
       "      <td>23278799</td>\n",
       "      <td>439</td>\n",
       "      <td>1.78</td>\n",
       "      <td>26</td>\n",
       "    </tr>\n",
       "    <tr>\n",
       "      <th>159257</th>\n",
       "      <td>17</td>\n",
       "      <td>0.32</td>\n",
       "      <td>0.96</td>\n",
       "      <td>0.237745</td>\n",
       "      <td>-2.091206</td>\n",
       "      <td>-0.143357</td>\n",
       "      <td>-0.544442</td>\n",
       "      <td>-0.143357</td>\n",
       "      <td>-0.544442</td>\n",
       "      <td>0.0</td>\n",
       "      <td>...</td>\n",
       "      <td>8.0</td>\n",
       "      <td>100.0</td>\n",
       "      <td>0.512919</td>\n",
       "      <td>34.965035</td>\n",
       "      <td>0.001144</td>\n",
       "      <td>0.077985</td>\n",
       "      <td>23278799</td>\n",
       "      <td>173</td>\n",
       "      <td>1.78</td>\n",
       "      <td>26</td>\n",
       "    </tr>\n",
       "    <tr>\n",
       "      <th>42236</th>\n",
       "      <td>17</td>\n",
       "      <td>0.32</td>\n",
       "      <td>0.96</td>\n",
       "      <td>0.370223</td>\n",
       "      <td>-5.932909</td>\n",
       "      <td>-0.135280</td>\n",
       "      <td>0.656935</td>\n",
       "      <td>-0.135280</td>\n",
       "      <td>0.656935</td>\n",
       "      <td>0.0</td>\n",
       "      <td>...</td>\n",
       "      <td>8.0</td>\n",
       "      <td>100.0</td>\n",
       "      <td>0.520996</td>\n",
       "      <td>77.220077</td>\n",
       "      <td>0.000518</td>\n",
       "      <td>0.076776</td>\n",
       "      <td>23278799</td>\n",
       "      <td>725</td>\n",
       "      <td>1.78</td>\n",
       "      <td>26</td>\n",
       "    </tr>\n",
       "    <tr>\n",
       "      <th>143703</th>\n",
       "      <td>17</td>\n",
       "      <td>0.32</td>\n",
       "      <td>0.96</td>\n",
       "      <td>0.125002</td>\n",
       "      <td>8.998683</td>\n",
       "      <td>-0.150874</td>\n",
       "      <td>0.259541</td>\n",
       "      <td>-0.150874</td>\n",
       "      <td>0.259541</td>\n",
       "      <td>0.0</td>\n",
       "      <td>...</td>\n",
       "      <td>8.0</td>\n",
       "      <td>100.0</td>\n",
       "      <td>0.505401</td>\n",
       "      <td>46.620047</td>\n",
       "      <td>0.000858</td>\n",
       "      <td>0.079145</td>\n",
       "      <td>23278799</td>\n",
       "      <td>331</td>\n",
       "      <td>1.78</td>\n",
       "      <td>26</td>\n",
       "    </tr>\n",
       "  </tbody>\n",
       "</table>\n",
       "<p>5 rows × 36 columns</p>\n",
       "</div>"
      ],
      "text/plain": [
       "        num_obs  qmin  qmax      rmse  log_likelihood      emin      emax  \\\n",
       "112845       17  0.32  0.96  0.098287        9.030665 -0.166206 -0.113929   \n",
       "143707       17  0.32  0.96  0.849868      -90.117489 -0.128272  1.648422   \n",
       "159257       17  0.32  0.96  0.237745       -2.091206 -0.143357 -0.544442   \n",
       "42236        17  0.32  0.96  0.370223       -5.932909 -0.135280  0.656935   \n",
       "143703       17  0.32  0.96  0.125002        8.998683 -0.150874  0.259541   \n",
       "\n",
       "           lemin     lemax  no_repulsion  ...  N_lo   N_hi      w_lo  \\\n",
       "112845 -0.166206 -0.113929           0.0  ...   8.0  100.0  0.490070   \n",
       "143707 -0.128272  1.648422           0.0  ...   8.0  100.0  0.528004   \n",
       "159257 -0.143357 -0.544442           0.0  ...   8.0  100.0  0.512919   \n",
       "42236  -0.135280  0.656935           0.0  ...   8.0  100.0  0.520996   \n",
       "143703 -0.150874  0.259541           0.0  ...   8.0  100.0  0.505401   \n",
       "\n",
       "             w_hi  CollTime_lo  CollTime_hi  cluster_index  job_index  amax  \\\n",
       "112845  40.444894     0.000989     0.081621       23278799        116  1.78   \n",
       "143707  93.240093     0.000429     0.075757       23278799        439  1.78   \n",
       "159257  34.965035     0.001144     0.077985       23278799        173  1.78   \n",
       "42236   77.220077     0.000518     0.076776       23278799        725  1.78   \n",
       "143703  46.620047     0.000858     0.079145       23278799        331  1.78   \n",
       "\n",
       "        run  \n",
       "112845   26  \n",
       "143707   26  \n",
       "159257   26  \n",
       "42236    26  \n",
       "143703   26  \n",
       "\n",
       "[5 rows x 36 columns]"
      ]
     },
     "execution_count": 294,
     "metadata": {},
     "output_type": "execute_result"
    }
   ],
   "source": [
    "# amax = 10.147 #LR 200x200 diffCoeff=0.001, src: wj\n",
    "# df_defects = df_defects_lr[df_defects_lr['amax']==amax].sort_values(by='D')\n",
    "\n",
    "amax=1.78 #FK 200x200 diffCoeff=0.0005, src: wj\n",
    "# amax=1.781 #FK 200x200 diffCoeff=0.0005, src: wj\n",
    "df_defects = df_defects_fk[df_defects_fk['amax']==amax].sort_values(by='D')\n",
    "print(f\"range of parameter settings:\")\n",
    "print(df_defects.describe()[['r','kappa','D','varkappa','amax','L']].T[['min','max','count']].T)\n",
    "df_defects.head()"
   ]
  },
  {
   "cell_type": "code",
   "execution_count": 295,
   "id": "47cad79f",
   "metadata": {
    "ExecuteTime": {
     "end_time": "2022-09-27T21:55:15.918766Z",
     "start_time": "2022-09-27T21:55:15.145721Z"
    }
   },
   "outputs": [
    {
     "name": "stdout",
     "output_type": "stream",
     "text": [
      "       amax    L      r  kappa     D  varkappa  neighbor  job_index\n",
      "57133  1.78  5.0  0.015  960.0  0.05      1.68       0.0        118\n",
      "amax: 1.7800 cm^2/s, L: 5.0 cm, RMSE as fit to annihilation rates from full: 0.0778 Hz/cm^2\n",
      "input_fn_fk='/home/timothytyree/Documents/GitHub/bgmc/python/data/osg_output/run_26_all/job.out.23278799.118'\n",
      "        amax    L      r  kappa      D  varkappa  neighbor  job_index\n",
      "133355  1.78  5.0  0.025  620.0  0.065      1.65       0.0       1141\n",
      "amax: 1.7800 cm^2/s, L: 5.0 cm, RMSE as fit to annihilation rates from full: 0.0778 Hz/cm^2\n",
      "input_fn_fk='/home/timothytyree/Documents/GitHub/bgmc/python/data/osg_output/run_26_all/job.out.23278799.118'\n",
      "       amax    L      r  kappa     D  varkappa  neighbor  job_index\n",
      "39097  1.78  5.0  0.015  880.0  0.08      1.62       0.0       2034\n",
      "amax: 1.7800 cm^2/s, L: 5.0 cm, RMSE as fit to annihilation rates from full: 0.0778 Hz/cm^2\n",
      "input_fn_fk='/home/timothytyree/Documents/GitHub/bgmc/python/data/osg_output/run_26_all/job.out.23278799.118'\n",
      "        amax    L     r  kappa      D  varkappa  neighbor  job_index\n",
      "149976  1.78  5.0  0.03  600.0  0.095      1.59       0.0       3100\n",
      "amax: 1.7800 cm^2/s, L: 5.0 cm, RMSE as fit to annihilation rates from full: 0.0778 Hz/cm^2\n",
      "input_fn_fk='/home/timothytyree/Documents/GitHub/bgmc/python/data/osg_output/run_26_all/job.out.23278799.118'\n",
      "       amax    L      r  kappa     D  varkappa  neighbor  job_index\n",
      "50232  1.78  5.0  0.035  600.0  0.11      1.56       0.0       4100\n",
      "amax: 1.7800 cm^2/s, L: 5.0 cm, RMSE as fit to annihilation rates from full: 0.0778 Hz/cm^2\n",
      "input_fn_fk='/home/timothytyree/Documents/GitHub/bgmc/python/data/osg_output/run_26_all/job.out.23278799.118'\n",
      "        amax    L     r  kappa      D  varkappa  neighbor  job_index\n",
      "101343  1.78  5.0  0.02  940.0  0.125      1.53       0.0       4957\n",
      "amax: 1.7800 cm^2/s, L: 5.0 cm, RMSE as fit to annihilation rates from full: 0.0778 Hz/cm^2\n",
      "input_fn_fk='/home/timothytyree/Documents/GitHub/bgmc/python/data/osg_output/run_26_all/job.out.23278799.118'\n",
      "        amax    L     r  kappa     D  varkappa  neighbor  job_index\n",
      "138560  1.78  5.0  0.05  460.0  0.14       1.5       0.0       6133\n",
      "amax: 1.7800 cm^2/s, L: 5.0 cm, RMSE as fit to annihilation rates from full: 0.0778 Hz/cm^2\n",
      "input_fn_fk='/home/timothytyree/Documents/GitHub/bgmc/python/data/osg_output/run_26_all/job.out.23278799.118'\n",
      "       amax    L     r  kappa      D  varkappa  neighbor  job_index\n",
      "84126  1.78  5.0  0.03  780.0  0.155      1.47       0.0       6949\n",
      "amax: 1.7800 cm^2/s, L: 5.0 cm, RMSE as fit to annihilation rates from full: 0.0778 Hz/cm^2\n",
      "input_fn_fk='/home/timothytyree/Documents/GitHub/bgmc/python/data/osg_output/run_26_all/job.out.23278799.118'\n",
      "       amax    L      r  kappa     D  varkappa  neighbor  job_index\n",
      "54026  1.78  5.0  0.085  380.0  0.17      1.44       0.0       8329\n",
      "amax: 1.7800 cm^2/s, L: 5.0 cm, RMSE as fit to annihilation rates from full: 0.0778 Hz/cm^2\n",
      "input_fn_fk='/home/timothytyree/Documents/GitHub/bgmc/python/data/osg_output/run_26_all/job.out.23278799.118'\n",
      "       amax    L     r  kappa      D  varkappa  neighbor  job_index\n",
      "87497  1.78  5.0  0.05  560.0  0.185      1.41       0.0       9018\n",
      "amax: 1.7800 cm^2/s, L: 5.0 cm, RMSE as fit to annihilation rates from full: 0.0778 Hz/cm^2\n",
      "input_fn_fk='/home/timothytyree/Documents/GitHub/bgmc/python/data/osg_output/run_26_all/job.out.23278799.118'\n",
      "        amax    L      r  kappa    D  varkappa  neighbor  job_index\n",
      "128082  1.78  5.0  0.045  820.0  0.2      1.38       0.0       9951\n",
      "amax: 1.7800 cm^2/s, L: 5.0 cm, RMSE as fit to annihilation rates from full: 0.0778 Hz/cm^2\n",
      "input_fn_fk='/home/timothytyree/Documents/GitHub/bgmc/python/data/osg_output/run_26_all/job.out.23278799.118'\n",
      "       amax    L     r  kappa      D  varkappa  neighbor  job_index\n",
      "60352  1.78  5.0  0.06  620.0  0.215      1.35       0.0      11021\n",
      "amax: 1.7800 cm^2/s, L: 5.0 cm, RMSE as fit to annihilation rates from full: 0.0778 Hz/cm^2\n",
      "input_fn_fk='/home/timothytyree/Documents/GitHub/bgmc/python/data/osg_output/run_26_all/job.out.23278799.118'\n",
      "        amax    L     r  kappa     D  varkappa  neighbor  job_index\n",
      "146843  1.78  5.0  0.05  920.0  0.23      1.32       0.0      11916\n",
      "amax: 1.7800 cm^2/s, L: 5.0 cm, RMSE as fit to annihilation rates from full: 0.0778 Hz/cm^2\n",
      "input_fn_fk='/home/timothytyree/Documents/GitHub/bgmc/python/data/osg_output/run_26_all/job.out.23278799.118'\n",
      "       amax    L     r  kappa      D  varkappa  neighbor  job_index\n",
      "69441  1.78  5.0  0.06  820.0  0.245      1.29       0.0      12951\n",
      "amax: 1.7800 cm^2/s, L: 5.0 cm, RMSE as fit to annihilation rates from full: 0.0778 Hz/cm^2\n",
      "input_fn_fk='/home/timothytyree/Documents/GitHub/bgmc/python/data/osg_output/run_26_all/job.out.23278799.118'\n",
      "       amax    L     r  kappa     D  varkappa  neighbor  job_index\n",
      "71747  1.78  5.0  0.09  680.0  0.26      1.26       0.0      14144\n",
      "amax: 1.7800 cm^2/s, L: 5.0 cm, RMSE as fit to annihilation rates from full: 0.0778 Hz/cm^2\n",
      "input_fn_fk='/home/timothytyree/Documents/GitHub/bgmc/python/data/osg_output/run_26_all/job.out.23278799.118'\n",
      "        amax    L     r  kappa      D  varkappa  neighbor  job_index\n",
      "122779  1.78  5.0  0.16  200.0  0.275      1.23       0.0      15240\n",
      "amax: 1.7800 cm^2/s, L: 5.0 cm, RMSE as fit to annihilation rates from full: 0.0778 Hz/cm^2\n",
      "input_fn_fk='/home/timothytyree/Documents/GitHub/bgmc/python/data/osg_output/run_26_all/job.out.23278799.118'\n",
      "       amax    L     r  kappa     D  varkappa  neighbor  job_index\n",
      "56612  1.78  5.0  0.16  200.0  0.29       1.2       0.0      16200\n",
      "amax: 1.7800 cm^2/s, L: 5.0 cm, RMSE as fit to annihilation rates from full: 0.0778 Hz/cm^2\n",
      "input_fn_fk='/home/timothytyree/Documents/GitHub/bgmc/python/data/osg_output/run_26_all/job.out.23278799.118'\n",
      "       amax    L      r  kappa      D  varkappa  neighbor  job_index\n",
      "33920  1.78  5.0  0.085  980.0  0.305      1.17       0.0      16999\n",
      "amax: 1.7800 cm^2/s, L: 5.0 cm, RMSE as fit to annihilation rates from full: 0.0778 Hz/cm^2\n",
      "input_fn_fk='/home/timothytyree/Documents/GitHub/bgmc/python/data/osg_output/run_26_all/job.out.23278799.118'\n",
      "        amax    L      r  kappa     D  varkappa  neighbor  job_index\n",
      "119142  1.78  5.0  0.095  980.0  0.32      1.14       0.0      18039\n",
      "amax: 1.7800 cm^2/s, L: 5.0 cm, RMSE as fit to annihilation rates from full: 0.0778 Hz/cm^2\n",
      "input_fn_fk='/home/timothytyree/Documents/GitHub/bgmc/python/data/osg_output/run_26_all/job.out.23278799.118'\n",
      "       amax    L     r  kappa      D  varkappa  neighbor  job_index\n",
      "50133  1.78  5.0  0.16  200.0  0.335      1.11       0.0      19080\n",
      "amax: 1.7800 cm^2/s, L: 5.0 cm, RMSE as fit to annihilation rates from full: 0.0778 Hz/cm^2\n",
      "input_fn_fk='/home/timothytyree/Documents/GitHub/bgmc/python/data/osg_output/run_26_all/job.out.23278799.118'\n",
      "       amax    L     r  kappa     D  varkappa  neighbor  job_index\n",
      "84241  1.78  5.0  0.18  200.0  0.35      1.08       0.0      20080\n",
      "amax: 1.7800 cm^2/s, L: 5.0 cm, RMSE as fit to annihilation rates from full: 0.0778 Hz/cm^2\n",
      "input_fn_fk='/home/timothytyree/Documents/GitHub/bgmc/python/data/osg_output/run_26_all/job.out.23278799.118'\n",
      "        amax    L     r  kappa      D  varkappa  neighbor  job_index\n",
      "110353  1.78  5.0  0.18  200.0  0.365      1.05       0.0      21040\n",
      "amax: 1.7800 cm^2/s, L: 5.0 cm, RMSE as fit to annihilation rates from full: 0.0778 Hz/cm^2\n",
      "input_fn_fk='/home/timothytyree/Documents/GitHub/bgmc/python/data/osg_output/run_26_all/job.out.23278799.118'\n",
      "        amax    L     r  kappa     D  varkappa  neighbor  job_index\n",
      "155715  1.78  5.0  0.18  240.0  0.38      1.02       0.0      22002\n",
      "amax: 1.7800 cm^2/s, L: 5.0 cm, RMSE as fit to annihilation rates from full: 0.0778 Hz/cm^2\n",
      "input_fn_fk='/home/timothytyree/Documents/GitHub/bgmc/python/data/osg_output/run_26_all/job.out.23278799.118'\n",
      "       amax    L     r  kappa      D  varkappa  neighbor  job_index\n",
      "61401  1.78  5.0  0.18  220.0  0.395      0.99       0.0      22961\n",
      "amax: 1.7800 cm^2/s, L: 5.0 cm, RMSE as fit to annihilation rates from full: 0.0778 Hz/cm^2\n",
      "input_fn_fk='/home/timothytyree/Documents/GitHub/bgmc/python/data/osg_output/run_26_all/job.out.23278799.118'\n",
      "        amax    L    r  kappa     D  varkappa  neighbor  job_index\n",
      "115298  1.78  5.0  0.2  200.0  0.41      0.96       0.0      23960\n",
      "amax: 1.7800 cm^2/s, L: 5.0 cm, RMSE as fit to annihilation rates from full: 0.0778 Hz/cm^2\n",
      "input_fn_fk='/home/timothytyree/Documents/GitHub/bgmc/python/data/osg_output/run_26_all/job.out.23278799.118'\n",
      "        amax    L     r  kappa      D  varkappa  neighbor  job_index\n",
      "100049  1.78  5.0  0.18  260.0  0.425      0.93       0.0      24883\n",
      "amax: 1.7800 cm^2/s, L: 5.0 cm, RMSE as fit to annihilation rates from full: 0.0778 Hz/cm^2\n",
      "input_fn_fk='/home/timothytyree/Documents/GitHub/bgmc/python/data/osg_output/run_26_all/job.out.23278799.118'\n",
      "       amax    L    r  kappa     D  varkappa  neighbor  job_index\n",
      "14604  1.78  5.0  0.2  200.0  0.44       0.9       0.0      25880\n"
     ]
    },
    {
     "name": "stdout",
     "output_type": "stream",
     "text": [
      "amax: 1.7800 cm^2/s, L: 5.0 cm, RMSE as fit to annihilation rates from full: 0.0778 Hz/cm^2\n",
      "input_fn_fk='/home/timothytyree/Documents/GitHub/bgmc/python/data/osg_output/run_26_all/job.out.23278799.118'\n",
      "        amax    L     r  kappa      D  varkappa  neighbor  job_index\n",
      "124659  1.78  5.0  0.18  260.0  0.455      0.87       0.0      26803\n",
      "amax: 1.7800 cm^2/s, L: 5.0 cm, RMSE as fit to annihilation rates from full: 0.0778 Hz/cm^2\n",
      "input_fn_fk='/home/timothytyree/Documents/GitHub/bgmc/python/data/osg_output/run_26_all/job.out.23278799.118'\n",
      "        amax    L    r  kappa     D  varkappa  neighbor  job_index\n",
      "146536  1.78  5.0  0.2  200.0  0.47      0.84       0.0      27800\n",
      "amax: 1.7800 cm^2/s, L: 5.0 cm, RMSE as fit to annihilation rates from full: 0.0778 Hz/cm^2\n",
      "input_fn_fk='/home/timothytyree/Documents/GitHub/bgmc/python/data/osg_output/run_26_all/job.out.23278799.118'\n",
      "       amax    L    r  kappa      D  varkappa  neighbor  job_index\n",
      "10056  1.78  5.0  0.2  200.0  0.485      0.81       0.0      28760\n",
      "amax: 1.7800 cm^2/s, L: 5.0 cm, RMSE as fit to annihilation rates from full: 0.0778 Hz/cm^2\n",
      "input_fn_fk='/home/timothytyree/Documents/GitHub/bgmc/python/data/osg_output/run_26_all/job.out.23278799.118'\n",
      "       amax    L    r  kappa    D  varkappa  neighbor  job_index\n",
      "41273  1.78  5.0  0.2  200.0  0.5      0.78       0.0      29720\n",
      "amax: 1.7800 cm^2/s, L: 5.0 cm, RMSE as fit to annihilation rates from full: 0.0778 Hz/cm^2\n",
      "input_fn_fk='/home/timothytyree/Documents/GitHub/bgmc/python/data/osg_output/run_26_all/job.out.23278799.118'\n",
      "       amax    L    r  kappa      D  varkappa  neighbor  job_index\n",
      "55042  1.78  5.0  0.2  240.0  0.515      0.75       0.0      30682\n",
      "amax: 1.7800 cm^2/s, L: 5.0 cm, RMSE as fit to annihilation rates from full: 0.0778 Hz/cm^2\n",
      "input_fn_fk='/home/timothytyree/Documents/GitHub/bgmc/python/data/osg_output/run_26_all/job.out.23278799.118'\n",
      "       amax    L    r  kappa     D  varkappa  neighbor  job_index\n",
      "24289  1.78  5.0  0.2  220.0  0.53      0.72       0.0      31641\n",
      "amax: 1.7800 cm^2/s, L: 5.0 cm, RMSE as fit to annihilation rates from full: 0.0778 Hz/cm^2\n",
      "input_fn_fk='/home/timothytyree/Documents/GitHub/bgmc/python/data/osg_output/run_26_all/job.out.23278799.118'\n",
      "      amax    L    r  kappa      D  varkappa  neighbor  job_index\n",
      "7795  1.78  5.0  0.2  200.0  0.545      0.69       0.0      32600\n",
      "amax: 1.7800 cm^2/s, L: 5.0 cm, RMSE as fit to annihilation rates from full: 0.0778 Hz/cm^2\n",
      "input_fn_fk='/home/timothytyree/Documents/GitHub/bgmc/python/data/osg_output/run_26_all/job.out.23278799.118'\n",
      "       amax    L    r  kappa     D  varkappa  neighbor  job_index\n",
      "70119  1.78  5.0  0.2  200.0  0.56      0.66       0.0      33560\n",
      "amax: 1.7800 cm^2/s, L: 5.0 cm, RMSE as fit to annihilation rates from full: 0.0778 Hz/cm^2\n",
      "input_fn_fk='/home/timothytyree/Documents/GitHub/bgmc/python/data/osg_output/run_26_all/job.out.23278799.118'\n",
      "        amax    L    r  kappa      D  varkappa  neighbor  job_index\n",
      "124708  1.78  5.0  0.2  260.0  0.575      0.63       0.0      34523\n",
      "amax: 1.7800 cm^2/s, L: 5.0 cm, RMSE as fit to annihilation rates from full: 0.0778 Hz/cm^2\n",
      "input_fn_fk='/home/timothytyree/Documents/GitHub/bgmc/python/data/osg_output/run_26_all/job.out.23278799.118'\n",
      "       amax    L    r  kappa     D  varkappa  neighbor  job_index\n",
      "95793  1.78  5.0  0.2  260.0  0.59       0.6       0.0      35483\n",
      "amax: 1.7800 cm^2/s, L: 5.0 cm, RMSE as fit to annihilation rates from full: 0.0778 Hz/cm^2\n",
      "input_fn_fk='/home/timothytyree/Documents/GitHub/bgmc/python/data/osg_output/run_26_all/job.out.23278799.118'\n",
      "       amax    L    r  kappa      D  varkappa  neighbor  job_index\n",
      "42324  1.78  5.0  0.2  280.0  0.605      0.57       0.0      36444\n",
      "amax: 1.7800 cm^2/s, L: 5.0 cm, RMSE as fit to annihilation rates from full: 0.0778 Hz/cm^2\n",
      "input_fn_fk='/home/timothytyree/Documents/GitHub/bgmc/python/data/osg_output/run_26_all/job.out.23278799.118'\n",
      "        amax    L    r  kappa     D  varkappa  neighbor  job_index\n",
      "161563  1.78  5.0  0.2  300.0  0.62      0.54       0.0      37405\n",
      "amax: 1.7800 cm^2/s, L: 5.0 cm, RMSE as fit to annihilation rates from full: 0.0778 Hz/cm^2\n",
      "input_fn_fk='/home/timothytyree/Documents/GitHub/bgmc/python/data/osg_output/run_26_all/job.out.23278799.118'\n",
      "       amax    L    r  kappa      D  varkappa  neighbor  job_index\n",
      "22327  1.78  5.0  0.2  380.0  0.635      0.51       0.0      38369\n",
      "amax: 1.7800 cm^2/s, L: 5.0 cm, RMSE as fit to annihilation rates from full: 0.0778 Hz/cm^2\n",
      "input_fn_fk='/home/timothytyree/Documents/GitHub/bgmc/python/data/osg_output/run_26_all/job.out.23278799.118'\n",
      "     amax    L    r  kappa     D  varkappa  neighbor  job_index\n",
      "847  1.78  5.0  0.2  280.0  0.65      0.48       0.0      39324\n",
      "amax: 1.7800 cm^2/s, L: 5.0 cm, RMSE as fit to annihilation rates from full: 0.0778 Hz/cm^2\n",
      "input_fn_fk='/home/timothytyree/Documents/GitHub/bgmc/python/data/osg_output/run_26_all/job.out.23278799.118'\n",
      "       amax    L    r  kappa      D  varkappa  neighbor  job_index\n",
      "96243  1.78  5.0  0.2  320.0  0.665      0.45       0.0      40286\n",
      "amax: 1.7800 cm^2/s, L: 5.0 cm, RMSE as fit to annihilation rates from full: 0.0778 Hz/cm^2\n",
      "input_fn_fk='/home/timothytyree/Documents/GitHub/bgmc/python/data/osg_output/run_26_all/job.out.23278799.118'\n",
      "        amax    L    r  kappa     D  varkappa  neighbor  job_index\n",
      "151199  1.78  5.0  0.2  360.0  0.68      0.42       0.0      41248\n",
      "amax: 1.7800 cm^2/s, L: 5.0 cm, RMSE as fit to annihilation rates from full: 0.0778 Hz/cm^2\n",
      "input_fn_fk='/home/timothytyree/Documents/GitHub/bgmc/python/data/osg_output/run_26_all/job.out.23278799.118'\n",
      "        amax    L    r  kappa      D  varkappa  neighbor  job_index\n",
      "114674  1.78  5.0  0.2  320.0  0.695      0.39       0.0      42206\n",
      "amax: 1.7800 cm^2/s, L: 5.0 cm, RMSE as fit to annihilation rates from full: 0.0778 Hz/cm^2\n",
      "input_fn_fk='/home/timothytyree/Documents/GitHub/bgmc/python/data/osg_output/run_26_all/job.out.23278799.118'\n",
      "        amax    L    r  kappa     D  varkappa  neighbor  job_index\n",
      "106177  1.78  5.0  0.2  340.0  0.71      0.36       0.0      43167\n",
      "amax: 1.7800 cm^2/s, L: 5.0 cm, RMSE as fit to annihilation rates from full: 0.0778 Hz/cm^2\n",
      "input_fn_fk='/home/timothytyree/Documents/GitHub/bgmc/python/data/osg_output/run_26_all/job.out.23278799.118'\n",
      "       amax    L    r  kappa      D  varkappa  neighbor  job_index\n",
      "58569  1.78  5.0  0.2  300.0  0.725      0.33       0.0      44125\n",
      "amax: 1.7800 cm^2/s, L: 5.0 cm, RMSE as fit to annihilation rates from full: 0.0778 Hz/cm^2\n",
      "input_fn_fk='/home/timothytyree/Documents/GitHub/bgmc/python/data/osg_output/run_26_all/job.out.23278799.118'\n",
      "        amax    L    r  kappa     D  varkappa  neighbor  job_index\n",
      "135231  1.78  5.0  0.2  340.0  0.74       0.3       0.0      45087\n",
      "amax: 1.7800 cm^2/s, L: 5.0 cm, RMSE as fit to annihilation rates from full: 0.0778 Hz/cm^2\n",
      "input_fn_fk='/home/timothytyree/Documents/GitHub/bgmc/python/data/osg_output/run_26_all/job.out.23278799.118'\n"
     ]
    }
   ],
   "source": [
    "D_values = np.sort(df_defects['D'].drop_duplicates().values)\n",
    "#for each D value\n",
    "q_values_lst=[]\n",
    "w_values_lst=[]\n",
    "dg_fit_lst=[]\n",
    "for D in D_values:\n",
    "    #find the maximum likelihood parameter setting row\n",
    "    dg=df_defects[df_defects['D']==D]\n",
    "    dg_fit=dg[dg['log_likelihood']==dg['log_likelihood'].max()].copy()\n",
    "    print(dg_fit[['amax','L', 'r', 'kappa',\n",
    "                    'D', 'varkappa', 'neighbor',\n",
    "    #     'q_lo', 'q_hi', 'w_lo', 'w_hi',\n",
    "#         'run','cluster_index', \n",
    "                  'job_index'\n",
    "                 ]])\n",
    "\n",
    "    #load xy values with recall_annihilation_log\n",
    "    annihil_log_dir = recall_annihil_log_dir(run_num=dg_fit['run'].values[0],\n",
    "                                             cluster_index=dg_fit['cluster_index'].values[0],\n",
    "                                             job_index=dg_fit['job_index'].values[0])\n",
    "    assert os.path.exists(annihil_log_dir)\n",
    "    df,dict_linear = recall_annihilation_log(annihil_log_dir,printing=True)#,**kwargs)\n",
    "    q_values,w_values = df.sort_values(by='q')[['q','w']].values.T\n",
    "\n",
    "    #record the xy values with the D values\n",
    "    q_values_lst.append(q_values)\n",
    "    w_values_lst.append(w_values)\n",
    "    dict_linear['D']=D\n",
    "    dg_fit_lst.append(dg_fit)"
   ]
  },
  {
   "cell_type": "code",
   "execution_count": 296,
   "id": "30ce42ae",
   "metadata": {
    "ExecuteTime": {
     "end_time": "2022-09-27T21:55:15.955854Z",
     "start_time": "2022-09-27T21:55:15.926257Z"
    }
   },
   "outputs": [
    {
     "data": {
      "text/html": [
       "<div>\n",
       "<style scoped>\n",
       "    .dataframe tbody tr th:only-of-type {\n",
       "        vertical-align: middle;\n",
       "    }\n",
       "\n",
       "    .dataframe tbody tr th {\n",
       "        vertical-align: top;\n",
       "    }\n",
       "\n",
       "    .dataframe thead th {\n",
       "        text-align: right;\n",
       "    }\n",
       "</style>\n",
       "<table border=\"1\" class=\"dataframe\">\n",
       "  <thead>\n",
       "    <tr style=\"text-align: right;\">\n",
       "      <th></th>\n",
       "      <th>num_obs</th>\n",
       "      <th>qmin</th>\n",
       "      <th>qmax</th>\n",
       "      <th>rmse</th>\n",
       "      <th>log_likelihood</th>\n",
       "      <th>emin</th>\n",
       "      <th>emax</th>\n",
       "      <th>lemin</th>\n",
       "      <th>lemax</th>\n",
       "      <th>no_repulsion</th>\n",
       "      <th>...</th>\n",
       "      <th>N_lo</th>\n",
       "      <th>N_hi</th>\n",
       "      <th>w_lo</th>\n",
       "      <th>w_hi</th>\n",
       "      <th>CollTime_lo</th>\n",
       "      <th>CollTime_hi</th>\n",
       "      <th>cluster_index</th>\n",
       "      <th>job_index</th>\n",
       "      <th>amax</th>\n",
       "      <th>run</th>\n",
       "    </tr>\n",
       "  </thead>\n",
       "  <tbody>\n",
       "    <tr>\n",
       "      <th>57133</th>\n",
       "      <td>17</td>\n",
       "      <td>0.32</td>\n",
       "      <td>0.96</td>\n",
       "      <td>0.077821</td>\n",
       "      <td>18.633107</td>\n",
       "      <td>-0.135198</td>\n",
       "      <td>0.068878</td>\n",
       "      <td>-0.135198</td>\n",
       "      <td>0.068878</td>\n",
       "      <td>0.0</td>\n",
       "      <td>...</td>\n",
       "      <td>8.0</td>\n",
       "      <td>100.0</td>\n",
       "      <td>0.521078</td>\n",
       "      <td>39.721946</td>\n",
       "      <td>0.001007</td>\n",
       "      <td>0.076764</td>\n",
       "      <td>23278799</td>\n",
       "      <td>118</td>\n",
       "      <td>1.78</td>\n",
       "      <td>26</td>\n",
       "    </tr>\n",
       "  </tbody>\n",
       "</table>\n",
       "<p>1 rows × 36 columns</p>\n",
       "</div>"
      ],
      "text/plain": [
       "       num_obs  qmin  qmax      rmse  log_likelihood      emin      emax  \\\n",
       "57133       17  0.32  0.96  0.077821       18.633107 -0.135198  0.068878   \n",
       "\n",
       "          lemin     lemax  no_repulsion  ...  N_lo   N_hi      w_lo  \\\n",
       "57133 -0.135198  0.068878           0.0  ...   8.0  100.0  0.521078   \n",
       "\n",
       "            w_hi  CollTime_lo  CollTime_hi  cluster_index  job_index  amax  \\\n",
       "57133  39.721946     0.001007     0.076764       23278799        118  1.78   \n",
       "\n",
       "       run  \n",
       "57133   26  \n",
       "\n",
       "[1 rows x 36 columns]"
      ]
     },
     "execution_count": 296,
     "metadata": {},
     "output_type": "execute_result"
    }
   ],
   "source": [
    "dg_fit_lst[0]"
   ]
  },
  {
   "cell_type": "code",
   "execution_count": 297,
   "id": "8bd540a5",
   "metadata": {
    "ExecuteTime": {
     "end_time": "2022-09-27T21:55:16.515328Z",
     "start_time": "2022-09-27T21:55:16.484889Z"
    }
   },
   "outputs": [],
   "source": [
    "dd=pd.concat(dg_fit_lst)\n",
    "dd['delta']=np.pi*dd['kappa']*dd['r']**2/dd['L']**2\n",
    "dd['krod']=np.pi*dd['kappa']*dd['r']**2/dd['D']\n",
    "dd['kroa']=np.pi*dd['kappa']*dd['r']**2/dd['varkappa']\n",
    "dd['doa']=dd['D']/dd['varkappa']\n",
    "dd['likelihood']=np.exp(dd['log_likelihood'])"
   ]
  },
  {
   "cell_type": "code",
   "execution_count": 298,
   "id": "d9884aec",
   "metadata": {
    "ExecuteTime": {
     "end_time": "2022-09-27T21:55:17.433240Z",
     "start_time": "2022-09-27T21:55:17.051859Z"
    }
   },
   "outputs": [
    {
     "data": {
      "image/png": "[encoded data removed]",
      "text/plain": [
       "<Figure size 432x288 with 1 Axes>"
      ]
     },
     "metadata": {},
     "output_type": "display_data"
    }
   ],
   "source": [
    "figsize = (6, 4)  #(5,4)\n",
    "fontsize=16\n",
    "fig, ax = plt.subplots(figsize=figsize)\n",
    "# dd.plot(x='D',y=['delta','rmse'],ax=ax)  \n",
    "# dd.plot(x='D',y=['kappa'],ax=ax)  \n",
    "dd.plot(x='D',y=['krod'],ax=ax)  \n",
    "format_plot(ax=ax,xlabel=r'$D$ (cm$^2$/s)',ylabel=r'$\\pi \\kappa r^2/D$',fontsize=fontsize,use_loglog=True)\n",
    "ax.set_title('Max Likelihood Fit Holds '+r'$\\pi \\kappa r^2/D$'+'\\nApproximately Constant for the Fenton-Karma Mode\\n',fontsize=fontsize)\n",
    "plt.show()"
   ]
  },
  {
   "cell_type": "code",
   "execution_count": 299,
   "id": "36911d35",
   "metadata": {
    "ExecuteTime": {
     "end_time": "2022-09-27T21:55:20.153332Z",
     "start_time": "2022-09-27T21:55:19.662922Z"
    }
   },
   "outputs": [
    {
     "data": {
      "text/plain": [
       "True"
      ]
     },
     "execution_count": 299,
     "metadata": {},
     "output_type": "execute_result"
    },
    {
     "data": {
      "image/png": "[encoded data removed]",
      "text/plain": [
       "<Figure size 432x288 with 1 Axes>"
      ]
     },
     "metadata": {},
     "output_type": "display_data"
    }
   ],
   "source": [
    "# col_lst=['D', 'varkappa','delta','rmse','log_likelihood','r', 'kappa']\n",
    "# sns.pairplot(dd[col_lst])\n",
    "\n",
    "figsize = (6, 4)  #(5,4)\n",
    "fontsize=16\n",
    "fig, ax = plt.subplots(figsize=figsize)\n",
    "# col_lst=['varkappa','delta','rmse','log_likelihood']\n",
    "# col_lst=['varkappa','delta','rmse','likelihood']\n",
    "# col_lst=['varkappa','delta','rmse']\n",
    "col_lst=['krod','kroa','delta','doa','rmse']\n",
    "# col_lst=['varkappa','delta']\n",
    "\n",
    "# for col in col_lst:\n",
    "dd.plot(x='D',y=col_lst,ax=ax)  \n",
    "format_plot(ax=ax,xlabel='$D$ (cm$^2$/s)',ylabel='$\\pi \\kappa r^2$ (cm$^2$/s)',fontsize=fontsize,use_loglog=True)   "
   ]
  },
  {
   "cell_type": "code",
   "execution_count": 300,
   "id": "5dec6c59",
   "metadata": {
    "ExecuteTime": {
     "end_time": "2022-09-27T21:55:25.422710Z",
     "start_time": "2022-09-27T21:55:25.221380Z"
    }
   },
   "outputs": [
    {
     "data": {
      "text/plain": [
       "True"
      ]
     },
     "execution_count": 300,
     "metadata": {},
     "output_type": "execute_result"
    },
    {
     "data": {
      "image/png": "[encoded data removed]",
      "text/plain": [
       "<Figure size 432x288 with 2 Axes>"
      ]
     },
     "metadata": {},
     "output_type": "display_data"
    }
   ],
   "source": [
    "# col_lst=['D', 'varkappa','delta','rmse','log_likelihood','r', 'kappa']\n",
    "# sns.pairplot(dd[col_lst])\n",
    "\n",
    "figsize = (6, 4)  #(5,4)\n",
    "fontsize=16\n",
    "fig, ax = plt.subplots(figsize=figsize)\n",
    "# col_lst=[,'rmse','log_likelihood']\n",
    "# for col in col_lst:\n",
    "# dd.plot.scatter(x='D',y='rmse',ax=ax)\n",
    "dd.plot.scatter(x='D',y='rmse',ax=ax,c='neighbor',cmap='bwr',vmin=0,vmax=1)\n",
    "# dd.plot.scatter(x='D',y='rmse',c='neighbor',cmap='bwr',vmin=0,vmax=1,ax=ax)\n",
    "format_plot(ax=ax,xlabel='$D$ (cm$^2$/s)',ylabel='$\\pi \\kappa r^2$ (cm$^2$/s)',fontsize=fontsize,use_loglog=False)   "
   ]
  },
  {
   "cell_type": "code",
   "execution_count": 301,
   "id": "f7ac071d",
   "metadata": {
    "ExecuteTime": {
     "end_time": "2022-09-27T21:55:30.514883Z",
     "start_time": "2022-09-27T21:55:29.521580Z"
    }
   },
   "outputs": [
    {
     "data": {
      "text/plain": [
       "True"
      ]
     },
     "execution_count": 301,
     "metadata": {},
     "output_type": "execute_result"
    },
    {
     "data": {
      "image/png": "[encoded data removed]",
      "text/plain": [
       "<Figure size 432x288 with 1 Axes>"
      ]
     },
     "metadata": {},
     "output_type": "display_data"
    }
   ],
   "source": [
    "figsize = (6, 4)  #(5,4)\n",
    "fontsize=16\n",
    "fig, ax = plt.subplots(figsize=figsize)\n",
    "# col_lst=[,'rmse','log_likelihood']\n",
    "# for col in col_lst:\n",
    "dd.plot.scatter(x='delta',y='rmse',ax=ax)\n",
    "# dd.plot.scatter(x='D',y='rmse',c='neighbor',cmap='bwr',vmin=0,vmax=1,ax=ax)\n",
    "format_plot(ax=ax,xlabel='$\\pi \\kappa r^2$ (cm$^2$/s)',ylabel='RMSE (Hz/cm$^2$)',fontsize=fontsize,use_loglog=False)   "
   ]
  },
  {
   "cell_type": "code",
   "execution_count": 302,
   "id": "f4947ccb",
   "metadata": {
    "ExecuteTime": {
     "end_time": "2022-09-27T21:55:40.757323Z",
     "start_time": "2022-09-27T21:55:40.564444Z"
    }
   },
   "outputs": [
    {
     "data": {
      "text/plain": [
       "True"
      ]
     },
     "execution_count": 302,
     "metadata": {},
     "output_type": "execute_result"
    },
    {
     "data": {
      "image/png": "[encoded data removed]",
      "text/plain": [
       "<Figure size 432x288 with 1 Axes>"
      ]
     },
     "metadata": {},
     "output_type": "display_data"
    }
   ],
   "source": [
    "figsize = (6, 4)  #(5,4)\n",
    "fontsize=16\n",
    "fig, ax = plt.subplots(figsize=figsize)\n",
    "# col_lst=[,'rmse','log_likelihood']\n",
    "# for col in col_lst:\n",
    "dd.plot.scatter(x='D',y='rmse',ax=ax)\n",
    "# dd.plot.scatter(x='D',y='rmse',c='neighbor',cmap='bwr',vmin=0,vmax=1,ax=ax)\n",
    "format_plot(ax=ax,xlabel='$D$ (cm$^2$/s)',ylabel='RMSE (Hz/cm$^2$)',fontsize=fontsize,use_loglog=False)   "
   ]
  },
  {
   "cell_type": "code",
   "execution_count": 303,
   "id": "8f987eb8",
   "metadata": {
    "ExecuteTime": {
     "end_time": "2022-09-27T21:55:53.838353Z",
     "start_time": "2022-09-27T21:55:53.073849Z"
    }
   },
   "outputs": [
    {
     "data": {
      "image/png": "[encoded data removed]",
      "text/plain": [
       "<Figure size 432x288 with 1 Axes>"
      ]
     },
     "metadata": {},
     "output_type": "display_data"
    }
   ],
   "source": [
    "figsize = (6, 4)  #(5,4)\n",
    "fontsize=16\n",
    "fig, ax = plt.subplots(figsize=figsize)\n",
    "#overlay with original death rates from wj\n",
    "ax = plot_death_rates_loglog_full(fk,lr,ax=ax,fontsize=fontsize,\n",
    "                                  x1lim=[0.008, 11], \n",
    "                                  x2lim=[0.01, 800],#250],\n",
    "                                  show_fk=True, show_lr=False,alpha=.4\n",
    "                                 )\n",
    "\n",
    "#plot the mle fits / loci of constant amax for increasing D\n",
    "vmin=np.min(D_values)\n",
    "vmax=np.max(D_values)\n",
    "#for each D value\n",
    "for D,x,y in zip(D_values,q_values_lst,w_values_lst):\n",
    "    #plot the xy values for the mle fit\n",
    "    ax.scatter(x,y,c=D+0.*x,cmap='Reds',vmin=vmin,vmax=vmax,label=f'{D=}',s=3,alpha=0.4,zorder=-1)\n",
    "\n",
    "    \n",
    "# Linear Particle (L=5)\n",
    "df_fit_fk = dict_results_fk_lst[0]['df_fit']\n",
    "dg_fit_fk = dict_results_fk_lst[0]['dg_fit']\n",
    "df_fit_lr = dict_results_lr_lst[0]['df_fit']\n",
    "dg_fit_lr = dict_results_lr_lst[0]['dg_fit']\n",
    "df_fit_fk.plot(x='q',y='w',alpha=0.7,ax=ax,color='k',label=f'Lin. Particle (L=5)')#,label='_Best Fit to FK')\n",
    "# df_fit_lr.plot(x='q',y='w',alpha=0.7,ax=ax,color='k',label='_Best Fit to LR')\n",
    "\n",
    "# # Linear Particle (L=10)\n",
    "# df_fit_fk = dict_results_fk_lst[1]['df_fit']\n",
    "# dg_fit_fk = dict_results_fk_lst[1]['dg_fit']\n",
    "# df_fit_lr = dict_results_lr_lst[1]['df_fit']\n",
    "# dg_fit_lr = dict_results_lr_lst[1]['dg_fit']\n",
    "# # df_fit_fk.plot(x='q',y='w',alpha=0.7,ax=ax,color='r',label=f'Linear Particle (L=10)')#,label='_Best Fit to FK')\n",
    "# df_fit_fk.plot(x='q',y='w',alpha=0.7,ax=ax,color='r',label=f'Lin. Particle (L=10)')#,label='_Best Fit to FK')\n",
    "# # df_fit_lr.plot(x='q',y='w',alpha=0.7,ax=ax,color='r',label='_Best Fit to LR')\n",
    "\n",
    "\n",
    "# format_plot\n",
    "ax.tick_params(top=True, right=True,direction='in',which='both')\n",
    "format_plot(ax=ax,xlabel=r'q (1/cm$^2$)',ylabel=r'w (Hz/cm$^2$)',fontsize=fontsize,use_loglog=True)\n",
    "# ax.legend(loc='upper left',fontsize=fontsize-2)\n",
    "# ax.legend(loc='lower right',fontsize=fontsize-2.,frameon=False,ncol=2)\n",
    "# leg = ax.legend(loc=(1.04,0.2),fontsize=fontsize-7.,frameon=False)\n",
    "# # leg = ax.legend(loc='upper left',fontsize=fontsize-3.,frameon=False,ncol=1)\n",
    "# for lh in leg.legendHandles: \n",
    "#     lh.set_alpha(1)\n",
    "ax.get_legend().remove()\n",
    "\n",
    "#add annotation\n",
    "# xytext=(0.09, 10)\n",
    "# xytext=(0.01, 90)\n",
    "# ax.annotate(r\"best fit ($a>0$)\", xy=xy, xytext=xytext,fontsize=fontsize)\n",
    "# .tick_params(labelbottom=False, labeltop=True, labelleft=False, labelright=False,\n",
    "#                      bottom=False, top=True, left=False, right=False)\n",
    "\n",
    "\n",
    "ax.annotate(r\"$a_{max}$ fixed, variable $D$\", xy=(0.3, 11), xytext=(0.012, 200),fontsize=fontsize-2)\n",
    "# xytext=(0.01, 240)\n",
    "# xy=(0.3, 11)\n",
    "# ax.annotate(r\"$a_{max}$ = const.\", xy=xy, xytext=(0.01, 40),fontsize=fontsize-2)\n",
    "# ax.annotate(r\"$a_{max}$ fixed to observed\", xy=xy, xytext=(0.01, 40),fontsize=fontsize-2)\n",
    "# ax.annotate(r\"$a_{max}$ fixed to observation\"+f\"\\nfrom MSR of full\", xy=xy, xytext=(0.01, 40),fontsize=fontsize-2)\n",
    "show_annoatations=False\n",
    "if show_annoatations:\n",
    "    # #add marker showing slope\n",
    "    annotation.slope_marker(origin=(1.8, 10),\n",
    "                            slope=1.4,\n",
    "                            text_kwargs={'color': 'black','fontsize':16, 'alpha':0.7},\n",
    "                            poly_kwargs={'facecolor': (0.5, 0.5, 0.5), 'alpha':0.5},ax=ax)\n",
    "    annotation.slope_marker(origin=(.75, 2.0),\n",
    "                            slope=2,\n",
    "                            text_kwargs={'color': 'black','fontsize':16, 'alpha':0.7},\n",
    "                            poly_kwargs={'facecolor': (0.5, 0.5, 0.5), 'alpha':0.5},ax=ax)\n",
    "    annotation.slope_marker(origin=(.35, .20),\n",
    "                            slope=3,\n",
    "                            text_kwargs={'color': 'black','fontsize':16, 'alpha':0.7},\n",
    "                            poly_kwargs={'facecolor': (0.5, 0.5, 0.5), 'alpha':0.5},ax=ax)\n",
    "plt.show()"
   ]
  },
  {
   "cell_type": "markdown",
   "id": "6f4e645a",
   "metadata": {
    "ExecuteTime": {
     "end_time": "2022-09-15T20:51:43.065980Z",
     "start_time": "2022-09-15T20:51:43.042665Z"
    }
   },
   "source": [
    "# TODO: streamplot of log likelihood in ($r$,$\\kappa$) to show attraction along line of constant $\\kappa\\pi r^2$"
   ]
  },
  {
   "cell_type": "code",
   "execution_count": 304,
   "id": "76d1e2e7",
   "metadata": {
    "ExecuteTime": {
     "end_time": "2022-09-27T21:56:25.960514Z",
     "start_time": "2022-09-27T21:56:25.925304Z"
    }
   },
   "outputs": [
    {
     "data": {
      "text/plain": [
       "26"
      ]
     },
     "execution_count": 304,
     "metadata": {},
     "output_type": "execute_result"
    }
   ],
   "source": [
    "#DONEE: write rmse from full powerlaw fit in notebook\n",
    "#DONE: recompute df_defects using the correct s (rmse from full powerlaw fit) in the likelihood computation\n",
    "#TODO: reload df_defects in the above from run_num=26\n",
    "#TODO: copy/paste the best parameter setting using the apparent maximum of likelihood\n",
    "#TODO: select all r,kappa that with a,D,neighbor,L fixed explicitely by ^that\n",
    "#TODO: scatter plot r,kappa on an xy scatter plot, coloring by log likelihood\n",
    "#TODO: \n",
    "run_num"
   ]
  },
  {
   "cell_type": "code",
   "execution_count": 305,
   "id": "8d17f05b",
   "metadata": {
    "ExecuteTime": {
     "end_time": "2022-09-27T21:56:26.858915Z",
     "start_time": "2022-09-27T21:56:26.720446Z"
    }
   },
   "outputs": [
    {
     "name": "stdout",
     "output_type": "stream",
     "text": [
      "range of parameter settings: (df_defects.shape=(44475, 36))\n",
      "               r    kappa         D  varkappa      amax        L\n",
      "min        0.005    200.0      0.05      0.30      1.78      5.0\n",
      "max        0.200    980.0      0.74      1.68      1.78      5.0\n",
      "count  44475.000  44475.0  44475.00  44475.00  44475.00  44475.0\n"
     ]
    },
    {
     "data": {
      "text/html": [
       "<div>\n",
       "<style scoped>\n",
       "    .dataframe tbody tr th:only-of-type {\n",
       "        vertical-align: middle;\n",
       "    }\n",
       "\n",
       "    .dataframe tbody tr th {\n",
       "        vertical-align: top;\n",
       "    }\n",
       "\n",
       "    .dataframe thead th {\n",
       "        text-align: right;\n",
       "    }\n",
       "</style>\n",
       "<table border=\"1\" class=\"dataframe\">\n",
       "  <thead>\n",
       "    <tr style=\"text-align: right;\">\n",
       "      <th></th>\n",
       "      <th>num_obs</th>\n",
       "      <th>qmin</th>\n",
       "      <th>qmax</th>\n",
       "      <th>rmse</th>\n",
       "      <th>log_likelihood</th>\n",
       "      <th>emin</th>\n",
       "      <th>emax</th>\n",
       "      <th>lemin</th>\n",
       "      <th>lemax</th>\n",
       "      <th>no_repulsion</th>\n",
       "      <th>...</th>\n",
       "      <th>N_lo</th>\n",
       "      <th>N_hi</th>\n",
       "      <th>w_lo</th>\n",
       "      <th>w_hi</th>\n",
       "      <th>CollTime_lo</th>\n",
       "      <th>CollTime_hi</th>\n",
       "      <th>cluster_index</th>\n",
       "      <th>job_index</th>\n",
       "      <th>amax</th>\n",
       "      <th>run</th>\n",
       "    </tr>\n",
       "  </thead>\n",
       "  <tbody>\n",
       "    <tr>\n",
       "      <th>112845</th>\n",
       "      <td>17</td>\n",
       "      <td>0.32</td>\n",
       "      <td>0.96</td>\n",
       "      <td>0.098287</td>\n",
       "      <td>9.030665</td>\n",
       "      <td>-0.166206</td>\n",
       "      <td>-0.113929</td>\n",
       "      <td>-0.166206</td>\n",
       "      <td>-0.113929</td>\n",
       "      <td>0.0</td>\n",
       "      <td>...</td>\n",
       "      <td>8.0</td>\n",
       "      <td>100.0</td>\n",
       "      <td>0.490070</td>\n",
       "      <td>40.444894</td>\n",
       "      <td>0.000989</td>\n",
       "      <td>0.081621</td>\n",
       "      <td>23278799</td>\n",
       "      <td>116</td>\n",
       "      <td>1.78</td>\n",
       "      <td>26</td>\n",
       "    </tr>\n",
       "    <tr>\n",
       "      <th>143707</th>\n",
       "      <td>17</td>\n",
       "      <td>0.32</td>\n",
       "      <td>0.96</td>\n",
       "      <td>0.849868</td>\n",
       "      <td>-90.117489</td>\n",
       "      <td>-0.128272</td>\n",
       "      <td>1.648422</td>\n",
       "      <td>-0.128272</td>\n",
       "      <td>1.648422</td>\n",
       "      <td>0.0</td>\n",
       "      <td>...</td>\n",
       "      <td>8.0</td>\n",
       "      <td>100.0</td>\n",
       "      <td>0.528004</td>\n",
       "      <td>93.240093</td>\n",
       "      <td>0.000429</td>\n",
       "      <td>0.075757</td>\n",
       "      <td>23278799</td>\n",
       "      <td>439</td>\n",
       "      <td>1.78</td>\n",
       "      <td>26</td>\n",
       "    </tr>\n",
       "    <tr>\n",
       "      <th>159257</th>\n",
       "      <td>17</td>\n",
       "      <td>0.32</td>\n",
       "      <td>0.96</td>\n",
       "      <td>0.237745</td>\n",
       "      <td>-2.091206</td>\n",
       "      <td>-0.143357</td>\n",
       "      <td>-0.544442</td>\n",
       "      <td>-0.143357</td>\n",
       "      <td>-0.544442</td>\n",
       "      <td>0.0</td>\n",
       "      <td>...</td>\n",
       "      <td>8.0</td>\n",
       "      <td>100.0</td>\n",
       "      <td>0.512919</td>\n",
       "      <td>34.965035</td>\n",
       "      <td>0.001144</td>\n",
       "      <td>0.077985</td>\n",
       "      <td>23278799</td>\n",
       "      <td>173</td>\n",
       "      <td>1.78</td>\n",
       "      <td>26</td>\n",
       "    </tr>\n",
       "    <tr>\n",
       "      <th>42236</th>\n",
       "      <td>17</td>\n",
       "      <td>0.32</td>\n",
       "      <td>0.96</td>\n",
       "      <td>0.370223</td>\n",
       "      <td>-5.932909</td>\n",
       "      <td>-0.135280</td>\n",
       "      <td>0.656935</td>\n",
       "      <td>-0.135280</td>\n",
       "      <td>0.656935</td>\n",
       "      <td>0.0</td>\n",
       "      <td>...</td>\n",
       "      <td>8.0</td>\n",
       "      <td>100.0</td>\n",
       "      <td>0.520996</td>\n",
       "      <td>77.220077</td>\n",
       "      <td>0.000518</td>\n",
       "      <td>0.076776</td>\n",
       "      <td>23278799</td>\n",
       "      <td>725</td>\n",
       "      <td>1.78</td>\n",
       "      <td>26</td>\n",
       "    </tr>\n",
       "    <tr>\n",
       "      <th>143703</th>\n",
       "      <td>17</td>\n",
       "      <td>0.32</td>\n",
       "      <td>0.96</td>\n",
       "      <td>0.125002</td>\n",
       "      <td>8.998683</td>\n",
       "      <td>-0.150874</td>\n",
       "      <td>0.259541</td>\n",
       "      <td>-0.150874</td>\n",
       "      <td>0.259541</td>\n",
       "      <td>0.0</td>\n",
       "      <td>...</td>\n",
       "      <td>8.0</td>\n",
       "      <td>100.0</td>\n",
       "      <td>0.505401</td>\n",
       "      <td>46.620047</td>\n",
       "      <td>0.000858</td>\n",
       "      <td>0.079145</td>\n",
       "      <td>23278799</td>\n",
       "      <td>331</td>\n",
       "      <td>1.78</td>\n",
       "      <td>26</td>\n",
       "    </tr>\n",
       "  </tbody>\n",
       "</table>\n",
       "<p>5 rows × 36 columns</p>\n",
       "</div>"
      ],
      "text/plain": [
       "        num_obs  qmin  qmax      rmse  log_likelihood      emin      emax  \\\n",
       "112845       17  0.32  0.96  0.098287        9.030665 -0.166206 -0.113929   \n",
       "143707       17  0.32  0.96  0.849868      -90.117489 -0.128272  1.648422   \n",
       "159257       17  0.32  0.96  0.237745       -2.091206 -0.143357 -0.544442   \n",
       "42236        17  0.32  0.96  0.370223       -5.932909 -0.135280  0.656935   \n",
       "143703       17  0.32  0.96  0.125002        8.998683 -0.150874  0.259541   \n",
       "\n",
       "           lemin     lemax  no_repulsion  ...  N_lo   N_hi      w_lo  \\\n",
       "112845 -0.166206 -0.113929           0.0  ...   8.0  100.0  0.490070   \n",
       "143707 -0.128272  1.648422           0.0  ...   8.0  100.0  0.528004   \n",
       "159257 -0.143357 -0.544442           0.0  ...   8.0  100.0  0.512919   \n",
       "42236  -0.135280  0.656935           0.0  ...   8.0  100.0  0.520996   \n",
       "143703 -0.150874  0.259541           0.0  ...   8.0  100.0  0.505401   \n",
       "\n",
       "             w_hi  CollTime_lo  CollTime_hi  cluster_index  job_index  amax  \\\n",
       "112845  40.444894     0.000989     0.081621       23278799        116  1.78   \n",
       "143707  93.240093     0.000429     0.075757       23278799        439  1.78   \n",
       "159257  34.965035     0.001144     0.077985       23278799        173  1.78   \n",
       "42236   77.220077     0.000518     0.076776       23278799        725  1.78   \n",
       "143703  46.620047     0.000858     0.079145       23278799        331  1.78   \n",
       "\n",
       "        run  \n",
       "112845   26  \n",
       "143707   26  \n",
       "159257   26  \n",
       "42236    26  \n",
       "143703   26  \n",
       "\n",
       "[5 rows x 36 columns]"
      ]
     },
     "execution_count": 305,
     "metadata": {},
     "output_type": "execute_result"
    }
   ],
   "source": [
    "# amax = 10.147 #LR 200x200 diffCoeff=0.001, src: wj\n",
    "# df_defects = df_defects_lr[df_defects_lr['amax']==amax].sort_values(by='D')\n",
    "\n",
    "amax=1.78 #FK 200x200 diffCoeff=0.0005, src: wj\n",
    "# amax=1.781 #FK 200x200 diffCoeff=0.0005, src: wj\n",
    "df_defects = df_defects_fk[df_defects_fk['amax']==amax].sort_values(by='D')\n",
    "print(f\"range of parameter settings: ({df_defects.shape=})\")\n",
    "print(df_defects.describe()[['r','kappa','D','varkappa','amax','L']].T[['min','max','count']].T)\n",
    "df_defects.head()"
   ]
  },
  {
   "cell_type": "code",
   "execution_count": null,
   "id": "55eb6f47",
   "metadata": {},
   "outputs": [],
   "source": []
  },
  {
   "cell_type": "code",
   "execution_count": 464,
   "id": "41b4a904",
   "metadata": {
    "ExecuteTime": {
     "end_time": "2022-09-27T23:16:48.336823Z",
     "start_time": "2022-09-27T23:16:48.301375Z"
    }
   },
   "outputs": [
    {
     "data": {
      "text/plain": [
       "varkappa\n",
       "0.30    857\n",
       "0.33    873\n",
       "0.36    879\n",
       "0.39    898\n",
       "0.42    898\n",
       "0.45    906\n",
       "0.48    917\n",
       "0.51    927\n",
       "0.54    927\n",
       "0.57    937\n",
       "0.60    949\n",
       "0.63    953\n",
       "0.66    956\n",
       "0.69    955\n",
       "0.72    958\n",
       "0.75    953\n",
       "0.78    960\n",
       "0.81    960\n",
       "0.84    960\n",
       "0.87    960\n",
       "0.90    960\n",
       "0.93    959\n",
       "0.96    953\n",
       "0.99    957\n",
       "1.02    960\n",
       "1.05    960\n",
       "1.08    960\n",
       "1.11    960\n",
       "1.14    960\n",
       "1.17    948\n",
       "1.20    956\n",
       "1.23    960\n",
       "1.26    960\n",
       "1.29    960\n",
       "1.32    960\n",
       "1.35    960\n",
       "1.38    960\n",
       "1.41    960\n",
       "1.44    960\n",
       "1.47    960\n",
       "1.50    959\n",
       "1.53    960\n",
       "1.56    960\n",
       "1.59    960\n",
       "1.62    960\n",
       "1.65    960\n",
       "1.68    960\n",
       "Name: varkappa, dtype: int64"
      ]
     },
     "execution_count": 464,
     "metadata": {},
     "output_type": "execute_result"
    }
   ],
   "source": [
    "df_defects.groupby(by='varkappa')['varkappa'].count()\n",
    "# .hist()\n",
    "# plt.show()"
   ]
  },
  {
   "cell_type": "code",
   "execution_count": 465,
   "id": "edade614",
   "metadata": {
    "ExecuteTime": {
     "end_time": "2022-09-27T23:16:48.765444Z",
     "start_time": "2022-09-27T23:16:48.740169Z"
    }
   },
   "outputs": [
    {
     "name": "stdout",
     "output_type": "stream",
     "text": [
      "(1.68, 0.05, 0.0, 5.0)\n",
      "(0.015, 960.0)\n"
     ]
    },
    {
     "data": {
      "text/plain": [
       "(-24055.81568028658, 18.63310679757182)"
      ]
     },
     "execution_count": 465,
     "metadata": {},
     "output_type": "execute_result"
    }
   ],
   "source": [
    "#identify the best parameter setting\n",
    "max_likelihood = df_defects['log_likelihood'].max()\n",
    "dg = df_defects[max_likelihood == df_defects['log_likelihood']]\n",
    "alinear_best = dg['varkappa'].values[0]\n",
    "D_best = dg['D'].values[0]\n",
    "r_best = dg['r'].values[0]\n",
    "kappa_best = dg['kappa'].values[0]\n",
    "L_best = dg['L'].values[0]\n",
    "neighbor_best = dg['neighbor'].values[0]\n",
    "print((alinear_best,D_best,neighbor_best,L_best))\n",
    "print((r_best,kappa_best))\n",
    "np.min(df_defects['log_likelihood']),max_likelihood"
   ]
  },
  {
   "cell_type": "code",
   "execution_count": 466,
   "id": "ff5aac73",
   "metadata": {
    "ExecuteTime": {
     "end_time": "2022-09-27T23:16:49.143184Z",
     "start_time": "2022-09-27T23:16:49.122654Z"
    }
   },
   "outputs": [],
   "source": [
    "# (1.68, 0.05, 0.0, 5.0)\n",
    "# (0.03, 720.0)\n"
   ]
  },
  {
   "cell_type": "code",
   "execution_count": 492,
   "id": "d661911a",
   "metadata": {
    "ExecuteTime": {
     "end_time": "2022-09-27T23:29:43.877063Z",
     "start_time": "2022-09-27T23:29:43.848207Z"
    }
   },
   "outputs": [
    {
     "data": {
      "text/plain": [
       "960"
      ]
     },
     "execution_count": 492,
     "metadata": {},
     "output_type": "execute_result"
    }
   ],
   "source": [
    "alinear_best\n",
    "query = df_defects['varkappa']==alinear_best\n",
    "query&= df_defects['D']==D_best\n",
    "query&= df_defects['L']==L_best\n",
    "query&= df_defects['neighbor']==neighbor_best\n",
    "sum(query)"
   ]
  },
  {
   "cell_type": "code",
   "execution_count": 493,
   "id": "bd331610",
   "metadata": {
    "ExecuteTime": {
     "end_time": "2022-09-27T23:29:44.123819Z",
     "start_time": "2022-09-27T23:29:44.101161Z"
    }
   },
   "outputs": [],
   "source": [
    "#constrain to the best parameter settings save for r and kappa\n",
    "query = df_defects['varkappa']==alinear_best\n",
    "query&= df_defects['D']==D_best\n",
    "query&= df_defects['L']==L_best\n",
    "query&= df_defects['neighbor']==neighbor_best\n",
    "#select all such parameter settings\n",
    "dh = df_defects[query]"
   ]
  },
  {
   "cell_type": "code",
   "execution_count": 494,
   "id": "1a0c059c",
   "metadata": {
    "ExecuteTime": {
     "end_time": "2022-09-27T23:29:44.522749Z",
     "start_time": "2022-09-27T23:29:44.371371Z"
    }
   },
   "outputs": [
    {
     "data": {
      "image/png": "[encoded data removed]",
      "text/plain": [
       "<Figure size 432x288 with 1 Axes>"
      ]
     },
     "metadata": {},
     "output_type": "display_data"
    }
   ],
   "source": [
    "x_values,y_values,c_values=dh[['r','kappa','log_likelihood']].values.T\n",
    "# #switch to seconds from Hertz on yaxis\n",
    "# y_values=1/y_values\n",
    "x_values.shape,y_values.shape,c_values.shape\n",
    "#basic scatter plot in r,kappa\n",
    "# vmin = np.min(c_values)\n",
    "vmin=0\n",
    "vmax = np.max(c_values)\n",
    "fig,ax=plt.subplots(figsize=figsize)\n",
    "ax.scatter(x_values,y_values,s=50,c=c_values,vmin=vmin,vmax=vmax,cmap='viridis')\n",
    "#format_plot\n",
    "format_plot(ax=ax,xlabel=r'$r$ (cm)',ylabel=r'$\\kappa$ (Hz)',fontsize=fontsize)\n",
    "plt.show()"
   ]
  },
  {
   "cell_type": "code",
   "execution_count": 495,
   "id": "93b7f665",
   "metadata": {
    "ExecuteTime": {
     "end_time": "2022-09-27T23:29:44.822050Z",
     "start_time": "2022-09-27T23:29:44.668181Z"
    }
   },
   "outputs": [
    {
     "data": {
      "image/png": "[encoded data removed]",
      "text/plain": [
       "<Figure size 432x288 with 1 Axes>"
      ]
     },
     "metadata": {},
     "output_type": "display_data"
    }
   ],
   "source": [
    "fig,ax=plt.subplots(figsize=figsize)\n",
    "ax.scatter(x_values,1/y_values,s=50,c=c_values,vmin=vmin,vmax=vmax,cmap='viridis')\n",
    "#format_plot\n",
    "format_plot(ax=ax,xlabel=r'$r$ (cm)',ylabel=r'$1/\\kappa$ (s)',fontsize=fontsize)#,use_loglog=True)\n",
    "ax.set_xlim([0.001,0.1])\n",
    "ax.set_ylim([0.001,0.005])\n",
    "plt.show()"
   ]
  },
  {
   "cell_type": "code",
   "execution_count": 496,
   "id": "6065d6d5",
   "metadata": {
    "ExecuteTime": {
     "end_time": "2022-09-27T23:29:45.131531Z",
     "start_time": "2022-09-27T23:29:45.104998Z"
    }
   },
   "outputs": [
    {
     "data": {
      "text/plain": [
       "(-2061.126135954136, -194.93327056505842, 18.63310679757182)"
      ]
     },
     "execution_count": 496,
     "metadata": {},
     "output_type": "execute_result"
    }
   ],
   "source": [
    "# x_values,y_values,c_values=dh[['r','kappa','log_likelihood']].values.T\n",
    "# # #switch to seconds from Hertz on yaxis\n",
    "# # y_values=1/y_values\n",
    "# # #square the xaxis \n",
    "# # x_values**=2\n",
    "# x_values.shape,y_values.shape,c_values.shape\n",
    "\n",
    "x,y,z = meshgrid_heatmap_from_scatter(x_values,y_values,c_values)\n",
    "np.min(z),np.mean(z),np.max(z)"
   ]
  },
  {
   "cell_type": "code",
   "execution_count": 497,
   "id": "40217bdb",
   "metadata": {
    "ExecuteTime": {
     "end_time": "2022-09-27T23:29:46.046799Z",
     "start_time": "2022-09-27T23:29:45.548877Z"
    }
   },
   "outputs": [
    {
     "data": {
      "image/png": "[encoded data removed]",
      "text/plain": [
       "<Figure size 432x288 with 2 Axes>"
      ]
     },
     "metadata": {},
     "output_type": "display_data"
    }
   ],
   "source": [
    "#DONE: plot level sets of likelihood\n",
    "fig,ax=plt.subplots(figsize=figsize)\n",
    "\n",
    "\n",
    "# levels = np.array([-1000,-500,-100,0,5,10,15,20])+1000.1\n",
    "# norm=colors.LogNorm(vmin=0.1,vmax=vmax+1000+0.1)\n",
    "# cs = ax.contourf(x, y, z+1000.1, levels=levels, cmap=cmap,norm=norm)\n",
    "# vmin=np.min(c_values)\n",
    "# vmax=np.max(c_values)\n",
    "levels = np.linspace(vmin, vmax, 400)\n",
    "# ax.scatter(x_values,y_values,s=50,c=c_values,vmin=vmin,vmax=vmax,cmap='viridis')\n",
    "cs = ax.contourf(x, y, z, levels=levels, cmap=cmap)\n",
    "\n",
    "#TODO: modify the top color to orange\n",
    "\n",
    "fig.colorbar(cs, ax=axs[0], format=\"%.2f\")\n",
    "\n",
    "#format_plot\n",
    "format_plot(ax=ax,xlabel=r'$r$ (cm)',ylabel=r'$\\kappa$ (Hz)',fontsize=fontsize)\n",
    "# format_plot(ax=ax,ylabel=r'$r^2$ (cm$^2$)',xlabel=r'$1/\\kappa$ (s)',fontsize=fontsize)\n",
    "# ax.set_xscale('log')\n",
    "# ax.set_yscale('log')\n",
    "\n",
    "# #TODO: plot the MLE fit as a big black dot\n",
    "# x_best = r_best**2\n",
    "# y_best = 1/kappa_best\n",
    "# ax.scatter([x_best],[y_best],c='k',s=10,alpha=1,marker='o')\n",
    "ax.tick_params(bottom=True, left=True, top=True, right=True,direction='in',which='both',length=5)\n",
    "# ax.tick_params(bottom=True, left=True, top=True, right=True,direction='in',which='major',length=8)\n",
    "#TODO: format the contour plot to be black-white or grayscale with labels annotating each contour trace. \n",
    "\n",
    "#add formated colorbar\n",
    "cax, kw = mpl.colorbar.make_axes_gridspec(ax, orientation=orientation,#pad=0.1,\n",
    "                                       fraction=fraction, shrink=shrink)#, cmap=cmap)#aspect=aspect)\n",
    "cbar=fig.colorbar(cs, cax=cax, orientation=orientation, extend=extend)#, cmap=cmap)#, fontsize=fontsize)\n",
    "cbar.ax.tick_params(labelsize=fontsize)\n",
    "cbar.set_label(label=cbar_label,size=fontsize)\n",
    "# cbar.ax.set_yticks(rotation=30)\n",
    "# cbar.ax.set_yticks(rotation=45, ha='right')\n",
    "for label in cbar.ax.get_yticklabels():\n",
    "    label.set_rotation(-15)\n",
    "\n",
    "#format plot\n",
    "# # ax.set_title(title,fontsize=fontsize+2)\n",
    "# format_plot(ax=ax,xlabel=xlabel,ylabel=ylabel,\n",
    "#     fontsize=fontsize)#,**kwargs)\n",
    "# set the limits of the plot to the limits of the data\n",
    "ax.axis([x.min(), x.max(), y.min(), y.max()])\n",
    "\n",
    "\n",
    "plt.show()"
   ]
  },
  {
   "cell_type": "code",
   "execution_count": 498,
   "id": "2849d3b0",
   "metadata": {
    "ExecuteTime": {
     "end_time": "2022-09-27T23:29:46.075061Z",
     "start_time": "2022-09-27T23:29:46.048790Z"
    }
   },
   "outputs": [
    {
     "data": {
      "text/plain": [
       "(-2061.126135954136, -194.93327056505842, 18.63310679757182)"
      ]
     },
     "execution_count": 498,
     "metadata": {},
     "output_type": "execute_result"
    }
   ],
   "source": [
    "x_values,y_values,c_values=dh[['r','kappa','log_likelihood']].values.T\n",
    "#switch to seconds from Hertz on yaxis\n",
    "y_values=1/y_values\n",
    "#square the xaxis \n",
    "x_values**=2\n",
    "x_values.shape,y_values.shape,c_values.shape\n",
    "\n",
    "x,y,z = meshgrid_heatmap_from_scatter(x_values,y_values,c_values)\n",
    "np.min(z),np.mean(z),np.max(z)"
   ]
  },
  {
   "cell_type": "code",
   "execution_count": 339,
   "id": "dd3c3570",
   "metadata": {
    "ExecuteTime": {
     "end_time": "2022-09-27T22:08:03.540644Z",
     "start_time": "2022-09-27T22:08:03.519493Z"
    }
   },
   "outputs": [],
   "source": [
    "fontsize=14\n",
    "xlabel=r'$1/\\kappa$ (s)'\n",
    "ylabel=r'$r^2$ (cm$^2$)'\n",
    "# cbar_label='Log-likelihood of linear to $W_{-2}$ of Fenton-Karma'\n",
    "cbar_label='Log-Likelihood'\n",
    "fraction=0.07\n",
    "shrink=0.85\n",
    "aspect=35\n",
    "# orientation='horizontal'\n",
    "orientation='vertical'\n",
    "extend='max'"
   ]
  },
  {
   "cell_type": "code",
   "execution_count": 375,
   "id": "07cf1cbd",
   "metadata": {
    "ExecuteTime": {
     "end_time": "2022-09-27T22:31:22.882669Z",
     "start_time": "2022-09-27T22:31:22.653072Z"
    }
   },
   "outputs": [
    {
     "data": {
      "image/png": "[encoded data removed]",
      "text/plain": [
       "<Figure size 432x288 with 2 Axes>"
      ]
     },
     "metadata": {},
     "output_type": "display_data"
    }
   ],
   "source": [
    "#DONE: plot level sets of likelihood\n",
    "fig,ax=plt.subplots(figsize=figsize)\n",
    "\n",
    "\n",
    "# levels = np.array([-1000,-500,-100,0,5,10,15,20])+1000.1\n",
    "# norm=colors.LogNorm(vmin=0.1,vmax=vmax+1000+0.1)\n",
    "# cs = ax.contourf(x, y, z+1000.1, levels=levels, cmap=cmap,norm=norm)\n",
    "\n",
    "# levels = np.linspace(vmin, vmax, 6)\n",
    "# levels = np.array([-1000,-500,-100,0,5,10,15,20])\n",
    "# levels = np.array([-1000,-500,-100,0,5,10])#,15,20])\n",
    "levels = np.array([-1000,-500,-100,0,5,15])#,15,20])\n",
    "# ax.scatter(x_values,y_values,s=50,c=c_values,vmin=vmin,vmax=vmax,cmap='viridis')\n",
    "cs = ax.contourf(x, y, z, levels=levels, cmap=cmap)\n",
    "\n",
    "#TODO: modify the top color to orange\n",
    "\n",
    "fig.colorbar(cs, ax=axs[0], format=\"%.2f\")\n",
    "\n",
    "#format_plot\n",
    "# format_plot(ax=ax,ylabel=r'$r$ (cm)',xlabel=r'$1/\\kappa$ (s)',fontsize=fontsize)\n",
    "format_plot(ax=ax,ylabel=r'$r^2$ (cm$^2$)',xlabel=r'$1/\\kappa$ (s)',fontsize=fontsize)\n",
    "# ax.set_xscale('log')\n",
    "# ax.set_yscale('log')\n",
    "\n",
    "#TODO: plot the MLE fit as a big black dot\n",
    "x_best = r_best**2\n",
    "y_best = 1/kappa_best\n",
    "ax.scatter([x_best],[y_best],c='k',s=10,alpha=1,marker='o')\n",
    "\n",
    "#TODO: format the contour plot to be black-white or grayscale with labels annotating each contour trace. \n",
    "\n",
    "#add formated colorbar\n",
    "cax, kw = mpl.colorbar.make_axes_gridspec(ax, orientation=orientation,#pad=0.1,\n",
    "                                       fraction=fraction, shrink=shrink)#, cmap=cmap)#aspect=aspect)\n",
    "cbar=fig.colorbar(cs, cax=cax, orientation=orientation, extend=extend)#, cmap=cmap)#, fontsize=fontsize)\n",
    "cbar.ax.tick_params(labelsize=fontsize)\n",
    "cbar.set_label(label=cbar_label,size=fontsize)\n",
    "# cbar.ax.set_yticks(rotation=30)\n",
    "# cbar.ax.set_yticks(rotation=45, ha='right')\n",
    "for label in cbar.ax.get_yticklabels():\n",
    "    label.set_rotation(-15)\n",
    "\n",
    "#format plot\n",
    "# ax.set_title(title,fontsize=fontsize+2)\n",
    "format_plot(ax=ax,xlabel=xlabel,ylabel=ylabel,\n",
    "    fontsize=fontsize)#,**kwargs)\n",
    "# set the limits of the plot to the limits of the data\n",
    "ax.axis([x.min(), x.max(), y.min(), y.max()])\n",
    "\n",
    "\n",
    "plt.show()"
   ]
  },
  {
   "cell_type": "code",
   "execution_count": 444,
   "id": "80444256",
   "metadata": {
    "ExecuteTime": {
     "end_time": "2022-09-27T23:11:15.208404Z",
     "start_time": "2022-09-27T23:11:14.764599Z"
    }
   },
   "outputs": [
    {
     "data": {
      "image/png": "[encoded data removed]",
      "text/plain": [
       "<Figure size 432x288 with 2 Axes>"
      ]
     },
     "metadata": {},
     "output_type": "display_data"
    }
   ],
   "source": [
    "#heretim\n",
    "#DONE: plot level sets of likelihood\n",
    "#TODO: plot old timey annotated contour plot\n",
    "fig,ax=plt.subplots(figsize=figsize)\n",
    "\n",
    "\n",
    "# levels = np.array([-1000,-500,-100,0,5,10,15,20])+1000.1\n",
    "# norm=colors.LogNorm(vmin=0.1,vmax=vmax+1000+0.1)\n",
    "# cs = ax.contourf(x, y, z+1000.1, levels=levels, cmap=cmap,norm=norm)\n",
    "\n",
    "# levels = np.linspace(vmin, vmax, 6)\n",
    "# levels = np.array([-1000,-500,-100,0,5,10,15,20])\n",
    "# levels = np.array([-1000,-500,-100,0,5,10])#,15,20])\n",
    "# levels = np.array([-1000,-500,-100,0,10])#20])#,15,20])\n",
    "levels = np.array([-1000,-500,-100,-10,10])#20])#,15,20])\n",
    "# ax.scatter(x_values,y_values,s=50,c=c_values,vmin=vmin,vmax=vmax,cmap='viridis')\n",
    "# cs = ax.contourf(x, y, z, levels=levels, cmap=cmap)\n",
    "cs = ax.contour(x, y, z, levels=levels, cmap=cmap)\n",
    "ax.clabel(cs, inline=True, fontsize=10)\n",
    "\n",
    "# #TODO: format the contour plot to be black-white or grayscale with labels annotating each contour trace. \n",
    "# CS = ax.contour(X, Y, Z)\n",
    "# ax.clabel(CS, inline=True, fontsize=10)\n",
    "# ax.set_title('Simplest default with labels')\n",
    "\n",
    "\n",
    "\n",
    "#TODO: modify the top color to orange\n",
    "\n",
    "fig.colorbar(cs, ax=axs[0], format=\"%.2f\")\n",
    "\n",
    "# #format_plot\n",
    "# # format_plot(ax=ax,ylabel=r'$r$ (cm)',xlabel=r'$1/\\kappa$ (s)',fontsize=fontsize)\n",
    "# format_plot(ax=ax,ylabel=r'$r^2$ (cm$^2$)',xlabel=r'$1/\\kappa$ (s)',fontsize=fontsize)\n",
    "# # ax.set_xscale('log')\n",
    "# # ax.set_yscale('log')\n",
    "\n",
    "#add formated colorbar\n",
    "cax, kw = mpl.colorbar.make_axes_gridspec(ax, orientation=orientation,#pad=0.1,\n",
    "                                       fraction=fraction, shrink=shrink)#, cmap=cmap)#aspect=aspect)\n",
    "cbar=fig.colorbar(cs, cax=cax, orientation=orientation, extend=extend)#, cmap=cmap)#, fontsize=fontsize)\n",
    "cbar.ax.tick_params(labelsize=fontsize)\n",
    "cbar.set_label(label=cbar_label,size=fontsize)\n",
    "# cbar.ax.set_yticks(rotation=30)\n",
    "# cbar.ax.set_yticks(rotation=45, ha='right')\n",
    "for label in cbar.ax.get_yticklabels():\n",
    "    label.set_rotation(-15)\n",
    "\n",
    "#plot the MLE fit as a big black dot\n",
    "x_best = r_best**2\n",
    "y_best = 1/kappa_best\n",
    "ax.scatter([x_best],[y_best],c='k',s=70,alpha=1,marker='d',zorder=100)\n",
    "\n",
    "ax.tick_params(bottom=True, left=True, top=True, right=True,direction='in',which='both',length=5)\n",
    "ax.tick_params(bottom=True, left=True, top=True, right=True,direction='in',which='major',length=8)\n",
    "    \n",
    "# fig, ax = plt.subplots()\n",
    "# CS = ax.contour(X, Y, Z, 6, colors='k')  # Negative contours default to dashed.\n",
    "# ax.clabel(CS, fontsize=9, inline=True)\n",
    "# ax.set_title('Single color - negative contours dashed')\n",
    "    \n",
    "# ax.\n",
    "    \n",
    "#format plot\n",
    "# ax.set_title(title,fontsize=fontsize+2)\n",
    "# format_plot(ax=ax,xlabel=xlabel,ylabel=ylabel,\n",
    "#     fontsize=fontsize)#,**kwargs)\n",
    "format_plot(ax=ax,xlabel=xlabel,ylabel=ylabel,\n",
    "    fontsize=fontsize,use_loglog=True)\n",
    "# set the limits of the plot to the limits of the data\n",
    "ax.axis([x.min(), x.max(), y.min(), y.max()])\n",
    "# ax.axis([x.min(), x.max(), 9e-4,1.1e-2])\n",
    "# ax.axis([x.min(), x.max(), 9e-4,6e-3])\n",
    "\n",
    "\n",
    "plt.show()"
   ]
  },
  {
   "cell_type": "code",
   "execution_count": 445,
   "id": "19aa9902",
   "metadata": {
    "ExecuteTime": {
     "end_time": "2022-09-27T23:11:15.231119Z",
     "start_time": "2022-09-27T23:11:15.212478Z"
    }
   },
   "outputs": [],
   "source": [
    "#set negative lines to be solid instead of dotted\n",
    "plt.rcParams['contour.negative_linestyle'] = 'solid'\n"
   ]
  },
  {
   "cell_type": "code",
   "execution_count": 446,
   "id": "37b889a2",
   "metadata": {
    "ExecuteTime": {
     "end_time": "2022-09-27T23:11:15.858651Z",
     "start_time": "2022-09-27T23:11:15.717701Z"
    }
   },
   "outputs": [
    {
     "data": {
      "image/png": "[encoded data removed]",
      "text/plain": [
       "<Figure size 432x288 with 1 Axes>"
      ]
     },
     "metadata": {},
     "output_type": "display_data"
    }
   ],
   "source": [
    "#heretim\n",
    "#DONE: plot level sets of likelihood\n",
    "#TODO: plot old timey annotated contour plot\n",
    "fig,ax=plt.subplots(figsize=figsize)\n",
    "\n",
    "#TODO: add manual_locations\n",
    "manual_locations = [\n",
    "    (0.035,0.0015),(0.027,0.0025),(0.015, 0.003),(0.009,0.0033),(0.010,0.0038), (0.01,0.0047)]\n",
    "\n",
    "levels = np.array([-1000,-500,-100,-5,0,5])\n",
    "cs = ax.contour(x, y, z, levels=levels, colors='k')\n",
    "ax.clabel(cs, inline=True, fontsize=10, manual=manual_locations)\n",
    "# ax.clabel(cs, inline=True, fontsize=10)\n",
    "\n",
    "#plot the MLE fit as a big black diamond\n",
    "x_best = r_best**2\n",
    "y_best = 1/kappa_best\n",
    "ax.scatter([x_best],[y_best],c='k',s=70,alpha=1,marker='d',zorder=100)\n",
    "    \n",
    "#format plot\n",
    "format_plot(ax=ax,xlabel=xlabel,ylabel=ylabel,\n",
    "    fontsize=fontsize,use_loglog=False)\n",
    "#     fontsize=fontsize,use_loglog=True)\n",
    "# set the limits of the plot to the limits of the data\n",
    "ax.axis([x.min(), x.max(), y.min(), y.max()])\n",
    "# ax.axis([x.min(), x.max(), 9e-4,1.1e-2])\n",
    "# ax.axis([x.min(), x.max(), 9e-4,6e-3])\n",
    "# # ax.set_xscale('log')\n",
    "# # ax.set_yscale('log')\n",
    "ax.tick_params(bottom=True, left=True, top=True, right=True,direction='in',which='both',length=5)\n",
    "# ax.tick_params(bottom=True, left=True, top=True, right=True,direction='in',which='major',length=8)\n",
    "plt.show()"
   ]
  },
  {
   "cell_type": "code",
   "execution_count": 491,
   "id": "acc78ad7",
   "metadata": {
    "ExecuteTime": {
     "end_time": "2022-09-27T23:22:20.746382Z",
     "start_time": "2022-09-27T23:22:20.725539Z"
    }
   },
   "outputs": [
    {
     "name": "stdout",
     "output_type": "stream",
     "text": [
      "using our prior parameter setting: alinear_best=1.68, D_best=0.05, L_best=5.0, int(neighbor_best)=0.\n",
      "the MLE fit is given by r_best=0.015, kappa_best=960.0\n"
     ]
    }
   ],
   "source": [
    "print(f\"using our prior parameter setting: {alinear_best=}, {D_best=}, {L_best=}, {int(neighbor_best)=}.\")\n",
    "print(f\"the MLE fit is given by {r_best=}, {kappa_best=}\")"
   ]
  },
  {
   "cell_type": "code",
   "execution_count": 123,
   "id": "01bd19db",
   "metadata": {
    "ExecuteTime": {
     "end_time": "2022-09-27T20:16:24.098269Z",
     "start_time": "2022-09-27T20:16:24.081088Z"
    }
   },
   "outputs": [],
   "source": [
    "#GOAL: streamplot in r,kappa\n",
    "#TODO: basic scatter plot in r,kappa\n",
    "#TODO: interpolated heat map plot in r,kappa\n",
    "#TODO: sns heat map in r,kappa\n",
    "#TODO: streamplot in r,kappa"
   ]
  },
  {
   "cell_type": "code",
   "execution_count": 178,
   "id": "8bdb33ed",
   "metadata": {
    "ExecuteTime": {
     "end_time": "2022-09-27T20:45:00.137479Z",
     "start_time": "2022-09-27T20:44:59.882304Z"
    }
   },
   "outputs": [
    {
     "data": {
      "image/png": "[encoded data removed]",
      "text/plain": [
       "<Figure size 432x288 with 4 Axes>"
      ]
     },
     "metadata": {},
     "output_type": "display_data"
    }
   ],
   "source": [
    "# #TODO: plot level sets of likelihood\n",
    "# fig, axs = plt.subplots(1,2)\n",
    "# x = np.linspace(0, 1, 100)\n",
    "# X, Y = np.meshgrid(x, x)\n",
    "# Z = np.sin(X)*np.sin(Y)\n",
    "# zdata = np.sin(8*X)*np.sin(8*Y)\n",
    "\n",
    "# # levels = np.linspace(-1, 1, 40)\n",
    "# levels = np.linspace(-1, 1, 10)\n",
    "# cs = axs[0].contourf(X, Y, zdata, levels=levels)\n",
    "# fig.colorbar(cs, ax=axs[0], format=\"%.2f\")\n",
    "\n",
    "# cs = axs[1].contourf(X, Y, zdata, levels=[-1,0,1])\n",
    "# fig.colorbar(cs, ax=axs[1])\n",
    "\n",
    "# plt.show()"
   ]
  },
  {
   "cell_type": "code",
   "execution_count": 218,
   "id": "6509daf1",
   "metadata": {
    "ExecuteTime": {
     "end_time": "2022-09-27T21:14:39.012615Z",
     "start_time": "2022-09-27T21:14:38.995342Z"
    }
   },
   "outputs": [],
   "source": [
    "# X.shape"
   ]
  },
  {
   "cell_type": "code",
   "execution_count": null,
   "id": "01c532b5",
   "metadata": {},
   "outputs": [],
   "source": []
  },
  {
   "cell_type": "code",
   "execution_count": null,
   "id": "2906aa86",
   "metadata": {},
   "outputs": [],
   "source": []
  }
 ],
 "metadata": {
  "hide_input": false,
  "kernelspec": {
   "display_name": "Python 3 (ipykernel)",
   "language": "python",
   "name": "python3"
  },
  "language_info": {
   "codemirror_mode": {
    "name": "ipython",
    "version": 3
   },
   "file_extension": ".py",
   "mimetype": "text/x-python",
   "name": "python",
   "nbconvert_exporter": "python",
   "pygments_lexer": "ipython3",
   "version": "3.9.13"
  },
  "latex_envs": {
   "LaTeX_envs_menu_present": true,
   "autoclose": true,
   "autocomplete": false,
   "bibliofile": "biblio.bib",
   "cite_by": "apalike",
   "current_citInitial": 1,
   "eqLabelWithNumbers": false,
   "eqNumInitial": 1,
   "hotkeys": {
    "equation": "Ctrl-E",
    "itemize": "Ctrl-I"
   },
   "labels_anchors": false,
   "latex_user_defs": false,
   "report_style_numbering": false,
   "user_envs_cfg": false
  },
  "nbTranslate": {
   "displayLangs": [
    "*"
   ],
   "hotkey": "alt-t",
   "langInMainMenu": true,
   "sourceLang": "en",
   "targetLang": "fr",
   "useGoogleTranslate": true
  },
  "toc": {
   "base_numbering": 1,
   "nav_menu": {},
   "number_sections": true,
   "sideBar": true,
   "skip_h1_title": false,
   "title_cell": "Table of Contents",
   "title_sidebar": "Contents",
   "toc_cell": false,
   "toc_position": {},
   "toc_section_display": true,
   "toc_window_display": false
  }
 },
 "nbformat": 4,
 "nbformat_minor": 5
}
