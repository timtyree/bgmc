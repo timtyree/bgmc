{
 "cells": [
  {
   "cell_type": "markdown",
   "id": "ea6a312c",
   "metadata": {},
   "source": [
    "# Analysis of annihilation rates with amax fixed\n",
    "Tim Tyree<br>\n",
    "9.13.2022"
   ]
  },
  {
   "cell_type": "code",
   "execution_count": 2,
   "id": "569b7eb8",
   "metadata": {
    "ExecuteTime": {
     "end_time": "2022-09-21T19:51:10.026115Z",
     "start_time": "2022-09-21T19:51:07.081193Z"
    }
   },
   "outputs": [
    {
     "name": "stderr",
     "output_type": "stream",
     "text": [
      "/Users/timothytyree/opt/miniconda3/envs/pyenv/lib/python3.9/site-packages/statsmodels/compat/pandas.py:61: FutureWarning: pandas.Int64Index is deprecated and will be removed from pandas in a future version. Use pandas.Index with the appropriate dtype instead.\n",
      "  from pandas import Int64Index as NumericIndex\n"
     ]
    },
    {
     "name": "stdout",
     "output_type": "stream",
     "text": [
      "The autoreload extension is already loaded. To reload it, use:\n",
      "  %reload_ext autoreload\n"
     ]
    }
   ],
   "source": [
    "from lib.my_initialization import *\n",
    "from lib import *\n",
    "#from lib.lib_care.measure.level_sets import comp_longest_level_set_and_smooth\n",
    "%load_ext autoreload\n",
    "%autoreload 2\n",
    "\n",
    "import random,scipy\n",
    "from scipy.interpolate import LinearNDInterpolator\n",
    "from scipy.interpolate import CloughTocher2DInterpolator\n",
    "from scipy.optimize import minimize\n",
    "#load libraries for color bar\n",
    "import matplotlib as mpl #for colorbar\n",
    "from matplotlib.cm import ScalarMappable\n",
    "import matplotlib.colors as colors\n",
    "import matplotlib.cbook as cbook\n",
    "from matplotlib import cm\n",
    "#def plotter_3dpoint_cloud_sample(az,...):\n",
    "from scipy import stats\n",
    "#DONE: hook this routine up to dask\n",
    "#DONT: hook this routine up to dask_cuda\n",
    "# import scanpy as sc\n",
    "darkmode=False\n",
    "if darkmode:\n",
    "    # For darkmode plots\n",
    "    from jupyterthemes import jtplot\n",
    "    jtplot.style(theme='monokai', context='notebook', ticks=True, grid=False)\n",
    "#     theme=cuxfilter.themes.dark\n",
    "#     #     theme=cuxfilter.themes.rapids\n",
    "else:\n",
    "    sns.set_style('white')\n",
    "#     theme=cuxfilter.themes.light\n",
    "import warnings\n",
    "warnings.simplefilter(\"ignore\", UserWarning)\n",
    "%load_ext autoreload\n",
    "%autoreload 2\n",
    "# import cupy as cp\n",
    "np.random.seed(42)\n",
    "# cp.random.seed(42)"
   ]
  },
  {
   "cell_type": "code",
   "execution_count": 3,
   "id": "0d45f067",
   "metadata": {
    "ExecuteTime": {
     "end_time": "2022-09-21T19:51:13.880095Z",
     "start_time": "2022-09-21T19:51:10.633786Z"
    }
   },
   "outputs": [],
   "source": [
    "from lib.lib_care.routines.interp_texture_from_scatter_data import interp_txt_from_scatter"
   ]
  },
  {
   "cell_type": "code",
   "execution_count": 4,
   "id": "8c79ef1f",
   "metadata": {
    "ExecuteTime": {
     "end_time": "2022-09-21T19:51:13.922605Z",
     "start_time": "2022-09-21T19:51:13.882962Z"
    }
   },
   "outputs": [],
   "source": [
    "#reset matplotlib settings\n",
    "from mpltools import annotation\n",
    "import matplotlib as mpl\n",
    "sns.reset_orig()\n",
    "mpl.rc_file_defaults()"
   ]
  },
  {
   "cell_type": "markdown",
   "id": "44db62e7",
   "metadata": {},
   "source": [
    "# define module"
   ]
  },
  {
   "cell_type": "code",
   "execution_count": 5,
   "id": "b08d556d",
   "metadata": {
    "ExecuteTime": {
     "end_time": "2022-09-21T19:51:13.964464Z",
     "start_time": "2022-09-21T19:51:13.924466Z"
    }
   },
   "outputs": [],
   "source": [
    "def gener_annihil_powerlaw_fit_ols(df,qmin=0.1,qmax=10,qcol='q',wcol='w',printing=True,**kwargs):\n",
    "    \"\"\"\n",
    "    Example Usage:\n",
    "dict_fit = gener_annihil_powerlaw_fit_ols(df=df_fit_fk,qmin=0.1,qmax=10)\n",
    "    \"\"\"\n",
    "    # Rsq_tol=0.9999\n",
    "    q_values = df[qcol].values\n",
    "    w_values = df[wcol].values \n",
    "    boo=(q_values>=qmin)&(q_values<qmax)\n",
    "    x=q_values[boo]\n",
    "    y=w_values[boo]\n",
    "    dict_fit = print_fit_power_law(x,y,printing=printing)\n",
    "    # if dict_fit['Rsq']<Rsq_tol: ...\n",
    "    return dict_fit"
   ]
  },
  {
   "cell_type": "code",
   "execution_count": 6,
   "id": "d981262e",
   "metadata": {
    "ExecuteTime": {
     "end_time": "2022-09-21T19:51:14.011940Z",
     "start_time": "2022-09-21T19:51:13.967841Z"
    }
   },
   "outputs": [],
   "source": [
    "def format_measurement_string(key,val,Delta_val,num_digits=6):\n",
    "    \"\"\"\n",
    "    Example Usage:\n",
    "string = format_measurement_string(key='key',val=0,Delta_val=0.123467890,num_digits=6)\n",
    "print(string)\n",
    "    \"\"\"\n",
    "    if num_digits==0:\n",
    "        return f\"{key} = {val:.0f} +/- {Delta_val:.0f}\"\n",
    "    if num_digits==2:\n",
    "        return f\"{key} = {val:.2f} +/- {Delta_val:.2f}\"\n",
    "    if num_digits==4:\n",
    "        return f\"{key} = {val:.4f} +/- {Delta_val:.4f}\"\n",
    "    if num_digits==6:\n",
    "        return f\"{key} = {val:.6f} +/- {Delta_val:.6f}\"\n",
    "    if num_digits==8:\n",
    "        return f\"{key} = {val:.6f} +/- {Delta_val:.6f}\"\n",
    "    raise f\"Argument Error: {num_digits=} not yet implemented!\\nconsider num_digits as an even number less than 10...\""
   ]
  },
  {
   "cell_type": "code",
   "execution_count": 7,
   "id": "d3f9fc4e",
   "metadata": {
    "ExecuteTime": {
     "end_time": "2022-09-21T19:51:14.055447Z",
     "start_time": "2022-09-21T19:51:14.014399Z"
    }
   },
   "outputs": [],
   "source": [
    "#recall annihilation logs \n",
    "def recall_annihil_log_dir(run_num,cluster_index,job_index,\n",
    "                           base_folder=f'/home/timothytyree/Documents/GitHub/bgmc/python/data/osg_output/',\n",
    "                          **kwargs):\n",
    "    \"\"\"\n",
    "    Example Usage:\n",
    "annihil_log_dir = recall_annihil_log_dir(run_num,cluster_index,job_index)\n",
    "assert os.path.exists(annihil_log_dir)\n",
    "    \"\"\"\n",
    "    annihil_log_dir=base_folder+f'run_{run_num}_all/job.out.{int(cluster_index)}.{int(job_index)}'\n",
    "    return annihil_log_dir\n",
    "\n",
    "def recall_annihilation_log(input_fn,printing=True,**kwargs):\n",
    "    \"\"\"\n",
    "    Example Usage:\n",
    "df_fit,dict_linear_fit = recall_annihilation_log(input_fn,printing=True)#,**kwargs)\n",
    "    \"\"\"\n",
    "    df_fit_fk,dict_linear_fit_fk = routine_measure_annihilation_defect(input_fn,printing=printing,**kwargs)\n",
    "    amax_fk=dg_fk['amax'].median()\n",
    "    rmse_fk=dg_fk['rmse'].median()\n",
    "    L = dg_fk['L'].median()\n",
    "    if printing:\n",
    "        print(f\"amax: {amax_fk:.4f} cm^2/s, L: {L} cm, RMSE as fit to annihilation rates from full: {rmse_fk:.4f} Hz/cm^2\")\n",
    "        print(f\"{input_fn_fk=}\")\n",
    "    return df_fit_fk,dict_linear_fit_fk"
   ]
  },
  {
   "cell_type": "markdown",
   "id": "268085e7",
   "metadata": {},
   "source": [
    "# build minimum dataset from best fits cached for either of the full models at either of the length scales"
   ]
  },
  {
   "cell_type": "code",
   "execution_count": 11,
   "id": "1c92c2b0",
   "metadata": {
    "ExecuteTime": {
     "end_time": "2022-09-21T19:53:48.255284Z",
     "start_time": "2022-09-21T19:53:48.194480Z"
    }
   },
   "outputs": [],
   "source": [
    "kwargs = dict(data_fk_dir=f'{nb_dir}/data/full_results/data_fig4_vidmar_fk_tt.csv',\n",
    "              data_lr_dir=f'{nb_dir}/data/full_results/data_fig4_vidmar_lr_tt.csv',\n",
    "             min_num_particles=9)"
   ]
  },
  {
   "cell_type": "code",
   "execution_count": 14,
   "id": "c5cf1922",
   "metadata": {
    "ExecuteTime": {
     "end_time": "2022-09-21T19:54:44.601893Z",
     "start_time": "2022-09-21T19:54:44.227003Z"
    }
   },
   "outputs": [
    {
     "name": "stdout",
     "output_type": "stream",
     "text": [
      "\n",
      "**************************************\n",
      "* Fenton-Karma Model (best settings):\n",
      "**************************************\n",
      "amax=1.7810, rmse_min=0.0911, log_likelihood=7.0307, count=4410\n",
      "\n",
      "best fit for Fenton-Karma: RMSE: 0.1402 Hz/cm^2, amax: 1.7810 cm^2/s, L: 5.0 cm\n",
      "input_fn_fk='/Users/timothytyree/Documents/GitHub/bgmc/python/data/osg_output/run_25_all/job.out.22996017.672'\n",
      "\n",
      "**************************************\n",
      "* Luo-Rudy Model (best settings):\n",
      "**************************************\n",
      "amax=10.1490, rmse_min=0.1695, log_likelihood=10.1045, count=4410\n",
      "\n",
      "best fit for Luo-Rudy: RMSE: 0.1942 Hz/cm^2, amax: 1.7810 cm^2/s, L: 5.0 cm\n",
      "input_fn_lr='/Users/timothytyree/Documents/GitHub/bgmc/python/data/osg_output/run_25_all/job.out.22996017.3351'\n",
      "\n",
      "parameter range supported in run #25:\n",
      "number of trials: 17640\n",
      "        r  kappa      D  varkappa    amax    L  neighbor\n",
      "min  0.01  100.0  0.090     1.553   1.733  5.0       1.0\n",
      "max  0.49  990.0  0.114     9.969  10.197  5.0       1.0\n",
      "\n",
      "**************************************\n",
      "* Fenton-Karma Model (best settings):\n",
      "**************************************\n",
      "amax=1.7800, rmse_min=0.0755, log_likelihood=87.7686, count=1155\n",
      "\n",
      "best fit for Fenton-Karma: RMSE: 0.1904 Hz/cm^2, amax: 1.7800 cm^2/s, L: 10.0 cm\n",
      "input_fn_fk='/Users/timothytyree/Documents/GitHub/bgmc/python/data/osg_output/run_29_all/job.out.23453634.4366'\n",
      "\n",
      "**************************************\n",
      "* Luo-Rudy Model (best settings):\n",
      "**************************************\n",
      "amax=10.1470, rmse_min=0.0991, log_likelihood=73.7715, count=2720\n",
      "\n",
      "best fit for Luo-Rudy: RMSE: 0.1190 Hz/cm^2, amax: 1.7800 cm^2/s, L: 10.0 cm\n",
      "input_fn_lr='/Users/timothytyree/Documents/GitHub/bgmc/python/data/osg_output/run_29_all/job.out.23453634.7260'\n",
      "\n",
      "parameter range supported in run #29:\n",
      "number of trials: 3875\n",
      "        r  kappa     D  varkappa    amax     L  neighbor\n",
      "min  0.04  200.0  0.05     0.480   1.780  10.0       1.0\n",
      "max  0.20  950.0  1.40    10.047  10.147  10.0       1.0\n"
     ]
    }
   ],
   "source": [
    "latest_run_num=29\n",
    "run_num_lst = list(reversed(list(np.arange(14,latest_run_num+1))))\n",
    "# run_num_lst=[25,17]\n",
    "# run_num_lst=[25,19]\n",
    "# run_num_lst=[25,24]\n",
    "# run_num_lst = list(np.arange(12,26))\n",
    "# run_num_lst = list(np.arange(26,14))\n",
    "run_num_lst=[25,18]\n",
    "# run_num_lst=[28,18]\n",
    "run_num_lst=[28,29]\n",
    "run_num_lst=[25,29]\n",
    "\n",
    "use_filterby_neighbor=True\n",
    "# neighbor=0\n",
    "neighbor=1\n",
    "\n",
    "use_filterby_minN=True\n",
    "minN=9\n",
    "\n",
    "# neighbor=1\n",
    "remove_no_diffusion=True\n",
    "# Dinf=0\n",
    "Dinf=0.01\n",
    "num_digits_round_amax=3\n",
    "# run_num=25 #L=5 cm\n",
    "# run_num=18 #L=10 cm\n",
    "gmin_fk_lst=[]\n",
    "gmin_lr_lst=[]\n",
    "log_dir_fk_lst=[]\n",
    "log_dir_lr_lst=[]\n",
    "dict_results_fk_lst=[]\n",
    "dict_results_lr_lst=[]\n",
    "# for run_num in [25,18]: #chosen exemplar pair\n",
    "for run_num in run_num_lst:\n",
    "    parquet_dir_defects_fk=f'{nb_dir}/data/osg_output/run_{run_num}_defects_to_fk.parquet'\n",
    "    parquet_dir_defects_lr=f'{nb_dir}/data/osg_output/run_{run_num}_defects_to_lr.parquet'\n",
    "    input_folder=f'{nb_dir}/data/osg_output/run_{run_num}_all'\n",
    "#     parquet_dir_defects_fk=f'/home/timothytyree/Documents/GitHub/bgmc/python/data/osg_output/run_{run_num}_defects_to_fk.parquet'\n",
    "#     parquet_dir_defects_lr=f'/home/timothytyree/Documents/GitHub/bgmc/python/data/osg_output/run_{run_num}_defects_to_lr.parquet'\n",
    "#     input_folder=f'/home/timothytyree/Documents/GitHub/bgmc/python/data/osg_output/run_{run_num}_all'\n",
    "    #load data\n",
    "    df_defects_fk=pd.read_parquet(parquet_dir_defects_fk)\n",
    "    df_defects_lr=pd.read_parquet(parquet_dir_defects_lr)\n",
    "    \n",
    "    #filterby neighbor\n",
    "    if use_filterby_neighbor:\n",
    "        df_defects_fk = df_defects_fk[df_defects_fk['neighbor']==neighbor].copy()\n",
    "        df_defects_lr = df_defects_lr[df_defects_lr['neighbor']==neighbor].copy()\n",
    "    \n",
    "    #compute order parameter for each member a=amax-2*D\n",
    "    #add columns for amax\n",
    "    df_defects_fk['amax'] = np.around(df_defects_fk['varkappa'] + 2.*df_defects_fk['D'],num_digits_round_amax)\n",
    "    df_defects_lr['amax'] = np.around(df_defects_lr['varkappa'] + 2.*df_defects_lr['D'],num_digits_round_amax)\n",
    "    \n",
    "    if remove_no_diffusion:\n",
    "        df_defects_fk = df_defects_fk[df_defects_fk['D']>Dinf].copy()\n",
    "        df_defects_lr = df_defects_lr[df_defects_lr['D']>Dinf].copy()\n",
    "    \n",
    "    #identify the lowest error simulation for each amax value\n",
    "    print(f\"\\n**************************************\")\n",
    "    print(f\"* Fenton-Karma Model (best settings):\")\n",
    "    print(f\"**************************************\")\n",
    "    minrmse=9999.\n",
    "    supamax=1.8\n",
    "    #supamax=40.\n",
    "    for amax,g in df_defects_fk.groupby(by='amax'):\n",
    "        rmse_min = g['rmse'].min()\n",
    "        count = g['rmse'].count()\n",
    "        log_likelihood = g['log_likelihood'].max()\n",
    "        if (rmse_min<=minrmse)&(amax<=supamax):\n",
    "            minrmse=rmse_min\n",
    "            gmin_fk=g.copy()\n",
    "            print_str =f\"{amax=:.4f}, {rmse_min=:.4f}, {log_likelihood=:.4f}, {count=}\"\n",
    "    print(print_str)\n",
    "    gmin_fk.sort_values(by='D',inplace=True)\n",
    "    \n",
    "\n",
    "    #find best simulation for the full model at this avalue\n",
    "#     dg_fk=gmin_fk[gmin_fk['rmse'] == gmin_fk['rmse'].min()].copy()\n",
    "    dg_fk=gmin_fk[gmin_fk['log_likelihood'] == gmin_fk['log_likelihood'].max()].copy()\n",
    "    dg_fk['run']=run_num\n",
    "    df_defects_fk['run']=run_num\n",
    "    dg_fk['model']='Fenton-Karma'\n",
    "    cluster_index,job_index = dg_fk[['cluster_index','job_index']].values.T\n",
    "    input_fn = os.path.join(input_folder,f\"job.out.{int(cluster_index)}.{int(job_index)}\")\n",
    "    #assert os.path.exists(input_fn)\n",
    "    if os.path.exists(input_fn):\n",
    "        input_fn_fk=input_fn\n",
    "        df_fit_fk,dict_linear_fit_fk = routine_measure_annihilation_defect(input_fn,printing=True,**kwargs)\n",
    "        amax_fk=dg_fk['amax'].median()\n",
    "        rmse_fk=dg_fk['rmse'].median()\n",
    "        L = dg_fk['L'].median()\n",
    "        print(f\"\\nbest fit for Fenton-Karma: RMSE: {rmse_fk:.4f} Hz/cm^2, amax: {amax_fk:.4f} cm^2/s, L: {L} cm\")\n",
    "        print(f\"{input_fn_fk=}\")\n",
    "        #record\n",
    "        dict_results_fk=dict(\n",
    "            model_name='Fenton-Karma',\n",
    "            amax=amax_fk,\n",
    "            rmse=rmse_fk,\n",
    "            L=L,\n",
    "            df_fit=df_fit_fk,\n",
    "            dg_fit=dg_fk,\n",
    "            dict_linear_fit=dict_linear_fit_fk,\n",
    "            filename=input_fn_fk,\n",
    "            gmin=gmin_fk)\n",
    "        dict_results_fk_lst.append(dict_results_fk)\n",
    "        gmin_fk_lst.append(gmin_fk)\n",
    "        log_dir_fk_lst.append(input_fn)\n",
    "    \n",
    "    #identify the lowest error simulation for each amax value\n",
    "    print(f\"\\n**************************************\")\n",
    "    print(f\"* Luo-Rudy Model (best settings):\")\n",
    "    print(f\"**************************************\")\n",
    "    minrmse=9999.\n",
    "    supamax=10.2\n",
    "    for amax,g in df_defects_lr.groupby(by='amax'):\n",
    "        rmse_min = g['rmse'].min()\n",
    "        count = g['rmse'].count()\n",
    "        log_likelihood = g['log_likelihood'].max()\n",
    "        if (rmse_min<=minrmse)&(amax<=supamax):\n",
    "            minrmse=rmse_min\n",
    "            gmin_lr=g.copy()\n",
    "            print_str =f\"{amax=:.4f}, {rmse_min=:.4f}, {log_likelihood=:.4f}, {count=}\"\n",
    "    print(print_str)        \n",
    "    gmin_lr.sort_values(by='D',inplace=True)\n",
    "    \n",
    "    #find best simulation for the full model at this avalue\n",
    "#     dg_lr=gmin_lr[gmin_lr['rmse'] == gmin_lr['rmse'].min()].copy()\n",
    "    dg_lr=gmin_lr[gmin_lr['log_likelihood'] == gmin_lr['log_likelihood'].max()].copy()\n",
    "    dg_lr['run']=run_num\n",
    "    df_defects_fk['run']=run_num\n",
    "    dg_lr['model']='Luo-Rudy'\n",
    "    cluster_index,job_index = dg_lr[['cluster_index','job_index']].values.T\n",
    "    input_fn = os.path.join(input_folder,f\"job.out.{int(cluster_index)}.{int(job_index)}\")\n",
    "    #assert os.path.exists(input_fn)\n",
    "    if os.path.exists(input_fn):\n",
    "        input_fn_lr=input_fn\n",
    "        df_fit_lr,dict_linear_fit_lr = routine_measure_annihilation_defect(input_fn,printing=True,**kwargs)\n",
    "        amax_lr=dg_fk['amax'].median()\n",
    "        rmse_lr=dg_lr['rmse'].median()\n",
    "        L = dg_lr['L'].median()\n",
    "        print(f\"\\nbest fit for Luo-Rudy: RMSE: {rmse_lr:.4f} Hz/cm^2, amax: {amax_lr:.4f} cm^2/s, L: {L} cm\")\n",
    "        print(f\"{input_fn_lr=}\")\n",
    "        #record\n",
    "        dict_results_lr=dict(\n",
    "            model_name='Luo-Rudy',\n",
    "            amax=amax_lr,\n",
    "            rmse=rmse_lr,\n",
    "            L=L,\n",
    "            df_fit=df_fit_lr,\n",
    "            dg_fit=dg_lr,\n",
    "            dict_linear_fit=dict_linear_fit_lr,\n",
    "            filename=input_fn_lr,\n",
    "            gmin=gmin_lr)\n",
    "        dict_results_lr_lst.append(dict_results_lr)\n",
    "        gmin_lr_lst.append(gmin_lr)\n",
    "        log_dir_lr_lst.append(input_fn)\n",
    "\n",
    "    print(f\"\\nparameter range supported in run #{run_num}:\")\n",
    "    print(f\"number of trials: {df_defects_lr.shape[0]}\")\n",
    "    print(df_defects_lr.describe()[['r','kappa','D','varkappa','amax','L','neighbor']].T[['min','max']].T)"
   ]
  },
  {
   "cell_type": "code",
   "execution_count": 15,
   "id": "de0715d6",
   "metadata": {
    "ExecuteTime": {
     "end_time": "2022-09-21T19:54:46.031812Z",
     "start_time": "2022-09-21T19:54:45.991175Z"
    }
   },
   "outputs": [],
   "source": [
    "\n",
    "# len(dict_results_fk_lst)\n",
    "# !pwd"
   ]
  },
  {
   "cell_type": "markdown",
   "id": "8025d457",
   "metadata": {},
   "source": [
    "# Plot mean annihilation rates"
   ]
  },
  {
   "cell_type": "code",
   "execution_count": 18,
   "id": "c14a27fd",
   "metadata": {
    "ExecuteTime": {
     "end_time": "2022-09-21T19:55:09.002485Z",
     "start_time": "2022-09-21T19:55:08.946444Z"
    }
   },
   "outputs": [],
   "source": [
    "dict_wjr = recall_death_rates_vidmar_rappel(**kwargs)\n",
    "fk=dict_wjr['fk']\n",
    "lr=dict_wjr['lr']"
   ]
  },
  {
   "cell_type": "code",
   "execution_count": 19,
   "id": "5fb39d35",
   "metadata": {
    "ExecuteTime": {
     "end_time": "2022-09-21T19:55:11.977490Z",
     "start_time": "2022-09-21T19:55:11.014224Z"
    }
   },
   "outputs": [
    {
     "data": {
      "image/png": "[encoded data removed]",
      "text/plain": [
       "<Figure size 600x400 with 1 Axes>"
      ]
     },
     "metadata": {},
     "output_type": "display_data"
    }
   ],
   "source": [
    "figsize = (6, 4)  #(5,4)\n",
    "fontsize=16\n",
    "fig, ax = plt.subplots(figsize=figsize)\n",
    "ax = plot_death_rates_loglog_full(fk,lr,ax=ax,fontsize=fontsize,x1lim=[0.008, 11], x2lim=[0.01, 250])\n",
    "\n",
    "# Linear Particle (L=5)\n",
    "df_fit_fk = dict_results_fk_lst[0]['df_fit']\n",
    "dg_fit_fk = dict_results_fk_lst[0]['dg_fit']\n",
    "df_fit_lr = dict_results_lr_lst[0]['df_fit']\n",
    "dg_fit_lr = dict_results_lr_lst[0]['dg_fit']\n",
    "df_fit_fk.plot(x='q',y='w',alpha=0.7,ax=ax,color='k',label=f'Lin. Particle (L=5)')#,label='_Best Fit to FK')\n",
    "df_fit_lr.plot(x='q',y='w',alpha=0.7,ax=ax,color='k',label='_Best Fit to LR')\n",
    "\n",
    "# Linear Particle (L=10)\n",
    "df_fit_fk = dict_results_fk_lst[1]['df_fit']\n",
    "dg_fit_fk = dict_results_fk_lst[1]['dg_fit']\n",
    "df_fit_lr = dict_results_lr_lst[1]['df_fit']\n",
    "dg_fit_lr = dict_results_lr_lst[1]['dg_fit']\n",
    "# df_fit_fk.plot(x='q',y='w',alpha=0.7,ax=ax,color='r',label=f'Linear Particle (L=10)')#,label='_Best Fit to FK')\n",
    "df_fit_fk.plot(x='q',y='w',alpha=0.7,ax=ax,color='r',label=f'Lin. Particle (L=10)')#,label='_Best Fit to FK')\n",
    "df_fit_lr.plot(x='q',y='w',alpha=0.7,ax=ax,color='r',label='_Best Fit to LR')\n",
    "\n",
    "# format_plot\n",
    "ax.tick_params(top=True, right=True,direction='in',which='both')\n",
    "format_plot(ax=ax,xlabel=r'q (1/cm$^2$)',ylabel=r'w (Hz/cm$^2$)',fontsize=fontsize,use_loglog=True)\n",
    "# ax.legend(loc='upper left',fontsize=fontsize-2)\n",
    "# ax.legend(loc='lower right',fontsize=fontsize-2.,frameon=False,ncol=2)\n",
    "# leg = ax.legend(loc=(1.04,0.2),fontsize=fontsize-2.,frameon=False)\n",
    "leg = ax.legend(loc='upper left',fontsize=fontsize-3.,frameon=False,ncol=1)\n",
    "for lh in leg.legendHandles: \n",
    "    lh.set_alpha(1)\n",
    "# ax.get_legend().remove()\n",
    "\n",
    "#add annotation\n",
    "# xytext=(0.09, 10)\n",
    "# xytext=(0.01, 90)\n",
    "# ax.annotate(r\"best fit ($a>0$)\", xy=xy, xytext=xytext,fontsize=fontsize)\n",
    "# .tick_params(labelbottom=False, labeltop=True, labelleft=False, labelright=False,\n",
    "#                      bottom=False, top=True, left=False, right=False)\n",
    "\n",
    "xytext=(0.01, 40)\n",
    "xy=(0.3, 11)\n",
    "# ax.annotate(r\"$a_{max}$ = const.\", xy=xy, xytext=(0.01, 40),fontsize=fontsize-2)\n",
    "# ax.annotate(r\"$a_{max}$ fixed to observed\", xy=xy, xytext=(0.01, 40),fontsize=fontsize-2)\n",
    "# ax.annotate(r\"$a_{max}$ fixed to observation\"+f\"\\nfrom MSR of full\", xy=xy, xytext=(0.01, 40),fontsize=fontsize-2)\n",
    "# #add marker showing the slope of ~2\n",
    "# annotation.slope_marker(origin=(.75, 2.0),\n",
    "#                         slope=2,\n",
    "#                         text_kwargs={'color': 'black','fontsize':16, 'alpha':0.7},\n",
    "#                         poly_kwargs={'facecolor': (0.5, 0.5, 0.5), 'alpha':0.5},\n",
    "#                         ax=ax)\n",
    "plt.show()"
   ]
  },
  {
   "cell_type": "code",
   "execution_count": 20,
   "id": "c566b819",
   "metadata": {
    "ExecuteTime": {
     "end_time": "2022-09-21T19:55:13.062334Z",
     "start_time": "2022-09-21T19:55:12.993720Z"
    }
   },
   "outputs": [
    {
     "data": {
      "text/html": [
       "<div>\n",
       "<style scoped>\n",
       "    .dataframe tbody tr th:only-of-type {\n",
       "        vertical-align: middle;\n",
       "    }\n",
       "\n",
       "    .dataframe tbody tr th {\n",
       "        vertical-align: top;\n",
       "    }\n",
       "\n",
       "    .dataframe thead th {\n",
       "        text-align: right;\n",
       "    }\n",
       "</style>\n",
       "<table border=\"1\" class=\"dataframe\">\n",
       "  <thead>\n",
       "    <tr style=\"text-align: right;\">\n",
       "      <th></th>\n",
       "      <th>model</th>\n",
       "      <th>amax</th>\n",
       "      <th>L</th>\n",
       "      <th>varkappa</th>\n",
       "      <th>D</th>\n",
       "      <th>r</th>\n",
       "      <th>kappa</th>\n",
       "      <th>rmse</th>\n",
       "      <th>log_likelihood</th>\n",
       "      <th>neighbor</th>\n",
       "      <th>q_lo</th>\n",
       "      <th>q_hi</th>\n",
       "      <th>CollTime_lo</th>\n",
       "      <th>CollTime_hi</th>\n",
       "      <th>N_lo</th>\n",
       "      <th>N_hi</th>\n",
       "      <th>run</th>\n",
       "      <th>cluster_index</th>\n",
       "      <th>job_index</th>\n",
       "    </tr>\n",
       "  </thead>\n",
       "  <tbody>\n",
       "    <tr>\n",
       "      <th>1979</th>\n",
       "      <td>Fenton-Karma</td>\n",
       "      <td>1.781</td>\n",
       "      <td>5.0</td>\n",
       "      <td>1.553</td>\n",
       "      <td>0.114</td>\n",
       "      <td>0.020</td>\n",
       "      <td>880.0</td>\n",
       "      <td>0.140241</td>\n",
       "      <td>7.030700</td>\n",
       "      <td>1.0</td>\n",
       "      <td>0.24</td>\n",
       "      <td>4.0</td>\n",
       "      <td>0.000927</td>\n",
       "      <td>0.178568</td>\n",
       "      <td>6.0</td>\n",
       "      <td>100.0</td>\n",
       "      <td>25</td>\n",
       "      <td>22996017</td>\n",
       "      <td>672</td>\n",
       "    </tr>\n",
       "    <tr>\n",
       "      <th>4501</th>\n",
       "      <td>Fenton-Karma</td>\n",
       "      <td>1.780</td>\n",
       "      <td>10.0</td>\n",
       "      <td>1.680</td>\n",
       "      <td>0.050</td>\n",
       "      <td>0.095</td>\n",
       "      <td>250.0</td>\n",
       "      <td>0.190422</td>\n",
       "      <td>87.768558</td>\n",
       "      <td>1.0</td>\n",
       "      <td>0.08</td>\n",
       "      <td>1.0</td>\n",
       "      <td>0.001985</td>\n",
       "      <td>0.283298</td>\n",
       "      <td>8.0</td>\n",
       "      <td>100.0</td>\n",
       "      <td>29</td>\n",
       "      <td>23453634</td>\n",
       "      <td>4366</td>\n",
       "    </tr>\n",
       "    <tr>\n",
       "      <th>3737</th>\n",
       "      <td>Luo-Rudy</td>\n",
       "      <td>10.147</td>\n",
       "      <td>10.0</td>\n",
       "      <td>10.047</td>\n",
       "      <td>0.050</td>\n",
       "      <td>0.140</td>\n",
       "      <td>350.0</td>\n",
       "      <td>0.119033</td>\n",
       "      <td>73.771470</td>\n",
       "      <td>1.0</td>\n",
       "      <td>0.08</td>\n",
       "      <td>1.0</td>\n",
       "      <td>0.000658</td>\n",
       "      <td>0.052132</td>\n",
       "      <td>8.0</td>\n",
       "      <td>100.0</td>\n",
       "      <td>29</td>\n",
       "      <td>23453634</td>\n",
       "      <td>7260</td>\n",
       "    </tr>\n",
       "    <tr>\n",
       "      <th>9491</th>\n",
       "      <td>Luo-Rudy</td>\n",
       "      <td>10.149</td>\n",
       "      <td>5.0</td>\n",
       "      <td>9.969</td>\n",
       "      <td>0.090</td>\n",
       "      <td>0.100</td>\n",
       "      <td>370.0</td>\n",
       "      <td>0.194177</td>\n",
       "      <td>10.104532</td>\n",
       "      <td>1.0</td>\n",
       "      <td>0.24</td>\n",
       "      <td>4.0</td>\n",
       "      <td>0.000313</td>\n",
       "      <td>0.032113</td>\n",
       "      <td>6.0</td>\n",
       "      <td>100.0</td>\n",
       "      <td>25</td>\n",
       "      <td>22996017</td>\n",
       "      <td>3351</td>\n",
       "    </tr>\n",
       "  </tbody>\n",
       "</table>\n",
       "</div>"
      ],
      "text/plain": [
       "             model    amax     L  varkappa      D      r  kappa      rmse  \\\n",
       "1979  Fenton-Karma   1.781   5.0     1.553  0.114  0.020  880.0  0.140241   \n",
       "4501  Fenton-Karma   1.780  10.0     1.680  0.050  0.095  250.0  0.190422   \n",
       "3737      Luo-Rudy  10.147  10.0    10.047  0.050  0.140  350.0  0.119033   \n",
       "9491      Luo-Rudy  10.149   5.0     9.969  0.090  0.100  370.0  0.194177   \n",
       "\n",
       "      log_likelihood  neighbor  q_lo  q_hi  CollTime_lo  CollTime_hi  N_lo  \\\n",
       "1979        7.030700       1.0  0.24   4.0     0.000927     0.178568   6.0   \n",
       "4501       87.768558       1.0  0.08   1.0     0.001985     0.283298   8.0   \n",
       "3737       73.771470       1.0  0.08   1.0     0.000658     0.052132   8.0   \n",
       "9491       10.104532       1.0  0.24   4.0     0.000313     0.032113   6.0   \n",
       "\n",
       "       N_hi  run  cluster_index  job_index  \n",
       "1979  100.0   25       22996017        672  \n",
       "4501  100.0   29       23453634       4366  \n",
       "3737  100.0   29       23453634       7260  \n",
       "9491  100.0   25       22996017       3351  "
      ]
     },
     "execution_count": 20,
     "metadata": {},
     "output_type": "execute_result"
    }
   ],
   "source": [
    "dh_lst=[]\n",
    "col_lst=['model','amax','L','varkappa','D','r','kappa',\n",
    "           'rmse','log_likelihood','neighbor',\n",
    "           'q_lo', 'q_hi','CollTime_lo', 'CollTime_hi','N_lo', 'N_hi',\n",
    "          'run','cluster_index', 'job_index']\n",
    "\n",
    "for dict_results_fk in dict_results_fk_lst:\n",
    "    dg_fit_fk = dict_results_fk['dg_fit']\n",
    "    dh_lst.append(dg_fit_fk[col_lst])\n",
    "    #dg_fit_fk = dict_results_fk['dg_fit']\n",
    "    #dh_lst.append(dg_fit_fk[col_lst])\n",
    "\n",
    "for dict_results_lr in dict_results_lr_lst:\n",
    "    dg_fit_lr = dict_results_lr['dg_fit']\n",
    "    dh_lst.append(dg_fit_lr[col_lst])\n",
    "    #dg_fit_lr = dict_results_lr['dg_fit']\n",
    "    #dh_lst.append(dg_fit_lr[col_lst])\n",
    "df_annihil_fits = pd.concat(dh_lst)\n",
    "# df_annihil_fits.reset_index(inplace=True)\n",
    "df_annihil_fits.sort_values(by=['model','rmse'],inplace=True)\n",
    "df_annihil_fits"
   ]
  },
  {
   "cell_type": "code",
   "execution_count": 22,
   "id": "3105e061",
   "metadata": {
    "ExecuteTime": {
     "end_time": "2022-09-21T19:55:26.402342Z",
     "start_time": "2022-09-21T19:55:26.341371Z"
    }
   },
   "outputs": [
    {
     "name": "stdout",
     "output_type": "stream",
     "text": [
      "annihil_fits_dir='/Users/timothytyree/Documents/GitHub/bgmc/python/data/annihil_fits.25.29.csv'\n",
      "             model    amax     L  varkappa      D      r  kappa      rmse  \\\n",
      "1979  Fenton-Karma   1.781   5.0     1.553  0.114  0.020  880.0  0.140241   \n",
      "4501  Fenton-Karma   1.780  10.0     1.680  0.050  0.095  250.0  0.190422   \n",
      "3737      Luo-Rudy  10.147  10.0    10.047  0.050  0.140  350.0  0.119033   \n",
      "9491      Luo-Rudy  10.149   5.0     9.969  0.090  0.100  370.0  0.194177   \n",
      "\n",
      "      log_likelihood  neighbor  q_lo  q_hi  CollTime_lo  CollTime_hi  N_lo  \\\n",
      "1979        7.030700       1.0  0.24   4.0     0.000927     0.178568   6.0   \n",
      "4501       87.768558       1.0  0.08   1.0     0.001985     0.283298   8.0   \n",
      "3737       73.771470       1.0  0.08   1.0     0.000658     0.052132   8.0   \n",
      "9491       10.104532       1.0  0.24   4.0     0.000313     0.032113   6.0   \n",
      "\n",
      "       N_hi  run  cluster_index  job_index  \n",
      "1979  100.0   25       22996017        672  \n",
      "4501  100.0   29       23453634       4366  \n",
      "3737  100.0   29       23453634       7260  \n",
      "9491  100.0   25       22996017       3351  \n"
     ]
    }
   ],
   "source": [
    "# annihil_fits_dir = f'/home/timothytyree/Documents/GitHub/bgmc/python/data/annihil_fits.{run_num_lst[0]}.{run_num_lst[1]}.csv'\n",
    "# annihil_fits_dir = f'/home/timothytyree/Documents/GitHub/bgmc/python/data/annihil_fits.'\n",
    "annihil_fits_dir = f'/Users/timothytyree/Documents/GitHub/bgmc/python/data/annihil_fits.'\n",
    "for run_num in run_num_lst:\n",
    "    annihil_fits_dir += f\"{run_num}.\"\n",
    "annihil_fits_dir+='csv'\n",
    "print(f\"{annihil_fits_dir=}\")\n",
    "#save as .csv and send to WJ right now!\n",
    "# annihil_fits_dir = '/home/timothytyree/Documents/GitHub/bgmc/python/data/annihil_fits.csv'\n",
    "df_annihil_fits.to_csv(annihil_fits_dir,index=False)\n",
    "print(df_annihil_fits)"
   ]
  },
  {
   "cell_type": "code",
   "execution_count": 23,
   "id": "3eeaff76",
   "metadata": {
    "ExecuteTime": {
     "end_time": "2022-09-21T19:55:27.958380Z",
     "start_time": "2022-09-21T19:55:27.911157Z"
    }
   },
   "outputs": [
    {
     "name": "stdout",
     "output_type": "stream",
     "text": [
      "Table of maximum likelihood fits of linear particle model to full models.\n",
      "             model    amax     L      rmse\n",
      "1979  Fenton-Karma   1.781   5.0  0.140241\n",
      "4501  Fenton-Karma   1.780  10.0  0.190422\n",
      "3737      Luo-Rudy  10.147  10.0  0.119033\n",
      "9491      Luo-Rudy  10.149   5.0  0.194177\n"
     ]
    }
   ],
   "source": [
    "print(f\"Table of maximum likelihood fits of linear particle model to full models.\")\n",
    "print(df_annihil_fits[['model','amax','L','rmse']])"
   ]
  },
  {
   "cell_type": "markdown",
   "id": "6fc5ec56",
   "metadata": {},
   "source": [
    "# make table of powerlaw fits"
   ]
  },
  {
   "cell_type": "markdown",
   "id": "c4ea90c9",
   "metadata": {
    "ExecuteTime": {
     "end_time": "2022-09-14T21:44:46.071175Z",
     "start_time": "2022-09-14T21:44:46.050600Z"
    }
   },
   "source": [
    "- DONE: make powerlaw fits for particle model\n",
    "- DONT: plot ^those and verify they look reasonable\n",
    "- DONE: recall wjr fits\n",
    "- DONE: stack these values into a pandas data frame\n",
    "- DONE: print as table, save as powerlaw_fits.csv"
   ]
  },
  {
   "cell_type": "code",
   "execution_count": 24,
   "id": "57237def",
   "metadata": {
    "ExecuteTime": {
     "end_time": "2022-09-21T19:55:29.318997Z",
     "start_time": "2022-09-21T19:55:29.280454Z"
    },
    "run_control": {
     "marked": true
    }
   },
   "outputs": [
    {
     "data": {
      "text/plain": [
       "{'m': 1.8772341309722325,\n",
       " 'Delta_m': 0.02498750277237229,\n",
       " 'M': 5.572315674840435,\n",
       " 'Delta_M': 0.3053120355191732,\n",
       " 'b': 1.665608066257863,\n",
       " 'Delta_b': 0.029341409948945123}"
      ]
     },
     "execution_count": 24,
     "metadata": {},
     "output_type": "execute_result"
    }
   ],
   "source": [
    "wjr=recall_powerlaw_fits_to_full_models()\n",
    "wjr['fk_pbc']"
   ]
  },
  {
   "cell_type": "code",
   "execution_count": 25,
   "id": "f2e292bc",
   "metadata": {
    "ExecuteTime": {
     "end_time": "2022-09-21T19:55:30.052568Z",
     "start_time": "2022-09-21T19:55:30.000414Z"
    }
   },
   "outputs": [
    {
     "name": "stdout",
     "output_type": "stream",
     "text": [
      "\n",
      "****************************\n",
      "* Fenton-Karma:\n",
      "****************************\n",
      "model=Fenton-Karma\n",
      "L=-\n",
      "m=1.8772341309722325\n",
      "Delta_m=0.02498750277237229\n",
      "M=5.572315674840435\n",
      "Delta_M=0.3053120355191732\n",
      "B=1.665608066257863\n",
      "Delta_B=0.029341409948945123\n",
      "\n",
      "****************************\n",
      "* Luo-Rudy:\n",
      "****************************\n",
      "m=1.6375562704001745\n",
      "Delta_m=0.017190912126700632\n",
      "M=16.73559858353835\n",
      "Delta_M=0.8465090320196467\n",
      "b=2.86877101880514\n",
      "Delta_b=0.0311865277365552\n"
     ]
    },
    {
     "data": {
      "text/html": [
       "<div>\n",
       "<style scoped>\n",
       "    .dataframe tbody tr th:only-of-type {\n",
       "        vertical-align: middle;\n",
       "    }\n",
       "\n",
       "    .dataframe tbody tr th {\n",
       "        vertical-align: top;\n",
       "    }\n",
       "\n",
       "    .dataframe thead th {\n",
       "        text-align: right;\n",
       "    }\n",
       "</style>\n",
       "<table border=\"1\" class=\"dataframe\">\n",
       "  <thead>\n",
       "    <tr style=\"text-align: right;\">\n",
       "      <th></th>\n",
       "      <th>model</th>\n",
       "      <th>L</th>\n",
       "      <th>m</th>\n",
       "      <th>Delta_m</th>\n",
       "      <th>M</th>\n",
       "      <th>Delta_M</th>\n",
       "      <th>B</th>\n",
       "      <th>Delta_B</th>\n",
       "    </tr>\n",
       "  </thead>\n",
       "  <tbody>\n",
       "    <tr>\n",
       "      <th>0</th>\n",
       "      <td>Fenton-Karma</td>\n",
       "      <td>-</td>\n",
       "      <td>1.877234</td>\n",
       "      <td>0.024988</td>\n",
       "      <td>5.572316</td>\n",
       "      <td>0.305312</td>\n",
       "      <td>1.665608</td>\n",
       "      <td>0.029341</td>\n",
       "    </tr>\n",
       "    <tr>\n",
       "      <th>1</th>\n",
       "      <td>Luo-Rudy</td>\n",
       "      <td>-</td>\n",
       "      <td>1.637556</td>\n",
       "      <td>0.017191</td>\n",
       "      <td>16.735599</td>\n",
       "      <td>0.846509</td>\n",
       "      <td>2.868771</td>\n",
       "      <td>0.031187</td>\n",
       "    </tr>\n",
       "  </tbody>\n",
       "</table>\n",
       "</div>"
      ],
      "text/plain": [
       "          model  L         m   Delta_m          M   Delta_M         B  \\\n",
       "0  Fenton-Karma  -  1.877234  0.024988   5.572316  0.305312  1.665608   \n",
       "1      Luo-Rudy  -  1.637556  0.017191  16.735599  0.846509  2.868771   \n",
       "\n",
       "    Delta_B  \n",
       "0  0.029341  \n",
       "1  0.031187  "
      ]
     },
     "execution_count": 25,
     "metadata": {},
     "output_type": "execute_result"
    }
   ],
   "source": [
    "dict_fit_lst_full=[]\n",
    "\n",
    "model_str_fk='Fenton-Karma'\n",
    "model_str=model_str_fk\n",
    "print(\"\\n****************************\")\n",
    "print(f\"* {model_str}:\")\n",
    "print(\"****************************\")\n",
    "dict_fit=dict(model=model_str,\n",
    "              L='-',#np.nan,\n",
    "              m=wjr['fk_pbc']['m'],\n",
    "              Delta_m=wjr['fk_pbc']['Delta_m'],\n",
    "              M=wjr['fk_pbc']['M'],\n",
    "              Delta_M=wjr['fk_pbc']['Delta_M'],\n",
    "              B=wjr['fk_pbc']['b'],\n",
    "              Delta_B=wjr['fk_pbc']['Delta_b']\n",
    "              )\n",
    "dict_fit_lst_full.append(dict_fit)\n",
    "print_dict(dict_fit)\n",
    "\n",
    "model_str_lr='Luo-Rudy'\n",
    "model_str=model_str_lr\n",
    "print(\"\\n****************************\")\n",
    "print(f\"* {model_str}:\")\n",
    "print(\"****************************\")\n",
    "print_dict(wjr['lr_pbc'])\n",
    "dict_fit=dict(model=model_str,\n",
    "              L='-',#np.nan,\n",
    "              m=wjr['lr_pbc']['m'],\n",
    "              Delta_m=wjr['lr_pbc']['Delta_m'],\n",
    "              M=wjr['lr_pbc']['M'],\n",
    "              Delta_M=wjr['lr_pbc']['Delta_M'],\n",
    "              B=wjr['lr_pbc']['b'],\n",
    "              Delta_B=wjr['lr_pbc']['Delta_b']\n",
    "              )\n",
    "dict_fit_lst_full.append(dict_fit)\n",
    "# print_dict(dict_fit)\n",
    "df_fit_full=pd.DataFrame(dict_fit_lst_full)\n",
    "df_fit_full"
   ]
  },
  {
   "cell_type": "code",
   "execution_count": 26,
   "id": "37701f1a",
   "metadata": {
    "ExecuteTime": {
     "end_time": "2022-09-21T19:55:30.779085Z",
     "start_time": "2022-09-21T19:55:30.687361Z"
    }
   },
   "outputs": [
    {
     "name": "stdout",
     "output_type": "stream",
     "text": [
      "\n",
      "****************************\n",
      "* Fenton-Karma:\n",
      "****************************\n",
      "m = 1.916200 +/- 0.060663\n",
      "M = 4.515501 +/- 0.495312 Hz/cm^2; B=2.196185 +/- 0.063511\n",
      "RMSE=0.9182 Hz/cm^2; R^2=0.9892; N=44\n",
      "m = 1.803820 +/- 0.024351\n",
      "M = 4.960711 +/- 0.218099 Hz/cm^2; B=2.429937 +/- 0.028620\n",
      "RMSE=0.1553 Hz/cm^2; R^2=0.9958; N=91\n",
      "\n",
      "****************************\n",
      "* Luo-Rudy:\n",
      "****************************\n",
      "m = 1.616659 +/- 0.031761\n",
      "M = 14.974248 +/- 1.230887 Hz/cm^2; B=5.333609 +/- 0.084226\n",
      "RMSE=1.2579 Hz/cm^2; R^2=0.9958; N=44\n",
      "m = 1.612965 +/- 0.014236\n",
      "M = 15.355886 +/- 0.566430 Hz/cm^2; B=5.438288 +/- 0.040640\n",
      "RMSE=0.2679 Hz/cm^2; R^2=0.9982; N=91\n"
     ]
    },
    {
     "data": {
      "text/html": [
       "<div>\n",
       "<style scoped>\n",
       "    .dataframe tbody tr th:only-of-type {\n",
       "        vertical-align: middle;\n",
       "    }\n",
       "\n",
       "    .dataframe tbody tr th {\n",
       "        vertical-align: top;\n",
       "    }\n",
       "\n",
       "    .dataframe thead th {\n",
       "        text-align: right;\n",
       "    }\n",
       "</style>\n",
       "<table border=\"1\" class=\"dataframe\">\n",
       "  <thead>\n",
       "    <tr style=\"text-align: right;\">\n",
       "      <th></th>\n",
       "      <th>rmse</th>\n",
       "      <th>Rsq</th>\n",
       "      <th>num_obs</th>\n",
       "      <th>m</th>\n",
       "      <th>Delta_m</th>\n",
       "      <th>M</th>\n",
       "      <th>Delta_M</th>\n",
       "      <th>B</th>\n",
       "      <th>Delta_B</th>\n",
       "      <th>model</th>\n",
       "      <th>L</th>\n",
       "    </tr>\n",
       "  </thead>\n",
       "  <tbody>\n",
       "    <tr>\n",
       "      <th>0</th>\n",
       "      <td>0.918185</td>\n",
       "      <td>0.989161</td>\n",
       "      <td>44</td>\n",
       "      <td>1.916200</td>\n",
       "      <td>0.060663</td>\n",
       "      <td>4.515501</td>\n",
       "      <td>0.495312</td>\n",
       "      <td>2.196185</td>\n",
       "      <td>0.063511</td>\n",
       "      <td>Fenton-Karma</td>\n",
       "      <td>5</td>\n",
       "    </tr>\n",
       "    <tr>\n",
       "      <th>1</th>\n",
       "      <td>0.155328</td>\n",
       "      <td>0.995796</td>\n",
       "      <td>91</td>\n",
       "      <td>1.803820</td>\n",
       "      <td>0.024351</td>\n",
       "      <td>4.960711</td>\n",
       "      <td>0.218099</td>\n",
       "      <td>2.429937</td>\n",
       "      <td>0.028620</td>\n",
       "      <td>Fenton-Karma</td>\n",
       "      <td>10</td>\n",
       "    </tr>\n",
       "    <tr>\n",
       "      <th>2</th>\n",
       "      <td>1.257873</td>\n",
       "      <td>0.995798</td>\n",
       "      <td>44</td>\n",
       "      <td>1.616659</td>\n",
       "      <td>0.031761</td>\n",
       "      <td>14.974248</td>\n",
       "      <td>1.230887</td>\n",
       "      <td>5.333609</td>\n",
       "      <td>0.084226</td>\n",
       "      <td>Luo-Rudy</td>\n",
       "      <td>5</td>\n",
       "    </tr>\n",
       "    <tr>\n",
       "      <th>3</th>\n",
       "      <td>0.267911</td>\n",
       "      <td>0.998199</td>\n",
       "      <td>91</td>\n",
       "      <td>1.612965</td>\n",
       "      <td>0.014236</td>\n",
       "      <td>15.355886</td>\n",
       "      <td>0.566430</td>\n",
       "      <td>5.438288</td>\n",
       "      <td>0.040640</td>\n",
       "      <td>Luo-Rudy</td>\n",
       "      <td>10</td>\n",
       "    </tr>\n",
       "  </tbody>\n",
       "</table>\n",
       "</div>"
      ],
      "text/plain": [
       "       rmse       Rsq  num_obs         m   Delta_m          M   Delta_M  \\\n",
       "0  0.918185  0.989161       44  1.916200  0.060663   4.515501  0.495312   \n",
       "1  0.155328  0.995796       91  1.803820  0.024351   4.960711  0.218099   \n",
       "2  1.257873  0.995798       44  1.616659  0.031761  14.974248  1.230887   \n",
       "3  0.267911  0.998199       91  1.612965  0.014236  15.355886  0.566430   \n",
       "\n",
       "          B   Delta_B         model   L  \n",
       "0  2.196185  0.063511  Fenton-Karma   5  \n",
       "1  2.429937  0.028620  Fenton-Karma  10  \n",
       "2  5.333609  0.084226      Luo-Rudy   5  \n",
       "3  5.438288  0.040640      Luo-Rudy  10  "
      ]
     },
     "execution_count": 26,
     "metadata": {},
     "output_type": "execute_result"
    }
   ],
   "source": [
    "# gener_annihil_powerlaw_fit_ols for particle model\n",
    "dict_fit_lst=[]\n",
    "\n",
    "model_str=model_str_fk\n",
    "print(\"\\n****************************\")\n",
    "print(f\"* {model_str}:\")\n",
    "print(\"****************************\")\n",
    "# Linear Particle (L=5)\n",
    "df_fit = dict_results_fk_lst[0]['df_fit'].sort_values(by='q')\n",
    "dict_fit = gener_annihil_powerlaw_fit_ols(df=df_fit,\n",
    "                                          qmin=0.1,qmax=2)\n",
    "dict_fit['model']=model_str\n",
    "dict_fit['L']=5\n",
    "dict_fit_lst.append(dict_fit)\n",
    "\n",
    "# Linear Particle (L=10)\n",
    "df_fit = dict_results_fk_lst[1]['df_fit'].sort_values(by='q')\n",
    "dict_fit = gener_annihil_powerlaw_fit_ols(df=df_fit,\n",
    "                                          qmin=0.1,qmax=2)\n",
    "dict_fit['model']=model_str\n",
    "dict_fit['L']=10\n",
    "dict_fit_lst.append(dict_fit)\n",
    "\n",
    "model_str=model_str_lr\n",
    "print(\"\\n****************************\")\n",
    "print(f\"* {model_str}:\")\n",
    "print(\"****************************\")\n",
    "# Linear Particle (L=5)\n",
    "df_fit = dict_results_lr_lst[0]['df_fit'].sort_values(by='q')\n",
    "dict_fit = gener_annihil_powerlaw_fit_ols(df=df_fit,\n",
    "                                          qmin=0.1,qmax=2)\n",
    "dict_fit['model']=model_str\n",
    "dict_fit['L']=5\n",
    "dict_fit_lst.append(dict_fit)\n",
    "\n",
    "# Linear Particle (L=10)\n",
    "df_fit = dict_results_lr_lst[1]['df_fit'].sort_values(by='q')\n",
    "dict_fit = gener_annihil_powerlaw_fit_ols(df=df_fit,\n",
    "                                          qmin=0.1,qmax=2)\n",
    "dict_fit['model']=model_str\n",
    "dict_fit['L']=10\n",
    "dict_fit_lst.append(dict_fit)\n",
    "df_fit_particle = pd.DataFrame(dict_fit_lst)\n",
    "df_fit_particle"
   ]
  },
  {
   "cell_type": "code",
   "execution_count": 27,
   "id": "f8321261",
   "metadata": {
    "ExecuteTime": {
     "end_time": "2022-09-21T19:55:32.745874Z",
     "start_time": "2022-09-21T19:55:32.682770Z"
    }
   },
   "outputs": [
    {
     "name": "stdout",
     "output_type": "stream",
     "text": [
      "       rmse       Rsq  num_obs         m   Delta_m          M   Delta_M  \\\n",
      "0  0.918185  0.989161     44.0  1.916200  0.060663   4.515501  0.495312   \n",
      "1  0.155328  0.995796     91.0  1.803820  0.024351   4.960711  0.218099   \n",
      "2  1.257873  0.995798     44.0  1.616659  0.031761  14.974248  1.230887   \n",
      "3  0.267911  0.998199     91.0  1.612965  0.014236  15.355886  0.566430   \n",
      "0       NaN       NaN      NaN  1.877234  0.024988   5.572316  0.305312   \n",
      "1       NaN       NaN      NaN  1.637556  0.017191  16.735599  0.846509   \n",
      "\n",
      "          B   Delta_B         model   L  \n",
      "0  2.196185  0.063511  Fenton-Karma   5  \n",
      "1  2.429937  0.028620  Fenton-Karma  10  \n",
      "2  5.333609  0.084226      Luo-Rudy   5  \n",
      "3  5.438288  0.040640      Luo-Rudy  10  \n",
      "0  1.665608  0.029341  Fenton-Karma   -  \n",
      "1  2.868771  0.031187      Luo-Rudy   -  \n"
     ]
    }
   ],
   "source": [
    "col_lst=list(df_fit_full.columns)\n",
    "df_fit=pd.concat((df_fit_particle,df_fit_full))\n",
    "col_lst=['model', 'L', 'm', 'Delta_m', 'M', 'Delta_M']\n",
    "print(df_fit)"
   ]
  },
  {
   "cell_type": "code",
   "execution_count": 35,
   "id": "d53d9a46",
   "metadata": {
    "ExecuteTime": {
     "end_time": "2022-09-21T20:02:36.627693Z",
     "start_time": "2022-09-21T20:02:36.471212Z"
    }
   },
   "outputs": [
    {
     "ename": "KeyError",
     "evalue": "'r'",
     "output_type": "error",
     "traceback": [
      "\u001b[0;31m---------------------------------------------------------------------------\u001b[0m",
      "\u001b[0;31mKeyError\u001b[0m                                  Traceback (most recent call last)",
      "\u001b[0;32m~/opt/miniconda3/envs/pyenv/lib/python3.9/site-packages/pandas/core/indexes/base.py\u001b[0m in \u001b[0;36mget_loc\u001b[0;34m(self, key, method, tolerance)\u001b[0m\n\u001b[1;32m   3620\u001b[0m             \u001b[0;32mtry\u001b[0m\u001b[0;34m:\u001b[0m\u001b[0;34m\u001b[0m\u001b[0;34m\u001b[0m\u001b[0m\n\u001b[0;32m-> 3621\u001b[0;31m                 \u001b[0;32mreturn\u001b[0m \u001b[0mself\u001b[0m\u001b[0;34m.\u001b[0m\u001b[0m_engine\u001b[0m\u001b[0;34m.\u001b[0m\u001b[0mget_loc\u001b[0m\u001b[0;34m(\u001b[0m\u001b[0mcasted_key\u001b[0m\u001b[0;34m)\u001b[0m\u001b[0;34m\u001b[0m\u001b[0;34m\u001b[0m\u001b[0m\n\u001b[0m\u001b[1;32m   3622\u001b[0m             \u001b[0;32mexcept\u001b[0m \u001b[0mKeyError\u001b[0m \u001b[0;32mas\u001b[0m \u001b[0merr\u001b[0m\u001b[0;34m:\u001b[0m\u001b[0;34m\u001b[0m\u001b[0;34m\u001b[0m\u001b[0m\n",
      "\u001b[0;32m~/opt/miniconda3/envs/pyenv/lib/python3.9/site-packages/pandas/_libs/index.pyx\u001b[0m in \u001b[0;36mpandas._libs.index.IndexEngine.get_loc\u001b[0;34m()\u001b[0m\n",
      "\u001b[0;32m~/opt/miniconda3/envs/pyenv/lib/python3.9/site-packages/pandas/_libs/index.pyx\u001b[0m in \u001b[0;36mpandas._libs.index.IndexEngine.get_loc\u001b[0;34m()\u001b[0m\n",
      "\u001b[0;32mpandas/_libs/hashtable_class_helper.pxi\u001b[0m in \u001b[0;36mpandas._libs.hashtable.PyObjectHashTable.get_item\u001b[0;34m()\u001b[0m\n",
      "\u001b[0;32mpandas/_libs/hashtable_class_helper.pxi\u001b[0m in \u001b[0;36mpandas._libs.hashtable.PyObjectHashTable.get_item\u001b[0;34m()\u001b[0m\n",
      "\u001b[0;31mKeyError\u001b[0m: 'r'",
      "\nThe above exception was the direct cause of the following exception:\n",
      "\u001b[0;31mKeyError\u001b[0m                                  Traceback (most recent call last)",
      "\u001b[0;32m/var/folders/0h/p4cbb7yx22jbxm0qb47vhfbh0000gn/T/ipykernel_72303/2440840651.py\u001b[0m in \u001b[0;36m<module>\u001b[0;34m\u001b[0m\n\u001b[1;32m      1\u001b[0m \u001b[0;31m#format as pandas table\u001b[0m\u001b[0;34m\u001b[0m\u001b[0;34m\u001b[0m\u001b[0;34m\u001b[0m\u001b[0m\n\u001b[1;32m      2\u001b[0m \u001b[0mmindex_lst\u001b[0m\u001b[0;34m=\u001b[0m\u001b[0;34m[\u001b[0m\u001b[0;34m'model'\u001b[0m\u001b[0;34m,\u001b[0m \u001b[0;34m'L'\u001b[0m\u001b[0;34m]\u001b[0m\u001b[0;34m\u001b[0m\u001b[0;34m\u001b[0m\u001b[0m\n\u001b[0;32m----> 3\u001b[0;31m \u001b[0mdf_fit\u001b[0m\u001b[0;34m[\u001b[0m\u001b[0;34m'delta'\u001b[0m\u001b[0;34m]\u001b[0m \u001b[0;34m=\u001b[0m \u001b[0mnp\u001b[0m\u001b[0;34m.\u001b[0m\u001b[0mpi\u001b[0m\u001b[0;34m*\u001b[0m\u001b[0mdf_fit\u001b[0m\u001b[0;34m[\u001b[0m\u001b[0;34m'r'\u001b[0m\u001b[0;34m]\u001b[0m\u001b[0;34m**\u001b[0m\u001b[0;36m2\u001b[0m\u001b[0;34m*\u001b[0m\u001b[0mdf_fit\u001b[0m\u001b[0;34m[\u001b[0m\u001b[0;34m'kappa'\u001b[0m\u001b[0;34m]\u001b[0m\u001b[0;34m\u001b[0m\u001b[0;34m\u001b[0m\u001b[0m\n\u001b[0m\u001b[1;32m      4\u001b[0m \u001b[0mdf_table_powerlaw\u001b[0m\u001b[0;34m=\u001b[0m\u001b[0mdf_fit\u001b[0m\u001b[0;34m.\u001b[0m\u001b[0msort_values\u001b[0m\u001b[0;34m(\u001b[0m\u001b[0mby\u001b[0m\u001b[0;34m=\u001b[0m\u001b[0mmindex_lst\u001b[0m\u001b[0;34m,\u001b[0m\u001b[0mascending\u001b[0m\u001b[0;34m=\u001b[0m\u001b[0;32mFalse\u001b[0m\u001b[0;34m)\u001b[0m\u001b[0;31m\\\u001b[0m\u001b[0;34m\u001b[0m\u001b[0;34m\u001b[0m\u001b[0m\n\u001b[1;32m      5\u001b[0m                \u001b[0;34m.\u001b[0m\u001b[0mset_index\u001b[0m\u001b[0;34m(\u001b[0m\u001b[0mmindex_lst\u001b[0m\u001b[0;34m)\u001b[0m\u001b[0;34m[\u001b[0m\u001b[0;34m[\u001b[0m\u001b[0;34m'm'\u001b[0m\u001b[0;34m,\u001b[0m \u001b[0;34m'Delta_m'\u001b[0m\u001b[0;34m,\u001b[0m \u001b[0;34m'M'\u001b[0m\u001b[0;34m,\u001b[0m \u001b[0;34m'Delta_M'\u001b[0m\u001b[0;34m,\u001b[0m \u001b[0;34m'r'\u001b[0m\u001b[0;34m,\u001b[0m\u001b[0;34m'kappa'\u001b[0m\u001b[0;34m,\u001b[0m \u001b[0;34m'delta'\u001b[0m\u001b[0;34m,\u001b[0m \u001b[0;34m'a'\u001b[0m\u001b[0;34m,\u001b[0m \u001b[0;34m'D'\u001b[0m\u001b[0;34m]\u001b[0m\u001b[0;34m]\u001b[0m\u001b[0;34m.\u001b[0m\u001b[0mT\u001b[0m\u001b[0;34m\u001b[0m\u001b[0;34m\u001b[0m\u001b[0m\n",
      "\u001b[0;32m~/opt/miniconda3/envs/pyenv/lib/python3.9/site-packages/pandas/core/frame.py\u001b[0m in \u001b[0;36m__getitem__\u001b[0;34m(self, key)\u001b[0m\n\u001b[1;32m   3503\u001b[0m             \u001b[0;32mif\u001b[0m \u001b[0mself\u001b[0m\u001b[0;34m.\u001b[0m\u001b[0mcolumns\u001b[0m\u001b[0;34m.\u001b[0m\u001b[0mnlevels\u001b[0m \u001b[0;34m>\u001b[0m \u001b[0;36m1\u001b[0m\u001b[0;34m:\u001b[0m\u001b[0;34m\u001b[0m\u001b[0;34m\u001b[0m\u001b[0m\n\u001b[1;32m   3504\u001b[0m                 \u001b[0;32mreturn\u001b[0m \u001b[0mself\u001b[0m\u001b[0;34m.\u001b[0m\u001b[0m_getitem_multilevel\u001b[0m\u001b[0;34m(\u001b[0m\u001b[0mkey\u001b[0m\u001b[0;34m)\u001b[0m\u001b[0;34m\u001b[0m\u001b[0;34m\u001b[0m\u001b[0m\n\u001b[0;32m-> 3505\u001b[0;31m             \u001b[0mindexer\u001b[0m \u001b[0;34m=\u001b[0m \u001b[0mself\u001b[0m\u001b[0;34m.\u001b[0m\u001b[0mcolumns\u001b[0m\u001b[0;34m.\u001b[0m\u001b[0mget_loc\u001b[0m\u001b[0;34m(\u001b[0m\u001b[0mkey\u001b[0m\u001b[0;34m)\u001b[0m\u001b[0;34m\u001b[0m\u001b[0;34m\u001b[0m\u001b[0m\n\u001b[0m\u001b[1;32m   3506\u001b[0m             \u001b[0;32mif\u001b[0m \u001b[0mis_integer\u001b[0m\u001b[0;34m(\u001b[0m\u001b[0mindexer\u001b[0m\u001b[0;34m)\u001b[0m\u001b[0;34m:\u001b[0m\u001b[0;34m\u001b[0m\u001b[0;34m\u001b[0m\u001b[0m\n\u001b[1;32m   3507\u001b[0m                 \u001b[0mindexer\u001b[0m \u001b[0;34m=\u001b[0m \u001b[0;34m[\u001b[0m\u001b[0mindexer\u001b[0m\u001b[0;34m]\u001b[0m\u001b[0;34m\u001b[0m\u001b[0;34m\u001b[0m\u001b[0m\n",
      "\u001b[0;32m~/opt/miniconda3/envs/pyenv/lib/python3.9/site-packages/pandas/core/indexes/base.py\u001b[0m in \u001b[0;36mget_loc\u001b[0;34m(self, key, method, tolerance)\u001b[0m\n\u001b[1;32m   3621\u001b[0m                 \u001b[0;32mreturn\u001b[0m \u001b[0mself\u001b[0m\u001b[0;34m.\u001b[0m\u001b[0m_engine\u001b[0m\u001b[0;34m.\u001b[0m\u001b[0mget_loc\u001b[0m\u001b[0;34m(\u001b[0m\u001b[0mcasted_key\u001b[0m\u001b[0;34m)\u001b[0m\u001b[0;34m\u001b[0m\u001b[0;34m\u001b[0m\u001b[0m\n\u001b[1;32m   3622\u001b[0m             \u001b[0;32mexcept\u001b[0m \u001b[0mKeyError\u001b[0m \u001b[0;32mas\u001b[0m \u001b[0merr\u001b[0m\u001b[0;34m:\u001b[0m\u001b[0;34m\u001b[0m\u001b[0;34m\u001b[0m\u001b[0m\n\u001b[0;32m-> 3623\u001b[0;31m                 \u001b[0;32mraise\u001b[0m \u001b[0mKeyError\u001b[0m\u001b[0;34m(\u001b[0m\u001b[0mkey\u001b[0m\u001b[0;34m)\u001b[0m \u001b[0;32mfrom\u001b[0m \u001b[0merr\u001b[0m\u001b[0;34m\u001b[0m\u001b[0;34m\u001b[0m\u001b[0m\n\u001b[0m\u001b[1;32m   3624\u001b[0m             \u001b[0;32mexcept\u001b[0m \u001b[0mTypeError\u001b[0m\u001b[0;34m:\u001b[0m\u001b[0;34m\u001b[0m\u001b[0;34m\u001b[0m\u001b[0m\n\u001b[1;32m   3625\u001b[0m                 \u001b[0;31m# If we have a listlike key, _check_indexing_error will raise\u001b[0m\u001b[0;34m\u001b[0m\u001b[0;34m\u001b[0m\u001b[0;34m\u001b[0m\u001b[0m\n",
      "\u001b[0;31mKeyError\u001b[0m: 'r'"
     ]
    }
   ],
   "source": [
    "#format as pandas table\n",
    "mindex_lst=['model', 'L']\n",
    "df_fit['delta'] = np.pi*df_fit['r']**2*df_fit['kappa']\n",
    "df_table_powerlaw=df_fit.sort_values(by=mindex_lst,ascending=False)\\\n",
    "               .set_index(mindex_lst)[['m', 'Delta_m', 'M', 'Delta_M', 'r','kappa', 'delta', 'a', 'D']].T\n",
    "print(df_table_powerlaw)"
   ]
  },
  {
   "cell_type": "code",
   "execution_count": 36,
   "id": "471f830f",
   "metadata": {
    "ExecuteTime": {
     "end_time": "2022-09-21T22:00:19.446631Z",
     "start_time": "2022-09-21T22:00:19.274324Z"
    }
   },
   "outputs": [
    {
     "ename": "NameError",
     "evalue": "name 'df_annihil_fit' is not defined",
     "output_type": "error",
     "traceback": [
      "\u001b[0;31m---------------------------------------------------------------------------\u001b[0m",
      "\u001b[0;31mNameError\u001b[0m                                 Traceback (most recent call last)",
      "\u001b[0;32m/var/folders/0h/p4cbb7yx22jbxm0qb47vhfbh0000gn/T/ipykernel_72303/1126522823.py\u001b[0m in \u001b[0;36m<module>\u001b[0;34m\u001b[0m\n\u001b[0;32m----> 1\u001b[0;31m \u001b[0mdf_annihil_fit\u001b[0m\u001b[0;34m\u001b[0m\u001b[0;34m\u001b[0m\u001b[0m\n\u001b[0m",
      "\u001b[0;31mNameError\u001b[0m: name 'df_annihil_fit' is not defined"
     ]
    }
   ],
   "source": []
  },
  {
   "cell_type": "code",
   "execution_count": 29,
   "id": "e95d7f22",
   "metadata": {
    "ExecuteTime": {
     "end_time": "2022-09-21T19:56:02.716654Z",
     "start_time": "2022-09-21T19:56:02.666767Z"
    }
   },
   "outputs": [],
   "source": [
    "# #TODO(later...): plot the powerlaw fits overlayed on the y-axis\n",
    "# m=wjr['fk_pbc']['m']\n",
    "# M=wjr['fk_pbc']['M']\n",
    "# yhat=M*x**m"
   ]
  },
  {
   "cell_type": "code",
   "execution_count": 30,
   "id": "6080e402",
   "metadata": {
    "ExecuteTime": {
     "end_time": "2022-09-21T19:56:02.960393Z",
     "start_time": "2022-09-21T19:56:02.911634Z"
    }
   },
   "outputs": [],
   "source": [
    "#DONE: restart run run but with neighbors=0,1"
   ]
  },
  {
   "cell_type": "code",
   "execution_count": 31,
   "id": "c558e6b4",
   "metadata": {
    "ExecuteTime": {
     "end_time": "2022-09-21T19:56:03.358288Z",
     "start_time": "2022-09-21T19:56:03.308488Z"
    }
   },
   "outputs": [],
   "source": [
    "# #howdo plot lotsa bars \n",
    "# f, axarr = plt.subplots(2)\n",
    "\n",
    "# axarr[0].bar(range(10), range(10))\n",
    "# axarr[0].tick_params(labelbottom=False, labeltop=True, labelleft=False, labelright=False,\n",
    "#                      bottom=False, top=True, left=False, right=False)\n",
    "\n",
    "# axarr[1].bar(range(10), range(10, 0, -1))\n",
    "# axarr[1].tick_params(labelbottom=True, labeltop=False, labelleft=False, labelright=False,\n",
    "#                      bottom=True, top=False, left=False, right=False)"
   ]
  },
  {
   "cell_type": "markdown",
   "id": "b8cd69b5",
   "metadata": {},
   "source": [
    "# generate minimalist latex tables with formatted dataframes from above"
   ]
  },
  {
   "cell_type": "code",
   "execution_count": 32,
   "id": "50237b4d",
   "metadata": {
    "ExecuteTime": {
     "end_time": "2022-09-21T19:56:10.654866Z",
     "start_time": "2022-09-21T19:56:10.598970Z"
    }
   },
   "outputs": [
    {
     "name": "stdout",
     "output_type": "stream",
     "text": [
      "key = 0.000000 +/- 0.123468\n"
     ]
    }
   ],
   "source": [
    "string = format_measurement_string(key='key',val=0,Delta_val=0.123467890,num_digits=6)\n",
    "print(string)"
   ]
  },
  {
   "cell_type": "code",
   "execution_count": 33,
   "id": "053a6b6f",
   "metadata": {
    "ExecuteTime": {
     "end_time": "2022-09-21T19:56:11.330462Z",
     "start_time": "2022-09-21T19:56:11.259142Z"
    }
   },
   "outputs": [
    {
     "name": "stdout",
     "output_type": "stream",
     "text": [
      "\n",
      "% df_table_powerlaw\n",
      "% \\caption{Table of powerlaw fits of maximum likelihood fits of pair annihilation rates.}\n",
      "model     Luo-Rudy                       Fenton-Karma                    \n",
      "L                -         10          5            -        10         5\n",
      "m         1.637556   1.612965   1.616659     1.877234  1.803820  1.916200\n",
      "Delta_m   0.017191   0.014236   0.031761     0.024988  0.024351  0.060663\n",
      "M        16.735599  15.355886  14.974248     5.572316  4.960711  4.515501\n",
      "Delta_M   0.846509   0.566430   1.230887     0.305312  0.218099  0.495312\n",
      "\n",
      "% df_table_mle\n",
      "% \\caption{Table of maximum likelihood fits of pair annihilation rates to the full models (complete table in Supplementary).}\n",
      "model   Luo-Rudy            Fenton-Karma          \n",
      "L           10.0       5.0          10.0      5.0 \n",
      "amax   10.147000  10.149000     1.780000  1.781000\n",
      "rmse    0.119033   0.194177     0.190422  0.140241\n",
      "\n",
      "% df_table_mle_complete\n",
      "% \\caption{Table of maximum likelihood fits of pair annihilation rates to the full models.}\n",
      "model               Luo-Rudy                Fenton-Karma              \n",
      "L                       10.0          5.0           10.0          5.0 \n",
      "amax            1.014700e+01  1.014900e+01  1.780000e+00  1.781000e+00\n",
      "varkappa        1.004700e+01  9.969000e+00  1.680000e+00  1.553000e+00\n",
      "D               5.000000e-02  9.000000e-02  5.000000e-02  1.140000e-01\n",
      "r               1.400000e-01  1.000000e-01  9.500000e-02  2.000000e-02\n",
      "kappa           3.500000e+02  3.700000e+02  2.500000e+02  8.800000e+02\n",
      "rmse            1.190332e-01  1.941768e-01  1.904222e-01  1.402414e-01\n",
      "log_likelihood  7.377147e+01  1.010453e+01  8.776856e+01  7.030700e+00\n",
      "neighbor        1.000000e+00  1.000000e+00  1.000000e+00  1.000000e+00\n",
      "q_lo            8.000000e-02  2.400000e-01  8.000000e-02  2.400000e-01\n",
      "q_hi            1.000000e+00  4.000000e+00  1.000000e+00  4.000000e+00\n",
      "CollTime_lo     6.580000e-04  3.130000e-04  1.985000e-03  9.270000e-04\n",
      "CollTime_hi     5.213200e-02  3.211300e-02  2.832980e-01  1.785680e-01\n",
      "N_lo            8.000000e+00  6.000000e+00  8.000000e+00  6.000000e+00\n",
      "N_hi            1.000000e+02  1.000000e+02  1.000000e+02  1.000000e+02\n",
      "run             2.900000e+01  2.500000e+01  2.900000e+01  2.500000e+01\n",
      "cluster_index   2.345363e+07  2.299602e+07  2.345363e+07  2.299602e+07\n",
      "job_index       7.260000e+03  3.351000e+03  4.366000e+03  6.720000e+02\n"
     ]
    }
   ],
   "source": [
    "print(\"\\n% df_table_powerlaw\")\n",
    "print(f\"% \\caption{{Table of powerlaw fits of maximum likelihood fits of pair annihilation rates.}}\")\n",
    "print(df_table_powerlaw)\n",
    "\n",
    "print(\"\\n% df_table_mle\")\n",
    "print(f\"% \\caption{{Table of maximum likelihood fits of pair annihilation rates to the full models (complete table in Supplementary).}}\")\n",
    "df_table_mle=df_annihil_fits.sort_values(by=mindex_lst,ascending=False)\\\n",
    "               .set_index(mindex_lst)[['amax','rmse']].T\n",
    "print(df_table_mle)\n",
    "\n",
    "\n",
    "print(\"\\n% df_table_mle_complete\")\n",
    "print(f\"% \\caption{{Table of maximum likelihood fits of pair annihilation rates to the full models.}}\")\n",
    "df_table_mle_complete=df_annihil_fits.sort_values(by=mindex_lst,ascending=False)\\\n",
    "               .set_index(mindex_lst).T #[['m', 'Delta_m', 'M', 'Delta_M']].T\n",
    "print(df_table_mle_complete)\n",
    "\n"
   ]
  },
  {
   "cell_type": "code",
   "execution_count": null,
   "id": "3025c15f",
   "metadata": {},
   "outputs": [],
   "source": []
  },
  {
   "cell_type": "code",
   "execution_count": 34,
   "id": "7e49b640",
   "metadata": {
    "ExecuteTime": {
     "end_time": "2022-09-21T19:56:19.902053Z",
     "start_time": "2022-09-21T19:56:19.701185Z"
    }
   },
   "outputs": [
    {
     "name": "stdout",
     "output_type": "stream",
     "text": [
      "% ****************************\n",
      "% * Generated LaTeX tables\n",
      "% **************************\n",
      "% df_table_powerlaw\n",
      "% \begin{ruledtabular}\n",
      "% \begin{tabular}{cccccc}\n",
      "\\begin{table}\n",
      "\\centering\n",
      "\\caption{shows powerlaw fits  to the mean pair-annihilation rates for the full models and for the linear particle models at a relatively short length scale ($L=5$ cm) and at a relatively long length scale ($L=10$ cm).  Parameter settings for the linear particle model correspond to Tab. \r",
      "ef{tab:df_table_mle_complete}}\\label{tab:df_table_powerlaw})}\n",
      "\\begin{tabular}{lrrrrrr}\n",
      "\\toprule\n",
      "  index & \\multicolumn{3}{c}{Luo-Rudy} & \\multicolumn{3}{c}{Fenton-Karma} \\\\\n",
      "        &        - &      10 &       5 &            - &     10 &      5 \\\\\n",
      "\\midrule\n",
      "      m &   1.6376 &  1.6130 &  1.6167 &       1.8772 & 1.8038 & 1.9162 \\\\\n",
      "Delta\\_m &   0.0172 &  0.0142 &  0.0318 &       0.0250 & 0.0244 & 0.0607 \\\\\n",
      "      M &  16.7356 & 15.3559 & 14.9742 &       5.5723 & 4.9607 & 4.5155 \\\\\n",
      "Delta\\_M &   0.8465 &  0.5664 &  1.2309 &       0.3053 & 0.2181 & 0.4953 \\\\\n",
      "\\bottomrule\n",
      "\\end{tabular}\n",
      "\\end{table}\n",
      "\n",
      "\n",
      "% df_table_mle\n",
      "% \begin{ruledtabular}\n",
      "% \begin{tabular}{cccccc}\n",
      "\\begin{table}\n",
      "\\centering\n",
      "\\caption{Table of maximum likelihood fits of pair annihilation rates to the full models (complete table in Supplementary).}\\label{tab:df_table_mle}}\n",
      "\\begin{tabular}{lrrrr}\n",
      "\\toprule\n",
      "index & \\multicolumn{2}{c}{Luo-Rudy} & \\multicolumn{2}{c}{Fenton-Karma} \\\\\n",
      "      &     10.0 &     5.0 &         10.0 &    5.0 \\\\\n",
      "\\midrule\n",
      " amax &  10.1470 & 10.1490 &       1.7800 & 1.7810 \\\\\n",
      " rmse &   0.1190 &  0.1942 &       0.1904 & 0.1402 \\\\\n",
      "\\bottomrule\n",
      "\\end{tabular}\n",
      "\\end{table}\n",
      "\n",
      "\n",
      "% df_table_mle_complete\n",
      "% \begin{ruledtabular}\n",
      "% \begin{tabular}{cccccc}\n",
      "\\begin{table}\n",
      "\\centering\n",
      "\\caption{shows maximum likelihood fits of the mean pair-annihilation rates of the linear particle model to those of the full models. Results are shown for the linear particle model at a relatively short length scale ($L=5$ cm) and at a relatively long length scale ($L=10$ cm).}\\label{tab:df_table_mle_complete}}\n",
      "\\begin{tabular}{lrrrr}\n",
      "\\toprule\n",
      "         index & \\multicolumn{2}{c}{Luo-Rudy} & \\multicolumn{2}{c}{Fenton-Karma} \\\\\n",
      "               &          10.0 &           5.0 &          10.0 &           5.0 \\\\\n",
      "\\midrule\n",
      "          amax &       10.1470 &       10.1490 &        1.7800 &        1.7810 \\\\\n",
      "      varkappa &       10.0470 &        9.9690 &        1.6800 &        1.5530 \\\\\n",
      "             D &        0.0500 &        0.0900 &        0.0500 &        0.1140 \\\\\n",
      "             r &        0.1400 &        0.1000 &        0.0950 &        0.0200 \\\\\n",
      "         kappa &      350.0000 &      370.0000 &      250.0000 &      880.0000 \\\\\n",
      "          rmse &        0.1190 &        0.1942 &        0.1904 &        0.1402 \\\\\n",
      "log\\_likelihood &       73.7715 &       10.1045 &       87.7686 &        7.0307 \\\\\n",
      "      neighbor &        1.0000 &        1.0000 &        1.0000 &        1.0000 \\\\\n",
      "          q\\_lo &        0.0800 &        0.2400 &        0.0800 &        0.2400 \\\\\n",
      "          q\\_hi &        1.0000 &        4.0000 &        1.0000 &        4.0000 \\\\\n",
      "   CollTime\\_lo &        0.0007 &        0.0003 &        0.0020 &        0.0009 \\\\\n",
      "   CollTime\\_hi &        0.0521 &        0.0321 &        0.2833 &        0.1786 \\\\\n",
      "          N\\_lo &        8.0000 &        6.0000 &        8.0000 &        6.0000 \\\\\n",
      "          N\\_hi &      100.0000 &      100.0000 &      100.0000 &      100.0000 \\\\\n",
      "           run &       29.0000 &       25.0000 &       29.0000 &       25.0000 \\\\\n",
      " cluster\\_index & 23453634.0000 & 22996017.0000 & 23453634.0000 & 22996017.0000 \\\\\n",
      "     job\\_index &     7260.0000 &     3351.0000 &     4366.0000 &      672.0000 \\\\\n",
      "\\bottomrule\n",
      "\\end{tabular}\n",
      "\\end{table}\n",
      "\n"
     ]
    }
   ],
   "source": [
    "##############################\n",
    "# LaTeX table generation\n",
    "##############################\n",
    "print(\"% ****************************\")\n",
    "print(\"% * Generated LaTeX tables\")\n",
    "print(\"% **************************\")\n",
    "kwargs_table_2_levels=dict(float_format=\"{:0.4f}\".format,\n",
    "                          multicolumn_format='c',\n",
    "#                            column_format='c',\n",
    "#                            caption=('Table. ?? shows full\\_caption', 'Table. ?? short\\_caption.'),\n",
    "#                            longtable=True #Requires adding a usepackage{longtable} to your LaTeX preamble.\n",
    "                          )\n",
    "print(\"% df_table_powerlaw\")\n",
    "print(\"% \\begin{ruledtabular}\")\n",
    "print(\"% \\begin{tabular}{cccccc}\")\n",
    "print(df_table_powerlaw.reset_index().to_latex(index=False, \n",
    "                                               caption='shows powerlaw fits  to the mean pair-annihilation rates for the full models and for the linear particle models at a relatively short length scale ($L=5$ cm) and at a relatively long length scale ($L=10$ cm).  Parameter settings for the linear particle model correspond to Tab. \\ref{tab:df_table_mle_complete}}\\label{tab:df_table_powerlaw})',\n",
    "                                               **kwargs_table_2_levels))\n",
    "# print(f\"% \\caption{{Table of powerlaw fits of maximum likelihood fits of pair annihilation rates.}}\\label{{tab:df_table_powerlaw}})\")\n",
    "\n",
    "print(\"\\n% df_table_mle\")\n",
    "print(\"% \\begin{ruledtabular}\")\n",
    "print(\"% \\begin{tabular}{cccccc}\")\n",
    "print(df_table_mle.reset_index().to_latex(index=False, \n",
    "                                          caption='Table of maximum likelihood fits of pair annihilation rates to the full models (complete table in Supplementary).}\\label{tab:df_table_mle}',\n",
    "                                          **kwargs_table_2_levels))\n",
    "# print(f\"% \\caption{{Table of maximum likelihood fits of pair annihilation rates to the full models (complete table in Supplementary).}}\\label{{tab:df_table_mle}}\")\n",
    "\n",
    "print(\"\\n% df_table_mle_complete\")\n",
    "print(\"% \\begin{ruledtabular}\")\n",
    "print(\"% \\begin{tabular}{cccccc}\")\n",
    "print(df_table_mle_complete.reset_index().to_latex(index=False, \n",
    "                                                   caption='shows maximum likelihood fits of the mean pair-annihilation rates of the linear particle model to those of the full models. Results are shown for the linear particle model at a relatively short length scale ($L=5$ cm) and at a relatively long length scale ($L=10$ cm).}\\label{tab:df_table_mle_complete}',\n",
    "                                                   **kwargs_table_2_levels))\n",
    "# print(f\"% \\caption{{Table of maximum likelihood fits of pair annihilation rates to the full models.}}\\label{{tab:df_table_mle_complete}}\")"
   ]
  },
  {
   "cell_type": "code",
   "execution_count": null,
   "id": "7ebf6435",
   "metadata": {},
   "outputs": [],
   "source": []
  },
  {
   "cell_type": "code",
   "execution_count": 174,
   "id": "32dd3459",
   "metadata": {
    "ExecuteTime": {
     "end_time": "2022-09-15T01:12:46.180839Z",
     "start_time": "2022-09-15T01:12:46.156715Z"
    }
   },
   "outputs": [],
   "source": [
    "# df_table_mle_complete.to_latex?"
   ]
  },
  {
   "cell_type": "code",
   "execution_count": 156,
   "id": "6b524d21",
   "metadata": {
    "ExecuteTime": {
     "end_time": "2022-09-15T00:48:21.064851Z",
     "start_time": "2022-09-15T00:48:21.043486Z"
    }
   },
   "outputs": [],
   "source": [
    "#DONE: dev foo that maps a .csv to a latex table\n",
    "#HINT: search stackoverflow\n",
    "#TODO: make mle parameter table into latex table\n",
    "#HINT: query the dataframe and then search stackoverflow\n",
    "#DONT: wrap in modules of foo. just use pandas.DataFrame.to_latex? in the future"
   ]
  },
  {
   "cell_type": "markdown",
   "id": "d7846e8d",
   "metadata": {
    "heading_collapsed": true
   },
   "source": [
    "# DONE: plot the fits for increasing/decreasing D at the shorter length scale\n",
    "TODO: answer Q: \n",
    "- Q: does it make sense to plot other variables versus D?"
   ]
  },
  {
   "cell_type": "code",
   "execution_count": 190,
   "id": "faee48bf",
   "metadata": {
    "ExecuteTime": {
     "end_time": "2022-09-15T02:34:12.572589Z",
     "start_time": "2022-09-15T02:34:12.554813Z"
    },
    "hidden": true
   },
   "outputs": [],
   "source": [
    "# df_fit = dict_results_fk_lst[0]['df_fit'].sort_values(by='q')\n",
    "# dict_fit = gener_annihil_powerlaw_fit_ols(df=df_fit,\n",
    "#                                           qmin=0.1,qmax=2)"
   ]
  },
  {
   "cell_type": "code",
   "execution_count": 191,
   "id": "17884b8f",
   "metadata": {
    "ExecuteTime": {
     "end_time": "2022-09-15T02:34:13.003380Z",
     "start_time": "2022-09-15T02:34:12.979889Z"
    },
    "hidden": true
   },
   "outputs": [],
   "source": [
    "#option 1:\n",
    "#TODO: look for a summary dataframe and use it to query my filesystem\n",
    "#option 2:\n",
    "#TODO: copy where I generate dict_results_fk_lst[0]"
   ]
  },
  {
   "cell_type": "code",
   "execution_count": 244,
   "id": "a8aee329",
   "metadata": {
    "ExecuteTime": {
     "end_time": "2022-09-15T03:06:12.739167Z",
     "start_time": "2022-09-15T03:06:12.257357Z"
    },
    "hidden": true
   },
   "outputs": [
    {
     "name": "stdout",
     "output_type": "stream",
     "text": [
      "\n",
      "**************************************\n",
      "* Fenton-Karma Model (best settings):\n",
      "**************************************\n",
      "amax=1.7800, rmse_min=0.0906, log_likelihood=7.5257, count=44475\n",
      "\n",
      "best fit for Fenton-Karma: RMSE: 0.2106 Hz/cm^2, amax: 1.7800 cm^2/s, L: 5.0 cm\n",
      "input_fn_fk='/home/timothytyree/Documents/GitHub/bgmc/python/data/osg_output/run_26_all/job.out.23278799.226'\n",
      "\n",
      "**************************************\n",
      "* Luo-Rudy Model (best settings):\n",
      "**************************************\n",
      "amax=3.2900, rmse_min=1.3838, log_likelihood=-11.1950, count=42761\n",
      "\n",
      "best fit for Luo-Rudy: RMSE: 1.4357 Hz/cm^2, amax: 1.7800 cm^2/s, L: 5.0 cm\n",
      "input_fn_lr='/home/timothytyree/Documents/GitHub/bgmc/python/data/osg_output/run_26_all/job.out.23278799.126717'\n",
      "\n",
      "parameter range supported in run #26:\n",
      "number of trials: 166229\n",
      "         r  kappa      D  varkappa  amax    L  neighbor\n",
      "min  0.005  200.0  0.050      0.30  1.78  5.0       0.0\n",
      "max  0.200  980.0  1.295      3.19  3.29  5.0       0.0\n"
     ]
    }
   ],
   "source": [
    "latest_run_num=27\n",
    "run_num_lst = list(reversed(list(np.arange(14,latest_run_num+1))))\n",
    "# run_num_lst=[25,17]\n",
    "# run_num_lst=[25,19]\n",
    "# run_num_lst=[25,24]\n",
    "# run_num_lst=[25,18]\n",
    "run_num_lst=[26]\n",
    "# run_num=25 #L=5 cm, neighbors=1\n",
    "# run_num=18 #L=10 cm, neighbors=0\n",
    "remove_no_diffusion=True\n",
    "# Dinf=0\n",
    "Dinf=0.01\n",
    "num_digits_round_amax=3\n",
    "\n",
    "gmin_fk_lst=[]\n",
    "gmin_lr_lst=[]\n",
    "log_dir_fk_lst=[]\n",
    "log_dir_lr_lst=[]\n",
    "dict_results_fk_lst=[]\n",
    "dict_results_lr_lst=[]\n",
    "# for run_num in [25,18]: #chosen exemplar pair\n",
    "for run_num in run_num_lst:\n",
    "    parquet_dir_defects_fk=f'/home/timothytyree/Documents/GitHub/bgmc/python/data/osg_output/run_{run_num}_defects_to_fk.parquet'\n",
    "    parquet_dir_defects_lr=f'/home/timothytyree/Documents/GitHub/bgmc/python/data/osg_output/run_{run_num}_defects_to_lr.parquet'\n",
    "    input_folder=f'/home/timothytyree/Documents/GitHub/bgmc/python/data/osg_output/run_{run_num}_all'\n",
    "    #load data\n",
    "    df_defects_fk=pd.read_parquet(parquet_dir_defects_fk)\n",
    "    df_defects_lr=pd.read_parquet(parquet_dir_defects_lr)\n",
    "    #compute order parameter for each member a=amax-2*D\n",
    "    #add columns for amax\n",
    "    df_defects_fk['amax'] = np.around(df_defects_fk['varkappa'] + 2.*df_defects_fk['D'],num_digits_round_amax)\n",
    "    df_defects_lr['amax'] = np.around(df_defects_lr['varkappa'] + 2.*df_defects_lr['D'],num_digits_round_amax)\n",
    "    \n",
    "    if remove_no_diffusion:\n",
    "        df_defects_fk = df_defects_fk[df_defects_fk['D']>Dinf].copy()\n",
    "        df_defects_lr = df_defects_lr[df_defects_lr['D']>Dinf].copy()\n",
    "    \n",
    "    #identify the lowest error simulation for each amax value\n",
    "    print(f\"\\n**************************************\")\n",
    "    print(f\"* Fenton-Karma Model (best settings):\")\n",
    "    print(f\"**************************************\")\n",
    "    minrmse=9999.\n",
    "    supamax=1.8\n",
    "    #supamax=40.\n",
    "    for amax,g in df_defects_fk.groupby(by='amax'):\n",
    "        rmse_min = g['rmse'].min()\n",
    "        count = g['rmse'].count()\n",
    "        log_likelihood = g['log_likelihood'].max()\n",
    "        if (rmse_min<=minrmse)&(amax<=supamax):\n",
    "            minrmse=rmse_min\n",
    "            gmin_fk=g.copy()\n",
    "            print_str =f\"{amax=:.4f}, {rmse_min=:.4f}, {log_likelihood=:.4f}, {count=}\"\n",
    "    print(print_str)\n",
    "    gmin_fk.sort_values(by='D',inplace=True)\n",
    "    \n",
    "\n",
    "    #find best simulation for the full model at this avalue\n",
    "#     dg_fk=gmin_fk[gmin_fk['rmse'] == gmin_fk['rmse'].min()].copy()\n",
    "    dg_fk=gmin_fk[gmin_fk['log_likelihood'] == gmin_fk['log_likelihood'].max()].copy()\n",
    "    dg_fk['run']=run_num\n",
    "    df_defects_fk['run']=run_num\n",
    "    dg_fk['model']='Fenton-Karma'\n",
    "    cluster_index,job_index = dg_fk[['cluster_index','job_index']].values.T\n",
    "    input_fn = os.path.join(input_folder,f\"job.out.{int(cluster_index)}.{int(job_index)}\")\n",
    "    #assert os.path.exists(input_fn)\n",
    "    if os.path.exists(input_fn):\n",
    "        input_fn_fk=input_fn\n",
    "        df_fit_fk,dict_linear_fit_fk = routine_measure_annihilation_defect(input_fn,printing=True)#,**kwargs)\n",
    "        amax_fk=dg_fk['amax'].median()\n",
    "        rmse_fk=dg_fk['rmse'].median()\n",
    "        L = dg_fk['L'].median()\n",
    "        print(f\"\\nbest fit for Fenton-Karma: RMSE: {rmse_fk:.4f} Hz/cm^2, amax: {amax_fk:.4f} cm^2/s, L: {L} cm\")\n",
    "        print(f\"{input_fn_fk=}\")\n",
    "        #record\n",
    "        dict_results_fk=dict(\n",
    "            model_name='Fenton-Karma',\n",
    "            amax=amax_fk,\n",
    "            rmse=rmse_fk,\n",
    "            L=L,\n",
    "            df_fit=df_fit_fk,\n",
    "            dg_fit=dg_fk,\n",
    "            dict_linear_fit=dict_linear_fit_fk,\n",
    "            filename=input_fn_fk,\n",
    "            gmin=gmin_fk)\n",
    "        dict_results_fk_lst.append(dict_results_fk)\n",
    "        gmin_fk_lst.append(gmin_fk)\n",
    "        log_dir_fk_lst.append(input_fn)\n",
    "    \n",
    "    #identify the lowest error simulation for each amax value\n",
    "    print(f\"\\n**************************************\")\n",
    "    print(f\"* Luo-Rudy Model (best settings):\")\n",
    "    print(f\"**************************************\")\n",
    "    minrmse=9999.\n",
    "    supamax=10.2\n",
    "    for amax,g in df_defects_lr.groupby(by='amax'):\n",
    "        rmse_min = g['rmse'].min()\n",
    "        count = g['rmse'].count()\n",
    "        log_likelihood = g['log_likelihood'].max()\n",
    "        if (rmse_min<=minrmse)&(amax<=supamax):\n",
    "            minrmse=rmse_min\n",
    "            gmin_lr=g.copy()\n",
    "            print_str =f\"{amax=:.4f}, {rmse_min=:.4f}, {log_likelihood=:.4f}, {count=}\"\n",
    "    print(print_str)        \n",
    "    gmin_lr.sort_values(by='D',inplace=True)\n",
    "    \n",
    "    #find best simulation for the full model at this avalue\n",
    "#     dg_lr=gmin_lr[gmin_lr['rmse'] == gmin_lr['rmse'].min()].copy()\n",
    "    dg_lr=gmin_lr[gmin_lr['log_likelihood'] == gmin_lr['log_likelihood'].max()].copy()\n",
    "    dg_lr['run']=run_num\n",
    "    df_defects_lr['run']=run_num\n",
    "    dg_lr['model']='Luo-Rudy'\n",
    "    cluster_index,job_index = dg_lr[['cluster_index','job_index']].values.T\n",
    "    input_fn = os.path.join(input_folder,f\"job.out.{int(cluster_index)}.{int(job_index)}\")\n",
    "    #assert os.path.exists(input_fn)\n",
    "    if os.path.exists(input_fn):\n",
    "        input_fn_lr=input_fn\n",
    "        df_fit_lr,dict_linear_fit_lr = routine_measure_annihilation_defect(input_fn,printing=True)#,**kwargs)\n",
    "        amax_lr=dg_fk['amax'].median()\n",
    "        rmse_lr=dg_lr['rmse'].median()\n",
    "        L = dg_lr['L'].median()\n",
    "        print(f\"\\nbest fit for Luo-Rudy: RMSE: {rmse_lr:.4f} Hz/cm^2, amax: {amax_lr:.4f} cm^2/s, L: {L} cm\")\n",
    "        print(f\"{input_fn_lr=}\")\n",
    "        #record\n",
    "        dict_results_lr=dict(\n",
    "            model_name='Luo-Rudy',\n",
    "            amax=amax_lr,\n",
    "            rmse=rmse_lr,\n",
    "            L=L,\n",
    "            df_fit=df_fit_lr,\n",
    "            dg_fit=dg_lr,\n",
    "            dict_linear_fit=dict_linear_fit_lr,\n",
    "            filename=input_fn_lr,\n",
    "            gmin=gmin_lr)\n",
    "        dict_results_lr_lst.append(dict_results_lr)\n",
    "        gmin_lr_lst.append(gmin_lr)\n",
    "        log_dir_lr_lst.append(input_fn)\n",
    "\n",
    "    print(f\"\\nparameter range supported in run #{run_num}:\")\n",
    "    print(f\"number of trials: {df_defects_lr.shape[0]}\")\n",
    "    print(df_defects_lr.describe()[['r','kappa','D','varkappa','amax','L','neighbor']].T[['min','max']].T)\n",
    "\n",
    "\n"
   ]
  },
  {
   "cell_type": "code",
   "execution_count": 245,
   "id": "63228fa0",
   "metadata": {
    "ExecuteTime": {
     "end_time": "2022-09-15T03:06:14.002406Z",
     "start_time": "2022-09-15T03:06:13.974080Z"
    },
    "hidden": true
   },
   "outputs": [
    {
     "data": {
      "text/html": [
       "<div>\n",
       "<style scoped>\n",
       "    .dataframe tbody tr th:only-of-type {\n",
       "        vertical-align: middle;\n",
       "    }\n",
       "\n",
       "    .dataframe tbody tr th {\n",
       "        vertical-align: top;\n",
       "    }\n",
       "\n",
       "    .dataframe thead th {\n",
       "        text-align: right;\n",
       "    }\n",
       "</style>\n",
       "<table border=\"1\" class=\"dataframe\">\n",
       "  <thead>\n",
       "    <tr style=\"text-align: right;\">\n",
       "      <th></th>\n",
       "      <th>num_obs</th>\n",
       "      <th>qmin</th>\n",
       "      <th>qmax</th>\n",
       "      <th>rmse</th>\n",
       "      <th>log_likelihood</th>\n",
       "      <th>emin</th>\n",
       "      <th>emax</th>\n",
       "      <th>lemin</th>\n",
       "      <th>lemax</th>\n",
       "      <th>no_repulsion</th>\n",
       "      <th>...</th>\n",
       "      <th>N_lo</th>\n",
       "      <th>N_hi</th>\n",
       "      <th>w_lo</th>\n",
       "      <th>w_hi</th>\n",
       "      <th>CollTime_lo</th>\n",
       "      <th>CollTime_hi</th>\n",
       "      <th>cluster_index</th>\n",
       "      <th>job_index</th>\n",
       "      <th>amax</th>\n",
       "      <th>run</th>\n",
       "    </tr>\n",
       "  </thead>\n",
       "  <tbody>\n",
       "    <tr>\n",
       "      <th>0</th>\n",
       "      <td>19</td>\n",
       "      <td>0.24</td>\n",
       "      <td>0.96</td>\n",
       "      <td>1.453155</td>\n",
       "      <td>-8.118656</td>\n",
       "      <td>-0.032142</td>\n",
       "      <td>2.469428</td>\n",
       "      <td>-0.032142</td>\n",
       "      <td>2.469428</td>\n",
       "      <td>0.0</td>\n",
       "      <td>...</td>\n",
       "      <td>6.0</td>\n",
       "      <td>100.0</td>\n",
       "      <td>0.350284</td>\n",
       "      <td>80.000000</td>\n",
       "      <td>0.000500</td>\n",
       "      <td>0.114193</td>\n",
       "      <td>23278799</td>\n",
       "      <td>50567</td>\n",
       "      <td>2.89</td>\n",
       "      <td>26</td>\n",
       "    </tr>\n",
       "    <tr>\n",
       "      <th>1</th>\n",
       "      <td>19</td>\n",
       "      <td>0.24</td>\n",
       "      <td>0.96</td>\n",
       "      <td>0.417312</td>\n",
       "      <td>-1.760287</td>\n",
       "      <td>-0.196432</td>\n",
       "      <td>0.998285</td>\n",
       "      <td>-0.196432</td>\n",
       "      <td>0.998285</td>\n",
       "      <td>0.0</td>\n",
       "      <td>...</td>\n",
       "      <td>6.0</td>\n",
       "      <td>100.0</td>\n",
       "      <td>0.185994</td>\n",
       "      <td>105.540897</td>\n",
       "      <td>0.000379</td>\n",
       "      <td>0.215061</td>\n",
       "      <td>23278799</td>\n",
       "      <td>91787</td>\n",
       "      <td>2.89</td>\n",
       "      <td>26</td>\n",
       "    </tr>\n",
       "    <tr>\n",
       "      <th>2</th>\n",
       "      <td>19</td>\n",
       "      <td>0.24</td>\n",
       "      <td>0.96</td>\n",
       "      <td>0.638128</td>\n",
       "      <td>-18.411515</td>\n",
       "      <td>-0.291114</td>\n",
       "      <td>1.643788</td>\n",
       "      <td>-0.291114</td>\n",
       "      <td>1.643788</td>\n",
       "      <td>0.0</td>\n",
       "      <td>...</td>\n",
       "      <td>6.0</td>\n",
       "      <td>100.0</td>\n",
       "      <td>0.091312</td>\n",
       "      <td>314.960630</td>\n",
       "      <td>0.000127</td>\n",
       "      <td>0.438060</td>\n",
       "      <td>23278799</td>\n",
       "      <td>36347</td>\n",
       "      <td>1.78</td>\n",
       "      <td>26</td>\n",
       "    </tr>\n",
       "    <tr>\n",
       "      <th>3</th>\n",
       "      <td>19</td>\n",
       "      <td>0.24</td>\n",
       "      <td>0.96</td>\n",
       "      <td>5.006765</td>\n",
       "      <td>-22.713266</td>\n",
       "      <td>-0.015800</td>\n",
       "      <td>10.961284</td>\n",
       "      <td>-0.015800</td>\n",
       "      <td>10.961284</td>\n",
       "      <td>0.0</td>\n",
       "      <td>...</td>\n",
       "      <td>6.0</td>\n",
       "      <td>100.0</td>\n",
       "      <td>0.366626</td>\n",
       "      <td>388.349515</td>\n",
       "      <td>0.000103</td>\n",
       "      <td>0.109103</td>\n",
       "      <td>23278799</td>\n",
       "      <td>48932</td>\n",
       "      <td>2.89</td>\n",
       "      <td>26</td>\n",
       "    </tr>\n",
       "    <tr>\n",
       "      <th>4</th>\n",
       "      <td>19</td>\n",
       "      <td>0.24</td>\n",
       "      <td>0.96</td>\n",
       "      <td>0.755606</td>\n",
       "      <td>-0.230739</td>\n",
       "      <td>-0.096024</td>\n",
       "      <td>-1.780585</td>\n",
       "      <td>-0.096024</td>\n",
       "      <td>-1.780585</td>\n",
       "      <td>0.0</td>\n",
       "      <td>...</td>\n",
       "      <td>6.0</td>\n",
       "      <td>100.0</td>\n",
       "      <td>0.286402</td>\n",
       "      <td>20.597322</td>\n",
       "      <td>0.001942</td>\n",
       "      <td>0.139664</td>\n",
       "      <td>23278799</td>\n",
       "      <td>150744</td>\n",
       "      <td>3.29</td>\n",
       "      <td>26</td>\n",
       "    </tr>\n",
       "  </tbody>\n",
       "</table>\n",
       "<p>5 rows × 36 columns</p>\n",
       "</div>"
      ],
      "text/plain": [
       "   num_obs  qmin  qmax      rmse  log_likelihood      emin       emax  \\\n",
       "0       19  0.24  0.96  1.453155       -8.118656 -0.032142   2.469428   \n",
       "1       19  0.24  0.96  0.417312       -1.760287 -0.196432   0.998285   \n",
       "2       19  0.24  0.96  0.638128      -18.411515 -0.291114   1.643788   \n",
       "3       19  0.24  0.96  5.006765      -22.713266 -0.015800  10.961284   \n",
       "4       19  0.24  0.96  0.755606       -0.230739 -0.096024  -1.780585   \n",
       "\n",
       "      lemin      lemax  no_repulsion  ...  N_lo   N_hi      w_lo        w_hi  \\\n",
       "0 -0.032142   2.469428           0.0  ...   6.0  100.0  0.350284   80.000000   \n",
       "1 -0.196432   0.998285           0.0  ...   6.0  100.0  0.185994  105.540897   \n",
       "2 -0.291114   1.643788           0.0  ...   6.0  100.0  0.091312  314.960630   \n",
       "3 -0.015800  10.961284           0.0  ...   6.0  100.0  0.366626  388.349515   \n",
       "4 -0.096024  -1.780585           0.0  ...   6.0  100.0  0.286402   20.597322   \n",
       "\n",
       "   CollTime_lo  CollTime_hi  cluster_index  job_index  amax  run  \n",
       "0     0.000500     0.114193       23278799      50567  2.89   26  \n",
       "1     0.000379     0.215061       23278799      91787  2.89   26  \n",
       "2     0.000127     0.438060       23278799      36347  1.78   26  \n",
       "3     0.000103     0.109103       23278799      48932  2.89   26  \n",
       "4     0.001942     0.139664       23278799     150744  3.29   26  \n",
       "\n",
       "[5 rows x 36 columns]"
      ]
     },
     "execution_count": 245,
     "metadata": {},
     "output_type": "execute_result"
    }
   ],
   "source": [
    "df_defects_fk.head()"
   ]
  },
  {
   "cell_type": "code",
   "execution_count": 246,
   "id": "5655773a",
   "metadata": {
    "ExecuteTime": {
     "end_time": "2022-09-15T03:06:22.667776Z",
     "start_time": "2022-09-15T03:06:22.639211Z"
    },
    "hidden": true
   },
   "outputs": [
    {
     "data": {
      "text/html": [
       "<div>\n",
       "<style scoped>\n",
       "    .dataframe tbody tr th:only-of-type {\n",
       "        vertical-align: middle;\n",
       "    }\n",
       "\n",
       "    .dataframe tbody tr th {\n",
       "        vertical-align: top;\n",
       "    }\n",
       "\n",
       "    .dataframe thead th {\n",
       "        text-align: right;\n",
       "    }\n",
       "</style>\n",
       "<table border=\"1\" class=\"dataframe\">\n",
       "  <thead>\n",
       "    <tr style=\"text-align: right;\">\n",
       "      <th></th>\n",
       "      <th>num_obs</th>\n",
       "      <th>qmin</th>\n",
       "      <th>qmax</th>\n",
       "      <th>rmse</th>\n",
       "      <th>log_likelihood</th>\n",
       "      <th>emin</th>\n",
       "      <th>emax</th>\n",
       "      <th>lemin</th>\n",
       "      <th>lemax</th>\n",
       "      <th>no_repulsion</th>\n",
       "      <th>...</th>\n",
       "      <th>N_lo</th>\n",
       "      <th>N_hi</th>\n",
       "      <th>w_lo</th>\n",
       "      <th>w_hi</th>\n",
       "      <th>CollTime_lo</th>\n",
       "      <th>CollTime_hi</th>\n",
       "      <th>cluster_index</th>\n",
       "      <th>job_index</th>\n",
       "      <th>amax</th>\n",
       "      <th>run</th>\n",
       "    </tr>\n",
       "  </thead>\n",
       "  <tbody>\n",
       "    <tr>\n",
       "      <th>0</th>\n",
       "      <td>19</td>\n",
       "      <td>0.24</td>\n",
       "      <td>0.96</td>\n",
       "      <td>1.453155</td>\n",
       "      <td>-8.118656</td>\n",
       "      <td>-0.032142</td>\n",
       "      <td>2.469428</td>\n",
       "      <td>-0.032142</td>\n",
       "      <td>2.469428</td>\n",
       "      <td>0.0</td>\n",
       "      <td>...</td>\n",
       "      <td>6.0</td>\n",
       "      <td>100.0</td>\n",
       "      <td>0.350284</td>\n",
       "      <td>80.000000</td>\n",
       "      <td>0.000500</td>\n",
       "      <td>0.114193</td>\n",
       "      <td>23278799</td>\n",
       "      <td>50567</td>\n",
       "      <td>2.89</td>\n",
       "      <td>26</td>\n",
       "    </tr>\n",
       "    <tr>\n",
       "      <th>1</th>\n",
       "      <td>19</td>\n",
       "      <td>0.24</td>\n",
       "      <td>0.96</td>\n",
       "      <td>0.417312</td>\n",
       "      <td>-1.760287</td>\n",
       "      <td>-0.196432</td>\n",
       "      <td>0.998285</td>\n",
       "      <td>-0.196432</td>\n",
       "      <td>0.998285</td>\n",
       "      <td>0.0</td>\n",
       "      <td>...</td>\n",
       "      <td>6.0</td>\n",
       "      <td>100.0</td>\n",
       "      <td>0.185994</td>\n",
       "      <td>105.540897</td>\n",
       "      <td>0.000379</td>\n",
       "      <td>0.215061</td>\n",
       "      <td>23278799</td>\n",
       "      <td>91787</td>\n",
       "      <td>2.89</td>\n",
       "      <td>26</td>\n",
       "    </tr>\n",
       "    <tr>\n",
       "      <th>2</th>\n",
       "      <td>19</td>\n",
       "      <td>0.24</td>\n",
       "      <td>0.96</td>\n",
       "      <td>0.638128</td>\n",
       "      <td>-18.411515</td>\n",
       "      <td>-0.291114</td>\n",
       "      <td>1.643788</td>\n",
       "      <td>-0.291114</td>\n",
       "      <td>1.643788</td>\n",
       "      <td>0.0</td>\n",
       "      <td>...</td>\n",
       "      <td>6.0</td>\n",
       "      <td>100.0</td>\n",
       "      <td>0.091312</td>\n",
       "      <td>314.960630</td>\n",
       "      <td>0.000127</td>\n",
       "      <td>0.438060</td>\n",
       "      <td>23278799</td>\n",
       "      <td>36347</td>\n",
       "      <td>1.78</td>\n",
       "      <td>26</td>\n",
       "    </tr>\n",
       "    <tr>\n",
       "      <th>3</th>\n",
       "      <td>19</td>\n",
       "      <td>0.24</td>\n",
       "      <td>0.96</td>\n",
       "      <td>5.006765</td>\n",
       "      <td>-22.713266</td>\n",
       "      <td>-0.015800</td>\n",
       "      <td>10.961284</td>\n",
       "      <td>-0.015800</td>\n",
       "      <td>10.961284</td>\n",
       "      <td>0.0</td>\n",
       "      <td>...</td>\n",
       "      <td>6.0</td>\n",
       "      <td>100.0</td>\n",
       "      <td>0.366626</td>\n",
       "      <td>388.349515</td>\n",
       "      <td>0.000103</td>\n",
       "      <td>0.109103</td>\n",
       "      <td>23278799</td>\n",
       "      <td>48932</td>\n",
       "      <td>2.89</td>\n",
       "      <td>26</td>\n",
       "    </tr>\n",
       "    <tr>\n",
       "      <th>4</th>\n",
       "      <td>19</td>\n",
       "      <td>0.24</td>\n",
       "      <td>0.96</td>\n",
       "      <td>0.755606</td>\n",
       "      <td>-0.230739</td>\n",
       "      <td>-0.096024</td>\n",
       "      <td>-1.780585</td>\n",
       "      <td>-0.096024</td>\n",
       "      <td>-1.780585</td>\n",
       "      <td>0.0</td>\n",
       "      <td>...</td>\n",
       "      <td>6.0</td>\n",
       "      <td>100.0</td>\n",
       "      <td>0.286402</td>\n",
       "      <td>20.597322</td>\n",
       "      <td>0.001942</td>\n",
       "      <td>0.139664</td>\n",
       "      <td>23278799</td>\n",
       "      <td>150744</td>\n",
       "      <td>3.29</td>\n",
       "      <td>26</td>\n",
       "    </tr>\n",
       "  </tbody>\n",
       "</table>\n",
       "<p>5 rows × 36 columns</p>\n",
       "</div>"
      ],
      "text/plain": [
       "   num_obs  qmin  qmax      rmse  log_likelihood      emin       emax  \\\n",
       "0       19  0.24  0.96  1.453155       -8.118656 -0.032142   2.469428   \n",
       "1       19  0.24  0.96  0.417312       -1.760287 -0.196432   0.998285   \n",
       "2       19  0.24  0.96  0.638128      -18.411515 -0.291114   1.643788   \n",
       "3       19  0.24  0.96  5.006765      -22.713266 -0.015800  10.961284   \n",
       "4       19  0.24  0.96  0.755606       -0.230739 -0.096024  -1.780585   \n",
       "\n",
       "      lemin      lemax  no_repulsion  ...  N_lo   N_hi      w_lo        w_hi  \\\n",
       "0 -0.032142   2.469428           0.0  ...   6.0  100.0  0.350284   80.000000   \n",
       "1 -0.196432   0.998285           0.0  ...   6.0  100.0  0.185994  105.540897   \n",
       "2 -0.291114   1.643788           0.0  ...   6.0  100.0  0.091312  314.960630   \n",
       "3 -0.015800  10.961284           0.0  ...   6.0  100.0  0.366626  388.349515   \n",
       "4 -0.096024  -1.780585           0.0  ...   6.0  100.0  0.286402   20.597322   \n",
       "\n",
       "   CollTime_lo  CollTime_hi  cluster_index  job_index  amax  run  \n",
       "0     0.000500     0.114193       23278799      50567  2.89   26  \n",
       "1     0.000379     0.215061       23278799      91787  2.89   26  \n",
       "2     0.000127     0.438060       23278799      36347  1.78   26  \n",
       "3     0.000103     0.109103       23278799      48932  2.89   26  \n",
       "4     0.001942     0.139664       23278799     150744  3.29   26  \n",
       "\n",
       "[5 rows x 36 columns]"
      ]
     },
     "execution_count": 246,
     "metadata": {},
     "output_type": "execute_result"
    }
   ],
   "source": [
    "df_defects_fk.head()"
   ]
  },
  {
   "cell_type": "code",
   "execution_count": null,
   "id": "1acf1858",
   "metadata": {
    "ExecuteTime": {
     "end_time": "2022-09-15T02:47:20.513237Z",
     "start_time": "2022-09-15T02:47:20.494341Z"
    },
    "hidden": true
   },
   "outputs": [],
   "source": []
  },
  {
   "cell_type": "code",
   "execution_count": 247,
   "id": "675a76e5",
   "metadata": {
    "ExecuteTime": {
     "end_time": "2022-09-15T03:06:23.824400Z",
     "start_time": "2022-09-15T03:06:23.773239Z"
    },
    "hidden": true
   },
   "outputs": [
    {
     "ename": "KeyError",
     "evalue": "'q'",
     "output_type": "error",
     "traceback": [
      "\u001b[0;31m---------------------------------------------------------------------------\u001b[0m",
      "\u001b[0;31mKeyError\u001b[0m                                  Traceback (most recent call last)",
      "File \u001b[0;32m~/miniconda3/envs/pyenv_ub/lib/python3.9/site-packages/pandas/core/indexes/base.py:3621\u001b[0m, in \u001b[0;36mIndex.get_loc\u001b[0;34m(self, key, method, tolerance)\u001b[0m\n\u001b[1;32m   3620\u001b[0m \u001b[38;5;28;01mtry\u001b[39;00m:\n\u001b[0;32m-> 3621\u001b[0m     \u001b[38;5;28;01mreturn\u001b[39;00m \u001b[38;5;28;43mself\u001b[39;49m\u001b[38;5;241;43m.\u001b[39;49m\u001b[43m_engine\u001b[49m\u001b[38;5;241;43m.\u001b[39;49m\u001b[43mget_loc\u001b[49m\u001b[43m(\u001b[49m\u001b[43mcasted_key\u001b[49m\u001b[43m)\u001b[49m\n\u001b[1;32m   3622\u001b[0m \u001b[38;5;28;01mexcept\u001b[39;00m \u001b[38;5;167;01mKeyError\u001b[39;00m \u001b[38;5;28;01mas\u001b[39;00m err:\n",
      "File \u001b[0;32m~/miniconda3/envs/pyenv_ub/lib/python3.9/site-packages/pandas/_libs/index.pyx:136\u001b[0m, in \u001b[0;36mpandas._libs.index.IndexEngine.get_loc\u001b[0;34m()\u001b[0m\n",
      "File \u001b[0;32m~/miniconda3/envs/pyenv_ub/lib/python3.9/site-packages/pandas/_libs/index.pyx:163\u001b[0m, in \u001b[0;36mpandas._libs.index.IndexEngine.get_loc\u001b[0;34m()\u001b[0m\n",
      "File \u001b[0;32mpandas/_libs/hashtable_class_helper.pxi:5198\u001b[0m, in \u001b[0;36mpandas._libs.hashtable.PyObjectHashTable.get_item\u001b[0;34m()\u001b[0m\n",
      "File \u001b[0;32mpandas/_libs/hashtable_class_helper.pxi:5206\u001b[0m, in \u001b[0;36mpandas._libs.hashtable.PyObjectHashTable.get_item\u001b[0;34m()\u001b[0m\n",
      "\u001b[0;31mKeyError\u001b[0m: 'q'",
      "\nThe above exception was the direct cause of the following exception:\n",
      "\u001b[0;31mKeyError\u001b[0m                                  Traceback (most recent call last)",
      "Input \u001b[0;32mIn [247]\u001b[0m, in \u001b[0;36m<cell line: 5>\u001b[0;34m()\u001b[0m\n\u001b[1;32m      3\u001b[0m df\u001b[38;5;241m=\u001b[39mpd\u001b[38;5;241m.\u001b[39mread_csv(annihil_log_dir)\n\u001b[1;32m      4\u001b[0m \u001b[38;5;66;03m# .sort_values(by='q')\u001b[39;00m\n\u001b[0;32m----> 5\u001b[0m \u001b[43mdf\u001b[49m\u001b[43m[\u001b[49m\u001b[38;5;124;43m'\u001b[39;49m\u001b[38;5;124;43mq\u001b[39;49m\u001b[38;5;124;43m'\u001b[39;49m\u001b[43m]\u001b[49m\n",
      "File \u001b[0;32m~/miniconda3/envs/pyenv_ub/lib/python3.9/site-packages/pandas/core/frame.py:3505\u001b[0m, in \u001b[0;36mDataFrame.__getitem__\u001b[0;34m(self, key)\u001b[0m\n\u001b[1;32m   3503\u001b[0m \u001b[38;5;28;01mif\u001b[39;00m \u001b[38;5;28mself\u001b[39m\u001b[38;5;241m.\u001b[39mcolumns\u001b[38;5;241m.\u001b[39mnlevels \u001b[38;5;241m>\u001b[39m \u001b[38;5;241m1\u001b[39m:\n\u001b[1;32m   3504\u001b[0m     \u001b[38;5;28;01mreturn\u001b[39;00m \u001b[38;5;28mself\u001b[39m\u001b[38;5;241m.\u001b[39m_getitem_multilevel(key)\n\u001b[0;32m-> 3505\u001b[0m indexer \u001b[38;5;241m=\u001b[39m \u001b[38;5;28;43mself\u001b[39;49m\u001b[38;5;241;43m.\u001b[39;49m\u001b[43mcolumns\u001b[49m\u001b[38;5;241;43m.\u001b[39;49m\u001b[43mget_loc\u001b[49m\u001b[43m(\u001b[49m\u001b[43mkey\u001b[49m\u001b[43m)\u001b[49m\n\u001b[1;32m   3506\u001b[0m \u001b[38;5;28;01mif\u001b[39;00m is_integer(indexer):\n\u001b[1;32m   3507\u001b[0m     indexer \u001b[38;5;241m=\u001b[39m [indexer]\n",
      "File \u001b[0;32m~/miniconda3/envs/pyenv_ub/lib/python3.9/site-packages/pandas/core/indexes/base.py:3623\u001b[0m, in \u001b[0;36mIndex.get_loc\u001b[0;34m(self, key, method, tolerance)\u001b[0m\n\u001b[1;32m   3621\u001b[0m     \u001b[38;5;28;01mreturn\u001b[39;00m \u001b[38;5;28mself\u001b[39m\u001b[38;5;241m.\u001b[39m_engine\u001b[38;5;241m.\u001b[39mget_loc(casted_key)\n\u001b[1;32m   3622\u001b[0m \u001b[38;5;28;01mexcept\u001b[39;00m \u001b[38;5;167;01mKeyError\u001b[39;00m \u001b[38;5;28;01mas\u001b[39;00m err:\n\u001b[0;32m-> 3623\u001b[0m     \u001b[38;5;28;01mraise\u001b[39;00m \u001b[38;5;167;01mKeyError\u001b[39;00m(key) \u001b[38;5;28;01mfrom\u001b[39;00m \u001b[38;5;21;01merr\u001b[39;00m\n\u001b[1;32m   3624\u001b[0m \u001b[38;5;28;01mexcept\u001b[39;00m \u001b[38;5;167;01mTypeError\u001b[39;00m:\n\u001b[1;32m   3625\u001b[0m     \u001b[38;5;66;03m# If we have a listlike key, _check_indexing_error will raise\u001b[39;00m\n\u001b[1;32m   3626\u001b[0m     \u001b[38;5;66;03m#  InvalidIndexError. Otherwise we fall through and re-raise\u001b[39;00m\n\u001b[1;32m   3627\u001b[0m     \u001b[38;5;66;03m#  the TypeError.\u001b[39;00m\n\u001b[1;32m   3628\u001b[0m     \u001b[38;5;28mself\u001b[39m\u001b[38;5;241m.\u001b[39m_check_indexing_error(key)\n",
      "\u001b[0;31mKeyError\u001b[0m: 'q'"
     ]
    }
   ],
   "source": [
    "annihil_log_dir = recall_annihil_log_dir(run_num,cluster_index,job_index)\n",
    "assert os.path.exists(annihil_log_dir)\n",
    "df=pd.read_csv(annihil_log_dir)\n",
    "# .sort_values(by='q')\n",
    "df['q']"
   ]
  },
  {
   "cell_type": "code",
   "execution_count": 251,
   "id": "79a1b320",
   "metadata": {
    "ExecuteTime": {
     "end_time": "2022-09-15T03:06:45.973792Z",
     "start_time": "2022-09-15T03:06:45.952311Z"
    },
    "hidden": true
   },
   "outputs": [
    {
     "data": {
      "text/plain": [
       "0         2.89\n",
       "1         2.89\n",
       "2         1.78\n",
       "3         2.89\n",
       "4         3.29\n",
       "          ... \n",
       "166224    2.89\n",
       "166225    2.89\n",
       "166226    3.29\n",
       "166227    3.29\n",
       "166228    2.89\n",
       "Name: amax, Length: 166229, dtype: float64"
      ]
     },
     "execution_count": 251,
     "metadata": {},
     "output_type": "execute_result"
    }
   ],
   "source": [
    "df_defects_fk['amax']"
   ]
  },
  {
   "cell_type": "code",
   "execution_count": 259,
   "id": "dbef5acd",
   "metadata": {
    "ExecuteTime": {
     "end_time": "2022-09-15T03:19:28.844448Z",
     "start_time": "2022-09-15T03:19:28.730159Z"
    },
    "hidden": true
   },
   "outputs": [
    {
     "name": "stdout",
     "output_type": "stream",
     "text": [
      "range of parameter settings:\n",
      "               r    kappa         D  varkappa      amax        L\n",
      "min        0.005    200.0      0.05      0.30      1.78      5.0\n",
      "max        0.200    980.0      0.74      1.68      1.78      5.0\n",
      "count  44475.000  44475.0  44475.00  44475.00  44475.00  44475.0\n"
     ]
    },
    {
     "data": {
      "text/html": [
       "<div>\n",
       "<style scoped>\n",
       "    .dataframe tbody tr th:only-of-type {\n",
       "        vertical-align: middle;\n",
       "    }\n",
       "\n",
       "    .dataframe tbody tr th {\n",
       "        vertical-align: top;\n",
       "    }\n",
       "\n",
       "    .dataframe thead th {\n",
       "        text-align: right;\n",
       "    }\n",
       "</style>\n",
       "<table border=\"1\" class=\"dataframe\">\n",
       "  <thead>\n",
       "    <tr style=\"text-align: right;\">\n",
       "      <th></th>\n",
       "      <th>num_obs</th>\n",
       "      <th>qmin</th>\n",
       "      <th>qmax</th>\n",
       "      <th>rmse</th>\n",
       "      <th>log_likelihood</th>\n",
       "      <th>emin</th>\n",
       "      <th>emax</th>\n",
       "      <th>lemin</th>\n",
       "      <th>lemax</th>\n",
       "      <th>no_repulsion</th>\n",
       "      <th>...</th>\n",
       "      <th>N_lo</th>\n",
       "      <th>N_hi</th>\n",
       "      <th>w_lo</th>\n",
       "      <th>w_hi</th>\n",
       "      <th>CollTime_lo</th>\n",
       "      <th>CollTime_hi</th>\n",
       "      <th>cluster_index</th>\n",
       "      <th>job_index</th>\n",
       "      <th>amax</th>\n",
       "      <th>run</th>\n",
       "    </tr>\n",
       "  </thead>\n",
       "  <tbody>\n",
       "    <tr>\n",
       "      <th>112845</th>\n",
       "      <td>19</td>\n",
       "      <td>0.24</td>\n",
       "      <td>0.96</td>\n",
       "      <td>0.108232</td>\n",
       "      <td>5.045770</td>\n",
       "      <td>-0.169595</td>\n",
       "      <td>-0.113929</td>\n",
       "      <td>-0.169595</td>\n",
       "      <td>-0.113929</td>\n",
       "      <td>0.0</td>\n",
       "      <td>...</td>\n",
       "      <td>6.0</td>\n",
       "      <td>100.0</td>\n",
       "      <td>0.212830</td>\n",
       "      <td>40.444894</td>\n",
       "      <td>0.000989</td>\n",
       "      <td>0.187943</td>\n",
       "      <td>23278799</td>\n",
       "      <td>116</td>\n",
       "      <td>1.78</td>\n",
       "      <td>26</td>\n",
       "    </tr>\n",
       "    <tr>\n",
       "      <th>143707</th>\n",
       "      <td>19</td>\n",
       "      <td>0.24</td>\n",
       "      <td>0.96</td>\n",
       "      <td>0.805527</td>\n",
       "      <td>-0.191522</td>\n",
       "      <td>-0.163364</td>\n",
       "      <td>1.648422</td>\n",
       "      <td>-0.163364</td>\n",
       "      <td>1.648422</td>\n",
       "      <td>0.0</td>\n",
       "      <td>...</td>\n",
       "      <td>6.0</td>\n",
       "      <td>100.0</td>\n",
       "      <td>0.219062</td>\n",
       "      <td>93.240093</td>\n",
       "      <td>0.000429</td>\n",
       "      <td>0.182597</td>\n",
       "      <td>23278799</td>\n",
       "      <td>439</td>\n",
       "      <td>1.78</td>\n",
       "      <td>26</td>\n",
       "    </tr>\n",
       "    <tr>\n",
       "      <th>159257</th>\n",
       "      <td>19</td>\n",
       "      <td>0.24</td>\n",
       "      <td>0.96</td>\n",
       "      <td>0.231369</td>\n",
       "      <td>4.085697</td>\n",
       "      <td>-0.176020</td>\n",
       "      <td>-0.544442</td>\n",
       "      <td>-0.176020</td>\n",
       "      <td>-0.544442</td>\n",
       "      <td>0.0</td>\n",
       "      <td>...</td>\n",
       "      <td>6.0</td>\n",
       "      <td>100.0</td>\n",
       "      <td>0.206406</td>\n",
       "      <td>34.965035</td>\n",
       "      <td>0.001144</td>\n",
       "      <td>0.193793</td>\n",
       "      <td>23278799</td>\n",
       "      <td>173</td>\n",
       "      <td>1.78</td>\n",
       "      <td>26</td>\n",
       "    </tr>\n",
       "    <tr>\n",
       "      <th>42236</th>\n",
       "      <td>19</td>\n",
       "      <td>0.24</td>\n",
       "      <td>0.96</td>\n",
       "      <td>0.353941</td>\n",
       "      <td>5.015554</td>\n",
       "      <td>-0.160872</td>\n",
       "      <td>0.656935</td>\n",
       "      <td>-0.160872</td>\n",
       "      <td>0.656935</td>\n",
       "      <td>0.0</td>\n",
       "      <td>...</td>\n",
       "      <td>6.0</td>\n",
       "      <td>100.0</td>\n",
       "      <td>0.221554</td>\n",
       "      <td>77.220077</td>\n",
       "      <td>0.000518</td>\n",
       "      <td>0.180543</td>\n",
       "      <td>23278799</td>\n",
       "      <td>725</td>\n",
       "      <td>1.78</td>\n",
       "      <td>26</td>\n",
       "    </tr>\n",
       "    <tr>\n",
       "      <th>143703</th>\n",
       "      <td>19</td>\n",
       "      <td>0.24</td>\n",
       "      <td>0.96</td>\n",
       "      <td>0.130506</td>\n",
       "      <td>4.855045</td>\n",
       "      <td>-0.174361</td>\n",
       "      <td>0.259541</td>\n",
       "      <td>-0.174361</td>\n",
       "      <td>0.259541</td>\n",
       "      <td>0.0</td>\n",
       "      <td>...</td>\n",
       "      <td>6.0</td>\n",
       "      <td>100.0</td>\n",
       "      <td>0.208065</td>\n",
       "      <td>46.620047</td>\n",
       "      <td>0.000858</td>\n",
       "      <td>0.192248</td>\n",
       "      <td>23278799</td>\n",
       "      <td>331</td>\n",
       "      <td>1.78</td>\n",
       "      <td>26</td>\n",
       "    </tr>\n",
       "  </tbody>\n",
       "</table>\n",
       "<p>5 rows × 36 columns</p>\n",
       "</div>"
      ],
      "text/plain": [
       "        num_obs  qmin  qmax      rmse  log_likelihood      emin      emax  \\\n",
       "112845       19  0.24  0.96  0.108232        5.045770 -0.169595 -0.113929   \n",
       "143707       19  0.24  0.96  0.805527       -0.191522 -0.163364  1.648422   \n",
       "159257       19  0.24  0.96  0.231369        4.085697 -0.176020 -0.544442   \n",
       "42236        19  0.24  0.96  0.353941        5.015554 -0.160872  0.656935   \n",
       "143703       19  0.24  0.96  0.130506        4.855045 -0.174361  0.259541   \n",
       "\n",
       "           lemin     lemax  no_repulsion  ...  N_lo   N_hi      w_lo  \\\n",
       "112845 -0.169595 -0.113929           0.0  ...   6.0  100.0  0.212830   \n",
       "143707 -0.163364  1.648422           0.0  ...   6.0  100.0  0.219062   \n",
       "159257 -0.176020 -0.544442           0.0  ...   6.0  100.0  0.206406   \n",
       "42236  -0.160872  0.656935           0.0  ...   6.0  100.0  0.221554   \n",
       "143703 -0.174361  0.259541           0.0  ...   6.0  100.0  0.208065   \n",
       "\n",
       "             w_hi  CollTime_lo  CollTime_hi  cluster_index  job_index  amax  \\\n",
       "112845  40.444894     0.000989     0.187943       23278799        116  1.78   \n",
       "143707  93.240093     0.000429     0.182597       23278799        439  1.78   \n",
       "159257  34.965035     0.001144     0.193793       23278799        173  1.78   \n",
       "42236   77.220077     0.000518     0.180543       23278799        725  1.78   \n",
       "143703  46.620047     0.000858     0.192248       23278799        331  1.78   \n",
       "\n",
       "        run  \n",
       "112845   26  \n",
       "143707   26  \n",
       "159257   26  \n",
       "42236    26  \n",
       "143703   26  \n",
       "\n",
       "[5 rows x 36 columns]"
      ]
     },
     "execution_count": 259,
     "metadata": {},
     "output_type": "execute_result"
    }
   ],
   "source": [
    "# amax = 10.147 #LR 200x200 diffCoeff=0.001, src: wj\n",
    "# df_defects = df_defects_lr[df_defects_lr['amax']==amax].sort_values(by='D')\n",
    "\n",
    "amax=1.78 #FK 200x200 diffCoeff=0.0005, src: wj\n",
    "df_defects = df_defects_fk[df_defects_fk['amax']==amax].sort_values(by='D')\n",
    "print(f\"range of parameter settings:\")\n",
    "print(df_defects.describe()[['r','kappa','D','varkappa','amax','L']].T[['min','max','count']].T)\n",
    "df_defects.head()"
   ]
  },
  {
   "cell_type": "code",
   "execution_count": 359,
   "id": "47cad79f",
   "metadata": {
    "ExecuteTime": {
     "end_time": "2022-09-15T07:10:08.716706Z",
     "start_time": "2022-09-15T07:10:08.003424Z"
    },
    "hidden": true
   },
   "outputs": [
    {
     "name": "stdout",
     "output_type": "stream",
     "text": [
      "       amax    L     r  kappa     D  varkappa  neighbor  job_index\n",
      "44777  1.78  5.0  0.03  720.0  0.05      1.68       0.0        226\n",
      "amax: 1.7800 cm^2/s, L: 5.0 cm, RMSE as fit to annihilation rates from full: 0.2106 Hz/cm^2\n",
      "input_fn_fk='/home/timothytyree/Documents/GitHub/bgmc/python/data/osg_output/run_26_all/job.out.23278799.226'\n",
      "      amax    L      r  kappa      D  varkappa  neighbor  job_index\n",
      "5779  1.78  5.0  0.015  980.0  0.065      1.65       0.0       1079\n",
      "amax: 1.7800 cm^2/s, L: 5.0 cm, RMSE as fit to annihilation rates from full: 0.2106 Hz/cm^2\n",
      "input_fn_fk='/home/timothytyree/Documents/GitHub/bgmc/python/data/osg_output/run_26_all/job.out.23278799.226'\n",
      "        amax    L     r  kappa     D  varkappa  neighbor  job_index\n",
      "108050  1.78  5.0  0.04  600.0  0.08      1.62       0.0       2220\n",
      "amax: 1.7800 cm^2/s, L: 5.0 cm, RMSE as fit to annihilation rates from full: 0.2106 Hz/cm^2\n",
      "input_fn_fk='/home/timothytyree/Documents/GitHub/bgmc/python/data/osg_output/run_26_all/job.out.23278799.226'\n",
      "       amax    L      r  kappa      D  varkappa  neighbor  job_index\n",
      "68111  1.78  5.0  0.055  400.0  0.095      1.59       0.0       3290\n",
      "amax: 1.7800 cm^2/s, L: 5.0 cm, RMSE as fit to annihilation rates from full: 0.2106 Hz/cm^2\n",
      "input_fn_fk='/home/timothytyree/Documents/GitHub/bgmc/python/data/osg_output/run_26_all/job.out.23278799.226'\n",
      "        amax    L      r  kappa     D  varkappa  neighbor  job_index\n",
      "122358  1.78  5.0  0.045  560.0  0.11      1.56       0.0       4178\n",
      "amax: 1.7800 cm^2/s, L: 5.0 cm, RMSE as fit to annihilation rates from full: 0.2106 Hz/cm^2\n",
      "input_fn_fk='/home/timothytyree/Documents/GitHub/bgmc/python/data/osg_output/run_26_all/job.out.23278799.226'\n",
      "       amax    L     r  kappa      D  varkappa  neighbor  job_index\n",
      "45462  1.78  5.0  0.05  680.0  0.125      1.53       0.0       5184\n",
      "amax: 1.7800 cm^2/s, L: 5.0 cm, RMSE as fit to annihilation rates from full: 0.2106 Hz/cm^2\n",
      "input_fn_fk='/home/timothytyree/Documents/GitHub/bgmc/python/data/osg_output/run_26_all/job.out.23278799.226'\n",
      "       amax    L     r  kappa     D  varkappa  neighbor  job_index\n",
      "97674  1.78  5.0  0.04  860.0  0.14       1.5       0.0       6073\n",
      "amax: 1.7800 cm^2/s, L: 5.0 cm, RMSE as fit to annihilation rates from full: 0.2106 Hz/cm^2\n",
      "input_fn_fk='/home/timothytyree/Documents/GitHub/bgmc/python/data/osg_output/run_26_all/job.out.23278799.226'\n",
      "     amax    L      r  kappa      D  varkappa  neighbor  job_index\n",
      "587  1.78  5.0  0.045  820.0  0.155      1.47       0.0       7071\n",
      "amax: 1.7800 cm^2/s, L: 5.0 cm, RMSE as fit to annihilation rates from full: 0.2106 Hz/cm^2\n",
      "input_fn_fk='/home/timothytyree/Documents/GitHub/bgmc/python/data/osg_output/run_26_all/job.out.23278799.226'\n",
      "       amax    L      r  kappa     D  varkappa  neighbor  job_index\n",
      "98989  1.78  5.0  0.065  460.0  0.17      1.44       0.0       8173\n",
      "amax: 1.7800 cm^2/s, L: 5.0 cm, RMSE as fit to annihilation rates from full: 0.2106 Hz/cm^2\n",
      "input_fn_fk='/home/timothytyree/Documents/GitHub/bgmc/python/data/osg_output/run_26_all/job.out.23278799.226'\n",
      "        amax    L      r  kappa      D  varkappa  neighbor  job_index\n",
      "140548  1.78  5.0  0.085  420.0  0.185      1.41       0.0       9291\n",
      "amax: 1.7800 cm^2/s, L: 5.0 cm, RMSE as fit to annihilation rates from full: 0.2106 Hz/cm^2\n",
      "input_fn_fk='/home/timothytyree/Documents/GitHub/bgmc/python/data/osg_output/run_26_all/job.out.23278799.226'\n",
      "       amax    L     r  kappa    D  varkappa  neighbor  job_index\n",
      "56151  1.78  5.0  0.06  940.0  0.2      1.38       0.0      10077\n",
      "amax: 1.7800 cm^2/s, L: 5.0 cm, RMSE as fit to annihilation rates from full: 0.2106 Hz/cm^2\n",
      "input_fn_fk='/home/timothytyree/Documents/GitHub/bgmc/python/data/osg_output/run_26_all/job.out.23278799.226'\n",
      "       amax    L     r  kappa      D  varkappa  neighbor  job_index\n",
      "60352  1.78  5.0  0.06  620.0  0.215      1.35       0.0      11021\n",
      "amax: 1.7800 cm^2/s, L: 5.0 cm, RMSE as fit to annihilation rates from full: 0.2106 Hz/cm^2\n",
      "input_fn_fk='/home/timothytyree/Documents/GitHub/bgmc/python/data/osg_output/run_26_all/job.out.23278799.226'\n",
      "       amax    L      r  kappa     D  varkappa  neighbor  job_index\n",
      "97716  1.78  5.0  0.075  540.0  0.23      1.32       0.0      12097\n",
      "amax: 1.7800 cm^2/s, L: 5.0 cm, RMSE as fit to annihilation rates from full: 0.2106 Hz/cm^2\n",
      "input_fn_fk='/home/timothytyree/Documents/GitHub/bgmc/python/data/osg_output/run_26_all/job.out.23278799.226'\n",
      "       amax    L      r  kappa      D  varkappa  neighbor  job_index\n",
      "35804  1.78  5.0  0.065  700.0  0.245      1.29       0.0      12985\n",
      "amax: 1.7800 cm^2/s, L: 5.0 cm, RMSE as fit to annihilation rates from full: 0.2106 Hz/cm^2\n",
      "input_fn_fk='/home/timothytyree/Documents/GitHub/bgmc/python/data/osg_output/run_26_all/job.out.23278799.226'\n",
      "       amax    L      r  kappa     D  varkappa  neighbor  job_index\n",
      "33451  1.78  5.0  0.075  840.0  0.26      1.26       0.0      14032\n",
      "amax: 1.7800 cm^2/s, L: 5.0 cm, RMSE as fit to annihilation rates from full: 0.2106 Hz/cm^2\n",
      "input_fn_fk='/home/timothytyree/Documents/GitHub/bgmc/python/data/osg_output/run_26_all/job.out.23278799.226'\n",
      "       amax    L     r  kappa      D  varkappa  neighbor  job_index\n",
      "88496  1.78  5.0  0.08  900.0  0.275      1.23       0.0      15035\n",
      "amax: 1.7800 cm^2/s, L: 5.0 cm, RMSE as fit to annihilation rates from full: 0.2106 Hz/cm^2\n",
      "input_fn_fk='/home/timothytyree/Documents/GitHub/bgmc/python/data/osg_output/run_26_all/job.out.23278799.226'\n",
      "       amax    L     r  kappa     D  varkappa  neighbor  job_index\n",
      "18035  1.78  5.0  0.08  760.0  0.29       1.2       0.0      15988\n",
      "amax: 1.7800 cm^2/s, L: 5.0 cm, RMSE as fit to annihilation rates from full: 0.2106 Hz/cm^2\n",
      "input_fn_fk='/home/timothytyree/Documents/GitHub/bgmc/python/data/osg_output/run_26_all/job.out.23278799.226'\n",
      "        amax    L     r  kappa      D  varkappa  neighbor  job_index\n",
      "114464  1.78  5.0  0.12  560.0  0.305      1.17       0.0      17098\n",
      "amax: 1.7800 cm^2/s, L: 5.0 cm, RMSE as fit to annihilation rates from full: 0.2106 Hz/cm^2\n",
      "input_fn_fk='/home/timothytyree/Documents/GitHub/bgmc/python/data/osg_output/run_26_all/job.out.23278799.226'\n",
      "        amax    L     r  kappa     D  varkappa  neighbor  job_index\n",
      "135036  1.78  5.0  0.14  320.0  0.32      1.14       0.0      18086\n",
      "amax: 1.7800 cm^2/s, L: 5.0 cm, RMSE as fit to annihilation rates from full: 0.2106 Hz/cm^2\n",
      "input_fn_fk='/home/timothytyree/Documents/GitHub/bgmc/python/data/osg_output/run_26_all/job.out.23278799.226'\n",
      "       amax    L     r  kappa      D  varkappa  neighbor  job_index\n",
      "87251  1.78  5.0  0.16  220.0  0.335      1.11       0.0      19081\n",
      "amax: 1.7800 cm^2/s, L: 5.0 cm, RMSE as fit to annihilation rates from full: 0.2106 Hz/cm^2\n",
      "input_fn_fk='/home/timothytyree/Documents/GitHub/bgmc/python/data/osg_output/run_26_all/job.out.23278799.226'\n",
      "       amax    L     r  kappa     D  varkappa  neighbor  job_index\n",
      "17918  1.78  5.0  0.18  220.0  0.35      1.08       0.0      20081\n",
      "amax: 1.7800 cm^2/s, L: 5.0 cm, RMSE as fit to annihilation rates from full: 0.2106 Hz/cm^2\n",
      "input_fn_fk='/home/timothytyree/Documents/GitHub/bgmc/python/data/osg_output/run_26_all/job.out.23278799.226'\n",
      "        amax    L     r  kappa      D  varkappa  neighbor  job_index\n",
      "110353  1.78  5.0  0.18  200.0  0.365      1.05       0.0      21040\n",
      "amax: 1.7800 cm^2/s, L: 5.0 cm, RMSE as fit to annihilation rates from full: 0.2106 Hz/cm^2\n",
      "input_fn_fk='/home/timothytyree/Documents/GitHub/bgmc/python/data/osg_output/run_26_all/job.out.23278799.226'\n",
      "       amax    L     r  kappa     D  varkappa  neighbor  job_index\n",
      "65422  1.78  5.0  0.16  260.0  0.38      1.02       0.0      21963\n",
      "amax: 1.7800 cm^2/s, L: 5.0 cm, RMSE as fit to annihilation rates from full: 0.2106 Hz/cm^2\n",
      "input_fn_fk='/home/timothytyree/Documents/GitHub/bgmc/python/data/osg_output/run_26_all/job.out.23278799.226'\n",
      "       amax    L     r  kappa      D  varkappa  neighbor  job_index\n",
      "61401  1.78  5.0  0.18  220.0  0.395      0.99       0.0      22961\n",
      "amax: 1.7800 cm^2/s, L: 5.0 cm, RMSE as fit to annihilation rates from full: 0.2106 Hz/cm^2\n",
      "input_fn_fk='/home/timothytyree/Documents/GitHub/bgmc/python/data/osg_output/run_26_all/job.out.23278799.226'\n",
      "        amax    L    r  kappa     D  varkappa  neighbor  job_index\n",
      "115298  1.78  5.0  0.2  200.0  0.41      0.96       0.0      23960\n",
      "amax: 1.7800 cm^2/s, L: 5.0 cm, RMSE as fit to annihilation rates from full: 0.2106 Hz/cm^2\n",
      "input_fn_fk='/home/timothytyree/Documents/GitHub/bgmc/python/data/osg_output/run_26_all/job.out.23278799.226'\n",
      "        amax    L     r  kappa      D  varkappa  neighbor  job_index\n",
      "138312  1.78  5.0  0.18  220.0  0.425      0.93       0.0      24881\n",
      "amax: 1.7800 cm^2/s, L: 5.0 cm, RMSE as fit to annihilation rates from full: 0.2106 Hz/cm^2\n",
      "input_fn_fk='/home/timothytyree/Documents/GitHub/bgmc/python/data/osg_output/run_26_all/job.out.23278799.226'\n",
      "       amax    L    r  kappa     D  varkappa  neighbor  job_index\n",
      "14604  1.78  5.0  0.2  200.0  0.44       0.9       0.0      25880\n",
      "amax: 1.7800 cm^2/s, L: 5.0 cm, RMSE as fit to annihilation rates from full: 0.2106 Hz/cm^2\n",
      "input_fn_fk='/home/timothytyree/Documents/GitHub/bgmc/python/data/osg_output/run_26_all/job.out.23278799.226'\n",
      "        amax    L    r  kappa      D  varkappa  neighbor  job_index\n",
      "113909  1.78  5.0  0.2  200.0  0.455      0.87       0.0      26840\n",
      "amax: 1.7800 cm^2/s, L: 5.0 cm, RMSE as fit to annihilation rates from full: 0.2106 Hz/cm^2\n",
      "input_fn_fk='/home/timothytyree/Documents/GitHub/bgmc/python/data/osg_output/run_26_all/job.out.23278799.226'\n",
      "        amax    L    r  kappa     D  varkappa  neighbor  job_index\n",
      "146536  1.78  5.0  0.2  200.0  0.47      0.84       0.0      27800\n",
      "amax: 1.7800 cm^2/s, L: 5.0 cm, RMSE as fit to annihilation rates from full: 0.2106 Hz/cm^2\n",
      "input_fn_fk='/home/timothytyree/Documents/GitHub/bgmc/python/data/osg_output/run_26_all/job.out.23278799.226'\n",
      "       amax    L    r  kappa      D  varkappa  neighbor  job_index\n",
      "10056  1.78  5.0  0.2  200.0  0.485      0.81       0.0      28760\n"
     ]
    },
    {
     "name": "stdout",
     "output_type": "stream",
     "text": [
      "amax: 1.7800 cm^2/s, L: 5.0 cm, RMSE as fit to annihilation rates from full: 0.2106 Hz/cm^2\n",
      "input_fn_fk='/home/timothytyree/Documents/GitHub/bgmc/python/data/osg_output/run_26_all/job.out.23278799.226'\n",
      "        amax    L     r  kappa    D  varkappa  neighbor  job_index\n",
      "163977  1.78  5.0  0.18  340.0  0.5      0.78       0.0      29687\n",
      "amax: 1.7800 cm^2/s, L: 5.0 cm, RMSE as fit to annihilation rates from full: 0.2106 Hz/cm^2\n",
      "input_fn_fk='/home/timothytyree/Documents/GitHub/bgmc/python/data/osg_output/run_26_all/job.out.23278799.226'\n",
      "       amax    L    r  kappa      D  varkappa  neighbor  job_index\n",
      "55042  1.78  5.0  0.2  240.0  0.515      0.75       0.0      30682\n",
      "amax: 1.7800 cm^2/s, L: 5.0 cm, RMSE as fit to annihilation rates from full: 0.2106 Hz/cm^2\n",
      "input_fn_fk='/home/timothytyree/Documents/GitHub/bgmc/python/data/osg_output/run_26_all/job.out.23278799.226'\n",
      "       amax    L    r  kappa     D  varkappa  neighbor  job_index\n",
      "53053  1.78  5.0  0.2  200.0  0.53      0.72       0.0      31640\n",
      "amax: 1.7800 cm^2/s, L: 5.0 cm, RMSE as fit to annihilation rates from full: 0.2106 Hz/cm^2\n",
      "input_fn_fk='/home/timothytyree/Documents/GitHub/bgmc/python/data/osg_output/run_26_all/job.out.23278799.226'\n",
      "      amax    L    r  kappa      D  varkappa  neighbor  job_index\n",
      "7795  1.78  5.0  0.2  200.0  0.545      0.69       0.0      32600\n",
      "amax: 1.7800 cm^2/s, L: 5.0 cm, RMSE as fit to annihilation rates from full: 0.2106 Hz/cm^2\n",
      "input_fn_fk='/home/timothytyree/Documents/GitHub/bgmc/python/data/osg_output/run_26_all/job.out.23278799.226'\n",
      "       amax    L    r  kappa     D  varkappa  neighbor  job_index\n",
      "35958  1.78  5.0  0.2  220.0  0.56      0.66       0.0      33561\n",
      "amax: 1.7800 cm^2/s, L: 5.0 cm, RMSE as fit to annihilation rates from full: 0.2106 Hz/cm^2\n",
      "input_fn_fk='/home/timothytyree/Documents/GitHub/bgmc/python/data/osg_output/run_26_all/job.out.23278799.226'\n",
      "        amax    L    r  kappa      D  varkappa  neighbor  job_index\n",
      "124708  1.78  5.0  0.2  260.0  0.575      0.63       0.0      34523\n",
      "amax: 1.7800 cm^2/s, L: 5.0 cm, RMSE as fit to annihilation rates from full: 0.2106 Hz/cm^2\n",
      "input_fn_fk='/home/timothytyree/Documents/GitHub/bgmc/python/data/osg_output/run_26_all/job.out.23278799.226'\n",
      "       amax    L    r  kappa     D  varkappa  neighbor  job_index\n",
      "95793  1.78  5.0  0.2  260.0  0.59       0.6       0.0      35483\n",
      "amax: 1.7800 cm^2/s, L: 5.0 cm, RMSE as fit to annihilation rates from full: 0.2106 Hz/cm^2\n",
      "input_fn_fk='/home/timothytyree/Documents/GitHub/bgmc/python/data/osg_output/run_26_all/job.out.23278799.226'\n",
      "       amax    L    r  kappa      D  varkappa  neighbor  job_index\n",
      "37602  1.78  5.0  0.2  240.0  0.605      0.57       0.0      36442\n",
      "amax: 1.7800 cm^2/s, L: 5.0 cm, RMSE as fit to annihilation rates from full: 0.2106 Hz/cm^2\n",
      "input_fn_fk='/home/timothytyree/Documents/GitHub/bgmc/python/data/osg_output/run_26_all/job.out.23278799.226'\n",
      "        amax    L    r  kappa     D  varkappa  neighbor  job_index\n",
      "161563  1.78  5.0  0.2  300.0  0.62      0.54       0.0      37405\n",
      "amax: 1.7800 cm^2/s, L: 5.0 cm, RMSE as fit to annihilation rates from full: 0.2106 Hz/cm^2\n",
      "input_fn_fk='/home/timothytyree/Documents/GitHub/bgmc/python/data/osg_output/run_26_all/job.out.23278799.226'\n",
      "        amax    L    r  kappa      D  varkappa  neighbor  job_index\n",
      "114660  1.78  5.0  0.2  320.0  0.635      0.51       0.0      38366\n",
      "amax: 1.7800 cm^2/s, L: 5.0 cm, RMSE as fit to annihilation rates from full: 0.2106 Hz/cm^2\n",
      "input_fn_fk='/home/timothytyree/Documents/GitHub/bgmc/python/data/osg_output/run_26_all/job.out.23278799.226'\n",
      "       amax    L     r  kappa     D  varkappa  neighbor  job_index\n",
      "25609  1.78  5.0  0.18  680.0  0.65      0.48       0.0      39304\n",
      "amax: 1.7800 cm^2/s, L: 5.0 cm, RMSE as fit to annihilation rates from full: 0.2106 Hz/cm^2\n",
      "input_fn_fk='/home/timothytyree/Documents/GitHub/bgmc/python/data/osg_output/run_26_all/job.out.23278799.226'\n",
      "       amax    L    r  kappa      D  varkappa  neighbor  job_index\n",
      "96243  1.78  5.0  0.2  320.0  0.665      0.45       0.0      40286\n",
      "amax: 1.7800 cm^2/s, L: 5.0 cm, RMSE as fit to annihilation rates from full: 0.2106 Hz/cm^2\n",
      "input_fn_fk='/home/timothytyree/Documents/GitHub/bgmc/python/data/osg_output/run_26_all/job.out.23278799.226'\n",
      "        amax    L    r  kappa     D  varkappa  neighbor  job_index\n",
      "151199  1.78  5.0  0.2  360.0  0.68      0.42       0.0      41248\n",
      "amax: 1.7800 cm^2/s, L: 5.0 cm, RMSE as fit to annihilation rates from full: 0.2106 Hz/cm^2\n",
      "input_fn_fk='/home/timothytyree/Documents/GitHub/bgmc/python/data/osg_output/run_26_all/job.out.23278799.226'\n",
      "        amax    L    r  kappa      D  varkappa  neighbor  job_index\n",
      "114674  1.78  5.0  0.2  320.0  0.695      0.39       0.0      42206\n",
      "amax: 1.7800 cm^2/s, L: 5.0 cm, RMSE as fit to annihilation rates from full: 0.2106 Hz/cm^2\n",
      "input_fn_fk='/home/timothytyree/Documents/GitHub/bgmc/python/data/osg_output/run_26_all/job.out.23278799.226'\n",
      "        amax    L    r  kappa     D  varkappa  neighbor  job_index\n",
      "106177  1.78  5.0  0.2  340.0  0.71      0.36       0.0      43167\n",
      "amax: 1.7800 cm^2/s, L: 5.0 cm, RMSE as fit to annihilation rates from full: 0.2106 Hz/cm^2\n",
      "input_fn_fk='/home/timothytyree/Documents/GitHub/bgmc/python/data/osg_output/run_26_all/job.out.23278799.226'\n",
      "       amax    L    r  kappa      D  varkappa  neighbor  job_index\n",
      "98835  1.78  5.0  0.2  320.0  0.725      0.33       0.0      44126\n",
      "amax: 1.7800 cm^2/s, L: 5.0 cm, RMSE as fit to annihilation rates from full: 0.2106 Hz/cm^2\n",
      "input_fn_fk='/home/timothytyree/Documents/GitHub/bgmc/python/data/osg_output/run_26_all/job.out.23278799.226'\n",
      "        amax    L    r  kappa     D  varkappa  neighbor  job_index\n",
      "163555  1.78  5.0  0.2  440.0  0.74       0.3       0.0      45092\n",
      "amax: 1.7800 cm^2/s, L: 5.0 cm, RMSE as fit to annihilation rates from full: 0.2106 Hz/cm^2\n",
      "input_fn_fk='/home/timothytyree/Documents/GitHub/bgmc/python/data/osg_output/run_26_all/job.out.23278799.226'\n"
     ]
    }
   ],
   "source": [
    "D_values = np.sort(df_defects['D'].drop_duplicates().values)\n",
    "#for each D value\n",
    "q_values_lst=[]\n",
    "w_values_lst=[]\n",
    "dg_fit_lst=[]\n",
    "for D in D_values:\n",
    "    #find the maximum likelihood parameter setting row\n",
    "    dg=df_defects[df_defects['D']==D]\n",
    "    dg_fit=dg[dg['log_likelihood']==dg['log_likelihood'].max()].copy()\n",
    "    print(dg_fit[['amax','L', 'r', 'kappa',\n",
    "                    'D', 'varkappa', 'neighbor',\n",
    "    #     'q_lo', 'q_hi', 'w_lo', 'w_hi',\n",
    "#         'run','cluster_index', \n",
    "                  'job_index'\n",
    "                 ]])\n",
    "\n",
    "    #load xy values with recall_annihilation_log\n",
    "    annihil_log_dir = recall_annihil_log_dir(run_num=dg_fit['run'].values[0],\n",
    "                                             cluster_index=dg_fit['cluster_index'].values[0],\n",
    "                                             job_index=dg_fit['job_index'].values[0])\n",
    "    assert os.path.exists(annihil_log_dir)\n",
    "    df,dict_linear = recall_annihilation_log(annihil_log_dir,printing=True)#,**kwargs)\n",
    "    q_values,w_values = df.sort_values(by='q')[['q','w']].values.T\n",
    "\n",
    "    #record the xy values with the D values\n",
    "    q_values_lst.append(q_values)\n",
    "    w_values_lst.append(w_values)\n",
    "    dict_linear['D']=D\n",
    "    dg_fit_lst.append(dg_fit)"
   ]
  },
  {
   "cell_type": "code",
   "execution_count": 360,
   "id": "30ce42ae",
   "metadata": {
    "ExecuteTime": {
     "end_time": "2022-09-15T07:10:12.584103Z",
     "start_time": "2022-09-15T07:10:12.557144Z"
    },
    "hidden": true
   },
   "outputs": [
    {
     "data": {
      "text/html": [
       "<div>\n",
       "<style scoped>\n",
       "    .dataframe tbody tr th:only-of-type {\n",
       "        vertical-align: middle;\n",
       "    }\n",
       "\n",
       "    .dataframe tbody tr th {\n",
       "        vertical-align: top;\n",
       "    }\n",
       "\n",
       "    .dataframe thead th {\n",
       "        text-align: right;\n",
       "    }\n",
       "</style>\n",
       "<table border=\"1\" class=\"dataframe\">\n",
       "  <thead>\n",
       "    <tr style=\"text-align: right;\">\n",
       "      <th></th>\n",
       "      <th>num_obs</th>\n",
       "      <th>qmin</th>\n",
       "      <th>qmax</th>\n",
       "      <th>rmse</th>\n",
       "      <th>log_likelihood</th>\n",
       "      <th>emin</th>\n",
       "      <th>emax</th>\n",
       "      <th>lemin</th>\n",
       "      <th>lemax</th>\n",
       "      <th>no_repulsion</th>\n",
       "      <th>...</th>\n",
       "      <th>N_lo</th>\n",
       "      <th>N_hi</th>\n",
       "      <th>w_lo</th>\n",
       "      <th>w_hi</th>\n",
       "      <th>CollTime_lo</th>\n",
       "      <th>CollTime_hi</th>\n",
       "      <th>cluster_index</th>\n",
       "      <th>job_index</th>\n",
       "      <th>amax</th>\n",
       "      <th>run</th>\n",
       "    </tr>\n",
       "  </thead>\n",
       "  <tbody>\n",
       "    <tr>\n",
       "      <th>44777</th>\n",
       "      <td>19</td>\n",
       "      <td>0.24</td>\n",
       "      <td>0.96</td>\n",
       "      <td>0.210586</td>\n",
       "      <td>7.525724</td>\n",
       "      <td>-0.15793</td>\n",
       "      <td>0.426906</td>\n",
       "      <td>-0.15793</td>\n",
       "      <td>0.426906</td>\n",
       "      <td>0.0</td>\n",
       "      <td>...</td>\n",
       "      <td>6.0</td>\n",
       "      <td>100.0</td>\n",
       "      <td>0.224496</td>\n",
       "      <td>48.899756</td>\n",
       "      <td>0.000818</td>\n",
       "      <td>0.178177</td>\n",
       "      <td>23278799</td>\n",
       "      <td>226</td>\n",
       "      <td>1.78</td>\n",
       "      <td>26</td>\n",
       "    </tr>\n",
       "  </tbody>\n",
       "</table>\n",
       "<p>1 rows × 36 columns</p>\n",
       "</div>"
      ],
      "text/plain": [
       "       num_obs  qmin  qmax      rmse  log_likelihood     emin      emax  \\\n",
       "44777       19  0.24  0.96  0.210586        7.525724 -0.15793  0.426906   \n",
       "\n",
       "         lemin     lemax  no_repulsion  ...  N_lo   N_hi      w_lo       w_hi  \\\n",
       "44777 -0.15793  0.426906           0.0  ...   6.0  100.0  0.224496  48.899756   \n",
       "\n",
       "       CollTime_lo  CollTime_hi  cluster_index  job_index  amax  run  \n",
       "44777     0.000818     0.178177       23278799        226  1.78   26  \n",
       "\n",
       "[1 rows x 36 columns]"
      ]
     },
     "execution_count": 360,
     "metadata": {},
     "output_type": "execute_result"
    }
   ],
   "source": [
    "dg_fit_lst[0]"
   ]
  },
  {
   "cell_type": "code",
   "execution_count": 409,
   "id": "8bd540a5",
   "metadata": {
    "ExecuteTime": {
     "end_time": "2022-09-15T07:37:39.429349Z",
     "start_time": "2022-09-15T07:37:39.399753Z"
    },
    "hidden": true
   },
   "outputs": [],
   "source": [
    "dd=pd.concat(dg_fit_lst)\n",
    "dd['delta']=np.pi*dd['kappa']*dd['r']**2/dd['L']**2\n",
    "dd['krod']=np.pi*dd['kappa']*dd['r']**2/dd['D']\n",
    "dd['kroa']=np.pi*dd['kappa']*dd['r']**2/dd['varkappa']\n",
    "dd['doa']=dd['D']/dd['varkappa']\n",
    "dd['likelihood']=np.exp(dd['log_likelihood'])"
   ]
  },
  {
   "cell_type": "code",
   "execution_count": 415,
   "id": "d9884aec",
   "metadata": {
    "ExecuteTime": {
     "end_time": "2022-09-15T07:40:27.738540Z",
     "start_time": "2022-09-15T07:40:27.438467Z"
    },
    "hidden": true
   },
   "outputs": [
    {
     "data": {
      "image/png": "[encoded data removed]",
      "text/plain": [
       "<Figure size 600x400 with 1 Axes>"
      ]
     },
     "metadata": {},
     "output_type": "display_data"
    }
   ],
   "source": [
    "figsize = (6, 4)  #(5,4)\n",
    "fontsize=16\n",
    "fig, ax = plt.subplots(figsize=figsize)\n",
    "# dd.plot(x='D',y=['delta','rmse'],ax=ax)  \n",
    "# dd.plot(x='D',y=['kappa'],ax=ax)  \n",
    "dd.plot(x='D',y=['krod'],ax=ax)  \n",
    "format_plot(ax=ax,xlabel=r'$D$ (cm$^2$/s)',ylabel=r'$\\pi \\kappa r^2/D$',fontsize=fontsize,use_loglog=True)\n",
    "ax.set_title('Max Likelihood Fit Holds '+r'$\\pi \\kappa r^2/D$'+'\\nApproximately Constant for the Fenton-Karma Mode\\n',fontsize=fontsize)\n",
    "plt.show()"
   ]
  },
  {
   "cell_type": "code",
   "execution_count": 411,
   "id": "36911d35",
   "metadata": {
    "ExecuteTime": {
     "end_time": "2022-09-15T07:37:40.983831Z",
     "start_time": "2022-09-15T07:37:40.584372Z"
    },
    "hidden": true
   },
   "outputs": [
    {
     "data": {
      "text/plain": [
       "True"
      ]
     },
     "execution_count": 411,
     "metadata": {},
     "output_type": "execute_result"
    },
    {
     "data": {
      "image/png": "[encoded data removed]",
      "text/plain": [
       "<Figure size 600x400 with 1 Axes>"
      ]
     },
     "metadata": {},
     "output_type": "display_data"
    }
   ],
   "source": [
    "# col_lst=['D', 'varkappa','delta','rmse','log_likelihood','r', 'kappa']\n",
    "# sns.pairplot(dd[col_lst])\n",
    "\n",
    "figsize = (6, 4)  #(5,4)\n",
    "fontsize=16\n",
    "fig, ax = plt.subplots(figsize=figsize)\n",
    "# col_lst=['varkappa','delta','rmse','log_likelihood']\n",
    "# col_lst=['varkappa','delta','rmse','likelihood']\n",
    "# col_lst=['varkappa','delta','rmse']\n",
    "col_lst=['krod','kroa','delta','doa','rmse']\n",
    "# col_lst=['varkappa','delta']\n",
    "\n",
    "# for col in col_lst:\n",
    "dd.plot(x='D',y=col_lst,ax=ax)  \n",
    "format_plot(ax=ax,xlabel='$D$ (cm$^2$/s)',ylabel='$\\pi \\kappa r^2$ (cm$^2$/s)',fontsize=fontsize,use_loglog=True)   "
   ]
  },
  {
   "cell_type": "code",
   "execution_count": 419,
   "id": "5dec6c59",
   "metadata": {
    "ExecuteTime": {
     "end_time": "2022-09-15T20:43:31.452173Z",
     "start_time": "2022-09-15T20:43:31.317471Z"
    },
    "hidden": true
   },
   "outputs": [
    {
     "data": {
      "text/plain": [
       "True"
      ]
     },
     "execution_count": 419,
     "metadata": {},
     "output_type": "execute_result"
    },
    {
     "data": {
      "image/png": "[encoded data removed]",
      "text/plain": [
       "<Figure size 600x400 with 1 Axes>"
      ]
     },
     "metadata": {},
     "output_type": "display_data"
    }
   ],
   "source": [
    "# col_lst=['D', 'varkappa','delta','rmse','log_likelihood','r', 'kappa']\n",
    "# sns.pairplot(dd[col_lst])\n",
    "\n",
    "figsize = (6, 4)  #(5,4)\n",
    "fontsize=16\n",
    "fig, ax = plt.subplots(figsize=figsize)\n",
    "# col_lst=[,'rmse','log_likelihood']\n",
    "# for col in col_lst:\n",
    "dd.plot.scatter(x='D',y='rmse',ax=ax)\n",
    "# dd.plot.scatter(x='D',y='rmse',c='neighbor',cmap='bwr',vmin=0,vmax=1,ax=ax)\n",
    "format_plot(ax=ax,xlabel='$D$ (cm$^2$/s)',ylabel='$\\pi \\kappa r^2$ (cm$^2$/s)',fontsize=fontsize,use_loglog=False)   "
   ]
  },
  {
   "cell_type": "code",
   "execution_count": 420,
   "id": "f7ac071d",
   "metadata": {
    "ExecuteTime": {
     "end_time": "2022-09-15T20:48:45.571184Z",
     "start_time": "2022-09-15T20:48:45.440394Z"
    },
    "hidden": true
   },
   "outputs": [
    {
     "data": {
      "text/plain": [
       "True"
      ]
     },
     "execution_count": 420,
     "metadata": {},
     "output_type": "execute_result"
    },
    {
     "data": {
      "image/png": "[encoded data removed]",
      "text/plain": [
       "<Figure size 600x400 with 1 Axes>"
      ]
     },
     "metadata": {},
     "output_type": "display_data"
    }
   ],
   "source": [
    "figsize = (6, 4)  #(5,4)\n",
    "fontsize=16\n",
    "fig, ax = plt.subplots(figsize=figsize)\n",
    "# col_lst=[,'rmse','log_likelihood']\n",
    "# for col in col_lst:\n",
    "dd.plot.scatter(x='delta',y='rmse',ax=ax)\n",
    "# dd.plot.scatter(x='D',y='rmse',c='neighbor',cmap='bwr',vmin=0,vmax=1,ax=ax)\n",
    "format_plot(ax=ax,xlabel='$\\pi \\kappa r^2$ (cm$^2$/s)',ylabel='RMSE (Hz/cm$^2$)',fontsize=fontsize,use_loglog=False)   "
   ]
  },
  {
   "cell_type": "code",
   "execution_count": 428,
   "id": "f4947ccb",
   "metadata": {
    "ExecuteTime": {
     "end_time": "2022-09-15T20:52:15.539267Z",
     "start_time": "2022-09-15T20:52:15.408601Z"
    },
    "hidden": true
   },
   "outputs": [
    {
     "data": {
      "text/plain": [
       "True"
      ]
     },
     "execution_count": 428,
     "metadata": {},
     "output_type": "execute_result"
    },
    {
     "data": {
      "image/png": "[encoded data removed]",
      "text/plain": [
       "<Figure size 600x400 with 1 Axes>"
      ]
     },
     "metadata": {},
     "output_type": "display_data"
    }
   ],
   "source": [
    "figsize = (6, 4)  #(5,4)\n",
    "fontsize=16\n",
    "fig, ax = plt.subplots(figsize=figsize)\n",
    "# col_lst=[,'rmse','log_likelihood']\n",
    "# for col in col_lst:\n",
    "dd.plot.scatter(x='D',y='rmse',ax=ax)\n",
    "# dd.plot.scatter(x='D',y='rmse',c='neighbor',cmap='bwr',vmin=0,vmax=1,ax=ax)\n",
    "format_plot(ax=ax,xlabel='$D$ (cm$^2$/s)',ylabel='RMSE (Hz/cm$^2$)',fontsize=fontsize,use_loglog=False)   "
   ]
  },
  {
   "cell_type": "code",
   "execution_count": 425,
   "id": "8f987eb8",
   "metadata": {
    "ExecuteTime": {
     "end_time": "2022-09-15T20:51:14.942120Z",
     "start_time": "2022-09-15T20:51:14.287679Z"
    },
    "hidden": true
   },
   "outputs": [
    {
     "data": {
      "image/png": "[encoded data removed]",
      "text/plain": [
       "<Figure size 600x400 with 1 Axes>"
      ]
     },
     "metadata": {},
     "output_type": "display_data"
    }
   ],
   "source": [
    "figsize = (6, 4)  #(5,4)\n",
    "fontsize=16\n",
    "fig, ax = plt.subplots(figsize=figsize)\n",
    "#overlay with original death rates from wj\n",
    "ax = plot_death_rates_loglog_full(fk,lr,ax=ax,fontsize=fontsize,\n",
    "                                  x1lim=[0.008, 11], \n",
    "                                  x2lim=[0.01, 800],#250],\n",
    "                                  show_fk=True, show_lr=False,alpha=.4\n",
    "                                 )\n",
    "\n",
    "#plot the mle fits / loci of constant amax for increasing D\n",
    "vmin=np.min(D_values)\n",
    "vmax=np.max(D_values)\n",
    "#for each D value\n",
    "for D,x,y in zip(D_values,q_values_lst,w_values_lst):\n",
    "    #plot the xy values for the mle fit\n",
    "    ax.scatter(x,y,c=D+0.*x,cmap='Reds',vmin=vmin,vmax=vmax,label=f'{D=}',s=3,alpha=0.4,zorder=-1)\n",
    "\n",
    "    \n",
    "# Linear Particle (L=5)\n",
    "df_fit_fk = dict_results_fk_lst[0]['df_fit']\n",
    "dg_fit_fk = dict_results_fk_lst[0]['dg_fit']\n",
    "df_fit_lr = dict_results_lr_lst[0]['df_fit']\n",
    "dg_fit_lr = dict_results_lr_lst[0]['dg_fit']\n",
    "df_fit_fk.plot(x='q',y='w',alpha=0.7,ax=ax,color='k',label=f'Lin. Particle (L=5)')#,label='_Best Fit to FK')\n",
    "# df_fit_lr.plot(x='q',y='w',alpha=0.7,ax=ax,color='k',label='_Best Fit to LR')\n",
    "\n",
    "# # Linear Particle (L=10)\n",
    "# df_fit_fk = dict_results_fk_lst[1]['df_fit']\n",
    "# dg_fit_fk = dict_results_fk_lst[1]['dg_fit']\n",
    "# df_fit_lr = dict_results_lr_lst[1]['df_fit']\n",
    "# dg_fit_lr = dict_results_lr_lst[1]['dg_fit']\n",
    "# # df_fit_fk.plot(x='q',y='w',alpha=0.7,ax=ax,color='r',label=f'Linear Particle (L=10)')#,label='_Best Fit to FK')\n",
    "# df_fit_fk.plot(x='q',y='w',alpha=0.7,ax=ax,color='r',label=f'Lin. Particle (L=10)')#,label='_Best Fit to FK')\n",
    "# # df_fit_lr.plot(x='q',y='w',alpha=0.7,ax=ax,color='r',label='_Best Fit to LR')\n",
    "\n",
    "\n",
    "# format_plot\n",
    "ax.tick_params(top=True, right=True,direction='in',which='both')\n",
    "format_plot(ax=ax,xlabel=r'q (1/cm$^2$)',ylabel=r'w (Hz/cm$^2$)',fontsize=fontsize,use_loglog=True)\n",
    "# ax.legend(loc='upper left',fontsize=fontsize-2)\n",
    "# ax.legend(loc='lower right',fontsize=fontsize-2.,frameon=False,ncol=2)\n",
    "# leg = ax.legend(loc=(1.04,0.2),fontsize=fontsize-7.,frameon=False)\n",
    "# # leg = ax.legend(loc='upper left',fontsize=fontsize-3.,frameon=False,ncol=1)\n",
    "# for lh in leg.legendHandles: \n",
    "#     lh.set_alpha(1)\n",
    "ax.get_legend().remove()\n",
    "\n",
    "#add annotation\n",
    "# xytext=(0.09, 10)\n",
    "# xytext=(0.01, 90)\n",
    "# ax.annotate(r\"best fit ($a>0$)\", xy=xy, xytext=xytext,fontsize=fontsize)\n",
    "# .tick_params(labelbottom=False, labeltop=True, labelleft=False, labelright=False,\n",
    "#                      bottom=False, top=True, left=False, right=False)\n",
    "\n",
    "\n",
    "ax.annotate(r\"$a_{max}$ fixed, variable $D$\", xy=(0.3, 11), xytext=(0.012, 200),fontsize=fontsize-2)\n",
    "# xytext=(0.01, 240)\n",
    "# xy=(0.3, 11)\n",
    "# ax.annotate(r\"$a_{max}$ = const.\", xy=xy, xytext=(0.01, 40),fontsize=fontsize-2)\n",
    "# ax.annotate(r\"$a_{max}$ fixed to observed\", xy=xy, xytext=(0.01, 40),fontsize=fontsize-2)\n",
    "# ax.annotate(r\"$a_{max}$ fixed to observation\"+f\"\\nfrom MSR of full\", xy=xy, xytext=(0.01, 40),fontsize=fontsize-2)\n",
    "show_annoatations=False\n",
    "if show_annoatations:\n",
    "    # #add marker showing slope\n",
    "    annotation.slope_marker(origin=(1.8, 10),\n",
    "                            slope=1.4,\n",
    "                            text_kwargs={'color': 'black','fontsize':16, 'alpha':0.7},\n",
    "                            poly_kwargs={'facecolor': (0.5, 0.5, 0.5), 'alpha':0.5},ax=ax)\n",
    "    annotation.slope_marker(origin=(.75, 2.0),\n",
    "                            slope=2,\n",
    "                            text_kwargs={'color': 'black','fontsize':16, 'alpha':0.7},\n",
    "                            poly_kwargs={'facecolor': (0.5, 0.5, 0.5), 'alpha':0.5},ax=ax)\n",
    "    annotation.slope_marker(origin=(.35, .20),\n",
    "                            slope=3,\n",
    "                            text_kwargs={'color': 'black','fontsize':16, 'alpha':0.7},\n",
    "                            poly_kwargs={'facecolor': (0.5, 0.5, 0.5), 'alpha':0.5},ax=ax)\n",
    "plt.show()"
   ]
  },
  {
   "cell_type": "code",
   "execution_count": 426,
   "id": "b8169441",
   "metadata": {
    "ExecuteTime": {
     "end_time": "2022-09-15T20:51:43.065980Z",
     "start_time": "2022-09-15T20:51:43.042665Z"
    },
    "hidden": true
   },
   "outputs": [],
   "source": [
    "# D"
   ]
  },
  {
   "cell_type": "code",
   "execution_count": 293,
   "id": "e3ec7ca2",
   "metadata": {
    "ExecuteTime": {
     "end_time": "2022-09-15T04:16:05.859242Z",
     "start_time": "2022-09-15T04:16:05.840596Z"
    },
    "hidden": true
   },
   "outputs": [],
   "source": [
    "# figsize = (6, 4)  #(5,4)\n",
    "# fontsize=16\n",
    "# fig, ax = plt.subplots(figsize=figsize)\n",
    "\n",
    "# #plot the mle fits / loci of constant amax for increasing D\n",
    "# xlim=[np.min(D_values),np.max(D_values)]\n",
    "# #for each D value\n",
    "# # for D,x,y in zip(D_values,q_values_lst,w_values_lst):\n",
    "#     #plot the xy values for the mle fit\n",
    "# #     ax.scatter(x,y,c=D+0.*x,cmap='Reds',vmin=vmin,vmax=vmax,label=f'{D=}',s=3,alpha=0.4,zorder=-1)\n",
    "\n",
    "    \n",
    "# # Linear Particle (L=5)\n",
    "# # df_fit_fk = dict_results_fk_lst[0]['df_fit']\n",
    "# dg_fit_fk = dict_results_fk_lst[0]['dg_fit']\n",
    "# # df_fit_lr = dict_results_lr_lst[0]['df_fit']\n",
    "# # dg_fit_lr = dict_results_lr_lst[0]['dg_fit']\n",
    "# dg_fit_fk.plot(x='D',y='w',alpha=0.7,ax=ax,color='k',label=f'Lin. Particle (L=5)')#,label='_Best Fit to FK')\n",
    "# # df_fit_lr.plot(x='q',y='w',alpha=0.7,ax=ax,color='k',label='_Best Fit to LR')\n",
    "\n",
    "# # # Linear Particle (L=10)\n",
    "# # df_fit_fk = dict_results_fk_lst[1]['df_fit']\n",
    "# # dg_fit_fk = dict_results_fk_lst[1]['dg_fit']\n",
    "# # df_fit_lr = dict_results_lr_lst[1]['df_fit']\n",
    "# # dg_fit_lr = dict_results_lr_lst[1]['dg_fit']\n",
    "# # # df_fit_fk.plot(x='q',y='w',alpha=0.7,ax=ax,color='r',label=f'Linear Particle (L=10)')#,label='_Best Fit to FK')\n",
    "# # df_fit_fk.plot(x='q',y='w',alpha=0.7,ax=ax,color='r',label=f'Lin. Particle (L=10)')#,label='_Best Fit to FK')\n",
    "# # # df_fit_lr.plot(x='q',y='w',alpha=0.7,ax=ax,color='r',label='_Best Fit to LR')\n",
    "\n",
    "\n",
    "# # format_plot\n",
    "# ax.tick_params(top=True, right=True,direction='in',which='both')\n",
    "# format_plot(ax=ax,xlabel=r'q (1/cm$^2$)',ylabel=r'w (Hz/cm$^2$)',fontsize=fontsize,use_loglog=True)\n",
    "# # ax.legend(loc='upper left',fontsize=fontsize-2)\n",
    "# # ax.legend(loc='lower right',fontsize=fontsize-2.,frameon=False,ncol=2)\n",
    "# # leg = ax.legend(loc=(1.04,0.2),fontsize=fontsize-7.,frameon=False)\n",
    "# # # leg = ax.legend(loc='upper left',fontsize=fontsize-3.,frameon=False,ncol=1)\n",
    "# # for lh in leg.legendHandles: \n",
    "# #     lh.set_alpha(1)\n",
    "# ax.get_legend().remove()\n",
    "\n",
    "# #add annotation\n",
    "# # xytext=(0.09, 10)\n",
    "# # xytext=(0.01, 90)\n",
    "# # ax.annotate(r\"best fit ($a>0$)\", xy=xy, xytext=xytext,fontsize=fontsize)\n",
    "# # .tick_params(labelbottom=False, labeltop=True, labelleft=False, labelright=False,\n",
    "# #                      bottom=False, top=True, left=False, right=False)\n",
    "\n",
    "\n",
    "# ax.annotate(r\"$a_{max}$ fixed, variable $D$\", xy=(0.3, 11), xytext=(0.012, 200),fontsize=fontsize-2)\n",
    "# # xytext=(0.01, 240)\n",
    "# # xy=(0.3, 11)\n",
    "# # ax.annotate(r\"$a_{max}$ = const.\", xy=xy, xytext=(0.01, 40),fontsize=fontsize-2)\n",
    "# # ax.annotate(r\"$a_{max}$ fixed to observed\", xy=xy, xytext=(0.01, 40),fontsize=fontsize-2)\n",
    "# # ax.annotate(r\"$a_{max}$ fixed to observation\"+f\"\\nfrom MSR of full\", xy=xy, xytext=(0.01, 40),fontsize=fontsize-2)\n",
    "# # #add marker showing slope\n",
    "# annotation.slope_marker(origin=(1.8, 10),\n",
    "#                         slope=1.4,\n",
    "#                         text_kwargs={'color': 'black','fontsize':16, 'alpha':0.7},\n",
    "#                         poly_kwargs={'facecolor': (0.5, 0.5, 0.5), 'alpha':0.5},ax=ax)\n",
    "# annotation.slope_marker(origin=(.75, 2.0),\n",
    "#                         slope=2,\n",
    "#                         text_kwargs={'color': 'black','fontsize':16, 'alpha':0.7},\n",
    "#                         poly_kwargs={'facecolor': (0.5, 0.5, 0.5), 'alpha':0.5},ax=ax)\n",
    "# annotation.slope_marker(origin=(.35, .20),\n",
    "#                         slope=3,\n",
    "#                         text_kwargs={'color': 'black','fontsize':16, 'alpha':0.7},\n",
    "#                         poly_kwargs={'facecolor': (0.5, 0.5, 0.5), 'alpha':0.5},ax=ax)\n",
    "# plt.show()"
   ]
  },
  {
   "cell_type": "code",
   "execution_count": 431,
   "id": "e535d2c2",
   "metadata": {
    "ExecuteTime": {
     "end_time": "2022-09-15T20:54:17.007173Z",
     "start_time": "2022-09-15T20:54:16.981914Z"
    },
    "hidden": true
   },
   "outputs": [
    {
     "data": {
      "text/plain": [
       "(3, 857)"
      ]
     },
     "execution_count": 431,
     "metadata": {},
     "output_type": "execute_result"
    }
   ],
   "source": [
    "# df\n",
    "# dict_linear['run']\n",
    "dg[['run','cluster_index','job_index']].values.T\n",
    "#filter df_defects_fk to a desired amax value sorted by D\n"
   ]
  },
  {
   "cell_type": "code",
   "execution_count": 300,
   "id": "503c705e",
   "metadata": {
    "ExecuteTime": {
     "end_time": "2022-09-15T04:24:36.539573Z",
     "start_time": "2022-09-15T04:24:36.515350Z"
    },
    "hidden": true
   },
   "outputs": [],
   "source": [
    "# ccol='r'\n",
    "# scol='rmse'\n",
    "# c_values = df.sort_values(by='q')[[ccol]].values\n",
    "# s_values = df.sort_values(by='q')[[scol]].values\n"
   ]
  },
  {
   "cell_type": "code",
   "execution_count": null,
   "id": "c078efcc",
   "metadata": {
    "hidden": true
   },
   "outputs": [],
   "source": [
    "\n",
    "# #find best simulation for the full model at this avalue\n",
    "# #     dg_fk=gmin_fk[gmin_fk['rmse'] == gmin_fk['rmse'].min()].copy()\n",
    "# dg_fk=gmin_fk[gmin_fk['log_likelihood'] == gmin_fk['log_likelihood'].max()].copy()\n",
    "# dg_fk['run']=run_num\n",
    "# dg_fk['model']='Fenton-Karma'\n",
    "# cluster_index,job_index = dg_fk[['cluster_index','job_index']].values.T\n",
    "# input_fn = os.path.join(input_folder,f\"job.out.{int(cluster_index)}.{int(job_index)}\")\n",
    "# #assert os.path.exists(input_fn)\n",
    "# if os.path.exists(input_fn):\n",
    "#     input_fn_fk=input_fn\n",
    "#     df_fit_fk,dict_linear_fit_fk = routine_measure_annihilation_defect(input_fn,printing=True)#,**kwargs)\n",
    "#     amax_fk=dg_fk['amax'].median()\n",
    "#     rmse_fk=dg_fk['rmse'].median()\n",
    "#     L = dg_fk['L'].median()\n",
    "#     print(f\"\\nbest fit for Fenton-Karma: RMSE: {rmse_fk:.4f} Hz/cm^2, amax: {amax_fk:.4f} cm^2/s, L: {L} cm\")\n",
    "#     print(f\"{input_fn_fk=}\")"
   ]
  }
 ],
 "metadata": {
  "hide_input": false,
  "kernelspec": {
   "display_name": "Python 3 (ipykernel)",
   "language": "python",
   "name": "python3"
  },
  "language_info": {
   "codemirror_mode": {
    "name": "ipython",
    "version": 3
   },
   "file_extension": ".py",
   "mimetype": "text/x-python",
   "name": "python",
   "nbconvert_exporter": "python",
   "pygments_lexer": "ipython3",
   "version": "3.9.5"
  },
  "latex_envs": {
   "LaTeX_envs_menu_present": true,
   "autoclose": true,
   "autocomplete": false,
   "bibliofile": "biblio.bib",
   "cite_by": "apalike",
   "current_citInitial": 1,
   "eqLabelWithNumbers": false,
   "eqNumInitial": 1,
   "hotkeys": {
    "equation": "Ctrl-E",
    "itemize": "Ctrl-I"
   },
   "labels_anchors": false,
   "latex_user_defs": false,
   "report_style_numbering": false,
   "user_envs_cfg": false
  },
  "nbTranslate": {
   "displayLangs": [
    "*"
   ],
   "hotkey": "alt-t",
   "langInMainMenu": true,
   "sourceLang": "en",
   "targetLang": "fr",
   "useGoogleTranslate": true
  },
  "toc": {
   "base_numbering": 1,
   "nav_menu": {},
   "number_sections": true,
   "sideBar": true,
   "skip_h1_title": false,
   "title_cell": "Table of Contents",
   "title_sidebar": "Contents",
   "toc_cell": false,
   "toc_position": {},
   "toc_section_display": true,
   "toc_window_display": false
  }
 },
 "nbformat": 4,
 "nbformat_minor": 5
}
