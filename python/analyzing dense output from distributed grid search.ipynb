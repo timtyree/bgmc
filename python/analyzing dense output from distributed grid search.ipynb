{
 "cells": [
  {
   "cell_type": "markdown",
   "id": "helpful-passport",
   "metadata": {},
   "source": [
    "# analyzing dense output from distributed grid search\n",
    "Tim Tyree<br>\n",
    "3.27.2021"
   ]
  },
  {
   "cell_type": "code",
   "execution_count": 1,
   "id": "optical-toolbox",
   "metadata": {},
   "outputs": [],
   "source": [
    "from lib.my_initialization import *\n",
    "import cudf"
   ]
  },
  {
   "cell_type": "code",
   "execution_count": 2,
   "id": "hidden-snapshot",
   "metadata": {},
   "outputs": [
    {
     "name": "stdout",
     "output_type": "stream",
     "text": [
      "Log  Log.tar.gz  run_1_merged.csv\n"
     ]
    }
   ],
   "source": [
    "data_folder=f'{nb_dir}/data/osg_output'\n",
    "os.chdir(data_folder)\n",
    "!ls"
   ]
  },
  {
   "cell_type": "code",
   "execution_count": 32,
   "id": "actual-fellow",
   "metadata": {},
   "outputs": [],
   "source": [
    "data_fn='run_1_merged.csv'\n",
    "df=cudf.read_csv(data_fn)\n",
    "df.drop(columns=['dt'],inplace=True)"
   ]
  },
  {
   "cell_type": "code",
   "execution_count": 33,
   "id": "transsexual-embassy",
   "metadata": {},
   "outputs": [],
   "source": [
    "#TODO: compute mean rate versus N/2 (for N even)\n",
    "#TODO: plot data onto the universal curves\n",
    "#TODO: load WJ's data\n",
    "#TODO: plot WJ's universal curves\n",
    "#TODO: compute RMSE from WJ's universal curves"
   ]
  },
  {
   "cell_type": "code",
   "execution_count": 34,
   "id": "aging-demonstration",
   "metadata": {
    "ExecuteTime": {
     "end_time": "2021-03-27T01:16:17.784240Z",
     "start_time": "2021-03-27T01:16:17.775926Z"
    }
   },
   "outputs": [
    {
     "name": "stdout",
     "output_type": "stream",
     "text": [
      "[13.74772708 12.5        10.          7.5         7.07106781  6.244998\n",
      "  5.          4.5       ]\n"
     ]
    }
   ],
   "source": [
    "# the set of all inputs\n",
    "r_values=np.array([0.1,0.2,0.3,0.4,0.5,1.0])#cm\n",
    "D_values=np.array([0.25,0.5,0.75,1.0,1.25,1.5,1.75,2.0])#cm^2/s\n",
    "A_values=np.array([20.25,25,39,50,56.25,100,156.25,189])[::-1]#cm^2\n",
    "L_values=np.sqrt(A_values)#cm\n",
    "kappa_values=np.array([1,10,100])#1/s\n",
    "print(L_values)"
   ]
  },
  {
   "cell_type": "code",
   "execution_count": 35,
   "id": "quality-conflict",
   "metadata": {},
   "outputs": [
    {
     "data": {
      "text/plain": [
       "1500"
      ]
     },
     "execution_count": 35,
     "metadata": {},
     "output_type": "execute_result"
    }
   ],
   "source": [
    "#slice data for a given condition\n",
    "r=0.1;D=1.5;L=10.;kappa=10;\n",
    "query=(df.r==r)&(df.D==D)&(df.L==L)&(df.kappa==kappa)\n",
    "dff=df[query].copy().drop(columns=['r','D','L','kappa'])\n",
    "dff['11'].size"
   ]
  },
  {
   "cell_type": "code",
   "execution_count": 36,
   "id": "equal-farming",
   "metadata": {
    "ExecuteTime": {
     "end_time": "2021-03-27T00:26:02.417060Z",
     "start_time": "2021-03-27T00:26:02.411472Z"
    }
   },
   "outputs": [],
   "source": [
    "#extract the values\n",
    "dfd=dff.describe().T.drop(columns=['count'])\n",
    "# x_values=np.array([eval(x) for x in dfd.index.values])\n",
    "y_values=dfd['50%'].values.copy()\n",
    "yerr1_values=dfd['25%'].values.copy()\n",
    "yerr2_values=dfd['75%'].values.copy()\n",
    "\n",
    "y2_values=dfd['mean'].values.copy()\n",
    "y2err1_values=y2_values-dfd['std'].values.copy()\n",
    "y2err2_values=y2_values+dfd['std'].values.copy()\n",
    "\n",
    "dfd.reset_index(inplace=True,drop=True)\n",
    "dfd['N']=dfd.index.values+11\n",
    "x_values=dfd.N.values"
   ]
  },
  {
   "cell_type": "code",
   "execution_count": 46,
   "id": "forbidden-smell",
   "metadata": {},
   "outputs": [
    {
     "data": {
      "image/png": "[encoded data removed]",
      "text/plain": [
       "<Figure size 576x288 with 1 Axes>"
      ]
     },
     "metadata": {
      "needs_background": "light"
     },
     "output_type": "display_data"
    }
   ],
   "source": [
    "#plot the values\n",
    "figsize=(8,4)\n",
    "fontsize=18\n",
    "saving=False\n",
    "savefig_folder=f'{nb_dir}/../fig'\n",
    "savefig_fn='collrates.png'\n",
    "fig, ax = plt.subplots(ncols=1,figsize=figsize)# ax=axs[1]\n",
    "ax.fill_between(x_values.get(),1/yerr2_values.get(),1/yerr1_values.get(),alpha=0.3)\n",
    "ax.plot(x_values.get(),1/y_values.get(),lw=2)\n",
    "ax.set_xlabel('n', fontsize=fontsize)\n",
    "ax.set_ylabel(r'$W_{{-2}}$ (1/sec)', fontsize=fontsize)\n",
    "ax.tick_params(axis='both', which='major', labelsize=fontsize)\n",
    "ax.tick_params(axis='both', which='minor', labelsize=0)\n",
    "ax.set_title('median', fontsize=fontsize)\n",
    "plt.show()"
   ]
  },
  {
   "cell_type": "code",
   "execution_count": null,
   "id": "korean-music",
   "metadata": {},
   "outputs": [],
   "source": [
    "#TODO: PM's logarithmic fit (see matlab) to ^that\n",
    "#TODO: plot the fit over this data, and visually verify it\n"
   ]
  },
  {
   "cell_type": "code",
   "execution_count": 47,
   "id": "parallel-calcium",
   "metadata": {},
   "outputs": [],
   "source": [
    "#DONE: plot rate/area versus number density \n",
    "#DONE: repeat ^that for several areas\n",
    "#TODO: test for dependence on r, D, and/or kappa"
   ]
  },
  {
   "cell_type": "code",
   "execution_count": 60,
   "id": "historic-reserve",
   "metadata": {},
   "outputs": [],
   "source": [
    "def PlotUnivCurve(r,D,kappa):\n",
    "    #plot the values\n",
    "    figsize=(8,4)\n",
    "    fontsize=18\n",
    "    saving=True\n",
    "    savefig_folder=f'{nb_dir}/data/osg_output/fig'\n",
    "    savefig_fn=f'plot_r_{r}_D_{D}_k_{kappa}.png'\n",
    "    fig, ax = plt.subplots(ncols=1,figsize=figsize)# ax=axs[1]\n",
    "\n",
    "    for L in L_values:\n",
    "        #get slice\n",
    "        query=(df.r==r)&(df.D==D)&(df.L==L)&(df.kappa==kappa)\n",
    "        dff=df[query].copy().drop(columns=['r','D','L','kappa'])\n",
    "        #compute x,y values\n",
    "        A=L**2\n",
    "        dfd=dff.describe().T.drop(columns=['count'])\n",
    "        y_values=1/dfd['mean'].values.copy().get()/A\n",
    "        dfd.reset_index(inplace=True,drop=True)\n",
    "        dfd['N']=dfd.index.values+11\n",
    "        x_values=dfd.N.values.get()/A\n",
    "        #plot x,y values\n",
    "        ax.scatter(x_values,y_values,s=10,label=f'{A:.2f}'+r' $(cm^{-2})$')\n",
    "    ax.set_xlabel(r'number density (cm$^{-2}$)', fontsize=fontsize)\n",
    "    ax.set_ylabel(r'$W_{{-2}}/A$ (Hz cm$^{-2}$)', fontsize=fontsize)\n",
    "    ax.tick_params(axis='both', which='major', labelsize=fontsize)\n",
    "    ax.tick_params(axis='both', which='minor', labelsize=0)\n",
    "    ax.legend(fontsize=fontsize-6,ncol=2)\n",
    "    ax.set_xlim([0,3.5])\n",
    "    ax.set_ylim([0,2])\n",
    "    ax.set_title(f'r={r} cm, D={D} '+r'cm$^{-2}$, $\\kappa=$'+f'{kappa} Hz', fontsize=fontsize)\n",
    "    fig.tight_layout()\n",
    "    if not saving:\n",
    "        plt.show()\n",
    "    else:\n",
    "        plt.tight_layout()\n",
    "        os.chdir(savefig_folder)\n",
    "        plt.savefig(savefig_fn, dpi=300)\n",
    "#         print(f\"saved figure in \\n\\t{savefig_fn}\")\n",
    "        plt.close()\n",
    "    return True"
   ]
  },
  {
   "cell_type": "code",
   "execution_count": 61,
   "id": "crude-district",
   "metadata": {},
   "outputs": [
    {
     "name": "stdout",
     "output_type": "stream",
     "text": [
      "saved figure in \n",
      "\tplot_r_0.1_D_1.5_k_1.png\n"
     ]
    },
    {
     "data": {
      "text/plain": [
       "True"
      ]
     },
     "execution_count": 61,
     "metadata": {},
     "output_type": "execute_result"
    }
   ],
   "source": [
    "r=0.1;D=1.5;kappa=1;\n",
    "PlotUnivCurve(r,D,kappa)"
   ]
  },
  {
   "cell_type": "markdown",
   "id": "organic-atlantic",
   "metadata": {},
   "source": [
    "__Results__\n",
    "- the universal curve WJ found to be independent of area appears to be independent of area here, too."
   ]
  },
  {
   "cell_type": "code",
   "execution_count": 63,
   "id": "african-munich",
   "metadata": {},
   "outputs": [
    {
     "name": "stdout",
     "output_type": "stream",
     "text": [
      "144\n"
     ]
    }
   ],
   "source": [
    "# the set of all inputs\n",
    "r_values=np.array([0.1,0.2,0.3,0.4,0.5,1.0])#cm\n",
    "D_values=np.array([0.25,0.5,0.75,1.0,1.25,1.5,1.75,2.0])#cm^2/s\n",
    "A_values=np.array([20.25,25,39,50,56.25,100,156.25,189])[::-1]#cm^2\n",
    "L_values=np.sqrt(A_values)#cm\n",
    "kappa_values=np.array([1,10,100])#1/s\n",
    "\n",
    "#iterate over settings, counting the number of trials\n",
    "count=0\n",
    "queue = []\n",
    "for r in r_values:\n",
    "    for D in D_values:\n",
    "        for kappa in kappa_values:\n",
    "            count=count+1\n",
    "            queue.append((r,D,kappa))\n",
    "print(count)"
   ]
  },
  {
   "cell_type": "code",
   "execution_count": 64,
   "id": "domestic-minneapolis",
   "metadata": {},
   "outputs": [],
   "source": [
    "def routine(item):\n",
    "    r,D,kappa=item\n",
    "    return PlotUnivCurve(r,D,kappa)"
   ]
  },
  {
   "cell_type": "code",
   "execution_count": 68,
   "id": "thousand-organic",
   "metadata": {},
   "outputs": [
    {
     "data": {
      "text/plain": [
       "1616895802.3496983"
      ]
     },
     "execution_count": 68,
     "metadata": {},
     "output_type": "execute_result"
    }
   ],
   "source": [
    "#throws MemoryError... :(\n",
    "# #run plotting in parallel\n",
    "# b = db.from_sequence(queue, npartitions=9).map(routine)\n",
    "# start = time.time()\n",
    "# retval = list(b)\n",
    "# print(f\"run time was {time.time()-start:.2f} seconds.\")\n",
    "# beep(10)"
   ]
  },
  {
   "cell_type": "code",
   "execution_count": 69,
   "id": "swiss-remains",
   "metadata": {},
   "outputs": [
    {
     "name": "stdout",
     "output_type": "stream",
     "text": [
      "saved figure in \n",
      "\tplot_r_0.1_D_0.25_k_1.png\n",
      "saved figure in \n",
      "\tplot_r_0.1_D_0.25_k_10.png\n",
      "saved figure in \n",
      "\tplot_r_0.1_D_0.25_k_100.png\n",
      "saved figure in \n",
      "\tplot_r_0.1_D_0.5_k_1.png\n",
      "saved figure in \n",
      "\tplot_r_0.1_D_0.5_k_10.png\n",
      "saved figure in \n",
      "\tplot_r_0.1_D_0.5_k_100.png\n",
      "saved figure in \n",
      "\tplot_r_0.1_D_0.75_k_1.png\n",
      "saved figure in \n",
      "\tplot_r_0.1_D_0.75_k_10.png\n",
      "saved figure in \n",
      "\tplot_r_0.1_D_0.75_k_100.png\n",
      "saved figure in \n",
      "\tplot_r_0.1_D_1.0_k_1.png\n",
      "saved figure in \n",
      "\tplot_r_0.1_D_1.0_k_10.png\n",
      "saved figure in \n",
      "\tplot_r_0.1_D_1.0_k_100.png\n",
      "saved figure in \n",
      "\tplot_r_0.1_D_1.25_k_1.png\n",
      "saved figure in \n",
      "\tplot_r_0.1_D_1.25_k_10.png\n",
      "saved figure in \n",
      "\tplot_r_0.1_D_1.25_k_100.png\n",
      "saved figure in \n",
      "\tplot_r_0.1_D_1.5_k_1.png\n",
      "saved figure in \n",
      "\tplot_r_0.1_D_1.5_k_10.png\n",
      "saved figure in \n",
      "\tplot_r_0.1_D_1.5_k_100.png\n",
      "saved figure in \n",
      "\tplot_r_0.1_D_1.75_k_1.png\n",
      "saved figure in \n",
      "\tplot_r_0.1_D_1.75_k_10.png\n",
      "saved figure in \n",
      "\tplot_r_0.1_D_1.75_k_100.png\n",
      "saved figure in \n",
      "\tplot_r_0.1_D_2.0_k_1.png\n",
      "saved figure in \n",
      "\tplot_r_0.1_D_2.0_k_10.png\n",
      "saved figure in \n",
      "\tplot_r_0.1_D_2.0_k_100.png\n",
      "saved figure in \n",
      "\tplot_r_0.2_D_0.25_k_1.png\n",
      "saved figure in \n",
      "\tplot_r_0.2_D_0.25_k_10.png\n",
      "saved figure in \n",
      "\tplot_r_0.2_D_0.25_k_100.png\n",
      "saved figure in \n",
      "\tplot_r_0.2_D_0.5_k_1.png\n",
      "saved figure in \n",
      "\tplot_r_0.2_D_0.5_k_10.png\n",
      "saved figure in \n",
      "\tplot_r_0.2_D_0.5_k_100.png\n",
      "saved figure in \n",
      "\tplot_r_0.2_D_0.75_k_1.png\n",
      "saved figure in \n",
      "\tplot_r_0.2_D_0.75_k_10.png\n",
      "saved figure in \n",
      "\tplot_r_0.2_D_0.75_k_100.png\n",
      "saved figure in \n",
      "\tplot_r_0.2_D_1.0_k_1.png\n",
      "saved figure in \n",
      "\tplot_r_0.2_D_1.0_k_10.png\n",
      "saved figure in \n",
      "\tplot_r_0.2_D_1.0_k_100.png\n",
      "saved figure in \n",
      "\tplot_r_0.2_D_1.25_k_1.png\n",
      "saved figure in \n",
      "\tplot_r_0.2_D_1.25_k_10.png\n",
      "saved figure in \n",
      "\tplot_r_0.2_D_1.25_k_100.png\n",
      "saved figure in \n",
      "\tplot_r_0.2_D_1.5_k_1.png\n",
      "saved figure in \n",
      "\tplot_r_0.2_D_1.5_k_10.png\n",
      "saved figure in \n",
      "\tplot_r_0.2_D_1.5_k_100.png\n",
      "saved figure in \n",
      "\tplot_r_0.2_D_1.75_k_1.png\n",
      "saved figure in \n",
      "\tplot_r_0.2_D_1.75_k_10.png\n",
      "saved figure in \n",
      "\tplot_r_0.2_D_1.75_k_100.png\n",
      "saved figure in \n",
      "\tplot_r_0.2_D_2.0_k_1.png\n",
      "saved figure in \n",
      "\tplot_r_0.2_D_2.0_k_10.png\n",
      "saved figure in \n",
      "\tplot_r_0.2_D_2.0_k_100.png\n",
      "saved figure in \n",
      "\tplot_r_0.3_D_0.25_k_1.png\n",
      "saved figure in \n",
      "\tplot_r_0.3_D_0.25_k_10.png\n",
      "saved figure in \n",
      "\tplot_r_0.3_D_0.25_k_100.png\n",
      "saved figure in \n",
      "\tplot_r_0.3_D_0.5_k_1.png\n",
      "saved figure in \n",
      "\tplot_r_0.3_D_0.5_k_10.png\n",
      "saved figure in \n",
      "\tplot_r_0.3_D_0.5_k_100.png\n",
      "saved figure in \n",
      "\tplot_r_0.3_D_0.75_k_1.png\n",
      "saved figure in \n",
      "\tplot_r_0.3_D_0.75_k_10.png\n",
      "saved figure in \n",
      "\tplot_r_0.3_D_0.75_k_100.png\n",
      "saved figure in \n",
      "\tplot_r_0.3_D_1.0_k_1.png\n",
      "saved figure in \n",
      "\tplot_r_0.3_D_1.0_k_10.png\n",
      "saved figure in \n",
      "\tplot_r_0.3_D_1.0_k_100.png\n",
      "saved figure in \n",
      "\tplot_r_0.3_D_1.25_k_1.png\n",
      "saved figure in \n",
      "\tplot_r_0.3_D_1.25_k_10.png\n",
      "saved figure in \n",
      "\tplot_r_0.3_D_1.25_k_100.png\n",
      "saved figure in \n",
      "\tplot_r_0.3_D_1.5_k_1.png\n",
      "saved figure in \n",
      "\tplot_r_0.3_D_1.5_k_10.png\n",
      "saved figure in \n",
      "\tplot_r_0.3_D_1.5_k_100.png\n",
      "saved figure in \n",
      "\tplot_r_0.3_D_1.75_k_1.png\n",
      "saved figure in \n",
      "\tplot_r_0.3_D_1.75_k_10.png\n",
      "saved figure in \n",
      "\tplot_r_0.3_D_1.75_k_100.png\n",
      "saved figure in \n",
      "\tplot_r_0.3_D_2.0_k_1.png\n",
      "saved figure in \n",
      "\tplot_r_0.3_D_2.0_k_10.png\n",
      "saved figure in \n",
      "\tplot_r_0.3_D_2.0_k_100.png\n",
      "saved figure in \n",
      "\tplot_r_0.4_D_0.25_k_1.png\n",
      "saved figure in \n",
      "\tplot_r_0.4_D_0.25_k_10.png\n",
      "saved figure in \n",
      "\tplot_r_0.4_D_0.25_k_100.png\n",
      "saved figure in \n",
      "\tplot_r_0.4_D_0.5_k_1.png\n",
      "saved figure in \n",
      "\tplot_r_0.4_D_0.5_k_10.png\n",
      "saved figure in \n",
      "\tplot_r_0.4_D_0.5_k_100.png\n",
      "saved figure in \n",
      "\tplot_r_0.4_D_0.75_k_1.png\n",
      "saved figure in \n",
      "\tplot_r_0.4_D_0.75_k_10.png\n",
      "saved figure in \n",
      "\tplot_r_0.4_D_0.75_k_100.png\n",
      "saved figure in \n",
      "\tplot_r_0.4_D_1.0_k_1.png\n",
      "saved figure in \n",
      "\tplot_r_0.4_D_1.0_k_10.png\n",
      "saved figure in \n",
      "\tplot_r_0.4_D_1.0_k_100.png\n",
      "saved figure in \n",
      "\tplot_r_0.4_D_1.25_k_1.png\n",
      "saved figure in \n",
      "\tplot_r_0.4_D_1.25_k_10.png\n",
      "saved figure in \n",
      "\tplot_r_0.4_D_1.25_k_100.png\n",
      "saved figure in \n",
      "\tplot_r_0.4_D_1.5_k_1.png\n",
      "saved figure in \n",
      "\tplot_r_0.4_D_1.5_k_10.png\n",
      "saved figure in \n",
      "\tplot_r_0.4_D_1.5_k_100.png\n",
      "saved figure in \n",
      "\tplot_r_0.4_D_1.75_k_1.png\n",
      "saved figure in \n",
      "\tplot_r_0.4_D_1.75_k_10.png\n",
      "saved figure in \n",
      "\tplot_r_0.4_D_1.75_k_100.png\n",
      "saved figure in \n",
      "\tplot_r_0.4_D_2.0_k_1.png\n",
      "saved figure in \n",
      "\tplot_r_0.4_D_2.0_k_10.png\n",
      "saved figure in \n",
      "\tplot_r_0.4_D_2.0_k_100.png\n",
      "saved figure in \n",
      "\tplot_r_0.5_D_0.25_k_1.png\n",
      "saved figure in \n",
      "\tplot_r_0.5_D_0.25_k_10.png\n",
      "saved figure in \n",
      "\tplot_r_0.5_D_0.25_k_100.png\n",
      "saved figure in \n",
      "\tplot_r_0.5_D_0.5_k_1.png\n",
      "saved figure in \n",
      "\tplot_r_0.5_D_0.5_k_10.png\n",
      "saved figure in \n",
      "\tplot_r_0.5_D_0.5_k_100.png\n",
      "saved figure in \n",
      "\tplot_r_0.5_D_0.75_k_1.png\n",
      "saved figure in \n",
      "\tplot_r_0.5_D_0.75_k_10.png\n",
      "saved figure in \n",
      "\tplot_r_0.5_D_0.75_k_100.png\n",
      "saved figure in \n",
      "\tplot_r_0.5_D_1.0_k_1.png\n",
      "saved figure in \n",
      "\tplot_r_0.5_D_1.0_k_10.png\n",
      "saved figure in \n",
      "\tplot_r_0.5_D_1.0_k_100.png\n",
      "saved figure in \n",
      "\tplot_r_0.5_D_1.25_k_1.png\n",
      "saved figure in \n",
      "\tplot_r_0.5_D_1.25_k_10.png\n",
      "saved figure in \n",
      "\tplot_r_0.5_D_1.25_k_100.png\n",
      "saved figure in \n",
      "\tplot_r_0.5_D_1.5_k_1.png\n",
      "saved figure in \n",
      "\tplot_r_0.5_D_1.5_k_10.png\n",
      "saved figure in \n",
      "\tplot_r_0.5_D_1.5_k_100.png\n",
      "saved figure in \n",
      "\tplot_r_0.5_D_1.75_k_1.png\n",
      "saved figure in \n",
      "\tplot_r_0.5_D_1.75_k_10.png\n",
      "saved figure in \n",
      "\tplot_r_0.5_D_1.75_k_100.png\n",
      "saved figure in \n",
      "\tplot_r_0.5_D_2.0_k_1.png\n",
      "saved figure in \n",
      "\tplot_r_0.5_D_2.0_k_10.png\n",
      "saved figure in \n",
      "\tplot_r_0.5_D_2.0_k_100.png\n",
      "saved figure in \n",
      "\tplot_r_1.0_D_0.25_k_1.png\n",
      "saved figure in \n",
      "\tplot_r_1.0_D_0.25_k_10.png\n",
      "saved figure in \n",
      "\tplot_r_1.0_D_0.25_k_100.png\n",
      "saved figure in \n",
      "\tplot_r_1.0_D_0.5_k_1.png\n",
      "saved figure in \n",
      "\tplot_r_1.0_D_0.5_k_10.png\n",
      "saved figure in \n",
      "\tplot_r_1.0_D_0.5_k_100.png\n",
      "saved figure in \n",
      "\tplot_r_1.0_D_0.75_k_1.png\n",
      "saved figure in \n",
      "\tplot_r_1.0_D_0.75_k_10.png\n",
      "saved figure in \n",
      "\tplot_r_1.0_D_0.75_k_100.png\n",
      "saved figure in \n",
      "\tplot_r_1.0_D_1.0_k_1.png\n",
      "saved figure in \n",
      "\tplot_r_1.0_D_1.0_k_10.png\n",
      "saved figure in \n",
      "\tplot_r_1.0_D_1.0_k_100.png\n",
      "saved figure in \n",
      "\tplot_r_1.0_D_1.25_k_1.png\n",
      "saved figure in \n",
      "\tplot_r_1.0_D_1.25_k_10.png\n",
      "saved figure in \n",
      "\tplot_r_1.0_D_1.25_k_100.png\n",
      "saved figure in \n",
      "\tplot_r_1.0_D_1.5_k_1.png\n",
      "saved figure in \n",
      "\tplot_r_1.0_D_1.5_k_10.png\n",
      "saved figure in \n",
      "\tplot_r_1.0_D_1.5_k_100.png\n",
      "saved figure in \n",
      "\tplot_r_1.0_D_1.75_k_1.png\n",
      "saved figure in \n",
      "\tplot_r_1.0_D_1.75_k_10.png\n",
      "saved figure in \n",
      "\tplot_r_1.0_D_1.75_k_100.png\n",
      "saved figure in \n",
      "\tplot_r_1.0_D_2.0_k_1.png\n",
      "saved figure in \n",
      "\tplot_r_1.0_D_2.0_k_10.png\n",
      "saved figure in \n",
      "\tplot_r_1.0_D_2.0_k_100.png\n",
      "run time was 774.97 seconds.\n"
     ]
    }
   ],
   "source": [
    "#runs in series\n",
    "start=time.time()\n",
    "for item in queue:\n",
    "    retval=routine(item)\n",
    "print(f\"run time was {time.time()-start:.2f} seconds.\")"
   ]
  },
  {
   "cell_type": "code",
   "execution_count": null,
   "id": "detailed-belize",
   "metadata": {},
   "outputs": [],
   "source": []
  }
 ],
 "metadata": {
  "kernelspec": {
   "display_name": "Python 3",
   "language": "python",
   "name": "python3"
  },
  "language_info": {
   "codemirror_mode": {
    "name": "ipython",
    "version": 3
   },
   "file_extension": ".py",
   "mimetype": "text/x-python",
   "name": "python",
   "nbconvert_exporter": "python",
   "pygments_lexer": "ipython3",
   "version": "3.7.10"
  }
 },
 "nbformat": 4,
 "nbformat_minor": 5
}
