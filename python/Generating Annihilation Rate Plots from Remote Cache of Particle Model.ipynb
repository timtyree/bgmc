{
 "cells": [
  {
   "cell_type": "markdown",
   "id": "2b32fafc",
   "metadata": {},
   "source": [
    "# Generating Annihilation Rates from Remote Cache of Particle Model\n",
    "Tim Tyree"
   ]
  },
  {
   "cell_type": "code",
   "execution_count": 1,
   "id": "d05b428a",
   "metadata": {
    "ExecuteTime": {
     "end_time": "2021-11-23T22:32:04.787617Z",
     "start_time": "2021-11-23T22:32:03.337350Z"
    }
   },
   "outputs": [],
   "source": [
    "from lib.my_initialization import *\n",
    "from lib import *\n",
    "from lib.lib_care.measure.level_sets import comp_longest_level_set_and_smooth\n",
    "%load_ext autoreload\n",
    "%autoreload 2\n",
    "\n",
    "import random,scipy\n",
    "from scipy.interpolate import LinearNDInterpolator\n",
    "from scipy.interpolate import CloughTocher2DInterpolator\n",
    "import matplotlib as mpl #for colorbar\n",
    "from scipy import stats\n",
    "#DONE: hook this routine up to dask\n",
    "#DONT: hook this routine up to dask_cuda\n",
    "\n",
    "darkmode=False\n",
    "if darkmode:\n",
    "    # For darkmode plots\n",
    "    from jupyterthemes import jtplot\n",
    "    jtplot.style(theme='monokai', context='notebook', ticks=True, grid=False)"
   ]
  },
  {
   "cell_type": "code",
   "execution_count": 4,
   "id": "6d41546f",
   "metadata": {
    "ExecuteTime": {
     "end_time": "2021-11-23T22:51:50.316999Z",
     "start_time": "2021-11-23T22:51:50.296023Z"
    }
   },
   "outputs": [
    {
     "name": "stdout",
     "output_type": "stream",
     "text": [
      "fk_pbc lr_pbc fk_ncbc lr_ncbc\n"
     ]
    }
   ],
   "source": [
    "wjr=recall_powerlaw_fits_to_full_models()\n",
    "print(*wjr)"
   ]
  },
  {
   "cell_type": "code",
   "execution_count": 5,
   "id": "622d81b5",
   "metadata": {
    "ExecuteTime": {
     "end_time": "2021-11-23T22:53:14.571660Z",
     "start_time": "2021-11-23T22:53:14.545528Z"
    }
   },
   "outputs": [],
   "source": [
    "# #FK (a_hat short timescale, D_hat long timescale)\n",
    "a_hat_FK=7.3923;D_hat_FK=0.365238#;num_pairs=25;tavg_step=5;tavg1_max=15;tavg2_max=15\n",
    "#msr from the particle model\n",
    "# npz_dir_FK='/home/timothytyree/Documents/GitHub/bgmc/python/data/control_data/arrays/control_a_7.3923_D_0.365238.npz'#csv'\n",
    "\n",
    "#LR (a_hat short timescale, D_hat long timescale)\n",
    "a_hat_LR=8.595;D_hat_LR=0.586055#;num_pairs=25;tavg_step=5;tavg1_max=15;tavg2_max=15\n",
    "#msr from the particle model\n",
    "# npz_dir_LR='/home/timothytyree/Documents/GitHub/bgmc/python/data/control_data/arrays/control_a_8.595_D_0.586055.npz'#.csv'"
   ]
  },
  {
   "cell_type": "markdown",
   "id": "f1041819",
   "metadata": {},
   "source": [
    "# load the resulting table of powerlaw fits and perform interpolation to estimate M,nu"
   ]
  },
  {
   "cell_type": "code",
   "execution_count": 7,
   "id": "03506df9",
   "metadata": {
    "ExecuteTime": {
     "end_time": "2021-11-23T22:53:45.791184Z",
     "start_time": "2021-11-23T22:53:45.723936Z"
    }
   },
   "outputs": [],
   "source": [
    "#neighbor-only forces\n",
    "input_fn=f\"/home/timothytyree/Documents/GitHub/bgmc/python/data/osg_output/run_19_all_powerlaw_fits.csv\"\n",
    "#vector-summed forces\n",
    "# input_fn=f\"/home/timothytyree/Documents/GitHub/bgmc/python/data/osg_output/run_17_all_powerlaw_fits.csv\"\n",
    "df=pd.read_csv(input_fn)\n",
    "# df.tail()"
   ]
  },
  {
   "cell_type": "code",
   "execution_count": 30,
   "id": "eec21a40",
   "metadata": {
    "ExecuteTime": {
     "end_time": "2021-11-23T23:34:15.571849Z",
     "start_time": "2021-11-23T23:32:20.405038Z"
    }
   },
   "outputs": [
    {
     "name": "stdout",
     "output_type": "stream",
     "text": [
      "number of training examples is 17916.\n",
      "training complete!\n",
      "shape of X (17916, 4) --> shape of y=yhat (17916, 2)\n",
      "the rmse of simple interpolation is 0.0000\n"
     ]
    }
   ],
   "source": [
    "#define constant parameters\n",
    "neighbor=1\n",
    "# neighbor=0\n",
    "reflect=0\n",
    "force_code=2\n",
    "set_second=0\n",
    "no_attraction=0\n",
    "no_repulsion=0\n",
    "# kappa=100\n",
    "L=10\n",
    "\n",
    "#query the DataFrame\n",
    "query =(df.set_second==set_second)&(df.reflect==reflect)\n",
    "query&=(df.no_repulsion==no_repulsion)&(df.no_attraction==no_attraction)\n",
    "query&=(df.neighbor==neighbor)&(df.force_code==force_code)\n",
    "# query&=df.r==r\n",
    "# query&=df.kappa==kappa\n",
    "# query&=df.D==D\n",
    "query&=df.L==L\n",
    "# query&=df.varkappa==varkappa\n",
    "# query&=df.x0==x0\n",
    "dg=df[query]\n",
    "\n",
    "#define parameters to be varied\n",
    "# input_cols=['r','D','varkappa']#,x0\n",
    "input_cols=['r','kappa','varkappa','D']#,x0\n",
    "output_cols=['m','Delta_m','M','Delta_M']#2 minute runtime\n",
    "output_cols=['m','M']#?? minute runtime\n",
    "#inputs:dg,input_cols,output_col\n",
    "#output: fitted model\n",
    "\n",
    "Xall=dg[input_cols].values \n",
    "yall=dg[output_cols].values\n",
    "X=Xall.copy()\n",
    "y=yall.copy()\n",
    "m = len(y) # number of training examples\n",
    "print(f'number of training examples is {m:d}.')\n",
    "\n",
    "interp = LinearNDInterpolator(X, y)\n",
    "# interp = CloughTocher2DInterpolator(X, y)\n",
    "print(f\"training complete!\")\n",
    "yhat = interp(X)\n",
    "print(f\"shape of X {X.shape} --> shape of y=yhat {yhat.shape}\")\n",
    "\n",
    "rmse=np.sqrt(np.mean((yhat-y)**2))\n",
    "print(f\"the rmse of simple interpolation is {rmse:.4f}\")"
   ]
  },
  {
   "cell_type": "code",
   "execution_count": null,
   "id": "da197115",
   "metadata": {},
   "outputs": [],
   "source": [
    "from scipy.optimize import minimize"
   ]
  },
  {
   "cell_type": "code",
   "execution_count": null,
   "id": "3fa3e623",
   "metadata": {},
   "outputs": [],
   "source": []
  },
  {
   "cell_type": "code",
   "execution_count": null,
   "id": "2bcedbd9",
   "metadata": {},
   "outputs": [],
   "source": []
  },
  {
   "cell_type": "code",
   "execution_count": 24,
   "id": "ebabc56b",
   "metadata": {
    "ExecuteTime": {
     "end_time": "2021-11-23T23:26:52.726554Z",
     "start_time": "2021-11-23T23:26:52.550449Z"
    }
   },
   "outputs": [
    {
     "data": {
      "image/png": "[encoded data removed]",
      "text/plain": [
       "<Figure size 432x288 with 1 Axes>"
      ]
     },
     "metadata": {
      "needs_background": "light"
     },
     "output_type": "display_data"
    }
   ],
   "source": [
    "#TODO: dev function from parameter setting to rmse_full\n",
    "#GOAL: find a best r,kappa pair for a given a,D pair for a given full model\n",
    "model_name='lr_pbc'\n",
    "c='C1'\n",
    "#estimate q_values,w_values \n",
    "nu_full=wjr[model_name]['m']\n",
    "M_full=wjr[model_name]['M']\n",
    "q_values=np.linspace(0,1,20)\n",
    "w_values=M_full*q_values**nu_full\n",
    "plt.plot(q_values,w_values,c=c,label=model_name)\n",
    "format_plot(ax=plt.gca(),xlabel=r'$q$ (1/cm$^2$)',ylabel=r'$w$ (Hz/cm$^2$)')\n",
    "plt.legend(fontsize=18)\n",
    "plt.show()"
   ]
  },
  {
   "cell_type": "code",
   "execution_count": 29,
   "id": "9d1cd56c",
   "metadata": {
    "ExecuteTime": {
     "end_time": "2021-11-23T23:31:45.056520Z",
     "start_time": "2021-11-23T23:31:45.017373Z"
    }
   },
   "outputs": [],
   "source": [
    "r=0.1\n",
    "kappa=100\n",
    "a=a_hat_LR\n",
    "D=D_hat_LR\n",
    "\n",
    "#interpolate nu and M using interp\n",
    "X=np.array([[r,kappa,a,D]])\n",
    "yhat = interp(X)\n",
    "nu=yhat[0,0]\n",
    "M=yhat[0,2]"
   ]
  },
  {
   "cell_type": "code",
   "execution_count": null,
   "id": "bf0d9b9e",
   "metadata": {},
   "outputs": [],
   "source": [
    "yhat = interp(X)\n",
    "#TODO: compute what_values\n",
    "#TODO: compute rmse to w_values\n",
    "#TODO: return the best r\n"
   ]
  },
  {
   "cell_type": "code",
   "execution_count": null,
   "id": "f7bd29b1",
   "metadata": {},
   "outputs": [],
   "source": []
  },
  {
   "cell_type": "code",
   "execution_count": 25,
   "id": "b649f7b4",
   "metadata": {
    "ExecuteTime": {
     "end_time": "2021-11-23T23:28:29.845264Z",
     "start_time": "2021-11-23T23:28:29.826417Z"
    }
   },
   "outputs": [],
   "source": [
    "args=(a,D,q_values,w_values)\n",
    "x=(r,kappa)\n",
    "def fun(x, *args):\n",
    "    a,D,q_values,w_values=args\n",
    "    r,kappa=x\n",
    "    rmse_full=np.nan\n",
    "    return rmse_full\n",
    "\n",
    "#TODO: test for a significant speedup by baking in interp\n",
    "# args=(a,D,q_values,w_values,interp)\n",
    "# x=(r,kappa)\n",
    "# def fun(x, *args):\n",
    "#     a,D,q_values,w_values,interp=args\n",
    "#     r,kappa=x\n",
    "#     rmse_full=np.nan\n",
    "#     return rmse_full\n",
    "\n",
    "#TODO(option A): use minimize\n",
    "#TODO(option B): loop over an array of r_values, loop over an array of kappa_values\n",
    "#TODO(if ^that is prohibitively slow): look for a scipy routine that finds the optimal r,kappa pair faster"
   ]
  },
  {
   "cell_type": "code",
   "execution_count": null,
   "id": "83076fca",
   "metadata": {},
   "outputs": [],
   "source": [
    "# TODO: find relation between r,kappa and M when a = 0\n",
    "# TODO: initialize kappa using M and r=0.1"
   ]
  }
 ],
 "metadata": {
  "kernelspec": {
   "display_name": "Python 3 (ipykernel)",
   "language": "python",
   "name": "python3"
  },
  "language_info": {
   "codemirror_mode": {
    "name": "ipython",
    "version": 3
   },
   "file_extension": ".py",
   "mimetype": "text/x-python",
   "name": "python",
   "nbconvert_exporter": "python",
   "pygments_lexer": "ipython3",
   "version": "3.7.10"
  },
  "toc": {
   "base_numbering": 1,
   "nav_menu": {},
   "number_sections": true,
   "sideBar": true,
   "skip_h1_title": false,
   "title_cell": "Table of Contents",
   "title_sidebar": "Contents",
   "toc_cell": false,
   "toc_position": {},
   "toc_section_display": true,
   "toc_window_display": false
  },
  "varInspector": {
   "cols": {
    "lenName": 16,
    "lenType": 16,
    "lenVar": 40
   },
   "kernels_config": {
    "python": {
     "delete_cmd_postfix": "",
     "delete_cmd_prefix": "del ",
     "library": "var_list.py",
     "varRefreshCmd": "print(var_dic_list())"
    },
    "r": {
     "delete_cmd_postfix": ") ",
     "delete_cmd_prefix": "rm(",
     "library": "var_list.r",
     "varRefreshCmd": "cat(var_dic_list()) "
    }
   },
   "types_to_exclude": [
    "module",
    "function",
    "builtin_function_or_method",
    "instance",
    "_Feature"
   ],
   "window_display": false
  }
 },
 "nbformat": 4,
 "nbformat_minor": 5
}
