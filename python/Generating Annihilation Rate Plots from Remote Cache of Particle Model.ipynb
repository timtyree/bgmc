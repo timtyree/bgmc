{
 "cells": [
  {
   "cell_type": "markdown",
   "id": "63bd2293",
   "metadata": {},
   "source": [
    "# Generating Annihilation Rates from Remote Cache of Particle Model\n",
    "Tim Tyree"
   ]
  },
  {
   "cell_type": "code",
   "execution_count": 58,
   "id": "c8b6d41a",
   "metadata": {
    "ExecuteTime": {
     "end_time": "2021-11-24T05:22:27.293239Z",
     "start_time": "2021-11-24T05:22:27.272186Z"
    }
   },
   "outputs": [],
   "source": [
    "from scipy.optimize import minimize"
   ]
  },
  {
   "cell_type": "code",
   "execution_count": 35,
   "id": "5c31548a",
   "metadata": {
    "ExecuteTime": {
     "end_time": "2021-11-24T05:09:04.336460Z",
     "start_time": "2021-11-24T05:09:04.277672Z"
    }
   },
   "outputs": [
    {
     "name": "stdout",
     "output_type": "stream",
     "text": [
      "The autoreload extension is already loaded. To reload it, use:\n",
      "  %reload_ext autoreload\n"
     ]
    }
   ],
   "source": [
    "from lib.my_initialization import *\n",
    "from lib import *\n",
    "from lib.lib_care.measure.level_sets import comp_longest_level_set_and_smooth\n",
    "%load_ext autoreload\n",
    "%autoreload 2\n",
    "\n",
    "import random,scipy\n",
    "from scipy.interpolate import LinearNDInterpolator\n",
    "from scipy.interpolate import CloughTocher2DInterpolator\n",
    "import matplotlib as mpl #for colorbar\n",
    "from scipy import stats\n",
    "#DONE: hook this routine up to dask\n",
    "#DONT: hook this routine up to dask_cuda\n",
    "\n",
    "darkmode=True\n",
    "if darkmode:\n",
    "    # For darkmode plots\n",
    "    from jupyterthemes import jtplot\n",
    "    jtplot.style(theme='monokai', context='notebook', ticks=True, grid=False)"
   ]
  },
  {
   "cell_type": "code",
   "execution_count": 36,
   "id": "4fb961aa",
   "metadata": {
    "ExecuteTime": {
     "end_time": "2021-11-24T05:09:12.754926Z",
     "start_time": "2021-11-24T05:09:12.722763Z"
    }
   },
   "outputs": [
    {
     "name": "stdout",
     "output_type": "stream",
     "text": [
      "fk_pbc lr_pbc fk_ncbc lr_ncbc\n"
     ]
    }
   ],
   "source": [
    "wjr=recall_powerlaw_fits_to_full_models()\n",
    "print(*wjr)"
   ]
  },
  {
   "cell_type": "code",
   "execution_count": 72,
   "id": "a3ccc0c7",
   "metadata": {
    "ExecuteTime": {
     "end_time": "2021-11-24T05:35:19.769317Z",
     "start_time": "2021-11-24T05:35:19.743702Z"
    }
   },
   "outputs": [],
   "source": [
    "# #FK (a_hat short timescale, D_hat long timescale)\n",
    "# a_hat_FK=7.3923;\n",
    "D_hat_FK=0.365238#;num_pairs=25;tavg_step=5;tavg1_max=15;tavg2_max=15\n",
    "#msr from the particle model\n",
    "# npz_dir_FK='/home/timothytyree/Documents/GitHub/bgmc/python/data/control_data/arrays/control_a_7.3923_D_0.365238.npz'#csv'\n",
    "# msr_dir_fk='/home/timothytyree/Documents/GitHub/bgmc/python/data/full_results/msr_fk_boostrapped_tavg2_14.0_n_19087_a_1.6_tmax_300.csv'\n",
    "a_hat_FK = 1.604153#+/-0.040173 cm^2/s\n",
    "# tavg2=14 ms, num_samples=19087, tmin=0, tmax=300 ms\n",
    "\n",
    "#LR (a_hat short timescale, D_hat long timescale)\n",
    "a_hat_LR=8.595\n",
    "D_hat_LR=0.586055#;num_pairs=25;tavg_step=5;tavg1_max=15;tavg2_max=15\n",
    "#msr from the particle model\n",
    "# npz_dir_LR='/home/timothytyree/Documents/GitHub/bgmc/python/data/control_data/arrays/control_a_8.595_D_0.586055.npz'#.csv'\n",
    "\n",
    "\n",
    "\n",
    "a_hat_FK = 1.509282#+/-0.178827 cm^2/s, tmax=90\n",
    "a_hat_LR = 3.535902#+/-0.312245 cm^2/s, tmax=60"
   ]
  },
  {
   "cell_type": "markdown",
   "id": "96188634",
   "metadata": {},
   "source": [
    "# load the resulting table of powerlaw fits and perform interpolation to estimate M,nu"
   ]
  },
  {
   "cell_type": "code",
   "execution_count": 40,
   "id": "1474d18c",
   "metadata": {
    "ExecuteTime": {
     "end_time": "2021-11-24T05:11:45.875511Z",
     "start_time": "2021-11-24T05:11:45.800480Z"
    }
   },
   "outputs": [],
   "source": [
    "#neighbor-only forces\n",
    "input_fn=f\"/home/timothytyree/Documents/GitHub/bgmc/python/data/osg_output/run_19_all_powerlaw_fits.csv\"\n",
    "#vector-summed forces\n",
    "# input_fn=f\"/home/timothytyree/Documents/GitHub/bgmc/python/data/osg_output/run_17_all_powerlaw_fits.csv\"\n",
    "df=pd.read_csv(input_fn)\n",
    "# df.tail()"
   ]
  },
  {
   "cell_type": "code",
   "execution_count": 47,
   "id": "608e8ee7",
   "metadata": {
    "ExecuteTime": {
     "end_time": "2021-11-24T05:15:56.804552Z",
     "start_time": "2021-11-24T05:13:12.177839Z"
    }
   },
   "outputs": [
    {
     "name": "stdout",
     "output_type": "stream",
     "text": [
      "number of training examples is 17916.\n",
      "training complete!\n",
      "shape of X (17916, 4) --> shape of y=yhat (17916, 2)\n",
      "the rmse of simple interpolation is 0.0000\n"
     ]
    }
   ],
   "source": [
    "testing=True\n",
    "\n",
    "#define constant parameters\n",
    "neighbor=1\n",
    "# neighbor=0\n",
    "reflect=0\n",
    "force_code=2\n",
    "set_second=0\n",
    "no_attraction=0\n",
    "no_repulsion=0\n",
    "# kappa=100\n",
    "L=10\n",
    "\n",
    "#query the DataFrame\n",
    "query =(df.set_second==set_second)&(df.reflect==reflect)\n",
    "query&=(df.no_repulsion==no_repulsion)&(df.no_attraction==no_attraction)\n",
    "query&=(df.neighbor==neighbor)&(df.force_code==force_code)\n",
    "# query&=df.r==r\n",
    "# query&=df.kappa==kappa\n",
    "# query&=df.D==D\n",
    "query&=df.L==L\n",
    "# query&=df.varkappa==varkappa\n",
    "# query&=df.x0==x0\n",
    "dg=df[query]\n",
    "\n",
    "#define parameters to be varied\n",
    "# input_cols=['r','D','varkappa']#,x0\n",
    "input_cols=['r','kappa','varkappa','D']#,x0\n",
    "output_cols=['m','Delta_m','M','Delta_M']#2 minute runtime\n",
    "output_cols=['m','M']#2.75 minute runtime\n",
    "#inputs:dg,input_cols,output_col\n",
    "#output: fitted model\n",
    "\n",
    "Xall=dg[input_cols].values \n",
    "yall=dg[output_cols].values\n",
    "X=Xall.copy()\n",
    "y=yall.copy()\n",
    "m = len(y) # number of training examples\n",
    "print(f'number of training examples is {m:d}.')\n",
    "\n",
    "interp = LinearNDInterpolator(X, y)\n",
    "# interp = CloughTocher2DInterpolator(X, y)\n",
    "print(f\"training complete!\")\n",
    "if testing:\n",
    "    yhat = interp(X)\n",
    "    print(f\"shape of X {X.shape} --> shape of y=yhat {yhat.shape}\")\n",
    "\n",
    "    rmse=np.sqrt(np.mean((yhat-y)**2))\n",
    "    print(f\"the rmse of simple interpolation is {rmse:.4f}\")"
   ]
  },
  {
   "cell_type": "code",
   "execution_count": 112,
   "id": "86cfd7b0",
   "metadata": {
    "ExecuteTime": {
     "end_time": "2021-11-24T05:48:12.276907Z",
     "start_time": "2021-11-24T05:48:12.110909Z"
    }
   },
   "outputs": [
    {
     "data": {
      "image/png": "[encoded data removed]",
      "text/plain": [
       "<Figure size 576x504 with 1 Axes>"
      ]
     },
     "metadata": {},
     "output_type": "display_data"
    }
   ],
   "source": [
    "#TODO: dev function from parameter setting to rmse_full\n",
    "#GOAL: find a best r,kappa pair for a given a,D pair for a given full model\n",
    "model_name='lr_pbc'\n",
    "c='C1'\n",
    "# model_name='fk_pbc'\n",
    "# c='C0'\n",
    "#estimate q_values,w_values \n",
    "\n",
    "a=a_hat_LR\n",
    "D=D_hat_LR\n",
    "\n",
    "if darkmode:\n",
    "    c='w'\n",
    "\n",
    "nu_full=wjr[model_name]['m']\n",
    "M_full=wjr[model_name]['M']\n",
    "q_values=np.linspace(0,1,20)\n",
    "w_values=M_full*q_values**nu_full\n",
    "plt.plot(q_values,w_values,c=c,label=model_name)\n",
    "format_plot(ax=plt.gca(),xlabel=r'$q$ (1/cm$^2$)',ylabel=r'$w$ (Hz/cm$^2$)')\n",
    "plt.legend(fontsize=18)\n",
    "plt.show()"
   ]
  },
  {
   "cell_type": "code",
   "execution_count": null,
   "id": "ba00a336",
   "metadata": {},
   "outputs": [],
   "source": []
  },
  {
   "cell_type": "code",
   "execution_count": null,
   "id": "99c378ac",
   "metadata": {},
   "outputs": [],
   "source": []
  },
  {
   "cell_type": "code",
   "execution_count": 113,
   "id": "40bc0b9c",
   "metadata": {
    "ExecuteTime": {
     "end_time": "2021-11-24T05:48:15.145226Z",
     "start_time": "2021-11-24T05:48:15.123025Z"
    }
   },
   "outputs": [],
   "source": [
    "#DONE: compute what_values\n",
    "#DONE: compute rmse to w_values"
   ]
  },
  {
   "cell_type": "code",
   "execution_count": null,
   "id": "e38d4b70",
   "metadata": {},
   "outputs": [],
   "source": []
  },
  {
   "cell_type": "code",
   "execution_count": 114,
   "id": "23b7c2fb",
   "metadata": {
    "ExecuteTime": {
     "end_time": "2021-11-24T05:48:16.117746Z",
     "start_time": "2021-11-24T05:48:16.095280Z"
    }
   },
   "outputs": [],
   "source": [
    "def comp_rmse_via_interp(x, *args):\n",
    "    a,D,q_values,w_values,interp=args\n",
    "    r,kappa=x\n",
    "    #interpolate nu and M using interp\n",
    "    X=np.array([[r,kappa,a,D]])\n",
    "    yhat = interp(X)\n",
    "    nu=yhat[0,0]\n",
    "    M=yhat[0,1]\n",
    "    # M=yhat[0,2]\n",
    "    what_values=M*q_values**nu\n",
    "    rmse_full=np.sqrt(np.mean((what_values-w_values)**2))\n",
    "    return rmse_full\n",
    "\n",
    "#TODO: test for a significant speedup by baking in interp\n",
    "# args=(a,D,q_values,w_values,interp)\n",
    "# x=(r,kappa)\n",
    "# def fun(x, *args):\n",
    "#     a,D,q_values,w_values,interp=args\n",
    "#     r,kappa=x\n",
    "#     rmse_full=np.nan\n",
    "#     return rmse_full"
   ]
  },
  {
   "cell_type": "code",
   "execution_count": 115,
   "id": "314c22df",
   "metadata": {
    "ExecuteTime": {
     "end_time": "2021-11-24T05:48:18.151385Z",
     "start_time": "2021-11-24T05:48:18.127095Z"
    }
   },
   "outputs": [
    {
     "name": "stdout",
     "output_type": "stream",
     "text": [
      "a=3.535902, D=0.586055\n"
     ]
    }
   ],
   "source": [
    "#TODO: return the best r\n",
    "r=0.1\n",
    "kappa=1500\n",
    "\n",
    "print(f\"a={a}, D={D}\")"
   ]
  },
  {
   "cell_type": "code",
   "execution_count": 116,
   "id": "ebaeeed1",
   "metadata": {
    "ExecuteTime": {
     "end_time": "2021-11-24T05:48:23.303914Z",
     "start_time": "2021-11-24T05:48:23.279970Z"
    }
   },
   "outputs": [
    {
     "data": {
      "text/plain": [
       "1.7467826128496262"
      ]
     },
     "execution_count": 116,
     "metadata": {},
     "output_type": "execute_result"
    }
   ],
   "source": [
    "args=(a,D,q_values,w_values,interp)\n",
    "x=(r,kappa)\n",
    "comp_rmse_via_interp(x, *args)\n",
    "\n",
    "#TODO(option A): use minimize\n",
    "#TODO(option B): loop over an array of r_values, loop over an array of kappa_values\n",
    "#TODO(if ^that is prohibitively slow): look for a scipy routine that finds the optimal r,kappa pair faster"
   ]
  },
  {
   "cell_type": "code",
   "execution_count": 117,
   "id": "a2b083e0",
   "metadata": {
    "ExecuteTime": {
     "end_time": "2021-11-24T05:48:37.029650Z",
     "start_time": "2021-11-24T05:48:37.002243Z"
    }
   },
   "outputs": [],
   "source": [
    "# # TODO: find relation between r,kappa and M when a = 0\n",
    "# # TODO: initialize kappa using M and r=0.1\n",
    "# x0 = x#(0.1, 500)\n",
    "# res = minimize(comp_rmse_via_interp,\n",
    "#                   x0,\n",
    "#                   args,\n",
    "#                   method=None,\n",
    "#                   jac=None,\n",
    "#                   hess=None,\n",
    "#                   hessp=None,\n",
    "#                   bounds=((1e-3, 2), (1e2, 1e4)),\n",
    "#                   constraints=(),\n",
    "#                   tol=1e-15,\n",
    "#                   callback=None,\n",
    "#                   options=None)\n",
    "# print(res.x)"
   ]
  },
  {
   "cell_type": "code",
   "execution_count": null,
   "id": "12d071c8",
   "metadata": {
    "ExecuteTime": {
     "end_time": "2021-11-24T05:38:31.254379Z",
     "start_time": "2021-11-24T05:38:31.236430Z"
    }
   },
   "outputs": [],
   "source": []
  },
  {
   "cell_type": "code",
   "execution_count": 118,
   "id": "ebbf7ea0",
   "metadata": {
    "ExecuteTime": {
     "end_time": "2021-11-24T05:48:46.362267Z",
     "start_time": "2021-11-24T05:48:44.283080Z"
    }
   },
   "outputs": [
    {
     "data": {
      "text/plain": [
       " final_simplex: (array([[1.33070330e-01, 6.26495292e+02],\n",
       "       [1.33070030e-01, 6.26495112e+02],\n",
       "       [1.33070629e-01, 6.26496249e+02]]), array([0.74815396, 0.74815397, 0.74815397]))\n",
       "           fun: 0.7481539631900532\n",
       "       message: 'Optimization terminated successfully.'\n",
       "          nfev: 98\n",
       "           nit: 50\n",
       "        status: 0\n",
       "       success: True\n",
       "             x: array([1.33070330e-01, 6.26495292e+02])"
      ]
     },
     "execution_count": 118,
     "metadata": {},
     "output_type": "execute_result"
    }
   ],
   "source": [
    "# #TODO: add coinstraints of positivity\n",
    "# cons = ({'type': 'ineq', 'fun': lambda x:  x[0] - 2 * x[1] + 2},\n",
    "#         {'type': 'ineq', 'fun': lambda x: -x[0] - 2 * x[1] + 6},\n",
    "#         {'type': 'ineq', 'fun': lambda x: -x[0] + 2 * x[1] + 2})\n",
    "# And variables must be positive, hence the following bounds:\n",
    "bnds = ((1e-3, 2), (1e2, 1e4))\n",
    "x0 = x#(0.1, 500)\n",
    "# res = minimize(comp_rmse_via_interp, (0.1, 500), args, method='SLSQP', bounds=bnds,tol=1e-3)\n",
    "res = minimize(comp_rmse_via_interp, (0.1, 500), args, method='Nelder-Mead', bounds=bnds,tol=1e-3)\n",
    "res"
   ]
  },
  {
   "cell_type": "markdown",
   "id": "0ccccdea",
   "metadata": {},
   "source": [
    "Bounds on variables for Nelder-Mead, L-BFGS-B, TNC, SLSQP, Powell, and trust-constr methods."
   ]
  },
  {
   "cell_type": "code",
   "execution_count": 119,
   "id": "519fe690",
   "metadata": {
    "ExecuteTime": {
     "end_time": "2021-11-24T05:49:01.303826Z",
     "start_time": "2021-11-24T05:49:01.250227Z"
    }
   },
   "outputs": [
    {
     "data": {
      "text/plain": [
       "array([1.33070330e-01, 6.26495292e+02])"
      ]
     },
     "execution_count": 119,
     "metadata": {},
     "output_type": "execute_result"
    }
   ],
   "source": [
    "comp_rmse_via_interp(res.x, *args)\n",
    "#TODO: try the other available optimization methods\n",
    "res.x"
   ]
  },
  {
   "cell_type": "code",
   "execution_count": 120,
   "id": "25d8b327",
   "metadata": {
    "ExecuteTime": {
     "end_time": "2021-11-24T05:49:02.149272Z",
     "start_time": "2021-11-24T05:49:02.108239Z"
    }
   },
   "outputs": [],
   "source": [
    "#Plot the result over the origninal annihilation rates\n",
    "X=np.array([[res.x[0],res.x[1],a,D]])\n",
    "yhat = interp(X)\n",
    "nu=yhat[0,0]\n",
    "M=yhat[0,1]\n",
    "# M=yhat[0,2]\n",
    "what_values=M*q_values**nu"
   ]
  },
  {
   "cell_type": "code",
   "execution_count": 121,
   "id": "9784670f",
   "metadata": {
    "ExecuteTime": {
     "end_time": "2021-11-24T05:49:02.814842Z",
     "start_time": "2021-11-24T05:49:02.632550Z"
    }
   },
   "outputs": [
    {
     "data": {
      "image/png": "[encoded data removed]",
      "text/plain": [
       "<Figure size 576x504 with 1 Axes>"
      ]
     },
     "metadata": {},
     "output_type": "display_data"
    }
   ],
   "source": [
    "plt.plot(q_values,what_values,c='r',label=f'a={a:.2f}, D={D:.2f}'+r' cm$^2$/s')\n",
    "plt.plot(q_values,w_values,c=c,label=model_name)\n",
    "format_plot(ax=plt.gca(),xlabel=r'$q$ (1/cm$^2$)',ylabel=r'$w$ (Hz/cm$^2$)')\n",
    "plt.legend(fontsize=18)\n",
    "plt.show()"
   ]
  },
  {
   "cell_type": "code",
   "execution_count": null,
   "id": "c1136db7",
   "metadata": {},
   "outputs": [],
   "source": []
  }
 ],
 "metadata": {
  "kernelspec": {
   "display_name": "Python 3 (ipykernel)",
   "language": "python",
   "name": "python3"
  },
  "language_info": {
   "codemirror_mode": {
    "name": "ipython",
    "version": 3
   },
   "file_extension": ".py",
   "mimetype": "text/x-python",
   "name": "python",
   "nbconvert_exporter": "python",
   "pygments_lexer": "ipython3",
   "version": "3.7.10"
  },
  "toc": {
   "base_numbering": 1,
   "nav_menu": {},
   "number_sections": true,
   "sideBar": true,
   "skip_h1_title": false,
   "title_cell": "Table of Contents",
   "title_sidebar": "Contents",
   "toc_cell": false,
   "toc_position": {},
   "toc_section_display": true,
   "toc_window_display": false
  },
  "varInspector": {
   "cols": {
    "lenName": 16,
    "lenType": 16,
    "lenVar": 40
   },
   "kernels_config": {
    "python": {
     "delete_cmd_postfix": "",
     "delete_cmd_prefix": "del ",
     "library": "var_list.py",
     "varRefreshCmd": "print(var_dic_list())"
    },
    "r": {
     "delete_cmd_postfix": ") ",
     "delete_cmd_prefix": "rm(",
     "library": "var_list.r",
     "varRefreshCmd": "cat(var_dic_list()) "
    }
   },
   "types_to_exclude": [
    "module",
    "function",
    "builtin_function_or_method",
    "instance",
    "_Feature"
   ],
   "window_display": false
  }
 },
 "nbformat": 4,
 "nbformat_minor": 5
}
