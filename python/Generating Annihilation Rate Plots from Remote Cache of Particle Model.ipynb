{
 "cells": [
  {
   "cell_type": "markdown",
   "id": "63bd2293",
   "metadata": {},
   "source": [
    "# Generating Annihilation Rates from Remote Cache of Particle Model\n",
    "Tim Tyree<br>\n",
    "11.23.2021"
   ]
  },
  {
   "cell_type": "markdown",
   "id": "1248359f",
   "metadata": {},
   "source": [
    "DONE: ported this ipynb to lib"
   ]
  },
  {
   "cell_type": "code",
   "execution_count": 41,
   "id": "c8b6d41a",
   "metadata": {
    "ExecuteTime": {
     "end_time": "2022-08-17T21:23:07.749920Z",
     "start_time": "2022-08-17T21:23:07.724436Z"
    }
   },
   "outputs": [
    {
     "name": "stdout",
     "output_type": "stream",
     "text": [
      "The autoreload extension is already loaded. To reload it, use:\n",
      "  %reload_ext autoreload\n",
      "The autoreload extension is already loaded. To reload it, use:\n",
      "  %reload_ext autoreload\n"
     ]
    }
   ],
   "source": [
    "from scipy.optimize import minimize\n",
    "\n",
    "from lib.my_initialization import *\n",
    "from lib import *\n",
    "#from lib.lib_care.measure.level_sets import comp_longest_level_set_and_smooth\n",
    "%load_ext autoreload\n",
    "%autoreload 2\n",
    "\n",
    "import random,scipy\n",
    "from scipy.interpolate import LinearNDInterpolator\n",
    "from scipy.interpolate import CloughTocher2DInterpolator\n",
    "import matplotlib as mpl #for colorbar\n",
    "from scipy import stats\n",
    "#DONE: hook this routine up to dask\n",
    "#DONT: hook this routine up to dask_cuda\n",
    "# import scanpy as sc\n",
    "darkmode=False\n",
    "if darkmode:\n",
    "    # For darkmode plots\n",
    "    from jupyterthemes import jtplot\n",
    "    jtplot.style(theme='monokai', context='notebook', ticks=True, grid=False)\n",
    "#     theme=cuxfilter.themes.dark\n",
    "#     #     theme=cuxfilter.themes.rapids\n",
    "else:\n",
    "    sns.set_style('white')\n",
    "#     theme=cuxfilter.themes.light\n",
    "import warnings\n",
    "warnings.simplefilter(\"ignore\", UserWarning)\n",
    "%load_ext autoreload\n",
    "%autoreload 2\n",
    "# import cupy as cp\n",
    "np.random.seed(42)\n",
    "# cp.random.seed(42)"
   ]
  },
  {
   "cell_type": "code",
   "execution_count": 42,
   "id": "aa7e72f3",
   "metadata": {
    "ExecuteTime": {
     "end_time": "2022-08-17T21:23:08.294123Z",
     "start_time": "2022-08-17T21:23:08.270787Z"
    }
   },
   "outputs": [],
   "source": [
    "#reset matplotlib settings\n",
    "import matplotlib as mpl\n",
    "sns.reset_orig()\n",
    "mpl.rc_file_defaults()"
   ]
  },
  {
   "cell_type": "code",
   "execution_count": 43,
   "id": "23b7c2fb",
   "metadata": {
    "ExecuteTime": {
     "end_time": "2022-08-17T21:23:08.772946Z",
     "start_time": "2022-08-17T21:23:08.747919Z"
    }
   },
   "outputs": [],
   "source": [
    "# def comp_rmse_via_interp(x, *args):\n",
    "#     '''find a best r,kappa pair for a given a,D pair for a given full model'''\n",
    "#     a,D,q_values,w_values,interp=args\n",
    "#     r,kappa=x\n",
    "#     #interpolate nu and M using interp\n",
    "#     X=np.array([[r,kappa,a,D]])\n",
    "#     yhat = interp(X)\n",
    "#     nu=yhat[0,0]\n",
    "#     M=yhat[0,1]\n",
    "#     # M=yhat[0,2]\n",
    "#     what_values=M*q_values**nu\n",
    "#     rmse_full=np.sqrt(np.mean((what_values-w_values)**2))\n",
    "#     return rmse_full"
   ]
  },
  {
   "cell_type": "code",
   "execution_count": 44,
   "id": "722d2b3e",
   "metadata": {
    "ExecuteTime": {
     "end_time": "2022-08-17T21:23:09.192355Z",
     "start_time": "2022-08-17T21:23:09.171511Z"
    }
   },
   "outputs": [],
   "source": [
    "# def comp_mse_via_interp(x, *args):\n",
    "#     '''find a best r,kappa pair for a given a,D pair for a given full model'''\n",
    "#     a,D,q_values,w_values,interp=args\n",
    "#     r,kappa=x\n",
    "#     #interpolate nu and M using interp\n",
    "#     X=np.array([[r,kappa,a,D]])\n",
    "#     yhat = interp(X)\n",
    "#     nu=yhat[0,0]\n",
    "#     M=yhat[0,1]\n",
    "#     # M=yhat[0,2]\n",
    "#     what_values=M*q_values**nu\n",
    "#     mse=np.mean((what_values-w_values)**2)\n",
    "#     return mse"
   ]
  },
  {
   "cell_type": "code",
   "execution_count": 45,
   "id": "4fb961aa",
   "metadata": {
    "ExecuteTime": {
     "end_time": "2022-08-17T21:23:10.363486Z",
     "start_time": "2022-08-17T21:23:10.343607Z"
    }
   },
   "outputs": [
    {
     "name": "stdout",
     "output_type": "stream",
     "text": [
      "fk_pbc lr_pbc fk_ncbc lr_ncbc\n"
     ]
    }
   ],
   "source": [
    "wjr=recall_powerlaw_fits_to_full_models()\n",
    "print(*wjr)"
   ]
  },
  {
   "cell_type": "code",
   "execution_count": 46,
   "id": "a3ccc0c7",
   "metadata": {
    "ExecuteTime": {
     "end_time": "2022-08-17T21:23:10.565623Z",
     "start_time": "2022-08-17T21:23:10.540142Z"
    }
   },
   "outputs": [],
   "source": [
    "#apparent measurements\n",
    "# #FK (a_hat short timescale, D_hat long timescale)\n",
    "a_hat_FK=7.3923;\n",
    "D_hat_FK=0.365238#;num_pairs=25;tavg_step=5;tavg1_max=15;tavg2_max=15\n",
    "\n",
    "a_hat_FK_long = 1.509282#+/-0.178827 cm^2/s, tmax=90\n",
    "a_hat_FK_vlong = 1.604153#+/-0.040173 cm^2/s\n",
    "# tavg2=14 ms, num_samples=19087, tmin=0, tmax=300 ms\n",
    "\n",
    "\n",
    "#msr from the particle model\n",
    "# npz_dir_FK='/home/timothytyree/Documents/GitHub/bgmc/python/data/control_data/arrays/control_a_7.3923_D_0.365238.npz'#csv'\n",
    "#msr from the full model\n",
    "# msr_dir_fk='/home/timothytyree/Documents/GitHub/bgmc/python/data/full_results/msr_fk_boostrapped_tavg2_14.0_n_19087_a_1.6_tmax_300.csv'\n",
    "\n",
    "#LR (a_hat short timescale, D_hat long timescale)\n",
    "a_hat_LR=8.595\n",
    "D_hat_LR=0.586055#;num_pairs=25;tavg_step=5;tavg1_max=15;tavg2_max=15\n",
    "#msr from the particle model\n",
    "# npz_dir_LR='/home/timothytyree/Documents/GitHub/bgmc/python/data/control_data/arrays/control_a_8.595_D_0.586055.npz'#.csv'\n",
    "a_hat_LR_long = 3.535902#+/-0.312245 cm^2/s, tmax=60"
   ]
  },
  {
   "cell_type": "markdown",
   "id": "0bdc043f",
   "metadata": {},
   "source": [
    "# define module"
   ]
  },
  {
   "cell_type": "code",
   "execution_count": 47,
   "id": "0bb83866",
   "metadata": {
    "ExecuteTime": {
     "end_time": "2022-08-17T21:23:17.462464Z",
     "start_time": "2022-08-17T21:23:17.439059Z"
    }
   },
   "outputs": [],
   "source": [
    "def comp_rmse_powerlaw(df,q_values,M,m,dq=0.05):\n",
    "    \"\"\"\n",
    "    Example Usage:\n",
    "input_fn=f\"/home/timothytyree/Documents/GitHub/bgmc/python/data/osg_output/run_24_all_powerlaw_fits.csv\"\n",
    "df=pd.read_csv(input_fn)\n",
    "df = comp_rmse_powerlaw(df,q_values,M,m,dq=0.05)\n",
    "df.sort_values(by='rmse',inplace=True)\n",
    "df['rmse'].values\n",
    "    \"\"\"\n",
    "    #compute q_values used by df\n",
    "    q_min = df.q_min.drop_duplicates().values[0]\n",
    "    q_max = df.q_max.drop_duplicates().values[0]\n",
    "    q_values=np.arange(q_min,q_max,dq)\n",
    "    #input: m,M, q_values used by df\n",
    "    #output: w_values\n",
    "    w_values=M*q_values**m\n",
    "\n",
    "    #compute rmse for each row\n",
    "    df['rmse']=np.nan\n",
    "    for i,row in df.iterrows():\n",
    "        m_ = row['m']\n",
    "        M_ = row['M']\n",
    "        w_values_linear=M_*q_values**m_\n",
    "        df.loc[i,'rmse']= np.sqrt(np.mean((w_values_linear-w_values)**2))\n",
    "    return df"
   ]
  },
  {
   "cell_type": "markdown",
   "id": "7de4e524",
   "metadata": {},
   "source": [
    "# TODO(later): merge two files that cache some cloud results\n",
    "then,\n",
    "- TODO: investigate whether i can get good powerlaw fits with r~1.7 cm"
   ]
  },
  {
   "cell_type": "code",
   "execution_count": 29,
   "id": "cc8eab8b",
   "metadata": {
    "ExecuteTime": {
     "end_time": "2022-08-16T21:19:46.338929Z",
     "start_time": "2022-08-16T21:19:46.322791Z"
    }
   },
   "outputs": [],
   "source": [
    "#src: lst of cache files\n",
    "#dst: one .csv file with lst merged\n",
    "\n",
    "\n",
    "#input: df1,df2\n",
    "#output: df_merged"
   ]
  },
  {
   "cell_type": "markdown",
   "id": "96188634",
   "metadata": {},
   "source": [
    "# load the resulting table of powerlaw fits and train interpolation to estimate annihilation rates from the particle model"
   ]
  },
  {
   "cell_type": "code",
   "execution_count": 30,
   "id": "b3f9ef3b",
   "metadata": {
    "ExecuteTime": {
     "end_time": "2022-08-16T21:19:46.842644Z",
     "start_time": "2022-08-16T21:19:46.821816Z"
    }
   },
   "outputs": [],
   "source": [
    "#DONE: combine the following into 'recall_particle_model_interp():'\n",
    "#TODO: test ^that for figure 3\n",
    "#TODO: send to lib\n",
    "#TODO: test from lib for figure 2"
   ]
  },
  {
   "cell_type": "code",
   "execution_count": null,
   "id": "25a71d09",
   "metadata": {},
   "outputs": [],
   "source": []
  },
  {
   "cell_type": "code",
   "execution_count": 31,
   "id": "a1619fb7",
   "metadata": {
    "ExecuteTime": {
     "end_time": "2022-08-16T21:19:47.440300Z",
     "start_time": "2022-08-16T21:19:47.404468Z"
    }
   },
   "outputs": [],
   "source": [
    "#define constant parameters\n",
    "reflect=0\n",
    "force_code=2\n",
    "set_second=0\n",
    "no_attraction=0\n",
    "no_repulsion=0\n",
    "# kappa=100\n",
    "# L=10\n",
    "L=5\n",
    "testing=False #True yields an extra runtimme of ~2 minutes"
   ]
  },
  {
   "cell_type": "code",
   "execution_count": 59,
   "id": "ce440636",
   "metadata": {
    "ExecuteTime": {
     "end_time": "2022-08-17T21:24:53.739831Z",
     "start_time": "2022-08-17T21:24:53.614782Z"
    }
   },
   "outputs": [
    {
     "name": "stdout",
     "output_type": "stream",
     "text": [
      "parameter range:\n",
      "     varkappa      D    L     r  kappa\n",
      "min     1.553  0.090  5.0  0.01  100.0\n",
      "max     9.969  0.114  5.0  0.49  990.0\n",
      "\n",
      "alinear values considered: [1.553, 9.969] cm^2/s\n"
     ]
    }
   ],
   "source": [
    "# input_fn=f\"{nb_dir}/data/osg_output/run_17_all_powerlaw_fits.csv\"\n",
    "# input_fn=f\"{nb_dir}/data/osg_output/run_18_all_powerlaw_fits.csv\"\n",
    "# input_fn=f\"{nb_dir}/data/osg_output/run_19_all_powerlaw_fits.csv\"\n",
    "# input_fn=f\"{nb_dir}/data/osg_output/run_20_all_powerlaw_fits.csv\"#too low varkappa\n",
    "# input_fn=f\"{nb_dir}/data/osg_output/run_21_all_powerlaw_fits.csv\"#too low varkappa\n",
    "# input_fn=f\"{nb_dir}/data/osg_output/run_22_all_powerlaw_fits.csv\" #t/'oo low varkappa\n",
    "# input_fn=f\"{nb_dir}/data/osg_output/run_23_all_powerlaw_fits.csv\" #too low varkappa\n",
    "# input_fn=f\"{nb_dir}/data/osg_output/run_24_all_powerlaw_fits.csv\"\n",
    "input_fn=f\"{nb_dir}/data/osg_output/run_25_all_powerlaw_fits.csv\"\n",
    "df=pd.read_csv(input_fn)\n",
    "\n",
    "print(f\"parameter range:\")\n",
    "print(df.describe()[['varkappa','D','L','r','kappa']].T[['min','max']].T)\n",
    "print(f\"\\nalinear values considered: {sorted(df['varkappa'].drop_duplicates().values)} cm^2/s\")\n",
    "\n",
    "# print(f\"\\n\\n(more details:)\")\n",
    "# print(df.describe().T[['min','max']])\n"
   ]
  },
  {
   "cell_type": "markdown",
   "id": "e36384fd",
   "metadata": {},
   "source": [
    "__Results:__\n",
    "\n",
    "r=0.05-0.5 was were we spent our computational resources...  I'm rerunning a new grid search over (r,kappa) on the osg specific to the (alinear,D) values we observed from the full models.\n",
    "\n",
    "- DONE: dev run 24 (\")\n",
    "- DONE: test run 24\n",
    "- DONE: run run 24"
   ]
  },
  {
   "cell_type": "code",
   "execution_count": 60,
   "id": "bed044c2",
   "metadata": {
    "ExecuteTime": {
     "end_time": "2022-08-17T21:24:54.397758Z",
     "start_time": "2022-08-17T21:24:54.380344Z"
    }
   },
   "outputs": [],
   "source": [
    "# # r_lst=list(np.sqrt(np.arange(0.1,5,0.2)))\n",
    "# # r_lst=list(np.sqrt(np.arange(0.1,1.7,0.2)))\n",
    "# r_lst=list(np.arange(0.1,1.8,0.2))\n",
    "# r_lst\n",
    "# np.arange(0.1,1.8,0.2)"
   ]
  },
  {
   "cell_type": "code",
   "execution_count": 61,
   "id": "150d8978",
   "metadata": {
    "ExecuteTime": {
     "end_time": "2022-08-17T21:24:54.727931Z",
     "start_time": "2022-08-17T21:24:54.706766Z"
    }
   },
   "outputs": [],
   "source": [
    "\n",
    "\n",
    "# #query the DataFrame\n",
    "# query =(df.set_second==set_second)&(df.reflect==reflect)\n",
    "# query&=(df.no_repulsion==no_repulsion)&(df.no_attraction==no_attraction)\n",
    "# query&=(df.neighbor==neighbor)&(df.force_code==force_code)\n",
    "# # query&=df.r==r\n",
    "# # query&=df.kappa==kappa\n",
    "# # query&=df.D==D\n",
    "# query&=df.L==L\n",
    "# # query&=df.varkappa==varkappa\n",
    "# dg=df[query]"
   ]
  },
  {
   "cell_type": "code",
   "execution_count": 62,
   "id": "fc5237cf",
   "metadata": {
    "ExecuteTime": {
     "end_time": "2022-08-17T21:24:54.994369Z",
     "start_time": "2022-08-17T21:24:54.911795Z"
    }
   },
   "outputs": [],
   "source": [
    "# #neighbor-only forces\n",
    "# input_fn=f\"/home/timothytyree/Documents/GitHub/bgmc/python/data/osg_output/run_19_all_powerlaw_fits.csv\"\n",
    "# neighbor=1\n",
    "# vector-summed forces\n",
    "# input_fn=f\"/home/timothytyree/Documents/GitHub/bgmc/python/data/osg_output/run_17_all_powerlaw_fits.csv\"\n",
    "# input_fn=f\"{nb_dir}/data/osg_output/run_17_all_powerlaw_fits.csv\"\n",
    "neighbor=0\n",
    "\n",
    "#TODO: aggregate powerlaw fits with neighbor-only or vector-summed fits \n",
    "#TODO: aggregate powerlaw fits with D>=1.2\n",
    "\n",
    "\n",
    "df=pd.read_csv(input_fn)\n",
    "#query the DataFrame\n",
    "query =(df.set_second==set_second)&(df.reflect==reflect)\n",
    "query&=(df.no_repulsion==no_repulsion)&(df.no_attraction==no_attraction)\n",
    "query&=(df.neighbor==neighbor)&(df.force_code==force_code)\n",
    "# query&=df.r==r\n",
    "# query&=df.kappa==kappa\n",
    "# query&=df.D==D\n",
    "query&=df.L==L\n",
    "# query&=df.varkappa==varkappa\n",
    "dg=df[query]"
   ]
  },
  {
   "cell_type": "code",
   "execution_count": 63,
   "id": "01d82fe5",
   "metadata": {
    "ExecuteTime": {
     "end_time": "2022-08-17T21:24:55.204488Z",
     "start_time": "2022-08-17T21:24:55.184385Z"
    }
   },
   "outputs": [
    {
     "name": "stdout",
     "output_type": "stream",
     "text": [
      "fk_pbc lr_pbc fk_ncbc lr_ncbc\n",
      "m=1.8772341309722325\n",
      "Delta_m=0.02498750277237229\n",
      "M=5.572315674840435\n",
      "Delta_M=0.3053120355191732\n",
      "b=1.665608066257863\n",
      "Delta_b=0.029341409948945123\n"
     ]
    }
   ],
   "source": [
    "#DONE: recall desired powerlaw fit\n",
    "# Recall powerlaw fits to full models\n",
    "wjr=recall_powerlaw_fits_to_full_models()\n",
    "print(*wjr)\n",
    "\n",
    "#select fenton-karma model\n",
    "dict_fit = wjr['fk_pbc']\n",
    "alinear= 1.553 #(16) cm^2/s\n",
    "D = 0.114 #(8) cm^2/s\n",
    "\n",
    "# #select luo-rudy model\n",
    "# dict_fit = wjr['lr_pbc']\n",
    "# alinear= 9.969 #(100) cm^2/s\n",
    "# D = 0.09 #(50) cm^2/s\n",
    "\n",
    "\n",
    "print_dict(dict_fit)\n",
    "m=dict_fit['m']\n",
    "M=dict_fit['M']"
   ]
  },
  {
   "cell_type": "code",
   "execution_count": null,
   "id": "d33e69b4",
   "metadata": {},
   "outputs": [],
   "source": []
  },
  {
   "cell_type": "code",
   "execution_count": null,
   "id": "dc17b142",
   "metadata": {},
   "outputs": [],
   "source": []
  },
  {
   "cell_type": "code",
   "execution_count": 64,
   "id": "4f1d986f",
   "metadata": {
    "ExecuteTime": {
     "end_time": "2022-08-17T21:24:56.263677Z",
     "start_time": "2022-08-17T21:24:56.242117Z"
    }
   },
   "outputs": [],
   "source": [
    "# # input_fn=f\"/home/timothytyree/Documents/GitHub/bgmc/python/data/osg_output/run_24_all_powerlaw_fits.csv\"\n",
    "# input_fn=f\"/home/timothytyree/Documents/GitHub/bgmc/python/data/osg_output/run_25_all_powerlaw_fits.csv\"\n",
    "# df=pd.read_csv(input_fn)\n",
    "# # df = comp_rmse_powerlaw(df,q_values,M,m,dq=0.05)\n",
    "# df = comp_rmse_powerlaw(df,M=M,m=m,dq=0.05)\n",
    "# df.sort_values(by='rmse',inplace=True)\n",
    "# df['rmse'].values"
   ]
  },
  {
   "cell_type": "code",
   "execution_count": 67,
   "id": "3f54649e",
   "metadata": {
    "ExecuteTime": {
     "end_time": "2022-08-17T21:25:07.109803Z",
     "start_time": "2022-08-17T21:25:07.092002Z"
    }
   },
   "outputs": [
    {
     "name": "stdout",
     "output_type": "stream",
     "text": [
      "alinear=1.553, D=0.114\n",
      "showing settings with r=1.7, sorted by rmse\n"
     ]
    }
   ],
   "source": [
    "# r=1.7\n",
    "col_lst=['varkappa','D','r','kappa','rmse']\n",
    "# col_lst=['varkappa','D','r','kappa','rmse', 'm', 'M']\n",
    "# boo = df['r']==r\n",
    "print(f\"{alinear=}, {D=}\")\n",
    "print(f\"showing settings with {r=}, sorted by rmse\")\n",
    "# dg=df[boo]\n",
    "dg=df#[boo]\n",
    "# df[boo][col_lst].head(20)"
   ]
  },
  {
   "cell_type": "markdown",
   "id": "c942f4a8",
   "metadata": {},
   "source": [
    "root cause confirmed...\n",
    "- RESOLVED: run #25 involves ranges up to r=1.7, which was only in run #24\n",
    "    - DONE: redownload run #25 from osg\n",
    "            - ERROR: mv: cannot move 'run_X_all' to 'run_25_all/run_X_all': Directory not empty\n",
    "            - ^that fixed it.\n",
    "    - DONE: recompute powerlaw fits\n",
    "\n",
    "\n",
    "- TODO: import powerlaw fits and find a low range r,kappa setting that reproduces the fit of the full model"
   ]
  },
  {
   "cell_type": "code",
   "execution_count": 68,
   "id": "1474d18c",
   "metadata": {
    "ExecuteTime": {
     "end_time": "2022-08-17T21:25:08.262462Z",
     "start_time": "2022-08-17T21:25:08.241864Z"
    }
   },
   "outputs": [],
   "source": [
    "#define parameters to be varied\n",
    "# input_cols=['r','D','varkappa']#\n",
    "input_cols=['r','kappa','varkappa','D']#\n",
    "# output_cols=['m','Delta_m','M','Delta_M']#2 minute runtime\n",
    "output_cols=['m','M']#2.75 minute runtime paradoxically...\n",
    "#inputs:dg,input_cols,output_col\n",
    "#output: fitted model\n",
    "\n",
    "Xall=dg[input_cols].values \n",
    "yall=dg[output_cols].values"
   ]
  },
  {
   "cell_type": "code",
   "execution_count": 69,
   "id": "2fb2ceb3",
   "metadata": {
    "ExecuteTime": {
     "end_time": "2022-08-17T21:30:16.422732Z",
     "start_time": "2022-08-17T21:25:09.234049Z"
    }
   },
   "outputs": [
    {
     "name": "stdout",
     "output_type": "stream",
     "text": [
      "number of training examples is 17640.\n",
      "estimated runtime is ~20 seconds...\n",
      "training complete!\n"
     ]
    }
   ],
   "source": [
    "X=Xall.copy()\n",
    "y=yall.copy()\n",
    "m = len(y) # number of training examples\n",
    "print(f'number of training examples is {m:d}.')\n",
    "print(f\"estimated runtime is ~{20+120*int(testing)} seconds...\")\n",
    "\n",
    "interp = LinearNDInterpolator(X, y)\n",
    "# interp = CloughTocher2DInterpolator(X, y)\n",
    "print(f\"training complete!\")\n",
    "if testing:\n",
    "    yhat = interp(X)\n",
    "    print(f\"shape of X {X.shape} --> shape of y=yhat {yhat.shape}\")\n",
    "\n",
    "    rmse=np.sqrt(np.mean((yhat-y)**2))\n",
    "    print(f\"the rmse of simple interpolation is {rmse:.4f}\")"
   ]
  },
  {
   "cell_type": "markdown",
   "id": "65376225",
   "metadata": {},
   "source": [
    "# Generate plots of annihilation rates for each apparent parameter setting"
   ]
  },
  {
   "cell_type": "markdown",
   "id": "b878a569",
   "metadata": {},
   "source": [
    "## Luo-Rudy"
   ]
  },
  {
   "cell_type": "code",
   "execution_count": 70,
   "id": "4348d553",
   "metadata": {
    "ExecuteTime": {
     "end_time": "2022-08-17T21:30:16.590475Z",
     "start_time": "2022-08-17T21:30:16.563850Z"
    }
   },
   "outputs": [
    {
     "data": {
      "text/plain": [
       "<scipy.interpolate.interpnd.LinearNDInterpolator at 0x7fa2784512e0>"
      ]
     },
     "execution_count": 70,
     "metadata": {},
     "output_type": "execute_result"
    }
   ],
   "source": [
    "interp"
   ]
  },
  {
   "cell_type": "code",
   "execution_count": null,
   "id": "86cfd7b0",
   "metadata": {
    "ExecuteTime": {
     "end_time": "2022-08-16T02:35:49.181896Z",
     "start_time": "2022-08-16T02:35:49.181870Z"
    }
   },
   "outputs": [],
   "source": [
    "model_name='lr_pbc'\n",
    "c='C1'\n",
    "# model_name='fk_pbc'\n",
    "# c='C0'\n",
    "\n",
    "#compute annihilation rates \n",
    "nu_full=wjr[model_name]['m']\n",
    "M_full=wjr[model_name]['M']\n",
    "q_values=np.linspace(0,1,20)\n",
    "w_values=M_full*q_values**nu_full\n",
    "\n",
    "if model_name=='lr_pbc':\n",
    "    model_name_string='Luo-Rudy'\n",
    "elif model_name=='fk_pbc':\n",
    "    model_name_string='Fenton-Karma'\n",
    "else:\n",
    "    model_name_string='??'"
   ]
  },
  {
   "cell_type": "code",
   "execution_count": null,
   "id": "0cf99fb2",
   "metadata": {
    "ExecuteTime": {
     "end_time": "2022-08-16T02:35:49.183318Z",
     "start_time": "2022-08-16T02:35:49.183304Z"
    },
    "scrolled": true
   },
   "outputs": [],
   "source": [
    "#DONE: plotted how bad the fits are if LR gets alinear~3 instead of alinear~10\n",
    "# a=a_hat_LR_long\n",
    "# # a=a_hat_LR\n",
    "# D=D_hat_LR\n",
    "\n",
    "# #from fit to wj's FK positions (200x200, diffcoeff: 0.0005)\n",
    "# a=1.553\n",
    "# D=0.114\n",
    "\n",
    "#from fit to wj's LR positions (200x200, diffcoeff: 0.001)\n",
    "a=9.969\n",
    "D=0.09\n",
    "\n",
    "#find a best r,kappa pair for a given a,D pair for a given full model\n",
    "args=a,D,q_values,w_values,interp\n",
    "bnds = ((1e-3, 2), (1e2, 1e4))\n",
    "# x0 = (0.1, 500)\n",
    "# x0 = (.2, 100)\n",
    "# x0 = (.3, 100)\n",
    "x0 = (.3, 100)\n",
    "res = minimize(comp_rmse_via_interp, x0, args, method='Nelder-Mead', bounds=bnds,tol=1e-3)\n",
    "# res = minimize(comp_rmse_via_interp, (0.1, 500), args, method='Nelder-Mead', bounds=bnds,tol=1e-3)\n",
    "mse=comp_mse_via_interp(res.x, *args)\n",
    "rmse=np.sqrt(mse)\n",
    "# rmse=comp_rmse_via_interp(res.x, *args)\n",
    "\n",
    "#compute the resulting annihilation rates\n",
    "r=res.x[0]\n",
    "kappa=res.x[1]\n",
    "X=np.array([[r,kappa,a,D]])\n",
    "yhat = interp(X)\n",
    "nu=yhat[0,0]\n",
    "M=yhat[0,1]\n",
    "# M=yhat[0,2]\n",
    "what_values=M*q_values**nu\n",
    "\n",
    "#plot the result over the original annihilation rates\n",
    "title=f'a={a:.3f}, D={D:.3f}'+r' cm$^2$/s'+f\"\\nr={r:.3f} cm, \"+r'$\\kappa$'+f'={kappa:.1f} Hz\\nRMSE={rmse:.4f}\\n'\n",
    "plt.plot(q_values,w_values,c=c,label=model_name_string,alpha=0.5,lw=2)\n",
    "plt.plot(q_values,what_values,c='C4',label='Best Fit to\\nParticle Model',alpha=0.5)\n",
    "format_plot(ax=plt.gca(),xlabel=r'$q$ (1/cm$^2$)',ylabel=r'$w$ (Hz/cm$^2$)')\n",
    "plt.legend(fontsize=15)\n",
    "plt.title(title,fontsize=15)\n",
    "plt.show()\n",
    "print(f\"a={a}, D={D}, r={r}, kappa={kappa}, rmse={rmse}\")"
   ]
  },
  {
   "cell_type": "code",
   "execution_count": null,
   "id": "e7495b12",
   "metadata": {
    "ExecuteTime": {
     "end_time": "2022-08-16T02:35:49.184574Z",
     "start_time": "2022-08-16T02:35:49.184563Z"
    }
   },
   "outputs": [],
   "source": [
    "#DONE: plotted how bad the fits are if LR gets alinear~3 instead of alinear~10\n",
    "# a=a_hat_LR_long\n",
    "# # a=a_hat_LR\n",
    "# D=D_hat_LR\n",
    "\n",
    "# #from fit to wj's LR positions (200x200, diffcoeff: 0.001)\n",
    "# a=9.969\n",
    "# D=0.09\n",
    "\n",
    "# #find a best r,kappa pair for a given a,D pair for a given full model\n",
    "# args=a,D,q_values,w_values,interp\n",
    "# bnds = ((1e-3, 2), (1e2, 1e4))\n",
    "# # x0 = (0.1, 500)\n",
    "# # x0 = (.2, 100)\n",
    "# # x0 = (.3, 100)\n",
    "# x0 = (.3, 100)\n",
    "# res = minimize(comp_rmse_via_interp, x0, args, method='Nelder-Mead', bounds=bnds,tol=1e-3)\n",
    "# # res = minimize(comp_rmse_via_interp, (0.1, 500), args, method='Nelder-Mead', bounds=bnds,tol=1e-3)\n",
    "# mse=comp_mse_via_interp(res.x, *args)\n",
    "# rmse=np.sqrt(mse)\n",
    "# # rmse=comp_rmse_via_interp(res.x, *args)\n",
    "\n",
    "# #compute the resulting annihilation rates\n",
    "# r=res.x[0]\n",
    "# kappa=res.x[1]\n",
    "# X=np.array([[r,kappa,a,D]])\n",
    "# yhat = interp(X)\n",
    "# nu=yhat[0,0]\n",
    "# M=yhat[0,1]\n",
    "\n",
    "# # col_lst=['varkappa','D','r','kappa','rmse', 'm', 'M']\n",
    "# # 9.969\t0.090\t1.7\t10\t7.584443\t2.657610\t40.864289\n",
    "# r = 1.7\n",
    "# kappa = 10 \n",
    "# nu = 2.657610\n",
    "# M = 40.864289\n",
    "# rmse = 7.584443\n",
    "# # M=yhat[0,2]\n",
    "# what_values=M*q_values**nu\n",
    "\n",
    "# col_lst=['varkappa','D','r','kappa','rmse', 'm', 'M']\n",
    "# 9.969\t0.090\t1.7\t10\t7.584443\t2.657610\t40.864289\n",
    "r = 1.7\n",
    "kappa = 10\n",
    "nu = 2.657610\n",
    "M = 40.864289\n",
    "rmse = 7.584443\n",
    "# M=yhat[0,2]\n",
    "what_values=M*q_values**nu\n",
    "\n",
    "#plot the result over the original annihilation rates\n",
    "title=f'a={a:.3f}, D={D:.3f}'+r' cm$^2$/s'+f\"\\nr={r:.3f} cm, \"+r'$\\kappa$'+f'={kappa:.1f} Hz\\nRMSE={rmse:.4f}\\n'\n",
    "plt.plot(q_values,w_values,c=c,label=model_name_string,alpha=0.5,lw=2)\n",
    "plt.plot(q_values,what_values,c='C4',label='Best Fit to\\nParticle Model',alpha=0.5)\n",
    "format_plot(ax=plt.gca(),xlabel=r'$q$ (1/cm$^2$)',ylabel=r'$w$ (Hz/cm$^2$)')\n",
    "plt.legend(fontsize=15)\n",
    "plt.title(title,fontsize=15)\n",
    "plt.show()\n",
    "print(f\"a={a}, D={D}, zr={r}, kappa={kappa}, rmse={rmse}\")"
   ]
  },
  {
   "cell_type": "code",
   "execution_count": null,
   "id": "2d6f357c",
   "metadata": {
    "ExecuteTime": {
     "end_time": "2022-08-16T02:35:49.185925Z",
     "start_time": "2022-08-16T02:35:49.185911Z"
    }
   },
   "outputs": [],
   "source": [
    "# a=a_hat_LR_long\n",
    "a=a_hat_LR\n",
    "D=D_hat_LR\n",
    "#find a best r,kappa pair for a given a,D pair for a given full model\n",
    "args=a,D,q_values,w_values,interp\n",
    "bnds = ((1e-3, 2), (1e2, 1e4))\n",
    "x0 = (0.1, 500)\n",
    "res = minimize(comp_rmse_via_interp, (0.1, 500), args, method='Nelder-Mead', bounds=bnds,tol=1e-3)\n",
    "mse=comp_mse_via_interp(res.x, *args)\n",
    "rmse=np.sqrt(mse)\n",
    "# rmse=comp_rmse_via_interp(res.x, *args)\n",
    "\n",
    "\n",
    "#compute the resulting annihilation rates\n",
    "r=res.x[0]\n",
    "kappa=res.x[1]\n",
    "X=np.array([[r,kappa,a,D]])\n",
    "yhat = interp(X)\n",
    "nu=yhat[0,0]\n",
    "M=yhat[0,1]\n",
    "# M=yhat[0,2]\n",
    "what_values=M*q_values**nu\n",
    "\n",
    "#plot the result over the original annihilation rates\n",
    "title=f'a={a:.3f}, D={D:.3f}'+r' cm$^2$/s'+f\"\\nr={r:.3f} cm, \"+r'$\\kappa$'+f'={kappa:.1f} Hz\\nRMSE={rmse:.4f}\\n'\n",
    "plt.plot(q_values,w_values,c=c,label=model_name_string,alpha=0.5,lw=2)\n",
    "plt.plot(q_values,what_values,c='C4',label='Best Fit to\\nParticle Model',alpha=0.5)\n",
    "format_plot(ax=plt.gca(),xlabel=r'$q$ (1/cm$^2$)',ylabel=r'$w$ (Hz/cm$^2$)')\n",
    "plt.legend(fontsize=15)\n",
    "plt.title(title,fontsize=15)\n",
    "plt.show()\n",
    "print(f\"a={a}, D={D}, r={r}, kappa={kappa}, rmse={rmse}\")"
   ]
  },
  {
   "cell_type": "markdown",
   "id": "f6be3c1f",
   "metadata": {
    "heading_collapsed": true
   },
   "source": [
    "## Fenton-Karma"
   ]
  },
  {
   "cell_type": "code",
   "execution_count": null,
   "id": "20beac63",
   "metadata": {
    "ExecuteTime": {
     "end_time": "2022-08-16T02:35:49.187410Z",
     "start_time": "2022-08-16T02:35:49.187395Z"
    },
    "hidden": true
   },
   "outputs": [],
   "source": [
    "# model_name='lr_pbc'\n",
    "# c='C1'\n",
    "model_name='fk_pbc'\n",
    "c='C0'\n",
    "\n",
    "#compute annihilation rates \n",
    "nu_full=wjr[model_name]['m']\n",
    "M_full=wjr[model_name]['M']\n",
    "q_values=np.linspace(0,1,20)\n",
    "w_values=M_full*q_values**nu_full\n",
    "\n",
    "if model_name=='lr_pbc':\n",
    "    model_name_string='Luo-Rudy'\n",
    "elif model_name=='fk_pbc':\n",
    "    model_name_string='Fenton-Karma'\n",
    "else:\n",
    "    model_name_string='??'"
   ]
  },
  {
   "cell_type": "code",
   "execution_count": null,
   "id": "d960cc71",
   "metadata": {
    "ExecuteTime": {
     "end_time": "2022-08-16T02:35:49.188898Z",
     "start_time": "2022-08-16T02:35:49.188878Z"
    },
    "hidden": true
   },
   "outputs": [],
   "source": [
    "# #DONE: plotted how bad the fits are if FK gets alinear~7 instead of alinear~1.5\n",
    "# a=a_hat_FK\n",
    "# D=D_hat_FK\n",
    "\n",
    "#from fit to wj's FK positions (200x200, diffcoeff: 0.0005)\n",
    "a=1.553\n",
    "D=0.114\n",
    "\n",
    "#find a best r,kappa pair for a given a,D pair for a given full model\n",
    "args=a,D,q_values,w_values,interp\n",
    "bnds = ((1e-3, 2), (1e2, 1e4))\n",
    "# x0 = (0.1, 500)\n",
    "# x0 = (0.3, 700)\n",
    "# x0 = (0.5, 400)\n",
    "res = minimize(comp_rmse_via_interp, x0, args, method='Nelder-Mead', bounds=bnds,tol=1e-3)\n",
    "# res = minimize(comp_rmse_via_interp, (0.1, 500), args, method='Nelder-Mead', bounds=bnds,tol=1e-3)\n",
    "mse=comp_mse_via_interp(res.x, *args)\n",
    "rmse=np.sqrt(mse)\n",
    "# rmse=comp_rmse_via_interp(res.x, *args)\n",
    "\n",
    "#compute the resulting annihilation rates\n",
    "r=res.x[0]\n",
    "kappa=res.x[1]\n",
    "X=np.array([[r,kappa,a,D]])\n",
    "yhat = interp(X)\n",
    "nu=yhat[0,0]\n",
    "M=yhat[0,1]\n",
    "# M=yhat[0,2]\n",
    "what_values=M*q_values**nu\n",
    "\n",
    "#plot the result over the original annihilation rates\n",
    "title=f'a={a:.3f}, D={D:.3f}'+r' cm$^2$/s'+f\"\\nr={r:.3f} cm, \"+r'$\\kappa$'+f'={kappa:.1f} Hz\\nRMSE={rmse:.4f}\\n'\n",
    "plt.plot(q_values,w_values,c=c,label=model_name_string,alpha=0.5,lw=2)\n",
    "plt.plot(q_values,what_values,c='C4',label='Best Fit to\\nParticle Model',alpha=0.5)\n",
    "format_plot(ax=plt.gca(),xlabel=r'$q$ (1/cm$^2$)',ylabel=r'$w$ (Hz/cm$^2$)')\n",
    "plt.legend(fontsize=15)\n",
    "plt.title(title,fontsize=15)\n",
    "plt.show()\n",
    "print(f\"a={a}, D={D}, r={r}, kappa={kappa}, rmse={rmse}\")"
   ]
  },
  {
   "cell_type": "code",
   "execution_count": null,
   "id": "d24bff6a",
   "metadata": {
    "ExecuteTime": {
     "end_time": "2022-08-16T02:35:49.190726Z",
     "start_time": "2022-08-16T02:35:49.190708Z"
    },
    "hidden": true
   },
   "outputs": [],
   "source": [
    ".239**2*139."
   ]
  },
  {
   "cell_type": "code",
   "execution_count": null,
   "id": "43595404",
   "metadata": {
    "ExecuteTime": {
     "end_time": "2022-08-16T02:35:49.192169Z",
     "start_time": "2022-08-16T02:35:49.192152Z"
    },
    "hidden": true
   },
   "outputs": [],
   "source": [
    ".3**2*100"
   ]
  },
  {
   "cell_type": "code",
   "execution_count": null,
   "id": "828bd625",
   "metadata": {
    "ExecuteTime": {
     "end_time": "2022-08-16T02:35:49.193841Z",
     "start_time": "2022-08-16T02:35:49.193824Z"
    },
    "hidden": true
   },
   "outputs": [],
   "source": [
    "a=a_hat_FK_long\n",
    "D=D_hat_FK\n",
    "#find a best r,kappa pair for a given a,D pair for a given full model\n",
    "args=a,D,q_values,w_values,interp\n",
    "bnds = ((1e-3, 2), (1e2, 1e4))\n",
    "x0 = (0.1, 500)\n",
    "res = minimize(comp_rmse_via_interp, (0.1, 500), args, method='Nelder-Mead', bounds=bnds,tol=1e-3)\n",
    "mse=comp_mse_via_interp(res.x, *args)\n",
    "rmse=np.sqrt(mse)\n",
    "# rmse=comp_rmse_via_interp(res.x, *args)\n",
    "\n",
    "#compute the resulting annihilation rates\n",
    "r=res.x[0]\n",
    "kappa=res.x[1]\n",
    "X=np.array([[r,kappa,a,D]])\n",
    "yhat = interp(X)\n",
    "nu=yhat[0,0]\n",
    "M=yhat[0,1]\n",
    "# M=yhat[0,2]\n",
    "what_values=M*q_values**nu\n",
    "\n",
    "#plot the result over the original annihilation rates\n",
    "title=f'a={a:.3f}, D={D:.3f}'+r' cm$^2$/s'+f\"\\nr={r:.3f} cm, \"+r'$\\kappa$'+f'={kappa:.1f} Hz\\nRMSE={rmse:.4f}\\n'\n",
    "plt.plot(q_values,w_values,c=c,label=model_name_string,alpha=0.5,lw=2)\n",
    "plt.plot(q_values,what_values,c='C4',label='Best Fit to\\nParticle Model',alpha=0.5)\n",
    "format_plot(ax=plt.gca(),xlabel=r'$q$ (1/cm$^2$)',ylabel=r'$w$ (Hz/cm$^2$)')\n",
    "plt.legend(fontsize=15)\n",
    "plt.title(title,fontsize=15)\n",
    "plt.show()\n",
    "print(f\"a={a}, D={D}, r={r}, kappa={kappa}, rmse={rmse}\")"
   ]
  },
  {
   "cell_type": "code",
   "execution_count": null,
   "id": "3ac94f28",
   "metadata": {
    "ExecuteTime": {
     "end_time": "2022-08-16T02:35:49.195048Z",
     "start_time": "2022-08-16T02:35:49.195030Z"
    },
    "hidden": true
   },
   "outputs": [],
   "source": [
    "a=a_hat_FK_vlong\n",
    "D=D_hat_FK\n",
    "#find a best r,kappa pair for a given a,D pair for a given full model\n",
    "args=a,D,q_values,w_values,interp\n",
    "bnds = ((1e-3, 2), (1e2, 1e4))\n",
    "x0 = (0.1, 500)\n",
    "res = minimize(comp_rmse_via_interp, (0.1, 500), args, method='Nelder-Mead', bounds=bnds,tol=1e-3)\n",
    "mse=comp_mse_via_interp(res.x, *args)\n",
    "rmse=np.sqrt(mse)\n",
    "# rmse=comp_rmse_via_interp(res.x, *args)\n",
    "\n",
    "#compute the resulting annihilation rates\n",
    "r=res.x[0]\n",
    "kappa=res.x[1]\n",
    "X=np.array([[r,kappa,a,D]])\n",
    "yhat = interp(X)\n",
    "nu=yhat[0,0]\n",
    "M=yhat[0,1]\n",
    "# M=yhat[0,2]\n",
    "what_values=M*q_values**nu\n",
    "\n",
    "#plot the result over the original annihilation rates\n",
    "title=f'a={a:.3f}, D={D:.3f}'+r' cm$^2$/s'+f\"\\nr={r:.3f} cm, \"+r'$\\kappa$'+f'={kappa:.1f} Hz\\nRMSE={rmse:.4f}\\n'\n",
    "plt.plot(q_values,w_values,c=c,label=model_name_string,alpha=0.5,lw=2)\n",
    "plt.plot(q_values,what_values,c='C4',label='Best Fit to\\nParticle Model',alpha=0.5)\n",
    "format_plot(ax=plt.gca(),xlabel=r'$q$ (1/cm$^2$)',ylabel=r'$w$ (Hz/cm$^2$)')\n",
    "plt.legend(fontsize=15)\n",
    "plt.title(title,fontsize=15)\n",
    "plt.show()\n",
    "print(f\"a={a}, D={D}, r={r}, kappa={kappa}, rmse={rmse}\")"
   ]
  },
  {
   "cell_type": "markdown",
   "id": "bedef020",
   "metadata": {},
   "source": [
    "# TODO: Generate plots of annihilation rates for a given pair of parameter settings fit to the full models"
   ]
  },
  {
   "cell_type": "code",
   "execution_count": null,
   "id": "503b5851",
   "metadata": {
    "ExecuteTime": {
     "end_time": "2022-08-16T02:35:49.197176Z",
     "start_time": "2022-08-16T02:35:49.197155Z"
    }
   },
   "outputs": [],
   "source": [
    "# minimize"
   ]
  },
  {
   "cell_type": "code",
   "execution_count": 48,
   "id": "578237af",
   "metadata": {
    "ExecuteTime": {
     "end_time": "2022-08-17T21:23:38.292770Z",
     "start_time": "2022-08-17T21:23:38.266607Z"
    },
    "code_folding": []
   },
   "outputs": [],
   "source": [
    "# def PlotParticlModelAnnihilationRateFit(model_name,c,a,D,wjr,interp,ax=None,**kwargs):\n",
    "#     \"\"\"\n",
    "#     Example Usage:\n",
    "#     interp=recall_particle_model_interp()\n",
    "#     dict_out=PlotParticlModelAnnihilationRateFit(model_name,c,a,D,wjr,interp,ax=None)\n",
    "#     \"\"\"\n",
    "#     if ax is None:\n",
    "#         ax=plt.gca()\n",
    "#     plt.sca(ax)\n",
    "#     #compute annihilation rates \n",
    "#     nu_full=wjr[model_name]['m']\n",
    "#     M_full=wjr[model_name]['M']\n",
    "#     q_values=np.linspace(0,1,20)\n",
    "#     w_values=M_full*q_values**nu_full\n",
    "\n",
    "#     if model_name=='lr_pbc':\n",
    "#         model_name_string='Luo-Rudy'\n",
    "#     elif model_name=='fk_pbc':\n",
    "#         model_name_string='Fenton-Karma'\n",
    "#     else:\n",
    "#         model_name_string='??'\n",
    "\n",
    "#     #find a best r,kappa pair for a given a,D pair for a given full model\n",
    "#     args=a,D,q_values,w_values,interp\n",
    "#     bnds = ((1e-3, 2), (1e2, 1e4))\n",
    "#     x0 = (0.1, 500)\n",
    "#     res = minimize(comp_rmse_via_interp, (0.1, 500), args, method='Nelder-Mead', bounds=bnds,tol=1e-3)\n",
    "#     mse=comp_mse_via_interp(res.x, *args)\n",
    "#     rmse=np.sqrt(mse)\n",
    "# #     rmse=comp_rmse_via_interp(res.x, *args)\n",
    "# #     # print(f\"a={a}, D={D}, r={r}, kappa={kappa}, rmse={rmse}\")\n",
    "\n",
    "#     #compute the resulting annihilation rates\n",
    "#     r=res.x[0]\n",
    "#     kappa=res.x[1]\n",
    "#     X=np.array([[r,kappa,a,D]])\n",
    "#     yhat = interp(X)\n",
    "#     nu=yhat[0,0]\n",
    "#     M=yhat[0,1]\n",
    "#     # M=yhat[0,2]\n",
    "#     what_values=M*q_values**nu\n",
    "\n",
    "#     #plot the result over the original annihilation rates\n",
    "#     title=f'a={a:.3f}, D={D:.3f}'+r' cm$^2$/s'+f\"\\nr={r:.3f} cm, \"+r'$\\kappa$'+f'={kappa:.1f} Hz\\nRMSE={rmse:.4f}\\n'\n",
    "#     plt.plot(q_values,w_values,c='k',alpha=0.1,lw=3)\n",
    "#     plt.plot(q_values,what_values,'--',c=c,label=f'Fit to\\n{model_name_string}',alpha=1)\n",
    "#     #plt.plot(q_values,w_values,c=c,label=model_name_string,alpha=0.5,lw=2)\n",
    "#     #plt.plot(q_values,what_values,c='C4',label='Fit to\\nParticle Model',alpha=0.5)\n",
    "#     format_plot(ax=plt.gca(),xlabel=r'$q$ (1/cm$^2$)',ylabel=r'$w$ (Hz/cm$^2$)')\n",
    "#     plt.legend(fontsize=15)\n",
    "#     plt.title(title,fontsize=15)\n",
    "#     print(f\"a={a}, D={D}, r={r}, kappa={kappa}, rmse={rmse}\")\n",
    "#     return dict(r=r,kappa=kappa,nu=nu,M=M,rmse=rmse,res=res)\n",
    "    \n",
    "def PlotParticlModelAnnihilationFit(model_name,c,a,D,wjr,ax=None,**kwargs):\n",
    "    \"\"\"\n",
    "    \n",
    "    \"\"\"\n",
    "    if ax is None:\n",
    "        ax=plt.gca()\n",
    "    plt.sca(ax)\n",
    "    #compute annihilation rates \n",
    "    nu_full=wjr[model_name]['m']\n",
    "    M_full=wjr[model_name]['M']\n",
    "    q_values=np.linspace(0,1,20)\n",
    "    w_values=M_full*q_values**nu_full\n",
    "\n",
    "    if model_name=='lr_pbc':\n",
    "        model_name_string='Luo-Rudy'\n",
    "    elif model_name=='fk_pbc':\n",
    "        model_name_string='Fenton-Karma'\n",
    "    else:\n",
    "        model_name_string='??'\n",
    "\n",
    "    #find a best r,kappa pair for a given a,D pair for a given full model\n",
    "    args=a,D,q_values,w_values,interp\n",
    "    bnds = ((1e-3, 2), (1e2, 1e4))\n",
    "    x0 = (0.1, 500)\n",
    "    res = minimize(comp_rmse_via_interp, (0.1, 500), args, method='Nelder-Mead', bounds=bnds,tol=1e-3)\n",
    "    mse=comp_mse_via_interp(res.x, *args)\n",
    "    rmse=np.sqrt(mse)\n",
    "#     rmse=comp_rmse_via_interp(res.x, *args)\n",
    "#     # print(f\"a={a}, D={D}, r={r}, kappa={kappa}, rmse={rmse}\")\n",
    "\n",
    "    #compute the resulting annihilation rates\n",
    "    r=res.x[0]\n",
    "    kappa=res.x[1]\n",
    "    X=np.array([[r,kappa,a,D]])\n",
    "    yhat = interp(X)\n",
    "    nu=yhat[0,0]\n",
    "    M=yhat[0,1]\n",
    "    # M=yhat[0,2]\n",
    "    what_values=M*q_values**nu\n",
    "\n",
    "    #plot the result over the original annihilation rates\n",
    "    title=f'a={a:.3f}, D={D:.3f}'+r' cm$^2$/s'+f\"\\nr={r:.3f} cm, \"+r'$\\kappa$'+f'={kappa:.1f} Hz\\nRMSE={rmse:.4f}\\n'\n",
    "    plt.plot(q_values,w_values,c='k',alpha=0.1,lw=3)\n",
    "    plt.plot(q_values,what_values,'--',c=c,label=f'Fit to\\n{model_name_string}',alpha=1)\n",
    "    #plt.plot(q_values,w_values,c=c,label=model_name_string,alpha=0.5,lw=2)\n",
    "    #plt.plot(q_values,what_values,c='C4',label='Fit to\\nParticle Model',alpha=0.5)\n",
    "    format_plot(ax=plt.gca(),xlabel=r'$q$ (1/cm$^2$)',ylabel=r'$w$ (Hz/cm$^2$)')\n",
    "    plt.legend(fontsize=15)\n",
    "    plt.title(title,fontsize=15)\n",
    "    print(f\"a={a}, D={D}, r={r}, kappa={kappa}, rmse={rmse}\")\n",
    "    return dict(r=r,kappa=kappa,nu=nu,M=M,rmse=rmse,res=res)"
   ]
  },
  {
   "cell_type": "code",
   "execution_count": 49,
   "id": "4c83c081",
   "metadata": {
    "ExecuteTime": {
     "end_time": "2022-08-17T21:23:41.497730Z",
     "start_time": "2022-08-17T21:23:41.477861Z"
    }
   },
   "outputs": [],
   "source": [
    "#visual estimates from the oscillatory model\n",
    "D_osc_FK=0.8\n",
    "D_osc_LR=1.2\n",
    "a_osc_FK=1.6\n",
    "a_osc_LR=8.5/2\n",
    "a_hat_osc_FK=1.60\n",
    "a_hatosc_LR=2.24"
   ]
  },
  {
   "cell_type": "code",
   "execution_count": null,
   "id": "d22df24d",
   "metadata": {
    "ExecuteTime": {
     "end_time": "2022-08-16T02:35:49.202274Z",
     "start_time": "2022-08-16T02:35:49.202254Z"
    }
   },
   "outputs": [],
   "source": [
    "model_name1='fk_pbc'\n",
    "c1='C0'\n",
    "model_name2='lr_pbc'\n",
    "c2='C1'\n",
    "# a1=a_osc_FK; D1=D_osc_FK;\n",
    "# a2=a_osc_LR; D2=D_osc_LR;\n",
    "a1=a_osc_FK; D1=D_osc_FK;\n",
    "a2=a_osc_LR; D2=D_osc_LR;\n",
    "\n",
    "\n",
    "\n",
    "kwargs={}\n",
    "retval1= PlotParticlModelAnnihilationFit(model_name1,c1,a1,D1,wjr,ax=None,**kwargs)\n",
    "retval2= PlotParticlModelAnnihilationFit(model_name2,c2,a2,D2,wjr,ax=None,**kwargs)\n",
    "plt.show()"
   ]
  },
  {
   "cell_type": "code",
   "execution_count": null,
   "id": "fc744f2a",
   "metadata": {
    "ExecuteTime": {
     "end_time": "2022-08-16T02:35:49.204028Z",
     "start_time": "2022-08-16T02:35:49.204004Z"
    }
   },
   "outputs": [],
   "source": [
    "# model_name,c,a,D=model_name1,c1,a1,D1\n",
    "model_name,c,a,D=model_name2,c2,a2,D2\n",
    "\n",
    "# if ax is None:\n",
    "#     ax=plt.gca()\n",
    "# plt.sca(ax)\n",
    "#compute annihilation rates \n",
    "nu_full=wjr[model_name]['m']\n",
    "M_full=wjr[model_name]['M']\n",
    "q_values=np.linspace(0,1,20)\n",
    "w_values=M_full*q_values**nu_full\n",
    "\n",
    "if model_name=='lr_pbc':\n",
    "    model_name_string='Luo-Rudy'\n",
    "elif model_name=='fk_pbc':\n",
    "    model_name_string='Fenton-Karma'\n",
    "else:\n",
    "    model_name_string='??'\n",
    "\n",
    "#find a best r,kappa pair for a given a,D pair for a given full model\n",
    "args=a,D,q_values,w_values,interp\n",
    "bnds = ((1e-3, 2), (1e2, 1e4))\n",
    "x0 = (0.1, 500)\n",
    "res = minimize(comp_rmse_via_interp, (0.1, 500), args, method='Nelder-Mead', bounds=bnds,tol=1e-3)\n",
    "mse=comp_mse_via_interp(res.x, *args)\n",
    "rmse=np.sqrt(mse)\n",
    "#     rmse=comp_rmse_via_interp(res.x, *args)\n",
    "\n",
    "#compute the resulting annihilation rates\n",
    "r=res.x[0]\n",
    "kappa=res.x[1]\n",
    "X=np.array([[r,kappa,a,D]])\n",
    "yhat = interp(X)\n",
    "nu=yhat[0,0]\n",
    "M=yhat[0,1]\n",
    "# M=yhat[0,2]\n",
    "what_values=M*q_values**nu\n",
    "\n",
    "\n",
    "print(f\"a={a}, D={D}, r={r}, kappa={kappa}, rmse={rmse}\")"
   ]
  },
  {
   "cell_type": "code",
   "execution_count": null,
   "id": "addacafa",
   "metadata": {
    "ExecuteTime": {
     "end_time": "2022-08-16T02:35:49.205961Z",
     "start_time": "2022-08-16T02:35:49.205937Z"
    }
   },
   "outputs": [],
   "source": [
    "args"
   ]
  },
  {
   "cell_type": "code",
   "execution_count": null,
   "id": "531b712c",
   "metadata": {
    "ExecuteTime": {
     "end_time": "2022-08-16T02:35:49.207848Z",
     "start_time": "2022-08-16T02:35:49.207830Z"
    }
   },
   "outputs": [],
   "source": [
    "res = minimize(comp_rmse_via_interp, (0.1, 500), args, method='trust-krylov', bounds=bnds,tol=None)\n",
    "mse=comp_mse_via_interp(res.x, *args)\n",
    "print(f\"mse={mse:.4f}\")"
   ]
  },
  {
   "cell_type": "markdown",
   "id": "67f8b7ae",
   "metadata": {},
   "source": [
    "\n",
    "__Methods Available__\n",
    "- 'Nelder-Mead' :ref:`(see here) <optimize.minimize-neldermead>`\n",
    "- 'Powell'      :ref:`(see here) <optimize.minimize-powell>`\n",
    "- 'CG'          :ref:`(see here) <optimize.minimize-cg>`\n",
    "- 'BFGS'        :ref:`(see here) <optimize.minimize-bfgs>`\n",
    "- 'Newton-CG'   :ref:`(see here) <optimize.minimize-newtoncg>`\n",
    "- 'L-BFGS-B'    :ref:`(see here) <optimize.minimize-lbfgsb>`\n",
    "- 'TNC'         :ref:`(see here) <optimize.minimize-tnc>`\n",
    "- 'COBYLA'      :ref:`(see here) <optimize.minimize-cobyla>`\n",
    "- 'SLSQP'       :ref:`(see here) <optimize.minimize-slsqp>`\n",
    "- 'trust-constr':ref:`(see here) <optimize.minimize-trustconstr>`\n",
    "- 'dogleg'      :ref:`(see here) <optimize.minimize-dogleg>`\n",
    "- 'trust-ncg'   :ref:`(see here) <optimize.minimize-trustncg>`\n",
    "- 'trust-exact' :ref:`(see here) <optimize.minimize-trustexact>`\n",
    "- 'trust-krylov' :ref:`(see here) <optimize.minimize-trustkrylov>`\n",
    "- custom - a callable object (added in version 0.14.0),\n",
    "  see below for description."
   ]
  },
  {
   "cell_type": "code",
   "execution_count": null,
   "id": "e3ab8a7a",
   "metadata": {},
   "outputs": [],
   "source": []
  },
  {
   "cell_type": "code",
   "execution_count": null,
   "id": "9013a671",
   "metadata": {},
   "outputs": [],
   "source": []
  },
  {
   "cell_type": "markdown",
   "id": "bd8a9f4d",
   "metadata": {},
   "source": [
    "__Interacting Particle Models that could potentially explain the apparent disagreement for the Luo-Rudy model at long time scales__\n",
    "\n",
    "Considering $C=\\sqrt{4D}$,\n",
    "\n",
    "$$\n",
    "dR = \\frac{-2a}{R}dt + CdW(t).\n",
    "$$\n",
    "\n",
    "The attracting inverse_powerlaw_model be changed to the fractional_powerlaw_model:\n",
    "\n",
    "$$\n",
    "dR = \\frac{-2a}{R^b}dt + CdW(t)\n",
    "$$\n",
    "\n",
    "for $b=0.716(1)$ (LR) or $b=0.797(2)$ (FK).\n",
    "\n",
    "\n",
    "The attracting inverse_powerlaw_model be changed to the attracting and repelling oscillatory_powerlaw_model:\n",
    "\n",
    "$$\n",
    "dR = \\frac{-2a}{R}\\cos(\\omega t + \\phi)dt + CdW(t)\n",
    "$$\n",
    "\n",
    "for $\\omega=2\\pi/T$ for $T=100$ ms (LR) or for $T=90$ ms (FK).  To keep the model simple, $\\phi=\\phi_0$ is a phase constant."
   ]
  },
  {
   "cell_type": "markdown",
   "id": "f864f968",
   "metadata": {
    "heading_collapsed": true
   },
   "source": [
    "# TODO: plot the full model's annihilation rates on one plot"
   ]
  },
  {
   "cell_type": "code",
   "execution_count": null,
   "id": "d847ce02",
   "metadata": {
    "hidden": true
   },
   "outputs": [],
   "source": []
  },
  {
   "cell_type": "code",
   "execution_count": null,
   "id": "d63e22c0",
   "metadata": {
    "hidden": true
   },
   "outputs": [],
   "source": []
  },
  {
   "cell_type": "code",
   "execution_count": null,
   "id": "e86a19ed",
   "metadata": {
    "hidden": true
   },
   "outputs": [],
   "source": []
  },
  {
   "cell_type": "code",
   "execution_count": null,
   "id": "eb3bdc76",
   "metadata": {
    "hidden": true
   },
   "outputs": [],
   "source": []
  },
  {
   "cell_type": "code",
   "execution_count": null,
   "id": "710113db",
   "metadata": {
    "hidden": true
   },
   "outputs": [],
   "source": []
  },
  {
   "cell_type": "code",
   "execution_count": null,
   "id": "ea058fad",
   "metadata": {
    "hidden": true
   },
   "outputs": [],
   "source": []
  },
  {
   "cell_type": "code",
   "execution_count": null,
   "id": "4cf741b5",
   "metadata": {
    "hidden": true
   },
   "outputs": [],
   "source": []
  },
  {
   "cell_type": "code",
   "execution_count": null,
   "id": "e0452ad0",
   "metadata": {
    "hidden": true
   },
   "outputs": [],
   "source": []
  },
  {
   "cell_type": "code",
   "execution_count": null,
   "id": "c1679486",
   "metadata": {
    "hidden": true
   },
   "outputs": [],
   "source": []
  },
  {
   "cell_type": "code",
   "execution_count": null,
   "id": "54aff5cf",
   "metadata": {
    "hidden": true
   },
   "outputs": [],
   "source": []
  },
  {
   "cell_type": "code",
   "execution_count": null,
   "id": "9e9330a9",
   "metadata": {
    "hidden": true
   },
   "outputs": [],
   "source": []
  },
  {
   "cell_type": "code",
   "execution_count": 17,
   "id": "e76a915c",
   "metadata": {
    "ExecuteTime": {
     "end_time": "2022-08-16T02:36:11.874655Z",
     "start_time": "2022-08-16T02:36:11.849148Z"
    },
    "hidden": true
   },
   "outputs": [
    {
     "data": {
      "text/plain": [
       "2"
      ]
     },
     "execution_count": 17,
     "metadata": {},
     "output_type": "execute_result"
    }
   ],
   "source": [
    "1+1"
   ]
  },
  {
   "cell_type": "code",
   "execution_count": null,
   "id": "be1401d2",
   "metadata": {
    "hidden": true
   },
   "outputs": [],
   "source": []
  }
 ],
 "metadata": {
  "hide_input": false,
  "kernelspec": {
   "display_name": "Python 3 (ipykernel)",
   "language": "python",
   "name": "python3"
  },
  "language_info": {
   "codemirror_mode": {
    "name": "ipython",
    "version": 3
   },
   "file_extension": ".py",
   "mimetype": "text/x-python",
   "name": "python",
   "nbconvert_exporter": "python",
   "pygments_lexer": "ipython3",
   "version": "3.9.13"
  },
  "nbTranslate": {
   "displayLangs": [
    "*"
   ],
   "hotkey": "alt-t",
   "langInMainMenu": true,
   "sourceLang": "en",
   "targetLang": "fr",
   "useGoogleTranslate": true
  },
  "toc": {
   "base_numbering": 1,
   "nav_menu": {},
   "number_sections": true,
   "sideBar": true,
   "skip_h1_title": false,
   "title_cell": "Table of Contents",
   "title_sidebar": "Contents",
   "toc_cell": false,
   "toc_position": {},
   "toc_section_display": true,
   "toc_window_display": false
  },
  "varInspector": {
   "cols": {
    "lenName": 16,
    "lenType": 16,
    "lenVar": 40
   },
   "kernels_config": {
    "python": {
     "delete_cmd_postfix": "",
     "delete_cmd_prefix": "del ",
     "library": "var_list.py",
     "varRefreshCmd": "print(var_dic_list())"
    },
    "r": {
     "delete_cmd_postfix": ") ",
     "delete_cmd_prefix": "rm(",
     "library": "var_list.r",
     "varRefreshCmd": "cat(var_dic_list()) "
    }
   },
   "types_to_exclude": [
    "module",
    "function",
    "builtin_function_or_method",
    "instance",
    "_Feature"
   ],
   "window_display": false
  }
 },
 "nbformat": 4,
 "nbformat_minor": 5
}
