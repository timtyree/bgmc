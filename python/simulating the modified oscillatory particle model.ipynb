{
 "cells": [
  {
   "cell_type": "markdown",
   "id": "7657c64a",
   "metadata": {},
   "source": [
    "# simulating minimalist modified oscillatory particle model\n",
    "Tim Tyree<br>\n",
    "4.27.2023"
   ]
  },
  {
   "cell_type": "code",
   "execution_count": 1,
   "id": "f69d727a",
   "metadata": {
    "ExecuteTime": {
     "end_time": "2023-05-02T00:41:22.575005Z",
     "start_time": "2023-05-02T00:41:20.692285Z"
    }
   },
   "outputs": [],
   "source": [
    "from lib.my_initialization import *"
   ]
  },
  {
   "cell_type": "code",
   "execution_count": 2,
   "id": "520ddbfa",
   "metadata": {
    "ExecuteTime": {
     "end_time": "2023-05-02T00:41:22.601542Z",
     "start_time": "2023-05-02T00:41:22.576468Z"
    }
   },
   "outputs": [],
   "source": [
    "plt.plot([1]*4)\n",
    "plt.close()\n",
    "#reset matplotlib\n",
    "import matplotlib\n",
    "matplotlib.rcParams.update(matplotlib.rcParamsDefault)\n",
    "mpl.rcParams.update(matplotlib.rcParamsDefault) #reset matplotlib"
   ]
  },
  {
   "cell_type": "code",
   "execution_count": 3,
   "id": "1e83ee4c",
   "metadata": {
    "ExecuteTime": {
     "end_time": "2023-05-02T00:41:22.616299Z",
     "start_time": "2023-05-02T00:41:22.604270Z"
    }
   },
   "outputs": [
    {
     "name": "stdout",
     "output_type": "stream",
     "text": [
      "annihilation rate density powerlaw fits:\n",
      "m = 1.877234 +/- 0.024488\n",
      "M = 5.572316 +/- 0.299027 Hz/cm^2; B=2.496963 +/- 0.039522\n",
      "RMSE=0.1386 Hz/cm^2; R^2=0.9969; MPE=6.9910%; N=73\n",
      "m = 1.637556 +/- 0.016847\n",
      "M = 16.735599 +/- 0.829136 Hz/cm^2; B=5.587740 +/- 0.065801\n",
      "RMSE=0.1340 Hz/cm^2; R^2=0.9973; MPE=7.2488%; N=100\n"
     ]
    }
   ],
   "source": [
    "kwargs = dict(data_fk_dir=f'{nb_dir}/data/full_results/data_fig4_vidmar_fk_tt.csv',\n",
    "              data_lr_dir=f'{nb_dir}/data/full_results/data_fig4_vidmar_lr_tt.csv',\n",
    "             min_num_particles=9)\n",
    "\n",
    "dict_wjr = recall_death_rates_vidmar_rappel(**kwargs)\n",
    "fk=dict_wjr['fk']\n",
    "lr=dict_wjr['lr']\n",
    "print(f\"annihilation rate density powerlaw fits:\")\n",
    "dict_fit_death_fk = print_fit_power_law(x=fk['q'].values,y=fk['w'].values)\n",
    "dict_fit_death_lr = print_fit_power_law(x=lr['q'].values,y=lr['w'].values)"
   ]
  },
  {
   "cell_type": "markdown",
   "id": "d71851d6",
   "metadata": {},
   "source": [
    "# define module"
   ]
  },
  {
   "cell_type": "code",
   "execution_count": 4,
   "id": "a8bd153b",
   "metadata": {
    "ExecuteTime": {
     "end_time": "2023-05-02T00:41:22.621550Z",
     "start_time": "2023-05-02T00:41:22.617869Z"
    }
   },
   "outputs": [],
   "source": [
    "@njit\n",
    "def find_min(dmin,xl):\n",
    "    \"\"\"xl is the size of the periodic dimension occupied by the elements of dmin\"\"\"\n",
    "    xmin = 2.*xl\n",
    "    imin=0\n",
    "    for i in range(3):\n",
    "        d=dmin[i]\n",
    "        if d<xmin:\n",
    "            xmin=d\n",
    "            imin=i\n",
    "    if imin==0:\n",
    "        return 0.\n",
    "    elif imin==1:\n",
    "        return xl\n",
    "    else:\n",
    "        return -xl"
   ]
  },
  {
   "cell_type": "code",
   "execution_count": 5,
   "id": "b5bba13f",
   "metadata": {
    "ExecuteTime": {
     "end_time": "2023-05-02T00:41:22.629979Z",
     "start_time": "2023-05-02T00:41:22.623235Z"
    }
   },
   "outputs": [],
   "source": [
    "@njit\n",
    "def distance_kernel_opm(x,y,L,N,\n",
    "        distance,disp_x,disp_y,\n",
    "        still_running,reflect,dmin):\n",
    "    \"\"\"\n",
    "    Example Usage:\n",
    "distance_kernel_opm(x,y,L,N,\n",
    "        distance,disp_x,disp_y,\n",
    "        still_running,reflect,dmin)\n",
    "    \"\"\"\n",
    "    for i in range(N): \n",
    "        if still_running[i]:\n",
    "            for j in range(i+1,N):\n",
    "                if (still_running[j]) & (i!=j):\n",
    "                    if reflect==1:\n",
    "                        dx=x[i]-x[j];\n",
    "                        dy=y[i]-y[j];\n",
    "                    else:  \n",
    "                        #handle periodic b.c.\n",
    "                        dmin[0]=np.abs(x[i]-x[j]);\n",
    "#                         dmin[1]=np.abs(x[i]-L-x[j]);\n",
    "#                         dmin[2]=np.abs(x[i]+L-x[j]);\n",
    "                        dmin[1]=np.abs(x[i]+L-x[j]);  #<<< originally used\n",
    "                        dmin[2]=np.abs(x[i]-L-x[j]);#<<< originally used\n",
    "                        facx = find_min(dmin,L);\n",
    "                        dmin[0]=np.abs(y[i]-y[j]);\n",
    "#                         dmin[1]=np.abs(y[i]-L-y[j]);\n",
    "#                         dmin[2]=np.abs(y[i]+L-y[j]);\n",
    "                        dmin[1]=np.abs(y[i]+L-y[j]);#<<< originally used\n",
    "                        dmin[2]=np.abs(y[i]-L-y[j]);#<<< originally used\n",
    "                        facy = find_min(dmin,L);\n",
    "                        dx=x[i]+facx-x[j];\n",
    "                        dy=y[i]+facy-y[j];\n",
    "                    dist2 = dx**2 + dy**2\n",
    "                    # record distance and displacement\n",
    "                    distance[i][j]=dist2;\n",
    "                    distance[j][i]=dist2;\n",
    "                    disp_x[i,j]=-dx;\n",
    "                    disp_y[i,j]=-dy;\n",
    "                    disp_x[j,i]=dx;\n",
    "                    disp_y[j,i]=dy;"
   ]
  },
  {
   "cell_type": "code",
   "execution_count": 33,
   "id": "05c68aa0",
   "metadata": {
    "ExecuteTime": {
     "end_time": "2023-05-02T01:01:07.008810Z",
     "start_time": "2023-05-02T01:01:06.999942Z"
    }
   },
   "outputs": [],
   "source": [
    "@njit\n",
    "def normalRandomArray(N):\n",
    "    return np.random.normal(0,1,N)\n",
    "\n",
    "@njit\n",
    "def one_step_kernel_opm(x,y,phi,N,L,randarr,distance,chirality,\n",
    "                       still_running,icaught,\n",
    "                       phistep,duhstep,diffstep,impulse,impulse0,R0):\n",
    "    \"\"\"\n",
    "    Example Usage:\n",
    "randarr = normalRandomArray(N*3)\n",
    "one_step_kernel_opm(x,y,phi,N,L,randarr,distance,chirality,\n",
    "                       still_running,icaught,\n",
    "                       phistep,duhstep,diffstep,impulse,impulse0,R0)\n",
    "    \"\"\"\n",
    "    #one_step_kernel_opm\n",
    "    for i in range(N): \n",
    "        if still_running[i]:\n",
    "            x[i] = x[i] + diffstep*randarr[i+2*N]\n",
    "            x[i] = x[i] + diffstep*randarr[i+N]\n",
    "            if (icaught[i]==-1):\n",
    "                phi[i] = phi[i] + chirality[i]*phistep + duhstep*randarr[i]\n",
    "                x[i] = x[i] + impulse/R0*np.cos(phi[i])\n",
    "                y[i] = y[i] + impulse/R0*np.sin(phi[i])\n",
    "            else:\n",
    "                #GOAL: dev one step for attracting phase\n",
    "                # #find nearest neighbor as ineighbor\n",
    "                # mindist=2.*L\n",
    "                # ineighbor=i\n",
    "                # for j in range(N):\n",
    "                #     if still_running[j] & (~still_wandering[j]) & (i!=j):\n",
    "                #         if mindist>distance[i,j]:\n",
    "                #             mindist=distance[i,j]\n",
    "                #             ineighbor=j\n",
    "                #recall distance to nearest neighbor\n",
    "                #R = np.sqrt(mindist)\n",
    "                #R = np.sqrt(distance[i,ineighbor])  \n",
    "                SR=distance[i,icaught[i]]\n",
    "                if SR<=2e-2:\n",
    "                    SR=2e-2\n",
    "                    #SR=9e9\n",
    "                    \n",
    "                #add oscillatory force\n",
    "#                 R = np.sqrt(SR)  \n",
    "#                 x[i] = x[i] + impulse/R*np.cos(phi[i])\n",
    "#                 y[i] = y[i] + impulse/R*np.sin(phi[i])\n",
    "                x[i] = x[i] + impulse/R0*np.cos(phi[i])\n",
    "                y[i] = y[i] + impulse/R0*np.sin(phi[i])\n",
    "                phi[i] = phi[i] + chirality[i]*phistep\n",
    "            \n",
    "                #add attractive force\n",
    "                Dx = disp_x[i,icaught[i]]/SR\n",
    "                Dy = disp_y[i,icaught[i]]/SR\n",
    "                x[i] = x[i] - impulse0*Dx   #yields fewer stray caught pairs\n",
    "                y[i] = y[i] - impulse0*Dy   #yields fewer stray caught pairs\n",
    "#                 x[i] = x[i] + impulse0*Dx  #<<< visibly diverges caught pairs at long time scales\n",
    "#                 y[i] = y[i] + impulse0*Dy  #<<< visibly diverges caught pairs at long time scales\n"
   ]
  },
  {
   "cell_type": "code",
   "execution_count": 34,
   "id": "306b6057",
   "metadata": {
    "ExecuteTime": {
     "end_time": "2023-05-02T01:01:07.307135Z",
     "start_time": "2023-05-02T01:01:07.301433Z"
    }
   },
   "outputs": [],
   "source": [
    "@njit\n",
    "def reflection(x, L):\n",
    "    return L-np.abs(L-np.abs(x%(2.*L)))\n",
    "\n",
    "@njit\n",
    "def enforce_bc_kernel(x,y,N,L,still_running,reflect):\n",
    "    \"\"\"\n",
    "    Example Usage:\n",
    "enforce_bc_kernel(x,y,N,L,still_running,reflect)\n",
    "    \"\"\"\n",
    "    #enforce boundary conditions\n",
    "    for i in range(N):\n",
    "        if still_running[i]:\n",
    "            if reflect==1:\n",
    "                #enforce reflecting boundary conditions\n",
    "                x[i] = reflection(x[i], L)\n",
    "                y[i] = reflection(y[i], L)\n",
    "            else:\n",
    "                #enforce periodic boundary conditions\n",
    "                if (x[i]>L):\n",
    "                    x[i]=x[i]-L;\n",
    "                elif (x[i]<0.):\n",
    "                    x[i]=x[i]+L;\n",
    "                if (y[i]>L):\n",
    "                    y[i]=y[i]-L;\n",
    "                elif (y[i]<0.):\n",
    "                    y[i]=y[i]+L;"
   ]
  },
  {
   "cell_type": "code",
   "execution_count": 35,
   "id": "47ddae1d",
   "metadata": {
    "ExecuteTime": {
     "end_time": "2023-05-02T01:01:07.551074Z",
     "start_time": "2023-05-02T01:01:07.543625Z"
    }
   },
   "outputs": [],
   "source": [
    "@njit\n",
    "def catch_kernel_opm(phi,disp_x,disp_y,distance,still_running,icaught,chirality,\n",
    "                    N,rxn_rng,phidiff_thresh,rxnstep):\n",
    "    \"\"\"\n",
    "    Example Usage:\n",
    "catch_kernel_opm(phi,disp_x,disp_y,distance,still_running,icaught,chirality,\n",
    "                    N,rxn_rng,phidiff_thresh,rxnstep)\n",
    "    \"\"\"\n",
    "    for i in range(N): \n",
    "        #if still_wandering and still_running\n",
    "        if still_running[i] and (icaught[i]==-1):  \n",
    "            #determine whether to start a reaction\n",
    "            chiral=chirality[i]\n",
    "            for j in range(i+1,N): \n",
    "                if still_running[j] and (icaught[j]==-1):  \n",
    "                    if (chiral*chirality[j]==-1): #if opposite handed\n",
    "                        dist2=distance[i,j]\n",
    "                        #catching mode determination\n",
    "                        if (dist2<rxn_rng) & (dist2>0): # if within rxn range, ignoring collocalization edge cases\n",
    "                            #determine whether phases match\n",
    "                            dist = np.sqrt(dist2)\n",
    "                            dy = disp_y[i,j]/dist\n",
    "                            dx = disp_x[i,j]/dist\n",
    "                            vx = np.cos(phi[i]) + np.cos(phi[j])  #x velocity in units of v0\n",
    "                            vy = np.sin(phi[i]) + np.sin(phi[j])  #y velocity in units of v0\n",
    "                            #if (vx,vy)=v1+v2 is also larger in magnitude than v1*sin(phi) and v2*np.sin\n",
    "                            if (vx*dx + vy*dy)<phidiff_thresh: #if phases match\n",
    "                                cs1=np.cos(phi[i])*dy - np.sin(phi[i])*dx\n",
    "                                cs2=np.cos(phi[j])*dy - np.sin(phi[j])*dx\n",
    "                                acr=np.abs(vx*dy - vy*dx)\n",
    "                                if (acr>cs1) & (acr>cs2):\n",
    "                                    #then the catch is valid\n",
    "                                    # start reaction with prob kappa*dt\n",
    "                                    if (np.random.uniform(1,0,1)<=rxnstep):\n",
    "                                        #set pair to be in \"caught\" mode\n",
    "                                        icaught[i]=j\n",
    "                                        icaught[j]=i"
   ]
  },
  {
   "cell_type": "code",
   "execution_count": 36,
   "id": "62d5fe35",
   "metadata": {
    "ExecuteTime": {
     "end_time": "2023-05-02T01:01:07.762995Z",
     "start_time": "2023-05-02T01:01:07.759647Z"
    }
   },
   "outputs": [],
   "source": [
    "@njit\n",
    "def iter_over_pairs(N,still_running):\n",
    "    for i in range(N):\n",
    "        if still_running[i]:\n",
    "            for j in range(i+1,N):\n",
    "                if still_running[j]:\n",
    "                    yield i,j"
   ]
  },
  {
   "cell_type": "code",
   "execution_count": 37,
   "id": "fceec9f1",
   "metadata": {
    "ExecuteTime": {
     "end_time": "2023-05-02T01:01:08.028267Z",
     "start_time": "2023-05-02T01:01:08.024917Z"
    }
   },
   "outputs": [],
   "source": [
    "def plotter_opm(x,y,phi,colors,L,text,fontsize,**kwargs):\n",
    "    ax.quiver(x, y, np.cos(phi), np.sin(phi), angles=\"xy\",scale = 30,width = 0.004,\n",
    "              color=colors,**kwargs)\n",
    "    ax.annotate(text,xy=(0.6,0.02),fontsize=fontsize,xycoords='axes fraction')\n",
    "    ax.axis([0,L,0,L])\n",
    "    ax.axis('off')\n",
    "    return ax"
   ]
  },
  {
   "cell_type": "code",
   "execution_count": 38,
   "id": "7e16c253",
   "metadata": {
    "ExecuteTime": {
     "end_time": "2023-05-02T01:01:08.241106Z",
     "start_time": "2023-05-02T01:01:08.238680Z"
    }
   },
   "outputs": [],
   "source": [
    "# @njit\n",
    "# def normalRandom(): \n",
    "#     \"\"\"normalRandom returns a normally distributed random value.\n",
    "    \n",
    "#     Example Usage:\n",
    "# print(f\"{normalRandom()=}\")\n",
    "#     \"\"\"\n",
    "#     v1=np.random.uniform()\n",
    "#     v2=np.random.uniform()\n",
    "#     return np.cos(2.*3.141592653589793*v2)*np.sqrt(-2.*np.log(v1));\n"
   ]
  },
  {
   "cell_type": "markdown",
   "id": "6d696296",
   "metadata": {},
   "source": [
    "# dev simulation of OPM"
   ]
  },
  {
   "cell_type": "code",
   "execution_count": 59,
   "id": "137daa0a",
   "metadata": {
    "ExecuteTime": {
     "end_time": "2023-05-02T01:21:01.688110Z",
     "start_time": "2023-05-02T01:21:01.678413Z"
    }
   },
   "outputs": [
    {
     "name": "stdout",
     "output_type": "stream",
     "text": [
      "catchings start at np.sqrt(rxn_rng)=0.700 cm.\n",
      "removals start at np.sqrt(epsilon)=0.155 cm.\n"
     ]
    }
   ],
   "source": [
    "# dt = 1e-4 #s\n",
    "dt = 1e-5 #s\n",
    "NL = 12 #number of rows/columns\n",
    "N = NL**2 #on a square grid\n",
    "L=5. #cm\n",
    "\n",
    "#Luo-Rudy force model\n",
    "a0 = 4.2 #cm^2/s\n",
    "# a0=0\n",
    "a1 = 12.18 #cm^2/s\n",
    "D = 0.42 #cm^2/s\n",
    "D=0 \n",
    "T=0.0974#s  \n",
    "\n",
    "# alinear=10.147\n",
    "# alinear=9.3#9.3154\n",
    "# r=1.55; kappa=10000\n",
    "r=0.155; kappa=300\n",
    "# r=0.5  \n",
    "r=0.3; kappa=300\n",
    "r=0.7\n",
    "# r=0.2500; kappa=300\n",
    "# r=0.135; kappa=60\n",
    "# kappa=60\n",
    "# kappa=100; r=0.125\n",
    "# r=1.55; kappa=1/dt\n",
    "N_end=1\n",
    "\n",
    "Duh=0.125 #rad^2/s\n",
    "# Duh=1.25 #rad^2/s\n",
    "# Duh=2 #rad^2/s #\n",
    "Duh=10 #rad^2/s  #\n",
    "#heretim\n",
    "#Q: which is Duh best?\n",
    "\n",
    "# Duh=10.25 #rad^2/s\n",
    "chi=1.  # chi=1. is the trivial case, setting the rotational scale to the capture range\n",
    "# chi=0.5\n",
    "R0 = chi*r #cm\n",
    "# R0 = 2 #cm\n",
    "# R0 = 0.5 #cm  #<<< looks reasonable at # Duh=1.25 #rad^2/s\n",
    "# R0 = 0.25 #cm\n",
    "# R0 = 0.2 #cm\n",
    "#heretim\n",
    "\n",
    "\n",
    "seed=42\n",
    "reflect=0\n",
    "use_random_ic=False\n",
    "#define the system variables\n",
    "dtype='float64'\n",
    "disp_x=np.zeros((N,N),dtype=dtype)\n",
    "disp_y=np.zeros((N,N),dtype=dtype)\n",
    "distance=np.zeros((N,N),dtype=dtype)\n",
    "\n",
    "#heretim\n",
    "epsilon=(0.155)**2 #cm^2\n",
    "# epsilon=2e-2 #cm^2\n",
    "# epsilon=5e-2 #cm^2  #<<< no stray tips\n",
    "# epsilon=1e-2 #cm^2\n",
    "# epsilon=1e-4 #cm^2  #annihilated tips appear colocalized\n",
    "epsilon_kappa=1e4 #Hz  \n",
    "# epsilon_kappa = 1/dt #trivial / instantaneous remove when within distance epsilon\n",
    "rmvstep = epsilon_kappa*dt\n",
    "phidiff_thresh=np.sin(1e-3) #radians\n",
    "# phidiff_thresh=np.sin(1e-1) #radians\n",
    "icaught=np.zeros(N,dtype='int')-1\n",
    "still_running=np.ones(N,dtype='int')==1\n",
    "dmin=np.zeros(3)\n",
    "\n",
    "\n",
    "\n",
    "#define the system constants\n",
    "omega0 = 2*np.pi/T #rad/s\n",
    "rxnstep = kappa*dt\n",
    "phistep = omega0*dt #rad/s\n",
    "duhstep = np.sqrt(2*Duh*dt) #rad/s\n",
    "# impulse = alinear*dt # cm^2\n",
    "impulse = a1*dt # cm^2\n",
    "# impulse0 = (a1+2*D)*dt # cm^2\n",
    "impulse0 = a0*dt # cm^2\n",
    "diffstep = np.sqrt(2*D*dt)\n",
    "rxn_rng = r**2 #cm^2\n",
    "\n",
    "print(f\"catchings start at {np.sqrt(rxn_rng)=:.3f} cm.\")\n",
    "print(f\"removals start at {np.sqrt(epsilon)=:.3f} cm.\")\n",
    "\n",
    "chirality=np.ones(N,dtype='int')\n",
    "#set every other chirality to -1\n",
    "boo=False\n",
    "for i in range(N):\n",
    "    if boo:\n",
    "        chirality[i]*=-1\n",
    "    boo = not boo"
   ]
  },
  {
   "cell_type": "code",
   "execution_count": 60,
   "id": "bd7caac0",
   "metadata": {
    "ExecuteTime": {
     "end_time": "2023-05-02T01:21:02.071436Z",
     "start_time": "2023-05-02T01:21:02.068290Z"
    }
   },
   "outputs": [],
   "source": [
    "Tsum_array=np.zeros(N+1,dtype=dtype)\n",
    "Tcount_array=np.zeros(N+1,dtype='int')"
   ]
  },
  {
   "cell_type": "code",
   "execution_count": 61,
   "id": "78dc7ceb",
   "metadata": {
    "ExecuteTime": {
     "end_time": "2023-05-02T01:21:02.486957Z",
     "start_time": "2023-05-02T01:21:02.484314Z"
    }
   },
   "outputs": [],
   "source": [
    "# os.mkdir(save_folder)"
   ]
  },
  {
   "cell_type": "code",
   "execution_count": 62,
   "id": "ff2a96e8",
   "metadata": {
    "ExecuteTime": {
     "end_time": "2023-05-02T01:21:02.791175Z",
     "start_time": "2023-05-02T01:21:02.776902Z"
    }
   },
   "outputs": [],
   "source": [
    "#for snapshot output\n",
    "save_folder=f\"{nb_dir}/Figures/mov\"\n",
    "if os.path.exists(save_folder):\n",
    "    #cleanse the old snapshot folder\n",
    "    shutil.rmtree(save_folder)\n",
    "os.mkdir(save_folder)\n",
    "frameno=1\n",
    "save_fn=None\n",
    "inch=6\n",
    "annotating=True\n",
    "message='osc. particle model'"
   ]
  },
  {
   "cell_type": "code",
   "execution_count": 63,
   "id": "a15c5c40",
   "metadata": {
    "ExecuteTime": {
     "end_time": "2023-05-02T01:21:03.059922Z",
     "start_time": "2023-05-02T01:21:03.049069Z"
    }
   },
   "outputs": [
    {
     "name": "stdout",
     "output_type": "stream",
     "text": [
      "the system is initialized (seed: 42).\n"
     ]
    }
   ],
   "source": [
    "niter=1500\n",
    "np.random.seed(seed)\n",
    "for q in range(niter):\n",
    "    pass\n",
    "# use_random_ic=True\n",
    "# use_random_ic=False\n",
    "nparticles=N\n",
    "\n",
    "#define the initial condition of the system\n",
    "phi = (np.random.uniform(size=N)*2*np.pi).astype(dtype)\n",
    "x = (np.linspace(0+0.5/NL, 1-0.5/NL, NL))*L\n",
    "y = (np.linspace(0+0.5/NL, 1-0.5/NL, NL))*L\n",
    "x, y = np.meshgrid(x, y)\n",
    "x = x.flatten()\n",
    "y = y.flatten()\n",
    "if use_random_ic:\n",
    "    x = (np.random.uniform(size=N)*L).astype(dtype)\n",
    "    y = (np.random.uniform(size=N)*L).astype(dtype)\n",
    "print(f\"the system is initialized (seed: {seed}).\")\n",
    "\n",
    "colors=[]\n",
    "for c in chirality:\n",
    "    if c==-1:\n",
    "        colors.append('k')\n",
    "    else:\n",
    "        colors.append('gray')"
   ]
  },
  {
   "cell_type": "code",
   "execution_count": null,
   "id": "2423c39b",
   "metadata": {},
   "outputs": [],
   "source": []
  },
  {
   "cell_type": "code",
   "execution_count": 64,
   "id": "239baaec",
   "metadata": {
    "ExecuteTime": {
     "end_time": "2023-05-02T01:21:24.710239Z",
     "start_time": "2023-05-02T01:21:24.637605Z"
    }
   },
   "outputs": [
    {
     "data": {
      "image/png": "[encoded data removed]",
      "text/plain": [
       "<Figure size 400x400 with 1 Axes>"
      ]
     },
     "metadata": {},
     "output_type": "display_data"
    }
   ],
   "source": [
    "plt.subplots(figsize=(4,4))\n",
    "plt.quiver(x, y, np.cos(phi), np.sin(phi), angles=\"xy\",scale = 32,width = 0.004,\n",
    "          color=colors)\n",
    "plt.axis([0,L,0,L])\n",
    "plt.show()"
   ]
  },
  {
   "cell_type": "code",
   "execution_count": 65,
   "id": "2b7a0de0",
   "metadata": {
    "ExecuteTime": {
     "end_time": "2023-05-02T01:21:30.905469Z",
     "start_time": "2023-05-02T01:21:30.902429Z"
    }
   },
   "outputs": [
    {
     "data": {
      "text/plain": [
       "432"
      ]
     },
     "execution_count": 65,
     "metadata": {},
     "output_type": "execute_result"
    }
   ],
   "source": [
    "3*N"
   ]
  },
  {
   "cell_type": "code",
   "execution_count": 66,
   "id": "f5f24540",
   "metadata": {
    "ExecuteTime": {
     "end_time": "2023-05-02T01:21:31.404435Z",
     "start_time": "2023-05-02T01:21:31.401684Z"
    }
   },
   "outputs": [],
   "source": [
    "# #TODO: get catcher kernel to use sin instead of cos to make two tips \"caught\"\n",
    "# #DONE: get ^that snap shot looking reasonable\n",
    "# #DONE: save to save_folder, as before\n",
    "# # Figures/mov/img%07d.png\n",
    "# save_folder = f\"{nb_dir}/Figures/mov\"\n",
    "# save_folder\n",
    "# randarr = normalRandomArray(3*N) # +0\n",
    "# randarr = np.random.normal(0,1,3*N)\n",
    "# from numba import njit "
   ]
  },
  {
   "cell_type": "code",
   "execution_count": 67,
   "id": "ff8374e1",
   "metadata": {
    "ExecuteTime": {
     "end_time": "2023-05-02T01:23:16.693332Z",
     "start_time": "2023-05-02T01:21:31.827373Z"
    }
   },
   "outputs": [
    {
     "name": "stdout",
     "output_type": "stream",
     "text": [
      " |███████████████████████████████████████████████████████████████████████████████████████████████████-| 99.8% \r"
     ]
    }
   ],
   "source": [
    "t=0.\n",
    "frameno=0\n",
    "fontsize=16\n",
    "save_every=100\n",
    "# save_every=200\n",
    "printing=True\n",
    "num_steps = 50000\n",
    "#distance_kernel_opm\n",
    "distance_kernel_opm(x,y,L,N,  #<<< gives the run time +15s per 100000 calls\n",
    "        distance,disp_x,disp_y,\n",
    "        still_running,reflect,dmin)\n",
    "\n",
    "for step in range(num_steps):\n",
    "    #normal random number generation \n",
    "    #randarr = normalRandomArray(3*N) # +0s run time per 100000 calls\n",
    "    randarr = np.random.normal(0,1,3*N)\n",
    "    #motion\n",
    "    one_step_kernel_opm(x,y,phi,N,L,randarr,distance,chirality, # +0s run time per 100000 calls\n",
    "                       still_running,icaught,\n",
    "                       phistep,duhstep,diffstep,impulse,impulse0,R0)\n",
    "    #enforce pbc if reflect is not 1\n",
    "    enforce_bc_kernel(x,y,N,L,still_running,reflect)\n",
    "    #distance_kernel_opm\n",
    "    distance_kernel_opm(x,y,L,N,  #<<< gives the run time +15s per 100000 calls\n",
    "            distance,disp_x,disp_y,\n",
    "            still_running,reflect,dmin)\n",
    "    #determine any new captured modes\n",
    "    catch_kernel_opm(phi,disp_x,disp_y,distance,still_running,icaught,chirality,  ## +34.5s run time per 100000 calls\n",
    "                        N,rxn_rng,phidiff_thresh,rxnstep)\n",
    "    #removal kernel & recording annihilation dwell times\n",
    "    for i,j in iter_over_pairs(N,still_running):\n",
    "        if (chirality[i]*chirality[j]==-1) & (epsilon>distance[i,j]):\n",
    "            if (np.random.uniform(1,0,1)<rmvstep):\n",
    "                #compute time since last reaction\n",
    "                t_prev=t;\n",
    "                t=step*dt;\n",
    "                #record\n",
    "                Tsum_array[nparticles] = Tsum_array[nparticles] + t - t_prev;\n",
    "                Tcount_array[nparticles] = Tcount_array[nparticles] + 1;\n",
    "                nparticles=nparticles-2;\n",
    "                #remove the two reacting particles from simulation\n",
    "                still_running[i]=False\n",
    "                still_running[j]=False\n",
    "                \n",
    "    #clean up any caught tips still running who lost their mate\n",
    "    for i in range(N):\n",
    "        j = icaught[i]\n",
    "        if still_running[i] & (j!=-1):\n",
    "            if (~still_running[j]):\n",
    "                icaught[i] = -1\n",
    "\n",
    "    if (step%save_every)==0:\n",
    "        for i,c in enumerate(colors):\n",
    "            if not still_running[i]:\n",
    "                colors[i]='pink'\n",
    "            elif (icaught[i]!=-1) & (chirality[i]==1):\n",
    "                colors[i]='C0'\n",
    "            elif (icaught[i]!=-1) & (chirality[i]==-1):\n",
    "                colors[i]='C1'\n",
    "            elif chirality[i]==-1:\n",
    "                colors[i]='k'\n",
    "            else:\n",
    "                colors[i]='gray'\n",
    "        text = f\"t = {step*dt:.3f} s\\nnum. = {nparticles}\"      \n",
    "        fig,ax = plt.subplots(figsize=(4,4))\n",
    "        plotter_opm(x,y,phi,colors,L,text,fontsize)#,**kwargs)\n",
    "        os.chdir(save_folder)\n",
    "        save_fn = f\"img{frameno:07d}.png\"\n",
    "        fig.savefig(save_fn,dpi=2*1080/inch, bbox_inches='tight',pad_inches=0,\n",
    "                    facecolor='white');\n",
    "        frameno+=1\n",
    "        plt.close()\n",
    "        if printing:\n",
    "            printProgressBar(step+1,num_steps)\n",
    "    if nparticles<=N_end:\n",
    "        break"
   ]
  },
  {
   "cell_type": "code",
   "execution_count": 68,
   "id": "a4566531",
   "metadata": {
    "ExecuteTime": {
     "end_time": "2023-05-02T01:23:16.901471Z",
     "start_time": "2023-05-02T01:23:16.696015Z"
    }
   },
   "outputs": [
    {
     "name": "stdout",
     "output_type": "stream",
     "text": [
      "\u0007"
     ]
    },
    {
     "data": {
      "text/plain": [
       "0"
      ]
     },
     "execution_count": 68,
     "metadata": {},
     "output_type": "execute_result"
    }
   ],
   "source": [
    "beep(1)"
   ]
  },
  {
   "cell_type": "code",
   "execution_count": 24,
   "id": "d50bac00",
   "metadata": {
    "ExecuteTime": {
     "end_time": "2023-05-02T00:53:21.021535Z",
     "start_time": "2023-05-02T00:53:21.010112Z"
    },
    "run_control": {
     "marked": true
    }
   },
   "outputs": [
    {
     "name": "stderr",
     "output_type": "stream",
     "text": [
      "ffmpeg: error while loading shared libraries: libopenh264.so.5: cannot open shared object file: No such file or directory\n",
      "./concat_folder_png.sh: 33: source: not found\n",
      "ffmpeg: error while loading shared libraries: libopenh264.so.5: cannot open shared object file: No such file or directory\n",
      "ffmpeg: error while loading shared libraries: libopenh264.so.5: cannot open shared object file: No such file or directory\n",
      "ffmpeg: error while loading shared libraries: libopenh264.so.5: cannot open shared object file: No such file or directory\n",
      "ffmpeg: error while loading shared libraries: libopenh264.so.5: cannot open shared object file: No such file or directory\n",
      "ffmpeg: error while loading shared libraries: libopenh264.so.5: cannot open shared object file: No such file or directory\n"
     ]
    }
   ],
   "source": [
    "#concatenate the folder of .png files\n",
    "os.chdir(f'{nb_dir}/../vid/src')\n",
    "os.system(f'./concat_folder_png.sh');"
   ]
  },
  {
   "cell_type": "code",
   "execution_count": 25,
   "id": "bd3f63a6",
   "metadata": {
    "ExecuteTime": {
     "end_time": "2023-05-02T00:53:21.389319Z",
     "start_time": "2023-05-02T00:53:21.022960Z"
    }
   },
   "outputs": [
    {
     "name": "stdout",
     "output_type": "stream",
     "text": [
      "zsh:1: command not found: open\n",
      "\u0007"
     ]
    },
    {
     "data": {
      "text/plain": [
       "0"
      ]
     },
     "execution_count": 25,
     "metadata": {},
     "output_type": "execute_result"
    }
   ],
   "source": [
    "!open /Users/timothytyree/Documents/GitHub/bgmc/vid/mov/out.mov\n",
    "beep(1)"
   ]
  },
  {
   "cell_type": "code",
   "execution_count": 26,
   "id": "c0e85120",
   "metadata": {
    "ExecuteTime": {
     "end_time": "2023-05-02T00:53:21.729282Z",
     "start_time": "2023-05-02T00:53:21.391950Z"
    }
   },
   "outputs": [
    {
     "name": "stdout",
     "output_type": "stream",
     "text": [
      "zsh:1: command not found: open\r\n"
     ]
    },
    {
     "name": "stderr",
     "output_type": "stream",
     "text": [
      "ffmpeg: error while loading shared libraries: libopenh264.so.5: cannot open shared object file: No such file or directory\n",
      "./concat_folder_png.sh: 33: source: not found\n",
      "ffmpeg: error while loading shared libraries: libopenh264.so.5: cannot open shared object file: No such file or directory\n",
      "ffmpeg: error while loading shared libraries: libopenh264.so.5: cannot open shared object file: No such file or directory\n",
      "ffmpeg: error while loading shared libraries: libopenh264.so.5: cannot open shared object file: No such file or directory\n",
      "ffmpeg: error while loading shared libraries: libopenh264.so.5: cannot open shared object file: No such file or directory\n",
      "ffmpeg: error while loading shared libraries: libopenh264.so.5: cannot open shared object file: No such file or directory\n"
     ]
    },
    {
     "name": "stdout",
     "output_type": "stream",
     "text": [
      "\u0007"
     ]
    },
    {
     "data": {
      "text/plain": [
       "0"
      ]
     },
     "execution_count": 26,
     "metadata": {},
     "output_type": "execute_result"
    }
   ],
   "source": [
    "#concatenate the folder of .png files\n",
    "os.chdir(f'{nb_dir}/../vid/src')\n",
    "os.system(f'./concat_folder_png.sh');\n",
    "!open /Users/timothytyree/Documents/GitHub/bgmc/vid/mov/out.mov\n",
    "beep(1)"
   ]
  },
  {
   "cell_type": "markdown",
   "id": "9cfeb0aa",
   "metadata": {},
   "source": [
    "# notes"
   ]
  },
  {
   "cell_type": "code",
   "execution_count": null,
   "id": "13ed6c87",
   "metadata": {
    "ExecuteTime": {
     "end_time": "2023-05-02T00:41:23.200436Z",
     "start_time": "2023-05-02T00:41:23.200417Z"
    }
   },
   "outputs": [],
   "source": [
    "# DONE: make ^this generate a quick little movie in <30 seconds\n",
    "# TODO: modify (new) parameters until \n",
    "# - the motion looks reasonably circular\n",
    "# - the \"caught\" state corresponds to \"just before annihilation\"\n",
    "#TODO: add the attractive force as the _vector_sum_ over all tips for the \"wandering\" mode"
   ]
  },
  {
   "cell_type": "code",
   "execution_count": null,
   "id": "57b1e04f",
   "metadata": {
    "ExecuteTime": {
     "end_time": "2023-05-02T00:41:23.202256Z",
     "start_time": "2023-05-02T00:41:23.202236Z"
    }
   },
   "outputs": [],
   "source": [
    "#DONE: dev annihilation_kernel_opm for \"caught\" mode pairs\n",
    "#HINT: make it work equally for all pairs of opposite handedness"
   ]
  },
  {
   "cell_type": "code",
   "execution_count": null,
   "id": "cf7f48ec",
   "metadata": {
    "ExecuteTime": {
     "end_time": "2023-05-02T00:41:23.203602Z",
     "start_time": "2023-05-02T00:41:23.203581Z"
    }
   },
   "outputs": [],
   "source": [
    "#DONE: dev one_step for \"caught\" mode"
   ]
  },
  {
   "cell_type": "code",
   "execution_count": null,
   "id": "cf3163af",
   "metadata": {},
   "outputs": [],
   "source": []
  },
  {
   "cell_type": "code",
   "execution_count": null,
   "id": "04002422",
   "metadata": {
    "ExecuteTime": {
     "end_time": "2023-05-02T00:41:23.205028Z",
     "start_time": "2023-05-02T00:41:23.205009Z"
    }
   },
   "outputs": [],
   "source": [
    "#Q: can I generate a particle movie that is indistinguishable to WJ from spiral tip motion?\n",
    "#A: not without an unecessary amount of work."
   ]
  },
  {
   "cell_type": "code",
   "execution_count": null,
   "id": "e4a1d59a",
   "metadata": {
    "ExecuteTime": {
     "end_time": "2023-05-02T00:41:23.207286Z",
     "start_time": "2023-05-02T00:41:23.207269Z"
    }
   },
   "outputs": [],
   "source": [
    "#Q: what pretty patterns are drawn out by 2 pairs of tips all caught together?\n",
    "#Q: how does ^this pattern change if only one of either pair is coupled twice?"
   ]
  },
  {
   "cell_type": "code",
   "execution_count": null,
   "id": "7195864f",
   "metadata": {
    "ExecuteTime": {
     "end_time": "2023-05-02T00:41:23.209049Z",
     "start_time": "2023-05-02T00:41:23.209032Z"
    }
   },
   "outputs": [],
   "source": [
    "#GOAL: dev visualization\n",
    "#TODO: cp old viewer method here from bgmc\n",
    "#TODO: dev picasso-esque backdrop raster for the visualization of the system.\n",
    "# HINT: backdrop_raster is black except for pixels where tips have been"
   ]
  },
  {
   "cell_type": "code",
   "execution_count": null,
   "id": "09074214",
   "metadata": {},
   "outputs": [],
   "source": []
  },
  {
   "cell_type": "code",
   "execution_count": null,
   "id": "fc869ecb",
   "metadata": {},
   "outputs": [],
   "source": []
  },
  {
   "cell_type": "code",
   "execution_count": null,
   "id": "e2ecf2cf",
   "metadata": {
    "ExecuteTime": {
     "end_time": "2023-05-02T00:41:23.210919Z",
     "start_time": "2023-05-02T00:41:23.210906Z"
    }
   },
   "outputs": [],
   "source": [
    "# ///////////////////////////////////////////////\n",
    "# // one step of random, pairwise annihilation //\n",
    "# ///////////////////////////////////////////////\n",
    "# for (i = 0; i < Nmax; i++ ) {\n",
    "# if(still_running[i]) {\n",
    "#   for (j = i+1; j < Nmax; j++ ) {\n",
    "#     if(still_running[j]){\n",
    "#     dist=sqrt(distances[i][j]);\n",
    "#     if(dist<=r){\n",
    "#       // determine whether those two particles react\n",
    "#       reacts=probreact>=uniformRandom();\n",
    "#       // optionally determine whether those two particles react via smeared rxn rate\n",
    "#       // sig=sigmoid(dist, r, beta);\n",
    "#       // reacts=probreact*sig>uniformRandom();\n",
    "#       if(reacts){\n",
    "#         // compute time since last reaction\n",
    "#         T_prev=T;\n",
    "#         T=step*dt;\n",
    "#         // record\n",
    "#         Tsum_array[nparticles] = Tsum_array[nparticles] + T - T_prev;\n",
    "#         Tcount_array[nparticles] = Tcount_array[nparticles] + 1;\n",
    "#         nparticles=nparticles-2;\n",
    "#         // remove the two reacting particles from the simulation\n",
    "#         still_running[i]=false;\n",
    "#         still_running[j]=false;\n",
    "#       }\n",
    "#     }\n",
    "#   }\n",
    "# }\n",
    "# }\n",
    "# }\n"
   ]
  },
  {
   "cell_type": "code",
   "execution_count": null,
   "id": "2aa53840",
   "metadata": {},
   "outputs": [],
   "source": []
  },
  {
   "cell_type": "code",
   "execution_count": null,
   "id": "5d1bfb02",
   "metadata": {},
   "outputs": [],
   "source": []
  },
  {
   "cell_type": "code",
   "execution_count": null,
   "id": "3ca5e8a2",
   "metadata": {
    "ExecuteTime": {
     "end_time": "2023-05-02T00:41:23.212579Z",
     "start_time": "2023-05-02T00:41:23.212563Z"
    }
   },
   "outputs": [],
   "source": [
    "# }//end for each trial\n",
    "#   printf(\"simulation complete!\\n\");\n",
    "#   // Print results\n",
    "#   printf(\"\\nPrinting Inputs...\\n\");\n",
    "#   printf(\"r=%g\\n\",r);\n",
    "#   printf(\"D=%g\\n\",D);\n",
    "#   printf(\"L=%g\\n\",L);\n",
    "#   printf(\"kappa=%g\\n\",kappa);\n",
    "#   printf(\"varkappa=%g\\n\",varkappa);\n",
    "#   printf(\"x0=%g\\n\",x0);\n",
    "#   printf(\"dt=%g\\n\",dt);\n",
    "#   printf(\"Dt=%g\\n\",Dt);\n",
    "#   // printf(\"N=%d\\n\",N);\n",
    "#   printf(\"niter=%d\\n\",niter);\n",
    "#   // printf(\"seed=%d\\n\",seed);\n",
    "#   printf(\"reflect=%d\\n\",reflect);\n",
    "#   printf(\"set_second=%d\\n\",set_second);\n",
    "#   printf(\"no_repulsion=%d\\n\",no_repulsion);\n",
    "#   printf(\"no_attraction=%d\\n\",no_attraction);\n",
    "#   printf(\"neighbor=%d\\n\",neighbor);\n",
    "#   printf(\"force_code=%d\\n\",force_code);\n",
    "#   printf(\"iter_per_movestep=%d\\n\",iter_per_movestep);\n",
    "\n",
    "#   /*                              |\n",
    "#   |  Record Mean Collision Times  |\n",
    "#   |                              */\n",
    "#   // print mean output of T_lst to stdout\n",
    "#   printf(\"\\nPrinting Outputs...\\n\");\n",
    "#   // printf(\"exit_code=%d\\n\",exit_code);\n",
    "#   // printf(\"max ntips=%d\\n\",Nmax);\n",
    "#   // printf(\"max ntips_over_area=%g\\n\",Nmax/(L*L));\n",
    "#   // printf(\"Tcount=%d\\n\",count_net);\n",
    "#   // printf(\"Tsum=%g\\n\",T_net);\n",
    "#   // printf(\"Tavg=%g\\n\",T_net/count_net);\n",
    "#   // printf(\"rate=%g\\n\",count_net/T_net);\n",
    "#   // printf(\"rate_over_area=%g\\n\",count_net/(L*L*T_net));\n",
    "#   // T_value=T_net/count_net;\n",
    "#   boo=true;\n",
    "#   for(i = 0; i < (Nmax - N0_end);i++){ // <<< this unshifts the output\n",
    "#   // for(i = 0; i < (Nmax - N0_end - 2);i++){\n",
    "#     if (boo){\n",
    "#       printf (\"%d,\",Nmax-i);\n",
    "#       // printf (\"%d,\",i+1);\n",
    "#     }\n",
    "#     boo=!boo;\n",
    "#   }\n",
    "#   printf (\"\\n\");\n",
    "#   boo=true;\n",
    "#   for(i = 0; i < (Nmax-N0_end);i++){  // <<< this unshifts the output\n",
    "#   // for(i = 2; i < (Nmax - N0_end); i++){\n",
    "#     if (boo){\n",
    "#       Tavg=Tsum_array[Nmax-i]/Tcount_array[Nmax-i];\n",
    "#       // printf (\"%d,\",Tcount_array[Nmax-i]);\n",
    "#       // printf (\"%f,\",Tsum_array[Nmax-i]);\n",
    "#       printf (\"%f,\",Tavg);\n",
    "#       // printf (\"%d,\",i+1);\n",
    "#     }\n",
    "#     boo=!boo;\n",
    "#   }\n",
    "#   printf(\"\\n\");\n",
    "#   return 0;\n",
    "# }\n",
    "\n"
   ]
  },
  {
   "cell_type": "code",
   "execution_count": null,
   "id": "cf47800b",
   "metadata": {
    "ExecuteTime": {
     "end_time": "2023-05-02T00:41:23.214030Z",
     "start_time": "2023-05-02T00:41:23.214018Z"
    }
   },
   "outputs": [],
   "source": [
    "# phi_rela=np.zeros((N,N),dtype=dtype)\n",
    "# DONT: compute relative phase angles\n",
    "# input: phi1 = arcsin( cross( hat(x2-x1), v1) ) \n",
    "# input: phi2 = arcsin( cross( hat(x1-x2), v2) ) \n",
    "# HINT: phidiff = phi2 - phi1\n",
    "# HINT: phisum = phi2 + phi1\n",
    "# NOTE: d(phisum) = 2 * omega0 by construction\n",
    "# phi_rela_kernel_opm"
   ]
  },
  {
   "cell_type": "code",
   "execution_count": null,
   "id": "583a08a9",
   "metadata": {},
   "outputs": [],
   "source": []
  },
  {
   "cell_type": "code",
   "execution_count": null,
   "id": "86435c87",
   "metadata": {},
   "outputs": [],
   "source": []
  },
  {
   "cell_type": "code",
   "execution_count": null,
   "id": "7fbb6fe0",
   "metadata": {},
   "outputs": [],
   "source": []
  },
  {
   "cell_type": "code",
   "execution_count": null,
   "id": "021e65be",
   "metadata": {},
   "outputs": [],
   "source": []
  },
  {
   "cell_type": "code",
   "execution_count": null,
   "id": "e2fb1fd7",
   "metadata": {},
   "outputs": [],
   "source": []
  },
  {
   "cell_type": "code",
   "execution_count": null,
   "id": "1542b963",
   "metadata": {},
   "outputs": [],
   "source": []
  },
  {
   "cell_type": "code",
   "execution_count": null,
   "id": "61e919b5",
   "metadata": {},
   "outputs": [],
   "source": []
  }
 ],
 "metadata": {
  "hide_input": false,
  "kernelspec": {
   "display_name": "Python 3 (ipykernel)",
   "language": "python",
   "name": "python3"
  },
  "language_info": {
   "codemirror_mode": {
    "name": "ipython",
    "version": 3
   },
   "file_extension": ".py",
   "mimetype": "text/x-python",
   "name": "python",
   "nbconvert_exporter": "python",
   "pygments_lexer": "ipython3",
   "version": "3.9.13"
  },
  "nbTranslate": {
   "displayLangs": [
    "*"
   ],
   "hotkey": "alt-t",
   "langInMainMenu": true,
   "sourceLang": "en",
   "targetLang": "fr",
   "useGoogleTranslate": true
  },
  "toc": {
   "base_numbering": 1,
   "nav_menu": {},
   "number_sections": true,
   "sideBar": true,
   "skip_h1_title": false,
   "title_cell": "Table of Contents",
   "title_sidebar": "Contents",
   "toc_cell": false,
   "toc_position": {},
   "toc_section_display": true,
   "toc_window_display": false
  }
 },
 "nbformat": 4,
 "nbformat_minor": 5
}
