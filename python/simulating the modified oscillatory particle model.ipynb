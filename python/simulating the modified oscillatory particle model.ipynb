{
 "cells": [
  {
   "cell_type": "markdown",
   "id": "7657c64a",
   "metadata": {},
   "source": [
    "# simulating minimalist modified oscillatory particle model\n",
    "Tim Tyree<br>\n",
    "4.27.2023"
   ]
  },
  {
   "cell_type": "code",
   "execution_count": 1,
   "id": "f69d727a",
   "metadata": {
    "ExecuteTime": {
     "end_time": "2023-04-30T00:19:24.652206Z",
     "start_time": "2023-04-30T00:19:21.682034Z"
    }
   },
   "outputs": [
    {
     "name": "stderr",
     "output_type": "stream",
     "text": [
      "/Users/timothytyree/opt/miniconda3/envs/pyenv/lib/python3.9/site-packages/statsmodels/compat/pandas.py:61: FutureWarning: pandas.Int64Index is deprecated and will be removed from pandas in a future version. Use pandas.Index with the appropriate dtype instead.\n",
      "  from pandas import Int64Index as NumericIndex\n"
     ]
    }
   ],
   "source": [
    "from lib.my_initialization import *"
   ]
  },
  {
   "cell_type": "code",
   "execution_count": 2,
   "id": "520ddbfa",
   "metadata": {
    "ExecuteTime": {
     "end_time": "2023-04-30T00:19:24.679870Z",
     "start_time": "2023-04-30T00:19:24.656094Z"
    }
   },
   "outputs": [],
   "source": [
    "plt.plot([1]*4)\n",
    "plt.close()\n",
    "#reset matplotlib\n",
    "import matplotlib\n",
    "matplotlib.rcParams.update(matplotlib.rcParamsDefault)\n",
    "mpl.rcParams.update(matplotlib.rcParamsDefault) #reset matplotlib"
   ]
  },
  {
   "cell_type": "code",
   "execution_count": 3,
   "id": "1e83ee4c",
   "metadata": {
    "ExecuteTime": {
     "end_time": "2023-04-30T00:19:24.693511Z",
     "start_time": "2023-04-30T00:19:24.681292Z"
    }
   },
   "outputs": [
    {
     "name": "stdout",
     "output_type": "stream",
     "text": [
      "annihilation rate density powerlaw fits:\n",
      "m = 1.877234 +/- 0.024488\n",
      "M = 5.572316 +/- 0.299027 Hz/cm^2; B=2.496963 +/- 0.039522\n",
      "RMSE=0.1386 Hz/cm^2; R^2=0.9969; MPE=6.9910%; N=73\n",
      "m = 1.637556 +/- 0.016847\n",
      "M = 16.735599 +/- 0.829136 Hz/cm^2; B=5.587740 +/- 0.065801\n",
      "RMSE=0.1340 Hz/cm^2; R^2=0.9973; MPE=7.2488%; N=100\n"
     ]
    }
   ],
   "source": [
    "kwargs = dict(data_fk_dir=f'{nb_dir}/data/full_results/data_fig4_vidmar_fk_tt.csv',\n",
    "              data_lr_dir=f'{nb_dir}/data/full_results/data_fig4_vidmar_lr_tt.csv',\n",
    "             min_num_particles=9)\n",
    "\n",
    "dict_wjr = recall_death_rates_vidmar_rappel(**kwargs)\n",
    "fk=dict_wjr['fk']\n",
    "lr=dict_wjr['lr']\n",
    "print(f\"annihilation rate density powerlaw fits:\")\n",
    "dict_fit_death_fk = print_fit_power_law(x=fk['q'].values,y=fk['w'].values)\n",
    "dict_fit_death_lr = print_fit_power_law(x=lr['q'].values,y=lr['w'].values)"
   ]
  },
  {
   "cell_type": "markdown",
   "id": "d71851d6",
   "metadata": {},
   "source": [
    "# define module"
   ]
  },
  {
   "cell_type": "code",
   "execution_count": 4,
   "id": "a8bd153b",
   "metadata": {
    "ExecuteTime": {
     "end_time": "2023-04-30T00:19:24.700340Z",
     "start_time": "2023-04-30T00:19:24.695927Z"
    }
   },
   "outputs": [],
   "source": [
    "@njit\n",
    "def find_min(dmin,xl):\n",
    "    \"\"\"xl is the size of the periodic dimension occupied by the elements of dmin\"\"\"\n",
    "    xmin = 2.*xl\n",
    "    imin=0\n",
    "    for i in range(3):\n",
    "        d=dmin[i]\n",
    "        if d<xmin:\n",
    "            xmin=d\n",
    "            imin=i\n",
    "    if imin==0:\n",
    "        return 0.\n",
    "    elif imin==1:\n",
    "        return xl\n",
    "    else:\n",
    "        return -xl"
   ]
  },
  {
   "cell_type": "code",
   "execution_count": 5,
   "id": "b5bba13f",
   "metadata": {
    "ExecuteTime": {
     "end_time": "2023-04-30T00:19:24.710617Z",
     "start_time": "2023-04-30T00:19:24.703036Z"
    }
   },
   "outputs": [],
   "source": [
    "@njit\n",
    "def distance_kernel_opm(x,y,L,N,\n",
    "        distance,disp_x,disp_y,\n",
    "        still_running,reflect,dmin):\n",
    "    \"\"\"\n",
    "    Example Usage:\n",
    "distance_kernel_opm(x,y,L,N,\n",
    "        distance,disp_x,disp_y,\n",
    "        still_running,reflect,dmin)\n",
    "    \"\"\"\n",
    "    for i in range(N): \n",
    "        if still_running[i]:\n",
    "            for j in range(i+1,N):\n",
    "                if (still_running[j]) & (i!=j):\n",
    "                    if reflect==1:\n",
    "                        dx=x[i]-x[j];\n",
    "                        dy=y[i]-y[j];\n",
    "                    else:  \n",
    "                        #handle periodic b.c.\n",
    "                        dmin[0]=np.abs(x[i]-x[j]);\n",
    "#                         dmin[1]=np.abs(x[i]-L-x[j]);\n",
    "#                         dmin[2]=np.abs(x[i]+L-x[j]);\n",
    "                        dmin[1]=np.abs(x[i]+L-x[j]);  #<<< originally used\n",
    "                        dmin[2]=np.abs(x[i]-L-x[j]);#<<< originally used\n",
    "                        facx = find_min(dmin,L);\n",
    "                        dmin[0]=np.abs(y[i]-y[j]);\n",
    "#                         dmin[1]=np.abs(y[i]-L-y[j]);\n",
    "#                         dmin[2]=np.abs(y[i]+L-y[j]);\n",
    "                        dmin[1]=np.abs(y[i]+L-y[j]);#<<< originally used\n",
    "                        dmin[2]=np.abs(y[i]-L-y[j]);#<<< originally used\n",
    "                        facy = find_min(dmin,L);\n",
    "                        dx=x[i]+facx-x[j];\n",
    "                        dy=y[i]+facy-y[j];\n",
    "                    dist2 = dx**2 + dy**2\n",
    "                    # record distance and displacement\n",
    "                    distance[i][j]=dist2;\n",
    "                    distance[j][i]=dist2;\n",
    "                    disp_x[i,j]=-dx;\n",
    "                    disp_y[i,j]=-dy;\n",
    "                    disp_x[j,i]=dx;\n",
    "                    disp_y[j,i]=dy;"
   ]
  },
  {
   "cell_type": "code",
   "execution_count": 6,
   "id": "05c68aa0",
   "metadata": {
    "ExecuteTime": {
     "end_time": "2023-04-30T00:19:24.722416Z",
     "start_time": "2023-04-30T00:19:24.712986Z"
    }
   },
   "outputs": [],
   "source": [
    "@njit\n",
    "def normalRandomArray(N):\n",
    "    return np.random.normal(0,1,N)\n",
    "\n",
    "@njit\n",
    "def one_step_kernel_opm(x,y,phi,N,L,randarr,distance,chirality,\n",
    "                       still_running,icaught,\n",
    "                       phistep,duhstep,diffstep,impulse,impulse0,R0):\n",
    "    \"\"\"\n",
    "    Example Usage:\n",
    "randarr = normalRandomArray(N*3)\n",
    "one_step_kernel_opm(x,y,phi,N,L,randarr,distance,chirality,\n",
    "                       still_running,icaught,\n",
    "                       phistep,duhstep,diffstep,impulse,impulse0,R0)\n",
    "    \"\"\"\n",
    "    #one_step_kernel_opm\n",
    "    for i in range(N): \n",
    "        if still_running[i]:\n",
    "            x[i] = x[i] + diffstep*randarr[i+2*N]\n",
    "            x[i] = x[i] + diffstep*randarr[i+N]\n",
    "            if (icaught[i]==-1):\n",
    "                phi[i] = phi[i] + chirality[i]*phistep + duhstep*randarr[i]\n",
    "                x[i] = x[i] + impulse/R0*np.cos(phi[i])\n",
    "                y[i] = y[i] + impulse/R0*np.sin(phi[i])\n",
    "            else:\n",
    "                #GOAL: dev one step for attracting phase\n",
    "                # #find nearest neighbor as ineighbor\n",
    "                # mindist=2.*L\n",
    "                # ineighbor=i\n",
    "                # for j in range(N):\n",
    "                #     if still_running[j] & (~still_wandering[j]) & (i!=j):\n",
    "                #         if mindist>distance[i,j]:\n",
    "                #             mindist=distance[i,j]\n",
    "                #             ineighbor=j\n",
    "                #recall distance to nearest neighbor\n",
    "                #R = np.sqrt(mindist)\n",
    "                #R = np.sqrt(distance[i,ineighbor])  \n",
    "                SR=distance[i,icaught[i]]\n",
    "                if SR<=2e-2:\n",
    "                    SR=2e-2\n",
    "                    #SR=9e9\n",
    "                    \n",
    "                #add oscillatory force\n",
    "#                 R = np.sqrt(SR)  \n",
    "#                 x[i] = x[i] + impulse/R*np.cos(phi[i])\n",
    "#                 y[i] = y[i] + impulse/R*np.sin(phi[i])\n",
    "                x[i] = x[i] + impulse/R0*np.cos(phi[i])\n",
    "                y[i] = y[i] + impulse/R0*np.sin(phi[i])\n",
    "                phi[i] = phi[i] + chirality[i]*phistep\n",
    "            \n",
    "                #add attractive force\n",
    "                Dx = disp_x[i,icaught[i]]/SR\n",
    "                Dy = disp_y[i,icaught[i]]/SR\n",
    "                x[i] = x[i] - impulse0*Dx   #yields fewer stray caught pairs\n",
    "                y[i] = y[i] - impulse0*Dy   #yields fewer stray caught pairs\n",
    "#                 x[i] = x[i] + impulse0*Dx  #<<< visibly diverges caught pairs at long time scales\n",
    "#                 y[i] = y[i] + impulse0*Dy  #<<< visibly diverges caught pairs at long time scales\n"
   ]
  },
  {
   "cell_type": "code",
   "execution_count": 7,
   "id": "306b6057",
   "metadata": {
    "ExecuteTime": {
     "end_time": "2023-04-30T00:19:24.733493Z",
     "start_time": "2023-04-30T00:19:24.725316Z"
    }
   },
   "outputs": [],
   "source": [
    "@njit\n",
    "def reflection(x, L):\n",
    "    return L-np.abs(L-np.abs(x%(2.*L)))\n",
    "\n",
    "@njit\n",
    "def enforce_bc_kernel(x,y,N,L,still_running,reflect):\n",
    "    \"\"\"\n",
    "    Example Usage:\n",
    "enforce_bc_kernel(x,y,N,L,still_running,reflect)\n",
    "    \"\"\"\n",
    "    #enforce boundary conditions\n",
    "    for i in range(N):\n",
    "        if still_running[i]:\n",
    "            if reflect==1:\n",
    "                #enforce reflecting boundary conditions\n",
    "                x[i] = reflection(x[i], L)\n",
    "                y[i] = reflection(y[i], L)\n",
    "            else:\n",
    "                #enforce periodic boundary conditions\n",
    "                if (x[i]>L):\n",
    "                    x[i]=x[i]-L;\n",
    "                elif (x[i]<0.):\n",
    "                    x[i]=x[i]+L;\n",
    "                if (y[i]>L):\n",
    "                    y[i]=y[i]-L;\n",
    "                elif (y[i]<0.):\n",
    "                    y[i]=y[i]+L;"
   ]
  },
  {
   "cell_type": "code",
   "execution_count": 8,
   "id": "47ddae1d",
   "metadata": {
    "ExecuteTime": {
     "end_time": "2023-04-30T00:19:24.743368Z",
     "start_time": "2023-04-30T00:19:24.736071Z"
    }
   },
   "outputs": [],
   "source": [
    "@njit\n",
    "def catch_kernel_opm(phi,disp_x,disp_y,distance,still_running,icaught,chirality,\n",
    "                    N,rxn_rng,phidiff_thresh,rxnstep):\n",
    "    \"\"\"\n",
    "    Example Usage:\n",
    "catch_kernel_opm(phi,disp_x,disp_y,distance,still_running,icaught,chirality,\n",
    "                    N,rxn_rng,phidiff_thresh,rxnstep)\n",
    "    \"\"\"\n",
    "    for i in range(N): \n",
    "        #if still_wandering and still_running\n",
    "        if still_running[i] and (icaught[i]==-1):  \n",
    "            #determine whether to start a reaction\n",
    "            chiral=chirality[i]\n",
    "            for j in range(i+1,N): \n",
    "                if still_running[j] and (icaught[j]==-1):  \n",
    "                    if (chiral*chirality[j]==-1): #if opposite handed\n",
    "                        dist2=distance[i,j]\n",
    "                        #catching mode determination\n",
    "                        if (dist2<rxn_rng) & (dist2>0): # if within rxn range, ignoring collocalization edge cases\n",
    "                            #determine whether phases match\n",
    "                            dist = np.sqrt(dist2)\n",
    "                            dy = disp_y[i,j]/dist\n",
    "                            dx = disp_x[i,j]/dist\n",
    "                            vx = np.cos(phi[i]) + np.cos(phi[j])  #x velocity in units of v0\n",
    "                            vy = np.sin(phi[i]) + np.sin(phi[j])  #y velocity in units of v0\n",
    "                            #if (vx,vy)=v1+v2 is also larger in magnitude than v1*sin(phi) and v2*np.sin\n",
    "                            if (vx*dx + vy*dy)<phidiff_thresh: #if phases match\n",
    "                                cs1=np.cos(phi[i])*dy - np.sin(phi[i])*dx\n",
    "                                cs2=np.cos(phi[j])*dy - np.sin(phi[j])*dx\n",
    "                                acr=np.abs(vx*dy - vy*dx)\n",
    "                                if (acr>cs1) & (acr>cs2):\n",
    "                                    #then the catch is valid\n",
    "                                    # start reaction with prob kappa*dt\n",
    "                                    if (np.random.uniform(1,0,1)<=rxnstep):\n",
    "                                        #set pair to be in \"caught\" mode\n",
    "                                        icaught[i]=j\n",
    "                                        icaught[j]=i"
   ]
  },
  {
   "cell_type": "code",
   "execution_count": 9,
   "id": "62d5fe35",
   "metadata": {
    "ExecuteTime": {
     "end_time": "2023-04-30T00:19:24.749961Z",
     "start_time": "2023-04-30T00:19:24.745337Z"
    }
   },
   "outputs": [],
   "source": [
    "@njit\n",
    "def iter_over_pairs(N,still_running):\n",
    "    for i in range(N):\n",
    "        if still_running[i]:\n",
    "            for j in range(i+1,N):\n",
    "                if still_running[j]:\n",
    "                    yield i,j"
   ]
  },
  {
   "cell_type": "code",
   "execution_count": 10,
   "id": "fceec9f1",
   "metadata": {
    "ExecuteTime": {
     "end_time": "2023-04-30T00:19:24.758689Z",
     "start_time": "2023-04-30T00:19:24.754712Z"
    }
   },
   "outputs": [],
   "source": [
    "def plotter_opm(x,y,phi,colors,L,text,fontsize,**kwargs):\n",
    "    ax.quiver(x, y, np.cos(phi), np.sin(phi), angles=\"xy\",scale = 30,width = 0.004,\n",
    "              color=colors,**kwargs)\n",
    "    ax.annotate(text,xy=(0.6,0.02),fontsize=fontsize,xycoords='axes fraction')\n",
    "    ax.axis([0,L,0,L])\n",
    "    ax.axis('off')\n",
    "    return ax"
   ]
  },
  {
   "cell_type": "code",
   "execution_count": 11,
   "id": "7e16c253",
   "metadata": {
    "ExecuteTime": {
     "end_time": "2023-04-30T00:19:24.764290Z",
     "start_time": "2023-04-30T00:19:24.760829Z"
    }
   },
   "outputs": [],
   "source": [
    "# @njit\n",
    "# def normalRandom(): \n",
    "#     \"\"\"normalRandom returns a normally distributed random value.\n",
    "    \n",
    "#     Example Usage:\n",
    "# print(f\"{normalRandom()=}\")\n",
    "#     \"\"\"\n",
    "#     v1=np.random.uniform()\n",
    "#     v2=np.random.uniform()\n",
    "#     return np.cos(2.*3.141592653589793*v2)*np.sqrt(-2.*np.log(v1));\n"
   ]
  },
  {
   "cell_type": "markdown",
   "id": "6d696296",
   "metadata": {},
   "source": [
    "# dev simulation of OPM"
   ]
  },
  {
   "cell_type": "code",
   "execution_count": 12,
   "id": "137daa0a",
   "metadata": {
    "ExecuteTime": {
     "end_time": "2023-04-30T00:19:24.778330Z",
     "start_time": "2023-04-30T00:19:24.767023Z"
    }
   },
   "outputs": [
    {
     "name": "stdout",
     "output_type": "stream",
     "text": [
      "catchings start at np.sqrt(rxn_rng)=0.300 cm.\n",
      "removals start at np.sqrt(epsilon)=0.155 cm.\n"
     ]
    }
   ],
   "source": [
    "# dt = 1e-4 #s\n",
    "dt = 1e-5 #s\n",
    "NL = 12 #number of rows/columns\n",
    "N = NL**2 #on a square grid\n",
    "L=5. #cm\n",
    "\n",
    "#Luo-Rudy force model\n",
    "a0 = 4.2 #cm^2/s\n",
    "# a0=0\n",
    "a1 = 12.18 #cm^2/s\n",
    "D = 0.42 #cm^2/s\n",
    "# D=0 \n",
    "T=0.0974#s  \n",
    "\n",
    "# alinear=10.147\n",
    "# alinear=9.3#9.3154\n",
    "# r=1.55; kappa=10000\n",
    "r=0.155; kappa=300\n",
    "# r=0.5  \n",
    "r=0.3; kappa=300\n",
    "# r=0.2500; kappa=300\n",
    "# r=0.135; kappa=60\n",
    "# kappa=60\n",
    "# kappa=100; r=0.125\n",
    "# r=1.55; kappa=1/dt\n",
    "N_end=1\n",
    "\n",
    "Duh=0.125 #rad^2/s\n",
    "# Duh=1.25 #rad^2/s\n",
    "# Duh=2 #rad^2/s #\n",
    "Duh=10 #rad^2/s  #\n",
    "#heretim\n",
    "#Q: which is Duh best?\n",
    "\n",
    "# Duh=10.25 #rad^2/s\n",
    "chi=1.  # chi=1. is the trivial case, setting the rotational scale to the capture range\n",
    "# chi=0.5\n",
    "R0 = chi*r #cm\n",
    "# R0 = 2 #cm\n",
    "# R0 = 0.5 #cm  #<<< looks reasonable at # Duh=1.25 #rad^2/s\n",
    "# R0 = 0.25 #cm\n",
    "# R0 = 0.2 #cm\n",
    "#heretim\n",
    "\n",
    "\n",
    "seed=42\n",
    "reflect=0\n",
    "use_random_ic=False\n",
    "#define the system variables\n",
    "dtype='float64'\n",
    "disp_x=np.zeros((N,N),dtype=dtype)\n",
    "disp_y=np.zeros((N,N),dtype=dtype)\n",
    "distance=np.zeros((N,N),dtype=dtype)\n",
    "\n",
    "#heretim\n",
    "epsilon=(0.155)**2 #cm^2\n",
    "# epsilon=2e-2 #cm^2\n",
    "# epsilon=5e-2 #cm^2  #<<< no stray tips\n",
    "# epsilon=1e-2 #cm^2\n",
    "# epsilon=1e-4 #cm^2  #annihilated tips appear colocalized\n",
    "epsilon_kappa=1e4 #Hz  \n",
    "# epsilon_kappa = 1/dt #trivial / instantaneous remove when within distance epsilon\n",
    "rmvstep = epsilon_kappa*dt\n",
    "phidiff_thresh=np.sin(1e-3) #radians\n",
    "# phidiff_thresh=np.sin(1e-1) #radians\n",
    "icaught=np.zeros(N,dtype='int')-1\n",
    "still_running=np.ones(N,dtype='int')==1\n",
    "dmin=np.zeros(3)\n",
    "\n",
    "\n",
    "\n",
    "#define the system constants\n",
    "omega0 = 2*np.pi/T #rad/s\n",
    "rxnstep = kappa*dt\n",
    "phistep = omega0*dt #rad/s\n",
    "duhstep = np.sqrt(2*Duh*dt) #rad/s\n",
    "# impulse = alinear*dt # cm^2\n",
    "impulse = a1*dt # cm^2\n",
    "# impulse0 = (a1+2*D)*dt # cm^2\n",
    "impulse0 = a0*dt # cm^2\n",
    "diffstep = np.sqrt(2*D*dt)\n",
    "rxn_rng = r**2 #cm^2\n",
    "\n",
    "print(f\"catchings start at {np.sqrt(rxn_rng)=:.3f} cm.\")\n",
    "print(f\"removals start at {np.sqrt(epsilon)=:.3f} cm.\")\n",
    "\n",
    "chirality=np.ones(N,dtype='int')\n",
    "#set every other chirality to -1\n",
    "boo=False\n",
    "for i in range(N):\n",
    "    if boo:\n",
    "        chirality[i]*=-1\n",
    "    boo = not boo"
   ]
  },
  {
   "cell_type": "code",
   "execution_count": 13,
   "id": "bd7caac0",
   "metadata": {
    "ExecuteTime": {
     "end_time": "2023-04-30T00:19:24.784085Z",
     "start_time": "2023-04-30T00:19:24.780938Z"
    }
   },
   "outputs": [],
   "source": [
    "Tsum_array=np.zeros(N+1,dtype=dtype)\n",
    "Tcount_array=np.zeros(N+1,dtype='int')"
   ]
  },
  {
   "cell_type": "code",
   "execution_count": null,
   "id": "78dc7ceb",
   "metadata": {},
   "outputs": [],
   "source": []
  },
  {
   "cell_type": "code",
   "execution_count": 14,
   "id": "ff2a96e8",
   "metadata": {
    "ExecuteTime": {
     "end_time": "2023-04-30T00:19:24.868984Z",
     "start_time": "2023-04-30T00:19:24.787158Z"
    }
   },
   "outputs": [],
   "source": [
    "#for snapshot output\n",
    "save_folder=f\"{nb_dir}/Figures/mov\"\n",
    "if os.path.exists(save_folder):\n",
    "    #cleanse the old snapshot folder\n",
    "    shutil.rmtree(save_folder)\n",
    "os.mkdir(save_folder)\n",
    "frameno=1\n",
    "save_fn=None\n",
    "inch=6\n",
    "annotating=True\n",
    "message='osc. particle model'"
   ]
  },
  {
   "cell_type": "code",
   "execution_count": 15,
   "id": "a15c5c40",
   "metadata": {
    "ExecuteTime": {
     "end_time": "2023-04-30T00:19:24.880774Z",
     "start_time": "2023-04-30T00:19:24.871062Z"
    }
   },
   "outputs": [
    {
     "name": "stdout",
     "output_type": "stream",
     "text": [
      "the system is initialized (seed: 42).\n"
     ]
    }
   ],
   "source": [
    "niter=1500\n",
    "np.random.seed(seed)\n",
    "for q in range(niter):\n",
    "    pass\n",
    "# use_random_ic=True\n",
    "# use_random_ic=False\n",
    "nparticles=N\n",
    "\n",
    "#define the initial condition of the system\n",
    "phi = (np.random.uniform(size=N)*2*np.pi).astype(dtype)\n",
    "x = (np.linspace(0+0.5/NL, 1-0.5/NL, NL))*L\n",
    "y = (np.linspace(0+0.5/NL, 1-0.5/NL, NL))*L\n",
    "x, y = np.meshgrid(x, y)\n",
    "x = x.flatten()\n",
    "y = y.flatten()\n",
    "if use_random_ic:\n",
    "    x = (np.random.uniform(size=N)*L).astype(dtype)\n",
    "    y = (np.random.uniform(size=N)*L).astype(dtype)\n",
    "print(f\"the system is initialized (seed: {seed}).\")\n",
    "\n",
    "colors=[]\n",
    "for c in chirality:\n",
    "    if c==-1:\n",
    "        colors.append('k')\n",
    "    else:\n",
    "        colors.append('gray')"
   ]
  },
  {
   "cell_type": "code",
   "execution_count": null,
   "id": "2423c39b",
   "metadata": {},
   "outputs": [],
   "source": []
  },
  {
   "cell_type": "code",
   "execution_count": 16,
   "id": "239baaec",
   "metadata": {
    "ExecuteTime": {
     "end_time": "2023-04-30T00:19:25.014649Z",
     "start_time": "2023-04-30T00:19:24.883158Z"
    }
   },
   "outputs": [
    {
     "data": {
      "image/png": "[encoded data removed]",
      "text/plain": [
       "<Figure size 400x400 with 1 Axes>"
      ]
     },
     "metadata": {},
     "output_type": "display_data"
    }
   ],
   "source": [
    "plt.subplots(figsize=(4,4))\n",
    "plt.quiver(x, y, np.cos(phi), np.sin(phi), angles=\"xy\",scale = 32,width = 0.004,\n",
    "          color=colors)\n",
    "plt.axis([0,L,0,L])\n",
    "plt.show()"
   ]
  },
  {
   "cell_type": "code",
   "execution_count": 17,
   "id": "2b7a0de0",
   "metadata": {
    "ExecuteTime": {
     "end_time": "2023-04-30T00:19:25.020514Z",
     "start_time": "2023-04-30T00:19:25.016531Z"
    }
   },
   "outputs": [
    {
     "data": {
      "text/plain": [
       "432"
      ]
     },
     "execution_count": 17,
     "metadata": {},
     "output_type": "execute_result"
    }
   ],
   "source": [
    "3*N"
   ]
  },
  {
   "cell_type": "code",
   "execution_count": 18,
   "id": "f5f24540",
   "metadata": {
    "ExecuteTime": {
     "end_time": "2023-04-30T00:19:25.024760Z",
     "start_time": "2023-04-30T00:19:25.022463Z"
    }
   },
   "outputs": [],
   "source": [
    "# #TODO: get catcher kernel to use sin instead of cos to make two tips \"caught\"\n",
    "# #DONE: get ^that snap shot looking reasonable\n",
    "# #DONE: save to save_folder, as before\n",
    "# # Figures/mov/img%07d.png\n",
    "# save_folder = f\"{nb_dir}/Figures/mov\"\n",
    "# save_folder\n",
    "# randarr = normalRandomArray(3*N) # +0\n",
    "# randarr = np.random.normal(0,1,3*N)\n",
    "# from numba import njit "
   ]
  },
  {
   "cell_type": "code",
   "execution_count": 19,
   "id": "ff8374e1",
   "metadata": {
    "ExecuteTime": {
     "end_time": "2023-04-30T00:20:40.229596Z",
     "start_time": "2023-04-30T00:19:25.026697Z"
    }
   },
   "outputs": [
    {
     "name": "stdout",
     "output_type": "stream",
     "text": [
      " |███████████████████████████████████████████████████████████████████████████████████████████████████-| 99.8% \r"
     ]
    }
   ],
   "source": [
    "t=0.\n",
    "frameno=0\n",
    "fontsize=16\n",
    "save_every=100\n",
    "# save_every=200\n",
    "printing=True\n",
    "num_steps = 50000\n",
    "#distance_kernel_opm\n",
    "distance_kernel_opm(x,y,L,N,  #<<< gives the run time +15s per 100000 calls\n",
    "        distance,disp_x,disp_y,\n",
    "        still_running,reflect,dmin)\n",
    "\n",
    "for step in range(num_steps):\n",
    "    #normal random number generation \n",
    "    #randarr = normalRandomArray(3*N) # +0s run time per 100000 calls\n",
    "    randarr = np.random.normal(0,1,3*N)\n",
    "    #motion\n",
    "    one_step_kernel_opm(x,y,phi,N,L,randarr,distance,chirality, # +0s run time per 100000 calls\n",
    "                       still_running,icaught,\n",
    "                       phistep,duhstep,diffstep,impulse,impulse0,R0)\n",
    "    #enforce pbc if reflect is not 1\n",
    "    enforce_bc_kernel(x,y,N,L,still_running,reflect)\n",
    "    #distance_kernel_opm\n",
    "    distance_kernel_opm(x,y,L,N,  #<<< gives the run time +15s per 100000 calls\n",
    "            distance,disp_x,disp_y,\n",
    "            still_running,reflect,dmin)\n",
    "    #determine any new captured modes\n",
    "    catch_kernel_opm(phi,disp_x,disp_y,distance,still_running,icaught,chirality,  ## +34.5s run time per 100000 calls\n",
    "                        N,rxn_rng,phidiff_thresh,rxnstep)\n",
    "    #removal kernel & recording annihilation dwell times\n",
    "    for i,j in iter_over_pairs(N,still_running):\n",
    "        if (chirality[i]*chirality[j]==-1) & (epsilon>distance[i,j]):\n",
    "            if (np.random.uniform(1,0,1)<rmvstep):\n",
    "                #compute time since last reaction\n",
    "                t_prev=t;\n",
    "                t=step*dt;\n",
    "                #record\n",
    "                Tsum_array[nparticles] = Tsum_array[nparticles] + t - t_prev;\n",
    "                Tcount_array[nparticles] = Tcount_array[nparticles] + 1;\n",
    "                nparticles=nparticles-2;\n",
    "                #remove the two reacting particles from simulation\n",
    "                still_running[i]=False\n",
    "                still_running[j]=False\n",
    "                \n",
    "    #clean up any caught tips still running who lost their mate\n",
    "    for i in range(N):\n",
    "        j = icaught[i]\n",
    "        if still_running[i] & (j!=-1):\n",
    "            if (~still_running[j]):\n",
    "                icaught[i] = -1\n",
    "\n",
    "    if (step%save_every)==0:\n",
    "        for i,c in enumerate(colors):\n",
    "            if not still_running[i]:\n",
    "                colors[i]='pink'\n",
    "            elif (icaught[i]!=-1) & (chirality[i]==1):\n",
    "                colors[i]='C0'\n",
    "            elif (icaught[i]!=-1) & (chirality[i]==-1):\n",
    "                colors[i]='C1'\n",
    "            elif chirality[i]==-1:\n",
    "                colors[i]='k'\n",
    "            else:\n",
    "                colors[i]='gray'\n",
    "        text = f\"t = {step*dt:.3f} s\\nnum. = {nparticles}\"      \n",
    "        fig,ax = plt.subplots(figsize=(4,4))\n",
    "        plotter_opm(x,y,phi,colors,L,text,fontsize)#,**kwargs)\n",
    "        os.chdir(save_folder)\n",
    "        save_fn = f\"img{frameno:07d}.png\"\n",
    "        fig.savefig(save_fn,dpi=2*1080/inch, bbox_inches='tight',pad_inches=0,\n",
    "                    facecolor='white');\n",
    "        frameno+=1\n",
    "        plt.close()\n",
    "        if printing:\n",
    "            printProgressBar(step+1,num_steps)\n",
    "    if nparticles<=N_end:\n",
    "        break"
   ]
  },
  {
   "cell_type": "code",
   "execution_count": 20,
   "id": "d50bac00",
   "metadata": {
    "ExecuteTime": {
     "end_time": "2023-04-30T00:20:53.033583Z",
     "start_time": "2023-04-30T00:20:40.231475Z"
    },
    "run_control": {
     "marked": true
    }
   },
   "outputs": [
    {
     "name": "stderr",
     "output_type": "stream",
     "text": [
      "ffmpeg version 5.1.2 Copyright (c) 2000-2022 the FFmpeg developers\n",
      "  built with Apple clang version 14.0.0 (clang-1400.0.29.202)\n",
      "  configuration: --prefix=/usr/local/Cellar/ffmpeg/5.1.2_6 --enable-shared --enable-pthreads --enable-version3 --cc=clang --host-cflags= --host-ldflags= --enable-ffplay --enable-gnutls --enable-gpl --enable-libaom --enable-libaribb24 --enable-libbluray --enable-libdav1d --enable-libmp3lame --enable-libopus --enable-librav1e --enable-librist --enable-librubberband --enable-libsnappy --enable-libsrt --enable-libsvtav1 --enable-libtesseract --enable-libtheora --enable-libvidstab --enable-libvmaf --enable-libvorbis --enable-libvpx --enable-libwebp --enable-libx264 --enable-libx265 --enable-libxml2 --enable-libxvid --enable-lzma --enable-libfontconfig --enable-libfreetype --enable-frei0r --enable-libass --enable-libopencore-amrnb --enable-libopencore-amrwb --enable-libopenjpeg --enable-libspeex --enable-libsoxr --enable-libzmq --enable-libzimg --disable-libjack --disable-indev=jack --enable-videotoolbox\n",
      "  libavutil      57. 28.100 / 57. 28.100\n",
      "  libavcodec     59. 37.100 / 59. 37.100\n",
      "  libavformat    59. 27.100 / 59. 27.100\n",
      "  libavdevice    59.  7.100 / 59.  7.100\n",
      "  libavfilter     8. 44.100 /  8. 44.100\n",
      "  libswscale      6.  7.100 /  6.  7.100\n",
      "  libswresample   4.  7.100 /  4.  7.100\n",
      "  libpostproc    56.  6.100 / 56.  6.100\n",
      "Input #0, image2, from '../../python/Figures/mov/img%07d.png':\n",
      "  Duration: 00:00:20.00, start: 0.000000, bitrate: N/A\n",
      "  Stream #0:0: Video: png, rgba(pc), 1144x1108 [SAR 14173:14173 DAR 286:277], 25 fps, 25 tbr, 25 tbn\n",
      "Stream mapping:\n",
      "  Stream #0:0 -> #0:0 (png (native) -> h264 (libx264))\n",
      "Press [q] to stop, [?] for help\n",
      "[libx264 @ 0x7fef8d30a800] using SAR=1889/1888\n",
      "[libx264 @ 0x7fef8d30a800] using cpu capabilities: MMX2 SSE2Fast SSSE3 SSE4.2 AVX FMA3 BMI2 AVX2\n",
      "[libx264 @ 0x7fef8d30a800] profile High, level 3.2, 4:2:0, 8-bit\n",
      "Output #0, mpegts, to '../mov/tmp/tmp.MTS':\n",
      "  Metadata:\n",
      "    encoder         : Lavf59.27.100\n",
      "  Stream #0:0: Video: h264, yuv420p(tv, progressive), 1280x720 [SAR 205920:205811 DAR 366080:205811], q=2-31, 60 fps, 90k tbn\n",
      "    Metadata:\n",
      "      encoder         : Lavc59.37.100 libx264\n",
      "    Side data:\n",
      "      cpb: bitrate max/min/avg: 0/0/0 buffer size: 0 vbv_delay: N/A\n",
      "frame= 1197 fps=167 q=-1.0 Lsize=     948kB time=00:00:19.95 bitrate= 389.5kbits/s speed=2.79x    \n",
      "video:721kB audio:0kB subtitle:0kB other streams:0kB global headers:0kB muxing overhead: 31.500751%\n",
      "[libx264 @ 0x7fef8d30a800] frame I:5     Avg QP:17.81  size: 16354\n",
      "[libx264 @ 0x7fef8d30a800] frame P:311   Avg QP:29.04  size:  1314\n",
      "[libx264 @ 0x7fef8d30a800] frame B:881   Avg QP:20.45  size:   282\n",
      "[libx264 @ 0x7fef8d30a800] consecutive B-frames:  0.6%  2.8%  3.0% 93.6%\n",
      "[libx264 @ 0x7fef8d30a800] mb I  I16..4: 35.8% 52.1% 12.1%\n",
      "[libx264 @ 0x7fef8d30a800] mb P  I16..4:  0.1%  0.8%  0.6%  P16..4:  1.3%  0.6%  0.3%  0.0%  0.0%    skip:96.3%\n",
      "[libx264 @ 0x7fef8d30a800] mb B  I16..4:  0.1%  0.0%  0.0%  B16..8:  3.1%  0.2%  0.0%  direct: 0.0%  skip:96.4%  L0:51.0% L1:47.9% BI: 1.1%\n",
      "[libx264 @ 0x7fef8d30a800] 8x8 transform intra:49.0% inter:18.9%\n",
      "[libx264 @ 0x7fef8d30a800] coded y,uvDC,uvAC intra: 12.6% 6.4% 6.1% inter: 0.2% 0.0% 0.0%\n",
      "[libx264 @ 0x7fef8d30a800] i16 v,h,dc,p: 85%  9%  6%  0%\n",
      "[libx264 @ 0x7fef8d30a800] i8 v,h,dc,ddl,ddr,vr,hd,vl,hu: 32%  3% 64%  0%  0%  0%  0%  0%  0%\n",
      "[libx264 @ 0x7fef8d30a800] i4 v,h,dc,ddl,ddr,vr,hd,vl,hu: 27% 13% 39%  3%  4%  4%  3%  4%  3%\n",
      "[libx264 @ 0x7fef8d30a800] i8c dc,h,v,p: 92%  4%  4%  0%\n",
      "[libx264 @ 0x7fef8d30a800] Weighted P-Frames: Y:0.0% UV:0.0%\n",
      "[libx264 @ 0x7fef8d30a800] ref P L0: 75.0%  3.3% 13.1%  8.6%\n",
      "[libx264 @ 0x7fef8d30a800] ref B L0: 73.1% 23.3%  3.6%\n",
      "[libx264 @ 0x7fef8d30a800] ref B L1: 96.2%  3.8%\n",
      "[libx264 @ 0x7fef8d30a800] kb/s:295.42\n",
      "ffmpeg version 5.1.2 Copyright (c) 2000-2022 the FFmpeg developers\n",
      "  built with Apple clang version 14.0.0 (clang-1400.0.29.202)\n",
      "  configuration: --prefix=/usr/local/Cellar/ffmpeg/5.1.2_6 --enable-shared --enable-pthreads --enable-version3 --cc=clang --host-cflags= --host-ldflags= --enable-ffplay --enable-gnutls --enable-gpl --enable-libaom --enable-libaribb24 --enable-libbluray --enable-libdav1d --enable-libmp3lame --enable-libopus --enable-librav1e --enable-librist --enable-librubberband --enable-libsnappy --enable-libsrt --enable-libsvtav1 --enable-libtesseract --enable-libtheora --enable-libvidstab --enable-libvmaf --enable-libvorbis --enable-libvpx --enable-libwebp --enable-libx264 --enable-libx265 --enable-libxml2 --enable-libxvid --enable-lzma --enable-libfontconfig --enable-libfreetype --enable-frei0r --enable-libass --enable-libopencore-amrnb --enable-libopencore-amrwb --enable-libopenjpeg --enable-libspeex --enable-libsoxr --enable-libzmq --enable-libzimg --disable-libjack --disable-indev=jack --enable-videotoolbox\n",
      "  libavutil      57. 28.100 / 57. 28.100\n",
      "  libavcodec     59. 37.100 / 59. 37.100\n",
      "  libavformat    59. 27.100 / 59. 27.100\n",
      "  libavdevice    59.  7.100 / 59.  7.100\n",
      "  libavfilter     8. 44.100 /  8. 44.100\n",
      "  libswscale      6.  7.100 /  6.  7.100\n",
      "  libswresample   4.  7.100 /  4.  7.100\n",
      "  libpostproc    56.  6.100 / 56.  6.100\n",
      "Input #0, lavfi, from 'color=black:1280x720':\n",
      "  Duration: N/A, start: 0.000000, bitrate: N/A\n",
      "  Stream #0:0: Video: rawvideo (I420 / 0x30323449), yuv420p, 1280x720 [SAR 1:1 DAR 16:9], 25 tbr, 25 tbn\n",
      "Input #1, lavfi, from 'anullsrc':\n",
      "  Duration: N/A, start: 0.000000, bitrate: 705 kb/s\n",
      "  Stream #1:0: Audio: pcm_u8, 44100 Hz, stereo, u8, 705 kb/s\n",
      "Stream mapping:\n",
      "  Stream #0:0 -> #0:0 (rawvideo (native) -> h264 (libx264))\n",
      "  Stream #1:0 -> #0:1 (pcm_u8 (native) -> aac (native))\n",
      "Press [q] to stop, [?] for help\n",
      "[libx264 @ 0x7f86c8807900] using SAR=1/1\n",
      "[libx264 @ 0x7f86c8807900] using cpu capabilities: MMX2 SSE2Fast SSSE3 SSE4.2 AVX FMA3 BMI2 AVX2\n",
      "[libx264 @ 0x7f86c8807900] profile High, level 3.2, 4:2:0, 8-bit\n",
      "[libx264 @ 0x7f86c8807900] 264 - core 164 r3095 baee400 - H.264/MPEG-4 AVC codec - Copyleft 2003-2022 - http://www.videolan.org/x264.html - options: cabac=1 ref=3 deblock=1:0:0 analyse=0x3:0x113 me=hex subme=7 psy=1 psy_rd=1.00:0.00 mixed_ref=1 me_range=16 chroma_me=1 trellis=1 8x8dct=1 cqm=0 deadzone=21,11 fast_pskip=1 chroma_qp_offset=-2 threads=12 lookahead_threads=2 sliced_threads=0 nr=0 decimate=1 interlaced=0 bluray_compat=0 constrained_intra=0 bframes=3 b_pyramid=2 b_adapt=1 b_bias=0 direct=1 weightb=1 open_gop=0 weightp=2 keyint=250 keyint_min=25 scenecut=40 intra_refresh=0 rc_lookahead=40 rc=abr mbtree=1 bitrate=1000 ratetol=1.0 qcomp=0.60 qpmin=0 qpmax=69 qpstep=4 ip_ratio=1.40 aq=1:1.00\n",
      "Output #0, mp4, to 'tmp/intro.mp4':\n",
      "  Metadata:\n",
      "    encoder         : Lavf59.27.100\n",
      "  Stream #0:0: Video: h264 (avc1 / 0x31637661), yuv420p(progressive), 1280x720 [SAR 1:1 DAR 16:9], q=2-31, 1000 kb/s, 60 fps, 400 tbn\n",
      "    Metadata:\n",
      "      encoder         : Lavc59.37.100 libx264\n",
      "    Side data:\n",
      "      cpb: bitrate max/min/avg: 0/0/1000000 buffer size: 0 vbv_delay: N/A\n",
      "  Stream #0:1: Audio: aac (LC) (mp4a / 0x6134706D), 44100 Hz, stereo, fltp, 128 kb/s\n",
      "    Metadata:\n",
      "      encoder         : Lavc59.37.100 aac\n",
      "frame=   24 fps=0.0 q=-1.0 Lsize=       7kB time=00:00:00.41 bitrate= 137.6kbits/s speed=2.96x    \n",
      "video:5kB audio:0kB subtitle:0kB other streams:0kB global headers:0kB muxing overhead: 44.462311%\n",
      "[libx264 @ 0x7f86c8807900] frame I:1     Avg QP:25.00  size:   208\n",
      "[libx264 @ 0x7f86c8807900] frame P:6     Avg QP:22.19  size:   476\n",
      "[libx264 @ 0x7f86c8807900] frame B:17    Avg QP:25.29  size:    63\n",
      "[libx264 @ 0x7f86c8807900] consecutive B-frames:  4.2%  0.0% 12.5% 83.3%\n",
      "[libx264 @ 0x7f86c8807900] mb I  I16..4: 100.0%  0.0%  0.0%\n",
      "[libx264 @ 0x7f86c8807900] mb P  I16..4:  0.3%  0.1%  0.2%  P16..4:  0.4%  0.2%  0.1%  0.0%  0.0%    skip:98.7%\n",
      "[libx264 @ 0x7f86c8807900] mb B  I16..4:  0.1%  0.0%  0.0%  B16..8:  0.8%  0.0%  0.0%  direct: 0.0%  skip:99.1%  L0:30.7% L1:69.3% BI: 0.0%\n",
      "[libx264 @ 0x7f86c8807900] final ratefactor: 15.13\n",
      "[libx264 @ 0x7f86c8807900] 8x8 transform intra:0.8% inter:32.6%\n",
      "[libx264 @ 0x7f86c8807900] coded y,uvDC,uvAC intra: 1.2% 0.0% 0.0% inter: 0.1% 0.0% 0.0%\n",
      "[libx264 @ 0x7f86c8807900] i16 v,h,dc,p: 96%  2%  2%  0%\n",
      "[libx264 @ 0x7f86c8807900] i8 v,h,dc,ddl,ddr,vr,hd,vl,hu: 26% 17% 25%  5%  4%  5%  5%  7%  6%\n",
      "[libx264 @ 0x7f86c8807900] i4 v,h,dc,ddl,ddr,vr,hd,vl,hu: 28% 18% 33%  1%  3%  6%  5%  3%  4%\n",
      "[libx264 @ 0x7f86c8807900] i8c dc,h,v,p: 100%  0%  0%  0%\n",
      "[libx264 @ 0x7f86c8807900] Weighted P-Frames: Y:33.3% UV:0.0%\n",
      "[libx264 @ 0x7f86c8807900] ref P L0: 80.0% 12.5%  5.5%  0.7%  1.4%\n",
      "[libx264 @ 0x7f86c8807900] ref B L0: 71.0% 16.2% 12.8%\n",
      "[libx264 @ 0x7f86c8807900] ref B L1: 94.8%  5.2%\n",
      "[libx264 @ 0x7f86c8807900] kb/s:82.76\n",
      "[aac @ 0x7f86c8808e00] Qavg: 120.000\n",
      "ffmpeg version 5.1.2 Copyright (c) 2000-2022 the FFmpeg developers\n",
      "  built with Apple clang version 14.0.0 (clang-1400.0.29.202)\n",
      "  configuration: --prefix=/usr/local/Cellar/ffmpeg/5.1.2_6 --enable-shared --enable-pthreads --enable-version3 --cc=clang --host-cflags= --host-ldflags= --enable-ffplay --enable-gnutls --enable-gpl --enable-libaom --enable-libaribb24 --enable-libbluray --enable-libdav1d --enable-libmp3lame --enable-libopus --enable-librav1e --enable-librist --enable-librubberband --enable-libsnappy --enable-libsrt --enable-libsvtav1 --enable-libtesseract --enable-libtheora --enable-libvidstab --enable-libvmaf --enable-libvorbis --enable-libvpx --enable-libwebp --enable-libx264 --enable-libx265 --enable-libxml2 --enable-libxvid --enable-lzma --enable-libfontconfig --enable-libfreetype --enable-frei0r --enable-libass --enable-libopencore-amrnb --enable-libopencore-amrwb --enable-libopenjpeg --enable-libspeex --enable-libsoxr --enable-libzmq --enable-libzimg --disable-libjack --disable-indev=jack --enable-videotoolbox\n",
      "  libavutil      57. 28.100 / 57. 28.100\n",
      "  libavcodec     59. 37.100 / 59. 37.100\n",
      "  libavformat    59. 27.100 / 59. 27.100\n",
      "  libavdevice    59.  7.100 / 59.  7.100\n",
      "  libavfilter     8. 44.100 /  8. 44.100\n",
      "  libswscale      6.  7.100 /  6.  7.100\n",
      "  libswresample   4.  7.100 /  4.  7.100\n",
      "  libpostproc    56.  6.100 / 56.  6.100\n",
      "Input #0, mov,mp4,m4a,3gp,3g2,mj2, from 'tmp/intro.mp4':\n",
      "  Metadata:\n",
      "    major_brand     : isom\n",
      "    minor_version   : 512\n",
      "    compatible_brands: isomiso2avc1mp41\n",
      "    encoder         : Lavf59.27.100\n",
      "  Duration: 00:00:00.40, start: 0.000000, bitrate: 143 kb/s\n",
      "  Stream #0:0[0x1](und): Video: h264 (High) (avc1 / 0x31637661), yuv420p(progressive), 1280x720 [SAR 1:1 DAR 16:9], 96 kb/s, 60 fps, 60 tbr, 400 tbn (default)\n",
      "    Metadata:\n",
      "      handler_name    : VideoHandler\n",
      "      vendor_id       : [0][0][0][0]\n",
      "      encoder         : Lavc59.37.100 libx264\n",
      "  Stream #0:1[0x2](und): Audio: aac (LC) (mp4a / 0x6134706D), 44100 Hz, stereo, fltp, 2 kb/s (default)\n",
      "    Metadata:\n",
      "      handler_name    : SoundHandler\n",
      "      vendor_id       : [0][0][0][0]\n",
      "Stream mapping:\n",
      "  Stream #0:0 -> #0:0 (h264 (native) -> mpeg2video (native))\n",
      "  Stream #0:1 -> #0:1 (aac (native) -> mp2 (native))\n",
      "Press [q] to stop, [?] for help\n",
      "Output #0, mpegts, to 'tmp/clip-1.MTS':\n",
      "  Metadata:\n",
      "    major_brand     : isom\n",
      "    minor_version   : 512\n",
      "    compatible_brands: isomiso2avc1mp41\n",
      "    encoder         : Lavf59.27.100\n",
      "  Stream #0:0(und): Video: mpeg2video (Main), yuv420p(progressive), 1280x720 [SAR 1:1 DAR 16:9], q=2-31, 200 kb/s, 60 fps, 90k tbn (default)\n",
      "    Metadata:\n",
      "      handler_name    : VideoHandler\n",
      "      vendor_id       : [0][0][0][0]\n",
      "      encoder         : Lavc59.37.100 mpeg2video\n",
      "    Side data:\n",
      "      cpb: bitrate max/min/avg: 0/0/200000 buffer size: 0 vbv_delay: N/A\n",
      "  Stream #0:1(und): Audio: mp2, 44100 Hz, stereo, s16, 384 kb/s (default)\n",
      "    Metadata:\n",
      "      handler_name    : SoundHandler\n",
      "      vendor_id       : [0][0][0][0]\n",
      "      encoder         : Lavc59.37.100 mp2\n",
      "frame=   24 fps=0.0 q=0.0 Lsize=     117kB time=00:00:00.40 bitrate=2361.0kbits/s speed=7.37x    \n",
      "video:90kB audio:20kB subtitle:0kB other streams:0kB global headers:0kB muxing overhead: 6.657907%\n"
     ]
    },
    {
     "name": "stderr",
     "output_type": "stream",
     "text": [
      "ffmpeg version 5.1.2 Copyright (c) 2000-2022 the FFmpeg developers\n",
      "  built with Apple clang version 14.0.0 (clang-1400.0.29.202)\n",
      "  configuration: --prefix=/usr/local/Cellar/ffmpeg/5.1.2_6 --enable-shared --enable-pthreads --enable-version3 --cc=clang --host-cflags= --host-ldflags= --enable-ffplay --enable-gnutls --enable-gpl --enable-libaom --enable-libaribb24 --enable-libbluray --enable-libdav1d --enable-libmp3lame --enable-libopus --enable-librav1e --enable-librist --enable-librubberband --enable-libsnappy --enable-libsrt --enable-libsvtav1 --enable-libtesseract --enable-libtheora --enable-libvidstab --enable-libvmaf --enable-libvorbis --enable-libvpx --enable-libwebp --enable-libx264 --enable-libx265 --enable-libxml2 --enable-libxvid --enable-lzma --enable-libfontconfig --enable-libfreetype --enable-frei0r --enable-libass --enable-libopencore-amrnb --enable-libopencore-amrwb --enable-libopenjpeg --enable-libspeex --enable-libsoxr --enable-libzmq --enable-libzimg --disable-libjack --disable-indev=jack --enable-videotoolbox\n",
      "  libavutil      57. 28.100 / 57. 28.100\n",
      "  libavcodec     59. 37.100 / 59. 37.100\n",
      "  libavformat    59. 27.100 / 59. 27.100\n",
      "  libavdevice    59.  7.100 / 59.  7.100\n",
      "  libavfilter     8. 44.100 /  8. 44.100\n",
      "  libswscale      6.  7.100 /  6.  7.100\n",
      "  libswresample   4.  7.100 /  4.  7.100\n",
      "  libpostproc    56.  6.100 / 56.  6.100\n",
      "Input #0, mpegts, from 'tmp/tmp.MTS':\n",
      "  Duration: 00:00:20.00, start: 1.433333, bitrate: 388 kb/s\n",
      "  Program 1 \n",
      "    Metadata:\n",
      "      service_name    : Service01\n",
      "      service_provider: FFmpeg\n",
      "  Stream #0:0[0x100]: Video: h264 (High) ([27][0][0][0] / 0x001B), yuv420p(progressive), 1280x720 [SAR 40176:40165 DAR 71424:40165], 60 fps, 60 tbr, 90k tbn\n",
      "Stream mapping:\n",
      "  Stream #0:0 -> #0:0 (h264 (native) -> mpeg2video (native))\n",
      "Press [q] to stop, [?] for help\n",
      "Output #0, mpegts, to 'tmp/clip-2.MTS':\n",
      "  Metadata:\n",
      "    encoder         : Lavf59.27.100\n",
      "  Stream #0:0: Video: mpeg2video (Main), yuv420p(progressive), 1280x720 [SAR 40176:40165 DAR 71424:40165], q=2-31, 200 kb/s, 60 fps, 90k tbn\n",
      "    Metadata:\n",
      "      encoder         : Lavc59.37.100 mpeg2video\n",
      "    Side data:\n",
      "      cpb: bitrate max/min/avg: 0/0/200000 buffer size: 0 vbv_delay: N/A\n",
      "frame= 1197 fps=755 q=0.0 Lsize=   10123kB time=00:00:19.96 bitrate=4153.2kbits/s speed=12.6x    \n",
      "video:9699kB audio:0kB subtitle:0kB other streams:0kB global headers:0kB muxing overhead: 4.369843%\n",
      "ffmpeg version 5.1.2 Copyright (c) 2000-2022 the FFmpeg developers\n",
      "  built with Apple clang version 14.0.0 (clang-1400.0.29.202)\n",
      "  configuration: --prefix=/usr/local/Cellar/ffmpeg/5.1.2_6 --enable-shared --enable-pthreads --enable-version3 --cc=clang --host-cflags= --host-ldflags= --enable-ffplay --enable-gnutls --enable-gpl --enable-libaom --enable-libaribb24 --enable-libbluray --enable-libdav1d --enable-libmp3lame --enable-libopus --enable-librav1e --enable-librist --enable-librubberband --enable-libsnappy --enable-libsrt --enable-libsvtav1 --enable-libtesseract --enable-libtheora --enable-libvidstab --enable-libvmaf --enable-libvorbis --enable-libvpx --enable-libwebp --enable-libx264 --enable-libx265 --enable-libxml2 --enable-libxvid --enable-lzma --enable-libfontconfig --enable-libfreetype --enable-frei0r --enable-libass --enable-libopencore-amrnb --enable-libopencore-amrwb --enable-libopenjpeg --enable-libspeex --enable-libsoxr --enable-libzmq --enable-libzimg --disable-libjack --disable-indev=jack --enable-videotoolbox\n",
      "  libavutil      57. 28.100 / 57. 28.100\n",
      "  libavcodec     59. 37.100 / 59. 37.100\n",
      "  libavformat    59. 27.100 / 59. 27.100\n",
      "  libavdevice    59.  7.100 / 59.  7.100\n",
      "  libavfilter     8. 44.100 /  8. 44.100\n",
      "  libswscale      6.  7.100 /  6.  7.100\n",
      "  libswresample   4.  7.100 /  4.  7.100\n",
      "  libpostproc    56.  6.100 / 56.  6.100\n",
      "Input #0, concat, from 'list.txt':\n",
      "  Duration: N/A, start: 0.000000, bitrate: N/A\n",
      "  Stream #0:0: Video: mpeg2video (Main) ([2][0][0][0] / 0x0002), yuv420p(tv, progressive), 1280x720 [SAR 1:1 DAR 16:9], 60 fps, 60 tbr, 90k tbn\n",
      "    Side data:\n",
      "      cpb: bitrate max/min/avg: 0/0/0 buffer size: 49152 vbv_delay: N/A\n",
      "  Stream #0:1(und): Audio: mp2 ([3][0][0][0] / 0x0003), 44100 Hz, stereo, s16p, 384 kb/s\n",
      "Output #0, mpegts, to 'tmp/tmp2.MTS':\n",
      "  Metadata:\n",
      "    encoder         : Lavf59.27.100\n",
      "  Stream #0:0: Video: mpeg2video (Main) ([2][0][0][0] / 0x0002), yuv420p(tv, progressive), 1280x720 [SAR 1:1 DAR 16:9], q=2-31, 60 fps, 60 tbr, 90k tbn\n",
      "    Side data:\n",
      "      cpb: bitrate max/min/avg: 0/0/0 buffer size: 49152 vbv_delay: N/A\n",
      "  Stream #0:1(und): Audio: mp2 ([3][0][0][0] / 0x0003), 44100 Hz, stereo, s16p, 384 kb/s\n",
      "Stream mapping:\n",
      "  Stream #0:0 -> #0:0 (copy)\n",
      "  Stream #0:1 -> #0:1 (copy)\n",
      "Press [q] to stop, [?] for help\n",
      "frame= 1221 fps=0.0 q=-1.0 Lsize=   10240kB time=00:00:20.37 bitrate=4116.6kbits/s speed= 718x    \n",
      "video:9789kB audio:20kB subtitle:0kB other streams:0kB global headers:0kB muxing overhead: 4.395500%\n",
      "ffmpeg version 5.1.2 Copyright (c) 2000-2022 the FFmpeg developers\n",
      "  built with Apple clang version 14.0.0 (clang-1400.0.29.202)\n",
      "  configuration: --prefix=/usr/local/Cellar/ffmpeg/5.1.2_6 --enable-shared --enable-pthreads --enable-version3 --cc=clang --host-cflags= --host-ldflags= --enable-ffplay --enable-gnutls --enable-gpl --enable-libaom --enable-libaribb24 --enable-libbluray --enable-libdav1d --enable-libmp3lame --enable-libopus --enable-librav1e --enable-librist --enable-librubberband --enable-libsnappy --enable-libsrt --enable-libsvtav1 --enable-libtesseract --enable-libtheora --enable-libvidstab --enable-libvmaf --enable-libvorbis --enable-libvpx --enable-libwebp --enable-libx264 --enable-libx265 --enable-libxml2 --enable-libxvid --enable-lzma --enable-libfontconfig --enable-libfreetype --enable-frei0r --enable-libass --enable-libopencore-amrnb --enable-libopencore-amrwb --enable-libopenjpeg --enable-libspeex --enable-libsoxr --enable-libzmq --enable-libzimg --disable-libjack --disable-indev=jack --enable-videotoolbox\n",
      "  libavutil      57. 28.100 / 57. 28.100\n",
      "  libavcodec     59. 37.100 / 59. 37.100\n",
      "  libavformat    59. 27.100 / 59. 27.100\n",
      "  libavdevice    59.  7.100 / 59.  7.100\n",
      "  libavfilter     8. 44.100 /  8. 44.100\n",
      "  libswscale      6.  7.100 /  6.  7.100\n",
      "  libswresample   4.  7.100 /  4.  7.100\n",
      "  libpostproc    56.  6.100 / 56.  6.100\n",
      "Input #0, mpegts, from 'tmp/tmp2.MTS':\n",
      "  Duration: 00:00:20.41, start: 1.405756, bitrate: 4109 kb/s\n",
      "  Program 1 \n",
      "    Metadata:\n",
      "      service_name    : Service01\n",
      "      service_provider: FFmpeg\n",
      "  Stream #0:0[0x100]: Video: mpeg2video (Main) ([2][0][0][0] / 0x0002), yuv420p(tv, progressive), 1280x720 [SAR 1:1 DAR 16:9], 60 fps, 60 tbr, 90k tbn\n",
      "    Side data:\n",
      "      cpb: bitrate max/min/avg: 0/0/0 buffer size: 49152 vbv_delay: N/A\n",
      "  Stream #0:1[0x101](und): Audio: mp2 ([3][0][0][0] / 0x0003), 44100 Hz, stereo, fltp, 384 kb/s\n",
      "Stream mapping:\n",
      "  Stream #0:0 -> #0:0 (mpeg2video (native) -> h264 (libx264))\n",
      "  Stream #0:1 -> #0:1 (mp2 (native) -> aac (native))\n",
      "Press [q] to stop, [?] for help\n",
      "[libx264 @ 0x7fe91f4062c0] using SAR=1/1\n",
      "[libx264 @ 0x7fe91f4062c0] using cpu capabilities: MMX2 SSE2Fast SSSE3 SSE4.2 AVX FMA3 BMI2 AVX2\n",
      "[libx264 @ 0x7fe91f4062c0] profile High, level 3.2, 4:2:0, 8-bit\n",
      "[libx264 @ 0x7fe91f4062c0] 264 - core 164 r3095 baee400 - H.264/MPEG-4 AVC codec - Copyleft 2003-2022 - http://www.videolan.org/x264.html - options: cabac=1 ref=3 deblock=1:0:0 analyse=0x3:0x113 me=hex subme=7 psy=1 psy_rd=1.00:0.00 mixed_ref=1 me_range=16 chroma_me=1 trellis=1 8x8dct=1 cqm=0 deadzone=21,11 fast_pskip=1 chroma_qp_offset=-2 threads=12 lookahead_threads=2 sliced_threads=0 nr=0 decimate=1 interlaced=0 bluray_compat=0 constrained_intra=0 bframes=3 b_pyramid=2 b_adapt=1 b_bias=0 direct=1 weightb=1 open_gop=0 weightp=2 keyint=250 keyint_min=25 scenecut=40 intra_refresh=0 rc_lookahead=40 rc=crf mbtree=1 crf=30.0 qcomp=0.60 qpmin=0 qpmax=69 qpstep=4 ip_ratio=1.40 aq=1:1.00\n",
      "Output #0, mov, to 'out.mov':\n",
      "  Metadata:\n",
      "    encoder         : Lavf59.27.100\n",
      "  Stream #0:0: Video: h264 (avc1 / 0x31637661), yuv420p(tv, progressive), 1280x720 [SAR 1:1 DAR 16:9], q=2-31, 60 fps, 15360 tbn\n",
      "    Metadata:\n",
      "      encoder         : Lavc59.37.100 libx264\n",
      "    Side data:\n",
      "      cpb: bitrate max/min/avg: 0/0/0 buffer size: 0 vbv_delay: N/A\n",
      "  Stream #0:1(und): Audio: aac (LC) (mp4a / 0x6134706D), 44100 Hz, stereo, fltp, 128 kb/s\n",
      "    Metadata:\n",
      "      encoder         : Lavc59.37.100 aac\n"
     ]
    },
    {
     "name": "stderr",
     "output_type": "stream",
     "text": [
      "frame= 1225 fps=391 q=-1.0 Lsize=     466kB time=00:00:20.36 bitrate= 187.5kbits/s dup=4 drop=0 speed=6.51x    \n",
      "video:450kB audio:0kB subtitle:0kB other streams:0kB global headers:0kB muxing overhead: 3.557087%\n",
      "[libx264 @ 0x7fe91f4062c0] frame I:6     Avg QP:22.42  size:  7961\n",
      "[libx264 @ 0x7fe91f4062c0] frame P:329   Avg QP:34.28  size:   729\n",
      "[libx264 @ 0x7fe91f4062c0] frame B:890   Avg QP:27.31  size:   194\n",
      "[libx264 @ 0x7fe91f4062c0] consecutive B-frames:  2.0%  2.1%  4.2% 91.8%\n",
      "[libx264 @ 0x7fe91f4062c0] mb I  I16..4: 37.7% 54.4%  7.8%\n",
      "[libx264 @ 0x7fe91f4062c0] mb P  I16..4:  0.2%  0.9%  0.4%  P16..4:  1.5%  0.5%  0.2%  0.0%  0.0%    skip:96.3%\n",
      "[libx264 @ 0x7fe91f4062c0] mb B  I16..4:  0.1%  0.1%  0.0%  B16..8:  2.8%  0.2%  0.0%  direct: 0.0%  skip:96.8%  L0:55.2% L1:44.5% BI: 0.3%\n",
      "[libx264 @ 0x7fe91f4062c0] 8x8 transform intra:55.4% inter:33.9%\n",
      "[libx264 @ 0x7fe91f4062c0] coded y,uvDC,uvAC intra: 9.8% 5.2% 4.4% inter: 0.1% 0.0% 0.0%\n",
      "[libx264 @ 0x7fe91f4062c0] i16 v,h,dc,p: 83% 10%  7%  0%\n",
      "[libx264 @ 0x7fe91f4062c0] i8 v,h,dc,ddl,ddr,vr,hd,vl,hu: 34%  5% 57%  1%  1%  0%  0%  0%  1%\n",
      "[libx264 @ 0x7fe91f4062c0] i4 v,h,dc,ddl,ddr,vr,hd,vl,hu: 29% 13% 37%  4%  4%  4%  4%  4%  3%\n",
      "[libx264 @ 0x7fe91f4062c0] i8c dc,h,v,p: 90%  5%  5%  0%\n",
      "[libx264 @ 0x7fe91f4062c0] Weighted P-Frames: Y:0.9% UV:0.0%\n",
      "[libx264 @ 0x7fe91f4062c0] ref P L0: 77.3%  3.3% 11.8%  7.6%\n",
      "[libx264 @ 0x7fe91f4062c0] ref B L0: 71.9% 23.1%  5.0%\n",
      "[libx264 @ 0x7fe91f4062c0] ref B L1: 95.3%  4.7%\n",
      "[libx264 @ 0x7fe91f4062c0] kb/s:180.29\n",
      "[aac @ 0x7fe91f4076c0] Qavg: 65536.000\n"
     ]
    }
   ],
   "source": [
    "#concatenate the folder of .png files\n",
    "os.chdir(f'{nb_dir}/../vid/src')\n",
    "os.system(f'./concat_folder_png.sh');"
   ]
  },
  {
   "cell_type": "code",
   "execution_count": 21,
   "id": "bd3f63a6",
   "metadata": {
    "ExecuteTime": {
     "end_time": "2023-04-30T00:20:53.548945Z",
     "start_time": "2023-04-30T00:20:53.035676Z"
    }
   },
   "outputs": [
    {
     "name": "stdout",
     "output_type": "stream",
     "text": [
      "-n \u0007\n"
     ]
    },
    {
     "data": {
      "text/plain": [
       "0"
      ]
     },
     "execution_count": 21,
     "metadata": {},
     "output_type": "execute_result"
    }
   ],
   "source": [
    "!open /Users/timothytyree/Documents/GitHub/bgmc/vid/mov/out.mov\n",
    "beep(1)"
   ]
  },
  {
   "cell_type": "code",
   "execution_count": 22,
   "id": "c0e85120",
   "metadata": {
    "ExecuteTime": {
     "end_time": "2023-04-30T00:21:06.389389Z",
     "start_time": "2023-04-30T00:20:53.559352Z"
    }
   },
   "outputs": [
    {
     "name": "stderr",
     "output_type": "stream",
     "text": [
      "ffmpeg version 5.1.2 Copyright (c) 2000-2022 the FFmpeg developers\n",
      "  built with Apple clang version 14.0.0 (clang-1400.0.29.202)\n",
      "  configuration: --prefix=/usr/local/Cellar/ffmpeg/5.1.2_6 --enable-shared --enable-pthreads --enable-version3 --cc=clang --host-cflags= --host-ldflags= --enable-ffplay --enable-gnutls --enable-gpl --enable-libaom --enable-libaribb24 --enable-libbluray --enable-libdav1d --enable-libmp3lame --enable-libopus --enable-librav1e --enable-librist --enable-librubberband --enable-libsnappy --enable-libsrt --enable-libsvtav1 --enable-libtesseract --enable-libtheora --enable-libvidstab --enable-libvmaf --enable-libvorbis --enable-libvpx --enable-libwebp --enable-libx264 --enable-libx265 --enable-libxml2 --enable-libxvid --enable-lzma --enable-libfontconfig --enable-libfreetype --enable-frei0r --enable-libass --enable-libopencore-amrnb --enable-libopencore-amrwb --enable-libopenjpeg --enable-libspeex --enable-libsoxr --enable-libzmq --enable-libzimg --disable-libjack --disable-indev=jack --enable-videotoolbox\n",
      "  libavutil      57. 28.100 / 57. 28.100\n",
      "  libavcodec     59. 37.100 / 59. 37.100\n",
      "  libavformat    59. 27.100 / 59. 27.100\n",
      "  libavdevice    59.  7.100 / 59.  7.100\n",
      "  libavfilter     8. 44.100 /  8. 44.100\n",
      "  libswscale      6.  7.100 /  6.  7.100\n",
      "  libswresample   4.  7.100 /  4.  7.100\n",
      "  libpostproc    56.  6.100 / 56.  6.100\n",
      "Input #0, image2, from '../../python/Figures/mov/img%07d.png':\n",
      "  Duration: 00:00:20.00, start: 0.000000, bitrate: N/A\n",
      "  Stream #0:0: Video: png, rgba(pc), 1144x1108 [SAR 14173:14173 DAR 286:277], 25 fps, 25 tbr, 25 tbn\n",
      "Stream mapping:\n",
      "  Stream #0:0 -> #0:0 (png (native) -> h264 (libx264))\n",
      "Press [q] to stop, [?] for help\n",
      "[libx264 @ 0x7f7cf39081c0] using SAR=1889/1888\n",
      "[libx264 @ 0x7f7cf39081c0] using cpu capabilities: MMX2 SSE2Fast SSSE3 SSE4.2 AVX FMA3 BMI2 AVX2\n",
      "[libx264 @ 0x7f7cf39081c0] profile High, level 3.2, 4:2:0, 8-bit\n",
      "Output #0, mpegts, to '../mov/tmp/tmp.MTS':\n",
      "  Metadata:\n",
      "    encoder         : Lavf59.27.100\n",
      "  Stream #0:0: Video: h264, yuv420p(tv, progressive), 1280x720 [SAR 205920:205811 DAR 366080:205811], q=2-31, 60 fps, 90k tbn\n",
      "    Metadata:\n",
      "      encoder         : Lavc59.37.100 libx264\n",
      "    Side data:\n",
      "      cpb: bitrate max/min/avg: 0/0/0 buffer size: 0 vbv_delay: N/A\n",
      "frame= 1197 fps=170 q=-1.0 Lsize=     948kB time=00:00:19.95 bitrate= 389.5kbits/s speed=2.84x    5x    \n",
      "video:721kB audio:0kB subtitle:0kB other streams:0kB global headers:0kB muxing overhead: 31.500751%\n",
      "[libx264 @ 0x7f7cf39081c0] frame I:5     Avg QP:17.81  size: 16354\n",
      "[libx264 @ 0x7f7cf39081c0] frame P:311   Avg QP:29.04  size:  1314\n",
      "[libx264 @ 0x7f7cf39081c0] frame B:881   Avg QP:20.45  size:   282\n",
      "[libx264 @ 0x7f7cf39081c0] consecutive B-frames:  0.6%  2.8%  3.0% 93.6%\n",
      "[libx264 @ 0x7f7cf39081c0] mb I  I16..4: 35.8% 52.1% 12.1%\n",
      "[libx264 @ 0x7f7cf39081c0] mb P  I16..4:  0.1%  0.8%  0.6%  P16..4:  1.3%  0.6%  0.3%  0.0%  0.0%    skip:96.3%\n",
      "[libx264 @ 0x7f7cf39081c0] mb B  I16..4:  0.1%  0.0%  0.0%  B16..8:  3.1%  0.2%  0.0%  direct: 0.0%  skip:96.4%  L0:51.0% L1:47.9% BI: 1.1%\n",
      "[libx264 @ 0x7f7cf39081c0] 8x8 transform intra:49.0% inter:18.9%\n",
      "[libx264 @ 0x7f7cf39081c0] coded y,uvDC,uvAC intra: 12.6% 6.4% 6.1% inter: 0.2% 0.0% 0.0%\n",
      "[libx264 @ 0x7f7cf39081c0] i16 v,h,dc,p: 85%  9%  6%  0%\n",
      "[libx264 @ 0x7f7cf39081c0] i8 v,h,dc,ddl,ddr,vr,hd,vl,hu: 32%  3% 64%  0%  0%  0%  0%  0%  0%\n",
      "[libx264 @ 0x7f7cf39081c0] i4 v,h,dc,ddl,ddr,vr,hd,vl,hu: 27% 13% 39%  3%  4%  4%  3%  4%  3%\n",
      "[libx264 @ 0x7f7cf39081c0] i8c dc,h,v,p: 92%  4%  4%  0%\n",
      "[libx264 @ 0x7f7cf39081c0] Weighted P-Frames: Y:0.0% UV:0.0%\n",
      "[libx264 @ 0x7f7cf39081c0] ref P L0: 75.0%  3.3% 13.1%  8.6%\n",
      "[libx264 @ 0x7f7cf39081c0] ref B L0: 73.1% 23.3%  3.6%\n",
      "[libx264 @ 0x7f7cf39081c0] ref B L1: 96.2%  3.8%\n",
      "[libx264 @ 0x7f7cf39081c0] kb/s:295.42\n",
      "ffmpeg version 5.1.2 Copyright (c) 2000-2022 the FFmpeg developers\n",
      "  built with Apple clang version 14.0.0 (clang-1400.0.29.202)\n",
      "  configuration: --prefix=/usr/local/Cellar/ffmpeg/5.1.2_6 --enable-shared --enable-pthreads --enable-version3 --cc=clang --host-cflags= --host-ldflags= --enable-ffplay --enable-gnutls --enable-gpl --enable-libaom --enable-libaribb24 --enable-libbluray --enable-libdav1d --enable-libmp3lame --enable-libopus --enable-librav1e --enable-librist --enable-librubberband --enable-libsnappy --enable-libsrt --enable-libsvtav1 --enable-libtesseract --enable-libtheora --enable-libvidstab --enable-libvmaf --enable-libvorbis --enable-libvpx --enable-libwebp --enable-libx264 --enable-libx265 --enable-libxml2 --enable-libxvid --enable-lzma --enable-libfontconfig --enable-libfreetype --enable-frei0r --enable-libass --enable-libopencore-amrnb --enable-libopencore-amrwb --enable-libopenjpeg --enable-libspeex --enable-libsoxr --enable-libzmq --enable-libzimg --disable-libjack --disable-indev=jack --enable-videotoolbox\n",
      "  libavutil      57. 28.100 / 57. 28.100\n",
      "  libavcodec     59. 37.100 / 59. 37.100\n",
      "  libavformat    59. 27.100 / 59. 27.100\n",
      "  libavdevice    59.  7.100 / 59.  7.100\n",
      "  libavfilter     8. 44.100 /  8. 44.100\n",
      "  libswscale      6.  7.100 /  6.  7.100\n",
      "  libswresample   4.  7.100 /  4.  7.100\n",
      "  libpostproc    56.  6.100 / 56.  6.100\n",
      "Input #0, lavfi, from 'color=black:1280x720':\n",
      "  Duration: N/A, start: 0.000000, bitrate: N/A\n",
      "  Stream #0:0: Video: rawvideo (I420 / 0x30323449), yuv420p, 1280x720 [SAR 1:1 DAR 16:9], 25 tbr, 25 tbn\n",
      "Input #1, lavfi, from 'anullsrc':\n",
      "  Duration: N/A, start: 0.000000, bitrate: 705 kb/s\n",
      "  Stream #1:0: Audio: pcm_u8, 44100 Hz, stereo, u8, 705 kb/s\n",
      "Stream mapping:\n",
      "  Stream #0:0 -> #0:0 (rawvideo (native) -> h264 (libx264))\n",
      "  Stream #1:0 -> #0:1 (pcm_u8 (native) -> aac (native))\n",
      "Press [q] to stop, [?] for help\n",
      "[libx264 @ 0x7f9d82f07dc0] using SAR=1/1\n",
      "[libx264 @ 0x7f9d82f07dc0] using cpu capabilities: MMX2 SSE2Fast SSSE3 SSE4.2 AVX FMA3 BMI2 AVX2\n",
      "[libx264 @ 0x7f9d82f07dc0] profile High, level 3.2, 4:2:0, 8-bit\n",
      "[libx264 @ 0x7f9d82f07dc0] 264 - core 164 r3095 baee400 - H.264/MPEG-4 AVC codec - Copyleft 2003-2022 - http://www.videolan.org/x264.html - options: cabac=1 ref=3 deblock=1:0:0 analyse=0x3:0x113 me=hex subme=7 psy=1 psy_rd=1.00:0.00 mixed_ref=1 me_range=16 chroma_me=1 trellis=1 8x8dct=1 cqm=0 deadzone=21,11 fast_pskip=1 chroma_qp_offset=-2 threads=12 lookahead_threads=2 sliced_threads=0 nr=0 decimate=1 interlaced=0 bluray_compat=0 constrained_intra=0 bframes=3 b_pyramid=2 b_adapt=1 b_bias=0 direct=1 weightb=1 open_gop=0 weightp=2 keyint=250 keyint_min=25 scenecut=40 intra_refresh=0 rc_lookahead=40 rc=abr mbtree=1 bitrate=1000 ratetol=1.0 qcomp=0.60 qpmin=0 qpmax=69 qpstep=4 ip_ratio=1.40 aq=1:1.00\n",
      "Output #0, mp4, to 'tmp/intro.mp4':\n",
      "  Metadata:\n",
      "    encoder         : Lavf59.27.100\n",
      "  Stream #0:0: Video: h264 (avc1 / 0x31637661), yuv420p(progressive), 1280x720 [SAR 1:1 DAR 16:9], q=2-31, 1000 kb/s, 60 fps, 400 tbn\n",
      "    Metadata:\n",
      "      encoder         : Lavc59.37.100 libx264\n",
      "    Side data:\n",
      "      cpb: bitrate max/min/avg: 0/0/1000000 buffer size: 0 vbv_delay: N/A\n",
      "  Stream #0:1: Audio: aac (LC) (mp4a / 0x6134706D), 44100 Hz, stereo, fltp, 128 kb/s\n",
      "    Metadata:\n",
      "      encoder         : Lavc59.37.100 aac\n",
      "frame=   24 fps=0.0 q=-1.0 Lsize=       7kB time=00:00:00.41 bitrate= 137.6kbits/s speed=3.24x    \n",
      "video:5kB audio:0kB subtitle:0kB other streams:0kB global headers:0kB muxing overhead: 44.462311%\n",
      "[libx264 @ 0x7f9d82f07dc0] frame I:1     Avg QP:25.00  size:   208\n",
      "[libx264 @ 0x7f9d82f07dc0] frame P:6     Avg QP:22.19  size:   476\n",
      "[libx264 @ 0x7f9d82f07dc0] frame B:17    Avg QP:25.29  size:    63\n",
      "[libx264 @ 0x7f9d82f07dc0] consecutive B-frames:  4.2%  0.0% 12.5% 83.3%\n",
      "[libx264 @ 0x7f9d82f07dc0] mb I  I16..4: 100.0%  0.0%  0.0%\n",
      "[libx264 @ 0x7f9d82f07dc0] mb P  I16..4:  0.3%  0.1%  0.2%  P16..4:  0.4%  0.2%  0.1%  0.0%  0.0%    skip:98.7%\n",
      "[libx264 @ 0x7f9d82f07dc0] mb B  I16..4:  0.1%  0.0%  0.0%  B16..8:  0.8%  0.0%  0.0%  direct: 0.0%  skip:99.1%  L0:30.7% L1:69.3% BI: 0.0%\n",
      "[libx264 @ 0x7f9d82f07dc0] final ratefactor: 15.13\n",
      "[libx264 @ 0x7f9d82f07dc0] 8x8 transform intra:0.8% inter:32.6%\n",
      "[libx264 @ 0x7f9d82f07dc0] coded y,uvDC,uvAC intra: 1.2% 0.0% 0.0% inter: 0.1% 0.0% 0.0%\n",
      "[libx264 @ 0x7f9d82f07dc0] i16 v,h,dc,p: 96%  2%  2%  0%\n",
      "[libx264 @ 0x7f9d82f07dc0] i8 v,h,dc,ddl,ddr,vr,hd,vl,hu: 26% 17% 25%  5%  4%  5%  5%  7%  6%\n",
      "[libx264 @ 0x7f9d82f07dc0] i4 v,h,dc,ddl,ddr,vr,hd,vl,hu: 28% 18% 33%  1%  3%  6%  5%  3%  4%\n",
      "[libx264 @ 0x7f9d82f07dc0] i8c dc,h,v,p: 100%  0%  0%  0%\n",
      "[libx264 @ 0x7f9d82f07dc0] Weighted P-Frames: Y:33.3% UV:0.0%\n",
      "[libx264 @ 0x7f9d82f07dc0] ref P L0: 80.0% 12.5%  5.5%  0.7%  1.4%\n",
      "[libx264 @ 0x7f9d82f07dc0] ref B L0: 71.0% 16.2% 12.8%\n",
      "[libx264 @ 0x7f9d82f07dc0] ref B L1: 94.8%  5.2%\n",
      "[libx264 @ 0x7f9d82f07dc0] kb/s:82.76\n",
      "[aac @ 0x7f9d82f09280] Qavg: 120.000\n",
      "ffmpeg version 5.1.2 Copyright (c) 2000-2022 the FFmpeg developers\n",
      "  built with Apple clang version 14.0.0 (clang-1400.0.29.202)\n",
      "  configuration: --prefix=/usr/local/Cellar/ffmpeg/5.1.2_6 --enable-shared --enable-pthreads --enable-version3 --cc=clang --host-cflags= --host-ldflags= --enable-ffplay --enable-gnutls --enable-gpl --enable-libaom --enable-libaribb24 --enable-libbluray --enable-libdav1d --enable-libmp3lame --enable-libopus --enable-librav1e --enable-librist --enable-librubberband --enable-libsnappy --enable-libsrt --enable-libsvtav1 --enable-libtesseract --enable-libtheora --enable-libvidstab --enable-libvmaf --enable-libvorbis --enable-libvpx --enable-libwebp --enable-libx264 --enable-libx265 --enable-libxml2 --enable-libxvid --enable-lzma --enable-libfontconfig --enable-libfreetype --enable-frei0r --enable-libass --enable-libopencore-amrnb --enable-libopencore-amrwb --enable-libopenjpeg --enable-libspeex --enable-libsoxr --enable-libzmq --enable-libzimg --disable-libjack --disable-indev=jack --enable-videotoolbox\n",
      "  libavutil      57. 28.100 / 57. 28.100\n",
      "  libavcodec     59. 37.100 / 59. 37.100\n",
      "  libavformat    59. 27.100 / 59. 27.100\n",
      "  libavdevice    59.  7.100 / 59.  7.100\n",
      "  libavfilter     8. 44.100 /  8. 44.100\n",
      "  libswscale      6.  7.100 /  6.  7.100\n",
      "  libswresample   4.  7.100 /  4.  7.100\n",
      "  libpostproc    56.  6.100 / 56.  6.100\n",
      "Input #0, mov,mp4,m4a,3gp,3g2,mj2, from 'tmp/intro.mp4':\n",
      "  Metadata:\n",
      "    major_brand     : isom\n",
      "    minor_version   : 512\n",
      "    compatible_brands: isomiso2avc1mp41\n",
      "    encoder         : Lavf59.27.100\n",
      "  Duration: 00:00:00.40, start: 0.000000, bitrate: 143 kb/s\n",
      "  Stream #0:0[0x1](und): Video: h264 (High) (avc1 / 0x31637661), yuv420p(progressive), 1280x720 [SAR 1:1 DAR 16:9], 96 kb/s, 60 fps, 60 tbr, 400 tbn (default)\n",
      "    Metadata:\n",
      "      handler_name    : VideoHandler\n",
      "      vendor_id       : [0][0][0][0]\n",
      "      encoder         : Lavc59.37.100 libx264\n",
      "  Stream #0:1[0x2](und): Audio: aac (LC) (mp4a / 0x6134706D), 44100 Hz, stereo, fltp, 2 kb/s (default)\n",
      "    Metadata:\n",
      "      handler_name    : SoundHandler\n",
      "      vendor_id       : [0][0][0][0]\n",
      "Stream mapping:\n",
      "  Stream #0:0 -> #0:0 (h264 (native) -> mpeg2video (native))\n",
      "  Stream #0:1 -> #0:1 (aac (native) -> mp2 (native))\n",
      "Press [q] to stop, [?] for help\n",
      "Output #0, mpegts, to 'tmp/clip-1.MTS':\n",
      "  Metadata:\n",
      "    major_brand     : isom\n",
      "    minor_version   : 512\n",
      "    compatible_brands: isomiso2avc1mp41\n",
      "    encoder         : Lavf59.27.100\n",
      "  Stream #0:0(und): Video: mpeg2video (Main), yuv420p(progressive), 1280x720 [SAR 1:1 DAR 16:9], q=2-31, 200 kb/s, 60 fps, 90k tbn (default)\n",
      "    Metadata:\n",
      "      handler_name    : VideoHandler\n",
      "      vendor_id       : [0][0][0][0]\n",
      "      encoder         : Lavc59.37.100 mpeg2video\n",
      "    Side data:\n",
      "      cpb: bitrate max/min/avg: 0/0/200000 buffer size: 0 vbv_delay: N/A\n",
      "  Stream #0:1(und): Audio: mp2, 44100 Hz, stereo, s16, 384 kb/s (default)\n",
      "    Metadata:\n",
      "      handler_name    : SoundHandler\n",
      "      vendor_id       : [0][0][0][0]\n",
      "      encoder         : Lavc59.37.100 mp2\n",
      "frame=   24 fps=0.0 q=0.0 Lsize=     117kB time=00:00:00.40 bitrate=2361.0kbits/s speed=7.46x    \n",
      "video:90kB audio:20kB subtitle:0kB other streams:0kB global headers:0kB muxing overhead: 6.657907%\n"
     ]
    },
    {
     "name": "stderr",
     "output_type": "stream",
     "text": [
      "ffmpeg version 5.1.2 Copyright (c) 2000-2022 the FFmpeg developers\n",
      "  built with Apple clang version 14.0.0 (clang-1400.0.29.202)\n",
      "  configuration: --prefix=/usr/local/Cellar/ffmpeg/5.1.2_6 --enable-shared --enable-pthreads --enable-version3 --cc=clang --host-cflags= --host-ldflags= --enable-ffplay --enable-gnutls --enable-gpl --enable-libaom --enable-libaribb24 --enable-libbluray --enable-libdav1d --enable-libmp3lame --enable-libopus --enable-librav1e --enable-librist --enable-librubberband --enable-libsnappy --enable-libsrt --enable-libsvtav1 --enable-libtesseract --enable-libtheora --enable-libvidstab --enable-libvmaf --enable-libvorbis --enable-libvpx --enable-libwebp --enable-libx264 --enable-libx265 --enable-libxml2 --enable-libxvid --enable-lzma --enable-libfontconfig --enable-libfreetype --enable-frei0r --enable-libass --enable-libopencore-amrnb --enable-libopencore-amrwb --enable-libopenjpeg --enable-libspeex --enable-libsoxr --enable-libzmq --enable-libzimg --disable-libjack --disable-indev=jack --enable-videotoolbox\n",
      "  libavutil      57. 28.100 / 57. 28.100\n",
      "  libavcodec     59. 37.100 / 59. 37.100\n",
      "  libavformat    59. 27.100 / 59. 27.100\n",
      "  libavdevice    59.  7.100 / 59.  7.100\n",
      "  libavfilter     8. 44.100 /  8. 44.100\n",
      "  libswscale      6.  7.100 /  6.  7.100\n",
      "  libswresample   4.  7.100 /  4.  7.100\n",
      "  libpostproc    56.  6.100 / 56.  6.100\n",
      "Input #0, mpegts, from 'tmp/tmp.MTS':\n",
      "  Duration: 00:00:20.00, start: 1.433333, bitrate: 388 kb/s\n",
      "  Program 1 \n",
      "    Metadata:\n",
      "      service_name    : Service01\n",
      "      service_provider: FFmpeg\n",
      "  Stream #0:0[0x100]: Video: h264 (High) ([27][0][0][0] / 0x001B), yuv420p(progressive), 1280x720 [SAR 40176:40165 DAR 71424:40165], 60 fps, 60 tbr, 90k tbn\n",
      "Stream mapping:\n",
      "  Stream #0:0 -> #0:0 (h264 (native) -> mpeg2video (native))\n",
      "Press [q] to stop, [?] for help\n",
      "Output #0, mpegts, to 'tmp/clip-2.MTS':\n",
      "  Metadata:\n",
      "    encoder         : Lavf59.27.100\n",
      "  Stream #0:0: Video: mpeg2video (Main), yuv420p(progressive), 1280x720 [SAR 40176:40165 DAR 71424:40165], q=2-31, 200 kb/s, 60 fps, 90k tbn\n",
      "    Metadata:\n",
      "      encoder         : Lavc59.37.100 mpeg2video\n",
      "    Side data:\n",
      "      cpb: bitrate max/min/avg: 0/0/200000 buffer size: 0 vbv_delay: N/A\n",
      "frame= 1197 fps=926 q=0.0 Lsize=   10123kB time=00:00:19.96 bitrate=4153.2kbits/s speed=15.4x    \n",
      "video:9699kB audio:0kB subtitle:0kB other streams:0kB global headers:0kB muxing overhead: 4.369843%\n",
      "ffmpeg version 5.1.2 Copyright (c) 2000-2022 the FFmpeg developers\n",
      "  built with Apple clang version 14.0.0 (clang-1400.0.29.202)\n",
      "  configuration: --prefix=/usr/local/Cellar/ffmpeg/5.1.2_6 --enable-shared --enable-pthreads --enable-version3 --cc=clang --host-cflags= --host-ldflags= --enable-ffplay --enable-gnutls --enable-gpl --enable-libaom --enable-libaribb24 --enable-libbluray --enable-libdav1d --enable-libmp3lame --enable-libopus --enable-librav1e --enable-librist --enable-librubberband --enable-libsnappy --enable-libsrt --enable-libsvtav1 --enable-libtesseract --enable-libtheora --enable-libvidstab --enable-libvmaf --enable-libvorbis --enable-libvpx --enable-libwebp --enable-libx264 --enable-libx265 --enable-libxml2 --enable-libxvid --enable-lzma --enable-libfontconfig --enable-libfreetype --enable-frei0r --enable-libass --enable-libopencore-amrnb --enable-libopencore-amrwb --enable-libopenjpeg --enable-libspeex --enable-libsoxr --enable-libzmq --enable-libzimg --disable-libjack --disable-indev=jack --enable-videotoolbox\n",
      "  libavutil      57. 28.100 / 57. 28.100\n",
      "  libavcodec     59. 37.100 / 59. 37.100\n",
      "  libavformat    59. 27.100 / 59. 27.100\n",
      "  libavdevice    59.  7.100 / 59.  7.100\n",
      "  libavfilter     8. 44.100 /  8. 44.100\n",
      "  libswscale      6.  7.100 /  6.  7.100\n",
      "  libswresample   4.  7.100 /  4.  7.100\n",
      "  libpostproc    56.  6.100 / 56.  6.100\n",
      "Input #0, concat, from 'list.txt':\n",
      "  Duration: N/A, start: 0.000000, bitrate: N/A\n",
      "  Stream #0:0: Video: mpeg2video (Main) ([2][0][0][0] / 0x0002), yuv420p(tv, progressive), 1280x720 [SAR 1:1 DAR 16:9], 60 fps, 60 tbr, 90k tbn\n",
      "    Side data:\n",
      "      cpb: bitrate max/min/avg: 0/0/0 buffer size: 49152 vbv_delay: N/A\n",
      "  Stream #0:1(und): Audio: mp2 ([3][0][0][0] / 0x0003), 44100 Hz, stereo, s16p, 384 kb/s\n",
      "Output #0, mpegts, to 'tmp/tmp2.MTS':\n",
      "  Metadata:\n",
      "    encoder         : Lavf59.27.100\n",
      "  Stream #0:0: Video: mpeg2video (Main) ([2][0][0][0] / 0x0002), yuv420p(tv, progressive), 1280x720 [SAR 1:1 DAR 16:9], q=2-31, 60 fps, 60 tbr, 90k tbn\n",
      "    Side data:\n",
      "      cpb: bitrate max/min/avg: 0/0/0 buffer size: 49152 vbv_delay: N/A\n",
      "  Stream #0:1(und): Audio: mp2 ([3][0][0][0] / 0x0003), 44100 Hz, stereo, s16p, 384 kb/s\n",
      "Stream mapping:\n",
      "  Stream #0:0 -> #0:0 (copy)\n",
      "  Stream #0:1 -> #0:1 (copy)\n",
      "Press [q] to stop, [?] for help\n",
      "frame= 1221 fps=0.0 q=-1.0 Lsize=   10240kB time=00:00:20.37 bitrate=4116.6kbits/s speed= 717x    \n",
      "video:9789kB audio:20kB subtitle:0kB other streams:0kB global headers:0kB muxing overhead: 4.395500%\n",
      "ffmpeg version 5.1.2 Copyright (c) 2000-2022 the FFmpeg developers\n",
      "  built with Apple clang version 14.0.0 (clang-1400.0.29.202)\n",
      "  configuration: --prefix=/usr/local/Cellar/ffmpeg/5.1.2_6 --enable-shared --enable-pthreads --enable-version3 --cc=clang --host-cflags= --host-ldflags= --enable-ffplay --enable-gnutls --enable-gpl --enable-libaom --enable-libaribb24 --enable-libbluray --enable-libdav1d --enable-libmp3lame --enable-libopus --enable-librav1e --enable-librist --enable-librubberband --enable-libsnappy --enable-libsrt --enable-libsvtav1 --enable-libtesseract --enable-libtheora --enable-libvidstab --enable-libvmaf --enable-libvorbis --enable-libvpx --enable-libwebp --enable-libx264 --enable-libx265 --enable-libxml2 --enable-libxvid --enable-lzma --enable-libfontconfig --enable-libfreetype --enable-frei0r --enable-libass --enable-libopencore-amrnb --enable-libopencore-amrwb --enable-libopenjpeg --enable-libspeex --enable-libsoxr --enable-libzmq --enable-libzimg --disable-libjack --disable-indev=jack --enable-videotoolbox\n",
      "  libavutil      57. 28.100 / 57. 28.100\n",
      "  libavcodec     59. 37.100 / 59. 37.100\n",
      "  libavformat    59. 27.100 / 59. 27.100\n",
      "  libavdevice    59.  7.100 / 59.  7.100\n",
      "  libavfilter     8. 44.100 /  8. 44.100\n",
      "  libswscale      6.  7.100 /  6.  7.100\n",
      "  libswresample   4.  7.100 /  4.  7.100\n",
      "  libpostproc    56.  6.100 / 56.  6.100\n",
      "Input #0, mpegts, from 'tmp/tmp2.MTS':\n",
      "  Duration: 00:00:20.41, start: 1.405756, bitrate: 4109 kb/s\n",
      "  Program 1 \n",
      "    Metadata:\n",
      "      service_name    : Service01\n",
      "      service_provider: FFmpeg\n",
      "  Stream #0:0[0x100]: Video: mpeg2video (Main) ([2][0][0][0] / 0x0002), yuv420p(tv, progressive), 1280x720 [SAR 1:1 DAR 16:9], 60 fps, 60 tbr, 90k tbn\n",
      "    Side data:\n",
      "      cpb: bitrate max/min/avg: 0/0/0 buffer size: 49152 vbv_delay: N/A\n",
      "  Stream #0:1[0x101](und): Audio: mp2 ([3][0][0][0] / 0x0003), 44100 Hz, stereo, fltp, 384 kb/s\n",
      "Stream mapping:\n",
      "  Stream #0:0 -> #0:0 (mpeg2video (native) -> h264 (libx264))\n",
      "  Stream #0:1 -> #0:1 (mp2 (native) -> aac (native))\n",
      "Press [q] to stop, [?] for help\n",
      "[libx264 @ 0x7f8f60a050c0] using SAR=1/1\n",
      "[libx264 @ 0x7f8f60a050c0] using cpu capabilities: MMX2 SSE2Fast SSSE3 SSE4.2 AVX FMA3 BMI2 AVX2\n",
      "[libx264 @ 0x7f8f60a050c0] profile High, level 3.2, 4:2:0, 8-bit\n",
      "[libx264 @ 0x7f8f60a050c0] 264 - core 164 r3095 baee400 - H.264/MPEG-4 AVC codec - Copyleft 2003-2022 - http://www.videolan.org/x264.html - options: cabac=1 ref=3 deblock=1:0:0 analyse=0x3:0x113 me=hex subme=7 psy=1 psy_rd=1.00:0.00 mixed_ref=1 me_range=16 chroma_me=1 trellis=1 8x8dct=1 cqm=0 deadzone=21,11 fast_pskip=1 chroma_qp_offset=-2 threads=12 lookahead_threads=2 sliced_threads=0 nr=0 decimate=1 interlaced=0 bluray_compat=0 constrained_intra=0 bframes=3 b_pyramid=2 b_adapt=1 b_bias=0 direct=1 weightb=1 open_gop=0 weightp=2 keyint=250 keyint_min=25 scenecut=40 intra_refresh=0 rc_lookahead=40 rc=crf mbtree=1 crf=30.0 qcomp=0.60 qpmin=0 qpmax=69 qpstep=4 ip_ratio=1.40 aq=1:1.00\n",
      "Output #0, mov, to 'out.mov':\n",
      "  Metadata:\n",
      "    encoder         : Lavf59.27.100\n",
      "  Stream #0:0: Video: h264 (avc1 / 0x31637661), yuv420p(tv, progressive), 1280x720 [SAR 1:1 DAR 16:9], q=2-31, 60 fps, 15360 tbn\n",
      "    Metadata:\n",
      "      encoder         : Lavc59.37.100 libx264\n",
      "    Side data:\n",
      "      cpb: bitrate max/min/avg: 0/0/0 buffer size: 0 vbv_delay: N/A\n",
      "  Stream #0:1(und): Audio: aac (LC) (mp4a / 0x6134706D), 44100 Hz, stereo, fltp, 128 kb/s\n",
      "    Metadata:\n",
      "      encoder         : Lavc59.37.100 aac\n"
     ]
    },
    {
     "name": "stderr",
     "output_type": "stream",
     "text": [
      "frame= 1225 fps=405 q=-1.0 Lsize=     466kB time=00:00:20.36 bitrate= 187.5kbits/s dup=4 drop=0 speed=6.74x    \n",
      "video:450kB audio:0kB subtitle:0kB other streams:0kB global headers:0kB muxing overhead: 3.557087%\n",
      "[libx264 @ 0x7f8f60a050c0] frame I:6     Avg QP:22.42  size:  7961\n",
      "[libx264 @ 0x7f8f60a050c0] frame P:329   Avg QP:34.28  size:   729\n",
      "[libx264 @ 0x7f8f60a050c0] frame B:890   Avg QP:27.31  size:   194\n",
      "[libx264 @ 0x7f8f60a050c0] consecutive B-frames:  2.0%  2.1%  4.2% 91.8%\n",
      "[libx264 @ 0x7f8f60a050c0] mb I  I16..4: 37.7% 54.4%  7.8%\n",
      "[libx264 @ 0x7f8f60a050c0] mb P  I16..4:  0.2%  0.9%  0.4%  P16..4:  1.5%  0.5%  0.2%  0.0%  0.0%    skip:96.3%\n",
      "[libx264 @ 0x7f8f60a050c0] mb B  I16..4:  0.1%  0.1%  0.0%  B16..8:  2.8%  0.2%  0.0%  direct: 0.0%  skip:96.8%  L0:55.2% L1:44.5% BI: 0.3%\n",
      "[libx264 @ 0x7f8f60a050c0] 8x8 transform intra:55.4% inter:33.9%\n",
      "[libx264 @ 0x7f8f60a050c0] coded y,uvDC,uvAC intra: 9.8% 5.2% 4.4% inter: 0.1% 0.0% 0.0%\n",
      "[libx264 @ 0x7f8f60a050c0] i16 v,h,dc,p: 83% 10%  7%  0%\n",
      "[libx264 @ 0x7f8f60a050c0] i8 v,h,dc,ddl,ddr,vr,hd,vl,hu: 34%  5% 57%  1%  1%  0%  0%  0%  1%\n",
      "[libx264 @ 0x7f8f60a050c0] i4 v,h,dc,ddl,ddr,vr,hd,vl,hu: 29% 13% 37%  4%  4%  4%  4%  4%  3%\n",
      "[libx264 @ 0x7f8f60a050c0] i8c dc,h,v,p: 90%  5%  5%  0%\n",
      "[libx264 @ 0x7f8f60a050c0] Weighted P-Frames: Y:0.9% UV:0.0%\n",
      "[libx264 @ 0x7f8f60a050c0] ref P L0: 77.3%  3.3% 11.8%  7.6%\n",
      "[libx264 @ 0x7f8f60a050c0] ref B L0: 71.9% 23.1%  5.0%\n",
      "[libx264 @ 0x7f8f60a050c0] ref B L1: 95.3%  4.7%\n",
      "[libx264 @ 0x7f8f60a050c0] kb/s:180.29\n",
      "[aac @ 0x7f8f60a064c0] Qavg: 65536.000\n"
     ]
    },
    {
     "name": "stdout",
     "output_type": "stream",
     "text": [
      "-n \u0007\n"
     ]
    },
    {
     "data": {
      "text/plain": [
       "0"
      ]
     },
     "execution_count": 22,
     "metadata": {},
     "output_type": "execute_result"
    }
   ],
   "source": [
    "#concatenate the folder of .png files\n",
    "os.chdir(f'{nb_dir}/../vid/src')\n",
    "os.system(f'./concat_folder_png.sh');\n",
    "!open /Users/timothytyree/Documents/GitHub/bgmc/vid/mov/out.mov\n",
    "beep(1)"
   ]
  },
  {
   "cell_type": "markdown",
   "id": "9cfeb0aa",
   "metadata": {
    "heading_collapsed": true
   },
   "source": [
    "# notes"
   ]
  },
  {
   "cell_type": "code",
   "execution_count": 23,
   "id": "13ed6c87",
   "metadata": {
    "ExecuteTime": {
     "end_time": "2023-04-30T00:21:06.393889Z",
     "start_time": "2023-04-30T00:21:06.391249Z"
    },
    "hidden": true
   },
   "outputs": [],
   "source": [
    "# DONE: make ^this generate a quick little movie in <30 seconds\n",
    "# TODO: modify (new) parameters until \n",
    "# - the motion looks reasonably circular\n",
    "# - the \"caught\" state corresponds to \"just before annihilation\"\n",
    "#TODO: add the attractive force as the _vector_sum_ over all tips for the \"wandering\" mode"
   ]
  },
  {
   "cell_type": "code",
   "execution_count": 24,
   "id": "57b1e04f",
   "metadata": {
    "ExecuteTime": {
     "end_time": "2023-04-30T00:21:06.402498Z",
     "start_time": "2023-04-30T00:21:06.396650Z"
    },
    "hidden": true
   },
   "outputs": [],
   "source": [
    "#DONE: dev annihilation_kernel_opm for \"caught\" mode pairs\n",
    "#HINT: make it work equally for all pairs of opposite handedness"
   ]
  },
  {
   "cell_type": "code",
   "execution_count": 25,
   "id": "cf7f48ec",
   "metadata": {
    "ExecuteTime": {
     "end_time": "2023-04-30T00:21:06.409108Z",
     "start_time": "2023-04-30T00:21:06.405095Z"
    },
    "hidden": true
   },
   "outputs": [],
   "source": [
    "#DONE: dev one_step for \"caught\" mode"
   ]
  },
  {
   "cell_type": "code",
   "execution_count": null,
   "id": "cf3163af",
   "metadata": {
    "hidden": true
   },
   "outputs": [],
   "source": []
  },
  {
   "cell_type": "code",
   "execution_count": 26,
   "id": "04002422",
   "metadata": {
    "ExecuteTime": {
     "end_time": "2023-04-30T00:21:06.415248Z",
     "start_time": "2023-04-30T00:21:06.411774Z"
    },
    "hidden": true
   },
   "outputs": [],
   "source": [
    "#Q: can I generate a particle movie that is indistinguishable to WJ from spiral tip motion?\n",
    "#A: not without an unecessary amount of work."
   ]
  },
  {
   "cell_type": "code",
   "execution_count": 27,
   "id": "e4a1d59a",
   "metadata": {
    "ExecuteTime": {
     "end_time": "2023-04-30T00:21:06.420282Z",
     "start_time": "2023-04-30T00:21:06.417549Z"
    },
    "hidden": true
   },
   "outputs": [],
   "source": [
    "#Q: what pretty patterns are drawn out by 2 pairs of tips all caught together?\n",
    "#Q: how does ^this pattern change if only one of either pair is coupled twice?"
   ]
  },
  {
   "cell_type": "code",
   "execution_count": 28,
   "id": "7195864f",
   "metadata": {
    "ExecuteTime": {
     "end_time": "2023-04-30T00:21:06.425435Z",
     "start_time": "2023-04-30T00:21:06.422606Z"
    },
    "hidden": true
   },
   "outputs": [],
   "source": [
    "#GOAL: dev visualization\n",
    "#TODO: cp old viewer method here from bgmc\n",
    "#TODO: dev picasso-esque backdrop raster for the visualization of the system.\n",
    "# HINT: backdrop_raster is black except for pixels where tips have been"
   ]
  },
  {
   "cell_type": "code",
   "execution_count": null,
   "id": "09074214",
   "metadata": {
    "hidden": true
   },
   "outputs": [],
   "source": []
  },
  {
   "cell_type": "code",
   "execution_count": null,
   "id": "fc869ecb",
   "metadata": {
    "hidden": true
   },
   "outputs": [],
   "source": []
  },
  {
   "cell_type": "code",
   "execution_count": 29,
   "id": "e2ecf2cf",
   "metadata": {
    "ExecuteTime": {
     "end_time": "2023-04-30T00:21:06.431551Z",
     "start_time": "2023-04-30T00:21:06.427705Z"
    },
    "hidden": true
   },
   "outputs": [],
   "source": [
    "# ///////////////////////////////////////////////\n",
    "# // one step of random, pairwise annihilation //\n",
    "# ///////////////////////////////////////////////\n",
    "# for (i = 0; i < Nmax; i++ ) {\n",
    "# if(still_running[i]) {\n",
    "#   for (j = i+1; j < Nmax; j++ ) {\n",
    "#     if(still_running[j]){\n",
    "#     dist=sqrt(distances[i][j]);\n",
    "#     if(dist<=r){\n",
    "#       // determine whether those two particles react\n",
    "#       reacts=probreact>=uniformRandom();\n",
    "#       // optionally determine whether those two particles react via smeared rxn rate\n",
    "#       // sig=sigmoid(dist, r, beta);\n",
    "#       // reacts=probreact*sig>uniformRandom();\n",
    "#       if(reacts){\n",
    "#         // compute time since last reaction\n",
    "#         T_prev=T;\n",
    "#         T=step*dt;\n",
    "#         // record\n",
    "#         Tsum_array[nparticles] = Tsum_array[nparticles] + T - T_prev;\n",
    "#         Tcount_array[nparticles] = Tcount_array[nparticles] + 1;\n",
    "#         nparticles=nparticles-2;\n",
    "#         // remove the two reacting particles from the simulation\n",
    "#         still_running[i]=false;\n",
    "#         still_running[j]=false;\n",
    "#       }\n",
    "#     }\n",
    "#   }\n",
    "# }\n",
    "# }\n",
    "# }\n"
   ]
  },
  {
   "cell_type": "code",
   "execution_count": null,
   "id": "2aa53840",
   "metadata": {
    "hidden": true
   },
   "outputs": [],
   "source": []
  },
  {
   "cell_type": "code",
   "execution_count": null,
   "id": "5d1bfb02",
   "metadata": {
    "hidden": true
   },
   "outputs": [],
   "source": []
  },
  {
   "cell_type": "code",
   "execution_count": 30,
   "id": "3ca5e8a2",
   "metadata": {
    "ExecuteTime": {
     "end_time": "2023-04-30T00:21:06.439131Z",
     "start_time": "2023-04-30T00:21:06.435289Z"
    },
    "hidden": true
   },
   "outputs": [],
   "source": [
    "# }//end for each trial\n",
    "#   printf(\"simulation complete!\\n\");\n",
    "#   // Print results\n",
    "#   printf(\"\\nPrinting Inputs...\\n\");\n",
    "#   printf(\"r=%g\\n\",r);\n",
    "#   printf(\"D=%g\\n\",D);\n",
    "#   printf(\"L=%g\\n\",L);\n",
    "#   printf(\"kappa=%g\\n\",kappa);\n",
    "#   printf(\"varkappa=%g\\n\",varkappa);\n",
    "#   printf(\"x0=%g\\n\",x0);\n",
    "#   printf(\"dt=%g\\n\",dt);\n",
    "#   printf(\"Dt=%g\\n\",Dt);\n",
    "#   // printf(\"N=%d\\n\",N);\n",
    "#   printf(\"niter=%d\\n\",niter);\n",
    "#   // printf(\"seed=%d\\n\",seed);\n",
    "#   printf(\"reflect=%d\\n\",reflect);\n",
    "#   printf(\"set_second=%d\\n\",set_second);\n",
    "#   printf(\"no_repulsion=%d\\n\",no_repulsion);\n",
    "#   printf(\"no_attraction=%d\\n\",no_attraction);\n",
    "#   printf(\"neighbor=%d\\n\",neighbor);\n",
    "#   printf(\"force_code=%d\\n\",force_code);\n",
    "#   printf(\"iter_per_movestep=%d\\n\",iter_per_movestep);\n",
    "\n",
    "#   /*                              |\n",
    "#   |  Record Mean Collision Times  |\n",
    "#   |                              */\n",
    "#   // print mean output of T_lst to stdout\n",
    "#   printf(\"\\nPrinting Outputs...\\n\");\n",
    "#   // printf(\"exit_code=%d\\n\",exit_code);\n",
    "#   // printf(\"max ntips=%d\\n\",Nmax);\n",
    "#   // printf(\"max ntips_over_area=%g\\n\",Nmax/(L*L));\n",
    "#   // printf(\"Tcount=%d\\n\",count_net);\n",
    "#   // printf(\"Tsum=%g\\n\",T_net);\n",
    "#   // printf(\"Tavg=%g\\n\",T_net/count_net);\n",
    "#   // printf(\"rate=%g\\n\",count_net/T_net);\n",
    "#   // printf(\"rate_over_area=%g\\n\",count_net/(L*L*T_net));\n",
    "#   // T_value=T_net/count_net;\n",
    "#   boo=true;\n",
    "#   for(i = 0; i < (Nmax - N0_end);i++){ // <<< this unshifts the output\n",
    "#   // for(i = 0; i < (Nmax - N0_end - 2);i++){\n",
    "#     if (boo){\n",
    "#       printf (\"%d,\",Nmax-i);\n",
    "#       // printf (\"%d,\",i+1);\n",
    "#     }\n",
    "#     boo=!boo;\n",
    "#   }\n",
    "#   printf (\"\\n\");\n",
    "#   boo=true;\n",
    "#   for(i = 0; i < (Nmax-N0_end);i++){  // <<< this unshifts the output\n",
    "#   // for(i = 2; i < (Nmax - N0_end); i++){\n",
    "#     if (boo){\n",
    "#       Tavg=Tsum_array[Nmax-i]/Tcount_array[Nmax-i];\n",
    "#       // printf (\"%d,\",Tcount_array[Nmax-i]);\n",
    "#       // printf (\"%f,\",Tsum_array[Nmax-i]);\n",
    "#       printf (\"%f,\",Tavg);\n",
    "#       // printf (\"%d,\",i+1);\n",
    "#     }\n",
    "#     boo=!boo;\n",
    "#   }\n",
    "#   printf(\"\\n\");\n",
    "#   return 0;\n",
    "# }\n",
    "\n"
   ]
  },
  {
   "cell_type": "code",
   "execution_count": 31,
   "id": "cf47800b",
   "metadata": {
    "ExecuteTime": {
     "end_time": "2023-04-30T00:21:06.457454Z",
     "start_time": "2023-04-30T00:21:06.441422Z"
    },
    "hidden": true
   },
   "outputs": [],
   "source": [
    "# phi_rela=np.zeros((N,N),dtype=dtype)\n",
    "# DONT: compute relative phase angles\n",
    "# input: phi1 = arcsin( cross( hat(x2-x1), v1) ) \n",
    "# input: phi2 = arcsin( cross( hat(x1-x2), v2) ) \n",
    "# HINT: phidiff = phi2 - phi1\n",
    "# HINT: phisum = phi2 + phi1\n",
    "# NOTE: d(phisum) = 2 * omega0 by construction\n",
    "# phi_rela_kernel_opm"
   ]
  },
  {
   "cell_type": "code",
   "execution_count": null,
   "id": "583a08a9",
   "metadata": {
    "hidden": true
   },
   "outputs": [],
   "source": []
  },
  {
   "cell_type": "code",
   "execution_count": null,
   "id": "86435c87",
   "metadata": {
    "hidden": true
   },
   "outputs": [],
   "source": []
  },
  {
   "cell_type": "code",
   "execution_count": null,
   "id": "7fbb6fe0",
   "metadata": {
    "hidden": true
   },
   "outputs": [],
   "source": []
  },
  {
   "cell_type": "code",
   "execution_count": null,
   "id": "021e65be",
   "metadata": {
    "hidden": true
   },
   "outputs": [],
   "source": []
  },
  {
   "cell_type": "code",
   "execution_count": null,
   "id": "e2fb1fd7",
   "metadata": {
    "hidden": true
   },
   "outputs": [],
   "source": []
  },
  {
   "cell_type": "code",
   "execution_count": null,
   "id": "1542b963",
   "metadata": {
    "hidden": true
   },
   "outputs": [],
   "source": []
  },
  {
   "cell_type": "code",
   "execution_count": null,
   "id": "61e919b5",
   "metadata": {
    "hidden": true
   },
   "outputs": [],
   "source": []
  }
 ],
 "metadata": {
  "hide_input": false,
  "kernelspec": {
   "display_name": "Python 3 (ipykernel)",
   "language": "python",
   "name": "python3"
  },
  "language_info": {
   "codemirror_mode": {
    "name": "ipython",
    "version": 3
   },
   "file_extension": ".py",
   "mimetype": "text/x-python",
   "name": "python",
   "nbconvert_exporter": "python",
   "pygments_lexer": "ipython3",
   "version": "3.9.5"
  },
  "nbTranslate": {
   "displayLangs": [
    "*"
   ],
   "hotkey": "alt-t",
   "langInMainMenu": true,
   "sourceLang": "en",
   "targetLang": "fr",
   "useGoogleTranslate": true
  },
  "toc": {
   "base_numbering": 1,
   "nav_menu": {},
   "number_sections": true,
   "sideBar": true,
   "skip_h1_title": false,
   "title_cell": "Table of Contents",
   "title_sidebar": "Contents",
   "toc_cell": false,
   "toc_position": {},
   "toc_section_display": true,
   "toc_window_display": false
  }
 },
 "nbformat": 4,
 "nbformat_minor": 5
}
