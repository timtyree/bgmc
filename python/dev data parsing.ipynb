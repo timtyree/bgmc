{
 "cells": [
  {
   "cell_type": "markdown",
   "metadata": {},
   "source": [
    "# dev data parsing"
   ]
  },
  {
   "cell_type": "code",
   "execution_count": 1,
   "metadata": {
    "ExecuteTime": {
     "end_time": "2021-04-27T20:18:26.625137Z",
     "start_time": "2021-04-27T20:18:25.825673Z"
    }
   },
   "outputs": [],
   "source": [
    "from lib.my_initialization import *\n",
    "import random,scipy\n",
    "from lib.measure.compute_slope import *\n",
    "from lib.measure.compute_sliding_slope import *\n",
    "from lib.measure.powerlaw import *\n",
    "%load_ext autoreload\n",
    "%autoreload 2\n",
    "\n",
    "from scipy import stats\n",
    "alpha=0.1"
   ]
  },
  {
   "cell_type": "markdown",
   "metadata": {},
   "source": [
    "- TODO: plot the log output over some axis of the input_parameter space  space\n",
    "- TODO: measure the slope/turning points for a given log output\n",
    "- TODO: learn the slope/turning points using state space\n",
    "- TODO: tensorflow jupyter notebook stackoverflow "
   ]
  },
  {
   "cell_type": "markdown",
   "metadata": {},
   "source": [
    "# DONE: make a command line executable that filters Log and returns a merged pandas.Dataframe as *.csv"
   ]
  },
  {
   "cell_type": "code",
   "execution_count": 2,
   "metadata": {
    "ExecuteTime": {
     "end_time": "2021-04-27T20:18:53.457068Z",
     "start_time": "2021-04-27T20:18:53.444319Z"
    }
   },
   "outputs": [],
   "source": [
    "# def filter_log(input_fn,qfoo=None):\n",
    "#     # qfoo_pbc=lambda dict_inputs:dict_inputs['reflect']==0 #periodic bc\n",
    "#     qfoo_rbc=lambda dict_inputs:dict_inputs['reflect']==1 #reflecting bc\n",
    "#     qfoo=qfoo_rbc\n",
    "#     df=parse_log(input_fn,qfoo,include_inputs=True,printing=False)\n",
    "#     return df"
   ]
  },
  {
   "cell_type": "code",
   "execution_count": 8,
   "metadata": {
    "ExecuteTime": {
     "end_time": "2021-04-15T02:11:56.608495Z",
     "start_time": "2021-04-15T02:11:56.604354Z"
    }
   },
   "outputs": [],
   "source": [
    "\n",
    "# TODO: for each input_fn in input_fn_lst \n",
    "# TODO:   get inputs as df_inputs\n",
    "# TODO:   if input_query_function(df_inputs):\n",
    "# TODO:     get outputs as df and append inputs to fields   \n",
    "#return df\n",
    "# TODO: return pd.concatenate(df_lst)"
   ]
  },
  {
   "cell_type": "code",
   "execution_count": 9,
   "metadata": {
    "ExecuteTime": {
     "end_time": "2021-04-15T02:11:56.614655Z",
     "start_time": "2021-04-15T02:11:56.609770Z"
    }
   },
   "outputs": [],
   "source": [
    "# from lib import *"
   ]
  },
  {
   "cell_type": "code",
   "execution_count": 2,
   "metadata": {
    "ExecuteTime": {
     "end_time": "2021-04-15T03:49:30.227048Z",
     "start_time": "2021-04-15T03:49:18.522083Z"
    }
   },
   "outputs": [
    {
     "name": "stdout",
     "output_type": "stream",
     "text": [
      "Please enter a query function of the form \"lambda dict_inputs:dict_inputs[\"reflect\"]==0\": \n",
      "lambda dict_inputs:dict_inputs[\"reflect\"]==0\n",
      "Please enter save folder name: \n",
      "filter_pbc\n"
     ]
    }
   ],
   "source": [
    "#input qfoo\n",
    "# TODO(later): prompt user for input_query_function=lambda df: foo(df)\n",
    "#get folder\n",
    "qfoo=eval(input('Please enter a query function of the form \"lambda dict_inputs:dict_inputs[\"reflect\"]==0\": \\n'))\n",
    "# prompt user for save_fn\n",
    "save_fn = str(input(\"Please enter save folder name: \\n\"))\n",
    "nb_dir='/home/timothytyree/Documents/GitHub/bgmc/python'\n",
    "data_dir=f\"{nb_dir}/data/osg_output/Log\"\n",
    "save_folder=f\"{nb_dir}/data/osg_output/{save_fn}\"\n",
    "try:\n",
    "    os.mkdir(save_folder)\n",
    "except Exception as e:\n",
    "    pass\n",
    "#get df\n",
    "#     retval_lst=filter_folder(folder=data_dir,qfoo=None, save_folder=save_folder)\n",
    "#     # df=pd.concat(df_lst).reset_index(drop=True)\n",
    "#     # df.to_csv(save_dir,index=False)\n",
    "#     print(f\"the total number of trials matching query was {len(df_lst)}\")\n",
    "#     print(f\"final DataFrame stored in {save_dir}\")\n",
    "#     beep = lambda x: os.system(\"echo -n '\\\\a';sleep 1.2;\" * x)\n",
    "#     beep(3)\n",
    "#     print(\"Nota Bene: the output is currently not performing the average over logs (6x compression advisable...)\")\n"
   ]
  },
  {
   "cell_type": "code",
   "execution_count": 11,
   "metadata": {
    "ExecuteTime": {
     "end_time": "2021-04-15T02:11:56.628329Z",
     "start_time": "2021-04-15T02:11:56.622499Z"
    }
   },
   "outputs": [],
   "source": [
    "#TODO: compute average over each condition by using .mean() on the groupby of all coll_names except CollTime"
   ]
  },
  {
   "cell_type": "code",
   "execution_count": null,
   "metadata": {},
   "outputs": [],
   "source": [
    "#TODO: make command line function save each csv to a new folder"
   ]
  },
  {
   "cell_type": "code",
   "execution_count": 3,
   "metadata": {
    "ExecuteTime": {
     "end_time": "2021-04-15T03:49:42.057561Z",
     "start_time": "2021-04-15T03:49:33.515340Z"
    }
   },
   "outputs": [
    {
     "name": "stdout",
     "output_type": "stream",
     "text": [
      "searching 1365397 files...\n"
     ]
    }
   ],
   "source": [
    "folder=data_dir\n",
    "input_fn_lst=get_files_in_folder(folder,trgt='.out.')\n",
    "print(f\"searching {len(input_fn_lst)} files...\")\n",
    "def routine(input_fn):\n",
    "    try:\n",
    "        return filter_log(input_fn,save_folder,qfoo)\n",
    "    except Exception as e:\n",
    "        return e\n",
    "# bag = db.from_sequence(input_fn_lst, npartitions=11).map(routine)\n",
    "# start = time.time()\n",
    "# retval_lst = list(bag)\n",
    "# print(f\"the run time for filtering files was {time.time()-start:.2f} seconds.\")\n",
    "# return retval_lst"
   ]
  },
  {
   "cell_type": "code",
   "execution_count": 4,
   "metadata": {
    "ExecuteTime": {
     "end_time": "2021-04-15T03:50:54.068121Z",
     "start_time": "2021-04-15T03:50:53.949301Z"
    }
   },
   "outputs": [
    {
     "data": {
      "text/plain": [
       "'job.out.8883430.271624'"
      ]
     },
     "execution_count": 4,
     "metadata": {},
     "output_type": "execute_result"
    }
   ],
   "source": [
    "routine(os.path.abspath(input_fn_lst[0]))"
   ]
  },
  {
   "cell_type": "code",
   "execution_count": 12,
   "metadata": {
    "ExecuteTime": {
     "end_time": "2021-04-15T02:11:58.946547Z",
     "start_time": "2021-04-15T02:11:56.629472Z"
    }
   },
   "outputs": [
    {
     "data": {
      "text/plain": [
       "14"
      ]
     },
     "execution_count": 12,
     "metadata": {},
     "output_type": "execute_result"
    }
   ],
   "source": [
    "#     qfoo=eval(input('Please enter a query function of the form \"lambda dict_inputs:dict_inputs[\"reflect\"]==0\":\\n'))\n",
    "# prompt user for save_fn\n",
    "#     save_fn = str(input(\"Please enter save file name:\\n\"))\n",
    "nb_dir='/home/timothytyree/Documents/GitHub/bgmc/python'\n",
    "data_dir=f\"{nb_dir}/data/osg_output/Log\"\n",
    "#     save_dir=f\"{nb_dir}/data/osg_output/{save_fn}\"\n",
    "\n",
    "input_fn_lst=get_files_in_folder(folder=data_dir,trgt='.out.')\n",
    "input_fn=input_fn_lst[0]\n",
    "n_input,n_output=parse_iolines(input_fn, printing=False)\n",
    "n_input"
   ]
  },
  {
   "cell_type": "code",
   "execution_count": 13,
   "metadata": {
    "ExecuteTime": {
     "end_time": "2021-04-15T02:11:59.018080Z",
     "start_time": "2021-04-15T02:11:58.947737Z"
    }
   },
   "outputs": [
    {
     "data": {
      "text/html": [
       "<div>\n",
       "<style scoped>\n",
       "    .dataframe tbody tr th:only-of-type {\n",
       "        vertical-align: middle;\n",
       "    }\n",
       "\n",
       "    .dataframe tbody tr th {\n",
       "        vertical-align: top;\n",
       "    }\n",
       "\n",
       "    .dataframe thead th {\n",
       "        text-align: right;\n",
       "    }\n",
       "</style>\n",
       "<table border=\"1\" class=\"dataframe\">\n",
       "  <thead>\n",
       "    <tr style=\"text-align: right;\">\n",
       "      <th></th>\n",
       "      <th>N</th>\n",
       "      <th>CollTime</th>\n",
       "      <th>r</th>\n",
       "      <th>D</th>\n",
       "      <th>L</th>\n",
       "      <th>kappa</th>\n",
       "      <th>beta</th>\n",
       "      <th>reflect</th>\n",
       "      <th>set_second</th>\n",
       "      <th>niter</th>\n",
       "      <th>dt</th>\n",
       "    </tr>\n",
       "  </thead>\n",
       "  <tbody>\n",
       "    <tr>\n",
       "      <th>0</th>\n",
       "      <td>12</td>\n",
       "      <td>0.402030</td>\n",
       "      <td>0.2</td>\n",
       "      <td>4</td>\n",
       "      <td>15.8114</td>\n",
       "      <td>55</td>\n",
       "      <td>0.1</td>\n",
       "      <td>0</td>\n",
       "      <td>0</td>\n",
       "      <td>250</td>\n",
       "      <td>0.00001</td>\n",
       "    </tr>\n",
       "    <tr>\n",
       "      <th>1</th>\n",
       "      <td>13</td>\n",
       "      <td>0.339076</td>\n",
       "      <td>0.2</td>\n",
       "      <td>4</td>\n",
       "      <td>15.8114</td>\n",
       "      <td>55</td>\n",
       "      <td>0.1</td>\n",
       "      <td>0</td>\n",
       "      <td>0</td>\n",
       "      <td>250</td>\n",
       "      <td>0.00001</td>\n",
       "    </tr>\n",
       "    <tr>\n",
       "      <th>2</th>\n",
       "      <td>14</td>\n",
       "      <td>0.308924</td>\n",
       "      <td>0.2</td>\n",
       "      <td>4</td>\n",
       "      <td>15.8114</td>\n",
       "      <td>55</td>\n",
       "      <td>0.1</td>\n",
       "      <td>0</td>\n",
       "      <td>0</td>\n",
       "      <td>250</td>\n",
       "      <td>0.00001</td>\n",
       "    </tr>\n",
       "    <tr>\n",
       "      <th>3</th>\n",
       "      <td>15</td>\n",
       "      <td>0.270279</td>\n",
       "      <td>0.2</td>\n",
       "      <td>4</td>\n",
       "      <td>15.8114</td>\n",
       "      <td>55</td>\n",
       "      <td>0.1</td>\n",
       "      <td>0</td>\n",
       "      <td>0</td>\n",
       "      <td>250</td>\n",
       "      <td>0.00001</td>\n",
       "    </tr>\n",
       "    <tr>\n",
       "      <th>4</th>\n",
       "      <td>16</td>\n",
       "      <td>0.229521</td>\n",
       "      <td>0.2</td>\n",
       "      <td>4</td>\n",
       "      <td>15.8114</td>\n",
       "      <td>55</td>\n",
       "      <td>0.1</td>\n",
       "      <td>0</td>\n",
       "      <td>0</td>\n",
       "      <td>250</td>\n",
       "      <td>0.00001</td>\n",
       "    </tr>\n",
       "    <tr>\n",
       "      <th>...</th>\n",
       "      <td>...</td>\n",
       "      <td>...</td>\n",
       "      <td>...</td>\n",
       "      <td>...</td>\n",
       "      <td>...</td>\n",
       "      <td>...</td>\n",
       "      <td>...</td>\n",
       "      <td>...</td>\n",
       "      <td>...</td>\n",
       "      <td>...</td>\n",
       "      <td>...</td>\n",
       "    </tr>\n",
       "    <tr>\n",
       "      <th>684</th>\n",
       "      <td>696</td>\n",
       "      <td>0.000090</td>\n",
       "      <td>0.2</td>\n",
       "      <td>4</td>\n",
       "      <td>15.8114</td>\n",
       "      <td>55</td>\n",
       "      <td>0.1</td>\n",
       "      <td>0</td>\n",
       "      <td>0</td>\n",
       "      <td>250</td>\n",
       "      <td>0.00001</td>\n",
       "    </tr>\n",
       "    <tr>\n",
       "      <th>685</th>\n",
       "      <td>697</td>\n",
       "      <td>0.000090</td>\n",
       "      <td>0.2</td>\n",
       "      <td>4</td>\n",
       "      <td>15.8114</td>\n",
       "      <td>55</td>\n",
       "      <td>0.1</td>\n",
       "      <td>0</td>\n",
       "      <td>0</td>\n",
       "      <td>250</td>\n",
       "      <td>0.00001</td>\n",
       "    </tr>\n",
       "    <tr>\n",
       "      <th>686</th>\n",
       "      <td>698</td>\n",
       "      <td>0.000090</td>\n",
       "      <td>0.2</td>\n",
       "      <td>4</td>\n",
       "      <td>15.8114</td>\n",
       "      <td>55</td>\n",
       "      <td>0.1</td>\n",
       "      <td>0</td>\n",
       "      <td>0</td>\n",
       "      <td>250</td>\n",
       "      <td>0.00001</td>\n",
       "    </tr>\n",
       "    <tr>\n",
       "      <th>687</th>\n",
       "      <td>699</td>\n",
       "      <td>0.000090</td>\n",
       "      <td>0.2</td>\n",
       "      <td>4</td>\n",
       "      <td>15.8114</td>\n",
       "      <td>55</td>\n",
       "      <td>0.1</td>\n",
       "      <td>0</td>\n",
       "      <td>0</td>\n",
       "      <td>250</td>\n",
       "      <td>0.00001</td>\n",
       "    </tr>\n",
       "    <tr>\n",
       "      <th>688</th>\n",
       "      <td>700</td>\n",
       "      <td>0.000089</td>\n",
       "      <td>0.2</td>\n",
       "      <td>4</td>\n",
       "      <td>15.8114</td>\n",
       "      <td>55</td>\n",
       "      <td>0.1</td>\n",
       "      <td>0</td>\n",
       "      <td>0</td>\n",
       "      <td>250</td>\n",
       "      <td>0.00001</td>\n",
       "    </tr>\n",
       "  </tbody>\n",
       "</table>\n",
       "<p>689 rows × 11 columns</p>\n",
       "</div>"
      ],
      "text/plain": [
       "       N  CollTime    r  D        L  kappa  beta  reflect  set_second  niter  \\\n",
       "0     12  0.402030  0.2  4  15.8114     55   0.1        0           0    250   \n",
       "1     13  0.339076  0.2  4  15.8114     55   0.1        0           0    250   \n",
       "2     14  0.308924  0.2  4  15.8114     55   0.1        0           0    250   \n",
       "3     15  0.270279  0.2  4  15.8114     55   0.1        0           0    250   \n",
       "4     16  0.229521  0.2  4  15.8114     55   0.1        0           0    250   \n",
       "..   ...       ...  ... ..      ...    ...   ...      ...         ...    ...   \n",
       "684  696  0.000090  0.2  4  15.8114     55   0.1        0           0    250   \n",
       "685  697  0.000090  0.2  4  15.8114     55   0.1        0           0    250   \n",
       "686  698  0.000090  0.2  4  15.8114     55   0.1        0           0    250   \n",
       "687  699  0.000090  0.2  4  15.8114     55   0.1        0           0    250   \n",
       "688  700  0.000089  0.2  4  15.8114     55   0.1        0           0    250   \n",
       "\n",
       "          dt  \n",
       "0    0.00001  \n",
       "1    0.00001  \n",
       "2    0.00001  \n",
       "3    0.00001  \n",
       "4    0.00001  \n",
       "..       ...  \n",
       "684  0.00001  \n",
       "685  0.00001  \n",
       "686  0.00001  \n",
       "687  0.00001  \n",
       "688  0.00001  \n",
       "\n",
       "[689 rows x 11 columns]"
      ]
     },
     "execution_count": 13,
     "metadata": {},
     "output_type": "execute_result"
    }
   ],
   "source": [
    "filter_log(input_fn,qfoo=lambda dict_inputs:dict_inputs[\"reflect\"]==0)\n"
   ]
  },
  {
   "cell_type": "markdown",
   "metadata": {
    "ExecuteTime": {
     "end_time": "2021-04-15T03:33:18.833391Z",
     "start_time": "2021-04-15T03:33:18.786136Z"
    }
   },
   "source": [
    "# merge filtered folder results"
   ]
  },
  {
   "cell_type": "code",
   "execution_count": 34,
   "metadata": {
    "ExecuteTime": {
     "end_time": "2021-04-15T19:37:22.667321Z",
     "start_time": "2021-04-15T19:37:22.653816Z"
    }
   },
   "outputs": [],
   "source": [
    "# def merge_folder(folder,trgt='.out.',return_df=False):\n",
    "#     '''merge all files in folder matching trgt.\n",
    "#     runtime was ~10 seconds for ~3000 files.'''\n",
    "#     #get all files in folder\n",
    "#     assert(os.path.exists(folder))\n",
    "#     input_fn_lst=get_files_in_folder(folder,trgt)\n",
    "#     print(f\"merging {len(input_fn_lst)} files...\")\n",
    "#     #merge all files in folder as df\n",
    "#     df=pd.concat([pd.read_csv(fn) for fn in input_fn_lst])\n",
    "#     #groupby col_names minus CollRate\n",
    "#     param_names=sorted(set(df.columns.values).difference({'CollTime','Rad'}))[::-1]\n",
    "#     #compute mean value\n",
    "#     dfm=df.groupby(param_names).mean()\n",
    "#     dfm.reset_index(inplace=True)\n",
    "#     #compute CollRate and drop CollTime\n",
    "#     dfm['CollRate']=1./dfm['CollTime'] #Hz\n",
    "#     dfm.drop(columns=['CollTime'],inplace=True)\n",
    "#     #save as csv\n",
    "#     save_fn=os.path.basename(folder)+'.csv'\n",
    "#     os.chdir(os.path.dirname(folder))\n",
    "#     dfm.to_csv(save_fn,index=False)\n",
    "#     print(f'mean Collision rates saved in\\n{os.path.abspath(save_fn)}')\n",
    "#     if return_df:\n",
    "#         return dfm\n",
    "#     else:\n",
    "#         return True"
   ]
  },
  {
   "cell_type": "code",
   "execution_count": 40,
   "metadata": {
    "ExecuteTime": {
     "end_time": "2021-04-16T22:57:03.602641Z",
     "start_time": "2021-04-16T22:56:50.634413Z"
    }
   },
   "outputs": [
    {
     "name": "stdout",
     "output_type": "stream",
     "text": [
      "merging 3242 files...\n",
      "mean Collision rates saved in\n",
      "/home/timothytyree/Documents/GitHub/bgmc/python/data/osg_output/run_5_all.csv\n"
     ]
    }
   ],
   "source": [
    "folder=f\"{nb_dir}/data/osg_output/run_5_all\"\n",
    "retval=merge_folder(folder, return_df=True)"
   ]
  },
  {
   "cell_type": "markdown",
   "metadata": {},
   "source": [
    "# dev m and B extraction from trial\n",
    "#TODO: dev turning_point and m_dense extraction from trial"
   ]
  },
  {
   "cell_type": "code",
   "execution_count": 8,
   "metadata": {
    "ExecuteTime": {
     "end_time": "2021-04-24T00:10:53.009991Z",
     "start_time": "2021-04-24T00:10:02.724094Z"
    }
   },
   "outputs": [
    {
     "data": {
      "text/html": [
       "<div>\n",
       "<style scoped>\n",
       "    .dataframe tbody tr th:only-of-type {\n",
       "        vertical-align: middle;\n",
       "    }\n",
       "\n",
       "    .dataframe tbody tr th {\n",
       "        vertical-align: top;\n",
       "    }\n",
       "\n",
       "    .dataframe thead th {\n",
       "        text-align: right;\n",
       "    }\n",
       "</style>\n",
       "<table border=\"1\" class=\"dataframe\">\n",
       "  <thead>\n",
       "    <tr style=\"text-align: right;\">\n",
       "      <th></th>\n",
       "      <th>set_second</th>\n",
       "      <th>reflect</th>\n",
       "      <th>r</th>\n",
       "      <th>niter</th>\n",
       "      <th>kappa</th>\n",
       "      <th>dt</th>\n",
       "      <th>N</th>\n",
       "      <th>L</th>\n",
       "      <th>Dt</th>\n",
       "      <th>D</th>\n",
       "      <th>CollRate</th>\n",
       "    </tr>\n",
       "  </thead>\n",
       "  <tbody>\n",
       "    <tr>\n",
       "      <th>0</th>\n",
       "      <td>0</td>\n",
       "      <td>0</td>\n",
       "      <td>0.1</td>\n",
       "      <td>1500</td>\n",
       "      <td>5</td>\n",
       "      <td>0.00001</td>\n",
       "      <td>12</td>\n",
       "      <td>4.5</td>\n",
       "      <td>0.00001</td>\n",
       "      <td>0.2</td>\n",
       "      <td>0.457629</td>\n",
       "    </tr>\n",
       "    <tr>\n",
       "      <th>1</th>\n",
       "      <td>0</td>\n",
       "      <td>0</td>\n",
       "      <td>0.1</td>\n",
       "      <td>1500</td>\n",
       "      <td>5</td>\n",
       "      <td>0.00001</td>\n",
       "      <td>12</td>\n",
       "      <td>4.5</td>\n",
       "      <td>0.00001</td>\n",
       "      <td>1.0</td>\n",
       "      <td>0.489757</td>\n",
       "    </tr>\n",
       "    <tr>\n",
       "      <th>2</th>\n",
       "      <td>0</td>\n",
       "      <td>0</td>\n",
       "      <td>0.1</td>\n",
       "      <td>1500</td>\n",
       "      <td>5</td>\n",
       "      <td>0.00001</td>\n",
       "      <td>12</td>\n",
       "      <td>4.5</td>\n",
       "      <td>0.00001</td>\n",
       "      <td>1.5</td>\n",
       "      <td>0.472636</td>\n",
       "    </tr>\n",
       "    <tr>\n",
       "      <th>3</th>\n",
       "      <td>0</td>\n",
       "      <td>0</td>\n",
       "      <td>0.1</td>\n",
       "      <td>1500</td>\n",
       "      <td>5</td>\n",
       "      <td>0.00001</td>\n",
       "      <td>12</td>\n",
       "      <td>4.5</td>\n",
       "      <td>0.00001</td>\n",
       "      <td>2.0</td>\n",
       "      <td>0.518877</td>\n",
       "    </tr>\n",
       "    <tr>\n",
       "      <th>4</th>\n",
       "      <td>0</td>\n",
       "      <td>0</td>\n",
       "      <td>0.1</td>\n",
       "      <td>1500</td>\n",
       "      <td>5</td>\n",
       "      <td>0.00001</td>\n",
       "      <td>12</td>\n",
       "      <td>4.5</td>\n",
       "      <td>0.00001</td>\n",
       "      <td>3.0</td>\n",
       "      <td>0.517302</td>\n",
       "    </tr>\n",
       "  </tbody>\n",
       "</table>\n",
       "</div>"
      ],
      "text/plain": [
       "   set_second  reflect    r  niter  kappa       dt   N    L       Dt    D  \\\n",
       "0           0        0  0.1   1500      5  0.00001  12  4.5  0.00001  0.2   \n",
       "1           0        0  0.1   1500      5  0.00001  12  4.5  0.00001  1.0   \n",
       "2           0        0  0.1   1500      5  0.00001  12  4.5  0.00001  1.5   \n",
       "3           0        0  0.1   1500      5  0.00001  12  4.5  0.00001  2.0   \n",
       "4           0        0  0.1   1500      5  0.00001  12  4.5  0.00001  3.0   \n",
       "\n",
       "   CollRate  \n",
       "0  0.457629  \n",
       "1  0.489757  \n",
       "2  0.472636  \n",
       "3  0.518877  \n",
       "4  0.517302  "
      ]
     },
     "execution_count": 8,
     "metadata": {},
     "output_type": "execute_result"
    }
   ],
   "source": [
    "data_dir=\"/home/timothytyree/Documents/GitHub/bgmc/python/data/osg_output/run_6_all.csv\"\n",
    "df=pd.read_csv(data_dir)\n",
    "df.head()"
   ]
  },
  {
   "cell_type": "code",
   "execution_count": 9,
   "metadata": {
    "ExecuteTime": {
     "end_time": "2021-04-24T00:11:55.771774Z",
     "start_time": "2021-04-24T00:10:53.051827Z"
    }
   },
   "outputs": [
    {
     "data": {
      "text/plain": [
       "0"
      ]
     },
     "execution_count": 9,
     "metadata": {},
     "output_type": "execute_result"
    }
   ],
   "source": [
    "#TODO: slice df into something smaller...\n",
    "#load osg data\n",
    "# data_mc_fn='osg_output/run_6_all.csv'#run_1_to_3_merged.csv'\n",
    "# df=pd.read_csv(data_mc_fn)\n",
    "# df.drop(columns=['dt'],inplace=True)\n",
    "\n",
    "#extract column values\n",
    "r_values=np.array(sorted(set(df.r.values)))#cm\n",
    "D_values=np.array(sorted(set(df.D.values)))#cm^2/s\n",
    "L_values=np.array(sorted(set(df.L.values)))#cm\n",
    "A_values=L_values**2#cm^2\n",
    "kappa_values=np.array(sorted(set(df.kappa.values)))#1/s\n",
    "\n",
    "#derived values\n",
    "df['Dt_over_dt']=df.Dt/1e-5\n",
    "df['A']=df['L']**2\n",
    "df['q']=df['N']/df['A'] #number of tips per square centimeter\n",
    "df['w']=df['CollRate']/df['A'] #[mHz?]/cm^2\n",
    "\n",
    "Dt_over_dt_values=np.array(sorted(set(df.Dt_over_dt.values)))#1/s\n",
    "# df['Dt_over_dt']=df.Dt/1e-5\n",
    "# Dt_over_dt_values=np.array(sorted(set(df.Dt_over_dt.values)))#1/s\n",
    "# # df['set_second']=0\n",
    "# # df.drop('set_second',inplace=True)\n",
    "beep(3)\n",
    "# df.head()"
   ]
  },
  {
   "cell_type": "code",
   "execution_count": 10,
   "metadata": {
    "ExecuteTime": {
     "end_time": "2021-04-24T00:12:02.310817Z",
     "start_time": "2021-04-24T00:11:55.841499Z"
    }
   },
   "outputs": [
    {
     "data": {
      "text/html": [
       "<div>\n",
       "<style scoped>\n",
       "    .dataframe tbody tr th:only-of-type {\n",
       "        vertical-align: middle;\n",
       "    }\n",
       "\n",
       "    .dataframe tbody tr th {\n",
       "        vertical-align: top;\n",
       "    }\n",
       "\n",
       "    .dataframe thead th {\n",
       "        text-align: right;\n",
       "    }\n",
       "</style>\n",
       "<table border=\"1\" class=\"dataframe\">\n",
       "  <thead>\n",
       "    <tr style=\"text-align: right;\">\n",
       "      <th></th>\n",
       "      <th>set_second</th>\n",
       "      <th>reflect</th>\n",
       "      <th>r</th>\n",
       "      <th>niter</th>\n",
       "      <th>kappa</th>\n",
       "      <th>dt</th>\n",
       "      <th>N</th>\n",
       "      <th>L</th>\n",
       "      <th>Dt</th>\n",
       "      <th>D</th>\n",
       "      <th>CollRate</th>\n",
       "      <th>Dt_over_dt</th>\n",
       "      <th>A</th>\n",
       "      <th>q</th>\n",
       "      <th>w</th>\n",
       "    </tr>\n",
       "  </thead>\n",
       "  <tbody>\n",
       "    <tr>\n",
       "      <th>3540139</th>\n",
       "      <td>0</td>\n",
       "      <td>0</td>\n",
       "      <td>0.1</td>\n",
       "      <td>1500</td>\n",
       "      <td>80</td>\n",
       "      <td>0.00001</td>\n",
       "      <td>12</td>\n",
       "      <td>5.0</td>\n",
       "      <td>0.001</td>\n",
       "      <td>1.0</td>\n",
       "      <td>4.652364</td>\n",
       "      <td>100.0</td>\n",
       "      <td>25.0</td>\n",
       "      <td>0.48</td>\n",
       "      <td>0.186095</td>\n",
       "    </tr>\n",
       "    <tr>\n",
       "      <th>3540511</th>\n",
       "      <td>0</td>\n",
       "      <td>0</td>\n",
       "      <td>0.1</td>\n",
       "      <td>1500</td>\n",
       "      <td>80</td>\n",
       "      <td>0.00001</td>\n",
       "      <td>13</td>\n",
       "      <td>5.0</td>\n",
       "      <td>0.001</td>\n",
       "      <td>1.0</td>\n",
       "      <td>5.539138</td>\n",
       "      <td>100.0</td>\n",
       "      <td>25.0</td>\n",
       "      <td>0.52</td>\n",
       "      <td>0.221566</td>\n",
       "    </tr>\n",
       "    <tr>\n",
       "      <th>3540883</th>\n",
       "      <td>0</td>\n",
       "      <td>0</td>\n",
       "      <td>0.1</td>\n",
       "      <td>1500</td>\n",
       "      <td>80</td>\n",
       "      <td>0.00001</td>\n",
       "      <td>14</td>\n",
       "      <td>5.0</td>\n",
       "      <td>0.001</td>\n",
       "      <td>1.0</td>\n",
       "      <td>6.657878</td>\n",
       "      <td>100.0</td>\n",
       "      <td>25.0</td>\n",
       "      <td>0.56</td>\n",
       "      <td>0.266315</td>\n",
       "    </tr>\n",
       "    <tr>\n",
       "      <th>3541255</th>\n",
       "      <td>0</td>\n",
       "      <td>0</td>\n",
       "      <td>0.1</td>\n",
       "      <td>1500</td>\n",
       "      <td>80</td>\n",
       "      <td>0.00001</td>\n",
       "      <td>15</td>\n",
       "      <td>5.0</td>\n",
       "      <td>0.001</td>\n",
       "      <td>1.0</td>\n",
       "      <td>7.714293</td>\n",
       "      <td>100.0</td>\n",
       "      <td>25.0</td>\n",
       "      <td>0.60</td>\n",
       "      <td>0.308572</td>\n",
       "    </tr>\n",
       "    <tr>\n",
       "      <th>3541627</th>\n",
       "      <td>0</td>\n",
       "      <td>0</td>\n",
       "      <td>0.1</td>\n",
       "      <td>1500</td>\n",
       "      <td>80</td>\n",
       "      <td>0.00001</td>\n",
       "      <td>16</td>\n",
       "      <td>5.0</td>\n",
       "      <td>0.001</td>\n",
       "      <td>1.0</td>\n",
       "      <td>8.944248</td>\n",
       "      <td>100.0</td>\n",
       "      <td>25.0</td>\n",
       "      <td>0.64</td>\n",
       "      <td>0.357770</td>\n",
       "    </tr>\n",
       "  </tbody>\n",
       "</table>\n",
       "</div>"
      ],
      "text/plain": [
       "         set_second  reflect    r  niter  kappa       dt   N    L     Dt    D  \\\n",
       "3540139           0        0  0.1   1500     80  0.00001  12  5.0  0.001  1.0   \n",
       "3540511           0        0  0.1   1500     80  0.00001  13  5.0  0.001  1.0   \n",
       "3540883           0        0  0.1   1500     80  0.00001  14  5.0  0.001  1.0   \n",
       "3541255           0        0  0.1   1500     80  0.00001  15  5.0  0.001  1.0   \n",
       "3541627           0        0  0.1   1500     80  0.00001  16  5.0  0.001  1.0   \n",
       "\n",
       "         CollRate  Dt_over_dt     A     q         w  \n",
       "3540139  4.652364       100.0  25.0  0.48  0.186095  \n",
       "3540511  5.539138       100.0  25.0  0.52  0.221566  \n",
       "3540883  6.657878       100.0  25.0  0.56  0.266315  \n",
       "3541255  7.714293       100.0  25.0  0.60  0.308572  \n",
       "3541627  8.944248       100.0  25.0  0.64  0.357770  "
      ]
     },
     "execution_count": 10,
     "metadata": {},
     "output_type": "execute_result"
    }
   ],
   "source": [
    "query=(df.set_second==0)&(df.reflect==0)&(df.r==0.1)&(df.Dt==0.001)&(df.Dt==0.001)&(df.D==1.0)&(df.L==5.)&(df.kappa==80)\n",
    "dg=df[query]\n",
    "dg.head()"
   ]
  },
  {
   "cell_type": "code",
   "execution_count": 11,
   "metadata": {
    "ExecuteTime": {
     "end_time": "2021-04-24T00:12:02.576240Z",
     "start_time": "2021-04-24T00:12:02.383785Z"
    }
   },
   "outputs": [
    {
     "data": {
      "image/png": "[encoded data removed]",
      "text/plain": [
       "<Figure size 432x288 with 1 Axes>"
      ]
     },
     "metadata": {
      "needs_background": "light"
     },
     "output_type": "display_data"
    }
   ],
   "source": [
    "x_values=dg.N.values\n",
    "y_values=dg.CollRate.values\n",
    "c_values=dg.kappa\n",
    "\n",
    "fontsize=22\n",
    "plt.scatter(x_values,y_values,c=c_values)\n",
    "plt.xlabel('N',fontsize=fontsize)\n",
    "plt.ylabel('Collision Rate',fontsize=fontsize)\n",
    "plt.show()"
   ]
  },
  {
   "cell_type": "markdown",
   "metadata": {
    "heading_collapsed": true
   },
   "source": [
    "## visualize the effect of Dt_over_dt"
   ]
  },
  {
   "cell_type": "code",
   "execution_count": 218,
   "metadata": {
    "ExecuteTime": {
     "end_time": "2021-04-22T01:45:19.469454Z",
     "start_time": "2021-04-22T01:45:18.650468Z"
    },
    "hidden": true
   },
   "outputs": [
    {
     "name": "stdout",
     "output_type": "stream",
     "text": [
      "for Dt/dt=1e+00, m=2.34865476.\n",
      "for Dt/dt=1e+04, m=2.48014713.\n"
     ]
    },
    {
     "data": {
      "image/png": "[encoded data removed]",
      "text/plain": [
       "<Figure size 432x288 with 1 Axes>"
      ]
     },
     "metadata": {
      "needs_background": "light"
     },
     "output_type": "display_data"
    }
   ],
   "source": [
    "r=0.6;D=1.5;kappa=40;\n",
    "query=(df.set_second==0)&(df.reflect==1)&(df.r==r)&(df.D==D)&(df.kappa==kappa)\n",
    "title=f\"r={r:.1f},\"+r\"$\\kappa$=\"+f\"{kappa:.0f},D={D}\"#\",L={L:.2f}\"\n",
    "dg=df[query].copy()\n",
    "fontsize=20\n",
    "for Dt_over_dt in [1,1e+4]:#Dt_over_dt_values:\n",
    "    query = dg.Dt_over_dt==Dt_over_dt\n",
    "    dg2=dg[query]\n",
    "    x_values=dg2.q.values\n",
    "    y_values=dg2.w.values\n",
    "    c_values=dg2.A.values\n",
    "#     x_values=dg2.N.values\n",
    "#     y_values=dg2.CollRate.values\n",
    "#     c_values=Dt_over_dt+0.*x_values\n",
    "\n",
    "\n",
    "    plt.scatter(x_values,y_values,label=f'Dt/dt={Dt_over_dt:.0e}',s=4,c=c_values)#,c=c_values)\n",
    "    x=x_values[:50]\n",
    "    y=y_values[:50]\n",
    "    dict_out=compute_95CI_ols(np.log(x),np.log(y))\n",
    "    m=dict_out['m']\n",
    "    print(f'for Dt/dt={Dt_over_dt:.0e}, m={m:.8f}.')\n",
    "plt.title(title,fontsize=fontsize)\n",
    "plt.xlabel(r'q (1/cm$^2$)',fontsize=fontsize)\n",
    "plt.ylabel(r'w (Hz/cm$^2$)',fontsize=fontsize)\n",
    "# plt.xlabel('N',fontsize=fontsize)\n",
    "# plt.ylabel('Collision Rate',fontsize=fontsize)\n",
    "# plt.xscale('log')\n",
    "# plt.yscale('log')\n",
    "plt.xlim([0,1])\n",
    "# plt.ylim([0,4])\n",
    "plt.ylim([0,15])\n",
    "plt.tick_params(axis='both', which='major', labelsize=fontsize)\n",
    "plt.tick_params(axis='both', which='minor', labelsize=0)\n",
    "plt.legend(fontsize=fontsize-8)#,ncol=2)\n",
    "plt.show()"
   ]
  },
  {
   "cell_type": "code",
   "execution_count": 370,
   "metadata": {
    "ExecuteTime": {
     "end_time": "2021-04-22T20:31:43.559092Z",
     "start_time": "2021-04-22T20:31:42.719165Z"
    },
    "hidden": true
   },
   "outputs": [
    {
     "name": "stdout",
     "output_type": "stream",
     "text": [
      "for q>0.2 and q<1.0,\n",
      "\tfor Dt/dt=1e+00, m=1.4194+-0.0416.\n",
      "\tfor Dt/dt=1e+04, m=1.4389+-0.0409.\n"
     ]
    },
    {
     "data": {
      "image/png": "[encoded data removed]",
      "text/plain": [
       "<Figure size 432x288 with 1 Axes>"
      ]
     },
     "metadata": {
      "needs_background": "light"
     },
     "output_type": "display_data"
    }
   ],
   "source": [
    "# r=0.2;D=5;kappa=250;\n",
    "# r=0.2;D=1.5;kappa=250;\n",
    "# r=1.0;D=5;kappa=250;\n",
    "r=2.0;D=5;kappa=250;\n",
    "# r=0.6;D=1.5;kappa=40;\n",
    "query=(df.set_second==0)&(df.reflect==0)&(df.r==r)&(df.D==D)&(df.kappa==kappa)\n",
    "title=f\"r={r:.1f} cm, \"+r\"$\\kappa$=\"+f\"{kappa:.0f} Hz, D={D}\"+r\" cm$^2$/s\"#\",L={L:.2f}\"\n",
    "dg=df[query].copy()\n",
    "fontsize=20\n",
    "q_min=0.2;q_max=1.0\n",
    "print(f\"for q>{q_min} and q<{q_max},\")\n",
    "for Dt_over_dt in [1.,1.e+4]:#Dt_over_dt_values:\n",
    "    query = dg.Dt_over_dt==Dt_over_dt\n",
    "    dg2=dg[query].sort_values('q')\n",
    "    x_values=dg2.q.values#*dg2.L.values**.5\n",
    "    y_values=dg2.w.values#*dg2.L.values**.5\n",
    "    c_values=dg2.A.values\n",
    "#     x_values=dg2.N.values\n",
    "#     y_values=dg2.CollRate.values\n",
    "#     c_values=Dt_over_dt+0.*x_values\n",
    "\n",
    "\n",
    "    plt.scatter(x_values,y_values,label=f'Dt/dt={Dt_over_dt:.0e}',s=4)#,c=c_values)#,c=c_values)\n",
    "    boo=(x_values>q_min)&(x_values<q_max)\n",
    "    x=x_values[boo]\n",
    "    y=y_values[boo]\n",
    "    dict_out=compute_95CI_ols(np.log(x),np.log(y))\n",
    "    m=dict_out['m']\n",
    "    Delta_m=dict_out['Delta_m']\n",
    "    print(f'\\tfor Dt/dt={Dt_over_dt:.0e}, m={m:.4f}+-{Delta_m:.4f}.')\n",
    "plt.title(title,fontsize=fontsize)\n",
    "plt.xlabel(r'q (1/cm$^2$)',fontsize=fontsize)\n",
    "plt.ylabel(r'w (Hz/cm$^2$)',fontsize=fontsize)\n",
    "# plt.xlabel('N',fontsize=fontsize)\n",
    "# plt.ylabel('Collision Rate',fontsize=fontsize)\n",
    "plt.xscale('log')\n",
    "plt.yscale('log')\n",
    "plt.xlim([.02,1])\n",
    "plt.ylim([0.0002,2000])\n",
    "# plt.xlim([0.02,100])\n",
    "# plt.ylim([0.0002,10000])\n",
    "plt.tick_params(axis='both', which='major', labelsize=fontsize)\n",
    "plt.tick_params(axis='both', which='minor', labelsize=0)\n",
    "plt.legend(fontsize=fontsize-8)#,ncol=2)\n",
    "plt.show()"
   ]
  },
  {
   "cell_type": "code",
   "execution_count": null,
   "metadata": {
    "hidden": true
   },
   "outputs": [],
   "source": []
  },
  {
   "cell_type": "code",
   "execution_count": 232,
   "metadata": {
    "ExecuteTime": {
     "end_time": "2021-04-22T01:55:56.927456Z",
     "start_time": "2021-04-22T01:55:56.162618Z"
    },
    "hidden": true
   },
   "outputs": [
    {
     "name": "stdout",
     "output_type": "stream",
     "text": [
      "for q>0.2,\n",
      "for Dt/dt=1e+04, m=1.96707620.\n"
     ]
    },
    {
     "data": {
      "image/png": "[encoded data removed]",
      "text/plain": [
       "<Figure size 432x288 with 1 Axes>"
      ]
     },
     "metadata": {
      "needs_background": "light"
     },
     "output_type": "display_data"
    }
   ],
   "source": [
    "r=0.2;D=1.5;kappa=250;\n",
    "# r=0.6;D=1.5;kappa=40;\n",
    "query=(df.set_second==0)&(df.reflect==0)&(df.r==r)&(df.D==D)&(df.kappa==kappa)\n",
    "title=f\"r={r:.1f} cm, \"+r\"$\\kappa$=\"+f\"{kappa:.0f} Hz, D={D}\"+r\"cm$^2$/s\"+u\"\\nDt/dt=1e+4\\n more red = larger area\"#\",L={L:.2f}\"\n",
    "dg=df[query].copy()\n",
    "fontsize=20\n",
    "q_min=0.2\n",
    "print(f\"for q>{q_min},\")\n",
    "for Dt_over_dt in [1.e+4]:#Dt_over_dt_values:\n",
    "    query = dg.Dt_over_dt==Dt_over_dt\n",
    "    dg2=dg[query].sort_values('q')\n",
    "    x_values=dg2.q.values\n",
    "    y_values=dg2.w.values\n",
    "    c_values=dg2.A.values\n",
    "#     x_values=dg2.N.values\n",
    "#     y_values=dg2.CollRate.values\n",
    "#     c_values=Dt_over_dt+0.*x_values\n",
    "\n",
    "\n",
    "    plt.scatter(x_values,y_values,label=f'Dt/dt={Dt_over_dt:.0e}',s=4,c=c_values,cmap='Reds')#,c=c_values)\n",
    "    boo=x_values>q_min\n",
    "    x=x_values[boo]\n",
    "    y=y_values[boo]\n",
    "    dict_out=compute_95CI_ols(np.log(x),np.log(y))\n",
    "    m=dict_out['m']\n",
    "    print(f'for Dt/dt={Dt_over_dt:.0e}, m={m:.8f}.')\n",
    "plt.title(title,fontsize=fontsize)\n",
    "plt.xlabel(r'q (1/cm$^2$)',fontsize=fontsize)\n",
    "plt.ylabel(r'w (Hz/cm$^2$)',fontsize=fontsize)\n",
    "# plt.xlabel('N',fontsize=fontsize)\n",
    "# plt.ylabel('Collision Rate',fontsize=fontsize)\n",
    "plt.xscale('log')\n",
    "plt.yscale('log')\n",
    "plt.xlim([.02,1])\n",
    "plt.ylim([0.0002,20])\n",
    "# plt.ylim([0,4])\n",
    "# plt.ylim([1,15])\n",
    "plt.tick_params(axis='both', which='major', labelsize=fontsize)\n",
    "plt.tick_params(axis='both', which='minor', labelsize=0)\n",
    "# plt.legend(fontsize=fontsize-8)#,ncol=2)\n",
    "plt.show()"
   ]
  },
  {
   "cell_type": "code",
   "execution_count": 212,
   "metadata": {
    "ExecuteTime": {
     "end_time": "2021-04-22T01:43:03.710451Z",
     "start_time": "2021-04-22T01:43:02.834614Z"
    },
    "hidden": true
   },
   "outputs": [
    {
     "name": "stdout",
     "output_type": "stream",
     "text": [
      "for Dt/dt=1e+00, m=1.81421413.\n",
      "for Dt/dt=1e+01, m=1.94599346.\n",
      "for Dt/dt=1e+02, m=1.83893812.\n",
      "for Dt/dt=1e+03, m=1.81764661.\n",
      "for Dt/dt=1e+04, m=1.70852756.\n",
      "for Dt/dt=1e+05, m=1.88072044.\n"
     ]
    },
    {
     "data": {
      "image/png": "[encoded data removed]",
      "text/plain": [
       "<Figure size 432x288 with 1 Axes>"
      ]
     },
     "metadata": {
      "needs_background": "light"
     },
     "output_type": "display_data"
    }
   ],
   "source": [
    "r=0.2;D=1.5;L=L_values[4];kappa=50;\n",
    "query=(df.set_second==0)&(df.reflect==0)&(df.r==r)&(df.D==D)&(df.L==L)&(df.kappa==kappa)\n",
    "title=f\"r={r:.1f},\"+r\"$\\kappa$=\"+f\"{kappa:.0f},D={D},L={L:.2f}\"\n",
    "dg=df[query].copy()\n",
    "fontsize=20\n",
    "Dtdt_lst=[]\n",
    "m_lst=[]\n",
    "Delta_m_lst=[]\n",
    "for Dt_over_dt in Dt_over_dt_values:\n",
    "    query = dg.Dt_over_dt==Dt_over_dt\n",
    "    dg2=dg[query].sort_values('N')\n",
    "    x_values=dg2.N.values\n",
    "    y_values=dg2.CollRate.values\n",
    "    c_values=Dt_over_dt+0.*x_values\n",
    "\n",
    "    plt.plot(x_values,y_values,label=f'Dt/dt={Dt_over_dt:.0e}')#,s=4)#,c=c_values)\n",
    "#     boo=(x_values>40)&(x_values<60)\n",
    "#     boo=(x_values<20)\n",
    "    boo=(x_values>400)\n",
    "    x=x_values[boo]#[:10]#[300-11:]\n",
    "    y=y_values[boo]#[:10]#[300-11:]\n",
    "    dict_out=compute_95CI_ols(np.log(x),np.log(y))\n",
    "    m=dict_out['m']\n",
    "    Delta_m=dict_out['Delta_m']*2\n",
    "    Dtdt_lst.append(Dt_over_dt)\n",
    "    m_lst.append(m)\n",
    "    Delta_m_lst.append(Delta_m)\n",
    "    \n",
    "    print(f'for Dt/dt={Dt_over_dt:.0e}, m={m:.8f}.')\n",
    "plt.title(title,fontsize=fontsize)\n",
    "plt.xlabel('N',fontsize=fontsize)\n",
    "plt.ylabel('Collision Rate',fontsize=fontsize)\n",
    "plt.xscale('log')\n",
    "plt.yscale('log')\n",
    "plt.tick_params(axis='both', which='major', labelsize=fontsize)\n",
    "plt.tick_params(axis='both', which='minor', labelsize=0)\n",
    "plt.legend(fontsize=fontsize-8)#,ncol=2)\n",
    "plt.xlim([10,100])\n",
    "plt.ylim([1,500])\n",
    "plt.show()"
   ]
  },
  {
   "cell_type": "code",
   "execution_count": 213,
   "metadata": {
    "ExecuteTime": {
     "end_time": "2021-04-22T01:43:33.574372Z",
     "start_time": "2021-04-22T01:43:33.440559Z"
    },
    "hidden": true
   },
   "outputs": [
    {
     "data": {
      "image/png": "[encoded data removed]",
      "text/plain": [
       "<Figure size 432x288 with 1 Axes>"
      ]
     },
     "metadata": {
      "needs_background": "light"
     },
     "output_type": "display_data"
    },
    {
     "name": "stdout",
     "output_type": "stream",
     "text": [
      "considering N>400 spiral tips\n"
     ]
    }
   ],
   "source": [
    "\n",
    "plt.errorbar(Dtdt_lst, m_lst, yerr=Delta_m_lst, fmt='-o')\n",
    "# plt.scatter(Dtdt_lst,m_lst,marker='^')\n",
    "plt.xscale('log')\n",
    "plt.title(title,fontsize=fontsize)\n",
    "plt.xlabel('Dt/dt',fontsize=fontsize)\n",
    "plt.ylabel('Exponent value',fontsize=fontsize)\n",
    "# plt.xscale('log')\n",
    "# plt.yscale('log')\n",
    "plt.tick_params(axis='both', which='major', labelsize=fontsize)\n",
    "plt.tick_params(axis='both', which='minor', labelsize=0)\n",
    "# plt.legend(fontsize=fontsize-8)#,ncol=2)\n",
    "# plt.xlim([10,50])\n",
    "plt.ylim([0,3.5])\n",
    "plt.grid('on')\n",
    "plt.show()\n",
    "# print(\"considering 20<N<50 spiral tips\")\n",
    "# print(\"considering N<20 spiral tips\")\n",
    "print(\"considering N>400 spiral tips\")"
   ]
  },
  {
   "cell_type": "code",
   "execution_count": 201,
   "metadata": {
    "ExecuteTime": {
     "end_time": "2021-04-22T01:39:53.192989Z",
     "start_time": "2021-04-22T01:39:53.190362Z"
    },
    "hidden": true
   },
   "outputs": [
    {
     "data": {
      "text/plain": [
       "[0.059034519053731346,\n",
       " 0.03776695710007288,\n",
       " 0.03405112120119519,\n",
       " 0.025924545250244766,\n",
       " 0.05550312569073886,\n",
       " 0.04149351769918479]"
      ]
     },
     "execution_count": 201,
     "metadata": {},
     "output_type": "execute_result"
    }
   ],
   "source": [
    "Delta_m_lst"
   ]
  },
  {
   "cell_type": "code",
   "execution_count": 116,
   "metadata": {
    "ExecuteTime": {
     "end_time": "2021-04-22T00:22:41.816363Z",
     "start_time": "2021-04-22T00:22:41.413194Z"
    },
    "hidden": true
   },
   "outputs": [
    {
     "name": "stdout",
     "output_type": "stream",
     "text": [
      "[1e-05, 0.0001, 0.001, 0.01, 0.1, 1.0]\n"
     ]
    },
    {
     "data": {
      "image/png": "[encoded data removed]",
      "text/plain": [
       "<Figure size 432x288 with 1 Axes>"
      ]
     },
     "metadata": {
      "needs_background": "light"
     },
     "output_type": "display_data"
    }
   ],
   "source": [
    "print(sorted(set(dg.Dt.values)))\n",
    "plt.hist(dg.Dt.values/1e-5,bins=50,log=True)\n",
    "plt.xscale('log')\n",
    "plt.show()"
   ]
  },
  {
   "cell_type": "code",
   "execution_count": null,
   "metadata": {
    "hidden": true
   },
   "outputs": [],
   "source": []
  },
  {
   "cell_type": "code",
   "execution_count": 66,
   "metadata": {
    "ExecuteTime": {
     "end_time": "2021-04-21T23:23:50.524644Z",
     "start_time": "2021-04-21T23:23:49.734183Z"
    },
    "hidden": true
   },
   "outputs": [
    {
     "data": {
      "image/png": "[encoded data removed]",
      "text/plain": [
       "<Figure size 432x288 with 1 Axes>"
      ]
     },
     "metadata": {
      "needs_background": "light"
     },
     "output_type": "display_data"
    }
   ],
   "source": [
    "# query=(df.set_second==0)&(df.reflect==0)&(df.r==0.6)&(df.D==2.0)&(df.L==5.)&(df.kappa==5)\n",
    "# query=(df.set_second==0)&(df.reflect==0)&(df.r==0.6)&(df.D==2.0)&(df.L==5.)&(df.kappa==80)\n",
    "# query=(df.set_second==1)&(df.reflect==1)&(df.r==0.6)&(df.D==1.0)&(df.L==5.)&(df.kappa==80)\n",
    "query=(df.set_second==1)&(df.reflect==1)&(df.r==0.1)&(df.D==1.0)&(df.L==5.)&(df.kappa==80)\n",
    "# query=(df.set_second==0)&(df.reflect==0)&(df.r==0.1)&(df.D==1.0)&(df.L==5.)&(df.kappa==80)\n",
    "dg=df[query].copy()\n",
    "dg.head()\n",
    "\n",
    "fontsize=22\n",
    "for Dt_over_dt in Dt_over_dt_values:\n",
    "    query = dg.Dt_over_dt==Dt_over_dt\n",
    "    dg2=dg[query]\n",
    "    x_values=dg2.N.values\n",
    "    y_values=dg2.CollRate.values\n",
    "    c_values=Dt_over_dt+0.*x_values\n",
    "\n",
    "    plt.scatter(x_values,y_values,label=f'Dt/dt={Dt_over_dt:.0e}')#,c=c_values)\n",
    "plt.xlabel('N',fontsize=fontsize)\n",
    "plt.ylabel('Collision Rate',fontsize=fontsize)\n",
    "plt.xscale('log')\n",
    "plt.yscale('log')\n",
    "plt.legend(fontsize=fontsize-6)\n",
    "plt.show()"
   ]
  },
  {
   "cell_type": "code",
   "execution_count": 39,
   "metadata": {
    "ExecuteTime": {
     "end_time": "2021-04-21T22:56:35.470622Z",
     "start_time": "2021-04-21T22:56:34.921130Z"
    },
    "hidden": true
   },
   "outputs": [
    {
     "data": {
      "image/png": "[encoded data removed]",
      "text/plain": [
       "<Figure size 432x288 with 1 Axes>"
      ]
     },
     "metadata": {
      "needs_background": "light"
     },
     "output_type": "display_data"
    }
   ],
   "source": [
    "# query=(df.set_second==0)&(df.reflect==0)&(df.r==0.6)&(df.D==2.0)&(df.L==5.)&(df.kappa==5)\n",
    "# query=(df.set_second==0)&(df.reflect==0)&(df.r==0.6)&(df.D==2.0)&(df.L==5.)&(df.kappa==80)\n",
    "# query=(df.set_second==1)&(df.reflect==1)&(df.r==0.6)&(df.D==1.0)&(df.L==5.)&(df.kappa==80)\n",
    "query=(df.set_second==1)&(df.reflect==1)&(df.r==0.1)&(df.D==1.0)&(df.L==5.)&(df.kappa==80)\n",
    "# query=(df.set_second==0)&(df.reflect==0)&(df.r==0.1)&(df.D==1.0)&(df.L==5.)&(df.kappa==80)\n",
    "dg=df[query].copy()\n",
    "dg.head()\n",
    "\n",
    "fontsize=22\n",
    "for Dt_over_dt in Dt_over_dt_values:\n",
    "    query = dg.Dt_over_dt==Dt_over_dt\n",
    "    dg2=dg[query]\n",
    "    x_values=dg2.N.values\n",
    "    y_values=dg2.CollRate.values\n",
    "    c_values=Dt_over_dt+0.*x_values\n",
    "\n",
    "    plt.scatter(x_values,y_values,label=f'Dt/dt={Dt_over_dt:.0e}')#,c=c_values)\n",
    "plt.xlabel('N',fontsize=fontsize)\n",
    "plt.ylabel('Collision Rate',fontsize=fontsize)\n",
    "plt.xscale('log')\n",
    "plt.yscale('log')\n",
    "plt.legend(fontsize=fontsize-6)\n",
    "plt.show()"
   ]
  },
  {
   "cell_type": "code",
   "execution_count": 60,
   "metadata": {
    "ExecuteTime": {
     "end_time": "2021-04-21T23:12:48.702471Z",
     "start_time": "2021-04-21T23:12:48.693675Z"
    },
    "hidden": true
   },
   "outputs": [
    {
     "data": {
      "text/plain": [
       "{'m': 1.8288576053075265,\n",
       " 'Delta_m': 0.02361594204065275,\n",
       " 'b': -1.9860325099266927,\n",
       " 'Delta_b': 0.15295826988090527,\n",
       " 'Rsquared': 0.9756780445764814}"
      ]
     },
     "execution_count": 60,
     "metadata": {},
     "output_type": "execute_result"
    }
   ],
   "source": [
    "#compute w_lr and w_fk using a linear regression of a log-log plot\n",
    "query=dg.N>600\n",
    "x=dg[query].N.values\n",
    "y=dg[query].CollRate.values\n",
    "dict_out=compute_95CI_ols(np.log(x),np.log(y))\n",
    "dict_out"
   ]
  },
  {
   "cell_type": "code",
   "execution_count": 61,
   "metadata": {
    "ExecuteTime": {
     "end_time": "2021-04-21T23:12:59.781833Z",
     "start_time": "2021-04-21T23:12:59.772148Z"
    },
    "hidden": true
   },
   "outputs": [
    {
     "data": {
      "text/plain": [
       "{'m': 1.945393802835898,\n",
       " 'Delta_m': 0.0018218528482749382,\n",
       " 'b': -2.7170452811891384,\n",
       " 'Delta_b': 0.010747714138160612,\n",
       " 'Rsquared': 0.9992117386535017}"
      ]
     },
     "execution_count": 61,
     "metadata": {},
     "output_type": "execute_result"
    }
   ],
   "source": [
    "#compute w_lr and w_fk using a linear regression of a log-log plot\n",
    "query=dg.N>100\n",
    "x=dg[query].N.values\n",
    "y=dg[query].CollRate.values\n",
    "dict_out=compute_95CI_ols(np.log(x),np.log(y))\n",
    "dict_out"
   ]
  },
  {
   "cell_type": "markdown",
   "metadata": {},
   "source": [
    "# plot over large ranges with LR, FK results overlayed"
   ]
  },
  {
   "cell_type": "code",
   "execution_count": 12,
   "metadata": {
    "ExecuteTime": {
     "end_time": "2021-04-24T00:12:02.704834Z",
     "start_time": "2021-04-24T00:12:02.685392Z"
    }
   },
   "outputs": [],
   "source": [
    "#load birth death rates from the full model\n",
    "data_folder=f'{nb_dir}/data'\n",
    "os.chdir(data_folder)\n",
    "\n",
    "data_fk_fn='full_results/data_fig4_vidmar_fk_tt.csv'\n",
    "data_lr_fn='full_results/data_fig4_vidmar_lr_tt.csv'\n",
    "\n",
    "fk=pd.read_csv(data_fk_fn)\n",
    "fk['N']=fk['No2']*2\n",
    "fk['q']=fk['N']/fk['A'] #number of tips per square centimeter\n",
    "fk['w']=fk['rate']/fk['A'] #[mHz?]/cm^2\n",
    "\n",
    "lr=pd.read_csv(data_lr_fn)\n",
    "lr['N']=lr['No2']*2\n",
    "lr['q']=lr['N']/lr['A'] #number of tips per square centimeter\n",
    "lr['w']=lr['rate']/lr['A'] #[mHz?]/cm^2\n",
    "\n"
   ]
  },
  {
   "cell_type": "code",
   "execution_count": 24,
   "metadata": {
    "ExecuteTime": {
     "end_time": "2021-04-24T00:14:59.458074Z",
     "start_time": "2021-04-24T00:14:59.453976Z"
    }
   },
   "outputs": [
    {
     "data": {
      "text/plain": [
       "array([  5,  10,  15,  20,  25,  30,  35,  40,  45,  50,  55,  60,  65,\n",
       "        70,  75,  80,  85,  90,  95, 100, 250, 500])"
      ]
     },
     "execution_count": 24,
     "metadata": {},
     "output_type": "execute_result"
    }
   ],
   "source": [
    "kappa_values"
   ]
  },
  {
   "cell_type": "code",
   "execution_count": null,
   "metadata": {},
   "outputs": [],
   "source": []
  },
  {
   "cell_type": "code",
   "execution_count": 33,
   "metadata": {
    "ExecuteTime": {
     "end_time": "2021-04-24T00:16:24.911741Z",
     "start_time": "2021-04-24T00:16:24.048306Z"
    }
   },
   "outputs": [
    {
     "name": "stdout",
     "output_type": "stream",
     "text": [
      "for r=0.1, m=2.03540757.\n",
      "for r=1.0, m=2.07841187.\n",
      "for r=2.0, m=2.02170852.\n"
     ]
    },
    {
     "data": {
      "image/png": "[encoded data removed]",
      "text/plain": [
       "<Figure size 432x288 with 1 Axes>"
      ]
     },
     "metadata": {
      "needs_background": "light"
     },
     "output_type": "display_data"
    }
   ],
   "source": [
    "#plot up WJ's results\n",
    "yscale=10**3\n",
    "plt.scatter(x=lr.q.values,y=yscale*lr.w.values,alpha=0.3,label='Luo-Rudy')\n",
    "plt.scatter(x=fk.q.values,y=yscale*fk.w.values,alpha=0.3,label='Fenton-Karma')\n",
    "\n",
    "D=5.;kappa=35;Dt_over_dt=1.;L=L_values[-1]\n",
    "query=(df.set_second==0)&(df.reflect==0)&(df.Dt_over_dt==Dt_over_dt)&(df.D==D)&(df.kappa==kappa)&(df.L==L)\n",
    "title=r\"$\\kappa$=\"+f\"{kappa:.0f},D={D}\"\n",
    "# title=f\"r={r:.1f},\"+r\"$\\kappa$=\"+f\"{kappa:.0f},D={D}\"\n",
    "dg=df[query].copy()\n",
    "fontsize=16\n",
    "r_lst=[]\n",
    "m_lst=[]\n",
    "Delta_m_lst=[]\n",
    "q_min=.02;q_max=.2 #low density\n",
    "q_min=0.2;q_max=.4 #high density\n",
    "for r in [.1,1,2]:#r_values:#\n",
    "    query2 = dg.r==r\n",
    "    dg2=dg[query2].sort_values('q')\n",
    "    x_values=dg2.q.values\n",
    "    y_values=dg2.w.values\n",
    "#     c_values=Dt_over_dt+0.*x_values\n",
    "\n",
    "    plt.scatter(x_values,y_values,label=f'r={r:.1f} cm',alpha=0.3)#,s=4)#,c=c_values)\n",
    "#     boo=(x_values>40)&(x_values<60)\n",
    "#     boo=(x_values<20)\n",
    "    boo=(x_values>q_min)&(x_values<q_max)\n",
    "    x=x_values[boo]#[:10]#[300-11:]\n",
    "    y=y_values[boo]#[:10]#[300-11:]\n",
    "    dict_out=compute_95CI_ols(np.log(x),np.log(y))\n",
    "    m=dict_out['m']\n",
    "    Delta_m=dict_out['Delta_m']*2\n",
    "    r_lst.append(r)\n",
    "    m_lst.append(m)\n",
    "    Delta_m_lst.append(Delta_m)\n",
    "    \n",
    "    print(f'for r={r:.1f}, m={m:.8f}.')\n",
    "plt.title(title,fontsize=fontsize)\n",
    "plt.xlabel(r'q (1/cm$^2$)',fontsize=fontsize)\n",
    "plt.ylabel(r'w (Hz/cm$^2$)',fontsize=fontsize)\n",
    "plt.xscale('log')\n",
    "plt.yscale('log')\n",
    "plt.tick_params(axis='both', which='major', labelsize=fontsize)\n",
    "plt.tick_params(axis='both', which='minor', labelsize=0)\n",
    "plt.legend(fontsize=fontsize-8,ncol=2,loc='lower right')\n",
    "plt.xlim([.02,10])\n",
    "plt.ylim([0.01,10000])\n",
    "plt.show()"
   ]
  },
  {
   "cell_type": "markdown",
   "metadata": {
    "ExecuteTime": {
     "end_time": "2021-04-22T03:13:46.828899Z",
     "start_time": "2021-04-22T03:13:46.823101Z"
    }
   },
   "source": [
    "- the trend of m versus r appears linearly decreasing for $r>0.25$ cm and appears to be independent of D.\n",
    "- Hypothesis: m>=2 for kappa = relevant to our models"
   ]
  },
  {
   "cell_type": "code",
   "execution_count": 34,
   "metadata": {
    "ExecuteTime": {
     "end_time": "2021-04-24T00:18:50.668966Z",
     "start_time": "2021-04-24T00:18:50.505945Z"
    }
   },
   "outputs": [
    {
     "data": {
      "image/png": "[encoded data removed]",
      "text/plain": [
       "<Figure size 432x288 with 1 Axes>"
      ]
     },
     "metadata": {
      "needs_background": "light"
     },
     "output_type": "display_data"
    },
    {
     "name": "stdout",
     "output_type": "stream",
     "text": [
      "considering 0.2<q<0.4\n"
     ]
    }
   ],
   "source": [
    "m_fk=1.945#1.858;#+-0.027; B_fk=2.464+-0.030<br>\n",
    "m_lr=1.544#1.638;#+-0.017; B_fk=5.588+-0.067\n",
    "plt.errorbar(r_lst, m_lst, yerr=Delta_m_lst, fmt='-o',label='monte carlo')\n",
    "plt.plot(r_lst, m_fk+0.*np.array(r_lst), '--',c='gray',label='Fenton-Karma')\n",
    "plt.plot(r_lst, m_lr+0.*np.array(r_lst), '-',c='gray',label='Luo-Rudy')\n",
    "\n",
    "# plt.scatter(Dtdt_lst,m_lst,marker='^')\n",
    "# plt.xscale('log')\n",
    "plt.title(title,fontsize=fontsize)\n",
    "plt.xlabel('r (cm)',fontsize=fontsize)\n",
    "plt.ylabel('Exponent value',fontsize=fontsize)\n",
    "# plt.xscale('log')\n",
    "# plt.yscale('log')\n",
    "plt.tick_params(axis='both', which='major', labelsize=fontsize)\n",
    "plt.tick_params(axis='both', which='minor', labelsize=0)\n",
    "# plt.legend(fontsize=fontsize-8)#,ncol=2)\n",
    "# plt.xlim([10,50])\n",
    "plt.ylim([0,3.5])\n",
    "# plt.grid('on')\n",
    "plt.legend()\n",
    "plt.show()\n",
    "# print(\"considering 20<N<50 spiral tips\")\n",
    "# print(\"considering N<20 spiral tips\")\n",
    "print(f\"considering {q_min}<q<{q_max}\")"
   ]
  },
  {
   "cell_type": "markdown",
   "metadata": {},
   "source": [
    "df.head()"
   ]
  },
  {
   "cell_type": "code",
   "execution_count": 324,
   "metadata": {
    "ExecuteTime": {
     "end_time": "2021-04-22T04:36:11.778610Z",
     "start_time": "2021-04-22T04:36:10.915840Z"
    }
   },
   "outputs": [
    {
     "data": {
      "text/html": [
       "<div>\n",
       "<style scoped>\n",
       "    .dataframe tbody tr th:only-of-type {\n",
       "        vertical-align: middle;\n",
       "    }\n",
       "\n",
       "    .dataframe tbody tr th {\n",
       "        vertical-align: top;\n",
       "    }\n",
       "\n",
       "    .dataframe thead th {\n",
       "        text-align: right;\n",
       "    }\n",
       "</style>\n",
       "<table border=\"1\" class=\"dataframe\">\n",
       "  <thead>\n",
       "    <tr style=\"text-align: right;\">\n",
       "      <th></th>\n",
       "      <th>set_second</th>\n",
       "      <th>reflect</th>\n",
       "      <th>r</th>\n",
       "      <th>niter</th>\n",
       "      <th>kappa</th>\n",
       "      <th>N</th>\n",
       "      <th>L</th>\n",
       "      <th>Dt</th>\n",
       "      <th>D</th>\n",
       "      <th>CollRate</th>\n",
       "      <th>Dt_over_dt</th>\n",
       "      <th>A</th>\n",
       "      <th>q</th>\n",
       "      <th>w</th>\n",
       "    </tr>\n",
       "  </thead>\n",
       "  <tbody>\n",
       "    <tr>\n",
       "      <th>0</th>\n",
       "      <td>0</td>\n",
       "      <td>0</td>\n",
       "      <td>0.1</td>\n",
       "      <td>1500</td>\n",
       "      <td>5</td>\n",
       "      <td>12</td>\n",
       "      <td>4.5</td>\n",
       "      <td>0.00001</td>\n",
       "      <td>0.2</td>\n",
       "      <td>0.457629</td>\n",
       "      <td>1.0</td>\n",
       "      <td>20.25</td>\n",
       "      <td>0.592593</td>\n",
       "      <td>0.022599</td>\n",
       "    </tr>\n",
       "    <tr>\n",
       "      <th>1</th>\n",
       "      <td>0</td>\n",
       "      <td>0</td>\n",
       "      <td>0.1</td>\n",
       "      <td>1500</td>\n",
       "      <td>5</td>\n",
       "      <td>12</td>\n",
       "      <td>4.5</td>\n",
       "      <td>0.00001</td>\n",
       "      <td>1.0</td>\n",
       "      <td>0.489757</td>\n",
       "      <td>1.0</td>\n",
       "      <td>20.25</td>\n",
       "      <td>0.592593</td>\n",
       "      <td>0.024186</td>\n",
       "    </tr>\n",
       "    <tr>\n",
       "      <th>2</th>\n",
       "      <td>0</td>\n",
       "      <td>0</td>\n",
       "      <td>0.1</td>\n",
       "      <td>1500</td>\n",
       "      <td>5</td>\n",
       "      <td>12</td>\n",
       "      <td>4.5</td>\n",
       "      <td>0.00001</td>\n",
       "      <td>1.5</td>\n",
       "      <td>0.472636</td>\n",
       "      <td>1.0</td>\n",
       "      <td>20.25</td>\n",
       "      <td>0.592593</td>\n",
       "      <td>0.023340</td>\n",
       "    </tr>\n",
       "    <tr>\n",
       "      <th>3</th>\n",
       "      <td>0</td>\n",
       "      <td>0</td>\n",
       "      <td>0.1</td>\n",
       "      <td>1500</td>\n",
       "      <td>5</td>\n",
       "      <td>12</td>\n",
       "      <td>4.5</td>\n",
       "      <td>0.00001</td>\n",
       "      <td>2.0</td>\n",
       "      <td>0.518877</td>\n",
       "      <td>1.0</td>\n",
       "      <td>20.25</td>\n",
       "      <td>0.592593</td>\n",
       "      <td>0.025624</td>\n",
       "    </tr>\n",
       "    <tr>\n",
       "      <th>4</th>\n",
       "      <td>0</td>\n",
       "      <td>0</td>\n",
       "      <td>0.1</td>\n",
       "      <td>1500</td>\n",
       "      <td>5</td>\n",
       "      <td>12</td>\n",
       "      <td>4.5</td>\n",
       "      <td>0.00001</td>\n",
       "      <td>3.0</td>\n",
       "      <td>0.517302</td>\n",
       "      <td>1.0</td>\n",
       "      <td>20.25</td>\n",
       "      <td>0.592593</td>\n",
       "      <td>0.025546</td>\n",
       "    </tr>\n",
       "    <tr>\n",
       "      <th>...</th>\n",
       "      <td>...</td>\n",
       "      <td>...</td>\n",
       "      <td>...</td>\n",
       "      <td>...</td>\n",
       "      <td>...</td>\n",
       "      <td>...</td>\n",
       "      <td>...</td>\n",
       "      <td>...</td>\n",
       "      <td>...</td>\n",
       "      <td>...</td>\n",
       "      <td>...</td>\n",
       "      <td>...</td>\n",
       "      <td>...</td>\n",
       "      <td>...</td>\n",
       "    </tr>\n",
       "    <tr>\n",
       "      <th>125407391</th>\n",
       "      <td>0</td>\n",
       "      <td>1</td>\n",
       "      <td>2.0</td>\n",
       "      <td>1500</td>\n",
       "      <td>500</td>\n",
       "      <td>700</td>\n",
       "      <td>4.5</td>\n",
       "      <td>1.00000</td>\n",
       "      <td>1.5</td>\n",
       "      <td>100000.000000</td>\n",
       "      <td>100000.0</td>\n",
       "      <td>20.25</td>\n",
       "      <td>34.567901</td>\n",
       "      <td>4938.271605</td>\n",
       "    </tr>\n",
       "    <tr>\n",
       "      <th>125407392</th>\n",
       "      <td>0</td>\n",
       "      <td>1</td>\n",
       "      <td>2.0</td>\n",
       "      <td>1500</td>\n",
       "      <td>500</td>\n",
       "      <td>700</td>\n",
       "      <td>4.5</td>\n",
       "      <td>1.00000</td>\n",
       "      <td>2.0</td>\n",
       "      <td>100000.000000</td>\n",
       "      <td>100000.0</td>\n",
       "      <td>20.25</td>\n",
       "      <td>34.567901</td>\n",
       "      <td>4938.271605</td>\n",
       "    </tr>\n",
       "    <tr>\n",
       "      <th>125407393</th>\n",
       "      <td>0</td>\n",
       "      <td>1</td>\n",
       "      <td>2.0</td>\n",
       "      <td>1500</td>\n",
       "      <td>500</td>\n",
       "      <td>700</td>\n",
       "      <td>4.5</td>\n",
       "      <td>1.00000</td>\n",
       "      <td>3.0</td>\n",
       "      <td>100000.000000</td>\n",
       "      <td>100000.0</td>\n",
       "      <td>20.25</td>\n",
       "      <td>34.567901</td>\n",
       "      <td>4938.271605</td>\n",
       "    </tr>\n",
       "    <tr>\n",
       "      <th>125407394</th>\n",
       "      <td>0</td>\n",
       "      <td>1</td>\n",
       "      <td>2.0</td>\n",
       "      <td>1500</td>\n",
       "      <td>500</td>\n",
       "      <td>700</td>\n",
       "      <td>4.5</td>\n",
       "      <td>1.00000</td>\n",
       "      <td>4.0</td>\n",
       "      <td>100000.000000</td>\n",
       "      <td>100000.0</td>\n",
       "      <td>20.25</td>\n",
       "      <td>34.567901</td>\n",
       "      <td>4938.271605</td>\n",
       "    </tr>\n",
       "    <tr>\n",
       "      <th>125407395</th>\n",
       "      <td>0</td>\n",
       "      <td>1</td>\n",
       "      <td>2.0</td>\n",
       "      <td>1500</td>\n",
       "      <td>500</td>\n",
       "      <td>700</td>\n",
       "      <td>4.5</td>\n",
       "      <td>1.00000</td>\n",
       "      <td>5.0</td>\n",
       "      <td>100000.000000</td>\n",
       "      <td>100000.0</td>\n",
       "      <td>20.25</td>\n",
       "      <td>34.567901</td>\n",
       "      <td>4938.271605</td>\n",
       "    </tr>\n",
       "  </tbody>\n",
       "</table>\n",
       "<p>14014820 rows × 14 columns</p>\n",
       "</div>"
      ],
      "text/plain": [
       "           set_second  reflect    r  niter  kappa    N    L       Dt    D  \\\n",
       "0                   0        0  0.1   1500      5   12  4.5  0.00001  0.2   \n",
       "1                   0        0  0.1   1500      5   12  4.5  0.00001  1.0   \n",
       "2                   0        0  0.1   1500      5   12  4.5  0.00001  1.5   \n",
       "3                   0        0  0.1   1500      5   12  4.5  0.00001  2.0   \n",
       "4                   0        0  0.1   1500      5   12  4.5  0.00001  3.0   \n",
       "...               ...      ...  ...    ...    ...  ...  ...      ...  ...   \n",
       "125407391           0        1  2.0   1500    500  700  4.5  1.00000  1.5   \n",
       "125407392           0        1  2.0   1500    500  700  4.5  1.00000  2.0   \n",
       "125407393           0        1  2.0   1500    500  700  4.5  1.00000  3.0   \n",
       "125407394           0        1  2.0   1500    500  700  4.5  1.00000  4.0   \n",
       "125407395           0        1  2.0   1500    500  700  4.5  1.00000  5.0   \n",
       "\n",
       "                CollRate  Dt_over_dt      A          q            w  \n",
       "0               0.457629         1.0  20.25   0.592593     0.022599  \n",
       "1               0.489757         1.0  20.25   0.592593     0.024186  \n",
       "2               0.472636         1.0  20.25   0.592593     0.023340  \n",
       "3               0.518877         1.0  20.25   0.592593     0.025624  \n",
       "4               0.517302         1.0  20.25   0.592593     0.025546  \n",
       "...                  ...         ...    ...        ...          ...  \n",
       "125407391  100000.000000    100000.0  20.25  34.567901  4938.271605  \n",
       "125407392  100000.000000    100000.0  20.25  34.567901  4938.271605  \n",
       "125407393  100000.000000    100000.0  20.25  34.567901  4938.271605  \n",
       "125407394  100000.000000    100000.0  20.25  34.567901  4938.271605  \n",
       "125407395  100000.000000    100000.0  20.25  34.567901  4938.271605  \n",
       "\n",
       "[14014820 rows x 14 columns]"
      ]
     },
     "execution_count": 324,
     "metadata": {},
     "output_type": "execute_result"
    }
   ],
   "source": [
    "df[df.L==L_values[0]]"
   ]
  },
  {
   "cell_type": "markdown",
   "metadata": {},
   "source": [
    "- DONE: put the pictures i already took into a slide or so\n",
    "# TODO(with gpu): measure m,M for plots of monte carlo trials\n",
    "# TODO: rescale by to universal plot for m=2.  measure slope/m,M\n",
    "# TODO: measure whether a turning point exists\n",
    "# TODO: measure turning points when they exist"
   ]
  },
  {
   "cell_type": "markdown",
   "metadata": {},
   "source": [
    "# TODO: plot up WJ's ncbc data and give them slides as in the pbc case"
   ]
  },
  {
   "cell_type": "markdown",
   "metadata": {},
   "source": [
    "$$\n",
    "w=M q^m,\\; M=\\tilde M \\kappa r^{2(m-1)},\\;\\text{ for } m=2,\\, \\tilde M = \\frac{\\pi}{2}.\n",
    "$$"
   ]
  },
  {
   "cell_type": "markdown",
   "metadata": {},
   "source": [
    "- TODO: randomly switch between reacting/non-reacting modes.\n",
    "- TODO: give each brownian particle a randomly selected charge if the net charge is 0, else decrease absolute net charge towards zero \n",
    "- TODO: rerun with dt=1e-7 or dt=1e-8"
   ]
  },
  {
   "cell_type": "markdown",
   "metadata": {},
   "source": [
    "# design run 7"
   ]
  },
  {
   "cell_type": "code",
   "execution_count": 6,
   "metadata": {
    "ExecuteTime": {
     "end_time": "2021-04-27T20:29:39.611612Z",
     "start_time": "2021-04-27T20:29:39.319620Z"
    },
    "scrolled": true
   },
   "outputs": [
    {
     "name": "stdout",
     "output_type": "stream",
     "text": [
      "1079568\n"
     ]
    }
   ],
   "source": [
    "import numpy as np\n",
    "niter=250 #trials per worker\n",
    "r_values=np.array([0.1,0.5,1.,1.1,1.2,1.3,1.4,1.5,1.6,1.7,1.8,1.9,2.,2.5,5.,10.,20.])#cm\n",
    "D_values=np.array([0.2,1.0,1.5,2.0,5.,10,20])#cm^2/s\n",
    "A_values=np.array([20.25,25,39,50,56.25,100,156.25,189,250])[::-1]#cm^2\n",
    "L_values=np.sqrt(A_values)#cm\n",
    "# kappa_values=np.array([5,10,15,20,25,30,35,40,45,50,55,60,65,70,75,80,85,90,95,100,250,500])#1/s\n",
    "# beta_values=np.array([0.01,0.05,0.01,0.1,0.5,1])#cm\n",
    "Dt_values=np.array([1.])\n",
    "reflect_values=np.array([0])\n",
    "set_second_values=np.array([0])\n",
    "m_values=np.array([1.8772341309722325, 1.6375562704001745])\n",
    "M_values=np.array([5.572315674840435,16.73559858353835])\n",
    "num_trials_per_setting=6\n",
    "\n",
    "Dratio_values=np.array([1,10,100,1000])\n",
    "energy_gap_values=np.array(sorted([0.,-10,10,0.5,1,2,-1]))\n",
    "temperature_energy_values=np.array([1.])\n",
    "\n",
    "def comp_M_tilde(m):\n",
    "    '''non-quadratic trend is guessed to make bounds'''\n",
    "    val_lst=[]\n",
    "    val_lst.append(np.pi**(m-1)/m)\n",
    "    val_lst.append(np.pi**(m-1)/2)\n",
    "    val_lst.append(np.pi/2)\n",
    "    val_lst.append((np.pi/2)**(m-1))\n",
    "    mn=np.min(val_lst)\n",
    "    mx=np.max(val_lst)\n",
    "    return mn,mx\n",
    "\n",
    "def comp_kappa(M,m,r):\n",
    "    '''returns a min/max estimate for kappa using the emergent universal law'''\n",
    "    mn,mx=comp_M_tilde(m)\n",
    "    kappa_mn=r**(-2*(m-1))*M/mx\n",
    "    kappa_mx=r**(-2*(m-1))*M/mn\n",
    "    return kappa_mn,kappa_mx\n",
    "\n",
    "#iterate over settings, scheduling the longest jobs first\n",
    "count=0\n",
    "for set_second in set_second_values:\n",
    "    for r in r_values:\n",
    "        for D in D_values:\n",
    "            for L in L_values:\n",
    "                for Dt in Dt_values:\n",
    "                    for reflect in reflect_values:\n",
    "                        for m,M in zip(m_values,M_values):\n",
    "                            kappa_mn_mx=comp_kappa(M,m,r)\n",
    "                            kappa_values=np.array(sorted(set([kappa_mn_mx[0],(kappa_mn_mx[0]+kappa_mn_mx[1])/2.,kappa_mn_mx[1]])))\n",
    "                            for kappa in kappa_values:\n",
    "                                for Dratio in Dratio_values:\n",
    "                                    for temperature_energy in temperature_energy_values:\n",
    "                                        for energy_gap in energy_gap_values:\n",
    "                                            num_trials=0\n",
    "                                            while num_trials<num_trials_per_setting:\n",
    "                                                num_trials+=1\n",
    "                                                count=count+1\n",
    "#                                                 print(f\"{r} {D} {L} {Dt} {niter} {reflect} {set_second} {temperature_energy} {energy_gap} {Dratio}\")\n",
    "print(count)"
   ]
  },
  {
   "cell_type": "code",
   "execution_count": 17,
   "metadata": {
    "ExecuteTime": {
     "end_time": "2021-04-27T20:53:42.381784Z",
     "start_time": "2021-04-27T20:53:42.287634Z"
    }
   },
   "outputs": [
    {
     "name": "stdout",
     "output_type": "stream",
     "text": [
      "112896\n"
     ]
    }
   ],
   "source": [
    "import numpy as np\n",
    "niter=250 #trials per worker\n",
    "r_values=np.array([0.1,0.5,1.,1.5,2.,2.5,5.,10.])#cm\n",
    "# r_values=np.array([0.1,0.5,1.,1.1,1.2,1.3,1.4,1.5,1.6,1.7,1.8,1.9,2.,2.5,5.,10.,20.])#cm\n",
    "D_values=np.array([0.2,1.0,1.5,2.0,5.,10,20])#cm^2/s\n",
    "A_values=np.array([20.25,25,50,100,156.25,250])[::-1]#cm^2\n",
    "# A_values=np.array([20.25,25,39,50,56.25,100,156.25,189,250])[::-1]#cm^2\n",
    "L_values=np.sqrt(A_values)#cm\n",
    "# kappa_values=np.array([5,10,15,20,25,30,35,40,45,50,55,60,65,70,75,80,85,90,95,100,250,500])#1/s\n",
    "# beta_values=np.array([0.01,0.05,0.01,0.1,0.5,1])#cm\n",
    "Dt_values=np.array([1e-7])\n",
    "reflect_values=np.array([0])\n",
    "set_second_values=np.array([0])\n",
    "m_values=np.array([1.8772341309722325, 1.6375562704001745])\n",
    "M_values=np.array([5.572315674840435,16.73559858353835])\n",
    "num_trials_per_setting=6\n",
    "\n",
    "Dratio_values=np.array([1,10,100,1000])\n",
    "energy_gap_values=np.array(sorted([0.,-10,10,0.5,1,2,-1]))\n",
    "temperature_energy_values=np.array([1.])\n",
    "\n",
    "def comp_M_tilde(m):\n",
    "    '''non-quadratic trend is guessed to make bounds'''\n",
    "    val_lst=[]\n",
    "    val_lst.append(np.pi**(m-1)/m)\n",
    "    val_lst.append(np.pi**(m-1)/2)\n",
    "    val_lst.append(np.pi/2)\n",
    "    val_lst.append((np.pi/2)**(m-1))\n",
    "    mn=np.min(val_lst)\n",
    "    mx=np.max(val_lst)\n",
    "    return mn,mx\n",
    "\n",
    "def comp_kappa(M,m,r):\n",
    "    '''returns a min/max estimate for kappa using the emergent universal law'''\n",
    "    mn,mx=comp_M_tilde(m)\n",
    "    kappa_mn=r**(-2*(m-1))*M/mx\n",
    "    kappa_mx=r**(-2*(m-1))*M/mn\n",
    "    return kappa_mn,kappa_mx\n",
    "\n",
    "#iterate over settings, scheduling the longest jobs first\n",
    "count=0\n",
    "for set_second in set_second_values:\n",
    "    for r in r_values:\n",
    "        for D in D_values:\n",
    "            for L in L_values:\n",
    "                for Dt in Dt_values:\n",
    "                    for reflect in reflect_values:\n",
    "                        for m,M in zip(m_values,M_values):\n",
    "                            # for kappa in kappa_values:\n",
    "                            kappa_mn_mx=comp_kappa(M,m,r)\n",
    "                            kappa_values=np.array(sorted(set([kappa_mn_mx[0],(kappa_mn_mx[0]+kappa_mn_mx[1])/2.,kappa_mn_mx[1]])))\n",
    "                            kappa = np.mean(kappa_values)\n",
    "                            for Dratio in Dratio_values:\n",
    "                                for temperature_energy in temperature_energy_values:\n",
    "                                    for energy_gap in energy_gap_values:\n",
    "                                        num_trials=0\n",
    "                                        while num_trials<num_trials_per_setting:\n",
    "                                            num_trials+=1\n",
    "                                            count=count+1\n",
    "#                                             print(f\"{r} {D} {L:.5f} {kappa:.5f} {Dt} {niter} {reflect} {set_second} {temperature_energy} {energy_gap} {Dratio}\")\n",
    "print(count)\n"
   ]
  },
  {
   "cell_type": "markdown",
   "metadata": {},
   "source": [
    "# TODO: test/dev command line function that converts a single trial into a row with the following fields:\n",
    "- m,Delta_m,Rsq_m,M,Delta_M,Rsq_M, q_min,q_max, {input_params}\n",
    "- Hint: try using multiindexing, with kappa at the end, to map df(all runs) to df(single run)"
   ]
  },
  {
   "cell_type": "code",
   "execution_count": 1,
   "metadata": {
    "ExecuteTime": {
     "end_time": "2021-04-27T20:07:42.485346Z",
     "start_time": "2021-04-27T20:07:42.366643Z"
    }
   },
   "outputs": [
    {
     "name": "stdout",
     "output_type": "stream",
     "text": [
      "/home/timothytyree/Documents/GitHub/bgmc/python\r\n"
     ]
    }
   ],
   "source": [
    "#TODO: import latest DataFrame"
   ]
  },
  {
   "cell_type": "code",
   "execution_count": null,
   "metadata": {},
   "outputs": [],
   "source": [
    "# def merge_folder(folder,trgt='.out.',return_df=False):\n",
    "#     '''merge all files in folder matching trgt.\n",
    "#     runtime was ~10 seconds for ~3000 files.'''\n",
    "#     #get all files in folder\n",
    "#     assert(os.path.exists(folder))\n",
    "#     input_fn_lst=get_files_in_folder(folder,trgt)\n",
    "#     print(f\"merging {len(input_fn_lst)} files...\")\n",
    "#     #merge all files in folder as df\n",
    "#     df=pd.concat([pd.read_csv(fn) for fn in input_fn_lst])\n",
    "#     #groupby col_names minus CollRate\n",
    "#     param_names=sorted(set(df.columns.values).difference({'CollTime','Rad'}))[::-1]\n",
    "#     #compute mean value\n",
    "#     dfm=df.groupby(param_names).mean()\n",
    "#     dfm.reset_index(inplace=True)\n",
    "#     #compute CollRate and drop CollTime\n",
    "#     dfm['CollRate']=1./dfm['CollTime'] #Hz\n",
    "#     dfm.drop(columns=['CollTime'],inplace=True)\n",
    "#     #save as csv\n",
    "#     save_fn=os.path.basename(folder)+'.csv'\n",
    "#     os.chdir(os.path.dirname(folder))\n",
    "#     dfm.to_csv(save_fn,index=False)\n",
    "#     print(f'mean Collision rates saved in\\n{os.path.abspath(save_fn)}')\n",
    "#     if return_df:\n",
    "#         return dfm\n",
    "#     else:\n",
    "#         return True"
   ]
  },
  {
   "cell_type": "code",
   "execution_count": 9,
   "metadata": {
    "ExecuteTime": {
     "end_time": "2021-04-27T20:31:38.840534Z",
     "start_time": "2021-04-27T20:31:38.705640Z"
    }
   },
   "outputs": [
    {
     "data": {
      "text/plain": [
       "'job.out.8925250.105153'"
      ]
     },
     "execution_count": 9,
     "metadata": {},
     "output_type": "execute_result"
    }
   ],
   "source": [
    "folder=\"data/osg_output/run_7_all\"\n",
    "input_fn_lst=get_files_in_folder(folder,trgt='.out.')\n",
    "fn=input_fn_lst[7]\n",
    "fn"
   ]
  },
  {
   "cell_type": "code",
   "execution_count": 11,
   "metadata": {
    "ExecuteTime": {
     "end_time": "2021-04-27T20:31:59.232596Z",
     "start_time": "2021-04-27T20:31:59.188902Z"
    }
   },
   "outputs": [
    {
     "data": {
      "text/html": [
       "<div>\n",
       "<style scoped>\n",
       "    .dataframe tbody tr th:only-of-type {\n",
       "        vertical-align: middle;\n",
       "    }\n",
       "\n",
       "    .dataframe tbody tr th {\n",
       "        vertical-align: top;\n",
       "    }\n",
       "\n",
       "    .dataframe thead th {\n",
       "        text-align: right;\n",
       "    }\n",
       "</style>\n",
       "<table border=\"1\" class=\"dataframe\">\n",
       "  <thead>\n",
       "    <tr style=\"text-align: right;\">\n",
       "      <th></th>\n",
       "      <th>N</th>\n",
       "      <th>CollTime</th>\n",
       "      <th>r</th>\n",
       "      <th>D</th>\n",
       "      <th>L</th>\n",
       "      <th>kappa</th>\n",
       "      <th>reflect</th>\n",
       "      <th>set_second</th>\n",
       "      <th>niter</th>\n",
       "      <th>dt</th>\n",
       "      <th>Dt</th>\n",
       "    </tr>\n",
       "  </thead>\n",
       "  <tbody>\n",
       "    <tr>\n",
       "      <th>0</th>\n",
       "      <td>12</td>\n",
       "      <td>0.119640</td>\n",
       "      <td>0.7</td>\n",
       "      <td>1.5</td>\n",
       "      <td>12.5</td>\n",
       "      <td>35</td>\n",
       "      <td>1</td>\n",
       "      <td>0</td>\n",
       "      <td>1500</td>\n",
       "      <td>0.00001</td>\n",
       "      <td>0.0001</td>\n",
       "    </tr>\n",
       "    <tr>\n",
       "      <th>1</th>\n",
       "      <td>13</td>\n",
       "      <td>0.098005</td>\n",
       "      <td>0.7</td>\n",
       "      <td>1.5</td>\n",
       "      <td>12.5</td>\n",
       "      <td>35</td>\n",
       "      <td>1</td>\n",
       "      <td>0</td>\n",
       "      <td>1500</td>\n",
       "      <td>0.00001</td>\n",
       "      <td>0.0001</td>\n",
       "    </tr>\n",
       "    <tr>\n",
       "      <th>2</th>\n",
       "      <td>14</td>\n",
       "      <td>0.078168</td>\n",
       "      <td>0.7</td>\n",
       "      <td>1.5</td>\n",
       "      <td>12.5</td>\n",
       "      <td>35</td>\n",
       "      <td>1</td>\n",
       "      <td>0</td>\n",
       "      <td>1500</td>\n",
       "      <td>0.00001</td>\n",
       "      <td>0.0001</td>\n",
       "    </tr>\n",
       "    <tr>\n",
       "      <th>3</th>\n",
       "      <td>15</td>\n",
       "      <td>0.062821</td>\n",
       "      <td>0.7</td>\n",
       "      <td>1.5</td>\n",
       "      <td>12.5</td>\n",
       "      <td>35</td>\n",
       "      <td>1</td>\n",
       "      <td>0</td>\n",
       "      <td>1500</td>\n",
       "      <td>0.00001</td>\n",
       "      <td>0.0001</td>\n",
       "    </tr>\n",
       "    <tr>\n",
       "      <th>4</th>\n",
       "      <td>16</td>\n",
       "      <td>0.052384</td>\n",
       "      <td>0.7</td>\n",
       "      <td>1.5</td>\n",
       "      <td>12.5</td>\n",
       "      <td>35</td>\n",
       "      <td>1</td>\n",
       "      <td>0</td>\n",
       "      <td>1500</td>\n",
       "      <td>0.00001</td>\n",
       "      <td>0.0001</td>\n",
       "    </tr>\n",
       "  </tbody>\n",
       "</table>\n",
       "</div>"
      ],
      "text/plain": [
       "    N  CollTime    r    D     L  kappa  reflect  set_second  niter       dt  \\\n",
       "0  12  0.119640  0.7  1.5  12.5     35        1           0   1500  0.00001   \n",
       "1  13  0.098005  0.7  1.5  12.5     35        1           0   1500  0.00001   \n",
       "2  14  0.078168  0.7  1.5  12.5     35        1           0   1500  0.00001   \n",
       "3  15  0.062821  0.7  1.5  12.5     35        1           0   1500  0.00001   \n",
       "4  16  0.052384  0.7  1.5  12.5     35        1           0   1500  0.00001   \n",
       "\n",
       "       Dt  \n",
       "0  0.0001  \n",
       "1  0.0001  \n",
       "2  0.0001  \n",
       "3  0.0001  \n",
       "4  0.0001  "
      ]
     },
     "execution_count": 11,
     "metadata": {},
     "output_type": "execute_result"
    }
   ],
   "source": [
    "df=pd.read_csv(fn)\n",
    "df.head()"
   ]
  },
  {
   "cell_type": "code",
   "execution_count": null,
   "metadata": {},
   "outputs": [],
   "source": [
    "df."
   ]
  },
  {
   "cell_type": "code",
   "execution_count": null,
   "metadata": {},
   "outputs": [],
   "source": [
    "def load_df_bgmc(fn, **kwargs):\n",
    "    df=pd.load_csv(fn, **kwargs)\n",
    "    #TODO: compute q,w\n",
    "    #TODO: compute power law fit in range\n",
    "    q_min=0.2;q_max=0.3\n",
    "    #TODO: make dict of input_params\n",
    "    #TODO: add fields for fit\n",
    "    #TODO: return dict_out"
   ]
  },
  {
   "cell_type": "code",
   "execution_count": null,
   "metadata": {},
   "outputs": [],
   "source": [
    "yscale=10**3\n",
    "df=load_df_bgmc(fn)#.sort_values('x')\n",
    "x=df.q.values\n",
    "y=yscale*df.q.values\n",
    "\n",
    "# print_fit_power_law(x,y)\n",
    "B,Delta_B,m,Delta_m,Rsq=fit_power_law(x,y)\n",
    "rmse=compute_power_rmse(x,y,m,B)\n",
    "M, Delta_M= comp_power_scale(B,Delta_B,m,Delta_m)\n",
    "print(f\"m={m:.3f}+-{Delta_m:.3f}; B={B:.3f}+-{Delta_B:.3f}\")\n",
    "print(f\"M=B**m={M:.2f}+-{Delta_M:.2f} Hz*cm^{{2(m-1)}}\")\n",
    "print(f\"RMSE={rmse:.4f} Hz/cm^2\")\n",
    "print(f\"R^2={Rsq:.3f}\")"
   ]
  },
  {
   "cell_type": "code",
   "execution_count": null,
   "metadata": {},
   "outputs": [],
   "source": []
  }
 ],
 "metadata": {
  "kernelspec": {
   "display_name": "Python 3",
   "language": "python",
   "name": "python3"
  },
  "language_info": {
   "codemirror_mode": {
    "name": "ipython",
    "version": 3
   },
   "file_extension": ".py",
   "mimetype": "text/x-python",
   "name": "python",
   "nbconvert_exporter": "python",
   "pygments_lexer": "ipython3",
   "version": "3.7.6"
  },
  "toc": {
   "base_numbering": 1,
   "nav_menu": {},
   "number_sections": true,
   "sideBar": true,
   "skip_h1_title": false,
   "title_cell": "Table of Contents",
   "title_sidebar": "Contents",
   "toc_cell": false,
   "toc_position": {},
   "toc_section_display": true,
   "toc_window_display": false
  },
  "varInspector": {
   "cols": {
    "lenName": 16,
    "lenType": 16,
    "lenVar": 40
   },
   "kernels_config": {
    "python": {
     "delete_cmd_postfix": "",
     "delete_cmd_prefix": "del ",
     "library": "var_list.py",
     "varRefreshCmd": "print(var_dic_list())"
    },
    "r": {
     "delete_cmd_postfix": ") ",
     "delete_cmd_prefix": "rm(",
     "library": "var_list.r",
     "varRefreshCmd": "cat(var_dic_list()) "
    }
   },
   "types_to_exclude": [
    "module",
    "function",
    "builtin_function_or_method",
    "instance",
    "_Feature"
   ],
   "window_display": false
  }
 },
 "nbformat": 4,
 "nbformat_minor": 4
}
