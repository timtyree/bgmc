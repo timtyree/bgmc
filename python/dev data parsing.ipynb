{
 "cells": [
  {
   "cell_type": "markdown",
   "metadata": {},
   "source": [
    "# dev data parsing"
   ]
  },
  {
   "cell_type": "code",
   "execution_count": 19,
   "metadata": {
    "ExecuteTime": {
     "end_time": "2021-04-09T01:57:45.525285Z",
     "start_time": "2021-04-09T01:57:45.522434Z"
    }
   },
   "outputs": [],
   "source": [
    "from lib.my_initialization import *\n",
    "# from lib.searchforfile import *"
   ]
  },
  {
   "cell_type": "code",
   "execution_count": 20,
   "metadata": {
    "ExecuteTime": {
     "end_time": "2021-04-09T01:57:46.216391Z",
     "start_time": "2021-04-09T01:57:46.211945Z"
    }
   },
   "outputs": [],
   "source": [
    "# import pandas as pd, os\n",
    "def parse_iolines(input_fn, printing=False):\n",
    "    n_input=-9999\n",
    "    with open(input_fn) as f:\n",
    "        trgt1='Printing Inputs...\\n'\n",
    "        trgt2='Printing Outputs...\\n'\n",
    "        for n,line in enumerate(f):\n",
    "            if trgt1 == line:\n",
    "                if printing:\n",
    "                    print(f'found inputs starting after line {n}')\n",
    "                n_input=n\n",
    "            if trgt2 == line:\n",
    "                if printing:\n",
    "                    print(f'found outputs starting after line {n}')\n",
    "                n_output=n\n",
    "    return n_input,n_output"
   ]
  },
  {
   "cell_type": "code",
   "execution_count": 21,
   "metadata": {
    "ExecuteTime": {
     "end_time": "2021-04-09T01:57:47.039428Z",
     "start_time": "2021-04-09T01:57:46.979748Z"
    }
   },
   "outputs": [
    {
     "data": {
      "text/plain": [
       "'job.out.8720402.11814'"
      ]
     },
     "execution_count": 21,
     "metadata": {},
     "output_type": "execute_result"
    }
   ],
   "source": [
    "data_dir=f\"{nb_dir}/data/osg_output/Log\"\n",
    "os.chdir(data_dir)\n",
    "\n",
    "input_fn_lst=os.listdir()\n",
    "input_fn=input_fn_lst[0]\n",
    "input_fn"
   ]
  },
  {
   "cell_type": "code",
   "execution_count": 22,
   "metadata": {
    "ExecuteTime": {
     "end_time": "2021-04-09T01:57:48.429368Z",
     "start_time": "2021-04-09T01:57:48.425953Z"
    }
   },
   "outputs": [],
   "source": [
    "n_input,n_output=parse_iolines(input_fn, printing=False)"
   ]
  },
  {
   "cell_type": "code",
   "execution_count": 23,
   "metadata": {
    "ExecuteTime": {
     "end_time": "2021-04-09T01:57:50.974620Z",
     "start_time": "2021-04-09T01:57:50.961800Z"
    }
   },
   "outputs": [],
   "source": [
    "def parse_inputs(input_fn,n_input,include_inputs=True, printing=False):\n",
    "    if n_input==-9999:\n",
    "        if printing:\n",
    "            print(f\"Warning: n_input not found for input_fn={input_fn}.\\nreturning None...\")\n",
    "        return None\n",
    "    with open(input_fn) as f:\n",
    "        inputs=f.readlines()[n_input+1:n_output-1]\n",
    "    col_name_lst=[]\n",
    "    col_value_lst=[]\n",
    "    for line in inputs:\n",
    "        string=line.split(' ')[-1]\n",
    "        eid=string.find('=')\n",
    "        if eid!=-1:\n",
    "            col_name=string[:eid]\n",
    "            # try:\n",
    "            col_value=eval(string[eid+1:-1])\n",
    "            # except Exception as e:\n",
    "            #     print (string)\n",
    "            #     col_value=string[eid+1:-1]\n",
    "            col_name_lst.append(col_name)\n",
    "            col_value_lst.append(col_value)\n",
    "    return col_name_lst, col_value_lst"
   ]
  },
  {
   "cell_type": "code",
   "execution_count": 66,
   "metadata": {
    "ExecuteTime": {
     "end_time": "2021-04-09T02:13:24.715898Z",
     "start_time": "2021-04-09T02:13:24.703973Z"
    }
   },
   "outputs": [],
   "source": [
    "# import datetime\n",
    "# import dateutil.parser as dp\n",
    "# def parse_runtime(input_fn):\n",
    "#     seconds_in_day = 24 * 60 * 60\n",
    "#     seconds_in_year = seconds_in_day * 365\n",
    "#     with open(input_fn) as f:\n",
    "#         line_first = f.readline()\n",
    "#         for n, line in enumerate(f):\n",
    "#             line_last = f.readline()\n",
    "#     # import dateutil.tz as tz\n",
    "#     time_start = dp.parse(line_first[:-1], ignoretz=True)\n",
    "#     time_end = dp.parse(line_last[:-1], ignoretz=True)\n",
    "#     difference = time_end - time_start\n",
    "#     # divmod(difference.days * seconds_in_day + difference.seconds, 60)#(min,sec)\n",
    "#     seconds = difference.days * seconds_in_day + difference.seconds\n",
    "#     years = seconds / seconds_in_year\n",
    "#     return years\n",
    "\n",
    "# def get_files_in_folder(folder,trgt):\n",
    "#     '''gets all files in a given folder that contain a target string, trgt'''\n",
    "#     os.chdir(folder)\n",
    "#     fn_lst=os.listdir()\n",
    "#     ifl=[]\n",
    "#     for fn in fn_lst:\n",
    "#         if fn.find(trgt)!=-1:\n",
    "#             ifl.append(fn)\n",
    "#     return ifl\n",
    "\n",
    "# def compute_runtime_for_folder(folder):\n",
    "#     '''returns the total runtime in years for all output files in folder.'''\n",
    "#     input_fn_lst=get_files_in_folder(folder,trgt='.out.')\n",
    "#     print(f\"computing runtime for {len(input_fn_lst)} files...\")\n",
    "#     def routine(input_fn):\n",
    "#         try:\n",
    "#             return parse_runtime(input_fn)\n",
    "#         except Exception as e:\n",
    "#             return 0.\n",
    "#     b = db.from_sequence(input_fn_lst, npartitions=9).map(routine)\n",
    "#     start = time.time()\n",
    "#     runtime_lst = list(b)\n",
    "#     print(f\"the run time for computing runtimes was: {time.time()-start:.2f} seconds.\")\n",
    "#     return sum(runtime_lst)"
   ]
  },
  {
   "cell_type": "code",
   "execution_count": 67,
   "metadata": {
    "ExecuteTime": {
     "end_time": "2021-04-09T02:13:30.014384Z",
     "start_time": "2021-04-09T02:13:25.421881Z"
    }
   },
   "outputs": [
    {
     "name": "stdout",
     "output_type": "stream",
     "text": [
      "computing runtime for 33376 files...\n",
      "the run time for computing runtimes was: 3.89 seconds.\n",
      "the total recorded runtime was 3.912 years.\n"
     ]
    },
    {
     "data": {
      "text/plain": [
       "0"
      ]
     },
     "execution_count": 67,
     "metadata": {},
     "output_type": "execute_result"
    }
   ],
   "source": [
    "nb_dir='/home/timothytyree/Documents/GitHub/bgmc/python/data/osg_output/Log'\n",
    "data_dir=f\"{nb_dir}/data/osg_output/Log\"\n",
    "runtime=compute_runtime_for_folder(folder=data_dir)\n",
    "print(f\"the total recorded runtime was {runtime:.3f} years.\")\n",
    "beep(3)"
   ]
  },
  {
   "cell_type": "code",
   "execution_count": 68,
   "metadata": {
    "ExecuteTime": {
     "end_time": "2021-04-09T02:14:59.080182Z",
     "start_time": "2021-04-09T02:14:59.075739Z"
    }
   },
   "outputs": [
    {
     "data": {
      "text/plain": [
       "'/home/timothytyree/Documents/GitHub/bgmc/python/data/osg_output/Log'"
      ]
     },
     "execution_count": 68,
     "metadata": {},
     "output_type": "execute_result"
    }
   ],
   "source": [
    "data_dir"
   ]
  },
  {
   "cell_type": "code",
   "execution_count": null,
   "metadata": {},
   "outputs": [],
   "source": []
  }
 ],
 "metadata": {
  "kernelspec": {
   "display_name": "Python 3",
   "language": "python",
   "name": "python3"
  },
  "language_info": {
   "codemirror_mode": {
    "name": "ipython",
    "version": 3
   },
   "file_extension": ".py",
   "mimetype": "text/x-python",
   "name": "python",
   "nbconvert_exporter": "python",
   "pygments_lexer": "ipython3",
   "version": "3.7.6"
  },
  "toc": {
   "base_numbering": 1,
   "nav_menu": {},
   "number_sections": true,
   "sideBar": true,
   "skip_h1_title": false,
   "title_cell": "Table of Contents",
   "title_sidebar": "Contents",
   "toc_cell": false,
   "toc_position": {},
   "toc_section_display": true,
   "toc_window_display": false
  },
  "varInspector": {
   "cols": {
    "lenName": 16,
    "lenType": 16,
    "lenVar": 40
   },
   "kernels_config": {
    "python": {
     "delete_cmd_postfix": "",
     "delete_cmd_prefix": "del ",
     "library": "var_list.py",
     "varRefreshCmd": "print(var_dic_list())"
    },
    "r": {
     "delete_cmd_postfix": ") ",
     "delete_cmd_prefix": "rm(",
     "library": "var_list.r",
     "varRefreshCmd": "cat(var_dic_list()) "
    }
   },
   "types_to_exclude": [
    "module",
    "function",
    "builtin_function_or_method",
    "instance",
    "_Feature"
   ],
   "window_display": false
  }
 },
 "nbformat": 4,
 "nbformat_minor": 4
}
