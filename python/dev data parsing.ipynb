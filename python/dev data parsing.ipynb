{
 "cells": [
  {
   "cell_type": "markdown",
   "metadata": {},
   "source": [
    "# dev data parsing"
   ]
  },
  {
   "cell_type": "code",
   "execution_count": 39,
   "metadata": {
    "ExecuteTime": {
     "end_time": "2021-04-16T22:56:29.788601Z",
     "start_time": "2021-04-16T22:56:29.785054Z"
    }
   },
   "outputs": [],
   "source": [
    "from lib.my_initialization import *\n",
    "# from lib.searchforfile import *"
   ]
  },
  {
   "cell_type": "code",
   "execution_count": null,
   "metadata": {},
   "outputs": [],
   "source": []
  },
  {
   "cell_type": "code",
   "execution_count": 2,
   "metadata": {
    "ExecuteTime": {
     "end_time": "2021-04-15T02:11:56.559881Z",
     "start_time": "2021-04-15T02:11:56.557451Z"
    }
   },
   "outputs": [],
   "source": [
    "# # import pandas as pd, os\n",
    "# def parse_iolines(input_fn, printing=False):\n",
    "#     n_input=-9999\n",
    "#     with open(input_fn) as f:\n",
    "#         trgt1='Printing Inputs...\\n'\n",
    "#         trgt2='Printing Outputs...\\n'\n",
    "#         for n,line in enumerate(f):\n",
    "#             if trgt1 == line:\n",
    "#                 if printing:\n",
    "#                     print(f'found inputs starting after line {n}')\n",
    "#                 n_input=n\n",
    "#             if trgt2 == line:\n",
    "#                 if printing:\n",
    "#                     print(f'found outputs starting after line {n}')\n",
    "#                 n_output=n\n",
    "#     return n_input,n_output"
   ]
  },
  {
   "cell_type": "code",
   "execution_count": 3,
   "metadata": {
    "ExecuteTime": {
     "end_time": "2021-04-15T02:11:56.573475Z",
     "start_time": "2021-04-15T02:11:56.561127Z"
    }
   },
   "outputs": [],
   "source": [
    "# def parse_inputs(input_fn,n_input,printing=False):\n",
    "#     if n_input==-9999:\n",
    "#         if printing:\n",
    "#             print(f\"Warning: n_input not found for input_fn={input_fn}.\\nreturning None...\")\n",
    "#         return None\n",
    "#     with open(input_fn) as f:\n",
    "#         inputs=f.readlines()[n_input+1:n_output-1]\n",
    "#     col_name_lst=[]\n",
    "#     col_value_lst=[]\n",
    "#     for line in inputs:\n",
    "#         string=line.split(' ')[-1]\n",
    "#         eid=string.find('=')\n",
    "#         if eid!=-1:\n",
    "#             col_name=string[:eid]\n",
    "#             # try:\n",
    "#             col_value=eval(string[eid+1:-1])\n",
    "#             # except Exception as e:\n",
    "#             #     print (string)\n",
    "#             #     col_value=string[eid+1:-1]\n",
    "#             col_name_lst.append(col_name)\n",
    "#             col_value_lst.append(col_value)\n",
    "#     return col_name_lst, col_value_lst"
   ]
  },
  {
   "cell_type": "code",
   "execution_count": 4,
   "metadata": {
    "ExecuteTime": {
     "end_time": "2021-04-15T02:11:56.581624Z",
     "start_time": "2021-04-15T02:11:56.574993Z"
    }
   },
   "outputs": [],
   "source": [
    "# def parse_inputs(input_fn,n_input,printing=False):\n",
    "#     if n_input==-9999:\n",
    "#         if printing:\n",
    "#             print(f\"Warning: n_input not found for input_fn={input_fn}.\\nreturning None...\")\n",
    "#         return None\n",
    "#     with open(input_fn) as f:\n",
    "#         inputs=f.readlines()[n_input+1:n_output-1]\n",
    "#     col_name_lst=[]\n",
    "#     col_value_lst=[]\n",
    "#     for line in inputs:\n",
    "#         string=line.split(' ')[-1]\n",
    "#         eid=string.find('=')\n",
    "#         if eid!=-1:\n",
    "#             col_name=string[:eid]\n",
    "#             # try:\n",
    "#             col_value=eval(string[eid+1:-1])\n",
    "#             # except Exception as e:\n",
    "#             #     print (string)\n",
    "#             #     col_value=string[eid+1:-1]\n",
    "#             col_name_lst.append(col_name)\n",
    "#             col_value_lst.append(col_value)\n",
    "#     return col_name_lst, col_value_lst"
   ]
  },
  {
   "cell_type": "code",
   "execution_count": 5,
   "metadata": {
    "ExecuteTime": {
     "end_time": "2021-04-15T02:11:56.588897Z",
     "start_time": "2021-04-15T02:11:56.583152Z"
    }
   },
   "outputs": [],
   "source": [
    "# def parse_log(input_fn,qfoo,include_inputs=True,printing=False):\n",
    "#     col_name_lst, col_value_lst=parse_inputs(input_fn,n_input,printing=printing)\n",
    "#     dict_inputs=dict(zip(col_name_lst,col_value_lst))\n",
    "#     if not qfoo(dict_inputs):\n",
    "#         return None\n",
    "#     df=parse_output(input_fn, n_output)\n",
    "#     #augment df with input parameters\n",
    "#     if include_inputs:\n",
    "#         if printing:\n",
    "#             print(\"input parameters were:\")\n",
    "#             print(col_name_lst)\n",
    "#             print(col_value_lst)\n",
    "#             print(\"returning outputs as pandas.DataFrame instance\")\n",
    "#         for name,value in zip ( col_name_lst, col_value_lst):\n",
    "#             df[name]=value\n",
    "#     df.drop(columns=['dt','reflect','set_second'],inplace=True)\n",
    "#     return df"
   ]
  },
  {
   "cell_type": "code",
   "execution_count": 6,
   "metadata": {
    "ExecuteTime": {
     "end_time": "2021-04-15T02:11:56.597102Z",
     "start_time": "2021-04-15T02:11:56.590352Z"
    }
   },
   "outputs": [],
   "source": [
    "# # Test compute_runtime_for_folder\n",
    "# nb_dir='/home/timothytyree/Documents/GitHub/bgmc/python/'\n",
    "# data_dir=f\"{nb_dir}/data/osg_output/Log\"\n",
    "# runtime=compute_runtime_for_folder(folder=data_dir)\n",
    "# print(f\"the total recorded runtime was {runtime:.3f} years.\")\n",
    "\n",
    "# # Test parse_iolines\n",
    "# data_dir=f\"{nb_dir}/data/osg_output/Log\"\n",
    "# os.chdir(data_dir)\n",
    "# input_fn_lst=os.listdir()\n",
    "# input_fn=input_fn_lst[0]\n",
    "# n_input,n_output=parse_iolines(input_fn, printing=False)\n",
    "\n",
    "\n",
    "\n",
    "# input_fn_lst=get_files_in_folder(folder=data_dir,trgt='.out.')"
   ]
  },
  {
   "cell_type": "code",
   "execution_count": null,
   "metadata": {
    "ExecuteTime": {
     "end_time": "2021-04-09T21:15:03.674275Z",
     "start_time": "2021-04-09T21:15:03.637632Z"
    },
    "scrolled": true
   },
   "outputs": [],
   "source": []
  },
  {
   "cell_type": "code",
   "execution_count": null,
   "metadata": {},
   "outputs": [],
   "source": []
  },
  {
   "cell_type": "code",
   "execution_count": null,
   "metadata": {},
   "outputs": [],
   "source": []
  },
  {
   "cell_type": "markdown",
   "metadata": {},
   "source": [
    "- TODO: plot the log output over some axis of the input_parameter space  space\n",
    "- TODO: measure the slope/turning points for a given log output\n",
    "- TODO: learn the slope/turning points using state space\n",
    "- TODO: tensorflow jupyter notebook stackoverflow "
   ]
  },
  {
   "cell_type": "markdown",
   "metadata": {},
   "source": [
    "# TODO: make a command line executable that filters Log and returns a merged pandas.Dataframe as *.csv"
   ]
  },
  {
   "cell_type": "code",
   "execution_count": 7,
   "metadata": {
    "ExecuteTime": {
     "end_time": "2021-04-15T02:11:56.602655Z",
     "start_time": "2021-04-15T02:11:56.599312Z"
    }
   },
   "outputs": [],
   "source": [
    "# def filter_log(input_fn,qfoo=None):\n",
    "#     # qfoo_pbc=lambda dict_inputs:dict_inputs['reflect']==0 #periodic bc\n",
    "#     qfoo_rbc=lambda dict_inputs:dict_inputs['reflect']==1 #reflecting bc\n",
    "#     qfoo=qfoo_rbc\n",
    "#     df=parse_log(input_fn,qfoo,include_inputs=True,printing=False)\n",
    "#     return df"
   ]
  },
  {
   "cell_type": "code",
   "execution_count": 8,
   "metadata": {
    "ExecuteTime": {
     "end_time": "2021-04-15T02:11:56.608495Z",
     "start_time": "2021-04-15T02:11:56.604354Z"
    }
   },
   "outputs": [],
   "source": [
    "\n",
    "# TODO: for each input_fn in input_fn_lst \n",
    "# TODO:   get inputs as df_inputs\n",
    "# TODO:   if input_query_function(df_inputs):\n",
    "# TODO:     get outputs as df and append inputs to fields   \n",
    "#return df\n",
    "# TODO: return pd.concatenate(df_lst)"
   ]
  },
  {
   "cell_type": "code",
   "execution_count": 9,
   "metadata": {
    "ExecuteTime": {
     "end_time": "2021-04-15T02:11:56.614655Z",
     "start_time": "2021-04-15T02:11:56.609770Z"
    }
   },
   "outputs": [],
   "source": [
    "# from lib import *"
   ]
  },
  {
   "cell_type": "code",
   "execution_count": 2,
   "metadata": {
    "ExecuteTime": {
     "end_time": "2021-04-15T03:49:30.227048Z",
     "start_time": "2021-04-15T03:49:18.522083Z"
    }
   },
   "outputs": [
    {
     "name": "stdout",
     "output_type": "stream",
     "text": [
      "Please enter a query function of the form \"lambda dict_inputs:dict_inputs[\"reflect\"]==0\": \n",
      "lambda dict_inputs:dict_inputs[\"reflect\"]==0\n",
      "Please enter save folder name: \n",
      "filter_pbc\n"
     ]
    }
   ],
   "source": [
    "#input qfoo\n",
    "# TODO(later): prompt user for input_query_function=lambda df: foo(df)\n",
    "#get folder\n",
    "qfoo=eval(input('Please enter a query function of the form \"lambda dict_inputs:dict_inputs[\"reflect\"]==0\": \\n'))\n",
    "# prompt user for save_fn\n",
    "save_fn = str(input(\"Please enter save folder name: \\n\"))\n",
    "nb_dir='/home/timothytyree/Documents/GitHub/bgmc/python'\n",
    "data_dir=f\"{nb_dir}/data/osg_output/Log\"\n",
    "save_folder=f\"{nb_dir}/data/osg_output/{save_fn}\"\n",
    "try:\n",
    "    os.mkdir(save_folder)\n",
    "except Exception as e:\n",
    "    pass\n",
    "#get df\n",
    "#     retval_lst=filter_folder(folder=data_dir,qfoo=None, save_folder=save_folder)\n",
    "#     # df=pd.concat(df_lst).reset_index(drop=True)\n",
    "#     # df.to_csv(save_dir,index=False)\n",
    "#     print(f\"the total number of trials matching query was {len(df_lst)}\")\n",
    "#     print(f\"final DataFrame stored in {save_dir}\")\n",
    "#     beep = lambda x: os.system(\"echo -n '\\\\a';sleep 1.2;\" * x)\n",
    "#     beep(3)\n",
    "#     print(\"Nota Bene: the output is currently not performing the average over logs (6x compression advisable...)\")\n"
   ]
  },
  {
   "cell_type": "code",
   "execution_count": 11,
   "metadata": {
    "ExecuteTime": {
     "end_time": "2021-04-15T02:11:56.628329Z",
     "start_time": "2021-04-15T02:11:56.622499Z"
    }
   },
   "outputs": [],
   "source": [
    "#TODO: compute average over each condition by using .mean() on the groupby of all coll_names except CollTime"
   ]
  },
  {
   "cell_type": "code",
   "execution_count": null,
   "metadata": {},
   "outputs": [],
   "source": [
    "#TODO: make command line function save each csv to a new folder"
   ]
  },
  {
   "cell_type": "code",
   "execution_count": 3,
   "metadata": {
    "ExecuteTime": {
     "end_time": "2021-04-15T03:49:42.057561Z",
     "start_time": "2021-04-15T03:49:33.515340Z"
    }
   },
   "outputs": [
    {
     "name": "stdout",
     "output_type": "stream",
     "text": [
      "searching 1365397 files...\n"
     ]
    }
   ],
   "source": [
    "folder=data_dir\n",
    "input_fn_lst=get_files_in_folder(folder,trgt='.out.')\n",
    "print(f\"searching {len(input_fn_lst)} files...\")\n",
    "def routine(input_fn):\n",
    "    try:\n",
    "        return filter_log(input_fn,save_folder,qfoo)\n",
    "    except Exception as e:\n",
    "        return e\n",
    "# bag = db.from_sequence(input_fn_lst, npartitions=11).map(routine)\n",
    "# start = time.time()\n",
    "# retval_lst = list(bag)\n",
    "# print(f\"the run time for filtering files was {time.time()-start:.2f} seconds.\")\n",
    "# return retval_lst"
   ]
  },
  {
   "cell_type": "code",
   "execution_count": 4,
   "metadata": {
    "ExecuteTime": {
     "end_time": "2021-04-15T03:50:54.068121Z",
     "start_time": "2021-04-15T03:50:53.949301Z"
    }
   },
   "outputs": [
    {
     "data": {
      "text/plain": [
       "'job.out.8883430.271624'"
      ]
     },
     "execution_count": 4,
     "metadata": {},
     "output_type": "execute_result"
    }
   ],
   "source": [
    "routine(os.path.abspath(input_fn_lst[0]))"
   ]
  },
  {
   "cell_type": "code",
   "execution_count": 12,
   "metadata": {
    "ExecuteTime": {
     "end_time": "2021-04-15T02:11:58.946547Z",
     "start_time": "2021-04-15T02:11:56.629472Z"
    }
   },
   "outputs": [
    {
     "data": {
      "text/plain": [
       "14"
      ]
     },
     "execution_count": 12,
     "metadata": {},
     "output_type": "execute_result"
    }
   ],
   "source": [
    "#     qfoo=eval(input('Please enter a query function of the form \"lambda dict_inputs:dict_inputs[\"reflect\"]==0\":\\n'))\n",
    "# prompt user for save_fn\n",
    "#     save_fn = str(input(\"Please enter save file name:\\n\"))\n",
    "nb_dir='/home/timothytyree/Documents/GitHub/bgmc/python'\n",
    "data_dir=f\"{nb_dir}/data/osg_output/Log\"\n",
    "#     save_dir=f\"{nb_dir}/data/osg_output/{save_fn}\"\n",
    "\n",
    "input_fn_lst=get_files_in_folder(folder=data_dir,trgt='.out.')\n",
    "input_fn=input_fn_lst[0]\n",
    "n_input,n_output=parse_iolines(input_fn, printing=False)\n",
    "n_input"
   ]
  },
  {
   "cell_type": "code",
   "execution_count": 13,
   "metadata": {
    "ExecuteTime": {
     "end_time": "2021-04-15T02:11:59.018080Z",
     "start_time": "2021-04-15T02:11:58.947737Z"
    }
   },
   "outputs": [
    {
     "data": {
      "text/html": [
       "<div>\n",
       "<style scoped>\n",
       "    .dataframe tbody tr th:only-of-type {\n",
       "        vertical-align: middle;\n",
       "    }\n",
       "\n",
       "    .dataframe tbody tr th {\n",
       "        vertical-align: top;\n",
       "    }\n",
       "\n",
       "    .dataframe thead th {\n",
       "        text-align: right;\n",
       "    }\n",
       "</style>\n",
       "<table border=\"1\" class=\"dataframe\">\n",
       "  <thead>\n",
       "    <tr style=\"text-align: right;\">\n",
       "      <th></th>\n",
       "      <th>N</th>\n",
       "      <th>CollTime</th>\n",
       "      <th>r</th>\n",
       "      <th>D</th>\n",
       "      <th>L</th>\n",
       "      <th>kappa</th>\n",
       "      <th>beta</th>\n",
       "      <th>reflect</th>\n",
       "      <th>set_second</th>\n",
       "      <th>niter</th>\n",
       "      <th>dt</th>\n",
       "    </tr>\n",
       "  </thead>\n",
       "  <tbody>\n",
       "    <tr>\n",
       "      <th>0</th>\n",
       "      <td>12</td>\n",
       "      <td>0.402030</td>\n",
       "      <td>0.2</td>\n",
       "      <td>4</td>\n",
       "      <td>15.8114</td>\n",
       "      <td>55</td>\n",
       "      <td>0.1</td>\n",
       "      <td>0</td>\n",
       "      <td>0</td>\n",
       "      <td>250</td>\n",
       "      <td>0.00001</td>\n",
       "    </tr>\n",
       "    <tr>\n",
       "      <th>1</th>\n",
       "      <td>13</td>\n",
       "      <td>0.339076</td>\n",
       "      <td>0.2</td>\n",
       "      <td>4</td>\n",
       "      <td>15.8114</td>\n",
       "      <td>55</td>\n",
       "      <td>0.1</td>\n",
       "      <td>0</td>\n",
       "      <td>0</td>\n",
       "      <td>250</td>\n",
       "      <td>0.00001</td>\n",
       "    </tr>\n",
       "    <tr>\n",
       "      <th>2</th>\n",
       "      <td>14</td>\n",
       "      <td>0.308924</td>\n",
       "      <td>0.2</td>\n",
       "      <td>4</td>\n",
       "      <td>15.8114</td>\n",
       "      <td>55</td>\n",
       "      <td>0.1</td>\n",
       "      <td>0</td>\n",
       "      <td>0</td>\n",
       "      <td>250</td>\n",
       "      <td>0.00001</td>\n",
       "    </tr>\n",
       "    <tr>\n",
       "      <th>3</th>\n",
       "      <td>15</td>\n",
       "      <td>0.270279</td>\n",
       "      <td>0.2</td>\n",
       "      <td>4</td>\n",
       "      <td>15.8114</td>\n",
       "      <td>55</td>\n",
       "      <td>0.1</td>\n",
       "      <td>0</td>\n",
       "      <td>0</td>\n",
       "      <td>250</td>\n",
       "      <td>0.00001</td>\n",
       "    </tr>\n",
       "    <tr>\n",
       "      <th>4</th>\n",
       "      <td>16</td>\n",
       "      <td>0.229521</td>\n",
       "      <td>0.2</td>\n",
       "      <td>4</td>\n",
       "      <td>15.8114</td>\n",
       "      <td>55</td>\n",
       "      <td>0.1</td>\n",
       "      <td>0</td>\n",
       "      <td>0</td>\n",
       "      <td>250</td>\n",
       "      <td>0.00001</td>\n",
       "    </tr>\n",
       "    <tr>\n",
       "      <th>...</th>\n",
       "      <td>...</td>\n",
       "      <td>...</td>\n",
       "      <td>...</td>\n",
       "      <td>...</td>\n",
       "      <td>...</td>\n",
       "      <td>...</td>\n",
       "      <td>...</td>\n",
       "      <td>...</td>\n",
       "      <td>...</td>\n",
       "      <td>...</td>\n",
       "      <td>...</td>\n",
       "    </tr>\n",
       "    <tr>\n",
       "      <th>684</th>\n",
       "      <td>696</td>\n",
       "      <td>0.000090</td>\n",
       "      <td>0.2</td>\n",
       "      <td>4</td>\n",
       "      <td>15.8114</td>\n",
       "      <td>55</td>\n",
       "      <td>0.1</td>\n",
       "      <td>0</td>\n",
       "      <td>0</td>\n",
       "      <td>250</td>\n",
       "      <td>0.00001</td>\n",
       "    </tr>\n",
       "    <tr>\n",
       "      <th>685</th>\n",
       "      <td>697</td>\n",
       "      <td>0.000090</td>\n",
       "      <td>0.2</td>\n",
       "      <td>4</td>\n",
       "      <td>15.8114</td>\n",
       "      <td>55</td>\n",
       "      <td>0.1</td>\n",
       "      <td>0</td>\n",
       "      <td>0</td>\n",
       "      <td>250</td>\n",
       "      <td>0.00001</td>\n",
       "    </tr>\n",
       "    <tr>\n",
       "      <th>686</th>\n",
       "      <td>698</td>\n",
       "      <td>0.000090</td>\n",
       "      <td>0.2</td>\n",
       "      <td>4</td>\n",
       "      <td>15.8114</td>\n",
       "      <td>55</td>\n",
       "      <td>0.1</td>\n",
       "      <td>0</td>\n",
       "      <td>0</td>\n",
       "      <td>250</td>\n",
       "      <td>0.00001</td>\n",
       "    </tr>\n",
       "    <tr>\n",
       "      <th>687</th>\n",
       "      <td>699</td>\n",
       "      <td>0.000090</td>\n",
       "      <td>0.2</td>\n",
       "      <td>4</td>\n",
       "      <td>15.8114</td>\n",
       "      <td>55</td>\n",
       "      <td>0.1</td>\n",
       "      <td>0</td>\n",
       "      <td>0</td>\n",
       "      <td>250</td>\n",
       "      <td>0.00001</td>\n",
       "    </tr>\n",
       "    <tr>\n",
       "      <th>688</th>\n",
       "      <td>700</td>\n",
       "      <td>0.000089</td>\n",
       "      <td>0.2</td>\n",
       "      <td>4</td>\n",
       "      <td>15.8114</td>\n",
       "      <td>55</td>\n",
       "      <td>0.1</td>\n",
       "      <td>0</td>\n",
       "      <td>0</td>\n",
       "      <td>250</td>\n",
       "      <td>0.00001</td>\n",
       "    </tr>\n",
       "  </tbody>\n",
       "</table>\n",
       "<p>689 rows × 11 columns</p>\n",
       "</div>"
      ],
      "text/plain": [
       "       N  CollTime    r  D        L  kappa  beta  reflect  set_second  niter  \\\n",
       "0     12  0.402030  0.2  4  15.8114     55   0.1        0           0    250   \n",
       "1     13  0.339076  0.2  4  15.8114     55   0.1        0           0    250   \n",
       "2     14  0.308924  0.2  4  15.8114     55   0.1        0           0    250   \n",
       "3     15  0.270279  0.2  4  15.8114     55   0.1        0           0    250   \n",
       "4     16  0.229521  0.2  4  15.8114     55   0.1        0           0    250   \n",
       "..   ...       ...  ... ..      ...    ...   ...      ...         ...    ...   \n",
       "684  696  0.000090  0.2  4  15.8114     55   0.1        0           0    250   \n",
       "685  697  0.000090  0.2  4  15.8114     55   0.1        0           0    250   \n",
       "686  698  0.000090  0.2  4  15.8114     55   0.1        0           0    250   \n",
       "687  699  0.000090  0.2  4  15.8114     55   0.1        0           0    250   \n",
       "688  700  0.000089  0.2  4  15.8114     55   0.1        0           0    250   \n",
       "\n",
       "          dt  \n",
       "0    0.00001  \n",
       "1    0.00001  \n",
       "2    0.00001  \n",
       "3    0.00001  \n",
       "4    0.00001  \n",
       "..       ...  \n",
       "684  0.00001  \n",
       "685  0.00001  \n",
       "686  0.00001  \n",
       "687  0.00001  \n",
       "688  0.00001  \n",
       "\n",
       "[689 rows x 11 columns]"
      ]
     },
     "execution_count": 13,
     "metadata": {},
     "output_type": "execute_result"
    }
   ],
   "source": [
    "filter_log(input_fn,qfoo=lambda dict_inputs:dict_inputs[\"reflect\"]==0)\n"
   ]
  },
  {
   "cell_type": "code",
   "execution_count": 14,
   "metadata": {
    "ExecuteTime": {
     "end_time": "2021-04-15T02:11:59.023514Z",
     "start_time": "2021-04-15T02:11:59.020028Z"
    }
   },
   "outputs": [],
   "source": [
    "# def parse_log(input_fn,qfoo,include_inputs=True,printing=False):\n",
    "#     n_input,n_output=parse_iolines(input_fn, printing=printing)\n",
    "#     if n_input==-9999:\n",
    "#         if printing:\n",
    "#             print(f\"Warning: n_input not found for input_fn={input_fn}.\\nreturning None...\")\n",
    "#         return None\n",
    "\n",
    "#     col_name_lst, col_value_lst=parse_inputs(input_fn,n_input,n_output,printing=printing)\n",
    "#     dict_inputs=dict(zip(col_name_lst,col_value_lst))\n",
    "#     if not qfoo(dict_inputs):\n",
    "#         return None\n",
    "#     df=parse_outputs(input_fn, n_output)\n",
    "#     #augment df with input parameters\n",
    "#     if include_inputs:\n",
    "#         if printing:\n",
    "#             print(\"input parameters were:\")\n",
    "#             print(col_name_lst)\n",
    "#             print(col_value_lst)\n",
    "#             print(\"returning outputs as pandas.DataFrame instance\")\n",
    "#         for name,value in zip ( col_name_lst, col_value_lst):\n",
    "#             df[name]=value\n",
    "#     # df.drop(columns=['dt','reflect','set_second'],inplace=True)\n",
    "#     return df"
   ]
  },
  {
   "cell_type": "code",
   "execution_count": 15,
   "metadata": {
    "ExecuteTime": {
     "end_time": "2021-04-15T02:11:59.031466Z",
     "start_time": "2021-04-15T02:11:59.025803Z"
    }
   },
   "outputs": [],
   "source": [
    "# qfoo=lambda dict_inputs:dict_inputs[\"reflect\"]==0\n",
    "# include_inputs=True;printing=False\n",
    "# n_input,n_output=parse_iolines(input_fn, printing=False)\n",
    "# # if n_input==-9999:\n",
    "# #     if printing:\n",
    "# #         print(f\"Warning: n_input not found for input_fn={input_fn}.\\nreturning None...\")\n",
    "# #     return None\n",
    "\n",
    "# col_name_lst, col_value_lst=parse_inputs(input_fn,n_input,n_output,printing=False)\n",
    "# dict_inputs=dict(zip(col_name_lst,col_value_lst))\n",
    "# # if not qfoo(dict_inputs):\n",
    "# #     return None\n",
    "# df=parse_outputs(input_fn, n_output)\n",
    "# #augment df with input parameters\n",
    "# if include_inputs:\n",
    "#     if printing:\n",
    "#         print(\"input parameters were:\")\n",
    "#         print(col_name_lst)\n",
    "#         print(col_value_lst)\n",
    "#         print(\"returning outputs as pandas.DataFrame instance\")\n",
    "#     for name,value in zip ( col_name_lst, col_value_lst):\n",
    "#         df[name]=value\n",
    "# df.drop(columns=['dt','reflect','set_second'],inplace=True)"
   ]
  },
  {
   "cell_type": "code",
   "execution_count": 16,
   "metadata": {
    "ExecuteTime": {
     "end_time": "2021-04-15T02:11:59.040067Z",
     "start_time": "2021-04-15T02:11:59.032845Z"
    }
   },
   "outputs": [],
   "source": [
    "# df"
   ]
  },
  {
   "cell_type": "code",
   "execution_count": 17,
   "metadata": {
    "ExecuteTime": {
     "end_time": "2021-04-15T02:11:59.045290Z",
     "start_time": "2021-04-15T02:11:59.041229Z"
    }
   },
   "outputs": [],
   "source": [
    "# def parse_outputs(input_fn, n_output):\n",
    "#     with open(input_fn) as f:\n",
    "#         for n,line in enumerate(f):\n",
    "#             if n == n_output+1:\n",
    "#                 line_N = line\n",
    "#             if n == n_output+2:\n",
    "#                 line_CollTime =line\n",
    "#     N_values=np.array([eval(s) for s in line_N[:-2].split(',')])\n",
    "#     CollTime_values=np.array([eval(s) for s in line_CollTime[:-2].split(',')])\n",
    "#     df=pd.DataFrame({\n",
    "#         'N':N_values,\n",
    "#         'CollTime':CollTime_values\n",
    "#     })\n",
    "#     df=df.loc[df.CollTime!=-9999]\n",
    "#     df.reset_index(inplace=True,drop=True)\n",
    "#     return df"
   ]
  },
  {
   "cell_type": "markdown",
   "metadata": {
    "ExecuteTime": {
     "end_time": "2021-04-15T03:33:18.833391Z",
     "start_time": "2021-04-15T03:33:18.786136Z"
    }
   },
   "source": [
    "# merge filtered folder results"
   ]
  },
  {
   "cell_type": "code",
   "execution_count": 34,
   "metadata": {
    "ExecuteTime": {
     "end_time": "2021-04-15T19:37:22.667321Z",
     "start_time": "2021-04-15T19:37:22.653816Z"
    }
   },
   "outputs": [],
   "source": [
    "# def merge_folder(folder,trgt='.out.',return_df=False):\n",
    "#     '''merge all files in folder matching trgt.\n",
    "#     runtime was ~10 seconds for ~3000 files.'''\n",
    "#     #get all files in folder\n",
    "#     assert(os.path.exists(folder))\n",
    "#     input_fn_lst=get_files_in_folder(folder,trgt)\n",
    "#     print(f\"merging {len(input_fn_lst)} files...\")\n",
    "#     #merge all files in folder as df\n",
    "#     df=pd.concat([pd.read_csv(fn) for fn in input_fn_lst])\n",
    "#     #groupby col_names minus CollRate\n",
    "#     param_names=sorted(set(df.columns.values).difference({'CollTime','Rad'}))[::-1]\n",
    "#     #compute mean value\n",
    "#     dfm=df.groupby(param_names).mean()\n",
    "#     dfm.reset_index(inplace=True)\n",
    "#     #compute CollRate and drop CollTime\n",
    "#     dfm['CollRate']=1./dfm['CollTime'] #Hz\n",
    "#     dfm.drop(columns=['CollTime'],inplace=True)\n",
    "#     #save as csv\n",
    "#     save_fn=os.path.basename(folder)+'.csv'\n",
    "#     os.chdir(os.path.dirname(folder))\n",
    "#     dfm.to_csv(save_fn,index=False)\n",
    "#     print(f'mean Collision rates saved in\\n{os.path.abspath(save_fn)}')\n",
    "#     if return_df:\n",
    "#         return dfm\n",
    "#     else:\n",
    "#         return True"
   ]
  },
  {
   "cell_type": "code",
   "execution_count": 40,
   "metadata": {
    "ExecuteTime": {
     "end_time": "2021-04-16T22:57:03.602641Z",
     "start_time": "2021-04-16T22:56:50.634413Z"
    }
   },
   "outputs": [
    {
     "name": "stdout",
     "output_type": "stream",
     "text": [
      "merging 3242 files...\n",
      "mean Collision rates saved in\n",
      "/home/timothytyree/Documents/GitHub/bgmc/python/data/osg_output/run_5_all.csv\n"
     ]
    }
   ],
   "source": [
    "folder=f\"{nb_dir}/data/osg_output/run_5_all\"\n",
    "retval=merge_folder(folder, return_df=True)"
   ]
  },
  {
   "cell_type": "code",
   "execution_count": null,
   "metadata": {},
   "outputs": [],
   "source": []
  }
 ],
 "metadata": {
  "kernelspec": {
   "display_name": "Python 3",
   "language": "python",
   "name": "python3"
  },
  "language_info": {
   "codemirror_mode": {
    "name": "ipython",
    "version": 3
   },
   "file_extension": ".py",
   "mimetype": "text/x-python",
   "name": "python",
   "nbconvert_exporter": "python",
   "pygments_lexer": "ipython3",
   "version": "3.7.6"
  },
  "toc": {
   "base_numbering": 1,
   "nav_menu": {},
   "number_sections": true,
   "sideBar": true,
   "skip_h1_title": false,
   "title_cell": "Table of Contents",
   "title_sidebar": "Contents",
   "toc_cell": false,
   "toc_position": {},
   "toc_section_display": true,
   "toc_window_display": false
  },
  "varInspector": {
   "cols": {
    "lenName": 16,
    "lenType": 16,
    "lenVar": 40
   },
   "kernels_config": {
    "python": {
     "delete_cmd_postfix": "",
     "delete_cmd_prefix": "del ",
     "library": "var_list.py",
     "varRefreshCmd": "print(var_dic_list())"
    },
    "r": {
     "delete_cmd_postfix": ") ",
     "delete_cmd_prefix": "rm(",
     "library": "var_list.r",
     "varRefreshCmd": "cat(var_dic_list()) "
    }
   },
   "types_to_exclude": [
    "module",
    "function",
    "builtin_function_or_method",
    "instance",
    "_Feature"
   ],
   "window_display": false
  }
 },
 "nbformat": 4,
 "nbformat_minor": 4
}
