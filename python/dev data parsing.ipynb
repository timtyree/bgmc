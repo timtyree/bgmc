{
 "cells": [
  {
   "cell_type": "markdown",
   "metadata": {},
   "source": [
    "# dev data parsing"
   ]
  },
  {
   "cell_type": "code",
   "execution_count": 1,
   "metadata": {
    "ExecuteTime": {
     "end_time": "2021-04-09T20:10:24.772289Z",
     "start_time": "2021-04-09T20:10:24.038330Z"
    }
   },
   "outputs": [],
   "source": [
    "from lib.my_initialization import *\n",
    "# from lib.searchforfile import *"
   ]
  },
  {
   "cell_type": "code",
   "execution_count": 2,
   "metadata": {
    "ExecuteTime": {
     "end_time": "2021-04-09T20:10:24.780511Z",
     "start_time": "2021-04-09T20:10:24.773964Z"
    }
   },
   "outputs": [],
   "source": [
    "# import pandas as pd, os\n",
    "def parse_iolines(input_fn, printing=False):\n",
    "    n_input=-9999\n",
    "    with open(input_fn) as f:\n",
    "        trgt1='Printing Inputs...\\n'\n",
    "        trgt2='Printing Outputs...\\n'\n",
    "        for n,line in enumerate(f):\n",
    "            if trgt1 == line:\n",
    "                if printing:\n",
    "                    print(f'found inputs starting after line {n}')\n",
    "                n_input=n\n",
    "            if trgt2 == line:\n",
    "                if printing:\n",
    "                    print(f'found outputs starting after line {n}')\n",
    "                n_output=n\n",
    "    return n_input,n_output"
   ]
  },
  {
   "cell_type": "code",
   "execution_count": 3,
   "metadata": {
    "ExecuteTime": {
     "end_time": "2021-04-09T20:10:24.863461Z",
     "start_time": "2021-04-09T20:10:24.782911Z"
    }
   },
   "outputs": [
    {
     "data": {
      "text/plain": [
       "'job.out.8872865.6334'"
      ]
     },
     "execution_count": 3,
     "metadata": {},
     "output_type": "execute_result"
    }
   ],
   "source": [
    "data_dir=f\"{nb_dir}/data/osg_output/Log\"\n",
    "os.chdir(data_dir)\n",
    "\n",
    "input_fn_lst=os.listdir()\n",
    "input_fn=input_fn_lst[0]\n",
    "input_fn"
   ]
  },
  {
   "cell_type": "code",
   "execution_count": 4,
   "metadata": {
    "ExecuteTime": {
     "end_time": "2021-04-09T20:10:24.869301Z",
     "start_time": "2021-04-09T20:10:24.865422Z"
    }
   },
   "outputs": [],
   "source": [
    "n_input,n_output=parse_iolines(input_fn, printing=False)"
   ]
  },
  {
   "cell_type": "code",
   "execution_count": 71,
   "metadata": {
    "ExecuteTime": {
     "end_time": "2021-04-09T21:12:31.289391Z",
     "start_time": "2021-04-09T21:12:31.284247Z"
    }
   },
   "outputs": [],
   "source": [
    "def parse_inputs(input_fn,n_input,printing=False):\n",
    "    if n_input==-9999:\n",
    "        if printing:\n",
    "            print(f\"Warning: n_input not found for input_fn={input_fn}.\\nreturning None...\")\n",
    "        return None\n",
    "    with open(input_fn) as f:\n",
    "        inputs=f.readlines()[n_input+1:n_output-1]\n",
    "    col_name_lst=[]\n",
    "    col_value_lst=[]\n",
    "    for line in inputs:\n",
    "        string=line.split(' ')[-1]\n",
    "        eid=string.find('=')\n",
    "        if eid!=-1:\n",
    "            col_name=string[:eid]\n",
    "            # try:\n",
    "            col_value=eval(string[eid+1:-1])\n",
    "            # except Exception as e:\n",
    "            #     print (string)\n",
    "            #     col_value=string[eid+1:-1]\n",
    "            col_name_lst.append(col_name)\n",
    "            col_value_lst.append(col_value)\n",
    "    return col_name_lst, col_value_lst"
   ]
  },
  {
   "cell_type": "code",
   "execution_count": 72,
   "metadata": {
    "ExecuteTime": {
     "end_time": "2021-04-09T21:12:35.737009Z",
     "start_time": "2021-04-09T21:12:32.207147Z"
    }
   },
   "outputs": [
    {
     "name": "stdout",
     "output_type": "stream",
     "text": [
      "computing runtime for 40745 files...\n",
      "the run time for computing runtimes was: 2.81 seconds.\n",
      "the total recorded runtime was 2.151 years.\n"
     ]
    },
    {
     "data": {
      "text/plain": [
       "0"
      ]
     },
     "execution_count": 72,
     "metadata": {},
     "output_type": "execute_result"
    }
   ],
   "source": [
    "# nb_dir='/home/timothytyree/Documents/GitHub/bgmc/python/'\n",
    "data_dir=f\"{nb_dir}/data/osg_output/Log\"\n",
    "runtime=compute_runtime_for_folder(folder=data_dir)\n",
    "print(f\"the total recorded runtime was {runtime:.3f} years.\")\n",
    "beep(3)"
   ]
  },
  {
   "cell_type": "code",
   "execution_count": 73,
   "metadata": {
    "ExecuteTime": {
     "end_time": "2021-04-09T21:12:45.694936Z",
     "start_time": "2021-04-09T21:12:45.686037Z"
    }
   },
   "outputs": [],
   "source": [
    "def parse_output(input_fn, n_output):\n",
    "    with open ( input_fn ) as f:\n",
    "        for n,line in enumerate(f):\n",
    "            if n==n_output+1:\n",
    "                N_values_string=line\n",
    "            if n==n_output+2:\n",
    "                T_values_string=line\n",
    "    N_values=[eval(s) for s in N_values_string[:-2].split(',')]\n",
    "    T_values=[eval(s) for s in T_values_string[:-2].split(',')]\n",
    "    df=pd.DataFrame({'N':N_values,'T':T_values})\n",
    "    df=df[df['T']>0]\n",
    "    return df"
   ]
  },
  {
   "cell_type": "code",
   "execution_count": 74,
   "metadata": {
    "ExecuteTime": {
     "end_time": "2021-04-09T21:12:50.359365Z",
     "start_time": "2021-04-09T21:12:50.263218Z"
    }
   },
   "outputs": [],
   "source": [
    "input_fn_lst=get_files_in_folder(folder=data_dir,trgt='.out.')"
   ]
  },
  {
   "cell_type": "code",
   "execution_count": 86,
   "metadata": {
    "ExecuteTime": {
     "end_time": "2021-04-09T21:15:01.844184Z",
     "start_time": "2021-04-09T21:15:01.832959Z"
    }
   },
   "outputs": [],
   "source": [
    "def parse_log(input_fn,qfoo,include_inputs=True,printing=False):\n",
    "    col_name_lst, col_value_lst=parse_inputs(input_fn,n_input,printing=printing)\n",
    "    dict_inputs=dict(zip(col_name_lst,col_value_lst))\n",
    "    if not qfoo(dict_inputs):\n",
    "        return None\n",
    "    df=parse_output(input_fn, n_output)\n",
    "    #augment df with input parameters\n",
    "    if include_inputs:\n",
    "        if printing:\n",
    "            print(\"input parameters were:\")\n",
    "            print(col_name_lst)\n",
    "            print(col_value_lst)\n",
    "            print(\"returning outputs as pandas.DataFrame instance\")\n",
    "        for name,value in zip ( col_name_lst, col_value_lst):\n",
    "            df[name]=value\n",
    "    df.drop(columns=['dt','reflect','set_second'],inplace=True)\n",
    "    return df"
   ]
  },
  {
   "cell_type": "code",
   "execution_count": 87,
   "metadata": {
    "ExecuteTime": {
     "end_time": "2021-04-09T21:15:03.097662Z",
     "start_time": "2021-04-09T21:15:03.083473Z"
    }
   },
   "outputs": [],
   "source": [
    "input_fn=input_fn_lst[0]\n",
    "qfoo_pbc=lambda dict_inputs:dict_inputs['reflect']==0 #periodic bc\n",
    "qfoo_rbc=lambda dict_inputs:dict_inputs['reflect']==1 #reflecting bc\n",
    "qfoo=qfoo_rbc\n",
    "df=parse_log(input_fn,qfoo,include_inputs=True,printing=False)"
   ]
  },
  {
   "cell_type": "code",
   "execution_count": 88,
   "metadata": {
    "ExecuteTime": {
     "end_time": "2021-04-09T21:15:03.674275Z",
     "start_time": "2021-04-09T21:15:03.637632Z"
    },
    "scrolled": true
   },
   "outputs": [
    {
     "data": {
      "text/html": [
       "<div>\n",
       "<style scoped>\n",
       "    .dataframe tbody tr th:only-of-type {\n",
       "        vertical-align: middle;\n",
       "    }\n",
       "\n",
       "    .dataframe tbody tr th {\n",
       "        vertical-align: top;\n",
       "    }\n",
       "\n",
       "    .dataframe thead th {\n",
       "        text-align: right;\n",
       "    }\n",
       "</style>\n",
       "<table border=\"1\" class=\"dataframe\">\n",
       "  <thead>\n",
       "    <tr style=\"text-align: right;\">\n",
       "      <th></th>\n",
       "      <th>N</th>\n",
       "      <th>T</th>\n",
       "      <th>r</th>\n",
       "      <th>D</th>\n",
       "      <th>L</th>\n",
       "      <th>kappa</th>\n",
       "      <th>beta</th>\n",
       "      <th>niter</th>\n",
       "    </tr>\n",
       "  </thead>\n",
       "  <tbody>\n",
       "    <tr>\n",
       "      <th>11</th>\n",
       "      <td>12</td>\n",
       "      <td>0.000767</td>\n",
       "      <td>0.1</td>\n",
       "      <td>0.2</td>\n",
       "      <td>10</td>\n",
       "      <td>500</td>\n",
       "      <td>1</td>\n",
       "      <td>6334</td>\n",
       "    </tr>\n",
       "    <tr>\n",
       "      <th>12</th>\n",
       "      <td>13</td>\n",
       "      <td>0.000646</td>\n",
       "      <td>0.1</td>\n",
       "      <td>0.2</td>\n",
       "      <td>10</td>\n",
       "      <td>500</td>\n",
       "      <td>1</td>\n",
       "      <td>6334</td>\n",
       "    </tr>\n",
       "    <tr>\n",
       "      <th>13</th>\n",
       "      <td>14</td>\n",
       "      <td>0.000550</td>\n",
       "      <td>0.1</td>\n",
       "      <td>0.2</td>\n",
       "      <td>10</td>\n",
       "      <td>500</td>\n",
       "      <td>1</td>\n",
       "      <td>6334</td>\n",
       "    </tr>\n",
       "    <tr>\n",
       "      <th>14</th>\n",
       "      <td>15</td>\n",
       "      <td>0.000472</td>\n",
       "      <td>0.1</td>\n",
       "      <td>0.2</td>\n",
       "      <td>10</td>\n",
       "      <td>500</td>\n",
       "      <td>1</td>\n",
       "      <td>6334</td>\n",
       "    </tr>\n",
       "    <tr>\n",
       "      <th>15</th>\n",
       "      <td>16</td>\n",
       "      <td>0.000410</td>\n",
       "      <td>0.1</td>\n",
       "      <td>0.2</td>\n",
       "      <td>10</td>\n",
       "      <td>500</td>\n",
       "      <td>1</td>\n",
       "      <td>6334</td>\n",
       "    </tr>\n",
       "    <tr>\n",
       "      <th>...</th>\n",
       "      <td>...</td>\n",
       "      <td>...</td>\n",
       "      <td>...</td>\n",
       "      <td>...</td>\n",
       "      <td>...</td>\n",
       "      <td>...</td>\n",
       "      <td>...</td>\n",
       "      <td>...</td>\n",
       "    </tr>\n",
       "    <tr>\n",
       "      <th>695</th>\n",
       "      <td>696</td>\n",
       "      <td>0.000010</td>\n",
       "      <td>0.1</td>\n",
       "      <td>0.2</td>\n",
       "      <td>10</td>\n",
       "      <td>500</td>\n",
       "      <td>1</td>\n",
       "      <td>6334</td>\n",
       "    </tr>\n",
       "    <tr>\n",
       "      <th>696</th>\n",
       "      <td>697</td>\n",
       "      <td>0.000010</td>\n",
       "      <td>0.1</td>\n",
       "      <td>0.2</td>\n",
       "      <td>10</td>\n",
       "      <td>500</td>\n",
       "      <td>1</td>\n",
       "      <td>6334</td>\n",
       "    </tr>\n",
       "    <tr>\n",
       "      <th>697</th>\n",
       "      <td>698</td>\n",
       "      <td>0.000010</td>\n",
       "      <td>0.1</td>\n",
       "      <td>0.2</td>\n",
       "      <td>10</td>\n",
       "      <td>500</td>\n",
       "      <td>1</td>\n",
       "      <td>6334</td>\n",
       "    </tr>\n",
       "    <tr>\n",
       "      <th>698</th>\n",
       "      <td>699</td>\n",
       "      <td>0.000010</td>\n",
       "      <td>0.1</td>\n",
       "      <td>0.2</td>\n",
       "      <td>10</td>\n",
       "      <td>500</td>\n",
       "      <td>1</td>\n",
       "      <td>6334</td>\n",
       "    </tr>\n",
       "    <tr>\n",
       "      <th>699</th>\n",
       "      <td>700</td>\n",
       "      <td>0.000010</td>\n",
       "      <td>0.1</td>\n",
       "      <td>0.2</td>\n",
       "      <td>10</td>\n",
       "      <td>500</td>\n",
       "      <td>1</td>\n",
       "      <td>6334</td>\n",
       "    </tr>\n",
       "  </tbody>\n",
       "</table>\n",
       "<p>689 rows × 8 columns</p>\n",
       "</div>"
      ],
      "text/plain": [
       "       N         T    r    D   L  kappa  beta  niter\n",
       "11    12  0.000767  0.1  0.2  10    500     1   6334\n",
       "12    13  0.000646  0.1  0.2  10    500     1   6334\n",
       "13    14  0.000550  0.1  0.2  10    500     1   6334\n",
       "14    15  0.000472  0.1  0.2  10    500     1   6334\n",
       "15    16  0.000410  0.1  0.2  10    500     1   6334\n",
       "..   ...       ...  ...  ...  ..    ...   ...    ...\n",
       "695  696  0.000010  0.1  0.2  10    500     1   6334\n",
       "696  697  0.000010  0.1  0.2  10    500     1   6334\n",
       "697  698  0.000010  0.1  0.2  10    500     1   6334\n",
       "698  699  0.000010  0.1  0.2  10    500     1   6334\n",
       "699  700  0.000010  0.1  0.2  10    500     1   6334\n",
       "\n",
       "[689 rows x 8 columns]"
      ]
     },
     "execution_count": 88,
     "metadata": {},
     "output_type": "execute_result"
    }
   ],
   "source": [
    "df"
   ]
  },
  {
   "cell_type": "code",
   "execution_count": 1,
   "metadata": {
    "ExecuteTime": {
     "end_time": "2021-04-13T00:12:29.675030Z",
     "start_time": "2021-04-13T00:12:29.673121Z"
    }
   },
   "outputs": [],
   "source": [
    "# TODO: switch params niter and process in .submit file\n",
    "# TODO: update github\n",
    "# TODO: kill grid \n",
    "# TODO: restart grid with correct .submit"
   ]
  },
  {
   "cell_type": "code",
   "execution_count": null,
   "metadata": {},
   "outputs": [],
   "source": []
  },
  {
   "cell_type": "code",
   "execution_count": null,
   "metadata": {},
   "outputs": [],
   "source": []
  },
  {
   "cell_type": "markdown",
   "metadata": {},
   "source": [
    "- TODO: plot the log output over some axis of the input_parameter space  space\n",
    "- TODO: measure the slope/turning points for a given log output\n",
    "- TODO: learn the slope/turning points using state space\n",
    "- TODO: tensorflow jupyter notebook stackoverflow "
   ]
  },
  {
   "cell_type": "code",
   "execution_count": null,
   "metadata": {},
   "outputs": [],
   "source": []
  }
 ],
 "metadata": {
  "kernelspec": {
   "display_name": "Python 3",
   "language": "python",
   "name": "python3"
  },
  "language_info": {
   "codemirror_mode": {
    "name": "ipython",
    "version": 3
   },
   "file_extension": ".py",
   "mimetype": "text/x-python",
   "name": "python",
   "nbconvert_exporter": "python",
   "pygments_lexer": "ipython3",
   "version": "3.7.6"
  },
  "toc": {
   "base_numbering": 1,
   "nav_menu": {},
   "number_sections": true,
   "sideBar": true,
   "skip_h1_title": false,
   "title_cell": "Table of Contents",
   "title_sidebar": "Contents",
   "toc_cell": false,
   "toc_position": {},
   "toc_section_display": true,
   "toc_window_display": false
  },
  "varInspector": {
   "cols": {
    "lenName": 16,
    "lenType": 16,
    "lenVar": 40
   },
   "kernels_config": {
    "python": {
     "delete_cmd_postfix": "",
     "delete_cmd_prefix": "del ",
     "library": "var_list.py",
     "varRefreshCmd": "print(var_dic_list())"
    },
    "r": {
     "delete_cmd_postfix": ") ",
     "delete_cmd_prefix": "rm(",
     "library": "var_list.r",
     "varRefreshCmd": "cat(var_dic_list()) "
    }
   },
   "types_to_exclude": [
    "module",
    "function",
    "builtin_function_or_method",
    "instance",
    "_Feature"
   ],
   "window_display": false
  }
 },
 "nbformat": 4,
 "nbformat_minor": 4
}
