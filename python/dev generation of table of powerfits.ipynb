{
 "cells": [
  {
   "cell_type": "markdown",
   "metadata": {
    "heading_collapsed": true
   },
   "source": [
    "# dev generation of table of powerfits\n",
    "Tim Tyree<br>\n",
    "8.30.2021"
   ]
  },
  {
   "cell_type": "code",
   "execution_count": 58,
   "metadata": {
    "ExecuteTime": {
     "end_time": "2021-08-31T19:54:58.665006Z",
     "start_time": "2021-08-31T19:54:58.646806Z"
    },
    "hidden": true
   },
   "outputs": [
    {
     "name": "stdout",
     "output_type": "stream",
     "text": [
      "The autoreload extension is already loaded. To reload it, use:\n",
      "  %reload_ext autoreload\n"
     ]
    }
   ],
   "source": [
    "from lib.my_initialization import *\n",
    "import random,scipy\n",
    "from lib.measure.compute_slope import *\n",
    "from lib.measure.compute_sliding_slope import *\n",
    "from lib.measure.powerlaw import *\n",
    "%load_ext autoreload\n",
    "%autoreload 2\n",
    "\n",
    "from scipy import stats\n",
    "alpha=0.1\n",
    "#TODO: hook this routine up to dask\n",
    "#TODO: hook this routine up to dask_cuda"
   ]
  },
  {
   "cell_type": "code",
   "execution_count": 59,
   "metadata": {
    "ExecuteTime": {
     "end_time": "2021-08-31T19:54:59.603719Z",
     "start_time": "2021-08-31T19:54:59.590015Z"
    },
    "hidden": true
   },
   "outputs": [],
   "source": [
    "#TODO: move to lib.measure\n",
    "def spline_ysmooth(x,y,der=0,s=0):\n",
    "    tck  = scipy.interpolate.splrep(x, y, s=s)\n",
    "    ynew = scipy.interpolate.splev(x, tck, der=der)\n",
    "    return ynew"
   ]
  },
  {
   "cell_type": "code",
   "execution_count": 61,
   "metadata": {
    "ExecuteTime": {
     "end_time": "2021-08-31T19:55:09.395534Z",
     "start_time": "2021-08-31T19:55:09.362614Z"
    },
    "hidden": true
   },
   "outputs": [],
   "source": [
    "def gener_powerlaw_fit(input_fn,q_min=None,q_max=None,printing=False,testing=False,**kwargs):\n",
    "    '''for runs 12-15 (and probably later), \n",
    "    q_min is set to 0.1 particles per square centimeter, and \n",
    "    q_max is set to 1.0 particles per square centimeter.\n",
    "    \n",
    "    Example Usage:\n",
    "    data_dir=\"/home/timothytyree/Documents/GitHub/bgmc/python/data/osg_output/run_15_all.csv\"\n",
    "    m,Delta_m,M,Delta_M,Rsq,rmse=gener_powerlaw_fit(input_fn,**kwargs)\n",
    "    '''\n",
    "    df=pd.read_csv(input_fn)\n",
    "    # df.head()\n",
    "    if printing:\n",
    "        print(f\"the columns present are:\")\n",
    "        print(list(df.columns))\n",
    "    if testing:\n",
    "        assert (not (df.CollRate<0).any())\n",
    "        if printing:\n",
    "            print(\"all results from trials have nonnegative collision rates.\")\n",
    "\n",
    "    #derived values\n",
    "    df['CollRate']=1./df['CollTime']\n",
    "    df['A']=df['L']**2\n",
    "    df['q']=df['N']/df['A'] #number of tips per square centimeter\n",
    "    df['w']=df['CollRate']/df['A'] #[mHz?]/cm^2\n",
    "\n",
    "    if q_min is None:\n",
    "        q_min=np.min(df['q'].values)\n",
    "    if q_max is None:\n",
    "        q_max=np.max(df['q'].values)\n",
    "\n",
    "    # df=df[df.niter==250].copy()\n",
    "    #extract column values\n",
    "    r_values=np.array(sorted(set(df.r.values)))#cm\n",
    "    D_values=np.array(sorted(set(df.D.values)))#cm^2/s\n",
    "    L_values=np.array(sorted(set(df.L.values)))#cm\n",
    "    A_values=L_values**2#cm^2\n",
    "    kappa_values=np.array(sorted(set(df.kappa.values)))#1/s\n",
    "    varkappa_values=np.array(sorted(set(df.varkappa.values)))#1/s\n",
    "    x0_values=np.array(sorted(set(df.x0.values)))#1/s\n",
    "    set_second_values=np.array(sorted(set(df.set_second.values)))\n",
    "    reflect_values=np.array(sorted(set(df.reflect.values)))\n",
    "    no_repulsion_values=np.array(sorted(set(df.no_repulsion.values)))\n",
    "    no_attraction_values=np.array(sorted(set(df.no_attraction.values)))\n",
    "    neighbor_values=np.array(sorted(set(df.neighbor.values)))\n",
    "    force_code_values=np.array(sorted(set(df.force_code.values)))\n",
    "\n",
    "    if printing:\n",
    "        #make test for whether there is one input parameter present in an input DataFrame\n",
    "        print(f\"parameter values considered in this df:\")\n",
    "        print(f\"D~{D_values}\")\n",
    "        print(f\"L~{L_values}\")\n",
    "        print(f\"kappa~{kappa_values}\")\n",
    "        print(f\"x0~{x0_values}\")\n",
    "        print(f\"set_second~{set_second_values}\")\n",
    "        print(f\"reflect~{reflect_values}\")\n",
    "        print(f\"no_repulsion~{no_repulsion_values}\")\n",
    "        print(f\"no_attraction~{no_attraction_values}\")\n",
    "        print(f\"neighbor~{neighbor_values}\")\n",
    "        print(f\"force_code~{force_code_values}\")\n",
    "        # print(f\"varkappa~{np.mean(varkappa_values):.3f}+-{2*np.std(varkappa_values):.3f}\")\n",
    "        print(f\"varkappa~{varkappa_values}\")\n",
    "        print(f\"r~{r_values}\")\n",
    "    \n",
    "    #query functionally\n",
    "    r=r_values[0]#1]\n",
    "    kappa=kappa_values[0]\n",
    "    D=D_values[0]#-1]#\n",
    "    varkappa=varkappa_values[0]#3]# #cm^2/s in manuscript, varkappa is a\n",
    "    x0=x0_values[0]        #cm\n",
    "    L=L_values[0]\n",
    "    set_second=set_second_values[0]#0\n",
    "    no_repulsion=no_repulsion_values[0]#0\n",
    "    no_attraction=no_attraction_values[0]#0\n",
    "    reflect=reflect_values[0]#0\n",
    "    neighbor=neighbor_values[0]#0\n",
    "    force_code=force_code_values[0]#2\n",
    "    \n",
    "    #query the DataFrame\n",
    "    query =(df.set_second==set_second)&(df.reflect==reflect)\n",
    "    query&=df.r==r\n",
    "    query&=df.D==D\n",
    "    query&=df.L==L\n",
    "    query&=df.varkappa==varkappa\n",
    "    query&=df.x0==x0\n",
    "    query&=(df.no_repulsion==no_repulsion)&(df.no_attraction==no_attraction)\n",
    "    query&=(df.neighbor==neighbor)&(df.force_code==force_code)\n",
    "    dg=df[query]\n",
    "    dh=dg[dg.kappa==kappa]\n",
    "    x_values=dh.q.values\n",
    "    y_values=dh.w.values\n",
    "\n",
    "    if printing:\n",
    "        print((varkappa,x_values.shape))\n",
    "\n",
    "    #fit powerlaw using OLS of the log-log plot\n",
    "    boo=(x_values>q_min)&(x_values<q_max)\n",
    "    x=x_values[boo]\n",
    "    y=y_values[boo]\n",
    "    B,Delta_B,m,Delta_m,Rsq=fit_power_law(x,y)\n",
    "    rmse=compute_power_rmse(x,y,m,B)\n",
    "    M, Delta_M= comp_power_scale(B,Delta_B,m,Delta_m)\n",
    "    if printing:\n",
    "        print(f\"fitting from {q_min:.3f} <= q <= {q_max:.3f}\")\n",
    "        print(f\"m={m:.6f}+-{Delta_m:.6f}; B={B:.6f}+-{Delta_B:.6f}\")\n",
    "        print(f\"M= {M:.6f}+-{Delta_M:.6f} Hz*cm^{{2(m-1)}}\")\n",
    "        print(f\"RMSE={rmse:.4f} Hz/cm^2\")\n",
    "        print(f\"R^2={Rsq:.4f}\")\n",
    "\n",
    "    #record input parameters and output measures\n",
    "    dict_out={\n",
    "        'm':m,\n",
    "        'Delta_m':Delta_m,\n",
    "        'M':M,\n",
    "        'Delta_M':Delta_M,\n",
    "        'Rsq':Rsq,\n",
    "        'rmse':rmse,\n",
    "        'q_min':q_min,\n",
    "        'q_max':q_max,\n",
    "        'r':r,\n",
    "        'kappa':kappa,\n",
    "        'D':D,\n",
    "        'varkappa':varkappa,\n",
    "        'x0':x0,\n",
    "        'L':L,\n",
    "        'force_code':force_code,\n",
    "        'neighbor':neighbor,\n",
    "        'reflect':reflect,\n",
    "        'set_second':set_second,\n",
    "        'no_repulsion':no_repulsion,\n",
    "        'no_attraction':no_attraction\n",
    "    }    \n",
    "        \n",
    "    return dict_out"
   ]
  },
  {
   "cell_type": "code",
   "execution_count": null,
   "metadata": {
    "ExecuteTime": {
     "end_time": "2021-08-31T04:20:31.102247Z",
     "start_time": "2021-08-31T04:20:31.082635Z"
    },
    "hidden": true
   },
   "outputs": [],
   "source": []
  },
  {
   "cell_type": "code",
   "execution_count": 62,
   "metadata": {
    "ExecuteTime": {
     "end_time": "2021-08-31T19:55:12.067177Z",
     "start_time": "2021-08-31T19:55:12.037816Z"
    },
    "hidden": true
   },
   "outputs": [],
   "source": [
    "# #TODO: debug slice_df_and_print_powerlaw_fit, OR\n",
    "# #TODO: make routine that maps 1 .csv file to a powerlaw fit. And then, extend this routine to make a row in a dataframe using dask (or dask_cuda)\n",
    "# def slice_df_and_print_powerlaw_fit(df, r,D,L,kappa,varkappa,x0,q_min=0.1,q_max=1.,no_attraction=0,no_repulsion=0,force_code=2):\n",
    "#     '''map from trial to power law fit in interval q_min to q_max'''\n",
    "#     #query the DataFrame\n",
    "#     query =(df.set_second==set_second)&(df.reflect==reflect)\n",
    "#     query&=df.r==r#r_values[0]\n",
    "#     query&=df.D==D#D_values[0]\n",
    "#     query&=df.L==L#L_values[0]\n",
    "#     query&=df.kappa==kappa\n",
    "#     query&=df.varkappa==varkappa#_values#[-1]#5]\n",
    "#     query&=df.x0==x0#_values[2]\n",
    "#     query&=(df.no_repulsion==no_repulsion)&(df.no_attraction==no_attraction)\n",
    "#     dff=df[query]\n",
    "#     dg=dff.copy()#[dff.kappa==kappa]#kappa_values[0]]#smaller reaction rate\n",
    "    \n",
    "#     x_values=dg.q.values\n",
    "#     y_values=dg.w.values\n",
    "\n",
    "#     # q_min=0.1;q_max=.4\n",
    "#     # boo=(x_values>q_min)&(x_values<q_max)\n",
    "#     # x=np.log(x_values[boo])\n",
    "#     # y=np.log(y_values[boo])\n",
    "#     # dict_out=compute_95CI_ols(x,y)\n",
    "#     # dict_out\n",
    "#     boo=(x_values>q_min)&(x_values<q_max)\n",
    "#     x=x_values[boo]\n",
    "#     y=y_values[boo]\n",
    "# #     print(x)\n",
    "#     print_fit_power_law(x,y)"
   ]
  },
  {
   "cell_type": "code",
   "execution_count": 52,
   "metadata": {
    "ExecuteTime": {
     "end_time": "2021-08-31T05:42:08.466876Z",
     "start_time": "2021-08-31T05:42:08.454035Z"
    },
    "code_folding": [],
    "hidden": true
   },
   "outputs": [],
   "source": []
  },
  {
   "cell_type": "code",
   "execution_count": 64,
   "metadata": {
    "ExecuteTime": {
     "end_time": "2021-08-31T19:55:54.915382Z",
     "start_time": "2021-08-31T19:55:54.889526Z"
    },
    "hidden": true
   },
   "outputs": [
    {
     "name": "stdout",
     "output_type": "stream",
     "text": [
      "{'m': 1.7790650704389608, 'Delta_m': 0.023485417559118735, 'M': 2.579123035013751, 'Delta_M': 0.08787983363991136, 'Rsq': 0.9960689423299701, 'rmse': 0.07782725060345115, 'q_min': 0.1, 'q_max': 1.0, 'r': 0.05, 'kappa': 250, 'D': 0.7, 'varkappa': 1, 'x0': 0, 'L': 10, 'force_code': 2, 'neighbor': 0, 'reflect': 0, 'set_second': 0, 'no_repulsion': 0, 'no_attraction': 0}\n"
     ]
    }
   ],
   "source": [
    "# input_fn=search_for_file()\n",
    "input_fn=\"/home/timothytyree/Documents/GitHub/bgmc/python/data/osg_output/run_15_all/job.out.13954413.14\"\n",
    "printing=True\n",
    "\n",
    "kwargs={}\n",
    "def routine(input_fn):\n",
    "    try:\n",
    "        return gener_powerlaw_fit(input_fn,**kwargs)\n",
    "    except Exception as e:\n",
    "        return f\"Warning: for input_fn={input_fn}...\\n {e}\"\n",
    "testing=True\n",
    "if testing is True:\n",
    "    input_fn=\"/home/timothytyree/Documents/GitHub/bgmc/python/data/osg_output/run_15_all/job.out.13954413.14\"\n",
    "#     input_fn=\"/home/timothytyree/Documents/GitHub/bgmc/python/data/osg_output/run_15_all.csv\"\n",
    "    dict_out=routine(input_fn)\n",
    "    print(dict_out)"
   ]
  },
  {
   "cell_type": "code",
   "execution_count": 53,
   "metadata": {
    "ExecuteTime": {
     "end_time": "2021-08-31T05:42:24.962304Z",
     "start_time": "2021-08-31T05:42:09.997135Z"
    },
    "hidden": true
   },
   "outputs": [
    {
     "name": "stdout",
     "output_type": "stream",
     "text": [
      "input_fn=/home/timothytyree/Documents/GitHub/bgmc/python/data/osg_output/run_15_all/job.out.13954413.14\n",
      "We're about to use 12 cores to obliterate 9792 csv files from /home/timothytyree/Documents/GitHub/bgmc/python/data/osg_output\n",
      "run time for computing powerlaw fits was 14.94 seconds.\n"
     ]
    }
   ],
   "source": [
    "#TODO: run all ^this over dask (~9800 jobs over 12 cores... 1.5 seconds per job... this supports 0.34 hours to process this step)\n",
    "# Estimated run time equals 1.5*9800/12=0.34 hours \n",
    "# 1.5*9800/12/60/60\n",
    "npartitions=os.cpu_count()\n",
    "\n",
    "if printing:\n",
    "    print(f\"input_fn={input_fn}\")\n",
    "input_folder=os.path.dirname(input_fn)\n",
    "trial_folder_name=os.path.dirname(input_folder)\n",
    "os.chdir(input_folder)\n",
    "# trgt=''#input_fn[input_fn.find('.csv'):]\n",
    "# assert(input_fn[-len(trgt):]==trgt)\n",
    "# input_fn_lst=get_all_files_matching_pattern(input_fn,trgt)\n",
    "input_fn_lst=os.listdir()\n",
    "if printing:\n",
    "    print(f\"We're about to use {npartitions} cores to obliterate {len(input_fn_lst)} csv files from {trial_folder_name}\")\n",
    "\n",
    "#TODO: copy existing routine over here, which includes getting of input_fn_lst\n",
    "#all CPU version\n",
    "b = db.from_sequence(input_fn_lst, npartitions=npartitions).map(routine)\n",
    "start = time.time()\n",
    "retval = list(b)\n",
    "if printing:\n",
    "    print(f\"run time for computing powerlaw fits was {time.time()-start:.2f} seconds.\")\n",
    "# beep(3)"
   ]
  },
  {
   "cell_type": "code",
   "execution_count": 149,
   "metadata": {
    "ExecuteTime": {
     "end_time": "2021-08-31T21:31:26.744525Z",
     "start_time": "2021-08-31T21:31:26.556796Z"
    },
    "hidden": true
   },
   "outputs": [
    {
     "name": "stdout",
     "output_type": "stream",
     "text": [
      "computed powerlaw fits for  9790 trials successfully.\n",
      "/home/timothytyree/Documents/GitHub/bgmc/python/data/osg_output/run_15_all/powerlaw_fits_run_15_all.csv\n"
     ]
    }
   ],
   "source": [
    "# dict_out_lst=retval\n",
    "dict_out_lst=[fn for fn in retval if not (type(fn)==type(str()) )]# and fn.find('Warning:')==-1)]\n",
    "print(f\"computed powerlaw fits for  {len(dict_out_lst)} trials successfully.\")\n",
    "assert (len(dict_out_lst)>0)\n",
    "\n",
    "df=pd.DataFrame(dict_out_lst)\n",
    "\n",
    "#save df as .csv \n",
    "save_fn = 'powerlaw_fits_'+os.path.basename(input_folder)+'.csv'\n",
    "df.to_csv(save_fn,index=False)\n",
    "print(os.path.abspath(save_fn))\n",
    "#TODO: make a knn fit to this data using scikit-learn"
   ]
  },
  {
   "cell_type": "markdown",
   "metadata": {
    "ExecuteTime": {
     "end_time": "2021-08-31T05:22:11.510939Z",
     "start_time": "2021-08-31T05:22:08.189Z"
    }
   },
   "source": [
    "# TODO: make an interpolating fit to this data using scikit-learn"
   ]
  },
  {
   "cell_type": "code",
   "execution_count": 420,
   "metadata": {
    "ExecuteTime": {
     "end_time": "2021-09-01T04:23:03.506746Z",
     "start_time": "2021-09-01T04:23:03.486853Z"
    }
   },
   "outputs": [],
   "source": [
    "from sklearn import linear_model\n",
    "from scipy.interpolate import LinearNDInterpolator"
   ]
  },
  {
   "cell_type": "code",
   "execution_count": 421,
   "metadata": {
    "ExecuteTime": {
     "end_time": "2021-09-01T04:23:04.051958Z",
     "start_time": "2021-09-01T04:23:04.006239Z"
    }
   },
   "outputs": [
    {
     "data": {
      "text/html": [
       "<div>\n",
       "<style scoped>\n",
       "    .dataframe tbody tr th:only-of-type {\n",
       "        vertical-align: middle;\n",
       "    }\n",
       "\n",
       "    .dataframe tbody tr th {\n",
       "        vertical-align: top;\n",
       "    }\n",
       "\n",
       "    .dataframe thead th {\n",
       "        text-align: right;\n",
       "    }\n",
       "</style>\n",
       "<table border=\"1\" class=\"dataframe\">\n",
       "  <thead>\n",
       "    <tr style=\"text-align: right;\">\n",
       "      <th></th>\n",
       "      <th>m</th>\n",
       "      <th>Delta_m</th>\n",
       "      <th>M</th>\n",
       "      <th>Delta_M</th>\n",
       "      <th>Rsq</th>\n",
       "      <th>rmse</th>\n",
       "      <th>q_min</th>\n",
       "      <th>q_max</th>\n",
       "      <th>r</th>\n",
       "      <th>kappa</th>\n",
       "      <th>D</th>\n",
       "      <th>varkappa</th>\n",
       "      <th>x0</th>\n",
       "      <th>L</th>\n",
       "      <th>force_code</th>\n",
       "      <th>neighbor</th>\n",
       "      <th>reflect</th>\n",
       "      <th>set_second</th>\n",
       "      <th>no_repulsion</th>\n",
       "      <th>no_attraction</th>\n",
       "    </tr>\n",
       "  </thead>\n",
       "  <tbody>\n",
       "    <tr>\n",
       "      <th>0</th>\n",
       "      <td>1.477497</td>\n",
       "      <td>0.017889</td>\n",
       "      <td>10.233038</td>\n",
       "      <td>0.458553</td>\n",
       "      <td>0.996691</td>\n",
       "      <td>0.254568</td>\n",
       "      <td>0.1</td>\n",
       "      <td>1.0</td>\n",
       "      <td>0.10</td>\n",
       "      <td>250</td>\n",
       "      <td>1.6</td>\n",
       "      <td>9</td>\n",
       "      <td>0</td>\n",
       "      <td>10</td>\n",
       "      <td>2</td>\n",
       "      <td>0</td>\n",
       "      <td>0</td>\n",
       "      <td>0</td>\n",
       "      <td>0</td>\n",
       "      <td>0</td>\n",
       "    </tr>\n",
       "    <tr>\n",
       "      <th>1</th>\n",
       "      <td>1.726534</td>\n",
       "      <td>0.013938</td>\n",
       "      <td>18.451423</td>\n",
       "      <td>0.663628</td>\n",
       "      <td>0.998526</td>\n",
       "      <td>0.252599</td>\n",
       "      <td>0.1</td>\n",
       "      <td>1.0</td>\n",
       "      <td>0.20</td>\n",
       "      <td>250</td>\n",
       "      <td>1.0</td>\n",
       "      <td>9</td>\n",
       "      <td>0</td>\n",
       "      <td>10</td>\n",
       "      <td>2</td>\n",
       "      <td>0</td>\n",
       "      <td>1</td>\n",
       "      <td>0</td>\n",
       "      <td>0</td>\n",
       "      <td>0</td>\n",
       "    </tr>\n",
       "    <tr>\n",
       "      <th>2</th>\n",
       "      <td>1.361442</td>\n",
       "      <td>0.010685</td>\n",
       "      <td>34.324471</td>\n",
       "      <td>1.345462</td>\n",
       "      <td>0.998607</td>\n",
       "      <td>0.557511</td>\n",
       "      <td>0.1</td>\n",
       "      <td>1.0</td>\n",
       "      <td>0.10</td>\n",
       "      <td>500</td>\n",
       "      <td>1.2</td>\n",
       "      <td>90</td>\n",
       "      <td>0</td>\n",
       "      <td>10</td>\n",
       "      <td>2</td>\n",
       "      <td>0</td>\n",
       "      <td>1</td>\n",
       "      <td>0</td>\n",
       "      <td>0</td>\n",
       "      <td>0</td>\n",
       "    </tr>\n",
       "    <tr>\n",
       "      <th>3</th>\n",
       "      <td>3.050656</td>\n",
       "      <td>0.082928</td>\n",
       "      <td>110.878921</td>\n",
       "      <td>27.313205</td>\n",
       "      <td>0.983541</td>\n",
       "      <td>8.696932</td>\n",
       "      <td>0.1</td>\n",
       "      <td>1.0</td>\n",
       "      <td>0.40</td>\n",
       "      <td>500</td>\n",
       "      <td>1.6</td>\n",
       "      <td>1</td>\n",
       "      <td>0</td>\n",
       "      <td>10</td>\n",
       "      <td>2</td>\n",
       "      <td>0</td>\n",
       "      <td>0</td>\n",
       "      <td>0</td>\n",
       "      <td>0</td>\n",
       "      <td>0</td>\n",
       "    </tr>\n",
       "    <tr>\n",
       "      <th>4</th>\n",
       "      <td>1.961670</td>\n",
       "      <td>0.014691</td>\n",
       "      <td>3.008488</td>\n",
       "      <td>0.072870</td>\n",
       "      <td>0.998732</td>\n",
       "      <td>0.053220</td>\n",
       "      <td>0.1</td>\n",
       "      <td>1.0</td>\n",
       "      <td>0.05</td>\n",
       "      <td>500</td>\n",
       "      <td>1.9</td>\n",
       "      <td>1</td>\n",
       "      <td>0</td>\n",
       "      <td>10</td>\n",
       "      <td>2</td>\n",
       "      <td>0</td>\n",
       "      <td>0</td>\n",
       "      <td>0</td>\n",
       "      <td>0</td>\n",
       "      <td>0</td>\n",
       "    </tr>\n",
       "  </tbody>\n",
       "</table>\n",
       "</div>"
      ],
      "text/plain": [
       "          m   Delta_m           M    Delta_M       Rsq      rmse  q_min  \\\n",
       "0  1.477497  0.017889   10.233038   0.458553  0.996691  0.254568    0.1   \n",
       "1  1.726534  0.013938   18.451423   0.663628  0.998526  0.252599    0.1   \n",
       "2  1.361442  0.010685   34.324471   1.345462  0.998607  0.557511    0.1   \n",
       "3  3.050656  0.082928  110.878921  27.313205  0.983541  8.696932    0.1   \n",
       "4  1.961670  0.014691    3.008488   0.072870  0.998732  0.053220    0.1   \n",
       "\n",
       "   q_max     r  kappa    D  varkappa  x0   L  force_code  neighbor  reflect  \\\n",
       "0    1.0  0.10    250  1.6         9   0  10           2         0        0   \n",
       "1    1.0  0.20    250  1.0         9   0  10           2         0        1   \n",
       "2    1.0  0.10    500  1.2        90   0  10           2         0        1   \n",
       "3    1.0  0.40    500  1.6         1   0  10           2         0        0   \n",
       "4    1.0  0.05    500  1.9         1   0  10           2         0        0   \n",
       "\n",
       "   set_second  no_repulsion  no_attraction  \n",
       "0           0             0              0  \n",
       "1           0             0              0  \n",
       "2           0             0              0  \n",
       "3           0             0              0  \n",
       "4           0             0              0  "
      ]
     },
     "execution_count": 421,
     "metadata": {},
     "output_type": "execute_result"
    }
   ],
   "source": [
    "input_fn=f\"/home/timothytyree/Documents/GitHub/bgmc/python/data/osg_output/run_15_all/powerlaw_fits_run_15_all.csv\"\n",
    "df=pd.read_csv(input_fn)\n",
    "df.head()"
   ]
  },
  {
   "cell_type": "code",
   "execution_count": 422,
   "metadata": {
    "ExecuteTime": {
     "end_time": "2021-09-01T04:23:04.895740Z",
     "start_time": "2021-09-01T04:23:04.856786Z"
    }
   },
   "outputs": [],
   "source": [
    "# df=df[df.niter==250].copy()\n",
    "#extract column values\n",
    "r_values=np.array(sorted(set(df.r.values)))#cm\n",
    "D_values=np.array(sorted(set(df.D.values)))#cm^2/s\n",
    "L_values=np.array(sorted(set(df.L.values)))#cm\n",
    "A_values=L_values**2#cm^2\n",
    "kappa_values=np.array(sorted(set(df.kappa.values)))#1/s\n",
    "varkappa_values=np.array(sorted(set(df.varkappa.values)))#1/s\n",
    "x0_values=np.array(sorted(set(df.x0.values)))#1/s\n",
    "set_second_values=np.array(sorted(set(df.set_second.values)))\n",
    "reflect_values=np.array(sorted(set(df.reflect.values)))\n",
    "no_repulsion_values=np.array(sorted(set(df.no_repulsion.values)))\n",
    "no_attraction_values=np.array(sorted(set(df.no_attraction.values)))\n",
    "neighbor_values=np.array(sorted(set(df.neighbor.values)))\n",
    "force_code_values=np.array(sorted(set(df.force_code.values)))"
   ]
  },
  {
   "cell_type": "code",
   "execution_count": 423,
   "metadata": {
    "ExecuteTime": {
     "end_time": "2021-09-01T04:23:05.504699Z",
     "start_time": "2021-09-01T04:23:05.487967Z"
    }
   },
   "outputs": [],
   "source": [
    "#TODO: make a fit of m as a function of r,kappa,D,varkappa,x0 for reflect==0\n",
    "#TODO: make a fit of M as a function of r,kappa,D,varkappa,x0 for reflect==0\n",
    "# fits to consider\n",
    "# - linear\n",
    "# - quadratic regression\n",
    "# - knn"
   ]
  },
  {
   "cell_type": "code",
   "execution_count": 424,
   "metadata": {
    "ExecuteTime": {
     "end_time": "2021-09-01T04:23:06.362953Z",
     "start_time": "2021-09-01T04:23:06.339387Z"
    }
   },
   "outputs": [
    {
     "name": "stdout",
     "output_type": "stream",
     "text": [
      "number of training examples is 2450.\n"
     ]
    }
   ],
   "source": [
    "#define constant parameters\n",
    "reflect=0\n",
    "force_code=2\n",
    "set_second=0\n",
    "neighbor=0\n",
    "no_attraction=0\n",
    "no_repulsion=0\n",
    "kappa=500\n",
    "L=10\n",
    "\n",
    "#query the DataFrame\n",
    "query =(df.set_second==set_second)&(df.reflect==reflect)\n",
    "query&=(df.no_repulsion==no_repulsion)&(df.no_attraction==no_attraction)\n",
    "query&=(df.neighbor==neighbor)&(df.force_code==force_code)\n",
    "# query&=df.r==r\n",
    "query&=df.kappa==kappa\n",
    "# query&=df.D==D\n",
    "query&=df.L==L\n",
    "# query&=df.varkappa==varkappa\n",
    "# query&=df.x0==x0\n",
    "dg=df[query]\n",
    "\n",
    "#define parameters to be varied\n",
    "input_cols=['r','D','varkappa']#,x0\n",
    "# input_cols=['r','kappa','D','varkappa']#,x0\n",
    "output_col='m'\n",
    "#inputs:dg,input_cols,output_col\n",
    "#output: fitted model\n",
    "\n",
    "Xall=dg[input_cols].values \n",
    "yall=dg[output_col].values\n",
    "X=Xall.copy()\n",
    "y=yall.copy()\n",
    "m = len(y) # number of training examples\n",
    "print(f'number of training examples is {m:d}.')"
   ]
  },
  {
   "cell_type": "code",
   "execution_count": 425,
   "metadata": {
    "ExecuteTime": {
     "end_time": "2021-09-01T04:23:07.388262Z",
     "start_time": "2021-09-01T04:23:07.372318Z"
    }
   },
   "outputs": [
    {
     "name": "stdout",
     "output_type": "stream",
     "text": [
      "X = [0.4 1.6 1. ] , y = 3.050656263179872\n",
      "X = [0.05 1.9  1.  ] , y = 1.9616701262849878\n",
      "X = [0.4 1.8 4. ] , y = 2.6786137749142624\n",
      "X = [  0.4   0.8 100. ] , y = 1.7230001377700257\n",
      "X = [0.05 1.4  0.  ] , y = 2.3158987920277783\n"
     ]
    }
   ],
   "source": [
    "# Show only first 5 records\n",
    "for i in range(5):\n",
    "    print('X =', X[i, ], ', y =', y[i])"
   ]
  },
  {
   "cell_type": "code",
   "execution_count": 426,
   "metadata": {
    "ExecuteTime": {
     "end_time": "2021-09-01T04:23:08.996356Z",
     "start_time": "2021-09-01T04:23:08.962341Z"
    }
   },
   "outputs": [],
   "source": [
    "# #ordinary least squares is not helpful...\n",
    "# model_ols =  linear_model.LinearRegression(copy_X=True, fit_intercept=True)#, n_jobs=None, normalize=True)\n",
    "# # model_ols =  linear_model.LinearRegression(normalize=True)\n",
    "# model_ols.fit(X,y)\n",
    "\n",
    "# coef = model_ols.coef_\n",
    "# intercept = model_ols.intercept_\n",
    "# print('coef= ', coef)\n",
    "# print('intercept= ', intercept)\n",
    "\n",
    "# Rsq=model_ols.score(X,y)\n",
    "# print(f\"Rsquared is {Rsq:.4f}\")\n",
    "\n",
    "# yhat=model_ols.predict(X)\n",
    "# rmse=np.sqrt(np.mean((yhat-y)**2))\n",
    "# print(f\"rmse is {rmse:.4f}\")"
   ]
  },
  {
   "cell_type": "code",
   "execution_count": 427,
   "metadata": {
    "ExecuteTime": {
     "end_time": "2021-09-01T04:23:09.757716Z",
     "start_time": "2021-09-01T04:23:09.725816Z"
    }
   },
   "outputs": [],
   "source": [
    "from scipy.interpolate import LinearNDInterpolator\n",
    "from scipy.interpolate import CloughTocher2DInterpolator"
   ]
  },
  {
   "cell_type": "code",
   "execution_count": 428,
   "metadata": {
    "ExecuteTime": {
     "end_time": "2021-09-01T04:23:10.771089Z",
     "start_time": "2021-09-01T04:23:10.285712Z"
    }
   },
   "outputs": [
    {
     "name": "stdout",
     "output_type": "stream",
     "text": [
      "the rmse of simple interpolation is 0.0000\n"
     ]
    }
   ],
   "source": [
    "interp = LinearNDInterpolator(X, y)\n",
    "# interp = CloughTocher2DInterpolator(X, y)\n",
    "yhat = interp(X)\n",
    "rmse=np.sqrt(np.mean((yhat-y)**2))\n",
    "print(f\"the rmse of simple interpolation is {rmse:.4f}\")"
   ]
  },
  {
   "cell_type": "code",
   "execution_count": 432,
   "metadata": {
    "ExecuteTime": {
     "end_time": "2021-09-01T04:25:06.279212Z",
     "start_time": "2021-09-01T04:25:06.265709Z"
    }
   },
   "outputs": [
    {
     "name": "stdout",
     "output_type": "stream",
     "text": [
      "shape of X (2450, 3) --> shape of y=yhat (2450,)\n"
     ]
    }
   ],
   "source": [
    "# yhat = interp(X)\n",
    "print(f\"shape of X {X.shape} --> shape of y=yhat {yhat.shape}\")"
   ]
  },
  {
   "cell_type": "code",
   "execution_count": null,
   "metadata": {},
   "outputs": [],
   "source": []
  },
  {
   "cell_type": "markdown",
   "metadata": {
    "heading_collapsed": true
   },
   "source": [
    "# TODO(later): visualize ^this"
   ]
  },
  {
   "cell_type": "code",
   "execution_count": null,
   "metadata": {
    "hidden": true
   },
   "outputs": [],
   "source": [
    "#TODO(for visualization): make a nice visualization using the previous method (just put a line plot of m,M versus a for several r values fixed, and an overall D value, also fixed)\n",
    "#TODO(later? for visualization): make a nice visualization using the new method"
   ]
  },
  {
   "cell_type": "code",
   "execution_count": 171,
   "metadata": {
    "ExecuteTime": {
     "end_time": "2021-08-31T22:01:28.797185Z",
     "start_time": "2021-08-31T22:01:28.763355Z"
    },
    "hidden": true
   },
   "outputs": [
    {
     "name": "stdout",
     "output_type": "stream",
     "text": [
      "2\n"
     ]
    }
   ],
   "source": [
    "#restrict to fixed reaction range\n",
    "r=0.1 #cm\n",
    "boo=Xall[:,0]==r\n",
    "X=Xall[boo,1:3].copy()\n",
    "y=yall[boo].copy()\n",
    "\n",
    "#define the local grid for visualization of N-dim interpolation\n",
    "num_cols=X.shape[1]\n",
    "xi=[]\n",
    "for i in range(num_cols):\n",
    "    x=X[:,i]\n",
    "    xi.append( np.linspace(np.min(x), np.max(x)) )\n",
    "\n",
    "XI=np.meshgrid(*xi)\n",
    "print(len(XI))\n",
    "\n",
    "x1_values=XI[0]\n",
    "x2_values=XI[1]\n",
    "\n",
    "# np.array(list(zip(XI))).shape\n",
    "gridshape=x1_values.shape\n",
    "X_values=np.array(list(zip((x1_values.flatten(),x2_values.flatten()))))[:,0,:].T\n",
    "\n",
    "\n",
    "#TODO: compute the interpolated values of y on this 2D grid\n",
    "# interp = LinearNDInterpolator(X, y)\n",
    "interp = CloughTocher2DInterpolator(X, y)\n",
    "y_values = interp(X_values).reshape(gridshape[0],gridshape[1])\n",
    "y_values.shape\n",
    "# ,X_values.shape,x1_values.shape\n",
    "# y_values.reshape?"
   ]
  },
  {
   "cell_type": "code",
   "execution_count": 252,
   "metadata": {
    "ExecuteTime": {
     "end_time": "2021-08-31T23:17:35.497582Z",
     "start_time": "2021-08-31T23:17:35.461936Z"
    },
    "hidden": true
   },
   "outputs": [],
   "source": [
    "#DONE: dev and test an inverse mapping from X_values to x1_values and x2_values\n",
    "#DONE: apply ^that same inverse mapping to y_values to ygrid_values\n",
    "import matplotlib as mpl\n"
   ]
  },
  {
   "cell_type": "code",
   "execution_count": 282,
   "metadata": {
    "ExecuteTime": {
     "end_time": "2021-09-01T00:14:33.634579Z",
     "start_time": "2021-09-01T00:14:33.613515Z"
    },
    "hidden": true,
    "scrolled": true
   },
   "outputs": [],
   "source": [
    "# x2lim=[0,20]\n",
    "# x1lim=[np.min(x1_values),np.max(x1_values)]\n",
    "# fontsize=20\n",
    "# xlabel=r'$D$ (cm$^2$/s)'\n",
    "# ylabel=r'$a$ (cm$^2$/s)'\n",
    "# vmin=1\n",
    "# vmax=3\n",
    "# cmap = mpl.cm.cool\n",
    "\n",
    "# #TODO:visualize this slice\n",
    "# fig, ax = plt.subplots(figsize=(6, 4))\n",
    "# # ax.pcolormesh(x1_values, x2_values, y_values, shading='auto')\n",
    "# ax.pcolormesh(x1_values, x2_values, y_values, vmin=vmin, vmax=vmax, cmap=cmap)\n",
    "\n",
    "\n",
    "# # #format for colorbar\n",
    "# # # fig.subplots_adjust(bottom=0.5)\n",
    "# norm = mpl.colors.Normalize(vmin=vmin, vmax=vmax)\n",
    "# fig.colorbar(mpl.cm.ScalarMappable(norm=norm, cmap=cmap),\n",
    "#              cax=ax)#, orientation='horizontal', label='exponent value')\n",
    "\n",
    "\n",
    "# ax.set_xlim(x1lim)\n",
    "# ax.set_ylim(x2lim)\n",
    "# format_plot(ax, xlabel, ylabel, fontsize)#, use_loglog=False\n",
    "# plt.show()"
   ]
  },
  {
   "cell_type": "code",
   "execution_count": 307,
   "metadata": {
    "ExecuteTime": {
     "end_time": "2021-09-01T00:30:08.226492Z",
     "start_time": "2021-09-01T00:30:07.698355Z"
    },
    "hidden": true
   },
   "outputs": [
    {
     "data": {
      "image/png": "[encoded data removed]",
      "text/plain": [
       "<Figure size 1152x1008 with 6 Axes>"
      ]
     },
     "metadata": {
      "needs_background": "light"
     },
     "output_type": "display_data"
    }
   ],
   "source": [
    "x2lim=[0,20]\n",
    "x1lim=[0.7,2]#[np.min(x1_values),np.max(x1_values)]\n",
    "# x1lim=[np.min(x1_values),np.max(x1_values)]\n",
    "fontsize=15\n",
    "xlabel=r'$D$ (cm$^2$/s)'\n",
    "ylabel=r'$a$ (cm$^2$/s)'\n",
    "cmap = mpl.cm.cool\n",
    "\n",
    "#TODO: compute the interpolated m (left) and the interpolated M (right) for each pixel.\n",
    "#HINT: if col==0: # then, get fitted m values\n",
    "#HINT: if col==1: # then, get fitted M values\n",
    "\n",
    "\n",
    "#define parameters to be varied\n",
    "input_cols=['r','D','varkappa']#,x0\n",
    "# input_cols=['r','kappa','D','varkappa']#,x0\n",
    "# output_col='m'\n",
    "#inputs:dg,input_cols,output_col\n",
    "#output: fitted model\n",
    "\n",
    "Xall=dg[input_cols].values \n",
    "\n",
    "#columnal kwargs\n",
    "vmin_lst=[1,0]\n",
    "vmax_lst=[3,30]\n",
    "output_col_lst=['m','M']\n",
    "#kwargs by row\n",
    "r_lst=[0.1,0.2]\n",
    "fig, axs = plt.subplots(2, len(r_lst), figsize=(16,14))\n",
    "cmaps = ['RdBu_r', 'viridis']\n",
    "for col in range(2):\n",
    "    #extract target output value to fit to\n",
    "    output_col=output_col_lst[col]\n",
    "    yall=dg[output_col].values\n",
    "    for row in range(2):\n",
    "        #restrict to fixed reaction range\n",
    "        r=r_lst[row]\n",
    "        boo=Xall[:,0]==r\n",
    "        X=Xall[boo,1:3].copy()  #make the x,y axis the 2nd and 3rd columns of X\n",
    "        y=yall[boo].copy()\n",
    "        #TODO: compute the m,M fits\n",
    "        #TODO: compute the interpolated values of y on this 2D grid\n",
    "        # interp = LinearNDInterpolator(X, y)\n",
    "        interp = CloughTocher2DInterpolator(X, y)\n",
    "\n",
    "        #define the local grid for visualization of N-dim interpolation\n",
    "        num_cols=X.shape[1]\n",
    "        xi=[]\n",
    "        for i in range(num_cols):\n",
    "            x=X[:,i]\n",
    "            xi.append( np.linspace(np.min(x), np.max(x)) )\n",
    "        XI=np.meshgrid(*xi)\n",
    "        x1_values=XI[0]\n",
    "        x2_values=XI[1]\n",
    "\n",
    "        # np.array(list(zip(XI))).shape\n",
    "        gridshape=x1_values.shape\n",
    "        X_values =np.array(list(zip((x1_values.flatten(),x2_values.flatten()))))[:,0,:].T\n",
    "        y_values = interp(X_values).reshape(gridshape[0],gridshape[1]) \n",
    "        \n",
    "        ax = axs[row, col]\n",
    "        vmin=vmin_lst[col]\n",
    "        vmax=vmax_lst[col]\n",
    "        pcm=ax.pcolormesh(x1_values, x2_values, y_values, vmin=vmin, vmax=vmax, cmap=cmaps[col])\n",
    "        \n",
    "        \n",
    "        ax.set_xlim(x1lim)\n",
    "        ax.set_ylim(x2lim)\n",
    "        ax.set_title(f'r = {r:.1f} cm',fontsize=fontsize)\n",
    "        format_plot(ax, xlabel, ylabel, fontsize)#, use_loglog=False\n",
    "        \n",
    "#     fig.colorbar(pcm, ax=[axs[0, col]], location='top', shrink=0.6)\n",
    "    cbar=fig.colorbar(pcm, ax=axs[:, col],shrink=0.6)#,label=output_col)\n",
    "    cbar.ax.tick_params(labelsize=fontsize)\n",
    "    cbar.set_label(output_col, fontsize=fontsize)    \n",
    "# plt.tight_layout()\n",
    "plt.show()"
   ]
  },
  {
   "cell_type": "code",
   "execution_count": 306,
   "metadata": {
    "ExecuteTime": {
     "end_time": "2021-09-01T00:29:21.735610Z",
     "start_time": "2021-09-01T00:29:21.722316Z"
    },
    "hidden": true
   },
   "outputs": [],
   "source": [
    "#TODO(for visualization): make a nice visualization using the previous method (just put a line plot of m,M versus a for several r values fixed, and an overall D value, also fixed)\n",
    "#TODO(later? for visualization): make a nice visualization using the new method \n"
   ]
  },
  {
   "cell_type": "markdown",
   "metadata": {},
   "source": [
    "# TODO(for concrete results): compute a reasonable set of r,D,a values for the m,M corresponding to the full models"
   ]
  },
  {
   "cell_type": "code",
   "execution_count": 326,
   "metadata": {
    "ExecuteTime": {
     "end_time": "2021-09-01T01:20:05.174798Z",
     "start_time": "2021-09-01T01:20:05.140219Z"
    }
   },
   "outputs": [],
   "source": [
    "# # interp.tri?\n",
    "# # Examples\n",
    "# # --------\n",
    "# # Triangulation of a set of points:\n",
    "\n",
    "# points = np.array([[0, 0], [0, 1.1], [1, 0], [1, 1]])\n",
    "# from scipy.spatial import Delaunay\n",
    "# tri = Delaunay(points)\n",
    "\n",
    "# # We can plot it:\n",
    "\n",
    "# import matplotlib.pyplot as plt\n",
    "# plt.triplot(points[:,0], points[:,1], tri.simplices)\n",
    "# plt.plot(points[:,0], points[:,1], 'o')\n",
    "# plt.show()"
   ]
  },
  {
   "cell_type": "code",
   "execution_count": 328,
   "metadata": {
    "ExecuteTime": {
     "end_time": "2021-09-01T01:20:10.558964Z",
     "start_time": "2021-09-01T01:20:10.546574Z"
    }
   },
   "outputs": [],
   "source": [
    "# # Point indices and coordinates for the two triangles forming the triangulation:\n",
    "# print(tri.simplices)\n",
    "\n",
    "# # Note that depending on how rounding errors go, the simplices may\n",
    "# # be in a different order than above.\n",
    "# print(points[tri.simplices])\n",
    "# # Triangle 0 is the only neighbor of triangle 1, and it's opposite to vertex 1 of triangle 1:\n",
    "\n",
    "# print((tri.neighbors[1],points[tri.simplices[1,1]]))\n",
    "\n",
    "# # We can find out which triangle points are in:\n",
    "\n",
    "# p = np.array([(0.1, 0.2), (1.5, 0.5), (0.5, 1.05)])\n",
    "# print(tri.find_simplex(p))\n",
    "# # The returned integers in the array are the indices of the simplex the\n",
    "# # corresponding point is in. If -1 is returned, the point is in no simplex.\n",
    "# # Be aware that the shortcut in the following example only works corretcly\n",
    "# # for valid points as invalid points result in -1 which is itself a valid\n",
    "# # index for the last simplex in the list.\n",
    "\n",
    "# p_valids = np.array([(0.1, 0.2), (0.5, 1.05)])\n",
    "# tri.simplices[tri.find_simplex(p_valids)]\n",
    "\n",
    "# # We can also compute barycentric coordinates in triangle 1 for these points:\n",
    "\n",
    "# b = tri.transform[1,:2].dot(np.transpose(p - tri.transform[1,2]))\n",
    "# np.c_[np.transpose(b), 1 - b.sum(axis=0)]\n",
    "\n",
    "# # The coordinates for the first point are all positive, meaning it\n",
    "# # is indeed inside the triangle. The third point is on a vertex,\n",
    "# # hence its null third coordinate."
   ]
  },
  {
   "cell_type": "code",
   "execution_count": 437,
   "metadata": {
    "ExecuteTime": {
     "end_time": "2021-09-01T04:28:40.303635Z",
     "start_time": "2021-09-01T04:28:40.263874Z"
    }
   },
   "outputs": [],
   "source": [
    "# Recall powerlaw fits to full models\n",
    "# Fenton-Karma(PBC) \n",
    "m, Delta_m, M, Delta_M = 1.8772341309722325, 0.02498750277237229, 5.572315674840435, 0.3053120355191732\n",
    "# Luo-Rudy(PBC) \n",
    "m, Delta_m, M, Delta_M = 1.6375562704001745, 0.017190912126700632, 16.73559858353835, 0.8465090320196467\n",
    "\n",
    "# # Fenton-Karma(NCBC) \n",
    "# m, Delta_m, M, Delta_M = 1.854156794480594, 0.02503190538288011, 7.135532649256895, 0.4548432215549294\n",
    "# # Luo-Rudy(NCBC) \n",
    "# m, Delta_m, M, Delta_M = 1.6611400039209043, 0.02740424198712116, 16.75061667963681, 1.3110747548319708\n",
    "\n",
    "#TODO: find the values closest to m\n",
    "ytrgt=M\n",
    "k=20\n",
    "input_cols=['r','kappa', 'D', 'varkappa']\n",
    "output_col='m'"
   ]
  },
  {
   "cell_type": "code",
   "execution_count": 436,
   "metadata": {
    "ExecuteTime": {
     "end_time": "2021-09-01T04:26:42.595372Z",
     "start_time": "2021-09-01T04:26:42.543459Z"
    }
   },
   "outputs": [
    {
     "name": "stdout",
     "output_type": "stream",
     "text": [
      "the number of training examples is 2450\n"
     ]
    },
    {
     "ename": "QhullError",
     "evalue": "QH6154 Qhull precision error: Initial simplex is flat (facet 1 is coplanar with the interior point)\n\nWhile executing:  | qhull d Qc Qt Q12 Qbb Qz\nOptions selected for Qhull 2019.1.r 2019/06/21:\n  run-id 1424710694  delaunay  Qcoplanar-keep  Qtriangulate  Q12-allow-wide\n  Qbbound-last  Qz-infinity-point  _pre-merge  _zero-centrum  Qinterior-keep\n  Pgood  _max-width 1.1e+02  Error-roundoff 1.4e-12  _one-merge 1.5e-11\n  Visible-distance 8.2e-12  U-max-coplanar 8.2e-12  Width-outside 1.6e-11\n  _wide-facet 4.9e-11  _maxoutside 1.6e-11\n\nprecision problems (corrected unless 'Q0' or an error)\n      6 nearly singular or axis-parallel hyperplanes\n      6 zero divisors during back substitute\n   4899 zero divisors during gaussian elimination\n\nThe input to qhull appears to be less than 5 dimensional, or a\ncomputation has overflowed.\n\nQhull could not construct a clearly convex simplex from points:\n- p4(v6):  0.05 5e+02   1.4     0 0.019\n- p12(v5):   0.4 5e+02     2     6  0.52\n- p22(v4):   0.1 5e+02   0.7     2 0.052\n- p0(v3):   0.4 5e+02   1.6     1 0.042\n- p26(v2):   0.5 5e+02   0.9    50    33\n- p1(v1):  0.05 5e+02   1.9     1 0.054\n\nThe center point is coplanar with a facet, or a vertex is coplanar\nwith a neighboring facet.  The maximum round off error for\ncomputing distances is 1.4e-12.  The center point, facets and distances\nto the center point are as follows:\n\ncenter point     0.25      500    1.417       10    5.553\n\nfacet p12 p22 p0 p26 p1 distance=    0\nfacet p4 p22 p0 p26 p1 distance=    0\nfacet p4 p12 p0 p26 p1 distance=    0\nfacet p4 p12 p22 p26 p1 distance=    0\nfacet p4 p12 p22 p0 p1 distance=    0\nfacet p4 p12 p22 p0 p26 distance=    0\n\nThese points either have a maximum or minimum x-coordinate, or\nthey maximize the determinant for k coordinates.  Trial points\nare first selected from points that maximize a coordinate.\n\nThe min and max coordinates for each dimension are:\n  0:      0.05       0.5  difference= 0.45\n  1:       500       500  difference=    0\n  2:       0.7         2  difference=  1.3\n  3:         0       110  difference=  110\n  4:         0       500  difference=  500\n\nIf the input should be full dimensional, you have several options that\nmay determine an initial simplex:\n  - use 'QJ'  to joggle the input and make it full dimensional\n  - use 'QbB' to scale the points to the unit cube\n  - use 'QR0' to randomly rotate the input for different maximum points\n  - use 'Qs'  to search all points for the initial simplex\n  - use 'En'  to specify a maximum roundoff error less than 1.4e-12.\n  - trace execution with 'T3' to see the determinant for each point.\n\nIf the input is lower dimensional:\n  - use 'QJ' to joggle the input and make it full dimensional\n  - use 'Qbk:0Bk:0' to delete coordinate k from the input.  You should\n    pick the coordinate with the least range.  The hull will have the\n    correct topology.\n  - determine the flat containing the points, rotate the points\n    into a coordinate plane, and delete the other coordinates.\n  - add one or more points to make the input full dimensional.\n",
     "output_type": "error",
     "traceback": [
      "\u001b[0;31m---------------------------------------------------------------------------\u001b[0m",
      "\u001b[0;31mQhullError\u001b[0m                                Traceback (most recent call last)",
      "\u001b[0;32m<ipython-input-436-9a7e7ff11f8c>\u001b[0m in \u001b[0;36m<module>\u001b[0;34m\u001b[0m\n\u001b[1;32m     36\u001b[0m \u001b[0;32mtry\u001b[0m\u001b[0;34m:\u001b[0m\u001b[0;34m\u001b[0m\u001b[0;34m\u001b[0m\u001b[0m\n\u001b[0;32m---> 37\u001b[0;31m     \u001b[0minterp\u001b[0m \u001b[0;34m=\u001b[0m \u001b[0mLinearNDInterpolator\u001b[0m\u001b[0;34m(\u001b[0m\u001b[0mX\u001b[0m\u001b[0;34m,\u001b[0m \u001b[0my\u001b[0m\u001b[0;34m)\u001b[0m\u001b[0;34m\u001b[0m\u001b[0;34m\u001b[0m\u001b[0m\n\u001b[0m\u001b[1;32m     38\u001b[0m     \u001b[0myhat\u001b[0m \u001b[0;34m=\u001b[0m \u001b[0minterp\u001b[0m\u001b[0;34m(\u001b[0m\u001b[0mX\u001b[0m\u001b[0;34m)\u001b[0m\u001b[0;34m\u001b[0m\u001b[0;34m\u001b[0m\u001b[0m\n",
      "\u001b[0;32minterpnd.pyx\u001b[0m in \u001b[0;36mscipy.interpolate.interpnd.LinearNDInterpolator.__init__\u001b[0;34m()\u001b[0m\n",
      "\u001b[0;32mqhull.pyx\u001b[0m in \u001b[0;36mscipy.spatial.qhull.Delaunay.__init__\u001b[0;34m()\u001b[0m\n",
      "\u001b[0;32mqhull.pyx\u001b[0m in \u001b[0;36mscipy.spatial.qhull._Qhull.__init__\u001b[0;34m()\u001b[0m\n",
      "\u001b[0;31mQhullError\u001b[0m: QH6154 Qhull precision error: Initial simplex is flat (facet 1 is coplanar with the interior point)\n\nWhile executing:  | qhull d Qc Qt Q12 Qbb Qz\nOptions selected for Qhull 2019.1.r 2019/06/21:\n  run-id 1424710694  delaunay  Qcoplanar-keep  Qtriangulate  Q12-allow-wide\n  Qbbound-last  Qz-infinity-point  _pre-merge  _zero-centrum  Qinterior-keep\n  Pgood  _max-width 1.1e+02  Error-roundoff 1.4e-12  _one-merge 1.5e-11\n  Visible-distance 8.2e-12  U-max-coplanar 8.2e-12  Width-outside 1.6e-11\n  _wide-facet 4.9e-11  _maxoutside 1.6e-11\n\nprecision problems (corrected unless 'Q0' or an error)\n      6 nearly singular or axis-parallel hyperplanes\n      6 zero divisors during back substitute\n   4899 zero divisors during gaussian elimination\n\nThe input to qhull appears to be less than 5 dimensional, or a\ncomputation has overflowed.\n\nQhull could not construct a clearly convex simplex from points:\n- p4(v6):  0.05 5e+02   1.4     0 0.019\n- p12(v5):   0.4 5e+02     2     6  0.52\n- p22(v4):   0.1 5e+02   0.7     2 0.052\n- p0(v3):   0.4 5e+02   1.6     1 0.042\n- p26(v2):   0.5 5e+02   0.9    50    33\n- p1(v1):  0.05 5e+02   1.9     1 0.054\n\nThe center point is coplanar with a facet, or a vertex is coplanar\nwith a neighboring facet.  The maximum round off error for\ncomputing distances is 1.4e-12.  The center point, facets and distances\nto the center point are as follows:\n\ncenter point     0.25      500    1.417       10    5.553\n\nfacet p12 p22 p0 p26 p1 distance=    0\nfacet p4 p22 p0 p26 p1 distance=    0\nfacet p4 p12 p0 p26 p1 distance=    0\nfacet p4 p12 p22 p26 p1 distance=    0\nfacet p4 p12 p22 p0 p1 distance=    0\nfacet p4 p12 p22 p0 p26 distance=    0\n\nThese points either have a maximum or minimum x-coordinate, or\nthey maximize the determinant for k coordinates.  Trial points\nare first selected from points that maximize a coordinate.\n\nThe min and max coordinates for each dimension are:\n  0:      0.05       0.5  difference= 0.45\n  1:       500       500  difference=    0\n  2:       0.7         2  difference=  1.3\n  3:         0       110  difference=  110\n  4:         0       500  difference=  500\n\nIf the input should be full dimensional, you have several options that\nmay determine an initial simplex:\n  - use 'QJ'  to joggle the input and make it full dimensional\n  - use 'QbB' to scale the points to the unit cube\n  - use 'QR0' to randomly rotate the input for different maximum points\n  - use 'Qs'  to search all points for the initial simplex\n  - use 'En'  to specify a maximum roundoff error less than 1.4e-12.\n  - trace execution with 'T3' to see the determinant for each point.\n\nIf the input is lower dimensional:\n  - use 'QJ' to joggle the input and make it full dimensional\n  - use 'Qbk:0Bk:0' to delete coordinate k from the input.  You should\n    pick the coordinate with the least range.  The hull will have the\n    correct topology.\n  - determine the flat containing the points, rotate the points\n    into a coordinate plane, and delete the other coordinates.\n  - add one or more points to make the input full dimensional.\n",
      "\nDuring handling of the above exception, another exception occurred:\n",
      "\u001b[0;31mQhullError\u001b[0m                                Traceback (most recent call last)",
      "\u001b[0;32m<ipython-input-436-9a7e7ff11f8c>\u001b[0m in \u001b[0;36m<module>\u001b[0;34m\u001b[0m\n\u001b[1;32m     40\u001b[0m \u001b[0;32mexcept\u001b[0m \u001b[0mException\u001b[0m \u001b[0;32mas\u001b[0m \u001b[0me\u001b[0m\u001b[0;34m:\u001b[0m\u001b[0;34m\u001b[0m\u001b[0;34m\u001b[0m\u001b[0m\n\u001b[1;32m     41\u001b[0m     \u001b[0;31m#print('Warning: '+e) #QhullError...\u001b[0m\u001b[0;34m\u001b[0m\u001b[0;34m\u001b[0m\u001b[0;34m\u001b[0m\u001b[0m\n\u001b[0;32m---> 42\u001b[0;31m     \u001b[0minterp\u001b[0m \u001b[0;34m=\u001b[0m \u001b[0mLinearNDInterpolator\u001b[0m\u001b[0;34m(\u001b[0m\u001b[0mX\u001b[0m\u001b[0;34m,\u001b[0m \u001b[0my\u001b[0m\u001b[0;34m)\u001b[0m\u001b[0;34m\u001b[0m\u001b[0;34m\u001b[0m\u001b[0m\n\u001b[0m\u001b[1;32m     43\u001b[0m     \u001b[0myhat\u001b[0m \u001b[0;34m=\u001b[0m \u001b[0minterp\u001b[0m\u001b[0;34m(\u001b[0m\u001b[0mX\u001b[0m\u001b[0;34m)\u001b[0m\u001b[0;34m\u001b[0m\u001b[0;34m\u001b[0m\u001b[0m\n\u001b[1;32m     44\u001b[0m     \u001b[0mrmse\u001b[0m\u001b[0;34m=\u001b[0m\u001b[0mnp\u001b[0m\u001b[0;34m.\u001b[0m\u001b[0msqrt\u001b[0m\u001b[0;34m(\u001b[0m\u001b[0mnp\u001b[0m\u001b[0;34m.\u001b[0m\u001b[0mmean\u001b[0m\u001b[0;34m(\u001b[0m\u001b[0;34m(\u001b[0m\u001b[0myhat\u001b[0m\u001b[0;34m-\u001b[0m\u001b[0my\u001b[0m\u001b[0;34m)\u001b[0m\u001b[0;34m**\u001b[0m\u001b[0;36m2\u001b[0m\u001b[0;34m)\u001b[0m\u001b[0;34m)\u001b[0m\u001b[0;34m\u001b[0m\u001b[0;34m\u001b[0m\u001b[0m\n",
      "\u001b[0;32minterpnd.pyx\u001b[0m in \u001b[0;36mscipy.interpolate.interpnd.LinearNDInterpolator.__init__\u001b[0;34m()\u001b[0m\n",
      "\u001b[0;32mqhull.pyx\u001b[0m in \u001b[0;36mscipy.spatial.qhull.Delaunay.__init__\u001b[0;34m()\u001b[0m\n",
      "\u001b[0;32mqhull.pyx\u001b[0m in \u001b[0;36mscipy.spatial.qhull._Qhull.__init__\u001b[0;34m()\u001b[0m\n",
      "\u001b[0;31mQhullError\u001b[0m: QH6154 Qhull precision error: Initial simplex is flat (facet 1 is coplanar with the interior point)\n\nWhile executing:  | qhull d Qc Qt Q12 Qbb Qz\nOptions selected for Qhull 2019.1.r 2019/06/21:\n  run-id 1424710694  delaunay  Qcoplanar-keep  Qtriangulate  Q12-allow-wide\n  Qbbound-last  Qz-infinity-point  _pre-merge  _zero-centrum  Qinterior-keep\n  Pgood  _max-width 1.1e+02  Error-roundoff 1.4e-12  _one-merge 1.5e-11\n  Visible-distance 8.2e-12  U-max-coplanar 8.2e-12  Width-outside 1.6e-11\n  _wide-facet 4.9e-11  _maxoutside 1.6e-11\n\nprecision problems (corrected unless 'Q0' or an error)\n      6 nearly singular or axis-parallel hyperplanes\n      6 zero divisors during back substitute\n   4899 zero divisors during gaussian elimination\n\nThe input to qhull appears to be less than 5 dimensional, or a\ncomputation has overflowed.\n\nQhull could not construct a clearly convex simplex from points:\n- p4(v6):  0.05 5e+02   1.4     0 0.019\n- p12(v5):   0.4 5e+02     2     6  0.52\n- p22(v4):   0.1 5e+02   0.7     2 0.052\n- p0(v3):   0.4 5e+02   1.6     1 0.042\n- p26(v2):   0.5 5e+02   0.9    50    33\n- p1(v1):  0.05 5e+02   1.9     1 0.054\n\nThe center point is coplanar with a facet, or a vertex is coplanar\nwith a neighboring facet.  The maximum round off error for\ncomputing distances is 1.4e-12.  The center point, facets and distances\nto the center point are as follows:\n\ncenter point     0.25      500    1.417       10    5.553\n\nfacet p12 p22 p0 p26 p1 distance=    0\nfacet p4 p22 p0 p26 p1 distance=    0\nfacet p4 p12 p0 p26 p1 distance=    0\nfacet p4 p12 p22 p26 p1 distance=    0\nfacet p4 p12 p22 p0 p1 distance=    0\nfacet p4 p12 p22 p0 p26 distance=    0\n\nThese points either have a maximum or minimum x-coordinate, or\nthey maximize the determinant for k coordinates.  Trial points\nare first selected from points that maximize a coordinate.\n\nThe min and max coordinates for each dimension are:\n  0:      0.05       0.5  difference= 0.45\n  1:       500       500  difference=    0\n  2:       0.7         2  difference=  1.3\n  3:         0       110  difference=  110\n  4:         0       500  difference=  500\n\nIf the input should be full dimensional, you have several options that\nmay determine an initial simplex:\n  - use 'QJ'  to joggle the input and make it full dimensional\n  - use 'QbB' to scale the points to the unit cube\n  - use 'QR0' to randomly rotate the input for different maximum points\n  - use 'Qs'  to search all points for the initial simplex\n  - use 'En'  to specify a maximum roundoff error less than 1.4e-12.\n  - trace execution with 'T3' to see the determinant for each point.\n\nIf the input is lower dimensional:\n  - use 'QJ' to joggle the input and make it full dimensional\n  - use 'Qbk:0Bk:0' to delete coordinate k from the input.  You should\n    pick the coordinate with the least range.  The hull will have the\n    correct topology.\n  - determine the flat containing the points, rotate the points\n    into a coordinate plane, and delete the other coordinates.\n  - add one or more points to make the input full dimensional.\n"
     ]
    }
   ],
   "source": [
    "#define constant parameters\n",
    "reflect=0\n",
    "force_code=2\n",
    "set_second=0\n",
    "neighbor=0\n",
    "no_attraction=0\n",
    "no_repulsion=0\n",
    "kappa=500\n",
    "L=10\n",
    "\n",
    "#query the DataFrame\n",
    "query =(df.set_second==set_second)&(df.reflect==reflect)\n",
    "query&=(df.no_repulsion==no_repulsion)&(df.no_attraction==no_attraction)\n",
    "query&=(df.neighbor==neighbor)&(df.force_code==force_code)\n",
    "# query&=df.r==r\n",
    "query&=df.kappa==kappa\n",
    "# query&=df.D==D\n",
    "query&=df.L==L\n",
    "# query&=df.varkappa==varkappa\n",
    "# query&=df.x0==x0\n",
    "dg=df[query]\n",
    "\n",
    "#define parameters to be varied\n",
    "# input_cols=['r','D','varkappa']#,x0\n",
    "# input_cols=['r','kappa','D','varkappa']#,x0\n",
    "\n",
    "#inputs:dg,input_cols,output_col\n",
    "#output: fitted model\n",
    "\n",
    "Xall=dg[input_cols].values \n",
    "yall=dg[output_col].values\n",
    "X=Xall.copy()\n",
    "y=yall.copy()\n",
    "m = len(y) # number of training examples\n",
    "print(f'the number of training examples is {m:d}')\n",
    "try:\n",
    "    interp = LinearNDInterpolator(X, y)\n",
    "    yhat = interp(X)\n",
    "    rmse=np.sqrt(np.mean((yhat-y)**2))\n",
    "except Exception as e:\n",
    "    #print('Warning: '+e) #QhullError...\n",
    "    interp = LinearNDInterpolator(X, y)\n",
    "    yhat = interp(X)\n",
    "    rmse=np.sqrt(np.mean((yhat-y)**2))\n",
    "# # interp = CloughTocher2DInterpolator(X, y)\n",
    "# yhat = interp(X)\n",
    "# rmse=np.sqrt(np.mean((yhat-y)**2))\n",
    "print(f\"the rmse of ordinairy interpolation is {rmse:.4f}\")\n",
    "\n",
    "# #forked from:\n",
    "# interp = LinearNDInterpolator(X, y)\n",
    "# # interp = CloughTocher2DInterpolator(X, y)\n",
    "# yhat = interp(X)\n",
    "# rmse=np.sqrt(np.mean((yhat-y)**2))\n",
    "# print(f\"the rmse of simple interpolation is {rmse:.4f}\")"
   ]
  },
  {
   "cell_type": "code",
   "execution_count": 397,
   "metadata": {
    "ExecuteTime": {
     "end_time": "2021-09-01T04:17:31.646380Z",
     "start_time": "2021-09-01T04:17:31.632267Z"
    }
   },
   "outputs": [
    {
     "data": {
      "text/plain": [
       "0       1.477497\n",
       "1       1.726534\n",
       "2       1.361442\n",
       "3       3.050656\n",
       "4       1.961670\n",
       "          ...   \n",
       "9785    1.367459\n",
       "9786    1.394982\n",
       "9787    1.423513\n",
       "9788    2.017669\n",
       "9789    1.273696\n",
       "Name: m, Length: 9790, dtype: float64"
      ]
     },
     "execution_count": 397,
     "metadata": {},
     "output_type": "execute_result"
    }
   ],
   "source": [
    "df[output_col]"
   ]
  },
  {
   "cell_type": "code",
   "execution_count": 398,
   "metadata": {
    "ExecuteTime": {
     "end_time": "2021-09-01T04:17:32.172387Z",
     "start_time": "2021-09-01T04:17:32.143980Z"
    }
   },
   "outputs": [
    {
     "name": "stdout",
     "output_type": "stream",
     "text": [
      "printing the 5 indices closest to 16.73559858353835\n"
     ]
    },
    {
     "data": {
      "text/html": [
       "<div>\n",
       "<style scoped>\n",
       "    .dataframe tbody tr th:only-of-type {\n",
       "        vertical-align: middle;\n",
       "    }\n",
       "\n",
       "    .dataframe tbody tr th {\n",
       "        vertical-align: top;\n",
       "    }\n",
       "\n",
       "    .dataframe thead th {\n",
       "        text-align: right;\n",
       "    }\n",
       "</style>\n",
       "<table border=\"1\" class=\"dataframe\">\n",
       "  <thead>\n",
       "    <tr style=\"text-align: right;\">\n",
       "      <th></th>\n",
       "      <th>m</th>\n",
       "      <th>Delta_m</th>\n",
       "      <th>M</th>\n",
       "      <th>Delta_M</th>\n",
       "      <th>Rsq</th>\n",
       "      <th>rmse</th>\n",
       "      <th>q_min</th>\n",
       "      <th>q_max</th>\n",
       "      <th>r</th>\n",
       "      <th>kappa</th>\n",
       "      <th>D</th>\n",
       "      <th>varkappa</th>\n",
       "      <th>x0</th>\n",
       "      <th>L</th>\n",
       "      <th>force_code</th>\n",
       "      <th>neighbor</th>\n",
       "      <th>reflect</th>\n",
       "      <th>set_second</th>\n",
       "      <th>no_repulsion</th>\n",
       "      <th>no_attraction</th>\n",
       "    </tr>\n",
       "  </thead>\n",
       "  <tbody>\n",
       "    <tr>\n",
       "      <th>7876</th>\n",
       "      <td>3.704631</td>\n",
       "      <td>0.129738</td>\n",
       "      <td>113.284370</td>\n",
       "      <td>42.670525</td>\n",
       "      <td>0.972976</td>\n",
       "      <td>11.654004</td>\n",
       "      <td>0.1</td>\n",
       "      <td>1.0</td>\n",
       "      <td>0.4</td>\n",
       "      <td>500</td>\n",
       "      <td>0.7</td>\n",
       "      <td>0</td>\n",
       "      <td>0</td>\n",
       "      <td>10</td>\n",
       "      <td>2</td>\n",
       "      <td>0</td>\n",
       "      <td>1</td>\n",
       "      <td>0</td>\n",
       "      <td>0</td>\n",
       "      <td>0</td>\n",
       "    </tr>\n",
       "    <tr>\n",
       "      <th>9716</th>\n",
       "      <td>3.687513</td>\n",
       "      <td>0.077974</td>\n",
       "      <td>66.923404</td>\n",
       "      <td>14.514080</td>\n",
       "      <td>0.989975</td>\n",
       "      <td>4.409222</td>\n",
       "      <td>0.1</td>\n",
       "      <td>1.0</td>\n",
       "      <td>0.3</td>\n",
       "      <td>500</td>\n",
       "      <td>0.7</td>\n",
       "      <td>0</td>\n",
       "      <td>0</td>\n",
       "      <td>10</td>\n",
       "      <td>2</td>\n",
       "      <td>0</td>\n",
       "      <td>1</td>\n",
       "      <td>0</td>\n",
       "      <td>0</td>\n",
       "      <td>0</td>\n",
       "    </tr>\n",
       "    <tr>\n",
       "      <th>6976</th>\n",
       "      <td>3.643788</td>\n",
       "      <td>0.078303</td>\n",
       "      <td>68.932836</td>\n",
       "      <td>15.323308</td>\n",
       "      <td>0.989650</td>\n",
       "      <td>4.748950</td>\n",
       "      <td>0.1</td>\n",
       "      <td>1.0</td>\n",
       "      <td>0.3</td>\n",
       "      <td>500</td>\n",
       "      <td>0.7</td>\n",
       "      <td>0</td>\n",
       "      <td>0</td>\n",
       "      <td>10</td>\n",
       "      <td>2</td>\n",
       "      <td>0</td>\n",
       "      <td>0</td>\n",
       "      <td>0</td>\n",
       "      <td>0</td>\n",
       "      <td>0</td>\n",
       "    </tr>\n",
       "    <tr>\n",
       "      <th>3507</th>\n",
       "      <td>3.629814</td>\n",
       "      <td>0.074804</td>\n",
       "      <td>67.008355</td>\n",
       "      <td>13.880472</td>\n",
       "      <td>0.990474</td>\n",
       "      <td>4.265267</td>\n",
       "      <td>0.1</td>\n",
       "      <td>1.0</td>\n",
       "      <td>0.3</td>\n",
       "      <td>500</td>\n",
       "      <td>0.8</td>\n",
       "      <td>0</td>\n",
       "      <td>0</td>\n",
       "      <td>10</td>\n",
       "      <td>2</td>\n",
       "      <td>0</td>\n",
       "      <td>1</td>\n",
       "      <td>0</td>\n",
       "      <td>0</td>\n",
       "      <td>0</td>\n",
       "    </tr>\n",
       "    <tr>\n",
       "      <th>6712</th>\n",
       "      <td>3.621501</td>\n",
       "      <td>0.123402</td>\n",
       "      <td>116.287049</td>\n",
       "      <td>42.143416</td>\n",
       "      <td>0.974379</td>\n",
       "      <td>11.760432</td>\n",
       "      <td>0.1</td>\n",
       "      <td>1.0</td>\n",
       "      <td>0.4</td>\n",
       "      <td>500</td>\n",
       "      <td>0.7</td>\n",
       "      <td>0</td>\n",
       "      <td>0</td>\n",
       "      <td>10</td>\n",
       "      <td>2</td>\n",
       "      <td>0</td>\n",
       "      <td>0</td>\n",
       "      <td>0</td>\n",
       "      <td>0</td>\n",
       "      <td>0</td>\n",
       "    </tr>\n",
       "    <tr>\n",
       "      <th>3561</th>\n",
       "      <td>3.612594</td>\n",
       "      <td>0.124107</td>\n",
       "      <td>110.794638</td>\n",
       "      <td>39.655037</td>\n",
       "      <td>0.973968</td>\n",
       "      <td>11.233757</td>\n",
       "      <td>0.1</td>\n",
       "      <td>1.0</td>\n",
       "      <td>0.4</td>\n",
       "      <td>500</td>\n",
       "      <td>0.8</td>\n",
       "      <td>0</td>\n",
       "      <td>0</td>\n",
       "      <td>10</td>\n",
       "      <td>2</td>\n",
       "      <td>0</td>\n",
       "      <td>1</td>\n",
       "      <td>0</td>\n",
       "      <td>0</td>\n",
       "      <td>0</td>\n",
       "    </tr>\n",
       "  </tbody>\n",
       "</table>\n",
       "</div>"
      ],
      "text/plain": [
       "             m   Delta_m           M    Delta_M       Rsq       rmse  q_min  \\\n",
       "7876  3.704631  0.129738  113.284370  42.670525  0.972976  11.654004    0.1   \n",
       "9716  3.687513  0.077974   66.923404  14.514080  0.989975   4.409222    0.1   \n",
       "6976  3.643788  0.078303   68.932836  15.323308  0.989650   4.748950    0.1   \n",
       "3507  3.629814  0.074804   67.008355  13.880472  0.990474   4.265267    0.1   \n",
       "6712  3.621501  0.123402  116.287049  42.143416  0.974379  11.760432    0.1   \n",
       "3561  3.612594  0.124107  110.794638  39.655037  0.973968  11.233757    0.1   \n",
       "\n",
       "      q_max    r  kappa    D  varkappa  x0   L  force_code  neighbor  reflect  \\\n",
       "7876    1.0  0.4    500  0.7         0   0  10           2         0        1   \n",
       "9716    1.0  0.3    500  0.7         0   0  10           2         0        1   \n",
       "6976    1.0  0.3    500  0.7         0   0  10           2         0        0   \n",
       "3507    1.0  0.3    500  0.8         0   0  10           2         0        1   \n",
       "6712    1.0  0.4    500  0.7         0   0  10           2         0        0   \n",
       "3561    1.0  0.4    500  0.8         0   0  10           2         0        1   \n",
       "\n",
       "      set_second  no_repulsion  no_attraction  \n",
       "7876           0             0              0  \n",
       "9716           0             0              0  \n",
       "6976           0             0              0  \n",
       "3507           0             0              0  \n",
       "6712           0             0              0  \n",
       "3561           0             0              0  "
      ]
     },
     "execution_count": 398,
     "metadata": {},
     "output_type": "execute_result"
    }
   ],
   "source": [
    "print(f\"printing the {k} indices closest to {ytrgt}\")\n",
    "unsorted_series=np.abs(df[output_col]-m)\n",
    "indices_of_sorted=unsorted_series.argsort()\n",
    "smallest_deviations=indices_of_sorted.loc[:k].values\n",
    "df.loc[smallest_deviations]"
   ]
  },
  {
   "cell_type": "markdown",
   "metadata": {},
   "source": [
    "## TODO: implement genetic algorithm to find the best fit combination of r,D,a:=varkappa for a given kappa\n",
    "- Hint: copy the src/gener_run_X.py implementation of the genetic algorithm here. OR "
   ]
  },
  {
   "cell_type": "markdown",
   "metadata": {},
   "source": [
    " __Methods__ Method for genetically optimizated fit of the apparent powerlaw. \n",
    " - Step 1: choose best k=2 or 3 for a given set of sample r,D,varkappa,kappa pairs\n",
    " - Step 2: generate N=1000 random sample targets centered about the mean of ^these reproducing elite sample values.  Compute predicted output values.\n",
    "   - Hint: Results may be generated using piecewise linear interpolation for these sammples to save an exceptional amount of computational time.\n",
    " - repeat ^these last couple steps some number of times, K.\n",
    " - Perform a principle component analysis on the final iterate of ^that sample generation process.\n",
    " - select the output vector closest to the desired output value, here (m,M)\n",
    " - perform ./return_CollTimes.sh on this parameter value.  Conside improving performance with more iterates of steps 1 and 2."
   ]
  },
  {
   "cell_type": "code",
   "execution_count": 400,
   "metadata": {
    "ExecuteTime": {
     "end_time": "2021-09-01T04:17:39.139702Z",
     "start_time": "2021-09-01T04:17:39.128075Z"
    }
   },
   "outputs": [],
   "source": [
    "# TODO: copy the cells from the dev_run.ipynb "
   ]
  },
  {
   "cell_type": "code",
   "execution_count": 401,
   "metadata": {
    "ExecuteTime": {
     "end_time": "2021-09-01T04:17:39.647584Z",
     "start_time": "2021-09-01T04:17:39.633423Z"
    }
   },
   "outputs": [],
   "source": [
    "#TODO: recall from up ^there that I have X,y to fit, for X.shape=(n_samples,n_dimensions:=3)\n",
    "#TODO: modify ^this to dev a genetic optimization problem \n",
    "\n",
    "# __Methods__\n",
    "# - Step 1: choose best k=2 or 3 for a given set of sample r,D,varkappa,kappa pairs\n",
    "# - Step 2: generate N=1000 random sample targets centered about the mean of ^these reproducing elite sample values.  Compute predicted output values.\n",
    "#   - Hint: Results may be generated using piecewise linear interpolation for these sammples to save an exceptional amount of computational time.\n",
    "# - repeat ^these last couple steps some number of times, K.\n",
    "# - Perform a principle component analysis on the final iterate of ^that sample generation process.\n",
    "# - select the output vector closest to the desired output value, here (m,M)\n",
    "# - perform ./return_CollTimes.sh on this parameter value.  Conside improving performance with more iterates of steps 1 and 2."
   ]
  },
  {
   "cell_type": "code",
   "execution_count": 402,
   "metadata": {
    "ExecuteTime": {
     "end_time": "2021-09-01T04:17:40.181572Z",
     "start_time": "2021-09-01T04:17:40.167137Z"
    }
   },
   "outputs": [],
   "source": [
    "#TODO: determine the elite superior\n",
    "#TODO: make a map from a number of points (K nearest neighbors, wrt m or separately M) to a correlation matrix\n",
    "#TODO: generate points about the mean randomly using ^that correlation matrix\n",
    "#TODO: test those points"
   ]
  },
  {
   "cell_type": "markdown",
   "metadata": {},
   "source": [
    "# boltzmann defect weighting of the K=5 nearest neighbors\n",
    "- TODO: do ^this with the inverse powerlaw data (force_code==2)\n",
    "- TODO(later): do ^this with the anti-hookean data (force_code==1)"
   ]
  },
  {
   "cell_type": "code",
   "execution_count": 403,
   "metadata": {
    "ExecuteTime": {
     "end_time": "2021-09-01T04:17:40.812183Z",
     "start_time": "2021-09-01T04:17:40.777576Z"
    }
   },
   "outputs": [],
   "source": [
    "K=5"
   ]
  },
  {
   "cell_type": "code",
   "execution_count": 404,
   "metadata": {
    "ExecuteTime": {
     "end_time": "2021-09-01T04:17:41.386483Z",
     "start_time": "2021-09-01T04:17:41.368265Z"
    }
   },
   "outputs": [
    {
     "data": {
      "text/plain": [
       "m                  1.842765\n",
       "Delta_m            0.019784\n",
       "M                 51.154500\n",
       "Delta_M            4.119574\n",
       "Rsq                0.997069\n",
       "rmse               1.378296\n",
       "q_min              0.100000\n",
       "q_max              1.000000\n",
       "r                  0.243054\n",
       "kappa            375.127681\n",
       "D                  1.350133\n",
       "varkappa          33.033708\n",
       "x0                 0.000000\n",
       "L                 10.000000\n",
       "force_code         2.000000\n",
       "neighbor           0.000000\n",
       "reflect            0.500511\n",
       "set_second         0.000000\n",
       "no_repulsion       0.000000\n",
       "no_attraction      0.000000\n",
       "dtype: float64"
      ]
     },
     "execution_count": 404,
     "metadata": {},
     "output_type": "execute_result"
    }
   ],
   "source": [
    "df.mean()"
   ]
  },
  {
   "cell_type": "code",
   "execution_count": 405,
   "metadata": {
    "ExecuteTime": {
     "end_time": "2021-09-01T04:17:41.970740Z",
     "start_time": "2021-09-01T04:17:41.950726Z"
    }
   },
   "outputs": [
    {
     "data": {
      "text/html": [
       "<div>\n",
       "<style scoped>\n",
       "    .dataframe tbody tr th:only-of-type {\n",
       "        vertical-align: middle;\n",
       "    }\n",
       "\n",
       "    .dataframe tbody tr th {\n",
       "        vertical-align: top;\n",
       "    }\n",
       "\n",
       "    .dataframe thead th {\n",
       "        text-align: right;\n",
       "    }\n",
       "</style>\n",
       "<table border=\"1\" class=\"dataframe\">\n",
       "  <thead>\n",
       "    <tr style=\"text-align: right;\">\n",
       "      <th></th>\n",
       "      <th>r</th>\n",
       "      <th>kappa</th>\n",
       "      <th>D</th>\n",
       "      <th>varkappa</th>\n",
       "    </tr>\n",
       "  </thead>\n",
       "  <tbody>\n",
       "    <tr>\n",
       "      <th>7876</th>\n",
       "      <td>0.4</td>\n",
       "      <td>500</td>\n",
       "      <td>0.7</td>\n",
       "      <td>0</td>\n",
       "    </tr>\n",
       "    <tr>\n",
       "      <th>9716</th>\n",
       "      <td>0.3</td>\n",
       "      <td>500</td>\n",
       "      <td>0.7</td>\n",
       "      <td>0</td>\n",
       "    </tr>\n",
       "    <tr>\n",
       "      <th>6976</th>\n",
       "      <td>0.3</td>\n",
       "      <td>500</td>\n",
       "      <td>0.7</td>\n",
       "      <td>0</td>\n",
       "    </tr>\n",
       "    <tr>\n",
       "      <th>3507</th>\n",
       "      <td>0.3</td>\n",
       "      <td>500</td>\n",
       "      <td>0.8</td>\n",
       "      <td>0</td>\n",
       "    </tr>\n",
       "    <tr>\n",
       "      <th>6712</th>\n",
       "      <td>0.4</td>\n",
       "      <td>500</td>\n",
       "      <td>0.7</td>\n",
       "      <td>0</td>\n",
       "    </tr>\n",
       "    <tr>\n",
       "      <th>3561</th>\n",
       "      <td>0.4</td>\n",
       "      <td>500</td>\n",
       "      <td>0.8</td>\n",
       "      <td>0</td>\n",
       "    </tr>\n",
       "  </tbody>\n",
       "</table>\n",
       "</div>"
      ],
      "text/plain": [
       "        r  kappa    D  varkappa\n",
       "7876  0.4    500  0.7         0\n",
       "9716  0.3    500  0.7         0\n",
       "6976  0.3    500  0.7         0\n",
       "3507  0.3    500  0.8         0\n",
       "6712  0.4    500  0.7         0\n",
       "3561  0.4    500  0.8         0"
      ]
     },
     "execution_count": 405,
     "metadata": {},
     "output_type": "execute_result"
    }
   ],
   "source": [
    "df.loc[smallest_deviations, input_cols]"
   ]
  },
  {
   "cell_type": "code",
   "execution_count": 406,
   "metadata": {
    "ExecuteTime": {
     "end_time": "2021-09-01T04:17:42.828959Z",
     "start_time": "2021-09-01T04:17:42.798399Z"
    }
   },
   "outputs": [
    {
     "data": {
      "text/plain": [
       "7876    3.704631\n",
       "9716    3.687513\n",
       "6976    3.643788\n",
       "3507    3.629814\n",
       "6712    3.621501\n",
       "3561    3.612594\n",
       "Name: m, dtype: float64"
      ]
     },
     "execution_count": 406,
     "metadata": {},
     "output_type": "execute_result"
    }
   ],
   "source": [
    "df.loc[smallest_deviations, output_col]"
   ]
  },
  {
   "cell_type": "code",
   "execution_count": 468,
   "metadata": {
    "ExecuteTime": {
     "end_time": "2021-09-01T05:15:08.465071Z",
     "start_time": "2021-09-01T05:15:08.448149Z"
    }
   },
   "outputs": [],
   "source": [
    "#TODO: wrap this \n",
    "def comp_boltzman_weighted_weights(output_disagreement_values,**kwargs):\n",
    "    mean_free_energy=np.mean(0.5*output_disagreement_values**2)\n",
    "    weight_values=np.exp(-output_disagreement_values/mean_free_energy)\n",
    "    the_partition_function=np.sum(weight_values)\n",
    "    weight_values/=the_partition_function\n",
    "    return weight_values\n",
    "    \n",
    "def comp_boltzman_weighted_mean(output_disagreement_values,**kwargs):\n",
    "    '''compute the boltzman weighted average of these K elite members'''\n",
    "    weight_values=comp_boltzman_weighted_weights(output_disagreement_values,**kwargs)\n",
    "    result_values=output_disagreement_values*weight_values\n",
    "    mean_value=np.mean(result_values)\n",
    "    return mean_value\n",
    "#     print(f\"the sum of the weights is {sum(weight_values)}\") # one"
   ]
  },
  {
   "cell_type": "code",
   "execution_count": 380,
   "metadata": {
    "ExecuteTime": {
     "end_time": "2021-09-01T04:08:51.386481Z",
     "start_time": "2021-09-01T04:08:51.373032Z"
    },
    "run_control": {
     "marked": true
    }
   },
   "outputs": [],
   "source": [
    "#TODO: wrap ^this into a function\n",
    "#TODO: repeat ^this with M\n",
    "#TODO: put ^that into an output_vector, (m1,M(m1)) and for the M optimized K=5 elite members, (m(M2),M2).  Then, consider seeding the next generation with a correlation matrix times a normally distributed random variable, plus a  random linear interpolant of the fitting points for the K=5 elite of m1_values and M2_values"
   ]
  },
  {
   "cell_type": "code",
   "execution_count": 475,
   "metadata": {
    "ExecuteTime": {
     "end_time": "2021-09-01T05:15:56.680121Z",
     "start_time": "2021-09-01T05:15:56.643750Z"
    }
   },
   "outputs": [
    {
     "data": {
      "text/plain": [
       "['r', 'kappa', 'D', 'varkappa', 'm', 'M']"
      ]
     },
     "execution_count": 475,
     "metadata": {},
     "output_type": "execute_result"
    }
   ],
   "source": [
    "cols"
   ]
  },
  {
   "cell_type": "code",
   "execution_count": 476,
   "metadata": {
    "ExecuteTime": {
     "end_time": "2021-09-01T05:16:42.823157Z",
     "start_time": "2021-09-01T05:16:42.788737Z"
    }
   },
   "outputs": [],
   "source": [
    "#TODO: Boltzman Defect Weighting\n",
    "m1_values=df.loc[smallest_deviations, cols].values\n",
    "# TODO: and M2_values\n",
    "\n",
    "output_values=m1_values"
   ]
  },
  {
   "cell_type": "code",
   "execution_count": 477,
   "metadata": {
    "ExecuteTime": {
     "end_time": "2021-09-01T05:17:10.214016Z",
     "start_time": "2021-09-01T05:17:10.177716Z"
    }
   },
   "outputs": [
    {
     "name": "stdout",
     "output_type": "stream",
     "text": [
      "{'fk_pbc': {'m': 1.8772341309722325, 'Delta_m': 0.02498750277237229, 'M': 5.572315674840435, 'Delta_M': 0.3053120355191732}, 'lr_pbc': {'m': 1.6375562704001745, 'Delta_m': 0.017190912126700632, 'M': 16.73559858353835, 'Delta_M': 0.8465090320196467}}\n"
     ]
    }
   ],
   "source": [
    "# Recall powerlaw fits to full models\n",
    "\n",
    "#TODO: find the values closest to m\n",
    "ytrgt=M\n",
    "k=20\n",
    "input_cols=['r','kappa', 'D', 'varkappa']\n",
    "output_col='m'\n",
    "\n",
    "# Fenton-Karma(PBC) \n",
    "m, Delta_m, M, Delta_M = 1.8772341309722325, 0.02498750277237229, 5.572315674840435, 0.3053120355191732\n",
    "wjr={\n",
    "    'fk_pbc':{'m':m, 'Delta_m':Delta_m, 'M':M, 'Delta_M':Delta_M}\n",
    "}\n",
    "\n",
    "#TODO: insert compute of LR \n",
    "# Luo-Rudy(PBC) \n",
    "m, Delta_m, M, Delta_M = 1.6375562704001745, 0.017190912126700632, 16.73559858353835, 0.8465090320196467\n",
    "wjr['lr_pbc']={'m':m, 'Delta_m':Delta_m, 'M':M, 'Delta_M':Delta_M}\n",
    "print(wjr)"
   ]
  },
  {
   "cell_type": "code",
   "execution_count": 478,
   "metadata": {
    "ExecuteTime": {
     "end_time": "2021-09-01T05:17:18.356142Z",
     "start_time": "2021-09-01T05:17:18.340486Z"
    }
   },
   "outputs": [],
   "source": [
    "# result_values"
   ]
  },
  {
   "cell_type": "code",
   "execution_count": 480,
   "metadata": {
    "ExecuteTime": {
     "end_time": "2021-09-01T05:24:46.023181Z",
     "start_time": "2021-09-01T05:24:45.974747Z"
    }
   },
   "outputs": [
    {
     "name": "stdout",
     "output_type": "stream",
     "text": [
      "\n",
      "for the fk_pbc model...\n",
      "printing the 6 indices closest to m=1.8772341309722325\n",
      "        r  kappa    D  varkappa         m           M\n",
      "2602  0.5    500  1.6        80  1.877081  175.404204\n",
      "2292  0.3    500  1.0        25  1.877080   69.167433\n",
      "1224  0.4    250  1.2        25  1.877508   60.061395\n",
      "5389  0.3    500  1.9        25  1.877608   68.612060\n",
      "1703  0.5    250  1.8        45  1.877840   94.622591\n",
      "5099  0.5    500  0.7        80  1.877858  171.432713\n",
      "8175  0.4    250  1.0        25  1.876533   60.651138\n",
      "the boltzman_weighted_mean for the K=6 elite members was 1.1778259941501708e-05\n",
      "\n",
      "printing the 6 indices closest to M=5.572315674840435\n",
      "        r  kappa    D  varkappa         m           M\n",
      "7876  0.4    500  0.7         0  3.704631  113.284370\n",
      "9716  0.3    500  0.7         0  3.687513   66.923404\n",
      "6976  0.3    500  0.7         0  3.643788   68.932836\n",
      "3507  0.3    500  0.8         0  3.629814   67.008355\n",
      "6712  0.4    500  0.7         0  3.621501  116.287049\n",
      "3561  0.4    500  0.8         0  3.612594  110.794638\n",
      "4575  0.5    500  0.7         0  3.569297  159.081471\n",
      "the boltzman_weighted_mean for the K=6 elite members was 0.0003774741311288758\n",
      "\n",
      "for the lr_pbc model...\n",
      "printing the 6 indices closest to m=1.6375562704001745\n",
      "         r  kappa    D  varkappa         m          M\n",
      "6002  0.10    250  1.3         4  1.637560   7.545140\n",
      "7547  0.10    500  1.3         8  1.637477  14.789922\n",
      "3186  0.10    250  0.8         4  1.637644   7.459519\n",
      "5508  0.15    500  1.4        15  1.637656  25.608353\n",
      "6779  0.10    500  2.0         8  1.637661  14.887220\n",
      "6859  0.10    500  0.9         8  1.637425  14.763385\n",
      "1999  0.10    250  1.7         4  1.637688   7.513338\n",
      "the boltzman_weighted_mean for the K=6 elite members was 1.2433913145728473e-05\n",
      "\n",
      "printing the 6 indices closest to M=16.73559858353835\n",
      "        r  kappa    D  varkappa         m           M\n",
      "7876  0.4    500  0.7         0  3.704631  113.284370\n",
      "9716  0.3    500  0.7         0  3.687513   66.923404\n",
      "6976  0.3    500  0.7         0  3.643788   68.932836\n",
      "3507  0.3    500  0.8         0  3.629814   67.008355\n",
      "6712  0.4    500  0.7         0  3.621501  116.287049\n",
      "3561  0.4    500  0.8         0  3.612594  110.794638\n",
      "4575  0.5    500  0.7         0  3.569297  159.081471\n",
      "the boltzman_weighted_mean for the K=6 elite members was 0.0015210143839287772\n"
     ]
    }
   ],
   "source": [
    "model_name_lst=['fk_pbc','lr_pbc']\n",
    "output_col_lst=['m','M']\n",
    "cols=list(input_cols)\n",
    "cols.extend(output_col_lst)\n",
    "k=6\n",
    "m1avg_lst=[]\n",
    "M2avg_lst=[]\n",
    "for model_name in model_name_lst:\n",
    "    #for 2-dimensional target space, such as m,M\n",
    "    Ytrgt=(wjr[model_name][output_col_lst[0]],wjr[model_name][output_col_lst[1]])\n",
    "    ytrgt=Ytrgt[0]\n",
    "    print(f\"\\nfor the {model_name} model...\")\n",
    "    print(f\"printing the {k} indices closest to m={ytrgt}\")\n",
    "    unsorted_series=np.abs(df[output_col]-ytrgt)\n",
    "    indices_of_sorted=unsorted_series.argsort()\n",
    "    smallest_deviations=indices_of_sorted.loc[:k].values\n",
    "    print(df.loc[smallest_deviations,cols])\n",
    "\n",
    "    output_disagreement_values=unsorted_series.values\n",
    "    boltzman_weighted_mean=comp_boltzman_weighted_mean(output_disagreement_values,**kwargs)\n",
    "    print(f\"the boltzman_weighted_mean for the K={k} elite members was {boltzman_weighted_mean}\")\n",
    "    m1avg_lst.append(boltzman_weighted_mean)\n",
    "    \n",
    "    ytrgt=Ytrgt[1]\n",
    "    print(f\"\\nprinting the {k} indices closest to M={ytrgt}\")\n",
    "    unsorted_series=np.abs(df[output_col]-ytrgt)\n",
    "    indices_of_sorted=unsorted_series.argsort()\n",
    "    smallest_deviations=indices_of_sorted.loc[:k].values\n",
    "    print(df.loc[smallest_deviations,cols])\n",
    "    \n",
    "    output_disagreement_values=unsorted_series.values\n",
    "    boltzman_weighted_mean=comp_boltzman_weighted_mean(output_disagreement_values,**kwargs)\n",
    "    print(f\"the boltzman_weighted_mean for the K={k} elite members was {boltzman_weighted_mean}\")\n",
    "    M2avg_lst.append(boltzman_weighted_mean)"
   ]
  },
  {
   "cell_type": "markdown",
   "metadata": {},
   "source": [
    "__observations__\n",
    "- the mean of the boltzman weights is approximately zero to roughly at least three significant figures here..."
   ]
  },
  {
   "cell_type": "code",
   "execution_count": 485,
   "metadata": {
    "ExecuteTime": {
     "end_time": "2021-09-01T05:25:51.518762Z",
     "start_time": "2021-09-01T05:25:51.503758Z"
    }
   },
   "outputs": [
    {
     "name": "stdout",
     "output_type": "stream",
     "text": [
      "[(['fk_pbc', 'lr_pbc'],), ([1.1778259941501708e-05, 1.2433913145728473e-05],), ([0.0003774741311288758, 0.0015210143839287772],)]\n"
     ]
    }
   ],
   "source": [
    "#TODO: compute m boltzman weighted average as m1\n",
    "#TODO: compute M boltzman weighted average as M2\n",
    "\n",
    "#TODO: dev compute_M(m1) via interpolation near output_cols=(r,kappa,D,varkappa)\n",
    "#TODO: dev compute_m(M2)\n",
    "\n",
    "#TODO: plot the linear interpolation of m,M using plt.plot()\n",
    "print(list(zip((model_name_lst,output_col_lst,m1avg_lst,M2avg_lst))))\n",
    "\n",
    "#TODO: compute the two points\n",
    "#TODO: interpolate as boltzman_weighted_mean\n",
    "#TODO: dev compute_boltzman_weighted_cov... Hint: check numpy.linalg.\n",
    "#TODO: using interp, generate 1000 novel offspring... and also include the original line in the coming progeny..."
   ]
  },
  {
   "cell_type": "code",
   "execution_count": null,
   "metadata": {},
   "outputs": [],
   "source": []
  }
 ],
 "metadata": {
  "kernelspec": {
   "display_name": "Python 3",
   "language": "python",
   "name": "python3"
  },
  "language_info": {
   "codemirror_mode": {
    "name": "ipython",
    "version": 3
   },
   "file_extension": ".py",
   "mimetype": "text/x-python",
   "name": "python",
   "nbconvert_exporter": "python",
   "pygments_lexer": "ipython3",
   "version": "3.7.6"
  },
  "toc": {
   "base_numbering": 1,
   "nav_menu": {},
   "number_sections": true,
   "sideBar": true,
   "skip_h1_title": false,
   "title_cell": "Table of Contents",
   "title_sidebar": "Contents",
   "toc_cell": false,
   "toc_position": {},
   "toc_section_display": true,
   "toc_window_display": false
  },
  "varInspector": {
   "cols": {
    "lenName": 16,
    "lenType": 16,
    "lenVar": 40
   },
   "kernels_config": {
    "python": {
     "delete_cmd_postfix": "",
     "delete_cmd_prefix": "del ",
     "library": "var_list.py",
     "varRefreshCmd": "print(var_dic_list())"
    },
    "r": {
     "delete_cmd_postfix": ") ",
     "delete_cmd_prefix": "rm(",
     "library": "var_list.r",
     "varRefreshCmd": "cat(var_dic_list()) "
    }
   },
   "types_to_exclude": [
    "module",
    "function",
    "builtin_function_or_method",
    "instance",
    "_Feature"
   ],
   "window_display": false
  }
 },
 "nbformat": 4,
 "nbformat_minor": 4
}
