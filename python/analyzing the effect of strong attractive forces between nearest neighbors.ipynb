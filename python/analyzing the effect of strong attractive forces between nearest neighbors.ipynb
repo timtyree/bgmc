{
 "cells": [
  {
   "cell_type": "markdown",
   "metadata": {},
   "source": [
    "# analyzing the effect of strong attractive forces between nearest neighbors\n",
    "Tim Tyree<br>\n",
    "5.26.2021"
   ]
  },
  {
   "cell_type": "code",
   "execution_count": 1,
   "metadata": {
    "ExecuteTime": {
     "end_time": "2021-05-28T21:18:06.385707Z",
     "start_time": "2021-05-28T21:18:05.850448Z"
    }
   },
   "outputs": [],
   "source": [
    "from lib.my_initialization import *\n",
    "import random,scipy\n",
    "from lib.measure.compute_slope import *\n",
    "from lib.measure.compute_sliding_slope import *\n",
    "from lib.measure.powerlaw import *\n",
    "%load_ext autoreload\n",
    "%autoreload 2\n",
    "\n",
    "from scipy import stats\n",
    "alpha=0.1"
   ]
  },
  {
   "cell_type": "code",
   "execution_count": 2,
   "metadata": {
    "ExecuteTime": {
     "end_time": "2021-05-28T01:27:24.721170Z",
     "start_time": "2021-05-28T01:27:24.708610Z"
    }
   },
   "outputs": [],
   "source": [
    "# # For darkmode plots\n",
    "# from jupyterthemes import jtplot\n",
    "# jtplot.style(theme='monokai', context='notebook', ticks=True, grid=False)"
   ]
  },
  {
   "cell_type": "code",
   "execution_count": 19,
   "metadata": {
    "ExecuteTime": {
     "end_time": "2021-05-28T01:29:21.355914Z",
     "start_time": "2021-05-28T01:29:21.340338Z"
    }
   },
   "outputs": [],
   "source": [
    "#how to analyze runs_1_to_3\n",
    "# #get df into the right schema\n",
    "# #iterate over settings, counting the number of trials\n",
    "# count=0\n",
    "# dg_lst=[]\n",
    "# for r in r_values:\n",
    "#     for D in D_values:\n",
    "#         for kappa in kappa_values:\n",
    "#             count=count+1\n",
    "#             xv,yv=agg_over_A(r,D,kappa)\n",
    "#             if xv is not None:\n",
    "#                 dg = pd.DataFrame({'q':xv,'w':yv})\n",
    "#                 dg['r']=r\n",
    "#                 dg['D']=D\n",
    "#                 dg['kappa']=kappa\n",
    "#                 dg_lst.append(dg)\n",
    "# print(count)"
   ]
  },
  {
   "cell_type": "markdown",
   "metadata": {
    "heading_collapsed": true
   },
   "source": [
    "### TODO for run 10(?)\n",
    "- increase L to 10 (to decrease qmin by a factor of at least 3)"
   ]
  },
  {
   "cell_type": "markdown",
   "metadata": {},
   "source": [
    "# visualize a single trial\n",
    "- TODO: visualize the effect of turning on/off attractive/repulsive forces."
   ]
  },
  {
   "cell_type": "code",
   "execution_count": 31,
   "metadata": {
    "ExecuteTime": {
     "end_time": "2021-05-28T18:36:51.804164Z",
     "start_time": "2021-05-28T18:36:51.686780Z"
    }
   },
   "outputs": [
    {
     "data": {
      "text/html": [
       "<div>\n",
       "<style scoped>\n",
       "    .dataframe tbody tr th:only-of-type {\n",
       "        vertical-align: middle;\n",
       "    }\n",
       "\n",
       "    .dataframe tbody tr th {\n",
       "        vertical-align: top;\n",
       "    }\n",
       "\n",
       "    .dataframe thead th {\n",
       "        text-align: right;\n",
       "    }\n",
       "</style>\n",
       "<table border=\"1\" class=\"dataframe\">\n",
       "  <thead>\n",
       "    <tr style=\"text-align: right;\">\n",
       "      <th></th>\n",
       "      <th>x0</th>\n",
       "      <th>varkappa</th>\n",
       "      <th>set_second</th>\n",
       "      <th>reflect</th>\n",
       "      <th>r</th>\n",
       "      <th>no_repulsion</th>\n",
       "      <th>no_attraction</th>\n",
       "      <th>kappa</th>\n",
       "      <th>dt</th>\n",
       "      <th>N</th>\n",
       "      <th>L</th>\n",
       "      <th>Dt</th>\n",
       "      <th>D</th>\n",
       "      <th>CollRate</th>\n",
       "    </tr>\n",
       "  </thead>\n",
       "  <tbody>\n",
       "    <tr>\n",
       "      <th>0</th>\n",
       "      <td>0.0</td>\n",
       "      <td>-20</td>\n",
       "      <td>0</td>\n",
       "      <td>0</td>\n",
       "      <td>0.1</td>\n",
       "      <td>1</td>\n",
       "      <td>0</td>\n",
       "      <td>500</td>\n",
       "      <td>0.00001</td>\n",
       "      <td>6</td>\n",
       "      <td>10</td>\n",
       "      <td>0.00001</td>\n",
       "      <td>2</td>\n",
       "      <td>0.284806</td>\n",
       "    </tr>\n",
       "    <tr>\n",
       "      <th>1</th>\n",
       "      <td>0.0</td>\n",
       "      <td>-20</td>\n",
       "      <td>0</td>\n",
       "      <td>0</td>\n",
       "      <td>0.1</td>\n",
       "      <td>1</td>\n",
       "      <td>0</td>\n",
       "      <td>500</td>\n",
       "      <td>0.00001</td>\n",
       "      <td>6</td>\n",
       "      <td>10</td>\n",
       "      <td>0.00001</td>\n",
       "      <td>20</td>\n",
       "      <td>0.762509</td>\n",
       "    </tr>\n",
       "    <tr>\n",
       "      <th>2</th>\n",
       "      <td>0.0</td>\n",
       "      <td>-20</td>\n",
       "      <td>0</td>\n",
       "      <td>0</td>\n",
       "      <td>0.1</td>\n",
       "      <td>1</td>\n",
       "      <td>0</td>\n",
       "      <td>500</td>\n",
       "      <td>0.00001</td>\n",
       "      <td>7</td>\n",
       "      <td>10</td>\n",
       "      <td>0.00001</td>\n",
       "      <td>2</td>\n",
       "      <td>0.538927</td>\n",
       "    </tr>\n",
       "    <tr>\n",
       "      <th>3</th>\n",
       "      <td>0.0</td>\n",
       "      <td>-20</td>\n",
       "      <td>0</td>\n",
       "      <td>0</td>\n",
       "      <td>0.1</td>\n",
       "      <td>1</td>\n",
       "      <td>0</td>\n",
       "      <td>500</td>\n",
       "      <td>0.00001</td>\n",
       "      <td>7</td>\n",
       "      <td>10</td>\n",
       "      <td>0.00001</td>\n",
       "      <td>20</td>\n",
       "      <td>1.261349</td>\n",
       "    </tr>\n",
       "    <tr>\n",
       "      <th>4</th>\n",
       "      <td>0.0</td>\n",
       "      <td>-20</td>\n",
       "      <td>0</td>\n",
       "      <td>0</td>\n",
       "      <td>0.1</td>\n",
       "      <td>1</td>\n",
       "      <td>0</td>\n",
       "      <td>500</td>\n",
       "      <td>0.00001</td>\n",
       "      <td>8</td>\n",
       "      <td>10</td>\n",
       "      <td>0.00001</td>\n",
       "      <td>2</td>\n",
       "      <td>0.783767</td>\n",
       "    </tr>\n",
       "  </tbody>\n",
       "</table>\n",
       "</div>"
      ],
      "text/plain": [
       "    x0  varkappa  set_second  reflect    r  no_repulsion  no_attraction  \\\n",
       "0  0.0       -20           0        0  0.1             1              0   \n",
       "1  0.0       -20           0        0  0.1             1              0   \n",
       "2  0.0       -20           0        0  0.1             1              0   \n",
       "3  0.0       -20           0        0  0.1             1              0   \n",
       "4  0.0       -20           0        0  0.1             1              0   \n",
       "\n",
       "   kappa       dt  N   L       Dt   D  CollRate  \n",
       "0    500  0.00001  6  10  0.00001   2  0.284806  \n",
       "1    500  0.00001  6  10  0.00001  20  0.762509  \n",
       "2    500  0.00001  7  10  0.00001   2  0.538927  \n",
       "3    500  0.00001  7  10  0.00001  20  1.261349  \n",
       "4    500  0.00001  8  10  0.00001   2  0.783767  "
      ]
     },
     "execution_count": 31,
     "metadata": {},
     "output_type": "execute_result"
    }
   ],
   "source": [
    "data_dir=\"/home/timothytyree/Documents/GitHub/bgmc/python/data/osg_output/run_10_all.csv\"\n",
    "# data_dir=\"/home/timothytyree/Documents/GitHub/bgmc/python/data/osg_output/run_11_all.csv\"\n",
    "df=pd.read_csv(data_dir)\n",
    "df.head()"
   ]
  },
  {
   "cell_type": "code",
   "execution_count": 9,
   "metadata": {
    "ExecuteTime": {
     "end_time": "2021-05-28T18:28:06.573144Z",
     "start_time": "2021-05-28T18:28:06.561542Z"
    }
   },
   "outputs": [
    {
     "data": {
      "text/plain": [
       "Index(['x0', 'varkappa', 'set_second', 'reflect', 'r', 'no_repulsion',\n",
       "       'no_attraction', 'kappa', 'dt', 'N', 'L', 'Dt', 'D', 'CollRate'],\n",
       "      dtype='object')"
      ]
     },
     "execution_count": 9,
     "metadata": {},
     "output_type": "execute_result"
    }
   ],
   "source": [
    "df.columns"
   ]
  },
  {
   "cell_type": "code",
   "execution_count": 10,
   "metadata": {
    "ExecuteTime": {
     "end_time": "2021-05-28T18:28:07.504727Z",
     "start_time": "2021-05-28T18:28:07.486867Z"
    }
   },
   "outputs": [
    {
     "data": {
      "text/plain": [
       "False"
      ]
     },
     "execution_count": 10,
     "metadata": {},
     "output_type": "execute_result"
    }
   ],
   "source": [
    "(df.CollRate<0).any()"
   ]
  },
  {
   "cell_type": "code",
   "execution_count": 11,
   "metadata": {
    "ExecuteTime": {
     "end_time": "2021-05-28T18:28:08.041186Z",
     "start_time": "2021-05-28T18:28:08.002532Z"
    }
   },
   "outputs": [],
   "source": [
    "#derived values\n",
    "# df['CollRate']=1./df['CollTime']\n",
    "df['A']=df['L']**2\n",
    "df['q']=df['N']/df['A'] #number of tips per square centimeter\n",
    "df['w']=df['CollRate']/df['A'] #[mHz?]/cm^2\n",
    "\n",
    "# df=df[df.niter==250].copy()\n",
    "#extract column values\n",
    "r_values=np.array(sorted(set(df.r.values)))#cm\n",
    "D_values=np.array(sorted(set(df.D.values)))#cm^2/s\n",
    "L_values=np.array(sorted(set(df.L.values)))#cm\n",
    "A_values=L_values**2#cm^2\n",
    "kappa_values=np.array(sorted(set(df.kappa.values)))#1/s\n",
    "varkappa_values=np.array(sorted(set(df.varkappa.values)))#1/s\n",
    "x0_values=np.array(sorted(set(df.x0.values)))#1/s\n",
    "set_second_values=np.array(sorted(set(df.set_second.values)))\n",
    "reflect_values=np.array(sorted(set(df.reflect.values)))\n",
    "no_repulsion_values=np.array(sorted(set(df.no_repulsion.values)))\n",
    "no_attraction_values=np.array(sorted(set(df.no_attraction.values)))"
   ]
  },
  {
   "cell_type": "code",
   "execution_count": 21,
   "metadata": {
    "ExecuteTime": {
     "end_time": "2021-05-28T18:32:20.822193Z",
     "start_time": "2021-05-28T18:32:20.803319Z"
    }
   },
   "outputs": [
    {
     "name": "stdout",
     "output_type": "stream",
     "text": [
      "fixed parameters:\n",
      "r~[0.1]\n",
      "L~[10]\n",
      "kappa~[]\n",
      "set_second~[0]\n",
      "reflect~[0]\n",
      "no_repulsion~[1]\n",
      "no_attraction~[0 1]\n",
      "\n",
      "bred parameters:\n",
      "D~6.958+-5.224\n",
      "varkappa~-6.612+-4.603\n",
      "x0~1.685+-1.180\n"
     ]
    }
   ],
   "source": [
    "#make test for whether there is one input parameter present in an input DataFrame\n",
    "print(f\"fixed parameters:\")\n",
    "print(f\"r~{r_values}\")\n",
    "print(f\"L~{L_values}\")\n",
    "print(f\"kappa~{kappa_values}\")\n",
    "print(f\"set_second~{set_second_values}\")\n",
    "print(f\"reflect~{reflect_values}\")\n",
    "print(f\"no_repulsion~{no_repulsion_values}\")\n",
    "print(f\"no_attraction~{no_attraction_values}\")\n",
    "\n",
    "print(f\"\\nbred parameters:\")\n",
    "print(f\"D~{np.mean(D_values):.3f}+-{2*np.std(D_values):.3f}\")\n",
    "print(f\"varkappa~{np.mean(varkappa_values):.3f}+-{2*np.std(varkappa_values):.3f}\")\n",
    "print(f\"x0~{np.mean(x0_values):.3f}+-{2*np.std(x0_values):.3f}\")"
   ]
  },
  {
   "cell_type": "code",
   "execution_count": 30,
   "metadata": {
    "ExecuteTime": {
     "end_time": "2021-05-28T18:36:24.555965Z",
     "start_time": "2021-05-28T18:36:24.534132Z"
    }
   },
   "outputs": [
    {
     "name": "stdout",
     "output_type": "stream",
     "text": [
      "varkappa=-10.0415\n",
      "x0=0.70865\n"
     ]
    },
    {
     "ename": "IndexError",
     "evalue": "index 0 is out of bounds for axis 0 with size 0",
     "output_type": "error",
     "traceback": [
      "\u001b[0;31m-------------------------------------------\u001b[0m",
      "\u001b[0;31mIndexError\u001b[0mTraceback (most recent call last)",
      "\u001b[0;32m<ipython-input-30-a5d615469178>\u001b[0m in \u001b[0;36m<module>\u001b[0;34m\u001b[0m\n\u001b[1;32m     11\u001b[0m \u001b[0mdff\u001b[0m\u001b[0;34m=\u001b[0m\u001b[0mdf\u001b[0m\u001b[0;34m[\u001b[0m\u001b[0mquery\u001b[0m\u001b[0;34m]\u001b[0m\u001b[0;34m\u001b[0m\u001b[0;34m\u001b[0m\u001b[0m\n\u001b[1;32m     12\u001b[0m \u001b[0mkappa_values\u001b[0m\u001b[0;34m=\u001b[0m\u001b[0mnp\u001b[0m\u001b[0;34m.\u001b[0m\u001b[0marray\u001b[0m\u001b[0;34m(\u001b[0m\u001b[0msorted\u001b[0m\u001b[0;34m(\u001b[0m\u001b[0mset\u001b[0m\u001b[0;34m(\u001b[0m\u001b[0mdff\u001b[0m\u001b[0;34m.\u001b[0m\u001b[0mkappa\u001b[0m\u001b[0;34m.\u001b[0m\u001b[0mvalues\u001b[0m\u001b[0;34m)\u001b[0m\u001b[0;34m)\u001b[0m\u001b[0;34m)\u001b[0m\u001b[0;34m\u001b[0m\u001b[0;34m\u001b[0m\u001b[0m\n\u001b[0;32m---> 13\u001b[0;31m \u001b[0mdg\u001b[0m\u001b[0;34m=\u001b[0m\u001b[0mdff\u001b[0m\u001b[0;34m[\u001b[0m\u001b[0mdff\u001b[0m\u001b[0;34m.\u001b[0m\u001b[0mkappa\u001b[0m\u001b[0;34m==\u001b[0m\u001b[0mkappa_values\u001b[0m\u001b[0;34m[\u001b[0m\u001b[0;36m0\u001b[0m\u001b[0;34m]\u001b[0m\u001b[0;34m]\u001b[0m\u001b[0;31m#smaller reaction rate\u001b[0m\u001b[0;34m\u001b[0m\u001b[0;34m\u001b[0m\u001b[0m\n\u001b[0m\u001b[1;32m     14\u001b[0m \u001b[0;31m# dg=dff[dff.kappa==kappa_values[-1]]#Luo-Rudy fit\u001b[0m\u001b[0;34m\u001b[0m\u001b[0;34m\u001b[0m\u001b[0;34m\u001b[0m\u001b[0m\n\u001b[1;32m     15\u001b[0m \u001b[0;31m# dg=dff.kappa==kappa_values[0]#Fenton-Karma fit\u001b[0m\u001b[0;34m\u001b[0m\u001b[0;34m\u001b[0m\u001b[0;34m\u001b[0m\u001b[0m\n",
      "\u001b[0;31mIndexError\u001b[0m: index 0 is out of bounds for axis 0 with size 0"
     ]
    }
   ],
   "source": [
    "varkappa=varkappa_values[3];print(f'varkappa={varkappa}')\n",
    "x0=x0_values[2];print(f'x0={x0}')\n",
    "#query the DataFrame\n",
    "query =(df.set_second==set_second_values[0])&(df.reflect==reflect_values[0])\n",
    "query&=df.r==r_values[0]\n",
    "query&=df.D==D_values[0]\n",
    "query&=df.L==L_values[0]\n",
    "query&=df.varkappa==varkappa\n",
    "query&=df.x0==x0\n",
    "query&=(df.no_repulsion==no_repulsion_values[0])&(df.no_attraction==no_attraction_values[0])\n",
    "dff=df[query]\n",
    "kappa_values=np.array(sorted(set(dff.kappa.values)))\n",
    "dg=dff[dff.kappa==kappa_values[0]]#smaller reaction rate\n",
    "# dg=dff[dff.kappa==kappa_values[-1]]#Luo-Rudy fit\n",
    "# dg=dff.kappa==kappa_values[0]#Fenton-Karma fit"
   ]
  },
  {
   "cell_type": "code",
   "execution_count": 10,
   "metadata": {
    "ExecuteTime": {
     "end_time": "2021-05-28T01:27:40.561063Z",
     "start_time": "2021-05-28T01:27:40.144004Z"
    }
   },
   "outputs": [
    {
     "data": {
      "image/png": "[encoded data removed]",
      "text/plain": [
       "<Figure size 432x288 with 1 Axes>"
      ]
     },
     "metadata": {
      "needs_background": "light"
     },
     "output_type": "display_data"
    }
   ],
   "source": [
    "#plot fits for full model\n",
    "m_fk=1.945;#+-0.030; B_fk=2.441+-0.051\n",
    "m_lr=1.544;#+-0.034; B_lr=5.870+-0.137\n",
    "M_fk=5.67;#+-0.39 Hz*cm^{2(m-1)}\n",
    "M_lr=15.37;#+-1.57 Hz*cm^{2(m-1)}\n",
    "# RMSE_fk=0.1252 Hz/cm^2\n",
    "# RMSE_lr=0.0974 Hz/cm^2\n",
    "# R^2=0.997 (FK)\n",
    "# R^2=0.994 (LR)\n",
    "# yscale=10**3\n",
    "xv=np.arange(0.1,1.,.05)\n",
    "yv_fk=M_fk*(xv)**m_fk\n",
    "yv_lr=M_lr*(xv)**m_lr\n",
    "\n",
    "fontsize=16\n",
    "# plt.xlim([0.1,1])\n",
    "# plt.ylim([1e-1,15])\n",
    "plt.yscale('log')\n",
    "plt.xscale('log')\n",
    "plt.plot(xv,yv_fk,label='FK power law fit',zorder=3,lw=4)\n",
    "plt.plot(xv,yv_lr,label='LR power law fit',zorder=3,lw=4)\n",
    "\n",
    "x_values=dg.q.values\n",
    "y_values=dg.w.values\n",
    "c_values=dg.L.values\n",
    "\n",
    "fontsize=18\n",
    "plt.plot(x_values,y_values,c='C2',alpha=.7,label='simulation',lw=6)\n",
    "# plt.plot(x_values_force,y_values_force,c='C3',alpha=.7,label='simulation with forces',lw=6)\n",
    "# plt.plot(x_values,y_values,c=c_values,alpha=0.4,cmap='bwr')\n",
    "# plt.title(u'comparison to simulation\\nwith two hybrid modes',fontsize=fontsize)\n",
    "plt.xlabel(r'q (cm$^{-2}$)',fontsize=fontsize)\n",
    "plt.ylabel(r'w (Hz cm$^{-2}$)', fontsize=fontsize)\n",
    "plt.tick_params(axis='both', which='major', labelsize=fontsize)\n",
    "plt.tick_params(axis='both', which='minor', labelsize=0)\n",
    "plt.legend(fontsize=fontsize-5)\n",
    "# print(f'varkappa={varkappa}  Hz');print(f'      x0={x0} cm')\n",
    "plt.title(r'$\\varkappa=$'+f'{varkappa}  Hz, '+r'$x_0=$'+f'{x0} cm\\n',fontsize=fontsize)\n",
    "plt.show()"
   ]
  },
  {
   "cell_type": "code",
   "execution_count": 11,
   "metadata": {
    "ExecuteTime": {
     "end_time": "2021-05-28T01:27:43.535338Z",
     "start_time": "2021-05-28T01:27:43.523758Z"
    }
   },
   "outputs": [],
   "source": [
    "# x_values_force=x_values.copy()\n",
    "# y_values_force=y_values.copy()"
   ]
  },
  {
   "cell_type": "code",
   "execution_count": 12,
   "metadata": {
    "ExecuteTime": {
     "end_time": "2021-05-28T01:28:10.069373Z",
     "start_time": "2021-05-28T01:28:10.052348Z"
    }
   },
   "outputs": [
    {
     "name": "stdout",
     "output_type": "stream",
     "text": [
      "m Delta_m b Delta_b Rsquared\n",
      "2.8304954191942464 0.09386046377798864 2.3374070789468853 0.1978149197863709 0.9969851766249506\n",
      "Therefore, 95% confidence interval DOES include exponent values observed from the Luo-Rudy model, but for this trial, only low densities.\n"
     ]
    }
   ],
   "source": [
    "#slice relevant particle density to the particle densities observed from the full model\n",
    "L=L_values[0]\n",
    "x_values=dg[dg.L==L].q.values\n",
    "y_values=dg[dg.L==L].w.values\n",
    "qmin=0.06;qmax=0.2\n",
    "boo=(x_values>qmin)&(x_values<qmax)\n",
    "dict_ci=compute_95CI_ols(np.log(x_values[boo]),np.log(y_values[boo]))\n",
    "print(*dict_ci)\n",
    "print(*dict_ci.values())\n",
    "print(f\"Therefore, 95% confidence interval DOES include exponent values observed from the Luo-Rudy model, but for this trial, only low densities.\")"
   ]
  },
  {
   "cell_type": "code",
   "execution_count": 13,
   "metadata": {
    "ExecuteTime": {
     "end_time": "2021-05-28T01:28:10.696002Z",
     "start_time": "2021-05-28T01:28:10.680214Z"
    }
   },
   "outputs": [
    {
     "data": {
      "text/plain": [
       "(74,)"
      ]
     },
     "execution_count": 13,
     "metadata": {},
     "output_type": "execute_result"
    }
   ],
   "source": [
    "#compute sliding m\n",
    "xavg_values,slope_values,Rsquared_values = compute_sliding_slope_loglog(x_values,y_values,    \n",
    "    x_min=qmin,\n",
    "    window_width=0.2,\n",
    "    stepsize=0.01,\n",
    ")\n",
    "xavg_values.shape"
   ]
  },
  {
   "cell_type": "code",
   "execution_count": null,
   "metadata": {
    "ExecuteTime": {
     "end_time": "2021-05-24T23:34:04.988108Z",
     "start_time": "2021-05-24T23:34:04.975906Z"
    }
   },
   "outputs": [],
   "source": []
  },
  {
   "cell_type": "code",
   "execution_count": 14,
   "metadata": {
    "ExecuteTime": {
     "end_time": "2021-05-28T01:28:12.194207Z",
     "start_time": "2021-05-28T01:28:12.074188Z"
    },
    "run_control": {
     "marked": true
    }
   },
   "outputs": [
    {
     "data": {
      "image/png": "[encoded data removed]",
      "text/plain": [
       "<Figure size 432x288 with 1 Axes>"
      ]
     },
     "metadata": {
      "needs_background": "light"
     },
     "output_type": "display_data"
    }
   ],
   "source": [
    "fontsize=18\n",
    "x=xavg_values[:-1]\n",
    "# y=Rsquared_values[:-1]\n",
    "y=slope_values[:-1]\n",
    "plt.plot(x,y,lw=2)\n",
    "# plt.scatter(x,y,s=10)\n",
    "# plt.xlabel('N',fontsize=fontsize)\n",
    "# plt.ylabel('Collision Rate',fontsize=fontsize)\n",
    "# plt.xscale('log')\n",
    "# plt.title(u'comparison to simulation\\nwith two hybrid modes',fontsize=fontsize)\n",
    "plt.xlabel(r'q (cm$^{-2}$)',fontsize=fontsize)\n",
    "plt.ylabel(r'exponent', fontsize=fontsize)\n",
    "plt.tick_params(axis='both', which='major', labelsize=fontsize)\n",
    "plt.tick_params(axis='both', which='minor', labelsize=0)\n",
    "# print(f'varkappa={varkappa}  Hz');print(f'      x0={x0} cm')\n",
    "plt.title(r'$\\varkappa=$'+f'{varkappa}  Hz, '+r'$x_0=$'+f'{x0} cm\\n',fontsize=fontsize)\n",
    "plt.show()"
   ]
  },
  {
   "cell_type": "markdown",
   "metadata": {
    "heading_collapsed": true
   },
   "source": [
    "# print powerlaw fits"
   ]
  },
  {
   "cell_type": "code",
   "execution_count": 15,
   "metadata": {
    "ExecuteTime": {
     "end_time": "2021-05-28T01:28:16.102429Z",
     "start_time": "2021-05-28T01:28:16.088562Z"
    },
    "hidden": true
   },
   "outputs": [],
   "source": [
    "def slice_df_and_print_powerlaw_fit(r,D,L,kappa,varkappa,x0,q_min=0.06,q_max=.2,no_attraction=0,no_repulsion=1):\n",
    "    '''map from trial to power law fit in interval q_min to q_max'''\n",
    "    #query the DataFrame\n",
    "    query =(df.set_second==set_second_values[0])&(df.reflect==reflect_values[0])\n",
    "    query&=df.r==r#r_values[0]\n",
    "    query&=df.D==D#D_values[0]\n",
    "    query&=df.L==L#L_values[0]\n",
    "    query&=df.kappa==kappa\n",
    "    query&=df.varkappa==varkappa#_values#[-1]#5]\n",
    "    query&=df.x0==x0#_values[2]\n",
    "    query&=(df.no_repulsion==no_repulsion)&(df.no_attraction==no_attraction)\n",
    "    dff=df[query]\n",
    "    dg=dff.copy()#[dff.kappa==kappa]#kappa_values[0]]#smaller reaction rate\n",
    "\n",
    "    x_values=dg.q.values\n",
    "    y_values=dg.w.values\n",
    "\n",
    "    # q_min=0.1;q_max=.4\n",
    "    # boo=(x_values>q_min)&(x_values<q_max)\n",
    "    # x=np.log(x_values[boo])\n",
    "    # y=np.log(y_values[boo])\n",
    "    # dict_out=compute_95CI_ols(x,y)\n",
    "    # dict_out\n",
    "    boo=(x_values>q_min)&(x_values<q_max)\n",
    "    x=x_values[boo]\n",
    "    y=y_values[boo]\n",
    "#     print(x)\n",
    "    print_fit_power_law(x,y)"
   ]
  },
  {
   "cell_type": "code",
   "execution_count": 16,
   "metadata": {
    "ExecuteTime": {
     "end_time": "2021-05-28T01:28:17.688288Z",
     "start_time": "2021-05-28T01:28:17.672114Z"
    },
    "hidden": true
   },
   "outputs": [
    {
     "name": "stdout",
     "output_type": "stream",
     "text": [
      "m=1.504+-0.063; B=1.263+-0.066\n",
      "M= 1.42+-0.14 Hz*cm^{2(m-1)}\n",
      "RMSE=0.0035 Hz/cm^2\n",
      "R^2=0.995\n"
     ]
    }
   ],
   "source": [
    "varkappa=varkappa_values[-1]\n",
    "x0=x0_values[2]\n",
    "kappa=kappa_values[0]\n",
    "\n",
    "r=r_values[0];D=D_values[0];L=L_values[0];\n",
    "slice_df_and_print_powerlaw_fit(r,D,L,kappa,varkappa,x0)"
   ]
  },
  {
   "cell_type": "code",
   "execution_count": 17,
   "metadata": {
    "ExecuteTime": {
     "end_time": "2021-05-28T01:28:18.201020Z",
     "start_time": "2021-05-28T01:28:18.160383Z"
    },
    "hidden": true
   },
   "outputs": [
    {
     "name": "stdout",
     "output_type": "stream",
     "text": [
      "for r=0.100 cm and D=2 cm^2/s fixed,\n",
      "the powerlaw fit for varkappa=-20 cm and x0=1.0 was\n",
      "m=3.004+-0.168; B=4.158+-0.258\n",
      "M= 72.26+-38.81 Hz*cm^{2(m-1)}\n",
      "RMSE=0.0263 Hz/cm^2\n",
      "R^2=0.991\n",
      "\n",
      "for r=0.100 cm and D=2 cm^2/s fixed,\n",
      "the powerlaw fit for varkappa=-10 cm and x0=1.0 was\n",
      "m=2.831+-0.110; B=3.264+-0.130\n",
      "M= 28.48+-7.90 Hz*cm^{2(m-1)}\n",
      "RMSE=0.0087 Hz/cm^2\n",
      "R^2=0.996\n",
      "\n",
      "for r=0.100 cm and D=2 cm^2/s fixed,\n",
      "the powerlaw fit for varkappa=-5 cm and x0=1.0 was\n",
      "m=2.837+-0.097; B=2.787+-0.087\n",
      "M= 18.33+-3.82 Hz*cm^{2(m-1)}\n",
      "RMSE=0.0041 Hz/cm^2\n",
      "R^2=0.997\n",
      "\n",
      "for r=0.100 cm and D=2 cm^2/s fixed,\n",
      "the powerlaw fit for varkappa=0 cm and x0=1.0 was\n",
      "m=2.830+-0.094; B=2.241+-0.085\n",
      "M= 9.82+-1.99 Hz*cm^{2(m-1)}\n",
      "RMSE=0.0027 Hz/cm^2\n",
      "R^2=0.997\n",
      "\n",
      "for r=0.100 cm and D=2 cm^2/s fixed,\n",
      "the powerlaw fit for varkappa=5 cm and x0=1.0 was\n",
      "m=1.920+-0.073; B=1.579+-0.068\n",
      "M= 2.40+-0.30 Hz*cm^{2(m-1)}\n",
      "RMSE=0.0027 Hz/cm^2\n",
      "R^2=0.996\n",
      "\n",
      "for r=0.100 cm and D=2 cm^2/s fixed,\n",
      "the powerlaw fit for varkappa=10 cm and x0=1.0 was\n",
      "Error: empty slice!\n",
      "\n",
      "for r=0.100 cm and D=2 cm^2/s fixed,\n",
      "the powerlaw fit for varkappa=20 cm and x0=1.0 was\n",
      "m=1.504+-0.063; B=1.263+-0.066\n",
      "M= 1.42+-0.14 Hz*cm^{2(m-1)}\n",
      "RMSE=0.0035 Hz/cm^2\n",
      "R^2=0.995\n",
      "\n"
     ]
    }
   ],
   "source": [
    "# r=r_values[0];D=D_values[0];\n",
    "# varkappa=varkappa_values[0]\n",
    "# x0=x0_values[0]\n",
    "for varkappa in varkappa_values:#[::2]:\n",
    "    print(f\"for r={r:.3f} cm and D={D} cm^2/s fixed,\")\n",
    "    print(f\"the powerlaw fit for varkappa={varkappa} cm and x0={x0} was\")\n",
    "    try:\n",
    "        slice_df_and_print_powerlaw_fit(r,D,L,kappa,varkappa,x0)\n",
    "    except AssertionError as e:\n",
    "        print(f\"Error: empty slice!\")\n",
    "    print(f'')    "
   ]
  },
  {
   "cell_type": "code",
   "execution_count": null,
   "metadata": {
    "hidden": true
   },
   "outputs": [],
   "source": []
  },
  {
   "cell_type": "markdown",
   "metadata": {
    "hidden": true
   },
   "source": [
    "__Result__\n",
    "- attractive spring at with x0=0 gave $m \\approx 2$... Several values are superquadratic."
   ]
  },
  {
   "cell_type": "code",
   "execution_count": 120,
   "metadata": {
    "ExecuteTime": {
     "end_time": "2021-05-26T21:22:15.821246Z",
     "start_time": "2021-05-26T21:22:06.523931Z"
    },
    "hidden": true
   },
   "outputs": [
    {
     "name": "stdout",
     "output_type": "stream",
     "text": [
      "output redirected to /home/timothytyree/Documents/GitHub/bgmc/python/data/osg_output/run_10_all_powerfits.txt.\n",
      "number of trials considered = 2688\n"
     ]
    }
   ],
   "source": [
    "import sys\n",
    "\n",
    "text_fn=data_dir.replace('.csv','_powerfits.txt')\n",
    "original_stdout = sys.stdout # Save a reference to the original standard output\n",
    "count=0\n",
    "with open(text_fn, 'w') as f:\n",
    "    sys.stdout = f # Change the standard output to the file we created.\n",
    "    #     r=r_values[1];D=D_values[3];\n",
    "    for r in r_values:\n",
    "        for D in D_values:\n",
    "            for L in L_values:\n",
    "                for kappa in kappa_values:\n",
    "                    for varkappa in varkappa_values:\n",
    "                        for x0 in x0_values:\n",
    "                            for no_repulsion in no_repulsion_values:\n",
    "                                for no_attraction in no_attraction_values:\n",
    "                                    print(f\"for r={r:.3f} cm, D={D:.3f} cm^2/s, kappa={kappa:.0f} 1/s,no_repulsion={no_repulsion==1}, and no_attraction={no_attraction==1} fixed\")\n",
    "                                    print(f\"the powerlaw fit for varkappa={varkappa:.1f} cm and x0={x0:.1f} was\")\n",
    "                                    try:\n",
    "                                        slice_df_and_print_powerlaw_fit(r,D,L,kappa,varkappa,x0)\n",
    "                                    except AssertionError as e:\n",
    "                                        print(f\"Error: empty slice!\")\n",
    "                                    print(f'')\n",
    "                                    count+=1\n",
    "\n",
    "sys.stdout = original_stdout # Reset the standard output to its original value\n",
    "print(f'output redirected to {text_fn}.')\n",
    "print(f\"number of trials considered = {count}\")"
   ]
  },
  {
   "cell_type": "markdown",
   "metadata": {
    "ExecuteTime": {
     "end_time": "2021-05-05T18:17:56.824839Z",
     "start_time": "2021-05-05T18:17:56.002151Z"
    },
    "hidden": true
   },
   "source": [
    "__Result__\n",
    "- no trials exhibited exponent smaller than m<2.00000. \n",
    "- the robust exponents are still too large to support the LR model, which has m=1.544..."
   ]
  },
  {
   "cell_type": "markdown",
   "metadata": {},
   "source": [
    "# varying varkappa for Case 3"
   ]
  },
  {
   "cell_type": "code",
   "execution_count": 261,
   "metadata": {
    "ExecuteTime": {
     "end_time": "2021-05-27T00:36:52.326189Z",
     "start_time": "2021-05-27T00:36:51.902716Z"
    }
   },
   "outputs": [
    {
     "name": "stdout",
     "output_type": "stream",
     "text": [
      "x0=1.0\n"
     ]
    },
    {
     "data": {
      "image/png": "[encoded data removed]",
      "text/plain": [
       "<Figure size 432x288 with 1 Axes>"
      ]
     },
     "metadata": {
      "needs_background": "light"
     },
     "output_type": "display_data"
    }
   ],
   "source": [
    "x0=x0_values[2];print(f\"x0={x0}\")\n",
    "no_repulsion=1;no_attraction=0;\n",
    "r=r_values[0];D=D_values[0];L=L_values[-1]\n",
    "#plot fits for full model\n",
    "m_fk=1.945;#+-0.030; B_fk=2.441+-0.051\n",
    "m_lr=1.544;#+-0.034; B_lr=5.870+-0.137\n",
    "M_fk=5.67;#+-0.39 Hz*cm^{2(m-1)}\n",
    "M_lr=15.37;#+-1.57 Hz*cm^{2(m-1)}\n",
    "# RMSE_fk=0.1252 Hz/cm^2\n",
    "# RMSE_lr=0.0974 Hz/cm^2\n",
    "# R^2=0.997 (FK)\n",
    "# R^2=0.994 (LR)\n",
    "# yscale=10**3\n",
    "xv=np.arange(0.1,1.,.05)\n",
    "yv_fk=M_fk*(xv)**m_fk\n",
    "yv_lr=M_lr*(xv)**m_lr\n",
    "\n",
    "fontsize=16\n",
    "# plt.xlim([0.1,1])\n",
    "# plt.ylim([1e-1,15])\n",
    "plt.yscale('log')\n",
    "plt.xscale('log')\n",
    "plt.plot(xv,yv_fk,label='FK power law fit',zorder=3,lw=4)\n",
    "plt.plot(xv,yv_lr,label='LR power law fit',zorder=3,lw=4)\n",
    "\n",
    "#plot data\n",
    "for varkappa in varkappa_values[:4]:#[::2]:\n",
    "    #query the DataFrame\n",
    "    query =(df.set_second==set_second_values[0])&(df.reflect==reflect_values[0])\n",
    "    query&=df.r==r#r_values[0]\n",
    "    query&=df.D==D#D_values[0]\n",
    "    query&=df.L==L#L_values[0]\n",
    "    query&=df.kappa==kappa\n",
    "    query&=df.varkappa==varkappa#_values#[-1]#5]\n",
    "    query&=df.x0==x0#_values[2]\n",
    "    query&=(df.no_repulsion==no_repulsion)&(df.no_attraction==no_attraction)\n",
    "    dff=df[query]\n",
    "    dg=dff.copy()#[dff.kappa==kappa]#kappa_values[0]]#smaller reaction rate\n",
    "#     kappa_values=np.array(sorted(set(dff.kappa.values)))\n",
    "#     dg=dff[dff.kappa==kappa_values[-1]]#Luo-Rudy fit\n",
    "#     # dg=dff[dff.kappa==kappa_values[0]]#Fenton-Karma fit\n",
    "\n",
    "    x_values=dg.q.values\n",
    "    y_values=dg.w.values\n",
    "    c_values=dg.varkappa.values\n",
    "\n",
    "    plt.scatter(x_values,y_values,label=r\"$\\varkappa =$ \"+f\"{varkappa:.1f} cm\",alpha=0.8)#,cmap='bwr')\n",
    "\n",
    "# plt.ylim([1e-5,1e4])\n",
    "plt.xlabel(r'q (cm$^{-2}$)',fontsize=fontsize)\n",
    "plt.ylabel(r'w (Hz cm$^{-2}$)', fontsize=fontsize)\n",
    "plt.tick_params(axis='both', which='major', labelsize=fontsize)\n",
    "plt.tick_params(axis='both', which='minor', labelsize=0)\n",
    "plt.legend(fontsize=fontsize-6,ncol=2,loc='lower right')\n",
    "# plt.title(r'$\\varkappa=$'+f'{varkappa}  Hz, '+r'$x_0=$'+f'{x0} cm\\n',fontsize=fontsize)\n",
    "plt.title(r'$x_0=$'+f'{x0} cm\\n',fontsize=fontsize)\n",
    "plt.show()"
   ]
  },
  {
   "cell_type": "code",
   "execution_count": 217,
   "metadata": {
    "ExecuteTime": {
     "end_time": "2021-05-26T23:52:32.256126Z",
     "start_time": "2021-05-26T23:52:32.191248Z"
    }
   },
   "outputs": [
    {
     "name": "stdout",
     "output_type": "stream",
     "text": [
      "[0.9977784615639417, 0.9964752057202948, 0.9944716186518238, 0.9979713216760264, 0.9961566124177913, 0.9954945287672208]\n"
     ]
    }
   ],
   "source": [
    "q_min=0.3;q_max=.6\n",
    "#TODO: plot m+-Delta_m versus energy gap for LR and FK model\n",
    "#plot data\n",
    "kappa=kappa_values[0]\n",
    "# r=1.;D=5.;Dratio=1000;L=L_values[-1]\n",
    "eg_lst=[];m_lst=[];Dm_lst=[];Rsq_lst=[]\n",
    "for varkappa in varkappa_values:\n",
    "    try:\n",
    "        #query the DataFrame\n",
    "        query=df.r==r\n",
    "        query&=df.D==D\n",
    "        query&=df.L==L\n",
    "        query&=df.varkappa==varkappa\n",
    "        query&=df['x0']==x0\n",
    "        query&=df.kappa==kappa\n",
    "        query&=(df.no_repulsion==no_repulsion)&(df.no_attraction==no_attraction)\n",
    "        dff=df[query]\n",
    "        dg=dff.copy()\n",
    "        \n",
    "#         kappa_values=np.array(sorted(set(dff.kappa.values)))\n",
    "#         dg=dff[dff.kappa==kappa_values[-1]]#Luo-Rudy fit\n",
    "#         # dg=dff[dff.kappa==kappa_values[0]]#Fenton-Karma fit\n",
    "        x_values=dg.q.values\n",
    "        y_values=dg.w.values\n",
    "\n",
    "        boo=(x_values>q_min)&(x_values<q_max)\n",
    "        x=x_values[boo]\n",
    "        y=y_values[boo]\n",
    "\n",
    "        # print_fit_power_law(x,y)\n",
    "        B,Delta_B,m,Delta_m,Rsq=fit_power_law(x,y)\n",
    "        rmse=compute_power_rmse(x,y,m,B)\n",
    "        M, Delta_M= comp_power_scale(B,Delta_B,m,Delta_m)\n",
    "    #     print(f\"m={m:.3f}+-{Delta_m:.3f}; B={B:.3f}+-{Delta_B:.3f}\")\n",
    "    #     print(f\"M=B**m={M:.2f}+-{Delta_M:.2f} Hz*cm^{{2(m-1)}}\")\n",
    "    #     print(f\"RMSE={rmse:.4f} Hz/cm^2\")\n",
    "    #     print(f\"R^2={Rsq:.3f}\")\n",
    "\n",
    "        eg_lst.append(varkappa)\n",
    "        m_lst.append(m)\n",
    "        Dm_lst.append(Delta_m)\n",
    "        Rsq_lst.append(Rsq)\n",
    "    except AssertionError as e:\n",
    "        pass\n",
    "print(Rsq_lst)"
   ]
  },
  {
   "cell_type": "code",
   "execution_count": 218,
   "metadata": {
    "ExecuteTime": {
     "end_time": "2021-05-26T23:52:35.132594Z",
     "start_time": "2021-05-26T23:52:34.983878Z"
    },
    "scrolled": true
   },
   "outputs": [
    {
     "data": {
      "image/png": "[encoded data removed]",
      "text/plain": [
       "<Figure size 432x288 with 1 Axes>"
      ]
     },
     "metadata": {
      "needs_background": "light"
     },
     "output_type": "display_data"
    },
    {
     "name": "stdout",
     "output_type": "stream",
     "text": [
      "considering 0.3<q<0.6\n"
     ]
    }
   ],
   "source": [
    "m_fk=1.945#1.858;#+-0.027; B_fk=2.464+-0.030<br>\n",
    "m_lr=1.544#1.638;#+-0.017; B_fk=5.588+-0.067\n",
    "plt.errorbar(eg_lst, m_lst, yerr=Dm_lst, fmt='-o',label='Monte Carlo')\n",
    "plt.plot(eg_lst, m_fk+0.*np.array(eg_lst), '--',c='gray',label='Fenton-Karma')\n",
    "plt.plot(eg_lst, m_lr+0.*np.array(eg_lst), '-',c='gray',label='Luo-Rudy')\n",
    "\n",
    "# plt.scatter(Dtdt_lst,m_lst,marker='^')\n",
    "# plt.xscale('log')\n",
    "title=f\"r={r:.1f} cm, \"+r\"$\\kappa$=\"+f\"{kappa:.0f} Hz\\nD={D} cm\"+r\"$^2$/s\"+f\", A={L**2:.0f} cm\"+r\"$^2$\"\n",
    "plt.title(title,fontsize=fontsize)\n",
    "plt.xlabel(r'$\\varkappa$',fontsize=fontsize)\n",
    "plt.ylabel('exponent',fontsize=fontsize)\n",
    "# plt.xscale('log')\n",
    "# plt.yscale('log')\n",
    "plt.tick_params(axis='both', which='major', labelsize=fontsize)\n",
    "plt.tick_params(axis='both', which='minor', labelsize=0)\n",
    "# plt.legend(fontsize=fontsize-8)#,ncol=2)\n",
    "# plt.xlim([10,50])\n",
    "# plt.ylim([0.9,2.3])\n",
    "# plt.grid('on')\n",
    "plt.legend(fontsize=fontsize-2)\n",
    "plt.show()\n",
    "# print(\"considering 20<N<50 spiral tips\")\n",
    "# print(\"considering N<20 spiral tips\")\n",
    "print(f\"considering {q_min}<q<{q_max}\")"
   ]
  },
  {
   "cell_type": "markdown",
   "metadata": {
    "heading_collapsed": true
   },
   "source": [
    "# varying x0 for Case 3"
   ]
  },
  {
   "cell_type": "code",
   "execution_count": 286,
   "metadata": {
    "ExecuteTime": {
     "end_time": "2021-05-27T00:51:07.917022Z",
     "start_time": "2021-05-27T00:51:07.569646Z"
    },
    "hidden": true
   },
   "outputs": [
    {
     "name": "stdout",
     "output_type": "stream",
     "text": [
      "varkappa=-20\n",
      "D=20\n",
      "kappa=1500\n"
     ]
    },
    {
     "data": {
      "image/png": "[encoded data removed]",
      "text/plain": [
       "<Figure size 432x288 with 1 Axes>"
      ]
     },
     "metadata": {
      "needs_background": "light"
     },
     "output_type": "display_data"
    }
   ],
   "source": [
    "varkappa=varkappa_values[0];print(f'varkappa={varkappa}')\n",
    "# varkappa=varkappa_values[2];print(f'varkappa={varkappa}')\n",
    "r=r_values[0];\n",
    "D=D_values[1];print(f'D={D}')\n",
    "L=L_values[-1]\n",
    "kappa_values=np.array(sorted(set(df['kappa'].values)))\n",
    "kappa=kappa_values[2];print(f'kappa={kappa}')\n",
    "#plot fits for full model\n",
    "m_fk=1.945;#+-0.030; B_fk=2.441+-0.051\n",
    "m_lr=1.544;#+-0.034; B_lr=5.870+-0.137\n",
    "M_fk=5.67;#+-0.39 Hz*cm^{2(m-1)}\n",
    "M_lr=15.37;#+-1.57 Hz*cm^{2(m-1)}\n",
    "# RMSE_fk=0.1252 Hz/cm^2\n",
    "# RMSE_lr=0.0974 Hz/cm^2\n",
    "# R^2=0.997 (FK)\n",
    "# R^2=0.994 (LR)\n",
    "# yscale=10**3\n",
    "xv=np.arange(0.1,1.,.05)\n",
    "yv_fk=M_fk*(xv)**m_fk\n",
    "yv_lr=M_lr*(xv)**m_lr\n",
    "\n",
    "fontsize=16\n",
    "# plt.xlim([0.1,1])\n",
    "# plt.ylim([1e-1,15])\n",
    "plt.yscale('log')\n",
    "plt.xscale('log')\n",
    "plt.plot(xv,yv_fk,label='FK power law fit',zorder=3,lw=4)\n",
    "plt.plot(xv,yv_lr,label='LR power law fit',zorder=3,lw=4)\n",
    "\n",
    "#plot data\n",
    "for x0 in x0_values[[0,1,2,-4,-1]]:#[::2]:\n",
    "    #query the DataFrame\n",
    "    query=df.r==r\n",
    "    query&=df.D==D\n",
    "    query&=df.L==L\n",
    "    query&=df.varkappa==varkappa\n",
    "    query&=df['x0']==x0\n",
    "    query&=df.kappa==kappa\n",
    "    query&=(df.no_repulsion==no_repulsion)&(df.no_attraction==no_attraction)\n",
    "    dff=df[query]\n",
    "    dg=dff.copy()\n",
    "    x_values=dg.q.values\n",
    "    y_values=dg.w.values\n",
    "    if x_values.shape[0]>0:\n",
    "        plt.scatter(x_values,y_values,label=r\"$x_0 =$ \"+f\"{x0:.1f} cm\",alpha=0.8)#,cmap='bwr')\n",
    "\n",
    "plt.ylim([1e-3,1e4])\n",
    "plt.xlabel(r'q (cm$^{-2}$)',fontsize=fontsize)\n",
    "plt.ylabel(r'w (Hz cm$^{-2}$)', fontsize=fontsize)\n",
    "plt.tick_params(axis='both', which='major', labelsize=fontsize)\n",
    "plt.tick_params(axis='both', which='minor', labelsize=0)\n",
    "plt.title(r'$\\varkappa=$'+f'{varkappa}  Hz\\n',fontsize=fontsize)\n",
    "plt.legend(fontsize=fontsize-8,ncol=2,loc='lower right')\n",
    "plt.show()"
   ]
  },
  {
   "cell_type": "code",
   "execution_count": 287,
   "metadata": {
    "ExecuteTime": {
     "end_time": "2021-05-27T00:51:10.317407Z",
     "start_time": "2021-05-27T00:51:10.307171Z"
    },
    "hidden": true
   },
   "outputs": [],
   "source": [
    "# print(f\"\"\"\n",
    "# the following parameter set did not tend to finish in <10 hours...\n",
    "# r={r:.1f},D={D:.0f},L={L:.0f},kappa={kappa:.0f},varkappa={varkappa:.0f},x0={x0:.0f},no_attraction={no_attraction},no_repulsion={no_repulsion}\n",
    "# \"\"\")"
   ]
  },
  {
   "cell_type": "code",
   "execution_count": 288,
   "metadata": {
    "ExecuteTime": {
     "end_time": "2021-05-27T00:51:10.699682Z",
     "start_time": "2021-05-27T00:51:10.639991Z"
    },
    "hidden": true
   },
   "outputs": [
    {
     "name": "stdout",
     "output_type": "stream",
     "text": [
      "[0.996693274038762, 0.9975654219249528, 0.9972765731672059, 0.9978175206269596, 0.9976569344715482, 0.9930568480278263, 0.9961572176751932, 0.9951628886736184]\n"
     ]
    }
   ],
   "source": [
    "q_min=0.3;q_max=0.6\n",
    "#TODO: plot m+-Delta_m versus energy gap for LR and FK model\n",
    "#plot data\n",
    "# r=1.;D=5.;Dratio=1000;L=L_values[-1]\n",
    "eg_lst=[];m_lst=[];Dm_lst=[];Rsq_lst=[]\n",
    "for x0 in x0_values:\n",
    "    try:\n",
    "        #query the DataFrame\n",
    "        query=df.r==r\n",
    "        query&=df.D==D\n",
    "        query&=df.L==L\n",
    "        query&=df.varkappa==varkappa\n",
    "        query&=df['x0']==x0\n",
    "        query&=df.kappa==kappa\n",
    "        query&=(df.no_repulsion==no_repulsion)&(df.no_attraction==no_attraction)\n",
    "        dff=df[query]\n",
    "        dg=dff.copy()\n",
    "        x_values=dg.q.values\n",
    "        y_values=dg.w.values\n",
    "\n",
    "        \n",
    "        boo=(x_values>q_min)&(x_values<q_max)\n",
    "        x=x_values[boo]\n",
    "        y=y_values[boo]\n",
    "\n",
    "        # print_fit_power_law(x,y)\n",
    "        B,Delta_B,m,Delta_m,Rsq=fit_power_law(x,y)\n",
    "        rmse=compute_power_rmse(x,y,m,B)\n",
    "        M, Delta_M= comp_power_scale(B,Delta_B,m,Delta_m)\n",
    "    #     print(f\"m={m:.3f}+-{Delta_m:.3f}; B={B:.3f}+-{Delta_B:.3f}\")\n",
    "    #     print(f\"M=B**m={M:.2f}+-{Delta_M:.2f} Hz*cm^{{2(m-1)}}\")\n",
    "    #     print(f\"RMSE={rmse:.4f} Hz/cm^2\")\n",
    "    #     print(f\"R^2={Rsq:.3f}\")\n",
    "\n",
    "        eg_lst.append(x0)\n",
    "        m_lst.append(m)\n",
    "        Dm_lst.append(Delta_m)\n",
    "        Rsq_lst.append(Rsq)\n",
    "    except AssertionError as e:\n",
    "        pass\n",
    "print(Rsq_lst)"
   ]
  },
  {
   "cell_type": "code",
   "execution_count": 289,
   "metadata": {
    "ExecuteTime": {
     "end_time": "2021-05-27T00:51:11.421392Z",
     "start_time": "2021-05-27T00:51:11.264895Z"
    },
    "hidden": true
   },
   "outputs": [
    {
     "data": {
      "image/png": "[encoded data removed]",
      "text/plain": [
       "<Figure size 432x288 with 1 Axes>"
      ]
     },
     "metadata": {
      "needs_background": "light"
     },
     "output_type": "display_data"
    },
    {
     "name": "stdout",
     "output_type": "stream",
     "text": [
      "considering 0.3<q<0.6\n"
     ]
    }
   ],
   "source": [
    "m_fk=1.945#1.858;#+-0.027; B_fk=2.464+-0.030<br>\n",
    "m_lr=1.544#1.638;#+-0.017; B_fk=5.588+-0.067\n",
    "plt.errorbar(eg_lst, m_lst, yerr=Dm_lst, fmt='-o',label='Monte Carlo')\n",
    "plt.plot(eg_lst, m_fk+0.*np.array(eg_lst), '--',c='gray',label='Fenton-Karma')\n",
    "plt.plot(eg_lst, m_lr+0.*np.array(eg_lst), '-',c='gray',label='Luo-Rudy')\n",
    "\n",
    "# plt.scatter(Dtdt_lst,m_lst,marker='^')\n",
    "# plt.xscale('log')\n",
    "title=f\"r={r:.1f} cm, \"+r\"$\\kappa$=\"+f\"{kappa:.0f} Hz\\nD={D} cm\"+r\"$^2$/s\"+f\", A={L**2:.0f} cm\"+r\"$^2$\"\n",
    "plt.title(title,fontsize=fontsize)\n",
    "plt.xlabel(r'$x_0$',fontsize=fontsize)\n",
    "plt.ylabel('exponent',fontsize=fontsize)\n",
    "# plt.xscale('log')\n",
    "# plt.yscale('log')\n",
    "plt.tick_params(axis='both', which='major', labelsize=fontsize)\n",
    "plt.tick_params(axis='both', which='minor', labelsize=0)\n",
    "# plt.legend(fontsize=fontsize-8)#,ncol=2)\n",
    "# plt.xlim([10,50])\n",
    "# plt.ylim([0.9,2.3])\n",
    "# plt.grid('on')\n",
    "plt.legend(fontsize=fontsize-2)\n",
    "plt.show()\n",
    "# print(\"considering 20<N<50 spiral tips\")\n",
    "# print(\"considering N<20 spiral tips\")\n",
    "print(f\"considering {q_min}<q<{q_max}\")"
   ]
  },
  {
   "cell_type": "markdown",
   "metadata": {
    "ExecuteTime": {
     "end_time": "2021-05-26T23:12:05.448054Z",
     "start_time": "2021-05-26T23:12:05.429490Z"
    },
    "hidden": true
   },
   "source": [
    "__Result:__ at high densities, exponent values _versus_ $x_0$ appear relatively unaffected by increasing the overall rate of reaction, $\\kappa>0$.\n",
    "\n",
    "__Note:__ any trials that returned gibberish results seemed to have r=1.0cm...\n",
    "\n",
    "Can I shift the overall rate (M) without changing the exponent?  So far, no.  Unless if r does it for large r.  I only look at small r here.\n",
    "\n",
    "gibberish trials exhibited negative collision times.  \n",
    "- DONT: find the point in the analysis pipeline where gibberish trials are filtered.\n",
    "    - it is no-where in this .ipynb\n",
    "    - DONE: check around in run_9_all/ for one trial that had CollRate<0.  \n",
    "        - IF none exist, __then filter_folder.py is responsible (confirmed)__\n",
    "            - ( some exist, then I can identify them quickly with a short function using pandas.)\n",
    "- DONT: print ^that slice of the data.  Do they have something concerning in common?\n",
    "\n",
    "Looking at jobs that returned gibberish:\n",
    "- cat job.out.9981847.999\n",
    "    - r=1,kappa=1500,all forces were off\n",
    "- cat job.out.9981847.900\n",
    "    - r=1,kappa=500,all forces were on\n",
    "- cat job.out.9981847.900\n",
    "    - r=1,kappa=500,all forces were on\n",
    "    \n",
    "...no trials were observed with r=1 in df"
   ]
  },
  {
   "cell_type": "code",
   "execution_count": 111,
   "metadata": {
    "ExecuteTime": {
     "end_time": "2021-05-25T01:36:04.252385Z",
     "start_time": "2021-05-25T01:36:04.226676Z"
    },
    "hidden": true
   },
   "outputs": [
    {
     "name": "stdout",
     "output_type": "stream",
     "text": [
      "the set of r values are\n"
     ]
    },
    {
     "data": {
      "text/plain": [
       "{0.1}"
      ]
     },
     "execution_count": 111,
     "metadata": {},
     "output_type": "execute_result"
    }
   ],
   "source": [
    "print(f\"the set of r values are\")\n",
    "set(df.r.values)"
   ]
  },
  {
   "cell_type": "markdown",
   "metadata": {
    "hidden": true
   },
   "source": [
    "__Conclusion__\n",
    "- Large r values resulted in a functional failure... Avoid large r for now.  I have observed them to be small (r~0.1cm) anyway!"
   ]
  },
  {
   "cell_type": "markdown",
   "metadata": {
    "heading_collapsed": true
   },
   "source": [
    "# varying r for Case 3"
   ]
  },
  {
   "cell_type": "code",
   "execution_count": 400,
   "metadata": {
    "ExecuteTime": {
     "end_time": "2021-05-27T01:32:00.922033Z",
     "start_time": "2021-05-27T01:32:00.617043Z"
    },
    "hidden": true,
    "scrolled": true
   },
   "outputs": [
    {
     "name": "stdout",
     "output_type": "stream",
     "text": [
      "varkappa=-10\n",
      "x0=5.0\n",
      "D=2\n",
      "kappa=1500\n"
     ]
    },
    {
     "data": {
      "image/png": "[encoded data removed]",
      "text/plain": [
       "<Figure size 432x288 with 1 Axes>"
      ]
     },
     "metadata": {
      "needs_background": "light"
     },
     "output_type": "display_data"
    }
   ],
   "source": [
    "# varkappa=varkappa_values[3];print(f'varkappa={varkappa}')\n",
    "varkappa=varkappa_values[1];print(f'varkappa={varkappa}')\n",
    "# r=r_values[0];\n",
    "x0 =x0_values[-1];print(f'x0={x0}')#[0,1,2,-4,-1]]:#[::2]:\n",
    "D=D_values[0];print(f'D={D}')\n",
    "L=L_values[-1]\n",
    "kappa_values=np.array(sorted(set(df['kappa'].values)))\n",
    "kappa=kappa_values[-1];print(f'kappa={kappa}')\n",
    "no_attraction=1\n",
    "#plot fits for full model\n",
    "m_fk=1.945;#+-0.030; B_fk=2.441+-0.051\n",
    "m_lr=1.544;#+-0.034; B_lr=5.870+-0.137\n",
    "M_fk=5.67;#+-0.39 Hz*cm^{2(m-1)}\n",
    "M_lr=15.37;#+-1.57 Hz*cm^{2(m-1)}\n",
    "# RMSE_fk=0.1252 Hz/cm^2\n",
    "# RMSE_lr=0.0974 Hz/cm^2\n",
    "# R^2=0.997 (FK)\n",
    "# R^2=0.994 (LR)\n",
    "# yscale=10**3\n",
    "xv=np.arange(0.1,1.,.05)\n",
    "yv_fk=M_fk*(xv)**m_fk\n",
    "yv_lr=M_lr*(xv)**m_lr\n",
    "\n",
    "fontsize=16\n",
    "# plt.xlim([0.1,1])\n",
    "# plt.ylim([1e-1,15])\n",
    "plt.yscale('log')\n",
    "plt.xscale('log')\n",
    "plt.plot(xv,yv_fk,label='FK power law fit',zorder=3,lw=4)\n",
    "plt.plot(xv,yv_lr,label='LR power law fit',zorder=3,lw=4)\n",
    "\n",
    "#plot data\n",
    "for r in r_values:\n",
    "    #query the DataFrame\n",
    "    query=df.r==r\n",
    "    query&=df.D==D\n",
    "    query&=df.L==L\n",
    "    query&=df.varkappa==varkappa\n",
    "    query&=df['x0']==x0\n",
    "    query&=df.kappa==kappa\n",
    "    query&=(df.no_repulsion==no_repulsion)&(df.no_attraction==no_attraction)\n",
    "    dff=df[query]\n",
    "    dg=dff.copy()\n",
    "    x_values=dg.q.values\n",
    "    y_values=dg.w.values\n",
    "    if x_values.shape[0]>0:\n",
    "        plt.scatter(x_values,y_values,label=r\"$r=$ \"+f\"{r:.1f} cm\",alpha=0.8)#,cmap='bwr')\n",
    "\n",
    "plt.ylim([1e-3,1e4])\n",
    "plt.xlabel(r'q (cm$^{-2}$)',fontsize=fontsize)\n",
    "plt.ylabel(r'w (Hz cm$^{-2}$)', fontsize=fontsize)\n",
    "plt.tick_params(axis='both', which='major', labelsize=fontsize)\n",
    "plt.tick_params(axis='both', which='minor', labelsize=0)\n",
    "plt.title(r'$\\varkappa=$'+f'{varkappa}  Hz\\n',fontsize=fontsize)\n",
    "plt.legend(fontsize=fontsize-8,ncol=2,loc='lower right')\n",
    "plt.show()"
   ]
  },
  {
   "cell_type": "code",
   "execution_count": 401,
   "metadata": {
    "ExecuteTime": {
     "end_time": "2021-05-27T01:32:05.707215Z",
     "start_time": "2021-05-27T01:32:05.695595Z"
    },
    "hidden": true
   },
   "outputs": [],
   "source": [
    "# print(f\"\"\"\n",
    "# the following parameter set did not tend to finish in <10 hours...\n",
    "# r={r:.1f},D={D:.0f},L={L:.0f},kappa={kappa:.0f},varkappa={varkappa:.0f},x0={x0:.0f},no_attraction={no_attraction},no_repulsion={no_repulsion}\n",
    "# \"\"\")\n"
   ]
  },
  {
   "cell_type": "markdown",
   "metadata": {
    "hidden": true
   },
   "source": [
    "TODO: remove as many variables as possible while retaining the ability to control slope and magnitude on the log-log plot\n",
    "- fix r,L\n",
    "- try removing kappa using instantaneous reactions\n",
    "- then, try removing x0 by using scale-invariant, long-ranged forces between (i) nearest neighbors and (ii) all particles\n",
    "- vary D and varkappa to fit to model\n",
    "\n",
    "\n",
    "Alternatively, make a scatterplot of all available varkappa,x0 pairs that worked, and then make a genetic algorithm.\n",
    "\n",
    "Maybe later, consider trying a force like $F = F_1 \\log (r/r0) + F_0$"
   ]
  },
  {
   "cell_type": "code",
   "execution_count": 402,
   "metadata": {
    "ExecuteTime": {
     "end_time": "2021-05-27T01:32:07.467031Z",
     "start_time": "2021-05-27T01:32:07.437972Z"
    },
    "hidden": true
   },
   "outputs": [
    {
     "name": "stdout",
     "output_type": "stream",
     "text": [
      "[0.9961006092182717, 0.9948700088332451]\n"
     ]
    }
   ],
   "source": [
    "q_min=0.3;q_max=0.6\n",
    "#TODO: plot m+-Delta_m versus energy gap for LR and FK model\n",
    "#plot data\n",
    "# r=1.;D=5.;Dratio=1000;L=L_values[-1]\n",
    "eg_lst=[];m_lst=[];Dm_lst=[];Rsq_lst=[]\n",
    "for r in r_values:\n",
    "    try:\n",
    "        #query the DataFrame\n",
    "        query=df.r==r\n",
    "        query&=df.D==D\n",
    "        query&=df.L==L\n",
    "        query&=df.varkappa==varkappa\n",
    "        query&=df['x0']==x0\n",
    "        query&=df.kappa==kappa\n",
    "        query&=(df.no_repulsion==no_repulsion)&(df.no_attraction==no_attraction)\n",
    "        dff=df[query]\n",
    "        dg=dff.copy()\n",
    "        x_values=dg.q.values\n",
    "        y_values=dg.w.values\n",
    "\n",
    "        \n",
    "        boo=(x_values>q_min)&(x_values<q_max)\n",
    "        x=x_values[boo]\n",
    "        y=y_values[boo]\n",
    "\n",
    "        # print_fit_power_law(x,y)\n",
    "        B,Delta_B,m,Delta_m,Rsq=fit_power_law(x,y)\n",
    "        rmse=compute_power_rmse(x,y,m,B)\n",
    "        M, Delta_M= comp_power_scale(B,Delta_B,m,Delta_m)\n",
    "    #     print(f\"m={m:.3f}+-{Delta_m:.3f}; B={B:.3f}+-{Delta_B:.3f}\")\n",
    "    #     print(f\"M=B**m={M:.2f}+-{Delta_M:.2f} Hz*cm^{{2(m-1)}}\")\n",
    "    #     print(f\"RMSE={rmse:.4f} Hz/cm^2\")\n",
    "    #     print(f\"R^2={Rsq:.3f}\")\n",
    "\n",
    "        eg_lst.append(r)\n",
    "        m_lst.append(m)\n",
    "        Dm_lst.append(Delta_m)\n",
    "        Rsq_lst.append(Rsq)\n",
    "    except AssertionError as e:\n",
    "        pass\n",
    "print(Rsq_lst)"
   ]
  },
  {
   "cell_type": "code",
   "execution_count": 403,
   "metadata": {
    "ExecuteTime": {
     "end_time": "2021-05-27T01:32:08.473407Z",
     "start_time": "2021-05-27T01:32:08.335038Z"
    },
    "hidden": true
   },
   "outputs": [
    {
     "data": {
      "image/png": "[encoded data removed]",
      "text/plain": [
       "<Figure size 432x288 with 1 Axes>"
      ]
     },
     "metadata": {
      "needs_background": "light"
     },
     "output_type": "display_data"
    },
    {
     "name": "stdout",
     "output_type": "stream",
     "text": [
      "considering 0.3<q<0.6\n"
     ]
    }
   ],
   "source": [
    "m_fk=1.945#1.858;#+-0.027; B_fk=2.464+-0.030<br>\n",
    "m_lr=1.544#1.638;#+-0.017; B_fk=5.588+-0.067\n",
    "plt.errorbar(eg_lst, m_lst, yerr=Dm_lst, fmt='-o',label='Monte Carlo')\n",
    "plt.plot(eg_lst, m_fk+0.*np.array(eg_lst), '--',c='gray',label='Fenton-Karma')\n",
    "plt.plot(eg_lst, m_lr+0.*np.array(eg_lst), '-',c='gray',label='Luo-Rudy')\n",
    "\n",
    "# plt.scatter(Dtdt_lst,m_lst,marker='^')\n",
    "# plt.xscale('log')\n",
    "title=f\"$x_0=$\"+f\"{x0:.0f} cm, \"+r\"$\\kappa$=\"+f\"{kappa:.0f} Hz\\nD={D} cm\"+r\"$^2$/s\"+f\", A={L**2:.0f} cm\"+r\"$^2$\"\n",
    "plt.title(title,fontsize=fontsize)\n",
    "plt.xlabel(r'$r$',fontsize=fontsize)\n",
    "plt.ylabel('exponent',fontsize=fontsize)\n",
    "# plt.xscale('log')\n",
    "# plt.yscale('log')\n",
    "plt.tick_params(axis='both', which='major', labelsize=fontsize)\n",
    "plt.tick_params(axis='both', which='minor', labelsize=0)\n",
    "# plt.legend(fontsize=fontsize-8)#,ncol=2)\n",
    "# plt.xlim([10,50])\n",
    "# plt.ylim([0.9,2.3])\n",
    "# plt.grid('on')\n",
    "plt.legend(fontsize=fontsize-2,loc='lower right')\n",
    "plt.show()\n",
    "# print(\"considering 20<N<50 spiral tips\")\n",
    "# print(\"considering N<20 spiral tips\")\n",
    "print(f\"considering {q_min}<q<{q_max}\")"
   ]
  },
  {
   "cell_type": "code",
   "execution_count": 373,
   "metadata": {
    "ExecuteTime": {
     "end_time": "2021-05-27T01:22:20.829772Z",
     "start_time": "2021-05-27T01:22:20.811363Z"
    },
    "hidden": true
   },
   "outputs": [
    {
     "name": "stdout",
     "output_type": "stream",
     "text": [
      "trials with case 3 and r=0.4 that finished\n",
      "kappa:{100}\n",
      "D:{2, 20}\n",
      "however, ^these trials did not finish when r=0.1...\n"
     ]
    }
   ],
   "source": [
    "print('trials with case 3 and r=0.4 that finished')\n",
    "print(f'kappa:{set(df[(df.varkappa<0)&(df.r==0.4)&(df.x0>0)].kappa.values)}')\n",
    "print(f'D:{set(df[(df.varkappa<0)&(df.r==0.4)].D.values)}')\n",
    "print(f\"however, ^these trials did not finish when r=0.1...\")"
   ]
  },
  {
   "cell_type": "markdown",
   "metadata": {
    "heading_collapsed": true
   },
   "source": [
    "# TODO: make the standard 2 panel figure for 1 token control trial\n",
    "- Control: varkappa<0, x0=0\n",
    "\n",
    "# TODO: make the standard 2 panel figure\n",
    " for each nontrivial case\n",
    " - Case 1: varkappa>0, x0=0\n",
    " - Case 2: varkappa>0, x0>0\n",
    " - Case 3: varkappa<0, x0>0\n",
    " \n",
    " \n",
    " Consider Panel \n",
    " A = Control\n",
    " BCD"
   ]
  },
  {
   "cell_type": "markdown",
   "metadata": {
    "heading_collapsed": true
   },
   "source": [
    "# TODO: compute the RMSE of each trial with the power fit of the full model, limiting sample to relevant particle number densities"
   ]
  },
  {
   "cell_type": "markdown",
   "metadata": {},
   "source": [
    "# TODO: compute the change in mean CollRate as a result of turning on the forces (setting no_attraction from 1 to 0)."
   ]
  },
  {
   "cell_type": "code",
   "execution_count": 194,
   "metadata": {
    "ExecuteTime": {
     "end_time": "2021-05-26T23:41:01.047840Z",
     "start_time": "2021-05-26T23:41:00.940046Z"
    }
   },
   "outputs": [],
   "source": [
    "#TODO: groupby groups\n",
    "groups=['r','D','L','kappa','varkappa','x0','A','no_repulsion']\n",
    "\n",
    "#TODO:compute the rate change \n",
    "df.loc[df.no_attraction==0,'change_of_rate']=df[df.no_attraction==0]['CollRate']-df[df.no_attraction==1]['CollRate']\n",
    "df.loc[df.no_attraction==1,'change_of_rate']=df[df.no_attraction==0]['CollRate']-df[df.no_attraction==1]['CollRate']\n",
    "\n",
    "df.sort_values(['r','D','L','kappa','varkappa','x0','A','no_repulsion'],inplace=True)"
   ]
  },
  {
   "cell_type": "code",
   "execution_count": 195,
   "metadata": {
    "ExecuteTime": {
     "end_time": "2021-05-26T23:41:02.760553Z",
     "start_time": "2021-05-26T23:41:02.723569Z"
    }
   },
   "outputs": [
    {
     "data": {
      "text/html": [
       "<div>\n",
       "<style scoped>\n",
       "    .dataframe tbody tr th:only-of-type {\n",
       "        vertical-align: middle;\n",
       "    }\n",
       "\n",
       "    .dataframe tbody tr th {\n",
       "        vertical-align: top;\n",
       "    }\n",
       "\n",
       "    .dataframe thead th {\n",
       "        text-align: right;\n",
       "    }\n",
       "</style>\n",
       "<table border=\"1\" class=\"dataframe\">\n",
       "  <thead>\n",
       "    <tr style=\"text-align: right;\">\n",
       "      <th></th>\n",
       "      <th>x0</th>\n",
       "      <th>varkappa</th>\n",
       "      <th>set_second</th>\n",
       "      <th>reflect</th>\n",
       "      <th>r</th>\n",
       "      <th>no_repulsion</th>\n",
       "      <th>no_attraction</th>\n",
       "      <th>kappa</th>\n",
       "      <th>dt</th>\n",
       "      <th>N</th>\n",
       "      <th>L</th>\n",
       "      <th>Dt</th>\n",
       "      <th>D</th>\n",
       "      <th>CollRate</th>\n",
       "      <th>A</th>\n",
       "      <th>q</th>\n",
       "      <th>w</th>\n",
       "      <th>change_of_rate</th>\n",
       "    </tr>\n",
       "  </thead>\n",
       "  <tbody>\n",
       "    <tr>\n",
       "      <th>21185</th>\n",
       "      <td>0.5</td>\n",
       "      <td>-20</td>\n",
       "      <td>0</td>\n",
       "      <td>0</td>\n",
       "      <td>0.1</td>\n",
       "      <td>1</td>\n",
       "      <td>0</td>\n",
       "      <td>100</td>\n",
       "      <td>0.00001</td>\n",
       "      <td>6</td>\n",
       "      <td>10</td>\n",
       "      <td>0.00001</td>\n",
       "      <td>2</td>\n",
       "      <td>0.260860</td>\n",
       "      <td>100</td>\n",
       "      <td>0.06</td>\n",
       "      <td>0.002609</td>\n",
       "      <td>NaN</td>\n",
       "    </tr>\n",
       "    <tr>\n",
       "      <th>21186</th>\n",
       "      <td>0.5</td>\n",
       "      <td>-20</td>\n",
       "      <td>0</td>\n",
       "      <td>0</td>\n",
       "      <td>0.1</td>\n",
       "      <td>1</td>\n",
       "      <td>0</td>\n",
       "      <td>100</td>\n",
       "      <td>0.00001</td>\n",
       "      <td>7</td>\n",
       "      <td>10</td>\n",
       "      <td>0.00001</td>\n",
       "      <td>2</td>\n",
       "      <td>0.412341</td>\n",
       "      <td>100</td>\n",
       "      <td>0.07</td>\n",
       "      <td>0.004123</td>\n",
       "      <td>NaN</td>\n",
       "    </tr>\n",
       "    <tr>\n",
       "      <th>21187</th>\n",
       "      <td>0.5</td>\n",
       "      <td>-20</td>\n",
       "      <td>0</td>\n",
       "      <td>0</td>\n",
       "      <td>0.1</td>\n",
       "      <td>1</td>\n",
       "      <td>0</td>\n",
       "      <td>100</td>\n",
       "      <td>0.00001</td>\n",
       "      <td>8</td>\n",
       "      <td>10</td>\n",
       "      <td>0.00001</td>\n",
       "      <td>2</td>\n",
       "      <td>0.663055</td>\n",
       "      <td>100</td>\n",
       "      <td>0.08</td>\n",
       "      <td>0.006631</td>\n",
       "      <td>NaN</td>\n",
       "    </tr>\n",
       "    <tr>\n",
       "      <th>21188</th>\n",
       "      <td>0.5</td>\n",
       "      <td>-20</td>\n",
       "      <td>0</td>\n",
       "      <td>0</td>\n",
       "      <td>0.1</td>\n",
       "      <td>1</td>\n",
       "      <td>0</td>\n",
       "      <td>100</td>\n",
       "      <td>0.00001</td>\n",
       "      <td>9</td>\n",
       "      <td>10</td>\n",
       "      <td>0.00001</td>\n",
       "      <td>2</td>\n",
       "      <td>0.923199</td>\n",
       "      <td>100</td>\n",
       "      <td>0.09</td>\n",
       "      <td>0.009232</td>\n",
       "      <td>NaN</td>\n",
       "    </tr>\n",
       "    <tr>\n",
       "      <th>21189</th>\n",
       "      <td>0.5</td>\n",
       "      <td>-20</td>\n",
       "      <td>0</td>\n",
       "      <td>0</td>\n",
       "      <td>0.1</td>\n",
       "      <td>1</td>\n",
       "      <td>0</td>\n",
       "      <td>100</td>\n",
       "      <td>0.00001</td>\n",
       "      <td>10</td>\n",
       "      <td>10</td>\n",
       "      <td>0.00001</td>\n",
       "      <td>2</td>\n",
       "      <td>1.211192</td>\n",
       "      <td>100</td>\n",
       "      <td>0.10</td>\n",
       "      <td>0.012112</td>\n",
       "      <td>NaN</td>\n",
       "    </tr>\n",
       "  </tbody>\n",
       "</table>\n",
       "</div>"
      ],
      "text/plain": [
       "        x0  varkappa  set_second  reflect    r  no_repulsion  no_attraction  \\\n",
       "21185  0.5       -20           0        0  0.1             1              0   \n",
       "21186  0.5       -20           0        0  0.1             1              0   \n",
       "21187  0.5       -20           0        0  0.1             1              0   \n",
       "21188  0.5       -20           0        0  0.1             1              0   \n",
       "21189  0.5       -20           0        0  0.1             1              0   \n",
       "\n",
       "       kappa       dt   N   L       Dt  D  CollRate    A     q         w  \\\n",
       "21185    100  0.00001   6  10  0.00001  2  0.260860  100  0.06  0.002609   \n",
       "21186    100  0.00001   7  10  0.00001  2  0.412341  100  0.07  0.004123   \n",
       "21187    100  0.00001   8  10  0.00001  2  0.663055  100  0.08  0.006631   \n",
       "21188    100  0.00001   9  10  0.00001  2  0.923199  100  0.09  0.009232   \n",
       "21189    100  0.00001  10  10  0.00001  2  1.211192  100  0.10  0.012112   \n",
       "\n",
       "       change_of_rate  \n",
       "21185             NaN  \n",
       "21186             NaN  \n",
       "21187             NaN  \n",
       "21188             NaN  \n",
       "21189             NaN  "
      ]
     },
     "execution_count": 195,
     "metadata": {},
     "output_type": "execute_result"
    }
   ],
   "source": [
    "df.head()"
   ]
  },
  {
   "cell_type": "markdown",
   "metadata": {},
   "source": [
    "DONE: genetic algorithm k-parents\n",
    "    1. consider the k trials with RMSE for (i) the FK model and (ii) the LR model\n",
    "    1. take random linear combinations of ^those parents, run them on the OSG, and then take the k best fits\n",
    "    1. repeat until desired convergence is met\n",
    "    1. repeat for various k, and visualize any (in)dependence of k\n",
    "- DONE: find rough fit to initialize genetic algorithm\n"
   ]
  },
  {
   "cell_type": "code",
   "execution_count": 408,
   "metadata": {
    "ExecuteTime": {
     "end_time": "2021-05-27T20:31:31.225320Z",
     "start_time": "2021-05-27T20:31:31.081710Z"
    }
   },
   "outputs": [
    {
     "data": {
      "text/html": [
       "<div>\n",
       "<style scoped>\n",
       "    .dataframe tbody tr th:only-of-type {\n",
       "        vertical-align: middle;\n",
       "    }\n",
       "\n",
       "    .dataframe tbody tr th {\n",
       "        vertical-align: top;\n",
       "    }\n",
       "\n",
       "    .dataframe thead th {\n",
       "        text-align: right;\n",
       "    }\n",
       "</style>\n",
       "<table border=\"1\" class=\"dataframe\">\n",
       "  <thead>\n",
       "    <tr style=\"text-align: right;\">\n",
       "      <th></th>\n",
       "      <th>x0</th>\n",
       "      <th>varkappa</th>\n",
       "      <th>set_second</th>\n",
       "      <th>reflect</th>\n",
       "      <th>r</th>\n",
       "      <th>no_repulsion</th>\n",
       "      <th>no_attraction</th>\n",
       "      <th>kappa</th>\n",
       "      <th>dt</th>\n",
       "      <th>N</th>\n",
       "      <th>L</th>\n",
       "      <th>Dt</th>\n",
       "      <th>D</th>\n",
       "      <th>CollRate</th>\n",
       "    </tr>\n",
       "  </thead>\n",
       "  <tbody>\n",
       "    <tr>\n",
       "      <th>0</th>\n",
       "      <td>0.0</td>\n",
       "      <td>-20</td>\n",
       "      <td>0</td>\n",
       "      <td>0</td>\n",
       "      <td>0.1</td>\n",
       "      <td>1</td>\n",
       "      <td>0</td>\n",
       "      <td>500</td>\n",
       "      <td>0.00001</td>\n",
       "      <td>6</td>\n",
       "      <td>10</td>\n",
       "      <td>0.00001</td>\n",
       "      <td>2</td>\n",
       "      <td>0.284806</td>\n",
       "    </tr>\n",
       "    <tr>\n",
       "      <th>1</th>\n",
       "      <td>0.0</td>\n",
       "      <td>-20</td>\n",
       "      <td>0</td>\n",
       "      <td>0</td>\n",
       "      <td>0.1</td>\n",
       "      <td>1</td>\n",
       "      <td>0</td>\n",
       "      <td>500</td>\n",
       "      <td>0.00001</td>\n",
       "      <td>6</td>\n",
       "      <td>10</td>\n",
       "      <td>0.00001</td>\n",
       "      <td>20</td>\n",
       "      <td>0.762509</td>\n",
       "    </tr>\n",
       "    <tr>\n",
       "      <th>2</th>\n",
       "      <td>0.0</td>\n",
       "      <td>-20</td>\n",
       "      <td>0</td>\n",
       "      <td>0</td>\n",
       "      <td>0.1</td>\n",
       "      <td>1</td>\n",
       "      <td>0</td>\n",
       "      <td>500</td>\n",
       "      <td>0.00001</td>\n",
       "      <td>7</td>\n",
       "      <td>10</td>\n",
       "      <td>0.00001</td>\n",
       "      <td>2</td>\n",
       "      <td>0.538927</td>\n",
       "    </tr>\n",
       "    <tr>\n",
       "      <th>3</th>\n",
       "      <td>0.0</td>\n",
       "      <td>-20</td>\n",
       "      <td>0</td>\n",
       "      <td>0</td>\n",
       "      <td>0.1</td>\n",
       "      <td>1</td>\n",
       "      <td>0</td>\n",
       "      <td>500</td>\n",
       "      <td>0.00001</td>\n",
       "      <td>7</td>\n",
       "      <td>10</td>\n",
       "      <td>0.00001</td>\n",
       "      <td>20</td>\n",
       "      <td>1.261349</td>\n",
       "    </tr>\n",
       "    <tr>\n",
       "      <th>4</th>\n",
       "      <td>0.0</td>\n",
       "      <td>-20</td>\n",
       "      <td>0</td>\n",
       "      <td>0</td>\n",
       "      <td>0.1</td>\n",
       "      <td>1</td>\n",
       "      <td>0</td>\n",
       "      <td>500</td>\n",
       "      <td>0.00001</td>\n",
       "      <td>8</td>\n",
       "      <td>10</td>\n",
       "      <td>0.00001</td>\n",
       "      <td>2</td>\n",
       "      <td>0.783767</td>\n",
       "    </tr>\n",
       "  </tbody>\n",
       "</table>\n",
       "</div>"
      ],
      "text/plain": [
       "    x0  varkappa  set_second  reflect    r  no_repulsion  no_attraction  \\\n",
       "0  0.0       -20           0        0  0.1             1              0   \n",
       "1  0.0       -20           0        0  0.1             1              0   \n",
       "2  0.0       -20           0        0  0.1             1              0   \n",
       "3  0.0       -20           0        0  0.1             1              0   \n",
       "4  0.0       -20           0        0  0.1             1              0   \n",
       "\n",
       "   kappa       dt  N   L       Dt   D  CollRate  \n",
       "0    500  0.00001  6  10  0.00001   2  0.284806  \n",
       "1    500  0.00001  6  10  0.00001  20  0.762509  \n",
       "2    500  0.00001  7  10  0.00001   2  0.538927  \n",
       "3    500  0.00001  7  10  0.00001  20  1.261349  \n",
       "4    500  0.00001  8  10  0.00001   2  0.783767  "
      ]
     },
     "execution_count": 408,
     "metadata": {},
     "output_type": "execute_result"
    }
   ],
   "source": [
    "data_dir=\"/home/timothytyree/Documents/GitHub/bgmc/python/data/osg_output/run_10_all.csv\"\n",
    "df=pd.read_csv(data_dir)\n",
    "assert not (df.CollRate<0).any()\n",
    "df.head()"
   ]
  },
  {
   "cell_type": "code",
   "execution_count": 409,
   "metadata": {
    "ExecuteTime": {
     "end_time": "2021-05-27T20:31:34.863529Z",
     "start_time": "2021-05-27T20:31:34.682114Z"
    }
   },
   "outputs": [],
   "source": [
    "#derived values\n",
    "# df['CollRate']=1./df['CollTime']\n",
    "df['A']=df['L']**2\n",
    "df['q']=df['N']/df['A'] #number of tips per square centimeter\n",
    "df['w']=df['CollRate']/df['A'] #[mHz?]/cm^2\n",
    "\n",
    "# df=df[df.niter==250].copy()\n",
    "#extract column values\n",
    "r_values=np.array(sorted(set(df.r.values)))#cm\n",
    "D_values=np.array(sorted(set(df.D.values)))#cm^2/s\n",
    "L_values=np.array(sorted(set(df.L.values)))#cm\n",
    "A_values=L_values**2#cm^2\n",
    "kappa_values=np.array(sorted(set(df.kappa.values)))#1/s\n",
    "varkappa_values=np.array(sorted(set(df.varkappa.values)))#1/s\n",
    "x0_values=np.array(sorted(set(df.x0.values)))#1/s\n",
    "set_second_values=np.array(sorted(set(df.set_second.values)))\n",
    "reflect_values=np.array(sorted(set(df.reflect.values)))\n",
    "no_repulsion_values=np.array(sorted(set(df.no_repulsion.values)))\n",
    "no_attraction_values=np.array(sorted(set(df.no_attraction.values)))"
   ]
  },
  {
   "cell_type": "code",
   "execution_count": 410,
   "metadata": {
    "ExecuteTime": {
     "end_time": "2021-05-27T20:31:39.406668Z",
     "start_time": "2021-05-27T20:31:39.390865Z"
    }
   },
   "outputs": [
    {
     "name": "stdout",
     "output_type": "stream",
     "text": [
      "[0.1 0.2 0.3 0.4]\n",
      "[ 2 20]\n",
      "[10]\n",
      "[ 100  500 1500]\n",
      "[-20 -10  -5   0   5  10  20]\n",
      "[0.  0.5 1.  1.5 2.  3.  4.  5. ]\n",
      "[0]\n",
      "[0]\n",
      "[1]\n",
      "[0 1]\n"
     ]
    }
   ],
   "source": [
    "#make test for whether there is one input parameter present in an input DataFrame1\n",
    "print(r_values)\n",
    "print(D_values)\n",
    "print(L_values)\n",
    "print(kappa_values)\n",
    "print(varkappa_values)\n",
    "print(x0_values)\n",
    "print(set_second_values)\n",
    "print(reflect_values)\n",
    "print(no_repulsion_values)\n",
    "print(no_attraction_values)"
   ]
  },
  {
   "cell_type": "code",
   "execution_count": 412,
   "metadata": {
    "ExecuteTime": {
     "end_time": "2021-05-27T20:33:32.506481Z",
     "start_time": "2021-05-27T20:33:32.475345Z"
    }
   },
   "outputs": [
    {
     "name": "stdout",
     "output_type": "stream",
     "text": [
      "varkappa=-20\n",
      "x0=1.0\n",
      "varkappa=0\n",
      "x0=1.0\n"
     ]
    }
   ],
   "source": [
    "varkappa=varkappa_values[0];print(f'varkappa={varkappa}')\n",
    "x0=x0_values[2];print(f'x0={x0}')\n",
    "#query the DataFrame\n",
    "query =(df.set_second==set_second_values[0])&(df.reflect==reflect_values[0])\n",
    "query&=df.r==r_values[0]\n",
    "query&=df.D==D_values[0]\n",
    "query&=df.L==L_values[0]\n",
    "query&=df.varkappa==varkappa\n",
    "query&=df.x0==x0\n",
    "query&=(df.no_repulsion==no_repulsion_values[0])&(df.no_attraction==no_attraction_values[0])\n",
    "dff=df[query]\n",
    "kappa_values=np.array(sorted(set(dff.kappa.values)))\n",
    "dg=dff[dff.kappa==kappa_values[0]]#smaller reaction rate\n",
    "# dg=dff[dff.kappa==kappa_values[-1]]#Luo-Rudy fit\n",
    "# dg=dff.kappa==kappa_values[0]#Fenton-Karma fit\n",
    "x_values_force=dg.q.values\n",
    "y_values_force=dg.w.values\n",
    "\n",
    "varkappa=varkappa_values[3];print(f'varkappa={varkappa}')\n",
    "x0=x0_values[2];print(f'x0={x0}')\n",
    "#query the DataFrame\n",
    "query =(df.set_second==set_second_values[0])&(df.reflect==reflect_values[0])\n",
    "query&=df.r==r_values[0]\n",
    "query&=df.D==D_values[0]\n",
    "query&=df.L==L_values[0]\n",
    "query&=df.varkappa==varkappa\n",
    "query&=df.x0==x0\n",
    "query&=(df.no_repulsion==no_repulsion_values[0])&(df.no_attraction==no_attraction_values[0])\n",
    "dff=df[query]\n",
    "kappa_values=np.array(sorted(set(dff.kappa.values)))\n",
    "dg=dff[dff.kappa==kappa_values[0]]#smaller reaction rate\n",
    "# dg=dff[dff.kappa==kappa_values[-1]]#Luo-Rudy fit\n",
    "# dg=dff.kappa==kappa_values[0]#Fenton-Karma fit\n",
    "x_values=dg.q.values\n",
    "y_values=dg.w.values"
   ]
  },
  {
   "cell_type": "code",
   "execution_count": 447,
   "metadata": {
    "ExecuteTime": {
     "end_time": "2021-05-27T21:59:14.894100Z",
     "start_time": "2021-05-27T21:59:14.517054Z"
    }
   },
   "outputs": [
    {
     "data": {
      "image/png": "[encoded data removed]",
      "text/plain": [
       "<Figure size 432x288 with 1 Axes>"
      ]
     },
     "metadata": {
      "needs_background": "light"
     },
     "output_type": "display_data"
    }
   ],
   "source": [
    "dt=1e-5\n",
    "#plot fits for full model\n",
    "m_fk=1.945;#+-0.030; B_fk=2.441+-0.051\n",
    "m_lr=1.544;#+-0.034; B_lr=5.870+-0.137\n",
    "M_fk=5.67;#+-0.39 Hz*cm^{2(m-1)}\n",
    "M_lr=15.37;#+-1.57 Hz*cm^{2(m-1)}\n",
    "# RMSE_fk=0.1252 Hz/cm^2\n",
    "# RMSE_lr=0.0974 Hz/cm^2\n",
    "# R^2=0.997 (FK)\n",
    "# R^2=0.994 (LR)\n",
    "# yscale=10**3\n",
    "xv=np.arange(0.1,1.,.05)\n",
    "yv_fk=M_fk*(xv)**m_fk\n",
    "yv_lr=M_lr*(xv)**m_lr\n",
    "\n",
    "fontsize=16\n",
    "# plt.xlim([0.1,1])\n",
    "# plt.ylim([1e-1,15])\n",
    "plt.yscale('log')\n",
    "plt.xscale('log')\n",
    "plt.plot(xv,yv_fk,label='FK power law fit',zorder=3,lw=4)\n",
    "plt.plot(xv,yv_lr,label='LR power law fit',zorder=3,lw=4)\n",
    "\n",
    "\n",
    "\n",
    "fontsize=18\n",
    "plt.plot(x_values,y_values,c='C2',alpha=.7,label='simulation without forces',lw=6)\n",
    "plt.plot(x_values_force,y_values_force,c='C3',alpha=.7,label='simulation with forces',lw=6)\n",
    "# plt.plot(x_values,y_values,c=c_values,alpha=0.4,cmap='bwr')\n",
    "# plt.title(u'comparison to simulation\\nwith two hybrid modes',fontsize=fontsize)\n",
    "plt.xlabel(r'q (cm$^{-2}$)',fontsize=fontsize)\n",
    "plt.ylabel(r'w (Hz cm$^{-2}$)', fontsize=fontsize)\n",
    "plt.tick_params(axis='both', which='major', labelsize=fontsize)\n",
    "plt.tick_params(axis='both', which='minor', labelsize=0)\n",
    "plt.legend(fontsize=fontsize-5)\n",
    "# print(f'varkappa={varkappa}  Hz');print(f'      x0={x0} cm')\n",
    "title=r\"$\\kappa$=\"+f\"{kappa:.0f} Hz, D={D} cm\"+r\"$^2$/s\"+f\", A={L**2:.0f} cm\"+r\"$^2$\"\n",
    "title+='\\n'+r'$\\varkappa=$'+f'{varkappa}  Hz, '+r'$x_0=$'+f'{x0:.0f} cm, dt={dt} s\\n'\n",
    "plt.title(title,fontsize=fontsize)\n",
    "\n",
    "plt.title(title,fontsize=fontsize)\n",
    "plt.show()"
   ]
  },
  {
   "cell_type": "code",
   "execution_count": 419,
   "metadata": {
    "ExecuteTime": {
     "end_time": "2021-05-27T20:37:19.890720Z",
     "start_time": "2021-05-27T20:37:19.874227Z"
    }
   },
   "outputs": [
    {
     "name": "stdout",
     "output_type": "stream",
     "text": [
      "[0.1]\n",
      "[2]\n",
      "[10]\n",
      "[500]\n"
     ]
    }
   ],
   "source": [
    "print(sorted(set(dg.r.values)))\n",
    "print(sorted(set(dg.D.values)))\n",
    "print(sorted(set(dg.L.values)))\n",
    "print(sorted(set(dg.kappa.values)))"
   ]
  },
  {
   "cell_type": "code",
   "execution_count": 435,
   "metadata": {
    "ExecuteTime": {
     "end_time": "2021-05-27T20:52:16.655347Z",
     "start_time": "2021-05-27T20:51:37.479398Z"
    }
   },
   "outputs": [
    {
     "ename": "AttributeError",
     "evalue": "'DataFrame' object has no attribute 'CollRate'",
     "output_type": "error",
     "traceback": [
      "\u001b[0;31m---------------------------------------------------------------------------\u001b[0m",
      "\u001b[0;31mAttributeError\u001b[0m                            Traceback (most recent call last)",
      "\u001b[0;32m<ipython-input-435-8c9b9c156302>\u001b[0m in \u001b[0;36m<module>\u001b[0;34m\u001b[0m\n\u001b[1;32m      4\u001b[0m \u001b[0;31m#Is it present in run_4??\u001b[0m\u001b[0;34m\u001b[0m\u001b[0;34m\u001b[0m\u001b[0;34m\u001b[0m\u001b[0m\n\u001b[1;32m      5\u001b[0m \u001b[0mdf\u001b[0m\u001b[0;34m=\u001b[0m\u001b[0mpd\u001b[0m\u001b[0;34m.\u001b[0m\u001b[0mread_csv\u001b[0m\u001b[0;34m(\u001b[0m\u001b[0mdata_dir\u001b[0m\u001b[0;34m)\u001b[0m\u001b[0;34m\u001b[0m\u001b[0;34m\u001b[0m\u001b[0m\n\u001b[0;32m----> 6\u001b[0;31m \u001b[0;32massert\u001b[0m \u001b[0;32mnot\u001b[0m \u001b[0;34m(\u001b[0m\u001b[0mdf\u001b[0m\u001b[0;34m.\u001b[0m\u001b[0mCollRate\u001b[0m\u001b[0;34m<\u001b[0m\u001b[0;36m0\u001b[0m\u001b[0;34m)\u001b[0m\u001b[0;34m.\u001b[0m\u001b[0many\u001b[0m\u001b[0;34m(\u001b[0m\u001b[0;34m)\u001b[0m\u001b[0;34m\u001b[0m\u001b[0;34m\u001b[0m\u001b[0m\n\u001b[0m\u001b[1;32m      7\u001b[0m \u001b[0;31m#derived values\u001b[0m\u001b[0;34m\u001b[0m\u001b[0;34m\u001b[0m\u001b[0;34m\u001b[0m\u001b[0m\n\u001b[1;32m      8\u001b[0m \u001b[0mdf\u001b[0m\u001b[0;34m[\u001b[0m\u001b[0;34m'CollRate'\u001b[0m\u001b[0;34m]\u001b[0m\u001b[0;34m=\u001b[0m\u001b[0;36m1.\u001b[0m\u001b[0;34m/\u001b[0m\u001b[0mdf\u001b[0m\u001b[0;34m[\u001b[0m\u001b[0;34m'CollTime'\u001b[0m\u001b[0;34m]\u001b[0m\u001b[0;34m\u001b[0m\u001b[0;34m\u001b[0m\u001b[0m\n",
      "\u001b[0;32m~/anaconda3/lib/python3.7/site-packages/pandas/core/generic.py\u001b[0m in \u001b[0;36m__getattr__\u001b[0;34m(self, name)\u001b[0m\n\u001b[1;32m   5272\u001b[0m             \u001b[0;32mif\u001b[0m \u001b[0mself\u001b[0m\u001b[0;34m.\u001b[0m\u001b[0m_info_axis\u001b[0m\u001b[0;34m.\u001b[0m\u001b[0m_can_hold_identifiers_and_holds_name\u001b[0m\u001b[0;34m(\u001b[0m\u001b[0mname\u001b[0m\u001b[0;34m)\u001b[0m\u001b[0;34m:\u001b[0m\u001b[0;34m\u001b[0m\u001b[0;34m\u001b[0m\u001b[0m\n\u001b[1;32m   5273\u001b[0m                 \u001b[0;32mreturn\u001b[0m \u001b[0mself\u001b[0m\u001b[0;34m[\u001b[0m\u001b[0mname\u001b[0m\u001b[0;34m]\u001b[0m\u001b[0;34m\u001b[0m\u001b[0;34m\u001b[0m\u001b[0m\n\u001b[0;32m-> 5274\u001b[0;31m             \u001b[0;32mreturn\u001b[0m \u001b[0mobject\u001b[0m\u001b[0;34m.\u001b[0m\u001b[0m__getattribute__\u001b[0m\u001b[0;34m(\u001b[0m\u001b[0mself\u001b[0m\u001b[0;34m,\u001b[0m \u001b[0mname\u001b[0m\u001b[0;34m)\u001b[0m\u001b[0;34m\u001b[0m\u001b[0;34m\u001b[0m\u001b[0m\n\u001b[0m\u001b[1;32m   5275\u001b[0m \u001b[0;34m\u001b[0m\u001b[0m\n\u001b[1;32m   5276\u001b[0m     \u001b[0;32mdef\u001b[0m \u001b[0m__setattr__\u001b[0m\u001b[0;34m(\u001b[0m\u001b[0mself\u001b[0m\u001b[0;34m,\u001b[0m \u001b[0mname\u001b[0m\u001b[0;34m:\u001b[0m \u001b[0mstr\u001b[0m\u001b[0;34m,\u001b[0m \u001b[0mvalue\u001b[0m\u001b[0;34m)\u001b[0m \u001b[0;34m->\u001b[0m \u001b[0;32mNone\u001b[0m\u001b[0;34m:\u001b[0m\u001b[0;34m\u001b[0m\u001b[0;34m\u001b[0m\u001b[0m\n",
      "\u001b[0;31mAttributeError\u001b[0m: 'DataFrame' object has no attribute 'CollRate'"
     ]
    }
   ],
   "source": [
    "#import previous data\n",
    "# data_dir=\"/home/timothytyree/Documents/GitHub/bgmc/python/data/osg_output/run_1_to_3_merged.csv\" \n",
    "# data_dir=\"/home/timothytyree/Documents/GitHub/bgmc/python/data/osg_output/run_6_all.csv\" # has match but dt=1e-5...\n",
    "#Is it present in run_4??\n",
    "df=pd.read_csv(data_dir)\n",
    "assert not (df.CollRate<0).any()\n",
    "#derived values\n",
    "df['CollRate']=1./df['CollTime']\n",
    "df['A']=df['L']**2\n",
    "df['q']=df['N']/df['A'] #number of tips per square centimeter\n",
    "df['w']=df['CollRate']/df['A'] #[mHz?]/cm^2\n",
    "\n",
    "# # df=df[df.niter==250].copy()\n",
    "# #extract column values\n",
    "# r_values=np.array(sorted(set(df.r.values)))#cm\n",
    "# D_values=np.array(sorted(set(df.D.values)))#cm^2/s\n",
    "# L_values=np.array(sorted(set(df.L.values)))#cm\n",
    "# A_values=L_values**2#cm^2\n",
    "# kappa_values=np.array(sorted(set(df.kappa.values)))#1/s\n",
    "# varkappa_values=np.array(sorted(set(df.varkappa.values)))#1/s\n",
    "# x0_values=np.array(sorted(set(df.x0.values)))#1/s\n",
    "# set_second_values=np.array(sorted(set(df.set_second.values)))\n",
    "# reflect_values=np.array(sorted(set(df.reflect.values)))\n",
    "# no_repulsion_values=np.array(sorted(set(df.no_repulsion.values)))\n",
    "# no_attraction_values=np.array(sorted(set(df.no_attraction.values)))\n",
    "\n",
    "#show the first 5 entries that match the query\n",
    "query =df.r==r\n",
    "query&=df.D==D\n",
    "query&=df.L==L\n",
    "query&=df.kappa==kappa\n",
    "query&=df.reflect==reflect\n",
    "dg=df[query]\n",
    "dg.head()"
   ]
  },
  {
   "cell_type": "code",
   "execution_count": 428,
   "metadata": {
    "ExecuteTime": {
     "end_time": "2021-05-27T20:47:42.894078Z",
     "start_time": "2021-05-27T20:47:42.879664Z"
    }
   },
   "outputs": [
    {
     "data": {
      "text/plain": [
       "array([1.e-05])"
      ]
     },
     "execution_count": 428,
     "metadata": {},
     "output_type": "execute_result"
    }
   ],
   "source": [
    "dt_values=np.array(sorted(set(dg.dt.values)))\n",
    "dt_values"
   ]
  },
  {
   "cell_type": "code",
   "execution_count": 436,
   "metadata": {
    "ExecuteTime": {
     "end_time": "2021-05-27T21:12:50.732542Z",
     "start_time": "2021-05-27T21:12:50.699184Z"
    }
   },
   "outputs": [
    {
     "data": {
      "text/html": [
       "<div>\n",
       "<style scoped>\n",
       "    .dataframe tbody tr th:only-of-type {\n",
       "        vertical-align: middle;\n",
       "    }\n",
       "\n",
       "    .dataframe tbody tr th {\n",
       "        vertical-align: top;\n",
       "    }\n",
       "\n",
       "    .dataframe thead th {\n",
       "        text-align: right;\n",
       "    }\n",
       "</style>\n",
       "<table border=\"1\" class=\"dataframe\">\n",
       "  <thead>\n",
       "    <tr style=\"text-align: right;\">\n",
       "      <th></th>\n",
       "      <th>5</th>\n",
       "      <th>6</th>\n",
       "      <th>7</th>\n",
       "      <th>8</th>\n",
       "      <th>9</th>\n",
       "      <th>10</th>\n",
       "      <th>11</th>\n",
       "      <th>12</th>\n",
       "      <th>13</th>\n",
       "      <th>14</th>\n",
       "      <th>...</th>\n",
       "      <th>65</th>\n",
       "      <th>66</th>\n",
       "      <th>67</th>\n",
       "      <th>68</th>\n",
       "      <th>69</th>\n",
       "      <th>r</th>\n",
       "      <th>D</th>\n",
       "      <th>L</th>\n",
       "      <th>kappa</th>\n",
       "      <th>dt</th>\n",
       "    </tr>\n",
       "  </thead>\n",
       "  <tbody>\n",
       "    <tr>\n",
       "      <th>0</th>\n",
       "      <td>0.00007</td>\n",
       "      <td>0.00007</td>\n",
       "      <td>0.00007</td>\n",
       "      <td>0.00007</td>\n",
       "      <td>0.00007</td>\n",
       "      <td>0.00007</td>\n",
       "      <td>0.00007</td>\n",
       "      <td>0.00007</td>\n",
       "      <td>0.00007</td>\n",
       "      <td>0.00007</td>\n",
       "      <td>...</td>\n",
       "      <td>0.00007</td>\n",
       "      <td>0.00007</td>\n",
       "      <td>0.00007</td>\n",
       "      <td>0.00007</td>\n",
       "      <td>0.00007</td>\n",
       "      <td>0.3</td>\n",
       "      <td>0.2</td>\n",
       "      <td>15.8114</td>\n",
       "      <td>1000</td>\n",
       "      <td>0.00001</td>\n",
       "    </tr>\n",
       "    <tr>\n",
       "      <th>1</th>\n",
       "      <td>0.40660</td>\n",
       "      <td>0.40660</td>\n",
       "      <td>0.40660</td>\n",
       "      <td>0.40660</td>\n",
       "      <td>0.40660</td>\n",
       "      <td>0.40660</td>\n",
       "      <td>0.40660</td>\n",
       "      <td>0.40660</td>\n",
       "      <td>0.40660</td>\n",
       "      <td>0.40660</td>\n",
       "      <td>...</td>\n",
       "      <td>0.00029</td>\n",
       "      <td>0.00029</td>\n",
       "      <td>0.00029</td>\n",
       "      <td>0.00029</td>\n",
       "      <td>0.00029</td>\n",
       "      <td>0.3</td>\n",
       "      <td>0.2</td>\n",
       "      <td>15.8114</td>\n",
       "      <td>1000</td>\n",
       "      <td>0.00001</td>\n",
       "    </tr>\n",
       "    <tr>\n",
       "      <th>2</th>\n",
       "      <td>5.15927</td>\n",
       "      <td>5.15927</td>\n",
       "      <td>5.15927</td>\n",
       "      <td>5.15927</td>\n",
       "      <td>5.15927</td>\n",
       "      <td>5.15927</td>\n",
       "      <td>5.15927</td>\n",
       "      <td>5.15927</td>\n",
       "      <td>5.15927</td>\n",
       "      <td>5.15927</td>\n",
       "      <td>...</td>\n",
       "      <td>0.00979</td>\n",
       "      <td>0.00979</td>\n",
       "      <td>0.00979</td>\n",
       "      <td>0.00979</td>\n",
       "      <td>0.00979</td>\n",
       "      <td>0.3</td>\n",
       "      <td>0.2</td>\n",
       "      <td>15.8114</td>\n",
       "      <td>1000</td>\n",
       "      <td>0.00001</td>\n",
       "    </tr>\n",
       "    <tr>\n",
       "      <th>3</th>\n",
       "      <td>19.50541</td>\n",
       "      <td>13.01108</td>\n",
       "      <td>13.01108</td>\n",
       "      <td>13.01108</td>\n",
       "      <td>13.01108</td>\n",
       "      <td>0.47663</td>\n",
       "      <td>0.47663</td>\n",
       "      <td>0.47663</td>\n",
       "      <td>0.47663</td>\n",
       "      <td>0.47663</td>\n",
       "      <td>...</td>\n",
       "      <td>0.00329</td>\n",
       "      <td>0.00329</td>\n",
       "      <td>0.00329</td>\n",
       "      <td>0.00329</td>\n",
       "      <td>0.00329</td>\n",
       "      <td>0.3</td>\n",
       "      <td>0.2</td>\n",
       "      <td>15.8114</td>\n",
       "      <td>1000</td>\n",
       "      <td>0.00001</td>\n",
       "    </tr>\n",
       "    <tr>\n",
       "      <th>4</th>\n",
       "      <td>11.12850</td>\n",
       "      <td>5.89572</td>\n",
       "      <td>5.89572</td>\n",
       "      <td>5.89572</td>\n",
       "      <td>5.89572</td>\n",
       "      <td>1.87785</td>\n",
       "      <td>1.87785</td>\n",
       "      <td>0.07995</td>\n",
       "      <td>0.07995</td>\n",
       "      <td>0.07995</td>\n",
       "      <td>...</td>\n",
       "      <td>0.00028</td>\n",
       "      <td>0.00028</td>\n",
       "      <td>0.00028</td>\n",
       "      <td>0.00028</td>\n",
       "      <td>0.00028</td>\n",
       "      <td>0.3</td>\n",
       "      <td>0.2</td>\n",
       "      <td>15.8114</td>\n",
       "      <td>1000</td>\n",
       "      <td>0.00001</td>\n",
       "    </tr>\n",
       "  </tbody>\n",
       "</table>\n",
       "<p>5 rows × 70 columns</p>\n",
       "</div>"
      ],
      "text/plain": [
       "          5         6         7         8         9       10       11  \\\n",
       "0   0.00007   0.00007   0.00007   0.00007   0.00007  0.00007  0.00007   \n",
       "1   0.40660   0.40660   0.40660   0.40660   0.40660  0.40660  0.40660   \n",
       "2   5.15927   5.15927   5.15927   5.15927   5.15927  5.15927  5.15927   \n",
       "3  19.50541  13.01108  13.01108  13.01108  13.01108  0.47663  0.47663   \n",
       "4  11.12850   5.89572   5.89572   5.89572   5.89572  1.87785  1.87785   \n",
       "\n",
       "        12       13       14  ...       65       66       67       68  \\\n",
       "0  0.00007  0.00007  0.00007  ...  0.00007  0.00007  0.00007  0.00007   \n",
       "1  0.40660  0.40660  0.40660  ...  0.00029  0.00029  0.00029  0.00029   \n",
       "2  5.15927  5.15927  5.15927  ...  0.00979  0.00979  0.00979  0.00979   \n",
       "3  0.47663  0.47663  0.47663  ...  0.00329  0.00329  0.00329  0.00329   \n",
       "4  0.07995  0.07995  0.07995  ...  0.00028  0.00028  0.00028  0.00028   \n",
       "\n",
       "        69    r    D        L  kappa       dt  \n",
       "0  0.00007  0.3  0.2  15.8114   1000  0.00001  \n",
       "1  0.00029  0.3  0.2  15.8114   1000  0.00001  \n",
       "2  0.00979  0.3  0.2  15.8114   1000  0.00001  \n",
       "3  0.00329  0.3  0.2  15.8114   1000  0.00001  \n",
       "4  0.00028  0.3  0.2  15.8114   1000  0.00001  \n",
       "\n",
       "[5 rows x 70 columns]"
      ]
     },
     "execution_count": 436,
     "metadata": {},
     "output_type": "execute_result"
    }
   ],
   "source": [
    "df.head()"
   ]
  },
  {
   "cell_type": "code",
   "execution_count": 432,
   "metadata": {
    "ExecuteTime": {
     "end_time": "2021-05-27T20:49:11.261143Z",
     "start_time": "2021-05-27T20:49:11.229073Z"
    }
   },
   "outputs": [],
   "source": [
    "del dg \n",
    "del df"
   ]
  },
  {
   "cell_type": "code",
   "execution_count": 108,
   "metadata": {
    "ExecuteTime": {
     "end_time": "2021-05-26T20:59:33.634714Z",
     "start_time": "2021-05-26T20:59:33.445802Z"
    },
    "run_control": {
     "marked": true
    }
   },
   "outputs": [
    {
     "data": {
      "image/png": "[encoded data removed]",
      "text/plain": [
       "<Figure size 432x288 with 1 Axes>"
      ]
     },
     "metadata": {
      "needs_background": "light"
     },
     "output_type": "display_data"
    }
   ],
   "source": [
    "# #plot sliding m\n",
    "# fontsize=18\n",
    "# x=xavg_values[:-1]\n",
    "# # y=Rsquared_values[:-1]\n",
    "# y=slope_values[:-1]\n",
    "# plt.plot(x,y,lw=2)\n",
    "# # plt.scatter(x,y,s=10)\n",
    "# # plt.xlabel('N',fontsize=fontsize)\n",
    "# # plt.ylabel('Collision Rate',fontsize=fontsize)\n",
    "# # plt.xscale('log')\n",
    "# # plt.title(u'comparison to simulation\\nwith two hybrid modes',fontsize=fontsize)\n",
    "# plt.xlabel(r'q (cm$^{-2}$)',fontsize=fontsize)\n",
    "# plt.ylabel(r'exponent', fontsize=fontsize)\n",
    "# plt.tick_params(axis='both', which='major', labelsize=fontsize)\n",
    "# plt.tick_params(axis='both', which='minor', labelsize=0)\n",
    "# # print(f'varkappa={varkappa}  Hz');print(f'      x0={x0} cm')\n",
    "# plt.title(r'$\\varkappa=$'+f'{varkappa}  Hz, '+r'$x_0=$'+f'{x0} cm\\n',fontsize=fontsize)\n",
    "# plt.show()"
   ]
  },
  {
   "cell_type": "code",
   "execution_count": null,
   "metadata": {},
   "outputs": [],
   "source": []
  },
  {
   "cell_type": "code",
   "execution_count": null,
   "metadata": {},
   "outputs": [],
   "source": []
  },
  {
   "cell_type": "code",
   "execution_count": 421,
   "metadata": {
    "ExecuteTime": {
     "end_time": "2021-05-27T20:39:46.085296Z",
     "start_time": "2021-05-27T20:39:46.064662Z"
    }
   },
   "outputs": [],
   "source": [
    "# #measure m in some window\n",
    "# qmin=0.06;qmax=0.2\n",
    "# L=L_values[0]\n",
    "# x_values=dg[dg.L==L].q.values\n",
    "# y_values=dg[dg.L==L].w.values\n",
    "# boo=(x_values>qmin)&(x_values<qmax)\n",
    "# dict_ci=compute_95CI_ols(np.log(x_values[boo]),np.log(y_values[boo]))\n",
    "# print(*dict_ci)\n",
    "# print(*dict_ci.values())\n",
    "# print(f\"Therefore, 95% confidence interval DOES include exponent values observed from the Luo-Rudy model, but for this trial, only low densities.\")\n",
    "\n",
    "# #compute sliding m\n",
    "# xavg_values,slope_values,Rsquared_values = compute_sliding_slope_loglog(x_values,y_values,    \n",
    "#     x_min=qmin,\n",
    "#     window_width=0.2,\n",
    "#     stepsize=0.01,\n",
    "# )\n",
    "# xavg_values.shape"
   ]
  },
  {
   "cell_type": "markdown",
   "metadata": {},
   "source": [
    "# results from return_CollTime.x \n",
    "for probing the effect of dt at high density (q=1)"
   ]
  },
  {
   "cell_type": "markdown",
   "metadata": {},
   "source": [
    "_This is evidence that attractive forces increase the collision rate, W, at high densities, which contradicts the figure I showed WJ and am looking at now._\n",
    "\n",
    "...Then, why did I record a contradictory signal?"
   ]
  },
  {
   "cell_type": "code",
   "execution_count": 437,
   "metadata": {
    "ExecuteTime": {
     "end_time": "2021-05-27T21:14:21.448035Z",
     "start_time": "2021-05-27T21:14:21.433846Z"
    }
   },
   "outputs": [],
   "source": [
    "#I ran these settings without forces using ./return_CollTime.x for N=100\n",
    "r=0.1\n",
    "D=2\n",
    "L=10\n",
    "kappa=500\n",
    "reflect=0"
   ]
  },
  {
   "cell_type": "code",
   "execution_count": 96,
   "metadata": {
    "ExecuteTime": {
     "end_time": "2021-05-28T03:24:16.592195Z",
     "start_time": "2021-05-28T03:24:16.578823Z"
    }
   },
   "outputs": [],
   "source": [
    "#from 1500 independent trials of the reaction N=100 --> N=98\n",
    "#for each trial, seed=1234\n",
    "#no forces\n",
    "dt_control_lst=[1e-5, 1e-6, 1e-7]\n",
    "Tavg_control_lst=[0.00175961,0.00172462,np.nan]\n",
    "#strong attractive forces of close range\n",
    "dt_lst=[1e-5, 1e-6, 1e-7]\n",
    "Tavg_lst=[0.00102133,0.00104635,np.nan]\n",
    "#NOTE: I ended the dt=1e-7 trials after 6 hours... They did not finish...\n",
    "\n",
    "#is runtime on 1e-6 small enough for the OSG?\n",
    "#no..."
   ]
  },
  {
   "cell_type": "markdown",
   "metadata": {},
   "source": [
    "__Results__\n",
    "- rate_with_force > rate_without_force at high densities when the seeds match\n",
    "    - there is apparently a seed dependence to the value of Tavg\n",
    "- it is not practical for me to use dt=1e-6 on the OSG.  It is certainly not practical for me to use dt=1e-7 on the OSG.\n",
    "- it is necessary for seeds to match for the ends to match\n",
    "    - Why is ^this? Is it because at high densities, q~1, the uncertainty is large for niter=1500?\n",
    "- it is not necessary for seeds to match for the ends to match\n",
    "    - TODO: just make niter=5000 on one machine(, or better...)\n",
    "    - or aggregate many machines and make niter=15000\n",
    "- solution: just make niter=5000 on the next data run, and limit search to trials in the neighborhood of where I think they'll model the LR model's powerfit\n",
    "\n",
    "\n",
    "DONT: bootstrap uncertainties for variable N.  __Just increase niter!__\n",
    "- I should measure the variance/95% CI explicitely versus N via bootstrapping for one trial. \n",
    "    - TODO: look for the/some token trial in the dense data from runs_1_to_3.\n",
    "    - TODO: measure ^that trial's variance for each group of constant N\n",
    "    - TODO: visualize the 95% CI of Tavg versus N.\n",
    "    - TODO: translate ^that plot into w versus q\n"
   ]
  },
  {
   "cell_type": "markdown",
   "metadata": {},
   "source": [
    "# print the top 5 of a given run, in terms of RMSE from the LR/FK models\n",
    "then,\n",
    "- use ^those to generate some guesses for the LR/FK models\n",
    "then,\n",
    "- dev run_11\n",
    "then,\n",
    "- condor_submit run_11.submit"
   ]
  },
  {
   "cell_type": "markdown",
   "metadata": {},
   "source": [
    "## # Ranking the top results from the genetic algorithm\n",
    "this is comparing rmse at high densities\n",
    "compute w versus q and find r,kappa with smalles RMSE_lr,fk"
   ]
  },
  {
   "cell_type": "code",
   "execution_count": 23,
   "metadata": {
    "ExecuteTime": {
     "end_time": "2021-04-21T23:11:09.873577Z",
     "start_time": "2021-04-21T23:11:09.871657Z"
    }
   },
   "outputs": [],
   "source": [
    "# def routine(item):\n",
    "#     r,D,kappa=item\n",
    "#     return PlotUnivCurve(r,D,kappa)\n",
    "\n",
    "# #run plotting in parallel\n",
    "# b = db.from_sequence(queue, npartitions=9).map(routine)\n",
    "# start = time.time()\n",
    "# retval = list(b)\n",
    "# print(f\"run time was {time.time()-start:.2f} seconds.\")\n",
    "# beep(10)"
   ]
  },
  {
   "cell_type": "code",
   "execution_count": 2,
   "metadata": {
    "ExecuteTime": {
     "end_time": "2021-05-28T21:18:14.948237Z",
     "start_time": "2021-05-28T21:18:14.926252Z"
    }
   },
   "outputs": [],
   "source": [
    "def get_eval_powerlaw(dict_out):\n",
    "    '''dict_out has fields m and b.\n",
    "    \n",
    "    Example Usage:\n",
    "    eval_powerlaw=get_eval_powerlaw(dict_out)\n",
    "    w=eval_powerlaw(q)\n",
    "    '''\n",
    "    m=dict_out['m'];b=dict_out['b']\n",
    "    q_foo = lambda q: m*q+b\n",
    "    eval_powerlaw = lambda q: np.exp(q_foo(np.log(q)))\n",
    "    return eval_powerlaw"
   ]
  },
  {
   "cell_type": "code",
   "execution_count": 3,
   "metadata": {
    "ExecuteTime": {
     "end_time": "2021-05-28T21:18:15.592514Z",
     "start_time": "2021-05-28T21:18:15.551266Z"
    }
   },
   "outputs": [
    {
     "data": {
      "text/html": [
       "<div>\n",
       "<style scoped>\n",
       "    .dataframe tbody tr th:only-of-type {\n",
       "        vertical-align: middle;\n",
       "    }\n",
       "\n",
       "    .dataframe tbody tr th {\n",
       "        vertical-align: top;\n",
       "    }\n",
       "\n",
       "    .dataframe thead th {\n",
       "        text-align: right;\n",
       "    }\n",
       "</style>\n",
       "<table border=\"1\" class=\"dataframe\">\n",
       "  <thead>\n",
       "    <tr style=\"text-align: right;\">\n",
       "      <th></th>\n",
       "      <th>x0</th>\n",
       "      <th>varkappa</th>\n",
       "      <th>set_second</th>\n",
       "      <th>reflect</th>\n",
       "      <th>r</th>\n",
       "      <th>no_repulsion</th>\n",
       "      <th>no_attraction</th>\n",
       "      <th>kappa</th>\n",
       "      <th>dt</th>\n",
       "      <th>N</th>\n",
       "      <th>L</th>\n",
       "      <th>Dt</th>\n",
       "      <th>D</th>\n",
       "      <th>CollRate</th>\n",
       "    </tr>\n",
       "  </thead>\n",
       "  <tbody>\n",
       "    <tr>\n",
       "      <th>0</th>\n",
       "      <td>0.47757</td>\n",
       "      <td>-2.23362</td>\n",
       "      <td>0</td>\n",
       "      <td>0</td>\n",
       "      <td>0.1</td>\n",
       "      <td>1</td>\n",
       "      <td>0</td>\n",
       "      <td>1500</td>\n",
       "      <td>0.00001</td>\n",
       "      <td>6</td>\n",
       "      <td>10</td>\n",
       "      <td>0.00001</td>\n",
       "      <td>3.17142</td>\n",
       "      <td>0.607921</td>\n",
       "    </tr>\n",
       "    <tr>\n",
       "      <th>1</th>\n",
       "      <td>0.47757</td>\n",
       "      <td>-2.23362</td>\n",
       "      <td>0</td>\n",
       "      <td>0</td>\n",
       "      <td>0.1</td>\n",
       "      <td>1</td>\n",
       "      <td>0</td>\n",
       "      <td>1500</td>\n",
       "      <td>0.00001</td>\n",
       "      <td>7</td>\n",
       "      <td>10</td>\n",
       "      <td>0.00001</td>\n",
       "      <td>3.17142</td>\n",
       "      <td>1.029337</td>\n",
       "    </tr>\n",
       "    <tr>\n",
       "      <th>2</th>\n",
       "      <td>0.47757</td>\n",
       "      <td>-2.23362</td>\n",
       "      <td>0</td>\n",
       "      <td>0</td>\n",
       "      <td>0.1</td>\n",
       "      <td>1</td>\n",
       "      <td>0</td>\n",
       "      <td>1500</td>\n",
       "      <td>0.00001</td>\n",
       "      <td>8</td>\n",
       "      <td>10</td>\n",
       "      <td>0.00001</td>\n",
       "      <td>3.17142</td>\n",
       "      <td>1.528828</td>\n",
       "    </tr>\n",
       "    <tr>\n",
       "      <th>3</th>\n",
       "      <td>0.47757</td>\n",
       "      <td>-2.23362</td>\n",
       "      <td>0</td>\n",
       "      <td>0</td>\n",
       "      <td>0.1</td>\n",
       "      <td>1</td>\n",
       "      <td>0</td>\n",
       "      <td>1500</td>\n",
       "      <td>0.00001</td>\n",
       "      <td>9</td>\n",
       "      <td>10</td>\n",
       "      <td>0.00001</td>\n",
       "      <td>3.17142</td>\n",
       "      <td>2.261622</td>\n",
       "    </tr>\n",
       "    <tr>\n",
       "      <th>4</th>\n",
       "      <td>0.47757</td>\n",
       "      <td>-2.23362</td>\n",
       "      <td>0</td>\n",
       "      <td>0</td>\n",
       "      <td>0.1</td>\n",
       "      <td>1</td>\n",
       "      <td>0</td>\n",
       "      <td>1500</td>\n",
       "      <td>0.00001</td>\n",
       "      <td>10</td>\n",
       "      <td>10</td>\n",
       "      <td>0.00001</td>\n",
       "      <td>3.17142</td>\n",
       "      <td>3.112874</td>\n",
       "    </tr>\n",
       "  </tbody>\n",
       "</table>\n",
       "</div>"
      ],
      "text/plain": [
       "        x0  varkappa  set_second  reflect    r  no_repulsion  no_attraction  \\\n",
       "0  0.47757  -2.23362           0        0  0.1             1              0   \n",
       "1  0.47757  -2.23362           0        0  0.1             1              0   \n",
       "2  0.47757  -2.23362           0        0  0.1             1              0   \n",
       "3  0.47757  -2.23362           0        0  0.1             1              0   \n",
       "4  0.47757  -2.23362           0        0  0.1             1              0   \n",
       "\n",
       "   kappa       dt   N   L       Dt        D  CollRate  \n",
       "0   1500  0.00001   6  10  0.00001  3.17142  0.607921  \n",
       "1   1500  0.00001   7  10  0.00001  3.17142  1.029337  \n",
       "2   1500  0.00001   8  10  0.00001  3.17142  1.528828  \n",
       "3   1500  0.00001   9  10  0.00001  3.17142  2.261622  \n",
       "4   1500  0.00001  10  10  0.00001  3.17142  3.112874  "
      ]
     },
     "execution_count": 3,
     "metadata": {},
     "output_type": "execute_result"
    }
   ],
   "source": [
    "# data_dir=\"/home/timothytyree/Documents/GitHub/bgmc/python/data/osg_output/run_10_all.csv\"\n",
    "data_dir=\"/home/timothytyree/Documents/GitHub/bgmc/python/data/osg_output/run_11_all.csv\"\n",
    "df=pd.read_csv(data_dir)\n",
    "df.head()"
   ]
  },
  {
   "cell_type": "code",
   "execution_count": 4,
   "metadata": {
    "ExecuteTime": {
     "end_time": "2021-05-28T21:18:16.497244Z",
     "start_time": "2021-05-28T21:18:16.485423Z"
    }
   },
   "outputs": [
    {
     "data": {
      "text/plain": [
       "Index(['x0', 'varkappa', 'set_second', 'reflect', 'r', 'no_repulsion',\n",
       "       'no_attraction', 'kappa', 'dt', 'N', 'L', 'Dt', 'D', 'CollRate'],\n",
       "      dtype='object')"
      ]
     },
     "execution_count": 4,
     "metadata": {},
     "output_type": "execute_result"
    }
   ],
   "source": [
    "df.columns"
   ]
  },
  {
   "cell_type": "code",
   "execution_count": 5,
   "metadata": {
    "ExecuteTime": {
     "end_time": "2021-05-28T21:18:19.680759Z",
     "start_time": "2021-05-28T21:18:19.666012Z"
    }
   },
   "outputs": [
    {
     "data": {
      "text/plain": [
       "False"
      ]
     },
     "execution_count": 5,
     "metadata": {},
     "output_type": "execute_result"
    }
   ],
   "source": [
    "(df.CollRate<0).any()"
   ]
  },
  {
   "cell_type": "code",
   "execution_count": 6,
   "metadata": {
    "ExecuteTime": {
     "end_time": "2021-05-28T21:18:20.400509Z",
     "start_time": "2021-05-28T21:18:20.329419Z"
    }
   },
   "outputs": [],
   "source": [
    "#derived values\n",
    "# df['CollRate']=1./df['CollTime']\n",
    "df['A']=df['L']**2\n",
    "df['q']=df['N']/df['A'] #number of tips per square centimeter\n",
    "df['w']=df['CollRate']/df['A'] #[mHz?]/cm^2\n",
    "\n",
    "# df=df[df.niter==250].copy()\n",
    "#extract column values\n",
    "r_values=np.array(sorted(set(df.r.values)))#cm\n",
    "D_values=np.array(sorted(set(df.D.values)))#cm^2/s\n",
    "L_values=np.array(sorted(set(df.L.values)))#cm\n",
    "A_values=L_values**2#cm^2\n",
    "kappa_values=np.array(sorted(set(df.kappa.values)))#1/s\n",
    "varkappa_values=np.array(sorted(set(df.varkappa.values)))#1/s\n",
    "x0_values=np.array(sorted(set(df.x0.values)))#1/s\n",
    "set_second_values=np.array(sorted(set(df.set_second.values)))\n",
    "reflect_values=np.array(sorted(set(df.reflect.values)))\n",
    "no_repulsion_values=np.array(sorted(set(df.no_repulsion.values)))\n",
    "no_attraction_values=np.array(sorted(set(df.no_attraction.values)))"
   ]
  },
  {
   "cell_type": "code",
   "execution_count": 7,
   "metadata": {
    "ExecuteTime": {
     "end_time": "2021-05-28T21:18:20.901677Z",
     "start_time": "2021-05-28T21:18:20.891831Z"
    }
   },
   "outputs": [],
   "source": [
    "# #make test for whether there is one input parameter present in an input DataFrame1\n",
    "# print(r_values)\n",
    "# print(D_values)\n",
    "# print(L_values)\n",
    "# print(kappa_values)\n",
    "# print(varkappa_values)\n",
    "# print(x0_values)\n",
    "# print(set_second_values)\n",
    "# print(reflect_values)\n",
    "# print(no_repulsion_values)\n",
    "# print(no_attraction_values)"
   ]
  },
  {
   "cell_type": "code",
   "execution_count": 8,
   "metadata": {
    "ExecuteTime": {
     "end_time": "2021-05-28T21:18:21.261598Z",
     "start_time": "2021-05-28T21:18:21.251247Z"
    }
   },
   "outputs": [],
   "source": [
    "\n",
    "\n",
    "# r=r_values[0]\n",
    "# L=L_values[0]\n",
    "# D=2;#np.min(D_values);print(f'D={D}')\n",
    "# varkappa=-20;#np.min(varkappa_values);print(f'varkappa={varkappa}')\n",
    "# x0=1.;#np.max(x0_values);print(f'x0={x0}')\n",
    "# # D==D_values[0];print(f'D={D}')\n",
    "# # varkappa=varkappa_values[3];print(f'varkappa={varkappa}')\n",
    "# # x0=x0_values[2];print(f'x0={x0}')\n",
    "# #query the DataFrame\n",
    "# query =(df.set_second==set_second_values[0])&(df.reflect==reflect_values[0])\n",
    "# query&=df.r==r\n",
    "# query&=df.D==D\n",
    "# query&=df.L==L\n",
    "# query&=df.varkappa==varkappa\n",
    "# query&=df.x0==x0\n",
    "# query&=(df.no_repulsion==no_repulsion_values[0])&(df.no_attraction==no_attraction_values[0])\n",
    "# dff=df[query]\n",
    "# kappa_values=np.array(sorted(set(dff.kappa.values)))\n",
    "# dg=dff[dff.kappa==kappa_values[0]]#smaller reaction rate\n",
    "# # dg=dff[dff.kappa==kappa_values[-1]]#Luo-Rudy fit\n",
    "# # dg=dff.kappa==kappa_values[0]#Fenton-Karma fit"
   ]
  },
  {
   "cell_type": "code",
   "execution_count": 9,
   "metadata": {
    "ExecuteTime": {
     "end_time": "2021-05-28T21:18:21.729464Z",
     "start_time": "2021-05-28T21:18:21.718972Z"
    }
   },
   "outputs": [],
   "source": [
    "# varkappa=varkappa_values[3];print(f'varkappa={varkappa}')\n",
    "# x0=x0_values[2];print(f'x0={x0}')\n",
    "# #query the DataFrame\n",
    "# query =(df.set_second==set_second_values[0])&(df.reflect==reflect_values[0])\n",
    "# query&=df.r==r_values[0]\n",
    "# query&=df.D==D_values[0]\n",
    "# query&=df.L==L_values[0]\n",
    "# query&=df.varkappa==varkappa\n",
    "# query&=df.x0==x0\n",
    "# query&=(df.no_repulsion==no_repulsion_values[0])&(df.no_attraction==no_attraction_values[0])\n",
    "# dff=df[query]\n",
    "# kappa_values=np.array(sorted(set(dff.kappa.values)))\n",
    "# dg=dff[dff.kappa==kappa_values[0]].copy()#smaller reaction rate"
   ]
  },
  {
   "cell_type": "code",
   "execution_count": 10,
   "metadata": {
    "ExecuteTime": {
     "end_time": "2021-05-28T21:18:22.732477Z",
     "start_time": "2021-05-28T21:18:22.715371Z"
    }
   },
   "outputs": [],
   "source": [
    "#load birth death rates from the full model\n",
    "data_folder=f'{nb_dir}/data'\n",
    "os.chdir(data_folder)\n",
    "\n",
    "data_fk_fn='full_results/data_fig4_vidmar_fk_tt.csv'\n",
    "data_lr_fn='full_results/data_fig4_vidmar_lr_tt.csv'\n",
    "\n",
    "fk=pd.read_csv(data_fk_fn)\n",
    "fk['N']=fk['No2']*2\n",
    "fk['q']=fk['N']/fk['A'] #number of tips per square centimeter\n",
    "fk['w']=fk['rate']/fk['A'] #[mHz?]/cm^2\n",
    "\n",
    "lr=pd.read_csv(data_lr_fn)\n",
    "lr['N']=lr['No2']*2\n",
    "lr['q']=lr['N']/lr['A'] #number of tips per square centimeter\n",
    "lr['w']=lr['rate']/lr['A'] #[mHz?]/cm^2\n",
    "\n"
   ]
  },
  {
   "cell_type": "code",
   "execution_count": 11,
   "metadata": {
    "ExecuteTime": {
     "end_time": "2021-05-28T21:18:23.246328Z",
     "start_time": "2021-05-28T21:18:23.230269Z"
    }
   },
   "outputs": [],
   "source": [
    "#compute w_lr and w_fk using a linear regression of a log-log plot\n",
    "# from lib.compute_slope import *\n",
    "yscale=10**3\n",
    "x=lr.q.values\n",
    "y=yscale*lr.w.values\n",
    "dict_out=compute_95CI_ols(np.log(x),np.log(y))\n",
    "dict_lr=dict_out.copy()\n",
    "#predict the values functionally over all q\n",
    "m=dict_out['m'];b=dict_out['b']\n",
    "q_foo = lambda q: m*q+b\n",
    "df['w_lr']=np.exp(q_foo(np.log(df['q'].values)))\n",
    "\n",
    "x=fk.q.values\n",
    "y=yscale*fk.w.values\n",
    "dict_out=compute_95CI_ols(np.log(x),np.log(y))\n",
    "dict_fk=dict_out.copy()\n",
    "#predict the values functionally over all q\n",
    "m=dict_out['m'];b=dict_out['b']\n",
    "q_foo = lambda q: m*q+b\n",
    "df['w_fk']=np.exp(q_foo(np.log(df['q'].values)))"
   ]
  },
  {
   "cell_type": "code",
   "execution_count": 12,
   "metadata": {
    "ExecuteTime": {
     "end_time": "2021-05-28T21:18:23.877913Z",
     "start_time": "2021-05-28T21:18:23.847723Z"
    }
   },
   "outputs": [],
   "source": [
    "#compute the square errors \n",
    "df['se_w_fk']=(df['w']-df['w_fk'])**2\n",
    "df['se_w_lr']=(df['w']-df['w_lr'])**2"
   ]
  },
  {
   "cell_type": "code",
   "execution_count": 13,
   "metadata": {
    "ExecuteTime": {
     "end_time": "2021-05-28T21:18:24.322521Z",
     "start_time": "2021-05-28T21:18:24.312348Z"
    }
   },
   "outputs": [],
   "source": [
    "# df_fn='w_vs_q_agg_over_A.csv'\n",
    "# os.chdir(data_folder)\n",
    "# df.to_csv(dg_fn,index=False)"
   ]
  },
  {
   "cell_type": "code",
   "execution_count": 71,
   "metadata": {
    "ExecuteTime": {
     "end_time": "2021-05-28T23:04:53.923496Z",
     "start_time": "2021-05-28T22:42:01.002236Z"
    },
    "run_control": {
     "marked": false
    }
   },
   "outputs": [
    {
     "name": "stdout",
     "output_type": "stream",
     "text": [
      "('m', 2.6800239292177475) ('Delta_m', 0.011304545883321004) ('b', 2.659200263077907) ('Delta_b', 0.006605243559947143) ('Rsquared', 0.9997020699557801)\n",
      "('m', 1.8316765055016389) ('Delta_m', 0.011000050074343484) ('b', 3.073386835585899) ('Delta_b', 0.006427326728785695) ('Rsquared', 0.9993962678420935)\n",
      "('m', 1.8266559789652268) ('Delta_m', 0.01524604385776344) ('b', 3.0317445083569887) ('Delta_b', 0.008908259919997713) ('Rsquared', 0.9988345083842852)\n",
      "('m', 2.6204166556011086) ('Delta_m', 0.01042530252709878) ('b', 2.72524056427502) ('Delta_b', 0.006091501869103829) ('Rsquared', 0.9997349448087215)\n",
      "('m', 2.474341899322059) ('Delta_m', 0.014382824058354648) ('b', 2.791505545726764) ('Delta_b', 0.008403880789715592) ('Rsquared', 0.9994343627452611)\n",
      "('m', 2.2134020327189132) ('Delta_m', 0.01054426744279928) ('b', 2.865288564349826) ('Delta_b', 0.006161013041989574) ('Rsquared', 0.9996200189198777)\n",
      "('m', 2.484842703265707) ('Delta_m', 0.01117582582334986) ('b', 2.78323957103043) ('Delta_b', 0.006530032458507425) ('Rsquared', 0.9996612891323029)\n",
      "('m', 2.412424054723856) ('Delta_m', 0.009258159355455755) ('b', 2.802395147060829) ('Delta_b', 0.00540954038231772) ('Rsquared', 0.9997533678492302)\n",
      "('m', 2.3954263599126104) ('Delta_m', 0.009595531634897143) ('b', 2.8102675694046235) ('Delta_b', 0.005606666927610688) ('Rsquared', 0.9997312982255301)\n",
      "('m', 2.2766432472552665) ('Delta_m', 0.008996773485283572) ('b', 2.8530408326877055) ('Delta_b', 0.005256812678486349) ('Rsquared', 0.9997384920870994)\n",
      "('m', 2.278694511353664) ('Delta_m', 0.01049659451584593) ('b', 2.8677281995231096) ('Delta_b', 0.006133157761733952) ('Rsquared', 0.9996447082594352)\n",
      "('m', 2.4754789080275827) ('Delta_m', 0.014479123883947505) ('b', 2.7968327676692626) ('Delta_b', 0.008460148755663675) ('Rsquared', 0.9994272934843231)\n",
      "('m', 2.4992702394314263) ('Delta_m', 0.010360175410662949) ('b', 2.79176920446727) ('Delta_b', 0.006053448109947488) ('Rsquared', 0.9997122617407158)\n",
      "('m', 2.5059877857121706) ('Delta_m', 0.009806057723643789) ('b', 2.7723602080915652) ('Delta_b', 0.005729677272851212) ('Rsquared', 0.9997435903116612)\n",
      "('m', 2.36733676553453) ('Delta_m', 0.009195189705031056) ('b', 2.831625440023151) ('Delta_b', 0.005372747230055537) ('Rsquared', 0.9997473575189718)\n",
      "('m', 2.3689866986319217) ('Delta_m', 0.008115650697217218) ('b', 2.8406776340294875) ('Delta_b', 0.004741972836048718) ('Rsquared', 0.9998034600255995)\n",
      "('m', 2.294840152739568) ('Delta_m', 0.007332683590041486) ('b', 2.8617167283565768) ('Delta_b', 0.004284485335382868) ('Rsquared', 0.9998290136045884)\n",
      "('m', 2.480323298691652) ('Delta_m', 0.010832026962081307) ('b', 2.7984914021483487) ('Delta_b', 0.006329150862930747) ('Rsquared', 0.9996806411376449)\n",
      "('m', 2.2953923752629555) ('Delta_m', 0.008768124786220726) ('b', 2.8632041589940753) ('Delta_b', 0.005123213296205681) ('Rsquared', 0.9997556523007417)\n",
      "('m', 2.385684519243073) ('Delta_m', 0.010370448188134743) ('b', 2.831556504999916) ('Delta_b', 0.006059450491461853) ('Rsquared', 0.9996835927668831)\n",
      "('m', 2.195373863040432) ('Delta_m', 0.009530215160653643) ('b', 2.898445566305712) ('Delta_b', 0.005568502526730873) ('Rsquared', 0.9996844514555129)\n",
      "('m', 2.2641817417213375) ('Delta_m', 0.010500733602822419) ('b', 2.87956587511818) ('Delta_b', 0.00613557622930246) ('Rsquared', 0.9996398569080316)\n",
      "('m', 2.2507808716063424) ('Delta_m', 0.009612064768760411) ('b', 2.888992102893786) ('Delta_b', 0.005616327233924914) ('Rsquared', 0.999694614009874)\n",
      "('m', 2.1359719006516973) ('Delta_m', 0.010027313400370027) ('b', 2.9254755691593792) ('Delta_b', 0.005858956913880753) ('Rsquared', 0.9996309946758688)\n",
      "('m', 2.293721463874278) ('Delta_m', 0.0093820837676647) ('b', 2.879844356644009) ('Delta_b', 0.005481949387872829) ('Rsquared', 0.999719837259819)\n",
      "('m', 2.3383513106670426) ('Delta_m', 0.010729588756606142) ('b', 2.8560787966144545) ('Delta_b', 0.006269296243029058) ('Rsquared', 0.9996474600711803)\n",
      "('m', 2.31843581897504) ('Delta_m', 0.010031372869425455) ('b', 2.85488604700937) ('Delta_b', 0.005861328860716295) ('Rsquared', 0.9996865204324301)\n",
      "('m', 2.2699256174880187) ('Delta_m', 0.010040112435245933) ('b', 2.8688466560374923) ('Delta_b', 0.005866435387015384) ('Rsquared', 0.999672413180719)\n",
      "('m', 2.332707312839553) ('Delta_m', 0.009551276393827047) ('b', 2.8644635744765483) ('Delta_b', 0.005580808600430695) ('Rsquared', 0.9997192658815593)\n",
      "('m', 2.312306452790352) ('Delta_m', 0.011073780803241602) ('b', 2.875384735287973) ('Delta_b', 0.006470407576725199) ('Rsquared', 0.9996159842236878)\n",
      "('m', 2.3135845690721304) ('Delta_m', 0.010071815657621453) ('b', 2.8722948001540507) ('Delta_b', 0.005884959572558692) ('Rsquared', 0.9996826622412137)\n",
      "('m', 2.152527256724141) ('Delta_m', 0.009285773961838929) ('b', 2.9484870670424375) ('Delta_b', 0.005425675590476948) ('Rsquared', 0.9996883850006021)\n",
      "('m', 2.1648588173303764) ('Delta_m', 0.008555861998322933) ('b', 2.931124922056383) ('Delta_b', 0.004999188198050528) ('Rsquared', 0.9997384410487825)\n",
      "('m', 2.24399622128325) ('Delta_m', 0.009573606069084913) ('b', 2.8987088939830734) ('Delta_b', 0.0055938558245487695) ('Rsquared', 0.9996952180171174)\n",
      "('m', 2.177306339872188) ('Delta_m', 0.008610387760756354) ('b', 2.9381926605133497) ('Delta_b', 0.005031047588501226) ('Rsquared', 0.9997381169394892)\n",
      "('m', 2.2884388658714183) ('Delta_m', 0.010249170394443) ('b', 2.878623046360437) ('Delta_b', 0.0059885879044977094) ('Rsquared', 0.9996641327036333)\n",
      "('m', 2.245849294371783) ('Delta_m', 0.008794673636519316) ('b', 2.9123487521383105) ('Delta_b', 0.005138725783329776) ('Rsquared', 0.9997432079884647)\n",
      "('m', 2.187444308617512) ('Delta_m', 0.009185592347484789) ('b', 2.9401263461632827) ('Delta_b', 0.005367139496248332) ('Rsquared', 0.9997047248616104)\n",
      "('m', 2.107267499579963) ('Delta_m', 0.009910496472946725) ('b', 2.9670701585026094) ('Delta_b', 0.0057907008100514055) ('Rsquared', 0.9996296559022202)\n",
      "('m', 2.2455814523760615) ('Delta_m', 0.00978955873631133) ('b', 2.9008886246149674) ('Delta_b', 0.0057200369183470845) ('Rsquared', 0.9996817670165397)\n",
      "('m', 2.339166992161948) ('Delta_m', 0.009825140451627483) ('b', 2.8738343586014077) ('Delta_b', 0.005740827306423677) ('Rsquared', 0.9997045788575002)\n",
      "('m', 2.3163208028809166) ('Delta_m', 0.010099776063012527) ('b', 2.8884008185235794) ('Delta_b', 0.005901296830998715) ('Rsquared', 0.9996816516477971)\n",
      "('m', 2.1548270687348587) ('Delta_m', 0.008004990241712083) ('b', 2.9499204841182336) ('Delta_b', 0.004677313957345368) ('Rsquared', 0.9997688940108452)\n",
      "('m', 2.1476720739755484) ('Delta_m', 0.009140923878754764) ('b', 2.9552588114984646) ('Delta_b', 0.0053410397202416715) ('Rsquared', 0.999696661665582)\n",
      "('m', 2.224003733973565) ('Delta_m', 0.008884447011170301) ('b', 2.908374572618376) ('Delta_b', 0.005191180345493394) ('Rsquared', 0.9997327679659858)\n",
      "('m', 2.1713454099679828) ('Delta_m', 0.008388154735104254) ('b', 2.947705054679531) ('Delta_b', 0.004901196882719062) ('Rsquared', 0.999750091343156)\n",
      "('m', 2.2312372019999036) ('Delta_m', 0.007776314431106098) ('b', 2.9214932970133978) ('Delta_b', 0.004543698733796279) ('Rsquared', 0.9997965851751477)\n",
      "('m', 2.2620207487748925) ('Delta_m', 0.009873496319131378) ('b', 2.9015376421609753) ('Delta_b', 0.0057690816286859285) ('Rsquared', 0.9996809747871632)\n",
      "('m', 2.1425459981723605) ('Delta_m', 0.008832273821689508) ('b', 2.9521945686410453) ('Delta_b', 0.005160695562877902) ('Rsquared', 0.9997154386249204)\n",
      "('m', 2.264899727417238) ('Delta_m', 0.010192455765889048) ('b', 2.9121619455376795) ('Delta_b', 0.005955449560076152) ('Rsquared', 0.9996609004378665)\n",
      "('m', 2.141526399642929) ('Delta_m', 0.009043653272542565) ('b', 2.958952656200789) ('Delta_b', 0.005284204527400955) ('Rsquared', 0.9997013750825674)\n",
      "('m', 2.0704558298621007) ('Delta_m', 0.008613611607582493) ('b', 2.990185400227738) ('Delta_b', 0.005032931281460359) ('Rsquared', 0.9997101805306615)\n",
      "('m', 2.231737704159884) ('Delta_m', 0.009497290874073255) ('b', 2.9155161485821974) ('Delta_b', 0.005549264873653465) ('Rsquared', 0.999696753169525)\n",
      "('m', 2.15574520037363) ('Delta_m', 0.009239555031401139) ('b', 2.9535230701377246) ('Delta_b', 0.005398669880050996) ('Rsquared', 0.9996923984932434)\n"
     ]
    },
    {
     "name": "stdout",
     "output_type": "stream",
     "text": [
      "('m', 2.116516265226719) ('Delta_m', 0.009161409017140926) ('b', 2.9775822515514667) ('Delta_b', 0.005353009181889792) ('Rsquared', 0.999686267245298)\n",
      "('m', 2.087588107346639) ('Delta_m', 0.007259332664294521) ('b', 2.973914712012319) ('Delta_b', 0.004241626406337241) ('Rsquared', 0.9997974973895829)\n",
      "('m', 2.1584397599577327) ('Delta_m', 0.00929516302381399) ('b', 2.956428455175203) ('Delta_b', 0.005431161617229798) ('Rsquared', 0.9996894624780736)\n",
      "('m', 2.060085876345191) ('Delta_m', 0.008938853194805101) ('b', 2.9865726354197504) ('Delta_b', 0.005222969866079559) ('Rsquared', 0.9996847385753597)\n",
      "('m', 2.2076622390293474) ('Delta_m', 0.009383128855969577) ('b', 2.9456161520579913) ('Delta_b', 0.005482560032729033) ('Rsquared', 0.9996975082578219)\n",
      "('m', 2.2107488968330795) ('Delta_m', 0.008766024384941727) ('b', 2.9367502281510744) ('Delta_b', 0.0051219860322213855) ('Rsquared', 0.9997367144842202)\n",
      "('m', 1.9788356227351918) ('Delta_m', 0.009752351410800608) ('b', 3.0434135242685536) ('Delta_b', 0.005698296686607643) ('Rsquared', 0.9995933344278055)\n",
      "('m', 2.2368610539849048) ('Delta_m', 0.008559696789955926) ('b', 2.9238092898914125) ('Delta_b', 0.0050014288659198086) ('Rsquared', 0.9997547849911252)\n",
      "('m', 2.2634725301761196) ('Delta_m', 0.009225394121370467) ('b', 2.90980311841328) ('Delta_b', 0.005390395663576623) ('Rsquared', 0.9997218280164324)\n",
      "('m', 2.14426669993925) ('Delta_m', 0.008560622346239439) ('b', 2.965632586165886) ('Delta_b', 0.0050019696682434165) ('Rsquared', 0.999733097921114)\n",
      "('m', 2.1729689100030067) ('Delta_m', 0.0076179247546757246) ('b', 2.9520658744108887) ('Delta_b', 0.0044511516822824775) ('Rsquared', 0.9997941780223537)\n",
      "('m', 2.1624098383107153) ('Delta_m', 0.009872742676349331) ('b', 2.953085772324501) ('Delta_b', 0.005768641275381692) ('Rsquared', 0.9996509699485654)\n",
      "('m', 2.003147870683745) ('Delta_m', 0.008010590426338544) ('b', 3.0371373210147965) ('Delta_b', 0.004680586143934749) ('Rsquared', 0.9997322055764395)\n",
      "('m', 2.145700361092405) ('Delta_m', 0.009189690366126834) ('b', 2.95016026991956) ('Delta_b', 0.0053695339675984685) ('Rsquared', 0.9996928538981654)\n",
      "('m', 1.9876645148128238) ('Delta_m', 0.009685745845475234) ('b', 3.0423084752187926) ('Delta_b', 0.005659379070105137) ('Rsquared', 0.9996024222421264)\n",
      "('m', 2.1309603025889716) ('Delta_m', 0.00786000946570784) ('b', 2.970054203524831) ('Delta_b', 0.004592601723266944) ('Rsquared', 0.9997721698090882)\n",
      "('m', 2.0469313174453814) ('Delta_m', 0.009076857440424546) ('b', 3.0077288853752973) ('Delta_b', 0.00530360571505852) ('Rsquared', 0.9996707420417701)\n",
      "('m', 2.033277809000384) ('Delta_m', 0.008658365007845148) ('b', 3.012766869089041) ('Delta_b', 0.005059080682942004) ('Rsquared', 0.9996963584075856)\n",
      "('m', 2.1861352651930708) ('Delta_m', 0.008657264924270724) ('b', 2.9518529043135384) ('Delta_b', 0.005058437904362452) ('Rsquared', 0.99973739190906)\n",
      "('m', 2.1678956479328235) ('Delta_m', 0.00892743047207711) ('b', 2.961015820161948) ('Delta_b', 0.0052162955718164485) ('Rsquared', 0.9997160331299025)\n",
      "('m', 2.1006139440360787) ('Delta_m', 0.00794613183128902) ('b', 3.0005401429849847) ('Delta_b', 0.00464292300167069) ('Rsquared', 0.9997603762968023)\n",
      "('m', 2.075255415588992) ('Delta_m', 0.00795575225754323) ('b', 2.994335453071365) ('Delta_b', 0.00464854421451864) ('Rsquared', 0.9997538911085792)\n",
      "('m', 2.0362598180780216) ('Delta_m', 0.009362228452117314) ('b', 3.019118918725164) ('Delta_b', 0.005470347931564567) ('Rsquared', 0.9996460408465974)\n",
      "('m', 2.142007491385772) ('Delta_m', 0.01082580202276788) ('b', 2.9706371305100063) ('Delta_b', 0.006325513632321446) ('Rsquared', 0.9995723315347349)\n",
      "('m', 2.112552885977612) ('Delta_m', 0.009040421485501354) ('b', 2.9791109291863958) ('Delta_b', 0.005282316194975981) ('Rsquared', 0.9996933494189609)\n",
      "('m', 1.961682084162637) ('Delta_m', 0.008384866215524657) ('b', 3.057524933608991) ('Delta_b', 0.0048992754014849545) ('Rsquared', 0.9996940736024506)\n",
      "('m', 2.1390061978134627) ('Delta_m', 0.00992809396526392) ('b', 2.9765735530306667) ('Delta_b', 0.005800983020765493) ('Rsquared', 0.9996392836747914)\n",
      "('m', 2.0562341614016972) ('Delta_m', 0.007820947551110206) ('b', 3.0163262588258464) ('Delta_b', 0.0045697778555505155) ('Rsquared', 0.9997577391744498)\n",
      "('m', 2.0936918552585775) ('Delta_m', 0.00841449558092682) ('b', 2.9960822662379907) ('Delta_b', 0.0049165878328756496) ('Rsquared', 0.9997295244730021)\n",
      "('m', 2.0707638755741327) ('Delta_m', 0.008052576786934173) ('b', 3.0013905149907463) ('Delta_b', 0.004705118764775279) ('Rsquared', 0.9997467710169584)\n",
      "('m', 2.054919683079423) ('Delta_m', 0.009343973937032768) ('b', 3.0182311562052586) ('Delta_b', 0.00545968182259861) ('Rsquared', 0.9996537913125332)\n",
      "('m', 2.144019591552372) ('Delta_m', 0.007937182267630164) ('b', 2.97809990626357) ('Delta_b', 0.004637693773682928) ('Rsquared', 0.9997704959596996)\n",
      "('m', 2.17177009660369) ('Delta_m', 0.00949873492733344) ('b', 2.964506062000183) ('Delta_b', 0.005550108633641306) ('Rsquared', 0.9996796833482713)\n",
      "('m', 1.985276766132943) ('Delta_m', 0.009415533592065504) ('b', 3.050577657549981) ('Delta_b', 0.005501494112577848) ('Rsquared', 0.9996233838213369)\n",
      "('m', 1.9737695325786524) ('Delta_m', 0.00857876372312778) ('b', 3.062813358622269) ('Delta_b', 0.005012569670587348) ('Rsquared', 0.9996836746896147)\n",
      "('m', 2.0578802875004536) ('Delta_m', 0.009713979466043243) ('b', 3.015605983572706) ('Delta_b', 0.005675875968110212) ('Rsquared', 0.9996269157625562)\n",
      "('m', 2.0825005253199445) ('Delta_m', 0.007399076164442292) ('b', 3.0047911662503717) ('Delta_b', 0.00432327850133713) ('Rsquared', 0.9997885986542102)\n",
      "('m', 1.9263180958608255) ('Delta_m', 0.00832956381413174) ('b', 3.087929877958197) ('Delta_b', 0.0048669622210688246) ('Rsquared', 0.9996869113470738)\n",
      "('m', 2.0034207666427375) ('Delta_m', 0.008638496608260637) ('b', 3.0551931709204787) ('Delta_b', 0.0050474715816338596) ('Rsquared', 0.9996886767352432)\n",
      "('m', 2.038222483995483) ('Delta_m', 0.008324270126138551) ('b', 3.035363994508542) ('Delta_b', 0.004863869120391781) ('Rsquared', 0.9997206924687286)\n",
      "('m', 1.9852722602681487) ('Delta_m', 0.008925070766555855) ('b', 3.0508199780269645) ('Delta_b', 0.005214916796423034) ('Rsquared', 0.9996615839109388)\n",
      "('m', 1.8832350159039406) ('Delta_m', 0.009430485893350096) ('b', 3.1188104583504175) ('Delta_b', 0.005510230738779893) ('Rsquared', 0.999580152536323)\n",
      "('m', 2.0076642970157965) ('Delta_m', 0.00873211160586174) ('b', 3.053204614099331) ('Delta_b', 0.0051021708032037835) ('Rsquared', 0.9996832376287564)\n",
      "('m', 1.9755662353880814) ('Delta_m', 0.008581742352502227) ('b', 3.114570549151383) ('Delta_b', 0.005014310083045851) ('Rsquared', 0.9996840303862888)\n",
      "('m', 1.9333059762979625) ('Delta_m', 0.009066202807830923) ('b', 3.12374578903486) ('Delta_b', 0.005297380215684284) ('Rsquared', 0.9996317824026655)\n",
      "('m', 1.950686158704967) ('Delta_m', 0.008443822720982751) ('b', 3.0940041601223878) ('Delta_b', 0.0049337236740660435) ('Rsquared', 0.9996862512969781)\n"
     ]
    }
   ],
   "source": [
    "#in rmse_lr,fk cell\n",
    "qmin=0.3;qmax=1.0;\n",
    "#compute the root mean squared errors over various axes\n",
    "#common defines\n",
    "no_attraction=0;no_repulsion=1;reflect=0;set_second=0\n",
    "#input list\n",
    "r_lst=[];D_lst=[];L_lst=[];kappa_lst=[];varkappa_lst=[];x0_lst=[]\n",
    "#output list\n",
    "rmse_lr_lst=[];rmse_fk_lst=[];m_lst=[];Delta_m_lst=[]\n",
    "for r in r_values:\n",
    "    for L in L_values:\n",
    "        for kappa in kappa_values:\n",
    "            #query the dataframe with the fixed parameters\n",
    "            query =df.no_attraction==no_attraction\n",
    "            query&=df.no_repulsion==no_repulsion\n",
    "            query&=df.reflect==reflect\n",
    "            query&=df.set_second==set_second\n",
    "            query&=df.r==r\n",
    "            query&=df.L==L\n",
    "            query&=df.kappa==kappa\n",
    "            dff=df[query]#.copy()\n",
    "            #extract the values of the bred parameters present\n",
    "            D_values=np.array(sorted(set(dff.D.values)))#cm^2/s\n",
    "            varkappa_values=np.array(sorted(set(dff.varkappa.values)))#1/s\n",
    "            x0_values=np.array(sorted(set(dff.x0.values)))#1/s\n",
    "            for D in D_values:\n",
    "                for varkappa in varkappa_values:\n",
    "                    for x0 in x0_values:\n",
    "                        #query the dataframe with the bred parameters\n",
    "                        query =dff.D==D\n",
    "                        query&=dff.varkappa==varkappa\n",
    "                        query&=dff.x0==x0\n",
    "                        dg=dff[query]#.copy() \n",
    "\n",
    "                        #limit query to the specified interval of particle densities\n",
    "                        query=(dg.q>qmin)&(dg.q<qmax)\n",
    "                        qu=dg[query]\n",
    "                        rmse_lr=np.sqrt(qu.se_w_lr.mean())\n",
    "                        rmse_fk=np.sqrt(qu.se_w_fk.mean())\n",
    "                        # print(f\"for r={r}, kappa={kappa},\")\n",
    "                        # print(f\"\\tRMSE = {rmse_lr:.6f} (LR) and RMSE = {rmse_fk:.6f} (FK)\")\n",
    "                        # DONE: compute exponent for each trial from qmin=0.3 to qmin=0.6\n",
    "                        #_95\n",
    "                        #extract the data\n",
    "                        x_values=dg.q.values\n",
    "                        y_values=dg.w.values\n",
    "                        boo=(x_values>qmin)&(x_values<qmax)\n",
    "                        try:\n",
    "                            dict_ci=compute_95CI_ols(np.log(x_values[boo]),np.log(y_values[boo]))\n",
    "#                             print(*zip(dict_ci,dict_ci.values()))\n",
    "                            m=dict_ci['m']\n",
    "                            Delta_m=dict_ci['Delta_m']                        \n",
    "                        except AssertionError as e:\n",
    "                            m=-9999\n",
    "                            Delta_m=-9999                           \n",
    "                        #record inputs\n",
    "                        r_lst.append(r)\n",
    "                        D_lst.append(D)\n",
    "                        L_lst.append(L)\n",
    "                        kappa_lst.append(kappa)\n",
    "                        varkappa_lst.append(varkappa)\n",
    "                        x0_lst.append(x0)\n",
    "                        #record outputs\n",
    "                        rmse_lr_lst.append(rmse_lr)\n",
    "                        rmse_fk_lst.append(rmse_fk)   \n",
    "                        m_lst.append(m)\n",
    "                        Delta_m_lst.append(Delta_m)"
   ]
  },
  {
   "cell_type": "code",
   "execution_count": 72,
   "metadata": {
    "ExecuteTime": {
     "end_time": "2021-05-28T23:05:07.867361Z",
     "start_time": "2021-05-28T23:05:05.830380Z"
    }
   },
   "outputs": [
    {
     "data": {
      "text/plain": [
       "0"
      ]
     },
     "execution_count": 72,
     "metadata": {},
     "output_type": "execute_result"
    }
   ],
   "source": [
    "beep(10)"
   ]
  },
  {
   "cell_type": "code",
   "execution_count": 73,
   "metadata": {
    "ExecuteTime": {
     "end_time": "2021-05-28T23:05:20.672642Z",
     "start_time": "2021-05-28T23:05:19.768280Z"
    }
   },
   "outputs": [
    {
     "data": {
      "text/html": [
       "<div>\n",
       "<style scoped>\n",
       "    .dataframe tbody tr th:only-of-type {\n",
       "        vertical-align: middle;\n",
       "    }\n",
       "\n",
       "    .dataframe tbody tr th {\n",
       "        vertical-align: top;\n",
       "    }\n",
       "\n",
       "    .dataframe thead th {\n",
       "        text-align: right;\n",
       "    }\n",
       "</style>\n",
       "<table border=\"1\" class=\"dataframe\">\n",
       "  <thead>\n",
       "    <tr style=\"text-align: right;\">\n",
       "      <th></th>\n",
       "      <th>rmse_lr</th>\n",
       "      <th>rmse_fk</th>\n",
       "      <th>m</th>\n",
       "      <th>Delta_m</th>\n",
       "      <th>r</th>\n",
       "      <th>D</th>\n",
       "      <th>L</th>\n",
       "      <th>kappa</th>\n",
       "      <th>varkappa</th>\n",
       "      <th>x0</th>\n",
       "    </tr>\n",
       "  </thead>\n",
       "  <tbody>\n",
       "    <tr>\n",
       "      <th>0</th>\n",
       "      <td>NaN</td>\n",
       "      <td>NaN</td>\n",
       "      <td>-9999.0</td>\n",
       "      <td>-9999</td>\n",
       "      <td>0.1</td>\n",
       "      <td>1.96712</td>\n",
       "      <td>10</td>\n",
       "      <td>1500</td>\n",
       "      <td>-20.0</td>\n",
       "      <td>0.47757</td>\n",
       "    </tr>\n",
       "    <tr>\n",
       "      <th>1</th>\n",
       "      <td>NaN</td>\n",
       "      <td>NaN</td>\n",
       "      <td>-9999.0</td>\n",
       "      <td>-9999</td>\n",
       "      <td>0.1</td>\n",
       "      <td>1.96712</td>\n",
       "      <td>10</td>\n",
       "      <td>1500</td>\n",
       "      <td>-20.0</td>\n",
       "      <td>0.65943</td>\n",
       "    </tr>\n",
       "    <tr>\n",
       "      <th>2</th>\n",
       "      <td>NaN</td>\n",
       "      <td>NaN</td>\n",
       "      <td>-9999.0</td>\n",
       "      <td>-9999</td>\n",
       "      <td>0.1</td>\n",
       "      <td>1.96712</td>\n",
       "      <td>10</td>\n",
       "      <td>1500</td>\n",
       "      <td>-20.0</td>\n",
       "      <td>0.70865</td>\n",
       "    </tr>\n",
       "    <tr>\n",
       "      <th>3</th>\n",
       "      <td>NaN</td>\n",
       "      <td>NaN</td>\n",
       "      <td>-9999.0</td>\n",
       "      <td>-9999</td>\n",
       "      <td>0.1</td>\n",
       "      <td>1.96712</td>\n",
       "      <td>10</td>\n",
       "      <td>1500</td>\n",
       "      <td>-20.0</td>\n",
       "      <td>0.74434</td>\n",
       "    </tr>\n",
       "    <tr>\n",
       "      <th>4</th>\n",
       "      <td>NaN</td>\n",
       "      <td>NaN</td>\n",
       "      <td>-9999.0</td>\n",
       "      <td>-9999</td>\n",
       "      <td>0.1</td>\n",
       "      <td>1.96712</td>\n",
       "      <td>10</td>\n",
       "      <td>1500</td>\n",
       "      <td>-20.0</td>\n",
       "      <td>0.81207</td>\n",
       "    </tr>\n",
       "  </tbody>\n",
       "</table>\n",
       "</div>"
      ],
      "text/plain": [
       "   rmse_lr  rmse_fk       m  Delta_m    r        D   L  kappa  varkappa  \\\n",
       "0      NaN      NaN -9999.0    -9999  0.1  1.96712  10   1500     -20.0   \n",
       "1      NaN      NaN -9999.0    -9999  0.1  1.96712  10   1500     -20.0   \n",
       "2      NaN      NaN -9999.0    -9999  0.1  1.96712  10   1500     -20.0   \n",
       "3      NaN      NaN -9999.0    -9999  0.1  1.96712  10   1500     -20.0   \n",
       "4      NaN      NaN -9999.0    -9999  0.1  1.96712  10   1500     -20.0   \n",
       "\n",
       "        x0  \n",
       "0  0.47757  \n",
       "1  0.65943  \n",
       "2  0.70865  \n",
       "3  0.74434  \n",
       "4  0.81207  "
      ]
     },
     "execution_count": 73,
     "metadata": {},
     "output_type": "execute_result"
    }
   ],
   "source": [
    "#form a pandas.DataFrame of ^that\n",
    "dh=pd.DataFrame({\n",
    "    'rmse_lr':rmse_lr_lst,\n",
    "    'rmse_fk':rmse_fk_lst,\n",
    "    'm':m_lst,\n",
    "    'Delta_m':Delta_m,\n",
    "    'r':r_lst,\n",
    "    'D':D_lst,\n",
    "    'L':L_lst,\n",
    "    'kappa':kappa_lst,\n",
    "    'varkappa':varkappa_lst,\n",
    "    'x0':x0_lst, \n",
    "})\n",
    "dh.head()"
   ]
  },
  {
   "cell_type": "code",
   "execution_count": 18,
   "metadata": {
    "ExecuteTime": {
     "end_time": "2021-05-28T21:43:01.469233Z",
     "start_time": "2021-05-28T21:43:01.423280Z"
    }
   },
   "outputs": [
    {
     "name": "stdout",
     "output_type": "stream",
     "text": [
      "The top 5 for the Fenton-Karma model:\n"
     ]
    },
    {
     "data": {
      "text/html": [
       "<div>\n",
       "<style scoped>\n",
       "    .dataframe tbody tr th:only-of-type {\n",
       "        vertical-align: middle;\n",
       "    }\n",
       "\n",
       "    .dataframe tbody tr th {\n",
       "        vertical-align: top;\n",
       "    }\n",
       "\n",
       "    .dataframe thead th {\n",
       "        text-align: right;\n",
       "    }\n",
       "</style>\n",
       "<table border=\"1\" class=\"dataframe\">\n",
       "  <thead>\n",
       "    <tr style=\"text-align: right;\">\n",
       "      <th></th>\n",
       "      <th>rmse_lr</th>\n",
       "      <th>rmse_fk</th>\n",
       "      <th>r</th>\n",
       "      <th>D</th>\n",
       "      <th>L</th>\n",
       "      <th>kappa</th>\n",
       "      <th>varkappa</th>\n",
       "      <th>x0</th>\n",
       "    </tr>\n",
       "  </thead>\n",
       "  <tbody>\n",
       "    <tr>\n",
       "      <th>9417</th>\n",
       "      <td>3.342322</td>\n",
       "      <td>3.428204</td>\n",
       "      <td>0.1</td>\n",
       "      <td>1.96712</td>\n",
       "      <td>10</td>\n",
       "      <td>1500</td>\n",
       "      <td>-2.13418</td>\n",
       "      <td>1.05417</td>\n",
       "    </tr>\n",
       "    <tr>\n",
       "      <th>28518</th>\n",
       "      <td>2.928606</td>\n",
       "      <td>3.865771</td>\n",
       "      <td>0.1</td>\n",
       "      <td>3.17142</td>\n",
       "      <td>10</td>\n",
       "      <td>1500</td>\n",
       "      <td>-2.23362</td>\n",
       "      <td>0.47757</td>\n",
       "    </tr>\n",
       "    <tr>\n",
       "      <th>124761</th>\n",
       "      <td>2.504929</td>\n",
       "      <td>4.267418</td>\n",
       "      <td>0.1</td>\n",
       "      <td>3.99273</td>\n",
       "      <td>10</td>\n",
       "      <td>1500</td>\n",
       "      <td>-1.76952</td>\n",
       "      <td>0.93192</td>\n",
       "    </tr>\n",
       "    <tr>\n",
       "      <th>52824</th>\n",
       "      <td>2.410340</td>\n",
       "      <td>4.369833</td>\n",
       "      <td>0.1</td>\n",
       "      <td>3.38961</td>\n",
       "      <td>10</td>\n",
       "      <td>1500</td>\n",
       "      <td>-6.58375</td>\n",
       "      <td>0.70865</td>\n",
       "    </tr>\n",
       "    <tr>\n",
       "      <th>112799</th>\n",
       "      <td>2.387888</td>\n",
       "      <td>4.425316</td>\n",
       "      <td>0.1</td>\n",
       "      <td>3.89332</td>\n",
       "      <td>10</td>\n",
       "      <td>1500</td>\n",
       "      <td>-5.08992</td>\n",
       "      <td>0.65943</td>\n",
       "    </tr>\n",
       "  </tbody>\n",
       "</table>\n",
       "</div>"
      ],
      "text/plain": [
       "         rmse_lr   rmse_fk    r        D   L  kappa  varkappa       x0\n",
       "9417    3.342322  3.428204  0.1  1.96712  10   1500  -2.13418  1.05417\n",
       "28518   2.928606  3.865771  0.1  3.17142  10   1500  -2.23362  0.47757\n",
       "124761  2.504929  4.267418  0.1  3.99273  10   1500  -1.76952  0.93192\n",
       "52824   2.410340  4.369833  0.1  3.38961  10   1500  -6.58375  0.70865\n",
       "112799  2.387888  4.425316  0.1  3.89332  10   1500  -5.08992  0.65943"
      ]
     },
     "execution_count": 18,
     "metadata": {},
     "output_type": "execute_result"
    }
   ],
   "source": [
    "#and the top 5 matches for either model is... (FK)\n",
    "print(f\"The top 5 for the Fenton-Karma model:\")\n",
    "dh.sort_values(by='rmse_fk').head(5)"
   ]
  },
  {
   "cell_type": "code",
   "execution_count": 19,
   "metadata": {
    "ExecuteTime": {
     "end_time": "2021-05-28T21:43:13.355722Z",
     "start_time": "2021-05-28T21:43:13.310656Z"
    }
   },
   "outputs": [
    {
     "name": "stdout",
     "output_type": "stream",
     "text": [
      "The top 5 for the Luo-Rudy model:\n"
     ]
    },
    {
     "data": {
      "text/html": [
       "<div>\n",
       "<style scoped>\n",
       "    .dataframe tbody tr th:only-of-type {\n",
       "        vertical-align: middle;\n",
       "    }\n",
       "\n",
       "    .dataframe tbody tr th {\n",
       "        vertical-align: top;\n",
       "    }\n",
       "\n",
       "    .dataframe thead th {\n",
       "        text-align: right;\n",
       "    }\n",
       "</style>\n",
       "<table border=\"1\" class=\"dataframe\">\n",
       "  <thead>\n",
       "    <tr style=\"text-align: right;\">\n",
       "      <th></th>\n",
       "      <th>rmse_lr</th>\n",
       "      <th>rmse_fk</th>\n",
       "      <th>r</th>\n",
       "      <th>D</th>\n",
       "      <th>L</th>\n",
       "      <th>kappa</th>\n",
       "      <th>varkappa</th>\n",
       "      <th>x0</th>\n",
       "    </tr>\n",
       "  </thead>\n",
       "  <tbody>\n",
       "    <tr>\n",
       "      <th>541039</th>\n",
       "      <td>0.843402</td>\n",
       "      <td>6.624404</td>\n",
       "      <td>0.1</td>\n",
       "      <td>7.45235</td>\n",
       "      <td>10</td>\n",
       "      <td>1500</td>\n",
       "      <td>-7.27897</td>\n",
       "      <td>2.11749</td>\n",
       "    </tr>\n",
       "    <tr>\n",
       "      <th>523696</th>\n",
       "      <td>0.881674</td>\n",
       "      <td>6.477788</td>\n",
       "      <td>0.1</td>\n",
       "      <td>7.34665</td>\n",
       "      <td>10</td>\n",
       "      <td>1500</td>\n",
       "      <td>-6.32629</td>\n",
       "      <td>2.17536</td>\n",
       "    </tr>\n",
       "    <tr>\n",
       "      <th>713022</th>\n",
       "      <td>0.892021</td>\n",
       "      <td>6.672846</td>\n",
       "      <td>0.1</td>\n",
       "      <td>8.61194</td>\n",
       "      <td>10</td>\n",
       "      <td>1500</td>\n",
       "      <td>-7.67844</td>\n",
       "      <td>1.92905</td>\n",
       "    </tr>\n",
       "    <tr>\n",
       "      <th>480947</th>\n",
       "      <td>0.894189</td>\n",
       "      <td>6.654034</td>\n",
       "      <td>0.1</td>\n",
       "      <td>6.98876</td>\n",
       "      <td>10</td>\n",
       "      <td>1500</td>\n",
       "      <td>-9.14439</td>\n",
       "      <td>1.73891</td>\n",
       "    </tr>\n",
       "    <tr>\n",
       "      <th>743199</th>\n",
       "      <td>0.900044</td>\n",
       "      <td>6.462531</td>\n",
       "      <td>0.1</td>\n",
       "      <td>8.93863</td>\n",
       "      <td>10</td>\n",
       "      <td>1500</td>\n",
       "      <td>-7.19255</td>\n",
       "      <td>1.79224</td>\n",
       "    </tr>\n",
       "  </tbody>\n",
       "</table>\n",
       "</div>"
      ],
      "text/plain": [
       "         rmse_lr   rmse_fk    r        D   L  kappa  varkappa       x0\n",
       "541039  0.843402  6.624404  0.1  7.45235  10   1500  -7.27897  2.11749\n",
       "523696  0.881674  6.477788  0.1  7.34665  10   1500  -6.32629  2.17536\n",
       "713022  0.892021  6.672846  0.1  8.61194  10   1500  -7.67844  1.92905\n",
       "480947  0.894189  6.654034  0.1  6.98876  10   1500  -9.14439  1.73891\n",
       "743199  0.900044  6.462531  0.1  8.93863  10   1500  -7.19255  1.79224"
      ]
     },
     "execution_count": 19,
     "metadata": {},
     "output_type": "execute_result"
    }
   ],
   "source": [
    "#and the top 5 matches for either model is... (FK)\n",
    "print(f\"The top 5 for the Luo-Rudy model:\")\n",
    "dh.sort_values(by='rmse_lr',inplace=True)\n",
    "dh.head(5)"
   ]
  },
  {
   "cell_type": "code",
   "execution_count": 92,
   "metadata": {
    "ExecuteTime": {
     "end_time": "2021-05-28T23:28:24.947672Z",
     "start_time": "2021-05-28T23:28:24.925301Z"
    }
   },
   "outputs": [],
   "source": [
    "#compute absolute error from the target exponent\n",
    "dh['m_fk']=np.abs(dh['m']-m_fk)\n",
    "dh['m_lr']=np.abs(dh['m']-m_lr)"
   ]
  },
  {
   "cell_type": "code",
   "execution_count": 93,
   "metadata": {
    "ExecuteTime": {
     "end_time": "2021-05-28T23:28:37.487184Z",
     "start_time": "2021-05-28T23:28:37.420039Z"
    }
   },
   "outputs": [
    {
     "name": "stdout",
     "output_type": "stream",
     "text": [
      "The top 5 for the exponent of the Fenton-Karma model:\n"
     ]
    },
    {
     "data": {
      "text/html": [
       "<div>\n",
       "<style scoped>\n",
       "    .dataframe tbody tr th:only-of-type {\n",
       "        vertical-align: middle;\n",
       "    }\n",
       "\n",
       "    .dataframe tbody tr th {\n",
       "        vertical-align: top;\n",
       "    }\n",
       "\n",
       "    .dataframe thead th {\n",
       "        text-align: right;\n",
       "    }\n",
       "</style>\n",
       "<table border=\"1\" class=\"dataframe\">\n",
       "  <thead>\n",
       "    <tr style=\"text-align: right;\">\n",
       "      <th></th>\n",
       "      <th>rmse_lr</th>\n",
       "      <th>rmse_fk</th>\n",
       "      <th>m</th>\n",
       "      <th>Delta_m</th>\n",
       "      <th>r</th>\n",
       "      <th>D</th>\n",
       "      <th>L</th>\n",
       "      <th>kappa</th>\n",
       "      <th>varkappa</th>\n",
       "      <th>x0</th>\n",
       "      <th>m_fk</th>\n",
       "      <th>m_lr</th>\n",
       "    </tr>\n",
       "  </thead>\n",
       "  <tbody>\n",
       "    <tr>\n",
       "      <th>929333</th>\n",
       "      <td>1.895783</td>\n",
       "      <td>8.979767</td>\n",
       "      <td>1.950686</td>\n",
       "      <td>-9999</td>\n",
       "      <td>0.1</td>\n",
       "      <td>20.00000</td>\n",
       "      <td>10</td>\n",
       "      <td>1500</td>\n",
       "      <td>-5.00000</td>\n",
       "      <td>5.00000</td>\n",
       "      <td>0.005686</td>\n",
       "      <td>0.406686</td>\n",
       "    </tr>\n",
       "    <tr>\n",
       "      <th>922472</th>\n",
       "      <td>2.249769</td>\n",
       "      <td>9.370456</td>\n",
       "      <td>1.933306</td>\n",
       "      <td>-9999</td>\n",
       "      <td>0.1</td>\n",
       "      <td>20.00000</td>\n",
       "      <td>10</td>\n",
       "      <td>1500</td>\n",
       "      <td>-10.00000</td>\n",
       "      <td>3.00000</td>\n",
       "      <td>0.011694</td>\n",
       "      <td>0.389306</td>\n",
       "    </tr>\n",
       "    <tr>\n",
       "      <th>749691</th>\n",
       "      <td>1.479286</td>\n",
       "      <td>8.519240</td>\n",
       "      <td>1.961682</td>\n",
       "      <td>-9999</td>\n",
       "      <td>0.1</td>\n",
       "      <td>8.94415</td>\n",
       "      <td>10</td>\n",
       "      <td>1500</td>\n",
       "      <td>-9.64157</td>\n",
       "      <td>2.33870</td>\n",
       "      <td>0.016682</td>\n",
       "      <td>0.417682</td>\n",
       "    </tr>\n",
       "    <tr>\n",
       "      <th>865239</th>\n",
       "      <td>1.872635</td>\n",
       "      <td>8.971312</td>\n",
       "      <td>1.926318</td>\n",
       "      <td>-9999</td>\n",
       "      <td>0.1</td>\n",
       "      <td>10.43910</td>\n",
       "      <td>10</td>\n",
       "      <td>1500</td>\n",
       "      <td>-9.13113</td>\n",
       "      <td>2.82430</td>\n",
       "      <td>0.018682</td>\n",
       "      <td>0.382318</td>\n",
       "    </tr>\n",
       "    <tr>\n",
       "      <th>835926</th>\n",
       "      <td>1.522965</td>\n",
       "      <td>8.553075</td>\n",
       "      <td>1.973770</td>\n",
       "      <td>-9999</td>\n",
       "      <td>0.1</td>\n",
       "      <td>10.17000</td>\n",
       "      <td>10</td>\n",
       "      <td>1500</td>\n",
       "      <td>-10.04150</td>\n",
       "      <td>2.24696</td>\n",
       "      <td>0.028770</td>\n",
       "      <td>0.429770</td>\n",
       "    </tr>\n",
       "  </tbody>\n",
       "</table>\n",
       "</div>"
      ],
      "text/plain": [
       "         rmse_lr   rmse_fk         m  Delta_m    r         D   L  kappa  \\\n",
       "929333  1.895783  8.979767  1.950686    -9999  0.1  20.00000  10   1500   \n",
       "922472  2.249769  9.370456  1.933306    -9999  0.1  20.00000  10   1500   \n",
       "749691  1.479286  8.519240  1.961682    -9999  0.1   8.94415  10   1500   \n",
       "865239  1.872635  8.971312  1.926318    -9999  0.1  10.43910  10   1500   \n",
       "835926  1.522965  8.553075  1.973770    -9999  0.1  10.17000  10   1500   \n",
       "\n",
       "        varkappa       x0      m_fk      m_lr  \n",
       "929333  -5.00000  5.00000  0.005686  0.406686  \n",
       "922472 -10.00000  3.00000  0.011694  0.389306  \n",
       "749691  -9.64157  2.33870  0.016682  0.417682  \n",
       "865239  -9.13113  2.82430  0.018682  0.382318  \n",
       "835926 -10.04150  2.24696  0.028770  0.429770  "
      ]
     },
     "execution_count": 93,
     "metadata": {},
     "output_type": "execute_result"
    }
   ],
   "source": [
    "#rank each trial by distance from m_fk\n",
    "print(f\"The top 5 for the exponent of the Fenton-Karma model:\")\n",
    "dh.sort_values(by='m_fk').head(5)"
   ]
  },
  {
   "cell_type": "code",
   "execution_count": 94,
   "metadata": {
    "ExecuteTime": {
     "end_time": "2021-05-28T23:28:49.798710Z",
     "start_time": "2021-05-28T23:28:49.731821Z"
    }
   },
   "outputs": [
    {
     "name": "stdout",
     "output_type": "stream",
     "text": [
      "The top 5 for the exponent of the Luo-Rudy model:\n"
     ]
    },
    {
     "data": {
      "text/html": [
       "<div>\n",
       "<style scoped>\n",
       "    .dataframe tbody tr th:only-of-type {\n",
       "        vertical-align: middle;\n",
       "    }\n",
       "\n",
       "    .dataframe tbody tr th {\n",
       "        vertical-align: top;\n",
       "    }\n",
       "\n",
       "    .dataframe thead th {\n",
       "        text-align: right;\n",
       "    }\n",
       "</style>\n",
       "<table border=\"1\" class=\"dataframe\">\n",
       "  <thead>\n",
       "    <tr style=\"text-align: right;\">\n",
       "      <th></th>\n",
       "      <th>rmse_lr</th>\n",
       "      <th>rmse_fk</th>\n",
       "      <th>m</th>\n",
       "      <th>Delta_m</th>\n",
       "      <th>r</th>\n",
       "      <th>D</th>\n",
       "      <th>L</th>\n",
       "      <th>kappa</th>\n",
       "      <th>varkappa</th>\n",
       "      <th>x0</th>\n",
       "      <th>m_fk</th>\n",
       "      <th>m_lr</th>\n",
       "    </tr>\n",
       "  </thead>\n",
       "  <tbody>\n",
       "    <tr>\n",
       "      <th>16953</th>\n",
       "      <td>1.495370</td>\n",
       "      <td>8.615775</td>\n",
       "      <td>1.826656</td>\n",
       "      <td>-9999</td>\n",
       "      <td>0.1</td>\n",
       "      <td>2.0000</td>\n",
       "      <td>10</td>\n",
       "      <td>1500</td>\n",
       "      <td>-5.00000</td>\n",
       "      <td>5.00000</td>\n",
       "      <td>0.118344</td>\n",
       "      <td>0.282656</td>\n",
       "    </tr>\n",
       "    <tr>\n",
       "      <th>9636</th>\n",
       "      <td>1.903193</td>\n",
       "      <td>9.059087</td>\n",
       "      <td>1.831677</td>\n",
       "      <td>-9999</td>\n",
       "      <td>0.1</td>\n",
       "      <td>2.0000</td>\n",
       "      <td>10</td>\n",
       "      <td>1500</td>\n",
       "      <td>-20.00000</td>\n",
       "      <td>1.50000</td>\n",
       "      <td>0.113323</td>\n",
       "      <td>0.287677</td>\n",
       "    </tr>\n",
       "    <tr>\n",
       "      <th>902968</th>\n",
       "      <td>2.290209</td>\n",
       "      <td>9.442628</td>\n",
       "      <td>1.883235</td>\n",
       "      <td>-9999</td>\n",
       "      <td>0.1</td>\n",
       "      <td>11.6473</td>\n",
       "      <td>10</td>\n",
       "      <td>1500</td>\n",
       "      <td>-10.75640</td>\n",
       "      <td>2.81314</td>\n",
       "      <td>0.061765</td>\n",
       "      <td>0.339235</td>\n",
       "    </tr>\n",
       "    <tr>\n",
       "      <th>865239</th>\n",
       "      <td>1.872635</td>\n",
       "      <td>8.971312</td>\n",
       "      <td>1.926318</td>\n",
       "      <td>-9999</td>\n",
       "      <td>0.1</td>\n",
       "      <td>10.4391</td>\n",
       "      <td>10</td>\n",
       "      <td>1500</td>\n",
       "      <td>-9.13113</td>\n",
       "      <td>2.82430</td>\n",
       "      <td>0.018682</td>\n",
       "      <td>0.382318</td>\n",
       "    </tr>\n",
       "    <tr>\n",
       "      <th>922472</th>\n",
       "      <td>2.249769</td>\n",
       "      <td>9.370456</td>\n",
       "      <td>1.933306</td>\n",
       "      <td>-9999</td>\n",
       "      <td>0.1</td>\n",
       "      <td>20.0000</td>\n",
       "      <td>10</td>\n",
       "      <td>1500</td>\n",
       "      <td>-10.00000</td>\n",
       "      <td>3.00000</td>\n",
       "      <td>0.011694</td>\n",
       "      <td>0.389306</td>\n",
       "    </tr>\n",
       "  </tbody>\n",
       "</table>\n",
       "</div>"
      ],
      "text/plain": [
       "         rmse_lr   rmse_fk         m  Delta_m    r        D   L  kappa  \\\n",
       "16953   1.495370  8.615775  1.826656    -9999  0.1   2.0000  10   1500   \n",
       "9636    1.903193  9.059087  1.831677    -9999  0.1   2.0000  10   1500   \n",
       "902968  2.290209  9.442628  1.883235    -9999  0.1  11.6473  10   1500   \n",
       "865239  1.872635  8.971312  1.926318    -9999  0.1  10.4391  10   1500   \n",
       "922472  2.249769  9.370456  1.933306    -9999  0.1  20.0000  10   1500   \n",
       "\n",
       "        varkappa       x0      m_fk      m_lr  \n",
       "16953   -5.00000  5.00000  0.118344  0.282656  \n",
       "9636   -20.00000  1.50000  0.113323  0.287677  \n",
       "902968 -10.75640  2.81314  0.061765  0.339235  \n",
       "865239  -9.13113  2.82430  0.018682  0.382318  \n",
       "922472 -10.00000  3.00000  0.011694  0.389306  "
      ]
     },
     "execution_count": 94,
     "metadata": {},
     "output_type": "execute_result"
    }
   ],
   "source": [
    "#rank each trial by distance from m_lr\n",
    "print(f\"The top 5 for the exponent of the Luo-Rudy model:\")\n",
    "dh.sort_values(by='m_lr').head(5)"
   ]
  },
  {
   "cell_type": "code",
   "execution_count": 95,
   "metadata": {
    "ExecuteTime": {
     "end_time": "2021-05-28T23:29:53.698196Z",
     "start_time": "2021-05-28T23:29:47.676299Z"
    }
   },
   "outputs": [],
   "source": [
    "#save dh as csv\n",
    "save_folder=f\"{nb_dir}/data/osg_output\"\n",
    "assert ( os.path.exists(save_folder))\n",
    "os.chdir(save_folder)\n",
    "save_fn=data_dir.replace('.csv',f'_rmse_m_lr_fk_qmin_{qmin}_qmax_{qmax}.csv')\n",
    "dh.to_csv(save_fn,index=False)\n",
    "assert(os.path.exists(save_fn))"
   ]
  },
  {
   "cell_type": "code",
   "execution_count": 78,
   "metadata": {
    "ExecuteTime": {
     "end_time": "2021-05-28T23:14:08.872646Z",
     "start_time": "2021-05-28T23:14:08.859767Z"
    }
   },
   "outputs": [
    {
     "data": {
      "text/plain": [
       "1"
      ]
     },
     "execution_count": 78,
     "metadata": {},
     "output_type": "execute_result"
    }
   ],
   "source": [
    "1"
   ]
  },
  {
   "cell_type": "markdown",
   "metadata": {
    "heading_collapsed": true
   },
   "source": [
    "## DONE: dev run 11 using random linear combinations of ^those for the LR model \n",
    "-TODO(later): fork run 11 to fit the FK model."
   ]
  },
  {
   "cell_type": "code",
   "execution_count": 24,
   "metadata": {
    "ExecuteTime": {
     "end_time": "2021-05-28T21:51:00.751669Z",
     "start_time": "2021-05-28T21:51:00.739439Z"
    },
    "hidden": true
   },
   "outputs": [],
   "source": [
    "# - DONE: make run 11 have niter=5000 and Nmax=60...\n",
    "# num_trials_born=100 # the total number of daughters\n",
    "# # print the breeding_values of the top 5 \n",
    "# # num_breeders=5\n",
    "# # num_breeding_params=3\n",
    "# # breeding_cols=['D','varkappa','x0']\n",
    "# # num_breeding_params=len(breeding_cols)\n",
    "# # # taken from the *.ipynb located here: 'analyzing the effect of strong attractive forces between nearest neighbors.ipynb'\n",
    "# # breeder_values=dh[breeding_cols].head(num_breeders).values\n",
    "# # breeder_values_LR=breeder_values\n",
    "# # print(breeder_values)\n",
    "# #the top 5 for the LR model. Epoch 0\n",
    "# breeder_values=np.array(\n",
    "#     [[  2.,   -5.,    5. ],\n",
    "#      [ 20.,   -5.,    5. ],\n",
    "#      [ 20.,  -20.,    1.5],\n",
    "#      [ 20.,  -10.,    3. ],\n",
    "#      [  2.,  -20.,    1.5]])\n",
    "\n",
    "# #breed the given most-fit trials omnisexually.\n",
    "# num_breeders, num_breeding_params = breeder_values.shape\n",
    "# rand_matrix=np.random.rand(num_trials_born-num_breeders,num_breeders) # each entry is uniformly distributed on the interval from 0 to 1.\n",
    "\n",
    "# breeder_trials=np.matmul(rand_matrix,breeder_values)/num_breeders\n",
    "# #prepend the breeding_values of the top 5 to breeder_trials\n",
    "# trial_values=np.concatenate((breeder_values,breeder_trials),axis=0)\n",
    "# for trial in trial_values:\n",
    "#     D,varkappa,x0=trial\n",
    "#     pass\n",
    "# # trial_values.shape\n",
    "# print ( (D,varkappa,x0))"
   ]
  },
  {
   "cell_type": "markdown",
   "metadata": {},
   "source": [
    "## TODO(later): analyze ^those top 5-10 results by plotting them and paying a lot of attention to them..."
   ]
  },
  {
   "cell_type": "code",
   "execution_count": 96,
   "metadata": {
    "ExecuteTime": {
     "end_time": "2021-05-28T23:30:09.315219Z",
     "start_time": "2021-05-28T23:30:09.223636Z"
    }
   },
   "outputs": [
    {
     "name": "stdout",
     "output_type": "stream",
     "text": [
      "The top 5 for the Luo-Rudy model:\n"
     ]
    },
    {
     "data": {
      "text/html": [
       "<div>\n",
       "<style scoped>\n",
       "    .dataframe tbody tr th:only-of-type {\n",
       "        vertical-align: middle;\n",
       "    }\n",
       "\n",
       "    .dataframe tbody tr th {\n",
       "        vertical-align: top;\n",
       "    }\n",
       "\n",
       "    .dataframe thead th {\n",
       "        text-align: right;\n",
       "    }\n",
       "</style>\n",
       "<table border=\"1\" class=\"dataframe\">\n",
       "  <thead>\n",
       "    <tr style=\"text-align: right;\">\n",
       "      <th></th>\n",
       "      <th>rmse_lr</th>\n",
       "      <th>rmse_fk</th>\n",
       "      <th>m</th>\n",
       "      <th>Delta_m</th>\n",
       "      <th>r</th>\n",
       "      <th>D</th>\n",
       "      <th>L</th>\n",
       "      <th>kappa</th>\n",
       "      <th>varkappa</th>\n",
       "      <th>x0</th>\n",
       "      <th>m_fk</th>\n",
       "      <th>m_lr</th>\n",
       "    </tr>\n",
       "  </thead>\n",
       "  <tbody>\n",
       "    <tr>\n",
       "      <th>16953</th>\n",
       "      <td>1.495370</td>\n",
       "      <td>8.615775</td>\n",
       "      <td>1.826656</td>\n",
       "      <td>-9999</td>\n",
       "      <td>0.1</td>\n",
       "      <td>2.0000</td>\n",
       "      <td>10</td>\n",
       "      <td>1500</td>\n",
       "      <td>-5.00000</td>\n",
       "      <td>5.00000</td>\n",
       "      <td>0.118344</td>\n",
       "      <td>0.282656</td>\n",
       "    </tr>\n",
       "    <tr>\n",
       "      <th>9636</th>\n",
       "      <td>1.903193</td>\n",
       "      <td>9.059087</td>\n",
       "      <td>1.831677</td>\n",
       "      <td>-9999</td>\n",
       "      <td>0.1</td>\n",
       "      <td>2.0000</td>\n",
       "      <td>10</td>\n",
       "      <td>1500</td>\n",
       "      <td>-20.00000</td>\n",
       "      <td>1.50000</td>\n",
       "      <td>0.113323</td>\n",
       "      <td>0.287677</td>\n",
       "    </tr>\n",
       "    <tr>\n",
       "      <th>902968</th>\n",
       "      <td>2.290209</td>\n",
       "      <td>9.442628</td>\n",
       "      <td>1.883235</td>\n",
       "      <td>-9999</td>\n",
       "      <td>0.1</td>\n",
       "      <td>11.6473</td>\n",
       "      <td>10</td>\n",
       "      <td>1500</td>\n",
       "      <td>-10.75640</td>\n",
       "      <td>2.81314</td>\n",
       "      <td>0.061765</td>\n",
       "      <td>0.339235</td>\n",
       "    </tr>\n",
       "    <tr>\n",
       "      <th>865239</th>\n",
       "      <td>1.872635</td>\n",
       "      <td>8.971312</td>\n",
       "      <td>1.926318</td>\n",
       "      <td>-9999</td>\n",
       "      <td>0.1</td>\n",
       "      <td>10.4391</td>\n",
       "      <td>10</td>\n",
       "      <td>1500</td>\n",
       "      <td>-9.13113</td>\n",
       "      <td>2.82430</td>\n",
       "      <td>0.018682</td>\n",
       "      <td>0.382318</td>\n",
       "    </tr>\n",
       "    <tr>\n",
       "      <th>922472</th>\n",
       "      <td>2.249769</td>\n",
       "      <td>9.370456</td>\n",
       "      <td>1.933306</td>\n",
       "      <td>-9999</td>\n",
       "      <td>0.1</td>\n",
       "      <td>20.0000</td>\n",
       "      <td>10</td>\n",
       "      <td>1500</td>\n",
       "      <td>-10.00000</td>\n",
       "      <td>3.00000</td>\n",
       "      <td>0.011694</td>\n",
       "      <td>0.389306</td>\n",
       "    </tr>\n",
       "  </tbody>\n",
       "</table>\n",
       "</div>"
      ],
      "text/plain": [
       "         rmse_lr   rmse_fk         m  Delta_m    r        D   L  kappa  \\\n",
       "16953   1.495370  8.615775  1.826656    -9999  0.1   2.0000  10   1500   \n",
       "9636    1.903193  9.059087  1.831677    -9999  0.1   2.0000  10   1500   \n",
       "902968  2.290209  9.442628  1.883235    -9999  0.1  11.6473  10   1500   \n",
       "865239  1.872635  8.971312  1.926318    -9999  0.1  10.4391  10   1500   \n",
       "922472  2.249769  9.370456  1.933306    -9999  0.1  20.0000  10   1500   \n",
       "\n",
       "        varkappa       x0      m_fk      m_lr  \n",
       "16953   -5.00000  5.00000  0.118344  0.282656  \n",
       "9636   -20.00000  1.50000  0.113323  0.287677  \n",
       "902968 -10.75640  2.81314  0.061765  0.339235  \n",
       "865239  -9.13113  2.82430  0.018682  0.382318  \n",
       "922472 -10.00000  3.00000  0.011694  0.389306  "
      ]
     },
     "execution_count": 96,
     "metadata": {},
     "output_type": "execute_result"
    }
   ],
   "source": [
    "#TODO: plot the best trial\n",
    "#and the top 5 matches for either model is... (FK)\n",
    "print(f\"The top 5 for the Luo-Rudy model:\")\n",
    "dh.sort_values(by='m_lr',inplace=True)\n",
    "dh.head(5)\n",
    "#DONE: plot the corresponding control trial.  overlay with ^that\n",
    "#DONE: plot the exponent versus q for the best trial and its control\n",
    "#DONE: indicate the exponent of the LR model"
   ]
  },
  {
   "cell_type": "code",
   "execution_count": 105,
   "metadata": {
    "ExecuteTime": {
     "end_time": "2021-05-28T23:37:38.500117Z",
     "start_time": "2021-05-28T23:37:38.424717Z"
    }
   },
   "outputs": [
    {
     "name": "stdout",
     "output_type": "stream",
     "text": [
      "The top 5 for the Fenton-Karma model:\n"
     ]
    },
    {
     "data": {
      "text/html": [
       "<div>\n",
       "<style scoped>\n",
       "    .dataframe tbody tr th:only-of-type {\n",
       "        vertical-align: middle;\n",
       "    }\n",
       "\n",
       "    .dataframe tbody tr th {\n",
       "        vertical-align: top;\n",
       "    }\n",
       "\n",
       "    .dataframe thead th {\n",
       "        text-align: right;\n",
       "    }\n",
       "</style>\n",
       "<table border=\"1\" class=\"dataframe\">\n",
       "  <thead>\n",
       "    <tr style=\"text-align: right;\">\n",
       "      <th></th>\n",
       "      <th>rmse_lr</th>\n",
       "      <th>rmse_fk</th>\n",
       "      <th>m</th>\n",
       "      <th>Delta_m</th>\n",
       "      <th>r</th>\n",
       "      <th>D</th>\n",
       "      <th>L</th>\n",
       "      <th>kappa</th>\n",
       "      <th>varkappa</th>\n",
       "      <th>x0</th>\n",
       "      <th>m_fk</th>\n",
       "      <th>m_lr</th>\n",
       "    </tr>\n",
       "  </thead>\n",
       "  <tbody>\n",
       "    <tr>\n",
       "      <th>929333</th>\n",
       "      <td>1.895783</td>\n",
       "      <td>8.979767</td>\n",
       "      <td>1.950686</td>\n",
       "      <td>-9999</td>\n",
       "      <td>0.1</td>\n",
       "      <td>20.00000</td>\n",
       "      <td>10</td>\n",
       "      <td>1500</td>\n",
       "      <td>-5.00000</td>\n",
       "      <td>5.00000</td>\n",
       "      <td>0.005686</td>\n",
       "      <td>0.406686</td>\n",
       "    </tr>\n",
       "    <tr>\n",
       "      <th>922472</th>\n",
       "      <td>2.249769</td>\n",
       "      <td>9.370456</td>\n",
       "      <td>1.933306</td>\n",
       "      <td>-9999</td>\n",
       "      <td>0.1</td>\n",
       "      <td>20.00000</td>\n",
       "      <td>10</td>\n",
       "      <td>1500</td>\n",
       "      <td>-10.00000</td>\n",
       "      <td>3.00000</td>\n",
       "      <td>0.011694</td>\n",
       "      <td>0.389306</td>\n",
       "    </tr>\n",
       "    <tr>\n",
       "      <th>749691</th>\n",
       "      <td>1.479286</td>\n",
       "      <td>8.519240</td>\n",
       "      <td>1.961682</td>\n",
       "      <td>-9999</td>\n",
       "      <td>0.1</td>\n",
       "      <td>8.94415</td>\n",
       "      <td>10</td>\n",
       "      <td>1500</td>\n",
       "      <td>-9.64157</td>\n",
       "      <td>2.33870</td>\n",
       "      <td>0.016682</td>\n",
       "      <td>0.417682</td>\n",
       "    </tr>\n",
       "    <tr>\n",
       "      <th>865239</th>\n",
       "      <td>1.872635</td>\n",
       "      <td>8.971312</td>\n",
       "      <td>1.926318</td>\n",
       "      <td>-9999</td>\n",
       "      <td>0.1</td>\n",
       "      <td>10.43910</td>\n",
       "      <td>10</td>\n",
       "      <td>1500</td>\n",
       "      <td>-9.13113</td>\n",
       "      <td>2.82430</td>\n",
       "      <td>0.018682</td>\n",
       "      <td>0.382318</td>\n",
       "    </tr>\n",
       "    <tr>\n",
       "      <th>835926</th>\n",
       "      <td>1.522965</td>\n",
       "      <td>8.553075</td>\n",
       "      <td>1.973770</td>\n",
       "      <td>-9999</td>\n",
       "      <td>0.1</td>\n",
       "      <td>10.17000</td>\n",
       "      <td>10</td>\n",
       "      <td>1500</td>\n",
       "      <td>-10.04150</td>\n",
       "      <td>2.24696</td>\n",
       "      <td>0.028770</td>\n",
       "      <td>0.429770</td>\n",
       "    </tr>\n",
       "  </tbody>\n",
       "</table>\n",
       "</div>"
      ],
      "text/plain": [
       "         rmse_lr   rmse_fk         m  Delta_m    r         D   L  kappa  \\\n",
       "929333  1.895783  8.979767  1.950686    -9999  0.1  20.00000  10   1500   \n",
       "922472  2.249769  9.370456  1.933306    -9999  0.1  20.00000  10   1500   \n",
       "749691  1.479286  8.519240  1.961682    -9999  0.1   8.94415  10   1500   \n",
       "865239  1.872635  8.971312  1.926318    -9999  0.1  10.43910  10   1500   \n",
       "835926  1.522965  8.553075  1.973770    -9999  0.1  10.17000  10   1500   \n",
       "\n",
       "        varkappa       x0      m_fk      m_lr  \n",
       "929333  -5.00000  5.00000  0.005686  0.406686  \n",
       "922472 -10.00000  3.00000  0.011694  0.389306  \n",
       "749691  -9.64157  2.33870  0.016682  0.417682  \n",
       "865239  -9.13113  2.82430  0.018682  0.382318  \n",
       "835926 -10.04150  2.24696  0.028770  0.429770  "
      ]
     },
     "execution_count": 105,
     "metadata": {},
     "output_type": "execute_result"
    }
   ],
   "source": [
    "print(f\"The top 5 for the Fenton-Karma model:\")\n",
    "dh.sort_values(by='m_fk',inplace=True)\n",
    "dh.head(5)"
   ]
  },
  {
   "cell_type": "code",
   "execution_count": 101,
   "metadata": {
    "ExecuteTime": {
     "end_time": "2021-05-28T23:33:12.357010Z",
     "start_time": "2021-05-28T23:33:12.335264Z"
    }
   },
   "outputs": [
    {
     "data": {
      "text/plain": [
       "array([[ -5.     ,   5.     ],\n",
       "       [-20.     ,   1.5    ],\n",
       "       [-10.7564 ,   2.81314],\n",
       "       [ -9.13113,   2.8243 ]])"
      ]
     },
     "execution_count": 101,
     "metadata": {},
     "output_type": "execute_result"
    }
   ],
   "source": [
    "dh.head(5).values[:j,8:10]"
   ]
  },
  {
   "cell_type": "markdown",
   "metadata": {},
   "source": [
    "__Results__\n",
    "- the best trials for the LR model have long ranges\n",
    "- matching the seeds corrected the high density disagreement.\n",
    "\n",
    "__Questions__\n",
    "- did increasing niter fix the high density disagreement?"
   ]
  },
  {
   "cell_type": "code",
   "execution_count": 107,
   "metadata": {
    "ExecuteTime": {
     "end_time": "2021-05-28T23:38:48.538491Z",
     "start_time": "2021-05-28T23:38:43.383535Z"
    }
   },
   "outputs": [
    {
     "name": "stdout",
     "output_type": "stream",
     "text": [
      "saved figure in effect_of_attraction_D_20.00_varkappa_-5.00_x0_5.00.png\n",
      "saved figure in effect_of_attraction_D_20.00_varkappa_-10.00_x0_3.00.png\n",
      "saved figure in effect_of_attraction_D_8.94_varkappa_-9.64_x0_2.34.png\n",
      "saved figure in effect_of_attraction_D_10.44_varkappa_-9.13_x0_2.82.png\n",
      "saved figure in effect_of_attraction_D_10.17_varkappa_-10.04_x0_2.25.png\n"
     ]
    },
    {
     "data": {
      "text/plain": [
       "0"
      ]
     },
     "execution_count": 107,
     "metadata": {},
     "output_type": "execute_result"
    }
   ],
   "source": [
    "savefig_folder=f'{nb_dir}/../fig'\n",
    "saving=True\n",
    "for j in range(5):\n",
    "    r, D, L, kappa, varkappa, x0 = dh.head(5).values[j,4:10]\n",
    "    savefig_fn=f'effect_of_attraction_D_{D:.2f}_varkappa_{varkappa:.2f}_x0_{x0:.2f}.png'\n",
    "\n",
    "    # r=0.1;D=20;L=10;kappa=1500;varkappa=-5;x0=5.\n",
    "\n",
    "    #without forces\n",
    "    #slice the df\n",
    "#     query =df.no_attraction==1\n",
    "    query =df.no_repulsion==no_repulsion\n",
    "    query&=df.reflect==reflect\n",
    "    query&=df.set_second==set_second\n",
    "    query&=df.r==r\n",
    "    query&=df.L==L\n",
    "    query&=df.kappa==kappa\n",
    "    dff=df[query]#.copy()\n",
    "    #query the dataframe with the bred parameters\n",
    "    query =dff.D==D\n",
    "    query&=dff.varkappa==varkappa\n",
    "    query&=dff.x0==x0\n",
    "    dg=dff[query]#.copy() \n",
    "    #extract the data\n",
    "    x_values=dg.q.values\n",
    "    y_values=dg.w.values\n",
    "\n",
    "    #with forces\n",
    "    #slice the df\n",
    "    query =df.no_attraction==0\n",
    "    query&=df.no_repulsion==no_repulsion\n",
    "    query&=df.reflect==reflect\n",
    "    query&=df.set_second==set_second\n",
    "    query&=df.r==r\n",
    "    query&=df.L==L\n",
    "    query&=df.kappa==kappa\n",
    "    dff=df[query]#.copy()\n",
    "    #query the dataframe with the bred parameters\n",
    "    query =dff.D==D\n",
    "    query&=dff.varkappa==varkappa\n",
    "    query&=dff.x0==x0\n",
    "    dg=dff[query]#.copy() \n",
    "    #extract the data\n",
    "    x_values_force=dg.q.values\n",
    "    y_values_force=dg.w.values\n",
    "    assert (y_values_force.shape[0]>0)\n",
    "\n",
    "    #slice relevant particle density to the particle densities observed from the full model\n",
    "    #without forces\n",
    "    # x_values#=dg.q.values\n",
    "    # y_values#=dg.w.values\n",
    "    qmin=0.1;qmax=1\n",
    "    window_width=0.3\n",
    "    stepsize=0.1\n",
    "    try:\n",
    "        boo=(x_values>qmin)&(x_values<qmax)\n",
    "        dict_ci=compute_95CI_ols(np.log(x_values[boo]),np.log(y_values[boo]))\n",
    "#         print(*zip(dict_ci,dict_ci.values()))\n",
    "        #compute sliding m\n",
    "        xavg_values,slope_values,Rsquared_values = compute_sliding_slope_loglog(x_values,y_values,    \n",
    "            x_min=qmin,\n",
    "            window_width=window_width,\n",
    "            stepsize=stepsize,\n",
    "        )\n",
    "    except AssertionError as e:\n",
    "        xavg_values,slope_values=np.array([]),np.array([])\n",
    "        print ('uh-oh')\n",
    "\n",
    "    #with forces\n",
    "    boo=(x_values_force>qmin)&(x_values_force<qmax)\n",
    "    dict_ci=compute_95CI_ols(np.log(x_values_force[boo]),np.log(y_values_force[boo]))\n",
    "#     print(*zip(dict_ci,dict_ci.values()))\n",
    "    #compute sliding m\n",
    "    xavg_values_force,slope_values_force,Rsquared_values_force = compute_sliding_slope_loglog(x_values_force,y_values_force,    \n",
    "        x_min=qmin,\n",
    "        window_width=window_width,\n",
    "        stepsize=stepsize,\n",
    "    )\n",
    "#     print((xavg_values.shape,xavg_values_force.shape))\n",
    "    assert (xavg_values_force.shape[0]>0)\n",
    "\n",
    "    #plot ^this trial against its control\n",
    "\n",
    "    #plot fits for full model\n",
    "    m_fk=1.945;#+-0.030; B_fk=2.441+-0.051\n",
    "    m_lr=1.544;#+-0.034; B_lr=5.870+-0.137\n",
    "    M_fk=5.67;#+-0.39 Hz*cm^{2(m-1)}\n",
    "    M_lr=15.37;#+-1.57 Hz*cm^{2(m-1)}\n",
    "    # RMSE_fk=0.1252 Hz/cm^2\n",
    "    # RMSE_lr=0.0974 Hz/cm^2\n",
    "    # R^2=0.997 (FK)\n",
    "    # R^2=0.994 (LR)\n",
    "    # yscale=10**3\n",
    "    xv=np.arange(0.1,1.,.05)\n",
    "    yv_fk=M_fk*(xv)**m_fk\n",
    "    yv_lr=M_lr*(xv)**m_lr\n",
    "\n",
    "    #plot the values\n",
    "    figsize=(12,5)\n",
    "    fontsize=16\n",
    "    fig, axs = plt.subplots(ncols=2,figsize=figsize, constrained_layout=True)\n",
    "    lw=3\n",
    "\n",
    "    ax=axs[0]\n",
    "    ax.plot(xv,yv_fk,label='Fenton-Karma',zorder=1,lw=lw,c='C0',alpha=.7)\n",
    "    ax.plot(xv,yv_lr,label='Luo-Rudy',zorder=1,lw=lw,c='C1',alpha=.7)\n",
    "    ax.plot(x_values,y_values,c='k',alpha=.7,label='without forces',lw=lw)\n",
    "    ax.plot(x_values_force,y_values_force,c='C2',alpha=0.7,label='with forces',lw=lw)\n",
    "    # plt.plot(x_values,y_values,c=c_values,alpha=0.4,cmap='bwr')\n",
    "    # plt.title(u'comparison to simulation\\nwith two hybrid modes',fontsize=fontsize)\n",
    "    ax.set_xlabel(r'q (cm$^{-2}$)',fontsize=fontsize)\n",
    "    ax.set_ylabel(r'w (Hz cm$^{-2}$)', fontsize=fontsize)\n",
    "    ax.tick_params(axis='both', which='major', labelsize=fontsize)\n",
    "    ax.tick_params(axis='both', which='minor', labelsize=0)\n",
    "    ax.legend(fontsize=fontsize-2)\n",
    "    # title=r'$D=$'+f'{D} cm'+r'$^2$/s, '+r'$\\varkappa=$'+f'{varkappa}  Hz, '+r'$x_0=$'+f'{x0} cm\\n'\n",
    "    # ax.set_title(title,fontsize=fontsize)\n",
    "    # plt.xlim([0.1,1])\n",
    "    ax.set_ylim([2e-3,50])\n",
    "    ax.set_yscale('log')\n",
    "    ax.set_xscale('log')\n",
    "\n",
    "    ax=axs[1]\n",
    "    ax.plot(xavg_values,slope_values,lw=lw,c='k', label='without forces',alpha=.7)\n",
    "    ax.plot(xavg_values_force,slope_values_force,lw=lw,c='C2', label='with forces',alpha=.7)\n",
    "    ax.plot(xavg_values_force, m_fk+0.*xavg_values_force, '-',lw=lw,c='C0',label='Fenton-Karma',alpha=.7)\n",
    "    ax.plot(xavg_values_force, m_lr+0.*xavg_values_force, '-',lw=lw,c='C1',label='Luo-Rudy',alpha=.7)\n",
    "    # ax.set_xscale('log')\n",
    "    ax.set_ylim([1.4,3])\n",
    "    ax.set_xlabel(r'q (cm$^{-2}$)',fontsize=fontsize)\n",
    "    ax.set_ylabel(r'exponent', fontsize=fontsize)\n",
    "    ax.tick_params(axis='both', which='major', labelsize=fontsize)\n",
    "    ax.tick_params(axis='both', which='minor', labelsize=0)\n",
    "    # title=r'$D=$'+f'{D} cm'+r'$^2$/s, '+r'$\\varkappa=$'+f'{varkappa}  Hz, '+r'$x_0=$'+f'{x0} cm\\n'\n",
    "    # title+=f\"r={r:.1f} cm, \"+r\"$\\kappa$=\"+f\"{kappa:.0f} Hz, A={L**2:.0f} cm\"+r\"$^2$\"+'\\n'\n",
    "    # ax.set_title(title,fontsize=fontsize)\n",
    "    # ax.legend(loc='best',fontsize=fontsize-4,ncol=2)\n",
    "\n",
    "    title=r'$D=$'+f'{D:.4f} cm'+r'$^2$/s, '+r'$\\varkappa=$'+f'{varkappa:.4f} Hz, '+r'$x_0=$'+f'{x0:.4f} cm\\n'\n",
    "    title+=f\"r={r:.1f} cm, \"+r\"$\\kappa$=\"+f\"{kappa:.0f} Hz, A={L**2:.0f} cm\"+r\"$^2$\"+f'\\nRank = #{j+1}'\n",
    "    fig.suptitle(title, fontsize=fontsize+2)\n",
    "    # fig.tight_layout()\n",
    "    if not saving:\n",
    "        plt.show()\n",
    "    else:\n",
    "        os.chdir(savefig_folder)\n",
    "        plt.savefig(savefig_fn, dpi=300)\n",
    "        print(f\"saved figure in {savefig_fn}\")\n",
    "    plt.close()\n",
    "beep(7)"
   ]
  },
  {
   "cell_type": "code",
   "execution_count": null,
   "metadata": {
    "ExecuteTime": {
     "end_time": "2021-05-28T22:05:35.759872Z",
     "start_time": "2021-05-28T22:03:38.890Z"
    }
   },
   "outputs": [],
   "source": [
    "# #TODO: plot ^this trial against its control\n",
    "# saving=False\n",
    "\n",
    "# #heretim\n",
    "\n",
    "# #plot fits for full model\n",
    "# m_fk=1.945;#+-0.030; B_fk=2.441+-0.051\n",
    "# m_lr=1.544;#+-0.034; B_lr=5.870+-0.137\n",
    "# M_fk=5.67;#+-0.39 Hz*cm^{2(m-1)}\n",
    "# M_lr=15.37;#+-1.57 Hz*cm^{2(m-1)}\n",
    "# # RMSE_fk=0.1252 Hz/cm^2\n",
    "# # RMSE_lr=0.0974 Hz/cm^2\n",
    "# # R^2=0.997 (FK)\n",
    "# # R^2=0.994 (LR)\n",
    "# # yscale=10**3\n",
    "# xv=np.arange(0.1,1.,.05)\n",
    "# yv_fk=M_fk*(xv)**m_fk\n",
    "# yv_lr=M_lr*(xv)**m_lr\n",
    "\n",
    "# #plot the values\n",
    "# figsize=(6,5)\n",
    "# fontsize=16\n",
    "# savefig_folder=f'{nb_dir}/../fig'\n",
    "# savefig_fn=f'effect_of_attraction_D_{D:.0f}_varkappa_{varkappa:.0f}_x0_{x0:.0f}.png'\n",
    "# fig, ax = plt.subplots(ncols=1,figsize=figsize)# ax=axs[1]\n",
    "# lw=3\n",
    "\n",
    "\n",
    "# ax.plot(xv,yv_fk,label='FK power law fit',zorder=1,lw=lw,c='C0',alpha=.7)\n",
    "# ax.plot(xv,yv_lr,label='LR power law fit',zorder=1,lw=lw,c='C1',alpha=.7)\n",
    "# ax.plot(x_values,y_values,c='k',alpha=.7,label='without forces',lw=lw)\n",
    "# ax.plot(x_values_force,y_values_force,c='C2',alpha=0.7,label='with forces',lw=lw)\n",
    "# # plt.plot(x_values,y_values,c=c_values,alpha=0.4,cmap='bwr')\n",
    "# # plt.title(u'comparison to simulation\\nwith two hybrid modes',fontsize=fontsize)\n",
    "# ax.set_xlabel(r'q (cm$^{-2}$)',fontsize=fontsize)\n",
    "# ax.set_ylabel(r'w (Hz cm$^{-2}$)', fontsize=fontsize)\n",
    "# ax.tick_params(axis='both', which='major', labelsize=fontsize)\n",
    "# ax.tick_params(axis='both', which='minor', labelsize=0)\n",
    "# ax.legend(fontsize=fontsize-5)\n",
    "# title=r'$D=$'+f'{D} cm'+r'$^2$/s, '+r'$\\varkappa=$'+f'{varkappa}  Hz, '+r'$x_0=$'+f'{x0} cm\\n'\n",
    "# ax.set_title(title,fontsize=fontsize)\n",
    "# # plt.xlim([0.1,1])\n",
    "# # plt.ylim([1e-1,15])\n",
    "# ax.set_yscale('log')\n",
    "# ax.set_xscale('log')\n",
    "# fig.tight_layout()\n",
    "# if not saving:\n",
    "#     plt.show()\n",
    "# else:\n",
    "#     plt.tight_layout()\n",
    "#     os.chdir(savefig_folder)\n",
    "#     plt.savefig(savefig_fn, dpi=300)\n",
    "# #         print(f\"saved figure in \\n\\t{savefig_fn}\")\n",
    "# #         plt.close()"
   ]
  },
  {
   "cell_type": "code",
   "execution_count": null,
   "metadata": {
    "ExecuteTime": {
     "end_time": "2021-05-28T22:05:35.766113Z",
     "start_time": "2021-05-28T22:03:39.271Z"
    }
   },
   "outputs": [],
   "source": [
    "#DONT: abstract both plotting methods as functions\n",
    "#DONE: merge ^these to plots quickly into one"
   ]
  },
  {
   "cell_type": "code",
   "execution_count": null,
   "metadata": {
    "ExecuteTime": {
     "end_time": "2021-05-28T22:05:35.771767Z",
     "start_time": "2021-05-28T22:03:39.723Z"
    }
   },
   "outputs": [],
   "source": [
    "# m_fk=1.945#1.858;#+-0.027; B_fk=2.464+-0.030<br>\n",
    "# m_lr=1.544#1.638;#+-0.017; B_fk=5.588+-0.067\n",
    "# fontsize=16\n",
    "# lw=3\n",
    "# x=xavg_values[:-1]\n",
    "# # y=Rsquared_values[:-1]\n",
    "# y=slope_values[:-1]\n",
    "# plt.plot(xavg_values,slope_values,lw=lw,c='k', label='without forces')\n",
    "# plt.plot(xavg_values_force,slope_values_force,lw=lw,c='C2', label='with forces')\n",
    "# plt.plot(xavg_values_force, m_fk+0.*xavg_values_force, '--',lw=lw,c='gray',label='Fenton-Karma')\n",
    "# plt.plot(xavg_values_force, m_lr+0.*xavg_values_force, '-',lw=lw,c='gray',label='Luo-Rudy')\n",
    "# # plt.scatter(x,y,s=10)\n",
    "# # plt.xlabel('N',fontsize=fontsize)\n",
    "# # plt.ylabel('Collision Rate',fontsize=fontsize)\n",
    "# # plt.xscale('log')\n",
    "# # plt.title(u'comparison to simulation\\nwith two hybrid modes',fontsize=fontsize)\n",
    "# plt.xlabel(r'q (cm$^{-2}$)',fontsize=fontsize)\n",
    "# plt.ylabel(r'exponent', fontsize=fontsize)\n",
    "# plt.tick_params(axis='both', which='major', labelsize=fontsize)\n",
    "# plt.tick_params(axis='both', which='minor', labelsize=0)\n",
    "# # print(f'varkappa={varkappa}  Hz');print(f'      x0={x0} cm')\n",
    "# title=r'$D=$'+f'{D} cm'+r'$^2$/s, '+r'$\\varkappa=$'+f'{varkappa}  Hz, '+r'$x_0=$'+f'{x0} cm\\n'\n",
    "# title+=f\"r={r:.1f} cm, \"+r\"$\\kappa$=\"+f\"{kappa:.0f} Hz, A={L**2:.0f} cm\"+r\"$^2$\"+'\\n'\n",
    "# plt.title(title,fontsize=fontsize)\n",
    "# plt.legend(loc='best',fontsize=fontsize-4,ncol=2)\n",
    "# plt.show()"
   ]
  },
  {
   "cell_type": "code",
   "execution_count": 37,
   "metadata": {
    "ExecuteTime": {
     "end_time": "2021-05-28T21:54:18.266083Z",
     "start_time": "2021-05-28T21:54:18.254303Z"
    }
   },
   "outputs": [],
   "source": [
    "#TODO: fix the y axes\n",
    "#TODO(now): make ^those for 3 or so more trial settings\n",
    "#TODO: assemble ^those in .odg on left side of one page\n",
    "#TODO: on right side, take some Cornell notes.\n",
    "#TODO(later): put all ^this into a function an automate the plotting of a given input csv that has only one trial in it.\n"
   ]
  },
  {
   "cell_type": "code",
   "execution_count": 165,
   "metadata": {
    "ExecuteTime": {
     "end_time": "2021-05-28T20:48:19.964268Z",
     "start_time": "2021-05-28T20:48:19.945358Z"
    }
   },
   "outputs": [
    {
     "data": {
      "text/plain": [
       "'/home/timothytyree/Documents/GitHub/bgmc/python/../fig'"
      ]
     },
     "execution_count": 165,
     "metadata": {},
     "output_type": "execute_result"
    }
   ],
   "source": [
    "savefig_folder"
   ]
  },
  {
   "cell_type": "code",
   "execution_count": null,
   "metadata": {},
   "outputs": [],
   "source": []
  },
  {
   "cell_type": "code",
   "execution_count": null,
   "metadata": {},
   "outputs": [],
   "source": []
  }
 ],
 "metadata": {
  "kernelspec": {
   "display_name": "Python 3",
   "language": "python",
   "name": "python3"
  },
  "language_info": {
   "codemirror_mode": {
    "name": "ipython",
    "version": 3
   },
   "file_extension": ".py",
   "mimetype": "text/x-python",
   "name": "python",
   "nbconvert_exporter": "python",
   "pygments_lexer": "ipython3",
   "version": "3.7.6"
  },
  "toc": {
   "base_numbering": 1,
   "nav_menu": {},
   "number_sections": true,
   "sideBar": true,
   "skip_h1_title": false,
   "title_cell": "Table of Contents",
   "title_sidebar": "Contents",
   "toc_cell": false,
   "toc_position": {},
   "toc_section_display": true,
   "toc_window_display": false
  },
  "varInspector": {
   "cols": {
    "lenName": 16,
    "lenType": 16,
    "lenVar": 40
   },
   "kernels_config": {
    "python": {
     "delete_cmd_postfix": "",
     "delete_cmd_prefix": "del ",
     "library": "var_list.py",
     "varRefreshCmd": "print(var_dic_list())"
    },
    "r": {
     "delete_cmd_postfix": ") ",
     "delete_cmd_prefix": "rm(",
     "library": "var_list.r",
     "varRefreshCmd": "cat(var_dic_list()) "
    }
   },
   "types_to_exclude": [
    "module",
    "function",
    "builtin_function_or_method",
    "instance",
    "_Feature"
   ],
   "window_display": false
  }
 },
 "nbformat": 4,
 "nbformat_minor": 4
}
