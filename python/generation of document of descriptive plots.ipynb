{
 "cells": [
  {
   "cell_type": "markdown",
   "metadata": {},
   "source": [
    "# generation of a document of plots\n",
    "Tim Tyree<br>\n",
    "9.4.2021"
   ]
  },
  {
   "cell_type": "code",
   "execution_count": 2,
   "metadata": {
    "ExecuteTime": {
     "end_time": "2021-09-20T19:45:18.349699Z",
     "start_time": "2021-09-20T19:45:17.079964Z"
    }
   },
   "outputs": [],
   "source": [
    "from lib.my_initialization import *\n",
    "from lib import *\n",
    "%load_ext autoreload\n",
    "%autoreload 2\n",
    "\n",
    "import random,scipy\n",
    "from scipy.interpolate import LinearNDInterpolator\n",
    "from scipy.interpolate import CloughTocher2DInterpolator\n",
    "import matplotlib as mpl #for colorbar\n",
    "from scipy import stats\n",
    "#DONE: hook this routine up to dask\n",
    "#DONT: hook this routine up to dask_cuda\n",
    "\n",
    "from lib.viewer.gener_q_vs_w_for_df import *\n",
    "from lib.routines.gener_pdf_for_top_trials import *"
   ]
  },
  {
   "cell_type": "code",
   "execution_count": 2,
   "metadata": {
    "ExecuteTime": {
     "end_time": "2021-09-15T22:17:16.903838Z",
     "start_time": "2021-09-15T22:17:16.881396Z"
    }
   },
   "outputs": [],
   "source": [
    "# # For darkmode plots\n",
    "# from jupyterthemes import jtplot\n",
    "# jtplot.style(theme='monokai', context='notebook', ticks=True, grid=False)"
   ]
  },
  {
   "cell_type": "markdown",
   "metadata": {},
   "source": [
    "__GOALS: for Tim (getting final results for PRL paper__\n",
    "- TODO: put a,D measurements from full models into a table with uncertainty\n",
    "- TODO: find some plots with low rmse_full and comparable a,D values\n",
    "- TODO: interpolate from a,D to get some value for r \n",
    "- TODO: interpolate from a,D to get some value for kappa\n",
    "- TODO: look at upper and lower bounds for r,kappa using the boundaries of the 95% CI for a,D\n",
    "- TODO: put these parameter values in a table\n",
    "- TODO: plot the results for those parameter values"
   ]
  },
  {
   "cell_type": "markdown",
   "metadata": {},
   "source": [
    "# generate a pdf with the top N trials only"
   ]
  },
  {
   "cell_type": "code",
   "execution_count": null,
   "metadata": {},
   "outputs": [],
   "source": [
    "input_fn=f\"/home/timothytyree/Documents/GitHub/bgmc/python/data/osg_output/run_18_all_powerlaw_fits.csv\"\n",
    "# input_fn=f\"/home/timothytyree/Documents/GitHub/bgmc/python/data/osg_output/run_17_all_powerlaw_fits.csv\"\n",
    "# input_fn=f\"/home/timothytyree/Documents/GitHub/bgmc/python/data/local_results/black_star_run_1_all_powerlaw_fits.csv\"\n",
    "# input_fn=f\"/home/timothytyree/Documents/GitHub/bgmc/python/data/osg_output/run_15_all_powerlaw_fits.csv\"\n",
    "\n",
    "\n",
    "#DONE: wrap all ^this into a function\n",
    "#DONE: call the function repeatably with the other model_name_full and a 10X larger num_points\n",
    "bluf_dir=gener_bluf_q_vs_w_for_top_powerlaw_fits(input_fn,model_name_full='fk_pbc',num_points=25)\n",
    "beep(3)\n",
    "\n",
    "#open the outputed .pdf automatically\n",
    "import webbrowser\n",
    "webbrowser.open_new(r'file://' + bluf_dir);\n",
    "\n",
    "#DONE: repeat with LR model\n",
    "bluf_dir=gener_bluf_q_vs_w_for_top_powerlaw_fits(input_fn,model_name_full='lr_pbc',num_points=25)\n",
    "beep(3)\n",
    "\n",
    "# #open the outputed .pdf automatically\n",
    "# import webbrowser\n",
    "# webbrowser.open_new(r'file://' + bluf_dir);\n",
    "\n",
    "bluf_dir=gener_bluf_q_vs_w_for_top_powerlaw_fits(input_fn,model_name_full='fk_pbc',num_points=250)\n",
    "# #open the outputed .pdf automatically\n",
    "# import webbrowser\n",
    "# webbrowser.open_new(r'file://' + bluf_dir);\n",
    "\n",
    "bluf_dir=gener_bluf_q_vs_w_for_top_powerlaw_fits(input_fn,model_name_full='lr_pbc',num_points=250)\n",
    "# #open the outputed .pdf automatically\n",
    "# import webbrowser\n",
    "# webbrowser.open_new(r'file://' + bluf_dir);"
   ]
  },
  {
   "cell_type": "code",
   "execution_count": 33,
   "metadata": {
    "ExecuteTime": {
     "end_time": "2021-09-15T22:23:27.803598Z",
     "start_time": "2021-09-15T22:23:27.779807Z"
    }
   },
   "outputs": [],
   "source": [
    "#get the xy values for the top k models\n",
    "\n",
    "#DONE: wrap all ^this into a function\n",
    "#DONE: call the function repeatably with the other model_name_full and a 10X larger num_points\n",
    "bluf_dir=gener_bluf_q_vs_w_for_top_powerlaw_fits(input_fn,model_name_full='fk_pbc',num_points=25)\n",
    "beep(3)\n",
    "\n",
    "#open the outputed .pdf automatically\n",
    "import webbrowser\n",
    "webbrowser.open_new(r'file://' + bluf_dir);\n",
    "\n",
    "#DONE: repeat with LR model\n",
    "bluf_dir=gener_bluf_q_vs_w_for_top_powerlaw_fits(input_fn,model_name_full='lr_pbc',num_points=25)\n",
    "beep(3)\n",
    "\n",
    "# #open the outputed .pdf automatically\n",
    "# import webbrowser\n",
    "# webbrowser.open_new(r'file://' + bluf_dir);\n",
    "\n",
    "bluf_dir=gener_bluf_q_vs_w_for_top_powerlaw_fits(input_fn,model_name_full='fk_pbc',num_points=250)\n",
    "# #open the outputed .pdf automatically\n",
    "# import webbrowser\n",
    "# webbrowser.open_new(r'file://' + bluf_dir);\n",
    "\n",
    "bluf_dir=gener_bluf_q_vs_w_for_top_powerlaw_fits(input_fn,model_name_full='lr_pbc',num_points=250)\n",
    "# #open the outputed .pdf automatically\n",
    "# import webbrowser\n",
    "# webbrowser.open_new(r'file://' + bluf_dir);"
   ]
  },
  {
   "cell_type": "markdown",
   "metadata": {
    "heading_collapsed": true
   },
   "source": [
    "# generate a document for all trials considered"
   ]
  },
  {
   "cell_type": "code",
   "execution_count": 3,
   "metadata": {
    "ExecuteTime": {
     "end_time": "2021-09-15T22:17:16.938120Z",
     "start_time": "2021-09-15T22:17:16.905639Z"
    },
    "hidden": true
   },
   "outputs": [],
   "source": [
    "#the first bluf routine start to finish\n",
    "# input_fn=search_for_file()\n",
    "input_fn=f\"/home/timothytyree/Documents/GitHub/bgmc/python/data/osg_output/run_18_all/job.out.16106771.17\"\n",
    "\n",
    "# input_fn=\"/home/timothytyree/Documents/GitHub/bgmc/python/data/osg_output/run_16_all/job.out.14688026.0\"\n",
    "bluf_dir=gener_bluf_q_vs_w_for_csv_folder(input_fn,max_num_trials=300)\n",
    "# gener_bluf(task_lst, bluf_dir, bbox_inches='tight', save_tight=True)\n",
    "beep(3)\n",
    "\n",
    "#open the outputed .pdf automatically\n",
    "import webbrowser\n",
    "webbrowser.open_new(r'file://' + bluf_dir);"
   ]
  },
  {
   "cell_type": "markdown",
   "metadata": {
    "ExecuteTime": {
     "end_time": "2021-09-15T22:19:19.844234Z",
     "start_time": "2021-09-15T22:17:15.097Z"
    }
   },
   "source": [
    "# example plots"
   ]
  },
  {
   "cell_type": "code",
   "execution_count": 8,
   "metadata": {
    "ExecuteTime": {
     "end_time": "2021-09-15T22:19:17.857347Z",
     "start_time": "2021-09-15T22:19:17.570250Z"
    }
   },
   "outputs": [
    {
     "data": {
      "text/html": [
       "<div>\n",
       "<style scoped>\n",
       "    .dataframe tbody tr th:only-of-type {\n",
       "        vertical-align: middle;\n",
       "    }\n",
       "\n",
       "    .dataframe tbody tr th {\n",
       "        vertical-align: top;\n",
       "    }\n",
       "\n",
       "    .dataframe thead th {\n",
       "        text-align: right;\n",
       "    }\n",
       "</style>\n",
       "<table border=\"1\" class=\"dataframe\">\n",
       "  <thead>\n",
       "    <tr style=\"text-align: right;\">\n",
       "      <th></th>\n",
       "      <th>m</th>\n",
       "      <th>Delta_m</th>\n",
       "      <th>M</th>\n",
       "      <th>Delta_M</th>\n",
       "      <th>Rsq</th>\n",
       "      <th>rmse</th>\n",
       "      <th>rmse_full</th>\n",
       "      <th>model_name_full</th>\n",
       "      <th>q_min</th>\n",
       "      <th>q_max</th>\n",
       "      <th>...</th>\n",
       "      <th>D</th>\n",
       "      <th>varkappa</th>\n",
       "      <th>x0</th>\n",
       "      <th>L</th>\n",
       "      <th>force_code</th>\n",
       "      <th>neighbor</th>\n",
       "      <th>reflect</th>\n",
       "      <th>set_second</th>\n",
       "      <th>no_repulsion</th>\n",
       "      <th>no_attraction</th>\n",
       "    </tr>\n",
       "  </thead>\n",
       "  <tbody>\n",
       "    <tr>\n",
       "      <th>0</th>\n",
       "      <td>1.634225</td>\n",
       "      <td>0.011923</td>\n",
       "      <td>17.072853</td>\n",
       "      <td>0.539172</td>\n",
       "      <td>0.998796</td>\n",
       "      <td>0.213009</td>\n",
       "      <td>0.349726</td>\n",
       "      <td>lr_pbc</td>\n",
       "      <td>0.1</td>\n",
       "      <td>1.0</td>\n",
       "      <td>...</td>\n",
       "      <td>0.26706</td>\n",
       "      <td>10.80550</td>\n",
       "      <td>0</td>\n",
       "      <td>10</td>\n",
       "      <td>2</td>\n",
       "      <td>0</td>\n",
       "      <td>0</td>\n",
       "      <td>0</td>\n",
       "      <td>0</td>\n",
       "      <td>0</td>\n",
       "    </tr>\n",
       "    <tr>\n",
       "      <th>1</th>\n",
       "      <td>1.909927</td>\n",
       "      <td>0.025313</td>\n",
       "      <td>5.893359</td>\n",
       "      <td>0.282508</td>\n",
       "      <td>0.996038</td>\n",
       "      <td>0.184324</td>\n",
       "      <td>0.286524</td>\n",
       "      <td>fk_pbc</td>\n",
       "      <td>0.1</td>\n",
       "      <td>1.0</td>\n",
       "      <td>...</td>\n",
       "      <td>0.13358</td>\n",
       "      <td>1.63007</td>\n",
       "      <td>0</td>\n",
       "      <td>10</td>\n",
       "      <td>2</td>\n",
       "      <td>0</td>\n",
       "      <td>1</td>\n",
       "      <td>0</td>\n",
       "      <td>0</td>\n",
       "      <td>0</td>\n",
       "    </tr>\n",
       "    <tr>\n",
       "      <th>2</th>\n",
       "      <td>1.653182</td>\n",
       "      <td>0.024584</td>\n",
       "      <td>17.213944</td>\n",
       "      <td>1.098278</td>\n",
       "      <td>0.995017</td>\n",
       "      <td>0.522481</td>\n",
       "      <td>0.679965</td>\n",
       "      <td>lr_pbc</td>\n",
       "      <td>0.1</td>\n",
       "      <td>1.0</td>\n",
       "      <td>...</td>\n",
       "      <td>0.58586</td>\n",
       "      <td>8.73253</td>\n",
       "      <td>0</td>\n",
       "      <td>10</td>\n",
       "      <td>2</td>\n",
       "      <td>0</td>\n",
       "      <td>0</td>\n",
       "      <td>0</td>\n",
       "      <td>0</td>\n",
       "      <td>0</td>\n",
       "    </tr>\n",
       "    <tr>\n",
       "      <th>3</th>\n",
       "      <td>1.689880</td>\n",
       "      <td>0.015893</td>\n",
       "      <td>9.883946</td>\n",
       "      <td>0.345165</td>\n",
       "      <td>0.998001</td>\n",
       "      <td>0.165833</td>\n",
       "      <td>1.628595</td>\n",
       "      <td>fk_ncbc</td>\n",
       "      <td>0.1</td>\n",
       "      <td>1.0</td>\n",
       "      <td>...</td>\n",
       "      <td>0.35366</td>\n",
       "      <td>4.98720</td>\n",
       "      <td>0</td>\n",
       "      <td>10</td>\n",
       "      <td>2</td>\n",
       "      <td>0</td>\n",
       "      <td>1</td>\n",
       "      <td>0</td>\n",
       "      <td>0</td>\n",
       "      <td>0</td>\n",
       "    </tr>\n",
       "    <tr>\n",
       "      <th>4</th>\n",
       "      <td>1.706467</td>\n",
       "      <td>0.023508</td>\n",
       "      <td>12.187740</td>\n",
       "      <td>0.659933</td>\n",
       "      <td>0.995721</td>\n",
       "      <td>0.336254</td>\n",
       "      <td>2.128713</td>\n",
       "      <td>lr_ncbc</td>\n",
       "      <td>0.1</td>\n",
       "      <td>1.0</td>\n",
       "      <td>...</td>\n",
       "      <td>0.64805</td>\n",
       "      <td>5.59830</td>\n",
       "      <td>0</td>\n",
       "      <td>10</td>\n",
       "      <td>2</td>\n",
       "      <td>0</td>\n",
       "      <td>1</td>\n",
       "      <td>0</td>\n",
       "      <td>0</td>\n",
       "      <td>0</td>\n",
       "    </tr>\n",
       "  </tbody>\n",
       "</table>\n",
       "<p>5 rows × 22 columns</p>\n",
       "</div>"
      ],
      "text/plain": [
       "          m   Delta_m          M   Delta_M       Rsq      rmse  rmse_full  \\\n",
       "0  1.634225  0.011923  17.072853  0.539172  0.998796  0.213009   0.349726   \n",
       "1  1.909927  0.025313   5.893359  0.282508  0.996038  0.184324   0.286524   \n",
       "2  1.653182  0.024584  17.213944  1.098278  0.995017  0.522481   0.679965   \n",
       "3  1.689880  0.015893   9.883946  0.345165  0.998001  0.165833   1.628595   \n",
       "4  1.706467  0.023508  12.187740  0.659933  0.995721  0.336254   2.128713   \n",
       "\n",
       "  model_name_full  q_min  q_max  ...        D  varkappa  x0   L  force_code  \\\n",
       "0          lr_pbc    0.1    1.0  ...  0.26706  10.80550   0  10           2   \n",
       "1          fk_pbc    0.1    1.0  ...  0.13358   1.63007   0  10           2   \n",
       "2          lr_pbc    0.1    1.0  ...  0.58586   8.73253   0  10           2   \n",
       "3         fk_ncbc    0.1    1.0  ...  0.35366   4.98720   0  10           2   \n",
       "4         lr_ncbc    0.1    1.0  ...  0.64805   5.59830   0  10           2   \n",
       "\n",
       "   neighbor  reflect  set_second  no_repulsion  no_attraction  \n",
       "0         0        0           0             0              0  \n",
       "1         0        1           0             0              0  \n",
       "2         0        0           0             0              0  \n",
       "3         0        1           0             0              0  \n",
       "4         0        1           0             0              0  \n",
       "\n",
       "[5 rows x 22 columns]"
      ]
     },
     "execution_count": 8,
     "metadata": {},
     "output_type": "execute_result"
    }
   ],
   "source": [
    "input_fn=f\"/home/timothytyree/Documents/GitHub/bgmc/python/data/osg_output/run_18_all_powerlaw_fits.csv\"\n",
    "# input_fn=f\"/home/timothytyree/Documents/GitHub/bgmc/python/data/osg_output/run_17_all_powerlaw_fits.csv\"\n",
    "# input_fn=f\"/home/timothytyree/Documents/GitHub/bgmc/python/data/local_results/black_star_run_1_all_powerlaw_fits.csv\"\n",
    "# input_fn=f\"/home/timothytyree/Documents/GitHub/bgmc/python/data/osg_output/run_15_all_powerlaw_fits.csv\"\n",
    "df=pd.read_csv(input_fn)\n",
    "df.head()"
   ]
  },
  {
   "cell_type": "code",
   "execution_count": 32,
   "metadata": {
    "ExecuteTime": {
     "end_time": "2021-09-15T22:23:26.465219Z",
     "start_time": "2021-09-15T22:23:26.078351Z"
    }
   },
   "outputs": [
    {
     "data": {
      "image/png": "[encoded data removed]",
      "text/plain": [
       "<Figure size 864x432 with 2 Axes>"
      ]
     },
     "metadata": {
      "needs_background": "light"
     },
     "output_type": "display_data"
    }
   ],
   "source": [
    "#test the plotters for 1 fn\n",
    "# input_fn=search_for_file()\n",
    "# input_fn=\"/home/timothytyree/Documents/GitHub/bgmc/python/data/osg_output/run_16_all/job.out.14688026.0\"\n",
    "#plot figure-ready plots for one trial\n",
    "fig,axs=plt.subplots(ncols=2,figsize=(12,6))\n",
    "retval=q_vs_w_plotter_function_from_df(axs[0],df=dg)\n",
    "# assert(retval)\n",
    "retval=q_vs_Delta_w_plotter_function_from_df(axs[1],df=dg)\n",
    "# assert(retval)\n",
    "axs[0].margins(x=0.95,y=0.95)\n",
    "axs[1].margins(x=0.95,y=0.95)\n",
    "\n",
    "left_margin=0.2\n",
    "right_margin=0.2\n",
    "top_margin=0.4\n",
    "bottom_margin=0.2\n",
    "wspace=0.5\n",
    "hspace=0.2\n",
    "\n",
    "\n",
    "plt.subplots_adjust(left=left_margin, bottom=bottom_margin, right=1-right_margin, top=1-top_margin, wspace=wspace, hspace=hspace)\n",
    "\n",
    "\n",
    "# plt.tight_layout()\n",
    "plt.show()"
   ]
  },
  {
   "cell_type": "code",
   "execution_count": 30,
   "metadata": {
    "ExecuteTime": {
     "end_time": "2021-09-15T22:23:25.035705Z",
     "start_time": "2021-09-15T22:23:23.268951Z"
    }
   },
   "outputs": [],
   "source": [
    "#plot the top trial as an example plot\n",
    "#load the collection of all such rates\n",
    "raw_data_dir=input_fn.replace('_powerlaw_fits.csv','.csv')\n",
    "df_raw=pd.read_csv(raw_data_dir)\n",
    "df=df_raw\n",
    "df['A']=df['L']**2\n",
    "df['q']=df['N']/df['A'] #number of tips per square centimeter\n",
    "df['w']=df['CollRate']/df['A'] #[mHz?]/cm^2\n",
    "\n",
    "#define constant parameters\n",
    "reflect=0\n",
    "force_code=2\n",
    "set_second=0\n",
    "neighbor=0\n",
    "no_attraction=0\n",
    "no_repulsion=0\n",
    "x0=0\n",
    "L=10\n",
    "\n",
    "#template query for the DataFrame\n",
    "df=df_raw.copy()\n",
    "query =(df.set_second==set_second)\n",
    "query&=(df.no_repulsion==no_repulsion)&(df.no_attraction==no_attraction)\n",
    "query&=(df.neighbor==neighbor)&(df.force_code==force_code)\n",
    "query&=df.L==L\n",
    "query&=df.x0==x0\n",
    "query&=(df.reflect==reflect)\n",
    "query_template=query.copy()\n",
    "\n",
    "#initialize task list as in the previous bluf routine\n",
    "for r,kappa,varkappa,D in zip(dict_best['r'],dict_best['kappa'],dict_best['varkappa'],dict_best['D']):\n",
    "    #query for the xy values for the top model\n",
    "    query=query_template.copy()\n",
    "    query&=df.r==r\n",
    "    query&=df.kappa==kappa\n",
    "    query&=df.varkappa==varkappa\n",
    "    query&=df.D==D\n",
    "    dg=df[query].copy()"
   ]
  },
  {
   "cell_type": "code",
   "execution_count": 29,
   "metadata": {
    "ExecuteTime": {
     "end_time": "2021-09-15T22:23:22.787795Z",
     "start_time": "2021-09-15T22:23:22.757187Z"
    }
   },
   "outputs": [
    {
     "name": "stdout",
     "output_type": "stream",
     "text": [
      "r kappa D varkappa x0 L force_code neighbor reflect set_second no_repulsion no_attraction\n"
     ]
    }
   ],
   "source": [
    "print(*dict_best)"
   ]
  },
  {
   "cell_type": "code",
   "execution_count": 28,
   "metadata": {
    "ExecuteTime": {
     "end_time": "2021-09-15T22:23:22.149561Z",
     "start_time": "2021-09-15T22:23:22.083571Z"
    }
   },
   "outputs": [],
   "source": [
    "dict_best=return_best_trial_parameters(input_fn,model_name_full='fk_pbc',num_points=25)\n"
   ]
  },
  {
   "cell_type": "code",
   "execution_count": 39,
   "metadata": {
    "ExecuteTime": {
     "end_time": "2021-09-15T22:36:14.821860Z",
     "start_time": "2021-09-15T22:36:14.800350Z"
    }
   },
   "outputs": [],
   "source": [
    "#TODO(first, find/ask wj for an uncertainty estimate for his data... Tell wj that my uncertainty esimate is about 1% for a 95% confidence that my values are accurate to 1% of their groundtruth value): make error bars also include the variance from the full model "
   ]
  },
  {
   "cell_type": "code",
   "execution_count": null,
   "metadata": {},
   "outputs": [],
   "source": []
  },
  {
   "cell_type": "code",
   "execution_count": 5,
   "metadata": {
    "ExecuteTime": {
     "end_time": "2021-09-15T22:17:17.743411Z",
     "start_time": "2021-09-15T22:17:16.973579Z"
    },
    "scrolled": false
   },
   "outputs": [
    {
     "data": {
      "image/png": "[encoded data removed]",
      "text/plain": [
       "<Figure size 864x432 with 2 Axes>"
      ]
     },
     "metadata": {
      "needs_background": "light"
     },
     "output_type": "display_data"
    }
   ],
   "source": [
    "#test the plotters for 1 fn\n",
    "# input_fn=search_for_file()\n",
    "# input_fn=\"/home/timothytyree/Documents/GitHub/bgmc/python/data/osg_output/run_16_all/job.out.14688026.0\"\n",
    "#plot figure-ready plots for one trial\n",
    "fig,axs=plt.subplots(ncols=2,figsize=(12,6))\n",
    "retval=q_vs_w_plotter_function(axs[0],data=input_fn)\n",
    "# assert(retval)\n",
    "retval=q_vs_Delta_w_plotter_function(axs[1],data=input_fn)\n",
    "# assert(retval)\n",
    "axs[0].margins(x=0.95,y=0.95)\n",
    "axs[1].margins(x=0.95,y=0.95)\n",
    "\n",
    "left_margin=0.2\n",
    "right_margin=0.2\n",
    "top_margin=0.4\n",
    "bottom_margin=0.2\n",
    "wspace=0.5\n",
    "hspace=0.2\n",
    "\n",
    "\n",
    "plt.subplots_adjust(left=left_margin, bottom=bottom_margin, right=1-right_margin, top=1-top_margin, wspace=wspace, hspace=hspace)\n",
    "# plt.tight_layout()\n",
    "plt.show()"
   ]
  },
  {
   "cell_type": "markdown",
   "metadata": {},
   "source": [
    "__Introductary Notes__\n",
    "- here, the powerlaw fit is w=M*q**m, and Delta_X is the maximum disagreement one could expect to observe with 95% confidence.\n",
    "- here, we observe Delta_X concerns disagreements between statistically independent measurements of X.\n",
    "- ..."
   ]
  },
  {
   "cell_type": "markdown",
   "metadata": {},
   "source": [
    "__Notes on nonsense local data__\n",
    "- I still cannot explain/reproduce the anomalous drop in reaction rates\n",
    "- This doesn't seem to be a problem with the remote data generation pipeline\n",
    "- Quickest fix is to dev run 16 to run the ~55 jobs I have right now in run_15_all_ar_star.csv\n",
    "\n",
    "__Notes on remote data__\n",
    "- appears monotonic from a first glance at the raw numbers...\n",
    "- this is fine... I suspect the problem with having two jobs on the same machine is that they save to the same tmp files.  The simple solution, just run the trials on different machines on a remote cluster...."
   ]
  },
  {
   "cell_type": "code",
   "execution_count": null,
   "metadata": {},
   "outputs": [],
   "source": []
  },
  {
   "cell_type": "markdown",
   "metadata": {},
   "source": [
    "__A note on this data from the local pipeline__<br>\n",
    "this data from the local pipeline is not making sense... there's a million moving parts, and i have recently used the remote pipeline... Maybe they cross talked because they print helper files to the same directories... Yep... I'd bet that's causing the wonky reads.  I have verified the problem does not exist in the funcitonal string formatting...  Therefore, we have the courage to say...\n",
    "\n",
    " __DONE:__ dev quick ar_star remote data run with 55 jobs gener_run_16.py and run it on the cloud!\n",
    " \n",
    " Now... Let's analyze ^these nifty repeatable results\n",
    " \n",
    " \n",
    "- TODO(if results are spectacular): automate repeatable results to machine precision by making a copy of the main .submit file in c/attractive/ with every randomization seed set to 1234..."
   ]
  },
  {
   "cell_type": "markdown",
   "metadata": {},
   "source": [
    "# visualize the parameters of the best few trials from power law fits to the full models"
   ]
  },
  {
   "cell_type": "code",
   "execution_count": 9,
   "metadata": {
    "ExecuteTime": {
     "end_time": "2021-09-21T01:26:41.506168Z",
     "start_time": "2021-09-21T01:26:41.431903Z"
    }
   },
   "outputs": [
    {
     "data": {
      "text/html": [
       "<div>\n",
       "<style scoped>\n",
       "    .dataframe tbody tr th:only-of-type {\n",
       "        vertical-align: middle;\n",
       "    }\n",
       "\n",
       "    .dataframe tbody tr th {\n",
       "        vertical-align: top;\n",
       "    }\n",
       "\n",
       "    .dataframe thead th {\n",
       "        text-align: right;\n",
       "    }\n",
       "</style>\n",
       "<table border=\"1\" class=\"dataframe\">\n",
       "  <thead>\n",
       "    <tr style=\"text-align: right;\">\n",
       "      <th></th>\n",
       "      <th>m</th>\n",
       "      <th>Delta_m</th>\n",
       "      <th>M</th>\n",
       "      <th>Delta_M</th>\n",
       "      <th>Rsq</th>\n",
       "      <th>rmse</th>\n",
       "      <th>rmse_full</th>\n",
       "      <th>model_name_full</th>\n",
       "      <th>q_min</th>\n",
       "      <th>q_max</th>\n",
       "      <th>...</th>\n",
       "      <th>D</th>\n",
       "      <th>varkappa</th>\n",
       "      <th>x0</th>\n",
       "      <th>L</th>\n",
       "      <th>force_code</th>\n",
       "      <th>neighbor</th>\n",
       "      <th>reflect</th>\n",
       "      <th>set_second</th>\n",
       "      <th>no_repulsion</th>\n",
       "      <th>no_attraction</th>\n",
       "    </tr>\n",
       "  </thead>\n",
       "  <tbody>\n",
       "    <tr>\n",
       "      <th>0</th>\n",
       "      <td>1.634225</td>\n",
       "      <td>0.011923</td>\n",
       "      <td>17.072853</td>\n",
       "      <td>0.539172</td>\n",
       "      <td>0.998796</td>\n",
       "      <td>0.213009</td>\n",
       "      <td>0.349726</td>\n",
       "      <td>lr_pbc</td>\n",
       "      <td>0.1</td>\n",
       "      <td>1.0</td>\n",
       "      <td>...</td>\n",
       "      <td>0.26706</td>\n",
       "      <td>10.80550</td>\n",
       "      <td>0</td>\n",
       "      <td>10</td>\n",
       "      <td>2</td>\n",
       "      <td>0</td>\n",
       "      <td>0</td>\n",
       "      <td>0</td>\n",
       "      <td>0</td>\n",
       "      <td>0</td>\n",
       "    </tr>\n",
       "    <tr>\n",
       "      <th>1</th>\n",
       "      <td>1.909927</td>\n",
       "      <td>0.025313</td>\n",
       "      <td>5.893359</td>\n",
       "      <td>0.282508</td>\n",
       "      <td>0.996038</td>\n",
       "      <td>0.184324</td>\n",
       "      <td>0.286524</td>\n",
       "      <td>fk_pbc</td>\n",
       "      <td>0.1</td>\n",
       "      <td>1.0</td>\n",
       "      <td>...</td>\n",
       "      <td>0.13358</td>\n",
       "      <td>1.63007</td>\n",
       "      <td>0</td>\n",
       "      <td>10</td>\n",
       "      <td>2</td>\n",
       "      <td>0</td>\n",
       "      <td>1</td>\n",
       "      <td>0</td>\n",
       "      <td>0</td>\n",
       "      <td>0</td>\n",
       "    </tr>\n",
       "    <tr>\n",
       "      <th>2</th>\n",
       "      <td>1.653182</td>\n",
       "      <td>0.024584</td>\n",
       "      <td>17.213944</td>\n",
       "      <td>1.098278</td>\n",
       "      <td>0.995017</td>\n",
       "      <td>0.522481</td>\n",
       "      <td>0.679965</td>\n",
       "      <td>lr_pbc</td>\n",
       "      <td>0.1</td>\n",
       "      <td>1.0</td>\n",
       "      <td>...</td>\n",
       "      <td>0.58586</td>\n",
       "      <td>8.73253</td>\n",
       "      <td>0</td>\n",
       "      <td>10</td>\n",
       "      <td>2</td>\n",
       "      <td>0</td>\n",
       "      <td>0</td>\n",
       "      <td>0</td>\n",
       "      <td>0</td>\n",
       "      <td>0</td>\n",
       "    </tr>\n",
       "    <tr>\n",
       "      <th>3</th>\n",
       "      <td>1.689880</td>\n",
       "      <td>0.015893</td>\n",
       "      <td>9.883946</td>\n",
       "      <td>0.345165</td>\n",
       "      <td>0.998001</td>\n",
       "      <td>0.165833</td>\n",
       "      <td>1.628595</td>\n",
       "      <td>fk_ncbc</td>\n",
       "      <td>0.1</td>\n",
       "      <td>1.0</td>\n",
       "      <td>...</td>\n",
       "      <td>0.35366</td>\n",
       "      <td>4.98720</td>\n",
       "      <td>0</td>\n",
       "      <td>10</td>\n",
       "      <td>2</td>\n",
       "      <td>0</td>\n",
       "      <td>1</td>\n",
       "      <td>0</td>\n",
       "      <td>0</td>\n",
       "      <td>0</td>\n",
       "    </tr>\n",
       "    <tr>\n",
       "      <th>4</th>\n",
       "      <td>1.706467</td>\n",
       "      <td>0.023508</td>\n",
       "      <td>12.187740</td>\n",
       "      <td>0.659933</td>\n",
       "      <td>0.995721</td>\n",
       "      <td>0.336254</td>\n",
       "      <td>2.128713</td>\n",
       "      <td>lr_ncbc</td>\n",
       "      <td>0.1</td>\n",
       "      <td>1.0</td>\n",
       "      <td>...</td>\n",
       "      <td>0.64805</td>\n",
       "      <td>5.59830</td>\n",
       "      <td>0</td>\n",
       "      <td>10</td>\n",
       "      <td>2</td>\n",
       "      <td>0</td>\n",
       "      <td>1</td>\n",
       "      <td>0</td>\n",
       "      <td>0</td>\n",
       "      <td>0</td>\n",
       "    </tr>\n",
       "  </tbody>\n",
       "</table>\n",
       "<p>5 rows × 22 columns</p>\n",
       "</div>"
      ],
      "text/plain": [
       "          m   Delta_m          M   Delta_M       Rsq      rmse  rmse_full  \\\n",
       "0  1.634225  0.011923  17.072853  0.539172  0.998796  0.213009   0.349726   \n",
       "1  1.909927  0.025313   5.893359  0.282508  0.996038  0.184324   0.286524   \n",
       "2  1.653182  0.024584  17.213944  1.098278  0.995017  0.522481   0.679965   \n",
       "3  1.689880  0.015893   9.883946  0.345165  0.998001  0.165833   1.628595   \n",
       "4  1.706467  0.023508  12.187740  0.659933  0.995721  0.336254   2.128713   \n",
       "\n",
       "  model_name_full  q_min  q_max  ...        D  varkappa  x0   L  force_code  \\\n",
       "0          lr_pbc    0.1    1.0  ...  0.26706  10.80550   0  10           2   \n",
       "1          fk_pbc    0.1    1.0  ...  0.13358   1.63007   0  10           2   \n",
       "2          lr_pbc    0.1    1.0  ...  0.58586   8.73253   0  10           2   \n",
       "3         fk_ncbc    0.1    1.0  ...  0.35366   4.98720   0  10           2   \n",
       "4         lr_ncbc    0.1    1.0  ...  0.64805   5.59830   0  10           2   \n",
       "\n",
       "   neighbor  reflect  set_second  no_repulsion  no_attraction  \n",
       "0         0        0           0             0              0  \n",
       "1         0        1           0             0              0  \n",
       "2         0        0           0             0              0  \n",
       "3         0        1           0             0              0  \n",
       "4         0        1           0             0              0  \n",
       "\n",
       "[5 rows x 22 columns]"
      ]
     },
     "execution_count": 9,
     "metadata": {},
     "output_type": "execute_result"
    }
   ],
   "source": [
    "input_fn=f\"/home/timothytyree/Documents/GitHub/bgmc/python/data/osg_output/run_18_all_powerlaw_fits.csv\"\n",
    "# input_fn=f\"/home/timothytyree/Documents/GitHub/bgmc/python/data/osg_output/run_17_all_powerlaw_fits.csv\"\n",
    "# input_fn=f\"/home/timothytyree/Documents/GitHub/bgmc/python/data/local_results/black_star_run_1_all_powerlaw_fits.csv\"\n",
    "# input_fn=f\"/home/timothytyree/Documents/GitHub/bgmc/python/data/osg_output/run_15_all_powerlaw_fits.csv\"\n",
    "\n",
    "df=pd.read_csv(input_fn)\n",
    "df.head()"
   ]
  },
  {
   "cell_type": "code",
   "execution_count": 10,
   "metadata": {
    "ExecuteTime": {
     "end_time": "2021-09-21T01:26:41.918520Z",
     "start_time": "2021-09-21T01:26:41.895546Z"
    }
   },
   "outputs": [],
   "source": [
    "#define constant parameters\n",
    "reflect=0\n",
    "force_code=2\n",
    "set_second=0\n",
    "neighbor=0\n",
    "no_attraction=0\n",
    "no_repulsion=0\n",
    "# kappa=100\n",
    "L=10\n",
    "\n",
    "#template query for the DataFrame\n",
    "query =(df.set_second==set_second)\n",
    "query&=(df.no_repulsion==no_repulsion)&(df.no_attraction==no_attraction)\n",
    "query&=(df.neighbor==neighbor)&(df.force_code==force_code)\n",
    "# query&=df.r==r\n",
    "# query&=df.kappa==kappa\n",
    "# query&=df.D==D\n",
    "query&=df.L==L\n",
    "query_template=query.copy()\n"
   ]
  },
  {
   "cell_type": "code",
   "execution_count": 11,
   "metadata": {
    "ExecuteTime": {
     "end_time": "2021-09-21T01:26:42.591147Z",
     "start_time": "2021-09-21T01:26:42.397545Z"
    }
   },
   "outputs": [
    {
     "name": "stdout",
     "output_type": "stream",
     "text": [
      "m=45.43124701678633\n",
      "Delta_m=0.7290676964495653\n",
      "b=-152.85387787814335\n",
      "Delta_b=4.624893912947587\n",
      "Rsquared=0.9984605237666201\n"
     ]
    },
    {
     "data": {
      "image/png": "[encoded data removed]",
      "text/plain": [
       "<Figure size 432x288 with 2 Axes>"
      ]
     },
     "metadata": {
      "needs_background": "light"
     },
     "output_type": "display_data"
    }
   ],
   "source": [
    "#select only the desired trials for the FK model\n",
    "reflect=0\n",
    "model_name_full='fk_pbc'#'lr_pbc'\n",
    "# model_name_full='lr_pbc'\n",
    "\n",
    "num_points=25\n",
    "c_col='rmse_full'\n",
    "vmin=0.;vmax=.25\n",
    "fontsize=16\n",
    "x1lim=[0,15]\n",
    "x2lim=[50,750]\n",
    "# x1lim=[5,10]\n",
    "# x2lim=[50,350]\n",
    "\n",
    "input_cols=['r','D','varkappa','x0', 'L', 'force_code', 'neighbor', 'reflect', 'set_second',\n",
    "       'no_repulsion', 'no_attraction']\n",
    "sortby_col='rmse_full'\n",
    "\n",
    "query=query_template.copy()\n",
    "query&=(df.reflect==reflect)\n",
    "query&=(df.model_name_full==model_name_full)\n",
    "# query&=df.varkappa==varkappa\n",
    "# query&=df.x0==x0\n",
    "\n",
    "if model_name_full=='fk_pbc':\n",
    "    modelname='Fenton-Karma'\n",
    "elif model_name_full=='lr_pbc':\n",
    "    modelname='Luo-Rudy'\n",
    "else:\n",
    "    raise(f'Not Yet Implemented! {model_name_full}')\n",
    "dg=df[query].sort_values(by=sortby_col).copy()\n",
    "\n",
    "#extract the data\n",
    "r_values=dg.head(num_points)['r'].values\n",
    "kappa_values=dg.head(num_points)['kappa'].values\n",
    "c_values=dg.head(num_points)[c_col].values\n",
    "x_values=1/r_values\n",
    "y_values=kappa_values\n",
    "#perform OLS on x,y\n",
    "dict_out=compute_95CI_ols(x_values,y_values)\n",
    "yhat_values=dict_out['m']*x_values+dict_out['b']\n",
    "\n",
    "#scatter plot the first 100 r,kappa values, coloring by rmse\n",
    "#TODO: repeat coloring by D\n",
    "#TODO: repeat coloring by varkappa\n",
    "fig,ax=plt.subplots()\n",
    "ax.plot(x_values,yhat_values,c='k',alpha=.7,lw=2)\n",
    "ax.scatter(x_values,y_values,c=c_values,cmap='gray',alpha=0.7,s=50,vmin=vmin,vmax=vmax)\n",
    "title=f'Top {num_points} Trials for {modelname} Model\\n'\n",
    "FormatAxes(ax, x1lim=x1lim, x2lim=x2lim, x1label=r'$1/r$ (cm$^{-1}$)', x2label=r'$\\kappa$ (Hz)', title=title, fontsize=fontsize, use_loglog=False)\n",
    "# cbar=fig.colorbar(cmap='bone', ax=ax, shrink=0.6,label=r'RMSE$_{particle\\;vs\\;full}$')#, location='top'\n",
    "# fig.colorbar(pcm, ax=[axs[0, col]], location='top', shrink=0.6)\n",
    "#     cbar=fig.colorbar(pcm, ax=axs[:, col],shrink=0.6)#,label=output_col)\n",
    "\n",
    "import matplotlib as mpl\n",
    "norm = mpl.colors.Normalize(vmin=vmin,vmax=vmax)\n",
    "cmap = plt.cm.bone\n",
    "cax = fig.add_axes([0.95, 0.2, 0.02, 0.6])\n",
    "cb = mpl.colorbar.ColorbarBase(cax, cmap=cmap, norm=norm, spacing='proportional')\n",
    "cb.set_label(r'RMSE$_{particle\\;vs\\;full}$',fontsize=fontsize)\n",
    "cb.ax.tick_params(labelsize=fontsize)\n",
    "\n",
    "# cbar.ax.tick_params(labelsize=fontsize)\n",
    "# cbar.set_label(output_col, fontsize=fontsize)\n",
    "print_dict(dict_out)\n",
    "plt.show()\n"
   ]
  },
  {
   "cell_type": "code",
   "execution_count": 12,
   "metadata": {
    "ExecuteTime": {
     "end_time": "2021-09-21T01:26:43.248606Z",
     "start_time": "2021-09-21T01:26:43.029361Z"
    }
   },
   "outputs": [
    {
     "data": {
      "image/png": "[encoded data removed]",
      "text/plain": [
       "<Figure size 432x288 with 2 Axes>"
      ]
     },
     "metadata": {
      "needs_background": "light"
     },
     "output_type": "display_data"
    },
    {
     "name": "stdout",
     "output_type": "stream",
     "text": [
      "m=88.56572472116645\n",
      "Delta_m=5.523301857214126\n",
      "b=-223.64555854032227\n",
      "Delta_b=31.104443025988168\n",
      "Rsquared=0.9772445644348985\n"
     ]
    }
   ],
   "source": [
    "#select only the desired trials for the FK model\n",
    "reflect=0\n",
    "model_name_full='fk_pbc'#'lr_pbc'\n",
    "model_name_full='lr_pbc'\n",
    "\n",
    "num_points=25\n",
    "fontsize=16#select only the desired trials for the FK model\n",
    "reflect=0\n",
    "model_name_full='fk_pbc'#'lr_pbc'\n",
    "model_name_full='lr_pbc'\n",
    "\n",
    "num_points=25\n",
    "c_col='varkappa'\n",
    "clabel=r'$a$ cm$^2$/s'\n",
    "vmin=0.;vmax=30\n",
    "fontsize=16\n",
    "x1lim=[0,15]\n",
    "x2lim=[50,750]\n",
    "# x1lim=[5,10]\n",
    "# x2lim=[50,350]\n",
    "\n",
    "input_cols=['r','D','varkappa','x0', 'L', 'force_code', 'neighbor', 'reflect', 'set_second',\n",
    "       'no_repulsion', 'no_attraction']\n",
    "sortby_col='rmse_full'\n",
    "\n",
    "query=query_template.copy()\n",
    "query&=(df.reflect==reflect)\n",
    "query&=(df.model_name_full==model_name_full)\n",
    "# query&=df.varkappa==varkappa\n",
    "# query&=df.x0==x0\n",
    "\n",
    "if model_name_full=='fk_pbc':\n",
    "    modelname='Fenton-Karma'\n",
    "elif model_name_full=='lr_pbc':\n",
    "    modelname='Luo-Rudy'\n",
    "else:\n",
    "    raise(f'Not Yet Implemented! {model_name_full}')\n",
    "dg=df[query].sort_values(by=sortby_col).copy()\n",
    "\n",
    "#extract the data\n",
    "r_values=dg.head(num_points)['r'].values\n",
    "kappa_values=dg.head(num_points)['kappa'].values\n",
    "c_values=dg.head(num_points)[c_col].values\n",
    "x_values=1/r_values\n",
    "y_values=kappa_values\n",
    "#perform OLS on x,y\n",
    "dict_out=compute_95CI_ols(x_values,y_values)\n",
    "yhat_values=dict_out['m']*x_values+dict_out['b']\n",
    "\n",
    "#scatter plot the first 100 r,kappa values, coloring by rmse\n",
    "#TODO: repeat coloring by D\n",
    "#TODO: repeat coloring by varkappa\n",
    "fig,ax=plt.subplots()\n",
    "ax.plot(x_values,yhat_values,c='k',alpha=.7,lw=2)\n",
    "ax.scatter(x_values,y_values,c=c_values,cmap='gray',alpha=0.7,s=50,vmin=vmin,vmax=vmax)\n",
    "title=f'Top {num_points} Trials for {modelname} Model\\n'\n",
    "FormatAxes(ax, x1lim=x1lim, x2lim=x2lim, x1label=r'$1/r$ (cm$^{-1}$)', x2label=r'$\\kappa$ (Hz)', title=title, fontsize=fontsize, use_loglog=False)\n",
    "\n",
    "import matplotlib as mpl\n",
    "norm = mpl.colors.Normalize(vmin=vmin,vmax=vmax)\n",
    "cmap = plt.cm.bone\n",
    "cax = fig.add_axes([0.95, 0.2, 0.02, 0.6])\n",
    "cb = mpl.colorbar.ColorbarBase(cax, cmap=cmap, norm=norm, spacing='proportional')\n",
    "cb.set_label(clabel,fontsize=fontsize)\n",
    "cb.ax.tick_params(labelsize=fontsize)\n",
    "\n",
    "# cbar.ax.tick_params(labelsize=fontsize)\n",
    "# cbar.set_label(output_col, fontsize=fontsize)\n",
    "\n",
    "plt.show()\n",
    "print_dict(dict_out)\n"
   ]
  },
  {
   "cell_type": "code",
   "execution_count": 16,
   "metadata": {
    "ExecuteTime": {
     "end_time": "2021-09-21T01:30:56.210314Z",
     "start_time": "2021-09-21T01:30:56.156805Z"
    }
   },
   "outputs": [],
   "source": [
    "df['l']=df['varkappa']/(df['kappa']*df['r'])     #cm\n",
    "df['lt']=df['varkappa']/(df['kappa']*df['r'])**2 #seconds\n",
    "\n",
    "mup=.5\n",
    "df['K']=df['varkappa']*(df['kappa']*df['r'])**mup\n",
    "df['J']=df['varkappa']*np.sqrt(df['kappa']*df['r'])"
   ]
  },
  {
   "cell_type": "code",
   "execution_count": 26,
   "metadata": {
    "ExecuteTime": {
     "end_time": "2021-09-21T01:33:55.208254Z",
     "start_time": "2021-09-21T01:33:55.040930Z"
    }
   },
   "outputs": [
    {
     "data": {
      "image/png": "[encoded data removed]",
      "text/plain": [
       "<Figure size 432x288 with 2 Axes>"
      ]
     },
     "metadata": {
      "needs_background": "light"
     },
     "output_type": "display_data"
    },
    {
     "name": "stdout",
     "output_type": "stream",
     "text": [
      "m=-940.5021963041006\n",
      "Delta_m=1341.686323862718\n",
      "b=244.87806855651297\n",
      "Delta_b=236.12436845670143\n",
      "Rsquared=0.07584819741533057\n"
     ]
    }
   ],
   "source": [
    "#select only the desired trials for the FK model\n",
    "reflect=0\n",
    "model_name_full='fk_pbc'#'lr_pbc'\n",
    "model_name_full='lr_pbc'\n",
    "\n",
    "num_points=25\n",
    "c_col='D'\n",
    "clabel=r'$D$ cm$^2$/s'\n",
    "vmin=0.;vmax=30\n",
    "fontsize=16\n",
    "x1lim=[0,15]\n",
    "x2lim=[50,750]\n",
    "# x1lim=[5,10]\n",
    "# x2lim=[50,350]\n",
    "\n",
    "input_cols=['r','D','varkappa','x0', 'L', 'force_code', 'neighbor', 'reflect', 'set_second',\n",
    "       'no_repulsion', 'no_attraction']\n",
    "sortby_col='rmse_full'\n",
    "\n",
    "query=query_template.copy()\n",
    "query&=(df.reflect==reflect)\n",
    "query&=(df.model_name_full==model_name_full)\n",
    "# query&=df.varkappa==varkappa\n",
    "# query&=df.x0==x0\n",
    "\n",
    "if model_name_full=='fk_pbc':\n",
    "    modelname='Fenton-Karma'\n",
    "elif model_name_full=='lr_pbc':\n",
    "    modelname='Luo-Rudy'\n",
    "else:\n",
    "    raise(f'Not Yet Implemented! {model_name_full}')\n",
    "dg=df[query].sort_values(by=sortby_col).copy()\n",
    "\n",
    "#extract the data\n",
    "c_values=dg.head(num_points)[c_col].values\n",
    "x_values=dg.head(num_points)['rmse_full'].values\n",
    "y_values=dg.head(num_points)['K'].values\n",
    "#perform OLS on x,y\n",
    "dict_out=compute_95CI_ols(x_values,y_values)\n",
    "yhat_values=dict_out['m']*x_values+dict_out['b']\n",
    "\n",
    "#scatter plot the first 100 r,kappa values, coloring by rmse\n",
    "#TODO: repeat coloring by D\n",
    "#TODO: repeat coloring by varkappa\n",
    "fig,ax=plt.subplots()\n",
    "ax.plot(x_values,yhat_values,c='k',alpha=.7,lw=2)\n",
    "ax.scatter(x_values,y_values,c=c_values,cmap='gray',alpha=0.7,s=50)#,vmin=vmin,vmax=vmax)\n",
    "title=f'Top {num_points} Trials for {modelname} Model\\n'\n",
    "\n",
    "# FormatAxes(ax, x1lim=x1lim, x2lim=x2lim, x1label=r'$1/r$ (cm$^{-1}$)', x2label=r'$\\kappa$ (Hz)', title=title, fontsize=fontsize, use_loglog=False)\n",
    "\n",
    "import matplotlib as mpl\n",
    "norm = mpl.colors.Normalize()#vmin=vmin,vmax=vmax)\n",
    "cmap = plt.cm.bone\n",
    "cax = fig.add_axes([0.95, 0.2, 0.02, 0.6])\n",
    "cb = mpl.colorbar.ColorbarBase(cax, cmap=cmap, norm=norm, spacing='proportional')\n",
    "cb.set_label(clabel,fontsize=fontsize)\n",
    "cb.ax.tick_params(labelsize=fontsize)\n",
    "\n",
    "# cbar.ax.tick_params(labelsize=fontsize)\n",
    "# cbar.set_label(output_col, fontsize=fontsize)\n",
    "\n",
    "plt.show()\n",
    "print_dict(dict_out)"
   ]
  },
  {
   "cell_type": "code",
   "execution_count": null,
   "metadata": {},
   "outputs": [],
   "source": []
  }
 ],
 "metadata": {
  "kernelspec": {
   "display_name": "Python 3",
   "language": "python",
   "name": "python3"
  },
  "language_info": {
   "codemirror_mode": {
    "name": "ipython",
    "version": 3
   },
   "file_extension": ".py",
   "mimetype": "text/x-python",
   "name": "python",
   "nbconvert_exporter": "python",
   "pygments_lexer": "ipython3",
   "version": "3.7.6"
  },
  "toc": {
   "base_numbering": 1,
   "nav_menu": {},
   "number_sections": true,
   "sideBar": true,
   "skip_h1_title": false,
   "title_cell": "Table of Contents",
   "title_sidebar": "Contents",
   "toc_cell": false,
   "toc_position": {
    "height": "calc(100% - 180px)",
    "left": "10px",
    "top": "150px",
    "width": "384px"
   },
   "toc_section_display": true,
   "toc_window_display": false
  },
  "varInspector": {
   "cols": {
    "lenName": 16,
    "lenType": 16,
    "lenVar": 40
   },
   "kernels_config": {
    "python": {
     "delete_cmd_postfix": "",
     "delete_cmd_prefix": "del ",
     "library": "var_list.py",
     "varRefreshCmd": "print(var_dic_list())"
    },
    "r": {
     "delete_cmd_postfix": ") ",
     "delete_cmd_prefix": "rm(",
     "library": "var_list.r",
     "varRefreshCmd": "cat(var_dic_list()) "
    }
   },
   "types_to_exclude": [
    "module",
    "function",
    "builtin_function_or_method",
    "instance",
    "_Feature"
   ],
   "window_display": false
  }
 },
 "nbformat": 4,
 "nbformat_minor": 4
}
