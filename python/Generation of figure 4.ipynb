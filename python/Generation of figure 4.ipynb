{
 "cells": [
  {
   "cell_type": "markdown",
   "id": "9207f4ae",
   "metadata": {},
   "source": [
    "# Generation of figure 4\n",
    "Tim Tyree<br>\n",
    "9.20.2022"
   ]
  },
  {
   "cell_type": "code",
   "execution_count": 1,
   "id": "702f8f19",
   "metadata": {
    "ExecuteTime": {
     "end_time": "2022-09-21T00:15:30.177785Z",
     "start_time": "2022-09-21T00:15:24.126617Z"
    }
   },
   "outputs": [
    {
     "name": "stderr",
     "output_type": "stream",
     "text": [
      "/Users/timothytyree/opt/miniconda3/envs/pyenv/lib/python3.9/site-packages/statsmodels/compat/pandas.py:61: FutureWarning: pandas.Int64Index is deprecated and will be removed from pandas in a future version. Use pandas.Index with the appropriate dtype instead.\n",
      "  from pandas import Int64Index as NumericIndex\n"
     ]
    },
    {
     "name": "stdout",
     "output_type": "stream",
     "text": [
      "The autoreload extension is already loaded. To reload it, use:\n",
      "  %reload_ext autoreload\n"
     ]
    }
   ],
   "source": [
    "# TODO: simplify initialization\n",
    "from scipy.optimize import minimize\n",
    "from lib.my_initialization import *\n",
    "from lib import *\n",
    "from lib.lib_care.measure.level_sets import comp_longest_level_set_and_smooth\n",
    "%load_ext autoreload\n",
    "%autoreload 2\n",
    "\n",
    "import matplotlib.pyplot as plt, numpy as np\n",
    "from mpltools import annotation\n",
    "import random,scipy\n",
    "from scipy.interpolate import LinearNDInterpolator\n",
    "from scipy.interpolate import CloughTocher2DInterpolator\n",
    "import matplotlib as mpl #for colorbar\n",
    "from scipy import stats\n",
    "\n",
    "#for particle params to MSR generating functional\n",
    "from scipy.signal import savgol_filter\n",
    "import dask.bag as db\n",
    "from lib.lib_care.measure.bootstrap import bin_and_bootstrap_xy_values_parallel\n",
    "\n",
    "darkmode=False\n",
    "if darkmode:\n",
    "    # For darkmode plots\n",
    "    from jupyterthemes import jtplot\n",
    "    jtplot.style(theme='monokai', context='notebook', ticks=True, grid=False)\n",
    "\n",
    "import warnings\n",
    "warnings.simplefilter(\"ignore\", UserWarning)\n",
    "%load_ext autoreload\n",
    "%autoreload 2\n",
    "\n",
    "#optional\n",
    "# import cupy as cp\n",
    "# cp.random.seed(42)\n",
    "np.random.seed(42)"
   ]
  },
  {
   "cell_type": "code",
   "execution_count": 414,
   "id": "0d5d17c8",
   "metadata": {
    "ExecuteTime": {
     "end_time": "2022-09-21T03:30:51.738802Z",
     "start_time": "2022-09-21T03:30:51.682578Z"
    }
   },
   "outputs": [],
   "source": [
    "#reset matplotlib settings\n",
    "import matplotlib as mpl\n",
    "sns.reset_orig()\n",
    "mpl.rc_file_defaults()"
   ]
  },
  {
   "cell_type": "code",
   "execution_count": 106,
   "id": "864fb183",
   "metadata": {
    "ExecuteTime": {
     "end_time": "2022-09-21T01:02:10.038506Z",
     "start_time": "2022-09-21T01:02:09.879051Z"
    }
   },
   "outputs": [],
   "source": [
    "from scipy.optimize import dual_annealing"
   ]
  },
  {
   "cell_type": "code",
   "execution_count": 415,
   "id": "a8e5c094",
   "metadata": {
    "ExecuteTime": {
     "end_time": "2022-09-21T03:30:53.036101Z",
     "start_time": "2022-09-21T03:30:52.979962Z"
    }
   },
   "outputs": [],
   "source": [
    "#reset matplotlib\n",
    "mpl.rcParams.update(matplotlib.rcParamsDefault)"
   ]
  },
  {
   "cell_type": "markdown",
   "id": "bcc05f35",
   "metadata": {},
   "source": [
    "# define module"
   ]
  },
  {
   "cell_type": "code",
   "execution_count": 107,
   "id": "88e3d246",
   "metadata": {
    "ExecuteTime": {
     "end_time": "2022-09-21T01:02:16.628573Z",
     "start_time": "2022-09-21T01:02:16.565282Z"
    }
   },
   "outputs": [],
   "source": [
    "def comp_mean_bootstrap_uncertainty(x,num_samples=1000):\n",
    "    \"\"\"\n",
    "    Example Usage:\n",
    "meanx,Delta_meanx,num_obs,p_normal=comp_mean_bootstrap_uncertainty(minlifetime_values)\n",
    "printing=True\n",
    "if printing:\n",
    "    print(f\"mean: {meanx:.4f} +/- {Delta_meanx:.4f} (N={num_obs}, {p_normal=:.4f})\")\n",
    "    \"\"\"\n",
    "    meanx = np.mean(x)\n",
    "    Delta_meanx,p_normal=bootstrap_95CI_Delta_mean(x,num_samples=num_samples)\n",
    "    num_obs=x.shape[0]\n",
    "    return meanx,Delta_meanx,num_obs,p_normal\n",
    "\n",
    "\n",
    "#TODO: copy to lib.model\n",
    "def comp_square_error_msr_aff_osc(x,*args):\n",
    "    \"\"\"phase is in radians. period is in milliseconds.  a0,a1 are in cm^2/s.\n",
    "\n",
    "Example Usage:\n",
    "x0=a0,a1,period,phase\n",
    "args=t_values,msr_values,D\n",
    "square_error=comp_square_error_msr_aff_osc(x0,*args)\n",
    "rmse=np.sqrt(square_error/t_values.shape[0])\n",
    "print(f\"{rmse=}\")\n",
    "    \"\"\"\n",
    "    a0,a1,period,phase=x\n",
    "    t_values,msr_values,D=args\n",
    "    omega=2*np.pi/period*1e3 #Hz bc period is in ms\n",
    "    msr_values_affoscillatory=4*((2*D+a0)*t_values+(a1/omega)*(np.sin(omega*t_values+phase)-np.sin(phase)))\n",
    "    square_error_msr=np.sum((msr_values_affoscillatory-msr_values)**2)\n",
    "    return square_error_msr\n",
    "\n",
    "def anneal_msr_fit(t_values,msr_values,D,\n",
    "                   bounds = ((0, 100), (0, 100), (50, 300), (-3.15,3.15)),\n",
    "                   maxiter=1000,\n",
    "                   seed=42,\n",
    "                   no_local_search=True,\n",
    "                   **kwargs):\n",
    "    \"\"\"returns fit of MSR(t') to the affine oscillatory particle model.\n",
    "    if no_local_search=True, simulated annealing is used.\n",
    "    if no_local_search=False, dual annealing is used.\n",
    "    kwargs are passed to scipy.optimize.dual_annealing\n",
    "    bounds gives the upper/lower bounds to parameter values a0 (cm^2/s), a1 (cm^2/s), period (ms), and phase (radians), respectively.\n",
    "\n",
    "    Example Usage:\n",
    "res = anneal_msr_fit(t_values,msr_values,D,\n",
    "                   bounds = ((0, 100), (0, 100), (50, 300), (-3.15,3.15)),\n",
    "                   maxiter=1000,seed=42, no_local_search=True)#,**kwargs)\n",
    "    \"\"\"\n",
    "    # input: t_values, msr_values, D, Gamma\n",
    "    # output: a0,a1,period,phase,rmse,alinear\n",
    "    args=t_values,msr_values,D\n",
    "    # np.random.seed(42)   # seed to allow replication.\n",
    "    res = dual_annealing(\n",
    "        comp_square_error_msr_aff_osc,\n",
    "        bounds=bounds,\n",
    "        args=args,\n",
    "        maxiter=maxiter,\n",
    "        seed=seed,\n",
    "        no_local_search=no_local_search,**kwargs)\n",
    "    return res\n",
    "\n",
    "def comp_alinear(a0,a1,period,Gamma,phase):\n",
    "    \"\"\"computes the effective attraction coefficient of the linear particle model.\n",
    "    a0,a1 are in units of alinear. \n",
    "    period is in units of the mean minimum lifetime, Gamma. \n",
    "    phase is in units of radians.\n",
    "    \n",
    "    Example Usage:\n",
    "alinear = comp_alinear(a0,a1,period,Gamma,phase)\n",
    "    \"\"\"\n",
    "    omega = 2*np.pi/period\n",
    "    z = Gamma*omega\n",
    "    alinear=a0 + a1*(np.cos(phase)-z*np.sin(phase))/(1 + z**2)\n",
    "    return alinear"
   ]
  },
  {
   "cell_type": "code",
   "execution_count": 128,
   "id": "cbafb748",
   "metadata": {
    "ExecuteTime": {
     "end_time": "2022-09-21T01:27:24.372668Z",
     "start_time": "2022-09-21T01:27:24.306667Z"
    }
   },
   "outputs": [],
   "source": [
    "def fit_msr_oscillatory(x_values,y_values,max_tdeath,\n",
    "                        D=0., #cm^2/s\n",
    "                        tscale=1e-3, #s per ms\n",
    "                        maxiter=10000,\n",
    "                        bounds = ((0, 100), (0, 100), (50, 300), (-3.15,3.15)),\n",
    "                        seed=42, \n",
    "                        no_local_search=True,\n",
    "                        printing=True,\n",
    "                        **kwargs):\n",
    "    \"\"\"inputed xy values correspond to tdeath,msd, respectively.\n",
    "    bounds is the bounding box in the linear basis of (a0,a1,period,phase), respectively.\n",
    "    kwargs are passed to anneal_msr_fit directly.\n",
    "    \n",
    "    Example Usage: print fit of oscillatory particle model to full\n",
    "a0,a1,period,phase,rmse = fit_msr_oscillatory(x_values,y_values,max_tdeath,\n",
    "                                    D=0.,maxiter=10000,printing=True)#,**kwargs)\n",
    "dict_fit=dict(a0=a0,a1=a1,period=period,phase=phase,rmse=rmse)\n",
    "print_dict(dict_fit)\n",
    "    \"\"\"\n",
    "    boo=x_values<max_tdeath\n",
    "    t_values=x_values[boo].copy()*tscale\n",
    "    msr_values=y_values[boo].copy() \n",
    "    msr_values-= np.min(msr_values) #corrects for aliasing\n",
    "    if printing:\n",
    "        print(f\"performing simulated annealing with {D=:.0f} fixed (num. epochs: {maxiter})...\")\n",
    "    res = anneal_msr_fit(t_values,msr_values,D,\n",
    "                       bounds = bounds,\n",
    "                       maxiter=maxiter,seed=seed, no_local_search=no_local_search,**kwargs)\n",
    "    rmse= np.sqrt(res.fun/t_values.shape[0])\n",
    "    a0,a1,period,phase=res.x\n",
    "    if printing:\n",
    "        print(f\"simulated annealing fit: {a0=:.4f}, {a1=:.4f}, {period=:.4f}, {phase=:.4f} --> {rmse=:.4f} cm^2\")\n",
    "    rmse= np.sqrt(res.fun/t_values.shape[0])\n",
    "    return a0,a1,period,phase,rmse"
   ]
  },
  {
   "cell_type": "markdown",
   "id": "cc5649b0",
   "metadata": {},
   "source": [
    "# dev"
   ]
  },
  {
   "cell_type": "code",
   "execution_count": 111,
   "id": "24ef604a",
   "metadata": {
    "ExecuteTime": {
     "end_time": "2022-09-21T01:05:33.163669Z",
     "start_time": "2022-09-21T01:05:33.106124Z"
    }
   },
   "outputs": [],
   "source": [
    "#recall results from tables in the main mansucript\n",
    "wjr=recall_powerlaw_fits_to_full_models()\n",
    "\n",
    "input_fn=f\"{nb_dir}/data/osg_output/run_17_all_powerlaw_fits.csv\"\n",
    "input_fn_dict={'vectorsummed':input_fn,'neighboronly':input_fn}\n",
    "\n",
    "# interp=recall_particle_model_interp(input_fn_dict=input_fn_dict)\n",
    "# a_hat_FK, D_hat_FK, a_hat_FK_long, a_hat_FK_vlong, a_hat_LR, D_hat_LR, a_hat_LR_long=recall_particle_parameter_measurements()"
   ]
  },
  {
   "cell_type": "code",
   "execution_count": 112,
   "id": "11cec627",
   "metadata": {
    "ExecuteTime": {
     "end_time": "2022-09-21T01:05:34.552056Z",
     "start_time": "2022-09-21T01:05:34.499270Z"
    }
   },
   "outputs": [],
   "source": [
    "# # #FK model trajectories\n",
    "# # #per 005\n",
    "# # annihil_range_dir_fk = \"/Users/timothytyree/Documents/GitHub/care/notebooks/Data/from_wjr/positions_fk/200x200/tippos_per_c_005_annihilation_range_timeseries.pkl\"\n",
    "# # creation_range_dir_fk = \"/Users/timothytyree/Documents/GitHub/care/notebooks/Data/from_wjr/positions_fk/200x200/tippos_per_c_005_creation_range_timeseries.pkl\" # 79 trials\n",
    "# # DT = 5e-3 # s / frame\n",
    "# # per 001\n",
    "# annihil_range_dir_fk = \"/Users/timothytyree/Documents/GitHub/care/notebooks/Data/from_wjr/positions_fk/200x200/tippos_per_c_001_annihilation_range_timeseries.pkl\"\n",
    "# creation_range_dir_fk = \"/Users/timothytyree/Documents/GitHub/care/notebooks/Data/from_wjr/positions_fk/200x200/tippos_per_c_001_creation_range_timeseries.pkl\"\n",
    "# DT = 1e-3 # s / frame\n",
    "# DS = 0.0025 # cm / px\n",
    "# assert os.path.exists(annihil_range_dir_fk)\n",
    "# assert os.path.exists(creation_range_dir_fk)\n",
    "# data_annihil=load_from_pickle(annihil_range_dir_fk)\n",
    "# data_creation=load_from_pickle(creation_range_dir_fk)\n",
    "\n",
    "\n",
    "# df_ranges_annihiln = pd.concat(data_annihil)\n",
    "# df_ranges_creation = pd.concat(data_creation)\n",
    "# print(f\"num. trials in cached annihilation ranges: {df_ranges_annihiln['trial_num'].max()}\")\n",
    "# print(f\"num. trials in cached creation ranges: {df_ranges_creation['trial_num'].max()}\")\n",
    "\n",
    "# # df=df_ranges_annihiln\n",
    "# # num_termination_events = df['trial_num'].max()\n",
    "# # minlifetime_values = df.groupby(by=['trial_num','annihilation_index'])['tdeath'].max().values\n",
    "# # meanx,Delta_meanx,num_obsx,p_normalx=comp_mean_bootstrap_uncertainty(minlifetime_values)\n",
    "# # printing=True\n",
    "# # if printing:\n",
    "# #     print(f\" - mean lifetime: {meanx:.4f} +/- {Delta_meanx:.4f} ms (N={num_obsx}, p_normal: {p_normalx:.4f}) from {num_termination_events} termination events\")\n",
    "    \n",
    "# df=df_ranges_creation\n",
    "# num_termination_events = df['trial_num'].max()\n",
    "# minlifetime_values = df.groupby(by=['trial_num','annihilation_index'])['tdeath'].max().values\n",
    "# meanx,Delta_meanx,num_obsx,p_normalx=comp_mean_bootstrap_uncertainty(minlifetime_values)\n",
    "# printing=True\n",
    "# if printing:\n",
    "#     print(f\"Fenton-Karma: mean lifetime: {meanx:.4f} +/- {Delta_meanx:.4f} ms (N={num_obsx}, p_normal: {p_normalx:.4f}) from {num_termination_events} termination events\")\n",
    "    \n",
    "# minlifetime_values_fk = minlifetime_values.copy()*DT\n",
    "\n",
    "# #LR model trajectories\n",
    "# #per 001\n",
    "# annihil_range_dir_lr = \"/Users/timothytyree/Documents/GitHub/care/notebooks/Data/from_wjr/positions_lr/200x200/tippos_per_001_annihilation_range_timeseries.pkl\"\n",
    "# creation_range_dir_lr = \"/Users/timothytyree/Documents/GitHub/care/notebooks/Data/from_wjr/positions_lr//200x200/tippos_per_001_creation_range_timeseries.pkl\"\n",
    "# DT = 1e-3 # s / frame\n",
    "# DS = 0.0025 # cm / px\n",
    "# assert os.path.exists(annihil_range_dir_lr)\n",
    "# assert os.path.exists(creation_range_dir_lr)\n",
    "# data_annihil=load_from_pickle(annihil_range_dir_lr)\n",
    "# data_creation=load_from_pickle(creation_range_dir_lr)\n",
    "\n",
    "# df_ranges_annihiln = pd.concat(data_annihil)\n",
    "# df_ranges_creation = pd.concat(data_creation)\n",
    "# print(f\"num. trials in cached annihilation ranges: {df_ranges_annihiln['trial_num'].max()}\")\n",
    "# print(f\"num. trials in cached creation ranges: {df_ranges_creation['trial_num'].max()}\")\n",
    "\n",
    "# df=df_ranges_annihiln\n",
    "# num_termination_events = df['trial_num'].max()\n",
    "# minlifetime_values = df.groupby(by=['trial_num','annihilation_index'])['tdeath'].max().values\n",
    "# meanx,Delta_meanx,num_obsx,p_normalx=comp_mean_bootstrap_uncertainty(minlifetime_values)\n",
    "# printing=True\n",
    "# if printing:\n",
    "#     print(f\"Luo-Rudy: mean lifetime: {meanx:.4f} +/- {Delta_meanx:.4f} ms (N={num_obsx}, p_normal: {p_normalx:.4f}) from {num_termination_events} termination events\")\n",
    "    \n",
    "# # df=df_ranges_creation\n",
    "# # num_termination_events = df['trial_num'].max()\n",
    "# # minlifetime_values = df.groupby(by=['trial_num','annihilation_index'])['tdeath'].max().values\n",
    "# # meanx,Delta_meanx,num_obsx,p_normalx=comp_mean_bootstrap_uncertainty(minlifetime_values)\n",
    "# # printing=True\n",
    "# # if printing:\n",
    "# #     print(f\" - mean lifetime: {meanx:.4f} +/- {Delta_meanx:.4f} ms (N={num_obsx}, p_normal: {p_normalx:.4f}) from {num_termination_events} termination events\")\n",
    "    \n",
    "# minlifetime_values_lr = minlifetime_values.copy()*DT\n",
    "\n",
    "# minlifetime_values_fk.shape,minlifetime_values_lr.shape"
   ]
  },
  {
   "cell_type": "code",
   "execution_count": 113,
   "id": "601b7d1f",
   "metadata": {
    "ExecuteTime": {
     "end_time": "2022-09-21T01:05:36.834247Z",
     "start_time": "2022-09-21T01:05:35.414013Z"
    }
   },
   "outputs": [
    {
     "name": "stdout",
     "output_type": "stream",
     "text": [
      "loaded range timeseries from 80 termination events (FK)\n",
      "df_ranges_fk.shape=(3846532, 9)\n",
      "loaded range timeseries from 595 termination events (LR)\n",
      "df_ranges_lr.shape=(524869, 9)\n"
     ]
    }
   ],
   "source": [
    "#load from full models\n",
    "\n",
    "#load msr data for FK model (200x200) (src: wj)\n",
    "msr_dir_bootstrap_fk=f'/Users/timothytyree/Documents/GitHub/care/notebooks/Data/from_wjr/positions_fk/200x200/tippos_per_c_001_annihilation_msr.csv'\n",
    "range_data_dir_fk=f'/Users/timothytyree/Documents/GitHub/care/notebooks/Data/from_wjr/positions_fk/200x200/tippos_per_c_001_annihilation_range_timeseries.pkl'\n",
    "df_msr_fk=pd.read_csv(msr_dir_bootstrap_fk)\n",
    "#load apparent ranges\n",
    "data_lst=load_from_pickle(range_data_dir_fk)\n",
    "num_termination_events_fk = len(data_lst)\n",
    "print(f\"loaded range timeseries from {num_termination_events_fk} termination events (FK)\")\n",
    "df_ranges_fk=pd.concat(data_lst)\n",
    "del data_lst\n",
    "print(f\"{df_ranges_fk.shape=}\")\n",
    "\n",
    "#load msr data for LR model (200x200) (src: wj)\n",
    "msr_dir_bootstrap_lr=f'/Users/timothytyree/Documents/GitHub/care/notebooks/Data/from_wjr/positions_lr/200x200/tippos_per_001_annihilation_msr.csv'\n",
    "range_data_dir_lr=f'/Users/timothytyree/Documents/GitHub/care/notebooks/Data/from_wjr/positions_lr/200x200/tippos_per_001_annihilation_range_timeseries.pkl'\n",
    "df_msr_lr=pd.read_csv(msr_dir_bootstrap_lr)\n",
    "#load apparent ranges\n",
    "data_lst=load_from_pickle(range_data_dir_lr)\n",
    "num_termination_events_lr = len(data_lst)\n",
    "print(f\"loaded range timeseries from {num_termination_events_lr} termination events (LR)\")\n",
    "df_ranges_lr=pd.concat(data_lst)\n",
    "del data_lst\n",
    "print(f\"{df_ranges_lr.shape=}\")"
   ]
  },
  {
   "cell_type": "code",
   "execution_count": 114,
   "id": "cfed2af7",
   "metadata": {
    "ExecuteTime": {
     "end_time": "2022-09-21T01:05:39.205152Z",
     "start_time": "2022-09-21T01:05:37.818818Z"
    }
   },
   "outputs": [
    {
     "name": "stdout",
     "output_type": "stream",
     "text": [
      " - FK: mean lifetime: 105.3196 +/- 1.6518 ms (N=36179, p_normal: 0.6193) from 80 termination events\n",
      " - LR: mean lifetime: 33.3659 +/- 0.7126 ms (N=15273, p_normal: 0.1038) from 595 termination events\n"
     ]
    }
   ],
   "source": [
    "#compute minlifetime_values\n",
    "minlifetime_values_fk = df_ranges_fk.groupby(by=['trial_num','annihilation_index'])['tdeath'].max().values\n",
    "meanx,Delta_meanx,num_obsx,p_normalx=comp_mean_bootstrap_uncertainty(minlifetime_values_fk)\n",
    "printing=True\n",
    "if printing:\n",
    "    print(f\" - FK: mean lifetime: {meanx:.4f} +/- {Delta_meanx:.4f} ms (N={num_obsx}, p_normal: {p_normalx:.4f}) from {num_termination_events_fk} termination events\")\n",
    "    \n",
    "minlifetime_values_lr = df_ranges_lr.groupby(by=['trial_num','annihilation_index'])['tdeath'].max().values\n",
    "meanx,Delta_meanx,num_obsx,p_normalx=comp_mean_bootstrap_uncertainty(minlifetime_values_lr)\n",
    "printing=True\n",
    "if printing:\n",
    "    print(f\" - LR: mean lifetime: {meanx:.4f} +/- {Delta_meanx:.4f} ms (N={num_obsx}, p_normal: {p_normalx:.4f}) from {num_termination_events_lr} termination events\")\n",
    "    "
   ]
  },
  {
   "cell_type": "code",
   "execution_count": 519,
   "id": "d744b24a",
   "metadata": {
    "ExecuteTime": {
     "end_time": "2022-09-21T18:43:33.635340Z",
     "start_time": "2022-09-21T18:43:31.625162Z"
    }
   },
   "outputs": [
    {
     "name": "stdout",
     "output_type": "stream",
     "text": [
      "Fenton-Karma:\n",
      "- mean squared range: 0.4435 +/- 0.0067 cm^2 (N=36179, p_normal: 0.6234)\n",
      "- root mean squared range: 0.6659 +/- 0.0613 cm (N=36179, p_normal: 0.6234)\n",
      "Luo-Rudy:\n",
      "- mean squared range: 0.7396 +/- 0.0159 cm^2 (N=15273, p_normal: 0.6808)\n",
      "- root mean squared range: 0.8600 +/- 0.0733 cm (N=15273, p_normal: 0.6808)\n"
     ]
    }
   ],
   "source": [
    "df = df_ranges_fk.copy()\n",
    "df['SR']=df['R']**2\n",
    "meansqrange_values = df.groupby(by=['trial_num','annihilation_index'])['SR'].mean().values\n",
    "meanSR,Delta_meanSR,num_obsSR,p_normalSR=comp_mean_bootstrap_uncertainty(meansqrange_values)\n",
    "if printing:\n",
    "    print(f\"Fenton-Karma:\")\n",
    "    print(f\"- mean squared range: {meanSR:.4f} +/- {Delta_meanSR:.4f} cm^2 (N={num_obsSR}, p_normal: {p_normalSR:.4f})\")# from {num_termination_events} termination events\")\n",
    "    print(f\"- root mean squared range: {np.sqrt(meanSR):.4f} +/- {0.5*np.sqrt(Delta_meanSR)/np.sqrt(meanSR):.4f} cm (N={num_obsSR}, p_normal: {p_normalSR:.4f})\")# from {num_termination_events} termination events\")\n",
    "dict_SR_fk = dict(meanSR=meanSR,Delta_meanSR=Delta_meanSR,num_obsSR=num_obsSR,p_normalSR=p_normalSR)\n",
    "    \n",
    "df = df_ranges_lr.copy()\n",
    "df['SR']=df['R']**2\n",
    "meansqrange_values = df.groupby(by=['trial_num','annihilation_index'])['SR'].mean().values\n",
    "meanSR,Delta_meanSR,num_obsSR,p_normalSR=comp_mean_bootstrap_uncertainty(meansqrange_values)\n",
    "if printing:\n",
    "    print(f\"Luo-Rudy:\")\n",
    "    print(f\"- mean squared range: {meanSR:.4f} +/- {Delta_meanSR:.4f} cm^2 (N={num_obsSR}, p_normal: {p_normalSR:.4f})\")# from {num_termination_events} termination events\")\n",
    "    print(f\"- root mean squared range: {np.sqrt(meanSR):.4f} +/- {0.5*np.sqrt(Delta_meanSR)/np.sqrt(meanSR):.4f} cm (N={num_obsSR}, p_normal: {p_normalSR:.4f})\")# from {num_termination_events} termination events\")\n",
    "dict_SR_lr = dict(meanSR=meanSR,Delta_meanSR=Delta_meanSR,num_obsSR=num_obsSR,p_normalSR=p_normalSR)\n",
    "    "
   ]
  },
  {
   "cell_type": "code",
   "execution_count": 517,
   "id": "b50950d4",
   "metadata": {
    "ExecuteTime": {
     "end_time": "2022-09-21T18:40:45.172898Z",
     "start_time": "2022-09-21T18:40:45.120005Z"
    }
   },
   "outputs": [
    {
     "data": {
      "text/plain": [
       "10.0"
      ]
     },
     "execution_count": 517,
     "metadata": {},
     "output_type": "execute_result"
    }
   ],
   "source": []
  },
  {
   "cell_type": "code",
   "execution_count": null,
   "id": "6ba0b9c8",
   "metadata": {},
   "outputs": [],
   "source": []
  },
  {
   "cell_type": "code",
   "execution_count": null,
   "id": "370eb70e",
   "metadata": {},
   "outputs": [],
   "source": []
  },
  {
   "cell_type": "code",
   "execution_count": null,
   "id": "757cdb01",
   "metadata": {},
   "outputs": [],
   "source": []
  },
  {
   "cell_type": "code",
   "execution_count": null,
   "id": "61d1ba01",
   "metadata": {},
   "outputs": [],
   "source": [
    "\n",
    "\n",
    "#TODO: measure \n",
    "# input: df_ranges_fk, df_ranges_lr\n",
    "# output: mean squared distance betwee annihilating particles\n",
    "# - ensemble then time average\n",
    "# - time average then ensemble averaged"
   ]
  },
  {
   "cell_type": "code",
   "execution_count": 115,
   "id": "0120fc41",
   "metadata": {
    "ExecuteTime": {
     "end_time": "2022-09-21T01:05:40.154144Z",
     "start_time": "2022-09-21T01:05:40.095225Z"
    }
   },
   "outputs": [],
   "source": [
    "# bins=np.linspace(10,2500,100)*DT\n",
    "# bins=np.logspace(-2,1,40)\n",
    "bins=np.logspace(-2,1,40)\n",
    "#DONE: compute the histograms\n",
    "barheights_fk,bins_fk = np.histogram(\n",
    "    minlifetime_values_fk*1e-3,\n",
    "    bins=bins,#10,\n",
    "    range=None,\n",
    "    normed=None,\n",
    "    weights=None,\n",
    "    density=True,\n",
    ")\n",
    "x_fk=0.5*(bins_fk[1:]+bins_fk[:-1])\n",
    "\n",
    "barheights_lr,bins_lr = np.histogram(\n",
    "    minlifetime_values_lr*1e-3,\n",
    "    bins=bins[bins<0.45],#10,\n",
    "    range=None,\n",
    "    normed=None,\n",
    "    weights=None,\n",
    "    density=True,\n",
    ")\n",
    "x_lr=0.5*(bins_lr[1:]+bins_lr[:-1])"
   ]
  },
  {
   "cell_type": "code",
   "execution_count": 116,
   "id": "3968626f",
   "metadata": {
    "ExecuteTime": {
     "end_time": "2022-09-21T01:05:42.980202Z",
     "start_time": "2022-09-21T01:05:42.469372Z"
    }
   },
   "outputs": [
    {
     "data": {
      "image/png": "[encoded data removed]",
      "text/plain": [
       "<Figure size 600x400 with 1 Axes>"
      ]
     },
     "metadata": {},
     "output_type": "display_data"
    }
   ],
   "source": [
    "#DONE: compute the minimum lifetimes of particles\n",
    "#TODO: plot the minimum lifetimes of particles\n",
    "lw=2\n",
    "alpha=0.9\n",
    "fontsize=18\n",
    "# use_loglog=True\n",
    "use_loglog=False\n",
    "#check if msd=0 at lagt=0\n",
    "fig,ax=plt.subplots(figsize=(6,4))\n",
    "ax.plot(x_fk,barheights_fk,c='C0',lw=lw+1,alpha=alpha,label='Fenton-Karma')\n",
    "ax.scatter(x_fk,barheights_fk,c='C0',s=8,alpha=alpha/2,zorder=0)\n",
    "boolr=barheights_lr>1e-5\n",
    "ax.plot(x_lr[boolr],barheights_lr[boolr],c='C1',lw=lw,alpha=alpha,label='Luo-Rudy')\n",
    "ax.scatter(x_lr[boolr],barheights_lr[boolr],c='C1',s=8,alpha=alpha/2,zorder=0)\n",
    "\n",
    "# xv1=np.linspace(0.01,0.5,10)\n",
    "# xv2=np.linspace(0.1,5,10)\n",
    "# ax.plot(xv1,dict_fit_lr['M']*xv1+0.,'k-',lw=2,alpha=0.7)\n",
    "# ax.plot(xv2,dict_fit_fk['M']*xv2+0.,'k-',lw=2,alpha=0.7)\n",
    "\n",
    "#format_plot\n",
    "ax.set_yscale('log')\n",
    "ax.set_xlim([0,3.5])\n",
    "ax.set_ylim((11*1.0178650359332904e-05, 80))\n",
    "format_plot(ax=ax,xlabel=r'$\\Gamma$ (s)',ylabel=r'PDF',fontsize=fontsize,use_loglog=use_loglog)\n",
    "ax.tick_params(top=True, right=True,direction='in',which='both')\n",
    "ax.legend(fontsize=fontsize-2,frameon=False)\n",
    "\n",
    "plt.show()"
   ]
  },
  {
   "cell_type": "code",
   "execution_count": 117,
   "id": "99d0f6d8",
   "metadata": {
    "ExecuteTime": {
     "end_time": "2022-09-21T01:05:44.693128Z",
     "start_time": "2022-09-21T01:05:44.634864Z"
    }
   },
   "outputs": [],
   "source": [
    "#extract xy values from full\n",
    "x_values_fk=df_msr_fk['tdeath_avg'].values\n",
    "y_values_fk=df_msr_fk['MSR'].values\n",
    "yerr_values_fk=df_msr_fk['Delta_MSR'].values\n",
    "x_values_lr=df_msr_lr['tdeath_avg'].values\n",
    "y_values_lr=df_msr_lr['MSR'].values\n",
    "yerr_values_lr=df_msr_lr['Delta_MSR'].values"
   ]
  },
  {
   "cell_type": "code",
   "execution_count": 438,
   "id": "1f2912c6",
   "metadata": {
    "ExecuteTime": {
     "end_time": "2022-09-21T03:40:47.826240Z",
     "start_time": "2022-09-21T03:40:35.497309Z"
    }
   },
   "outputs": [
    {
     "name": "stdout",
     "output_type": "stream",
     "text": [
      "fixed D=0.0000 cm^2/s.\n",
      "computing simulated annealing fits of oscillatory particle model to the Fenton-Karma model...\n",
      "mean lifetime: 105.3196 +/- 1.6814 ms (N=36179, p_normal: 0.4745) from 36179 termination events\n",
      "performing simulated annealing with D=0 fixed (num. epochs: 10000)...\n",
      "simulated annealing fit: a0=1.6362, a1=1.2822, period=115.9413, phase=-0.5415 --> rmse=0.0284 cm^2\n",
      "\tattraction coefficient: a0=1.6362, a1=1.2822, z=5.7076, phase=-0.5415 --> alinear=1.7812 cm^2/s\n",
      "a0=1.6361678784211904\n",
      "a1=1.2822207795221772\n",
      "period=115.94132757652915\n",
      "phase=-0.5414831911503737\n",
      "rmse=0.028433802911998075\n",
      "alinear=1.7812325245076142\n",
      "omega=0.054192801122035256\n",
      "z=5.707561428236097\n",
      "Gamma=105.31955001520218\n",
      "Delta_Gamma=1.681395888782862\n",
      "num_obs=36179\n",
      "p_normal=0.474524891672195\n",
      "\n",
      "computing simulated annealing fits of oscillatory particle model to the Luo-Rudy model...\n",
      "mean lifetime: 33.3659 +/- 0.7314 ms (N=15273, p_normal: 0.5136) from 15273 termination events\n",
      "performing simulated annealing with D=0 fixed (num. epochs: 10000)...\n",
      "simulated annealing fit: a0=5.0191, a1=12.1798, period=97.3593, phase=-1.1655 --> rmse=0.0642 cm^2\n",
      "\tattraction coefficient: a0=5.0191, a1=12.1798, z=2.1533, phase=-1.1655 --> alinear=10.1470 cm^2/s\n",
      "a0=5.019074730387047\n",
      "a1=12.179828386551463\n",
      "period=97.35933142725673\n",
      "phase=-1.1654637833257504\n",
      "rmse=0.06416619326476351\n",
      "alinear=10.146975509029975\n",
      "omega=0.06453603588962757\n",
      "z=2.153305494485853\n",
      "Gamma=33.36593989393047\n",
      "Delta_Gamma=0.7314268517462866\n",
      "num_obs=15273\n",
      "p_normal=0.5135685773078689\n"
     ]
    }
   ],
   "source": [
    "##################################################################\n",
    "# compute simulated annealing fits of oscillatory particle model\n",
    "##################################################################\n",
    "D=0.\n",
    "print(f\"fixed {D=:.4f} cm^2/s.\")\n",
    "print(f\"computing simulated annealing fits of oscillatory particle model to the Fenton-Karma model...\")\n",
    "# select msr from the full models for fitting\n",
    "x_values=x_values_fk.copy()\n",
    "y_values=y_values_fk.copy()\n",
    "minlifetime_values=minlifetime_values_fk.copy()\n",
    "\n",
    "#### \n",
    "\n",
    "# max_tdeath=100. #ms #for lr\n",
    "max_tdeath=300. #ms #for fk\n",
    "meanx,Delta_meanx,num_obsx,p_normalx=comp_mean_bootstrap_uncertainty(minlifetime_values)\n",
    "Gamma=float(meanx)\n",
    "testing=False \n",
    "# testing=True # True adds ~60 - 6.27 seconds to runtime\n",
    "if printing:\n",
    "    print(f\"mean lifetime: {meanx:.4f} +/- {Delta_meanx:.4f} ms (N={num_obsx}, p_normal: {p_normalx:.4f}) from {minlifetime_values.shape[0]} termination events\")\n",
    "#fit using simulated annealing\n",
    "a0,a1,period,phase,rmse = fit_msr_oscillatory(x_values,y_values,max_tdeath,\n",
    "                                    D=0.,maxiter=10000,seed=42,printing=printing)\n",
    "alinear = comp_alinear(a0,a1,period,Gamma,phase)\n",
    "omega = 2*np.pi/period\n",
    "z = Gamma*omega\n",
    "print(f\"\\tattraction coefficient: {a0=:.4f}, {a1=:.4f}, {z=:.4f}, {phase=:.4f} --> {alinear=:.4f} cm^2/s\")\n",
    "dict_fit=dict(a0=a0,a1=a1,period=period,phase=phase,rmse=rmse,\n",
    "              alinear=alinear,omega=omega,z=z,Gamma=Gamma, Delta_Gamma=Delta_meanx, num_obs=num_obsx, p_normal=p_normalx)\n",
    "if not testing:\n",
    "    print_dict(dict_fit)\n",
    "\n",
    "if testing:\n",
    "    print(f\"performing fit using simulated annealing with 10X the number of learning rounds...\")\n",
    "    a0,a1,period,phase,rmse = fit_msr_oscillatory(x_values,y_values,max_tdeath,\n",
    "                                        D=0.,maxiter=100000,seed=43,printing=printing)\n",
    "    alinear = comp_alinear(a0,a1,period,Gamma,phase)\n",
    "    omega = 2*np.pi/period\n",
    "    z = Gamma*omega\n",
    "    print(f\"\\tattraction coefficient: {a0=:.4f}, {a1=:.4f}, {z=:.4f}, {phase=:.4f} --> {alinear=:.4f} cm^2/s\")\n",
    "    dict_fit=dict(a0=a0,a1=a1,period=period,phase=phase,rmse=rmse,\n",
    "                  alinear=alinear,omega=omega,z=z,Gamma=Gamma, Delta_Gamma=Delta_meanx, num_obs=num_obsx, p_normal=p_normalx)\n",
    "    print_dict(dict_fit)    \n",
    "    \n",
    "dict_osc_fit_fk=dict(dict_fit)\n",
    "\n",
    "#### \n",
    "print(f\"\\ncomputing simulated annealing fits of oscillatory particle model to the Luo-Rudy model...\")\n",
    "# select msr from the full models for fitting\n",
    "x_values=x_values_lr.copy()\n",
    "y_values=y_values_lr.copy()\n",
    "minlifetime_values=minlifetime_values_lr.copy()\n",
    "max_tdeath=100. #ms #for lr\n",
    "# max_tdeath=300. #ms #for fk\n",
    "meanx,Delta_meanx,num_obsx,p_normalx=comp_mean_bootstrap_uncertainty(minlifetime_values)\n",
    "Gamma=float(meanx)\n",
    "# testing=False \n",
    "# testing=True # True adds ~60 - 6.27 seconds to runtime\n",
    "if printing:\n",
    "    print(f\"mean lifetime: {meanx:.4f} +/- {Delta_meanx:.4f} ms (N={num_obsx}, p_normal: {p_normalx:.4f}) from {minlifetime_values.shape[0]} termination events\")\n",
    "#fit using simulated annealing\n",
    "a0,a1,period,phase,rmse = fit_msr_oscillatory(x_values,y_values,max_tdeath,\n",
    "                                    D=0.,maxiter=10000,seed=42,printing=printing)\n",
    "alinear = comp_alinear(a0,a1,period,Gamma,phase)\n",
    "omega = 2*np.pi/period\n",
    "z = Gamma*omega\n",
    "print(f\"\\tattraction coefficient: {a0=:.4f}, {a1=:.4f}, {z=:.4f}, {phase=:.4f} --> {alinear=:.4f} cm^2/s\")\n",
    "dict_fit=dict(a0=a0,a1=a1,period=period,phase=phase,rmse=rmse,\n",
    "              alinear=alinear,omega=omega,z=z,Gamma=Gamma, Delta_Gamma=Delta_meanx, num_obs=num_obsx, p_normal=p_normalx)\n",
    "if not testing:\n",
    "    print_dict(dict_fit)\n",
    "\n",
    "if testing:\n",
    "    print(f\"performing fit using simulated annealing with 10X the number of learning rounds...\")\n",
    "    a0,a1,period,phase,rmse = fit_msr_oscillatory(x_values,y_values,max_tdeath,\n",
    "                                        D=0.,maxiter=100000,seed=43,printing=printing)\n",
    "    alinear = comp_alinear(a0,a1,period,Gamma,phase)\n",
    "    omega = 2*np.pi/period\n",
    "    z = Gamma*omega\n",
    "    print(f\"\\tattraction coefficient: {a0=:.4f}, {a1=:.4f}, {z=:.4f}, {phase=:.4f} --> {alinear=:.4f} cm^2/s\")\n",
    "    dict_fit=dict(a0=a0,a1=a1,period=period,phase=phase,rmse=rmse,\n",
    "                  alinear=alinear,omega=omega,z=z,Gamma=Gamma, Delta_Gamma=Delta_meanx, num_obs=num_obsx, p_normal=p_normalx)\n",
    "    print_dict(dict_fit)    \n",
    "\n",
    "dict_osc_fit_lr=dict(dict_fit)\n",
    "\n",
    "##nota bene: the contents of fit_msr_oscillatory:\n",
    "# maxiter=100000\n",
    "# print(f\"num. epochs: {maxiter}\")\n",
    "# res = anneal_msr_fit(t_values,msr_values,D,\n",
    "#                    bounds = ((0, 100), (0, 100), (50, 300), (-3.15,3.15)),\n",
    "#                    maxiter=maxiter,seed=42+1, no_local_search=True)#,**kwargs)\n",
    "# rmse= np.sqrt(res.fun/t_values.shape[0])\n",
    "# a0,a1,period,phase=res.x\n",
    "# print(f\"simulated annealing fit: {a0=:.4f}, {a1=:.4f}, {period=:.4f}, {phase=:.4f} --> {rmse=:.4f} cm^2\")\n"
   ]
  },
  {
   "cell_type": "code",
   "execution_count": 509,
   "id": "53943f3a",
   "metadata": {
    "ExecuteTime": {
     "end_time": "2022-09-21T18:22:48.530144Z",
     "start_time": "2022-09-21T18:22:48.394591Z"
    }
   },
   "outputs": [
    {
     "data": {
      "text/plain": [
       "{'a0': 5.019074730387047,\n",
       " 'a1': 12.179828386551463,\n",
       " 'period': 97.35933142725673,\n",
       " 'phase': -1.1654637833257504,\n",
       " 'rmse': 0.06416619326476351,\n",
       " 'alinear': 10.146975509029975,\n",
       " 'omega': 0.06453603588962757,\n",
       " 'z': 2.153305494485853,\n",
       " 'Gamma': 33.36593989393047,\n",
       " 'Delta_Gamma': 0.7314268517462866,\n",
       " 'num_obs': 15273,\n",
       " 'p_normal': 0.5135685773078689}"
      ]
     },
     "execution_count": 509,
     "metadata": {},
     "output_type": "execute_result"
    }
   ],
   "source": []
  },
  {
   "cell_type": "code",
   "execution_count": 439,
   "id": "43c09929",
   "metadata": {
    "ExecuteTime": {
     "end_time": "2022-09-21T03:40:47.883232Z",
     "start_time": "2022-09-21T03:40:47.829128Z"
    }
   },
   "outputs": [],
   "source": [
    "##################################################################################################\n",
    "# compute the direct simulation of the oscillatory particle model under these parameter settings\n",
    "##################################################################################################"
   ]
  },
  {
   "cell_type": "code",
   "execution_count": 178,
   "id": "16f2c1b8",
   "metadata": {
    "ExecuteTime": {
     "end_time": "2022-09-21T02:13:37.958507Z",
     "start_time": "2022-09-21T02:12:54.845734Z"
    }
   },
   "outputs": [
    {
     "name": "stdout",
     "output_type": "stream",
     "text": [
      "integrating oscillatory stochastic differential equation directly (estimated run time ~45 seconds)...\n",
      "m Delta_m b Delta_b Rsquared title tdeath MSR\n"
     ]
    }
   ],
   "source": [
    "print(f\"integrating oscillatory stochastic differential equation directly (estimated run time ~45 seconds)...\")\n",
    "a=dict_osc_fit_fk['a1']\n",
    "D=dict_osc_fit_fk['a0']/2\n",
    "initial_phase_orientation=dict_osc_fit_fk['phase']\n",
    "period_of_oscillation=dict_osc_fit_fk['period']\n",
    "#compute the oscillatory particle model\n",
    "kwargs_fk=dict(a=a, D=D, initial_phase_orientation=initial_phase_orientation, period_of_oscillation=period_of_oscillation, num_pairs=1000, rstart=0.0001, Dt=1e-05, \n",
    "               xmin=0, xmax=0.1, ymin=0, ymax=0.6, alpha=0.7, show_inputted_a=False, show_title=False, show_legend=True, use_xylim=True, show_label_black_dotted=False, printing=False, plotting=True)#, c='C3', label='Simulation')\n",
    "dict_fit_fk=visualize_model_oscillatory_reversed(ax=None,c='C0',label='Simulation of Osc. (FK)', **kwargs_fk)\n",
    "plt.close()\n",
    "print(*dict_fit_fk)"
   ]
  },
  {
   "cell_type": "code",
   "execution_count": 221,
   "id": "944ba8c8",
   "metadata": {
    "ExecuteTime": {
     "end_time": "2022-09-21T02:33:56.211820Z",
     "start_time": "2022-09-21T02:33:13.105652Z"
    }
   },
   "outputs": [
    {
     "name": "stdout",
     "output_type": "stream",
     "text": [
      "integrating oscillatory stochastic differential equation directly (estimated run time 1 minutes and 40 seconds)...\n",
      "m Delta_m b Delta_b Rsquared title tdeath MSR\n"
     ]
    }
   ],
   "source": [
    "print(f\"integrating oscillatory stochastic differential equation directly (estimated run time 1 minutes and 40 seconds)...\")\n",
    "# print(f\"integrating oscillatory stochastic differential equation directly (estimated run time ~40 seconds)...\")\n",
    "a=dict_osc_fit_lr['a1']\n",
    "D=dict_osc_fit_lr['a0']/2\n",
    "initial_phase_orientation=dict_osc_fit_lr['phase']\n",
    "period_of_oscillation=dict_osc_fit_lr['period']\n",
    "#compute the oscillatory particle model\n",
    "kwargs_lr=dict(a=a, D=D, initial_phase_orientation=initial_phase_orientation, period_of_oscillation=period_of_oscillation, \n",
    "               num_pairs=1000,  # no clear difference for num_pairs=2000, ...\n",
    "               rstart=0.0001, \n",
    "               Dt=1e-05, \n",
    "               xmin=0, xmax=0.1, ymin=0, ymax=0.6, alpha=0.7, show_inputted_a=False, show_title=False, show_legend=True, use_xylim=True, show_label_black_dotted=False, printing=False, plotting=True)#, c='C3', label='Simulation')\n",
    "dict_fit_lr=visualize_model_oscillatory_reversed(ax=None,c='C1',label='Simulation of Osc. (LR)', **kwargs_lr)\n",
    "plt.close()\n",
    "print(*dict_fit_lr)"
   ]
  },
  {
   "cell_type": "code",
   "execution_count": 217,
   "id": "866a5a04",
   "metadata": {
    "ExecuteTime": {
     "end_time": "2022-09-21T02:30:18.832523Z",
     "start_time": "2022-09-21T02:30:18.782772Z"
    }
   },
   "outputs": [],
   "source": [
    "# initial_phase_orientation\n",
    "# #what param setting to use for the FK model?\n",
    "# phi_f=initial_phase_orientation\n",
    "# period=period_of_oscillation*1e3 #seconds\n",
    "# # constant=0.15\n",
    "# omega=2*np.pi/period\n",
    "# # constant=-8*D*np.sin(phi_f)/omega#0.15"
   ]
  },
  {
   "cell_type": "code",
   "execution_count": 222,
   "id": "895e7c5d",
   "metadata": {
    "ExecuteTime": {
     "end_time": "2022-09-21T02:33:56.268876Z",
     "start_time": "2022-09-21T02:33:56.214655Z"
    }
   },
   "outputs": [],
   "source": [
    "#plot expected\n",
    "lw=2\n",
    "alpha=0.4\n",
    "fontsize=16\n",
    "# # figsize=(8,4.2)\n",
    "# figsize=(4,4.2)\n",
    "figsize=(6,4)\n",
    "fontsize=15\n",
    "### plot expected\n",
    "fontsize=20\n",
    "tscale=1e-3"
   ]
  },
  {
   "cell_type": "code",
   "execution_count": 226,
   "id": "d38d27f9",
   "metadata": {
    "ExecuteTime": {
     "end_time": "2022-09-21T02:36:04.434406Z",
     "start_time": "2022-09-21T02:36:04.118919Z"
    }
   },
   "outputs": [
    {
     "data": {
      "image/png": "[encoded data removed]",
      "text/plain": [
       "<Figure size 600x400 with 1 Axes>"
      ]
     },
     "metadata": {},
     "output_type": "display_data"
    }
   ],
   "source": [
    "#plot MSR_Osc over the direct simulation results\n",
    "fig,ax=plt.subplots(figsize=(6,4))\n",
    "#plot simulated annealing fits of oscillatory particle model\n",
    "phi_f = dict_osc_fit_lr['phase']\n",
    "omega = dict_osc_fit_lr['omega']*1e3\n",
    "a = dict_osc_fit_lr['a1']\n",
    "D = dict_osc_fit_lr['a0']/2\n",
    "t_values=np.linspace(0,1,1000)\n",
    "# MSR_values_oscillatory=4*(a*t_values+(2*D/omega)*(np.sin(omega*t_values+phi_f))+constant\n",
    "MSR_values_oscillatory=4*(2*D*t_values+(a/omega)*(np.sin(omega*t_values+phi_f)-np.sin(phi_f)))\n",
    "ax.plot(t_values,MSR_values_oscillatory,c='C3',\n",
    "                label=r'Osc. Particle Fit to FK')\n",
    "#                 label=r'$MSR_{Osc.}(a=a_{FK},\\phi_f=-\\frac{\\pi}{2})$')\n",
    "phi_f = dict_osc_fit_fk['phase']\n",
    "omega = dict_osc_fit_fk['omega']*1e3\n",
    "a = dict_osc_fit_fk['a1']\n",
    "D = dict_osc_fit_fk['a0']/2\n",
    "# t_values=np.linspace(0,1,1000)\n",
    "# MSR_values_oscillatory=4*(a*t_values+(2*D/omega)*(np.sin(omega*t_values+phi_f))+constant\n",
    "MSR_values_oscillatory=4*(2*D*t_values+(a/omega)*(np.sin(omega*t_values+phi_f)-np.sin(phi_f)))\n",
    "ax.plot(t_values,MSR_values_oscillatory,c='k',#'C2',\n",
    "                label=r'Osc. Particle Fit to LR')\n",
    "\n",
    "\n",
    "#plot the direct simulation of the oscillatory particle model under these same parameter settings\n",
    "stepsize=2500\n",
    "plt.scatter(dict_fit_fk['tdeath'][::stepsize],dict_fit_fk['MSR'][::stepsize],lw=2,alpha=.7,c='k',#'C2',\n",
    "            marker='x')#,label='Simulation of Osc. (FK)')\n",
    "stepsize=1000\n",
    "plt.scatter(dict_fit_lr['tdeath'][::stepsize],dict_fit_lr['MSR'][::stepsize],lw=2,alpha=.7,c='C3',\n",
    "            marker='x')#,label='Simulation of Osc. (LR)')\n",
    "\n",
    "\n",
    "#plot msd data from full\n",
    "ax.plot(x_values_fk*tscale,y_values_fk,lw=2,alpha=0.8,c='C0')\n",
    "ax.fill_between(x_values_fk*tscale,y_values_fk-yerr_values_fk,y_values_fk+yerr_values_fk,lw=lw,alpha=alpha,color='C0')\n",
    "ax.plot(x_values_lr*tscale,y_values_lr,lw=2,alpha=0.8,c='C1')\n",
    "ax.fill_between(x_values_lr*tscale,y_values_lr-yerr_values_lr,y_values_lr+yerr_values_lr,lw=lw,alpha=alpha,color='C1')\n",
    "\n",
    "\n",
    "#format_plot\n",
    "format_plot(ax=plt.gca(),xlabel=r'$t_f-t$ (seconds)',ylabel=r'MSR (cm$^2$)',fontsize=20)\n",
    "plt.legend(fontsize=16,frameon=False)\n",
    "\n",
    "\n",
    "# plt.title('mean squared ranges agree\\n',fontsize=18)\n",
    "plt.xlim([0,1])\n",
    "plt.ylim([0,4.6])\n",
    "# plt.ylim([0,5.1])\n",
    "# plt.ylim([0,14.1])\n",
    "plt.show()"
   ]
  },
  {
   "cell_type": "code",
   "execution_count": 561,
   "id": "3c2bbb71",
   "metadata": {
    "ExecuteTime": {
     "end_time": "2022-09-21T19:33:13.490230Z",
     "start_time": "2022-09-21T19:33:13.389510Z"
    }
   },
   "outputs": [
    {
     "name": "stdout",
     "output_type": "stream",
     "text": [
      "%simulated annealing fits:\n",
      "\\begin{tabular}{lll}\n",
      "\\toprule\n",
      "{} &             0 &          0 \\\\\n",
      "\\midrule\n",
      "model  &  Fenton-Karma &   Luo-Rudy \\\\\n",
      "amax   &      1.781233 &  10.146976 \\\\\n",
      "a0     &      1.636168 &   5.019075 \\\\\n",
      "a1     &      1.282221 &  12.179828 \\\\\n",
      "period &    115.941328 &  97.359331 \\\\\n",
      "phase  &     -0.541483 &  -1.165464 \\\\\n",
      "z      &      5.707561 &   2.153305 \\\\\n",
      "rmse   &      0.028434 &   0.064166 \\\\\n",
      "\\bottomrule\n",
      "\\end{tabular}\n",
      "\n"
     ]
    }
   ],
   "source": [
    "dffk=pd.DataFrame([dict_osc_fit_fk])\n",
    "dflr=pd.DataFrame([dict_osc_fit_lr])\n",
    "dffk['model']='Fenton-Karma'\n",
    "dflr['model']='Luo-Rudy'\n",
    "df_osc_fits = pd.concat((dffk,dflr))\n",
    "df_osc_fits['amax'] = df_osc_fits['alinear'] \n",
    "# list(df_osc_fits.columns)\n",
    "# df_osc_fits = df_osc_fits[['model', 'amax', 'a0', 'a1', 'period', 'phase', 'rmse', 'omega', 'z']].copy().T\n",
    "df_osc_fits = df_osc_fits[['model', 'amax', 'a0', 'a1', 'period', 'phase', 'z', 'rmse']].copy().T\n",
    "print(\"%simulated annealing fits:\")\n",
    "print(df_osc_fits.to_latex())"
   ]
  },
  {
   "cell_type": "markdown",
   "id": "7c7a122f",
   "metadata": {},
   "source": [
    "# plot the phases for an insetted pie chart indicating the final phases"
   ]
  },
  {
   "cell_type": "code",
   "execution_count": 312,
   "id": "900c4bf0",
   "metadata": {
    "ExecuteTime": {
     "end_time": "2022-09-21T03:00:20.298540Z",
     "start_time": "2022-09-21T03:00:20.258836Z"
    }
   },
   "outputs": [],
   "source": [
    "from matplotlib.lines import Line2D\n",
    "from matplotlib.patches import Arc\n",
    "# from math import degrees\n",
    "import math"
   ]
  },
  {
   "cell_type": "code",
   "execution_count": 380,
   "id": "f97a557e",
   "metadata": {
    "ExecuteTime": {
     "end_time": "2022-09-21T03:11:52.307731Z",
     "start_time": "2022-09-21T03:11:52.254130Z"
    },
    "run_control": {
     "marked": true
    }
   },
   "outputs": [
    {
     "name": "stdout",
     "output_type": "stream",
     "text": [
      "phase_fk=-0.5414831911503737 radians\n",
      "phase_lr=-1.1654637833257504 radians\n"
     ]
    }
   ],
   "source": [
    "phase_fk = dict_osc_fit_fk['phase']\n",
    "phase_lr = dict_osc_fit_lr['phase']\n",
    "print(f\"{phase_fk=} radians\")\n",
    "print(f\"{phase_lr=} radians\")"
   ]
  },
  {
   "cell_type": "code",
   "execution_count": 381,
   "id": "cdc8b243",
   "metadata": {
    "ExecuteTime": {
     "end_time": "2022-09-21T03:11:52.731917Z",
     "start_time": "2022-09-21T03:11:52.674489Z"
    }
   },
   "outputs": [],
   "source": [
    "def get_angle_plot(line1, line2, offset = 1, color = None, origin = [0,0], len_x_axis = 1, len_y_axis = 1):\n",
    "\n",
    "    l1xy = line1.get_xydata()\n",
    "\n",
    "    # Angle between line1 and x-axis\n",
    "    slope1 = (l1xy[1][1] - l1xy[0][1]) / float(l1xy[1][0] - l1xy[0][0])\n",
    "    angle1 = abs(math.degrees(math.atan(slope1))) # Taking only the positive angle\n",
    "\n",
    "    l2xy = line2.get_xydata()\n",
    "\n",
    "    # Angle between line2 and x-axis\n",
    "    slope2 = (l2xy[1][1] - l2xy[0][1]) / float(l2xy[1][0] - l2xy[0][0])\n",
    "    angle2 = abs(math.degrees(math.atan(slope2)))\n",
    "\n",
    "    theta1 = min(angle1, angle2)\n",
    "    theta2 = max(angle1, angle2)\n",
    "\n",
    "    angle = theta2 - theta1\n",
    "\n",
    "    if color is None:\n",
    "        color = line1.get_color() # Uses the color of line 1 if color parameter is not passed.\n",
    "\n",
    "    return Arc(origin, len_x_axis*offset, len_y_axis*offset, 0, theta1, theta2, color=color, label = str(angle)+u\"\\u00b0\")"
   ]
  },
  {
   "cell_type": "code",
   "execution_count": 382,
   "id": "b8645ca5",
   "metadata": {
    "ExecuteTime": {
     "end_time": "2022-09-21T03:11:52.973619Z",
     "start_time": "2022-09-21T03:11:52.916240Z"
    }
   },
   "outputs": [],
   "source": [
    "def get_angle_text(angle_plot):\n",
    "    angle = angle_plot.get_label()[:-1] # Excluding the degree symbol\n",
    "    angle = \"%0.2f\"%float(angle)+u\"\\u00b0\" # Display angle upto 2 decimal places\n",
    "\n",
    "    #get the vertices of the angle arc\n",
    "    vertices = angle_plot.get_verts()\n",
    "\n",
    "    #get the midpoint of the arc extremes\n",
    "    x_width = (vertices[0][0] + vertices[-1][0]) / 2.0\n",
    "    y_width = (vertices[0][1] + vertices[-1][1]) / 2.0\n",
    "    separation_radius = max(x_width/2.0, y_width/2.0)\n",
    "    return [ x_width + separation_radius, y_width + separation_radius, angle]       "
   ]
  },
  {
   "cell_type": "code",
   "execution_count": 383,
   "id": "26c93557",
   "metadata": {
    "ExecuteTime": {
     "end_time": "2022-09-21T03:11:53.306327Z",
     "start_time": "2022-09-21T03:11:53.252894Z"
    }
   },
   "outputs": [],
   "source": [
    "# phase_fk=np.pi/2\n",
    "# phase_lr=np.pi/2"
   ]
  },
  {
   "cell_type": "code",
   "execution_count": 402,
   "id": "b56b8e03",
   "metadata": {
    "ExecuteTime": {
     "end_time": "2022-09-21T03:17:08.492117Z",
     "start_time": "2022-09-21T03:17:08.361249Z"
    }
   },
   "outputs": [
    {
     "data": {
      "image/png": "[encoded data removed]",
      "text/plain": [
       "<Figure size 640x480 with 1 Axes>"
      ]
     },
     "metadata": {},
     "output_type": "display_data"
    }
   ],
   "source": [
    "fig = plt.figure()\n",
    "line_0 = Line2D([0,1], [0,0], linewidth=2, linestyle = \"-\", color=\"k\")\n",
    "\n",
    "x1=np.cos(phase_fk)\n",
    "y1=np.sin(-phase_fk)\n",
    "line_1 = Line2D([0,x1], [0,y1], linewidth=1, linestyle = \"-\", color='k')#\"C0\")\n",
    "x2=np.cos(phase_lr)\n",
    "y2=np.sin(-phase_lr)\n",
    "line_2 = Line2D([0,x2], [0,y2], linewidth=1, linestyle = \"-\", color='r')#\"C1\")\n",
    "\n",
    "ax = fig.add_subplot(1,1,1)\n",
    "\n",
    "ax.add_line(line_2)\n",
    "ax.add_line(line_1)\n",
    "ax.add_line(line_0)\n",
    "\n",
    "angle_plot1 = get_angle_plot(line_1, line_0, .7)\n",
    "angle_text1 = get_angle_text(angle_plot1) \n",
    "angle_plot2 = get_angle_plot(line_2, line_0, 1)\n",
    "angle_text2 = get_angle_text(angle_plot2) \n",
    "\n",
    "ax.add_patch(angle_plot1) # To display the angle arc\n",
    "# ax.text(*angle_text1) # To display the angle value\n",
    "ax.add_patch(angle_plot2) # To display the angle arc\n",
    "# ax.text(*angle_text2) # To display the angle value\n",
    "# ax.set_xlim(-7,7)\n",
    "ax.set_xlim(0,5)\n",
    "ax.set_ylim(0,5)\n",
    "ax.axis('off')\n",
    "plt.show()"
   ]
  },
  {
   "cell_type": "code",
   "execution_count": null,
   "id": "1eff759a",
   "metadata": {},
   "outputs": [],
   "source": []
  },
  {
   "cell_type": "code",
   "execution_count": 308,
   "id": "77b98f37",
   "metadata": {
    "ExecuteTime": {
     "end_time": "2022-09-21T02:59:38.773082Z",
     "start_time": "2022-09-21T02:59:38.718422Z"
    }
   },
   "outputs": [],
   "source": [
    "# anglenp\n",
    "# ax = plt.gca()\n",
    "# line, = ax.plot([0, 0, 2], [np.cos(angle), np.sin(angle), 0], 'ro-', lw=2)\n",
    "# add_corner_arc(ax, line, text=u'%d\\u00b0' % 90)"
   ]
  },
  {
   "cell_type": "markdown",
   "id": "14b77ca4",
   "metadata": {},
   "source": [
    "# TODO: plot the universal fit"
   ]
  },
  {
   "cell_type": "code",
   "execution_count": 456,
   "id": "1e123067",
   "metadata": {
    "ExecuteTime": {
     "end_time": "2022-09-21T03:51:29.348830Z",
     "start_time": "2022-09-21T03:51:29.285249Z"
    }
   },
   "outputs": [],
   "source": [
    "dict_osc_fit = dict(dict_osc_fit_fk)\n",
    "alinear_fk = comp_alinear(a0=dict_osc_fit['a0'],\n",
    "                       a1=dict_osc_fit['a1'],\n",
    "                       period=dict_osc_fit['period'],\n",
    "                       Gamma=dict_osc_fit['Gamma'],\n",
    "                       phase=dict_osc_fit['phase'])\n",
    "alinear_fk_min= comp_alinear(a0=dict_osc_fit['a0'],a1=dict_osc_fit['a1'],period=dict_osc_fit['period'],\n",
    "                       Gamma=dict_osc_fit['Gamma']+dict_osc_fit['Delta_Gamma'],\n",
    "                       phase=dict_osc_fit['phase'])\n",
    "alinear_fk_max= comp_alinear(a0=dict_osc_fit['a0'],a1=dict_osc_fit['a1'],period=dict_osc_fit['period'],\n",
    "                       Gamma=dict_osc_fit['Gamma']-dict_osc_fit['Delta_Gamma'],\n",
    "                       phase=dict_osc_fit['phase'])\n",
    "alinear_fk_min,alinear_fk,alinear_fk_max\n",
    "\n",
    "#with gamma values as x\n",
    "Gamma_values = np.linspace(1,200,1000)\n",
    "x_lst=[]\n",
    "y_lst=[]\n",
    "for Gamma in Gamma_values:\n",
    "    phase=dict_osc_fit['phase']\n",
    "    period=dict_osc_fit['period']\n",
    "    alinear = comp_alinear(a0=dict_osc_fit['a0'],\n",
    "                       a1=dict_osc_fit['a1'],\n",
    "                       period=period,\n",
    "                       Gamma=Gamma,\n",
    "                       phase=phase)\n",
    "    z = 2*np.pi*Gamma/(period)\n",
    "    #record\n",
    "    x_lst.append(z) #z\n",
    "    y_lst.append(alinear) #alinear\n",
    "z_values_fk=np.array(x_lst)\n",
    "alinear_values_fk=np.array(y_lst)"
   ]
  },
  {
   "cell_type": "code",
   "execution_count": 457,
   "id": "feb6149c",
   "metadata": {
    "ExecuteTime": {
     "end_time": "2022-09-21T03:51:29.671132Z",
     "start_time": "2022-09-21T03:51:29.617751Z"
    }
   },
   "outputs": [],
   "source": [
    "period=dict_osc_fit['period']\n",
    "Gamma=dict_osc_fit['Gamma']\n",
    "Delta_Gamma=dict_osc_fit['Delta_Gamma']\n",
    "z_fk = 2*np.pi*Gamma/period\n",
    "z_fk_min = 2*np.pi*(Gamma-Delta_Gamma)/period\n",
    "z_fk_max = 2*np.pi*(Gamma+Delta_Gamma)/period"
   ]
  },
  {
   "cell_type": "code",
   "execution_count": 474,
   "id": "9b1a8b2f",
   "metadata": {
    "ExecuteTime": {
     "end_time": "2022-09-21T04:29:29.562364Z",
     "start_time": "2022-09-21T04:29:29.499479Z"
    }
   },
   "outputs": [],
   "source": [
    "dict_osc_fit = dict(dict_osc_fit_lr)\n",
    "alinear_lr = comp_alinear(a0=dict_osc_fit['a0'],\n",
    "                       a1=dict_osc_fit['a1'],\n",
    "                       period=dict_osc_fit['period'],\n",
    "                       Gamma=dict_osc_fit['Gamma'],\n",
    "                       phase=dict_osc_fit['phase'])\n",
    "alinear_lr_min= comp_alinear(a0=dict_osc_fit['a0'],a1=dict_osc_fit['a1'],period=dict_osc_fit['period'],\n",
    "                       Gamma=dict_osc_fit['Gamma']+dict_osc_fit['Delta_Gamma'],\n",
    "                       phase=dict_osc_fit['phase'])\n",
    "alinear_lr_max= comp_alinear(a0=dict_osc_fit['a0'],a1=dict_osc_fit['a1'],period=dict_osc_fit['period'],\n",
    "                       Gamma=dict_osc_fit['Gamma']-dict_osc_fit['Delta_Gamma'],\n",
    "                       phase=dict_osc_fit['phase'])\n",
    "\n",
    "#with gamma values as x\n",
    "Gamma_values = np.linspace(1,300,1000)\n",
    "x_lst=[]\n",
    "y_lst=[]\n",
    "for Gamma in Gamma_values:\n",
    "    phase=dict_osc_fit['phase']\n",
    "    period=dict_osc_fit['period']\n",
    "    alinear = comp_alinear(a0=dict_osc_fit['a0'],\n",
    "                       a1=dict_osc_fit['a1'],\n",
    "                       period=period,\n",
    "                       Gamma=Gamma,\n",
    "                       phase=phase)\n",
    "    z = 2*np.pi*Gamma/(period)\n",
    "    #record\n",
    "    x_lst.append(z) #z\n",
    "    y_lst.append(alinear) #alinear\n",
    "z_values_lr=np.array(x_lst)\n",
    "alinear_values_lr=np.array(y_lst)\n",
    "\n",
    "period=dict_osc_fit['period']\n",
    "Gamma=dict_osc_fit['Gamma']\n",
    "Delta_Gamma=dict_osc_fit['Delta_Gamma']\n",
    "z_lr = 2*np.pi*Gamma/period\n",
    "z_lr_min = 2*np.pi*(Gamma-Delta_Gamma)/period\n",
    "z_lr_max = 2*np.pi*(Gamma+Delta_Gamma)/period"
   ]
  },
  {
   "cell_type": "code",
   "execution_count": 483,
   "id": "fc4c55fa",
   "metadata": {
    "ExecuteTime": {
     "end_time": "2022-09-21T17:36:11.247791Z",
     "start_time": "2022-09-21T17:36:10.791262Z"
    }
   },
   "outputs": [],
   "source": [
    "y_values_fk = (alinear_values_fk - dict_osc_fit_fk['a0'])/dict_osc_fit_fk['a1']\n",
    "y_values_lr = (alinear_values_lr - dict_osc_fit_lr['a0'])/dict_osc_fit_lr['a1']\n",
    "\n",
    "y_fk = (alinear_fk - dict_osc_fit_fk['a0'])/dict_osc_fit_fk['a1']\n",
    "y_fk_min = (alinear_fk_min - dict_osc_fit_fk['a0'])/dict_osc_fit_fk['a1']\n",
    "y_fk_max = (alinear_fk_max - dict_osc_fit_fk['a0'])/dict_osc_fit_fk['a1']\n",
    "\n",
    "y_lr = (alinear_lr - dict_osc_fit_lr['a0'])/dict_osc_fit_lr['a1']\n",
    "y_lr_min = (alinear_lr_min - dict_osc_fit_lr['a0'])/dict_osc_fit_lr['a1']\n",
    "y_lr_max = (alinear_lr_max - dict_osc_fit_lr['a0'])/dict_osc_fit_lr['a1']"
   ]
  },
  {
   "cell_type": "code",
   "execution_count": 508,
   "id": "7fde1469",
   "metadata": {
    "ExecuteTime": {
     "end_time": "2022-09-21T17:46:27.391892Z",
     "start_time": "2022-09-21T17:46:27.167732Z"
    }
   },
   "outputs": [
    {
     "data": {
      "image/png": "[encoded data removed]",
      "text/plain": [
       "<Figure size 600x400 with 1 Axes>"
      ]
     },
     "metadata": {},
     "output_type": "display_data"
    }
   ],
   "source": [
    "fig,ax=plt.subplots(figsize=(6,4))\n",
    "# xlabel='z'\n",
    "xlabel=r'$\\omega\\Gamma$'\n",
    "ylabel=r'$( a-a_0 )\\;/\\; a_1$'\n",
    "# ylabel=r'$\\frac{a-a_0}{a_1}$'\n",
    "\n",
    "ax.plot(z_values_fk,y_values_fk,c='k',alpha=0.8,label=r'Osc. Particle Fit to FK')#)#,c='C0')\n",
    "ax.plot(z_values_lr,y_values_lr,c='r',alpha=0.8,label=r'Osc. Particle Fit to LR')#)#,c='C1')\n",
    "\n",
    "\n",
    "#plot measurement + errorbar uncertainty for the FK model (blue)\n",
    "ax.errorbar(x=z_fk, \n",
    "            y=y_fk, \n",
    "            xerr=0.5*(z_fk_max-z_fk_min), \n",
    "#             yerr=0.5*(y_fk_max-y_fk_min), \n",
    "            fmt='o',markersize=2,capsize=5,lw=2,\n",
    "            color='C0')\n",
    "#             label='Fenton-Karma')\n",
    "#             label=r'Osc. Particle Fit to FK')\n",
    "\n",
    "#plot measurement + errorbar uncertainty for the LR model (orange)\n",
    "ax.errorbar(x=z_lr, \n",
    "            y=y_lr, \n",
    "            xerr=0.5*(z_lr_max-z_lr_min), \n",
    "#             yerr=0.5*(y_lr_max-y_lr_min), \n",
    "            fmt='o',markersize=2,capsize=5,lw=2,\n",
    "            color='C1')\n",
    "# #             label='Luo-Rudy')\n",
    "#             label=r'Osc. Particle Fit to LR')\n",
    "\n",
    "#plot dotted line at y-axis=0 (black)\n",
    "xv=np.linspace(-0.5,20,10)\n",
    "ax.plot(xv,0.*xv,'k--',alpha=0.9,lw=2)\n",
    "#plot dotted line at x-axis=0 (black)\n",
    "xv=np.linspace(-0.5,1,10)\n",
    "ax.plot(0.*xv,xv,'k--',alpha=0.9,lw=2)\n",
    "\n",
    "\n",
    "#format_plot\n",
    "format_plot(ax=plt.gca(),xlabel=r'$t_f-t$ (seconds)',ylabel=r'MSR (cm$^2$)',fontsize=20)\n",
    "plt.legend(fontsize=16,frameon=False)\n",
    "\n",
    "\n",
    "format_plot(ax=ax,xlabel=xlabel, ylabel=ylabel,fontsize=fontsize)\n",
    "ax.set_ylim(-0.5,1.1)\n",
    "plt.show()\n",
    "# plt.yscale('log')"
   ]
  },
  {
   "cell_type": "markdown",
   "id": "075ce48c",
   "metadata": {},
   "source": [
    "# TODO: print table of particle properties"
   ]
  },
  {
   "cell_type": "code",
   "execution_count": 532,
   "id": "d3bd65a0",
   "metadata": {
    "ExecuteTime": {
     "end_time": "2022-09-21T18:53:24.342504Z",
     "start_time": "2022-09-21T18:53:24.287938Z"
    }
   },
   "outputs": [
    {
     "data": {
      "text/plain": [
       "0.0"
      ]
     },
     "execution_count": 532,
     "metadata": {},
     "output_type": "execute_result"
    }
   ],
   "source": [
    "#DONE: add symbols for full models\n",
    "#DONE: update fig. 4\n",
    "#TODO: update table in main text in the form\n",
    "# symbol | description | Fenton-Karma measurement | Luo-Rudy Measurement\n",
    "# ----------------------------------------------------------------------\n",
    "# Gamma | Mean minimum lifetime | ?? | ?? etc..."
   ]
  },
  {
   "cell_type": "code",
   "execution_count": 548,
   "id": "17d848a4",
   "metadata": {
    "ExecuteTime": {
     "end_time": "2022-09-21T19:14:17.767589Z",
     "start_time": "2022-09-21T19:14:17.588714Z"
    }
   },
   "outputs": [],
   "source": [
    "kwargs_table_1_level=dict(float_format=\"{:0.4f}\".format,\n",
    "#                           multicolumn_format='c',\n",
    "                           column_format='c',\n",
    "#                            caption=('Table. ?? shows full\\_caption', 'Table. ?? short\\_caption.'),\n",
    "#                            longtable=True #Requires adding a usepackage{longtable} to your LaTeX preamble.\n",
    "                          )\n",
    "kwargs_table_2_levels=dict(float_format=\"{:0.4f}\".format,\n",
    "                          multicolumn_format='c',\n",
    "#                            column_format='c',\n",
    "#                            caption=('Table. ?? shows full\\_caption', 'Table. ?? short\\_caption.'),\n",
    "#                            longtable=True #Requires adding a usepackage{longtable} to your LaTeX preamble.\n",
    "                          )"
   ]
  },
  {
   "cell_type": "code",
   "execution_count": 568,
   "id": "c89bebf2",
   "metadata": {
    "ExecuteTime": {
     "end_time": "2022-09-21T19:39:41.495648Z",
     "start_time": "2022-09-21T19:39:41.364539Z"
    }
   },
   "outputs": [
    {
     "name": "stdout",
     "output_type": "stream",
     "text": [
      "%simulated annealing fits:\n",
      "% \\begin{ruledtabular}\n",
      "% \\begin{tabular}{cccccc}\n",
      "\\begin{table}\n",
      "\\centering\n",
      "\\caption{Table of oscillatory particle properties for spiral tip from the full models.}\\label{tab:properties}}\n",
      "\\begin{tabular}{c}\n",
      "\\toprule\n",
      "model &  Fenton-Karma &  Luo-Rudy \\\\\n",
      "\\midrule\n",
      "amax   &        1.7812 &   10.1470 \\\\\n",
      "a0     &        1.6362 &    5.0191 \\\\\n",
      "a1     &        1.2822 &   12.1798 \\\\\n",
      "period &      115.9413 &   97.3593 \\\\\n",
      "phase  &       -0.5415 &   -1.1655 \\\\\n",
      "z      &        5.7076 &    2.1533 \\\\\n",
      "rmse   &        0.0284 &    0.0642 \\\\\n",
      "\\bottomrule\n",
      "\\end{tabular}\n",
      "\\end{table}\n",
      "\n"
     ]
    }
   ],
   "source": [
    "dffk=pd.DataFrame([dict_osc_fit_fk])\n",
    "dflr=pd.DataFrame([dict_osc_fit_lr])\n",
    "dffk['model']='Fenton-Karma'\n",
    "dflr['model']='Luo-Rudy'\n",
    "df_osc_fits = pd.concat((dffk,dflr))\n",
    "df_osc_fits['amax'] = df_osc_fits['alinear'] \n",
    "# list(df_osc_fits.columns)\n",
    "# df_osc_fits = df_osc_fits[['model', 'amax', 'a0', 'a1', 'period', 'phase', 'rmse', 'omega', 'z']].copy().T\n",
    "# df_osc_fits = df_osc_fits[['model', 'amax', 'a0', 'a1', 'period', 'phase', 'z', 'rmse']].copy().T\n",
    "df_osc_fits = df_osc_fits.set_index('model',drop=True)[['amax', 'a0', 'a1', 'period', 'phase', 'z', 'rmse']].copy().T\n",
    "print(\"%simulated annealing fits:\")\n",
    "print(\"% \\\\begin{ruledtabular}\")\n",
    "print(\"% \\\\begin{tabular}{cccccc}\")\n",
    "print(df_osc_fits.to_latex(index=True, \n",
    "                                caption='Table of oscillatory particle properties for spiral tip from the full models.}\\label{tab:properties}',\n",
    "                                     **kwargs_table_1_level))"
   ]
  },
  {
   "cell_type": "code",
   "execution_count": 552,
   "id": "6f77bbd7",
   "metadata": {
    "ExecuteTime": {
     "end_time": "2022-09-21T19:16:17.329230Z",
     "start_time": "2022-09-21T19:16:17.269904Z"
    }
   },
   "outputs": [
    {
     "name": "stdout",
     "output_type": "stream",
     "text": [
      "Table of simulated annealing fits of oscillatory particle model to full models.\n",
      "          model       amax    L      rmse\n",
      "0  Fenton-Karma   1.781233  5.0  0.028434\n",
      "1      Luo-Rudy  10.146976  5.0  0.064166\n"
     ]
    }
   ],
   "source": [
    "#format table of fitted parameter values\n",
    "L=5.0\n",
    "D=0\n",
    "dict_osc_fit_fk['num_termination_events']=num_termination_events_fk\n",
    "dict_osc_fit_lr['num_termination_events']=num_termination_events_lr\n",
    "dict_properties_fk=dict(dict_osc_fit_fk)\n",
    "dict_properties_lr=dict(dict_osc_fit_lr)\n",
    "dict_properties_fk['L']=L\n",
    "dict_properties_lr['L']=L\n",
    "dict_properties_fk.update(dict_SR_fk)\n",
    "dict_properties_lr.update(dict_SR_lr)\n",
    "dict_properties_fk['model']='Fenton-Karma'\n",
    "dict_properties_lr['model']='Luo-Rudy'\n",
    "df_properties = pd.DataFrame([dict_properties_fk,dict_properties_lr])\n",
    "df_properties['amax']=df_properties['alinear'] + 2*D\n",
    "\n",
    "print(f\"Table of simulated annealing fits of oscillatory particle model to full models.\")\n",
    "print(df_properties[['model','amax','L','rmse']])"
   ]
  },
  {
   "cell_type": "code",
   "execution_count": 536,
   "id": "5183163c",
   "metadata": {
    "ExecuteTime": {
     "end_time": "2022-09-21T18:55:25.363930Z",
     "start_time": "2022-09-21T18:55:25.302353Z"
    }
   },
   "outputs": [
    {
     "name": "stdout",
     "output_type": "stream",
     "text": [
      "Table of maximum likelihood fits of linear particle model to full models.\n",
      "          model    amax     L      rmse\n",
      "0  Fenton-Karma   1.781   5.0  0.140241\n",
      "1  Fenton-Karma   1.780  10.0  0.190422\n",
      "2      Luo-Rudy  10.149   5.0  0.194177\n",
      "3      Luo-Rudy  10.147  10.0  0.119033\n"
     ]
    }
   ],
   "source": [
    "annihil_fits_dir='/Users/timothytyree/Documents/GitHub/bgmc/python/data/annihil_fits.25.29.csv'\n",
    "df_annihil_fits = pd.read_csv(annihil_fits_dir)\n",
    "df_annihil_fits\n",
    "print(f\"Table of maximum likelihood fits of linear particle model to full models.\")\n",
    "print(df_annihil_fits[['model','amax','L','rmse']])"
   ]
  },
  {
   "cell_type": "code",
   "execution_count": 558,
   "id": "3e6047bb",
   "metadata": {
    "ExecuteTime": {
     "end_time": "2022-09-21T19:19:26.576546Z",
     "start_time": "2022-09-21T19:19:26.519994Z"
    }
   },
   "outputs": [
    {
     "name": "stdout",
     "output_type": "stream",
     "text": [
      "\n",
      "% df_table_properties\n",
      "% \\caption{Table of spiral tip properties for the full models.}\n",
      "model         Fenton-Karma   Luo-Rudy\n",
      "amax              1.781233  10.146976\n",
      "L                 5.000000   5.000000\n",
      "rmse              0.028434   0.064166\n",
      "meanSR            0.443453   0.739637\n",
      "Delta_meanSR      0.006668   0.015910\n"
     ]
    }
   ],
   "source": [
    "print(\"\\n% df_table_properties\")\n",
    "print(f\"% \\caption{{Table of spiral tip properties for the full models.}}\")\n",
    "df_table_properties=df_properties.sort_values(by='model')\\\n",
    "                .set_index('model')[['amax','L','rmse','meanSR','Delta_meanSR']].T\n",
    "print(df_table_properties)"
   ]
  },
  {
   "cell_type": "code",
   "execution_count": 557,
   "id": "8066b9d5",
   "metadata": {
    "ExecuteTime": {
     "end_time": "2022-09-21T19:19:14.173601Z",
     "start_time": "2022-09-21T19:19:14.085913Z"
    }
   },
   "outputs": [
    {
     "name": "stdout",
     "output_type": "stream",
     "text": [
      "\n",
      "% df_table_properties_brief\n",
      "% \\caption{Brief table of spiral tip properties for the full models.}\n",
      "% \begin{ruledtabular}\n",
      "% \begin{tabular}{cccccc}\n",
      "\\begin{table}\n",
      "\\centering\n",
      "\\caption{Brief table of spiral tip properties for the full models.}\\label{tab:df_table_properties_complete}}\n",
      "\\begin{tabular}{c}\n",
      "\\toprule\n",
      "       model &    amax &      L &   rmse &  meanSR &  Delta\\_meanSR \\\\\n",
      "\\midrule\n",
      "Fenton-Karma &  1.7812 & 5.0000 & 0.0284 &  0.4435 &        0.0067 \\\\\n",
      "    Luo-Rudy & 10.1470 & 5.0000 & 0.0642 &  0.7396 &        0.0159 \\\\\n",
      "\\bottomrule\n",
      "\\end{tabular}\n",
      "\\end{table}\n",
      "\n"
     ]
    }
   ],
   "source": [
    "print(\"\\n% df_table_properties_brief\")\n",
    "print(f\"% \\caption{{Brief table of spiral tip properties for the full models.}}\")\n",
    "df_table_properties_brief=df_properties.sort_values(by='model')\\\n",
    "                .set_index('model')[['amax','L','rmse']]\n",
    "# print(df_table_properties_brief)\n",
    "print(\"% \\\\begin{ruledtabular}\")\n",
    "print(\"% \\\\begin{tabular}{cccccc}\")\n",
    "print(df_table_properties_brief.reset_index().to_latex(index=False, \n",
    "                                                   caption='Brief table of spiral tip properties for the full models.}\\label{tab:df_table_properties_complete}',\n",
    "                                                   **kwargs_table_1_level))#kwargs_table_2_levels))\n"
   ]
  },
  {
   "cell_type": "code",
   "execution_count": 578,
   "id": "33261f61",
   "metadata": {
    "ExecuteTime": {
     "end_time": "2022-09-21T22:05:05.675672Z",
     "start_time": "2022-09-21T22:05:05.585196Z"
    }
   },
   "outputs": [
    {
     "name": "stdout",
     "output_type": "stream",
     "text": [
      "\n",
      "% df_params_linear\n",
      "% \begin{ruledtabular}\n",
      "% \begin{tabular}{cccccc}\n",
      "\\begin{table}\n",
      "\\centering\n",
      "\\caption{Table of properties of the linear particle model fit to mean pair-annihilation rates of the full models.}\\label{tab:df_table_properties_complete}\n",
      "\\begin{tabular}{lrrrr}\n",
      "\\toprule\n",
      "index & \\multicolumn{2}{c}{Luo-Rudy} & \\multicolumn{2}{c}{Fenton-Karma} \\\\\n",
      "      &     10.0 &      5.0 &         10.0 &      5.0 \\\\\n",
      "\\midrule\n",
      "    r &   0.1400 &   0.1000 &       0.0950 &   0.0200 \\\\\n",
      "kappa & 350.0000 & 370.0000 &     250.0000 & 880.0000 \\\\\n",
      "delta &  21.5513 &  11.6239 &       7.0882 &   1.1058 \\\\\n",
      "    D &   0.0500 &   0.0900 &       0.0500 &   0.1140 \\\\\n",
      "\\bottomrule\n",
      "\\end{tabular}\n",
      "\\end{table}\n",
      "\n"
     ]
    }
   ],
   "source": [
    "# #format as pandas table\n",
    "mindex_lst=['model', 'L']\n",
    "df_fit = df_annihil_fits.sort_values(by=mindex_lst,ascending=False)\\\n",
    "               .set_index(mindex_lst)\n",
    "df_fit['delta'] = np.pi*df_fit['r']**2*df_fit['kappa']\n",
    "df_params_linear=df_fit[['r','kappa', 'delta','D']].T\n",
    "# print(df_params_linear)\n",
    "print(\"\\n% df_params_linear\")\n",
    "print(\"% \\begin{ruledtabular}\")\n",
    "print(\"% \\begin{tabular}{cccccc}\")\n",
    "print(df_params_linear.reset_index().to_latex(index=False, \n",
    "                                                   caption='Table of properties of the linear particle model fit to mean pair-annihilation rates of the full models.}\\label{tab:df_table_properties_complete',\n",
    "                                                   **kwargs_table_2_levels))#kwargs_table_1_level))#"
   ]
  },
  {
   "cell_type": "code",
   "execution_count": 579,
   "id": "32997fab",
   "metadata": {
    "ExecuteTime": {
     "end_time": "2022-09-21T22:33:36.779342Z",
     "start_time": "2022-09-21T22:33:36.628750Z"
    }
   },
   "outputs": [
    {
     "data": {
      "text/plain": [
       "(0.6659226681830256, 0.860021511358873)"
      ]
     },
     "execution_count": 579,
     "metadata": {},
     "output_type": "execute_result"
    }
   ],
   "source": [
    "np.sqrt(0.443453)     , np.sqrt(0.739637)"
   ]
  },
  {
   "cell_type": "code",
   "execution_count": 547,
   "id": "a5a6f8be",
   "metadata": {
    "ExecuteTime": {
     "end_time": "2022-09-21T19:12:14.818437Z",
     "start_time": "2022-09-21T19:12:14.769688Z"
    }
   },
   "outputs": [
    {
     "name": "stdout",
     "output_type": "stream",
     "text": [
      "\n",
      "% df_table_properties_complete\n",
      "% \\caption{Supplementary table of spiral tip properties for the full models.}\n",
      "model                   Fenton-Karma      Luo-Rudy\n",
      "a0                          1.636168      5.019075\n",
      "a1                          1.282221     12.179828\n",
      "period                    115.941328     97.359331\n",
      "phase                      -0.541483     -1.165464\n",
      "rmse                        0.028434      0.064166\n",
      "alinear                     1.781233     10.146976\n",
      "omega                       0.054193      0.064536\n",
      "z                           5.707561      2.153305\n",
      "Gamma                     105.319550     33.365940\n",
      "Delta_Gamma                 1.681396      0.731427\n",
      "num_obs                 36179.000000  15273.000000\n",
      "p_normal                    0.474525      0.513569\n",
      "num_termination_events     80.000000    595.000000\n",
      "L                           5.000000      5.000000\n",
      "meanSR                      0.443453      0.739637\n",
      "Delta_meanSR                0.006668      0.015910\n",
      "num_obsSR               36179.000000  15273.000000\n",
      "p_normalSR                  0.623354      0.680823\n",
      "amax                        1.781233     10.146976\n"
     ]
    }
   ],
   "source": [
    "print(\"\\n% df_table_properties_complete\")\n",
    "print(f\"% \\caption{{Supplementary table of spiral tip properties for the full models.}}\")\n",
    "df_table_properties_complete=df_properties.sort_values(by='model')\\\n",
    "                .set_index('model').T\n",
    "print(df_table_properties_complete)"
   ]
  },
  {
   "cell_type": "code",
   "execution_count": 569,
   "id": "ee9591e2",
   "metadata": {
    "ExecuteTime": {
     "end_time": "2022-09-21T19:49:41.642235Z",
     "start_time": "2022-09-21T19:49:41.553630Z"
    }
   },
   "outputs": [
    {
     "name": "stdout",
     "output_type": "stream",
     "text": [
      "\n",
      "% df_table_properties_complete\n",
      "% \begin{ruledtabular}\n",
      "% \begin{tabular}{cccccc}\n",
      "\\begin{table}\n",
      "\\centering\n",
      "\\caption{Supplementary table of spiral tip properties for the full models.}\\label{tab:df_table_properties_complete}\n",
      "\\begin{tabular}{c}\n",
      "\\toprule\n",
      "                 index &  Fenton-Karma &   Luo-Rudy \\\\\n",
      "\\midrule\n",
      "                    a0 &        1.6362 &     5.0191 \\\\\n",
      "                    a1 &        1.2822 &    12.1798 \\\\\n",
      "                period &      115.9413 &    97.3593 \\\\\n",
      "                 phase &       -0.5415 &    -1.1655 \\\\\n",
      "                  rmse &        0.0284 &     0.0642 \\\\\n",
      "               alinear &        1.7812 &    10.1470 \\\\\n",
      "                 omega &        0.0542 &     0.0645 \\\\\n",
      "                     z &        5.7076 &     2.1533 \\\\\n",
      "                 Gamma &      105.3196 &    33.3659 \\\\\n",
      "           Delta\\_Gamma &        1.6814 &     0.7314 \\\\\n",
      "               num\\_obs &    36179.0000 & 15273.0000 \\\\\n",
      "              p\\_normal &        0.4745 &     0.5136 \\\\\n",
      "num\\_termination\\_events &       80.0000 &   595.0000 \\\\\n",
      "                     L &        5.0000 &     5.0000 \\\\\n",
      "                meanSR &        0.4435 &     0.7396 \\\\\n",
      "          Delta\\_meanSR &        0.0067 &     0.0159 \\\\\n",
      "             num\\_obsSR &    36179.0000 & 15273.0000 \\\\\n",
      "            p\\_normalSR &        0.6234 &     0.6808 \\\\\n",
      "                  amax &        1.7812 &    10.1470 \\\\\n",
      "\\bottomrule\n",
      "\\end{tabular}\n",
      "\\end{table}\n",
      "\n"
     ]
    }
   ],
   "source": [
    "print(\"\\n% df_table_properties_complete\")\n",
    "print(\"% \\begin{ruledtabular}\")\n",
    "print(\"% \\begin{tabular}{cccccc}\")\n",
    "print(df_table_properties_complete.reset_index().to_latex(index=False, \n",
    "                                                   caption='Supplementary table of spiral tip properties for the full models.}\\label{tab:df_table_properties_complete',\n",
    "                                                   **kwargs_table_1_level))#kwargs_table_2_levels))\n"
   ]
  },
  {
   "cell_type": "markdown",
   "id": "08790228",
   "metadata": {},
   "source": [
    "### fits of D from MSD\n",
    "\n",
    "(Fenton-Karma) msd powerlaw fit of msd from lagt=0.1 to 3:\n",
    "- m = 1.001994 +/- 0.015057\n",
    "- M = 0.005766 +/- 0.000384 Hz/cm^2; B=0.005826 +/- 0.000076\n",
    "- RMSE=0.0008 Hz/cm^2; R^2=0.9921; N=138\n",
    "- D = 0.0014 +/- 0.0001 cm^2/s\n",
    "\n",
    "(Luo-Rudy) msd powerlaw fit of msd from lagt=0.06 to 0.2:\n",
    "- m = 0.981067 +/- 0.044880\n",
    "- M = 0.148857 +/- 0.005591 Hz/cm^2; B=0.143485 +/- 0.007501\n",
    "- RMSE=0.0011 Hz/cm^2; R^2=0.9750; N=49\n",
    "- D = 0.0372 +/- 0.0014 cm^2/s\n",
    "\n",
    "src: http://localhost:8889/notebooks/demonstration%20of%20brownian%20behaviour.ipynb\n",
    "\n"
   ]
  },
  {
   "cell_type": "markdown",
   "id": "1729d2e4",
   "metadata": {
    "heading_collapsed": true
   },
   "source": [
    "### fits of alinear from dR/dt \n",
    "\n",
    "(Fenton-Karma) linear fit of dRdt from 1/R=0.0 to 10:\n",
    "- m=-4.550823917522961\n",
    "- Delta_m=0.8299672832720622\n",
    "- b=-0.7883724177008169\n",
    "- Delta_b=1.5044154352605568\n",
    "- Rsquared=0.7674370424368964\n",
    "- num_obs=37\n",
    "- rmse=3.1625294434003433\n",
    "- Rsq=0.7674370424368964\n",
    "- ahat = 2.2754 +/- 0.4150 cm^2/s\n",
    "\n",
    "(Luo-Rudy) linear fit of dRdt from 1/R=0.0 to 10:\n",
    "- m=-8.087927742495596\n",
    "- Delta_m=0.4593631505563615\n",
    "- b=-2.310333356275457\n",
    "- Delta_b=0.7439196689530453\n",
    "- Rsquared=0.9635892116333213\n",
    "- num_obs=47\n",
    "- rmse=1.8623782485431748\n",
    "- Rsq=0.9635892116333213\n",
    "- ahat = 4.0440 +/- 0.2297 cm^2/s\n",
    "\n",
    "src: http://localhost:8889/notebooks/demonstration%20of%20brownian%20behaviour.ipynb"
   ]
  },
  {
   "cell_type": "markdown",
   "id": "f6871a2b",
   "metadata": {
    "heading_collapsed": true
   },
   "source": [
    "### estimates of rotational period from instantaneous period timeseries\n",
    "\n",
    "- mean median rotational periods: 117.0490 ms (FK)\n",
    "- period from simulated annealing: 115.94 ms (FK)\n",
    "\n",
    "- mean median rotational periods: 144.3268 ms (LR)\n",
    "- period from simulated annealing: 97.36 ms (LR)\n",
    "\n",
    "src: http://localhost:8889/notebooks/computing%20rotational%20period%20of%20mean%20fortranic%20spiral%20trajectories.ipynb"
   ]
  },
  {
   "cell_type": "markdown",
   "id": "5b427a23",
   "metadata": {},
   "source": [
    "### estimates of rotational period from total self-crossings\n",
    "\n",
    "Fenton-Karma:\n",
    "- number_termination_events_considered: 20\n",
    "- total number of loops observed longer than 10ms: 11293\n",
    "- (number of particles considered: 22694)\n",
    "- (mean number of loops per particle lifetime: 0.4976)\n",
    "- number of particles considered with at least 1 loop: 12368\n",
    "- mean number of loops per particle lifetime (at least 1 loop): 0.9131\n",
    "- expected num. revolutions per lifetime: lifetime_fk/period_fk=0.9082\n",
    "\n",
    "Luo-Rudy:\n",
    "- number_termination_events_considered: 639\n",
    "- total number of loops observed longer than 10ms: 10108\n",
    "- (number of particles considered with at least 1 loop: 3644)\n",
    "- (mean number of loops per particle lifetime (at least 1 loop): 2.7739)\n",
    "- number of particles considered: 29402\n",
    "- mean number of loops per particle lifetime: 0.3438\n",
    "- expected num. revolutions per lifetime: lifetime_lr/period_lr=0.3427\n",
    "\n",
    "src: http://localhost:8889/notebooks/computing%20rotational%20period%20of%20mean%20fortranic%20spiral%20trajectories.ipynb"
   ]
  },
  {
   "cell_type": "code",
   "execution_count": null,
   "id": "ca440de0",
   "metadata": {},
   "outputs": [],
   "source": []
  },
  {
   "cell_type": "code",
   "execution_count": null,
   "id": "c5821d42",
   "metadata": {},
   "outputs": [],
   "source": []
  },
  {
   "cell_type": "markdown",
   "id": "4946646e",
   "metadata": {},
   "source": [
    "# (deprecated) Generation of figure 4\n",
    "Tim Tyree<br>\n",
    "1.3.2022"
   ]
  },
  {
   "cell_type": "code",
   "execution_count": null,
   "id": "0a000343",
   "metadata": {},
   "outputs": [],
   "source": [
    "#recall results from tables in the main mansucript\n",
    "wjr=recall_powerlaw_fits_to_full_models()\n",
    "\n",
    "input_fn=f\"{nb_dir}/data/osg_output/run_17_all_powerlaw_fits.csv\"\n",
    "input_fn_dict={'vectorsummed':input_fn,'neighboronly':input_fn}\n",
    "\n",
    "interp=recall_particle_model_interp(input_fn_dict=input_fn_dict)\n",
    "a_hat_FK, D_hat_FK, a_hat_FK_long, a_hat_FK_vlong, a_hat_LR, D_hat_LR, a_hat_LR_long=recall_particle_parameter_measurements()"
   ]
  },
  {
   "cell_type": "markdown",
   "id": "3a0e28da",
   "metadata": {
    "heading_collapsed": true
   },
   "source": [
    "# DONE: fit annihilation rates of the interacting inverse-powerlaw particle model to those of the full models\n",
    "- method of fit: minimization of mean squared error of the powerlaw fits of the particle model to those of the full models\n",
    "- method of minimization: Nelder-Mead minimization"
   ]
  },
  {
   "cell_type": "markdown",
   "id": "334353d8",
   "metadata": {
    "hidden": true
   },
   "source": [
    "`\n",
    "(deprecated) NOTE: for latest version of the manuscript's MSR versus tdeath plot, goto \n",
    "http://localhost:8889/notebooks/Analysis%20of%20model%20for%20time-reversed%20oscillatory%20particle%20model.ipynb\n",
    "`"
   ]
  },
  {
   "cell_type": "code",
   "execution_count": 4,
   "id": "2c6b137a",
   "metadata": {
    "ExecuteTime": {
     "end_time": "2022-09-20T23:56:44.195883Z",
     "start_time": "2022-09-20T23:56:41.373647Z"
    },
    "hidden": true
   },
   "outputs": [
    {
     "name": "stdout",
     "output_type": "stream",
     "text": [
      "a=9.60637, D=0.586055, r=0.12334599275920105, kappa=429.28076333754547, rmse=0.035064357470705694\n"
     ]
    }
   ],
   "source": [
    "#fit the particle model to the luo-rudy model\n",
    "dict_out_lr=PlotParticlModelAnnihilationRateFit(a=a_hat_LR,D=D_hat_LR,wjr=wjr,interp=interp,\n",
    "    ax=None,model_name='lr_pbc',c='C1')"
   ]
  },
  {
   "cell_type": "code",
   "execution_count": 5,
   "id": "49a56920",
   "metadata": {
    "ExecuteTime": {
     "end_time": "2022-09-20T23:56:44.646291Z",
     "start_time": "2022-09-20T23:56:44.198390Z"
    },
    "hidden": true,
    "scrolled": false
   },
   "outputs": [
    {
     "name": "stdout",
     "output_type": "stream",
     "text": [
      "a=1.604153, D=0.365238, r=0.06045942685825395, kappa=495.2654122924846, rmse=0.006797231616047614\n"
     ]
    }
   ],
   "source": [
    "#fit the particle model to the fenton-karma model\n",
    "dict_out_fk=PlotParticlModelAnnihilationRateFit(a=a_hat_FK_vlong,D=D_hat_FK,wjr=wjr,interp=interp,\n",
    "    ax=None,model_name='fk_pbc',c='C0')"
   ]
  },
  {
   "cell_type": "code",
   "execution_count": 19,
   "id": "ef234dbd",
   "metadata": {
    "ExecuteTime": {
     "end_time": "2022-09-21T00:01:12.958062Z",
     "start_time": "2022-09-21T00:01:12.837909Z"
    },
    "hidden": true
   },
   "outputs": [
    {
     "name": "stdout",
     "output_type": "stream",
     "text": [
      "amax: 10.77848\n",
      "amax: 2.334629\n"
     ]
    }
   ],
   "source": [
    "print(f\"amax: {9.60637 + 2*0.586055}\")\n",
    "print(f\"amax: {1.604153 + 2*0.365238}\")"
   ]
  },
  {
   "cell_type": "code",
   "execution_count": 6,
   "id": "1176e215",
   "metadata": {
    "ExecuteTime": {
     "end_time": "2022-09-20T23:56:44.691241Z",
     "start_time": "2022-09-20T23:56:44.648153Z"
    },
    "hidden": true
   },
   "outputs": [
    {
     "name": "stdout",
     "output_type": "stream",
     "text": [
      "a=8.595,    D=0.586055, r=0.10413888309470609, kappa=559.500160485693,  rmse=0.028075538795257697\n",
      "a=1.604153, D=0.365238, r=0.06045948522530842, kappa=495.2658318951493, rmse=0.006797222653889483\n"
     ]
    }
   ],
   "source": [
    "#recall ^these fits from lib\n",
    "a,D,r,kappa,rmse=recall_particle_parameter_fits('luorudy')\n",
    "print(f\"a={a},    D={D}, r={r}, kappa={kappa},  rmse={rmse}\")\n",
    "a,D,r,kappa,rmse=recall_particle_parameter_fits('fentonkarma')\n",
    "print(f\"a={a}, D={D}, r={r}, kappa={kappa}, rmse={rmse}\")"
   ]
  },
  {
   "cell_type": "markdown",
   "id": "df5d0f37",
   "metadata": {
    "heading_collapsed": true
   },
   "source": [
    "# DONE(Fig. 3.A): quick mockup of barchart \n",
    "quick mockup of barchart showing durations (and bootstrapped 95% CI) of (i) mean period estimates and (ii) mean lifetime estimates for (blue) the Fenton-Karma model and (orange) the Luo-Rudy model"
   ]
  },
  {
   "cell_type": "code",
   "execution_count": null,
   "id": "8fed62d3",
   "metadata": {
    "hidden": true
   },
   "outputs": [],
   "source": []
  },
  {
   "cell_type": "code",
   "execution_count": 9,
   "id": "8feaf3aa",
   "metadata": {
    "ExecuteTime": {
     "end_time": "2022-09-20T23:56:44.832529Z",
     "start_time": "2022-09-20T23:56:44.792213Z"
    },
    "hidden": true
   },
   "outputs": [],
   "source": [
    "#reset matplotlib\n",
    "mpl.rcParams.update(matplotlib.rcParamsDefault)"
   ]
  },
  {
   "cell_type": "code",
   "execution_count": 10,
   "id": "30218502",
   "metadata": {
    "ExecuteTime": {
     "end_time": "2022-09-20T23:56:44.874077Z",
     "start_time": "2022-09-20T23:56:44.836104Z"
    },
    "hidden": true
   },
   "outputs": [],
   "source": [
    "#TODO: compute the kinematic periods from the full models\n",
    "meanT_dir_lr='/home/timothytyree/Documents/GitHub/bgmc/python/data/full_results/luorudy_mean_kinematic_periods.npz'\n",
    "meanT_dir_fk='/home/timothytyree/Documents/GitHub/bgmc/python/data/full_results/fentonkarma_mean_kinematic_periods.npz'\n",
    "# np.mean(meanT_values)"
   ]
  },
  {
   "cell_type": "code",
   "execution_count": null,
   "id": "8f528d54",
   "metadata": {
    "hidden": true
   },
   "outputs": [],
   "source": []
  },
  {
   "cell_type": "code",
   "execution_count": 11,
   "id": "073d8af7",
   "metadata": {
    "ExecuteTime": {
     "end_time": "2022-09-20T23:56:44.915170Z",
     "start_time": "2022-09-20T23:56:44.875839Z"
    },
    "hidden": true
   },
   "outputs": [],
   "source": [
    "#TODO: copy & paste barcharts from neurophysics\n",
    "#TODO: copy lifetimes from .xlsx\n",
    "#TODO: estimate periods from plot and give reasonable 95% CI estimates\n",
    "#TODO: copy & paste ^that to .odg as a re-first-draft of Fig. 3.A\n",
    "#TODO: move on to my sketch of Fig. 3.B\n",
    "# TODO(later): measure the period precisely\n",
    "mean_lst=[90,100,310.057,82.7333]\n",
    "Delta_mean_lst=[10,10,3.5354,0.9154]\n",
    "# Nobs_lst=[43306,10362,43306,10362]#GUESSED PERIOD SAMPLE SIZES\n",
    "Nobs_lst=[4330,1036,4330,1036]#GUESSED PERIOD SAMPLE SIZES\n",
    "# Nobs_lst=[??,??,43306,10362]"
   ]
  },
  {
   "cell_type": "code",
   "execution_count": 12,
   "id": "9f2148be",
   "metadata": {
    "ExecuteTime": {
     "end_time": "2022-09-20T23:56:44.955479Z",
     "start_time": "2022-09-20T23:56:44.916791Z"
    },
    "hidden": true
   },
   "outputs": [],
   "source": [
    "#perform student t-tests for significantly different average values"
   ]
  },
  {
   "cell_type": "code",
   "execution_count": 13,
   "id": "d6d5fa03",
   "metadata": {
    "ExecuteTime": {
     "end_time": "2022-09-20T23:56:45.003881Z",
     "start_time": "2022-09-20T23:56:44.957183Z"
    },
    "hidden": true
   },
   "outputs": [
    {
     "name": "stdout",
     "output_type": "stream",
     "text": [
      "a students t-test comparing the mean lifetimes from the Fenton-Karma model to those of the Luo-Rudy model yielded p=0.0.\n"
     ]
    }
   ],
   "source": [
    "stat,p=stats.ttest_ind_from_stats(mean1=mean_lst[2], std1=Delta_mean_lst[2]/1.96*np.sqrt(Nobs_lst[2]), nobs1=Nobs_lst[2],\n",
    "                           mean2=mean_lst[3], std2=Delta_mean_lst[3]/1.96*np.sqrt(Nobs_lst[3]), nobs2=Nobs_lst[3])\n",
    "print(f\"a students t-test comparing the mean lifetimes from the Fenton-Karma model to those of the Luo-Rudy model yielded p={p}.\")"
   ]
  },
  {
   "cell_type": "code",
   "execution_count": 14,
   "id": "a42e13b5",
   "metadata": {
    "ExecuteTime": {
     "end_time": "2022-09-20T23:56:45.081466Z",
     "start_time": "2022-09-20T23:56:45.005684Z"
    },
    "hidden": true
   },
   "outputs": [
    {
     "name": "stdout",
     "output_type": "stream",
     "text": [
      "a students t-test comparing the mean lifetimes from the Fenton-Karma model to those of the Luo-Rudy model yielded p=0.35119444375871434.\n"
     ]
    }
   ],
   "source": [
    "stat,p=stats.ttest_ind_from_stats(mean1=mean_lst[0], std1=Delta_mean_lst[0]/1.96*np.sqrt(Nobs_lst[0]), nobs1=Nobs_lst[0],\n",
    "                           mean2=mean_lst[1], std2=Delta_mean_lst[1]/1.96*np.sqrt(Nobs_lst[1]), nobs2=Nobs_lst[1])\n",
    "print(f\"a students t-test comparing the mean lifetimes from the Fenton-Karma model to those of the Luo-Rudy model yielded p={p}.\")"
   ]
  },
  {
   "cell_type": "code",
   "execution_count": 15,
   "id": "e668f206",
   "metadata": {
    "ExecuteTime": {
     "end_time": "2022-09-20T23:56:45.814723Z",
     "start_time": "2022-09-20T23:56:45.083732Z"
    },
    "hidden": true,
    "scrolled": true
   },
   "outputs": [
    {
     "data": {
      "image/png": "[encoded data removed]",
      "text/plain": [
       "<Figure size 640x480 with 1 Axes>"
      ]
     },
     "metadata": {},
     "output_type": "display_data"
    },
    {
     "data": {
      "image/png": "[encoded data removed]",
      "text/plain": [
       "<Figure size 400x500 with 1 Axes>"
      ]
     },
     "metadata": {},
     "output_type": "display_data"
    }
   ],
   "source": [
    "bar_height_values=np.array(mean_lst)\n",
    "Delta_bar_height_values=np.array(Delta_mean_lst)\n",
    "color_lst=['C0','C1','C0','C1']\n",
    "bar_label_lst=[r'$T_{FK}$',r'$T_{LR}$',r'$\\Gamma_{FK}$',r'$\\Gamma_{LR}$']\n",
    "# hatch: {'/', '\\\\', '|', '-', '+', 'x', 'o', 'O', '.', '*'}\n",
    "hatch_values=np.array(['','','//','//'])\n",
    "# bar_label_lst=['Audio-Only\\n\\n\\n','Match\\n\\n\\n','Mismatch\\n\\n\\n','Video-Only\\n\\n\\n']\n",
    "ylabel='Avg. Duration (ms)'#\\nwith Preferred Modality'\n",
    "fig,ax=plt.subplots(figsize=(4,5))\n",
    "ax.bar(bar_label_lst,bar_height_values,hatch=hatch_values,yerr=Delta_bar_height_values,alpha=0.9,color=color_lst,capsize=10)\n",
    "# ax.errorbar(bar_label_lst[0],bar_height_values[0],Delta_bar_height_values[0],alpha=0.9,color=color_lst[0])\n",
    "format_plot(ax=ax,xlabel='',ylabel=ylabel)\n",
    "# title=''\n",
    "# ax.set_title(title,fontsize=18)\n",
    "# plt.gca().yaxis.set_major_formatter(mtick.PercentFormatter())\n",
    "plt.ylim([0,410])\n",
    "# plt.xticks(rotation=90)\n",
    "# plt.xticks(rotation=0)\n",
    "# plt.xticks(rotation=-90)\n",
    "plt.show()"
   ]
  },
  {
   "cell_type": "markdown",
   "id": "231f4ed1",
   "metadata": {
    "ExecuteTime": {
     "end_time": "2022-01-05T00:55:08.002101Z",
     "start_time": "2022-01-05T00:55:07.946080Z"
    },
    "heading_collapsed": true
   },
   "source": [
    "# analytic fit to MSR"
   ]
  },
  {
   "cell_type": "markdown",
   "id": "de935620",
   "metadata": {
    "hidden": true
   },
   "source": [
    "$$\n",
    "\\text{MSR}_\\text{Osc.}(t')=4at'+\\frac{8D}{\\omega}\\Big(sin(\\omega t' + \\phi_f) - sin(\\phi_f)\\Big)\n",
    "$$"
   ]
  },
  {
   "cell_type": "code",
   "execution_count": 17,
   "id": "644f0f6a",
   "metadata": {
    "ExecuteTime": {
     "end_time": "2022-09-20T23:57:38.407809Z",
     "start_time": "2022-09-20T23:57:38.346784Z"
    },
    "hidden": true
   },
   "outputs": [
    {
     "name": "stdout",
     "output_type": "stream",
     "text": [
      "a_hat_FK = 1.604153+/-0.040173 cm^2/s, tmax=300\n",
      "a_hat_LR = 8.595018+/-0.377114 cm^2/s, tmax=8\n"
     ]
    }
   ],
   "source": [
    "msr_dir_lr=f'{nb_dir}/data/full_results/msr_lr_boostrapped_tavg2_14.0_n_2083_a_8.6.csv'\n",
    "# msr_dir_lr='/home/timothytyree/Documents/GitHub/bgmc/python/data/full_results/msr_lr_boostrapped_tavg2_14.0_n_2083_a_8.6.csv'\n",
    "# a_LR = 8.5950#+/-0.3771 cm^2/s\n",
    "# tavg2=14 ms, num_samples=2083\n",
    "msr_dir_fk=f'{nb_dir}/data/full_results/msr_fk_boostrapped_tavg2_14.0_n_19087_a_1.6_tmax_300.csv'\n",
    "# msr_dir_fk='/home/timothytyree/Documents/GitHub/bgmc/python/data/full_results/msr_fk_boostrapped_tavg2_14.0_n_19087_a_1.6_tmax_300.csv'\n",
    "# a_FK = 1.604153#+/-0.040173 cm^2/s\n",
    "# tavg2=14 ms, num_samples=19087, tmin=0, tmax=300 ms\n",
    "\n",
    "df_msd_lr=pd.read_csv(msr_dir_lr)\n",
    "x_values_LR=df_msd_lr['tdeath_avg'].values\n",
    "y_values_LR=df_msd_lr['MSR'].values\n",
    "yerr_values_LR=df_msd_lr['Delta_MSR'].values\n",
    "df_msd_fk=pd.read_csv(msr_dir_fk)\n",
    "x_values_FK=df_msd_fk['tdeath_avg'].values\n",
    "y_values_FK=df_msd_fk['MSR'].values\n",
    "yerr_values_FK=df_msd_fk['Delta_MSR'].values\n",
    "\n",
    "tmax=300#ms\n",
    "x_values=x_values_FK.copy()\n",
    "y_values=y_values_FK.copy()\n",
    "boo=x_values<tmax #ms\n",
    "dict_a_SR=compute_95CI_ols(x_values[boo],y_values[boo])\n",
    "a_SR=dict_a_SR['m']/4*1e3\n",
    "Delta_a_SR=dict_a_SR['Delta_m']/4*1e3\n",
    "print(f\"a_hat_FK = {a_SR:.6f}+/-{Delta_a_SR:.6f} cm^2/s, tmax={tmax}\")\n",
    "a_hat_FK=a_SR\n",
    "\n",
    "tmax=8#ms\n",
    "x_values=x_values_LR.copy()\n",
    "y_values=y_values_LR.copy()\n",
    "boo=x_values<tmax #ms\n",
    "dict_a_SR=compute_95CI_ols(x_values[boo],y_values[boo])\n",
    "a_SR=dict_a_SR['m']/4*1e3\n",
    "Delta_a_SR=dict_a_SR['Delta_m']/4*1e3\n",
    "print(f\"a_hat_LR = {a_SR:.6f}+/-{Delta_a_SR:.6f} cm^2/s, tmax={tmax}\")\n",
    "a_hat_LR=a_SR"
   ]
  },
  {
   "cell_type": "code",
   "execution_count": 110,
   "id": "42319c55",
   "metadata": {
    "ExecuteTime": {
     "end_time": "2022-09-21T01:05:16.790195Z",
     "start_time": "2022-09-21T01:05:16.594535Z"
    },
    "hidden": true
   },
   "outputs": [
    {
     "ename": "NameError",
     "evalue": "name 'a_hat_LR' is not defined",
     "output_type": "error",
     "traceback": [
      "\u001b[0;31m---------------------------------------------------------------------------\u001b[0m",
      "\u001b[0;31mNameError\u001b[0m                                 Traceback (most recent call last)",
      "\u001b[0;32m/var/folders/0h/p4cbb7yx22jbxm0qb47vhfbh0000gn/T/ipykernel_72776/174131611.py\u001b[0m in \u001b[0;36m<module>\u001b[0;34m\u001b[0m\n\u001b[1;32m      5\u001b[0m \u001b[0;34m\u001b[0m\u001b[0m\n\u001b[1;32m      6\u001b[0m \u001b[0mxv\u001b[0m\u001b[0;34m=\u001b[0m\u001b[0mnp\u001b[0m\u001b[0;34m.\u001b[0m\u001b[0mlinspace\u001b[0m\u001b[0;34m(\u001b[0m\u001b[0;36m0\u001b[0m\u001b[0;34m,\u001b[0m\u001b[0;36m1e3\u001b[0m\u001b[0;34m,\u001b[0m\u001b[0;36m200\u001b[0m\u001b[0;34m)\u001b[0m\u001b[0;34m\u001b[0m\u001b[0;34m\u001b[0m\u001b[0m\n\u001b[0;32m----> 7\u001b[0;31m \u001b[0max\u001b[0m\u001b[0;34m.\u001b[0m\u001b[0mplot\u001b[0m\u001b[0;34m(\u001b[0m\u001b[0mxv\u001b[0m\u001b[0;34m,\u001b[0m\u001b[0;36m4\u001b[0m\u001b[0;34m*\u001b[0m\u001b[0ma_hat_LR\u001b[0m\u001b[0;34m*\u001b[0m\u001b[0;36m1e-3\u001b[0m\u001b[0;34m*\u001b[0m\u001b[0mxv\u001b[0m\u001b[0;34m,\u001b[0m\u001b[0;34m'--'\u001b[0m\u001b[0;34m,\u001b[0m\u001b[0mlw\u001b[0m\u001b[0;34m=\u001b[0m\u001b[0;36m2\u001b[0m\u001b[0;34m,\u001b[0m\u001b[0malpha\u001b[0m\u001b[0;34m=\u001b[0m\u001b[0;36m0.8\u001b[0m\u001b[0;34m,\u001b[0m\u001b[0mc\u001b[0m\u001b[0;34m=\u001b[0m\u001b[0;34m'C1'\u001b[0m\u001b[0;34m)\u001b[0m\u001b[0;34m\u001b[0m\u001b[0;34m\u001b[0m\u001b[0m\n\u001b[0m\u001b[1;32m      8\u001b[0m \u001b[0max\u001b[0m\u001b[0;34m.\u001b[0m\u001b[0mplot\u001b[0m\u001b[0;34m(\u001b[0m\u001b[0mxv\u001b[0m\u001b[0;34m,\u001b[0m\u001b[0;36m4\u001b[0m\u001b[0;34m*\u001b[0m\u001b[0ma_hat_FK\u001b[0m\u001b[0;34m*\u001b[0m\u001b[0;36m1e-3\u001b[0m\u001b[0;34m*\u001b[0m\u001b[0mxv\u001b[0m\u001b[0;34m,\u001b[0m\u001b[0;34m'--'\u001b[0m\u001b[0;34m,\u001b[0m\u001b[0mlw\u001b[0m\u001b[0;34m=\u001b[0m\u001b[0;36m2\u001b[0m\u001b[0;34m,\u001b[0m\u001b[0malpha\u001b[0m\u001b[0;34m=\u001b[0m\u001b[0;36m0.8\u001b[0m\u001b[0;34m,\u001b[0m\u001b[0mc\u001b[0m\u001b[0;34m=\u001b[0m\u001b[0;34m'C0'\u001b[0m\u001b[0;34m)\u001b[0m\u001b[0;34m\u001b[0m\u001b[0;34m\u001b[0m\u001b[0m\n\u001b[1;32m      9\u001b[0m \u001b[0;31m#plot data\u001b[0m\u001b[0;34m\u001b[0m\u001b[0;34m\u001b[0m\u001b[0;34m\u001b[0m\u001b[0m\n",
      "\u001b[0;31mNameError\u001b[0m: name 'a_hat_LR' is not defined"
     ]
    },
    {
     "data": {
      "image/png": "[encoded data removed]",
      "text/plain": [
       "<Figure size 600x400 with 1 Axes>"
      ]
     },
     "metadata": {},
     "output_type": "display_data"
    }
   ],
   "source": [
    "fontsize=15\n",
    "fig,ax=plt.subplots(figsize=(6,4))\n",
    "### plot expected\n",
    "fontsize=20\n",
    "\n",
    "xv=np.linspace(0,1e3,200)\n",
    "ax.plot(xv,4*a_hat_LR*1e-3*xv,'--',lw=2,alpha=0.8,c='C1')\n",
    "ax.plot(xv,4*a_hat_FK*1e-3*xv,'--',lw=2,alpha=0.8,c='C0')\n",
    "#plot data\n",
    "ax.plot(x_values_FK,y_values_FK,lw=2,alpha=0.8,c='C0')\n",
    "ax.fill_between(x_values_FK,y_values_FK-yerr_values_FK,y_values_FK+yerr_values_FK,lw=2,alpha=0.4,color='C0')\n",
    "ax.plot(x_values_LR,y_values_LR,lw=2,alpha=0.8,c='C1')\n",
    "ax.fill_between(x_values_LR,y_values_LR-yerr_values_LR,y_values_LR+yerr_values_LR,lw=2,alpha=0.4,color='C1')\n",
    "\n",
    "# MSR(t)=at + (2D/\\omega) \\sin(\\omega t + \\phi_f),\n",
    "# DONE: plot ^this model for MSR for fitty parameter settings (LR)\n",
    "# a=3.535902;D=a/2;phi_f=0.;period=0.1 #s\n",
    "a=3.535902;D=a/2;\n",
    "phi_f=0.;\n",
    "# phi_f=-np.pi/2;\n",
    "period=0.12 #s\n",
    "omega=2*np.pi/period\n",
    "constant=-8*D*np.sin(phi_f)/omega#0.15\n",
    "t_values=np.linspace(0,1,1000)\n",
    "MSR_values_oscillatory=4*(a*t_values+(2*D/omega)*np.sin(omega*t_values+phi_f))+constant\n",
    "ax.plot(t_values*1e3,MSR_values_oscillatory,c='C2',\n",
    "        label='$MSR_{Osc.} (a=a_{LR},\\phi_f=0$)')\n",
    "#         label=r'Oscillatory Solution ($a=a_{LR}$, $\\phi_f=0$)')\n",
    "\n",
    "#what param setting to use for the FK model?\n",
    "phi_f=-np.pi/2;\n",
    "a=1.604153;\n",
    "period=0.11 #s\n",
    "D=a/2;\n",
    "# constant=0.15\n",
    "omega=2*np.pi/period\n",
    "constant=-8*D*np.sin(phi_f)/omega#0.15\n",
    "t_values=np.linspace(0,1,1000)\n",
    "MSR_values_oscillatory=4*(a*t_values+(2*D/omega)*np.sin(omega*t_values+phi_f))+constant\n",
    "ax.plot(t_values*1e3,MSR_values_oscillatory,c='C3',\n",
    "                label=r'$MSR_{Osc.} (a=a_{FK}, \\phi_f=-\\frac{\\pi}{2})$')\n",
    "#         label='$MSR_{Osc.} (a=a_{FK}, \\phi_f=-\\frac{\\pi}{2})$')\n",
    "#         label='Oscillatory Solution ($a=a_{FK}$, $\\phi_f=-\\pi/2$)')\n",
    "\n",
    "# #what param setting to use for the FK model?\n",
    "# phi_f=0#-np.pi/2;\n",
    "# # a=1.604153;\n",
    "# # period=0.11 #s\n",
    "# # D=a/2;\n",
    "# # constant=0.15\n",
    "# omega=2*np.pi/period\n",
    "# constant=-8*D*np.sin(phi_f)/omega#0.15\n",
    "# t_values=np.linspace(0,1,1000)\n",
    "# MSR_values_oscillatory=4*(a*t_values+(2*D/omega)*np.sin(omega*t_values+phi_f))+constant\n",
    "# plt.plot(t_values*1e3,MSR_values_oscillatory,c='gray',label='Oscillatory Solution ($a=a_{FK}$, $\\phi_f=0$)')\n",
    "\n",
    "#format plot\n",
    "format_plot(ax=ax,xlabel=r'$t_f-t$ (ms)',ylabel=r'MSR (cm$^2$)',fontsize=fontsize)\n",
    "plt.xlim([0,1000])\n",
    "plt.ylim([0,5.1])\n",
    "plt.legend(loc='lower right',fontsize=fontsize-5,frameon=False)\n",
    "plt.show()\n",
    "# print(f\"tavg2={tavg2} ms, num_samples={max_num_groups}\")"
   ]
  },
  {
   "cell_type": "markdown",
   "id": "48c7df47",
   "metadata": {
    "hidden": true
   },
   "source": [
    "## generate MSR for the oscillatory model"
   ]
  },
  {
   "cell_type": "code",
   "execution_count": null,
   "id": "8761e91b",
   "metadata": {
    "ExecuteTime": {
     "start_time": "2022-01-06T04:34:18.777Z"
    },
    "hidden": true
   },
   "outputs": [],
   "source": []
  },
  {
   "cell_type": "code",
   "execution_count": null,
   "id": "30447a13",
   "metadata": {
    "ExecuteTime": {
     "start_time": "2022-01-06T05:33:33.946Z"
    },
    "hidden": true
   },
   "outputs": [],
   "source": [
    "include_earliest=False#True#broken?"
   ]
  },
  {
   "cell_type": "code",
   "execution_count": null,
   "id": "bb9a8850",
   "metadata": {
    "ExecuteTime": {
     "start_time": "2022-01-06T04:00:09.563Z"
    },
    "hidden": true
   },
   "outputs": [
    {
     "name": "stdout",
     "output_type": "stream",
     "text": [
      "Rsq_values mean_array std_array\n",
      "positions_out.shape=(100000, 4, 10000)\n"
     ]
    }
   ],
   "source": [
    "#heretim\n",
    "ahat_long=a_hat_FK_vlong#a_hat_LR_long\n",
    "#Fenton-Karma\n",
    "#GOAL: add a reasonable fit MSR from the reversed-time oscillatory particle model (dotted)\n",
    "#DONE: select either of the xy values form the full model (OR copy & paste ^that to new ipynb)\n",
    "#DONE: initialize the particle model for the FK model\n",
    "a=2.4; #2.5?\n",
    "D=1.2; T=120; phif=0.0003; Rf=1e-02; Ntrials=1000\n",
    "# x_values,y_values=x_values_FK,y_values_FK\n",
    "# #DONE: initialize the particle model for the LR model\n",
    "# a=3.8; D=1.9; T=120; phif=0.0002; Rf=1e-02; Ntrials=1000\n",
    "# x_values,y_values=x_values_LR,y_values_LR\n",
    "T=100#110#140#100#120#180#90#240\n",
    "D=0.365238#\t0.004171\t101774+/-103689,0.6,1.5,0.98 # from particle properties spreadsheet\n",
    "a=1.6\n",
    "D=ahat_long/2#/1 #/4#/4\n",
    "a=ahat_long#/2\n",
    "#TODO: recall my time reversed function that maps parameters of the oscillatory model to MSR\n",
    "# gener_positions_oscillatory_reversed\n",
    "\n",
    "# initial_phase_orientation=phif\n",
    "# initial_phase_orientation-=np.pi/2-np.pi# worse/4#/2\n",
    "initial_phase_orientation+=np.pi/2\n",
    "\n",
    "num_pairs=10000#1min 30sec: 10+1#400#2min 22sec: \n",
    "#before, long runtime\n",
    "dict_out,position_array = gener_positions_oscillatory_reversed(\n",
    "            a=a, D=D, printing=False,num_pairs=num_pairs,initial_phase_orientation=initial_phase_orientation,\n",
    "            include_earliest=include_earliest,\n",
    "            period_of_oscillation=T)\n",
    "print(*dict_out)\n",
    "positions_out=position_array\n",
    "\n",
    "#estimated run time: <1 minute\n",
    "# positions_out=dict_out['positions_out']\n",
    "Dt=1e-5\n",
    "rstart=1e-4\n",
    "title=f\"a={a:.4f}, D={D:.4f},\\n\"+r\"$\\phi_0$\"+f\"={initial_phase_orientation:.4f}, \"+r\"R$_0$\"+f\"={rstart:.4f}, \"+r\" N$_{trials}$\"+f\"={num_pairs}\\n\"\n",
    "print(f\"positions_out.shape={positions_out.shape}\")\n",
    "#compute the distance between each pair of particles after aligning by annihilation (unshifted)\n",
    "x1_values=positions_out[:,0]\n",
    "y1_values=positions_out[:,1]\n",
    "x2_values=positions_out[:,2]\n",
    "y2_values=positions_out[:,3]\n",
    "dx_values=(x2_values-x1_values)\n",
    "dy_values=(y2_values-y1_values)\n",
    "Rsq_values=dx_values**2+dy_values**2\n",
    "#compute the ensemble averaged values\n",
    "MSR_values=np.mean(Rsq_values,axis=1)\n",
    "aligned_coordinates_values=np.mean(positions_out,axis=-1)\n",
    "# maxt=Dt*MSR_values.shape[0]\n",
    "t_values=np.arange(MSR_values.shape[0])*Dt\n",
    "\n",
    "t_values_fk_osc=t_values.copy()\n",
    "MSR_values_fk_osc=MSR_values.copy()\n",
    "beep(5)"
   ]
  },
  {
   "cell_type": "code",
   "execution_count": null,
   "id": "9fd642f3",
   "metadata": {
    "ExecuteTime": {
     "start_time": "2022-01-06T04:00:20.357Z"
    },
    "hidden": true
   },
   "outputs": [],
   "source": [
    "#heretim\n",
    "ahat_long=a_hat_LR_long#a_hat_FK_vlong#\n",
    "#Luo-Rudy\n",
    "#runtime was ~40 seconds\n",
    "#recompute the Luo-Rudy model's fitty for the MSR of the oscillatory model \n",
    "#GOAL: add a reasonable fit MSR from the reversed-time oscillatory particle model (dotted)\n",
    "#DONE: select either of the xy values form the full model (OR copy & paste ^that to new ipynb)\n",
    "#DONE: initialize the particle model for the FK model\n",
    "a=2.5; D=1.2; T=120; phif=0.0003; Rf=1e-02; Ntrials=1000\n",
    "# x_values,y_values=x_values_FK,y_values_FK\n",
    "#DONE: initialize the particle model for the LR model\n",
    "a=3.8; D=1.9; T=120; phif=0.0002; Rf=1e-02; Ntrials=1000\n",
    "# x_values,y_values=x_values_LR,y_values_LR\n",
    "\n",
    "#TODO: try to get a reasonable a for LR given D=D_LR\n",
    "D=0.586055#\t0.087553\t1871+/-520,0,0.55*,0.89#from particle properties spreadsheet\n",
    "a=5#too big 8.5#tad small...9#4.5#discontinuous... 5#too small... 3.8\n",
    "T=120#100#240#120\n",
    "D=ahat_long/2#/1 #/4\n",
    "a=ahat_long\n",
    "#TODO: recall my time reversed function that maps parameters of the oscillatory model to MSR\n",
    "# gener_positions_oscillatory_reversed\n",
    "\n",
    "initial_phase_orientation=phif\n",
    "num_pairs=10000#1min 30sec: 10+1#400#2min 22sec: \n",
    "#before, long runtime\n",
    "dict_out,position_array = gener_positions_oscillatory_reversed(\n",
    "            a=a, D=D, printing=False,num_pairs=num_pairs,initial_phase_orientation=initial_phase_orientation,\n",
    "            include_earliest=include_earliest,\n",
    "            period_of_oscillation=T)\n",
    "\n",
    "print(*dict_out)\n",
    "positions_out=position_array\n",
    "\n",
    "#estimated run time: <1 minute\n",
    "# positions_out=dict_out['positions_out']\n",
    "Dt=1e-5\n",
    "rstart=1e-4\n",
    "title=f\"a={a:.4f}, D={D:.4f},\\n\"+r\"$\\phi_0$\"+f\"={initial_phase_orientation:.4f}, \"+r\"R$_0$\"+f\"={rstart:.4f}, \"+r\" N$_{trials}$\"+f\"={num_pairs}\\n\"\n",
    "print(f\"positions_out.shape={positions_out.shape}\")\n",
    "#compute the distance between each pair of particles after aligning by annihilation (unshifted)\n",
    "x1_values=positions_out[:,0]\n",
    "y1_values=positions_out[:,1]\n",
    "x2_values=positions_out[:,2]\n",
    "y2_values=positions_out[:,3]\n",
    "dx_values=(x2_values-x1_values)\n",
    "dy_values=(y2_values-y1_values)\n",
    "Rsq_values=dx_values**2+dy_values**2\n",
    "#compute the ensemble averaged values\n",
    "MSR_values=np.mean(Rsq_values,axis=1)\n",
    "aligned_coordinates_values=np.mean(positions_out,axis=-1)\n",
    "# maxt=Dt*MSR_values.shape[0]\n",
    "t_values=np.arange(MSR_values.shape[0])*Dt\n",
    "\n",
    "t_values_lr_osc=t_values.copy()\n",
    "MSR_values_lr_osc=MSR_values.copy()\n",
    "beep(5)"
   ]
  },
  {
   "cell_type": "code",
   "execution_count": null,
   "id": "4b302d10",
   "metadata": {
    "ExecuteTime": {
     "start_time": "2022-01-06T04:09:22.822Z"
    },
    "hidden": true
   },
   "outputs": [],
   "source": [
    "!pwd"
   ]
  },
  {
   "cell_type": "code",
   "execution_count": null,
   "id": "0f333998",
   "metadata": {
    "ExecuteTime": {
     "start_time": "2022-01-06T04:14:15.480Z"
    },
    "hidden": true
   },
   "outputs": [],
   "source": [
    "#DONE: save dotted as .npz\n",
    "msr_osc_fn=f\"msr_osc_full.npz\"\n",
    "np.savez_compressed(msr_osc_fn,\n",
    "                   t_values_fk_osc=t_values_fk_osc,\n",
    "                   MSR_values_fk_osc=MSR_values_fk_osc,\n",
    "                   t_values_lr_osc=t_values_lr_osc,\n",
    "                   MSR_values_lr_osc=MSR_values_lr_osc)\n",
    "print(f\"msr_osc_fn='{os.path.abspath(msr_osc_fn)}'\")\n",
    "assert os.path.exists(msr_osc_fn)"
   ]
  },
  {
   "cell_type": "code",
   "execution_count": null,
   "id": "0ef49ddd",
   "metadata": {
    "hidden": true
   },
   "outputs": [],
   "source": [
    " "
   ]
  },
  {
   "cell_type": "code",
   "execution_count": null,
   "id": "e4a3bf7f",
   "metadata": {
    "hidden": true
   },
   "outputs": [],
   "source": []
  },
  {
   "cell_type": "code",
   "execution_count": 20,
   "id": "bac4bd11",
   "metadata": {
    "ExecuteTime": {
     "end_time": "2022-01-06T01:41:01.988896Z",
     "start_time": "2022-01-06T01:41:01.916743Z"
    },
    "hidden": true
   },
   "outputs": [
    {
     "data": {
      "text/plain": [
       "False"
      ]
     },
     "execution_count": 20,
     "metadata": {},
     "output_type": "execute_result"
    }
   ],
   "source": [
    "assert not np.isnan(Rsq_values).all()"
   ]
  },
  {
   "cell_type": "markdown",
   "id": "633f4b84",
   "metadata": {
    "hidden": true
   },
   "source": [
    "## plot the results"
   ]
  },
  {
   "cell_type": "code",
   "execution_count": 21,
   "id": "cd6c131e",
   "metadata": {
    "ExecuteTime": {
     "end_time": "2022-01-06T01:41:02.008369Z",
     "start_time": "2022-01-06T01:41:01.990050Z"
    },
    "hidden": true
   },
   "outputs": [],
   "source": [
    "#estimate a_sr expected for this value with a sliding window\n",
    "msr_dir_lr='/home/timothytyree/Documents/GitHub/bgmc/python/data/full_results/msr_lr_boostrapped_tavg2_14.0_n_2083_a_8.6.csv'\n",
    "# a_LR = 8.5950#+/-0.3771 cm^2/s\n",
    "# tavg2=14 ms, num_samples=2083\n",
    "\n",
    "msr_dir_fk='/home/timothytyree/Documents/GitHub/bgmc/python/data/full_results/msr_fk_boostrapped_tavg2_14.0_n_19087_a_1.6_tmax_300.csv'\n",
    "# a_FK = 1.604153#+/-0.040173 cm^2/s\n",
    "# tavg2=14 ms, num_samples=19087, tmin=0, tmax=300 ms"
   ]
  },
  {
   "cell_type": "code",
   "execution_count": 22,
   "id": "59996fe6",
   "metadata": {
    "ExecuteTime": {
     "end_time": "2022-01-06T01:41:02.035475Z",
     "start_time": "2022-01-06T01:41:02.012055Z"
    },
    "hidden": true
   },
   "outputs": [],
   "source": [
    "df_msd_lr=pd.read_csv(msr_dir_lr)\n",
    "x_values_LR=df_msd_lr['tdeath_avg'].values\n",
    "y_values_LR=df_msd_lr['MSR'].values\n",
    "yerr_values_LR=df_msd_lr['Delta_MSR'].values\n",
    "df_msd_fk=pd.read_csv(msr_dir_fk)\n",
    "x_values_FK=df_msd_fk['tdeath_avg'].values\n",
    "y_values_FK=df_msd_fk['MSR'].values\n",
    "yerr_values_FK=df_msd_fk['Delta_MSR'].values"
   ]
  },
  {
   "cell_type": "code",
   "execution_count": 23,
   "id": "b7055d70",
   "metadata": {
    "ExecuteTime": {
     "end_time": "2022-01-06T01:41:02.058293Z",
     "start_time": "2022-01-06T01:41:02.036936Z"
    },
    "hidden": true
   },
   "outputs": [
    {
     "name": "stdout",
     "output_type": "stream",
     "text": [
      "a_hat_FK = 1.604153+/-0.040173 cm^2/s, tmax=300\n",
      "a_hat_LR = 8.595018+/-0.377114 cm^2/s, tmax=8\n"
     ]
    }
   ],
   "source": [
    "tmax=300#8#ms\n",
    "x_values=x_values_FK.copy()\n",
    "y_values=y_values_FK.copy()\n",
    "boo=x_values<tmax #ms\n",
    "dict_a_SR=compute_95CI_ols(x_values[boo],y_values[boo])\n",
    "a_SR=dict_a_SR['m']/4*1e3\n",
    "Delta_a_SR=dict_a_SR['Delta_m']/4*1e3\n",
    "print(f\"a_hat_FK = {a_SR:.6f}+/-{Delta_a_SR:.6f} cm^2/s, tmax={tmax}\")\n",
    "a_hat_FK=a_SR\n",
    "\n",
    "tmax=8#ms\n",
    "x_values=x_values_LR.copy()\n",
    "y_values=y_values_LR.copy()\n",
    "boo=x_values<tmax #ms\n",
    "dict_a_SR=compute_95CI_ols(x_values[boo],y_values[boo])\n",
    "a_SR=dict_a_SR['m']/4*1e3\n",
    "Delta_a_SR=dict_a_SR['Delta_m']/4*1e3\n",
    "print(f\"a_hat_LR = {a_SR:.6f}+/-{Delta_a_SR:.6f} cm^2/s, tmax={tmax}\")\n",
    "a_hat_LR=a_SR"
   ]
  },
  {
   "cell_type": "code",
   "execution_count": null,
   "id": "8b92844b",
   "metadata": {
    "ExecuteTime": {
     "start_time": "2022-01-06T04:00:35.777Z"
    },
    "hidden": true,
    "hide_input": true
   },
   "outputs": [],
   "source": [
    "#heretim\n",
    "#plot expected\n",
    "xv=np.linspace(0,1e3,200)\n",
    "plt.plot(xv,4*a_hat_LR*1e-3*xv,'--',lw=2,alpha=0.8,c='C1')\n",
    "plt.plot(xv,4*a_hat_FK*1e-3*xv,'--',lw=2,alpha=0.8,c='C0')\n",
    "#plot fitty\n",
    "plt.plot(t_values_fk_osc*1e3,MSR_values_fk_osc,':',lw=2,alpha=0.5,c='C0')\n",
    "plt.plot(t_values_lr_osc*1e3,MSR_values_lr_osc,':',lw=2,alpha=0.5,c='C1')\n",
    "#plot data\n",
    "plt.plot(x_values_FK,y_values_FK,lw=2,alpha=0.8,c='C0')\n",
    "plt.fill_between(x_values_FK,y_values_FK-yerr_values_FK,y_values_FK+yerr_values_FK,lw=2,alpha=0.4,color='C0')\n",
    "plt.plot(x_values_LR,y_values_LR,lw=2,alpha=0.8,c='C1')\n",
    "plt.fill_between(x_values_LR,y_values_LR-yerr_values_LR,y_values_LR+yerr_values_LR,lw=2,alpha=0.4,color='C1')\n",
    "format_plot(ax=plt.gca(),xlabel=r'$t_f-t$ (ms)',ylabel=r'MSR (cm$^2$)')\n",
    "plt.xlim([0,180])\n",
    "plt.ylim([0,3.1])\n",
    "title=f\"a={a:.4f}, D={D:.4f},\\n\"+r\"$\\phi_0$\"+f\"={initial_phase_orientation:.4f}, \"+r\"R$_0$\"+f\"={rstart:.4f}, \"+r\" N$_{trials}$\"+f\"={num_pairs}\\n\"\n",
    "plt.title(title)\n",
    "plt.show()\n",
    "# print(f\"tavg2={tavg2} ms, num_samples={max_num_groups}\")"
   ]
  },
  {
   "cell_type": "code",
   "execution_count": null,
   "id": "af473cda",
   "metadata": {
    "ExecuteTime": {
     "start_time": "2022-01-06T04:00:36.095Z"
    },
    "hidden": true
   },
   "outputs": [],
   "source": [
    "#plot expected\n",
    "xv=np.linspace(0,1e3,200)\n",
    "plt.plot(xv,4*a_hat_LR*1e-3*xv,'--',lw=2,alpha=0.8,c='C1')\n",
    "plt.plot(xv,4*a_hat_FK*1e-3*xv,'--',lw=2,alpha=0.8,c='C0')\n",
    "#plot data\n",
    "plt.plot(x_values_FK,y_values_FK,lw=2,alpha=0.8,c='C0')\n",
    "plt.fill_between(x_values_FK,y_values_FK-yerr_values_FK,y_values_FK+yerr_values_FK,lw=2,alpha=0.4,color='C0')\n",
    "plt.plot(x_values_LR,y_values_LR,lw=2,alpha=0.8,c='C1')\n",
    "plt.fill_between(x_values_LR,y_values_LR-yerr_values_LR,y_values_LR+yerr_values_LR,lw=2,alpha=0.4,color='C1')\n",
    "\n",
    "plt.plot(t_values_fk_osc*1e3,MSR_values_fk_osc,':',lw=2,alpha=0.5,c='C0')\n",
    "plt.plot(t_values_lr_osc*1e3,MSR_values_lr_osc,':',lw=2,alpha=0.5,c='C1')\n",
    "\n",
    "#this FAILS to let me change the text displayed...  i must make a triangle and a text box to make the slope's label \"4a_FK\"\n",
    "# #mark the slope of ^that line with slope = 4*1.6 (FK) and slope = 4*8.6 (LR)\n",
    "# x1 = 700\n",
    "# y1 = 4\n",
    "# ax=plt.gca()\n",
    "# annotation.slope_marker(origin=(x1, y1),\n",
    "#                         slope=4*1.6e-3,#(1.6,1),#1.6,\n",
    "# #                         invert=True,\n",
    "# #                         text_kwargs={'color': 'black','fontsize':16, 'alpha':0.7, \"text\":'4a'},\n",
    "#                         text_kwargs={'color': 'black','fontsize':16, 'alpha':0.7},\n",
    "#                         poly_kwargs={'facecolor': (0.5, 0.5, 0.5), 'alpha':0.5},#TODO: replace with purple\n",
    "#                         ax=ax)\n",
    "\n",
    "#format plot\n",
    "format_plot(ax=plt.gca(),xlabel=r'$t_f-t$ (ms)',ylabel=r'MSR (cm$^2$)')\n",
    "plt.xlim([0,1000])\n",
    "plt.ylim([0,5.1])\n",
    "# plt.ylim([0,4.1])\n",
    "\n",
    "plt.show()"
   ]
  },
  {
   "cell_type": "code",
   "execution_count": 26,
   "id": "353bf517",
   "metadata": {
    "ExecuteTime": {
     "end_time": "2022-01-06T01:41:02.386264Z",
     "start_time": "2022-01-06T01:41:02.366868Z"
    },
    "hidden": true
   },
   "outputs": [],
   "source": [
    "#TODO(later?): add a legend that identifies the 3 different classes of curves with black legend markers\n",
    "# (solid) full model, \n",
    "# (dashed) interacting inverse-powerlaw particle model,\n",
    "# (dotted) oscillatory particle model,"
   ]
  },
  {
   "cell_type": "code",
   "execution_count": 27,
   "id": "82e1ba46",
   "metadata": {
    "ExecuteTime": {
     "end_time": "2022-01-06T01:41:02.411874Z",
     "start_time": "2022-01-06T01:41:02.388042Z"
    },
    "hidden": true
   },
   "outputs": [],
   "source": [
    "#GOAL: highlight ^this with slopes indicating how ahat is computed \n",
    "# #TODO: change label to 4*a\n",
    "# annotation.slope_marker? #LAME\n",
    "# matplotlib.text.Text? #object oriented\n",
    "# matplotlib.patches.Polygon? #object oriented\n",
    "# #HINT: use ^these two mpl handles to add slopes to indicate "
   ]
  },
  {
   "cell_type": "code",
   "execution_count": 6,
   "id": "7051e1eb",
   "metadata": {
    "ExecuteTime": {
     "end_time": "2022-01-10T01:06:13.333313Z",
     "start_time": "2022-01-10T01:06:13.329454Z"
    },
    "hidden": true
   },
   "outputs": [
    {
     "data": {
      "text/plain": [
       "0.8020765"
      ]
     },
     "execution_count": 6,
     "metadata": {},
     "output_type": "execute_result"
    }
   ],
   "source": [
    "1.604153/2"
   ]
  },
  {
   "cell_type": "code",
   "execution_count": 5,
   "id": "6eb5f36c",
   "metadata": {
    "ExecuteTime": {
     "end_time": "2022-01-09T20:26:45.473585Z",
     "start_time": "2022-01-09T20:26:45.470870Z"
    },
    "hidden": true
   },
   "outputs": [
    {
     "name": "stdout",
     "output_type": "stream",
     "text": [
      "Tavg_expected_lr=0.0104560221538015 when N=10, L=5\n",
      "Tavg_expected_lr=0.005404999884333002 when N=16, L=5\n"
     ]
    }
   ],
   "source": [
    "Tavg_expected_lr=1e-03/0.095638665 #seconds #N=10, L=5\n",
    "print(f\"Tavg_expected_lr={Tavg_expected_lr} when N=10, L=5\")\n",
    "Tavg_expected_lr=1e-03/0.18501388 #seconds N=16, L=5\n",
    "print(f\"Tavg_expected_lr={Tavg_expected_lr} when N=16, L=5\")\n",
    "# src: src: full_results/data_fig4_vidmar_lr_tt.csv"
   ]
  },
  {
   "cell_type": "code",
   "execution_count": null,
   "id": "d7774a77",
   "metadata": {
    "hidden": true
   },
   "outputs": [],
   "source": []
  },
  {
   "cell_type": "markdown",
   "id": "a976f7c1",
   "metadata": {
    "heading_collapsed": true,
    "hidden": true
   },
   "source": [
    "## (ignore) (example msr traces from oscillatory) generate traces of MSR from the oscilatory model that are reasonable guesses for the full models\n",
    "DONT dev nelder-mead least square fits of the oscillatory model to the MSR of the full models"
   ]
  },
  {
   "cell_type": "code",
   "execution_count": 28,
   "id": "523eea69",
   "metadata": {
    "ExecuteTime": {
     "end_time": "2022-01-06T01:41:02.434922Z",
     "start_time": "2022-01-06T01:41:02.413226Z"
    },
    "hidden": true
   },
   "outputs": [],
   "source": [
    "#GOAL: add a best fit MSR from the reversed-time oscillatory particle model (dotted)\n",
    "#DONE: select either of the xy values form the full model (OR copy & paste ^that to new ipynb)\n",
    "\n",
    "\n",
    "#DONE: initialize the particle model for the FK model\n",
    "a=2.5; D=1.2; T=120; phif=0.0003; Rf=1e-02; Ntrials=1000\n",
    "x_values,y_values=x_values_FK,y_values_FK\n",
    "#DONE: initialize the particle model for the LR model\n",
    "a=3.8; D=1.9; T=120; phif=0.0002; Rf=1e-02; Ntrials=1000\n",
    "x_values,y_values=x_values_LR,y_values_LR\n",
    "\n",
    "#TODO: recall my time reversed function that maps parameters of the oscillatory model to MSR\n",
    "# gener_positions_oscillatory_reversed"
   ]
  },
  {
   "cell_type": "code",
   "execution_count": 29,
   "id": "237bae75",
   "metadata": {
    "ExecuteTime": {
     "end_time": "2022-01-06T01:41:22.248095Z",
     "start_time": "2022-01-06T01:41:02.436174Z"
    },
    "hidden": true
   },
   "outputs": [
    {
     "name": "stdout",
     "output_type": "stream",
     "text": [
      "Rsq_values mean_array std_array\n",
      "positions_out.shape=(100000, 4, 50)\n",
      "\u0007\u0007\u0007\u0007\u0007"
     ]
    }
   ],
   "source": [
    "#     #2 min. runtime?\n",
    "testing=True\n",
    "initial_phase_orientation=phif\n",
    "num_pairs=50#1min 30sec: 10+1#400#2min 22sec: \n",
    "if testing:\n",
    "    #before, long runtime\n",
    "    dict_out,position_array = gener_positions_oscillatory_reversed(\n",
    "                a=a, D=D, printing=False,num_pairs=num_pairs,initial_phase_orientation=initial_phase_orientation)\n",
    "    print(*dict_out)\n",
    "    positions_out=position_array\n",
    "    print(f\"positions_out.shape={positions_out.shape}\")\n",
    "    beep(5)"
   ]
  },
  {
   "cell_type": "code",
   "execution_count": 30,
   "id": "49e215c6",
   "metadata": {
    "ExecuteTime": {
     "end_time": "2022-01-06T01:42:01.693104Z",
     "start_time": "2022-01-06T01:41:22.252236Z"
    },
    "hidden": true
   },
   "outputs": [
    {
     "name": "stdout",
     "output_type": "stream",
     "text": [
      "Rsq_values mean_array std_array\n",
      "positions_out.shape=(100000, 4, 1000)\n",
      "\u0007\u0007\u0007\u0007\u0007"
     ]
    },
    {
     "data": {
      "text/plain": [
       "0"
      ]
     },
     "execution_count": 30,
     "metadata": {},
     "output_type": "execute_result"
    }
   ],
   "source": [
    "#GOAL: add a reasonable fit MSR from the reversed-time oscillatory particle model (dotted)\n",
    "#DONE: select either of the xy values form the full model (OR copy & paste ^that to new ipynb)\n",
    "#DONE: initialize the particle model for the FK model\n",
    "a=2.5; D=1.2; T=120; phif=0.0003; Rf=1e-02; Ntrials=1000\n",
    "x_values,y_values=x_values_FK,y_values_FK\n",
    "#DONE: initialize the particle model for the LR model\n",
    "a=3.8; D=1.9; T=120; phif=0.0002; Rf=1e-02; Ntrials=1000\n",
    "x_values,y_values=x_values_LR,y_values_LR\n",
    "\n",
    "#TODO: recall my time reversed function that maps parameters of the oscillatory model to MSR\n",
    "# gener_positions_oscillatory_reversed\n",
    "\n",
    "initial_phase_orientation=phif\n",
    "num_pairs=1000#1min 30sec: 10+1#400#2min 22sec: \n",
    "#before, long runtime\n",
    "dict_out,position_array = gener_positions_oscillatory_reversed(\n",
    "            a=a, D=D, printing=False,num_pairs=num_pairs,initial_phase_orientation=initial_phase_orientation)\n",
    "print(*dict_out)\n",
    "positions_out=position_array\n",
    "\n",
    "#estimated run time: <1 minute\n",
    "# positions_out=dict_out['positions_out']\n",
    "Dt=1e-5\n",
    "rstart=1e-4\n",
    "title=f\"a={a:.4f}, D={D:.4f},\\n\"+r\"$\\phi_0$\"+f\"={initial_phase_orientation:.4f}, \"+r\"R$_0$\"+f\"={rstart:.4f}, \"+r\" N$_{trials}$\"+f\"={num_pairs}\\n\"\n",
    "print(f\"positions_out.shape={positions_out.shape}\")\n",
    "#compute the distance between each pair of particles after aligning by annihilation (unshifted)\n",
    "x1_values=positions_out[:,0]\n",
    "y1_values=positions_out[:,1]\n",
    "x2_values=positions_out[:,2]\n",
    "y2_values=positions_out[:,3]\n",
    "dx_values=(x2_values-x1_values)\n",
    "dy_values=(y2_values-y1_values)\n",
    "Rsq_values=dx_values**2+dy_values**2\n",
    "#compute the ensemble averaged values\n",
    "MSR_values=np.mean(Rsq_values,axis=1)\n",
    "aligned_coordinates_values=np.mean(positions_out,axis=-1)\n",
    "# maxt=Dt*MSR_values.shape[0]\n",
    "t_values=np.arange(MSR_values.shape[0])*Dt\n",
    "\n",
    "t_values_lr_osc=t_values.copy()\n",
    "MSR_values_lr_osc=MSR_values.copy()\n",
    "beep(5)"
   ]
  },
  {
   "cell_type": "code",
   "execution_count": 31,
   "id": "24e59bb7",
   "metadata": {
    "ExecuteTime": {
     "end_time": "2022-01-06T01:42:25.143071Z",
     "start_time": "2022-01-06T01:42:01.695168Z"
    },
    "hidden": true
   },
   "outputs": [
    {
     "name": "stdout",
     "output_type": "stream",
     "text": [
      "Rsq_values mean_array std_array\n",
      "positions_out.shape=(100000, 4, 200)\n",
      "\u0007\u0007\u0007\u0007\u0007"
     ]
    }
   ],
   "source": [
    "#     #2 min. runtime?\n",
    "testing=True\n",
    "initial_phase_orientation=phif\n",
    "num_pairs=200#1min 30sec: 10+1#400#2min 22sec: \n",
    "if testing:\n",
    "    #before, long runtime\n",
    "    dict_out,position_array = gener_positions_oscillatory_reversed(\n",
    "                a=a, D=D, printing=False,num_pairs=num_pairs,initial_phase_orientation=initial_phase_orientation)\n",
    "    print(*dict_out)\n",
    "    positions_out=position_array\n",
    "    print(f\"positions_out.shape={positions_out.shape}\")\n",
    "    beep(5)"
   ]
  },
  {
   "cell_type": "code",
   "execution_count": 32,
   "id": "8bf1e919",
   "metadata": {
    "ExecuteTime": {
     "end_time": "2022-01-06T01:42:42.792889Z",
     "start_time": "2022-01-06T01:42:25.147172Z"
    },
    "hidden": true
   },
   "outputs": [
    {
     "name": "stdout",
     "output_type": "stream",
     "text": [
      "Rsq_values mean_array std_array\n",
      "positions_out.shape=(100000, 4, 100)\n",
      "\u0007\u0007\u0007\u0007\u0007"
     ]
    }
   ],
   "source": [
    "#     #2 min. runtime?\n",
    "testing=True\n",
    "initial_phase_orientation=phif\n",
    "num_pairs=100#1min 30sec: 10+1#400#2min 22sec: \n",
    "if testing:\n",
    "    #before, long runtime\n",
    "    dict_out,position_array = gener_positions_oscillatory_reversed(\n",
    "                a=a, D=D, printing=False,num_pairs=num_pairs,initial_phase_orientation=initial_phase_orientation)\n",
    "    print(*dict_out)\n",
    "    positions_out=position_array\n",
    "    print(f\"positions_out.shape={positions_out.shape}\")\n",
    "    beep(5)"
   ]
  },
  {
   "cell_type": "code",
   "execution_count": 33,
   "id": "83246ba9",
   "metadata": {
    "ExecuteTime": {
     "end_time": "2022-01-06T01:42:43.022794Z",
     "start_time": "2022-01-06T01:42:42.797239Z"
    },
    "hidden": true
   },
   "outputs": [
    {
     "name": "stdout",
     "output_type": "stream",
     "text": [
      "positions_out.shape=(100000, 4, 100)\n"
     ]
    }
   ],
   "source": [
    "#TODO: average ^that N=1000 run.\n",
    "print(f\"positions_out.shape={positions_out.shape}\")\n",
    "#compute the distance between each pair of particles after aligning by annihilation (unshifted)\n",
    "x1_values=positions_out[:,0]\n",
    "y1_values=positions_out[:,1]\n",
    "x2_values=positions_out[:,2]\n",
    "y2_values=positions_out[:,3]\n",
    "dx_values=(x2_values-x1_values)\n",
    "dy_values=(y2_values-y1_values)\n",
    "Rsq_values=dx_values**2+dy_values**2\n",
    "#compute the ensemble averaged values\n",
    "MSR_values=np.mean(Rsq_values,axis=1)"
   ]
  },
  {
   "cell_type": "code",
   "execution_count": 34,
   "id": "cc1864a5",
   "metadata": {
    "ExecuteTime": {
     "end_time": "2022-01-06T01:42:43.063308Z",
     "start_time": "2022-01-06T01:42:43.024152Z"
    },
    "hidden": true
   },
   "outputs": [
    {
     "data": {
      "text/plain": [
       "[<matplotlib.lines.Line2D at 0x7f865054fd50>]"
      ]
     },
     "execution_count": 34,
     "metadata": {},
     "output_type": "execute_result"
    }
   ],
   "source": [
    "plt.plot(MSR_values)"
   ]
  },
  {
   "cell_type": "code",
   "execution_count": 35,
   "id": "d86c353e",
   "metadata": {
    "ExecuteTime": {
     "end_time": "2022-01-06T01:42:43.086089Z",
     "start_time": "2022-01-06T01:42:43.064932Z"
    },
    "hidden": true
   },
   "outputs": [
    {
     "data": {
      "text/plain": [
       "(100000,)"
      ]
     },
     "execution_count": 35,
     "metadata": {},
     "output_type": "execute_result"
    }
   ],
   "source": [
    "MSR_values_high_res=MSR_values.copy()\n",
    "MSR_values_high_res.shape"
   ]
  },
  {
   "cell_type": "code",
   "execution_count": 36,
   "id": "7b8714ad",
   "metadata": {
    "ExecuteTime": {
     "end_time": "2022-01-06T01:42:43.445141Z",
     "start_time": "2022-01-06T01:42:43.087541Z"
    },
    "hidden": true
   },
   "outputs": [
    {
     "name": "stdout",
     "output_type": "stream",
     "text": [
      "positions_out.shape=(100000, 4, 100)\n"
     ]
    },
    {
     "data": {
      "image/png": "[encoded data removed]",
      "text/plain": [
       "<Figure size 640x480 with 1 Axes>"
      ]
     },
     "metadata": {},
     "output_type": "display_data"
    }
   ],
   "source": [
    "#estimated run time: 11 minutes\n",
    "\n",
    "\n",
    "# positions_out=dict_out['positions_out']\n",
    "Dt=1e-5\n",
    "rstart=1e-4\n",
    "title=f\"a={a:.4f}, D={D:.4f},\\n\"+r\"$\\phi_0$\"+f\"={initial_phase_orientation:.4f}, \"+r\"R$_0$\"+f\"={rstart:.4f}, \"+r\" N$_{trials}$\"+f\"={num_pairs}\\n\"\n",
    "\n",
    "\n",
    "\n",
    "print(f\"positions_out.shape={positions_out.shape}\")\n",
    "#compute the distance between each pair of particles after aligning by annihilation (unshifted)\n",
    "x1_values=positions_out[:,0]\n",
    "y1_values=positions_out[:,1]\n",
    "x2_values=positions_out[:,2]\n",
    "y2_values=positions_out[:,3]\n",
    "dx_values=(x2_values-x1_values)\n",
    "dy_values=(y2_values-y1_values)\n",
    "Rsq_values=dx_values**2+dy_values**2\n",
    "#compute the ensemble averaged values\n",
    "MSR_values=np.mean(Rsq_values,axis=1)\n",
    "aligned_coordinates_values=np.mean(positions_out,axis=-1)\n",
    "# maxt=Dt*MSR_values.shape[0]\n",
    "t_values=np.arange(MSR_values.shape[0])*Dt\n",
    "# x_values=aligned_mean_values[:,0]\n",
    "# plt.plot(aligned_mean_values[:,1])\n",
    "# plt.plot(aligned_mean_values[:,2])\n",
    "# plt.plot(aligned_mean_values[:,3])\n",
    "\n",
    "xmin,xmax=0,0.1\n",
    "ymin,ymax=0,0.6\n",
    "xv=np.linspace(xmin,xmax,100)\n",
    "plt.plot(xv,4*a*xv,'k--',label=r'$4a(t_f-t)$')\n",
    "plt.xlim([xmin,xmax])\n",
    "plt.ylim([ymin,ymax])\n",
    "plt.plot(t_values,MSR_values,c='C5',label=r\"Simulation\")\n",
    "# plt.plot(t_values,aligned_mean_values[::-1,0]**2)\n",
    "plt.plot(t_values,t_values*0.,'--',c='gray',alpha=0.5)\n",
    "format_plot(ax=plt.gca(),xlabel=r'$t_f-t$ (sec)',ylabel=r'MSR (cm$^2$)')\n",
    "plt.title(title,fontsize=16)\n",
    "plt.legend(fontsize=16)\n",
    "plt.show()\n",
    "\n",
    "\n"
   ]
  },
  {
   "cell_type": "code",
   "execution_count": 37,
   "id": "f8ab04da",
   "metadata": {
    "ExecuteTime": {
     "end_time": "2022-01-06T01:42:43.477895Z",
     "start_time": "2022-01-06T01:42:43.446676Z"
    },
    "hidden": true
   },
   "outputs": [
    {
     "name": "stdout",
     "output_type": "stream",
     "text": [
      "m=15.687366825275118\n",
      "Delta_m=0.006563160827167656\n",
      "b=-0.09775733309437928\n",
      "Delta_b=0.003789214250968185\n",
      "Rsquared=0.9954644400547724\n",
      "num_samples=100\n",
      "num_timepoints=100000\n",
      "ahat = 3.9218+/-0.0016\n"
     ]
    }
   ],
   "source": [
    "\n",
    "boo=~(np.isnan(t_values)|np.isnan(MSR_values))\n",
    "dict_fit=compute_95CI_ols(t_values[boo],MSR_values[boo])\n",
    "print_dict(dict_fit)\n",
    "print(f\"num_samples={positions_out.shape[-1]}\")\n",
    "print(f\"num_timepoints={t_values.shape[0]}\")\n",
    "print(f\"ahat = {dict_fit['m']/4:.4f}+/-{dict_fit['Delta_m']/4:.4f}\")"
   ]
  },
  {
   "cell_type": "code",
   "execution_count": null,
   "id": "a50d4a06",
   "metadata": {
    "hidden": true
   },
   "outputs": [],
   "source": []
  },
  {
   "cell_type": "code",
   "execution_count": null,
   "id": "30548c45",
   "metadata": {
    "hidden": true
   },
   "outputs": [],
   "source": []
  },
  {
   "cell_type": "code",
   "execution_count": 38,
   "id": "d58e4d88",
   "metadata": {
    "ExecuteTime": {
     "end_time": "2022-01-06T01:42:43.528347Z",
     "start_time": "2022-01-06T01:42:43.480737Z"
    },
    "hidden": true
   },
   "outputs": [],
   "source": [
    "#TODO: recall my Nelder-Mead least-squares minimization routine\n",
    "#TODO: merge ^those two routines\n",
    "#TODO: plot the MSR of the resulting fit (if Nelder-Mead is sufficiently awesome)"
   ]
  },
  {
   "cell_type": "code",
   "execution_count": 39,
   "id": "38e7a73b",
   "metadata": {
    "ExecuteTime": {
     "end_time": "2022-01-06T01:42:43.714736Z",
     "start_time": "2022-01-06T01:42:43.531225Z"
    },
    "hidden": true
   },
   "outputs": [
    {
     "ename": "NameError",
     "evalue": "name 'meanT_values' is not defined",
     "output_type": "error",
     "traceback": [
      "\u001b[0;31m---------------------------------------------------------------------------\u001b[0m",
      "\u001b[0;31mNameError\u001b[0m                                 Traceback (most recent call last)",
      "\u001b[0;32m/tmp/ipykernel_1441088/1909837706.py\u001b[0m in \u001b[0;36m<module>\u001b[0;34m\u001b[0m\n\u001b[1;32m      1\u001b[0m \u001b[0mmeanT_dir_lr\u001b[0m\u001b[0;34m=\u001b[0m\u001b[0;34m'/home/timothytyree/Documents/GitHub/bgmc/python/data/full_results/luorudy_mean_kinematic_periods.npz'\u001b[0m\u001b[0;34m\u001b[0m\u001b[0;34m\u001b[0m\u001b[0m\n\u001b[1;32m      2\u001b[0m \u001b[0mmeanT_dir_fk\u001b[0m\u001b[0;34m=\u001b[0m\u001b[0;34m'/home/timothytyree/Documents/GitHub/bgmc/python/data/full_results/fentonkarma_mean_kinematic_periods.npz'\u001b[0m\u001b[0;34m\u001b[0m\u001b[0;34m\u001b[0m\u001b[0m\n\u001b[0;32m----> 3\u001b[0;31m \u001b[0mnp\u001b[0m\u001b[0;34m.\u001b[0m\u001b[0mmean\u001b[0m\u001b[0;34m(\u001b[0m\u001b[0mmeanT_values\u001b[0m\u001b[0;34m)\u001b[0m\u001b[0;34m\u001b[0m\u001b[0;34m\u001b[0m\u001b[0m\n\u001b[0m",
      "\u001b[0;31mNameError\u001b[0m: name 'meanT_values' is not defined"
     ]
    }
   ],
   "source": [
    "meanT_dir_lr='/home/timothytyree/Documents/GitHub/bgmc/python/data/full_results/luorudy_mean_kinematic_periods.npz'\n",
    "meanT_dir_fk='/home/timothytyree/Documents/GitHub/bgmc/python/data/full_results/fentonkarma_mean_kinematic_periods.npz'\n",
    "np.mean(meanT_values)"
   ]
  },
  {
   "cell_type": "markdown",
   "id": "8009d620",
   "metadata": {
    "heading_collapsed": true
   },
   "source": [
    "# generate figure for the mslim consistency argument"
   ]
  },
  {
   "cell_type": "code",
   "execution_count": 3,
   "id": "60513526",
   "metadata": {
    "ExecuteTime": {
     "end_time": "2022-01-25T22:49:35.277411Z",
     "start_time": "2022-01-25T22:49:35.253377Z"
    },
    "hidden": true
   },
   "outputs": [],
   "source": [
    "a_hat_FK, D_hat_FK, a_hat_FK_long, a_hat_FK_vlong, a_hat_LR, D_hat_LR, a_hat_LR_long=recall_particle_parameter_measurements()\n",
    "# note: a_ratio_lr=a_hat_FK_vlong/a_hat_FK_vlong=1\n",
    "ahat_fk_observed=a_hat_FK_vlong\n",
    "D_hat_fk_observed=D_hat_FK\n",
    "ahat_lr_observed=a_hat_LR\n",
    "D_hat_lr_observed=D_hat_LR\n",
    "a_lr_observed=a_hat_LR_long\n",
    "a_fk_observed=a_hat_FK_vlong"
   ]
  },
  {
   "cell_type": "code",
   "execution_count": 4,
   "id": "44aee509",
   "metadata": {
    "ExecuteTime": {
     "end_time": "2022-01-25T22:49:36.285936Z",
     "start_time": "2022-01-25T22:49:35.712511Z"
    },
    "hidden": true
   },
   "outputs": [
    {
     "data": {
      "image/png": "[encoded data removed]",
      "text/plain": [
       "<Figure size 432x288 with 1 Axes>"
      ]
     },
     "metadata": {
      "needs_background": "light"
     },
     "output_type": "display_data"
    }
   ],
   "source": [
    "# # TODO: visualize ahat/a by summing the three terms of the attraction coefficient estimator\n",
    "#plot solutions for the estimators\n",
    "slope=-1\n",
    "phi_f=-np.pi*0.5#-np.pi/4\n",
    "alpha=0.2\n",
    "xlabel=r'$\\bar\\Gamma / T$'#\n",
    "ylabel=r'$\\hat a ^2/a^2$'#\n",
    "use_loglog=True\n",
    "# fig,ax=plt.subplots(figsize=(5,3))\n",
    "fig,ax=plt.subplots(figsize=(6,4))\n",
    "z_values=np.logspace(-2,2,100)\n",
    "x_values=z_values/(2.*np.pi)\n",
    "\n",
    "# #plot observed ahat values as horizontal dashed lines\n",
    "# y=ahat_fk_observed/a_fk_observed\n",
    "# ax.plot(x_values,0.*x_values+y,'C0--',lw=2,alpha=0.9,label='Fenton-Karma Model')\n",
    "# y=ahat_lr_observed/a_lr_observed\n",
    "# ax.plot(x_values,0.*x_values+y,'C1--',lw=2,alpha=0.9,label='Luo-Rudy Model')\n",
    "\n",
    "# #plot observed ahat,Gamma/T values as horizontal dashed lines\n",
    "# #Fenton-Karma\n",
    "# x=3\n",
    "# Delta_x=.5 #poorly estimated uncertainty\n",
    "# y=ahat_fk_observed/a_fk_observed\n",
    "# Delta_y=.04 #well estimated uncertainty\n",
    "#plot observed ahat,Gamma/T values as horizontal dashed lines\n",
    "#Fenton-Karma\n",
    "# GammaBar_observed: 387.0374+/-31.3052/2 milliseconds\n",
    "# T:110 +/- ?? ms\n",
    "a=197.3891#ms\n",
    "Delta_GammaBar_observed=35.600166 #ms\n",
    "# a=387.0374#ms\n",
    "# Delta_GammaBar_observed=15.6526#ms\n",
    "b=110#ms\n",
    "Delta_T_estimated=10\n",
    "Delta_a=Delta_GammaBar_observed\n",
    "Delta_b=Delta_T_estimated\n",
    "x=a/b\n",
    "Delta_x=np.sqrt(Delta_a**2/(b**2) + a**2*Delta_b**2/(b**4)) #well estimated uncertainty\n",
    "y=(ahat_fk_observed/a_fk_observed)\n",
    "Delta_y=.04 #well estimated uncertainty for ahat/a\n",
    "ax.errorbar(x, y, xerr=Delta_x, yerr=Delta_y, fmt='o',markersize=8,capsize=4,lw=2,\n",
    "            color='C0')#,label='Fenton-Karma')\n",
    "# #Luo-Rudy\n",
    "# x=0.1\n",
    "# Delta_x=.05 #poorly estimated uncertainty\n",
    "# y=ahat_lr_observed/a_lr_observed\n",
    "# Delta_y=.08 #well estimated uncertainty\n",
    "#Luo-Rudy\n",
    "# GammaBar_observed: 41.9756+/-4.4809/2 milliseconds\n",
    "# T:120 +/- ?? mc\n",
    "# a=41.9756#ms\n",
    "# Delta_GammaBar_observed=15.6526\n",
    "a=15.5618 #ms\n",
    "Delta_GammaBar_observed=1.867684\n",
    "Delta_T_estimated=20\n",
    "b=120#ms\n",
    "Delta_a=Delta_GammaBar_observed\n",
    "Delta_b=Delta_T_estimated\n",
    "x=a/b\n",
    "Delta_x=np.sqrt(Delta_a**2/(b**2) + a**2*Delta_b**2/(b**4)) #well estimated uncertainty\n",
    "y=(ahat_lr_observed/a_lr_observed)\n",
    "Delta_y=.08 #well estimated uncertainty for ahat/a\n",
    "ax.errorbar(x, y, xerr=Delta_x, yerr=Delta_y, fmt='o',markersize=8,capsize=4,lw=2,\n",
    "            color='C1')#,label='Luo-Rudy')\n",
    "\n",
    "\n",
    "#MSLIM\n",
    "#plot predictions for phi=-np.pi/2\n",
    "phi=phi_f\n",
    "a=1 #same plot for any a\n",
    "y_values= comp_ahat_mslim(z_values,a,D=a/2.,phi=phi)/a\n",
    "ax.plot(x_values,y_values,lw=2,alpha=0.4,color='green',\n",
    "                label=r'mslim')\n",
    "#         label=r'$g(\\bar\\Gamma/T,\\phi_f=-\\frac{\\pi}{2})$')\n",
    "squared_ahat_values =correction_diffusion(z_values,a=a,D=a/2.,phi=phi)\n",
    "squared_ahat_values+=correction_cross(z_values,a=a,D=a/2.,phi=phi)\n",
    "squared_ahat_values+=a**2\n",
    "y_values=np.sqrt(squared_ahat_values/a**2)\n",
    "ax.plot(x_values,y_values,lw=2,alpha=0.8,color='green',\n",
    "        label=r'squared mslim')\n",
    "#         label=r'$g(\\bar\\Gamma/T,\\phi_f=-\\frac{\\pi}{2})$')\n",
    "#         label=r'g($\\phi_f=$'+f\"{phi_f:.4f})\")\n",
    "#         label=r'Solution ($\\phi_f=-\\frac{\\pi}{2}$)')\n",
    "# #plot predictions for phi=0\n",
    "# phi=0\n",
    "a=1 #same plot for any a\n",
    "y_values= comp_ahat_mslim(z_values,a,D=a/2.,phi=0)/a\n",
    "ax.plot(x_values,y_values,lw=2,alpha=0.4,color='grey',\n",
    "                label=r'mslim')\n",
    "\n",
    "y_values= comp_ahat_mslim(z_values,a,D=a/2.,phi=phi)/a\n",
    "ax.plot(x_values,y_values,lw=2,alpha=0.4,color='green',\n",
    "                label=r'mslim')\n",
    "#         label=r'$g(\\bar\\Gamma/T,\\phi_f=-\\frac{\\pi}{2})$')\n",
    "squared_ahat_values =correction_diffusion(z_values,a=a,D=a/2.,phi=0)\n",
    "squared_ahat_values+=correction_cross(z_values,a=a,D=a/2.,phi=0)\n",
    "squared_ahat_values+=a**2\n",
    "y_values=np.sqrt(squared_ahat_values/a**2)\n",
    "ax.plot(x_values,y_values,lw=2,alpha=0.8,color='gray',\n",
    "        label=r'squared mslim')\n",
    "#         label=r'$g(\\bar\\Gamma/T,\\phi_f=-\\frac{\\pi}{2})$')\n",
    "\n",
    "#SMSLIM\n",
    "# #plot predictions for phi=-np.pi/2\n",
    "# phi=phi_f\n",
    "# squared_ahat_values =correction_diffusion(z_values,a=a,D=a/2.,phi=phi)\n",
    "# squared_ahat_values+=correction_cross(z_values,a=a,D=a/2.,phi=phi)\n",
    "# squared_ahat_values+=a**2\n",
    "# y_values=np.sqrt(squared_ahat_values/a**2)\n",
    "# ax.plot(x_values,y_values,lw=2,alpha=0.8,color='green',\n",
    "#         label=r'$g(\\bar\\Gamma/T,\\phi_f=-\\frac{\\pi}{2})$')\n",
    "# #         label=r'g($\\phi_f=$'+f\"{phi_f:.4f})\")\n",
    "# #         label=r'Solution ($\\phi_f=-\\frac{\\pi}{2}$)')\n",
    "# #plot predictions for phi=0\n",
    "# phi=0\n",
    "# squared_ahat_values =correction_diffusion(z_values,a=a,D=a/2.,phi=phi)\n",
    "# squared_ahat_values+=correction_cross(z_values,a=a,D=a/2.,phi=phi)\n",
    "# squared_ahat_values+=a**2\n",
    "# x_values=z_values/(2.*np.pi)\n",
    "# y_values=np.sqrt(squared_ahat_values/a**2)\n",
    "# ax.plot(x_values,y_values,lw=2,alpha=0.8,color='gray',\n",
    "#         label=r'$g(\\bar\\Gamma/T,\\phi_f=0)$')\n",
    "# #         label=r'g($\\phi_f=0$)')\n",
    "# #         label=r'Solution ($\\phi_f=0$)')\n",
    "\n",
    "\n",
    "\n",
    "#DONE: copy estimates from .odg\n",
    "#DONE: add error bar estimates\n",
    "#TODO(later): consider improving x,Delta_x estimates\n",
    "#TODO: plot the diffusion correction divided by the cross correction\n",
    "# ax.plot(x_values,0.*x_values+y,'C0--',lw=2,alpha=0.9,label='Fenton-Karma Model')\n",
    "# y=ahat_lr_observed/a_lr_observed\n",
    "# ax.plot(x_values,0.*x_values+y,'C1--',lw=2,alpha=0.9,label='Luo-Rudy Model')\n",
    "fontsize=20\n",
    "\n",
    "#format_plot\n",
    "# plt.title(r' $\\phi_f=-\\frac{\\pi}{2}$',fontsize=18, x=0.8, y=0.9)\n",
    "plt.ylim([8e-1,1.3e2])\n",
    "ax.legend(loc='upper right',fontsize=fontsize-3,frameon=False)\n",
    "format_plot(ax=plt.gca(), xlabel=xlabel, ylabel=ylabel, use_loglog=use_loglog, fontsize=fontsize)#, **kwargs)\n",
    "plt.tick_params(axis='y', which='minor',left=True)\n",
    "plt.tick_params(axis='x', which='minor',bottom=True)\n",
    "# ax.set_yticks([1e-4,1e-3,1e-2,1e-1,1e0,1e1])\n",
    "ax.set_yscale('log')\n",
    "plt.tick_params(axis='y', which='minor')\n",
    "## ax.tick_params(axis='y',reset=False, left=True,right=False, which='minor',\n",
    "##               direction='out', length=6, width=2, colors='k')\n",
    "# mark_slope(ax=ax,x1=1e-2,y1=2e1,slope=(-1,1),invert=True)\n",
    "mark_slope(ax=ax,x1=.8e-2,y1=1.5e1,slope=(-1,1),invert=True)\n",
    "plt.show()"
   ]
  },
  {
   "cell_type": "code",
   "execution_count": 11,
   "id": "591f879b",
   "metadata": {
    "ExecuteTime": {
     "end_time": "2022-01-25T22:53:03.866613Z",
     "start_time": "2022-01-25T22:53:03.844906Z"
    },
    "hidden": true
   },
   "outputs": [],
   "source": [
    "#reset matplotlib\n",
    "import matplotlib\n",
    "matplotlib.rcParams.update(matplotlib.rcParamsDefault)"
   ]
  },
  {
   "cell_type": "code",
   "execution_count": 418,
   "id": "3af772ef",
   "metadata": {
    "ExecuteTime": {
     "end_time": "2022-09-21T03:31:27.546261Z",
     "start_time": "2022-09-21T03:31:27.436066Z"
    },
    "hidden": true
   },
   "outputs": [],
   "source": [
    "# #(DEPRECATED # comp_ahat_mslim\n",
    "# # dasum=np.exp(1j*phi)/(1-1j*z)\n",
    "# # dasum-=np.exp(-1j*phi)/(1+1j*z)\n",
    "# # dasum-=np.sin(phi)\n",
    "# # ahat=a+2*D/z*dasum.astype('float')\n",
    "# # return ahat\n",
    "# comp_alinear?"
   ]
  },
  {
   "cell_type": "code",
   "execution_count": 413,
   "id": "ad372bf3",
   "metadata": {
    "ExecuteTime": {
     "end_time": "2022-09-21T03:30:35.618529Z",
     "start_time": "2022-09-21T03:30:35.571718Z"
    },
    "hidden": true
   },
   "outputs": [],
   "source": [
    "# # #heretim\n",
    "# comp_alinear\n",
    "# #TODO: modify this to give the correct universal relation\n",
    "# def comp_alinear(z,a,D,phi):\n",
    "# #     \"\"\"\n",
    "# #     correction_mslim returns the real correction value\n",
    "# #     that evaluates the expected attraction coefficient\n",
    "# #     in terms of the parameters of the oscilatory model\n",
    "# #     relative to the lifetime of the particle.\n",
    "\n",
    "# #     here, the lifetime of the particle has been taken\n",
    "# #     to be exponentially distributed\n",
    "# #     with an expected value\n",
    "# #     proportional to z.\n",
    "\n",
    "# #     Note that z is also\n",
    "# #     inversely proportional\n",
    "# #     to the dynamic period of oscillation.\n",
    "# #     \"\"\"\n",
    "# #     dasum=np.exp(1j*phi)/(1-1j*z)\n",
    "# #     dasum-=np.exp(-1j*phi)/(1+1j*z)\n",
    "# #     dasum-=np.sin(phi)\n",
    "# #     ahat=a+2*D/z*dasum.astype('float')\n",
    "# #     return ahat"
   ]
  },
  {
   "cell_type": "code",
   "execution_count": null,
   "id": "a999add4",
   "metadata": {
    "hidden": true
   },
   "outputs": [],
   "source": [
    "# # TODO: visualize ahat/a by summing the three terms of the attraction coefficient estimator\n",
    "#plot solutions for the estimators\n",
    "slope=-1\n",
    "fontsize=20\n",
    "phi_f=-np.pi*0.5#-np.pi/4\n",
    "alpha=0.2\n",
    "xlabel=r'$\\bar\\Gamma / T$'#\n",
    "ylabel=r'$\\hat a ^2/a^2$'#\n",
    "use_loglog=True\n",
    "# fig,ax=plt.subplots(figsize=(5,3))\n",
    "fig,ax=plt.subplots(figsize=(6,4))\n",
    "z_values=np.logspace(-2,2,100)\n",
    "x_values=z_values/(2.*np.pi)\n",
    "\n",
    "alinear = comp_alinear(a0=dict_osc_fit_fk['a0'],\n",
    "                       a1=dict_osc_fit_fk['a1'],\n",
    "                       period=dict_osc_fit_fk['period'],\n",
    "                       Gamma=dict_osc_fit_fk['a0'],\n",
    "                       phase=dict_osc_fit_fk['a0'],)"
   ]
  },
  {
   "cell_type": "code",
   "execution_count": 420,
   "id": "8937f42e",
   "metadata": {
    "ExecuteTime": {
     "end_time": "2022-09-21T03:33:34.269671Z",
     "start_time": "2022-09-21T03:33:34.214155Z"
    },
    "hidden": true
   },
   "outputs": [
    {
     "data": {
      "text/plain": [
       "{'a0': 1.6361678784211904,\n",
       " 'a1': 1.2822207795221772,\n",
       " 'period': 115.94132757652915,\n",
       " 'phase': -0.5414831911503737,\n",
       " 'rmse': 0.028433802911998075,\n",
       " 'alinear': 1.7812325245076142,\n",
       " 'omega': 0.054192801122035256,\n",
       " 'z': 5.707561428236097}"
      ]
     },
     "execution_count": 420,
     "metadata": {},
     "output_type": "execute_result"
    }
   ],
   "source": [
    "dict_osc_fit_fk['a0']"
   ]
  },
  {
   "cell_type": "code",
   "execution_count": 13,
   "id": "04c9ad74",
   "metadata": {
    "ExecuteTime": {
     "end_time": "2022-01-25T22:53:38.966903Z",
     "start_time": "2022-01-25T22:53:38.449481Z"
    },
    "hidden": true,
    "scrolled": true
   },
   "outputs": [
    {
     "data": {
      "image/png": "[encoded data removed]",
      "text/plain": [
       "<Figure size 600x400 with 1 Axes>"
      ]
     },
     "metadata": {},
     "output_type": "display_data"
    }
   ],
   "source": [
    "# # TODO: visualize ahat/a by summing the three terms of the attraction coefficient estimator\n",
    "#plot solutions for the estimators\n",
    "slope=-1\n",
    "fontsize=20\n",
    "phi_f=-np.pi*0.5#-np.pi/4\n",
    "alpha=0.2\n",
    "xlabel=r'$\\bar\\Gamma / T$'#\n",
    "ylabel=r'$\\hat a ^2/a^2$'#\n",
    "use_loglog=True\n",
    "# fig,ax=plt.subplots(figsize=(5,3))\n",
    "fig,ax=plt.subplots(figsize=(6,4))\n",
    "z_values=np.logspace(-2,2,100)\n",
    "x_values=z_values/(2.*np.pi)\n",
    "\n",
    "# #plot observed ahat values as horizontal dashed lines\n",
    "# y=ahat_fk_observed/a_fk_observed\n",
    "# ax.plot(x_values,0.*x_values+y,'C0--',lw=2,alpha=0.9,label='Fenton-Karma Model')\n",
    "# y=ahat_lr_observed/a_lr_observed\n",
    "# ax.plot(x_values,0.*x_values+y,'C1--',lw=2,alpha=0.9,label='Luo-Rudy Model')\n",
    "\n",
    "# #plot observed ahat,Gamma/T values as horizontal dashed lines\n",
    "# #Fenton-Karma\n",
    "# x=3\n",
    "# Delta_x=.5 #poorly estimated uncertainty\n",
    "# y=ahat_fk_observed/a_fk_observed\n",
    "# Delta_y=.04 #well estimated uncertainty\n",
    "#plot observed ahat,Gamma/T values as horizontal dashed lines\n",
    "#Fenton-Karma\n",
    "# GammaBar_observed: 387.0374+/-31.3052/2 milliseconds\n",
    "# T:110 +/- ?? ms\n",
    "a=197.3891#ms\n",
    "Delta_GammaBar_observed=35.600166 #ms\n",
    "# a=387.0374#ms\n",
    "# Delta_GammaBar_observed=15.6526#ms\n",
    "b=110#ms\n",
    "Delta_T_estimated=10\n",
    "Delta_a=Delta_GammaBar_observed\n",
    "Delta_b=Delta_T_estimated\n",
    "x=a/b\n",
    "Delta_x=np.sqrt(Delta_a**2/(b**2) + a**2*Delta_b**2/(b**4)) #well estimated uncertainty\n",
    "y=(ahat_fk_observed/a_fk_observed)\n",
    "Delta_y=.04 #well estimated uncertainty for ahat/a\n",
    "ax.errorbar(x, y, xerr=Delta_x, yerr=Delta_y, fmt='o',markersize=8,capsize=4,lw=3,\n",
    "            color='C0')#,label='Fenton-Karma')\n",
    "# #Luo-Rudy\n",
    "# x=0.1\n",
    "# Delta_x=.05 #poorly estimated uncertainty\n",
    "# y=ahat_lr_observed/a_lr_observed\n",
    "# Delta_y=.08 #well estimated uncertainty\n",
    "#Luo-Rudy\n",
    "# GammaBar_observed: 41.9756+/-4.4809/2 milliseconds\n",
    "# T:120 +/- ?? mc\n",
    "# a=41.9756#ms\n",
    "# Delta_GammaBar_observed=15.6526\n",
    "a=15.5618 #ms\n",
    "Delta_GammaBar_observed=1.867684\n",
    "Delta_T_estimated=20\n",
    "b=120#ms\n",
    "Delta_a=Delta_GammaBar_observed\n",
    "Delta_b=Delta_T_estimated\n",
    "x=a/b\n",
    "Delta_x=np.sqrt(Delta_a**2/(b**2) + a**2*Delta_b**2/(b**4)) #well estimated uncertainty\n",
    "y=(ahat_lr_observed/a_lr_observed)\n",
    "Delta_y=.08 #well estimated uncertainty for ahat/a\n",
    "ax.errorbar(x, y, xerr=Delta_x, yerr=Delta_y, fmt='o',markersize=8,capsize=4,lw=3,\n",
    "            color='C1')#,label='Luo-Rudy')\n",
    "\n",
    "\n",
    "#MSLIM\n",
    "#plot predictions for phi=-np.pi/2\n",
    "phi=phi_f\n",
    "a=1 #same plot for any a\n",
    "# y_values= comp_ahat_mslim(z_values,a,D=a/2.,phi=phi)/a\n",
    "# ax.plot(x_values,y_values,lw=2,alpha=0.4,color='green',\n",
    "#                 label=r'mslim')\n",
    "# #         label=r'$g(\\bar\\Gamma/T,\\phi_f=-\\frac{\\pi}{2})$')\n",
    "# squared_ahat_values =correction_diffusion(z_values,a=a,D=a/2.,phi=phi)\n",
    "# squared_ahat_values+=correction_cross(z_values,a=a,D=a/2.,phi=phi)\n",
    "# squared_ahat_values+=a**2\n",
    "# y_values=np.sqrt(squared_ahat_values/a**2)\n",
    "# ax.plot(x_values,y_values,lw=2,alpha=0.8,color='green',\n",
    "#         label=r'squared mslim')\n",
    "#         label=r'$g(\\bar\\Gamma/T,\\phi_f=-\\frac{\\pi}{2})$')\n",
    "#         label=r'g($\\phi_f=$'+f\"{phi_f:.4f})\")\n",
    "#         label=r'Solution ($\\phi_f=-\\frac{\\pi}{2}$)')\n",
    "# #plot predictions for phi=0\n",
    "# phi=0\n",
    "# squared_ahat_values =correction_diffusion(z_values,a=a,D=a/2.,phi=phi)\n",
    "# squared_ahat_values+=correction_cross(z_values,a=a,D=a/2.,phi=phi)\n",
    "# squared_ahat_values+=a**2\n",
    "# x_values=z_values/(2.*np.pi)\n",
    "# y_values=np.sqrt(squared_ahat_values/a**2)\n",
    "# ax.plot(x_values,y_values,lw=2,alpha=0.8,color='gray',\n",
    "#         label=r'$g(\\bar\\Gamma/T,\\phi_f=0)$')\n",
    "# #         label=r'g($\\phi_f=0$)')\n",
    "# #         label=r'Solution ($\\phi_f=0$)')\n",
    "\n",
    "# SMSLIM\n",
    "#plot predictions for phi=-np.pi/2\n",
    "phi=phi_f\n",
    "squared_ahat_values =correction_diffusion(z_values,a=a,D=a/2.,phi=phi)\n",
    "squared_ahat_values+=correction_cross(z_values,a=a,D=a/2.,phi=phi)\n",
    "squared_ahat_values+=a**2\n",
    "y_values=np.sqrt(squared_ahat_values/a**2)\n",
    "ax.plot(x_values,y_values,lw=2,alpha=0.8,color='green',\n",
    "        label=r'$g(\\bar\\Gamma/T,\\phi_f=-\\frac{\\pi}{2})$')\n",
    "#         label=r'g($\\phi_f=$'+f\"{phi_f:.4f})\")\n",
    "#         label=r'Solution ($\\phi_f=-\\frac{\\pi}{2}$)')\n",
    "#plot predictions for phi=0\n",
    "phi=0\n",
    "squared_ahat_values =correction_diffusion(z_values,a=a,D=a/2.,phi=phi)\n",
    "squared_ahat_values+=correction_cross(z_values,a=a,D=a/2.,phi=phi)\n",
    "squared_ahat_values+=a**2\n",
    "x_values=z_values/(2.*np.pi)\n",
    "y_values=np.sqrt(squared_ahat_values/a**2)\n",
    "ax.plot(x_values,y_values,lw=2,alpha=0.8,color='gray',\n",
    "        label=r'$g(\\bar\\Gamma/T,\\phi_f=0)$')\n",
    "#         label=r'g($\\phi_f=0$)')\n",
    "#         label=r'Solution ($\\phi_f=0$)')\n",
    "\n",
    "\n",
    "\n",
    "#DONE: copy estimates from .odg\n",
    "#DONE: add error bar estimates\n",
    "#TODO(later): consider improving x,Delta_x estimates\n",
    "#TODO: plot the diffusion correction divided by the cross correction\n",
    "# ax.plot(x_values,0.*x_values+y,'C0--',lw=2,alpha=0.9,label='Fenton-Karma Model')\n",
    "# y=ahat_lr_observed/a_lr_observed\n",
    "# ax.plot(x_values,0.*x_values+y,'C1--',lw=2,alpha=0.9,label='Luo-Rudy Model')\n",
    "\n",
    "#format_plot\n",
    "# plt.title(r' $\\phi_f=-\\frac{\\pi}{2}$',fontsize=18, x=0.8, y=0.9)\n",
    "plt.ylim([8e-1,1.3e2])\n",
    "ax.legend(loc='upper right',fontsize=fontsize-3,frameon=False)\n",
    "format_plot(ax=plt.gca(), xlabel=xlabel, ylabel=ylabel, use_loglog=use_loglog, fontsize=fontsize)#, **kwargs)\n",
    "plt.tick_params(axis='y', which='minor',left=True)\n",
    "plt.tick_params(axis='x', which='minor',bottom=True)\n",
    "# ax.set_yticks([1e-4,1e-3,1e-2,1e-1,1e0,1e1])\n",
    "ax.set_yscale('log')\n",
    "plt.tick_params(axis='y', which='minor')\n",
    "## ax.tick_params(axis='y',reset=False, left=True,right=False, which='minor',\n",
    "##               direction='out', length=6, width=2, colors='k')\n",
    "mark_slope(ax=ax,x1=1e-2,y1=2e1,slope=(-1,1),invert=True)\n",
    "# mark_slope(ax=ax,x1=.8e-2,y1=1.5e1,slope=(-1,1),invert=True)\n",
    "plt.show()"
   ]
  },
  {
   "cell_type": "code",
   "execution_count": 14,
   "id": "63b9019b",
   "metadata": {
    "ExecuteTime": {
     "end_time": "2022-01-25T22:53:54.437639Z",
     "start_time": "2022-01-25T22:53:54.419842Z"
    },
    "hidden": true
   },
   "outputs": [],
   "source": [
    "#src\n",
    "# http://localhost:8888/notebooks/python/Notes%20on%20fitting%20the%20oscillatory%20particle%20model%20to%20the%20linear%20particle%20model.ipynb\n"
   ]
  },
  {
   "cell_type": "markdown",
   "id": "295cd203",
   "metadata": {
    "hidden": true
   },
   "source": [
    " # generation of lifetimes histogram\n",
    " TODO: copy src from care in \n",
    "    `http://localhost:8889/notebooks/Lifetimes%20of%20Spiral%20Tips.ipynb`"
   ]
  },
  {
   "cell_type": "code",
   "execution_count": 21,
   "id": "0c022bac",
   "metadata": {
    "ExecuteTime": {
     "end_time": "2022-01-25T23:46:09.833381Z",
     "start_time": "2022-01-25T23:46:09.811230Z"
    },
    "hidden": true
   },
   "outputs": [],
   "source": [
    "#DONE: save results as pkl\n",
    "import pickle\n",
    "\n",
    "# dict_lifetimes = {'lr': {'tbins':bins, 'pdf_bar_heights':bar_heights_lr},\n",
    "#      'fk': {'tbins':bins, 'pdf_bar_heights':bar_heights_fk}\n",
    "#     }\n",
    "\n",
    "lifetime_pdf_dir=\"/home/timothytyree/Documents/GitHub/bgmc/python/data/full_results/lifetimes.pkl\"\n",
    "\n",
    "with open(lifetime_pdf_dir, 'rb') as handle:\n",
    "    dict_lifetimes = pickle.load(handle)"
   ]
  },
  {
   "cell_type": "code",
   "execution_count": null,
   "id": "a68b6ca7",
   "metadata": {
    "hidden": true
   },
   "outputs": [],
   "source": []
  },
  {
   "cell_type": "code",
   "execution_count": null,
   "id": "08d1a245",
   "metadata": {
    "hidden": true
   },
   "outputs": [],
   "source": [
    "alpha=0.8\n",
    "# bins=300\n",
    "# bins='doane'\n",
    "# bins='rice'\n",
    "# bins='sqrt'\n",
    "bins=np.arange(0,4e3,60)\n",
    "# 'auto', 'fd', 'doane',\n",
    "#     'scott', 'stone', 'rice', 'sturges', or 'sqrt'.\n",
    "\n",
    "#figure panel style histogram of lifetimes\n",
    "fig,ax=plt.subplots(figsize=(6,5))\n",
    "bar_heights_fk,bins,_=plt.hist(lifetime_values_FK,bins=bins,log=True,color='C0',density=True,alpha=alpha, label='Fenton-Karma Model')\n",
    "bar_heights_lr,_,_=plt.hist(lifetime_values_LR,bins=bins,log=True,color='C1',density=True,alpha=alpha, label='Luo-Rudy Model')\n",
    "plt.legend(fontsize=16)\n",
    "format_plot(ax=plt.gca(),xlabel='Lifetime (ms)',ylabel='PDF')\n",
    "plt.show()"
   ]
  },
  {
   "cell_type": "code",
   "execution_count": null,
   "id": "234e3fee",
   "metadata": {
    "hidden": true
   },
   "outputs": [],
   "source": []
  }
 ],
 "metadata": {
  "hide_input": false,
  "kernelspec": {
   "display_name": "Python 3 (ipykernel)",
   "language": "python",
   "name": "python3"
  },
  "language_info": {
   "codemirror_mode": {
    "name": "ipython",
    "version": 3
   },
   "file_extension": ".py",
   "mimetype": "text/x-python",
   "name": "python",
   "nbconvert_exporter": "python",
   "pygments_lexer": "ipython3",
   "version": "3.9.5"
  },
  "latex_envs": {
   "LaTeX_envs_menu_present": true,
   "autoclose": true,
   "autocomplete": false,
   "bibliofile": "biblio.bib",
   "cite_by": "apalike",
   "current_citInitial": 1,
   "eqLabelWithNumbers": false,
   "eqNumInitial": 1,
   "hotkeys": {
    "equation": "Ctrl-E",
    "itemize": "Ctrl-I"
   },
   "labels_anchors": false,
   "latex_user_defs": false,
   "report_style_numbering": false,
   "user_envs_cfg": false
  },
  "nbTranslate": {
   "displayLangs": [
    "*"
   ],
   "hotkey": "alt-t",
   "langInMainMenu": true,
   "sourceLang": "en",
   "targetLang": "fr",
   "useGoogleTranslate": true
  },
  "toc": {
   "base_numbering": 1,
   "nav_menu": {},
   "number_sections": true,
   "sideBar": true,
   "skip_h1_title": false,
   "title_cell": "Table of Contents",
   "title_sidebar": "Contents",
   "toc_cell": false,
   "toc_position": {
    "height": "calc(100% - 180px)",
    "left": "10px",
    "top": "150px",
    "width": "305.455px"
   },
   "toc_section_display": true,
   "toc_window_display": false
  },
  "varInspector": {
   "cols": {
    "lenName": 16,
    "lenType": 16,
    "lenVar": 40
   },
   "kernels_config": {
    "python": {
     "delete_cmd_postfix": "",
     "delete_cmd_prefix": "del ",
     "library": "var_list.py",
     "varRefreshCmd": "print(var_dic_list())"
    },
    "r": {
     "delete_cmd_postfix": ") ",
     "delete_cmd_prefix": "rm(",
     "library": "var_list.r",
     "varRefreshCmd": "cat(var_dic_list()) "
    }
   },
   "types_to_exclude": [
    "module",
    "function",
    "builtin_function_or_method",
    "instance",
    "_Feature"
   ],
   "window_display": false
  }
 },
 "nbformat": 4,
 "nbformat_minor": 5
}
