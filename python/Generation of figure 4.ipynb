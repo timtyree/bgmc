{
 "cells": [
  {
   "cell_type": "markdown",
   "id": "9207f4ae",
   "metadata": {},
   "source": [
    "# Generation of figure 4\n",
    "Tim Tyree<br>\n",
    "9.20.2022"
   ]
  },
  {
   "cell_type": "code",
   "execution_count": 722,
   "id": "702f8f19",
   "metadata": {
    "ExecuteTime": {
     "end_time": "2022-09-26T01:38:38.826538Z",
     "start_time": "2022-09-26T01:38:38.755351Z"
    }
   },
   "outputs": [
    {
     "name": "stdout",
     "output_type": "stream",
     "text": [
      "The autoreload extension is already loaded. To reload it, use:\n",
      "  %reload_ext autoreload\n",
      "The autoreload extension is already loaded. To reload it, use:\n",
      "  %reload_ext autoreload\n"
     ]
    }
   ],
   "source": [
    "# simplify initialization\n",
    "from scipy.optimize import minimize\n",
    "from lib.my_initialization import *\n",
    "from lib import *\n",
    "from lib.lib_care.measure.level_sets import comp_longest_level_set_and_smooth\n",
    "%load_ext autoreload\n",
    "%autoreload 2\n",
    "\n",
    "import matplotlib.pyplot as plt, numpy as np\n",
    "from mpltools import annotation\n",
    "import random,scipy\n",
    "from scipy.interpolate import LinearNDInterpolator\n",
    "from scipy.interpolate import CloughTocher2DInterpolator\n",
    "import matplotlib as mpl #for colorbar\n",
    "from scipy import stats\n",
    "\n",
    "#for particle params to MSR generating functional\n",
    "from scipy.signal import savgol_filter\n",
    "import dask.bag as db\n",
    "from lib.lib_care.measure.bootstrap import bin_and_bootstrap_xy_values_parallel\n",
    "\n",
    "darkmode=False\n",
    "if darkmode:\n",
    "    # For darkmode plots\n",
    "    from jupyterthemes import jtplot\n",
    "    jtplot.style(theme='monokai', context='notebook', ticks=True, grid=False)\n",
    "\n",
    "import warnings\n",
    "warnings.simplefilter(\"ignore\", UserWarning)\n",
    "%load_ext autoreload\n",
    "%autoreload 2\n",
    "\n",
    "#optional\n",
    "# import cupy as cp\n",
    "# cp.random.seed(42)\n",
    "np.random.seed(42)"
   ]
  },
  {
   "cell_type": "code",
   "execution_count": 723,
   "id": "0d5d17c8",
   "metadata": {
    "ExecuteTime": {
     "end_time": "2022-09-26T01:38:40.959225Z",
     "start_time": "2022-09-26T01:38:40.908505Z"
    }
   },
   "outputs": [],
   "source": [
    "#reset matplotlib settings\n",
    "import matplotlib as mpl\n",
    "sns.reset_orig()\n",
    "mpl.rc_file_defaults()"
   ]
  },
  {
   "cell_type": "code",
   "execution_count": 724,
   "id": "864fb183",
   "metadata": {
    "ExecuteTime": {
     "end_time": "2022-09-26T01:38:41.263983Z",
     "start_time": "2022-09-26T01:38:41.213900Z"
    }
   },
   "outputs": [],
   "source": [
    "from scipy.optimize import dual_annealing"
   ]
  },
  {
   "cell_type": "code",
   "execution_count": 725,
   "id": "a8e5c094",
   "metadata": {
    "ExecuteTime": {
     "end_time": "2022-09-26T01:38:41.546635Z",
     "start_time": "2022-09-26T01:38:41.496069Z"
    }
   },
   "outputs": [],
   "source": [
    "#reset matplotlib\n",
    "mpl.rcParams.update(matplotlib.rcParamsDefault)"
   ]
  },
  {
   "cell_type": "markdown",
   "id": "bcc05f35",
   "metadata": {},
   "source": [
    "# define module"
   ]
  },
  {
   "cell_type": "code",
   "execution_count": 726,
   "id": "88e3d246",
   "metadata": {
    "ExecuteTime": {
     "end_time": "2022-09-26T01:38:43.416614Z",
     "start_time": "2022-09-26T01:38:43.359959Z"
    }
   },
   "outputs": [],
   "source": [
    "def comp_mean_bootstrap_uncertainty(x,num_samples=1000):\n",
    "    \"\"\"\n",
    "    Example Usage:\n",
    "meanx,Delta_meanx,num_obs,p_normal=comp_mean_bootstrap_uncertainty(minlifetime_values)\n",
    "printing=True\n",
    "if printing:\n",
    "    print(f\"mean: {meanx:.4f} +/- {Delta_meanx:.4f} (N={num_obs}, {p_normal=:.4f})\")\n",
    "    \"\"\"\n",
    "    meanx = np.mean(x)\n",
    "    Delta_meanx,p_normal=bootstrap_95CI_Delta_mean(x,num_samples=num_samples)\n",
    "    num_obs=x.shape[0]\n",
    "    return meanx,Delta_meanx,num_obs,p_normal\n",
    "\n",
    "\n",
    "#TODO: copy to lib.model\n",
    "def comp_square_error_msr_aff_osc(x,*args):\n",
    "    \"\"\"phase is in radians. period is in milliseconds.  a0,a1 are in cm^2/s.\n",
    "\n",
    "Example Usage:\n",
    "x0=a0,a1,period,phase\n",
    "args=t_values,msr_values,D\n",
    "square_error=comp_square_error_msr_aff_osc(x0,*args)\n",
    "rmse=np.sqrt(square_error/t_values.shape[0])\n",
    "print(f\"{rmse=}\")\n",
    "    \"\"\"\n",
    "    a0,a1,period,phase=x\n",
    "    t_values,msr_values,D=args\n",
    "    omega=2*np.pi/period*1e3 #Hz bc period is in ms\n",
    "    msr_values_affoscillatory=4*((2*D+a0)*t_values+(a1/omega)*(np.sin(omega*t_values+phase)-np.sin(phase)))\n",
    "    square_error_msr=np.sum((msr_values_affoscillatory-msr_values)**2)\n",
    "    return square_error_msr\n",
    "\n",
    "def anneal_msr_fit(t_values,msr_values,D,\n",
    "                   bounds = ((0, 100), (0, 100), (50, 300), (-3.15,3.15)),\n",
    "                   maxiter=1000,\n",
    "                   seed=42,\n",
    "                   no_local_search=True,\n",
    "                   **kwargs):\n",
    "    \"\"\"returns fit of MSR(t') to the affine oscillatory particle model.\n",
    "    if no_local_search=True, simulated annealing is used.\n",
    "    if no_local_search=False, dual annealing is used.\n",
    "    kwargs are passed to scipy.optimize.dual_annealing\n",
    "    bounds gives the upper/lower bounds to parameter values a0 (cm^2/s), a1 (cm^2/s), period (ms), and phase (radians), respectively.\n",
    "\n",
    "    Example Usage:\n",
    "res = anneal_msr_fit(t_values,msr_values,D,\n",
    "                   bounds = ((0, 100), (0, 100), (50, 300), (-3.15,3.15)),\n",
    "                   maxiter=1000,seed=42, no_local_search=True)#,**kwargs)\n",
    "    \"\"\"\n",
    "    # input: t_values, msr_values, D, Gamma\n",
    "    # output: a0,a1,period,phase,rmse,alinear\n",
    "    args=t_values,msr_values,D\n",
    "    # np.random.seed(42)   # seed to allow replication.\n",
    "    res = dual_annealing(\n",
    "        comp_square_error_msr_aff_osc,\n",
    "        bounds=bounds,\n",
    "        args=args,\n",
    "        maxiter=maxiter,\n",
    "        seed=seed,\n",
    "        no_local_search=no_local_search,**kwargs)\n",
    "    return res\n",
    "\n",
    "def comp_alinear(a0,a1,period,Gamma,phase):\n",
    "    \"\"\"computes the effective attraction coefficient of the linear particle model.\n",
    "    a0,a1 are in units of alinear. \n",
    "    period is in units of the mean minimum lifetime, Gamma. \n",
    "    phase is in units of radians.\n",
    "    \n",
    "    Example Usage:\n",
    "alinear = comp_alinear(a0,a1,period,Gamma,phase)\n",
    "    \"\"\"\n",
    "    omega = 2*np.pi/period\n",
    "    z = Gamma*omega\n",
    "    alinear=a0 + a1*(np.cos(phase)-z*np.sin(phase))/(1 + z**2)\n",
    "    return alinear"
   ]
  },
  {
   "cell_type": "code",
   "execution_count": 727,
   "id": "cdc8b243",
   "metadata": {
    "ExecuteTime": {
     "end_time": "2022-09-26T01:38:43.500262Z",
     "start_time": "2022-09-26T01:38:43.444959Z"
    }
   },
   "outputs": [],
   "source": [
    "def get_angle_plot(line1, line2, offset = 1, color = None, origin = [0,0], len_x_axis = 1, len_y_axis = 1):\n",
    "\n",
    "    l1xy = line1.get_xydata()\n",
    "\n",
    "    # Angle between line1 and x-axis\n",
    "    slope1 = (l1xy[1][1] - l1xy[0][1]) / float(l1xy[1][0] - l1xy[0][0])\n",
    "    angle1 = abs(math.degrees(math.atan(slope1))) # Taking only the positive angle\n",
    "\n",
    "    l2xy = line2.get_xydata()\n",
    "\n",
    "    # Angle between line2 and x-axis\n",
    "    slope2 = (l2xy[1][1] - l2xy[0][1]) / float(l2xy[1][0] - l2xy[0][0])\n",
    "    angle2 = abs(math.degrees(math.atan(slope2)))\n",
    "\n",
    "    theta1 = min(angle1, angle2)\n",
    "    theta2 = max(angle1, angle2)\n",
    "\n",
    "    angle = theta2 - theta1\n",
    "\n",
    "    if color is None:\n",
    "        color = line1.get_color() # Uses the color of line 1 if color parameter is not passed.\n",
    "\n",
    "    return Arc(origin, len_x_axis*offset, len_y_axis*offset, 0, theta1, theta2, color=color, label = str(angle)+u\"\\u00b0\")\n",
    "\n",
    "def get_angle_text(angle_plot):\n",
    "    angle = angle_plot.get_label()[:-1] # Excluding the degree symbol\n",
    "    angle = \"%0.2f\"%float(angle)+u\"\\u00b0\" # Display angle upto 2 decimal places\n",
    "\n",
    "    #get the vertices of the angle arc\n",
    "    vertices = angle_plot.get_verts()\n",
    "\n",
    "    #get the midpoint of the arc extremes\n",
    "    x_width = (vertices[0][0] + vertices[-1][0]) / 2.0\n",
    "    y_width = (vertices[0][1] + vertices[-1][1]) / 2.0\n",
    "    separation_radius = max(x_width/2.0, y_width/2.0)\n",
    "    return [ x_width + separation_radius, y_width + separation_radius, angle]       "
   ]
  },
  {
   "cell_type": "code",
   "execution_count": 1107,
   "id": "4337344f",
   "metadata": {
    "ExecuteTime": {
     "end_time": "2022-09-26T19:20:41.914650Z",
     "start_time": "2022-09-26T19:20:41.786859Z"
    }
   },
   "outputs": [],
   "source": [
    "#DONE: dev this to add legend\n",
    "#TODO: move to lib.viewer with LegendPlot\n",
    "def AddLegend(ax=None,xy = (1.04,1.04),fontsize=15,loc='upper left',frameon=False,**kwargs):\n",
    "    \"\"\"AddLegend adds a legend to a matplotlib plot.\n",
    "    \n",
    "    Example Usage:\n",
    "ax = AddLegend()#ax=None,xy = (1.04,1.04),fontsize=15,loc='upper left',frameon=False,**kwargs)\n",
    "\n",
    "    Example Usage:\n",
    "#format_plot\n",
    "format_plot(xlabel='n',ylabel='Probability')\n",
    "ax = AddLegend(ax,fontsize=fontsize-3,xy = (0.96,0.96), loc='upper right',frameon=False)#,**kwargs)\n",
    "    \"\"\"\n",
    "    if ax is None:\n",
    "        ax = plt.gca()\n",
    "    return ax.legend(fontsize=fontsize,loc=loc, bbox_to_anchor = xy, frameon=frameon, **kwargs)\n"
   ]
  },
  {
   "cell_type": "code",
   "execution_count": 728,
   "id": "cbafb748",
   "metadata": {
    "ExecuteTime": {
     "end_time": "2022-09-26T01:38:43.629827Z",
     "start_time": "2022-09-26T01:38:43.575079Z"
    }
   },
   "outputs": [],
   "source": [
    "def fit_msr_oscillatory(x_values,y_values,max_tdeath,\n",
    "                        D=0., #cm^2/s\n",
    "                        tscale=1e-3, #s per ms\n",
    "                        maxiter=10000,\n",
    "                        bounds = ((0, 100), (0, 100), (50, 300), (-3.15,3.15)),\n",
    "                        seed=42, \n",
    "                        no_local_search=True,\n",
    "                        printing=True,\n",
    "                        **kwargs):\n",
    "    \"\"\"inputed xy values correspond to tdeath,msd, respectively.\n",
    "    bounds is the bounding box in the linear basis of (a0,a1,period,phase), respectively.\n",
    "    kwargs are passed to anneal_msr_fit directly.\n",
    "    \n",
    "    Example Usage: print fit of oscillatory particle model to full\n",
    "a0,a1,period,phase,rmse = fit_msr_oscillatory(x_values,y_values,max_tdeath,\n",
    "                                    D=0.,maxiter=10000,printing=True)#,**kwargs)\n",
    "dict_fit=dict(a0=a0,a1=a1,period=period,phase=phase,rmse=rmse)\n",
    "print_dict(dict_fit)\n",
    "    \"\"\"\n",
    "    boo=x_values<max_tdeath\n",
    "    t_values=x_values[boo].copy()*tscale\n",
    "    msr_values=y_values[boo].copy() \n",
    "    msr_values-= np.min(msr_values) #corrects for aliasing\n",
    "    if printing:\n",
    "        print(f\"performing simulated annealing with {D=:.0f} fixed (num. epochs: {maxiter})...\")\n",
    "    res = anneal_msr_fit(t_values,msr_values,D,\n",
    "                       bounds = bounds,\n",
    "                       maxiter=maxiter,seed=seed, no_local_search=no_local_search,**kwargs)\n",
    "    rmse= np.sqrt(res.fun/t_values.shape[0])\n",
    "    a0,a1,period,phase=res.x\n",
    "    if printing:\n",
    "        print(f\"simulated annealing fit: {a0=:.4f}, {a1=:.4f}, {period=:.4f}, {phase=:.4f} --> {rmse=:.4f} cm^2\")\n",
    "    rmse= np.sqrt(res.fun/t_values.shape[0])\n",
    "    return a0,a1,period,phase,rmse"
   ]
  },
  {
   "cell_type": "code",
   "execution_count": 1046,
   "id": "bcbcd168",
   "metadata": {
    "ExecuteTime": {
     "end_time": "2022-09-26T18:50:32.827638Z",
     "start_time": "2022-09-26T18:50:32.774953Z"
    },
    "code_folding": []
   },
   "outputs": [],
   "source": [
    "def comp_powerlaw_intersection(Mp,nup,Mm,num,xv=None,use_next=False,**kwargs):\n",
    "    \"\"\"\n",
    "    Example Usage:\n",
    "xv = np.arange(0.02, 1,0.01)\n",
    "qstar,wstar = comp_powerlaw_intersection(Mp,nup,Mm,num,xv=xv)\n",
    "    \"\"\"\n",
    "    if xv is None:\n",
    "        xv = np.arange(0.02, 1,0.01)\n",
    "    # evaluate powerlaw fits of birth rates wjr\n",
    "    yv_birth = Mp*xv**nup\n",
    "    yv_death = Mm*xv**num\n",
    "\n",
    "    #compute the intersection point for both of the full models\n",
    "    # index = np.argmin(np.log(yv_birth/yv_death)**2)\n",
    "    index = np.argmin(np.exp(np.log(yv_birth/yv_death)**2))\n",
    "    if use_next:\n",
    "        index+=1\n",
    "    qstar = xv[index]\n",
    "    wstar = yv_birth[index]\n",
    "    return qstar,wstar"
   ]
  },
  {
   "cell_type": "code",
   "execution_count": 1082,
   "id": "a38a7262",
   "metadata": {
    "ExecuteTime": {
     "end_time": "2022-09-26T19:00:45.564472Z",
     "start_time": "2022-09-26T19:00:45.509776Z"
    }
   },
   "outputs": [],
   "source": [
    "def get_comp_W(A,nu,M):\n",
    "    \"\"\"\n",
    "    Example Usage:\n",
    "comp_Wp = get_comp_W(A,nup,Mp)\n",
    "comp_Wm = get_comp_W(A,num,Mm)\n",
    "    \"\"\"\n",
    "    MA = M*A   \n",
    "    def comp_W(n):\n",
    "        return MA * (n/A) **nu\n",
    "    return comp_W\n",
    "\n",
    "def comp_quasistatic_distrib_paired_bdrates(comp_Wm,comp_Wp,num_iter=20,freq_prev=1.,**kwargs):\n",
    "    \"\"\"\n",
    "    Parameters:\n",
    "    - comp_Wm,comp_Wp: returned by get_comp_W\n",
    "    - num_iter: max number of particles considered divided by two.\n",
    "    - freq_prev: arbitrary postive value for the frequency of base case.\n",
    "    \n",
    "    Example Usage:\n",
    "comp_Wp = get_comp_W(A,nup,Mp)\n",
    "comp_Wm = get_comp_W(A,num,Mm)\n",
    "n_qs,prob_qs = comp_quasistatic_distrib_paired_bdrates(comp_Wm,comp_Wp,num_iter=20)\n",
    "    \"\"\"\n",
    "    #base case\n",
    "    freq_cur = ((comp_Wm(2)+comp_Wp(2))/comp_Wm(4))*freq_prev\n",
    "    n_lst=[2,4]\n",
    "    freq_lst=[freq_prev,freq_cur]\n",
    "\n",
    "    #next case\n",
    "    n=4 #current number of particles\n",
    "    for step in range(num_iter-2):\n",
    "        freq_next = (comp_Wp(n) + comp_Wm(n))*freq_cur - comp_Wp(n-2)*freq_prev\n",
    "        freq_next /= comp_Wm(n+2) \n",
    "        #update next to current\n",
    "        n+=2\n",
    "        freq_prev = freq_cur\n",
    "        freq_cur  = freq_next\n",
    "        #record\n",
    "        n_lst.append(n)\n",
    "        freq_lst.append(freq_cur)\n",
    "        #print(f\"{n=}: {freq_cur=:.4f}\")\n",
    "\n",
    "    n_qs = np.array(n_lst)\n",
    "    prob_qs = np.array(freq_lst)\n",
    "    #normalize the quasistationary distribution\n",
    "    prob_qs /=np.sum(prob_qs)\n",
    "    return n_qs,prob_qs"
   ]
  },
  {
   "cell_type": "code",
   "execution_count": 1081,
   "id": "3de4ecb9",
   "metadata": {
    "ExecuteTime": {
     "end_time": "2022-09-26T19:00:23.111771Z",
     "start_time": "2022-09-26T19:00:23.055198Z"
    }
   },
   "outputs": [],
   "source": [
    "#TODO: move to models\n",
    "#DONE: implement each action variables\n",
    "def get_phi(comp_Wm,comp_Wp):\n",
    "    \"\"\"\n",
    "    \n",
    "    Example Usage:\n",
    "phi = get_phi(comp_Wm,comp_Wp)\n",
    "    \"\"\"\n",
    "    def phi(k):\n",
    "        product=1.\n",
    "        for i in range(int(k/2)):\n",
    "            #print(f\"{k=}: {i=}  <-- does that look reasonable?\")\n",
    "            #i start with zero and end with int(k/2)-1. ==> anwswer: yes.\n",
    "            ii=i+1 #correct for 0 indexing\n",
    "#             product *= comp_Wm(2*ii) + comp_Wp(2*ii) #A\n",
    "#             product *= comp_Wm(2*ii)                 #B\n",
    "            product *= comp_Wm(2*ii)                 #C\n",
    "#             product *= comp_Wp(2*ii)                 #D\n",
    "#             product /= comp_Wp(2*ii)                 #A\n",
    "#             product /= comp_Wm(2*ii) + comp_Wp(2*ii) #B\n",
    "            product /= comp_Wp(2*ii)                 #C\n",
    "#             product /= comp_Wm(2*ii) + comp_Wp(2*ii) #D\n",
    "        return product\n",
    "    return phi\n",
    "\n",
    "#DONE: dev map from eval_tau_expression to eval_tau\n",
    "def get_eval_tau(eval_tau_expression):\n",
    "    def eval_tau(n_qs, prob_qs, phi, comp_Wm, comp_Wp, printing=True,**kwargs):\n",
    "        \"\"\"\n",
    "        Example Usage:\n",
    "phi = get_phi(comp_Wm,comp_Wp)\n",
    "eval_tau= get_eval_tau(eval_tau_expression)\n",
    "tau = eval_tau(n_qs, prob_qs, phi, comp_Wm, comp_Wp, printing=True,**kwargs)\n",
    "        \"\"\"\n",
    "        #evaluate tau_qs\n",
    "        num_vals=n_qs.shape[0]\n",
    "        tau_qs=np.zeros(num_vals)\n",
    "#         maxinf_num_inner_sum = n_qs[-1]\n",
    "        maxinf_num_inner_sum = int(n_qs[-1]/2)\n",
    "        for i,n in enumerate(n_qs):\n",
    "            n_over_2 = int(n/2)\n",
    "            assert n_over_2<=maxinf_num_inner_sum#\n",
    "            tau_qs[i]=eval_tau_expression(n_over_2 ,phi, comp_Wm, comp_Wp, \n",
    "                                          maxinf_num_inner_sum=maxinf_num_inner_sum, \n",
    "                                          printing=printing)\n",
    "        #average tau_qs over n_qs,prob_qs\n",
    "        tau = np.sum(tau_qs*prob_qs)\n",
    "        #does nothing for properly normalized qs\n",
    "        tau/= np.sum(prob_qs)\n",
    "        return tau\n",
    "    return eval_tau\n",
    "\n",
    "#DONE: implement the hypotheses\n",
    "def eval_tau_expression(n_over_2, phi, comp_Wm, comp_Wp, maxinf_num_inner_sum=20,printing=True, **kwargs):\n",
    "    \"\"\"compute mean first passage time conditioned on initial number of particles.\n",
    "    phi, comp_Wm, comp_Wp evaluate to the action variable, death rate, and birth rate, respectively. \n",
    "    \n",
    "    Example Usage:\n",
    "n_over_2 = int(np.floor(n/2))\n",
    "tau = eval_tau_expression(n_over_2,phi, comp_Wm, comp_Wp, maxinf_num_inner_sum=20)\n",
    "    \"\"\"\n",
    "    assert n_over_2<=maxinf_num_inner_sum#\n",
    "    outer_sum=0.\n",
    "    for k in range(n_over_2):\n",
    "        inner_sum=0.\n",
    "        for j in range(k,maxinf_num_inner_sum):\n",
    "            jj = j+1 #correct for 1 indexing\n",
    "            summand = 1. \n",
    "            summand/= phi(2*jj)*comp_Wp(2*jj)  #1\n",
    "            #summand/= phi(2*jj)*comp_Wm(2*(jj-1))  #2\n",
    "            #print(f\"{k=}: {j=}: {summand=}\\r\")\n",
    "            inner_sum += summand\n",
    "        inner_sum *= phi(2*(k-1)) \n",
    "        outer_sum += inner_sum\n",
    "        if printing:\n",
    "            print(f\"{k=}: {j=}: {outer_sum=:.4f} from {inner_sum=:.4f}\")\n",
    "            #print(f\"{k=}: {j=}: {outer_sum=:.4f} from {inner_sum=:.4f}\\r\")\n",
    "    return outer_sum\n"
   ]
  },
  {
   "cell_type": "code",
   "execution_count": 1061,
   "id": "1da2adc1",
   "metadata": {
    "ExecuteTime": {
     "end_time": "2022-09-26T18:55:40.822337Z",
     "start_time": "2022-09-26T18:55:40.771697Z"
    }
   },
   "outputs": [],
   "source": [
    "#TODO: move to measures\n",
    "def print_statistical_tests(err_values,printing=True):\n",
    "    \"\"\"print_statistical_tests prints statistical tests \n",
    "    and then returns a dictionary of the p-values.\n",
    "    \n",
    "    err_values is a 1D numpy.array instance \n",
    "    with the hypothetical expected value substracted \n",
    "    from repeated observation of that same value.\n",
    "\n",
    "    Example Usage:\n",
    "dict_ptests = print_statistical_tests(err_values,printing=True)\n",
    "    \"\"\"\n",
    "    num_obs = err_values.shape[0]\n",
    "    statistic, p_wilcoxon = stats.wilcoxon(err_values)\n",
    "    statistic, p_ttest = stats.ttest_1samp(err_values,0.)\n",
    "    statistic, p_normal = stats.normaltest(err_values)\n",
    "    if printing:\n",
    "        print(f\"\"\"statistical tests:\n",
    "        {num_obs=:d}\n",
    "        {p_wilcoxon=:.8f}\n",
    "        {p_ttest=:.8f}\n",
    "        {p_normal=:.8f}\n",
    "        \"\"\")\n",
    "    dict_ptests = dict(\n",
    "        num_obs=num_obs,\n",
    "        p_wilcoxon=p_wilcoxon,\n",
    "        p_ttest=p_ttest,\n",
    "        p_normal=p_normal)\n",
    "    return dict_ptests"
   ]
  },
  {
   "cell_type": "markdown",
   "id": "cc5649b0",
   "metadata": {},
   "source": [
    "# plot msr fits of the oscillatory particle model to that of the full model"
   ]
  },
  {
   "cell_type": "code",
   "execution_count": 674,
   "id": "24ef604a",
   "metadata": {
    "ExecuteTime": {
     "end_time": "2022-09-26T00:23:17.687948Z",
     "start_time": "2022-09-26T00:23:17.641250Z"
    }
   },
   "outputs": [],
   "source": [
    "#recall results from tables in the main mansucript\n",
    "wjr=recall_powerlaw_fits_to_full_models()\n",
    "\n",
    "input_fn=f\"{nb_dir}/data/osg_output/run_17_all_powerlaw_fits.csv\"\n",
    "input_fn_dict={'vectorsummed':input_fn,'neighboronly':input_fn}\n",
    "\n",
    "# interp=recall_particle_model_interp(input_fn_dict=input_fn_dict)\n",
    "# a_hat_FK, D_hat_FK, a_hat_FK_long, a_hat_FK_vlong, a_hat_LR, D_hat_LR, a_hat_LR_long=recall_particle_parameter_measurements()"
   ]
  },
  {
   "cell_type": "code",
   "execution_count": 675,
   "id": "11cec627",
   "metadata": {
    "ExecuteTime": {
     "end_time": "2022-09-26T00:23:17.748245Z",
     "start_time": "2022-09-26T00:23:17.691112Z"
    }
   },
   "outputs": [],
   "source": [
    "# # #FK model trajectories\n",
    "# # #per 005\n",
    "# # annihil_range_dir_fk = \"/Users/timothytyree/Documents/GitHub/care/notebooks/Data/from_wjr/positions_fk/200x200/tippos_per_c_005_annihilation_range_timeseries.pkl\"\n",
    "# # creation_range_dir_fk = \"/Users/timothytyree/Documents/GitHub/care/notebooks/Data/from_wjr/positions_fk/200x200/tippos_per_c_005_creation_range_timeseries.pkl\" # 79 trials\n",
    "# # DT = 5e-3 # s / frame\n",
    "# # per 001\n",
    "# annihil_range_dir_fk = \"/Users/timothytyree/Documents/GitHub/care/notebooks/Data/from_wjr/positions_fk/200x200/tippos_per_c_001_annihilation_range_timeseries.pkl\"\n",
    "# creation_range_dir_fk = \"/Users/timothytyree/Documents/GitHub/care/notebooks/Data/from_wjr/positions_fk/200x200/tippos_per_c_001_creation_range_timeseries.pkl\"\n",
    "# DT = 1e-3 # s / frame\n",
    "# DS = 0.0025 # cm / px\n",
    "# assert os.path.exists(annihil_range_dir_fk)\n",
    "# assert os.path.exists(creation_range_dir_fk)\n",
    "# data_annihil=load_from_pickle(annihil_range_dir_fk)\n",
    "# data_creation=load_from_pickle(creation_range_dir_fk)\n",
    "\n",
    "\n",
    "# df_ranges_annihiln = pd.concat(data_annihil)\n",
    "# df_ranges_creation = pd.concat(data_creation)\n",
    "# print(f\"num. trials in cached annihilation ranges: {df_ranges_annihiln['trial_num'].max()}\")\n",
    "# print(f\"num. trials in cached creation ranges: {df_ranges_creation['trial_num'].max()}\")\n",
    "\n",
    "# # df=df_ranges_annihiln\n",
    "# # num_termination_events = df['trial_num'].max()\n",
    "# # minlifetime_values = df.groupby(by=['trial_num','annihilation_index'])['tdeath'].max().values\n",
    "# # meanx,Delta_meanx,num_obsx,p_normalx=comp_mean_bootstrap_uncertainty(minlifetime_values)\n",
    "# # printing=True\n",
    "# # if printing:\n",
    "# #     print(f\" - mean lifetime: {meanx:.4f} +/- {Delta_meanx:.4f} ms (N={num_obsx}, p_normal: {p_normalx:.4f}) from {num_termination_events} termination events\")\n",
    "    \n",
    "# df=df_ranges_creation\n",
    "# num_termination_events = df['trial_num'].max()\n",
    "# minlifetime_values = df.groupby(by=['trial_num','annihilation_index'])['tdeath'].max().values\n",
    "# meanx,Delta_meanx,num_obsx,p_normalx=comp_mean_bootstrap_uncertainty(minlifetime_values)\n",
    "# printing=True\n",
    "# if printing:\n",
    "#     print(f\"Fenton-Karma: mean lifetime: {meanx:.4f} +/- {Delta_meanx:.4f} ms (N={num_obsx}, p_normal: {p_normalx:.4f}) from {num_termination_events} termination events\")\n",
    "    \n",
    "# minlifetime_values_fk = minlifetime_values.copy()*DT\n",
    "\n",
    "# #LR model trajectories\n",
    "# #per 001\n",
    "# annihil_range_dir_lr = \"/Users/timothytyree/Documents/GitHub/care/notebooks/Data/from_wjr/positions_lr/200x200/tippos_per_001_annihilation_range_timeseries.pkl\"\n",
    "# creation_range_dir_lr = \"/Users/timothytyree/Documents/GitHub/care/notebooks/Data/from_wjr/positions_lr//200x200/tippos_per_001_creation_range_timeseries.pkl\"\n",
    "# DT = 1e-3 # s / frame\n",
    "# DS = 0.0025 # cm / px\n",
    "# assert os.path.exists(annihil_range_dir_lr)\n",
    "# assert os.path.exists(creation_range_dir_lr)\n",
    "# data_annihil=load_from_pickle(annihil_range_dir_lr)\n",
    "# data_creation=load_from_pickle(creation_range_dir_lr)\n",
    "\n",
    "# df_ranges_annihiln = pd.concat(data_annihil)\n",
    "# df_ranges_creation = pd.concat(data_creation)\n",
    "# print(f\"num. trials in cached annihilation ranges: {df_ranges_annihiln['trial_num'].max()}\")\n",
    "# print(f\"num. trials in cached creation ranges: {df_ranges_creation['trial_num'].max()}\")\n",
    "\n",
    "# df=df_ranges_annihiln\n",
    "# num_termination_events = df['trial_num'].max()\n",
    "# minlifetime_values = df.groupby(by=['trial_num','annihilation_index'])['tdeath'].max().values\n",
    "# meanx,Delta_meanx,num_obsx,p_normalx=comp_mean_bootstrap_uncertainty(minlifetime_values)\n",
    "# printing=True\n",
    "# if printing:\n",
    "#     print(f\"Luo-Rudy: mean lifetime: {meanx:.4f} +/- {Delta_meanx:.4f} ms (N={num_obsx}, p_normal: {p_normalx:.4f}) from {num_termination_events} termination events\")\n",
    "    \n",
    "# # df=df_ranges_creation\n",
    "# # num_termination_events = df['trial_num'].max()\n",
    "# # minlifetime_values = df.groupby(by=['trial_num','annihilation_index'])['tdeath'].max().values\n",
    "# # meanx,Delta_meanx,num_obsx,p_normalx=comp_mean_bootstrap_uncertainty(minlifetime_values)\n",
    "# # printing=True\n",
    "# # if printing:\n",
    "# #     print(f\" - mean lifetime: {meanx:.4f} +/- {Delta_meanx:.4f} ms (N={num_obsx}, p_normal: {p_normalx:.4f}) from {num_termination_events} termination events\")\n",
    "    \n",
    "# minlifetime_values_lr = minlifetime_values.copy()*DT\n",
    "\n",
    "# minlifetime_values_fk.shape,minlifetime_values_lr.shape"
   ]
  },
  {
   "cell_type": "code",
   "execution_count": 676,
   "id": "601b7d1f",
   "metadata": {
    "ExecuteTime": {
     "end_time": "2022-09-26T00:23:18.937721Z",
     "start_time": "2022-09-26T00:23:17.750761Z"
    }
   },
   "outputs": [
    {
     "name": "stdout",
     "output_type": "stream",
     "text": [
      "loaded range timeseries from 80 termination events (FK)\n",
      "df_ranges_fk.shape=(3846532, 9)\n",
      "loaded range timeseries from 595 termination events (LR)\n",
      "df_ranges_lr.shape=(524869, 9)\n"
     ]
    }
   ],
   "source": [
    "#load from full models\n",
    "\n",
    "#load msr data for FK model (200x200) (src: wj)\n",
    "msr_dir_bootstrap_fk=f'/Users/timothytyree/Documents/GitHub/care/notebooks/Data/from_wjr/positions_fk/200x200/tippos_per_c_001_annihilation_msr.csv'\n",
    "range_data_dir_fk=f'/Users/timothytyree/Documents/GitHub/care/notebooks/Data/from_wjr/positions_fk/200x200/tippos_per_c_001_annihilation_range_timeseries.pkl'\n",
    "df_msr_fk=pd.read_csv(msr_dir_bootstrap_fk)\n",
    "#load apparent ranges\n",
    "data_lst=load_from_pickle(range_data_dir_fk)\n",
    "num_termination_events_fk = len(data_lst)\n",
    "print(f\"loaded range timeseries from {num_termination_events_fk} termination events (FK)\")\n",
    "df_ranges_fk=pd.concat(data_lst)\n",
    "del data_lst\n",
    "print(f\"{df_ranges_fk.shape=}\")\n",
    "\n",
    "#load msr data for LR model (200x200) (src: wj)\n",
    "msr_dir_bootstrap_lr=f'/Users/timothytyree/Documents/GitHub/care/notebooks/Data/from_wjr/positions_lr/200x200/tippos_per_001_annihilation_msr.csv'\n",
    "range_data_dir_lr=f'/Users/timothytyree/Documents/GitHub/care/notebooks/Data/from_wjr/positions_lr/200x200/tippos_per_001_annihilation_range_timeseries.pkl'\n",
    "df_msr_lr=pd.read_csv(msr_dir_bootstrap_lr)\n",
    "#load apparent ranges\n",
    "data_lst=load_from_pickle(range_data_dir_lr)\n",
    "num_termination_events_lr = len(data_lst)\n",
    "print(f\"loaded range timeseries from {num_termination_events_lr} termination events (LR)\")\n",
    "df_ranges_lr=pd.concat(data_lst)\n",
    "del data_lst\n",
    "print(f\"{df_ranges_lr.shape=}\")"
   ]
  },
  {
   "cell_type": "code",
   "execution_count": 677,
   "id": "cfed2af7",
   "metadata": {
    "ExecuteTime": {
     "end_time": "2022-09-26T00:23:20.432110Z",
     "start_time": "2022-09-26T00:23:18.940719Z"
    }
   },
   "outputs": [
    {
     "name": "stdout",
     "output_type": "stream",
     "text": [
      " - FK: mean lifetime: 105.3196 +/- 1.6589 ms (N=36179, p_normal: 0.9543) from 80 termination events\n",
      " - LR: mean lifetime: 33.3659 +/- 0.6934 ms (N=15273, p_normal: 0.3355) from 595 termination events\n"
     ]
    }
   ],
   "source": [
    "#compute minlifetime_values\n",
    "minlifetime_values_fk = df_ranges_fk.groupby(by=['trial_num','annihilation_index'])['tdeath'].max().values\n",
    "meanx,Delta_meanx,num_obsx,p_normalx=comp_mean_bootstrap_uncertainty(minlifetime_values_fk)\n",
    "printing=True\n",
    "if printing:\n",
    "    print(f\" - FK: mean lifetime: {meanx:.4f} +/- {Delta_meanx:.4f} ms (N={num_obsx}, p_normal: {p_normalx:.4f}) from {num_termination_events_fk} termination events\")\n",
    "    \n",
    "minlifetime_values_lr = df_ranges_lr.groupby(by=['trial_num','annihilation_index'])['tdeath'].max().values\n",
    "meanx,Delta_meanx,num_obsx,p_normalx=comp_mean_bootstrap_uncertainty(minlifetime_values_lr)\n",
    "printing=True\n",
    "if printing:\n",
    "    print(f\" - LR: mean lifetime: {meanx:.4f} +/- {Delta_meanx:.4f} ms (N={num_obsx}, p_normal: {p_normalx:.4f}) from {num_termination_events_lr} termination events\")\n",
    "    "
   ]
  },
  {
   "cell_type": "code",
   "execution_count": 678,
   "id": "d744b24a",
   "metadata": {
    "ExecuteTime": {
     "end_time": "2022-09-26T00:23:22.753396Z",
     "start_time": "2022-09-26T00:23:20.433514Z"
    }
   },
   "outputs": [
    {
     "name": "stdout",
     "output_type": "stream",
     "text": [
      "Fenton-Karma:\n",
      "- mean squared range: 0.4435 +/- 0.0067 cm^2 (N=36179, p_normal: 0.8873)\n",
      "- root mean squared range: 0.6659 +/- 0.0613 cm (N=36179, p_normal: 0.8873)\n",
      "Luo-Rudy:\n",
      "- mean squared range: 0.7396 +/- 0.0158 cm^2 (N=15273, p_normal: 0.2285)\n",
      "- root mean squared range: 0.8600 +/- 0.0730 cm (N=15273, p_normal: 0.2285)\n"
     ]
    }
   ],
   "source": [
    "df = df_ranges_fk.copy()\n",
    "df['SR']=df['R']**2\n",
    "meansqrange_values = df.groupby(by=['trial_num','annihilation_index'])['SR'].mean().values\n",
    "meanSR,Delta_meanSR,num_obsSR,p_normalSR=comp_mean_bootstrap_uncertainty(meansqrange_values)\n",
    "if printing:\n",
    "    print(f\"Fenton-Karma:\")\n",
    "    print(f\"- mean squared range: {meanSR:.4f} +/- {Delta_meanSR:.4f} cm^2 (N={num_obsSR}, p_normal: {p_normalSR:.4f})\")# from {num_termination_events} termination events\")\n",
    "    print(f\"- root mean squared range: {np.sqrt(meanSR):.4f} +/- {0.5*np.sqrt(Delta_meanSR)/np.sqrt(meanSR):.4f} cm (N={num_obsSR}, p_normal: {p_normalSR:.4f})\")# from {num_termination_events} termination events\")\n",
    "dict_SR_fk = dict(meanSR=meanSR,Delta_meanSR=Delta_meanSR,num_obsSR=num_obsSR,p_normalSR=p_normalSR)\n",
    "    \n",
    "df = df_ranges_lr.copy()\n",
    "df['SR']=df['R']**2\n",
    "meansqrange_values = df.groupby(by=['trial_num','annihilation_index'])['SR'].mean().values\n",
    "meanSR,Delta_meanSR,num_obsSR,p_normalSR=comp_mean_bootstrap_uncertainty(meansqrange_values)\n",
    "if printing:\n",
    "    print(f\"Luo-Rudy:\")\n",
    "    print(f\"- mean squared range: {meanSR:.4f} +/- {Delta_meanSR:.4f} cm^2 (N={num_obsSR}, p_normal: {p_normalSR:.4f})\")# from {num_termination_events} termination events\")\n",
    "    print(f\"- root mean squared range: {np.sqrt(meanSR):.4f} +/- {0.5*np.sqrt(Delta_meanSR)/np.sqrt(meanSR):.4f} cm (N={num_obsSR}, p_normal: {p_normalSR:.4f})\")# from {num_termination_events} termination events\")\n",
    "dict_SR_lr = dict(meanSR=meanSR,Delta_meanSR=Delta_meanSR,num_obsSR=num_obsSR,p_normalSR=p_normalSR)\n",
    "    "
   ]
  },
  {
   "cell_type": "code",
   "execution_count": null,
   "id": "b50950d4",
   "metadata": {
    "ExecuteTime": {
     "end_time": "2022-09-25T00:11:28.928253Z",
     "start_time": "2022-09-25T00:11:27.346728Z"
    }
   },
   "outputs": [],
   "source": []
  },
  {
   "cell_type": "code",
   "execution_count": null,
   "id": "6ba0b9c8",
   "metadata": {},
   "outputs": [],
   "source": []
  },
  {
   "cell_type": "code",
   "execution_count": null,
   "id": "370eb70e",
   "metadata": {},
   "outputs": [],
   "source": []
  },
  {
   "cell_type": "code",
   "execution_count": null,
   "id": "757cdb01",
   "metadata": {},
   "outputs": [],
   "source": []
  },
  {
   "cell_type": "code",
   "execution_count": 679,
   "id": "61d1ba01",
   "metadata": {
    "ExecuteTime": {
     "end_time": "2022-09-26T00:23:22.790928Z",
     "start_time": "2022-09-26T00:23:22.754841Z"
    }
   },
   "outputs": [],
   "source": [
    "\n",
    "\n",
    "#TODO: measure \n",
    "# input: df_ranges_fk, df_ranges_lr\n",
    "# output: mean squared distance betwee annihilating particles\n",
    "# - ensemble then time average\n",
    "# - time average then ensemble averaged"
   ]
  },
  {
   "cell_type": "code",
   "execution_count": 680,
   "id": "0120fc41",
   "metadata": {
    "ExecuteTime": {
     "end_time": "2022-09-26T00:23:22.840308Z",
     "start_time": "2022-09-26T00:23:22.792570Z"
    }
   },
   "outputs": [],
   "source": [
    "# bins=np.linspace(10,2500,100)*DT\n",
    "# bins=np.logspace(-2,1,40)\n",
    "bins=np.logspace(-2,1,40)\n",
    "#DONE: compute the histograms\n",
    "barheights_fk,bins_fk = np.histogram(\n",
    "    minlifetime_values_fk*1e-3,\n",
    "    bins=bins,#10,\n",
    "    range=None,\n",
    "    normed=None,\n",
    "    weights=None,\n",
    "    density=True,\n",
    ")\n",
    "x_fk=0.5*(bins_fk[1:]+bins_fk[:-1])\n",
    "\n",
    "barheights_lr,bins_lr = np.histogram(\n",
    "    minlifetime_values_lr*1e-3,\n",
    "    bins=bins[bins<0.45],#10,\n",
    "    range=None,\n",
    "    normed=None,\n",
    "    weights=None,\n",
    "    density=True,\n",
    ")\n",
    "x_lr=0.5*(bins_lr[1:]+bins_lr[:-1])"
   ]
  },
  {
   "cell_type": "code",
   "execution_count": 681,
   "id": "3968626f",
   "metadata": {
    "ExecuteTime": {
     "end_time": "2022-09-26T00:23:23.376763Z",
     "start_time": "2022-09-26T00:23:22.842057Z"
    }
   },
   "outputs": [
    {
     "data": {
      "image/png": "[encoded data removed]",
      "text/plain": [
       "<Figure size 600x400 with 1 Axes>"
      ]
     },
     "metadata": {},
     "output_type": "display_data"
    }
   ],
   "source": [
    "#DONE: compute the minimum lifetimes of particles\n",
    "#TODO: plot the minimum lifetimes of particles\n",
    "lw=2\n",
    "alpha=0.9\n",
    "fontsize=18\n",
    "# use_loglog=True\n",
    "use_loglog=False\n",
    "#check if msd=0 at lagt=0\n",
    "fig,ax=plt.subplots(figsize=(6,4))\n",
    "ax.plot(x_fk,barheights_fk,c='C0',lw=lw+1,alpha=alpha,label='Fenton-Karma')\n",
    "ax.scatter(x_fk,barheights_fk,c='C0',s=8,alpha=alpha/2,zorder=0)\n",
    "boolr=barheights_lr>1e-5\n",
    "ax.plot(x_lr[boolr],barheights_lr[boolr],c='C1',lw=lw,alpha=alpha,label='Luo-Rudy')\n",
    "ax.scatter(x_lr[boolr],barheights_lr[boolr],c='C1',s=8,alpha=alpha/2,zorder=0)\n",
    "\n",
    "# xv1=np.linspace(0.01,0.5,10)\n",
    "# xv2=np.linspace(0.1,5,10)\n",
    "# ax.plot(xv1,dict_fit_lr['M']*xv1+0.,'k-',lw=2,alpha=0.7)\n",
    "# ax.plot(xv2,dict_fit_fk['M']*xv2+0.,'k-',lw=2,alpha=0.7)\n",
    "\n",
    "#format_plot\n",
    "ax.set_yscale('log')\n",
    "ax.set_xlim([0,3.5])\n",
    "ax.set_ylim((11*1.0178650359332904e-05, 80))\n",
    "format_plot(ax=ax,xlabel=r'$\\Gamma$ (s)',ylabel=r'PDF',fontsize=fontsize,use_loglog=use_loglog)\n",
    "ax.tick_params(top=True, right=True,direction='in',which='both')\n",
    "ax.legend(fontsize=fontsize-2,frameon=False)\n",
    "#format_plot\n",
    "plt.show()"
   ]
  },
  {
   "cell_type": "code",
   "execution_count": 682,
   "id": "99d0f6d8",
   "metadata": {
    "ExecuteTime": {
     "end_time": "2022-09-26T00:23:23.438249Z",
     "start_time": "2022-09-26T00:23:23.379737Z"
    }
   },
   "outputs": [],
   "source": [
    "#extract xy values from full\n",
    "x_values_fk=df_msr_fk['tdeath_avg'].values\n",
    "y_values_fk=df_msr_fk['MSR'].values\n",
    "yerr_values_fk=df_msr_fk['Delta_MSR'].values\n",
    "x_values_lr=df_msr_lr['tdeath_avg'].values\n",
    "y_values_lr=df_msr_lr['MSR'].values\n",
    "yerr_values_lr=df_msr_lr['Delta_MSR'].values"
   ]
  },
  {
   "cell_type": "code",
   "execution_count": 683,
   "id": "1f2912c6",
   "metadata": {
    "ExecuteTime": {
     "end_time": "2022-09-26T00:24:52.053559Z",
     "start_time": "2022-09-26T00:23:23.443290Z"
    }
   },
   "outputs": [
    {
     "name": "stdout",
     "output_type": "stream",
     "text": [
      "fixed D=0.0000 cm^2/s.\n",
      "computing simulated annealing fits of oscillatory particle model to the Fenton-Karma model...\n",
      "mean lifetime: 105.3196 +/- 1.6438 ms (N=36179, p_normal: 0.4648) from 36179 observations\n",
      "performing simulated annealing with D=0 fixed (num. epochs: 10000)...\n",
      "simulated annealing fit: a0=1.6362, a1=1.2822, period=115.9413, phase=-0.5415 --> rmse=0.0284 cm^2\n",
      "\tattraction coefficient: a0=1.6362, a1=1.2822, z=5.7076, phase=-0.5415 --> alinear=1.7812 cm^2/s\n",
      "performing fit using simulated annealing with 10X the number of learning rounds...\n",
      "performing simulated annealing with D=0 fixed (num. epochs: 100000)...\n",
      "simulated annealing fit: a0=1.6362, a1=1.2823, period=115.9535, phase=-0.5407 --> rmse=0.0284 cm^2\n",
      "\tattraction coefficient: a0=1.6362, a1=1.2823, z=5.7070, phase=-0.5407 --> alinear=1.7811 cm^2/s\n",
      "a0=1.6361682120621026\n",
      "a1=1.2823348299592112\n",
      "period=115.9534730283433\n",
      "phase=-0.5406748462891398\n",
      "rmse=0.02843378899909942\n",
      "alinear=1.7811283375808102\n",
      "omega=0.054187124741349874\n",
      "z=5.706963594376598\n",
      "Gamma=105.31955001520218\n",
      "Delta_Gamma=1.643830799293005\n",
      "num_obs=36179\n",
      "p_normal=0.4648066381015431\n",
      "\n",
      "computing simulated annealing fits of oscillatory particle model to the Luo-Rudy model...\n",
      "mean lifetime: 33.3659 +/- 0.7133 ms (N=15273, p_normal: 0.4447) from 15273 observations\n",
      "performing simulated annealing with D=0 fixed (num. epochs: 10000)...\n",
      "simulated annealing fit: a0=5.0191, a1=12.1798, period=97.3593, phase=-1.1655 --> rmse=0.0642 cm^2\n",
      "\tattraction coefficient: a0=5.0191, a1=12.1798, z=2.1533, phase=-1.1655 --> alinear=10.1470 cm^2/s\n",
      "performing fit using simulated annealing with 10X the number of learning rounds...\n",
      "performing simulated annealing with D=0 fixed (num. epochs: 100000)...\n"
     ]
    },
    {
     "ename": "KeyboardInterrupt",
     "evalue": "",
     "output_type": "error",
     "traceback": [
      "\u001b[0;31m---------------------------------------------------------------------------\u001b[0m",
      "\u001b[0;31mKeyboardInterrupt\u001b[0m                         Traceback (most recent call last)",
      "\u001b[0;32m/var/folders/0h/p4cbb7yx22jbxm0qb47vhfbh0000gn/T/ipykernel_84280/2602429243.py\u001b[0m in \u001b[0;36m<module>\u001b[0;34m\u001b[0m\n\u001b[1;32m     74\u001b[0m \u001b[0;32mif\u001b[0m \u001b[0mtesting\u001b[0m\u001b[0;34m:\u001b[0m\u001b[0;34m\u001b[0m\u001b[0;34m\u001b[0m\u001b[0m\n\u001b[1;32m     75\u001b[0m     \u001b[0mprint\u001b[0m\u001b[0;34m(\u001b[0m\u001b[0;34mf\"performing fit using simulated annealing with 10X the number of learning rounds...\"\u001b[0m\u001b[0;34m)\u001b[0m\u001b[0;34m\u001b[0m\u001b[0;34m\u001b[0m\u001b[0m\n\u001b[0;32m---> 76\u001b[0;31m     a0,a1,period,phase,rmse = fit_msr_oscillatory(x_values,y_values,max_tdeath,\n\u001b[0m\u001b[1;32m     77\u001b[0m                                         D=0.,maxiter=100000,seed=43,printing=printing)\n\u001b[1;32m     78\u001b[0m     \u001b[0malinear\u001b[0m \u001b[0;34m=\u001b[0m \u001b[0mcomp_alinear\u001b[0m\u001b[0;34m(\u001b[0m\u001b[0ma0\u001b[0m\u001b[0;34m,\u001b[0m\u001b[0ma1\u001b[0m\u001b[0;34m,\u001b[0m\u001b[0mperiod\u001b[0m\u001b[0;34m,\u001b[0m\u001b[0mGamma\u001b[0m\u001b[0;34m,\u001b[0m\u001b[0mphase\u001b[0m\u001b[0;34m)\u001b[0m\u001b[0;34m\u001b[0m\u001b[0;34m\u001b[0m\u001b[0m\n",
      "\u001b[0;32m/var/folders/0h/p4cbb7yx22jbxm0qb47vhfbh0000gn/T/ipykernel_84280/1703021995.py\u001b[0m in \u001b[0;36mfit_msr_oscillatory\u001b[0;34m(x_values, y_values, max_tdeath, D, tscale, maxiter, bounds, seed, no_local_search, printing, **kwargs)\u001b[0m\n\u001b[1;32m     24\u001b[0m     \u001b[0;32mif\u001b[0m \u001b[0mprinting\u001b[0m\u001b[0;34m:\u001b[0m\u001b[0;34m\u001b[0m\u001b[0;34m\u001b[0m\u001b[0m\n\u001b[1;32m     25\u001b[0m         \u001b[0mprint\u001b[0m\u001b[0;34m(\u001b[0m\u001b[0;34mf\"performing simulated annealing with {D=:.0f} fixed (num. epochs: {maxiter})...\"\u001b[0m\u001b[0;34m)\u001b[0m\u001b[0;34m\u001b[0m\u001b[0;34m\u001b[0m\u001b[0m\n\u001b[0;32m---> 26\u001b[0;31m     res = anneal_msr_fit(t_values,msr_values,D,\n\u001b[0m\u001b[1;32m     27\u001b[0m                        \u001b[0mbounds\u001b[0m \u001b[0;34m=\u001b[0m \u001b[0mbounds\u001b[0m\u001b[0;34m,\u001b[0m\u001b[0;34m\u001b[0m\u001b[0;34m\u001b[0m\u001b[0m\n\u001b[1;32m     28\u001b[0m                        maxiter=maxiter,seed=seed, no_local_search=no_local_search,**kwargs)\n",
      "\u001b[0;32m/var/folders/0h/p4cbb7yx22jbxm0qb47vhfbh0000gn/T/ipykernel_84280/1829995916.py\u001b[0m in \u001b[0;36manneal_msr_fit\u001b[0;34m(t_values, msr_values, D, bounds, maxiter, seed, no_local_search, **kwargs)\u001b[0m\n\u001b[1;32m     52\u001b[0m     \u001b[0margs\u001b[0m\u001b[0;34m=\u001b[0m\u001b[0mt_values\u001b[0m\u001b[0;34m,\u001b[0m\u001b[0mmsr_values\u001b[0m\u001b[0;34m,\u001b[0m\u001b[0mD\u001b[0m\u001b[0;34m\u001b[0m\u001b[0;34m\u001b[0m\u001b[0m\n\u001b[1;32m     53\u001b[0m     \u001b[0;31m# np.random.seed(42)   # seed to allow replication.\u001b[0m\u001b[0;34m\u001b[0m\u001b[0;34m\u001b[0m\u001b[0;34m\u001b[0m\u001b[0m\n\u001b[0;32m---> 54\u001b[0;31m     res = dual_annealing(\n\u001b[0m\u001b[1;32m     55\u001b[0m         \u001b[0mcomp_square_error_msr_aff_osc\u001b[0m\u001b[0;34m,\u001b[0m\u001b[0;34m\u001b[0m\u001b[0;34m\u001b[0m\u001b[0m\n\u001b[1;32m     56\u001b[0m         \u001b[0mbounds\u001b[0m\u001b[0;34m=\u001b[0m\u001b[0mbounds\u001b[0m\u001b[0;34m,\u001b[0m\u001b[0;34m\u001b[0m\u001b[0;34m\u001b[0m\u001b[0m\n",
      "\u001b[0;32m~/opt/miniconda3/envs/pyenv/lib/python3.9/site-packages/scipy/optimize/_dual_annealing.py\u001b[0m in \u001b[0;36mdual_annealing\u001b[0;34m(func, bounds, args, maxiter, local_search_options, initial_temp, restart_temp_ratio, visit, accept, maxfun, seed, no_local_search, callback, x0)\u001b[0m\n\u001b[1;32m    673\u001b[0m                 \u001b[0;32mbreak\u001b[0m\u001b[0;34m\u001b[0m\u001b[0;34m\u001b[0m\u001b[0m\n\u001b[1;32m    674\u001b[0m             \u001b[0;31m# starting strategy chain\u001b[0m\u001b[0;34m\u001b[0m\u001b[0;34m\u001b[0m\u001b[0;34m\u001b[0m\u001b[0m\n\u001b[0;32m--> 675\u001b[0;31m             \u001b[0mval\u001b[0m \u001b[0;34m=\u001b[0m \u001b[0mstrategy_chain\u001b[0m\u001b[0;34m.\u001b[0m\u001b[0mrun\u001b[0m\u001b[0;34m(\u001b[0m\u001b[0mi\u001b[0m\u001b[0;34m,\u001b[0m \u001b[0mtemperature\u001b[0m\u001b[0;34m)\u001b[0m\u001b[0;34m\u001b[0m\u001b[0;34m\u001b[0m\u001b[0m\n\u001b[0m\u001b[1;32m    676\u001b[0m             \u001b[0;32mif\u001b[0m \u001b[0mval\u001b[0m \u001b[0;32mis\u001b[0m \u001b[0;32mnot\u001b[0m \u001b[0;32mNone\u001b[0m\u001b[0;34m:\u001b[0m\u001b[0;34m\u001b[0m\u001b[0;34m\u001b[0m\u001b[0m\n\u001b[1;32m    677\u001b[0m                 \u001b[0mmessage\u001b[0m\u001b[0;34m.\u001b[0m\u001b[0mappend\u001b[0m\u001b[0;34m(\u001b[0m\u001b[0mval\u001b[0m\u001b[0;34m)\u001b[0m\u001b[0;34m\u001b[0m\u001b[0;34m\u001b[0m\u001b[0m\n",
      "\u001b[0;32m~/opt/miniconda3/envs/pyenv/lib/python3.9/site-packages/scipy/optimize/_dual_annealing.py\u001b[0m in \u001b[0;36mrun\u001b[0;34m(self, step, temperature)\u001b[0m\n\u001b[1;32m    292\u001b[0m                 \u001b[0;32melse\u001b[0m\u001b[0;34m:\u001b[0m\u001b[0;34m\u001b[0m\u001b[0;34m\u001b[0m\u001b[0m\n\u001b[1;32m    293\u001b[0m                     \u001b[0mself\u001b[0m\u001b[0;34m.\u001b[0m\u001b[0menergy_state_improved\u001b[0m \u001b[0;34m=\u001b[0m \u001b[0;32mFalse\u001b[0m\u001b[0;34m\u001b[0m\u001b[0;34m\u001b[0m\u001b[0m\n\u001b[0;32m--> 294\u001b[0;31m             x_visit = self.visit_dist.visiting(\n\u001b[0m\u001b[1;32m    295\u001b[0m                 self.energy_state.current_location, j, temperature)\n\u001b[1;32m    296\u001b[0m             \u001b[0;31m# Calling the objective function\u001b[0m\u001b[0;34m\u001b[0m\u001b[0;34m\u001b[0m\u001b[0;34m\u001b[0m\u001b[0m\n",
      "\u001b[0;32m~/opt/miniconda3/envs/pyenv/lib/python3.9/site-packages/scipy/optimize/_dual_annealing.py\u001b[0m in \u001b[0;36mvisiting\u001b[0;34m(self, x, step, temperature)\u001b[0m\n\u001b[1;32m     93\u001b[0m             \u001b[0;31m# chain step\u001b[0m\u001b[0;34m\u001b[0m\u001b[0;34m\u001b[0m\u001b[0;34m\u001b[0m\u001b[0m\n\u001b[1;32m     94\u001b[0m             \u001b[0mx_visit\u001b[0m \u001b[0;34m=\u001b[0m \u001b[0mnp\u001b[0m\u001b[0;34m.\u001b[0m\u001b[0mcopy\u001b[0m\u001b[0;34m(\u001b[0m\u001b[0mx\u001b[0m\u001b[0;34m)\u001b[0m\u001b[0;34m\u001b[0m\u001b[0;34m\u001b[0m\u001b[0m\n\u001b[0;32m---> 95\u001b[0;31m             \u001b[0mvisit\u001b[0m \u001b[0;34m=\u001b[0m \u001b[0mself\u001b[0m\u001b[0;34m.\u001b[0m\u001b[0mvisit_fn\u001b[0m\u001b[0;34m(\u001b[0m\u001b[0mtemperature\u001b[0m\u001b[0;34m,\u001b[0m \u001b[0;36m1\u001b[0m\u001b[0;34m)\u001b[0m\u001b[0;34m\u001b[0m\u001b[0;34m\u001b[0m\u001b[0m\n\u001b[0m\u001b[1;32m     96\u001b[0m             \u001b[0;32mif\u001b[0m \u001b[0mvisit\u001b[0m \u001b[0;34m>\u001b[0m \u001b[0mself\u001b[0m\u001b[0;34m.\u001b[0m\u001b[0mTAIL_LIMIT\u001b[0m\u001b[0;34m:\u001b[0m\u001b[0;34m\u001b[0m\u001b[0;34m\u001b[0m\u001b[0m\n\u001b[1;32m     97\u001b[0m                 \u001b[0mvisit\u001b[0m \u001b[0;34m=\u001b[0m \u001b[0mself\u001b[0m\u001b[0;34m.\u001b[0m\u001b[0mTAIL_LIMIT\u001b[0m \u001b[0;34m*\u001b[0m \u001b[0mself\u001b[0m\u001b[0;34m.\u001b[0m\u001b[0mrand_gen\u001b[0m\u001b[0;34m.\u001b[0m\u001b[0muniform\u001b[0m\u001b[0;34m(\u001b[0m\u001b[0;34m)\u001b[0m\u001b[0;34m\u001b[0m\u001b[0;34m\u001b[0m\u001b[0m\n",
      "\u001b[0;32m~/opt/miniconda3/envs/pyenv/lib/python3.9/site-packages/scipy/optimize/_dual_annealing.py\u001b[0m in \u001b[0;36mvisit_fn\u001b[0;34m(self, temperature, dim)\u001b[0m\n\u001b[1;32m    113\u001b[0m         \u001b[0mx\u001b[0m\u001b[0;34m,\u001b[0m \u001b[0my\u001b[0m \u001b[0;34m=\u001b[0m \u001b[0mself\u001b[0m\u001b[0;34m.\u001b[0m\u001b[0mrand_gen\u001b[0m\u001b[0;34m.\u001b[0m\u001b[0mnormal\u001b[0m\u001b[0;34m(\u001b[0m\u001b[0msize\u001b[0m\u001b[0;34m=\u001b[0m\u001b[0;34m(\u001b[0m\u001b[0mdim\u001b[0m\u001b[0;34m,\u001b[0m \u001b[0;36m2\u001b[0m\u001b[0;34m)\u001b[0m\u001b[0;34m)\u001b[0m\u001b[0;34m.\u001b[0m\u001b[0mT\u001b[0m\u001b[0;34m\u001b[0m\u001b[0;34m\u001b[0m\u001b[0m\n\u001b[1;32m    114\u001b[0m \u001b[0;34m\u001b[0m\u001b[0m\n\u001b[0;32m--> 115\u001b[0;31m         \u001b[0mfactor1\u001b[0m \u001b[0;34m=\u001b[0m \u001b[0mnp\u001b[0m\u001b[0;34m.\u001b[0m\u001b[0mexp\u001b[0m\u001b[0;34m(\u001b[0m\u001b[0mnp\u001b[0m\u001b[0;34m.\u001b[0m\u001b[0mlog\u001b[0m\u001b[0;34m(\u001b[0m\u001b[0mtemperature\u001b[0m\u001b[0;34m)\u001b[0m \u001b[0;34m/\u001b[0m \u001b[0;34m(\u001b[0m\u001b[0mself\u001b[0m\u001b[0;34m.\u001b[0m\u001b[0m_visiting_param\u001b[0m \u001b[0;34m-\u001b[0m \u001b[0;36m1.0\u001b[0m\u001b[0;34m)\u001b[0m\u001b[0;34m)\u001b[0m\u001b[0;34m\u001b[0m\u001b[0;34m\u001b[0m\u001b[0m\n\u001b[0m\u001b[1;32m    116\u001b[0m         \u001b[0mfactor4\u001b[0m \u001b[0;34m=\u001b[0m \u001b[0mself\u001b[0m\u001b[0;34m.\u001b[0m\u001b[0m_factor4_p\u001b[0m \u001b[0;34m*\u001b[0m \u001b[0mfactor1\u001b[0m\u001b[0;34m\u001b[0m\u001b[0;34m\u001b[0m\u001b[0m\n\u001b[1;32m    117\u001b[0m \u001b[0;34m\u001b[0m\u001b[0m\n",
      "\u001b[0;31mKeyboardInterrupt\u001b[0m: "
     ]
    }
   ],
   "source": [
    "##################################################################\n",
    "# compute simulated annealing fits of oscillatory particle model\n",
    "##################################################################\n",
    "D=0.\n",
    "print(f\"fixed {D=:.4f} cm^2/s.\")\n",
    "print(f\"computing simulated annealing fits of oscillatory particle model to the Fenton-Karma model...\")\n",
    "# select msr from the full models for fitting\n",
    "x_values=x_values_fk.copy()\n",
    "y_values=y_values_fk.copy()\n",
    "minlifetime_values=minlifetime_values_fk.copy()\n",
    "\n",
    "#### \n",
    "\n",
    "# max_tdeath=100. #ms #for lr\n",
    "max_tdeath=300. #ms #for fk\n",
    "meanx,Delta_meanx,num_obsx,p_normalx=comp_mean_bootstrap_uncertainty(minlifetime_values)\n",
    "Gamma=float(meanx)\n",
    "# testing=False \n",
    "testing=True # True adds ~60 - 6.27 seconds to runtime\n",
    "if printing:\n",
    "    print(f\"mean lifetime: {meanx:.4f} +/- {Delta_meanx:.4f} ms (N={num_obsx}, p_normal: {p_normalx:.4f}) from {minlifetime_values.shape[0]} observations\")\n",
    "#fit using simulated annealing\n",
    "a0,a1,period,phase,rmse = fit_msr_oscillatory(x_values,y_values,max_tdeath,\n",
    "                                    D=0.,maxiter=10000,seed=42,printing=printing)\n",
    "alinear = comp_alinear(a0,a1,period,Gamma,phase)\n",
    "omega = 2*np.pi/period\n",
    "z = Gamma*omega\n",
    "print(f\"\\tattraction coefficient: {a0=:.4f}, {a1=:.4f}, {z=:.4f}, {phase=:.4f} --> {alinear=:.4f} cm^2/s\")\n",
    "dict_fit=dict(a0=a0,a1=a1,period=period,phase=phase,rmse=rmse,\n",
    "              alinear=alinear,omega=omega,z=z,Gamma=Gamma, Delta_Gamma=Delta_meanx, num_obs=num_obsx, p_normal=p_normalx)\n",
    "if not testing:\n",
    "    print_dict(dict_fit)\n",
    "\n",
    "if testing:\n",
    "    print(f\"performing fit using simulated annealing with 10X the number of learning rounds...\")\n",
    "    a0,a1,period,phase,rmse = fit_msr_oscillatory(x_values,y_values,max_tdeath,\n",
    "                                        D=0.,maxiter=100000,seed=43,printing=printing)\n",
    "    alinear = comp_alinear(a0,a1,period,Gamma,phase)\n",
    "    omega = 2*np.pi/period\n",
    "    z = Gamma*omega\n",
    "    print(f\"\\tattraction coefficient: {a0=:.4f}, {a1=:.4f}, {z=:.4f}, {phase=:.4f} --> {alinear=:.4f} cm^2/s\")\n",
    "    dict_fit=dict(a0=a0,a1=a1,period=period,phase=phase,rmse=rmse,\n",
    "                  alinear=alinear,omega=omega,z=z,Gamma=Gamma, Delta_Gamma=Delta_meanx, num_obs=num_obsx, p_normal=p_normalx)\n",
    "    print_dict(dict_fit)    \n",
    "    \n",
    "dict_osc_fit_fk=dict(dict_fit)\n",
    "\n",
    "#### \n",
    "print(f\"\\ncomputing simulated annealing fits of oscillatory particle model to the Luo-Rudy model...\")\n",
    "# select msr from the full models for fitting\n",
    "x_values=x_values_lr.copy()\n",
    "y_values=y_values_lr.copy()\n",
    "minlifetime_values=minlifetime_values_lr.copy()\n",
    "max_tdeath=100. #ms #for lr\n",
    "# max_tdeath=300. #ms #for fk\n",
    "meanx,Delta_meanx,num_obsx,p_normalx=comp_mean_bootstrap_uncertainty(minlifetime_values)\n",
    "Gamma=float(meanx)\n",
    "# testing=False \n",
    "# testing=True # True adds ~60 - 6.27 seconds to runtime\n",
    "if printing:\n",
    "    print(f\"mean lifetime: {meanx:.4f} +/- {Delta_meanx:.4f} ms (N={num_obsx}, p_normal: {p_normalx:.4f}) from {minlifetime_values.shape[0]} observations\")\n",
    "#fit using simulated annealing\n",
    "a0,a1,period,phase,rmse = fit_msr_oscillatory(x_values,y_values,max_tdeath,\n",
    "                                    D=0.,maxiter=10000,seed=42,printing=printing)\n",
    "alinear = comp_alinear(a0,a1,period,Gamma,phase)\n",
    "omega = 2*np.pi/period\n",
    "z = Gamma*omega\n",
    "print(f\"\\tattraction coefficient: {a0=:.4f}, {a1=:.4f}, {z=:.4f}, {phase=:.4f} --> {alinear=:.4f} cm^2/s\")\n",
    "dict_fit=dict(a0=a0,a1=a1,period=period,phase=phase,rmse=rmse,\n",
    "              alinear=alinear,omega=omega,z=z,Gamma=Gamma, Delta_Gamma=Delta_meanx, num_obs=num_obsx, p_normal=p_normalx)\n",
    "if not testing:\n",
    "    print_dict(dict_fit)\n",
    "\n",
    "if testing:\n",
    "    print(f\"performing fit using simulated annealing with 10X the number of learning rounds...\")\n",
    "    a0,a1,period,phase,rmse = fit_msr_oscillatory(x_values,y_values,max_tdeath,\n",
    "                                        D=0.,maxiter=100000,seed=43,printing=printing)\n",
    "    alinear = comp_alinear(a0,a1,period,Gamma,phase)\n",
    "    omega = 2*np.pi/period\n",
    "    z = Gamma*omega\n",
    "    print(f\"\\tattraction coefficient: {a0=:.4f}, {a1=:.4f}, {z=:.4f}, {phase=:.4f} --> {alinear=:.4f} cm^2/s\")\n",
    "    dict_fit=dict(a0=a0,a1=a1,period=period,phase=phase,rmse=rmse,\n",
    "                  alinear=alinear,omega=omega,z=z,Gamma=Gamma, Delta_Gamma=Delta_meanx, num_obs=num_obsx, p_normal=p_normalx)\n",
    "    print_dict(dict_fit)    \n",
    "\n",
    "dict_osc_fit_lr=dict(dict_fit)"
   ]
  },
  {
   "cell_type": "code",
   "execution_count": null,
   "id": "1dcab548",
   "metadata": {
    "ExecuteTime": {
     "end_time": "2022-09-26T00:24:52.066375Z",
     "start_time": "2022-09-26T00:24:52.066319Z"
    }
   },
   "outputs": [],
   "source": [
    "# #nota bene: the contents of fit_msr_oscillatory:\n",
    "# maxiter=100000\n",
    "# print(f\"num. epochs: {maxiter}\")\n",
    "# res = anneal_msr_fit(t_values,msr_values,D,\n",
    "#                    bounds = ((0, 100), (0, 100), (50, 300), (-3.15,3.15)),\n",
    "#                    maxiter=maxiter,seed=42+1, no_local_search=True)#,**kwargs)\n",
    "# rmse= np.sqrt(res.fun/t_values.shape[0])\n",
    "# a0,a1,period,phase=res.x\n",
    "# print(f\"simulated annealing fit: {a0=:.4f}, {a1=:.4f}, {period=:.4f}, {phase=:.4f} --> {rmse=:.4f} cm^2\")\n"
   ]
  },
  {
   "cell_type": "code",
   "execution_count": null,
   "id": "53943f3a",
   "metadata": {
    "ExecuteTime": {
     "end_time": "2022-09-21T18:22:48.530144Z",
     "start_time": "2022-09-21T18:22:48.394591Z"
    }
   },
   "outputs": [],
   "source": []
  },
  {
   "cell_type": "code",
   "execution_count": null,
   "id": "43c09929",
   "metadata": {
    "ExecuteTime": {
     "end_time": "2022-09-26T00:24:52.068985Z",
     "start_time": "2022-09-26T00:24:52.068964Z"
    }
   },
   "outputs": [],
   "source": [
    "##################################################################################################\n",
    "# compute the direct simulation of the oscillatory particle model under these parameter settings\n",
    "##################################################################################################"
   ]
  },
  {
   "cell_type": "code",
   "execution_count": null,
   "id": "16f2c1b8",
   "metadata": {
    "ExecuteTime": {
     "end_time": "2022-09-26T00:24:52.071184Z",
     "start_time": "2022-09-26T00:24:52.071141Z"
    }
   },
   "outputs": [],
   "source": [
    "print(f\"integrating oscillatory stochastic differential equation directly (estimated run time ~45 seconds)...\")\n",
    "a=dict_osc_fit_fk['a1']\n",
    "D=dict_osc_fit_fk['a0']/2\n",
    "initial_phase_orientation=dict_osc_fit_fk['phase']\n",
    "period_of_oscillation=dict_osc_fit_fk['period']\n",
    "#compute the oscillatory particle model\n",
    "kwargs_fk=dict(a=a, D=D, initial_phase_orientation=initial_phase_orientation, period_of_oscillation=period_of_oscillation, num_pairs=1000, rstart=0.0001, Dt=1e-05, \n",
    "               xmin=0, xmax=0.1, ymin=0, ymax=0.6, alpha=0.7, show_inputted_a=False, show_title=False, show_legend=True, use_xylim=True, show_label_black_dotted=False, printing=False, plotting=True)#, c='C3', label='Simulation')\n",
    "dict_fit_fk=visualize_model_oscillatory_reversed(ax=None,c='C0',label='Simulation of Osc. (FK)', **kwargs_fk)\n",
    "plt.close()\n",
    "print(*dict_fit_fk)"
   ]
  },
  {
   "cell_type": "code",
   "execution_count": null,
   "id": "944ba8c8",
   "metadata": {
    "ExecuteTime": {
     "end_time": "2022-09-26T00:24:52.074462Z",
     "start_time": "2022-09-26T00:24:52.074407Z"
    }
   },
   "outputs": [],
   "source": [
    "print(f\"integrating oscillatory stochastic differential equation directly (estimated run time 1 minutes and 40 seconds)...\")\n",
    "# print(f\"integrating oscillatory stochastic differential equation directly (estimated run time ~40 seconds)...\")\n",
    "a=dict_osc_fit_lr['a1']\n",
    "D=dict_osc_fit_lr['a0']/2\n",
    "initial_phase_orientation=dict_osc_fit_lr['phase']\n",
    "period_of_oscillation=dict_osc_fit_lr['period']\n",
    "#compute the oscillatory particle model\n",
    "kwargs_lr=dict(a=a, D=D, initial_phase_orientation=initial_phase_orientation, period_of_oscillation=period_of_oscillation, \n",
    "               num_pairs=1000,  # no clear difference for num_pairs=2000, ...\n",
    "               rstart=0.0001, \n",
    "               Dt=1e-05, \n",
    "               xmin=0, xmax=0.1, ymin=0, ymax=0.6, alpha=0.7, show_inputted_a=False, show_title=False, show_legend=True, use_xylim=True, show_label_black_dotted=False, printing=False, plotting=True)#, c='C3', label='Simulation')\n",
    "dict_fit_lr=visualize_model_oscillatory_reversed(ax=None,c='C1',label='Simulation of Osc. (LR)', **kwargs_lr)\n",
    "plt.close()\n",
    "print(*dict_fit_lr)"
   ]
  },
  {
   "cell_type": "code",
   "execution_count": null,
   "id": "866a5a04",
   "metadata": {
    "ExecuteTime": {
     "end_time": "2022-09-26T00:24:52.076944Z",
     "start_time": "2022-09-26T00:24:52.076913Z"
    }
   },
   "outputs": [],
   "source": [
    "# initial_phase_orientation\n",
    "# #what param setting to use for the FK model?\n",
    "# phi_f=initial_phase_orientation\n",
    "# period=period_of_oscillation*1e3 #seconds\n",
    "# # constant=0.15\n",
    "# omega=2*np.pi/period\n",
    "# # constant=-8*D*np.sin(phi_f)/omega#0.15"
   ]
  },
  {
   "cell_type": "code",
   "execution_count": null,
   "id": "895e7c5d",
   "metadata": {
    "ExecuteTime": {
     "end_time": "2022-09-26T00:24:52.079367Z",
     "start_time": "2022-09-26T00:24:52.079334Z"
    }
   },
   "outputs": [],
   "source": [
    "#plot expected\n",
    "lw=2\n",
    "alpha=0.4\n",
    "fontsize=16\n",
    "# # figsize=(8,4.2)\n",
    "# figsize=(4,4.2)\n",
    "figsize=(6,4)\n",
    "fontsize=15\n",
    "### plot expected\n",
    "fontsize=20\n",
    "tscale=1e-3"
   ]
  },
  {
   "cell_type": "code",
   "execution_count": null,
   "id": "d38d27f9",
   "metadata": {
    "ExecuteTime": {
     "end_time": "2022-09-26T00:24:52.081841Z",
     "start_time": "2022-09-26T00:24:52.081791Z"
    }
   },
   "outputs": [],
   "source": [
    "#plot MSR_Osc over the direct simulation results\n",
    "fig,ax=plt.subplots(figsize=(6,4))\n",
    "#plot simulated annealing fits of oscillatory particle model\n",
    "phi_f = dict_osc_fit_lr['phase']\n",
    "omega = dict_osc_fit_lr['omega']*1e3\n",
    "a = dict_osc_fit_lr['a1']\n",
    "D = dict_osc_fit_lr['a0']/2\n",
    "t_values=np.linspace(0,1,1000)\n",
    "# MSR_values_oscillatory=4*(a*t_values+(2*D/omega)*(np.sin(omega*t_values+phi_f))+constant\n",
    "MSR_values_oscillatory=4*(2*D*t_values+(a/omega)*(np.sin(omega*t_values+phi_f)-np.sin(phi_f)))\n",
    "ax.plot(t_values,MSR_values_oscillatory,c='C3',\n",
    "                label=r'Osc. Particle Fit to FK')\n",
    "#                 label=r'$MSR_{Osc.}(a=a_{FK},\\phi_f=-\\frac{\\pi}{2})$')\n",
    "phi_f = dict_osc_fit_fk['phase']\n",
    "omega = dict_osc_fit_fk['omega']*1e3\n",
    "a = dict_osc_fit_fk['a1']\n",
    "D = dict_osc_fit_fk['a0']/2\n",
    "# t_values=np.linspace(0,1,1000)\n",
    "# MSR_values_oscillatory=4*(a*t_values+(2*D/omega)*(np.sin(omega*t_values+phi_f))+constant\n",
    "MSR_values_oscillatory=4*(2*D*t_values+(a/omega)*(np.sin(omega*t_values+phi_f)-np.sin(phi_f)))\n",
    "ax.plot(t_values,MSR_values_oscillatory,c='k',#'C2',\n",
    "                label=r'Osc. Particle Fit to LR')\n",
    "\n",
    "\n",
    "#plot the direct simulation of the oscillatory particle model under these same parameter settings\n",
    "stepsize=2500\n",
    "plt.scatter(dict_fit_fk['tdeath'][::stepsize],dict_fit_fk['MSR'][::stepsize],lw=2,alpha=.7,c='k',#'C2',\n",
    "            marker='x')#,label='Simulation of Osc. (FK)')\n",
    "stepsize=1000\n",
    "plt.scatter(dict_fit_lr['tdeath'][::stepsize],dict_fit_lr['MSR'][::stepsize],lw=2,alpha=.7,c='C3',\n",
    "            marker='x')#,label='Simulation of Osc. (LR)')\n",
    "\n",
    "\n",
    "#plot msd data from full\n",
    "ax.plot(x_values_fk*tscale,y_values_fk,lw=2,alpha=0.8,c='C0')\n",
    "ax.fill_between(x_values_fk*tscale,y_values_fk-yerr_values_fk,y_values_fk+yerr_values_fk,lw=lw,alpha=alpha,color='C0')\n",
    "ax.plot(x_values_lr*tscale,y_values_lr,lw=2,alpha=0.8,c='C1')\n",
    "ax.fill_between(x_values_lr*tscale,y_values_lr-yerr_values_lr,y_values_lr+yerr_values_lr,lw=lw,alpha=alpha,color='C1')\n",
    "\n",
    "\n",
    "#format_plot\n",
    "format_plot(ax=plt.gca(),xlabel=r'$t_f-t$ (seconds)',ylabel=r'MSR (cm$^2$)',fontsize=20)\n",
    "plt.legend(fontsize=16,frameon=False)\n",
    "\n",
    "\n",
    "# plt.title('mean squared ranges agree\\n',fontsize=18)\n",
    "plt.xlim([0,1])\n",
    "plt.ylim([0,4.6])\n",
    "# plt.ylim([0,5.1])\n",
    "# plt.ylim([0,14.1])\n",
    "plt.show()"
   ]
  },
  {
   "cell_type": "code",
   "execution_count": null,
   "id": "3c2bbb71",
   "metadata": {
    "ExecuteTime": {
     "end_time": "2022-09-26T00:24:52.085746Z",
     "start_time": "2022-09-26T00:24:52.085702Z"
    }
   },
   "outputs": [],
   "source": [
    "dffk=pd.DataFrame([dict_osc_fit_fk])\n",
    "dflr=pd.DataFrame([dict_osc_fit_lr])\n",
    "dffk['model']='Fenton-Karma'\n",
    "dflr['model']='Luo-Rudy'\n",
    "df_osc_fits = pd.concat((dffk,dflr))\n",
    "df_osc_fits['amax'] = df_osc_fits['alinear'] \n",
    "# list(df_osc_fits.columns)\n",
    "# df_osc_fits = df_osc_fits[['model', 'amax', 'a0', 'a1', 'period', 'phase', 'rmse', 'omega', 'z']].copy().T\n",
    "df_osc_fits = df_osc_fits[['model', 'amax', 'a0', 'a1', 'period', 'phase', 'z', 'rmse']].copy().T\n",
    "print(\"%simulated annealing fits:\")\n",
    "print(df_osc_fits.to_latex())"
   ]
  },
  {
   "cell_type": "markdown",
   "id": "7c7a122f",
   "metadata": {},
   "source": [
    "# plot the phases for an insetted pie chart indicating the final phases"
   ]
  },
  {
   "cell_type": "code",
   "execution_count": null,
   "id": "900c4bf0",
   "metadata": {
    "ExecuteTime": {
     "end_time": "2022-09-26T00:24:52.088395Z",
     "start_time": "2022-09-26T00:24:52.088357Z"
    }
   },
   "outputs": [],
   "source": [
    "from matplotlib.lines import Line2D\n",
    "from matplotlib.patches import Arc\n",
    "# from math import degrees\n",
    "import math"
   ]
  },
  {
   "cell_type": "code",
   "execution_count": null,
   "id": "f97a557e",
   "metadata": {
    "ExecuteTime": {
     "end_time": "2022-09-26T00:24:52.090818Z",
     "start_time": "2022-09-26T00:24:52.090789Z"
    },
    "run_control": {
     "marked": true
    }
   },
   "outputs": [],
   "source": [
    "phase_fk = dict_osc_fit_fk['phase']\n",
    "phase_lr = dict_osc_fit_lr['phase']\n",
    "print(f\"{phase_fk=} radians\")\n",
    "print(f\"{phase_lr=} radians\")"
   ]
  },
  {
   "cell_type": "code",
   "execution_count": null,
   "id": "26c93557",
   "metadata": {
    "ExecuteTime": {
     "end_time": "2022-09-26T00:24:52.092771Z",
     "start_time": "2022-09-26T00:24:52.092743Z"
    }
   },
   "outputs": [],
   "source": [
    "# phase_fk=np.pi/2\n",
    "# phase_lr=np.pi/2"
   ]
  },
  {
   "cell_type": "code",
   "execution_count": null,
   "id": "b56b8e03",
   "metadata": {
    "ExecuteTime": {
     "end_time": "2022-09-26T00:24:52.094928Z",
     "start_time": "2022-09-26T00:24:52.094907Z"
    }
   },
   "outputs": [],
   "source": [
    "fig = plt.figure()\n",
    "line_0 = Line2D([0,1], [0,0], linewidth=2, linestyle = \"-\", color=\"k\")\n",
    "\n",
    "x1=np.cos(phase_fk)\n",
    "y1=np.sin(-phase_fk)\n",
    "line_1 = Line2D([0,x1], [0,y1], linewidth=1, linestyle = \"-\", color='k')#\"C0\")\n",
    "x2=np.cos(phase_lr)\n",
    "y2=np.sin(-phase_lr)\n",
    "line_2 = Line2D([0,x2], [0,y2], linewidth=1, linestyle = \"-\", color='r')#\"C1\")\n",
    "\n",
    "ax = fig.add_subplot(1,1,1)\n",
    "\n",
    "ax.add_line(line_2)\n",
    "ax.add_line(line_1)\n",
    "ax.add_line(line_0)\n",
    "\n",
    "angle_plot1 = get_angle_plot(line_1, line_0, .7)\n",
    "angle_text1 = get_angle_text(angle_plot1) \n",
    "angle_plot2 = get_angle_plot(line_2, line_0, 1)\n",
    "angle_text2 = get_angle_text(angle_plot2) \n",
    "\n",
    "ax.add_patch(angle_plot1) # To display the angle arc\n",
    "# ax.text(*angle_text1) # To display the angle value\n",
    "ax.add_patch(angle_plot2) # To display the angle arc\n",
    "# ax.text(*angle_text2) # To display the angle value\n",
    "# ax.set_xlim(-7,7)\n",
    "ax.set_xlim(0,5)\n",
    "ax.set_ylim(0,5)\n",
    "ax.axis('off')\n",
    "plt.show()"
   ]
  },
  {
   "cell_type": "code",
   "execution_count": null,
   "id": "1eff759a",
   "metadata": {},
   "outputs": [],
   "source": []
  },
  {
   "cell_type": "code",
   "execution_count": null,
   "id": "77b98f37",
   "metadata": {
    "ExecuteTime": {
     "end_time": "2022-09-26T00:24:52.096865Z",
     "start_time": "2022-09-26T00:24:52.096837Z"
    }
   },
   "outputs": [],
   "source": [
    "# anglenp\n",
    "# ax = plt.gca()\n",
    "# line, = ax.plot([0, 0, 2], [np.cos(angle), np.sin(angle), 0], 'ro-', lw=2)\n",
    "# add_corner_arc(ax, line, text=u'%d\\u00b0' % 90)"
   ]
  },
  {
   "cell_type": "markdown",
   "id": "14b77ca4",
   "metadata": {},
   "source": [
    "# plot the universal fit"
   ]
  },
  {
   "cell_type": "code",
   "execution_count": null,
   "id": "1e123067",
   "metadata": {
    "ExecuteTime": {
     "end_time": "2022-09-26T00:24:52.098713Z",
     "start_time": "2022-09-26T00:24:52.098682Z"
    }
   },
   "outputs": [],
   "source": [
    "dict_osc_fit = dict(dict_osc_fit_fk)\n",
    "alinear_fk = comp_alinear(a0=dict_osc_fit['a0'],\n",
    "                       a1=dict_osc_fit['a1'],\n",
    "                       period=dict_osc_fit['period'],\n",
    "                       Gamma=dict_osc_fit['Gamma'],\n",
    "                       phase=dict_osc_fit['phase'])\n",
    "alinear_fk_min= comp_alinear(a0=dict_osc_fit['a0'],a1=dict_osc_fit['a1'],period=dict_osc_fit['period'],\n",
    "                       Gamma=dict_osc_fit['Gamma']+dict_osc_fit['Delta_Gamma'],\n",
    "                       phase=dict_osc_fit['phase'])\n",
    "alinear_fk_max= comp_alinear(a0=dict_osc_fit['a0'],a1=dict_osc_fit['a1'],period=dict_osc_fit['period'],\n",
    "                       Gamma=dict_osc_fit['Gamma']-dict_osc_fit['Delta_Gamma'],\n",
    "                       phase=dict_osc_fit['phase'])\n",
    "alinear_fk_min,alinear_fk,alinear_fk_max\n",
    "\n",
    "#with gamma values as x\n",
    "Gamma_values = np.linspace(1,200,1000)\n",
    "x_lst=[]\n",
    "y_lst=[]\n",
    "for Gamma in Gamma_values:\n",
    "    phase=dict_osc_fit['phase']\n",
    "    period=dict_osc_fit['period']\n",
    "    alinear = comp_alinear(a0=dict_osc_fit['a0'],\n",
    "                       a1=dict_osc_fit['a1'],\n",
    "                       period=period,\n",
    "                       Gamma=Gamma,\n",
    "                       phase=phase)\n",
    "    z = 2*np.pi*Gamma/(period)\n",
    "    #record\n",
    "    x_lst.append(z) #z\n",
    "    y_lst.append(alinear) #alinear\n",
    "z_values_fk=np.array(x_lst)\n",
    "alinear_values_fk=np.array(y_lst)"
   ]
  },
  {
   "cell_type": "code",
   "execution_count": null,
   "id": "feb6149c",
   "metadata": {
    "ExecuteTime": {
     "end_time": "2022-09-26T00:24:52.100632Z",
     "start_time": "2022-09-26T00:24:52.100612Z"
    }
   },
   "outputs": [],
   "source": [
    "period=dict_osc_fit['period']\n",
    "Gamma=dict_osc_fit['Gamma']\n",
    "Delta_Gamma=dict_osc_fit['Delta_Gamma']\n",
    "z_fk = 2*np.pi*Gamma/period\n",
    "z_fk_min = 2*np.pi*(Gamma-Delta_Gamma)/period\n",
    "z_fk_max = 2*np.pi*(Gamma+Delta_Gamma)/period"
   ]
  },
  {
   "cell_type": "code",
   "execution_count": null,
   "id": "9b1a8b2f",
   "metadata": {
    "ExecuteTime": {
     "end_time": "2022-09-26T00:24:52.102372Z",
     "start_time": "2022-09-26T00:24:52.102351Z"
    }
   },
   "outputs": [],
   "source": [
    "dict_osc_fit = dict(dict_osc_fit_lr)\n",
    "alinear_lr = comp_alinear(a0=dict_osc_fit['a0'],\n",
    "                       a1=dict_osc_fit['a1'],\n",
    "                       period=dict_osc_fit['period'],\n",
    "                       Gamma=dict_osc_fit['Gamma'],\n",
    "                       phase=dict_osc_fit['phase'])\n",
    "alinear_lr_min= comp_alinear(a0=dict_osc_fit['a0'],a1=dict_osc_fit['a1'],period=dict_osc_fit['period'],\n",
    "                       Gamma=dict_osc_fit['Gamma']+dict_osc_fit['Delta_Gamma'],\n",
    "                       phase=dict_osc_fit['phase'])\n",
    "alinear_lr_max= comp_alinear(a0=dict_osc_fit['a0'],a1=dict_osc_fit['a1'],period=dict_osc_fit['period'],\n",
    "                       Gamma=dict_osc_fit['Gamma']-dict_osc_fit['Delta_Gamma'],\n",
    "                       phase=dict_osc_fit['phase'])\n",
    "\n",
    "#with gamma values as x\n",
    "Gamma_values = np.linspace(1,300,1000)\n",
    "x_lst=[]\n",
    "y_lst=[]\n",
    "for Gamma in Gamma_values:\n",
    "    phase=dict_osc_fit['phase']\n",
    "    period=dict_osc_fit['period']\n",
    "    alinear = comp_alinear(a0=dict_osc_fit['a0'],\n",
    "                       a1=dict_osc_fit['a1'],\n",
    "                       period=period,\n",
    "                       Gamma=Gamma,\n",
    "                       phase=phase)\n",
    "    z = 2*np.pi*Gamma/(period)\n",
    "    #record\n",
    "    x_lst.append(z) #z\n",
    "    y_lst.append(alinear) #alinear\n",
    "z_values_lr=np.array(x_lst)\n",
    "alinear_values_lr=np.array(y_lst)\n",
    "\n",
    "period=dict_osc_fit['period']\n",
    "Gamma=dict_osc_fit['Gamma']\n",
    "Delta_Gamma=dict_osc_fit['Delta_Gamma']\n",
    "z_lr = 2*np.pi*Gamma/period\n",
    "z_lr_min = 2*np.pi*(Gamma-Delta_Gamma)/period\n",
    "z_lr_max = 2*np.pi*(Gamma+Delta_Gamma)/period"
   ]
  },
  {
   "cell_type": "code",
   "execution_count": null,
   "id": "fc4c55fa",
   "metadata": {
    "ExecuteTime": {
     "end_time": "2022-09-26T00:24:52.103673Z",
     "start_time": "2022-09-26T00:24:52.103644Z"
    }
   },
   "outputs": [],
   "source": [
    "y_values_fk = (alinear_values_fk - dict_osc_fit_fk['a0'])/dict_osc_fit_fk['a1']\n",
    "y_values_lr = (alinear_values_lr - dict_osc_fit_lr['a0'])/dict_osc_fit_lr['a1']\n",
    "\n",
    "y_fk = (alinear_fk - dict_osc_fit_fk['a0'])/dict_osc_fit_fk['a1']\n",
    "y_fk_min = (alinear_fk_min - dict_osc_fit_fk['a0'])/dict_osc_fit_fk['a1']\n",
    "y_fk_max = (alinear_fk_max - dict_osc_fit_fk['a0'])/dict_osc_fit_fk['a1']\n",
    "\n",
    "y_lr = (alinear_lr - dict_osc_fit_lr['a0'])/dict_osc_fit_lr['a1']\n",
    "y_lr_min = (alinear_lr_min - dict_osc_fit_lr['a0'])/dict_osc_fit_lr['a1']\n",
    "y_lr_max = (alinear_lr_max - dict_osc_fit_lr['a0'])/dict_osc_fit_lr['a1']"
   ]
  },
  {
   "cell_type": "code",
   "execution_count": null,
   "id": "7fde1469",
   "metadata": {
    "ExecuteTime": {
     "end_time": "2022-09-26T00:24:52.105418Z",
     "start_time": "2022-09-26T00:24:52.105393Z"
    }
   },
   "outputs": [],
   "source": [
    "fig,ax=plt.subplots(figsize=(6,4))\n",
    "# xlabel='z'\n",
    "xlabel=r'$\\omega\\Gamma$'\n",
    "ylabel=r'$( a-a_0 )\\;/\\; a_1$'\n",
    "# ylabel=r'$\\frac{a-a_0}{a_1}$'\n",
    "\n",
    "ax.plot(z_values_fk,y_values_fk,c='k',alpha=0.8,label=r'Osc. Particle Fit to FK')#)#,c='C0')\n",
    "ax.plot(z_values_lr,y_values_lr,c='r',alpha=0.8,label=r'Osc. Particle Fit to LR')#)#,c='C1')\n",
    "\n",
    "\n",
    "#plot measurement + errorbar uncertainty for the FK model (blue)\n",
    "ax.errorbar(x=z_fk, \n",
    "            y=y_fk, \n",
    "            xerr=0.5*(z_fk_max-z_fk_min), \n",
    "#             yerr=0.5*(y_fk_max-y_fk_min), \n",
    "            fmt='o',markersize=2,capsize=5,lw=2,\n",
    "            color='C0')\n",
    "#             label='Fenton-Karma')\n",
    "#             label=r'Osc. Particle Fit to FK')\n",
    "\n",
    "#plot measurement + errorbar uncertainty for the LR model (orange)\n",
    "ax.errorbar(x=z_lr, \n",
    "            y=y_lr, \n",
    "            xerr=0.5*(z_lr_max-z_lr_min), \n",
    "#             yerr=0.5*(y_lr_max-y_lr_min), \n",
    "            fmt='o',markersize=2,capsize=5,lw=2,\n",
    "            color='C1')\n",
    "# #             label='Luo-Rudy')\n",
    "#             label=r'Osc. Particle Fit to LR')\n",
    "\n",
    "#plot dotted line at y-axis=0 (black)\n",
    "xv=np.linspace(-0.5,20,10)\n",
    "ax.plot(xv,0.*xv,'k--',alpha=0.9,lw=2)\n",
    "#plot dotted line at x-axis=0 (black)\n",
    "xv=np.linspace(-0.5,1,10)\n",
    "ax.plot(0.*xv,xv,'k--',alpha=0.9,lw=2)\n",
    "\n",
    "\n",
    "#format_plot\n",
    "format_plot(ax=plt.gca(),xlabel=r'$t_f-t$ (seconds)',ylabel=r'MSR (cm$^2$)',fontsize=20)\n",
    "plt.legend(fontsize=16,frameon=False)\n",
    "\n",
    "\n",
    "format_plot(ax=ax,xlabel=xlabel, ylabel=ylabel,fontsize=fontsize)\n",
    "ax.set_ylim(-0.5,1.1)\n",
    "plt.show()\n",
    "# plt.yscale('log')"
   ]
  },
  {
   "cell_type": "markdown",
   "id": "075ce48c",
   "metadata": {},
   "source": [
    "# print table of particle properties"
   ]
  },
  {
   "cell_type": "code",
   "execution_count": null,
   "id": "d3bd65a0",
   "metadata": {
    "ExecuteTime": {
     "end_time": "2022-09-26T00:24:52.107459Z",
     "start_time": "2022-09-26T00:24:52.107432Z"
    }
   },
   "outputs": [],
   "source": [
    "#DONE: add symbols for full models\n",
    "#DONE: update fig. 4\n",
    "#TODO: update table in main text in the form\n",
    "# symbol | description | Fenton-Karma measurement | Luo-Rudy Measurement\n",
    "# ----------------------------------------------------------------------\n",
    "# Gamma | Mean minimum lifetime | ?? | ?? etc..."
   ]
  },
  {
   "cell_type": "code",
   "execution_count": null,
   "id": "17d848a4",
   "metadata": {
    "ExecuteTime": {
     "end_time": "2022-09-26T00:24:52.111124Z",
     "start_time": "2022-09-26T00:24:52.111091Z"
    }
   },
   "outputs": [],
   "source": [
    "kwargs_table_1_level=dict(float_format=\"{:0.4f}\".format,\n",
    "#                           multicolumn_format='c',\n",
    "                           column_format='c',\n",
    "#                            caption=('Table. ?? shows full\\_caption', 'Table. ?? short\\_caption.'),\n",
    "#                            longtable=True #Requires adding a usepackage{longtable} to your LaTeX preamble.\n",
    "                          )\n",
    "kwargs_table_2_levels=dict(float_format=\"{:0.4f}\".format,\n",
    "                          multicolumn_format='c',\n",
    "#                            column_format='c',\n",
    "#                            caption=('Table. ?? shows full\\_caption', 'Table. ?? short\\_caption.'),\n",
    "#                            longtable=True #Requires adding a usepackage{longtable} to your LaTeX preamble.\n",
    "                          )"
   ]
  },
  {
   "cell_type": "code",
   "execution_count": null,
   "id": "c89bebf2",
   "metadata": {
    "ExecuteTime": {
     "end_time": "2022-09-26T00:24:52.115116Z",
     "start_time": "2022-09-26T00:24:52.115065Z"
    }
   },
   "outputs": [],
   "source": [
    "dffk=pd.DataFrame([dict_osc_fit_fk])\n",
    "dflr=pd.DataFrame([dict_osc_fit_lr])\n",
    "dffk['model']='Fenton-Karma'\n",
    "dflr['model']='Luo-Rudy'\n",
    "df_osc_fits = pd.concat((dffk,dflr))\n",
    "df_osc_fits['amax'] = df_osc_fits['alinear'] \n",
    "# list(df_osc_fits.columns)\n",
    "# df_osc_fits = df_osc_fits[['model', 'amax', 'a0', 'a1', 'period', 'phase', 'rmse', 'omega', 'z']].copy().T\n",
    "# df_osc_fits = df_osc_fits[['model', 'amax', 'a0', 'a1', 'period', 'phase', 'z', 'rmse']].copy().T\n",
    "df_osc_fits = df_osc_fits.set_index('model',drop=True)[['amax', 'a0', 'a1', 'period', 'phase', 'z', 'rmse']].copy().T\n",
    "print(\"%simulated annealing fits:\")\n",
    "print(\"% \\\\begin{ruledtabular}\")\n",
    "print(\"% \\\\begin{tabular}{cccccc}\")\n",
    "print(df_osc_fits.to_latex(index=True, \n",
    "                                caption='Table of oscillatory particle properties for spiral tip from the full models.}\\label{tab:properties}',\n",
    "                                     **kwargs_table_1_level))"
   ]
  },
  {
   "cell_type": "code",
   "execution_count": null,
   "id": "6f77bbd7",
   "metadata": {
    "ExecuteTime": {
     "end_time": "2022-09-26T00:24:52.117006Z",
     "start_time": "2022-09-26T00:24:52.116977Z"
    }
   },
   "outputs": [],
   "source": [
    "#format table of fitted parameter values\n",
    "L=5.0\n",
    "D=0\n",
    "dict_osc_fit_fk['num_termination_events']=num_termination_events_fk\n",
    "dict_osc_fit_lr['num_termination_events']=num_termination_events_lr\n",
    "dict_properties_fk=dict(dict_osc_fit_fk)\n",
    "dict_properties_lr=dict(dict_osc_fit_lr)\n",
    "dict_properties_fk['L']=L\n",
    "dict_properties_lr['L']=L\n",
    "dict_properties_fk.update(dict_SR_fk)\n",
    "dict_properties_lr.update(dict_SR_lr)\n",
    "dict_properties_fk['model']='Fenton-Karma'\n",
    "dict_properties_lr['model']='Luo-Rudy'\n",
    "df_properties = pd.DataFrame([dict_properties_fk,dict_properties_lr])\n",
    "df_properties['amax']=df_properties['alinear'] + 2*D\n",
    "\n",
    "print(f\"Table of simulated annealing fits of oscillatory particle model to full models.\")\n",
    "print(df_properties[['model','amax','L','rmse']])"
   ]
  },
  {
   "cell_type": "code",
   "execution_count": null,
   "id": "5183163c",
   "metadata": {
    "ExecuteTime": {
     "end_time": "2022-09-26T00:24:52.119402Z",
     "start_time": "2022-09-26T00:24:52.119380Z"
    }
   },
   "outputs": [],
   "source": [
    "annihil_fits_dir='/Users/timothytyree/Documents/GitHub/bgmc/python/data/annihil_fits.25.29.csv'\n",
    "df_annihil_fits = pd.read_csv(annihil_fits_dir)\n",
    "df_annihil_fits\n",
    "print(f\"Table of maximum likelihood fits of linear particle model to full models.\")\n",
    "print(df_annihil_fits[['model','amax','L','rmse']])"
   ]
  },
  {
   "cell_type": "code",
   "execution_count": null,
   "id": "3e6047bb",
   "metadata": {
    "ExecuteTime": {
     "end_time": "2022-09-26T00:24:52.120924Z",
     "start_time": "2022-09-26T00:24:52.120896Z"
    }
   },
   "outputs": [],
   "source": [
    "print(\"\\n% df_table_properties\")\n",
    "print(f\"% \\caption{{Table of spiral tip properties for the full models.}}\")\n",
    "df_table_properties=df_properties.sort_values(by='model')\\\n",
    "                .set_index('model')[['amax','L','rmse','meanSR','Delta_meanSR']].T\n",
    "print(df_table_properties)"
   ]
  },
  {
   "cell_type": "code",
   "execution_count": null,
   "id": "8066b9d5",
   "metadata": {
    "ExecuteTime": {
     "end_time": "2022-09-26T00:24:52.122534Z",
     "start_time": "2022-09-26T00:24:52.122512Z"
    }
   },
   "outputs": [],
   "source": [
    "print(\"\\n% df_table_properties_brief\")\n",
    "print(f\"% \\caption{{Brief table of spiral tip properties for the full models.}}\")\n",
    "df_table_properties_brief=df_properties.sort_values(by='model')\\\n",
    "                .set_index('model')[['amax','L','rmse']]\n",
    "# print(df_table_properties_brief)\n",
    "print(\"% \\\\begin{ruledtabular}\")\n",
    "print(\"% \\\\begin{tabular}{cccccc}\")\n",
    "print(df_table_properties_brief.reset_index().to_latex(index=False, \n",
    "                                                   caption='Brief table of spiral tip properties for the full models.}\\label{tab:df_table_properties_complete}',\n",
    "                                                   **kwargs_table_1_level))#kwargs_table_2_levels))\n"
   ]
  },
  {
   "cell_type": "code",
   "execution_count": null,
   "id": "33261f61",
   "metadata": {
    "ExecuteTime": {
     "end_time": "2022-09-26T00:24:52.124641Z",
     "start_time": "2022-09-26T00:24:52.124621Z"
    }
   },
   "outputs": [],
   "source": [
    "# #format as pandas table\n",
    "mindex_lst=['model', 'L']\n",
    "df_fit = df_annihil_fits.sort_values(by=mindex_lst,ascending=False)\\\n",
    "               .set_index(mindex_lst)\n",
    "df_fit['delta'] = np.pi*df_fit['r']**2*df_fit['kappa']\n",
    "df_params_linear=df_fit[['r','kappa', 'delta','D']].T\n",
    "# print(df_params_linear)\n",
    "print(\"\\n% df_params_linear\")\n",
    "print(\"% \\begin{ruledtabular}\")\n",
    "print(\"% \\begin{tabular}{cccccc}\")\n",
    "print(df_params_linear.reset_index().to_latex(index=False, \n",
    "                                                   caption='Table of properties of the linear particle model fit to mean pair-annihilation rates of the full models.}\\label{tab:df_table_properties_complete',\n",
    "                                                   **kwargs_table_2_levels))#kwargs_table_1_level))#"
   ]
  },
  {
   "cell_type": "code",
   "execution_count": null,
   "id": "32997fab",
   "metadata": {
    "ExecuteTime": {
     "end_time": "2022-09-26T00:24:52.125893Z",
     "start_time": "2022-09-26T00:24:52.125874Z"
    }
   },
   "outputs": [],
   "source": [
    "np.sqrt(0.443453)     , np.sqrt(0.739637)"
   ]
  },
  {
   "cell_type": "code",
   "execution_count": null,
   "id": "a5a6f8be",
   "metadata": {
    "ExecuteTime": {
     "end_time": "2022-09-26T00:24:52.127155Z",
     "start_time": "2022-09-26T00:24:52.127136Z"
    }
   },
   "outputs": [],
   "source": [
    "print(\"\\n% df_table_properties_complete\")\n",
    "print(f\"% \\caption{{Supplementary table of spiral tip properties for the full models.}}\")\n",
    "df_table_properties_complete=df_properties.sort_values(by='model')\\\n",
    "                .set_index('model').T\n",
    "print(df_table_properties_complete)"
   ]
  },
  {
   "cell_type": "code",
   "execution_count": null,
   "id": "ee9591e2",
   "metadata": {
    "ExecuteTime": {
     "end_time": "2022-09-26T00:24:52.128783Z",
     "start_time": "2022-09-26T00:24:52.128751Z"
    }
   },
   "outputs": [],
   "source": [
    "print(\"\\n% df_table_properties_complete\")\n",
    "print(\"% \\begin{ruledtabular}\")\n",
    "print(\"% \\begin{tabular}{cccccc}\")\n",
    "print(df_table_properties_complete.reset_index().to_latex(index=False, \n",
    "                                                   caption='Supplementary table of spiral tip properties for the full models.}\\label{tab:df_table_properties_complete',\n",
    "                                                   **kwargs_table_1_level))#kwargs_table_2_levels))\n"
   ]
  },
  {
   "cell_type": "markdown",
   "id": "08790228",
   "metadata": {},
   "source": [
    "### fits of D from MSD\n",
    "\n",
    "(Fenton-Karma) msd powerlaw fit of msd from lagt=0.1 to 3:\n",
    "- m = 1.001994 +/- 0.015057\n",
    "- M = 0.005766 +/- 0.000384 Hz/cm^2; B=0.005826 +/- 0.000076\n",
    "- RMSE=0.0008 Hz/cm^2; R^2=0.9921; N=138\n",
    "- D = 0.0014 +/- 0.0001 cm^2/s\n",
    "\n",
    "(Luo-Rudy) msd powerlaw fit of msd from lagt=0.06 to 0.2:\n",
    "- m = 0.981067 +/- 0.044880\n",
    "- M = 0.148857 +/- 0.005591 Hz/cm^2; B=0.143485 +/- 0.007501\n",
    "- RMSE=0.0011 Hz/cm^2; R^2=0.9750; N=49\n",
    "- D = 0.0372 +/- 0.0014 cm^2/s\n",
    "\n",
    "src: http://localhost:8889/notebooks/demonstration%20of%20brownian%20behaviour.ipynb\n",
    "\n"
   ]
  },
  {
   "cell_type": "markdown",
   "id": "1729d2e4",
   "metadata": {},
   "source": [
    "### fits of alinear from dR/dt \n",
    "\n",
    "(Fenton-Karma) linear fit of dRdt from 1/R=0.0 to 10:\n",
    "- m=-4.550823917522961\n",
    "- Delta_m=0.8299672832720622\n",
    "- b=-0.7883724177008169\n",
    "- Delta_b=1.5044154352605568\n",
    "- Rsquared=0.7674370424368964\n",
    "- num_obs=37\n",
    "- rmse=3.1625294434003433\n",
    "- Rsq=0.7674370424368964\n",
    "- ahat = 2.2754 +/- 0.4150 cm^2/s\n",
    "\n",
    "(Luo-Rudy) linear fit of dRdt from 1/R=0.0 to 10:\n",
    "- m=-8.087927742495596\n",
    "- Delta_m=0.4593631505563615\n",
    "- b=-2.310333356275457\n",
    "- Delta_b=0.7439196689530453\n",
    "- Rsquared=0.9635892116333213\n",
    "- num_obs=47\n",
    "- rmse=1.8623782485431748\n",
    "- Rsq=0.9635892116333213\n",
    "- ahat = 4.0440 +/- 0.2297 cm^2/s\n",
    "\n",
    "src: http://localhost:8889/notebooks/demonstration%20of%20brownian%20behaviour.ipynb"
   ]
  },
  {
   "cell_type": "markdown",
   "id": "f6871a2b",
   "metadata": {},
   "source": [
    "### estimates of rotational period from instantaneous period timeseries\n",
    "\n",
    "- mean median rotational periods: 117.0490 ms (FK)\n",
    "- period from simulated annealing: 115.94 ms (FK)\n",
    "\n",
    "- mean median rotational periods: 144.3268 ms (LR)\n",
    "- period from simulated annealing: 97.36 ms (LR)\n",
    "\n",
    "src: http://localhost:8889/notebooks/computing%20rotational%20period%20of%20mean%20fortranic%20spiral%20trajectories.ipynb"
   ]
  },
  {
   "cell_type": "markdown",
   "id": "5b427a23",
   "metadata": {},
   "source": [
    "### estimates of rotational period from total self-crossings\n",
    "\n",
    "Fenton-Karma:\n",
    "- number_termination_events_considered: 20\n",
    "- total number of loops observed longer than 10ms: 11293\n",
    "- (number of particles considered: 22694)\n",
    "- (mean number of loops per particle lifetime: 0.4976)\n",
    "- number of particles considered with at least 1 loop: 12368\n",
    "- mean number of loops per particle lifetime (at least 1 loop): 0.9131\n",
    "- expected num. revolutions per lifetime: lifetime_fk/period_fk=0.9082\n",
    "\n",
    "Luo-Rudy:\n",
    "- number_termination_events_considered: 639\n",
    "- total number of loops observed longer than 10ms: 10108\n",
    "- (number of particles considered with at least 1 loop: 3644)\n",
    "- (mean number of loops per particle lifetime (at least 1 loop): 2.7739)\n",
    "- number of particles considered: 29402\n",
    "- mean number of loops per particle lifetime: 0.3438\n",
    "- expected num. revolutions per lifetime: lifetime_lr/period_lr=0.3427\n",
    "\n",
    "src: http://localhost:8889/notebooks/computing%20rotational%20period%20of%20mean%20fortranic%20spiral%20trajectories.ipynb"
   ]
  },
  {
   "cell_type": "markdown",
   "id": "41b224c8",
   "metadata": {},
   "source": [
    "# fit powerlaws to birth death rates"
   ]
  },
  {
   "cell_type": "code",
   "execution_count": 870,
   "id": "f9e9b742",
   "metadata": {
    "ExecuteTime": {
     "end_time": "2022-09-26T03:54:04.677601Z",
     "start_time": "2022-09-26T03:54:04.594860Z"
    }
   },
   "outputs": [],
   "source": [
    "# input_fn = search_for_file()\n",
    "# input_fn\n",
    "kwargs = dict(data_fk_dir=f'{nb_dir}/data/full_results/data_fig4_vidmar_fk_tt.csv',\n",
    "              data_lr_dir=f'{nb_dir}/data/full_results/data_fig4_vidmar_lr_tt.csv',\n",
    "             min_num_particles=9)\n",
    "dict_wjr = recall_death_rates_vidmar_rappel(**kwargs)\n",
    "fk=dict_wjr['fk'].sort_values(by='q')\n",
    "lr=dict_wjr['lr'].sort_values(by='q')"
   ]
  },
  {
   "cell_type": "code",
   "execution_count": 871,
   "id": "18efd93b",
   "metadata": {
    "ExecuteTime": {
     "end_time": "2022-09-26T03:54:05.366617Z",
     "start_time": "2022-09-26T03:54:05.317768Z"
    }
   },
   "outputs": [],
   "source": [
    "birth_rate_dir_fk = '/Users/timothytyree/Documents/GitHub/bgmc/python/data/full_results/data_fig4_timothy_fk_up2_rescaled_per_tt.csv'\n",
    "# death_rate_dir_fk = '/Users/timothytyree/Documents/GitHub/bgmc/python/data/full_results/data_fig4_vidmar_fk_rescaled_rates.csv'\n",
    "birth_rate_dir_lr = '/Users/timothytyree/Documents/GitHub/bgmc/python/data/full_results/data_fig4_timothy_lr_up2_rescaled_per_tt.csv'\n",
    "# death_rate_dir_lr = '/Users/timothytyree/Documents/GitHub/bgmc/python/data/full_results/data_fig4_vidmar_lr_rescaled_rates.csv'\n",
    "# df_death = pd.read_csv(death_rate_dir_fk)\n",
    "df_birth_fk = pd.read_csv(birth_rate_dir_fk)\n",
    "# df_death = pd.read_csv(death_rate_dir_lr)\n",
    "df_birth_lr = pd.read_csv(birth_rate_dir_lr)\n",
    "\n",
    "#scale from kHz to Hz\n",
    "df_birth_fk['w']*=1e3\n",
    "df_birth_lr['w']*=1e3"
   ]
  },
  {
   "cell_type": "code",
   "execution_count": 872,
   "id": "97e4eb3f",
   "metadata": {
    "ExecuteTime": {
     "end_time": "2022-09-26T03:54:05.831716Z",
     "start_time": "2022-09-26T03:54:05.778195Z"
    }
   },
   "outputs": [
    {
     "name": "stdout",
     "output_type": "stream",
     "text": [
      "m = 0.229594 +/- 0.010098\n",
      "M = 0.864210 +/- 0.002349 Hz/cm^2; B=0.529597 +/- 0.020570\n",
      "RMSE=0.0215 Hz/cm^2; R^2=0.9655; N=73\n",
      "m = 0.714755 +/- 0.009768\n",
      "M = 3.277073 +/- 0.102643 Hz/cm^2; B=5.262676 +/- 0.107278\n",
      "RMSE=0.0417 Hz/cm^2; R^2=0.9971; N=62\n",
      "\n",
      "wjr['fk_pbc']:\n",
      "m=1.8772341309722325\n",
      "Delta_m=0.02498750277237229\n",
      "M=5.572315674840435\n",
      "Delta_M=0.3053120355191732\n",
      "b=1.665608066257863\n",
      "Delta_b=0.029341409948945123\n",
      "\n",
      "wjr['lr_pbc']:\n",
      "m=1.6375562704001745\n",
      "Delta_m=0.017190912126700632\n",
      "M=16.73559858353835\n",
      "Delta_M=0.8465090320196467\n",
      "b=2.86877101880514\n",
      "Delta_b=0.0311865277365552\n",
      "\n",
      "wjr['fk_pbc']:\n",
      "m=1.8772341309722325\n",
      "Delta_m=0.02498750277237229\n",
      "M=5.572315674840435\n",
      "Delta_M=0.3053120355191732\n",
      "b=1.665608066257863\n",
      "Delta_b=0.029341409948945123\n",
      "\n",
      "wjr['lr_pbc']:\n",
      "m=1.6375562704001745\n",
      "Delta_m=0.017190912126700632\n",
      "M=16.73559858353835\n",
      "Delta_M=0.8465090320196467\n",
      "b=2.86877101880514\n",
      "Delta_b=0.0311865277365552\n"
     ]
    }
   ],
   "source": [
    "# DONE: compute powerlaw fits of birth rates wjr\n",
    "dict_fit_birth_fk = print_fit_power_law(x=df_birth_fk['q'].values,y=df_birth_fk['w'].values)\n",
    "dict_fit_birth_lr = print_fit_power_law(x=df_birth_lr['q'].values,y=df_birth_lr['w'].values)\n",
    "\n",
    "print(f\"\\nwjr['fk_pbc']:\")\n",
    "print_dict(wjr['fk_pbc'])\n",
    "print(f\"\\nwjr['lr_pbc']:\")\n",
    "print_dict(wjr['lr_pbc'])\n",
    "\n",
    "print(f\"\\nwjr['fk_pbc']:\")\n",
    "print_dict(wjr['fk_pbc'])\n",
    "print(f\"\\nwjr['lr_pbc']:\")\n",
    "print_dict(wjr['lr_pbc'])"
   ]
  },
  {
   "cell_type": "code",
   "execution_count": 873,
   "id": "c9317d93",
   "metadata": {
    "ExecuteTime": {
     "end_time": "2022-09-26T03:54:06.362101Z",
     "start_time": "2022-09-26T03:54:06.300615Z"
    }
   },
   "outputs": [],
   "source": [
    "xv = np.arange(0.02, 1,0.01)\n",
    "# evaluate powerlaw fits of birth rates wjr\n",
    "yv_birth_lr = dict_fit_birth_lr['M']*xv**dict_fit_birth_lr['m']\n",
    "yv_death_lr = wjr['lr_pbc']['M']*xv**wjr['lr_pbc']['m']\n",
    "# evalutate plot powerlaw fits of death rates wjr\n",
    "yv_birth_fk = dict_fit_birth_fk['M']*xv**dict_fit_birth_fk['m']\n",
    "yv_death_fk = wjr['fk_pbc']['M']*xv**wjr['fk_pbc']['m']\n",
    "# yv_birth_lr.shape,yv_birth_fk.shape\n",
    "\n",
    "#compute the intersection point for both of the full models\n",
    "index_fk = np.argmin(np.exp(np.log(yv_birth_fk/yv_death_fk)**2))\n",
    "qstar_fk = xv[index_fk]\n",
    "wstar_fk = yv_birth_fk[index_fk]\n",
    "# index_lr = np.argmin(np.log(yv_birth_lr/yv_death_lr)**2)\n",
    "index_lr = np.argmin(np.exp(np.log(yv_birth_lr/yv_death_lr)**2))\n",
    "qstar_lr = xv[index_lr]\n",
    "wstar_lr = yv_birth_lr[index_lr]\n"
   ]
  },
  {
   "cell_type": "code",
   "execution_count": 874,
   "id": "f6d08f8b",
   "metadata": {
    "ExecuteTime": {
     "end_time": "2022-09-26T03:54:06.879612Z",
     "start_time": "2022-09-26T03:54:06.828858Z"
    }
   },
   "outputs": [
    {
     "data": {
      "text/plain": [
       "(0.31999999999999995, 0.16999999999999996)"
      ]
     },
     "execution_count": 874,
     "metadata": {},
     "output_type": "execute_result"
    }
   ],
   "source": [
    "# plt.plot(xv,(yv_birth_lr-yv_death_lr)**2)\n",
    "# plt.show()\n",
    "qstar_fk,qstar_lr"
   ]
  },
  {
   "cell_type": "code",
   "execution_count": 875,
   "id": "0238d5a0",
   "metadata": {
    "ExecuteTime": {
     "end_time": "2022-09-26T03:54:08.528380Z",
     "start_time": "2022-09-26T03:54:07.224984Z"
    }
   },
   "outputs": [
    {
     "data": {
      "image/png": "[encoded data removed]",
      "text/plain": [
       "<Figure size 640x480 with 1 Axes>"
      ]
     },
     "metadata": {},
     "output_type": "display_data"
    }
   ],
   "source": [
    "fig,ax=plt.subplots()\n",
    "# fig,ax=plt.subplots(figsize=(6,4))\n",
    "# fontsize=16\n",
    "fontsize=20\n",
    "alpha=0.9\n",
    "\n",
    "# df_birth_fk.plot(x='q',y='w',ax=ax,c='C0',alpha=0.5,label=r'FK: N$\\rightarrow$N+2',lw=4)\n",
    "# fk.plot(x='q',y='w',ax=ax,c='C0',label=r'FK: N$\\rightarrow$N-2',lw=4)\n",
    "# df_birth_lr.plot(x='q',y='w',ax=ax,c='C1',alpha=0.5,label=r'LR: N$\\rightarrow$N+2',lw=4)\n",
    "# lr.plot(x='q',y='w',ax=ax,c='C1',label=r'LR: N$\\rightarrow$N-2',lw=4)\n",
    "markersize=30\n",
    "df_birth_fk.plot.scatter(x='q',y='w',ax=ax,c='gray',#'C0',\n",
    "                         alpha=0.5,label=r'FK: N$\\rightarrow$N+2',s=markersize)\n",
    "fk.plot.scatter(x='q',y='w',ax=ax,c='C0',label=r'FK: N$\\rightarrow$N-2',s=markersize)\n",
    "df_birth_lr.plot.scatter(x='q',y='w',ax=ax,c='r',#'C1',\n",
    "                         alpha=0.5,label=r'LR: N$\\rightarrow$N+2',s=markersize)\n",
    "lr.plot.scatter(x='q',y='w',ax=ax,c='C1',label=r'LR: N$\\rightarrow$N-2',s=markersize)\n",
    "\n",
    "\n",
    "#plot the powerlaw fits\n",
    "ax.plot(xv,yv_death_fk,'k--',alpha=0.5)\n",
    "ax.plot(xv,yv_death_lr,'k--',alpha=0.5)\n",
    "ax.plot(xv,yv_birth_fk,'k--',alpha=0.5)\n",
    "ax.plot(xv,yv_birth_lr,'k--',alpha=0.5)\n",
    "\n",
    "#draw vertical dotted line up to the intersection point for both of the full models\n",
    "ax.scatter([qstar_fk],[wstar_fk],c='k',s=40,alpha=0.9,zorder=100)\n",
    "ax.scatter([qstar_lr],[wstar_lr],c='k',s=40,alpha=0.9,zorder=100)\n",
    "ax.plot([qstar_fk,qstar_fk],[0.001,wstar_fk],'k:',alpha=0.9)\n",
    "ax.plot([qstar_lr,qstar_lr],[0.001,wstar_lr],'k:',alpha=0.9)\n",
    "\n",
    "\n",
    "# format_plot\n",
    "format_plot(ax=ax,xlabel=r'q (1/cm$^2$)',ylabel=r'w (Hz/cm$^2$)',fontsize=fontsize)#,use_loglog=True)\n",
    "plt.legend(fontsize=16,frameon=False)\n",
    "ax.set_xscale('log')\n",
    "ax.set_yscale('log')\n",
    "ax.set_ylim((0.0023641776732192935, 25.08908114695242))\n",
    "ax.tick_params(top=True, right=True,direction='in',which='both')\n",
    "\n",
    "plt.show()"
   ]
  },
  {
   "cell_type": "markdown",
   "id": "41db3e0d",
   "metadata": {},
   "source": [
    "## Analysis Following Master Equation Ansatz\n"
   ]
  },
  {
   "cell_type": "markdown",
   "id": "63ba3706",
   "metadata": {},
   "source": [
    "$$\n",
    "\\frac{dP (n,t)}{dt} = \\sum_r [W_r(n-r)P(n-r,t)-W_r(n)P(n,t)].\n",
    "$$"
   ]
  },
  {
   "cell_type": "markdown",
   "id": "401ae0a5",
   "metadata": {},
   "source": [
    "For periodic boundary conditions, we are only concerned with $r=\\pm2$.\n",
    "\n",
    "$$\n",
    "\\frac{dP (n,t)}{dt} = W_{-2}(n-(-2))P(n-(-2),t)-W_{-2}(n)P(n,t) \\\\\n",
    "    + W_{+2}(n-(+2))P(n-(+2),t)-W_{+2}(n)P(n,t)\n",
    "$$\n",
    "\n",
    "$$\n",
    "\\frac{dP (n,t)}{dt} = W_{-2}(n+2)P(n+2,t)-W_{-2}(n)P(n,t) \\\\\n",
    "    + W_{+2}(n-2)P(n-2,t)-W_{+2}(n)P(n,t)\n",
    "$$\n",
    "\n",
    "The quasistationary state is defined by setting the left hand side to zero and solving for $P_{qs}(n)=P(n)$.\n",
    "\n",
    "Base Case: n=2 particles\n",
    "\n",
    "$$\n",
    "0 \\overset{!}{=} \\frac{dP (2,t)}{dt} = W_{-2}(2+2)P(2+2)-W_{-2}(2)P(2) \\\\\n",
    "    + W_{+2}(2-2)P(2-2)-W_{+2}(2)P(2) \\\\\n",
    "    = W_{-2}(4)P(4)-W_{-2}(2)P(2) + 0-W_{+2}(2)P(2)\n",
    "$$\n",
    "\n",
    "Therefore, \n",
    "\n",
    "$$P(4) = P(2) \\bigg(\\frac{W_{-2}(2)+W_{+2}(2)}{W_{-2}(4)}\\bigg).$$\n"
   ]
  },
  {
   "cell_type": "markdown",
   "id": "9259bba4",
   "metadata": {},
   "source": [
    "the next case is just as simple:\n",
    "$$\n",
    "P(n+2) =\\frac{1}{W_{-2}(n+2)}\\bigg( (W_{+2}(n) + W_{-2}(n))P(n) - W_{+2}(n-2)P(n-2)  \\bigg)\n",
    "$$\n"
   ]
  },
  {
   "cell_type": "markdown",
   "id": "93bc634a",
   "metadata": {},
   "source": [
    "The predicted mean termination time is given using the quasistatic distribution to compute the net rate of reactions that result in immediate termination.\n",
    "For us,\n",
    "\n",
    "$$\n",
    "\\frac{1}{\\tau} = W_{-2}(2)P(2)\n",
    "$$\n",
    "\n",
    "\n",
    "In general,\n",
    "$$\n",
    "\\frac{1}{\\tau} = \\sum_{r<0}W_r(-r)P(-r).\n",
    "$$"
   ]
  },
  {
   "cell_type": "code",
   "execution_count": 1083,
   "id": "62e1122d",
   "metadata": {
    "ExecuteTime": {
     "end_time": "2022-09-26T19:00:53.260973Z",
     "start_time": "2022-09-26T19:00:53.212653Z"
    }
   },
   "outputs": [],
   "source": [
    "#DONE: get token inputs prepared\n",
    "dict_fit_death_lr = dict(wjr['lr_pbc'])\n",
    "dict_fit_death_fk = dict(wjr['fk_pbc'])\n",
    "Mp = dict_fit_birth_fk['M']\n",
    "nup = dict_fit_birth_fk['m']\n",
    "Mm = dict_fit_death_fk['M']\n",
    "num = dict_fit_death_fk['m']\n",
    "model_name='Fenton-Karma'\n",
    "\n",
    "# Mp = dict_fit_birth_lr['M']\n",
    "# nup = dict_fit_birth_lr['m']\n",
    "# Mm = dict_fit_death_lr['M']\n",
    "# num = dict_fit_death_lr['m']\n",
    "# model_name='Luo-Rudy'\n",
    "\n",
    "\n",
    "#estimate the quasistatic distribution\n",
    "L=5 #cm\n",
    "A=L**2\n",
    "num_iter=20\n",
    "comp_Wp = get_comp_W(A,nup,Mp)\n",
    "comp_Wm = get_comp_W(A,num,Mm)\n",
    "# n_qs,prob_qs = comp_quasistatic_distrib_paired_bdrates(comp_Wm,comp_Wp,num_iter=num_iter,freq_prev=1.)\n",
    "n_qs,prob_qs = comp_quasistatic_distrib_paired_bdrates(comp_Wm,comp_Wp,num_iter=num_iter,freq_prev=100.)"
   ]
  },
  {
   "cell_type": "code",
   "execution_count": 1084,
   "id": "4ca37ff5",
   "metadata": {
    "ExecuteTime": {
     "end_time": "2022-09-26T19:00:53.915583Z",
     "start_time": "2022-09-26T19:00:53.714759Z"
    }
   },
   "outputs": [
    {
     "name": "stdout",
     "output_type": "stream",
     "text": [
      "Fenton-Karma (A=25 cm^2):\n",
      "- mean num particles (qstar*A): 8.075000000000006\n",
      "- mean num particles (correct qs distr): 7.624837359362669\n",
      "- mean num particles (incorrect qs distr): 4.5287077772353275\n",
      "- b.o.e. est. of mean termination time (correct qs distr): 15.1593 s\n",
      "- b.o.e. est. of mean termination time (incorrect qs distr): 4.4074 s\n"
     ]
    },
    {
     "data": {
      "image/png": "[encoded data removed]",
      "text/plain": [
       "<Figure size 640x480 with 1 Axes>"
      ]
     },
     "metadata": {},
     "output_type": "display_data"
    }
   ],
   "source": [
    "#Warning: this recurrance relation appears to give the wrong qs distribution.\n",
    "#DONE: dev function from powerlaw fits of birth-death rates to mean termination time\n",
    "#inputs: nup,num,Mp,Mm\n",
    "#output: MTThat\n",
    "max_n_over_2 = int(num_iter)\n",
    "#HINT: average tau conditioned on n by averaging over the quasistationary distribution\n",
    "#DONE: estimate the quasistationary distribution\n",
    "#HINT: test that quasistationary distribution ends up normalized\n",
    "product_lst=[1]\n",
    "n_lst = [2]\n",
    "for n_over_2 in range(2,max_n_over_2+1):\n",
    "    product = 1.\n",
    "    for j in range(2,2*n_over_2+2,2):\n",
    "        product *= comp_Wp(2*j-2)/comp_Wm(2*j)\n",
    "    product_lst.append(product)\n",
    "    n_lst.append(2*n_over_2)\n",
    "\n",
    "n_values_qs = np.array(n_lst)\n",
    "prob_values_qs = np.array(product_lst)\n",
    "#normalize the quasistationary distribution\n",
    "prob_values_qs /=np.sum(prob_values_qs)\n",
    "\n",
    "#plot the wrong qs distribution (published) vs. the correct qs distribution\n",
    "plt.plot(n_qs,prob_qs,label='correct qs distribution')\n",
    "plt.plot(n_values_qs,prob_values_qs,label='inward flux ignored')\n",
    "format_plot(xlabel='n',ylabel='Probability')\n",
    "plt.legend(fontsize=fontsize)\n",
    "plt.xlim([0,40])\n",
    "\n",
    "#print summary\n",
    "xv = np.arange(0.02, 1,0.001)\n",
    "qstar,wstar = comp_powerlaw_intersection(Mp,nup,Mm,num,xv=xv)\n",
    "if printing:\n",
    "    print(f\"{model_name} ({A=:.0f} cm^2):\")\n",
    "    print(f\"- mean num particles (qstar*A): {qstar*A}\") \n",
    "    print(f\"- mean num particles (correct qs distr): {np.sum(prob_qs*n_qs)}\")\n",
    "    print(f\"- mean num particles (incorrect qs distr): {np.sum(prob_values_qs*n_values_qs)}\")\n",
    "    n=2\n",
    "    tau = 1/(comp_Wm(2)*prob_qs[n_qs==n])[0]\n",
    "    print(f\"- b.o.e. est. of mean termination time (correct qs distr): {tau:.4f} s\")\n",
    "    tau = 1/(comp_Wm(2)*prob_values_qs[n_values_qs==n])[0]\n",
    "    print(f\"- b.o.e. est. of mean termination time (incorrect qs distr): {tau:.4f} s\")\n",
    "\n",
    "plt.show()"
   ]
  },
  {
   "cell_type": "code",
   "execution_count": 1085,
   "id": "91bf89a0",
   "metadata": {
    "ExecuteTime": {
     "end_time": "2022-09-26T19:00:54.236366Z",
     "start_time": "2022-09-26T19:00:54.183456Z"
    }
   },
   "outputs": [
    {
     "data": {
      "text/plain": [
       "(7.624837359362673, 0.9999999999999999, 20)"
      ]
     },
     "execution_count": 1085,
     "metadata": {},
     "output_type": "execute_result"
    }
   ],
   "source": [
    "#TODO: dev unit test on qs distribution generating function\n",
    "comp_Wp = get_comp_W(A,nup,Mp)\n",
    "comp_Wm = get_comp_W(A,num,Mm)\n",
    "n_qs,prob_qs = comp_quasistatic_distrib_paired_bdrates(comp_Wm,comp_Wp,num_iter=num_iter)\n",
    "np.sum(prob_qs*n_qs),np.sum(prob_qs),prob_qs.shape[0]"
   ]
  },
  {
   "cell_type": "code",
   "execution_count": 1086,
   "id": "3cf9f9ba",
   "metadata": {
    "ExecuteTime": {
     "end_time": "2022-09-26T19:00:54.973544Z",
     "start_time": "2022-09-26T19:00:54.923889Z"
    }
   },
   "outputs": [
    {
     "data": {
      "text/plain": [
       "array([ 2,  4,  6,  8, 10, 12, 14, 16, 18, 20, 22, 24, 26, 28, 30, 32, 34,\n",
       "       36, 38, 40])"
      ]
     },
     "execution_count": 1086,
     "metadata": {},
     "output_type": "execute_result"
    }
   ],
   "source": [
    "n_qs"
   ]
  },
  {
   "cell_type": "code",
   "execution_count": 1079,
   "id": "de1859e2",
   "metadata": {
    "ExecuteTime": {
     "end_time": "2022-09-26T19:00:05.218803Z",
     "start_time": "2022-09-26T19:00:05.167144Z"
    }
   },
   "outputs": [],
   "source": [
    "# Fenton-Karma:\n",
    "# Actual MTT: 27.7966 +/- 6.5012 s  \n",
    "# correct qs avg: 21.9621 s\n",
    "# incorrect qs avg: 4.4074 s\n",
    "# 27.7966 - 6.5012\n",
    "# ==> correct qs avg underestimates insignificantly\n",
    "\n",
    "# Luo-Rudy:\n",
    "# Actual MTT: 0.7422 +/- 0.0586 s\n",
    "# correct qs avg: 5.2276 s\n",
    "# incorrect qs avg: MTT= 0.2137 s\n",
    "# ==> correct qs avg overestiamtesstimates "
   ]
  },
  {
   "cell_type": "code",
   "execution_count": 880,
   "id": "f53c6e8a",
   "metadata": {
    "ExecuteTime": {
     "end_time": "2022-09-26T03:54:15.305603Z",
     "start_time": "2022-09-26T03:54:15.253430Z"
    }
   },
   "outputs": [],
   "source": [
    "# print(\"Q: is it one?\") \n",
    "# # print(prob_qs[n_qs==2]**-1*prob_qs[n_qs==4]*comp_Wm(4)/(comp_Wm(2)+comp_Wp(2)))\n",
    "# # n=4\n",
    "# # print(prob_qs[n_qs==n]**-1*(comp_Wp(n-2)*prob_qs[n_qs==n-2] + comp_Wp(n+2)*prob_qs[n_qs==n+2])/(comp_Wm(n)+comp_Wp(n)))\n",
    "# freq_prev  = prob_qs[n_qs==n-2]#[0]\n",
    "# freq_cur   = prob_qs[n_qs==n]#[0]\n",
    "# # freq_next  = (comp_Wp(n) + comp_Wm(n))*freq_cur - comp_Wm(n-2)*freq_prev\n",
    "# freq_next  = (comp_Wp(n) + comp_Wm(n))*freq_cur - comp_Wp(n-2)*freq_prev\n",
    "# freq_next /= comp_Wm(n+2) \n",
    "# print(f\"{prob_qs[n_qs==n+2][0]/freq_next=}\")\n",
    "\n",
    "# # #test for base case of recurance relation\n",
    "# # prob_values_qs[n_values_qs==2], comp_Wm(4)*prob_values_qs[n_values_qs==4]/(comp_Wm(2)+comp_Wp(2))\n",
    "# # print(prob_qs[n_qs==2], prob_qs[n_qs==4]*comp_Wm(4)/(comp_Wm(2)+comp_Wp(2)))\n",
    "\n",
    "# # #test for next case of recurance relation\n",
    "# # n=4\n",
    "# # prob_values_qs[n_values_qs==n], (comp_Wp(n-2)*prob_values_qs[n_values_qs==n-2] + comp_Wp(n+2)*prob_values_qs[n_values_qs==n+2])/(comp_Wm(n)+comp_Wp(n))\n",
    "# # print(prob_qs[n_qs==n], (comp_Wp(n-2)*prob_qs[n_qs==n-2] + comp_Wp(n+2)*prob_qs[n_qs==n+2])/(comp_Wm(n)+comp_Wp(n)))\n",
    "\n",
    "# #TODO: test recurrance relation is satisfied for all terms \n",
    "# for n in n_qs:\n",
    "#     pass"
   ]
  },
  {
   "cell_type": "markdown",
   "id": "24725a74",
   "metadata": {},
   "source": [
    "Fenton-Karma:\n",
    "- mean number of particles (direct): 10.5836 +/- 0.0312 (num_obs: 36179, p_normal: 0.5298)\n",
    "- mean num particles (qstar*A): 7.999999999999999\n",
    "- mean num particles (correct qs distr): 7.8934895769909845\n",
    "- mean num particles (incorrect qs distr): 4.5287077772353275\n",
    "- predicted mean termination time: 33.6558 s\n",
    "\n",
    "Luo-Rudy:\n",
    "- mean number of particles (direct): 10.5836 +/- 0.0305 (num_obs: 36179, p_normal: 0.0240)\n",
    "- mean num particles (qstar*A): 4.249999999999999\n",
    "- mean num particles (correct qs distr): 4.853111490143855\n",
    "- mean num particles (incorrect qs distr): 2.84902260365808\n",
    "- predicted mean termination time: 3.3068 s"
   ]
  },
  {
   "cell_type": "markdown",
   "id": "cd8ce8b1",
   "metadata": {
    "heading_collapsed": true
   },
   "source": [
    "# DONE: find a formula for a consistent mean value of termination time\n",
    "#DONE: try out each of the 6 hypotheses I guessed to avoid reading the 400 page handbook WJ used to cite his \"analytic solution\""
   ]
  },
  {
   "cell_type": "markdown",
   "id": "91f66ffa",
   "metadata": {
    "hidden": true
   },
   "source": [
    "We have an expressions for $\\tau(n)$ in terms of the action variable, $\\phi$:\n",
    " \n",
    "$$\n",
    "\\tau(n) = \\sum_{k=1}^{n/2} \\phi(2(k-1)) \\sum_{j=k}^\\infty \\frac{1}{\\phi(2j)W_{+2}(2j)},\n",
    "$$\n",
    "and \n",
    "$$\n",
    "\\phi(k) = \\Pi_{i=1}^{k/2} \\frac{W_{-2}(2i)}{W_{+2}(2i)}.\n",
    "$$\n",
    "\n",
    "Given the mean termination time conditioned on n particles existing, we estimate the mean termination time according to:\n",
    "$$\n",
    "\\mathbb{E}[\\tau] = \\sum_{n=0}^\\infty \\tau(n) P(n)\n",
    "$$\n",
    "\n"
   ]
  },
  {
   "cell_type": "code",
   "execution_count": null,
   "id": "72edbc6b",
   "metadata": {
    "hidden": true
   },
   "outputs": [],
   "source": []
  },
  {
   "cell_type": "markdown",
   "id": "15904cb6",
   "metadata": {
    "hidden": true
   },
   "source": [
    "Given the mean termination time conditioned on n particles existing, we estimate the mean termination time according to:\n",
    "$$\n",
    "\\mathbb{E}[\\tau] = \\sum_{n=0}^\\infty \\tau(n) P(n)\n",
    "$$\n",
    "\n"
   ]
  },
  {
   "cell_type": "markdown",
   "id": "b5eb30b8",
   "metadata": {
    "hidden": true
   },
   "source": [
    "we have 6 hypotheses composed of two expressions for $\\tau(n)$ and three expressions for the action variable, $\\phi$.\n",
    " \n",
    "Expression A for $\\tau(n)$:\n",
    "$$\n",
    "\\tau(n) = \\sum_{k=1}^{n/2} \\phi(2(k-1)) \\sum_{j=k}^\\infty \\frac{1}{\\phi(2j)W_{+2}(2j)}\n",
    "$$\n",
    "\n",
    "Expression B for $\\tau(n)$:\n",
    "$$\n",
    "\\tau(n) = \\sum_{k=1}^{n/2} \\phi(2(k-1)) \\sum_{j=k}^\\infty \\frac{1}{\\phi(2j)W_{+2}(2j)}\n",
    "$$"
   ]
  },
  {
   "cell_type": "markdown",
   "id": "afe048e6",
   "metadata": {
    "ExecuteTime": {
     "end_time": "2022-09-26T00:41:37.910322Z",
     "start_time": "2022-09-26T00:41:37.786444Z"
    },
    "hidden": true
   },
   "source": [
    "In any case $\\phi(0)\\equiv 1$.  The 3 hypothetical forms of $\\phi$ are the following:\n",
    "\n",
    "Guess A:\n",
    "\n",
    "$$\n",
    "\\phi(k) = \\Pi_{i=1}^{k/2} \\frac{W_{-2}(2i) + W_{+2}(2i)}{W_{-2}(2i)}\n",
    "$$\n",
    "\n",
    "Guess B:\n",
    "\n",
    "$$\n",
    "\\phi(k) = \\Pi_{i=1}^{k/2} \\frac{W_{-2}(2i)}{W_{-2}(2i) + W_{+2}(2i)} \n",
    "$$\n",
    "\n",
    "Guess C:\n",
    "\n",
    "$$\n",
    "\\phi(k) = \\Pi_{i=1}^{k/2} \\frac{W_{-2}(2i)}{W_{+2}(2i)} \n",
    "$$\n",
    "\n",
    "Guess D:\n",
    "\n",
    "$$\n",
    "\\phi(k) = \\Pi_{i=1}^{k/2} \\frac{W_{+2}(2i)}{W_{-2}(2i) + W_{+2}(2i)} \n",
    "$$\n",
    "\n"
   ]
  },
  {
   "cell_type": "markdown",
   "id": "384122dd",
   "metadata": {
    "hidden": true
   },
   "source": [
    "### define hypothesis module"
   ]
  },
  {
   "cell_type": "code",
   "execution_count": 881,
   "id": "7e333d1e",
   "metadata": {
    "ExecuteTime": {
     "end_time": "2022-09-26T03:54:19.641064Z",
     "start_time": "2022-09-26T03:54:19.591924Z"
    },
    "hidden": true
   },
   "outputs": [],
   "source": [
    "#DONE: implement each action variables\n",
    "def get_phi_A(comp_Wm,comp_Wp):\n",
    "    \"\"\"\n",
    "    \n",
    "    Example Usage:\n",
    "phi_A = get_phi_A(comp_Wm,comp_Wp)\n",
    "    \"\"\"\n",
    "    def  phi(k):\n",
    "        product=1.\n",
    "        for i in range(int(k/2)):\n",
    "            #print(f\"{k=}: {i=}  <-- does that look reasonable?\")\n",
    "            ii=i+1 #correct for 0 indexing\n",
    "            product *= comp_Wm(2*ii) + comp_Wp(2*ii) #A\n",
    "#             product *= comp_Wm(2*ii)                 #B\n",
    "#             product *= comp_Wm(2*ii)                 #C\n",
    "#             product *= comp_Wp(2*ii)                 #D\n",
    "            product /= comp_Wp(2*ii)                 #A\n",
    "#             product /= comp_Wm(2*ii) + comp_Wp(2*ii) #B\n",
    "#             product /= comp_Wp(2*ii)                 #C\n",
    "#             product /= comp_Wm(2*ii) + comp_Wp(2*ii) #D\n",
    "        return product\n",
    "    return phi"
   ]
  },
  {
   "cell_type": "code",
   "execution_count": 882,
   "id": "1a221cf8",
   "metadata": {
    "ExecuteTime": {
     "end_time": "2022-09-26T03:54:20.311973Z",
     "start_time": "2022-09-26T03:54:20.262436Z"
    },
    "hidden": true
   },
   "outputs": [],
   "source": [
    "#DONE: implement each action variables\n",
    "def get_phi_B(comp_Wm,comp_Wp):\n",
    "    \"\"\"\n",
    "    \n",
    "    Example Usage:\n",
    "phi_B = get_phi_B(comp_Wm,comp_Wp)\n",
    "    \"\"\"\n",
    "    def phi(k):\n",
    "        product=1.\n",
    "        for i in range(int(k/2)):\n",
    "            #print(f\"{k=}: {i=}  <-- does that look reasonable?\")\n",
    "            ii=i+1 #correct for 0 indexing\n",
    "#             product *= comp_Wm(2*ii) + comp_Wp(2*ii) #A\n",
    "            product *= comp_Wm(2*ii)                 #B\n",
    "#             product *= comp_Wm(2*ii)                 #C\n",
    "#             product *= comp_Wp(2*ii)                 #D\n",
    "#             product /= comp_Wp(2*ii)                 #A\n",
    "            product /= comp_Wm(2*ii) + comp_Wp(2*ii) #B\n",
    "#             product /= comp_Wp(2*ii)                 #C\n",
    "#             product /= comp_Wm(2*ii) + comp_Wp(2*ii) #D\n",
    "        return product\n",
    "    return phi"
   ]
  },
  {
   "cell_type": "code",
   "execution_count": 944,
   "id": "fd677894",
   "metadata": {
    "ExecuteTime": {
     "end_time": "2022-09-26T04:33:14.494843Z",
     "start_time": "2022-09-26T04:33:14.439718Z"
    },
    "hidden": true
   },
   "outputs": [],
   "source": [
    "#DONE: implement each action variables\n",
    "def get_phi_C(comp_Wm,comp_Wp):\n",
    "    \"\"\"\n",
    "    \n",
    "    Example Usage:\n",
    "phi_C = get_phi_C(comp_Wm,comp_Wp)\n",
    "    \"\"\"\n",
    "    def phi(k):\n",
    "        product=1.\n",
    "        for i in range(int(k/2)):\n",
    "            #print(f\"{k=}: {i=}  <-- does that look reasonable?\")\n",
    "            ii=i+1 #correct for 0 indexing\n",
    "#             product *= comp_Wm(2*ii) + comp_Wp(2*ii) #A\n",
    "#             product *= comp_Wm(2*ii)                 #B\n",
    "            product *= comp_Wm(2*ii)                 #C\n",
    "#             product *= comp_Wp(2*ii)                 #D\n",
    "#             product /= comp_Wp(2*ii)                 #A\n",
    "#             product /= comp_Wm(2*ii) + comp_Wp(2*ii) #B\n",
    "            product /= comp_Wp(2*ii)                 #C\n",
    "#             product /= comp_Wm(2*ii) + comp_Wp(2*ii) #D\n",
    "        return product\n",
    "    return phi"
   ]
  },
  {
   "cell_type": "code",
   "execution_count": 885,
   "id": "ab8a49e6",
   "metadata": {
    "ExecuteTime": {
     "end_time": "2022-09-26T03:54:21.793727Z",
     "start_time": "2022-09-26T03:54:21.742731Z"
    },
    "hidden": true
   },
   "outputs": [],
   "source": [
    "#DONE: implement each action variables\n",
    "def get_phi_D(comp_Wm,comp_Wp):\n",
    "    \"\"\"\n",
    "    \n",
    "    Example Usage:\n",
    "phi_D = get_phi_D(comp_Wm,comp_Wp)\n",
    "    \"\"\"\n",
    "    def phi(k):\n",
    "        product=1.\n",
    "        for i in range(int(k/2)):\n",
    "            #print(f\"{k=}: {i=}  <-- does that look reasonable?\")\n",
    "            ii=i+1 #correct for 0 indexing\n",
    "#             product *= comp_Wm(2*ii) + comp_Wp(2*ii) #A\n",
    "#             product *= comp_Wm(2*ii)                 #B\n",
    "#             product *= comp_Wm(2*ii)                 #C\n",
    "            product *= comp_Wp(2*ii)                 #D\n",
    "#             product /= comp_Wp(2*ii)                 #A\n",
    "#             product /= comp_Wm(2*ii) + comp_Wp(2*ii) #B\n",
    "#             product /= comp_Wp(2*ii)                 #C\n",
    "            product /= comp_Wm(2*ii) + comp_Wp(2*ii) #D\n",
    "        return product\n",
    "    return phi"
   ]
  },
  {
   "cell_type": "code",
   "execution_count": null,
   "id": "c5118a08",
   "metadata": {
    "hidden": true
   },
   "outputs": [],
   "source": [
    "#DONE: implement the hypotheses\n",
    "def eval_tau_expression_a(n_over_2, phi, comp_Wm, comp_Wp, maxinf_num_inner_sum=20,printing=True, **kwargs):\n",
    "    \"\"\"compute mean first passage time conditioned on initial number of particles.\n",
    "    phi, comp_Wm, comp_Wp evaluate to the action variable, death rate, and birth rate, respectively. \n",
    "    \n",
    "    Example Usage:\n",
    "n_over_2 = int(np.floor(n/2)\n",
    "tau = eval_tau_expression_a(n_over_2,phi, comp_Wm, comp_Wp, maxinf_num_inner_sum=20)\n",
    "    \"\"\"\n",
    "    assert n_over_2<=maxinf_num_inner_sum#\n",
    "    outer_sum=0.\n",
    "    for k in range(n_over_2):\n",
    "        inner_sum=0.\n",
    "        for j in range(k,maxinf_num_inner_sum):\n",
    "            jj = j+1 #correct for 1 indexing\n",
    "            summand = 1. \n",
    "            summand/= phi(2*jj)*comp_Wp(2*jj)  #1\n",
    "            #summand/= phi(2*jj)*comp_Wm(2*(jj-1))  #2\n",
    "            #print(f\"{k=}: {j=}: {summand=}\\r\")\n",
    "            inner_sum += summand\n",
    "        inner_sum *= phi(2*(k-1)) \n",
    "        outer_sum += inner_sum\n",
    "        if printing:\n",
    "            print(f\"{k=}: {j=}: {outer_sum=:.4f} from {inner_sum=:.4f}\")\n",
    "            #print(f\"{k=}: {j=}: {outer_sum=:.4f} from {inner_sum=:.4f}\\r\")\n",
    "    return outer_sum\n",
    "\n",
    "#DONE: implement the hypotheses\n",
    "def eval_tau_expression_b(n_over_2, phi, comp_Wm, comp_Wp, maxinf_num_inner_sum=20,printing=True, **kwargs):\n",
    "    \"\"\"compute mean first passage time conditioned on initial number of particles.\n",
    "    phi, comp_Wm, comp_Wp evaluate to the action variable, death rate, and birth rate, respectively. \n",
    "    \n",
    "    Example Usage:\n",
    "n_over_2 = int(np.floor(n/2))\n",
    "tau = eval_tau_expression_b(n_over_2,phi, comp_Wm, comp_Wp, maxinf_num_inner_sum=20)\n",
    "    \"\"\"\n",
    "    assert n_over_2<=maxinf_num_inner_sum#\n",
    "    outer_sum=0.\n",
    "    for k in range(n_over_2):\n",
    "        k+=1\n",
    "        inner_sum=0.\n",
    "        for j in range(k,maxinf_num_inner_sum):\n",
    "            jj = j+1 #correct for 1 indexing\n",
    "            summand = 1. \n",
    "            #summand/= phi(2*jj)*comp_Wp(2*jj)  #1\n",
    "            summand/= phi(2*jj)*comp_Wm(2*(jj-1))  #2\n",
    "            #print(f\"{k=}: {j=}: {summand=}\\r\")\n",
    "            inner_sum += summand\n",
    "        inner_sum *= phi(2*(k-1)) \n",
    "        outer_sum += inner_sum\n",
    "        if printing:\n",
    "            print(f\"{k=}: {j=}: {outer_sum=:.4f} from {inner_sum=:.4f}\")\n",
    "            #print(f\"{k=}: {j=}: {outer_sum=:.4f} from {inner_sum=:.4f}\\r\")\n",
    "    return outer_sum"
   ]
  },
  {
   "cell_type": "markdown",
   "id": "e9831e1e",
   "metadata": {
    "heading_collapsed": true,
    "hidden": true
   },
   "source": [
    "### test module"
   ]
  },
  {
   "cell_type": "code",
   "execution_count": 923,
   "id": "8e82fd40",
   "metadata": {
    "ExecuteTime": {
     "end_time": "2022-09-26T04:14:54.271454Z",
     "start_time": "2022-09-26T04:14:54.223790Z"
    },
    "hidden": true
   },
   "outputs": [],
   "source": [
    "#DONE: implement each of the hypothetical action variables\n",
    "phi_A = get_phi_A(comp_Wm,comp_Wp)\n",
    "phi_B = get_phi_B(comp_Wm,comp_Wp)\n",
    "phi_C = get_phi_C(comp_Wm,comp_Wp)\n",
    "phi_D = get_phi_D(comp_Wm,comp_Wp)\n"
   ]
  },
  {
   "cell_type": "code",
   "execution_count": 924,
   "id": "35097179",
   "metadata": {
    "ExecuteTime": {
     "end_time": "2022-09-26T04:14:54.681082Z",
     "start_time": "2022-09-26T04:14:54.629255Z"
    },
    "hidden": true
   },
   "outputs": [
    {
     "name": "stdout",
     "output_type": "stream",
     "text": [
      "k=0: j=19: outer_sum=0.1716 from inner_sum=0.1716\n"
     ]
    },
    {
     "data": {
      "text/plain": [
       "0.1716335120897946"
      ]
     },
     "execution_count": 924,
     "metadata": {},
     "output_type": "execute_result"
    }
   ],
   "source": [
    "#DONE: implement each of the hypotheses\n",
    "#DONE: compute tau conditioned on n as a test case\n",
    "k=5\n",
    "maxinf_num_inner_sum=20\n",
    "n_over_2 = int(np.floor(n/2))\n",
    "tau = eval_tau_expression_a(n_over_2 ,phi_A, comp_Wm, comp_Wp, maxinf_num_inner_sum=20,printing=True)\n",
    "tau"
   ]
  },
  {
   "cell_type": "code",
   "execution_count": 945,
   "id": "fcb77561",
   "metadata": {
    "ExecuteTime": {
     "end_time": "2022-09-26T04:33:45.675264Z",
     "start_time": "2022-09-26T04:33:45.560336Z"
    },
    "hidden": true
   },
   "outputs": [
    {
     "data": {
      "text/plain": [
       "0.3328062772901932"
      ]
     },
     "execution_count": 945,
     "metadata": {},
     "output_type": "execute_result"
    }
   ],
   "source": [
    "\n",
    "eval_tau_a=get_eval_tau(eval_tau_expression_a)\n",
    "eval_tau_b=get_eval_tau(eval_tau_expression_b)\n",
    "\n",
    "tau = eval_tau_a(n_qs, prob_qs, phi_A, comp_Wm, comp_Wp, maxinf_num_inner_sum=20, printing=False,**kwargs)\n",
    "# tau = eval_tau_a(n_qs=n_qs, prob_qs=prob_qs, phi=phi_A, comp_Wm=comp_Wm, comp_Wp=comp_Wp, maxinf_num_inner_sum=max_num_inner_sum, printing=\n",
    "# eval_tau(phi_A, comp_Wm, comp_Wp, maxinf_num_inner_sum=maxinf_num_inner_sum, printing=printing))\n",
    "tau"
   ]
  },
  {
   "cell_type": "code",
   "execution_count": 946,
   "id": "8f75808b",
   "metadata": {
    "ExecuteTime": {
     "end_time": "2022-09-26T04:33:46.002313Z",
     "start_time": "2022-09-26T04:33:45.954896Z"
    },
    "hidden": true
   },
   "outputs": [],
   "source": [
    "tau_gt_fk =  27.7966 #+/- 6.5012 s \n",
    "tau_gt_lr =  0.7422 # +/- 0.0586 s\n",
    "tau_gt = tau_gt_fk\n",
    "# tau_gt = tau_gt_lr"
   ]
  },
  {
   "cell_type": "code",
   "execution_count": 947,
   "id": "54232add",
   "metadata": {
    "ExecuteTime": {
     "end_time": "2022-09-26T04:33:46.962401Z",
     "start_time": "2022-09-26T04:33:46.535512Z"
    },
    "hidden": true
   },
   "outputs": [
    {
     "name": "stdout",
     "output_type": "stream",
     "text": [
      "\n",
      "Ground Truth:\n",
      "tau_gt=27.7966 s\n",
      "\n",
      "Predictions:\n",
      "tau_aA=0.3328 s\n",
      "tau_aB=5136.3037 s\n",
      "tau_aC=26.1095 s\n",
      "tau_aD=4712040507145601.0000 s\n",
      "\n",
      "tau_bA=0.8739 s\n",
      "tau_bB=527.2894 s\n",
      "tau_bC=48.4942 s\n",
      "tau_bD=266387264603000.6875 s\n",
      "\n"
     ]
    }
   ],
   "source": [
    "maxinf_num_inner_sum=20\n",
    "printing=True\n",
    "#TODO: compute tau conditioned on n for each of the hypotheses\n",
    "n_over_2 = int(np.floor(n/2))\n",
    "#exppression a\n",
    "tau_aA = eval_tau_a(n_qs, prob_qs, phi_A, comp_Wm, comp_Wp, printing=False)#, **kwargs)\n",
    "tau_aB = eval_tau_a(n_qs, prob_qs, phi_B, comp_Wm, comp_Wp, printing=False)#, **kwargs)\n",
    "tau_aC = eval_tau_a(n_qs, prob_qs, phi_C, comp_Wm, comp_Wp, printing=False)#, **kwargs)\n",
    "tau_aD = eval_tau_a(n_qs, prob_qs, phi_D, comp_Wm, comp_Wp, printing=False)#, **kwargs)\n",
    "#exppression b\n",
    "tau_bA = eval_tau_b(n_qs, prob_qs, phi_A, comp_Wm, comp_Wp, printing=False)#, **kwargs)\n",
    "tau_bB = eval_tau_b(n_qs, prob_qs, phi_B, comp_Wm, comp_Wp, printing=False)#, **kwargs)\n",
    "tau_bC = eval_tau_b(n_qs, prob_qs, phi_C, comp_Wm, comp_Wp, printing=False)#, **kwargs)\n",
    "tau_bD = eval_tau_b(n_qs, prob_qs, phi_D, comp_Wm, comp_Wp, printing=False)#, **kwargs)\n",
    "\n",
    "\n",
    "# #exppression a (tau2 only)\n",
    "# tau_aA = eval_tau_expression_a(n_over_2 ,phi_A, comp_Wm, comp_Wp, maxinf_num_inner_sum=maxinf_num_inner_sum, printing=printing)\n",
    "# tau_aB = eval_tau_expression_a(n_over_2 ,phi_B, comp_Wm, comp_Wp, maxinf_num_inner_sum=maxinf_num_inner_sum, printing=printing)\n",
    "# tau_aC = eval_tau_expression_a(n_over_2 ,phi_C, comp_Wm, comp_Wp, maxinf_num_inner_sum=maxinf_num_inner_sum, printing=printing)\n",
    "# tau_aD = eval_tau_expression_a(n_over_2 ,phi_D, comp_Wm, comp_Wp, maxinf_num_inner_sum=maxinf_num_inner_sum, printing=printing)\n",
    "# #exppression b (tau2 only)\n",
    "# tau_bA = eval_tau_expression_b(n_over_2 ,phi_A, comp_Wm, comp_Wp, maxinf_num_inner_sum=maxinf_num_inner_sum, printing=printing)\n",
    "# tau_bB = eval_tau_expression_b(n_over_2 ,phi_B, comp_Wm, comp_Wp, maxinf_num_inner_sum=maxinf_num_inner_sum, printing=printing)\n",
    "# tau_bC = eval_tau_expression_b(n_over_2 ,phi_C, comp_Wm, comp_Wp, maxinf_num_inner_sum=maxinf_num_inner_sum, printing=printing)\n",
    "# tau_bD = eval_tau_expression_b(n_over_2 ,phi_D, comp_Wm, comp_Wp, maxinf_num_inner_sum=maxinf_num_inner_sum, printing=printing)\n",
    "\n",
    "\n",
    "print(f\"\"\"\n",
    "Ground Truth:\n",
    "{tau_gt=:.4f} s\n",
    "\n",
    "Predictions:\n",
    "{tau_aA=:.4f} s\n",
    "{tau_aB=:.4f} s\n",
    "{tau_aC=:.4f} s\n",
    "{tau_aD=:.4f} s\n",
    "\n",
    "{tau_bA=:.4f} s\n",
    "{tau_bB=:.4f} s\n",
    "{tau_bC=:.4f} s\n",
    "{tau_bD=:.4f} s\n",
    "\"\"\")"
   ]
  },
  {
   "cell_type": "code",
   "execution_count": 929,
   "id": "90b2a8bc",
   "metadata": {
    "ExecuteTime": {
     "end_time": "2022-09-26T04:18:47.376986Z",
     "start_time": "2022-09-26T04:18:47.332516Z"
    },
    "hidden": true
   },
   "outputs": [
    {
     "data": {
      "text/plain": [
       "'Fenton-Karma'"
      ]
     },
     "execution_count": 929,
     "metadata": {},
     "output_type": "execute_result"
    }
   ],
   "source": [
    "model_name"
   ]
  },
  {
   "cell_type": "code",
   "execution_count": null,
   "id": "57147e71",
   "metadata": {
    "hidden": true
   },
   "outputs": [],
   "source": []
  },
  {
   "cell_type": "code",
   "execution_count": null,
   "id": "0016601d",
   "metadata": {
    "hidden": true
   },
   "outputs": [],
   "source": []
  },
  {
   "cell_type": "code",
   "execution_count": 718,
   "id": "0077ff8c",
   "metadata": {
    "ExecuteTime": {
     "end_time": "2022-09-26T00:48:13.866573Z",
     "start_time": "2022-09-26T00:48:13.818943Z"
    },
    "hidden": true
   },
   "outputs": [],
   "source": [
    "#TODO: sum their product over n_qs\n"
   ]
  },
  {
   "cell_type": "code",
   "execution_count": null,
   "id": "06c7b585",
   "metadata": {
    "hidden": true
   },
   "outputs": [],
   "source": [
    "#TODO: wrap ^this to function\n",
    "#TODO: estimate MTT from the power law fits to the full model's birth/death rates"
   ]
  },
  {
   "cell_type": "code",
   "execution_count": 699,
   "id": "9deba15c",
   "metadata": {
    "ExecuteTime": {
     "end_time": "2022-09-26T00:25:18.946073Z",
     "start_time": "2022-09-26T00:25:18.895892Z"
    },
    "hidden": true
   },
   "outputs": [],
   "source": [
    "#TODO(bonus): estimate 95% CI using max abs diff of arguments +/- their uncertainty\n",
    "#TODO(bonus): wrap ^this as foo. \n",
    "# HINT:\n",
    "# dict_fit_birth = dict(nu_plus = nup_fk, \n",
    "#                       Delta_nu_plus = Delta_nup_fk, \n",
    "#                       M_plus = Mp_fk, \n",
    "#                       Delta_M_plus = Delta_Mp_fk, \n",
    "#                      )\n",
    "#Q: is my MTT significantly different from the values observed from the full models?"
   ]
  },
  {
   "cell_type": "markdown",
   "id": "24fc9088",
   "metadata": {},
   "source": [
    "# TODO: plot the mean termination times predicted by the paired birth death model"
   ]
  },
  {
   "cell_type": "code",
   "execution_count": 1161,
   "id": "1f52c43f",
   "metadata": {
    "ExecuteTime": {
     "end_time": "2022-09-26T19:56:46.334345Z",
     "start_time": "2022-09-26T19:56:46.292724Z"
    }
   },
   "outputs": [],
   "source": [
    "#DONE: get token inputs prepared\n",
    "dict_fit_death_lr = dict(wjr['lr_pbc'])\n",
    "dict_fit_death_fk = dict(wjr['fk_pbc'])"
   ]
  },
  {
   "cell_type": "code",
   "execution_count": 1162,
   "id": "2364ef6e",
   "metadata": {
    "ExecuteTime": {
     "end_time": "2022-09-26T19:56:46.889660Z",
     "start_time": "2022-09-26T19:56:46.835439Z"
    }
   },
   "outputs": [],
   "source": [
    "# input size of computational domain with pbc\n",
    "L=5 #cm\n",
    "A=L**2 #cm^2\n",
    "num_iter=20 # max num particles to consider divided by two."
   ]
  },
  {
   "cell_type": "code",
   "execution_count": 1171,
   "id": "cbb02773",
   "metadata": {
    "ExecuteTime": {
     "end_time": "2022-09-26T19:57:58.099678Z",
     "start_time": "2022-09-26T19:57:57.974492Z"
    }
   },
   "outputs": [
    {
     "name": "stdout",
     "output_type": "stream",
     "text": [
      "Fenton-Karma (A=25 cm^2):\n",
      "- mean termination time (correct qs distr): 25.8562 s\n",
      "- mean num particles (correct qs distr): 7.6248\n",
      "- mean num particles (qstar*A): 8.0750\n",
      "\n",
      "Luo-Rudy (A=25 cm^2):\n",
      "- mean termination time (correct qs distr): 0.5059 s\n",
      "- mean num particles (correct qs distr): 6.5878\n",
      "- mean num particles (qstar*A): 4.2750\n"
     ]
    }
   ],
   "source": [
    "################################\n",
    "# estimate mtt for Fenton-Karma\n",
    "################################\n",
    "Mp = dict_fit_birth_fk['M']\n",
    "nup = dict_fit_birth_fk['m']\n",
    "Mm = dict_fit_death_fk['M']\n",
    "num = dict_fit_death_fk['m']\n",
    "model_name='Fenton-Karma'\n",
    "\n",
    "# Mp = dict_fit_birth_lr['M']\n",
    "# nup = dict_fit_birth_lr['m']\n",
    "# Mm = dict_fit_death_lr['M']\n",
    "# num = dict_fit_death_lr['m']\n",
    "# model_name='Luo-Rudy'\n",
    "\n",
    "#implement model\n",
    "comp_Wp = get_comp_W(A,nup,Mp)\n",
    "comp_Wm = get_comp_W(A,num,Mm)\n",
    "phi = get_phi(comp_Wm,comp_Wp)\n",
    "eval_tau= get_eval_tau(eval_tau_expression)\n",
    "#estimate the quasistatic distribution\n",
    "n_qs,prob_qs = comp_quasistatic_distrib_paired_bdrates(comp_Wm,comp_Wp,num_iter=num_iter)\n",
    "#estimate the mean termination time\n",
    "tau = eval_tau(n_qs, prob_qs, phi, comp_Wm, comp_Wp, maxinf_num_inner_sum=num_iter, printing=False)#,**kwargs)\n",
    "#estimate the mean number of particles\n",
    "nbar = np.sum(prob_qs*n_qs)\n",
    "nsqbar = np.sum(prob_qs*(n_qs**2))\n",
    "#record\n",
    "dict_results_master_fk = dict(\n",
    "    model=model_name,\n",
    "    tau=tau,\n",
    "    nbar=nbar,\n",
    "    qstarA=qstar*A,\n",
    "    A=A,\n",
    "    Mp=Mp,nup=nup,\n",
    "    Mm=Mm,num=num,\n",
    "    qstar=qstar,wstar=wstar,\n",
    "    num_iter=num_iter,\n",
    "    nsqbar=nsqbar)\n",
    "# print_dict(dict_results_master_fk)\n",
    "#print summary\n",
    "xv = np.arange(0.02, 1,0.001)\n",
    "qstar,wstar = comp_powerlaw_intersection(Mp,nup,Mm,num,xv=xv)\n",
    "if printing:\n",
    "    print(f\"{model_name} ({A=:.0f} cm^2):\")\n",
    "    print(f\"- mean termination time (correct qs distr): {tau:.4f} s\")    \n",
    "    print(f\"- mean num particles (correct qs distr): {nbar:.4f}\")\n",
    "    print(f\"- mean num particles (qstar*A): {qstar*A:.4f}\") \n",
    "\n",
    "################################\n",
    "# estimate mtt for Luo-Rudy\n",
    "################################\n",
    "Mp = dict_fit_birth_lr['M']\n",
    "nup = dict_fit_birth_lr['m']\n",
    "Mm = dict_fit_death_lr['M']\n",
    "num = dict_fit_death_lr['m']\n",
    "model_name='Luo-Rudy'\n",
    "\n",
    "#implement model\n",
    "comp_Wp = get_comp_W(A,nup,Mp)\n",
    "comp_Wm = get_comp_W(A,num,Mm)\n",
    "phi = get_phi(comp_Wm,comp_Wp)\n",
    "eval_tau= get_eval_tau(eval_tau_expression)\n",
    "#estimate the quasistatic distribution\n",
    "n_qs,prob_qs = comp_quasistatic_distrib_paired_bdrates(comp_Wm,comp_Wp,num_iter=num_iter)\n",
    "#estimate the mean termination time\n",
    "tau = eval_tau(n_qs, prob_qs, phi, comp_Wm, comp_Wp, maxinf_num_inner_sum=num_iter, printing=False)#,**kwargs)\n",
    "#estimate the mean number of particles\n",
    "nbar = np.sum(prob_qs*n_qs)\n",
    "nsqbar = np.sum(prob_qs*(n_qs**2))\n",
    "#record\n",
    "dict_results_master_lr = dict(\n",
    "    model=model_name,\n",
    "    tau=tau,\n",
    "    nbar=nbar,\n",
    "    qstarA=qstar*A,\n",
    "    A=A,\n",
    "    Mp=Mp,nup=nup,\n",
    "    Mm=Mm,num=num,\n",
    "    qstar=qstar,wstar=wstar,\n",
    "    num_iter=num_iter,\n",
    "    nsqbar=nsqbar)\n",
    "\n",
    "#print summary\n",
    "xv = np.arange(0.02, 1,0.001)\n",
    "qstar,wstar = comp_powerlaw_intersection(Mp,nup,Mm,num,xv=xv)\n",
    "if printing:\n",
    "    print(f\"\\n{model_name} ({A=:.0f} cm^2):\")\n",
    "    print(f\"- mean termination time (correct qs distr): {tau:.4f} s\")    \n",
    "    print(f\"- mean num particles (correct qs distr): {nbar:.4f}\")\n",
    "    print(f\"- mean num particles (qstar*A): {qstar*A:.4f}\") \n"
   ]
  },
  {
   "cell_type": "code",
   "execution_count": 1188,
   "id": "6de53784",
   "metadata": {
    "ExecuteTime": {
     "end_time": "2022-09-26T20:03:00.761791Z",
     "start_time": "2022-09-26T20:03:00.686508Z"
    }
   },
   "outputs": [
    {
     "name": "stdout",
     "output_type": "stream",
     "text": [
      "Fenton-Karma:\n",
      " - mean termination time: 27.7966 +/- 5.5879 s (N_term_events=81, p_normal: 0.0580)\n",
      "Luo-Rudy:\n",
      " - mean termination time: 0.7422 +/- 0.0656 s (N_term_events=641, p_normal: 0.1302)\n",
      "termination times from:\n",
      "term_dir_fk='/Users/timothytyree/Documents/GitHub/care/notebooks/Data/from_wjr/positions_fk/200x200/tippos_per_c_001_termination_times.csv'\n",
      "term_dir_lr='/Users/timothytyree/Documents/GitHub/care/notebooks/Data/from_wjr/positions_lr/200x200/tippos_per_001_termination_times.csv'\n",
      "comparing error from apparent mean termination times.\n",
      "\n",
      "Fenton-Karma:\n",
      "statistical tests:\n",
      "        num_obs=81\n",
      "        p_wilcoxon=0.41399314\n",
      "        p_ttest=0.53403095\n",
      "        p_normal=0.00000000\n",
      "        \n",
      "\n",
      "Luo-Rudy:\n",
      "statistical tests:\n",
      "        num_obs=641\n",
      "        p_wilcoxon=0.00000024\n",
      "        p_ttest=0.00000000\n",
      "        p_normal=0.00000000\n",
      "        \n"
     ]
    }
   ],
   "source": [
    "#recall termination times observed from full\n",
    "term_dir_fk='/Users/timothytyree/Documents/GitHub/care/notebooks/Data/from_wjr/positions_fk/200x200/tippos_per_c_001_termination_times.csv'\n",
    "term_dir_lr='/Users/timothytyree/Documents/GitHub/care/notebooks/Data/from_wjr/positions_lr/200x200/tippos_per_001_termination_times.csv'\n",
    "df_term_fk = pd.read_csv(term_dir_fk)\n",
    "df_term_lr = pd.read_csv(term_dir_lr)\n",
    "\n",
    "\n",
    "#estimate mean termination time directly\n",
    "#bootstrap mean +/- 95% CI\n",
    "t_term_values_fk = df_term_fk['t_term'].values\n",
    "meanx,Delta_meanx,num_obsx,p_normalx=comp_mean_bootstrap_uncertainty(t_term_values_fk,num_samples=100)\n",
    "printing=True\n",
    "if printing:\n",
    "    print(f\"Fenton-Karma:\")\n",
    "    print(f\" - mean termination time: {meanx:.4f} +/- {Delta_meanx:.4f} s (N_term_events={num_obsx}, p_normal: {p_normalx:.4f})\")\n",
    "\n",
    "dict_mtt_fk = dict(model='Fenton-Karma',\n",
    "                mtt=meanx,\n",
    "                Delta_mtt=Delta_meanx,\n",
    "                num_term_events=num_obsx,\n",
    "                p_normal_mtt=p_normalx)\n",
    "\n",
    "#bootstrap mean +/- 95% CI\n",
    "t_term_values_lr = df_term_lr['t_term'].values\n",
    "meanx,Delta_meanx,num_obsx,p_normalx=comp_mean_bootstrap_uncertainty(t_term_values_lr,num_samples=100)\n",
    "printing=True\n",
    "if printing:\n",
    "    print(f\"Luo-Rudy:\")\n",
    "    print(f\" - mean termination time: {meanx:.4f} +/- {Delta_meanx:.4f} s (N_term_events={num_obsx}, p_normal: {p_normalx:.4f})\")\n",
    "\n",
    "dict_mtt_lr = dict(model='Luo-Rudy',\n",
    "                mtt=meanx,\n",
    "                Delta_mtt=Delta_meanx,\n",
    "                num_term_events=num_obsx,\n",
    "                p_normal_mtt=p_normalx)\n",
    "\n",
    "print(f\"termination times from:\")\n",
    "print(f\"{term_dir_fk=}\")\n",
    "print(f\"{term_dir_lr=}\")\n",
    "# print(df_mtt)\n",
    "\n",
    "#statistical test comparing values to full\n",
    "err_mtt_values_fk = t_term_values_fk - dict_results_master_fk['tau']\n",
    "err_mtt_values_lr = t_term_values_lr - dict_results_master_lr['tau']\n",
    "\n",
    "print(f\"comparing error from apparent mean termination times.\")\n",
    "print(f\"\\nFenton-Karma:\")\n",
    "dict_ptests_fk = print_statistical_tests(err_mtt_values_fk,printing=True)\n",
    "print(f\"\\nLuo-Rudy:\")\n",
    "dict_ptests_lr = print_statistical_tests(err_mtt_values_lr,printing=True)\n",
    "#update dicts\n",
    "dict_mtt_fk.update(**dict_ptests_fk)\n",
    "dict_mtt_lr.update(**dict_ptests_lr)\n",
    "#format results\n",
    "df_mtt = pd.DataFrame([dict_mtt_fk,dict_mtt_lr])"
   ]
  },
  {
   "cell_type": "code",
   "execution_count": 1190,
   "id": "f5148b11",
   "metadata": {
    "ExecuteTime": {
     "end_time": "2022-09-26T20:03:09.921641Z",
     "start_time": "2022-09-26T20:03:09.270549Z"
    }
   },
   "outputs": [
    {
     "data": {
      "image/png": "[encoded data removed]",
      "text/plain": [
       "<Figure size 600x400 with 1 Axes>"
      ]
     },
     "metadata": {},
     "output_type": "display_data"
    }
   ],
   "source": [
    "#scatter plot max num particles versus termination time\n",
    "fig,ax=plt.subplots(figsize=(6,4))\n",
    "fontsize=18\n",
    "xcol='n_mean'\n",
    "# xlim=[1,100]\n",
    "xlim=[0.75,25]\n",
    "\n",
    "#plot the trials\n",
    "df_term_fk.plot.scatter(x=xcol,y='t_term',color='C0',alpha=0.3,s=30,ax=ax)\n",
    "df_term_lr.plot.scatter(x=xcol,y='t_term',color='C1',alpha=0.3,s=10,ax=ax)\n",
    "#plot true mean values\n",
    "tau_fk = df_term_fk['t_term'].mean()\n",
    "tau_lr = df_term_lr['t_term'].mean()\n",
    "nbar_fk =df_term_fk[xcol].mean()\n",
    "nbar_lr =df_term_lr[xcol].mean()\n",
    "#plot the confusing back of envelope estimate that WJ put at the start of his paper in huge font.\n",
    "ax.scatter([nbar_fk],[tau_fk],c='C0',marker='^',s=60,alpha=1,label='Direct (FK)',edgecolor='k')\n",
    "ax.scatter([nbar_lr],[tau_lr],c='C1',marker='^',s=60,alpha=1,label='Direct (LR)',edgecolor='k')\n",
    "\n",
    "\n",
    "\n",
    "\n",
    "#plot hypotheses\n",
    "tau_fk_hat = dict_results_master_fk['tau']\n",
    "tau_lr_hat = dict_results_master_lr['tau']\n",
    "nbar_fk_hat = dict_results_master_fk['nbar']\n",
    "nbar_lr_hat = dict_results_master_lr['nbar']\n",
    "ax.scatter([nbar_fk_hat],[tau_fk_hat],c='k',marker='v',s=60,alpha=1.,label='Master (FK)',edgecolor='k')\n",
    "ax.scatter([nbar_lr_hat],[tau_lr_hat],c='r',marker='v',s=60,alpha=1.,label='Master (LR)',edgecolor='k')\n",
    "\n",
    "#plot qstar as vertical dotted line\n",
    "ax.plot([qstar_fk*A,qstar_fk*A\n",
    "        ],[0, 27.7966 #+/- 6.5012 s \n",
    "                                 ],'k:',lw=2,alpha=0.5,label=r'$q*$ (FK)')\n",
    "ax.plot([qstar_lr*A,qstar_lr*A],[0, 0.7422 #+/- 0.0586 s\n",
    "                                 ],'r:',lw=2,alpha=0.5,label=r'$q*$ (LR)')\n",
    "\n",
    "#plot the confusing back of envelope estimate that WJ put at the start of his paper in huge font.\n",
    "tau_boe_fk = 15.1622 #s\n",
    "tau_boe_lr = 0.5711 #s\n",
    "ax.scatter([qstar_fk*A],[tau_boe_fk],c='k',s=60,alpha=0.5,label='B.O.E. (FK)',marker='<',edgecolor='k')\n",
    "ax.scatter([qstar_lr*A],[tau_boe_lr],c='k',s=60,alpha=0.5,label='B.O.E. (LR)',marker='>',edgecolor='k')\n",
    "\n",
    "\n",
    "# format_plot\n",
    "# format_plot(ax=ax,xlabel=xcol,ylabel='Term Time (s)',fontsize=fontsize,use_loglog=True)\n",
    "format_plot(ax=ax,xlabel=r'$\\mathbb{E}\\,[n]$',ylabel='Term Time (s)',fontsize=fontsize,use_loglog=True)\n",
    "ax.set_xlim(xlim)\n",
    "ax.legend(fontsize=fontsize-3,loc='upper left', bbox_to_anchor = (1.04,1.04), frameon=False)\n",
    "# with bbox_to_anchor as \n",
    "plt.show()\n",
    "\n",
    "#DONE: root cause analysis removed half of the error, soothing the viewer.\n",
    "#Q: why is red triangle not on the orange line?\n",
    "#A: because the qs distribution is not a true steady state"
   ]
  },
  {
   "cell_type": "code",
   "execution_count": 1191,
   "id": "e55cb782",
   "metadata": {
    "ExecuteTime": {
     "end_time": "2022-09-26T20:03:10.187798Z",
     "start_time": "2022-09-26T20:03:09.965716Z"
    }
   },
   "outputs": [
    {
     "name": "stdout",
     "output_type": "stream",
     "text": [
      "traces of quasistatic distributions:\n",
      "\n",
      "Fenton-Karma (A=25 cm^2):\n",
      "- mean num particles (qstar*A): 8.075000000000006\n",
      "- mean num particles (correct qs distr): 7.624837359362673\n",
      "- mean num particles (incorrect qs distr): 4.5287077772353275\n",
      "- b.o.e. est. of mean termination time (correct qs distr): 15.1593 s\n",
      "- b.o.e. est. of mean termination time (incorrect qs distr): 4.4074 s\n",
      "\n",
      "Luo-Rudy (A=25 cm^2):\n",
      "- mean num particles (qstar*A): 4.275000000000003\n",
      "- mean num particles (correct qs distr): 6.587830396477089\n",
      "- mean num particles (incorrect qs distr): 4.5287077772353275\n",
      "- b.o.e. est. of mean termination time (correct qs distr): 0.5700 s\n",
      "- b.o.e. est. of mean termination time (incorrect qs distr): 0.8011 s\n"
     ]
    },
    {
     "data": {
      "image/png": "[encoded data removed]",
      "text/plain": [
       "<Figure size 600x400 with 1 Axes>"
      ]
     },
     "metadata": {},
     "output_type": "display_data"
    }
   ],
   "source": [
    "#plot the quasistatic distributions\n",
    "L=5 #cm\n",
    "A=L**2\n",
    "num_iter=20\n",
    "#set argument values\n",
    "dict_fit_birth_lst = [dict_fit_birth_fk,dict_fit_birth_lr]\n",
    "dict_fit_death_lst = [dict_fit_death_fk,dict_fit_death_lr]\n",
    "model_name_lst     = ['Fenton-Karma', 'Luo-Rudy']\n",
    "color_lst          = ['C0','C1']\n",
    "\n",
    "print(f\"traces of quasistatic distributions:\")\n",
    "fig,ax=plt.subplots(figsize=(6,4))\n",
    "fontsize=18\n",
    "for dict_fit_birth,dict_fit_death,model_name,color in zip(dict_fit_birth_lst,dict_fit_death_lst,model_name_lst,color_lst):\n",
    "    Mp = dict_fit_birth['M']\n",
    "    nup = dict_fit_birth['m']\n",
    "    Mm = dict_fit_death['M']\n",
    "    num = dict_fit_death['m']\n",
    "\n",
    "    #estimate the quasistatic distribution\n",
    "    comp_Wp = get_comp_W(A,nup,Mp)\n",
    "    comp_Wm = get_comp_W(A,num,Mm)\n",
    "    n_qs,prob_qs = comp_quasistatic_distrib_paired_bdrates(comp_Wm,comp_Wp,num_iter=num_iter)\n",
    "    \n",
    "    ax.plot(n_qs,prob_qs,label=model_name)\n",
    "    #print summary\n",
    "    xv = np.arange(0.02, 1,0.001)\n",
    "    qstar,wstar = comp_powerlaw_intersection(Mp,nup,Mm,num,xv=xv)\n",
    "    if printing:\n",
    "        print(f\"\\n{model_name} ({A=:.0f} cm^2):\")\n",
    "        print(f\"- mean num particles (qstar*A): {qstar*A}\") \n",
    "        print(f\"- mean num particles (correct qs distr): {np.sum(prob_qs*n_qs)}\")\n",
    "        print(f\"- mean num particles (incorrect qs distr): {np.sum(prob_values_qs*n_values_qs)}\")\n",
    "        n=2\n",
    "        tau = 1/(comp_Wm(2)*prob_qs[n_qs==n])[0]\n",
    "        print(f\"- b.o.e. est. of mean termination time (correct qs distr): {tau:.4f} s\")\n",
    "        tau = 1/(comp_Wm(2)*prob_values_qs[n_values_qs==n])[0]\n",
    "        print(f\"- b.o.e. est. of mean termination time (incorrect qs distr): {tau:.4f} s\")\n",
    "\n",
    "#format_plot\n",
    "format_plot(xlabel='n',ylabel='Probability')\n",
    "ax = AddLegend(ax, fontsize=fontsize-3, xy = (0.96,0.96), loc='upper right', frameon=False)\n",
    "plt.xlim([0,40])\n",
    "plt.show()"
   ]
  },
  {
   "cell_type": "code",
   "execution_count": 1211,
   "id": "6928faaa",
   "metadata": {
    "ExecuteTime": {
     "end_time": "2022-09-26T20:34:40.630261Z",
     "start_time": "2022-09-26T20:34:40.570720Z"
    }
   },
   "outputs": [
    {
     "name": "stdout",
     "output_type": "stream",
     "text": [
      "model      Luo-Rudy Fenton-Karma\n",
      "L                 5            5\n",
      "tau        0.505947    25.856214\n",
      "nbar       6.587830     7.624837\n",
      "qstarA     8.075000     4.275000\n",
      "A         25.000000    25.000000\n",
      "Mp         3.277073     0.864210\n",
      "nup        0.714755     0.229594\n",
      "Mm        16.735599     5.572316\n",
      "num        1.637556     1.877234\n",
      "qstar      0.323000     0.171000\n",
      "wstar      0.666707     0.927398\n",
      "num_iter  20.000000    20.000000\n",
      "nsqbar    79.036845    69.969231\n"
     ]
    }
   ],
   "source": [
    "#print latex tables for each set of values i'd like to make into latex tables\n",
    "df_results_master = pd.DataFrame([dict_results_master_fk,dict_results_master_lr])\n",
    "df_results_master['L'] = L\n",
    "#format as pandas table\n",
    "mindex_lst=['model', 'L']\n",
    "df_table_master_complete=df_results_master.sort_values(by=mindex_lst,ascending=False)\\\n",
    "               .set_index(mindex_lst).T#[['m', 'Delta_m', 'M', 'Delta_M', 'r','kappa', 'delta', 'a', 'D']].T\n",
    "print(df_table_master_complete)\n",
    "#format as pandas table\n",
    "df_mtt['L'] = L\n",
    "df_table_mtt_complete=df_mtt.sort_values(by=mindex_lst,ascending=False)\\\n",
    "               .set_index(mindex_lst).T#[['m', 'Delta_m', 'M', 'Delta_M', 'r','kappa', 'delta', 'a', 'D']].T"
   ]
  },
  {
   "cell_type": "code",
   "execution_count": 1212,
   "id": "102a0ab1",
   "metadata": {
    "ExecuteTime": {
     "end_time": "2022-09-26T20:34:43.707272Z",
     "start_time": "2022-09-26T20:34:43.591149Z"
    }
   },
   "outputs": [
    {
     "name": "stdout",
     "output_type": "stream",
     "text": [
      "% *********************************\n",
      "% * Generated LaTeX tables re: MTT\n",
      "% *********************************\n",
      "% df_table_mtt_complete\n",
      "% \begin{ruledtabular}\n",
      "% \begin{tabular}{cccccc}\n",
      "\\begin{table}\n",
      "\\centering\n",
      "\\caption{shows mean termination times (MTT) estimated from direct simulations of the full models at the relatively small domain length scale ($L=5$ cm).\\label{tab:df_table_mtt_complete})}\n",
      "\\begin{tabular}{lrr}\n",
      "\\toprule\n",
      "          index & Luo-Rudy & Fenton-Karma \\\\\n",
      "                &        5 &            5 \\\\\n",
      "\\midrule\n",
      "            mtt &   0.7422 &      27.7966 \\\\\n",
      "      Delta\\_mtt &   0.0656 &       5.5879 \\\\\n",
      "num\\_term\\_events & 641.0000 &      81.0000 \\\\\n",
      "   p\\_normal\\_mtt &   0.1302 &       0.0580 \\\\\n",
      "        num\\_obs & 641.0000 &      81.0000 \\\\\n",
      "     p\\_wilcoxon &   0.0000 &       0.4140 \\\\\n",
      "        p\\_ttest &   0.0000 &       0.5340 \\\\\n",
      "       p\\_normal &   0.0000 &       0.0000 \\\\\n",
      "\\bottomrule\n",
      "\\end{tabular}\n",
      "\\end{table}\n",
      "\n",
      "% df_table_master_complete\n",
      "% \begin{ruledtabular}\n",
      "% \begin{tabular}{cccccc}\n",
      "\\begin{table}\n",
      "\\centering\n",
      "\\caption{shows mean termination times (MTT) predicted by the paired birth-death model fit to the full models at the same relatively small domain length scale ($L=5$ cm).\\label{tab:df_table_master_complete})}\n",
      "\\begin{tabular}{lrr}\n",
      "\\toprule\n",
      "   index & Luo-Rudy & Fenton-Karma \\\\\n",
      "         &        5 &            5 \\\\\n",
      "\\midrule\n",
      "     tau &   0.5059 &      25.8562 \\\\\n",
      "    nbar &   6.5878 &       7.6248 \\\\\n",
      "  qstarA &   8.0750 &       4.2750 \\\\\n",
      "       A &  25.0000 &      25.0000 \\\\\n",
      "      Mp &   3.2771 &       0.8642 \\\\\n",
      "     nup &   0.7148 &       0.2296 \\\\\n",
      "      Mm &  16.7356 &       5.5723 \\\\\n",
      "     num &   1.6376 &       1.8772 \\\\\n",
      "   qstar &   0.3230 &       0.1710 \\\\\n",
      "   wstar &   0.6667 &       0.9274 \\\\\n",
      "num\\_iter &  20.0000 &      20.0000 \\\\\n",
      "  nsqbar &  79.0368 &      69.9692 \\\\\n",
      "\\bottomrule\n",
      "\\end{tabular}\n",
      "\\end{table}\n",
      "\n"
     ]
    }
   ],
   "source": [
    "##############################\n",
    "# LaTeX table generation\n",
    "##############################\n",
    "print(\"% *********************************\")\n",
    "print(\"% * Generated LaTeX tables re: MTT\")\n",
    "print(\"% *********************************\")\n",
    "kwargs_table_1_level=dict(float_format=\"{:0.4f}\".format,\n",
    "#                           multicolumn_format='c',\n",
    "                           column_format='c',\n",
    "#                            caption=('Table. ?? shows full\\_caption', 'Table. ?? short\\_caption.'),\n",
    "#                            longtable=True #Requires adding a usepackage{longtable} to your LaTeX preamble.\n",
    "                          )\n",
    "kwargs_table_2_levels=dict(float_format=\"{:0.4f}\".format,\n",
    "                          multicolumn_format='c',\n",
    "#                            column_format='c',\n",
    "#                            caption=('Table. ?? shows full\\_caption', 'Table. ?? short\\_caption.'),\n",
    "#                            longtable=True #Requires adding a usepackage{longtable} to your LaTeX preamble.\n",
    "                          )\n",
    "print(\"% df_table_mtt_complete\")\n",
    "print(\"% \\begin{ruledtabular}\")\n",
    "print(\"% \\begin{tabular}{cccccc}\")\n",
    "print(df_table_mtt_complete.reset_index().to_latex(index=False, \n",
    "                                               caption='shows mean termination times (MTT) estimated from direct simulations of the full models at the relatively small domain length scale ($L=5$ cm).\\label{tab:df_table_mtt_complete})',\n",
    "                                               **kwargs_table_2_levels))\n",
    "\n",
    "print(\"% df_table_master_complete\")\n",
    "print(\"% \\begin{ruledtabular}\")\n",
    "print(\"% \\begin{tabular}{cccccc}\")\n",
    "print(df_table_master_complete.reset_index().to_latex(index=False, \n",
    "                                               caption='shows mean termination times (MTT) predicted by the paired birth-death model fit to the full models at the same relatively small domain length scale ($L=5$ cm).\\label{tab:df_table_master_complete})',\n",
    "                                               **kwargs_table_2_levels))\n",
    "\n",
    "\n"
   ]
  },
  {
   "cell_type": "markdown",
   "id": "79b3655c",
   "metadata": {},
   "source": [
    "# TODO: estimate probability of termination for a given consistent mean value of termination time"
   ]
  },
  {
   "cell_type": "code",
   "execution_count": 1213,
   "id": "cae200bb",
   "metadata": {
    "ExecuteTime": {
     "end_time": "2022-09-26T20:34:47.518412Z",
     "start_time": "2022-09-26T20:34:47.469433Z"
    }
   },
   "outputs": [],
   "source": [
    "mtt_fk = dict_results_master_fk['tau']\n",
    "mtt_lr = dict_results_master_lr['tau']"
   ]
  },
  {
   "cell_type": "code",
   "execution_count": 1215,
   "id": "ec14a593",
   "metadata": {
    "ExecuteTime": {
     "end_time": "2022-09-26T20:36:14.525284Z",
     "start_time": "2022-09-26T20:36:14.469055Z"
    }
   },
   "outputs": [],
   "source": [
    "#input: mtt, (if exponential isn't working) shape of distribution\n",
    "#output: t_term,prob_t_term\n",
    "x_values = np.arange(0,41,1) #s.\n",
    "\n",
    "beta = mtt_fk\n",
    "prob_t_term_fk = beta*np.exp(-beta*x_values)\n",
    "\n",
    "beta = mtt_lr\n",
    "prob_t_term_lr = beta*np.exp(-beta*x_values)\n"
   ]
  },
  {
   "cell_type": "code",
   "execution_count": 1224,
   "id": "cdeedad7",
   "metadata": {
    "ExecuteTime": {
     "end_time": "2022-09-26T20:46:47.168260Z",
     "start_time": "2022-09-26T20:40:28.163049Z"
    }
   },
   "outputs": [
    {
     "name": "stdout",
     "output_type": "stream",
     "text": [
      "log_dir_fk='/Users/timothytyree/Documents/GitHub/care/notebooks/Data/from_wjr/positions_fk/200x200/tippos_per_c_001_log.parquet'\n",
      "log_dir_lr='/Users/timothytyree/Documents/GitHub/care/notebooks/Data/from_wjr/positions_lr/200x200/tippos_per_001_log.parquet'\n"
     ]
    }
   ],
   "source": [
    "#Warning: this takes a bit to plot\n",
    "log_dir_fk='/Users/timothytyree/Documents/GitHub/care/notebooks/Data/from_wjr/positions_fk/200x200/tippos_per_c_001_log.parquet'\n",
    "log_dir_lr='/Users/timothytyree/Documents/GitHub/care/notebooks/Data/from_wjr/positions_lr/200x200/tippos_per_001_log.parquet'\n",
    "print(f\"{log_dir_fk=}\")\n",
    "print(f\"{log_dir_lr=}\")\n",
    "# term_dir_fk='/Users/timothytyree/Documents/GitHub/care/notebooks/Data/from_wjr/positions_fk/200x200/tippos_per_c_001_termination_times.csv'\n",
    "# term_dir_lr='/Users/timothytyree/Documents/GitHub/care/notebooks/Data/from_wjr/positions_lr/200x200/tippos_per_001_termination_times.csv'\n",
    "# print(f\"{term_dir_fk=}\")\n",
    "# print(f\"{term_dir_lr=}\")\n",
    "\n",
    "# num_samples=1000 #40 ms\n",
    "num_samples=10000\n",
    "random_state = 42\n",
    "tscale=1e-3 #s per ms\n",
    "\n",
    "print(f\"bootstrapping termination time distribution (estimated run time ~6.33 minutes for 10000 samples, iid)...\")\n",
    "#FK\n",
    "df=pd.read_parquet(log_dir_fk)\n",
    "#bootstrap temrintion time distribution\n",
    "df_sampled = df.sample(num_samples,random_state=random_state,replace=True)\n",
    "df_sampled['tf']=np.nan\n",
    "for index,row in df_sampled.iterrows():\n",
    "    tf = df.loc[row['trial_num']==df['trial_num']]['t'].max()\n",
    "    df_sampled.loc[index,'tf']=tf\n",
    "df_sampled['t_term'] = tscale*(df_sampled['tf'] - df_sampled['t'])\n",
    "df_sampled_fk = df_sampled.copy()\n",
    "\n",
    "#LR\n",
    "df=pd.read_parquet(log_dir_lr)\n",
    "df_sampled = df.sample(num_samples,random_state=random_state,replace=True)\n",
    "df_sampled['tf']=np.nan\n",
    "for index,row in df_sampled.iterrows():\n",
    "    tf = df.loc[row['trial_num']==df['trial_num']]['t'].max()\n",
    "    df_sampled.loc[index,'tf']=tf\n",
    "df_sampled['t_term'] = tscale*(df_sampled['tf'] - df_sampled['t'])\n",
    "df_sampled_lr = df_sampled.copy()"
   ]
  },
  {
   "cell_type": "code",
   "execution_count": 1225,
   "id": "8e32bd4f",
   "metadata": {
    "ExecuteTime": {
     "end_time": "2022-09-26T20:46:47.287549Z",
     "start_time": "2022-09-26T20:46:47.170503Z"
    }
   },
   "outputs": [
    {
     "name": "stdout",
     "output_type": "stream",
     "text": [
      "Fenton-Karma:\n",
      " - mean termination time: 28.1166 +/- 0.5847 s (N_term_events=10000, p_normal: 0.0202)\n",
      "Luo-Rudy:\n",
      " - mean termination time: 0.7456 +/- 0.0133 s (N_term_events=10000, p_normal: 0.5660)\n",
      "          model        mtt  Delta_mtt  num_term_events  p_normal\n",
      "0  Fenton-Karma  28.116557   0.584735            10000   0.02022\n",
      "1      Luo-Rudy   0.745636   0.013310            10000   0.56600\n"
     ]
    }
   ],
   "source": [
    "#bootstrap mean +/- 95% CI\n",
    "t_term_values_fk = df_sampled_fk['t_term'].values\n",
    "# t_term_values_fk = df_term_fk['t_term'].values\n",
    "meanx,Delta_meanx,num_obsx,p_normalx=comp_mean_bootstrap_uncertainty(t_term_values_fk,num_samples=100)\n",
    "printing=True\n",
    "if printing:\n",
    "    print(f\"Fenton-Karma:\")\n",
    "    print(f\" - mean termination time: {meanx:.4f} +/- {Delta_meanx:.4f} s (N_term_events={num_obsx}, p_normal: {p_normalx:.4f})\")\n",
    "\n",
    "dict_mtt_fk = dict(model='Fenton-Karma',\n",
    "                mtt=meanx,\n",
    "                Delta_mtt=Delta_meanx,\n",
    "                num_term_events=num_obsx,\n",
    "                p_normal=p_normalx)\n",
    "\n",
    "#bootstrap mean +/- 95% CI\n",
    "t_term_values_lr = df_sampled_lr['t_term'].values\n",
    "# t_term_values_lr = df_term_lr['t_term'].values\n",
    "meanx,Delta_meanx,num_obsx,p_normalx=comp_mean_bootstrap_uncertainty(t_term_values_lr,num_samples=100)\n",
    "printing=True\n",
    "if printing:\n",
    "    print(f\"Luo-Rudy:\")\n",
    "    print(f\" - mean termination time: {meanx:.4f} +/- {Delta_meanx:.4f} s (N_term_events={num_obsx}, p_normal: {p_normalx:.4f})\")\n",
    "\n",
    "dict_mtt_lr = dict(model='Luo-Rudy',\n",
    "                mtt=meanx,\n",
    "                Delta_mtt=Delta_meanx,\n",
    "                num_term_events=num_obsx,\n",
    "                p_normal=p_normalx)\n",
    "\n",
    "\n",
    "df_mtt = pd.DataFrame([dict_mtt_fk,dict_mtt_lr])\n",
    "# print(f\"termination times saved in:\")\n",
    "# print(f\"{term_dir_fk=}\")\n",
    "# print(f\"{term_dir_lr=}\")\n",
    "print(df_mtt)"
   ]
  },
  {
   "cell_type": "code",
   "execution_count": 1226,
   "id": "e47bd363",
   "metadata": {
    "ExecuteTime": {
     "end_time": "2022-09-26T20:46:47.686963Z",
     "start_time": "2022-09-26T20:46:47.289569Z"
    }
   },
   "outputs": [
    {
     "name": "stdout",
     "output_type": "stream",
     "text": [
      "MLE fits of MTT: shape, loc, scale\n",
      "Fenton-Karma: 0.9841,0.0080,28.5539\n",
      "Luo-Rudy: 1.1556,-0.0002,0.6454\n"
     ]
    }
   ],
   "source": [
    "from scipy.stats import gamma\n",
    "\n",
    "#TODO: compute xy values of histogram\n",
    "# bins_fk=np.arange(0,50,1.6)\n",
    "# bins_fk=np.arange(0,20,0.4)\n",
    "bins_fk=np.arange(0,40,0.4)\n",
    "# bins_fk=np.arange(0,40,1)\n",
    "#DONE: compute the histograms\n",
    "barheights_fk,bins_fk = np.histogram(\n",
    "    t_term_values_fk,\n",
    "    bins=bins_fk,#10,\n",
    "    range=None,\n",
    "    normed=None,\n",
    "    weights=None,\n",
    "    density=False,\n",
    ")\n",
    "t_term_fk=0.5*(bins_fk[1:]+bins_fk[:-1])\n",
    "\n",
    "# bins_lr=np.arange(0,16,0.4)\n",
    "bins_lr=np.arange(0,40,0.4)\n",
    "# bins_lr=np.arange(0,40,1)\n",
    "barheights_lr,bins_lr = np.histogram(\n",
    "    t_term_values_lr,\n",
    "    bins=bins_lr,#bins[bins<0.45],#10,\n",
    "    range=None,\n",
    "    normed=None,\n",
    "    weights=None,\n",
    "    density=False,\n",
    ")\n",
    "t_term_lr=0.5*(bins_lr[1:]+bins_lr[:-1])\n",
    "num_samples = t_term_values_lr.shape[0]\n",
    "prob_fk = barheights_fk/(bins_fk[1:]-bins_fk[:-1])/num_samples\n",
    "num_samples = t_term_values_fk.shape[0]\n",
    "prob_lr = barheights_lr/(bins_lr[1:]-bins_lr[:-1])/num_samples\n",
    "# prob_fk = barheights_fk/num_samples\n",
    "# prob_lr = barheights_lr/num_samples\n",
    "\n",
    "#fit analytic functions to these distributions\n",
    "shpe_fk,loc_fk,scale_fk = gamma.fit(t_term_values_fk,method='MLE')\n",
    "shpe_lr,loc_lr,scale_lr = gamma.fit(t_term_values_lr,method='MLE')\n",
    " # erlang.fit(t_term_values_fk),\n",
    "\n",
    "\n",
    "print(f\"MLE fits of MTT: shape, loc, scale\")\n",
    "print(f\"Fenton-Karma: {shpe_fk:.4f},{loc_fk:.4f},{scale_fk:.4f}\")\n",
    "print(f\"Luo-Rudy: {shpe_lr:.4f},{loc_lr:.4f},{scale_lr:.4f}\")"
   ]
  },
  {
   "cell_type": "code",
   "execution_count": 1227,
   "id": "94d9d0cb",
   "metadata": {
    "ExecuteTime": {
     "end_time": "2022-09-26T20:46:48.221661Z",
     "start_time": "2022-09-26T20:46:47.690419Z"
    }
   },
   "outputs": [
    {
     "data": {
      "image/png": "[encoded data removed]",
      "text/plain": [
       "<Figure size 400x400 with 1 Axes>"
      ]
     },
     "metadata": {},
     "output_type": "display_data"
    }
   ],
   "source": [
    "fig,ax=plt.subplots(figsize=(4,4))\n",
    "fontsize=16\n",
    "alpha=0.9\n",
    "# xlim=[0,250]\n",
    "# xlim=[0,100]\n",
    "# xlim=[0,20]\n",
    "xlim=[0,40]\n",
    "\n",
    "# #plot histograms\n",
    "# bins = np.arange(0.,220.,1.6)\n",
    "# ax.hist(t_term_values_fk,color='C0',alpha=alpha,density=True,bins=bins,stacked=True)#,label='Fenton-Karma')\n",
    "# bins = np.arange(0.,220.,0.4)\n",
    "# ax.hist(t_term_values_lr,color='C1',alpha=alpha,density=True,bins=bins,stacked=True)#,label='Luo-Rudy')\n",
    "\n",
    "# #plot line plot traces\n",
    "# ax.plot(t_term_fk,prob_fk,color='C0',alpha=alpha,label='Fenton-Karma')\n",
    "# ax.plot(t_term_lr,prob_lr,color='C1',alpha=alpha,label='Luo-Rudy')\n",
    "#plot line plot traces\n",
    "ax.scatter(t_term_fk,prob_fk,color='C0',alpha=alpha,label='Fenton-Karma',s=10)\n",
    "ax.scatter(t_term_lr,prob_lr,color='C1',alpha=alpha,label='Luo-Rudy',s=10)\n",
    "\n",
    "x = np.linspace(gamma.ppf(0.01, shpe_fk,loc=loc_fk,scale=scale_fk),\n",
    "                gamma.ppf(0.99, shpe_fk,loc=loc_fk,scale=scale_fk), 100)\n",
    "# x = np.arange(0.1,40,0.4)\n",
    "ax.plot(x, gamma.pdf(x, shpe_fk,loc=loc_fk,scale=scale_fk),\n",
    "       'k-', lw=1, alpha=alpha, label='_MLE Fit')\n",
    "ax.plot(x, gamma.pdf(x, shpe_lr,loc=loc_lr,scale=scale_lr),\n",
    "       'k-', lw=1, alpha=alpha, label='_MLE Fit')\n",
    "\n",
    "#format_plot\n",
    "format_plot(ax=ax,xlabel='Termination Time (s)',ylabel='Probability',fontsize=fontsize)#,use_loglog=True)\n",
    "# ax.set_xscale('log')\n",
    "ax.set_yscale('log')\n",
    "ax.set_xlim(xlim)\n",
    "# ax.set_ylim((11*1.0178650359332904e-05, 80))\n",
    "# ax.set_ylim((11*1.0178650359332904e-05, 8))\n",
    "ax.set_ylim((2e-4, 2))\n",
    "ax.tick_params(top=True, right=True,direction='in',which='both')\n",
    "ax.legend(fontsize=fontsize-2,frameon=False)\n",
    "plt.show()"
   ]
  },
  {
   "cell_type": "code",
   "execution_count": null,
   "id": "c886ec8c",
   "metadata": {},
   "outputs": [],
   "source": [
    "#heretim\n",
    "#TODO: plot predicted prob. of term from master eqns instead of the pdf of the gamma fit.\n",
    "fig,ax=plt.subplots(figsize=(4,4))\n",
    "fontsize=16\n",
    "alpha=0.9\n",
    "# xlim=[0,250]\n",
    "# xlim=[0,100]\n",
    "# xlim=[0,20]\n",
    "xlim=[0,40]\n",
    "\n",
    "# #plot histograms\n",
    "# bins = np.arange(0.,220.,1.6)\n",
    "# ax.hist(t_term_values_fk,color='C0',alpha=alpha,density=True,bins=bins,stacked=True)#,label='Fenton-Karma')\n",
    "# bins = np.arange(0.,220.,0.4)\n",
    "# ax.hist(t_term_values_lr,color='C1',alpha=alpha,density=True,bins=bins,stacked=True)#,label='Luo-Rudy')\n",
    "\n",
    "# #plot line plot traces\n",
    "# ax.plot(t_term_fk,prob_fk,color='C0',alpha=alpha,label='Fenton-Karma')\n",
    "# ax.plot(t_term_lr,prob_lr,color='C1',alpha=alpha,label='Luo-Rudy')\n",
    "#plot line plot traces\n",
    "ax.scatter(t_term_fk,prob_fk,color='C0',alpha=alpha,label='Fenton-Karma',s=10)\n",
    "ax.scatter(t_term_lr,prob_lr,color='C1',alpha=alpha,label='Luo-Rudy',s=10)\n",
    "\n",
    "x = np.linspace(gamma.ppf(0.01, shpe_fk,loc=loc_fk,scale=scale_fk),\n",
    "                gamma.ppf(0.99, shpe_fk,loc=loc_fk,scale=scale_fk), 100)\n",
    "# x = np.arange(0.1,40,0.4)\n",
    "ax.plot(x, gamma.pdf(x, shpe_fk,loc=loc_fk,scale=scale_fk),\n",
    "       'k-', lw=1, alpha=alpha, label='_Master Fit')\n",
    "ax.plot(x, gamma.pdf(x, shpe_lr,loc=loc_lr,scale=scale_lr),\n",
    "       'k-', lw=1, alpha=alpha, label='_ Fit')\n",
    "\n",
    "#format_plot\n",
    "format_plot(ax=ax,xlabel='Termination Time (s)',ylabel='Probability',fontsize=fontsize)#,use_loglog=True)\n",
    "# ax.set_xscale('log')\n",
    "ax.set_yscale('log')\n",
    "ax.set_xlim(xlim)\n",
    "# ax.set_ylim((11*1.0178650359332904e-05, 80))\n",
    "# ax.set_ylim((11*1.0178650359332904e-05, 8))\n",
    "ax.set_ylim((2e-4, 2))\n",
    "ax.tick_params(top=True, right=True,direction='in',which='both')\n",
    "ax.legend(fontsize=fontsize-2,frameon=False)\n",
    "plt.show()"
   ]
  },
  {
   "cell_type": "code",
   "execution_count": null,
   "id": "9f9d224d",
   "metadata": {},
   "outputs": [],
   "source": []
  },
  {
   "cell_type": "code",
   "execution_count": null,
   "id": "129db94b",
   "metadata": {},
   "outputs": [],
   "source": []
  },
  {
   "cell_type": "code",
   "execution_count": 1216,
   "id": "242ac9fb",
   "metadata": {
    "ExecuteTime": {
     "end_time": "2022-09-26T20:36:38.280858Z",
     "start_time": "2022-09-26T20:36:38.232215Z"
    }
   },
   "outputs": [],
   "source": [
    "# Q: is the variance signif. diff from the mean?"
   ]
  },
  {
   "cell_type": "markdown",
   "id": "544110fc",
   "metadata": {
    "ExecuteTime": {
     "end_time": "2022-09-24T02:27:22.899089Z",
     "start_time": "2022-09-24T02:27:22.852910Z"
    }
   },
   "source": [
    "# TODO: predict the distribution of termination times using the powerlaw substitution in the Masters Equation solution"
   ]
  },
  {
   "cell_type": "markdown",
   "id": "ae6d1d81",
   "metadata": {},
   "source": [
    "## TODO: estimate probability of termination for increasing alinear"
   ]
  },
  {
   "cell_type": "code",
   "execution_count": 1198,
   "id": "4ab96560",
   "metadata": {
    "ExecuteTime": {
     "end_time": "2022-09-26T20:24:58.311732Z",
     "start_time": "2022-09-26T20:24:58.176755Z"
    }
   },
   "outputs": [
    {
     "name": "stdout",
     "output_type": "stream",
     "text": [
      "df_death_rate_versus_alinear df_increasing_alinear\n"
     ]
    },
    {
     "data": {
      "text/html": [
       "<div>\n",
       "<style scoped>\n",
       "    .dataframe tbody tr th:only-of-type {\n",
       "        vertical-align: middle;\n",
       "    }\n",
       "\n",
       "    .dataframe tbody tr th {\n",
       "        vertical-align: top;\n",
       "    }\n",
       "\n",
       "    .dataframe thead th {\n",
       "        text-align: right;\n",
       "    }\n",
       "</style>\n",
       "<table border=\"1\" class=\"dataframe\">\n",
       "  <thead>\n",
       "    <tr style=\"text-align: right;\">\n",
       "      <th></th>\n",
       "      <th>alinear</th>\n",
       "      <th>nu_minus</th>\n",
       "      <th>M_minus</th>\n",
       "      <th>Delta_nu_minus</th>\n",
       "      <th>Delta_M_minus</th>\n",
       "    </tr>\n",
       "  </thead>\n",
       "  <tbody>\n",
       "    <tr>\n",
       "      <th>1844</th>\n",
       "      <td>0</td>\n",
       "      <td>2.78225</td>\n",
       "      <td>4.580904</td>\n",
       "      <td>0.012605</td>\n",
       "      <td>0.11112</td>\n",
       "    </tr>\n",
       "  </tbody>\n",
       "</table>\n",
       "</div>"
      ],
      "text/plain": [
       "      alinear  nu_minus   M_minus  Delta_nu_minus  Delta_M_minus\n",
       "1844        0   2.78225  4.580904        0.012605        0.11112"
      ]
     },
     "execution_count": 1198,
     "metadata": {},
     "output_type": "execute_result"
    }
   ],
   "source": [
    "## DONE: recall annihilation rates for variable alinear0: print a collection of powerlaw fits for various a values, as before\n",
    "# load  annihilation rates versus aliner from example in figure 3\n",
    "death_rate_versus_alinear_dir='/Users/timothytyree/Documents/GitHub/bgmc/python/data/full_results/data_fig4_tymura_increasing_alinear.pkl'\n",
    "data_death_rate_versus_alinear = load_from_pickle(death_rate_versus_alinear_dir)\n",
    "df_death_rate_versus_alinear = data_death_rate_versus_alinear['df_death_rate_versus_alinear']\n",
    "print(*data_death_rate_versus_alinear)\n",
    "\n",
    "alinear_lst = [30, 25, 20, 15, 10, 5, 4, 3, 2, 1, 0]\n",
    "for alinear in alinear_lst:\n",
    "    dg = df_death_rate_versus_alinear [ df_death_rate_versus_alinear['alinear'] == alinear ]\n",
    "    num = dg['nu_minus']\n",
    "    Delta_num = dg['Delta_M_minus']\n",
    "    Mm = dg['nu_minus']\n",
    "    Delta_Mm = dg['Delta_M_minus']\n",
    "    \n",
    "    #TODO: estimate expected mtt\n",
    "    mtt = \n",
    "    #TODO: estimate 95% of mtt \n",
    "    mtt_err1 = \n",
    "    mtt_err2 = \n",
    "    \n",
    "    #TODO: record\n",
    "dg"
   ]
  },
  {
   "cell_type": "code",
   "execution_count": null,
   "id": "8f5454e1",
   "metadata": {
    "ExecuteTime": {
     "end_time": "2022-09-26T00:24:52.186365Z",
     "start_time": "2022-09-26T00:24:52.186333Z"
    }
   },
   "outputs": [],
   "source": [
    "#TODO: estimate MTT from the power law fits replacing Mm,num from fk with each alinear fit\n",
    "#TODO: plot MTT versus alinear\n",
    "#TODO: dev estimate of probability of termination time in terms of MTT\n",
    "#HINT: what is the mean value of the gamma distribution i'm using?\n"
   ]
  },
  {
   "cell_type": "code",
   "execution_count": null,
   "id": "c5821d42",
   "metadata": {
    "ExecuteTime": {
     "end_time": "2022-09-26T00:24:52.188142Z",
     "start_time": "2022-09-26T00:24:52.188120Z"
    }
   },
   "outputs": [],
   "source": []
  },
  {
   "cell_type": "code",
   "execution_count": null,
   "id": "e12f8e8c",
   "metadata": {
    "ExecuteTime": {
     "end_time": "2022-09-26T00:24:52.190100Z",
     "start_time": "2022-09-26T00:24:52.190078Z"
    }
   },
   "outputs": [],
   "source": []
  },
  {
   "cell_type": "code",
   "execution_count": null,
   "id": "5db25418",
   "metadata": {},
   "outputs": [],
   "source": []
  },
  {
   "cell_type": "code",
   "execution_count": null,
   "id": "4eb5535c",
   "metadata": {},
   "outputs": [],
   "source": []
  },
  {
   "cell_type": "code",
   "execution_count": null,
   "id": "5b421803",
   "metadata": {},
   "outputs": [],
   "source": []
  },
  {
   "cell_type": "code",
   "execution_count": null,
   "id": "9047b3b1",
   "metadata": {},
   "outputs": [],
   "source": []
  },
  {
   "cell_type": "code",
   "execution_count": null,
   "id": "0aa33214",
   "metadata": {},
   "outputs": [],
   "source": []
  },
  {
   "cell_type": "markdown",
   "id": "4946646e",
   "metadata": {
    "heading_collapsed": true
   },
   "source": [
    "# (deprecated) Generation of figure 4\n",
    "Tim Tyree<br>\n",
    "1.3.2022"
   ]
  },
  {
   "cell_type": "code",
   "execution_count": null,
   "id": "0a000343",
   "metadata": {
    "ExecuteTime": {
     "end_time": "2022-09-26T00:24:52.191497Z",
     "start_time": "2022-09-26T00:24:52.191478Z"
    },
    "hidden": true
   },
   "outputs": [],
   "source": [
    "#recall results from tables in the main mansucript\n",
    "wjr=recall_powerlaw_fits_to_full_models()\n",
    "\n",
    "input_fn=f\"{nb_dir}/data/osg_output/run_17_all_powerlaw_fits.csv\"\n",
    "input_fn_dict={'vectorsummed':input_fn,'neighboronly':input_fn}\n",
    "\n",
    "interp=recall_particle_model_interp(input_fn_dict=input_fn_dict)\n",
    "a_hat_FK, D_hat_FK, a_hat_FK_long, a_hat_FK_vlong, a_hat_LR, D_hat_LR, a_hat_LR_long=recall_particle_parameter_measurements()"
   ]
  },
  {
   "cell_type": "markdown",
   "id": "3a0e28da",
   "metadata": {
    "heading_collapsed": true
   },
   "source": [
    "# DONE: fit annihilation rates of the interacting inverse-powerlaw particle model to those of the full models\n",
    "- method of fit: minimization of mean squared error of the powerlaw fits of the particle model to those of the full models\n",
    "- method of minimization: Nelder-Mead minimization"
   ]
  },
  {
   "cell_type": "markdown",
   "id": "334353d8",
   "metadata": {
    "hidden": true
   },
   "source": [
    "`\n",
    "(deprecated) NOTE: for latest version of the manuscript's MSR versus tdeath plot, goto \n",
    "http://localhost:8889/notebooks/Analysis%20of%20model%20for%20time-reversed%20oscillatory%20particle%20model.ipynb\n",
    "`"
   ]
  },
  {
   "cell_type": "code",
   "execution_count": null,
   "id": "2c6b137a",
   "metadata": {
    "ExecuteTime": {
     "end_time": "2022-09-26T00:24:52.193411Z",
     "start_time": "2022-09-26T00:24:52.193389Z"
    },
    "hidden": true
   },
   "outputs": [],
   "source": [
    "#fit the particle model to the luo-rudy model\n",
    "dict_out_lr=PlotParticlModelAnnihilationRateFit(a=a_hat_LR,D=D_hat_LR,wjr=wjr,interp=interp,\n",
    "    ax=None,model_name='lr_pbc',c='C1')"
   ]
  },
  {
   "cell_type": "code",
   "execution_count": null,
   "id": "49a56920",
   "metadata": {
    "ExecuteTime": {
     "end_time": "2022-09-26T00:24:52.195185Z",
     "start_time": "2022-09-26T00:24:52.195165Z"
    },
    "hidden": true,
    "scrolled": false
   },
   "outputs": [],
   "source": [
    "#fit the particle model to the fenton-karma model\n",
    "dict_out_fk=PlotParticlModelAnnihilationRateFit(a=a_hat_FK_vlong,D=D_hat_FK,wjr=wjr,interp=interp,\n",
    "    ax=None,model_name='fk_pbc',c='C0')"
   ]
  },
  {
   "cell_type": "code",
   "execution_count": null,
   "id": "ef234dbd",
   "metadata": {
    "ExecuteTime": {
     "end_time": "2022-09-26T00:24:52.196642Z",
     "start_time": "2022-09-26T00:24:52.196616Z"
    },
    "hidden": true
   },
   "outputs": [],
   "source": [
    "print(f\"amax: {9.60637 + 2*0.586055}\")\n",
    "print(f\"amax: {1.604153 + 2*0.365238}\")"
   ]
  },
  {
   "cell_type": "code",
   "execution_count": null,
   "id": "1176e215",
   "metadata": {
    "ExecuteTime": {
     "end_time": "2022-09-26T00:24:52.198746Z",
     "start_time": "2022-09-26T00:24:52.198724Z"
    },
    "hidden": true
   },
   "outputs": [],
   "source": [
    "#recall ^these fits from lib\n",
    "a,D,r,kappa,rmse=recall_particle_parameter_fits('luorudy')\n",
    "print(f\"a={a},    D={D}, r={r}, kappa={kappa},  rmse={rmse}\")\n",
    "a,D,r,kappa,rmse=recall_particle_parameter_fits('fentonkarma')\n",
    "print(f\"a={a}, D={D}, r={r}, kappa={kappa}, rmse={rmse}\")"
   ]
  },
  {
   "cell_type": "markdown",
   "id": "df5d0f37",
   "metadata": {
    "heading_collapsed": true
   },
   "source": [
    "# DONE(Fig. 3.A): quick mockup of barchart \n",
    "quick mockup of barchart showing durations (and bootstrapped 95% CI) of (i) mean period estimates and (ii) mean lifetime estimates for (blue) the Fenton-Karma model and (orange) the Luo-Rudy model"
   ]
  },
  {
   "cell_type": "code",
   "execution_count": null,
   "id": "8fed62d3",
   "metadata": {
    "hidden": true
   },
   "outputs": [],
   "source": []
  },
  {
   "cell_type": "code",
   "execution_count": null,
   "id": "8feaf3aa",
   "metadata": {
    "ExecuteTime": {
     "end_time": "2022-09-26T00:24:52.200282Z",
     "start_time": "2022-09-26T00:24:52.200260Z"
    },
    "hidden": true
   },
   "outputs": [],
   "source": [
    "#reset matplotlib\n",
    "mpl.rcParams.update(matplotlib.rcParamsDefault)"
   ]
  },
  {
   "cell_type": "code",
   "execution_count": null,
   "id": "30218502",
   "metadata": {
    "ExecuteTime": {
     "end_time": "2022-09-26T00:24:52.201775Z",
     "start_time": "2022-09-26T00:24:52.201748Z"
    },
    "hidden": true
   },
   "outputs": [],
   "source": [
    "#TODO: compute the kinematic periods from the full models\n",
    "meanT_dir_lr='/home/timothytyree/Documents/GitHub/bgmc/python/data/full_results/luorudy_mean_kinematic_periods.npz'\n",
    "meanT_dir_fk='/home/timothytyree/Documents/GitHub/bgmc/python/data/full_results/fentonkarma_mean_kinematic_periods.npz'\n",
    "# np.mean(meanT_values)"
   ]
  },
  {
   "cell_type": "code",
   "execution_count": null,
   "id": "8f528d54",
   "metadata": {
    "hidden": true
   },
   "outputs": [],
   "source": []
  },
  {
   "cell_type": "code",
   "execution_count": null,
   "id": "073d8af7",
   "metadata": {
    "ExecuteTime": {
     "end_time": "2022-09-26T00:24:52.203356Z",
     "start_time": "2022-09-26T00:24:52.203337Z"
    },
    "hidden": true
   },
   "outputs": [],
   "source": [
    "#TODO: copy & paste barcharts from neurophysics\n",
    "#TODO: copy lifetimes from .xlsx\n",
    "#TODO: estimate periods from plot and give reasonable 95% CI estimates\n",
    "#TODO: copy & paste ^that to .odg as a re-first-draft of Fig. 3.A\n",
    "#TODO: move on to my sketch of Fig. 3.B\n",
    "# TODO(later): measure the period precisely\n",
    "mean_lst=[90,100,310.057,82.7333]\n",
    "Delta_mean_lst=[10,10,3.5354,0.9154]\n",
    "# Nobs_lst=[43306,10362,43306,10362]#GUESSED PERIOD SAMPLE SIZES\n",
    "Nobs_lst=[4330,1036,4330,1036]#GUESSED PERIOD SAMPLE SIZES\n",
    "# Nobs_lst=[??,??,43306,10362]"
   ]
  },
  {
   "cell_type": "code",
   "execution_count": null,
   "id": "9f2148be",
   "metadata": {
    "ExecuteTime": {
     "end_time": "2022-09-26T00:24:52.204843Z",
     "start_time": "2022-09-26T00:24:52.204818Z"
    },
    "hidden": true
   },
   "outputs": [],
   "source": [
    "#perform student t-tests for significantly different average values"
   ]
  },
  {
   "cell_type": "code",
   "execution_count": null,
   "id": "d6d5fa03",
   "metadata": {
    "ExecuteTime": {
     "end_time": "2022-09-26T00:24:52.206511Z",
     "start_time": "2022-09-26T00:24:52.206491Z"
    },
    "hidden": true
   },
   "outputs": [],
   "source": [
    "stat,p=stats.ttest_ind_from_stats(mean1=mean_lst[2], std1=Delta_mean_lst[2]/1.96*np.sqrt(Nobs_lst[2]), nobs1=Nobs_lst[2],\n",
    "                           mean2=mean_lst[3], std2=Delta_mean_lst[3]/1.96*np.sqrt(Nobs_lst[3]), nobs2=Nobs_lst[3])\n",
    "print(f\"a students t-test comparing the mean lifetimes from the Fenton-Karma model to those of the Luo-Rudy model yielded p={p}.\")"
   ]
  },
  {
   "cell_type": "code",
   "execution_count": null,
   "id": "a42e13b5",
   "metadata": {
    "ExecuteTime": {
     "end_time": "2022-09-26T00:24:52.208000Z",
     "start_time": "2022-09-26T00:24:52.207980Z"
    },
    "hidden": true
   },
   "outputs": [],
   "source": [
    "stat,p=stats.ttest_ind_from_stats(mean1=mean_lst[0], std1=Delta_mean_lst[0]/1.96*np.sqrt(Nobs_lst[0]), nobs1=Nobs_lst[0],\n",
    "                           mean2=mean_lst[1], std2=Delta_mean_lst[1]/1.96*np.sqrt(Nobs_lst[1]), nobs2=Nobs_lst[1])\n",
    "print(f\"a students t-test comparing the mean lifetimes from the Fenton-Karma model to those of the Luo-Rudy model yielded p={p}.\")"
   ]
  },
  {
   "cell_type": "code",
   "execution_count": null,
   "id": "e668f206",
   "metadata": {
    "ExecuteTime": {
     "end_time": "2022-09-26T00:24:52.209613Z",
     "start_time": "2022-09-26T00:24:52.209595Z"
    },
    "hidden": true,
    "scrolled": true
   },
   "outputs": [],
   "source": [
    "bar_height_values=np.array(mean_lst)\n",
    "Delta_bar_height_values=np.array(Delta_mean_lst)\n",
    "color_lst=['C0','C1','C0','C1']\n",
    "bar_label_lst=[r'$T_{FK}$',r'$T_{LR}$',r'$\\Gamma_{FK}$',r'$\\Gamma_{LR}$']\n",
    "# hatch: {'/', '\\\\', '|', '-', '+', 'x', 'o', 'O', '.', '*'}\n",
    "hatch_values=np.array(['','','//','//'])\n",
    "# bar_label_lst=['Audio-Only\\n\\n\\n','Match\\n\\n\\n','Mismatch\\n\\n\\n','Video-Only\\n\\n\\n']\n",
    "ylabel='Avg. Duration (ms)'#\\nwith Preferred Modality'\n",
    "fig,ax=plt.subplots(figsize=(4,5))\n",
    "ax.bar(bar_label_lst,bar_height_values,hatch=hatch_values,yerr=Delta_bar_height_values,alpha=0.9,color=color_lst,capsize=10)\n",
    "# ax.errorbar(bar_label_lst[0],bar_height_values[0],Delta_bar_height_values[0],alpha=0.9,color=color_lst[0])\n",
    "format_plot(ax=ax,xlabel='',ylabel=ylabel)\n",
    "# title=''\n",
    "# ax.set_title(title,fontsize=18)\n",
    "# plt.gca().yaxis.set_major_formatter(mtick.PercentFormatter())\n",
    "plt.ylim([0,410])\n",
    "# plt.xticks(rotation=90)\n",
    "# plt.xticks(rotation=0)\n",
    "# plt.xticks(rotation=-90)\n",
    "plt.show()"
   ]
  },
  {
   "cell_type": "markdown",
   "id": "231f4ed1",
   "metadata": {
    "ExecuteTime": {
     "end_time": "2022-01-05T00:55:08.002101Z",
     "start_time": "2022-01-05T00:55:07.946080Z"
    },
    "heading_collapsed": true
   },
   "source": [
    "# analytic fit to MSR"
   ]
  },
  {
   "cell_type": "markdown",
   "id": "de935620",
   "metadata": {
    "hidden": true
   },
   "source": [
    "$$\n",
    "\\text{MSR}_\\text{Osc.}(t')=4at'+\\frac{8D}{\\omega}\\Big(sin(\\omega t' + \\phi_f) - sin(\\phi_f)\\Big)\n",
    "$$"
   ]
  },
  {
   "cell_type": "code",
   "execution_count": null,
   "id": "644f0f6a",
   "metadata": {
    "ExecuteTime": {
     "end_time": "2022-09-26T00:24:52.211033Z",
     "start_time": "2022-09-26T00:24:52.211011Z"
    },
    "hidden": true
   },
   "outputs": [],
   "source": [
    "msr_dir_lr=f'{nb_dir}/data/full_results/msr_lr_boostrapped_tavg2_14.0_n_2083_a_8.6.csv'\n",
    "# msr_dir_lr='/home/timothytyree/Documents/GitHub/bgmc/python/data/full_results/msr_lr_boostrapped_tavg2_14.0_n_2083_a_8.6.csv'\n",
    "# a_LR = 8.5950#+/-0.3771 cm^2/s\n",
    "# tavg2=14 ms, num_samples=2083\n",
    "msr_dir_fk=f'{nb_dir}/data/full_results/msr_fk_boostrapped_tavg2_14.0_n_19087_a_1.6_tmax_300.csv'\n",
    "# msr_dir_fk='/home/timothytyree/Documents/GitHub/bgmc/python/data/full_results/msr_fk_boostrapped_tavg2_14.0_n_19087_a_1.6_tmax_300.csv'\n",
    "# a_FK = 1.604153#+/-0.040173 cm^2/s\n",
    "# tavg2=14 ms, num_samples=19087, tmin=0, tmax=300 ms\n",
    "\n",
    "df_msd_lr=pd.read_csv(msr_dir_lr)\n",
    "x_values_LR=df_msd_lr['tdeath_avg'].values\n",
    "y_values_LR=df_msd_lr['MSR'].values\n",
    "yerr_values_LR=df_msd_lr['Delta_MSR'].values\n",
    "df_msd_fk=pd.read_csv(msr_dir_fk)\n",
    "x_values_FK=df_msd_fk['tdeath_avg'].values\n",
    "y_values_FK=df_msd_fk['MSR'].values\n",
    "yerr_values_FK=df_msd_fk['Delta_MSR'].values\n",
    "\n",
    "tmax=300#ms\n",
    "x_values=x_values_FK.copy()\n",
    "y_values=y_values_FK.copy()\n",
    "boo=x_values<tmax #ms\n",
    "dict_a_SR=compute_95CI_ols(x_values[boo],y_values[boo])\n",
    "a_SR=dict_a_SR['m']/4*1e3\n",
    "Delta_a_SR=dict_a_SR['Delta_m']/4*1e3\n",
    "print(f\"a_hat_FK = {a_SR:.6f}+/-{Delta_a_SR:.6f} cm^2/s, tmax={tmax}\")\n",
    "a_hat_FK=a_SR\n",
    "\n",
    "tmax=8#ms\n",
    "x_values=x_values_LR.copy()\n",
    "y_values=y_values_LR.copy()\n",
    "boo=x_values<tmax #ms\n",
    "dict_a_SR=compute_95CI_ols(x_values[boo],y_values[boo])\n",
    "a_SR=dict_a_SR['m']/4*1e3\n",
    "Delta_a_SR=dict_a_SR['Delta_m']/4*1e3\n",
    "print(f\"a_hat_LR = {a_SR:.6f}+/-{Delta_a_SR:.6f} cm^2/s, tmax={tmax}\")\n",
    "a_hat_LR=a_SR"
   ]
  },
  {
   "cell_type": "code",
   "execution_count": null,
   "id": "42319c55",
   "metadata": {
    "ExecuteTime": {
     "end_time": "2022-09-26T00:24:52.212793Z",
     "start_time": "2022-09-26T00:24:52.212774Z"
    },
    "hidden": true
   },
   "outputs": [],
   "source": [
    "fontsize=15\n",
    "fig,ax=plt.subplots(figsize=(6,4))\n",
    "### plot expected\n",
    "fontsize=20\n",
    "\n",
    "xv=np.linspace(0,1e3,200)\n",
    "ax.plot(xv,4*a_hat_LR*1e-3*xv,'--',lw=2,alpha=0.8,c='C1')\n",
    "ax.plot(xv,4*a_hat_FK*1e-3*xv,'--',lw=2,alpha=0.8,c='C0')\n",
    "#plot data\n",
    "ax.plot(x_values_FK,y_values_FK,lw=2,alpha=0.8,c='C0')\n",
    "ax.fill_between(x_values_FK,y_values_FK-yerr_values_FK,y_values_FK+yerr_values_FK,lw=2,alpha=0.4,color='C0')\n",
    "ax.plot(x_values_LR,y_values_LR,lw=2,alpha=0.8,c='C1')\n",
    "ax.fill_between(x_values_LR,y_values_LR-yerr_values_LR,y_values_LR+yerr_values_LR,lw=2,alpha=0.4,color='C1')\n",
    "\n",
    "# MSR(t)=at + (2D/\\omega) \\sin(\\omega t + \\phi_f),\n",
    "# DONE: plot ^this model for MSR for fitty parameter settings (LR)\n",
    "# a=3.535902;D=a/2;phi_f=0.;period=0.1 #s\n",
    "a=3.535902;D=a/2;\n",
    "phi_f=0.;\n",
    "# phi_f=-np.pi/2;\n",
    "period=0.12 #s\n",
    "omega=2*np.pi/period\n",
    "constant=-8*D*np.sin(phi_f)/omega#0.15\n",
    "t_values=np.linspace(0,1,1000)\n",
    "MSR_values_oscillatory=4*(a*t_values+(2*D/omega)*np.sin(omega*t_values+phi_f))+constant\n",
    "ax.plot(t_values*1e3,MSR_values_oscillatory,c='C2',\n",
    "        label='$MSR_{Osc.} (a=a_{LR},\\phi_f=0$)')\n",
    "#         label=r'Oscillatory Solution ($a=a_{LR}$, $\\phi_f=0$)')\n",
    "\n",
    "#what param setting to use for the FK model?\n",
    "phi_f=-np.pi/2;\n",
    "a=1.604153;\n",
    "period=0.11 #s\n",
    "D=a/2;\n",
    "# constant=0.15\n",
    "omega=2*np.pi/period\n",
    "constant=-8*D*np.sin(phi_f)/omega#0.15\n",
    "t_values=np.linspace(0,1,1000)\n",
    "MSR_values_oscillatory=4*(a*t_values+(2*D/omega)*np.sin(omega*t_values+phi_f))+constant\n",
    "ax.plot(t_values*1e3,MSR_values_oscillatory,c='C3',\n",
    "                label=r'$MSR_{Osc.} (a=a_{FK}, \\phi_f=-\\frac{\\pi}{2})$')\n",
    "#         label='$MSR_{Osc.} (a=a_{FK}, \\phi_f=-\\frac{\\pi}{2})$')\n",
    "#         label='Oscillatory Solution ($a=a_{FK}$, $\\phi_f=-\\pi/2$)')\n",
    "\n",
    "# #what param setting to use for the FK model?\n",
    "# phi_f=0#-np.pi/2;\n",
    "# # a=1.604153;\n",
    "# # period=0.11 #s\n",
    "# # D=a/2;\n",
    "# # constant=0.15\n",
    "# omega=2*np.pi/period\n",
    "# constant=-8*D*np.sin(phi_f)/omega#0.15\n",
    "# t_values=np.linspace(0,1,1000)\n",
    "# MSR_values_oscillatory=4*(a*t_values+(2*D/omega)*np.sin(omega*t_values+phi_f))+constant\n",
    "# plt.plot(t_values*1e3,MSR_values_oscillatory,c='gray',label='Oscillatory Solution ($a=a_{FK}$, $\\phi_f=0$)')\n",
    "\n",
    "#format plot\n",
    "format_plot(ax=ax,xlabel=r'$t_f-t$ (ms)',ylabel=r'MSR (cm$^2$)',fontsize=fontsize)\n",
    "plt.xlim([0,1000])\n",
    "plt.ylim([0,5.1])\n",
    "plt.legend(loc='lower right',fontsize=fontsize-5,frameon=False)\n",
    "plt.show()\n",
    "# print(f\"tavg2={tavg2} ms, num_samples={max_num_groups}\")"
   ]
  },
  {
   "cell_type": "markdown",
   "id": "48c7df47",
   "metadata": {
    "hidden": true
   },
   "source": [
    "## generate MSR for the oscillatory model"
   ]
  },
  {
   "cell_type": "code",
   "execution_count": null,
   "id": "8761e91b",
   "metadata": {
    "ExecuteTime": {
     "start_time": "2022-01-06T04:34:18.777Z"
    },
    "hidden": true
   },
   "outputs": [],
   "source": []
  },
  {
   "cell_type": "code",
   "execution_count": null,
   "id": "30447a13",
   "metadata": {
    "ExecuteTime": {
     "end_time": "2022-09-26T00:24:52.214241Z",
     "start_time": "2022-09-26T00:24:52.214212Z"
    },
    "hidden": true
   },
   "outputs": [],
   "source": [
    "include_earliest=False#True#broken?"
   ]
  },
  {
   "cell_type": "code",
   "execution_count": null,
   "id": "bb9a8850",
   "metadata": {
    "ExecuteTime": {
     "end_time": "2022-09-26T00:24:52.216018Z",
     "start_time": "2022-09-26T00:24:52.215997Z"
    },
    "hidden": true
   },
   "outputs": [],
   "source": [
    "#heretim\n",
    "ahat_long=a_hat_FK_vlong#a_hat_LR_long\n",
    "#Fenton-Karma\n",
    "#GOAL: add a reasonable fit MSR from the reversed-time oscillatory particle model (dotted)\n",
    "#DONE: select either of the xy values form the full model (OR copy & paste ^that to new ipynb)\n",
    "#DONE: initialize the particle model for the FK model\n",
    "a=2.4; #2.5?\n",
    "D=1.2; T=120; phif=0.0003; Rf=1e-02; Ntrials=1000\n",
    "# x_values,y_values=x_values_FK,y_values_FK\n",
    "# #DONE: initialize the particle model for the LR model\n",
    "# a=3.8; D=1.9; T=120; phif=0.0002; Rf=1e-02; Ntrials=1000\n",
    "# x_values,y_values=x_values_LR,y_values_LR\n",
    "T=100#110#140#100#120#180#90#240\n",
    "D=0.365238#\t0.004171\t101774+/-103689,0.6,1.5,0.98 # from particle properties spreadsheet\n",
    "a=1.6\n",
    "D=ahat_long/2#/1 #/4#/4\n",
    "a=ahat_long#/2\n",
    "#TODO: recall my time reversed function that maps parameters of the oscillatory model to MSR\n",
    "# gener_positions_oscillatory_reversed\n",
    "\n",
    "# initial_phase_orientation=phif\n",
    "# initial_phase_orientation-=np.pi/2-np.pi# worse/4#/2\n",
    "initial_phase_orientation+=np.pi/2\n",
    "\n",
    "num_pairs=10000#1min 30sec: 10+1#400#2min 22sec: \n",
    "#before, long runtime\n",
    "dict_out,position_array = gener_positions_oscillatory_reversed(\n",
    "            a=a, D=D, printing=False,num_pairs=num_pairs,initial_phase_orientation=initial_phase_orientation,\n",
    "            include_earliest=include_earliest,\n",
    "            period_of_oscillation=T)\n",
    "print(*dict_out)\n",
    "positions_out=position_array\n",
    "\n",
    "#estimated run time: <1 minute\n",
    "# positions_out=dict_out['positions_out']\n",
    "Dt=1e-5\n",
    "rstart=1e-4\n",
    "title=f\"a={a:.4f}, D={D:.4f},\\n\"+r\"$\\phi_0$\"+f\"={initial_phase_orientation:.4f}, \"+r\"R$_0$\"+f\"={rstart:.4f}, \"+r\" N$_{trials}$\"+f\"={num_pairs}\\n\"\n",
    "print(f\"positions_out.shape={positions_out.shape}\")\n",
    "#compute the distance between each pair of particles after aligning by annihilation (unshifted)\n",
    "x1_values=positions_out[:,0]\n",
    "y1_values=positions_out[:,1]\n",
    "x2_values=positions_out[:,2]\n",
    "y2_values=positions_out[:,3]\n",
    "dx_values=(x2_values-x1_values)\n",
    "dy_values=(y2_values-y1_values)\n",
    "Rsq_values=dx_values**2+dy_values**2\n",
    "#compute the ensemble averaged values\n",
    "MSR_values=np.mean(Rsq_values,axis=1)\n",
    "aligned_coordinates_values=np.mean(positions_out,axis=-1)\n",
    "# maxt=Dt*MSR_values.shape[0]\n",
    "t_values=np.arange(MSR_values.shape[0])*Dt\n",
    "\n",
    "t_values_fk_osc=t_values.copy()\n",
    "MSR_values_fk_osc=MSR_values.copy()\n",
    "beep(5)"
   ]
  },
  {
   "cell_type": "code",
   "execution_count": null,
   "id": "9fd642f3",
   "metadata": {
    "ExecuteTime": {
     "end_time": "2022-09-26T00:24:52.217878Z",
     "start_time": "2022-09-26T00:24:52.217858Z"
    },
    "hidden": true
   },
   "outputs": [],
   "source": [
    "#heretim\n",
    "ahat_long=a_hat_LR_long#a_hat_FK_vlong#\n",
    "#Luo-Rudy\n",
    "#runtime was ~40 seconds\n",
    "#recompute the Luo-Rudy model's fitty for the MSR of the oscillatory model \n",
    "#GOAL: add a reasonable fit MSR from the reversed-time oscillatory particle model (dotted)\n",
    "#DONE: select either of the xy values form the full model (OR copy & paste ^that to new ipynb)\n",
    "#DONE: initialize the particle model for the FK model\n",
    "a=2.5; D=1.2; T=120; phif=0.0003; Rf=1e-02; Ntrials=1000\n",
    "# x_values,y_values=x_values_FK,y_values_FK\n",
    "#DONE: initialize the particle model for the LR model\n",
    "a=3.8; D=1.9; T=120; phif=0.0002; Rf=1e-02; Ntrials=1000\n",
    "# x_values,y_values=x_values_LR,y_values_LR\n",
    "\n",
    "#TODO: try to get a reasonable a for LR given D=D_LR\n",
    "D=0.586055#\t0.087553\t1871+/-520,0,0.55*,0.89#from particle properties spreadsheet\n",
    "a=5#too big 8.5#tad small...9#4.5#discontinuous... 5#too small... 3.8\n",
    "T=120#100#240#120\n",
    "D=ahat_long/2#/1 #/4\n",
    "a=ahat_long\n",
    "#TODO: recall my time reversed function that maps parameters of the oscillatory model to MSR\n",
    "# gener_positions_oscillatory_reversed\n",
    "\n",
    "initial_phase_orientation=phif\n",
    "num_pairs=10000#1min 30sec: 10+1#400#2min 22sec: \n",
    "#before, long runtime\n",
    "dict_out,position_array = gener_positions_oscillatory_reversed(\n",
    "            a=a, D=D, printing=False,num_pairs=num_pairs,initial_phase_orientation=initial_phase_orientation,\n",
    "            include_earliest=include_earliest,\n",
    "            period_of_oscillation=T)\n",
    "\n",
    "print(*dict_out)\n",
    "positions_out=position_array\n",
    "\n",
    "#estimated run time: <1 minute\n",
    "# positions_out=dict_out['positions_out']\n",
    "Dt=1e-5\n",
    "rstart=1e-4\n",
    "title=f\"a={a:.4f}, D={D:.4f},\\n\"+r\"$\\phi_0$\"+f\"={initial_phase_orientation:.4f}, \"+r\"R$_0$\"+f\"={rstart:.4f}, \"+r\" N$_{trials}$\"+f\"={num_pairs}\\n\"\n",
    "print(f\"positions_out.shape={positions_out.shape}\")\n",
    "#compute the distance between each pair of particles after aligning by annihilation (unshifted)\n",
    "x1_values=positions_out[:,0]\n",
    "y1_values=positions_out[:,1]\n",
    "x2_values=positions_out[:,2]\n",
    "y2_values=positions_out[:,3]\n",
    "dx_values=(x2_values-x1_values)\n",
    "dy_values=(y2_values-y1_values)\n",
    "Rsq_values=dx_values**2+dy_values**2\n",
    "#compute the ensemble averaged values\n",
    "MSR_values=np.mean(Rsq_values,axis=1)\n",
    "aligned_coordinates_values=np.mean(positions_out,axis=-1)\n",
    "# maxt=Dt*MSR_values.shape[0]\n",
    "t_values=np.arange(MSR_values.shape[0])*Dt\n",
    "\n",
    "t_values_lr_osc=t_values.copy()\n",
    "MSR_values_lr_osc=MSR_values.copy()\n",
    "beep(5)"
   ]
  },
  {
   "cell_type": "code",
   "execution_count": null,
   "id": "4b302d10",
   "metadata": {
    "ExecuteTime": {
     "end_time": "2022-09-26T00:24:52.219865Z",
     "start_time": "2022-09-26T00:24:52.219785Z"
    },
    "hidden": true
   },
   "outputs": [],
   "source": [
    "!pwd"
   ]
  },
  {
   "cell_type": "code",
   "execution_count": null,
   "id": "0f333998",
   "metadata": {
    "ExecuteTime": {
     "end_time": "2022-09-26T00:24:52.222113Z",
     "start_time": "2022-09-26T00:24:52.222065Z"
    },
    "hidden": true
   },
   "outputs": [],
   "source": [
    "#DONE: save dotted as .npz\n",
    "msr_osc_fn=f\"msr_osc_full.npz\"\n",
    "np.savez_compressed(msr_osc_fn,\n",
    "                   t_values_fk_osc=t_values_fk_osc,\n",
    "                   MSR_values_fk_osc=MSR_values_fk_osc,\n",
    "                   t_values_lr_osc=t_values_lr_osc,\n",
    "                   MSR_values_lr_osc=MSR_values_lr_osc)\n",
    "print(f\"msr_osc_fn='{os.path.abspath(msr_osc_fn)}'\")\n",
    "assert os.path.exists(msr_osc_fn)"
   ]
  },
  {
   "cell_type": "code",
   "execution_count": null,
   "id": "0ef49ddd",
   "metadata": {
    "hidden": true
   },
   "outputs": [],
   "source": [
    " "
   ]
  },
  {
   "cell_type": "code",
   "execution_count": null,
   "id": "e4a3bf7f",
   "metadata": {
    "hidden": true
   },
   "outputs": [],
   "source": []
  },
  {
   "cell_type": "code",
   "execution_count": null,
   "id": "bac4bd11",
   "metadata": {
    "ExecuteTime": {
     "end_time": "2022-09-26T00:24:52.223904Z",
     "start_time": "2022-09-26T00:24:52.223883Z"
    },
    "hidden": true
   },
   "outputs": [],
   "source": [
    "assert not np.isnan(Rsq_values).all()"
   ]
  },
  {
   "cell_type": "markdown",
   "id": "633f4b84",
   "metadata": {
    "hidden": true
   },
   "source": [
    "## plot the results"
   ]
  },
  {
   "cell_type": "code",
   "execution_count": null,
   "id": "cd6c131e",
   "metadata": {
    "ExecuteTime": {
     "end_time": "2022-09-26T00:24:52.225708Z",
     "start_time": "2022-09-26T00:24:52.225674Z"
    },
    "hidden": true
   },
   "outputs": [],
   "source": [
    "#estimate a_sr expected for this value with a sliding window\n",
    "msr_dir_lr='/home/timothytyree/Documents/GitHub/bgmc/python/data/full_results/msr_lr_boostrapped_tavg2_14.0_n_2083_a_8.6.csv'\n",
    "# a_LR = 8.5950#+/-0.3771 cm^2/s\n",
    "# tavg2=14 ms, num_samples=2083\n",
    "\n",
    "msr_dir_fk='/home/timothytyree/Documents/GitHub/bgmc/python/data/full_results/msr_fk_boostrapped_tavg2_14.0_n_19087_a_1.6_tmax_300.csv'\n",
    "# a_FK = 1.604153#+/-0.040173 cm^2/s\n",
    "# tavg2=14 ms, num_samples=19087, tmin=0, tmax=300 ms"
   ]
  },
  {
   "cell_type": "code",
   "execution_count": null,
   "id": "59996fe6",
   "metadata": {
    "ExecuteTime": {
     "end_time": "2022-09-26T00:24:52.228098Z",
     "start_time": "2022-09-26T00:24:52.228078Z"
    },
    "hidden": true
   },
   "outputs": [],
   "source": [
    "df_msd_lr=pd.read_csv(msr_dir_lr)\n",
    "x_values_LR=df_msd_lr['tdeath_avg'].values\n",
    "y_values_LR=df_msd_lr['MSR'].values\n",
    "yerr_values_LR=df_msd_lr['Delta_MSR'].values\n",
    "df_msd_fk=pd.read_csv(msr_dir_fk)\n",
    "x_values_FK=df_msd_fk['tdeath_avg'].values\n",
    "y_values_FK=df_msd_fk['MSR'].values\n",
    "yerr_values_FK=df_msd_fk['Delta_MSR'].values"
   ]
  },
  {
   "cell_type": "code",
   "execution_count": null,
   "id": "b7055d70",
   "metadata": {
    "ExecuteTime": {
     "end_time": "2022-09-26T00:24:52.229594Z",
     "start_time": "2022-09-26T00:24:52.229571Z"
    },
    "hidden": true
   },
   "outputs": [],
   "source": [
    "tmax=300#8#ms\n",
    "x_values=x_values_FK.copy()\n",
    "y_values=y_values_FK.copy()\n",
    "boo=x_values<tmax #ms\n",
    "dict_a_SR=compute_95CI_ols(x_values[boo],y_values[boo])\n",
    "a_SR=dict_a_SR['m']/4*1e3\n",
    "Delta_a_SR=dict_a_SR['Delta_m']/4*1e3\n",
    "print(f\"a_hat_FK = {a_SR:.6f}+/-{Delta_a_SR:.6f} cm^2/s, tmax={tmax}\")\n",
    "a_hat_FK=a_SR\n",
    "\n",
    "tmax=8#ms\n",
    "x_values=x_values_LR.copy()\n",
    "y_values=y_values_LR.copy()\n",
    "boo=x_values<tmax #ms\n",
    "dict_a_SR=compute_95CI_ols(x_values[boo],y_values[boo])\n",
    "a_SR=dict_a_SR['m']/4*1e3\n",
    "Delta_a_SR=dict_a_SR['Delta_m']/4*1e3\n",
    "print(f\"a_hat_LR = {a_SR:.6f}+/-{Delta_a_SR:.6f} cm^2/s, tmax={tmax}\")\n",
    "a_hat_LR=a_SR"
   ]
  },
  {
   "cell_type": "code",
   "execution_count": null,
   "id": "8b92844b",
   "metadata": {
    "ExecuteTime": {
     "end_time": "2022-09-26T00:24:52.231028Z",
     "start_time": "2022-09-26T00:24:52.231007Z"
    },
    "hidden": true,
    "hide_input": true
   },
   "outputs": [],
   "source": [
    "#heretim\n",
    "#plot expected\n",
    "xv=np.linspace(0,1e3,200)\n",
    "plt.plot(xv,4*a_hat_LR*1e-3*xv,'--',lw=2,alpha=0.8,c='C1')\n",
    "plt.plot(xv,4*a_hat_FK*1e-3*xv,'--',lw=2,alpha=0.8,c='C0')\n",
    "#plot fitty\n",
    "plt.plot(t_values_fk_osc*1e3,MSR_values_fk_osc,':',lw=2,alpha=0.5,c='C0')\n",
    "plt.plot(t_values_lr_osc*1e3,MSR_values_lr_osc,':',lw=2,alpha=0.5,c='C1')\n",
    "#plot data\n",
    "plt.plot(x_values_FK,y_values_FK,lw=2,alpha=0.8,c='C0')\n",
    "plt.fill_between(x_values_FK,y_values_FK-yerr_values_FK,y_values_FK+yerr_values_FK,lw=2,alpha=0.4,color='C0')\n",
    "plt.plot(x_values_LR,y_values_LR,lw=2,alpha=0.8,c='C1')\n",
    "plt.fill_between(x_values_LR,y_values_LR-yerr_values_LR,y_values_LR+yerr_values_LR,lw=2,alpha=0.4,color='C1')\n",
    "format_plot(ax=plt.gca(),xlabel=r'$t_f-t$ (ms)',ylabel=r'MSR (cm$^2$)')\n",
    "plt.xlim([0,180])\n",
    "plt.ylim([0,3.1])\n",
    "title=f\"a={a:.4f}, D={D:.4f},\\n\"+r\"$\\phi_0$\"+f\"={initial_phase_orientation:.4f}, \"+r\"R$_0$\"+f\"={rstart:.4f}, \"+r\" N$_{trials}$\"+f\"={num_pairs}\\n\"\n",
    "plt.title(title)\n",
    "plt.show()\n",
    "# print(f\"tavg2={tavg2} ms, num_samples={max_num_groups}\")"
   ]
  },
  {
   "cell_type": "code",
   "execution_count": null,
   "id": "af473cda",
   "metadata": {
    "ExecuteTime": {
     "end_time": "2022-09-26T00:24:52.232855Z",
     "start_time": "2022-09-26T00:24:52.232832Z"
    },
    "hidden": true
   },
   "outputs": [],
   "source": [
    "#plot expected\n",
    "xv=np.linspace(0,1e3,200)\n",
    "plt.plot(xv,4*a_hat_LR*1e-3*xv,'--',lw=2,alpha=0.8,c='C1')\n",
    "plt.plot(xv,4*a_hat_FK*1e-3*xv,'--',lw=2,alpha=0.8,c='C0')\n",
    "#plot data\n",
    "plt.plot(x_values_FK,y_values_FK,lw=2,alpha=0.8,c='C0')\n",
    "plt.fill_between(x_values_FK,y_values_FK-yerr_values_FK,y_values_FK+yerr_values_FK,lw=2,alpha=0.4,color='C0')\n",
    "plt.plot(x_values_LR,y_values_LR,lw=2,alpha=0.8,c='C1')\n",
    "plt.fill_between(x_values_LR,y_values_LR-yerr_values_LR,y_values_LR+yerr_values_LR,lw=2,alpha=0.4,color='C1')\n",
    "\n",
    "plt.plot(t_values_fk_osc*1e3,MSR_values_fk_osc,':',lw=2,alpha=0.5,c='C0')\n",
    "plt.plot(t_values_lr_osc*1e3,MSR_values_lr_osc,':',lw=2,alpha=0.5,c='C1')\n",
    "\n",
    "#this FAILS to let me change the text displayed...  i must make a triangle and a text box to make the slope's label \"4a_FK\"\n",
    "# #mark the slope of ^that line with slope = 4*1.6 (FK) and slope = 4*8.6 (LR)\n",
    "# x1 = 700\n",
    "# y1 = 4\n",
    "# ax=plt.gca()\n",
    "# annotation.slope_marker(origin=(x1, y1),\n",
    "#                         slope=4*1.6e-3,#(1.6,1),#1.6,\n",
    "# #                         invert=True,\n",
    "# #                         text_kwargs={'color': 'black','fontsize':16, 'alpha':0.7, \"text\":'4a'},\n",
    "#                         text_kwargs={'color': 'black','fontsize':16, 'alpha':0.7},\n",
    "#                         poly_kwargs={'facecolor': (0.5, 0.5, 0.5), 'alpha':0.5},#TODO: replace with purple\n",
    "#                         ax=ax)\n",
    "\n",
    "#format plot\n",
    "format_plot(ax=plt.gca(),xlabel=r'$t_f-t$ (ms)',ylabel=r'MSR (cm$^2$)')\n",
    "plt.xlim([0,1000])\n",
    "plt.ylim([0,5.1])\n",
    "# plt.ylim([0,4.1])\n",
    "\n",
    "plt.show()"
   ]
  },
  {
   "cell_type": "code",
   "execution_count": null,
   "id": "353bf517",
   "metadata": {
    "ExecuteTime": {
     "end_time": "2022-09-26T00:24:52.234619Z",
     "start_time": "2022-09-26T00:24:52.234598Z"
    },
    "hidden": true
   },
   "outputs": [],
   "source": [
    "#TODO(later?): add a legend that identifies the 3 different classes of curves with black legend markers\n",
    "# (solid) full model, \n",
    "# (dashed) interacting inverse-powerlaw particle model,\n",
    "# (dotted) oscillatory particle model,"
   ]
  },
  {
   "cell_type": "code",
   "execution_count": null,
   "id": "82e1ba46",
   "metadata": {
    "ExecuteTime": {
     "end_time": "2022-09-26T00:24:52.236293Z",
     "start_time": "2022-09-26T00:24:52.236275Z"
    },
    "hidden": true
   },
   "outputs": [],
   "source": [
    "#GOAL: highlight ^this with slopes indicating how ahat is computed \n",
    "# #TODO: change label to 4*a\n",
    "# annotation.slope_marker? #LAME\n",
    "# matplotlib.text.Text? #object oriented\n",
    "# matplotlib.patches.Polygon? #object oriented\n",
    "# #HINT: use ^these two mpl handles to add slopes to indicate "
   ]
  },
  {
   "cell_type": "code",
   "execution_count": null,
   "id": "7051e1eb",
   "metadata": {
    "ExecuteTime": {
     "end_time": "2022-09-26T00:24:52.237875Z",
     "start_time": "2022-09-26T00:24:52.237856Z"
    },
    "hidden": true
   },
   "outputs": [],
   "source": [
    "1.604153/2"
   ]
  },
  {
   "cell_type": "code",
   "execution_count": null,
   "id": "6eb5f36c",
   "metadata": {
    "ExecuteTime": {
     "end_time": "2022-09-26T00:24:52.239174Z",
     "start_time": "2022-09-26T00:24:52.239157Z"
    },
    "hidden": true
   },
   "outputs": [],
   "source": [
    "Tavg_expected_lr=1e-03/0.095638665 #seconds #N=10, L=5\n",
    "print(f\"Tavg_expected_lr={Tavg_expected_lr} when N=10, L=5\")\n",
    "Tavg_expected_lr=1e-03/0.18501388 #seconds N=16, L=5\n",
    "print(f\"Tavg_expected_lr={Tavg_expected_lr} when N=16, L=5\")\n",
    "# src: src: full_results/data_fig4_vidmar_lr_tt.csv"
   ]
  },
  {
   "cell_type": "code",
   "execution_count": null,
   "id": "d7774a77",
   "metadata": {
    "hidden": true
   },
   "outputs": [],
   "source": []
  },
  {
   "cell_type": "markdown",
   "id": "a976f7c1",
   "metadata": {
    "heading_collapsed": true,
    "hidden": true
   },
   "source": [
    "## (ignore) (example msr traces from oscillatory) generate traces of MSR from the oscilatory model that are reasonable guesses for the full models\n",
    "DONT dev nelder-mead least square fits of the oscillatory model to the MSR of the full models"
   ]
  },
  {
   "cell_type": "code",
   "execution_count": null,
   "id": "523eea69",
   "metadata": {
    "ExecuteTime": {
     "end_time": "2022-09-26T00:24:52.240436Z",
     "start_time": "2022-09-26T00:24:52.240412Z"
    },
    "hidden": true
   },
   "outputs": [],
   "source": [
    "#GOAL: add a best fit MSR from the reversed-time oscillatory particle model (dotted)\n",
    "#DONE: select either of the xy values form the full model (OR copy & paste ^that to new ipynb)\n",
    "\n",
    "\n",
    "#DONE: initialize the particle model for the FK model\n",
    "a=2.5; D=1.2; T=120; phif=0.0003; Rf=1e-02; Ntrials=1000\n",
    "x_values,y_values=x_values_FK,y_values_FK\n",
    "#DONE: initialize the particle model for the LR model\n",
    "a=3.8; D=1.9; T=120; phif=0.0002; Rf=1e-02; Ntrials=1000\n",
    "x_values,y_values=x_values_LR,y_values_LR\n",
    "\n",
    "#TODO: recall my time reversed function that maps parameters of the oscillatory model to MSR\n",
    "# gener_positions_oscillatory_reversed"
   ]
  },
  {
   "cell_type": "code",
   "execution_count": null,
   "id": "237bae75",
   "metadata": {
    "ExecuteTime": {
     "end_time": "2022-09-26T00:24:52.241752Z",
     "start_time": "2022-09-26T00:24:52.241731Z"
    },
    "hidden": true
   },
   "outputs": [],
   "source": [
    "#     #2 min. runtime?\n",
    "testing=True\n",
    "initial_phase_orientation=phif\n",
    "num_pairs=50#1min 30sec: 10+1#400#2min 22sec: \n",
    "if testing:\n",
    "    #before, long runtime\n",
    "    dict_out,position_array = gener_positions_oscillatory_reversed(\n",
    "                a=a, D=D, printing=False,num_pairs=num_pairs,initial_phase_orientation=initial_phase_orientation)\n",
    "    print(*dict_out)\n",
    "    positions_out=position_array\n",
    "    print(f\"positions_out.shape={positions_out.shape}\")\n",
    "    beep(5)"
   ]
  },
  {
   "cell_type": "code",
   "execution_count": null,
   "id": "49e215c6",
   "metadata": {
    "ExecuteTime": {
     "end_time": "2022-09-26T00:24:52.243499Z",
     "start_time": "2022-09-26T00:24:52.243481Z"
    },
    "hidden": true
   },
   "outputs": [],
   "source": [
    "#GOAL: add a reasonable fit MSR from the reversed-time oscillatory particle model (dotted)\n",
    "#DONE: select either of the xy values form the full model (OR copy & paste ^that to new ipynb)\n",
    "#DONE: initialize the particle model for the FK model\n",
    "a=2.5; D=1.2; T=120; phif=0.0003; Rf=1e-02; Ntrials=1000\n",
    "x_values,y_values=x_values_FK,y_values_FK\n",
    "#DONE: initialize the particle model for the LR model\n",
    "a=3.8; D=1.9; T=120; phif=0.0002; Rf=1e-02; Ntrials=1000\n",
    "x_values,y_values=x_values_LR,y_values_LR\n",
    "\n",
    "#TODO: recall my time reversed function that maps parameters of the oscillatory model to MSR\n",
    "# gener_positions_oscillatory_reversed\n",
    "\n",
    "initial_phase_orientation=phif\n",
    "num_pairs=1000#1min 30sec: 10+1#400#2min 22sec: \n",
    "#before, long runtime\n",
    "dict_out,position_array = gener_positions_oscillatory_reversed(\n",
    "            a=a, D=D, printing=False,num_pairs=num_pairs,initial_phase_orientation=initial_phase_orientation)\n",
    "print(*dict_out)\n",
    "positions_out=position_array\n",
    "\n",
    "#estimated run time: <1 minute\n",
    "# positions_out=dict_out['positions_out']\n",
    "Dt=1e-5\n",
    "rstart=1e-4\n",
    "title=f\"a={a:.4f}, D={D:.4f},\\n\"+r\"$\\phi_0$\"+f\"={initial_phase_orientation:.4f}, \"+r\"R$_0$\"+f\"={rstart:.4f}, \"+r\" N$_{trials}$\"+f\"={num_pairs}\\n\"\n",
    "print(f\"positions_out.shape={positions_out.shape}\")\n",
    "#compute the distance between each pair of particles after aligning by annihilation (unshifted)\n",
    "x1_values=positions_out[:,0]\n",
    "y1_values=positions_out[:,1]\n",
    "x2_values=positions_out[:,2]\n",
    "y2_values=positions_out[:,3]\n",
    "dx_values=(x2_values-x1_values)\n",
    "dy_values=(y2_values-y1_values)\n",
    "Rsq_values=dx_values**2+dy_values**2\n",
    "#compute the ensemble averaged values\n",
    "MSR_values=np.mean(Rsq_values,axis=1)\n",
    "aligned_coordinates_values=np.mean(positions_out,axis=-1)\n",
    "# maxt=Dt*MSR_values.shape[0]\n",
    "t_values=np.arange(MSR_values.shape[0])*Dt\n",
    "\n",
    "t_values_lr_osc=t_values.copy()\n",
    "MSR_values_lr_osc=MSR_values.copy()\n",
    "beep(5)"
   ]
  },
  {
   "cell_type": "code",
   "execution_count": null,
   "id": "24e59bb7",
   "metadata": {
    "ExecuteTime": {
     "end_time": "2022-09-26T00:24:52.245058Z",
     "start_time": "2022-09-26T00:24:52.245041Z"
    },
    "hidden": true
   },
   "outputs": [],
   "source": [
    "#     #2 min. runtime?\n",
    "testing=True\n",
    "initial_phase_orientation=phif\n",
    "num_pairs=200#1min 30sec: 10+1#400#2min 22sec: \n",
    "if testing:\n",
    "    #before, long runtime\n",
    "    dict_out,position_array = gener_positions_oscillatory_reversed(\n",
    "                a=a, D=D, printing=False,num_pairs=num_pairs,initial_phase_orientation=initial_phase_orientation)\n",
    "    print(*dict_out)\n",
    "    positions_out=position_array\n",
    "    print(f\"positions_out.shape={positions_out.shape}\")\n",
    "    beep(5)"
   ]
  },
  {
   "cell_type": "code",
   "execution_count": null,
   "id": "8bf1e919",
   "metadata": {
    "ExecuteTime": {
     "end_time": "2022-09-26T00:24:52.246430Z",
     "start_time": "2022-09-26T00:24:52.246403Z"
    },
    "hidden": true
   },
   "outputs": [],
   "source": [
    "#     #2 min. runtime?\n",
    "testing=True\n",
    "initial_phase_orientation=phif\n",
    "num_pairs=100#1min 30sec: 10+1#400#2min 22sec: \n",
    "if testing:\n",
    "    #before, long runtime\n",
    "    dict_out,position_array = gener_positions_oscillatory_reversed(\n",
    "                a=a, D=D, printing=False,num_pairs=num_pairs,initial_phase_orientation=initial_phase_orientation)\n",
    "    print(*dict_out)\n",
    "    positions_out=position_array\n",
    "    print(f\"positions_out.shape={positions_out.shape}\")\n",
    "    beep(5)"
   ]
  },
  {
   "cell_type": "code",
   "execution_count": null,
   "id": "83246ba9",
   "metadata": {
    "ExecuteTime": {
     "end_time": "2022-09-26T00:24:52.247750Z",
     "start_time": "2022-09-26T00:24:52.247729Z"
    },
    "hidden": true
   },
   "outputs": [],
   "source": [
    "#TODO: average ^that N=1000 run.\n",
    "print(f\"positions_out.shape={positions_out.shape}\")\n",
    "#compute the distance between each pair of particles after aligning by annihilation (unshifted)\n",
    "x1_values=positions_out[:,0]\n",
    "y1_values=positions_out[:,1]\n",
    "x2_values=positions_out[:,2]\n",
    "y2_values=positions_out[:,3]\n",
    "dx_values=(x2_values-x1_values)\n",
    "dy_values=(y2_values-y1_values)\n",
    "Rsq_values=dx_values**2+dy_values**2\n",
    "#compute the ensemble averaged values\n",
    "MSR_values=np.mean(Rsq_values,axis=1)"
   ]
  },
  {
   "cell_type": "code",
   "execution_count": null,
   "id": "cc1864a5",
   "metadata": {
    "ExecuteTime": {
     "end_time": "2022-09-26T00:24:52.249193Z",
     "start_time": "2022-09-26T00:24:52.249174Z"
    },
    "hidden": true
   },
   "outputs": [],
   "source": [
    "plt.plot(MSR_values)"
   ]
  },
  {
   "cell_type": "code",
   "execution_count": null,
   "id": "d86c353e",
   "metadata": {
    "ExecuteTime": {
     "end_time": "2022-09-26T00:24:52.250441Z",
     "start_time": "2022-09-26T00:24:52.250422Z"
    },
    "hidden": true
   },
   "outputs": [],
   "source": [
    "MSR_values_high_res=MSR_values.copy()\n",
    "MSR_values_high_res.shape"
   ]
  },
  {
   "cell_type": "code",
   "execution_count": null,
   "id": "7b8714ad",
   "metadata": {
    "ExecuteTime": {
     "end_time": "2022-09-26T00:24:52.251684Z",
     "start_time": "2022-09-26T00:24:52.251661Z"
    },
    "hidden": true
   },
   "outputs": [],
   "source": [
    "#estimated run time: 11 minutes\n",
    "\n",
    "\n",
    "# positions_out=dict_out['positions_out']\n",
    "Dt=1e-5\n",
    "rstart=1e-4\n",
    "title=f\"a={a:.4f}, D={D:.4f},\\n\"+r\"$\\phi_0$\"+f\"={initial_phase_orientation:.4f}, \"+r\"R$_0$\"+f\"={rstart:.4f}, \"+r\" N$_{trials}$\"+f\"={num_pairs}\\n\"\n",
    "\n",
    "\n",
    "\n",
    "print(f\"positions_out.shape={positions_out.shape}\")\n",
    "#compute the distance between each pair of particles after aligning by annihilation (unshifted)\n",
    "x1_values=positions_out[:,0]\n",
    "y1_values=positions_out[:,1]\n",
    "x2_values=positions_out[:,2]\n",
    "y2_values=positions_out[:,3]\n",
    "dx_values=(x2_values-x1_values)\n",
    "dy_values=(y2_values-y1_values)\n",
    "Rsq_values=dx_values**2+dy_values**2\n",
    "#compute the ensemble averaged values\n",
    "MSR_values=np.mean(Rsq_values,axis=1)\n",
    "aligned_coordinates_values=np.mean(positions_out,axis=-1)\n",
    "# maxt=Dt*MSR_values.shape[0]\n",
    "t_values=np.arange(MSR_values.shape[0])*Dt\n",
    "# x_values=aligned_mean_values[:,0]\n",
    "# plt.plot(aligned_mean_values[:,1])\n",
    "# plt.plot(aligned_mean_values[:,2])\n",
    "# plt.plot(aligned_mean_values[:,3])\n",
    "\n",
    "xmin,xmax=0,0.1\n",
    "ymin,ymax=0,0.6\n",
    "xv=np.linspace(xmin,xmax,100)\n",
    "plt.plot(xv,4*a*xv,'k--',label=r'$4a(t_f-t)$')\n",
    "plt.xlim([xmin,xmax])\n",
    "plt.ylim([ymin,ymax])\n",
    "plt.plot(t_values,MSR_values,c='C5',label=r\"Simulation\")\n",
    "# plt.plot(t_values,aligned_mean_values[::-1,0]**2)\n",
    "plt.plot(t_values,t_values*0.,'--',c='gray',alpha=0.5)\n",
    "format_plot(ax=plt.gca(),xlabel=r'$t_f-t$ (sec)',ylabel=r'MSR (cm$^2$)')\n",
    "plt.title(title,fontsize=16)\n",
    "plt.legend(fontsize=16)\n",
    "plt.show()\n",
    "\n",
    "\n"
   ]
  },
  {
   "cell_type": "code",
   "execution_count": null,
   "id": "f8ab04da",
   "metadata": {
    "ExecuteTime": {
     "end_time": "2022-09-26T00:24:52.253160Z",
     "start_time": "2022-09-26T00:24:52.253140Z"
    },
    "hidden": true
   },
   "outputs": [],
   "source": [
    "\n",
    "boo=~(np.isnan(t_values)|np.isnan(MSR_values))\n",
    "dict_fit=compute_95CI_ols(t_values[boo],MSR_values[boo])\n",
    "print_dict(dict_fit)\n",
    "print(f\"num_samples={positions_out.shape[-1]}\")\n",
    "print(f\"num_timepoints={t_values.shape[0]}\")\n",
    "print(f\"ahat = {dict_fit['m']/4:.4f}+/-{dict_fit['Delta_m']/4:.4f}\")"
   ]
  },
  {
   "cell_type": "code",
   "execution_count": null,
   "id": "a50d4a06",
   "metadata": {
    "hidden": true
   },
   "outputs": [],
   "source": []
  },
  {
   "cell_type": "code",
   "execution_count": null,
   "id": "30548c45",
   "metadata": {
    "hidden": true
   },
   "outputs": [],
   "source": []
  },
  {
   "cell_type": "code",
   "execution_count": null,
   "id": "d58e4d88",
   "metadata": {
    "ExecuteTime": {
     "end_time": "2022-09-26T00:24:52.254569Z",
     "start_time": "2022-09-26T00:24:52.254549Z"
    },
    "hidden": true
   },
   "outputs": [],
   "source": [
    "#TODO: recall my Nelder-Mead least-squares minimization routine\n",
    "#TODO: merge ^those two routines\n",
    "#TODO: plot the MSR of the resulting fit (if Nelder-Mead is sufficiently awesome)"
   ]
  },
  {
   "cell_type": "code",
   "execution_count": null,
   "id": "38e7a73b",
   "metadata": {
    "ExecuteTime": {
     "end_time": "2022-09-26T00:24:52.255960Z",
     "start_time": "2022-09-26T00:24:52.255939Z"
    },
    "hidden": true
   },
   "outputs": [],
   "source": [
    "meanT_dir_lr='/home/timothytyree/Documents/GitHub/bgmc/python/data/full_results/luorudy_mean_kinematic_periods.npz'\n",
    "meanT_dir_fk='/home/timothytyree/Documents/GitHub/bgmc/python/data/full_results/fentonkarma_mean_kinematic_periods.npz'\n",
    "np.mean(meanT_values)"
   ]
  },
  {
   "cell_type": "markdown",
   "id": "8009d620",
   "metadata": {
    "heading_collapsed": true
   },
   "source": [
    "# generate figure for the mslim consistency argument"
   ]
  },
  {
   "cell_type": "code",
   "execution_count": null,
   "id": "60513526",
   "metadata": {
    "ExecuteTime": {
     "end_time": "2022-09-26T00:24:52.257734Z",
     "start_time": "2022-09-26T00:24:52.257715Z"
    },
    "hidden": true
   },
   "outputs": [],
   "source": [
    "a_hat_FK, D_hat_FK, a_hat_FK_long, a_hat_FK_vlong, a_hat_LR, D_hat_LR, a_hat_LR_long=recall_particle_parameter_measurements()\n",
    "# note: a_ratio_lr=a_hat_FK_vlong/a_hat_FK_vlong=1\n",
    "ahat_fk_observed=a_hat_FK_vlong\n",
    "D_hat_fk_observed=D_hat_FK\n",
    "ahat_lr_observed=a_hat_LR\n",
    "D_hat_lr_observed=D_hat_LR\n",
    "a_lr_observed=a_hat_LR_long\n",
    "a_fk_observed=a_hat_FK_vlong"
   ]
  },
  {
   "cell_type": "code",
   "execution_count": null,
   "id": "44aee509",
   "metadata": {
    "ExecuteTime": {
     "end_time": "2022-09-26T00:24:52.259719Z",
     "start_time": "2022-09-26T00:24:52.259699Z"
    },
    "hidden": true
   },
   "outputs": [],
   "source": [
    "# # TODO: visualize ahat/a by summing the three terms of the attraction coefficient estimator\n",
    "#plot solutions for the estimators\n",
    "slope=-1\n",
    "phi_f=-np.pi*0.5#-np.pi/4\n",
    "alpha=0.2\n",
    "xlabel=r'$\\bar\\Gamma / T$'#\n",
    "ylabel=r'$\\hat a ^2/a^2$'#\n",
    "use_loglog=True\n",
    "# fig,ax=plt.subplots(figsize=(5,3))\n",
    "fig,ax=plt.subplots(figsize=(6,4))\n",
    "z_values=np.logspace(-2,2,100)\n",
    "x_values=z_values/(2.*np.pi)\n",
    "\n",
    "# #plot observed ahat values as horizontal dashed lines\n",
    "# y=ahat_fk_observed/a_fk_observed\n",
    "# ax.plot(x_values,0.*x_values+y,'C0--',lw=2,alpha=0.9,label='Fenton-Karma Model')\n",
    "# y=ahat_lr_observed/a_lr_observed\n",
    "# ax.plot(x_values,0.*x_values+y,'C1--',lw=2,alpha=0.9,label='Luo-Rudy Model')\n",
    "\n",
    "# #plot observed ahat,Gamma/T values as horizontal dashed lines\n",
    "# #Fenton-Karma\n",
    "# x=3\n",
    "# Delta_x=.5 #poorly estimated uncertainty\n",
    "# y=ahat_fk_observed/a_fk_observed\n",
    "# Delta_y=.04 #well estimated uncertainty\n",
    "#plot observed ahat,Gamma/T values as horizontal dashed lines\n",
    "#Fenton-Karma\n",
    "# GammaBar_observed: 387.0374+/-31.3052/2 milliseconds\n",
    "# T:110 +/- ?? ms\n",
    "a=197.3891#ms\n",
    "Delta_GammaBar_observed=35.600166 #ms\n",
    "# a=387.0374#ms\n",
    "# Delta_GammaBar_observed=15.6526#ms\n",
    "b=110#ms\n",
    "Delta_T_estimated=10\n",
    "Delta_a=Delta_GammaBar_observed\n",
    "Delta_b=Delta_T_estimated\n",
    "x=a/b\n",
    "Delta_x=np.sqrt(Delta_a**2/(b**2) + a**2*Delta_b**2/(b**4)) #well estimated uncertainty\n",
    "y=(ahat_fk_observed/a_fk_observed)\n",
    "Delta_y=.04 #well estimated uncertainty for ahat/a\n",
    "ax.errorbar(x, y, xerr=Delta_x, yerr=Delta_y, fmt='o',markersize=8,capsize=4,lw=2,\n",
    "            color='C0')#,label='Fenton-Karma')\n",
    "# #Luo-Rudy\n",
    "# x=0.1\n",
    "# Delta_x=.05 #poorly estimated uncertainty\n",
    "# y=ahat_lr_observed/a_lr_observed\n",
    "# Delta_y=.08 #well estimated uncertainty\n",
    "#Luo-Rudy\n",
    "# GammaBar_observed: 41.9756+/-4.4809/2 milliseconds\n",
    "# T:120 +/- ?? mc\n",
    "# a=41.9756#ms\n",
    "# Delta_GammaBar_observed=15.6526\n",
    "a=15.5618 #ms\n",
    "Delta_GammaBar_observed=1.867684\n",
    "Delta_T_estimated=20\n",
    "b=120#ms\n",
    "Delta_a=Delta_GammaBar_observed\n",
    "Delta_b=Delta_T_estimated\n",
    "x=a/b\n",
    "Delta_x=np.sqrt(Delta_a**2/(b**2) + a**2*Delta_b**2/(b**4)) #well estimated uncertainty\n",
    "y=(ahat_lr_observed/a_lr_observed)\n",
    "Delta_y=.08 #well estimated uncertainty for ahat/a\n",
    "ax.errorbar(x, y, xerr=Delta_x, yerr=Delta_y, fmt='o',markersize=8,capsize=4,lw=2,\n",
    "            color='C1')#,label='Luo-Rudy')\n",
    "\n",
    "\n",
    "#MSLIM\n",
    "#plot predictions for phi=-np.pi/2\n",
    "phi=phi_f\n",
    "a=1 #same plot for any a\n",
    "y_values= comp_ahat_mslim(z_values,a,D=a/2.,phi=phi)/a\n",
    "ax.plot(x_values,y_values,lw=2,alpha=0.4,color='green',\n",
    "                label=r'mslim')\n",
    "#         label=r'$g(\\bar\\Gamma/T,\\phi_f=-\\frac{\\pi}{2})$')\n",
    "squared_ahat_values =correction_diffusion(z_values,a=a,D=a/2.,phi=phi)\n",
    "squared_ahat_values+=correction_cross(z_values,a=a,D=a/2.,phi=phi)\n",
    "squared_ahat_values+=a**2\n",
    "y_values=np.sqrt(squared_ahat_values/a**2)\n",
    "ax.plot(x_values,y_values,lw=2,alpha=0.8,color='green',\n",
    "        label=r'squared mslim')\n",
    "#         label=r'$g(\\bar\\Gamma/T,\\phi_f=-\\frac{\\pi}{2})$')\n",
    "#         label=r'g($\\phi_f=$'+f\"{phi_f:.4f})\")\n",
    "#         label=r'Solution ($\\phi_f=-\\frac{\\pi}{2}$)')\n",
    "# #plot predictions for phi=0\n",
    "# phi=0\n",
    "a=1 #same plot for any a\n",
    "y_values= comp_ahat_mslim(z_values,a,D=a/2.,phi=0)/a\n",
    "ax.plot(x_values,y_values,lw=2,alpha=0.4,color='grey',\n",
    "                label=r'mslim')\n",
    "\n",
    "y_values= comp_ahat_mslim(z_values,a,D=a/2.,phi=phi)/a\n",
    "ax.plot(x_values,y_values,lw=2,alpha=0.4,color='green',\n",
    "                label=r'mslim')\n",
    "#         label=r'$g(\\bar\\Gamma/T,\\phi_f=-\\frac{\\pi}{2})$')\n",
    "squared_ahat_values =correction_diffusion(z_values,a=a,D=a/2.,phi=0)\n",
    "squared_ahat_values+=correction_cross(z_values,a=a,D=a/2.,phi=0)\n",
    "squared_ahat_values+=a**2\n",
    "y_values=np.sqrt(squared_ahat_values/a**2)\n",
    "ax.plot(x_values,y_values,lw=2,alpha=0.8,color='gray',\n",
    "        label=r'squared mslim')\n",
    "#         label=r'$g(\\bar\\Gamma/T,\\phi_f=-\\frac{\\pi}{2})$')\n",
    "\n",
    "#SMSLIM\n",
    "# #plot predictions for phi=-np.pi/2\n",
    "# phi=phi_f\n",
    "# squared_ahat_values =correction_diffusion(z_values,a=a,D=a/2.,phi=phi)\n",
    "# squared_ahat_values+=correction_cross(z_values,a=a,D=a/2.,phi=phi)\n",
    "# squared_ahat_values+=a**2\n",
    "# y_values=np.sqrt(squared_ahat_values/a**2)\n",
    "# ax.plot(x_values,y_values,lw=2,alpha=0.8,color='green',\n",
    "#         label=r'$g(\\bar\\Gamma/T,\\phi_f=-\\frac{\\pi}{2})$')\n",
    "# #         label=r'g($\\phi_f=$'+f\"{phi_f:.4f})\")\n",
    "# #         label=r'Solution ($\\phi_f=-\\frac{\\pi}{2}$)')\n",
    "# #plot predictions for phi=0\n",
    "# phi=0\n",
    "# squared_ahat_values =correction_diffusion(z_values,a=a,D=a/2.,phi=phi)\n",
    "# squared_ahat_values+=correction_cross(z_values,a=a,D=a/2.,phi=phi)\n",
    "# squared_ahat_values+=a**2\n",
    "# x_values=z_values/(2.*np.pi)\n",
    "# y_values=np.sqrt(squared_ahat_values/a**2)\n",
    "# ax.plot(x_values,y_values,lw=2,alpha=0.8,color='gray',\n",
    "#         label=r'$g(\\bar\\Gamma/T,\\phi_f=0)$')\n",
    "# #         label=r'g($\\phi_f=0$)')\n",
    "# #         label=r'Solution ($\\phi_f=0$)')\n",
    "\n",
    "\n",
    "\n",
    "#DONE: copy estimates from .odg\n",
    "#DONE: add error bar estimates\n",
    "#TODO(later): consider improving x,Delta_x estimates\n",
    "#TODO: plot the diffusion correction divided by the cross correction\n",
    "# ax.plot(x_values,0.*x_values+y,'C0--',lw=2,alpha=0.9,label='Fenton-Karma Model')\n",
    "# y=ahat_lr_observed/a_lr_observed\n",
    "# ax.plot(x_values,0.*x_values+y,'C1--',lw=2,alpha=0.9,label='Luo-Rudy Model')\n",
    "fontsize=20\n",
    "\n",
    "#format_plot\n",
    "# plt.title(r' $\\phi_f=-\\frac{\\pi}{2}$',fontsize=18, x=0.8, y=0.9)\n",
    "plt.ylim([8e-1,1.3e2])\n",
    "ax.legend(loc='upper right',fontsize=fontsize-3,frameon=False)\n",
    "format_plot(ax=plt.gca(), xlabel=xlabel, ylabel=ylabel, use_loglog=use_loglog, fontsize=fontsize)#, **kwargs)\n",
    "plt.tick_params(axis='y', which='minor',left=True)\n",
    "plt.tick_params(axis='x', which='minor',bottom=True)\n",
    "# ax.set_yticks([1e-4,1e-3,1e-2,1e-1,1e0,1e1])\n",
    "ax.set_yscale('log')\n",
    "plt.tick_params(axis='y', which='minor')\n",
    "## ax.tick_params(axis='y',reset=False, left=True,right=False, which='minor',\n",
    "##               direction='out', length=6, width=2, colors='k')\n",
    "# mark_slope(ax=ax,x1=1e-2,y1=2e1,slope=(-1,1),invert=True)\n",
    "mark_slope(ax=ax,x1=.8e-2,y1=1.5e1,slope=(-1,1),invert=True)\n",
    "plt.show()"
   ]
  },
  {
   "cell_type": "code",
   "execution_count": null,
   "id": "591f879b",
   "metadata": {
    "ExecuteTime": {
     "end_time": "2022-09-26T00:24:52.261408Z",
     "start_time": "2022-09-26T00:24:52.261388Z"
    },
    "hidden": true
   },
   "outputs": [],
   "source": [
    "#reset matplotlib\n",
    "import matplotlib\n",
    "matplotlib.rcParams.update(matplotlib.rcParamsDefault)"
   ]
  },
  {
   "cell_type": "code",
   "execution_count": null,
   "id": "3af772ef",
   "metadata": {
    "ExecuteTime": {
     "end_time": "2022-09-26T00:24:52.262672Z",
     "start_time": "2022-09-26T00:24:52.262652Z"
    },
    "hidden": true
   },
   "outputs": [],
   "source": [
    "# #(DEPRECATED # comp_ahat_mslim\n",
    "# # dasum=np.exp(1j*phi)/(1-1j*z)\n",
    "# # dasum-=np.exp(-1j*phi)/(1+1j*z)\n",
    "# # dasum-=np.sin(phi)\n",
    "# # ahat=a+2*D/z*dasum.astype('float')\n",
    "# # return ahat\n",
    "# comp_alinear?"
   ]
  },
  {
   "cell_type": "code",
   "execution_count": null,
   "id": "ad372bf3",
   "metadata": {
    "ExecuteTime": {
     "end_time": "2022-09-26T00:24:52.263924Z",
     "start_time": "2022-09-26T00:24:52.263898Z"
    },
    "hidden": true
   },
   "outputs": [],
   "source": [
    "# # #heretim\n",
    "# comp_alinear\n",
    "# #TODO: modify this to give the correct universal relation\n",
    "# def comp_alinear(z,a,D,phi):\n",
    "# #     \"\"\"\n",
    "# #     correction_mslim returns the real correction value\n",
    "# #     that evaluates the expected attraction coefficient\n",
    "# #     in terms of the parameters of the oscilatory model\n",
    "# #     relative to the lifetime of the particle.\n",
    "\n",
    "# #     here, the lifetime of the particle has been taken\n",
    "# #     to be exponentially distributed\n",
    "# #     with an expected value\n",
    "# #     proportional to z.\n",
    "\n",
    "# #     Note that z is also\n",
    "# #     inversely proportional\n",
    "# #     to the dynamic period of oscillation.\n",
    "# #     \"\"\"\n",
    "# #     dasum=np.exp(1j*phi)/(1-1j*z)\n",
    "# #     dasum-=np.exp(-1j*phi)/(1+1j*z)\n",
    "# #     dasum-=np.sin(phi)\n",
    "# #     ahat=a+2*D/z*dasum.astype('float')\n",
    "# #     return ahat"
   ]
  },
  {
   "cell_type": "code",
   "execution_count": null,
   "id": "a999add4",
   "metadata": {
    "ExecuteTime": {
     "end_time": "2022-09-26T00:24:52.265346Z",
     "start_time": "2022-09-26T00:24:52.265325Z"
    },
    "hidden": true
   },
   "outputs": [],
   "source": [
    "# # TODO: visualize ahat/a by summing the three terms of the attraction coefficient estimator\n",
    "#plot solutions for the estimators\n",
    "slope=-1\n",
    "fontsize=20\n",
    "phi_f=-np.pi*0.5#-np.pi/4\n",
    "alpha=0.2\n",
    "xlabel=r'$\\bar\\Gamma / T$'#\n",
    "ylabel=r'$\\hat a ^2/a^2$'#\n",
    "use_loglog=True\n",
    "# fig,ax=plt.subplots(figsize=(5,3))\n",
    "fig,ax=plt.subplots(figsize=(6,4))\n",
    "z_values=np.logspace(-2,2,100)\n",
    "x_values=z_values/(2.*np.pi)\n",
    "\n",
    "alinear = comp_alinear(a0=dict_osc_fit_fk['a0'],\n",
    "                       a1=dict_osc_fit_fk['a1'],\n",
    "                       period=dict_osc_fit_fk['period'],\n",
    "                       Gamma=dict_osc_fit_fk['a0'],\n",
    "                       phase=dict_osc_fit_fk['a0'],)"
   ]
  },
  {
   "cell_type": "code",
   "execution_count": null,
   "id": "8937f42e",
   "metadata": {
    "ExecuteTime": {
     "end_time": "2022-09-26T00:24:52.266688Z",
     "start_time": "2022-09-26T00:24:52.266668Z"
    },
    "hidden": true
   },
   "outputs": [],
   "source": [
    "dict_osc_fit_fk['a0']"
   ]
  },
  {
   "cell_type": "code",
   "execution_count": null,
   "id": "04c9ad74",
   "metadata": {
    "ExecuteTime": {
     "end_time": "2022-09-26T00:24:52.268366Z",
     "start_time": "2022-09-26T00:24:52.268349Z"
    },
    "hidden": true,
    "scrolled": true
   },
   "outputs": [],
   "source": [
    "# # TODO: visualize ahat/a by summing the three terms of the attraction coefficient estimator\n",
    "#plot solutions for the estimators\n",
    "slope=-1\n",
    "fontsize=20\n",
    "phi_f=-np.pi*0.5#-np.pi/4\n",
    "alpha=0.2\n",
    "xlabel=r'$\\bar\\Gamma / T$'#\n",
    "ylabel=r'$\\hat a ^2/a^2$'#\n",
    "use_loglog=True\n",
    "# fig,ax=plt.subplots(figsize=(5,3))\n",
    "fig,ax=plt.subplots(figsize=(6,4))\n",
    "z_values=np.logspace(-2,2,100)\n",
    "x_values=z_values/(2.*np.pi)\n",
    "\n",
    "# #plot observed ahat values as horizontal dashed lines\n",
    "# y=ahat_fk_observed/a_fk_observed\n",
    "# ax.plot(x_values,0.*x_values+y,'C0--',lw=2,alpha=0.9,label='Fenton-Karma Model')\n",
    "# y=ahat_lr_observed/a_lr_observed\n",
    "# ax.plot(x_values,0.*x_values+y,'C1--',lw=2,alpha=0.9,label='Luo-Rudy Model')\n",
    "\n",
    "# #plot observed ahat,Gamma/T values as horizontal dashed lines\n",
    "# #Fenton-Karma\n",
    "# x=3\n",
    "# Delta_x=.5 #poorly estimated uncertainty\n",
    "# y=ahat_fk_observed/a_fk_observed\n",
    "# Delta_y=.04 #well estimated uncertainty\n",
    "#plot observed ahat,Gamma/T values as horizontal dashed lines\n",
    "#Fenton-Karma\n",
    "# GammaBar_observed: 387.0374+/-31.3052/2 milliseconds\n",
    "# T:110 +/- ?? ms\n",
    "a=197.3891#ms\n",
    "Delta_GammaBar_observed=35.600166 #ms\n",
    "# a=387.0374#ms\n",
    "# Delta_GammaBar_observed=15.6526#ms\n",
    "b=110#ms\n",
    "Delta_T_estimated=10\n",
    "Delta_a=Delta_GammaBar_observed\n",
    "Delta_b=Delta_T_estimated\n",
    "x=a/b\n",
    "Delta_x=np.sqrt(Delta_a**2/(b**2) + a**2*Delta_b**2/(b**4)) #well estimated uncertainty\n",
    "y=(ahat_fk_observed/a_fk_observed)\n",
    "Delta_y=.04 #well estimated uncertainty for ahat/a\n",
    "ax.errorbar(x, y, xerr=Delta_x, yerr=Delta_y, fmt='o',markersize=8,capsize=4,lw=3,\n",
    "            color='C0')#,label='Fenton-Karma')\n",
    "# #Luo-Rudy\n",
    "# x=0.1\n",
    "# Delta_x=.05 #poorly estimated uncertainty\n",
    "# y=ahat_lr_observed/a_lr_observed\n",
    "# Delta_y=.08 #well estimated uncertainty\n",
    "#Luo-Rudy\n",
    "# GammaBar_observed: 41.9756+/-4.4809/2 milliseconds\n",
    "# T:120 +/- ?? mc\n",
    "# a=41.9756#ms\n",
    "# Delta_GammaBar_observed=15.6526\n",
    "a=15.5618 #ms\n",
    "Delta_GammaBar_observed=1.867684\n",
    "Delta_T_estimated=20\n",
    "b=120#ms\n",
    "Delta_a=Delta_GammaBar_observed\n",
    "Delta_b=Delta_T_estimated\n",
    "x=a/b\n",
    "Delta_x=np.sqrt(Delta_a**2/(b**2) + a**2*Delta_b**2/(b**4)) #well estimated uncertainty\n",
    "y=(ahat_lr_observed/a_lr_observed)\n",
    "Delta_y=.08 #well estimated uncertainty for ahat/a\n",
    "ax.errorbar(x, y, xerr=Delta_x, yerr=Delta_y, fmt='o',markersize=8,capsize=4,lw=3,\n",
    "            color='C1')#,label='Luo-Rudy')\n",
    "\n",
    "\n",
    "#MSLIM\n",
    "#plot predictions for phi=-np.pi/2\n",
    "phi=phi_f\n",
    "a=1 #same plot for any a\n",
    "# y_values= comp_ahat_mslim(z_values,a,D=a/2.,phi=phi)/a\n",
    "# ax.plot(x_values,y_values,lw=2,alpha=0.4,color='green',\n",
    "#                 label=r'mslim')\n",
    "# #         label=r'$g(\\bar\\Gamma/T,\\phi_f=-\\frac{\\pi}{2})$')\n",
    "# squared_ahat_values =correction_diffusion(z_values,a=a,D=a/2.,phi=phi)\n",
    "# squared_ahat_values+=correction_cross(z_values,a=a,D=a/2.,phi=phi)\n",
    "# squared_ahat_values+=a**2\n",
    "# y_values=np.sqrt(squared_ahat_values/a**2)\n",
    "# ax.plot(x_values,y_values,lw=2,alpha=0.8,color='green',\n",
    "#         label=r'squared mslim')\n",
    "#         label=r'$g(\\bar\\Gamma/T,\\phi_f=-\\frac{\\pi}{2})$')\n",
    "#         label=r'g($\\phi_f=$'+f\"{phi_f:.4f})\")\n",
    "#         label=r'Solution ($\\phi_f=-\\frac{\\pi}{2}$)')\n",
    "# #plot predictions for phi=0\n",
    "# phi=0\n",
    "# squared_ahat_values =correction_diffusion(z_values,a=a,D=a/2.,phi=phi)\n",
    "# squared_ahat_values+=correction_cross(z_values,a=a,D=a/2.,phi=phi)\n",
    "# squared_ahat_values+=a**2\n",
    "# x_values=z_values/(2.*np.pi)\n",
    "# y_values=np.sqrt(squared_ahat_values/a**2)\n",
    "# ax.plot(x_values,y_values,lw=2,alpha=0.8,color='gray',\n",
    "#         label=r'$g(\\bar\\Gamma/T,\\phi_f=0)$')\n",
    "# #         label=r'g($\\phi_f=0$)')\n",
    "# #         label=r'Solution ($\\phi_f=0$)')\n",
    "\n",
    "# SMSLIM\n",
    "#plot predictions for phi=-np.pi/2\n",
    "phi=phi_f\n",
    "squared_ahat_values =correction_diffusion(z_values,a=a,D=a/2.,phi=phi)\n",
    "squared_ahat_values+=correction_cross(z_values,a=a,D=a/2.,phi=phi)\n",
    "squared_ahat_values+=a**2\n",
    "y_values=np.sqrt(squared_ahat_values/a**2)\n",
    "ax.plot(x_values,y_values,lw=2,alpha=0.8,color='green',\n",
    "        label=r'$g(\\bar\\Gamma/T,\\phi_f=-\\frac{\\pi}{2})$')\n",
    "#         label=r'g($\\phi_f=$'+f\"{phi_f:.4f})\")\n",
    "#         label=r'Solution ($\\phi_f=-\\frac{\\pi}{2}$)')\n",
    "#plot predictions for phi=0\n",
    "phi=0\n",
    "squared_ahat_values =correction_diffusion(z_values,a=a,D=a/2.,phi=phi)\n",
    "squared_ahat_values+=correction_cross(z_values,a=a,D=a/2.,phi=phi)\n",
    "squared_ahat_values+=a**2\n",
    "x_values=z_values/(2.*np.pi)\n",
    "y_values=np.sqrt(squared_ahat_values/a**2)\n",
    "ax.plot(x_values,y_values,lw=2,alpha=0.8,color='gray',\n",
    "        label=r'$g(\\bar\\Gamma/T,\\phi_f=0)$')\n",
    "#         label=r'g($\\phi_f=0$)')\n",
    "#         label=r'Solution ($\\phi_f=0$)')\n",
    "\n",
    "\n",
    "\n",
    "#DONE: copy estimates from .odg\n",
    "#DONE: add error bar estimates\n",
    "#TODO(later): consider improving x,Delta_x estimates\n",
    "#TODO: plot the diffusion correction divided by the cross correction\n",
    "# ax.plot(x_values,0.*x_values+y,'C0--',lw=2,alpha=0.9,label='Fenton-Karma Model')\n",
    "# y=ahat_lr_observed/a_lr_observed\n",
    "# ax.plot(x_values,0.*x_values+y,'C1--',lw=2,alpha=0.9,label='Luo-Rudy Model')\n",
    "\n",
    "#format_plot\n",
    "# plt.title(r' $\\phi_f=-\\frac{\\pi}{2}$',fontsize=18, x=0.8, y=0.9)\n",
    "plt.ylim([8e-1,1.3e2])\n",
    "ax.legend(loc='upper right',fontsize=fontsize-3,frameon=False)\n",
    "format_plot(ax=plt.gca(), xlabel=xlabel, ylabel=ylabel, use_loglog=use_loglog, fontsize=fontsize)#, **kwargs)\n",
    "plt.tick_params(axis='y', which='minor',left=True)\n",
    "plt.tick_params(axis='x', which='minor',bottom=True)\n",
    "# ax.set_yticks([1e-4,1e-3,1e-2,1e-1,1e0,1e1])\n",
    "ax.set_yscale('log')\n",
    "plt.tick_params(axis='y', which='minor')\n",
    "## ax.tick_params(axis='y',reset=False, left=True,right=False, which='minor',\n",
    "##               direction='out', length=6, width=2, colors='k')\n",
    "mark_slope(ax=ax,x1=1e-2,y1=2e1,slope=(-1,1),invert=True)\n",
    "# mark_slope(ax=ax,x1=.8e-2,y1=1.5e1,slope=(-1,1),invert=True)\n",
    "plt.show()"
   ]
  },
  {
   "cell_type": "code",
   "execution_count": null,
   "id": "63b9019b",
   "metadata": {
    "ExecuteTime": {
     "end_time": "2022-09-26T00:24:52.269579Z",
     "start_time": "2022-09-26T00:24:52.269559Z"
    },
    "hidden": true
   },
   "outputs": [],
   "source": [
    "#src\n",
    "# http://localhost:8888/notebooks/python/Notes%20on%20fitting%20the%20oscillatory%20particle%20model%20to%20the%20linear%20particle%20model.ipynb\n"
   ]
  },
  {
   "cell_type": "markdown",
   "id": "295cd203",
   "metadata": {
    "hidden": true
   },
   "source": [
    " # generation of lifetimes histogram\n",
    " TODO: copy src from care in \n",
    "    `http://localhost:8889/notebooks/Lifetimes%20of%20Spiral%20Tips.ipynb`"
   ]
  },
  {
   "cell_type": "code",
   "execution_count": null,
   "id": "0c022bac",
   "metadata": {
    "ExecuteTime": {
     "end_time": "2022-09-26T00:24:52.271171Z",
     "start_time": "2022-09-26T00:24:52.271144Z"
    },
    "hidden": true
   },
   "outputs": [],
   "source": [
    "#DONE: save results as pkl\n",
    "import pickle\n",
    "\n",
    "# dict_lifetimes = {'lr': {'tbins':bins, 'pdf_bar_heights':bar_heights_lr},\n",
    "#      'fk': {'tbins':bins, 'pdf_bar_heights':bar_heights_fk}\n",
    "#     }\n",
    "\n",
    "lifetime_pdf_dir=\"/home/timothytyree/Documents/GitHub/bgmc/python/data/full_results/lifetimes.pkl\"\n",
    "\n",
    "with open(lifetime_pdf_dir, 'rb') as handle:\n",
    "    dict_lifetimes = pickle.load(handle)"
   ]
  },
  {
   "cell_type": "code",
   "execution_count": null,
   "id": "a68b6ca7",
   "metadata": {
    "hidden": true
   },
   "outputs": [],
   "source": []
  },
  {
   "cell_type": "code",
   "execution_count": null,
   "id": "08d1a245",
   "metadata": {
    "ExecuteTime": {
     "end_time": "2022-09-26T00:24:52.273039Z",
     "start_time": "2022-09-26T00:24:52.273018Z"
    },
    "hidden": true
   },
   "outputs": [],
   "source": [
    "alpha=0.8\n",
    "# bins=300\n",
    "# bins='doane'\n",
    "# bins='rice'\n",
    "# bins='sqrt'\n",
    "bins=np.arange(0,4e3,60)\n",
    "# 'auto', 'fd', 'doane',\n",
    "#     'scott', 'stone', 'rice', 'sturges', or 'sqrt'.\n",
    "\n",
    "#figure panel style histogram of lifetimes\n",
    "fig,ax=plt.subplots(figsize=(6,5))\n",
    "bar_heights_fk,bins,_=plt.hist(lifetime_values_FK,bins=bins,log=True,color='C0',density=True,alpha=alpha, label='Fenton-Karma Model')\n",
    "bar_heights_lr,_,_=plt.hist(lifetime_values_LR,bins=bins,log=True,color='C1',density=True,alpha=alpha, label='Luo-Rudy Model')\n",
    "plt.legend(fontsize=16)\n",
    "format_plot(ax=plt.gca(),xlabel='Lifetime (ms)',ylabel='PDF')\n",
    "plt.show()"
   ]
  },
  {
   "cell_type": "code",
   "execution_count": null,
   "id": "234e3fee",
   "metadata": {
    "hidden": true
   },
   "outputs": [],
   "source": []
  }
 ],
 "metadata": {
  "hide_input": false,
  "kernelspec": {
   "display_name": "Python 3 (ipykernel)",
   "language": "python",
   "name": "python3"
  },
  "language_info": {
   "codemirror_mode": {
    "name": "ipython",
    "version": 3
   },
   "file_extension": ".py",
   "mimetype": "text/x-python",
   "name": "python",
   "nbconvert_exporter": "python",
   "pygments_lexer": "ipython3",
   "version": "3.9.5"
  },
  "latex_envs": {
   "LaTeX_envs_menu_present": true,
   "autoclose": true,
   "autocomplete": false,
   "bibliofile": "biblio.bib",
   "cite_by": "apalike",
   "current_citInitial": 1,
   "eqLabelWithNumbers": false,
   "eqNumInitial": 1,
   "hotkeys": {
    "equation": "Ctrl-E",
    "itemize": "Ctrl-I"
   },
   "labels_anchors": false,
   "latex_user_defs": false,
   "report_style_numbering": false,
   "user_envs_cfg": false
  },
  "nbTranslate": {
   "displayLangs": [
    "*"
   ],
   "hotkey": "alt-t",
   "langInMainMenu": true,
   "sourceLang": "en",
   "targetLang": "fr",
   "useGoogleTranslate": true
  },
  "toc": {
   "base_numbering": 1,
   "nav_menu": {},
   "number_sections": true,
   "sideBar": true,
   "skip_h1_title": false,
   "title_cell": "Table of Contents",
   "title_sidebar": "Contents",
   "toc_cell": false,
   "toc_position": {
    "height": "calc(100% - 180px)",
    "left": "10px",
    "top": "150px",
    "width": "305.455px"
   },
   "toc_section_display": true,
   "toc_window_display": false
  },
  "varInspector": {
   "cols": {
    "lenName": 16,
    "lenType": 16,
    "lenVar": 40
   },
   "kernels_config": {
    "python": {
     "delete_cmd_postfix": "",
     "delete_cmd_prefix": "del ",
     "library": "var_list.py",
     "varRefreshCmd": "print(var_dic_list())"
    },
    "r": {
     "delete_cmd_postfix": ") ",
     "delete_cmd_prefix": "rm(",
     "library": "var_list.r",
     "varRefreshCmd": "cat(var_dic_list()) "
    }
   },
   "types_to_exclude": [
    "module",
    "function",
    "builtin_function_or_method",
    "instance",
    "_Feature"
   ],
   "window_display": false
  }
 },
 "nbformat": 4,
 "nbformat_minor": 5
}
