{
 "cells": [
  {
   "cell_type": "markdown",
   "id": "4ef46ff0",
   "metadata": {},
   "source": [
    "# analyzing Annihilation Rates from the Oscillatory Model\n",
    "Tim Tyree<br>\n",
    "1.10.2022"
   ]
  },
  {
   "cell_type": "code",
   "execution_count": 2,
   "id": "35307825",
   "metadata": {
    "ExecuteTime": {
     "end_time": "2022-01-11T19:59:02.341383Z",
     "start_time": "2022-01-11T19:59:02.284039Z"
    }
   },
   "outputs": [
    {
     "name": "stdout",
     "output_type": "stream",
     "text": [
      "The autoreload extension is already loaded. To reload it, use:\n",
      "  %reload_ext autoreload\n",
      "The autoreload extension is already loaded. To reload it, use:\n",
      "  %reload_ext autoreload\n"
     ]
    }
   ],
   "source": [
    "# TODO: simplify initialization\n",
    "from scipy.optimize import minimize\n",
    "from lib.my_initialization import *\n",
    "from lib import *\n",
    "from lib.lib_care.measure.level_sets import comp_longest_level_set_and_smooth\n",
    "%load_ext autoreload\n",
    "%autoreload 2\n",
    "\n",
    "import matplotlib.pyplot as plt, numpy as np\n",
    "from mpltools import annotation\n",
    "import random,scipy\n",
    "from scipy.interpolate import LinearNDInterpolator\n",
    "from scipy.interpolate import CloughTocher2DInterpolator\n",
    "import matplotlib as mpl #for colorbar\n",
    "from scipy import stats\n",
    "\n",
    "#for particle params to MSR generating functional\n",
    "from scipy.signal import savgol_filter\n",
    "import dask.bag as db\n",
    "from lib.lib_care.measure.bootstrap import bin_and_bootstrap_xy_values_parallel\n",
    "\n",
    "darkmode=False\n",
    "if darkmode:\n",
    "    # For darkmode plots\n",
    "    from jupyterthemes import jtplot\n",
    "    jtplot.style(theme='monokai', context='notebook', ticks=True, grid=False)\n",
    "\n",
    "import warnings\n",
    "warnings.simplefilter(\"ignore\", UserWarning)\n",
    "%load_ext autoreload\n",
    "%autoreload 2\n",
    "\n",
    "#optional\n",
    "import cupy as cp\n",
    "cp.random.seed(42)\n",
    "np.random.seed(42)"
   ]
  },
  {
   "cell_type": "code",
   "execution_count": 3,
   "id": "84f2a60c",
   "metadata": {
    "ExecuteTime": {
     "end_time": "2022-01-11T19:59:02.510515Z",
     "start_time": "2022-01-11T19:59:02.483537Z"
    }
   },
   "outputs": [],
   "source": [
    "darkmode=False\n",
    "if darkmode:\n",
    "    # For darkmode plots\n",
    "    from jupyterthemes import jtplot\n",
    "    jtplot.style(theme='monokai', context='notebook', ticks=True, grid=False)"
   ]
  },
  {
   "cell_type": "markdown",
   "id": "888f1af5",
   "metadata": {},
   "source": [
    "# visualize annihilation rates when using the noninteracting model for phase evolution, to show the correct exponents were not observed"
   ]
  },
  {
   "cell_type": "code",
   "execution_count": 18,
   "id": "0019b894",
   "metadata": {
    "ExecuteTime": {
     "end_time": "2022-01-10T21:49:09.068599Z",
     "start_time": "2022-01-10T21:49:09.042381Z"
    }
   },
   "outputs": [
    {
     "name": "stdout",
     "output_type": "stream",
     "text": [
      "fk_pbc lr_pbc fk_ncbc lr_ncbc\n"
     ]
    }
   ],
   "source": [
    "wjr=recall_powerlaw_fits_to_full_models()\n",
    "print(*wjr)"
   ]
  },
  {
   "cell_type": "code",
   "execution_count": 16,
   "id": "e04d30cf",
   "metadata": {
    "ExecuteTime": {
     "end_time": "2022-01-10T21:48:51.258979Z",
     "start_time": "2022-01-10T21:48:51.208851Z"
    }
   },
   "outputs": [
    {
     "name": "stdout",
     "output_type": "stream",
     "text": [
      "['x0', 'varkappa', 'set_second', 'reflect', 'r', 'no_repulsion', 'no_attraction', 'niter', 'neighbor', 'kappa', 'force_code', 'dt', 'N', 'L', 'Dt', 'D', 'CollRate']\n"
     ]
    }
   ],
   "source": [
    "data_dir=\"/home/timothytyree/Documents/GitHub/bgmc/python/data/osg_output/run_21_all.csv\"\n",
    "df=pd.read_csv(data_dir)\n",
    "# df.head()\n",
    "\n",
    "print(list(df.columns))\n",
    "\n",
    "assert (not (df.CollRate<0).any())"
   ]
  },
  {
   "cell_type": "code",
   "execution_count": 26,
   "id": "123a4401",
   "metadata": {
    "ExecuteTime": {
     "end_time": "2022-01-10T21:52:44.442838Z",
     "start_time": "2022-01-10T21:52:44.385006Z"
    }
   },
   "outputs": [
    {
     "name": "stdout",
     "output_type": "stream",
     "text": [
      "parameters:\n",
      "r~[0.3  0.35 0.4  0.41 0.45 0.5 ]\n",
      "D~[1.76795]\n",
      "L~[10]\n",
      "kappa~[ 300  400  500  600  700  800  900 1000 1100 1200 1300 1400 1500]\n",
      "a~[3.5359]\n",
      "x0~[0.06 0.1  0.12 0.5 ]\n",
      "set_second~[0]\n",
      "reflect~[0]\n",
      "no_repulsion~[0]\n",
      "no_attraction~[0]\n",
      "neighbor~[0 1]\n",
      "force_code~[2]\n"
     ]
    }
   ],
   "source": [
    "#derived values\n",
    "# df['CollRate']=1./df['CollTime']\n",
    "df['A']=df['L']**2\n",
    "df['q']=df['N']/df['A'] #number of tips per square centimeter\n",
    "df['w']=df['CollRate']/df['A'] #[mHz?]/cm^2\n",
    "\n",
    "# df=df[df.niter==250].copy()\n",
    "#extract column values\n",
    "r_values=np.array(sorted(set(df.r.values)))#cm\n",
    "D_values=np.array(sorted(set(df.D.values)))#cm^2/s\n",
    "L_values=np.array(sorted(set(df.L.values)))#cm\n",
    "A_values=L_values**2#cm^2\n",
    "kappa_values=np.array(sorted(set(df.kappa.values)))#1/s\n",
    "varkappa_values=np.array(sorted(set(df.varkappa.values)))#1/s\n",
    "x0_values=np.array(sorted(set(df.x0.values)))#1/s\n",
    "set_second_values=np.array(sorted(set(df.set_second.values)))\n",
    "reflect_values=np.array(sorted(set(df.reflect.values)))\n",
    "no_repulsion_values=np.array(sorted(set(df.no_repulsion.values)))\n",
    "no_attraction_values=np.array(sorted(set(df.no_attraction.values)))\n",
    "neighbor_values=np.array(sorted(set(df.neighbor.values)))\n",
    "force_code_values=np.array(sorted(set(df.force_code.values)))\n",
    "\n",
    "#make test for whether there is one input parameter present in an input DataFrame\n",
    "print(f\"parameters:\")\n",
    "print(f\"r~{r_values}\")\n",
    "print(f\"D~{D_values}\")\n",
    "print(f\"L~{L_values}\")\n",
    "print(f\"kappa~{kappa_values}\")\n",
    "print(f\"a~{varkappa_values}\")\n",
    "print(f\"x0~{x0_values}\")\n",
    "print(f\"set_second~{set_second_values}\")\n",
    "print(f\"reflect~{reflect_values}\")\n",
    "print(f\"no_repulsion~{no_repulsion_values}\")\n",
    "print(f\"no_attraction~{no_attraction_values}\")\n",
    "print(f\"neighbor~{neighbor_values}\")\n",
    "print(f\"force_code~{force_code_values}\")"
   ]
  },
  {
   "cell_type": "code",
   "execution_count": 62,
   "id": "2fbd9df7",
   "metadata": {
    "ExecuteTime": {
     "end_time": "2022-01-10T22:16:41.299674Z",
     "start_time": "2022-01-10T22:16:41.268210Z"
    }
   },
   "outputs": [],
   "source": [
    "#DONE: what settings finished?\n",
    "#DONE: ask self which ~half of settings did not finish.  LR finished. FK was not attempted.  i'd bet the low kappa*r**2 trials failed to finish\n",
    "#TODO(later): add minimum r**2*kappa threshold to gen_run_22.py\n",
    "#DONE: did any powerlaw fits have a reasonably low RMSE_full? No. \n",
    "#DONE: visualize individual settings"
   ]
  },
  {
   "cell_type": "markdown",
   "id": "b55769ff",
   "metadata": {},
   "source": [
    "Note: Run 21 is missing trials from the neighbor=0 case.\n",
    "\n",
    "I should consider why the neighbor=0 trials didn't finish if I try inplementing neighbor-neighbor phase interactions."
   ]
  },
  {
   "cell_type": "code",
   "execution_count": 63,
   "id": "ed6bbbd7",
   "metadata": {
    "ExecuteTime": {
     "end_time": "2022-01-10T22:16:51.316636Z",
     "start_time": "2022-01-10T22:16:51.284317Z"
    }
   },
   "outputs": [
    {
     "name": "stdout",
     "output_type": "stream",
     "text": [
      "21060\n",
      "21060\n",
      "21060\n"
     ]
    }
   ],
   "source": [
    "#Warning: computed powerlaw fits for  >5000 trials successfully.\n",
    "#what do the annihilation rates look like?\n",
    "#for FK model\n",
    "#query the control\n",
    "varkappa=varkappa_values[0] #cm^2/s\n",
    "D=D_values[0]\n",
    "r=r_values[0]\n",
    "L=L_values[0]\n",
    "x0=x0_values[-2] #s\n",
    "\n",
    "set_second=0\n",
    "no_repulsion=0\n",
    "no_attraction=0\n",
    "reflect=0\n",
    "neighbor=0\n",
    "force_code=force_code_values[0]\n",
    "\n",
    "#query the DataFrame\n",
    "query =(df.set_second==set_second)&(df.reflect==reflect)\n",
    "query&=df.r==r\n",
    "query&=df.D==D\n",
    "query&=df.L==L\n",
    "query&=df.varkappa==varkappa\n",
    "query&=df.x0==x0\n",
    "query&=(df.no_repulsion==no_repulsion)&(df.no_attraction==no_attraction)\n",
    "print(df[query].size)\n",
    "query&=(df.neighbor==neighbor)\n",
    "print(df[query].size)\n",
    "query&=(df.force_code==force_code)\n",
    "print(df[query].size)\n",
    "dg=df[query]\n",
    "kappa_values=np.array(sorted(set(dg.kappa.values)))\n",
    "\n"
   ]
  },
  {
   "cell_type": "code",
   "execution_count": 64,
   "id": "2e18eea8",
   "metadata": {
    "ExecuteTime": {
     "end_time": "2022-01-10T22:16:52.638829Z",
     "start_time": "2022-01-10T22:16:52.612285Z"
    }
   },
   "outputs": [
    {
     "name": "stdout",
     "output_type": "stream",
     "text": [
      "(0.3, 1.76795, 10, 300, 3.5359, 0.06)\n"
     ]
    }
   ],
   "source": [
    "kappa=kappa_values[0]\n",
    "dh=dg[dg.kappa==kappa]\n",
    "x_values=dh.q.values\n",
    "y_values=dh.w.values\n",
    "x_values_control=x_values.copy()\n",
    "y_values_control=y_values.copy()\n",
    "\n",
    "x0=x0_values[0]        #cm\n",
    "#query the DataFrame\n",
    "query =(df.set_second==set_second)&(df.reflect==reflect)\n",
    "query&=df.r==r\n",
    "query&=df.D==D\n",
    "query&=df.L==L\n",
    "query&=df.varkappa==varkappa\n",
    "query&=df.x0==x0\n",
    "query&=(df.no_repulsion==no_repulsion)&(df.no_attraction==no_attraction)\n",
    "query&=(df.neighbor==neighbor)&(df.force_code==force_code)\n",
    "dg=df[query]\n",
    "\n",
    "# kappa_values=np.array(sorted(set(dg.kappa.values)))\n",
    "# kappa=kappa_values[1]\n",
    "dh=dg[dg.kappa==kappa]\n",
    "x_values=dh.q.values\n",
    "y_values=dh.w.values\n",
    "x_values_test=x_values.copy()\n",
    "y_values_test=y_values.copy()\n",
    "print((r,D,L,kappa,varkappa,x0))"
   ]
  },
  {
   "cell_type": "code",
   "execution_count": 65,
   "id": "c98b09c6",
   "metadata": {
    "ExecuteTime": {
     "end_time": "2022-01-10T22:16:57.180203Z",
     "start_time": "2022-01-10T22:16:57.137523Z"
    }
   },
   "outputs": [],
   "source": [
    "#TODO(later?): dev averaging step for computation of powerlaw fits.\n",
    "# Option 2: map run_21_all to run_21_all_merged using the averaging filter\n",
    "# Option 1: see if the run_21_all.csv already did all of the merging for me, in which case I can connect run_21_all.csv to the bootstrapping method already in use."
   ]
  },
  {
   "cell_type": "code",
   "execution_count": 66,
   "id": "3a36ec80",
   "metadata": {
    "ExecuteTime": {
     "end_time": "2022-01-10T22:16:59.079697Z",
     "start_time": "2022-01-10T22:16:58.729989Z"
    }
   },
   "outputs": [
    {
     "data": {
      "image/png": "[encoded data removed]",
      "text/plain": [
       "<Figure size 432x288 with 1 Axes>"
      ]
     },
     "metadata": {
      "needs_background": "light"
     },
     "output_type": "display_data"
    }
   ],
   "source": [
    "#plot fits for full model\n",
    "m_fk=1.945;#+-0.030; B_fk=2.441+-0.051\n",
    "m_lr=1.544;#+-0.034; B_lr=5.870+-0.137\n",
    "M_fk=5.67;#+-0.39 Hz*cm^{2(m-1)}\n",
    "M_lr=15.37;#+-1.57 Hz*cm^{2(m-1)}\n",
    "# RMSE_fk=0.1252 Hz/cm^2\n",
    "# RMSE_lr=0.0974 Hz/cm^2\n",
    "# R^2=0.997 (FK)\n",
    "# R^2=0.994 (LR)\n",
    "# yscale=10**3\n",
    "xv=np.arange(0.1,1.,.05)\n",
    "yv_fk=M_fk*(xv)**m_fk\n",
    "yv_lr=M_lr*(xv)**m_lr\n",
    "\n",
    "fontsize=16\n",
    "# plt.xlim([0.1,1])\n",
    "# plt.ylim([1e-1,15])\n",
    "plt.yscale('log')\n",
    "plt.xscale('log')\n",
    "# plt.plot(xv,yv_fk,label='FK power law fit',zorder=3,lw=4)\n",
    "plt.plot(xv,yv_lr,label='LR power law fit',zorder=3,lw=4,color='C1')\n",
    "\n",
    "fontsize=18\n",
    "# plt.plot(x_values_control,y_values_control,'-',c='k',alpha=.7,label=r'approx. infinite basin',lw=3)\n",
    "plt.plot(x_values_test,y_values_test,'-',c='k',alpha=.7,label=f'Oscillatory Model\\n(no phase interactions)',lw=3)\n",
    "\n",
    "# plt.plot(x_values,y_values,c='C2',alpha=.7,label='simulation',lw=6)\n",
    "# plt.plot(x_values_force,y_values_force,c='C3',alpha=.7,label='simulation with forces',lw=6)\n",
    "# plt.plot(x_values,y_values,c=c_values,alpha=0.4,cmap='bwr')\n",
    "# plt.title(u'comparison to simulation\\nwith two hybrid modes',fontsize=fontsize)\n",
    "plt.xlabel(r'q (cm$^{-2}$)',fontsize=fontsize)\n",
    "plt.ylabel(r'w (Hz cm$^{-2}$)', fontsize=fontsize)\n",
    "plt.tick_params(axis='both', which='major', labelsize=fontsize)\n",
    "plt.tick_params(axis='both', which='minor', labelsize=0)\n",
    "plt.legend(fontsize=fontsize-5)\n",
    "# plt.xlim([0.08,1])\n",
    "# print(f'varkappa={varkappa}  Hz');print(f'      x0={x0} cm')\n",
    "# plt.title(r'$\\varkappa=$'+f'{varkappa}  Hz, '+r'$x_0=$'+f'{x0} cm\\nforce_code={force_code}, neighbors={neighbor}\\n',fontsize=fontsize)\n",
    "plt.title(r'$T=$'+f'{x0} sec, '+r'$a=$'+f'{varkappa}, '+r'$\\kappa=$'+f'{kappa:.1f}\\nforce_code={force_code}, neighbors={neighbor}\\nr={r},D={D},L={L}\\n',fontsize=fontsize)\n",
    "plt.show()"
   ]
  },
  {
   "cell_type": "code",
   "execution_count": 45,
   "id": "ecc7b1c9",
   "metadata": {
    "ExecuteTime": {
     "end_time": "2022-01-10T22:04:20.505573Z",
     "start_time": "2022-01-10T22:04:20.465780Z"
    }
   },
   "outputs": [
    {
     "name": "stdout",
     "output_type": "stream",
     "text": [
      "powerfit_dir='/home/timothytyree/Documents/GitHub/bgmc/python/data/osg_output/run_21_all_powerlaw_fits.csv'\n"
     ]
    }
   ],
   "source": [
    "# from generation of powerfits .ipynb\n",
    "print(f\"powerfit_dir='/home/timothytyree/Documents/GitHub/bgmc/python/data/osg_output/run_21_all_powerlaw_fits.csv'\")"
   ]
  },
  {
   "cell_type": "code",
   "execution_count": 51,
   "id": "c85354f1",
   "metadata": {
    "ExecuteTime": {
     "end_time": "2022-01-10T22:05:54.011157Z",
     "start_time": "2022-01-10T22:05:53.991865Z"
    }
   },
   "outputs": [],
   "source": [
    "powerfit_dir='/home/timothytyree/Documents/GitHub/bgmc/python/data/osg_output/run_21_all_powerlaw_fits.csv'"
   ]
  },
  {
   "cell_type": "code",
   "execution_count": 52,
   "id": "03230383",
   "metadata": {
    "ExecuteTime": {
     "end_time": "2022-01-10T22:05:54.382797Z",
     "start_time": "2022-01-10T22:05:54.339954Z"
    }
   },
   "outputs": [
    {
     "data": {
      "text/html": [
       "<div>\n",
       "<style scoped>\n",
       "    .dataframe tbody tr th:only-of-type {\n",
       "        vertical-align: middle;\n",
       "    }\n",
       "\n",
       "    .dataframe tbody tr th {\n",
       "        vertical-align: top;\n",
       "    }\n",
       "\n",
       "    .dataframe thead th {\n",
       "        text-align: right;\n",
       "    }\n",
       "</style>\n",
       "<table border=\"1\" class=\"dataframe\">\n",
       "  <thead>\n",
       "    <tr style=\"text-align: right;\">\n",
       "      <th></th>\n",
       "      <th>m</th>\n",
       "      <th>Delta_m</th>\n",
       "      <th>M</th>\n",
       "      <th>Delta_M</th>\n",
       "      <th>Rsq</th>\n",
       "      <th>rmse</th>\n",
       "      <th>rmse_full</th>\n",
       "      <th>model_name_full</th>\n",
       "      <th>q_min</th>\n",
       "      <th>q_max</th>\n",
       "      <th>...</th>\n",
       "      <th>D</th>\n",
       "      <th>varkappa</th>\n",
       "      <th>x0</th>\n",
       "      <th>L</th>\n",
       "      <th>force_code</th>\n",
       "      <th>neighbor</th>\n",
       "      <th>reflect</th>\n",
       "      <th>set_second</th>\n",
       "      <th>no_repulsion</th>\n",
       "      <th>no_attraction</th>\n",
       "    </tr>\n",
       "  </thead>\n",
       "  <tbody>\n",
       "    <tr>\n",
       "      <th>0</th>\n",
       "      <td>2.291291</td>\n",
       "      <td>0.016655</td>\n",
       "      <td>7.552978</td>\n",
       "      <td>0.249887</td>\n",
       "      <td>0.998805</td>\n",
       "      <td>0.136700</td>\n",
       "      <td>0.238218</td>\n",
       "      <td>fk_ncbc</td>\n",
       "      <td>0.1</td>\n",
       "      <td>1.0</td>\n",
       "      <td>...</td>\n",
       "      <td>8.0</td>\n",
       "      <td>0</td>\n",
       "      <td>0</td>\n",
       "      <td>10</td>\n",
       "      <td>2</td>\n",
       "      <td>1</td>\n",
       "      <td>0</td>\n",
       "      <td>0</td>\n",
       "      <td>0</td>\n",
       "      <td>0</td>\n",
       "    </tr>\n",
       "    <tr>\n",
       "      <th>1</th>\n",
       "      <td>2.934069</td>\n",
       "      <td>0.015383</td>\n",
       "      <td>11.698215</td>\n",
       "      <td>0.399886</td>\n",
       "      <td>0.999378</td>\n",
       "      <td>0.189228</td>\n",
       "      <td>1.413366</td>\n",
       "      <td>fk_ncbc</td>\n",
       "      <td>0.1</td>\n",
       "      <td>1.0</td>\n",
       "      <td>...</td>\n",
       "      <td>1.2</td>\n",
       "      <td>0</td>\n",
       "      <td>0</td>\n",
       "      <td>10</td>\n",
       "      <td>2</td>\n",
       "      <td>1</td>\n",
       "      <td>0</td>\n",
       "      <td>0</td>\n",
       "      <td>0</td>\n",
       "      <td>0</td>\n",
       "    </tr>\n",
       "    <tr>\n",
       "      <th>2</th>\n",
       "      <td>4.012966</td>\n",
       "      <td>0.096686</td>\n",
       "      <td>202.742830</td>\n",
       "      <td>62.351307</td>\n",
       "      <td>0.987024</td>\n",
       "      <td>15.960365</td>\n",
       "      <td>66.043911</td>\n",
       "      <td>lr_pbc</td>\n",
       "      <td>0.1</td>\n",
       "      <td>1.0</td>\n",
       "      <td>...</td>\n",
       "      <td>1.0</td>\n",
       "      <td>0</td>\n",
       "      <td>0</td>\n",
       "      <td>10</td>\n",
       "      <td>2</td>\n",
       "      <td>1</td>\n",
       "      <td>0</td>\n",
       "      <td>0</td>\n",
       "      <td>0</td>\n",
       "      <td>0</td>\n",
       "    </tr>\n",
       "    <tr>\n",
       "      <th>3</th>\n",
       "      <td>2.468579</td>\n",
       "      <td>0.014483</td>\n",
       "      <td>16.995470</td>\n",
       "      <td>0.572593</td>\n",
       "      <td>0.999221</td>\n",
       "      <td>0.252235</td>\n",
       "      <td>1.572707</td>\n",
       "      <td>lr_ncbc</td>\n",
       "      <td>0.1</td>\n",
       "      <td>1.0</td>\n",
       "      <td>...</td>\n",
       "      <td>7.0</td>\n",
       "      <td>0</td>\n",
       "      <td>0</td>\n",
       "      <td>10</td>\n",
       "      <td>2</td>\n",
       "      <td>1</td>\n",
       "      <td>0</td>\n",
       "      <td>0</td>\n",
       "      <td>0</td>\n",
       "      <td>0</td>\n",
       "    </tr>\n",
       "    <tr>\n",
       "      <th>4</th>\n",
       "      <td>2.970070</td>\n",
       "      <td>0.069606</td>\n",
       "      <td>58.265121</td>\n",
       "      <td>10.816896</td>\n",
       "      <td>0.987714</td>\n",
       "      <td>3.817932</td>\n",
       "      <td>17.134203</td>\n",
       "      <td>lr_pbc</td>\n",
       "      <td>0.1</td>\n",
       "      <td>1.0</td>\n",
       "      <td>...</td>\n",
       "      <td>1.7</td>\n",
       "      <td>0</td>\n",
       "      <td>0</td>\n",
       "      <td>10</td>\n",
       "      <td>2</td>\n",
       "      <td>1</td>\n",
       "      <td>0</td>\n",
       "      <td>0</td>\n",
       "      <td>0</td>\n",
       "      <td>0</td>\n",
       "    </tr>\n",
       "  </tbody>\n",
       "</table>\n",
       "<p>5 rows × 22 columns</p>\n",
       "</div>"
      ],
      "text/plain": [
       "          m   Delta_m           M    Delta_M       Rsq       rmse  rmse_full  \\\n",
       "0  2.291291  0.016655    7.552978   0.249887  0.998805   0.136700   0.238218   \n",
       "1  2.934069  0.015383   11.698215   0.399886  0.999378   0.189228   1.413366   \n",
       "2  4.012966  0.096686  202.742830  62.351307  0.987024  15.960365  66.043911   \n",
       "3  2.468579  0.014483   16.995470   0.572593  0.999221   0.252235   1.572707   \n",
       "4  2.970070  0.069606   58.265121  10.816896  0.987714   3.817932  17.134203   \n",
       "\n",
       "  model_name_full  q_min  q_max  ...    D  varkappa  x0   L  force_code  \\\n",
       "0         fk_ncbc    0.1    1.0  ...  8.0         0   0  10           2   \n",
       "1         fk_ncbc    0.1    1.0  ...  1.2         0   0  10           2   \n",
       "2          lr_pbc    0.1    1.0  ...  1.0         0   0  10           2   \n",
       "3         lr_ncbc    0.1    1.0  ...  7.0         0   0  10           2   \n",
       "4          lr_pbc    0.1    1.0  ...  1.7         0   0  10           2   \n",
       "\n",
       "   neighbor  reflect  set_second  no_repulsion  no_attraction  \n",
       "0         1        0           0             0              0  \n",
       "1         1        0           0             0              0  \n",
       "2         1        0           0             0              0  \n",
       "3         1        0           0             0              0  \n",
       "4         1        0           0             0              0  \n",
       "\n",
       "[5 rows x 22 columns]"
      ]
     },
     "execution_count": 52,
     "metadata": {},
     "output_type": "execute_result"
    }
   ],
   "source": [
    "df_powerfits=pd.read_csv(powerfit_dir)\n",
    "df_powerfits.head()"
   ]
  },
  {
   "cell_type": "code",
   "execution_count": 61,
   "id": "cefef1a1",
   "metadata": {
    "ExecuteTime": {
     "end_time": "2022-01-10T22:13:17.099748Z",
     "start_time": "2022-01-10T22:13:16.966451Z"
    }
   },
   "outputs": [
    {
     "data": {
      "image/png": "[encoded data removed]",
      "text/plain": [
       "<Figure size 432x288 with 1 Axes>"
      ]
     },
     "metadata": {
      "needs_background": "light"
     },
     "output_type": "display_data"
    }
   ],
   "source": [
    "nu_values=df_powerfits['m'].values\n",
    "yv=np.linspace(0,1,10)\n",
    "plt.plot(0.*yv+m_lr,yv,'C1--',label='Luo-Rudy Model')\n",
    "plt.plot(0.*yv+m_fk,yv,'C0--',label='Fenton-Karma Model')\n",
    "plt.hist(nu_values,color='k',alpha=0.8,label=f'Oscillatory Model\\n(3126 settings)\\n(no phase interactions)',density=True)\n",
    "format_plot(ax=plt.gca(),xlabel='Exponent Value',ylabel='PDF')\n",
    "plt.legend(fontsize=12)\n",
    "plt.show()"
   ]
  },
  {
   "cell_type": "code",
   "execution_count": 67,
   "id": "0f426014",
   "metadata": {
    "ExecuteTime": {
     "end_time": "2022-01-10T22:19:41.824582Z",
     "start_time": "2022-01-10T22:19:41.787960Z"
    }
   },
   "outputs": [],
   "source": [
    "#TODO: how many neighbor=0 trials finished? how many neighbor=1 trials finished\n",
    "#TODO: make ^this into a pie chart, because the same number of settings were attempted for neighbor=0 versus 1"
   ]
  },
  {
   "cell_type": "code",
   "execution_count": 76,
   "id": "f92a2da7",
   "metadata": {
    "ExecuteTime": {
     "end_time": "2022-01-10T22:24:39.946277Z",
     "start_time": "2022-01-10T22:24:39.904134Z"
    }
   },
   "outputs": [
    {
     "name": "stdout",
     "output_type": "stream",
     "text": [
      "1.89% percent of settings that terminated used neighbor-only forces.\n"
     ]
    }
   ],
   "source": [
    "num_neighor_settings=df[df.neighbor==1].w.values.shape[0]\n",
    "num_non_neighor_settings=df[df.neighbor==0].w.values.shape[0]\n",
    "print(f\"{100*num_neighor_settings/(num_neighor_settings+num_non_neighor_settings):.2f}% percent of settings that terminated used neighbor-only forces.\")"
   ]
  },
  {
   "cell_type": "code",
   "execution_count": 72,
   "id": "94623b3f",
   "metadata": {
    "ExecuteTime": {
     "end_time": "2022-01-10T22:23:01.592872Z",
     "start_time": "2022-01-10T22:23:01.418066Z"
    }
   },
   "outputs": [
    {
     "data": {
      "image/png": "[encoded data removed]",
      "text/plain": [
       "<Figure size 432x288 with 1 Axes>"
      ]
     },
     "metadata": {
      "needs_background": "light"
     },
     "output_type": "display_data"
    }
   ],
   "source": [
    "yv=np.linspace(0,1,10)\n",
    "plt.plot(0.*yv+m_lr,yv,'C1--',label='Luo-Rudy Model')\n",
    "plt.plot(0.*yv+m_fk,yv,'C0--',label='Fenton-Karma Model')\n",
    "nu_values=df_powerfits[df.neighbor==1]['m'].values\n",
    "plt.hist(nu_values,color='k',alpha=0.8,label=f'Neighbor-Forces',density=True)\n",
    "nu_values=df_powerfits[df.neighbor==0]['m'].values\n",
    "plt.hist(nu_values,color='g',alpha=0.8,label=f'Vector-Summed-Forces',density=True)\n",
    "format_plot(ax=plt.gca(),xlabel='Exponent Value',ylabel='PDF')\n",
    "plt.legend(fontsize=12)\n",
    "plt.show()"
   ]
  },
  {
   "cell_type": "code",
   "execution_count": 7,
   "id": "a637b14d",
   "metadata": {
    "ExecuteTime": {
     "end_time": "2022-01-11T20:05:53.612548Z",
     "start_time": "2022-01-11T20:05:53.578624Z"
    }
   },
   "outputs": [
    {
     "data": {
      "text/plain": [
       "0.007957747154594767"
      ]
     },
     "execution_count": 7,
     "metadata": {},
     "output_type": "execute_result"
    }
   ],
   "source": [
    "0.1/(2*np.pi)/2"
   ]
  },
  {
   "cell_type": "code",
   "execution_count": null,
   "id": "bd21a899",
   "metadata": {},
   "outputs": [],
   "source": []
  }
 ],
 "metadata": {
  "kernelspec": {
   "display_name": "Python 3 (ipykernel)",
   "language": "python",
   "name": "python3"
  },
  "language_info": {
   "codemirror_mode": {
    "name": "ipython",
    "version": 3
   },
   "file_extension": ".py",
   "mimetype": "text/x-python",
   "name": "python",
   "nbconvert_exporter": "python",
   "pygments_lexer": "ipython3",
   "version": "3.7.10"
  },
  "toc": {
   "base_numbering": 1,
   "nav_menu": {},
   "number_sections": true,
   "sideBar": true,
   "skip_h1_title": false,
   "title_cell": "Table of Contents",
   "title_sidebar": "Contents",
   "toc_cell": false,
   "toc_position": {},
   "toc_section_display": true,
   "toc_window_display": false
  },
  "varInspector": {
   "cols": {
    "lenName": 16,
    "lenType": 16,
    "lenVar": 40
   },
   "kernels_config": {
    "python": {
     "delete_cmd_postfix": "",
     "delete_cmd_prefix": "del ",
     "library": "var_list.py",
     "varRefreshCmd": "print(var_dic_list())"
    },
    "r": {
     "delete_cmd_postfix": ") ",
     "delete_cmd_prefix": "rm(",
     "library": "var_list.r",
     "varRefreshCmd": "cat(var_dic_list()) "
    }
   },
   "types_to_exclude": [
    "module",
    "function",
    "builtin_function_or_method",
    "instance",
    "_Feature"
   ],
   "window_display": false
  }
 },
 "nbformat": 4,
 "nbformat_minor": 5
}
