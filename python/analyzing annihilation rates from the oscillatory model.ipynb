{
 "cells": [
  {
   "cell_type": "markdown",
   "id": "4ef46ff0",
   "metadata": {},
   "source": [
    "# analyzing Annihilation Rates from the Oscillatory Model\n",
    "Tim Tyree<br>\n",
    "1.10.2022"
   ]
  },
  {
   "cell_type": "code",
   "execution_count": 8,
   "id": "35307825",
   "metadata": {
    "ExecuteTime": {
     "end_time": "2022-01-13T19:59:54.918498Z",
     "start_time": "2022-01-13T19:59:54.813512Z"
    }
   },
   "outputs": [
    {
     "name": "stdout",
     "output_type": "stream",
     "text": [
      "The autoreload extension is already loaded. To reload it, use:\n",
      "  %reload_ext autoreload\n",
      "The autoreload extension is already loaded. To reload it, use:\n",
      "  %reload_ext autoreload\n"
     ]
    }
   ],
   "source": [
    "# TODO: simplify initialization\n",
    "from scipy.optimize import minimize\n",
    "from lib.my_initialization import *\n",
    "from lib import *\n",
    "from lib.lib_care.measure.level_sets import comp_longest_level_set_and_smooth\n",
    "%load_ext autoreload\n",
    "%autoreload 2\n",
    "\n",
    "import matplotlib.pyplot as plt, numpy as np\n",
    "from mpltools import annotation\n",
    "import random,scipy\n",
    "from scipy.interpolate import LinearNDInterpolator\n",
    "from scipy.interpolate import CloughTocher2DInterpolator\n",
    "import matplotlib as mpl #for colorbar\n",
    "from scipy import stats\n",
    "\n",
    "#for particle params to MSR generating functional\n",
    "from scipy.signal import savgol_filter\n",
    "import dask.bag as db\n",
    "from lib.lib_care.measure.bootstrap import bin_and_bootstrap_xy_values_parallel\n",
    "\n",
    "darkmode=False\n",
    "if darkmode:\n",
    "    # For darkmode plots\n",
    "    from jupyterthemes import jtplot\n",
    "    jtplot.style(theme='monokai', context='notebook', ticks=True, grid=False)\n",
    "\n",
    "import warnings\n",
    "warnings.simplefilter(\"ignore\", UserWarning)\n",
    "%load_ext autoreload\n",
    "%autoreload 2\n",
    "\n",
    "#optional\n",
    "# import cupy as cp\n",
    "# cp.random.seed(42)\n",
    "np.random.seed(42)"
   ]
  },
  {
   "cell_type": "code",
   "execution_count": 9,
   "id": "d2ba4346",
   "metadata": {
    "ExecuteTime": {
     "end_time": "2022-01-13T19:59:56.425659Z",
     "start_time": "2022-01-13T19:59:56.363231Z"
    }
   },
   "outputs": [],
   "source": [
    "# !pip install mpltools"
   ]
  },
  {
   "cell_type": "code",
   "execution_count": 10,
   "id": "84f2a60c",
   "metadata": {
    "ExecuteTime": {
     "end_time": "2022-01-13T19:59:56.928649Z",
     "start_time": "2022-01-13T19:59:56.817781Z"
    }
   },
   "outputs": [],
   "source": [
    "darkmode=False\n",
    "if darkmode:\n",
    "    # For darkmode plots\n",
    "    from jupyterthemes import jtplot\n",
    "    jtplot.style(theme='monokai', context='notebook', ticks=True, grid=False)"
   ]
  },
  {
   "cell_type": "code",
   "execution_count": null,
   "id": "c98b09c6",
   "metadata": {
    "ExecuteTime": {
     "end_time": "2022-01-13T19:56:22.578622Z",
     "start_time": "2022-01-13T19:56:22.578574Z"
    }
   },
   "outputs": [],
   "source": [
    "#TODO(later?): dev averaging step for computation of powerlaw fits.\n",
    "# Option 2: map run_21_all to run_21_all_merged using the averaging filter\n",
    "# Option 1: see if the run_21_all.csv already did all of the merging for me, in which case I can connect run_21_all.csv to the bootstrapping method already in use."
   ]
  },
  {
   "cell_type": "markdown",
   "id": "888f1af5",
   "metadata": {},
   "source": [
    "# visualize annihilation rates when using the noninteracting model for phase evolution, to show the correct exponents were not observed"
   ]
  },
  {
   "cell_type": "code",
   "execution_count": 149,
   "id": "0019b894",
   "metadata": {
    "ExecuteTime": {
     "end_time": "2022-01-15T21:26:49.869598Z",
     "start_time": "2022-01-15T21:26:49.849603Z"
    }
   },
   "outputs": [
    {
     "name": "stdout",
     "output_type": "stream",
     "text": [
      "fk_pbc lr_pbc fk_ncbc lr_ncbc\n"
     ]
    }
   ],
   "source": [
    "wjr=recall_powerlaw_fits_to_full_models()\n",
    "print(*wjr)"
   ]
  },
  {
   "cell_type": "code",
   "execution_count": 158,
   "id": "e04d30cf",
   "metadata": {
    "ExecuteTime": {
     "end_time": "2022-01-15T21:29:05.841592Z",
     "start_time": "2022-01-15T21:29:05.035073Z"
    }
   },
   "outputs": [
    {
     "name": "stdout",
     "output_type": "stream",
     "text": [
      "['x0', 'varkappa', 'set_second', 'reflect', 'r', 'no_repulsion', 'no_attraction', 'niter', 'neighbor', 'kappa', 'force_code', 'dt', 'N', 'L', 'Dt', 'D', 'CollRate']\n"
     ]
    }
   ],
   "source": [
    "#interactionlesss processing phases with vector summed forces\n",
    "# data_dir=\"/home/timothytyree/Documents/GitHub/bgmc/python/data/osg_output/run_21_all.csv\"\n",
    "#exponential concurrency between neighbors\n",
    "# data_dir=\"/home/timothytyree/Documents/GitHub/bgmc/python/data/osg_output/run_22_all.csv\"\n",
    "data_dir=\"/home/timothytyree/Documents/GitHub/bgmc/python/data/osg_output/run_23_all.csv\"\n",
    "df=pd.read_csv(data_dir)\n",
    "# df.head()\n",
    "\n",
    "print(list(df.columns))\n",
    "\n",
    "assert (not (df.CollRate<0).any())"
   ]
  },
  {
   "cell_type": "code",
   "execution_count": 159,
   "id": "123a4401",
   "metadata": {
    "ExecuteTime": {
     "end_time": "2022-01-15T21:29:07.669093Z",
     "start_time": "2022-01-15T21:29:06.324419Z"
    }
   },
   "outputs": [
    {
     "name": "stdout",
     "output_type": "stream",
     "text": [
      "parameters:\n",
      "r~[0.15 0.2  0.25 0.3  0.35 0.4  0.45 0.5  0.55 0.6  0.65 0.7  0.75 0.8\n",
      " 0.85 0.9  0.95 1.  ]\n",
      "D~[0.20052 0.44199 0.80208 1.76795]\n",
      "L~[10]\n",
      "kappa~[ 100  200  300  400  500  600  700  800  900 1000 1100 1200 1300 1400\n",
      " 1500]\n",
      "a~[0.40104 0.88398 1.60415 3.5359 ]\n",
      "x0~[0.05 0.06 0.1  0.12]\n",
      "set_second~[0]\n",
      "reflect~[0]\n",
      "no_repulsion~[0]\n",
      "no_attraction~[0]\n",
      "neighbor~[1]\n",
      "force_code~[2]\n"
     ]
    }
   ],
   "source": [
    "#derived values\n",
    "# df['CollRate']=1./df['CollTime']\n",
    "df['A']=df['L']**2\n",
    "df['q']=df['N']/df['A'] #number of tips per square centimeter\n",
    "df['w']=df['CollRate']/df['A'] #[mHz?]/cm^2\n",
    "\n",
    "# df=df[df.niter==250].copy()\n",
    "#extract column values\n",
    "r_values=np.array(sorted(set(df.r.values)))#cm\n",
    "D_values=np.array(sorted(set(df.D.values)))#cm^2/s\n",
    "L_values=np.array(sorted(set(df.L.values)))#cm\n",
    "A_values=L_values**2#cm^2\n",
    "kappa_values=np.array(sorted(set(df.kappa.values)))#1/s\n",
    "varkappa_values=np.array(sorted(set(df.varkappa.values)))#1/s\n",
    "x0_values=np.array(sorted(set(df.x0.values)))#1/s\n",
    "set_second_values=np.array(sorted(set(df.set_second.values)))\n",
    "reflect_values=np.array(sorted(set(df.reflect.values)))\n",
    "no_repulsion_values=np.array(sorted(set(df.no_repulsion.values)))\n",
    "no_attraction_values=np.array(sorted(set(df.no_attraction.values)))\n",
    "neighbor_values=np.array(sorted(set(df.neighbor.values)))\n",
    "force_code_values=np.array(sorted(set(df.force_code.values)))\n",
    "\n",
    "#make test for whether there is one input parameter present in an input DataFrame\n",
    "print(f\"parameters:\")\n",
    "print(f\"r~{r_values}\")\n",
    "print(f\"D~{D_values}\")\n",
    "print(f\"L~{L_values}\")\n",
    "print(f\"kappa~{kappa_values}\")\n",
    "print(f\"a~{varkappa_values}\")\n",
    "print(f\"x0~{x0_values}\")\n",
    "print(f\"set_second~{set_second_values}\")\n",
    "print(f\"reflect~{reflect_values}\")\n",
    "print(f\"no_repulsion~{no_repulsion_values}\")\n",
    "print(f\"no_attraction~{no_attraction_values}\")\n",
    "print(f\"neighbor~{neighbor_values}\")\n",
    "print(f\"force_code~{force_code_values}\")"
   ]
  },
  {
   "cell_type": "code",
   "execution_count": 160,
   "id": "2fbd9df7",
   "metadata": {
    "ExecuteTime": {
     "end_time": "2022-01-15T21:29:07.826280Z",
     "start_time": "2022-01-15T21:29:07.806502Z"
    }
   },
   "outputs": [],
   "source": [
    "#DONE: what settings finished?\n",
    "#DONE: ask self which ~half of settings did not finish.  LR finished. FK was not attempted.  i'd bet the low kappa*r**2 trials failed to finish\n",
    "#TODO(later): add minimum r**2*kappa threshold to gen_run_22.py\n",
    "#DONE: did any powerlaw fits have a reasonably low RMSE_full? No. \n",
    "#DONE: visualize individual settings"
   ]
  },
  {
   "cell_type": "markdown",
   "id": "b55769ff",
   "metadata": {},
   "source": [
    "Note: Run 21 is missing trials from the neighbor=0 case.\n",
    "\n",
    "I should consider why the neighbor=0 trials didn't finish if I try inplementing neighbor-neighbor phase interactions."
   ]
  },
  {
   "cell_type": "code",
   "execution_count": 161,
   "id": "f05bb7a0",
   "metadata": {
    "ExecuteTime": {
     "end_time": "2022-01-15T21:29:08.712999Z",
     "start_time": "2022-01-15T21:29:08.588178Z"
    }
   },
   "outputs": [
    {
     "data": {
      "image/png": "[encoded data removed]",
      "text/plain": [
       "<Figure size 144x144 with 1 Axes>"
      ]
     },
     "metadata": {
      "needs_background": "light"
     },
     "output_type": "display_data"
    }
   ],
   "source": [
    "#plot the histogram of parameter values for settings that finished\n",
    "x_col='kappa'\n",
    "fig,ax=plt.subplots(figsize=(2,2))\n",
    "df[x_col].hist(ax=ax)\n",
    "format_plot(ax=ax,xlabel=x_col,ylabel='Num. Settings Finished',fontsize=10)\n",
    "plt.show()"
   ]
  },
  {
   "cell_type": "code",
   "execution_count": null,
   "id": "3890c4bc",
   "metadata": {},
   "outputs": [],
   "source": []
  },
  {
   "cell_type": "code",
   "execution_count": 182,
   "id": "ed6bbbd7",
   "metadata": {
    "ExecuteTime": {
     "end_time": "2022-01-15T21:40:49.283138Z",
     "start_time": "2022-01-15T21:40:49.230942Z"
    }
   },
   "outputs": [
    {
     "name": "stdout",
     "output_type": "stream",
     "text": [
      "24300\n",
      "24300\n",
      "24300\n",
      "24300\n"
     ]
    }
   ],
   "source": [
    "#Warning: computed powerlaw fits for  >5000 trials successfully.\n",
    "#what do the annihilation rates look like?\n",
    "#for FK model\n",
    "#query the control\n",
    "varkappa=varkappa_values[-1] #cm^2/s\n",
    "D=D_values[-1]\n",
    "r=r_values[0]\n",
    "L=L_values[0]\n",
    "x0=x0_values[-2] #s\n",
    "\n",
    "# kappa=kappa_values[4]\n",
    "kappa=100\n",
    "x0=0.1\n",
    "r=0.3\n",
    "\n",
    "#token setting from run 23\n",
    "r=0.5\n",
    "D=1.76795\n",
    "L=10\n",
    "varkappa=3.5359\n",
    "x0=0.10\n",
    "kappa=100\n",
    "\n",
    "set_second=0\n",
    "no_repulsion=0\n",
    "no_attraction=0\n",
    "reflect=0\n",
    "neighbor=1\n",
    "force_code=force_code_values[0]\n",
    "\n",
    "#query the DataFrame\n",
    "query =(df.set_second==set_second)&(df.reflect==reflect)\n",
    "query&=df.r==r\n",
    "# print(df[query].size)\n",
    "query&=df.D==D\n",
    "# print(df[query].size)\n",
    "query&=df.L==L\n",
    "# print(df[query].size)\n",
    "query&=df.varkappa==varkappa\n",
    "# print(df[query].size)\n",
    "query&=df.x0==x0\n",
    "# print(df[query].size)\n",
    "query&=(df.no_repulsion==no_repulsion)&(df.no_attraction==no_attraction)\n",
    "print(df[query].size)\n",
    "query&=(df.neighbor==neighbor)\n",
    "print(df[query].size)\n",
    "query&=(df.force_code==force_code)\n",
    "print(df[query].size)\n",
    "dg=df[query]\n",
    "kappa_values=np.array(sorted(set(dg.kappa.values)))\n",
    "print(df[query].size)"
   ]
  },
  {
   "cell_type": "code",
   "execution_count": 183,
   "id": "2e18eea8",
   "metadata": {
    "ExecuteTime": {
     "end_time": "2022-01-15T21:40:56.888989Z",
     "start_time": "2022-01-15T21:40:56.275201Z"
    }
   },
   "outputs": [
    {
     "name": "stdout",
     "output_type": "stream",
     "text": [
      "(0.5, 1.76795, 10, 100, 3.5359, 0.1)\n"
     ]
    },
    {
     "data": {
      "image/png": "[encoded data removed]",
      "text/plain": [
       "<Figure size 432x288 with 1 Axes>"
      ]
     },
     "metadata": {
      "needs_background": "light"
     },
     "output_type": "display_data"
    }
   ],
   "source": [
    "#select which parameter settings to use\n",
    "# # kappa=kappa_values[4]\n",
    "# kappa=1500\n",
    "# # x0=x0_values[0]        #cm\n",
    "# x0=0.1\n",
    "dh=dg[dg.kappa==kappa]\n",
    "x_values=dh.q.values\n",
    "y_values=dh.w.values\n",
    "x_values_control=x_values.copy()\n",
    "y_values_control=y_values.copy()\n",
    "\n",
    "#query the DataFrame\n",
    "query =(df.set_second==set_second)&(df.reflect==reflect)\n",
    "query&=df.r==r\n",
    "query&=df.D==D\n",
    "query&=df.L==L\n",
    "query&=df.varkappa==varkappa\n",
    "query&=df.x0==x0\n",
    "query&=(df.no_repulsion==no_repulsion)&(df.no_attraction==no_attraction)\n",
    "query&=(df.neighbor==neighbor)&(df.force_code==force_code)\n",
    "dg=df[query]\n",
    "\n",
    "# kappa_values=np.array(sorted(set(dg.kappa.values)))\n",
    "# kappa=kappa_values[1]\n",
    "dh=dg[dg.kappa==kappa]\n",
    "x_values=dh.q.values\n",
    "y_values=dh.w.values\n",
    "x_values_test=x_values.copy()\n",
    "y_values_test=y_values.copy()\n",
    "print((r,D,L,kappa,varkappa,x0))\n",
    "\n",
    "#plot fits for full model\n",
    "m_fk=1.945;#+-0.030; B_fk=2.441+-0.051\n",
    "m_lr=1.544;#+-0.034; B_lr=5.870+-0.137\n",
    "M_fk=5.67;#+-0.39 Hz*cm^{2(m-1)}\n",
    "M_lr=15.37;#+-1.57 Hz*cm^{2(m-1)}\n",
    "# RMSE_fk=0.1252 Hz/cm^2\n",
    "# RMSE_lr=0.0974 Hz/cm^2\n",
    "# R^2=0.997 (FK)\n",
    "# R^2=0.994 (LR)\n",
    "# yscale=10**3\n",
    "xv=np.arange(0.1,1.,.05)\n",
    "yv_fk=M_fk*(xv)**m_fk\n",
    "yv_lr=M_lr*(xv)**m_lr\n",
    "\n",
    "fontsize=16\n",
    "# plt.xlim([0.1,1])\n",
    "# plt.ylim([1e-1,15])\n",
    "plt.yscale('log')\n",
    "plt.xscale('log')\n",
    "# plt.plot(xv,yv_fk,label='FK power law fit',zorder=3,lw=4)\n",
    "plt.plot(xv,yv_lr,label='LR power law fit',zorder=3,lw=4,color='C1')\n",
    "\n",
    "fontsize=18\n",
    "# plt.plot(x_values_control,y_values_control,'-',c='k',alpha=.7,label=r'approx. infinite basin',lw=3)\n",
    "plt.plot(x_values_test,y_values_test,'-',c='k',alpha=.7,label=f'Oscillatory Model\\n(exponential\\nphase interactions,\\nneighbors only)',lw=3)\n",
    "\n",
    "# plt.plot(x_values,y_values,c='C2',alpha=.7,label='simulation',lw=6)\n",
    "# plt.plot(x_values_force,y_values_force,c='C3',alpha=.7,label='simulation with forces',lw=6)\n",
    "# plt.plot(x_values,y_values,c=c_values,alpha=0.4,cmap='bwr')\n",
    "# plt.title(u'comparison to simulation\\nwith two hybrid modes',fontsize=fontsize)\n",
    "plt.xlabel(r'q (cm$^{-2}$)',fontsize=fontsize)\n",
    "plt.ylabel(r'w (Hz cm$^{-2}$)', fontsize=fontsize)\n",
    "plt.tick_params(axis='both', which='major', labelsize=fontsize)\n",
    "plt.tick_params(axis='both', which='minor', labelsize=0)\n",
    "plt.legend(fontsize=fontsize-5)\n",
    "# plt.xlim([0.08,1])\n",
    "\n",
    "# print(f'varkappa={varkappa}  Hz');print(f'      x0={x0} cm')\n",
    "# plt.title(r'$\\varkappa=$'+f'{varkappa}  Hz, '+r'$x_0=$'+f'{x0} cm\\nforce_code={force_code}, neighbors={neighbor}\\n',fontsize=fontsize)\n",
    "plt.title(r'$T=$'+f'{x0} sec, '+r'$a=$'+f'{varkappa}, '+r'$\\kappa=$'+f'{kappa:.1f}\\nforce_code={force_code}, neighbors={neighbor}\\nr={r},D={D},L={L}\\n',fontsize=fontsize)\n",
    "plt.show()"
   ]
  },
  {
   "cell_type": "code",
   "execution_count": 55,
   "id": "ecc7b1c9",
   "metadata": {
    "ExecuteTime": {
     "end_time": "2022-01-12T19:44:51.721641Z",
     "start_time": "2022-01-12T19:44:51.695412Z"
    }
   },
   "outputs": [
    {
     "data": {
      "text/plain": [
       "0.17320508075688773"
      ]
     },
     "execution_count": 55,
     "metadata": {},
     "output_type": "execute_result"
    }
   ],
   "source": [
    "# from generation of powerfits .ipynb\n",
    "np.sqrt(3)*0.1"
   ]
  },
  {
   "cell_type": "code",
   "execution_count": 150,
   "id": "c85354f1",
   "metadata": {
    "ExecuteTime": {
     "end_time": "2022-01-15T21:27:51.221789Z",
     "start_time": "2022-01-15T21:27:51.199749Z"
    }
   },
   "outputs": [],
   "source": [
    "# #run 21 (interactionless)\n",
    "# powerfit_dir='/home/timothytyree/Documents/GitHub/bgmc/python/data/osg_output/run_21_all_powerlaw_fits.csv'\n",
    "# #run 22 (exponential neighbors) used 'q_max':0.4,\n",
    "# powerfit_dir='/home/timothytyree/Documents/GitHub/bgmc/python/data/osg_output/run_22_all_powerlaw_fits.csv'\n",
    "# #run 23 (exponential neighbors, larger r) used 'q_max':0.4,\n",
    "powerfit_dir=\"/home/timothytyree/Documents/GitHub/bgmc/python/data/osg_output/run_23_all_powerlaw_fits.csv\""
   ]
  },
  {
   "cell_type": "code",
   "execution_count": 151,
   "id": "03230383",
   "metadata": {
    "ExecuteTime": {
     "end_time": "2022-01-15T21:27:51.570517Z",
     "start_time": "2022-01-15T21:27:51.510917Z"
    }
   },
   "outputs": [
    {
     "data": {
      "text/html": [
       "<div>\n",
       "<style scoped>\n",
       "    .dataframe tbody tr th:only-of-type {\n",
       "        vertical-align: middle;\n",
       "    }\n",
       "\n",
       "    .dataframe tbody tr th {\n",
       "        vertical-align: top;\n",
       "    }\n",
       "\n",
       "    .dataframe thead th {\n",
       "        text-align: right;\n",
       "    }\n",
       "</style>\n",
       "<table border=\"1\" class=\"dataframe\">\n",
       "  <thead>\n",
       "    <tr style=\"text-align: right;\">\n",
       "      <th></th>\n",
       "      <th>m</th>\n",
       "      <th>Delta_m</th>\n",
       "      <th>M</th>\n",
       "      <th>Delta_M</th>\n",
       "      <th>Rsq</th>\n",
       "      <th>rmse</th>\n",
       "      <th>rmse_full</th>\n",
       "      <th>model_name_full</th>\n",
       "      <th>q_min</th>\n",
       "      <th>q_max</th>\n",
       "      <th>...</th>\n",
       "      <th>D</th>\n",
       "      <th>varkappa</th>\n",
       "      <th>x0</th>\n",
       "      <th>L</th>\n",
       "      <th>force_code</th>\n",
       "      <th>neighbor</th>\n",
       "      <th>reflect</th>\n",
       "      <th>set_second</th>\n",
       "      <th>no_repulsion</th>\n",
       "      <th>no_attraction</th>\n",
       "    </tr>\n",
       "  </thead>\n",
       "  <tbody>\n",
       "    <tr>\n",
       "      <th>0</th>\n",
       "      <td>2.229480</td>\n",
       "      <td>0.061599</td>\n",
       "      <td>9.638620</td>\n",
       "      <td>1.333950</td>\n",
       "      <td>0.996633</td>\n",
       "      <td>0.021009</td>\n",
       "      <td>0.109596</td>\n",
       "      <td>fk_pbc</td>\n",
       "      <td>0.2</td>\n",
       "      <td>0.4</td>\n",
       "      <td>...</td>\n",
       "      <td>0.44199</td>\n",
       "      <td>1.60415</td>\n",
       "      <td>0.10</td>\n",
       "      <td>10</td>\n",
       "      <td>2</td>\n",
       "      <td>1</td>\n",
       "      <td>0</td>\n",
       "      <td>0</td>\n",
       "      <td>0</td>\n",
       "      <td>0</td>\n",
       "    </tr>\n",
       "    <tr>\n",
       "      <th>1</th>\n",
       "      <td>5.235155</td>\n",
       "      <td>0.227042</td>\n",
       "      <td>1390.457266</td>\n",
       "      <td>1036.396337</td>\n",
       "      <td>0.991745</td>\n",
       "      <td>0.398202</td>\n",
       "      <td>2.462978</td>\n",
       "      <td>lr_pbc</td>\n",
       "      <td>0.2</td>\n",
       "      <td>0.4</td>\n",
       "      <td>...</td>\n",
       "      <td>0.44199</td>\n",
       "      <td>0.40104</td>\n",
       "      <td>0.10</td>\n",
       "      <td>10</td>\n",
       "      <td>2</td>\n",
       "      <td>1</td>\n",
       "      <td>0</td>\n",
       "      <td>0</td>\n",
       "      <td>0</td>\n",
       "      <td>0</td>\n",
       "    </tr>\n",
       "    <tr>\n",
       "      <th>2</th>\n",
       "      <td>3.393820</td>\n",
       "      <td>0.076842</td>\n",
       "      <td>149.718579</td>\n",
       "      <td>33.119521</td>\n",
       "      <td>0.997737</td>\n",
       "      <td>0.110419</td>\n",
       "      <td>1.080990</td>\n",
       "      <td>lr_pbc</td>\n",
       "      <td>0.2</td>\n",
       "      <td>0.4</td>\n",
       "      <td>...</td>\n",
       "      <td>1.76795</td>\n",
       "      <td>0.88398</td>\n",
       "      <td>0.12</td>\n",
       "      <td>10</td>\n",
       "      <td>2</td>\n",
       "      <td>1</td>\n",
       "      <td>0</td>\n",
       "      <td>0</td>\n",
       "      <td>0</td>\n",
       "      <td>0</td>\n",
       "    </tr>\n",
       "    <tr>\n",
       "      <th>3</th>\n",
       "      <td>6.154462</td>\n",
       "      <td>0.382619</td>\n",
       "      <td>24561.753517</td>\n",
       "      <td>46795.974315</td>\n",
       "      <td>0.983184</td>\n",
       "      <td>5.386465</td>\n",
       "      <td>31.759323</td>\n",
       "      <td>lr_pbc</td>\n",
       "      <td>0.2</td>\n",
       "      <td>0.4</td>\n",
       "      <td>...</td>\n",
       "      <td>0.44199</td>\n",
       "      <td>0.40104</td>\n",
       "      <td>0.12</td>\n",
       "      <td>10</td>\n",
       "      <td>2</td>\n",
       "      <td>1</td>\n",
       "      <td>0</td>\n",
       "      <td>0</td>\n",
       "      <td>0</td>\n",
       "      <td>0</td>\n",
       "    </tr>\n",
       "    <tr>\n",
       "      <th>4</th>\n",
       "      <td>4.449953</td>\n",
       "      <td>0.279246</td>\n",
       "      <td>4814.825006</td>\n",
       "      <td>6212.833607</td>\n",
       "      <td>0.982872</td>\n",
       "      <td>4.783878</td>\n",
       "      <td>35.686468</td>\n",
       "      <td>lr_pbc</td>\n",
       "      <td>0.2</td>\n",
       "      <td>0.4</td>\n",
       "      <td>...</td>\n",
       "      <td>1.76795</td>\n",
       "      <td>1.60415</td>\n",
       "      <td>0.05</td>\n",
       "      <td>10</td>\n",
       "      <td>2</td>\n",
       "      <td>1</td>\n",
       "      <td>0</td>\n",
       "      <td>0</td>\n",
       "      <td>0</td>\n",
       "      <td>0</td>\n",
       "    </tr>\n",
       "  </tbody>\n",
       "</table>\n",
       "<p>5 rows × 22 columns</p>\n",
       "</div>"
      ],
      "text/plain": [
       "          m   Delta_m             M       Delta_M       Rsq      rmse  \\\n",
       "0  2.229480  0.061599      9.638620      1.333950  0.996633  0.021009   \n",
       "1  5.235155  0.227042   1390.457266   1036.396337  0.991745  0.398202   \n",
       "2  3.393820  0.076842    149.718579     33.119521  0.997737  0.110419   \n",
       "3  6.154462  0.382619  24561.753517  46795.974315  0.983184  5.386465   \n",
       "4  4.449953  0.279246   4814.825006   6212.833607  0.982872  4.783878   \n",
       "\n",
       "   rmse_full model_name_full  q_min  q_max  ...        D  varkappa    x0   L  \\\n",
       "0   0.109596          fk_pbc    0.2    0.4  ...  0.44199   1.60415  0.10  10   \n",
       "1   2.462978          lr_pbc    0.2    0.4  ...  0.44199   0.40104  0.10  10   \n",
       "2   1.080990          lr_pbc    0.2    0.4  ...  1.76795   0.88398  0.12  10   \n",
       "3  31.759323          lr_pbc    0.2    0.4  ...  0.44199   0.40104  0.12  10   \n",
       "4  35.686468          lr_pbc    0.2    0.4  ...  1.76795   1.60415  0.05  10   \n",
       "\n",
       "   force_code  neighbor  reflect  set_second  no_repulsion  no_attraction  \n",
       "0           2         1        0           0             0              0  \n",
       "1           2         1        0           0             0              0  \n",
       "2           2         1        0           0             0              0  \n",
       "3           2         1        0           0             0              0  \n",
       "4           2         1        0           0             0              0  \n",
       "\n",
       "[5 rows x 22 columns]"
      ]
     },
     "execution_count": 151,
     "metadata": {},
     "output_type": "execute_result"
    }
   ],
   "source": [
    "df_powerfits=pd.read_csv(powerfit_dir)\n",
    "df_powerfits.head()"
   ]
  },
  {
   "cell_type": "code",
   "execution_count": 181,
   "id": "def608ee",
   "metadata": {
    "ExecuteTime": {
     "end_time": "2022-01-15T21:37:15.949270Z",
     "start_time": "2022-01-15T21:37:15.918336Z"
    }
   },
   "outputs": [
    {
     "data": {
      "text/html": [
       "<div>\n",
       "<style scoped>\n",
       "    .dataframe tbody tr th:only-of-type {\n",
       "        vertical-align: middle;\n",
       "    }\n",
       "\n",
       "    .dataframe tbody tr th {\n",
       "        vertical-align: top;\n",
       "    }\n",
       "\n",
       "    .dataframe thead th {\n",
       "        text-align: right;\n",
       "    }\n",
       "</style>\n",
       "<table border=\"1\" class=\"dataframe\">\n",
       "  <thead>\n",
       "    <tr style=\"text-align: right;\">\n",
       "      <th></th>\n",
       "      <th>r</th>\n",
       "      <th>D</th>\n",
       "      <th>L</th>\n",
       "      <th>varkappa</th>\n",
       "      <th>x0</th>\n",
       "      <th>kappa</th>\n",
       "    </tr>\n",
       "  </thead>\n",
       "  <tbody>\n",
       "    <tr>\n",
       "      <th>14011</th>\n",
       "      <td>0.5</td>\n",
       "      <td>0.20052</td>\n",
       "      <td>10</td>\n",
       "      <td>3.5359</td>\n",
       "      <td>0.05</td>\n",
       "      <td>100</td>\n",
       "    </tr>\n",
       "    <tr>\n",
       "      <th>9109</th>\n",
       "      <td>0.5</td>\n",
       "      <td>1.76795</td>\n",
       "      <td>10</td>\n",
       "      <td>3.5359</td>\n",
       "      <td>0.10</td>\n",
       "      <td>100</td>\n",
       "    </tr>\n",
       "    <tr>\n",
       "      <th>14981</th>\n",
       "      <td>0.5</td>\n",
       "      <td>0.80208</td>\n",
       "      <td>10</td>\n",
       "      <td>3.5359</td>\n",
       "      <td>0.06</td>\n",
       "      <td>100</td>\n",
       "    </tr>\n",
       "    <tr>\n",
       "      <th>14389</th>\n",
       "      <td>0.5</td>\n",
       "      <td>0.44199</td>\n",
       "      <td>10</td>\n",
       "      <td>3.5359</td>\n",
       "      <td>0.05</td>\n",
       "      <td>100</td>\n",
       "    </tr>\n",
       "    <tr>\n",
       "      <th>2550</th>\n",
       "      <td>0.5</td>\n",
       "      <td>1.76795</td>\n",
       "      <td>10</td>\n",
       "      <td>3.5359</td>\n",
       "      <td>0.06</td>\n",
       "      <td>100</td>\n",
       "    </tr>\n",
       "  </tbody>\n",
       "</table>\n",
       "</div>"
      ],
      "text/plain": [
       "         r        D   L  varkappa    x0  kappa\n",
       "14011  0.5  0.20052  10    3.5359  0.05    100\n",
       "9109   0.5  1.76795  10    3.5359  0.10    100\n",
       "14981  0.5  0.80208  10    3.5359  0.06    100\n",
       "14389  0.5  0.44199  10    3.5359  0.05    100\n",
       "2550   0.5  1.76795  10    3.5359  0.06    100"
      ]
     },
     "execution_count": 181,
     "metadata": {},
     "output_type": "execute_result"
    }
   ],
   "source": [
    "df_powerfits.sort_values(by='rmse_full',inplace=True)\n",
    "df_powerfits[(df_powerfits['model_name_full']=='lr_pbc')][['r','D','L','varkappa','x0', 'kappa']].head()"
   ]
  },
  {
   "cell_type": "code",
   "execution_count": 185,
   "id": "fe13a061",
   "metadata": {
    "ExecuteTime": {
     "end_time": "2022-01-15T21:43:24.924880Z",
     "start_time": "2022-01-15T21:43:24.904924Z"
    }
   },
   "outputs": [],
   "source": [
    "num_settings=df_powerfits.shape[0]"
   ]
  },
  {
   "cell_type": "code",
   "execution_count": 186,
   "id": "cefef1a1",
   "metadata": {
    "ExecuteTime": {
     "end_time": "2022-01-15T21:43:28.353771Z",
     "start_time": "2022-01-15T21:43:28.221614Z"
    }
   },
   "outputs": [
    {
     "data": {
      "image/png": "[encoded data removed]",
      "text/plain": [
       "<Figure size 432x288 with 1 Axes>"
      ]
     },
     "metadata": {
      "needs_background": "light"
     },
     "output_type": "display_data"
    }
   ],
   "source": [
    "nu_values=df_powerfits['m'].values\n",
    "yv=np.linspace(0,1,10)\n",
    "plt.plot(0.*yv+m_lr,yv,'C1--',label='Luo-Rudy Model')\n",
    "plt.plot(0.*yv+m_fk,yv,'C0--',label='Fenton-Karma Model')\n",
    "plt.hist(nu_values,color='k',alpha=0.8,label=f'Oscillatory Model\\n({num_settings} settings)\\n(no phase interactions)',density=True)\n",
    "format_plot(ax=plt.gca(),xlabel='Exponent Value',ylabel='PDF')\n",
    "plt.legend(fontsize=12)\n",
    "plt.xlim([1,5])\n",
    "plt.show()"
   ]
  },
  {
   "cell_type": "code",
   "execution_count": 67,
   "id": "0f426014",
   "metadata": {
    "ExecuteTime": {
     "end_time": "2022-01-10T22:19:41.824582Z",
     "start_time": "2022-01-10T22:19:41.787960Z"
    }
   },
   "outputs": [],
   "source": [
    "#TODO: how many neighbor=0 trials finished? how many neighbor=1 trials finished\n",
    "#TODO: make ^this into a pie chart, because the same number of settings were attempted for neighbor=0 versus 1"
   ]
  },
  {
   "cell_type": "code",
   "execution_count": 154,
   "id": "f92a2da7",
   "metadata": {
    "ExecuteTime": {
     "end_time": "2022-01-15T21:28:30.363353Z",
     "start_time": "2022-01-15T21:28:30.323023Z"
    }
   },
   "outputs": [
    {
     "name": "stdout",
     "output_type": "stream",
     "text": [
      "100.00% percent of settings that terminated used neighbor-only forces.\n"
     ]
    }
   ],
   "source": [
    "num_neighor_settings=df[df.neighbor==1].w.values.shape[0]\n",
    "num_non_neighor_settings=df[df.neighbor==0].w.values.shape[0]\n",
    "print(f\"{100*num_neighor_settings/(num_neighor_settings+num_non_neighor_settings):.2f}% percent of settings that terminated used neighbor-only forces.\")"
   ]
  },
  {
   "cell_type": "code",
   "execution_count": 155,
   "id": "94623b3f",
   "metadata": {
    "ExecuteTime": {
     "end_time": "2022-01-15T21:28:31.003624Z",
     "start_time": "2022-01-15T21:28:30.854957Z"
    }
   },
   "outputs": [
    {
     "data": {
      "image/png": "[encoded data removed]",
      "text/plain": [
       "<Figure size 432x288 with 1 Axes>"
      ]
     },
     "metadata": {
      "needs_background": "light"
     },
     "output_type": "display_data"
    }
   ],
   "source": [
    "#meant for run 21 (interactionless)\n",
    "yv=np.linspace(0,1,10)\n",
    "plt.plot(0.*yv+m_lr,yv,'C1--',label='Luo-Rudy Model')\n",
    "plt.plot(0.*yv+m_fk,yv,'C0--',label='Fenton-Karma Model')\n",
    "nu_values=df_powerfits[df.neighbor==1]['m'].values\n",
    "plt.hist(nu_values,color='k',alpha=0.8,label=f'Neighbor-Forces',density=True)\n",
    "nu_values=df_powerfits[df.neighbor==0]['m'].values\n",
    "plt.hist(nu_values,color='g',alpha=0.8,label=f'Vector-Summed-Forces',density=True)\n",
    "format_plot(ax=plt.gca(),xlabel='Exponent Value',ylabel='PDF')\n",
    "plt.legend(fontsize=12)\n",
    "plt.show()"
   ]
  },
  {
   "cell_type": "code",
   "execution_count": 187,
   "id": "e9b3e9cd",
   "metadata": {
    "ExecuteTime": {
     "end_time": "2022-01-15T21:43:37.927563Z",
     "start_time": "2022-01-15T21:43:37.804530Z"
    }
   },
   "outputs": [
    {
     "data": {
      "image/png": "[encoded data removed]",
      "text/plain": [
       "<Figure size 432x288 with 1 Axes>"
      ]
     },
     "metadata": {
      "needs_background": "light"
     },
     "output_type": "display_data"
    }
   ],
   "source": [
    "# yv=np.linspace(0,1,10)\n",
    "# plt.plot(0.*yv+M_lr,yv,'C1--',label='Luo-Rudy Model')\n",
    "# plt.plot(0.*yv+M_fk,yv,'C0--',label='Fenton-Karma Model')\n",
    "M_values=df_powerfits[df.neighbor==1]['Rsq'].values\n",
    "plt.hist(M_values,color='k',alpha=0.8,label=f'Oscillatory Model',density=True)\n",
    "# nu_values=df_powerfits[df.neighbor==0]['m'].values\n",
    "# plt.hist(nu_values,color='g',alpha=0.8,label=f'Vector-Summed-Forces',density=True)\n",
    "format_plot(ax=plt.gca(),xlabel=r'Powerlaw $R^2$',ylabel='PDF')\n",
    "plt.legend(fontsize=12)\n",
    "plt.xlim([0.8,1.1])\n",
    "plt.show()"
   ]
  },
  {
   "cell_type": "code",
   "execution_count": 157,
   "id": "5b221b83",
   "metadata": {
    "ExecuteTime": {
     "end_time": "2022-01-15T21:28:42.523248Z",
     "start_time": "2022-01-15T21:28:42.373784Z"
    }
   },
   "outputs": [
    {
     "data": {
      "image/png": "[encoded data removed]",
      "text/plain": [
       "<Figure size 432x288 with 1 Axes>"
      ]
     },
     "metadata": {
      "needs_background": "light"
     },
     "output_type": "display_data"
    }
   ],
   "source": [
    "yv=np.linspace(0,1,10)\n",
    "plt.plot(0.*yv+M_lr,yv,'C1--',label='Luo-Rudy Model')\n",
    "plt.plot(0.*yv+M_fk,yv,'C0--',label='Fenton-Karma Model')\n",
    "M_values=df_powerfits[df.neighbor==1]['m'].values\n",
    "plt.hist(M_values,color='k',alpha=0.8,label=f'Oscillatory Model',density=True)\n",
    "# nu_values=df_powerfits[df.neighbor==0]['m'].values\n",
    "# plt.hist(nu_values,color='g',alpha=0.8,label=f'Vector-Summed-Forces',density=True)\n",
    "# format_plot(ax=plt.gca(),xlabel=r'Powerlaw Magnitude (Hz/cm$^{2(1+\\nu)}$)',ylabel='PDF')\n",
    "format_plot(ax=plt.gca(),xlabel=f'Powerlaw Magnitude\\nat Unit Density'+r'(Hz/cm$^2$)',ylabel='PDF')\n",
    "plt.legend(fontsize=12)\n",
    "plt.show()"
   ]
  },
  {
   "cell_type": "markdown",
   "id": "c91b280a",
   "metadata": {},
   "source": [
    "$$\n",
    "w=Mq^\\nu\n",
    "$$\n",
    "\n",
    "$$\n",
    "w=w_1(q/q_1)^\\nu\n",
    "$$\n",
    "\n",
    "Let $q_1=1$ particle per square centimeter."
   ]
  },
  {
   "cell_type": "code",
   "execution_count": 92,
   "id": "9f7890f9",
   "metadata": {
    "ExecuteTime": {
     "end_time": "2022-01-12T20:27:37.201145Z",
     "start_time": "2022-01-12T20:27:37.174769Z"
    }
   },
   "outputs": [],
   "source": [
    "#DONT: #compute unit density of the full models\n",
    "# q1_lr=M_lr**m_lr\n",
    "# q1_fk=M_fk**m_fk\n",
    "# q1_lr,q1_fk"
   ]
  },
  {
   "cell_type": "code",
   "execution_count": 188,
   "id": "bd21a899",
   "metadata": {
    "ExecuteTime": {
     "end_time": "2022-01-15T21:44:00.673347Z",
     "start_time": "2022-01-15T21:44:00.611291Z"
    }
   },
   "outputs": [],
   "source": [
    "#compute*np.pi*kappa*r^2\n",
    "df_powerfits=pd.read_csv(powerfit_dir)\n",
    "df=df_powerfits\n",
    "# df['q1']=df['M']**df['m']\n",
    "df['beta']=np.pi*df['r']**2*df['kappa']/2"
   ]
  },
  {
   "cell_type": "markdown",
   "id": "4876bf2e",
   "metadata": {},
   "source": [
    "Define the reaction coefficient, $\\beta=\\frac{1}{2}\\kappa \\pi r^2$."
   ]
  },
  {
   "cell_type": "code",
   "execution_count": 189,
   "id": "ea1cd2b8",
   "metadata": {
    "ExecuteTime": {
     "end_time": "2022-01-15T21:44:01.426048Z",
     "start_time": "2022-01-15T21:44:01.399847Z"
    }
   },
   "outputs": [
    {
     "data": {
      "text/plain": [
       "Index(['m', 'Delta_m', 'M', 'Delta_M', 'Rsq', 'rmse', 'rmse_full',\n",
       "       'model_name_full', 'q_min', 'q_max', 'r', 'kappa', 'D', 'varkappa',\n",
       "       'x0', 'L', 'force_code', 'neighbor', 'reflect', 'set_second',\n",
       "       'no_repulsion', 'no_attraction', 'beta'],\n",
       "      dtype='object')"
      ]
     },
     "execution_count": 189,
     "metadata": {},
     "output_type": "execute_result"
    }
   ],
   "source": [
    "df_powerfits.columns"
   ]
  },
  {
   "cell_type": "code",
   "execution_count": 196,
   "id": "1d976417",
   "metadata": {
    "ExecuteTime": {
     "end_time": "2022-01-15T21:49:07.048981Z",
     "start_time": "2022-01-15T21:48:58.665450Z"
    }
   },
   "outputs": [
    {
     "data": {
      "image/png": "[encoded data removed]",
      "text/plain": [
       "<Figure size 504x288 with 1 Axes>"
      ]
     },
     "metadata": {
      "needs_background": "light"
     },
     "output_type": "display_data"
    }
   ],
   "source": [
    "#TODO: scatter plot q1 versus beta\n",
    "neighbor=1\n",
    "x_col='beta'\n",
    "xlabel=r'$\\beta$ (cm$^2$/s)'\n",
    "y_col='M'\n",
    "ylabel=r'$w_1$ (Hz/cm$^2$)'\n",
    "fig,ax=plt.subplots(figsize=(7,4))\n",
    "xvmax=40\n",
    "xv=np.linspace(0,xvmax,10)\n",
    "ax.plot(xv,0.*xv+M_lr,'C1--')#,label='Luo-Rudy Model')\n",
    "ax.plot(xv,0.*xv+M_fk,'C0--')#,label='Fenton-Karma Model')\n",
    "\n",
    "retval=sns.kdeplot(\n",
    "    data=df_powerfits[df.neighbor==neighbor], x=x_col, y=y_col, \n",
    "    hue=\"r\", fill=False,alpha=0.8,levels=7,cmap='Spectral',vmin=0,vmax=0.5,\n",
    "    log_scale=True,legend=False\n",
    ")\n",
    "# skde=sns.kdeplot(\n",
    "#     data=df_powerfits[df.neighbor==neighbor], x=x_col, y=y_col, \n",
    "#     hue=\"r\", fill=True,alpha=0.2,levels=3,cmap='Spectral',vmin=0,vmax=0.12)#,loc='lower right')\n",
    "# skde.legend(loc='lower right')\n",
    "\n",
    "\n",
    "format_plot(ax=ax,xlabel=xlabel,ylabel=ylabel)#,use_loglog=True)\n",
    "ax.set_xlim([2,1e4])\n",
    "\n",
    "plt.show()"
   ]
  },
  {
   "cell_type": "code",
   "execution_count": 118,
   "id": "a9c7cee3",
   "metadata": {
    "ExecuteTime": {
     "end_time": "2022-01-12T20:55:13.935277Z",
     "start_time": "2022-01-12T20:55:13.910839Z"
    }
   },
   "outputs": [],
   "source": [
    "leg=retval.get_legend()\n"
   ]
  },
  {
   "cell_type": "code",
   "execution_count": null,
   "id": "c8837cdb",
   "metadata": {},
   "outputs": [],
   "source": []
  },
  {
   "cell_type": "code",
   "execution_count": null,
   "id": "19cdea69",
   "metadata": {},
   "outputs": [],
   "source": []
  },
  {
   "cell_type": "code",
   "execution_count": 195,
   "id": "4e3ec32e",
   "metadata": {
    "ExecuteTime": {
     "end_time": "2022-01-15T21:48:29.521492Z",
     "start_time": "2022-01-15T21:48:29.475501Z"
    }
   },
   "outputs": [],
   "source": [
    "sns.kdeplot?"
   ]
  },
  {
   "cell_type": "code",
   "execution_count": null,
   "id": "dcc5948b",
   "metadata": {},
   "outputs": [],
   "source": []
  },
  {
   "cell_type": "code",
   "execution_count": 105,
   "id": "73419f84",
   "metadata": {
    "ExecuteTime": {
     "end_time": "2022-01-12T20:48:25.409363Z",
     "start_time": "2022-01-12T20:48:24.182410Z"
    },
    "scrolled": true
   },
   "outputs": [
    {
     "data": {
      "text/plain": [
       "matplotlib.axes._subplots.AxesSubplot"
      ]
     },
     "execution_count": 105,
     "metadata": {},
     "output_type": "execute_result"
    },
    {
     "data": {
      "image/png": "[encoded data removed]",
      "text/plain": [
       "<Figure size 432x288 with 1 Axes>"
      ]
     },
     "metadata": {
      "needs_background": "light"
     },
     "output_type": "display_data"
    }
   ],
   "source": [
    "retval=sns.kdeplot(\n",
    "    data=df_powerfits[df.neighbor==neighbor], x=x_col, y=y_col, \n",
    "    hue=\"r\", fill=False,alpha=0.8,levels=3\n",
    ")\n",
    "format_plot(ax=plt.gca(),xlabel=xlabel,ylabel=ylabel)\n",
    "type(retval)"
   ]
  },
  {
   "cell_type": "markdown",
   "id": "5083e7bd",
   "metadata": {},
   "source": [
    "# Plot Annihilation Rates Directly from Simulation Output"
   ]
  },
  {
   "cell_type": "code",
   "execution_count": 21,
   "id": "f4d7264c",
   "metadata": {
    "ExecuteTime": {
     "end_time": "2022-01-13T20:08:56.392524Z",
     "start_time": "2022-01-13T20:08:56.340860Z"
    }
   },
   "outputs": [],
   "source": [
    "# input_fn=f\"/Users/timothytyree/Documents/GitHub/bgmc/doc/plugging-oscillatory-params-into-parrticle-model.txt\"\n",
    "input_fn=f\"/Users/timothytyree/Documents/GitHub/bgmc/c/oscillatory/fitty-output-lr.txt\""
   ]
  },
  {
   "cell_type": "code",
   "execution_count": 22,
   "id": "5442749c",
   "metadata": {
    "ExecuteTime": {
     "end_time": "2022-01-13T20:08:57.076096Z",
     "start_time": "2022-01-13T20:08:56.973566Z"
    }
   },
   "outputs": [
    {
     "name": "stdout",
     "output_type": "stream",
     "text": [
      "input parameters were:\n",
      "['r', 'D', 'L', 'kappa', 'varkappa', 'x0', 'dt', 'Dt', 'niter', 'reflect', 'set_second', 'no_repulsion', 'no_attraction', 'neighbor', 'force_code']\n",
      "[0.1732, 1.76795, 10, 500, 3.5359, 0.1, 1e-05, 1e-05, 500, 0, 0, 0, 0, 1, 2]\n",
      "returning outputs as pandas.DataFrame instance\n"
     ]
    },
    {
     "data": {
      "text/html": [
       "<div>\n",
       "<style scoped>\n",
       "    .dataframe tbody tr th:only-of-type {\n",
       "        vertical-align: middle;\n",
       "    }\n",
       "\n",
       "    .dataframe tbody tr th {\n",
       "        vertical-align: top;\n",
       "    }\n",
       "\n",
       "    .dataframe thead th {\n",
       "        text-align: right;\n",
       "    }\n",
       "</style>\n",
       "<table border=\"1\" class=\"dataframe\">\n",
       "  <thead>\n",
       "    <tr style=\"text-align: right;\">\n",
       "      <th></th>\n",
       "      <th>N</th>\n",
       "      <th>CollTime</th>\n",
       "      <th>r</th>\n",
       "      <th>D</th>\n",
       "      <th>L</th>\n",
       "      <th>kappa</th>\n",
       "      <th>varkappa</th>\n",
       "      <th>x0</th>\n",
       "      <th>dt</th>\n",
       "      <th>Dt</th>\n",
       "      <th>niter</th>\n",
       "      <th>reflect</th>\n",
       "      <th>set_second</th>\n",
       "      <th>no_repulsion</th>\n",
       "      <th>no_attraction</th>\n",
       "      <th>neighbor</th>\n",
       "      <th>force_code</th>\n",
       "    </tr>\n",
       "  </thead>\n",
       "  <tbody>\n",
       "    <tr>\n",
       "      <th>0</th>\n",
       "      <td>100</td>\n",
       "      <td>0.021483</td>\n",
       "      <td>0.1732</td>\n",
       "      <td>1.76795</td>\n",
       "      <td>10</td>\n",
       "      <td>500</td>\n",
       "      <td>3.5359</td>\n",
       "      <td>0.1</td>\n",
       "      <td>0.00001</td>\n",
       "      <td>0.00001</td>\n",
       "      <td>500</td>\n",
       "      <td>0</td>\n",
       "      <td>0</td>\n",
       "      <td>0</td>\n",
       "      <td>0</td>\n",
       "      <td>1</td>\n",
       "      <td>2</td>\n",
       "    </tr>\n",
       "    <tr>\n",
       "      <th>1</th>\n",
       "      <td>99</td>\n",
       "      <td>0.023562</td>\n",
       "      <td>0.1732</td>\n",
       "      <td>1.76795</td>\n",
       "      <td>10</td>\n",
       "      <td>500</td>\n",
       "      <td>3.5359</td>\n",
       "      <td>0.1</td>\n",
       "      <td>0.00001</td>\n",
       "      <td>0.00001</td>\n",
       "      <td>500</td>\n",
       "      <td>0</td>\n",
       "      <td>0</td>\n",
       "      <td>0</td>\n",
       "      <td>0</td>\n",
       "      <td>1</td>\n",
       "      <td>2</td>\n",
       "    </tr>\n",
       "    <tr>\n",
       "      <th>2</th>\n",
       "      <td>98</td>\n",
       "      <td>0.025243</td>\n",
       "      <td>0.1732</td>\n",
       "      <td>1.76795</td>\n",
       "      <td>10</td>\n",
       "      <td>500</td>\n",
       "      <td>3.5359</td>\n",
       "      <td>0.1</td>\n",
       "      <td>0.00001</td>\n",
       "      <td>0.00001</td>\n",
       "      <td>500</td>\n",
       "      <td>0</td>\n",
       "      <td>0</td>\n",
       "      <td>0</td>\n",
       "      <td>0</td>\n",
       "      <td>1</td>\n",
       "      <td>2</td>\n",
       "    </tr>\n",
       "    <tr>\n",
       "      <th>3</th>\n",
       "      <td>97</td>\n",
       "      <td>0.027347</td>\n",
       "      <td>0.1732</td>\n",
       "      <td>1.76795</td>\n",
       "      <td>10</td>\n",
       "      <td>500</td>\n",
       "      <td>3.5359</td>\n",
       "      <td>0.1</td>\n",
       "      <td>0.00001</td>\n",
       "      <td>0.00001</td>\n",
       "      <td>500</td>\n",
       "      <td>0</td>\n",
       "      <td>0</td>\n",
       "      <td>0</td>\n",
       "      <td>0</td>\n",
       "      <td>1</td>\n",
       "      <td>2</td>\n",
       "    </tr>\n",
       "    <tr>\n",
       "      <th>4</th>\n",
       "      <td>96</td>\n",
       "      <td>0.032867</td>\n",
       "      <td>0.1732</td>\n",
       "      <td>1.76795</td>\n",
       "      <td>10</td>\n",
       "      <td>500</td>\n",
       "      <td>3.5359</td>\n",
       "      <td>0.1</td>\n",
       "      <td>0.00001</td>\n",
       "      <td>0.00001</td>\n",
       "      <td>500</td>\n",
       "      <td>0</td>\n",
       "      <td>0</td>\n",
       "      <td>0</td>\n",
       "      <td>0</td>\n",
       "      <td>1</td>\n",
       "      <td>2</td>\n",
       "    </tr>\n",
       "  </tbody>\n",
       "</table>\n",
       "</div>"
      ],
      "text/plain": [
       "     N  CollTime       r        D   L  kappa  varkappa   x0       dt       Dt  \\\n",
       "0  100  0.021483  0.1732  1.76795  10    500    3.5359  0.1  0.00001  0.00001   \n",
       "1   99  0.023562  0.1732  1.76795  10    500    3.5359  0.1  0.00001  0.00001   \n",
       "2   98  0.025243  0.1732  1.76795  10    500    3.5359  0.1  0.00001  0.00001   \n",
       "3   97  0.027347  0.1732  1.76795  10    500    3.5359  0.1  0.00001  0.00001   \n",
       "4   96  0.032867  0.1732  1.76795  10    500    3.5359  0.1  0.00001  0.00001   \n",
       "\n",
       "   niter  reflect  set_second  no_repulsion  no_attraction  neighbor  \\\n",
       "0    500        0           0             0              0         1   \n",
       "1    500        0           0             0              0         1   \n",
       "2    500        0           0             0              0         1   \n",
       "3    500        0           0             0              0         1   \n",
       "4    500        0           0             0              0         1   \n",
       "\n",
       "   force_code  \n",
       "0           2  \n",
       "1           2  \n",
       "2           2  \n",
       "3           2  \n",
       "4           2  "
      ]
     },
     "execution_count": 22,
     "metadata": {},
     "output_type": "execute_result"
    }
   ],
   "source": [
    "qfoo=lambda x:True\n",
    "cwd=os.getcwd()\n",
    "if qfoo is None:\n",
    "    qfoo_pbc=lambda dict_inputs:dict_inputs['reflect']==0 #periodic bc\n",
    "    qfoo_rbc=lambda dict_inputs:dict_inputs['reflect']==1 #reflecting bc\n",
    "    # pick a general query function...\n",
    "    qfoo=qfoo_rbc\n",
    "df=po.parse_log(input_fn,qfoo,include_inputs=True,printing=True)\n",
    "df.head()"
   ]
  },
  {
   "cell_type": "code",
   "execution_count": 25,
   "id": "dede494c",
   "metadata": {
    "ExecuteTime": {
     "end_time": "2022-01-13T20:13:04.243854Z",
     "start_time": "2022-01-13T20:13:03.675419Z"
    },
    "scrolled": true
   },
   "outputs": [
    {
     "data": {
      "text/plain": [
       "True"
      ]
     },
     "execution_count": 25,
     "metadata": {},
     "output_type": "execute_result"
    },
    {
     "data": {
      "image/png": "[encoded data removed]",
      "text/plain": [
       "<Figure size 432x288 with 1 Axes>"
      ]
     },
     "metadata": {
      "needs_background": "light"
     },
     "output_type": "display_data"
    }
   ],
   "source": [
    "#plot fits for full model\n",
    "m_fk=1.945;#+-0.030; B_fk=2.441+-0.051\n",
    "m_lr=1.544;#+-0.034; B_lr=5.870+-0.137\n",
    "M_fk=5.67;#+-0.39 Hz*cm^{2(m-1)}\n",
    "M_lr=15.37;#+-1.57 Hz*cm^{2(m-1)}\n",
    "# RMSE_fk=0.1252 Hz/cm^2\n",
    "# RMSE_lr=0.0974 Hz/cm^2\n",
    "# R^2=0.997 (FK)\n",
    "# R^2=0.994 (LR)\n",
    "# yscale=10**3\n",
    "xv=np.arange(0.1,1.,.05)\n",
    "yv_fk=M_fk*(xv)**m_fk\n",
    "yv_lr=M_lr*(xv)**m_lr\n",
    "\n",
    "fontsize=16\n",
    "# plt.xlim([0.1,1])\n",
    "# plt.ylim([1e-1,15])\n",
    "plt.yscale('log')\n",
    "plt.xscale('log')\n",
    "# plt.plot(xv,yv_fk,label='FK power law fit',zorder=3,lw=4)\n",
    "plt.plot(xv,yv_lr,label='LR power law fit',zorder=3,lw=4,color='C1')\n",
    "\n",
    "\n",
    "df['q']=df['N']/(df['L']**2)\n",
    "df['w']=(df['CollTime']**-1)/(df['L']**2)\n",
    "x_values=df['q']\n",
    "y_values=df['w']\n",
    "plt.scatter(x_values,y_values)\n",
    "format_plot(ax=plt.gca(),xlabel=r'q (cm$^{-2}$)',ylabel=r'w (Hz cm$^{-2}$)',use_loglog=True)"
   ]
  },
  {
   "cell_type": "code",
   "execution_count": null,
   "id": "86dd9cf1",
   "metadata": {},
   "outputs": [],
   "source": []
  }
 ],
 "metadata": {
  "hide_input": false,
  "kernelspec": {
   "display_name": "Python 3 (ipykernel)",
   "language": "python",
   "name": "python3"
  },
  "language_info": {
   "codemirror_mode": {
    "name": "ipython",
    "version": 3
   },
   "file_extension": ".py",
   "mimetype": "text/x-python",
   "name": "python",
   "nbconvert_exporter": "python",
   "pygments_lexer": "ipython3",
   "version": "3.7.10"
  },
  "nbTranslate": {
   "displayLangs": [
    "*"
   ],
   "hotkey": "alt-t",
   "langInMainMenu": true,
   "sourceLang": "en",
   "targetLang": "fr",
   "useGoogleTranslate": true
  },
  "toc": {
   "base_numbering": 1,
   "nav_menu": {},
   "number_sections": true,
   "sideBar": true,
   "skip_h1_title": false,
   "title_cell": "Table of Contents",
   "title_sidebar": "Contents",
   "toc_cell": false,
   "toc_position": {},
   "toc_section_display": true,
   "toc_window_display": false
  },
  "varInspector": {
   "cols": {
    "lenName": 16,
    "lenType": 16,
    "lenVar": 40
   },
   "kernels_config": {
    "python": {
     "delete_cmd_postfix": "",
     "delete_cmd_prefix": "del ",
     "library": "var_list.py",
     "varRefreshCmd": "print(var_dic_list())"
    },
    "r": {
     "delete_cmd_postfix": ") ",
     "delete_cmd_prefix": "rm(",
     "library": "var_list.r",
     "varRefreshCmd": "cat(var_dic_list()) "
    }
   },
   "types_to_exclude": [
    "module",
    "function",
    "builtin_function_or_method",
    "instance",
    "_Feature"
   ],
   "window_display": false
  }
 },
 "nbformat": 4,
 "nbformat_minor": 5
}
