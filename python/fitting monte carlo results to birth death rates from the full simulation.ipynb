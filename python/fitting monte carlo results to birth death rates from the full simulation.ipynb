{
 "cells": [
  {
   "cell_type": "markdown",
   "metadata": {},
   "source": [
    "# fitting monte carlo results to birth death rates from the full simulation\n",
    "Tim Tyree<br>\n",
    "3.30.2021"
   ]
  },
  {
   "cell_type": "code",
   "execution_count": 136,
   "metadata": {
    "ExecuteTime": {
     "end_time": "2021-04-23T01:07:11.370111Z",
     "start_time": "2021-04-23T01:07:11.341526Z"
    }
   },
   "outputs": [
    {
     "name": "stdout",
     "output_type": "stream",
     "text": [
      "The autoreload extension is already loaded. To reload it, use:\n",
      "  %reload_ext autoreload\n"
     ]
    }
   ],
   "source": [
    "from lib.my_initialization import *\n",
    "import random,scipy\n",
    "from lib.measure.compute_slope import *\n",
    "from lib.measure.compute_sliding_slope import *\n",
    "from lib.measure.powerlaw import *\n",
    "%load_ext autoreload\n",
    "%autoreload 2\n",
    "\n",
    "from scipy import stats\n",
    "alpha=0.1"
   ]
  },
  {
   "cell_type": "code",
   "execution_count": 25,
   "metadata": {
    "ExecuteTime": {
     "end_time": "2021-04-22T00:30:54.705434Z",
     "start_time": "2021-04-22T00:30:54.689313Z"
    }
   },
   "outputs": [],
   "source": [
    "#load birth death rates from the full model\n",
    "data_folder=f'{nb_dir}/data'\n",
    "os.chdir(data_folder)\n",
    "\n",
    "data_fk_fn='full_results/data_fig4_vidmar_fk_tt.csv'\n",
    "data_lr_fn='full_results/data_fig4_vidmar_lr_tt.csv'\n",
    "\n",
    "fk=pd.read_csv(data_fk_fn)\n",
    "fk['N']=fk['No2']*2\n",
    "fk['q']=fk['N']/fk['A'] #number of tips per square centimeter\n",
    "fk['w']=fk['rate']/fk['A'] #[mHz?]/cm^2\n",
    "\n",
    "lr=pd.read_csv(data_lr_fn)\n",
    "lr['N']=lr['No2']*2\n",
    "lr['q']=lr['N']/lr['A'] #number of tips per square centimeter\n",
    "lr['w']=lr['rate']/lr['A'] #[mHz?]/cm^2\n",
    "\n"
   ]
  },
  {
   "cell_type": "code",
   "execution_count": 3,
   "metadata": {
    "ExecuteTime": {
     "end_time": "2021-04-21T22:40:15.411368Z",
     "start_time": "2021-04-21T22:39:18.435111Z"
    }
   },
   "outputs": [],
   "source": [
    "#load osg data\n",
    "data_mc_fn='osg_output/run_6_all.csv'#run_1_to_3_merged.csv'\n",
    "df=pd.read_csv(data_mc_fn)\n",
    "df.drop(columns=['dt'],inplace=True)\n",
    "# query=(df.set_second==0)&(df.reflect==0)&(df.r==0.1)&(df.Dt==0.001)&(df.Dt==0.001)&(df.D==1.0)&(df.L==5.)&(df.kappa==80)\n",
    "query=(df.set_second==0)&(df.reflect==0)&(df.Dt==0.01)#&(df.D==1.0)&(df.L==5.)&(df.kappa==80)&(df.r==0.1)\n",
    "df=df[query].copy()\n",
    "#extract column values\n",
    "r_values=np.array(sorted(set(df.r.values)))#cm\n",
    "D_values=np.array(sorted(set(df.D.values)))#cm^2/s\n",
    "L_values=np.array(sorted(set(df.L.values)))#cm\n",
    "A_values=L_values**2#cm^2\n",
    "kappa_values=np.array(sorted(set(df.kappa.values)))#1/s"
   ]
  },
  {
   "cell_type": "code",
   "execution_count": 4,
   "metadata": {
    "ExecuteTime": {
     "end_time": "2021-04-21T22:40:17.196508Z",
     "start_time": "2021-04-21T22:40:15.412422Z"
    }
   },
   "outputs": [
    {
     "data": {
      "text/html": [
       "<div>\n",
       "<style scoped>\n",
       "    .dataframe tbody tr th:only-of-type {\n",
       "        vertical-align: middle;\n",
       "    }\n",
       "\n",
       "    .dataframe tbody tr th {\n",
       "        vertical-align: top;\n",
       "    }\n",
       "\n",
       "    .dataframe thead th {\n",
       "        text-align: right;\n",
       "    }\n",
       "</style>\n",
       "<table border=\"1\" class=\"dataframe\">\n",
       "  <thead>\n",
       "    <tr style=\"text-align: right;\">\n",
       "      <th></th>\n",
       "      <th>set_second</th>\n",
       "      <th>reflect</th>\n",
       "      <th>r</th>\n",
       "      <th>niter</th>\n",
       "      <th>kappa</th>\n",
       "      <th>N</th>\n",
       "      <th>L</th>\n",
       "      <th>Dt</th>\n",
       "      <th>D</th>\n",
       "      <th>CollRate</th>\n",
       "      <th>Dt_over_dt</th>\n",
       "    </tr>\n",
       "  </thead>\n",
       "  <tbody>\n",
       "    <tr>\n",
       "      <th>21</th>\n",
       "      <td>0</td>\n",
       "      <td>0</td>\n",
       "      <td>0.1</td>\n",
       "      <td>1500</td>\n",
       "      <td>5</td>\n",
       "      <td>12</td>\n",
       "      <td>4.5</td>\n",
       "      <td>0.01</td>\n",
       "      <td>0.2</td>\n",
       "      <td>0.441582</td>\n",
       "      <td>1000.0</td>\n",
       "    </tr>\n",
       "    <tr>\n",
       "      <th>22</th>\n",
       "      <td>0</td>\n",
       "      <td>0</td>\n",
       "      <td>0.1</td>\n",
       "      <td>1500</td>\n",
       "      <td>5</td>\n",
       "      <td>12</td>\n",
       "      <td>4.5</td>\n",
       "      <td>0.01</td>\n",
       "      <td>1.0</td>\n",
       "      <td>0.511986</td>\n",
       "      <td>1000.0</td>\n",
       "    </tr>\n",
       "    <tr>\n",
       "      <th>23</th>\n",
       "      <td>0</td>\n",
       "      <td>0</td>\n",
       "      <td>0.1</td>\n",
       "      <td>1500</td>\n",
       "      <td>5</td>\n",
       "      <td>12</td>\n",
       "      <td>4.5</td>\n",
       "      <td>0.01</td>\n",
       "      <td>1.5</td>\n",
       "      <td>0.499670</td>\n",
       "      <td>1000.0</td>\n",
       "    </tr>\n",
       "    <tr>\n",
       "      <th>24</th>\n",
       "      <td>0</td>\n",
       "      <td>0</td>\n",
       "      <td>0.1</td>\n",
       "      <td>1500</td>\n",
       "      <td>5</td>\n",
       "      <td>12</td>\n",
       "      <td>4.5</td>\n",
       "      <td>0.01</td>\n",
       "      <td>2.0</td>\n",
       "      <td>0.513230</td>\n",
       "      <td>1000.0</td>\n",
       "    </tr>\n",
       "    <tr>\n",
       "      <th>25</th>\n",
       "      <td>0</td>\n",
       "      <td>0</td>\n",
       "      <td>0.1</td>\n",
       "      <td>1500</td>\n",
       "      <td>5</td>\n",
       "      <td>12</td>\n",
       "      <td>4.5</td>\n",
       "      <td>0.01</td>\n",
       "      <td>3.0</td>\n",
       "      <td>0.506234</td>\n",
       "      <td>1000.0</td>\n",
       "    </tr>\n",
       "  </tbody>\n",
       "</table>\n",
       "</div>"
      ],
      "text/plain": [
       "    set_second  reflect    r  niter  kappa   N    L    Dt    D  CollRate  \\\n",
       "21           0        0  0.1   1500      5  12  4.5  0.01  0.2  0.441582   \n",
       "22           0        0  0.1   1500      5  12  4.5  0.01  1.0  0.511986   \n",
       "23           0        0  0.1   1500      5  12  4.5  0.01  1.5  0.499670   \n",
       "24           0        0  0.1   1500      5  12  4.5  0.01  2.0  0.513230   \n",
       "25           0        0  0.1   1500      5  12  4.5  0.01  3.0  0.506234   \n",
       "\n",
       "    Dt_over_dt  \n",
       "21      1000.0  \n",
       "22      1000.0  \n",
       "23      1000.0  \n",
       "24      1000.0  \n",
       "25      1000.0  "
      ]
     },
     "execution_count": 4,
     "metadata": {},
     "output_type": "execute_result"
    }
   ],
   "source": [
    "df['Dt_over_dt']=df.Dt/1e-5\n",
    "Dt_over_dt_values=np.array(sorted(set(df.Dt_over_dt.values)))#1/s\n",
    "# df['set_second']=0\n",
    "# df.drop('set_second',inplace=True)\n",
    "beep(3)\n",
    "df.head()"
   ]
  },
  {
   "cell_type": "code",
   "execution_count": 5,
   "metadata": {
    "ExecuteTime": {
     "end_time": "2021-04-21T22:40:17.537976Z",
     "start_time": "2021-04-21T22:40:17.200116Z"
    }
   },
   "outputs": [
    {
     "data": {
      "image/png": "[encoded data removed]",
      "text/plain": [
       "<Figure size 432x288 with 1 Axes>"
      ]
     },
     "metadata": {
      "needs_background": "light"
     },
     "output_type": "display_data"
    }
   ],
   "source": [
    "yscale=10**3\n",
    "fontsize=18\n",
    "#plot up WJ's results\n",
    "plt.scatter(x=lr.q.values,y=yscale*lr.w.values,alpha=0.3,c='C1',label='Luo-Rudy')\n",
    "plt.scatter(x=fk.q.values,y=yscale*fk.w.values,alpha=0.3,c='C0',label='Fenton-Karma')\n",
    "# plt.ylim([1e-5,1e-2])\n",
    "# plt.yscale('log')\n",
    "# plt.xscale('log')\n",
    "plt.xlabel(r'q (cm$^{-2}$)',fontsize=fontsize)\n",
    "plt.ylabel(r'w (Hz cm$^{-2}$)', fontsize=fontsize)\n",
    "plt.tick_params(axis='both', which='major', labelsize=fontsize)\n",
    "plt.tick_params(axis='both', which='minor', labelsize=0)\n",
    "plt.legend(fontsize=fontsize-4)\n",
    "plt.show()"
   ]
  },
  {
   "cell_type": "code",
   "execution_count": 6,
   "metadata": {
    "ExecuteTime": {
     "end_time": "2021-04-21T22:40:17.691650Z",
     "start_time": "2021-04-21T22:40:17.540678Z"
    }
   },
   "outputs": [
    {
     "data": {
      "image/png": "[encoded data removed]",
      "text/plain": [
       "<Figure size 432x288 with 1 Axes>"
      ]
     },
     "metadata": {
      "needs_background": "light"
     },
     "output_type": "display_data"
    }
   ],
   "source": [
    "yscale=10**3\n",
    "fontsize=18\n",
    "#plot up WJ's results\n",
    "querylr=lr.A==25\n",
    "queryfk=fk.A==25\n",
    "plt.scatter(x=lr[querylr].No2.values,y=lr[querylr].rate.values,alpha=0.3,c='C1',label='Luo-Rudy')\n",
    "plt.scatter(x=fk[queryfk].No2.values,y=fk[queryfk].rate.values,alpha=0.3,c='C0',label='Fenton-Karma')\n",
    "# plt.ylim([1e-5,1e-2])\n",
    "# plt.yscale('log')\n",
    "# plt.xscale('log')\n",
    "plt.grid('on')\n",
    "plt.title(r'A = 25 cm$^2$',fontsize=fontsize)\n",
    "plt.xlabel(r'n/2',fontsize=fontsize)\n",
    "plt.ylabel(r'$W_{-2}$ (ms$^{-1}$)', fontsize=fontsize)\n",
    "plt.tick_params(axis='both', which='major', labelsize=fontsize)\n",
    "plt.tick_params(axis='both', which='minor', labelsize=0)\n",
    "plt.legend(fontsize=fontsize-4)\n",
    "plt.show()"
   ]
  },
  {
   "cell_type": "code",
   "execution_count": 7,
   "metadata": {
    "ExecuteTime": {
     "end_time": "2021-04-21T22:40:17.700270Z",
     "start_time": "2021-04-21T22:40:17.693759Z"
    }
   },
   "outputs": [
    {
     "data": {
      "text/plain": [
       "{'m': 1.9447060275370367,\n",
       " 'Delta_m': 0.029617122208703113,\n",
       " 'b': 1.7091950494051997,\n",
       " 'Delta_b': 0.024489019143397704,\n",
       " 'Rsquared': 0.9967057268076673}"
      ]
     },
     "execution_count": 7,
     "metadata": {},
     "output_type": "execute_result"
    }
   ],
   "source": [
    "#compute w_lr and w_fk using a linear regression of a log-log plot\n",
    "yscale=10**3\n",
    "query=fk.q>0.2\n",
    "x=fk[query].q.values\n",
    "y=yscale*fk[query].w.values\n",
    "dict_out=compute_95CI_ols(np.log(x),np.log(y))\n",
    "dict_out"
   ]
  },
  {
   "cell_type": "code",
   "execution_count": 8,
   "metadata": {
    "ExecuteTime": {
     "end_time": "2021-04-21T22:40:17.714735Z",
     "start_time": "2021-04-21T22:40:17.701708Z"
    }
   },
   "outputs": [
    {
     "data": {
      "text/plain": [
       "{'m': 1.5439116497751577,\n",
       " 'Delta_m': 0.03447523242468118,\n",
       " 'b': 2.7539985812568752,\n",
       " 'Delta_b': 0.041657775773998006,\n",
       " 'Rsquared': 0.9935596891108925}"
      ]
     },
     "execution_count": 8,
     "metadata": {},
     "output_type": "execute_result"
    }
   ],
   "source": [
    "#compute w_lr and w_fk using a linear regression of a log-log plot\n",
    "yscale=10**3\n",
    "query=lr.q>0.2\n",
    "x=lr[query].q.values\n",
    "y=yscale*lr[query].w.values\n",
    "dict_out=compute_95CI_ols(np.log(x),np.log(y))\n",
    "dict_out"
   ]
  },
  {
   "cell_type": "code",
   "execution_count": 9,
   "metadata": {
    "ExecuteTime": {
     "end_time": "2021-04-21T22:40:17.729602Z",
     "start_time": "2021-04-21T22:40:17.716120Z"
    }
   },
   "outputs": [],
   "source": [
    "# df.head()"
   ]
  },
  {
   "cell_type": "code",
   "execution_count": 10,
   "metadata": {
    "ExecuteTime": {
     "end_time": "2021-04-21T22:40:17.746172Z",
     "start_time": "2021-04-21T22:40:17.731051Z"
    }
   },
   "outputs": [],
   "source": [
    "def GetPlotUnivCurve(r,D,kappa,ax,alpha=1.,fontsize=18):\n",
    "    for L in L_values:\n",
    "        #get slice\n",
    "        query=(df.r==r)&(df.D==D)&(df.L==L)&(df.kappa==kappa)\n",
    "        dff=df[query].copy().drop(columns=['r','D','L','kappa'])\n",
    "        if dff.size>0:\n",
    "            #compute x,y values\n",
    "            A=L**2\n",
    "            dfd=dff.describe().T.drop(columns=['count'])\n",
    "            y_values=1/dfd['mean'].values.copy()/A\n",
    "            dfd.reset_index(inplace=True,drop=True)\n",
    "            dfd['N']=dfd.index.values+11\n",
    "            x_values=dfd.N.values/A\n",
    "            #plot x,y values\n",
    "            ax.scatter(x_values,y_values,s=10,label=f'A={A:.2f}'+r' $(cm^{2})$',alpha=alpha)\n",
    "    ax.set_xlabel(r'number density (cm$^{-2}$)', fontsize=fontsize)\n",
    "    ax.set_ylabel(r'$W_{{-2}}/A$ (Hz cm$^{-2}$)', fontsize=fontsize)\n",
    "    ax.tick_params(axis='both', which='major', labelsize=fontsize)\n",
    "    ax.tick_params(axis='both', which='minor', labelsize=0)\n",
    "    ax.legend(fontsize=fontsize-6,ncol=2)\n",
    "#     ax.set_title(f'r={r} cm, D={D} '+r'cm$^{-2}/s$, $\\kappa=$'+f'{kappa} Hz', fontsize=fontsize)\n",
    "#     if not saving:\n",
    "#         plt.show()\n",
    "#     else:\n",
    "#         plt.tight_layout()\n",
    "#         os.chdir(savefig_folder)\n",
    "#         plt.savefig(savefig_fn, dpi=300)\n",
    "# #         print(f\"saved figure in \\n\\t{savefig_fn}\")\n",
    "#         plt.close()\n",
    "    return True"
   ]
  },
  {
   "cell_type": "code",
   "execution_count": 11,
   "metadata": {
    "ExecuteTime": {
     "end_time": "2021-04-21T22:40:19.460558Z",
     "start_time": "2021-04-21T22:40:17.747508Z"
    }
   },
   "outputs": [
    {
     "name": "stdout",
     "output_type": "stream",
     "text": [
      "r=0.2, D=2.0, kappa=90\n"
     ]
    },
    {
     "name": "stderr",
     "output_type": "stream",
     "text": [
      "/home/timothytyree/anaconda3/lib/python3.7/site-packages/ipykernel_launcher.py:10: RuntimeWarning: divide by zero encountered in true_divide\n",
      "  # Remove the CWD from sys.path while we load stuff.\n"
     ]
    },
    {
     "data": {
      "image/png": "[encoded data removed]",
      "text/plain": [
       "<Figure size 432x360 with 1 Axes>"
      ]
     },
     "metadata": {
      "needs_background": "light"
     },
     "output_type": "display_data"
    }
   ],
   "source": [
    "# i,j,k=2,0,2\n",
    "# i,j,k=2,-1,-1\n",
    "i,j,k=-5,-1,2\n",
    "i,j,k=-5,0,2\n",
    "#one test case\n",
    "r=r_values[i];D=D_values[j];kappa=kappa_values[k];yscale=10**3\n",
    "r=0.2;D=2.;kappa=90\n",
    "print(f'r={r}, D={D}, kappa={kappa}')\n",
    "#plot the values\n",
    "figsize=(6,5)\n",
    "fontsize=18\n",
    "saving=True\n",
    "savefig_folder=f'{nb_dir}/../fig'\n",
    "savefig_fn=f'model_comparison_r_{r}_D_{D}_k_{kappa}.png'\n",
    "fig, ax = plt.subplots(ncols=1,figsize=figsize)# ax=axs[1]\n",
    "\n",
    "#plot up results from full simulation\n",
    "ax.scatter(x=lr.q.values,y=yscale*lr.w.values,alpha=0.3,label='Luo-Rudy')\n",
    "ax.scatter(x=fk.q.values,y=yscale*fk.w.values,alpha=0.3,label='Fenton-Karma')\n",
    "ax.set_title(f'r={r} cm, D={D} '+r'cm$^{2}/s$, $\\kappa=$'+f'{kappa} Hz', fontsize=fontsize)\n",
    "\n",
    "#plot up results from simple monte carlo simulation\n",
    "retval=GetPlotUnivCurve(r,D,kappa,ax,alpha=0.3)\n",
    "ax.legend(loc='best',fontsize=fontsize-10,ncol=2)\n",
    "# ax.set_xlim([0,1])\n",
    "# ax.set_ylim([0,1])\n",
    "plt.ylim([1e-8,1e+6])\n",
    "ax.set_yscale('log')\n",
    "ax.set_xscale('log')\n",
    "\n",
    "fig.tight_layout()\n",
    "if not saving:\n",
    "    plt.show()\n",
    "else:\n",
    "    plt.tight_layout()\n",
    "    os.chdir(savefig_folder)\n",
    "    plt.savefig(savefig_fn, dpi=300)\n",
    "#         print(f\"saved figure in \\n\\t{savefig_fn}\")\n",
    "#         plt.close()"
   ]
  },
  {
   "cell_type": "markdown",
   "metadata": {},
   "source": [
    "__Results__: \n",
    "- There apppears to be no dependence on A_{domain} for all parameters\n",
    "- There apppears to be no dependence on D_{spiral tips} for some parameters"
   ]
  },
  {
   "cell_type": "code",
   "execution_count": 12,
   "metadata": {
    "ExecuteTime": {
     "end_time": "2021-04-21T22:40:19.465774Z",
     "start_time": "2021-04-21T22:40:19.462210Z"
    }
   },
   "outputs": [
    {
     "data": {
      "text/plain": [
       "Index(['set_second', 'reflect', 'r', 'niter', 'kappa', 'N', 'L', 'Dt', 'D',\n",
       "       'CollRate', 'Dt_over_dt'],\n",
       "      dtype='object')"
      ]
     },
     "execution_count": 12,
     "metadata": {},
     "output_type": "execute_result"
    }
   ],
   "source": [
    "df.columns"
   ]
  },
  {
   "cell_type": "code",
   "execution_count": 13,
   "metadata": {
    "ExecuteTime": {
     "end_time": "2021-04-21T22:40:19.473941Z",
     "start_time": "2021-04-21T22:40:19.467243Z"
    }
   },
   "outputs": [],
   "source": [
    "def agg_over_A(r,D,kappa,Dt_over_dt=1.):\n",
    "    '''aggregate x,y values over A'''\n",
    "    xvl=[];yvl=[];\n",
    "    for L in L_values:\n",
    "        #get slice\n",
    "        query=(df.r==r)&(df.D==D)&(df.L==L)&(df.kappa==kappa)&(df.Dt_over_dt==Dt_over_dt)\n",
    "        dff=df[query].copy()#.drop(columns=['r','D','L','kappa'])\n",
    "#         dff=df[query].copy().drop(columns=['set_second', 'reflect', 'r', 'niter', 'kappa', 'L', 'Dt', 'D',\n",
    "#         'Dt_over_dt'])\n",
    "\n",
    "        if dff.size>0:\n",
    "            #compute x,y values\n",
    "            A=L**2\n",
    "            dfd=dff.groupby('N').CollRate.mean()\n",
    "#             dfd=dff.CollRate.mean()\n",
    "#             dfd.drop('set_second',inplace=True)\n",
    "            x_values=dfd.values\n",
    "            y_values=dfd.index.values\n",
    "#             x_values=np.array([eval(iv) for iv in dfd.index.values])/A\n",
    "#             y_values=dfd.values.copy()**-1/A\n",
    "            xvl.append(x_values)\n",
    "            yvl.append(y_values)\n",
    "    if len(xvl)==0:\n",
    "        return None,None\n",
    "    x_values=np.concatenate(xvl)\n",
    "    y_values=np.concatenate(yvl)\n",
    "    return x_values,y_values\n",
    "\n",
    "#         dfd=dff.describe().T.drop(columns=['count'])\n",
    "#         y_values=1/dfd['mean'].values.copy()/A\n",
    "#         dfd.reset_index(inplace=True,drop=True)\n",
    "#         dfd['N']=dfd.index.values+Nmin\n",
    "#         x_values=dfd.N.values/A"
   ]
  },
  {
   "cell_type": "code",
   "execution_count": 14,
   "metadata": {
    "ExecuteTime": {
     "end_time": "2021-04-21T22:40:19.481893Z",
     "start_time": "2021-04-21T22:40:19.475414Z"
    }
   },
   "outputs": [],
   "source": [
    "def agg_over_D(r,kappa):\n",
    "    '''aggregate over D'''\n",
    "    xvl=[];yvl=[];\n",
    "    for D in D_values:\n",
    "        x_values,y_values=agg_over_A(r,D,kappa)\n",
    "        if x_values is not None:\n",
    "            xvl.append(x_values)\n",
    "            yvl.append(y_values)\n",
    "    if len(xvl)==0:\n",
    "        return None,None\n",
    "    x_values=np.concatenate(xvl)\n",
    "    y_values=np.concatenate(yvl)\n",
    "    return x_values,y_values"
   ]
  },
  {
   "cell_type": "code",
   "execution_count": 15,
   "metadata": {
    "ExecuteTime": {
     "end_time": "2021-04-21T22:40:19.486825Z",
     "start_time": "2021-04-21T22:40:19.483246Z"
    }
   },
   "outputs": [],
   "source": [
    "# #simple test cases\n",
    "# x_values,y_values=agg_over_A(r=.5,D=0.5,kappa=1)\n",
    "# assert(not np.isnan(y_values).any())\n",
    "# x_values,y_values=agg_over_D(r=.5,kappa=1)\n",
    "# assert(not np.isnan(y_values).any())\n"
   ]
  },
  {
   "cell_type": "code",
   "execution_count": 16,
   "metadata": {
    "ExecuteTime": {
     "end_time": "2021-04-21T22:40:22.677896Z",
     "start_time": "2021-04-21T22:40:19.488189Z"
    }
   },
   "outputs": [
    {
     "name": "stdout",
     "output_type": "stream",
     "text": [
      "r=0.3, kappa=85\n"
     ]
    },
    {
     "data": {
      "image/png": "[encoded data removed]",
      "text/plain": [
       "<Figure size 576x432 with 1 Axes>"
      ]
     },
     "metadata": {
      "needs_background": "light"
     },
     "output_type": "display_data"
    }
   ],
   "source": [
    "#plot over D\n",
    "i,j=2,-6\n",
    "r=r_values[i];kappa=kappa_values[j];yscale=10**3\n",
    "print(f'r={r}, kappa={kappa}')\n",
    "yscale=10**3\n",
    "\n",
    "#plot the values\n",
    "figsize=(8,6)\n",
    "fontsize=18\n",
    "saving=True\n",
    "savefig_folder=f'{nb_dir}/../fig'\n",
    "savefig_fn=f'model_comparison_r_{r}_k_{kappa}.png'\n",
    "fig, ax = plt.subplots(ncols=1,figsize=figsize)# ax=axs[1]\n",
    "\n",
    "#plot up results from full simulation\n",
    "ax.scatter(x=lr.q.values,y=yscale*lr.w.values,alpha=0.3,label='Luo-Rudy')\n",
    "ax.scatter(x=fk.q.values,y=yscale*fk.w.values,alpha=0.3,label='Fenton-Karma')\n",
    "\n",
    "for D in D_values:#[0.2]:#:\n",
    "    x_values,y_values=agg_over_A(r,D,kappa)\n",
    "    if x_values is not None and x_values.shape[0]>0:\n",
    "        #plot x,y values\n",
    "        ax.scatter(x_values,y_values,label=f\"D={D:.3f}\",alpha=alpha)\n",
    "        if np.isnan(y_values).any():\n",
    "            print(f\"D={D}\")\n",
    "\n",
    "    \n",
    "ax.legend(loc='lower right')\n",
    "ax.set_xlim([1e-3,1e+8])\n",
    "ax.set_ylim([1e-6,1e+8])\n",
    "\n",
    "ax.set_yscale('log')\n",
    "ax.set_xscale('log')\n",
    "\n",
    "ax.set_xlabel(r'number density (cm$^{-2}$)', fontsize=fontsize)\n",
    "ax.set_ylabel(r'$W_{{-2}}/A$ (Hz cm$^{-2}$)', fontsize=fontsize)\n",
    "ax.tick_params(axis='both', which='major', labelsize=fontsize)\n",
    "ax.tick_params(axis='both', which='minor', labelsize=0)\n",
    "ax.legend(fontsize=fontsize-6,ncol=2)\n",
    "ax.set_title(f'r={r} cm, '+r'$\\kappa=$'+f'{kappa} Hz', fontsize=fontsize)\n",
    "\n",
    "fig.tight_layout()\n",
    "if not saving:\n",
    "    plt.show()\n",
    "else:\n",
    "    plt.tight_layout()\n",
    "    os.chdir(savefig_folder)\n",
    "    plt.savefig(savefig_fn, dpi=300)\n",
    "#         print(f\"saved figure in \\n\\t{savefig_fn}\")\n",
    "#     plt.close()"
   ]
  },
  {
   "cell_type": "code",
   "execution_count": 17,
   "metadata": {
    "ExecuteTime": {
     "end_time": "2021-04-21T22:40:22.682826Z",
     "start_time": "2021-04-21T22:40:22.679375Z"
    }
   },
   "outputs": [
    {
     "data": {
      "text/plain": [
       "'model_comparison_r_0.3_k_85.png'"
      ]
     },
     "execution_count": 17,
     "metadata": {},
     "output_type": "execute_result"
    }
   ],
   "source": [
    "savefig_fn"
   ]
  },
  {
   "cell_type": "code",
   "execution_count": 18,
   "metadata": {
    "ExecuteTime": {
     "end_time": "2021-04-21T22:40:22.691393Z",
     "start_time": "2021-04-21T22:40:22.684186Z"
    }
   },
   "outputs": [],
   "source": [
    "# #compute w_lr and w_fk using a linear regression of a log-log plot\n",
    "# # from lib.compute_slope import *\n",
    "# x_values,y_values=agg_over_A(r=0.2,D=.5,kappa=0.2)\n",
    "# x=x_values\n",
    "# y=y_values\n",
    "# dict_out=compute_95CI_ols(np.log(x),np.log(y))\n",
    "# dict_out"
   ]
  },
  {
   "cell_type": "code",
   "execution_count": 19,
   "metadata": {
    "ExecuteTime": {
     "end_time": "2021-04-21T22:40:22.696880Z",
     "start_time": "2021-04-21T22:40:22.692847Z"
    }
   },
   "outputs": [],
   "source": [
    "#TODO: filter to csv of slopes, Rsquared values and input parameters\n",
    "# TODO: determine Nmin from raw\n",
    "# Nmin=5#11.... Nmin=5 is currently ignored :(\n",
    "#TODO: make function that maps a log file to a dict_out with mean stopping time values\n"
   ]
  },
  {
   "cell_type": "code",
   "execution_count": 20,
   "metadata": {
    "ExecuteTime": {
     "end_time": "2021-04-21T22:50:38.496776Z",
     "start_time": "2021-04-21T22:40:22.698162Z"
    }
   },
   "outputs": [],
   "source": [
    "# yscale=10**3\n",
    "# for kappa in kappa_values:\n",
    "#     #plot over r holding kappa fixed\n",
    "#     #     i=2\n",
    "#     #     kappa=kappa_values[i];\n",
    "#     #     print(f'kappa={kappa}')\n",
    "\n",
    "#     #plot the values\n",
    "#     figsize=(8,6)\n",
    "#     fontsize=18\n",
    "#     saving=True\n",
    "#     savefig_folder=f'{nb_dir}/../fig'\n",
    "#     savefig_fn=f'ballistic_model_comparison_k_{kappa}.png'\n",
    "#     fig, ax = plt.subplots(ncols=1,figsize=figsize)# ax=axs[1]\n",
    "\n",
    "#     #plot up results from full simulation\n",
    "#     ax.scatter(x=lr.q.values,y=yscale*lr.w.values,alpha=0.3,c='C1',label='Luo-Rudy')\n",
    "#     ax.scatter(x=fk.q.values,y=yscale*fk.w.values,alpha=0.3,c='C0',label='Fenton-Karma')\n",
    "\n",
    "#     # for kappa in kappa_values:\n",
    "#     for r in r_values:\n",
    "#         x_values,y_values=agg_over_D(r,kappa)\n",
    "#         if x_values is not None:\n",
    "#             #plot x,y values\n",
    "#             ax.scatter(x_values,y_values,label=f\"r={r:.2f}\",alpha=alpha)\n",
    "\n",
    "            \n",
    "#     ax.legend(loc='lower right')\n",
    "\n",
    "#     # ax.set_xlim([0,1])\n",
    "#     # ax.set_ylim([0,1])\n",
    "\n",
    "#     ax.set_yscale('log')\n",
    "#     ax.set_xscale('log')\n",
    "#     ax.set_xlim([1e-3,1e+6])\n",
    "#     ax.set_ylim([1e-6,1e+6])\n",
    "\n",
    "#     ax.set_xlabel(r'number density (cm$^{-2}$)', fontsize=fontsize)\n",
    "#     ax.set_ylabel(r'$W_{{-2}}/A$ (Hz cm$^{-2}$)', fontsize=fontsize)\n",
    "#     ax.tick_params(axis='both', which='major', labelsize=fontsize)\n",
    "#     ax.tick_params(axis='both', which='minor', labelsize=0)\n",
    "#     ax.legend(fontsize=fontsize-6,ncol=2)\n",
    "#     ax.set_title(r'$\\kappa=$'+f'{kappa} Hz', fontsize=fontsize)\n",
    "\n",
    "#     fig.tight_layout()\n",
    "#     if not saving:\n",
    "#         plt.show()\n",
    "#     else:\n",
    "#         plt.tight_layout()\n",
    "#         os.chdir(savefig_folder)\n",
    "#         plt.savefig(savefig_fn, dpi=300)\n",
    "#     #         print(f\"saved figure in \\n\\t{savefig_fn}\")\n",
    "#         plt.close()"
   ]
  },
  {
   "cell_type": "code",
   "execution_count": 21,
   "metadata": {
    "ExecuteTime": {
     "end_time": "2021-04-21T23:01:04.543273Z",
     "start_time": "2021-04-21T22:50:38.499933Z"
    }
   },
   "outputs": [],
   "source": [
    "# # #plot over kappa holding r fixed\n",
    "# # i=2\n",
    "# # r=r_values[i];\n",
    "# # print(f'r={r}')\n",
    "# yscale=10**3\n",
    "# for r in r_values:\n",
    "#     #plot the values\n",
    "#     figsize=(8,6)\n",
    "#     fontsize=18\n",
    "#     saving=True\n",
    "#     savefig_folder=f'{nb_dir}/../fig'\n",
    "#     savefig_fn=f'model_comparison_r_{r}.png'\n",
    "#     fig, ax = plt.subplots(ncols=1,figsize=figsize)# ax=axs[1]\n",
    "\n",
    "#     #plot up results from full simulation\n",
    "#     ax.scatter(x=lr.q.values,y=yscale*lr.w.values,alpha=0.3,c='C1',label='Luo-Rudy')\n",
    "#     ax.scatter(x=fk.q.values,y=yscale*fk.w.values,alpha=0.3,c='C0',label='Fenton-Karma')\n",
    "\n",
    "#     for kappa in kappa_values:\n",
    "#         x_values,y_values=agg_over_D(r,kappa)\n",
    "#         if x_values is not None:\n",
    "#             #plot x,y values\n",
    "#             ax.scatter(x_values,y_values,label=f\"r={r:.2f}\",alpha=alpha)\n",
    "\n",
    "\n",
    "\n",
    "#     ax.legend(loc='lower right')\n",
    "\n",
    "#     # ax.set_xlim([0,1])\n",
    "#     # ax.set_ylim([0,1])\n",
    "\n",
    "#     ax.set_yscale('log')\n",
    "#     ax.set_xscale('log')\n",
    "#     ax.set_xlim([1e-3,1e+6])\n",
    "#     ax.set_ylim([1e-6,1e+6])\n",
    "#     ax.set_xlabel(r'number density (cm$^{-2}$)', fontsize=fontsize)\n",
    "#     ax.set_ylabel(r'$W_{{-2}}/A$ (Hz cm$^{-2}$)', fontsize=fontsize)\n",
    "#     ax.tick_params(axis='both', which='major', labelsize=fontsize)\n",
    "#     ax.tick_params(axis='both', which='minor', labelsize=0)\n",
    "#     ax.legend(fontsize=fontsize-6,ncol=2)\n",
    "#     ax.set_title(f'r={r} cm ', fontsize=fontsize)\n",
    "\n",
    "#     fig.tight_layout()\n",
    "#     if not saving:\n",
    "#         plt.show()\n",
    "#     else:\n",
    "#         plt.tight_layout()\n",
    "#         os.chdir(savefig_folder)\n",
    "#         plt.savefig(savefig_fn, dpi=300)\n",
    "#     #         print(f\"saved figure in \\n\\t{savefig_fn}\")\n",
    "#         plt.close()"
   ]
  },
  {
   "cell_type": "markdown",
   "metadata": {},
   "source": [
    "# comparing rmse at high densities\n",
    "compute w versus q and find r,kappa with smalles RMSE_lr,fk"
   ]
  },
  {
   "cell_type": "code",
   "execution_count": 22,
   "metadata": {
    "ExecuteTime": {
     "end_time": "2021-04-21T23:11:09.870568Z",
     "start_time": "2021-04-21T23:01:04.545578Z"
    }
   },
   "outputs": [
    {
     "name": "stdout",
     "output_type": "stream",
     "text": [
      "1694\n"
     ]
    }
   ],
   "source": [
    "#get df into the right schema\n",
    "#iterate over settings, counting the number of trials\n",
    "count=0\n",
    "dg_lst=[]\n",
    "for r in r_values:\n",
    "    for D in D_values:\n",
    "        for kappa in kappa_values:\n",
    "            count=count+1\n",
    "            xv,yv=agg_over_A(r,D,kappa)\n",
    "            if xv is not None:\n",
    "                dg = pd.DataFrame({'q':xv,'w':yv})\n",
    "                dg['r']=r\n",
    "                dg['D']=D\n",
    "                dg['kappa']=kappa\n",
    "                dg_lst.append(dg)\n",
    "print(count)"
   ]
  },
  {
   "cell_type": "code",
   "execution_count": 23,
   "metadata": {
    "ExecuteTime": {
     "end_time": "2021-04-21T23:11:09.873577Z",
     "start_time": "2021-04-21T23:11:09.871657Z"
    }
   },
   "outputs": [],
   "source": [
    "# def routine(item):\n",
    "#     r,D,kappa=item\n",
    "#     return PlotUnivCurve(r,D,kappa)\n",
    "\n",
    "# #run plotting in parallel\n",
    "# b = db.from_sequence(queue, npartitions=9).map(routine)\n",
    "# start = time.time()\n",
    "# retval = list(b)\n",
    "# print(f\"run time was {time.time()-start:.2f} seconds.\")\n",
    "# beep(10)"
   ]
  },
  {
   "cell_type": "code",
   "execution_count": 24,
   "metadata": {
    "ExecuteTime": {
     "end_time": "2021-04-21T23:11:09.953237Z",
     "start_time": "2021-04-21T23:11:09.874531Z"
    }
   },
   "outputs": [
    {
     "ename": "ValueError",
     "evalue": "No objects to concatenate",
     "output_type": "error",
     "traceback": [
      "\u001b[0;31m--------------------------------------------------------------------------\u001b[0m",
      "\u001b[0;31mValueError\u001b[0m                               Traceback (most recent call last)",
      "\u001b[0;32m<ipython-input-24-70df139c175a>\u001b[0m in \u001b[0;36m<module>\u001b[0;34m\u001b[0m\n\u001b[0;32m----> 1\u001b[0;31m \u001b[0mdg\u001b[0m\u001b[0;34m=\u001b[0m\u001b[0mpd\u001b[0m\u001b[0;34m.\u001b[0m\u001b[0mconcat\u001b[0m\u001b[0;34m(\u001b[0m\u001b[0mdg_lst\u001b[0m\u001b[0;34m)\u001b[0m\u001b[0;34m\u001b[0m\u001b[0;34m\u001b[0m\u001b[0m\n\u001b[0m\u001b[1;32m      2\u001b[0m \u001b[0mdg\u001b[0m\u001b[0;34m.\u001b[0m\u001b[0mhead\u001b[0m\u001b[0;34m(\u001b[0m\u001b[0;34m)\u001b[0m\u001b[0;34m\u001b[0m\u001b[0;34m\u001b[0m\u001b[0m\n",
      "\u001b[0;32m~/anaconda3/lib/python3.7/site-packages/pandas/core/reshape/concat.py\u001b[0m in \u001b[0;36mconcat\u001b[0;34m(objs, axis, join, ignore_index, keys, levels, names, verify_integrity, sort, copy)\u001b[0m\n\u001b[1;32m    279\u001b[0m         \u001b[0mverify_integrity\u001b[0m\u001b[0;34m=\u001b[0m\u001b[0mverify_integrity\u001b[0m\u001b[0;34m,\u001b[0m\u001b[0;34m\u001b[0m\u001b[0;34m\u001b[0m\u001b[0m\n\u001b[1;32m    280\u001b[0m         \u001b[0mcopy\u001b[0m\u001b[0;34m=\u001b[0m\u001b[0mcopy\u001b[0m\u001b[0;34m,\u001b[0m\u001b[0;34m\u001b[0m\u001b[0;34m\u001b[0m\u001b[0m\n\u001b[0;32m--> 281\u001b[0;31m         \u001b[0msort\u001b[0m\u001b[0;34m=\u001b[0m\u001b[0msort\u001b[0m\u001b[0;34m,\u001b[0m\u001b[0;34m\u001b[0m\u001b[0;34m\u001b[0m\u001b[0m\n\u001b[0m\u001b[1;32m    282\u001b[0m     )\n\u001b[1;32m    283\u001b[0m \u001b[0;34m\u001b[0m\u001b[0m\n",
      "\u001b[0;32m~/anaconda3/lib/python3.7/site-packages/pandas/core/reshape/concat.py\u001b[0m in \u001b[0;36m__init__\u001b[0;34m(self, objs, axis, join, keys, levels, names, ignore_index, verify_integrity, copy, sort)\u001b[0m\n\u001b[1;32m    327\u001b[0m \u001b[0;34m\u001b[0m\u001b[0m\n\u001b[1;32m    328\u001b[0m         \u001b[0;32mif\u001b[0m \u001b[0mlen\u001b[0m\u001b[0;34m(\u001b[0m\u001b[0mobjs\u001b[0m\u001b[0;34m)\u001b[0m \u001b[0;34m==\u001b[0m \u001b[0;36m0\u001b[0m\u001b[0;34m:\u001b[0m\u001b[0;34m\u001b[0m\u001b[0;34m\u001b[0m\u001b[0m\n\u001b[0;32m--> 329\u001b[0;31m             \u001b[0;32mraise\u001b[0m \u001b[0mValueError\u001b[0m\u001b[0;34m(\u001b[0m\u001b[0;34m\"No objects to concatenate\"\u001b[0m\u001b[0;34m)\u001b[0m\u001b[0;34m\u001b[0m\u001b[0;34m\u001b[0m\u001b[0m\n\u001b[0m\u001b[1;32m    330\u001b[0m \u001b[0;34m\u001b[0m\u001b[0m\n\u001b[1;32m    331\u001b[0m         \u001b[0;32mif\u001b[0m \u001b[0mkeys\u001b[0m \u001b[0;32mis\u001b[0m \u001b[0;32mNone\u001b[0m\u001b[0;34m:\u001b[0m\u001b[0;34m\u001b[0m\u001b[0;34m\u001b[0m\u001b[0m\n",
      "\u001b[0;31mValueError\u001b[0m: No objects to concatenate"
     ]
    }
   ],
   "source": [
    "dg=pd.concat(dg_lst)\n",
    "dg.head()"
   ]
  },
  {
   "cell_type": "code",
   "execution_count": null,
   "metadata": {
    "ExecuteTime": {
     "end_time": "2021-04-21T23:11:09.992374Z",
     "start_time": "2021-04-21T22:39:17.680Z"
    }
   },
   "outputs": [],
   "source": [
    "#compute w_lr and w_fk using a linear regression of a log-log plot\n",
    "# from lib.compute_slope import *\n",
    "yscale=10**3\n",
    "x=lr.q.values\n",
    "y=yscale*lr.w.values\n",
    "dict_out=compute_95CI_ols(np.log(x),np.log(y))\n",
    "dict_lr=dict_out.copy()\n",
    "#predict the values functionally over all q\n",
    "m=dict_out['m'];b=dict_out['b']\n",
    "q_foo = lambda q: m*q+b\n",
    "dg['w_lr']=np.exp(q_foo(np.log(dg['q'])))\n",
    "\n",
    "x=fk.q.values\n",
    "y=yscale*fk.w.values\n",
    "dict_out=compute_95CI_ols(np.log(x),np.log(y))\n",
    "dict_fk=dict_out.copy()\n",
    "#predict the values functionally over all q\n",
    "m=dict_out['m'];b=dict_out['b']\n",
    "q_foo = lambda q: m*q+b\n",
    "dg['w_fk']=np.exp(q_foo(np.log(dg['q'])))"
   ]
  },
  {
   "cell_type": "code",
   "execution_count": null,
   "metadata": {
    "ExecuteTime": {
     "end_time": "2021-04-21T23:11:09.993100Z",
     "start_time": "2021-04-21T22:39:17.684Z"
    }
   },
   "outputs": [],
   "source": [
    "#compute the square errors \n",
    "dg['se_w_fk']=(dg['w']-dg['w_fk'])**2\n",
    "dg['se_w_lr']=(dg['w']-dg['w_lr'])**2\n"
   ]
  },
  {
   "cell_type": "code",
   "execution_count": null,
   "metadata": {
    "ExecuteTime": {
     "end_time": "2021-04-21T23:11:09.993828Z",
     "start_time": "2021-04-21T22:39:17.687Z"
    }
   },
   "outputs": [],
   "source": [
    "dg_fn='w_vs_q_agg_over_A.csv'\n",
    "os.chdir(data_folder)\n",
    "dg.to_csv(dg_fn,index=False)"
   ]
  },
  {
   "cell_type": "code",
   "execution_count": null,
   "metadata": {
    "ExecuteTime": {
     "end_time": "2021-04-21T23:11:09.994479Z",
     "start_time": "2021-04-21T22:39:17.690Z"
    }
   },
   "outputs": [],
   "source": [
    "qmin=0.3;qmax=1.;\n",
    "#compute the root mean squared errors over various axes\n",
    "kappa_lst=[];r_lst=[];rmse_lr_lst=[];rmse_fk_lst=[];\n",
    "for r in r_values:\n",
    "    for kappa in kappa_values:\n",
    "#         print(f\"for r={r}, kappa={kappa},\")\n",
    "        query=(dg.r==r)&(dg.kappa==kappa)&(dg.q>qmin)&(dg.q<qmax)\n",
    "        qu=dg[query]\n",
    "        rmse_lr=np.sqrt(qu.se_w_lr.mean())\n",
    "        rmse_fk=np.sqrt(qu.se_w_fk.mean())\n",
    "#         print(f\"\\tRMSE = {rmse_lr:.6f} (LR) and RMSE = {rmse_fk:.6f} (FK)\")\n",
    "        r_lst.append(r)\n",
    "        kappa_lst.append(kappa)\n",
    "        rmse_lr_lst.append(rmse_lr)\n",
    "        rmse_fk_lst.append(rmse_fk)"
   ]
  },
  {
   "cell_type": "code",
   "execution_count": null,
   "metadata": {
    "ExecuteTime": {
     "end_time": "2021-04-21T23:11:09.995227Z",
     "start_time": "2021-04-21T22:39:17.694Z"
    }
   },
   "outputs": [],
   "source": [
    "dh=pd.DataFrame({\n",
    "    'r':r_lst,\n",
    "    'kappa':kappa_lst,\n",
    "    'rmse_lr':rmse_lr_lst,\n",
    "    'rmse_fk':rmse_fk_lst,\n",
    "    \n",
    "})"
   ]
  },
  {
   "cell_type": "code",
   "execution_count": null,
   "metadata": {
    "ExecuteTime": {
     "end_time": "2021-04-21T23:11:09.996114Z",
     "start_time": "2021-04-21T22:39:17.697Z"
    }
   },
   "outputs": [],
   "source": [
    "#and the top 5 matches for either model is... (FK)\n",
    "print(f\"The top 5 for the Fenton-Karma model:\")\n",
    "dh.sort_values(by='rmse_fk').head()"
   ]
  },
  {
   "cell_type": "code",
   "execution_count": null,
   "metadata": {
    "ExecuteTime": {
     "end_time": "2021-04-21T23:11:09.996876Z",
     "start_time": "2021-04-21T22:39:17.700Z"
    }
   },
   "outputs": [],
   "source": [
    "#plot over D the top 5 results for the FK model\n",
    "r=0.85;kappa=5;\n",
    "# r=0.6;kappa=10;\n",
    "# r=0.5;kappa=15;\n",
    "# r=0.4;kappa=25;\n",
    "# r=0.8;kappa=5;\n",
    "\n",
    "# r=0.2;kappa=100;\n",
    "yscale=10**3\n",
    "\n",
    "#plot the values\n",
    "figsize=(6,4)\n",
    "fontsize=18\n",
    "saving=True\n",
    "savefig_folder=f'{nb_dir}/../fig'\n",
    "savefig_fn=f'fk_model_comparison_r_{r}_k_{kappa}.png'\n",
    "fig, ax = plt.subplots(ncols=1,figsize=figsize)# ax=axs[1]\n",
    "\n",
    "#plot up results from full simulation\n",
    "# ax.scatter(x=lr.q.values,y=yscale*lr.w.values,alpha=0.3,label='Luo-Rudy')\n",
    "ax.scatter(x=fk.q.values,y=yscale*fk.w.values,alpha=0.3,label='Fenton-Karma')\n",
    "\n",
    "for D in [0.2,2]:#D_values:\n",
    "    x_values,y_values=agg_over_A(r,D,kappa)\n",
    "    #plot x,y values\n",
    "    ax.scatter(x_values,y_values,label=f\"D={D:.2f}\",alpha=alpha,s=10)\n",
    "\n",
    "    \n",
    "ax.legend(loc='lower right')\n",
    "\n",
    "# ax.set_xlim([0,1])\n",
    "# ax.set_ylim([0,1])\n",
    "\n",
    "ax.set_yscale('log')\n",
    "ax.set_xscale('log')\n",
    "# ax.set_xlim([1e-3,1e+6])\n",
    "# ax.set_ylim([1e-6,1e+6])\n",
    "\n",
    "ax.set_xlabel(r'number density (cm$^{-2}$)', fontsize=fontsize)\n",
    "ax.set_ylabel(r'$W_{{-2}}/A$ (Hz cm$^{-2}$)', fontsize=fontsize)\n",
    "ax.tick_params(axis='both', which='major', labelsize=fontsize)\n",
    "ax.tick_params(axis='both', which='minor', labelsize=0)\n",
    "ax.legend(fontsize=fontsize-2,ncol=1)\n",
    "ax.set_title(f'r={r} cm '+r'$\\kappa=$'+f'{kappa} Hz', fontsize=fontsize)\n",
    "\n",
    "fig.tight_layout()\n",
    "if not saving:\n",
    "    plt.show()\n",
    "else:\n",
    "    plt.tight_layout()\n",
    "    os.chdir(savefig_folder)\n",
    "    plt.savefig(savefig_fn, dpi=300)\n",
    "#         print(f\"saved figure in \\n\\t{savefig_fn}\")\n",
    "#         plt.close()"
   ]
  },
  {
   "cell_type": "code",
   "execution_count": null,
   "metadata": {},
   "outputs": [],
   "source": []
  },
  {
   "cell_type": "code",
   "execution_count": null,
   "metadata": {
    "ExecuteTime": {
     "end_time": "2021-04-21T23:11:09.997721Z",
     "start_time": "2021-04-21T22:39:17.705Z"
    }
   },
   "outputs": [],
   "source": [
    "#and the top 5 matches for either model is... (LR)\n",
    "print(f\"The top 5 for the Luo-Rudy model:\")\n",
    "dh.sort_values(by='rmse_lr').head()"
   ]
  },
  {
   "cell_type": "code",
   "execution_count": null,
   "metadata": {
    "ExecuteTime": {
     "end_time": "2021-04-21T23:11:09.998272Z",
     "start_time": "2021-04-21T22:39:17.709Z"
    }
   },
   "outputs": [],
   "source": [
    "#plot over D the top 5 results for the LR model\n",
    "r=0.8;kappa=20;\n",
    "r=0.65;kappa=30;\n",
    "r=0.6;kappa=35;\n",
    "r=0.90;kappa=15;\n",
    "r=0.95;kappa=15;\n",
    "\n",
    "# r=0.2;kappa=100;\n",
    "yscale=10**3\n",
    "\n",
    "#plot the values\n",
    "figsize=(6,4)\n",
    "fontsize=18\n",
    "saving=True\n",
    "savefig_folder=f'{nb_dir}/../fig'\n",
    "savefig_fn=f'lr_model_comparison_r_{r}_k_{kappa}.png'\n",
    "fig, ax = plt.subplots(ncols=1,figsize=figsize)# ax=axs[1]\n",
    "\n",
    "#plot up results from full simulation\n",
    "ax.scatter(x=lr.q.values,y=yscale*lr.w.values,alpha=0.3,label='Luo-Rudy')\n",
    "# ax.scatter(x=fk.q.values,y=yscale*fk.w.values,alpha=0.3,label='Fenton-Karma')\n",
    "\n",
    "for D in [0.2,2]:#D_values:\n",
    "    x_values,y_values=agg_over_A(r,D,kappa)\n",
    "    #plot x,y values\n",
    "    ax.scatter(x_values,y_values,label=f\"D={D:.2f}\",alpha=alpha,s=10)\n",
    "\n",
    "    \n",
    "ax.legend(loc='lower right')\n",
    "\n",
    "# ax.set_xlim([0,1])\n",
    "# ax.set_ylim([0,1])\n",
    "\n",
    "ax.set_yscale('log')\n",
    "ax.set_xscale('log')\n",
    "# ax.set_xlim([1e-3,1e+6])\n",
    "# ax.set_ylim([1e-6,1e+6])\n",
    "\n",
    "ax.set_xlabel(r'number density (cm$^{-2}$)', fontsize=fontsize)\n",
    "ax.set_ylabel(r'$W_{{-2}}/A$ (Hz cm$^{-2}$)', fontsize=fontsize)\n",
    "ax.tick_params(axis='both', which='major', labelsize=fontsize)\n",
    "ax.tick_params(axis='both', which='minor', labelsize=0)\n",
    "ax.legend(fontsize=fontsize-2,ncol=1)\n",
    "ax.set_title(f'r={r} cm '+r'$\\kappa=$'+f'{kappa} Hz', fontsize=fontsize)\n",
    "\n",
    "fig.tight_layout()\n",
    "if not saving:\n",
    "    plt.show()\n",
    "else:\n",
    "    plt.tight_layout()\n",
    "    os.chdir(savefig_folder)\n",
    "    plt.savefig(savefig_fn, dpi=300)\n",
    "#         print(f\"saved figure in \\n\\t{savefig_fn}\")\n",
    "#         plt.close()"
   ]
  },
  {
   "cell_type": "code",
   "execution_count": null,
   "metadata": {
    "ExecuteTime": {
     "end_time": "2021-04-21T23:11:09.999046Z",
     "start_time": "2021-04-21T22:39:17.714Z"
    }
   },
   "outputs": [],
   "source": [
    "#try some root finding for mse_fk,lr(r,k) for D = 2.0 fixed\n",
    "#compute the root mean squared errors over various axes\n",
    "kappa_lst=[];r_lst=[];rmse_lr_lst=[];rmse_fk_lst=[];\n",
    "for r in r_values:\n",
    "    for kappa in kappa_values:\n",
    "#         print(f\"for r={r}, kappa={kappa},\")\n",
    "        query=(dg.r==r)&(dg.kappa==kappa)&(dg.D==2.0)\n",
    "        qu=dg[query]\n",
    "        rmse_lr=np.sqrt(qu.se_w_lr.mean())\n",
    "        rmse_fk=np.sqrt(qu.se_w_fk.mean())\n",
    "#         print(f\"\\tRMSE = {rmse_lr:.6f} (LR) and RMSE = {rmse_fk:.6f} (FK)\")\n",
    "        r_lst.append(r)\n",
    "        kappa_lst.append(kappa)\n",
    "        rmse_lr_lst.append(rmse_lr)\n",
    "        rmse_fk_lst.append(rmse_fk)"
   ]
  },
  {
   "cell_type": "code",
   "execution_count": null,
   "metadata": {
    "ExecuteTime": {
     "end_time": "2021-04-21T23:11:09.999792Z",
     "start_time": "2021-04-21T22:39:17.719Z"
    }
   },
   "outputs": [],
   "source": [
    "beep(10)"
   ]
  },
  {
   "cell_type": "code",
   "execution_count": null,
   "metadata": {
    "ExecuteTime": {
     "end_time": "2021-04-21T23:11:10.000456Z",
     "start_time": "2021-04-21T22:39:17.723Z"
    }
   },
   "outputs": [],
   "source": [
    "\n",
    "dh_fn='rmse_by_kappa_r_agg_over_A_D.csv'\n",
    "os.chdir(data_folder)\n",
    "dh.sort_values(by='rmse_lr').to_csv(dh_fn,index=False)"
   ]
  },
  {
   "cell_type": "code",
   "execution_count": null,
   "metadata": {
    "ExecuteTime": {
     "end_time": "2021-04-06T15:36:47.727056Z",
     "start_time": "2021-04-06T15:36:47.724233Z"
    }
   },
   "outputs": [],
   "source": []
  },
  {
   "cell_type": "code",
   "execution_count": null,
   "metadata": {
    "ExecuteTime": {
     "end_time": "2021-04-21T23:11:10.000946Z",
     "start_time": "2021-04-21T22:39:17.728Z"
    }
   },
   "outputs": [],
   "source": [
    "#compute w_lr and w_fk using a linear regression of a log-log plot\n",
    "# from lib.compute_slope import *\n",
    "yscale=10**3\n",
    "query=fk.q>qmin\n",
    "x=fk[query].q.values\n",
    "y=yscale*fk[query].w.values\n",
    "dict_out=compute_95CI_ols(np.log(x),np.log(y))\n",
    "dict_out"
   ]
  },
  {
   "cell_type": "code",
   "execution_count": null,
   "metadata": {
    "ExecuteTime": {
     "end_time": "2021-04-21T23:11:10.001604Z",
     "start_time": "2021-04-21T22:39:17.732Z"
    }
   },
   "outputs": [],
   "source": [
    "#compute w_lr and w_fk using a linear regression of a log-log plot\n",
    "# from lib.compute_slope import *\n",
    "yscale=10**3\n",
    "query=lr.q>qmin\n",
    "x=lr[query].q.values\n",
    "y=yscale*lr[query].w.values\n",
    "dict_out=compute_95CI_ols(np.log(x),np.log(y))\n",
    "dict_out"
   ]
  },
  {
   "cell_type": "markdown",
   "metadata": {},
   "source": [
    "# comparing/fitting slopes at high densities\n",
    "-TODO: plot lr and fk in excel with lines and equations shown on log log plot\n"
   ]
  },
  {
   "cell_type": "code",
   "execution_count": null,
   "metadata": {
    "ExecuteTime": {
     "end_time": "2021-04-21T23:11:10.002403Z",
     "start_time": "2021-04-21T22:39:17.736Z"
    }
   },
   "outputs": [],
   "source": [
    "#DONE: save dg and dh as csv\n",
    "#TODO: save lr and fk as csv\n",
    "#TODO: plot lr and fk in excel with lines and equations shown on log log plot\n",
    "\n",
    "#TODO: compute slope of each parameter setting in the range [qmin,qmax]\n",
    "#TODO: find parameter settings that match in slope and have low rmse for lr or fk\n",
    "#TODO: start simulation on those settings with a wide range of number densities for each promising r,D,kappa item\n",
    "\n",
    "# TODO: collect results in one page .pdf\n",
    "#   - effect of increasing r\n",
    "#   - effect of increasing kappa\n",
    "#   - effect on increasing D at low densities\n",
    "#   - simple way to scale r,D,kappa onto the same axis?"
   ]
  },
  {
   "cell_type": "markdown",
   "metadata": {},
   "source": [
    "# simple way to scale r,D,kappa onto the same axis for d~unity"
   ]
  },
  {
   "cell_type": "code",
   "execution_count": null,
   "metadata": {
    "ExecuteTime": {
     "end_time": "2021-04-21T23:11:10.003042Z",
     "start_time": "2021-04-21T22:39:17.741Z"
    }
   },
   "outputs": [],
   "source": [
    "os.chdir(data_folder)\n",
    "dg_fn='w_vs_q_agg_over_A.csv'\n",
    "dg=pd.read_csv(dg_fn)"
   ]
  },
  {
   "cell_type": "code",
   "execution_count": null,
   "metadata": {
    "ExecuteTime": {
     "end_time": "2021-04-21T23:11:10.003661Z",
     "start_time": "2021-04-21T22:39:17.744Z"
    }
   },
   "outputs": [],
   "source": [
    "dg.head()"
   ]
  },
  {
   "cell_type": "code",
   "execution_count": null,
   "metadata": {
    "ExecuteTime": {
     "end_time": "2021-04-21T23:11:10.004264Z",
     "start_time": "2021-04-21T22:39:17.748Z"
    }
   },
   "outputs": [],
   "source": [
    "dg['d']=np.pi*dg.r**2*dg.q\n",
    "dg['u']=dg.w/dg.kappa*np.pi*dg.r**2\n",
    "dg['c']=1/dg.D*(np.pi*dg.r**2*dg.kappa)"
   ]
  },
  {
   "cell_type": "code",
   "execution_count": null,
   "metadata": {
    "ExecuteTime": {
     "end_time": "2021-04-21T23:11:10.005084Z",
     "start_time": "2021-04-21T22:39:17.752Z"
    }
   },
   "outputs": [],
   "source": [
    "x_values=dg.d.values\n",
    "y_values=dg.u.values\n",
    "c_values=dg.c.values\n",
    "\n",
    "#plot the values\n",
    "figsize=(6,5)\n",
    "fontsize=18\n",
    "saving=False\n",
    "savefig_folder=f'{nb_dir}/../fig'\n",
    "savefig_fn=f'univ_curve_bgmc.png'\n",
    "fig, ax = plt.subplots(ncols=1,figsize=figsize)# ax=axs[1]\n",
    "\n",
    "ax.scatter(x_values,y_values,alpha=0.1,c=c_values, cmap='Reds',s=5)\n",
    "\n",
    "# ax.legend(loc='lower right')\n",
    "ax.set_xlim([1e-4,1e+8])\n",
    "ax.set_ylim([1e-6,1e+8])\n",
    "\n",
    "ax.set_yscale('log')\n",
    "ax.set_xscale('log')\n",
    "\n",
    "ax.set_xlabel(r'd', fontsize=fontsize)\n",
    "# ax.set_ylabel(r'$W_{{-2}}/A$ (Hz cm$^{-2}$)', fontsize=fontsize)\n",
    "ax.tick_params(axis='both', which='major', labelsize=fontsize)\n",
    "ax.tick_params(axis='both', which='minor', labelsize=0)\n",
    "# ax.legend(fontsize=fontsize-6,ncol=2)\n",
    "# ax.set_title(f'r={r} cm, '+r'$\\kappa=$'+f'{kappa} Hz', fontsize=fontsize)\n",
    "\n",
    "fig.tight_layout()\n",
    "if not saving:\n",
    "    plt.show()\n",
    "else:\n",
    "    plt.tight_layout()\n",
    "    os.chdir(savefig_folder)\n",
    "    plt.savefig(savefig_fn, dpi=300)\n",
    "#         print(f\"saved figure in \\n\\t{savefig_fn}\")\n",
    "#     plt.close()"
   ]
  },
  {
   "cell_type": "markdown",
   "metadata": {},
   "source": [
    "# computing mean values from merged cloud output"
   ]
  },
  {
   "cell_type": "code",
   "execution_count": null,
   "metadata": {
    "ExecuteTime": {
     "end_time": "2021-04-21T23:11:10.005726Z",
     "start_time": "2021-04-21T22:39:17.756Z"
    }
   },
   "outputs": [],
   "source": [
    "#get df into the right schema\n",
    "#iterate over settings, counting the number of trials\n",
    "count=0\n",
    "df_mean_lst=[]\n",
    "for r in r_values:\n",
    "    for D in D_values:\n",
    "        for kappa in kappa_values:\n",
    "            for L in L_values:\n",
    "                #get slice\n",
    "                query=(df.r==r)&(df.D==D)&(df.L==L)&(df.kappa==kappa)\n",
    "                dff=df[query].copy().drop(columns=['r','D','L','kappa'])\n",
    "                if dff.size>0:\n",
    "                    #compute x,y values\n",
    "                    A=L**2\n",
    "                    dfd=dff.mean()\n",
    "                    xv=np.array([eval(iv) for iv in dfd.index.values])/A\n",
    "                    yv=dfd.values.copy()**-1/A\n",
    "                    if xv is not None:\n",
    "                        df_mean = pd.DataFrame({'q':xv,'w':yv})\n",
    "                        df_mean['A']=A\n",
    "                        df_mean['r']=r\n",
    "                        df_mean['D']=D\n",
    "                        df_mean['kappa']=kappa\n",
    "                        df_mean_lst.append(df_mean)\n",
    "                        count=count+1\n",
    "print(count)\n",
    "df_mean=pd.concat(df_mean_lst)"
   ]
  },
  {
   "cell_type": "code",
   "execution_count": null,
   "metadata": {
    "ExecuteTime": {
     "end_time": "2021-04-21T23:11:10.006334Z",
     "start_time": "2021-04-21T22:39:17.760Z"
    }
   },
   "outputs": [],
   "source": [
    "dfm_fn='df_mean_run_6.csv'\n",
    "# dfm_fn='df_mean_runs_1_to_3.csv'\n",
    "os.chdir(data_folder)\n",
    "df_mean.to_csv(dfm_fn,index=False)"
   ]
  },
  {
   "cell_type": "markdown",
   "metadata": {},
   "source": [
    "# visualizing first order universal curve"
   ]
  },
  {
   "cell_type": "code",
   "execution_count": null,
   "metadata": {
    "ExecuteTime": {
     "end_time": "2021-04-21T23:11:10.007019Z",
     "start_time": "2021-04-21T22:39:17.765Z"
    }
   },
   "outputs": [],
   "source": [
    "os.chdir(data_folder)\n",
    "dg_fn='df_mean_run_6.csv'\n",
    "# dg_fn='df_mean_runs_1_to_3.csv'\n",
    "dg=pd.read_csv(dg_fn)"
   ]
  },
  {
   "cell_type": "code",
   "execution_count": null,
   "metadata": {
    "ExecuteTime": {
     "end_time": "2021-04-21T23:11:10.007707Z",
     "start_time": "2021-04-21T22:39:17.768Z"
    }
   },
   "outputs": [],
   "source": [
    "dg['d']=np.pi*dg.r**2*dg.q\n",
    "dg['u']=dg.w/dg.kappa*np.pi*dg.r**2\n",
    "# dg['c']=dg.D/(dg.kappa)/dg.A\n",
    "dg['c']=dg.A"
   ]
  },
  {
   "cell_type": "code",
   "execution_count": null,
   "metadata": {
    "ExecuteTime": {
     "end_time": "2021-04-21T23:11:10.008343Z",
     "start_time": "2021-04-21T22:39:17.772Z"
    }
   },
   "outputs": [],
   "source": [
    "query=(dg.d>=1)&(dg.d<=3)\n",
    "x=dg[query].d.values\n",
    "y=dg[query].u.values\n",
    "dict_out=compute_95CI_ols(np.log(x),np.log(y))\n",
    "dict_out"
   ]
  },
  {
   "cell_type": "code",
   "execution_count": null,
   "metadata": {
    "ExecuteTime": {
     "end_time": "2021-04-21T23:11:10.008877Z",
     "start_time": "2021-04-21T22:39:17.776Z"
    }
   },
   "outputs": [],
   "source": [
    "# generate linear data\n",
    "ld_values=np.linspace(-10,10,81)\n",
    "lu_values=dict_out['m']*ld_values + dict_out['b']\n",
    "# ld_values"
   ]
  },
  {
   "cell_type": "code",
   "execution_count": null,
   "metadata": {
    "ExecuteTime": {
     "end_time": "2021-04-21T23:11:10.009551Z",
     "start_time": "2021-04-21T22:39:17.780Z"
    }
   },
   "outputs": [],
   "source": [
    "eqn_text=u'$\\log(u)=2.054(2)\\;\\log(d)$\\n\\t\\t$- 0.698(1)$\\n\\t\\t$R^2=0.993$'"
   ]
  },
  {
   "cell_type": "code",
   "execution_count": null,
   "metadata": {
    "ExecuteTime": {
     "end_time": "2021-04-21T23:11:10.010174Z",
     "start_time": "2021-04-21T22:39:17.784Z"
    }
   },
   "outputs": [],
   "source": [
    "x_values=dg.d.values\n",
    "y_values=dg.u.values\n",
    "c_values=np.log(dg.c.values)\n",
    "\n",
    "#plot the values\n",
    "figsize=(7,7)\n",
    "fontsize=20\n",
    "saving=True\n",
    "savefig_folder=f'{nb_dir}/../fig'\n",
    "savefig_fn=f'univ_curve_bgmc_first_order.png'\n",
    "fig, ax = plt.subplots(ncols=1,figsize=figsize)# ax=axs[1]\n",
    "\n",
    "#plot axes\n",
    "ax.plot(np.exp(ld_values),1+0*np.exp(lu_values),'--',c='k',lw=3,alpha=.5,label='x axis')\n",
    "ax.plot(1+0*np.exp(ld_values),np.exp(lu_values),'--',c='k',lw=3,alpha=.5,label='y axis')\n",
    "\n",
    "#plot results\n",
    "ax.scatter(x_values,y_values,alpha=0.05,c=c_values, cmap='Blues',s=1,label='simulation')\n",
    "ax.plot(np.exp(ld_values),np.exp(lu_values),c='black',lw=3,alpha=.8,label='linear fit')\n",
    "\n",
    "# ax.legend(loc='lower right')\n",
    "ax.set_xlim([1e-4,1e+4])\n",
    "ax.set_ylim([1e-8,1e+8])\n",
    "\n",
    "ax.set_yscale('log')\n",
    "ax.set_xscale('log')\n",
    "\n",
    "ax.set_ylabel(r'u',fontsize=fontsize)\n",
    "ax.set_xlabel(r'd', fontsize=fontsize)\n",
    "# ax.set_ylabel(r'$W_{{-2}}/A$ (Hz cm$^{-2}$)', fontsize=fontsize)\n",
    "ax.tick_params(axis='both', which='major', labelsize=fontsize)\n",
    "ax.tick_params(axis='both', which='minor', labelsize=0)\n",
    "# ax.legend(fontsize=fontsize-6,ncol=2)\n",
    "# ax.set_title(f'r={r} cm, '+r'$\\kappa=$'+f'{kappa} Hz', fontsize=fontsize)\n",
    "\n",
    "ax.annotate(eqn_text, xy=(0.8, 1.1), xytext=(.0005, 100),fontsize=fontsize-8,\n",
    "            arrowprops=dict(facecolor='white', shrink=1.0,edgecolor='white'),\n",
    "            )\n",
    "\n",
    "fig.tight_layout()\n",
    "if not saving:\n",
    "    plt.show()\n",
    "else:\n",
    "    plt.tight_layout()\n",
    "    os.chdir(savefig_folder)\n",
    "    plt.savefig(savefig_fn, dpi=300)\n",
    "#         print(f\"saved figure in \\n\\t{savefig_fn}\")\n",
    "#     plt.close()"
   ]
  },
  {
   "cell_type": "code",
   "execution_count": null,
   "metadata": {
    "ExecuteTime": {
     "end_time": "2021-04-21T23:11:10.010791Z",
     "start_time": "2021-04-21T22:39:17.788Z"
    }
   },
   "outputs": [],
   "source": [
    "# DONE: compute slope of ^this curve near the origin\n",
    "# DONE: plot ^that line and annotate the equation\n",
    "print((np.exp(-0.697),np.exp(-0.698),np.exp(-0.699)))"
   ]
  },
  {
   "cell_type": "markdown",
   "metadata": {},
   "source": [
    "$$\n",
    "d =\\frac{N\\pi r^2}{A},\\quad u=\\frac{W_{-2}\\pi r^2}{\\kappa A}\n",
    "$$"
   ]
  },
  {
   "cell_type": "markdown",
   "metadata": {},
   "source": [
    "__Corollary__<br>\n",
    " We observe that $m=2.054(2)$ and $b=0.698(1)$ for $d\\in[1,3]$ in the equation\n",
    "$$\\log(u)=m\\log(d)-b.$$\n",
    " \n",
    "<!-- $$\\log(u)=\\log(d^m)-\\log(e^b)$$\n",
    "$$\\log(u)=\\log(d^me^{-b})$$\n",
    "$$u=d^me^{-b}$$\n",
    " -->\n",
    "Substituting,\n",
    "\n",
    "$$\n",
    "\\frac{W_{-2}\\pi r^2}{\\kappa A} = e^{-b}\\Big(\\frac{N\\pi r^2}{A}\\Big)^m\n",
    "$$\n",
    "\n",
    "Noting $e^{-b}=0.4975(5)\\approx1/2$ and $m=2.054(2)\\approx 2$,<br>\n",
    "we may approximate for $d\\sim 1$,\n",
    "\n",
    "$$\n",
    "\\frac{W_{-2}\\pi r^2}{\\kappa A} \\approx \\frac{1}{2}\\Big(\\frac{N\\pi r^2}{A}\\Big)^2\n",
    "$$\n",
    "Suggesting\n",
    "$$\n",
    "W_{-2}\\approx \\frac{\\kappa\\pi r^2}{2A} N^2\n",
    "$$\n",
    "\n",
    "Or for $w=W_{-2}/A$ and $q=N/A$,\n",
    "\n",
    "$$\n",
    "w\\approx \\frac{\\kappa\\pi r^2}{2} q^2\n",
    "$$\n",
    "\n",
    "Suggesting the exponential of the y-intercept of the log(w)-log(q) plot is approximately $B\\equiv\\frac{\\kappa\\pi r^2}{2}$.\n",
    "\n",
    "\n",
    "\n"
   ]
  },
  {
   "cell_type": "markdown",
   "metadata": {},
   "source": [
    "dudududu"
   ]
  },
  {
   "cell_type": "code",
   "execution_count": null,
   "metadata": {
    "ExecuteTime": {
     "end_time": "2021-04-21T23:11:10.011363Z",
     "start_time": "2021-04-21T22:39:17.793Z"
    }
   },
   "outputs": [],
   "source": [
    "#compute w_lr and w_fk using a linear regression of a log-log plot\n",
    "yscale=10**3\n",
    "query=fk.q>0.3\n",
    "x=fk[query].q.values\n",
    "y=yscale*fk[query].w.values\n",
    "dict_out=compute_95CI_ols(np.log(x),np.log(y))\n",
    "dict_out"
   ]
  },
  {
   "cell_type": "code",
   "execution_count": null,
   "metadata": {
    "ExecuteTime": {
     "end_time": "2021-04-21T23:11:10.012220Z",
     "start_time": "2021-04-21T22:39:17.798Z"
    }
   },
   "outputs": [],
   "source": [
    "#compute w_lr and w_fk using a linear regression of a log-log plot\n",
    "yscale=10**3\n",
    "query=lr.q>0.3\n",
    "x=lr[query].q.values\n",
    "y=yscale*lr[query].w.values\n",
    "dict_out=compute_95CI_ols(np.log(x),np.log(y))\n",
    "dict_out"
   ]
  },
  {
   "cell_type": "code",
   "execution_count": null,
   "metadata": {
    "ExecuteTime": {
     "end_time": "2021-04-21T23:11:10.012903Z",
     "start_time": "2021-04-21T22:39:17.802Z"
    }
   },
   "outputs": [],
   "source": [
    "print((np.exp(1.7),np.exp(1.73),np.exp(1.76)))\n",
    "print((np.exp(2.72-.07),np.exp(2.72),np.exp(2.72+0.07)))"
   ]
  },
  {
   "cell_type": "markdown",
   "metadata": {},
   "source": [
    "The death rate for the Fenton-Karma model near $d\\sim1$ has $m=1.98(4)\\approx 2$ and should approximately support the relation $e^{1.73(3)}= 5.6(2) \\text{cm}^2/\\text{s} \\approx B=\\frac{1}{2}\\kappa \\pi r^2$.\n",
    "\n",
    "The death rate for the Luo-Rudy model near $d\\sim1$ has $m=1.51(7)\\approx 3/2$ and shouldn't approximately support the relation $e^{2.72(7)}=14\\pm1 \\text{cm}^2/\\text{s}\\approx B=\\frac{1}{2}\\kappa \\pi r^2$.\n"
   ]
  },
  {
   "cell_type": "code",
   "execution_count": null,
   "metadata": {
    "ExecuteTime": {
     "end_time": "2021-04-21T23:11:10.013779Z",
     "start_time": "2021-04-21T22:39:17.806Z"
    }
   },
   "outputs": [],
   "source": [
    "x_values=dg.d.values\n",
    "y_values=dg.u.values\n",
    "c_values=np.log(dg.c.values)\n",
    "\n",
    "#plot the values\n",
    "figsize=(7,7)\n",
    "fontsize=20\n",
    "saving=True\n",
    "savefig_folder=f'{nb_dir}/../fig'\n",
    "savefig_fn=f'univ_curve_bgmc_first_order_zoomed.png'\n",
    "fig, ax = plt.subplots(ncols=1,figsize=figsize)# ax=axs[1]\n",
    "\n",
    "#plot axes\n",
    "ax.plot(np.exp(ld_values),1+0*np.exp(lu_values),'--',c='k',lw=3,alpha=.5,label='x axis')\n",
    "ax.plot(1+0*np.exp(ld_values),np.exp(lu_values),'--',c='k',lw=3,alpha=.5,label='y axis')\n",
    "\n",
    "#plot results\n",
    "ax.scatter(x_values,y_values,alpha=0.15,c=c_values, cmap='Blues',s=5,label='simulation')\n",
    "ax.plot(np.exp(ld_values),np.exp(lu_values),c='black',lw=3,alpha=.8,label='linear fit')\n",
    "\n",
    "# ax.legend(loc='lower right')\n",
    "ax.set_xlim([1e-1,1e+1])\n",
    "ax.set_ylim([1e-5,1e+3])\n",
    "\n",
    "ax.set_yscale('log')\n",
    "ax.set_xscale('log')\n",
    "\n",
    "ax.set_ylabel(r'u',fontsize=fontsize)\n",
    "ax.set_xlabel(r'd', fontsize=fontsize)\n",
    "# ax.set_ylabel(r'$W_{{-2}}/A$ (Hz cm$^{-2}$)', fontsize=fontsize)\n",
    "ax.tick_params(axis='both', which='major', labelsize=fontsize)\n",
    "ax.tick_params(axis='both', which='minor', labelsize=0)\n",
    "# ax.legend(fontsize=fontsize-6,ncol=2)\n",
    "# ax.set_title(f'r={r} cm, '+r'$\\kappa=$'+f'{kappa} Hz', fontsize=fontsize)\n",
    "\n",
    "ax.annotate(eqn_text, xy=(0.9, 1.1), xytext=(0.15, 10),fontsize=fontsize-8,\n",
    "            arrowprops=dict(facecolor='white', shrink=1.0, edgecolor='white'),\n",
    "            )\n",
    "\n",
    "fig.tight_layout()\n",
    "if not saving:\n",
    "    plt.show()\n",
    "else:\n",
    "    plt.tight_layout()\n",
    "    os.chdir(savefig_folder)\n",
    "    plt.savefig(savefig_fn, dpi=300)\n",
    "#         print(f\"saved figure in \\n\\t{savefig_fn}\")\n",
    "#     plt.close()"
   ]
  },
  {
   "cell_type": "code",
   "execution_count": null,
   "metadata": {
    "ExecuteTime": {
     "end_time": "2021-04-21T23:11:10.014543Z",
     "start_time": "2021-04-21T22:39:17.811Z"
    }
   },
   "outputs": [],
   "source": [
    "#TODO: test compute b for 5 highest scoring simulations for fk model\n",
    "calc_b = lambda r,k:0.5*k*np.pi*r**2\n",
    "print('B for 5 highest scoring simulations for FK model:')\n",
    "print(calc_b(.6,10))\n",
    "print(calc_b(.85,5))\n",
    "print(calc_b(.5,15))\n",
    "print(calc_b(.4,25))\n",
    "print(calc_b(.8,5))\n",
    "\n",
    "print(f\"the predicted B value for the FK model is:\")\n",
    "print(np.exp(1.7276866248433098))"
   ]
  },
  {
   "cell_type": "code",
   "execution_count": null,
   "metadata": {
    "ExecuteTime": {
     "end_time": "2021-04-21T23:11:10.015175Z",
     "start_time": "2021-04-21T22:39:17.815Z"
    }
   },
   "outputs": [],
   "source": [
    "print('B for 5 highest scoring simulations for LR model:')\n",
    "print(calc_b(.8,20))\n",
    "print(calc_b(.65,30))\n",
    "print(calc_b(.6,35))\n",
    "print(calc_b(.9,15))\n",
    "print(calc_b(.95,15))\n",
    "print(f\"the predicted B value for the LR model is:\")\n",
    "print(np.exp(2.718534204162766))"
   ]
  },
  {
   "cell_type": "code",
   "execution_count": null,
   "metadata": {},
   "outputs": [],
   "source": []
  },
  {
   "cell_type": "markdown",
   "metadata": {},
   "source": [
    "# TODO(later):  search for higher order universal curve for d far from unity\n"
   ]
  },
  {
   "cell_type": "code",
   "execution_count": null,
   "metadata": {
    "ExecuteTime": {
     "end_time": "2021-04-21T23:11:10.015807Z",
     "start_time": "2021-04-21T22:39:17.821Z"
    }
   },
   "outputs": [],
   "source": [
    "dg['d']=np.pi*dg.r**2*dg.q\n",
    "dg['u']=dg.w/dg.kappa*np.pi*dg.r**2\n",
    "dg['c']=dg.D/(dg.A*dg.kappa)\n",
    "# dg['c']=dg.A#/(np.pi*dg.r**2)\n",
    "# dg['c']=dg.A\n",
    "\n",
    "x_values=np.log(dg.d.values)\n",
    "y_values=np.log(dg.u.values)\n",
    "c_values=np.log(dg.c.values)\n",
    "\n",
    "y_values=y_values - (x_values**1)/(c_values) #+ x_values*c_values**(1)\n",
    "# x_values=x_values + x_values*(c_values**1)\n",
    "\n",
    "#plot the values\n",
    "figsize=(6,5)\n",
    "fontsize=18\n",
    "saving=False\n",
    "savefig_folder=f'{nb_dir}/../fig'\n",
    "savefig_fn=f'univ_curve_bgmc_higher_order.png'\n",
    "fig, ax = plt.subplots(ncols=1,figsize=figsize)# ax=axs[1]\n",
    "\n",
    "ax.scatter(x_values,y_values,alpha=0.1,c=c_values, cmap='Reds',s=5)\n",
    "\n",
    "# # ax.legend(loc='lower right')\n",
    "ax.set_xlim([-2,2])\n",
    "ax.set_ylim([-10,10])\n",
    "\n",
    "# ax.set_yscale('log')\n",
    "# ax.set_xscale('log')\n",
    "\n",
    "ax.set_xlabel(r'log(d)', fontsize=fontsize)\n",
    "ax.set_ylabel(r'log(u`)',fontsize=fontsize)\n",
    "ax.tick_params(axis='both', which='major', labelsize=fontsize)\n",
    "ax.tick_params(axis='both', which='minor', labelsize=0)\n",
    "# ax.legend(fontsize=fontsize-6,ncol=2)\n",
    "# ax.set_title(f'r={r} cm, '+r'$\\kappa=$'+f'{kappa} Hz', fontsize=fontsize)\n",
    "\n",
    "fig.tight_layout()\n",
    "if not saving:\n",
    "    plt.show()\n",
    "else:\n",
    "    plt.tight_layout()\n",
    "    os.chdir(savefig_folder)\n",
    "    plt.savefig(savefig_fn, dpi=300)\n",
    "#         print(f\"saved figure in \\n\\t{savefig_fn}\")\n",
    "#     plt.close()"
   ]
  },
  {
   "cell_type": "markdown",
   "metadata": {},
   "source": [
    "# plot lr,fk curves with linear fits annotated"
   ]
  },
  {
   "cell_type": "code",
   "execution_count": null,
   "metadata": {
    "ExecuteTime": {
     "end_time": "2021-04-21T23:11:10.016607Z",
     "start_time": "2021-04-21T22:39:17.825Z"
    }
   },
   "outputs": [],
   "source": [
    "#compute w_lr and w_fk using a linear regression of a log-log plot\n",
    "yscale=10**3\n",
    "query=fk.q>0.3\n",
    "x=fk[query].q.values\n",
    "y=yscale*fk[query].w.values\n",
    "dict_out=compute_95CI_ols(np.log(x),np.log(y))\n",
    "m_fk=dict_out['m'];b_fk=dict_out['b']\n",
    "dict_out"
   ]
  },
  {
   "cell_type": "code",
   "execution_count": null,
   "metadata": {
    "ExecuteTime": {
     "end_time": "2021-04-21T23:11:10.017266Z",
     "start_time": "2021-04-21T22:39:17.830Z"
    }
   },
   "outputs": [],
   "source": [
    "#compute w_lr and w_fk using a linear regression of a log-log plot\n",
    "query=lr.q>0.3\n",
    "x=lr[query].q.values\n",
    "y=yscale*lr[query].w.values\n",
    "dict_out=compute_95CI_ols(np.log(x),np.log(y))\n",
    "m_lr=dict_out['m'];b_lr=dict_out['b']\n",
    "dict_out"
   ]
  },
  {
   "cell_type": "code",
   "execution_count": null,
   "metadata": {
    "ExecuteTime": {
     "end_time": "2021-04-21T23:11:10.017993Z",
     "start_time": "2021-04-21T22:39:17.834Z"
    }
   },
   "outputs": [],
   "source": [
    "fk_text=u'$\\log(w/1_w)=1.98(4)\\;\\log(q/1_q)$\\n\\t\\t$+1.73(3)$\\n\\t\\t$R^2=0.995$'\n",
    "lr_text=u'$\\log(w/1_w)=1.50(7)\\;\\log(q/1_q)$\\n\\t\\t$2.72(7)$\\n\\t\\t$R^2=0.987$'"
   ]
  },
  {
   "cell_type": "code",
   "execution_count": null,
   "metadata": {
    "ExecuteTime": {
     "end_time": "2021-04-21T23:11:10.018610Z",
     "start_time": "2021-04-21T22:39:17.838Z"
    }
   },
   "outputs": [],
   "source": [
    "# generate linear data\n",
    "log_x_values=np.linspace(-10,10,81)\n",
    "log_y_values_lr=m_lr*log_x_values +b_lr\n",
    "log_y_values_fk=m_fk*log_x_values +b_fk\n"
   ]
  },
  {
   "cell_type": "code",
   "execution_count": null,
   "metadata": {
    "ExecuteTime": {
     "end_time": "2021-04-21T23:11:10.019211Z",
     "start_time": "2021-04-21T22:39:17.842Z"
    }
   },
   "outputs": [],
   "source": [
    "#plot up WJ's results\n",
    "plt.scatter(x=lr.q.values,y=yscale*lr.w.values,alpha=0.3,c='C1',label='Luo-Rudy')\n",
    "plt.scatter(x=fk.q.values,y=yscale*fk.w.values,alpha=0.3,c='C0',label='Fenton-Karma')\n",
    "\n",
    "\n",
    "# plt.ylim([1e-5,1e-2])\n",
    "plt.yscale('log')\n",
    "plt.xscale('log')\n",
    "plt.legend()\n",
    "plt.show()"
   ]
  },
  {
   "cell_type": "code",
   "execution_count": null,
   "metadata": {
    "ExecuteTime": {
     "end_time": "2021-04-21T23:11:10.020162Z",
     "start_time": "2021-04-21T22:39:17.846Z"
    },
    "scrolled": true
   },
   "outputs": [],
   "source": [
    "#plot the values\n",
    "figsize=(12,6)\n",
    "fontsize=20\n",
    "saving=True\n",
    "savefig_folder=f'{nb_dir}/../fig'\n",
    "savefig_fn=f'full_model_results.png'\n",
    "fig, axs = plt.subplots(ncols=2,figsize=figsize)# ax=axs[1]\n",
    "\n",
    "#Luo-Rudy model\n",
    "ax=axs[0]\n",
    "#plot axes\n",
    "ax.plot(np.exp(log_x_values),1+0*np.exp(log_y_values_lr),'--',c='k',lw=3,alpha=.5,label='x axis')\n",
    "ax.plot(1+0*np.exp(log_x_values),np.exp(log_y_values_lr),'--',c='k',lw=3,alpha=.5,label='y axis')\n",
    "#plot results\n",
    "ax.scatter(x=lr.q.values,y=yscale*lr.w.values,alpha=0.3,c='C1',label='Luo-Rudy')\n",
    "ax.plot(np.exp(log_x_values),np.exp(log_y_values_lr),c='C1',lw=3,alpha=.8,label='linear fit')\n",
    "ax.set_xlim([1e-2,2e+0])\n",
    "ax.set_ylim([1e-2,2e+1])\n",
    "ax.set_yscale('log')\n",
    "ax.set_xscale('log')\n",
    "ax.set_xlabel(r'q (cm$^{-2}$)',fontsize=fontsize)\n",
    "ax.set_ylabel(r'w (Hz cm$^{-2}$)', fontsize=fontsize)\n",
    "ax.tick_params(axis='both', which='major', labelsize=fontsize)\n",
    "ax.tick_params(axis='both', which='minor', labelsize=0)\n",
    "ax.set_title(f'Luo-Rudy Model', fontsize=fontsize)\n",
    "ax.annotate(lr_text, xy=(.02, 2), xytext=(.02, 2),fontsize=fontsize-8,\n",
    "            arrowprops=dict(facecolor='white', shrink=1.0,edgecolor='white'))\n",
    "# ax.legend(fontsize=fontsize)\n",
    "\n",
    "#Fenton-Karma model\n",
    "ax=axs[1]\n",
    "#plot axes\n",
    "ax.plot(np.exp(log_x_values),1+0*np.exp(log_y_values_fk),'--',c='k',lw=3,alpha=.5,label='x axis')\n",
    "ax.plot(1+0*np.exp(log_x_values),np.exp(log_y_values_fk),'--',c='k',lw=3,alpha=.5,label='y axis')\n",
    "#plot results\n",
    "ax.scatter(x=fk.q.values,y=yscale*fk.w.values,alpha=0.3,c='C0',label='Fenton-Karma')\n",
    "ax.plot(np.exp(log_x_values),np.exp(log_y_values_fk),c='C0',lw=3,alpha=.8,label='linear fit')\n",
    "ax.set_xlim([1e-2,2e+0])\n",
    "ax.set_ylim([1e-2,2e+1])\n",
    "ax.set_yscale('log')\n",
    "ax.set_xscale('log')\n",
    "ax.set_xlabel(r'q (cm$^{-2}$)',fontsize=fontsize)\n",
    "ax.set_ylabel(r'w (Hz cm$^{-2}$)', fontsize=fontsize)\n",
    "ax.tick_params(axis='both', which='major', labelsize=fontsize)\n",
    "ax.tick_params(axis='both', which='minor', labelsize=0)\n",
    "ax.set_title(f'Fenton-Karma Model', fontsize=fontsize)\n",
    "ax.annotate(fk_text, xy=(.02, 2), xytext=(.02, 2),fontsize=fontsize-8,\n",
    "            arrowprops=dict(facecolor='white', shrink=1.0,edgecolor='white'))\n",
    "# ax.legend(fontsize=fontsize)\n",
    "\n",
    "fig.tight_layout()\n",
    "if not saving:\n",
    "    plt.show()\n",
    "else:\n",
    "    plt.tight_layout()\n",
    "    os.chdir(savefig_folder)\n",
    "    plt.savefig(savefig_fn, dpi=300)\n",
    "#         print(f\"saved figure in \\n\\t{savefig_fn}\")\n",
    "#     plt.close()"
   ]
  },
  {
   "cell_type": "markdown",
   "metadata": {},
   "source": [
    "# Measuring slope for all mean slopes"
   ]
  },
  {
   "cell_type": "code",
   "execution_count": null,
   "metadata": {
    "ExecuteTime": {
     "end_time": "2021-04-21T23:11:10.021008Z",
     "start_time": "2021-04-21T22:39:17.850Z"
    }
   },
   "outputs": [],
   "source": [
    "from lib.compute_sliding_slope import *\n"
   ]
  },
  {
   "cell_type": "code",
   "execution_count": null,
   "metadata": {
    "ExecuteTime": {
     "end_time": "2021-04-21T23:11:10.021766Z",
     "start_time": "2021-04-21T22:39:17.854Z"
    }
   },
   "outputs": [],
   "source": [
    "#import mean results\n",
    "os.chdir(data_folder)\n",
    "df_fn='df_mean_runs_1_to_3.csv'\n",
    "df=pd.read_csv(df_fn)\n",
    "# df.head()\n",
    "df['d']=np.pi*df.r**2*df.q\n",
    "df['u']=df.w/df.kappa*np.pi*df.r**2\n",
    "# dg['c']=dg.D/(dg.kappa)/dg.A\n",
    "df['c']=df.A\n",
    "df['x']=np.log(df.d)\n",
    "df['y']=np.log(df.u)"
   ]
  },
  {
   "cell_type": "code",
   "execution_count": null,
   "metadata": {
    "ExecuteTime": {
     "end_time": "2021-04-21T23:11:10.022604Z",
     "start_time": "2021-04-21T22:39:17.858Z"
    }
   },
   "outputs": [],
   "source": [
    "#extract column values\n",
    "r_values=np.array(sorted(set(df.r.values)))#cm\n",
    "D_values=np.array(sorted(set(df.D.values)))#cm^2/s\n",
    "A_values=np.array(sorted(set(df.A.values)))#cm^2\n",
    "# L_values**2#cm^2\n",
    "kappa_values=np.array(sorted(set(df.kappa.values)))#1/s"
   ]
  },
  {
   "cell_type": "code",
   "execution_count": null,
   "metadata": {
    "ExecuteTime": {
     "end_time": "2021-04-21T23:11:10.023341Z",
     "start_time": "2021-04-21T22:39:17.862Z"
    }
   },
   "outputs": [],
   "source": [
    "# r=r_values[0];D=D_values[0];A=A_values[1];kappa=kappa_values[1]\n",
    "xavg_values_lst=[];slope_values_lst=[];Rsquared_values_lst=[];\n",
    "r_lst=[];D_lst=[];A_lst=[];kappa_lst=[]\n",
    "for r in r_values:\n",
    "    for D in D_values:\n",
    "        for A in A_values:\n",
    "            for kappa in kappa_values:\n",
    "                query=(df.r==r)&(df.D==D)&(df.A==A)&(df.kappa==kappa)\n",
    "                dff=df[query].copy()#.drop(columns=['r','D','A','kappa'])\n",
    "                boo=dff.size>0\n",
    "                if boo:\n",
    "                    #measure dlogu_dlogd versus d\n",
    "                    x_values=dff.d.values\n",
    "                    y_values=dff.u.values\n",
    "                    xavg_values,slope_values,Rsquared_values = compute_sliding_slope_loglog(x_values,y_values)\n",
    "                    #record the results\n",
    "                    xavg_values_lst.append(xavg_values)\n",
    "                    slope_values_lst.append(slope_values)\n",
    "                    Rsquared_values_lst.append(Rsquared_values)\n",
    "                    r_lst.append(r);D_lst.append(D);A_lst.append(A);kappa_lst.append(kappa)\n",
    "beep(4)"
   ]
  },
  {
   "cell_type": "code",
   "execution_count": null,
   "metadata": {
    "ExecuteTime": {
     "end_time": "2021-04-21T23:11:10.024096Z",
     "start_time": "2021-04-21T22:39:17.865Z"
    }
   },
   "outputs": [],
   "source": [
    "figsize=(6,5)\n",
    "fontsize=18\n",
    "saving=True\n",
    "savefig_folder=f'{nb_dir}/../fig'\n",
    "savefig_fn=f'log_log_slope_runs_1_to_3.png'\n",
    "fig, ax = plt.subplots(ncols=1,figsize=figsize)# ax=axs[1]\n",
    "zlst=zip(xavg_values_lst,slope_values_lst,Rsquared_values_lst)\n",
    "#plot the values\n",
    "for xavg_values,slope_values,Rsquared_values in zlst:\n",
    "    ax.plot(xavg_values,slope_values,lw=1,label=\"_Hidden\",alpha=0.3,color='gray')\n",
    "    # ax.plot(xavg_values,Rsquared_values,lw=2,label=\"_Hidden\")\n",
    "\n",
    "#plot the reference lines\n",
    "xv=np.linspace(1e-3,1e3,100)    \n",
    "ax.plot(xv,2+0*xv,'-',color='k',label='quadratic')\n",
    "ax.plot(xv,1+0*xv,'--',color='k',label='linear')\n",
    "\n",
    "#format plot\n",
    "ax.set_xlabel(r'$d$', fontsize=fontsize)\n",
    "ax.set_ylabel(r'$\\frac{\\partial \\log\\,u}{\\partial \\log\\,d}$', fontsize=fontsize+4)\n",
    "ax.tick_params(axis='both', which='major', labelsize=fontsize)\n",
    "ax.tick_params(axis='both', which='minor', labelsize=0)\n",
    "ax.legend(fontsize=fontsize-4,ncol=2,loc='lower right')\n",
    "# ax.set_title(f'r={r} cm, '+r'$\\kappa=$'+f'{kappa} Hz', fontsize=fontsize)\n",
    "# ax.set_xlim([1e-3,1e+8])\n",
    "# ax.set_ylim([1e-6,1e+8])\n",
    "# ax.set_yscale('log')\n",
    "ax.set_xscale('log')\n",
    "fig.tight_layout()\n",
    "if not saving:\n",
    "    plt.show()\n",
    "else:\n",
    "    plt.tight_layout()\n",
    "    os.chdir(savefig_folder)\n",
    "    plt.savefig(savefig_fn, dpi=300)\n",
    "#         print(f\"saved figure in \\n\\t{savefig_fn}\")\n",
    "#     plt.close()\n"
   ]
  },
  {
   "cell_type": "code",
   "execution_count": null,
   "metadata": {
    "ExecuteTime": {
     "end_time": "2021-04-21T23:11:10.024914Z",
     "start_time": "2021-04-21T22:39:17.869Z"
    }
   },
   "outputs": [],
   "source": [
    "figsize=(6,5)\n",
    "fontsize=18\n",
    "saving=True\n",
    "savefig_folder=f'{nb_dir}/../fig'\n",
    "savefig_fn=f'log_log_Rsquared_runs_1_to_3.png'\n",
    "fig, ax = plt.subplots(ncols=1,figsize=figsize)# ax=axs[1]\n",
    "zlst=zip(xavg_values_lst,slope_values_lst,Rsquared_values_lst)\n",
    "#plot the values\n",
    "for xavg_values,slope_values,Rsquared_values in zlst:\n",
    "    ax.plot(xavg_values,Rsquared_values,lw=1,label=\"_Hidden\",alpha=0.3,color='gray')\n",
    "#     ax.plot(xavg_values,Rsquared_values,lw=2,label=\"_Hidden\")\n",
    "\n",
    "#plot the reference lines\n",
    "# xv=np.linspace(1e-3,1e3,100)    \n",
    "# ax.plot(xv,2+0*xv,'-',color='k',label='quadratic')\n",
    "# ax.plot(xv,1+0*xv,'--',color='k',label='linear')\n",
    "\n",
    "#format plot\n",
    "ax.set_xlabel(r'$d$', fontsize=fontsize)\n",
    "ax.set_ylabel(r'$R^2$', fontsize=fontsize+4)\n",
    "ax.tick_params(axis='both', which='major', labelsize=fontsize)\n",
    "ax.tick_params(axis='both', which='minor', labelsize=0)\n",
    "# ax.legend(fontsize=fontsize-4,ncol=2,loc='lower right')\n",
    "# ax.set_title(f'r={r} cm, '+r'$\\kappa=$'+f'{kappa} Hz', fontsize=fontsize)\n",
    "# ax.set_xlim([1e-3,1e+8])\n",
    "# ax.set_ylim([1e-6,1e+8])\n",
    "# ax.set_yscale('log')\n",
    "ax.set_xscale('log')\n",
    "fig.tight_layout()\n",
    "if not saving:\n",
    "    plt.show()\n",
    "else:\n",
    "    plt.tight_layout()\n",
    "    os.chdir(savefig_folder)\n",
    "    plt.savefig(savefig_fn, dpi=300)\n",
    "#         print(f\"saved figure in \\n\\t{savefig_fn}\")\n",
    "#     plt.close()\n"
   ]
  },
  {
   "cell_type": "markdown",
   "metadata": {},
   "source": [
    "# root cause analysis of subquadratic trials"
   ]
  },
  {
   "cell_type": "code",
   "execution_count": null,
   "metadata": {
    "ExecuteTime": {
     "end_time": "2021-04-21T23:11:10.025889Z",
     "start_time": "2021-04-21T22:39:17.873Z"
    }
   },
   "outputs": [],
   "source": [
    "#root cause analysis/ find what all those subquadratic curves have in common.  \n",
    "# Do they all exhibit A=1000 cm^2?  Yes.\n",
    "# If so, do the corresponding r,D,kappa behave a similar way for smaller A?\n",
    "slope_thresh=1.5\n",
    "boo_lst=[];boonan_lst=[]\n",
    "for sv in slope_values_lst:\n",
    "    boo=(sv<slope_thresh).any()\n",
    "    boo_lst.append(boo)\n",
    "    boonan=np.isnan(sv).any()\n",
    "    boonan_lst.append(boonan)\n",
    "boo_values=np.array(boo_lst)\n",
    "boonan_values=np.array(boonan_lst)"
   ]
  },
  {
   "cell_type": "code",
   "execution_count": null,
   "metadata": {
    "ExecuteTime": {
     "end_time": "2021-04-21T23:11:10.026808Z",
     "start_time": "2021-04-21T22:39:17.877Z"
    }
   },
   "outputs": [],
   "source": [
    "sum(boo_values)\n",
    "# sum(boonan_values)"
   ]
  },
  {
   "cell_type": "code",
   "execution_count": null,
   "metadata": {
    "ExecuteTime": {
     "end_time": "2021-04-21T23:11:10.027609Z",
     "start_time": "2021-04-21T22:39:17.881Z"
    }
   },
   "outputs": [],
   "source": [
    "assert (np.array(A_lst)[boo_values]>=1000).all()\n",
    "print(f\"all trials with slope less than 1.5 had area of 1000 cm^2\")"
   ]
  },
  {
   "cell_type": "code",
   "execution_count": null,
   "metadata": {
    "ExecuteTime": {
     "end_time": "2021-04-21T23:11:10.028427Z",
     "start_time": "2021-04-21T22:39:17.884Z"
    }
   },
   "outputs": [],
   "source": [
    "print('(r,D,kappa) values that were subquadratic:')\n",
    "print(list(zip(np.array(r_lst)[boo_values],np.array(D_lst)[boo_values],np.array(kappa_lst)[boo_values])))"
   ]
  },
  {
   "cell_type": "code",
   "execution_count": null,
   "metadata": {
    "ExecuteTime": {
     "end_time": "2021-04-21T23:11:10.029244Z",
     "start_time": "2021-04-21T22:39:17.888Z"
    }
   },
   "outputs": [],
   "source": [
    "print('r values that were subquadratic:')\n",
    "print(np.array(r_lst)[boo_values])\n",
    "print('\\nD values that were subquadratic:')\n",
    "print(np.array(D_lst)[boo_values])\n",
    "print('\\nkappa values that were subquadratic:')\n",
    "print(np.array(kappa_lst)[boo_values])"
   ]
  },
  {
   "cell_type": "code",
   "execution_count": null,
   "metadata": {
    "ExecuteTime": {
     "end_time": "2021-04-21T23:11:10.030013Z",
     "start_time": "2021-04-21T22:39:17.892Z"
    }
   },
   "outputs": [],
   "source": [
    "kv=np.array(kappa_lst)[boo_values]\n",
    "rv=np.array(r_lst)[boo_values]\n",
    "Dv=np.array(D_lst)[boo_values]\n",
    "Bv=0.5*np.pi*rv**2*kv\n",
    "print('B values that were subquadratic:')\n",
    "print(Bv)"
   ]
  },
  {
   "cell_type": "code",
   "execution_count": null,
   "metadata": {
    "ExecuteTime": {
     "end_time": "2021-04-21T23:11:10.030936Z",
     "start_time": "2021-04-21T22:39:17.896Z"
    }
   },
   "outputs": [],
   "source": [
    "bid=-8\n",
    "print(f'the B={Bv[bid]} value close to that of the FK model had (r,D,kappa)={(rv[bid],Dv[bid],kv[bid])}')"
   ]
  },
  {
   "cell_type": "code",
   "execution_count": null,
   "metadata": {
    "ExecuteTime": {
     "end_time": "2021-04-21T23:11:10.031750Z",
     "start_time": "2021-04-21T22:39:17.899Z"
    }
   },
   "outputs": [],
   "source": [
    "# # i,j,k=2,0,2\n",
    "# # i,j,k=2,-1,-1\n",
    "# i,j,k=-5,-1,2\n",
    "# i,j,k=-5,0,2\n",
    "# #one test case\n",
    "# r=r_values[i];D=D_values[j];kappa=kappa_values[k];yscale=10**3\n",
    "yscale=10**3\n",
    "r=0.2;D=0.2;kappa=90\n",
    "print(f'r={r}, D={D}, kappa={kappa}')\n",
    "#plot the values\n",
    "figsize=(6,5)\n",
    "fontsize=18\n",
    "saving=True\n",
    "savefig_folder=f'{nb_dir}/../fig'\n",
    "savefig_fn=f'area_dependent_turning_point_r_{r}_D_{D}_k_{kappa}.png'\n",
    "fig, ax = plt.subplots(ncols=1,figsize=figsize)# ax=axs[1]\n",
    "\n",
    "#plot up results from full simulation\n",
    "ax.scatter(x=lr.q.values,y=yscale*lr.w.values,alpha=0.3,label='Luo-Rudy')\n",
    "ax.scatter(x=fk.q.values,y=yscale*fk.w.values,alpha=0.3,label='Fenton-Karma')\n",
    "ax.set_title(f'r={r} cm, D={D} '+r'cm$^{2}/s$, $\\kappa=$'+f'{kappa} Hz', fontsize=fontsize)\n",
    "\n",
    "#plot up results from simple monte carlo simulation\n",
    "retval=GetPlotUnivCurve(r,D,kappa,ax,alpha=0.3)\n",
    "ax.legend(loc='best',fontsize=fontsize-10,ncol=2)\n",
    "# ax.set_xlim([0,1])\n",
    "# ax.set_ylim([0,1])\n",
    "plt.ylim([1e-8,1e+6])\n",
    "ax.set_yscale('log')\n",
    "ax.set_xscale('log')\n",
    "\n",
    "fig.tight_layout()\n",
    "if not saving:\n",
    "    plt.show()\n",
    "else:\n",
    "    plt.tight_layout()\n",
    "    os.chdir(savefig_folder)\n",
    "    plt.savefig(savefig_fn, dpi=300)\n",
    "#         print(f\"saved figure in \\n\\t{savefig_fn}\")\n",
    "#         plt.close()"
   ]
  },
  {
   "cell_type": "code",
   "execution_count": null,
   "metadata": {
    "ExecuteTime": {
     "end_time": "2021-04-21T23:11:10.032535Z",
     "start_time": "2021-04-21T22:39:17.903Z"
    }
   },
   "outputs": [],
   "source": [
    "print('r values that had nan:')\n",
    "print(np.array(r_lst)[boonan_values])\n",
    "# print('\\nD values that had nan:')\n",
    "# print(np.array(D_lst)[boonan_values])\n",
    "print('\\nkappa values that had nan:')\n",
    "print(np.array(kappa_lst)[boonan_values])"
   ]
  },
  {
   "cell_type": "code",
   "execution_count": null,
   "metadata": {
    "ExecuteTime": {
     "end_time": "2021-04-21T23:11:10.033468Z",
     "start_time": "2021-04-21T22:39:17.907Z"
    }
   },
   "outputs": [],
   "source": [
    "#all trials with slope less than 1.5 had area of 1000 cm^2\n",
    "(np.array(A_lst)[boonan_values]>=1000)"
   ]
  },
  {
   "cell_type": "code",
   "execution_count": null,
   "metadata": {
    "ExecuteTime": {
     "end_time": "2021-04-21T23:11:10.034266Z",
     "start_time": "2021-04-21T22:39:17.911Z"
    }
   },
   "outputs": [],
   "source": [
    "kv=np.array(kappa_lst)[boonan_values]\n",
    "rv=np.array(r_lst)[boonan_values]\n",
    "Bv=0.5*np.pi*rv**2*kv\n",
    "print('B values that had nan:')\n",
    "print(Bv)"
   ]
  },
  {
   "cell_type": "code",
   "execution_count": null,
   "metadata": {
    "ExecuteTime": {
     "end_time": "2021-04-21T23:11:10.035008Z",
     "start_time": "2021-04-21T22:39:17.915Z"
    }
   },
   "outputs": [],
   "source": [
    "#TODO: measure B for lr and fk using ols on sqrt(w) versus q"
   ]
  },
  {
   "cell_type": "code",
   "execution_count": null,
   "metadata": {
    "ExecuteTime": {
     "end_time": "2021-04-21T23:11:10.035810Z",
     "start_time": "2021-04-21T22:39:17.919Z"
    }
   },
   "outputs": [],
   "source": [
    "Bv[-8]"
   ]
  },
  {
   "cell_type": "code",
   "execution_count": null,
   "metadata": {
    "ExecuteTime": {
     "end_time": "2021-04-21T23:11:10.036558Z",
     "start_time": "2021-04-21T22:39:17.923Z"
    }
   },
   "outputs": [],
   "source": [
    "print(\"r values considered\")\n",
    "print(r_values)\n",
    "print(\"\\nD values considered\")\n",
    "print(D_values)\n",
    "print(\"\\nkappa values considered\")\n",
    "print(kappa_values)\n",
    "print(\"\\nA values considered\")\n",
    "print(A_values)"
   ]
  },
  {
   "cell_type": "markdown",
   "metadata": {},
   "source": [
    "$$\n",
    "B=\\frac{1}{2}\\kappa\\pi r^2 \\implies \\kappa = \\frac{2B}{\\pi r^2}\n",
    "$$\n"
   ]
  },
  {
   "cell_type": "code",
   "execution_count": null,
   "metadata": {
    "ExecuteTime": {
     "end_time": "2021-04-21T23:11:10.037442Z",
     "start_time": "2021-04-21T22:39:17.927Z"
    }
   },
   "outputs": [],
   "source": [
    "#TODO(later for smaller CI): estimate B from slope of sqrt rate density (FK) and (later) from slope of pow(w,2/3) (LR)  \n",
    "#TODO: estimate kappa for FK model\n",
    "B = 5.62376\n",
    "calc_kappa = lambda B,r: 2*B/(np.pi * r**2)\n",
    "print(f\"From the y-intercept of the log-log plot,\")\n",
    "print(f\"\\tthe FK model has B={B} cm$^2$/s.\")\n",
    "print('Then,')\n",
    "for r in [0.1,0.2,0.3,0.4,0.5]:\n",
    "    print(f\"\\tfor r = {r:.1f} cm, kappa = {calc_kappa(B,r):.0f} Hz.\")"
   ]
  },
  {
   "cell_type": "markdown",
   "metadata": {},
   "source": [
    "# fits to phenomenological power law model"
   ]
  },
  {
   "cell_type": "markdown",
   "metadata": {},
   "source": [
    "Let \n",
    "$$\n",
    "w=B*q^m\n",
    "$$\n",
    "\n",
    "Then, the best linear unbiased estimator for $B$ is computed from OLS of $w^{1/m}$ versus $q$, supposing sufficient goodness of fit.\n",
    "\n",
    "__Method__\n",
    "- measure m,Delta_m in log-log plot, considering only q<q_thresh\n",
    "- measure B,Delta_B in lin-lin plot of w^{1/m} versus q, considering only q<q_thresh"
   ]
  },
  {
   "cell_type": "markdown",
   "metadata": {},
   "source": [
    "- TODO: Measure m,B for LR, FK model\n",
    "- TODO: Measure m,B for each trial of run 6\n",
    "- TODO: rank trials in terms of mean squared error of m and B for each trial\n",
    "\n",
    "- TODO(and then): estimate turning points"
   ]
  },
  {
   "cell_type": "code",
   "execution_count": 171,
   "metadata": {
    "ExecuteTime": {
     "end_time": "2021-04-23T01:41:42.044099Z",
     "start_time": "2021-04-23T01:41:42.025519Z"
    }
   },
   "outputs": [],
   "source": [
    "#load birth death rates from the full model\n",
    "data_folder=f'{nb_dir}/data'\n",
    "os.chdir(data_folder)\n",
    "\n",
    "data_fk_fn='full_results/data_fig4_vidmar_fk_tt.csv'\n",
    "data_lr_fn='full_results/data_fig4_vidmar_lr_tt.csv'\n",
    "\n",
    "fk=pd.read_csv(data_fk_fn)\n",
    "fk['N']=fk['No2']*2\n",
    "fk['q']=fk['N']/fk['A'] #number of tips per square centimeter\n",
    "fk['w']=fk['rate']/fk['A'] #[mHz?]/cm^2\n",
    "\n",
    "lr=pd.read_csv(data_lr_fn)\n",
    "lr['N']=lr['No2']*2\n",
    "lr['q']=lr['N']/lr['A'] #number of tips per square centimeter\n",
    "lr['w']=lr['rate']/lr['A'] #[mHz?]/cm^2"
   ]
  },
  {
   "cell_type": "code",
   "execution_count": 172,
   "metadata": {
    "ExecuteTime": {
     "end_time": "2021-04-23T01:41:48.418011Z",
     "start_time": "2021-04-23T01:41:48.393165Z"
    }
   },
   "outputs": [
    {
     "name": "stdout",
     "output_type": "stream",
     "text": [
      "\n",
      "data_fig4_vidmar_fk_tt.csv\n",
      "m=1.877+-0.025; B=2.497+-0.040\n",
      "M=B**m=5.57+-0.31 Hz*cm^{2(m-1)}\n",
      "RMSE=0.1386 Hz/cm^2\n",
      "R^2=0.997\n",
      "\n",
      "data_fig4_vidmar_lr_tt.csv\n",
      "m=1.638+-0.017; B=5.588+-0.067\n",
      "M=B**m=16.74+-0.85 Hz*cm^{2(m-1)}\n",
      "RMSE=0.1340 Hz/cm^2\n",
      "R^2=0.997\n"
     ]
    }
   ],
   "source": [
    "#  TODO: Measure B for full model\n",
    "yscale=10**3\n",
    "fn=os.path.basename(data_fk_fn)\n",
    "fk=pd.read_csv(data_fk_fn)\n",
    "fk['N']=fk['No2']*2\n",
    "fk['q']=fk['N']/fk['A'] #number of tips per square centimeter\n",
    "fk['w']=fk['rate']/fk['A'] #[mHz?]/cm^2\n",
    "# query=(fk.q>0.2)&(fk.q<1.)#fk.q<0.7#<0.2\n",
    "x=fk.q.values\n",
    "y=yscale*fk.w.values\n",
    "print('\\n'+fn)\n",
    "print_fit_power_law(x,y)\n",
    "\n",
    "fn=os.path.basename(data_lr_fn)\n",
    "fk=pd.read_csv(data_lr_fn)\n",
    "fk['N']=fk['No2']*2\n",
    "fk['q']=fk['N']/fk['A'] #number of tips per square centimeter\n",
    "fk['w']=fk['rate']/fk['A'] #[mHz?]/cm^2\n",
    "# query=(fk.q>0.2)&(fk.q<1.)#fk.q<0.7#<0.2\n",
    "x=fk.q.values\n",
    "y=yscale*fk.w.values\n",
    "print('\\n'+fn)\n",
    "print_fit_power_law(x,y)"
   ]
  },
  {
   "cell_type": "code",
   "execution_count": 196,
   "metadata": {
    "ExecuteTime": {
     "end_time": "2021-04-22T19:05:01.450513Z",
     "start_time": "2021-04-22T19:05:01.433957Z"
    }
   },
   "outputs": [
    {
     "name": "stdout",
     "output_type": "stream",
     "text": [
      "m_fk=1.945+-0.030; B_fk=2.441+-0.051\n",
      "m_lr=1.544+-0.034; B_lr=5.870+-0.137\n",
      "M_fk=B_fk**m_fk=5.67+-0.39 Hz*cm^{2(m-1)}\n",
      "M_lr=B_lr**m_lr=15.37+-1.57 Hz*cm^{2(m-1)}\n",
      "RMSE_fk=0.1252 Hz/cm^2\n",
      "RMSE_lr=0.0974 Hz/cm^2\n",
      "R^2=0.997 (FK)\n",
      "R^2=0.994 (LR)\n"
     ]
    }
   ],
   "source": [
    "#compute w_lr and w_fk using a linear regression of a log-log plot\n",
    "yscale=10**3\n",
    "query=(fk.q>0.2)&(fk.q<1.)#fk.q<0.7#<0.2\n",
    "x=fk[query].q.values\n",
    "y=yscale*fk[query].w.values\n",
    "dict_fk_loglog=compute_95CI_ols(np.log(x),np.log(y))\n",
    "# dict_fk_loglog\n",
    "# #fk\n",
    "# dict_fk_loglog={'m': 1.9447060275370367,\n",
    "#  'Delta_m': 0.029617122208703113,\n",
    "#  'b': 1.7091950494051997,\n",
    "#  'Delta_b': 0.024489019143397704,\n",
    "#  'Rsquared': 0.9967057268076673}\n",
    "m_fk=dict_fk_loglog['m']\n",
    "Delta_m_fk=dict_fk_loglog['Delta_m']\n",
    "\n",
    "#fk\n",
    "dict_out=compute_95CI_ols(x,y**(1/m_fk))\n",
    "dict_out\n",
    "dict_fk_linlin=dict_out\n",
    "B_fk=dict_fk_linlin['m']\n",
    "Delta_B_fk=dict_fk_linlin['Delta_m']\n",
    "# dict_fk_linlin\n",
    "\n",
    "#lr\n",
    "yscale=10**3\n",
    "query=(lr.q>0.2)&(lr.q<1.)#lr.q<0.7#>0.2\n",
    "x=lr[query].q.values\n",
    "y=yscale*lr[query].w.values\n",
    "dict_lr_loglog=compute_95CI_ols(np.log(x),np.log(y))\n",
    "m_lr=dict_lr_loglog['m']\n",
    "Delta_m_lr=dict_lr_loglog['Delta_m']\n",
    "\n",
    "\n",
    "#lr\n",
    "dict_out=compute_95CI_ols(x,y**(1/m_lr))\n",
    "dict_lr_linlin=dict_out\n",
    "B_lr=dict_lr_linlin['m']\n",
    "Delta_B_lr=dict_lr_linlin['Delta_m']\n",
    "\n",
    "\n",
    "print(f\"m_fk={m_fk:.3f}+-{Delta_m_fk:.3f}; B_fk={B_fk:.3f}+-{Delta_B_fk:.3f}\")\n",
    "print(f\"m_lr={m_lr:.3f}+-{Delta_m_lr:.3f}; B_lr={B_lr:.3f}+-{Delta_B_lr:.3f}\")\n",
    "\n",
    "def comp_power_scale(B,Delta_B,m,Delta_m):\n",
    "    '''compute pessemistic 95% CI of annihilation rate scale, M_fk=B_fk**m_fk'''\n",
    "    #min bound\n",
    "    min_bound=(B-Delta_B)**(m-Delta_m)\n",
    "    # print(B**m-min_bound)\n",
    "    #max bound\n",
    "    max_bound=(B+Delta_B)**(m+Delta_m)\n",
    "    # print(max_bound-B**m)\n",
    "    Delta_M=np.max((max_bound-B**m,B**m-min_bound))\n",
    "    M=B**m\n",
    "    return M,Delta_M\n",
    "\n",
    "#compute pessemistic 95% CI of annihilation rate scale, M_fk=B_fk**m_fk\n",
    "B=B_fk\n",
    "m=m_fk\n",
    "Delta_m=Delta_m_fk\n",
    "Delta_B=Delta_B_fk\n",
    "M_fk, Delta_M_fk= comp_power_scale(B,Delta_B,m,Delta_m)\n",
    "\n",
    "B=B_lr\n",
    "m=m_lr\n",
    "Delta_m=Delta_m_lr\n",
    "Delta_B=Delta_B_lr\n",
    "M_lr, Delta_M_lr= comp_power_scale(B,Delta_B,m,Delta_m)\n",
    "\n",
    "print(f\"M_fk=B_fk**m_fk={M_fk:.2f}+-{Delta_M_fk:.2f} Hz*cm^{{2(m-1)}}\")\n",
    "print(f\"M_lr=B_lr**m_lr={M_lr:.2f}+-{Delta_M_lr:.2f} Hz*cm^{{2(m-1)}}\")\n",
    "\n",
    "def compute_power_rmse(x_values,y_values,m,B):\n",
    "    \"\"\"compute rmse of power law fits\"\"\"\n",
    "    yv=(B*x_values)**m\n",
    "    rmse=np.sqrt(np.mean((y_values-yv)**2))\n",
    "    return rmse\n",
    "\n",
    "x_values=fk.q.values\n",
    "y_values=yscale*fk.w.values\n",
    "m=m_fk\n",
    "B=B_fk\n",
    "rmse_fk=compute_power_rmse(x_values,y_values,m,B)\n",
    "print(f\"RMSE_fk={rmse_fk:.4f} Hz/cm^2\")\n",
    "\n",
    "x_values=lr.q.values\n",
    "y_values=yscale*lr.w.values\n",
    "m=m_lr\n",
    "B=B_lr\n",
    "rmse_lr=compute_power_rmse(x_values,y_values,m,B)\n",
    "print(f\"RMSE_lr={rmse_lr:.4f} Hz/cm^2\")\n",
    "\n",
    "print(f\"R^2={dict_fk_loglog['Rsquared']:.3f} (FK)\")\n",
    "print(f\"R^2={dict_lr_loglog['Rsquared']:.3f} (LR)\")\n",
    "\n"
   ]
  },
  {
   "cell_type": "code",
   "execution_count": 184,
   "metadata": {
    "ExecuteTime": {
     "end_time": "2021-04-22T19:00:15.752995Z",
     "start_time": "2021-04-22T19:00:15.620131Z"
    }
   },
   "outputs": [
    {
     "data": {
      "image/png": "[encoded data removed]",
      "text/plain": [
       "<Figure size 432x288 with 1 Axes>"
      ]
     },
     "metadata": {
      "needs_background": "light"
     },
     "output_type": "display_data"
    }
   ],
   "source": [
    "xv=np.arange(0.1,1.,.05)\n",
    "yv_fk=(B_fk*xv)**m_fk\n",
    "yv_lr=(B_lr*xv)**m_lr\n",
    "\n",
    "yscale=10**3\n",
    "fontsize=18\n",
    "#plot up WJ's results\n",
    "plt.scatter(x=lr.q.values,y=yscale*lr.w.values,alpha=0.3,c='C1',label='Luo-Rudy')\n",
    "plt.scatter(x=fk.q.values,y=yscale*fk.w.values,alpha=0.3,c='C0',label='Fenton-Karma')\n",
    "# plt.ylim([1e-5,1e-2])\n",
    "# plt.yscale('log')\n",
    "# plt.xscale('log')\n",
    "plt.plot(xv,yv_fk,label='FK power law fit')\n",
    "plt.plot(xv,yv_lr,label='LR power law fit')\n",
    "plt.xlabel(r'q (cm$^{-2}$)',fontsize=fontsize)\n",
    "plt.ylabel(r'w (Hz cm$^{-2}$)', fontsize=fontsize)\n",
    "plt.tick_params(axis='both', which='major', labelsize=fontsize)\n",
    "plt.tick_params(axis='both', which='minor', labelsize=0)\n",
    "plt.legend(fontsize=fontsize-5)\n",
    "plt.show()\n"
   ]
  },
  {
   "cell_type": "code",
   "execution_count": 185,
   "metadata": {
    "ExecuteTime": {
     "end_time": "2021-04-22T19:00:18.120171Z",
     "start_time": "2021-04-22T19:00:17.688531Z"
    }
   },
   "outputs": [
    {
     "data": {
      "image/png": "[encoded data removed]",
      "text/plain": [
       "<Figure size 432x288 with 1 Axes>"
      ]
     },
     "metadata": {
      "needs_background": "light"
     },
     "output_type": "display_data"
    }
   ],
   "source": [
    "\n",
    "\n",
    "yscale=10**3\n",
    "fontsize=18\n",
    "#plot up WJ's results\n",
    "plt.scatter(x=lr.q.values,y=yscale*lr.w.values,alpha=0.3,c='C1',label='Luo-Rudy')\n",
    "plt.scatter(x=fk.q.values,y=yscale*fk.w.values,alpha=0.3,c='C0',label='Fenton-Karma')\n",
    "# plt.ylim([1e-5,1e-2])\n",
    "plt.yscale('log')\n",
    "plt.xscale('log')\n",
    "\n",
    "xv=np.arange(0.02,1.,.05)\n",
    "yv_fk=(B_fk*xv)**m_fk\n",
    "yv_lr=(B_lr*xv)**m_lr\n",
    "plt.plot(xv,yv_fk,label='FK power law fit')\n",
    "plt.plot(xv,yv_lr,label='LR power law fit')\n",
    "plt.xlabel(r'q (cm$^{-2}$)',fontsize=fontsize)\n",
    "plt.ylabel(r'w (Hz cm$^{-2}$)', fontsize=fontsize)\n",
    "plt.tick_params(axis='both', which='major', labelsize=fontsize)\n",
    "plt.tick_params(axis='both', which='minor', labelsize=0)\n",
    "plt.legend(fontsize=fontsize-5,loc='lower right')\n",
    "plt.show()\n"
   ]
  },
  {
   "cell_type": "code",
   "execution_count": 186,
   "metadata": {
    "ExecuteTime": {
     "end_time": "2021-04-22T19:00:18.967387Z",
     "start_time": "2021-04-22T19:00:18.961641Z"
    }
   },
   "outputs": [],
   "source": [
    "#TODO: write map from a given trial in df to m and B\n",
    "#TODO: write map from a given trial in df to turning point & final slope"
   ]
  },
  {
   "cell_type": "code",
   "execution_count": 187,
   "metadata": {
    "ExecuteTime": {
     "end_time": "2021-04-22T19:00:19.963187Z",
     "start_time": "2021-04-22T19:00:19.875915Z"
    }
   },
   "outputs": [
    {
     "data": {
      "text/plain": [
       "<matplotlib.collections.PathCollection at 0x7f45fce78950>"
      ]
     },
     "execution_count": 187,
     "metadata": {},
     "output_type": "execute_result"
    },
    {
     "data": {
      "image/png": "[encoded data removed]",
      "text/plain": [
       "<Figure size 432x288 with 1 Axes>"
      ]
     },
     "metadata": {
      "needs_background": "light"
     },
     "output_type": "display_data"
    }
   ],
   "source": [
    "plt.scatter(x,y**(1/m_fk))"
   ]
  },
  {
   "cell_type": "markdown",
   "metadata": {
    "ExecuteTime": {
     "end_time": "2021-04-22T02:15:53.067348Z",
     "start_time": "2021-04-22T02:15:53.065343Z"
    }
   },
   "source": [
    "# TODO: functionally compute power law fits of given xy values"
   ]
  },
  {
   "cell_type": "code",
   "execution_count": null,
   "metadata": {
    "ExecuteTime": {
     "end_time": "2021-04-22T18:04:39.608524Z",
     "start_time": "2021-04-22T18:04:39.605430Z"
    }
   },
   "outputs": [],
   "source": []
  },
  {
   "cell_type": "markdown",
   "metadata": {},
   "source": [
    "\n",
    "$$\n",
    "w = M q^m = (B q)^m\n",
    "$$\n",
    "\n",
    "$\\text{let } M_{FK}\\equiv B_{FK}^{m_{FK}},\\,\\text{and let}\\;M_{LR}\\equiv B_{LR}^{m_{LR}}.$\n",
    "\n",
    "\n",
    "<table>\n",
    "  <tr>\n",
    "    <td></td>\n",
    "    <td>m</td>\n",
    "    <td>M (Hz/cm$^{2(m-1)}$)</td>\n",
    "  </tr>\n",
    "  <tr>\n",
    "    <td>Fenton-Karma</td>\n",
    "    <td>-</td>\n",
    "    <td>5.34+-0.26</td>\n",
    "  </tr>\n",
    "  <tr>\n",
    "    <td>Luo-Rudy</td>\n",
    "    <td>-</td>\n",
    "    <td>16.74+-0.85</td>\n",
    "  </tr>\n",
    "</table>"
   ]
  },
  {
   "cell_type": "code",
   "execution_count": null,
   "metadata": {
    "ExecuteTime": {
     "end_time": "2021-04-23T00:49:14.270835Z",
     "start_time": "2021-04-23T00:49:14.247338Z"
    }
   },
   "outputs": [],
   "source": []
  },
  {
   "cell_type": "code",
   "execution_count": 128,
   "metadata": {
    "ExecuteTime": {
     "end_time": "2021-04-23T00:50:45.906557Z",
     "start_time": "2021-04-23T00:50:45.885097Z"
    }
   },
   "outputs": [
    {
     "name": "stdout",
     "output_type": "stream",
     "text": [
      "m=1.038+-0.035; B=1.999+-0.096\n",
      "M=B**m=2.05+-0.16 Hz*cm^{2(m-1)}\n",
      "RMSE=0.0519 Hz/cm^2\n",
      "R^2=0.984\n"
     ]
    }
   ],
   "source": [
    "# #compute w_lr and w_fk using a linear regression of a log-log plot\n",
    "# yscale=10**3\n",
    "# query=(fk.q>0.2)&(fk.q<1.)#fk.q<0.7#<0.2\n",
    "# x=fk[query].q.values\n",
    "# y=yscale*fk[query].w.values\n",
    "# print_fit_power_law(x,y)\n",
    "B,Delta_B,m,Delta_m,Rsq=fit_power_law(x,y)\n",
    "rmse=compute_power_rmse(x,y,m,B)\n",
    "M, Delta_M= comp_power_scale(B,Delta_B,m,Delta_m)\n",
    "print(f\"m={m:.3f}+-{Delta_m:.3f}; B={B:.3f}+-{Delta_B:.3f}\")\n",
    "print(f\"M=B**m={M:.2f}+-{Delta_M:.2f} Hz*cm^{{2(m-1)}}\")\n",
    "print(f\"RMSE={rmse:.4f} Hz/cm^2\")\n",
    "print(f\"R^2={Rsq:.3f}\")"
   ]
  },
  {
   "cell_type": "code",
   "execution_count": 115,
   "metadata": {
    "ExecuteTime": {
     "end_time": "2021-04-23T00:47:05.407175Z",
     "start_time": "2021-04-23T00:47:05.388068Z"
    }
   },
   "outputs": [
    {
     "data": {
      "text/plain": [
       "8"
      ]
     },
     "execution_count": 115,
     "metadata": {},
     "output_type": "execute_result"
    }
   ],
   "source": [
    "#load the other models and print/plot their power laws\n",
    "data_folder=f\"{nb_dir}/data/full_results/ncbc\"\n",
    "assert (os.path.exists(data_folder))\n",
    "os.chdir(data_folder)\n",
    "input_fn_lst=sorted([fn for fn in os.listdir() if fn.find('.csv')!=-1])\n",
    "len(input_fn_lst)"
   ]
  },
  {
   "cell_type": "code",
   "execution_count": 140,
   "metadata": {
    "ExecuteTime": {
     "end_time": "2021-04-23T01:08:30.821084Z",
     "start_time": "2021-04-23T01:08:30.757503Z"
    }
   },
   "outputs": [
    {
     "name": "stdout",
     "output_type": "stream",
     "text": [
      "\n",
      "vidmar_rappel_fk_ncbc_w_-1.csv\n",
      "m=1.038+-0.035; B=1.999+-0.096\n",
      "M=B**m=2.05+-0.16 Hz*cm^{2(m-1)}\n",
      "RMSE=0.0519 Hz/cm^2\n",
      "R^2=0.984\n",
      "\n",
      "vidmar_rappel_fk_ncbc_w_-2.csv\n",
      "m=1.908+-0.044; B=2.879+-0.084\n",
      "M=B**m=7.52+-0.82 Hz*cm^{2(m-1)}\n",
      "RMSE=0.1544 Hz/cm^2\n",
      "R^2=0.991\n",
      "\n",
      "vidmar_rappel_fk_ncbc_w_1.csv\n",
      "m=0.539+-0.080; B=0.538+-0.081\n",
      "M=B**m=0.72+-0.03 Hz*cm^{2(m-1)}\n",
      "RMSE=0.0325 Hz/cm^2\n",
      "R^2=0.810\n",
      "\n",
      "vidmar_rappel_fk_ncbc_w_2.csv\n",
      "m=0.367+-0.032; B=1.125+-0.117\n",
      "M=B**m=1.04+-0.05 Hz*cm^{2(m-1)}\n",
      "RMSE=0.0335 Hz/cm^2\n",
      "R^2=0.906\n",
      "\n",
      "vidmar_rappel_lr_ncbc_w_-1.csv\n",
      "m=1.216+-0.128; B=6.328+-0.657\n",
      "M=B**m=9.43+-4.19 Hz*cm^{2(m-1)}\n",
      "RMSE=0.1694 Hz/cm^2\n",
      "R^2=0.871\n",
      "\n",
      "vidmar_rappel_lr_ncbc_w_-2.csv\n",
      "m=1.495+-0.105; B=5.814+-0.420\n",
      "M=B**m=13.89+-4.80 Hz*cm^{2(m-1)}\n",
      "RMSE=0.1773 Hz/cm^2\n",
      "R^2=0.923\n",
      "\n",
      "vidmar_rappel_lr_ncbc_w_1.csv\n",
      "m=0.335+-0.521; B=0.222+-0.367\n",
      "M=B**m=0.60+-nan Hz*cm^{2(m-1)}\n",
      "RMSE=0.0601 Hz/cm^2\n",
      "R^2=0.052\n",
      "\n",
      "vidmar_rappel_lr_ncbc_w_2.csv\n",
      "m=0.607+-0.137; B=4.503+-1.072\n",
      "M=B**m=2.49+-1.10 Hz*cm^{2(m-1)}\n",
      "RMSE=0.0832 Hz/cm^2\n",
      "R^2=0.593\n"
     ]
    },
    {
     "name": "stderr",
     "output_type": "stream",
     "text": [
      "/home/timothytyree/Documents/GitHub/bgmc/python/lib/measure/powerlaw.py:10: RuntimeWarning: invalid value encountered in double_scalars\n",
      "  min_bound=(B-Delta_B)**(m-Delta_m)\n"
     ]
    }
   ],
   "source": [
    "def load_df_wj(fn):\n",
    "    df=pd.read_csv(fn)\n",
    "    df['L']=(df.index.values+1)/df.x.values\n",
    "    df['A']=np.sqrt(df['L'])\n",
    "    df['wl']=df.y/df.L\n",
    "    df['wa']=df.y/df.A\n",
    "    df['ql']=df.x\n",
    "    df['qa']=df.x*df.L\n",
    "    return df\n",
    "for fn in input_fn_lst:\n",
    "    df=load_df_wj(fn)\n",
    "    print('\\n'+fn)\n",
    "    yscale=10**3\n",
    "    query=(df.x>0.2)&(df.x<1.)&(df.y>0.)#fk.q<0.7#<0.2\n",
    "    x=df[query].x.values\n",
    "    y=yscale*df[query].y.values\n",
    "    print_fit_power_law(x,y)"
   ]
  },
  {
   "cell_type": "code",
   "execution_count": 134,
   "metadata": {
    "ExecuteTime": {
     "end_time": "2021-04-23T00:52:43.710375Z",
     "start_time": "2021-04-23T00:52:43.587194Z"
    }
   },
   "outputs": [
    {
     "data": {
      "text/plain": [
       "<matplotlib.collections.PathCollection at 0x7fdc378fbd10>"
      ]
     },
     "execution_count": 134,
     "metadata": {},
     "output_type": "execute_result"
    },
    {
     "data": {
      "image/png": "[encoded data removed]",
      "text/plain": [
       "<Figure size 432x288 with 1 Axes>"
      ]
     },
     "metadata": {
      "needs_background": "light"
     },
     "output_type": "display_data"
    }
   ],
   "source": [
    "plt.scatter(X,Y)"
   ]
  },
  {
   "cell_type": "code",
   "execution_count": 74,
   "metadata": {
    "ExecuteTime": {
     "end_time": "2021-04-23T00:29:00.400111Z",
     "start_time": "2021-04-23T00:29:00.257108Z"
    }
   },
   "outputs": [
    {
     "data": {
      "image/png": "[encoded data removed]",
      "text/plain": [
       "<Figure size 432x288 with 1 Axes>"
      ]
     },
     "metadata": {
      "needs_background": "light"
     },
     "output_type": "display_data"
    }
   ],
   "source": [
    "m_fk=1.945#1.858;#+-0.027; B_fk=2.464+-0.030<br>\n",
    "m_lr=1.544#1.638;#+-0.017; B_fk=5.588+-0.067\n",
    "fontsize=18\n",
    "for fn in input_fn_lst:\n",
    "    W=eval(fn[fn.find('_w_')+3:-4])\n",
    "    boo_lr=fn.find('_lr_')!=-1\n",
    "    boo_W = W==1\n",
    "    if boo_W and boo_lr:\n",
    "        df=load_df_wj(fn)#.sort_values('x')\n",
    "        yscale=10**3\n",
    "        query=(df.x>0.2)&(df.x<1.)#fk.q<0.7#<0.2\n",
    "        x=df[query].ql.values#[:20]\n",
    "        y=yscale*df[query].wl.values#[:20]\n",
    "        plt.scatter(x, y,label=r\"$W_{{{:+}}}$\".format(W))\n",
    "#     plt.errorbar(x, y, yerr=y*0.01, fmt='-o',label=r\"W_{:+}\".format(W))\n",
    "\n",
    "# plt.plot(x, m_fk+0.*np.array(x), '--',c='gray',label='Fenton-Karma')\n",
    "# plt.plot(x, m_lr+0.*np.array(x), '-',c='gray',label='Luo-Rudy')\n",
    "# plt.scatter(Dtdt_lst,m_lst,marker='^')\n",
    "# plt.xscale('log')\n",
    "# title=os.path.basename(fn)\n",
    "if boo_lr:\n",
    "    title='Luo-Rudy Model'\n",
    "else:\n",
    "    title='Fenton-Karma Model'\n",
    "plt.title(title,fontsize=fontsize)\n",
    "plt.xlabel(r'X-axis (1/cm?)',fontsize=fontsize)\n",
    "plt.ylabel(r'rate (Hz?)',fontsize=fontsize)\n",
    "# plt.xscale('log')\n",
    "# plt.yscale('log')\n",
    "plt.tick_params(axis='both', which='major', labelsize=fontsize)\n",
    "plt.tick_params(axis='both', which='minor', labelsize=0)\n",
    "# plt.legend(fontsize=fontsize-8)#,ncol=2)\n",
    "# plt.xlim([10,50])\n",
    "# plt.ylim([0,3.5])\n",
    "# plt.grid('on')\n",
    "plt.legend(fontsize=fontsize-4)\n",
    "plt.show()\n",
    "# print(\"considering 20<N<50 spiral tips\")\n",
    "# print(\"considering N<20 spiral tips\")\n",
    "# print(f\"considering {q_min}<q<{q_max}\")"
   ]
  },
  {
   "cell_type": "code",
   "execution_count": 100,
   "metadata": {
    "ExecuteTime": {
     "end_time": "2021-04-23T00:43:26.359429Z",
     "start_time": "2021-04-23T00:43:26.237853Z"
    }
   },
   "outputs": [
    {
     "data": {
      "image/png": "[encoded data removed]",
      "text/plain": [
       "<Figure size 432x288 with 1 Axes>"
      ]
     },
     "metadata": {
      "needs_background": "light"
     },
     "output_type": "display_data"
    }
   ],
   "source": [
    "m_fk=1.945#1.858;#+-0.027; B_fk=2.464+-0.030<br>\n",
    "m_lr=1.544#1.638;#+-0.017; B_fk=5.588+-0.067\n",
    "fontsize=18\n",
    "fn=input_fn_lst[-2]\n",
    "yscale=10**3\n",
    "df=load_df_wj(fn)#.sort_values('x')\n",
    "x=df.x.values\n",
    "y=yscale*df.y.values\n",
    "# x=df.qa.values\n",
    "# y=yscale*df.wa.values*df.A.values\n",
    "W=eval(fn[fn.find('_w_')+3:-4])\n",
    "boo_lr=fn.find('_lr_')!=-1\n",
    "plt.scatter(x, y,label=r\"$W_{{{:+}}}$\".format(W))\n",
    "#     plt.errorbar(x, y, yerr=y*0.01, fmt='-o',label=r\"W_{:+}\".format(W))\n",
    "\n",
    "# plt.plot(x, m_fk+0.*np.array(x), '--',c='gray',label='Fenton-Karma')\n",
    "# plt.plot(x, m_lr+0.*np.array(x), '-',c='gray',label='Luo-Rudy')\n",
    "# plt.scatter(Dtdt_lst,m_lst,marker='^')\n",
    "# plt.xscale('log')\n",
    "title=os.path.basename(fn)\n",
    "# if boo_lr:\n",
    "#     title='Luo-Rudy Model'\n",
    "# else:\n",
    "#     title='Fenton-Karma Model'\n",
    "plt.title(title,fontsize=fontsize)\n",
    "# plt.legend(fontsize=fontsize-4)\n",
    "\n",
    "plt.xlabel(r'q (1/cm$^2$)',fontsize=fontsize)\n",
    "plt.ylabel(r'rate/area (Hz/cm$^2$)',fontsize=fontsize)\n",
    "# plt.xscale('log')\n",
    "# plt.yscale('log')\n",
    "plt.tick_params(axis='both', which='major', labelsize=fontsize)\n",
    "plt.tick_params(axis='both', which='minor', labelsize=0)\n",
    "# plt.legend(fontsize=fontsize-8)#,ncol=2)\n",
    "# plt.xlim([10,50])\n",
    "# plt.ylim([0,3.5])\n",
    "# plt.grid('on')\n",
    "plt.show()\n",
    "# print(\"considering 20<N<50 spiral tips\")\n",
    "# print(\"considering N<20 spiral tips\")\n",
    "# print(f\"considering {q_min}<q<{q_max}\")"
   ]
  },
  {
   "cell_type": "code",
   "execution_count": 104,
   "metadata": {
    "ExecuteTime": {
     "end_time": "2021-04-23T00:44:29.726692Z",
     "start_time": "2021-04-23T00:44:29.589705Z"
    }
   },
   "outputs": [
    {
     "data": {
      "image/png": "[encoded data removed]",
      "text/plain": [
       "<Figure size 432x288 with 1 Axes>"
      ]
     },
     "metadata": {
      "needs_background": "light"
     },
     "output_type": "display_data"
    }
   ],
   "source": [
    "m_fk=1.945#1.858;#+-0.027; B_fk=2.464+-0.030<br>\n",
    "m_lr=1.544#1.638;#+-0.017; B_fk=5.588+-0.067\n",
    "fontsize=18\n",
    "fn=input_fn_lst[1]\n",
    "yscale=10**3\n",
    "df=load_df_wj(fn)#.sort_values('x')\n",
    "x=df.x.values\n",
    "y=yscale*df.y.values\n",
    "# x=df.qa.values\n",
    "# y=yscale*df.wa.values*df.A.values\n",
    "W=eval(fn[fn.find('_w_')+3:-4])\n",
    "boo_lr=fn.find('_lr_')!=-1\n",
    "plt.scatter(x, y,label=r\"$W_{{{:+}}}$\".format(W))\n",
    "#     plt.errorbar(x, y, yerr=y*0.01, fmt='-o',label=r\"W_{:+}\".format(W))\n",
    "\n",
    "# plt.plot(x, m_fk+0.*np.array(x), '--',c='gray',label='Fenton-Karma')\n",
    "# plt.plot(x, m_lr+0.*np.array(x), '-',c='gray',label='Luo-Rudy')\n",
    "# plt.scatter(Dtdt_lst,m_lst,marker='^')\n",
    "# plt.xscale('log')\n",
    "title=os.path.basename(fn)\n",
    "# if boo_lr:\n",
    "#     title='Luo-Rudy Model'\n",
    "# else:\n",
    "#     title='Fenton-Karma Model'\n",
    "plt.title(title,fontsize=fontsize)\n",
    "# plt.legend(fontsize=fontsize-4)\n",
    "\n",
    "plt.xlabel(r'q (1/cm$^2$)',fontsize=fontsize)\n",
    "plt.ylabel(r'rate/area (Hz/cm$^2$)',fontsize=fontsize)\n",
    "# plt.xscale('log')\n",
    "# plt.yscale('log')\n",
    "plt.tick_params(axis='both', which='major', labelsize=fontsize)\n",
    "plt.tick_params(axis='both', which='minor', labelsize=0)\n",
    "# plt.legend(fontsize=fontsize-8)#,ncol=2)\n",
    "# plt.xlim([10,50])\n",
    "# plt.ylim([0,3.5])\n",
    "# plt.grid('on')\n",
    "plt.show()\n",
    "# print(\"considering 20<N<50 spiral tips\")\n",
    "# print(\"considering N<20 spiral tips\")\n",
    "# print(f\"considering {q_min}<q<{q_max}\")"
   ]
  },
  {
   "cell_type": "code",
   "execution_count": 106,
   "metadata": {
    "ExecuteTime": {
     "end_time": "2021-04-23T00:45:02.004718Z",
     "start_time": "2021-04-23T00:45:01.877515Z"
    }
   },
   "outputs": [
    {
     "data": {
      "image/png": "[encoded data removed]",
      "text/plain": [
       "<Figure size 432x288 with 1 Axes>"
      ]
     },
     "metadata": {
      "needs_background": "light"
     },
     "output_type": "display_data"
    }
   ],
   "source": [
    "m_fk=1.945#1.858;#+-0.027; B_fk=2.464+-0.030<br>\n",
    "m_lr=1.544#1.638;#+-0.017; B_fk=5.588+-0.067\n",
    "fontsize=18\n",
    "fn=input_fn_lst[2]\n",
    "yscale=10**3\n",
    "df=load_df_wj(fn)#.sort_values('x')\n",
    "x=df.x.values\n",
    "y=yscale*df.y.values\n",
    "# x=df.qa.values\n",
    "# y=yscale*df.wa.values*df.A.values\n",
    "W=eval(fn[fn.find('_w_')+3:-4])\n",
    "boo_lr=fn.find('_lr_')!=-1\n",
    "plt.scatter(x, y,label=r\"$W_{{{:+}}}$\".format(W))\n",
    "#     plt.errorbar(x, y, yerr=y*0.01, fmt='-o',label=r\"W_{:+}\".format(W))\n",
    "\n",
    "# plt.plot(x, m_fk+0.*np.array(x), '--',c='gray',label='Fenton-Karma')\n",
    "# plt.plot(x, m_lr+0.*np.array(x), '-',c='gray',label='Luo-Rudy')\n",
    "# plt.scatter(Dtdt_lst,m_lst,marker='^')\n",
    "# plt.xscale('log')\n",
    "title=os.path.basename(fn)\n",
    "# if boo_lr:\n",
    "#     title='Luo-Rudy Model'\n",
    "# else:\n",
    "#     title='Fenton-Karma Model'\n",
    "plt.title(title,fontsize=fontsize)\n",
    "# plt.legend(fontsize=fontsize-4)\n",
    "\n",
    "plt.xlabel(r'q (1/cm$^2$)',fontsize=fontsize)\n",
    "plt.ylabel(r'rate/area (Hz/cm$^2$)',fontsize=fontsize)\n",
    "# plt.xscale('log')\n",
    "# plt.yscale('log')\n",
    "plt.tick_params(axis='both', which='major', labelsize=fontsize)\n",
    "plt.tick_params(axis='both', which='minor', labelsize=0)\n",
    "# plt.legend(fontsize=fontsize-8)#,ncol=2)\n",
    "# plt.xlim([10,50])\n",
    "# plt.ylim([0,3.5])\n",
    "# plt.grid('on')\n",
    "plt.show()\n",
    "# print(\"considering 20<N<50 spiral tips\")\n",
    "# print(\"considering N<20 spiral tips\")\n",
    "# print(f\"considering {q_min}<q<{q_max}\")"
   ]
  },
  {
   "cell_type": "code",
   "execution_count": 108,
   "metadata": {
    "ExecuteTime": {
     "end_time": "2021-04-23T00:45:29.105311Z",
     "start_time": "2021-04-23T00:45:28.976066Z"
    }
   },
   "outputs": [
    {
     "data": {
      "image/png": "[encoded data removed]",
      "text/plain": [
       "<Figure size 432x288 with 1 Axes>"
      ]
     },
     "metadata": {
      "needs_background": "light"
     },
     "output_type": "display_data"
    }
   ],
   "source": [
    "m_fk=1.945#1.858;#+-0.027; B_fk=2.464+-0.030<br>\n",
    "m_lr=1.544#1.638;#+-0.017; B_fk=5.588+-0.067\n",
    "fontsize=18\n",
    "fn=input_fn_lst[3]\n",
    "yscale=10**3\n",
    "df=load_df_wj(fn)#.sort_values('x')\n",
    "x=df.x.values\n",
    "y=yscale*df.y.values\n",
    "# x=df.qa.values\n",
    "# y=yscale*df.wa.values*df.A.values\n",
    "W=eval(fn[fn.find('_w_')+3:-4])\n",
    "boo_lr=fn.find('_lr_')!=-1\n",
    "plt.scatter(x, y,label=r\"$W_{{{:+}}}$\".format(W))\n",
    "title=os.path.basename(fn)\n",
    "# if boo_lr:\n",
    "#     title='Luo-Rudy Model'\n",
    "# else:\n",
    "#     title='Fenton-Karma Model'\n",
    "plt.title(title,fontsize=fontsize)\n",
    "# plt.legend(fontsize=fontsize-4)\n",
    "\n",
    "plt.xlabel(r'q (1/cm$^2$)',fontsize=fontsize)\n",
    "plt.ylabel(r'rate/area (Hz/cm$^2$)',fontsize=fontsize)\n",
    "# plt.xscale('log')\n",
    "# plt.yscale('log')\n",
    "plt.tick_params(axis='both', which='major', labelsize=fontsize)\n",
    "plt.tick_params(axis='both', which='minor', labelsize=0)\n",
    "# plt.legend(fontsize=fontsize-8)#,ncol=2)\n",
    "# plt.xlim([10,50])\n",
    "# plt.ylim([0,3.5])\n",
    "# plt.grid('on')\n",
    "plt.show()\n",
    "# print(\"considering 20<N<50 spiral tips\")\n",
    "# print(\"considering N<20 spiral tips\")\n",
    "# print(f\"considering {q_min}<q<{q_max}\")"
   ]
  },
  {
   "cell_type": "code",
   "execution_count": 109,
   "metadata": {
    "ExecuteTime": {
     "end_time": "2021-04-23T00:45:48.545333Z",
     "start_time": "2021-04-23T00:45:48.345120Z"
    }
   },
   "outputs": [
    {
     "data": {
      "image/png": "[encoded data removed]",
      "text/plain": [
       "<Figure size 432x288 with 1 Axes>"
      ]
     },
     "metadata": {
      "needs_background": "light"
     },
     "output_type": "display_data"
    }
   ],
   "source": [
    "m_fk=1.945#1.858;#+-0.027; B_fk=2.464+-0.030<br>\n",
    "m_lr=1.544#1.638;#+-0.017; B_fk=5.588+-0.067\n",
    "fontsize=18\n",
    "fn=input_fn_lst[4]\n",
    "yscale=10**3\n",
    "df=load_df_wj(fn)#.sort_values('x')\n",
    "x=df.x.values\n",
    "y=yscale*df.y.values\n",
    "# x=df.qa.values\n",
    "# y=yscale*df.wa.values*df.A.values\n",
    "W=eval(fn[fn.find('_w_')+3:-4])\n",
    "boo_lr=fn.find('_lr_')!=-1\n",
    "plt.scatter(x, y,label=r\"$W_{{{:+}}}$\".format(W))\n",
    "title=os.path.basename(fn)\n",
    "# if boo_lr:\n",
    "#     title='Luo-Rudy Model'\n",
    "# else:\n",
    "#     title='Fenton-Karma Model'\n",
    "plt.title(title,fontsize=fontsize)\n",
    "# plt.legend(fontsize=fontsize-4)\n",
    "\n",
    "plt.xlabel(r'q (1/cm$^2$)',fontsize=fontsize)\n",
    "plt.ylabel(r'rate/area (Hz/cm$^2$)',fontsize=fontsize)\n",
    "# plt.xscale('log')\n",
    "# plt.yscale('log')\n",
    "plt.tick_params(axis='both', which='major', labelsize=fontsize)\n",
    "plt.tick_params(axis='both', which='minor', labelsize=0)\n",
    "# plt.legend(fontsize=fontsize-8)#,ncol=2)\n",
    "# plt.xlim([10,50])\n",
    "# plt.ylim([0,3.5])\n",
    "# plt.grid('on')\n",
    "plt.show()\n",
    "# print(\"considering 20<N<50 spiral tips\")\n",
    "# print(\"considering N<20 spiral tips\")\n",
    "# print(f\"considering {q_min}<q<{q_max}\")"
   ]
  },
  {
   "cell_type": "code",
   "execution_count": 110,
   "metadata": {
    "ExecuteTime": {
     "end_time": "2021-04-23T00:45:58.186129Z",
     "start_time": "2021-04-23T00:45:58.059257Z"
    }
   },
   "outputs": [
    {
     "data": {
      "image/png": "[encoded data removed]",
      "text/plain": [
       "<Figure size 432x288 with 1 Axes>"
      ]
     },
     "metadata": {
      "needs_background": "light"
     },
     "output_type": "display_data"
    }
   ],
   "source": [
    "m_fk=1.945#1.858;#+-0.027; B_fk=2.464+-0.030<br>\n",
    "m_lr=1.544#1.638;#+-0.017; B_fk=5.588+-0.067\n",
    "fontsize=18\n",
    "fn=input_fn_lst[5]\n",
    "yscale=10**3\n",
    "df=load_df_wj(fn)#.sort_values('x')\n",
    "x=df.x.values\n",
    "y=yscale*df.y.values\n",
    "# x=df.qa.values\n",
    "# y=yscale*df.wa.values*df.A.values\n",
    "W=eval(fn[fn.find('_w_')+3:-4])\n",
    "boo_lr=fn.find('_lr_')!=-1\n",
    "plt.scatter(x, y,label=r\"$W_{{{:+}}}$\".format(W))\n",
    "title=os.path.basename(fn)\n",
    "# if boo_lr:\n",
    "#     title='Luo-Rudy Model'\n",
    "# else:\n",
    "#     title='Fenton-Karma Model'\n",
    "plt.title(title,fontsize=fontsize)\n",
    "# plt.legend(fontsize=fontsize-4)\n",
    "\n",
    "plt.xlabel(r'q (1/cm$^2$)',fontsize=fontsize)\n",
    "plt.ylabel(r'rate/area (Hz/cm$^2$)',fontsize=fontsize)\n",
    "# plt.xscale('log')\n",
    "# plt.yscale('log')\n",
    "plt.tick_params(axis='both', which='major', labelsize=fontsize)\n",
    "plt.tick_params(axis='both', which='minor', labelsize=0)\n",
    "# plt.legend(fontsize=fontsize-8)#,ncol=2)\n",
    "# plt.xlim([10,50])\n",
    "# plt.ylim([0,3.5])\n",
    "# plt.grid('on')\n",
    "plt.show()\n",
    "# print(\"considering 20<N<50 spiral tips\")\n",
    "# print(\"considering N<20 spiral tips\")\n",
    "# print(f\"considering {q_min}<q<{q_max}\")"
   ]
  },
  {
   "cell_type": "code",
   "execution_count": 111,
   "metadata": {
    "ExecuteTime": {
     "end_time": "2021-04-23T00:46:07.192567Z",
     "start_time": "2021-04-23T00:46:07.048745Z"
    }
   },
   "outputs": [
    {
     "data": {
      "image/png": "[encoded data removed]",
      "text/plain": [
       "<Figure size 432x288 with 1 Axes>"
      ]
     },
     "metadata": {
      "needs_background": "light"
     },
     "output_type": "display_data"
    }
   ],
   "source": [
    "m_fk=1.945#1.858;#+-0.027; B_fk=2.464+-0.030<br>\n",
    "m_lr=1.544#1.638;#+-0.017; B_fk=5.588+-0.067\n",
    "fontsize=18\n",
    "fn=input_fn_lst[6]\n",
    "yscale=10**3\n",
    "df=load_df_wj(fn)#.sort_values('x')\n",
    "x=df.x.values\n",
    "y=yscale*df.y.values\n",
    "# x=df.qa.values\n",
    "# y=yscale*df.wa.values*df.A.values\n",
    "W=eval(fn[fn.find('_w_')+3:-4])\n",
    "boo_lr=fn.find('_lr_')!=-1\n",
    "plt.scatter(x, y,label=r\"$W_{{{:+}}}$\".format(W))\n",
    "title=os.path.basename(fn)\n",
    "# if boo_lr:\n",
    "#     title='Luo-Rudy Model'\n",
    "# else:\n",
    "#     title='Fenton-Karma Model'\n",
    "plt.title(title,fontsize=fontsize)\n",
    "# plt.legend(fontsize=fontsize-4)\n",
    "\n",
    "plt.xlabel(r'q (1/cm$^2$)',fontsize=fontsize)\n",
    "plt.ylabel(r'rate/area (Hz/cm$^2$)',fontsize=fontsize)\n",
    "# plt.xscale('log')\n",
    "# plt.yscale('log')\n",
    "plt.tick_params(axis='both', which='major', labelsize=fontsize)\n",
    "plt.tick_params(axis='both', which='minor', labelsize=0)\n",
    "# plt.legend(fontsize=fontsize-8)#,ncol=2)\n",
    "# plt.xlim([10,50])\n",
    "# plt.ylim([0,3.5])\n",
    "# plt.grid('on')\n",
    "plt.show()\n",
    "# print(\"considering 20<N<50 spiral tips\")\n",
    "# print(\"considering N<20 spiral tips\")\n",
    "# print(f\"considering {q_min}<q<{q_max}\")"
   ]
  },
  {
   "cell_type": "code",
   "execution_count": 164,
   "metadata": {
    "ExecuteTime": {
     "end_time": "2021-04-23T01:22:51.611227Z",
     "start_time": "2021-04-23T01:22:51.227229Z"
    }
   },
   "outputs": [
    {
     "data": {
      "image/png": "[encoded data removed]",
      "text/plain": [
       "<Figure size 432x288 with 1 Axes>"
      ]
     },
     "metadata": {
      "needs_background": "light"
     },
     "output_type": "display_data"
    }
   ],
   "source": [
    "# m_fk=1.945#1.858;#+-0.027; B_fk=2.464+-0.030<br>\n",
    "# m_lr=1.544#1.638;#+-0.017; B_fk=5.588+-0.067\n",
    "fontsize=16\n",
    "xv=np.arange(0.02,1.,.05)\n",
    "yscale=10**3\n",
    "\n",
    "#plot data for fk model\n",
    "fn='vidmar_rappel_fk_ncbc_w_-2.csv'\n",
    "df=load_df_wj(fn)#.sort_values('x')\n",
    "x=df.x.values\n",
    "y=yscale*df.y.values\n",
    "plt.scatter(x, y,label='Fenton-Karma Model',alpha=0.3)\n",
    "B,Delta_B,m,Delta_m,Rsq=fit_power_law(x,y)\n",
    "yv_fk=(B*xv)**m\n",
    "\n",
    "#plot data for lr model\n",
    "fn='vidmar_rappel_lr_ncbc_w_-2.csv'\n",
    "df=load_df_wj(fn)#.sort_values('x')\n",
    "x=df.x.values\n",
    "y=yscale*df.y.values\n",
    "plt.scatter(x, y,label='Luo-Rudy Model')\n",
    "B,Delta_B,m,Delta_m,Rsq=fit_power_law(x,y)\n",
    "yv_lr=(B*xv)**m\n",
    "\n",
    "#plot power law fits\n",
    "plt.plot(xv,yv_fk,label='FK power law fit')\n",
    "plt.plot(xv,yv_lr,label='LR power law fit')\n",
    "\n",
    "\n",
    "# plt.title('Absorbing boundary conditions',fontsize=fontsize)\n",
    "plt.legend(fontsize=fontsize-6)#,loc='lower right')\n",
    "plt.xlabel(r'q (1/cm$^2$)',fontsize=fontsize)\n",
    "plt.ylabel(r'$W_{{-2}}/A$ (Hz/cm$^2$)',fontsize=fontsize)\n",
    "plt.xscale('log')\n",
    "plt.yscale('log')\n",
    "plt.tick_params(axis='both', which='major', labelsize=fontsize)\n",
    "plt.tick_params(axis='both', which='minor', labelsize=0)\n",
    "# plt.legend(fontsize=fontsize-8)#,ncol=2)\n",
    "# plt.xlim([10,50])\n",
    "# plt.ylim([0,3.5])\n",
    "plt.show()"
   ]
  },
  {
   "cell_type": "code",
   "execution_count": 232,
   "metadata": {
    "ExecuteTime": {
     "end_time": "2021-04-23T04:25:08.253914Z",
     "start_time": "2021-04-23T04:25:08.213092Z"
    }
   },
   "outputs": [],
   "source": [
    "M_lst=[]; Delta_M_lst=[]\n",
    "m_lst=[]; Delta_m_lst=[]\n",
    "cat_lst=[]\n",
    "data_fk_fn='full_results/data_fig4_vidmar_fk_tt.csv'\n",
    "data_lr_fn='full_results/data_fig4_vidmar_lr_tt.csv'\n",
    "\n",
    "\n",
    "\n",
    "#load the other models and print/plot their power laws\n",
    "data_folder=f\"{nb_dir}/data/full_results/ncbc\"\n",
    "assert (os.path.exists(data_folder))\n",
    "os.chdir(data_folder)\n",
    "input_fn_lst=sorted([fn for fn in os.listdir() if fn.find('.csv')!=-1])\n",
    "# len(input_fn_lst)\n",
    "os.chdir(data_folder)\n",
    "fn='vidmar_rappel_fk_ncbc_w_-2.csv'\n",
    "df=load_df_wj(fn)#.sort_values('x')\n",
    "x=df.x.values\n",
    "y=yscale*df.y.values\n",
    "B,Delta_B,m,Delta_m,Rsq=fit_power_law(x,y)\n",
    "rmse=compute_power_rmse(x,y,m,B)\n",
    "M, Delta_M= comp_power_scale(B,Delta_B,m,Delta_m)\n",
    "M_lst.append(M);Delta_M_lst.append(Delta_M);\n",
    "m_lst.append(m);Delta_m_lst.append(Delta_m);\n",
    "cat_lst.append('Fenton-Karma\\n(NCBC)')\n",
    "\n",
    "#load birth death rates from the full model\n",
    "data_folder=f'{nb_dir}/data'\n",
    "os.chdir(data_folder)\n",
    "yscale=10**3\n",
    "fn=os.path.basename(data_fk_fn)\n",
    "fk=pd.read_csv(data_fk_fn)\n",
    "fk['N']=fk['No2']*2\n",
    "fk['q']=fk['N']/fk['A'] #number of tips per square centimeter\n",
    "fk['w']=fk['rate']/fk['A'] #[mHz?]/cm^2\n",
    "# query=(fk.q>0.2)&(fk.q<1.)#fk.q<0.7#<0.2\n",
    "x=fk.q.values\n",
    "y=yscale*fk.w.values\n",
    "B,Delta_B,m,Delta_m,Rsq=fit_power_law(x,y)\n",
    "rmse=compute_power_rmse(x,y,m,B)\n",
    "M, Delta_M= comp_power_scale(B,Delta_B,m,Delta_m)\n",
    "M_lst.append(M);Delta_M_lst.append(Delta_M);\n",
    "m_lst.append(m);Delta_m_lst.append(Delta_m);\n",
    "cat_lst.append('Fenton-Karma\\n(PBC)')\n",
    "\n",
    "#load the other models and print/plot their power laws\n",
    "data_folder=f\"{nb_dir}/data/full_results/ncbc\"\n",
    "assert (os.path.exists(data_folder))\n",
    "os.chdir(data_folder)\n",
    "input_fn_lst=sorted([fn for fn in os.listdir() if fn.find('.csv')!=-1])\n",
    "# len(input_fn_lst)\n",
    "fn='vidmar_rappel_lr_ncbc_w_-2.csv'\n",
    "df=load_df_wj(fn)#.sort_values('x')\n",
    "x=df.x.values\n",
    "y=yscale*df.y.values\n",
    "B,Delta_B,m,Delta_m,Rsq=fit_power_law(x,y)\n",
    "rmse=compute_power_rmse(x,y,m,B)\n",
    "M, Delta_M= comp_power_scale(B,Delta_B,m,Delta_m)\n",
    "M_lst.append(M);Delta_M_lst.append(Delta_M);\n",
    "m_lst.append(m);Delta_m_lst.append(Delta_m);\n",
    "cat_lst.append('Luo-Rudy\\n(NCBC)')\n",
    "\n",
    "\n",
    "\n",
    "#load birth death rates from the full model\n",
    "data_folder=f'{nb_dir}/data'\n",
    "os.chdir(data_folder)\n",
    "fn=os.path.basename(data_lr_fn)\n",
    "fk=pd.read_csv(data_lr_fn)\n",
    "fk['N']=fk['No2']*2\n",
    "fk['q']=fk['N']/fk['A'] #number of tips per square centimeter\n",
    "fk['w']=fk['rate']/fk['A'] #[mHz?]/cm^2\n",
    "x=fk.q.values\n",
    "y=yscale*fk.w.values\n",
    "B,Delta_B,m,Delta_m,Rsq=fit_power_law(x,y)\n",
    "rmse=compute_power_rmse(x,y,m,B)\n",
    "M, Delta_M= comp_power_scale(B,Delta_B,m,Delta_m)\n",
    "M_lst.append(M);Delta_M_lst.append(Delta_M);\n",
    "m_lst.append(m);Delta_m_lst.append(Delta_m);\n",
    "cat_lst.append('Luo-Rudy\\n(PBC)')"
   ]
  },
  {
   "cell_type": "code",
   "execution_count": 245,
   "metadata": {
    "ExecuteTime": {
     "end_time": "2021-04-23T04:28:18.605141Z",
     "start_time": "2021-04-23T04:28:18.407535Z"
    }
   },
   "outputs": [
    {
     "data": {
      "image/png": "[encoded data removed]",
      "text/plain": [
       "<Figure size 864x288 with 2 Axes>"
      ]
     },
     "metadata": {
      "needs_background": "light"
     },
     "output_type": "display_data"
    }
   ],
   "source": [
    "cat_lst\n",
    "\n",
    "\n",
    "################\n",
    "# Start Plotting\n",
    "################\n",
    "figsize=12,4\n",
    "fontsize=14\n",
    "fig,axs=plt.subplots(ncols=2,figsize=figsize)\n",
    "\n",
    "################\n",
    "# Plot FK/LR NCBC/PBC\n",
    "################\n",
    "ax=axs[0]\n",
    "ax.errorbar(x=cat_lst, y=m_lst, yerr=Delta_m_lst, fmt='o')#,label=r\"W_{:+}\".format(W))\n",
    "ax.set_ylabel(r'm',fontsize=fontsize)\n",
    "ax.tick_params(axis='both', which='major', labelsize=fontsize)\n",
    "ax.tick_params(axis='both', which='minor', labelsize=0)\n",
    "\n",
    "ax=axs[1]\n",
    "ax.errorbar(x=cat_lst, y=M_lst, yerr=Delta_M_lst, fmt='o')#,label=r\"W_{:+}\".format(W))\n",
    "ax.set_ylabel(r'M  ( Hz/cm$^{{2(m-1)}}$ )',fontsize=fontsize)\n",
    "ax.tick_params(axis='both', which='major', labelsize=fontsize)\n",
    "ax.tick_params(axis='both', which='minor', labelsize=0)\n",
    "\n",
    "plt.tight_layout()\n",
    "plt.show()"
   ]
  },
  {
   "cell_type": "code",
   "execution_count": null,
   "metadata": {
    "ExecuteTime": {
     "end_time": "2021-04-23T04:20:01.691143Z",
     "start_time": "2021-04-23T04:20:01.672701Z"
    }
   },
   "outputs": [],
   "source": []
  },
  {
   "cell_type": "code",
   "execution_count": null,
   "metadata": {},
   "outputs": [],
   "source": []
  }
 ],
 "metadata": {
  "kernelspec": {
   "display_name": "Python 3",
   "language": "python",
   "name": "python3"
  },
  "language_info": {
   "codemirror_mode": {
    "name": "ipython",
    "version": 3
   },
   "file_extension": ".py",
   "mimetype": "text/x-python",
   "name": "python",
   "nbconvert_exporter": "python",
   "pygments_lexer": "ipython3",
   "version": "3.7.6"
  },
  "toc": {
   "base_numbering": 1,
   "nav_menu": {},
   "number_sections": true,
   "sideBar": true,
   "skip_h1_title": false,
   "title_cell": "Table of Contents",
   "title_sidebar": "Contents",
   "toc_cell": false,
   "toc_position": {},
   "toc_section_display": true,
   "toc_window_display": false
  },
  "varInspector": {
   "cols": {
    "lenName": 16,
    "lenType": 16,
    "lenVar": 40
   },
   "kernels_config": {
    "python": {
     "delete_cmd_postfix": "",
     "delete_cmd_prefix": "del ",
     "library": "var_list.py",
     "varRefreshCmd": "print(var_dic_list())"
    },
    "r": {
     "delete_cmd_postfix": ") ",
     "delete_cmd_prefix": "rm(",
     "library": "var_list.r",
     "varRefreshCmd": "cat(var_dic_list()) "
    }
   },
   "types_to_exclude": [
    "module",
    "function",
    "builtin_function_or_method",
    "instance",
    "_Feature"
   ],
   "window_display": false
  }
 },
 "nbformat": 4,
 "nbformat_minor": 4
}
