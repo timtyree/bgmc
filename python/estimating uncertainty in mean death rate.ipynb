{
 "cells": [
  {
   "cell_type": "markdown",
   "metadata": {},
   "source": [
    "# estimating uncertainty in mean death rate\n",
    "Tim Tyree<br>\n",
    "3.30.2021"
   ]
  },
  {
   "cell_type": "code",
   "execution_count": 1,
   "metadata": {
    "ExecuteTime": {
     "end_time": "2021-03-30T19:44:08.450813Z",
     "start_time": "2021-03-30T19:44:07.896224Z"
    }
   },
   "outputs": [],
   "source": [
    "from lib.my_initialization import *\n",
    "import random,scipy\n",
    "from scipy import stats"
   ]
  },
  {
   "cell_type": "code",
   "execution_count": 2,
   "metadata": {
    "ExecuteTime": {
     "end_time": "2021-03-30T19:44:08.465684Z",
     "start_time": "2021-03-30T19:44:08.451899Z"
    }
   },
   "outputs": [],
   "source": [
    "#load birth death rates from the full model\n",
    "data_folder=f'{nb_dir}/data'\n",
    "os.chdir(data_folder)\n",
    "\n",
    "data_fk_fn='full_results/data_fig4_vidmar_fk_tt.csv'\n",
    "data_lr_fn='full_results/data_fig4_vidmar_lr_tt.csv'\n",
    "\n",
    "fk=pd.read_csv(data_fk_fn)\n",
    "fk['N']=fk['No2']*2\n",
    "fk['q']=fk['N']/fk['A'] #number of tips per square centimeter\n",
    "fk['w']=fk['rate']/fk['A'] #[Hz?]/cm^2\n",
    "\n",
    "lr=pd.read_csv(data_lr_fn)\n",
    "lr['N']=lr['No2']*2\n",
    "lr['q']=lr['N']/lr['A'] #number of tips per square centimeter\n",
    "lr['w']=lr['rate']/lr['A'] #[Hz?]/cm^2"
   ]
  },
  {
   "cell_type": "code",
   "execution_count": 3,
   "metadata": {
    "ExecuteTime": {
     "end_time": "2021-03-30T19:44:14.695481Z",
     "start_time": "2021-03-30T19:44:08.467442Z"
    }
   },
   "outputs": [],
   "source": [
    "#load osgdata\n",
    "data_mc_fn='osg_output/run_1_merged.csv'\n",
    "df=pd.read_csv(data_mc_fn)\n",
    "df.drop(columns=['dt'],inplace=True)"
   ]
  },
  {
   "cell_type": "markdown",
   "metadata": {
    "ExecuteTime": {
     "end_time": "2021-03-30T19:31:58.115111Z",
     "start_time": "2021-03-30T19:31:58.030471Z"
    }
   },
   "source": [
    "__Schema for results__\n",
    "- for each r,D,kappa,L triplet\n",
    "    - TODO: compute mean w versus q\n",
    "    - TODO: save as pandas data frame\n",
    "    - TODO: bootstrap an uncertainty in this mean w\n",
    "- TODO(later): find out where w versus q has all areas falling on the same axis"
   ]
  },
  {
   "cell_type": "code",
   "execution_count": 4,
   "metadata": {
    "ExecuteTime": {
     "end_time": "2021-03-30T19:44:14.700860Z",
     "start_time": "2021-03-30T19:44:14.696611Z"
    }
   },
   "outputs": [
    {
     "name": "stdout",
     "output_type": "stream",
     "text": [
      "[13.74772708 12.5        10.          7.5         7.07106781  6.244998\n",
      "  5.          4.5       ]\n"
     ]
    }
   ],
   "source": [
    "# the set of all inputs\n",
    "r_values=np.array([0.1,0.2,0.3,0.4,0.5,1.0])#cm\n",
    "D_values=np.array([0.25,0.5,0.75,1.0,1.25,1.5,1.75,2.0])#cm^2/s\n",
    "A_values=np.array([20.25,25,39,50,56.25,100,156.25,189])[::-1]#cm^2\n",
    "L_values=np.sqrt(A_values)#cm\n",
    "kappa_values=np.array([1,10,100])#1/s\n",
    "print(L_values)"
   ]
  },
  {
   "cell_type": "code",
   "execution_count": 5,
   "metadata": {
    "ExecuteTime": {
     "end_time": "2021-03-30T19:44:14.729055Z",
     "start_time": "2021-03-30T19:44:14.701937Z"
    }
   },
   "outputs": [
    {
     "data": {
      "text/plain": [
       "1500"
      ]
     },
     "execution_count": 5,
     "metadata": {},
     "output_type": "execute_result"
    }
   ],
   "source": [
    "#slice data for a given condition\n",
    "r=0.1;D=1.5;L=10.;kappa=10;\n",
    "query=(df.r==r)&(df.D==D)&(df.L==L)&(df.kappa==kappa)\n",
    "dff=df[query].copy().drop(columns=['r','D','L','kappa'])\n",
    "dff['11'].size"
   ]
  },
  {
   "cell_type": "code",
   "execution_count": 6,
   "metadata": {
    "ExecuteTime": {
     "end_time": "2021-03-30T19:44:14.854520Z",
     "start_time": "2021-03-30T19:44:14.731518Z"
    }
   },
   "outputs": [],
   "source": [
    "#extract the values\n",
    "dfd=dff.describe().T.drop(columns=['count'])\n",
    "# y_values=dfd['50%'].values.copy()\n",
    "# yerr1_values=dfd['25%'].values.copy()\n",
    "# yerr2_values=dfd['75%'].values.copy()\n",
    "\n",
    "y_values=dfd['mean'].values.copy()\n",
    "# y2err1_values=y2_values-dfd['std'].values.copy()\n",
    "# y2err2_values=y2_values+dfd['std'].values.copy()\n",
    "dfd.reset_index(inplace=True,drop=True)\n",
    "dfd['N']=dfd.index.values+11\n",
    "x_values=dfd.N.values"
   ]
  },
  {
   "cell_type": "code",
   "execution_count": 11,
   "metadata": {
    "ExecuteTime": {
     "end_time": "2021-03-30T19:45:22.001536Z",
     "start_time": "2021-03-30T19:45:21.994719Z"
    }
   },
   "outputs": [],
   "source": [
    "def model(xs, k, m):\n",
    "    return k * xs + m\n",
    "\n",
    "def l2_loss(tup, xs, ys):\n",
    "    k, m = tup\n",
    "    delta = model(xs, k, m) - ys\n",
    "    return np.dot(delta, delta)"
   ]
  },
  {
   "cell_type": "code",
   "execution_count": 14,
   "metadata": {
    "ExecuteTime": {
     "end_time": "2021-03-30T19:46:51.465260Z",
     "start_time": "2021-03-30T19:46:51.180237Z"
    }
   },
   "outputs": [
    {
     "data": {
      "image/png": "[encoded data removed]",
      "text/plain": [
       "<Figure size 432x288 with 1 Axes>"
      ]
     },
     "metadata": {
      "needs_background": "light"
     },
     "output_type": "display_data"
    }
   ],
   "source": [
    "# xs=x_values; x_scale=x_values\n",
    "# ys=y_values; y_scale=y_values\n",
    "# plt.scatter(xs, ys, alpha=0.5, s=100)\n",
    "# xys = list(zip(xs, ys))\n",
    "# curves = []\n",
    "# for i in range(100):\n",
    "#     # sample with replacement\n",
    "#     bootstrap = [random.choice(xys) for _ in xys]\n",
    "#     xs_bootstrap = np.array([x for x, y in bootstrap])\n",
    "#     ys_bootstrap = np.array([y for x, y in bootstrap])\n",
    "#     k_hat, m_hat = scipy.optimize.minimize(\n",
    "#         l2_loss, (0, 0), args=(xs_bootstrap, ys_bootstrap)\n",
    "#     ).x\n",
    "#     curves.append(model(x_scale, k_hat, m_hat))\n",
    "\n",
    "# # Plot individual lines\n",
    "# for curve in curves:\n",
    "#     plt.plot(x_scale, curve, alpha=0.1, linewidth=3, color='green')\n",
    "\n",
    "# # Plot 95% confidence interval\n",
    "# lo, hi = np.percentile(curves, (2.5, 97.5), axis=0)\n",
    "# plt.fill_between(x_scale, lo, hi, color='red', alpha=0.5)\n",
    "# # plt.ylabel('Weight of elephant (kg)')\n",
    "# plt.show()"
   ]
  },
  {
   "cell_type": "code",
   "execution_count": 94,
   "metadata": {
    "ExecuteTime": {
     "end_time": "2021-03-30T22:39:05.802793Z",
     "start_time": "2021-03-30T22:39:05.239118Z"
    }
   },
   "outputs": [
    {
     "data": {
      "image/png": "[encoded data removed]",
      "text/plain": [
       "<Figure size 432x360 with 1 Axes>"
      ]
     },
     "metadata": {
      "needs_background": "light"
     },
     "output_type": "display_data"
    }
   ],
   "source": [
    "fontsize=18\n",
    "figsize=(6,5)\n",
    "saving=True\n",
    "savefig_folder=f'{nb_dir}/data/osg_output/fig'\n",
    "savefig_fn=f'stopping_times_log_r_{r}_D_{D}_k_{kappa}_A={L**2:.2f}.png'\n",
    "fig, ax = plt.subplots(ncols=1,figsize=figsize)# ax=axs[1]\n",
    "ni_lst=[4,19,-10]\n",
    "T_lst=[];n_lst=[]\n",
    "for ni in ni_lst:\n",
    "    col = dff.columns[ni]\n",
    "    n=eval(col)\n",
    "    T=dff[col].values\n",
    "    n_lst.append(n)\n",
    "    T_lst.append(T)\n",
    "    plt.hist(np.log(T),bins=30,label=f\"n={n}\",alpha=0.5)\n",
    "plt.legend(fontsize=fontsize)\n",
    "plt.xlabel('log of time to first collision in seconds',fontsize=fontsize)\n",
    "plt.ylabel('frequency',fontsize=fontsize)\n",
    "plt.tick_params(axis='both', which='major', labelsize=fontsize)\n",
    "plt.tick_params(axis='both', which='minor', labelsize=0)\n",
    "plt.title(f'r={r} cm, D={D} '+r'cm$^{2}$/s, $\\kappa=$'+f'{kappa} Hz,\\nA={L**2:.2f} '+r\"cm$^2$\", fontsize=fontsize)\n",
    "plt.tight_layout()\n",
    "# plt.xscale('log')\n",
    "if not saving:\n",
    "    plt.show()\n",
    "else:\n",
    "    plt.tight_layout()\n",
    "    os.chdir(savefig_folder)\n",
    "    plt.savefig(savefig_fn, dpi=300)\n",
    "#         print(f\"saved figure in \\n\\t{savefig_fn}\")\n",
    "#     plt.close()"
   ]
  },
  {
   "cell_type": "code",
   "execution_count": 61,
   "metadata": {
    "ExecuteTime": {
     "end_time": "2021-03-30T20:11:08.760786Z",
     "start_time": "2021-03-30T20:11:08.757015Z"
    }
   },
   "outputs": [
    {
     "data": {
      "text/plain": [
       "1474"
      ]
     },
     "execution_count": 61,
     "metadata": {},
     "output_type": "execute_result"
    }
   ],
   "source": [
    "len(list(set(T_lst[2])))\n",
    "# len(T_lst[1])"
   ]
  },
  {
   "cell_type": "markdown",
   "metadata": {
    "ExecuteTime": {
     "end_time": "2021-03-30T20:11:14.269759Z",
     "start_time": "2021-03-30T20:11:14.253255Z"
    }
   },
   "source": [
    "__Result__: This stopping time data is not significantly different from the fitted exponential distribution according to the Anderson-Darling test, the Cram\\'er-von Mises test, the Kolmagorov-Smirnov test, the Kuiper test, the Pearson \\[Chi]^2 test, and the Watson U^2 test (p>0.1).  This holds for a small number of particles (N=11) and for a large number of particles (N=69).  Here, we consider A=100cm^2, r = 0.1 cm, D = 1.5 cm^2/s, and \\[Kappa]=10 Hz.\n",
    "\n",
    "__Discussion__:  Let $T(N)\\sim Exp[\\bar{T}(N)]$ be the distribution of times for the reaction $N\\rightarrow N-2$.\n",
    "\n",
    "An emergent result is $T(N)\\sim Exp[\\bar{T}(N)]$, where $Exp[\\mu]$ is the exponential distribution with mean value $\\mu>0$.\n",
    "\n",
    "The corresponding death rate follows the statisticical distribution, \n",
    "$$\n",
    "W_{-2}(N)\\sim 1/T(N)\\sim Exp[-\\bar{T}(N)]\n",
    "$$\n",
    "\n",
    "With normalized probability density function\n",
    "$$\n",
    "P(W_{-2}=W)=?? Nope\n",
    "$$"
   ]
  },
  {
   "cell_type": "code",
   "execution_count": 103,
   "metadata": {
    "ExecuteTime": {
     "end_time": "2021-03-30T22:44:39.425521Z",
     "start_time": "2021-03-30T22:44:38.870111Z"
    }
   },
   "outputs": [
    {
     "data": {
      "image/png": "[encoded data removed]",
      "text/plain": [
       "<Figure size 432x360 with 1 Axes>"
      ]
     },
     "metadata": {
      "needs_background": "light"
     },
     "output_type": "display_data"
    }
   ],
   "source": [
    "fontsize=18\n",
    "figsize=(6,5)\n",
    "saving=True\n",
    "savefig_folder=f'{nb_dir}/data/osg_output/fig'\n",
    "savefig_fn=f'lograte_r_{r}_D_{D}_k_{kappa}_A={L**2:.2f}.png'\n",
    "fig, ax = plt.subplots(ncols=1,figsize=figsize)# ax=axs[1]\n",
    "ni_lst=[4,19,-10]\n",
    "T_lst=[]\n",
    "for ni in ni_lst:\n",
    "    col = dff.columns[ni]\n",
    "    n=eval(col)\n",
    "    T=dff[col].values\n",
    "    T_lst.append(T)\n",
    "    plt.hist(np.log(np.mean(T)/T),bins=30,label=f\"n={n}\",alpha=0.5)\n",
    "plt.legend(fontsize=fontsize)\n",
    "plt.xlabel(r'$\\log(W_{-2}/\\mu_{W_{-2}})$',fontsize=fontsize)\n",
    "plt.ylabel('frequency',fontsize=fontsize)\n",
    "plt.tick_params(axis='both', which='major', labelsize=fontsize)\n",
    "plt.tick_params(axis='both', which='minor', labelsize=0)\n",
    "plt.title(f'r={r} cm, D={D} '+r'cm$^{2}$/s, $\\kappa=$'+f'{kappa} Hz,\\nA={L**2:.2f} '+r\"cm$^2$\", fontsize=fontsize)\n",
    "plt.tight_layout()\n",
    "# plt.xscale('log')\n",
    "if not saving:\n",
    "    plt.show()\n",
    "else:\n",
    "    plt.tight_layout()\n",
    "    os.chdir(savefig_folder)\n",
    "    plt.savefig(savefig_fn, dpi=300)\n",
    "#         print(f\"saved figure in \\n\\t{savefig_fn}\")\n",
    "#     plt.close()"
   ]
  },
  {
   "cell_type": "code",
   "execution_count": 172,
   "metadata": {
    "ExecuteTime": {
     "end_time": "2021-03-31T04:55:46.347425Z",
     "start_time": "2021-03-31T04:55:46.339005Z"
    }
   },
   "outputs": [
    {
     "data": {
      "text/plain": [
       "0.026457513110645904"
      ]
     },
     "execution_count": 172,
     "metadata": {},
     "output_type": "execute_result"
    }
   ],
   "source": [
    "np.sqrt(0.00070)"
   ]
  },
  {
   "cell_type": "markdown",
   "metadata": {},
   "source": [
    "## Validation of error estimation by bootstrap\n",
    "Summary: we may approximate the variance of the mean death rate by\n",
    "$$Var[\\hat{\\mu}_{W_{-2}}]\\sim \\mu_{W_{-2}} Var[Z'] = \\mu_{W_{-2}}*0.00070(7)$$\n",
    "\n",
    "Suggesting 95% confidence interval, \n",
    "\n",
    "$$\n",
    "E[W_{-2}]  = \\mu_{W_{-2}}^\\text{apparent} \\cdot( 1 \\pm 0.05 )  \n",
    "$$\n",
    "\n",
    "Or a constant 5% relative uncertainty in mean death rate."
   ]
  },
  {
   "cell_type": "code",
   "execution_count": 105,
   "metadata": {
    "ExecuteTime": {
     "end_time": "2021-03-30T22:49:41.828118Z",
     "start_time": "2021-03-30T22:49:09.514503Z"
    }
   },
   "outputs": [
    {
     "data": {
      "image/png": "[encoded data removed]",
      "text/plain": [
       "<Figure size 432x360 with 1 Axes>"
      ]
     },
     "metadata": {
      "needs_background": "light"
     },
     "output_type": "display_data"
    }
   ],
   "source": [
    "fontsize=18\n",
    "figsize=(6,5)\n",
    "saving=True\n",
    "savefig_folder=f'{nb_dir}/data/osg_output/fig'\n",
    "savefig_fn=f'rate_bootstrap_r_{r}_D_{D}_k_{kappa}_A={L**2:.2f}.png'\n",
    "fig, ax = plt.subplots(ncols=1,figsize=figsize)# ax=axs[1]\n",
    "mu_lst=[];sig_lst=[]\n",
    "bootstrap_raw_lst=[]\n",
    "for n,T in zip(n_lst,T_lst):\n",
    "    mean_lst = []\n",
    "    for i in range(10000):\n",
    "        # sample with replacement\n",
    "        T_bootstrap = [random.choice(T) for _ in T]\n",
    "        mean=1/np.mean(T_bootstrap)#np.log(np.mean(T)/T)\n",
    "        mean_lst.append(mean)\n",
    "    # Plot histogram of mean values\n",
    "    plt.hist(mean_lst,bins=30,label=f\"n={n}\",alpha=0.5)\n",
    "    bootstrap_raw_lst.append(mean_lst)\n",
    "    mu=np.mean(mean_lst)\n",
    "    sig=np.std(mean_lst)\n",
    "    mu_lst.append(mu)\n",
    "    sig_lst.append(sig)\n",
    "\n",
    "plt.legend(fontsize=fontsize)\n",
    "plt.xlabel(r'mean death rate (Hz)',fontsize=fontsize)\n",
    "plt.ylabel('probability',fontsize=fontsize)\n",
    "plt.tick_params(axis='both', which='major', labelsize=fontsize)\n",
    "plt.tick_params(axis='both', which='minor', labelsize=0)\n",
    "plt.title(f'r={r} cm, D={D} '+r'cm$^{2}$/s, $\\kappa=$'+f'{kappa} Hz,\\nA={L**2:.2f} '+r\"cm$^2$\", fontsize=fontsize)\n",
    "plt.tight_layout()\n",
    "# plt.xscale('log')\n",
    "if not saving:\n",
    "    plt.show()\n",
    "else:\n",
    "    plt.tight_layout()\n",
    "    os.chdir(savefig_folder)\n",
    "    plt.savefig(savefig_fn, dpi=300)\n",
    "#         print(f\"saved figure in \\n\\t{savefig_fn}\")\n",
    "#     plt.close()"
   ]
  },
  {
   "cell_type": "code",
   "execution_count": 106,
   "metadata": {
    "ExecuteTime": {
     "end_time": "2021-03-30T22:49:42.784132Z",
     "start_time": "2021-03-30T22:49:42.781937Z"
    }
   },
   "outputs": [
    {
     "name": "stdout",
     "output_type": "stream",
     "text": [
      "[0.35124550133602433, 1.4079963092361205, 5.4387903112006]\n",
      "[0.008928075677992484, 0.03770831751200233, 0.14215029822783845]\n"
     ]
    }
   ],
   "source": [
    "print(mu_lst)\n",
    "print(sig_lst)"
   ]
  },
  {
   "cell_type": "code",
   "execution_count": 170,
   "metadata": {
    "ExecuteTime": {
     "end_time": "2021-03-31T04:55:32.056814Z",
     "start_time": "2021-03-31T04:54:57.554807Z"
    }
   },
   "outputs": [
    {
     "data": {
      "image/png": "[encoded data removed]",
      "text/plain": [
       "<Figure size 432x360 with 1 Axes>"
      ]
     },
     "metadata": {
      "needs_background": "light"
     },
     "output_type": "display_data"
    }
   ],
   "source": [
    "fontsize=18\n",
    "figsize=(6,5)\n",
    "saving=True\n",
    "savefig_folder=f'{nb_dir}/data/osg_output/fig'\n",
    "# savefig_fn=f'rate_bootstrap_fractional_log_r_{r}_D_{D}_k_{kappa}_A={L**2:.2f}.png'\n",
    "savefig_fn=f'rate_bootstrap_fractional_r_{r}_D_{D}_k_{kappa}_A={L**2:.2f}.png'\n",
    "fig, ax = plt.subplots(ncols=1,figsize=figsize)# ax=axs[1]\n",
    "mu_lst=[];sig_lst=[]\n",
    "bootstrap_lst=[]\n",
    "for n,T in zip(n_lst,T_lst):\n",
    "    mean_lst = []\n",
    "    muT=np.mean(T)\n",
    "    for i in range(10000):\n",
    "        # sample with replacement\n",
    "        T_bootstrap = [random.choice(T) for _ in T]\n",
    "#         mean=np.log(muT/np.mean(T_bootstrap))\n",
    "        mean=muT/np.mean(T_bootstrap)\n",
    "        mean_lst.append(mean)\n",
    "    # Plot histogram of mean values\n",
    "    plt.hist(mean_lst,bins=30,label=f\"n={n}\",alpha=0.5)\n",
    "    bootstrap_lst.append(mean_lst)\n",
    "    mu=np.mean(mean_lst)\n",
    "    sig=np.std(mean_lst)\n",
    "    mu_lst.append(mu)\n",
    "    sig_lst.append(sig)\n",
    "\n",
    "plt.legend(fontsize=fontsize)\n",
    "plt.xlabel(r'$\\hat{\\mu}_{W_{-2}}/\\mu_{W_{-2}}$',fontsize=fontsize)\n",
    "# plt.xlabel(r'$\\log(\\hat{\\mu}_{W_{-2}}/\\mu_{W_{-2}})$ (Hz)',fontsize=fontsize)\n",
    "plt.ylabel('probability',fontsize=fontsize)\n",
    "plt.tick_params(axis='both', which='major', labelsize=fontsize)\n",
    "plt.tick_params(axis='both', which='minor', labelsize=0)\n",
    "plt.title(f'r={r} cm, D={D} '+r'cm$^{2}$/s, $\\kappa=$'+f'{kappa} Hz,\\nA={L**2:.2f} '+r\"cm$^2$\", fontsize=fontsize)\n",
    "plt.tight_layout()\n",
    "# plt.xscale('log')\n",
    "if not saving:\n",
    "    plt.show()\n",
    "else:\n",
    "    plt.tight_layout()\n",
    "    os.chdir(savefig_folder)\n",
    "    plt.savefig(savefig_fn, dpi=300)\n",
    "#         print(f\"saved figure in \\n\\t{savefig_fn}\")\n",
    "#     plt.close()"
   ]
  },
  {
   "cell_type": "code",
   "execution_count": 109,
   "metadata": {
    "ExecuteTime": {
     "end_time": "2021-03-30T22:54:05.970602Z",
     "start_time": "2021-03-30T22:54:05.962315Z"
    }
   },
   "outputs": [
    {
     "name": "stdout",
     "output_type": "stream",
     "text": [
      "[1.0007088266563855, 1.0007327683514395, 1.000388558246389]\n",
      "[0.025444680157234202, 0.026843710145676505, 0.026202725287278232]\n"
     ]
    }
   ],
   "source": [
    "print(mu_lst)\n",
    "print(sig_lst)"
   ]
  },
  {
   "cell_type": "code",
   "execution_count": 110,
   "metadata": {
    "ExecuteTime": {
     "end_time": "2021-03-30T22:54:33.283217Z",
     "start_time": "2021-03-30T22:54:33.273783Z"
    }
   },
   "outputs": [
    {
     "name": "stdout",
     "output_type": "stream",
     "text": [
      "0.026163705196729645\n"
     ]
    }
   ],
   "source": [
    "print(np.mean((0.025444680157234202, 0.026843710145676505, 0.026202725287278232)))"
   ]
  },
  {
   "cell_type": "code",
   "execution_count": 131,
   "metadata": {
    "ExecuteTime": {
     "end_time": "2021-03-30T23:15:31.734272Z",
     "start_time": "2021-03-30T23:15:31.722197Z"
    }
   },
   "outputs": [
    {
     "name": "stdout",
     "output_type": "stream",
     "text": [
      "n=15,p=0.366682\n",
      "p = 0.366682\n",
      "\tThe null hypothesis cannot be rejected.  The data is not significantly different from the normal distribution.\n",
      "n=30,p=0.428214\n",
      "p = 0.428214\n",
      "\tThe null hypothesis cannot be rejected.  The data is not significantly different from the normal distribution.\n",
      "n=60,p=0.0759896\n",
      "p = 0.0759896\n",
      "\tThe null hypothesis cannot be rejected.  The data is not significantly different from the normal distribution.\n"
     ]
    }
   ],
   "source": [
    "for n,bootstrap in zip(n_lst,bootstrap_lst):\n",
    "#     _,p=stats.shapiro(bootstrap)\n",
    "    _, p = stats.normaltest(bootstrap)\n",
    "    print(f\"n={n},p={p:g}\")\n",
    "    alpha = 0.05\n",
    "    print(\"p = {:g}\".format(p))\n",
    "\n",
    "    if p < alpha:  # null hypothesis: x comes from a normal distribution\n",
    "        print(\"\\tThe null hypothesis can be rejected.  The data is significantly different from the normal distribution.\")\n",
    "    else:\n",
    "        print(\"\\tThe null hypothesis cannot be rejected.  The data is not significantly different from the normal distribution.\")"
   ]
  },
  {
   "cell_type": "code",
   "execution_count": 128,
   "metadata": {
    "ExecuteTime": {
     "end_time": "2021-03-30T23:14:08.459062Z",
     "start_time": "2021-03-30T23:14:08.439352Z"
    }
   },
   "outputs": [
    {
     "name": "stdout",
     "output_type": "stream",
     "text": [
      "p = 0.64408\n",
      "The null hypothesis cannot be rejected\n"
     ]
    }
   ],
   "source": [
    "from scipy import stats\n",
    "pts = 1000\n",
    "np.random.seed(28041990)\n",
    "a = np.random.normal(0, 1, size=pts)\n",
    "b = np.random.normal(0, 1, size=pts)\n",
    "x = np.concatenate((a, b))\n",
    "k2, p = stats.normaltest(x)\n",
    "alpha = 1e-3\n",
    "print(\"p = {:g}\".format(p))\n",
    "\n",
    "if p < alpha:  # null hypothesis: x comes from a normal distribution\n",
    "    print(\"The null hypothesis can be rejected\")\n",
    "else:\n",
    "    print(\"The null hypothesis cannot be rejected\")"
   ]
  },
  {
   "cell_type": "markdown",
   "metadata": {},
   "source": [
    "me"
   ]
  },
  {
   "cell_type": "markdown",
   "metadata": {},
   "source": [
    "__Results:__  \n",
    "- The quantity $Z = \\log(\\hat{\\mu}_{W_{-2}}/\\mu_{W_{-2}})$ is not significantly different from a normal distribution with mean 0 and a sample variance that is independent of the number of particles.\n",
    "- The 95% CI for the $\\sigma_Z^2$ is 0.00069 +- 0.00003\n",
    "- Corollary:\n",
    "    - $\\hat{\\mu}_{W_{-2}}\\sim \\mu_{W_{-2}} e^Z$\n"
   ]
  },
  {
   "cell_type": "code",
   "execution_count": 140,
   "metadata": {
    "ExecuteTime": {
     "end_time": "2021-03-30T23:22:32.000181Z",
     "start_time": "2021-03-30T23:22:31.994882Z"
    }
   },
   "outputs": [
    {
     "name": "stdout",
     "output_type": "stream",
     "text": [
      "the 95% CI for the $\\sigma_Z^2$ is 0.00069 +- 0.00003\n"
     ]
    }
   ],
   "source": [
    "expvar=np.mean([sig**2 for sig in sig_lst])\n",
    "errvar=np.std([sig**2 for sig in sig_lst])\n",
    "print(r\"the 95% CI for the $\\sigma_Z^2$ is \"+f\"{expvar:.5f} +- {2*errvar:.5f}\")"
   ]
  },
  {
   "cell_type": "markdown",
   "metadata": {},
   "source": [
    "__Simpler Results:__  \n",
    "- The quantity $Z' = \\hat{\\mu}_{W_{-2}}/\\mu_{W_{-2}}$ is not significantly different from a normal distribution with mean 1 and a sample variance that is independent of the number of particles.\n",
    "- The 95% CI for the $\\sigma_{Z'}^2$ is 0.00070 +- 0.00007\n",
    "- Corollary:\n",
    "    - $\\hat{\\mu}_{W_{-2}}\\sim \\mu_{W_{-2}} Z'$\n",
    "    - $Var[\\hat{\\mu}_{W_{-2}}]\\sim \\mu_{W_{-2}} Var[Z'] = \\mu_{W_{-2}}*0.00070(7) = $ the bootstrap variance"
   ]
  },
  {
   "cell_type": "code",
   "execution_count": 144,
   "metadata": {
    "ExecuteTime": {
     "end_time": "2021-03-30T23:30:53.660755Z",
     "start_time": "2021-03-30T23:30:53.656708Z"
    }
   },
   "outputs": [
    {
     "name": "stdout",
     "output_type": "stream",
     "text": [
      "the 95% CI for the $\\sigma_Z'^2$ is 0.00070 +- 0.00007\n"
     ]
    }
   ],
   "source": [
    "expvar=np.mean([sig**2 for sig in sig_lst])\n",
    "errvar=np.std([sig**2 for sig in sig_lst])\n",
    "print(r\"the 95% CI for the $\\sigma_Z'^2$ is \"+f\"{expvar:.5f} +- {2*errvar:.5f}\")"
   ]
  },
  {
   "cell_type": "markdown",
   "metadata": {},
   "source": [
    "# Testing method of generating normal random variables is, in fact, normally distributed"
   ]
  },
  {
   "cell_type": "code",
   "execution_count": 167,
   "metadata": {
    "ExecuteTime": {
     "end_time": "2021-03-31T00:44:50.028083Z",
     "start_time": "2021-03-31T00:44:50.016466Z"
    }
   },
   "outputs": [],
   "source": [
    "def uniformRandom():\n",
    "    return (random.integer(0,1) + 1. )/( 1. + 1. )#not implemented.  Trusting std::rand is valid\n",
    "\n",
    "def normalRandom():\n",
    "    v1=random.uniform(0,1)#uniformRandom();\n",
    "    v2=random.uniform(0,1)#uniformRandom();\n",
    "    return np.cos(2*3.141592653589793*v2)*np.sqrt(-2.*np.log(v1))"
   ]
  },
  {
   "cell_type": "code",
   "execution_count": 168,
   "metadata": {
    "ExecuteTime": {
     "end_time": "2021-03-31T00:44:51.937666Z",
     "start_time": "2021-03-31T00:44:51.572274Z"
    }
   },
   "outputs": [],
   "source": [
    "values=np.array([normalRandom() for _ in range(100000)])"
   ]
  },
  {
   "cell_type": "code",
   "execution_count": 169,
   "metadata": {
    "ExecuteTime": {
     "end_time": "2021-03-31T00:44:53.267542Z",
     "start_time": "2021-03-31T00:44:53.124838Z"
    }
   },
   "outputs": [
    {
     "data": {
      "image/png": "[encoded data removed]",
      "text/plain": [
       "<Figure size 432x288 with 1 Axes>"
      ]
     },
     "metadata": {
      "needs_background": "light"
     },
     "output_type": "display_data"
    }
   ],
   "source": [
    "plt.hist(values,bins=50)\n",
    "plt.show()"
   ]
  },
  {
   "cell_type": "code",
   "execution_count": null,
   "metadata": {},
   "outputs": [],
   "source": []
  }
 ],
 "metadata": {
  "kernelspec": {
   "display_name": "Python 3",
   "language": "python",
   "name": "python3"
  },
  "language_info": {
   "codemirror_mode": {
    "name": "ipython",
    "version": 3
   },
   "file_extension": ".py",
   "mimetype": "text/x-python",
   "name": "python",
   "nbconvert_exporter": "python",
   "pygments_lexer": "ipython3",
   "version": "3.7.6"
  },
  "toc": {
   "base_numbering": 1,
   "nav_menu": {},
   "number_sections": true,
   "sideBar": true,
   "skip_h1_title": false,
   "title_cell": "Table of Contents",
   "title_sidebar": "Contents",
   "toc_cell": false,
   "toc_position": {},
   "toc_section_display": true,
   "toc_window_display": false
  },
  "varInspector": {
   "cols": {
    "lenName": 16,
    "lenType": 16,
    "lenVar": 40
   },
   "kernels_config": {
    "python": {
     "delete_cmd_postfix": "",
     "delete_cmd_prefix": "del ",
     "library": "var_list.py",
     "varRefreshCmd": "print(var_dic_list())"
    },
    "r": {
     "delete_cmd_postfix": ") ",
     "delete_cmd_prefix": "rm(",
     "library": "var_list.r",
     "varRefreshCmd": "cat(var_dic_list()) "
    }
   },
   "types_to_exclude": [
    "module",
    "function",
    "builtin_function_or_method",
    "instance",
    "_Feature"
   ],
   "window_display": false
  }
 },
 "nbformat": 4,
 "nbformat_minor": 4
}
