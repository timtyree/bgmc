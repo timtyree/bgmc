{
 "cells": [
  {
   "cell_type": "markdown",
   "metadata": {},
   "source": [
    "# Computing the minimum initial distance between uniformly distributed particles\n",
    "Tim Tyree<br>\n",
    "6.8.2021<br>"
   ]
  },
  {
   "cell_type": "markdown",
   "metadata": {},
   "source": [
    "__Weibull Distribution is followed__<br>\n",
    "The distribution of minimum distance between initial conditions is not significantly different from the maximum likelihood fit to the Weibull distribution according to a Cramér-von Mises test for the N=5 case (p=0.634) and the N=20 case (p=0.187), but not the N=10 case  (p=0.024).  The number of samples considered in these tests were Nsamples=1000.<br>\n",
    "\n",
    "Computation was done in Mathematica."
   ]
  },
  {
   "cell_type": "code",
   "execution_count": 1,
   "metadata": {
    "ExecuteTime": {
     "end_time": "2021-07-02T00:47:44.705740Z",
     "start_time": "2021-07-02T00:47:39.465885Z"
    }
   },
   "outputs": [],
   "source": [
    "from lib.my_initialization import *"
   ]
  },
  {
   "cell_type": "code",
   "execution_count": 2,
   "metadata": {
    "ExecuteTime": {
     "end_time": "2021-07-02T00:47:46.145385Z",
     "start_time": "2021-07-02T00:47:44.719285Z"
    }
   },
   "outputs": [],
   "source": [
    "from numpy.random import MT19937\n",
    "from numpy.random import RandomState, SeedSequence\n",
    "#random number stream A\n",
    "rs = RandomState(MT19937(SeedSequence(123456789)))\n",
    "#random number stream B\n",
    "# rs = RandomState(MT19937(SeedSequence(987654321)))\n",
    "\n",
    "#get distance metric\n",
    "distance_L2_pbc=get_distance_L2_pbc(width=1,height=1)"
   ]
  },
  {
   "cell_type": "code",
   "execution_count": 3,
   "metadata": {
    "ExecuteTime": {
     "end_time": "2021-07-02T00:47:46.184033Z",
     "start_time": "2021-07-02T00:47:46.154825Z"
    }
   },
   "outputs": [],
   "source": [
    "def get_random_distances_pbc(N):\n",
    "    x_values=rs.uniform(size=N)\n",
    "    y_values=rs.uniform(size=N)\n",
    "    i_neigh_lst=np.zeros_like(x_values).astype('int')\n",
    "    nearest_dist_lst=np.zeros_like(x_values)+9e9\n",
    "    for i in range(N-1):\n",
    "        point1=(x_values[i],y_values[i])\n",
    "        for j in range(i+1,N):\n",
    "            point2=(x_values[j],y_values[j])\n",
    "            #compute distance\n",
    "            dist=distance_L2_pbc(np.array(point1),np.array(point2))\n",
    "            if nearest_dist_lst[i]>dist:\n",
    "                nearest_dist_lst[i]=dist\n",
    "            if nearest_dist_lst[j]>dist:\n",
    "                nearest_dist_lst[j]=dist\n",
    "    return nearest_dist_lst\n",
    "\n",
    "def get_minimum_distance(N):\n",
    "    return np.min(get_random_distances_pbc(N))\n"
   ]
  },
  {
   "cell_type": "code",
   "execution_count": 4,
   "metadata": {
    "ExecuteTime": {
     "end_time": "2021-07-02T00:47:46.218527Z",
     "start_time": "2021-07-02T00:47:46.196195Z"
    }
   },
   "outputs": [],
   "source": [
    "def sample_minimum_distance(N,L,nobs):\n",
    "    min_dist_lst=[]\n",
    "    for n in range(nobs):\n",
    "        min_dist_lst.append(L*get_minimum_distance(N))\n",
    "    return min_dist_lst"
   ]
  },
  {
   "cell_type": "code",
   "execution_count": 5,
   "metadata": {
    "ExecuteTime": {
     "end_time": "2021-07-02T00:48:12.878420Z",
     "start_time": "2021-07-02T00:47:46.228466Z"
    }
   },
   "outputs": [
    {
     "data": {
      "image/png": "[encoded data removed]",
      "text/plain": [
       "<Figure size 432x288 with 1 Axes>"
      ]
     },
     "metadata": {
      "needs_background": "light"
     },
     "output_type": "display_data"
    }
   ],
   "source": [
    "nobs=10000\n",
    "L=10#cm\n",
    "fontsize=18\n",
    "\n",
    "N=5\n",
    "min_dist_lst_1=sample_minimum_distance(N,L,nobs)\n",
    "plt.hist(min_dist_lst_1,bins=40,label=f'N={N}',alpha=0.7,density=True)\n",
    "N=10\n",
    "min_dist_lst_2=sample_minimum_distance(N,L,nobs)\n",
    "plt.hist(min_dist_lst_2,bins=40,label=f'N={N}',alpha=0.7,density=True)\n",
    "N=20\n",
    "min_dist_lst_3=sample_minimum_distance(N,L,nobs)\n",
    "plt.hist(min_dist_lst_3,bins=40,label=f'N={N}',alpha=0.7,density=True)\n",
    "\n",
    "#plot line at r=0.1cm\n",
    "plt.plot([0.1,0.1],[0,2.5],'k')\n",
    "\n",
    "plt.xlabel(r'minimum initial distance (cm)',fontsize=fontsize)\n",
    "plt.ylabel(r'prob. density', fontsize=fontsize)\n",
    "plt.tick_params(axis='both', which='major', labelsize=fontsize)\n",
    "plt.tick_params(axis='both', which='minor', labelsize=0)\n",
    "plt.legend(fontsize=fontsize-4)\n",
    "plt.ylim([0,2.3])\n",
    "plt.show()"
   ]
  },
  {
   "cell_type": "code",
   "execution_count": null,
   "metadata": {
    "ExecuteTime": {
     "end_time": "2021-06-08T20:44:31.700152Z",
     "start_time": "2021-06-08T20:44:31.562525Z"
    }
   },
   "outputs": [],
   "source": []
  },
  {
   "cell_type": "code",
   "execution_count": null,
   "metadata": {
    "ExecuteTime": {
     "start_time": "2021-06-08T20:45:11.117Z"
    }
   },
   "outputs": [],
   "source": []
  },
  {
   "cell_type": "markdown",
   "metadata": {},
   "source": [
    "# Show how the mean / variance varies with the density"
   ]
  },
  {
   "cell_type": "code",
   "execution_count": 6,
   "metadata": {
    "ExecuteTime": {
     "end_time": "2021-07-02T00:48:12.889921Z",
     "start_time": "2021-07-02T00:48:12.882725Z"
    }
   },
   "outputs": [],
   "source": [
    "def get_summary_minimum_distance(N,L,nobs):\n",
    "    values=sample_minimum_distance(N,L,nobs)\n",
    "    return np.mean(values),np.var(values)"
   ]
  },
  {
   "cell_type": "code",
   "execution_count": 7,
   "metadata": {
    "ExecuteTime": {
     "end_time": "2021-07-02T00:48:12.902262Z",
     "start_time": "2021-07-02T00:48:12.894089Z"
    }
   },
   "outputs": [],
   "source": [
    "rs = RandomState(MT19937(SeedSequence(123456789)))"
   ]
  },
  {
   "cell_type": "code",
   "execution_count": 8,
   "metadata": {
    "ExecuteTime": {
     "end_time": "2021-07-02T00:48:12.916787Z",
     "start_time": "2021-07-02T00:48:12.909550Z"
    }
   },
   "outputs": [],
   "source": [
    "N_values=np.arange(5,100)\n",
    "# nobs=1000#0\n",
    "A=L**2\n",
    "q_values=N_values/A"
   ]
  },
  {
   "cell_type": "code",
   "execution_count": null,
   "metadata": {
    "ExecuteTime": {
     "start_time": "2021-07-02T00:47:39.011Z"
    }
   },
   "outputs": [],
   "source": [
    "m_lst=[]\n",
    "v_lst=[]\n",
    "for N in N_values:\n",
    "    m,v=get_summary_minimum_distance(N,L,nobs)\n",
    "    m_lst.append(m)\n",
    "    v_lst.append(v)"
   ]
  },
  {
   "cell_type": "code",
   "execution_count": null,
   "metadata": {
    "ExecuteTime": {
     "start_time": "2021-07-02T00:47:39.015Z"
    }
   },
   "outputs": [],
   "source": [
    "beep(4)"
   ]
  },
  {
   "cell_type": "code",
   "execution_count": null,
   "metadata": {
    "ExecuteTime": {
     "start_time": "2021-07-02T00:47:39.019Z"
    }
   },
   "outputs": [],
   "source": [
    "fontsize=18\n",
    "plt.plot(q_values,m_lst)\n",
    "#plot line at r=0.1cm\n",
    "plt.plot([0.,1.],[0.1,0.1],'k')\n",
    "plt.xlabel(r'q (cm$^{-2}$)',fontsize=fontsize)\n",
    "plt.ylabel('mean mininum\\ninitial distance (cm)', fontsize=fontsize)\n",
    "plt.tick_params(axis='both', which='major', labelsize=fontsize)\n",
    "plt.tick_params(axis='both', which='minor', labelsize=0)\n",
    "# plt.ylim([0,2.3])\n",
    "plt.show()"
   ]
  },
  {
   "cell_type": "code",
   "execution_count": null,
   "metadata": {
    "ExecuteTime": {
     "start_time": "2021-07-02T00:47:39.023Z"
    }
   },
   "outputs": [],
   "source": [
    "fontsize=18\n",
    "plt.plot(q_values,m_lst)\n",
    "#plot line at r=0.1cm\n",
    "plt.plot([0.05,1.],[0.1,0.1],'k')\n",
    "plt.xlabel(r'q (cm$^{-2}$)',fontsize=fontsize)\n",
    "plt.ylabel('mean mininum\\ninitial distance (cm)', fontsize=fontsize)\n",
    "plt.tick_params(axis='both', which='major', labelsize=fontsize)\n",
    "plt.tick_params(axis='both', which='minor', labelsize=0)\n",
    "plt.xscale('log')\n",
    "plt.yscale('log')\n",
    "# plt.ylim([0,2.3])\n",
    "plt.show()"
   ]
  },
  {
   "cell_type": "code",
   "execution_count": null,
   "metadata": {
    "ExecuteTime": {
     "start_time": "2021-07-02T00:47:39.027Z"
    }
   },
   "outputs": [],
   "source": [
    "def print_fit_power_law(x,y):\n",
    "    B,Delta_B,m,Delta_m,Rsq=fit_power_law(x,y)\n",
    "    rmse=compute_power_rmse(x,y,m,B)\n",
    "    M, Delta_M= comp_power_scale(B,Delta_B,m,Delta_m)\n",
    "\n",
    "    print(f\"m={m:.6f}+-{Delta_m:.6f}; B={B:.6f}+-{Delta_B:.6f}\")\n",
    "    print(f\"M= {M:.6f}+-{Delta_M:.6f} cm^{{1-2m}}\")\n",
    "    print(f\"RMSE={rmse:.4f} cm\")\n",
    "    print(f\"R^2={Rsq:.4f}\")\n",
    "    \n",
    "    \n",
    "print_fit_power_law(x=q_values,y=m_lst)\n",
    "print_fit_power_law"
   ]
  },
  {
   "cell_type": "code",
   "execution_count": null,
   "metadata": {
    "ExecuteTime": {
     "start_time": "2021-07-02T00:47:39.031Z"
    }
   },
   "outputs": [],
   "source": [
    "fontsize=18\n",
    "plt.plot(q_values,np.sqrt(np.array(v_lst)))\n",
    "#plot line at r=0.1cm\n",
    "plt.plot([0.,1.],[0.1,0.1],'k')\n",
    "plt.xlabel(r'q (cm$^{-2}$)',fontsize=fontsize)\n",
    "plt.ylabel('stdev mininum\\ninitial distance (cm)', fontsize=fontsize)\n",
    "plt.tick_params(axis='both', which='major', labelsize=fontsize)\n",
    "plt.tick_params(axis='both', which='minor', labelsize=0)\n",
    "# plt.ylim([0,2.3])\n",
    "plt.show()"
   ]
  },
  {
   "cell_type": "code",
   "execution_count": null,
   "metadata": {
    "ExecuteTime": {
     "start_time": "2021-07-02T00:47:39.034Z"
    }
   },
   "outputs": [],
   "source": [
    "r=0.1\n",
    "print(r/L)\n",
    "#find the first q that crosses r=0.1\n",
    "m_values=np.array(m_lst)"
   ]
  },
  {
   "cell_type": "code",
   "execution_count": null,
   "metadata": {
    "ExecuteTime": {
     "start_time": "2021-07-02T00:47:39.038Z"
    }
   },
   "outputs": [],
   "source": [
    "q_values[m_values<r][0]"
   ]
  },
  {
   "cell_type": "markdown",
   "metadata": {
    "ExecuteTime": {
     "end_time": "2021-06-08T22:37:35.126891Z",
     "start_time": "2021-06-08T22:37:35.121175Z"
    }
   },
   "source": [
    "__Result__<br>\n",
    "When r/L=0.01, the smallest density that starts within range is (on average) located in the interval 0.71<q<0.72."
   ]
  },
  {
   "cell_type": "code",
   "execution_count": null,
   "metadata": {
    "ExecuteTime": {
     "start_time": "2021-07-02T00:47:39.058Z"
    }
   },
   "outputs": [],
   "source": [
    "#TODO: save output as csv\n",
    "#TODO: power law fit.  is the exponent -1/2 like PM predicted?"
   ]
  }
 ],
 "metadata": {
  "kernelspec": {
   "display_name": "Python 3",
   "language": "python",
   "name": "python3"
  },
  "language_info": {
   "codemirror_mode": {
    "name": "ipython",
    "version": 3
   },
   "file_extension": ".py",
   "mimetype": "text/x-python",
   "name": "python",
   "nbconvert_exporter": "python",
   "pygments_lexer": "ipython3",
   "version": "3.8.7"
  },
  "varInspector": {
   "cols": {
    "lenName": 16,
    "lenType": 16,
    "lenVar": 40
   },
   "kernels_config": {
    "python": {
     "delete_cmd_postfix": "",
     "delete_cmd_prefix": "del ",
     "library": "var_list.py",
     "varRefreshCmd": "print(var_dic_list())"
    },
    "r": {
     "delete_cmd_postfix": ") ",
     "delete_cmd_prefix": "rm(",
     "library": "var_list.r",
     "varRefreshCmd": "cat(var_dic_list()) "
    }
   },
   "types_to_exclude": [
    "module",
    "function",
    "builtin_function_or_method",
    "instance",
    "_Feature"
   ],
   "window_display": false
  }
 },
 "nbformat": 4,
 "nbformat_minor": 4
}
