{
 "cells": [
  {
   "cell_type": "markdown",
   "metadata": {},
   "source": [
    "# Computing the minimum initial distance between uniformly distributed particles\n",
    "Tim Tyree<br>\n",
    "6.8.2021<br>"
   ]
  },
  {
   "cell_type": "markdown",
   "metadata": {},
   "source": [
    "__Weibull Distribution is followed__<br>\n",
    "The distribution of minimum distance between initial conditions is not significantly different from the maximum likelihood fit to the Weibull distribution according to a Cramér-von Mises test for the N=5 case (p=0.634) and the N=20 case (p=0.187), but not the N=10 case  (p=0.024).  The number of samples considered in these tests were Nsamples=1000.<br>\n",
    "\n",
    "Computation was done in Mathematica."
   ]
  },
  {
   "cell_type": "code",
   "execution_count": 1,
   "metadata": {
    "ExecuteTime": {
     "end_time": "2021-11-30T22:46:41.880245Z",
     "start_time": "2021-11-30T22:46:40.859750Z"
    }
   },
   "outputs": [],
   "source": [
    "from lib.my_initialization import *"
   ]
  },
  {
   "cell_type": "code",
   "execution_count": 2,
   "metadata": {
    "ExecuteTime": {
     "end_time": "2021-11-30T22:46:42.727160Z",
     "start_time": "2021-11-30T22:46:42.549787Z"
    }
   },
   "outputs": [],
   "source": [
    "from numpy.random import MT19937\n",
    "from numpy.random import RandomState, SeedSequence\n",
    "#random number stream A\n",
    "rs = RandomState(MT19937(SeedSequence(123456789)))\n",
    "#random number stream B\n",
    "# rs = RandomState(MT19937(SeedSequence(987654321)))\n",
    "\n",
    "#get distance metric\n",
    "distance_L2_pbc=get_distance_L2_pbc(width=1,height=1)"
   ]
  },
  {
   "cell_type": "code",
   "execution_count": 3,
   "metadata": {
    "ExecuteTime": {
     "end_time": "2021-11-30T22:46:43.369160Z",
     "start_time": "2021-11-30T22:46:43.360672Z"
    }
   },
   "outputs": [],
   "source": [
    "def get_random_distances_pbc(N):\n",
    "    x_values=rs.uniform(size=N)\n",
    "    y_values=rs.uniform(size=N)\n",
    "    i_neigh_lst=np.zeros_like(x_values).astype('int')\n",
    "    nearest_dist_lst=np.zeros_like(x_values)+9e9\n",
    "    for i in range(N-1):\n",
    "        point1=(x_values[i],y_values[i])\n",
    "        for j in range(i+1,N):\n",
    "            point2=(x_values[j],y_values[j])\n",
    "            #compute distance\n",
    "            dist=distance_L2_pbc(np.array(point1),np.array(point2))\n",
    "            if nearest_dist_lst[i]>dist:\n",
    "                nearest_dist_lst[i]=dist\n",
    "            if nearest_dist_lst[j]>dist:\n",
    "                nearest_dist_lst[j]=dist\n",
    "    return nearest_dist_lst\n",
    "\n",
    "def get_minimum_distance(N):\n",
    "    return np.min(get_random_distances_pbc(N))\n"
   ]
  },
  {
   "cell_type": "code",
   "execution_count": 4,
   "metadata": {
    "ExecuteTime": {
     "end_time": "2021-11-30T22:46:44.679043Z",
     "start_time": "2021-11-30T22:46:44.676072Z"
    }
   },
   "outputs": [],
   "source": [
    "def sample_minimum_distance(N,L,nobs):\n",
    "    min_dist_lst=[]\n",
    "    for n in range(nobs):\n",
    "        min_dist_lst.append(L*get_minimum_distance(N))\n",
    "    return min_dist_lst"
   ]
  },
  {
   "cell_type": "code",
   "execution_count": 5,
   "metadata": {
    "ExecuteTime": {
     "end_time": "2021-11-30T22:46:56.196491Z",
     "start_time": "2021-11-30T22:46:48.847498Z"
    }
   },
   "outputs": [
    {
     "data": {
      "image/png": "[encoded data removed]",
      "text/plain": [
       "<Figure size 432x288 with 1 Axes>"
      ]
     },
     "metadata": {
      "needs_background": "light"
     },
     "output_type": "display_data"
    }
   ],
   "source": [
    "nobs=10000\n",
    "L=10#cm\n",
    "fontsize=18\n",
    "\n",
    "N=5\n",
    "min_dist_lst_1=sample_minimum_distance(N,L,nobs)\n",
    "plt.hist(min_dist_lst_1,bins=40,label=f'N={N}',alpha=0.7,density=True)\n",
    "N=10\n",
    "min_dist_lst_2=sample_minimum_distance(N,L,nobs)\n",
    "plt.hist(min_dist_lst_2,bins=40,label=f'N={N}',alpha=0.7,density=True)\n",
    "N=20\n",
    "min_dist_lst_3=sample_minimum_distance(N,L,nobs)\n",
    "plt.hist(min_dist_lst_3,bins=40,label=f'N={N}',alpha=0.7,density=True)\n",
    "\n",
    "#plot line at r=0.1cm\n",
    "plt.plot([0.1,0.1],[0,2.5],'k')\n",
    "\n",
    "plt.xlabel(r'minimum initial distance (cm)',fontsize=fontsize)\n",
    "plt.ylabel(r'prob. density', fontsize=fontsize)\n",
    "plt.tick_params(axis='both', which='major', labelsize=fontsize)\n",
    "plt.tick_params(axis='both', which='minor', labelsize=0)\n",
    "plt.legend(fontsize=fontsize-4)\n",
    "plt.ylim([0,2.3])\n",
    "plt.show()"
   ]
  },
  {
   "cell_type": "code",
   "execution_count": 9,
   "metadata": {
    "ExecuteTime": {
     "end_time": "2021-11-30T22:48:58.604406Z",
     "start_time": "2021-11-30T22:48:55.955638Z"
    }
   },
   "outputs": [
    {
     "data": {
      "image/png": "[encoded data removed]",
      "text/plain": [
       "<Figure size 432x288 with 1 Axes>"
      ]
     },
     "metadata": {
      "needs_background": "light"
     },
     "output_type": "display_data"
    }
   ],
   "source": [
    "nobs=100000\n",
    "L=10#cm\n",
    "fontsize=18\n",
    "\n",
    "N=2\n",
    "min_dist_lst_1=sample_minimum_distance(N,L,nobs)\n",
    "plt.hist(min_dist_lst_1,bins=40,label=f'N={N}',alpha=0.7,density=True)\n",
    "# N=10\n",
    "# min_dist_lst_2=sample_minimum_distance(N,L,nobs)\n",
    "# plt.hist(min_dist_lst_2,bins=40,label=f'N={N}',alpha=0.7,density=True)\n",
    "# N=20\n",
    "# min_dist_lst_3=sample_minimum_distance(N,L,nobs)\n",
    "# plt.hist(min_dist_lst_3,bins=40,label=f'N={N}',alpha=0.7,density=True)\n",
    "\n",
    "#plot line at r=0.1cm\n",
    "# plt.plot([0.1,0.1],[0,2.5],'k')\n",
    "\n",
    "plt.xlabel(r'Uniformly Distributed Distance (cm)',fontsize=fontsize)\n",
    "plt.ylabel(r'PDF', fontsize=fontsize)\n",
    "plt.tick_params(axis='both', which='major', labelsize=fontsize)\n",
    "plt.tick_params(axis='both', which='minor', labelsize=0)\n",
    "plt.legend(fontsize=fontsize-2)\n",
    "# plt.ylim([0,2.3])\n",
    "plt.show()"
   ]
  },
  {
   "cell_type": "code",
   "execution_count": null,
   "metadata": {
    "ExecuteTime": {
     "start_time": "2021-06-08T20:45:11.117Z"
    }
   },
   "outputs": [],
   "source": []
  },
  {
   "cell_type": "markdown",
   "metadata": {},
   "source": [
    "# Show how the mean / variance varies with the density"
   ]
  },
  {
   "cell_type": "code",
   "execution_count": 6,
   "metadata": {
    "ExecuteTime": {
     "end_time": "2021-07-02T00:48:12.889921Z",
     "start_time": "2021-07-02T00:48:12.882725Z"
    }
   },
   "outputs": [],
   "source": [
    "def get_summary_minimum_distance(N,L,nobs):\n",
    "    values=sample_minimum_distance(N,L,nobs)\n",
    "    return np.mean(values),np.var(values)"
   ]
  },
  {
   "cell_type": "code",
   "execution_count": 7,
   "metadata": {
    "ExecuteTime": {
     "end_time": "2021-07-02T00:48:12.902262Z",
     "start_time": "2021-07-02T00:48:12.894089Z"
    }
   },
   "outputs": [],
   "source": [
    "rs = RandomState(MT19937(SeedSequence(123456789)))"
   ]
  },
  {
   "cell_type": "code",
   "execution_count": 8,
   "metadata": {
    "ExecuteTime": {
     "end_time": "2021-07-02T00:48:12.916787Z",
     "start_time": "2021-07-02T00:48:12.909550Z"
    }
   },
   "outputs": [],
   "source": [
    "N_values=np.arange(5,100)\n",
    "# nobs=1000#0\n",
    "A=L**2\n",
    "q_values=N_values/A"
   ]
  },
  {
   "cell_type": "code",
   "execution_count": 9,
   "metadata": {
    "ExecuteTime": {
     "end_time": "2021-07-02T05:15:13.849117Z",
     "start_time": "2021-07-02T00:48:12.921888Z"
    }
   },
   "outputs": [],
   "source": [
    "m_lst=[]\n",
    "v_lst=[]\n",
    "for N in N_values:\n",
    "    m,v=get_summary_minimum_distance(N,L,nobs)\n",
    "    m_lst.append(m)\n",
    "    v_lst.append(v)"
   ]
  },
  {
   "cell_type": "code",
   "execution_count": 10,
   "metadata": {
    "ExecuteTime": {
     "end_time": "2021-07-02T05:15:14.916753Z",
     "start_time": "2021-07-02T05:15:13.994185Z"
    }
   },
   "outputs": [
    {
     "data": {
      "text/plain": [
       "0"
      ]
     },
     "execution_count": 10,
     "metadata": {},
     "output_type": "execute_result"
    }
   ],
   "source": [
    "beep(4)"
   ]
  },
  {
   "cell_type": "code",
   "execution_count": 11,
   "metadata": {
    "ExecuteTime": {
     "end_time": "2021-07-02T05:15:16.310053Z",
     "start_time": "2021-07-02T05:15:14.952192Z"
    }
   },
   "outputs": [
    {
     "data": {
      "image/png": "[encoded data removed]",
      "text/plain": [
       "<Figure size 432x288 with 1 Axes>"
      ]
     },
     "metadata": {
      "needs_background": "light"
     },
     "output_type": "display_data"
    }
   ],
   "source": [
    "fontsize=18\n",
    "plt.plot(q_values,m_lst)\n",
    "#plot line at r=0.1cm\n",
    "plt.plot([0.,1.],[0.1,0.1],'k')\n",
    "plt.xlabel(r'q (cm$^{-2}$)',fontsize=fontsize)\n",
    "plt.ylabel('mean mininum\\ninitial distance (cm)', fontsize=fontsize)\n",
    "plt.tick_params(axis='both', which='major', labelsize=fontsize)\n",
    "plt.tick_params(axis='both', which='minor', labelsize=0)\n",
    "# plt.ylim([0,2.3])\n",
    "plt.show()"
   ]
  },
  {
   "cell_type": "code",
   "execution_count": 12,
   "metadata": {
    "ExecuteTime": {
     "end_time": "2021-07-02T05:15:17.665221Z",
     "start_time": "2021-07-02T05:15:16.327612Z"
    }
   },
   "outputs": [
    {
     "data": {
      "image/png": "[encoded data removed]",
      "text/plain": [
       "<Figure size 432x288 with 1 Axes>"
      ]
     },
     "metadata": {
      "needs_background": "light"
     },
     "output_type": "display_data"
    }
   ],
   "source": [
    "fontsize=18\n",
    "plt.plot(q_values,m_lst)\n",
    "#plot line at r=0.1cm\n",
    "plt.plot([0.05,1.],[0.1,0.1],'k')\n",
    "plt.xlabel(r'q (cm$^{-2}$)',fontsize=fontsize)\n",
    "plt.ylabel('mean mininum\\ninitial distance (cm)', fontsize=fontsize)\n",
    "plt.tick_params(axis='both', which='major', labelsize=fontsize)\n",
    "plt.tick_params(axis='both', which='minor', labelsize=0)\n",
    "plt.xscale('log')\n",
    "plt.yscale('log')\n",
    "# plt.ylim([0,2.3])\n",
    "plt.show()"
   ]
  },
  {
   "cell_type": "code",
   "execution_count": 13,
   "metadata": {
    "ExecuteTime": {
     "end_time": "2021-07-02T05:15:17.691931Z",
     "start_time": "2021-07-02T05:15:17.671776Z"
    }
   },
   "outputs": [
    {
     "name": "stdout",
     "output_type": "stream",
     "text": [
      "m=-1.007557+-0.001517; B=13.828746+-0.031680\n",
      "M= 0.070892+-0.000119 cm^{1-2m}\n",
      "RMSE=0.0022 cm\n",
      "R^2=0.9999\n"
     ]
    },
    {
     "data": {
      "text/plain": [
       "<function __main__.print_fit_power_law(x, y)>"
      ]
     },
     "execution_count": 13,
     "metadata": {},
     "output_type": "execute_result"
    }
   ],
   "source": [
    "def print_fit_power_law(x,y):\n",
    "    B,Delta_B,m,Delta_m,Rsq=fit_power_law(x,y)\n",
    "    rmse=compute_power_rmse(x,y,m,B)\n",
    "    M, Delta_M= comp_power_scale(B,Delta_B,m,Delta_m)\n",
    "\n",
    "    print(f\"m={m:.6f}+-{Delta_m:.6f}; B={B:.6f}+-{Delta_B:.6f}\")\n",
    "    print(f\"M= {M:.6f}+-{Delta_M:.6f} cm^{{1-2m}}\")\n",
    "    print(f\"RMSE={rmse:.4f} cm\")\n",
    "    print(f\"R^2={Rsq:.4f}\")\n",
    "    \n",
    "    \n",
    "print_fit_power_law(x=q_values,y=m_lst)\n",
    "print_fit_power_law"
   ]
  },
  {
   "cell_type": "code",
   "execution_count": 14,
   "metadata": {
    "ExecuteTime": {
     "end_time": "2021-07-02T05:15:18.196003Z",
     "start_time": "2021-07-02T05:15:17.700820Z"
    }
   },
   "outputs": [
    {
     "data": {
      "image/png": "[encoded data removed]",
      "text/plain": [
       "<Figure size 432x288 with 1 Axes>"
      ]
     },
     "metadata": {
      "needs_background": "light"
     },
     "output_type": "display_data"
    }
   ],
   "source": [
    "fontsize=18\n",
    "plt.plot(q_values,np.sqrt(np.array(v_lst)))\n",
    "#plot line at r=0.1cm\n",
    "plt.plot([0.,1.],[0.1,0.1],'k')\n",
    "plt.xlabel(r'q (cm$^{-2}$)',fontsize=fontsize)\n",
    "plt.ylabel('stdev mininum\\ninitial distance (cm)', fontsize=fontsize)\n",
    "plt.tick_params(axis='both', which='major', labelsize=fontsize)\n",
    "plt.tick_params(axis='both', which='minor', labelsize=0)\n",
    "# plt.ylim([0,2.3])\n",
    "plt.show()"
   ]
  },
  {
   "cell_type": "code",
   "execution_count": 15,
   "metadata": {
    "ExecuteTime": {
     "end_time": "2021-07-02T05:15:18.208595Z",
     "start_time": "2021-07-02T05:15:18.201711Z"
    }
   },
   "outputs": [
    {
     "name": "stdout",
     "output_type": "stream",
     "text": [
      "0.01\n"
     ]
    }
   ],
   "source": [
    "r=0.1\n",
    "print(r/L)\n",
    "#find the first q that crosses r=0.1\n",
    "m_values=np.array(m_lst)"
   ]
  },
  {
   "cell_type": "code",
   "execution_count": 16,
   "metadata": {
    "ExecuteTime": {
     "end_time": "2021-07-02T05:15:18.226556Z",
     "start_time": "2021-07-02T05:15:18.214547Z"
    }
   },
   "outputs": [
    {
     "data": {
      "text/plain": [
       "0.72"
      ]
     },
     "execution_count": 16,
     "metadata": {},
     "output_type": "execute_result"
    }
   ],
   "source": [
    "q_values[m_values<r][0]"
   ]
  },
  {
   "cell_type": "markdown",
   "metadata": {
    "ExecuteTime": {
     "end_time": "2021-06-08T22:37:35.126891Z",
     "start_time": "2021-06-08T22:37:35.121175Z"
    }
   },
   "source": [
    "__Result__<br>\n",
    "When r/L=0.01, the smallest density that starts within range is (on average) located in the interval 0.71<q<0.72."
   ]
  },
  {
   "cell_type": "code",
   "execution_count": 17,
   "metadata": {
    "ExecuteTime": {
     "end_time": "2021-07-02T05:15:18.236653Z",
     "start_time": "2021-07-02T05:15:18.231115Z"
    }
   },
   "outputs": [],
   "source": [
    "#TODO: save output as csv\n",
    "#TODO: power law fit.  is the exponent -1/2 like PM predicted?"
   ]
  }
 ],
 "metadata": {
  "kernelspec": {
   "display_name": "Python 3 (ipykernel)",
   "language": "python",
   "name": "python3"
  },
  "language_info": {
   "codemirror_mode": {
    "name": "ipython",
    "version": 3
   },
   "file_extension": ".py",
   "mimetype": "text/x-python",
   "name": "python",
   "nbconvert_exporter": "python",
   "pygments_lexer": "ipython3",
   "version": "3.7.10"
  },
  "toc": {
   "base_numbering": 1,
   "nav_menu": {},
   "number_sections": true,
   "sideBar": true,
   "skip_h1_title": false,
   "title_cell": "Table of Contents",
   "title_sidebar": "Contents",
   "toc_cell": false,
   "toc_position": {},
   "toc_section_display": true,
   "toc_window_display": false
  },
  "varInspector": {
   "cols": {
    "lenName": 16,
    "lenType": 16,
    "lenVar": 40
   },
   "kernels_config": {
    "python": {
     "delete_cmd_postfix": "",
     "delete_cmd_prefix": "del ",
     "library": "var_list.py",
     "varRefreshCmd": "print(var_dic_list())"
    },
    "r": {
     "delete_cmd_postfix": ") ",
     "delete_cmd_prefix": "rm(",
     "library": "var_list.r",
     "varRefreshCmd": "cat(var_dic_list()) "
    }
   },
   "types_to_exclude": [
    "module",
    "function",
    "builtin_function_or_method",
    "instance",
    "_Feature"
   ],
   "window_display": false
  }
 },
 "nbformat": 4,
 "nbformat_minor": 4
}
