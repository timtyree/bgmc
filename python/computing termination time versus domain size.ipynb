{
 "cells": [
  {
   "cell_type": "markdown",
   "id": "68b476bf",
   "metadata": {},
   "source": [
    "# visualizing termination time versus domain size\n",
    "Tim Tyree<br>\n",
    "6.11.2025"
   ]
  },
  {
   "cell_type": "code",
   "execution_count": 1,
   "id": "22dd2a6f",
   "metadata": {
    "ExecuteTime": {
     "end_time": "2025-07-11T00:32:33.043536Z",
     "start_time": "2025-07-11T00:32:31.785477Z"
    }
   },
   "outputs": [],
   "source": [
    "import os,sys,pandas as pd,numpy as np"
   ]
  },
  {
   "cell_type": "code",
   "execution_count": 2,
   "id": "c1bbc346",
   "metadata": {
    "ExecuteTime": {
     "end_time": "2025-07-11T00:32:34.556916Z",
     "start_time": "2025-07-11T00:32:33.044610Z"
    }
   },
   "outputs": [],
   "source": [
    "from lib import *"
   ]
  },
  {
   "cell_type": "markdown",
   "id": "f81bb044",
   "metadata": {},
   "source": [
    "# define module"
   ]
  },
  {
   "cell_type": "code",
   "execution_count": 3,
   "id": "ce3f5274",
   "metadata": {
    "ExecuteTime": {
     "end_time": "2025-07-11T00:32:34.560326Z",
     "start_time": "2025-07-11T00:32:34.557934Z"
    }
   },
   "outputs": [],
   "source": [
    "# parse_iolines\n",
    "def parse_iolines_single(input_fn, printing=False):\n",
    "    n_input=-9999\n",
    "    n_output=-9999\n",
    "    with open(input_fn) as f:\n",
    "#         trgt1='Printing Inputs...\\n'\n",
    "#         trgt2='Printing Outputs...\\n'\n",
    "        trgt1='Printing Inputs:\\n'\n",
    "        trgt2='Printing Outputs:\\n'\n",
    "        for n,line in enumerate(f):\n",
    "            if trgt1 == line:\n",
    "                if printing:\n",
    "                    print(f'found inputs starting after line {n}')\n",
    "                n_input=n\n",
    "            if trgt2 == line:\n",
    "                if printing:\n",
    "                    print(f'found outputs starting after line {n}')\n",
    "                n_output=n\n",
    "    return n_input,n_output"
   ]
  },
  {
   "cell_type": "code",
   "execution_count": 4,
   "id": "320d2630",
   "metadata": {
    "ExecuteTime": {
     "end_time": "2025-07-11T00:32:34.563721Z",
     "start_time": "2025-07-11T00:32:34.561527Z"
    }
   },
   "outputs": [],
   "source": [
    "def parse_outputs_single_trial(input_fn, n_output):\n",
    "    \"\"\"\n",
    "    Example Usage:\n",
    "TermTime = parse_outputs_single_trial(input_fn, n_output)\n",
    "    \"\"\"\n",
    "    with open(input_fn) as f:\n",
    "        for n,line in enumerate(f):\n",
    "            if n == n_output+1:\n",
    "                lin0 =line\n",
    "                TermTime = eval(lin0[:-2].split('=')[-1])\n",
    "                return TermTime\n",
    "#         if n == n_output+1:\n",
    "#             line_N = line\n",
    "#         if n == n_output+2:\n",
    "#             line_CollTime =line\n",
    "# N_values=np.array([eval(s) for s in line_N[:-2].split(',')])\n",
    "# CollTime_values=np.array([eval(s) for s in line_CollTime[:-2].split(',')])\n",
    "# # CollTime_values=np.array([eval(s) for s in line_CollTime[:-1].split(',')])\n",
    "# df=pd.DataFrame({\n",
    "#     'N':N_values,\n",
    "#     'CollTime':CollTime_values\n",
    "# })\n",
    "# df=df.loc[df.CollTime!=-9999]\n",
    "# df.reset_index(inplace=True,drop=True)\n",
    "## return df"
   ]
  },
  {
   "cell_type": "code",
   "execution_count": 5,
   "id": "7dd3b9b4",
   "metadata": {
    "ExecuteTime": {
     "end_time": "2025-07-11T00:32:34.566421Z",
     "start_time": "2025-07-11T00:32:34.564322Z"
    }
   },
   "outputs": [],
   "source": [
    "# parse_outputs(input_fn, n_output=)\n",
    "def parse_log_single(input_fn,printing=False):\n",
    "    \"\"\"\n",
    "    Example Usage:\n",
    "dict_data = parse_log_single(input_fn,printing=False)\n",
    "    \"\"\"\n",
    "    n_input,n_output=parse_iolines_single(input_fn, printing=False)\n",
    "    if n_input==-9999:\n",
    "        if printing:\n",
    "            print(f\"Warning: n_input not found for input_fn={input_fn}.\\nreturning None...\")\n",
    "        return None\n",
    "    col_name_lst, col_value_lst=parse_inputs(input_fn,n_input,n_output,printing=printing)\n",
    "    dict_inputs=dict(zip(col_name_lst,col_value_lst))\n",
    "    TermTime = parse_outputs_single_trial(input_fn, n_output)\n",
    "    dict_data = dict(dict_inputs)\n",
    "    dict_data['TermTime'] = TermTime\n",
    "    return dict_data"
   ]
  },
  {
   "cell_type": "code",
   "execution_count": null,
   "id": "467eb491",
   "metadata": {},
   "outputs": [],
   "source": []
  },
  {
   "cell_type": "markdown",
   "id": "627507a7",
   "metadata": {},
   "source": [
    "# dev"
   ]
  },
  {
   "cell_type": "code",
   "execution_count": 6,
   "id": "0b20bbcf",
   "metadata": {
    "ExecuteTime": {
     "end_time": "2025-07-11T00:32:34.650419Z",
     "start_time": "2025-07-11T00:32:34.648405Z"
    }
   },
   "outputs": [],
   "source": [
    "run_num = 48\n",
    "# fldr = f\"{nb_dir}/data/osg_output/run_44\"\n",
    "# fldr = f\"{nb_dir}/data/osg_output/run_45\"\n",
    "# fldr = f\"{nb_dir}/data/osg_output/run_46\"\n",
    "# fldr = f\"{nb_dir}/data/osg_output/run_47\"\n",
    "fldr = f\"{nb_dir}/data/osg_output/run_{run_num}\""
   ]
  },
  {
   "cell_type": "code",
   "execution_count": 7,
   "id": "bb318093",
   "metadata": {
    "ExecuteTime": {
     "end_time": "2025-07-11T00:32:35.059107Z",
     "start_time": "2025-07-11T00:32:35.052734Z"
    }
   },
   "outputs": [],
   "source": [
    "assert os.path.exists(fldr)"
   ]
  },
  {
   "cell_type": "code",
   "execution_count": 8,
   "id": "2ee58015",
   "metadata": {
    "ExecuteTime": {
     "end_time": "2025-07-11T00:32:42.082917Z",
     "start_time": "2025-07-11T00:32:35.450336Z"
    }
   },
   "outputs": [],
   "source": [
    "dict_data_lst = []\n",
    "for fn in os.listdir(fldr):\n",
    "    if fn.find('.out.')!=-1:\n",
    "        input_fn = os.path.join(fldr,fn)\n",
    "        dict_data = parse_log_single(input_fn,printing=False)\n",
    "        if dict_data is not None:\n",
    "            #record\n",
    "            dict_data_lst.append(dict_data)\n",
    "df=pd.DataFrame(dict_data_lst); del dict_data_lst"
   ]
  },
  {
   "cell_type": "code",
   "execution_count": 9,
   "id": "8ca85f76",
   "metadata": {
    "ExecuteTime": {
     "end_time": "2025-07-11T00:32:42.085469Z",
     "start_time": "2025-07-11T00:32:42.084080Z"
    }
   },
   "outputs": [],
   "source": [
    "# np.array([x for x in dict_data_lst if x is None])"
   ]
  },
  {
   "cell_type": "code",
   "execution_count": 10,
   "id": "d8081223",
   "metadata": {
    "ExecuteTime": {
     "end_time": "2025-07-11T00:32:42.087633Z",
     "start_time": "2025-07-11T00:32:42.086136Z"
    }
   },
   "outputs": [],
   "source": [
    "# pd.DataFrame(dict_data_lst)"
   ]
  },
  {
   "cell_type": "code",
   "execution_count": 11,
   "id": "36bb34d6",
   "metadata": {
    "ExecuteTime": {
     "end_time": "2025-07-11T00:32:42.090095Z",
     "start_time": "2025-07-11T00:32:42.088902Z"
    }
   },
   "outputs": [],
   "source": [
    "# len(dict_data_lst)"
   ]
  },
  {
   "cell_type": "code",
   "execution_count": 12,
   "id": "f272f211",
   "metadata": {
    "ExecuteTime": {
     "end_time": "2025-07-11T00:32:42.091957Z",
     "start_time": "2025-07-11T00:32:42.090881Z"
    }
   },
   "outputs": [],
   "source": [
    "# input_fn"
   ]
  },
  {
   "cell_type": "code",
   "execution_count": 13,
   "id": "2953d393",
   "metadata": {
    "ExecuteTime": {
     "end_time": "2025-07-11T00:32:42.093759Z",
     "start_time": "2025-07-11T00:32:42.092538Z"
    }
   },
   "outputs": [],
   "source": [
    "# !atom '/Users/timothytyree/Documents/GitHub/bgmc/python/data/osg_output/run_45/job.out.17477944.1912'"
   ]
  },
  {
   "cell_type": "code",
   "execution_count": 14,
   "id": "2bbe8864",
   "metadata": {
    "ExecuteTime": {
     "end_time": "2025-07-11T00:32:42.095375Z",
     "start_time": "2025-07-11T00:32:42.094234Z"
    }
   },
   "outputs": [],
   "source": [
    "# dict_data = parse_log_single(input_fn,printing=True)\n",
    "# dict_data"
   ]
  },
  {
   "cell_type": "code",
   "execution_count": 17,
   "id": "15c22627",
   "metadata": {
    "ExecuteTime": {
     "end_time": "2025-07-11T00:34:57.340339Z",
     "start_time": "2025-07-11T00:34:57.051370Z"
    }
   },
   "outputs": [
    {
     "name": "stdout",
     "output_type": "stream",
     "text": [
      "LPM with Same Creation (Run #48):\n",
      "- D=0.115, L=3.75: mean tau: 2.4068 +/- 0.0997 seconds (N=1980, p_normal=0.0426)\n",
      "- D=0.115, L=4.5: mean tau: 8.8592 +/- 0.3686 seconds (N=1980, p_normal=0.8422)\n",
      "- D=0.115, L=4.75: mean tau: 15.1341 +/- 0.6518 seconds (N=1980, p_normal=0.1434)\n",
      "- D=0.115, L=5.0: mean tau: 25.0676 +/- 1.0480 seconds (N=1980, p_normal=0.5439)\n",
      "- D=0.115, L=5.25: mean tau: 44.6624 +/- 1.8434 seconds (N=1980, p_normal=0.3428)\n",
      "- D=0.115, L=5.625: mean tau: 107.9789 +/- 8.4754 seconds (N=1980, p_normal=0.0083)\n",
      "- D=0.115, L=6.25: mean tau: 463.4994 +/- 27.5521 seconds (N=1942, p_normal=0.7934)\n",
      "- D=0.115, L=7.075: mean tau: 1786.5926 +/- 72.9578 seconds (N=1612, p_normal=0.4804)\n",
      "- D=0.115, L=8.75: mean tau: 2922.8952 +/- 236.9993 seconds (N=223, p_normal=0.1863)\n",
      "- D=0.42, L=5.0: mean tau: 0.5154 +/- 0.0215 seconds (N=1980, p_normal=0.7469)\n",
      "- D=0.42, L=6.25: mean tau: 1.5493 +/- 0.0662 seconds (N=1980, p_normal=0.2544)\n",
      "- D=0.42, L=7.5: mean tau: 5.6377 +/- 0.2442 seconds (N=1980, p_normal=0.6907)\n",
      "- D=0.42, L=8.75: mean tau: 23.2477 +/- 1.1784 seconds (N=1980, p_normal=0.8995)\n",
      "- D=0.42, L=10.0: mean tau: 138.2366 +/- 12.1501 seconds (N=1980, p_normal=0.0321)\n"
     ]
    }
   ],
   "source": [
    "quantile = 0.99\n",
    "np.random.seed(42)\n",
    "printing=True\n",
    "if printing:\n",
    "    print(f\"LPM with Same Creation (Run #48):\")\n",
    "dict_lst = []\n",
    "for (D,L),g in df.groupby(by=['D','L']):\n",
    "    tau_values = g['TermTime'].values\n",
    "    thresh = np.quantile(tau_values,quantile)\n",
    "    tau_values = tau_values[tau_values<thresh].copy()\n",
    "    meanx,Delta_meanx,num_obs,p_normal=comp_mean_bootstrap_uncertainty(tau_values)\n",
    "    printing=True\n",
    "    a=g['varkappa'].max()\n",
    "    chi=g['chi'].max()\n",
    "    if printing:\n",
    "        print(f\"- {D=}, {L=}: mean tau: {meanx:.4f} +/- {Delta_meanx:.4f} seconds (N={num_obs}, {p_normal=:.4f})\")\n",
    "    dict_lst.append(dict(D=D,L=L,a=a,chi=chi,\n",
    "                         tau=meanx,Delta_tau=Delta_meanx,\n",
    "                         num_obs=num_obs,p_normal=p_normal,\n",
    "                        ))"
   ]
  },
  {
   "cell_type": "markdown",
   "id": "ddcc2ec8",
   "metadata": {},
   "source": [
    "LPM with Same Creation (Run #48) quantile=1.:\n",
    "- D=0.115, L=3.75: mean tau: 2.5173 +/- 0.1073 seconds (N=2000, p_normal=0.5600)\n",
    "- D=0.115, L=4.5: mean tau: 14.5283 +/- 7.3355 seconds (N=2000, p_normal=0.0000)\n",
    "- D=0.115, L=4.75: mean tau: 29.2283 +/- 11.8199 seconds (N=2000, p_normal=0.0000)\n",
    "- D=0.115, L=5.0: mean tau: 53.8336 +/- 17.2470 seconds (N=2000, p_normal=0.0000)\n",
    "- D=0.115, L=5.25: mean tau: 70.9511 +/- 15.6924 seconds (N=2000, p_normal=0.0552)\n",
    "- D=0.115, L=5.625: mean tau: 166.4115 +/- 27.6704 seconds (N=2000, p_normal=0.0342)\n",
    "- D=0.115, L=6.25: mean tau: 624.0579 +/- 49.0198 seconds (N=2000, p_normal=0.4734)\n",
    "- D=0.115, L=7.075: mean tau: 2603.9936 +/- 96.3658 seconds (N=2000, p_normal=0.9836)\n",
    "- D=0.115, L=8.75: mean tau: 5656.2152 +/- 49.9363 seconds (N=1996, p_normal=0.1367)\n",
    "- D=0.42, L=5.0: mean tau: 1.6145 +/- 2.1266 seconds (N=2000, p_normal=0.0000)\n",
    "- D=0.42, L=6.25: mean tau: 2.0326 +/- 0.8127 seconds (N=2000, p_normal=0.0000)\n",
    "- D=0.42, L=7.5: mean tau: 15.9232 +/- 7.1594 seconds (N=2000, p_normal=0.0000)\n",
    "- D=0.42, L=8.75: mean tau: 36.2174 +/- 7.2507 seconds (N=2000, p_normal=0.0000)\n",
    "- D=0.42, L=10.0: mean tau: 171.8601 +/- 18.8753 seconds (N=2000, p_normal=0.0761)"
   ]
  },
  {
   "cell_type": "code",
   "execution_count": 18,
   "id": "9468f123",
   "metadata": {
    "ExecuteTime": {
     "end_time": "2025-07-11T00:34:59.349895Z",
     "start_time": "2025-07-11T00:34:59.328089Z"
    }
   },
   "outputs": [
    {
     "data": {
      "text/html": [
       "<div>\n",
       "<style scoped>\n",
       "    .dataframe tbody tr th:only-of-type {\n",
       "        vertical-align: middle;\n",
       "    }\n",
       "\n",
       "    .dataframe tbody tr th {\n",
       "        vertical-align: top;\n",
       "    }\n",
       "\n",
       "    .dataframe thead th {\n",
       "        text-align: right;\n",
       "    }\n",
       "</style>\n",
       "<table border=\"1\" class=\"dataframe\">\n",
       "  <thead>\n",
       "    <tr style=\"text-align: right;\">\n",
       "      <th></th>\n",
       "      <th>D</th>\n",
       "      <th>L</th>\n",
       "      <th>a</th>\n",
       "      <th>chi</th>\n",
       "      <th>tau</th>\n",
       "      <th>Delta_tau</th>\n",
       "      <th>num_obs</th>\n",
       "      <th>p_normal</th>\n",
       "    </tr>\n",
       "  </thead>\n",
       "  <tbody>\n",
       "    <tr>\n",
       "      <th>0</th>\n",
       "      <td>0.115</td>\n",
       "      <td>3.750</td>\n",
       "      <td>1.552</td>\n",
       "      <td>2.939433</td>\n",
       "      <td>2.406796</td>\n",
       "      <td>0.099690</td>\n",
       "      <td>1980</td>\n",
       "      <td>0.042606</td>\n",
       "    </tr>\n",
       "    <tr>\n",
       "      <th>1</th>\n",
       "      <td>0.115</td>\n",
       "      <td>4.500</td>\n",
       "      <td>1.552</td>\n",
       "      <td>2.939433</td>\n",
       "      <td>8.859208</td>\n",
       "      <td>0.368588</td>\n",
       "      <td>1980</td>\n",
       "      <td>0.842247</td>\n",
       "    </tr>\n",
       "    <tr>\n",
       "      <th>2</th>\n",
       "      <td>0.115</td>\n",
       "      <td>4.750</td>\n",
       "      <td>1.552</td>\n",
       "      <td>2.939433</td>\n",
       "      <td>15.134093</td>\n",
       "      <td>0.651765</td>\n",
       "      <td>1980</td>\n",
       "      <td>0.143401</td>\n",
       "    </tr>\n",
       "    <tr>\n",
       "      <th>3</th>\n",
       "      <td>0.115</td>\n",
       "      <td>5.000</td>\n",
       "      <td>1.552</td>\n",
       "      <td>2.939433</td>\n",
       "      <td>25.067592</td>\n",
       "      <td>1.048049</td>\n",
       "      <td>1980</td>\n",
       "      <td>0.543925</td>\n",
       "    </tr>\n",
       "    <tr>\n",
       "      <th>4</th>\n",
       "      <td>0.115</td>\n",
       "      <td>5.250</td>\n",
       "      <td>1.552</td>\n",
       "      <td>2.939433</td>\n",
       "      <td>44.662364</td>\n",
       "      <td>1.843427</td>\n",
       "      <td>1980</td>\n",
       "      <td>0.342751</td>\n",
       "    </tr>\n",
       "    <tr>\n",
       "      <th>5</th>\n",
       "      <td>0.115</td>\n",
       "      <td>5.625</td>\n",
       "      <td>1.552</td>\n",
       "      <td>2.939433</td>\n",
       "      <td>107.978882</td>\n",
       "      <td>8.475434</td>\n",
       "      <td>1980</td>\n",
       "      <td>0.008281</td>\n",
       "    </tr>\n",
       "    <tr>\n",
       "      <th>6</th>\n",
       "      <td>0.115</td>\n",
       "      <td>6.250</td>\n",
       "      <td>1.552</td>\n",
       "      <td>2.939433</td>\n",
       "      <td>463.499385</td>\n",
       "      <td>27.552122</td>\n",
       "      <td>1942</td>\n",
       "      <td>0.793398</td>\n",
       "    </tr>\n",
       "    <tr>\n",
       "      <th>7</th>\n",
       "      <td>0.115</td>\n",
       "      <td>7.075</td>\n",
       "      <td>1.552</td>\n",
       "      <td>2.939433</td>\n",
       "      <td>1786.592594</td>\n",
       "      <td>72.957845</td>\n",
       "      <td>1612</td>\n",
       "      <td>0.480361</td>\n",
       "    </tr>\n",
       "    <tr>\n",
       "      <th>8</th>\n",
       "      <td>0.115</td>\n",
       "      <td>8.750</td>\n",
       "      <td>1.552</td>\n",
       "      <td>2.939433</td>\n",
       "      <td>2922.895171</td>\n",
       "      <td>236.999272</td>\n",
       "      <td>223</td>\n",
       "      <td>0.186273</td>\n",
       "    </tr>\n",
       "    <tr>\n",
       "      <th>9</th>\n",
       "      <td>0.420</td>\n",
       "      <td>5.000</td>\n",
       "      <td>9.300</td>\n",
       "      <td>2.075269</td>\n",
       "      <td>0.515361</td>\n",
       "      <td>0.021465</td>\n",
       "      <td>1980</td>\n",
       "      <td>0.746905</td>\n",
       "    </tr>\n",
       "    <tr>\n",
       "      <th>10</th>\n",
       "      <td>0.420</td>\n",
       "      <td>6.250</td>\n",
       "      <td>9.300</td>\n",
       "      <td>2.075269</td>\n",
       "      <td>1.549343</td>\n",
       "      <td>0.066235</td>\n",
       "      <td>1980</td>\n",
       "      <td>0.254399</td>\n",
       "    </tr>\n",
       "    <tr>\n",
       "      <th>11</th>\n",
       "      <td>0.420</td>\n",
       "      <td>7.500</td>\n",
       "      <td>9.300</td>\n",
       "      <td>2.075269</td>\n",
       "      <td>5.637701</td>\n",
       "      <td>0.244182</td>\n",
       "      <td>1980</td>\n",
       "      <td>0.690701</td>\n",
       "    </tr>\n",
       "    <tr>\n",
       "      <th>12</th>\n",
       "      <td>0.420</td>\n",
       "      <td>8.750</td>\n",
       "      <td>9.300</td>\n",
       "      <td>2.075269</td>\n",
       "      <td>23.247659</td>\n",
       "      <td>1.178392</td>\n",
       "      <td>1980</td>\n",
       "      <td>0.899509</td>\n",
       "    </tr>\n",
       "    <tr>\n",
       "      <th>13</th>\n",
       "      <td>0.420</td>\n",
       "      <td>10.000</td>\n",
       "      <td>9.300</td>\n",
       "      <td>2.075269</td>\n",
       "      <td>138.236581</td>\n",
       "      <td>12.150073</td>\n",
       "      <td>1980</td>\n",
       "      <td>0.032099</td>\n",
       "    </tr>\n",
       "  </tbody>\n",
       "</table>\n",
       "</div>"
      ],
      "text/plain": [
       "        D       L      a       chi          tau   Delta_tau  num_obs  p_normal\n",
       "0   0.115   3.750  1.552  2.939433     2.406796    0.099690     1980  0.042606\n",
       "1   0.115   4.500  1.552  2.939433     8.859208    0.368588     1980  0.842247\n",
       "2   0.115   4.750  1.552  2.939433    15.134093    0.651765     1980  0.143401\n",
       "3   0.115   5.000  1.552  2.939433    25.067592    1.048049     1980  0.543925\n",
       "4   0.115   5.250  1.552  2.939433    44.662364    1.843427     1980  0.342751\n",
       "5   0.115   5.625  1.552  2.939433   107.978882    8.475434     1980  0.008281\n",
       "6   0.115   6.250  1.552  2.939433   463.499385   27.552122     1942  0.793398\n",
       "7   0.115   7.075  1.552  2.939433  1786.592594   72.957845     1612  0.480361\n",
       "8   0.115   8.750  1.552  2.939433  2922.895171  236.999272      223  0.186273\n",
       "9   0.420   5.000  9.300  2.075269     0.515361    0.021465     1980  0.746905\n",
       "10  0.420   6.250  9.300  2.075269     1.549343    0.066235     1980  0.254399\n",
       "11  0.420   7.500  9.300  2.075269     5.637701    0.244182     1980  0.690701\n",
       "12  0.420   8.750  9.300  2.075269    23.247659    1.178392     1980  0.899509\n",
       "13  0.420  10.000  9.300  2.075269   138.236581   12.150073     1980  0.032099"
      ]
     },
     "execution_count": 18,
     "metadata": {},
     "output_type": "execute_result"
    }
   ],
   "source": [
    "df_out = pd.DataFrame(dict_lst)\n",
    "df_out"
   ]
  },
  {
   "cell_type": "code",
   "execution_count": 20,
   "id": "fa0db608",
   "metadata": {
    "ExecuteTime": {
     "end_time": "2025-07-11T00:35:25.160594Z",
     "start_time": "2025-07-11T00:35:25.156089Z"
    }
   },
   "outputs": [],
   "source": [
    "# savedir = f\"{nb_dir}/data/osg_output/run_46_tau_vs_L.csv\"\n",
    "# savedir = f\"{nb_dir}/data/osg_output/run_47_tau_vs_L.csv\"\n",
    "savedir = f\"{nb_dir}/data/osg_output/run_{run_num}_tau_vs_L_quantile_.99.csv\""
   ]
  },
  {
   "cell_type": "code",
   "execution_count": 21,
   "id": "79bfde7a",
   "metadata": {
    "ExecuteTime": {
     "end_time": "2025-07-11T00:35:26.732929Z",
     "start_time": "2025-07-11T00:35:26.719932Z"
    }
   },
   "outputs": [
    {
     "name": "stdout",
     "output_type": "stream",
     "text": [
      "/Users/timothytyree/Documents/GitHub/bgmc/python/data/osg_output/run_48_tau_vs_L_quantile_.99.csv\n"
     ]
    }
   ],
   "source": [
    "df_out.to_csv(savedir,index=False)\n",
    "print(savedir)"
   ]
  },
  {
   "cell_type": "code",
   "execution_count": 22,
   "id": "090147da",
   "metadata": {
    "ExecuteTime": {
     "end_time": "2025-07-11T00:35:28.761710Z",
     "start_time": "2025-07-11T00:35:28.020873Z"
    }
   },
   "outputs": [
    {
     "name": "stdout",
     "output_type": "stream",
     "text": [
      "-n \u0007\n",
      "-n \u0007\n",
      "-n \u0007\n"
     ]
    },
    {
     "data": {
      "text/plain": [
       "0"
      ]
     },
     "execution_count": 22,
     "metadata": {},
     "output_type": "execute_result"
    }
   ],
   "source": [
    "beep(3)"
   ]
  },
  {
   "cell_type": "code",
   "execution_count": null,
   "id": "82dc818e",
   "metadata": {},
   "outputs": [],
   "source": []
  }
 ],
 "metadata": {
  "kernelspec": {
   "display_name": "Python 3 (ipykernel)",
   "language": "python",
   "name": "python3"
  },
  "language_info": {
   "codemirror_mode": {
    "name": "ipython",
    "version": 3
   },
   "file_extension": ".py",
   "mimetype": "text/x-python",
   "name": "python",
   "nbconvert_exporter": "python",
   "pygments_lexer": "ipython3",
   "version": "3.9.5"
  },
  "toc": {
   "base_numbering": 1,
   "nav_menu": {},
   "number_sections": true,
   "sideBar": true,
   "skip_h1_title": false,
   "title_cell": "Table of Contents",
   "title_sidebar": "Contents",
   "toc_cell": false,
   "toc_position": {},
   "toc_section_display": true,
   "toc_window_display": false
  }
 },
 "nbformat": 4,
 "nbformat_minor": 5
}
