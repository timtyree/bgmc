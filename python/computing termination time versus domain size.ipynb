{
 "cells": [
  {
   "cell_type": "markdown",
   "id": "68b476bf",
   "metadata": {},
   "source": [
    "# visualizing termination time versus domain size\n",
    "Tim Tyree<br>\n",
    "6.11.2025"
   ]
  },
  {
   "cell_type": "code",
   "execution_count": 1,
   "id": "22dd2a6f",
   "metadata": {
    "ExecuteTime": {
     "end_time": "2025-06-11T20:53:10.251832Z",
     "start_time": "2025-06-11T20:53:08.898944Z"
    }
   },
   "outputs": [],
   "source": [
    "import os,sys,pandas as pd,numpy as np"
   ]
  },
  {
   "cell_type": "code",
   "execution_count": 25,
   "id": "c1bbc346",
   "metadata": {
    "ExecuteTime": {
     "end_time": "2025-06-15T19:51:55.274487Z",
     "start_time": "2025-06-15T19:51:55.269391Z"
    }
   },
   "outputs": [],
   "source": [
    "from lib import *"
   ]
  },
  {
   "cell_type": "markdown",
   "id": "f81bb044",
   "metadata": {},
   "source": [
    "# define module"
   ]
  },
  {
   "cell_type": "code",
   "execution_count": 26,
   "id": "ce3f5274",
   "metadata": {
    "ExecuteTime": {
     "end_time": "2025-06-15T19:51:56.111005Z",
     "start_time": "2025-06-15T19:51:56.102288Z"
    }
   },
   "outputs": [],
   "source": [
    "# parse_iolines\n",
    "def parse_iolines_single(input_fn, printing=False):\n",
    "    n_input=-9999\n",
    "    n_output=-9999\n",
    "    with open(input_fn) as f:\n",
    "#         trgt1='Printing Inputs...\\n'\n",
    "#         trgt2='Printing Outputs...\\n'\n",
    "        trgt1='Printing Inputs:\\n'\n",
    "        trgt2='Printing Outputs:\\n'\n",
    "        for n,line in enumerate(f):\n",
    "            if trgt1 == line:\n",
    "                if printing:\n",
    "                    print(f'found inputs starting after line {n}')\n",
    "                n_input=n\n",
    "            if trgt2 == line:\n",
    "                if printing:\n",
    "                    print(f'found outputs starting after line {n}')\n",
    "                n_output=n\n",
    "    return n_input,n_output"
   ]
  },
  {
   "cell_type": "code",
   "execution_count": 27,
   "id": "320d2630",
   "metadata": {
    "ExecuteTime": {
     "end_time": "2025-06-15T19:51:56.629693Z",
     "start_time": "2025-06-15T19:51:56.624803Z"
    }
   },
   "outputs": [],
   "source": [
    "def parse_outputs_single_trial(input_fn, n_output):\n",
    "    \"\"\"\n",
    "    Example Usage:\n",
    "TermTime = parse_outputs_single_trial(input_fn, n_output)\n",
    "    \"\"\"\n",
    "    with open(input_fn) as f:\n",
    "        for n,line in enumerate(f):\n",
    "            if n == n_output+1:\n",
    "                lin0 =line\n",
    "                TermTime = eval(lin0[:-2].split('=')[-1])\n",
    "                return TermTime\n",
    "#         if n == n_output+1:\n",
    "#             line_N = line\n",
    "#         if n == n_output+2:\n",
    "#             line_CollTime =line\n",
    "# N_values=np.array([eval(s) for s in line_N[:-2].split(',')])\n",
    "# CollTime_values=np.array([eval(s) for s in line_CollTime[:-2].split(',')])\n",
    "# # CollTime_values=np.array([eval(s) for s in line_CollTime[:-1].split(',')])\n",
    "# df=pd.DataFrame({\n",
    "#     'N':N_values,\n",
    "#     'CollTime':CollTime_values\n",
    "# })\n",
    "# df=df.loc[df.CollTime!=-9999]\n",
    "# df.reset_index(inplace=True,drop=True)\n",
    "## return df"
   ]
  },
  {
   "cell_type": "code",
   "execution_count": 28,
   "id": "7dd3b9b4",
   "metadata": {
    "ExecuteTime": {
     "end_time": "2025-06-15T19:51:57.086776Z",
     "start_time": "2025-06-15T19:51:57.077418Z"
    }
   },
   "outputs": [],
   "source": [
    "# parse_outputs(input_fn, n_output=)\n",
    "def parse_log_single(input_fn,printing=False):\n",
    "    \"\"\"\n",
    "    Example Usage:\n",
    "dict_data = parse_log_single(input_fn,printing=False)\n",
    "    \"\"\"\n",
    "    n_input,n_output=parse_iolines_single(input_fn, printing=False)\n",
    "    if n_input==-9999:\n",
    "        if printing:\n",
    "            print(f\"Warning: n_input not found for input_fn={input_fn}.\\nreturning None...\")\n",
    "        return None\n",
    "    col_name_lst, col_value_lst=parse_inputs(input_fn,n_input,n_output,printing=printing)\n",
    "    dict_inputs=dict(zip(col_name_lst,col_value_lst))\n",
    "    TermTime = parse_outputs_single_trial(input_fn, n_output)\n",
    "    dict_data = dict(dict_inputs)\n",
    "    dict_data['TermTime'] = TermTime\n",
    "    return dict_data"
   ]
  },
  {
   "cell_type": "code",
   "execution_count": null,
   "id": "467eb491",
   "metadata": {},
   "outputs": [],
   "source": []
  },
  {
   "cell_type": "markdown",
   "id": "627507a7",
   "metadata": {},
   "source": [
    "# dev"
   ]
  },
  {
   "cell_type": "code",
   "execution_count": 29,
   "id": "0b20bbcf",
   "metadata": {
    "ExecuteTime": {
     "end_time": "2025-06-15T19:51:58.108801Z",
     "start_time": "2025-06-15T19:51:58.103887Z"
    }
   },
   "outputs": [],
   "source": [
    "# fldr = f\"{nb_dir}/data/osg_output/run_44\"\n",
    "# fldr = f\"{nb_dir}/data/osg_output/run_45\"\n",
    "# fldr = f\"{nb_dir}/data/osg_output/run_46\"\n",
    "fldr = f\"{nb_dir}/data/osg_output/run_47\""
   ]
  },
  {
   "cell_type": "code",
   "execution_count": 30,
   "id": "bb318093",
   "metadata": {
    "ExecuteTime": {
     "end_time": "2025-06-15T19:51:58.468341Z",
     "start_time": "2025-06-15T19:51:58.463660Z"
    }
   },
   "outputs": [],
   "source": [
    "assert os.path.exists(fldr)"
   ]
  },
  {
   "cell_type": "code",
   "execution_count": 31,
   "id": "2ee58015",
   "metadata": {
    "ExecuteTime": {
     "end_time": "2025-06-15T19:53:34.847587Z",
     "start_time": "2025-06-15T19:51:58.932933Z"
    }
   },
   "outputs": [],
   "source": [
    "dict_data_lst = []\n",
    "for fn in os.listdir(fldr):\n",
    "    if fn.find('.out.')!=-1:\n",
    "        input_fn = os.path.join(fldr,fn)\n",
    "        dict_data = parse_log_single(input_fn,printing=False)\n",
    "        if dict_data is not None:\n",
    "            #record\n",
    "            dict_data_lst.append(dict_data)\n",
    "df=pd.DataFrame(dict_data_lst); del dict_data_lst"
   ]
  },
  {
   "cell_type": "code",
   "execution_count": 32,
   "id": "8ca85f76",
   "metadata": {
    "ExecuteTime": {
     "end_time": "2025-06-15T19:53:34.850095Z",
     "start_time": "2025-06-15T19:53:34.848705Z"
    }
   },
   "outputs": [],
   "source": [
    "# np.array([x for x in dict_data_lst if x is None])"
   ]
  },
  {
   "cell_type": "code",
   "execution_count": 33,
   "id": "d8081223",
   "metadata": {
    "ExecuteTime": {
     "end_time": "2025-06-15T19:53:34.852522Z",
     "start_time": "2025-06-15T19:53:34.850853Z"
    }
   },
   "outputs": [],
   "source": [
    "# pd.DataFrame(dict_data_lst)"
   ]
  },
  {
   "cell_type": "code",
   "execution_count": 34,
   "id": "36bb34d6",
   "metadata": {
    "ExecuteTime": {
     "end_time": "2025-06-15T19:53:34.854983Z",
     "start_time": "2025-06-15T19:53:34.853726Z"
    }
   },
   "outputs": [],
   "source": [
    "# len(dict_data_lst)"
   ]
  },
  {
   "cell_type": "code",
   "execution_count": 35,
   "id": "f272f211",
   "metadata": {
    "ExecuteTime": {
     "end_time": "2025-06-15T19:53:34.856836Z",
     "start_time": "2025-06-15T19:53:34.855589Z"
    }
   },
   "outputs": [],
   "source": [
    "# input_fn"
   ]
  },
  {
   "cell_type": "code",
   "execution_count": 36,
   "id": "2953d393",
   "metadata": {
    "ExecuteTime": {
     "end_time": "2025-06-15T19:53:34.858675Z",
     "start_time": "2025-06-15T19:53:34.857434Z"
    }
   },
   "outputs": [],
   "source": [
    "# !atom '/Users/timothytyree/Documents/GitHub/bgmc/python/data/osg_output/run_45/job.out.17477944.1912'"
   ]
  },
  {
   "cell_type": "code",
   "execution_count": 37,
   "id": "2bbe8864",
   "metadata": {
    "ExecuteTime": {
     "end_time": "2025-06-15T19:53:34.860440Z",
     "start_time": "2025-06-15T19:53:34.859239Z"
    }
   },
   "outputs": [],
   "source": [
    "# dict_data = parse_log_single(input_fn,printing=True)\n",
    "# dict_data"
   ]
  },
  {
   "cell_type": "code",
   "execution_count": 38,
   "id": "15c22627",
   "metadata": {
    "ExecuteTime": {
     "end_time": "2025-06-15T19:53:35.072799Z",
     "start_time": "2025-06-15T19:53:34.861166Z"
    }
   },
   "outputs": [
    {
     "name": "stdout",
     "output_type": "stream",
     "text": [
      "LPM with Same Creation (Run #46):\n",
      "- D=0.048, L=3.75: mean tau: 2.5524 +/- 0.1227 seconds (N=2000, p_normal=0.7090)\n",
      "- D=0.048, L=5.0: mean tau: 24.9064 +/- 0.8454 seconds (N=2000, p_normal=0.9100)\n",
      "- D=0.048, L=6.25: mean tau: 57.2602 +/- 0.4532 seconds (N=2000, p_normal=0.0645)\n",
      "- D=0.048, L=7.075: mean tau: 59.6768 +/- 0.1742 seconds (N=1997, p_normal=0.0032)\n",
      "- D=0.048, L=8.75: mean tau: 60.0000 +/- 0.0000 seconds (N=1993, p_normal=0.0000)\n",
      "- D=0.42, L=5.0: mean tau: 0.5670 +/- 0.0625 seconds (N=2000, p_normal=0.0000)\n",
      "- D=0.42, L=6.25: mean tau: 1.8240 +/- 0.1634 seconds (N=2000, p_normal=0.0086)\n",
      "- D=0.42, L=7.5: mean tau: 7.0232 +/- 0.4015 seconds (N=2000, p_normal=0.1577)\n",
      "- D=0.42, L=8.75: mean tau: 28.3362 +/- 0.9632 seconds (N=2000, p_normal=0.4543)\n",
      "- D=0.42, L=10.0: mean tau: 51.9175 +/- 0.7744 seconds (N=2000, p_normal=0.2250)\n"
     ]
    }
   ],
   "source": [
    "np.random.seed(42)\n",
    "printing=True\n",
    "if printing:\n",
    "    print(f\"LPM with Same Creation (Run #46):\")\n",
    "dict_lst = []\n",
    "for (D,L),g in df.groupby(by=['D','L']):\n",
    "    tau_values = g['TermTime'].values\n",
    "    meanx,Delta_meanx,num_obs,p_normal=comp_mean_bootstrap_uncertainty(tau_values)\n",
    "    printing=True\n",
    "    a=g['varkappa'].max()\n",
    "    chi=g['chi'].max()\n",
    "    if printing:\n",
    "        print(f\"- {D=}, {L=}: mean tau: {meanx:.4f} +/- {Delta_meanx:.4f} seconds (N={num_obs}, {p_normal=:.4f})\")\n",
    "    dict_lst.append(dict(D=D,L=L,a=a,chi=chi,\n",
    "                         tau=meanx,Delta_tau=Delta_meanx,\n",
    "                         num_obs=num_obs,p_normal=p_normal,\n",
    "                        ))"
   ]
  },
  {
   "cell_type": "code",
   "execution_count": 39,
   "id": "9468f123",
   "metadata": {
    "ExecuteTime": {
     "end_time": "2025-06-15T19:53:35.081546Z",
     "start_time": "2025-06-15T19:53:35.073813Z"
    }
   },
   "outputs": [
    {
     "data": {
      "text/html": [
       "<div>\n",
       "<style scoped>\n",
       "    .dataframe tbody tr th:only-of-type {\n",
       "        vertical-align: middle;\n",
       "    }\n",
       "\n",
       "    .dataframe tbody tr th {\n",
       "        vertical-align: top;\n",
       "    }\n",
       "\n",
       "    .dataframe thead th {\n",
       "        text-align: right;\n",
       "    }\n",
       "</style>\n",
       "<table border=\"1\" class=\"dataframe\">\n",
       "  <thead>\n",
       "    <tr style=\"text-align: right;\">\n",
       "      <th></th>\n",
       "      <th>D</th>\n",
       "      <th>L</th>\n",
       "      <th>a</th>\n",
       "      <th>chi</th>\n",
       "      <th>tau</th>\n",
       "      <th>Delta_tau</th>\n",
       "      <th>num_obs</th>\n",
       "      <th>p_normal</th>\n",
       "    </tr>\n",
       "  </thead>\n",
       "  <tbody>\n",
       "    <tr>\n",
       "      <th>0</th>\n",
       "      <td>0.048</td>\n",
       "      <td>3.750</td>\n",
       "      <td>1.552</td>\n",
       "      <td>2.939433</td>\n",
       "      <td>2.552351</td>\n",
       "      <td>1.226709e-01</td>\n",
       "      <td>2000</td>\n",
       "      <td>7.090170e-01</td>\n",
       "    </tr>\n",
       "    <tr>\n",
       "      <th>1</th>\n",
       "      <td>0.048</td>\n",
       "      <td>5.000</td>\n",
       "      <td>1.552</td>\n",
       "      <td>2.939433</td>\n",
       "      <td>24.906398</td>\n",
       "      <td>8.453619e-01</td>\n",
       "      <td>2000</td>\n",
       "      <td>9.100244e-01</td>\n",
       "    </tr>\n",
       "    <tr>\n",
       "      <th>2</th>\n",
       "      <td>0.048</td>\n",
       "      <td>6.250</td>\n",
       "      <td>1.552</td>\n",
       "      <td>2.939433</td>\n",
       "      <td>57.260239</td>\n",
       "      <td>4.531969e-01</td>\n",
       "      <td>2000</td>\n",
       "      <td>6.449998e-02</td>\n",
       "    </tr>\n",
       "    <tr>\n",
       "      <th>3</th>\n",
       "      <td>0.048</td>\n",
       "      <td>7.075</td>\n",
       "      <td>1.552</td>\n",
       "      <td>2.939433</td>\n",
       "      <td>59.676798</td>\n",
       "      <td>1.741793e-01</td>\n",
       "      <td>1997</td>\n",
       "      <td>3.228690e-03</td>\n",
       "    </tr>\n",
       "    <tr>\n",
       "      <th>4</th>\n",
       "      <td>0.048</td>\n",
       "      <td>8.750</td>\n",
       "      <td>1.552</td>\n",
       "      <td>2.939433</td>\n",
       "      <td>60.000000</td>\n",
       "      <td>2.785328e-14</td>\n",
       "      <td>1993</td>\n",
       "      <td>0.000000e+00</td>\n",
       "    </tr>\n",
       "    <tr>\n",
       "      <th>5</th>\n",
       "      <td>0.420</td>\n",
       "      <td>5.000</td>\n",
       "      <td>9.300</td>\n",
       "      <td>2.075269</td>\n",
       "      <td>0.566962</td>\n",
       "      <td>6.247339e-02</td>\n",
       "      <td>2000</td>\n",
       "      <td>1.439192e-26</td>\n",
       "    </tr>\n",
       "    <tr>\n",
       "      <th>6</th>\n",
       "      <td>0.420</td>\n",
       "      <td>6.250</td>\n",
       "      <td>9.300</td>\n",
       "      <td>2.075269</td>\n",
       "      <td>1.823972</td>\n",
       "      <td>1.633538e-01</td>\n",
       "      <td>2000</td>\n",
       "      <td>8.571018e-03</td>\n",
       "    </tr>\n",
       "    <tr>\n",
       "      <th>7</th>\n",
       "      <td>0.420</td>\n",
       "      <td>7.500</td>\n",
       "      <td>9.300</td>\n",
       "      <td>2.075269</td>\n",
       "      <td>7.023152</td>\n",
       "      <td>4.014836e-01</td>\n",
       "      <td>2000</td>\n",
       "      <td>1.577064e-01</td>\n",
       "    </tr>\n",
       "    <tr>\n",
       "      <th>8</th>\n",
       "      <td>0.420</td>\n",
       "      <td>8.750</td>\n",
       "      <td>9.300</td>\n",
       "      <td>2.075269</td>\n",
       "      <td>28.336182</td>\n",
       "      <td>9.631525e-01</td>\n",
       "      <td>2000</td>\n",
       "      <td>4.542982e-01</td>\n",
       "    </tr>\n",
       "    <tr>\n",
       "      <th>9</th>\n",
       "      <td>0.420</td>\n",
       "      <td>10.000</td>\n",
       "      <td>9.300</td>\n",
       "      <td>2.075269</td>\n",
       "      <td>51.917457</td>\n",
       "      <td>7.744242e-01</td>\n",
       "      <td>2000</td>\n",
       "      <td>2.250207e-01</td>\n",
       "    </tr>\n",
       "  </tbody>\n",
       "</table>\n",
       "</div>"
      ],
      "text/plain": [
       "       D       L      a       chi        tau     Delta_tau  num_obs  \\\n",
       "0  0.048   3.750  1.552  2.939433   2.552351  1.226709e-01     2000   \n",
       "1  0.048   5.000  1.552  2.939433  24.906398  8.453619e-01     2000   \n",
       "2  0.048   6.250  1.552  2.939433  57.260239  4.531969e-01     2000   \n",
       "3  0.048   7.075  1.552  2.939433  59.676798  1.741793e-01     1997   \n",
       "4  0.048   8.750  1.552  2.939433  60.000000  2.785328e-14     1993   \n",
       "5  0.420   5.000  9.300  2.075269   0.566962  6.247339e-02     2000   \n",
       "6  0.420   6.250  9.300  2.075269   1.823972  1.633538e-01     2000   \n",
       "7  0.420   7.500  9.300  2.075269   7.023152  4.014836e-01     2000   \n",
       "8  0.420   8.750  9.300  2.075269  28.336182  9.631525e-01     2000   \n",
       "9  0.420  10.000  9.300  2.075269  51.917457  7.744242e-01     2000   \n",
       "\n",
       "       p_normal  \n",
       "0  7.090170e-01  \n",
       "1  9.100244e-01  \n",
       "2  6.449998e-02  \n",
       "3  3.228690e-03  \n",
       "4  0.000000e+00  \n",
       "5  1.439192e-26  \n",
       "6  8.571018e-03  \n",
       "7  1.577064e-01  \n",
       "8  4.542982e-01  \n",
       "9  2.250207e-01  "
      ]
     },
     "execution_count": 39,
     "metadata": {},
     "output_type": "execute_result"
    }
   ],
   "source": [
    "df_out = pd.DataFrame(dict_lst)\n",
    "df_out"
   ]
  },
  {
   "cell_type": "code",
   "execution_count": 40,
   "id": "fa0db608",
   "metadata": {
    "ExecuteTime": {
     "end_time": "2025-06-15T19:53:35.085261Z",
     "start_time": "2025-06-15T19:53:35.083545Z"
    }
   },
   "outputs": [],
   "source": [
    "# savedir = f\"{nb_dir}/data/osg_output/run_46_tau_vs_L.csv\"\n",
    "savedir = f\"{nb_dir}/data/osg_output/run_47_tau_vs_L.csv\""
   ]
  },
  {
   "cell_type": "code",
   "execution_count": 41,
   "id": "79bfde7a",
   "metadata": {
    "ExecuteTime": {
     "end_time": "2025-06-15T19:53:35.089334Z",
     "start_time": "2025-06-15T19:53:35.086254Z"
    }
   },
   "outputs": [],
   "source": [
    "df_out.to_csv(savedir,index=False)"
   ]
  },
  {
   "cell_type": "code",
   "execution_count": 42,
   "id": "090147da",
   "metadata": {
    "ExecuteTime": {
     "end_time": "2025-06-15T19:53:35.876555Z",
     "start_time": "2025-06-15T19:53:35.090293Z"
    }
   },
   "outputs": [
    {
     "name": "stdout",
     "output_type": "stream",
     "text": [
      "-n \u0007\n",
      "-n \u0007\n",
      "-n \u0007\n"
     ]
    },
    {
     "data": {
      "text/plain": [
       "0"
      ]
     },
     "execution_count": 42,
     "metadata": {},
     "output_type": "execute_result"
    }
   ],
   "source": [
    "beep(3)"
   ]
  },
  {
   "cell_type": "code",
   "execution_count": null,
   "id": "82dc818e",
   "metadata": {},
   "outputs": [],
   "source": []
  }
 ],
 "metadata": {
  "kernelspec": {
   "display_name": "Python 3 (ipykernel)",
   "language": "python",
   "name": "python3"
  },
  "language_info": {
   "codemirror_mode": {
    "name": "ipython",
    "version": 3
   },
   "file_extension": ".py",
   "mimetype": "text/x-python",
   "name": "python",
   "nbconvert_exporter": "python",
   "pygments_lexer": "ipython3",
   "version": "3.9.5"
  },
  "toc": {
   "base_numbering": 1,
   "nav_menu": {},
   "number_sections": true,
   "sideBar": true,
   "skip_h1_title": false,
   "title_cell": "Table of Contents",
   "title_sidebar": "Contents",
   "toc_cell": false,
   "toc_position": {},
   "toc_section_display": true,
   "toc_window_display": false
  }
 },
 "nbformat": 4,
 "nbformat_minor": 5
}
