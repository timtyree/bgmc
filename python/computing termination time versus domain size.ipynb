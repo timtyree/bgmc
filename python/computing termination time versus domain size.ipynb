{
 "cells": [
  {
   "cell_type": "markdown",
   "id": "68b476bf",
   "metadata": {},
   "source": [
    "# visualizing termination time versus domain size\n",
    "Tim Tyree<br>\n",
    "6.11.2025"
   ]
  },
  {
   "cell_type": "code",
   "execution_count": 1,
   "id": "22dd2a6f",
   "metadata": {
    "ExecuteTime": {
     "end_time": "2025-07-02T16:18:19.253308Z",
     "start_time": "2025-07-02T16:18:17.915927Z"
    }
   },
   "outputs": [],
   "source": [
    "import os,sys,pandas as pd,numpy as np"
   ]
  },
  {
   "cell_type": "code",
   "execution_count": 2,
   "id": "c1bbc346",
   "metadata": {
    "ExecuteTime": {
     "end_time": "2025-07-02T16:18:23.552642Z",
     "start_time": "2025-07-02T16:18:19.254259Z"
    }
   },
   "outputs": [],
   "source": [
    "from lib import *"
   ]
  },
  {
   "cell_type": "markdown",
   "id": "f81bb044",
   "metadata": {},
   "source": [
    "# define module"
   ]
  },
  {
   "cell_type": "code",
   "execution_count": 3,
   "id": "ce3f5274",
   "metadata": {
    "ExecuteTime": {
     "end_time": "2025-07-02T16:18:23.556735Z",
     "start_time": "2025-07-02T16:18:23.554250Z"
    }
   },
   "outputs": [],
   "source": [
    "# parse_iolines\n",
    "def parse_iolines_single(input_fn, printing=False):\n",
    "    n_input=-9999\n",
    "    n_output=-9999\n",
    "    with open(input_fn) as f:\n",
    "#         trgt1='Printing Inputs...\\n'\n",
    "#         trgt2='Printing Outputs...\\n'\n",
    "        trgt1='Printing Inputs:\\n'\n",
    "        trgt2='Printing Outputs:\\n'\n",
    "        for n,line in enumerate(f):\n",
    "            if trgt1 == line:\n",
    "                if printing:\n",
    "                    print(f'found inputs starting after line {n}')\n",
    "                n_input=n\n",
    "            if trgt2 == line:\n",
    "                if printing:\n",
    "                    print(f'found outputs starting after line {n}')\n",
    "                n_output=n\n",
    "    return n_input,n_output"
   ]
  },
  {
   "cell_type": "code",
   "execution_count": 4,
   "id": "320d2630",
   "metadata": {
    "ExecuteTime": {
     "end_time": "2025-07-02T16:18:23.560754Z",
     "start_time": "2025-07-02T16:18:23.557346Z"
    }
   },
   "outputs": [],
   "source": [
    "def parse_outputs_single_trial(input_fn, n_output):\n",
    "    \"\"\"\n",
    "    Example Usage:\n",
    "TermTime = parse_outputs_single_trial(input_fn, n_output)\n",
    "    \"\"\"\n",
    "    with open(input_fn) as f:\n",
    "        for n,line in enumerate(f):\n",
    "            if n == n_output+1:\n",
    "                lin0 =line\n",
    "                TermTime = eval(lin0[:-2].split('=')[-1])\n",
    "                return TermTime\n",
    "#         if n == n_output+1:\n",
    "#             line_N = line\n",
    "#         if n == n_output+2:\n",
    "#             line_CollTime =line\n",
    "# N_values=np.array([eval(s) for s in line_N[:-2].split(',')])\n",
    "# CollTime_values=np.array([eval(s) for s in line_CollTime[:-2].split(',')])\n",
    "# # CollTime_values=np.array([eval(s) for s in line_CollTime[:-1].split(',')])\n",
    "# df=pd.DataFrame({\n",
    "#     'N':N_values,\n",
    "#     'CollTime':CollTime_values\n",
    "# })\n",
    "# df=df.loc[df.CollTime!=-9999]\n",
    "# df.reset_index(inplace=True,drop=True)\n",
    "## return df"
   ]
  },
  {
   "cell_type": "code",
   "execution_count": 5,
   "id": "7dd3b9b4",
   "metadata": {
    "ExecuteTime": {
     "end_time": "2025-07-02T16:18:23.564145Z",
     "start_time": "2025-07-02T16:18:23.561495Z"
    }
   },
   "outputs": [],
   "source": [
    "# parse_outputs(input_fn, n_output=)\n",
    "def parse_log_single(input_fn,printing=False):\n",
    "    \"\"\"\n",
    "    Example Usage:\n",
    "dict_data = parse_log_single(input_fn,printing=False)\n",
    "    \"\"\"\n",
    "    n_input,n_output=parse_iolines_single(input_fn, printing=False)\n",
    "    if n_input==-9999:\n",
    "        if printing:\n",
    "            print(f\"Warning: n_input not found for input_fn={input_fn}.\\nreturning None...\")\n",
    "        return None\n",
    "    col_name_lst, col_value_lst=parse_inputs(input_fn,n_input,n_output,printing=printing)\n",
    "    dict_inputs=dict(zip(col_name_lst,col_value_lst))\n",
    "    TermTime = parse_outputs_single_trial(input_fn, n_output)\n",
    "    dict_data = dict(dict_inputs)\n",
    "    dict_data['TermTime'] = TermTime\n",
    "    return dict_data"
   ]
  },
  {
   "cell_type": "code",
   "execution_count": null,
   "id": "467eb491",
   "metadata": {},
   "outputs": [],
   "source": []
  },
  {
   "cell_type": "markdown",
   "id": "627507a7",
   "metadata": {},
   "source": [
    "# dev"
   ]
  },
  {
   "cell_type": "code",
   "execution_count": 6,
   "id": "0b20bbcf",
   "metadata": {
    "ExecuteTime": {
     "end_time": "2025-07-02T16:18:23.566818Z",
     "start_time": "2025-07-02T16:18:23.564913Z"
    }
   },
   "outputs": [],
   "source": [
    "run_num = 48\n",
    "# fldr = f\"{nb_dir}/data/osg_output/run_44\"\n",
    "# fldr = f\"{nb_dir}/data/osg_output/run_45\"\n",
    "# fldr = f\"{nb_dir}/data/osg_output/run_46\"\n",
    "# fldr = f\"{nb_dir}/data/osg_output/run_47\"\n",
    "fldr = f\"{nb_dir}/data/osg_output/run_{run_num}\""
   ]
  },
  {
   "cell_type": "code",
   "execution_count": 7,
   "id": "bb318093",
   "metadata": {
    "ExecuteTime": {
     "end_time": "2025-07-02T16:18:23.569508Z",
     "start_time": "2025-07-02T16:18:23.567735Z"
    }
   },
   "outputs": [],
   "source": [
    "assert os.path.exists(fldr)"
   ]
  },
  {
   "cell_type": "code",
   "execution_count": 8,
   "id": "2ee58015",
   "metadata": {
    "ExecuteTime": {
     "end_time": "2025-07-02T16:18:31.006100Z",
     "start_time": "2025-07-02T16:18:23.570489Z"
    }
   },
   "outputs": [],
   "source": [
    "dict_data_lst = []\n",
    "for fn in os.listdir(fldr):\n",
    "    if fn.find('.out.')!=-1:\n",
    "        input_fn = os.path.join(fldr,fn)\n",
    "        dict_data = parse_log_single(input_fn,printing=False)\n",
    "        if dict_data is not None:\n",
    "            #record\n",
    "            dict_data_lst.append(dict_data)\n",
    "df=pd.DataFrame(dict_data_lst); del dict_data_lst"
   ]
  },
  {
   "cell_type": "code",
   "execution_count": 9,
   "id": "8ca85f76",
   "metadata": {
    "ExecuteTime": {
     "end_time": "2025-07-02T16:18:31.009618Z",
     "start_time": "2025-07-02T16:18:31.008213Z"
    }
   },
   "outputs": [],
   "source": [
    "# np.array([x for x in dict_data_lst if x is None])"
   ]
  },
  {
   "cell_type": "code",
   "execution_count": 10,
   "id": "d8081223",
   "metadata": {
    "ExecuteTime": {
     "end_time": "2025-07-02T16:18:31.011676Z",
     "start_time": "2025-07-02T16:18:31.010310Z"
    }
   },
   "outputs": [],
   "source": [
    "# pd.DataFrame(dict_data_lst)"
   ]
  },
  {
   "cell_type": "code",
   "execution_count": 11,
   "id": "36bb34d6",
   "metadata": {
    "ExecuteTime": {
     "end_time": "2025-07-02T16:18:31.013490Z",
     "start_time": "2025-07-02T16:18:31.012234Z"
    }
   },
   "outputs": [],
   "source": [
    "# len(dict_data_lst)"
   ]
  },
  {
   "cell_type": "code",
   "execution_count": 12,
   "id": "f272f211",
   "metadata": {
    "ExecuteTime": {
     "end_time": "2025-07-02T16:18:31.015253Z",
     "start_time": "2025-07-02T16:18:31.014019Z"
    }
   },
   "outputs": [],
   "source": [
    "# input_fn"
   ]
  },
  {
   "cell_type": "code",
   "execution_count": 13,
   "id": "2953d393",
   "metadata": {
    "ExecuteTime": {
     "end_time": "2025-07-02T16:18:31.017115Z",
     "start_time": "2025-07-02T16:18:31.015841Z"
    }
   },
   "outputs": [],
   "source": [
    "# !atom '/Users/timothytyree/Documents/GitHub/bgmc/python/data/osg_output/run_45/job.out.17477944.1912'"
   ]
  },
  {
   "cell_type": "code",
   "execution_count": 14,
   "id": "2bbe8864",
   "metadata": {
    "ExecuteTime": {
     "end_time": "2025-07-02T16:18:31.018803Z",
     "start_time": "2025-07-02T16:18:31.017647Z"
    }
   },
   "outputs": [],
   "source": [
    "# dict_data = parse_log_single(input_fn,printing=True)\n",
    "# dict_data"
   ]
  },
  {
   "cell_type": "code",
   "execution_count": 15,
   "id": "15c22627",
   "metadata": {
    "ExecuteTime": {
     "end_time": "2025-07-02T16:18:31.295093Z",
     "start_time": "2025-07-02T16:18:31.019616Z"
    }
   },
   "outputs": [
    {
     "name": "stdout",
     "output_type": "stream",
     "text": [
      "LPM with Same Creation (Run #46):\n",
      "- D=0.115, L=3.75: mean tau: 2.5173 +/- 0.1073 seconds (N=2000, p_normal=0.5600)\n",
      "- D=0.115, L=4.5: mean tau: 14.5283 +/- 7.3355 seconds (N=2000, p_normal=0.0000)\n",
      "- D=0.115, L=4.75: mean tau: 29.2283 +/- 11.8199 seconds (N=2000, p_normal=0.0000)\n",
      "- D=0.115, L=5.0: mean tau: 53.8336 +/- 17.2470 seconds (N=2000, p_normal=0.0000)\n",
      "- D=0.115, L=5.25: mean tau: 70.9511 +/- 15.6924 seconds (N=2000, p_normal=0.0552)\n",
      "- D=0.115, L=5.625: mean tau: 166.4115 +/- 27.6704 seconds (N=2000, p_normal=0.0342)\n",
      "- D=0.115, L=6.25: mean tau: 624.0579 +/- 49.0198 seconds (N=2000, p_normal=0.4734)\n",
      "- D=0.115, L=7.075: mean tau: 2603.9936 +/- 96.3658 seconds (N=2000, p_normal=0.9836)\n",
      "- D=0.115, L=8.75: mean tau: 5656.2152 +/- 49.9363 seconds (N=1996, p_normal=0.1367)\n",
      "- D=0.42, L=5.0: mean tau: 1.6145 +/- 2.1266 seconds (N=2000, p_normal=0.0000)\n",
      "- D=0.42, L=6.25: mean tau: 2.0326 +/- 0.8127 seconds (N=2000, p_normal=0.0000)\n",
      "- D=0.42, L=7.5: mean tau: 15.9232 +/- 7.1594 seconds (N=2000, p_normal=0.0000)\n",
      "- D=0.42, L=8.75: mean tau: 36.2174 +/- 7.2507 seconds (N=2000, p_normal=0.0000)\n",
      "- D=0.42, L=10.0: mean tau: 171.8601 +/- 18.8753 seconds (N=2000, p_normal=0.0761)\n"
     ]
    }
   ],
   "source": [
    "np.random.seed(42)\n",
    "printing=True\n",
    "if printing:\n",
    "    print(f\"LPM with Same Creation (Run #46):\")\n",
    "dict_lst = []\n",
    "for (D,L),g in df.groupby(by=['D','L']):\n",
    "    tau_values = g['TermTime'].values\n",
    "    meanx,Delta_meanx,num_obs,p_normal=comp_mean_bootstrap_uncertainty(tau_values)\n",
    "    printing=True\n",
    "    a=g['varkappa'].max()\n",
    "    chi=g['chi'].max()\n",
    "    if printing:\n",
    "        print(f\"- {D=}, {L=}: mean tau: {meanx:.4f} +/- {Delta_meanx:.4f} seconds (N={num_obs}, {p_normal=:.4f})\")\n",
    "    dict_lst.append(dict(D=D,L=L,a=a,chi=chi,\n",
    "                         tau=meanx,Delta_tau=Delta_meanx,\n",
    "                         num_obs=num_obs,p_normal=p_normal,\n",
    "                        ))"
   ]
  },
  {
   "cell_type": "code",
   "execution_count": 16,
   "id": "9468f123",
   "metadata": {
    "ExecuteTime": {
     "end_time": "2025-07-02T16:18:31.306514Z",
     "start_time": "2025-07-02T16:18:31.295866Z"
    }
   },
   "outputs": [
    {
     "data": {
      "text/html": [
       "<div>\n",
       "<style scoped>\n",
       "    .dataframe tbody tr th:only-of-type {\n",
       "        vertical-align: middle;\n",
       "    }\n",
       "\n",
       "    .dataframe tbody tr th {\n",
       "        vertical-align: top;\n",
       "    }\n",
       "\n",
       "    .dataframe thead th {\n",
       "        text-align: right;\n",
       "    }\n",
       "</style>\n",
       "<table border=\"1\" class=\"dataframe\">\n",
       "  <thead>\n",
       "    <tr style=\"text-align: right;\">\n",
       "      <th></th>\n",
       "      <th>D</th>\n",
       "      <th>L</th>\n",
       "      <th>a</th>\n",
       "      <th>chi</th>\n",
       "      <th>tau</th>\n",
       "      <th>Delta_tau</th>\n",
       "      <th>num_obs</th>\n",
       "      <th>p_normal</th>\n",
       "    </tr>\n",
       "  </thead>\n",
       "  <tbody>\n",
       "    <tr>\n",
       "      <th>0</th>\n",
       "      <td>0.115</td>\n",
       "      <td>3.750</td>\n",
       "      <td>1.552</td>\n",
       "      <td>2.939433</td>\n",
       "      <td>2.517330</td>\n",
       "      <td>0.107323</td>\n",
       "      <td>2000</td>\n",
       "      <td>5.600150e-01</td>\n",
       "    </tr>\n",
       "    <tr>\n",
       "      <th>1</th>\n",
       "      <td>0.115</td>\n",
       "      <td>4.500</td>\n",
       "      <td>1.552</td>\n",
       "      <td>2.939433</td>\n",
       "      <td>14.528281</td>\n",
       "      <td>7.335516</td>\n",
       "      <td>2000</td>\n",
       "      <td>3.267337e-18</td>\n",
       "    </tr>\n",
       "    <tr>\n",
       "      <th>2</th>\n",
       "      <td>0.115</td>\n",
       "      <td>4.750</td>\n",
       "      <td>1.552</td>\n",
       "      <td>2.939433</td>\n",
       "      <td>29.228292</td>\n",
       "      <td>11.819934</td>\n",
       "      <td>2000</td>\n",
       "      <td>3.426592e-10</td>\n",
       "    </tr>\n",
       "    <tr>\n",
       "      <th>3</th>\n",
       "      <td>0.115</td>\n",
       "      <td>5.000</td>\n",
       "      <td>1.552</td>\n",
       "      <td>2.939433</td>\n",
       "      <td>53.833603</td>\n",
       "      <td>17.246971</td>\n",
       "      <td>2000</td>\n",
       "      <td>8.574206e-08</td>\n",
       "    </tr>\n",
       "    <tr>\n",
       "      <th>4</th>\n",
       "      <td>0.115</td>\n",
       "      <td>5.250</td>\n",
       "      <td>1.552</td>\n",
       "      <td>2.939433</td>\n",
       "      <td>70.951114</td>\n",
       "      <td>15.692392</td>\n",
       "      <td>2000</td>\n",
       "      <td>5.523454e-02</td>\n",
       "    </tr>\n",
       "    <tr>\n",
       "      <th>5</th>\n",
       "      <td>0.115</td>\n",
       "      <td>5.625</td>\n",
       "      <td>1.552</td>\n",
       "      <td>2.939433</td>\n",
       "      <td>166.411489</td>\n",
       "      <td>27.670420</td>\n",
       "      <td>2000</td>\n",
       "      <td>3.418187e-02</td>\n",
       "    </tr>\n",
       "    <tr>\n",
       "      <th>6</th>\n",
       "      <td>0.115</td>\n",
       "      <td>6.250</td>\n",
       "      <td>1.552</td>\n",
       "      <td>2.939433</td>\n",
       "      <td>624.057903</td>\n",
       "      <td>49.019808</td>\n",
       "      <td>2000</td>\n",
       "      <td>4.734398e-01</td>\n",
       "    </tr>\n",
       "    <tr>\n",
       "      <th>7</th>\n",
       "      <td>0.115</td>\n",
       "      <td>7.075</td>\n",
       "      <td>1.552</td>\n",
       "      <td>2.939433</td>\n",
       "      <td>2603.993633</td>\n",
       "      <td>96.365823</td>\n",
       "      <td>2000</td>\n",
       "      <td>9.836285e-01</td>\n",
       "    </tr>\n",
       "    <tr>\n",
       "      <th>8</th>\n",
       "      <td>0.115</td>\n",
       "      <td>8.750</td>\n",
       "      <td>1.552</td>\n",
       "      <td>2.939433</td>\n",
       "      <td>5656.215250</td>\n",
       "      <td>49.936347</td>\n",
       "      <td>1996</td>\n",
       "      <td>1.367344e-01</td>\n",
       "    </tr>\n",
       "    <tr>\n",
       "      <th>9</th>\n",
       "      <td>0.420</td>\n",
       "      <td>5.000</td>\n",
       "      <td>9.300</td>\n",
       "      <td>2.075269</td>\n",
       "      <td>1.614531</td>\n",
       "      <td>2.126633</td>\n",
       "      <td>2000</td>\n",
       "      <td>3.545739e-33</td>\n",
       "    </tr>\n",
       "    <tr>\n",
       "      <th>10</th>\n",
       "      <td>0.420</td>\n",
       "      <td>6.250</td>\n",
       "      <td>9.300</td>\n",
       "      <td>2.075269</td>\n",
       "      <td>2.032568</td>\n",
       "      <td>0.812692</td>\n",
       "      <td>2000</td>\n",
       "      <td>1.648955e-35</td>\n",
       "    </tr>\n",
       "    <tr>\n",
       "      <th>11</th>\n",
       "      <td>0.420</td>\n",
       "      <td>7.500</td>\n",
       "      <td>9.300</td>\n",
       "      <td>2.075269</td>\n",
       "      <td>15.923189</td>\n",
       "      <td>7.159446</td>\n",
       "      <td>2000</td>\n",
       "      <td>6.453283e-06</td>\n",
       "    </tr>\n",
       "    <tr>\n",
       "      <th>12</th>\n",
       "      <td>0.420</td>\n",
       "      <td>8.750</td>\n",
       "      <td>9.300</td>\n",
       "      <td>2.075269</td>\n",
       "      <td>36.217423</td>\n",
       "      <td>7.250718</td>\n",
       "      <td>2000</td>\n",
       "      <td>4.846479e-07</td>\n",
       "    </tr>\n",
       "    <tr>\n",
       "      <th>13</th>\n",
       "      <td>0.420</td>\n",
       "      <td>10.000</td>\n",
       "      <td>9.300</td>\n",
       "      <td>2.075269</td>\n",
       "      <td>171.860132</td>\n",
       "      <td>18.875349</td>\n",
       "      <td>2000</td>\n",
       "      <td>7.611724e-02</td>\n",
       "    </tr>\n",
       "  </tbody>\n",
       "</table>\n",
       "</div>"
      ],
      "text/plain": [
       "        D       L      a       chi          tau  Delta_tau  num_obs  \\\n",
       "0   0.115   3.750  1.552  2.939433     2.517330   0.107323     2000   \n",
       "1   0.115   4.500  1.552  2.939433    14.528281   7.335516     2000   \n",
       "2   0.115   4.750  1.552  2.939433    29.228292  11.819934     2000   \n",
       "3   0.115   5.000  1.552  2.939433    53.833603  17.246971     2000   \n",
       "4   0.115   5.250  1.552  2.939433    70.951114  15.692392     2000   \n",
       "5   0.115   5.625  1.552  2.939433   166.411489  27.670420     2000   \n",
       "6   0.115   6.250  1.552  2.939433   624.057903  49.019808     2000   \n",
       "7   0.115   7.075  1.552  2.939433  2603.993633  96.365823     2000   \n",
       "8   0.115   8.750  1.552  2.939433  5656.215250  49.936347     1996   \n",
       "9   0.420   5.000  9.300  2.075269     1.614531   2.126633     2000   \n",
       "10  0.420   6.250  9.300  2.075269     2.032568   0.812692     2000   \n",
       "11  0.420   7.500  9.300  2.075269    15.923189   7.159446     2000   \n",
       "12  0.420   8.750  9.300  2.075269    36.217423   7.250718     2000   \n",
       "13  0.420  10.000  9.300  2.075269   171.860132  18.875349     2000   \n",
       "\n",
       "        p_normal  \n",
       "0   5.600150e-01  \n",
       "1   3.267337e-18  \n",
       "2   3.426592e-10  \n",
       "3   8.574206e-08  \n",
       "4   5.523454e-02  \n",
       "5   3.418187e-02  \n",
       "6   4.734398e-01  \n",
       "7   9.836285e-01  \n",
       "8   1.367344e-01  \n",
       "9   3.545739e-33  \n",
       "10  1.648955e-35  \n",
       "11  6.453283e-06  \n",
       "12  4.846479e-07  \n",
       "13  7.611724e-02  "
      ]
     },
     "execution_count": 16,
     "metadata": {},
     "output_type": "execute_result"
    }
   ],
   "source": [
    "df_out = pd.DataFrame(dict_lst)\n",
    "df_out"
   ]
  },
  {
   "cell_type": "code",
   "execution_count": 17,
   "id": "fa0db608",
   "metadata": {
    "ExecuteTime": {
     "end_time": "2025-07-02T16:18:31.309141Z",
     "start_time": "2025-07-02T16:18:31.307276Z"
    }
   },
   "outputs": [],
   "source": [
    "# savedir = f\"{nb_dir}/data/osg_output/run_46_tau_vs_L.csv\"\n",
    "# savedir = f\"{nb_dir}/data/osg_output/run_47_tau_vs_L.csv\"\n",
    "savedir = f\"{nb_dir}/data/osg_output/run_{run_num}_tau_vs_L.csv\""
   ]
  },
  {
   "cell_type": "code",
   "execution_count": 18,
   "id": "79bfde7a",
   "metadata": {
    "ExecuteTime": {
     "end_time": "2025-07-02T16:18:31.318477Z",
     "start_time": "2025-07-02T16:18:31.309982Z"
    }
   },
   "outputs": [
    {
     "name": "stdout",
     "output_type": "stream",
     "text": [
      "/Users/timothytyree/Documents/GitHub/bgmc/python/data/osg_output/run_48_tau_vs_L.csv\n"
     ]
    }
   ],
   "source": [
    "df_out.to_csv(savedir,index=False)\n",
    "print(savedir)"
   ]
  },
  {
   "cell_type": "code",
   "execution_count": 19,
   "id": "090147da",
   "metadata": {
    "ExecuteTime": {
     "end_time": "2025-07-02T16:18:32.060160Z",
     "start_time": "2025-07-02T16:18:31.319702Z"
    }
   },
   "outputs": [
    {
     "name": "stdout",
     "output_type": "stream",
     "text": [
      "-n \u0007\n",
      "-n \u0007\n",
      "-n \u0007\n"
     ]
    },
    {
     "data": {
      "text/plain": [
       "0"
      ]
     },
     "execution_count": 19,
     "metadata": {},
     "output_type": "execute_result"
    }
   ],
   "source": [
    "beep(3)"
   ]
  },
  {
   "cell_type": "code",
   "execution_count": null,
   "id": "82dc818e",
   "metadata": {},
   "outputs": [],
   "source": []
  }
 ],
 "metadata": {
  "kernelspec": {
   "display_name": "Python 3 (ipykernel)",
   "language": "python",
   "name": "python3"
  },
  "language_info": {
   "codemirror_mode": {
    "name": "ipython",
    "version": 3
   },
   "file_extension": ".py",
   "mimetype": "text/x-python",
   "name": "python",
   "nbconvert_exporter": "python",
   "pygments_lexer": "ipython3",
   "version": "3.9.5"
  },
  "toc": {
   "base_numbering": 1,
   "nav_menu": {},
   "number_sections": true,
   "sideBar": true,
   "skip_h1_title": false,
   "title_cell": "Table of Contents",
   "title_sidebar": "Contents",
   "toc_cell": false,
   "toc_position": {},
   "toc_section_display": true,
   "toc_window_display": false
  }
 },
 "nbformat": 4,
 "nbformat_minor": 5
}
