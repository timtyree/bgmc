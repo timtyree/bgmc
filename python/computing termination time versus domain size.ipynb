{
 "cells": [
  {
   "cell_type": "markdown",
   "id": "68b476bf",
   "metadata": {},
   "source": [
    "# visualizing termination time versus domain size\n",
    "Tim Tyree<br>\n",
    "6.11.2025"
   ]
  },
  {
   "cell_type": "code",
   "execution_count": 1,
   "id": "22dd2a6f",
   "metadata": {
    "ExecuteTime": {
     "end_time": "2025-06-25T21:28:33.966595Z",
     "start_time": "2025-06-25T21:28:32.609610Z"
    }
   },
   "outputs": [],
   "source": [
    "import os,sys,pandas as pd,numpy as np"
   ]
  },
  {
   "cell_type": "code",
   "execution_count": 2,
   "id": "c1bbc346",
   "metadata": {
    "ExecuteTime": {
     "end_time": "2025-06-25T21:28:35.700403Z",
     "start_time": "2025-06-25T21:28:33.967307Z"
    }
   },
   "outputs": [],
   "source": [
    "from lib import *"
   ]
  },
  {
   "cell_type": "markdown",
   "id": "f81bb044",
   "metadata": {},
   "source": [
    "# define module"
   ]
  },
  {
   "cell_type": "code",
   "execution_count": 3,
   "id": "ce3f5274",
   "metadata": {
    "ExecuteTime": {
     "end_time": "2025-06-25T21:28:35.704612Z",
     "start_time": "2025-06-25T21:28:35.701987Z"
    }
   },
   "outputs": [],
   "source": [
    "# parse_iolines\n",
    "def parse_iolines_single(input_fn, printing=False):\n",
    "    n_input=-9999\n",
    "    n_output=-9999\n",
    "    with open(input_fn) as f:\n",
    "#         trgt1='Printing Inputs...\\n'\n",
    "#         trgt2='Printing Outputs...\\n'\n",
    "        trgt1='Printing Inputs:\\n'\n",
    "        trgt2='Printing Outputs:\\n'\n",
    "        for n,line in enumerate(f):\n",
    "            if trgt1 == line:\n",
    "                if printing:\n",
    "                    print(f'found inputs starting after line {n}')\n",
    "                n_input=n\n",
    "            if trgt2 == line:\n",
    "                if printing:\n",
    "                    print(f'found outputs starting after line {n}')\n",
    "                n_output=n\n",
    "    return n_input,n_output"
   ]
  },
  {
   "cell_type": "code",
   "execution_count": 4,
   "id": "320d2630",
   "metadata": {
    "ExecuteTime": {
     "end_time": "2025-06-25T21:28:35.707776Z",
     "start_time": "2025-06-25T21:28:35.705307Z"
    }
   },
   "outputs": [],
   "source": [
    "def parse_outputs_single_trial(input_fn, n_output):\n",
    "    \"\"\"\n",
    "    Example Usage:\n",
    "TermTime = parse_outputs_single_trial(input_fn, n_output)\n",
    "    \"\"\"\n",
    "    with open(input_fn) as f:\n",
    "        for n,line in enumerate(f):\n",
    "            if n == n_output+1:\n",
    "                lin0 =line\n",
    "                TermTime = eval(lin0[:-2].split('=')[-1])\n",
    "                return TermTime\n",
    "#         if n == n_output+1:\n",
    "#             line_N = line\n",
    "#         if n == n_output+2:\n",
    "#             line_CollTime =line\n",
    "# N_values=np.array([eval(s) for s in line_N[:-2].split(',')])\n",
    "# CollTime_values=np.array([eval(s) for s in line_CollTime[:-2].split(',')])\n",
    "# # CollTime_values=np.array([eval(s) for s in line_CollTime[:-1].split(',')])\n",
    "# df=pd.DataFrame({\n",
    "#     'N':N_values,\n",
    "#     'CollTime':CollTime_values\n",
    "# })\n",
    "# df=df.loc[df.CollTime!=-9999]\n",
    "# df.reset_index(inplace=True,drop=True)\n",
    "## return df"
   ]
  },
  {
   "cell_type": "code",
   "execution_count": 5,
   "id": "7dd3b9b4",
   "metadata": {
    "ExecuteTime": {
     "end_time": "2025-06-25T21:28:35.710707Z",
     "start_time": "2025-06-25T21:28:35.708447Z"
    }
   },
   "outputs": [],
   "source": [
    "# parse_outputs(input_fn, n_output=)\n",
    "def parse_log_single(input_fn,printing=False):\n",
    "    \"\"\"\n",
    "    Example Usage:\n",
    "dict_data = parse_log_single(input_fn,printing=False)\n",
    "    \"\"\"\n",
    "    n_input,n_output=parse_iolines_single(input_fn, printing=False)\n",
    "    if n_input==-9999:\n",
    "        if printing:\n",
    "            print(f\"Warning: n_input not found for input_fn={input_fn}.\\nreturning None...\")\n",
    "        return None\n",
    "    col_name_lst, col_value_lst=parse_inputs(input_fn,n_input,n_output,printing=printing)\n",
    "    dict_inputs=dict(zip(col_name_lst,col_value_lst))\n",
    "    TermTime = parse_outputs_single_trial(input_fn, n_output)\n",
    "    dict_data = dict(dict_inputs)\n",
    "    dict_data['TermTime'] = TermTime\n",
    "    return dict_data"
   ]
  },
  {
   "cell_type": "code",
   "execution_count": null,
   "id": "467eb491",
   "metadata": {},
   "outputs": [],
   "source": []
  },
  {
   "cell_type": "markdown",
   "id": "627507a7",
   "metadata": {},
   "source": [
    "# dev"
   ]
  },
  {
   "cell_type": "code",
   "execution_count": 6,
   "id": "0b20bbcf",
   "metadata": {
    "ExecuteTime": {
     "end_time": "2025-06-25T21:28:35.712687Z",
     "start_time": "2025-06-25T21:28:35.711313Z"
    }
   },
   "outputs": [],
   "source": [
    "run_num = 48\n",
    "# fldr = f\"{nb_dir}/data/osg_output/run_44\"\n",
    "# fldr = f\"{nb_dir}/data/osg_output/run_45\"\n",
    "# fldr = f\"{nb_dir}/data/osg_output/run_46\"\n",
    "# fldr = f\"{nb_dir}/data/osg_output/run_47\"\n",
    "fldr = f\"{nb_dir}/data/osg_output/run_{run_num}\""
   ]
  },
  {
   "cell_type": "code",
   "execution_count": 7,
   "id": "bb318093",
   "metadata": {
    "ExecuteTime": {
     "end_time": "2025-06-25T21:28:35.714914Z",
     "start_time": "2025-06-25T21:28:35.713405Z"
    }
   },
   "outputs": [],
   "source": [
    "assert os.path.exists(fldr)"
   ]
  },
  {
   "cell_type": "code",
   "execution_count": 8,
   "id": "2ee58015",
   "metadata": {
    "ExecuteTime": {
     "end_time": "2025-06-25T21:28:42.976455Z",
     "start_time": "2025-06-25T21:28:35.715754Z"
    }
   },
   "outputs": [],
   "source": [
    "dict_data_lst = []\n",
    "for fn in os.listdir(fldr):\n",
    "    if fn.find('.out.')!=-1:\n",
    "        input_fn = os.path.join(fldr,fn)\n",
    "        dict_data = parse_log_single(input_fn,printing=False)\n",
    "        if dict_data is not None:\n",
    "            #record\n",
    "            dict_data_lst.append(dict_data)\n",
    "df=pd.DataFrame(dict_data_lst); del dict_data_lst"
   ]
  },
  {
   "cell_type": "code",
   "execution_count": 9,
   "id": "8ca85f76",
   "metadata": {
    "ExecuteTime": {
     "end_time": "2025-06-25T21:28:42.980029Z",
     "start_time": "2025-06-25T21:28:42.978716Z"
    }
   },
   "outputs": [],
   "source": [
    "# np.array([x for x in dict_data_lst if x is None])"
   ]
  },
  {
   "cell_type": "code",
   "execution_count": 10,
   "id": "d8081223",
   "metadata": {
    "ExecuteTime": {
     "end_time": "2025-06-25T21:28:42.982667Z",
     "start_time": "2025-06-25T21:28:42.980704Z"
    }
   },
   "outputs": [],
   "source": [
    "# pd.DataFrame(dict_data_lst)"
   ]
  },
  {
   "cell_type": "code",
   "execution_count": 11,
   "id": "36bb34d6",
   "metadata": {
    "ExecuteTime": {
     "end_time": "2025-06-25T21:28:42.984534Z",
     "start_time": "2025-06-25T21:28:42.983268Z"
    }
   },
   "outputs": [],
   "source": [
    "# len(dict_data_lst)"
   ]
  },
  {
   "cell_type": "code",
   "execution_count": 12,
   "id": "f272f211",
   "metadata": {
    "ExecuteTime": {
     "end_time": "2025-06-25T21:28:42.986401Z",
     "start_time": "2025-06-25T21:28:42.985162Z"
    }
   },
   "outputs": [],
   "source": [
    "# input_fn"
   ]
  },
  {
   "cell_type": "code",
   "execution_count": 13,
   "id": "2953d393",
   "metadata": {
    "ExecuteTime": {
     "end_time": "2025-06-25T21:28:42.988274Z",
     "start_time": "2025-06-25T21:28:42.986992Z"
    }
   },
   "outputs": [],
   "source": [
    "# !atom '/Users/timothytyree/Documents/GitHub/bgmc/python/data/osg_output/run_45/job.out.17477944.1912'"
   ]
  },
  {
   "cell_type": "code",
   "execution_count": 14,
   "id": "2bbe8864",
   "metadata": {
    "ExecuteTime": {
     "end_time": "2025-06-25T21:28:42.990128Z",
     "start_time": "2025-06-25T21:28:42.988931Z"
    }
   },
   "outputs": [],
   "source": [
    "# dict_data = parse_log_single(input_fn,printing=True)\n",
    "# dict_data"
   ]
  },
  {
   "cell_type": "code",
   "execution_count": 15,
   "id": "15c22627",
   "metadata": {
    "ExecuteTime": {
     "end_time": "2025-06-25T21:28:43.357036Z",
     "start_time": "2025-06-25T21:28:42.990663Z"
    }
   },
   "outputs": [
    {
     "name": "stdout",
     "output_type": "stream",
     "text": [
      "LPM with Same Creation (Run #46):\n",
      "- D=0.048, L=3.75: mean tau: 2.4685 +/- 0.1061 seconds (N=2000, p_normal=0.7075)\n",
      "- D=0.048, L=4.5: mean tau: 17.8213 +/- 8.9452 seconds (N=2000, p_normal=0.0000)\n",
      "- D=0.048, L=4.75: mean tau: 20.8552 +/- 7.8220 seconds (N=2000, p_normal=0.0000)\n",
      "- D=0.048, L=5.0: mean tau: 44.0309 +/- 14.5943 seconds (N=2000, p_normal=0.0000)\n",
      "- D=0.048, L=5.25: mean tau: 68.1883 +/- 15.8884 seconds (N=2000, p_normal=0.0000)\n",
      "- D=0.048, L=5.625: mean tau: 174.4341 +/- 26.1402 seconds (N=2000, p_normal=0.0002)\n",
      "- D=0.048, L=6.25: mean tau: 622.5637 +/- 46.9114 seconds (N=2000, p_normal=0.0026)\n",
      "- D=0.048, L=7.075: mean tau: 2771.8389 +/- 95.9004 seconds (N=2000, p_normal=0.1372)\n",
      "- D=0.048, L=8.75: mean tau: 5532.8212 +/- 57.0494 seconds (N=2000, p_normal=0.1833)\n",
      "- D=0.42, L=5.0: mean tau: 1.6145 +/- 2.0866 seconds (N=2000, p_normal=0.0000)\n",
      "- D=0.42, L=6.25: mean tau: 2.0326 +/- 0.7849 seconds (N=2000, p_normal=0.0000)\n",
      "- D=0.42, L=7.5: mean tau: 15.9232 +/- 7.0602 seconds (N=2000, p_normal=0.0000)\n",
      "- D=0.42, L=8.75: mean tau: 36.2174 +/- 7.2865 seconds (N=2000, p_normal=0.0000)\n",
      "- D=0.42, L=10.0: mean tau: 171.8601 +/- 19.3499 seconds (N=2000, p_normal=0.0113)\n"
     ]
    }
   ],
   "source": [
    "np.random.seed(42)\n",
    "printing=True\n",
    "if printing:\n",
    "    print(f\"LPM with Same Creation (Run #46):\")\n",
    "dict_lst = []\n",
    "for (D,L),g in df.groupby(by=['D','L']):\n",
    "    tau_values = g['TermTime'].values\n",
    "    meanx,Delta_meanx,num_obs,p_normal=comp_mean_bootstrap_uncertainty(tau_values)\n",
    "    printing=True\n",
    "    a=g['varkappa'].max()\n",
    "    chi=g['chi'].max()\n",
    "    if printing:\n",
    "        print(f\"- {D=}, {L=}: mean tau: {meanx:.4f} +/- {Delta_meanx:.4f} seconds (N={num_obs}, {p_normal=:.4f})\")\n",
    "    dict_lst.append(dict(D=D,L=L,a=a,chi=chi,\n",
    "                         tau=meanx,Delta_tau=Delta_meanx,\n",
    "                         num_obs=num_obs,p_normal=p_normal,\n",
    "                        ))"
   ]
  },
  {
   "cell_type": "code",
   "execution_count": 16,
   "id": "9468f123",
   "metadata": {
    "ExecuteTime": {
     "end_time": "2025-06-25T21:28:43.369291Z",
     "start_time": "2025-06-25T21:28:43.357900Z"
    }
   },
   "outputs": [
    {
     "data": {
      "text/html": [
       "<div>\n",
       "<style scoped>\n",
       "    .dataframe tbody tr th:only-of-type {\n",
       "        vertical-align: middle;\n",
       "    }\n",
       "\n",
       "    .dataframe tbody tr th {\n",
       "        vertical-align: top;\n",
       "    }\n",
       "\n",
       "    .dataframe thead th {\n",
       "        text-align: right;\n",
       "    }\n",
       "</style>\n",
       "<table border=\"1\" class=\"dataframe\">\n",
       "  <thead>\n",
       "    <tr style=\"text-align: right;\">\n",
       "      <th></th>\n",
       "      <th>D</th>\n",
       "      <th>L</th>\n",
       "      <th>a</th>\n",
       "      <th>chi</th>\n",
       "      <th>tau</th>\n",
       "      <th>Delta_tau</th>\n",
       "      <th>num_obs</th>\n",
       "      <th>p_normal</th>\n",
       "    </tr>\n",
       "  </thead>\n",
       "  <tbody>\n",
       "    <tr>\n",
       "      <th>0</th>\n",
       "      <td>0.048</td>\n",
       "      <td>3.750</td>\n",
       "      <td>1.552</td>\n",
       "      <td>2.939433</td>\n",
       "      <td>2.468460</td>\n",
       "      <td>0.106054</td>\n",
       "      <td>2000</td>\n",
       "      <td>7.074529e-01</td>\n",
       "    </tr>\n",
       "    <tr>\n",
       "      <th>1</th>\n",
       "      <td>0.048</td>\n",
       "      <td>4.500</td>\n",
       "      <td>1.552</td>\n",
       "      <td>2.939433</td>\n",
       "      <td>17.821323</td>\n",
       "      <td>8.945163</td>\n",
       "      <td>2000</td>\n",
       "      <td>7.875762e-09</td>\n",
       "    </tr>\n",
       "    <tr>\n",
       "      <th>2</th>\n",
       "      <td>0.048</td>\n",
       "      <td>4.750</td>\n",
       "      <td>1.552</td>\n",
       "      <td>2.939433</td>\n",
       "      <td>20.855177</td>\n",
       "      <td>7.822002</td>\n",
       "      <td>2000</td>\n",
       "      <td>5.909675e-20</td>\n",
       "    </tr>\n",
       "    <tr>\n",
       "      <th>3</th>\n",
       "      <td>0.048</td>\n",
       "      <td>5.000</td>\n",
       "      <td>1.552</td>\n",
       "      <td>2.939433</td>\n",
       "      <td>44.030900</td>\n",
       "      <td>14.594332</td>\n",
       "      <td>2000</td>\n",
       "      <td>1.045699e-20</td>\n",
       "    </tr>\n",
       "    <tr>\n",
       "      <th>4</th>\n",
       "      <td>0.048</td>\n",
       "      <td>5.250</td>\n",
       "      <td>1.552</td>\n",
       "      <td>2.939433</td>\n",
       "      <td>68.188257</td>\n",
       "      <td>15.888418</td>\n",
       "      <td>2000</td>\n",
       "      <td>1.048170e-05</td>\n",
       "    </tr>\n",
       "    <tr>\n",
       "      <th>5</th>\n",
       "      <td>0.048</td>\n",
       "      <td>5.625</td>\n",
       "      <td>1.552</td>\n",
       "      <td>2.939433</td>\n",
       "      <td>174.434131</td>\n",
       "      <td>26.140227</td>\n",
       "      <td>2000</td>\n",
       "      <td>1.807385e-04</td>\n",
       "    </tr>\n",
       "    <tr>\n",
       "      <th>6</th>\n",
       "      <td>0.048</td>\n",
       "      <td>6.250</td>\n",
       "      <td>1.552</td>\n",
       "      <td>2.939433</td>\n",
       "      <td>622.563696</td>\n",
       "      <td>46.911436</td>\n",
       "      <td>2000</td>\n",
       "      <td>2.633884e-03</td>\n",
       "    </tr>\n",
       "    <tr>\n",
       "      <th>7</th>\n",
       "      <td>0.048</td>\n",
       "      <td>7.075</td>\n",
       "      <td>1.552</td>\n",
       "      <td>2.939433</td>\n",
       "      <td>2771.838900</td>\n",
       "      <td>95.900427</td>\n",
       "      <td>2000</td>\n",
       "      <td>1.371983e-01</td>\n",
       "    </tr>\n",
       "    <tr>\n",
       "      <th>8</th>\n",
       "      <td>0.048</td>\n",
       "      <td>8.750</td>\n",
       "      <td>1.552</td>\n",
       "      <td>2.939433</td>\n",
       "      <td>5532.821227</td>\n",
       "      <td>57.049441</td>\n",
       "      <td>2000</td>\n",
       "      <td>1.832543e-01</td>\n",
       "    </tr>\n",
       "    <tr>\n",
       "      <th>9</th>\n",
       "      <td>0.420</td>\n",
       "      <td>5.000</td>\n",
       "      <td>9.300</td>\n",
       "      <td>2.075269</td>\n",
       "      <td>1.614531</td>\n",
       "      <td>2.086622</td>\n",
       "      <td>2000</td>\n",
       "      <td>1.220362e-24</td>\n",
       "    </tr>\n",
       "    <tr>\n",
       "      <th>10</th>\n",
       "      <td>0.420</td>\n",
       "      <td>6.250</td>\n",
       "      <td>9.300</td>\n",
       "      <td>2.075269</td>\n",
       "      <td>2.032568</td>\n",
       "      <td>0.784942</td>\n",
       "      <td>2000</td>\n",
       "      <td>2.156680e-31</td>\n",
       "    </tr>\n",
       "    <tr>\n",
       "      <th>11</th>\n",
       "      <td>0.420</td>\n",
       "      <td>7.500</td>\n",
       "      <td>9.300</td>\n",
       "      <td>2.075269</td>\n",
       "      <td>15.923189</td>\n",
       "      <td>7.060218</td>\n",
       "      <td>2000</td>\n",
       "      <td>9.317567e-08</td>\n",
       "    </tr>\n",
       "    <tr>\n",
       "      <th>12</th>\n",
       "      <td>0.420</td>\n",
       "      <td>8.750</td>\n",
       "      <td>9.300</td>\n",
       "      <td>2.075269</td>\n",
       "      <td>36.217423</td>\n",
       "      <td>7.286515</td>\n",
       "      <td>2000</td>\n",
       "      <td>7.438220e-09</td>\n",
       "    </tr>\n",
       "    <tr>\n",
       "      <th>13</th>\n",
       "      <td>0.420</td>\n",
       "      <td>10.000</td>\n",
       "      <td>9.300</td>\n",
       "      <td>2.075269</td>\n",
       "      <td>171.860132</td>\n",
       "      <td>19.349926</td>\n",
       "      <td>2000</td>\n",
       "      <td>1.133059e-02</td>\n",
       "    </tr>\n",
       "  </tbody>\n",
       "</table>\n",
       "</div>"
      ],
      "text/plain": [
       "        D       L      a       chi          tau  Delta_tau  num_obs  \\\n",
       "0   0.048   3.750  1.552  2.939433     2.468460   0.106054     2000   \n",
       "1   0.048   4.500  1.552  2.939433    17.821323   8.945163     2000   \n",
       "2   0.048   4.750  1.552  2.939433    20.855177   7.822002     2000   \n",
       "3   0.048   5.000  1.552  2.939433    44.030900  14.594332     2000   \n",
       "4   0.048   5.250  1.552  2.939433    68.188257  15.888418     2000   \n",
       "5   0.048   5.625  1.552  2.939433   174.434131  26.140227     2000   \n",
       "6   0.048   6.250  1.552  2.939433   622.563696  46.911436     2000   \n",
       "7   0.048   7.075  1.552  2.939433  2771.838900  95.900427     2000   \n",
       "8   0.048   8.750  1.552  2.939433  5532.821227  57.049441     2000   \n",
       "9   0.420   5.000  9.300  2.075269     1.614531   2.086622     2000   \n",
       "10  0.420   6.250  9.300  2.075269     2.032568   0.784942     2000   \n",
       "11  0.420   7.500  9.300  2.075269    15.923189   7.060218     2000   \n",
       "12  0.420   8.750  9.300  2.075269    36.217423   7.286515     2000   \n",
       "13  0.420  10.000  9.300  2.075269   171.860132  19.349926     2000   \n",
       "\n",
       "        p_normal  \n",
       "0   7.074529e-01  \n",
       "1   7.875762e-09  \n",
       "2   5.909675e-20  \n",
       "3   1.045699e-20  \n",
       "4   1.048170e-05  \n",
       "5   1.807385e-04  \n",
       "6   2.633884e-03  \n",
       "7   1.371983e-01  \n",
       "8   1.832543e-01  \n",
       "9   1.220362e-24  \n",
       "10  2.156680e-31  \n",
       "11  9.317567e-08  \n",
       "12  7.438220e-09  \n",
       "13  1.133059e-02  "
      ]
     },
     "execution_count": 16,
     "metadata": {},
     "output_type": "execute_result"
    }
   ],
   "source": [
    "df_out = pd.DataFrame(dict_lst)\n",
    "df_out"
   ]
  },
  {
   "cell_type": "code",
   "execution_count": 17,
   "id": "fa0db608",
   "metadata": {
    "ExecuteTime": {
     "end_time": "2025-06-25T21:28:43.371904Z",
     "start_time": "2025-06-25T21:28:43.370116Z"
    }
   },
   "outputs": [],
   "source": [
    "# savedir = f\"{nb_dir}/data/osg_output/run_46_tau_vs_L.csv\"\n",
    "# savedir = f\"{nb_dir}/data/osg_output/run_47_tau_vs_L.csv\"\n",
    "savedir = f\"{nb_dir}/data/osg_output/run_{run_num}_tau_vs_L.csv\""
   ]
  },
  {
   "cell_type": "code",
   "execution_count": 18,
   "id": "79bfde7a",
   "metadata": {
    "ExecuteTime": {
     "end_time": "2025-06-25T21:28:43.377235Z",
     "start_time": "2025-06-25T21:28:43.372587Z"
    }
   },
   "outputs": [
    {
     "name": "stdout",
     "output_type": "stream",
     "text": [
      "/Users/timothytyree/Documents/GitHub/bgmc/python/data/osg_output/run_48_tau_vs_L.csv\n"
     ]
    }
   ],
   "source": [
    "df_out.to_csv(savedir,index=False)\n",
    "print(savedir)"
   ]
  },
  {
   "cell_type": "code",
   "execution_count": 19,
   "id": "090147da",
   "metadata": {
    "ExecuteTime": {
     "end_time": "2025-06-25T21:28:44.119594Z",
     "start_time": "2025-06-25T21:28:43.377941Z"
    }
   },
   "outputs": [
    {
     "name": "stdout",
     "output_type": "stream",
     "text": [
      "-n \u0007\n",
      "-n \u0007\n",
      "-n \u0007\n"
     ]
    },
    {
     "data": {
      "text/plain": [
       "0"
      ]
     },
     "execution_count": 19,
     "metadata": {},
     "output_type": "execute_result"
    }
   ],
   "source": [
    "beep(3)"
   ]
  },
  {
   "cell_type": "code",
   "execution_count": null,
   "id": "82dc818e",
   "metadata": {},
   "outputs": [],
   "source": []
  }
 ],
 "metadata": {
  "kernelspec": {
   "display_name": "Python 3 (ipykernel)",
   "language": "python",
   "name": "python3"
  },
  "language_info": {
   "codemirror_mode": {
    "name": "ipython",
    "version": 3
   },
   "file_extension": ".py",
   "mimetype": "text/x-python",
   "name": "python",
   "nbconvert_exporter": "python",
   "pygments_lexer": "ipython3",
   "version": "3.9.5"
  },
  "toc": {
   "base_numbering": 1,
   "nav_menu": {},
   "number_sections": true,
   "sideBar": true,
   "skip_h1_title": false,
   "title_cell": "Table of Contents",
   "title_sidebar": "Contents",
   "toc_cell": false,
   "toc_position": {},
   "toc_section_display": true,
   "toc_window_display": false
  }
 },
 "nbformat": 4,
 "nbformat_minor": 5
}
