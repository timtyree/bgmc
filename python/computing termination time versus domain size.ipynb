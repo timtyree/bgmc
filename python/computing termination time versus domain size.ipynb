{
 "cells": [
  {
   "cell_type": "markdown",
   "id": "2adb8f3f",
   "metadata": {},
   "source": [
    "# visualizing termination time versus domain size\n",
    "Tim Tyree<br>\n",
    "6.11.2025"
   ]
  },
  {
   "cell_type": "code",
   "execution_count": 1,
   "id": "22dd2a6f",
   "metadata": {
    "ExecuteTime": {
     "end_time": "2025-06-11T20:53:10.251832Z",
     "start_time": "2025-06-11T20:53:08.898944Z"
    }
   },
   "outputs": [],
   "source": [
    "import os,sys,pandas as pd,numpy as np"
   ]
  },
  {
   "cell_type": "code",
   "execution_count": 2,
   "id": "c1bbc346",
   "metadata": {
    "ExecuteTime": {
     "end_time": "2025-06-11T20:53:12.018065Z",
     "start_time": "2025-06-11T20:53:10.252873Z"
    }
   },
   "outputs": [],
   "source": [
    "from lib import *"
   ]
  },
  {
   "cell_type": "markdown",
   "id": "f81bb044",
   "metadata": {},
   "source": [
    "# define module"
   ]
  },
  {
   "cell_type": "code",
   "execution_count": 3,
   "id": "ce3f5274",
   "metadata": {
    "ExecuteTime": {
     "end_time": "2025-06-11T20:53:12.022153Z",
     "start_time": "2025-06-11T20:53:12.019521Z"
    }
   },
   "outputs": [],
   "source": [
    "# parse_iolines\n",
    "def parse_iolines_single(input_fn, printing=False):\n",
    "    n_input=-9999\n",
    "    n_output=-9999\n",
    "    with open(input_fn) as f:\n",
    "#         trgt1='Printing Inputs...\\n'\n",
    "#         trgt2='Printing Outputs...\\n'\n",
    "        trgt1='Printing Inputs:\\n'\n",
    "        trgt2='Printing Outputs:\\n'\n",
    "        for n,line in enumerate(f):\n",
    "            if trgt1 == line:\n",
    "                if printing:\n",
    "                    print(f'found inputs starting after line {n}')\n",
    "                n_input=n\n",
    "            if trgt2 == line:\n",
    "                if printing:\n",
    "                    print(f'found outputs starting after line {n}')\n",
    "                n_output=n\n",
    "    return n_input,n_output"
   ]
  },
  {
   "cell_type": "code",
   "execution_count": 4,
   "id": "320d2630",
   "metadata": {
    "ExecuteTime": {
     "end_time": "2025-06-11T20:53:12.048209Z",
     "start_time": "2025-06-11T20:53:12.045619Z"
    }
   },
   "outputs": [],
   "source": [
    "def parse_outputs_single_trial(input_fn, n_output):\n",
    "    \"\"\"\n",
    "    Example Usage:\n",
    "TermTime = parse_outputs_single_trial(input_fn, n_output)\n",
    "    \"\"\"\n",
    "    with open(input_fn) as f:\n",
    "        for n,line in enumerate(f):\n",
    "            if n == n_output+1:\n",
    "                lin0 =line\n",
    "                TermTime = eval(lin0[:-2].split('=')[-1])\n",
    "                return TermTime\n",
    "#         if n == n_output+1:\n",
    "#             line_N = line\n",
    "#         if n == n_output+2:\n",
    "#             line_CollTime =line\n",
    "# N_values=np.array([eval(s) for s in line_N[:-2].split(',')])\n",
    "# CollTime_values=np.array([eval(s) for s in line_CollTime[:-2].split(',')])\n",
    "# # CollTime_values=np.array([eval(s) for s in line_CollTime[:-1].split(',')])\n",
    "# df=pd.DataFrame({\n",
    "#     'N':N_values,\n",
    "#     'CollTime':CollTime_values\n",
    "# })\n",
    "# df=df.loc[df.CollTime!=-9999]\n",
    "# df.reset_index(inplace=True,drop=True)\n",
    "## return df"
   ]
  },
  {
   "cell_type": "code",
   "execution_count": 5,
   "id": "7dd3b9b4",
   "metadata": {
    "ExecuteTime": {
     "end_time": "2025-06-11T20:53:12.497780Z",
     "start_time": "2025-06-11T20:53:12.495225Z"
    }
   },
   "outputs": [],
   "source": [
    "# parse_outputs(input_fn, n_output=)\n",
    "def parse_log_single(input_fn,printing=False):\n",
    "    \"\"\"\n",
    "    Example Usage:\n",
    "dict_data = parse_log_single(input_fn,printing=False)\n",
    "    \"\"\"\n",
    "    n_input,n_output=parse_iolines_single(input_fn, printing=False)\n",
    "    if n_input==-9999:\n",
    "        if printing:\n",
    "            print(f\"Warning: n_input not found for input_fn={input_fn}.\\nreturning None...\")\n",
    "        return None\n",
    "    col_name_lst, col_value_lst=parse_inputs(input_fn,n_input,n_output,printing=printing)\n",
    "    dict_inputs=dict(zip(col_name_lst,col_value_lst))\n",
    "    TermTime = parse_outputs_single_trial(input_fn, n_output)\n",
    "    dict_data = dict(dict_inputs)\n",
    "    dict_data['TermTime'] = TermTime\n",
    "    return dict_data"
   ]
  },
  {
   "cell_type": "code",
   "execution_count": null,
   "id": "467eb491",
   "metadata": {},
   "outputs": [],
   "source": []
  },
  {
   "cell_type": "markdown",
   "id": "627507a7",
   "metadata": {},
   "source": [
    "# dev"
   ]
  },
  {
   "cell_type": "code",
   "execution_count": 8,
   "id": "0b20bbcf",
   "metadata": {
    "ExecuteTime": {
     "end_time": "2025-06-11T20:55:04.170226Z",
     "start_time": "2025-06-11T20:55:04.168715Z"
    }
   },
   "outputs": [],
   "source": [
    "# fldr = f\"{nb_dir}/data/osg_output/run_44\"\n",
    "# fldr = f\"{nb_dir}/data/osg_output/run_45\"\n",
    "# fldr = f\"{nb_dir}/data/osg_output/run_46\"\n",
    "fldr = f\"{nb_dir}/data/osg_output/run_47\""
   ]
  },
  {
   "cell_type": "code",
   "execution_count": 9,
   "id": "bb318093",
   "metadata": {
    "ExecuteTime": {
     "end_time": "2025-06-11T20:55:04.398145Z",
     "start_time": "2025-06-11T20:55:04.396495Z"
    }
   },
   "outputs": [],
   "source": [
    "assert os.path.exists(fldr)"
   ]
  },
  {
   "cell_type": "code",
   "execution_count": 10,
   "id": "2ee58015",
   "metadata": {
    "ExecuteTime": {
     "end_time": "2025-06-11T20:55:12.326191Z",
     "start_time": "2025-06-11T20:55:07.316671Z"
    }
   },
   "outputs": [],
   "source": [
    "dict_data_lst = []\n",
    "for fn in os.listdir(fldr):\n",
    "    if fn.find('.out.')!=-1:\n",
    "        input_fn = os.path.join(fldr,fn)\n",
    "        dict_data = parse_log_single(input_fn,printing=False)\n",
    "        if dict_data is not None:\n",
    "            #record\n",
    "            dict_data_lst.append(dict_data)\n",
    "df=pd.DataFrame(dict_data_lst); del dict_data_lst"
   ]
  },
  {
   "cell_type": "code",
   "execution_count": 11,
   "id": "8ca85f76",
   "metadata": {
    "ExecuteTime": {
     "end_time": "2025-06-11T20:55:16.260019Z",
     "start_time": "2025-06-11T20:55:16.258561Z"
    }
   },
   "outputs": [],
   "source": [
    "# np.array([x for x in dict_data_lst if x is None])"
   ]
  },
  {
   "cell_type": "code",
   "execution_count": 12,
   "id": "d8081223",
   "metadata": {
    "ExecuteTime": {
     "end_time": "2025-06-11T20:55:16.848054Z",
     "start_time": "2025-06-11T20:55:16.846283Z"
    }
   },
   "outputs": [],
   "source": [
    "# pd.DataFrame(dict_data_lst)"
   ]
  },
  {
   "cell_type": "code",
   "execution_count": 13,
   "id": "36bb34d6",
   "metadata": {
    "ExecuteTime": {
     "end_time": "2025-06-11T20:55:17.430111Z",
     "start_time": "2025-06-11T20:55:17.428691Z"
    }
   },
   "outputs": [],
   "source": [
    "# len(dict_data_lst)"
   ]
  },
  {
   "cell_type": "code",
   "execution_count": 14,
   "id": "f272f211",
   "metadata": {
    "ExecuteTime": {
     "end_time": "2025-06-11T20:55:17.940813Z",
     "start_time": "2025-06-11T20:55:17.939247Z"
    }
   },
   "outputs": [],
   "source": [
    "# input_fn"
   ]
  },
  {
   "cell_type": "code",
   "execution_count": 15,
   "id": "2953d393",
   "metadata": {
    "ExecuteTime": {
     "end_time": "2025-06-11T20:55:18.420169Z",
     "start_time": "2025-06-11T20:55:18.418558Z"
    }
   },
   "outputs": [],
   "source": [
    "# !atom '/Users/timothytyree/Documents/GitHub/bgmc/python/data/osg_output/run_45/job.out.17477944.1912'"
   ]
  },
  {
   "cell_type": "code",
   "execution_count": 16,
   "id": "2bbe8864",
   "metadata": {
    "ExecuteTime": {
     "end_time": "2025-06-11T20:55:19.680339Z",
     "start_time": "2025-06-11T20:55:19.678851Z"
    }
   },
   "outputs": [],
   "source": [
    "# dict_data = parse_log_single(input_fn,printing=True)\n",
    "# dict_data"
   ]
  },
  {
   "cell_type": "code",
   "execution_count": 19,
   "id": "15c22627",
   "metadata": {
    "ExecuteTime": {
     "end_time": "2025-06-11T21:01:50.670233Z",
     "start_time": "2025-06-11T21:01:50.470917Z"
    }
   },
   "outputs": [
    {
     "name": "stdout",
     "output_type": "stream",
     "text": [
      "LPM with Same Creation (Run #46):\n",
      "- D=0.048, L=4.5: mean tau: 9.5304 +/- 0.4177 seconds (N=2000, p_normal=0.9731)\n",
      "- D=0.048, L=4.75: mean tau: 16.1093 +/- 0.6578 seconds (N=2000, p_normal=0.4783)\n",
      "- D=0.048, L=5.0: mean tau: 24.9064 +/- 0.8764 seconds (N=2000, p_normal=0.6576)\n",
      "- D=0.048, L=5.25: mean tau: 34.7140 +/- 0.9571 seconds (N=1999, p_normal=0.8888)\n",
      "- D=0.048, L=5.625: mean tau: 47.8364 +/- 0.8291 seconds (N=2000, p_normal=0.5737)\n",
      "- D=0.048, L=6.25: mean tau: 57.2602 +/- 0.4353 seconds (N=2000, p_normal=0.3579)\n",
      "- D=0.42, L=5.0: mean tau: 0.5670 +/- 0.0618 seconds (N=2000, p_normal=0.0000)\n",
      "- D=0.42, L=6.25: mean tau: 1.8240 +/- 0.1618 seconds (N=2000, p_normal=0.0052)\n",
      "- D=0.42, L=7.5: mean tau: 7.0232 +/- 0.3804 seconds (N=2000, p_normal=0.6428)\n",
      "- D=0.42, L=8.75: mean tau: 28.3362 +/- 0.9419 seconds (N=2000, p_normal=0.5027)\n"
     ]
    }
   ],
   "source": [
    "np.random.seed(42)\n",
    "printing=True\n",
    "if printing:\n",
    "    print(f\"LPM with Same Creation (Run #46):\")\n",
    "dict_lst = []\n",
    "for (D,L),g in df.groupby(by=['D','L']):\n",
    "    tau_values = g['TermTime'].values\n",
    "    meanx,Delta_meanx,num_obs,p_normal=comp_mean_bootstrap_uncertainty(tau_values)\n",
    "    printing=True\n",
    "    a=g['varkappa'].max()\n",
    "    chi=g['chi'].max()\n",
    "    if printing:\n",
    "        print(f\"- {D=}, {L=}: mean tau: {meanx:.4f} +/- {Delta_meanx:.4f} seconds (N={num_obs}, {p_normal=:.4f})\")\n",
    "    dict_lst.append(dict(D=D,L=L,a=a,chi=chi,\n",
    "                         tau=meanx,Delta_tau=Delta_meanx,\n",
    "                         num_obs=num_obs,p_normal=p_normal,\n",
    "                        ))"
   ]
  },
  {
   "cell_type": "code",
   "execution_count": 21,
   "id": "9b6d4386",
   "metadata": {
    "ExecuteTime": {
     "end_time": "2025-06-11T21:02:09.882615Z",
     "start_time": "2025-06-11T21:02:09.871658Z"
    }
   },
   "outputs": [
    {
     "data": {
      "text/html": [
       "<div>\n",
       "<style scoped>\n",
       "    .dataframe tbody tr th:only-of-type {\n",
       "        vertical-align: middle;\n",
       "    }\n",
       "\n",
       "    .dataframe tbody tr th {\n",
       "        vertical-align: top;\n",
       "    }\n",
       "\n",
       "    .dataframe thead th {\n",
       "        text-align: right;\n",
       "    }\n",
       "</style>\n",
       "<table border=\"1\" class=\"dataframe\">\n",
       "  <thead>\n",
       "    <tr style=\"text-align: right;\">\n",
       "      <th></th>\n",
       "      <th>D</th>\n",
       "      <th>L</th>\n",
       "      <th>a</th>\n",
       "      <th>chi</th>\n",
       "      <th>tau</th>\n",
       "      <th>Delta_tau</th>\n",
       "      <th>num_obs</th>\n",
       "      <th>p_normal</th>\n",
       "    </tr>\n",
       "  </thead>\n",
       "  <tbody>\n",
       "    <tr>\n",
       "      <th>0</th>\n",
       "      <td>0.048</td>\n",
       "      <td>4.500</td>\n",
       "      <td>1.552</td>\n",
       "      <td>2.939433</td>\n",
       "      <td>9.530372</td>\n",
       "      <td>0.417653</td>\n",
       "      <td>2000</td>\n",
       "      <td>9.730722e-01</td>\n",
       "    </tr>\n",
       "    <tr>\n",
       "      <th>1</th>\n",
       "      <td>0.048</td>\n",
       "      <td>4.750</td>\n",
       "      <td>1.552</td>\n",
       "      <td>2.939433</td>\n",
       "      <td>16.109333</td>\n",
       "      <td>0.657802</td>\n",
       "      <td>2000</td>\n",
       "      <td>4.782612e-01</td>\n",
       "    </tr>\n",
       "    <tr>\n",
       "      <th>2</th>\n",
       "      <td>0.048</td>\n",
       "      <td>5.000</td>\n",
       "      <td>1.552</td>\n",
       "      <td>2.939433</td>\n",
       "      <td>24.906398</td>\n",
       "      <td>0.876443</td>\n",
       "      <td>2000</td>\n",
       "      <td>6.575857e-01</td>\n",
       "    </tr>\n",
       "    <tr>\n",
       "      <th>3</th>\n",
       "      <td>0.048</td>\n",
       "      <td>5.250</td>\n",
       "      <td>1.552</td>\n",
       "      <td>2.939433</td>\n",
       "      <td>34.713999</td>\n",
       "      <td>0.957091</td>\n",
       "      <td>1999</td>\n",
       "      <td>8.887704e-01</td>\n",
       "    </tr>\n",
       "    <tr>\n",
       "      <th>4</th>\n",
       "      <td>0.048</td>\n",
       "      <td>5.625</td>\n",
       "      <td>1.552</td>\n",
       "      <td>2.939433</td>\n",
       "      <td>47.836443</td>\n",
       "      <td>0.829059</td>\n",
       "      <td>2000</td>\n",
       "      <td>5.736999e-01</td>\n",
       "    </tr>\n",
       "    <tr>\n",
       "      <th>5</th>\n",
       "      <td>0.048</td>\n",
       "      <td>6.250</td>\n",
       "      <td>1.552</td>\n",
       "      <td>2.939433</td>\n",
       "      <td>57.260239</td>\n",
       "      <td>0.435285</td>\n",
       "      <td>2000</td>\n",
       "      <td>3.579202e-01</td>\n",
       "    </tr>\n",
       "    <tr>\n",
       "      <th>6</th>\n",
       "      <td>0.420</td>\n",
       "      <td>5.000</td>\n",
       "      <td>9.300</td>\n",
       "      <td>2.075269</td>\n",
       "      <td>0.566962</td>\n",
       "      <td>0.061761</td>\n",
       "      <td>2000</td>\n",
       "      <td>7.165031e-18</td>\n",
       "    </tr>\n",
       "    <tr>\n",
       "      <th>7</th>\n",
       "      <td>0.420</td>\n",
       "      <td>6.250</td>\n",
       "      <td>9.300</td>\n",
       "      <td>2.075269</td>\n",
       "      <td>1.823972</td>\n",
       "      <td>0.161797</td>\n",
       "      <td>2000</td>\n",
       "      <td>5.209048e-03</td>\n",
       "    </tr>\n",
       "    <tr>\n",
       "      <th>8</th>\n",
       "      <td>0.420</td>\n",
       "      <td>7.500</td>\n",
       "      <td>9.300</td>\n",
       "      <td>2.075269</td>\n",
       "      <td>7.023152</td>\n",
       "      <td>0.380364</td>\n",
       "      <td>2000</td>\n",
       "      <td>6.428188e-01</td>\n",
       "    </tr>\n",
       "    <tr>\n",
       "      <th>9</th>\n",
       "      <td>0.420</td>\n",
       "      <td>8.750</td>\n",
       "      <td>9.300</td>\n",
       "      <td>2.075269</td>\n",
       "      <td>28.336182</td>\n",
       "      <td>0.941926</td>\n",
       "      <td>2000</td>\n",
       "      <td>5.026513e-01</td>\n",
       "    </tr>\n",
       "  </tbody>\n",
       "</table>\n",
       "</div>"
      ],
      "text/plain": [
       "       D      L      a       chi        tau  Delta_tau  num_obs      p_normal\n",
       "0  0.048  4.500  1.552  2.939433   9.530372   0.417653     2000  9.730722e-01\n",
       "1  0.048  4.750  1.552  2.939433  16.109333   0.657802     2000  4.782612e-01\n",
       "2  0.048  5.000  1.552  2.939433  24.906398   0.876443     2000  6.575857e-01\n",
       "3  0.048  5.250  1.552  2.939433  34.713999   0.957091     1999  8.887704e-01\n",
       "4  0.048  5.625  1.552  2.939433  47.836443   0.829059     2000  5.736999e-01\n",
       "5  0.048  6.250  1.552  2.939433  57.260239   0.435285     2000  3.579202e-01\n",
       "6  0.420  5.000  9.300  2.075269   0.566962   0.061761     2000  7.165031e-18\n",
       "7  0.420  6.250  9.300  2.075269   1.823972   0.161797     2000  5.209048e-03\n",
       "8  0.420  7.500  9.300  2.075269   7.023152   0.380364     2000  6.428188e-01\n",
       "9  0.420  8.750  9.300  2.075269  28.336182   0.941926     2000  5.026513e-01"
      ]
     },
     "execution_count": 21,
     "metadata": {},
     "output_type": "execute_result"
    }
   ],
   "source": [
    "df_out = pd.DataFrame(dict_lst)\n",
    "df_out"
   ]
  },
  {
   "cell_type": "code",
   "execution_count": 23,
   "id": "feb0523d",
   "metadata": {
    "ExecuteTime": {
     "end_time": "2025-06-11T21:03:04.695986Z",
     "start_time": "2025-06-11T21:03:04.694451Z"
    }
   },
   "outputs": [],
   "source": [
    "# savedir = f\"{nb_dir}/data/osg_output/run_46_tau_vs_L.csv\"\n",
    "savedir = f\"{nb_dir}/data/osg_output/run_47_tau_vs_L.csv\""
   ]
  },
  {
   "cell_type": "code",
   "execution_count": 24,
   "id": "670491d5",
   "metadata": {
    "ExecuteTime": {
     "end_time": "2025-06-11T21:03:27.527503Z",
     "start_time": "2025-06-11T21:03:27.519578Z"
    }
   },
   "outputs": [],
   "source": [
    "df_out.to_csv(savedir,index=False)"
   ]
  },
  {
   "cell_type": "code",
   "execution_count": null,
   "id": "9c904018",
   "metadata": {},
   "outputs": [],
   "source": []
  },
  {
   "cell_type": "code",
   "execution_count": null,
   "id": "75393d82",
   "metadata": {},
   "outputs": [],
   "source": []
  }
 ],
 "metadata": {
  "kernelspec": {
   "display_name": "Python 3 (ipykernel)",
   "language": "python",
   "name": "python3"
  },
  "language_info": {
   "codemirror_mode": {
    "name": "ipython",
    "version": 3
   },
   "file_extension": ".py",
   "mimetype": "text/x-python",
   "name": "python",
   "nbconvert_exporter": "python",
   "pygments_lexer": "ipython3",
   "version": "3.9.5"
  },
  "toc": {
   "base_numbering": 1,
   "nav_menu": {},
   "number_sections": true,
   "sideBar": true,
   "skip_h1_title": false,
   "title_cell": "Table of Contents",
   "title_sidebar": "Contents",
   "toc_cell": false,
   "toc_position": {},
   "toc_section_display": true,
   "toc_window_display": false
  }
 },
 "nbformat": 4,
 "nbformat_minor": 5
}
