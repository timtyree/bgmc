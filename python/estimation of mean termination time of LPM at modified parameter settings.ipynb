{
 "cells": [
  {
   "cell_type": "markdown",
   "id": "ccb7e766",
   "metadata": {},
   "source": [
    "# estimation of mean termination time of LPM at modified parameter settings\n",
    "Tim Tyree<br>\n",
    "3.19.2025"
   ]
  },
  {
   "cell_type": "code",
   "execution_count": 1,
   "id": "22dd2a6f",
   "metadata": {
    "ExecuteTime": {
     "end_time": "2025-03-19T21:03:54.662413Z",
     "start_time": "2025-03-19T21:03:53.356044Z"
    }
   },
   "outputs": [],
   "source": [
    "import os,sys,pandas as pd,numpy as np"
   ]
  },
  {
   "cell_type": "code",
   "execution_count": 2,
   "id": "c1bbc346",
   "metadata": {
    "ExecuteTime": {
     "end_time": "2025-03-19T21:03:55.941593Z",
     "start_time": "2025-03-19T21:03:54.663291Z"
    }
   },
   "outputs": [],
   "source": [
    "from lib import *"
   ]
  },
  {
   "cell_type": "markdown",
   "id": "f81bb044",
   "metadata": {},
   "source": [
    "# define module"
   ]
  },
  {
   "cell_type": "code",
   "execution_count": 3,
   "id": "ce3f5274",
   "metadata": {
    "ExecuteTime": {
     "end_time": "2025-03-19T21:03:55.945599Z",
     "start_time": "2025-03-19T21:03:55.943188Z"
    }
   },
   "outputs": [],
   "source": [
    "# parse_iolines\n",
    "def parse_iolines_single(input_fn, printing=False):\n",
    "    n_input=-9999\n",
    "    n_output=-9999\n",
    "    with open(input_fn) as f:\n",
    "#         trgt1='Printing Inputs...\\n'\n",
    "#         trgt2='Printing Outputs...\\n'\n",
    "        trgt1='Printing Inputs:\\n'\n",
    "        trgt2='Printing Outputs:\\n'\n",
    "        for n,line in enumerate(f):\n",
    "            if trgt1 == line:\n",
    "                if printing:\n",
    "                    print(f'found inputs starting after line {n}')\n",
    "                n_input=n\n",
    "            if trgt2 == line:\n",
    "                if printing:\n",
    "                    print(f'found outputs starting after line {n}')\n",
    "                n_output=n\n",
    "    return n_input,n_output"
   ]
  },
  {
   "cell_type": "code",
   "execution_count": 4,
   "id": "320d2630",
   "metadata": {
    "ExecuteTime": {
     "end_time": "2025-03-19T21:03:55.948610Z",
     "start_time": "2025-03-19T21:03:55.946401Z"
    }
   },
   "outputs": [],
   "source": [
    "def parse_outputs_single_trial(input_fn, n_output):\n",
    "    \"\"\"\n",
    "    Example Usage:\n",
    "TermTime = parse_outputs_single_trial(input_fn, n_output)\n",
    "    \"\"\"\n",
    "    with open(input_fn) as f:\n",
    "        for n,line in enumerate(f):\n",
    "            if n == n_output+1:\n",
    "                lin0 =line\n",
    "                TermTime = eval(lin0[:-2].split('=')[-1])\n",
    "                return TermTime\n",
    "#         if n == n_output+1:\n",
    "#             line_N = line\n",
    "#         if n == n_output+2:\n",
    "#             line_CollTime =line\n",
    "# N_values=np.array([eval(s) for s in line_N[:-2].split(',')])\n",
    "# CollTime_values=np.array([eval(s) for s in line_CollTime[:-2].split(',')])\n",
    "# # CollTime_values=np.array([eval(s) for s in line_CollTime[:-1].split(',')])\n",
    "# df=pd.DataFrame({\n",
    "#     'N':N_values,\n",
    "#     'CollTime':CollTime_values\n",
    "# })\n",
    "# df=df.loc[df.CollTime!=-9999]\n",
    "# df.reset_index(inplace=True,drop=True)\n",
    "## return df"
   ]
  },
  {
   "cell_type": "code",
   "execution_count": 5,
   "id": "7dd3b9b4",
   "metadata": {
    "ExecuteTime": {
     "end_time": "2025-03-19T21:03:55.951487Z",
     "start_time": "2025-03-19T21:03:55.949235Z"
    }
   },
   "outputs": [],
   "source": [
    "# parse_outputs(input_fn, n_output=)\n",
    "def parse_log_single(input_fn,printing=False):\n",
    "    \"\"\"\n",
    "    Example Usage:\n",
    "dict_data = parse_log_single(input_fn,printing=False)\n",
    "    \"\"\"\n",
    "    n_input,n_output=parse_iolines_single(input_fn, printing=False)\n",
    "    if n_input==-9999:\n",
    "        if printing:\n",
    "            print(f\"Warning: n_input not found for input_fn={input_fn}.\\nreturning None...\")\n",
    "        return None\n",
    "    col_name_lst, col_value_lst=parse_inputs(input_fn,n_input,n_output,printing=printing)\n",
    "    dict_inputs=dict(zip(col_name_lst,col_value_lst))\n",
    "    TermTime = parse_outputs_single_trial(input_fn, n_output)\n",
    "    dict_data = dict(dict_inputs)\n",
    "    dict_data['TermTime'] = TermTime\n",
    "    return dict_data"
   ]
  },
  {
   "cell_type": "code",
   "execution_count": null,
   "id": "467eb491",
   "metadata": {},
   "outputs": [],
   "source": []
  },
  {
   "cell_type": "markdown",
   "id": "627507a7",
   "metadata": {},
   "source": [
    "# dev"
   ]
  },
  {
   "cell_type": "code",
   "execution_count": 6,
   "id": "0b20bbcf",
   "metadata": {
    "ExecuteTime": {
     "end_time": "2025-03-19T21:03:55.953473Z",
     "start_time": "2025-03-19T21:03:55.952206Z"
    }
   },
   "outputs": [],
   "source": [
    "fldr = f\"{nb_dir}/data/osg_output/run_44\""
   ]
  },
  {
   "cell_type": "code",
   "execution_count": 7,
   "id": "bb318093",
   "metadata": {
    "ExecuteTime": {
     "end_time": "2025-03-19T21:03:55.955347Z",
     "start_time": "2025-03-19T21:03:55.954117Z"
    }
   },
   "outputs": [],
   "source": [
    "assert os.path.exists(fldr)"
   ]
  },
  {
   "cell_type": "code",
   "execution_count": 8,
   "id": "2ee58015",
   "metadata": {
    "ExecuteTime": {
     "end_time": "2025-03-19T21:03:56.007104Z",
     "start_time": "2025-03-19T21:03:55.955947Z"
    }
   },
   "outputs": [],
   "source": [
    "dict_data_lst = []\n",
    "for fn in os.listdir(fldr):\n",
    "    if fn.find('.out.')!=-1:\n",
    "        input_fn = os.path.join(fldr,fn)\n",
    "        dict_data = parse_log_single(input_fn,printing=False)\n",
    "        #record\n",
    "        dict_data_lst.append(dict_data)\n",
    "df=pd.DataFrame(dict_data_lst); del dict_data_lst"
   ]
  },
  {
   "cell_type": "code",
   "execution_count": null,
   "id": "2bbe8864",
   "metadata": {},
   "outputs": [],
   "source": []
  },
  {
   "cell_type": "code",
   "execution_count": 9,
   "id": "15c22627",
   "metadata": {
    "ExecuteTime": {
     "end_time": "2025-03-19T21:03:56.034928Z",
     "start_time": "2025-03-19T21:03:56.009362Z"
    }
   },
   "outputs": [
    {
     "name": "stdout",
     "output_type": "stream",
     "text": [
      "LPM with Same Creation (Run #44):\n",
      "- D=0.048: mean tau: 14.9174 +/- 2.8198 seconds (N=100, p_normal=0.7441)\n",
      "- D=0.42: mean tau: 2.2463 +/- 0.5044 seconds (N=100, p_normal=0.1550)\n"
     ]
    }
   ],
   "source": [
    "np.random.seed(42)\n",
    "printing=True\n",
    "if printing:\n",
    "    print(f\"LPM with Same Creation (Run #44):\")\n",
    "for D,g in df.groupby(by='D'):\n",
    "    tau_values = g['TermTime'].values\n",
    "    meanx,Delta_meanx,num_obs,p_normal=comp_mean_bootstrap_uncertainty(tau_values)\n",
    "    printing=True\n",
    "    if printing:\n",
    "        print(f\"- {D=}: mean tau: {meanx:.4f} +/- {Delta_meanx:.4f} seconds (N={num_obs}, {p_normal=:.4f})\")"
   ]
  },
  {
   "cell_type": "code",
   "execution_count": 10,
   "id": "640cc7b4",
   "metadata": {
    "ExecuteTime": {
     "end_time": "2025-03-19T21:03:56.037171Z",
     "start_time": "2025-03-19T21:03:56.035815Z"
    }
   },
   "outputs": [],
   "source": [
    "# meanx,Delta_meanx,num_obs,p_normal=comp_mean_bootstrap_uncertainty(tau_values)\n",
    "# printing=True\n",
    "# if printing:\n",
    "#     print(f\"{D}: mean tau: {meanx:.4f} +/- {Delta_meanx:.4f} (N={num_obs}, {p_normal=:.4f})\")"
   ]
  },
  {
   "cell_type": "code",
   "execution_count": 11,
   "id": "8f50ce55",
   "metadata": {
    "ExecuteTime": {
     "end_time": "2025-03-19T21:03:56.039685Z",
     "start_time": "2025-03-19T21:03:56.037896Z"
    }
   },
   "outputs": [],
   "source": [
    "# tau_values = g['TermTime'].values\n"
   ]
  },
  {
   "cell_type": "code",
   "execution_count": 12,
   "id": "d8430f2a",
   "metadata": {
    "ExecuteTime": {
     "end_time": "2025-03-19T21:03:56.041998Z",
     "start_time": "2025-03-19T21:03:56.040631Z"
    }
   },
   "outputs": [],
   "source": [
    "# D"
   ]
  },
  {
   "cell_type": "code",
   "execution_count": 13,
   "id": "777530ad",
   "metadata": {
    "ExecuteTime": {
     "end_time": "2025-03-19T21:03:56.044173Z",
     "start_time": "2025-03-19T21:03:56.042759Z"
    }
   },
   "outputs": [],
   "source": [
    "# df=pd.DataFrame(dict_data_lst); del dict_data_lst\n",
    "\n",
    "\n"
   ]
  },
  {
   "cell_type": "code",
   "execution_count": null,
   "id": "a8db9ff0",
   "metadata": {},
   "outputs": [],
   "source": []
  },
  {
   "cell_type": "code",
   "execution_count": 14,
   "id": "2defab0a",
   "metadata": {
    "ExecuteTime": {
     "end_time": "2025-03-19T21:03:56.046541Z",
     "start_time": "2025-03-19T21:03:56.045073Z"
    }
   },
   "outputs": [],
   "source": [
    "# #record\n",
    "# dict_data_lst.append(dict_data)"
   ]
  },
  {
   "cell_type": "code",
   "execution_count": 15,
   "id": "3d0ec6b6",
   "metadata": {
    "ExecuteTime": {
     "end_time": "2025-03-19T21:03:56.048674Z",
     "start_time": "2025-03-19T21:03:56.047316Z"
    }
   },
   "outputs": [],
   "source": [
    "# dict_data = parse_log_single(input_fn,printing=False)"
   ]
  },
  {
   "cell_type": "code",
   "execution_count": 16,
   "id": "3dea60a6",
   "metadata": {
    "ExecuteTime": {
     "end_time": "2025-03-19T21:03:56.050706Z",
     "start_time": "2025-03-19T21:03:56.049406Z"
    }
   },
   "outputs": [],
   "source": [
    "# n_output = 2\n",
    "# parse_log_single(input_fn, printing=True)"
   ]
  },
  {
   "cell_type": "code",
   "execution_count": 17,
   "id": "b7b24234",
   "metadata": {
    "ExecuteTime": {
     "end_time": "2025-03-19T21:03:56.053051Z",
     "start_time": "2025-03-19T21:03:56.051776Z"
    }
   },
   "outputs": [],
   "source": [
    "# dict_data = dict(dict_inputs)\n",
    "# dict_data['TermTime'] = TermTime"
   ]
  },
  {
   "cell_type": "code",
   "execution_count": 18,
   "id": "6d193e39",
   "metadata": {
    "ExecuteTime": {
     "end_time": "2025-03-19T21:03:56.055447Z",
     "start_time": "2025-03-19T21:03:56.053775Z"
    }
   },
   "outputs": [],
   "source": [
    "# qfoo = lambda x:True\n",
    "# include_inputs=True\n",
    "# printing=True\n",
    "# # def parse_log(input_fn,qfoo,include_inputs=True,printing=False):\n",
    "# # n_input,n_output=parse_iolines(input_fn, printing=False)\n",
    "# if n_input==-9999:\n",
    "#     if printing:\n",
    "#         print(f\"Warning: n_input not found for input_fn={input_fn}.\\nreturning None...\")\n",
    "# #     return None\n",
    "\n",
    "# col_name_lst, col_value_lst=parse_inputs(input_fn,n_input,n_output,printing=printing)\n",
    "# dict_inputs=dict(zip(col_name_lst,col_value_lst))\n",
    "# # if not qfoo(dict_inputs):\n",
    "# #     return None\n",
    "# TermTime = parse_outputs_single_trial(input_fn, n_output)"
   ]
  },
  {
   "cell_type": "code",
   "execution_count": null,
   "id": "7c8d8804",
   "metadata": {},
   "outputs": [],
   "source": []
  },
  {
   "cell_type": "code",
   "execution_count": null,
   "id": "5d59533c",
   "metadata": {
    "ExecuteTime": {
     "end_time": "2025-03-19T20:43:24.256612Z",
     "start_time": "2025-03-19T20:43:24.251541Z"
    }
   },
   "outputs": [],
   "source": []
  },
  {
   "cell_type": "code",
   "execution_count": null,
   "id": "0d298ba3",
   "metadata": {},
   "outputs": [],
   "source": []
  },
  {
   "cell_type": "code",
   "execution_count": null,
   "id": "5aa80b1a",
   "metadata": {
    "ExecuteTime": {
     "end_time": "2025-03-19T20:40:08.767896Z",
     "start_time": "2025-03-19T20:40:08.763872Z"
    }
   },
   "outputs": [],
   "source": []
  },
  {
   "cell_type": "code",
   "execution_count": 19,
   "id": "e90c56de",
   "metadata": {
    "ExecuteTime": {
     "end_time": "2025-03-19T21:03:56.057707Z",
     "start_time": "2025-03-19T21:03:56.056216Z"
    }
   },
   "outputs": [],
   "source": [
    "# n_input,n_output=parse_iolines_single(input_fn, printing=False)\n",
    "# n_input,n_output"
   ]
  }
 ],
 "metadata": {
  "kernelspec": {
   "display_name": "Python 3 (ipykernel)",
   "language": "python",
   "name": "python3"
  },
  "language_info": {
   "codemirror_mode": {
    "name": "ipython",
    "version": 3
   },
   "file_extension": ".py",
   "mimetype": "text/x-python",
   "name": "python",
   "nbconvert_exporter": "python",
   "pygments_lexer": "ipython3",
   "version": "3.9.5"
  },
  "toc": {
   "base_numbering": 1,
   "nav_menu": {},
   "number_sections": true,
   "sideBar": true,
   "skip_h1_title": false,
   "title_cell": "Table of Contents",
   "title_sidebar": "Contents",
   "toc_cell": false,
   "toc_position": {},
   "toc_section_display": true,
   "toc_window_display": false
  }
 },
 "nbformat": 4,
 "nbformat_minor": 5
}
