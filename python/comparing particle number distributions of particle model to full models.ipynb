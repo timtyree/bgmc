{
 "cells": [
  {
   "cell_type": "markdown",
   "id": "8c23e029",
   "metadata": {},
   "source": [
    "# comparing particle number distributions of particle model to full models\n",
    "Tim Tyree<br>\n",
    "6.6.2025"
   ]
  },
  {
   "cell_type": "code",
   "execution_count": 1,
   "id": "e4bfdbe7",
   "metadata": {
    "ExecuteTime": {
     "end_time": "2025-06-12T17:46:49.763398Z",
     "start_time": "2025-06-12T17:46:49.761274Z"
    }
   },
   "outputs": [
    {
     "name": "stdout",
     "output_type": "stream",
     "text": [
      "/Users/timothytyree/opt/miniconda3/envs/pyenv_bgmc/bin/python\n"
     ]
    }
   ],
   "source": [
    "# !conda env list\n",
    "import sys\n",
    "print(sys.executable)\n",
    "# /Users/timothytyree/opt/miniconda3/envs/pyenv_bgmc/bin/python"
   ]
  },
  {
   "cell_type": "code",
   "execution_count": 2,
   "id": "c4fe61e2",
   "metadata": {
    "ExecuteTime": {
     "end_time": "2025-06-12T17:46:52.844415Z",
     "start_time": "2025-06-12T17:46:49.764215Z"
    }
   },
   "outputs": [],
   "source": [
    "from lib.my_initialization import *"
   ]
  },
  {
   "cell_type": "code",
   "execution_count": 3,
   "id": "f19a7a96",
   "metadata": {
    "ExecuteTime": {
     "end_time": "2025-06-12T17:46:52.857448Z",
     "start_time": "2025-06-12T17:46:52.845795Z"
    }
   },
   "outputs": [],
   "source": [
    "import seaborn as sns\n",
    "#reset matplotlib\n",
    "plt.plot([1]*4)\n",
    "plt.close()\n",
    "#reset matplotlib settings\n",
    "import matplotlib as mpl\n",
    "sns.reset_orig()\n",
    "mpl.rc_file_defaults()"
   ]
  },
  {
   "cell_type": "code",
   "execution_count": 4,
   "id": "03cd6bb2",
   "metadata": {
    "ExecuteTime": {
     "end_time": "2025-06-12T17:46:52.861267Z",
     "start_time": "2025-06-12T17:46:52.859259Z"
    }
   },
   "outputs": [],
   "source": [
    "import scipy"
   ]
  },
  {
   "cell_type": "code",
   "execution_count": 5,
   "id": "e6ff1646",
   "metadata": {
    "ExecuteTime": {
     "end_time": "2025-06-12T17:46:52.864097Z",
     "start_time": "2025-06-12T17:46:52.862329Z"
    }
   },
   "outputs": [],
   "source": [
    "from lib.utils.parse_tip_pos import *"
   ]
  },
  {
   "cell_type": "markdown",
   "id": "c4c72f9d",
   "metadata": {},
   "source": [
    "# define module"
   ]
  },
  {
   "cell_type": "code",
   "execution_count": 6,
   "id": "9d3f8315",
   "metadata": {
    "ExecuteTime": {
     "end_time": "2025-06-12T17:46:52.867326Z",
     "start_time": "2025-06-12T17:46:52.864898Z"
    }
   },
   "outputs": [],
   "source": [
    "# @njit\n",
    "def format_particles(frameno,t,x_values,y_values,pid_values,round_t_to_n_decimals=5,tscale=1000):\n",
    "    '''tscale scales from seconds to milliseconds.\n",
    "    round_t_to_n_decimals=5 corrects arithmatic error, minimizes output memory requirements, and matches Dt=dt=1e-5 seconds\n",
    "    '''\n",
    "    n_tips = x_values.shape[0]\n",
    "    dict_out = {\n",
    "        'frame':frameno,\n",
    "        't': np.around(t,round_t_to_n_decimals)*tscale,\n",
    "        'n': n_tips,\n",
    "        'x': x_values,\n",
    "        'y': y_values,\n",
    "        'pid_explicit':pid_values}\n",
    "    return dict_out"
   ]
  },
  {
   "cell_type": "code",
   "execution_count": 7,
   "id": "c67f11a3",
   "metadata": {
    "ExecuteTime": {
     "end_time": "2025-06-12T17:46:52.953254Z",
     "start_time": "2025-06-12T17:46:52.868607Z"
    }
   },
   "outputs": [],
   "source": [
    "import numpy as np, pandas as pd, os, sys\n",
    "# from numba import njit\n",
    "\n",
    "# @njit\n",
    "def sqdiff(x1, x2):\n",
    "    return pow((x1-x2),2)\n",
    "\n",
    "# @njit\n",
    "def min3(num1, num2, num3):\n",
    "    if (num1 > num2 ):\n",
    "        mn=num2\n",
    "    else:\n",
    "        mn=num1\n",
    "    if (mn>num3):\n",
    "        mn=num3\n",
    "    return mn\n",
    "\n",
    "# @njit\n",
    "def dist_pbc(x1, y1, x2, y2, L):\n",
    "    # returns the smallest dist of each possible pbc combination\n",
    "    xsq1 = sqdiff(x1,x2)\n",
    "    xsq2 = sqdiff(x1,x2+L)\n",
    "    xsq3 = sqdiff(x1,x2-L)\n",
    "    ysq1 = sqdiff(y1,y2)\n",
    "    ysq2 = sqdiff(y1,y2+L)\n",
    "    ysq3 = sqdiff(y1,y2-L)\n",
    "    xsq  = min3(xsq1,xsq2,xsq3)\n",
    "    ysq  = min3(ysq1,ysq2,ysq3)\n",
    "    return np.sqrt(xsq+ysq)\n",
    "\n",
    "# @njit\n",
    "def subtract_pbc_1d(x1, x2, L):\n",
    "    # returns the smallest dist of each possible pbc combination\n",
    "    dx = x1-x2\n",
    "    dx1 = x1-x2+L\n",
    "    dx2 = x1-x2-L\n",
    "    if (abs(dx1)<abs(dx)):\n",
    "        dx=dx1;\n",
    "    else:\n",
    "        if (abs(dx2)<abs(dx)):\n",
    "            dx=dx2\n",
    "    return dx\n",
    "\n",
    "# @njit\n",
    "def reflection(X, L):\n",
    "  return L-abs(L-abs(X % 2.*L))\n",
    "# @njit\n",
    "def periodic(X, L):\n",
    "  x=X % L\n",
    "  if (x<0.):\n",
    "    return x+L\n",
    "  return x\n",
    "\n",
    "\n",
    "def seed_new_particle(x_new,y_new,still_running,L,R_c_bar,max_num_retries=100):\n",
    "    \"\"\"\n",
    "    Example Usage:\n",
    "xg,yg=seed_new_particle(x_new,y_new,still_running,L,R_c_bar,max_num_retries=100)\n",
    "    \"\"\"\n",
    "    xg=np.random.uniform(0,1)*L\n",
    "    yg=np.random.uniform(0,1)*L\n",
    "    mindist=2.*L\n",
    "    for j in np.argwhere(still_running).flatten():\n",
    "        dist=dist_pbc(xg,yg,x_new[j],y_new[j],L);\n",
    "        if dist<mindist:\n",
    "            mindist=dist\n",
    "    #while new particle is within distance R_c_bar from any other particle\n",
    "    num=0\n",
    "    while (mindist<R_c_bar) and (num<max_num_retries):\n",
    "        num+=1\n",
    "        xg=np.random.uniform(0,1)*L\n",
    "        yg=np.random.uniform(0,1)*L\n",
    "        mindist=2.*L\n",
    "        for j in np.argwhere(still_running).flatten():\n",
    "            dist=dist_pbc(xg,yg,x_new[j],y_new[j],L);\n",
    "            if dist<mindist:\n",
    "                mindist=dist\n",
    "    return xg,yg\n",
    "\n",
    "def  gener_termination_time_log(seed,Ninitial=2,Nfinal=0,\n",
    "                            chi=2.08,\n",
    "                            R_c_bar=0.6667, #cm\n",
    "                            kappa=75, #Hz\n",
    "                            r=0.314, #cm\n",
    "                            varkappa=9.3, #cm^2/s\n",
    "                            D=0.42, #cm^2/s\n",
    "                            Mp = 3.28, #+/- 0.10 Hz/cm^2;\n",
    "                            nup = 0.715, #+/- 0.010\n",
    "                            r0=0.202,\n",
    "                            L=5,\n",
    "                            creation_duration = 0.1, #s 0.0025, # 0.001 #s  #\n",
    "                            Dt=1e-5,dt=1e-5,\n",
    "                            no_repulsion=0,no_attraction=0,\n",
    "#                             save_every=5,\n",
    "                            save_every=int(1e-1/1e-5),\n",
    "                            tmax=60, #s\n",
    "                            epsilon=5e-2,  #reactions happen immediately at this range\n",
    "                            x0=5,  #skipping reflect,set_second, and neighbor functionality\n",
    "                            N=150, #max number of particles\n",
    "                            force_code=2,\n",
    "                            dist_cutoff=1e-2,\n",
    "                            use_creation=True,\n",
    "                            use_pair_create=True,\n",
    "                            use_set_created_from_existing=True,\n",
    "                            use_uniform_ic=False,\n",
    "                            show_movie=False,#True,\n",
    "#                             recording_locations=False,#True,\n",
    "                            recording_locations=True,\n",
    "                            recording_snapshots=False,#True,\n",
    "                            printing=False,\n",
    "                          **kwargs):\n",
    "    \"\"\"\n",
    "    src: http://localhost:8889/notebooks/implementing%20creation%20events.ipynb\n",
    "    modified to produce particle number distributions.\n",
    "    Example Usage:\n",
    "dictt = gener_termination_time_log(seed,Ninitial=2,Nfinal=0,\n",
    "                            chi=chi,kappa=kappa, #Hz\n",
    "                            r=r, #cm\n",
    "                            varkappa=varkappa, #cm^2/s\n",
    "                            D=D, #cm^2/s\n",
    "                            Mp = Mp, # Hz/cm^2;\n",
    "                            nup = nup,L=L,creation_duration = creation_duration, # 0.001 #s  # 0.1 #s\n",
    "                            Dt=Dt,dt=dt,use_creation=True,use_pair_create=True,use_set_created_from_existing=True)\n",
    "print(f\"termination time: {t}\")\n",
    "    \"\"\"\n",
    "#     r0=r\n",
    "#     r0=6e-2\n",
    "#     tmax=500 #s\n",
    "#     tmax=60 #s\n",
    "#     epsilon=5e-2  #reactions happen immediately at this range\n",
    "#     x0=5\n",
    "#     #skipping reflect,set_second, and neighbor functionality\n",
    "#     N=150 #max number of particles\n",
    "    np.random.seed(seed)\n",
    "    x_values=np.random.uniform(0,1,size=N)*L\n",
    "    y_values=np.random.uniform(0,1,size=N)*L\n",
    "    t=0\n",
    "    if use_uniform_ic:\n",
    "        Nrow=4\n",
    "    #     Nrow=10\n",
    "        #explicitely uniform ic.\n",
    "        uvals=np.linspace(0,L*Nrow/(Nrow+1),Nrow)\n",
    "        x_values,y_values=np.meshgrid(uvals,uvals)\n",
    "        x_values=x_values.flatten()+L/(2*(Nrow+1))\n",
    "        y_values=y_values.flatten()+L/(2*(Nrow+1))\n",
    "        #explicitely enter ^these values in my c simulation and run it\n",
    "        N = x_values.shape[0]\n",
    "\n",
    "    #return a scatter plot that may be saved as png\n",
    "    if show_movie:\n",
    "        annotating=True\n",
    "        message='initial positions'\n",
    "        fig=ScatterPlotSnapshot(x_values,y_values,t,width=L,height=L,\n",
    "                                annotating=annotating,message=message,inch=6)\n",
    "        plt.show()\n",
    "\n",
    "    if show_movie:\n",
    "        #for snapshot output\n",
    "        save_folder=f\"{nb_dir}/Figures/mov\"\n",
    "        if os.path.exists(save_folder):\n",
    "            #cleanse the old snapshot folder\n",
    "            shutil.rmtree(save_folder)\n",
    "        os.mkdir(save_folder)\n",
    "        annotating=True\n",
    "    frameno=1\n",
    "    save_fn=None\n",
    "    inch=6\n",
    "#     # message='without forces'\n",
    "#     # force_code=0\n",
    "#     # varkappa=0\n",
    "#     # message='with anti-spring forces'\n",
    "#     # force_code=1\n",
    "#     # varkappa=-5\n",
    "# #     message='with particle creation'\n",
    "#     force_code=2\n",
    "#     dist_cutoff=1e-2\n",
    "\n",
    "    # varkappa=1.552\n",
    "    # message=f'with {alpha=}'\n",
    "    message=' '\n",
    "    stepscale=np.sqrt(2*D*Dt) #diffusive\n",
    "    # stepscale=(2*D*Dt)**(1/alpha)\n",
    "    probreact=kappa*dt\n",
    "    A = L**2\n",
    "    T_net=0;count_net=0\n",
    "    # iter_per_movestep = round(Dt/dt)\n",
    "    impulse_prefactor= varkappa * Dt\n",
    "    tiarray=np.zeros(N)\n",
    "    tfarray=np.zeros(N)\n",
    "    step=0\n",
    "    if printing:\n",
    "        print(\"running simulation...\");\n",
    "    t=-Dt\n",
    "    # still_running=True;\n",
    "    exit_code=-1;T=-9999.\n",
    "    #initialize positions\n",
    "    # #uniform random ic\n",
    "    # x_values=rs.uniform(size=N)*L\n",
    "    # y_values=rs.uniform(size=N)*L\n",
    "    # #explicitely uniform ic\n",
    "    # uvals=np.linspace(0,L,5)\n",
    "    # x_values,y_values=np.meshgrid(uvals,uvals)\n",
    "    # x_values=x_values.flatten()\n",
    "    # y_values=y_values.flatten()\n",
    "\n",
    "    #lower case: world coordinates\n",
    "    #upper case: material coordinates\n",
    "#     x=x_values.copy()\n",
    "#     y=y_values.copy()\n",
    "    x_old=x_values.copy()\n",
    "    y_old=y_values.copy()\n",
    "    x_new=x_values.copy()\n",
    "    y_new=y_values.copy()\n",
    "#     X=x_values.copy()\n",
    "#     Y=y_values.copy()\n",
    "#     X_old=x_values.copy()\n",
    "#     Y_old=y_values.copy()\n",
    "#     X_new=x_values.copy()\n",
    "#     Y_new=y_values.copy()\n",
    "\n",
    "\n",
    "\n",
    "\n",
    "    zeros=np.zeros_like(x_values)\n",
    "    zerosint=np.zeros_like(x_values).astype('int')\n",
    "    # still_running=zerosint==zerosint\n",
    "    still_running=zerosint!=zerosint\n",
    "#     still_running[:Ninitial]=True  #initialize first Ninitial particles to still be running\n",
    "    caught=zerosint.copy()-9999#!=zerosint\n",
    "    anticaught=zerosint.copy()-9999#!=zerosint\n",
    "\n",
    "    #create the initial particles\n",
    "    for i in range(Ninitial):\n",
    "        xg,yg=seed_new_particle(x_new,y_new,still_running,L,R_c_bar,max_num_retries=100)\n",
    "        x_new[i]=xg\n",
    "        y_new[i]=yg\n",
    "        still_running[i]=True\n",
    "\n",
    "    # //start set_second kernel\n",
    "    # //end set_second kernel\n",
    "    #make still_running into still_running_values\n",
    "    dict_out_lst=[]\n",
    "    # reset the net forces\n",
    "    Fx_net=zeros.copy()\n",
    "    Fy_net=zeros.copy()\n",
    "    # while(still_running.any()):\n",
    "    while(still_running.sum()>Nfinal):\n",
    "        # //reinitialize_kernel, which copies X,Y_new to X,Y_old\n",
    "        min_dist_old=zeros+9999999\n",
    "        i_neighbor=zerosint-1\n",
    "        x_old=x_new\n",
    "        y_old=y_new\n",
    "        t=t+Dt;\n",
    "#         np.random.seed(seed) # didn't make it deterministic\n",
    "\n",
    "        #sum_each_force_kernel\n",
    "        for i in range(N):\n",
    "            if(still_running[i]):\n",
    "                for j in range(i+1,N):\n",
    "                    if(still_running[j]):\n",
    "                        #compute displacement vector with pbc\n",
    "                        dx = subtract_pbc_1d(x_old[j],x_old[i],L);\n",
    "                        dy = subtract_pbc_1d(y_old[j],y_old[i],L);\n",
    "                        dist2=dx*dx+dy*dy;\n",
    "                        if (dist2<1e-8):\n",
    "                            dist2=float(1e-8)\n",
    "                        dist = np.sqrt(dist2)\n",
    "                        #compute displacement due to drift\n",
    "                        impulse_factor=0.\n",
    "                        if (force_code==1):\n",
    "                          #spring\n",
    "                          impulse_factor=impulse_prefactor*(dist-x0)/dist;\n",
    "                        if (force_code==2):\n",
    "                          #QED2: force ~ inverse power law\n",
    "                          impulse_factor=impulse_prefactor/dist2;\n",
    "                        if (force_code==3):\n",
    "                          #QED3: force ~ inverse square power law\n",
    "                          impulse_factor=impulse_prefactor/dist2/dist;\n",
    "                        #set impulse_factor to zero if it is explicitly forbidden by the user input\n",
    "                        if ((no_attraction==1) & (impulse_factor>0)):\n",
    "                            impulse_factor=0.\n",
    "                        if ((no_repulsion==1) & (impulse_factor<0)):\n",
    "                            impulse_factor=0.\n",
    "                        #sum Fx_net, Fy_net according to a symplectic (momentum conserving) integrator\n",
    "                        Fx_net[i]=Fx_net[i]+dx*impulse_factor;\n",
    "                        Fy_net[i]=Fy_net[i]+dy*impulse_factor;\n",
    "                        Fx_net[j]=Fx_net[j]-dx*impulse_factor;\n",
    "                        Fy_net[j]=Fy_net[j]-dy*impulse_factor\n",
    "                        #determine if they are closer than epsilon\n",
    "                        if dist<epsilon:\n",
    "                            #remove if they are\n",
    "                            still_running[i]=False\n",
    "                            still_running[j]=False\n",
    "                            uncatch_set=set()\n",
    "                            if caught[i]>=0:\n",
    "                                uncatch_set.update([caught[i]])\n",
    "                                if caught[caught[i]]>=0:\n",
    "                                    uncatch_set.update([caught[caught[i]]])\n",
    "                            if caught[j]>=0:\n",
    "                                uncatch_set.update([caught[j]])\n",
    "                                if caught[caught[j]]>=0:\n",
    "                                    uncatch_set.update([caught[caught[j]]])\n",
    "                            if len(uncatch_set)>0:\n",
    "                                for k in uncatch_set:\n",
    "                                    caught[k]=-9999\n",
    "        #compute the one_step given the net force, F_net\n",
    "        for i in range(N):\n",
    "            if(still_running[i]):\n",
    "                if caught[i]<0:\n",
    "                    dxt=Fx_net[i];\n",
    "                    dyt=Fy_net[i];\n",
    "                    # compute displacement due to levy flight\n",
    "    #                 dxW,dyW = stepscale*levyRandom2D(alpha)\n",
    "#                     dxW = stepscale*normalRandom()\n",
    "#                     dyW = stepscale*normalRandom()\n",
    "                    dxW = stepscale*np.random.normal()\n",
    "                    dyW = stepscale*np.random.normal()\n",
    "                    # next spatial position, time integrating by a duration, Dt. enforce PBC.\n",
    "                    x_new[i]=periodic(x_old[i]+dxW+dxt,L);\n",
    "                    y_new[i]=periodic(y_old[i]+dyW+dyt,L);\n",
    "                else:\n",
    "                    j=caught[i]\n",
    "                    ti=tiarray[i]\n",
    "                    tf=tfarray[i]\n",
    "                    #compute displacement vector with pbc\n",
    "                    dx = subtract_pbc_1d(x_old[j],x_old[i],L)\n",
    "                    dy = subtract_pbc_1d(y_old[j],y_old[i],L)\n",
    "                    xl = dx - (x_old[j]-x_old[i])\n",
    "                    yl = dy - (y_old[j]-y_old[i])\n",
    "                    #compute average location\n",
    "                    xavg = x_old[i] + 0.5*dx\n",
    "                    yavg = y_old[i] + 0.5*dy\n",
    "                    #compute frac to interpolate by\n",
    "                    frac = (t-ti)/(tf-ti)\n",
    "                    frac = np.min((1,frac))\n",
    "                    x_new[i] = periodic(x_old[i]*(1-frac) + (xavg+xl)*frac,L)\n",
    "                    y_new[i] = periodic(y_old[i]*(1-frac) + (yavg+yl)*frac,L)\n",
    "        #reaction_kernel\n",
    "        for i in range(N):\n",
    "            if(still_running[i]&(caught[i]<0)&(anticaught[i]<0)):\n",
    "                # // each i,j pair is reached once per call to kernel_measure\n",
    "                for j in range(i+1,N):\n",
    "                    if(still_running[j]&(caught[j]<0)&(anticaught[j]<0)):\n",
    "                        # // compute distance between particles that are still running\n",
    "                        dist=dist_pbc(x_new[i],y_new[i],x_new[j],y_new[j],L);\n",
    "                        in_range=dist<r;\n",
    "                        # // in_range=true;//uncomment for smeared method\n",
    "                        # // if two particles are in range\n",
    "                        if(in_range):\n",
    "                            # // determine whether those two particles react via the simple method\n",
    "#                             reacts=probreact>uniformRandom();\n",
    "                            reacts=probreact>np.random.uniform(0,1);\n",
    "                            # // determine whether those two particles react via the smeared method\n",
    "                            # // sig=sigmoid(dist, r, beta);\n",
    "                            # // reacts=probreact*sig>uniformRandom();\n",
    "                            if(reacts):\n",
    "                                exit_code=1;\n",
    "                                T=t;\n",
    "    #                             still_running[i]=False;\n",
    "    #                             still_running[j]=False;\n",
    "                                #uncatch any previous catches\n",
    "                                if caught[i]>=0: caught[caught[i]]=-9999\n",
    "                                if caught[j]>=0: caught[caught[j]]=-9999\n",
    "                                #catch these two\n",
    "                                caught[i]=j;\n",
    "                                caught[j]=i;\n",
    "                                #determine deltat\n",
    "                                deltat = dist**2/(4*(varkappa+2*D))\n",
    "                                #determine ti,tf\n",
    "                                tiarray[i]=t\n",
    "                                tfarray[i]=t+deltat\n",
    "                                tiarray[j]=t\n",
    "                                tfarray[j]=t+deltat\n",
    "\n",
    "        #determine rate_of_creation from average density\n",
    "        num_particles = np.sum(still_running)\n",
    "        prob_create = dt * Mp * (num_particles / A) ** nup * A\n",
    "        #creation_kernel\n",
    "        if not use_creation:\n",
    "            prob_create=0\n",
    "        if prob_create>np.random.uniform(0,1):\n",
    "            if np.sum(~still_running)>=2:\n",
    "                #select the first two particles that are removed\n",
    "                igone=np.argwhere(~still_running)\n",
    "                #reset/set their internal state\n",
    "                caught[igone[0]]=-9999\n",
    "                caught[igone[1]]=-9999\n",
    "                anticaught[igone[0]]=igone[1]\n",
    "                anticaught[igone[1]]=igone[0]\n",
    "                tfarray[igone[0]]=t+creation_duration\n",
    "                tfarray[igone[1]]=t+creation_duration\n",
    "\n",
    "#                 #set their positions to 2 uniformly distributed positions\n",
    "#                 x_new[igone[0]]=np.random.uniform(0,1)*L\n",
    "#                 x_new[igone[1]]=np.random.uniform(0,1)*L\n",
    "#                 y_new[igone[0]]=np.random.uniform(0,1)*L\n",
    "#                 y_new[igone[1]]=np.random.uniform(0,1)*L\n",
    "\n",
    "                #check if new particle is within distance R_c_bar from any other particles\n",
    "                for ihere in igone[:2]:\n",
    "                    xg,yg=seed_new_particle(x_new,y_new,still_running,L,R_c_bar,max_num_retries=1000)\n",
    "                    x_new[ihere]=xg\n",
    "                    y_new[ihere]=yg\n",
    "                    still_running[ihere]=True\n",
    "\n",
    "                #optionally set their positions to average a random location\n",
    "                if use_pair_create:\n",
    "#                     #optionally set their positions be a fixed distance to nearest tip\n",
    "#                     if use_set_created_from_existing:\n",
    "#                         #place a pair of particles uniformly on the circle of radius R_c_bar from a random particle\n",
    "#                         xg,yg=gener_random_creation_position(x_new,y_new,still_running,R_c_bar,L)\n",
    "#                         x_new[igone[0]] = xg\n",
    "#                         y_new[igone[0]] = yg\n",
    "                    theta=2*np.pi*np.random.uniform(0,1)\n",
    "                    #heretim\n",
    "                    x_new[igone[1]]=x_new[igone[0]] + 2.*r0*np.cos(theta)\n",
    "                    y_new[igone[1]]=y_new[igone[0]] + 2.*r0*np.sin(theta)\n",
    "\n",
    "\n",
    "        # reset the net forces\n",
    "        Fx_net=zeros.copy()\n",
    "        Fy_net=zeros.copy()\n",
    "        #creation_force_kernel\n",
    "        if use_pair_create:\n",
    "            for i in range(N):\n",
    "                if(still_running[i]&(anticaught[i]>=0)):\n",
    "                    j = anticaught[i]\n",
    "                    if still_running[j]:\n",
    "                        #compute displacement vector with pbc\n",
    "                        dx = subtract_pbc_1d(x_old[j],x_old[i],L);\n",
    "                        dy = subtract_pbc_1d(y_old[j],y_old[i],L);\n",
    "                        dist2=dx*dx+dy*dy;\n",
    "                        if (dist2<1e-8):\n",
    "                            dist2=float(1e-8)\n",
    "                        dist = np.sqrt(dist2)\n",
    "                        #compute displacement due to drift\n",
    "                        impulse_factor=0.\n",
    "                        if (force_code==1):\n",
    "                          #spring\n",
    "                          impulse_factor=impulse_prefactor*(dist-x0)/dist;\n",
    "                        if (force_code==2):\n",
    "                          #QED2: force ~ inverse power law\n",
    "                          impulse_factor=impulse_prefactor/dist2;\n",
    "                        if (force_code==3):\n",
    "                          #QED3: force ~ inverse square power law\n",
    "                          impulse_factor=impulse_prefactor/dist2/dist;\n",
    "                        #set impulse_factor to zero if it is explicitly forbidden by the user input\n",
    "                        if ((no_attraction==1) & (impulse_factor<0)):\n",
    "                            impulse_factor=0.\n",
    "                        if ((no_repulsion==1) & (impulse_factor>0)):\n",
    "                            impulse_factor=0.\n",
    "                        #account for double counting and then scale\n",
    "                        impulse_factor*=0.5*chi\n",
    "                        #sum Fx_net, Fy_net according to a symplectic (momentum conserving) integrator\n",
    "                        Fx_net[i]=Fx_net[i]-dx*impulse_factor;\n",
    "                        Fy_net[i]=Fy_net[i]-dy*impulse_factor;\n",
    "                        Fx_net[j]=Fx_net[j]+dx*impulse_factor;\n",
    "                        Fy_net[j]=Fy_net[j]+dy*impulse_factor\n",
    "\n",
    "        #turn off creation array\n",
    "        for i in range(N):\n",
    "            if still_running[i] and anticaught[i]>=0:\n",
    "                if t>tfarray[i]:\n",
    "                    anticaught[i]=-9999\n",
    "\n",
    "#         if show_movie:\n",
    "        if True:\n",
    "            if step%save_every==0:\n",
    "                x_plot=x_new[still_running]\n",
    "                y_plot=y_new[still_running]\n",
    "#                 n_plot = sum(still_running)\n",
    "                c_plot = np.array(['gray']*y_plot.shape[0])\n",
    "                caugh=caught[still_running]\n",
    "                for i in range(y_plot.shape[0]):\n",
    "                    if caugh[i]>=0:\n",
    "                        c_plot[i]='r'\n",
    "                acaugh=anticaught[still_running]\n",
    "                for i in range(y_plot.shape[0]):\n",
    "                    if acaugh[i]>=0:\n",
    "                        c_plot[i]='g'\n",
    "                \n",
    "                if recording_snapshots:\n",
    "                    #save result as png\n",
    "                    SaveScatterPlotSnapshot(x_plot,y_plot,t,\n",
    "                                            c=c_plot,\n",
    "                                            width=L,height=L,\n",
    "                                    frameno=frameno,save_folder=save_folder,\n",
    "                                    annotating=annotating,message=message)\n",
    "        #             print(f\"- saved pic at {frameno=}\")\n",
    "                if (recording_locations)&(x_plot.shape[0]>0):\n",
    "                    pid_values = np.arange(x_values.shape[0])[still_running]\n",
    "                    #append particle locations to log, dict_out_lst\n",
    "                    dict_out=format_particles(frameno,t,x_plot,y_plot,pid_values=pid_values)\n",
    "                    dict_out_lst.append(dict_out)\n",
    "\n",
    "                frameno+=1\n",
    "\n",
    "        #shut simulation down if it's taking too long...\n",
    "        if (t>tmax):\n",
    "            for i in range(N):\n",
    "                still_running[i]=False;\n",
    "                exit_code=-99;\n",
    "\n",
    "        step+=1\n",
    "        #end while running\n",
    "    \n",
    "    #record this trial\n",
    "    if (exit_code>0):\n",
    "        if (T>0.):\n",
    "            T_net=T_net+T;\n",
    "            count_net=count_net+1;\n",
    "\n",
    "    if printing:\n",
    "        print(f\"simulation complete!\")\n",
    "        beep(1)\n",
    "\n",
    "    if recording_locations:\n",
    "        #for csv output\n",
    "        data_folder=f\"{nb_dir}/data/local_results/creation_test_paired\"\n",
    "        if not os.path.exists(data_folder):\n",
    "            os.mkdir(data_folder)\n",
    "        data_folder=data_folder+\"/Log\"\n",
    "        if not os.path.exists(data_folder):\n",
    "            os.mkdir(data_folder)\n",
    "#         data_fn=f\"pbc_seed_{seed}_fc_{force_code}_r_{r}_D_{D}_L_{L}_kappa_{kappa}_varkappa_{varkappa}_alpha_{alpha}_creatdur_{creation_duration}_chi_{chi}_log.csv\"\n",
    "        data_fn=f\"pbc_seed_{seed}_fc_{force_code}_r_{r}_D_{D}_L_{L}_kappa_{kappa}_varkappa_{varkappa}_creatdur_{creation_duration}_chi_{chi}_log.csv\"\n",
    "\n",
    "    #save particle locations as csv\n",
    "    if recording_locations:\n",
    "        df = pd.concat([pd.DataFrame(dict_out) for dict_out in dict_out_lst])\n",
    "        df.reset_index(inplace=True, drop=True)\n",
    "        #save the recorded data\n",
    "        os.chdir(data_folder)\n",
    "        df.to_csv(data_fn, index=False)\n",
    "        if printing:\n",
    "            print('saved to:')\n",
    "            print(os.path.abspath(data_fn))\n",
    "    dictt=dict(t=t,dict_out_lst=dict_out_lst)\n",
    "    return dictt\n",
    "\n",
    "def print_dict(input_dict,*argv):\n",
    "    for key in input_dict.keys():\n",
    "        print(f\"{key}={input_dict[key]}\")\n",
    "    # args=sorted(argv)\n",
    "    # if len(args)>0:\n",
    "    #     print(str_btwn)\n",
    "    # type_dict=type(dict())\n",
    "    for arg in sorted(argv):\n",
    "        print(f'\\n#{arg}')\n",
    "        obj=input_dict[arg]\n",
    "        if type(obj) is type(dict()):\n",
    "            print_dict (obj)\n",
    "        else:\n",
    "            print(arg)"
   ]
  },
  {
   "cell_type": "markdown",
   "id": "3c9985c2",
   "metadata": {},
   "source": [
    "# dev"
   ]
  },
  {
   "cell_type": "code",
   "execution_count": 8,
   "id": "df398aed",
   "metadata": {
    "ExecuteTime": {
     "end_time": "2025-06-12T17:46:52.962361Z",
     "start_time": "2025-06-12T17:46:52.960135Z"
    }
   },
   "outputs": [],
   "source": [
    "# import numpy as np\n",
    "# Ninitial=2\n",
    "# # niter=1500  #<<<--- run time is ominously long... just to generate the inputs... best avoid...\n",
    "# # niter=150\n",
    "# niter=100\n",
    "# # niter=1\n",
    "dt=1e-5\n",
    "# Nmax=150\n",
    "creation_duration=0.1 #seconds for both full models\n",
    "L=5\n",
    "# a (cm2/s) 1.552 ± 0.016 9.3 ±0.3\n",
    "# % \\textcolor{red}{$b=a(\\chi -1)$}\n",
    "# % b=10.0 +/- 0.5 cm^2/s (LR)\n",
    "# % b=10.0399 +/- 0.4766 cm^2/s (LR)\n",
    "# % \t- chi=2.0796 +/- 0.0542\n",
    "# % b=3.01 +/- 0.08 cm^2/s (FK)\n",
    "# % b=3.0122 +/- 0.0773 cm^2/s (FK)\n",
    "# % \t- chi=2.9408 +/- 0.0508\n",
    "def map_b_to_chi(b,a):\n",
    "    x = b/a\n",
    "    chi = x+1\n",
    "    return chi"
   ]
  },
  {
   "cell_type": "code",
   "execution_count": 9,
   "id": "56fc9fd4",
   "metadata": {
    "ExecuteTime": {
     "end_time": "2025-06-12T17:46:52.964644Z",
     "start_time": "2025-06-12T17:46:52.963265Z"
    }
   },
   "outputs": [],
   "source": [
    "Dt=1e-5\n",
    "dt=1e-5"
   ]
  },
  {
   "cell_type": "markdown",
   "id": "107389ce",
   "metadata": {},
   "source": [
    "# dev simulation of a large number of termination events of the particle model at the precise parameter settings used in the creation paper"
   ]
  },
  {
   "cell_type": "code",
   "execution_count": 10,
   "id": "196ffbc9",
   "metadata": {
    "ExecuteTime": {
     "end_time": "2025-06-12T17:46:52.966798Z",
     "start_time": "2025-06-12T17:46:52.965506Z"
    }
   },
   "outputs": [],
   "source": [
    "#DONE: cp the parameters here\n",
    "#DONE: cp the run.py simulation here\n",
    "#DONE: modify the run.py simulation to compute (i) (independent) particle numbers and (ii) average run time"
   ]
  },
  {
   "cell_type": "code",
   "execution_count": 11,
   "id": "ae1c8eac",
   "metadata": {
    "ExecuteTime": {
     "end_time": "2025-06-12T17:46:52.968751Z",
     "start_time": "2025-06-12T17:46:52.967433Z"
    }
   },
   "outputs": [],
   "source": [
    "# a_values = np.concatenate([a_values,[1.552,9.3]]) #for FK,LR\n",
    "# b_values = np.concatenate([b_values,[3.01,10.0]]) #for FK, 10.0 for LR\n"
   ]
  },
  {
   "cell_type": "code",
   "execution_count": 12,
   "id": "66475a35",
   "metadata": {
    "ExecuteTime": {
     "end_time": "2025-06-12T17:46:52.972797Z",
     "start_time": "2025-06-12T17:46:52.969500Z"
    }
   },
   "outputs": [
    {
     "data": {
      "text/plain": [
       "2.075268817204301"
      ]
     },
     "execution_count": 12,
     "metadata": {},
     "output_type": "execute_result"
    }
   ],
   "source": [
    "#             #FK\n",
    "#             #.                      R_c_bar Mp nup                                r0\n",
    "#             args=seed, Ninitial, 0, 0.85, 0.864, 0.230, chi, 15, 0.457, a, 0.115, 0.131, L, creation_duration, dt\n",
    "\n",
    "#LR  #<-- takes too long\n",
    "#.                      R_c_bar Mp nup                                r0\n",
    "# args=seed, Ninitial, 0, 1.25, 3.28, 0.715, chi, 75, 0.314, a, 0.42, 0.202, L, creation_duration, dt\n",
    "R_c_bar, Mp, nup = 1.25, 3.28, 0.715\n",
    "kappa = 75\n",
    "a = 9.3\n",
    "D = 0.42\n",
    "b = 10.0\n",
    "r = 0.314\n",
    "r0 = 0.202\n",
    "chi = map_b_to_chi(b,a)\n",
    "chi"
   ]
  },
  {
   "cell_type": "code",
   "execution_count": 13,
   "id": "7a3e5509",
   "metadata": {
    "ExecuteTime": {
     "end_time": "2025-06-12T17:46:52.974659Z",
     "start_time": "2025-06-12T17:46:52.973456Z"
    }
   },
   "outputs": [],
   "source": [
    "#TODO: recall olde particle number distrib."
   ]
  },
  {
   "cell_type": "code",
   "execution_count": 14,
   "id": "e2e210bc",
   "metadata": {
    "ExecuteTime": {
     "end_time": "2025-06-12T17:46:52.979344Z",
     "start_time": "2025-06-12T17:46:52.975409Z"
    }
   },
   "outputs": [],
   "source": [
    "printing=True\n",
    "use_save_df_to_parquet_by=True\n",
    "use_save_df_to_parquet_by=False\n",
    "#load fortranic tip positions\n",
    "nb_dir_ = '/Users/timothytyree/Documents/GitHub/care/notebooks'\n",
    "folder=f\"{nb_dir_}/Data/from_wjr/positions_fk/200x200\"\n",
    "fn = 'tippos_per_c_001'\n",
    "folder=f\"{nb_dir_}/Data/from_wjr/positions_lr/200x200\"\n",
    "fn = 'tippos_per_001'\n",
    "input_dir = os.path.join(folder,fn)\n",
    "log_folder_parquet=f'{folder}/positions'\n",
    "assert os.path.exists(input_dir)\n",
    "if use_save_df_to_parquet_by:\n",
    "    df_log=parse_fortranic_tip_pos(input_dir)\n",
    "    #partition df_log into a folder of tip logs\n",
    "    save_df_to_parquet_by(df_log,log_folder_parquet,by='trial_num',compression='snappy',index=None)\n",
    "    print(f\"saved to spiral tip positions to {log_folder_parquet=}\")\n",
    "    #determine width and height of the computational domain input the discretization\n",
    "    width,height=df_log.describe().loc['max'][['x','y']].values.T\n",
    "    del df_log\n",
    "else:\n",
    "    width=200\n",
    "    height=200"
   ]
  },
  {
   "cell_type": "code",
   "execution_count": 15,
   "id": "24d7f0b3",
   "metadata": {
    "ExecuteTime": {
     "end_time": "2025-06-12T17:46:54.454688Z",
     "start_time": "2025-06-12T17:46:52.979998Z"
    }
   },
   "outputs": [
    {
     "data": {
      "text/plain": [
       "14"
      ]
     },
     "execution_count": 15,
     "metadata": {},
     "output_type": "execute_result"
    }
   ],
   "source": [
    "N0=2\n",
    "constrain_to_N0=True\n",
    "t_lst=[]\n",
    "nv_lst=[]\n",
    "np.random.seed(42)\n",
    "for fn in os.listdir(log_folder_parquet):\n",
    "    try:\n",
    "        trial_num = eval(fn.split('=')[1])\n",
    "        # load tip position data\n",
    "        g=load_parquet_by_trial_num(trial_num=trial_num,folder_parquet=log_folder_parquet)\n",
    "        n_series = g.groupby(by='t')['n'].min()\n",
    "        t0_values = n_series[n_series==N0].index.values\n",
    "        tf = n_series.index.values.max()\n",
    "        t_values = tf-t0_values\n",
    "        if len(t_values)>0:\n",
    "            #record\n",
    "            t_lst.extend(t_values)\n",
    "    #         nv = g.groupby('t')['n'].mean()[::100] #once every 100ms\n",
    "            nv = g.groupby('t')['n'].mean()[::10] #once every 10ms\n",
    "            nv = nv[nv%2==0]\n",
    "            if constrain_to_N0:\n",
    "                t0 = np.random.choice(t0_values)\n",
    "                nv = nv[nv.index.values>=t0].copy()\n",
    "            nv_lst.extend(nv)\n",
    "    except IndexError as e:\n",
    "        pass\n",
    "        #print(f\"IndexError for {fn}: {e}\")\n",
    "n_series.max()"
   ]
  },
  {
   "cell_type": "code",
   "execution_count": 16,
   "id": "7b3d52e8",
   "metadata": {
    "ExecuteTime": {
     "end_time": "2025-06-12T17:46:54.456903Z",
     "start_time": "2025-06-12T17:46:54.455552Z"
    }
   },
   "outputs": [],
   "source": [
    "# # g.groupby('t')['n'].mean()[::.index.values\n",
    "# # np.random.choice(t0_values)\n",
    "# t0_values\n",
    "# n_series\n",
    "# g\n",
    "# nv\n",
    "# t_values"
   ]
  },
  {
   "cell_type": "code",
   "execution_count": null,
   "id": "a74b1c4d",
   "metadata": {},
   "outputs": [],
   "source": []
  },
  {
   "cell_type": "code",
   "execution_count": 17,
   "id": "7008fc10",
   "metadata": {
    "ExecuteTime": {
     "end_time": "2025-06-12T17:46:54.458859Z",
     "start_time": "2025-06-12T17:46:54.457665Z"
    }
   },
   "outputs": [],
   "source": [
    "#TODO: generate histogram for discrete distribution"
   ]
  },
  {
   "cell_type": "code",
   "execution_count": 18,
   "id": "bbd62390",
   "metadata": {
    "ExecuteTime": {
     "end_time": "2025-06-12T17:46:54.460820Z",
     "start_time": "2025-06-12T17:46:54.459521Z"
    }
   },
   "outputs": [],
   "source": [
    "# Navg 8.1±0.7 8.1 17.0 5.0±2.4 4.3 32.3"
   ]
  },
  {
   "cell_type": "code",
   "execution_count": null,
   "id": "c78aab9b",
   "metadata": {},
   "outputs": [],
   "source": []
  },
  {
   "cell_type": "code",
   "execution_count": null,
   "id": "8bd3cbea",
   "metadata": {},
   "outputs": [],
   "source": []
  },
  {
   "cell_type": "code",
   "execution_count": 19,
   "id": "07b48c3c",
   "metadata": {
    "ExecuteTime": {
     "end_time": "2025-06-12T17:46:54.610699Z",
     "start_time": "2025-06-12T17:46:54.461461Z"
    }
   },
   "outputs": [
    {
     "data": {
      "image/png": "[encoded data removed]",
      "text/plain": [
       "<Figure size 640x480 with 1 Axes>"
      ]
     },
     "metadata": {},
     "output_type": "display_data"
    }
   ],
   "source": [
    "plt.hist(nv_lst,density=True,bins=100)\n",
    "plt.show()"
   ]
  },
  {
   "cell_type": "code",
   "execution_count": 20,
   "id": "f5c6af84",
   "metadata": {
    "ExecuteTime": {
     "end_time": "2025-06-12T17:46:54.693525Z",
     "start_time": "2025-06-12T17:46:54.611572Z"
    }
   },
   "outputs": [
    {
     "name": "stdout",
     "output_type": "stream",
     "text": [
      "meann=4.500925583117364,Delta_meann=0.0382467670860806,num_obs=16206,p_normal=0.8887600482731572\n",
      "median: 4.0 (IQR: 2.0-6.0, N=16206)\n"
     ]
    }
   ],
   "source": [
    "#print summary stats for distribution of particle numbers\n",
    "nv_values = np.array(nv_lst)\n",
    "meann,Delta_meann,num_obs,p_normal=comp_mean_bootstrap_uncertainty(nv_values)\n",
    "print(f\"{meann=},{Delta_meann=},{num_obs=},{p_normal=}\")\n",
    "median = np.median(nv_values)\n",
    "q25 = np.quantile(nv_values,0.25)\n",
    "q75 = np.quantile(nv_values,0.75)\n",
    "print(f\"median: {median} (IQR: {q25}-{q75}, N={nv_values.shape[0]})\")"
   ]
  },
  {
   "cell_type": "code",
   "execution_count": 21,
   "id": "3410532f",
   "metadata": {
    "ExecuteTime": {
     "end_time": "2025-06-12T17:46:54.696886Z",
     "start_time": "2025-06-12T17:46:54.694465Z"
    }
   },
   "outputs": [
    {
     "name": "stdout",
     "output_type": "stream",
     "text": [
      "running simulation...\n"
     ]
    }
   ],
   "source": [
    "nv_values = np.array(nv_lst)\n",
    "# np.random.choice(nv_values)\n",
    "print(f\"running simulation...\")"
   ]
  },
  {
   "cell_type": "code",
   "execution_count": 22,
   "id": "1db26f6d",
   "metadata": {
    "ExecuteTime": {
     "end_time": "2025-06-12T19:17:00.218526Z",
     "start_time": "2025-06-12T17:46:54.697738Z"
    }
   },
   "outputs": [
    {
     "name": "stdout",
     "output_type": "stream",
     "text": [
      "termination time: 0.5355 seconds (100.10% obs made) (Ninitial=2) \r"
     ]
    }
   ],
   "source": [
    "nv_lst_parti = []\n",
    "nobs_full = nv_values.shape[0]\n",
    "nobs_parti = len(nv_lst_parti)\n",
    "seed = 0\n",
    "np.random.seed(seed)\n",
    "while nobs_parti<nobs_full:\n",
    "    seed+=1\n",
    "#     Ninitial = int(np.random.choice(nv_values))\n",
    "    Ninitial = N0 # 2\n",
    "    dictt = gener_termination_time_log(seed,Ninitial=Ninitial,Nfinal=0,\n",
    "                            save_every=int(1e-2/1e-5),\n",
    "                            chi=chi,kappa=kappa, #Hz\n",
    "                            r=r, #cms\n",
    "                            varkappa=a, #cm^2/s\n",
    "                            D=D, #cm^2/s\n",
    "                            Mp = Mp, # Hz/cm^2;\n",
    "                            nup = nup,L=L,creation_duration = creation_duration, # 0.001 #s  # 0.1 #s\n",
    "                            Dt=Dt,dt=dt,use_creation=True,use_pair_create=True,use_set_created_from_existing=True)\n",
    "    t=dictt['t']\n",
    "    dict_out_lst= dictt['dict_out_lst']\n",
    "    df = pd.concat([pd.DataFrame(dict_out) for dict_out in dict_out_lst])\n",
    "    df.reset_index(inplace=True, drop=True)\n",
    "    df = df[df['n']%2==0].copy()\n",
    "    nv_lst_parti.extend(df.groupby(by='frame')['n'].max().values)\n",
    "    nobs_parti = len(nv_lst_parti)\n",
    "    print(f\"termination time: {t:.4f} seconds ({nobs_parti/nobs_full:.2%} obs made) ({Ninitial=}) \\r\", end=\"\")"
   ]
  },
  {
   "cell_type": "code",
   "execution_count": null,
   "id": "c3f7eab0",
   "metadata": {
    "ExecuteTime": {
     "start_time": "2025-06-12T17:41:49.355Z"
    }
   },
   "outputs": [],
   "source": []
  },
  {
   "cell_type": "code",
   "execution_count": 23,
   "id": "61dbab8f",
   "metadata": {
    "ExecuteTime": {
     "end_time": "2025-06-12T19:17:00.568205Z",
     "start_time": "2025-06-12T19:17:00.219341Z"
    }
   },
   "outputs": [
    {
     "data": {
      "image/png": "[encoded data removed]",
      "text/plain": [
       "<Figure size 640x480 with 1 Axes>"
      ]
     },
     "metadata": {},
     "output_type": "display_data"
    }
   ],
   "source": [
    "plt.hist(nv_lst_parti,bins=100, density=True)\n",
    "plt.yscale('log')\n",
    "plt.show()"
   ]
  },
  {
   "cell_type": "code",
   "execution_count": 24,
   "id": "1a916464",
   "metadata": {
    "ExecuteTime": {
     "end_time": "2025-06-12T19:17:01.300863Z",
     "start_time": "2025-06-12T19:17:00.569083Z"
    }
   },
   "outputs": [
    {
     "name": "stdout",
     "output_type": "stream",
     "text": [
      "-n \u0007\n",
      "-n \u0007\n",
      "-n \u0007\n"
     ]
    },
    {
     "data": {
      "text/plain": [
       "0"
      ]
     },
     "execution_count": 24,
     "metadata": {},
     "output_type": "execute_result"
    }
   ],
   "source": [
    "beep(3)"
   ]
  },
  {
   "cell_type": "code",
   "execution_count": 25,
   "id": "6f0b9a49",
   "metadata": {
    "ExecuteTime": {
     "end_time": "2025-06-12T19:17:01.398849Z",
     "start_time": "2025-06-12T19:17:01.301926Z"
    }
   },
   "outputs": [
    {
     "name": "stdout",
     "output_type": "stream",
     "text": [
      "meann=3.3226900080133146,Delta_meann=0.02789410682996014,num_obs=16223,p_normal=0.29639117034878815\n",
      "median: 2.0 (IQR: 2.0-4.0, N=16223)\n"
     ]
    }
   ],
   "source": [
    "#print summary stats for distribution of particle numbers\n",
    "nv_values_parti = np.array(nv_lst_parti)\n",
    "meann,Delta_meann,num_obs,p_normal=comp_mean_bootstrap_uncertainty(nv_values_parti)\n",
    "print(f\"{meann=},{Delta_meann=},{num_obs=},{p_normal=}\")\n",
    "median = np.median(nv_values_parti)\n",
    "q25 = np.quantile(nv_values_parti,0.25)\n",
    "q75 = np.quantile(nv_values_parti,0.75)\n",
    "print(f\"median: {median} (IQR: {q25}-{q75}, N={nv_values_parti.shape[0]})\")"
   ]
  },
  {
   "cell_type": "code",
   "execution_count": 26,
   "id": "c64158d2",
   "metadata": {
    "ExecuteTime": {
     "end_time": "2025-06-12T19:17:01.414607Z",
     "start_time": "2025-06-12T19:17:01.402545Z"
    }
   },
   "outputs": [
    {
     "data": {
      "text/plain": [
       "MannwhitneyuResult(statistic=93653632.0, pvalue=0.0)"
      ]
     },
     "execution_count": 26,
     "metadata": {},
     "output_type": "execute_result"
    }
   ],
   "source": [
    "scipy.stats.mannwhitneyu(nv_values_parti,nv_values)"
   ]
  },
  {
   "cell_type": "code",
   "execution_count": 27,
   "id": "ea069f44",
   "metadata": {
    "ExecuteTime": {
     "end_time": "2025-06-12T19:17:01.420044Z",
     "start_time": "2025-06-12T19:17:01.415275Z"
    }
   },
   "outputs": [
    {
     "data": {
      "text/plain": [
       "KstestResult(statistic=0.23567906360390228, pvalue=0.0)"
      ]
     },
     "execution_count": 27,
     "metadata": {},
     "output_type": "execute_result"
    }
   ],
   "source": [
    "scipy.stats.kstest(nv_values_parti,nv_values)"
   ]
  },
  {
   "cell_type": "markdown",
   "id": "f673c0c9",
   "metadata": {},
   "source": [
    "# repeat for FK model"
   ]
  },
  {
   "cell_type": "code",
   "execution_count": 28,
   "id": "972c6873",
   "metadata": {
    "ExecuteTime": {
     "end_time": "2025-06-12T19:17:01.423584Z",
     "start_time": "2025-06-12T19:17:01.420862Z"
    }
   },
   "outputs": [
    {
     "data": {
      "text/plain": [
       "2.9394329896907214"
      ]
     },
     "execution_count": 28,
     "metadata": {},
     "output_type": "execute_result"
    }
   ],
   "source": [
    "#LR  #<-- takes too long\n",
    "#.                      R_c_bar Mp nup                                r0\n",
    "# args=seed, Ninitial, 0, 1.25, 3.28, 0.715, chi, 75, 0.314, a, 0.42, 0.202, L, creation_duration, dt\n",
    "\n",
    "#             #FK\n",
    "#             #.                      R_c_bar Mp nup                                r0\n",
    "#             args=seed, Ninitial, 0, 0.85, 0.864, 0.230, chi, 15, 0.457, a, 0.115, 0.131, L, creation_duration, dt\n",
    "R_c_bar, Mp, nup = 0.85, 0.864, 0.230\n",
    "kappa = 15\n",
    "r = 0.457\n",
    "a = 1.552\n",
    "D = 0.115\n",
    "b = 3.01\n",
    "r0 = 0.131\n",
    "chi = map_b_to_chi(b,a)\n",
    "chi"
   ]
  },
  {
   "cell_type": "code",
   "execution_count": 29,
   "id": "6e26e1b3",
   "metadata": {
    "ExecuteTime": {
     "end_time": "2025-06-12T19:17:01.428706Z",
     "start_time": "2025-06-12T19:17:01.424385Z"
    }
   },
   "outputs": [],
   "source": [
    "printing=True\n",
    "use_save_df_to_parquet_by=True\n",
    "use_save_df_to_parquet_by=False\n",
    "#load fortranic tip positions\n",
    "nb_dir_ = '/Users/timothytyree/Documents/GitHub/care/notebooks'\n",
    "folder=f\"{nb_dir_}/Data/from_wjr/positions_fk/200x200\"\n",
    "fn = 'tippos_per_c_001'\n",
    "# folder=f\"{nb_dir_}/Data/from_wjr/positions_lr/200x200\"\n",
    "# fn = 'tippos_per_001'\n",
    "input_dir = os.path.join(folder,fn)\n",
    "log_folder_parquet=f'{folder}/positions'\n",
    "assert os.path.exists(input_dir)\n",
    "if use_save_df_to_parquet_by:\n",
    "    df_log=parse_fortranic_tip_pos(input_dir)\n",
    "    #partition df_log into a folder of tip logs\n",
    "    save_df_to_parquet_by(df_log,log_folder_parquet,by='trial_num',compression='snappy',index=None)\n",
    "    print(f\"saved to spiral tip positions to {log_folder_parquet=}\")\n",
    "    #determine width and height of the computational domain input the discretization\n",
    "    width,height=df_log.describe().loc['max'][['x','y']].values.T\n",
    "    del df_log\n",
    "else:\n",
    "    width=200\n",
    "    height=200"
   ]
  },
  {
   "cell_type": "code",
   "execution_count": 30,
   "id": "772782a8",
   "metadata": {
    "ExecuteTime": {
     "end_time": "2025-06-12T19:17:01.430822Z",
     "start_time": "2025-06-12T19:17:01.429462Z"
    }
   },
   "outputs": [],
   "source": [
    "#TODO: see if conditioning on N0=2 helps\n",
    "#heretim"
   ]
  },
  {
   "cell_type": "code",
   "execution_count": 31,
   "id": "c16ffd7f",
   "metadata": {
    "ExecuteTime": {
     "end_time": "2025-06-12T19:17:02.485062Z",
     "start_time": "2025-06-12T19:17:01.431681Z"
    }
   },
   "outputs": [
    {
     "data": {
      "text/plain": [
       "18"
      ]
     },
     "execution_count": 31,
     "metadata": {},
     "output_type": "execute_result"
    }
   ],
   "source": [
    "N0=2\n",
    "constrain_to_N0=True\n",
    "t_lst=[]\n",
    "nv_lst=[]\n",
    "np.random.seed(42)\n",
    "for fn in os.listdir(log_folder_parquet):\n",
    "    try:\n",
    "        trial_num = eval(fn.split('=')[1])\n",
    "        # load tip position data\n",
    "        g=load_parquet_by_trial_num(trial_num=trial_num,folder_parquet=log_folder_parquet)\n",
    "        n_series = g.groupby(by='t')['n'].min()\n",
    "        t0_values = n_series[n_series==N0].index.values\n",
    "        tf = n_series.index.values.max()\n",
    "        t_values = tf-t0_values\n",
    "        if len(t_values)>0:\n",
    "            #record\n",
    "            t_lst.extend(t_values)\n",
    "    #         nv = g.groupby('t')['n'].mean()[::100] #once every 100ms\n",
    "            nv = g.groupby('t')['n'].mean()[::10] #once every 10ms\n",
    "            nv = nv[nv%2==0]\n",
    "            if constrain_to_N0:\n",
    "                t0 = np.random.choice(t0_values)\n",
    "                nv = nv[nv.index.values>=t0].copy()\n",
    "            nv_lst.extend(nv)\n",
    "    except IndexError as e:\n",
    "        pass\n",
    "        #print(f\"IndexError for {fn}: {e}\")\n",
    "n_series.max()"
   ]
  },
  {
   "cell_type": "code",
   "execution_count": 32,
   "id": "45ba3c17",
   "metadata": {
    "ExecuteTime": {
     "end_time": "2025-06-12T19:17:02.729080Z",
     "start_time": "2025-06-12T19:17:02.486052Z"
    }
   },
   "outputs": [
    {
     "data": {
      "image/png": "[encoded data removed]",
      "text/plain": [
       "<Figure size 640x480 with 1 Axes>"
      ]
     },
     "metadata": {},
     "output_type": "display_data"
    }
   ],
   "source": [
    "plt.hist(nv_lst,density=True,bins=100)\n",
    "plt.show()"
   ]
  },
  {
   "cell_type": "code",
   "execution_count": 33,
   "id": "0bd23535",
   "metadata": {
    "ExecuteTime": {
     "end_time": "2025-06-12T19:17:03.679687Z",
     "start_time": "2025-06-12T19:17:02.729908Z"
    }
   },
   "outputs": [
    {
     "name": "stdout",
     "output_type": "stream",
     "text": [
      "meann=8.114300343044391,Delta_meann=0.020465343167936766,num_obs=97655,p_normal=0.5805534402402311\n",
      "median: 8.0 (IQR: 6.0-10.0, N=97655)\n"
     ]
    }
   ],
   "source": [
    "#print summary stats for distribution of particle numbers\n",
    "nv_values2 = np.array(nv_lst)\n",
    "meann,Delta_meann,num_obs,p_normal=comp_mean_bootstrap_uncertainty(nv_values2)\n",
    "print(f\"{meann=},{Delta_meann=},{num_obs=},{p_normal=}\")\n",
    "median = np.median(nv_values2)\n",
    "q25 = np.quantile(nv_values2,0.25)\n",
    "q75 = np.quantile(nv_values2,0.75)\n",
    "print(f\"median: {median} (IQR: {q25}-{q75}, N={nv_values2.shape[0]})\")"
   ]
  },
  {
   "cell_type": "code",
   "execution_count": 34,
   "id": "712e4f17",
   "metadata": {
    "ExecuteTime": {
     "end_time": "2025-06-12T22:42:01.843293Z",
     "start_time": "2025-06-12T19:17:03.680543Z"
    }
   },
   "outputs": [
    {
     "name": "stdout",
     "output_type": "stream",
     "text": [
      "termination time: 55.1821 seconds (119.74% obs made) (Ninitial=2) \r"
     ]
    }
   ],
   "source": [
    "nv_lst_parti = []\n",
    "nobs_full = nv_values.shape[0]\n",
    "nobs_parti = len(nv_lst_parti)\n",
    "seed = 0\n",
    "np.random.seed(seed)\n",
    "while nobs_parti<nobs_full:\n",
    "    seed+=1\n",
    "#     Ninitial = int(np.random.choice(nv_values))\n",
    "    Ninitial = N0 #2\n",
    "    dictt = gener_termination_time_log(seed,Ninitial=Ninitial,Nfinal=0,\n",
    "                            save_every=int(1e-2/1e-5),\n",
    "                            chi=chi,kappa=kappa, #Hz\n",
    "                            r=r, #cms\n",
    "                            varkappa=a, #cm^2/s\n",
    "                            D=D, #cm^2/s\n",
    "                            Mp = Mp, # Hz/cm^2;\n",
    "                            nup = nup,L=L,creation_duration = creation_duration, # 0.001 #s  # 0.1 #s\n",
    "                            Dt=Dt,dt=dt,use_creation=True,use_pair_create=True,use_set_created_from_existing=True)\n",
    "    t=dictt['t']\n",
    "    dict_out_lst= dictt['dict_out_lst']\n",
    "    df = pd.concat([pd.DataFrame(dict_out) for dict_out in dict_out_lst])\n",
    "    df.reset_index(inplace=True, drop=True)\n",
    "    nv_lst_parti.extend(df.groupby(by='frame')['n'].max().values)\n",
    "    nobs_parti = len(nv_lst_parti)\n",
    "    print(f\"termination time: {t:.4f} seconds ({nobs_parti/nobs_full:.2%} obs made) ({Ninitial=}) \\r\", end=\"\")"
   ]
  },
  {
   "cell_type": "code",
   "execution_count": 35,
   "id": "5d9c4df9",
   "metadata": {
    "ExecuteTime": {
     "end_time": "2025-06-12T22:42:01.997221Z",
     "start_time": "2025-06-12T22:42:01.844066Z"
    }
   },
   "outputs": [
    {
     "data": {
      "image/png": "[encoded data removed]",
      "text/plain": [
       "<Figure size 640x480 with 1 Axes>"
      ]
     },
     "metadata": {},
     "output_type": "display_data"
    }
   ],
   "source": [
    "#29.16%\n",
    "plt.hist(nv_lst_parti,bins=100, density=True)\n",
    "# plt.yscale('log')\n",
    "plt.show()"
   ]
  },
  {
   "cell_type": "code",
   "execution_count": 36,
   "id": "71049bc8",
   "metadata": {
    "ExecuteTime": {
     "end_time": "2025-06-12T22:42:02.308825Z",
     "start_time": "2025-06-12T22:42:01.998428Z"
    }
   },
   "outputs": [
    {
     "name": "stdout",
     "output_type": "stream",
     "text": [
      "meann=7.354187065189384,Delta_meann=0.04544957106217582,num_obs=19405,p_normal=0.2190647932945391\n",
      "median: 8.0 (IQR: 6.0-10.0, N=19405)\n"
     ]
    }
   ],
   "source": [
    "#print summary stats for distribution of particle numbers\n",
    "nv_values_parti2 = np.array(nv_lst_parti)\n",
    "meann,Delta_meann,num_obs,p_normal=comp_mean_bootstrap_uncertainty(nv_values_parti2)\n",
    "print(f\"{meann=},{Delta_meann=},{num_obs=},{p_normal=}\")\n",
    "median = np.median(nv_values_parti2)\n",
    "q25 = np.quantile(nv_values_parti2,0.25)\n",
    "q75 = np.quantile(nv_values_parti2,0.75)\n",
    "print(f\"median: {median} (IQR: {q25}-{q75}, N={nv_values_parti2.shape[0]})\")"
   ]
  },
  {
   "cell_type": "code",
   "execution_count": 37,
   "id": "87cf76aa",
   "metadata": {
    "ExecuteTime": {
     "end_time": "2025-06-12T22:42:02.351521Z",
     "start_time": "2025-06-12T22:42:02.309644Z"
    }
   },
   "outputs": [
    {
     "data": {
      "text/plain": [
       "MannwhitneyuResult(statistic=816319191.0, pvalue=8.511140934245036e-212)"
      ]
     },
     "execution_count": 37,
     "metadata": {},
     "output_type": "execute_result"
    }
   ],
   "source": [
    "scipy.stats.mannwhitneyu(nv_values_parti2,nv_values2)"
   ]
  },
  {
   "cell_type": "code",
   "execution_count": 38,
   "id": "d1df06ac",
   "metadata": {
    "ExecuteTime": {
     "end_time": "2025-06-12T22:42:02.376964Z",
     "start_time": "2025-06-12T22:42:02.352280Z"
    }
   },
   "outputs": [
    {
     "data": {
      "text/plain": [
       "KstestResult(statistic=0.10660192807077051, pvalue=1.2041806185984153e-160)"
      ]
     },
     "execution_count": 38,
     "metadata": {},
     "output_type": "execute_result"
    }
   ],
   "source": [
    "scipy.stats.kstest(nv_values_parti2,nv_values2)"
   ]
  },
  {
   "cell_type": "code",
   "execution_count": 39,
   "id": "e192d97b",
   "metadata": {
    "ExecuteTime": {
     "end_time": "2025-06-12T22:42:03.178883Z",
     "start_time": "2025-06-12T22:42:02.377636Z"
    }
   },
   "outputs": [
    {
     "name": "stdout",
     "output_type": "stream",
     "text": [
      "-n \u0007\n",
      "-n \u0007\n",
      "-n \u0007\n"
     ]
    },
    {
     "data": {
      "text/plain": [
       "0"
      ]
     },
     "execution_count": 39,
     "metadata": {},
     "output_type": "execute_result"
    }
   ],
   "source": [
    "beep(3)"
   ]
  },
  {
   "cell_type": "markdown",
   "id": "394ccd57",
   "metadata": {},
   "source": [
    "# save results and share with WJ"
   ]
  },
  {
   "cell_type": "code",
   "execution_count": 40,
   "id": "774897cc",
   "metadata": {
    "ExecuteTime": {
     "end_time": "2025-06-12T22:42:03.186158Z",
     "start_time": "2025-06-12T22:42:03.181624Z"
    }
   },
   "outputs": [],
   "source": [
    "# from lib.utils.yamlio import *\n",
    "def save_to_yaml(save_fn,mdict):\n",
    "    '''saves dict instance to .yaml.\n",
    "\n",
    "    Example Usage:\n",
    "documents = save_to_yaml(input_fn,mdict)\n",
    "    '''\n",
    "    with open(save_fn, 'w') as file:\n",
    "        documents = yaml.dump(mdict, file)\n",
    "        return documents\n",
    "        #return os.path.abspath(input_fn)"
   ]
  },
  {
   "cell_type": "code",
   "execution_count": 41,
   "id": "c9a95357",
   "metadata": {
    "ExecuteTime": {
     "end_time": "2025-06-12T22:42:03.202193Z",
     "start_time": "2025-06-12T22:42:03.188143Z"
    }
   },
   "outputs": [],
   "source": [
    "# save_to_mat\n",
    "# save_\n",
    "out = dict(\n",
    "    n_fk = list(nv_values2),\n",
    "    n_fk_lpm = list(nv_values_parti2),\n",
    "    n_lr = list(nv_values),\n",
    "    n_lr_lpm = list(nv_values_parti),\n",
    ") "
   ]
  },
  {
   "cell_type": "code",
   "execution_count": 42,
   "id": "01c16f80",
   "metadata": {
    "ExecuteTime": {
     "end_time": "2025-06-12T22:42:03.206442Z",
     "start_time": "2025-06-12T22:42:03.204538Z"
    }
   },
   "outputs": [],
   "source": [
    "# save_fn = f\"{nb_dir}/data/local_results/creation_n_distrib.yaml\"\n",
    "# save_fn = f\"{nb_dir}/data/local_results/creation_n_distrib_c.yaml\"\n",
    "save_fn = f\"{nb_dir}/data/local_results/creation_n_distrib_c_N0_2.yaml\""
   ]
  },
  {
   "cell_type": "code",
   "execution_count": 43,
   "id": "f2a8af2c",
   "metadata": {
    "ExecuteTime": {
     "end_time": "2025-06-12T22:42:03.210046Z",
     "start_time": "2025-06-12T22:42:03.207308Z"
    }
   },
   "outputs": [
    {
     "data": {
      "text/plain": [
       "False"
      ]
     },
     "execution_count": 43,
     "metadata": {},
     "output_type": "execute_result"
    }
   ],
   "source": [
    "# save_to_yaml(save_fn,out)\n",
    "os.path.exists(save_fn)"
   ]
  },
  {
   "cell_type": "code",
   "execution_count": 44,
   "id": "db0c49cb",
   "metadata": {
    "ExecuteTime": {
     "end_time": "2025-06-12T22:42:03.233804Z",
     "start_time": "2025-06-12T22:42:03.210966Z"
    }
   },
   "outputs": [
    {
     "data": {
      "text/plain": [
       "'/Users/timothytyree/Documents/GitHub/bgmc/python/data/local_results/creation_n_distrib_c_N0_2.mat'"
      ]
     },
     "execution_count": 44,
     "metadata": {},
     "output_type": "execute_result"
    }
   ],
   "source": [
    "save_to_mat(save_fn.replace('.yaml','.mat'),out)"
   ]
  }
 ],
 "metadata": {
  "kernelspec": {
   "display_name": "Python 3 (ipykernel)",
   "language": "python",
   "name": "python3"
  },
  "language_info": {
   "codemirror_mode": {
    "name": "ipython",
    "version": 3
   },
   "file_extension": ".py",
   "mimetype": "text/x-python",
   "name": "python",
   "nbconvert_exporter": "python",
   "pygments_lexer": "ipython3",
   "version": "3.9.5"
  },
  "toc": {
   "base_numbering": 1,
   "nav_menu": {},
   "number_sections": true,
   "sideBar": true,
   "skip_h1_title": false,
   "title_cell": "Table of Contents",
   "title_sidebar": "Contents",
   "toc_cell": false,
   "toc_position": {},
   "toc_section_display": true,
   "toc_window_display": false
  }
 },
 "nbformat": 4,
 "nbformat_minor": 5
}
