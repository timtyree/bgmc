{
 "cells": [
  {
   "cell_type": "markdown",
   "metadata": {},
   "source": [
    "# animating a single particle trial\n",
    "Tim Tyree<br>\n",
    "6.8.2021"
   ]
  },
  {
   "cell_type": "code",
   "execution_count": 1,
   "metadata": {
    "ExecuteTime": {
     "end_time": "2023-06-01T17:39:36.243444Z",
     "start_time": "2023-06-01T17:39:32.812974Z"
    }
   },
   "outputs": [
    {
     "name": "stderr",
     "output_type": "stream",
     "text": [
      "/Users/timothytyree/opt/miniconda3/envs/pyenv/lib/python3.9/site-packages/statsmodels/compat/pandas.py:61: FutureWarning: pandas.Int64Index is deprecated and will be removed from pandas in a future version. Use pandas.Index with the appropriate dtype instead.\n",
      "  from pandas import Int64Index as NumericIndex\n"
     ]
    }
   ],
   "source": [
    "from lib.my_initialization import *\n",
    "from lib.utils.pbc import *\n",
    "import shutil"
   ]
  },
  {
   "cell_type": "code",
   "execution_count": 2,
   "metadata": {
    "ExecuteTime": {
     "end_time": "2023-06-01T17:39:36.426467Z",
     "start_time": "2023-06-01T17:39:36.246774Z"
    }
   },
   "outputs": [],
   "source": [
    "from numpy.random import MT19937\n",
    "from numpy.random import RandomState, SeedSequence\n",
    "# seed=123456789#for original movie suite\n",
    "seed=1\n",
    "#random number stream A\n",
    "rs = RandomState(MT19937(SeedSequence(seed)))\n",
    "#random number stream B\n",
    "# rs = RandomState(MT19937(SeedSequence(987654321)))\n",
    "\n",
    "#get distance metric\n",
    "distance_L2_pbc=get_distance_L2_pbc(width=1,height=1)\n",
    "np.random.seed(seed)"
   ]
  },
  {
   "cell_type": "markdown",
   "metadata": {},
   "source": [
    "# define module"
   ]
  },
  {
   "cell_type": "code",
   "execution_count": 3,
   "metadata": {
    "ExecuteTime": {
     "end_time": "2023-06-01T17:39:36.433999Z",
     "start_time": "2023-06-01T17:39:36.428193Z"
    }
   },
   "outputs": [],
   "source": [
    "# @njit\n",
    "def format_particles(frameno,t,x_values,y_values,pid_values,round_t_to_n_decimals=5):\n",
    "    n_tips = x_values.shape[0]\n",
    "    dict_out = {\n",
    "        'frame':frameno,\n",
    "        't': np.around(t,round_t_to_n_decimals),\n",
    "        'n': n_tips,\n",
    "        'x': x_values,\n",
    "        'y': y_values,\n",
    "        'particle':pid_values,\n",
    "    }\n",
    "    return dict_out\n",
    "\n",
    "from numba import jit,njit\n",
    "@njit\n",
    "def normalRandom():\n",
    "    return np.random.normal()\n",
    "\n",
    "@njit\n",
    "def uniformRandom():\n",
    "    return np.random.uniform(0,1)\n",
    "# normalRandom(),uniformRandom()\n",
    "\n",
    "@njit\n",
    "def levyRandom2D(alpha):\n",
    "    th = 2*np.pi*np.random.uniform(0,1)\n",
    "    ul = np.random.uniform(0,1)**(-1./alpha)\n",
    "    dWx = ul*np.cos(th)\n",
    "    dWy = ul*np.sin(th)\n",
    "    return np.array([dWx,dWy])\n",
    "# dWx,dWy = stepscale*levyRandom2D(alpha)\n",
    "# dWx,dWy "
   ]
  },
  {
   "cell_type": "code",
   "execution_count": 4,
   "metadata": {
    "ExecuteTime": {
     "end_time": "2023-06-01T17:39:36.439149Z",
     "start_time": "2023-06-01T17:39:36.436180Z"
    }
   },
   "outputs": [],
   "source": [
    "# np.random.uniform(0,1)"
   ]
  },
  {
   "cell_type": "code",
   "execution_count": 5,
   "metadata": {
    "ExecuteTime": {
     "end_time": "2023-06-01T17:39:36.443012Z",
     "start_time": "2023-06-01T17:39:36.440881Z"
    }
   },
   "outputs": [],
   "source": [
    "#DONE: dev function that returns a list of x coordinates and a list of y coordinates\n",
    "#DONE: make a dict_out\n",
    "# levyRandom2D(alpha)"
   ]
  },
  {
   "cell_type": "code",
   "execution_count": 6,
   "metadata": {
    "ExecuteTime": {
     "end_time": "2023-06-01T17:39:36.447253Z",
     "start_time": "2023-06-01T17:39:36.444915Z"
    }
   },
   "outputs": [],
   "source": [
    "#Scrum 6.8.2021\n",
    "#DONE: plot all particle positions with this ic.  \n",
    "#DONE: translate monte carlo into python\n",
    "#DONE: make a movie for simplest case up to time tmax=1\n",
    "#DONE: repeat with each attractive force between all particles \n",
    "#DONE: repeat with explicitely uniform ic.\n",
    "#DONE: repeat with each attractive force between all particles\n",
    "\n",
    "#Scrum 7.1.2021\n",
    "#TODO(later): add force_code for small, constant repulsive force plus inverse powerlaw attractive force\n",
    "#DONE: add option to generate tip log using particle model with 1/r force \n",
    "#TODO(later): copy estimates for force between particles from the full models (LR and FK)\n",
    "#TODO(later): generate particle tip log for FK model. save as .csv\n",
    "#TODO(later): generate particle tip log for LR model. save as .csv"
   ]
  },
  {
   "cell_type": "markdown",
   "metadata": {},
   "source": [
    "# generate video"
   ]
  },
  {
   "cell_type": "code",
   "execution_count": 67,
   "metadata": {
    "ExecuteTime": {
     "end_time": "2023-06-01T22:54:30.373252Z",
     "start_time": "2023-06-01T22:54:30.367306Z"
    }
   },
   "outputs": [],
   "source": [
    "N=150\n",
    "Nfinal=6 #~1m run time\n",
    "Nfinal=0\n",
    "L=5\n",
    "# L=10\n",
    "np.random.seed(42)\n",
    "x_values=rs.uniform(size=N)*L\n",
    "y_values=rs.uniform(size=N)*L\n",
    "t=0"
   ]
  },
  {
   "cell_type": "code",
   "execution_count": 68,
   "metadata": {
    "ExecuteTime": {
     "end_time": "2023-06-01T22:54:31.286948Z",
     "start_time": "2023-06-01T22:54:31.282576Z"
    }
   },
   "outputs": [
    {
     "data": {
      "text/plain": [
       "RandomState(MT19937) at 0x7FB4870AE440"
      ]
     },
     "execution_count": 68,
     "metadata": {},
     "output_type": "execute_result"
    }
   ],
   "source": [
    "rs"
   ]
  },
  {
   "cell_type": "code",
   "execution_count": 69,
   "metadata": {
    "ExecuteTime": {
     "end_time": "2023-06-01T22:54:31.845854Z",
     "start_time": "2023-06-01T22:54:31.841179Z"
    }
   },
   "outputs": [],
   "source": [
    "use_uniform_ic=True\n",
    "use_uniform_ic=False\n",
    "if use_uniform_ic:\n",
    "    Nrow=4\n",
    "#     Nrow=10\n",
    "    #explicitely uniform ic.\n",
    "    uvals=np.linspace(0,L*Nrow/(Nrow+1),Nrow)\n",
    "    x_values,y_values=np.meshgrid(uvals,uvals)\n",
    "    x_values=x_values.flatten()+L/(2*(Nrow+1))\n",
    "    y_values=y_values.flatten()+L/(2*(Nrow+1))\n",
    "    #explicitely enter ^these values in my c simulation and run it\n",
    "    N = x_values.shape[0]"
   ]
  },
  {
   "cell_type": "code",
   "execution_count": 70,
   "metadata": {
    "ExecuteTime": {
     "end_time": "2023-06-01T22:54:32.654670Z",
     "start_time": "2023-06-01T22:54:32.582050Z"
    }
   },
   "outputs": [
    {
     "data": {
      "image/png": "[encoded data removed]",
      "text/plain": [
       "<Figure size 432x432 with 1 Axes>"
      ]
     },
     "metadata": {
      "needs_background": "light"
     },
     "output_type": "display_data"
    }
   ],
   "source": [
    "#return a scatter plot that may be saved as png\n",
    "annotating=True\n",
    "message='initial positions'\n",
    "fig=ScatterPlotSnapshot(x_values,y_values,t,width=L,height=L,\n",
    "                        annotating=annotating,message=message,inch=6)\n",
    "plt.show()"
   ]
  },
  {
   "cell_type": "code",
   "execution_count": 71,
   "metadata": {
    "ExecuteTime": {
     "end_time": "2023-06-01T22:54:34.391717Z",
     "start_time": "2023-06-01T22:54:33.253788Z"
    }
   },
   "outputs": [],
   "source": [
    "#for snapshot output\n",
    "save_folder=f\"{nb_dir}/Figures/mov\"\n",
    "if os.path.exists(save_folder):\n",
    "    #cleanse the old snapshot folder\n",
    "    shutil.rmtree(save_folder)\n",
    "os.mkdir(save_folder)\n",
    "    \n",
    "frameno=1\n",
    "save_fn=None\n",
    "inch=6\n",
    "annotating=True\n",
    "\n",
    "# message='without forces'\n",
    "# force_code=0\n",
    "# varkappa=0\n",
    "# message='with anti-spring forces'\n",
    "# force_code=1\n",
    "# varkappa=-5\n",
    "message='with inverse powerlaw forces'\n",
    "force_code=2\n",
    "# varkappa=1.552"
   ]
  },
  {
   "cell_type": "code",
   "execution_count": 72,
   "metadata": {
    "ExecuteTime": {
     "end_time": "2023-06-01T22:58:38.535338Z",
     "start_time": "2023-06-01T22:54:34.395962Z"
    }
   },
   "outputs": [
    {
     "name": "stdout",
     "output_type": "stream",
     "text": [
      "running simulation...\n",
      "simulation complete!\n"
     ]
    }
   ],
   "source": [
    "#define model parameters\n",
    "# #FK\n",
    "# r=0.7 #cm \n",
    "# varkappa=1.552 #cm^2/s\n",
    "# D=0.115 #cm^2/s\n",
    "# # save_every=25\n",
    "# save_every=5\n",
    "# # save_every=1 #45 min\n",
    "\n",
    "#LR\n",
    "r=0.5 #cm \n",
    "varkappa=9.3 #cm^2/s\n",
    "D=0.42 #cm^2/s\n",
    "save_every=5 \n",
    "# save_every=1\n",
    "# save_every=1000000000\n",
    "# varkappa=0 #no attraction\n",
    "\n",
    "kappa=1e5 #Hz\n",
    "Dt=1e-5;dt=1e-5\n",
    "# tmax=500\n",
    "tmax=1 #s\n",
    "\n",
    "#for forces\n",
    "x0=5\n",
    "# no_repulsion=1\n",
    "# no_attraction=1\n",
    "no_repulsion=0\n",
    "no_attraction=0\n",
    "seed=123456789\n",
    "#skipping reflect,set_second, and neighbor functionality\n",
    "\n",
    "#define constants\n",
    "alpha=1. #ballistic\n",
    "alpha=2. #diffusive\n",
    "# alpha=1.5 #levy-esque\n",
    "# message=f'with {alpha=}'\n",
    "message=' '\n",
    "stepscale=np.sqrt(2*D*Dt) #diffusive\n",
    "# stepscale=(2*D*Dt)**(1/alpha)\n",
    "probreact=kappa*dt\n",
    "T_net=0;count_net=0\n",
    "np.random.seed(seed)\n",
    "dist_cutoff=1e-2\n",
    "iter_per_movestep = round(Dt/dt)\n",
    "impulse_prefactor= varkappa * Dt\n",
    "tiarray=np.zeros(N)\n",
    "tfarray=np.zeros(N)\n",
    "epsilon=5e-2  #reactions happen\n",
    "# epsilon=5e-4  #reactions happen?\n",
    "#heretim\n",
    "#for csv output\n",
    "# data_folder=f\"{nb_dir}/data/local_results/collision_test\"\n",
    "data_folder=f\"{nb_dir}/data/local_results/levy_test\"\n",
    "if not os.path.exists(data_folder):\n",
    "    os.mkdir(data_folder)\n",
    "data_folder=data_folder+\"/Log\"\n",
    "if not os.path.exists(data_folder):\n",
    "    os.mkdir(data_folder)\n",
    "data_fn=f\"pbc_seed_{seed}_fc_{force_code}_r_{r}_D_{D}_L_{L}_kappa_{kappa}_varkappa_{varkappa}_alpha_{alpha}_log.csv\"\n",
    "\n",
    "step=0\n",
    "recording_locations=True\n",
    "recording_snapshots=True\n",
    "# recording_locations=False\n",
    "# recording_snapshots=False\n",
    "print(\"running simulation...\");\n",
    "t=-Dt\n",
    "# still_running=True;\n",
    "exit_code=-1;T=-9999.\n",
    "#initialize positions\n",
    "# #uniform random ic\n",
    "# x_values=rs.uniform(size=N)*L\n",
    "# y_values=rs.uniform(size=N)*L\n",
    "# #explicitely uniform ic\n",
    "# uvals=np.linspace(0,L,5)\n",
    "# x_values,y_values=np.meshgrid(uvals,uvals)\n",
    "# x_values=x_values.flatten()\n",
    "# y_values=y_values.flatten()\n",
    "\n",
    "#lower case: world coordinates\n",
    "#upper case: material coordinates\n",
    "x=x_values.copy()\n",
    "y=y_values.copy()\n",
    "x_old=x_values.copy()\n",
    "y_old=y_values.copy()\n",
    "x_new=x_values.copy()\n",
    "y_new=y_values.copy()\n",
    "X=x_values.copy()\n",
    "Y=y_values.copy()\n",
    "X_old=x_values.copy()\n",
    "Y_old=y_values.copy()\n",
    "X_new=x_values.copy()\n",
    "Y_new=y_values.copy()\n",
    "zeros=np.zeros_like(x_values)\n",
    "zerosint=np.zeros_like(x_values).astype('int')\n",
    "still_running=zerosint==zerosint\n",
    "caught=zerosint.copy()-9999#!=zerosint\n",
    "# //start set_second kernel\n",
    "# //end set_second kernel\n",
    "#make still_running into still_running_values\n",
    "dict_out_lst=[]\n",
    "# while(still_running.any()):\n",
    "while(still_running.sum()>Nfinal):\n",
    "    # //reinitialize_kernel, which copies X,Y_new to X,Y_old\n",
    "    min_dist_old=zeros+9999999\n",
    "    i_neighbor=zerosint-1\n",
    "    x_old=x_new\n",
    "    y_old=y_new\n",
    "    t=t+Dt;\n",
    "    # reset the net forces\n",
    "    Fx_net=zeros.copy()\n",
    "    Fy_net=zeros.copy()\n",
    "    #sum_each_force_kernel\n",
    "    for i in range(N):\n",
    "        if(still_running[i]):\n",
    "            for j in range(i+1,N):\n",
    "                if(still_running[j]):\n",
    "                    #compute displacement vector with pbc\n",
    "                    dx = subtract_pbc_1d(x_old[j],x_old[i],L);\n",
    "                    dy = subtract_pbc_1d(y_old[j],y_old[i],L);\n",
    "                    dist2=dx*dx+dy*dy;\n",
    "                    if (dist2<1e-8):\n",
    "                        dist2=float(1e-8)\n",
    "                    dist = np.sqrt(dist2)\n",
    "                    #compute displacement due to drift\n",
    "                    impulse_factor=0.\n",
    "                    if (force_code==1):\n",
    "                      #spring\n",
    "                      impulse_factor=impulse_prefactor*(dist-x0)/dist;\n",
    "                    if (force_code==2):\n",
    "                      #QED2: force ~ inverse power law\n",
    "                      impulse_factor=impulse_prefactor/dist2;\n",
    "                    if (force_code==3):\n",
    "                      #QED3: force ~ inverse square power law\n",
    "                      impulse_factor=impulse_prefactor/dist2/dist;\n",
    "                    #set impulse_factor to zero if it is explicitly forbidden by the user input\n",
    "                    if ((no_attraction==1) & (impulse_factor>0)):\n",
    "                        impulse_factor=0.\n",
    "                    if ((no_repulsion==1) & (impulse_factor<0)):\n",
    "                        impulse_factor=0.\n",
    "                    #sum Fx_net, Fy_net according to a symplectic (momentum conserving) integrator\n",
    "                    Fx_net[i]=Fx_net[i]+dx*impulse_factor;\n",
    "                    Fy_net[i]=Fy_net[i]+dy*impulse_factor;\n",
    "                    Fx_net[j]=Fx_net[j]-dx*impulse_factor;\n",
    "                    Fy_net[j]=Fy_net[j]-dy*impulse_factor                    \n",
    "                    #determine if they are closer than epsilon\n",
    "                    if dist<epsilon:\n",
    "                        #remove if they are\n",
    "                        still_running[i]=False\n",
    "                        still_running[j]=False\n",
    "                        #heretim\n",
    "                        uncatch_set=set()\n",
    "                        if caught[i]>=0: \n",
    "                            uncatch_set.update([caught[i]])\n",
    "                            if caught[caught[i]]>=0:\n",
    "                                uncatch_set.update([caught[caught[i]]])\n",
    "                        if caught[j]>=0: \n",
    "                            uncatch_set.update([caught[j]])\n",
    "                            if caught[caught[j]]>=0:\n",
    "                                uncatch_set.update([caught[caught[j]]])\n",
    "                        if len(uncatch_set)>0:\n",
    "                            for k in uncatch_set:\n",
    "                                caught[k]=-9999\n",
    "    #compute the one_step given the net force, F_net\n",
    "    for i in range(N):\n",
    "        if(still_running[i]):\n",
    "            if caught[i]<0:\n",
    "                dxt=Fx_net[i];\n",
    "                dyt=Fy_net[i];\n",
    "                # compute displacement due to levy flight\n",
    "                dxW,dyW = stepscale*levyRandom2D(alpha)\n",
    "                # next spatial position, time integrating by a duration, Dt. enforce PBC.\n",
    "                x_new[i]=periodic(x_old[i]+dxW+dxt,L);\n",
    "                y_new[i]=periodic(y_old[i]+dyW+dyt,L);\n",
    "            else:\n",
    "                j=caught[i]\n",
    "                ti=tiarray[i]\n",
    "                tf=tfarray[i]            \n",
    "                #compute displacement vector with pbc\n",
    "                dx = subtract_pbc_1d(x_old[j],x_old[i],L)\n",
    "                dy = subtract_pbc_1d(y_old[j],y_old[i],L)      \n",
    "                xl = dx - (x_old[j]-x_old[i])\n",
    "                yl = dy - (y_old[j]-y_old[i])\n",
    "                #compute average location\n",
    "                xavg = x_old[i] + 0.5*dx \n",
    "                yavg = y_old[i] + 0.5*dy\n",
    "                #compute frac to interpolate by\n",
    "                frac = (t-ti)/(tf-ti)\n",
    "                frac = np.min((1,frac))\n",
    "                x_new[i] = periodic(x_old[i]*(1-frac) + (xavg+xl)*frac,L)\n",
    "                y_new[i] = periodic(y_old[i]*(1-frac) + (yavg+yl)*frac,L)\n",
    "    #reaction_kernel\n",
    "    for i in range(N):\n",
    "        if(still_running[i]&(caught[i]<0)):\n",
    "            # // each i,j pair is reached once per call to kernel_measure\n",
    "            for j in range(i+1,N):\n",
    "                if(still_running[j]&(caught[j]<0)):\n",
    "                    # // compute distance between particles that are still running\n",
    "                    dist=dist_pbc(x_new[i],y_new[i],x_new[j],y_new[j],L);\n",
    "                    in_range=dist<r;\n",
    "                    # // in_range=true;//uncomment for smeared method\n",
    "                    # // if two particles are in range\n",
    "                    if(in_range):\n",
    "                        # // determine whether those two particles react via the simple method\n",
    "                        reacts=probreact>uniformRandom();\n",
    "                        # // determine whether those two particles react via the smeared method\n",
    "                        # // sig=sigmoid(dist, r, beta);\n",
    "                        # // reacts=probreact*sig>uniformRandom();\n",
    "                        if(reacts):\n",
    "                            exit_code=1;\n",
    "                            T=t;\n",
    "#                             still_running[i]=False;\n",
    "#                             still_running[j]=False;\n",
    "                            #uncatch any previous catches\n",
    "                            if caught[i]>=0: caught[caught[i]]=-9999\n",
    "                            if caught[j]>=0: caught[caught[j]]=-9999\n",
    "                            #catch these two\n",
    "                            caught[i]=j;\n",
    "                            caught[j]=i;\n",
    "                            #determine deltat\n",
    "                            deltat = dist**2/(4*(varkappa+2*D))\n",
    "                            #determine ti,tf\n",
    "                            tiarray[i]=t\n",
    "                            tfarray[i]=t+deltat\n",
    "                            tiarray[j]=t\n",
    "                            tfarray[j]=t+deltat\n",
    "    if step%save_every==0:\n",
    "        x_plot=x_new[still_running]\n",
    "        y_plot=y_new[still_running]\n",
    "        c_plot = np.array(['gray']*y_plot.shape[0])\n",
    "        caugh=caught[still_running]\n",
    "        for i in range(y_plot.shape[0]):\n",
    "            if caugh[i]>=0:\n",
    "                c_plot[i]='r'\n",
    "        if recording_snapshots:\n",
    "            #save result as png\n",
    "            SaveScatterPlotSnapshot(x_plot,y_plot,t,\n",
    "                                    c=c_plot,\n",
    "                                    width=L,height=L,\n",
    "                            frameno=frameno,save_folder=save_folder,\n",
    "                            annotating=annotating,message=message)\n",
    "#             print(f\"- saved pic at {frameno=}\")\n",
    "        if (recording_locations)&(x_plot.shape[0]>0):\n",
    "            pid_values = np.arange(x_values.shape[0])[still_running]\n",
    "            #append particle locations to log, dict_out_lst\n",
    "            dict_out=format_particles(frameno,t,x_plot,y_plot,pid_values=pid_values)\n",
    "            dict_out_lst.append(dict_out)\n",
    "    \n",
    "        frameno+=1\n",
    "\n",
    "    #shut simulation down if it's taking too long...\n",
    "    if (t>tmax):\n",
    "        for i in range(N):\n",
    "            still_running[i]=False;\n",
    "            exit_code=-99;\n",
    "    \n",
    "    step+=1\n",
    "    #end while running\n",
    "    \n",
    "#record this trial\n",
    "if (exit_code>0):\n",
    "    if (T>0.):\n",
    "        T_net=T_net+T;\n",
    "        count_net=count_net+1;\n",
    "    \n",
    "print(f\"simulation complete!\")"
   ]
  },
  {
   "cell_type": "code",
   "execution_count": 73,
   "metadata": {
    "ExecuteTime": {
     "end_time": "2023-06-01T23:19:33.560218Z",
     "start_time": "2023-06-01T23:19:33.554944Z"
    }
   },
   "outputs": [
    {
     "data": {
      "text/plain": [
       "150"
      ]
     },
     "execution_count": 73,
     "metadata": {},
     "output_type": "execute_result"
    }
   ],
   "source": [
    "N"
   ]
  },
  {
   "cell_type": "code",
   "execution_count": null,
   "metadata": {},
   "outputs": [],
   "source": []
  },
  {
   "cell_type": "code",
   "execution_count": 74,
   "metadata": {
    "ExecuteTime": {
     "end_time": "2023-06-01T23:19:34.391364Z",
     "start_time": "2023-06-01T23:19:34.388799Z"
    }
   },
   "outputs": [],
   "source": [
    "# epsilon=0.05; #cm # distance removals happen at\n",
    "# epsilon=5e-4  #reactions happen?\n"
   ]
  },
  {
   "cell_type": "code",
   "execution_count": 75,
   "metadata": {
    "ExecuteTime": {
     "end_time": "2023-06-01T23:19:34.640782Z",
     "start_time": "2023-06-01T23:19:34.635910Z"
    }
   },
   "outputs": [],
   "source": [
    "#TODO(later): njit the whole function"
   ]
  },
  {
   "cell_type": "code",
   "execution_count": 76,
   "metadata": {
    "ExecuteTime": {
     "end_time": "2023-06-01T23:19:37.501232Z",
     "start_time": "2023-06-01T23:19:34.786658Z"
    }
   },
   "outputs": [
    {
     "name": "stdout",
     "output_type": "stream",
     "text": [
      "saved to:\n",
      "/Users/timothytyree/Documents/GitHub/bgmc/python/data/local_results/levy_test/Log/pbc_seed_123456789_fc_2_r_0.5_D_0.42_L_5_kappa_100000.0_varkappa_9.3_alpha_2.0_log.csv\n"
     ]
    }
   ],
   "source": [
    "#save particle locations as csv\n",
    "saving=recording_locations\n",
    "# saving=False\n",
    "printing=True\n",
    "df = pd.concat([pd.DataFrame(dict_out) for dict_out in dict_out_lst])\n",
    "df.reset_index(inplace=True, drop=True)\n",
    "if saving:\n",
    "    #save the recorded data\n",
    "    os.chdir(data_folder)\n",
    "    df.to_csv(data_fn, index=False)\n",
    "    if printing:\n",
    "        print('saved to:')\n",
    "        print(os.path.abspath(data_fn))\n",
    "    #     #if the end of AF was indeed reachded, append a row recording this\n",
    "    #     if n_tips==0:\n",
    "    #         next_id = df.index.values[-1]+1\n",
    "    #         df = pd.concat([df,pd.DataFrame({'t': float(save_every_n_frames*h+t),'n': int(n_tips)}, index = [next_id])])\n",
    "    #save the recorded data\n",
    "#     #     df.round(round_output_decimals).to_csv(data_dir_log, index=False)\n",
    "#     if printing:\n",
    "#         print('saved to:')\n",
    "#         print(data_dir_log)"
   ]
  },
  {
   "cell_type": "code",
   "execution_count": 77,
   "metadata": {
    "ExecuteTime": {
     "end_time": "2023-06-01T23:19:37.935450Z",
     "start_time": "2023-06-01T23:19:37.503847Z"
    }
   },
   "outputs": [
    {
     "name": "stdout",
     "output_type": "stream",
     "text": [
      "-n \u0007\n",
      "-n \u0007\n"
     ]
    },
    {
     "data": {
      "text/plain": [
       "0"
      ]
     },
     "execution_count": 77,
     "metadata": {},
     "output_type": "execute_result"
    }
   ],
   "source": [
    "beep(2)"
   ]
  },
  {
   "cell_type": "code",
   "execution_count": 78,
   "metadata": {
    "ExecuteTime": {
     "end_time": "2023-06-01T23:19:37.950233Z",
     "start_time": "2023-06-01T23:19:37.940609Z"
    }
   },
   "outputs": [
    {
     "name": "stdout",
     "output_type": "stream",
     "text": [
      "/Users/timothytyree/Documents/GitHub/bgmc/python/data/local_results/levy_test/Log/pbc_seed_123456789_fc_2_r_0.5_D_0.42_L_5_kappa_100000.0_varkappa_9.3_alpha_2.0_log.csv\n"
     ]
    }
   ],
   "source": [
    "#TODO: wrap all this into a functional routine\n",
    "#TODO: generate a folder of tip logs with fixed parameters and variable seed\n",
    "#TODO(option 1): copy ^these logs to care.  compute trajectories.\n",
    "#TODO(option 2): copy method to compute trajectories from care\n",
    "#TODO: compute mean dRdt versus R in the last few milliseconds before annihilation. plot.\n",
    "#TODO: p\n",
    "#TODO(option 2): \n",
    "print(os.path.abspath(data_fn))"
   ]
  },
  {
   "cell_type": "code",
   "execution_count": null,
   "metadata": {
    "ExecuteTime": {
     "start_time": "2023-06-01T23:19:35.844Z"
    }
   },
   "outputs": [
    {
     "name": "stderr",
     "output_type": "stream",
     "text": [
      "ffmpeg version 5.1.2 Copyright (c) 2000-2022 the FFmpeg developers\n",
      "  built with Apple clang version 14.0.0 (clang-1400.0.29.202)\n",
      "  configuration: --prefix=/usr/local/Cellar/ffmpeg/5.1.2_6 --enable-shared --enable-pthreads --enable-version3 --cc=clang --host-cflags= --host-ldflags= --enable-ffplay --enable-gnutls --enable-gpl --enable-libaom --enable-libaribb24 --enable-libbluray --enable-libdav1d --enable-libmp3lame --enable-libopus --enable-librav1e --enable-librist --enable-librubberband --enable-libsnappy --enable-libsrt --enable-libsvtav1 --enable-libtesseract --enable-libtheora --enable-libvidstab --enable-libvmaf --enable-libvorbis --enable-libvpx --enable-libwebp --enable-libx264 --enable-libx265 --enable-libxml2 --enable-libxvid --enable-lzma --enable-libfontconfig --enable-libfreetype --enable-frei0r --enable-libass --enable-libopencore-amrnb --enable-libopencore-amrwb --enable-libopenjpeg --enable-libspeex --enable-libsoxr --enable-libzmq --enable-libzimg --disable-libjack --disable-indev=jack --enable-videotoolbox\n",
      "  libavutil      57. 28.100 / 57. 28.100\n",
      "  libavcodec     59. 37.100 / 59. 37.100\n",
      "  libavformat    59. 27.100 / 59. 27.100\n",
      "  libavdevice    59.  7.100 / 59.  7.100\n",
      "  libavfilter     8. 44.100 /  8. 44.100\n",
      "  libswscale      6.  7.100 /  6.  7.100\n",
      "  libswresample   4.  7.100 /  4.  7.100\n",
      "  libpostproc    56.  6.100 / 56.  6.100\n",
      "Input #0, image2, from '../../python/Figures/mov/img%07d.png':\n",
      "  Duration: 00:03:10.08, start: 0.000000, bitrate: N/A\n",
      "  Stream #0:0: Video: png, rgba(pc), 558x549 [SAR 4724:4724 DAR 62:61], 25 fps, 25 tbr, 25 tbn\n",
      "Stream mapping:\n",
      "  Stream #0:0 -> #0:0 (png (native) -> h264 (libx264))\n",
      "Press [q] to stop, [?] for help\n",
      "[libx264 @ 0x7fb269905b80] using SAR=1223/1225\n",
      "[libx264 @ 0x7fb269905b80] using cpu capabilities: MMX2 SSE2Fast SSSE3 SSE4.2 AVX FMA3 BMI2 AVX2\n",
      "[libx264 @ 0x7fb269905b80] profile High, level 3.2, 4:2:0, 8-bit\n",
      "Output #0, mpegts, to '../mov/tmp/tmp.MTS':\n",
      "  Metadata:\n",
      "    encoder         : Lavf59.27.100\n",
      "  Stream #0:0: Video: h264, yuv420p(tv, progressive), 1280x720 [SAR 44640:44713 DAR 79360:44713], q=2-31, 60 fps, 90k tbn\n",
      "    Metadata:\n",
      "      encoder         : Lavc59.37.100 libx264\n",
      "    Side data:\n",
      "      cpb: bitrate max/min/avg: 0/0/0 buffer size: 0 vbv_delay: N/A\n",
      "frame= 4164 fps=201 q=31.0 size=    1280kB time=00:01:08.41 bitrate= 153.3kbits/s speed= 3.3x     \r"
     ]
    }
   ],
   "source": [
    "#concatenate the folder of .png files\n",
    "os.chdir(f'{nb_dir}/../vid/src')\n",
    "os.system(f'./concat_folder_png.sh');"
   ]
  },
  {
   "cell_type": "code",
   "execution_count": null,
   "metadata": {},
   "outputs": [],
   "source": []
  },
  {
   "cell_type": "code",
   "execution_count": null,
   "metadata": {
    "ExecuteTime": {
     "start_time": "2023-06-01T23:19:36.324Z"
    }
   },
   "outputs": [],
   "source": [
    "#return a scatter plot that may be saved as png\n",
    "annotating=True\n",
    "message='final positions'\n",
    "fig=ScatterPlotSnapshot(x_new,y_new,t,width=L,height=L,\n",
    "                        annotating=annotating,message=message,inch=6)\n",
    "plt.show()"
   ]
  },
  {
   "cell_type": "code",
   "execution_count": null,
   "metadata": {
    "ExecuteTime": {
     "start_time": "2023-06-01T23:19:36.544Z"
    }
   },
   "outputs": [],
   "source": [
    "os.system(f'open {nb_dir}/../vid/mov/out.mov')"
   ]
  },
  {
   "cell_type": "code",
   "execution_count": null,
   "metadata": {
    "ExecuteTime": {
     "start_time": "2023-06-01T23:19:36.886Z"
    }
   },
   "outputs": [],
   "source": [
    "#Q: why aren't I seeing them pull together slowly?\n",
    "print(f'annihilation duration: {deltat/dt=:.0f} steps')\n",
    "print(f'annihilation duration: {deltat/dt/save_every=:.0f} frames')"
   ]
  },
  {
   "cell_type": "code",
   "execution_count": null,
   "metadata": {
    "ExecuteTime": {
     "start_time": "2023-06-01T23:19:37.535Z"
    }
   },
   "outputs": [],
   "source": [
    "t"
   ]
  },
  {
   "cell_type": "code",
   "execution_count": null,
   "metadata": {},
   "outputs": [],
   "source": []
  },
  {
   "cell_type": "code",
   "execution_count": null,
   "metadata": {
    "ExecuteTime": {
     "start_time": "2023-06-01T23:19:37.976Z"
    }
   },
   "outputs": [],
   "source": [
    "#TODO: compute single-particle MSD for various alpha and plot\n",
    "#TODO: dev measurement function of rates\n",
    "#FK\n",
    "'/Users/timothytyree/Documents/GitHub/bgmc/python/data/local_results/levy_test/Log/pbc_seed_123456789_fc_2_r_0.7_D_0.115_L_5_kappa_100000.0_varkappa_1.552_alpha_1.5_log.csv'\n",
    "#LR\n",
    "'/Users/timothytyree/Documents/GitHub/bgmc/python/data/local_results/levy_test/Log/pbc_seed_123456789_fc_2_r_0.5_D_0.42_L_5_kappa_100000.0_varkappa_9.3_alpha_1.5_log.csv'"
   ]
  },
  {
   "cell_type": "code",
   "execution_count": null,
   "metadata": {},
   "outputs": [],
   "source": []
  },
  {
   "cell_type": "code",
   "execution_count": 17,
   "metadata": {
    "ExecuteTime": {
     "end_time": "2023-06-01T18:07:08.793351Z",
     "start_time": "2023-06-01T18:07:08.789422Z"
    }
   },
   "outputs": [
    {
     "data": {
      "text/plain": [
       "32"
      ]
     },
     "execution_count": 17,
     "metadata": {},
     "output_type": "execute_result"
    }
   ],
   "source": []
  },
  {
   "cell_type": "code",
   "execution_count": null,
   "metadata": {},
   "outputs": [],
   "source": []
  }
 ],
 "metadata": {
  "hide_input": false,
  "kernelspec": {
   "display_name": "Python 3 (ipykernel)",
   "language": "python",
   "name": "python3"
  },
  "language_info": {
   "codemirror_mode": {
    "name": "ipython",
    "version": 3
   },
   "file_extension": ".py",
   "mimetype": "text/x-python",
   "name": "python",
   "nbconvert_exporter": "python",
   "pygments_lexer": "ipython3",
   "version": "3.9.5"
  },
  "latex_envs": {
   "LaTeX_envs_menu_present": true,
   "autoclose": true,
   "autocomplete": false,
   "bibliofile": "biblio.bib",
   "cite_by": "apalike",
   "current_citInitial": 1,
   "eqLabelWithNumbers": false,
   "eqNumInitial": 1,
   "hotkeys": {
    "equation": "Ctrl-E",
    "itemize": "Ctrl-I"
   },
   "labels_anchors": false,
   "latex_user_defs": false,
   "report_style_numbering": false,
   "user_envs_cfg": false
  },
  "nbTranslate": {
   "displayLangs": [
    "*"
   ],
   "hotkey": "alt-t",
   "langInMainMenu": true,
   "sourceLang": "en",
   "targetLang": "fr",
   "useGoogleTranslate": true
  },
  "toc": {
   "base_numbering": 1,
   "nav_menu": {},
   "number_sections": true,
   "sideBar": true,
   "skip_h1_title": false,
   "title_cell": "Table of Contents",
   "title_sidebar": "Contents",
   "toc_cell": false,
   "toc_position": {},
   "toc_section_display": true,
   "toc_window_display": false
  },
  "varInspector": {
   "cols": {
    "lenName": 16,
    "lenType": 16,
    "lenVar": 40
   },
   "kernels_config": {
    "python": {
     "delete_cmd_postfix": "",
     "delete_cmd_prefix": "del ",
     "library": "var_list.py",
     "varRefreshCmd": "print(var_dic_list())"
    },
    "r": {
     "delete_cmd_postfix": ") ",
     "delete_cmd_prefix": "rm(",
     "library": "var_list.r",
     "varRefreshCmd": "cat(var_dic_list()) "
    }
   },
   "types_to_exclude": [
    "module",
    "function",
    "builtin_function_or_method",
    "instance",
    "_Feature"
   ],
   "window_display": false
  }
 },
 "nbformat": 4,
 "nbformat_minor": 4
}
