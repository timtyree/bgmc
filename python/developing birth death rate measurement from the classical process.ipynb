{
 "cells": [
  {
   "cell_type": "markdown",
   "id": "d2a81e46",
   "metadata": {},
   "source": [
    "# developing birth death rate measurement from the classical process\n",
    "Tim Tyree<br>\n",
    "7.11.2025"
   ]
  },
  {
   "cell_type": "code",
   "execution_count": 1,
   "id": "c6fe9fc1",
   "metadata": {
    "ExecuteTime": {
     "end_time": "2025-07-12T02:58:39.017667Z",
     "start_time": "2025-07-12T02:58:35.841673Z"
    }
   },
   "outputs": [],
   "source": [
    "from lib.my_initialization import *\n",
    "\n",
    "plt.plot([1]*4)\n",
    "plt.close()\n",
    "#reset matplotlib\n",
    "import matplotlib\n",
    "matplotlib.rcParams.update(matplotlib.rcParamsDefault)"
   ]
  },
  {
   "cell_type": "markdown",
   "id": "d404de6c",
   "metadata": {},
   "source": [
    "# define module"
   ]
  },
  {
   "cell_type": "code",
   "execution_count": 2,
   "id": "56e4bb93",
   "metadata": {
    "ExecuteTime": {
     "end_time": "2025-07-12T02:58:43.063921Z",
     "start_time": "2025-07-12T02:58:43.043351Z"
    }
   },
   "outputs": [],
   "source": [
    "#TODO: move these to lib\n",
    "#set initial number of particles\n",
    "@njit\n",
    "def comp_first_passage_time_paired_bd_process(\n",
    "        N=6,\n",
    "        DT=0.1,\n",
    "        random_state=42,\n",
    "        max_num_steps=1000000,**kwargs):\n",
    "    \"\"\"\n",
    "    Example Usage:\n",
    "first_passage_time = comp_first_passage_time_paired_bd_process(N=6,\n",
    "            random_state=42,max_num_steps=1000000)#,**kwargs)\n",
    "    \"\"\"\n",
    "    np.random.seed(random_state)\n",
    "    error_code=0\n",
    "    assert N%2==0\n",
    "    step=0\n",
    "    dont_break=True\n",
    "    while dont_break:\n",
    "        #compute transition probabilities\n",
    "        pup = Wp(N)*DT\n",
    "        pum = Wm(N)*DT\n",
    "        #randomly sample a value\n",
    "        p = np.random.rand()\n",
    "        #change depending on that value\n",
    "        if p>pup:\n",
    "            N+=2\n",
    "        if p<pum:\n",
    "            N-=2\n",
    "        #i know edge case exists for ~1/2 of the sample in theory.\n",
    "        #decide edge cases by predominance\n",
    "        #by setting switch to go up instead of down when transition is otherwise undefined.\n",
    "        #else, we'll keep to the default, wherein negative wins...\n",
    "        if pum>pup:\n",
    "            #closest one to half wins\n",
    "            dpum=np.abs(0.5-pum)\n",
    "            dpup=np.abs(0.5-pup)\n",
    "            if dpup<dpum:\n",
    "                #then for once, positive wins!\n",
    "                if (p>pup) & (p<pum):\n",
    "                    N+=2\n",
    "        #break if not a particle exists\n",
    "        if N<1:\n",
    "            dont_break=False\n",
    "        elif step>max_num_steps:\n",
    "            dont_break=False\n",
    "            error_code=1\n",
    "        step+=1\n",
    "\n",
    "    first_passage_time = step*DT\n",
    "    return first_passage_time\n",
    "\n",
    "def construct_transition_matrix_paired_bd_process(Wp,Wm,\n",
    "                                max_num_particles_init_over_2=200,**kwargs):\n",
    "    \"\"\"\n",
    "    Example Usage:\n",
    "DT=0.000025 #stable?\n",
    "t_matrix = construct_transition_matrix_paired_bd_process(Wp,Wm,\n",
    "                                max_num_particles_init_over_2=200)#,**kwargs)\n",
    "t_matrix*=DT #transfer func is now in dimensionless units \n",
    "    \"\"\"\n",
    "    dim=max_num_particles_init_over_2\n",
    "    #precompute the transition matrix\n",
    "    N_values = 2*(1+np.arange(dim))\n",
    "    t_matrix=np.zeros((dim,dim))\n",
    "    for i,N in enumerate(N_values):\n",
    "        flux_in_lo = Wp(N-2)\n",
    "        flux_in_hi = Wm(N+2)\n",
    "        flux_out= Wp(N) + Wm(N)\n",
    "        t_matrix[i,i]-=flux_out\n",
    "        t_matrix[i,i-1]+=flux_in_lo\n",
    "        if i+1<dim:\n",
    "            t_matrix[i,i+1]+=flux_in_hi\n",
    "    t_matrix[0,0] = -(Wm(2)+Wp(2)) # from N=2\n",
    "    t_matrix[0,1] = Wm(4) # from N=4\n",
    "    #reflecting bc at end\n",
    "    Nmax=int(N_values[-1])\n",
    "    t_matrix[-1,-1] = -Wm(Nmax) #-(Wm(Nmax)+Wp(Nmax)) \n",
    "    t_matrix[-1,-2] = Wp(Nmax-2) \n",
    "    return t_matrix\n",
    "\n",
    "def integrate_transition_matrix(t_matrix,P_values,\n",
    "                                num_steps=100000,\n",
    "                                save_every=1000,**kwargs):\n",
    "    \"\"\"\n",
    "    Example Usage:\n",
    "P_values=P_qs.copy()\n",
    "print(f\"{sum(P_values)=}\")\n",
    "t_values,P_net_values = integrate_transition_matrix(t_matrix,P_values,\n",
    "                                num_steps=100000,save_every=1000)#,**kwargs)\n",
    "print(f\"{P_net_values[-1]=}\")\n",
    "    \"\"\"\n",
    "    #input:  \n",
    "    #output: \n",
    "    P_net_lst=[]\n",
    "    step_lst=[]\n",
    "    for step in range(num_steps):\n",
    "        # dP_values=np.dot(t_matrix,P_values)\n",
    "        P_values+=np.dot(t_matrix,P_values)#dP_values\n",
    "        if step%save_every==0:\n",
    "            P_net = np.sum(P_values)\n",
    "            #record\n",
    "            P_net_lst.append(P_net)\n",
    "            step_lst.append(step)\n",
    "        #P_net_values[step]=P_net\n",
    "    P_net_values=np.array(P_net_lst)\n",
    "    t_values=np.array(step_lst)*DT #seconds\n",
    "    return t_values,P_net_values\n",
    "\n",
    "\n",
    "# t_values=np.arange(num_steps)*DT #seconds"
   ]
  },
  {
   "cell_type": "markdown",
   "id": "093b9d01",
   "metadata": {},
   "source": [
    "# precompute jump threshold transition matrix"
   ]
  },
  {
   "cell_type": "code",
   "execution_count": 3,
   "id": "8c99fe8b",
   "metadata": {
    "ExecuteTime": {
     "end_time": "2025-07-12T02:58:46.259787Z",
     "start_time": "2025-07-12T02:58:46.231724Z"
    }
   },
   "outputs": [
    {
     "name": "stdout",
     "output_type": "stream",
     "text": [
      "m = 0.229594 +/- 0.010098\n",
      "M = 0.864210 +/- 0.002349 Hz/cm^2; B=0.529597 +/- 0.020570\n",
      "RMSE=0.0215 Hz/cm^2; R^2=0.9655; MPE=3.0209%; N=73\n",
      "m = 0.714755 +/- 0.009768\n",
      "M = 3.277073 +/- 0.102643 Hz/cm^2; B=5.262676 +/- 0.107278\n",
      "RMSE=0.0417 Hz/cm^2; R^2=0.9971; MPE=4.2323%; N=62\n",
      "\n",
      "wjr['fk_pbc']:\n",
      "m=1.8772341309722325\n",
      "Delta_m=0.02498750277237229\n",
      "M=5.572315674840435\n",
      "Delta_M=0.3053120355191732\n",
      "b=1.665608066257863\n",
      "Delta_b=0.029341409948945123\n",
      "\n",
      "wjr['lr_pbc']:\n",
      "m=1.6375562704001745\n",
      "Delta_m=0.017190912126700632\n",
      "M=16.73559858353835\n",
      "Delta_M=0.8465090320196467\n",
      "b=2.86877101880514\n",
      "Delta_b=0.0311865277365552\n",
      "\n",
      "wjr['fk_pbc']:\n",
      "m=1.8772341309722325\n",
      "Delta_m=0.02498750277237229\n",
      "M=5.572315674840435\n",
      "Delta_M=0.3053120355191732\n",
      "b=1.665608066257863\n",
      "Delta_b=0.029341409948945123\n",
      "\n",
      "wjr['lr_pbc']:\n",
      "m=1.6375562704001745\n",
      "Delta_m=0.017190912126700632\n",
      "M=16.73559858353835\n",
      "Delta_M=0.8465090320196467\n",
      "b=2.86877101880514\n",
      "Delta_b=0.0311865277365552\n"
     ]
    }
   ],
   "source": [
    "wjr=recall_powerlaw_fits_to_full_models()\n",
    "\n",
    "# input_fn = search_for_file()\n",
    "# input_fn\n",
    "\n",
    "kwargs = dict(data_fk_dir=f'{nb_dir}/data/full_results/data_fig4_vidmar_fk_tt.csv',\n",
    "              data_lr_dir=f'{nb_dir}/data/full_results/data_fig4_vidmar_lr_tt.csv',\n",
    "             min_num_particles=9)\n",
    "dict_wjr = recall_death_rates_vidmar_rappel(**kwargs)\n",
    "fk=dict_wjr['fk'].sort_values(by='q')\n",
    "lr=dict_wjr['lr'].sort_values(by='q')\n",
    "\n",
    "# birth_rate_dir_fk = '/home/timothytyree/Documents/GitHub/bgmc/python/data/full_results/data_fig4_timothy_fk_up2_rescaled_per_tt.csv'\n",
    "# birth_rate_dir_lr = '/home/timothytyree/Documents/GitHub/bgmc/python/data/full_results/data_fig4_timothy_lr_up2_rescaled_per_tt.csv'\n",
    "birth_rate_dir_fk = '/Users/timothytyree/Documents/GitHub/bgmc/python/data/full_results/data_fig4_timothy_fk_up2_rescaled_per_tt.csv'\n",
    "birth_rate_dir_lr = '/Users/timothytyree/Documents/GitHub/bgmc/python/data/full_results/data_fig4_timothy_lr_up2_rescaled_per_tt.csv'\n",
    "# death_rate_dir_fk = '/Users/timothytyree/Documents/GitHub/bgmc/python/data/full_results/data_fig4_vidmar_fk_rescaled_rates.csv'\n",
    "# death_rate_dir_lr = '/Users/timothytyree/Documents/GitHub/bgmc/python/data/full_results/data_fig4_vidmar_lr_rescaled_rates.csv'\n",
    "# df_death = pd.read_csv(death_rate_dir_fk)\n",
    "df_birth_fk = pd.read_csv(birth_rate_dir_fk)\n",
    "# df_death = pd.read_csv(death_rate_dir_lr)\n",
    "df_birth_lr = pd.read_csv(birth_rate_dir_lr)\n",
    "\n",
    "#scale from kHz to Hz\n",
    "df_birth_fk['w']*=1e3\n",
    "df_birth_lr['w']*=1e3\n",
    "\n",
    "# DONE: compute powerlaw fits of birth rates wjr\n",
    "dict_fit_birth_fk = print_fit_power_law(x=df_birth_fk['q'].values,y=df_birth_fk['w'].values)\n",
    "dict_fit_birth_lr = print_fit_power_law(x=df_birth_lr['q'].values,y=df_birth_lr['w'].values)\n",
    "\n",
    "print(f\"\\nwjr['fk_pbc']:\")\n",
    "print_dict(wjr['fk_pbc'])\n",
    "print(f\"\\nwjr['lr_pbc']:\")\n",
    "print_dict(wjr['lr_pbc'])\n",
    "\n",
    "print(f\"\\nwjr['fk_pbc']:\")\n",
    "print_dict(wjr['fk_pbc'])\n",
    "print(f\"\\nwjr['lr_pbc']:\")\n",
    "print_dict(wjr['lr_pbc'])"
   ]
  },
  {
   "cell_type": "code",
   "execution_count": 4,
   "id": "43bbc966",
   "metadata": {
    "ExecuteTime": {
     "end_time": "2025-07-12T02:58:49.885359Z",
     "start_time": "2025-07-12T02:58:49.879791Z"
    }
   },
   "outputs": [],
   "source": [
    "#DONE: get token inputs prepared\n",
    "dict_fit_death_lr = dict(wjr['lr_pbc'])\n",
    "dict_fit_death_fk = dict(wjr['fk_pbc'])\n",
    "Mp = dict_fit_birth_fk['M']\n",
    "nup = dict_fit_birth_fk['m']\n",
    "Mm = dict_fit_death_fk['M']\n",
    "num = dict_fit_death_fk['m']\n",
    "model_name='Fenton-Karma'\n",
    "\n",
    "# Mp = dict_fit_birth_lr['M']\n",
    "# nup = dict_fit_birth_lr['m']\n",
    "# Mm = dict_fit_death_lr['M']\n",
    "# num = dict_fit_death_lr['m']\n",
    "# model_name='Luo-Rudy'"
   ]
  },
  {
   "cell_type": "code",
   "execution_count": 5,
   "id": "7d4d93b0",
   "metadata": {
    "ExecuteTime": {
     "end_time": "2025-07-12T02:58:50.682620Z",
     "start_time": "2025-07-12T02:58:50.624556Z"
    }
   },
   "outputs": [
    {
     "data": {
      "text/plain": [
       "(array([ 2,  4,  6,  8, 10, 12, 14, 16, 18, 20, 22, 24, 26, 28, 30, 32, 34,\n",
       "        36, 38, 40]),\n",
       " array([5.42628538e-02, 1.61763258e-01, 2.46906253e-01, 2.38316933e-01,\n",
       "        1.61554457e-01, 8.24016974e-02, 3.34722324e-02, 1.15971026e-02,\n",
       "        3.88516866e-03, 1.56938889e-03, 8.95912708e-04, 6.56916952e-04,\n",
       "        5.33683012e-04, 4.50294894e-04, 3.87184786e-04, 3.37305051e-04,\n",
       "        2.96949507e-04, 2.63740779e-04, 2.36031349e-04, 2.12635957e-04]))"
      ]
     },
     "execution_count": 5,
     "metadata": {},
     "output_type": "execute_result"
    }
   ],
   "source": [
    "#TODO: compute the eigenvalues of the transition matrix\n",
    "#TODO: compute the fraction terminated time trace initializing at the quasistatic distribution\n",
    "#estimate the quasistatic distribution\n",
    "L=5 #cm\n",
    "A=L**2\n",
    "# A = 100\n",
    "num_iter=20\n",
    "\n",
    "#TODO: recall the powerlaw fits to the FK model \n",
    "#heretim\n",
    "\n",
    "# Wp = get_comp_W(A,nup,Mp)\n",
    "# Wm = get_comp_W(A,num,Mm)\n",
    "comp_Wp = get_comp_W(A,nup,Mp)\n",
    "comp_Wm = get_comp_W(A,num,Mm)\n",
    "Wp = njit(comp_Wp)\n",
    "Wm = njit(comp_Wm)\n",
    "\n",
    "# n_qs,prob_qs = comp_quasistatic_distrib_paired_bdrates(comp_Wm,comp_Wp,num_iter=num_iter,freq_prev=1.)\n",
    "n_qs,prob_qs = comp_quasistatic_distrib_paired_bdrates(Wm,Wp,num_iter=num_iter,freq_prev=100.)\n",
    "n_qs,prob_qs"
   ]
  },
  {
   "cell_type": "markdown",
   "id": "766ad785",
   "metadata": {},
   "source": [
    "# discrete simulation of multiple particle number timeseries"
   ]
  },
  {
   "cell_type": "code",
   "execution_count": 25,
   "id": "2a70d0b3",
   "metadata": {
    "ExecuteTime": {
     "end_time": "2025-07-12T03:03:42.769209Z",
     "start_time": "2025-07-12T03:03:42.760873Z"
    }
   },
   "outputs": [],
   "source": [
    "#precompute jump likelihoods\n",
    "# DT = 1e-5\n",
    "# DT = 1e-3\n",
    "# DT = 1e-8\n",
    "# DT = 1e-6\n",
    "DT = 1e-7\n",
    "\n",
    "max_num_particles_init_over_2=200\n",
    "Jp_values = np.array([DT*Wp(n) for n in range(2*max_num_particles_init_over_2)]) #N-->N+2\n",
    "Jm_values = np.array([DT*Wm(n) for n in range(2*max_num_particles_init_over_2)]) #N-->N-2\n",
    "size = Jp_values.shape[0]\n",
    "jump_likelihood_matrix = np.eye(size)\n",
    "for i in range(size):\n",
    "    jump_likelihood_matrix[i,i-2] = Jm_values[i-2]\n",
    "    if i+2<size:\n",
    "        jump_likelihood_matrix[i,i+2] = Jp_values[i+2]\n",
    "        jump_likelihood_matrix[i,i] -= jump_likelihood_matrix[i,i-2] + jump_likelihood_matrix[i,i+2]\n",
    "    else:\n",
    "        #implement reflecting b.c.'s at the maximum\n",
    "        jump_likelihood_matrix[i,i] -= jump_likelihood_matrix[i,i-2]\n",
    "# jump_likelihood_matrix = jump_likelihood_matrix.T"
   ]
  },
  {
   "cell_type": "code",
   "execution_count": 26,
   "id": "a581919f",
   "metadata": {
    "ExecuteTime": {
     "end_time": "2025-07-12T03:03:43.560611Z",
     "start_time": "2025-07-12T03:03:43.556119Z"
    }
   },
   "outputs": [],
   "source": [
    "#fix start of transition matrix\n",
    "# sum(jump_likelihood_matrix[1])\n",
    "jump_likelihood_matrix[1,-1] = 0\n",
    "jump_likelihood_matrix[1,1] = 1 - jump_likelihood_matrix[1,3]\n",
    "jump_likelihood_matrix[2,0] = Wm(2)*DT\n",
    "jump_likelihood_matrix[2,2] = 1 - jump_likelihood_matrix[2,4] - jump_likelihood_matrix[2,0]\n",
    "# set absorbing b.c.'s\n",
    "jump_likelihood_matrix[0] *= 0.\n",
    "jump_likelihood_matrix[0,0] = 1."
   ]
  },
  {
   "cell_type": "code",
   "execution_count": 27,
   "id": "fcb3c2b6",
   "metadata": {
    "ExecuteTime": {
     "end_time": "2025-07-12T03:03:44.360081Z",
     "start_time": "2025-07-12T03:03:44.356506Z"
    }
   },
   "outputs": [],
   "source": [
    "# np.rollaxis(jump_likelihood_matrix,0,2)\n",
    "# np.roll(jump_likelihood_matrix,2,axis=0)\n",
    "matrix = jump_likelihood_matrix\n",
    "# Get the main diagonal\n",
    "main_diagonal = np.diag(matrix)\n",
    "# print(\"Main Diagonal:\", main_diagonal) # Output: [1 5 9]\n",
    "\n",
    "# Get the diagonal above the main diagonal (k=1)\n",
    "upper_diagonal = np.diag(matrix, k=2)\n",
    "# print(\"Upper Diagonal:\", upper_diagonal) # Output: [2 6]\n",
    "\n",
    "# Get the diagonal below the main diagonal (k=-1)\n",
    "lower_diagonal = np.diag(matrix, k=-2)\n",
    "# print(\"Lower Diagonal:\", lower_diagonal) # Output: [4 8]\n",
    "# np.roll?"
   ]
  },
  {
   "cell_type": "code",
   "execution_count": 28,
   "id": "eec76e06",
   "metadata": {
    "ExecuteTime": {
     "end_time": "2025-07-12T03:03:45.165840Z",
     "start_time": "2025-07-12T03:03:44.900614Z"
    }
   },
   "outputs": [
    {
     "data": {
      "image/png": "[encoded data removed]",
      "text/plain": [
       "<Figure size 640x480 with 1 Axes>"
      ]
     },
     "metadata": {},
     "output_type": "display_data"
    }
   ],
   "source": [
    "plt.plot(1-main_diagonal)\n",
    "plt.plot(upper_diagonal)\n",
    "plt.plot(lower_diagonal)\n",
    "# plt.xlim([1,250])\n",
    "# plt.ylim([1e-6,1e-2])\n",
    "plt.xscale('log')\n",
    "plt.yscale('log')"
   ]
  },
  {
   "cell_type": "code",
   "execution_count": 29,
   "id": "515b4d8e",
   "metadata": {
    "ExecuteTime": {
     "end_time": "2025-07-12T03:03:49.389997Z",
     "start_time": "2025-07-12T03:03:49.385840Z"
    }
   },
   "outputs": [],
   "source": [
    "# sum(jump_likelihood_matrix[2])\n",
    "jump_threshold_matrix = np.cumsum(jump_likelihood_matrix,axis=1)"
   ]
  },
  {
   "cell_type": "code",
   "execution_count": 30,
   "id": "615653b9",
   "metadata": {
    "ExecuteTime": {
     "end_time": "2025-07-12T03:03:49.982487Z",
     "start_time": "2025-07-12T03:03:49.979957Z"
    }
   },
   "outputs": [],
   "source": [
    "# print(np.around(jump_likelihood_matrix,6)[0,:5])\n",
    "# print(np.around(jump_likelihood_matrix,6)[:5,0])"
   ]
  },
  {
   "cell_type": "code",
   "execution_count": 31,
   "id": "6ac454f0",
   "metadata": {
    "ExecuteTime": {
     "end_time": "2025-07-12T03:03:50.337228Z",
     "start_time": "2025-07-12T03:03:50.333831Z"
    }
   },
   "outputs": [],
   "source": [
    "# print('start:')\n",
    "# print(np.around(jump_likelihood_matrix,6)[:5,:5])\n",
    "# print('end:')\n",
    "# print(np.around(jump_likelihood_matrix,6)[-5:,-5:])"
   ]
  },
  {
   "cell_type": "markdown",
   "id": "e203d033",
   "metadata": {},
   "source": [
    "# run multiple particle simulations in parallel, computing transition durations, as before, from number time series"
   ]
  },
  {
   "cell_type": "code",
   "execution_count": 32,
   "id": "abc337ac",
   "metadata": {
    "ExecuteTime": {
     "end_time": "2025-07-12T03:03:51.166674Z",
     "start_time": "2025-07-12T03:03:51.164034Z"
    }
   },
   "outputs": [],
   "source": [
    "# print(jump_threshold_matrix[:6,:6])"
   ]
  },
  {
   "cell_type": "code",
   "execution_count": 33,
   "id": "898f9542",
   "metadata": {
    "ExecuteTime": {
     "end_time": "2025-07-12T03:03:51.665300Z",
     "start_time": "2025-07-12T03:03:51.647504Z"
    }
   },
   "outputs": [],
   "source": [
    "@njit\n",
    "def simulate_jump_process_transition_rates(jump_threshold_matrix,\n",
    "        tmax = 1.,\n",
    "        num_simulations = 20, #linear run time in this kwarg\n",
    "        N0 = 2,\n",
    "        DT = 1e-5, #s\n",
    "        seed = 42):\n",
    "    \"\"\"Aggregates all birth/death (increasing/decreasing index) jump reactions into the same output array.\n",
    "    \n",
    "    Example Usage:\n",
    "num_terminated,Np_values,Nm_values,Wp_values,Wm_values,nobsp_values,nobsm_values = simulate_jump_process_transition_rates(jump_threshold_matrix,\n",
    "        tmax = 1.,\n",
    "        num_simulations = 20, #linear run time in this kwarg\n",
    "        N0 = 2,\n",
    "        DT = 1e-5, #s\n",
    "        seed = 42)\n",
    "    \"\"\"\n",
    "    N_values = np.zeros(int(num_simulations),dtype='int') + int(N0)\n",
    "    step_values = np.zeros(int(num_simulations),dtype='int') #step of last transition\n",
    "    np.random.seed(seed)\n",
    "    Nmax = jump_threshold_matrix.shape[0]\n",
    "    #initialize counter arrays\n",
    "    T_ip = np.zeros(Nmax,dtype='int')\n",
    "    T_im = np.zeros(Nmax,dtype='int')\n",
    "    M_ip = np.zeros(Nmax,dtype='int')\n",
    "    M_im = np.zeros(Nmax,dtype='int')\n",
    "    max_num_steps = int(tmax/DT)\n",
    "    for step in range(max_num_steps):\n",
    "        t = DT*step\n",
    "        #make it only run where N_values>0 for efficiency\n",
    "        still_running = N_values>0\n",
    "        num_terminated = np.sum(~still_running)\n",
    "        P_values = np.random.rand(num_simulations - num_terminated)\n",
    "        boo = P_values<jump_threshold_matrix[N_values[still_running]].T\n",
    "        indices = np.argwhere(still_running)\n",
    "        for i in range(num_simulations - num_terminated):\n",
    "            Nnext = np.argwhere(boo[:,i])[0,0]\n",
    "            ix = indices[i,0]\n",
    "            Nold  = N_values[ix]\n",
    "            #record any change of step\n",
    "            if Nnext != Nold:\n",
    "                last_transition_step = step_values[ix]\n",
    "                #record birth or death transition\n",
    "                if last_transition_step>0:\n",
    "                    count = step - last_transition_step\n",
    "                    assert count > 0 \n",
    "                    if Nnext > Nold:\n",
    "                        #count birth transition\n",
    "                        M_ip[Nold] +=1\n",
    "                        T_ip[Nold] +=count\n",
    "                    else:\n",
    "                        #count death transition\n",
    "                        M_im[Nold] +=1\n",
    "                        T_im[Nold] +=count\n",
    "                #record new state\n",
    "                N_values[ix] = Nnext\n",
    "                step_values[ix] = step\n",
    "    return num_terminated,T_ip,T_im,M_ip,M_im\n",
    "#     #compute rates\n",
    "#     boop = T_ip>0\n",
    "#     boom = T_im>0\n",
    "#     Wp_values = M_ip[boop]/T_ip[boop]/DT #Hz\n",
    "#     Wm_values = M_im[boom]/T_im[boom]/DT #Hz\n",
    "#     #compute sample sizes\n",
    "#     nobsp_values = M_ip[boop]\n",
    "#     nobsm_values = M_im[boom]\n",
    "#     #compute the abcissa\n",
    "#     Np_values = np.argwhere(boop).flatten()\n",
    "#     Nm_values = np.argwhere(boom).flatten()\n",
    "#     return num_terminated,Np_values,Nm_values,Wp_values,Wm_values,nobsp_values,nobsm_values"
   ]
  },
  {
   "cell_type": "code",
   "execution_count": null,
   "id": "b1f31706",
   "metadata": {
    "ExecuteTime": {
     "end_time": "2025-07-12T02:03:05.250233Z",
     "start_time": "2025-07-12T02:03:05.246224Z"
    }
   },
   "outputs": [],
   "source": []
  },
  {
   "cell_type": "code",
   "execution_count": 34,
   "id": "ff1418d7",
   "metadata": {
    "ExecuteTime": {
     "end_time": "2025-07-12T03:04:15.553267Z",
     "start_time": "2025-07-12T03:03:53.435779Z"
    }
   },
   "outputs": [],
   "source": [
    "# taking more than an hour at DT=1e-8... \n",
    "# num_terminated,Np_values,Nm_values,Wp_values,Wm_values,nobsp_values,nobsm_values = simulate_jump_process_transition_rates(jump_threshold_matrix,\n",
    "num_terminated,T_ip,T_im,M_ip,M_im = simulate_jump_process_transition_rates(jump_threshold_matrix,\n",
    "#         tmax = 1.,\n",
    "        tmax = 100.*DT,\n",
    "#         num_simulations = 200, #linear run time in this kwarg\n",
    "        num_simulations = 2, #linear run time in this kwarg\n",
    "        N0 = 2,\n",
    "        DT = DT, #s\n",
    "#         DT = 1e-5, #s\n",
    "#         DT = 1e-3, #s\n",
    "        seed = 42)"
   ]
  },
  {
   "cell_type": "code",
   "execution_count": 35,
   "id": "c6fd8cbe",
   "metadata": {
    "ExecuteTime": {
     "end_time": "2025-07-12T03:04:24.039628Z",
     "start_time": "2025-07-12T03:04:24.035623Z"
    },
    "run_control": {
     "marked": true
    }
   },
   "outputs": [],
   "source": [
    "#TODO: patiently verify whether DT=1e-8 needs to be a thing\n",
    "#TODO: parallelize simulate_jump_process_transition_rates over many cores\n",
    "def routine(task):\n",
    "    jump_threshold_matrix,tmax,num_simulations,N0,DT,seed = task\n",
    "#     num_terminated,T_ip,T_im,M_ip,M_im = simulate_jump_process_transition_rates(jump_threshold_matrix,\n",
    "    return simulate_jump_process_transition_rates(jump_threshold_matrix,\n",
    "                tmax = tmax, #s\n",
    "                num_simulations = num_simulations, #linear run time in this kwarg\n",
    "                N0 = N0,\n",
    "                DT = DT, #s\n",
    "                seed = seed)"
   ]
  },
  {
   "cell_type": "code",
   "execution_count": 54,
   "id": "01270912",
   "metadata": {
    "ExecuteTime": {
     "end_time": "2025-07-12T03:13:09.747509Z",
     "start_time": "2025-07-12T03:13:09.743245Z"
    }
   },
   "outputs": [],
   "source": [
    "ncores = 14\n",
    "tmax = 1. #s\n",
    "# tmax = .1 #s\n",
    "# num_simulations = int(200/ncores)\n",
    "num_simulations = int(500/ncores)\n",
    "# N0 = 2\n",
    "N0 = 20\n",
    "#heretim\n",
    "# DT = 1e-6\n",
    "task_lst = []\n",
    "for seed in range(ncores):\n",
    "    task = jump_threshold_matrix,tmax,num_simulations,N0,DT,seed\n",
    "    task_lst.append(task)"
   ]
  },
  {
   "cell_type": "code",
   "execution_count": 55,
   "id": "4cb32a27",
   "metadata": {
    "ExecuteTime": {
     "end_time": "2025-07-12T03:13:10.550514Z",
     "start_time": "2025-07-12T03:13:10.547875Z"
    }
   },
   "outputs": [],
   "source": [
    "#Q: did i call eval_... right?\n",
    "#A: yup.\n",
    "# eval_routine_multiprocess?"
   ]
  },
  {
   "cell_type": "code",
   "execution_count": 56,
   "id": "acd56a66",
   "metadata": {
    "ExecuteTime": {
     "end_time": "2025-07-12T03:18:56.392419Z",
     "start_time": "2025-07-12T03:13:17.520025Z"
    }
   },
   "outputs": [
    {
     "name": "stdout",
     "output_type": "stream",
     "text": [
      "CPU times: user 31 ms, sys: 147 ms, total: 178 ms\n",
      "Wall time: 5min 38s\n"
     ]
    }
   ],
   "source": [
    "%%time\n",
    "retval_lst = eval_routine_multiprocess(routine,task_lst,ncores)"
   ]
  },
  {
   "cell_type": "code",
   "execution_count": 96,
   "id": "321adf37",
   "metadata": {
    "ExecuteTime": {
     "end_time": "2025-07-12T04:26:48.986776Z",
     "start_time": "2025-07-12T04:26:48.980952Z"
    }
   },
   "outputs": [],
   "source": [
    "num_terminated,T_p,T_m,M_p,M_m = retval_lst[0]\n",
    "for retval in retval_lst[1:]:\n",
    "    num_terminated,T_ip,T_im,M_ip,M_im = retval\n",
    "    #accumulate the answers\n",
    "    T_p+=T_ip\n",
    "    T_m+=T_im\n",
    "    M_p+=M_ip\n",
    "    M_m+=M_im"
   ]
  },
  {
   "cell_type": "code",
   "execution_count": 113,
   "id": "1d8e1c76",
   "metadata": {
    "ExecuteTime": {
     "end_time": "2025-07-12T04:32:12.419603Z",
     "start_time": "2025-07-12T04:32:12.417003Z"
    }
   },
   "outputs": [],
   "source": [
    "# #compute rates\n",
    "# boop = T_ip>0\n",
    "# boom = T_im>0\n",
    "# Wp_values = M_ip[boop]/T_ip[boop]/DT #Hz\n",
    "# Wm_values = M_im[boom]/T_im[boom]/DT #Hz\n",
    "# #compute sample sizes\n",
    "# nobsp_values = M_ip[boop]\n",
    "# nobsm_values = M_im[boom]\n",
    "# #compute the abcissa\n",
    "# Np_values = np.argwhere(boop).flatten()\n",
    "# Nm_values = np.argwhere(boom).flatten()"
   ]
  },
  {
   "cell_type": "code",
   "execution_count": 114,
   "id": "e660c28e",
   "metadata": {
    "ExecuteTime": {
     "end_time": "2025-07-12T04:32:12.695885Z",
     "start_time": "2025-07-12T04:32:12.686890Z"
    }
   },
   "outputs": [],
   "source": [
    "#compute rates\n",
    "boop = T_p>0\n",
    "boom = T_m>0\n",
    "boob = boop * boom\n",
    "Wp_values = M_p[boob]/T_p[boob]/DT #Hz\n",
    "Wm_values = M_m[boob]/T_m[boob]/DT #Hz\n",
    "Wp_values*= M_p[boob] / (M_p[boob] + M_m[boob])\n",
    "Wm_values*= M_m[boob] / (M_p[boob] + M_m[boob])\n",
    "#compute sample sizes\n",
    "# nobsp_values = M_p[boop]\n",
    "# nobsm_values = M_m[boom]\n",
    "nobsp_values = M_p[boob]\n",
    "nobsm_values = M_m[boob]\n",
    "#compute the abcissa\n",
    "# Np_values = np.argwhere(boop).flatten()\n",
    "# Nm_values = np.argwhere(boom).flatten()\n",
    "Np_values = np.argwhere(boob).flatten()\n",
    "Nm_values = np.argwhere(boob).flatten()"
   ]
  },
  {
   "cell_type": "code",
   "execution_count": 115,
   "id": "1d0e99b6",
   "metadata": {
    "ExecuteTime": {
     "end_time": "2025-07-12T04:32:13.314152Z",
     "start_time": "2025-07-12T04:32:13.085385Z"
    }
   },
   "outputs": [
    {
     "data": {
      "image/png": "[encoded data removed]",
      "text/plain": [
       "<Figure size 500x400 with 1 Axes>"
      ]
     },
     "metadata": {},
     "output_type": "display_data"
    }
   ],
   "source": [
    "# nobsp_values\n",
    "# nobsm_values\n",
    "# Np_values\n",
    "# Nm_values\n",
    "fontsize = 16\n",
    "#plot 1-diagonal of the transition matrix\n",
    "Wsumv=(1-np.diag(jump_likelihood_matrix))/DT #Hz\n",
    "Nv=np.arange(Wsumv.shape[0])\n",
    "\n",
    "fig,ax=plt.subplots(figsize=(5,4))\n",
    "# plt.plot(Nv,Wsumv,'r--',label='$W_{+2}(N)+W_{-2}(N)$')\n",
    "#plot the simulation results\n",
    "plt.plot(Np_values,Wp_values,color='C0',marker='^')#,label=r'$N\\rightarrow N+2$')\n",
    "plt.plot(Nm_values,Wm_values,color='C1',marker='.')#,label=r'$N\\rightarrow N-2$')\n",
    "plt.scatter(Np_values,Wp_values,color='C0',marker='^',label=r'$N\\rightarrow N+2$')\n",
    "plt.scatter(Nm_values,Wm_values,color='C1',marker='.',label=r'$N\\rightarrow N-2$')\n",
    "plt.legend(fontsize=fontsize)\n",
    "format_plot(fontsize=fontsize,xlabel=r'$N$',ylabel=r'$W_{\\pm2}$ (Hz)')\n",
    "plt.xscale('log')\n",
    "plt.yscale('log')\n",
    "\n",
    "xv = np.linspace(2,20,101)\n",
    "plt.plot(xv,Mp*A*(xv/A)**nup,'k--')\n",
    "plt.plot(xv,Mm*A*(xv/A)**num,'k--')\n",
    "\n",
    "plt.xlim([2,34])\n",
    "plt.ylim([1,1e3])\n",
    "\n",
    "plt.title(f'Paired Birth-Death Model\\nWith Powerlaw Rates ({A=} cm'+r'$^2$)',fontsize=fontsize)\n",
    "\n",
    "plt.show()"
   ]
  },
  {
   "cell_type": "code",
   "execution_count": 112,
   "id": "96a22d18",
   "metadata": {
    "ExecuteTime": {
     "end_time": "2025-07-12T04:32:01.264806Z",
     "start_time": "2025-07-12T04:32:01.261235Z"
    }
   },
   "outputs": [],
   "source": [
    "# # nobsp_values\n",
    "# # nobsm_values\n",
    "# # Np_values\n",
    "# # Nm_values\n",
    "# fontsize = 16\n",
    "# #plot 1-diagonal of the transition matrix\n",
    "# Wdiffv=(\n",
    "#     np.diag(jump_likelihood_matrix,k=2) - np.diag(jump_likelihood_matrix,k=-2)\n",
    "#     )/DT #Hz\n",
    "# Nv=np.arange(Wdiffv.shape[0])\n",
    "\n",
    "# fig,ax=plt.subplots(figsize=(5,4))\n",
    "# plt.plot(Nv,Wdiffv,'r--',label='$W_{+2}(N)-W_{-2}(N)$')\n",
    "# #plot the simulation results\n",
    "# plt.plot(Np_values,Wp_values-Wm_values[:-1],color='C0',marker='^')#,label=r'$N\\rightarrow N+2$')\n",
    "# # plt.plot(Nm_values,Wm_values,color='C1',marker='.')#,label=r'$N\\rightarrow N-2$')\n",
    "# # plt.scatter(Np_values,Wp_values,color='C0',marker='^',label=r'$N\\rightarrow N+2$')\n",
    "# # plt.scatter(Nm_values,Wm_values,color='C1',marker='.',label=r'$N\\rightarrow N-2$')\n",
    "# plt.legend(fontsize=fontsize)\n",
    "# format_plot(fontsize=fontsize,xlabel=r'$N$',ylabel=r'$W_{\\pm2}$ (Hz)')\n",
    "# # plt.xscale('log')\n",
    "# # plt.yscale('log')\n",
    "\n",
    "# # xv = np.linspace(2,20,101)\n",
    "# # plt.plot(xv,Mp*A*(xv/A)**nup,'k--')\n",
    "# # plt.plot(xv,Mm*A*(xv/A)**num,'k--')\n",
    "\n",
    "# plt.xlim([2,34])\n",
    "# plt.ylim([0,0.3])\n",
    "\n",
    "# plt.title(f'Paired Birth-Death Model\\nWith Powerlaw Rates ({A=} cm'+r'$^2$)',fontsize=fontsize)\n",
    "\n",
    "# plt.show()"
   ]
  },
  {
   "cell_type": "code",
   "execution_count": 108,
   "id": "cfd6f57e",
   "metadata": {
    "ExecuteTime": {
     "end_time": "2025-07-12T04:30:22.199347Z",
     "start_time": "2025-07-12T04:30:22.193790Z"
    }
   },
   "outputs": [],
   "source": [
    "#compute rates\n",
    "boop = T_p>0\n",
    "boom = T_m>0\n",
    "M = (M_p+M_m)/2\n",
    "Wp_values = M[boop]/T_p[boop]/DT #Hz\n",
    "Wm_values = M[boom]/T_m[boom]/DT #Hz\n",
    "#compute sample sizes\n",
    "nobsp_values = M_p[boop]\n",
    "nobsm_values = M_m[boom]\n",
    "#compute the abcissa\n",
    "Np_values = np.argwhere(boop).flatten()\n",
    "Nm_values = np.argwhere(boom).flatten()"
   ]
  },
  {
   "cell_type": "code",
   "execution_count": 109,
   "id": "57329c43",
   "metadata": {
    "ExecuteTime": {
     "end_time": "2025-07-12T04:30:23.139786Z",
     "start_time": "2025-07-12T04:30:22.881627Z"
    }
   },
   "outputs": [
    {
     "data": {
      "image/png": "[encoded data removed]",
      "text/plain": [
       "<Figure size 600x400 with 1 Axes>"
      ]
     },
     "metadata": {},
     "output_type": "display_data"
    }
   ],
   "source": [
    "# nobsp_values\n",
    "# nobsm_values\n",
    "# Np_values\n",
    "# Nm_values\n",
    "fontsize = 16\n",
    "#plot 1-diagonal of the transition matrix\n",
    "Wsumv=(1-np.diag(jump_likelihood_matrix))/DT #Hz\n",
    "Nv=np.arange(Wsumv.shape[0])\n",
    "\n",
    "fig,ax=plt.subplots(figsize=(6,4))\n",
    "plt.plot(Nv,Wsumv,'r--',label='$W_{+2}(N)+W_{-2}(N)$')\n",
    "#plot the simulation results\n",
    "plt.plot(Np_values,Wp_values,color='C0',marker='^')#,label=r'$N\\rightarrow N+2$')\n",
    "plt.plot(Nm_values,Wm_values,color='C1',marker='.')#,label=r'$N\\rightarrow N-2$')\n",
    "plt.scatter(Np_values,Wp_values,color='C0',marker='^',label=r'$N\\rightarrow N+2$')\n",
    "plt.scatter(Nm_values,Wm_values,color='C1',marker='.',label=r'$N\\rightarrow N-2$')\n",
    "plt.legend(fontsize=fontsize)\n",
    "format_plot(fontsize=fontsize,xlabel=r'$N$',ylabel=r'$W_{\\pm2}$ (Hz)')\n",
    "plt.xscale('log')\n",
    "plt.yscale('log')\n",
    "\n",
    "xv = np.linspace(2,20,101)\n",
    "plt.plot(xv,Mp*A*(xv/A)**nup,'k--')\n",
    "plt.plot(xv,Mm*A*(xv/A)**num,'k--')\n",
    "\n",
    "plt.xlim([2,34])\n",
    "plt.ylim([1,1e3])\n",
    "\n",
    "plt.title(f'Paired Birth-Death Model\\nWith Powerlaw Rates ({A=} cm'+r'$^2$)',fontsize=fontsize)\n",
    "\n",
    "plt.show()"
   ]
  },
  {
   "cell_type": "code",
   "execution_count": 74,
   "id": "70492ad2",
   "metadata": {
    "ExecuteTime": {
     "end_time": "2025-07-12T04:02:59.789376Z",
     "start_time": "2025-07-12T04:02:59.783696Z"
    }
   },
   "outputs": [
    {
     "data": {
      "text/plain": [
       "1e-07"
      ]
     },
     "execution_count": 74,
     "metadata": {},
     "output_type": "execute_result"
    }
   ],
   "source": [
    "DT\n",
    "#DONE: see if ^that gives the right rates\n",
    "#DONE: change it to check only once per 1ms, like before\n",
    "#HINT: just change DT to 1e-3 seconds...  looks wrong kinda like the same way as the LPM's bdrates\n",
    "\n",
    "#ROOT CAUSE IDENTIFIED?  DOES DECREASING DT FIX THE PROBLEM???"
   ]
  },
  {
   "cell_type": "code",
   "execution_count": 15,
   "id": "b4fcdd4d",
   "metadata": {
    "ExecuteTime": {
     "end_time": "2025-07-12T00:55:48.868992Z",
     "start_time": "2025-07-12T00:55:48.866406Z"
    }
   },
   "outputs": [
    {
     "ename": "SyntaxError",
     "evalue": "'break' outside loop (668683560.py, line 1)",
     "output_type": "error",
     "traceback": [
      "\u001b[0;36m  File \u001b[0;32m\"/var/folders/0h/p4cbb7yx22jbxm0qb47vhfbh0000gn/T/ipykernel_6690/668683560.py\"\u001b[0;36m, line \u001b[0;32m1\u001b[0m\n\u001b[0;31m    break\u001b[0m\n\u001b[0m    ^\u001b[0m\n\u001b[0;31mSyntaxError\u001b[0m\u001b[0;31m:\u001b[0m 'break' outside loop\n"
     ]
    }
   ],
   "source": [
    "break"
   ]
  },
  {
   "cell_type": "markdown",
   "id": "ab500c78",
   "metadata": {},
   "source": [
    "# scratchwerk"
   ]
  },
  {
   "cell_type": "code",
   "execution_count": null,
   "id": "bc64ee4d",
   "metadata": {
    "ExecuteTime": {
     "end_time": "2025-07-12T00:55:48.869877Z",
     "start_time": "2025-07-12T00:55:48.869871Z"
    }
   },
   "outputs": [],
   "source": [
    "max_num_particles_init_over_2=200\n",
    "# DT=0.000025 #stable\n",
    "t_matrix = construct_transition_matrix_paired_bd_process(Wp,Wm,\n",
    "                                max_num_particles_init_over_2=max_num_particles_init_over_2)#,**kwargs)\n",
    "t_matrix*=DT #transfer func is now in dimensionless units "
   ]
  },
  {
   "cell_type": "code",
   "execution_count": null,
   "id": "ba54932f",
   "metadata": {
    "ExecuteTime": {
     "end_time": "2025-07-12T00:55:48.870636Z",
     "start_time": "2025-07-12T00:55:48.870627Z"
    }
   },
   "outputs": [],
   "source": [
    "# num_iter=int(Nmax/2)\n",
    "dim=max_num_particles_init_over_2\n",
    "N_qs,P_qs = comp_quasistatic_distrib_paired_bdrates(Wm,Wp,num_iter=dim,freq_prev=1.)\n",
    "# P_qs/=np.sum(P_qs) #normalize for 1.0000000000000002 floating point arith error\n",
    "# assert np.sum(P_qs)==1\n",
    "P_qs.shape,np.sum(P_qs)"
   ]
  },
  {
   "cell_type": "markdown",
   "id": "25c86716",
   "metadata": {},
   "source": [
    "# simulate particle number time series for repeated discrete simulations"
   ]
  },
  {
   "cell_type": "code",
   "execution_count": null,
   "id": "844b2001",
   "metadata": {
    "ExecuteTime": {
     "end_time": "2025-07-12T00:55:48.871247Z",
     "start_time": "2025-07-12T00:55:48.871237Z"
    }
   },
   "outputs": [],
   "source": [
    "# np.cumsum(t_matrix[:198,:198],axis=1)[-1]\n",
    "t_matrixb = t_matrix.copy()\n",
    "imax = t_matrixb.shape[0]\n",
    "t_matrixb[-1,-2] = Wp(2*imax-2)*DT\n",
    "t_matrixb[-2,-1] = Wm(2*imax)*DT\n",
    "#reflecting bc\n",
    "t_matrixb[-1,-1] = -t_matrixb[-2,-1]\n",
    "#absorbing bc\n",
    "t_matrixb[:,0] *= 0.\n",
    "# t_matrixb[0,:] *= 0.\n",
    "# np.cumsum(t_matrixb,axis=1)[-1]\n",
    "# t_matrixb.max()#[:,-1]\n",
    "t_matrixb"
   ]
  },
  {
   "cell_type": "code",
   "execution_count": null,
   "id": "325b788c",
   "metadata": {},
   "outputs": [],
   "source": []
  },
  {
   "cell_type": "code",
   "execution_count": null,
   "id": "76a70760",
   "metadata": {},
   "outputs": [],
   "source": []
  },
  {
   "cell_type": "code",
   "execution_count": null,
   "id": "d4354099",
   "metadata": {
    "ExecuteTime": {
     "end_time": "2025-07-12T00:55:48.871737Z",
     "start_time": "2025-07-12T00:55:48.871731Z"
    }
   },
   "outputs": [],
   "source": [
    "np.eye(t_matrix.shape[0])+np.cumsum(t_matrix,axis=0)#[:,-1]\n",
    "np.cumsum(t_matrix,axis=0)[:,-1]\n",
    "np.around(np.cumsum(t_matrix,axis=0)[-2],5)\n",
    "np.around(np.cumsum(t_matrix,axis=0)[-1],5)\n",
    "np.around(np.cumsum(t_matrix,axis=0)[0],5)\n",
    "sum(np.around(t_matrix[0],5))\n",
    "t_matrix[0]\n",
    "# sum(t_matrix[50])\n",
    "# sum(np.around(t_matrix[-1],5))\n",
    "# sum(np.around(t_matrix[-2],5))"
   ]
  },
  {
   "cell_type": "markdown",
   "id": "2875c6c3",
   "metadata": {},
   "source": [
    "# simulate termination times in the continuum"
   ]
  },
  {
   "cell_type": "code",
   "execution_count": null,
   "id": "4ad2de05",
   "metadata": {
    "ExecuteTime": {
     "end_time": "2025-07-12T00:55:48.872303Z",
     "start_time": "2025-07-12T00:55:48.872297Z"
    }
   },
   "outputs": [],
   "source": [
    "#<10s run time to simulate\n",
    "#num_steps=100000\n",
    "# tmax=25\n",
    "tmax=100\n",
    "num_steps=int(tmax/DT)\n",
    "P_values=P_qs.copy()\n",
    "print(f\"{sum(P_values)=}\")\n",
    "t_values,P_net_values = integrate_transition_matrix(t_matrix,P_values,\n",
    "                                num_steps=num_steps,save_every=1000)#,**kwargs)\n",
    "print(f\"{P_net_values[-1]=}\")"
   ]
  },
  {
   "cell_type": "code",
   "execution_count": null,
   "id": "429237f3",
   "metadata": {
    "ExecuteTime": {
     "end_time": "2025-07-12T00:55:48.872786Z",
     "start_time": "2025-07-12T00:55:48.872781Z"
    }
   },
   "outputs": [],
   "source": [
    "fig,ax=plt.subplots(figsize=(6,4))\n",
    "ax.plot(t_values,P_net_values,lw=1,color='k')\n",
    "# ax.plot(t_values,P_net_values,lw=1)\n",
    "# ax.set_xlim([DT/2,1.1])\n",
    "# ax.set_ylim([0.001,1])\n",
    "# ax.set_xscale('log')\n",
    "ax.set_yscale('log')\n",
    "format_plot(ax=ax,xlabel='time (s)',ylabel='fraction not terminated',fontsize=14)\n",
    "ax.tick_params(top=True, right=True,direction='in',which='both')\n",
    "plt.ylim([1e-1,2])\n",
    "plt.show()"
   ]
  },
  {
   "cell_type": "code",
   "execution_count": null,
   "id": "ec0cf4e8",
   "metadata": {
    "ExecuteTime": {
     "end_time": "2025-07-12T00:55:48.873232Z",
     "start_time": "2025-07-12T00:55:48.873226Z"
    }
   },
   "outputs": [],
   "source": [
    "#compute the mean term. time from the OLS fit\n",
    "x,y=t_values,P_net_values\n",
    "B,Delta_B,m,Delta_m,Rsq=fit_exponential(x,y)\n",
    "rmse=compute_exponential_rmse(x,y,m,B)\n",
    "print_fit_exponential(x,y)\n",
    "mte = -1/m\n",
    "Delta_mte = Delta_m/(m**2)"
   ]
  },
  {
   "cell_type": "code",
   "execution_count": null,
   "id": "a6796e0c",
   "metadata": {
    "ExecuteTime": {
     "end_time": "2025-07-12T00:55:48.873716Z",
     "start_time": "2025-07-12T00:55:48.873710Z"
    }
   },
   "outputs": [],
   "source": [
    "#evaluate Eqn. 10\n",
    "num_iter=20\n",
    "# num_iter=40\n",
    "num_iter=80\n",
    "# A=25\n",
    "num_iter\n",
    "comp_Wp = get_comp_W(A,nup,Mp)\n",
    "comp_Wm = get_comp_W(A,num,Mm)\n",
    "phi = get_phi(comp_Wm,comp_Wp)\n",
    "n_qs,prob_qs = comp_quasistatic_distrib_paired_bdrates(comp_Wm,comp_Wp,num_iter=num_iter,freq_prev=1.) #correct qs\n",
    "Nbar = np.dot(n_qs,prob_qs)\n",
    "eval_tau= get_eval_tau(eval_tau_expression)\n",
    "tau = eval_tau(n_qs, prob_qs, phi, comp_Wm, comp_Wp, printing=False,**kwargs)\n",
    "# print(f\"tau: {tau:f} (eqn. 10)\")\n",
    "print(f\"tau: {tau:e} (eqn. 10)\")\n",
    "print(f\"mte: {mte:f} ± {Delta_mte:f} seconds (transition matrix)\")\n",
    "print(f\"mean num particles: {Nbar} (powerlaw)\")"
   ]
  },
  {
   "cell_type": "code",
   "execution_count": null,
   "id": "d417432c",
   "metadata": {},
   "outputs": [],
   "source": []
  }
 ],
 "metadata": {
  "kernelspec": {
   "display_name": "Python 3 (ipykernel)",
   "language": "python",
   "name": "python3"
  },
  "language_info": {
   "codemirror_mode": {
    "name": "ipython",
    "version": 3
   },
   "file_extension": ".py",
   "mimetype": "text/x-python",
   "name": "python",
   "nbconvert_exporter": "python",
   "pygments_lexer": "ipython3",
   "version": "3.9.5"
  },
  "toc": {
   "base_numbering": 1,
   "nav_menu": {},
   "number_sections": true,
   "sideBar": true,
   "skip_h1_title": false,
   "title_cell": "Table of Contents",
   "title_sidebar": "Contents",
   "toc_cell": false,
   "toc_position": {},
   "toc_section_display": true,
   "toc_window_display": false
  }
 },
 "nbformat": 4,
 "nbformat_minor": 5
}
