{
 "cells": [
  {
   "cell_type": "markdown",
   "id": "a9057c9d",
   "metadata": {},
   "source": [
    "# Generating LPM trajectories showing creation and annihilation\n",
    "Tim Tyree <br>\n",
    "3.29.2025"
   ]
  },
  {
   "cell_type": "code",
   "execution_count": 1,
   "id": "f7faf6e9",
   "metadata": {
    "ExecuteTime": {
     "end_time": "2025-03-29T19:42:51.802178Z",
     "start_time": "2025-03-29T19:42:49.140779Z"
    }
   },
   "outputs": [],
   "source": [
    "from lib import *\n",
    "from lib.my_initialization import *\n",
    "plt.plot([1]*4)\n",
    "plt.close()\n",
    "#reset matplotlib\n",
    "import matplotlib\n",
    "matplotlib.rcParams.update(matplotlib.rcParamsDefault)\n",
    "mpl.rcParams.update(matplotlib.rcParamsDefault) #reset matplotlib"
   ]
  },
  {
   "cell_type": "markdown",
   "id": "d1f4f1a0",
   "metadata": {},
   "source": [
    "# define module"
   ]
  },
  {
   "cell_type": "code",
   "execution_count": 2,
   "id": "9027cd68",
   "metadata": {
    "ExecuteTime": {
     "end_time": "2025-03-29T19:42:51.807442Z",
     "start_time": "2025-03-29T19:42:51.803090Z"
    }
   },
   "outputs": [],
   "source": [
    "# @njit\n",
    "def sqdiff(x1, x2):\n",
    "    return pow((x1-x2),2)\n",
    "\n",
    "# @njit\n",
    "def min3(num1, num2, num3):\n",
    "    if (num1 > num2 ):\n",
    "        mn=num2\n",
    "    else:\n",
    "        mn=num1\n",
    "    if (mn>num3):\n",
    "        mn=num3\n",
    "    return mn\n",
    "\n",
    "# @njit\n",
    "def dist_pbc(x1, y1, x2, y2, L):\n",
    "    # returns the smallest dist of each possible pbc combination\n",
    "    xsq1 = sqdiff(x1,x2)\n",
    "    xsq2 = sqdiff(x1,x2+L)\n",
    "    xsq3 = sqdiff(x1,x2-L)\n",
    "    ysq1 = sqdiff(y1,y2)\n",
    "    ysq2 = sqdiff(y1,y2+L)\n",
    "    ysq3 = sqdiff(y1,y2-L)\n",
    "    xsq  = min3(xsq1,xsq2,xsq3)\n",
    "    ysq  = min3(ysq1,ysq2,ysq3)\n",
    "    return np.sqrt(xsq+ysq)\n",
    "\n",
    "# @njit\n",
    "def subtract_pbc_1d(x1, x2, L):\n",
    "    # returns the smallest dist of each possible pbc combination\n",
    "    dx = x1-x2\n",
    "    dx1 = x1-x2+L\n",
    "    dx2 = x1-x2-L\n",
    "    if (abs(dx1)<abs(dx)):\n",
    "        dx=dx1;\n",
    "    else:\n",
    "        if (abs(dx2)<abs(dx)):\n",
    "            dx=dx2\n",
    "    return dx\n",
    "\n",
    "# @njit\n",
    "def reflection(X, L):\n",
    "    return L-abs(L-abs(X % 2.*L))\n",
    "# @njit\n",
    "def periodic(X, L):\n",
    "    x=X % L\n",
    "    if (x<0.):\n",
    "        return x+L\n",
    "    return x\n",
    "# def seed_new_particle(x_new,y_new,still_running,L,R_c_bar,max_num_retries=100):\n",
    "#     \"\"\"\n",
    "#     Example Usage:\n",
    "# xg,yg=seed_new_particle(x_new,y_new,still_running,L,R_c_bar,max_num_retries=100)\n",
    "#     \"\"\"\n",
    "#     xg=np.random.uniform(0,1)*L\n",
    "#     yg=np.random.uniform(0,1)*L\n",
    "#     mindist=2.*L\n",
    "#     for j in np.argwhere(still_running).flatten():\n",
    "#         dist=dist_pbc(xg,yg,x_new[j],y_new[j],L);\n",
    "#         if dist<mindist:\n",
    "#             mindist=dist\n",
    "#     #while new particle is within distance R_c_bar from any other particle\n",
    "#     num=0\n",
    "#     while (mindist<R_c_bar) and (num<max_num_retries):\n",
    "#         num+=1\n",
    "#         xg=np.random.uniform(0,1)*L\n",
    "#         yg=np.random.uniform(0,1)*L\n",
    "#         mindist=2.*L\n",
    "#         for j in np.argwhere(still_running).flatten():\n",
    "#             dist=dist_pbc(xg,yg,x_new[j],y_new[j],L);\n",
    "#             if dist<mindist:\n",
    "#                 mindist=dist\n",
    "#     return xg,yg"
   ]
  },
  {
   "cell_type": "markdown",
   "id": "6d9bdab3",
   "metadata": {},
   "source": [
    "# dev visualization of LPM motion with creation"
   ]
  },
  {
   "cell_type": "markdown",
   "id": "c3126372",
   "metadata": {},
   "source": [
    "            FK LR\n",
    "    D (cm2/s) 0.115 ± 0.008 0.42 ± 0.14\n",
    "    a (cm2/s) 1.552 ± 0.017 9.3 ±0.3\n",
    "    r (cm) 0.457±0.009 0.314±0.003\n",
    "    κ (Hz) 15 75"
   ]
  },
  {
   "cell_type": "markdown",
   "id": "2ee6bb04",
   "metadata": {},
   "source": [
    "          FK LR\n",
    "    δ (s) 0.1 0.1\n",
    "    r0 (cm) 0.131 ± 0.001 0.202 ± 0.003\n",
    "    b (cm2/s) 3.01±0.05 10.0 ± 0.5\n",
    "    Rc (cm) 0.85 1.25"
   ]
  },
  {
   "cell_type": "code",
   "execution_count": 3,
   "id": "598776f2",
   "metadata": {
    "ExecuteTime": {
     "end_time": "2025-03-29T19:42:51.810635Z",
     "start_time": "2025-03-29T19:42:51.808752Z"
    }
   },
   "outputs": [],
   "source": [
    "#recall LPM movement parameters for the FK model\n",
    "D = 0.115 #cm^2/s FK\n",
    "# D = 0.42 #cm^2/s LR\n",
    "a = 1.552 #cm^2/s FK\n",
    "# a = 9.3 #cm^2/s LR\n",
    "r = 0.457 #cm FK\n",
    "# r = 0.314 #cm LR\n",
    "kappa = 15 #Hz FK\n",
    "# kappa = 75 #Hz LR\n",
    "\n",
    "#recall LPM creation parameters for the FK model\n",
    "Rc = 0.85 # cm FK\n",
    "# Rc = 1.25 # cm LR\n",
    "creation_duration = 0.1 #s #both FK and LR\n",
    "b = 3.01 #±0.05 cm^2/s FK\n",
    "# b = 10.0 #±0.5 cm^2/s LR\n",
    "r0 = 1.31 #±0.001 cm FK\n",
    "# r0 = 0.202 #±0.003 cm LR"
   ]
  },
  {
   "cell_type": "code",
   "execution_count": 4,
   "id": "fdbe8c3f",
   "metadata": {
    "ExecuteTime": {
     "end_time": "2025-03-29T19:42:51.813638Z",
     "start_time": "2025-03-29T19:42:51.811491Z"
    }
   },
   "outputs": [],
   "source": [
    "#place 2 particles at a given initial angle (theta0=-pi/4) centered about the origin\n",
    "theta0=-np.pi/4\n",
    "rc = Rc/2.\n",
    "xy0_self = rc*np.array([np.cos(theta0),np.sin(theta0)])\n",
    "xy0_other = rc*np.array([np.cos(theta0+np.pi),np.sin(theta0+np.pi)])"
   ]
  },
  {
   "cell_type": "code",
   "execution_count": 5,
   "id": "e384d82a",
   "metadata": {
    "ExecuteTime": {
     "end_time": "2025-03-29T19:42:52.109392Z",
     "start_time": "2025-03-29T19:42:51.814770Z"
    }
   },
   "outputs": [
    {
     "name": "stdout",
     "output_type": "stream",
     "text": [
      " |██████----------------------------------------------------------------------------------------------| 6.0% \n",
      "tmax=0.18222000000004146\n"
     ]
    }
   ],
   "source": [
    "dt = 1e-5\n",
    "# seed = 42\n",
    "# seed = 5 #beautiful++\n",
    "# # seed = 8 #beautiful+\n",
    "# # seed = 12 #gorgeous\n",
    "seed=13 #beautiful++\n",
    "#heretim\n",
    "# tmax = 30. #seconds\n",
    "tmax = 3. #seconds\n",
    "# tmax = .3 #seconds\n",
    "printing=True\n",
    "np.random.seed(seed)\n",
    "rsq = r**2\n",
    "t = 0\n",
    "xy_lst_self = [xy0_self]\n",
    "xy_lst_other = [xy0_other]\n",
    "#time evolve their trajectories with no other creations/particles\n",
    "nsteps = int(tmax/dt)\n",
    "step = 0\n",
    "while t<tmax:\n",
    "    step +=1\n",
    "    t+=dt\n",
    "    #recall positions\n",
    "    xy_self = xy_lst_self[-1]\n",
    "    xy_other = xy_lst_other[-1]\n",
    "    Rsq = np.sum((xy_self - xy_other) ** 2)\n",
    "    x_self_next = xy_self[0]\n",
    "    x_other_next = xy_other[0]\n",
    "    y_self_next = xy_self[1]\n",
    "    y_other_next = xy_other[1]\n",
    "    dx = (x_other_next - x_self_next).copy()\n",
    "    dy = (y_other_next - y_self_next).copy()\n",
    "#     #apply repulsive force\n",
    "#     if t<creation_duration:\n",
    "#         x_self_next+=dt*b*dx/Rsq\n",
    "#         x_other_next-=dt*b*dx/Rsq\n",
    "#         y_self_next+=dt*b*dy/Rsq\n",
    "#         y_other_next-=dt*b*dy/Rsq\n",
    "    #apply repulsive force\n",
    "    if t<creation_duration:\n",
    "        x_self_next-=dt*b*dx/Rsq\n",
    "        x_other_next+=dt*b*dx/Rsq\n",
    "        y_self_next-=dt*b*dy/Rsq\n",
    "        y_other_next+=dt*b*dy/Rsq\n",
    "#     #apply attractive force\n",
    "#     x_self_next-=dt*a*dx/Rsq\n",
    "#     x_other_next+=dt*a*dx/Rsq\n",
    "#     y_self_next-=dt*a*dy/Rsq\n",
    "#     y_other_next+=dt*a*dy/Rsq\n",
    "    #apply attractive force\n",
    "    x_self_next+=dt*a*dx/Rsq\n",
    "    x_other_next-=dt*a*dx/Rsq\n",
    "    y_self_next+=dt*a*dy/Rsq\n",
    "    y_other_next-=dt*a*dy/Rsq\n",
    "    #apply noise\n",
    "    Dcoeff = np.sqrt(2.*D*dt)\n",
    "    x_self_next += Dcoeff*np.random.normal()\n",
    "    x_other_next+= Dcoeff*np.random.normal()\n",
    "    y_self_next+=  Dcoeff*np.random.normal()\n",
    "    y_other_next+= Dcoeff*np.random.normal()\n",
    "    #record\n",
    "    xy_self = np.array([x_self_next,y_self_next])\n",
    "    xy_other = np.array([x_other_next,y_other_next])\n",
    "    xy_lst_self.append(xy_self)\n",
    "    xy_lst_other.append(xy_other)\n",
    "    if printing and (step % 1000 == 0):\n",
    "        printProgressBar(step,nsteps)    \n",
    "    #implement capture stop condition\n",
    "    if Rsq<rsq:\n",
    "        p = np.random.rand()\n",
    "        if p<kappa*dt:\n",
    "            tmax = t\n",
    "print(f\"\\n{tmax=}\")"
   ]
  },
  {
   "cell_type": "code",
   "execution_count": 6,
   "id": "b845428d",
   "metadata": {
    "ExecuteTime": {
     "end_time": "2025-03-29T19:42:52.126752Z",
     "start_time": "2025-03-29T19:42:52.110084Z"
    }
   },
   "outputs": [],
   "source": [
    "xy_values_self = np.stack(xy_lst_self)\n",
    "xy_values_other = np.stack(xy_lst_other)"
   ]
  },
  {
   "cell_type": "code",
   "execution_count": 7,
   "id": "e063e5e0",
   "metadata": {
    "ExecuteTime": {
     "end_time": "2025-03-29T19:42:52.294762Z",
     "start_time": "2025-03-29T19:42:52.127554Z"
    }
   },
   "outputs": [
    {
     "data": {
      "image/png": "[encoded data removed]",
      "text/plain": [
       "<Figure size 600x400 with 1 Axes>"
      ]
     },
     "metadata": {},
     "output_type": "display_data"
    }
   ],
   "source": [
    "#TODO: visualize like in Fig. 1B in the annihilation dynamics paper\n",
    "color = 'C0'\n",
    "fontsize=16\n",
    "lw=1\n",
    "fig,ax=plt.subplots(figsize=(6,4))\n",
    "#plot birth\n",
    "plt.scatter([xy_values_self[0,0]],[xy_values_self[0,1]],color='green',s=100)\n",
    "plt.scatter([xy_values_other[0,0]],[xy_values_other[0,1]],color='green',s=100)\n",
    "try:\n",
    "    #plot repulsion turning off\n",
    "    ioff = int(creation_duration/dt)\n",
    "    plt.scatter([xy_values_self[ioff,0]],[xy_values_self[ioff,1]],color='k',s=100,marker='x')\n",
    "    plt.scatter([xy_values_other[ioff,0]],[xy_values_other[ioff,1]],color='k',s=100,marker='x')\n",
    "except IndexError as e:\n",
    "    pass\n",
    "#plot death\n",
    "plt.scatter([xy_values_self[-1,0]],[xy_values_self[-1,1]],color='red',s=100)\n",
    "plt.scatter([xy_values_other[-1,0]],[xy_values_other[-1,1]],color='red',s=100)\n",
    "\n",
    "\n",
    "plt.plot(xy_values_self[:,0],xy_values_self[:,1],color=color,lw=lw,zorder=-1)\n",
    "plt.plot(xy_values_other[:,0],xy_values_other[:,1],color=color,lw=lw,zorder=-1,label='LPM Fit to\\nFenton-Karma')\n",
    "# plt.plot(xy_values_other[:,0],xy_values_other[:,1],color='gray',lw=2)\n",
    "\n",
    "format_plot(fontsize=fontsize,xlabel='x (cm)',ylabel='y (cm)')\n",
    "ax = plt.gca()\n",
    "ax.grid('on')\n",
    "ax.axis('equal')\n",
    "ax.legend(fontsize=fontsize)\n",
    "plt.show()"
   ]
  },
  {
   "cell_type": "markdown",
   "id": "45dc0e52",
   "metadata": {},
   "source": [
    "# TODO: repeat for LR model in a separate panel"
   ]
  },
  {
   "cell_type": "code",
   "execution_count": 8,
   "id": "2ff772e2",
   "metadata": {
    "ExecuteTime": {
     "end_time": "2025-03-29T19:42:52.297422Z",
     "start_time": "2025-03-29T19:42:52.295535Z"
    }
   },
   "outputs": [],
   "source": [
    "#recall LPM movement parameters for the FK model\n",
    "# D = 0.115 #cm^2/s FK\n",
    "D = 0.42 #cm^2/s LR\n",
    "# a = 1.552 #cm^2/s FK\n",
    "a = 9.3 #cm^2/s LR\n",
    "# r = 0.457 #cm FK\n",
    "r = 0.314 #cm LR\n",
    "# kappa = 15 #Hz FK\n",
    "kappa = 75 #Hz LR\n",
    "\n",
    "#recall LPM creation parameters for the FK model\n",
    "# Rc = 0.85 # cm FK\n",
    "Rc = 1.25 # cm LR\n",
    "creation_duration = 0.1 #s #both FK and LR\n",
    "# b = 3.01 #±0.05 cm^2/s FK\n",
    "b = 10.0 #±0.5 cm^2/s LR\n",
    "# r0 = 1.31 #±0.001 cm FK\n",
    "r0 = 0.202 #±0.003 cm LR"
   ]
  },
  {
   "cell_type": "code",
   "execution_count": 9,
   "id": "f16683b4",
   "metadata": {
    "ExecuteTime": {
     "end_time": "2025-03-29T19:42:52.300796Z",
     "start_time": "2025-03-29T19:42:52.298848Z"
    }
   },
   "outputs": [],
   "source": [
    "#place 2 particles at a given initial angle (theta0=-pi/4) centered about the origin\n",
    "# theta0=-np.pi/4\n",
    "theta0=+np.pi/4\n",
    "rc = Rc/2.\n",
    "xy0_self = rc*np.array([np.cos(theta0),np.sin(theta0)])\n",
    "xy0_other = rc*np.array([np.cos(theta0+np.pi),np.sin(theta0+np.pi)])"
   ]
  },
  {
   "cell_type": "code",
   "execution_count": 10,
   "id": "bbdb7784",
   "metadata": {
    "ExecuteTime": {
     "end_time": "2025-03-29T19:42:52.660337Z",
     "start_time": "2025-03-29T19:42:52.301507Z"
    }
   },
   "outputs": [
    {
     "name": "stdout",
     "output_type": "stream",
     "text": [
      " |████████████████████████████████████████████████████████████████████████████------------------------| 76.7% \n",
      "tmax=0.23944000000009869\n"
     ]
    }
   ],
   "source": [
    "dt = 1e-5\n",
    "# seed = 42\n",
    "seed = 5 #beautiful++\n",
    "# # seed = 8 #beautiful+\n",
    "# # seed = 12 #gorgeous\n",
    "# # seed=13 #beautiful++\n",
    "#heretim\n",
    "# tmax = 30. #seconds\n",
    "# tmax = 3. #seconds\n",
    "tmax = .3 #seconds\n",
    "printing=True\n",
    "np.random.seed(seed)\n",
    "rsq = r**2\n",
    "t = 0\n",
    "xy_lst_self = [xy0_self]\n",
    "xy_lst_other = [xy0_other]\n",
    "#time evolve their trajectories with no other creations/particles\n",
    "nsteps = int(tmax/dt)\n",
    "step = 0\n",
    "while t<tmax:\n",
    "    step +=1\n",
    "    t+=dt\n",
    "    #recall positions\n",
    "    xy_self = xy_lst_self[-1]\n",
    "    xy_other = xy_lst_other[-1]\n",
    "    Rsq = np.sum((xy_self - xy_other) ** 2)\n",
    "    x_self_next = xy_self[0]\n",
    "    x_other_next = xy_other[0]\n",
    "    y_self_next = xy_self[1]\n",
    "    y_other_next = xy_other[1]\n",
    "    dx = x_other_next - x_self_next\n",
    "    dy = y_other_next - y_self_next\n",
    "#     #apply repulsive force\n",
    "#     if t<creation_duration:\n",
    "#         x_self_next+=dt*b*dx/Rsq\n",
    "#         x_other_next-=dt*b*dx/Rsq\n",
    "#         y_self_next+=dt*b*dy/Rsq\n",
    "#         y_other_next-=dt*b*dy/Rsq\n",
    "    #apply repulsive force\n",
    "    if t<creation_duration:\n",
    "        x_self_next-=dt*b*dx/Rsq\n",
    "        x_other_next+=dt*b*dx/Rsq\n",
    "        y_self_next-=dt*b*dy/Rsq\n",
    "        y_other_next+=dt*b*dy/Rsq\n",
    "#     #apply attractive force\n",
    "#     x_self_next-=dt*a*dx/Rsq\n",
    "#     x_other_next+=dt*a*dx/Rsq\n",
    "#     y_self_next-=dt*a*dy/Rsq\n",
    "#     y_other_next+=dt*a*dy/Rsq\n",
    "    #apply attractive force\n",
    "    x_self_next+=dt*a*dx/Rsq\n",
    "    x_other_next-=dt*a*dx/Rsq\n",
    "    y_self_next+=dt*a*dy/Rsq\n",
    "    y_other_next-=dt*a*dy/Rsq\n",
    "    #apply noise\n",
    "    Dcoeff = np.sqrt(2.*D*dt)\n",
    "    x_self_next += Dcoeff*np.random.normal()\n",
    "    x_other_next+= Dcoeff*np.random.normal()\n",
    "    y_self_next+=  Dcoeff*np.random.normal()\n",
    "    y_other_next+= Dcoeff*np.random.normal()\n",
    "    #record\n",
    "    xy_self = np.array([x_self_next,y_self_next])\n",
    "    xy_other = np.array([x_other_next,y_other_next])\n",
    "    xy_lst_self.append(xy_self)\n",
    "    xy_lst_other.append(xy_other)\n",
    "    if printing and (step % 1000 == 0):\n",
    "        printProgressBar(step,nsteps)    \n",
    "    #implement capture stop condition\n",
    "    if Rsq<rsq:\n",
    "        p = np.random.rand()\n",
    "        if p<kappa*dt:\n",
    "            tmax = t\n",
    "print(f\"\\n{tmax=}\")"
   ]
  },
  {
   "cell_type": "code",
   "execution_count": 11,
   "id": "3cdc1ca2",
   "metadata": {
    "ExecuteTime": {
     "end_time": "2025-03-29T19:42:52.682091Z",
     "start_time": "2025-03-29T19:42:52.661061Z"
    }
   },
   "outputs": [],
   "source": [
    "xy_values_self = np.stack(xy_lst_self)\n",
    "xy_values_other = np.stack(xy_lst_other)"
   ]
  },
  {
   "cell_type": "code",
   "execution_count": 12,
   "id": "58250f1a",
   "metadata": {
    "ExecuteTime": {
     "end_time": "2025-03-29T19:42:52.814005Z",
     "start_time": "2025-03-29T19:42:52.682889Z"
    }
   },
   "outputs": [
    {
     "data": {
      "image/png": "[encoded data removed]",
      "text/plain": [
       "<Figure size 600x400 with 1 Axes>"
      ]
     },
     "metadata": {},
     "output_type": "display_data"
    }
   ],
   "source": [
    "#TODO: visualize like in Fig. 1B in the annihilation dynamics paper\n",
    "color = 'C1'\n",
    "fontsize=16\n",
    "lw=1\n",
    "fig,ax=plt.subplots(figsize=(6,4))\n",
    "#plot birth\n",
    "plt.scatter([xy_values_self[0,0]],[xy_values_self[0,1]],color='green',s=100)\n",
    "plt.scatter([xy_values_other[0,0]],[xy_values_other[0,1]],color='green',s=100)\n",
    "try:\n",
    "    #plot repulsion turning off\n",
    "    ioff = int(creation_duration/dt)\n",
    "    plt.scatter([xy_values_self[ioff,0]],[xy_values_self[ioff,1]],color='k',s=100,marker='x')\n",
    "    plt.scatter([xy_values_other[ioff,0]],[xy_values_other[ioff,1]],color='k',s=100,marker='x')\n",
    "except IndexError as e:\n",
    "    pass\n",
    "#plot death\n",
    "plt.scatter([xy_values_self[-1,0]],[xy_values_self[-1,1]],color='red',s=100)\n",
    "plt.scatter([xy_values_other[-1,0]],[xy_values_other[-1,1]],color='red',s=100)\n",
    "\n",
    "\n",
    "plt.plot(xy_values_self[:,0],xy_values_self[:,1],color=color,lw=lw,zorder=-1)\n",
    "plt.plot(xy_values_other[:,0],xy_values_other[:,1],color=color,lw=lw,zorder=-1,label='LPM Fit to\\nLuo-Rudy')\n",
    "# plt.plot(xy_values_other[:,0],xy_values_other[:,1],color='gray',lw=2)\n",
    "\n",
    "format_plot(fontsize=fontsize,xlabel='x (cm)',ylabel='y (cm)')\n",
    "ax = plt.gca()\n",
    "ax.grid('on')\n",
    "ax.axis('equal')\n",
    "ax.legend(fontsize=fontsize)\n",
    "plt.show()"
   ]
  },
  {
   "cell_type": "code",
   "execution_count": null,
   "id": "d6b95158",
   "metadata": {},
   "outputs": [],
   "source": []
  }
 ],
 "metadata": {
  "kernelspec": {
   "display_name": "Python 3 (ipykernel)",
   "language": "python",
   "name": "python3"
  },
  "language_info": {
   "codemirror_mode": {
    "name": "ipython",
    "version": 3
   },
   "file_extension": ".py",
   "mimetype": "text/x-python",
   "name": "python",
   "nbconvert_exporter": "python",
   "pygments_lexer": "ipython3",
   "version": "3.9.5"
  },
  "toc": {
   "base_numbering": 1,
   "nav_menu": {},
   "number_sections": true,
   "sideBar": true,
   "skip_h1_title": false,
   "title_cell": "Table of Contents",
   "title_sidebar": "Contents",
   "toc_cell": false,
   "toc_position": {},
   "toc_section_display": true,
   "toc_window_display": false
  }
 },
 "nbformat": 4,
 "nbformat_minor": 5
}
