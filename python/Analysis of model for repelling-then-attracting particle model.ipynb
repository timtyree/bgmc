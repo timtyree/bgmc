{
 "cells": [
  {
   "cell_type": "markdown",
   "id": "5b8655a5",
   "metadata": {},
   "source": [
    "# Analysis of model for repelling-then-attracting particle model\n",
    "- TODO: move this to bgmc"
   ]
  },
  {
   "cell_type": "markdown",
   "id": "502d5653",
   "metadata": {},
   "source": [
    "the deterministic model is \n",
    "\n",
    "$$\n",
    "\\frac{d\\bar R}{dt} = -\\frac{2a}{\\bar R}\\cos(\\omega t).\n",
    "$$\n",
    "\n",
    "integrating, we find\n",
    "\n",
    "\\begin{aligned}\n",
    "\\text{MSR}(t_f-t) = 4a\\frac{\\sin(\\omega (t_f-t))}{\\omega}\n",
    "\\end{aligned}\n",
    "\n",
    "in the short-time limit, we find \n",
    "\n",
    "$$\n",
    "\\text{MSR}(t_f-t) \\sim 4a (t_f-t) \\text{ as } (t_f-t)\\rightarrow 0\n",
    "$$\n",
    "\n",
    "\n",
    "In choosing, the lifetime, $\\Gamma=t_f-t_0$, we also choose the mean value for the apparent attraction coefficient, according to\n",
    "\n",
    "$$\n",
    "\\hat a=??(\\Gamma)\n",
    "$$\n",
    "\n",
    "^this is hard to compute analytically, so let's simulate it 1000 times in numpy..."
   ]
  },
  {
   "cell_type": "code",
   "execution_count": 1,
   "id": "c6258e74",
   "metadata": {
    "ExecuteTime": {
     "end_time": "2021-12-08T06:18:50.190222Z",
     "start_time": "2021-12-08T06:18:50.188127Z"
    }
   },
   "outputs": [],
   "source": [
    "#TODO: copy old simulation from bgmc"
   ]
  },
  {
   "cell_type": "markdown",
   "id": "7e79c39a",
   "metadata": {
    "ExecuteTime": {
     "end_time": "2021-12-08T02:27:38.656107Z",
     "start_time": "2021-12-08T02:27:38.649427Z"
    }
   },
   "source": [
    "# Analysis of model for repelling-then-attracting particle model\n",
    "- TODO: move this to bgmc\n",
    "\n",
    "the deterministic model is \n",
    "\n",
    "$$\n",
    "\\frac{d\\bar R}{dt} = -\\frac{2a}{\\bar R}\\cos(\\omega t).\n",
    "$$\n",
    "\n",
    "integrating, we find\n",
    "\n",
    "\\begin{aligned}\n",
    "\\text{MSR}(t_f-t) = 4a\\frac{\\sin(\\omega (t_f-t))}{\\omega}\n",
    "\\end{aligned}\n",
    "\n",
    "in the short-time limit, we find \n",
    "\n",
    "$$\n",
    "\\text{MSR}(t_f-t) \\sim 4a (t_f-t) \\text{ as } (t_f-t)\\rightarrow 0\n",
    "$$\n",
    "\n",
    "\n",
    "In choosing, the lifetime, $\\Gamma=t_f-t_0$, we also choose the mean value for the apparent attraction coefficient, according to\n",
    "\n",
    "$$\n",
    "\\hat a=??(\\Gamma)\n",
    "$$\n",
    "\n",
    "^this is hard to compute analytically, so let's simulate it 1000 times in numpy..."
   ]
  },
  {
   "cell_type": "markdown",
   "id": "728ff275",
   "metadata": {},
   "source": [
    "# GOAL: simulate $\\hat a=??(\\Gamma)$ using the monte-carlo method"
   ]
  },
  {
   "cell_type": "code",
   "execution_count": 2,
   "id": "b1f5f6bc",
   "metadata": {
    "ExecuteTime": {
     "end_time": "2021-12-08T06:18:50.197680Z",
     "start_time": "2021-12-08T06:18:50.191110Z"
    }
   },
   "outputs": [],
   "source": [
    "#TODO: copy old simulation from bgmc\n"
   ]
  },
  {
   "cell_type": "code",
   "execution_count": null,
   "id": "1e633c73",
   "metadata": {},
   "outputs": [],
   "source": []
  },
  {
   "cell_type": "code",
   "execution_count": 3,
   "id": "fc12131d",
   "metadata": {
    "ExecuteTime": {
     "end_time": "2021-12-08T06:18:50.203353Z",
     "start_time": "2021-12-08T06:18:50.199262Z"
    }
   },
   "outputs": [],
   "source": [
    "#TODO: modify ^this old simulation to releast and have an effective force in the sinusoidal model"
   ]
  },
  {
   "cell_type": "code",
   "execution_count": 4,
   "id": "a581f115",
   "metadata": {
    "ExecuteTime": {
     "end_time": "2021-12-08T06:18:52.273114Z",
     "start_time": "2021-12-08T06:18:50.204720Z"
    }
   },
   "outputs": [],
   "source": [
    "import cupy as cp, numpy as np\n",
    "import time\n",
    "import matplotlib.pyplot as plt\n",
    "from lib import *\n",
    "from scipy.signal import savgol_filter\n",
    "import dask.bag as db"
   ]
  },
  {
   "cell_type": "code",
   "execution_count": 5,
   "id": "be99c366",
   "metadata": {
    "ExecuteTime": {
     "end_time": "2021-12-08T06:18:52.502783Z",
     "start_time": "2021-12-08T06:18:52.274137Z"
    }
   },
   "outputs": [],
   "source": [
    "from lib.lib_care.measure.bootstrap import bin_and_bootstrap_xy_values_parallel"
   ]
  },
  {
   "cell_type": "code",
   "execution_count": 6,
   "id": "6a6a6904",
   "metadata": {
    "ExecuteTime": {
     "end_time": "2021-12-08T06:18:52.513355Z",
     "start_time": "2021-12-08T06:18:52.504052Z"
    }
   },
   "outputs": [],
   "source": [
    "darkmode=True\n",
    "if darkmode:\n",
    "    # For darkmode plots\n",
    "    from jupyterthemes import jtplot\n",
    "    jtplot.style(theme='monokai', context='notebook', ticks=True, grid=False)"
   ]
  },
  {
   "cell_type": "code",
   "execution_count": 7,
   "id": "1de9784b",
   "metadata": {
    "ExecuteTime": {
     "end_time": "2021-12-08T06:18:52.516682Z",
     "start_time": "2021-12-08T06:18:52.514550Z"
    }
   },
   "outputs": [],
   "source": [
    "seed=42\n",
    "# #random number stream A\n",
    "# rs = RandomState(MT19937(SeedSequence(seed)))\n",
    "# #random number stream B\n",
    "# # rs = RandomState(MT19937(SeedSequence(987654321)))\n",
    "np.random.seed(seed)\n",
    "# cp.random.seed(seed)"
   ]
  },
  {
   "cell_type": "markdown",
   "id": "19a9d100",
   "metadata": {},
   "source": [
    "# define module  - TODO: port module to lib"
   ]
  },
  {
   "cell_type": "code",
   "execution_count": 8,
   "id": "c1d96a92",
   "metadata": {
    "ExecuteTime": {
     "end_time": "2021-12-08T06:18:52.526271Z",
     "start_time": "2021-12-08T06:18:52.517996Z"
    }
   },
   "outputs": [],
   "source": [
    "# num_pairs=150 #number of independent pairs of particles\n",
    "# a=8.5 #cm^2/s known attraction coefficient \n",
    "# D=0.3 #cm^2/s known diffusion coefficient\n",
    "# Dt=1e-5 #s\n",
    "# initial_phase_orientation=np.pi#0.#radians\n",
    "# period_of_oscillation=90.#ms\n",
    "# rstart=0.11\n",
    "# rend=0.1 #cm\n",
    "# printing=False\n",
    "# print_every=10000\n",
    "# mode='oscillatory'\n",
    "# use_early_stopping=True\n",
    "# # **kwargs"
   ]
  },
  {
   "cell_type": "code",
   "execution_count": 9,
   "id": "078795bd",
   "metadata": {
    "ExecuteTime": {
     "end_time": "2021-12-08T06:18:52.547325Z",
     "start_time": "2021-12-08T06:18:52.527780Z"
    }
   },
   "outputs": [],
   "source": [
    "def gener_positions_oscillatory(\n",
    "    num_pairs=150, #number of independent pairs of particles\n",
    "    a=8.5, #cm^2/s known attraction coefficient \n",
    "    D=0.3, #cm^2/s known diffusion coefficient\n",
    "    Dt=1e-5, #s\n",
    "    initial_phase_orientation=0.,#radians\n",
    "    period_of_oscillation=90.,#ms\n",
    "    rstart=0.2,\n",
    "    rend=0.1, #cm\n",
    "    printing=False,print_every=50000,\n",
    "    mode='oscillatory',\n",
    "    use_early_stopping=True,\n",
    "    **kwargs\n",
    "    ):\n",
    "    '''\n",
    "    Example Usage:\n",
    "    positions_out,mean_array,std_array=gener_positions_oscillatory(a=a,D=D,printing=True)\n",
    "    '''\n",
    "    dont_break=True\n",
    "    #initialize particles locations as being at the same locations\n",
    "    t=0\n",
    "    x1=0\n",
    "    x2=np.sqrt(rstart)\n",
    "    y1=0\n",
    "    y2=np.sqrt(rstart)\n",
    "    zero_values=np.zeros(num_pairs)\n",
    "\n",
    "    x1_values=zero_values.copy()+x1\n",
    "    x2_values=zero_values.copy()+x2\n",
    "    y1_values=zero_values.copy()+y1\n",
    "    y2_values=zero_values.copy()+y2\n",
    "\n",
    "    stepscale = np.sqrt(2 * D * Dt)\n",
    "    impulse_prefactor = a * Dt\n",
    "\n",
    "    tmax=10#0.1#1 #seconds\n",
    "    num_steps=np.int64(np.around(tmax/Dt))\n",
    "\n",
    "    position_array=np.zeros(shape=(num_steps,4,num_pairs))+np.nan\n",
    "    mean_array=np.zeros(shape=(num_steps,3))\n",
    "    std_array=np.zeros(shape=(num_steps,3))\n",
    "\n",
    "    #add support for still_running\n",
    "    boo_still_running=zero_values==zero_values\n",
    "\n",
    "    #compute the distance between each pair of particles\n",
    "    dx_values=(x2_values-x1_values)\n",
    "    dy_values=(y2_values-y1_values)\n",
    "    Rsq_values=dx_values*dx_values+dy_values*dy_values\n",
    "    omega=period_of_oscillation/(2*np.pi)\n",
    "    random_time_constant=initial_phase_orientation*omega\n",
    "    if printing:\n",
    "        print(f\"running simulation for {num_steps} steps...\")\n",
    "    start=time.time()\n",
    "    step_num=0\n",
    "    while dont_break and (step_num < num_steps):\n",
    "        t=step_num*Dt + random_time_constant\n",
    "        #compute the attractive step between all pairs\n",
    "        f_values=impulse_prefactor/Rsq_values\n",
    "        F1x=f_values*dx_values\n",
    "        F1y=f_values*dy_values\n",
    "        if mode=='oscillatory':\n",
    "            F1x*=np.sin(omega*t)\n",
    "            F1y*=np.sin(omega*t)\n",
    "\n",
    "        #compute the diffusive step between all pairs\n",
    "        dxW1_values=stepscale*np.random.normal(size=num_pairs)\n",
    "        dxW2_values=stepscale*np.random.normal(size=num_pairs)\n",
    "        dyW1_values=stepscale*np.random.normal(size=num_pairs)\n",
    "        dyW2_values=stepscale*np.random.normal(size=num_pairs)\n",
    "\n",
    "        #the mean distance between all pairs of particles\n",
    "        R_values=np.sqrt(Rsq_values)\n",
    "        mean_R=np.mean(R_values)\n",
    "        std_R=np.std(R_values)\n",
    "\n",
    "        #the mean magnitude of the diffusive step\n",
    "        diffusive_step_values=0.5*np.sqrt(dxW1_values**2+dyW1_values**2)+0.5*np.sqrt(dxW2_values**2+dyW2_values**2)\n",
    "        mean_diffusive_step=np.mean(diffusive_step_values)\n",
    "        std_diffusive_step=np.std(diffusive_step_values)\n",
    "\n",
    "        #the mean magnitude of the attractive step\n",
    "        attractive_step_values=np.sqrt(F1x**2+F1y**2)\n",
    "        mean_attractive_step=np.mean(attractive_step_values)\n",
    "        std_attractive_step=np.std(attractive_step_values)\n",
    "        if printing:\n",
    "            if (step_num+1) % print_every == 0:\n",
    "                relative_percent=100*mean_diffusive_step/mean_attractive_step\n",
    "                print(f\"simulation {100*(step_num+1)/num_steps:.0f}% completed: R={mean_R:.4f}+/-{1.96*std_R:.4f}, diffusion/attraction is {relative_percent:.2f}%\")\n",
    "                # print(f\"the mean range is {mean_R:.4f} cm\")\n",
    "                # print(f\"the mean diffusive step was {100*mean_diffusive_step/mean_attractive_step:.2f}% larger than the mean attractive step\")\n",
    "\n",
    "        #compute the net change in position \n",
    "        x1step_values=F1x+dxW1_values\n",
    "        y1step_values=F1y+dyW1_values\n",
    "        x2step_values=-F1x+dxW2_values\n",
    "        y2step_values=-F1y+dyW2_values\n",
    "\n",
    "        #identify any particles that didn't get within the threshold distance\n",
    "        #compute the distance between each pair of particles\n",
    "        dx_values=(x2_values-x1_values)\n",
    "        dy_values=(y2_values-y1_values)\n",
    "        Rsq_values=dx_values**2+dy_values**2\n",
    "\n",
    "        #update particle locations if they are still running\n",
    "        x1_values[boo_still_running]=x1_values[boo_still_running]+x1step_values[boo_still_running]\n",
    "        y1_values[boo_still_running]=y1_values[boo_still_running]+y1step_values[boo_still_running]\n",
    "        x2_values[boo_still_running]=x2_values[boo_still_running]+x2step_values[boo_still_running]\n",
    "        y2_values[boo_still_running]=y2_values[boo_still_running]+y2step_values[boo_still_running]\n",
    "        #DONE: verified the mean distance between particles got smaller    \n",
    "        # if (step_count+1) % save_every == 0:\n",
    "        #save particle locations to a numpy array with the correct number of positions\n",
    "        # x1,y1,x2,y2\n",
    "        position_array[step_num,0,boo_still_running]=x1_values[boo_still_running]\n",
    "        position_array[step_num,1,boo_still_running]=y1_values[boo_still_running]\n",
    "        position_array[step_num,2,boo_still_running]=x2_values[boo_still_running]\n",
    "        position_array[step_num,3,boo_still_running]=y2_values[boo_still_running]\n",
    "        mean_array[step_num,0]=mean_R\n",
    "        mean_array[step_num,1]=mean_diffusive_step\n",
    "        mean_array[step_num,2]=mean_attractive_step\n",
    "        #save results for quick plotting\n",
    "        std_array[step_num,0]=std_R\n",
    "        std_array[step_num,1]=std_diffusive_step\n",
    "        std_array[step_num,2]=std_attractive_step\n",
    "\n",
    "    #         #identify any particles that didn't get within the threshold distance\n",
    "    #         #compute the distance between each pair of particles\n",
    "    #         dx_values=(x2_values-x1_values)\n",
    "    #         dy_values=(y2_values-y1_values)\n",
    "    #         Rsq_values=dx_values*dx_values+dy_values*dy_values\n",
    "        R_values=np.sqrt(Rsq_values)\n",
    "        boo_still_running=boo_still_running&(R_values>rend)\n",
    "        step_num+=1\n",
    "        if use_early_stopping and not boo_still_running.any():\n",
    "            dont_break=False\n",
    "    if printing:\n",
    "        print(f\"simulation complete!\\nTotal run time: {time.time()-start:.4f} seconds\")\n",
    "        print(f\"the number of particles that didn't finished is {sum(boo_still_running)} out of {boo_still_running.shape[0]}.\")\n",
    "\n",
    "    #DONE/DONT(ignore): compute the apparent attraction coefficient without smoothing\n",
    "    # np.argwhere(np.isnan(position_array[:,0,i])).flatten()\n",
    "    #identify any pairs that didn't end up closer than rend\n",
    "    boo_didnt_finish=~np.isnan(position_array[-1,0,:])\n",
    "    pairs_didnt_finish=np.argwhere(boo_didnt_finish).flatten()\n",
    "    #     if printing:\n",
    "    #         print((boo_didnt_finish.shape,pairs_didnt_finish))\n",
    "    set_pairs_ignore=set(pairs_didnt_finish)\n",
    "\n",
    "    tmax_recall=0.1 #max time to recall before the value is not nan\n",
    "    num_rows_recall=np.int64(np.around(tmax_recall/Dt))\n",
    "    if printing:\n",
    "        print(num_rows_recall)\n",
    "\n",
    "    #for each pair, identify the last row where the value is not nan\n",
    "    row_end_values=zero_values.copy()+np.nan\n",
    "    for i in range(num_pairs):\n",
    "        if not set_pairs_ignore.issuperset({i}):\n",
    "            #record end values for lifetimes\n",
    "            row_end=np.int64(np.argwhere(np.isnan(position_array[:,0,i]))[0,0])-1\n",
    "            row_end_values[i]=row_end\n",
    "\n",
    "            #this step can introduce some error\n",
    "            if row_end<num_rows_recall:\n",
    "                #add this i to the ignore list\n",
    "                set_pairs_ignore.add(i)\n",
    "\n",
    "    #DONE: add pair to set_pairs_ignore if it ends sooner than num_rows_recall\n",
    "\n",
    "    #for each pair not to be ignored, put the last num_rows_recall before row_end_values into an array\n",
    "    positions_lst=[]\n",
    "    for i in range(num_pairs):\n",
    "        if not set_pairs_ignore.issuperset({i}):\n",
    "            row_end=np.int64(row_end_values[i])\n",
    "            if row_end>=num_rows_recall:\n",
    "                positions=position_array[row_end-num_rows_recall:row_end,:,i]\n",
    "            else:\n",
    "                num_rows_rec=row_end\n",
    "                num_rows_pad=num_rows_recall-row_end\n",
    "                #pad the start with nans\n",
    "                nan_pad=np.full([num_rows_pad,4], np.nan)\n",
    "                positions=position_array[row_end-num_rows_rec:row_end,:,i]\n",
    "                #pad positions at its front\n",
    "                positions=np.concatenate((nan_pad,positions))\n",
    "\n",
    "            positions_lst.append(positions)\n",
    "    positions_out=np.stack(positions_lst,axis=-1)\n",
    "    #     del position_array\n",
    "    #     del positions_lst\n",
    "\n",
    "    #record lifetime of last remaining particle\n",
    "    Gamma_max=step_num*Dt\n",
    "    Gamma_values=row_end_values*Dt\n",
    "    dict_out={\n",
    "        \"Gamma_max\":Gamma_max,\n",
    "        \"Gamma_values\":Gamma_values,\n",
    "        \"positions_out\":positions_out,#all nan for some reason.  it's too big, too\n",
    "        \"mean_array\":mean_array,\n",
    "        \"std_array\":std_array\n",
    "    }\n",
    "    if printing:\n",
    "        print(*dict_out)\n",
    "        #print_dict(dict_out)\n",
    "    return dict_out"
   ]
  },
  {
   "cell_type": "code",
   "execution_count": 10,
   "id": "7c201f3b",
   "metadata": {
    "ExecuteTime": {
     "end_time": "2021-12-08T06:18:52.555899Z",
     "start_time": "2021-12-08T06:18:52.548672Z"
    }
   },
   "outputs": [],
   "source": [
    "# # position_array[row_end-num_rows_recall:row_end,:,i]\n",
    "# # num_rows_recall,row_end,i\n",
    "# # positions_lst[0]\n",
    "# positions\n",
    "# num_rows_pad"
   ]
  },
  {
   "cell_type": "code",
   "execution_count": 11,
   "id": "a8c3a304",
   "metadata": {
    "ExecuteTime": {
     "end_time": "2021-12-08T06:18:52.561620Z",
     "start_time": "2021-12-08T06:18:52.558331Z"
    }
   },
   "outputs": [],
   "source": [
    "# # positions_out.all()\n",
    "# # positions\n",
    "# Dt"
   ]
  },
  {
   "cell_type": "code",
   "execution_count": 12,
   "id": "35df4963",
   "metadata": {
    "ExecuteTime": {
     "end_time": "2021-12-08T06:18:52.568027Z",
     "start_time": "2021-12-08T06:18:52.562892Z"
    }
   },
   "outputs": [],
   "source": [
    "# #debug\n",
    "# # susa=x1_values\n",
    "# susa=position_array\n",
    "# np.isnan(susa).all(),np.isnan(susa).any(),susa.shape\n",
    "# # x1_values\n",
    "# # num_steps,step_num"
   ]
  },
  {
   "cell_type": "code",
   "execution_count": 13,
   "id": "45ad8b6f",
   "metadata": {
    "ExecuteTime": {
     "end_time": "2021-12-08T06:18:52.574219Z",
     "start_time": "2021-12-08T06:18:52.569146Z"
    }
   },
   "outputs": [],
   "source": [
    "# #     mean_array[step_num,0]=mean_R\n",
    "# #     mean_array[step_num,1]=mean_diffusive_step\n",
    "# #     mean_array[step_num,2]=mean_attractive_step\n",
    "# mean_array.shape\n",
    "# # Gamma_max=0.06318\n",
    "# row_end>=num_rows_recall"
   ]
  },
  {
   "cell_type": "code",
   "execution_count": 14,
   "id": "19e83460",
   "metadata": {
    "ExecuteTime": {
     "end_time": "2021-12-08T06:21:09.262088Z",
     "start_time": "2021-12-08T06:18:52.575749Z"
    }
   },
   "outputs": [
    {
     "name": "stdout",
     "output_type": "stream",
     "text": [
      "Gamma_max Gamma_values positions_out mean_array std_array\n",
      "\u0007\u0007\u0007\u0007\u0007"
     ]
    }
   ],
   "source": [
    "testing=True\n",
    "if testing:\n",
    "    #2 min. runtime\n",
    "    a=8.5\n",
    "    D=0.3\n",
    "    # initial_phase_orientation=-np.pi/2\n",
    "    initial_phase_orientation=np.pi/2\n",
    "    # initial_phase_orientation=0.\n",
    "    # initial_phase_orientation=np.pi\n",
    "    rstart=1.5\n",
    "    #before, long runtime\n",
    "    dict_out = gener_positions_oscillatory(\n",
    "                a=a, D=D, printing=False,num_pairs=10+1,rstart=rstart,initial_phase_orientation=initial_phase_orientation)\n",
    "    print(*dict_out)\n",
    "    beep(5)"
   ]
  },
  {
   "cell_type": "markdown",
   "id": "5ca46a89",
   "metadata": {
    "ExecuteTime": {
     "end_time": "2021-12-08T05:22:37.364332Z",
     "start_time": "2021-12-08T05:22:37.364322Z"
    }
   },
   "source": [
    "# analyse the MSR for the oscillatory particle model "
   ]
  },
  {
   "cell_type": "code",
   "execution_count": 16,
   "id": "9e47a330",
   "metadata": {
    "ExecuteTime": {
     "end_time": "2021-12-08T06:25:09.627626Z",
     "start_time": "2021-12-08T06:25:09.357719Z"
    }
   },
   "outputs": [
    {
     "name": "stdout",
     "output_type": "stream",
     "text": [
      "positions_out.shape=(10000, 4, 5)\n"
     ]
    },
    {
     "data": {
      "image/png": "[encoded data removed]",
      "text/plain": [
       "<Figure size 576x504 with 1 Axes>"
      ]
     },
     "metadata": {},
     "output_type": "display_data"
    }
   ],
   "source": [
    "positions_out=dict_out['positions_out']\n",
    "Dt=1e-5\n",
    "title=f\"a={a:.4f}, D={D:.4f}, \\phi_0={initial_phase_orientation:.4f}, R_0={rstart:.4f}\\n\"\n",
    "\n",
    "print(f\"positions_out.shape={positions_out.shape}\")\n",
    "#compute the distance between each pair of particles after aligning by annihilation (unshifted)\n",
    "x1_values=positions_out[::-1,0]\n",
    "y1_values=positions_out[::-1,1]\n",
    "x2_values=positions_out[::-1,2]\n",
    "y2_values=positions_out[::-1,3]\n",
    "dx_values=(x2_values-x1_values)\n",
    "dy_values=(y2_values-y1_values)\n",
    "Rsq_values=dx_values**2+dy_values**2\n",
    "#compute the ensemble averaged values\n",
    "MSR_values=np.mean(Rsq_values,axis=1)\n",
    "aligned_coordinates_values=np.mean(positions_out,axis=-1)\n",
    "# maxt=Dt*MSR_values.shape[0]\n",
    "t_values=np.arange(MSR_values.shape[0])*Dt\n",
    "# x_values=aligned_mean_values[:,0]\n",
    "# plt.plot(aligned_mean_values[:,1])\n",
    "# plt.plot(aligned_mean_values[:,2])\n",
    "# plt.plot(aligned_mean_values[:,3])\n",
    "\n",
    "plt.plot(t_values,MSR_values,c='C5')\n",
    "# plt.plot(t_values,aligned_mean_values[::-1,0]**2)\n",
    "plt.plot(t_values,t_values*0.,'--',c='gray',alpha=0.5)\n",
    "format_plot(ax=plt.gca(),xlabel=r'$t_f-t$ (sec)',ylabel=r'MSR (cm$^2$)')\n",
    "plt.title(title,fontsize=16)\n",
    "plt.show()"
   ]
  },
  {
   "cell_type": "code",
   "execution_count": 17,
   "id": "f2dda483",
   "metadata": {
    "ExecuteTime": {
     "end_time": "2021-12-08T06:25:11.389739Z",
     "start_time": "2021-12-08T06:25:11.384831Z"
    }
   },
   "outputs": [
    {
     "name": "stdout",
     "output_type": "stream",
     "text": [
      "m=28.17115626465788\n",
      "Delta_m=0.04214664011150163\n",
      "b=-0.04422775527452383\n",
      "Delta_b=0.002433154900315796\n",
      "Rsquared=0.9942084473227131\n",
      "num_samples=5\n",
      "num_timepoints=10000\n",
      "ahat = 7.0428+/-0.0105\n"
     ]
    }
   ],
   "source": [
    "dict_fit=compute_95CI_ols(t_values,MSR_values)\n",
    "print_dict(dict_fit)\n",
    "print(f\"num_samples={positions_out.shape[-1]}\")\n",
    "print(f\"num_timepoints={t_values.shape[0]}\")\n",
    "print(f\"ahat = {dict_fit['m']/4:.4f}+/-{dict_fit['Delta_m']/4:.4f}\")"
   ]
  },
  {
   "cell_type": "code",
   "execution_count": 18,
   "id": "7fce83f3",
   "metadata": {
    "ExecuteTime": {
     "end_time": "2021-12-08T06:25:12.737654Z",
     "start_time": "2021-12-08T06:25:12.628917Z"
    }
   },
   "outputs": [
    {
     "data": {
      "text/plain": [
       "True"
      ]
     },
     "execution_count": 18,
     "metadata": {},
     "output_type": "execute_result"
    },
    {
     "data": {
      "image/png": "[encoded data removed]",
      "text/plain": [
       "<Figure size 576x504 with 1 Axes>"
      ]
     },
     "metadata": {},
     "output_type": "display_data"
    }
   ],
   "source": [
    "Gamma_values=dict_out['Gamma_values']\n",
    "xmin,xmax=[0,3.14]\n",
    "bins=np.linspace(xmin,xmax,4)\n",
    "plt.hist(Gamma_values,density=True,bins=bins)\n",
    "plt.xlim([xmin,xmax])\n",
    "format_plot(ax=plt.gca(),xlabel=r'Lifetime, $\\Gamma$ (seconds)',ylabel='PDF')"
   ]
  },
  {
   "cell_type": "code",
   "execution_count": 19,
   "id": "48e40af0",
   "metadata": {
    "ExecuteTime": {
     "end_time": "2021-12-08T06:25:13.400189Z",
     "start_time": "2021-12-08T06:25:13.397020Z"
    }
   },
   "outputs": [],
   "source": [
    "# plt.plot(mean_array[:,0])$$\n",
    "# plt.plot(std_array[:,0])"
   ]
  },
  {
   "cell_type": "code",
   "execution_count": 20,
   "id": "d2ff8b6e",
   "metadata": {
    "ExecuteTime": {
     "end_time": "2021-12-08T06:25:14.491056Z",
     "start_time": "2021-12-08T06:25:14.488531Z"
    }
   },
   "outputs": [],
   "source": [
    "# plt.plot(mean_array[:,1])\n",
    "# plt.plot(std_array[:,1])"
   ]
  },
  {
   "cell_type": "code",
   "execution_count": 21,
   "id": "13c86a87",
   "metadata": {
    "ExecuteTime": {
     "end_time": "2021-12-08T06:25:15.033341Z",
     "start_time": "2021-12-08T06:25:15.031171Z"
    }
   },
   "outputs": [],
   "source": [
    "# plt.plot(mean_array[:,2])\n",
    "# plt.plot(std_array[:,2])"
   ]
  },
  {
   "cell_type": "code",
   "execution_count": 22,
   "id": "e4ecccb3",
   "metadata": {
    "ExecuteTime": {
     "end_time": "2021-12-08T06:25:15.273586Z",
     "start_time": "2021-12-08T06:25:15.271401Z"
    }
   },
   "outputs": [],
   "source": [
    "#DONE: check all output for being reasonable\n"
   ]
  },
  {
   "cell_type": "code",
   "execution_count": 23,
   "id": "ca5f3d1f",
   "metadata": {
    "ExecuteTime": {
     "end_time": "2021-12-08T06:25:16.181438Z",
     "start_time": "2021-12-08T06:25:16.169622Z"
    }
   },
   "outputs": [
    {
     "data": {
      "text/plain": [
       "(False, False, (10000, 4, 5))"
      ]
     },
     "execution_count": 23,
     "metadata": {},
     "output_type": "execute_result"
    }
   ],
   "source": [
    "#DONE: check all output for being reasonable\n",
    "np.isnan(positions_out).all(),np.isnan(positions_out).any(),positions_out.shape"
   ]
  },
  {
   "cell_type": "code",
   "execution_count": null,
   "id": "3d41a78f",
   "metadata": {},
   "outputs": [],
   "source": []
  },
  {
   "cell_type": "code",
   "execution_count": 24,
   "id": "8f229139",
   "metadata": {
    "ExecuteTime": {
     "end_time": "2021-12-08T06:25:17.200307Z",
     "start_time": "2021-12-08T06:25:17.196159Z"
    }
   },
   "outputs": [
    {
     "data": {
      "text/plain": [
       "False"
      ]
     },
     "execution_count": 24,
     "metadata": {},
     "output_type": "execute_result"
    }
   ],
   "source": [
    "np.isnan(positions_out).all()"
   ]
  },
  {
   "cell_type": "code",
   "execution_count": null,
   "id": "0ccaf2d3",
   "metadata": {},
   "outputs": [],
   "source": []
  },
  {
   "cell_type": "markdown",
   "id": "f9d7f47a",
   "metadata": {},
   "source": [
    "what's the runtime on ^this? "
   ]
  },
  {
   "cell_type": "code",
   "execution_count": 25,
   "id": "911634be",
   "metadata": {
    "ExecuteTime": {
     "end_time": "2021-12-08T06:25:18.352650Z",
     "start_time": "2021-12-08T06:25:18.349402Z"
    }
   },
   "outputs": [
    {
     "data": {
      "text/plain": [
       "<function __main__.gener_positions_oscillatory(num_pairs=150, a=8.5, D=0.3, Dt=1e-05, initial_phase_orientation=0.0, period_of_oscillation=90.0, rstart=0.2, rend=0.1, printing=False, print_every=50000, mode='oscillatory', use_early_stopping=True, **kwargs)>"
      ]
     },
     "execution_count": 25,
     "metadata": {},
     "output_type": "execute_result"
    }
   ],
   "source": [
    "gener_positions_oscillatory"
   ]
  },
  {
   "cell_type": "markdown",
   "id": "5d2aea7e",
   "metadata": {},
   "source": [
    "# TODO: gridsearch over initial_phase_orientation and initial distance, rstart\n",
    "- TODO(prereq): get a token basecase working for the default rstart,initial_phase_orientation\n",
    "- TODO: Visualize Gamma_avg versus rstart for initial_phase_orientation fixed\n",
    "- TOOD: repeat ^that for a token set of orientations from -np.pi to np.pi"
   ]
  },
  {
   "cell_type": "code",
   "execution_count": 26,
   "id": "cd25f148",
   "metadata": {
    "ExecuteTime": {
     "end_time": "2021-12-08T06:25:19.412190Z",
     "start_time": "2021-12-08T06:25:19.408627Z"
    }
   },
   "outputs": [
    {
     "data": {
      "text/plain": [
       "(1.5, 1.5707963267948966)"
      ]
     },
     "execution_count": 26,
     "metadata": {},
     "output_type": "execute_result"
    }
   ],
   "source": [
    "rstart,initial_phase_orientation"
   ]
  },
  {
   "cell_type": "code",
   "execution_count": 28,
   "id": "72376dbd",
   "metadata": {
    "ExecuteTime": {
     "end_time": "2021-12-08T06:25:28.507251Z",
     "start_time": "2021-12-08T06:25:28.504364Z"
    }
   },
   "outputs": [],
   "source": [
    "def routine(phi_0):\n",
    "    try:\n",
    "        initial_phase_orientation=phi_0\n",
    "        #10 hr runtime per trial\n",
    "        a=8.5\n",
    "        D=0.3\n",
    "        rstart=0.2\n",
    "        num_samples=5e2\n",
    "        #before, long runtime\n",
    "        dict_out = gener_positions_oscillatory(\n",
    "                    a=a, D=D, printing=False,num_pairs=int(num_samples+1),rstart=rstart,initial_phase_orientation=initial_phase_orientation)\n",
    "        return dict_out\n",
    "    except Exception as e:\n",
    "        return None"
   ]
  },
  {
   "cell_type": "code",
   "execution_count": 29,
   "id": "e0c030d2",
   "metadata": {
    "ExecuteTime": {
     "end_time": "2021-12-08T06:25:34.712673Z",
     "start_time": "2021-12-08T06:25:34.707780Z"
    }
   },
   "outputs": [
    {
     "data": {
      "text/plain": [
       "array([-3.14159265, -2.51327412, -1.88495559, -1.25663706, -0.62831853,\n",
       "        0.        ,  0.62831853,  1.25663706,  1.88495559,  2.51327412,\n",
       "        3.14159265])"
      ]
     },
     "execution_count": 29,
     "metadata": {},
     "output_type": "execute_result"
    }
   ],
   "source": [
    "#TODO: repeat ^this measurement with each of the following:\n",
    "initial_phase_orientation_values=np.linspace(-np.pi,np.pi,11)\n",
    "initial_phase_orientation_values"
   ]
  },
  {
   "cell_type": "code",
   "execution_count": null,
   "id": "738a45b6",
   "metadata": {
    "ExecuteTime": {
     "start_time": "2021-12-08T06:25:52.373Z"
    }
   },
   "outputs": [
    {
     "name": "stdout",
     "output_type": "stream",
     "text": [
      "npartition=11\n"
     ]
    }
   ],
   "source": [
    "#parallelize with dask.bag\n",
    "task_lst=list(initial_phase_orientation_values)\n",
    "#color squared range field in parallelizable fashion\n",
    "#DONE: dask bag accelerate tshift_tare_routine\n",
    "printing=True\n",
    "npartitions=None\n",
    "if npartitions is None:\n",
    "    npartitions=np.min((os.cpu_count(),len(task_lst)))\n",
    "    print(f\"npartition={npartitions}\")\n",
    "#all CPU version\n",
    "b = db.from_sequence(task_lst, npartitions=npartitions).map(routine)\n",
    "\n",
    "#DONE: evaluate task_lst\n",
    "start = time.time()\n",
    "retval = list(b)\n",
    "dict_out_lst=[x for x in retval if x is not None]\n",
    "if printing:\n",
    "    print(f\"run time simulating oscillatory annihilation events was {time.time()-start:.2f} seconds.\")\n",
    "    print(f\"number of successfull trials was {len(dict_out_lst)}\")"
   ]
  },
  {
   "cell_type": "code",
   "execution_count": null,
   "id": "11956bb9",
   "metadata": {},
   "outputs": [],
   "source": [
    "#TODO: save dict_out_lst as json\n",
    "dict_out_lst"
   ]
  },
  {
   "cell_type": "code",
   "execution_count": null,
   "id": "9de75453",
   "metadata": {},
   "outputs": [],
   "source": []
  },
  {
   "cell_type": "markdown",
   "id": "8b12adbe",
   "metadata": {},
   "source": [
    "# TODO: visualize dict_out_lst / MSR vs. tdeath for each dict_out_lst.  label by phi_0."
   ]
  },
  {
   "cell_type": "code",
   "execution_count": null,
   "id": "dddfbcb1",
   "metadata": {
    "ExecuteTime": {
     "end_time": "2021-12-08T06:21:09.487168Z",
     "start_time": "2021-12-08T06:21:09.487136Z"
    }
   },
   "outputs": [],
   "source": [
    "phi_0=0\n",
    "initial_phase_orientation=phi_0\n",
    "#10 hr runtime per trial\n",
    "a=8.5\n",
    "D=0.3\n",
    "rstart=0.2\n",
    "num_samples=1\n",
    "#before, long runtime\n",
    "dict_out = gener_positions_oscillatory(\n",
    "            a=a, D=D, printing=False,num_pairs=int(num_samples+1),rstart=rstart,initial_phase_orientation=initial_phase_orientation)"
   ]
  },
  {
   "cell_type": "code",
   "execution_count": null,
   "id": "0f9a8e25",
   "metadata": {
    "ExecuteTime": {
     "end_time": "2021-12-08T06:21:09.488606Z",
     "start_time": "2021-12-08T06:21:09.488571Z"
    }
   },
   "outputs": [],
   "source": [
    "i"
   ]
  }
 ],
 "metadata": {
  "kernelspec": {
   "display_name": "Python 3 (ipykernel)",
   "language": "python",
   "name": "python3"
  },
  "language_info": {
   "codemirror_mode": {
    "name": "ipython",
    "version": 3
   },
   "file_extension": ".py",
   "mimetype": "text/x-python",
   "name": "python",
   "nbconvert_exporter": "python",
   "pygments_lexer": "ipython3",
   "version": "3.7.10"
  },
  "toc": {
   "base_numbering": 1,
   "nav_menu": {},
   "number_sections": true,
   "sideBar": true,
   "skip_h1_title": false,
   "title_cell": "Table of Contents",
   "title_sidebar": "Contents",
   "toc_cell": false,
   "toc_position": {},
   "toc_section_display": true,
   "toc_window_display": false
  },
  "varInspector": {
   "cols": {
    "lenName": 16,
    "lenType": 16,
    "lenVar": 40
   },
   "kernels_config": {
    "python": {
     "delete_cmd_postfix": "",
     "delete_cmd_prefix": "del ",
     "library": "var_list.py",
     "varRefreshCmd": "print(var_dic_list())"
    },
    "r": {
     "delete_cmd_postfix": ") ",
     "delete_cmd_prefix": "rm(",
     "library": "var_list.r",
     "varRefreshCmd": "cat(var_dic_list()) "
    }
   },
   "types_to_exclude": [
    "module",
    "function",
    "builtin_function_or_method",
    "instance",
    "_Feature"
   ],
   "window_display": false
  }
 },
 "nbformat": 4,
 "nbformat_minor": 5
}
