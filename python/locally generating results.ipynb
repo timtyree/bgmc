{
 "cells": [
  {
   "cell_type": "markdown",
   "metadata": {},
   "source": [
    "# locally generating results"
   ]
  },
  {
   "cell_type": "code",
   "execution_count": 1,
   "metadata": {
    "ExecuteTime": {
     "end_time": "2021-04-27T22:34:03.084401Z",
     "start_time": "2021-04-27T22:34:01.976897Z"
    }
   },
   "outputs": [],
   "source": [
    "from lib.my_initialization import *"
   ]
  },
  {
   "cell_type": "markdown",
   "metadata": {
    "ExecuteTime": {
     "end_time": "2021-04-27T21:44:17.451569Z",
     "start_time": "2021-04-27T21:44:17.445916Z"
    }
   },
   "source": [
    "# define values to run"
   ]
  },
  {
   "cell_type": "code",
   "execution_count": 10,
   "metadata": {
    "ExecuteTime": {
     "end_time": "2021-04-28T03:11:21.726054Z",
     "start_time": "2021-04-28T03:11:21.704702Z"
    }
   },
   "outputs": [
    {
     "name": "stdout",
     "output_type": "stream",
     "text": [
      "60\n"
     ]
    }
   ],
   "source": [
    "import numpy as np\n",
    "niter=250#250 #trials per worker\n",
    "r_values=np.array([0.2])#,0.1,1.,1.5,2.,2.5,5.,10.])#cm\n",
    "# r_values=np.array([0.1,0.5,1.,1.1,1.2,1.3,1.4,1.5,1.6,1.7,1.8,1.9,2.,2.5,5.,10.,20.])#cm\n",
    "D_values=np.array([5.,])#0.2,1.5,5.,10,20])#cm^2/s\n",
    "A_values=np.array([20.25])#,25,50,100,156.25,250])[::-1]#cm^2\n",
    "# A_values=np.array([20.25,25,39,50,56.25,100,156.25,189,250])[::-1]#cm^2\n",
    "L_values=np.sqrt(A_values)#cm\n",
    "# kappa_values=np.array([5,10,15,20,25,30,35,40,45,50,55,60,65,70,75,80,85,90,95,100,250,500])#1/s\n",
    "# beta_values=np.array([0.01,0.05,0.01,0.1,0.5,1])#cm\n",
    "Dt_values=np.array([1e-7])\n",
    "reflect_values=np.array([0])\n",
    "set_second_values=np.array([0])\n",
    "m_values=np.array([1.8772341309722325, 1.6375562704001745])\n",
    "M_values=np.array([5.572315674840435,16.73559858353835])\n",
    "num_trials_per_setting=6\n",
    "\n",
    "Dratio_values=np.array([10])#,100,1000])\n",
    "energy_gap_values=np.array(sorted([-10,10,0.,1.,-1.,]))#0.5,1,2,-1]))\n",
    "temperature_energy_values=np.array([1.])\n",
    "\n",
    "def comp_M_tilde(m):\n",
    "    '''non-quadratic trend is guessed to make bounds'''\n",
    "    val_lst=[]\n",
    "    val_lst.append(np.pi**(m-1)/m)\n",
    "    val_lst.append(np.pi**(m-1)/2)\n",
    "    val_lst.append(np.pi/2)\n",
    "    val_lst.append((np.pi/2)**(m-1))\n",
    "    mn=np.min(val_lst)\n",
    "    mx=np.max(val_lst)\n",
    "    return mn,mx\n",
    "\n",
    "def comp_kappa(M,m,r):\n",
    "    '''returns a min/max estimate for kappa using the emergent universal law'''\n",
    "    mn,mx=comp_M_tilde(m)\n",
    "    kappa_mn=r**(-2*(m-1))*M/mx\n",
    "    kappa_mx=r**(-2*(m-1))*M/mn\n",
    "    return kappa_mn,kappa_mx\n",
    "\n",
    "#iterate over settings, scheduling the longest jobs first\n",
    "count=0\n",
    "item_lst=[]\n",
    "for set_second in set_second_values:\n",
    "    for r in r_values:\n",
    "        for D in D_values:\n",
    "            for L in L_values:\n",
    "                for Dt in Dt_values:\n",
    "                    for reflect in reflect_values:\n",
    "                        for m,M in zip(m_values,M_values):\n",
    "                            # for kappa in kappa_values:\n",
    "                            kappa_mn_mx=comp_kappa(M,m,r)\n",
    "                            kappa_values=np.array(sorted(set([kappa_mn_mx[0],(kappa_mn_mx[0]+kappa_mn_mx[1])/2.,kappa_mn_mx[1]])))\n",
    "                            kappa = np.mean(kappa_values)\n",
    "                            for Dratio in Dratio_values:\n",
    "                                for temperature_energy in temperature_energy_values:\n",
    "                                    for energy_gap in energy_gap_values:\n",
    "                                        num_trials=0\n",
    "                                        while num_trials<num_trials_per_setting:\n",
    "                                            num_trials+=1\n",
    "                                            count=count+1\n",
    "                                            Process=num_trials+1 #randomization seed\n",
    "                                            item = (r,D,L,kappa,Dt,niter,Process,reflect,set_second,temperature_energy,energy_gap,Dratio)\n",
    "                                            item_lst.append(item)\n",
    "#                                             print(f\"{r} {D} {L:.5f} {kappa:.5f} {Dt} {niter} {Process} {reflect} {set_second} {temperature_energy:.0f} {energy_gap:.0f} {Dratio:.0f}\")\n",
    "#                                             print(f\"{r} {D} {L:.5f} {kappa:.5f} {Dt} {niter} {reflect} {set_second} {temperature_energy:.0f} {energy_gap:.0f} {Dratio:.0f}\")\n",
    "print(count)"
   ]
  },
  {
   "cell_type": "markdown",
   "metadata": {
    "ExecuteTime": {
     "end_time": "2021-04-27T21:44:25.673935Z",
     "start_time": "2021-04-27T21:44:25.666870Z"
    }
   },
   "source": [
    "# generate results"
   ]
  },
  {
   "cell_type": "code",
   "execution_count": 11,
   "metadata": {
    "ExecuteTime": {
     "end_time": "2021-04-28T03:11:23.703308Z",
     "start_time": "2021-04-28T03:11:23.699494Z"
    }
   },
   "outputs": [],
   "source": [
    "c_folder=f\"{nb_dir}/../c/hybrid_modes\""
   ]
  },
  {
   "cell_type": "code",
   "execution_count": 12,
   "metadata": {
    "ExecuteTime": {
     "end_time": "2021-04-28T03:11:24.728976Z",
     "start_time": "2021-04-28T03:11:24.724570Z"
    }
   },
   "outputs": [],
   "source": [
    "def generate_results(item_lst,npartitions=9):\n",
    "    '''filters Log and returns a merged pandas.Dataframe as *.csv\n",
    "    returns the total runtime in years for all output files in folder.'''\n",
    "#     input_fn_lst=get_files_in_folder(folder,trgt='.out.')\n",
    "    print(f\"generating results for {len(item_lst)} inputs...\")\n",
    "    def routine(item):\n",
    "        jobid=1\n",
    "        for f in item:\n",
    "            if f>0:\n",
    "                jobid*=(f+1)\n",
    "        r,D,L,kappa,Dt,niter,Process,reflect,set_second,temperature_energy,energy_gap,Dratio=item\n",
    "        os.chdir(c_folder)\n",
    "        # os.system(f'./xrun.sh {r} {D} {L} {kappa} {Dt} {1} {Process} {reflect} {set_second} {temperature_energy} {energy_gap} {Dratio} > out.txt')\n",
    "        os.system(f'./xrun.sh {r} {D} {L} {kappa} {Dt} {niter} {Process} {reflect} {set_second} {temperature_energy} {energy_gap} {Dratio} > Log/0.{jobid}.out.output')\n",
    "        return True\n",
    "    bag = db.from_sequence(sorted(item_lst), npartitions=9).map(routine)\n",
    "    start = time.time()\n",
    "    retval_lst = list(bag)\n",
    "    print(f\"the run time for generating results was {time.time()-start:.2f} seconds.\")\n",
    "    return retval_lst"
   ]
  },
  {
   "cell_type": "code",
   "execution_count": null,
   "metadata": {
    "ExecuteTime": {
     "start_time": "2021-04-28T03:11:57.971Z"
    }
   },
   "outputs": [
    {
     "name": "stdout",
     "output_type": "stream",
     "text": [
      "generating results for 60 inputs...\n"
     ]
    }
   ],
   "source": [
    "retval_lst=generate_results(item_lst,npartitions=9)"
   ]
  },
  {
   "cell_type": "code",
   "execution_count": 14,
   "metadata": {
    "ExecuteTime": {
     "end_time": "2021-04-28T03:11:54.416622Z",
     "start_time": "2021-04-28T03:11:54.412946Z"
    }
   },
   "outputs": [
    {
     "data": {
      "text/plain": [
       "9.6"
      ]
     },
     "execution_count": 14,
     "metadata": {},
     "output_type": "execute_result"
    }
   ],
   "source": [
    "# 4.5 hours for 28 trials\n",
    "4.5/28#trials per hour\n",
    "60*0.16"
   ]
  },
  {
   "cell_type": "code",
   "execution_count": 6,
   "metadata": {
    "ExecuteTime": {
     "end_time": "2021-04-28T03:03:46.801994Z",
     "start_time": "2021-04-28T03:03:46.799947Z"
    }
   },
   "outputs": [],
   "source": [
    "# #local_logdown.sh\n",
    "# cd ../../../\n",
    "# mkdir python/data/local_results/Log\n",
    "# cp c/hybrid_modes/Log/ python/data/local_results/Log"
   ]
  }
 ],
 "metadata": {
  "kernelspec": {
   "display_name": "Python 3",
   "language": "python",
   "name": "python3"
  },
  "language_info": {
   "codemirror_mode": {
    "name": "ipython",
    "version": 3
   },
   "file_extension": ".py",
   "mimetype": "text/x-python",
   "name": "python",
   "nbconvert_exporter": "python",
   "pygments_lexer": "ipython3",
   "version": "3.7.6"
  },
  "toc": {
   "base_numbering": 1,
   "nav_menu": {},
   "number_sections": true,
   "sideBar": true,
   "skip_h1_title": false,
   "title_cell": "Table of Contents",
   "title_sidebar": "Contents",
   "toc_cell": false,
   "toc_position": {},
   "toc_section_display": true,
   "toc_window_display": false
  },
  "varInspector": {
   "cols": {
    "lenName": 16,
    "lenType": 16,
    "lenVar": 40
   },
   "kernels_config": {
    "python": {
     "delete_cmd_postfix": "",
     "delete_cmd_prefix": "del ",
     "library": "var_list.py",
     "varRefreshCmd": "print(var_dic_list())"
    },
    "r": {
     "delete_cmd_postfix": ") ",
     "delete_cmd_prefix": "rm(",
     "library": "var_list.r",
     "varRefreshCmd": "cat(var_dic_list()) "
    }
   },
   "types_to_exclude": [
    "module",
    "function",
    "builtin_function_or_method",
    "instance",
    "_Feature"
   ],
   "window_display": false
  }
 },
 "nbformat": 4,
 "nbformat_minor": 4
}
