{
 "cells": [
  {
   "cell_type": "markdown",
   "id": "6d446517",
   "metadata": {},
   "source": [
    "# Notes on fitting the oscillatory particle model to the linear particle model\n",
    "Tim Tyree<br>\n",
    "1.15.2022"
   ]
  },
  {
   "cell_type": "code",
   "execution_count": 3,
   "id": "c1f6683e",
   "metadata": {
    "ExecuteTime": {
     "end_time": "2022-01-22T19:03:00.312403Z",
     "start_time": "2022-01-22T19:02:56.012820Z"
    }
   },
   "outputs": [
    {
     "name": "stdout",
     "output_type": "stream",
     "text": [
      "The autoreload extension is already loaded. To reload it, use:\n",
      "  %reload_ext autoreload\n"
     ]
    }
   ],
   "source": [
    "# TODO: simplify initialization\n",
    "from scipy.optimize import minimize\n",
    "from lib.my_initialization import *\n",
    "from lib import *\n",
    "from lib.lib_care.measure.level_sets import comp_longest_level_set_and_smooth\n",
    "%load_ext autoreload\n",
    "%autoreload 2\n",
    "\n",
    "import matplotlib.pyplot as plt, numpy as np\n",
    "from mpltools import annotation\n",
    "import random,scipy\n",
    "from scipy.interpolate import LinearNDInterpolator\n",
    "from scipy.interpolate import CloughTocher2DInterpolator\n",
    "import matplotlib as mpl #for colorbar\n",
    "from scipy import stats\n",
    "\n",
    "#for particle params to MSR generating functional\n",
    "from scipy.signal import savgol_filter\n",
    "import dask.bag as db\n",
    "from lib.lib_care.measure.bootstrap import bin_and_bootstrap_xy_values_parallel\n",
    "\n",
    "darkmode=False\n",
    "if darkmode:\n",
    "    # For darkmode plots\n",
    "    from jupyterthemes import jtplot\n",
    "    jtplot.style(theme='monokai', context='notebook', ticks=True, grid=False)\n",
    "\n",
    "import warnings\n",
    "warnings.simplefilter(\"ignore\", UserWarning)\n",
    "%load_ext autoreload\n",
    "%autoreload 2\n",
    "\n",
    "#optional\n",
    "# import cupy as cp\n",
    "# cp.random.seed(42)\n",
    "np.random.seed(42)"
   ]
  },
  {
   "cell_type": "markdown",
   "id": "c2b9e5f1",
   "metadata": {
    "heading_collapsed": true
   },
   "source": [
    "# Part 1: Results consistent with the mean squared limit"
   ]
  },
  {
   "cell_type": "markdown",
   "id": "01bd0e12",
   "metadata": {
    "hidden": true
   },
   "source": [
    "__Notes on fitting the oscillatory particle model to the linear particle model__\n",
    "To develop a best-fit attraction coefficient of the particle model that is best fit to reproduce the powerlaw annihilation rates, we consider the Langevin equation with inverse-powerlaw attractive forces, $\\sim\\hat{a}/R$.  We show that $\\hat{a}$ can be estimated to be 1/4 times the slope of the mean-squared range (MSR).\n",
    "\n",
    "...of these interacting particles that attract then and pair-annihilate, we predict for the Fenton-Karma model being modeled by the oscillatory particle model with $\\phi_f=\\pi/2$, we have the analytical result, $\\hat{a}=a$.  This supports the long-time averaged rate of change of MSR for the oscillatory particle model to be equal to that of the linear particle model, \n",
    "\n",
    "$$\n",
    "\\hat{a}_{FK}=a.\n",
    "$$\n",
    "\n",
    "A direct corollary of $\\hat{a}_{FK}=a$ is that the expected annihilation rates are equal, and thus the mean termination time would be equal.\n",
    "\n",
    "For the Luo-Rudy model, with annihilation phases of $\\phi_f=0$, and dynamical period equal to mean lifetime, $T_{LR}=\\bar\\Gamma_{LR}$, we predict the best fit attraction coefficient of the particle model to be given by\n",
    "\n",
    "$$\n",
    "\\hat{a}_{LR}=a + D \\bigg(\\frac{1}{1-\\frac{i}{2\\pi}} + \\frac{1}{1+\\frac{i}{2\\pi}} \\bigg) \\approx a + (1.95059...)D.\n",
    "$$"
   ]
  },
  {
   "cell_type": "markdown",
   "id": "54ef9160",
   "metadata": {
    "hidden": true
   },
   "source": [
    "__Sketch of proof__:\n",
    "What is the rate of change of MSR averaged over the lifetime of the particle? Let\n",
    "\n",
    "$$\n",
    "4\\hat{a}\\equiv\\mathbb{E}_{\\Gamma(t)}\\Big[\\partial_{t}MSR(t)\\Big]=\\frac{1}{\\bar\\Gamma}\\int_0^\\infty dt \\Gamma(t) \\partial_{t}MSR(t),\n",
    "$$\n",
    "\n",
    "where MSR is modeled by\n",
    "$$\n",
    "MSR(t)=at + (2D/\\omega) \\sin(\\omega t + \\phi_f),\n",
    "$$\n",
    "\n",
    "and where $\\Gamma(t)$ is modeled by \n",
    "\n",
    "$$\n",
    "\\Gamma(t)=\\bar\\Gamma e^{-t/\\bar\\Gamma}.\n",
    "$$"
   ]
  },
  {
   "cell_type": "code",
   "execution_count": 2,
   "id": "5aa8d8d3",
   "metadata": {
    "ExecuteTime": {
     "end_time": "2022-01-22T18:50:39.664841Z",
     "start_time": "2022-01-22T18:50:39.606339Z"
    },
    "hidden": true
   },
   "outputs": [],
   "source": [
    "# # MSR(t)=at + (2D/\\omega) \\sin(\\omega t + \\phi_f),\n",
    "# # DONE: plot ^this model for MSR for fitty parameter settings\n",
    "# a=3.5;D=1.3;phi_f=0.;period=0.1 #s\n",
    "# omega=2*np.pi/period\n",
    "# t_values=np.linspace(0,1,1000)\n",
    "# MSR_values_oscillatory=a*t_values+(2*D/omega)*np.sin(omega*t_values+phi_f)\n",
    "# plt.plot(t_values,MSR_values_oscillatory)\n",
    "# plt.show()\n",
    "# #TODO: plot for both of the full models\n",
    "# #TODO: compare to the apparent results for MSR from the full models"
   ]
  },
  {
   "cell_type": "code",
   "execution_count": 3,
   "id": "a5a8ed0e",
   "metadata": {
    "ExecuteTime": {
     "end_time": "2022-01-22T18:50:40.296656Z",
     "start_time": "2022-01-22T18:50:39.668345Z"
    },
    "hidden": true
   },
   "outputs": [
    {
     "ename": "FileNotFoundError",
     "evalue": "[Errno 2] No such file or directory: '/home/timothytyree/Documents/GitHub/bgmc/python/data/full_results/msr_lr_boostrapped_tavg2_14.0_n_2083_a_8.6.csv'",
     "output_type": "error",
     "traceback": [
      "\u001b[0;31m---------------------------------------------------------------------------\u001b[0m",
      "\u001b[0;31mFileNotFoundError\u001b[0m                         Traceback (most recent call last)",
      "\u001b[0;32m/var/folders/0h/p4cbb7yx22jbxm0qb47vhfbh0000gn/T/ipykernel_4867/27934526.py\u001b[0m in \u001b[0;36m<module>\u001b[0;34m\u001b[0m\n\u001b[1;32m      6\u001b[0m \u001b[0;31m# tavg2=14 ms, num_samples=19087, tmin=0, tmax=300 ms\u001b[0m\u001b[0;34m\u001b[0m\u001b[0;34m\u001b[0m\u001b[0;34m\u001b[0m\u001b[0m\n\u001b[1;32m      7\u001b[0m \u001b[0;34m\u001b[0m\u001b[0m\n\u001b[0;32m----> 8\u001b[0;31m \u001b[0mdf_msd_lr\u001b[0m\u001b[0;34m=\u001b[0m\u001b[0mpd\u001b[0m\u001b[0;34m.\u001b[0m\u001b[0mread_csv\u001b[0m\u001b[0;34m(\u001b[0m\u001b[0mmsr_dir_lr\u001b[0m\u001b[0;34m)\u001b[0m\u001b[0;34m\u001b[0m\u001b[0;34m\u001b[0m\u001b[0m\n\u001b[0m\u001b[1;32m      9\u001b[0m \u001b[0mx_values_LR\u001b[0m\u001b[0;34m=\u001b[0m\u001b[0mdf_msd_lr\u001b[0m\u001b[0;34m[\u001b[0m\u001b[0;34m'tdeath_avg'\u001b[0m\u001b[0;34m]\u001b[0m\u001b[0;34m.\u001b[0m\u001b[0mvalues\u001b[0m\u001b[0;34m\u001b[0m\u001b[0;34m\u001b[0m\u001b[0m\n\u001b[1;32m     10\u001b[0m \u001b[0my_values_LR\u001b[0m\u001b[0;34m=\u001b[0m\u001b[0mdf_msd_lr\u001b[0m\u001b[0;34m[\u001b[0m\u001b[0;34m'MSR'\u001b[0m\u001b[0;34m]\u001b[0m\u001b[0;34m.\u001b[0m\u001b[0mvalues\u001b[0m\u001b[0;34m\u001b[0m\u001b[0;34m\u001b[0m\u001b[0m\n",
      "\u001b[0;32m~/opt/miniconda3/lib/python3.9/site-packages/pandas/util/_decorators.py\u001b[0m in \u001b[0;36mwrapper\u001b[0;34m(*args, **kwargs)\u001b[0m\n\u001b[1;32m    309\u001b[0m                     \u001b[0mstacklevel\u001b[0m\u001b[0;34m=\u001b[0m\u001b[0mstacklevel\u001b[0m\u001b[0;34m,\u001b[0m\u001b[0;34m\u001b[0m\u001b[0;34m\u001b[0m\u001b[0m\n\u001b[1;32m    310\u001b[0m                 )\n\u001b[0;32m--> 311\u001b[0;31m             \u001b[0;32mreturn\u001b[0m \u001b[0mfunc\u001b[0m\u001b[0;34m(\u001b[0m\u001b[0;34m*\u001b[0m\u001b[0margs\u001b[0m\u001b[0;34m,\u001b[0m \u001b[0;34m**\u001b[0m\u001b[0mkwargs\u001b[0m\u001b[0;34m)\u001b[0m\u001b[0;34m\u001b[0m\u001b[0;34m\u001b[0m\u001b[0m\n\u001b[0m\u001b[1;32m    312\u001b[0m \u001b[0;34m\u001b[0m\u001b[0m\n\u001b[1;32m    313\u001b[0m         \u001b[0;32mreturn\u001b[0m \u001b[0mwrapper\u001b[0m\u001b[0;34m\u001b[0m\u001b[0;34m\u001b[0m\u001b[0m\n",
      "\u001b[0;32m~/opt/miniconda3/lib/python3.9/site-packages/pandas/io/parsers/readers.py\u001b[0m in \u001b[0;36mread_csv\u001b[0;34m(filepath_or_buffer, sep, delimiter, header, names, index_col, usecols, squeeze, prefix, mangle_dupe_cols, dtype, engine, converters, true_values, false_values, skipinitialspace, skiprows, skipfooter, nrows, na_values, keep_default_na, na_filter, verbose, skip_blank_lines, parse_dates, infer_datetime_format, keep_date_col, date_parser, dayfirst, cache_dates, iterator, chunksize, compression, thousands, decimal, lineterminator, quotechar, quoting, doublequote, escapechar, comment, encoding, encoding_errors, dialect, error_bad_lines, warn_bad_lines, on_bad_lines, delim_whitespace, low_memory, memory_map, float_precision, storage_options)\u001b[0m\n\u001b[1;32m    584\u001b[0m     \u001b[0mkwds\u001b[0m\u001b[0;34m.\u001b[0m\u001b[0mupdate\u001b[0m\u001b[0;34m(\u001b[0m\u001b[0mkwds_defaults\u001b[0m\u001b[0;34m)\u001b[0m\u001b[0;34m\u001b[0m\u001b[0;34m\u001b[0m\u001b[0m\n\u001b[1;32m    585\u001b[0m \u001b[0;34m\u001b[0m\u001b[0m\n\u001b[0;32m--> 586\u001b[0;31m     \u001b[0;32mreturn\u001b[0m \u001b[0m_read\u001b[0m\u001b[0;34m(\u001b[0m\u001b[0mfilepath_or_buffer\u001b[0m\u001b[0;34m,\u001b[0m \u001b[0mkwds\u001b[0m\u001b[0;34m)\u001b[0m\u001b[0;34m\u001b[0m\u001b[0;34m\u001b[0m\u001b[0m\n\u001b[0m\u001b[1;32m    587\u001b[0m \u001b[0;34m\u001b[0m\u001b[0m\n\u001b[1;32m    588\u001b[0m \u001b[0;34m\u001b[0m\u001b[0m\n",
      "\u001b[0;32m~/opt/miniconda3/lib/python3.9/site-packages/pandas/io/parsers/readers.py\u001b[0m in \u001b[0;36m_read\u001b[0;34m(filepath_or_buffer, kwds)\u001b[0m\n\u001b[1;32m    480\u001b[0m \u001b[0;34m\u001b[0m\u001b[0m\n\u001b[1;32m    481\u001b[0m     \u001b[0;31m# Create the parser.\u001b[0m\u001b[0;34m\u001b[0m\u001b[0;34m\u001b[0m\u001b[0;34m\u001b[0m\u001b[0m\n\u001b[0;32m--> 482\u001b[0;31m     \u001b[0mparser\u001b[0m \u001b[0;34m=\u001b[0m \u001b[0mTextFileReader\u001b[0m\u001b[0;34m(\u001b[0m\u001b[0mfilepath_or_buffer\u001b[0m\u001b[0;34m,\u001b[0m \u001b[0;34m**\u001b[0m\u001b[0mkwds\u001b[0m\u001b[0;34m)\u001b[0m\u001b[0;34m\u001b[0m\u001b[0;34m\u001b[0m\u001b[0m\n\u001b[0m\u001b[1;32m    483\u001b[0m \u001b[0;34m\u001b[0m\u001b[0m\n\u001b[1;32m    484\u001b[0m     \u001b[0;32mif\u001b[0m \u001b[0mchunksize\u001b[0m \u001b[0;32mor\u001b[0m \u001b[0miterator\u001b[0m\u001b[0;34m:\u001b[0m\u001b[0;34m\u001b[0m\u001b[0;34m\u001b[0m\u001b[0m\n",
      "\u001b[0;32m~/opt/miniconda3/lib/python3.9/site-packages/pandas/io/parsers/readers.py\u001b[0m in \u001b[0;36m__init__\u001b[0;34m(self, f, engine, **kwds)\u001b[0m\n\u001b[1;32m    809\u001b[0m             \u001b[0mself\u001b[0m\u001b[0;34m.\u001b[0m\u001b[0moptions\u001b[0m\u001b[0;34m[\u001b[0m\u001b[0;34m\"has_index_names\"\u001b[0m\u001b[0;34m]\u001b[0m \u001b[0;34m=\u001b[0m \u001b[0mkwds\u001b[0m\u001b[0;34m[\u001b[0m\u001b[0;34m\"has_index_names\"\u001b[0m\u001b[0;34m]\u001b[0m\u001b[0;34m\u001b[0m\u001b[0;34m\u001b[0m\u001b[0m\n\u001b[1;32m    810\u001b[0m \u001b[0;34m\u001b[0m\u001b[0m\n\u001b[0;32m--> 811\u001b[0;31m         \u001b[0mself\u001b[0m\u001b[0;34m.\u001b[0m\u001b[0m_engine\u001b[0m \u001b[0;34m=\u001b[0m \u001b[0mself\u001b[0m\u001b[0;34m.\u001b[0m\u001b[0m_make_engine\u001b[0m\u001b[0;34m(\u001b[0m\u001b[0mself\u001b[0m\u001b[0;34m.\u001b[0m\u001b[0mengine\u001b[0m\u001b[0;34m)\u001b[0m\u001b[0;34m\u001b[0m\u001b[0;34m\u001b[0m\u001b[0m\n\u001b[0m\u001b[1;32m    812\u001b[0m \u001b[0;34m\u001b[0m\u001b[0m\n\u001b[1;32m    813\u001b[0m     \u001b[0;32mdef\u001b[0m \u001b[0mclose\u001b[0m\u001b[0;34m(\u001b[0m\u001b[0mself\u001b[0m\u001b[0;34m)\u001b[0m\u001b[0;34m:\u001b[0m\u001b[0;34m\u001b[0m\u001b[0;34m\u001b[0m\u001b[0m\n",
      "\u001b[0;32m~/opt/miniconda3/lib/python3.9/site-packages/pandas/io/parsers/readers.py\u001b[0m in \u001b[0;36m_make_engine\u001b[0;34m(self, engine)\u001b[0m\n\u001b[1;32m   1038\u001b[0m             )\n\u001b[1;32m   1039\u001b[0m         \u001b[0;31m# error: Too many arguments for \"ParserBase\"\u001b[0m\u001b[0;34m\u001b[0m\u001b[0;34m\u001b[0m\u001b[0;34m\u001b[0m\u001b[0m\n\u001b[0;32m-> 1040\u001b[0;31m         \u001b[0;32mreturn\u001b[0m \u001b[0mmapping\u001b[0m\u001b[0;34m[\u001b[0m\u001b[0mengine\u001b[0m\u001b[0;34m]\u001b[0m\u001b[0;34m(\u001b[0m\u001b[0mself\u001b[0m\u001b[0;34m.\u001b[0m\u001b[0mf\u001b[0m\u001b[0;34m,\u001b[0m \u001b[0;34m**\u001b[0m\u001b[0mself\u001b[0m\u001b[0;34m.\u001b[0m\u001b[0moptions\u001b[0m\u001b[0;34m)\u001b[0m  \u001b[0;31m# type: ignore[call-arg]\u001b[0m\u001b[0;34m\u001b[0m\u001b[0;34m\u001b[0m\u001b[0m\n\u001b[0m\u001b[1;32m   1041\u001b[0m \u001b[0;34m\u001b[0m\u001b[0m\n\u001b[1;32m   1042\u001b[0m     \u001b[0;32mdef\u001b[0m \u001b[0m_failover_to_python\u001b[0m\u001b[0;34m(\u001b[0m\u001b[0mself\u001b[0m\u001b[0;34m)\u001b[0m\u001b[0;34m:\u001b[0m\u001b[0;34m\u001b[0m\u001b[0;34m\u001b[0m\u001b[0m\n",
      "\u001b[0;32m~/opt/miniconda3/lib/python3.9/site-packages/pandas/io/parsers/c_parser_wrapper.py\u001b[0m in \u001b[0;36m__init__\u001b[0;34m(self, src, **kwds)\u001b[0m\n\u001b[1;32m     49\u001b[0m \u001b[0;34m\u001b[0m\u001b[0m\n\u001b[1;32m     50\u001b[0m         \u001b[0;31m# open handles\u001b[0m\u001b[0;34m\u001b[0m\u001b[0;34m\u001b[0m\u001b[0;34m\u001b[0m\u001b[0m\n\u001b[0;32m---> 51\u001b[0;31m         \u001b[0mself\u001b[0m\u001b[0;34m.\u001b[0m\u001b[0m_open_handles\u001b[0m\u001b[0;34m(\u001b[0m\u001b[0msrc\u001b[0m\u001b[0;34m,\u001b[0m \u001b[0mkwds\u001b[0m\u001b[0;34m)\u001b[0m\u001b[0;34m\u001b[0m\u001b[0;34m\u001b[0m\u001b[0m\n\u001b[0m\u001b[1;32m     52\u001b[0m         \u001b[0;32massert\u001b[0m \u001b[0mself\u001b[0m\u001b[0;34m.\u001b[0m\u001b[0mhandles\u001b[0m \u001b[0;32mis\u001b[0m \u001b[0;32mnot\u001b[0m \u001b[0;32mNone\u001b[0m\u001b[0;34m\u001b[0m\u001b[0;34m\u001b[0m\u001b[0m\n\u001b[1;32m     53\u001b[0m \u001b[0;34m\u001b[0m\u001b[0m\n",
      "\u001b[0;32m~/opt/miniconda3/lib/python3.9/site-packages/pandas/io/parsers/base_parser.py\u001b[0m in \u001b[0;36m_open_handles\u001b[0;34m(self, src, kwds)\u001b[0m\n\u001b[1;32m    220\u001b[0m         \u001b[0mLet\u001b[0m \u001b[0mthe\u001b[0m \u001b[0mreaders\u001b[0m \u001b[0mopen\u001b[0m \u001b[0mIOHandles\u001b[0m \u001b[0mafter\u001b[0m \u001b[0mthey\u001b[0m \u001b[0mare\u001b[0m \u001b[0mdone\u001b[0m \u001b[0;32mwith\u001b[0m \u001b[0mtheir\u001b[0m \u001b[0mpotential\u001b[0m \u001b[0mraises\u001b[0m\u001b[0;34m.\u001b[0m\u001b[0;34m\u001b[0m\u001b[0;34m\u001b[0m\u001b[0m\n\u001b[1;32m    221\u001b[0m         \"\"\"\n\u001b[0;32m--> 222\u001b[0;31m         self.handles = get_handle(\n\u001b[0m\u001b[1;32m    223\u001b[0m             \u001b[0msrc\u001b[0m\u001b[0;34m,\u001b[0m\u001b[0;34m\u001b[0m\u001b[0;34m\u001b[0m\u001b[0m\n\u001b[1;32m    224\u001b[0m             \u001b[0;34m\"r\"\u001b[0m\u001b[0;34m,\u001b[0m\u001b[0;34m\u001b[0m\u001b[0;34m\u001b[0m\u001b[0m\n",
      "\u001b[0;32m~/opt/miniconda3/lib/python3.9/site-packages/pandas/io/common.py\u001b[0m in \u001b[0;36mget_handle\u001b[0;34m(path_or_buf, mode, encoding, compression, memory_map, is_text, errors, storage_options)\u001b[0m\n\u001b[1;32m    700\u001b[0m         \u001b[0;32mif\u001b[0m \u001b[0mioargs\u001b[0m\u001b[0;34m.\u001b[0m\u001b[0mencoding\u001b[0m \u001b[0;32mand\u001b[0m \u001b[0;34m\"b\"\u001b[0m \u001b[0;32mnot\u001b[0m \u001b[0;32min\u001b[0m \u001b[0mioargs\u001b[0m\u001b[0;34m.\u001b[0m\u001b[0mmode\u001b[0m\u001b[0;34m:\u001b[0m\u001b[0;34m\u001b[0m\u001b[0;34m\u001b[0m\u001b[0m\n\u001b[1;32m    701\u001b[0m             \u001b[0;31m# Encoding\u001b[0m\u001b[0;34m\u001b[0m\u001b[0;34m\u001b[0m\u001b[0;34m\u001b[0m\u001b[0m\n\u001b[0;32m--> 702\u001b[0;31m             handle = open(\n\u001b[0m\u001b[1;32m    703\u001b[0m                 \u001b[0mhandle\u001b[0m\u001b[0;34m,\u001b[0m\u001b[0;34m\u001b[0m\u001b[0;34m\u001b[0m\u001b[0m\n\u001b[1;32m    704\u001b[0m                 \u001b[0mioargs\u001b[0m\u001b[0;34m.\u001b[0m\u001b[0mmode\u001b[0m\u001b[0;34m,\u001b[0m\u001b[0;34m\u001b[0m\u001b[0;34m\u001b[0m\u001b[0m\n",
      "\u001b[0;31mFileNotFoundError\u001b[0m: [Errno 2] No such file or directory: '/home/timothytyree/Documents/GitHub/bgmc/python/data/full_results/msr_lr_boostrapped_tavg2_14.0_n_2083_a_8.6.csv'"
     ]
    }
   ],
   "source": [
    "msr_dir_lr='/home/timothytyree/Documents/GitHub/bgmc/python/data/full_results/msr_lr_boostrapped_tavg2_14.0_n_2083_a_8.6.csv'\n",
    "# a_LR = 8.5950#+/-0.3771 cm^2/s\n",
    "# tavg2=14 ms, num_samples=2083\n",
    "msr_dir_fk='/home/timothytyree/Documents/GitHub/bgmc/python/data/full_results/msr_fk_boostrapped_tavg2_14.0_n_19087_a_1.6_tmax_300.csv'\n",
    "# a_FK = 1.604153#+/-0.040173 cm^2/s\n",
    "# tavg2=14 ms, num_samples=19087, tmin=0, tmax=300 ms\n",
    "\n",
    "df_msd_lr=pd.read_csv(msr_dir_lr)\n",
    "x_values_LR=df_msd_lr['tdeath_avg'].values\n",
    "y_values_LR=df_msd_lr['MSR'].values\n",
    "yerr_values_LR=df_msd_lr['Delta_MSR'].values\n",
    "df_msd_fk=pd.read_csv(msr_dir_fk)\n",
    "x_values_FK=df_msd_fk['tdeath_avg'].values\n",
    "y_values_FK=df_msd_fk['MSR'].values\n",
    "yerr_values_FK=df_msd_fk['Delta_MSR'].values"
   ]
  },
  {
   "cell_type": "code",
   "execution_count": null,
   "id": "f996c93e",
   "metadata": {
    "ExecuteTime": {
     "end_time": "2022-01-22T18:50:40.304787Z",
     "start_time": "2022-01-22T18:50:40.304765Z"
    },
    "hidden": true
   },
   "outputs": [],
   "source": [
    "tmax=300#ms\n",
    "x_values=x_values_FK.copy()\n",
    "y_values=y_values_FK.copy()\n",
    "boo=x_values<tmax #ms\n",
    "dict_a_SR=compute_95CI_ols(x_values[boo],y_values[boo])\n",
    "a_SR=dict_a_SR['m']/4*1e3\n",
    "Delta_a_SR=dict_a_SR['Delta_m']/4*1e3\n",
    "print(f\"a_hat_FK = {a_SR:.6f}+/-{Delta_a_SR:.6f} cm^2/s, tmax={tmax}\")\n",
    "a_hat_FK=a_SR\n",
    "\n",
    "tmax=8#ms\n",
    "x_values=x_values_LR.copy()\n",
    "y_values=y_values_LR.copy()\n",
    "boo=x_values<tmax #ms\n",
    "dict_a_SR=compute_95CI_ols(x_values[boo],y_values[boo])\n",
    "a_SR=dict_a_SR['m']/4*1e3\n",
    "Delta_a_SR=dict_a_SR['Delta_m']/4*1e3\n",
    "print(f\"a_hat_LR = {a_SR:.6f}+/-{Delta_a_SR:.6f} cm^2/s, tmax={tmax}\")\n",
    "a_hat_LR=a_SR"
   ]
  },
  {
   "cell_type": "code",
   "execution_count": null,
   "id": "bf417c86",
   "metadata": {
    "ExecuteTime": {
     "end_time": "2022-01-22T18:50:40.309063Z",
     "start_time": "2022-01-22T18:50:40.309038Z"
    },
    "hidden": true
   },
   "outputs": [],
   "source": [
    "#reset matplotlib\n",
    "import matplotlib\n",
    "matplotlib.rcParams.update(matplotlib.rcParamsDefault)"
   ]
  },
  {
   "cell_type": "code",
   "execution_count": null,
   "id": "434f8f80",
   "metadata": {
    "ExecuteTime": {
     "end_time": "2022-01-22T18:50:40.311185Z",
     "start_time": "2022-01-22T18:50:40.311161Z"
    },
    "hidden": true
   },
   "outputs": [],
   "source": [
    "### plot expected\n",
    "xv=np.linspace(0,1e3,200)\n",
    "plt.plot(xv,4*a_hat_LR*1e-3*xv,'--',lw=2,alpha=0.8,c='C1')\n",
    "plt.plot(xv,4*a_hat_FK*1e-3*xv,'--',lw=2,alpha=0.8,c='C0')\n",
    "#plot data\n",
    "plt.plot(x_values_FK,y_values_FK,lw=2,alpha=0.8,c='C0')\n",
    "plt.fill_between(x_values_FK,y_values_FK-yerr_values_FK,y_values_FK+yerr_values_FK,lw=2,alpha=0.4,color='C0')\n",
    "plt.plot(x_values_LR,y_values_LR,lw=2,alpha=0.8,c='C1')\n",
    "plt.fill_between(x_values_LR,y_values_LR-yerr_values_LR,y_values_LR+yerr_values_LR,lw=2,alpha=0.4,color='C1')\n",
    "\n",
    "# MSR(t)=at + (2D/\\omega) \\sin(\\omega t + \\phi_f),\n",
    "# DONE: plot ^this model for MSR for fitty parameter settings (LR)\n",
    "# a=3.535902;D=a/2;phi_f=0.;period=0.1 #s\n",
    "a=3.535902;D=a/2;phi_f=0.;period=0.12 #s\n",
    "omega=2*np.pi/period\n",
    "t_values=np.linspace(0,1,1000)\n",
    "MSR_values_oscillatory=4*(a*t_values+(2*D/omega)*np.sin(omega*t_values+phi_f))\n",
    "plt.plot(t_values*1e3,MSR_values_oscillatory,c='C2',label=r'Oscillatory Solution ($a=a_{LR}$, $\\phi_f=0$)')\n",
    "\n",
    "#what param setting to use for the FK model?\n",
    "phi_f=-np.pi/2;\n",
    "a=1.604153;\n",
    "period=0.11 #s\n",
    "period=0.11\n",
    "D=a/2;\n",
    "# constant=0.15\n",
    "omega=2*np.pi/period\n",
    "constant=-8*D*np.sin(phi_f)/omega#0.15\n",
    "t_values=np.linspace(0,1,1000)\n",
    "MSR_values_oscillatory=4*(a*t_values+(2*D/omega)*np.sin(omega*t_values+phi_f))+constant\n",
    "plt.plot(t_values*1e3,MSR_values_oscillatory,c='C3',label='Oscillatory Solution ($a=a_{FK}$, $\\phi_f=-\\pi/2$)')\n",
    "\n",
    "#what param setting to use for the FK model?\n",
    "phi_f=0#-np.pi/2;\n",
    "# a=1.604153;\n",
    "# period=0.11 #s\n",
    "# D=a/2;\n",
    "# constant=0.15\n",
    "omega=2*np.pi/period\n",
    "constant=-8*D*np.sin(phi_f)/omega#0.15\n",
    "t_values=np.linspace(0,1,1000)\n",
    "MSR_values_oscillatory=4*(a*t_values+(2*D/omega)*np.sin(omega*t_values+phi_f))+constant\n",
    "plt.plot(t_values*1e3,MSR_values_oscillatory,c='gray',label='Oscillatory Solution ($a=a_{FK}$, $\\phi_f=0$)')\n",
    "\n",
    "#format plot\n",
    "format_plot(ax=plt.gca(),xlabel=r'$t_f-t$ (ms)',ylabel=r'MSR (cm$^2$)')\n",
    "plt.xlim([0,1000])\n",
    "plt.ylim([0,5.1])\n",
    "plt.legend(loc='lower right',fontsize=11)\n",
    "plt.show()\n",
    "# print(f\"tavg2={tavg2} ms, num_samples={max_num_groups}\")"
   ]
  },
  {
   "cell_type": "code",
   "execution_count": null,
   "id": "8640c769",
   "metadata": {
    "ExecuteTime": {
     "end_time": "2022-01-22T18:50:40.313165Z",
     "start_time": "2022-01-22T18:50:40.313140Z"
    },
    "hidden": true
   },
   "outputs": [],
   "source": [
    "fig,ax=plt.subplots(figsize=(5,3))\n",
    "# fig,ax=plt.subplots(figsize=(5,3))\n",
    "### plot expected\n",
    "xv=np.linspace(0,1e3,200)\n",
    "plt.plot(xv,4*a_hat_LR*1e-3*xv,'--',lw=2,alpha=0.8,c='C1')\n",
    "plt.plot(xv,4*a_hat_FK*1e-3*xv,'--',lw=2,alpha=0.8,c='C0')\n",
    "#plot data\n",
    "plt.plot(x_values_FK,y_values_FK,lw=2,alpha=0.8,c='C0')\n",
    "plt.fill_between(x_values_FK,y_values_FK-yerr_values_FK,y_values_FK+yerr_values_FK,lw=2,alpha=0.4,color='C0')\n",
    "plt.plot(x_values_LR,y_values_LR,lw=2,alpha=0.8,c='C1')\n",
    "plt.fill_between(x_values_LR,y_values_LR-yerr_values_LR,y_values_LR+yerr_values_LR,lw=2,alpha=0.4,color='C1')\n",
    "\n",
    "# MSR(t)=at + (2D/\\omega) \\sin(\\omega t + \\phi_f),\n",
    "# DONE: plot ^this model for MSR for fitty parameter settings (LR)\n",
    "# a=3.535902;D=a/2;phi_f=0.;period=0.1 #s\n",
    "a=3.535902;D=a/2;phi_f=0.;period=0.12 #s\n",
    "omega=2*np.pi/period\n",
    "t_values=np.linspace(0,1,1000)\n",
    "MSR_values_oscillatory=4*(a*t_values+(2*D/omega)*np.sin(omega*t_values+phi_f))\n",
    "plt.plot(t_values*1e3,MSR_values_oscillatory,c='C2',label=r'Oscillatory Solution ($a=a_{LR}$, $\\phi_f=0$)')\n",
    "\n",
    "#what param setting to use for the FK model?\n",
    "phi_f=-np.pi/2;\n",
    "a=1.604153;\n",
    "period=0.11 #s\n",
    "period=0.11\n",
    "D=a/2;\n",
    "# constant=0.15\n",
    "omega=2*np.pi/period\n",
    "constant=-8*D*np.sin(phi_f)/omega#0.15\n",
    "t_values=np.linspace(0,1,1000)\n",
    "MSR_values_oscillatory=4*(a*t_values+(2*D/omega)*np.sin(omega*t_values+phi_f))+constant\n",
    "plt.plot(t_values*1e3,MSR_values_oscillatory,c='C3',label='Oscillatory Solution ($a=a_{FK}$, $\\phi_f=-\\pi/2$)')\n",
    "\n",
    "#what param setting to use for the FK model?\n",
    "phi_f=0#-np.pi/2;\n",
    "# a=1.604153;\n",
    "# period=0.11 #s\n",
    "# D=a/2;\n",
    "# constant=0.15\n",
    "omega=2*np.pi/period\n",
    "constant=-8*D*np.sin(phi_f)/omega#0.15\n",
    "t_values=np.linspace(0,1,1000)\n",
    "MSR_values_oscillatory=4*(a*t_values+(2*D/omega)*np.sin(omega*t_values+phi_f))+constant\n",
    "plt.plot(t_values*1e3,MSR_values_oscillatory,c='gray',label='Oscillatory Solution ($a=a_{FK}$, $\\phi_f=0$)')\n",
    "\n",
    "#format plot\n",
    "format_plot(ax=plt.gca(),xlabel=r'$t_f-t$ (ms)',ylabel=r'Mean Squared Range (cm$^2$)',fontsize=14)\n",
    "# format_plot(ax=plt.gca(),xlabel=r'$t_f-t$ (ms)',ylabel=r'MSR (cm$^2$)')\n",
    "plt.xlim([0,1000])\n",
    "plt.ylim([0,5.1])\n",
    "plt.legend(loc='lower right',fontsize=8)\n",
    "plt.show()\n",
    "# print(f\"tavg2={tavg2} ms, num_samples={max_num_groups}\")"
   ]
  },
  {
   "cell_type": "code",
   "execution_count": null,
   "id": "1a7b7f33",
   "metadata": {
    "ExecuteTime": {
     "end_time": "2022-01-22T18:50:40.316801Z",
     "start_time": "2022-01-22T18:50:40.316777Z"
    },
    "hidden": true
   },
   "outputs": [],
   "source": [
    "1"
   ]
  },
  {
   "cell_type": "code",
   "execution_count": null,
   "id": "53d606c5",
   "metadata": {
    "ExecuteTime": {
     "end_time": "2022-01-22T18:50:40.318678Z",
     "start_time": "2022-01-22T18:50:40.318657Z"
    },
    "hidden": true
   },
   "outputs": [],
   "source": [
    "### plot expected\n",
    "xv=np.linspace(0,1e3,200)\n",
    "plt.plot(xv,4*a_hat_LR*1e-3*xv,'--',lw=2,alpha=0.8,c='C1')\n",
    "plt.plot(xv,4*a_hat_FK*1e-3*xv,'--',lw=2,alpha=0.8,c='C0')\n",
    "#plot data\n",
    "plt.plot(x_values_FK,y_values_FK,lw=2,alpha=0.8,c='C0')\n",
    "plt.fill_between(x_values_FK,y_values_FK-yerr_values_FK,y_values_FK+yerr_values_FK,lw=2,alpha=0.4,color='C0')\n",
    "plt.plot(x_values_LR,y_values_LR,lw=2,alpha=0.8,c='C1')\n",
    "plt.fill_between(x_values_LR,y_values_LR-yerr_values_LR,y_values_LR+yerr_values_LR,lw=2,alpha=0.4,color='C1')\n",
    "\n",
    "# MSR(t)=at + (2D/\\omega) \\sin(\\omega t + \\phi_f),\n",
    "# DONE: plot ^this model for MSR for fitty parameter settings (LR)\n",
    "# a=3.535902;D=a/2;phi_f=0.;period=0.1 #s\n",
    "a=3.535902;D=a/2;phi_f=0.;period=0.12 #s\n",
    "omega=2*np.pi/period\n",
    "t_values=np.linspace(0,1,1000)\n",
    "MSR_values_oscillatory=4*(a*t_values+(2*D/omega)*np.sin(omega*t_values+phi_f))\n",
    "plt.plot(t_values*1e3,MSR_values_oscillatory,c='C2',label=r'Oscillatory Solution ($a=a_{LR}$, $\\phi_f=0$)')\n",
    "\n",
    "#what param setting to use for the FK model?\n",
    "phi_f=-np.pi/2;\n",
    "a=1.604153;\n",
    "period=0.11 #s\n",
    "D=a/2;\n",
    "# constant=0.15\n",
    "omega=2*np.pi/period\n",
    "constant=-8*D*np.sin(phi_f)/omega#0.15\n",
    "t_values=np.linspace(0,1,1000)\n",
    "MSR_values_oscillatory=4*(a*t_values+(2*D/omega)*np.sin(omega*t_values+phi_f))+constant\n",
    "plt.plot(t_values*1e3,MSR_values_oscillatory,c='C3',label='Oscillatory Solution ($a=a_{FK}$, $\\phi_f=-\\pi/2$)')\n",
    "\n",
    "#what param setting to use for the FK model?\n",
    "phi_f=0#-np.pi/2;\n",
    "# a=1.604153;\n",
    "# period=0.11 #s\n",
    "# D=a/2;\n",
    "# # constant=0.15\n",
    "# omega=2*np.pi/period\n",
    "# constant=-8*D*np.sin(phi_f)/omega#0.15\n",
    "# t_values=np.linspace(0,1,1000)\n",
    "# MSR_values_oscillatory=4*(a*t_values+(2*D/omega)*np.sin(omega*t_values+phi_f))+constant\n",
    "# plt.plot(t_values*1e3,MSR_values_oscillatory,c='gray',label='Oscillatory Solution ($a=a_{FK}$, $\\phi_f=0$)')\n",
    "\n",
    "#format plot\n",
    "format_plot(ax=plt.gca(),xlabel=r'$t_f-t$ (ms)',ylabel=r'MSR (cm$^2$)')\n",
    "plt.xlim([0,150])\n",
    "plt.ylim([0,1.1])\n",
    "plt.legend(loc='lower right',fontsize=11)\n",
    "plt.show()\n",
    "# print(f\"tavg2={tavg2} ms, num_samples={max_num_groups}\")"
   ]
  },
  {
   "cell_type": "markdown",
   "id": "5cacb7ae",
   "metadata": {
    "hidden": true
   },
   "source": [
    "$$\n",
    "\\frac{1}{4}MSR(t')=at'+\\frac{2D}{\\omega}\\Big(sin(\\omega t' + \\phi_f) - sin(\\phi_f)\\Big)\n",
    "$$"
   ]
  },
  {
   "cell_type": "markdown",
   "id": "f12670df",
   "metadata": {
    "hidden": true
   },
   "source": [
    "$$\n",
    "\\hat a = a + D\\Big( \\frac{e^{i\\phi_f}}{1-\\frac{i}{\\omega \\bar\\Gamma} } + \\frac{e^{-i\\phi_f}}{1+\\frac{i}{\\omega \\bar\\Gamma} } \\Big)\n",
    "$$"
   ]
  },
  {
   "cell_type": "code",
   "execution_count": null,
   "id": "92ef8cd3",
   "metadata": {
    "ExecuteTime": {
     "end_time": "2022-01-22T18:50:40.320558Z",
     "start_time": "2022-01-22T18:50:40.320535Z"
    },
    "hidden": true
   },
   "outputs": [],
   "source": [
    "a =3.535902 \n",
    "period=0.1\n",
    "barGamma=0.082733\n",
    "omega=2*np.pi/period\n",
    "a + a/2*(1.95),a + a/2*(1/(1-1j/(omega*barGamma))+1/(1+1j/(omega*barGamma)))"
   ]
  },
  {
   "cell_type": "code",
   "execution_count": null,
   "id": "c2c22314",
   "metadata": {
    "ExecuteTime": {
     "end_time": "2022-01-16T04:16:38.922142Z",
     "start_time": "2022-01-16T04:16:38.894067Z"
    },
    "hidden": true
   },
   "outputs": [],
   "source": []
  },
  {
   "cell_type": "code",
   "execution_count": null,
   "id": "93e7dcf7",
   "metadata": {
    "ExecuteTime": {
     "end_time": "2022-01-22T18:50:40.322837Z",
     "start_time": "2022-01-22T18:50:40.322819Z"
    },
    "hidden": true
   },
   "outputs": [],
   "source": [
    "barGamma=.0827333\n",
    "T_values=np.linspace(0,1,100)\n",
    "#TODO: plot ^this function \n",
    "x_values=T_values/barGamma\n",
    "ahat_over_a_values=1+0.5*(1/(1-x_values*1j/(2*np.pi)) + 1/(1+x_values*1j/(2*np.pi)))\n",
    "y_values=ahat_over_a_values"
   ]
  },
  {
   "cell_type": "code",
   "execution_count": null,
   "id": "dd537ce1",
   "metadata": {
    "ExecuteTime": {
     "end_time": "2022-01-22T18:50:40.324556Z",
     "start_time": "2022-01-22T18:50:40.324533Z"
    },
    "hidden": true
   },
   "outputs": [],
   "source": [
    "plt.plot(x_values,y_values)\n",
    "format_plot(ax=plt.gca(),xlabel=r'$T/\\bar \\Gamma$',ylabel=r'$\\hat a/a$')"
   ]
  },
  {
   "cell_type": "code",
   "execution_count": null,
   "id": "62a8494e",
   "metadata": {
    "ExecuteTime": {
     "end_time": "2022-01-22T18:50:40.325975Z",
     "start_time": "2022-01-22T18:50:40.325951Z"
    },
    "hidden": true
   },
   "outputs": [],
   "source": [
    "120/80"
   ]
  },
  {
   "cell_type": "code",
   "execution_count": null,
   "id": "b0ac4fb9",
   "metadata": {
    "ExecuteTime": {
     "end_time": "2022-01-22T18:50:40.327961Z",
     "start_time": "2022-01-22T18:50:40.327945Z"
    },
    "hidden": true
   },
   "outputs": [],
   "source": [
    "1+0.5*(1/(1-3j/(4*np.pi)) + 1/(1+3j/(4*np.pi)))"
   ]
  },
  {
   "cell_type": "code",
   "execution_count": null,
   "id": "2b028009",
   "metadata": {
    "ExecuteTime": {
     "end_time": "2022-01-22T18:50:40.329613Z",
     "start_time": "2022-01-22T18:50:40.329596Z"
    },
    "hidden": true
   },
   "outputs": [],
   "source": [
    "8.5/1.946\n"
   ]
  },
  {
   "cell_type": "code",
   "execution_count": null,
   "id": "21414076",
   "metadata": {
    "ExecuteTime": {
     "end_time": "2022-01-22T18:50:40.332225Z",
     "start_time": "2022-01-22T18:50:40.332190Z"
    },
    "hidden": true
   },
   "outputs": [],
   "source": [
    "1+1.*(1/(1-3j/(4*np.pi)) + 1/(1+3j/(4*np.pi)))"
   ]
  },
  {
   "cell_type": "code",
   "execution_count": null,
   "id": "b32fbdb6",
   "metadata": {
    "ExecuteTime": {
     "end_time": "2022-01-22T18:50:40.334126Z",
     "start_time": "2022-01-22T18:50:40.334104Z"
    },
    "hidden": true
   },
   "outputs": [],
   "source": [
    "8.5/2.89"
   ]
  },
  {
   "cell_type": "code",
   "execution_count": null,
   "id": "7844e364",
   "metadata": {
    "ExecuteTime": {
     "end_time": "2022-01-22T18:50:40.335689Z",
     "start_time": "2022-01-22T18:50:40.335666Z"
    },
    "hidden": true
   },
   "outputs": [],
   "source": [
    "# ahat_LR_over_a_LR\n",
    "x=2*np.pi*84/120\n",
    "# x=1\n",
    "1+0.5*(1/(1-1j*x)-1/(1+1j*x))/1j\n"
   ]
  },
  {
   "cell_type": "code",
   "execution_count": null,
   "id": "a1d5139f",
   "metadata": {
    "ExecuteTime": {
     "end_time": "2022-01-22T18:50:40.338055Z",
     "start_time": "2022-01-22T18:50:40.337997Z"
    },
    "hidden": true
   },
   "outputs": [],
   "source": [
    "# ahat_FK_over_a_LR\n",
    "x=2*np.pi*310/110\n",
    "# x=1\n",
    "1+0.5*(-1j/(1-1j*x)-1j/(1+1j*x))/1j\n"
   ]
  },
  {
   "cell_type": "code",
   "execution_count": null,
   "id": "7dbc165b",
   "metadata": {
    "ExecuteTime": {
     "end_time": "2022-01-22T18:50:40.341261Z",
     "start_time": "2022-01-22T18:50:40.341235Z"
    },
    "hidden": true
   },
   "outputs": [],
   "source": [
    "8.5/1.216"
   ]
  },
  {
   "cell_type": "code",
   "execution_count": null,
   "id": "4164343a",
   "metadata": {
    "ExecuteTime": {
     "end_time": "2022-01-22T18:50:40.343342Z",
     "start_time": "2022-01-22T18:50:40.343317Z"
    },
    "hidden": true
   },
   "outputs": [],
   "source": [
    "(-1j/(1-1j*x)+1j/(1+1j*x))/1\n"
   ]
  },
  {
   "cell_type": "markdown",
   "id": "47ef7f25",
   "metadata": {
    "hidden": true
   },
   "source": [
    "## next logical step: determine if plugging ahat into the particle model gives the annihilation rates of the full models\n",
    "\n",
    "$$\n",
    "\\hat a = a + \\mathcal{J}D\n",
    "$$\n",
    "\n",
    "Where $\\mathcal{J}_{FK}=0.112...$ and $\\mathcal{J}_{LR}=1.95...$.\n",
    "\n",
    "If $a=1.60...$ and $D=a/2$, then $\\hat a_{FK}=1.69...$.\n",
    "\n",
    "If $a=3.50...$ and $D=a/2$, then $\\hat a_{LR}=6.91...$."
   ]
  },
  {
   "cell_type": "code",
   "execution_count": null,
   "id": "92d6f34a",
   "metadata": {
    "ExecuteTime": {
     "end_time": "2022-01-22T18:50:40.345004Z",
     "start_time": "2022-01-22T18:50:40.344964Z"
    },
    "hidden": true
   },
   "outputs": [],
   "source": [
    "1.60*(1+0.5*0.112)"
   ]
  },
  {
   "cell_type": "code",
   "execution_count": null,
   "id": "0e4b469b",
   "metadata": {
    "ExecuteTime": {
     "end_time": "2022-01-22T18:50:40.347768Z",
     "start_time": "2022-01-22T18:50:40.347744Z"
    },
    "hidden": true
   },
   "outputs": [],
   "source": [
    "3.50*(1+0.5*1.95)"
   ]
  },
  {
   "cell_type": "markdown",
   "id": "62a34420",
   "metadata": {
    "hidden": true
   },
   "source": [
    "Contradiction...? I only found particle model solutions for \n",
    "$a \\ge ~8.25$..."
   ]
  },
  {
   "cell_type": "code",
   "execution_count": null,
   "id": "beb1f1fc",
   "metadata": {
    "ExecuteTime": {
     "end_time": "2022-01-22T18:50:40.349302Z",
     "start_time": "2022-01-22T18:50:40.349279Z"
    },
    "hidden": true
   },
   "outputs": [],
   "source": [
    "3.50*(1+1*1.95)"
   ]
  },
  {
   "cell_type": "code",
   "execution_count": null,
   "id": "dee2670f",
   "metadata": {
    "ExecuteTime": {
     "end_time": "2022-01-22T18:50:40.351441Z",
     "start_time": "2022-01-22T18:50:40.351419Z"
    },
    "hidden": true
   },
   "outputs": [],
   "source": [
    "#maybe if I searched for larger D in the annihilation rates of the linear particle model?\n"
   ]
  },
  {
   "cell_type": "markdown",
   "id": "0cede9d1",
   "metadata": {
    "hidden": true
   },
   "source": [
    "## DONE: cointegrate the distribution of lifetimes with the mean squared range, as measured from the LR model"
   ]
  },
  {
   "cell_type": "code",
   "execution_count": null,
   "id": "3595a0c8",
   "metadata": {
    "ExecuteTime": {
     "end_time": "2022-01-22T18:50:40.353057Z",
     "start_time": "2022-01-22T18:50:40.353040Z"
    },
    "hidden": true
   },
   "outputs": [],
   "source": [
    "# import cudf"
   ]
  },
  {
   "cell_type": "code",
   "execution_count": null,
   "id": "2c95ea60",
   "metadata": {
    "ExecuteTime": {
     "end_time": "2022-01-22T18:50:40.354825Z",
     "start_time": "2022-01-22T18:50:40.354808Z"
    },
    "hidden": true
   },
   "outputs": [],
   "source": [
    "import pickle\n",
    "\n",
    "lifetime_pdf_dir=\"/home/timothytyree/Documents/GitHub/bgmc/python/data/full_results/lifetimes.pkl\"\n",
    "\n",
    "# with open(lifetime_pdf_dir, 'wb') as handle:\n",
    "#     pickle.dump(a, handle, protocol=pickle.HIGHEST_PROTOCOL)\n",
    "\n",
    "with open(lifetime_pdf_dir, 'rb') as handle:\n",
    "    dict_lifetimes = pickle.load(handle)"
   ]
  },
  {
   "cell_type": "markdown",
   "id": "2eefeb9a",
   "metadata": {
    "hidden": true
   },
   "source": [
    "\n",
    "TODO(prereq): copy solution estimating ahat --> $\\infty$ of z=Gammabar/T --> $0$ from iPad\n",
    "$$\n",
    "\\hat{a}=a_{osc.} + \\mathcal{J}(z;\\phi_f) D_{osc.}\n",
    "$$\n",
    "\n",
    "__Sketch of Proof__\n",
    "\n",
    "Let the mean-squared range (MSR) is the approximate solution to the the mean-squared, large sample limit of the the SDE corresponding to the oscillatory particle model\n",
    "\n",
    "For $4\\hat{a}\\bar\\Gamma \\equiv \\mathbb{E}_{\\Gamma(t;\\bar\\Gamma)}\\Big[\\text{MSR}_{osc.}(t;T,a_{osc.},D_{osc.})\\Big]$, we have\n",
    "\n",
    "$$\n",
    "\\mathcal{J}(z;\\phi_f) = \\frac{e^{i\\phi_f}}{1-2\\pi iz} + \\frac{e^{-i\\phi_f}}{1+2\\pi iz}.\n",
    "$$\n",
    "\n",
    "- DONE: checked ^the ansatz matches what I used on my iPad.\n",
    "\n",
    "One can see that as $z\\rightarrow0$, $\\mathcal{J}(z;\\phi_f) \\rightarrow ??$.\n",
    "\n",
    "\n",
    "TODO: estimate the z that gives ahat=<the ones I used in Fig. 1>.  For now, let\n",
    "- ahat_LR=8.5, $\\phi_f=0$\n",
    "- ahat_FK=1.6, $\\phi_f=-\\pi/2$"
   ]
  },
  {
   "cell_type": "markdown",
   "id": "7a39be6b",
   "metadata": {
    "heading_collapsed": true
   },
   "source": [
    "# Part 2: Results consistent with the mean squared power spectrum limit"
   ]
  },
  {
   "cell_type": "markdown",
   "id": "22631cb4",
   "metadata": {
    "hidden": true
   },
   "source": [
    "__Results from the mean squared power spectrum hypothesis__\n",
    "\n",
    "The ansatz that demands self-consistency with respect to the mean squared power spectrum results in the following equation:\n",
    "$$\n",
    "\\hat a^2 = a^2 + \\delta a_\\text{diffusion}^2 + \\delta a_{\\text{diffusion  }\\times \\text{ drift}}^2\n",
    "$$\n",
    "\n",
    "$$\n",
    "\\hat a^2 = a^2 + \\delta a_\\text{DD}^2 + \\delta a_{Da}^2\n",
    "$$\n",
    "\n",
    "Where $\\hat a$ is the effective attraction coefficient and $a$ is the attraction coefficient involved with the oscillatory model.  There emerged two correction factors. One was purely due to diffusion, $\\delta a_\\text{diffusion}$.  The other was due to the interaction between diffusion and drift, $\\delta a_{\\text{diffusion  }\\times \\text{ drift}}$."
   ]
  },
  {
   "cell_type": "markdown",
   "id": "e72e4dda",
   "metadata": {
    "hidden": true
   },
   "source": [
    "Plotted are the boundary conditions for (blue) $\\phi_f=-\\pi/2$, and (orange) $\\phi_f=0$."
   ]
  },
  {
   "cell_type": "markdown",
   "id": "69df751f",
   "metadata": {
    "hidden": true
   },
   "source": [
    "Ansatz\n",
    "$$\n",
    "\\mathbb{E}_{\\Gamma(t)}\\Big[\\Big(\\text{MSR}(t)\\Big)^2\\Big]_\\text{linear}\\overset{!}{=}\\mathbb{E}_{\\Gamma(t)}\\Big[\\Big(\\text{MSR}(t)\\Big)^2\\Big]_\\text{oscillatory},\n",
    "$$\n",
    "where\n",
    "$$\n",
    "\\mathbb{E}_{\\Gamma(t)}\\Big[f(t)\\Big]=\\int_0^\\infty \\Big(\\frac{e^{-t/\\bar\\Gamma}dt}{\\bar\\Gamma}\\Big)f(t).\n",
    "$$"
   ]
  },
  {
   "cell_type": "markdown",
   "id": "ad18b6c9",
   "metadata": {
    "hidden": true
   },
   "source": [
    "## Plot the analytic solution for $\\hat a$=ahat resulting from the mean squared power spectrum"
   ]
  },
  {
   "cell_type": "markdown",
   "id": "4186d988",
   "metadata": {
    "heading_collapsed": true,
    "hidden": true
   },
   "source": [
    "### (ignore) first attempts at viewing the correction term due to diffusion..."
   ]
  },
  {
   "cell_type": "code",
   "execution_count": 4,
   "id": "04d9093a",
   "metadata": {
    "ExecuteTime": {
     "end_time": "2022-01-22T19:03:30.906554Z",
     "start_time": "2022-01-22T19:03:30.865065Z"
    },
    "hidden": true
   },
   "outputs": [],
   "source": [
    "#reset matplotlib\n",
    "import matplotlib\n",
    "matplotlib.rcParams.update(matplotlib.rcParamsDefault)"
   ]
  },
  {
   "cell_type": "code",
   "execution_count": 7,
   "id": "0cb442df",
   "metadata": {
    "ExecuteTime": {
     "end_time": "2022-01-22T18:51:13.943837Z",
     "start_time": "2022-01-22T18:51:13.881108Z"
    },
    "hidden": true
   },
   "outputs": [],
   "source": [
    "# def correction_diffusion(z,a,D,phi):\n",
    "#     \"\"\"\n",
    "#     correction_diffusion returns the real correction value \n",
    "#     that evaluates the expected attraction coefficient \n",
    "#     in terms of the parameters of the oscilatory model \n",
    "#     relative to the lifetime of the particle.\n",
    "    \n",
    "#     here, the lifetime of the particle has been taken \n",
    "#     to be exponentially distributed \n",
    "#     with an expected value \n",
    "#     proportional to z.\n",
    "    \n",
    "#     Note that z is also \n",
    "#     inversely proportional \n",
    "#     to the dynamic period of oscillation.\n",
    "#     \"\"\"\n",
    "#     dasum=np.sin(phi)**2 - 2.*np.sin(phi)\n",
    "#     dasum+=(1. + 4.*z**2 + 2.*z*np.sin(2.*phi) - np.cos(2.*phi))/(2.+8.*z**2)\n",
    "#     dahat=2.*D**2/z**2\n",
    "#     dahat*=dasum\n",
    "#     return dahat\n",
    "\n",
    "# def correction_diffusion_lr(z,a):\n",
    "#     \"\"\"\n",
    "#     correction_diffusion_lr returns the correction \n",
    "#     to the attraction coefficient due to diffusion \n",
    "#     as the float expected \n",
    "#     in the mean squared power spectrum limit \n",
    "#     for parameters fit to the Luo-Rudy model.\n",
    "#     \"\"\"\n",
    "#     return correction_diffusion(z,a,a/2.,phi=0.)\n",
    "\n",
    "# def correction_diffusion_fk(z,a):\n",
    "#     \"\"\"\n",
    "#     correction_diffusion_lr returns the correction \n",
    "#     to the attraction coefficient due to diffusion \n",
    "#     as the float expected \n",
    "#     in the mean squared power spectrum limit \n",
    "#     for parameters fit to the Fenton-Karma model.\n",
    "#     \"\"\"\n",
    "#     return correction_diffusion(z,a,a/2.,phi=-np.pi/2.)"
   ]
  },
  {
   "cell_type": "code",
   "execution_count": 8,
   "id": "e6dd316e",
   "metadata": {
    "ExecuteTime": {
     "end_time": "2022-01-22T18:51:14.660614Z",
     "start_time": "2022-01-22T18:51:14.582048Z"
    },
    "hidden": true
   },
   "outputs": [],
   "source": [
    "#heretim"
   ]
  },
  {
   "cell_type": "code",
   "execution_count": 1,
   "id": "d187c05e",
   "metadata": {
    "ExecuteTime": {
     "end_time": "2022-01-22T19:02:48.499304Z",
     "start_time": "2022-01-22T19:02:48.347306Z"
    },
    "hidden": true
   },
   "outputs": [
    {
     "name": "stdout",
     "output_type": "stream",
     "text": [
      "TODO: add blue and orange curves for the a values expected of the full solution\n"
     ]
    },
    {
     "ename": "NameError",
     "evalue": "name 'np' is not defined",
     "output_type": "error",
     "traceback": [
      "\u001b[0;31m---------------------------------------------------------------------------\u001b[0m",
      "\u001b[0;31mNameError\u001b[0m                                 Traceback (most recent call last)",
      "\u001b[0;32m/var/folders/0h/p4cbb7yx22jbxm0qb47vhfbh0000gn/T/ipykernel_1133/773276594.py\u001b[0m in \u001b[0;36m<module>\u001b[0;34m\u001b[0m\n\u001b[1;32m      3\u001b[0m \u001b[0mprint\u001b[0m\u001b[0;34m(\u001b[0m\u001b[0;34mF\"TODO: add blue and orange curves for the a values expected of the full solution\"\u001b[0m\u001b[0;34m)\u001b[0m\u001b[0;34m\u001b[0m\u001b[0;34m\u001b[0m\u001b[0m\n\u001b[1;32m      4\u001b[0m \u001b[0mdz\u001b[0m\u001b[0;34m=\u001b[0m\u001b[0;36m0.1\u001b[0m\u001b[0;31m#0.01\u001b[0m\u001b[0;34m\u001b[0m\u001b[0;34m\u001b[0m\u001b[0m\n\u001b[0;32m----> 5\u001b[0;31m \u001b[0mz_values\u001b[0m\u001b[0;34m=\u001b[0m\u001b[0mnp\u001b[0m\u001b[0;34m.\u001b[0m\u001b[0marange\u001b[0m\u001b[0;34m(\u001b[0m\u001b[0mdz\u001b[0m\u001b[0;34m,\u001b[0m\u001b[0;36m3\u001b[0m\u001b[0;34m+\u001b[0m\u001b[0mdz\u001b[0m\u001b[0;34m,\u001b[0m\u001b[0mdz\u001b[0m\u001b[0;34m)\u001b[0m\u001b[0;34m\u001b[0m\u001b[0;34m\u001b[0m\u001b[0m\n\u001b[0m\u001b[1;32m      6\u001b[0m \u001b[0msdahat_values_lr\u001b[0m\u001b[0;34m=\u001b[0m\u001b[0mcorrection_diffusion_lr\u001b[0m\u001b[0;34m(\u001b[0m\u001b[0mz_values\u001b[0m\u001b[0;34m,\u001b[0m\u001b[0ma\u001b[0m\u001b[0;34m=\u001b[0m\u001b[0ma_hat_lr\u001b[0m\u001b[0;34m)\u001b[0m\u001b[0;34m\u001b[0m\u001b[0;34m\u001b[0m\u001b[0m\n\u001b[1;32m      7\u001b[0m \u001b[0msdahat_values_fk\u001b[0m\u001b[0;34m=\u001b[0m\u001b[0mcorrection_diffusion_fk\u001b[0m\u001b[0;34m(\u001b[0m\u001b[0mz_values\u001b[0m\u001b[0;34m,\u001b[0m\u001b[0ma\u001b[0m\u001b[0;34m=\u001b[0m\u001b[0ma_hat_fk\u001b[0m\u001b[0;34m)\u001b[0m\u001b[0;34m\u001b[0m\u001b[0;34m\u001b[0m\u001b[0m\n",
      "\u001b[0;31mNameError\u001b[0m: name 'np' is not defined"
     ]
    }
   ],
   "source": [
    "a_hat_lr=8.5\n",
    "a_hat_fk=1.6\n",
    "print(F\"TODO: add blue and orange curves for the a values expected of the full solution\")\n",
    "dz=0.1#0.01\n",
    "z_values=np.arange(dz,3+dz,dz)\n",
    "sdahat_values_lr=correction_diffusion_lr(z_values,a=a_hat_lr)\n",
    "sdahat_values_fk=correction_diffusion_fk(z_values,a=a_hat_fk)"
   ]
  },
  {
   "cell_type": "code",
   "execution_count": 2,
   "id": "bcfd0e8f",
   "metadata": {
    "ExecuteTime": {
     "end_time": "2022-01-22T19:02:49.698920Z",
     "start_time": "2022-01-22T19:02:49.691143Z"
    },
    "hidden": true
   },
   "outputs": [
    {
     "ename": "NameError",
     "evalue": "name 'z_values' is not defined",
     "output_type": "error",
     "traceback": [
      "\u001b[0;31m---------------------------------------------------------------------------\u001b[0m",
      "\u001b[0;31mNameError\u001b[0m                                 Traceback (most recent call last)",
      "\u001b[0;32m/var/folders/0h/p4cbb7yx22jbxm0qb47vhfbh0000gn/T/ipykernel_1133/3730289149.py\u001b[0m in \u001b[0;36m<module>\u001b[0;34m\u001b[0m\n\u001b[0;32m----> 1\u001b[0;31m \u001b[0mx_values\u001b[0m\u001b[0;34m=\u001b[0m\u001b[0mz_values\u001b[0m\u001b[0;34m.\u001b[0m\u001b[0mcopy\u001b[0m\u001b[0;34m(\u001b[0m\u001b[0;34m)\u001b[0m\u001b[0;34m\u001b[0m\u001b[0;34m\u001b[0m\u001b[0m\n\u001b[0m\u001b[1;32m      2\u001b[0m \u001b[0;31m#plot the expected solutions\u001b[0m\u001b[0;34m\u001b[0m\u001b[0;34m\u001b[0m\u001b[0;34m\u001b[0m\u001b[0m\n\u001b[1;32m      3\u001b[0m \u001b[0my_values_lr\u001b[0m\u001b[0;34m=\u001b[0m\u001b[0msdahat_values_lr\u001b[0m\u001b[0;34m/\u001b[0m\u001b[0ma_hat_lr\u001b[0m\u001b[0;34m**\u001b[0m\u001b[0;36m2\u001b[0m\u001b[0;34m\u001b[0m\u001b[0;34m\u001b[0m\u001b[0m\n\u001b[1;32m      4\u001b[0m \u001b[0my_values_fk\u001b[0m\u001b[0;34m=\u001b[0m\u001b[0msdahat_values_fk\u001b[0m\u001b[0;34m/\u001b[0m\u001b[0ma_hat_fk\u001b[0m\u001b[0;34m**\u001b[0m\u001b[0;36m2\u001b[0m\u001b[0;34m\u001b[0m\u001b[0;34m\u001b[0m\u001b[0m\n\u001b[1;32m      5\u001b[0m \u001b[0mplt\u001b[0m\u001b[0;34m.\u001b[0m\u001b[0mplot\u001b[0m\u001b[0;34m(\u001b[0m\u001b[0mx_values\u001b[0m\u001b[0;34m,\u001b[0m\u001b[0mnp\u001b[0m\u001b[0;34m.\u001b[0m\u001b[0mabs\u001b[0m\u001b[0;34m(\u001b[0m\u001b[0my_values_fk\u001b[0m\u001b[0;34m)\u001b[0m\u001b[0;34m,\u001b[0m\u001b[0mlw\u001b[0m\u001b[0;34m=\u001b[0m\u001b[0;36m2\u001b[0m\u001b[0;34m,\u001b[0m\u001b[0malpha\u001b[0m\u001b[0;34m=\u001b[0m\u001b[0;36m0.8\u001b[0m\u001b[0;34m)\u001b[0m\u001b[0;34m\u001b[0m\u001b[0;34m\u001b[0m\u001b[0m\n",
      "\u001b[0;31mNameError\u001b[0m: name 'z_values' is not defined"
     ]
    }
   ],
   "source": [
    "x_values=z_values.copy()\n",
    "#plot the expected solutions\n",
    "y_values_lr=sdahat_values_lr/a_hat_lr**2\n",
    "y_values_fk=sdahat_values_fk/a_hat_fk**2\n",
    "plt.plot(x_values,np.abs(y_values_fk),lw=2,alpha=0.8)\n",
    "plt.plot(x_values,np.abs(y_values_lr),lw=2,alpha=0.8)\n",
    "plt.yscale('log')\n",
    "plt.show()"
   ]
  },
  {
   "cell_type": "code",
   "execution_count": 12,
   "id": "b15fa10a",
   "metadata": {
    "ExecuteTime": {
     "end_time": "2022-01-22T18:51:17.126651Z",
     "start_time": "2022-01-22T18:51:16.909939Z"
    },
    "hidden": true
   },
   "outputs": [],
   "source": [
    "#DONE: plot dahat_over_a versus z\n",
    "da=0.002#0.01\n",
    "a_values=np.arange(da,4+da,da)\n",
    "\n",
    "#eval correction_diffusion_lr\n",
    "dahat_lst=[]\n",
    "for a in a_values:\n",
    "    dahat=correction_diffusion_lr(z_values,a)\n",
    "    dahat_lst.append(dahat)\n",
    "# dahat_over_a=np.divide(np.array(dahat_lst).T,a_values)\n",
    "dahat_values=np.divide(np.array(dahat_lst).T,a_values)\n",
    "dahat_values_lr=dahat_values.copy()\n",
    "\n",
    "#eval correction_diffusion_fk\n",
    "dahat_lst=[]\n",
    "for a in a_values:\n",
    "    dahat=correction_diffusion_fk(z_values,a)\n",
    "    dahat_lst.append(dahat)\n",
    "# dahat_over_a=np.divide(np.array(dahat_lst).T,a_values)\n",
    "dahat_values=np.divide(np.array(dahat_lst).T,a_values)\n",
    "dahat_values_fk=dahat_values.copy()"
   ]
  },
  {
   "cell_type": "code",
   "execution_count": 15,
   "id": "67e83791",
   "metadata": {
    "ExecuteTime": {
     "end_time": "2022-01-22T18:51:43.749445Z",
     "start_time": "2022-01-22T18:51:43.663261Z"
    },
    "hidden": true
   },
   "outputs": [],
   "source": [
    "# test dahat_over_a_lr is nonnegative for diffusion term\n",
    "assert not (dahat_values_lr<0).any()\n",
    "\n",
    "# test dahat_over_a_lr has negative values for diffusion term\n",
    "assert not (dahat_values_fk<0).any()"
   ]
  },
  {
   "cell_type": "code",
   "execution_count": 16,
   "id": "760bf6b2",
   "metadata": {
    "ExecuteTime": {
     "end_time": "2022-01-22T18:51:44.301859Z",
     "start_time": "2022-01-22T18:51:44.240762Z"
    },
    "hidden": true
   },
   "outputs": [],
   "source": [
    "#DONE: visualize these traces for either model for ahat correction versus 2pi*(lifetime / dynamic period) as z\n",
    "x_values=z_values.copy()/(2.*np.pi)\n",
    "a_values_trgt=a_values[::40]#for  a_values.shape as (400,)\n",
    "y_values_fk_lst=[]\n",
    "y_values_lr_lst=[]\n",
    "for a  in a_values_trgt:\n",
    "    boo=a==a_values\n",
    "    #compute\n",
    "    y_values_fk=dahat_values_fk.T[boo][0]\n",
    "    y_values_lr=dahat_values_lr.T[boo][0]\n",
    "    #record\n",
    "    y_values_fk_lst.append(y_values_fk)\n",
    "    y_values_lr_lst.append(y_values_lr)"
   ]
  },
  {
   "cell_type": "code",
   "execution_count": 18,
   "id": "bd446ad8",
   "metadata": {
    "ExecuteTime": {
     "end_time": "2022-01-22T18:52:03.897790Z",
     "start_time": "2022-01-22T18:52:03.853532Z"
    },
    "hidden": true
   },
   "outputs": [
    {
     "name": "stdout",
     "output_type": "stream",
     "text": [
      "TODO: add blue and orange curves for the a values expected of the full solution\n"
     ]
    }
   ],
   "source": [
    "a_hat_lr=8.5\n",
    "a_hat_fk=1.6\n",
    "print(F\"TODO: add blue and orange curves for the a values expected of the full solution\")\n",
    "dz=0.01\n",
    "z_values=np.arange(dz,3+dz,dz)\n",
    "sdahat_values_lr=correction_diffusion_lr(z_values,a=a_hat_lr)\n",
    "sdahat_values_fk=correction_diffusion_fk(z_values,a=a_hat_fk)\n",
    "#compute plotting values\n",
    "y_values_lr=sdahat_values_lr/a_hat_lr**2\n",
    "y_values_fk=sdahat_values_fk/a_hat_fk**2\n",
    "c_values=a_values_trgt/np.max(a_values_trgt)\n",
    "vmin=np.min(c_values)\n",
    "vmax=np.max(c_values)"
   ]
  },
  {
   "cell_type": "code",
   "execution_count": 19,
   "id": "e8ee55f9",
   "metadata": {
    "ExecuteTime": {
     "end_time": "2022-01-22T18:52:07.546570Z",
     "start_time": "2022-01-22T18:52:06.127379Z"
    },
    "hidden": true
   },
   "outputs": [
    {
     "data": {
      "image/png": "[encoded data removed]",
      "text/plain": [
       "<Figure size 500x300 with 1 Axes>"
      ]
     },
     "metadata": {},
     "output_type": "display_data"
    }
   ],
   "source": [
    "slope=-2#-1/4\n",
    "alpha=0.2\n",
    "xlabel=r'$\\bar\\Gamma / T$'#\n",
    "ylabel=r'$-\\delta \\hat a_{D^2} ^2/a^2$'#  (cm$^2$/s)'\n",
    "#DONE: plot x_values,y_values_fk_lst,y_values_lr_lst, \n",
    "# DONE: simple scatter plot\n",
    "fig,ax=plt.subplots(figsize=(5,3))\n",
    "#plot the expected solutions\n",
    "y_values_lr=sdahat_values_lr/a_hat_lr**2\n",
    "y_values_fk=sdahat_values_fk/a_hat_fk**2\n",
    "plt.plot(x_values,-y_values_fk,lw=2,alpha=0.8)\n",
    "plt.plot(x_values,-y_values_lr,lw=2,alpha=0.8)\n",
    "# #plot for variable a\n",
    "#plot for variable a\n",
    "for i,a in enumerate(a_values_trgt):\n",
    "    plt.scatter(x_values,-y_values_fk_lst[i]/(a**2),c=1.*c_values[i]+0.*x_values,linestyle='dotted',alpha=alpha,s=5,cmap='Greens',vmin=vmin,vmax=vmax)\n",
    "    plt.scatter(x_values,-y_values_lr_lst[i]/(a**2),c=1.*c_values[i]+0.*x_values,linestyle='dotted',alpha=alpha,s=5,cmap='Greys',vmin=vmin,vmax=vmax)\n",
    "# c_values=a_values_trgt/np.max(a_values_trgt)\n",
    "# for i,a in enumerate(a_values_trgt):\n",
    "#     plt.scatter(x_values,-y_values_fk_lst[i]/(a**2),c='C0',linestyle='dotted',alpha=alpha*c_values[i],s=5)\n",
    "#     plt.scatter(x_values,-y_values_lr_lst[i]/(a**2),c='C1',linestyle='dotted',alpha=alpha*c_values[i],s=5)\n",
    "# TODO: each colored by a_values_trgt \n",
    "# TODO: on a scale with both ends clearly visible\n",
    "\n",
    "#DONE: plot a token powerlaw that is positive and monotonically decreasing \n",
    "#HINT: y = M * x **-nu for nu as the negative slope\n",
    "xv=np.logspace(-3,0,100)\n",
    "yv=1.5e-1*xv**slope\n",
    "plt.plot(xv,yv,'k--',alpha=.6)\n",
    "\n",
    "#format_plot\n",
    "plt.title('Colors deepen with increasing a>0\\n',fontsize=14)\n",
    "# plt.yscale('log')\n",
    "plt.ylim([1e-4,1e7])\n",
    "format_plot(ax=plt.gca(), xlabel=xlabel, ylabel=ylabel, use_loglog=True, fontsize=18)#, **kwargs)\n",
    "mark_slope(ax=plt.gca(), x1=1e-1, y1=2.5e1, slope=(-2,1), text_kwargs={'color': 'black'}, poly_kwargs={'facecolor': (0.0, 0.0, 0)})\n",
    "plt.show()"
   ]
  },
  {
   "cell_type": "code",
   "execution_count": null,
   "id": "bf10d737",
   "metadata": {
    "ExecuteTime": {
     "end_time": "2022-01-22T18:50:40.385356Z",
     "start_time": "2022-01-22T18:50:40.385306Z"
    },
    "hidden": true
   },
   "outputs": [],
   "source": [
    "slope=-2#-1/4\n",
    "alpha=0.2\n",
    "xlabel=r'$\\bar\\Gamma / T$'#\n",
    "ylabel=r'$\\delta \\hat a_{D^2} ^2/a^2$'#  (cm$^2$/s)'\n",
    "# ylabel=r'$|\\delta \\hat a_{D^2}| ^2/a^2$'#  (cm$^2$/s)'\n",
    "# ylabel=r'$|\\delta \\hat a_{D^2}| ^2/a^2$'#  (cm$^2$/s)'\n",
    "#DONE: plot x_values,y_values_fk_lst,y_values_lr_lst, \n",
    "# DONE: simple scatter plot\n",
    "fig,ax=plt.subplots(figsize=(5,3))\n",
    "#plot the expected solutions\n",
    "plt.plot(x_values,y_values_fk,lw=2,alpha=0.8)\n",
    "plt.plot(x_values,y_values_lr,lw=2,alpha=0.8)\n",
    "# plt.plot(x_values,np.abs(y_values_fk),lw=2,alpha=0.8)\n",
    "# plt.plot(x_values,np.abs(y_values_lr),lw=2,alpha=0.8)\n",
    "#plot for variable a\n",
    "for i,a in enumerate(a_values_trgt):\n",
    "    plt.scatter(x_values,y_values_fk_lst[i]/(a**2),c=1.*c_values[i]+0.*x_values,linestyle='dotted',alpha=alpha,s=5,cmap='Greens',vmin=vmin,vmax=vmax)\n",
    "    plt.scatter(x_values,y_values_lr_lst[i]/(a**2),c=1.*c_values[i]+0.*x_values,linestyle='dotted',alpha=alpha,s=5,cmap='Greys',vmin=vmin,vmax=vmax)\n",
    "#     plt.scatter(x_values,y_values_fk_lst[i]/(a**2),c='C0',linestyle='dotted',alpha=alpha*c_values[i],s=5)\n",
    "#     plt.scatter(x_values,y_values_lr_lst[i]/(a**2),c='C1',linestyle='dotted',alpha=alpha*c_values[i],s=5)\n",
    "# TODO: each colored by a_values_trgt \n",
    "# TODO: on a scale with both ends clearly visible\n",
    "#DONE: plot a token powerlaw that is positive and monotonically decreasing \n",
    "#HINT: y = M * x **-nu for nu as the negative slope\n",
    "xv=np.logspace(-3,0,100)\n",
    "yv=1.5e-1*xv**slope\n",
    "plt.plot(xv,yv,'k--',alpha=.6)\n",
    "\n",
    "#format_plot\n",
    "plt.title('Colors deepen with increasing a>0\\n',fontsize=14)\n",
    "# plt.yscale('log')\n",
    "plt.ylim([1e-4,1e7])\n",
    "format_plot(ax=plt.gca(), xlabel=xlabel, ylabel=ylabel, use_loglog=True, fontsize=18)#, **kwargs)\n",
    "mark_slope(ax=plt.gca(), x1=3e-1, y1=.35e1, slope=(-2,1), text_kwargs={'color': 'black'}, poly_kwargs={'facecolor': (0.0, 0.0, 0)})\n",
    "# mark_slope(ax=plt.gca(), x1=1e-1, y1=2.5e1, slope=(-2,1), text_kwargs={'color': 'black'}, poly_kwargs={'facecolor': (0.0, 0.0, 0)})\n",
    "plt.show()"
   ]
  },
  {
   "cell_type": "code",
   "execution_count": null,
   "id": "4a95a549",
   "metadata": {
    "ExecuteTime": {
     "end_time": "2022-01-22T18:50:40.387529Z",
     "start_time": "2022-01-22T18:50:40.387505Z"
    },
    "hidden": true
   },
   "outputs": [],
   "source": [
    "slope=-2#-1/4\n",
    "alpha=0.2\n",
    "xlabel=r'$\\bar\\Gamma / T$'#\n",
    "ylabel=r'$|\\delta \\hat a_{D^2}| ^2/a^2$'#  (cm$^2$/s)'\n",
    "#DONE: plot x_values,y_values_fk_lst,y_values_lr_lst, \n",
    "# DONE: simple scatter plot\n",
    "fig,ax=plt.subplots(figsize=(5,3))\n",
    "#plot the expected solutions\n",
    "plt.plot(x_values,np.abs(y_values_fk),lw=2,alpha=0.8)\n",
    "plt.plot(x_values,np.abs(y_values_lr),lw=2,alpha=0.8)\n",
    "#plot for variable a\n",
    "for i,a in enumerate(a_values_trgt):\n",
    "    plt.scatter(x_values,np.abs(y_values_fk_lst[i])/(a**2),c=1.*c_values[i]+0.*x_values,linestyle='dotted',alpha=alpha,s=5,cmap='Greens',vmin=vmin,vmax=vmax)\n",
    "    plt.scatter(x_values,np.abs(y_values_lr_lst[i])/(a**2),c=1.*c_values[i]+0.*x_values,linestyle='dotted',alpha=alpha,s=5,cmap='Greys',vmin=vmin,vmax=vmax)\n",
    "#     plt.scatter(x_values,y_values_fk_lst[i]/(a**2),c='C0',linestyle='dotted',alpha=alpha*c_values[i],s=5)\n",
    "#     plt.scatter(x_values,y_values_lr_lst[i]/(a**2),c='C1',linestyle='dotted',alpha=alpha*c_values[i],s=5)\n",
    "# TODO: each colored by a_values_trgt \n",
    "# TODO: on a scale with both ends clearly visible\n",
    "#DONE: plot a token powerlaw that is positive and monotonically decreasing \n",
    "#HINT: y = M * x **-nu for nu as the negative slope\n",
    "xv=np.logspace(-3,0,100)\n",
    "yv=1.5e-1*xv**slope\n",
    "plt.plot(xv,yv,'k--',alpha=.6)\n",
    "\n",
    "#format_plot\n",
    "plt.title('Colors deepen with increasing a>0\\n',fontsize=14)\n",
    "# plt.yscale('log')\n",
    "plt.ylim([1e-4,1e7])\n",
    "format_plot(ax=plt.gca(), xlabel=xlabel, ylabel=ylabel, use_loglog=True, fontsize=18)#, **kwargs)\n",
    "mark_slope(ax=plt.gca(), x1=3e-1, y1=.35e1, slope=(-2,1), text_kwargs={'color': 'black'}, poly_kwargs={'facecolor': (0.0, 0.0, 0)})\n",
    "# mark_slope(ax=plt.gca(), x1=1e-1, y1=2.5e1, slope=(-2,1), text_kwargs={'color': 'black'}, poly_kwargs={'facecolor': (0.0, 0.0, 0)})\n",
    "plt.show()"
   ]
  },
  {
   "cell_type": "code",
   "execution_count": null,
   "id": "eeb392ad",
   "metadata": {
    "ExecuteTime": {
     "end_time": "2022-01-22T18:50:40.390071Z",
     "start_time": "2022-01-22T18:50:40.390048Z"
    },
    "hidden": true
   },
   "outputs": [],
   "source": [
    "# #TODO(Now!): implement the cross correction to ahat_squared\n",
    "# def correction_cross(z,a,D,phi):\n",
    "#     \"\"\"\n",
    "#     correction_cross returns the real correction value \n",
    "#     that evaluates the expected attraction coefficient \n",
    "#     in terms of the parameters of the oscilatory model \n",
    "#     relative to the lifetime of the particle.\n",
    "    \n",
    "#     here, the lifetime of the particle has been taken \n",
    "#     to be exponentially distributed \n",
    "#     with an expected value \n",
    "#     proportional to z.\n",
    "    \n",
    "#     z = 2 * pi * mean_lifetime / dynamic_period\n",
    "    \n",
    "#     Note that z is also \n",
    "#     inversely proportional \n",
    "#     to the dynamic period of oscillation.\n",
    "#     \"\"\"\n",
    "#     dasum=(np.sin(phi) + 2.*z*np.cos(phi) - z**2*np.sin(phi))/((1. + z**2)**2)\n",
    "#     dasum-=np.sin(phi)\n",
    "#     dahat=D*a/z\n",
    "#     dahat*=dasum\n",
    "#     return dahat\n",
    "\n",
    "# def correction_cross_lr(z,a):\n",
    "#     \"\"\"\n",
    "#     correction_diffusion_lr returns the cross correction \n",
    "#     to the attraction coefficient \n",
    "#     as the float expected \n",
    "#     in the mean squared power spectrum limit \n",
    "#     for parameters fit to the Luo-Rudy model.\n",
    "#     \"\"\"\n",
    "#     return correction_cross(z,a,a/2.,phi=0.)\n",
    "\n",
    "# def correction_cross_fk(z,a):\n",
    "#     \"\"\"\n",
    "#     correction_diffusion_lr returns the cross correction \n",
    "#     to the attraction coefficient \n",
    "#     as the float expected \n",
    "#     in the mean squared power spectrum limit \n",
    "#     for parameters fit to the Fenton-Karma model.\n",
    "#     \"\"\"\n",
    "#     return correction_cross(z,a,a/2.,phi=-np.pi/2.)"
   ]
  },
  {
   "cell_type": "markdown",
   "id": "f1474ee4",
   "metadata": {
    "heading_collapsed": true
   },
   "source": [
    "# DONE: visualize the cross correction term"
   ]
  },
  {
   "cell_type": "code",
   "execution_count": 5,
   "id": "486889b4",
   "metadata": {
    "ExecuteTime": {
     "end_time": "2022-01-22T19:03:34.455661Z",
     "start_time": "2022-01-22T19:03:34.410768Z"
    },
    "hidden": true
   },
   "outputs": [],
   "source": [
    "#reset matplotlib\n",
    "import matplotlib\n",
    "from matplotlib.ticker import FormatStrFormatter\n",
    "matplotlib.rcParams.update(matplotlib.rcParamsDefault)\n"
   ]
  },
  {
   "cell_type": "code",
   "execution_count": 6,
   "id": "0f1e732b",
   "metadata": {
    "ExecuteTime": {
     "end_time": "2022-01-22T19:03:35.381633Z",
     "start_time": "2022-01-22T19:03:35.340244Z"
    },
    "hidden": true
   },
   "outputs": [],
   "source": [
    "#GOAL: visualize the correction due to any cross terms\n",
    "#DONE: confirm ^these functions with the equations on my ipad\n",
    "#TODO: test ^these functions with the following cells\n"
   ]
  },
  {
   "cell_type": "code",
   "execution_count": 7,
   "id": "e0592c9b",
   "metadata": {
    "ExecuteTime": {
     "end_time": "2022-01-22T19:03:36.876854Z",
     "start_time": "2022-01-22T19:03:36.180022Z"
    },
    "hidden": true
   },
   "outputs": [
    {
     "data": {
      "image/png": "[encoded data removed]",
      "text/plain": [
       "<Figure size 640x480 with 1 Axes>"
      ]
     },
     "metadata": {},
     "output_type": "display_data"
    }
   ],
   "source": [
    "a_hat_lr=8.5\n",
    "a_hat_fk=1.6\n",
    "a_lr=3.5\n",
    "a_fk=1.6\n",
    "# # print(F\"DONE: add blue and orange curves for the a values expected of the full solution\")\n",
    "# dz=0.1#0.01\n",
    "# z_values=np.arange(dz,3+dz,dz)\n",
    "z_values=np.logspace(-3,1,100)\n",
    "\n",
    "sdahat_values_lr=correction_cross_lr(z_values,a=a_lr)\n",
    "sdahat_values_fk=correction_cross_fk(z_values,a=a_fk)\n",
    "sdahat_values_lr_cross=sdahat_values_lr.copy()\n",
    "sdahat_values_fk_cross=sdahat_values_fk.copy()\n",
    "x_values=z_values.copy()\n",
    "#plot the expected solutions\n",
    "y_values_lr=sdahat_values_lr/a_lr**2\n",
    "y_values_fk=sdahat_values_fk/a_fk**2\n",
    "plt.plot(x_values,np.abs(y_values_fk),lw=2,alpha=0.8)\n",
    "plt.plot(x_values,np.abs(y_values_lr),lw=2,alpha=0.8)\n",
    "plt.yscale('log')\n",
    "# plt.ylim([0.,10])\n",
    "plt.show()"
   ]
  },
  {
   "cell_type": "code",
   "execution_count": 8,
   "id": "fc79a21a",
   "metadata": {
    "ExecuteTime": {
     "end_time": "2022-01-22T19:03:37.098094Z",
     "start_time": "2022-01-22T19:03:37.043325Z"
    },
    "hidden": true
   },
   "outputs": [],
   "source": [
    "#correction_cross versus a\n",
    "# a_hat_lr=8.5\n",
    "# a_hat_fk=1.6\n",
    "# print(F\"TODO: add blue and orange curves for the a values expected of the full solution\")\n",
    "# dz=0.01\n",
    "# z_values=np.arange(dz,3+dz,dz)\n",
    "# sdahat_values_lr=correction_cross_lr(z_values,a=a_hat_lr)\n",
    "# sdahat_values_fk=correction_cross_fk(z_values,a=a_hat_fk)\n",
    "# #compute plotting values\n",
    "# y_values_lr=sdahat_values_lr/a_hat_lr**2\n",
    "# y_values_fk=sdahat_values_fk/a_hat_fk**2\n",
    "\n",
    "\n",
    "#DONE: plot dahat_over_a versus z\n",
    "da=0.1#0.002#0.01\n",
    "a_values=np.arange(da,7+da,da)\n",
    "\n",
    "#eval correction_cross_lr\n",
    "dahat_lst=[]\n",
    "for a in a_values:\n",
    "    dahat=correction_cross_lr(z_values,a)\n",
    "#     dahat=correction_diffusion_lr(z_values,a)\n",
    "    dahat_lst.append(dahat)\n",
    "# dahat_over_a=np.divide(np.array(dahat_lst).T,a_values)\n",
    "# dahat_values=np.divide(np.array(dahat_lst).T,a_values)\n",
    "dahat_values=np.array(dahat_lst).T#.T,a_values)\n",
    "dahat_values_lr=dahat_values.copy()\n",
    "\n",
    "#eval correction_cross_fk\n",
    "dahat_lst=[]\n",
    "for a in a_values:\n",
    "    dahat=correction_cross_fk(z_values,a)\n",
    "    dahat_lst.append(dahat)\n",
    "# dahat_over_a=np.divide(np.array(dahat_lst).T,a_values)\n",
    "# dahat_values=np.divide(np.array(dahat_lst).T,a_values)\n",
    "dahat_values=np.array(dahat_lst).T#.T,a_values)\n",
    "dahat_values_fk=dahat_values.copy()"
   ]
  },
  {
   "cell_type": "code",
   "execution_count": 9,
   "id": "23e031f0",
   "metadata": {
    "ExecuteTime": {
     "end_time": "2022-01-22T19:03:37.889829Z",
     "start_time": "2022-01-22T19:03:37.845435Z"
    },
    "hidden": true
   },
   "outputs": [],
   "source": [
    "# test dahat_over_a_lr is nonnegative for correction term\n",
    "assert not (dahat_values_lr<0).any()\n",
    "\n",
    "# test dahat_over_a_lr  is nonnegative for correction term\n",
    "assert not  (dahat_values_fk<0).any()"
   ]
  },
  {
   "cell_type": "code",
   "execution_count": 11,
   "id": "429a7edc",
   "metadata": {
    "ExecuteTime": {
     "end_time": "2022-01-22T19:03:39.399264Z",
     "start_time": "2022-01-22T19:03:39.354334Z"
    },
    "hidden": true
   },
   "outputs": [],
   "source": [
    "#DONE: visualize these traces for either model for ahat correction versus 2pi*(lifetime / dynamic period) as z\n",
    "x_values=z_values.copy()/(2.*np.pi)\n",
    "# a_values_trgt=a_values[::40]#for  a_values.shape as (400,)\n",
    "a_values_trgt=a_values[::4]#for  a_values.shape as (400,)\n",
    "y_values_fk_lst=[]\n",
    "y_values_lr_lst=[]\n",
    "for a  in a_values_trgt:\n",
    "    boo=a==a_values\n",
    "    #compute\n",
    "    y_values_fk=dahat_values_fk.T[boo][0]\n",
    "    y_values_lr=dahat_values_lr.T[boo][0]\n",
    "    #record\n",
    "    y_values_fk_lst.append(y_values_fk)\n",
    "    y_values_lr_lst.append(y_values_lr)\n",
    "\n",
    "\n",
    "c_values=a_values_trgt/np.max(a_values_trgt)\n",
    "# c_values=np.exp(c_values)\n",
    "vmin=np.min(c_values)\n",
    "vmax=np.max(c_values)    "
   ]
  },
  {
   "cell_type": "code",
   "execution_count": 12,
   "id": "d805fbae",
   "metadata": {
    "ExecuteTime": {
     "end_time": "2022-01-22T19:03:45.399596Z",
     "start_time": "2022-01-22T19:03:45.356359Z"
    },
    "hidden": true
   },
   "outputs": [],
   "source": [
    "a_hat_lr=8.5\n",
    "a_hat_fk=1.6\n",
    "a_lr=3.5\n",
    "a_fk=1.6\n",
    "# # print(F\"DONE: add blue and orange curves for the a values expected of the full solution\")\n",
    "# dz=0.1#0.01\n",
    "# z_values=np.arange(dz,3+dz,dz)\n",
    "# z_values=np.logspace(-3,1,100)\n",
    "\n",
    "sdahat_values_lr=correction_cross_lr(z_values,a=a_lr)\n",
    "sdahat_values_fk=correction_cross_fk(z_values,a=a_fk)\n",
    "sdahat_values_lr_cross=sdahat_values_lr.copy()\n",
    "sdahat_values_fk_cross=sdahat_values_fk.copy()\n",
    "x_values=z_values.copy()\n",
    "#plot the expected solutions\n",
    "y_values_lr=sdahat_values_lr/a_lr**2\n",
    "y_values_fk=sdahat_values_fk/a_fk**2"
   ]
  },
  {
   "cell_type": "code",
   "execution_count": 13,
   "id": "6d907406",
   "metadata": {
    "ExecuteTime": {
     "end_time": "2022-01-22T19:03:46.827578Z",
     "start_time": "2022-01-22T19:03:46.179488Z"
    },
    "hidden": true,
    "scrolled": false
   },
   "outputs": [
    {
     "data": {
      "image/png": "[encoded data removed]",
      "text/plain": [
       "<Figure size 600x400 with 1 Axes>"
      ]
     },
     "metadata": {},
     "output_type": "display_data"
    }
   ],
   "source": [
    "slope=-1#-1/4\n",
    "alpha=0.2\n",
    "xlabel=r'$\\bar\\Gamma / T$'#\n",
    "ylabel=r'$\\delta \\hat a_{Da} ^2/a^2$'#  (cm$^2$/s)'\n",
    "# ylabel=r'$|\\delta \\hat a_{D^2}| ^2/a^2$'#  (cm$^2$/s)'\n",
    "# ylabel=r'$|\\delta \\hat a_{D^2}| ^2/a^2$'#  (cm$^2$/s)'\n",
    "#DONE: plot x_values,y_values_fk_lst,y_values_lr_lst, \n",
    "# DONE: simple scatter plot\n",
    "# fig,ax=plt.subplots(figsize=(5,3))\n",
    "fig,ax=plt.subplots(figsize=(6,4))\n",
    "#plot the expected solutions\n",
    "plt.plot(x_values,y_values_fk,lw=2,alpha=0.8)\n",
    "plt.plot(x_values,y_values_lr,lw=2,alpha=0.8)\n",
    "# # plt.plot(x_values,np.abs(y_values_fk),lw=2,alpha=0.8)\n",
    "# # plt.plot(x_values,np.abs(y_values_lr),lw=2,alpha=0.8)\n",
    "# #plot for variable a\n",
    "# for i,a in enumerate(a_values_trgt):\n",
    "#     plt.scatter(x_values,y_values_fk_lst[i]/(a**2),c=1.*c_values[i]+0.*x_values,linestyle='dotted',alpha=alpha,s=5,cmap='Greens',vmin=vmin,vmax=vmax)\n",
    "#     plt.scatter(x_values,y_values_lr_lst[i]/(a**2),c=1.*c_values[i]+0.*x_values,linestyle='dotted',alpha=alpha,s=5,cmap='Greys',vmin=vmin,vmax=vmax)\n",
    "# #     plt.scatter(x_values,y_values_fk_lst[i]/(a**2),c='C0',linestyle='dotted',alpha=alpha*c_values[i],s=5)\n",
    "# #     plt.scatter(x_values,y_values_lr_lst[i]/(a**2),c='C1',linestyle='dotted',alpha=alpha*c_values[i],s=5)\n",
    "# DONE: each colored by a_values_trgt\n",
    "# DONT: on a scale with both ends clearly visible\n",
    "#DONE: plot a token powerlaw that is positive and monotonically decreasing\n",
    "#HINT: y = M * x **-nu for nu as the negative slope\n",
    "xv=np.logspace(0,1,20)\n",
    "yv=1.e-0*xv**slope\n",
    "# yv=5e-0*xv**slope\n",
    "plt.plot(xv,yv,'k--',alpha=.6)\n",
    "\n",
    "#format_plot\n",
    "plt.title(r' $\\forall a>0$'+'\\n',fontsize=24)\n",
    "# plt.title('Colors deepen with increasing a>0\\n',fontsize=14)\n",
    "# plt.yscale('log')\n",
    "# plt.ylim([1e-4,1e7])\n",
    "plt.ylim([1e-4,1e1])\n",
    "format_plot(ax=plt.gca(), xlabel=xlabel, ylabel=ylabel, use_loglog=True, fontsize=18)#, **kwargs)\n",
    "#LR\n",
    "mark_slope(ax=plt.gca(), x1=5e-0, y1=6e-4, slope=(-4,1),invert=True, text_kwargs={'color': 'black','fontsize':14, \"alpha\":0.8})#, poly_kwargs={'facecolor': (0.0, 0.0, 0)})#)\n",
    "#FK\n",
    "mark_slope(ax=plt.gca(), x1=2e-0, y1=.7e0, slope=(slope,1), text_kwargs={'color': 'black','fontsize':14, \"alpha\":0.8})#, poly_kwargs={'facecolor': (0.0, 0.0, 0)})\n",
    "# mark_slope(ax=plt.gca(), x1=3e-1, y1=.23e1, slope=(slope,1), text_kwargs={'color': 'black'}, poly_kwargs={'facecolor': (0.0, 0.0, 0)})\n",
    "# mark_slope(ax=plt.gca(), x1=3e-1, y1=.75e0, slope=(slope,1), text_kwargs={'color': 'black'}, poly_kwargs={'facecolor': (0.0, 0.0, 0)})\n",
    "# mark_slope(ax=plt.gca(), x1=3e-1, y1=.35e1, slope=(slope,1), text_kwargs={'color': 'black'}, poly_kwargs={'facecolor': (0.0, 0.0, 0)})\n",
    "#force minor ticks to be on for the log y axis\n",
    "plt.tick_params(axis='y', which='minor',left=True)\n",
    "# ax.set_yticks([1e-4,1e-3,1e-2,1e-1,1e0,1e1])\n",
    "ax.set_yscale('log')\n",
    "plt.tick_params(axis='y', which='minor')\n",
    "## ax.tick_params(axis='y',reset=False, left=True,right=False, which='minor',\n",
    "##               direction='out', length=6, width=2, colors='k')\n",
    "plt.show()"
   ]
  },
  {
   "cell_type": "markdown",
   "id": "b11d7dc9",
   "metadata": {
    "heading_collapsed": true
   },
   "source": [
    "# DONE: visualize the pure diffusion correction term"
   ]
  },
  {
   "cell_type": "markdown",
   "id": "6e927045",
   "metadata": {
    "hidden": true
   },
   "source": [
    "- can i assume ahat/a is independent of a, again? Supposing $a=2D$, Yes."
   ]
  },
  {
   "cell_type": "code",
   "execution_count": 22,
   "id": "be4a93cd",
   "metadata": {
    "ExecuteTime": {
     "end_time": "2022-01-22T19:12:34.808191Z",
     "start_time": "2022-01-22T19:12:34.200370Z"
    },
    "hidden": true,
    "scrolled": true
   },
   "outputs": [
    {
     "data": {
      "image/png": "[encoded data removed]",
      "text/plain": [
       "<Figure size 600x400 with 1 Axes>"
      ]
     },
     "metadata": {},
     "output_type": "display_data"
    }
   ],
   "source": [
    "#GOAL: visualize the correction purely due to any diffusion\n",
    "a_hat_lr=8.5\n",
    "a_hat_fk=1.6\n",
    "a_lr=3.5\n",
    "a_fk=1.6\n",
    "# # print(F\"DONE: add blue and orange curves for the a values expected of the full solution\")\n",
    "# dz=0.1#0.01\n",
    "# z_values=np.arange(dz,3+dz,dz)\n",
    "z_values=np.logspace(-3,1,100)\n",
    "\n",
    "# sdahat_values_lr=correction_cross_lr(z_values,a=a_lr)\n",
    "# sdahat_values_fk=correction_cross_fk(z_values,a=a_fk)\n",
    "# sdahat_values_lr_cross=sdahat_values_lr.copy()\n",
    "# sdahat_values_fk_cross=sdahat_values_fk.copy()\n",
    "# x_values=z_values.copy()\n",
    "# #plot the expected solutions\n",
    "# y_values_lr=sdahat_values_lr/a_lr**2\n",
    "# y_values_fk=sdahat_values_fk/a_fk**2\n",
    "# plt.plot(x_values,np.abs(y_values_fk),lw=2,alpha=0.8)\n",
    "# plt.plot(x_values,np.abs(y_values_lr),lw=2,alpha=0.8)\n",
    "# plt.yscale('log')\n",
    "# # plt.ylim([0.,10])\n",
    "# plt.show()\n",
    "\n",
    "#correction_cross versus a\n",
    "# a_hat_lr=8.5\n",
    "# a_hat_fk=1.6\n",
    "# print(F\"TODO: add blue and orange curves for the a values expected of the full solution\")\n",
    "# dz=0.01\n",
    "# z_values=np.arange(dz,3+dz,dz)\n",
    "# sdahat_values_lr=correction_cross_lr(z_values,a=a_hat_lr)\n",
    "# sdahat_values_fk=correction_cross_fk(z_values,a=a_hat_fk)\n",
    "# #compute plotting values\n",
    "# y_values_lr=sdahat_values_lr/a_hat_lr**2\n",
    "# y_values_fk=sdahat_values_fk/a_hat_fk**2\n",
    "\n",
    "\n",
    "#DONE: plot dahat_over_a versus z\n",
    "da=0.1#0.002#0.01\n",
    "a_values=np.arange(da,7+da,da)\n",
    "\n",
    "#eval correction_diffusion_lr\n",
    "dahat_lst=[]\n",
    "for a in a_values:\n",
    "    dahat=correction_diffusion_lr(z_values,a)\n",
    "    dahat_lst.append(dahat)\n",
    "# dahat_over_a=np.divide(np.array(dahat_lst).T,a_values)\n",
    "# dahat_values=np.divide(np.array(dahat_lst).T,a_values)\n",
    "dahat_values=np.array(dahat_lst).T#.T,a_values)\n",
    "dahat_values_lr=dahat_values.copy()\n",
    "\n",
    "#eval correction_cross_fk\n",
    "dahat_lst=[]\n",
    "for a in a_values:\n",
    "    dahat=correction_diffusion_fk(z_values,a)\n",
    "    dahat_lst.append(dahat)\n",
    "# dahat_over_a=np.divide(np.array(dahat_lst).T,a_values)\n",
    "# dahat_values=np.divide(np.array(dahat_lst).T,a_values)\n",
    "dahat_values=np.array(dahat_lst).T#.T,a_values)\n",
    "dahat_values_fk=dahat_values.copy()\n",
    "\n",
    "# test dahat_over_a_lr is nonnegative for correction term\n",
    "assert not (dahat_values_lr<0).any()\n",
    "\n",
    "# test dahat_over_a_lr  is nonnegative for correction term\n",
    "assert not  (dahat_values_fk<0).any()\n",
    "\n",
    "#DONE: visualize these traces for either model for ahat correction versus 2pi*(lifetime / dynamic period) as z\n",
    "x_values=z_values.copy()/(2.*np.pi)\n",
    "# a_values_trgt=a_values[::40]#for  a_values.shape as (400,)\n",
    "a_values_trgt=a_values[::4]#for  a_values.shape as (400,)\n",
    "y_values_fk_lst=[]\n",
    "y_values_lr_lst=[]\n",
    "for a  in a_values_trgt:\n",
    "    boo=a==a_values\n",
    "    #compute\n",
    "    y_values_fk=dahat_values_fk.T[boo][0]\n",
    "    y_values_lr=dahat_values_lr.T[boo][0]\n",
    "    #record\n",
    "    y_values_fk_lst.append(y_values_fk)\n",
    "    y_values_lr_lst.append(y_values_lr)\n",
    "\n",
    "\n",
    "c_values=a_values_trgt/np.max(a_values_trgt)\n",
    "# c_values=np.exp(c_values)\n",
    "vmin=np.min(c_values)\n",
    "vmax=np.max(c_values)    \n",
    "\n",
    "a_hat_lr=8.5\n",
    "a_hat_fk=1.6\n",
    "a_lr=3.5\n",
    "a_fk=1.6\n",
    "# # print(F\"DONE: add blue and orange curves for the a values expected of the full solution\")\n",
    "# dz=0.1#0.01\n",
    "# z_values=np.arange(dz,3+dz,dz)\n",
    "# z_values=np.logspace(-3,1,100)\n",
    "\n",
    "sdahat_values_lr=correction_diffusion_lr(z_values,a=a_lr)\n",
    "sdahat_values_fk=correction_diffusion_fk(z_values,a=a_fk)\n",
    "sdahat_values_lr_diffusion=sdahat_values_lr.copy()\n",
    "sdahat_values_fk_diffusion=sdahat_values_fk.copy()\n",
    "x_values=z_values.copy()\n",
    "#plot the expected solutions\n",
    "y_values_lr=sdahat_values_lr/a_lr**2\n",
    "y_values_fk=sdahat_values_fk/a_fk**2\n",
    "\n",
    "slope=-2\n",
    "alpha=0.2\n",
    "xlabel=r'$\\bar\\Gamma / T$'#\n",
    "ylabel=r'$\\delta \\hat a_{DD} ^2/a^2$'#\n",
    "# ylabel=r'$|\\delta \\hat a_{D^2}| ^2/a^2$'#  \n",
    "# ylabel=r'$|\\delta \\hat a_{D^2}| ^2/a^2$'#  \n",
    "#DONE: plot x_values,y_values_fk_lst,y_values_lr_lst, \n",
    "# DONE: simple scatter plot\n",
    "# fig,ax=plt.subplots(figsize=(5,3))\n",
    "fig,ax=plt.subplots(figsize=(6,4))\n",
    "#plot the expected solutions\n",
    "plt.plot(x_values,y_values_fk,lw=2,alpha=0.8)\n",
    "plt.plot(x_values,y_values_lr,lw=2,alpha=0.8)\n",
    "# # plt.plot(x_values,np.abs(y_values_fk),lw=2,alpha=0.8)\n",
    "# # plt.plot(x_values,np.abs(y_values_lr),lw=2,alpha=0.8)\n",
    "# #plot for variable a\n",
    "# for i,a in enumerate(a_values_trgt):\n",
    "#     plt.scatter(x_values,y_values_fk_lst[i]/(a**2),c=1.*c_values[i]+0.*x_values,linestyle='dotted',alpha=alpha,s=5,cmap='Greens',vmin=vmin,vmax=vmax)\n",
    "#     plt.scatter(x_values,y_values_lr_lst[i]/(a**2),c=1.*c_values[i]+0.*x_values,linestyle='dotted',alpha=alpha,s=5,cmap='Greys',vmin=vmin,vmax=vmax)\n",
    "# #     plt.scatter(x_values,y_values_fk_lst[i]/(a**2),c='C0',linestyle='dotted',alpha=alpha*c_values[i],s=5)\n",
    "# #     plt.scatter(x_values,y_values_lr_lst[i]/(a**2),c='C1',linestyle='dotted',alpha=alpha*c_values[i],s=5)\n",
    "# DONE: each colored by a_values_trgt\n",
    "# DONT: on a scale with both ends clearly visible\n",
    "#DONE: plot a token powerlaw that is positive and monotonically decreasing\n",
    "#HINT: y = M * x **-nu for nu as the negative slope\n",
    "xv=np.logspace(0,1,20)\n",
    "yv=1.e-0*xv**slope\n",
    "# yv=5e-0*xv**slope\n",
    "plt.plot(xv,yv,'k--',alpha=.6)\n",
    "\n",
    "#format_plot\n",
    "plt.title(r' $\\forall a>0$'+'\\n',fontsize=24)\n",
    "# plt.title('Colors deepen with increasing a>0\\n',fontsize=14)\n",
    "# plt.yscale('log')\n",
    "plt.ylim([1e-4,1e7])\n",
    "# plt.ylim([1e-4,1e1])\n",
    "format_plot(ax=plt.gca(), xlabel=xlabel, ylabel=ylabel, use_loglog=True, fontsize=18)#, **kwargs)\n",
    "#LR\n",
    "# mark_slope(ax=plt.gca(), x1=5e-0, y1=6e-4, slope=(-2,1),invert=True, text_kwargs={'color': 'black','fontsize':14, \"alpha\":0.8})#, poly_kwargs={'facecolor': (0.0, 0.0, 0)})#)\n",
    "#FK\n",
    "mark_slope(ax=plt.gca(), x1=2e-0, y1=.7e0, slope=(slope,1), text_kwargs={'color': 'black','fontsize':14, \"alpha\":0.8})#, poly_kwargs={'facecolor': (0.0, 0.0, 0)})\n",
    "# mark_slope(ax=plt.gca(), x1=3e-1, y1=.23e1, slope=(slope,1), text_kwargs={'color': 'black'}, poly_kwargs={'facecolor': (0.0, 0.0, 0)})\n",
    "# mark_slope(ax=plt.gca(), x1=3e-1, y1=.75e0, slope=(slope,1), text_kwargs={'color': 'black'}, poly_kwargs={'facecolor': (0.0, 0.0, 0)})\n",
    "# mark_slope(ax=plt.gca(), x1=3e-1, y1=.35e1, slope=(slope,1), text_kwargs={'color': 'black'}, poly_kwargs={'facecolor': (0.0, 0.0, 0)})\n",
    "#force minor ticks to be on for the log y axis\n",
    "plt.tick_params(axis='y', which='minor',left=True)\n",
    "# ax.set_yticks([1e-4,1e-3,1e-2,1e-1,1e0,1e1])\n",
    "ax.set_yscale('log')\n",
    "plt.tick_params(axis='y', which='minor')\n",
    "## ax.tick_params(axis='y',reset=False, left=True,right=False, which='minor',\n",
    "##               direction='out', length=6, width=2, colors='k')\n",
    "plt.show()"
   ]
  },
  {
   "cell_type": "code",
   "execution_count": 27,
   "id": "d1f2e75d",
   "metadata": {
    "ExecuteTime": {
     "end_time": "2022-01-22T19:18:26.259868Z",
     "start_time": "2022-01-22T19:18:26.213761Z"
    },
    "hidden": true
   },
   "outputs": [],
   "source": [
    "assert not (y_values_lr<0).any()\n",
    "assert not (y_values_fk<0).any()"
   ]
  },
  {
   "cell_type": "markdown",
   "id": "dc5d819e",
   "metadata": {},
   "source": [
    "# DONE: repeat ^this plot for the square root of the sum of the three terms\n",
    "- TODO: why am i getting the same values for ahat/a?\n",
    "- TODO: if I set phi=-np.pi, does ahat/a become large enough to support ahat_min_lr=8.25 ?"
   ]
  },
  {
   "cell_type": "code",
   "execution_count": 52,
   "id": "64a663cf",
   "metadata": {
    "ExecuteTime": {
     "end_time": "2022-01-22T20:16:19.495243Z",
     "start_time": "2022-01-22T20:16:19.427159Z"
    }
   },
   "outputs": [],
   "source": [
    "#compute by summing the three terms of the attraction coefficient estimator\n",
    "squared_ahat_values_lr =correction_diffusion_lr(z_values,a=a_lr)\n",
    "squared_ahat_values_lr+=correction_cross_lr(z_values,a=a_lr)\n",
    "sdahat_over_a_squared_values_lr=squared_ahat_values_lr/a_lr**2\n",
    "squared_ahat_values_lr+=a_lr**2\n",
    "\n",
    "squared_ahat_values_fk =correction_diffusion_lr(z_values,a=a_fk)\n",
    "squared_ahat_values_fk+=correction_cross_lr(z_values,a=a_fk)\n",
    "sdahat_over_a_squared_values_fk=squared_ahat_values_lr/a_fk**2\n",
    "squared_ahat_values_fk+=a_fk**2"
   ]
  },
  {
   "cell_type": "code",
   "execution_count": 53,
   "id": "13218dd1",
   "metadata": {
    "ExecuteTime": {
     "end_time": "2022-01-22T20:16:24.103548Z",
     "start_time": "2022-01-22T20:16:24.025543Z"
    }
   },
   "outputs": [],
   "source": [
    "#define xy axes\n",
    "x_values=z_values.copy()/(2*np.pi)\n",
    "y_values_fk=np.sqrt(squared_ahat_values_fk/a_fk**2)\n",
    "y_values_lr=np.sqrt(squared_ahat_values_lr/a_lr**2)"
   ]
  },
  {
   "cell_type": "code",
   "execution_count": 62,
   "id": "4ff0740c",
   "metadata": {
    "ExecuteTime": {
     "end_time": "2022-01-22T20:19:43.209339Z",
     "start_time": "2022-01-22T20:19:42.032326Z"
    }
   },
   "outputs": [
    {
     "data": {
      "image/png": "[encoded data removed]",
      "text/plain": [
       "<Figure size 600x400 with 1 Axes>"
      ]
     },
     "metadata": {},
     "output_type": "display_data"
    }
   ],
   "source": [
    "# # TODO: visualize ahat/a by summing the three terms of the attraction coefficient estimator\n",
    "#plot solutions for the estimators\n",
    "slope=-1\n",
    "alpha=0.2\n",
    "xlabel=r'$\\bar\\Gamma / T$'#\n",
    "ylabel=r'$\\hat a ^2/a^2$'#\n",
    "# use_loglog=False\n",
    "use_loglog=True\n",
    "# ylabel=r'$|\\delta \\hat a_{D^2}| ^2/a^2$'#  \n",
    "# ylabel=r'$|\\delta \\hat a_{D^2}| ^2/a^2$'#  \n",
    "#DONE: plot x_values,y_values_fk_lst,y_values_lr_lst, \n",
    "# DONE: simple scatter plot\n",
    "# fig,ax=plt.subplots(figsize=(5,3))\n",
    "fig,ax=plt.subplots(figsize=(6,4))\n",
    "# #plot the expected solutions\n",
    "# ax.plot(x_values,y_values_fk,lw=2,alpha=0.8)\n",
    "# ax.plot(x_values,y_values_lr,lw=2,alpha=0.8)\n",
    "\n",
    "\n",
    "#compute values for general phi\n",
    "a=1\n",
    "phi=-np.pi/2\n",
    "squared_ahat_values =correction_diffusion(z_values,a=a,D=a/2.,phi=phi)\n",
    "squared_ahat_values+=correction_cross(z_values,a=a,D=a/2.,phi=phi)\n",
    "squared_ahat_values+=a**2\n",
    "y_values=np.sqrt(squared_ahat_values/a**2)\n",
    "ax.plot(x_values,y_values,lw=2,alpha=0.8)\n",
    "\n",
    "\n",
    "#format_plot\n",
    "plt.title(r' $\\forall a>0$'+'\\n',fontsize=24)\n",
    "# plt.title('Colors deepen with increasing a>0\\n',fontsize=14)\n",
    "# plt.yscale('log')\n",
    "plt.ylim([9e-2,1.3e1])\n",
    "# plt.ylim([1e-4,1e1])\n",
    "format_plot(ax=plt.gca(), xlabel=xlabel, ylabel=ylabel, use_loglog=use_loglog, fontsize=18)#, **kwargs)\n",
    "#LR\n",
    "# mark_slope(ax=plt.gca(), x1=5e-0, y1=6e-4, slope=(-2,1),invert=True, text_kwargs={'color': 'black','fontsize':14, \"alpha\":0.8})#, poly_kwargs={'facecolor': (0.0, 0.0, 0)})#)\n",
    "#FK\n",
    "# mark_slope(ax=plt.gca(), x1=2e-0, y1=.7e0, slope=(slope,1), text_kwargs={'color': 'black','fontsize':14, \"alpha\":0.8})#, poly_kwargs={'facecolor': (0.0, 0.0, 0)})\n",
    "# mark_slope(ax=plt.gca(), x1=3e-1, y1=.23e1, slope=(slope,1), text_kwargs={'color': 'black'}, poly_kwargs={'facecolor': (0.0, 0.0, 0)})\n",
    "# mark_slope(ax=plt.gca(), x1=3e-1, y1=.75e0, slope=(slope,1), text_kwargs={'color': 'black'}, poly_kwargs={'facecolor': (0.0, 0.0, 0)})\n",
    "# mark_slope(ax=plt.gca(), x1=3e-1, y1=.35e1, slope=(slope,1), text_kwargs={'color': 'black'}, poly_kwargs={'facecolor': (0.0, 0.0, 0)})\n",
    "#force minor ticks to be on for the log y axis\n",
    "plt.tick_params(axis='y', which='minor',left=True)\n",
    "# ax.set_yticks([1e-4,1e-3,1e-2,1e-1,1e0,1e1])\n",
    "ax.set_yscale('log')\n",
    "plt.tick_params(axis='y', which='minor')\n",
    "## ax.tick_params(axis='y',reset=False, left=True,right=False, which='minor',\n",
    "##               direction='out', length=6, width=2, colors='k')\n",
    "plt.show()"
   ]
  },
  {
   "cell_type": "code",
   "execution_count": 230,
   "id": "811b4a3f",
   "metadata": {
    "ExecuteTime": {
     "end_time": "2022-01-22T23:11:04.978014Z",
     "start_time": "2022-01-22T23:11:04.437967Z"
    }
   },
   "outputs": [
    {
     "data": {
      "image/png": "[encoded data removed]",
      "text/plain": [
       "<Figure size 600x400 with 1 Axes>"
      ]
     },
     "metadata": {},
     "output_type": "display_data"
    }
   ],
   "source": [
    "# # TODO: visualize a/ahat by summing the three terms of the attraction coefficient estimator\n",
    "#plot solutions for the estimators\n",
    "slope=-1\n",
    "alpha=0.2\n",
    "xlabel=r'$\\bar\\Gamma / T$'#\n",
    "ylabel=r'$a /\\hat a$'#\n",
    "a=1 #same plot for any a\n",
    "use_loglog=False\n",
    "# fig,ax=plt.subplots(figsize=(5,3))\n",
    "fig,ax=plt.subplots(figsize=(6,4))\n",
    "z_values=np.logspace(-2,2,100)\n",
    "x_values=z_values/(2.*np.pi)\n",
    "\n",
    "# #plot observed ahat values as horizontal dashed lines\n",
    "# y=ahat_fk_observed/a_fk_observed\n",
    "# ax.plot(x_values,0.*x_values+y,'C0--',lw=2,alpha=0.9,label='Fenton-Karma Model')\n",
    "# y=ahat_lr_observed/a_lr_observed\n",
    "# ax.plot(x_values,0.*x_values+y,'C1--',lw=2,alpha=0.9,label='Luo-Rudy Model')\n",
    "\n",
    "#plot predictions for phi=-np.pi/2\n",
    "phi=-np.pi/2\n",
    "squared_ahat_values =correction_diffusion(z_values,a=a,D=a/2.,phi=phi)\n",
    "squared_ahat_values+=correction_cross(z_values,a=a,D=a/2.,phi=phi)\n",
    "squared_ahat_values+=a**2\n",
    "y_values=np.sqrt(squared_ahat_values/a**2)\n",
    "y_values=y_values**-1\n",
    "ax.plot(x_values,y_values,lw=2,alpha=0.8,color='green',label=r'Solution ($\\phi_f=-\\frac{\\pi}{2}$)')\n",
    "#plot predictions for phi=0\n",
    "phi=0\n",
    "squared_ahat_values =correction_diffusion(z_values,a=a,D=a/2.,phi=phi)\n",
    "squared_ahat_values+=correction_cross(z_values,a=a,D=a/2.,phi=phi)\n",
    "squared_ahat_values+=a**2\n",
    "x_values=z_values/(2.*np.pi)\n",
    "y_values=np.sqrt(squared_ahat_values/a**2)\n",
    "y_values=y_values**-1\n",
    "ax.plot(x_values,y_values,lw=2,alpha=0.8,color='gray',label=r'Solution ($\\phi_f=0$)')\n",
    "\n",
    "\n",
    "#plot observed ahat,Gamma/T values as horizontal dashed lines\n",
    "#Fenton-Karma\n",
    "x=3\n",
    "Delta_x=.5 #poorly estimated uncertainty\n",
    "y=(ahat_fk_observed/a_fk_observed)**-1\n",
    "Delta_y=.04 #well estimated uncertainty\n",
    "ax.errorbar(x, y, xerr=Delta_x, yerr=Delta_y, fmt='o',markersize=5,capsize=3,\n",
    "            color='C0',\n",
    "            label='Fenton-Karma')\n",
    "#Luo-Rudy\n",
    "x=0.1\n",
    "Delta_x=.05 #poorly estimated uncertainty\n",
    "y=(ahat_lr_observed/a_lr_observed)**-1\n",
    "Delta_y=.08 #well estimated uncertainty\n",
    "ax.errorbar(x, y, xerr=Delta_x, yerr=Delta_y, fmt='o',markersize=5,capsize=3,\n",
    "            color='C1',\n",
    "            label='Luo-Rudy')\n",
    "#DONE: copy estimates from .odg\n",
    "#DONE: add error bar estimates\n",
    "#TODO(later): consider improving x,Delta_x estimates\n",
    "#TODO: plot the diffusion correction divided by the cross correction\n",
    "# ax.plot(x_values,0.*x_values+y,'C0--',lw=2,alpha=0.9,label='Fenton-Karma Model')\n",
    "# y=ahat_lr_observed/a_lr_observed\n",
    "# ax.plot(x_values,0.*x_values+y,'C1--',lw=2,alpha=0.9,label='Luo-Rudy Model')\n",
    "\n",
    "\n",
    "#format_plot\n",
    "# plt.title(r' $\\phi_f=-\\frac{\\pi}{2}$',fontsize=18, x=0.8, y=0.9)\n",
    "# plt.ylim([8e-1,1.3e2])\n",
    "plt.ylim([0,1.1])\n",
    "ax.legend(loc='lower right',fontsize=11,frameon=False)\n",
    "format_plot(ax=plt.gca(), xlabel=xlabel, ylabel=ylabel, use_loglog=use_loglog, fontsize=18)#, **kwargs)\n",
    "plt.tick_params(axis='y', which='minor',left=True)\n",
    "plt.tick_params(axis='x', which='minor',bottom=True)\n",
    "# ax.set_yticks([1e-4,1e-3,1e-2,1e-1,1e0,1e1])\n",
    "ax.set_xscale('log')\n",
    "# ax.set_yscale('log')\n",
    "# plt.tick_params(axis='y', which='minor')\n",
    "## ax.tick_params(axis='y',reset=False, left=True,right=False, which='minor',\n",
    "##               direction='out', length=6, width=2, colors='k')\n",
    "# mark_slope(ax=ax,x1=1e-2,y1=1e1,slope=(-1,1),invert=True)\n",
    "plt.show()"
   ]
  },
  {
   "cell_type": "code",
   "execution_count": 233,
   "id": "2dd00904",
   "metadata": {
    "ExecuteTime": {
     "end_time": "2022-01-22T23:11:31.356063Z",
     "start_time": "2022-01-22T23:11:30.746876Z"
    },
    "run_control": {
     "marked": true
    }
   },
   "outputs": [
    {
     "data": {
      "image/png": "[encoded data removed]",
      "text/plain": [
       "<Figure size 600x400 with 1 Axes>"
      ]
     },
     "metadata": {},
     "output_type": "display_data"
    }
   ],
   "source": [
    "# # TODO: visualize ahat/a by summing the three terms of the attraction coefficient estimator\n",
    "#plot solutions for the estimators\n",
    "slope=-1\n",
    "alpha=0.2\n",
    "xlabel=r'$\\bar\\Gamma / T$'#\n",
    "ylabel=r'$\\hat a ^2/a^2$'#\n",
    "a=1 #same plot for any a\n",
    "use_loglog=True\n",
    "# fig,ax=plt.subplots(figsize=(5,3))\n",
    "fig,ax=plt.subplots(figsize=(6,4))\n",
    "z_values=np.logspace(-2,2,100)\n",
    "x_values=z_values/(2.*np.pi)\n",
    "\n",
    "# #plot observed ahat values as horizontal dashed lines\n",
    "# y=ahat_fk_observed/a_fk_observed\n",
    "# ax.plot(x_values,0.*x_values+y,'C0--',lw=2,alpha=0.9,label='Fenton-Karma Model')\n",
    "# y=ahat_lr_observed/a_lr_observed\n",
    "# ax.plot(x_values,0.*x_values+y,'C1--',lw=2,alpha=0.9,label='Luo-Rudy Model')\n",
    "\n",
    "#plot predictions for phi=-np.pi/2\n",
    "phi=-np.pi/2\n",
    "squared_ahat_values =correction_diffusion(z_values,a=a,D=a/2.,phi=phi)\n",
    "squared_ahat_values+=correction_cross(z_values,a=a,D=a/2.,phi=phi)\n",
    "squared_ahat_values+=a**2\n",
    "y_values=np.sqrt(squared_ahat_values/a**2)\n",
    "ax.plot(x_values,y_values,lw=2,alpha=0.8,color='green',label=r'Solution ($\\phi_f=-\\frac{\\pi}{2}$)')\n",
    "#plot predictions for phi=0\n",
    "phi=0\n",
    "squared_ahat_values =correction_diffusion(z_values,a=a,D=a/2.,phi=phi)\n",
    "squared_ahat_values+=correction_cross(z_values,a=a,D=a/2.,phi=phi)\n",
    "squared_ahat_values+=a**2\n",
    "x_values=z_values/(2.*np.pi)\n",
    "y_values=np.sqrt(squared_ahat_values/a**2)\n",
    "ax.plot(x_values,y_values,lw=2,alpha=0.8,color='gray',label=r'Solution ($\\phi_f=0$)')\n",
    "\n",
    "\n",
    "#plot observed ahat,Gamma/T values as horizontal dashed lines\n",
    "#Fenton-Karma\n",
    "x=3\n",
    "Delta_x=.5 #poorly estimated uncertainty\n",
    "y=ahat_fk_observed/a_fk_observed\n",
    "Delta_y=.04 #well estimated uncertainty\n",
    "ax.errorbar(x, y, xerr=Delta_x, yerr=Delta_y, fmt='o',markersize=5,capsize=3,\n",
    "            color='C0',\n",
    "            label='Fenton-Karma')\n",
    "#Luo-Rudy\n",
    "x=0.1\n",
    "Delta_x=.05 #poorly estimated uncertainty\n",
    "y=ahat_lr_observed/a_lr_observed\n",
    "Delta_y=.08 #well estimated uncertainty\n",
    "ax.errorbar(x, y, xerr=Delta_x, yerr=Delta_y, fmt='o',markersize=5,capsize=3,\n",
    "            color='C1',\n",
    "            label='Luo-Rudy')\n",
    "#DONE: copy estimates from .odg\n",
    "#DONE: add error bar estimates\n",
    "#TODO(later): consider improving x,Delta_x estimates\n",
    "#TODO: plot the diffusion correction divided by the cross correction\n",
    "# ax.plot(x_values,0.*x_values+y,'C0--',lw=2,alpha=0.9,label='Fenton-Karma Model')\n",
    "# y=ahat_lr_observed/a_lr_observed\n",
    "# ax.plot(x_values,0.*x_values+y,'C1--',lw=2,alpha=0.9,label='Luo-Rudy Model')\n",
    "\n",
    "\n",
    "#format_plot\n",
    "# plt.title(r' $\\phi_f=-\\frac{\\pi}{2}$',fontsize=18, x=0.8, y=0.9)\n",
    "plt.ylim([8e-1,1.3e2])\n",
    "ax.legend(loc='upper right',fontsize=11,frameon=False)\n",
    "format_plot(ax=plt.gca(), xlabel=xlabel, ylabel=ylabel, use_loglog=use_loglog, fontsize=18)#, **kwargs)\n",
    "plt.tick_params(axis='y', which='minor',left=True)\n",
    "plt.tick_params(axis='x', which='minor',bottom=True)\n",
    "# ax.set_yticks([1e-4,1e-3,1e-2,1e-1,1e0,1e1])\n",
    "ax.set_yscale('log')\n",
    "plt.tick_params(axis='y', which='minor')\n",
    "## ax.tick_params(axis='y',reset=False, left=True,right=False, which='minor',\n",
    "##               direction='out', length=6, width=2, colors='k')\n",
    "mark_slope(ax=ax,x1=1e-2,y1=2e1,slope=(-1,1),invert=True)\n",
    "plt.show()"
   ]
  },
  {
   "cell_type": "code",
   "execution_count": 145,
   "id": "5ec39c65",
   "metadata": {
    "ExecuteTime": {
     "end_time": "2022-01-22T21:36:31.833134Z",
     "start_time": "2022-01-22T21:36:31.785474Z"
    }
   },
   "outputs": [
    {
     "data": {
      "text/plain": [
       "(2.4307800385870424, 0.07778444682625973)"
      ]
     },
     "execution_count": 145,
     "metadata": {},
     "output_type": "execute_result"
    }
   ],
   "source": [
    "ratio_lr=1\n",
    "Delta_ratio_fk=np.sqrt(2)*(0.04/1.60)\n",
    "ratio_lr=ahat_lr_observed/a_lr_observed\n",
    "Delta_ratio_lr=np.sqrt(2)*(0.3/np.sqrt(3.5*8.5))\n",
    "\n",
    "ratio_lr,Delta_ratio_lr"
   ]
  },
  {
   "cell_type": "code",
   "execution_count": 163,
   "id": "93292735",
   "metadata": {
    "ExecuteTime": {
     "end_time": "2022-01-22T22:15:53.607025Z",
     "start_time": "2022-01-22T22:15:53.556859Z"
    }
   },
   "outputs": [],
   "source": [
    "a_hat_FK, D_hat_FK, a_hat_FK_long, a_hat_FK_vlong, a_hat_LR, D_hat_LR, a_hat_LR_long=recall_particle_parameter_measurements()\n",
    "# note: a_ratio_lr=a_hat_FK_vlong/a_hat_FK_vlong=1\n",
    "ahat_fk_observed=a_hat_FK_vlong\n",
    "D_hat_fk_observed=D_hat_FK\n",
    "ahat_lr_observed=a_hat_LR\n",
    "D_hat_lr_observed=D_hat_LR\n",
    "a_lr_observed=a_hat_LR_long\n",
    "a_fk_observed=a_hat_FK_vlong"
   ]
  },
  {
   "cell_type": "code",
   "execution_count": 175,
   "id": "68d38e8c",
   "metadata": {
    "ExecuteTime": {
     "end_time": "2022-01-22T22:20:55.025111Z",
     "start_time": "2022-01-22T22:20:54.970593Z"
    }
   },
   "outputs": [
    {
     "name": "stdout",
     "output_type": "stream",
     "text": [
      "fitting effective attraction coefficient to oscillatory attraction coefficients...\n",
      "\n",
      "Luo-Rudy model:\n",
      "parameter values: phi_f:-1.5708, a: 3.5359\n",
      "parameter values: Mean Lifetime / Dynamic Period: 0.1\n",
      "parameter values: phi_f:-1.5708, GammaBar/T: 0.1\n",
      "predicted ahat: 8.8232\n",
      "observed ahat:  8.5950 (LR)\n",
      "disagreement:  -0.2282 (LR)\n",
      "parameter values: phi_f:-1.5708, GammaBar/T: 0.103\n",
      "predicted ahat: 8.6257\n",
      "observed ahat:  8.5950 (LR)\n",
      "disagreement:  -0.0307 (LR)\n",
      "\n",
      "Fenton-Karma model:\n",
      "parameter values: phi_f:-1.5708, a: 1.6042\n",
      "parameter values: Mean Lifetime / Dynamic Period: 1\n",
      "parameter values: phi_f:-1.5708, GammaBar/T: 1\n",
      "predicted ahat: 1.7021\n",
      "observed ahat:  1.6042 (FK)\n",
      "disagreement:  -0.0979 (FK)\n",
      "parameter values: phi_f:-1.5708, GammaBar/T: 3\n",
      "predicted ahat: 1.6292\n",
      "observed ahat:  1.6042 (FK)\n",
      "disagreement:  -0.0251 (FK)\n"
     ]
    }
   ],
   "source": [
    "#compute ahat values for given phi,a,z using a=2D\n",
    "print(f\"fitting effective attraction coefficient to oscillatory attraction coefficients...\")\n",
    "# Luo-Rudy model\n",
    "a=a_lr_observed\n",
    "phi=-np.pi/2\n",
    "print(f\"\\nLuo-Rudy model:\")\n",
    "print(f\"parameter values: phi_f:{phi:.4f}, a: {a:.4f}\")\n",
    "\n",
    "G_over_T=1e-1\n",
    "z=2*np.pi*G_over_T\n",
    "squared_ahat_values =correction_diffusion(z=2*np.pi*G_over_T,a=a,D=a/2.,phi=phi)\n",
    "squared_ahat_values+=correction_cross(z=2*np.pi*G_over_T,a=a,D=a/2.,phi=phi)\n",
    "squared_ahat_values+=a**2\n",
    "ahat=np.sqrt(squared_ahat_values)#/a**2)\n",
    "print(f\"parameter values: Mean Lifetime / Dynamic Period: {G_over_T}\")\n",
    "print(f\"parameter values: phi_f:{phi:.4f}, GammaBar/T: {G_over_T}\")\n",
    "print(f\"predicted ahat: {ahat:.4f}\")\n",
    "print(f\"observed ahat:  {ahat_lr_observed:.4f} (LR)\")\n",
    "print(f\"disagreement:  {ahat_lr_observed-ahat:.4f} (LR)\")\n",
    "\n",
    "#compute ahat values for given phi,a,z using a=2D\n",
    "G_over_T=1.03e-1\n",
    "z=2*np.pi*G_over_T\n",
    "squared_ahat_values =correction_diffusion(z,a=a,D=a/2.,phi=phi)\n",
    "squared_ahat_values+=correction_cross(z,a=a,D=a/2.,phi=phi)\n",
    "squared_ahat_values+=a**2\n",
    "ahat=np.sqrt(squared_ahat_values)#/a**2)\n",
    "print(f\"parameter values: phi_f:{phi:.4f}, GammaBar/T: {G_over_T}\")\n",
    "print(f\"predicted ahat: {ahat:.4f}\")\n",
    "print(f\"observed ahat:  {ahat_lr_observed:.4f} (LR)\")\n",
    "print(f\"disagreement:  {ahat_lr_observed-ahat:.4f} (LR)\")\n",
    "\n",
    "#Fenton-Karma model\n",
    "#compute ahat values for given phi,a,z using a=2D\n",
    "a=a_fk_observed\n",
    "phi=-np.pi/2\n",
    "print(f\"\\nFenton-Karma model:\")\n",
    "print(f\"parameter values: phi_f:{phi:.4f}, a: {a:.4f}\")\n",
    "\n",
    "G_over_T=1\n",
    "z=2*np.pi*G_over_T\n",
    "squared_ahat_values =correction_diffusion(z=2*np.pi*G_over_T,a=a,D=a/2.,phi=phi)\n",
    "squared_ahat_values+=correction_cross(z=2*np.pi*G_over_T,a=a,D=a/2.,phi=phi)\n",
    "squared_ahat_values+=a**2\n",
    "ahat=np.sqrt(squared_ahat_values)#/a**2)\n",
    "print(f\"parameter values: Mean Lifetime / Dynamic Period: {G_over_T}\")\n",
    "print(f\"parameter values: phi_f:{phi:.4f}, GammaBar/T: {G_over_T}\")\n",
    "print(f\"predicted ahat: {ahat:.4f}\")\n",
    "print(f\"observed ahat:  {ahat_fk_observed:.4f} (FK)\")\n",
    "print(f\"disagreement:  {ahat_fk_observed-ahat:.4f} (FK)\")\n",
    "\n",
    "#compute ahat values for given phi,a,z using a=2D\n",
    "G_over_T=3\n",
    "z=2*np.pi*G_over_T\n",
    "squared_ahat_values =correction_diffusion(z,a=a,D=a/2.,phi=phi)\n",
    "squared_ahat_values+=correction_cross(z,a=a,D=a/2.,phi=phi)\n",
    "squared_ahat_values+=a**2\n",
    "ahat=np.sqrt(squared_ahat_values)#/a**2)\n",
    "print(f\"parameter values: phi_f:{phi:.4f}, GammaBar/T: {G_over_T}\")\n",
    "print(f\"predicted ahat: {ahat:.4f}\")\n",
    "print(f\"observed ahat:  {ahat_fk_observed:.4f} (FK)\")\n",
    "print(f\"disagreement:  {ahat_fk_observed-ahat:.4f} (FK)\")"
   ]
  },
  {
   "cell_type": "code",
   "execution_count": 162,
   "id": "fbdd252e",
   "metadata": {
    "ExecuteTime": {
     "end_time": "2022-01-22T22:13:01.858665Z",
     "start_time": "2022-01-22T22:13:01.809005Z"
    }
   },
   "outputs": [
    {
     "name": "stdout",
     "output_type": "stream",
     "text": [
      "fitting effective attraction coefficient to oscillatory attraction coefficient for Luo-Rudy model:\n",
      "parameter values: phi_f:-1.5708, a: 3.5359\n",
      "parameter values: phi_f:-1.5708, GammaBar/T: 1.0\n",
      "predicted ahat: 3.7517\n",
      "observed ahat: 1.6042 (FK)\n",
      "disagreement: -2.1476 (FK)\n",
      "\n",
      "parameter values: phi_f:-1.5708, GammaBar/T: 3.0\n",
      "predicted ahat: 3.5912\n",
      "observed ahat: 1.6042 (FK)\n",
      "disagreement: -1.9871 (FK)\n"
     ]
    }
   ],
   "source": [
    "#compute ahat values for given phi,a,z using a=2D\n",
    "a=a_lr_observed\n",
    "phi=-np.pi/2\n",
    "print(f\"fitting effective attraction coefficient to oscillatory attraction coefficient for Luo-Rudy model:\")\n",
    "print(f\"parameter values: phi_f:{phi:.4f}, a: {a:.4f}\")\n",
    "G_over_T=1e-0\n",
    "z=2*np.pi*G_over_T\n",
    "squared_ahat_values =correction_diffusion(z,a=a,D=a/2.,phi=phi)\n",
    "squared_ahat_values+=correction_cross(z,a=a,D=a/2.,phi=phi)\n",
    "squared_ahat_values+=a**2\n",
    "ahat=np.sqrt(squared_ahat_values)#/a**2)\n",
    "# print(f\"parameter values: phi_f:{phi:.4f}, GammaBar/T: {G_over_T}\")\n",
    "# print(f\"predicted ahat/a: {ahat:.4f}\")\n",
    "# print(f\"observed ahat/a: {1.6/1.6:.4f} (FK)\")\n",
    "# print(f\"\")\n",
    "print(f\"parameter values: phi_f:{phi:.4f}, GammaBar/T: {G_over_T}\")\n",
    "print(f\"predicted ahat: {ahat:.4f}\")\n",
    "print(f\"observed ahat: {ahat_fk_observed:.4f} (FK)\")\n",
    "print(f\"disagreement: {ahat_fk_observed-ahat:.4f} (FK)\")\n",
    "#compute ahat values for given phi,a,z using a=2D\n",
    "G_over_T=3e-0\n",
    "z=2*np.pi*G_over_T\n",
    "squared_ahat_values =correction_diffusion(z,a=a,D=a/2.,phi=phi)\n",
    "squared_ahat_values+=correction_cross(z,a=a,D=a/2.,phi=phi)\n",
    "squared_ahat_values+=a**2\n",
    "ahat=np.sqrt(squared_ahat_values)#/a**2)\n",
    "# print(f\"parameter values: phi_f:{phi:.4f}, GammaBar/T: {G_over_T}\")\n",
    "# print(f\"predicted ahat/a: {ahat:.4f}\")\n",
    "# print(f\"observed ahat/a: {1.6/1.6:.4f} (FK)\")\n",
    "print(f\"\")\n",
    "print(f\"parameter values: phi_f:{phi:.4f}, GammaBar/T: {G_over_T}\")\n",
    "print(f\"predicted ahat: {ahat:.4f}\")\n",
    "print(f\"observed ahat: {ahat_fk_observed:.4f} (FK)\")\n",
    "print(f\"disagreement: {ahat_fk_observed-ahat:.4f} (FK)\")"
   ]
  },
  {
   "cell_type": "markdown",
   "id": "2222880b",
   "metadata": {
    "ExecuteTime": {
     "end_time": "2022-01-22T19:27:46.900569Z",
     "start_time": "2022-01-22T19:27:46.563140Z"
    }
   },
   "source": [
    "# Visualize dahat_DD/dahat_Da vs. Gammabar/T\n",
    "for (green) solution with phif=-pi/2 and for (gray) solution with phif=-pi/2"
   ]
  },
  {
   "cell_type": "code",
   "execution_count": null,
   "id": "a206d255",
   "metadata": {
    "ExecuteTime": {
     "end_time": "2022-01-22T19:15:58.779686Z",
     "start_time": "2022-01-22T19:15:58.725415Z"
    }
   },
   "outputs": [],
   "source": [
    "# Visualize dahat_DD/dahat_Da vs. Gammabar/T\n",
    "# for (green) solution with phif=-pi/2 and for (gray) solution with phif=-pi/2"
   ]
  },
  {
   "cell_type": "code",
   "execution_count": 220,
   "id": "647bbd78",
   "metadata": {
    "ExecuteTime": {
     "end_time": "2022-01-22T22:59:49.851408Z",
     "start_time": "2022-01-22T22:59:49.064916Z"
    }
   },
   "outputs": [
    {
     "data": {
      "image/png": "[encoded data removed]",
      "text/plain": [
       "<Figure size 600x400 with 1 Axes>"
      ]
     },
     "metadata": {},
     "output_type": "display_data"
    }
   ],
   "source": [
    "# # TODO: visualize ahat/a by summing the three terms of the attraction coefficient estimator\n",
    "#plot solutions for the estimators\n",
    "slope=-1\n",
    "alpha=0.2\n",
    "xlabel=r'$\\bar\\Gamma / T$'#\n",
    "ylabel=r'$(\\delta\\hat a_{DD} ^2/ \\delta\\hat a_{Da}^2)^{1/2}$'#\n",
    "# ylabel=r'$\\sqrt{\\delta\\hat a_{DD} ^2/ \\delta\\hat a_{Da}^2}$'#\n",
    "a=1 #same plot for any a\n",
    "use_loglog=True\n",
    "# fig,ax=plt.subplots(figsize=(5,3))\n",
    "fig,ax=plt.subplots(figsize=(6,4))\n",
    "z_values=np.logspace(-2,2,100)\n",
    "x_values=z_values/(2.*np.pi)\n",
    "\n",
    "# #plot observed ahat values as horizontal dashed lines\n",
    "# y=ahat_fk_observed/a_fk_observed\n",
    "# ax.plot(x_values,0.*x_values+y,'C0--',lw=2,alpha=0.9,label='Fenton-Karma Model')\n",
    "# y=ahat_lr_observed/a_lr_observed\n",
    "# ax.plot(x_values,0.*x_values+y,'C1--',lw=2,alpha=0.9,label='Luo-Rudy Model')\n",
    "\n",
    "#plot predictions for phi=-np.pi/2\n",
    "phi=-np.pi/2\n",
    "y_values=correction_diffusion(z_values,a=a,D=a/2.,phi=phi)\n",
    "y_values/=correction_cross(z_values,a=a,D=a/2.,phi=phi)\n",
    "y_values=np.sqrt(y_values)\n",
    "# squared_ahat_values =correction_diffusion(z_values,a=a,D=a/2.,phi=phi)\n",
    "# squared_ahat_values+=correction_cross(z_values,a=a,D=a/2.,phi=phi)\n",
    "# squared_ahat_values+=a**2\n",
    "# x_values=z_values/(2.*np.pi)\n",
    "# y_values=np.sqrt(squared_ahat_values/a**2)\n",
    "ax.plot(x_values,y_values,lw=2,alpha=0.8,color='green',label=r'Solution ($\\phi_f=-\\frac{\\pi}{2}$)')\n",
    "#plot predictions for phi=0\n",
    "phi=0\n",
    "y_values=correction_diffusion(z_values,a=a,D=a/2.,phi=phi)\n",
    "y_values/=correction_cross(z_values,a=a,D=a/2.,phi=phi)\n",
    "y_values=np.sqrt(y_values)\n",
    "# squared_ahat_values =correction_diffusion(z_values,a=a,D=a/2.,phi=phi)\n",
    "# squared_ahat_values+=correction_cross(z_values,a=a,D=a/2.,phi=phi)\n",
    "# squared_ahat_values+=a**2\n",
    "# x_values=z_values/(2.*np.pi)\n",
    "# y_values=np.sqrt(squared_ahat_values/a**2)\n",
    "ax.plot(x_values,y_values,lw=2,alpha=0.8,color='gray',label=r'Solution ($\\phi_f=0$)')\n",
    "\n",
    "\n",
    "# #plot observed ahat,Gamma/T values as horizontal dashed lines\n",
    "# #Fenton-Karma\n",
    "# x=3\n",
    "# Delta_x=.5 #poorly estimated uncertainty\n",
    "# y=ahat_fk_observed/a_fk_observed\n",
    "# Delta_y=.04 #well estimated uncertainty\n",
    "# ax.errorbar(x, y, xerr=Delta_x, yerr=Delta_y, fmt='o',markersize=5,capsize=3,\n",
    "#             color='C0',\n",
    "#             label='Fenton-Karma')\n",
    "# #Luo-Rudy\n",
    "# x=0.1\n",
    "# Delta_x=.05 #poorly estimated uncertainty\n",
    "# y=ahat_lr_observed/a_lr_observed\n",
    "# Delta_y=.08 #well estimated uncertainty\n",
    "# ax.errorbar(x, y, xerr=Delta_x, yerr=Delta_y, fmt='o',markersize=5,capsize=3,\n",
    "#             color='C1',\n",
    "#             label='Luo-Rudy')\n",
    "# #DONE: copy estimates from .odg\n",
    "# #DONE: add error bar estimates\n",
    "# #TODO(later): consider improving x,Delta_x estimates\n",
    "# #TODO: plot the diffusion correction divided by the cross correction\n",
    "# # ax.plot(x_values,0.*x_values+y,'C0--',lw=2,alpha=0.9,label='Fenton-Karma Model')\n",
    "# # y=ahat_lr_observed/a_lr_observed\n",
    "# # ax.plot(x_values,0.*x_values+y,'C1--',lw=2,alpha=0.9,label='Luo-Rudy Model')\n",
    "\n",
    "\n",
    "#format_plot\n",
    "# plt.title(r' $\\phi_f=-\\frac{\\pi}{2}$',fontsize=18, x=0.8, y=0.9)\n",
    "# plt.ylim([8e-1,1.3e2])\n",
    "# ax.legend(loc='upper right',fontsize=11,frameon=False)\n",
    "ax.legend(loc='upper right',fontsize=14,frameon=False)\n",
    "format_plot(ax=plt.gca(), xlabel=xlabel, ylabel=ylabel, use_loglog=use_loglog, fontsize=18)#, **kwargs)\n",
    "plt.tick_params(axis='y', which='minor',left=True)\n",
    "plt.tick_params(axis='x', which='minor',bottom=True)\n",
    "# ax.set_yticks([1e-4,1e-3,1e-2,1e-1,1e0,1e1])\n",
    "# ax.set_yscale('log')\n",
    "plt.tick_params(axis='y', which='minor')\n",
    "# ax.tick_params(axis='y',reset=False, left=True,right=False, which='minor',\n",
    "#               direction='out', length=6, width=2, colors='k')\n",
    "mark_slope(ax=ax,x1=1e-2,y1=0.5e2,slope=(-3,2),invert=True)\n",
    "plt.show()"
   ]
  },
  {
   "cell_type": "code",
   "execution_count": null,
   "id": "154081da",
   "metadata": {},
   "outputs": [],
   "source": []
  },
  {
   "cell_type": "code",
   "execution_count": null,
   "id": "18ea0b69",
   "metadata": {},
   "outputs": [],
   "source": [
    "#TODO: visualize the fraction of the effective attraction coefficient that is coming from the pure drift term\n",
    "#frac=a/ahat\n",
    "#plot solutions for the estimators\n",
    "slope=-1\n",
    "alpha=0.2\n",
    "xlabel=r'$\\bar\\Gamma / T$'#\n",
    "ylabel=r'$(\\delta\\hat a_{DD} ^2/ \\delta\\hat a_{Da}^2)^{1/2}$'#\n",
    "# ylabel=r'$\\sqrt{\\delta\\hat a_{DD} ^2/ \\delta\\hat a_{Da}^2}$'#\n",
    "a=1 #same plot for any a\n",
    "use_loglog=True\n",
    "# fig,ax=plt.subplots(figsize=(5,3))\n",
    "fig,ax=plt.subplots(figsize=(6,4))\n",
    "z_values=np.logspace(-2,2,100)\n",
    "x_values=z_values/(2.*np.pi)\n",
    "\n",
    "# #plot observed ahat values as horizontal dashed lines\n",
    "# y=ahat_fk_observed/a_fk_observed\n",
    "# ax.plot(x_values,0.*x_values+y,'C0--',lw=2,alpha=0.9,label='Fenton-Karma Model')\n",
    "# y=ahat_lr_observed/a_lr_observed\n",
    "# ax.plot(x_values,0.*x_values+y,'C1--',lw=2,alpha=0.9,label='Luo-Rudy Model')\n",
    "\n",
    "#plot predictions for phi=-np.pi/2\n",
    "phi=-np.pi/2\n",
    "y_values=correction_diffusion(z_values,a=a,D=a/2.,phi=phi)\n",
    "y_values/=correction_cross(z_values,a=a,D=a/2.,phi=phi)\n",
    "y_values=np.sqrt(y_values)\n",
    "# squared_ahat_values =correction_diffusion(z_values,a=a,D=a/2.,phi=phi)\n",
    "# squared_ahat_values+=correction_cross(z_values,a=a,D=a/2.,phi=phi)\n",
    "# squared_ahat_values+=a**2\n",
    "# x_values=z_values/(2.*np.pi)\n",
    "# y_values=np.sqrt(squared_ahat_values/a**2)\n",
    "ax.plot(x_values,y_values,lw=2,alpha=0.8,color='green',label=r'Solution ($\\phi_f=-\\frac{\\pi}{2}$)')\n",
    "#plot predictions for phi=0\n",
    "phi=0\n",
    "y_values=correction_diffusion(z_values,a=a,D=a/2.,phi=phi)\n",
    "y_values/=correction_cross(z_values,a=a,D=a/2.,phi=phi)\n",
    "y_values=np.sqrt(y_values)\n",
    "# squared_ahat_values =correction_diffusion(z_values,a=a,D=a/2.,phi=phi)\n",
    "# squared_ahat_values+=correction_cross(z_values,a=a,D=a/2.,phi=phi)\n",
    "# squared_ahat_values+=a**2\n",
    "# x_values=z_values/(2.*np.pi)\n",
    "# y_values=np.sqrt(squared_ahat_values/a**2)\n",
    "ax.plot(x_values,y_values,lw=2,alpha=0.8,color='gray',label=r'Solution ($\\phi_f=0$)')\n",
    "\n",
    "\n",
    "# #plot observed ahat,Gamma/T values as horizontal dashed lines\n",
    "# #Fenton-Karma\n",
    "# x=3\n",
    "# Delta_x=.5 #poorly estimated uncertainty\n",
    "# y=ahat_fk_observed/a_fk_observed\n",
    "# Delta_y=.04 #well estimated uncertainty\n",
    "# ax.errorbar(x, y, xerr=Delta_x, yerr=Delta_y, fmt='o',markersize=5,capsize=3,\n",
    "#             color='C0',\n",
    "#             label='Fenton-Karma')\n",
    "# #Luo-Rudy\n",
    "# x=0.1\n",
    "# Delta_x=.05 #poorly estimated uncertainty\n",
    "# y=ahat_lr_observed/a_lr_observed\n",
    "# Delta_y=.08 #well estimated uncertainty\n",
    "# ax.errorbar(x, y, xerr=Delta_x, yerr=Delta_y, fmt='o',markersize=5,capsize=3,\n",
    "#             color='C1',\n",
    "#             label='Luo-Rudy')\n",
    "# #DONE: copy estimates from .odg\n",
    "# #DONE: add error bar estimates\n",
    "# #TODO(later): consider improving x,Delta_x estimates\n",
    "# #TODO: plot the diffusion correction divided by the cross correction\n",
    "# # ax.plot(x_values,0.*x_values+y,'C0--',lw=2,alpha=0.9,label='Fenton-Karma Model')\n",
    "# # y=ahat_lr_observed/a_lr_observed\n",
    "# # ax.plot(x_values,0.*x_values+y,'C1--',lw=2,alpha=0.9,label='Luo-Rudy Model')\n",
    "\n",
    "\n",
    "#format_plot\n",
    "# plt.title(r' $\\phi_f=-\\frac{\\pi}{2}$',fontsize=18, x=0.8, y=0.9)\n",
    "# plt.ylim([8e-1,1.3e2])\n",
    "# ax.legend(loc='upper right',fontsize=11,frameon=False)\n",
    "ax.legend(loc='upper right',fontsize=14,frameon=False)\n",
    "format_plot(ax=plt.gca(), xlabel=xlabel, ylabel=ylabel, use_loglog=use_loglog, fontsize=18)#, **kwargs)\n",
    "plt.tick_params(axis='y', which='minor',left=True)\n",
    "plt.tick_params(axis='x', which='minor',bottom=True)\n",
    "# ax.set_yticks([1e-4,1e-3,1e-2,1e-1,1e0,1e1])\n",
    "# ax.set_yscale('log')\n",
    "plt.tick_params(axis='y', which='minor')\n",
    "# ax.tick_params(axis='y',reset=False, left=True,right=False, which='minor',\n",
    "#               direction='out', length=6, width=2, colors='k')\n",
    "mark_slope(ax=ax,x1=1e-2,y1=0.5e2,slope=(-3,2),invert=True)\n",
    "plt.show()"
   ]
  },
  {
   "cell_type": "markdown",
   "id": "0ab884d3",
   "metadata": {},
   "source": [
    "## TODO: look for a mean lifetime that is consistent with an exponentially distributed lifetime and the MSD of the full model"
   ]
  },
  {
   "cell_type": "code",
   "execution_count": null,
   "id": "dc94fb95",
   "metadata": {
    "ExecuteTime": {
     "end_time": "2022-01-22T18:50:40.413526Z",
     "start_time": "2022-01-22T18:50:40.413508Z"
    }
   },
   "outputs": [],
   "source": [
    "#TODO: compute 3.5/1.6 \n",
    "expected_ahat_squared_ratio= (3.5/1.6 )**2\n",
    "print(f\"expected_ahat_squared_ratio={expected_ahat_squared_ratio}\")"
   ]
  },
  {
   "cell_type": "markdown",
   "id": "55fbd272",
   "metadata": {
    "ExecuteTime": {
     "end_time": "2022-01-22T17:31:16.724137Z",
     "start_time": "2022-01-22T17:31:16.699912Z"
    },
    "heading_collapsed": true
   },
   "source": [
    "### scratchwerk"
   ]
  },
  {
   "cell_type": "code",
   "execution_count": null,
   "id": "1b4e686b",
   "metadata": {
    "ExecuteTime": {
     "end_time": "2022-01-22T18:50:40.415513Z",
     "start_time": "2022-01-22T18:50:40.415487Z"
    },
    "hidden": true
   },
   "outputs": [],
   "source": [
    "mark_slope"
   ]
  },
  {
   "cell_type": "code",
   "execution_count": null,
   "id": "4317ef24",
   "metadata": {
    "ExecuteTime": {
     "end_time": "2022-01-22T18:50:40.417617Z",
     "start_time": "2022-01-22T18:50:40.417592Z"
    },
    "hidden": true,
    "scrolled": true
   },
   "outputs": [],
   "source": [
    "slope=-2#-1/4\n",
    "alpha=0.2\n",
    "xlabel=r'$\\bar\\Gamma / T$'#\n",
    "ylabel=r'$-\\delta \\hat a_{D^2} ^2/a^2$'#  (cm$^2$/s)'\n",
    "#DONE: plot x_values,y_values_fk_lst,y_values_lr_lst, \n",
    "# DONE: simple scatter plot\n",
    "fig,ax=plt.subplots(figsize=(5,3))\n",
    "#plot the expected solutions\n",
    "y_values_lr=sdahat_values_lr/a_hat_lr**2\n",
    "y_values_fk=sdahat_values_fk/a_hat_fk**2\n",
    "plt.plot(x_values,-y_values_fk,lw=2,alpha=0.8)\n",
    "plt.plot(x_values,-y_values_lr,lw=2,alpha=0.8)\n",
    "# #plot for variable a\n",
    "#plot for variable a\n",
    "for i,a in enumerate(a_values_trgt):\n",
    "    plt.scatter(x_values,-y_values_fk_lst[i]/(a**2),c=1.*c_values[i]+0.*x_values,linestyle='dotted',alpha=alpha,s=5,cmap='Greens',vmin=vmin,vmax=vmax)\n",
    "    plt.scatter(x_values,-y_values_lr_lst[i]/(a**2),c=1.*c_values[i]+0.*x_values,linestyle='dotted',alpha=alpha,s=5,cmap='Greys',vmin=vmin,vmax=vmax)\n",
    "# c_values=a_values_trgt/np.max(a_values_trgt)\n",
    "# for i,a in enumerate(a_values_trgt):\n",
    "#     plt.scatter(x_values,-y_values_fk_lst[i]/(a**2),c='C0',linestyle='dotted',alpha=alpha*c_values[i],s=5)\n",
    "#     plt.scatter(x_values,-y_values_lr_lst[i]/(a**2),c='C1',linestyle='dotted',alpha=alpha*c_values[i],s=5)\n",
    "# TODO: each colored by a_values_trgt \n",
    "# TODO: on a scale with both ends clearly visible\n",
    "\n",
    "#DONE: plot a token powerlaw that is positive and monotonically decreasing \n",
    "#HINT: y = M * x **-nu for nu as the negative slope\n",
    "xv=np.logspace(-3,0,100)\n",
    "yv=1.5e-1*xv**slope\n",
    "plt.plot(xv,yv,'k--',alpha=.6)\n",
    "\n",
    "#format_plot\n",
    "plt.title('Colors deepen with increasing a>0\\n',fontsize=14)\n",
    "# plt.yscale('log')\n",
    "plt.ylim([1e-4,1e7])\n",
    "format_plot(ax=plt.gca(), xlabel=xlabel, ylabel=ylabel, use_loglog=True, fontsize=18)#, **kwargs)\n",
    "mark_slope(ax=plt.gca(), x1=1e-1, y1=2.5e1, slope=(-2,1), text_kwargs={'color': 'black'}, poly_kwargs={'facecolor': (0.0, 0.0, 0)})\n",
    "plt.show()"
   ]
  },
  {
   "cell_type": "code",
   "execution_count": null,
   "id": "f27f45b5",
   "metadata": {
    "ExecuteTime": {
     "end_time": "2022-01-22T18:50:40.419895Z",
     "start_time": "2022-01-22T18:50:40.419869Z"
    },
    "hidden": true
   },
   "outputs": [],
   "source": [
    "slope=-1\n",
    "alpha=0.2\n",
    "xlabel=r'$\\bar\\Gamma / T$'#\n",
    "ylabel=r'$|\\delta \\hat a_{D^2}| ^2/a^2$'#  (cm$^2$/s)'\n",
    "#DONE: plot x_values,y_values_fk_lst,y_values_lr_lst, \n",
    "# DONE: simple scatter plot\n",
    "fig,ax=plt.subplots(figsize=(5,3))\n",
    "#plot the expected solutions\n",
    "plt.plot(x_values,np.abs(y_values_fk),lw=2,alpha=0.8)\n",
    "plt.plot(x_values,np.abs(y_values_lr),lw=2,alpha=0.8)\n",
    "#plot for variable a\n",
    "for i,a in enumerate(a_values_trgt):\n",
    "    plt.scatter(x_values,np.abs(y_values_fk_lst[i])/(a**2),c=1.*c_values[i]+0.*x_values,linestyle='dotted',alpha=alpha,s=5,cmap='Greens',vmin=vmin,vmax=vmax)\n",
    "    plt.scatter(x_values,np.abs(y_values_lr_lst[i])/(a**2),c=1.*c_values[i]+0.*x_values,linestyle='dotted',alpha=alpha,s=5,cmap='Greys',vmin=vmin,vmax=vmax)\n",
    "#     plt.scatter(x_values,y_values_fk_lst[i]/(a**2),c='C0',linestyle='dotted',alpha=alpha*c_values[i],s=5)\n",
    "#     plt.scatter(x_values,y_values_lr_lst[i]/(a**2),c='C1',linestyle='dotted',alpha=alpha*c_values[i],s=5)\n",
    "# TODO: each colored by a_values_trgt \n",
    "# TODO: on a scale with both ends clearly visible\n",
    "#DONE: plot a token powerlaw that is positive and monotonically decreasing \n",
    "#HINT: y = M * x **-nu for nu as the negative slope\n",
    "xv=np.logspace(-3,0,100)\n",
    "yv=1.5e-1*xv**slope\n",
    "plt.plot(xv,yv,'k--',alpha=.6)\n",
    "\n",
    "#format_plot\n",
    "plt.title('Colors deepen with increasing a>0\\n',fontsize=14)\n",
    "# plt.yscale('log')\n",
    "# plt.ylim([1e-4,1e7])\n",
    "# plt.xlim([])\n",
    "plt.ylim([1e-5,1e7])\n",
    "format_plot(ax=plt.gca(), xlabel=xlabel, ylabel=ylabel, use_loglog=True, fontsize=18)#, **kwargs)\n",
    "mark_slope(ax=plt.gca(), x1=3e-1, y1=.75e0, slope=(slope,1), text_kwargs={'color': 'black'}, poly_kwargs={'facecolor': (0.0, 0.0, 0)})\n",
    "# mark_slope(ax=plt.gca(), x1=3e-1, y1=.35e1, slope=(-2,1), text_kwargs={'color': 'black'}, poly_kwargs={'facecolor': (0.0, 0.0, 0)})\n",
    "# mark_slope(ax=plt.gca(), x1=1e-1, y1=2.5e1, slope=(-2,1), text_kwargs={'color': 'black'}, poly_kwargs={'facecolor': (0.0, 0.0, 0)})\n",
    "plt.show()"
   ]
  },
  {
   "cell_type": "code",
   "execution_count": null,
   "id": "7731893d",
   "metadata": {
    "hidden": true
   },
   "outputs": [],
   "source": []
  },
  {
   "cell_type": "code",
   "execution_count": null,
   "id": "a7c77daa",
   "metadata": {
    "hidden": true
   },
   "outputs": [],
   "source": []
  },
  {
   "cell_type": "markdown",
   "id": "35ed7013",
   "metadata": {
    "hidden": true
   },
   "source": []
  },
  {
   "cell_type": "code",
   "execution_count": null,
   "id": "f00928de",
   "metadata": {
    "hidden": true
   },
   "outputs": [],
   "source": []
  },
  {
   "cell_type": "code",
   "execution_count": null,
   "id": "b4af8026",
   "metadata": {
    "ExecuteTime": {
     "end_time": "2022-01-22T04:35:37.415715Z",
     "start_time": "2022-01-22T04:35:37.395841Z"
    },
    "hidden": true
   },
   "outputs": [],
   "source": []
  },
  {
   "cell_type": "markdown",
   "id": "31b86b57",
   "metadata": {
    "heading_collapsed": true
   },
   "source": [
    "## scratchwerk"
   ]
  },
  {
   "cell_type": "code",
   "execution_count": null,
   "id": "0d3d8c51",
   "metadata": {
    "ExecuteTime": {
     "end_time": "2022-01-22T18:50:40.422713Z",
     "start_time": "2022-01-22T18:50:40.422688Z"
    },
    "hidden": true
   },
   "outputs": [],
   "source": [
    "slope=-2#-1/4\n",
    "alpha=0.2\n",
    "xlabel=r'$\\bar\\Gamma / T$'#\n",
    "ylabel=r'$-\\delta \\hat a_{D^2} ^2/a^2$'#  (cm$^2$/s)'\n",
    "#DONE: plot x_values,y_values_fk_lst,y_values_lr_lst, \n",
    "# DONE: simple scatter plot\n",
    "fig,ax=plt.subplots(figsize=(5,3))\n",
    "#plot the expected solutions\n",
    "y_values_lr=sdahat_values_lr/a_hat_lr**2\n",
    "y_values_fk=sdahat_values_fk/a_hat_fk**2\n",
    "plt.plot(x_values,y_values_fk,lw=2,alpha=0.8)\n",
    "plt.plot(x_values,y_values_lr,lw=2,alpha=0.8)\n",
    "#plot for variable a\n",
    "c_values=a_values_trgt/np.max(a_values_trgt)\n",
    "for i,a in enumerate(a_values_trgt):\n",
    "    plt.scatter(x_values,-y_values_fk_lst[i]/(a**2),c='C0',linestyle='dotted',alpha=alpha*c_values[i],s=5)\n",
    "    plt.scatter(x_values,-y_values_lr_lst[i]/(a**2),c='C1',linestyle='dotted',alpha=alpha*c_values[i],s=5)\n",
    "# TODO: each colored by a_values_trgt \n",
    "# TODO: on a scale with both ends clearly visible\n",
    "\n",
    "\n",
    "\n",
    "#DONE: plot a token powerlaw that is positive and monotonically decreasing \n",
    "#HINT: y = M * x **-nu for nu as the negative slope\n",
    "xv=np.logspace(-3,0,100)\n",
    "yv=1.5e-1*xv**slope\n",
    "plt.plot(xv,yv,'k--',alpha=.6)\n",
    "\n",
    "#format_plot\n",
    "plt.title('Colors deepen with increasing a>0\\n',fontsize=14)\n",
    "# plt.yscale('log')\n",
    "plt.ylim([1e-4,1e7])\n",
    "format_plot(ax=plt.gca(), xlabel=xlabel, ylabel=ylabel, use_loglog=True, fontsize=18)#, **kwargs)\n",
    "mark_slope(ax=plt.gca(), x1=1e-1, y1=2.5e1, slope=(-2,1), text_kwargs={'color': 'black'}, poly_kwargs={'facecolor': (0.0, 0.0, 0)})\n",
    "plt.show()"
   ]
  },
  {
   "cell_type": "code",
   "execution_count": null,
   "id": "936f4c5b",
   "metadata": {
    "ExecuteTime": {
     "end_time": "2022-01-22T18:50:40.424517Z",
     "start_time": "2022-01-22T18:50:40.424493Z"
    },
    "hidden": true
   },
   "outputs": [],
   "source": [
    "slope=-2#-1/4\n",
    "alpha=0.2\n",
    "xlabel=r'$\\bar\\Gamma / T$'#\n",
    "ylabel=r'$-\\delta \\hat a_{D^2} ^2/a^2$'# (cm$^2$/s)'\n",
    "#DONE: plot x_values,y_values_fk_lst,y_values_lr_lst, \n",
    "# DONE: simple scatter plot\n",
    "fig,ax=plt.subplots(figsize=(5,3))\n",
    "c_values=a_values_trgt/np.max(a_values_trgt)\n",
    "for i,a in enumerate(a_values_trgt):\n",
    "    plt.scatter(x_values,-y_values_fk_lst[i]/(a**2),c='C0',linestyle='dotted',alpha=alpha*c_values[i],s=5)\n",
    "    plt.scatter(x_values,-y_values_lr_lst[i]/(a**2),c='C1',linestyle='dotted',alpha=alpha*c_values[i],s=5)\n",
    "# TODO: each colored by a_values_trgt \n",
    "# TODO: on a scale with both ends clearly visible\n",
    "\n",
    "#DONE: plot a token powerlaw that is positive and monotonically decreasing \n",
    "#HINT: y = M * x **-nu for nu as the negative slope\n",
    "xv=np.logspace(-3,0,100)\n",
    "yv=1.5e-1*xv**slope\n",
    "plt.plot(xv,yv,'k--',alpha=.6)\n",
    "\n",
    "#format_plot\n",
    "plt.title('Colors deepen with increasing a>0\\n',fontsize=14)\n",
    "# plt.yscale('log')\n",
    "plt.ylim([1e-4,1e7])\n",
    "format_plot(ax=plt.gca(), xlabel=xlabel, ylabel=ylabel, use_loglog=True, fontsize=18)#, **kwargs)\n",
    "mark_slope(ax=plt.gca(), x1=1e-1, y1=2.5e1, slope=(-2,1), text_kwargs={'color': 'black'}, poly_kwargs={'facecolor': (0.0, 0.0, 0)})\n",
    "plt.show()"
   ]
  },
  {
   "cell_type": "code",
   "execution_count": 4,
   "id": "8c521e3c",
   "metadata": {
    "ExecuteTime": {
     "end_time": "2022-01-22T18:50:40.710960Z",
     "start_time": "2022-01-22T18:50:40.439150Z"
    },
    "hidden": true
   },
   "outputs": [
    {
     "ename": "NameError",
     "evalue": "name 'a_values_trgt' is not defined",
     "output_type": "error",
     "traceback": [
      "\u001b[0;31m---------------------------------------------------------------------------\u001b[0m",
      "\u001b[0;31mNameError\u001b[0m                                 Traceback (most recent call last)",
      "\u001b[0;32m/var/folders/0h/p4cbb7yx22jbxm0qb47vhfbh0000gn/T/ipykernel_4867/551933147.py\u001b[0m in \u001b[0;36m<module>\u001b[0;34m\u001b[0m\n\u001b[1;32m      6\u001b[0m \u001b[0;31m# DONE: simple scatter plot\u001b[0m\u001b[0;34m\u001b[0m\u001b[0;34m\u001b[0m\u001b[0;34m\u001b[0m\u001b[0m\n\u001b[1;32m      7\u001b[0m \u001b[0mfig\u001b[0m\u001b[0;34m,\u001b[0m\u001b[0max\u001b[0m\u001b[0;34m=\u001b[0m\u001b[0mplt\u001b[0m\u001b[0;34m.\u001b[0m\u001b[0msubplots\u001b[0m\u001b[0;34m(\u001b[0m\u001b[0mfigsize\u001b[0m\u001b[0;34m=\u001b[0m\u001b[0;34m(\u001b[0m\u001b[0;36m5\u001b[0m\u001b[0;34m,\u001b[0m\u001b[0;36m3\u001b[0m\u001b[0;34m)\u001b[0m\u001b[0;34m)\u001b[0m\u001b[0;34m\u001b[0m\u001b[0;34m\u001b[0m\u001b[0m\n\u001b[0;32m----> 8\u001b[0;31m \u001b[0mc_values\u001b[0m\u001b[0;34m=\u001b[0m\u001b[0ma_values_trgt\u001b[0m\u001b[0;34m/\u001b[0m\u001b[0mnp\u001b[0m\u001b[0;34m.\u001b[0m\u001b[0mmax\u001b[0m\u001b[0;34m(\u001b[0m\u001b[0ma_values_trgt\u001b[0m\u001b[0;34m)\u001b[0m\u001b[0;34m\u001b[0m\u001b[0;34m\u001b[0m\u001b[0m\n\u001b[0m\u001b[1;32m      9\u001b[0m \u001b[0;32mfor\u001b[0m \u001b[0mi\u001b[0m\u001b[0;34m,\u001b[0m\u001b[0ma\u001b[0m \u001b[0;32min\u001b[0m \u001b[0menumerate\u001b[0m\u001b[0;34m(\u001b[0m\u001b[0ma_values_trgt\u001b[0m\u001b[0;34m)\u001b[0m\u001b[0;34m:\u001b[0m\u001b[0;34m\u001b[0m\u001b[0;34m\u001b[0m\u001b[0m\n\u001b[1;32m     10\u001b[0m     \u001b[0mplt\u001b[0m\u001b[0;34m.\u001b[0m\u001b[0mscatter\u001b[0m\u001b[0;34m(\u001b[0m\u001b[0mx_values\u001b[0m\u001b[0;34m,\u001b[0m\u001b[0my_values_fk_lst\u001b[0m\u001b[0;34m[\u001b[0m\u001b[0mi\u001b[0m\u001b[0;34m]\u001b[0m\u001b[0;34m,\u001b[0m\u001b[0mc\u001b[0m\u001b[0;34m=\u001b[0m\u001b[0;34m'C0'\u001b[0m\u001b[0;34m,\u001b[0m\u001b[0mlinestyle\u001b[0m\u001b[0;34m=\u001b[0m\u001b[0;34m'dotted'\u001b[0m\u001b[0;34m,\u001b[0m\u001b[0malpha\u001b[0m\u001b[0;34m=\u001b[0m\u001b[0malpha\u001b[0m\u001b[0;34m*\u001b[0m\u001b[0mc_values\u001b[0m\u001b[0;34m[\u001b[0m\u001b[0mi\u001b[0m\u001b[0;34m]\u001b[0m\u001b[0;34m)\u001b[0m\u001b[0;34m\u001b[0m\u001b[0;34m\u001b[0m\u001b[0m\n",
      "\u001b[0;31mNameError\u001b[0m: name 'a_values_trgt' is not defined"
     ]
    },
    {
     "data": {
      "image/png": "[encoded data removed]",
      "text/plain": [
       "<Figure size 360x216 with 1 Axes>"
      ]
     },
     "metadata": {
      "needs_background": "light"
     },
     "output_type": "display_data"
    }
   ],
   "source": [
    "slope=-2#-1/4\n",
    "alpha=0.2\n",
    "xlabel=r'$\\bar\\Gamma / T$'#\n",
    "ylabel=r'$\\delta \\hat a_{D^2} ^2$ (cm$^2$/s)'\n",
    "#DONE: plot x_values,y_values_fk_lst,y_values_lr_lst, \n",
    "# DONE: simple scatter plot\n",
    "fig,ax=plt.subplots(figsize=(5,3))\n",
    "c_values=a_values_trgt/np.max(a_values_trgt)\n",
    "for i,a in enumerate(a_values_trgt):\n",
    "    plt.scatter(x_values,y_values_fk_lst[i],c='C0',linestyle='dotted',alpha=alpha*c_values[i])\n",
    "    plt.scatter(x_values,y_values_lr_lst[i],c='C1',linestyle='dotted',alpha=alpha*c_values[i])\n",
    "# TODO: each colored by a_values_trgt \n",
    "# TODO: on a scale with both ends clearly visible\n",
    "\n",
    "#DONE: plot a token powerlaw that is positive and monotonically decreasing \n",
    "#HINT: y = M * x **-nu for nu as the negative slope\n",
    "xv=np.logspace(-3,0,100)\n",
    "yv=1.5e0*xv**slope\n",
    "plt.plot(xv,yv,'k--',alpha=.6)\n",
    "\n",
    "#format_plot\n",
    "plt.yscale('log')\n",
    "plt.ylim([1e-4,1e7])\n",
    "format_plot(ax=plt.gca(), xlabel=xlabel, ylabel=ylabel, use_loglog=True, fontsize=18)#, **kwargs)\n",
    "mark_slope(ax=plt.gca(), x1=1e-1, y1=2.5e2, slope=(-2,1), text_kwargs={'color': 'black'}, poly_kwargs={'facecolor': (0.0, 0.0, 0)})\n",
    "plt.show()"
   ]
  },
  {
   "cell_type": "code",
   "execution_count": null,
   "id": "5b698ecd",
   "metadata": {
    "ExecuteTime": {
     "end_time": "2022-01-22T18:50:40.715263Z",
     "start_time": "2022-01-22T18:50:40.715234Z"
    },
    "hidden": true
   },
   "outputs": [],
   "source": [
    "fig,ax=plt.subplots(figsize=(5,3))\n",
    "c_values=a_values_trgt/np.max(a_values_trgt)\n",
    "for i,a in enumerate(a_values_trgt):\n",
    "    ax.scatter(x_values,y_values_fk_lst[i]/(a**2),c='C0',linestyle='dotted',alpha=alpha*c_values[i])\n",
    "    ax.scatter(x_values,y_values_lr_lst[i]/(a**2),c='C1',linestyle='dotted',alpha=alpha*c_values[i])\n",
    " \n",
    "# TODO: each colored by a_values_trgt \n",
    "# TODO: on a scale with both ends clearly visible\n",
    "\n",
    "# #DONE: plot a token powerlaw that is positive and monotonically decreasing \n",
    "# #HINT: y = M * x **-nu for nu as the negative slope\n",
    "# xv=np.logspace(-3,0,100)\n",
    "# yv=1.5e-1*xv**slope\n",
    "# plt.plot(xv,yv,'k--',alpha=.6)\n",
    "\n",
    "#format_plot\n",
    "# plt.title('Colors deepen with increasing a>0\\n',fontsize=14)\n",
    "# plt.yscale('log')\n",
    "plt.ylim([-4,4e0])\n",
    "format_plot(ax=plt.gca(), xlabel=xlabel, ylabel=ylabel, use_loglog=False, fontsize=18)#, **kwargs)\n",
    "# format_plot(ax=plt.gca(), xlabel=xlabel, ylabel=ylabel, use_loglog=True, fontsize=18)#, **kwargs)\n",
    "# mark_slope(ax=plt.gca(), x1=1e-1, y1=2.5e1, slope=(-2,1), text_kwargs={'color': 'black'}, poly_kwargs={'facecolor': (0.0, 0.0, 0)})\n",
    "plt.show()\n",
    "print(f\"TODO: change the variable a lines to use two clearly distinguishable color schemes that end at both ends as clearly distinguishable from white background\")\n",
    "print(F\"TODO: add blue and orange curves for the a values expected of the full solution\")"
   ]
  },
  {
   "cell_type": "code",
   "execution_count": null,
   "id": "b566fe48",
   "metadata": {
    "ExecuteTime": {
     "end_time": "2022-01-22T18:50:40.719527Z",
     "start_time": "2022-01-22T18:50:40.719498Z"
    },
    "hidden": true
   },
   "outputs": [],
   "source": [
    "#TODO: change ^this plot to only use give values for a_hat_lr and a_hat_fk\n",
    "# slope=-2#-1/4\n",
    "# alpha=0.2\n",
    "# xlabel=r'$\\bar\\Gamma / T$'#\n",
    "# ylabel=r'$\\delta \\hat a_{D^2} ^2/a^2$ (cm$^2$/s)'\n",
    "# #DONE: plot x_values,y_values_fk_lst,y_values_lr_lst, \n",
    "# # DONE: simple scatter plot\n",
    "# fig,ax=plt.subplots(figsize=(5,3))\n",
    "# c_values=a_values_trgt/np.max(a_values_trgt)\n",
    "# for i,a in enumerate(a_values_trgt):\n",
    "#     plt.scatter(x_values,y_values_fk_lst[i]/(a**2),c='C0',linestyle='dotted',alpha=alpha*c_values[i])\n",
    "#     plt.scatter(x_values,y_values_lr_lst[i]/(a**2),c='C1',linestyle='dotted',alpha=alpha*c_values[i])\n",
    "# # TODO: each colored by a_values_trgt \n",
    "# # TODO: on a scale with both ends clearly visible\n",
    "\n",
    "# # #DONE: plot a token powerlaw that is positive and monotonically decreasing \n",
    "# # #HINT: y = M * x **-nu for nu as the negative slope\n",
    "# # xv=np.logspace(-3,0,100)\n",
    "# # yv=1.5e-1*xv**slope\n",
    "# # plt.plot(xv,yv,'k--',alpha=.6)\n",
    "\n",
    "# #format_plot\n",
    "# # plt.title('Colors deepen with increasing a>0\\n',fontsize=14)\n",
    "# # plt.yscale('log')\n",
    "# # plt.ylim([1e-4,1e7])\n",
    "# # format_plot(ax=plt.gca(), xlabel=xlabel, ylabel=ylabel, use_loglog=False, fontsize=18)#, **kwargs)\n",
    "# # format_plot(ax=plt.gca(), xlabel=xlabel, ylabel=ylabel, use_loglog=True, fontsize=18)#, **kwargs)\n",
    "# # mark_slope(ax=plt.gca(), x1=1e-1, y1=2.5e1, slope=(-2,1), text_kwargs={'color': 'black'}, poly_kwargs={'facecolor': (0.0, 0.0, 0)})\n",
    "# plt.show()"
   ]
  },
  {
   "cell_type": "code",
   "execution_count": null,
   "id": "53b24a41",
   "metadata": {
    "ExecuteTime": {
     "end_time": "2022-01-22T18:50:40.721464Z",
     "start_time": "2022-01-22T18:50:40.721447Z"
    },
    "hidden": true
   },
   "outputs": [],
   "source": [
    "# def mark_slope(ax, x1, y1, slope=(2, 1),\n",
    "#         text_kwargs={'color': 'black'},\n",
    "#         poly_kwargs={'facecolor': (0., 0., 0)},\n",
    "#         **kwargs):\n",
    "#     '''all parameters are passed to mpltools.annotation.slope_marker\n",
    "#     slope can equivalently be, for example, 2 or (2,1).\n",
    "\n",
    "#     Example Usage:\n",
    "# mark_slope(ax, x1, y1)\n",
    "# #...or better yet\n",
    "# annotation.slope_marker(origin=(x1, y1),\n",
    "#                         slope=3,#(3, 1),\n",
    "#                         text_kwargs={'color': 'black','fontsize':16, 'alpha':0.7},\n",
    "#                         poly_kwargs={'facecolor': (0.5, 0.5, 0.5), 'alpha':0.5},#TODO: replace with purple\n",
    "#                         ax=ax)\n",
    "#     '''\n",
    "#     annotation.slope_marker(origin=(x1, y1),\n",
    "#                             slope=slope,\n",
    "#                             text_kwargs={'color': 'black','fontsize':16, 'alpha':0.7},\n",
    "#                             poly_kwargs={'facecolor': (0.5, 0.5, 0.5), 'alpha':0.5},#TODO: replace with purple\n",
    "#                             ax=ax)\n",
    "#     return True"
   ]
  },
  {
   "cell_type": "code",
   "execution_count": null,
   "id": "39ddd000",
   "metadata": {
    "ExecuteTime": {
     "end_time": "2022-01-22T18:50:40.723133Z",
     "start_time": "2022-01-22T18:50:40.723108Z"
    },
    "hidden": true
   },
   "outputs": [],
   "source": [
    "#TODO(later): plot the ratio of the difference between lr and fk for the diffusion correction to ahat_squared"
   ]
  },
  {
   "cell_type": "code",
   "execution_count": null,
   "id": "b6e3eaca",
   "metadata": {
    "hidden": true
   },
   "outputs": [],
   "source": []
  },
  {
   "cell_type": "code",
   "execution_count": null,
   "id": "cd7a0527",
   "metadata": {
    "hidden": true
   },
   "outputs": [],
   "source": []
  },
  {
   "cell_type": "code",
   "execution_count": null,
   "id": "c9ba3a5e",
   "metadata": {
    "hidden": true
   },
   "outputs": [],
   "source": []
  },
  {
   "cell_type": "code",
   "execution_count": 5,
   "id": "8710f09e",
   "metadata": {
    "ExecuteTime": {
     "end_time": "2022-01-22T18:50:40.804543Z",
     "start_time": "2022-01-22T18:50:40.737361Z"
    },
    "hidden": true
   },
   "outputs": [],
   "source": [
    "#TODO(Now!): plot the cross correction to ahat_squared"
   ]
  }
 ],
 "metadata": {
  "hide_input": false,
  "kernelspec": {
   "display_name": "Python 3 (ipykernel)",
   "language": "python",
   "name": "python3"
  },
  "language_info": {
   "codemirror_mode": {
    "name": "ipython",
    "version": 3
   },
   "file_extension": ".py",
   "mimetype": "text/x-python",
   "name": "python",
   "nbconvert_exporter": "python",
   "pygments_lexer": "ipython3",
   "version": "3.9.5"
  },
  "nbTranslate": {
   "displayLangs": [
    "*"
   ],
   "hotkey": "alt-t",
   "langInMainMenu": true,
   "sourceLang": "en",
   "targetLang": "fr",
   "useGoogleTranslate": true
  },
  "toc": {
   "base_numbering": 1,
   "nav_menu": {},
   "number_sections": true,
   "sideBar": true,
   "skip_h1_title": false,
   "title_cell": "Table of Contents",
   "title_sidebar": "Contents",
   "toc_cell": false,
   "toc_position": {},
   "toc_section_display": true,
   "toc_window_display": false
  },
  "varInspector": {
   "cols": {
    "lenName": 16,
    "lenType": 16,
    "lenVar": 40
   },
   "kernels_config": {
    "python": {
     "delete_cmd_postfix": "",
     "delete_cmd_prefix": "del ",
     "library": "var_list.py",
     "varRefreshCmd": "print(var_dic_list())"
    },
    "r": {
     "delete_cmd_postfix": ") ",
     "delete_cmd_prefix": "rm(",
     "library": "var_list.r",
     "varRefreshCmd": "cat(var_dic_list()) "
    }
   },
   "types_to_exclude": [
    "module",
    "function",
    "builtin_function_or_method",
    "instance",
    "_Feature"
   ],
   "window_display": false
  }
 },
 "nbformat": 4,
 "nbformat_minor": 5
}
