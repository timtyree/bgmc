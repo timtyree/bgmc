{
 "cells": [
  {
   "cell_type": "markdown",
   "id": "a9ed92be",
   "metadata": {},
   "source": [
    "# quantifying dependence of annihilation rate on attraction strength\n",
    "Tim Tyree<br>\n",
    "6.6.2023"
   ]
  },
  {
   "cell_type": "code",
   "execution_count": 6,
   "id": "fe769ac5",
   "metadata": {
    "ExecuteTime": {
     "end_time": "2023-06-06T16:11:21.359194Z",
     "start_time": "2023-06-06T16:11:21.308763Z"
    }
   },
   "outputs": [
    {
     "name": "stdout",
     "output_type": "stream",
     "text": [
      "annihilation rate density powerlaw fits:\n",
      "m = 1.877234 +/- 0.024488\n",
      "M = 5.572316 +/- 0.299027 Hz/cm^2; B=2.496963 +/- 0.039522\n",
      "RMSE=0.1386 Hz/cm^2; R^2=0.9969; MPE=6.9910%; N=73\n",
      "m = 1.637556 +/- 0.016847\n",
      "M = 16.735599 +/- 0.829136 Hz/cm^2; B=5.587740 +/- 0.065801\n",
      "RMSE=0.1340 Hz/cm^2; R^2=0.9973; MPE=7.2488%; N=100\n"
     ]
    }
   ],
   "source": [
    "from lib.my_initialization import *\n",
    "\n",
    "import subprocess\n",
    "\n",
    "plt.plot([1]*4)\n",
    "plt.close()\n",
    "#reset matplotlib\n",
    "import matplotlib\n",
    "matplotlib.rcParams.update(matplotlib.rcParamsDefault)\n",
    "mpl.rcParams.update(matplotlib.rcParamsDefault) #reset matplotlib\n",
    "\n",
    "kwargs = dict(data_fk_dir=f'{nb_dir}/data/full_results/data_fig4_vidmar_fk_tt.csv',\n",
    "              data_lr_dir=f'{nb_dir}/data/full_results/data_fig4_vidmar_lr_tt.csv',\n",
    "             min_num_particles=9)\n",
    "\n",
    "dict_wjr = recall_death_rates_vidmar_rappel(**kwargs)\n",
    "fk=dict_wjr['fk']\n",
    "lr=dict_wjr['lr']\n",
    "print(f\"annihilation rate density powerlaw fits:\")\n",
    "dict_fit_death_fk = print_fit_power_law(x=fk['q'].values,y=fk['w'].values)\n",
    "dict_fit_death_lr = print_fit_power_law(x=lr['q'].values,y=lr['w'].values)"
   ]
  },
  {
   "cell_type": "markdown",
   "id": "d71851d6",
   "metadata": {
    "heading_collapsed": true
   },
   "source": [
    "# define module"
   ]
  },
  {
   "cell_type": "code",
   "execution_count": 109,
   "id": "6c099826",
   "metadata": {
    "ExecuteTime": {
     "end_time": "2023-06-06T17:19:49.498933Z",
     "start_time": "2023-06-06T17:19:49.489010Z"
    },
    "hidden": true
   },
   "outputs": [],
   "source": [
    "# @njit\n",
    "def compute_annihilation_rates_lpm(D,alinear,r,kappa,N0_lst,L,nb_dir,dt=1e-4,niter=500,neighbor=0,force_code=2,seed=0,**kwargs):\n",
    "    \"\"\"\n",
    "    Example Usage:\n",
    "df_rates = compute_annihilation_rates_lpm(D,alinear,r,kappa,N0_lst,L,nb_dir)#,dt=1e-4,niter=500,neighbor=0,force_code=2,seed=0,**kwargs)\n",
    "    \"\"\"\n",
    "\n",
    "    task_lst=[]\n",
    "    # for N0 in range(2,100,2):\n",
    "    for N0 in N0_lst:\n",
    "        input_string = f\"{r} {D} {L} {kappa} {alinear} 1 {dt} {dt} {N0} {niter} {seed} 0 0 0 0 {neighbor} {force_code}\"\n",
    "        call_string = f\"{nb_dir}/../c/attractive/return_CollTime.x <<< '{input_string}'\"\n",
    "        call_string+= \" | grep 'Tavg=' | grep -Eo '[+-]?[0-9]+([.][0-9]+)?'\"\n",
    "    #     call_string = f'/Users/timothytyree/Documents/GitHub/bgmc/c/attractive/return_CollTime.x < \"{input_string}\"'\n",
    "    #     call_string+= '| grep \"Tavg=\" | grep -Eo \"[+-]?[0-9]+([.][0-9]+)?\"'\n",
    "        task_lst.append(call_string)\n",
    "#     print(f\"{len(task_lst)=}\")\n",
    "    call_string\n",
    "    def subroutine(call_string):\n",
    "        p=subprocess.Popen(call_string,stdout=subprocess.PIPE,shell=True)\n",
    "        return eval(p.communicate()[0])\n",
    "#         return eval(subprocess.Popen(call_string,stdout=subprocess.PIPE,shell=True))\n",
    "#         return eval(subprocess.check_output(call_string, shell=True))\n",
    "    retval=[]\n",
    "    for call_string in task_lst:\n",
    "        retval.append(subroutine(call_string))\n",
    "#     len(retval)\n",
    "    A=L**2\n",
    "    q_lst=[]\n",
    "    w_lst=[]\n",
    "    Tavg_lst=[]\n",
    "    for N0,Tavg in zip(N0_lst,retval):\n",
    "        rate = 1/Tavg\n",
    "        w = rate/A\n",
    "    #     q = (N0+2)/A\n",
    "        q = N0/A\n",
    "        #record\n",
    "        w_lst.append(w)\n",
    "        q_lst.append(q)\n",
    "        Tavg_lst.append(Tavg)\n",
    "    df_rates = pd.DataFrame(dict(\n",
    "        N0=N0_lst,\n",
    "        Tavg=Tavg_lst,\n",
    "        q=q_lst,\n",
    "        w=w_lst))\n",
    "    return df_rates"
   ]
  },
  {
   "cell_type": "code",
   "execution_count": 132,
   "id": "bfc212c3",
   "metadata": {
    "ExecuteTime": {
     "end_time": "2023-06-06T17:31:51.783446Z",
     "start_time": "2023-06-06T17:31:51.777814Z"
    },
    "hidden": true
   },
   "outputs": [],
   "source": [
    "import multiprocess\n",
    "def eval_routine_multiprocess(routine, task_lst, ncores):\n",
    "    p = multiprocess.Pool(ncores)\n",
    "    return p.map(routine, task_lst)\n",
    "    "
   ]
  },
  {
   "cell_type": "code",
   "execution_count": 110,
   "id": "165cda18",
   "metadata": {
    "ExecuteTime": {
     "end_time": "2023-06-06T17:19:52.066035Z",
     "start_time": "2023-06-06T17:19:52.063166Z"
    },
    "hidden": true
   },
   "outputs": [],
   "source": [
    "# N0=100;seed=0;force_code=2\n",
    "# input_string = f\"{r} {D} {L} {kappa} {alinear} 1 {dt} {dt} {N0} {niter} {seed} 0 0 0 0 {neighbor} {force_code}\"\n",
    "# call_string = f\"{nb_dir}/../c/attractive/return_CollTime.x <<< '{input_string}'\"\n",
    "# call_string+= \" | grep 'Tavg=' | grep -Eo '[+-]?[0-9]+([.][0-9]+)?'\"\n",
    "# # subprocess.Popen(call_string)\n",
    "# p=subprocess.Popen(call_string,stdout=subprocess.PIPE,shell=True)\n",
    "# eval(p.communicate()[0])"
   ]
  },
  {
   "cell_type": "markdown",
   "id": "c505c690",
   "metadata": {
    "heading_collapsed": true
   },
   "source": [
    "# consistency check from return_CollTime.c"
   ]
  },
  {
   "cell_type": "markdown",
   "id": "85a2bbaa",
   "metadata": {
    "hidden": true
   },
   "source": [
    "with files generated as in http://localhost:8890/notebooks/consistency%20checks%20for%20lpm%20annihilation%20simulation.ipynb"
   ]
  },
  {
   "cell_type": "code",
   "execution_count": 7,
   "id": "31d6335a",
   "metadata": {
    "ExecuteTime": {
     "end_time": "2023-06-06T16:11:24.009957Z",
     "start_time": "2023-06-06T16:11:24.006897Z"
    },
    "hidden": true
   },
   "outputs": [],
   "source": [
    "# cfolder=f\"{nb_dir}/../c/attractive\"\n",
    "cfolder='/Users/timothytyree/Documents/GitHub/bgmc/c/attractive'\n",
    "# cfolder='/home/timothytyree/Documents/GitHub/bgmc/c/attractive'\n",
    "os.chdir(cfolder)"
   ]
  },
  {
   "cell_type": "code",
   "execution_count": 8,
   "id": "ea82da4d",
   "metadata": {
    "ExecuteTime": {
     "end_time": "2023-06-06T16:11:24.430324Z",
     "start_time": "2023-06-06T16:11:24.284169Z"
    },
    "hidden": true
   },
   "outputs": [
    {
     "name": "stdout",
     "output_type": "stream",
     "text": [
      "/Users/timothytyree/Documents/GitHub/bgmc/c/attractive\r\n"
     ]
    }
   ],
   "source": [
    "!pwd"
   ]
  },
  {
   "cell_type": "code",
   "execution_count": 9,
   "id": "36393031",
   "metadata": {
    "ExecuteTime": {
     "end_time": "2023-06-06T16:11:28.159910Z",
     "start_time": "2023-06-06T16:11:24.622591Z"
    },
    "hidden": true
   },
   "outputs": [
    {
     "data": {
      "text/plain": [
       "0"
      ]
     },
     "execution_count": 9,
     "metadata": {},
     "output_type": "execute_result"
    }
   ],
   "source": [
    "#compile the executable\n",
    "os.system('./gcc.sh')"
   ]
  },
  {
   "cell_type": "code",
   "execution_count": 10,
   "id": "03f46a8d",
   "metadata": {
    "ExecuteTime": {
     "end_time": "2023-06-06T16:11:34.659283Z",
     "start_time": "2023-06-06T16:11:34.655796Z"
    },
    "hidden": true
   },
   "outputs": [],
   "source": [
    "N0_lst=list(range(2,102,2))"
   ]
  },
  {
   "cell_type": "code",
   "execution_count": 34,
   "id": "86c2f311",
   "metadata": {
    "ExecuteTime": {
     "end_time": "2023-06-06T16:22:02.894200Z",
     "start_time": "2023-06-06T16:22:02.885722Z"
    },
    "hidden": true
   },
   "outputs": [],
   "source": [
    "L=5\n",
    "# L=10\n",
    "rate_dir_fk = f'/Users/timothytyree/Documents/GitHub/bgmc/python/data/control_data/lpm_table1_c_fk_L_{L}.csv'\n",
    "rate_dir_lr = f'/Users/timothytyree/Documents/GitHub/bgmc/python/data/control_data/lpm_table1_c_lr_L_{L}.csv'\n",
    "df_rates_fk=pd.read_csv(rate_dir_fk)\n",
    "df_rates_lr=pd.read_csv(rate_dir_lr)"
   ]
  },
  {
   "cell_type": "code",
   "execution_count": 35,
   "id": "8be506a1",
   "metadata": {
    "ExecuteTime": {
     "end_time": "2023-06-06T16:22:03.795337Z",
     "start_time": "2023-06-06T16:22:03.201144Z"
    },
    "hidden": true
   },
   "outputs": [
    {
     "data": {
      "image/png": "[encoded data removed]",
      "text/plain": [
       "<Figure size 400x400 with 1 Axes>"
      ]
     },
     "metadata": {},
     "output_type": "display_data"
    }
   ],
   "source": [
    "use_filterby_minN=True\n",
    "minN=10\n",
    "figsize = (4, 4) \n",
    "fontsize=16\n",
    "x1lim=[0.08, 11]\n",
    "x2lim=[0.01, 250]\n",
    "fig, ax = plt.subplots(figsize=figsize)\n",
    "#plot the lpm\n",
    "df_rates_fk.plot(x='q',y='w',c='k',lw=2,ax=ax,label='_')\n",
    "df_rates_lr.plot(x='q',y='w',c='k',lw=2,ax=ax,label='LPM')\n",
    "\n",
    "#format_plot\n",
    "format_plot(ax=ax,xlabel=r'q (1/cm$^2$)',ylabel=r'w (Hz/cm$^2$)',fontsize=fontsize)\n",
    "ax = plot_death_rates_loglog_full(fk,lr,ax=ax,fontsize=fontsize,x1lim=x1lim, x2lim=x2lim)\n",
    "# ax.plot(q_lst,w_lst,color='k')\n",
    "ax.set_xscale('log')\n",
    "ax.set_yscale('log')\n",
    "# ax.axis([5e-2,5e0,0.1,100])\n",
    "ax.tick_params(top=True, right=True,direction='in',which='both')\n",
    "plt.show()"
   ]
  },
  {
   "cell_type": "code",
   "execution_count": 36,
   "id": "8ea7468d",
   "metadata": {
    "ExecuteTime": {
     "end_time": "2023-06-06T16:22:04.502254Z",
     "start_time": "2023-06-06T16:22:03.797693Z"
    },
    "hidden": true
   },
   "outputs": [
    {
     "data": {
      "image/png": "[encoded data removed]",
      "text/plain": [
       "<Figure size 400x400 with 1 Axes>"
      ]
     },
     "metadata": {},
     "output_type": "display_data"
    }
   ],
   "source": [
    "use_filterby_minN=True\n",
    "minN=10\n",
    "figsize = (4, 4) \n",
    "# fontsize=16\n",
    "fontsize=14\n",
    "x1lim=[0.08, 11]\n",
    "x2lim=[0.01, 250]\n",
    "fig, ax = plt.subplots(figsize=figsize)\n",
    "#plot the lpm\n",
    "df_rates_fk.plot(x='q',y='w',c='k',lw=2,ax=ax,label='_')\n",
    "df_rates_lr.plot(x='q',y='w',c='k',lw=2,ax=ax,label=f'LPM (A={L**2}cm'+r'$^2$)')\n",
    "\n",
    "#format_plot\n",
    "format_plot(ax=ax,xlabel=r'q (1/cm$^2$)',ylabel=r'w (Hz/cm$^2$)',fontsize=fontsize)\n",
    "ax = plot_death_rates_loglog_full(fk,lr,ax=ax,fontsize=fontsize,x1lim=x1lim, x2lim=x2lim)\n",
    "# ax.plot(q_lst,w_lst,color='k')\n",
    "ax.set_xscale('log')\n",
    "ax.set_yscale('log')\n",
    "# ax.axis([5e-2,5e0,0.1,100])\n",
    "ax.tick_params(top=True, right=True,direction='in',which='both')\n",
    "plt.show()"
   ]
  },
  {
   "cell_type": "code",
   "execution_count": 42,
   "id": "291f8845",
   "metadata": {
    "ExecuteTime": {
     "end_time": "2023-06-06T16:25:02.078388Z",
     "start_time": "2023-06-06T16:25:02.066369Z"
    },
    "hidden": true
   },
   "outputs": [],
   "source": [
    "L=5\n",
    "# L=10\n",
    "rate_dir_fk = f'/Users/timothytyree/Documents/GitHub/bgmc/python/data/control_data/lpm_table1_c_fk_L_{L}.csv'\n",
    "rate_dir_lr = f'/Users/timothytyree/Documents/GitHub/bgmc/python/data/control_data/lpm_table1_c_lr_L_{L}.csv'\n",
    "df_rates_fk=pd.read_csv(rate_dir_fk)\n",
    "df_rates_lr=pd.read_csv(rate_dir_lr)"
   ]
  },
  {
   "cell_type": "code",
   "execution_count": 43,
   "id": "50708541",
   "metadata": {
    "ExecuteTime": {
     "end_time": "2023-06-06T16:25:02.358008Z",
     "start_time": "2023-06-06T16:25:02.351146Z"
    },
    "hidden": true
   },
   "outputs": [
    {
     "name": "stdout",
     "output_type": "stream",
     "text": [
      "annihilation rate density powerlaw fits:\n",
      "m = 1.870850 +/- 0.012366\n",
      "M = 5.525075 +/- 0.159990 Hz/cm^2; B=2.493400 +/- 0.022941\n",
      "RMSE=1.0835 Hz/cm^2; R^2=0.9995; MPE=3.7399%; N=50\n",
      "m = 1.613812 +/- 0.012715\n",
      "M = 16.943902 +/- 0.694124 Hz/cm^2; B=5.775093 +/- 0.063738\n",
      "RMSE=2.2976 Hz/cm^2; R^2=0.9992; MPE=3.2161%; N=50\n"
     ]
    }
   ],
   "source": [
    "print(f\"annihilation rate density powerlaw fits:\")\n",
    "dict_fit_death_fk_lpm = print_fit_power_law(x=df_rates_fk['q'].values,y=df_rates_fk['w'].values)\n",
    "dict_fit_death_lr_lpm = print_fit_power_law(x=df_rates_lr['q'].values,y=df_rates_lr['w'].values)"
   ]
  },
  {
   "cell_type": "code",
   "execution_count": 54,
   "id": "1af74030",
   "metadata": {
    "ExecuteTime": {
     "end_time": "2023-06-06T16:27:02.779202Z",
     "start_time": "2023-06-06T16:27:02.772038Z"
    },
    "hidden": true
   },
   "outputs": [],
   "source": [
    "L=5\n",
    "L=10\n",
    "rate_dir_fk = f'/Users/timothytyree/Documents/GitHub/bgmc/python/data/control_data/lpm_table1_c_fk_L_{L}.csv'\n",
    "rate_dir_lr = f'/Users/timothytyree/Documents/GitHub/bgmc/python/data/control_data/lpm_table1_c_lr_L_{L}.csv'\n",
    "df_rates_fk=pd.read_csv(rate_dir_fk)\n",
    "df_rates_lr=pd.read_csv(rate_dir_lr)"
   ]
  },
  {
   "cell_type": "code",
   "execution_count": 65,
   "id": "1fdeaebc",
   "metadata": {
    "ExecuteTime": {
     "end_time": "2023-06-06T16:31:05.241632Z",
     "start_time": "2023-06-06T16:31:05.234523Z"
    },
    "hidden": true
   },
   "outputs": [
    {
     "name": "stdout",
     "output_type": "stream",
     "text": [
      "FK: \n",
      "Mean % Disagreement: 14.087%\n",
      "Max % Disagreement: 26.773%\n",
      "LR: \n",
      "Mean % Disagreement: 33.125%\n",
      "Max % Disagreement: 56.956%\n"
     ]
    }
   ],
   "source": [
    "x = df_rates_fk['q'].values\n",
    "y = df_rates_fk['w'].values\n",
    "yhat = dict_fit_death_fk_lpm['M'] * x ** dict_fit_death_fk_lpm['m']\n",
    "print(f\"FK: \")\n",
    "pe=np.abs(y-yhat)/y\n",
    "print(f\"Mean % Disagreement: {np.mean(pe):.3%}\")\n",
    "print(f\"Max % Disagreement: {np.max(pe):.3%}\")\n",
    "\n",
    "x = df_rates_lr['q'].values\n",
    "y = df_rates_lr['w'].values\n",
    "yhat = dict_fit_death_lr_lpm['M'] * x ** dict_fit_death_lr_lpm['m']\n",
    "print(f\"LR: \")\n",
    "pe=np.abs(y-yhat)/y\n",
    "print(f\"Mean % Disagreement: {np.mean(pe):.3%}\")\n",
    "print(f\"Max % Disagreement: {np.max(pe):.3%}\")"
   ]
  },
  {
   "cell_type": "code",
   "execution_count": 67,
   "id": "686d647f",
   "metadata": {
    "ExecuteTime": {
     "end_time": "2023-06-06T16:33:43.169559Z",
     "start_time": "2023-06-06T16:33:43.164378Z"
    },
    "hidden": true
   },
   "outputs": [
    {
     "name": "stdout",
     "output_type": "stream",
     "text": [
      "FK: \n",
      "RMSE: 0.365 Hz/cm^2\n",
      "LR: \n",
      "RMSE: 2.130 Hz/cm^2\n"
     ]
    }
   ],
   "source": [
    "x = df_rates_fk['q'].values\n",
    "y = df_rates_fk['w'].values\n",
    "yhat = dict_fit_death_fk_lpm['M'] * x ** dict_fit_death_fk_lpm['m']\n",
    "print(f\"FK: \")\n",
    "rmse=np.sqrt(np.mean((y-yhat)**2))\n",
    "print(f\"RMSE: {np.max(rmse):.3f} Hz/cm^2\")\n",
    "\n",
    "x = df_rates_lr['q'].values\n",
    "y = df_rates_lr['w'].values\n",
    "yhat = dict_fit_death_lr_lpm['M'] * x ** dict_fit_death_lr_lpm['m']\n",
    "print(f\"LR: \")\n",
    "rmse=np.sqrt(np.mean((y-yhat)**2))\n",
    "print(f\"RMSE: {np.max(rmse):.3f} Hz/cm^2\")"
   ]
  },
  {
   "cell_type": "code",
   "execution_count": 69,
   "id": "ab01e5fb",
   "metadata": {
    "ExecuteTime": {
     "end_time": "2023-06-06T16:35:39.112603Z",
     "start_time": "2023-06-06T16:35:39.110158Z"
    },
    "hidden": true
   },
   "outputs": [],
   "source": [
    "# plt.plot(x,y)\n",
    "# plt.plot(x,yhat)\n",
    "# plt.xscale('log')\n",
    "# plt.yscale('log')"
   ]
  },
  {
   "cell_type": "markdown",
   "id": "2d3b6736",
   "metadata": {
    "heading_collapsed": true
   },
   "source": [
    "# compute the dependence of the annihilation rates on attraction strength"
   ]
  },
  {
   "cell_type": "code",
   "execution_count": 111,
   "id": "32639b8d",
   "metadata": {
    "ExecuteTime": {
     "end_time": "2023-06-06T17:20:01.180776Z",
     "start_time": "2023-06-06T17:20:01.177107Z"
    },
    "hidden": true
   },
   "outputs": [],
   "source": [
    "alinear_lst=[\n",
    "    1.5520, #1.781 - 2*0.115, #0.1145,\n",
    "    9.3,\n",
    "    ###the varkappa sweep####\n",
    "    1,2,3,4,5,\n",
    "    6,7,8,9, # <--- optional bc otherwise I had <60 jobs...\n",
    "    10,15,20,25,30,\n",
    "    40,50,60,70,80,90,100, # <--- optional bc otherwise I had <60 jobs...\n",
    "]"
   ]
  },
  {
   "cell_type": "code",
   "execution_count": 113,
   "id": "9d0fc0b4",
   "metadata": {
    "ExecuteTime": {
     "end_time": "2023-06-06T17:20:47.546204Z",
     "start_time": "2023-06-06T17:20:04.053840Z"
    },
    "hidden": true
   },
   "outputs": [],
   "source": [
    "#test it works normally in serial\n",
    "# df_rates = compute_annihilation_rates_lpm(D,alinear,r,kappa,N0_lst,L,nb_dir)#,dt=1e-4,niter=500,neighbor=0,force_code=2,seed=0,**kwargs)"
   ]
  },
  {
   "cell_type": "code",
   "execution_count": 146,
   "id": "dccb8a67",
   "metadata": {
    "ExecuteTime": {
     "end_time": "2023-06-06T17:42:26.582055Z",
     "start_time": "2023-06-06T17:42:26.578541Z"
    },
    "hidden": true
   },
   "outputs": [],
   "source": [
    "#launch subprocess in parallel for each alinear in alinear_lst\n",
    "def routine(task):\n",
    "    D,alinear,r,kappa,N0_lst,L,nb_dir = task\n",
    "    df_rates = compute_annihilation_rates_lpm(D,alinear,r,kappa,N0_lst,L,nb_dir)#,dt=1e-4,niter=500,neighbor=0,force_code=2,seed=0,**kwargs)\n",
    "    return df_rates"
   ]
  },
  {
   "cell_type": "code",
   "execution_count": 147,
   "id": "a23387a5",
   "metadata": {
    "ExecuteTime": {
     "end_time": "2023-06-06T17:42:27.993549Z",
     "start_time": "2023-06-06T17:42:27.989614Z"
    },
    "hidden": true
   },
   "outputs": [
    {
     "name": "stdout",
     "output_type": "stream",
     "text": [
      "Number of cpu :  8\n"
     ]
    }
   ],
   "source": [
    "print(\"Number of cpu : \", os.cpu_count())\n",
    "ncores=6"
   ]
  },
  {
   "cell_type": "code",
   "execution_count": 112,
   "id": "50b6eaa7",
   "metadata": {
    "ExecuteTime": {
     "end_time": "2023-06-06T17:20:01.982352Z",
     "start_time": "2023-06-06T17:20:01.978742Z"
    },
    "hidden": true
   },
   "outputs": [],
   "source": [
    "# niter=1000\n",
    "# niter=500\n",
    "# niter=200\n",
    "# dt=1e-4\n",
    "# dt=1e-5\n",
    "L=5\n",
    "# L=10 \n",
    "D=0.42#0.4158\n",
    "alinear=9.3#9.3154\n",
    "# neighbor=0\n",
    "# r=0.155;kappa=300  #table 1\n",
    "# r=0.3;kappa=60 #not bad\n",
    "# r=0.33;kappa=70 #noice at L=5. meh at L=10\n",
    "r=0.314;kappa=75 #<<<< new table 1\n",
    "# kappa=100; r=0.125 #wrong exponent\n",
    "# seed=1\n",
    "# seed=0"
   ]
  },
  {
   "cell_type": "code",
   "execution_count": 139,
   "id": "0c5bb448",
   "metadata": {
    "ExecuteTime": {
     "end_time": "2023-06-06T17:36:23.492271Z",
     "start_time": "2023-06-06T17:32:22.938324Z"
    },
    "hidden": true
   },
   "outputs": [],
   "source": [
    "task_lst=[]\n",
    "for alinear in alinear_lst:\n",
    "    task_lst.append((D,alinear,r,kappa,N0_lst,L,nb_dir))\n",
    "\n",
    "# p = multiprocess.Pool(ncores)\n",
    "# df_rates_lst = p.map(routine, task_lst)\n",
    "df_rates_lst = eval_routine_multiprocess(routine, task_lst, ncores)\n",
    "print(f\"{len(task_lst)} tasks completed!\")\n",
    "df_rates_lst_lr=list(df_rates_lst)"
   ]
  },
  {
   "cell_type": "code",
   "execution_count": 149,
   "id": "9b679e0a",
   "metadata": {
    "ExecuteTime": {
     "end_time": "2023-06-06T17:42:57.531008Z",
     "start_time": "2023-06-06T17:42:57.526955Z"
    },
    "hidden": true
   },
   "outputs": [],
   "source": [
    "# niter=1000\n",
    "niter=500\n",
    "dt=1e-4\n",
    "L=5\n",
    "# L=10 \n",
    "D=0.115\n",
    "alinear=1.552\n",
    "neighbor=0\n",
    "# r=0.135;kappa=167  #table 1\n",
    "# r=0.67;kappa=70 #\n",
    "# r=0.67;kappa=10 #not bad\n",
    "# r=0.67;kappa=7 #good\n",
    "# r=0.67;kappa=8 #noice\n",
    "# r=0.46;kappa=15 #noice\n",
    "r=0.457;kappa=15 #noice <<<< new table 1\n",
    "# r=0.67;kappa=5 #not bad\n",
    "# kappa=100; r=0.125 #wrong exponent\n",
    "#heretim"
   ]
  },
  {
   "cell_type": "code",
   "execution_count": 150,
   "id": "d9f3c396",
   "metadata": {
    "ExecuteTime": {
     "end_time": "2023-06-06T17:51:15.691393Z",
     "start_time": "2023-06-06T17:43:08.001290Z"
    },
    "hidden": true
   },
   "outputs": [
    {
     "name": "stdout",
     "output_type": "stream",
     "text": [
      "23 tasks completed!\n"
     ]
    }
   ],
   "source": [
    "task_lst=[]\n",
    "for alinear in alinear_lst:\n",
    "    task_lst.append((D,alinear,r,kappa,N0_lst,L,nb_dir))\n",
    "\n",
    "# p = multiprocess.Pool(ncores)\n",
    "# df_rates_lst = p.map(routine, task_lst)\n",
    "df_rates_lst = eval_routine_multiprocess(routine, task_lst, ncores)\n",
    "print(f\"{len(task_lst)} tasks completed!\")\n",
    "df_rates_lst_fk=list(df_rates_lst)"
   ]
  },
  {
   "cell_type": "code",
   "execution_count": 151,
   "id": "be118ea3",
   "metadata": {
    "ExecuteTime": {
     "end_time": "2023-06-06T17:51:15.703580Z",
     "start_time": "2023-06-06T17:51:15.694202Z"
    },
    "hidden": true
   },
   "outputs": [
    {
     "name": "stdout",
     "output_type": "stream",
     "text": [
      "pkl_dir='/Users/timothytyree/Documents/GitHub/bgmc/python/Data/lpm_results/figure_data_vs_alinear_at_A_25.pkl'\n"
     ]
    }
   ],
   "source": [
    "data=dict(alinear_lst=alinear_lst,\n",
    "         df_rates_lst_fk=df_rates_lst_fk,\n",
    "         df_rates_lst_lr=df_rates_lst_lr)\n",
    "pkl_dir=f\"{nb_dir}/Data/lpm_results/figure_data_vs_alinear_at_A_{L**2}.pkl\"\n",
    "save_to_pickle(pkl_dir,data)\n",
    "print(f\"{pkl_dir=}\")"
   ]
  },
  {
   "cell_type": "code",
   "execution_count": 153,
   "id": "2f9ad7a7",
   "metadata": {
    "ExecuteTime": {
     "end_time": "2023-06-06T17:51:39.060188Z",
     "start_time": "2023-06-06T17:51:38.428704Z"
    },
    "hidden": true
   },
   "outputs": [
    {
     "name": "stdout",
     "output_type": "stream",
     "text": [
      "-n \u0007\n",
      "-n \u0007\n",
      "-n \u0007\n"
     ]
    },
    {
     "data": {
      "text/plain": [
       "0"
      ]
     },
     "execution_count": 153,
     "metadata": {},
     "output_type": "execute_result"
    }
   ],
   "source": [
    "beep(3)"
   ]
  },
  {
   "cell_type": "markdown",
   "id": "57002ff7",
   "metadata": {
    "heading_collapsed": true
   },
   "source": [
    "# TODO: plot the rates vs. alinear for one full cardiac model"
   ]
  },
  {
   "cell_type": "code",
   "execution_count": 228,
   "id": "3cecf02e",
   "metadata": {
    "ExecuteTime": {
     "end_time": "2023-06-06T18:31:18.572579Z",
     "start_time": "2023-06-06T18:31:18.554334Z"
    },
    "hidden": true
   },
   "outputs": [
    {
     "data": {
      "text/plain": [
       "23"
      ]
     },
     "execution_count": 228,
     "metadata": {},
     "output_type": "execute_result"
    }
   ],
   "source": [
    "pkl_dir='/Users/timothytyree/Documents/GitHub/bgmc/python/Data/lpm_results/figure_data_vs_alinear_at_A_25.pkl'\n",
    "data = load_from_pickle(pkl_dir)\n",
    "alinear_values = np.array(data['alinear_lst'])\n",
    "df_rates_lst = data['df_rates_lst_fk']\n",
    "# df_rates_lst = data['df_rates_lst_lr']\n",
    "len(df_rates_lst)"
   ]
  },
  {
   "cell_type": "code",
   "execution_count": 229,
   "id": "3f0697f8",
   "metadata": {
    "ExecuteTime": {
     "end_time": "2023-06-06T18:31:19.618725Z",
     "start_time": "2023-06-06T18:31:18.934532Z"
    },
    "hidden": true
   },
   "outputs": [
    {
     "data": {
      "image/png": "[encoded data removed]",
      "text/plain": [
       "<Figure size 400x400 with 2 Axes>"
      ]
     },
     "metadata": {},
     "output_type": "display_data"
    }
   ],
   "source": [
    "cmap = 'viridis'\n",
    "c_col = 'rmse_full'\n",
    "fontsize=16\n",
    "xytext = (0.09, 10)\n",
    "x2lim = [1e-2, 25]\n",
    "x1lim = [8e-3, 1.1]  \n",
    "# x2lim = [1e-2, 250]\n",
    "# x1lim = [8e-3, 10.1]  \n",
    "figsize = (4, 4)  \n",
    "fig, ax = plt.subplots(figsize=figsize)\n",
    "varkappa_lst = list(reversed([1, 2, 3, 4,\n",
    " 5, 10, 15, 20, 25, 30]))\n",
    "vmin = 0\n",
    "vmax = 30\n",
    "x_values = np.logspace(-3, .4, 1000)\n",
    "for varkappa in varkappa_lst:\n",
    "    #extract the data\n",
    "    boo = alinear_values==varkappa\n",
    "    df_rates = df_rates_lst[int(np.argwhere(boo))]\n",
    "    assert boo.any()    \n",
    "    x=df_rates['q'].values\n",
    "    y=df_rates['w'].values\n",
    "#     bo = (x<=1)&(x>0.1)\n",
    "    bo = (x<=10)&(x>0.2)\n",
    "    dict_fit = print_fit_power_law(x[bo],y[bo],printing=False)\n",
    "    M = dict_fit['M']\n",
    "    nu= dict_fit['m']\n",
    "    y_values = M * x_values**nu\n",
    "    \n",
    "#     x_values=df_rates['q'].values\n",
    "#     y_values=df_rates['w'].values\n",
    "    \n",
    "    c_values = varkappa + 0. * x_values\n",
    "    #plot\n",
    "    ax.scatter(x_values,\n",
    "               y_values,\n",
    "               c=c_values,\n",
    "               cmap=cmap,\n",
    "               alpha=0.6,\n",
    "               s=3,\n",
    "               vmin=vmin,\n",
    "               vmax=vmax)\n",
    "\n",
    "# # #annotate the auxiliary trial that could have taken more than twenty hours on the open science grid   \n",
    "# # #heretim\n",
    "# M=3.1\n",
    "# nu=4/3#2.8\n",
    "# yhat_values=M*x_values**nu\n",
    "# ax.scatter(x_values,\n",
    "#            yhat_values,\n",
    "#            c=[0]*x_values.shape[0], # pure diffusion\n",
    "#            cmap=cmap,\n",
    "#            alpha=0.6,\n",
    "#            s=3,\n",
    "#            vmin=vmin,\n",
    "#            vmax=vmax)\n",
    "  \n",
    "FormatAxes(\n",
    "    ax,\n",
    "    x1lim=x1lim,\n",
    "    x2lim=x2lim,\n",
    "    x1label=r'$n$ (1/cm$^{2}$)',#r'$q=N/A$ (1/cm$^{2}$)',\n",
    "    x2label=r'$w_-$ (Hz/cm$^{2}$)',#r'$w=W_{-2}/A$ (Hz/cm$^{2}$)',\n",
    "    title=None,\n",
    "    fontsize=fontsize,\n",
    "    use_loglog=True)\n",
    "# cbar=fig.colorbar(cmap='bone', ax=ax, shrink=0.6,label=r'RMSE$_{particle\\;vs\\;full}$')#, location='top'\n",
    "# fig.colorbar(pcm, ax=[axs[0, col]], location='top', shrink=0.6)\n",
    "#     cbar=fig.colorbar(pcm, ax=axs[:, col],shrink=0.6)#,label=output_col)\n",
    "norm = mpl.colors.Normalize(vmin=vmin, vmax=vmax)\n",
    "# norm = mpl.colors.LogNorm(vmin=vmin, vmax=vmax)\n",
    "cmap_obj = mpl.cm.get_cmap(cmap)\n",
    "cax = fig.add_axes([0.95, 0.2, 0.02, 0.6])\n",
    "cb = mpl.colorbar.ColorbarBase(cax,\n",
    "                               cmap=cmap_obj,\n",
    "                               norm=norm,\n",
    "                               spacing='proportional')\n",
    "cb.set_label(r'$a$ (cm$^{2}/$s)', fontsize=fontsize)\n",
    "cb.ax.tick_params(labelsize=fontsize)\n",
    "ax.tick_params(top=True, right=True,direction='in',which='both')\n",
    "plt.show()"
   ]
  },
  {
   "cell_type": "markdown",
   "id": "1d816c9d",
   "metadata": {
    "ExecuteTime": {
     "end_time": "2023-06-06T17:58:05.036447Z",
     "start_time": "2023-06-06T17:58:05.032806Z"
    }
   },
   "source": [
    "# compute the power law fits versus alinear"
   ]
  },
  {
   "cell_type": "code",
   "execution_count": 242,
   "id": "c5a4ca3c",
   "metadata": {
    "ExecuteTime": {
     "end_time": "2023-06-06T18:35:23.870798Z",
     "start_time": "2023-06-06T18:35:23.867993Z"
    }
   },
   "outputs": [],
   "source": [
    "xmax=10;xmin=0.2"
   ]
  },
  {
   "cell_type": "code",
   "execution_count": 243,
   "id": "93c37ad2",
   "metadata": {
    "ExecuteTime": {
     "end_time": "2023-06-06T18:35:24.382176Z",
     "start_time": "2023-06-06T18:35:24.363748Z"
    }
   },
   "outputs": [],
   "source": [
    "df_rates_lst=list(df_rates_lst_fk)\n",
    "# df_rates_lst=list(df_rates_lst_lr)\n",
    "#TODO: compute df_death_rate_versus_alinear\n",
    "dict_fit_lst=[]\n",
    "for varkappa in alinear_values:\n",
    "    #extract the data\n",
    "    boo = alinear_values==varkappa\n",
    "    df_rates = df_rates_lst[int(np.argwhere(boo))]\n",
    "    assert boo.any()    \n",
    "    x=df_rates['q'].values\n",
    "    y=df_rates['w'].values\n",
    "    bo = (x<=xmax)&(x>xmin)\n",
    "    dict_fit = print_fit_power_law(x[bo],y[bo],printing=False)\n",
    "    dict_fit['alinear']=varkappa\n",
    "    #record\n",
    "    dict_fit_lst.append(dict_fit)\n",
    "df_death_rate_versus_alinear=pd.DataFrame(dict_fit_lst)\n",
    "dict_data_fk=dict()\n",
    "dict_data_fk['df_death_rate_versus_alinear']=df_death_rate_versus_alinear\n",
    "# dict_data_lr['df_death_rate_versus_alinear']=df_death_rate_versus_alinear"
   ]
  },
  {
   "cell_type": "code",
   "execution_count": 244,
   "id": "fa43db40",
   "metadata": {
    "ExecuteTime": {
     "end_time": "2023-06-06T18:35:27.023768Z",
     "start_time": "2023-06-06T18:35:27.007146Z"
    }
   },
   "outputs": [],
   "source": [
    "#compute df_death_rate_versus_alinear\n",
    "df_rates_lst=list(df_rates_lst_lr)\n",
    "dict_fit_lst=[]\n",
    "for varkappa in alinear_values:\n",
    "    #extract the data\n",
    "    boo = alinear_values==varkappa\n",
    "    df_rates = df_rates_lst[int(np.argwhere(boo))]\n",
    "    assert boo.any()    \n",
    "    x=df_rates['q'].values\n",
    "    y=df_rates['w'].values\n",
    "    bo = (x<=xmax)&(x>xmin)\n",
    "    dict_fit = print_fit_power_law(x[bo],y[bo],printing=False)\n",
    "    dict_fit['alinear']=varkappa\n",
    "    #record\n",
    "    dict_fit_lst.append(dict_fit)\n",
    "df_death_rate_versus_alinear=pd.DataFrame(dict_fit_lst)\n",
    "dict_data_lr=dict()\n",
    "dict_data_lr['df_death_rate_versus_alinear']=df_death_rate_versus_alinear"
   ]
  },
  {
   "cell_type": "code",
   "execution_count": 245,
   "id": "c0e6d165",
   "metadata": {
    "ExecuteTime": {
     "end_time": "2023-06-06T18:35:27.431635Z",
     "start_time": "2023-06-06T18:35:27.427128Z"
    }
   },
   "outputs": [
    {
     "data": {
      "text/plain": [
       "(1.4, 1.3333333333333333, 1.3)"
      ]
     },
     "execution_count": 245,
     "metadata": {},
     "output_type": "execute_result"
    }
   ],
   "source": [
    "7/5,4/3,13/10"
   ]
  },
  {
   "cell_type": "code",
   "execution_count": 246,
   "id": "9d253617",
   "metadata": {
    "ExecuteTime": {
     "end_time": "2023-06-06T18:35:27.901253Z",
     "start_time": "2023-06-06T18:35:27.898745Z"
    }
   },
   "outputs": [],
   "source": [
    "# TODO: plot the power law fits versus alinear"
   ]
  },
  {
   "cell_type": "code",
   "execution_count": 247,
   "id": "9b971b3f",
   "metadata": {
    "ExecuteTime": {
     "end_time": "2023-06-06T18:35:29.066777Z",
     "start_time": "2023-06-06T18:35:29.046314Z"
    }
   },
   "outputs": [
    {
     "data": {
      "text/plain": [
       "array([1.60874665])"
      ]
     },
     "execution_count": 247,
     "metadata": {},
     "output_type": "execute_result"
    }
   ],
   "source": [
    "#extrct xy vlues\n",
    "alinear_fk = 1.552\n",
    "alinear_lr = 9.3\n",
    "dfdr = dict_data_fk['df_death_rate_versus_alinear']\n",
    "alinear_vlues1 = dfdr[dfdr['alinear']!=alinear_fk]['alinear'].values\n",
    "num_vlues1 = dfdr[dfdr['alinear']!=alinear_fk]['m'].values\n",
    "Mm_vlues1 = dfdr[dfdr['alinear']!=alinear_fk]['M'].values\n",
    "num_fk = dfdr[dfdr['alinear']==alinear_fk]['m'].values\n",
    "Mm_fk = dfdr[dfdr['alinear']==alinear_fk]['M'].values\n",
    "\n",
    "dfdr = dict_data_lr['df_death_rate_versus_alinear']\n",
    "alinear_vlues2 = dfdr[dfdr['alinear']!=alinear_lr]['alinear'].values\n",
    "num_vlues2 = dfdr[dfdr['alinear']!=alinear_lr]['m'].values\n",
    "Mm_vlues2 = dfdr[dfdr['alinear']!=alinear_lr]['M'].values\n",
    "num_lr = dfdr[dfdr['alinear']==alinear_lr]['m'].values\n",
    "Mm_lr = dfdr[dfdr['alinear']==alinear_lr]['M'].values\n",
    "num_lr"
   ]
  },
  {
   "cell_type": "code",
   "execution_count": 248,
   "id": "213957f6",
   "metadata": {
    "ExecuteTime": {
     "end_time": "2023-06-06T18:35:30.876140Z",
     "start_time": "2023-06-06T18:35:30.632730Z"
    },
    "run_control": {
     "marked": true
    }
   },
   "outputs": [
    {
     "data": {
      "image/png": "[encoded data removed]",
      "text/plain": [
       "<Figure size 300x400 with 1 Axes>"
      ]
     },
     "metadata": {},
     "output_type": "display_data"
    }
   ],
   "source": [
    "#plot the panel\n",
    "cmap = 'viridis'\n",
    "num_points = 25\n",
    "c_col = 'rmse_full'\n",
    "# fontsize = 20\n",
    "fontsize=16\n",
    "figsize = (3, 4)  #(5,4)\n",
    "fig, ax = plt.subplots(figsize=figsize)\n",
    "#plot xy values for full models\n",
    "dict_data_fk['df_death_rate_versus_alinear'].plot.scatter(x='alinear',y='m',ax=ax,c='C0',alpha=0.7)#,label='Fenton-Karma')\n",
    "dict_data_lr['df_death_rate_versus_alinear'].plot.scatter(x='alinear',y='m',ax=ax,c='C1',alpha=0.7)#,label='Luo-Rudy')\n",
    "\n",
    "ax.scatter([alinear_fk],[num_fk],marker='o',edgecolor='k',c='C0',#'k',\n",
    "           alpha=1,label='Fenton-Karma')\n",
    "ax.scatter([alinear_lr],[num_lr],marker='o',edgecolor='k',c='C1',#c='k',\n",
    "           alpha=1,label='Luo-Rudy')\n",
    "\n",
    "#plot dotted line at 4/3\n",
    "xv=np.linspace(0,120,10)\n",
    "ax.plot(xv,0.*xv+4/3,':',color='gray')#,'k--',lw=2)\n",
    "#format plot\n",
    "format_plot(ax=ax,xlabel=r'$a$ (cm$^2$/s)',ylabel=r'$\\nu_-$',use_loglog=False,fontsize=fontsize)\n",
    "ax.set_xticks([0,25,50,75,100])\n",
    "ax.tick_params(top=True, right=True,direction='in',which='both')\n",
    "\n",
    "# AddLegend(ax=ax,xy=(0.1,0.990),fontsize=fontsize-3)\n",
    "# leg = AddLegend(ax=ax,xy=(0.1,0.25),fontsize=fontsize-3)\n",
    "leg = AddLegend(ax=ax,xy=(0.065,0.25),fontsize=fontsize-2)\n",
    "ax.set_ylim([0.1,3])\n",
    "plt.show()"
   ]
  },
  {
   "cell_type": "code",
   "execution_count": 253,
   "id": "47a769a6",
   "metadata": {
    "ExecuteTime": {
     "end_time": "2023-06-06T18:36:57.479621Z",
     "start_time": "2023-06-06T18:36:56.994057Z"
    }
   },
   "outputs": [
    {
     "data": {
      "image/png": "[encoded data removed]",
      "text/plain": [
       "<Figure size 300x400 with 1 Axes>"
      ]
     },
     "metadata": {},
     "output_type": "display_data"
    }
   ],
   "source": [
    "#plot the panel\n",
    "cmap = 'viridis'\n",
    "num_points = 25\n",
    "c_col = 'rmse_full'\n",
    "# fontsize = 20\n",
    "fontsize=16\n",
    "figsize = (3, 4)  #(5,4)\n",
    "fig, ax = plt.subplots(figsize=figsize)\n",
    "#plot xy values for full models\n",
    "dict_data_fk['df_death_rate_versus_alinear'].plot.scatter(x='alinear',y='M',ax=ax,c='C0',alpha=0.7)#,label='Fenton-Karma')\n",
    "dict_data_lr['df_death_rate_versus_alinear'].plot.scatter(x='alinear',y='M',ax=ax,c='C1',alpha=0.7)#,label='Luo-Rudy')\n",
    "\n",
    "ax.scatter([alinear_fk],[Mm_fk],marker='o',edgecolor='k',c='C0',#'k',\n",
    "           alpha=1,label='Fenton-Karma')\n",
    "ax.scatter([alinear_lr],[Mm_lr],marker='o',edgecolor='k',c='C1',#c='k',\n",
    "           alpha=1,label='Luo-Rudy')\n",
    "\n",
    "\n",
    "#format plot\n",
    "format_plot(ax=ax,xlabel=r'$a$ (cm$^2$/s)',ylabel=r'$M_-$ (Hz/cm$^2)$',use_loglog=False,fontsize=fontsize)\n",
    "ax.set_xticks([0,25,50,75,100])\n",
    "ax.tick_params(top=True, right=True,direction='in',which='both')\n",
    "ax.set_xscale('log')\n",
    "ax.set_yscale('log')\n",
    "# AddLegend(ax=ax,xy=(0.1,0.990),fontsize=fontsize-3)\n",
    "# leg = AddLegend(ax=ax,xy=(0.1,0.25),fontsize=fontsize-3)\n",
    "leg = AddLegend(ax=ax,xy=(0.065,0.25),fontsize=fontsize-2)\n",
    "ax.set_ylim([1,50])\n",
    "\n",
    "#####################\n",
    "# plot the legend\n",
    "#####################\n",
    "#get 2 token points for either of the full models\n",
    "#LR\n",
    "num = 1/3 # 1.638 # ±0.017\n",
    "# xlst=[0.14,0.8]\n",
    "xlst=[1e1,1e2]\n",
    "# y1 = 9\n",
    "y1 = 8\n",
    "y2 = y1 * (xlst[1]/xlst[0])**num\n",
    "ylst=[y1,y2]\n",
    "xlst_lr = list(xlst)\n",
    "ylst_lr = list(ylst)\n",
    "\n",
    "#FK\n",
    "num = 1/3 # 1.88 # ±0.03\n",
    "# xlst=[1.4,8]\n",
    "# xlst=[7.,1e3]\n",
    "# y1 = 14\n",
    "y1 = 15\n",
    "y2 = y1 * (xlst[1]/xlst[0])**num\n",
    "ylst=[y1,y2]\n",
    "xlst_fk = list(xlst)\n",
    "ylst_fk = list(ylst)\n",
    "\n",
    "\n",
    "#mark the slope corresponding to the FK model\n",
    "ax.plot(xlst_fk,ylst_fk,':',color='gray')\n",
    "#mark the slope corresponding to the LR model\n",
    "ax.plot(xlst_lr,ylst_lr,':',color='gray')\n",
    "#TOOD(in .odg): annotate slope marker as $nu_-$\n",
    "plt.show()"
   ]
  },
  {
   "cell_type": "markdown",
   "id": "a615f076",
   "metadata": {},
   "source": [
    "# recall birth rates"
   ]
  },
  {
   "cell_type": "code",
   "execution_count": 256,
   "id": "25d8c2cd",
   "metadata": {
    "ExecuteTime": {
     "end_time": "2023-06-06T18:42:09.400558Z",
     "start_time": "2023-06-06T18:42:09.391473Z"
    }
   },
   "outputs": [],
   "source": [
    "birth_rate_dir_fk = f'{nb_dir}/data/full_results/data_fig4_timothy_fk_up2_rescaled_per_tt.csv'\n",
    "birth_rate_dir_lr = f'{nb_dir}/data/full_results/data_fig4_timothy_lr_up2_rescaled_per_tt.csv'\n",
    "df_birth_fk = pd.read_csv(birth_rate_dir_fk)\n",
    "df_birth_lr = pd.read_csv(birth_rate_dir_lr)\n",
    "#scale from kHz to Hz\n",
    "df_birth_fk['w']*=1e3\n",
    "df_birth_lr['w']*=1e3"
   ]
  },
  {
   "cell_type": "code",
   "execution_count": 259,
   "id": "786fd0d1",
   "metadata": {
    "ExecuteTime": {
     "end_time": "2023-06-06T18:44:18.880424Z",
     "start_time": "2023-06-06T18:44:18.874772Z"
    }
   },
   "outputs": [
    {
     "name": "stdout",
     "output_type": "stream",
     "text": [
      "creation rate density powerlaw fits:\n",
      "m = 0.229594 +/- 0.010098\n",
      "M = 0.864210 +/- 0.002349 Hz/cm^2; B=0.529597 +/- 0.020570\n",
      "RMSE=0.0215 Hz/cm^2; R^2=0.9655; MPE=3.0209%; N=73\n",
      "m = 0.714755 +/- 0.009768\n",
      "M = 3.277073 +/- 0.102643 Hz/cm^2; B=5.262676 +/- 0.107278\n",
      "RMSE=0.0417 Hz/cm^2; R^2=0.9971; MPE=4.2323%; N=62\n"
     ]
    }
   ],
   "source": [
    "# DONE: compute powerlaw fits of birth rates wjr\n",
    "print(f\"creation rate density powerlaw fits:\")\n",
    "dict_fit_birth_fk = print_fit_power_law(x=df_birth_fk['q'].values,y=df_birth_fk['w'].values)\n",
    "dict_fit_birth_lr = print_fit_power_law(x=df_birth_lr['q'].values,y=df_birth_lr['w'].values)\n",
    "\n",
    "# wjr=recall_powerlaw_fits_to_full_models()\n",
    "# print(f\"\\nannihilation rate density powerlaw fits:\")\n",
    "# print(f\"wjr['fk_pbc']:\")\n",
    "# print_dict(wjr['fk_pbc'])\n",
    "# print(f\"\\nwjr['lr_pbc']:\")\n",
    "# print_dict(wjr['lr_pbc'])\n",
    "\n",
    "# print(f\"\\nwjr['fk_pbc']:\")\n",
    "# print_dict(wjr['fk_pbc'])\n",
    "# print(f\"\\nwjr['lr_pbc']:\")\n",
    "# print_dict(wjr['lr_pbc'])"
   ]
  },
  {
   "cell_type": "markdown",
   "id": "4f61f369",
   "metadata": {},
   "source": [
    "# TODO: estimate the mean termination time versus alinear"
   ]
  },
  {
   "cell_type": "code",
   "execution_count": 280,
   "id": "500057f4",
   "metadata": {
    "ExecuteTime": {
     "end_time": "2023-06-06T18:54:48.792925Z",
     "start_time": "2023-06-06T18:54:48.787784Z"
    }
   },
   "outputs": [],
   "source": [
    "amax=9999\n",
    "# num_iter=20 # max num particles to consider divided by two.\n",
    "num_iter=50 # max num particles to consider divided by two."
   ]
  },
  {
   "cell_type": "code",
   "execution_count": 281,
   "id": "ee0e5fe5",
   "metadata": {
    "ExecuteTime": {
     "end_time": "2023-06-06T18:54:49.295272Z",
     "start_time": "2023-06-06T18:54:49.291431Z"
    }
   },
   "outputs": [],
   "source": [
    "# df_death_rate_versus_alinear = dict_data_fk['df_death_rate_versus_alinear']\n",
    "df_death_rate_versus_alinear = dict_data_lr['df_death_rate_versus_alinear']\n",
    "\n",
    "model_name='Luo-Rudy'\n",
    "Mp = dict_fit_birth_lr['M']\n",
    "nup = dict_fit_birth_lr['m']\n",
    "Mm = dict_fit_death_lr['M']\n",
    "num = dict_fit_death_lr['m']"
   ]
  },
  {
   "cell_type": "code",
   "execution_count": 282,
   "id": "62372051",
   "metadata": {
    "ExecuteTime": {
     "end_time": "2023-06-06T18:56:14.344263Z",
     "start_time": "2023-06-06T18:54:49.793658Z"
    }
   },
   "outputs": [
    {
     "name": "stdout",
     "output_type": "stream",
     "text": [
      "Luo-Rudy (A=25 cm^2) with alinear=1.5520 cm^2/s:\n",
      "- mean termination time (correct qs distr): 15.2530 s\n",
      "- mean num particles (correct qs distr): 9.4965\n",
      "- mean num particles (qstar*A): 10.7500\n",
      "Luo-Rudy (A=25 cm^2) with alinear=9.3000 cm^2/s:\n",
      "- mean termination time (correct qs distr): 0.3843 s\n",
      "- mean num particles (correct qs distr): 8.4817\n",
      "- mean num particles (qstar*A): 3.9500\n",
      "Luo-Rudy (A=25 cm^2) with alinear=1.0000 cm^2/s:\n",
      "- mean termination time (correct qs distr): 53.0198 s\n",
      "- mean num particles (correct qs distr): 11.0414\n",
      "- mean num particles (qstar*A): 12.4500\n",
      "Luo-Rudy (A=25 cm^2) with alinear=2.0000 cm^2/s:\n",
      "- mean termination time (correct qs distr): 7.1757 s\n",
      "- mean num particles (correct qs distr): 8.6350\n",
      "- mean num particles (qstar*A): 9.6250\n",
      "Luo-Rudy (A=25 cm^2) with alinear=3.0000 cm^2/s:\n",
      "- mean termination time (correct qs distr): 2.3003 s\n",
      "- mean num particles (correct qs distr): 7.6827\n",
      "- mean num particles (qstar*A): 7.6750\n",
      "Luo-Rudy (A=25 cm^2) with alinear=4.0000 cm^2/s:\n",
      "- mean termination time (correct qs distr): 1.4969 s\n",
      "- mean num particles (correct qs distr): 7.5568\n",
      "- mean num particles (qstar*A): 6.8750\n",
      "Luo-Rudy (A=25 cm^2) with alinear=5.0000 cm^2/s:\n",
      "- mean termination time (correct qs distr): 0.9268 s\n",
      "- mean num particles (correct qs distr): 7.5641\n",
      "- mean num particles (qstar*A): 5.8750\n",
      "Luo-Rudy (A=25 cm^2) with alinear=6.0000 cm^2/s:\n",
      "- mean termination time (correct qs distr): 0.7227 s\n",
      "- mean num particles (correct qs distr): 7.7205\n",
      "- mean num particles (qstar*A): 5.3500\n",
      "Luo-Rudy (A=25 cm^2) with alinear=7.0000 cm^2/s:\n",
      "- mean termination time (correct qs distr): 0.5951 s\n",
      "- mean num particles (correct qs distr): 7.8877\n",
      "- mean num particles (qstar*A): 4.9250\n",
      "Luo-Rudy (A=25 cm^2) with alinear=8.0000 cm^2/s:\n",
      "- mean termination time (correct qs distr): 0.4618 s\n",
      "- mean num particles (correct qs distr): 8.1962\n",
      "- mean num particles (qstar*A): 4.3500\n",
      "Luo-Rudy (A=25 cm^2) with alinear=9.0000 cm^2/s:\n",
      "- mean termination time (correct qs distr): 0.4257 s\n",
      "- mean num particles (correct qs distr): 8.3071\n",
      "- mean num particles (qstar*A): 4.1750\n",
      "Luo-Rudy (A=25 cm^2) with alinear=10.0000 cm^2/s:\n",
      "- mean termination time (correct qs distr): 0.3716 s\n",
      "- mean num particles (correct qs distr): 8.5225\n",
      "- mean num particles (qstar*A): 3.8750\n",
      "Luo-Rudy (A=25 cm^2) with alinear=15.0000 cm^2/s:\n",
      "- mean termination time (correct qs distr): 0.2354 s\n",
      "- mean num particles (correct qs distr): 9.4532\n",
      "- mean num particles (qstar*A): 2.8250\n",
      "Luo-Rudy (A=25 cm^2) with alinear=20.0000 cm^2/s:\n",
      "- mean termination time (correct qs distr): 0.1739 s\n",
      "- mean num particles (correct qs distr): 10.3559\n",
      "- mean num particles (qstar*A): 2.1500\n",
      "Luo-Rudy (A=25 cm^2) with alinear=25.0000 cm^2/s:\n",
      "- mean termination time (correct qs distr): 0.1525 s\n",
      "- mean num particles (correct qs distr): 10.6860\n",
      "- mean num particles (qstar*A): 1.8750\n",
      "Luo-Rudy (A=25 cm^2) with alinear=30.0000 cm^2/s:\n",
      "- mean termination time (correct qs distr): 0.1375 s\n",
      "- mean num particles (correct qs distr): 11.0464\n",
      "- mean num particles (qstar*A): 1.6500\n",
      "Luo-Rudy (A=25 cm^2) with alinear=40.0000 cm^2/s:\n",
      "- mean termination time (correct qs distr): 0.1139 s\n",
      "- mean num particles (correct qs distr): 11.5462\n",
      "- mean num particles (qstar*A): 1.3250\n",
      "Luo-Rudy (A=25 cm^2) with alinear=50.0000 cm^2/s:\n",
      "- mean termination time (correct qs distr): 0.0994 s\n",
      "- mean num particles (correct qs distr): 12.0782\n",
      "- mean num particles (qstar*A): 1.1000\n",
      "Luo-Rudy (A=25 cm^2) with alinear=60.0000 cm^2/s:\n",
      "- mean termination time (correct qs distr): 0.0863 s\n",
      "- mean num particles (correct qs distr): 12.6602\n",
      "- mean num particles (qstar*A): 0.8750\n",
      "Luo-Rudy (A=25 cm^2) with alinear=70.0000 cm^2/s:\n",
      "- mean termination time (correct qs distr): 0.0808 s\n",
      "- mean num particles (correct qs distr): 12.9434\n",
      "- mean num particles (qstar*A): 0.7750\n",
      "Luo-Rudy (A=25 cm^2) with alinear=80.0000 cm^2/s:\n",
      "- mean termination time (correct qs distr): 0.0713 s\n",
      "- mean num particles (correct qs distr): 13.4973\n",
      "- mean num particles (qstar*A): 0.6000\n",
      "Luo-Rudy (A=25 cm^2) with alinear=90.0000 cm^2/s:\n",
      "- mean termination time (correct qs distr): 0.0699 s\n",
      "- mean num particles (correct qs distr): 13.4819\n",
      "- mean num particles (qstar*A): 0.6000\n",
      "Luo-Rudy (A=25 cm^2) with alinear=100.0000 cm^2/s:\n",
      "- mean termination time (correct qs distr): 0.0662 s\n",
      "- mean num particles (correct qs distr): 13.6984\n",
      "- mean num particles (qstar*A): 0.5250\n"
     ]
    }
   ],
   "source": [
    "#format data for extraction\n",
    "# input size of computational domain with pbc\n",
    "# L=5 #cm\n",
    "A=L**2 #cm^2\n",
    "# alinear_lst = [30, 25, 20, 15, 10, 5, 4, 3, 2, 1, 0]\n",
    "# alinear_lst = [30, 25, 20, 15, 10, 5, 4, 3, 2, 1]\n",
    "alinear_lst = list(df_death_rate_versus_alinear.alinear.drop_duplicates().values)\n",
    "printing=True\n",
    "dict_results_master_lst=[]\n",
    "for alinear in alinear_lst:\n",
    "    dg = df_death_rate_versus_alinear [ df_death_rate_versus_alinear['alinear'] == alinear ]\n",
    "    num = float(dg['m'])\n",
    "    Delta_num = float(dg['Delta_m'])\n",
    "    Mm = float(dg['M'])\n",
    "    Delta_Mm = float(dg['Delta_M'])\n",
    "    ################################\n",
    "    # estimate mtt \n",
    "    ################################\n",
    "    #implement model\n",
    "    comp_Wp = get_comp_W(A,nup,Mp)\n",
    "    comp_Wm = get_comp_W(A,num,Mm)\n",
    "    phi = get_phi(comp_Wm,comp_Wp)\n",
    "    eval_tau= get_eval_tau(eval_tau_expression)\n",
    "    #estimate the quasistatic distribution\n",
    "    n_qs,prob_qs = comp_quasistatic_distrib_paired_bdrates(comp_Wm,comp_Wp,num_iter=num_iter)\n",
    "    #estimate the mean termination time\n",
    "    tau = eval_tau(n_qs, prob_qs, phi, comp_Wm, comp_Wp, maxinf_num_inner_sum=num_iter, printing=False)#,**kwargs)\n",
    "    \n",
    "    #not used elsewhere\n",
    "    # tscale=1e-3\n",
    "    # tau*=tscale\n",
    "    \n",
    "    #estimate the mean number of particles\n",
    "    nbar = np.sum(prob_qs*n_qs)\n",
    "    nsqbar = np.sum(prob_qs*(n_qs**2))\n",
    "    xv = np.arange(0.02, 1,0.001)\n",
    "    qstar,wstar = comp_powerlaw_intersection(Mp,nup,Mm,num,xv=xv)\n",
    "    #record\n",
    "    dict_results_master_ = dict(\n",
    "        model=model_name,\n",
    "        alinear=alinear,\n",
    "        tau=tau,\n",
    "        nbar=nbar,\n",
    "        qstarA=qstar*A,\n",
    "        A=A,\n",
    "        Mp=Mp,nup=nup,\n",
    "        Mm=Mm,num=num,\n",
    "        qstar=qstar,wstar=wstar,\n",
    "        num_iter=num_iter,\n",
    "        nsqbar=nsqbar)\n",
    "    #print summary\n",
    "    if printing:\n",
    "        print(f\"{model_name} ({A=:.0f} cm^2) with {alinear=:.4f} cm^2/s:\")\n",
    "        print(f\"- mean termination time (correct qs distr): {tau:.4f} s\")    \n",
    "        print(f\"- mean num particles (correct qs distr): {nbar:.4f}\")\n",
    "        print(f\"- mean num particles (qstar*A): {qstar*A:.4f}\") \n",
    "    #record\n",
    "    dict_results_master_lst.append(dict_results_master_)\n",
    "\n",
    "df_results_master = pd.DataFrame(dict_results_master_lst)\n",
    "df_results_master\n",
    "\n",
    "#extract xy\n",
    "df_results_master.sort_values(by='alinear',inplace=True)\n",
    "boo = (df_results_master['alinear']<=amax)&(df_results_master['alinear']>0)\n",
    "xlr=df_results_master['alinear'].values[boo]\n",
    "ylr=df_results_master['tau'].values[boo]"
   ]
  },
  {
   "cell_type": "code",
   "execution_count": 283,
   "id": "c1e483ec",
   "metadata": {
    "ExecuteTime": {
     "end_time": "2023-06-06T18:56:14.351722Z",
     "start_time": "2023-06-06T18:56:14.347549Z"
    }
   },
   "outputs": [],
   "source": [
    "df_death_rate_versus_alinear = dict_data_fk['df_death_rate_versus_alinear']\n",
    "# df_death_rate_versus_alinear = dict_data_lr['df_death_rate_versus_alinear']\n",
    "\n",
    "model_name='Fenton-Karma'\n",
    "Mp = dict_fit_birth_fk['M']\n",
    "nup = dict_fit_birth_fk['m']\n",
    "Mm = dict_fit_death_fk['M']\n",
    "num = dict_fit_death_fk['m']"
   ]
  },
  {
   "cell_type": "code",
   "execution_count": 284,
   "id": "8fe6b041",
   "metadata": {
    "ExecuteTime": {
     "end_time": "2023-06-06T18:57:42.771456Z",
     "start_time": "2023-06-06T18:56:14.353546Z"
    }
   },
   "outputs": [
    {
     "name": "stdout",
     "output_type": "stream",
     "text": [
      "Fenton-Karma (A=25 cm^2) with alinear=1.5520 cm^2/s:\n",
      "- mean termination time (correct qs distr): 17.2154 s\n",
      "- mean num particles (correct qs distr): 7.8961\n",
      "- mean num particles (qstar*A): 8.2500\n",
      "Fenton-Karma (A=25 cm^2) with alinear=9.3000 cm^2/s:\n",
      "- mean termination time (correct qs distr): 0.9982 s\n",
      "- mean num particles (correct qs distr): 7.8463\n",
      "- mean num particles (qstar*A): 4.6000\n",
      "Fenton-Karma (A=25 cm^2) with alinear=1.0000 cm^2/s:\n",
      "- mean termination time (correct qs distr): 50.3876 s\n",
      "- mean num particles (correct qs distr): 8.7712\n",
      "- mean num particles (qstar*A): 9.3750\n",
      "Fenton-Karma (A=25 cm^2) with alinear=2.0000 cm^2/s:\n",
      "- mean termination time (correct qs distr): 11.6021 s\n",
      "- mean num particles (correct qs distr): 7.6282\n",
      "- mean num particles (qstar*A): 7.8250\n",
      "Fenton-Karma (A=25 cm^2) with alinear=3.0000 cm^2/s:\n",
      "- mean termination time (correct qs distr): 5.0375 s\n",
      "- mean num particles (correct qs distr): 7.2042\n",
      "- mean num particles (qstar*A): 6.8250\n",
      "Fenton-Karma (A=25 cm^2) with alinear=4.0000 cm^2/s:\n",
      "- mean termination time (correct qs distr): 3.5041 s\n",
      "- mean num particles (correct qs distr): 7.1334\n",
      "- mean num particles (qstar*A): 6.3500\n",
      "Fenton-Karma (A=25 cm^2) with alinear=5.0000 cm^2/s:\n",
      "- mean termination time (correct qs distr): 2.1670 s\n",
      "- mean num particles (correct qs distr): 7.2090\n",
      "- mean num particles (qstar*A): 5.7250\n",
      "Fenton-Karma (A=25 cm^2) with alinear=6.0000 cm^2/s:\n",
      "- mean termination time (correct qs distr): 1.7872 s\n",
      "- mean num particles (correct qs distr): 7.3019\n",
      "- mean num particles (qstar*A): 5.4500\n",
      "Fenton-Karma (A=25 cm^2) with alinear=7.0000 cm^2/s:\n",
      "- mean termination time (correct qs distr): 1.4823 s\n",
      "- mean num particles (correct qs distr): 7.4429\n",
      "- mean num particles (qstar*A): 5.1750\n",
      "Fenton-Karma (A=25 cm^2) with alinear=8.0000 cm^2/s:\n",
      "- mean termination time (correct qs distr): 1.2190 s\n",
      "- mean num particles (correct qs distr): 7.6194\n",
      "- mean num particles (qstar*A): 4.9000\n",
      "Fenton-Karma (A=25 cm^2) with alinear=9.0000 cm^2/s:\n",
      "- mean termination time (correct qs distr): 1.0047 s\n",
      "- mean num particles (correct qs distr): 7.8305\n",
      "- mean num particles (qstar*A): 4.6250\n",
      "Fenton-Karma (A=25 cm^2) with alinear=10.0000 cm^2/s:\n",
      "- mean termination time (correct qs distr): 0.8525 s\n",
      "- mean num particles (correct qs distr): 8.0742\n",
      "- mean num particles (qstar*A): 4.3750\n",
      "Fenton-Karma (A=25 cm^2) with alinear=15.0000 cm^2/s:\n",
      "- mean termination time (correct qs distr): 0.5631 s\n",
      "- mean num particles (correct qs distr): 8.8080\n",
      "- mean num particles (qstar*A): 3.7250\n",
      "Fenton-Karma (A=25 cm^2) with alinear=20.0000 cm^2/s:\n",
      "- mean termination time (correct qs distr): 0.4209 s\n",
      "- mean num particles (correct qs distr): 9.4169\n",
      "- mean num particles (qstar*A): 3.2750\n",
      "Fenton-Karma (A=25 cm^2) with alinear=25.0000 cm^2/s:\n",
      "- mean termination time (correct qs distr): 0.3501 s\n",
      "- mean num particles (correct qs distr): 9.8324\n",
      "- mean num particles (qstar*A): 2.9750\n",
      "Fenton-Karma (A=25 cm^2) with alinear=30.0000 cm^2/s:\n",
      "- mean termination time (correct qs distr): 0.3033 s\n",
      "- mean num particles (correct qs distr): 10.2022\n",
      "- mean num particles (qstar*A): 2.7750\n",
      "Fenton-Karma (A=25 cm^2) with alinear=40.0000 cm^2/s:\n",
      "- mean termination time (correct qs distr): 0.2401 s\n",
      "- mean num particles (correct qs distr): 10.9493\n",
      "- mean num particles (qstar*A): 2.4000\n",
      "Fenton-Karma (A=25 cm^2) with alinear=50.0000 cm^2/s:\n",
      "- mean termination time (correct qs distr): 0.2052 s\n",
      "- mean num particles (correct qs distr): 11.3189\n",
      "- mean num particles (qstar*A): 2.1750\n",
      "Fenton-Karma (A=25 cm^2) with alinear=60.0000 cm^2/s:\n",
      "- mean termination time (correct qs distr): 0.1881 s\n",
      "- mean num particles (correct qs distr): 11.4141\n",
      "- mean num particles (qstar*A): 2.0500\n",
      "Fenton-Karma (A=25 cm^2) with alinear=70.0000 cm^2/s:\n",
      "- mean termination time (correct qs distr): 0.1658 s\n",
      "- mean num particles (correct qs distr): 11.8997\n",
      "- mean num particles (qstar*A): 1.8750\n",
      "Fenton-Karma (A=25 cm^2) with alinear=80.0000 cm^2/s:\n",
      "- mean termination time (correct qs distr): 0.1603 s\n",
      "- mean num particles (correct qs distr): 11.8993\n",
      "- mean num particles (qstar*A): 1.8250\n",
      "Fenton-Karma (A=25 cm^2) with alinear=90.0000 cm^2/s:\n",
      "- mean termination time (correct qs distr): 0.1445 s\n",
      "- mean num particles (correct qs distr): 12.3007\n",
      "- mean num particles (qstar*A): 1.7000\n",
      "Fenton-Karma (A=25 cm^2) with alinear=100.0000 cm^2/s:\n",
      "- mean termination time (correct qs distr): 0.1417 s\n",
      "- mean num particles (correct qs distr): 12.2572\n",
      "- mean num particles (qstar*A): 1.6750\n"
     ]
    }
   ],
   "source": [
    "#format data for extraction\n",
    "# input size of computational domain with pbc\n",
    "# L=5 #cm\n",
    "A=L**2 #cm^2\n",
    "# num_iter=20 # max num particles to consider divided by two.\n",
    "# alinear_lst = [30, 25, 20, 15, 10, 5, 4, 3, 2, 1, 0]\n",
    "# alinear_lst = [30, 25, 20, 15, 10, 5, 4, 3, 2, 1]\n",
    "alinear_lst = list(df_death_rate_versus_alinear.alinear.drop_duplicates().values)\n",
    "printing=True\n",
    "dict_results_master_lst=[]\n",
    "for alinear in alinear_lst:\n",
    "    dg = df_death_rate_versus_alinear [ df_death_rate_versus_alinear['alinear'] == alinear ]\n",
    "    num = float(dg['m'])\n",
    "    Delta_num = float(dg['Delta_m'])\n",
    "    Mm = float(dg['M'])\n",
    "    Delta_Mm = float(dg['Delta_M'])\n",
    "    ################################\n",
    "    # estimate mtt \n",
    "    ################################\n",
    "    #implement model\n",
    "    comp_Wp = get_comp_W(A,nup,Mp)\n",
    "    comp_Wm = get_comp_W(A,num,Mm)\n",
    "    phi = get_phi(comp_Wm,comp_Wp)\n",
    "    eval_tau= get_eval_tau(eval_tau_expression)\n",
    "    #estimate the quasistatic distribution\n",
    "    n_qs,prob_qs = comp_quasistatic_distrib_paired_bdrates(comp_Wm,comp_Wp,num_iter=num_iter)\n",
    "    #estimate the mean termination time\n",
    "    tau = eval_tau(n_qs, prob_qs, phi, comp_Wm, comp_Wp, maxinf_num_inner_sum=num_iter, printing=False)#,**kwargs)\n",
    "    \n",
    "    #not used elsewhere\n",
    "    # tscale=1e-3\n",
    "    # tau*=tscale\n",
    "    \n",
    "    #estimate the mean number of particles\n",
    "    nbar = np.sum(prob_qs*n_qs)\n",
    "    nsqbar = np.sum(prob_qs*(n_qs**2))\n",
    "    xv = np.arange(0.02, 1,0.001)\n",
    "    qstar,wstar = comp_powerlaw_intersection(Mp,nup,Mm,num,xv=xv)\n",
    "    #record\n",
    "    dict_results_master_ = dict(\n",
    "        model=model_name,\n",
    "        alinear=alinear,\n",
    "        tau=tau,\n",
    "        nbar=nbar,\n",
    "        qstarA=qstar*A,\n",
    "        A=A,\n",
    "        Mp=Mp,nup=nup,\n",
    "        Mm=Mm,num=num,\n",
    "        qstar=qstar,wstar=wstar,\n",
    "        num_iter=num_iter,\n",
    "        nsqbar=nsqbar)\n",
    "    #print summary\n",
    "    if printing:\n",
    "        print(f\"{model_name} ({A=:.0f} cm^2) with {alinear=:.4f} cm^2/s:\")\n",
    "        print(f\"- mean termination time (correct qs distr): {tau:.4f} s\")    \n",
    "        print(f\"- mean num particles (correct qs distr): {nbar:.4f}\")\n",
    "        print(f\"- mean num particles (qstar*A): {qstar*A:.4f}\") \n",
    "    #record\n",
    "    dict_results_master_lst.append(dict_results_master_)\n",
    "\n",
    "df_results_master = pd.DataFrame(dict_results_master_lst)\n",
    "\n",
    "#extract xy\n",
    "df_results_master.sort_values(by='alinear',inplace=True)\n",
    "boo = (df_results_master['alinear']<=amax)&(df_results_master['alinear']>0)\n",
    "xfk=df_results_master['alinear'].values[boo]\n",
    "yfk=df_results_master['tau'].values[boo]"
   ]
  },
  {
   "cell_type": "code",
   "execution_count": 285,
   "id": "58739886",
   "metadata": {
    "ExecuteTime": {
     "end_time": "2023-06-06T18:57:42.776707Z",
     "start_time": "2023-06-06T18:57:42.773850Z"
    }
   },
   "outputs": [],
   "source": [
    "aline_fk = 1.552\n",
    "aline_lr = 9.3\n",
    "tau_fk = yfk[xfk==aline_fk][0]\n",
    "tau_lr = ylr[xlr==aline_lr][0]"
   ]
  },
  {
   "cell_type": "code",
   "execution_count": 286,
   "id": "b3355a40",
   "metadata": {
    "ExecuteTime": {
     "end_time": "2023-06-06T18:57:43.691270Z",
     "start_time": "2023-06-06T18:57:42.780143Z"
    }
   },
   "outputs": [
    {
     "data": {
      "image/png": "[encoded data removed]",
      "text/plain": [
       "<Figure size 300x400 with 1 Axes>"
      ]
     },
     "metadata": {},
     "output_type": "display_data"
    }
   ],
   "source": [
    "figsize=(3,4)\n",
    "fontsize=15\n",
    "alpha=0.7\n",
    "fig,ax=plt.subplots(figsize=figsize)\n",
    "# ax.scatter(x=x,\n",
    "#            y=y+tauinfty,#**0.5,#**2,#\n",
    "#            c='k')\n",
    "ax.scatter(xfk,yfk,c='C0',alpha=alpha)#,label='Fenton-Karma')\n",
    "ax.scatter(xlr,ylr,c='C1',alpha=alpha)#,label='Luo-Rudy')\n",
    "ax.scatter([aline_fk],[tau_fk],marker='o',edgecolor='k',c='C0',#'k',\n",
    "           alpha=1,label='Fenton-Karma')\n",
    "ax.scatter([aline_lr],[tau_lr],marker='o',edgecolor='k',c='C1',#c='k',\n",
    "           alpha=1,label='Luo-Rudy')\n",
    "format_plot(ax=ax,xlabel=r'$a$ (cm$^2/$s)',ylabel=r'$\\tau$  (s)',fontsize=16)\n",
    "ax.set_xscale('log')\n",
    "ax.set_yscale('log')\n",
    "ax.tick_params(top=True, right=True,direction='in',which='both')\n",
    "ax.tick_params(top=True, right=True,direction='in',which='minor',length=3)\n",
    "ax.set_ylim([1e-2,3000])\n",
    "leg = ax.legend(loc='upper right',fontsize=fontsize-2)#,frameon=False,ncol=1)\n",
    "# leg = ax.legend(loc='lower right',fontsize=fontsize-3.,frameon=False,ncol=1)\n",
    "for lh in leg.legendHandles: \n",
    "    lh.set_alpha(1)\n",
    "plt.show()"
   ]
  },
  {
   "cell_type": "code",
   "execution_count": null,
   "id": "c24e718c",
   "metadata": {},
   "outputs": [],
   "source": []
  }
 ],
 "metadata": {
  "hide_input": false,
  "kernelspec": {
   "display_name": "Python 3 (ipykernel)",
   "language": "python",
   "name": "python3"
  },
  "language_info": {
   "codemirror_mode": {
    "name": "ipython",
    "version": 3
   },
   "file_extension": ".py",
   "mimetype": "text/x-python",
   "name": "python",
   "nbconvert_exporter": "python",
   "pygments_lexer": "ipython3",
   "version": "3.9.5"
  },
  "nbTranslate": {
   "displayLangs": [
    "*"
   ],
   "hotkey": "alt-t",
   "langInMainMenu": true,
   "sourceLang": "en",
   "targetLang": "fr",
   "useGoogleTranslate": true
  },
  "toc": {
   "base_numbering": 1,
   "nav_menu": {},
   "number_sections": true,
   "sideBar": true,
   "skip_h1_title": false,
   "title_cell": "Table of Contents",
   "title_sidebar": "Contents",
   "toc_cell": false,
   "toc_position": {},
   "toc_section_display": true,
   "toc_window_display": false
  }
 },
 "nbformat": 4,
 "nbformat_minor": 5
}
