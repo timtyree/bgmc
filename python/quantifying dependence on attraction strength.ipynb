{
 "cells": [
  {
   "cell_type": "markdown",
   "id": "f33d425f",
   "metadata": {},
   "source": [
    "# quantifying dependence of annihilation rate on attraction strength\n",
    "Tim Tyree<br>\n",
    "6.6.2023"
   ]
  },
  {
   "cell_type": "code",
   "execution_count": 1,
   "id": "8bcbe07f",
   "metadata": {
    "ExecuteTime": {
     "end_time": "2024-02-11T00:54:59.323076Z",
     "start_time": "2024-02-11T00:54:55.556107Z"
    }
   },
   "outputs": [
    {
     "name": "stderr",
     "output_type": "stream",
     "text": [
      "/Users/timothytyree/opt/miniconda3/envs/pyenv/lib/python3.9/site-packages/statsmodels/compat/pandas.py:61: FutureWarning: pandas.Int64Index is deprecated and will be removed from pandas in a future version. Use pandas.Index with the appropriate dtype instead.\n",
      "  from pandas import Int64Index as NumericIndex\n"
     ]
    },
    {
     "name": "stdout",
     "output_type": "stream",
     "text": [
      "annihilation rate density powerlaw fits:\n",
      "m = 1.877234 +/- 0.024488\n",
      "M = 5.572316 +/- 0.299027 Hz/cm^2; B=2.496963 +/- 0.039522\n",
      "RMSE=0.1386 Hz/cm^2; R^2=0.9969; MPE=6.9910%; N=73\n",
      "m = 1.637556 +/- 0.016847\n",
      "M = 16.735599 +/- 0.829136 Hz/cm^2; B=5.587740 +/- 0.065801\n",
      "RMSE=0.1340 Hz/cm^2; R^2=0.9973; MPE=7.2488%; N=100\n"
     ]
    }
   ],
   "source": [
    "from lib.my_initialization import *\n",
    "\n",
    "import subprocess\n",
    "\n",
    "plt.plot([1]*4)\n",
    "plt.close()\n",
    "#reset matplotlib\n",
    "import matplotlib\n",
    "matplotlib.rcParams.update(matplotlib.rcParamsDefault)\n",
    "mpl.rcParams.update(matplotlib.rcParamsDefault) #reset matplotlib\n",
    "\n",
    "kwargs = dict(data_fk_dir=f'{nb_dir}/data/full_results/data_fig4_vidmar_fk_tt.csv',\n",
    "              data_lr_dir=f'{nb_dir}/data/full_results/data_fig4_vidmar_lr_tt.csv',\n",
    "             min_num_particles=9)\n",
    "\n",
    "dict_wjr = recall_death_rates_vidmar_rappel(**kwargs)\n",
    "fk=dict_wjr['fk']\n",
    "lr=dict_wjr['lr']\n",
    "print(f\"annihilation rate density powerlaw fits:\")\n",
    "dict_fit_death_fk = print_fit_power_law(x=fk['q'].values,y=fk['w'].values)\n",
    "dict_fit_death_lr = print_fit_power_law(x=lr['q'].values,y=lr['w'].values)"
   ]
  },
  {
   "cell_type": "markdown",
   "id": "d71851d6",
   "metadata": {},
   "source": [
    "# define module"
   ]
  },
  {
   "cell_type": "code",
   "execution_count": 2,
   "id": "b86cc3b4",
   "metadata": {
    "ExecuteTime": {
     "end_time": "2024-02-11T00:55:03.247456Z",
     "start_time": "2024-02-11T00:55:03.240143Z"
    }
   },
   "outputs": [],
   "source": [
    "# @njit\n",
    "def compute_annihilation_rates_lpm(D,alinear,r,kappa,N0_lst,L,nb_dir,dt=1e-4,niter=500,neighbor=0,force_code=2,seed=0,**kwargs):\n",
    "    \"\"\"\n",
    "    Example Usage:\n",
    "df_rates = compute_annihilation_rates_lpm(D,alinear,r,kappa,N0_lst,L,nb_dir)#,dt=1e-4,niter=500,neighbor=0,force_code=2,seed=0,**kwargs)\n",
    "    \"\"\"\n",
    "\n",
    "    task_lst=[]\n",
    "    # for N0 in range(2,100,2):\n",
    "    for N0 in N0_lst:\n",
    "        input_string = f\"{r} {D} {L} {kappa} {alinear} 1 {dt} {dt} {N0} {niter} {seed} 0 0 0 0 {neighbor} {force_code}\"\n",
    "        call_string = f\"{nb_dir}/../c/attractive/return_CollTime.x <<< '{input_string}'\"\n",
    "        call_string+= \" | grep 'Tavg=' | grep -Eo '[+-]?[0-9]+([.][0-9]+)?'\"\n",
    "    #     call_string = f'/Users/timothytyree/Documents/GitHub/bgmc/c/attractive/return_CollTime.x < \"{input_string}\"'\n",
    "    #     call_string+= '| grep \"Tavg=\" | grep -Eo \"[+-]?[0-9]+([.][0-9]+)?\"'\n",
    "        task_lst.append(call_string)\n",
    "#     print(f\"{len(task_lst)=}\")\n",
    "    call_string\n",
    "    def subroutine(call_string):\n",
    "        p=subprocess.Popen(call_string,stdout=subprocess.PIPE,shell=True)\n",
    "        return eval(p.communicate()[0])\n",
    "#         return eval(subprocess.Popen(call_string,stdout=subprocess.PIPE,shell=True))\n",
    "#         return eval(subprocess.check_output(call_string, shell=True))\n",
    "    retval=[]\n",
    "    for call_string in task_lst:\n",
    "        retval.append(subroutine(call_string))\n",
    "#     len(retval)\n",
    "    A=L**2\n",
    "    q_lst=[]\n",
    "    w_lst=[]\n",
    "    Tavg_lst=[]\n",
    "    for N0,Tavg in zip(N0_lst,retval):\n",
    "        rate = 1/Tavg\n",
    "        w = rate/A\n",
    "    #     q = (N0+2)/A\n",
    "        q = N0/A\n",
    "        #record\n",
    "        w_lst.append(w)\n",
    "        q_lst.append(q)\n",
    "        Tavg_lst.append(Tavg)\n",
    "    df_rates = pd.DataFrame(dict(\n",
    "        N0=N0_lst,\n",
    "        Tavg=Tavg_lst,\n",
    "        q=q_lst,\n",
    "        w=w_lst))\n",
    "    return df_rates"
   ]
  },
  {
   "cell_type": "code",
   "execution_count": 3,
   "id": "500aa4c1",
   "metadata": {
    "ExecuteTime": {
     "end_time": "2024-02-11T00:55:03.805708Z",
     "start_time": "2024-02-11T00:55:03.802474Z"
    }
   },
   "outputs": [],
   "source": [
    "import multiprocess\n",
    "def eval_routine_multiprocess(routine, task_lst, ncores):\n",
    "    p = multiprocess.Pool(ncores)\n",
    "    return p.map(routine, task_lst)\n",
    "    "
   ]
  },
  {
   "cell_type": "code",
   "execution_count": 4,
   "id": "165cda18",
   "metadata": {
    "ExecuteTime": {
     "end_time": "2024-02-11T00:55:04.201514Z",
     "start_time": "2024-02-11T00:55:04.198883Z"
    }
   },
   "outputs": [],
   "source": [
    "# N0=100;seed=0;force_code=2\n",
    "# input_string = f\"{r} {D} {L} {kappa} {alinear} 1 {dt} {dt} {N0} {niter} {seed} 0 0 0 0 {neighbor} {force_code}\"\n",
    "# call_string = f\"{nb_dir}/../c/attractive/return_CollTime.x <<< '{input_string}'\"\n",
    "# call_string+= \" | grep 'Tavg=' | grep -Eo '[+-]?[0-9]+([.][0-9]+)?'\"\n",
    "# # subprocess.Popen(call_string)\n",
    "# p=subprocess.Popen(call_string,stdout=subprocess.PIPE,shell=True)\n",
    "# eval(p.communicate()[0])"
   ]
  },
  {
   "cell_type": "code",
   "execution_count": 5,
   "id": "af7ccd60",
   "metadata": {
    "ExecuteTime": {
     "end_time": "2024-02-11T00:55:04.644083Z",
     "start_time": "2024-02-11T00:55:04.641058Z"
    }
   },
   "outputs": [],
   "source": [
    "# dist_pbc?"
   ]
  },
  {
   "cell_type": "markdown",
   "id": "c505c690",
   "metadata": {},
   "source": [
    "# consistency check from return_CollTime.c"
   ]
  },
  {
   "cell_type": "markdown",
   "id": "0b80d58b",
   "metadata": {},
   "source": [
    "with files generated as in http://localhost:8890/notebooks/consistency%20checks%20for%20lpm%20annihilation%20simulation.ipynb"
   ]
  },
  {
   "cell_type": "code",
   "execution_count": 6,
   "id": "31d6335a",
   "metadata": {
    "ExecuteTime": {
     "end_time": "2024-02-11T00:55:05.907512Z",
     "start_time": "2024-02-11T00:55:05.904299Z"
    }
   },
   "outputs": [],
   "source": [
    "# cfolder=f\"{nb_dir}/../c/attractive\"\n",
    "cfolder='/Users/timothytyree/Documents/GitHub/bgmc/c/attractive'\n",
    "# cfolder='/home/timothytyree/Documents/GitHub/bgmc/c/attractive'\n",
    "os.chdir(cfolder)"
   ]
  },
  {
   "cell_type": "code",
   "execution_count": 7,
   "id": "ea82da4d",
   "metadata": {
    "ExecuteTime": {
     "end_time": "2024-02-11T00:55:06.561265Z",
     "start_time": "2024-02-11T00:55:06.420591Z"
    }
   },
   "outputs": [
    {
     "name": "stdout",
     "output_type": "stream",
     "text": [
      "/Users/timothytyree/Documents/GitHub/bgmc/c/attractive\r\n"
     ]
    }
   ],
   "source": [
    "!pwd"
   ]
  },
  {
   "cell_type": "code",
   "execution_count": 8,
   "id": "36393031",
   "metadata": {
    "ExecuteTime": {
     "end_time": "2024-02-11T00:55:52.703801Z",
     "start_time": "2024-02-11T00:55:06.891723Z"
    }
   },
   "outputs": [
    {
     "data": {
      "text/plain": [
       "0"
      ]
     },
     "execution_count": 8,
     "metadata": {},
     "output_type": "execute_result"
    }
   ],
   "source": [
    "#compile the executable\n",
    "#estimated run time ~ 45 seconds\n",
    "os.system('./gcc.sh')"
   ]
  },
  {
   "cell_type": "code",
   "execution_count": 9,
   "id": "da76276a",
   "metadata": {
    "ExecuteTime": {
     "end_time": "2024-02-11T00:55:52.709840Z",
     "start_time": "2024-02-11T00:55:52.706613Z"
    }
   },
   "outputs": [],
   "source": [
    "N0_lst=list(range(2,102,2))"
   ]
  },
  {
   "cell_type": "code",
   "execution_count": 10,
   "id": "55c35ebb",
   "metadata": {
    "ExecuteTime": {
     "end_time": "2024-02-11T00:55:52.720939Z",
     "start_time": "2024-02-11T00:55:52.711601Z"
    }
   },
   "outputs": [],
   "source": [
    "L=5\n",
    "# L=10\n",
    "# rate_dir_fk = f'/Users/timothytyree/Documents/GitHub/bgmc/python/data/control_data/lpm_table1_c_fk_L_{L}.csv'\n",
    "# rate_dir_lr = f'/Users/timothytyree/Documents/GitHub/bgmc/python/data/control_data/lpm_table1_c_lr_L_{L}.csv'\n",
    "rate_dir_fk = f'/Users/timothytyree/Documents/GitHub/bgmc/python/data/control_data/lpm_table1_c_fk_L_{L}_dt_1e-6.csv'\n",
    "rate_dir_lr = f'/Users/timothytyree/Documents/GitHub/bgmc/python/data/control_data/lpm_table1_c_lr_L_{L}_dt_1e-6.csv'\n",
    "df_rates_fk=pd.read_csv(rate_dir_fk)\n",
    "df_rates_lr=pd.read_csv(rate_dir_lr)"
   ]
  },
  {
   "cell_type": "code",
   "execution_count": 11,
   "id": "09c8e403",
   "metadata": {
    "ExecuteTime": {
     "end_time": "2024-02-11T00:55:53.789086Z",
     "start_time": "2024-02-11T00:55:52.723331Z"
    }
   },
   "outputs": [
    {
     "data": {
      "image/png": "[encoded data removed]",
      "text/plain": [
       "<Figure size 400x400 with 1 Axes>"
      ]
     },
     "metadata": {},
     "output_type": "display_data"
    }
   ],
   "source": [
    "use_filterby_minN=True\n",
    "minN=10\n",
    "figsize = (4, 4) \n",
    "fontsize=16\n",
    "x1lim=[0.08, 11]\n",
    "x2lim=[0.01, 250]\n",
    "fig, ax = plt.subplots(figsize=figsize)\n",
    "#plot the lpm\n",
    "df_rates_fk.plot(x='q',y='w',c='k',lw=2,ax=ax,label='_',style='--')\n",
    "df_rates_lr.plot(x='q',y='w',c='r',lw=2,ax=ax,label='_LPM',style='--')\n",
    "\n",
    "#format_plot\n",
    "ax = plot_death_rates_loglog_full(fk,lr,ax=ax,fontsize=fontsize-4,x1lim=x1lim, x2lim=x2lim)\n",
    "format_plot(ax=ax,xlabel=r'$n$  (1/cm$^2$)',ylabel=r'$w_-$ (Hz/cm$^2$)',fontsize=fontsize)\n",
    "# ax.plot(q_lst,w_lst,color='k')\n",
    "ax.set_xscale('log')\n",
    "ax.set_yscale('log')\n",
    "# ax.axis([5e-2,5e0,0.1,100])\n",
    "ax.tick_params(top=True, right=True,direction='in',which='both')\n",
    "plt.show()"
   ]
  },
  {
   "cell_type": "code",
   "execution_count": 13,
   "id": "365c39cf",
   "metadata": {
    "ExecuteTime": {
     "end_time": "2024-02-11T00:56:23.788948Z",
     "start_time": "2024-02-11T00:56:23.735100Z"
    }
   },
   "outputs": [
    {
     "data": {
      "image/png": "[encoded data removed]",
      "text/plain": [
       "<Figure size 100x100 with 1 Axes>"
      ]
     },
     "metadata": {},
     "output_type": "display_data"
    },
    {
     "data": {
      "text/plain": [
       "True"
      ]
     },
     "execution_count": 13,
     "metadata": {},
     "output_type": "execute_result"
    }
   ],
   "source": [
    "label_lst=[\"LPM\", \"LPM \"]\n",
    "color_lst=['k', 'r']\n",
    "kwargs_legend={\n",
    "    'frameon':False,\n",
    "    'loc':'center',\n",
    "    'ncol':1,\n",
    "    'fontsize':18}\n",
    "PlotLegend_lines(label_lst=label_lst,color_lst=color_lst,figsize=(1,1),**kwargs_legend)"
   ]
  },
  {
   "cell_type": "code",
   "execution_count": 14,
   "id": "4a19e656",
   "metadata": {
    "ExecuteTime": {
     "end_time": "2024-02-11T00:56:24.390379Z",
     "start_time": "2024-02-11T00:56:24.386606Z"
    }
   },
   "outputs": [
    {
     "data": {
      "text/plain": [
       "<function lib.viewer.bluf.LegendPlot.PlotLegend_lines(label_lst=['Random Guess', '5X Random Guess'], color_lst=['r', 'k'], linestyle='dashed', lw=2, figsize=(1, 1), **kwargs)>"
      ]
     },
     "execution_count": 14,
     "metadata": {},
     "output_type": "execute_result"
    }
   ],
   "source": [
    "PlotLegend_lines"
   ]
  },
  {
   "cell_type": "code",
   "execution_count": 15,
   "id": "89fe4c33",
   "metadata": {
    "ExecuteTime": {
     "end_time": "2024-02-11T00:56:25.578911Z",
     "start_time": "2024-02-11T00:56:24.923448Z"
    }
   },
   "outputs": [
    {
     "data": {
      "image/png": "[encoded data removed]",
      "text/plain": [
       "<Figure size 400x400 with 1 Axes>"
      ]
     },
     "metadata": {},
     "output_type": "display_data"
    }
   ],
   "source": [
    "use_filterby_minN=True\n",
    "minN=10\n",
    "figsize = (4, 4) \n",
    "# fontsize=16\n",
    "fontsize=14\n",
    "x1lim=[0.08, 11]\n",
    "x2lim=[0.01, 250]\n",
    "fig, ax = plt.subplots(figsize=figsize)\n",
    "#plot the lpm\n",
    "df_rates_fk.plot(x='q',y='w',c='k',lw=2,ax=ax,label='_')\n",
    "df_rates_lr.plot(x='q',y='w',c='k',lw=2,ax=ax,label=f'LPM (A={L**2}cm'+r'$^2$)')\n",
    "\n",
    "#format_plot\n",
    "format_plot(ax=ax,xlabel=r'q (1/cm$^2$)',ylabel=r'w (Hz/cm$^2$)',fontsize=fontsize)\n",
    "ax = plot_death_rates_loglog_full(fk,lr,ax=ax,fontsize=fontsize,x1lim=x1lim, x2lim=x2lim)\n",
    "# ax.plot(q_lst,w_lst,color='k')\n",
    "ax.set_xscale('log')\n",
    "ax.set_yscale('log')\n",
    "# ax.axis([5e-2,5e0,0.1,100])\n",
    "ax.tick_params(top=True, right=True,direction='in',which='both')\n",
    "plt.show()"
   ]
  },
  {
   "cell_type": "code",
   "execution_count": 16,
   "id": "dac31b3e",
   "metadata": {
    "ExecuteTime": {
     "end_time": "2024-02-11T00:56:28.150618Z",
     "start_time": "2024-02-11T00:56:28.139611Z"
    }
   },
   "outputs": [],
   "source": [
    "L=5\n",
    "L=10\n",
    "rate_dir_fk = f'/Users/timothytyree/Documents/GitHub/bgmc/python/data/control_data/lpm_table1_c_fk_L_{L}.csv'\n",
    "rate_dir_lr = f'/Users/timothytyree/Documents/GitHub/bgmc/python/data/control_data/lpm_table1_c_lr_L_{L}.csv'\n",
    "# rate_dir_fk = f'/Users/timothytyree/Documents/GitHub/bgmc/python/data/control_data/lpm_table1_c_fk_L_{L}_dt_1e-6.csv'\n",
    "# rate_dir_lr = f'/Users/timothytyree/Documents/GitHub/bgmc/python/data/control_data/lpm_table1_c_lr_L_{L}_dt_1e-6.csv'\n",
    "df_rates_fk=pd.read_csv(rate_dir_fk)\n",
    "df_rates_lr=pd.read_csv(rate_dir_lr)"
   ]
  },
  {
   "cell_type": "code",
   "execution_count": 17,
   "id": "0b9df896",
   "metadata": {
    "ExecuteTime": {
     "end_time": "2024-02-11T00:56:29.152571Z",
     "start_time": "2024-02-11T00:56:29.144035Z"
    }
   },
   "outputs": [
    {
     "name": "stdout",
     "output_type": "stream",
     "text": [
      "annihilation rate density powerlaw fits (L=10):\n",
      "m = 1.834650 +/- 0.015369\n",
      "M = 4.753692 +/- 0.168808 Hz/cm^2; B=2.338969 +/- 0.027770\n",
      "RMSE=0.0808 Hz/cm^2; R^2=0.9991; MPE=3.6940%; N=50\n",
      "m = 1.611116 +/- 0.017261\n",
      "M = 12.594137 +/- 0.637652 Hz/cm^2; B=4.817937 +/- 0.066285\n",
      "RMSE=0.2460 Hz/cm^2; R^2=0.9986; MPE=4.1519%; N=50\n"
     ]
    }
   ],
   "source": [
    "print(f\"annihilation rate density powerlaw fits ({L=}):\")\n",
    "xmin=0.#/cm^2\n",
    "# xmin=6#/cm^2\n",
    "#TODO: filter by xmin\n",
    "boo = df_rates_fk['q'].values>xmin\n",
    "boo2 = df_rates_lr['q'].values>xmin\n",
    "dict_fit_death_fk_lpm = print_fit_power_law(x=df_rates_fk[boo]['q'].values,y=df_rates_fk[boo]['w'].values)\n",
    "dict_fit_death_lr_lpm = print_fit_power_law(x=df_rates_lr[boo2]['q'].values,y=df_rates_lr[boo2]['w'].values)\n",
    "# dict_fit_death_fk_lpm = print_fit_power_law(x=df_rates_fk['q'].values,y=df_rates_fk['w'].values)\n",
    "# dict_fit_death_lr_lpm = print_fit_power_law(x=df_rates_lr['q'].values,y=df_rates_lr['w'].values)"
   ]
  },
  {
   "cell_type": "code",
   "execution_count": 18,
   "id": "60c5b424",
   "metadata": {
    "ExecuteTime": {
     "end_time": "2024-02-11T00:56:30.089397Z",
     "start_time": "2024-02-11T00:56:30.086809Z"
    }
   },
   "outputs": [],
   "source": [
    "# L=5\n",
    "# # L=10\n",
    "# rate_dir_fk = f'/Users/timothytyree/Documents/GitHub/bgmc/python/data/control_data/lpm_table1_c_fk_L_{L}.csv'\n",
    "# rate_dir_lr = f'/Users/timothytyree/Documents/GitHub/bgmc/python/data/control_data/lpm_table1_c_lr_L_{L}.csv'\n",
    "# df_rates_fk=pd.read_csv(rate_dir_fk)\n",
    "# df_rates_lr=pd.read_csv(rate_dir_lr)"
   ]
  },
  {
   "cell_type": "code",
   "execution_count": 19,
   "id": "258699fb",
   "metadata": {
    "ExecuteTime": {
     "end_time": "2024-02-11T00:56:30.547618Z",
     "start_time": "2024-02-11T00:56:30.540440Z"
    }
   },
   "outputs": [
    {
     "name": "stdout",
     "output_type": "stream",
     "text": [
      "FK: \n",
      "Mean % Disagreement: 3.790%\n",
      "Max % Disagreement: 13.528%\n",
      "LR: \n",
      "Mean % Disagreement: 4.101%\n",
      "Max % Disagreement: 17.900%\n"
     ]
    }
   ],
   "source": [
    "x = df_rates_fk['q'].values\n",
    "y = df_rates_fk['w'].values\n",
    "yhat = dict_fit_death_fk_lpm['M'] * x ** dict_fit_death_fk_lpm['m']\n",
    "print(f\"FK: \")\n",
    "pe=np.abs(y-yhat)/y\n",
    "print(f\"Mean % Disagreement: {np.mean(pe):.3%}\")\n",
    "print(f\"Max % Disagreement: {np.max(pe):.3%}\")\n",
    "\n",
    "x = df_rates_lr['q'].values\n",
    "y = df_rates_lr['w'].values\n",
    "yhat = dict_fit_death_lr_lpm['M'] * x ** dict_fit_death_lr_lpm['m']\n",
    "print(f\"LR: \")\n",
    "pe=np.abs(y-yhat)/y\n",
    "print(f\"Mean % Disagreement: {np.mean(pe):.3%}\")\n",
    "print(f\"Max % Disagreement: {np.max(pe):.3%}\")"
   ]
  },
  {
   "cell_type": "code",
   "execution_count": 20,
   "id": "d3a6ac82",
   "metadata": {
    "ExecuteTime": {
     "end_time": "2024-02-11T00:56:33.127054Z",
     "start_time": "2024-02-11T00:56:33.120111Z"
    }
   },
   "outputs": [
    {
     "name": "stdout",
     "output_type": "stream",
     "text": [
      "FK: \n",
      "RMSE: 0.081 Hz/cm^2\n",
      "LR: \n",
      "RMSE: 0.246 Hz/cm^2\n"
     ]
    }
   ],
   "source": [
    "x = df_rates_fk['q'].values\n",
    "y = df_rates_fk['w'].values\n",
    "yhat = dict_fit_death_fk_lpm['M'] * x ** dict_fit_death_fk_lpm['m']\n",
    "print(f\"FK: \")\n",
    "rmse=np.sqrt(np.mean((y-yhat)**2))\n",
    "print(f\"RMSE: {np.max(rmse):.3f} Hz/cm^2\")\n",
    "\n",
    "x = df_rates_lr['q'].values\n",
    "y = df_rates_lr['w'].values\n",
    "yhat = dict_fit_death_lr_lpm['M'] * x ** dict_fit_death_lr_lpm['m']\n",
    "print(f\"LR: \")\n",
    "rmse=np.sqrt(np.mean((y-yhat)**2))\n",
    "print(f\"RMSE: {np.max(rmse):.3f} Hz/cm^2\")"
   ]
  },
  {
   "cell_type": "code",
   "execution_count": 21,
   "id": "70962867",
   "metadata": {
    "ExecuteTime": {
     "end_time": "2024-02-11T00:56:34.903547Z",
     "start_time": "2024-02-11T00:56:34.900863Z"
    }
   },
   "outputs": [],
   "source": [
    "# plt.plot(x,y)\n",
    "# plt.plot(x,yhat)\n",
    "# plt.xscale('log')\n",
    "# plt.yscale('log')"
   ]
  },
  {
   "cell_type": "markdown",
   "id": "36f59b75",
   "metadata": {
    "heading_collapsed": true
   },
   "source": [
    "# compute the dependence of the annihilation rates on attraction strength"
   ]
  },
  {
   "cell_type": "code",
   "execution_count": 66,
   "id": "865627c4",
   "metadata": {
    "ExecuteTime": {
     "end_time": "2023-06-18T00:25:28.022074Z",
     "start_time": "2023-06-18T00:25:28.016578Z"
    },
    "hidden": true
   },
   "outputs": [],
   "source": [
    "alinear_lst=[\n",
    "    1.5520, #1.781 - 2*0.115, #0.1145,\n",
    "    9.3,\n",
    "    ###the varkappa sweep####\n",
    "    1,2,3,4,5,\n",
    "    6,7,8,9, # <--- optional bc otherwise I had <60 jobs...\n",
    "    10,15,20,25,30,\n",
    "#     40,50,60,70,80,90,100, # <--- optional bc otherwise I had <60 jobs...\n",
    "]"
   ]
  },
  {
   "cell_type": "code",
   "execution_count": 61,
   "id": "0e6000e1",
   "metadata": {
    "ExecuteTime": {
     "end_time": "2023-06-17T23:10:23.821469Z",
     "start_time": "2023-06-17T23:10:23.819027Z"
    },
    "hidden": true
   },
   "outputs": [],
   "source": [
    "#test it works normally in serial\n",
    "# df_rates = compute_annihilation_rates_lpm(D,alinear,r,kappa,N0_lst,L,nb_dir)#,dt=1e-4,niter=500,neighbor=0,force_code=2,seed=0,**kwargs)"
   ]
  },
  {
   "cell_type": "code",
   "execution_count": 82,
   "id": "39e8b36a",
   "metadata": {
    "ExecuteTime": {
     "end_time": "2023-06-18T00:33:21.040413Z",
     "start_time": "2023-06-18T00:33:21.036624Z"
    },
    "hidden": true
   },
   "outputs": [],
   "source": [
    "#launch subprocess in parallel for each alinear in alinear_lst\n",
    "def routine(task):\n",
    "    D,alinear,r,kappa,N0_lst,L,nb_dir = task\n",
    "    df_rates = compute_annihilation_rates_lpm(D,alinear,r,kappa,N0_lst,L,nb_dir,dt=1e-4)#,niter=500,neighbor=0,force_code=2,seed=0,**kwargs)\n",
    "    return df_rates"
   ]
  },
  {
   "cell_type": "code",
   "execution_count": 93,
   "id": "3fefc817",
   "metadata": {
    "ExecuteTime": {
     "end_time": "2023-06-18T10:21:16.031885Z",
     "start_time": "2023-06-18T10:21:16.027865Z"
    },
    "hidden": true
   },
   "outputs": [
    {
     "name": "stdout",
     "output_type": "stream",
     "text": [
      "Number of cpu :  8\n"
     ]
    }
   ],
   "source": [
    "print(\"Number of cpu : \", os.cpu_count())\n",
    "ncores=6"
   ]
  },
  {
   "cell_type": "code",
   "execution_count": 94,
   "id": "cff54c7f",
   "metadata": {
    "ExecuteTime": {
     "end_time": "2023-06-18T10:21:16.038938Z",
     "start_time": "2023-06-18T10:21:16.035216Z"
    },
    "hidden": true
   },
   "outputs": [],
   "source": [
    "# niter=1000\n",
    "# niter=500\n",
    "# niter=200\n",
    "# dt=1e-4\n",
    "# dt=1e-5\n",
    "L=5\n",
    "# L=10 \n",
    "D=0.42#0.4158\n",
    "alinear=9.3#9.3154\n",
    "# neighbor=0\n",
    "# r=0.155;kappa=300  #table 1\n",
    "# r=0.3;kappa=60 #not bad\n",
    "# r=0.33;kappa=70 #noice at L=5. meh at L=10\n",
    "r=0.314;kappa=75 #<<<< new table 1\n",
    "# kappa=100; r=0.125 #wrong exponent\n",
    "# seed=1\n",
    "# seed=0"
   ]
  },
  {
   "cell_type": "code",
   "execution_count": 95,
   "id": "f21c9eff",
   "metadata": {
    "ExecuteTime": {
     "end_time": "2023-06-18T14:53:53.858100Z",
     "start_time": "2023-06-18T10:21:16.041078Z"
    },
    "hidden": true
   },
   "outputs": [
    {
     "name": "stdout",
     "output_type": "stream",
     "text": [
      "16 tasks completed!\n"
     ]
    }
   ],
   "source": [
    "task_lst=[]\n",
    "for alinear in alinear_lst:\n",
    "    task_lst.append((D,alinear,r,kappa,N0_lst,L,nb_dir))\n",
    "\n",
    "# p = multiprocess.Pool(ncores)\n",
    "# df_rates_lst = p.map(routine, task_lst)\n",
    "df_rates_lst = eval_routine_multiprocess(routine, task_lst, ncores)\n",
    "print(f\"{len(task_lst)} tasks completed!\")\n",
    "df_rates_lst_lr=list(df_rates_lst)"
   ]
  },
  {
   "cell_type": "code",
   "execution_count": 86,
   "id": "61c72314",
   "metadata": {
    "ExecuteTime": {
     "end_time": "2023-06-18T00:36:28.474761Z",
     "start_time": "2023-06-18T00:36:28.470638Z"
    },
    "hidden": true
   },
   "outputs": [],
   "source": [
    "# niter=1000\n",
    "niter=500\n",
    "dt=1e-4\n",
    "L=5\n",
    "# L=10 \n",
    "D=0.115\n",
    "alinear=1.552\n",
    "neighbor=0\n",
    "# r=0.135;kappa=167  #table 1\n",
    "# r=0.67;kappa=70 #\n",
    "# r=0.67;kappa=10 #not bad\n",
    "# r=0.67;kappa=7 #good\n",
    "# r=0.67;kappa=8 #noice\n",
    "# r=0.46;kappa=15 #noice\n",
    "r=0.457;kappa=15 #noice <<<< new table 1\n",
    "# r=0.67;kappa=5 #not bad\n",
    "# kappa=100; r=0.125 #wrong exponent\n",
    "#heretim"
   ]
  },
  {
   "cell_type": "code",
   "execution_count": 87,
   "id": "37941994",
   "metadata": {
    "ExecuteTime": {
     "end_time": "2023-06-18T00:36:28.482578Z",
     "start_time": "2023-06-18T00:36:28.476551Z"
    },
    "hidden": true
   },
   "outputs": [],
   "source": [
    "#launch subprocess in parallel for each alinear in alinear_lst\n",
    "def routine(task):\n",
    "    D,alinear,r,kappa,N0_lst,L,nb_dir = task\n",
    "    df_rates = compute_annihilation_rates_lpm(D,alinear,r,kappa,N0_lst,L,nb_dir,dt=1e-6)#,niter=500,neighbor=0,force_code=2,seed=0,**kwargs)\n",
    "    return df_rates"
   ]
  },
  {
   "cell_type": "code",
   "execution_count": 88,
   "id": "1fa9dade",
   "metadata": {
    "ExecuteTime": {
     "end_time": "2023-06-18T10:21:15.753442Z",
     "start_time": "2023-06-18T00:36:28.485116Z"
    },
    "hidden": true
   },
   "outputs": [
    {
     "name": "stdout",
     "output_type": "stream",
     "text": [
      "16 tasks completed!\n"
     ]
    }
   ],
   "source": [
    "task_lst=[]\n",
    "for alinear in alinear_lst:\n",
    "    task_lst.append((D,alinear,r,kappa,N0_lst,L,nb_dir))\n",
    "\n",
    "# p = multiprocess.Pool(ncores)\n",
    "# df_rates_lst = p.map(routine, task_lst)\n",
    "df_rates_lst = eval_routine_multiprocess(routine, task_lst, ncores)\n",
    "print(f\"{len(task_lst)} tasks completed!\")\n",
    "df_rates_lst_fk=list(df_rates_lst)"
   ]
  },
  {
   "cell_type": "code",
   "execution_count": 96,
   "id": "97df516b",
   "metadata": {
    "ExecuteTime": {
     "end_time": "2023-06-18T14:53:53.868034Z",
     "start_time": "2023-06-18T14:53:53.860243Z"
    },
    "hidden": true
   },
   "outputs": [
    {
     "name": "stdout",
     "output_type": "stream",
     "text": [
      "pkl_dir='/Users/timothytyree/Documents/GitHub/bgmc/python/Data/lpm_results/figure_data_vs_alinear_at_A_25_dt_1e-6.pkl'\n"
     ]
    }
   ],
   "source": [
    "data=dict(alinear_lst=alinear_lst,\n",
    "         df_rates_lst_fk=df_rates_lst_fk,\n",
    "         df_rates_lst_lr=df_rates_lst_lr)\n",
    "# pkl_dir=f\"{nb_dir}/Data/lpm_results/figure_data_vs_alinear_at_A_{L**2}.pkl\"\n",
    "pkl_dir=f\"{nb_dir}/Data/lpm_results/figure_data_vs_alinear_at_A_{L**2}_dt_1e-6.pkl\"\n",
    "save_to_pickle(pkl_dir,data)\n",
    "print(f\"{pkl_dir=}\")"
   ]
  },
  {
   "cell_type": "code",
   "execution_count": 97,
   "id": "4645199e",
   "metadata": {
    "ExecuteTime": {
     "end_time": "2023-06-18T14:53:54.508800Z",
     "start_time": "2023-06-18T14:53:53.870487Z"
    },
    "hidden": true
   },
   "outputs": [
    {
     "name": "stdout",
     "output_type": "stream",
     "text": [
      "-n \u0007\n",
      "-n \u0007\n",
      "-n \u0007\n"
     ]
    },
    {
     "data": {
      "text/plain": [
       "0"
      ]
     },
     "execution_count": 97,
     "metadata": {},
     "output_type": "execute_result"
    }
   ],
   "source": [
    "beep(3)"
   ]
  },
  {
   "cell_type": "code",
   "execution_count": 98,
   "id": "0023c867",
   "metadata": {
    "ExecuteTime": {
     "end_time": "2023-06-18T14:53:54.530246Z",
     "start_time": "2023-06-18T14:53:54.510829Z"
    },
    "hidden": true
   },
   "outputs": [],
   "source": [
    "len(df_rates_lst_fk)\n",
    "for alinear,df in zip(alinear_lst,df_rates_lst_fk):\n",
    "#     save_fn = f\"{nb_dir}/Data/lpm_results/fkrates_at_A_{L**2}_a_{alinear}.csv\"\n",
    "    save_fn = f\"{nb_dir}/Data/lpm_results/fkrates_at_A_{L**2}_a_{alinear}_dt_1e-6.csv\"\n",
    "    df.to_csv(save_fn,index=False)"
   ]
  },
  {
   "cell_type": "code",
   "execution_count": 92,
   "id": "5a76523f",
   "metadata": {
    "ExecuteTime": {
     "end_time": "2023-06-18T10:21:16.024593Z",
     "start_time": "2023-06-18T10:21:16.021473Z"
    },
    "hidden": true
   },
   "outputs": [
    {
     "name": "stdout",
     "output_type": "stream",
     "text": [
      "pkl_dir='/Users/timothytyree/Documents/GitHub/bgmc/python/Data/lpm_results/figure_data_vs_alinear_at_A_25_dt_1e-6.pkl'\n"
     ]
    }
   ],
   "source": [
    "print(f\"{pkl_dir=}\")"
   ]
  },
  {
   "cell_type": "code",
   "execution_count": null,
   "id": "589e6f37",
   "metadata": {
    "hidden": true
   },
   "outputs": [],
   "source": [
    "#NOTE: print(f\"{pkl_dir=}\") will have evaluated if FK finished"
   ]
  },
  {
   "cell_type": "code",
   "execution_count": null,
   "id": "ecd65db4",
   "metadata": {
    "hidden": true
   },
   "outputs": [],
   "source": []
  },
  {
   "cell_type": "markdown",
   "id": "c4c25283",
   "metadata": {},
   "source": [
    "# plot the rates vs. alinear for one full cardiac model"
   ]
  },
  {
   "cell_type": "code",
   "execution_count": 22,
   "id": "524638b7",
   "metadata": {
    "ExecuteTime": {
     "end_time": "2024-02-11T00:59:02.297594Z",
     "start_time": "2024-02-11T00:59:02.281831Z"
    }
   },
   "outputs": [
    {
     "data": {
      "text/plain": [
       "16"
      ]
     },
     "execution_count": 22,
     "metadata": {},
     "output_type": "execute_result"
    }
   ],
   "source": [
    "# pkl_dir='/Users/timothytyree/Documents/GitHub/bgmc/python/Data/lpm_results/figure_data_vs_alinear_at_A_25.pkl'\n",
    "pkl_dir='/Users/timothytyree/Documents/GitHub/bgmc/python/Data/lpm_results/figure_data_vs_alinear_at_A_25_dt_1e-6.pkl'\n",
    "data = load_from_pickle(pkl_dir)\n",
    "alinear_values = np.array(data['alinear_lst'])\n",
    "df_rates_lst = data['df_rates_lst_fk']\n",
    "# df_rates_lst = data['df_rates_lst_lr']\n",
    "len(df_rates_lst)"
   ]
  },
  {
   "cell_type": "code",
   "execution_count": null,
   "id": "13e87983",
   "metadata": {
    "ExecuteTime": {
     "end_time": "2023-06-11T22:23:30.863904Z",
     "start_time": "2023-06-11T22:23:30.861771Z"
    }
   },
   "outputs": [],
   "source": []
  },
  {
   "cell_type": "code",
   "execution_count": 23,
   "id": "d55aca55",
   "metadata": {
    "ExecuteTime": {
     "end_time": "2024-02-11T00:59:05.030054Z",
     "start_time": "2024-02-11T00:59:04.337207Z"
    }
   },
   "outputs": [
    {
     "data": {
      "image/png": "[encoded data removed]",
      "text/plain": [
       "<Figure size 400x400 with 2 Axes>"
      ]
     },
     "metadata": {},
     "output_type": "display_data"
    }
   ],
   "source": [
    "cmap = 'viridis'\n",
    "c_col = 'rmse_full'\n",
    "fontsize=16\n",
    "xytext = (0.09, 10)\n",
    "x2lim = [1e-2, 25]\n",
    "x1lim = [8e-3, 1.1]  \n",
    "# x2lim = [1e-2, 250]\n",
    "# x1lim = [8e-3, 10.1]  \n",
    "figsize = (4, 4)  \n",
    "fig, ax = plt.subplots(figsize=figsize)\n",
    "varkappa_lst = list(reversed([1, 2, 3, 4,\n",
    " 5, 10, 15, 20, 25, 30]))\n",
    "vmin = 0\n",
    "vmax = 30\n",
    "x_values = np.logspace(-3, .4, 1000)\n",
    "for varkappa in varkappa_lst:\n",
    "    #extract the data\n",
    "    boo = alinear_values==varkappa\n",
    "    df_rates = df_rates_lst[int(np.argwhere(boo))]\n",
    "    assert boo.any()    \n",
    "    x=df_rates['q'].values\n",
    "    y=df_rates['w'].values\n",
    "#     bo = (x<=1)&(x>0.1)\n",
    "    bo = (x<=10)&(x>0.2)\n",
    "    dict_fit = print_fit_power_law(x[bo],y[bo],printing=False)\n",
    "    M = dict_fit['M']\n",
    "    nu= dict_fit['m']\n",
    "    y_values = M * x_values**nu\n",
    "    \n",
    "    x_values=df_rates['q'].values\n",
    "    y_values=df_rates['w'].values\n",
    "    \n",
    "    c_values = varkappa + 0. * x_values\n",
    "    #plot\n",
    "    ax.scatter(x_values,\n",
    "               y_values,\n",
    "               c=c_values,\n",
    "               cmap=cmap,\n",
    "               alpha=0.6,\n",
    "               s=3,\n",
    "               vmin=vmin,\n",
    "               vmax=vmax)\n",
    "#     ax.plot(x_values,\n",
    "#                y_values,c=c_values[0],\n",
    "#                cmap=cmap,\n",
    "#                alpha=0.6,\n",
    "# #                s=3,\n",
    "#                vmin=vmin,\n",
    "#                vmax=vmax)\n",
    "\n",
    "# # #annotate the auxiliary trial that could have taken more than twenty hours on the open science grid   \n",
    "# # #heretim\n",
    "# M=3.1\n",
    "# nu=4/3#2.8\n",
    "# yhat_values=M*x_values**nu\n",
    "# ax.scatter(x_values,\n",
    "#            yhat_values,\n",
    "#            c=[0]*x_values.shape[0], # pure diffusion\n",
    "#            cmap=cmap,\n",
    "#            alpha=0.6,\n",
    "#            s=3,\n",
    "#            vmin=vmin,\n",
    "#            vmax=vmax)\n",
    "  \n",
    "FormatAxes(\n",
    "    ax,\n",
    "    x1lim=x1lim,\n",
    "    x2lim=x2lim,\n",
    "    x1label=r'$n$ (1/cm$^{2}$)',#r'$q=N/A$ (1/cm$^{2}$)',\n",
    "    x2label=r'$w_-$ (Hz/cm$^{2}$)',#r'$w=W_{-2}/A$ (Hz/cm$^{2}$)',\n",
    "    title=None,\n",
    "    fontsize=fontsize,\n",
    "    use_loglog=True)\n",
    "# cbar=fig.colorbar(cmap='bone', ax=ax, shrink=0.6,label=r'RMSE$_{particle\\;vs\\;full}$')#, location='top'\n",
    "# fig.colorbar(pcm, ax=[axs[0, col]], location='top', shrink=0.6)\n",
    "#     cbar=fig.colorbar(pcm, ax=axs[:, col],shrink=0.6)#,label=output_col)\n",
    "norm = mpl.colors.Normalize(vmin=vmin, vmax=vmax)\n",
    "# norm = mpl.colors.LogNorm(vmin=vmin, vmax=vmax)\n",
    "cmap_obj = mpl.cm.get_cmap(cmap)\n",
    "cax = fig.add_axes([0.95, 0.2, 0.02, 0.6])\n",
    "cb = mpl.colorbar.ColorbarBase(cax,\n",
    "                               cmap=cmap_obj,\n",
    "                               norm=norm,\n",
    "                               spacing='proportional')\n",
    "cb.set_label(r'$a$ (cm$^{2}/$s)', fontsize=fontsize)\n",
    "cb.ax.tick_params(labelsize=fontsize)\n",
    "ax.tick_params(top=True, right=True,direction='in',which='both')\n",
    "ax.set_xlim([0.08, 11])\n",
    "x2lim=[0.01, 250]\n",
    "ax.set_ylim(x2lim)\n",
    "plt.show()"
   ]
  },
  {
   "cell_type": "code",
   "execution_count": 34,
   "id": "a613404a",
   "metadata": {
    "ExecuteTime": {
     "end_time": "2024-02-11T01:08:51.684290Z",
     "start_time": "2024-02-11T01:08:51.051478Z"
    }
   },
   "outputs": [
    {
     "name": "stdout",
     "output_type": "stream",
     "text": [
      "nuu=1.3333 (upper), nul=2.0000 (lower)\n"
     ]
    },
    {
     "data": {
      "image/png": "[encoded data removed]",
      "text/plain": [
       "<Figure size 400x400 with 1 Axes>"
      ]
     },
     "metadata": {},
     "output_type": "display_data"
    }
   ],
   "source": [
    "#heretimheretim\n",
    "#TODO: make ^that with black solid lines for eye guiding powerlaw traces\n",
    "cmap = 'viridis'\n",
    "c_col = 'rmse_full'\n",
    "fontsize=16\n",
    "xytext = (0.09, 10)\n",
    "x2lim = [1e-2, 25]\n",
    "x1lim = [8e-3, 1.1]  \n",
    "# x2lim = [1e-2, 250]\n",
    "# x1lim = [8e-3, 10.1]  \n",
    "figsize = (4, 4)  \n",
    "fig, ax = plt.subplots(figsize=figsize)\n",
    "varkappa_lst = list(reversed([1, 2, 3, 4,\n",
    " 5, 10, 15, 20, 25, 30]))\n",
    "vmin = 0\n",
    "vmax = 30\n",
    "x_values = np.logspace(-3, .4, 1000)\n",
    "for varkappa in varkappa_lst:\n",
    "    #extract the data\n",
    "    boo = alinear_values==varkappa\n",
    "    df_rates = df_rates_lst[int(np.argwhere(boo))]\n",
    "    assert boo.any()    \n",
    "    x=df_rates['q'].values\n",
    "    y=df_rates['w'].values\n",
    "#     bo = (x<=1)&(x>0.1)\n",
    "    bo = (x<=10)&(x>0.2)\n",
    "    dict_fit = print_fit_power_law(x[bo],y[bo],printing=False)\n",
    "    M = dict_fit['M']\n",
    "    nu= dict_fit['m']\n",
    "    y_values = M * x_values**nu\n",
    "    \n",
    "    x_values=df_rates['q'].values\n",
    "    y_values=df_rates['w'].values\n",
    "    \n",
    "    c_values = varkappa + 0. * x_values\n",
    "    #plot\n",
    "    ax.scatter(x_values,\n",
    "               y_values,\n",
    "               c=c_values,\n",
    "               cmap=cmap,\n",
    "               alpha=0.6,\n",
    "               s=3,\n",
    "               vmin=vmin,\n",
    "               vmax=vmax)\n",
    "#     ax.plot(x_values,\n",
    "#                y_values,c=c_values[0],\n",
    "#                cmap=cmap,\n",
    "#                alpha=0.6,\n",
    "# #                s=3,\n",
    "#                vmin=vmin,\n",
    "#                vmax=vmax)\n",
    "\n",
    "# # #annotate the auxiliary trial that could have taken more than twenty hours on the open science grid   \n",
    "# # #heretim\n",
    "# M=3.1\n",
    "# nu=4/3#2.8\n",
    "# yhat_values=M*x_values**nu\n",
    "# ax.scatter(x_values,\n",
    "#            yhat_values,\n",
    "#            c=[0]*x_values.shape[0], # pure diffusion\n",
    "#            cmap=cmap,\n",
    "#            alpha=0.6,\n",
    "#            s=3,\n",
    "#            vmin=vmin,\n",
    "#            vmax=vmax)\n",
    "  \n",
    "FormatAxes(\n",
    "    ax,\n",
    "    x1lim=x1lim,\n",
    "    x2lim=x2lim,\n",
    "    x1label=r'$n$ (1/cm$^{2}$)',#r'$q=N/A$ (1/cm$^{2}$)',\n",
    "    x2label=r'$w_-$ (Hz/cm$^{2}$)',#r'$w=W_{-2}/A$ (Hz/cm$^{2}$)',\n",
    "    title=None,\n",
    "    fontsize=fontsize,\n",
    "    use_loglog=True)\n",
    "# cbar=fig.colorbar(cmap='bone', ax=ax, shrink=0.6,label=r'RMSE$_{particle\\;vs\\;full}$')#, location='top'\n",
    "# fig.colorbar(pcm, ax=[axs[0, col]], location='top', shrink=0.6)\n",
    "#     cbar=fig.colorbar(pcm, ax=axs[:, col],shrink=0.6)#,label=output_col)\n",
    "norm = mpl.colors.Normalize(vmin=vmin, vmax=vmax)\n",
    "# norm = mpl.colors.LogNorm(vmin=vmin, vmax=vmax)\n",
    "# cmap_obj = mpl.cm.get_cmap(cmap)\n",
    "# cax = fig.add_axes([0.95, 0.2, 0.02, 0.6])\n",
    "# cb = mpl.colorbar.ColorbarBase(cax,\n",
    "#                                cmap=cmap_obj,\n",
    "#                                norm=norm,\n",
    "#                                spacing='proportional')\n",
    "# cb.set_label(r'$a$ (cm$^{2}/$s)', fontsize=fontsize)\n",
    "# cb.ax.tick_params(labelsize=fontsize)\n",
    "ax.tick_params(top=True, right=True,direction='in',which='both')\n",
    "# ax.tick_params(top=False, right=False,direction='in',which='both')\n",
    "# ax.spines[['right', 'top']].set_visible(False)\n",
    "ax.set_xlim([0.08, 11])\n",
    "x2lim=[0.01, 250]\n",
    "ax.set_ylim(x2lim)\n",
    "\n",
    "#TODO: plot the lower exponential\n",
    "n1=0.2\n",
    "n2=1.0\n",
    "Mu=14;nuu=4/3\n",
    "ax.plot([n1,n2],[Mu*(n1)**nuu,Mu*(n2)**nuu],'k-')\n",
    "Ml=4;nul=2\n",
    "ax.plot([n1,n2],[Ml*(n1)**nul,Ml*(n2)**nul],'k-')\n",
    "print(f\"{nuu=:.4f} (upper), {nul=:.4f} (lower)\")\n",
    "\n",
    "plt.show()"
   ]
  },
  {
   "cell_type": "code",
   "execution_count": null,
   "id": "01405c7a",
   "metadata": {},
   "outputs": [],
   "source": []
  },
  {
   "cell_type": "code",
   "execution_count": 35,
   "id": "247f1abf",
   "metadata": {
    "ExecuteTime": {
     "end_time": "2024-02-11T01:50:58.521960Z",
     "start_time": "2024-02-11T01:50:57.663613Z"
    }
   },
   "outputs": [
    {
     "name": "stdout",
     "output_type": "stream",
     "text": [
      "-n \u0007\n",
      "-n \u0007\n",
      "-n \u0007\n",
      "-n \u0007\n"
     ]
    },
    {
     "data": {
      "text/plain": [
       "0"
      ]
     },
     "execution_count": 35,
     "metadata": {},
     "output_type": "execute_result"
    }
   ],
   "source": [
    "beep(4)"
   ]
  },
  {
   "cell_type": "code",
   "execution_count": 104,
   "id": "0b5dce78",
   "metadata": {
    "ExecuteTime": {
     "end_time": "2023-06-18T18:35:05.431868Z",
     "start_time": "2023-06-18T18:35:05.429028Z"
    }
   },
   "outputs": [],
   "source": [
    "# Bspline"
   ]
  },
  {
   "cell_type": "markdown",
   "id": "0ca7b8ee",
   "metadata": {
    "ExecuteTime": {
     "end_time": "2023-06-06T17:58:05.036447Z",
     "start_time": "2023-06-06T17:58:05.032806Z"
    }
   },
   "source": [
    "# compute the power law fits versus alinear"
   ]
  },
  {
   "cell_type": "code",
   "execution_count": 105,
   "id": "78f136af",
   "metadata": {
    "ExecuteTime": {
     "end_time": "2023-06-18T18:35:06.310749Z",
     "start_time": "2023-06-18T18:35:06.307573Z"
    }
   },
   "outputs": [],
   "source": [
    "xmax=10;xmin=0.2"
   ]
  },
  {
   "cell_type": "code",
   "execution_count": 106,
   "id": "266cebf6",
   "metadata": {
    "ExecuteTime": {
     "end_time": "2023-06-18T18:35:06.931607Z",
     "start_time": "2023-06-18T18:35:06.905824Z"
    }
   },
   "outputs": [],
   "source": [
    "df_rates_lst=list(df_rates_lst_fk)\n",
    "# df_rates_lst=list(df_rates_lst_lr)\n",
    "#TODO: compute df_death_rate_versus_alinear\n",
    "dict_fit_lst=[]\n",
    "for varkappa in alinear_values:\n",
    "    #extract the data\n",
    "    boo = alinear_values==varkappa\n",
    "    df_rates = df_rates_lst[int(np.argwhere(boo))]\n",
    "    assert boo.any()    \n",
    "    x=df_rates['q'].values\n",
    "    y=df_rates['w'].values\n",
    "    bo = (x<=xmax)&(x>xmin)\n",
    "    dict_fit = print_fit_power_law(x[bo],y[bo],printing=False)\n",
    "    dict_fit['alinear']=varkappa\n",
    "    #record\n",
    "    dict_fit_lst.append(dict_fit)\n",
    "df_death_rate_versus_alinear=pd.DataFrame(dict_fit_lst)\n",
    "dict_data_fk=dict()\n",
    "dict_data_fk['df_death_rate_versus_alinear']=df_death_rate_versus_alinear\n",
    "# dict_data_lr['df_death_rate_versus_alinear']=df_death_rate_versus_alinear"
   ]
  },
  {
   "cell_type": "code",
   "execution_count": 107,
   "id": "af9a7e99",
   "metadata": {
    "ExecuteTime": {
     "end_time": "2023-06-18T18:35:07.661456Z",
     "start_time": "2023-06-18T18:35:07.631064Z"
    }
   },
   "outputs": [],
   "source": [
    "#compute df_death_rate_versus_alinear\n",
    "df_rates_lst=list(df_rates_lst_lr)\n",
    "dict_fit_lst=[]\n",
    "for varkappa in alinear_values:\n",
    "    #extract the data\n",
    "    boo = alinear_values==varkappa\n",
    "    df_rates = df_rates_lst[int(np.argwhere(boo))]\n",
    "    assert boo.any()    \n",
    "    x=df_rates['q'].values\n",
    "    y=df_rates['w'].values\n",
    "    bo = (x<=xmax)&(x>xmin)\n",
    "    dict_fit = print_fit_power_law(x[bo],y[bo],printing=False)\n",
    "    dict_fit['alinear']=varkappa\n",
    "    #record\n",
    "    dict_fit_lst.append(dict_fit)\n",
    "df_death_rate_versus_alinear=pd.DataFrame(dict_fit_lst)\n",
    "dict_data_lr=dict()\n",
    "dict_data_lr['df_death_rate_versus_alinear']=df_death_rate_versus_alinear"
   ]
  },
  {
   "cell_type": "code",
   "execution_count": 108,
   "id": "bcc8845c",
   "metadata": {
    "ExecuteTime": {
     "end_time": "2023-06-18T18:35:08.436382Z",
     "start_time": "2023-06-18T18:35:08.408411Z"
    }
   },
   "outputs": [
    {
     "data": {
      "text/plain": [
       "(1.4, 1.3333333333333333, 1.3)"
      ]
     },
     "execution_count": 108,
     "metadata": {},
     "output_type": "execute_result"
    }
   ],
   "source": [
    "7/5,4/3,13/10"
   ]
  },
  {
   "cell_type": "code",
   "execution_count": 109,
   "id": "cbc2e9f8",
   "metadata": {
    "ExecuteTime": {
     "end_time": "2023-06-18T18:35:08.940459Z",
     "start_time": "2023-06-18T18:35:08.937465Z"
    }
   },
   "outputs": [],
   "source": [
    "# TODO: plot the power law fits versus alinear"
   ]
  },
  {
   "cell_type": "code",
   "execution_count": 110,
   "id": "0687e5e9",
   "metadata": {
    "ExecuteTime": {
     "end_time": "2023-06-18T18:35:09.455877Z",
     "start_time": "2023-06-18T18:35:09.439159Z"
    }
   },
   "outputs": [
    {
     "data": {
      "text/plain": [
       "array([1.65665929])"
      ]
     },
     "execution_count": 110,
     "metadata": {},
     "output_type": "execute_result"
    }
   ],
   "source": [
    "#extrct xy vlues\n",
    "alinear_fk = 1.552\n",
    "alinear_lr = 9.3\n",
    "dfdr = dict_data_fk['df_death_rate_versus_alinear']\n",
    "alinear_vlues1 = dfdr[dfdr['alinear']!=alinear_fk]['alinear'].values\n",
    "num_vlues1 = dfdr[dfdr['alinear']!=alinear_fk]['m'].values\n",
    "Mm_vlues1 = dfdr[dfdr['alinear']!=alinear_fk]['M'].values\n",
    "num_fk = dfdr[dfdr['alinear']==alinear_fk]['m'].values\n",
    "Mm_fk = dfdr[dfdr['alinear']==alinear_fk]['M'].values\n",
    "\n",
    "dfdr = dict_data_lr['df_death_rate_versus_alinear']\n",
    "alinear_vlues2 = dfdr[dfdr['alinear']!=alinear_lr]['alinear'].values\n",
    "num_vlues2 = dfdr[dfdr['alinear']!=alinear_lr]['m'].values\n",
    "Mm_vlues2 = dfdr[dfdr['alinear']!=alinear_lr]['M'].values\n",
    "num_lr = dfdr[dfdr['alinear']==alinear_lr]['m'].values\n",
    "Mm_lr = dfdr[dfdr['alinear']==alinear_lr]['M'].values\n",
    "num_lr"
   ]
  },
  {
   "cell_type": "code",
   "execution_count": 111,
   "id": "e45bcead",
   "metadata": {
    "ExecuteTime": {
     "end_time": "2023-06-18T18:35:10.473185Z",
     "start_time": "2023-06-18T18:35:10.189130Z"
    },
    "run_control": {
     "marked": true
    }
   },
   "outputs": [
    {
     "data": {
      "image/png": "[encoded data removed]",
      "text/plain": [
       "<Figure size 300x400 with 1 Axes>"
      ]
     },
     "metadata": {},
     "output_type": "display_data"
    }
   ],
   "source": [
    "#plot the panel\n",
    "cmap = 'viridis'\n",
    "num_points = 25\n",
    "c_col = 'rmse_full'\n",
    "# fontsize = 20\n",
    "fontsize=16\n",
    "figsize = (3, 4)  #(5,4)\n",
    "fig, ax = plt.subplots(figsize=figsize)\n",
    "#plot xy values for full models\n",
    "dict_data_fk['df_death_rate_versus_alinear'].plot.scatter(x='alinear',y='m',ax=ax,c='C0',alpha=0.7)#,label='Fenton-Karma')\n",
    "dict_data_lr['df_death_rate_versus_alinear'].plot.scatter(x='alinear',y='m',ax=ax,c='C1',alpha=0.7)#,label='Luo-Rudy')\n",
    "\n",
    "ax.scatter([alinear_fk],[num_fk],marker='o',edgecolor='k',c='C0',#'k',\n",
    "           alpha=1,label='Fenton-Karma')\n",
    "ax.scatter([alinear_lr],[num_lr],marker='o',edgecolor='k',c='C1',#c='k',\n",
    "           alpha=1,label='Luo-Rudy')\n",
    "\n",
    "#plot dotted line at 4/3\n",
    "# xv=np.linspace(0,120,10)\n",
    "# ax.plot(xv,0.*xv+4/3,':',color='gray')#,'k--',lw=2)\n",
    "#format plot\n",
    "format_plot(ax=ax,xlabel=r'$a$ (cm$^2$/s)',ylabel=r'$\\nu_-$',use_loglog=False,fontsize=fontsize)\n",
    "# ax.set_xticks([0,25,50,75,100])\n",
    "ax.set_xticks([0,10,20,30])\n",
    "ax.set_xlim([-1,33])\n",
    "ax.tick_params(top=True, right=True,direction='in',which='both')\n",
    "\n",
    "# AddLegend(ax=ax,xy=(0.1,0.990),fontsize=fontsize-3)\n",
    "# leg = AddLegend(ax=ax,xy=(0.1,0.25),fontsize=fontsize-3)\n",
    "leg = AddLegend(ax=ax,xy=(0.065,0.25),fontsize=fontsize-2)\n",
    "ax.set_ylim([0.1,3])\n",
    "plt.show()"
   ]
  },
  {
   "cell_type": "code",
   "execution_count": 120,
   "id": "fe321b58",
   "metadata": {
    "ExecuteTime": {
     "end_time": "2023-06-18T18:38:38.594120Z",
     "start_time": "2023-06-18T18:38:37.968309Z"
    }
   },
   "outputs": [
    {
     "data": {
      "image/png": "[encoded data removed]",
      "text/plain": [
       "<Figure size 300x400 with 1 Axes>"
      ]
     },
     "metadata": {},
     "output_type": "display_data"
    }
   ],
   "source": [
    "#plot the panel\n",
    "cmap = 'viridis'\n",
    "num_points = 25\n",
    "c_col = 'rmse_full'\n",
    "# fontsize = 20\n",
    "fontsize=16\n",
    "figsize = (3, 4)  #(5,4)\n",
    "fig, ax = plt.subplots(figsize=figsize)\n",
    "#plot xy values for full models\n",
    "dict_data_fk['df_death_rate_versus_alinear'].plot.scatter(x='alinear',y='M',ax=ax,c='C0',alpha=0.7)#,label='Fenton-Karma')\n",
    "dict_data_lr['df_death_rate_versus_alinear'].plot.scatter(x='alinear',y='M',ax=ax,c='C1',alpha=0.7)#,label='Luo-Rudy')\n",
    "\n",
    "ax.scatter([alinear_fk],[Mm_fk],marker='o',edgecolor='k',c='C0',#'k',\n",
    "           alpha=1,label='Fenton-Karma')\n",
    "ax.scatter([alinear_lr],[Mm_lr],marker='o',edgecolor='k',c='C1',#c='k',\n",
    "           alpha=1,label='Luo-Rudy')\n",
    "\n",
    "\n",
    "#format plot\n",
    "format_plot(ax=ax,xlabel=r'$a$ (cm$^2$/s)',ylabel=r'$M_-$ (Hz/cm$^2)$',use_loglog=False,fontsize=fontsize)\n",
    "# ax.set_xticks([0,25,50,75,100])\n",
    "# ax.set_xticks([0,10,20,30])\n",
    "ax.set_xlim([0.8,33])\n",
    "ax.tick_params(top=True, right=True,direction='in',which='both')\n",
    "ax.set_xscale('log')\n",
    "ax.set_yscale('log')\n",
    "# AddLegend(ax=ax,xy=(0.1,0.990),fontsize=fontsize-3)\n",
    "# leg = AddLegend(ax=ax,xy=(0.1,0.25),fontsize=fontsize-3)\n",
    "leg = AddLegend(ax=ax,xy=(0.065,0.25),fontsize=fontsize-2)\n",
    "ax.set_ylim([1,50])\n",
    "\n",
    "#####################\n",
    "# plot the legend\n",
    "#####################\n",
    "#get 2 token points for either of the full models\n",
    "#LR\n",
    "num = 1/3 # 1.638 # ±0.017\n",
    "# xlst=[0.14,0.8]\n",
    "xlst=[1e1,1e2]\n",
    "y1 =10\n",
    "# y1 = 8\n",
    "y2 = y1 * (xlst[1]/xlst[0])**num\n",
    "ylst=[y1,y2]\n",
    "xlst_lr = list(xlst)\n",
    "ylst_lr = list(ylst)\n",
    "\n",
    "#FK\n",
    "num = 1/3 # 1.88 # ±0.03\n",
    "# xlst=[1.4,8]\n",
    "# xlst=[7.,1e3]\n",
    "y1 = 19\n",
    "# y1 = 15\n",
    "y2 = y1 * (xlst[1]/xlst[0])**num\n",
    "ylst=[y1,y2]\n",
    "xlst_fk = list(xlst)\n",
    "ylst_fk = list(ylst)\n",
    "\n",
    "\n",
    "# #mark the slope corresponding to the FK model\n",
    "# ax.plot(xlst_fk,ylst_fk,':',color='gray')\n",
    "# #mark the slope corresponding to the LR model\n",
    "# ax.plot(xlst_lr,ylst_lr,':',color='gray')\n",
    "#DONT(in .odg): annotate slope marker as $nu_-$\n",
    "plt.show()"
   ]
  },
  {
   "cell_type": "markdown",
   "id": "6e2e785a",
   "metadata": {},
   "source": [
    "# recall birth rates"
   ]
  },
  {
   "cell_type": "code",
   "execution_count": 121,
   "id": "8c1aa0c7",
   "metadata": {
    "ExecuteTime": {
     "end_time": "2023-06-18T18:38:58.141229Z",
     "start_time": "2023-06-18T18:38:58.101446Z"
    }
   },
   "outputs": [],
   "source": [
    "birth_rate_dir_fk = f'{nb_dir}/data/full_results/data_fig4_timothy_fk_up2_rescaled_per_tt.csv'\n",
    "birth_rate_dir_lr = f'{nb_dir}/data/full_results/data_fig4_timothy_lr_up2_rescaled_per_tt.csv'\n",
    "df_birth_fk = pd.read_csv(birth_rate_dir_fk)\n",
    "df_birth_lr = pd.read_csv(birth_rate_dir_lr)\n",
    "#scale from kHz to Hz\n",
    "df_birth_fk['w']*=1e3\n",
    "df_birth_lr['w']*=1e3"
   ]
  },
  {
   "cell_type": "code",
   "execution_count": 122,
   "id": "9e04eee9",
   "metadata": {
    "ExecuteTime": {
     "end_time": "2023-06-18T18:39:00.046401Z",
     "start_time": "2023-06-18T18:38:59.994198Z"
    }
   },
   "outputs": [
    {
     "name": "stdout",
     "output_type": "stream",
     "text": [
      "creation rate density powerlaw fits:\n",
      "m = 0.229594 +/- 0.010098\n",
      "M = 0.864210 +/- 0.002349 Hz/cm^2; B=0.529597 +/- 0.020570\n",
      "RMSE=0.0215 Hz/cm^2; R^2=0.9655; MPE=3.0209%; N=73\n",
      "m = 0.714755 +/- 0.009768\n",
      "M = 3.277073 +/- 0.102643 Hz/cm^2; B=5.262676 +/- 0.107278\n",
      "RMSE=0.0417 Hz/cm^2; R^2=0.9971; MPE=4.2323%; N=62\n"
     ]
    }
   ],
   "source": [
    "# DONE: compute powerlaw fits of birth rates wjr\n",
    "print(f\"creation rate density powerlaw fits:\")\n",
    "dict_fit_birth_fk = print_fit_power_law(x=df_birth_fk['q'].values,y=df_birth_fk['w'].values)\n",
    "dict_fit_birth_lr = print_fit_power_law(x=df_birth_lr['q'].values,y=df_birth_lr['w'].values)\n",
    "\n",
    "# wjr=recall_powerlaw_fits_to_full_models()\n",
    "# print(f\"\\nannihilation rate density powerlaw fits:\")\n",
    "# print(f\"wjr['fk_pbc']:\")\n",
    "# print_dict(wjr['fk_pbc'])\n",
    "# print(f\"\\nwjr['lr_pbc']:\")\n",
    "# print_dict(wjr['lr_pbc'])\n",
    "\n",
    "# print(f\"\\nwjr['fk_pbc']:\")\n",
    "# print_dict(wjr['fk_pbc'])\n",
    "# print(f\"\\nwjr['lr_pbc']:\")\n",
    "# print_dict(wjr['lr_pbc'])"
   ]
  },
  {
   "cell_type": "code",
   "execution_count": 123,
   "id": "fba10c33",
   "metadata": {
    "ExecuteTime": {
     "end_time": "2023-06-18T18:39:00.664694Z",
     "start_time": "2023-06-18T18:39:00.660495Z"
    }
   },
   "outputs": [],
   "source": [
    "xv = np.arange(0.1, 10,0.01)\n",
    "# evaluate powerlaw fits of birth rates wjr\n",
    "yv_birth_lr = dict_fit_birth_lr['M']*xv**dict_fit_birth_lr['m']\n",
    "# yv_death_lr = wjr['lr_pbc']['M']*xv**wjr['lr_pbc']['m']\n",
    "# evalutate plot powerlaw fits of death rates wjr\n",
    "yv_birth_fk = dict_fit_birth_fk['M']*xv**dict_fit_birth_fk['m']\n",
    "# yv_death_fk = wjr['fk_pbc']['M']*xv**wjr['fk_pbc']['m']\n",
    "# yv_birth_lr.shape,yv_birth_fk.shape\n",
    "# x2lim"
   ]
  },
  {
   "cell_type": "code",
   "execution_count": 124,
   "id": "fe8e00fb",
   "metadata": {
    "ExecuteTime": {
     "end_time": "2023-06-18T18:39:02.223327Z",
     "start_time": "2023-06-18T18:39:01.303791Z"
    }
   },
   "outputs": [
    {
     "data": {
      "image/png": "[encoded data removed]",
      "text/plain": [
       "<Figure size 300x400 with 1 Axes>"
      ]
     },
     "metadata": {},
     "output_type": "display_data"
    }
   ],
   "source": [
    "# fig,ax=plt.subplots()\n",
    "# figsize = (6, 4)  #(5,4)\n",
    "# figsize = (4,4)\n",
    "figsize = (3,4)\n",
    "# fontsize=16\n",
    "fig,ax=plt.subplots(figsize=figsize)\n",
    "fontsize=15\n",
    "# x1lim=[0.008, 11]\n",
    "# x1lim=[0.08, 11]\n",
    "# x2lim=[0.01, 25]\n",
    "# x2lim=[0.01, 250]\n",
    "legend_alpha=1.0\n",
    "minx=0.1\n",
    "alpha=0.2\n",
    "s=40\n",
    "# fontsize=18\n",
    "use_loglog=True\n",
    "frameon_legend=False\n",
    "show_fk=True\n",
    "show_lr=True\n",
    "zorder=0\n",
    "# df_birth_fk.plot(x='q',y='w',ax=ax,c='C0',alpha=0.5,label=r'FK: N$\\rightarrow$N+2',lw=4)\n",
    "# fk.plot(x='q',y='w',ax=ax,c='C0',label=r'FK: N$\\rightarrow$N-2',lw=4)\n",
    "# df_birth_lr.plot(x='q',y='w',ax=ax,c='C1',alpha=0.5,label=r'LR: N$\\rightarrow$N+2',lw=4)\n",
    "# lr.plot(x='q',y='w',ax=ax,c='C1',label=r'LR: N$\\rightarrow$N-2',lw=4)\n",
    "markersize=30\n",
    "\n",
    "# df_birth_fk.plot.scatter(x='q',y='w',ax=ax,c='C0',#'gray',#\n",
    "df_birth_fk[df_birth_fk['q']>minx].plot.scatter(x='q',y='w',ax=ax,c='C0',#'gray',#\n",
    "#                          marker='^',label=r'FK: N$\\rightarrow$N+2',\n",
    "                         label=r'Fenton-Karma',\n",
    "                         alpha=1.,s=markersize)\n",
    "# fk.plot.scatter(x='q',y='w',ax=ax,c='C0',label=r'FK: N$\\rightarrow$N-2',s=markersize)\n",
    "# df_birth_lr.plot.scatter(x='q',y='w',ax=ax,c='C1',#'r',#\n",
    "df_birth_lr[df_birth_lr['q']>minx].plot.scatter(x='q',y='w',ax=ax,c='C1',#'r',#\n",
    "#                         marker='^',label=r'LR: N$\\rightarrow$N+2',\n",
    "                         label=r'Luo-Rudy',\n",
    "                         alpha=1.,s=markersize)\n",
    "# lr.plot.scatter(x='q',y='w',ax=ax,c='C1',label=r'LR: N$\\rightarrow$N-2',s=markersize)\n",
    "\n",
    "#plot the powerlaw fits\n",
    "# ax.plot(xv,yv_death_fk,'k--',alpha=0.5)\n",
    "# ax.plot(xv,yv_death_lr,'k--',alpha=0.5)\n",
    "# ax.plot(xv,yv_birth_fk,'k--',alpha=0.5)\n",
    "# ax.plot(xv,yv_birth_lr,'k--',alpha=0.5)\n",
    "# ax.plot(xv,yv_birth_fk,'C0--',alpha=0.5)\n",
    "# ax.plot(xv,yv_birth_lr,'C1--',alpha=0.5)\n",
    "ax.plot(xv,yv_birth_fk,'k:',alpha=0.5)\n",
    "ax.plot(xv,yv_birth_lr,'k:',alpha=0.5)\n",
    "\n",
    "# #draw vertical dotted line up to the intersection point for both of the full models\n",
    "# ax.scatter([qstar_fk],[wstar_fk],c='k',s=40,alpha=0.9,zorder=100)\n",
    "# ax.scatter([qstar_lr],[wstar_lr],c='k',s=40,alpha=0.9,zorder=100)\n",
    "# ax.plot([qstar_fk,qstar_fk],[0.001,wstar_fk],'k:',alpha=0.9)\n",
    "# ax.plot([qstar_lr,qstar_lr],[0.001,wstar_lr],'k:',alpha=0.9)\n",
    "\n",
    "ax.tick_params(top=True, right=True,direction='in',which='both')\n",
    "format_plot(ax=ax,xlabel=r'$n$ (1/cm$^2$)',ylabel=r'$w_-$ (Hz/cm$^2$)',fontsize=fontsize,use_loglog=True)\n",
    "# format_plot(ax=ax,xlabel=r'$q$ (1/cm$^2$)',ylabel=r'$w_-$ (Hz/cm$^2$)',fontsize=fontsize,use_loglog=True)\n",
    "# ax.legend(loc='upper left',fontsize=fontsize-2)\n",
    "# ax.legend(loc='lower right',fontsize=fontsize-2.,frameon=False,ncol=2)\n",
    "# leg = ax.legend(loc=(1.04,0.2),fontsize=fontsize-2.,frameon=False)\n",
    "leg = ax.legend(loc='upper left',fontsize=fontsize-3.,frameon=False,ncol=1)\n",
    "# leg = ax.legend(loc='lower right',fontsize=fontsize-3.,frameon=False,ncol=1)\n",
    "for lh in leg.legendHandles: \n",
    "    lh.set_alpha(1)\n",
    "\n",
    "    \n",
    "    \n",
    "# format_plot\n",
    "format_plot(ax=ax,xlabel=r'n (1/cm$^2$)',ylabel=r'$w_{+}$ (Hz/cm$^2$)',fontsize=fontsize)#,use_loglog=True)\n",
    "# format_plot(ax=ax,xlabel=r'n (1/cm$^2$)',ylabel=r'w (Hz/cm$^2$)',fontsize=fontsize)#,use_loglog=True)\n",
    "# format_plot(ax=ax,xlabel=r'q (1/cm$^2$)',ylabel=r'w (Hz/cm$^2$)',fontsize=fontsize)#,use_loglog=True)\n",
    "# # plt.legend(fontsize=14,frameon=False,loc='upper left')\n",
    "# plt.legend(fontsize=14,frameon=False,loc='upper left')\n",
    "# # ax.get_legend().remove()\n",
    "\n",
    "\n",
    "leg = ax.legend(loc='lower right',fontsize=fontsize-3.,frameon=True,ncol=1)\n",
    "for lh in leg.legendHandles: \n",
    "    lh.set_alpha(1)\n",
    "# ax.get_legend().remove()\n",
    "\n",
    "# AddLegend(loc='upper left')\n",
    "ax.set_xscale('log')\n",
    "ax.set_yscale('log')\n",
    "# ax.set_ylim((0.0023641776732192935, 25.08908114695242))\n",
    "ax.tick_params(top=True, right=True,direction='in',which='both')\n",
    "# ax.set_xlim((0.008, 11.0))\n",
    "# ax.set_ylim((0.01, 250.0))\n",
    "# ax.set_xlim(x1lim)\n",
    "# ax.set_xlim([0.08, 1.1])\n",
    "ax.set_xlim([0.08, 11])\n",
    "x2lim=[0.01, 250]\n",
    "ax.set_ylim(x2lim)\n",
    "plt.show()"
   ]
  },
  {
   "cell_type": "code",
   "execution_count": null,
   "id": "ed4f33ca",
   "metadata": {},
   "outputs": [],
   "source": []
  },
  {
   "cell_type": "markdown",
   "id": "542d6a7b",
   "metadata": {},
   "source": [
    "# estimate the mean termination time versus alinear"
   ]
  },
  {
   "cell_type": "code",
   "execution_count": 125,
   "id": "394769f1",
   "metadata": {
    "ExecuteTime": {
     "end_time": "2023-06-18T18:39:06.564752Z",
     "start_time": "2023-06-18T18:39:06.560316Z"
    }
   },
   "outputs": [],
   "source": [
    "amax=9999\n",
    "# num_iter=20 # max num particles to consider divided by two.\n",
    "num_iter=50 # max num particles to consider divided by two."
   ]
  },
  {
   "cell_type": "code",
   "execution_count": 126,
   "id": "c345a889",
   "metadata": {
    "ExecuteTime": {
     "end_time": "2023-06-18T18:39:07.810413Z",
     "start_time": "2023-06-18T18:39:07.805536Z"
    }
   },
   "outputs": [],
   "source": [
    "# df_death_rate_versus_alinear = dict_data_fk['df_death_rate_versus_alinear']\n",
    "df_death_rate_versus_alinear = dict_data_lr['df_death_rate_versus_alinear']\n",
    "\n",
    "model_name='Luo-Rudy'\n",
    "Mp = dict_fit_birth_lr['M']\n",
    "nup = dict_fit_birth_lr['m']\n",
    "Mm = dict_fit_death_lr['M']\n",
    "num = dict_fit_death_lr['m']"
   ]
  },
  {
   "cell_type": "code",
   "execution_count": 127,
   "id": "f41cc619",
   "metadata": {
    "ExecuteTime": {
     "end_time": "2023-06-18T18:41:05.190059Z",
     "start_time": "2023-06-18T18:39:09.662294Z"
    }
   },
   "outputs": [
    {
     "name": "stdout",
     "output_type": "stream",
     "text": [
      "Luo-Rudy (A=25 cm^2) with alinear=1.5520 cm^2/s:\n",
      "- mean termination time (correct qs distr): 16.5377 s\n",
      "- mean num particles (correct qs distr): 9.3108\n",
      "- mean num particles (qstar*A): 10.6000\n",
      "Luo-Rudy (A=25 cm^2) with alinear=9.3000 cm^2/s:\n",
      "- mean termination time (correct qs distr): 0.3535 s\n",
      "- mean num particles (correct qs distr): 8.0145\n",
      "- mean num particles (qstar*A): 3.7500\n",
      "Luo-Rudy (A=25 cm^2) with alinear=1.0000 cm^2/s:\n",
      "- mean termination time (correct qs distr): 56.0608 s\n",
      "- mean num particles (correct qs distr): 10.6970\n",
      "- mean num particles (qstar*A): 12.1000\n",
      "Luo-Rudy (A=25 cm^2) with alinear=2.0000 cm^2/s:\n",
      "- mean termination time (correct qs distr): 8.9808 s\n",
      "- mean num particles (correct qs distr): 8.5549\n",
      "- mean num particles (qstar*A): 9.6750\n",
      "Luo-Rudy (A=25 cm^2) with alinear=3.0000 cm^2/s:\n",
      "- mean termination time (correct qs distr): 2.7494 s\n",
      "- mean num particles (correct qs distr): 7.5071\n",
      "- mean num particles (qstar*A): 7.8250\n",
      "Luo-Rudy (A=25 cm^2) with alinear=4.0000 cm^2/s:\n",
      "- mean termination time (correct qs distr): 1.6871 s\n",
      "- mean num particles (correct qs distr): 7.2095\n",
      "- mean num particles (qstar*A): 6.9250\n",
      "Luo-Rudy (A=25 cm^2) with alinear=5.0000 cm^2/s:\n",
      "- mean termination time (correct qs distr): 0.9816 s\n",
      "- mean num particles (correct qs distr): 7.1755\n",
      "- mean num particles (qstar*A): 5.9000\n",
      "Luo-Rudy (A=25 cm^2) with alinear=6.0000 cm^2/s:\n",
      "- mean termination time (correct qs distr): 0.6757 s\n",
      "- mean num particles (correct qs distr): 7.3395\n",
      "- mean num particles (qstar*A): 5.1500\n",
      "Luo-Rudy (A=25 cm^2) with alinear=7.0000 cm^2/s:\n",
      "- mean termination time (correct qs distr): 0.5420 s\n",
      "- mean num particles (correct qs distr): 7.4654\n",
      "- mean num particles (qstar*A): 4.6750\n",
      "Luo-Rudy (A=25 cm^2) with alinear=8.0000 cm^2/s:\n",
      "- mean termination time (correct qs distr): 0.4764 s\n",
      "- mean num particles (correct qs distr): 7.7010\n",
      "- mean num particles (qstar*A): 4.4000\n",
      "Luo-Rudy (A=25 cm^2) with alinear=9.0000 cm^2/s:\n",
      "- mean termination time (correct qs distr): 0.3588 s\n",
      "- mean num particles (correct qs distr): 8.0583\n",
      "- mean num particles (qstar*A): 3.8000\n",
      "Luo-Rudy (A=25 cm^2) with alinear=10.0000 cm^2/s:\n",
      "- mean termination time (correct qs distr): 0.3410 s\n",
      "- mean num particles (correct qs distr): 8.1279\n",
      "- mean num particles (qstar*A): 3.6750\n",
      "Luo-Rudy (A=25 cm^2) with alinear=15.0000 cm^2/s:\n",
      "- mean termination time (correct qs distr): 0.2035 s\n",
      "- mean num particles (correct qs distr): 9.1486\n",
      "- mean num particles (qstar*A): 2.5500\n",
      "Luo-Rudy (A=25 cm^2) with alinear=20.0000 cm^2/s:\n",
      "- mean termination time (correct qs distr): 0.1508 s\n",
      "- mean num particles (correct qs distr): 9.9158\n",
      "- mean num particles (qstar*A): 1.9500\n",
      "Luo-Rudy (A=25 cm^2) with alinear=25.0000 cm^2/s:\n",
      "- mean termination time (correct qs distr): 0.1236 s\n",
      "- mean num particles (correct qs distr): 10.5777\n",
      "- mean num particles (qstar*A): 1.5500\n",
      "Luo-Rudy (A=25 cm^2) with alinear=30.0000 cm^2/s:\n",
      "- mean termination time (correct qs distr): 0.1050 s\n",
      "- mean num particles (correct qs distr): 11.1842\n",
      "- mean num particles (qstar*A): 1.2750\n"
     ]
    }
   ],
   "source": [
    "#format data for extraction\n",
    "# input size of computational domain with pbc\n",
    "# L=5 #cm\n",
    "A=L**2 #cm^2\n",
    "# alinear_lst = [30, 25, 20, 15, 10, 5, 4, 3, 2, 1, 0]\n",
    "# alinear_lst = [30, 25, 20, 15, 10, 5, 4, 3, 2, 1]\n",
    "alinear_lst = list(df_death_rate_versus_alinear.alinear.drop_duplicates().values)\n",
    "printing=True\n",
    "dict_results_master_lst=[]\n",
    "for alinear in alinear_lst:\n",
    "    dg = df_death_rate_versus_alinear [ df_death_rate_versus_alinear['alinear'] == alinear ]\n",
    "    num = float(dg['m'])\n",
    "    Delta_num = float(dg['Delta_m'])\n",
    "    Mm = float(dg['M'])\n",
    "    Delta_Mm = float(dg['Delta_M'])\n",
    "    ################################\n",
    "    # estimate mtt \n",
    "    ################################\n",
    "    #implement model\n",
    "    comp_Wp = get_comp_W(A,nup,Mp)\n",
    "    comp_Wm = get_comp_W(A,num,Mm)\n",
    "    phi = get_phi(comp_Wm,comp_Wp)\n",
    "    eval_tau= get_eval_tau(eval_tau_expression)\n",
    "    #estimate the quasistatic distribution\n",
    "    n_qs,prob_qs = comp_quasistatic_distrib_paired_bdrates(comp_Wm,comp_Wp,num_iter=num_iter)\n",
    "    #estimate the mean termination time\n",
    "    tau = eval_tau(n_qs, prob_qs, phi, comp_Wm, comp_Wp, maxinf_num_inner_sum=num_iter, printing=False)#,**kwargs)\n",
    "    \n",
    "    #not used elsewhere\n",
    "    # tscale=1e-3\n",
    "    # tau*=tscale\n",
    "    \n",
    "    #estimate the mean number of particles\n",
    "    nbar = np.sum(prob_qs*n_qs)\n",
    "    nsqbar = np.sum(prob_qs*(n_qs**2))\n",
    "    xv = np.arange(0.02, 1,0.001)\n",
    "    qstar,wstar = comp_powerlaw_intersection(Mp,nup,Mm,num,xv=xv)\n",
    "    #record\n",
    "    dict_results_master_ = dict(\n",
    "        model=model_name,\n",
    "        alinear=alinear,\n",
    "        tau=tau,\n",
    "        nbar=nbar,\n",
    "        qstarA=qstar*A,\n",
    "        A=A,\n",
    "        Mp=Mp,nup=nup,\n",
    "        Mm=Mm,num=num,\n",
    "        qstar=qstar,wstar=wstar,\n",
    "        num_iter=num_iter,\n",
    "        nsqbar=nsqbar)\n",
    "    #print summary\n",
    "    if printing:\n",
    "        print(f\"{model_name} ({A=:.0f} cm^2) with {alinear=:.4f} cm^2/s:\")\n",
    "        print(f\"- mean termination time (correct qs distr): {tau:.4f} s\")    \n",
    "        print(f\"- mean num particles (correct qs distr): {nbar:.4f}\")\n",
    "        print(f\"- mean num particles (qstar*A): {qstar*A:.4f}\") \n",
    "    #record\n",
    "    dict_results_master_lst.append(dict_results_master_)\n",
    "\n",
    "df_results_master = pd.DataFrame(dict_results_master_lst)\n",
    "df_results_master_lr=df_results_master.copy()\n",
    "\n",
    "#extract xy\n",
    "df_results_master.sort_values(by='alinear',inplace=True)\n",
    "boo = (df_results_master['alinear']<=amax)&(df_results_master['alinear']>0)\n",
    "xlr=df_results_master['alinear'].values[boo]\n",
    "ylr=df_results_master['tau'].values[boo]"
   ]
  },
  {
   "cell_type": "code",
   "execution_count": 128,
   "id": "ccbecd4b",
   "metadata": {
    "ExecuteTime": {
     "end_time": "2023-06-18T18:41:05.203865Z",
     "start_time": "2023-06-18T18:41:05.198838Z"
    }
   },
   "outputs": [],
   "source": [
    "df_death_rate_versus_alinear = dict_data_fk['df_death_rate_versus_alinear']\n",
    "# df_death_rate_versus_alinear = dict_data_lr['df_death_rate_versus_alinear']\n",
    "\n",
    "model_name='Fenton-Karma'\n",
    "Mp = dict_fit_birth_fk['M']\n",
    "nup = dict_fit_birth_fk['m']\n",
    "Mm = dict_fit_death_fk['M']\n",
    "num = dict_fit_death_fk['m']"
   ]
  },
  {
   "cell_type": "code",
   "execution_count": 129,
   "id": "d0ed848e",
   "metadata": {
    "ExecuteTime": {
     "end_time": "2023-06-18T18:42:58.848022Z",
     "start_time": "2023-06-18T18:41:05.207163Z"
    }
   },
   "outputs": [
    {
     "name": "stdout",
     "output_type": "stream",
     "text": [
      "Fenton-Karma (A=25 cm^2) with alinear=1.5520 cm^2/s:\n",
      "- mean termination time (correct qs distr): 16.5380 s\n",
      "- mean num particles (correct qs distr): 7.7487\n",
      "- mean num particles (qstar*A): 8.1250\n",
      "Fenton-Karma (A=25 cm^2) with alinear=9.3000 cm^2/s:\n",
      "- mean termination time (correct qs distr): 0.8502 s\n",
      "- mean num particles (correct qs distr): 7.7756\n",
      "- mean num particles (qstar*A): 4.3500\n",
      "Fenton-Karma (A=25 cm^2) with alinear=1.0000 cm^2/s:\n",
      "- mean termination time (correct qs distr): 42.8950 s\n",
      "- mean num particles (correct qs distr): 8.5386\n",
      "- mean num particles (qstar*A): 9.1250\n",
      "Fenton-Karma (A=25 cm^2) with alinear=2.0000 cm^2/s:\n",
      "- mean termination time (correct qs distr): 12.5782 s\n",
      "- mean num particles (correct qs distr): 7.5404\n",
      "- mean num particles (qstar*A): 7.8000\n",
      "Fenton-Karma (A=25 cm^2) with alinear=3.0000 cm^2/s:\n",
      "- mean termination time (correct qs distr): 5.4432 s\n",
      "- mean num particles (correct qs distr): 7.1157\n",
      "- mean num particles (qstar*A): 6.8500\n",
      "Fenton-Karma (A=25 cm^2) with alinear=4.0000 cm^2/s:\n",
      "- mean termination time (correct qs distr): 3.1736 s\n",
      "- mean num particles (correct qs distr): 6.9586\n",
      "- mean num particles (qstar*A): 6.1500\n",
      "Fenton-Karma (A=25 cm^2) with alinear=5.0000 cm^2/s:\n",
      "- mean termination time (correct qs distr): 2.0412 s\n",
      "- mean num particles (correct qs distr): 7.0957\n",
      "- mean num particles (qstar*A): 5.6000\n",
      "Fenton-Karma (A=25 cm^2) with alinear=6.0000 cm^2/s:\n",
      "- mean termination time (correct qs distr): 1.5858 s\n",
      "- mean num particles (correct qs distr): 7.2033\n",
      "- mean num particles (qstar*A): 5.2500\n",
      "Fenton-Karma (A=25 cm^2) with alinear=7.0000 cm^2/s:\n",
      "- mean termination time (correct qs distr): 1.1683 s\n",
      "- mean num particles (correct qs distr): 7.4574\n",
      "- mean num particles (qstar*A): 4.8250\n",
      "Fenton-Karma (A=25 cm^2) with alinear=8.0000 cm^2/s:\n",
      "- mean termination time (correct qs distr): 1.0157 s\n",
      "- mean num particles (correct qs distr): 7.6776\n",
      "- mean num particles (qstar*A): 4.6250\n",
      "Fenton-Karma (A=25 cm^2) with alinear=9.0000 cm^2/s:\n",
      "- mean termination time (correct qs distr): 0.8605 s\n",
      "- mean num particles (correct qs distr): 7.8129\n",
      "- mean num particles (qstar*A): 4.3750\n",
      "Fenton-Karma (A=25 cm^2) with alinear=10.0000 cm^2/s:\n",
      "- mean termination time (correct qs distr): 0.7042 s\n",
      "- mean num particles (correct qs distr): 8.0943\n",
      "- mean num particles (qstar*A): 4.0750\n",
      "Fenton-Karma (A=25 cm^2) with alinear=15.0000 cm^2/s:\n",
      "- mean termination time (correct qs distr): 0.4152 s\n",
      "- mean num particles (correct qs distr): 9.2834\n",
      "- mean num particles (qstar*A): 3.2500\n",
      "Fenton-Karma (A=25 cm^2) with alinear=20.0000 cm^2/s:\n",
      "- mean termination time (correct qs distr): 0.3007 s\n",
      "- mean num particles (correct qs distr): 10.0847\n",
      "- mean num particles (qstar*A): 2.7500\n",
      "Fenton-Karma (A=25 cm^2) with alinear=25.0000 cm^2/s:\n",
      "- mean termination time (correct qs distr): 0.2459 s\n",
      "- mean num particles (correct qs distr): 10.7213\n",
      "- mean num particles (qstar*A): 2.4500\n",
      "Fenton-Karma (A=25 cm^2) with alinear=30.0000 cm^2/s:\n",
      "- mean termination time (correct qs distr): 0.2065 s\n",
      "- mean num particles (correct qs distr): 11.2624\n",
      "- mean num particles (qstar*A): 2.1750\n"
     ]
    }
   ],
   "source": [
    "#format data for extraction\n",
    "# input size of computational domain with pbc\n",
    "# L=5 #cm\n",
    "A=L**2 #cm^2\n",
    "# num_iter=20 # max num particles to consider divided by two.\n",
    "# alinear_lst = [30, 25, 20, 15, 10, 5, 4, 3, 2, 1, 0]\n",
    "# alinear_lst = [30, 25, 20, 15, 10, 5, 4, 3, 2, 1]\n",
    "alinear_lst = list(df_death_rate_versus_alinear.alinear.drop_duplicates().values)\n",
    "printing=True\n",
    "dict_results_master_lst=[]\n",
    "for alinear in alinear_lst:\n",
    "    dg = df_death_rate_versus_alinear [ df_death_rate_versus_alinear['alinear'] == alinear ]\n",
    "    num = float(dg['m'])\n",
    "    Delta_num = float(dg['Delta_m'])\n",
    "    Mm = float(dg['M'])\n",
    "    Delta_Mm = float(dg['Delta_M'])\n",
    "    ################################\n",
    "    # estimate mtt \n",
    "    ################################\n",
    "    #implement model\n",
    "    comp_Wp = get_comp_W(A,nup,Mp)\n",
    "    comp_Wm = get_comp_W(A,num,Mm)\n",
    "    phi = get_phi(comp_Wm,comp_Wp)\n",
    "    eval_tau= get_eval_tau(eval_tau_expression)\n",
    "    #estimate the quasistatic distribution\n",
    "    n_qs,prob_qs = comp_quasistatic_distrib_paired_bdrates(comp_Wm,comp_Wp,num_iter=num_iter)\n",
    "    #estimate the mean termination time\n",
    "    tau = eval_tau(n_qs, prob_qs, phi, comp_Wm, comp_Wp, maxinf_num_inner_sum=num_iter, printing=False)#,**kwargs)\n",
    "    \n",
    "    #not used elsewhere\n",
    "    # tscale=1e-3\n",
    "    # tau*=tscale\n",
    "    \n",
    "    #estimate the mean number of particles\n",
    "    nbar = np.sum(prob_qs*n_qs)\n",
    "    nsqbar = np.sum(prob_qs*(n_qs**2))\n",
    "    xv = np.arange(0.02, 1,0.001)\n",
    "    qstar,wstar = comp_powerlaw_intersection(Mp,nup,Mm,num,xv=xv)\n",
    "    #record\n",
    "    dict_results_master_ = dict(\n",
    "        model=model_name,\n",
    "        alinear=alinear,\n",
    "        tau=tau,\n",
    "        nbar=nbar,\n",
    "        qstarA=qstar*A,\n",
    "        A=A,\n",
    "        Mp=Mp,nup=nup,\n",
    "        Mm=Mm,num=num,\n",
    "        qstar=qstar,wstar=wstar,\n",
    "        num_iter=num_iter,\n",
    "        nsqbar=nsqbar)\n",
    "    #print summary\n",
    "    if printing:\n",
    "        print(f\"{model_name} ({A=:.0f} cm^2) with {alinear=:.4f} cm^2/s:\")\n",
    "        print(f\"- mean termination time (correct qs distr): {tau:.4f} s\")    \n",
    "        print(f\"- mean num particles (correct qs distr): {nbar:.4f}\")\n",
    "        print(f\"- mean num particles (qstar*A): {qstar*A:.4f}\") \n",
    "    #record\n",
    "    dict_results_master_lst.append(dict_results_master_)\n",
    "\n",
    "df_results_master = pd.DataFrame(dict_results_master_lst)\n",
    "df_results_master_fk=df_results_master.copy()\n",
    "#extract xy\n",
    "df_results_master.sort_values(by='alinear',inplace=True)\n",
    "boo = (df_results_master['alinear']<=amax)&(df_results_master['alinear']>0)\n",
    "xfk=df_results_master['alinear'].values[boo]\n",
    "yfk=df_results_master['tau'].values[boo]"
   ]
  },
  {
   "cell_type": "code",
   "execution_count": 130,
   "id": "dda2658a",
   "metadata": {
    "ExecuteTime": {
     "end_time": "2023-06-18T18:42:58.914458Z",
     "start_time": "2023-06-18T18:42:58.908891Z"
    }
   },
   "outputs": [
    {
     "data": {
      "text/plain": [
       "5"
      ]
     },
     "execution_count": 130,
     "metadata": {},
     "output_type": "execute_result"
    }
   ],
   "source": [
    "aline_fk = 1.552\n",
    "aline_lr = 9.3\n",
    "tau_fk = yfk[xfk==aline_fk][0]\n",
    "tau_lr = ylr[xlr==aline_lr][0]\n",
    "L"
   ]
  },
  {
   "cell_type": "code",
   "execution_count": 131,
   "id": "f8ab596e",
   "metadata": {
    "ExecuteTime": {
     "end_time": "2023-06-18T18:43:00.065429Z",
     "start_time": "2023-06-18T18:42:58.917883Z"
    }
   },
   "outputs": [
    {
     "data": {
      "image/png": "[encoded data removed]",
      "text/plain": [
       "<Figure size 300x400 with 1 Axes>"
      ]
     },
     "metadata": {},
     "output_type": "display_data"
    }
   ],
   "source": [
    "figsize=(3,4)\n",
    "fontsize=15\n",
    "alpha=0.7\n",
    "fig,ax=plt.subplots(figsize=figsize)\n",
    "# ax.scatter(x=x,\n",
    "#            y=y+tauinfty,#**0.5,#**2,#\n",
    "#            c='k')\n",
    "ax.scatter(xfk,yfk,c='C0',alpha=alpha)#,label='Fenton-Karma')\n",
    "ax.scatter(xlr,ylr,c='C1',alpha=alpha)#,label='Luo-Rudy')\n",
    "ax.scatter([aline_fk],[tau_fk],marker='o',edgecolor='k',c='C0',#'k',\n",
    "           alpha=1,label='Fenton-Karma')\n",
    "ax.scatter([aline_lr],[tau_lr],marker='o',edgecolor='k',c='C1',#c='k',\n",
    "           alpha=1,label='Luo-Rudy')\n",
    "format_plot(ax=ax,xlabel=r'$a$ (cm$^2/$s)',ylabel=r'$\\tau$  (s)',fontsize=16)\n",
    "ax.set_xscale('log')\n",
    "ax.set_yscale('log')\n",
    "ax.tick_params(top=True, right=True,direction='in',which='both')\n",
    "ax.tick_params(top=True, right=True,direction='in',which='minor',length=3)\n",
    "ax.set_ylim([1e-2,3000])\n",
    "ax.set_xlim([0.8,33])\n",
    "leg = ax.legend(loc='upper right',fontsize=fontsize-2)#,frameon=False,ncol=1)\n",
    "# leg = ax.legend(loc='lower right',fontsize=fontsize-3.,frameon=False,ncol=1)\n",
    "for lh in leg.legendHandles: \n",
    "    lh.set_alpha(1)\n",
    "plt.show()"
   ]
  },
  {
   "cell_type": "code",
   "execution_count": 132,
   "id": "a4c2dc00",
   "metadata": {
    "ExecuteTime": {
     "end_time": "2023-06-18T18:43:00.075565Z",
     "start_time": "2023-06-18T18:43:00.069537Z"
    }
   },
   "outputs": [],
   "source": [
    "df_results_master_fk['model_name']='FK'\n",
    "df_results_master_lr['model_name']='LR'\n",
    "df_taubariN = pd.concat([\n",
    "    df_results_master_fk,\n",
    "    df_results_master_lr\n",
    "])"
   ]
  },
  {
   "cell_type": "code",
   "execution_count": 133,
   "id": "77d7bf2d",
   "metadata": {
    "ExecuteTime": {
     "end_time": "2023-06-18T18:43:00.112836Z",
     "start_time": "2023-06-18T18:43:00.078458Z"
    }
   },
   "outputs": [
    {
     "data": {
      "text/html": [
       "<div>\n",
       "<style scoped>\n",
       "    .dataframe tbody tr th:only-of-type {\n",
       "        vertical-align: middle;\n",
       "    }\n",
       "\n",
       "    .dataframe tbody tr th {\n",
       "        vertical-align: top;\n",
       "    }\n",
       "\n",
       "    .dataframe thead th {\n",
       "        text-align: right;\n",
       "    }\n",
       "</style>\n",
       "<table border=\"1\" class=\"dataframe\">\n",
       "  <thead>\n",
       "    <tr style=\"text-align: right;\">\n",
       "      <th></th>\n",
       "      <th>model</th>\n",
       "      <th>alinear</th>\n",
       "      <th>tau</th>\n",
       "      <th>nbar</th>\n",
       "      <th>qstarA</th>\n",
       "      <th>A</th>\n",
       "      <th>Mp</th>\n",
       "      <th>nup</th>\n",
       "      <th>Mm</th>\n",
       "      <th>num</th>\n",
       "      <th>qstar</th>\n",
       "      <th>wstar</th>\n",
       "      <th>num_iter</th>\n",
       "      <th>nsqbar</th>\n",
       "      <th>model_name</th>\n",
       "      <th>Nbar</th>\n",
       "    </tr>\n",
       "  </thead>\n",
       "  <tbody>\n",
       "    <tr>\n",
       "      <th>0</th>\n",
       "      <td>Fenton-Karma</td>\n",
       "      <td>1.552</td>\n",
       "      <td>16.538043</td>\n",
       "      <td>7.748724</td>\n",
       "      <td>8.125</td>\n",
       "      <td>25</td>\n",
       "      <td>0.86421</td>\n",
       "      <td>0.229594</td>\n",
       "      <td>5.750859</td>\n",
       "      <td>1.914978</td>\n",
       "      <td>0.325</td>\n",
       "      <td>0.667653</td>\n",
       "      <td>50</td>\n",
       "      <td>78.156923</td>\n",
       "      <td>FK</td>\n",
       "      <td>8.125</td>\n",
       "    </tr>\n",
       "    <tr>\n",
       "      <th>1</th>\n",
       "      <td>Fenton-Karma</td>\n",
       "      <td>9.300</td>\n",
       "      <td>0.850184</td>\n",
       "      <td>7.775626</td>\n",
       "      <td>4.350</td>\n",
       "      <td>25</td>\n",
       "      <td>0.86421</td>\n",
       "      <td>0.229594</td>\n",
       "      <td>9.503660</td>\n",
       "      <td>1.600492</td>\n",
       "      <td>0.174</td>\n",
       "      <td>0.578434</td>\n",
       "      <td>50</td>\n",
       "      <td>181.767453</td>\n",
       "      <td>FK</td>\n",
       "      <td>4.350</td>\n",
       "    </tr>\n",
       "    <tr>\n",
       "      <th>2</th>\n",
       "      <td>Fenton-Karma</td>\n",
       "      <td>1.000</td>\n",
       "      <td>42.895003</td>\n",
       "      <td>8.538621</td>\n",
       "      <td>9.125</td>\n",
       "      <td>25</td>\n",
       "      <td>0.86421</td>\n",
       "      <td>0.229594</td>\n",
       "      <td>5.088722</td>\n",
       "      <td>1.989895</td>\n",
       "      <td>0.365</td>\n",
       "      <td>0.685685</td>\n",
       "      <td>50</td>\n",
       "      <td>86.639556</td>\n",
       "      <td>FK</td>\n",
       "      <td>9.125</td>\n",
       "    </tr>\n",
       "    <tr>\n",
       "      <th>3</th>\n",
       "      <td>Fenton-Karma</td>\n",
       "      <td>2.000</td>\n",
       "      <td>12.578223</td>\n",
       "      <td>7.540391</td>\n",
       "      <td>7.800</td>\n",
       "      <td>25</td>\n",
       "      <td>0.86421</td>\n",
       "      <td>0.229594</td>\n",
       "      <td>5.992586</td>\n",
       "      <td>1.893906</td>\n",
       "      <td>0.312</td>\n",
       "      <td>0.661425</td>\n",
       "      <td>50</td>\n",
       "      <td>77.207680</td>\n",
       "      <td>FK</td>\n",
       "      <td>7.800</td>\n",
       "    </tr>\n",
       "    <tr>\n",
       "      <th>4</th>\n",
       "      <td>Fenton-Karma</td>\n",
       "      <td>3.000</td>\n",
       "      <td>5.443185</td>\n",
       "      <td>7.115713</td>\n",
       "      <td>6.850</td>\n",
       "      <td>25</td>\n",
       "      <td>0.86421</td>\n",
       "      <td>0.229594</td>\n",
       "      <td>6.637204</td>\n",
       "      <td>1.805052</td>\n",
       "      <td>0.274</td>\n",
       "      <td>0.641993</td>\n",
       "      <td>50</td>\n",
       "      <td>84.091063</td>\n",
       "      <td>FK</td>\n",
       "      <td>6.850</td>\n",
       "    </tr>\n",
       "  </tbody>\n",
       "</table>\n",
       "</div>"
      ],
      "text/plain": [
       "          model  alinear        tau      nbar  qstarA   A       Mp       nup  \\\n",
       "0  Fenton-Karma    1.552  16.538043  7.748724   8.125  25  0.86421  0.229594   \n",
       "1  Fenton-Karma    9.300   0.850184  7.775626   4.350  25  0.86421  0.229594   \n",
       "2  Fenton-Karma    1.000  42.895003  8.538621   9.125  25  0.86421  0.229594   \n",
       "3  Fenton-Karma    2.000  12.578223  7.540391   7.800  25  0.86421  0.229594   \n",
       "4  Fenton-Karma    3.000   5.443185  7.115713   6.850  25  0.86421  0.229594   \n",
       "\n",
       "         Mm       num  qstar     wstar  num_iter      nsqbar model_name   Nbar  \n",
       "0  5.750859  1.914978  0.325  0.667653        50   78.156923         FK  8.125  \n",
       "1  9.503660  1.600492  0.174  0.578434        50  181.767453         FK  4.350  \n",
       "2  5.088722  1.989895  0.365  0.685685        50   86.639556         FK  9.125  \n",
       "3  5.992586  1.893906  0.312  0.661425        50   77.207680         FK  7.800  \n",
       "4  6.637204  1.805052  0.274  0.641993        50   84.091063         FK  6.850  "
      ]
     },
     "execution_count": 133,
     "metadata": {},
     "output_type": "execute_result"
    }
   ],
   "source": [
    "df_taubariN['Nbar']=df_taubariN['nbar'] #not monotonic\n",
    "df_taubariN['Nbar']=df_taubariN['qstarA']\n",
    "df_taubariN.head()"
   ]
  },
  {
   "cell_type": "code",
   "execution_count": 134,
   "id": "e7a576c8",
   "metadata": {
    "ExecuteTime": {
     "end_time": "2023-06-18T18:43:00.983718Z",
     "start_time": "2023-06-18T18:43:00.118567Z"
    }
   },
   "outputs": [
    {
     "name": "stdout",
     "output_type": "stream",
     "text": [
      "-n \u0007\n",
      "-n \u0007\n",
      "-n \u0007\n",
      "-n \u0007\n"
     ]
    },
    {
     "data": {
      "text/plain": [
       "0"
      ]
     },
     "execution_count": 134,
     "metadata": {},
     "output_type": "execute_result"
    }
   ],
   "source": [
    "beep(4)"
   ]
  },
  {
   "cell_type": "code",
   "execution_count": 135,
   "id": "84827f80",
   "metadata": {
    "ExecuteTime": {
     "end_time": "2023-06-18T18:43:00.989679Z",
     "start_time": "2023-06-18T18:43:00.986213Z"
    }
   },
   "outputs": [],
   "source": [
    "# taubarian_dir = os.path.join(nb_dir,'data/lpm_results/taubar_vs_alinear_at_A_25.csv')\n",
    "# df_taubariN = pd.read_csv(taubarian_dir, skipinitialspace = True) \n",
    "# df_taubariN"
   ]
  },
  {
   "cell_type": "code",
   "execution_count": 136,
   "id": "83724490",
   "metadata": {
    "ExecuteTime": {
     "end_time": "2023-06-18T18:43:01.009917Z",
     "start_time": "2023-06-18T18:43:00.995558Z"
    }
   },
   "outputs": [],
   "source": [
    "A = 25\n",
    "ycol='Nbar'\n",
    "# ycol='Nbar_soln' # << 'taubar'\n",
    "# ycol='taubar'  # << not 'taubar'\n",
    "xfk = df_taubariN[df_taubariN['model_name']=='FK']['alinear'].values\n",
    "yfk = df_taubariN[df_taubariN['model_name']=='FK'][ycol].values#/A\n",
    "xlr = df_taubariN[df_taubariN['model_name']=='LR']['alinear'].values\n",
    "ylr = df_taubariN[df_taubariN['model_name']=='LR'][ycol].values#/A\n",
    "\n",
    "\n",
    "aline_fk = 1.552\n",
    "aline_lr = 9.3\n",
    "N_fk = yfk[xfk==aline_fk][0]\n",
    "N_lr = ylr[xlr==aline_lr][0]"
   ]
  },
  {
   "cell_type": "code",
   "execution_count": 137,
   "id": "3d25d79f",
   "metadata": {
    "ExecuteTime": {
     "end_time": "2023-06-18T18:43:01.572722Z",
     "start_time": "2023-06-18T18:43:01.012051Z"
    }
   },
   "outputs": [
    {
     "data": {
      "image/png": "[encoded data removed]",
      "text/plain": [
       "<Figure size 300x400 with 1 Axes>"
      ]
     },
     "metadata": {},
     "output_type": "display_data"
    }
   ],
   "source": [
    "figsize=(3,4)\n",
    "fontsize=15\n",
    "alpha=0.7\n",
    "fig,ax=plt.subplots(figsize=figsize)\n",
    "ax.scatter(xfk,yfk,c='C0',alpha=alpha)#,label='Fenton-Karma')\n",
    "ax.scatter(xlr,ylr,c='C1',alpha=alpha)#,label='Luo-Rudy')\n",
    "ax.scatter([aline_fk],[N_fk],marker='o',edgecolor='k',c='C0',alpha=1,label='Fenton-Karma')\n",
    "ax.scatter([aline_lr],[N_lr],marker='o',edgecolor='k',c='C1',alpha=1,label='Luo-Rudy')\n",
    "format_plot(ax=ax,xlabel=r'$a$ (cm$^2/$s)',ylabel=r'$N_{avg}$',fontsize=16)\n",
    "# ax.scatter(xfk,yfk/A,c='C0',alpha=alpha)#,label='Fenton-Karma')\n",
    "# ax.scatter(xlr,ylr/A,c='C1',alpha=alpha)#,label='Luo-Rudy')\n",
    "# ax.scatter([aline_fk],[N_fk/A],marker='o',edgecolor='k',c='C0',alpha=1,label='Fenton-Karma')\n",
    "# ax.scatter([aline_lr],[N_lr/A],marker='o',edgecolor='k',c='C1',alpha=1,label='Luo-Rudy')\n",
    "# format_plot(ax=ax,xlabel=r'$a$ (cm$^2/$s)',ylabel=r'$n_{avg}$  (cm$^{-2}$)',fontsize=16)\n",
    "ax.set_xscale('log')\n",
    "ax.tick_params(top=True, right=True,direction='in',which='both')\n",
    "ax.tick_params(top=True, right=True,direction='in',which='minor',length=3)\n",
    "ax.set_ylim([0,17])\n",
    "ax.set_xlim([0.8,33])\n",
    "leg = ax.legend(loc='upper right',fontsize=fontsize-2)#,frameon=False,ncol=1)\n",
    "\n",
    "for lh in leg.legendHandles: \n",
    "    lh.set_alpha(1)\n",
    "plt.show()"
   ]
  },
  {
   "cell_type": "markdown",
   "id": "68a647ee",
   "metadata": {},
   "source": [
    "- Q: What was the difference between Nbar and Nbar_soln.  Which equals nbar?\n",
    "- A: one A*qstar while the other was computed in a more complicated way.\n",
    "- NOTE: A*qstar should be monotonic"
   ]
  },
  {
   "cell_type": "markdown",
   "id": "8c55a39c",
   "metadata": {},
   "source": [
    "for more figures with A on the x-axis, see http://localhost:8890/notebooks/Simulating%20the%20paired%20birth%20death%20process.ipynb"
   ]
  },
  {
   "cell_type": "markdown",
   "id": "044d8961",
   "metadata": {},
   "source": [
    "# generate plot showing termination time probability density"
   ]
  },
  {
   "cell_type": "code",
   "execution_count": 138,
   "id": "c3bf3b16",
   "metadata": {
    "ExecuteTime": {
     "end_time": "2023-06-18T18:43:51.608634Z",
     "start_time": "2023-06-18T18:43:51.567937Z"
    }
   },
   "outputs": [],
   "source": [
    "df_results_master = df_results_master_fk.copy()"
   ]
  },
  {
   "cell_type": "code",
   "execution_count": 139,
   "id": "e88a1472",
   "metadata": {
    "ExecuteTime": {
     "end_time": "2023-06-18T18:43:53.003166Z",
     "start_time": "2023-06-18T18:43:52.074345Z"
    }
   },
   "outputs": [
    {
     "name": "stdout",
     "output_type": "stream",
     "text": [
      "alinear=5.0000 cm^2/s yieled tau=2.0412 s\n",
      "alinear=4.0000 cm^2/s yieled tau=3.1736 s\n",
      "alinear=3.0000 cm^2/s yieled tau=5.4432 s\n",
      "alinear=2.0000 cm^2/s yieled tau=12.5782 s\n",
      "alinear=1.0000 cm^2/s yieled tau=42.8950 s\n"
     ]
    },
    {
     "data": {
      "image/png": "[encoded data removed]",
      "text/plain": [
       "<Figure size 300x400 with 2 Axes>"
      ]
     },
     "metadata": {},
     "output_type": "display_data"
    }
   ],
   "source": [
    "#DONE: plot predicted prob. of term from master eqns instead of the pdf of the gamma fit.\n",
    "fontsize=15\n",
    "alpha=0.9\n",
    "cmap='viridis'\n",
    "figsize=(3,4)\n",
    "# xlim=[0,250]\n",
    "# xlim=[0,100]\n",
    "# xlim=[0,20]\n",
    "xlim=[0,40]\n",
    "\n",
    "# df_results_master\n",
    "\n",
    "x_values = np.arange(0,41,0.1) #s.\n",
    "alpha=0.7\n",
    "alinear_lst_selected = [5, 4, 3, 2, 1]\n",
    "# alinear_lst_selected = [30, 25, 20, 15, 10, 5, 4, 3, ]\n",
    "# alinear_lst_selected = [30, 25, 20, 15, 10, 5, 4, 3, 2, 1]\n",
    "# alinear_lst_selected = [30, 25, 20, 15, 10, 5, 4, 3, 2, 1, 0]\n",
    "\n",
    "vmin=0\n",
    "vmax=np.max(alinear_lst_selected)\n",
    "\n",
    "fig,ax=plt.subplots(figsize=figsize)\n",
    "\n",
    "# for alinear in alinear_lst:\n",
    "for alinear in alinear_lst_selected:\n",
    "    dg = df_results_master[df_results_master['alinear']==alinear]\n",
    "    tau = float(dg['tau'])\n",
    "    print(f\"{alinear=:.4f} cm^2/s yieled {tau=:.4f} s\")\n",
    "\n",
    "    beta = 1/tau\n",
    "    prob_t_term = beta*np.exp(-beta*x_values) \n",
    "    #plot line plot traces\n",
    "    ax.scatter(x_values, prob_t_term, c=alinear+0.*x_values,s=2, alpha=alpha, label='_Master Fit',cmap=cmap,vmin=vmin,vmax=vmax)\n",
    "\n",
    "#format_plot\n",
    "format_plot(ax=ax,xlabel='Termination Time (s)',ylabel='Probability',fontsize=fontsize)#,use_loglog=True)\n",
    "# ax.set_xscale('log')\n",
    "ax.set_yscale('log')\n",
    "ax.set_ylim((0.0002, 2.0))\n",
    "ax.set_xlim(xlim)\n",
    "ax.set_xticks([0,10,20,30,40])\n",
    "# ax.set_ylim((2e-4, 2))\n",
    "ax.tick_params(top=True, right=True,direction='in',which='both')\n",
    "\n",
    "norm = mpl.colors.Normalize(vmin=vmin, vmax=vmax)\n",
    "# norm = mpl.colors.LogNorm(vmin=vmin, vmax=vmax)\n",
    "cmap_obj = mpl.cm.get_cmap(cmap)\n",
    "cax = fig.add_axes([0.95, 0.2, 0.02, 0.6])\n",
    "cb = mpl.colorbar.ColorbarBase(cax,\n",
    "                               cmap=cmap_obj,\n",
    "                               norm=norm,\n",
    "                               spacing='proportional')\n",
    "cb.set_label(r'$a$ (cm$^{2}/$s)', fontsize=fontsize)\n",
    "cb.ax.tick_params(labelsize=fontsize)\n",
    "\n",
    "# cax = fig.add_axes([0.17, 0.82, 0.7, 0.02])\n",
    "# cb = mpl.colorbar.ColorbarBase(cax,\n",
    "#                                cmap=cmap_obj,\n",
    "#                                norm=norm,\n",
    "#                                spacing='proportional',\n",
    "#                                orientation='horizontal',#'vertical',\n",
    "#                                ticks=[1,2,3,4,5],\n",
    "#                               )\n",
    "# cb.set_label(r'$a$ (cm$^{2}/$s)', fontsize=fontsize-3)\n",
    "# cb.ax.tick_params(labelsize=fontsize-3)\n",
    "\n",
    "ax.tick_params(top=True, right=True,direction='in',which='both')\n",
    "ax.set_xlim([0,40])\n",
    "plt.show()"
   ]
  },
  {
   "cell_type": "code",
   "execution_count": null,
   "id": "de8bb8f8",
   "metadata": {},
   "outputs": [],
   "source": []
  }
 ],
 "metadata": {
  "hide_input": false,
  "kernelspec": {
   "display_name": "Python 3 (ipykernel)",
   "language": "python",
   "name": "python3"
  },
  "language_info": {
   "codemirror_mode": {
    "name": "ipython",
    "version": 3
   },
   "file_extension": ".py",
   "mimetype": "text/x-python",
   "name": "python",
   "nbconvert_exporter": "python",
   "pygments_lexer": "ipython3",
   "version": "3.9.5"
  },
  "nbTranslate": {
   "displayLangs": [
    "*"
   ],
   "hotkey": "alt-t",
   "langInMainMenu": true,
   "sourceLang": "en",
   "targetLang": "fr",
   "useGoogleTranslate": true
  },
  "toc": {
   "base_numbering": 1,
   "nav_menu": {},
   "number_sections": true,
   "sideBar": true,
   "skip_h1_title": false,
   "title_cell": "Table of Contents",
   "title_sidebar": "Contents",
   "toc_cell": false,
   "toc_position": {},
   "toc_section_display": true,
   "toc_window_display": false
  }
 },
 "nbformat": 4,
 "nbformat_minor": 5
}
