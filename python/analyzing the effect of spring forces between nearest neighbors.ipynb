{
 "cells": [
  {
   "cell_type": "markdown",
   "metadata": {},
   "source": [
    "# analyzing the effect of spring forces between nearest neighbors\n",
    "Tim Tyree<br>\n",
    "5.24.2021"
   ]
  },
  {
   "cell_type": "code",
   "execution_count": 1,
   "metadata": {
    "ExecuteTime": {
     "end_time": "2021-05-24T19:30:38.069334Z",
     "start_time": "2021-05-24T19:30:37.148073Z"
    }
   },
   "outputs": [],
   "source": [
    "from lib.my_initialization import *\n",
    "import random,scipy\n",
    "from lib.measure.compute_slope import *\n",
    "from lib.measure.compute_sliding_slope import *\n",
    "from lib.measure.powerlaw import *\n",
    "%load_ext autoreload\n",
    "%autoreload 2\n",
    "\n",
    "from scipy import stats\n",
    "alpha=0.1"
   ]
  },
  {
   "cell_type": "code",
   "execution_count": 12,
   "metadata": {
    "ExecuteTime": {
     "end_time": "2021-05-24T19:38:29.205587Z",
     "start_time": "2021-05-24T19:38:29.183197Z"
    }
   },
   "outputs": [],
   "source": [
    "# For darkmode plots\n",
    "from jupyterthemes import jtplot\n",
    "jtplot.style(theme='monokai', context='notebook', ticks=True, grid=False)"
   ]
  },
  {
   "cell_type": "markdown",
   "metadata": {},
   "source": [
    "### TODO for run 10\n",
    "- increase L to 10 (to decrease qmin by a factor of at least 3)"
   ]
  },
  {
   "cell_type": "markdown",
   "metadata": {},
   "source": [
    "# visualize the effect of varying spring coefficient, $\\varkappa$, (varkappa).\n",
    "- TODO: visualize the effect of turning on/off attractive/repulsive forces.\n",
    "- TODO: visualize the effect of varying the preferred distance, $x_0>0$."
   ]
  },
  {
   "cell_type": "code",
   "execution_count": 40,
   "metadata": {
    "ExecuteTime": {
     "end_time": "2021-05-24T19:58:54.099739Z",
     "start_time": "2021-05-24T19:58:54.002086Z"
    }
   },
   "outputs": [
    {
     "data": {
      "text/html": [
       "<div>\n",
       "<style scoped>\n",
       "    .dataframe tbody tr th:only-of-type {\n",
       "        vertical-align: middle;\n",
       "    }\n",
       "\n",
       "    .dataframe tbody tr th {\n",
       "        vertical-align: top;\n",
       "    }\n",
       "\n",
       "    .dataframe thead th {\n",
       "        text-align: right;\n",
       "    }\n",
       "</style>\n",
       "<table border=\"1\" class=\"dataframe\">\n",
       "  <thead>\n",
       "    <tr style=\"text-align: right;\">\n",
       "      <th></th>\n",
       "      <th>x0</th>\n",
       "      <th>varkappa</th>\n",
       "      <th>set_second</th>\n",
       "      <th>reflect</th>\n",
       "      <th>r</th>\n",
       "      <th>no_repulsion</th>\n",
       "      <th>no_attraction</th>\n",
       "      <th>kappa</th>\n",
       "      <th>dt</th>\n",
       "      <th>N</th>\n",
       "      <th>L</th>\n",
       "      <th>Dt</th>\n",
       "      <th>D</th>\n",
       "      <th>CollRate</th>\n",
       "    </tr>\n",
       "  </thead>\n",
       "  <tbody>\n",
       "    <tr>\n",
       "      <th>0</th>\n",
       "      <td>0.0</td>\n",
       "      <td>-5.0</td>\n",
       "      <td>0</td>\n",
       "      <td>0</td>\n",
       "      <td>0.1</td>\n",
       "      <td>0</td>\n",
       "      <td>0</td>\n",
       "      <td>500</td>\n",
       "      <td>0.00001</td>\n",
       "      <td>6</td>\n",
       "      <td>5</td>\n",
       "      <td>0.00001</td>\n",
       "      <td>2</td>\n",
       "      <td>0.020672</td>\n",
       "    </tr>\n",
       "    <tr>\n",
       "      <th>1</th>\n",
       "      <td>0.0</td>\n",
       "      <td>-5.0</td>\n",
       "      <td>0</td>\n",
       "      <td>0</td>\n",
       "      <td>0.1</td>\n",
       "      <td>0</td>\n",
       "      <td>0</td>\n",
       "      <td>500</td>\n",
       "      <td>0.00001</td>\n",
       "      <td>6</td>\n",
       "      <td>5</td>\n",
       "      <td>0.00001</td>\n",
       "      <td>20</td>\n",
       "      <td>2.485936</td>\n",
       "    </tr>\n",
       "    <tr>\n",
       "      <th>2</th>\n",
       "      <td>0.0</td>\n",
       "      <td>-5.0</td>\n",
       "      <td>0</td>\n",
       "      <td>0</td>\n",
       "      <td>0.1</td>\n",
       "      <td>0</td>\n",
       "      <td>0</td>\n",
       "      <td>500</td>\n",
       "      <td>0.00001</td>\n",
       "      <td>7</td>\n",
       "      <td>5</td>\n",
       "      <td>0.00001</td>\n",
       "      <td>2</td>\n",
       "      <td>0.148025</td>\n",
       "    </tr>\n",
       "    <tr>\n",
       "      <th>3</th>\n",
       "      <td>0.0</td>\n",
       "      <td>-5.0</td>\n",
       "      <td>0</td>\n",
       "      <td>0</td>\n",
       "      <td>0.1</td>\n",
       "      <td>0</td>\n",
       "      <td>0</td>\n",
       "      <td>500</td>\n",
       "      <td>0.00001</td>\n",
       "      <td>7</td>\n",
       "      <td>5</td>\n",
       "      <td>0.00001</td>\n",
       "      <td>20</td>\n",
       "      <td>4.438891</td>\n",
       "    </tr>\n",
       "    <tr>\n",
       "      <th>4</th>\n",
       "      <td>0.0</td>\n",
       "      <td>-5.0</td>\n",
       "      <td>0</td>\n",
       "      <td>0</td>\n",
       "      <td>0.1</td>\n",
       "      <td>0</td>\n",
       "      <td>0</td>\n",
       "      <td>500</td>\n",
       "      <td>0.00001</td>\n",
       "      <td>8</td>\n",
       "      <td>5</td>\n",
       "      <td>0.00001</td>\n",
       "      <td>2</td>\n",
       "      <td>0.458266</td>\n",
       "    </tr>\n",
       "  </tbody>\n",
       "</table>\n",
       "</div>"
      ],
      "text/plain": [
       "    x0  varkappa  set_second  reflect    r  no_repulsion  no_attraction  \\\n",
       "0  0.0      -5.0           0        0  0.1             0              0   \n",
       "1  0.0      -5.0           0        0  0.1             0              0   \n",
       "2  0.0      -5.0           0        0  0.1             0              0   \n",
       "3  0.0      -5.0           0        0  0.1             0              0   \n",
       "4  0.0      -5.0           0        0  0.1             0              0   \n",
       "\n",
       "   kappa       dt  N  L       Dt   D  CollRate  \n",
       "0    500  0.00001  6  5  0.00001   2  0.020672  \n",
       "1    500  0.00001  6  5  0.00001  20  2.485936  \n",
       "2    500  0.00001  7  5  0.00001   2  0.148025  \n",
       "3    500  0.00001  7  5  0.00001  20  4.438891  \n",
       "4    500  0.00001  8  5  0.00001   2  0.458266  "
      ]
     },
     "execution_count": 40,
     "metadata": {},
     "output_type": "execute_result"
    }
   ],
   "source": [
    "data_dir=\"/home/timothytyree/Documents/GitHub/bgmc/python/data/osg_output/run_9_all.csv\"\n",
    "df=pd.read_csv(data_dir)\n",
    "df.head()"
   ]
  },
  {
   "cell_type": "code",
   "execution_count": 41,
   "metadata": {
    "ExecuteTime": {
     "end_time": "2021-05-24T19:58:54.472706Z",
     "start_time": "2021-05-24T19:58:54.457140Z"
    }
   },
   "outputs": [
    {
     "data": {
      "text/plain": [
       "Index(['x0', 'varkappa', 'set_second', 'reflect', 'r', 'no_repulsion',\n",
       "       'no_attraction', 'kappa', 'dt', 'N', 'L', 'Dt', 'D', 'CollRate'],\n",
       "      dtype='object')"
      ]
     },
     "execution_count": 41,
     "metadata": {},
     "output_type": "execute_result"
    }
   ],
   "source": [
    "df.columns"
   ]
  },
  {
   "cell_type": "code",
   "execution_count": 42,
   "metadata": {
    "ExecuteTime": {
     "end_time": "2021-05-24T19:58:55.060402Z",
     "start_time": "2021-05-24T19:58:54.952822Z"
    }
   },
   "outputs": [],
   "source": [
    "#derived values\n",
    "# df['CollRate']=1./df['CollTime']\n",
    "df['A']=df['L']**2\n",
    "df['q']=df['N']/df['A'] #number of tips per square centimeter\n",
    "df['w']=df['CollRate']/df['A'] #[mHz?]/cm^2\n",
    "\n",
    "# df=df[df.niter==250].copy()\n",
    "#extract column values\n",
    "r_values=np.array(sorted(set(df.r.values)))#cm\n",
    "D_values=np.array(sorted(set(df.D.values)))#cm^2/s\n",
    "L_values=np.array(sorted(set(df.L.values)))#cm\n",
    "A_values=L_values**2#cm^2\n",
    "kappa_values=np.array(sorted(set(df.kappa.values)))#1/s\n",
    "varkappa_values=np.array(sorted(set(df.varkappa.values)))#1/s\n",
    "x0_values=np.array(sorted(set(df.x0.values)))#1/s\n",
    "set_second_values=np.array(sorted(set(df.set_second.values)))\n",
    "reflect_values=np.array(sorted(set(df.reflect.values)))\n",
    "no_repulsion_values=np.array(sorted(set(df.no_repulsion.values)))\n",
    "no_attraction_values=np.array(sorted(set(df.no_attraction.values)))"
   ]
  },
  {
   "cell_type": "code",
   "execution_count": 43,
   "metadata": {
    "ExecuteTime": {
     "end_time": "2021-05-24T19:58:55.515988Z",
     "start_time": "2021-05-24T19:58:55.499430Z"
    }
   },
   "outputs": [
    {
     "name": "stdout",
     "output_type": "stream",
     "text": [
      "[0.1]\n",
      "[ 2 20]\n",
      "[5]\n",
      "[ 500 1500]\n",
      "[-5.  -1.5 -0.2  0.   0.2  1.5  5. ]\n",
      "[0.  0.1 0.2 0.3 0.4 0.5 1. ]\n",
      "[0]\n",
      "[0]\n",
      "[0 1]\n",
      "[0 1]\n"
     ]
    }
   ],
   "source": [
    "#make test for whether there is one input parameter present in an input DataFrame1\n",
    "print(r_values)\n",
    "print(D_values)\n",
    "print(L_values)\n",
    "print(kappa_values)\n",
    "print(varkappa_values)\n",
    "print(x0_values)\n",
    "print(set_second_values)\n",
    "print(reflect_values)\n",
    "print(no_repulsion_values)\n",
    "print(no_attraction_values)"
   ]
  },
  {
   "cell_type": "code",
   "execution_count": 50,
   "metadata": {
    "ExecuteTime": {
     "end_time": "2021-05-24T20:01:03.540835Z",
     "start_time": "2021-05-24T20:01:03.518451Z"
    }
   },
   "outputs": [],
   "source": [
    "#query the DataFrame\n",
    "query =(df.set_second==set_second_values[0])&(df.reflect==reflect_values[0])\n",
    "query&=df.r==r_values[0]\n",
    "query&=df.D==D_values[0]\n",
    "query&=df.L==L_values[0]\n",
    "query&=df.varkappa==varkappa_values[-1]#5]\n",
    "query&=df.x0==x0_values[2]\n",
    "query&=(df.no_repulsion==no_repulsion_values[0])&(df.no_attraction==no_attraction_values[0])\n",
    "dff=df[query]\n",
    "kappa_values=np.array(sorted(set(dff.kappa.values)))\n",
    "dg=dff[dff.kappa==kappa_values[0]]#smaller reaction rate\n",
    "# dg=dff[dff.kappa==kappa_values[-1]]#Luo-Rudy fit\n",
    "# dg=dff.kappa==kappa_values[0]#Fenton-Karma fit"
   ]
  },
  {
   "cell_type": "code",
   "execution_count": 51,
   "metadata": {
    "ExecuteTime": {
     "end_time": "2021-05-24T20:01:04.471828Z",
     "start_time": "2021-05-24T20:01:03.894113Z"
    }
   },
   "outputs": [
    {
     "data": {
      "image/png": "[encoded data removed]",
      "text/plain": [
       "<Figure size 576x504 with 1 Axes>"
      ]
     },
     "metadata": {},
     "output_type": "display_data"
    }
   ],
   "source": [
    "#plot fits for full model\n",
    "m_fk=1.945;#+-0.030; B_fk=2.441+-0.051\n",
    "m_lr=1.544;#+-0.034; B_lr=5.870+-0.137\n",
    "M_fk=5.67;#+-0.39 Hz*cm^{2(m-1)}\n",
    "M_lr=15.37;#+-1.57 Hz*cm^{2(m-1)}\n",
    "# RMSE_fk=0.1252 Hz/cm^2\n",
    "# RMSE_lr=0.0974 Hz/cm^2\n",
    "# R^2=0.997 (FK)\n",
    "# R^2=0.994 (LR)\n",
    "# yscale=10**3\n",
    "xv=np.arange(0.1,1.,.05)\n",
    "yv_fk=M_fk*(xv)**m_fk\n",
    "yv_lr=M_lr*(xv)**m_lr\n",
    "\n",
    "fontsize=16\n",
    "# plt.xlim([0.1,1])\n",
    "# plt.ylim([1e-1,15])\n",
    "plt.yscale('log')\n",
    "plt.xscale('log')\n",
    "plt.plot(xv,yv_fk,label='FK power law fit',zorder=3,lw=4)\n",
    "plt.plot(xv,yv_lr,label='LR power law fit',zorder=3,lw=4)\n",
    "\n",
    "x_values=dg.q.values\n",
    "y_values=dg.w.values\n",
    "c_values=dg.L.values\n",
    "\n",
    "fontsize=18\n",
    "plt.scatter(x_values,y_values,c=c_values,alpha=0.8,cmap='bwr')\n",
    "# plt.title(u'comparison to simulation\\nwith two hybrid modes',fontsize=fontsize)\n",
    "plt.xlabel(r'q (cm$^{-2}$)',fontsize=fontsize)\n",
    "plt.ylabel(r'w (Hz cm$^{-2}$)', fontsize=fontsize)\n",
    "plt.tick_params(axis='both', which='major', labelsize=fontsize)\n",
    "plt.tick_params(axis='both', which='minor', labelsize=0)\n",
    "plt.legend(fontsize=fontsize-5)\n",
    "plt.show()"
   ]
  },
  {
   "cell_type": "code",
   "execution_count": 54,
   "metadata": {
    "ExecuteTime": {
     "end_time": "2021-05-24T20:01:40.164098Z",
     "start_time": "2021-05-24T20:01:40.141764Z"
    }
   },
   "outputs": [
    {
     "name": "stdout",
     "output_type": "stream",
     "text": [
      "Warning: CI not valid for less than 8 data points!\n",
      "m Delta_m b Delta_b Rsquared\n",
      "2.0681822921595026 0.08820416673405546 1.0874236066792546 0.0945972019837067 0.9977315756416676\n",
      "Therefore, 95% confidence intervals do not include exponent values observed from the Luo-Rudy model.\n"
     ]
    }
   ],
   "source": [
    "#slice relevant particle density to the particle densities observed from the full model\n",
    "L=L_values[0]\n",
    "x_values=dg[dg.L==L].q.values\n",
    "y_values=dg[dg.L==L].w.values\n",
    "qmin=0.1;qmax=0.5\n",
    "boo=(x_values>qmin)&(x_values<qmax)\n",
    "dict_ci=compute_95CI_ols(np.log(x_values[boo]),np.log(y_values[boo]))\n",
    "print(*dict_ci)\n",
    "print(*dict_ci.values())\n",
    "print(f\"Therefore, 95% confidence intervals do not include exponent values observed from the Luo-Rudy model.\")"
   ]
  },
  {
   "cell_type": "code",
   "execution_count": 55,
   "metadata": {
    "ExecuteTime": {
     "end_time": "2021-05-24T20:01:56.035387Z",
     "start_time": "2021-05-24T20:01:55.986977Z"
    }
   },
   "outputs": [
    {
     "data": {
      "text/plain": [
       "array([0.24, 0.28, 0.32, 0.36, 0.4 , 0.44, 0.48, 0.52, 0.56, 0.6 , 0.64,\n",
       "       0.68, 0.72, 0.76, 0.8 , 0.84, 0.88, 0.92, 0.96, 1.  , 1.04, 1.08,\n",
       "       1.12, 1.16, 1.2 , 1.24, 1.28, 1.32, 1.36, 1.4 , 1.44, 1.48, 1.52,\n",
       "       1.56, 1.6 , 1.64, 1.68, 1.72, 1.76, 1.8 , 1.84, 1.88, 1.92, 1.96,\n",
       "       2.  , 2.04, 2.08, 2.12, 2.16, 2.2 , 2.24, 2.28, 2.32, 2.36, 2.4 ,\n",
       "       2.44, 2.48, 2.52, 2.56, 2.6 , 2.64, 2.68, 2.72, 2.76, 2.8 , 2.84,\n",
       "       2.88, 2.92, 2.96, 3.  , 3.04, 3.08, 3.12, 3.16, 3.2 , 3.24, 3.28,\n",
       "       3.32, 3.36, 3.4 , 3.44, 3.48, 3.52, 3.56, 3.6 , 3.64, 3.68, 3.72,\n",
       "       3.76, 3.8 , 3.84, 3.88, 3.92, 3.96, 4.  ])"
      ]
     },
     "execution_count": 55,
     "metadata": {},
     "output_type": "execute_result"
    }
   ],
   "source": [
    "x_values"
   ]
  },
  {
   "cell_type": "code",
   "execution_count": 60,
   "metadata": {
    "ExecuteTime": {
     "end_time": "2021-05-24T20:02:54.744255Z",
     "start_time": "2021-05-24T20:02:54.721823Z"
    }
   },
   "outputs": [
    {
     "data": {
      "text/plain": [
       "(48,)"
      ]
     },
     "execution_count": 60,
     "metadata": {},
     "output_type": "execute_result"
    }
   ],
   "source": [
    "#compute sliding m\n",
    "xavg_values,slope_values,Rsquared_values = compute_sliding_slope_loglog(x_values,y_values,    \n",
    "    x_min=qmin,\n",
    "    window_width=2,\n",
    "    stepsize=None,\n",
    ")\n",
    "xavg_values.shape"
   ]
  },
  {
   "cell_type": "code",
   "execution_count": 61,
   "metadata": {
    "ExecuteTime": {
     "end_time": "2021-05-24T20:02:56.757716Z",
     "start_time": "2021-05-24T20:02:56.581998Z"
    },
    "run_control": {
     "marked": true
    }
   },
   "outputs": [
    {
     "name": "stdout",
     "output_type": "stream",
     "text": [
      "Note: clipping at high particle densities\n",
      "explains this decreasing exponent...\n",
      "Decreasing dt to 1e-7 ms fixed this issue\n",
      "but also required too much cpu time...\n"
     ]
    },
    {
     "data": {
      "image/png": "[encoded data removed]",
      "text/plain": [
       "<Figure size 576x504 with 1 Axes>"
      ]
     },
     "metadata": {},
     "output_type": "display_data"
    }
   ],
   "source": [
    "fontsize=18\n",
    "x=xavg_values[:-1]\n",
    "# y=Rsquared_values[:-1]\n",
    "y=slope_values[:-1]\n",
    "plt.plot(x,y,lw=2)\n",
    "# plt.scatter(x,y,s=10)\n",
    "# plt.xlabel('N',fontsize=fontsize)\n",
    "# plt.ylabel('Collision Rate',fontsize=fontsize)\n",
    "# plt.xscale('log')\n",
    "# plt.title(u'comparison to simulation\\nwith two hybrid modes',fontsize=fontsize)\n",
    "plt.xlabel(r'q (cm$^{-2}$)',fontsize=fontsize)\n",
    "plt.ylabel(r'exponent', fontsize=fontsize)\n",
    "plt.tick_params(axis='both', which='major', labelsize=fontsize)\n",
    "plt.tick_params(axis='both', which='minor', labelsize=0)\n",
    "print(f\"\"\"Note: clipping at high particle densities\\nexplains this decreasing exponent...\n",
    "Decreasing dt to 1e-7 ms fixed this issue\\nbut also required too much cpu time...\"\"\")\n",
    "plt.show()"
   ]
  },
  {
   "cell_type": "markdown",
   "metadata": {},
   "source": [
    "# print powerlaw fit of trial modeling LR model for several energy gaps and several D ratios"
   ]
  },
  {
   "cell_type": "code",
   "execution_count": 92,
   "metadata": {
    "ExecuteTime": {
     "end_time": "2021-05-24T20:12:59.725692Z",
     "start_time": "2021-05-24T20:12:59.707050Z"
    }
   },
   "outputs": [],
   "source": [
    "def slice_df_and_print_powerlaw_fit(r,D,L,varkappa,x0,q_min=0.1,q_max=0.6,no_attraction=0,no_repulsion=0):\n",
    "    '''map from trial to power law fit in interval q_min to q_max'''\n",
    "    #query the DataFrame\n",
    "    query =(df.set_second==set_second_values[0])&(df.reflect==reflect_values[0])\n",
    "    query&=df.r==r#r_values[0]\n",
    "    query&=df.D==D#D_values[0]\n",
    "    query&=df.L==L#L_values[0]\n",
    "    query&=df.varkappa==varkappa#_values#[-1]#5]\n",
    "    query&=df.x0==x0#_values[2]\n",
    "    query&=(df.no_repulsion==no_repulsion)&(df.no_attraction==no_attraction)\n",
    "    dff=df[query]\n",
    "    kappa_values=np.array(sorted(set(dff.kappa.values)))\n",
    "    dg=dff[dff.kappa==kappa_values[0]]#smaller reaction rate\n",
    "\n",
    "    x_values=dg.q.values\n",
    "    y_values=dg.w.values\n",
    "\n",
    "    # q_min=0.1;q_max=.4\n",
    "    # boo=(x_values>q_min)&(x_values<q_max)\n",
    "    # x=np.log(x_values[boo])\n",
    "    # y=np.log(y_values[boo])\n",
    "    # dict_out=compute_95CI_ols(x,y)\n",
    "    # dict_out\n",
    "    boo=(x_values>q_min)&(x_values<q_max)\n",
    "    x=x_values[boo]\n",
    "    y=y_values[boo]\n",
    "    print_fit_power_law(x,y)"
   ]
  },
  {
   "cell_type": "code",
   "execution_count": 93,
   "metadata": {
    "ExecuteTime": {
     "end_time": "2021-05-24T20:13:00.429783Z",
     "start_time": "2021-05-24T20:13:00.405712Z"
    }
   },
   "outputs": [
    {
     "name": "stdout",
     "output_type": "stream",
     "text": [
      "m=7.027+-0.991; B=1.576+-0.207\n",
      "M= 24.41+-78.69 Hz*cm^{2(m-1)}\n",
      "RMSE=0.0436 Hz/cm^2\n",
      "R^2=0.966\n"
     ]
    }
   ],
   "source": [
    "varkappa=varkappa_values[0]\n",
    "x0=x0_values[0]\n",
    "\n",
    "r=r_values[0];D=D_values[0];L=L_values[0];\n",
    "slice_df_and_print_powerlaw_fit(r,D,L,varkappa,x0)"
   ]
  },
  {
   "cell_type": "code",
   "execution_count": 94,
   "metadata": {
    "ExecuteTime": {
     "end_time": "2021-05-24T20:13:01.791512Z",
     "start_time": "2021-05-24T20:13:01.746421Z"
    }
   },
   "outputs": [
    {
     "name": "stdout",
     "output_type": "stream",
     "text": [
      "for r=0.100 cm and D=2 cm^2/s fixed,\n",
      "the powerlaw fit for varkappa=-5.0 cm and x0=0.0 was\n",
      "m=7.027+-0.991; B=1.576+-0.207\n",
      "M= 24.41+-78.69 Hz*cm^{2(m-1)}\n",
      "RMSE=0.0436 Hz/cm^2\n",
      "R^2=0.966\n",
      "\n",
      "for r=0.100 cm and D=2 cm^2/s fixed,\n",
      "the powerlaw fit for varkappa=-1.5 cm and x0=0.0 was\n",
      "m=3.808+-0.248; B=1.605+-0.104\n",
      "M= 6.06+-2.72 Hz*cm^{2(m-1)}\n",
      "RMSE=0.0310 Hz/cm^2\n",
      "R^2=0.993\n",
      "\n",
      "for r=0.100 cm and D=2 cm^2/s fixed,\n",
      "the powerlaw fit for varkappa=-0.2 cm and x0=0.0 was\n",
      "m=3.165+-0.093; B=1.653+-0.051\n",
      "M= 4.90+-0.77 Hz*cm^{2(m-1)}\n",
      "RMSE=0.0161 Hz/cm^2\n",
      "R^2=0.998\n",
      "\n",
      "for r=0.100 cm and D=2 cm^2/s fixed,\n",
      "the powerlaw fit for varkappa=0.0 cm and x0=0.0 was\n",
      "m=3.033+-0.105; B=1.644+-0.049\n",
      "M= 4.52+-0.70 Hz*cm^{2(m-1)}\n",
      "RMSE=0.0141 Hz/cm^2\n",
      "R^2=0.998\n",
      "\n",
      "for r=0.100 cm and D=2 cm^2/s fixed,\n",
      "the powerlaw fit for varkappa=0.2 cm and x0=0.0 was\n",
      "m=2.973+-0.067; B=1.660+-0.033\n",
      "M= 4.51+-0.45 Hz*cm^{2(m-1)}\n",
      "RMSE=0.0090 Hz/cm^2\n",
      "R^2=0.999\n",
      "\n",
      "for r=0.100 cm and D=2 cm^2/s fixed,\n",
      "the powerlaw fit for varkappa=1.5 cm and x0=0.0 was\n",
      "m=2.642+-0.036; B=1.709+-0.026\n",
      "M= 4.12+-0.26 Hz*cm^{2(m-1)}\n",
      "RMSE=0.0084 Hz/cm^2\n",
      "R^2=1.000\n",
      "\n",
      "for r=0.100 cm and D=2 cm^2/s fixed,\n",
      "the powerlaw fit for varkappa=5.0 cm and x0=0.0 was\n",
      "m=2.048+-0.028; B=1.875+-0.029\n",
      "M= 3.62+-0.18 Hz*cm^{2(m-1)}\n",
      "RMSE=0.0078 Hz/cm^2\n",
      "R^2=1.000\n",
      "\n"
     ]
    }
   ],
   "source": [
    "r=r_values[0];D=D_values[0];\n",
    "# varkappa=varkappa_values[0]\n",
    "x0=x0_values[0]\n",
    "for varkappa in varkappa_values:#[::2]:\n",
    "    print(f\"for r={r:.3f} cm and D={D} cm^2/s fixed,\")\n",
    "    print(f\"the powerlaw fit for varkappa={varkappa} cm and x0={x0} was\")\n",
    "    slice_df_and_print_powerlaw_fit(r,D,L,varkappa,x0)\n",
    "    print(f'')    "
   ]
  },
  {
   "cell_type": "code",
   "execution_count": null,
   "metadata": {},
   "outputs": [],
   "source": []
  },
  {
   "cell_type": "markdown",
   "metadata": {},
   "source": [
    "__Result__\n",
    "- attractive spring at with x0=0 gave $m \\approx 2$... Several values are superquadratic."
   ]
  },
  {
   "cell_type": "code",
   "execution_count": 98,
   "metadata": {
    "ExecuteTime": {
     "end_time": "2021-05-24T20:15:55.240835Z",
     "start_time": "2021-05-24T20:15:53.413892Z"
    }
   },
   "outputs": [
    {
     "name": "stdout",
     "output_type": "stream",
     "text": [
      "output redirected to /home/timothytyree/Documents/GitHub/bgmc/python/data/osg_output/run_9_all_powerfits.txt.\n"
     ]
    }
   ],
   "source": [
    "import sys\n",
    "\n",
    "text_fn=data_dir.replace('.csv','_powerfits.txt')\n",
    "original_stdout = sys.stdout # Save a reference to the original standard output\n",
    "with open(text_fn, 'w') as f:\n",
    "    sys.stdout = f # Change the standard output to the file we created.\n",
    "    #     r=r_values[1];D=D_values[3];\n",
    "    for r in r_values:\n",
    "        for D in D_values:\n",
    "            for L in L_values:\n",
    "                for varkappa in varkappa_values:\n",
    "                    for x0 in x0_values:\n",
    "                        for no_repulsion in no_repulsion_values:\n",
    "                            for no_attraction in no_attraction_values:\n",
    "                                print(f\"for r={r:.3f} cm, D={D:.3f} cm^2/s,no_repulsion={no_repulsion==1}, and no_attraction={no_attraction==1} fixed\")\n",
    "                                print(f\"the powerlaw fit for varkappa={varkappa} cm and x0={x0} was\")\n",
    "                                slice_df_and_print_powerlaw_fit(r,D,L,varkappa,x0,no_repulsion=no_repulsion,no_attraction=no_attraction)\n",
    "                                print(f'')\n",
    "\n",
    "sys.stdout = original_stdout # Reset the standard output to its original value\n",
    "print(f'output redirected to {text_fn}.')\n"
   ]
  },
  {
   "cell_type": "markdown",
   "metadata": {
    "ExecuteTime": {
     "end_time": "2021-05-05T18:17:56.824839Z",
     "start_time": "2021-05-05T18:17:56.002151Z"
    }
   },
   "source": [
    "__Result__\n",
    "- no trials exhibited exponent significantly smaller than m<1.9. \n",
    "- the robust exponents are still too large to support the LR model, which has m=1.544..."
   ]
  },
  {
   "cell_type": "markdown",
   "metadata": {},
   "source": [
    "# visualizing beta independence"
   ]
  },
  {
   "cell_type": "code",
   "execution_count": 236,
   "metadata": {
    "ExecuteTime": {
     "end_time": "2021-05-12T19:13:58.955176Z",
     "start_time": "2021-05-12T19:13:58.939870Z"
    }
   },
   "outputs": [],
   "source": [
    "# r=r_values[0];D=D_values[-1];L=L_values[1]\n",
    "# shape=shape_values[0]\n",
    "# for beta in beta_values:#[::2]:\n",
    "#     #query the DataFrame\n",
    "#     query=df.r==r\n",
    "#     query&=df.D==D\n",
    "#     query&=df.L==L\n",
    "#     query&=df.beta==beta\n",
    "#     query&=df['shape']==shape\n",
    "#     dff=df[query]\n",
    "#     kappa_values=np.array(sorted(set(dff.kappa.values)))\n",
    "#     dg=dff[dff.kappa==kappa_values[-1]]#Luo-Rudy fit\n",
    "#     # dg=dff[dff.kappa==kappa_values[0]]#Fenton-Karma fit\n",
    "\n",
    "#     x_values=dg.q.values\n",
    "#     y_values=dg.w.values\n",
    "#     c_values=dg.beta.values\n",
    "\n",
    "#     plt.scatter(x_values,y_values,label=r\"$\\beta =$ \"+f\"{beta:.3f} cm\")#,c=c_values,alpha=0.8,cmap='bwr')\n",
    "\n",
    "# fontsize=18\n",
    "# plt.xscale('log')\n",
    "# plt.yscale('log')\n",
    "# plt.legend(fontsize=fontsize-2)\n",
    "# plt.xlabel(r'q (cm$^{-2}$)',fontsize=fontsize)\n",
    "# plt.ylabel(r'w (Hz cm$^{-2}$)', fontsize=fontsize)\n",
    "# plt.tick_params(axis='both', which='major', labelsize=fontsize)\n",
    "# plt.tick_params(axis='both', which='minor', labelsize=0)\n",
    "# plt.show()"
   ]
  },
  {
   "cell_type": "code",
   "execution_count": null,
   "metadata": {
    "ExecuteTime": {
     "end_time": "2021-05-05T19:09:53.663260Z",
     "start_time": "2021-05-05T19:09:53.650773Z"
    }
   },
   "outputs": [],
   "source": []
  },
  {
   "cell_type": "code",
   "execution_count": 237,
   "metadata": {
    "ExecuteTime": {
     "end_time": "2021-05-12T19:14:11.021871Z",
     "start_time": "2021-05-12T19:14:10.700749Z"
    }
   },
   "outputs": [
    {
     "data": {
      "image/png": "[encoded data removed]",
      "text/plain": [
       "<Figure size 432x288 with 1 Axes>"
      ]
     },
     "metadata": {
      "needs_background": "light"
     },
     "output_type": "display_data"
    }
   ],
   "source": [
    "#plot fits for full model\n",
    "m_fk=1.945;#+-0.030; B_fk=2.441+-0.051\n",
    "m_lr=1.544;#+-0.034; B_lr=5.870+-0.137\n",
    "M_fk=5.67;#+-0.39 Hz*cm^{2(m-1)}\n",
    "M_lr=15.37;#+-1.57 Hz*cm^{2(m-1)}\n",
    "# RMSE_fk=0.1252 Hz/cm^2\n",
    "# RMSE_lr=0.0974 Hz/cm^2\n",
    "# R^2=0.997 (FK)\n",
    "# R^2=0.994 (LR)\n",
    "# yscale=10**3\n",
    "xv=np.arange(0.1,1.,.05)\n",
    "yv_fk=M_fk*(xv)**m_fk\n",
    "yv_lr=M_lr*(xv)**m_lr\n",
    "\n",
    "fontsize=16\n",
    "# plt.xlim([0.1,1])\n",
    "# plt.ylim([1e-1,15])\n",
    "plt.yscale('log')\n",
    "plt.xscale('log')\n",
    "plt.plot(xv,yv_fk,label='FK power law fit',zorder=3,lw=4)\n",
    "plt.plot(xv,yv_lr,label='LR power law fit',zorder=3,lw=4)\n",
    "\n",
    "#plot data\n",
    "r=r_values[0];D=D_values[-1];L=L_values[-1]\n",
    "shape=shape_values[0]\n",
    "for beta in beta_values:#[::2]:\n",
    "    #query the DataFrame\n",
    "    query=df.r==r\n",
    "    query&=df.D==D\n",
    "    query&=df.L==L\n",
    "    query&=df.beta==beta\n",
    "    query&=df['shape']==shape\n",
    "    dff=df[query]\n",
    "    kappa_values=np.array(sorted(set(dff.kappa.values)))\n",
    "    dg=dff[dff.kappa==kappa_values[-1]]#Luo-Rudy fit\n",
    "    # dg=dff[dff.kappa==kappa_values[0]]#Fenton-Karma fit\n",
    "\n",
    "    x_values=dg.q.values\n",
    "    y_values=dg.w.values\n",
    "    c_values=dg.beta.values\n",
    "\n",
    "    plt.scatter(x_values,y_values,label=r\"$\\beta =$ \"+f\"{beta:.3f} cm\",alpha=0.8)#,cmap='bwr')\n",
    "\n",
    "plt.ylim([1e-5,1e4])\n",
    "plt.xlabel(r'q (cm$^{-2}$)',fontsize=fontsize)\n",
    "plt.ylabel(r'w (Hz cm$^{-2}$)', fontsize=fontsize)\n",
    "plt.tick_params(axis='both', which='major', labelsize=fontsize)\n",
    "plt.tick_params(axis='both', which='minor', labelsize=0)\n",
    "plt.legend(fontsize=fontsize-3,ncol=2,loc='lower right')\n",
    "plt.show()"
   ]
  },
  {
   "cell_type": "code",
   "execution_count": 193,
   "metadata": {
    "ExecuteTime": {
     "end_time": "2021-05-12T18:55:13.469678Z",
     "start_time": "2021-05-12T18:55:13.441162Z"
    }
   },
   "outputs": [
    {
     "name": "stdout",
     "output_type": "stream",
     "text": [
      "[0.9993935682244246, 0.9965608521139726, 0.9976978519138612, 0.9996717972874127]\n"
     ]
    }
   ],
   "source": [
    "#TODO: plot m+-Delta_m versus energy gap for LR and FK model\n",
    "#plot data\n",
    "kappa=kappa_values[0]\n",
    "# r=1.;D=5.;Dratio=1000;L=L_values[-1]\n",
    "eg_lst=[];m_lst=[];Dm_lst=[];Rsq_lst=[]\n",
    "for beta in beta_values:\n",
    "    try:\n",
    "        #query the DataFrame\n",
    "        query=df.r==r\n",
    "        query&=df.D==D\n",
    "        query&=df.L==L\n",
    "        query&=df.beta==beta\n",
    "        query&=df['shape']==shape\n",
    "        dff=df[query]\n",
    "        kappa_values=np.array(sorted(set(dff.kappa.values)))\n",
    "        dg=dff[dff.kappa==kappa_values[-1]]#Luo-Rudy fit\n",
    "        # dg=dff[dff.kappa==kappa_values[0]]#Fenton-Karma fit\n",
    "        x_values=dg.q.values\n",
    "        y_values=dg.w.values\n",
    "\n",
    "        q_min=0.1;q_max=0.4\n",
    "        boo=(x_values>q_min)&(x_values<q_max)\n",
    "        x=x_values[boo]\n",
    "        y=y_values[boo]\n",
    "\n",
    "        # print_fit_power_law(x,y)\n",
    "        B,Delta_B,m,Delta_m,Rsq=fit_power_law(x,y)\n",
    "        rmse=compute_power_rmse(x,y,m,B)\n",
    "        M, Delta_M= comp_power_scale(B,Delta_B,m,Delta_m)\n",
    "    #     print(f\"m={m:.3f}+-{Delta_m:.3f}; B={B:.3f}+-{Delta_B:.3f}\")\n",
    "    #     print(f\"M=B**m={M:.2f}+-{Delta_M:.2f} Hz*cm^{{2(m-1)}}\")\n",
    "    #     print(f\"RMSE={rmse:.4f} Hz/cm^2\")\n",
    "    #     print(f\"R^2={Rsq:.3f}\")\n",
    "\n",
    "        eg_lst.append(beta)\n",
    "        m_lst.append(m)\n",
    "        Dm_lst.append(Delta_m)\n",
    "        Rsq_lst.append(Rsq)\n",
    "    except AssertionError as e:\n",
    "        pass\n",
    "print(Rsq_lst)"
   ]
  },
  {
   "cell_type": "code",
   "execution_count": 198,
   "metadata": {
    "ExecuteTime": {
     "end_time": "2021-05-12T18:56:40.960138Z",
     "start_time": "2021-05-12T18:56:40.811104Z"
    }
   },
   "outputs": [
    {
     "data": {
      "image/png": "[encoded data removed]",
      "text/plain": [
       "<Figure size 432x288 with 1 Axes>"
      ]
     },
     "metadata": {
      "needs_background": "light"
     },
     "output_type": "display_data"
    },
    {
     "name": "stdout",
     "output_type": "stream",
     "text": [
      "considering 0.1<q<0.4\n"
     ]
    }
   ],
   "source": [
    "m_fk=1.945#1.858;#+-0.027; B_fk=2.464+-0.030<br>\n",
    "m_lr=1.544#1.638;#+-0.017; B_fk=5.588+-0.067\n",
    "plt.errorbar(eg_lst, m_lst, yerr=Dm_lst, fmt='-o',label='Monte Carlo')\n",
    "plt.plot(eg_lst, m_fk+0.*np.array(eg_lst), '--',c='gray',label='Fenton-Karma')\n",
    "plt.plot(eg_lst, m_lr+0.*np.array(eg_lst), '-',c='gray',label='Luo-Rudy')\n",
    "\n",
    "# plt.scatter(Dtdt_lst,m_lst,marker='^')\n",
    "# plt.xscale('log')\n",
    "title=f\"r={r:.1f} cm, \"+r\"$\\kappa$=\"+f\"{kappa:.0f} Hz\\nD={D} cm\"+r\"$^2$/s\"+f\", A={L**2:.0f} cm\"+r\"$^2$\"\n",
    "plt.title(title,fontsize=fontsize)\n",
    "plt.xlabel(r'$\\beta$',fontsize=fontsize)\n",
    "plt.ylabel('exponent',fontsize=fontsize)\n",
    "# plt.xscale('log')\n",
    "# plt.yscale('log')\n",
    "plt.tick_params(axis='both', which='major', labelsize=fontsize)\n",
    "plt.tick_params(axis='both', which='minor', labelsize=0)\n",
    "# plt.legend(fontsize=fontsize-8)#,ncol=2)\n",
    "# plt.xlim([10,50])\n",
    "# plt.ylim([0.9,2.3])\n",
    "# plt.grid('on')\n",
    "plt.legend(fontsize=fontsize-2)\n",
    "plt.show()\n",
    "# print(\"considering 20<N<50 spiral tips\")\n",
    "# print(\"considering N<20 spiral tips\")\n",
    "print(f\"considering {q_min}<q<{q_max}\")"
   ]
  },
  {
   "cell_type": "markdown",
   "metadata": {},
   "source": [
    "# visualizing shape independence"
   ]
  },
  {
   "cell_type": "code",
   "execution_count": null,
   "metadata": {},
   "outputs": [],
   "source": []
  },
  {
   "cell_type": "code",
   "execution_count": 202,
   "metadata": {
    "ExecuteTime": {
     "end_time": "2021-05-12T19:00:01.219609Z",
     "start_time": "2021-05-12T19:00:00.938764Z"
    }
   },
   "outputs": [
    {
     "data": {
      "image/png": "[encoded data removed]",
      "text/plain": [
       "<Figure size 432x288 with 1 Axes>"
      ]
     },
     "metadata": {
      "needs_background": "light"
     },
     "output_type": "display_data"
    }
   ],
   "source": [
    "#plot fits for full model\n",
    "m_fk=1.945;#+-0.030; B_fk=2.441+-0.051\n",
    "m_lr=1.544;#+-0.034; B_lr=5.870+-0.137\n",
    "M_fk=5.67;#+-0.39 Hz*cm^{2(m-1)}\n",
    "M_lr=15.37;#+-1.57 Hz*cm^{2(m-1)}\n",
    "# RMSE_fk=0.1252 Hz/cm^2\n",
    "# RMSE_lr=0.0974 Hz/cm^2\n",
    "# R^2=0.997 (FK)\n",
    "# R^2=0.994 (LR)\n",
    "# yscale=10**3\n",
    "xv=np.arange(0.1,1.,.05)\n",
    "yv_fk=M_fk*(xv)**m_fk\n",
    "yv_lr=M_lr*(xv)**m_lr\n",
    "\n",
    "fontsize=16\n",
    "# plt.xlim([0.1,1])\n",
    "# plt.ylim([1e-1,15])\n",
    "plt.yscale('log')\n",
    "plt.xscale('log')\n",
    "plt.plot(xv,yv_fk,label='FK power law fit',zorder=3,lw=4)\n",
    "plt.plot(xv,yv_lr,label='LR power law fit',zorder=3,lw=4)\n",
    "\n",
    "#plot data\n",
    "r=r_values[0];D=D_values[-1];L=L_values[-1]\n",
    "beta=beta_values[2]\n",
    "for shape in shape_values:#[::2]:\n",
    "    #query the DataFrame\n",
    "    query=df.r==r\n",
    "    query&=df.D==D\n",
    "    query&=df.L==L\n",
    "    query&=df.beta==beta\n",
    "    query&=df['shape']==shape\n",
    "    dff=df[query]\n",
    "    kappa_values=np.array(sorted(set(dff.kappa.values)))\n",
    "    dg=dff[dff.kappa==kappa_values[-1]]#Luo-Rudy fit\n",
    "    # dg=dff[dff.kappa==kappa_values[0]]#Fenton-Karma fit\n",
    "\n",
    "    x_values=dg.q.values\n",
    "    y_values=dg.w.values\n",
    "    plt.scatter(x_values,y_values,label=r\"shape = \"+f\"{shape:.3f} cm\",alpha=0.8)#,cmap='bwr')\n",
    "\n",
    "plt.ylim([1e-3,1e4])\n",
    "plt.xlabel(r'q (cm$^{-2}$)',fontsize=fontsize)\n",
    "plt.ylabel(r'w (Hz cm$^{-2}$)', fontsize=fontsize)\n",
    "plt.tick_params(axis='both', which='major', labelsize=fontsize)\n",
    "plt.tick_params(axis='both', which='minor', labelsize=0)\n",
    "plt.legend(fontsize=fontsize-5,ncol=2,loc='lower right')\n",
    "plt.show()"
   ]
  },
  {
   "cell_type": "code",
   "execution_count": 204,
   "metadata": {
    "ExecuteTime": {
     "end_time": "2021-05-12T19:01:24.261417Z",
     "start_time": "2021-05-12T19:01:24.217863Z"
    }
   },
   "outputs": [
    {
     "name": "stdout",
     "output_type": "stream",
     "text": [
      "[0.9976978519138612, 0.9848489506286213, 0.9853201021654854]\n"
     ]
    }
   ],
   "source": [
    "#TODO: plot m+-Delta_m versus energy gap for LR and FK model\n",
    "#plot data\n",
    "kappa=kappa_values[0]\n",
    "# r=1.;D=5.;Dratio=1000;L=L_values[-1]\n",
    "eg_lst=[];m_lst=[];Dm_lst=[];Rsq_lst=[]\n",
    "for shape in shape_values:\n",
    "    try:\n",
    "        #query the DataFrame\n",
    "        query=df.r==r\n",
    "        query&=df.D==D\n",
    "        query&=df.L==L\n",
    "        query&=df.beta==beta\n",
    "        query&=df['shape']==shape\n",
    "        dff=df[query]\n",
    "        kappa_values=np.array(sorted(set(dff.kappa.values)))\n",
    "        dg=dff[dff.kappa==kappa_values[-1]]#Luo-Rudy fit\n",
    "        # dg=dff[dff.kappa==kappa_values[0]]#Fenton-Karma fit\n",
    "        x_values=dg.q.values\n",
    "        y_values=dg.w.values\n",
    "\n",
    "        q_min=0.1;q_max=0.4\n",
    "        boo=(x_values>q_min)&(x_values<q_max)\n",
    "        x=x_values[boo]\n",
    "        y=y_values[boo]\n",
    "\n",
    "        # print_fit_power_law(x,y)\n",
    "        B,Delta_B,m,Delta_m,Rsq=fit_power_law(x,y)\n",
    "        rmse=compute_power_rmse(x,y,m,B)\n",
    "        M, Delta_M= comp_power_scale(B,Delta_B,m,Delta_m)\n",
    "    #     print(f\"m={m:.3f}+-{Delta_m:.3f}; B={B:.3f}+-{Delta_B:.3f}\")\n",
    "    #     print(f\"M=B**m={M:.2f}+-{Delta_M:.2f} Hz*cm^{{2(m-1)}}\")\n",
    "    #     print(f\"RMSE={rmse:.4f} Hz/cm^2\")\n",
    "    #     print(f\"R^2={Rsq:.3f}\")\n",
    "\n",
    "        eg_lst.append(shape)\n",
    "        m_lst.append(m)\n",
    "        Dm_lst.append(Delta_m)\n",
    "        Rsq_lst.append(Rsq)\n",
    "    except AssertionError as e:\n",
    "        pass\n",
    "print(Rsq_lst)"
   ]
  },
  {
   "cell_type": "code",
   "execution_count": 205,
   "metadata": {
    "ExecuteTime": {
     "end_time": "2021-05-12T19:01:35.795895Z",
     "start_time": "2021-05-12T19:01:35.662259Z"
    }
   },
   "outputs": [
    {
     "data": {
      "image/png": "[encoded data removed]",
      "text/plain": [
       "<Figure size 432x288 with 1 Axes>"
      ]
     },
     "metadata": {
      "needs_background": "light"
     },
     "output_type": "display_data"
    },
    {
     "name": "stdout",
     "output_type": "stream",
     "text": [
      "considering 0.1<q<0.4\n"
     ]
    }
   ],
   "source": [
    "m_fk=1.945#1.858;#+-0.027; B_fk=2.464+-0.030<br>\n",
    "m_lr=1.544#1.638;#+-0.017; B_fk=5.588+-0.067\n",
    "plt.errorbar(eg_lst, m_lst, yerr=Dm_lst, fmt='-o',label='Monte Carlo')\n",
    "plt.plot(eg_lst, m_fk+0.*np.array(eg_lst), '--',c='gray',label='Fenton-Karma')\n",
    "plt.plot(eg_lst, m_lr+0.*np.array(eg_lst), '-',c='gray',label='Luo-Rudy')\n",
    "\n",
    "# plt.scatter(Dtdt_lst,m_lst,marker='^')\n",
    "# plt.xscale('log')\n",
    "title=f\"r={r:.1f} cm, \"+r\"$\\kappa$=\"+f\"{kappa:.0f} Hz\\nD={D} cm\"+r\"$^2$/s\"+f\", A={L**2:.0f} cm\"+r\"$^2$\"\n",
    "plt.title(title,fontsize=fontsize)\n",
    "plt.xlabel(r'shape',fontsize=fontsize)\n",
    "plt.ylabel('exponent',fontsize=fontsize)\n",
    "# plt.xscale('log')\n",
    "# plt.yscale('log')\n",
    "plt.tick_params(axis='both', which='major', labelsize=fontsize)\n",
    "plt.tick_params(axis='both', which='minor', labelsize=0)\n",
    "# plt.legend(fontsize=fontsize-8)#,ncol=2)\n",
    "# plt.xlim([10,50])\n",
    "# plt.ylim([0.9,2.3])\n",
    "# plt.grid('on')\n",
    "plt.legend(fontsize=fontsize-2)\n",
    "plt.show()\n",
    "# print(\"considering 20<N<50 spiral tips\")\n",
    "# print(\"considering N<20 spiral tips\")\n",
    "print(f\"considering {q_min}<q<{q_max}\")"
   ]
  },
  {
   "cell_type": "code",
   "execution_count": null,
   "metadata": {
    "ExecuteTime": {
     "end_time": "2021-05-05T17:36:52.061736Z",
     "start_time": "2021-05-05T17:21:54.100Z"
    }
   },
   "outputs": [],
   "source": []
  }
 ],
 "metadata": {
  "kernelspec": {
   "display_name": "Python 3",
   "language": "python",
   "name": "python3"
  },
  "language_info": {
   "codemirror_mode": {
    "name": "ipython",
    "version": 3
   },
   "file_extension": ".py",
   "mimetype": "text/x-python",
   "name": "python",
   "nbconvert_exporter": "python",
   "pygments_lexer": "ipython3",
   "version": "3.7.6"
  },
  "toc": {
   "base_numbering": 1,
   "nav_menu": {},
   "number_sections": true,
   "sideBar": true,
   "skip_h1_title": false,
   "title_cell": "Table of Contents",
   "title_sidebar": "Contents",
   "toc_cell": false,
   "toc_position": {},
   "toc_section_display": true,
   "toc_window_display": false
  },
  "varInspector": {
   "cols": {
    "lenName": 16,
    "lenType": 16,
    "lenVar": 40
   },
   "kernels_config": {
    "python": {
     "delete_cmd_postfix": "",
     "delete_cmd_prefix": "del ",
     "library": "var_list.py",
     "varRefreshCmd": "print(var_dic_list())"
    },
    "r": {
     "delete_cmd_postfix": ") ",
     "delete_cmd_prefix": "rm(",
     "library": "var_list.r",
     "varRefreshCmd": "cat(var_dic_list()) "
    }
   },
   "types_to_exclude": [
    "module",
    "function",
    "builtin_function_or_method",
    "instance",
    "_Feature"
   ],
   "window_display": false
  }
 },
 "nbformat": 4,
 "nbformat_minor": 4
}
