{
 "cells": [
  {
   "cell_type": "markdown",
   "metadata": {},
   "source": [
    "# analyzing the effect of spring forces between nearest neighbors\n",
    "Tim Tyree<br>\n",
    "5.24.2021"
   ]
  },
  {
   "cell_type": "code",
   "execution_count": 1,
   "metadata": {
    "ExecuteTime": {
     "end_time": "2021-05-25T00:01:37.945664Z",
     "start_time": "2021-05-25T00:01:37.426131Z"
    }
   },
   "outputs": [],
   "source": [
    "from lib.my_initialization import *\n",
    "import random,scipy\n",
    "from lib.measure.compute_slope import *\n",
    "from lib.measure.compute_sliding_slope import *\n",
    "from lib.measure.powerlaw import *\n",
    "%load_ext autoreload\n",
    "%autoreload 2\n",
    "\n",
    "from scipy import stats\n",
    "alpha=0.1"
   ]
  },
  {
   "cell_type": "code",
   "execution_count": 12,
   "metadata": {
    "ExecuteTime": {
     "end_time": "2021-05-24T19:38:29.205587Z",
     "start_time": "2021-05-24T19:38:29.183197Z"
    }
   },
   "outputs": [],
   "source": [
    "# # For darkmode plots\n",
    "# from jupyterthemes import jtplot\n",
    "# jtplot.style(theme='monokai', context='notebook', ticks=True, grid=False)"
   ]
  },
  {
   "cell_type": "markdown",
   "metadata": {},
   "source": [
    "### TODO for run 10(?)\n",
    "- increase L to 10 (to decrease qmin by a factor of at least 3)"
   ]
  },
  {
   "cell_type": "markdown",
   "metadata": {},
   "source": [
    "# visualize a single trial\n",
    "- TODO: visualize the effect of turning on/off attractive/repulsive forces."
   ]
  },
  {
   "cell_type": "code",
   "execution_count": 106,
   "metadata": {
    "ExecuteTime": {
     "end_time": "2021-05-25T01:24:56.231752Z",
     "start_time": "2021-05-25T01:24:56.132407Z"
    }
   },
   "outputs": [
    {
     "data": {
      "text/html": [
       "<div>\n",
       "<style scoped>\n",
       "    .dataframe tbody tr th:only-of-type {\n",
       "        vertical-align: middle;\n",
       "    }\n",
       "\n",
       "    .dataframe tbody tr th {\n",
       "        vertical-align: top;\n",
       "    }\n",
       "\n",
       "    .dataframe thead th {\n",
       "        text-align: right;\n",
       "    }\n",
       "</style>\n",
       "<table border=\"1\" class=\"dataframe\">\n",
       "  <thead>\n",
       "    <tr style=\"text-align: right;\">\n",
       "      <th></th>\n",
       "      <th>x0</th>\n",
       "      <th>varkappa</th>\n",
       "      <th>set_second</th>\n",
       "      <th>reflect</th>\n",
       "      <th>r</th>\n",
       "      <th>no_repulsion</th>\n",
       "      <th>no_attraction</th>\n",
       "      <th>kappa</th>\n",
       "      <th>dt</th>\n",
       "      <th>N</th>\n",
       "      <th>L</th>\n",
       "      <th>Dt</th>\n",
       "      <th>D</th>\n",
       "      <th>CollRate</th>\n",
       "    </tr>\n",
       "  </thead>\n",
       "  <tbody>\n",
       "    <tr>\n",
       "      <th>0</th>\n",
       "      <td>0.0</td>\n",
       "      <td>-5.0</td>\n",
       "      <td>0</td>\n",
       "      <td>0</td>\n",
       "      <td>0.1</td>\n",
       "      <td>0</td>\n",
       "      <td>0</td>\n",
       "      <td>500</td>\n",
       "      <td>0.00001</td>\n",
       "      <td>6</td>\n",
       "      <td>5</td>\n",
       "      <td>0.00001</td>\n",
       "      <td>2</td>\n",
       "      <td>0.020672</td>\n",
       "    </tr>\n",
       "    <tr>\n",
       "      <th>1</th>\n",
       "      <td>0.0</td>\n",
       "      <td>-5.0</td>\n",
       "      <td>0</td>\n",
       "      <td>0</td>\n",
       "      <td>0.1</td>\n",
       "      <td>0</td>\n",
       "      <td>0</td>\n",
       "      <td>500</td>\n",
       "      <td>0.00001</td>\n",
       "      <td>6</td>\n",
       "      <td>5</td>\n",
       "      <td>0.00001</td>\n",
       "      <td>20</td>\n",
       "      <td>2.485936</td>\n",
       "    </tr>\n",
       "    <tr>\n",
       "      <th>2</th>\n",
       "      <td>0.0</td>\n",
       "      <td>-5.0</td>\n",
       "      <td>0</td>\n",
       "      <td>0</td>\n",
       "      <td>0.1</td>\n",
       "      <td>0</td>\n",
       "      <td>0</td>\n",
       "      <td>500</td>\n",
       "      <td>0.00001</td>\n",
       "      <td>7</td>\n",
       "      <td>5</td>\n",
       "      <td>0.00001</td>\n",
       "      <td>2</td>\n",
       "      <td>0.148025</td>\n",
       "    </tr>\n",
       "    <tr>\n",
       "      <th>3</th>\n",
       "      <td>0.0</td>\n",
       "      <td>-5.0</td>\n",
       "      <td>0</td>\n",
       "      <td>0</td>\n",
       "      <td>0.1</td>\n",
       "      <td>0</td>\n",
       "      <td>0</td>\n",
       "      <td>500</td>\n",
       "      <td>0.00001</td>\n",
       "      <td>7</td>\n",
       "      <td>5</td>\n",
       "      <td>0.00001</td>\n",
       "      <td>20</td>\n",
       "      <td>4.438891</td>\n",
       "    </tr>\n",
       "    <tr>\n",
       "      <th>4</th>\n",
       "      <td>0.0</td>\n",
       "      <td>-5.0</td>\n",
       "      <td>0</td>\n",
       "      <td>0</td>\n",
       "      <td>0.1</td>\n",
       "      <td>0</td>\n",
       "      <td>0</td>\n",
       "      <td>500</td>\n",
       "      <td>0.00001</td>\n",
       "      <td>8</td>\n",
       "      <td>5</td>\n",
       "      <td>0.00001</td>\n",
       "      <td>2</td>\n",
       "      <td>0.458266</td>\n",
       "    </tr>\n",
       "  </tbody>\n",
       "</table>\n",
       "</div>"
      ],
      "text/plain": [
       "    x0  varkappa  set_second  reflect    r  no_repulsion  no_attraction  \\\n",
       "0  0.0      -5.0           0        0  0.1             0              0   \n",
       "1  0.0      -5.0           0        0  0.1             0              0   \n",
       "2  0.0      -5.0           0        0  0.1             0              0   \n",
       "3  0.0      -5.0           0        0  0.1             0              0   \n",
       "4  0.0      -5.0           0        0  0.1             0              0   \n",
       "\n",
       "   kappa       dt  N  L       Dt   D  CollRate  \n",
       "0    500  0.00001  6  5  0.00001   2  0.020672  \n",
       "1    500  0.00001  6  5  0.00001  20  2.485936  \n",
       "2    500  0.00001  7  5  0.00001   2  0.148025  \n",
       "3    500  0.00001  7  5  0.00001  20  4.438891  \n",
       "4    500  0.00001  8  5  0.00001   2  0.458266  "
      ]
     },
     "execution_count": 106,
     "metadata": {},
     "output_type": "execute_result"
    }
   ],
   "source": [
    "data_dir=\"/home/timothytyree/Documents/GitHub/bgmc/python/data/osg_output/run_9_all.csv\"\n",
    "df=pd.read_csv(data_dir)\n",
    "df.head()"
   ]
  },
  {
   "cell_type": "code",
   "execution_count": 107,
   "metadata": {
    "ExecuteTime": {
     "end_time": "2021-05-25T01:24:57.700228Z",
     "start_time": "2021-05-25T01:24:57.689172Z"
    }
   },
   "outputs": [
    {
     "data": {
      "text/plain": [
       "Index(['x0', 'varkappa', 'set_second', 'reflect', 'r', 'no_repulsion',\n",
       "       'no_attraction', 'kappa', 'dt', 'N', 'L', 'Dt', 'D', 'CollRate'],\n",
       "      dtype='object')"
      ]
     },
     "execution_count": 107,
     "metadata": {},
     "output_type": "execute_result"
    }
   ],
   "source": [
    "df.columns"
   ]
  },
  {
   "cell_type": "code",
   "execution_count": 109,
   "metadata": {
    "ExecuteTime": {
     "end_time": "2021-05-25T01:25:22.239326Z",
     "start_time": "2021-05-25T01:25:22.219055Z"
    }
   },
   "outputs": [
    {
     "data": {
      "text/plain": [
       "False"
      ]
     },
     "execution_count": 109,
     "metadata": {},
     "output_type": "execute_result"
    }
   ],
   "source": [
    "(df.CollRate<0).any()"
   ]
  },
  {
   "cell_type": "code",
   "execution_count": 4,
   "metadata": {
    "ExecuteTime": {
     "end_time": "2021-05-25T00:01:41.417369Z",
     "start_time": "2021-05-25T00:01:41.277698Z"
    }
   },
   "outputs": [],
   "source": [
    "#derived values\n",
    "# df['CollRate']=1./df['CollTime']\n",
    "df['A']=df['L']**2\n",
    "df['q']=df['N']/df['A'] #number of tips per square centimeter\n",
    "df['w']=df['CollRate']/df['A'] #[mHz?]/cm^2\n",
    "\n",
    "# df=df[df.niter==250].copy()\n",
    "#extract column values\n",
    "r_values=np.array(sorted(set(df.r.values)))#cm\n",
    "D_values=np.array(sorted(set(df.D.values)))#cm^2/s\n",
    "L_values=np.array(sorted(set(df.L.values)))#cm\n",
    "A_values=L_values**2#cm^2\n",
    "kappa_values=np.array(sorted(set(df.kappa.values)))#1/s\n",
    "varkappa_values=np.array(sorted(set(df.varkappa.values)))#1/s\n",
    "x0_values=np.array(sorted(set(df.x0.values)))#1/s\n",
    "set_second_values=np.array(sorted(set(df.set_second.values)))\n",
    "reflect_values=np.array(sorted(set(df.reflect.values)))\n",
    "no_repulsion_values=np.array(sorted(set(df.no_repulsion.values)))\n",
    "no_attraction_values=np.array(sorted(set(df.no_attraction.values)))"
   ]
  },
  {
   "cell_type": "code",
   "execution_count": 5,
   "metadata": {
    "ExecuteTime": {
     "end_time": "2021-05-25T00:01:41.807874Z",
     "start_time": "2021-05-25T00:01:41.793891Z"
    }
   },
   "outputs": [
    {
     "name": "stdout",
     "output_type": "stream",
     "text": [
      "[0.1]\n",
      "[ 2 20]\n",
      "[5]\n",
      "[ 500 1500]\n",
      "[-5.  -1.5 -0.2  0.   0.2  1.5  5. ]\n",
      "[0.  0.1 0.2 0.3 0.4 0.5 1. ]\n",
      "[0]\n",
      "[0]\n",
      "[0 1]\n",
      "[0 1]\n"
     ]
    }
   ],
   "source": [
    "#make test for whether there is one input parameter present in an input DataFrame1\n",
    "print(r_values)\n",
    "print(D_values)\n",
    "print(L_values)\n",
    "print(kappa_values)\n",
    "print(varkappa_values)\n",
    "print(x0_values)\n",
    "print(set_second_values)\n",
    "print(reflect_values)\n",
    "print(no_repulsion_values)\n",
    "print(no_attraction_values)"
   ]
  },
  {
   "cell_type": "code",
   "execution_count": 6,
   "metadata": {
    "ExecuteTime": {
     "end_time": "2021-05-25T00:01:42.211713Z",
     "start_time": "2021-05-25T00:01:42.187952Z"
    }
   },
   "outputs": [],
   "source": [
    "#query the DataFrame\n",
    "query =(df.set_second==set_second_values[0])&(df.reflect==reflect_values[0])\n",
    "query&=df.r==r_values[0]\n",
    "query&=df.D==D_values[0]\n",
    "query&=df.L==L_values[0]\n",
    "query&=df.varkappa==varkappa_values[-1]#5]\n",
    "query&=df.x0==x0_values[2]\n",
    "query&=(df.no_repulsion==no_repulsion_values[0])&(df.no_attraction==no_attraction_values[0])\n",
    "dff=df[query]\n",
    "kappa_values=np.array(sorted(set(dff.kappa.values)))\n",
    "dg=dff[dff.kappa==kappa_values[0]]#smaller reaction rate\n",
    "# dg=dff[dff.kappa==kappa_values[-1]]#Luo-Rudy fit\n",
    "# dg=dff.kappa==kappa_values[0]#Fenton-Karma fit"
   ]
  },
  {
   "cell_type": "code",
   "execution_count": 7,
   "metadata": {
    "ExecuteTime": {
     "end_time": "2021-05-25T00:01:43.143576Z",
     "start_time": "2021-05-25T00:01:42.694451Z"
    }
   },
   "outputs": [
    {
     "data": {
      "image/png": "[encoded data removed]",
      "text/plain": [
       "<Figure size 432x288 with 1 Axes>"
      ]
     },
     "metadata": {
      "needs_background": "light"
     },
     "output_type": "display_data"
    }
   ],
   "source": [
    "#plot fits for full model\n",
    "m_fk=1.945;#+-0.030; B_fk=2.441+-0.051\n",
    "m_lr=1.544;#+-0.034; B_lr=5.870+-0.137\n",
    "M_fk=5.67;#+-0.39 Hz*cm^{2(m-1)}\n",
    "M_lr=15.37;#+-1.57 Hz*cm^{2(m-1)}\n",
    "# RMSE_fk=0.1252 Hz/cm^2\n",
    "# RMSE_lr=0.0974 Hz/cm^2\n",
    "# R^2=0.997 (FK)\n",
    "# R^2=0.994 (LR)\n",
    "# yscale=10**3\n",
    "xv=np.arange(0.1,1.,.05)\n",
    "yv_fk=M_fk*(xv)**m_fk\n",
    "yv_lr=M_lr*(xv)**m_lr\n",
    "\n",
    "fontsize=16\n",
    "# plt.xlim([0.1,1])\n",
    "# plt.ylim([1e-1,15])\n",
    "plt.yscale('log')\n",
    "plt.xscale('log')\n",
    "plt.plot(xv,yv_fk,label='FK power law fit',zorder=3,lw=4)\n",
    "plt.plot(xv,yv_lr,label='LR power law fit',zorder=3,lw=4)\n",
    "\n",
    "x_values=dg.q.values\n",
    "y_values=dg.w.values\n",
    "c_values=dg.L.values\n",
    "\n",
    "fontsize=18\n",
    "plt.scatter(x_values,y_values,c=c_values,alpha=0.4,cmap='bwr')\n",
    "# plt.title(u'comparison to simulation\\nwith two hybrid modes',fontsize=fontsize)\n",
    "plt.xlabel(r'q (cm$^{-2}$)',fontsize=fontsize)\n",
    "plt.ylabel(r'w (Hz cm$^{-2}$)', fontsize=fontsize)\n",
    "plt.tick_params(axis='both', which='major', labelsize=fontsize)\n",
    "plt.tick_params(axis='both', which='minor', labelsize=0)\n",
    "plt.legend(fontsize=fontsize-5)\n",
    "plt.show()"
   ]
  },
  {
   "cell_type": "code",
   "execution_count": 8,
   "metadata": {
    "ExecuteTime": {
     "end_time": "2021-05-25T00:01:43.811608Z",
     "start_time": "2021-05-25T00:01:43.794890Z"
    }
   },
   "outputs": [
    {
     "name": "stdout",
     "output_type": "stream",
     "text": [
      "Warning: CI not valid for less than 8 data points!\n",
      "m Delta_m b Delta_b Rsquared\n",
      "2.0681822921595026 0.08820416673405546 1.0874236066792546 0.0945972019837067 0.9977315756416676\n",
      "Therefore, 95% confidence intervals do not include exponent values observed from the Luo-Rudy model.\n"
     ]
    }
   ],
   "source": [
    "#slice relevant particle density to the particle densities observed from the full model\n",
    "L=L_values[0]\n",
    "x_values=dg[dg.L==L].q.values\n",
    "y_values=dg[dg.L==L].w.values\n",
    "qmin=0.1;qmax=0.5\n",
    "boo=(x_values>qmin)&(x_values<qmax)\n",
    "dict_ci=compute_95CI_ols(np.log(x_values[boo]),np.log(y_values[boo]))\n",
    "print(*dict_ci)\n",
    "print(*dict_ci.values())\n",
    "print(f\"Therefore, 95% confidence intervals do not include exponent values observed from the Luo-Rudy model.\")"
   ]
  },
  {
   "cell_type": "code",
   "execution_count": null,
   "metadata": {
    "ExecuteTime": {
     "end_time": "2021-05-24T23:34:04.988108Z",
     "start_time": "2021-05-24T23:34:04.975906Z"
    }
   },
   "outputs": [],
   "source": []
  },
  {
   "cell_type": "code",
   "execution_count": 9,
   "metadata": {
    "ExecuteTime": {
     "end_time": "2021-05-25T00:01:46.149813Z",
     "start_time": "2021-05-25T00:01:46.132653Z"
    }
   },
   "outputs": [
    {
     "data": {
      "text/plain": [
       "(48,)"
      ]
     },
     "execution_count": 9,
     "metadata": {},
     "output_type": "execute_result"
    }
   ],
   "source": [
    "#compute sliding m\n",
    "xavg_values,slope_values,Rsquared_values = compute_sliding_slope_loglog(x_values,y_values,    \n",
    "    x_min=qmin,\n",
    "    window_width=2,\n",
    "    stepsize=None,\n",
    ")\n",
    "xavg_values.shape"
   ]
  },
  {
   "cell_type": "code",
   "execution_count": 10,
   "metadata": {
    "ExecuteTime": {
     "end_time": "2021-05-25T00:01:46.895777Z",
     "start_time": "2021-05-25T00:01:46.781772Z"
    },
    "run_control": {
     "marked": true
    }
   },
   "outputs": [
    {
     "name": "stdout",
     "output_type": "stream",
     "text": [
      "Note: clipping at high particle densities\n",
      "explains this decreasing exponent...\n",
      "Decreasing dt to 1e-7 ms fixed this issue\n",
      "but also required too much cpu time...\n"
     ]
    },
    {
     "data": {
      "image/png": "[encoded data removed]",
      "text/plain": [
       "<Figure size 432x288 with 1 Axes>"
      ]
     },
     "metadata": {
      "needs_background": "light"
     },
     "output_type": "display_data"
    }
   ],
   "source": [
    "fontsize=18\n",
    "x=xavg_values[:-1]\n",
    "# y=Rsquared_values[:-1]\n",
    "y=slope_values[:-1]\n",
    "plt.plot(x,y,lw=2)\n",
    "# plt.scatter(x,y,s=10)\n",
    "# plt.xlabel('N',fontsize=fontsize)\n",
    "# plt.ylabel('Collision Rate',fontsize=fontsize)\n",
    "# plt.xscale('log')\n",
    "# plt.title(u'comparison to simulation\\nwith two hybrid modes',fontsize=fontsize)\n",
    "plt.xlabel(r'q (cm$^{-2}$)',fontsize=fontsize)\n",
    "plt.ylabel(r'exponent', fontsize=fontsize)\n",
    "plt.tick_params(axis='both', which='major', labelsize=fontsize)\n",
    "plt.tick_params(axis='both', which='minor', labelsize=0)\n",
    "print(f\"\"\"Note: clipping at high particle densities\\nexplains this decreasing exponent...\n",
    "Decreasing dt to 1e-7 ms fixed this issue\\nbut also required too much cpu time...\"\"\")\n",
    "plt.show()"
   ]
  },
  {
   "cell_type": "markdown",
   "metadata": {
    "heading_collapsed": true
   },
   "source": [
    "# print powerlaw fits"
   ]
  },
  {
   "cell_type": "code",
   "execution_count": 11,
   "metadata": {
    "ExecuteTime": {
     "end_time": "2021-05-25T00:01:47.823524Z",
     "start_time": "2021-05-25T00:01:47.770811Z"
    },
    "hidden": true
   },
   "outputs": [],
   "source": [
    "def slice_df_and_print_powerlaw_fit(r,D,L,kappa,varkappa,x0,q_min=0.1,q_max=0.6,no_attraction=0,no_repulsion=0):\n",
    "    '''map from trial to power law fit in interval q_min to q_max'''\n",
    "    #query the DataFrame\n",
    "    query =(df.set_second==set_second_values[0])&(df.reflect==reflect_values[0])\n",
    "    query&=df.r==r#r_values[0]\n",
    "    query&=df.D==D#D_values[0]\n",
    "    query&=df.L==L#L_values[0]\n",
    "    query&=df.kappa==kappa\n",
    "    query&=df.varkappa==varkappa#_values#[-1]#5]\n",
    "    query&=df.x0==x0#_values[2]\n",
    "    query&=(df.no_repulsion==no_repulsion)&(df.no_attraction==no_attraction)\n",
    "    dff=df[query]\n",
    "    dg=dff.copy()#[dff.kappa==kappa]#kappa_values[0]]#smaller reaction rate\n",
    "\n",
    "    x_values=dg.q.values\n",
    "    y_values=dg.w.values\n",
    "\n",
    "    # q_min=0.1;q_max=.4\n",
    "    # boo=(x_values>q_min)&(x_values<q_max)\n",
    "    # x=np.log(x_values[boo])\n",
    "    # y=np.log(y_values[boo])\n",
    "    # dict_out=compute_95CI_ols(x,y)\n",
    "    # dict_out\n",
    "    boo=(x_values>q_min)&(x_values<q_max)\n",
    "    x=x_values[boo]\n",
    "    y=y_values[boo]\n",
    "#     print(x)\n",
    "    print_fit_power_law(x,y)"
   ]
  },
  {
   "cell_type": "code",
   "execution_count": 12,
   "metadata": {
    "ExecuteTime": {
     "end_time": "2021-05-25T00:01:48.412536Z",
     "start_time": "2021-05-25T00:01:48.355737Z"
    },
    "hidden": true
   },
   "outputs": [
    {
     "name": "stdout",
     "output_type": "stream",
     "text": [
      "m=7.027+-0.991; B=1.576+-0.207\n",
      "M= 24.41+-78.69 Hz*cm^{2(m-1)}\n",
      "RMSE=0.0436 Hz/cm^2\n",
      "R^2=0.966\n"
     ]
    }
   ],
   "source": [
    "varkappa=varkappa_values[0]\n",
    "x0=x0_values[0]\n",
    "kappa=kappa_values[0]\n",
    "\n",
    "r=r_values[0];D=D_values[0];L=L_values[0];\n",
    "slice_df_and_print_powerlaw_fit(r,D,L,kappa,varkappa,x0)"
   ]
  },
  {
   "cell_type": "code",
   "execution_count": 13,
   "metadata": {
    "ExecuteTime": {
     "end_time": "2021-05-25T00:01:48.931545Z",
     "start_time": "2021-05-25T00:01:48.882233Z"
    },
    "hidden": true
   },
   "outputs": [
    {
     "name": "stdout",
     "output_type": "stream",
     "text": [
      "for r=0.100 cm and D=2 cm^2/s fixed,\n",
      "the powerlaw fit for varkappa=-5.0 cm and x0=0.0 was\n",
      "m=7.027+-0.991; B=1.576+-0.207\n",
      "M= 24.41+-78.69 Hz*cm^{2(m-1)}\n",
      "RMSE=0.0436 Hz/cm^2\n",
      "R^2=0.966\n",
      "\n",
      "for r=0.100 cm and D=2 cm^2/s fixed,\n",
      "the powerlaw fit for varkappa=-1.5 cm and x0=0.0 was\n",
      "m=3.808+-0.248; B=1.605+-0.104\n",
      "M= 6.06+-2.72 Hz*cm^{2(m-1)}\n",
      "RMSE=0.0310 Hz/cm^2\n",
      "R^2=0.993\n",
      "\n",
      "for r=0.100 cm and D=2 cm^2/s fixed,\n",
      "the powerlaw fit for varkappa=-0.2 cm and x0=0.0 was\n",
      "m=3.165+-0.093; B=1.653+-0.051\n",
      "M= 4.90+-0.77 Hz*cm^{2(m-1)}\n",
      "RMSE=0.0161 Hz/cm^2\n",
      "R^2=0.998\n",
      "\n",
      "for r=0.100 cm and D=2 cm^2/s fixed,\n",
      "the powerlaw fit for varkappa=0.0 cm and x0=0.0 was\n",
      "m=3.033+-0.105; B=1.644+-0.049\n",
      "M= 4.52+-0.70 Hz*cm^{2(m-1)}\n",
      "RMSE=0.0141 Hz/cm^2\n",
      "R^2=0.998\n",
      "\n",
      "for r=0.100 cm and D=2 cm^2/s fixed,\n",
      "the powerlaw fit for varkappa=0.2 cm and x0=0.0 was\n",
      "m=2.973+-0.067; B=1.660+-0.033\n",
      "M= 4.51+-0.45 Hz*cm^{2(m-1)}\n",
      "RMSE=0.0090 Hz/cm^2\n",
      "R^2=0.999\n",
      "\n",
      "for r=0.100 cm and D=2 cm^2/s fixed,\n",
      "the powerlaw fit for varkappa=1.5 cm and x0=0.0 was\n",
      "m=2.642+-0.036; B=1.709+-0.026\n",
      "M= 4.12+-0.26 Hz*cm^{2(m-1)}\n",
      "RMSE=0.0084 Hz/cm^2\n",
      "R^2=1.000\n",
      "\n",
      "for r=0.100 cm and D=2 cm^2/s fixed,\n",
      "the powerlaw fit for varkappa=5.0 cm and x0=0.0 was\n",
      "m=2.048+-0.028; B=1.875+-0.029\n",
      "M= 3.62+-0.18 Hz*cm^{2(m-1)}\n",
      "RMSE=0.0078 Hz/cm^2\n",
      "R^2=1.000\n",
      "\n"
     ]
    }
   ],
   "source": [
    "r=r_values[0];D=D_values[0];\n",
    "# varkappa=varkappa_values[0]\n",
    "x0=x0_values[0]\n",
    "for varkappa in varkappa_values:#[::2]:\n",
    "    print(f\"for r={r:.3f} cm and D={D} cm^2/s fixed,\")\n",
    "    print(f\"the powerlaw fit for varkappa={varkappa} cm and x0={x0} was\")\n",
    "    slice_df_and_print_powerlaw_fit(r,D,L,kappa,varkappa,x0)\n",
    "    print(f'')    "
   ]
  },
  {
   "cell_type": "code",
   "execution_count": null,
   "metadata": {
    "hidden": true
   },
   "outputs": [],
   "source": []
  },
  {
   "cell_type": "markdown",
   "metadata": {
    "hidden": true
   },
   "source": [
    "__Result__\n",
    "- attractive spring at with x0=0 gave $m \\approx 2$... Several values are superquadratic."
   ]
  },
  {
   "cell_type": "code",
   "execution_count": 14,
   "metadata": {
    "ExecuteTime": {
     "end_time": "2021-05-25T00:01:52.310584Z",
     "start_time": "2021-05-25T00:01:50.334829Z"
    },
    "hidden": true
   },
   "outputs": [
    {
     "name": "stdout",
     "output_type": "stream",
     "text": [
      "output redirected to /home/timothytyree/Documents/GitHub/bgmc/python/data/osg_output/run_9_all_powerfits.txt.\n",
      "number of trials considered = 784\n"
     ]
    }
   ],
   "source": [
    "import sys\n",
    "\n",
    "text_fn=data_dir.replace('.csv','_powerfits.txt')\n",
    "original_stdout = sys.stdout # Save a reference to the original standard output\n",
    "count=0\n",
    "with open(text_fn, 'w') as f:\n",
    "    sys.stdout = f # Change the standard output to the file we created.\n",
    "    #     r=r_values[1];D=D_values[3];\n",
    "    for r in r_values:\n",
    "        for D in D_values:\n",
    "            for L in L_values:\n",
    "                for kappa in kappa_values:\n",
    "                    for varkappa in varkappa_values:\n",
    "                        for x0 in x0_values:\n",
    "                            for no_repulsion in no_repulsion_values:\n",
    "                                for no_attraction in no_attraction_values:\n",
    "                                    print(f\"for r={r:.3f} cm, D={D:.3f} cm^2/s, kappa={kappa:.0f} 1/s,no_repulsion={no_repulsion==1}, and no_attraction={no_attraction==1} fixed\")\n",
    "                                    print(f\"the powerlaw fit for varkappa={varkappa:.1f} cm and x0={x0:.1f} was\")\n",
    "                                    slice_df_and_print_powerlaw_fit(r,D,L,kappa,varkappa,x0,no_repulsion=no_repulsion,no_attraction=no_attraction)\n",
    "                                    print(f'')\n",
    "                                    count+=1\n",
    "\n",
    "sys.stdout = original_stdout # Reset the standard output to its original value\n",
    "print(f'output redirected to {text_fn}.')\n",
    "print(f\"number of trials considered = {count}\")"
   ]
  },
  {
   "cell_type": "markdown",
   "metadata": {
    "ExecuteTime": {
     "end_time": "2021-05-05T18:17:56.824839Z",
     "start_time": "2021-05-05T18:17:56.002151Z"
    },
    "hidden": true
   },
   "source": [
    "__Result__\n",
    "- no trials exhibited exponent smaller than m<2.00000. \n",
    "- the robust exponents are still too large to support the LR model, which has m=1.544..."
   ]
  },
  {
   "cell_type": "markdown",
   "metadata": {
    "heading_collapsed": true
   },
   "source": [
    "# visualizing varkappa independence"
   ]
  },
  {
   "cell_type": "code",
   "execution_count": 65,
   "metadata": {
    "ExecuteTime": {
     "end_time": "2021-05-25T00:25:22.774588Z",
     "start_time": "2021-05-25T00:25:22.395527Z"
    },
    "hidden": true
   },
   "outputs": [
    {
     "name": "stdout",
     "output_type": "stream",
     "text": [
      "x0=0.0\n"
     ]
    },
    {
     "data": {
      "image/png": "[encoded data removed]",
      "text/plain": [
       "<Figure size 432x288 with 1 Axes>"
      ]
     },
     "metadata": {
      "needs_background": "light"
     },
     "output_type": "display_data"
    }
   ],
   "source": [
    "x0=x0_values[0];print(f\"x0={x0}\")\n",
    "no_repulsion=0;no_attraction=0;\n",
    "#plot fits for full model\n",
    "m_fk=1.945;#+-0.030; B_fk=2.441+-0.051\n",
    "m_lr=1.544;#+-0.034; B_lr=5.870+-0.137\n",
    "M_fk=5.67;#+-0.39 Hz*cm^{2(m-1)}\n",
    "M_lr=15.37;#+-1.57 Hz*cm^{2(m-1)}\n",
    "# RMSE_fk=0.1252 Hz/cm^2\n",
    "# RMSE_lr=0.0974 Hz/cm^2\n",
    "# R^2=0.997 (FK)\n",
    "# R^2=0.994 (LR)\n",
    "# yscale=10**3\n",
    "xv=np.arange(0.1,1.,.05)\n",
    "yv_fk=M_fk*(xv)**m_fk\n",
    "yv_lr=M_lr*(xv)**m_lr\n",
    "\n",
    "fontsize=16\n",
    "# plt.xlim([0.1,1])\n",
    "# plt.ylim([1e-1,15])\n",
    "plt.yscale('log')\n",
    "plt.xscale('log')\n",
    "plt.plot(xv,yv_fk,label='FK power law fit',zorder=3,lw=4)\n",
    "plt.plot(xv,yv_lr,label='LR power law fit',zorder=3,lw=4)\n",
    "\n",
    "#plot data\n",
    "r=r_values[0];D=D_values[0];L=L_values[-1]\n",
    "for varkappa in varkappa_values:#[::2]:\n",
    "    #query the DataFrame\n",
    "    query =(df.set_second==set_second_values[0])&(df.reflect==reflect_values[0])\n",
    "    query&=df.r==r#r_values[0]\n",
    "    query&=df.D==D#D_values[0]\n",
    "    query&=df.L==L#L_values[0]\n",
    "    query&=df.kappa==kappa\n",
    "    query&=df.varkappa==varkappa#_values#[-1]#5]\n",
    "    query&=df.x0==x0#_values[2]\n",
    "    query&=(df.no_repulsion==no_repulsion)&(df.no_attraction==no_attraction)\n",
    "    dff=df[query]\n",
    "    dg=dff.copy()#[dff.kappa==kappa]#kappa_values[0]]#smaller reaction rate\n",
    "#     kappa_values=np.array(sorted(set(dff.kappa.values)))\n",
    "#     dg=dff[dff.kappa==kappa_values[-1]]#Luo-Rudy fit\n",
    "#     # dg=dff[dff.kappa==kappa_values[0]]#Fenton-Karma fit\n",
    "\n",
    "    x_values=dg.q.values\n",
    "    y_values=dg.w.values\n",
    "    c_values=dg.varkappa.values\n",
    "\n",
    "    plt.scatter(x_values,y_values,label=r\"$\\varkappa =$ \"+f\"{varkappa:.1f} cm\",alpha=0.8)#,cmap='bwr')\n",
    "\n",
    "plt.ylim([1e-5,1e4])\n",
    "plt.xlabel(r'q (cm$^{-2}$)',fontsize=fontsize)\n",
    "plt.ylabel(r'w (Hz cm$^{-2}$)', fontsize=fontsize)\n",
    "plt.tick_params(axis='both', which='major', labelsize=fontsize)\n",
    "plt.tick_params(axis='both', which='minor', labelsize=0)\n",
    "plt.legend(fontsize=fontsize-6,ncol=2,loc='lower right')\n",
    "plt.show()"
   ]
  },
  {
   "cell_type": "code",
   "execution_count": 66,
   "metadata": {
    "ExecuteTime": {
     "end_time": "2021-05-25T00:25:25.983051Z",
     "start_time": "2021-05-25T00:25:25.950890Z"
    },
    "hidden": true
   },
   "outputs": [
    {
     "name": "stdout",
     "output_type": "stream",
     "text": [
      "[0.9663749424148801, 0.9926466074540886, 0.998480696251581, 0.9979121223413662, 0.9991016944868693, 0.9996683248965198, 0.9996777437109204]\n"
     ]
    }
   ],
   "source": [
    "#TODO: plot m+-Delta_m versus energy gap for LR and FK model\n",
    "#plot data\n",
    "kappa=kappa_values[0]\n",
    "# r=1.;D=5.;Dratio=1000;L=L_values[-1]\n",
    "eg_lst=[];m_lst=[];Dm_lst=[];Rsq_lst=[]\n",
    "for varkappa in varkappa_values:\n",
    "    try:\n",
    "        #query the DataFrame\n",
    "        query=df.r==r\n",
    "        query&=df.D==D\n",
    "        query&=df.L==L\n",
    "        query&=df.varkappa==varkappa\n",
    "        query&=df['x0']==x0\n",
    "        query&=df.kappa==kappa\n",
    "        query&=(df.no_repulsion==no_repulsion)&(df.no_attraction==no_attraction)\n",
    "        dff=df[query]\n",
    "        dg=dff.copy()\n",
    "        \n",
    "#         kappa_values=np.array(sorted(set(dff.kappa.values)))\n",
    "#         dg=dff[dff.kappa==kappa_values[-1]]#Luo-Rudy fit\n",
    "#         # dg=dff[dff.kappa==kappa_values[0]]#Fenton-Karma fit\n",
    "        x_values=dg.q.values\n",
    "        y_values=dg.w.values\n",
    "\n",
    "        q_min=0.1;q_max=0.6\n",
    "        boo=(x_values>q_min)&(x_values<q_max)\n",
    "        x=x_values[boo]\n",
    "        y=y_values[boo]\n",
    "\n",
    "        # print_fit_power_law(x,y)\n",
    "        B,Delta_B,m,Delta_m,Rsq=fit_power_law(x,y)\n",
    "        rmse=compute_power_rmse(x,y,m,B)\n",
    "        M, Delta_M= comp_power_scale(B,Delta_B,m,Delta_m)\n",
    "    #     print(f\"m={m:.3f}+-{Delta_m:.3f}; B={B:.3f}+-{Delta_B:.3f}\")\n",
    "    #     print(f\"M=B**m={M:.2f}+-{Delta_M:.2f} Hz*cm^{{2(m-1)}}\")\n",
    "    #     print(f\"RMSE={rmse:.4f} Hz/cm^2\")\n",
    "    #     print(f\"R^2={Rsq:.3f}\")\n",
    "\n",
    "        eg_lst.append(varkappa)\n",
    "        m_lst.append(m)\n",
    "        Dm_lst.append(Delta_m)\n",
    "        Rsq_lst.append(Rsq)\n",
    "    except AssertionError as e:\n",
    "        pass\n",
    "print(Rsq_lst)"
   ]
  },
  {
   "cell_type": "code",
   "execution_count": 67,
   "metadata": {
    "ExecuteTime": {
     "end_time": "2021-05-25T00:25:28.167116Z",
     "start_time": "2021-05-25T00:25:28.032890Z"
    },
    "hidden": true,
    "scrolled": true
   },
   "outputs": [
    {
     "data": {
      "image/png": "[encoded data removed]",
      "text/plain": [
       "<Figure size 432x288 with 1 Axes>"
      ]
     },
     "metadata": {
      "needs_background": "light"
     },
     "output_type": "display_data"
    },
    {
     "name": "stdout",
     "output_type": "stream",
     "text": [
      "considering 0.1<q<0.6\n"
     ]
    }
   ],
   "source": [
    "m_fk=1.945#1.858;#+-0.027; B_fk=2.464+-0.030<br>\n",
    "m_lr=1.544#1.638;#+-0.017; B_fk=5.588+-0.067\n",
    "plt.errorbar(eg_lst, m_lst, yerr=Dm_lst, fmt='-o',label='Monte Carlo')\n",
    "plt.plot(eg_lst, m_fk+0.*np.array(eg_lst), '--',c='gray',label='Fenton-Karma')\n",
    "plt.plot(eg_lst, m_lr+0.*np.array(eg_lst), '-',c='gray',label='Luo-Rudy')\n",
    "\n",
    "# plt.scatter(Dtdt_lst,m_lst,marker='^')\n",
    "# plt.xscale('log')\n",
    "title=f\"r={r:.1f} cm, \"+r\"$\\kappa$=\"+f\"{kappa:.0f} Hz\\nD={D} cm\"+r\"$^2$/s\"+f\", A={L**2:.0f} cm\"+r\"$^2$\"\n",
    "plt.title(title,fontsize=fontsize)\n",
    "plt.xlabel(r'$\\varkappa$',fontsize=fontsize)\n",
    "plt.ylabel('exponent',fontsize=fontsize)\n",
    "# plt.xscale('log')\n",
    "# plt.yscale('log')\n",
    "plt.tick_params(axis='both', which='major', labelsize=fontsize)\n",
    "plt.tick_params(axis='both', which='minor', labelsize=0)\n",
    "# plt.legend(fontsize=fontsize-8)#,ncol=2)\n",
    "# plt.xlim([10,50])\n",
    "# plt.ylim([0.9,2.3])\n",
    "# plt.grid('on')\n",
    "plt.legend(fontsize=fontsize-2)\n",
    "plt.show()\n",
    "# print(\"considering 20<N<50 spiral tips\")\n",
    "# print(\"considering N<20 spiral tips\")\n",
    "print(f\"considering {q_min}<q<{q_max}\")"
   ]
  },
  {
   "cell_type": "markdown",
   "metadata": {
    "heading_collapsed": true
   },
   "source": [
    "# visualizing x0 independence"
   ]
  },
  {
   "cell_type": "code",
   "execution_count": 99,
   "metadata": {
    "ExecuteTime": {
     "end_time": "2021-05-25T00:42:36.343903Z",
     "start_time": "2021-05-25T00:42:36.013909Z"
    },
    "hidden": true
   },
   "outputs": [
    {
     "name": "stdout",
     "output_type": "stream",
     "text": [
      "varkappa=0.0\n"
     ]
    },
    {
     "data": {
      "image/png": "[encoded data removed]",
      "text/plain": [
       "<Figure size 432x288 with 1 Axes>"
      ]
     },
     "metadata": {
      "needs_background": "light"
     },
     "output_type": "display_data"
    }
   ],
   "source": [
    "varkappa=varkappa_values[3];print(f'varkappa={varkappa}')\n",
    "\n",
    "#plot fits for full model\n",
    "m_fk=1.945;#+-0.030; B_fk=2.441+-0.051\n",
    "m_lr=1.544;#+-0.034; B_lr=5.870+-0.137\n",
    "M_fk=5.67;#+-0.39 Hz*cm^{2(m-1)}\n",
    "M_lr=15.37;#+-1.57 Hz*cm^{2(m-1)}\n",
    "# RMSE_fk=0.1252 Hz/cm^2\n",
    "# RMSE_lr=0.0974 Hz/cm^2\n",
    "# R^2=0.997 (FK)\n",
    "# R^2=0.994 (LR)\n",
    "# yscale=10**3\n",
    "xv=np.arange(0.1,1.,.05)\n",
    "yv_fk=M_fk*(xv)**m_fk\n",
    "yv_lr=M_lr*(xv)**m_lr\n",
    "\n",
    "fontsize=16\n",
    "# plt.xlim([0.1,1])\n",
    "# plt.ylim([1e-1,15])\n",
    "plt.yscale('log')\n",
    "plt.xscale('log')\n",
    "plt.plot(xv,yv_fk,label='FK power law fit',zorder=3,lw=4)\n",
    "plt.plot(xv,yv_lr,label='LR power law fit',zorder=3,lw=4)\n",
    "\n",
    "#plot data\n",
    "r=r_values[0];D=D_values[0];L=L_values[-1]\n",
    "kappa=kappa_values[0]\n",
    "for x0 in x0_values:#[::2]:\n",
    "    #query the DataFrame\n",
    "    query=df.r==r\n",
    "    query&=df.D==D\n",
    "    query&=df.L==L\n",
    "    query&=df.varkappa==varkappa\n",
    "    query&=df['x0']==x0\n",
    "    query&=df.kappa==kappa\n",
    "    query&=(df.no_repulsion==no_repulsion)&(df.no_attraction==no_attraction)\n",
    "    dff=df[query]\n",
    "    dg=dff.copy()\n",
    "    x_values=dg.q.values\n",
    "    y_values=dg.w.values\n",
    "    plt.scatter(x_values,y_values,label=r\"$x_0 =$ \"+f\"{x0:.1f} cm\",alpha=0.8)#,cmap='bwr')\n",
    "\n",
    "plt.ylim([1e-3,1e4])\n",
    "plt.xlabel(r'q (cm$^{-2}$)',fontsize=fontsize)\n",
    "plt.ylabel(r'w (Hz cm$^{-2}$)', fontsize=fontsize)\n",
    "plt.tick_params(axis='both', which='major', labelsize=fontsize)\n",
    "plt.tick_params(axis='both', which='minor', labelsize=0)\n",
    "plt.legend(fontsize=fontsize-8,ncol=2,loc='lower right')\n",
    "plt.show()"
   ]
  },
  {
   "cell_type": "code",
   "execution_count": 100,
   "metadata": {
    "ExecuteTime": {
     "end_time": "2021-05-25T00:42:44.713506Z",
     "start_time": "2021-05-25T00:42:44.668004Z"
    },
    "hidden": true
   },
   "outputs": [
    {
     "name": "stdout",
     "output_type": "stream",
     "text": [
      "[0.9979121223413662, 0.9976531024354272, 0.9991877578020112, 0.9990260165783029, 0.9985214593350348, 0.9966451754277862, 0.99821616303786]\n"
     ]
    }
   ],
   "source": [
    "#TODO: plot m+-Delta_m versus energy gap for LR and FK model\n",
    "#plot data\n",
    "# r=1.;D=5.;Dratio=1000;L=L_values[-1]\n",
    "eg_lst=[];m_lst=[];Dm_lst=[];Rsq_lst=[]\n",
    "for x0 in x0_values:\n",
    "    try:\n",
    "        #query the DataFrame\n",
    "        query=df.r==r\n",
    "        query&=df.D==D\n",
    "        query&=df.L==L\n",
    "        query&=df.varkappa==varkappa\n",
    "        query&=df['x0']==x0\n",
    "        query&=df.kappa==kappa\n",
    "        query&=(df.no_repulsion==no_repulsion)&(df.no_attraction==no_attraction)\n",
    "        dff=df[query]\n",
    "        dg=dff.copy()\n",
    "        x_values=dg.q.values\n",
    "        y_values=dg.w.values\n",
    "\n",
    "        q_min=0.1;q_max=0.6\n",
    "        boo=(x_values>q_min)&(x_values<q_max)\n",
    "        x=x_values[boo]\n",
    "        y=y_values[boo]\n",
    "\n",
    "        # print_fit_power_law(x,y)\n",
    "        B,Delta_B,m,Delta_m,Rsq=fit_power_law(x,y)\n",
    "        rmse=compute_power_rmse(x,y,m,B)\n",
    "        M, Delta_M= comp_power_scale(B,Delta_B,m,Delta_m)\n",
    "    #     print(f\"m={m:.3f}+-{Delta_m:.3f}; B={B:.3f}+-{Delta_B:.3f}\")\n",
    "    #     print(f\"M=B**m={M:.2f}+-{Delta_M:.2f} Hz*cm^{{2(m-1)}}\")\n",
    "    #     print(f\"RMSE={rmse:.4f} Hz/cm^2\")\n",
    "    #     print(f\"R^2={Rsq:.3f}\")\n",
    "\n",
    "        eg_lst.append(x0)\n",
    "        m_lst.append(m)\n",
    "        Dm_lst.append(Delta_m)\n",
    "        Rsq_lst.append(Rsq)\n",
    "    except AssertionError as e:\n",
    "        pass\n",
    "print(Rsq_lst)"
   ]
  },
  {
   "cell_type": "code",
   "execution_count": 101,
   "metadata": {
    "ExecuteTime": {
     "end_time": "2021-05-25T00:42:45.501431Z",
     "start_time": "2021-05-25T00:42:45.342879Z"
    },
    "hidden": true
   },
   "outputs": [
    {
     "data": {
      "image/png": "[encoded data removed]",
      "text/plain": [
       "<Figure size 432x288 with 1 Axes>"
      ]
     },
     "metadata": {
      "needs_background": "light"
     },
     "output_type": "display_data"
    },
    {
     "name": "stdout",
     "output_type": "stream",
     "text": [
      "considering 0.1<q<0.6\n"
     ]
    }
   ],
   "source": [
    "m_fk=1.945#1.858;#+-0.027; B_fk=2.464+-0.030<br>\n",
    "m_lr=1.544#1.638;#+-0.017; B_fk=5.588+-0.067\n",
    "plt.errorbar(eg_lst, m_lst, yerr=Dm_lst, fmt='-o',label='Monte Carlo')\n",
    "plt.plot(eg_lst, m_fk+0.*np.array(eg_lst), '--',c='gray',label='Fenton-Karma')\n",
    "plt.plot(eg_lst, m_lr+0.*np.array(eg_lst), '-',c='gray',label='Luo-Rudy')\n",
    "\n",
    "# plt.scatter(Dtdt_lst,m_lst,marker='^')\n",
    "# plt.xscale('log')\n",
    "title=f\"r={r:.1f} cm, \"+r\"$\\kappa$=\"+f\"{kappa:.0f} Hz\\nD={D} cm\"+r\"$^2$/s\"+f\", A={L**2:.0f} cm\"+r\"$^2$\"\n",
    "plt.title(title,fontsize=fontsize)\n",
    "plt.xlabel(r'$x_0$',fontsize=fontsize)\n",
    "plt.ylabel('exponent',fontsize=fontsize)\n",
    "# plt.xscale('log')\n",
    "# plt.yscale('log')\n",
    "plt.tick_params(axis='both', which='major', labelsize=fontsize)\n",
    "plt.tick_params(axis='both', which='minor', labelsize=0)\n",
    "# plt.legend(fontsize=fontsize-8)#,ncol=2)\n",
    "# plt.xlim([10,50])\n",
    "# plt.ylim([0.9,2.3])\n",
    "# plt.grid('on')\n",
    "plt.legend(fontsize=fontsize-2)\n",
    "plt.show()\n",
    "# print(\"considering 20<N<50 spiral tips\")\n",
    "# print(\"considering N<20 spiral tips\")\n",
    "print(f\"considering {q_min}<q<{q_max}\")"
   ]
  },
  {
   "cell_type": "markdown",
   "metadata": {},
   "source": [
    "# any trials that returned gibberish results seemed to have r=1.0cm..."
   ]
  },
  {
   "cell_type": "code",
   "execution_count": 105,
   "metadata": {
    "ExecuteTime": {
     "end_time": "2021-05-25T01:17:14.527268Z",
     "start_time": "2021-05-25T01:17:14.506637Z"
    }
   },
   "outputs": [
    {
     "data": {
      "text/plain": [
       "False"
      ]
     },
     "execution_count": 105,
     "metadata": {},
     "output_type": "execute_result"
    }
   ],
   "source": [
    "(df.CollRate.values<0).any()"
   ]
  },
  {
   "cell_type": "markdown",
   "metadata": {},
   "source": [
    "gibberish trials exhibited negative collision times.  \n",
    "- DONT: find the point in the analysis pipeline where gibberish trials are filtered.\n",
    "    - it is no-where in this .ipynb\n",
    "    - DONE: check around in run_9_all/ for one trial that had CollRate<0.  \n",
    "        - IF none exist, __then filter_folder.py is responsible (confirmed)__\n",
    "            - ( some exist, then I can identify them quickly with a short function using pandas.)\n",
    "- DONT: print ^that slice of the data.  Do they have something concerning in common?"
   ]
  },
  {
   "cell_type": "markdown",
   "metadata": {},
   "source": [
    "Looking at jobs that returned gibberish:\n",
    "- cat job.out.9981847.999\n",
    "    - r=1,kappa=1500,all forces were off\n",
    "- cat job.out.9981847.900\n",
    "    - r=1,kappa=500,all forces were on\n",
    "- cat job.out.9981847.900\n",
    "    - r=1,kappa=500,all forces were on\n",
    "    \n",
    "...no trials were observed with r=1 in df"
   ]
  },
  {
   "cell_type": "code",
   "execution_count": 111,
   "metadata": {
    "ExecuteTime": {
     "end_time": "2021-05-25T01:36:04.252385Z",
     "start_time": "2021-05-25T01:36:04.226676Z"
    }
   },
   "outputs": [
    {
     "name": "stdout",
     "output_type": "stream",
     "text": [
      "the set of r values are\n"
     ]
    },
    {
     "data": {
      "text/plain": [
       "{0.1}"
      ]
     },
     "execution_count": 111,
     "metadata": {},
     "output_type": "execute_result"
    }
   ],
   "source": [
    "print(f\"the set of r values are\")\n",
    "set(df.r.values)"
   ]
  },
  {
   "cell_type": "markdown",
   "metadata": {},
   "source": [
    "__Conclusion__\n",
    "- Large r values resulted in a functional failure... Avoid large r for now.  I have observed them to be small (r~0.1cm) anyway!"
   ]
  },
  {
   "cell_type": "code",
   "execution_count": null,
   "metadata": {},
   "outputs": [],
   "source": []
  }
 ],
 "metadata": {
  "kernelspec": {
   "display_name": "Python 3",
   "language": "python",
   "name": "python3"
  },
  "language_info": {
   "codemirror_mode": {
    "name": "ipython",
    "version": 3
   },
   "file_extension": ".py",
   "mimetype": "text/x-python",
   "name": "python",
   "nbconvert_exporter": "python",
   "pygments_lexer": "ipython3",
   "version": "3.7.6"
  },
  "toc": {
   "base_numbering": 1,
   "nav_menu": {},
   "number_sections": true,
   "sideBar": true,
   "skip_h1_title": false,
   "title_cell": "Table of Contents",
   "title_sidebar": "Contents",
   "toc_cell": false,
   "toc_position": {},
   "toc_section_display": true,
   "toc_window_display": false
  },
  "varInspector": {
   "cols": {
    "lenName": 16,
    "lenType": 16,
    "lenVar": 40
   },
   "kernels_config": {
    "python": {
     "delete_cmd_postfix": "",
     "delete_cmd_prefix": "del ",
     "library": "var_list.py",
     "varRefreshCmd": "print(var_dic_list())"
    },
    "r": {
     "delete_cmd_postfix": ") ",
     "delete_cmd_prefix": "rm(",
     "library": "var_list.r",
     "varRefreshCmd": "cat(var_dic_list()) "
    }
   },
   "types_to_exclude": [
    "module",
    "function",
    "builtin_function_or_method",
    "instance",
    "_Feature"
   ],
   "window_display": false
  }
 },
 "nbformat": 4,
 "nbformat_minor": 4
}
