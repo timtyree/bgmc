{
 "cells": [
  {
   "cell_type": "raw",
   "id": "eb85112a",
   "metadata": {},
   "source": [
    "# max likelihood fits of annihilation rates \n",
    "Tim Tyree<br>\n",
    "4.1.2023"
   ]
  },
  {
   "cell_type": "code",
   "execution_count": 3,
   "id": "002b9571",
   "metadata": {
    "ExecuteTime": {
     "end_time": "2023-04-01T23:26:10.411650Z",
     "start_time": "2023-04-01T23:26:08.490572Z"
    }
   },
   "outputs": [],
   "source": [
    "from lib.my_initialization import *\n",
    "from lib import *  \n",
    "%load_ext autoreload\n",
    "%autoreload 2\n",
    "\n",
    "import matplotlib.pyplot as plt, numpy as np\n",
    "from mpltools import annotation\n",
    "import random,scipy\n",
    "import matplotlib as mpl #for colorbar\n",
    "from scipy.interpolate import LinearNDInterpolator\n",
    "from scipy.interpolate import CloughTocher2DInterpolator\n",
    "from scipy import stats\n",
    "darkmode=False\n",
    "if darkmode:\n",
    "    # For darkmode plots\n",
    "    from jupyterthemes import jtplot\n",
    "    jtplot.style(theme='monokai', context='notebook', ticks=True, grid=False)\n",
    "import warnings\n",
    "warnings.simplefilter(\"ignore\", UserWarning)\n",
    "# import cupy as cp\n",
    "np.random.seed(42)\n",
    "# cp.random.seed(42)"
   ]
  },
  {
   "cell_type": "code",
   "execution_count": 4,
   "id": "f653aed9",
   "metadata": {
    "ExecuteTime": {
     "end_time": "2023-04-01T23:26:10.452687Z",
     "start_time": "2023-04-01T23:26:10.413329Z"
    }
   },
   "outputs": [],
   "source": [
    "plt.plot([1]*4)\n",
    "plt.close()\n",
    "#reset matplotlib\n",
    "import matplotlib\n",
    "matplotlib.rcParams.update(matplotlib.rcParamsDefault)\n",
    "mpl.rcParams.update(matplotlib.rcParamsDefault) #reset matplotlib"
   ]
  },
  {
   "cell_type": "code",
   "execution_count": 5,
   "id": "7ab968d1",
   "metadata": {
    "ExecuteTime": {
     "end_time": "2023-04-01T23:26:10.475253Z",
     "start_time": "2023-04-01T23:26:10.453952Z"
    }
   },
   "outputs": [
    {
     "name": "stdout",
     "output_type": "stream",
     "text": [
      "11\n",
      "1000\n",
      "a=1\n",
      "b=3\n",
      "c=4\n",
      "egroeG\n",
      "2\n"
     ]
    }
   ],
   "source": [
    "#initialising a list filled with some number\n",
    "print ( len([1j]*11) ) # List of 11 imaginary units\n",
    "print ( len([0.]*1000) ) # List of 1000 0's\n",
    "#merging dictionaries\n",
    "x = { 'a': 1, 'b': 2 }\n",
    "y = { 'b': 3, 'c': 4 }\n",
    "z = { **x, **y }\n",
    "print_dict ( z )\n",
    "#reversing a string\n",
    "name = \"George\"\n",
    "print ( name[::-1] )\n",
    "#find the most frequent element in a list\n",
    "test = [ 4, 2, 2, 3, 1, 4, ]\n",
    "print ( max ( set ( test ), key = test.count ) )"
   ]
  },
  {
   "cell_type": "markdown",
   "id": "6263a0e0",
   "metadata": {},
   "source": [
    "# define module"
   ]
  },
  {
   "cell_type": "code",
   "execution_count": null,
   "id": "86451eb6",
   "metadata": {
    "ExecuteTime": {
     "end_time": "2023-03-30T21:46:12.889988Z",
     "start_time": "2023-03-30T21:46:12.868968Z"
    }
   },
   "outputs": [],
   "source": []
  },
  {
   "cell_type": "markdown",
   "id": "b944be54",
   "metadata": {
    "heading_collapsed": true
   },
   "source": [
    "# make plot showing alinear controls annihilation rate exponent"
   ]
  },
  {
   "cell_type": "code",
   "execution_count": 6,
   "id": "adc0b013",
   "metadata": {
    "ExecuteTime": {
     "end_time": "2023-04-01T23:26:11.602174Z",
     "start_time": "2023-04-01T23:26:11.579317Z"
    },
    "hidden": true
   },
   "outputs": [],
   "source": [
    "#load birth death rates from the full model\n",
    "data_folder=f'{nb_dir}/data'\n",
    "os.chdir(data_folder)\n",
    "\n",
    "data_fk_fn='full_results/data_fig4_vidmar_fk_tt.csv'\n",
    "data_lr_fn='full_results/data_fig4_vidmar_lr_tt.csv'\n",
    "\n",
    "fk=pd.read_csv(data_fk_fn)\n",
    "fk['N']=fk['No2']*2\n",
    "fk['q']=fk['N']/fk['A'] #number of tips per square centimeter\n",
    "fk['w']=fk['rate']/fk['A']*10**3 #Hz/cm^2\n",
    "\n",
    "lr=pd.read_csv(data_lr_fn)\n",
    "lr['N']=lr['No2']*2\n",
    "lr['q']=lr['N']/lr['A'] #number of tips per square centimeter\n",
    "lr['w']=lr['rate']/lr['A']*10**3 #Hz/cm^2"
   ]
  },
  {
   "cell_type": "code",
   "execution_count": 222,
   "id": "328c75eb",
   "metadata": {
    "ExecuteTime": {
     "end_time": "2023-04-02T00:08:18.283743Z",
     "start_time": "2023-04-02T00:08:18.254418Z"
    },
    "hidden": true
   },
   "outputs": [
    {
     "data": {
      "text/html": [
       "<div>\n",
       "<style scoped>\n",
       "    .dataframe tbody tr th:only-of-type {\n",
       "        vertical-align: middle;\n",
       "    }\n",
       "\n",
       "    .dataframe tbody tr th {\n",
       "        vertical-align: top;\n",
       "    }\n",
       "\n",
       "    .dataframe thead th {\n",
       "        text-align: right;\n",
       "    }\n",
       "</style>\n",
       "<table border=\"1\" class=\"dataframe\">\n",
       "  <thead>\n",
       "    <tr style=\"text-align: right;\">\n",
       "      <th></th>\n",
       "      <th>m</th>\n",
       "      <th>Delta_m</th>\n",
       "      <th>M</th>\n",
       "      <th>Delta_M</th>\n",
       "      <th>Rsq</th>\n",
       "      <th>rmse</th>\n",
       "      <th>rmse_full</th>\n",
       "      <th>model_name_full</th>\n",
       "      <th>q_min</th>\n",
       "      <th>q_max</th>\n",
       "      <th>...</th>\n",
       "      <th>x0</th>\n",
       "      <th>L</th>\n",
       "      <th>force_code</th>\n",
       "      <th>neighbor</th>\n",
       "      <th>reflect</th>\n",
       "      <th>set_second</th>\n",
       "      <th>no_repulsion</th>\n",
       "      <th>no_attraction</th>\n",
       "      <th>dt</th>\n",
       "      <th>Dt</th>\n",
       "    </tr>\n",
       "  </thead>\n",
       "  <tbody>\n",
       "    <tr>\n",
       "      <th>0</th>\n",
       "      <td>1.349679</td>\n",
       "      <td>0.010370</td>\n",
       "      <td>13.434597</td>\n",
       "      <td>0.450906</td>\n",
       "      <td>0.998833</td>\n",
       "      <td>0.167037</td>\n",
       "      <td>1.331512</td>\n",
       "      <td>lr_ncbc</td>\n",
       "      <td>0.2</td>\n",
       "      <td>1.0</td>\n",
       "      <td>...</td>\n",
       "      <td>0</td>\n",
       "      <td>10</td>\n",
       "      <td>2</td>\n",
       "      <td>1</td>\n",
       "      <td>0</td>\n",
       "      <td>0</td>\n",
       "      <td>0</td>\n",
       "      <td>0</td>\n",
       "      <td>0.00001</td>\n",
       "      <td>0.00001</td>\n",
       "    </tr>\n",
       "    <tr>\n",
       "      <th>1</th>\n",
       "      <td>1.315633</td>\n",
       "      <td>0.009114</td>\n",
       "      <td>29.623555</td>\n",
       "      <td>1.037075</td>\n",
       "      <td>0.999052</td>\n",
       "      <td>0.302669</td>\n",
       "      <td>8.207356</td>\n",
       "      <td>lr_pbc</td>\n",
       "      <td>0.2</td>\n",
       "      <td>1.0</td>\n",
       "      <td>...</td>\n",
       "      <td>0</td>\n",
       "      <td>10</td>\n",
       "      <td>2</td>\n",
       "      <td>0</td>\n",
       "      <td>0</td>\n",
       "      <td>0</td>\n",
       "      <td>0</td>\n",
       "      <td>0</td>\n",
       "      <td>0.00001</td>\n",
       "      <td>0.00001</td>\n",
       "    </tr>\n",
       "    <tr>\n",
       "      <th>2</th>\n",
       "      <td>2.278979</td>\n",
       "      <td>0.016037</td>\n",
       "      <td>10.499396</td>\n",
       "      <td>0.375723</td>\n",
       "      <td>0.999021</td>\n",
       "      <td>0.133246</td>\n",
       "      <td>1.295868</td>\n",
       "      <td>fk_ncbc</td>\n",
       "      <td>0.2</td>\n",
       "      <td>1.0</td>\n",
       "      <td>...</td>\n",
       "      <td>0</td>\n",
       "      <td>10</td>\n",
       "      <td>2</td>\n",
       "      <td>0</td>\n",
       "      <td>0</td>\n",
       "      <td>0</td>\n",
       "      <td>0</td>\n",
       "      <td>0</td>\n",
       "      <td>0.00001</td>\n",
       "      <td>0.00001</td>\n",
       "    </tr>\n",
       "    <tr>\n",
       "      <th>3</th>\n",
       "      <td>1.312670</td>\n",
       "      <td>0.009886</td>\n",
       "      <td>24.288864</td>\n",
       "      <td>0.878485</td>\n",
       "      <td>0.998879</td>\n",
       "      <td>0.271535</td>\n",
       "      <td>5.133728</td>\n",
       "      <td>lr_pbc</td>\n",
       "      <td>0.2</td>\n",
       "      <td>1.0</td>\n",
       "      <td>...</td>\n",
       "      <td>0</td>\n",
       "      <td>10</td>\n",
       "      <td>2</td>\n",
       "      <td>1</td>\n",
       "      <td>0</td>\n",
       "      <td>0</td>\n",
       "      <td>0</td>\n",
       "      <td>0</td>\n",
       "      <td>0.00001</td>\n",
       "      <td>0.00001</td>\n",
       "    </tr>\n",
       "    <tr>\n",
       "      <th>4</th>\n",
       "      <td>1.540110</td>\n",
       "      <td>0.011923</td>\n",
       "      <td>15.689108</td>\n",
       "      <td>0.583398</td>\n",
       "      <td>0.998816</td>\n",
       "      <td>0.212951</td>\n",
       "      <td>0.436469</td>\n",
       "      <td>lr_ncbc</td>\n",
       "      <td>0.2</td>\n",
       "      <td>1.0</td>\n",
       "      <td>...</td>\n",
       "      <td>0</td>\n",
       "      <td>10</td>\n",
       "      <td>2</td>\n",
       "      <td>0</td>\n",
       "      <td>0</td>\n",
       "      <td>0</td>\n",
       "      <td>0</td>\n",
       "      <td>0</td>\n",
       "      <td>0.00001</td>\n",
       "      <td>0.00001</td>\n",
       "    </tr>\n",
       "  </tbody>\n",
       "</table>\n",
       "<p>5 rows × 24 columns</p>\n",
       "</div>"
      ],
      "text/plain": [
       "          m   Delta_m          M   Delta_M       Rsq      rmse  rmse_full  \\\n",
       "0  1.349679  0.010370  13.434597  0.450906  0.998833  0.167037   1.331512   \n",
       "1  1.315633  0.009114  29.623555  1.037075  0.999052  0.302669   8.207356   \n",
       "2  2.278979  0.016037  10.499396  0.375723  0.999021  0.133246   1.295868   \n",
       "3  1.312670  0.009886  24.288864  0.878485  0.998879  0.271535   5.133728   \n",
       "4  1.540110  0.011923  15.689108  0.583398  0.998816  0.212951   0.436469   \n",
       "\n",
       "  model_name_full  q_min  q_max  ...  x0   L  force_code  neighbor  reflect  \\\n",
       "0         lr_ncbc    0.2    1.0  ...   0  10           2         1        0   \n",
       "1          lr_pbc    0.2    1.0  ...   0  10           2         0        0   \n",
       "2         fk_ncbc    0.2    1.0  ...   0  10           2         0        0   \n",
       "3          lr_pbc    0.2    1.0  ...   0  10           2         1        0   \n",
       "4         lr_ncbc    0.2    1.0  ...   0  10           2         0        0   \n",
       "\n",
       "   set_second  no_repulsion  no_attraction       dt       Dt  \n",
       "0           0             0              0  0.00001  0.00001  \n",
       "1           0             0              0  0.00001  0.00001  \n",
       "2           0             0              0  0.00001  0.00001  \n",
       "3           0             0              0  0.00001  0.00001  \n",
       "4           0             0              0  0.00001  0.00001  \n",
       "\n",
       "[5 rows x 24 columns]"
      ]
     },
     "execution_count": 222,
     "metadata": {},
     "output_type": "execute_result"
    }
   ],
   "source": [
    "# input_fn=f\"{nb_dir}/data/osg_output/run_15_all_powerlaw_fits.csv\" #works for many parameter settings (L=10)\n",
    "input_fn=f\"{nb_dir}/data/osg_output/run_36_all_powerlaw_fits.csv\" #works for many parameter settings (L=10) #<<<currently in Letter\n",
    "\n",
    "# input_fn=f\"{nb_dir}/data/osg_output/run_18_all_powerlaw_fits.csv\"\n",
    "# input_fn=f\"{nb_dir}/data/osg_output/run_17_all_powerlaw_fits.csv\"\n",
    "\n",
    "df=pd.read_csv(input_fn)\n",
    "df.head()"
   ]
  },
  {
   "cell_type": "code",
   "execution_count": null,
   "id": "9aae2029",
   "metadata": {
    "ExecuteTime": {
     "end_time": "2022-11-21T23:55:34.275294Z",
     "start_time": "2022-11-21T23:55:34.254682Z"
    },
    "hidden": true
   },
   "outputs": [],
   "source": []
  },
  {
   "cell_type": "code",
   "execution_count": 235,
   "id": "1a8fb8b2",
   "metadata": {
    "ExecuteTime": {
     "end_time": "2023-04-02T00:09:39.968057Z",
     "start_time": "2023-04-02T00:09:39.939669Z"
    },
    "hidden": true
   },
   "outputs": [
    {
     "name": "stdout",
     "output_type": "stream",
     "text": [
      "D_set_values=array([0.115, 0.42 ])\n"
     ]
    }
   ],
   "source": [
    "D_set_values = df.D.drop_duplicates().values\n",
    "print(f\"{D_set_values=}\")"
   ]
  },
  {
   "cell_type": "code",
   "execution_count": 224,
   "id": "6ac2a417",
   "metadata": {
    "ExecuteTime": {
     "end_time": "2023-04-02T00:08:23.514480Z",
     "start_time": "2023-04-02T00:08:23.492872Z"
    },
    "hidden": true
   },
   "outputs": [
    {
     "data": {
      "text/plain": [
       "23"
      ]
     },
     "execution_count": 224,
     "metadata": {},
     "output_type": "execute_result"
    }
   ],
   "source": [
    "#FK model\n",
    "r=0.135 # 0.1\n",
    "kappa=167 # 500#250\n",
    "D=0.115 # 0.7\n",
    "death_rate_versus_alinear_dir=f'{nb_dir}/data/full_results/data_fig4_tymura_increasing_alinear_run_36_FK.pkl'\n",
    "\n",
    "# #LR model\n",
    "# r=0.155\n",
    "# kappa=300\n",
    "# D=0.420\n",
    "# death_rate_versus_alinear_dir=f'{nb_dir}/data/full_results/data_fig4_tymura_increasing_alinear_run_36_LR.pkl'\n",
    "\n",
    "\n",
    "# varkappa_lst=sorted(set(df['varkappa'].values))\n",
    "# varkappa_lst\n",
    "\n",
    "#TODO: extract xy values for kappa, r, D fixed to any value, which I can change later\n",
    "#query for old figure 4\n",
    "#define constant parameters\n",
    "reflect=0\n",
    "force_code=2\n",
    "set_second=0\n",
    "neighbor=0\n",
    "no_attraction=0\n",
    "no_repulsion=0\n",
    "reflect=0\n",
    "# kappa=100\n",
    "L=10\n",
    "\n",
    "#template query for the DataFrame\n",
    "query =(df.set_second==set_second)\n",
    "query&=(df.no_repulsion==no_repulsion)&(df.no_attraction==no_attraction)\n",
    "query&=(df.neighbor==neighbor)&(df.force_code==force_code)\n",
    "query&=(df.reflect==reflect)\n",
    "query&=df.r==r\n",
    "query&=df.kappa==kappa\n",
    "query&=df.D==D\n",
    "query&=df.L==L\n",
    "# query&=df.x0==x0\n",
    "query_template=query.copy()\n",
    "sum(query)"
   ]
  },
  {
   "cell_type": "code",
   "execution_count": null,
   "id": "c2b1548e",
   "metadata": {
    "hidden": true
   },
   "outputs": [],
   "source": []
  },
  {
   "cell_type": "markdown",
   "id": "268085e7",
   "metadata": {},
   "source": [
    "# build minimum dataset from best fits cached for either of the full models at either of the length scales"
   ]
  },
  {
   "cell_type": "code",
   "execution_count": 236,
   "id": "1c92c2b0",
   "metadata": {
    "ExecuteTime": {
     "end_time": "2023-04-02T00:09:44.164273Z",
     "start_time": "2023-04-02T00:09:44.127138Z"
    }
   },
   "outputs": [],
   "source": [
    "kwargs = dict(data_fk_dir=f'{nb_dir}/data/full_results/data_fig4_vidmar_fk_tt.csv',\n",
    "              data_lr_dir=f'{nb_dir}/data/full_results/data_fig4_vidmar_lr_tt.csv',\n",
    "             min_num_particles=9)"
   ]
  },
  {
   "cell_type": "code",
   "execution_count": 237,
   "id": "c5cf1922",
   "metadata": {
    "ExecuteTime": {
     "end_time": "2023-04-02T00:10:12.764336Z",
     "start_time": "2023-04-02T00:10:12.638776Z"
    }
   },
   "outputs": [
    {
     "name": "stdout",
     "output_type": "stream",
     "text": [
      "\n",
      "**************************************\n",
      "* Fenton-Karma Model (best settings):\n",
      "**************************************\n",
      "amax=1.7800, rmse_min=0.0566, log_likelihood=37.6219, count=320\n",
      "\n",
      "best fit for Fenton-Karma: RMSE: 0.0566 Hz/cm^2, amax: 1.7800 cm^2/s, L: 5.0 cm\n",
      "input_fn_fk='/home/timothytyree/Documents/GitHub/bgmc/python/data/osg_output/run_28_all/job.out.23387298.9508'\n",
      "\n",
      "**************************************\n",
      "* Luo-Rudy Model (best settings):\n",
      "**************************************\n",
      "amax=10.1470, rmse_min=0.4041, log_likelihood=7.8813, count=320\n",
      "\n",
      "best fit for Luo-Rudy: RMSE: 0.4041 Hz/cm^2, amax: 10.1470 cm^2/s, L: 5.0 cm\n",
      "input_fn_lr='/home/timothytyree/Documents/GitHub/bgmc/python/data/osg_output/run_28_all/job.out.23387298.3785'\n",
      "number of trials: 640\n",
      "\n",
      "**************************************\n",
      "* Fenton-Karma Model (best settings):\n",
      "**************************************\n",
      "amax=1.7800, rmse_min=0.0848, log_likelihood=109.9265, count=319\n",
      "\n",
      "best fit for Fenton-Karma: RMSE: 0.1848 Hz/cm^2, amax: 1.7800 cm^2/s, L: 10.0 cm\n",
      "input_fn_fk='/home/timothytyree/Documents/GitHub/bgmc/python/data/osg_output/run_29_all/job.out.23453634.4163'\n",
      "\n",
      "**************************************\n",
      "* Luo-Rudy Model (best settings):\n",
      "**************************************\n",
      "amax=10.1470, rmse_min=0.1284, log_likelihood=70.2430, count=320\n",
      "\n",
      "best fit for Luo-Rudy: RMSE: 0.1748 Hz/cm^2, amax: 10.1470 cm^2/s, L: 10.0 cm\n",
      "input_fn_lr='/home/timothytyree/Documents/GitHub/bgmc/python/data/osg_output/run_29_all/job.out.23453634.24'\n",
      "number of trials: 639\n"
     ]
    }
   ],
   "source": [
    "# latest_run_num=29\n",
    "# run_num_lst = list(reversed(list(np.arange(14,latest_run_num+1))))\n",
    "# # run_num_lst=[25,17]\n",
    "# # run_num_lst=[25,19]\n",
    "# # run_num_lst=[25,24]\n",
    "# # run_num_lst = list(np.arange(12,26))\n",
    "# # run_num_lst = list(np.arange(26,14))\n",
    "# run_num_lst=[25,18]\n",
    "# # run_num_lst=[28,18]\n",
    "# run_num_lst=[28,29]\n",
    "# # run_num_lst=[25,29]\n",
    "# # run_num_lst=[32,29]\n",
    "# run_num_lst=[32,29]\n",
    "# #note 31==30...\n",
    "# # run_num_lst=[32,33]  \n",
    "run_num_lst=[34,33]  \n",
    "\n",
    "run_num_lst=[28,29]  #what was in Particle_Paper at some point\n",
    "\n",
    "\n",
    "use_filterby_neighbor=False\n",
    "# use_filterby_neighbor=True\n",
    "neighbor=0\n",
    "neighbor=1\n",
    "\n",
    "use_filterby_minN=True\n",
    "# use_filterby_minN=False\n",
    "minN=9\n",
    "# minN=20\n",
    "# minN=50\n",
    "# minN=70\n",
    "# minN=90\n",
    "use_filterby_amax=True\n",
    "min_amax=1.\n",
    "\n",
    "use_select_rxn=True\n",
    "use_select_rxn=False\n",
    "# r_trgt_lr=0.195\n",
    "# kappa_trgt_lr=200\n",
    "# r_trgt_fk=0.135\n",
    "# kappa_trgt_fk=167.02\n",
    "# kappa_trgt_fk=200\n",
    "r_trgt_lr=0.155\n",
    "kappa_trgt_lr=300\n",
    "r_trgt_fk=0.135\n",
    "kappa_trgt_fk=167.02\n",
    "\n",
    "use_filterby_r=True\n",
    "# use_filterby_r=False\n",
    "# rinf=0.195 #cm\n",
    "# rinf=0.15 #cm\n",
    "rinf=0.1 #cm\n",
    "rsupa=0.5 #cm\n",
    "\n",
    "\n",
    "# neighbor=1\n",
    "remove_no_diffusion=True\n",
    "use_filterby_D=True\n",
    "Dinf=0.1 #cm^2/s\n",
    "Dsupa=0.5 #cm^2/s\n",
    "# Dinf=0\n",
    "# Dinf=0.01\n",
    "# run_num=25 #L=5 cm\n",
    "# run_num=18 #L=10 cm\n",
    "num_digits_round_amax=3\n",
    "gmin_fk_lst=[]\n",
    "gmin_lr_lst=[]\n",
    "log_dir_fk_lst=[]\n",
    "log_dir_lr_lst=[]\n",
    "dict_results_fk_lst=[]\n",
    "dict_results_lr_lst=[]\n",
    "# for run_num in [25,18]: #chosen exemplar pair\n",
    "for run_num in run_num_lst:\n",
    "    parquet_dir_defects_fk=f'{nb_dir}/data/osg_output/run_{run_num}_defects_to_fk.parquet'\n",
    "    parquet_dir_defects_lr=f'{nb_dir}/data/osg_output/run_{run_num}_defects_to_lr.parquet'\n",
    "    input_folder=f'{nb_dir}/data/osg_output/run_{run_num}_all'\n",
    "#     parquet_dir_defects_fk=f'/home/timothytyree/Documents/GitHub/bgmc/python/data/osg_output/run_{run_num}_defects_to_fk.parquet'\n",
    "#     parquet_dir_defects_lr=f'/home/timothytyree/Documents/GitHub/bgmc/python/data/osg_output/run_{run_num}_defects_to_lr.parquet'\n",
    "#     input_folder=f'/home/timothytyree/Documents/GitHub/bgmc/python/data/osg_output/run_{run_num}_all'\n",
    "    #load data\n",
    "    df_defects_fk=pd.read_parquet(parquet_dir_defects_fk)\n",
    "    df_defects_lr=pd.read_parquet(parquet_dir_defects_lr)\n",
    "    \n",
    "    #filterby neighbor\n",
    "    if use_filterby_neighbor:\n",
    "        df_defects_fk = df_defects_fk[df_defects_fk['neighbor']==neighbor].copy()\n",
    "        df_defects_lr = df_defects_lr[df_defects_lr['neighbor']==neighbor].copy()\n",
    "    \n",
    "    #compute order parameter for each member a=amax-2*D\n",
    "    #add columns for amax\n",
    "    df_defects_fk['amax'] = np.around(df_defects_fk['varkappa'] + 2.*df_defects_fk['D'],num_digits_round_amax)\n",
    "    df_defects_lr['amax'] = np.around(df_defects_lr['varkappa'] + 2.*df_defects_lr['D'],num_digits_round_amax)\n",
    "    \n",
    "    if remove_no_diffusion:\n",
    "        df_defects_fk = df_defects_fk[df_defects_fk['D']>Dinf].copy()\n",
    "        df_defects_lr = df_defects_lr[df_defects_lr['D']>Dinf].copy()\n",
    "        \n",
    "        \n",
    "    if use_filterby_D:\n",
    "        df_defects_fk = df_defects_fk[df_defects_fk['D']<Dsupa].copy()\n",
    "        df_defects_lr = df_defects_lr[df_defects_lr['D']<Dsupa].copy()\n",
    "        \n",
    "    if use_filterby_r:\n",
    "        df_defects_fk = df_defects_fk[(df_defects_fk['r']>=rinf)&(df_defects_fk['r']<rsupa)].copy()\n",
    "        df_defects_lr = df_defects_lr[(df_defects_lr['r']>=rinf)&(df_defects_lr['r']<rsupa)].copy()\n",
    "        \n",
    "        \n",
    "    if use_filterby_amax:\n",
    "        df_defects_fk = df_defects_fk[df_defects_fk['amax']>min_amax].copy()\n",
    "        df_defects_lr = df_defects_lr[df_defects_lr['amax']>min_amax].copy()\n",
    "        \n",
    "    if use_select_rxn:\n",
    "        df_defects_lr = df_defects_lr[\n",
    "            (df_defects_lr['r']==r_trgt_lr)&\n",
    "            (df_defects_lr['kappa']==kappa_trgt_lr)\n",
    "        ].copy()\n",
    "        df_defects_fk = df_defects_fk[\n",
    "            (df_defects_fk['r']==r_trgt_fk)&\n",
    "            (df_defects_fk['kappa']==kappa_trgt_fk)\n",
    "        ].copy()\n",
    "        # r_trgt_lr=0.155\n",
    "        # kappa_trgt_lr=300\n",
    "    \n",
    "    #identify the lowest error simulation for each amax value\n",
    "    print(f\"\\n**************************************\")\n",
    "    print(f\"* Fenton-Karma Model (best settings):\")\n",
    "    print(f\"**************************************\")\n",
    "    minrmse=9999.\n",
    "    #supamax=40.\n",
    "    supamax=1.8\n",
    "    #supamax=40.\n",
    "    for amax,g in df_defects_fk.groupby(by='amax'):\n",
    "        rmse_min = g['rmse'].min()\n",
    "        count = g['rmse'].count()\n",
    "        log_likelihood = g['log_likelihood'].max()\n",
    "        if (rmse_min<=minrmse)&(amax<=supamax):\n",
    "            minrmse=rmse_min\n",
    "            gmin_fk=g.copy()\n",
    "            print_str =f\"{amax=:.4f}, {rmse_min=:.4f}, {log_likelihood=:.4f}, {count=}\"\n",
    "    print(print_str)\n",
    "    gmin_fk.sort_values(by='D',inplace=True)\n",
    "    \n",
    "\n",
    "    #find best simulation for the full model at this avalue\n",
    "#     dg_fk=gmin_fk[gmin_fk['rmse'] == gmin_fk['rmse'].min()].copy()\n",
    "    dg_fk=gmin_fk[gmin_fk['log_likelihood'] == gmin_fk['log_likelihood'].max()].copy()\n",
    "    dg_fk['run']=run_num\n",
    "    df_defects_fk['run']=run_num\n",
    "    dg_fk['model']='Fenton-Karma'\n",
    "    cluster_index,job_index = dg_fk[['cluster_index','job_index']].values.T\n",
    "    input_fn = os.path.join(input_folder,f\"job.out.{int(cluster_index)}.{int(job_index)}\")\n",
    "    #assert os.path.exists(input_fn)\n",
    "    if os.path.exists(input_fn):\n",
    "        input_fn_fk=input_fn\n",
    "        df_fit_fk,dict_linear_fit_fk = routine_measure_annihilation_defect(input_fn,printing=True,**kwargs)\n",
    "        amax_fk=dg_fk['amax'].median()\n",
    "        rmse_fk=dg_fk['rmse'].median()\n",
    "        L = dg_fk['L'].median()\n",
    "        print(f\"\\nbest fit for Fenton-Karma: RMSE: {rmse_fk:.4f} Hz/cm^2, amax: {amax_fk:.4f} cm^2/s, L: {L} cm\")\n",
    "        print(f\"{input_fn_fk=}\")\n",
    "        #record\n",
    "        dict_results_fk=dict(\n",
    "            model_name='Fenton-Karma',\n",
    "            amax=amax_fk,\n",
    "            rmse=rmse_fk,\n",
    "            L=L,\n",
    "            df_fit=df_fit_fk,\n",
    "            dg_fit=dg_fk,\n",
    "            dict_linear_fit=dict_linear_fit_fk,\n",
    "            filename=input_fn_fk,\n",
    "            gmin=gmin_fk)\n",
    "        dict_results_fk_lst.append(dict_results_fk)\n",
    "        gmin_fk_lst.append(gmin_fk)\n",
    "        log_dir_fk_lst.append(input_fn)\n",
    "    \n",
    "    #identify the lowest error simulation for each amax value\n",
    "    print(f\"\\n**************************************\")\n",
    "    print(f\"* Luo-Rudy Model (best settings):\")\n",
    "    print(f\"**************************************\")\n",
    "    minrmse=9999.\n",
    "    #supamax=40\n",
    "    supamax=10.2\n",
    "    infamax=10\n",
    "    for amax,g in df_defects_lr.groupby(by='amax'):\n",
    "        rmse_min = g['rmse'].min()\n",
    "        count = g['rmse'].count()\n",
    "        log_likelihood = g['log_likelihood'].max()\n",
    "        #if (rmse_min<=minrmse)&(amax<=supamax):\n",
    "        if (rmse_min<=minrmse)&(amax<=supamax)&(amax>infamax):\n",
    "            minrmse=rmse_min\n",
    "            gmin_lr=g.copy()\n",
    "            print_str =f\"{amax=:.4f}, {rmse_min=:.4f}, {log_likelihood=:.4f}, {count=}\"\n",
    "    print(print_str)        \n",
    "    gmin_lr.sort_values(by='D',inplace=True)\n",
    "    \n",
    "    #find best simulation for the full model at this avalue\n",
    "#     dg_lr=gmin_lr[gmin_lr['rmse'] == gmin_lr['rmse'].min()].copy()\n",
    "    dg_lr=gmin_lr[gmin_lr['log_likelihood'] == gmin_lr['log_likelihood'].max()].copy()\n",
    "    dg_lr['run']=run_num\n",
    "    df_defects_lr['run']=run_num\n",
    "    dg_lr['model']='Luo-Rudy'\n",
    "    cluster_index,job_index = dg_lr[['cluster_index','job_index']].values.T\n",
    "    input_fn = os.path.join(input_folder,f\"job.out.{int(cluster_index)}.{int(job_index)}\")\n",
    "    #assert os.path.exists(input_fn)\n",
    "    if os.path.exists(input_fn):\n",
    "        input_fn_lr=input_fn\n",
    "        df_fit_lr,dict_linear_fit_lr = routine_measure_annihilation_defect(input_fn,printing=True,**kwargs)\n",
    "        amax_lr=dg_lr['amax'].median()\n",
    "        rmse_lr=dg_lr['rmse'].median()\n",
    "        L = dg_lr['L'].median()\n",
    "        print(f\"\\nbest fit for Luo-Rudy: RMSE: {rmse_lr:.4f} Hz/cm^2, amax: {amax_lr:.4f} cm^2/s, L: {L} cm\")\n",
    "        print(f\"{input_fn_lr=}\")\n",
    "        #record\n",
    "        dict_results_lr=dict(\n",
    "            model_name='Luo-Rudy',\n",
    "            amax=amax_lr,\n",
    "            rmse=rmse_lr,\n",
    "            L=L,\n",
    "            df_fit=df_fit_lr,\n",
    "            dg_fit=dg_lr,\n",
    "            dict_linear_fit=dict_linear_fit_lr,\n",
    "            filename=input_fn_lr,\n",
    "            gmin=gmin_lr)\n",
    "        dict_results_lr_lst.append(dict_results_lr)\n",
    "        gmin_lr_lst.append(gmin_lr)\n",
    "        log_dir_lr_lst.append(input_fn)\n",
    "\n",
    "    #print(f\"\\nparameter range supported in run #{run_num}:\")\n",
    "    print(f\"number of trials: {df_defects_lr.shape[0]}\")\n",
    "    #print(df_defects_lr.describe()[['r','kappa','D','varkappa','amax','L','neighbor']].T[['min','max']].T)"
   ]
  },
  {
   "cell_type": "code",
   "execution_count": 238,
   "id": "a4a69a17",
   "metadata": {
    "ExecuteTime": {
     "end_time": "2023-04-02T00:10:16.735214Z",
     "start_time": "2023-04-02T00:10:16.698685Z"
    }
   },
   "outputs": [],
   "source": [
    "# df_defects_fk"
   ]
  },
  {
   "cell_type": "markdown",
   "id": "a8003403",
   "metadata": {},
   "source": [
    "# compute the powerlaw exponents to the full model annihilation rate densities"
   ]
  },
  {
   "cell_type": "code",
   "execution_count": 239,
   "id": "c14a27fd",
   "metadata": {
    "ExecuteTime": {
     "end_time": "2023-04-02T00:10:17.444569Z",
     "start_time": "2023-04-02T00:10:17.392635Z"
    }
   },
   "outputs": [],
   "source": [
    "dict_wjr = recall_death_rates_vidmar_rappel(**kwargs)\n",
    "fk=dict_wjr['fk']\n",
    "lr=dict_wjr['lr']"
   ]
  },
  {
   "cell_type": "code",
   "execution_count": 240,
   "id": "223afa17",
   "metadata": {
    "ExecuteTime": {
     "end_time": "2023-04-02T00:10:17.897780Z",
     "start_time": "2023-04-02T00:10:17.861551Z"
    }
   },
   "outputs": [
    {
     "name": "stdout",
     "output_type": "stream",
     "text": [
      "annihilation rate density powerlaw fits:\n",
      "m = 1.877234 +/- 0.024488\n",
      "M = 5.572316 +/- 0.299027 Hz/cm^2; B=2.496963 +/- 0.039522\n",
      "RMSE=0.1386 Hz/cm^2; R^2=0.9969; MPE=6.9910%; N=73\n",
      "m = 1.637556 +/- 0.016847\n",
      "M = 16.735599 +/- 0.829136 Hz/cm^2; B=5.587740 +/- 0.065801\n",
      "RMSE=0.1340 Hz/cm^2; R^2=0.9973; MPE=7.2488%; N=100\n"
     ]
    }
   ],
   "source": [
    "print(f\"annihilation rate density powerlaw fits:\")\n",
    "dict_fit_death_fk = print_fit_power_law(x=fk['q'].values,y=fk['w'].values)\n",
    "dict_fit_death_lr = print_fit_power_law(x=lr['q'].values,y=lr['w'].values)\n"
   ]
  },
  {
   "cell_type": "markdown",
   "id": "8025d457",
   "metadata": {},
   "source": [
    "# Plot mean annihilation rates"
   ]
  },
  {
   "cell_type": "code",
   "execution_count": 241,
   "id": "e9bc168b",
   "metadata": {
    "ExecuteTime": {
     "end_time": "2023-04-02T00:10:18.927006Z",
     "start_time": "2023-04-02T00:10:18.909886Z"
    }
   },
   "outputs": [],
   "source": [
    "#get 2 token points for either of the full models\n",
    "#LR\n",
    "num = 1.638 # ±0.017\n",
    "# xlst=[0.14,0.8]\n",
    "xlst=[0.18,0.96]\n",
    "y1 = 4\n",
    "y2 = y1 * (xlst[1]/xlst[0])**num\n",
    "ylst=[y1,y2]\n",
    "xlst_lr = list(xlst)\n",
    "ylst_lr = list(ylst)\n",
    "\n",
    "#FK\n",
    "num = 1.88 # ±0.03\n",
    "# xlst=[1.4,8]\n",
    "xlst=[1.3,7.]\n",
    "y1 = 2\n",
    "y2 = y1 * (xlst[1]/xlst[0])**num\n",
    "ylst=[y1,y2]\n",
    "xlst_fk = list(xlst)\n",
    "ylst_fk = list(ylst)"
   ]
  },
  {
   "cell_type": "code",
   "execution_count": 242,
   "id": "5fb39d35",
   "metadata": {
    "ExecuteTime": {
     "end_time": "2023-04-02T00:10:20.140729Z",
     "start_time": "2023-04-02T00:10:19.673389Z"
    }
   },
   "outputs": [
    {
     "data": {
      "image/png": "[encoded data removed]",
      "text/plain": [
       "<Figure size 400x400 with 1 Axes>"
      ]
     },
     "metadata": {},
     "output_type": "display_data"
    },
    {
     "name": "stdout",
     "output_type": "stream",
     "text": [
      "run_num_lst=[28, 29]\n",
      "neighbor=1\n"
     ]
    }
   ],
   "source": [
    "use_filterby_minN=True\n",
    "minN=10\n",
    "# minN=8\n",
    "# figsize = (6, 4)  #(5,4)\n",
    "figsize = (4, 4)  #(5,4)\n",
    "fontsize=16\n",
    "\n",
    "# x1lim=[0.008, 11]\n",
    "x1lim=[0.08, 11]\n",
    "x2lim=[0.01, 250]\n",
    "\n",
    "\n",
    "fig, ax = plt.subplots(figsize=figsize)\n",
    "ax = plot_death_rates_loglog_full(fk,lr,ax=ax,fontsize=fontsize,x1lim=x1lim, x2lim=x2lim)\n",
    "\n",
    "# Linear Particle (L=5)\n",
    "df_fit_fk = dict_results_fk_lst[0]['df_fit'].copy()\n",
    "dg_fit_fk = dict_results_fk_lst[0]['dg_fit'].copy()\n",
    "df_fit_lr = dict_results_lr_lst[0]['df_fit'].copy()\n",
    "dg_fit_lr = dict_results_lr_lst[0]['dg_fit'].copy()\n",
    "\n",
    "if use_filterby_minN:\n",
    "    df_fit_fk = df_fit_fk[df_fit_fk['N']>=minN].copy()\n",
    "    df_fit_lr = df_fit_lr[df_fit_lr['N']>=minN].copy()\n",
    "\n",
    "df_fit_fk.plot(x='q',y='w',alpha=0.7,ax=ax,color='k',label=r'LPM (A=25 cm$^2$)')#r'Lin. (A=25 cm$^2$)')#f'Lin. Particle (L=5)')\n",
    "df_fit_lr.plot(x='q',y='w',alpha=0.7,ax=ax,color='k',label='_Best Fit to LR')\n",
    "# df_fit_fk.plot(x='q',y='w',alpha=0.7,ax=ax,color='k',label=r'Particle (A=25 cm$^2$)')#f'Lin. Particle (L=5)')\n",
    "# df_fit_fk.plot(x='q',y='w',alpha=0.7,ax=ax,color='k',label=r'Linear Particle (A=25 cm$^2$)')#f'Lin. Particle (L=5)')\n",
    "# df_fit_lr.plot(x='q',y='w',alpha=0.7,ax=ax,color='k',label='_Best Fit to LR')\n",
    "\n",
    "# Linear Particle (L=10)\n",
    "df_fit_fk = dict_results_fk_lst[1]['df_fit'].copy()\n",
    "dg_fit_fk = dict_results_fk_lst[1]['dg_fit'].copy()\n",
    "df_fit_lr = dict_results_lr_lst[1]['df_fit'].copy()\n",
    "dg_fit_lr = dict_results_lr_lst[1]['dg_fit'].copy()\n",
    "\n",
    "if use_filterby_minN:\n",
    "    df_fit_fk = df_fit_fk[df_fit_fk['N']>=minN].copy()\n",
    "    df_fit_lr = df_fit_lr[df_fit_lr['N']>=minN].copy()\n",
    "\n",
    "   \n",
    "df_fit_fk.plot(x='q',y='w',alpha=0.7,ax=ax,color='r',label=r'LPM (A=100 cm$^2$)')#r'Lin (A=100 cm$^2$)')#f'Lin. Particle (L=5)')\n",
    "df_fit_lr.plot(x='q',y='w',alpha=0.7,ax=ax,color='r',label='_Best Fit to LR')\n",
    "# df_fit_fk.plot(x='q',y='w',alpha=0.7,ax=ax,color='r',label=r'Linear Particle (A=100 cm$^2$)')#)f'Lin. Particle (L=10)')\n",
    "# # df_fit_fk.plot(x='q',y='w',alpha=0.7,ax=ax,color='r',label=f'Linear Particle (L=10)')#,label='_Best Fit to FK')\n",
    "# # df_fit_fk.plot(x='q',y='w',alpha=0.7,ax=ax,color='r',label=r'Lin. Particle (A=100 cm$^2$)')#)f'Lin. Particle (L=10)')\n",
    "# # df_fit_fk.plot(x='q',y='w',alpha=0.7,ax=ax,color='r',label=r'Particle (A=100 cm$^2$)')#)f'Lin. Particle (L=10)')\n",
    "# df_fit_lr.plot(x='q',y='w',alpha=0.7,ax=ax,color='r',label='_Best Fit to LR')\n",
    "\n",
    "# format_plot\n",
    "ax.tick_params(top=True, right=True,direction='in',which='both')\n",
    "format_plot(ax=ax,xlabel=r'$n$ (1/cm$^2$)',ylabel=r'$w_-$ (Hz/cm$^2$)',fontsize=fontsize,use_loglog=True)\n",
    "# format_plot(ax=ax,xlabel=r'$q$ (1/cm$^2$)',ylabel=r'$w_-$ (Hz/cm$^2$)',fontsize=fontsize,use_loglog=True)\n",
    "# ax.legend(loc='upper left',fontsize=fontsize-2)\n",
    "# ax.legend(loc='lower right',fontsize=fontsize-2.,frameon=False,ncol=2)\n",
    "# leg = ax.legend(loc=(1.04,0.2),fontsize=fontsize-2.,frameon=False)\n",
    "# leg = ax.legend(loc='upper left',fontsize=fontsize-3.,frameon=False,ncol=1)\n",
    "# leg = ax.legend(loc='lower right',fontsize=fontsize-3.,frameon=False,ncol=1)\n",
    "leg = ax.legend(loc='lower right',fontsize=fontsize-4.,frameon=False,ncol=1)\n",
    "for lh in leg.legendHandles: \n",
    "    lh.set_alpha(1)\n",
    "# ax.get_legend().remove()\n",
    "\n",
    "\n",
    "#mark the slope corresponding to the FK model\n",
    "ax.plot(xlst_fk,ylst_fk,':',color='gray')\n",
    "#mark the slope corresponding to the LR model\n",
    "ax.plot(xlst_lr,ylst_lr,':',color='gray')\n",
    "#TOOD(in .odg): annotate slope marker as $nu_-$\n",
    "\n",
    "# x1lim = [8e-3, 1.1]  \n",
    "# x2lim = [1e-2, 25]\n",
    "# ax.set_xlim(x1lim)\n",
    "# ax.set_ylim(x2lim)\n",
    "\n",
    "#add annotation\n",
    "# xytext=(0.09, 10)\n",
    "# xytext=(0.01, 90)\n",
    "# ax.annotate(r\"best fit ($a>0$)\", xy=xy, xytext=xytext,fontsize=fontsize)\n",
    "# .tick_params(labelbottom=False, labeltop=True, labelleft=False, labelright=False,\n",
    "#                      bottom=False, top=True, left=False, right=False)\n",
    "# xytext=(0.01, 40)\n",
    "# xy=(0.3, 11)\n",
    "# ax.annotate(r\"$a_{max}$ = const.\", xy=xy, xytext=(0.01, 40),fontsize=fontsize-2)\n",
    "# ax.annotate(r\"$a_{max}$ fixed to observed\", xy=xy, xytext=(0.01, 40),fontsize=fontsize-2)\n",
    "# ax.annotate(r\"$a_{max}$ fixed to observation\"+f\"\\nfrom MSR of full\", xy=xy, xytext=(0.01, 40),fontsize=fontsize-2)\n",
    "# #add marker showing the slope of ~2\n",
    "# annotation.slope_marker(origin=(.75, 2.0),\n",
    "#                         slope=2,\n",
    "#                         text_kwargs={'color': 'black','fontsize':16, 'alpha':0.7},\n",
    "#                         poly_kwargs={'facecolor': (0.5, 0.5, 0.5), 'alpha':0.5},\n",
    "#                         ax=ax)\n",
    "plt.show()\n",
    "print(f\"{run_num_lst=}\")\n",
    "print(f\"{neighbor=}\")"
   ]
  },
  {
   "cell_type": "markdown",
   "id": "55b133de",
   "metadata": {
    "ExecuteTime": {
     "end_time": "2022-11-19T03:16:50.774839Z",
     "start_time": "2022-11-19T03:16:50.737597Z"
    }
   },
   "source": [
    "$\\nu_-$"
   ]
  },
  {
   "cell_type": "code",
   "execution_count": 243,
   "id": "c566b819",
   "metadata": {
    "ExecuteTime": {
     "end_time": "2023-04-02T00:11:00.231701Z",
     "start_time": "2023-04-02T00:11:00.199936Z"
    }
   },
   "outputs": [],
   "source": [
    "dh_lst=[]\n",
    "col_lst=['model','amax','L','varkappa','D','r','kappa',\n",
    "           'rmse','log_likelihood','neighbor','mpe',\n",
    "           'q_lo', 'q_hi','CollTime_lo', 'CollTime_hi','N_lo', 'N_hi',\n",
    "          'run','cluster_index', 'job_index']\n",
    "\n",
    "for dict_results_fk in dict_results_fk_lst:\n",
    "    dg_fit_fk = dict_results_fk['dg_fit']\n",
    "    dh_lst.append(dg_fit_fk[col_lst])\n",
    "    #dg_fit_fk = dict_results_fk['dg_fit']\n",
    "    #dh_lst.append(dg_fit_fk[col_lst])\n",
    "\n",
    "for dict_results_lr in dict_results_lr_lst:\n",
    "    dg_fit_lr = dict_results_lr['dg_fit']\n",
    "    dh_lst.append(dg_fit_lr[col_lst])\n",
    "    #dg_fit_lr = dict_results_lr['dg_fit']\n",
    "    #dh_lst.append(dg_fit_lr[col_lst])\n",
    "df_annihil_fits = pd.concat(dh_lst)\n",
    "# df_annihil_fits.rese`t_index(inplace=True)\n",
    "df_annihil_fits.sort_values(by=['model','L'],inplace=True)\n",
    "# df_annihil_fits"
   ]
  },
  {
   "cell_type": "code",
   "execution_count": 244,
   "id": "4b61c060",
   "metadata": {
    "ExecuteTime": {
     "end_time": "2023-04-02T00:11:00.937404Z",
     "start_time": "2023-04-02T00:11:00.905009Z"
    }
   },
   "outputs": [],
   "source": [
    "# NOTE: if i can get r,kappa at L=10 to match r,kappa from L=5, then I can greatly shrink/simplify Table 1.\n",
    "#DONE: constrain LR model to have D<0.5 for L=10"
   ]
  },
  {
   "cell_type": "code",
   "execution_count": 245,
   "id": "3105e061",
   "metadata": {
    "ExecuteTime": {
     "end_time": "2023-04-02T00:11:01.282777Z",
     "start_time": "2023-04-02T00:11:01.257060Z"
    }
   },
   "outputs": [
    {
     "name": "stdout",
     "output_type": "stream",
     "text": [
      "annihil_fits_dir='/home/timothytyree/Documents/GitHub/bgmc/python/data/annihil_fits.28.29.csv'\n",
      "             model    amax     L  varkappa     D     r  kappa      rmse  \\\n",
      "4142  Fenton-Karma   1.780   5.0     1.080  0.35  0.12  200.0  0.056633   \n",
      "2899  Fenton-Karma   1.780  10.0     1.080  0.35  0.12  250.0  0.184791   \n",
      "2437      Luo-Rudy  10.147   5.0     9.747  0.20  0.12  200.0  0.404122   \n",
      "3141      Luo-Rudy  10.147  10.0     9.447  0.35  0.20  200.0  0.174752   \n",
      "\n",
      "      log_likelihood  neighbor       mpe  q_lo  q_hi  CollTime_lo  \\\n",
      "4142       37.621874       0.0  2.028843  0.32  3.92     0.000544   \n",
      "2899      109.926507       1.0  5.927285  0.08  0.98     0.001715   \n",
      "2437        7.881304       1.0  8.972176  0.32  3.92     0.000397   \n",
      "3141       70.242963       1.0  5.750163  0.08  0.98     0.000655   \n",
      "\n",
      "      CollTime_hi  N_lo   N_hi  run  cluster_index  job_index  \n",
      "4142     0.065835  10.0  100.0   28       23387298       9508  \n",
      "2899     0.260700  10.0  100.0   29       23453634       4163  \n",
      "2437     0.012975  10.0  100.0   28       23387298       3785  \n",
      "3141     0.034161  10.0  100.0   29       23453634         24  \n"
     ]
    }
   ],
   "source": [
    "# annihil_fits_dir = f'/home/timothytyree/Documents/GitHub/bgmc/python/data/annihil_fits.{run_num_lst[0]}.{run_num_lst[1]}.csv'\n",
    "# annihil_fits_dir = f'/home/timothytyree/Documents/GitHub/bgmc/python/data/annihil_fits.'\n",
    "annihil_fits_dir = f'{nb_dir}/data/annihil_fits.'\n",
    "for run_num in run_num_lst:\n",
    "    annihil_fits_dir += f\"{run_num}.\"\n",
    "annihil_fits_dir+='csv'\n",
    "print(f\"{annihil_fits_dir=}\")\n",
    "#save as .csv and send to WJ right now!\n",
    "# annihil_fits_dir = '/home/timothytyree/Documents/GitHub/bgmc/python/data/annihil_fits.csv'\n",
    "df_annihil_fits.to_csv(annihil_fits_dir,index=False)\n",
    "print(df_annihil_fits)"
   ]
  },
  {
   "cell_type": "code",
   "execution_count": 246,
   "id": "3eeaff76",
   "metadata": {
    "ExecuteTime": {
     "end_time": "2023-04-02T00:11:01.812664Z",
     "start_time": "2023-04-02T00:11:01.781973Z"
    }
   },
   "outputs": [
    {
     "name": "stdout",
     "output_type": "stream",
     "text": [
      "Table of maximum likelihood fits of linear particle model to full models.\n",
      "             model    amax     L       mpe\n",
      "4142  Fenton-Karma   1.780   5.0  2.028843\n",
      "2899  Fenton-Karma   1.780  10.0  5.927285\n",
      "2437      Luo-Rudy  10.147   5.0  8.972176\n",
      "3141      Luo-Rudy  10.147  10.0  5.750163\n"
     ]
    }
   ],
   "source": [
    "print(f\"Table of maximum likelihood fits of linear particle model to full models.\")\n",
    "# print(df_annihil_fits[['model','amax','L','rmse']])\n",
    "print(df_annihil_fits[['model','amax','L','mpe']])"
   ]
  },
  {
   "cell_type": "code",
   "execution_count": 247,
   "id": "f4dd21aa",
   "metadata": {
    "ExecuteTime": {
     "end_time": "2023-04-02T00:11:02.476150Z",
     "start_time": "2023-04-02T00:11:02.440059Z"
    }
   },
   "outputs": [
    {
     "name": "stdout",
     "output_type": "stream",
     "text": [
      "Table of maximum likelihood fits of linear particle model to full models.\n",
      "                  4142          2899      2437      3141\n",
      "model     Fenton-Karma  Fenton-Karma  Luo-Rudy  Luo-Rudy\n",
      "amax              1.78          1.78    10.147    10.147\n",
      "mpe           2.028843      5.927285  8.972176  5.750163\n",
      "L                  5.0          10.0       5.0      10.0\n",
      "D                 0.35          0.35       0.2      0.35\n",
      "varkappa          1.08          1.08     9.747     9.447\n",
      "r                 0.12          0.12      0.12       0.2\n",
      "kappa            200.0         250.0     200.0     200.0\n",
      "neighbor           0.0           1.0       1.0       1.0\n"
     ]
    }
   ],
   "source": [
    "print(f\"Table of maximum likelihood fits of linear particle model to full models.\")\n",
    "print(df_annihil_fits[['model','amax','mpe','L','D','varkappa','r','kappa','neighbor']].T)"
   ]
  },
  {
   "cell_type": "code",
   "execution_count": 248,
   "id": "30d3c8db",
   "metadata": {
    "ExecuteTime": {
     "end_time": "2023-04-02T00:11:02.854344Z",
     "start_time": "2023-04-02T00:11:02.820611Z"
    }
   },
   "outputs": [
    {
     "name": "stdout",
     "output_type": "stream",
     "text": [
      "Table of maximum likelihood fits of linear particle model to full models.\n",
      "             model    amax     L       mpe\n",
      "4142  Fenton-Karma   1.780   5.0  2.028843\n",
      "2899  Fenton-Karma   1.780  10.0  5.927285\n",
      "2437      Luo-Rudy  10.147   5.0  8.972176\n",
      "3141      Luo-Rudy  10.147  10.0  5.750163\n"
     ]
    }
   ],
   "source": [
    "print(f\"Table of maximum likelihood fits of linear particle model to full models.\")\n",
    "# print(df_annihil_fits[['model','amax','L','rmse']])\n",
    "print(df_annihil_fits[['model','amax','L','mpe']])"
   ]
  },
  {
   "cell_type": "code",
   "execution_count": 249,
   "id": "45d21e8c",
   "metadata": {
    "ExecuteTime": {
     "end_time": "2023-04-02T00:11:03.234041Z",
     "start_time": "2023-04-02T00:11:03.210676Z"
    }
   },
   "outputs": [],
   "source": [
    "#GOAL: compute mean percent error for table 1 instead of RMSE\n",
    "#DONE: modify generation of df_defects_fk,lr to compute mean percent error where RMSE is computed\n",
    "#DONE: compute MPE for annihilations\n",
    "#DONE: compute MPE for msr\n",
    "#DONE: modify print_fit_power_law to also print mean percent error"
   ]
  },
  {
   "cell_type": "code",
   "execution_count": 250,
   "id": "e578cafb",
   "metadata": {
    "ExecuteTime": {
     "end_time": "2023-04-02T00:11:03.578213Z",
     "start_time": "2023-04-02T00:11:03.552180Z"
    }
   },
   "outputs": [
    {
     "data": {
      "text/plain": [
       "'/home/timothytyree/Documents/GitHub/bgmc/python/data/annihil_fitted_values.28.29.csv'"
      ]
     },
     "execution_count": 250,
     "metadata": {},
     "output_type": "execute_result"
    }
   ],
   "source": [
    "dfk = pd.concat([x['df_fit'][['N','L','CollTime','q','w']] for x in dict_results_fk_lst])\n",
    "dfk['model_name']='Fenton-Karma'\n",
    "dlr = pd.concat([x['df_fit'][['N','L','CollTime','q','w']] for x in dict_results_lr_lst])\n",
    "dlr['model_name']='Luo-Rudy'\n",
    "d=pd.concat([dfk,dlr])\n",
    "directory = annihil_fits_dir.replace('fits','fitted_values')\n",
    "d.reset_index().to_csv(directory)\n",
    "directory"
   ]
  },
  {
   "cell_type": "code",
   "execution_count": null,
   "id": "1f079fa5",
   "metadata": {
    "ExecuteTime": {
     "end_time": "2023-04-01T23:26:42.052798Z",
     "start_time": "2023-04-01T23:26:42.006290Z"
    }
   },
   "outputs": [],
   "source": []
  },
  {
   "cell_type": "markdown",
   "id": "c21c2a06",
   "metadata": {},
   "source": [
    "# plot the corresponding best fits at L=5"
   ]
  },
  {
   "cell_type": "code",
   "execution_count": 283,
   "id": "b691b6c0",
   "metadata": {
    "ExecuteTime": {
     "end_time": "2023-04-02T00:17:05.823483Z",
     "start_time": "2023-04-02T00:17:05.807498Z"
    }
   },
   "outputs": [],
   "source": [
    "# latest_run_num=29\n",
    "# run_num_lst = list(reversed(list(np.arange(14,latest_run_num+1))))\n",
    "# # run_num_lst=[25,17]\n",
    "# # run_num_lst=[25,19]\n",
    "# # run_num_lst=[25,24]\n",
    "# # run_num_lst = list(np.arange(12,26))\n",
    "# # run_num_lst = list(np.arange(26,14))\n",
    "# run_num_lst=[25,18]\n",
    "# # run_num_lst=[28,18]\n",
    "# run_num_lst=[28,29]\n",
    "# # run_num_lst=[25,29]\n",
    "# # run_num_lst=[32,29]\n",
    "# run_num_lst=[32,29]\n",
    "# #note 31==30...\n",
    "# # run_num_lst=[32,33]  \n",
    "run_num_lst=[34,33]  "
   ]
  },
  {
   "cell_type": "code",
   "execution_count": 284,
   "id": "2030d3e9",
   "metadata": {
    "ExecuteTime": {
     "end_time": "2023-04-02T00:17:06.254824Z",
     "start_time": "2023-04-02T00:17:06.237702Z"
    }
   },
   "outputs": [],
   "source": [
    "# run_num_lst=[34, 33]\n",
    "# run_num_lst=[33,34]\n",
    "# run_num_L10=37\n",
    "# run_num_L10=36\n",
    "# run_num_L10=35\n",
    "\n",
    "# run_num_L10=30\n",
    "# run_num_L10=31\n",
    "# run_num_L10=32\n",
    "\n",
    "run_num_L10=33\n",
    "run_num_L5=34\n",
    "# run_num_L5=35\n",
    "\n",
    "# run_num_L10=29\n",
    "# run_num_L5=28\n",
    "\n",
    "\n",
    "#heretimheretim\n",
    "run_num_lst=[run_num_L10,run_num_L5]"
   ]
  },
  {
   "cell_type": "code",
   "execution_count": 296,
   "id": "39552c91",
   "metadata": {
    "ExecuteTime": {
     "end_time": "2023-04-02T00:23:29.373807Z",
     "start_time": "2023-04-02T00:23:29.237862Z"
    }
   },
   "outputs": [
    {
     "name": "stdout",
     "output_type": "stream",
     "text": [
      "\n",
      "**************************************\n",
      "* Fenton-Karma Model (best settings):\n",
      "**************************************\n",
      "amax=1.7810, rmse_min=0.1113, log_likelihood=79.5071, count=745\n",
      "\n",
      "best fit for Fenton-Karma: RMSE: 0.1841 Hz/cm^2, amax: 1.7810 cm^2/s, L: 10.0 cm\n",
      "input_fn_fk='/home/timothytyree/Documents/GitHub/bgmc/python/data/osg_output/run_33_all/job.out.24419143.25716'\n",
      "\n",
      "**************************************\n",
      "* Luo-Rudy Model (best settings):\n",
      "**************************************\n",
      "amax=10.1470, rmse_min=0.1516, log_likelihood=78.7399, count=757\n",
      "\n",
      "best fit for Luo-Rudy: RMSE: 0.1516 Hz/cm^2, amax: 10.1470 cm^2/s, L: 10.0 cm\n",
      "input_fn_lr='/home/timothytyree/Documents/GitHub/bgmc/python/data/osg_output/run_33_all/job.out.24419143.20423'\n",
      "number of trials: 6785\n"
     ]
    }
   ],
   "source": [
    "use_filterby_neighbor=False\n",
    "use_filterby_neighbor=True\n",
    "neighbor=0\n",
    "# neighbor=1\n",
    "\n",
    "use_filterby_minN=True\n",
    "# use_filterby_minN=False\n",
    "minN=9\n",
    "# minN=20\n",
    "minN=50\n",
    "# minN=70\n",
    "# minN=90\n",
    "use_filterby_amax=True\n",
    "min_amax=1.\n",
    "\n",
    "use_select_rxn=True\n",
    "use_select_rxn=False\n",
    "# r_trgt_lr=0.195\n",
    "# kappa_trgt_lr=200\n",
    "# r_trgt_fk=0.135\n",
    "# kappa_trgt_fk=167.02\n",
    "# kappa_trgt_fk=200\n",
    "r_trgt_lr=0.155\n",
    "kappa_trgt_lr=300\n",
    "r_trgt_fk=0.135\n",
    "kappa_trgt_fk=167.02\n",
    "\n",
    "use_filterby_r=True\n",
    "# use_filterby_r=False\n",
    "# rinf=0.195 #cm\n",
    "# rinf=0.15 #cm\n",
    "rinf=0. #cm\n",
    "# rinf=0.1 #cm\n",
    "# rsupa=0.15 #cm\n",
    "rsupa=0.5 #cm\n",
    "\n",
    "\n",
    "# neighbor=1\n",
    "remove_no_diffusion=True\n",
    "use_filterby_D=True\n",
    "Dinf=0.1 #cm^2/s\n",
    "Dsupa=0.5 #cm^2/s\n",
    "# Dinf=0\n",
    "# Dinf=0.01\n",
    "# run_num=25 #L=5 cm\n",
    "# run_num=18 #L=10 cm\n",
    "num_digits_round_amax=3\n",
    "gmin_fk_lst=[]\n",
    "gmin_lr_lst=[]\n",
    "log_dir_fk_lst=[]\n",
    "log_dir_lr_lst=[]\n",
    "dict_results_fk_lst=[]\n",
    "dict_results_lr_lst=[]\n",
    "# for run_num in [25,18]: #chosen exemplar pair\n",
    "# for run_num in run_num_lst:\n",
    "run_num=run_num_L10\n",
    "parquet_dir_defects_fk=f'{nb_dir}/data/osg_output/run_{run_num}_defects_to_fk.parquet'\n",
    "parquet_dir_defects_lr=f'{nb_dir}/data/osg_output/run_{run_num}_defects_to_lr.parquet'\n",
    "input_folder=f'{nb_dir}/data/osg_output/run_{run_num}_all'\n",
    "#     parquet_dir_defects_fk=f'/home/timothytyree/Documents/GitHub/bgmc/python/data/osg_output/run_{run_num}_defects_to_fk.parquet'\n",
    "#     parquet_dir_defects_lr=f'/home/timothytyree/Documents/GitHub/bgmc/python/data/osg_output/run_{run_num}_defects_to_lr.parquet'\n",
    "#     input_folder=f'/home/timothytyree/Documents/GitHub/bgmc/python/data/osg_output/run_{run_num}_all'\n",
    "#load data\n",
    "df_defects_fk=pd.read_parquet(parquet_dir_defects_fk)\n",
    "df_defects_lr=pd.read_parquet(parquet_dir_defects_lr)\n",
    "\n",
    "#filterby neighbor\n",
    "if use_filterby_neighbor:\n",
    "    df_defects_fk = df_defects_fk[df_defects_fk['neighbor']==neighbor].copy()\n",
    "    df_defects_lr = df_defects_lr[df_defects_lr['neighbor']==neighbor].copy()\n",
    "\n",
    "#compute order parameter for each member a=amax-2*D\n",
    "#add columns for amax\n",
    "df_defects_fk['amax'] = np.around(df_defects_fk['varkappa'] + 2.*df_defects_fk['D'],num_digits_round_amax)\n",
    "df_defects_lr['amax'] = np.around(df_defects_lr['varkappa'] + 2.*df_defects_lr['D'],num_digits_round_amax)\n",
    "\n",
    "if remove_no_diffusion:\n",
    "    df_defects_fk = df_defects_fk[df_defects_fk['D']>Dinf].copy()\n",
    "    df_defects_lr = df_defects_lr[df_defects_lr['D']>Dinf].copy()\n",
    "\n",
    "\n",
    "if use_filterby_D:\n",
    "    df_defects_fk = df_defects_fk[df_defects_fk['D']<Dsupa].copy()\n",
    "    df_defects_lr = df_defects_lr[df_defects_lr['D']<Dsupa].copy()\n",
    "\n",
    "if use_filterby_r:\n",
    "    df_defects_fk = df_defects_fk[(df_defects_fk['r']>=rinf)&(df_defects_fk['r']<rsupa)].copy()\n",
    "    df_defects_lr = df_defects_lr[(df_defects_lr['r']>=rinf)&(df_defects_lr['r']<rsupa)].copy()\n",
    "\n",
    "\n",
    "if use_filterby_amax:\n",
    "    df_defects_fk = df_defects_fk[df_defects_fk['amax']>min_amax].copy()\n",
    "    df_defects_lr = df_defects_lr[df_defects_lr['amax']>min_amax].copy()\n",
    "\n",
    "if use_select_rxn:\n",
    "    df_defects_lr = df_defects_lr[\n",
    "        (df_defects_lr['r']==r_trgt_lr)&\n",
    "        (df_defects_lr['kappa']==kappa_trgt_lr)\n",
    "    ].copy()\n",
    "    df_defects_fk = df_defects_fk[\n",
    "        (df_defects_fk['r']==r_trgt_fk)&\n",
    "        (df_defects_fk['kappa']==kappa_trgt_fk)\n",
    "    ].copy()\n",
    "    # r_trgt_lr=0.155\n",
    "    # kappa_trgt_lr=300\n",
    "\n",
    "#identify the lowest error simulation for each amax value\n",
    "print(f\"\\n**************************************\")\n",
    "print(f\"* Fenton-Karma Model (best settings):\")\n",
    "print(f\"**************************************\")\n",
    "minrmse=9999.\n",
    "#supamax=40.\n",
    "supamax=1.8\n",
    "#supamax=40.\n",
    "for amax,g in df_defects_fk.groupby(by='amax'):\n",
    "    rmse_min = g['rmse'].min()\n",
    "    count = g['rmse'].count()\n",
    "    log_likelihood = g['log_likelihood'].max()\n",
    "    if (rmse_min<=minrmse)&(amax<=supamax):\n",
    "        minrmse=rmse_min\n",
    "        gmin_fk=g.copy()\n",
    "        print_str =f\"{amax=:.4f}, {rmse_min=:.4f}, {log_likelihood=:.4f}, {count=}\"\n",
    "print(print_str)\n",
    "gmin_fk.sort_values(by='D',inplace=True)\n",
    "\n",
    "\n",
    "#find best simulation for the full model at this avalue\n",
    "#     dg_fk=gmin_fk[gmin_fk['rmse'] == gmin_fk['rmse'].min()].copy()\n",
    "dg_fk=gmin_fk[gmin_fk['log_likelihood'] == gmin_fk['log_likelihood'].max()].copy()\n",
    "dg_fk['run']=run_num\n",
    "df_defects_fk['run']=run_num\n",
    "dg_fk['model']='Fenton-Karma'\n",
    "cluster_index,job_index = dg_fk[['cluster_index','job_index']].values.T\n",
    "input_fn = os.path.join(input_folder,f\"job.out.{int(cluster_index)}.{int(job_index)}\")\n",
    "#assert os.path.exists(input_fn)\n",
    "if os.path.exists(input_fn):\n",
    "    input_fn_fk=input_fn\n",
    "    df_fit_fk,dict_linear_fit_fk = routine_measure_annihilation_defect(input_fn,printing=True,**kwargs)\n",
    "    amax_fk=dg_fk['amax'].median()\n",
    "    rmse_fk=dg_fk['rmse'].median()\n",
    "    L = dg_fk['L'].median()\n",
    "    print(f\"\\nbest fit for Fenton-Karma: RMSE: {rmse_fk:.4f} Hz/cm^2, amax: {amax_fk:.4f} cm^2/s, L: {L} cm\")\n",
    "    print(f\"{input_fn_fk=}\")\n",
    "    #record\n",
    "    dict_results_fk=dict(\n",
    "        model_name='Fenton-Karma',\n",
    "        amax=amax_fk,\n",
    "        rmse=rmse_fk,\n",
    "        L=L,\n",
    "        df_fit=df_fit_fk,\n",
    "        dg_fit=dg_fk,\n",
    "        dict_linear_fit=dict_linear_fit_fk,\n",
    "        filename=input_fn_fk,\n",
    "        gmin=gmin_fk)\n",
    "    dict_results_fk_lst.append(dict_results_fk)\n",
    "    gmin_fk_lst.append(gmin_fk)\n",
    "    log_dir_fk_lst.append(input_fn)\n",
    "\n",
    "#identify the lowest error simulation for each amax value\n",
    "print(f\"\\n**************************************\")\n",
    "print(f\"* Luo-Rudy Model (best settings):\")\n",
    "print(f\"**************************************\")\n",
    "minrmse=9999.\n",
    "#supamax=40\n",
    "supamax=10.2\n",
    "infamax=10\n",
    "for amax,g in df_defects_lr.groupby(by='amax'):\n",
    "    rmse_min = g['rmse'].min()\n",
    "    count = g['rmse'].count()\n",
    "    log_likelihood = g['log_likelihood'].max()\n",
    "    #if (rmse_min<=minrmse)&(amax<=supamax):\n",
    "    if (rmse_min<=minrmse)&(amax<=supamax)&(amax>infamax):\n",
    "        minrmse=rmse_min\n",
    "        gmin_lr=g.copy()\n",
    "        print_str =f\"{amax=:.4f}, {rmse_min=:.4f}, {log_likelihood=:.4f}, {count=}\"\n",
    "print(print_str)        \n",
    "gmin_lr.sort_values(by='D',inplace=True)\n",
    "\n",
    "#find best simulation for the full model at this avalue\n",
    "#     dg_lr=gmin_lr[gmin_lr['rmse'] == gmin_lr['rmse'].min()].copy()\n",
    "dg_lr=gmin_lr[gmin_lr['log_likelihood'] == gmin_lr['log_likelihood'].max()].copy()\n",
    "dg_lr['run']=run_num\n",
    "df_defects_lr['run']=run_num\n",
    "dg_lr['model']='Luo-Rudy'\n",
    "cluster_index,job_index = dg_lr[['cluster_index','job_index']].values.T\n",
    "input_fn = os.path.join(input_folder,f\"job.out.{int(cluster_index)}.{int(job_index)}\")\n",
    "#assert os.path.exists(input_fn)\n",
    "if os.path.exists(input_fn):\n",
    "    input_fn_lr=input_fn\n",
    "    df_fit_lr,dict_linear_fit_lr = routine_measure_annihilation_defect(input_fn,printing=True,**kwargs)\n",
    "    amax_lr=dg_lr['amax'].median()\n",
    "    rmse_lr=dg_lr['rmse'].median()\n",
    "    L = dg_lr['L'].median()\n",
    "    print(f\"\\nbest fit for Luo-Rudy: RMSE: {rmse_lr:.4f} Hz/cm^2, amax: {amax_lr:.4f} cm^2/s, L: {L} cm\")\n",
    "    print(f\"{input_fn_lr=}\")\n",
    "    #record\n",
    "    dict_results_lr=dict(\n",
    "        model_name='Luo-Rudy',\n",
    "        amax=amax_lr,\n",
    "        rmse=rmse_lr,\n",
    "        L=L,\n",
    "        df_fit=df_fit_lr,\n",
    "        dg_fit=dg_lr,\n",
    "        dict_linear_fit=dict_linear_fit_lr,\n",
    "        filename=input_fn_lr,\n",
    "        gmin=gmin_lr)\n",
    "    dict_results_lr_lst.append(dict_results_lr)\n",
    "    gmin_lr_lst.append(gmin_lr)\n",
    "    log_dir_lr_lst.append(input_fn)\n",
    "\n",
    "#print(f\"\\nparameter range supported in run #{run_num}:\")\n",
    "print(f\"number of trials: {df_defects_lr.shape[0]}\")\n",
    "#print(df_defects_lr.describe()[['r','kappa','D','varkappa','amax','L','neighbor']].T[['min','max']].T)"
   ]
  },
  {
   "cell_type": "code",
   "execution_count": null,
   "id": "eaf245c7",
   "metadata": {
    "ExecuteTime": {
     "end_time": "2023-04-01T23:36:50.076678Z",
     "start_time": "2023-04-01T23:36:50.059477Z"
    }
   },
   "outputs": [],
   "source": []
  },
  {
   "cell_type": "code",
   "execution_count": 297,
   "id": "23a0ad5d",
   "metadata": {
    "ExecuteTime": {
     "end_time": "2023-04-02T00:23:29.995051Z",
     "start_time": "2023-04-02T00:23:29.974445Z"
    }
   },
   "outputs": [],
   "source": [
    "use_select_rxn=True\n",
    "# use_select_rxn=False\n",
    "# r_trgt_lr=0.195\n",
    "# kappa_trgt_lr=200\n",
    "# r_trgt_fk=0.135\n",
    "# kappa_trgt_fk=167.02\n",
    "# kappa_trgt_fk=200\n",
    "# r_trgt_lr=0.155\n",
    "# kappa_trgt_lr=300\n",
    "# r_trgt_fk=0.135\n",
    "# kappa_trgt_fk=167.02\n",
    "r_trgt_lr=dg_lr['r'].values[0]\n",
    "kappa_trgt_lr=dg_lr['kappa'].values[0]\n",
    "r_trgt_fk=dg_fk['r'].values[0]\n",
    "kappa_trgt_fk=dg_fk['kappa'].values[0]"
   ]
  },
  {
   "cell_type": "code",
   "execution_count": 298,
   "id": "a995744c",
   "metadata": {
    "ExecuteTime": {
     "end_time": "2023-04-02T00:23:30.395796Z",
     "start_time": "2023-04-02T00:23:30.333581Z"
    }
   },
   "outputs": [
    {
     "name": "stdout",
     "output_type": "stream",
     "text": [
      "\n",
      "**************************************\n",
      "* Fenton-Karma Model (best settings):\n",
      "**************************************\n",
      "amax=10.1470, rmse_min=0.1516, log_likelihood=78.7399, count=757\n",
      "warning 404: file not found: /home/timothytyree/Documents/GitHub/bgmc/python/data/osg_output/run_34_all/job.out.24419143.25716\n",
      "\n",
      "**************************************\n",
      "* Luo-Rudy Model (best settings):\n",
      "**************************************\n",
      "amax=10.1470, rmse_min=1.9101, log_likelihood=-2.1760, count=1\n",
      "\n",
      "best fit for Luo-Rudy: RMSE: 1.9101 Hz/cm^2, amax: 10.1470 cm^2/s, L: 5.0 cm\n",
      "input_fn_lr='/home/timothytyree/Documents/GitHub/bgmc/python/data/osg_output/run_34_all/job.out.30282466.427'\n",
      "number of trials: 4\n"
     ]
    }
   ],
   "source": [
    "run_num=run_num_L5\n",
    "parquet_dir_defects_fk=f'{nb_dir}/data/osg_output/run_{run_num}_defects_to_fk.parquet'\n",
    "parquet_dir_defects_lr=f'{nb_dir}/data/osg_output/run_{run_num}_defects_to_lr.parquet'\n",
    "input_folder=f'{nb_dir}/data/osg_output/run_{run_num}_all'\n",
    "#     parquet_dir_defects_fk=f'/home/timothytyree/Documents/GitHub/bgmc/python/data/osg_output/run_{run_num}_defects_to_fk.parquet'\n",
    "#     parquet_dir_defects_lr=f'/home/timothytyree/Documents/GitHub/bgmc/python/data/osg_output/run_{run_num}_defects_to_lr.parquet'\n",
    "#     input_folder=f'/home/timothytyree/Documents/GitHub/bgmc/python/data/osg_output/run_{run_num}_all'\n",
    "#load data\n",
    "df_defects_fk=pd.read_parquet(parquet_dir_defects_fk)\n",
    "df_defects_lr=pd.read_parquet(parquet_dir_defects_lr)\n",
    "\n",
    "#filterby neighbor\n",
    "if use_filterby_neighbor:\n",
    "    df_defects_fk = df_defects_fk[df_defects_fk['neighbor']==neighbor].copy()\n",
    "    df_defects_lr = df_defects_lr[df_defects_lr['neighbor']==neighbor].copy()\n",
    "\n",
    "#compute order parameter for each member a=amax-2*D\n",
    "#add columns for amax\n",
    "df_defects_fk['amax'] = np.around(df_defects_fk['varkappa'] + 2.*df_defects_fk['D'],num_digits_round_amax)\n",
    "df_defects_lr['amax'] = np.around(df_defects_lr['varkappa'] + 2.*df_defects_lr['D'],num_digits_round_amax)\n",
    "\n",
    "if remove_no_diffusion:\n",
    "    df_defects_fk = df_defects_fk[df_defects_fk['D']>Dinf].copy()\n",
    "    df_defects_lr = df_defects_lr[df_defects_lr['D']>Dinf].copy()\n",
    "\n",
    "\n",
    "if use_filterby_D:\n",
    "    df_defects_fk = df_defects_fk[df_defects_fk['D']<Dsupa].copy()\n",
    "    df_defects_lr = df_defects_lr[df_defects_lr['D']<Dsupa].copy()\n",
    "\n",
    "if use_filterby_r:\n",
    "    df_defects_fk = df_defects_fk[(df_defects_fk['r']>=rinf)&(df_defects_fk['r']<rsupa)].copy()\n",
    "    df_defects_lr = df_defects_lr[(df_defects_lr['r']>=rinf)&(df_defects_lr['r']<rsupa)].copy()\n",
    "\n",
    "\n",
    "if use_filterby_amax:\n",
    "    df_defects_fk = df_defects_fk[df_defects_fk['amax']>min_amax].copy()\n",
    "    df_defects_lr = df_defects_lr[df_defects_lr['amax']>min_amax].copy()\n",
    "\n",
    "if use_select_rxn:\n",
    "    df_defects_lr = df_defects_lr[\n",
    "        (df_defects_lr['r']==r_trgt_lr)&\n",
    "        (df_defects_lr['kappa']==kappa_trgt_lr)\n",
    "    ].copy()\n",
    "    df_defects_fk = df_defects_fk[\n",
    "        (df_defects_fk['r']==r_trgt_fk)&\n",
    "        (df_defects_fk['kappa']==kappa_trgt_fk)\n",
    "    ].copy()\n",
    "    # r_trgt_lr=0.155\n",
    "    # kappa_trgt_lr=300\n",
    "\n",
    "#identify the lowest error simulation for each amax value\n",
    "print(f\"\\n**************************************\")\n",
    "print(f\"* Fenton-Karma Model (best settings):\")\n",
    "print(f\"**************************************\")\n",
    "minrmse=9999.\n",
    "#supamax=40.\n",
    "supamax=1.8\n",
    "#supamax=40.\n",
    "for amax,g in df_defects_fk.groupby(by='amax'):\n",
    "    rmse_min = g['rmse'].min()\n",
    "    count = g['rmse'].count()\n",
    "    log_likelihood = g['log_likelihood'].max()\n",
    "    if (rmse_min<=minrmse)&(amax<=supamax):\n",
    "        minrmse=rmse_min\n",
    "        gmin_fk=g.copy()\n",
    "        print_str =f\"{amax=:.4f}, {rmse_min=:.4f}, {log_likelihood=:.4f}, {count=}\"\n",
    "print(print_str)\n",
    "gmin_fk.sort_values(by='D',inplace=True)\n",
    "\n",
    "\n",
    "#find best simulation for the full model at this avalue\n",
    "#     dg_fk=gmin_fk[gmin_fk['rmse'] == gmin_fk['rmse'].min()].copy()\n",
    "dg_fk=gmin_fk[gmin_fk['log_likelihood'] == gmin_fk['log_likelihood'].max()].copy()\n",
    "dg_fk['run']=run_num\n",
    "df_defects_fk['run']=run_num\n",
    "dg_fk['model']='Fenton-Karma'\n",
    "cluster_index,job_index = dg_fk[['cluster_index','job_index']].values.T\n",
    "input_fn = os.path.join(input_folder,f\"job.out.{int(cluster_index)}.{int(job_index)}\")\n",
    "#assert os.path.exists(input_fn)\n",
    "if os.path.exists(input_fn):\n",
    "    input_fn_fk=input_fn\n",
    "    df_fit_fk,dict_linear_fit_fk = routine_measure_annihilation_defect(input_fn,printing=True,**kwargs)\n",
    "    amax_fk=dg_fk['amax'].median()\n",
    "    rmse_fk=dg_fk['rmse'].median()\n",
    "    L = dg_fk['L'].median()\n",
    "    print(f\"\\nbest fit for Fenton-Karma: RMSE: {rmse_fk:.4f} Hz/cm^2, amax: {amax_fk:.4f} cm^2/s, L: {L} cm\")\n",
    "    print(f\"{input_fn_fk=}\")\n",
    "    #record\n",
    "    dict_results_fk=dict(\n",
    "        model_name='Fenton-Karma',\n",
    "        amax=amax_fk,\n",
    "        rmse=rmse_fk,\n",
    "        L=L,\n",
    "        df_fit=df_fit_fk,\n",
    "        dg_fit=dg_fk,\n",
    "        dict_linear_fit=dict_linear_fit_fk,\n",
    "        filename=input_fn_fk,\n",
    "        gmin=gmin_fk)\n",
    "    dict_results_fk_lst.append(dict_results_fk)\n",
    "    gmin_fk_lst.append(gmin_fk)\n",
    "    log_dir_fk_lst.append(input_fn)\n",
    "else:\n",
    "    print(f\"warning 404: file not found: {input_fn}\")\n",
    "\n",
    "#identify the lowest error simulation for each amax value\n",
    "print(f\"\\n**************************************\")\n",
    "print(f\"* Luo-Rudy Model (best settings):\")\n",
    "print(f\"**************************************\")\n",
    "minrmse=9999.\n",
    "#supamax=40\n",
    "supamax=10.2\n",
    "infamax=10\n",
    "for amax,g in df_defects_lr.groupby(by='amax'):\n",
    "    rmse_min = g['rmse'].min()\n",
    "    count = g['rmse'].count()\n",
    "    log_likelihood = g['log_likelihood'].max()\n",
    "    #if (rmse_min<=minrmse)&(amax<=supamax):\n",
    "    if (rmse_min<=minrmse)&(amax<=supamax)&(amax>infamax):\n",
    "        minrmse=rmse_min\n",
    "        gmin_lr=g.copy()\n",
    "        print_str =f\"{amax=:.4f}, {rmse_min=:.4f}, {log_likelihood=:.4f}, {count=}\"\n",
    "print(print_str)        \n",
    "gmin_lr.sort_values(by='D',inplace=True)\n",
    "\n",
    "#find best simulation for the full model at this avalue\n",
    "#     dg_lr=gmin_lr[gmin_lr['rmse'] == gmin_lr['rmse'].min()].copy()\n",
    "dg_lr=gmin_lr[gmin_lr['log_likelihood'] == gmin_lr['log_likelihood'].max()].copy()\n",
    "dg_lr['run']=run_num\n",
    "df_defects_lr['run']=run_num\n",
    "dg_lr['model']='Luo-Rudy'\n",
    "cluster_index,job_index = dg_lr[['cluster_index','job_index']].values.T\n",
    "input_fn = os.path.join(input_folder,f\"job.out.{int(cluster_index)}.{int(job_index)}\")\n",
    "#assert os.path.exists(input_fn)\n",
    "if os.path.exists(input_fn):\n",
    "    input_fn_lr=input_fn\n",
    "    df_fit_lr,dict_linear_fit_lr = routine_measure_annihilation_defect(input_fn,printing=True,**kwargs)\n",
    "    amax_lr=dg_lr['amax'].median()\n",
    "    rmse_lr=dg_lr['rmse'].median()\n",
    "    L = dg_lr['L'].median()\n",
    "    print(f\"\\nbest fit for Luo-Rudy: RMSE: {rmse_lr:.4f} Hz/cm^2, amax: {amax_lr:.4f} cm^2/s, L: {L} cm\")\n",
    "    print(f\"{input_fn_lr=}\")\n",
    "    #record\n",
    "    dict_results_lr=dict(\n",
    "        model_name='Luo-Rudy',\n",
    "        amax=amax_lr,\n",
    "        rmse=rmse_lr,\n",
    "        L=L,\n",
    "        df_fit=df_fit_lr,\n",
    "        dg_fit=dg_lr,\n",
    "        dict_linear_fit=dict_linear_fit_lr,\n",
    "        filename=input_fn_lr,\n",
    "        gmin=gmin_lr)\n",
    "    dict_results_lr_lst.append(dict_results_lr)\n",
    "    gmin_lr_lst.append(gmin_lr)\n",
    "    log_dir_lr_lst.append(input_fn)\n",
    "\n",
    "#print(f\"\\nparameter range supported in run #{run_num}:\")\n",
    "print(f\"number of trials: {df_defects_lr.shape[0]}\")\n",
    "#print(df_defects_lr.describe()[['r','kappa','D','varkappa','amax','L','neighbor']].T[['min','max']].T)"
   ]
  },
  {
   "cell_type": "code",
   "execution_count": 299,
   "id": "a8cca88d",
   "metadata": {
    "ExecuteTime": {
     "end_time": "2023-04-02T00:23:30.723362Z",
     "start_time": "2023-04-02T00:23:30.704919Z"
    }
   },
   "outputs": [
    {
     "data": {
      "text/plain": [
       "(1, 2)"
      ]
     },
     "execution_count": 299,
     "metadata": {},
     "output_type": "execute_result"
    }
   ],
   "source": [
    "len(dict_results_fk_lst),len(dict_results_lr_lst)"
   ]
  },
  {
   "cell_type": "code",
   "execution_count": 300,
   "id": "ddbbc5c1",
   "metadata": {
    "ExecuteTime": {
     "end_time": "2023-04-02T00:23:31.730093Z",
     "start_time": "2023-04-02T00:23:31.127513Z"
    }
   },
   "outputs": [
    {
     "data": {
      "image/png": "[encoded data removed]",
      "text/plain": [
       "<Figure size 400x400 with 1 Axes>"
      ]
     },
     "metadata": {},
     "output_type": "display_data"
    },
    {
     "name": "stdout",
     "output_type": "stream",
     "text": [
      "run_num_lst=[33, 34]\n",
      "neighbor=0\n"
     ]
    }
   ],
   "source": [
    "use_filterby_minN=True\n",
    "minN=10\n",
    "# minN=8\n",
    "# figsize = (6, 4)  #(5,4)\n",
    "figsize = (4, 4)  #(5,4)\n",
    "fontsize=16\n",
    "\n",
    "# x1lim=[0.008, 11]\n",
    "x1lim=[0.08, 11]\n",
    "x2lim=[0.01, 250]\n",
    "\n",
    "\n",
    "fig, ax = plt.subplots(figsize=figsize)\n",
    "ax = plot_death_rates_loglog_full(fk,lr,ax=ax,fontsize=fontsize,x1lim=x1lim, x2lim=x2lim)\n",
    "\n",
    "# Linear Particle (L=5)\n",
    "df_fit_fk = dict_results_fk_lst[0]['df_fit'].copy()\n",
    "dg_fit_fk = dict_results_fk_lst[0]['dg_fit'].copy()\n",
    "df_fit_lr = dict_results_lr_lst[0]['df_fit'].copy()\n",
    "dg_fit_lr = dict_results_lr_lst[0]['dg_fit'].copy()\n",
    "\n",
    "if use_filterby_minN:\n",
    "    df_fit_fk = df_fit_fk[df_fit_fk['N']>=minN].copy()\n",
    "    df_fit_lr = df_fit_lr[df_fit_lr['N']>=minN].copy()\n",
    "\n",
    "df_fit_fk.plot(x='q',y='w',alpha=0.7,ax=ax,color='r',label=r'LPM (A=100 cm$^2$)')#r'Lin. (A=25 cm$^2$)')#f'Lin. Particle (L=5)')\n",
    "df_fit_lr.plot(x='q',y='w',alpha=0.7,ax=ax,color='r',label='_Best Fit to LR')\n",
    "# df_fit_fk.plot(x='q',y='w',alpha=0.7,ax=ax,color='k',label=r'Particle (A=25 cm$^2$)')#f'Lin. Particle (L=5)')\n",
    "# df_fit_fk.plot(x='q',y='w',alpha=0.7,ax=ax,color='k',label=r'Linear Particle (A=25 cm$^2$)')#f'Lin. Particle (L=5)')\n",
    "# df_fit_lr.plot(x='q',y='w',alpha=0.7,ax=ax,color='k',label='_Best Fit to LR')\n",
    "\n",
    "# Linear Particle (L=10)\n",
    "try:\n",
    "    df_fit_fk = dict_results_fk_lst[1]['df_fit'].copy()\n",
    "    dg_fit_fk = dict_results_fk_lst[1]['dg_fit'].copy()\n",
    "    if use_filterby_minN:\n",
    "        df_fit_fk = df_fit_fk[df_fit_fk['N']>=minN].copy()\n",
    "    df_fit_fk.plot(x='q',y='w',alpha=0.7,ax=ax,color='k',label=r'_LPM (A=25 cm$^2$)')#r'Lin (A=100 cm$^2$)')#f'Lin. Particle (L=5)')\n",
    "except IndexError as e:\n",
    "    pass\n",
    "try:\n",
    "    df_fit_lr = dict_results_lr_lst[1]['df_fit'].copy()\n",
    "    dg_fit_lr = dict_results_lr_lst[1]['dg_fit'].copy()\n",
    "    if use_filterby_minN:\n",
    "        df_fit_lr = df_fit_lr[df_fit_lr['N']>=minN].copy()\n",
    "    df_fit_lr.plot(x='q',y='w',alpha=0.7,ax=ax,color='k',label=r'LPM (A=25 cm$^2$)')#r'Lin (A=100 cm$^2$)')#f'Lin. Particle (L=5)')\n",
    "except IndexError as e:\n",
    "    pass\n",
    "# df_fit_fk.plot(x='q',y='w',alpha=0.7,ax=ax,color='r',label=r'LPM (A=100 cm$^2$)')#r'Lin (A=100 cm$^2$)')#f'Lin. Particle (L=5)')\n",
    "# df_fit_lr.plot(x='q',y='w',alpha=0.7,ax=ax,color='r',label='_Best Fit to LR')\n",
    "# df_fit_fk.plot(x='q',y='w',alpha=0.7,ax=ax,color='r',label=r'Linear Particle (A=100 cm$^2$)')#)f'Lin. Particle (L=10)')\n",
    "# # df_fit_fk.plot(x='q',y='w',alpha=0.7,ax=ax,color='r',label=f'Linear Particle (L=10)')#,label='_Best Fit to FK')\n",
    "# # df_fit_fk.plot(x='q',y='w',alpha=0.7,ax=ax,color='r',label=r'Lin. Particle (A=100 cm$^2$)')#)f'Lin. Particle (L=10)')\n",
    "# # df_fit_fk.plot(x='q',y='w',alpha=0.7,ax=ax,color='r',label=r'Particle (A=100 cm$^2$)')#)f'Lin. Particle (L=10)')\n",
    "# df_fit_lr.plot(x='q',y='w',alpha=0.7,ax=ax,color='r',label='_Best Fit to LR')\n",
    "\n",
    "# format_plot\n",
    "ax.tick_params(top=True, right=True,direction='in',which='both')\n",
    "format_plot(ax=ax,xlabel=r'$n$ (1/cm$^2$)',ylabel=r'$w_-$ (Hz/cm$^2$)',fontsize=fontsize,use_loglog=True)\n",
    "# format_plot(ax=ax,xlabel=r'$q$ (1/cm$^2$)',ylabel=r'$w_-$ (Hz/cm$^2$)',fontsize=fontsize,use_loglog=True)\n",
    "# ax.legend(loc='upper left',fontsize=fontsize-2)\n",
    "# ax.legend(loc='lower right',fontsize=fontsize-2.,frameon=False,ncol=2)\n",
    "# leg = ax.legend(loc=(1.04,0.2),fontsize=fontsize-2.,frameon=False)\n",
    "# leg = ax.legend(loc='upper left',fontsize=fontsize-3.,frameon=False,ncol=1)\n",
    "# leg = ax.legend(loc='lower right',fontsize=fontsize-3.,frameon=False,ncol=1)\n",
    "leg = ax.legend(loc='lower right',fontsize=fontsize-4.,frameon=False,ncol=1)\n",
    "for lh in leg.legendHandles: \n",
    "    lh.set_alpha(1)\n",
    "# ax.get_legend().remove()\n",
    "\n",
    "\n",
    "#mark the slope corresponding to the FK model\n",
    "ax.plot(xlst_fk,ylst_fk,':',color='gray')\n",
    "#mark the slope corresponding to the LR model\n",
    "ax.plot(xlst_lr,ylst_lr,':',color='gray')\n",
    "#TOOD(in .odg): annotate slope marker as $nu_-$\n",
    "\n",
    "# x1lim = [8e-3, 1.1]  \n",
    "# x2lim = [1e-2, 25]\n",
    "# ax.set_xlim(x1lim)\n",
    "# ax.set_ylim(x2lim)\n",
    "\n",
    "#add annotation\n",
    "# xytext=(0.09, 10)\n",
    "# xytext=(0.01, 90)\n",
    "# ax.annotate(r\"best fit ($a>0$)\", xy=xy, xytext=xytext,fontsize=fontsize)\n",
    "# .tick_params(labelbottom=False, labeltop=True, labelleft=False, labelright=False,\n",
    "#                      bottom=False, top=True, left=False, right=False)\n",
    "# xytext=(0.01, 40)\n",
    "# xy=(0.3, 11)\n",
    "# ax.annotate(r\"$a_{max}$ = const.\", xy=xy, xytext=(0.01, 40),fontsize=fontsize-2)\n",
    "# ax.annotate(r\"$a_{max}$ fixed to observed\", xy=xy, xytext=(0.01, 40),fontsize=fontsize-2)\n",
    "# ax.annotate(r\"$a_{max}$ fixed to observation\"+f\"\\nfrom MSR of full\", xy=xy, xytext=(0.01, 40),fontsize=fontsize-2)\n",
    "# #add marker showing the slope of ~2\n",
    "# annotation.slope_marker(origin=(.75, 2.0),\n",
    "#                         slope=2,\n",
    "#                         text_kwargs={'color': 'black','fontsize':16, 'alpha':0.7},\n",
    "#                         poly_kwargs={'facecolor': (0.5, 0.5, 0.5), 'alpha':0.5},\n",
    "#                         ax=ax)\n",
    "plt.show()\n",
    "print(f\"{run_num_lst=}\")\n",
    "print(f\"{neighbor=}\")"
   ]
  },
  {
   "cell_type": "code",
   "execution_count": 301,
   "id": "6427bc15",
   "metadata": {
    "ExecuteTime": {
     "end_time": "2023-04-02T00:23:31.773547Z",
     "start_time": "2023-04-02T00:23:31.732468Z"
    }
   },
   "outputs": [
    {
     "name": "stdout",
     "output_type": "stream",
     "text": [
      "annihil_fits_dir='/home/timothytyree/Documents/GitHub/bgmc/python/data/annihil_fits.33.34.csv'\n",
      "              model    amax     L  varkappa       D      r   kappa      rmse  \\\n",
      "5665   Fenton-Karma   1.781  10.0    1.5520  0.1145  0.120  167.02  0.184123   \n",
      "1692       Luo-Rudy  10.147   5.0    9.3154  0.4158  0.195  200.00  1.910054   \n",
      "14481      Luo-Rudy  10.147  10.0    9.3154  0.4158  0.195  200.00  0.151564   \n",
      "\n",
      "       log_likelihood  neighbor        mpe  q_lo  q_hi  CollTime_lo  \\\n",
      "5665        79.507113       0.0   8.761196  0.08  0.98     0.002028   \n",
      "1692        -2.175992       0.0  36.021223  0.32  3.92     0.000200   \n",
      "14481       78.739936       0.0   5.134366  0.08  0.98     0.000661   \n",
      "\n",
      "       CollTime_hi  N_lo   N_hi  run  cluster_index  job_index  \n",
      "5665      0.187993  10.0  100.0   33       24419143      25716  \n",
      "1692      0.011174  10.0  100.0   34       30282466        427  \n",
      "14481     0.035616  10.0  100.0   33       24419143      20423  \n"
     ]
    },
    {
     "data": {
      "text/plain": [
       "'/home/timothytyree/Documents/GitHub/bgmc/python/data/annihil_fitted_values.33.34.csv'"
      ]
     },
     "execution_count": 301,
     "metadata": {},
     "output_type": "execute_result"
    }
   ],
   "source": [
    "dh_lst=[]\n",
    "col_lst=['model','amax','L','varkappa','D','r','kappa',\n",
    "           'rmse','log_likelihood','neighbor','mpe',\n",
    "           'q_lo', 'q_hi','CollTime_lo', 'CollTime_hi','N_lo', 'N_hi',\n",
    "          'run','cluster_index', 'job_index']\n",
    "\n",
    "for dict_results_fk in dict_results_fk_lst:\n",
    "    dg_fit_fk = dict_results_fk['dg_fit']\n",
    "    dh_lst.append(dg_fit_fk[col_lst])\n",
    "    #dg_fit_fk = dict_results_fk['dg_fit']\n",
    "    #dh_lst.append(dg_fit_fk[col_lst])\n",
    "\n",
    "for dict_results_lr in dict_results_lr_lst:\n",
    "    dg_fit_lr = dict_results_lr['dg_fit']\n",
    "    dh_lst.append(dg_fit_lr[col_lst])\n",
    "    #dg_fit_lr = dict_results_lr['dg_fit']\n",
    "    #dh_lst.append(dg_fit_lr[col_lst])\n",
    "df_annihil_fits = pd.concat(dh_lst)\n",
    "# df_annihil_fits.rese`t_index(inplace=True)\n",
    "df_annihil_fits.sort_values(by=['model','L'],inplace=True)\n",
    "# df_annihil_fits\n",
    "# annihil_fits_dir = f'/home/timothytyree/Documents/GitHub/bgmc/python/data/annihil_fits.{run_num_lst[0]}.{run_num_lst[1]}.csv'\n",
    "# annihil_fits_dir = f'/home/timothytyree/Documents/GitHub/bgmc/python/data/annihil_fits.'\n",
    "annihil_fits_dir = f'{nb_dir}/data/annihil_fits.'\n",
    "for run_num in run_num_lst:\n",
    "    annihil_fits_dir += f\"{run_num}.\"\n",
    "annihil_fits_dir+='csv'\n",
    "print(f\"{annihil_fits_dir=}\")\n",
    "#save as .csv and send to WJ right now!\n",
    "# annihil_fits_dir = '/home/timothytyree/Documents/GitHub/bgmc/python/data/annihil_fits.csv'\n",
    "df_annihil_fits.to_csv(annihil_fits_dir,index=False)\n",
    "print(df_annihil_fits)\n",
    "dfk = pd.concat([x['df_fit'][['N','L','CollTime','q','w']] for x in dict_results_fk_lst])\n",
    "dfk['model_name']='Fenton-Karma'\n",
    "dlr = pd.concat([x['df_fit'][['N','L','CollTime','q','w']] for x in dict_results_lr_lst])\n",
    "dlr['model_name']='Luo-Rudy'\n",
    "d=pd.concat([dfk,dlr])\n",
    "directory = annihil_fits_dir.replace('fits','fitted_values')\n",
    "d.reset_index().to_csv(directory)\n",
    "directory"
   ]
  },
  {
   "cell_type": "code",
   "execution_count": null,
   "id": "0cb97e8c",
   "metadata": {},
   "outputs": [],
   "source": []
  },
  {
   "cell_type": "code",
   "execution_count": null,
   "id": "e736a252",
   "metadata": {},
   "outputs": [],
   "source": []
  },
  {
   "cell_type": "code",
   "execution_count": null,
   "id": "f97f0e8b",
   "metadata": {},
   "outputs": [],
   "source": [
    "#TODO: dev next run on L=5\n",
    "#TODO: run it for only the measured a,D values in Table 1\n",
    "#TODO: make it really dense in r,kappa\n",
    "#ranges r longer than 0.1 - 0.5\n",
    "#rates kappa larger than 100 in steps of 5 up to 500 or 1000\n",
    "#TODO: compute both neighbor=0,1"
   ]
  },
  {
   "cell_type": "code",
   "execution_count": null,
   "id": "6f6c083b",
   "metadata": {},
   "outputs": [],
   "source": []
  }
 ],
 "metadata": {
  "hide_input": false,
  "kernelspec": {
   "display_name": "Python 3 (ipykernel)",
   "language": "python",
   "name": "python3"
  },
  "language_info": {
   "codemirror_mode": {
    "name": "ipython",
    "version": 3
   },
   "file_extension": ".py",
   "mimetype": "text/x-python",
   "name": "python",
   "nbconvert_exporter": "python",
   "pygments_lexer": "ipython3",
   "version": "3.9.5"
  },
  "nbTranslate": {
   "displayLangs": [
    "*"
   ],
   "hotkey": "alt-t",
   "langInMainMenu": true,
   "sourceLang": "en",
   "targetLang": "fr",
   "useGoogleTranslate": true
  },
  "toc": {
   "base_numbering": 1,
   "nav_menu": {},
   "number_sections": true,
   "sideBar": true,
   "skip_h1_title": false,
   "title_cell": "Table of Contents",
   "title_sidebar": "Contents",
   "toc_cell": false,
   "toc_position": {},
   "toc_section_display": true,
   "toc_window_display": false
  }
 },
 "nbformat": 4,
 "nbformat_minor": 5
}
