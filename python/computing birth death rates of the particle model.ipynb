{
 "cells": [
  {
   "cell_type": "markdown",
   "id": "1ead1d25",
   "metadata": {},
   "source": [
    "# computing birth death rates of the particle model\n",
    "Tim Tyree<br>\n",
    "6.29.2025"
   ]
  },
  {
   "cell_type": "code",
   "execution_count": 1,
   "id": "8eb07955",
   "metadata": {
    "ExecuteTime": {
     "end_time": "2025-07-10T16:02:57.880882Z",
     "start_time": "2025-07-10T16:02:52.065642Z"
    }
   },
   "outputs": [],
   "source": [
    "from lib.my_initialization import *\n",
    "plt.plot([1]*4)\n",
    "plt.close()\n",
    "#reset matplotlib\n",
    "import matplotlib\n",
    "matplotlib.rcParams.update(matplotlib.rcParamsDefault)"
   ]
  },
  {
   "cell_type": "code",
   "execution_count": 2,
   "id": "27d53445",
   "metadata": {
    "ExecuteTime": {
     "end_time": "2025-07-10T16:02:57.883178Z",
     "start_time": "2025-07-10T16:02:57.881622Z"
    }
   },
   "outputs": [],
   "source": [
    "from io import StringIO"
   ]
  },
  {
   "cell_type": "markdown",
   "id": "27ffa829",
   "metadata": {},
   "source": [
    "# define module"
   ]
  },
  {
   "cell_type": "code",
   "execution_count": 3,
   "id": "ac114124",
   "metadata": {
    "ExecuteTime": {
     "end_time": "2025-07-10T16:02:57.887334Z",
     "start_time": "2025-07-10T16:02:57.884568Z"
    }
   },
   "outputs": [],
   "source": [
    "def extract_transition_times_event2event(df,nold=2,nnew=4,\n",
    "                init_w_dur = False, \n",
    "                dur_col='dur_s',nold_col='nold',nnew_col='nnew',**kwargs):\n",
    "    \"\"\"\n",
    "    Example Usage:\n",
    "dur_lst = extract_transition_times_event2event(df,nold=2,nnew=4, init_w_dur = False)\n",
    "    \"\"\"\n",
    "    boo = (df[nold_col]==nold)&(df[nnew_col]==nnew)\n",
    "    transition_index_values = df[boo].index.values\n",
    "    num_transitions = transition_index_values.shape[0]-1\n",
    "    dur_lst = []\n",
    "    for i in range(num_transitions):\n",
    "        iinit  = transition_index_values[i]\n",
    "        ifinal = transition_index_values[i+1]\n",
    "        dur = df.loc[iinit:ifinal,dur_col].sum()\n",
    "        if not init_w_dur:\n",
    "            dur -= df.loc[iinit,dur_col]\n",
    "        dur_lst.append(dur)\n",
    "    return dur_lst"
   ]
  },
  {
   "cell_type": "code",
   "execution_count": null,
   "id": "54ae3799",
   "metadata": {},
   "outputs": [],
   "source": []
  },
  {
   "cell_type": "markdown",
   "id": "f84d4da3",
   "metadata": {},
   "source": [
    "# dev"
   ]
  },
  {
   "cell_type": "code",
   "execution_count": 4,
   "id": "1a21c833",
   "metadata": {
    "ExecuteTime": {
     "end_time": "2025-07-10T16:02:57.889189Z",
     "start_time": "2025-07-10T16:02:57.887969Z"
    }
   },
   "outputs": [],
   "source": [
    "# save_every_s = 1. #s\n",
    "# # DT = 0.025\n",
    "# save_every = int(save_every_s/DT)\n",
    "# save_every"
   ]
  },
  {
   "cell_type": "code",
   "execution_count": 5,
   "id": "132e37ee",
   "metadata": {
    "ExecuteTime": {
     "end_time": "2025-07-10T16:02:57.928772Z",
     "start_time": "2025-07-10T16:02:57.890305Z"
    }
   },
   "outputs": [],
   "source": [
    "import numpy as np, pandas as pd, os, sys\n",
    "from numba import njit\n",
    "\n",
    "@njit\n",
    "def one_step_particle_fast(N,still_running,x_old,y_old,x_new,y_new,\n",
    "                      L,impulse_prefactor,force_code,no_repulsion,no_attraction,\n",
    "                       Fx_net,Fy_net,epsilon,caught,anticaught,stepscale,A,\n",
    "                           use_creation,zeros,use_pair_create,probreact,x0,\n",
    "                           tiarray,tfarray,varkappa,D,t,exit_code,R_c_bar,\n",
    "                           r,\n",
    "                     ):\n",
    "    \"\"\"\n",
    "    Example Usage:\n",
    "retval = one_step_particle_fast(N,still_running,x_old,y_old,x_new,y_new,\n",
    "                      L,impulse_prefactor,force_code,no_repulsion,no_attraction,\n",
    "                       Fx_net,Fy_net,epsilon,caught,anticaught,stepscale,A,\n",
    "                           use_creation,zeros,use_pair_create,probreact,x0,\n",
    "                           tiarray,tfarray,varkappa,D,t,exit_code,R_c_bar,\n",
    "                           r,\n",
    "                     )\n",
    "still_running,x_old,y_old,x_new,y_new,Fx_net,Fy_net,caught,anticaught,tiarray,tfarray,exit_code = retval\n",
    "    \"\"\"\n",
    "    #######################################################\n",
    "    #sum_each_force_kernel\n",
    "    for i in range(N):\n",
    "        if(still_running[i]):\n",
    "            for j in range(i+1,N):\n",
    "                if(still_running[j]):\n",
    "                    #compute displacement vector with pbc\n",
    "                    dx = subtract_pbc_1d(x_old[j],x_old[i],L);\n",
    "                    dy = subtract_pbc_1d(y_old[j],y_old[i],L);\n",
    "                    dist2=dx*dx+dy*dy;\n",
    "                    if (dist2<1e-8):\n",
    "                        dist2=float(1e-8)\n",
    "                    dist = np.sqrt(dist2)\n",
    "                    #compute displacement due to drift\n",
    "                    impulse_factor=0.\n",
    "                    if (force_code==1):\n",
    "                      #spring\n",
    "                      impulse_factor=impulse_prefactor*(dist-x0)/dist;\n",
    "                    if (force_code==2):\n",
    "                      #QED2: force ~ inverse power law\n",
    "                      impulse_factor=impulse_prefactor/dist2;\n",
    "                    if (force_code==3):\n",
    "                      #QED3: force ~ inverse square power law\n",
    "                      impulse_factor=impulse_prefactor/dist2/dist;\n",
    "                    #set impulse_factor to zero if it is explicitly forbidden by the user input\n",
    "                    if ((no_attraction==1) & (impulse_factor>0)):\n",
    "                        impulse_factor=0.\n",
    "                    if ((no_repulsion==1) & (impulse_factor<0)):\n",
    "                        impulse_factor=0.\n",
    "                    #sum Fx_net, Fy_net according to a symplectic (momentum conserving) integrator\n",
    "                    Fx_net[i]=Fx_net[i]+dx*impulse_factor;\n",
    "                    Fy_net[i]=Fy_net[i]+dy*impulse_factor;\n",
    "                    Fx_net[j]=Fx_net[j]-dx*impulse_factor;\n",
    "                    Fy_net[j]=Fy_net[j]-dy*impulse_factor\n",
    "                    #determine if they are closer than epsilon\n",
    "                    if dist<epsilon:\n",
    "                        #remove if they are\n",
    "                        still_running[i]=False\n",
    "                        still_running[j]=False\n",
    "                        uncatch_set=set()\n",
    "                        if caught[i]>=0:\n",
    "                            uncatch_set.update([caught[i]])\n",
    "                            if caught[caught[i]]>=0:\n",
    "                                uncatch_set.update([caught[caught[i]]])\n",
    "                        if caught[j]>=0:\n",
    "                            uncatch_set.update([caught[j]])\n",
    "                            if caught[caught[j]]>=0:\n",
    "                                uncatch_set.update([caught[caught[j]]])\n",
    "                        if len(uncatch_set)>0:\n",
    "                            for k in uncatch_set:\n",
    "                                caught[k]=-9999\n",
    "    #compute the one_step given the net force, F_net\n",
    "    for i in range(N):\n",
    "        if(still_running[i]):\n",
    "            if caught[i]<0:\n",
    "                dxt=Fx_net[i];\n",
    "                dyt=Fy_net[i];\n",
    "                # compute displacement due to levy flight\n",
    "#                 dxW,dyW = stepscale*levyRandom2D(alpha)\n",
    "#                     dxW = stepscale*normalRandom()\n",
    "#                     dyW = stepscale*normalRandom()\n",
    "                dxW = stepscale*np.random.normal()\n",
    "                dyW = stepscale*np.random.normal()\n",
    "                # next spatial position, time integrating by a duration, Dt. enforce PBC.\n",
    "                x_new[i]=periodic(x_old[i]+dxW+dxt,L);\n",
    "                y_new[i]=periodic(y_old[i]+dyW+dyt,L);\n",
    "            else:\n",
    "                j=caught[i]\n",
    "                ti=tiarray[i]\n",
    "                tf=tfarray[i]\n",
    "                #compute displacement vector with pbc\n",
    "                dx = subtract_pbc_1d(x_old[j],x_old[i],L)\n",
    "                dy = subtract_pbc_1d(y_old[j],y_old[i],L)\n",
    "                xl = dx - (x_old[j]-x_old[i])\n",
    "                yl = dy - (y_old[j]-y_old[i])\n",
    "                #compute average location\n",
    "                xavg = x_old[i] + 0.5*dx\n",
    "                yavg = y_old[i] + 0.5*dy\n",
    "                #compute frac to interpolate by\n",
    "                frac = (t-ti)/(tf-ti)\n",
    "#                     frac = np.min((1.,frac))\n",
    "                frac = min((1.,frac))\n",
    "                x_new[i] = periodic(x_old[i]*(1.-frac) + (xavg+xl)*frac,L)\n",
    "                y_new[i] = periodic(y_old[i]*(1.-frac) + (yavg+yl)*frac,L)\n",
    "    #reaction_kernel\n",
    "    for i in range(N):\n",
    "        if(still_running[i]&(caught[i]<0)&(anticaught[i]<0)):\n",
    "            # // each i,j pair is reached once per call to kernel_measure\n",
    "            for j in range(i+1,N):\n",
    "                if(still_running[j]&(caught[j]<0)&(anticaught[j]<0)):\n",
    "                    # // compute distance between particles that are still running\n",
    "                    dist=dist_pbc(x_new[i],y_new[i],x_new[j],y_new[j],L);\n",
    "                    in_range=dist<r;\n",
    "                    # // in_range=true;//uncomment for smeared method\n",
    "                    # // if two particles are in range\n",
    "                    if(in_range):\n",
    "                        # // determine whether those two particles react via the simple method\n",
    "#                             reacts=probreact>uniformRandom();\n",
    "                        reacts=probreact>np.random.uniform(0,1);\n",
    "                        # // determine whether those two particles react via the smeared method\n",
    "                        # // sig=sigmoid(dist, r, beta);\n",
    "                        # // reacts=probreact*sig>uniformRandom();\n",
    "                        if(reacts):\n",
    "                            exit_code=1;\n",
    "                            T=t;\n",
    "#                             still_running[i]=False;\n",
    "#                             still_running[j]=False;\n",
    "                            #uncatch any previous catches\n",
    "                            if caught[i]>=0: caught[caught[i]]=-9999\n",
    "                            if caught[j]>=0: caught[caught[j]]=-9999\n",
    "                            #catch these two\n",
    "                            caught[i]=j;\n",
    "                            caught[j]=i;\n",
    "                            #determine deltat\n",
    "                            deltat = dist**2/(4*(varkappa+2*D))\n",
    "                            #determine ti,tf\n",
    "                            tiarray[i]=t\n",
    "                            tfarray[i]=t+deltat\n",
    "                            tiarray[j]=t\n",
    "                            tfarray[j]=t+deltat\n",
    "\n",
    "    #determine rate_of_creation from average density\n",
    "    num_particles = np.sum(still_running)\n",
    "    prob_create = dt * Mp * (num_particles / A) ** nup * A\n",
    "    #creation_kernel\n",
    "    if not use_creation:\n",
    "        prob_create=0\n",
    "    if prob_create>np.random.uniform(0,1):\n",
    "        if np.sum(~still_running)>=2:\n",
    "            #select the first two particles that are removed\n",
    "            igone=np.argwhere(~still_running)\n",
    "            #reset/set their internal state\n",
    "            caught[igone[0]]=-9999\n",
    "            caught[igone[1]]=-9999\n",
    "            anticaught[igone[0]]=igone[1]\n",
    "            anticaught[igone[1]]=igone[0]\n",
    "            tfarray[igone[0]]=t+creation_duration\n",
    "            tfarray[igone[1]]=t+creation_duration\n",
    "\n",
    "#                 #set their positions to 2 uniformly distributed positions\n",
    "#                 x_new[igone[0]]=np.random.uniform(0,1)*L\n",
    "#                 x_new[igone[1]]=np.random.uniform(0,1)*L\n",
    "#                 y_new[igone[0]]=np.random.uniform(0,1)*L\n",
    "#                 y_new[igone[1]]=np.random.uniform(0,1)*L\n",
    "\n",
    "            #check if new particle is within distance R_c_bar from any other particles\n",
    "            for ihere in igone[:2]:\n",
    "                xg,yg=seed_new_particle(x_new,y_new,still_running,L,R_c_bar,max_num_retries=1000)\n",
    "                x_new[ihere]=xg\n",
    "                y_new[ihere]=yg\n",
    "                still_running[ihere]=True\n",
    "\n",
    "            #optionally set their positions to average a random location\n",
    "            if use_pair_create:\n",
    "#                     #optionally set their positions be a fixed distance to nearest tip\n",
    "#                     if use_set_created_from_existing:\n",
    "#                         #place a pair of particles uniformly on the circle of radius R_c_bar from a random particle\n",
    "#                         xg,yg=gener_random_creation_position(x_new,y_new,still_running,R_c_bar,L)\n",
    "#                         x_new[igone[0]] = xg\n",
    "#                         y_new[igone[0]] = yg\n",
    "                theta=2*np.pi*np.random.uniform(0,1)\n",
    "                #heretim\n",
    "                x_new[igone[1]]=x_new[igone[0]] + 2.*r0*np.cos(theta)\n",
    "                y_new[igone[1]]=y_new[igone[0]] + 2.*r0*np.sin(theta)\n",
    "\n",
    "\n",
    "    # reset the net forces\n",
    "    Fx_net=zeros.copy()\n",
    "    Fy_net=zeros.copy()\n",
    "    #creation_force_kernel\n",
    "    if use_pair_create:\n",
    "        for i in range(N):\n",
    "            if(still_running[i]&(anticaught[i]>=0)):\n",
    "                j = anticaught[i]\n",
    "                if still_running[j]:\n",
    "                    #compute displacement vector with pbc\n",
    "                    dx = subtract_pbc_1d(x_old[j],x_old[i],L);\n",
    "                    dy = subtract_pbc_1d(y_old[j],y_old[i],L);\n",
    "                    dist2=dx*dx+dy*dy;\n",
    "                    if (dist2<1e-8):\n",
    "                        dist2=float(1e-8)\n",
    "                    dist = np.sqrt(dist2)\n",
    "                    #compute displacement due to drift\n",
    "                    impulse_factor=0.\n",
    "                    if (force_code==1):\n",
    "                      #spring\n",
    "                      impulse_factor=impulse_prefactor*(dist-x0)/dist;\n",
    "                    if (force_code==2):\n",
    "                      #QED2: force ~ inverse power law\n",
    "                      impulse_factor=impulse_prefactor/dist2;\n",
    "                    if (force_code==3):\n",
    "                      #QED3: force ~ inverse square power law\n",
    "                      impulse_factor=impulse_prefactor/dist2/dist;\n",
    "                    #set impulse_factor to zero if it is explicitly forbidden by the user input\n",
    "                    if ((no_attraction==1) & (impulse_factor<0)):\n",
    "                        impulse_factor=0.\n",
    "                    if ((no_repulsion==1) & (impulse_factor>0)):\n",
    "                        impulse_factor=0.\n",
    "                    #account for double counting and then scale\n",
    "                    impulse_factor*=0.5*chi\n",
    "                    #sum Fx_net, Fy_net according to a symplectic (momentum conserving) integrator\n",
    "                    Fx_net[i]=Fx_net[i]-dx*impulse_factor;\n",
    "                    Fy_net[i]=Fy_net[i]-dy*impulse_factor;\n",
    "                    Fx_net[j]=Fx_net[j]+dx*impulse_factor;\n",
    "                    Fy_net[j]=Fy_net[j]+dy*impulse_factor\n",
    "\n",
    "    #turn off creation array\n",
    "    for i in range(N):\n",
    "        if still_running[i] and anticaught[i]>=0:\n",
    "            if t>tfarray[i]:\n",
    "                anticaught[i]=-9999\n",
    "    #############################################################\n",
    "#     return None\n",
    "    return still_running,x_old,y_old,x_new,y_new,Fx_net,Fy_net,caught,anticaught,tiarray,tfarray,exit_code\n",
    "\n",
    "# @njit\n",
    "def format_particles(frameno,t,x_values,y_values,pid_values,round_t_to_n_decimals=5,tscale=1000):\n",
    "    '''tscale scales from seconds to milliseconds.\n",
    "    round_t_to_n_decimals=5 corrects arithmatic error, minimizes output memory requirements, and matches Dt=dt=1e-5 seconds\n",
    "    '''\n",
    "    n_tips = x_values.shape[0]\n",
    "    dict_out = {\n",
    "        'frame':frameno,\n",
    "        't': np.around(t,round_t_to_n_decimals)*tscale,\n",
    "        'n': n_tips,\n",
    "        'x': x_values,\n",
    "        'y': y_values,\n",
    "        'pid_explicit':pid_values}\n",
    "    return dict_out\n",
    "\n",
    "import numpy as np, pandas as pd, os, sys\n",
    "# from numba import njit\n",
    "\n",
    "@njit\n",
    "def sqdiff(x1, x2):\n",
    "    return pow((x1-x2),2)\n",
    "\n",
    "@njit\n",
    "def min3(num1, num2, num3):\n",
    "    if (num1 > num2 ):\n",
    "        mn=num2\n",
    "    else:\n",
    "        mn=num1\n",
    "    if (mn>num3):\n",
    "        mn=num3\n",
    "    return mn\n",
    "\n",
    "@njit\n",
    "def dist_pbc(x1, y1, x2, y2, L):\n",
    "    # returns the smallest dist of each possible pbc combination\n",
    "    xsq1 = sqdiff(x1,x2)\n",
    "    xsq2 = sqdiff(x1,x2+L)\n",
    "    xsq3 = sqdiff(x1,x2-L)\n",
    "    ysq1 = sqdiff(y1,y2)\n",
    "    ysq2 = sqdiff(y1,y2+L)\n",
    "    ysq3 = sqdiff(y1,y2-L)\n",
    "    xsq  = min3(xsq1,xsq2,xsq3)\n",
    "    ysq  = min3(ysq1,ysq2,ysq3)\n",
    "    return np.sqrt(xsq+ysq)\n",
    "\n",
    "@njit\n",
    "def subtract_pbc_1d(x1, x2, L):\n",
    "    # returns the smallest dist of each possible pbc combination\n",
    "    dx = x1-x2\n",
    "    dx1 = x1-x2+L\n",
    "    dx2 = x1-x2-L\n",
    "    if (abs(dx1)<abs(dx)):\n",
    "        dx=dx1;\n",
    "    else:\n",
    "        if (abs(dx2)<abs(dx)):\n",
    "            dx=dx2\n",
    "    return dx\n",
    "\n",
    "@njit\n",
    "def reflection(X, L):\n",
    "    return L-abs(L-abs(X % 2.*L))\n",
    "@njit\n",
    "def periodic(X, L):\n",
    "    x=X % L\n",
    "    if (x<0.):\n",
    "        return x+L\n",
    "    return x\n",
    "\n",
    "@njit\n",
    "def seed_new_particle(x_new,y_new,still_running,L,R_c_bar,max_num_retries=100):\n",
    "    \"\"\"\n",
    "    Example Usage:\n",
    "xg,yg=seed_new_particle(x_new,y_new,still_running,L,R_c_bar,max_num_retries=100)\n",
    "    \"\"\"\n",
    "    xg=np.random.uniform(0,1)*L\n",
    "    yg=np.random.uniform(0,1)*L\n",
    "    mindist=2.*L\n",
    "    for j in np.argwhere(still_running).flatten():\n",
    "        dist=dist_pbc(xg,yg,x_new[j],y_new[j],L);\n",
    "        if dist<mindist:\n",
    "            mindist=dist\n",
    "    #while new particle is within distance R_c_bar from any other particle\n",
    "    num=0\n",
    "    while (mindist<R_c_bar) and (num<max_num_retries):\n",
    "        num+=1\n",
    "        xg=np.random.uniform(0,1)*L\n",
    "        yg=np.random.uniform(0,1)*L\n",
    "        mindist=2.*L\n",
    "        for j in np.argwhere(still_running).flatten():\n",
    "            dist=dist_pbc(xg,yg,x_new[j],y_new[j],L);\n",
    "            if dist<mindist:\n",
    "                mindist=dist\n",
    "    return xg,yg\n",
    "\n",
    "@njit\n",
    "def set_seed(seed_value):\n",
    "    np.random.seed(seed_value)\n",
    "\n",
    "\n",
    "# @njit(debug=True)\n",
    "# @njit\n",
    "def gener_termination_time_log_fast_N_series(seed,Ninitial=2,Nfinal=0,\n",
    "                            chi=2.08,\n",
    "                            R_c_bar=0.6667, #cm\n",
    "                            kappa=75, #Hz\n",
    "                            r=0.314, #cm\n",
    "                            varkappa=9.3, #cm^2/s\n",
    "                            D=0.42, #cm^2/s\n",
    "                            Mp = 3.28, #+/- 0.10 Hz/cm^2;\n",
    "                            nup = 0.715, #+/- 0.010\n",
    "                            r0=0.202,\n",
    "                            L=5,\n",
    "                            creation_duration = 0.1, #s 0.0025, # 0.001 #s  #\n",
    "                            Dt=1e-5,dt=1e-5,\n",
    "                            no_repulsion=0,no_attraction=0,\n",
    "#                             save_every=5,\n",
    "                            save_every=int(1e-3/1e-5),\n",
    "                            tmax=6000, #s\n",
    "                            # tmax=60, #s\n",
    "#                             tmax=0.1, #s\n",
    "                            epsilon=5e-2,  #reactions happen immediately at this range\n",
    "                            x0=5,  #skipping reflect,set_second, and neighbor functionality\n",
    "                            N=15, #max number of particles\n",
    "                            force_code=2,\n",
    "                            dist_cutoff=1e-2,\n",
    "                            use_creation=True,\n",
    "                            use_pair_create=True,\n",
    "                            use_set_created_from_existing=True,\n",
    "#                             use_uniform_ic=False,\n",
    "#                             show_movie=False,#True,\n",
    "# #                             recording_locations=False,#True,\n",
    "                            recording_locations=True,\n",
    "#                             recording_snapshots=False,#True,\n",
    "                            printing=False,\n",
    "                          **kwargs):\n",
    "    \"\"\"\n",
    "    src: http://localhost:8889/notebooks/implementing%20creation%20events.ipynb\n",
    "    modified to produce particle number distributions.\n",
    "    Example Usage:\n",
    "t,exit_code,N_list = gener_termination_time_log_fast_N_series(seed,Ninitial=2,Nfinal=0,\n",
    "                            chi=chi,kappa=kappa, #Hz\n",
    "                            r=r, #cm\n",
    "                            varkappa=varkappa, #cm^2/s\n",
    "                            D=D, #cm^2/s\n",
    "                            Mp = Mp, # Hz/cm^2;\n",
    "                            nup = nup,L=L,creation_duration = creation_duration, # 0.001 #s  # 0.1 #s\n",
    "                            Dt=Dt,dt=dt,use_creation=True,use_pair_create=True,use_set_created_from_existing=True)\n",
    "print(f\"termination time: {t}\")\n",
    "    \"\"\"\n",
    "#     r0=r\n",
    "#     r0=6e-2\n",
    "#     tmax=500 #s\n",
    "#     tmax=60 #s\n",
    "#     epsilon=5e-2  #reactions happen immediately at this range\n",
    "#     x0=5\n",
    "#     #skipping reflect,set_second, and neighbor functionality\n",
    "#     N=150 #max number of particles\n",
    "    np.random.seed(seed)\n",
    "    set_seed(seed)\n",
    "    x_values=np.random.uniform(0,1,size=N)*L\n",
    "    y_values=np.random.uniform(0,1,size=N)*L\n",
    "    pid_array = np.arange(N)\n",
    "    t=0\n",
    "\n",
    "#     if use_uniform_ic:\n",
    "#         Nrow=4\n",
    "#     #     Nrow=10\n",
    "#         #explicitely uniform ic.\n",
    "#         uvals=np.linspace(0,L*Nrow/(Nrow+1),Nrow)\n",
    "#         x_values,y_values=np.meshgrid(uvals,uvals)\n",
    "#         x_values=x_values.flatten()+L/(2*(Nrow+1))\n",
    "#         y_values=y_values.flatten()+L/(2*(Nrow+1))\n",
    "#         #explicitely enter ^these values in my c simulation and run it\n",
    "#         N = x_values.shape[0]\n",
    "\n",
    "#     #return a scatter plot that may be saved as png\n",
    "#     if show_movie:\n",
    "#         annotating=True\n",
    "#         message='initial positions'\n",
    "#         fig=ScatterPlotSnapshot(x_values,y_values,t,width=L,height=L,\n",
    "#                                 annotating=annotating,message=message,inch=6)\n",
    "#         plt.show()\n",
    "\n",
    "#     if show_movie:\n",
    "#         #for snapshot output\n",
    "#         save_folder=f\"{nb_dir}/Figures/mov\"\n",
    "#         if os.path.exists(save_folder):\n",
    "#             #cleanse the old snapshot folder\n",
    "#             shutil.rmtree(save_folder)\n",
    "#         os.mkdir(save_folder)\n",
    "#         annotating=True\n",
    "    frameno=1\n",
    "#     save_fn=None\n",
    "#     inch=6\n",
    "#     # message='without forces'\n",
    "#     # force_code=0\n",
    "#     # varkappa=0\n",
    "#     # message='with anti-spring forces'\n",
    "#     # force_code=1\n",
    "#     # varkappa=-5\n",
    "# #     message='with particle creation'\n",
    "#     force_code=2\n",
    "#     dist_cutoff=1e-2\n",
    "\n",
    "#     # varkappa=1.552\n",
    "#     # message=f'with {alpha=}'\n",
    "#     message=' '\n",
    "    stepscale=np.sqrt(2*D*Dt) #diffusive\n",
    "    # stepscale=(2*D*Dt)**(1/alpha)\n",
    "    probreact=kappa*dt\n",
    "    A = L**2\n",
    "    T_net=0;count_net=0\n",
    "    # iter_per_movestep = round(Dt/dt)\n",
    "    impulse_prefactor= varkappa * Dt\n",
    "    tiarray=np.zeros(N)\n",
    "    tfarray=np.zeros(N)\n",
    "    step=0\n",
    "    if printing:\n",
    "        print(\"running simulation...\");\n",
    "    t=-Dt\n",
    "    # still_running=True;\n",
    "    exit_code=-1;T=-9999.\n",
    "    #initialize positions\n",
    "    # #uniform random ic\n",
    "    # x_values=rs.uniform(size=N)*L\n",
    "    # y_values=rs.uniform(size=N)*L\n",
    "    # #explicitely uniform ic\n",
    "    # uvals=np.linspace(0,L,5)\n",
    "    # x_values,y_values=np.meshgrid(uvals,uvals)\n",
    "    # x_values=x_values.flatten()\n",
    "    # y_values=y_values.flatten()\n",
    "\n",
    "    #lower case: world coordinates\n",
    "    #upper case: material coordinates\n",
    "#     x=x_values.copy()\n",
    "#     y=y_values.copy()\n",
    "    x_old=x_values.copy()\n",
    "    y_old=y_values.copy()\n",
    "    x_new=x_values.copy()\n",
    "    y_new=y_values.copy()\n",
    "#     X=x_values.copy()\n",
    "#     Y=y_values.copy()\n",
    "#     X_old=x_values.copy()\n",
    "#     Y_old=y_values.copy()\n",
    "#     X_new=x_values.copy()\n",
    "#     Y_new=y_values.copy()\n",
    "\n",
    "\n",
    "\n",
    "\n",
    "    zeros=np.zeros_like(x_values)\n",
    "    zerosint=zeros.astype('int').copy()\n",
    "    # still_running=zerosint==zerosint\n",
    "    still_running=(zerosint!=zerosint).copy()\n",
    "#     still_running[:Ninitial]=True  #initialize first Ninitial particles to still be running\n",
    "    caught=zerosint.copy()-9999#!=zerosint\n",
    "    anticaught=zerosint.copy()-9999#!=zerosint\n",
    "\n",
    "    #create the initial particles\n",
    "    for i in range(Ninitial):\n",
    "        xg,yg=seed_new_particle(x_new,y_new,still_running,L,R_c_bar,max_num_retries=100)\n",
    "        x_new[i]=xg\n",
    "        y_new[i]=yg\n",
    "        still_running[i]=True\n",
    "\n",
    "    num_running = 0\n",
    "    for i in range(N):\n",
    "        if still_running[i]:\n",
    "            num_running+=1\n",
    "    # //start set_second kernel\n",
    "    # //end set_second kernel\n",
    "    #make still_running into still_running_values\n",
    "#     dict_out_lst=[]\n",
    "    # reset the net forces\n",
    "    Fx_net=zeros.copy()\n",
    "    Fy_net=zeros.copy()\n",
    "    # while(still_running.any()):\n",
    "#     while(still_running.sum()>Nfinal):\n",
    "#     while(sum(still_running)>Nfinal):\n",
    "    N_list = []\n",
    "    while(num_running>Nfinal):\n",
    "        # //reinitialize_kernel, which copies X,Y_new to X,Y_old\n",
    "        min_dist_old=zeros+9999999\n",
    "        i_neighbor=zerosint-1\n",
    "        x_old=x_new#.copy()\n",
    "        y_old=y_new#.copy()\n",
    "        t=t+Dt;\n",
    "#         np.random.seed(seed) # didn't make it deterministic\n",
    "\n",
    "        retval = one_step_particle_fast(N,still_running,x_old,y_old,x_new,y_new,\n",
    "                              L,impulse_prefactor,force_code,no_repulsion,no_attraction,\n",
    "                               Fx_net,Fy_net,epsilon,caught,anticaught,stepscale,A,\n",
    "                                   use_creation,zeros,use_pair_create,probreact,x0,\n",
    "                                   tiarray,tfarray,varkappa,D,t,exit_code,R_c_bar,\n",
    "                                   r,\n",
    "                             )\n",
    "        still_running,x_old,y_old,x_new,y_new,Fx_net,Fy_net,caught,anticaught,tiarray,tfarray,exit_code = retval\n",
    "\n",
    "        #heretimheretim\n",
    "\n",
    "#         #######################################################\n",
    "#         #sum_each_force_kernel\n",
    "#         for i in range(N):\n",
    "#             if(still_running[i]):\n",
    "#                 for j in range(i+1,N):\n",
    "#                     if(still_running[j]):\n",
    "#                         #compute displacement vector with pbc\n",
    "#                         dx = subtract_pbc_1d(x_old[j],x_old[i],L);\n",
    "#                         dy = subtract_pbc_1d(y_old[j],y_old[i],L);\n",
    "#                         dist2=dx*dx+dy*dy;\n",
    "#                         if (dist2<1e-8):\n",
    "#                             dist2=float(1e-8)\n",
    "#                         dist = np.sqrt(dist2)\n",
    "#                         #compute displacement due to drift\n",
    "#                         impulse_factor=0.\n",
    "#                         if (force_code==1):\n",
    "#                           #spring\n",
    "#                           impulse_factor=impulse_prefactor*(dist-x0)/dist;\n",
    "#                         if (force_code==2):\n",
    "#                           #QED2: force ~ inverse power law\n",
    "#                           impulse_factor=impulse_prefactor/dist2;\n",
    "#                         if (force_code==3):\n",
    "#                           #QED3: force ~ inverse square power law\n",
    "#                           impulse_factor=impulse_prefactor/dist2/dist;\n",
    "#                         #set impulse_factor to zero if it is explicitly forbidden by the user input\n",
    "#                         if ((no_attraction==1) & (impulse_factor>0)):\n",
    "#                             impulse_factor=0.\n",
    "#                         if ((no_repulsion==1) & (impulse_factor<0)):\n",
    "#                             impulse_factor=0.\n",
    "#                         #sum Fx_net, Fy_net according to a symplectic (momentum conserving) integrator\n",
    "#                         Fx_net[i]=Fx_net[i]+dx*impulse_factor;\n",
    "#                         Fy_net[i]=Fy_net[i]+dy*impulse_factor;\n",
    "#                         Fx_net[j]=Fx_net[j]-dx*impulse_factor;\n",
    "#                         Fy_net[j]=Fy_net[j]-dy*impulse_factor\n",
    "#                         #determine if they are closer than epsilon\n",
    "#                         if dist<epsilon:\n",
    "#                             #remove if they are\n",
    "#                             still_running[i]=False\n",
    "#                             still_running[j]=False\n",
    "#                             uncatch_set=set()\n",
    "#                             if caught[i]>=0:\n",
    "#                                 uncatch_set.update([caught[i]])\n",
    "#                                 if caught[caught[i]]>=0:\n",
    "#                                     uncatch_set.update([caught[caught[i]]])\n",
    "#                             if caught[j]>=0:\n",
    "#                                 uncatch_set.update([caught[j]])\n",
    "#                                 if caught[caught[j]]>=0:\n",
    "#                                     uncatch_set.update([caught[caught[j]]])\n",
    "#                             if len(uncatch_set)>0:\n",
    "#                                 for k in uncatch_set:\n",
    "#                                     caught[k]=-9999\n",
    "#         #compute the one_step given the net force, F_net\n",
    "#         for i in range(N):\n",
    "#             if(still_running[i]):\n",
    "#                 if caught[i]<0:\n",
    "#                     dxt=Fx_net[i];\n",
    "#                     dyt=Fy_net[i];\n",
    "#                     # compute displacement due to levy flight\n",
    "#     #                 dxW,dyW = stepscale*levyRandom2D(alpha)\n",
    "#     #                     dxW = stepscale*normalRandom()\n",
    "#     #                     dyW = stepscale*normalRandom()\n",
    "#                     dxW = stepscale*np.random.normal()\n",
    "#                     dyW = stepscale*np.random.normal()\n",
    "#                     # next spatial position, time integrating by a duration, Dt. enforce PBC.\n",
    "#                     x_new[i]=periodic(x_old[i]+dxW+dxt,L);\n",
    "#                     y_new[i]=periodic(y_old[i]+dyW+dyt,L);\n",
    "#                 else:\n",
    "#                     j=caught[i]\n",
    "#                     ti=tiarray[i]\n",
    "#                     tf=tfarray[i]\n",
    "#                     #compute displacement vector with pbc\n",
    "#                     dx = subtract_pbc_1d(x_old[j],x_old[i],L)\n",
    "#                     dy = subtract_pbc_1d(y_old[j],y_old[i],L)\n",
    "#                     xl = dx - (x_old[j]-x_old[i])\n",
    "#                     yl = dy - (y_old[j]-y_old[i])\n",
    "#                     #compute average location\n",
    "#                     xavg = x_old[i] + 0.5*dx\n",
    "#                     yavg = y_old[i] + 0.5*dy\n",
    "#                     #compute frac to interpolate by\n",
    "#                     frac = (t-ti)/(tf-ti)\n",
    "#     #                     frac = np.min((1.,frac))\n",
    "#                     frac = min((1.,frac))\n",
    "#                     x_new[i] = periodic(x_old[i]*(1.-frac) + (xavg+xl)*frac,L)\n",
    "#                     y_new[i] = periodic(y_old[i]*(1.-frac) + (yavg+yl)*frac,L)\n",
    "#         #reaction_kernel\n",
    "#         for i in range(N):\n",
    "#             if(still_running[i]&(caught[i]<0)&(anticaught[i]<0)):\n",
    "#                 # // each i,j pair is reached once per call to kernel_measure\n",
    "#                 for j in range(i+1,N):\n",
    "#                     if(still_running[j]&(caught[j]<0)&(anticaught[j]<0)):\n",
    "#                         # // compute distance between particles that are still running\n",
    "#                         dist=dist_pbc(x_new[i],y_new[i],x_new[j],y_new[j],L);\n",
    "#                         in_range=dist<r;\n",
    "#                         # // in_range=true;//uncomment for smeared method\n",
    "#                         # // if two particles are in range\n",
    "#                         if(in_range):\n",
    "#                             # // determine whether those two particles react via the simple method\n",
    "#     #                             reacts=probreact>uniformRandom();\n",
    "#                             reacts=probreact>np.random.uniform(0,1);\n",
    "#                             # // determine whether those two particles react via the smeared method\n",
    "#                             # // sig=sigmoid(dist, r, beta);\n",
    "#                             # // reacts=probreact*sig>uniformRandom();\n",
    "#                             if(reacts):\n",
    "#                                 exit_code=1;\n",
    "#                                 T=t;\n",
    "#     #                             still_running[i]=False;\n",
    "#     #                             still_running[j]=False;\n",
    "#                                 #uncatch any previous catches\n",
    "#                                 if caught[i]>=0: caught[caught[i]]=-9999\n",
    "#                                 if caught[j]>=0: caught[caught[j]]=-9999\n",
    "#                                 #catch these two\n",
    "#                                 caught[i]=j;\n",
    "#                                 caught[j]=i;\n",
    "#                                 #determine deltat\n",
    "#                                 deltat = dist**2/(4*(varkappa+2*D))\n",
    "#                                 #determine ti,tf\n",
    "#                                 tiarray[i]=t\n",
    "#                                 tfarray[i]=t+deltat\n",
    "#                                 tiarray[j]=t\n",
    "#                                 tfarray[j]=t+deltat\n",
    "\n",
    "#         #determine rate_of_creation from average density\n",
    "#         num_particles = np.sum(still_running)\n",
    "#         prob_create = dt * Mp * (num_particles / A) ** nup * A\n",
    "#         #creation_kernel\n",
    "#         if not use_creation:\n",
    "#             prob_create=0\n",
    "#         if prob_create>np.random.uniform(0,1):\n",
    "#             if np.sum(~still_running)>=2:\n",
    "#                 #select the first two particles that are removed\n",
    "#                 igone=np.argwhere(~still_running)\n",
    "#                 #reset/set their internal state\n",
    "#                 caught[igone[0]]=-9999\n",
    "#                 caught[igone[1]]=-9999\n",
    "#                 anticaught[igone[0]]=igone[1]\n",
    "#                 anticaught[igone[1]]=igone[0]\n",
    "#                 tfarray[igone[0]]=t+creation_duration\n",
    "#                 tfarray[igone[1]]=t+creation_duration\n",
    "\n",
    "#     #                 #set their positions to 2 uniformly distributed positions\n",
    "#     #                 x_new[igone[0]]=np.random.uniform(0,1)*L\n",
    "#     #                 x_new[igone[1]]=np.random.uniform(0,1)*L\n",
    "#     #                 y_new[igone[0]]=np.random.uniform(0,1)*L\n",
    "#     #                 y_new[igone[1]]=np.random.uniform(0,1)*L\n",
    "\n",
    "#                 #check if new particle is within distance R_c_bar from any other particles\n",
    "#                 for ihere in igone[:2]:\n",
    "#                     xg,yg=seed_new_particle(x_new,y_new,still_running,L,R_c_bar,max_num_retries=1000)\n",
    "#                     x_new[ihere]=xg\n",
    "#                     y_new[ihere]=yg\n",
    "#                     still_running[ihere]=True\n",
    "\n",
    "#                 #optionally set their positions to average a random location\n",
    "#                 if use_pair_create:\n",
    "#     #                     #optionally set their positions be a fixed distance to nearest tip\n",
    "#     #                     if use_set_created_from_existing:\n",
    "#     #                         #place a pair of particles uniformly on the circle of radius R_c_bar from a random particle\n",
    "#     #                         xg,yg=gener_random_creation_position(x_new,y_new,still_running,R_c_bar,L)\n",
    "#     #                         x_new[igone[0]] = xg\n",
    "#     #                         y_new[igone[0]] = yg\n",
    "#                     theta=2*np.pi*np.random.uniform(0,1)\n",
    "#                     #heretim\n",
    "#                     x_new[igone[1]]=x_new[igone[0]] + 2.*r0*np.cos(theta)\n",
    "#                     y_new[igone[1]]=y_new[igone[0]] + 2.*r0*np.sin(theta)\n",
    "\n",
    "\n",
    "#         # reset the net forces\n",
    "#         Fx_net=zeros.copy()\n",
    "#         Fy_net=zeros.copy()\n",
    "#         #creation_force_kernel\n",
    "#         if use_pair_create:\n",
    "#             for i in range(N):\n",
    "#                 if(still_running[i]&(anticaught[i]>=0)):\n",
    "#                     j = anticaught[i]\n",
    "#                     if still_running[j]:\n",
    "#                         #compute displacement vector with pbc\n",
    "#                         dx = subtract_pbc_1d(x_old[j],x_old[i],L);\n",
    "#                         dy = subtract_pbc_1d(y_old[j],y_old[i],L);\n",
    "#                         dist2=dx*dx+dy*dy;\n",
    "#                         if (dist2<1e-8):\n",
    "#                             dist2=float(1e-8)\n",
    "#                         dist = np.sqrt(dist2)\n",
    "#                         #compute displacement due to drift\n",
    "#                         impulse_factor=0.\n",
    "#                         if (force_code==1):\n",
    "#                           #spring\n",
    "#                           impulse_factor=impulse_prefactor*(dist-x0)/dist;\n",
    "#                         if (force_code==2):\n",
    "#                           #QED2: force ~ inverse power law\n",
    "#                           impulse_factor=impulse_prefactor/dist2;\n",
    "#                         if (force_code==3):\n",
    "#                           #QED3: force ~ inverse square power law\n",
    "#                           impulse_factor=impulse_prefactor/dist2/dist;\n",
    "#                         #set impulse_factor to zero if it is explicitly forbidden by the user input\n",
    "#                         if ((no_attraction==1) & (impulse_factor<0)):\n",
    "#                             impulse_factor=0.\n",
    "#                         if ((no_repulsion==1) & (impulse_factor>0)):\n",
    "#                             impulse_factor=0.\n",
    "#                         #account for double counting and then scale\n",
    "#                         impulse_factor*=0.5*chi\n",
    "#                         #sum Fx_net, Fy_net according to a symplectic (momentum conserving) integrator\n",
    "#                         Fx_net[i]=Fx_net[i]-dx*impulse_factor;\n",
    "#                         Fy_net[i]=Fy_net[i]-dy*impulse_factor;\n",
    "#                         Fx_net[j]=Fx_net[j]+dx*impulse_factor;\n",
    "#                         Fy_net[j]=Fy_net[j]+dy*impulse_factor\n",
    "\n",
    "#         #turn off creation array\n",
    "#         for i in range(N):\n",
    "#             if still_running[i] and anticaught[i]>=0:\n",
    "#                 if t>tfarray[i]:\n",
    "#                     anticaught[i]=-9999\n",
    "#         #############################################################\n",
    "\n",
    "#         if show_movie:\n",
    "        if True:\n",
    "            if step%save_every==0:\n",
    "                x_plot=x_new[still_running]\n",
    "                y_plot=y_new[still_running]\n",
    "                N_list.append(sum(still_running))\n",
    "# # #                 n_plot = sum(still_running)\n",
    "# #                 c_plot = np.array(['gray']*y_plot.shape[0])\n",
    "# #                 caugh=caught[still_running]\n",
    "# #                 for i in range(y_plot.shape[0]):\n",
    "# #                     if caugh[i]>=0:\n",
    "# #                         c_plot[i]='r'\n",
    "# #                 acaugh=anticaught[still_running]\n",
    "# #                 for i in range(y_plot.shape[0]):\n",
    "# #                     if acaugh[i]>=0:\n",
    "# #                         c_plot[i]='g'\n",
    "\n",
    "# #                 if recording_snapshots:\n",
    "# #                     #save result as png\n",
    "# #                     SaveScatterPlotSnapshot(x_plot,y_plot,t,\n",
    "# #                                             c=c_plot,\n",
    "# #                                             width=L,height=L,\n",
    "# #                                     frameno=frameno,save_folder=save_folder,\n",
    "# #                                     annotating=annotating,message=message)\n",
    "# #         #             print(f\"- saved pic at {frameno=}\")\n",
    "#                 if (recording_locations)&(x_plot.shape[0]>0):\n",
    "# #                     pid_values = np.arange(x_values.shape[0])[still_running]\n",
    "#                     pid_values = pid_array[still_running]\n",
    "#                     #append particle locations to log, dict_out_lst\n",
    "# #                     dict_out=format_particles(frameno,t,x_plot,y_plot,pid_values=pid_values)\n",
    "#                     dict_out = dict(frameno=frameno,t=t,\n",
    "#                                     x_plot=x_plot,\n",
    "#                                     y_plot=y_plot,\n",
    "#                                     pid_values=pid_values,\n",
    "#                                     tfarray_plot = tfarray[still_running]\n",
    "#                                    )\n",
    "#                     dict_out_lst.append(dict_out)\n",
    "# #                     dict_out_lst.append(pid_values)\n",
    "\n",
    "                frameno+=1\n",
    "\n",
    "        #shut simulation down if it's taking too long...\n",
    "        if (t>tmax):\n",
    "            for i in range(N):\n",
    "                still_running[i]=False;\n",
    "                exit_code=-99;\n",
    "        num_running = 0\n",
    "        for i in range(N):\n",
    "            if still_running[i]:\n",
    "                num_running+=1\n",
    "        step+=1\n",
    "        #end while running\n",
    "    return t,exit_code,N_list\n",
    "#     return t,dict_out_lst,exit_code,num_running\n",
    "\n",
    "#     #record this trial\n",
    "#     if (exit_code>0):\n",
    "#         if (T>0.):\n",
    "#             T_net=T_net+T;\n",
    "#             count_net=count_net+1;\n",
    "\n",
    "#     if printing:\n",
    "#         print(f\"simulation complete!\")\n",
    "#         beep(1)\n",
    "\n",
    "#     if recording_locations:\n",
    "#         #for csv output\n",
    "#         data_folder=f\"{nb_dir}/data/local_results/creation_test_paired\"\n",
    "#         if not os.path.exists(data_folder):\n",
    "#             os.mkdir(data_folder)\n",
    "#         data_folder=data_folder+\"/Log\"\n",
    "#         if not os.path.exists(data_folder):\n",
    "#             os.mkdir(data_folder)\n",
    "# #         data_fn=f\"pbc_seed_{seed}_fc_{force_code}_r_{r}_D_{D}_L_{L}_kappa_{kappa}_varkappa_{varkappa}_alpha_{alpha}_creatdur_{creation_duration}_chi_{chi}_log.csv\"\n",
    "#         data_fn=f\"pbc_seed_{seed}_fc_{force_code}_r_{r}_D_{D}_L_{L}_kappa_{kappa}_varkappa_{varkappa}_creatdur_{creation_duration}_chi_{chi}_log.csv\"\n",
    "\n",
    "#     #save particle locations as csv\n",
    "#     if recording_locations:\n",
    "#         df = pd.concat([pd.DataFrame(dict_out) for dict_out in dict_out_lst])\n",
    "#         df.reset_index(inplace=True, drop=True)\n",
    "#         #save the recorded data\n",
    "# #         os.chdir(data_folder)\n",
    "# #         df.to_csv(data_fn, index=False)\n",
    "#         if printing:\n",
    "#             print('saved to:')\n",
    "#             print(os.path.abspath(data_fn))\n",
    "#     dictt=dict(t=t,dict_out_lst=dict_out_lst)\n",
    "#     return dictt\n",
    "#     return t,dict_out_lst,exit_code,num_running\n",
    "#     return t,exit_code\n",
    "\n",
    "def print_dict(input_dict,*argv):\n",
    "    for key in input_dict.keys():\n",
    "        print(f\"{key}={input_dict[key]}\")\n",
    "    # args=sorted(argv)\n",
    "    # if len(args)>0:\n",
    "    #     print(str_btwn)\n",
    "    # type_dict=type(dict())\n",
    "    for arg in sorted(argv):\n",
    "        print(f'\\n#{arg}')\n",
    "        obj=input_dict[arg]\n",
    "        if type(obj) is type(dict()):\n",
    "            print_dict (obj)\n",
    "        else:\n",
    "            print(arg)\n"
   ]
  },
  {
   "cell_type": "code",
   "execution_count": 6,
   "id": "d4ad9535",
   "metadata": {
    "ExecuteTime": {
     "end_time": "2025-07-10T16:02:57.932988Z",
     "start_time": "2025-07-10T16:02:57.929738Z"
    }
   },
   "outputs": [],
   "source": [
    "def compute_paired_births_and_deaths(N_list,save_every_s):\n",
    "    \"\"\"\n",
    "    Example Usage:\n",
    "dfn = compute_paired_births_and_deaths(N_list,save_every_s)\n",
    "    \"\"\"\n",
    "    unique_values = np.unique(N_list)#, return_inverse=True)\n",
    "    dict_lst = []\n",
    "    gt_two_values = np.argwhere(np.array(N_list)>2).flatten()\n",
    "    if gt_two_values.shape[0]>0:\n",
    "        i0 = gt_two_values[0]\n",
    "    imax = len(N_list)\n",
    "    nold = N_list[i0]\n",
    "    dur_frames = 0\n",
    "    # for i in range(i0+1,imax+1):\n",
    "    for i in range(i0+1,imax):\n",
    "        dur_frames += 1\n",
    "        nnew = N_list[i]\n",
    "        if nnew!=nold:\n",
    "            dict_lst.append(dict(\n",
    "                nold = nold,\n",
    "                nnew = nnew,\n",
    "                dur_s = np.around(dur_frames*save_every_s,5), #ms\n",
    "            ))\n",
    "            dur_frames = 0\n",
    "        nold = int(nnew)\n",
    "    dict_lst.append(dict(\n",
    "            nold = nold,\n",
    "            nnew = 0,\n",
    "            dur_s = np.around((dur_frames+1)*save_every_s,5), #ms counting the last frame\n",
    "        ))\n",
    "    #print the transitions\n",
    "    dfn = pd.DataFrame(dict_lst); del dict_lst\n",
    "    return dfn"
   ]
  },
  {
   "cell_type": "markdown",
   "id": "7982391d",
   "metadata": {},
   "source": [
    "# run the model once"
   ]
  },
  {
   "cell_type": "code",
   "execution_count": 7,
   "id": "d50985cd",
   "metadata": {
    "ExecuteTime": {
     "end_time": "2025-07-10T16:02:57.937046Z",
     "start_time": "2025-07-10T16:02:57.933841Z"
    }
   },
   "outputs": [],
   "source": [
    "########################################################\n",
    "# FK\n",
    "########################################################\n",
    "Ninitial=2\n",
    "# # niter=1500  \n",
    "# # niter=150\n",
    "# # niter=100\n",
    "# niter=2000\n",
    "# niter=1\n",
    "dt=1e-5\n",
    "# Nmax=150\n",
    "creation_duration=0.1 #seconds for both full models\n",
    "L = 6.25\n",
    "a_values = np.array([1.552]) #for FK\n",
    "b_values = np.array([3.01]) #for FK\n",
    "def map_b_to_chi(b,a):\n",
    "    x = b/a\n",
    "    chi = x+1\n",
    "    return chi\n",
    "seed = 42\n",
    "\n",
    "for b in b_values:\n",
    "    for a in a_values:\n",
    "        pass\n",
    "chi = map_b_to_chi(b,a)\n",
    "pargs=seed, Ninitial, 0, 0.85, 0.864, 0.230, chi, 15, 0.457, a, 0.048, 0.131, L, creation_duration, dt\n",
    "seed, Ninitial, Nfinal, R_c_bar, Mp, nup, chi, kappa, r, varkappa, D, r0, L, creation_duration, dt = pargs"
   ]
  },
  {
   "cell_type": "code",
   "execution_count": 8,
   "id": "5956f705",
   "metadata": {
    "ExecuteTime": {
     "end_time": "2025-07-10T16:02:57.943903Z",
     "start_time": "2025-07-10T16:02:57.938233Z"
    }
   },
   "outputs": [],
   "source": [
    "########################################################\n",
    "# LR\n",
    "########################################################\n",
    "Ninitial=2\n",
    "# # niter=1500  \n",
    "# # niter=150\n",
    "# # niter=100\n",
    "# niter=2000\n",
    "# niter=1\n",
    "dt=1e-5\n",
    "# Nmax=150\n",
    "creation_duration=0.1 #seconds for both full models\n",
    "L = 7.5\n",
    "a_values = np.array([9.3]) #for LR\n",
    "b_values = np.array([10.]) #for LR\n",
    "for b in b_values:\n",
    "    for a in a_values:\n",
    "        pass\n",
    "chi = map_b_to_chi(b,a)\n",
    "seed = 42\n",
    "pargs=seed, Ninitial, 0, 1.25, 3.28, 0.715, chi, 75, 0.314, a, 0.42, 0.202, L, creation_duration, dt\n",
    "seed, Ninitial, Nfinal, R_c_bar, Mp, nup, chi, kappa, r, varkappa, D, r0, L, creation_duration, dt = pargs"
   ]
  },
  {
   "cell_type": "code",
   "execution_count": 9,
   "id": "c467610b",
   "metadata": {
    "ExecuteTime": {
     "end_time": "2025-07-10T16:02:57.948330Z",
     "start_time": "2025-07-10T16:02:57.946633Z"
    }
   },
   "outputs": [],
   "source": [
    "# seed = #int(input('please input seed (e.g. 42): '))\n",
    "# Ninitial = #int(input('please input Ninitial (e.g. 2): '))\n",
    "# Nfinal = #int(input('please input Nfinal (e.g. 0): '))\n",
    "# R_c_bar = ##float(input('please input R_c_bar (e.g. 0.7 cm): '))\n",
    "# Mp = #float(input('please input Mp (e.g. 42 Hz/cm^2): '))\n",
    "# nup = #float(input('please input nup (e.g. 0.5): '))\n",
    "# chi = #float(input('please input chi (e.g. 2.08): '))\n",
    "# kappa = #float(input('please input kappa (e.g. 200 Hz): '))\n",
    "# r = #float(input('please input r (e.g. 0.1 cm): '))\n",
    "# varkappa = #float(input('please input varkappa (e.g. 9.2 cm^2/s): '))\n",
    "# D = #float(input('please input D (e.g. 2 cm^2/s): '))\n",
    "# r0 = #float(input('please input r0 (e.g. 2 cm): '))\n",
    "# L = #float(input('please input L (e.g. 42): '))\n",
    "# creation_duration = #float(input('please input creation_duration (e.g. 2): '))\n",
    "# dt = #float(input('please input dt (e.g. 0): '))\n"
   ]
  },
  {
   "cell_type": "code",
   "execution_count": 10,
   "id": "2852e620",
   "metadata": {
    "ExecuteTime": {
     "end_time": "2025-07-10T16:03:00.668986Z",
     "start_time": "2025-07-10T16:02:57.949258Z"
    }
   },
   "outputs": [
    {
     "name": "stdout",
     "output_type": "stream",
     "text": [
      "\n",
      "\n",
      "Printing Inputs:\n",
      "seed=42\n",
      "Ninitial=2\n",
      "Nfinal=0\n",
      "R_c_bar=1.25\n",
      "Mp=3.28\n",
      "nup=0.715\n",
      "chi=2.075268817204301\n",
      "kappa=75\n",
      "r=0.314\n",
      "varkappa=9.3\n",
      "D=0.42\n",
      "r0=0.202\n",
      "L=7.5\n",
      "creation_duration=0.1\n",
      "dt=1e-05\n",
      "exit_code=1\n",
      "\n",
      "Printing Outputs:\n",
      "TermTime=0.39510000000025436\n",
      "len_N_list=396\n"
     ]
    }
   ],
   "source": [
    "# %%time\n",
    "# if __name__=='__main__':\n",
    "#     # args = sys.argv[1:]\n",
    "#     # seed,Ninitial,Nfinal,R_c_bar,Mp,nup,chi,kappa,r,varkappa,D,r0,L,creation_duration,dt = args\n",
    "#     # print(args)\n",
    "#     seed = int(input('please input seed (e.g. 42): '))\n",
    "#     Ninitial = int(input('please input Ninitial (e.g. 2): '))\n",
    "#     Nfinal = int(input('please input Nfinal (e.g. 0): '))\n",
    "#     R_c_bar = float(input('please input R_c_bar (e.g. 0.7 cm): '))\n",
    "#     Mp = float(input('please input Mp (e.g. 42 Hz/cm^2): '))\n",
    "#     nup = float(input('please input nup (e.g. 0.5): '))\n",
    "#     chi = float(input('please input chi (e.g. 2.08): '))\n",
    "#     kappa = float(input('please input kappa (e.g. 200 Hz): '))\n",
    "#     r = float(input('please input r (e.g. 0.1 cm): '))\n",
    "#     varkappa = float(input('please input varkappa (e.g. 9.2 cm^2/s): '))\n",
    "#     D = float(input('please input D (e.g. 2 cm^2/s): '))\n",
    "#     r0 = float(input('please input r0 (e.g. 2 cm): '))\n",
    "#     L = float(input('please input L (e.g. 42): '))\n",
    "#     creation_duration = float(input('please input creation_duration (e.g. 2): '))\n",
    "#     dt = float(input('please input dt (e.g. 0): '))\n",
    "\n",
    "t,exit_code,N_list = gener_termination_time_log_fast_N_series(int(seed),Ninitial=int(Ninitial),#4,#\n",
    "                                Nfinal=int(Nfinal),\n",
    "                                chi=float(chi),kappa=float(kappa), #Hz\n",
    "                                r=float(r), #cm\n",
    "                                R_c_bar=float(R_c_bar), #cm\n",
    "                                varkappa=float(varkappa), #cm^2/s\n",
    "                                D=float(D), #cm^2/s\n",
    "                                Mp = float(Mp), # Hz/cm^2;\n",
    "                                r0=float(r0), #cm\n",
    "                                nup = float(nup),L=float(L),creation_duration = float(creation_duration),\n",
    "                                Dt=float(dt),dt=float(dt),use_creation=True,use_pair_create=True,use_set_created_from_existing=False\n",
    "                              )\n",
    "\n",
    "print(f\"\\n\\nPrinting Inputs:\")\n",
    "print_dict(dict(seed=seed,Ninitial=Ninitial,\n",
    "    Nfinal=Nfinal,R_c_bar=R_c_bar,Mp=Mp,nup=nup,\n",
    "    chi=chi,kappa=kappa,r=r,varkappa=varkappa,\n",
    "    D=D,r0=r0,L=L,creation_duration=creation_duration,dt=dt,\n",
    "    exit_code=exit_code))\n",
    "print(f\"\\nPrinting Outputs:\")\n",
    "print(f\"TermTime={t}\")\n",
    "print(f\"len_N_list={len(N_list)}\")\n",
    "# print(f\"N_list={N_list}\")"
   ]
  },
  {
   "cell_type": "code",
   "execution_count": 11,
   "id": "962d6f42",
   "metadata": {
    "ExecuteTime": {
     "end_time": "2025-07-10T16:03:00.671364Z",
     "start_time": "2025-07-10T16:03:00.669997Z"
    }
   },
   "outputs": [],
   "source": [
    "# #DONE: gener an N_list example\n",
    "# beep(3)\n",
    "# print(f\"{N_list[:80]=}\")"
   ]
  },
  {
   "cell_type": "code",
   "execution_count": 12,
   "id": "8a258177",
   "metadata": {
    "ExecuteTime": {
     "end_time": "2025-07-10T16:03:00.681420Z",
     "start_time": "2025-07-10T16:03:00.672188Z"
    }
   },
   "outputs": [
    {
     "name": "stdout",
     "output_type": "stream",
     "text": [
      "nold,nnew,dur_s\n",
      "4,6,0.103\n",
      "6,4,0.027\n",
      "4,6,0.022\n",
      "6,8,0.001\n",
      "8,10,0.024\n",
      "10,8,0.007\n",
      "8,10,0.018\n",
      "10,8,0.018\n",
      "8,10,0.029\n",
      "10,8,0.005\n",
      "8,6,0.004\n",
      "6,8,0.005\n",
      "8,10,0.011\n",
      "10,8,0.016\n",
      "8,6,0.006\n",
      "6,4,0.019\n",
      "4,2,0.021\n",
      "2,0,0.024\n",
      "\n"
     ]
    }
   ],
   "source": [
    "#input: N_list\n",
    "#output: dataframe of transition times\n",
    "save_every=int(1e-3/1e-5)\n",
    "save_every_s = float(dt)*save_every\n",
    "save_every_s #0.00999\n",
    "save_every_s = np.around (save_every_s, 4)\n",
    "save_every_s #0.01\n",
    "dfn = compute_paired_births_and_deaths(N_list,save_every_s)\n",
    "print(dfn.to_csv(None,index=False))"
   ]
  },
  {
   "cell_type": "markdown",
   "id": "443dd2b7",
   "metadata": {},
   "source": [
    "# DONE: analyze transition times"
   ]
  },
  {
   "cell_type": "code",
   "execution_count": 13,
   "id": "4ac9a01b",
   "metadata": {
    "ExecuteTime": {
     "end_time": "2025-07-10T16:03:00.704181Z",
     "start_time": "2025-07-10T16:03:00.682329Z"
    }
   },
   "outputs": [],
   "source": [
    "A = L ** 2 #cm^2\n",
    "# dfn = pd.DataFrame(dict_lst)\n",
    "dfn['rate_Hz'] = 1/dfn['dur_s'] #Hz\n",
    "dfn['n'] = dfn['nold'] / A #1/cm^2\n",
    "boobirth = dfn['nnew']>dfn['nold']\n",
    "dfn.loc[boobirth,'wp'] = dfn.loc[boobirth,'rate_Hz'] / A * 1e0 #Hz/cm^2\n",
    "dfn.loc[~boobirth,'wm'] = dfn.loc[~boobirth,'rate_Hz'] / A * 1e0 #Hz/cm^2\n",
    "# dfn.describe()\n",
    "\n",
    "#filter by transitions that are ± 2 only\n",
    "bood2 = np.abs(dfn['nold'] - dfn['nnew'])==2\n",
    "dict_lst = []\n",
    "for nold,g in dfn[bood2].groupby('nold'):\n",
    "    #compute average density and rate densities\n",
    "    n = nold / A #1/cm^2\n",
    "    dur_a,wp_a = g[['dur_s','wp']].dropna().mean().values\n",
    "    wp_h = 1/dur_a / A\n",
    "    dur_a,wm_a = g[['dur_s','wm']].dropna().mean().values\n",
    "    wm_h = 1/dur_a / A\n",
    "    dict_lst.append(dict(\n",
    "        n = n,\n",
    "        wp_a = wp_a,\n",
    "        wm_a = wm_a,\n",
    "        wp_h = wp_h,\n",
    "        wm_h = wm_h,\n",
    "    ))\n",
    "df_rates = pd.DataFrame(dict_lst); del dict_lst"
   ]
  },
  {
   "cell_type": "code",
   "execution_count": null,
   "id": "259af9f7",
   "metadata": {},
   "outputs": [],
   "source": []
  },
  {
   "cell_type": "code",
   "execution_count": 14,
   "id": "ca787b14",
   "metadata": {
    "ExecuteTime": {
     "end_time": "2025-07-10T16:03:00.706340Z",
     "start_time": "2025-07-10T16:03:00.704867Z"
    }
   },
   "outputs": [],
   "source": [
    "#DONE: consider what inputs each take (N_list-->lag_list)\n",
    "#DONE: guess how WJ did it\n",
    "#DONT: - w/wo time since last of the same type (_s)\n",
    "#TODO: consider the two or three ways to compute birth death rates from N_list\n",
    "#HINT: geometric mean (_g) or harmonic mean (_h), or arithmetic mean (_a)\n"
   ]
  },
  {
   "cell_type": "code",
   "execution_count": null,
   "id": "5f60e51d",
   "metadata": {},
   "outputs": [],
   "source": []
  },
  {
   "cell_type": "markdown",
   "id": "053135f1",
   "metadata": {},
   "source": [
    "# visualize the full cardiac model birth death rate fits"
   ]
  },
  {
   "cell_type": "code",
   "execution_count": 15,
   "id": "e726364c",
   "metadata": {
    "ExecuteTime": {
     "end_time": "2025-07-10T16:03:00.709047Z",
     "start_time": "2025-07-10T16:03:00.707209Z"
    }
   },
   "outputs": [],
   "source": [
    "wjr=recall_powerlaw_fits_to_full_models()\n",
    "#DONE: get token inputs prepared\n",
    "dict_fit_death_lr = dict(wjr['lr_pbc'])\n",
    "dict_fit_death_fk = dict(wjr['fk_pbc'])"
   ]
  },
  {
   "cell_type": "code",
   "execution_count": 16,
   "id": "d18ae42b",
   "metadata": {
    "ExecuteTime": {
     "end_time": "2025-07-10T16:03:00.719282Z",
     "start_time": "2025-07-10T16:03:00.709888Z"
    }
   },
   "outputs": [],
   "source": [
    "# input_fn = search_for_file()\n",
    "# input_fn\n",
    "kwargs = dict(data_fk_dir=f'{nb_dir}/data/full_results/data_fig4_vidmar_fk_tt.csv',\n",
    "              data_lr_dir=f'{nb_dir}/data/full_results/data_fig4_vidmar_lr_tt.csv',\n",
    "             min_num_particles=9)\n",
    "dict_wjr = recall_death_rates_vidmar_rappel(**kwargs)\n",
    "fk=dict_wjr['fk'].sort_values(by='q')\n",
    "lr=dict_wjr['lr'].sort_values(by='q')"
   ]
  },
  {
   "cell_type": "code",
   "execution_count": 17,
   "id": "e8167d81",
   "metadata": {
    "ExecuteTime": {
     "end_time": "2025-07-10T16:03:00.725658Z",
     "start_time": "2025-07-10T16:03:00.720142Z"
    }
   },
   "outputs": [],
   "source": [
    "# birth_rate_dir_fk = '/home/timothytyree/Documents/GitHub/bgmc/python/data/full_results/data_fig4_timothy_fk_up2_rescaled_per_tt.csv'\n",
    "# birth_rate_dir_lr = '/home/timothytyree/Documents/GitHub/bgmc/python/data/full_results/data_fig4_timothy_lr_up2_rescaled_per_tt.csv'\n",
    "birth_rate_dir_fk = f'{nb_dir}//data/full_results/data_fig4_timothy_fk_up2_rescaled_per_tt.csv'\n",
    "birth_rate_dir_lr = f'{nb_dir}//data/full_results/data_fig4_timothy_lr_up2_rescaled_per_tt.csv'\n",
    "# death_rate_dir_fk = '/Users/timothytyree/Documents/GitHub/bgmc/python/data/full_results/data_fig4_vidmar_fk_rescaled_rates.csv'\n",
    "# death_rate_dir_lr = '/Users/timothytyree/Documents/GitHub/bgmc/python/data/full_results/data_fig4_vidmar_lr_rescaled_rates.csv'\n",
    "# df_death = pd.read_csv(death_rate_dir_fk)\n",
    "df_birth_fk = pd.read_csv(birth_rate_dir_fk)\n",
    "# df_death = pd.read_csv(death_rate_dir_lr)\n",
    "df_birth_lr = pd.read_csv(birth_rate_dir_lr)\n",
    "\n",
    "#scale from kHz to Hz\n",
    "df_birth_fk['w']*=1e3\n",
    "df_birth_lr['w']*=1e3"
   ]
  },
  {
   "cell_type": "code",
   "execution_count": 18,
   "id": "904c5467",
   "metadata": {
    "ExecuteTime": {
     "end_time": "2025-07-10T16:03:00.730974Z",
     "start_time": "2025-07-10T16:03:00.726527Z"
    }
   },
   "outputs": [
    {
     "name": "stdout",
     "output_type": "stream",
     "text": [
      "m = 0.229594 +/- 0.010098\n",
      "M = 0.864210 +/- 0.002349 Hz/cm^2; B=0.529597 +/- 0.020570\n",
      "RMSE=0.0215 Hz/cm^2; R^2=0.9655; MPE=3.0209%; N=73\n",
      "m = 0.714755 +/- 0.009768\n",
      "M = 3.277073 +/- 0.102643 Hz/cm^2; B=5.262676 +/- 0.107278\n",
      "RMSE=0.0417 Hz/cm^2; R^2=0.9971; MPE=4.2323%; N=62\n",
      "\n",
      "wjr['fk_pbc']:\n",
      "m=1.8772341309722325\n",
      "Delta_m=0.02498750277237229\n",
      "M=5.572315674840435\n",
      "Delta_M=0.3053120355191732\n",
      "b=1.665608066257863\n",
      "Delta_b=0.029341409948945123\n",
      "\n",
      "wjr['lr_pbc']:\n",
      "m=1.6375562704001745\n",
      "Delta_m=0.017190912126700632\n",
      "M=16.73559858353835\n",
      "Delta_M=0.8465090320196467\n",
      "b=2.86877101880514\n",
      "Delta_b=0.0311865277365552\n",
      "\n",
      "wjr['fk_pbc']:\n",
      "m=1.8772341309722325\n",
      "Delta_m=0.02498750277237229\n",
      "M=5.572315674840435\n",
      "Delta_M=0.3053120355191732\n",
      "b=1.665608066257863\n",
      "Delta_b=0.029341409948945123\n",
      "\n",
      "wjr['lr_pbc']:\n",
      "m=1.6375562704001745\n",
      "Delta_m=0.017190912126700632\n",
      "M=16.73559858353835\n",
      "Delta_M=0.8465090320196467\n",
      "b=2.86877101880514\n",
      "Delta_b=0.0311865277365552\n"
     ]
    }
   ],
   "source": [
    "# DONE: compute powerlaw fits of birth rates wjr\n",
    "dict_fit_birth_fk = print_fit_power_law(x=df_birth_fk['q'].values,y=df_birth_fk['w'].values)\n",
    "dict_fit_birth_lr = print_fit_power_law(x=df_birth_lr['q'].values,y=df_birth_lr['w'].values)\n",
    "\n",
    "print(f\"\\nwjr['fk_pbc']:\")\n",
    "print_dict(wjr['fk_pbc'])\n",
    "print(f\"\\nwjr['lr_pbc']:\")\n",
    "print_dict(wjr['lr_pbc'])\n",
    "\n",
    "print(f\"\\nwjr['fk_pbc']:\")\n",
    "print_dict(wjr['fk_pbc'])\n",
    "print(f\"\\nwjr['lr_pbc']:\")\n",
    "print_dict(wjr['lr_pbc'])"
   ]
  },
  {
   "cell_type": "code",
   "execution_count": 19,
   "id": "3c7c5fbb",
   "metadata": {
    "ExecuteTime": {
     "end_time": "2025-07-10T16:03:00.736994Z",
     "start_time": "2025-07-10T16:03:00.731909Z"
    }
   },
   "outputs": [
    {
     "data": {
      "text/plain": [
       "0.16999999999999996"
      ]
     },
     "execution_count": 19,
     "metadata": {},
     "output_type": "execute_result"
    }
   ],
   "source": [
    "xv = np.arange(0.02, 1,0.01)\n",
    "# evaluate powerlaw fits of birth rates wjr\n",
    "yv_birth_lr = dict_fit_birth_lr['M']*xv**dict_fit_birth_lr['m']\n",
    "yv_death_lr = wjr['lr_pbc']['M']*xv**wjr['lr_pbc']['m']\n",
    "# evalutate plot powerlaw fits of death rates wjr\n",
    "yv_birth_fk = dict_fit_birth_fk['M']*xv**dict_fit_birth_fk['m']\n",
    "yv_death_fk = wjr['fk_pbc']['M']*xv**wjr['fk_pbc']['m']\n",
    "# yv_birth_lr.shape,yv_birth_fk.shape\n",
    "\n",
    "#compute the intersection point for both of the full models\n",
    "index_fk = np.argmin(np.exp(np.log(yv_birth_fk/yv_death_fk)**2))\n",
    "qstar_fk = xv[index_fk]\n",
    "wstar_fk = yv_birth_fk[index_fk]\n",
    "# index_lr = np.argmin(np.log(yv_birth_lr/yv_death_lr)**2)\n",
    "index_lr = np.argmin(np.exp(np.log(yv_birth_lr/yv_death_lr)**2))\n",
    "qstar_lr = xv[index_lr]\n",
    "wstar_lr = yv_birth_lr[index_lr]\n",
    "qstar_lr #0.16999999999999996"
   ]
  },
  {
   "cell_type": "code",
   "execution_count": 20,
   "id": "7ba146a9",
   "metadata": {
    "ExecuteTime": {
     "end_time": "2025-07-10T16:03:01.188507Z",
     "start_time": "2025-07-10T16:03:00.737888Z"
    }
   },
   "outputs": [
    {
     "data": {
      "image/png": "[encoded data removed]",
      "text/plain": [
       "<Figure size 500x400 with 1 Axes>"
      ]
     },
     "metadata": {},
     "output_type": "display_data"
    }
   ],
   "source": [
    "# fig,ax=plt.subplots()\n",
    "fig,ax=plt.subplots(figsize=(5,4))\n",
    "fontsize=16\n",
    "# fontsize=20\n",
    "alpha=0.9\n",
    "\n",
    "# df_birth_fk.plot(x='q',y='w',ax=ax,c='C0',alpha=0.5,label=r'FK: N$\\rightarrow$N+2',lw=4)\n",
    "# fk.plot(x='q',y='w',ax=ax,c='C0',label=r'FK: N$\\rightarrow$N-2',lw=4)\n",
    "# df_birth_lr.plot(x='q',y='w',ax=ax,c='C1',alpha=0.5,label=r'LR: N$\\rightarrow$N+2',lw=4)\n",
    "# lr.plot(x='q',y='w',ax=ax,c='C1',label=r'LR: N$\\rightarrow$N-2',lw=4)\n",
    "markersize=30\n",
    "df_birth_fk.plot.scatter(x='q',y='w',ax=ax,c='C0',#'gray',#\n",
    "                         marker='^',\n",
    "                         alpha=1.,label=r'FK: N$\\rightarrow$N+2',s=markersize)\n",
    "fk.plot.scatter(x='q',y='w',ax=ax,c='C0',label=r'FK: N$\\rightarrow$N-2',s=markersize)\n",
    "df_birth_lr.plot.scatter(x='q',y='w',ax=ax,c='C1',#'r',#\n",
    "                        marker='^',\n",
    "                         alpha=1.,label=r'LR: N$\\rightarrow$N+2',s=markersize)\n",
    "lr.plot.scatter(x='q',y='w',ax=ax,c='C1',label=r'LR: N$\\rightarrow$N-2',s=markersize)\n",
    "\n",
    "\n",
    "#plot the powerlaw fits\n",
    "ax.plot(xv,yv_death_fk,'k--',alpha=0.5)\n",
    "ax.plot(xv,yv_death_lr,'k--',alpha=0.5)\n",
    "ax.plot(xv,yv_birth_fk,'k--',alpha=0.5)\n",
    "ax.plot(xv,yv_birth_lr,'k--',alpha=0.5)\n",
    "\n",
    "#draw vertical dotted line up to the intersection point for both of the full models\n",
    "ax.scatter([qstar_fk],[wstar_fk],c='k',s=40,alpha=0.9,zorder=100)\n",
    "ax.scatter([qstar_lr],[wstar_lr],c='k',s=40,alpha=0.9,zorder=100)\n",
    "# ax.plot([qstar_fk,qstar_fk],[0.001,wstar_fk],'k:',alpha=0.9)\n",
    "# ax.plot([qstar_lr,qstar_lr],[0.001,wstar_lr],'k:',alpha=0.9)\n",
    "\n",
    "\n",
    "# format_plot\n",
    "format_plot(ax=ax,xlabel=r'n (1/cm$^2$)',ylabel=r'w (Hz/cm$^2$)',fontsize=fontsize)#,use_loglog=True)\n",
    "# format_plot(ax=ax,xlabel=r'q (1/cm$^2$)',ylabel=r'w (Hz/cm$^2$)',fontsize=fontsize)#,use_loglog=True)\n",
    "# plt.legend(fontsize=16,frameon=False,loc='upper left')\n",
    "plt.legend(fontsize=14,frameon=False,loc='upper left')\n",
    "# AddLegend(loc='upper left')\n",
    "ax.set_xscale('log')\n",
    "ax.set_yscale('log')\n",
    "ax.set_ylim((0.0023641776732192935, 25.08908114695242))\n",
    "ax.tick_params(top=True, right=True,direction='in',which='both')\n",
    "ax.set_title('Cardiac Models',fontsize=fontsize)\n",
    "plt.show()"
   ]
  },
  {
   "cell_type": "markdown",
   "id": "bc2ed99c",
   "metadata": {},
   "source": [
    "# parse LPM results from the cloud"
   ]
  },
  {
   "cell_type": "code",
   "execution_count": 21,
   "id": "265e32b5",
   "metadata": {
    "ExecuteTime": {
     "end_time": "2025-07-10T16:03:01.190963Z",
     "start_time": "2025-07-10T16:03:01.189419Z"
    }
   },
   "outputs": [],
   "source": [
    "#DONE: find list of output files\n",
    "#DONE: learn out to parse the inputs of one of them\n",
    "#DONE: learn how to parse the desired outlputs of the other \n",
    "# DONE: select the list of directory for FK/LR\n",
    "# DONE: for each cardiac model: \n",
    "# DONE: estimate the brrates"
   ]
  },
  {
   "cell_type": "code",
   "execution_count": 22,
   "id": "b58508c8",
   "metadata": {
    "ExecuteTime": {
     "end_time": "2025-07-10T16:03:17.146173Z",
     "start_time": "2025-07-10T16:03:01.191727Z"
    }
   },
   "outputs": [
    {
     "name": "stdout",
     "output_type": "stream",
     "text": [
      "CPU times: user 14.1 s, sys: 921 ms, total: 15.1 s\n",
      "Wall time: 16 s\n"
     ]
    }
   ],
   "source": [
    "%%time\n",
    "#scrape for transition times, please\n",
    "folder = f\"{nb_dir}/data/osg_output/run_49\"\n",
    "folder = f\"{nb_dir}/data/osg_output/run_49_lower_R_c_for_fk\"\n",
    "lst_fk = []\n",
    "lst_lr = []\n",
    "lst_fk_L = []\n",
    "lst_lr_L = []\n",
    "D_lr = 0.42 #cm^2/s\n",
    "D_fk = 0.115 #cm^2/s\n",
    "# D_fk = 0.048 #cm^2/s wrong one\n",
    "for fn in [x for x in os.listdir(folder) if x.find('.out.')!=-1]:\n",
    "    #find lineno of inputs/outputs\n",
    "    printing_input_lineno = -1\n",
    "    printing_output_lineno = -1\n",
    "    with open(os.path.join(folder,fn),'r') as f:\n",
    "        for i,line in enumerate(f):\n",
    "            if line.find('Printing Inputs:')!=-1:\n",
    "                printing_input_lineno=i\n",
    "            if line.find('Printing Outputs:')!=-1:\n",
    "                printing_output_lineno=i\n",
    "    if printing_input_lineno>-1 and printing_output_lineno>-1:\n",
    "        with open(os.path.join(folder,fn), 'r') as f:\n",
    "            lines = f.readlines()\n",
    "        dict_in = dict()\n",
    "        for l in lines[printing_input_lineno+1:printing_output_lineno-1]:\n",
    "            key,val=l[:-1].split('=')\n",
    "            dict_in[key]=eval(val)\n",
    "        #parse dfn out\n",
    "        csv_data = ''.join(lines[printing_output_lineno+3:-2])\n",
    "        if len(csv_data)>0:\n",
    "            data_io = StringIO(csv_data)\n",
    "            df_out = pd.read_csv(data_io)\n",
    "            #record\n",
    "            if dict_in['D']==D_lr:\n",
    "                lst_lr.append(df_out)\n",
    "                lst_lr_L.append(dict_in['L'])\n",
    "            if dict_in['D']==D_fk:\n",
    "                lst_fk.append(df_out)\n",
    "                lst_fk_L.append(dict_in['L'])"
   ]
  },
  {
   "cell_type": "code",
   "execution_count": 23,
   "id": "7f777b5e",
   "metadata": {
    "ExecuteTime": {
     "end_time": "2025-07-10T16:03:17.148659Z",
     "start_time": "2025-07-10T16:03:17.146978Z"
    }
   },
   "outputs": [
    {
     "name": "stdout",
     "output_type": "stream",
     "text": [
      "1841\n",
      "1952\n"
     ]
    }
   ],
   "source": [
    "print(len(lst_lr))\n",
    "print(len(lst_fk))"
   ]
  },
  {
   "cell_type": "code",
   "execution_count": 24,
   "id": "1e4b3c18",
   "metadata": {
    "ExecuteTime": {
     "end_time": "2025-07-10T16:03:17.559890Z",
     "start_time": "2025-07-10T16:03:17.149262Z"
    }
   },
   "outputs": [],
   "source": [
    "#label with L\n",
    "for _lr,L in zip(lst_lr,lst_lr_L):\n",
    "    _lr['L']=L\n",
    "for _fk,L in zip(lst_fk,lst_fk_L):\n",
    "    _fk['L']=L"
   ]
  },
  {
   "cell_type": "code",
   "execution_count": 25,
   "id": "f266178b",
   "metadata": {
    "ExecuteTime": {
     "end_time": "2025-07-10T16:03:18.490153Z",
     "start_time": "2025-07-10T16:03:17.560830Z"
    }
   },
   "outputs": [],
   "source": [
    "dfn_fk = pd.concat(lst_fk).reset_index()\n",
    "dfn_lr = pd.concat(lst_lr).reset_index()"
   ]
  },
  {
   "cell_type": "code",
   "execution_count": 26,
   "id": "6e2cd681",
   "metadata": {
    "ExecuteTime": {
     "end_time": "2025-07-10T16:03:18.493321Z",
     "start_time": "2025-07-10T16:03:18.491077Z"
    }
   },
   "outputs": [
    {
     "data": {
      "text/plain": [
       "((27239957, 5), (2348197, 5))"
      ]
     },
     "execution_count": 26,
     "metadata": {},
     "output_type": "execute_result"
    }
   ],
   "source": [
    "dfn_fk.shape,dfn_lr.shape"
   ]
  },
  {
   "cell_type": "markdown",
   "id": "3d526a2c",
   "metadata": {},
   "source": [
    "# compute bdrates using WJ's method"
   ]
  },
  {
   "cell_type": "code",
   "execution_count": 27,
   "id": "3ce9212b",
   "metadata": {
    "ExecuteTime": {
     "end_time": "2025-07-10T16:03:58.277578Z",
     "start_time": "2025-07-10T16:03:18.497302Z"
    }
   },
   "outputs": [
    {
     "name": "stdout",
     "output_type": "stream",
     "text": [
      "Is there only one L?\n",
      "{7.5}\n"
     ]
    }
   ],
   "source": [
    "#assume L fixed\n",
    "M_ip = dict()\n",
    "T_ip = dict()\n",
    "M_im = dict()\n",
    "T_im = dict()\n",
    "L_set = set()\n",
    "for _lr,L in zip(lst_lr,lst_lr_L):\n",
    "    L_set.update([L])\n",
    "    for i,row in _lr.iterrows():\n",
    "        N=row['nold']\n",
    "        if N%2==0:\n",
    "            DN = row['nnew'] - N\n",
    "            if DN==2:\n",
    "                #birth occured\n",
    "                if N not in M_ip.keys():\n",
    "                    M_ip[N] = 0\n",
    "                    T_ip[N] = 0\n",
    "                M_ip[N] +=1\n",
    "                T_ip[N] +=row['dur_s']\n",
    "            elif DN==-2:\n",
    "                #death occured\n",
    "                if N not in M_im.keys():\n",
    "                    M_im[N] = 0\n",
    "                    T_im[N] = 0\n",
    "                M_im[N] +=1\n",
    "                T_im[N] +=row['dur_s']\n",
    "print(\"Is there only one L?\")\n",
    "print(L_set)\n",
    "\n",
    "N_set = set(M_ip.keys())\n",
    "N_set.update(list(M_im.keys()))\n",
    "dfrates = pd.DataFrame(dict(N=sorted(N_set)))\n",
    "for i, row in dfrates.iterrows():\n",
    "    try:\n",
    "        dfrates.loc[i,'Wp'] = M_ip[row['N']] / T_ip[row['N']]\n",
    "    except KeyError as e:\n",
    "        pass\n",
    "    try:\n",
    "        dfrates.loc[i,'Wm'] = M_im[row['N']] / T_im[row['N']]\n",
    "    except KeyError as e:\n",
    "        pass\n",
    "dfrates['q'] = dfrates['N'] / (L ** 2)\n",
    "dfrates['wp'] = dfrates['Wp'] / (L ** 2)\n",
    "dfrates['wm'] = dfrates['Wm'] / (L ** 2)\n",
    "dfrates_lr = dfrates.copy()"
   ]
  },
  {
   "cell_type": "code",
   "execution_count": 28,
   "id": "7527e686",
   "metadata": {
    "ExecuteTime": {
     "end_time": "2025-07-10T16:04:21.059577Z",
     "start_time": "2025-07-10T16:03:58.278434Z"
    }
   },
   "outputs": [
    {
     "name": "stdout",
     "output_type": "stream",
     "text": [
      "Is there only one L?\n",
      "{6.25}\n"
     ]
    }
   ],
   "source": [
    "#assume L fixed\n",
    "M_ip = dict()\n",
    "T_ip = dict()\n",
    "M_im = dict()\n",
    "T_im = dict()\n",
    "L_set = set()\n",
    "# for _fk,L in zip(lst_fk,lst_fk_L):\n",
    "for _fk,L in zip(lst_fk[:100],lst_fk_L[:100]):\n",
    "    L_set.update([L])\n",
    "    for i,row in _fk.iterrows():\n",
    "        N=row['nold']\n",
    "        if N%2==0:\n",
    "            DN = row['nnew'] - N\n",
    "            if DN==2:\n",
    "                #birth occured\n",
    "                if N not in M_ip.keys():\n",
    "                    M_ip[N] = 0\n",
    "                    T_ip[N] = 0\n",
    "                M_ip[N] +=1\n",
    "                T_ip[N] +=row['dur_s']\n",
    "            elif DN==-2:\n",
    "                #death occured\n",
    "                if N not in M_im.keys():\n",
    "                    M_im[N] = 0\n",
    "                    T_im[N] = 0\n",
    "                M_im[N] +=1\n",
    "                T_im[N] +=row['dur_s']\n",
    "print(\"Is there only one L?\")\n",
    "print(L_set)\n",
    "N_set = set(M_ip.keys())\n",
    "N_set.update(list(M_im.keys()))\n",
    "dfrates = pd.DataFrame(dict(N=sorted(N_set)))\n",
    "for i, row in dfrates.iterrows():\n",
    "    try:\n",
    "        dfrates.loc[i,'Wp'] = M_ip[row['N']] / T_ip[row['N']]\n",
    "    except KeyError as e:\n",
    "        pass\n",
    "    try:\n",
    "        dfrates.loc[i,'Wm'] = M_im[row['N']] / T_im[row['N']]\n",
    "    except KeyError as e:\n",
    "        pass\n",
    "dfrates['q'] = dfrates['N'] / (L ** 2)\n",
    "dfrates['wp'] = dfrates['Wp'] / (L ** 2)\n",
    "dfrates['wm'] = dfrates['Wm'] / (L ** 2)\n",
    "dfrates_fk = dfrates.copy()"
   ]
  },
  {
   "cell_type": "code",
   "execution_count": null,
   "id": "1cabc61c",
   "metadata": {},
   "outputs": [],
   "source": []
  },
  {
   "cell_type": "code",
   "execution_count": 29,
   "id": "664ee832",
   "metadata": {
    "ExecuteTime": {
     "end_time": "2025-07-10T16:04:21.442978Z",
     "start_time": "2025-07-10T16:04:21.060644Z"
    }
   },
   "outputs": [
    {
     "data": {
      "image/png": "[encoded data removed]",
      "text/plain": [
       "<Figure size 500x400 with 1 Axes>"
      ]
     },
     "metadata": {},
     "output_type": "display_data"
    }
   ],
   "source": [
    "# fig,ax=plt.subplots()\n",
    "fig,ax=plt.subplots(figsize=(5,4))\n",
    "fontsize=16\n",
    "# fontsize=20\n",
    "alpha=0.9\n",
    "col_ext = ''\n",
    "# col_ext = '_a'\n",
    "# col_ext = '_h'\n",
    "maxnold=14\n",
    "# df_birth_fk.plot(x='q',y='w',ax=ax,c='C0',alpha=0.5,label=r'FK: N$\\rightarrow$N+2',lw=4)\n",
    "# fk.plot(x='q',y='w',ax=ax,c='C0',label=r'FK: N$\\rightarrow$N-2',lw=4)\n",
    "# df_birth_lr.plot(x='q',y='w',ax=ax,c='C1',alpha=0.5,label=r'LR: N$\\rightarrow$N+2',lw=4)\n",
    "# lr.plot(x='q',y='w',ax=ax,c='C1',label=r'LR: N$\\rightarrow$N-2',lw=4)\n",
    "markersize=30\n",
    "dfrates_fk[dfrates_fk['N']<=maxnold].plot.scatter(x='q',y='wp'+col_ext,ax=ax,c='C0',#'gray',#\n",
    "                         marker='^',\n",
    "                         alpha=1.,label=r'FK: N$\\rightarrow$N+2',s=markersize)\n",
    "dfrates_fk[dfrates_fk['N']<=maxnold].plot.scatter(x='q',y='wm'+col_ext,ax=ax,c='C0',label=r'FK: N$\\rightarrow$N-2',s=markersize)\n",
    "dfrates_lr[dfrates_lr['N']<=maxnold].plot.scatter(x='q',y='wp'+col_ext,ax=ax,c='C1',#'r',#\n",
    "                        marker='^',\n",
    "                         alpha=1.,label=r'LR: N$\\rightarrow$N+2',s=markersize)\n",
    "dfrates_lr[dfrates_lr['N']<=maxnold].plot.scatter(x='q',y='wm'+col_ext,ax=ax,c='C1',label=r'LR: N$\\rightarrow$N-2',s=markersize)\n",
    "\n",
    "\n",
    "#plot the powerlaw fits\n",
    "ax.plot(xv,yv_death_fk,'k--',alpha=0.5)\n",
    "ax.plot(xv,yv_death_lr,'k--',alpha=0.5)\n",
    "ax.plot(xv,yv_birth_fk,'k--',alpha=0.5)\n",
    "ax.plot(xv,yv_birth_lr,'k--',alpha=0.5)\n",
    "\n",
    "#draw vertical dotted line up to the intersection point for both of the full models\n",
    "ax.scatter([qstar_fk],[wstar_fk],c='k',s=40,alpha=0.9,zorder=100)\n",
    "ax.scatter([qstar_lr],[wstar_lr],c='k',s=40,alpha=0.9,zorder=100)\n",
    "# ax.plot([qstar_fk,qstar_fk],[0.001,wstar_fk],'k:',alpha=0.9)\n",
    "# ax.plot([qstar_lr,qstar_lr],[0.001,wstar_lr],'k:',alpha=0.9)\n",
    "\n",
    "\n",
    "# format_plot\n",
    "format_plot(ax=ax,xlabel=r'n (1/cm$^2$)',ylabel=r'w (Hz/cm$^2$)',fontsize=fontsize)#,use_loglog=True)\n",
    "# format_plot(ax=ax,xlabel=r'q (1/cm$^2$)',ylabel=r'w (Hz/cm$^2$)',fontsize=fontsize)#,use_loglog=True)\n",
    "# plt.legend(fontsize=16,frameon=False,loc='upper left')\n",
    "# plt.legend(fontsize=14,frameon=False,loc='upper left')\n",
    "plt.legend(fontsize=14,frameon=False,loc='lower right')\n",
    "# AddLegend(loc='upper left')\n",
    "ax.set_xscale('log')\n",
    "ax.set_yscale('log')\n",
    "ax.set_ylim((0.0023641776732192935, 25.08908114695242))\n",
    "ax.tick_params(top=True, right=True,direction='in',which='both')\n",
    "ax.set_title('Linear Particle Model',fontsize=fontsize)\n",
    "plt.show()\n",
    "#heretimheretimheretimheretim"
   ]
  },
  {
   "cell_type": "code",
   "execution_count": 30,
   "id": "843ca76e",
   "metadata": {
    "ExecuteTime": {
     "end_time": "2025-07-10T16:04:21.446779Z",
     "start_time": "2025-07-10T16:04:21.443999Z"
    }
   },
   "outputs": [],
   "source": [
    "dfrates_fk['dw'] = dfrates_fk['wp'] - dfrates_fk['wm']\n",
    "dfrates_lr['dw'] = dfrates_lr['wp'] - dfrates_lr['wm']"
   ]
  },
  {
   "cell_type": "code",
   "execution_count": 31,
   "id": "fe857ff0",
   "metadata": {
    "ExecuteTime": {
     "end_time": "2025-07-10T16:04:21.539504Z",
     "start_time": "2025-07-10T16:04:21.447701Z"
    }
   },
   "outputs": [
    {
     "data": {
      "image/png": "[encoded data removed]",
      "text/plain": [
       "<Figure size 500x400 with 1 Axes>"
      ]
     },
     "metadata": {},
     "output_type": "display_data"
    }
   ],
   "source": [
    "# fig,ax=plt.subplots()\n",
    "fig,ax=plt.subplots(figsize=(5,4))\n",
    "fontsize=16\n",
    "# fontsize=20\n",
    "alpha=0.9\n",
    "col_ext = ''\n",
    "# col_ext = '_a'\n",
    "# col_ext = '_h'\n",
    "maxnold=14\n",
    "# df_birth_fk.plot(x='q',y='w',ax=ax,c='C0',alpha=0.5,label=r'FK: N$\\rightarrow$N+2',lw=4)\n",
    "# fk.plot(x='q',y='w',ax=ax,c='C0',label=r'FK: N$\\rightarrow$N-2',lw=4)\n",
    "# df_birth_lr.plot(x='q',y='w',ax=ax,c='C1',alpha=0.5,label=r'LR: N$\\rightarrow$N+2',lw=4)\n",
    "# lr.plot(x='q',y='w',ax=ax,c='C1',label=r'LR: N$\\rightarrow$N-2',lw=4)\n",
    "markersize=30\n",
    "# dfrates_fk[dfrates_fk['N']<=maxnold].plot.scatter(x='q',y='wp'+col_ext,ax=ax,c='C0',#'gray',#\n",
    "#                          marker='^',\n",
    "#                          alpha=1.,label=r'FK: N$\\rightarrow$N+2',s=markersize)\n",
    "dfrates_fk[dfrates_fk['N']<=maxnold].plot.scatter(x='q',y='dw'+col_ext,ax=ax,c='C0',label=r'FK fit',s=markersize)\n",
    "# dfrates_lr[dfrates_lr['N']<=maxnold].plot.scatter(x='q',y='wp'+col_ext,ax=ax,c='C1',#'r',#\n",
    "#                         marker='^',\n",
    "#                          alpha=1.,label=r'LR: N$\\rightarrow$N+2',s=markersize)\n",
    "dfrates_lr[dfrates_lr['N']<=maxnold].plot.scatter(x='q',y='dw'+col_ext,ax=ax,c='C1',label=r'LR fit',s=markersize)\n",
    "\n",
    "\n",
    "# #plot the powerlaw fits\n",
    "# ax.plot(xv,yv_death_fk,'k--',alpha=0.5)\n",
    "# ax.plot(xv,yv_death_lr,'k--',alpha=0.5)\n",
    "# ax.plot(xv,yv_birth_fk,'k--',alpha=0.5)\n",
    "# ax.plot(xv,yv_birth_lr,'k--',alpha=0.5)\n",
    "\n",
    "# #draw vertical dotted line up to the intersection point for both of the full models\n",
    "# ax.scatter([qstar_fk],[wstar_fk],c='k',s=40,alpha=0.9,zorder=100)\n",
    "# ax.scatter([qstar_lr],[wstar_lr],c='k',s=40,alpha=0.9,zorder=100)\n",
    "# # ax.plot([qstar_fk,qstar_fk],[0.001,wstar_fk],'k:',alpha=0.9)\n",
    "# # ax.plot([qstar_lr,qstar_lr],[0.001,wstar_lr],'k:',alpha=0.9)\n",
    "\n",
    "\n",
    "# format_plot\n",
    "format_plot(ax=ax,xlabel=r'n (1/cm$^2$)',ylabel=r'$w_+-w_-$ (Hz/cm$^2$)',fontsize=fontsize)#,use_loglog=True)\n",
    "# # format_plot(ax=ax,xlabel=r'q (1/cm$^2$)',ylabel=r'w (Hz/cm$^2$)',fontsize=fontsize)#,use_loglog=True)\n",
    "# # plt.legend(fontsize=16,frameon=False,loc='upper left')\n",
    "plt.legend(fontsize=14,frameon=False,loc='upper left')\n",
    "# plt.legend(fontsize=14,frameon=False,loc='lower right')\n",
    "# # AddLegend(loc='upper left')\n",
    "# ax.set_xscale('log')\n",
    "# ax.set_yscale('log')\n",
    "# ax.set_ylim((0.0023641776732192935, 25.08908114695242))\n",
    "ax.set_ylim((0., 0.3))\n",
    "ax.tick_params(top=True, right=True,direction='in',which='both')\n",
    "ax.set_title('Linear Particle Model',fontsize=fontsize)\n",
    "plt.show()"
   ]
  },
  {
   "cell_type": "code",
   "execution_count": null,
   "id": "433a0fa5",
   "metadata": {},
   "outputs": [],
   "source": []
  },
  {
   "cell_type": "code",
   "execution_count": null,
   "id": "cc4fe480",
   "metadata": {},
   "outputs": [],
   "source": []
  },
  {
   "cell_type": "markdown",
   "id": "b1a04009",
   "metadata": {},
   "source": [
    "# compute the bdrates using L by row"
   ]
  },
  {
   "cell_type": "code",
   "execution_count": 32,
   "id": "db4aea99",
   "metadata": {
    "ExecuteTime": {
     "end_time": "2025-07-10T16:04:22.161461Z",
     "start_time": "2025-07-10T16:04:21.540374Z"
    }
   },
   "outputs": [],
   "source": [
    "# %%time\n",
    "dfn = dfn_lr.copy()\n",
    "# dfn = dfn_lr.head(10000000).copy()\n",
    "dfn['A'] = dfn['L'] ** 2 #cm^2\n",
    "dfn['rate_Hz'] = 1/dfn['dur_s'] #Hz\n",
    "dfn['n'] = dfn['nold'] / dfn['A'] #1/cm^2\n",
    "boobirth = dfn['nnew']>dfn['nold']\n",
    "boodtwo = (np.abs(dfn['nold']-dfn['nnew'])==2) & ((dfn['nold']%2)==0)\n",
    "dfn.loc[boobirth&boodtwo,'wp'] = dfn.loc[boobirth,'rate_Hz'] / dfn['A'] #Hz/cm^2\n",
    "dfn.loc[~boobirth&boodtwo,'wm'] = dfn.loc[~boobirth,'rate_Hz'] / dfn['A'] #Hz/cm^2\n",
    "#filter by transitions that are ± 2 only\n",
    "bood2 = np.abs(dfn['nold'] - dfn['nnew'])==2\n",
    "dict_lst = []\n",
    "for (nold,A),g in dfn[bood2].groupby(['nold','A']):\n",
    "    #compute average density and rate densities\n",
    "    n = nold / A #1/cm^2\n",
    "    dur_a,wp_a = g[['dur_s','wp']].dropna().mean().values\n",
    "    wp_h = 1/dur_a / A\n",
    "    dur_a,wm_a = g[['dur_s','wm']].dropna().mean().values\n",
    "    wm_h = 1/dur_a / A\n",
    "    dict_lst.append(dict(\n",
    "        nold = nold,\n",
    "        q = n,\n",
    "        wp_a = wp_a,\n",
    "        wm_a = wm_a,\n",
    "        wp_h = wp_h,\n",
    "        wm_h = wm_h,\n",
    "    ))\n",
    "df_rates = pd.DataFrame(dict_lst); del dict_lst\n",
    "df_lr_lpm = df_rates.copy()"
   ]
  },
  {
   "cell_type": "code",
   "execution_count": 33,
   "id": "a19d0d6f",
   "metadata": {
    "ExecuteTime": {
     "end_time": "2025-07-10T16:04:22.942186Z",
     "start_time": "2025-07-10T16:04:22.162352Z"
    }
   },
   "outputs": [
    {
     "name": "stdout",
     "output_type": "stream",
     "text": [
      "-n \u0007\n",
      "-n \u0007\n",
      "-n \u0007\n"
     ]
    },
    {
     "data": {
      "text/plain": [
       "0"
      ]
     },
     "execution_count": 33,
     "metadata": {},
     "output_type": "execute_result"
    }
   ],
   "source": [
    "beep(3)"
   ]
  },
  {
   "cell_type": "code",
   "execution_count": 34,
   "id": "4712cbd9",
   "metadata": {
    "ExecuteTime": {
     "end_time": "2025-07-10T16:04:33.984813Z",
     "start_time": "2025-07-10T16:04:22.946284Z"
    }
   },
   "outputs": [
    {
     "name": "stdout",
     "output_type": "stream",
     "text": [
      "CPU times: user 8.41 s, sys: 3.09 s, total: 11.5 s\n",
      "Wall time: 11 s\n"
     ]
    }
   ],
   "source": [
    "%%time\n",
    "dfn = dfn_fk.copy()\n",
    "# dfn = dfn_fk.head(10000000).copy()\n",
    "dfn['A'] = dfn['L'] ** 2 #cm^2\n",
    "dfn['rate_Hz'] = 1/dfn['dur_s'] #Hz\n",
    "dfn['n'] = dfn['nold'] / dfn['A'] #1/cm^2\n",
    "boobirth = dfn['nnew']>dfn['nold']\n",
    "boodtwo = (np.abs(dfn['nold']-dfn['nnew'])==2) & ((dfn['nold']%2)==0)\n",
    "dfn.loc[boobirth&boodtwo,'wp'] = dfn.loc[boobirth,'rate_Hz'] / dfn['A'] #Hz/cm^2\n",
    "dfn.loc[~boobirth&boodtwo,'wm'] = dfn.loc[~boobirth,'rate_Hz'] / dfn['A'] #Hz/cm^2\n",
    "#filter by transitions that are ± 2 only\n",
    "bood2 = np.abs(dfn['nold'] - dfn['nnew'])==2\n",
    "dict_lst = []\n",
    "for (nold,A),g in dfn[bood2].groupby(['nold','A']):\n",
    "    #compute average density and rate densities\n",
    "    n = nold / A #1/cm^2\n",
    "    dur_a,wp_a = g[['dur_s','wp']].dropna().mean().values\n",
    "    wp_h = 1/dur_a / A\n",
    "    dur_a,wm_a = g[['dur_s','wm']].dropna().mean().values\n",
    "    wm_h = 1/dur_a / A\n",
    "    dict_lst.append(dict(\n",
    "        nold = nold,\n",
    "        q = n,\n",
    "        wp_a = wp_a,\n",
    "        wm_a = wm_a,\n",
    "        wp_h = wp_h,\n",
    "        wm_h = wm_h,\n",
    "    ))\n",
    "df_rates = pd.DataFrame(dict_lst); del dict_lst\n",
    "df_fk_lpm = df_rates.copy()"
   ]
  },
  {
   "cell_type": "code",
   "execution_count": 35,
   "id": "b1b88dcf",
   "metadata": {
    "ExecuteTime": {
     "end_time": "2025-07-10T16:04:34.284397Z",
     "start_time": "2025-07-10T16:04:33.985745Z"
    }
   },
   "outputs": [
    {
     "name": "stdout",
     "output_type": "stream",
     "text": [
      "-n \u0007\n"
     ]
    },
    {
     "data": {
      "text/plain": [
       "0"
      ]
     },
     "execution_count": 35,
     "metadata": {},
     "output_type": "execute_result"
    }
   ],
   "source": [
    "beep(1)\n",
    "# break"
   ]
  },
  {
   "cell_type": "markdown",
   "id": "7c3594d1",
   "metadata": {},
   "source": [
    "# compare to LPM"
   ]
  },
  {
   "cell_type": "markdown",
   "id": "714a8625",
   "metadata": {},
   "source": [
    "$$\n",
    "W_{\\pm2}(N) = \\mathbb{E}_i[1/T_i(N\\rightarrow N\\pm 2)]\n",
    "$$\n",
    "\n",
    "$$\n",
    "W_{\\pm2}(N) = 1/\\mathbb{E}_i[T_i(N\\rightarrow N\\pm 2)]\n",
    "$$"
   ]
  },
  {
   "cell_type": "code",
   "execution_count": 36,
   "id": "b5c74a32",
   "metadata": {
    "ExecuteTime": {
     "end_time": "2025-07-10T16:04:34.579659Z",
     "start_time": "2025-07-10T16:04:34.286420Z"
    }
   },
   "outputs": [
    {
     "data": {
      "image/png": "[encoded data removed]",
      "text/plain": [
       "<Figure size 500x400 with 1 Axes>"
      ]
     },
     "metadata": {},
     "output_type": "display_data"
    }
   ],
   "source": [
    "# fig,ax=plt.subplots()\n",
    "fig,ax=plt.subplots(figsize=(5,4))\n",
    "fontsize=16\n",
    "# fontsize=20\n",
    "alpha=0.9\n",
    "col_ext = '_a'\n",
    "# col_ext = '_h'\n",
    "maxnold=12\n",
    "# df_birth_fk.plot(x='q',y='w',ax=ax,c='C0',alpha=0.5,label=r'FK: N$\\rightarrow$N+2',lw=4)\n",
    "# fk.plot(x='q',y='w',ax=ax,c='C0',label=r'FK: N$\\rightarrow$N-2',lw=4)\n",
    "# df_birth_lr.plot(x='q',y='w',ax=ax,c='C1',alpha=0.5,label=r'LR: N$\\rightarrow$N+2',lw=4)\n",
    "# lr.plot(x='q',y='w',ax=ax,c='C1',label=r'LR: N$\\rightarrow$N-2',lw=4)\n",
    "markersize=30\n",
    "df_fk_lpm[df_fk_lpm['nold']<=maxnold].plot.scatter(x='q',y='wp'+col_ext,ax=ax,c='C0',#'gray',#\n",
    "                         marker='^',\n",
    "                         alpha=1.,label=r'FK: N$\\rightarrow$N+2',s=markersize)\n",
    "df_fk_lpm[df_fk_lpm['nold']<=maxnold].plot.scatter(x='q',y='wm'+col_ext,ax=ax,c='C0',label=r'FK: N$\\rightarrow$N-2',s=markersize)\n",
    "df_lr_lpm[df_lr_lpm['nold']<=maxnold].plot.scatter(x='q',y='wp'+col_ext,ax=ax,c='C1',#'r',#\n",
    "                        marker='^',\n",
    "                         alpha=1.,label=r'LR: N$\\rightarrow$N+2',s=markersize)\n",
    "df_lr_lpm[df_lr_lpm['nold']<=maxnold].plot.scatter(x='q',y='wm'+col_ext,ax=ax,c='C1',label=r'LR: N$\\rightarrow$N-2',s=markersize)\n",
    "\n",
    "\n",
    "#plot the powerlaw fits\n",
    "ax.plot(xv,yv_death_fk,'k--',alpha=0.5)\n",
    "ax.plot(xv,yv_death_lr,'k--',alpha=0.5)\n",
    "ax.plot(xv,yv_birth_fk,'k--',alpha=0.5)\n",
    "ax.plot(xv,yv_birth_lr,'k--',alpha=0.5)\n",
    "\n",
    "#draw vertical dotted line up to the intersection point for both of the full models\n",
    "ax.scatter([qstar_fk],[wstar_fk],c='k',s=40,alpha=0.9,zorder=100)\n",
    "ax.scatter([qstar_lr],[wstar_lr],c='k',s=40,alpha=0.9,zorder=100)\n",
    "# ax.plot([qstar_fk,qstar_fk],[0.001,wstar_fk],'k:',alpha=0.9)\n",
    "# ax.plot([qstar_lr,qstar_lr],[0.001,wstar_lr],'k:',alpha=0.9)\n",
    "\n",
    "\n",
    "# format_plot\n",
    "format_plot(ax=ax,xlabel=r'n (1/cm$^2$)',ylabel=r'w (Hz/cm$^2$)',fontsize=fontsize)#,use_loglog=True)\n",
    "# format_plot(ax=ax,xlabel=r'q (1/cm$^2$)',ylabel=r'w (Hz/cm$^2$)',fontsize=fontsize)#,use_loglog=True)\n",
    "# plt.legend(fontsize=16,frameon=False,loc='upper left')\n",
    "# plt.legend(fontsize=14,frameon=False,loc='upper left')\n",
    "plt.legend(fontsize=14,frameon=False,loc='lower right')\n",
    "# AddLegend(loc='upper left')\n",
    "ax.set_xscale('log')\n",
    "ax.set_yscale('log')\n",
    "ax.set_ylim((0.0023641776732192935, 25.08908114695242))\n",
    "ax.tick_params(top=True, right=True,direction='in',which='both')\n",
    "ax.set_title('Linear Particle Model',fontsize=fontsize)\n",
    "plt.show()"
   ]
  },
  {
   "cell_type": "code",
   "execution_count": 37,
   "id": "d1d1ec3a",
   "metadata": {
    "ExecuteTime": {
     "end_time": "2025-07-10T16:04:34.874240Z",
     "start_time": "2025-07-10T16:04:34.580557Z"
    },
    "scrolled": true
   },
   "outputs": [
    {
     "data": {
      "image/png": "[encoded data removed]",
      "text/plain": [
       "<Figure size 500x400 with 1 Axes>"
      ]
     },
     "metadata": {},
     "output_type": "display_data"
    }
   ],
   "source": [
    "# fig,ax=plt.subplots()\n",
    "fig,ax=plt.subplots(figsize=(5,4))\n",
    "fontsize=16\n",
    "# fontsize=20\n",
    "alpha=0.9\n",
    "col_ext = '_a'\n",
    "col_ext = '_h'\n",
    "maxnold=12\n",
    "# df_birth_fk.plot(x='q',y='w',ax=ax,c='C0',alpha=0.5,label=r'FK: N$\\rightarrow$N+2',lw=4)\n",
    "# fk.plot(x='q',y='w',ax=ax,c='C0',label=r'FK: N$\\rightarrow$N-2',lw=4)\n",
    "# df_birth_lr.plot(x='q',y='w',ax=ax,c='C1',alpha=0.5,label=r'LR: N$\\rightarrow$N+2',lw=4)\n",
    "# lr.plot(x='q',y='w',ax=ax,c='C1',label=r'LR: N$\\rightarrow$N-2',lw=4)\n",
    "markersize=30\n",
    "df_fk_lpm[df_fk_lpm['nold']<=maxnold].plot.scatter(x='q',y='wp'+col_ext,ax=ax,c='C0',#'gray',#\n",
    "                         marker='^',\n",
    "                         alpha=1.,label=r'FK: N$\\rightarrow$N+2',s=markersize)\n",
    "df_fk_lpm[df_fk_lpm['nold']<=maxnold].plot.scatter(x='q',y='wm'+col_ext,ax=ax,c='C0',label=r'FK: N$\\rightarrow$N-2',s=markersize)\n",
    "df_lr_lpm[df_lr_lpm['nold']<=maxnold].plot.scatter(x='q',y='wp'+col_ext,ax=ax,c='C1',#'r',#\n",
    "                        marker='^',\n",
    "                         alpha=1.,label=r'LR: N$\\rightarrow$N+2',s=markersize)\n",
    "df_lr_lpm[df_lr_lpm['nold']<=maxnold].plot.scatter(x='q',y='wm'+col_ext,ax=ax,c='C1',label=r'LR: N$\\rightarrow$N-2',s=markersize)\n",
    "\n",
    "\n",
    "#plot the powerlaw fits\n",
    "ax.plot(xv,yv_death_fk,'k--',alpha=0.5)\n",
    "ax.plot(xv,yv_death_lr,'k--',alpha=0.5)\n",
    "ax.plot(xv,yv_birth_fk,'k--',alpha=0.5)\n",
    "ax.plot(xv,yv_birth_lr,'k--',alpha=0.5)\n",
    "\n",
    "#draw vertical dotted line up to the intersection point for both of the full models\n",
    "ax.scatter([qstar_fk],[wstar_fk],c='k',s=40,alpha=0.9,zorder=100)\n",
    "ax.scatter([qstar_lr],[wstar_lr],c='k',s=40,alpha=0.9,zorder=100)\n",
    "# ax.plot([qstar_fk,qstar_fk],[0.001,wstar_fk],'k:',alpha=0.9)\n",
    "# ax.plot([qstar_lr,qstar_lr],[0.001,wstar_lr],'k:',alpha=0.9)\n",
    "\n",
    "\n",
    "# format_plot\n",
    "format_plot(ax=ax,xlabel=r'n (1/cm$^2$)',ylabel=r'w (Hz/cm$^2$)',fontsize=fontsize)#,use_loglog=True)\n",
    "# format_plot(ax=ax,xlabel=r'q (1/cm$^2$)',ylabel=r'w (Hz/cm$^2$)',fontsize=fontsize)#,use_loglog=True)\n",
    "# plt.legend(fontsize=16,frameon=False,loc='upper left')\n",
    "# plt.legend(fontsize=14,frameon=False,loc='upper left')\n",
    "plt.legend(fontsize=14,frameon=False,loc='lower right')\n",
    "# AddLegend(loc='upper left')\n",
    "ax.set_xscale('log')\n",
    "ax.set_yscale('log')\n",
    "ax.set_ylim((0.0023641776732192935, 25.08908114695242))\n",
    "ax.tick_params(top=True, right=True,direction='in',which='both')\n",
    "ax.set_title('Linear Particle Model',fontsize=fontsize)\n",
    "plt.show()"
   ]
  },
  {
   "cell_type": "code",
   "execution_count": 38,
   "id": "0778e4f8",
   "metadata": {
    "ExecuteTime": {
     "end_time": "2025-07-10T16:04:34.886878Z",
     "start_time": "2025-07-10T16:04:34.875216Z"
    }
   },
   "outputs": [
    {
     "name": "stdout",
     "output_type": "stream",
     "text": [
      "Particle Fit to FK (L=6.25 cm):\n",
      "        q      wp_h      wm_h      wp_a      wm_a\n",
      "0  0.0512  0.451046  0.394400  1.837209  1.531454\n",
      "1  0.1024  0.595957  0.527255  2.259706  2.032054\n",
      "2  0.1536  0.749241  0.671699  2.684838  2.367275\n",
      "3  0.2048  0.920998  0.831087  3.122585  2.762036\n",
      "4  0.2560  1.117972  1.008496  3.569769  3.188979\n",
      "5  0.3072  1.337686  1.205121  4.047381  3.642846\n",
      "\n",
      "Particle Fit to LR (L=7.5 cm):\n",
      "          q      wp_h      wm_h      wp_a      wm_a\n",
      "0  0.035556  0.350022  0.275559  1.366485  1.144303\n",
      "1  0.071111  0.682026  0.577198  2.259103  1.863610\n",
      "2  0.106667  1.065175  0.895071  3.068045  2.599508\n",
      "3  0.142222  1.462616  1.242869  3.830898  3.332607\n",
      "4  0.177778  1.877138  1.612056  4.560030  4.030729\n",
      "5  0.213333  2.282898  2.004698  5.216098  4.725733\n"
     ]
    }
   ],
   "source": [
    "print(\"Particle Fit to FK (L=6.25 cm):\")\n",
    "print(df_fk_lpm[['q','wp_h','wm_h','wp_a','wm_a']].dropna().reset_index(drop=True))\n",
    "print()\n",
    "print(\"Particle Fit to LR (L=7.5 cm):\")\n",
    "print(df_lr_lpm[['q','wp_h','wm_h','wp_a','wm_a']].dropna().reset_index(drop=True))"
   ]
  },
  {
   "cell_type": "markdown",
   "id": "6409fc08",
   "metadata": {},
   "source": [
    "# TODO: compute from event to event instead of the really fast 1/dur_s"
   ]
  },
  {
   "cell_type": "code",
   "execution_count": 39,
   "id": "5b032e09",
   "metadata": {
    "ExecuteTime": {
     "end_time": "2025-07-10T16:04:34.889081Z",
     "start_time": "2025-07-10T16:04:34.887714Z"
    }
   },
   "outputs": [],
   "source": [
    "# # %%time\n",
    "# dfn = dfn_lr.copy()\n",
    "# # dfn = dfn_lr.head(10000000).copy()\n",
    "# dfn['A'] = dfn['L'] ** 2 #cm^2\n",
    "# dictm = dict()\n",
    "# dictp = dict()\n",
    "# for i,row in dfn.iterrows():\n",
    "#     pass\n",
    "# row"
   ]
  },
  {
   "cell_type": "code",
   "execution_count": 40,
   "id": "4a49f995",
   "metadata": {
    "ExecuteTime": {
     "end_time": "2025-07-10T16:04:34.891467Z",
     "start_time": "2025-07-10T16:04:34.889751Z"
    }
   },
   "outputs": [],
   "source": [
    "# init_w_dur = False\n",
    "# dictm=dict()\n",
    "# dictp=dict()\n",
    "# dictm_count=dict()\n",
    "# dictp_count=dict()\n",
    "# for i,row in _lr.iterrows():\n",
    "#     nold = row['nold']\n",
    "#     nnew = row['nnew']\n",
    "#     dur = row['dur_s']\n",
    "#     #create entries for new nold values\n",
    "#     if nold not in dictm.keys():\n",
    "#         dictm[nold]=[]\n",
    "#         dictm_count[nold]=0.\n",
    "#     if nold not in dictp.keys():\n",
    "#         dictp[nold]=[]\n",
    "#         dictp_count[nold]=0.\n",
    "        \n",
    "#     if ??"
   ]
  },
  {
   "cell_type": "code",
   "execution_count": 41,
   "id": "739c85b6",
   "metadata": {
    "ExecuteTime": {
     "end_time": "2025-07-10T16:04:34.893862Z",
     "start_time": "2025-07-10T16:04:34.892351Z"
    }
   },
   "outputs": [],
   "source": [
    "init_w_dur = False\n",
    "# init_w_dur = True"
   ]
  },
  {
   "cell_type": "code",
   "execution_count": 42,
   "id": "de067ed9",
   "metadata": {
    "ExecuteTime": {
     "end_time": "2025-07-10T16:05:27.873494Z",
     "start_time": "2025-07-10T16:04:34.894663Z"
    }
   },
   "outputs": [],
   "source": [
    "dictb_lst = []\n",
    "dictd_lst = []\n",
    "# for _fk,L in zip(lst_fk,lst_fk_L):\n",
    "#     pass\n",
    "for df,L in zip(lst_lr,lst_lr_L):\n",
    "    for i in range(8):\n",
    "        nold = 2*i\n",
    "        dur_lst_b = extract_transition_times_event2event(df,nold=nold,nnew=nold+2, init_w_dur = init_w_dur)\n",
    "        dur_lst_d = extract_transition_times_event2event(df,nold=nold,nnew=nold-2, init_w_dur = init_w_dur)\n",
    "        for dur in dur_lst_b:\n",
    "            dictb_lst.append(dict(\n",
    "                nold=nold,\n",
    "                nnew=nold+2,\n",
    "                dur_s = dur,\n",
    "                L=L,\n",
    "            ))\n",
    "        for dur in dur_lst_d:\n",
    "            dictd_lst.append(dict(\n",
    "                nold=nold,\n",
    "                nnew=nold-2,\n",
    "                dur_s = dur,\n",
    "                L=L,\n",
    "            ))\n",
    "dfn_b_lpm_lr = pd.DataFrame(dictb_lst)\n",
    "dfn_d_lpm_lr = pd.DataFrame(dictd_lst)"
   ]
  },
  {
   "cell_type": "code",
   "execution_count": 43,
   "id": "afb1092e",
   "metadata": {
    "ExecuteTime": {
     "end_time": "2025-07-10T16:20:22.733419Z",
     "start_time": "2025-07-10T16:05:27.874596Z"
    }
   },
   "outputs": [],
   "source": [
    "dictb_lst = []\n",
    "dictd_lst = []\n",
    "for df,L in zip(lst_fk,lst_fk_L):\n",
    "#     pass\n",
    "# for df,L in zip(lst_lr,lst_lr_L):\n",
    "    for i in range(8):\n",
    "        nold = 2*i\n",
    "        dur_lst_b = extract_transition_times_event2event(df,nold=nold,nnew=nold+2, init_w_dur = init_w_dur)\n",
    "        dur_lst_d = extract_transition_times_event2event(df,nold=nold,nnew=nold-2, init_w_dur = init_w_dur)\n",
    "        for dur in dur_lst_b:\n",
    "            dictb_lst.append(dict(\n",
    "                nold=nold,\n",
    "                nnew=nold+2,\n",
    "                dur_s = dur,\n",
    "                L=L,\n",
    "            ))\n",
    "        for dur in dur_lst_d:\n",
    "            dictd_lst.append(dict(\n",
    "                nold=nold,\n",
    "                nnew=nold-2,\n",
    "                dur_s = dur,\n",
    "                L=L,\n",
    "            ))\n",
    "dfn_b_lpm_fk = pd.DataFrame(dictb_lst)\n",
    "dfn_d_lpm_fk = pd.DataFrame(dictd_lst)"
   ]
  },
  {
   "cell_type": "code",
   "execution_count": 44,
   "id": "be1dcfe3",
   "metadata": {
    "ExecuteTime": {
     "end_time": "2025-07-10T16:20:22.741417Z",
     "start_time": "2025-07-10T16:20:22.734341Z"
    }
   },
   "outputs": [
    {
     "data": {
      "text/html": [
       "<div>\n",
       "<style scoped>\n",
       "    .dataframe tbody tr th:only-of-type {\n",
       "        vertical-align: middle;\n",
       "    }\n",
       "\n",
       "    .dataframe tbody tr th {\n",
       "        vertical-align: top;\n",
       "    }\n",
       "\n",
       "    .dataframe thead th {\n",
       "        text-align: right;\n",
       "    }\n",
       "</style>\n",
       "<table border=\"1\" class=\"dataframe\">\n",
       "  <thead>\n",
       "    <tr style=\"text-align: right;\">\n",
       "      <th></th>\n",
       "      <th>nold</th>\n",
       "      <th>nnew</th>\n",
       "      <th>dur_s</th>\n",
       "      <th>L</th>\n",
       "    </tr>\n",
       "  </thead>\n",
       "  <tbody>\n",
       "    <tr>\n",
       "      <th>0</th>\n",
       "      <td>2</td>\n",
       "      <td>4</td>\n",
       "      <td>0.020</td>\n",
       "      <td>6.25</td>\n",
       "    </tr>\n",
       "    <tr>\n",
       "      <th>1</th>\n",
       "      <td>2</td>\n",
       "      <td>4</td>\n",
       "      <td>4.351</td>\n",
       "      <td>6.25</td>\n",
       "    </tr>\n",
       "    <tr>\n",
       "      <th>2</th>\n",
       "      <td>2</td>\n",
       "      <td>4</td>\n",
       "      <td>0.938</td>\n",
       "      <td>6.25</td>\n",
       "    </tr>\n",
       "    <tr>\n",
       "      <th>3</th>\n",
       "      <td>2</td>\n",
       "      <td>4</td>\n",
       "      <td>11.755</td>\n",
       "      <td>6.25</td>\n",
       "    </tr>\n",
       "    <tr>\n",
       "      <th>4</th>\n",
       "      <td>2</td>\n",
       "      <td>4</td>\n",
       "      <td>13.294</td>\n",
       "      <td>6.25</td>\n",
       "    </tr>\n",
       "    <tr>\n",
       "      <th>...</th>\n",
       "      <td>...</td>\n",
       "      <td>...</td>\n",
       "      <td>...</td>\n",
       "      <td>...</td>\n",
       "    </tr>\n",
       "    <tr>\n",
       "      <th>7802672</th>\n",
       "      <td>12</td>\n",
       "      <td>14</td>\n",
       "      <td>0.016</td>\n",
       "      <td>6.25</td>\n",
       "    </tr>\n",
       "    <tr>\n",
       "      <th>7802673</th>\n",
       "      <td>12</td>\n",
       "      <td>14</td>\n",
       "      <td>0.091</td>\n",
       "      <td>6.25</td>\n",
       "    </tr>\n",
       "    <tr>\n",
       "      <th>7802674</th>\n",
       "      <td>12</td>\n",
       "      <td>14</td>\n",
       "      <td>0.020</td>\n",
       "      <td>6.25</td>\n",
       "    </tr>\n",
       "    <tr>\n",
       "      <th>7802675</th>\n",
       "      <td>12</td>\n",
       "      <td>14</td>\n",
       "      <td>0.061</td>\n",
       "      <td>6.25</td>\n",
       "    </tr>\n",
       "    <tr>\n",
       "      <th>7802676</th>\n",
       "      <td>12</td>\n",
       "      <td>14</td>\n",
       "      <td>0.063</td>\n",
       "      <td>6.25</td>\n",
       "    </tr>\n",
       "  </tbody>\n",
       "</table>\n",
       "<p>7802677 rows × 4 columns</p>\n",
       "</div>"
      ],
      "text/plain": [
       "         nold  nnew   dur_s     L\n",
       "0           2     4   0.020  6.25\n",
       "1           2     4   4.351  6.25\n",
       "2           2     4   0.938  6.25\n",
       "3           2     4  11.755  6.25\n",
       "4           2     4  13.294  6.25\n",
       "...       ...   ...     ...   ...\n",
       "7802672    12    14   0.016  6.25\n",
       "7802673    12    14   0.091  6.25\n",
       "7802674    12    14   0.020  6.25\n",
       "7802675    12    14   0.061  6.25\n",
       "7802676    12    14   0.063  6.25\n",
       "\n",
       "[7802677 rows x 4 columns]"
      ]
     },
     "execution_count": 44,
     "metadata": {},
     "output_type": "execute_result"
    }
   ],
   "source": [
    "dfn_b_lpm_fk"
   ]
  },
  {
   "cell_type": "code",
   "execution_count": 45,
   "id": "ef02af24",
   "metadata": {
    "ExecuteTime": {
     "end_time": "2025-07-10T16:20:22.746620Z",
     "start_time": "2025-07-10T16:20:22.742246Z"
    }
   },
   "outputs": [
    {
     "data": {
      "text/html": [
       "<div>\n",
       "<style scoped>\n",
       "    .dataframe tbody tr th:only-of-type {\n",
       "        vertical-align: middle;\n",
       "    }\n",
       "\n",
       "    .dataframe tbody tr th {\n",
       "        vertical-align: top;\n",
       "    }\n",
       "\n",
       "    .dataframe thead th {\n",
       "        text-align: right;\n",
       "    }\n",
       "</style>\n",
       "<table border=\"1\" class=\"dataframe\">\n",
       "  <thead>\n",
       "    <tr style=\"text-align: right;\">\n",
       "      <th></th>\n",
       "      <th>nold</th>\n",
       "      <th>nnew</th>\n",
       "      <th>dur_s</th>\n",
       "      <th>L</th>\n",
       "    </tr>\n",
       "  </thead>\n",
       "  <tbody>\n",
       "    <tr>\n",
       "      <th>0</th>\n",
       "      <td>4</td>\n",
       "      <td>2</td>\n",
       "      <td>0.046</td>\n",
       "      <td>6.25</td>\n",
       "    </tr>\n",
       "    <tr>\n",
       "      <th>1</th>\n",
       "      <td>4</td>\n",
       "      <td>2</td>\n",
       "      <td>4.332</td>\n",
       "      <td>6.25</td>\n",
       "    </tr>\n",
       "    <tr>\n",
       "      <th>2</th>\n",
       "      <td>4</td>\n",
       "      <td>2</td>\n",
       "      <td>0.939</td>\n",
       "      <td>6.25</td>\n",
       "    </tr>\n",
       "    <tr>\n",
       "      <th>3</th>\n",
       "      <td>4</td>\n",
       "      <td>2</td>\n",
       "      <td>11.759</td>\n",
       "      <td>6.25</td>\n",
       "    </tr>\n",
       "    <tr>\n",
       "      <th>4</th>\n",
       "      <td>4</td>\n",
       "      <td>2</td>\n",
       "      <td>13.288</td>\n",
       "      <td>6.25</td>\n",
       "    </tr>\n",
       "    <tr>\n",
       "      <th>...</th>\n",
       "      <td>...</td>\n",
       "      <td>...</td>\n",
       "      <td>...</td>\n",
       "      <td>...</td>\n",
       "    </tr>\n",
       "    <tr>\n",
       "      <th>7805613</th>\n",
       "      <td>14</td>\n",
       "      <td>12</td>\n",
       "      <td>0.038</td>\n",
       "      <td>6.25</td>\n",
       "    </tr>\n",
       "    <tr>\n",
       "      <th>7805614</th>\n",
       "      <td>14</td>\n",
       "      <td>12</td>\n",
       "      <td>0.060</td>\n",
       "      <td>6.25</td>\n",
       "    </tr>\n",
       "    <tr>\n",
       "      <th>7805615</th>\n",
       "      <td>14</td>\n",
       "      <td>12</td>\n",
       "      <td>0.017</td>\n",
       "      <td>6.25</td>\n",
       "    </tr>\n",
       "    <tr>\n",
       "      <th>7805616</th>\n",
       "      <td>14</td>\n",
       "      <td>12</td>\n",
       "      <td>0.100</td>\n",
       "      <td>6.25</td>\n",
       "    </tr>\n",
       "    <tr>\n",
       "      <th>7805617</th>\n",
       "      <td>14</td>\n",
       "      <td>12</td>\n",
       "      <td>0.046</td>\n",
       "      <td>6.25</td>\n",
       "    </tr>\n",
       "  </tbody>\n",
       "</table>\n",
       "<p>7805618 rows × 4 columns</p>\n",
       "</div>"
      ],
      "text/plain": [
       "         nold  nnew   dur_s     L\n",
       "0           4     2   0.046  6.25\n",
       "1           4     2   4.332  6.25\n",
       "2           4     2   0.939  6.25\n",
       "3           4     2  11.759  6.25\n",
       "4           4     2  13.288  6.25\n",
       "...       ...   ...     ...   ...\n",
       "7805613    14    12   0.038  6.25\n",
       "7805614    14    12   0.060  6.25\n",
       "7805615    14    12   0.017  6.25\n",
       "7805616    14    12   0.100  6.25\n",
       "7805617    14    12   0.046  6.25\n",
       "\n",
       "[7805618 rows x 4 columns]"
      ]
     },
     "execution_count": 45,
     "metadata": {},
     "output_type": "execute_result"
    }
   ],
   "source": [
    "dfn_d_lpm_fk"
   ]
  },
  {
   "cell_type": "code",
   "execution_count": 46,
   "id": "6b2f3ea2",
   "metadata": {
    "ExecuteTime": {
     "end_time": "2025-07-10T16:20:23.186555Z",
     "start_time": "2025-07-10T16:20:22.747381Z"
    }
   },
   "outputs": [],
   "source": [
    "#gener w vs q for all dataframes\n",
    "L = dfn_b_lpm_lr['L'].median()\n",
    "dfn = pd.DataFrame(1/dfn_b_lpm_lr.groupby(by='nold')['dur_s'].mean() / L ** 2)\n",
    "dfn.rename(columns={'dur_s':'wp_h'},inplace=True)\n",
    "_dfn = pd.DataFrame(1/dfn_d_lpm_lr.groupby(by='nold')['dur_s'].mean() / L ** 2)\n",
    "_dfn.rename(columns={'dur_s':'wm_h'},inplace=True)\n",
    "dfn['wm_h'] = dfn['wp_h']\n",
    "# (1./dfn_b_lpm_fk.groupby(by='nold')['dur_s']).mean()\n",
    "dfn['q'] = dfn.index / L ** 2\n",
    "# dfn.reset_index(inplace=True)\n",
    "dfn_lpm_lr    =   dfn.copy()\n",
    "\n",
    "dfn = pd.DataFrame(dfn_b_lpm_lr.groupby(by='nold')['dur_s'].mean())\n",
    "# dfn.rename(columns={'dur_s':'wp_h'},inplace=True)\n",
    "_dfn = pd.DataFrame(dfn_d_lpm_lr.groupby(by='nold')['dur_s'].mean())\n",
    "# _dfn.rename(columns={'dur_s':'wm_h'},inplace=True)\n",
    "dfn_lpm_lr['wp_a'] = 1/dfn['dur_s']/L**2\n",
    "dfn_lpm_lr['wm_a'] = 1/_dfn['dur_s']/L**2\n",
    "dfn_lpm_lr.reset_index(inplace=True)\n",
    "\n",
    "\n",
    "\n",
    "\n",
    "#gener w vs q for all dataframes\n",
    "L = dfn_b_lpm_fk['L'].median()\n",
    "dfn = pd.DataFrame(1/dfn_b_lpm_fk.groupby(by='nold')['dur_s'].mean() / L ** 2)\n",
    "dfn.rename(columns={'dur_s':'wp_h'},inplace=True)\n",
    "_dfn = pd.DataFrame(1/dfn_d_lpm_fk.groupby(by='nold')['dur_s'].mean() / L ** 2)\n",
    "_dfn.rename(columns={'dur_s':'wm_h'},inplace=True)\n",
    "dfn['wm_h'] = dfn['wp_h']\n",
    "# (1./dfn_b_lpm_fk.groupby(by='nold')['dur_s']).mean()\n",
    "dfn['q'] = dfn.index / L ** 2\n",
    "# dfn.reset_index(inplace=True)\n",
    "dfn_lpm_fk    =   dfn.copy()\n",
    "\n",
    "dfn = pd.DataFrame(dfn_b_lpm_fk.groupby(by='nold')['dur_s'].mean())\n",
    "# dfn.rename(columns={'dur_s':'wp_h'},inplace=True)\n",
    "_dfn = pd.DataFrame(dfn_d_lpm_fk.groupby(by='nold')['dur_s'].mean())\n",
    "# _dfn.rename(columns={'dur_s':'wm_h'},inplace=True)\n",
    "dfn_lpm_fk['wp_a'] = 1/dfn['dur_s']/L**2\n",
    "dfn_lpm_fk['wm_a'] = 1/_dfn['dur_s']/L**2\n",
    "dfn_lpm_fk.reset_index(inplace=True)\n"
   ]
  },
  {
   "cell_type": "code",
   "execution_count": 47,
   "id": "e864e718",
   "metadata": {
    "ExecuteTime": {
     "end_time": "2025-07-10T16:20:23.459734Z",
     "start_time": "2025-07-10T16:20:23.187580Z"
    }
   },
   "outputs": [
    {
     "data": {
      "image/png": "[encoded data removed]",
      "text/plain": [
       "<Figure size 500x400 with 1 Axes>"
      ]
     },
     "metadata": {},
     "output_type": "display_data"
    }
   ],
   "source": [
    "# fig,ax=plt.subplots()\n",
    "fig,ax=plt.subplots(figsize=(5,4))\n",
    "fontsize=16\n",
    "# fontsize=20\n",
    "alpha=0.9\n",
    "col_ext = '_a'\n",
    "col_ext = '_h'\n",
    "# maxnold=12\n",
    "maxnold=18 \n",
    "# df_birth_fk.plot(x='q',y='w',ax=ax,c='C0',alpha=0.5,label=r'FK: N$\\rightarrow$N+2',lw=4)\n",
    "# fk.plot(x='q',y='w',ax=ax,c='C0',label=r'FK: N$\\rightarrow$N-2',lw=4)\n",
    "# df_birth_lr.plot(x='q',y='w',ax=ax,c='C1',alpha=0.5,label=r'LR: N$\\rightarrow$N+2',lw=4)\n",
    "# lr.plot(x='q',y='w',ax=ax,c='C1',label=r'LR: N$\\rightarrow$N-2',lw=4)\n",
    "markersize=30\n",
    "dfn_lpm_fk[dfn_lpm_fk['nold']<=maxnold].plot.scatter(x='q',y='wp'+col_ext,ax=ax,c='C0',#'gray',#\n",
    "                         marker='^',\n",
    "                         alpha=1.,label=r'FK: N$\\rightarrow$N+2',s=markersize)\n",
    "dfn_lpm_fk[dfn_lpm_fk['nold']<=maxnold].plot.scatter(x='q',y='wm'+col_ext,ax=ax,c='C0',label=r'FK: N$\\rightarrow$N-2',s=markersize)\n",
    "dfn_lpm_lr[dfn_lpm_lr['nold']<=maxnold].plot.scatter(x='q',y='wp'+col_ext,ax=ax,c='C1',#'r',#\n",
    "                        marker='^',\n",
    "                         alpha=1.,label=r'LR: N$\\rightarrow$N+2',s=markersize)\n",
    "dfn_lpm_lr[dfn_lpm_lr['nold']<=maxnold].plot.scatter(x='q',y='wm'+col_ext,ax=ax,c='C1',label=r'LR: N$\\rightarrow$N-2',s=markersize)\n",
    "\n",
    "# df_fk_lpm[df_fk_lpm['nold']<=maxnold].plot.scatter(x='q',y='wp'+col_ext,ax=ax,c='C0',#'gray',#\n",
    "#                          marker='^',\n",
    "#                          alpha=1.,label=r'FK: N$\\rightarrow$N+2',s=markersize)\n",
    "# df_fk_lpm[df_fk_lpm['nold']<=maxnold].plot.scatter(x='q',y='wm'+col_ext,ax=ax,c='C0',label=r'FK: N$\\rightarrow$N-2',s=markersize)\n",
    "# df_lr_lpm[df_lr_lpm['nold']<=maxnold].plot.scatter(x='q',y='wp'+col_ext,ax=ax,c='C1',#'r',#\n",
    "#                         marker='^',\n",
    "#                          alpha=1.,label=r'LR: N$\\rightarrow$N+2',s=markersize)\n",
    "# df_lr_lpm[df_lr_lpm['nold']<=maxnold].plot.scatter(x='q',y='wm'+col_ext,ax=ax,c='C1',label=r'LR: N$\\rightarrow$N-2',s=markersize)\n",
    "\n",
    "\n",
    "#plot the powerlaw fits\n",
    "ax.plot(xv,yv_death_fk,'k--',alpha=0.5)\n",
    "ax.plot(xv,yv_death_lr,'k--',alpha=0.5)\n",
    "ax.plot(xv,yv_birth_fk,'k--',alpha=0.5)\n",
    "ax.plot(xv,yv_birth_lr,'k--',alpha=0.5)\n",
    "\n",
    "#draw vertical dotted line up to the intersection point for both of the full models\n",
    "ax.scatter([qstar_fk],[wstar_fk],c='k',s=40,alpha=0.9,zorder=100)\n",
    "ax.scatter([qstar_lr],[wstar_lr],c='k',s=40,alpha=0.9,zorder=100)\n",
    "# ax.plot([qstar_fk,qstar_fk],[0.001,wstar_fk],'k:',alpha=0.9)\n",
    "# ax.plot([qstar_lr,qstar_lr],[0.001,wstar_lr],'k:',alpha=0.9)\n",
    "\n",
    "\n",
    "# format_plot\n",
    "format_plot(ax=ax,xlabel=r'n (1/cm$^2$)',ylabel=r'w (Hz/cm$^2$)',fontsize=fontsize)#,use_loglog=True)\n",
    "# format_plot(ax=ax,xlabel=r'q (1/cm$^2$)',ylabel=r'w (Hz/cm$^2$)',fontsize=fontsize)#,use_loglog=True)\n",
    "# plt.legend(fontsize=16,frameon=False,loc='upper left')\n",
    "plt.legend(fontsize=14,frameon=False,loc='upper left')\n",
    "# plt.legend(fontsize=14,frameon=False,loc='lower right')\n",
    "# AddLegend(loc='upper left')\n",
    "ax.set_xscale('log')\n",
    "ax.set_yscale('log')\n",
    "ax.set_ylim((0.0023641776732192935, 25.08908114695242))\n",
    "ax.tick_params(top=True, right=True,direction='in',which='both')\n",
    "ax.set_title('Linear Particle Model',fontsize=fontsize)\n",
    "plt.show()"
   ]
  },
  {
   "cell_type": "code",
   "execution_count": 48,
   "id": "38144adb",
   "metadata": {
    "ExecuteTime": {
     "end_time": "2025-07-10T16:20:23.742224Z",
     "start_time": "2025-07-10T16:20:23.460612Z"
    }
   },
   "outputs": [
    {
     "data": {
      "image/png": "[encoded data removed]",
      "text/plain": [
       "<Figure size 500x400 with 1 Axes>"
      ]
     },
     "metadata": {},
     "output_type": "display_data"
    }
   ],
   "source": [
    "# fig,ax=plt.subplots()\n",
    "fig,ax=plt.subplots(figsize=(5,4))\n",
    "fontsize=16\n",
    "# fontsize=20\n",
    "alpha=0.9\n",
    "col_ext = '_a'\n",
    "# col_ext = '_h'\n",
    "# maxnold=12\n",
    "maxnold=18 \n",
    "# df_birth_fk.plot(x='q',y='w',ax=ax,c='C0',alpha=0.5,label=r'FK: N$\\rightarrow$N+2',lw=4)\n",
    "# fk.plot(x='q',y='w',ax=ax,c='C0',label=r'FK: N$\\rightarrow$N-2',lw=4)\n",
    "# df_birth_lr.plot(x='q',y='w',ax=ax,c='C1',alpha=0.5,label=r'LR: N$\\rightarrow$N+2',lw=4)\n",
    "# lr.plot(x='q',y='w',ax=ax,c='C1',label=r'LR: N$\\rightarrow$N-2',lw=4)\n",
    "markersize=30\n",
    "dfn_lpm_fk[dfn_lpm_fk['nold']<=maxnold].plot.scatter(x='q',y='wp'+col_ext,ax=ax,c='C0',#'gray',#\n",
    "                         marker='^',\n",
    "                         alpha=1.,label=r'FK: N$\\rightarrow$N+2',s=markersize)\n",
    "dfn_lpm_fk[dfn_lpm_fk['nold']<=maxnold].plot.scatter(x='q',y='wm'+col_ext,ax=ax,c='C0',label=r'FK: N$\\rightarrow$N-2',s=markersize)\n",
    "dfn_lpm_lr[dfn_lpm_lr['nold']<=maxnold].plot.scatter(x='q',y='wp'+col_ext,ax=ax,c='C1',#'r',#\n",
    "                        marker='^',\n",
    "                         alpha=1.,label=r'LR: N$\\rightarrow$N+2',s=markersize)\n",
    "dfn_lpm_lr[dfn_lpm_lr['nold']<=maxnold].plot.scatter(x='q',y='wm'+col_ext,ax=ax,c='C1',label=r'LR: N$\\rightarrow$N-2',s=markersize)\n",
    "\n",
    "# df_fk_lpm[df_fk_lpm['nold']<=maxnold].plot.scatter(x='q',y='wp'+col_ext,ax=ax,c='C0',#'gray',#\n",
    "#                          marker='^',\n",
    "#                          alpha=1.,label=r'FK: N$\\rightarrow$N+2',s=markersize)\n",
    "# df_fk_lpm[df_fk_lpm['nold']<=maxnold].plot.scatter(x='q',y='wm'+col_ext,ax=ax,c='C0',label=r'FK: N$\\rightarrow$N-2',s=markersize)\n",
    "# df_lr_lpm[df_lr_lpm['nold']<=maxnold].plot.scatter(x='q',y='wp'+col_ext,ax=ax,c='C1',#'r',#\n",
    "#                         marker='^',\n",
    "#                          alpha=1.,label=r'LR: N$\\rightarrow$N+2',s=markersize)\n",
    "# df_lr_lpm[df_lr_lpm['nold']<=maxnold].plot.scatter(x='q',y='wm'+col_ext,ax=ax,c='C1',label=r'LR: N$\\rightarrow$N-2',s=markersize)\n",
    "\n",
    "\n",
    "#plot the powerlaw fits\n",
    "ax.plot(xv,yv_death_fk,'k--',alpha=0.5)\n",
    "ax.plot(xv,yv_death_lr,'k--',alpha=0.5)\n",
    "ax.plot(xv,yv_birth_fk,'k--',alpha=0.5)\n",
    "ax.plot(xv,yv_birth_lr,'k--',alpha=0.5)\n",
    "\n",
    "#draw vertical dotted line up to the intersection point for both of the full models\n",
    "ax.scatter([qstar_fk],[wstar_fk],c='k',s=40,alpha=0.9,zorder=100)\n",
    "ax.scatter([qstar_lr],[wstar_lr],c='k',s=40,alpha=0.9,zorder=100)\n",
    "# ax.plot([qstar_fk,qstar_fk],[0.001,wstar_fk],'k:',alpha=0.9)\n",
    "# ax.plot([qstar_lr,qstar_lr],[0.001,wstar_lr],'k:',alpha=0.9)\n",
    "\n",
    "\n",
    "# format_plot\n",
    "format_plot(ax=ax,xlabel=r'n (1/cm$^2$)',ylabel=r'w (Hz/cm$^2$)',fontsize=fontsize)#,use_loglog=True)\n",
    "# format_plot(ax=ax,xlabel=r'q (1/cm$^2$)',ylabel=r'w (Hz/cm$^2$)',fontsize=fontsize)#,use_loglog=True)\n",
    "# plt.legend(fontsize=16,frameon=False,loc='upper left')\n",
    "plt.legend(fontsize=14,frameon=False,loc='upper left')\n",
    "# plt.legend(fontsize=14,frameon=False,loc='lower right')\n",
    "# AddLegend(loc='upper left')\n",
    "ax.set_xscale('log')\n",
    "ax.set_yscale('log')\n",
    "ax.set_ylim((0.0023641776732192935, 25.08908114695242))\n",
    "ax.tick_params(top=True, right=True,direction='in',which='both')\n",
    "ax.set_title('Linear Particle Model',fontsize=fontsize)\n",
    "plt.show()"
   ]
  },
  {
   "cell_type": "code",
   "execution_count": 49,
   "id": "8dcdd950",
   "metadata": {
    "ExecuteTime": {
     "end_time": "2025-07-10T16:20:23.749175Z",
     "start_time": "2025-07-10T16:20:23.743132Z"
    }
   },
   "outputs": [
    {
     "name": "stdout",
     "output_type": "stream",
     "text": [
      "Particle Fit to FK (L=6.25 cm):\n",
      "        q      wp_h      wm_h      wp_a      wm_a\n",
      "0  0.1024  0.014734  0.014734  0.014734  0.002380\n",
      "1  0.1536  0.045562  0.045562  0.045562  0.014739\n",
      "2  0.2048  0.087832  0.087832  0.087832  0.045569\n",
      "3  0.2560  0.117657  0.117657  0.117657  0.087847\n",
      "4  0.3072  0.119175  0.119175  0.119175  0.117686\n",
      "\n",
      "Particle Fit to LR (L=7.5 cm):\n",
      "          q      wp_h      wm_h      wp_a      wm_a\n",
      "0  0.071111  0.024111  0.024111  0.024111  0.007943\n",
      "1  0.106667  0.042269  0.042269  0.042269  0.023393\n",
      "2  0.142222  0.053710  0.053710  0.053710  0.041489\n",
      "3  0.177778  0.056230  0.056230  0.056230  0.053723\n",
      "4  0.213333  0.049892  0.049892  0.049892  0.056279\n"
     ]
    }
   ],
   "source": [
    "print(\"Particle Fit to FK (L=6.25 cm):\")\n",
    "print(dfn_lpm_fk[['q','wp_h','wm_h','wp_a','wm_a']].dropna().reset_index(drop=True))\n",
    "print()\n",
    "print(\"Particle Fit to LR (L=7.5 cm):\")\n",
    "print(dfn_lpm_lr[['q','wp_h','wm_h','wp_a','wm_a']].dropna().reset_index(drop=True))"
   ]
  },
  {
   "cell_type": "code",
   "execution_count": 50,
   "id": "46e13709",
   "metadata": {
    "ExecuteTime": {
     "end_time": "2025-07-10T16:20:23.752572Z",
     "start_time": "2025-07-10T16:20:23.749988Z"
    }
   },
   "outputs": [
    {
     "name": "stdout",
     "output_type": "stream",
     "text": [
      "        q      wp_a      wm_a\n",
      "0  0.0512  0.002377       NaN\n",
      "1  0.1024  0.014734  0.002380\n",
      "2  0.1536  0.045562  0.014739\n",
      "3  0.2048  0.087832  0.045569\n",
      "4  0.2560  0.117657  0.087847\n",
      "5  0.3072  0.119175  0.117686\n"
     ]
    }
   ],
   "source": [
    "print(dfn_lpm_fk[['q','wp'+col_ext,'wm'+col_ext]])"
   ]
  },
  {
   "cell_type": "code",
   "execution_count": 51,
   "id": "95f8a2a3",
   "metadata": {
    "ExecuteTime": {
     "end_time": "2025-07-10T16:20:24.501010Z",
     "start_time": "2025-07-10T16:20:23.753301Z"
    }
   },
   "outputs": [
    {
     "name": "stdout",
     "output_type": "stream",
     "text": [
      "-n \u0007\n",
      "-n \u0007\n",
      "-n \u0007\n"
     ]
    },
    {
     "data": {
      "text/plain": [
       "0"
      ]
     },
     "execution_count": 51,
     "metadata": {},
     "output_type": "execute_result"
    }
   ],
   "source": [
    "beep(3)"
   ]
  },
  {
   "cell_type": "code",
   "execution_count": 52,
   "id": "e21c68ec",
   "metadata": {
    "ExecuteTime": {
     "end_time": "2025-07-10T16:20:24.508367Z",
     "start_time": "2025-07-10T16:20:24.503148Z"
    }
   },
   "outputs": [],
   "source": [
    "# dfn['rate_Hz'] = 1/dfn['dur_s'] #Hz\n",
    "# dfn['n'] = dfn['nold'] / dfn['A'] #1/cm^2\n",
    "# boobirth = dfn['nnew']>dfn['nold']\n",
    "# boodtwo = (np.abs(dfn['nold']-dfn['nnew'])==2) & ((dfn['nold']%2)==0)\n",
    "# dfn.loc[boobirth&boodtwo,'wp'] = dfn.loc[boobirth,'rate_Hz'] / dfn['A'] #Hz/cm^2\n",
    "# dfn.loc[~boobirth&boodtwo,'wm'] = dfn.loc[~boobirth,'rate_Hz'] / dfn['A'] #Hz/cm^2\n",
    "# #filter by transitions that are ± 2 only\n",
    "# bood2 = np.abs(dfn['nold'] - dfn['nnew'])==2\n",
    "# dict_lst = []\n",
    "# for (nold,A),g in dfn[bood2].groupby(['nold','A']):\n",
    "#     #compute average density and rate densities\n",
    "#     n = nold / A #1/cm^2\n",
    "#     dur_a,wp_a = g[['dur_s','wp']].dropna().mean().values\n",
    "#     wp_h = 1/dur_a / A\n",
    "#     dur_a,wm_a = g[['dur_s','wm']].dropna().mean().values\n",
    "#     wm_h = 1/dur_a / A\n",
    "#     dict_lst.append(dict(\n",
    "#         n\n",
    "# old = nold,\n",
    "#         q = n,\n",
    "#         wp_a = wp_a,\n",
    "#         wm_a = wm_a,\n",
    "#         wp_h = wp_h,\n",
    "#         wm_h = wm_h,\n",
    "#     ))\n",
    "# df_rates = pd.DataFrame(dict_lst); del dict_lst\n",
    "# df_lr_lpm = df_rates.copy()"
   ]
  },
  {
   "cell_type": "code",
   "execution_count": 53,
   "id": "ac98f815",
   "metadata": {
    "ExecuteTime": {
     "end_time": "2025-07-10T16:20:24.513059Z",
     "start_time": "2025-07-10T16:20:24.510459Z"
    }
   },
   "outputs": [],
   "source": [
    "#DONE: compute the difference in rates\n"
   ]
  },
  {
   "cell_type": "code",
   "execution_count": 54,
   "id": "7a3d190e",
   "metadata": {
    "ExecuteTime": {
     "end_time": "2025-07-10T16:20:24.519048Z",
     "start_time": "2025-07-10T16:20:24.515678Z"
    }
   },
   "outputs": [],
   "source": [
    "#GOAL: compare birth death rates of particle model \n",
    "#DONE: cp latest one step method here\n",
    "#DONE: modify it to return N(t) at 1ms increments\n",
    "#DONE: wrap ^that into run_fast_logger.py\n",
    "#DONE: run ^that on the open science grid at L=6.25 cm (FK) and L=7.5 cm (LR)\n",
    "#DONE: do some duolingo.  go to the grocery store.\n",
    "#DONE: cp any/the old plot of the birth death rates of the full models\n",
    "#DONE: work on brendan's thing.\n",
    "#DONE: download results of OSG run.\n",
    "#DONE: separate trials by inputs without L\n",
    "#DONE: concat dfn accross each group\n",
    "#DONE: compute birth death rates of particle model --> df_birth_fk_lpm, df_birth_lr_lpm\n",
    "#DONE: visualize birth death rates of particle model --> like ibid\n",
    "#DONE: compare ibid to full for FK at the largest domain size (L=6.25cm)\n",
    "#DONE: compare ibid to full for LR at the largest domain size (L=7.5cm)"
   ]
  },
  {
   "cell_type": "markdown",
   "id": "f0555be6",
   "metadata": {},
   "source": [
    "# TODO: visualize histograms of durations"
   ]
  },
  {
   "cell_type": "markdown",
   "id": "daa42d3c",
   "metadata": {},
   "source": [
    "# try Gillepsie rate addition"
   ]
  },
  {
   "cell_type": "markdown",
   "id": "aa8a7531",
   "metadata": {
    "ExecuteTime": {
     "end_time": "2025-07-04T19:08:07.941926Z",
     "start_time": "2025-07-04T19:08:07.936027Z"
    }
   },
   "source": [
    "Gillepsie rate addition suggests\n",
    "$$\\mathbb{E}_i[1/T_i(N)]^{-1} = \\frac{1}{W_{+2}(N)+W_{-2}(N)}$$.\n",
    "Thus,\n",
    "$$\n",
    "W_{-2}(N) = \\mathbb{E}_i[1/T_i(N)] - W_{+2}(N)\n",
    "$$.\n",
    "So,\n",
    "$$\n",
    "W_{-2}(N) = \\mathbb{E}_i[1/T_i(N)] - M_+ (N\\times1cm^2/A) ^{\\nu_+}\n",
    "$$."
   ]
  },
  {
   "cell_type": "code",
   "execution_count": 55,
   "id": "ec0cb2b2",
   "metadata": {
    "ExecuteTime": {
     "end_time": "2025-07-10T16:20:24.525904Z",
     "start_time": "2025-07-10T16:20:24.520278Z"
    }
   },
   "outputs": [],
   "source": [
    "dfn = df_fk_lpm.dropna().copy()\n",
    "# dfn = df_lr_lpm.dropna().copy()\n",
    "\n",
    "#FK\n",
    "pargs=seed, Ninitial, 0, 0.85, 0.864, 0.230, chi, 15, 0.457, a, 0.048, 0.131, L, creation_duration, dt\n",
    "seed, Ninitial, Nfinal, R_c_bar, Mp, nup, chi, kappa, r, varkappa, D, r0, L, creation_duration, dt = pargs\n",
    "L = 6.25 # cm^2\n",
    "# #LR\n",
    "# pargs=seed, Ninitial, 0, 1.25, 3.28, 0.715, chi, 75, 0.314, a, 0.42, 0.202, L, creation_duration, dt\n",
    "# seed, Ninitial, Nfinal, R_c_bar, Mp, nup, chi, kappa, r, varkappa, D, r0, L, creation_duration, dt = pargs\n",
    "# L = 7.5 # cm^2\n",
    "\n",
    "dfn['wp'] = Mp*(dfn['q'])**nup # / L ** 2 #known from implementation\n",
    "# dfn['wm'] = dfn['wm_a'] - dfn['wp']\n",
    "dfn['wm'] = dfn['wm_h'] - dfn['wp']\n",
    "dfnfk = dfn.copy()"
   ]
  },
  {
   "cell_type": "code",
   "execution_count": 56,
   "id": "d00a39d9",
   "metadata": {
    "ExecuteTime": {
     "end_time": "2025-07-10T16:20:24.530545Z",
     "start_time": "2025-07-10T16:20:24.526689Z"
    }
   },
   "outputs": [],
   "source": [
    "# dfn = df_fk_lpm.dropna().copy()\n",
    "dfn = df_lr_lpm.dropna().copy()\n",
    "\n",
    "# #FK\n",
    "# pargs=seed, Ninitial, 0, 0.85, 0.864, 0.230, chi, 15, 0.457, a, 0.048, 0.131, L, creation_duration, dt\n",
    "# seed, Ninitial, Nfinal, R_c_bar, Mp, nup, chi, kappa, r, varkappa, D, r0, L, creation_duration, dt = pargs\n",
    "# L = 6.25 # cm^2\n",
    "#LR\n",
    "pargs=seed, Ninitial, 0, 1.25, 3.28, 0.715, chi, 75, 0.314, a, 0.42, 0.202, L, creation_duration, dt\n",
    "seed, Ninitial, Nfinal, R_c_bar, Mp, nup, chi, kappa, r, varkappa, D, r0, L, creation_duration, dt = pargs\n",
    "L = 7.5 # cm^2\n",
    "\n",
    "dfn['wp'] = Mp*(dfn['q'])**nup #/ L ** 2 #known from implementation\n",
    "# dfn['wm'] = dfn['wm_a'] - dfn['wp']\n",
    "dfn['wm'] = dfn['wm_h'] - dfn['wp']\n",
    "dfnlr = dfn.copy()"
   ]
  },
  {
   "cell_type": "code",
   "execution_count": 57,
   "id": "7419558e",
   "metadata": {
    "ExecuteTime": {
     "end_time": "2025-07-10T16:20:24.805314Z",
     "start_time": "2025-07-10T16:20:24.531510Z"
    }
   },
   "outputs": [
    {
     "data": {
      "image/png": "[encoded data removed]",
      "text/plain": [
       "<Figure size 500x400 with 1 Axes>"
      ]
     },
     "metadata": {},
     "output_type": "display_data"
    }
   ],
   "source": [
    "# fig,ax=plt.subplots()\n",
    "fig,ax=plt.subplots(figsize=(5,4))\n",
    "fontsize=16\n",
    "# fontsize=20\n",
    "alpha=0.9\n",
    "# col_ext = '_a'\n",
    "# col_ext = '_h'\n",
    "# maxnold=12\n",
    "maxnold=18 \n",
    "# df_birth_fk.plot(x='q',y='w',ax=ax,c='C0',alpha=0.5,label=r'FK: N$\\rightarrow$N+2',lw=4)\n",
    "# fk.plot(x='q',y='w',ax=ax,c='C0',label=r'FK: N$\\rightarrow$N-2',lw=4)\n",
    "# df_birth_lr.plot(x='q',y='w',ax=ax,c='C1',alpha=0.5,label=r'LR: N$\\rightarrow$N+2',lw=4)\n",
    "# lr.plot(x='q',y='w',ax=ax,c='C1',label=r'LR: N$\\rightarrow$N-2',lw=4)\n",
    "markersize=30\n",
    "dfnfk.plot.scatter(x='q',y='wp',ax=ax,c='C0',#'gray',#\n",
    "                         marker='^',\n",
    "                         alpha=1.,label=r'FK: N$\\rightarrow$N+2',s=markersize)\n",
    "dfnfk.plot.scatter(x='q',y='wm',ax=ax,c='C0',label=r'FK: N$\\rightarrow$N-2',s=markersize)\n",
    "dfnlr.plot.scatter(x='q',y='wp',ax=ax,c='C1',#'r',#\n",
    "                        marker='^',\n",
    "                         alpha=1.,label=r'LR: N$\\rightarrow$N+2',s=markersize)\n",
    "dfnlr.plot.scatter(x='q',y='wm',ax=ax,c='C1',label=r'LR: N$\\rightarrow$N-2',s=markersize)\n",
    "\n",
    "# df_fk_lpm[df_fk_lpm['nold']<=maxnold].plot.scatter(x='q',y='wp'+col_ext,ax=ax,c='C0',#'gray',#\n",
    "#                          marker='^',\n",
    "#                          alpha=1.,label=r'FK: N$\\rightarrow$N+2',s=markersize)\n",
    "# df_fk_lpm[df_fk_lpm['nold']<=maxnold].plot.scatter(x='q',y='wm'+col_ext,ax=ax,c='C0',label=r'FK: N$\\rightarrow$N-2',s=markersize)\n",
    "# df_lr_lpm[df_lr_lpm['nold']<=maxnold].plot.scatter(x='q',y='wp'+col_ext,ax=ax,c='C1',#'r',#\n",
    "#                         marker='^',\n",
    "#                          alpha=1.,label=r'LR: N$\\rightarrow$N+2',s=markersize)\n",
    "# df_lr_lpm[df_lr_lpm['nold']<=maxnold].plot.scatter(x='q',y='wm'+col_ext,ax=ax,c='C1',label=r'LR: N$\\rightarrow$N-2',s=markersize)\n",
    "\n",
    "\n",
    "#plot the powerlaw fits\n",
    "ax.plot(xv,yv_death_fk,'k--',alpha=0.5)\n",
    "ax.plot(xv,yv_death_lr,'k--',alpha=0.5)\n",
    "ax.plot(xv,yv_birth_fk,'k--',alpha=0.5)\n",
    "ax.plot(xv,yv_birth_lr,'k--',alpha=0.5)\n",
    "\n",
    "#draw vertical dotted line up to the intersection point for both of the full models\n",
    "ax.scatter([qstar_fk],[wstar_fk],c='k',s=40,alpha=0.9,zorder=100)\n",
    "ax.scatter([qstar_lr],[wstar_lr],c='k',s=40,alpha=0.9,zorder=100)\n",
    "# ax.plot([qstar_fk,qstar_fk],[0.001,wstar_fk],'k:',alpha=0.9)\n",
    "# ax.plot([qstar_lr,qstar_lr],[0.001,wstar_lr],'k:',alpha=0.9)\n",
    "\n",
    "\n",
    "# format_plot\n",
    "format_plot(ax=ax,xlabel=r'n (1/cm$^2$)',ylabel=r'w (Hz/cm$^2$)',fontsize=fontsize)#,use_loglog=True)\n",
    "# format_plot(ax=ax,xlabel=r'q (1/cm$^2$)',ylabel=r'w (Hz/cm$^2$)',fontsize=fontsize)#,use_loglog=True)\n",
    "# plt.legend(fontsize=16,frameon=False,loc='upper left')\n",
    "plt.legend(fontsize=14,frameon=False,loc='upper left')\n",
    "# plt.legend(fontsize=14,frameon=False,loc='lower right')\n",
    "# AddLegend(loc='upper left')\n",
    "ax.set_xscale('log')\n",
    "ax.set_yscale('log')\n",
    "ax.set_ylim((0.0023641776732192935, 25.08908114695242))\n",
    "ax.tick_params(top=True, right=True,direction='in',which='both')\n",
    "ax.set_title('Linear Particle Model',fontsize=fontsize)\n",
    "plt.show()"
   ]
  },
  {
   "cell_type": "code",
   "execution_count": 58,
   "id": "a1bc4b2a",
   "metadata": {
    "ExecuteTime": {
     "end_time": "2025-07-10T16:20:24.810994Z",
     "start_time": "2025-07-10T16:20:24.806142Z"
    }
   },
   "outputs": [
    {
     "name": "stdout",
     "output_type": "stream",
     "text": [
      "Particle Fit to FK (L=6.25 cm):\n",
      "        q        wp        wm\n",
      "0  0.0512  0.436160 -0.041760\n",
      "1  0.1024  0.511544  0.015712\n",
      "2  0.1536  0.561544  0.110155\n",
      "3  0.2048  0.599956  0.231131\n",
      "4  0.2560  0.631552  0.376944\n",
      "5  0.3072  0.658598  0.546522\n",
      "\n",
      "Particle Fit to LR (L=7.5 cm):\n",
      "          q        wp        wm\n",
      "0  0.035556  0.301837 -0.026278\n",
      "1  0.071111  0.495461  0.081738\n",
      "2  0.106667  0.662086  0.232985\n",
      "3  0.142222  0.813290  0.429579\n",
      "4  0.177778  0.953973  0.658083\n",
      "5  0.213333  1.086803  0.917895\n"
     ]
    }
   ],
   "source": [
    "print(\"Particle Fit to FK (L=6.25 cm):\")\n",
    "print(dfnfk[['q','wp','wm']].dropna().reset_index(drop=True))\n",
    "print()\n",
    "print(\"Particle Fit to LR (L=7.5 cm):\")\n",
    "print(dfnlr[['q','wp','wm']].dropna().reset_index(drop=True))"
   ]
  },
  {
   "cell_type": "code",
   "execution_count": null,
   "id": "921e77b5",
   "metadata": {},
   "outputs": [],
   "source": []
  }
 ],
 "metadata": {
  "kernelspec": {
   "display_name": "Python 3 (ipykernel)",
   "language": "python",
   "name": "python3"
  },
  "language_info": {
   "codemirror_mode": {
    "name": "ipython",
    "version": 3
   },
   "file_extension": ".py",
   "mimetype": "text/x-python",
   "name": "python",
   "nbconvert_exporter": "python",
   "pygments_lexer": "ipython3",
   "version": "3.9.5"
  },
  "toc": {
   "base_numbering": 1,
   "nav_menu": {},
   "number_sections": true,
   "sideBar": true,
   "skip_h1_title": false,
   "title_cell": "Table of Contents",
   "title_sidebar": "Contents",
   "toc_cell": false,
   "toc_position": {},
   "toc_section_display": true,
   "toc_window_display": false
  }
 },
 "nbformat": 4,
 "nbformat_minor": 5
}
