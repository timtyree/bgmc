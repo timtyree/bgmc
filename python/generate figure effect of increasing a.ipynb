{
 "cells": [
  {
   "cell_type": "markdown",
   "metadata": {},
   "source": [
    "# make a figure that shows qualitatively the effect of increasing the attractive force magnitude on mean annihilation rates on a log-log plot\n",
    "Tim Tyree<br>\n",
    "9.20.2021"
   ]
  },
  {
   "cell_type": "code",
   "execution_count": 1,
   "metadata": {
    "ExecuteTime": {
     "end_time": "2021-09-21T17:59:12.108129Z",
     "start_time": "2021-09-21T17:59:10.825841Z"
    }
   },
   "outputs": [],
   "source": [
    "# %matplotlib notebook\n",
    "from lib.my_initialization import *\n",
    "import random,scipy\n",
    "from scipy import stats\n",
    "\n",
    "import random,scipy\n",
    "from scipy.interpolate import LinearNDInterpolator\n",
    "from scipy.interpolate import CloughTocher2DInterpolator\n",
    "import matplotlib as mpl #for colorbar\n",
    "from scipy import stats\n",
    "#DONE: hook this routine up to dask\n",
    "#DONT: hook this routine up to dask_cuda\n",
    "\n",
    "from lib.viewer.gener_q_vs_w_for_df import *\n",
    "\n",
    "from lib.my_initialization import *\n",
    "from lib import *\n",
    "%load_ext autoreload\n",
    "%autoreload 2\n",
    "\n",
    "import numpy as np\n",
    "import pandas as pd\n",
    "import matplotlib.pyplot as plt\n",
    "from ipywidgets import interactive\n",
    "%matplotlib inline\n"
   ]
  },
  {
   "cell_type": "code",
   "execution_count": 2,
   "metadata": {
    "ExecuteTime": {
     "end_time": "2021-09-21T17:59:12.128314Z",
     "start_time": "2021-09-21T17:59:12.109439Z"
    }
   },
   "outputs": [],
   "source": [
    "darkmode=False\n",
    "if darkmode:\n",
    "    # For darkmode plots\n",
    "    from jupyterthemes import jtplot\n",
    "    jtplot.style(theme='monokai', context='notebook', ticks=True, grid=False)"
   ]
  },
  {
   "cell_type": "code",
   "execution_count": 3,
   "metadata": {
    "ExecuteTime": {
     "end_time": "2021-09-21T17:59:12.185993Z",
     "start_time": "2021-09-21T17:59:12.129667Z"
    }
   },
   "outputs": [
    {
     "data": {
      "text/html": [
       "<div>\n",
       "<style scoped>\n",
       "    .dataframe tbody tr th:only-of-type {\n",
       "        vertical-align: middle;\n",
       "    }\n",
       "\n",
       "    .dataframe tbody tr th {\n",
       "        vertical-align: top;\n",
       "    }\n",
       "\n",
       "    .dataframe thead th {\n",
       "        text-align: right;\n",
       "    }\n",
       "</style>\n",
       "<table border=\"1\" class=\"dataframe\">\n",
       "  <thead>\n",
       "    <tr style=\"text-align: right;\">\n",
       "      <th></th>\n",
       "      <th>m</th>\n",
       "      <th>Delta_m</th>\n",
       "      <th>M</th>\n",
       "      <th>Delta_M</th>\n",
       "      <th>Rsq</th>\n",
       "      <th>rmse</th>\n",
       "      <th>rmse_full</th>\n",
       "      <th>model_name_full</th>\n",
       "      <th>q_min</th>\n",
       "      <th>q_max</th>\n",
       "      <th>...</th>\n",
       "      <th>D</th>\n",
       "      <th>varkappa</th>\n",
       "      <th>x0</th>\n",
       "      <th>L</th>\n",
       "      <th>force_code</th>\n",
       "      <th>neighbor</th>\n",
       "      <th>reflect</th>\n",
       "      <th>set_second</th>\n",
       "      <th>no_repulsion</th>\n",
       "      <th>no_attraction</th>\n",
       "    </tr>\n",
       "  </thead>\n",
       "  <tbody>\n",
       "    <tr>\n",
       "      <th>0</th>\n",
       "      <td>1.477497</td>\n",
       "      <td>0.017889</td>\n",
       "      <td>10.233038</td>\n",
       "      <td>0.458553</td>\n",
       "      <td>0.996691</td>\n",
       "      <td>0.254568</td>\n",
       "      <td>2.192560</td>\n",
       "      <td>fk_ncbc</td>\n",
       "      <td>0.1</td>\n",
       "      <td>1.0</td>\n",
       "      <td>...</td>\n",
       "      <td>1.6</td>\n",
       "      <td>9</td>\n",
       "      <td>0</td>\n",
       "      <td>10</td>\n",
       "      <td>2</td>\n",
       "      <td>0</td>\n",
       "      <td>0</td>\n",
       "      <td>0</td>\n",
       "      <td>0</td>\n",
       "      <td>0</td>\n",
       "    </tr>\n",
       "    <tr>\n",
       "      <th>1</th>\n",
       "      <td>1.726534</td>\n",
       "      <td>0.013938</td>\n",
       "      <td>18.451423</td>\n",
       "      <td>0.663628</td>\n",
       "      <td>0.998526</td>\n",
       "      <td>0.252599</td>\n",
       "      <td>0.849591</td>\n",
       "      <td>lr_pbc</td>\n",
       "      <td>0.1</td>\n",
       "      <td>1.0</td>\n",
       "      <td>...</td>\n",
       "      <td>1.0</td>\n",
       "      <td>9</td>\n",
       "      <td>0</td>\n",
       "      <td>10</td>\n",
       "      <td>2</td>\n",
       "      <td>0</td>\n",
       "      <td>1</td>\n",
       "      <td>0</td>\n",
       "      <td>0</td>\n",
       "      <td>0</td>\n",
       "    </tr>\n",
       "    <tr>\n",
       "      <th>2</th>\n",
       "      <td>1.361442</td>\n",
       "      <td>0.010685</td>\n",
       "      <td>34.324471</td>\n",
       "      <td>1.345462</td>\n",
       "      <td>0.998607</td>\n",
       "      <td>0.557511</td>\n",
       "      <td>10.602247</td>\n",
       "      <td>lr_pbc</td>\n",
       "      <td>0.1</td>\n",
       "      <td>1.0</td>\n",
       "      <td>...</td>\n",
       "      <td>1.2</td>\n",
       "      <td>90</td>\n",
       "      <td>0</td>\n",
       "      <td>10</td>\n",
       "      <td>2</td>\n",
       "      <td>0</td>\n",
       "      <td>1</td>\n",
       "      <td>0</td>\n",
       "      <td>0</td>\n",
       "      <td>0</td>\n",
       "    </tr>\n",
       "    <tr>\n",
       "      <th>3</th>\n",
       "      <td>3.050656</td>\n",
       "      <td>0.082928</td>\n",
       "      <td>110.878921</td>\n",
       "      <td>27.313205</td>\n",
       "      <td>0.983541</td>\n",
       "      <td>8.696932</td>\n",
       "      <td>40.571684</td>\n",
       "      <td>lr_pbc</td>\n",
       "      <td>0.1</td>\n",
       "      <td>1.0</td>\n",
       "      <td>...</td>\n",
       "      <td>1.6</td>\n",
       "      <td>1</td>\n",
       "      <td>0</td>\n",
       "      <td>10</td>\n",
       "      <td>2</td>\n",
       "      <td>0</td>\n",
       "      <td>0</td>\n",
       "      <td>0</td>\n",
       "      <td>0</td>\n",
       "      <td>0</td>\n",
       "    </tr>\n",
       "    <tr>\n",
       "      <th>4</th>\n",
       "      <td>1.961670</td>\n",
       "      <td>0.014691</td>\n",
       "      <td>3.008488</td>\n",
       "      <td>0.072870</td>\n",
       "      <td>0.998732</td>\n",
       "      <td>0.053220</td>\n",
       "      <td>1.228204</td>\n",
       "      <td>fk_pbc</td>\n",
       "      <td>0.1</td>\n",
       "      <td>1.0</td>\n",
       "      <td>...</td>\n",
       "      <td>1.9</td>\n",
       "      <td>1</td>\n",
       "      <td>0</td>\n",
       "      <td>10</td>\n",
       "      <td>2</td>\n",
       "      <td>0</td>\n",
       "      <td>0</td>\n",
       "      <td>0</td>\n",
       "      <td>0</td>\n",
       "      <td>0</td>\n",
       "    </tr>\n",
       "  </tbody>\n",
       "</table>\n",
       "<p>5 rows × 22 columns</p>\n",
       "</div>"
      ],
      "text/plain": [
       "          m   Delta_m           M    Delta_M       Rsq      rmse  rmse_full  \\\n",
       "0  1.477497  0.017889   10.233038   0.458553  0.996691  0.254568   2.192560   \n",
       "1  1.726534  0.013938   18.451423   0.663628  0.998526  0.252599   0.849591   \n",
       "2  1.361442  0.010685   34.324471   1.345462  0.998607  0.557511  10.602247   \n",
       "3  3.050656  0.082928  110.878921  27.313205  0.983541  8.696932  40.571684   \n",
       "4  1.961670  0.014691    3.008488   0.072870  0.998732  0.053220   1.228204   \n",
       "\n",
       "  model_name_full  q_min  q_max  ...    D  varkappa  x0   L  force_code  \\\n",
       "0         fk_ncbc    0.1    1.0  ...  1.6         9   0  10           2   \n",
       "1          lr_pbc    0.1    1.0  ...  1.0         9   0  10           2   \n",
       "2          lr_pbc    0.1    1.0  ...  1.2        90   0  10           2   \n",
       "3          lr_pbc    0.1    1.0  ...  1.6         1   0  10           2   \n",
       "4          fk_pbc    0.1    1.0  ...  1.9         1   0  10           2   \n",
       "\n",
       "   neighbor  reflect  set_second  no_repulsion  no_attraction  \n",
       "0         0        0           0             0              0  \n",
       "1         0        1           0             0              0  \n",
       "2         0        1           0             0              0  \n",
       "3         0        0           0             0              0  \n",
       "4         0        0           0             0              0  \n",
       "\n",
       "[5 rows x 22 columns]"
      ]
     },
     "execution_count": 3,
     "metadata": {},
     "output_type": "execute_result"
    }
   ],
   "source": [
    "# input_fn_star=f\"/home/timothytyree/Documents/GitHub/bgmc/python/data/osg_output/run_17_ar_star.csv\"\n",
    "# # input_fn=f\"/home/timothytyree/Documents/GitHub/bgmc/python/data/local_results/black_star_run_1_all_powerlaw_fits.csv\"\n",
    "\n",
    "# df=pd.read_csv(input_fn_star)\n",
    "# #map columns of star df to df\n",
    "# df['varkappa']=df['astar']\n",
    "# df['r']=df['rstar']\n",
    "# df['model_name_full']=df['model_name']\n",
    "# df_star=df.copy()\n",
    "\n",
    "# input_fn=f\"/home/timothytyree/Documents/GitHub/bgmc/python/data/osg_output/run_18_all_powerlaw_fits.csv\"\n",
    "# input_fn=f\"/home/timothytyree/Documents/GitHub/bgmc/python/data/osg_output/run_17_all_powerlaw_fits.csv\"\n",
    "input_fn=f\"/home/timothytyree/Documents/GitHub/bgmc/python/data/osg_output/run_15_all_powerlaw_fits.csv\"\n",
    "df=pd.read_csv(input_fn)\n",
    "df.head()"
   ]
  },
  {
   "cell_type": "code",
   "execution_count": 4,
   "metadata": {
    "ExecuteTime": {
     "end_time": "2021-09-21T17:59:12.209423Z",
     "start_time": "2021-09-21T17:59:12.187434Z"
    }
   },
   "outputs": [],
   "source": [
    "r=0.1\n",
    "kappa=250\n",
    "D=0.7\n",
    "# varkappa_lst=sorted(set(df['varkappa'].values))\n",
    "# varkappa_lst\n",
    "\n",
    "#TODO: extract xy values for kappa, r, D fixed to any value, which I can change later\n",
    "#define constant parameters\n",
    "reflect=0\n",
    "force_code=2\n",
    "set_second=0\n",
    "neighbor=0\n",
    "no_attraction=0\n",
    "no_repulsion=0\n",
    "# kappa=100\n",
    "L=10\n",
    "\n",
    "#template query for the DataFrame\n",
    "query =(df.set_second==set_second)\n",
    "query&=(df.no_repulsion==no_repulsion)&(df.no_attraction==no_attraction)\n",
    "query&=(df.neighbor==neighbor)&(df.force_code==force_code)\n",
    "query&=df.r==r\n",
    "query&=df.kappa==kappa\n",
    "query&=df.D==D\n",
    "query&=df.L==L\n",
    "# query&=df.x0==x0\n",
    "query_template=query.copy()"
   ]
  },
  {
   "cell_type": "code",
   "execution_count": 37,
   "metadata": {
    "ExecuteTime": {
     "end_time": "2021-09-21T18:08:41.617535Z",
     "start_time": "2021-09-21T18:08:41.296484Z"
    }
   },
   "outputs": [
    {
     "data": {
      "image/png": "[encoded data removed]",
      "text/plain": [
       "<Figure size 360x288 with 2 Axes>"
      ]
     },
     "metadata": {
      "needs_background": "light"
     },
     "output_type": "display_data"
    }
   ],
   "source": [
    "num_points = 25\n",
    "c_col = 'rmse_full'\n",
    "vmin = 0.\n",
    "vmax = .25\n",
    "fontsize = 20\n",
    "x1lim = [0, 1]\n",
    "x2lim = [1e-2, 15]\n",
    "# x1lim=[5,10]\n",
    "# x2lim=[50,350]\n",
    "fig, ax = plt.subplots(figsize=(5,4))\n",
    "varkappa_lst = sorted(set(df['varkappa'].values))\n",
    "varkappa_lst = list(reversed([0,1,2,3, 5, 10, 20, 30]))\n",
    "\n",
    "vmin = 0\n",
    "vmax = np.max(varkappa_lst)\n",
    "for varkappa in varkappa_lst:\n",
    "    #extract the data\n",
    "    query = query_template.copy()\n",
    "    query &= df.varkappa == varkappa\n",
    "    M_returned = df.loc[query, 'M'].values\n",
    "    nu_returned = df.loc[query, 'm'].values\n",
    "    #     print((M_returned.shape,nu_returned.shape))  #shows there is a unique fit recalled\n",
    "    M = M_returned[0]\n",
    "    nu = nu_returned[0]\n",
    "    x_values = np.linspace(0, 1, 1000)\n",
    "    y_values = M * x_values**nu\n",
    "    c_values = varkappa + 0. * x_values\n",
    "\n",
    "    #scatter plot\n",
    "    if varkappa==0:\n",
    "        ax.plot(x_values,y_values,c='black',alpha=1.,lw=3)#,s=5)\n",
    "        first_case=False\n",
    "    else:\n",
    "        ax.scatter(x_values,y_values,\n",
    "               c=c_values,cmap='Greens',alpha=0.7,s=5,vmin=vmin,vmax=2*vmax)\n",
    "# title=f'Top {num_points} Trials for {modelname} Model\\n'\n",
    "FormatAxes(ax,\n",
    "           x1lim=x1lim,\n",
    "           x2lim=x2lim,\n",
    "           x1label=r'$q=N/A$ (1/cm$^{2}$)',\n",
    "           x2label=r'$w=W_{-2}/A$ (Hz/cm$^{2}$)',\n",
    "           title=None,\n",
    "           fontsize=fontsize,\n",
    "           use_loglog=False)\n",
    "# cbar=fig.colorbar(cmap='bone', ax=ax, shrink=0.6,label=r'RMSE$_{particle\\;vs\\;full}$')#, location='top'\n",
    "# fig.colorbar(pcm, ax=[axs[0, col]], location='top', shrink=0.6)\n",
    "#     cbar=fig.colorbar(pcm, ax=axs[:, col],shrink=0.6)#,label=output_col)\n",
    "\n",
    "import matplotlib as mpl\n",
    "norm = mpl.colors.Normalize(vmin=vmin, vmax=vmax)\n",
    "cmap = plt.cm.Greens\n",
    "cax = fig.add_axes([0.95, 0.2, 0.02, 0.6])\n",
    "cb = mpl.colorbar.ColorbarBase(cax,\n",
    "                               cmap=cmap,\n",
    "                               norm=norm,\n",
    "                               spacing='proportional')\n",
    "cb.set_label(r'$a$ (cm$^{2}/$s)', fontsize=fontsize)\n",
    "cb.ax.tick_params(labelsize=fontsize)\n",
    "\n",
    "ax.annotate(\"increasing a\", xy=(0.3, 11), xytext=(0.2, 11),fontsize=fontsize)\n",
    "plt.show()"
   ]
  },
  {
   "cell_type": "code",
   "execution_count": 45,
   "metadata": {
    "ExecuteTime": {
     "end_time": "2021-09-21T18:10:43.335389Z",
     "start_time": "2021-09-21T18:10:42.818358Z"
    }
   },
   "outputs": [
    {
     "data": {
      "image/png": "[encoded data removed]",
      "text/plain": [
       "<Figure size 360x288 with 2 Axes>"
      ]
     },
     "metadata": {
      "needs_background": "light"
     },
     "output_type": "display_data"
    }
   ],
   "source": [
    "num_points = 25\n",
    "c_col = 'rmse_full'\n",
    "vmin = 0.\n",
    "vmax = .25\n",
    "fontsize = 20\n",
    "x1lim = [1e-1, 1]\n",
    "x2lim = [1e-2, 25]\n",
    "# x1lim=[5,10]\n",
    "# x2lim=[50,350]\n",
    "fig, ax = plt.subplots(figsize=(5,4))\n",
    "varkappa_lst = sorted(set(df['varkappa'].values))\n",
    "varkappa_lst = list(reversed([0,1,2,3, 5, 10, 20, 30]))\n",
    "\n",
    "vmin = 0\n",
    "vmax = np.max(varkappa_lst)\n",
    "for varkappa in varkappa_lst:\n",
    "    #extract the data\n",
    "    query = query_template.copy()\n",
    "    query &= df.varkappa == varkappa\n",
    "    M_returned = df.loc[query, 'M'].values\n",
    "    nu_returned = df.loc[query, 'm'].values\n",
    "    #     print((M_returned.shape,nu_returned.shape))  #shows there is a unique fit recalled\n",
    "    M = M_returned[0]\n",
    "    nu = nu_returned[0]\n",
    "    x_values = np.linspace(0, 1, 1000)\n",
    "    y_values = M * x_values**nu\n",
    "    c_values = varkappa + 0. * x_values\n",
    "\n",
    "    #scatter plot\n",
    "    if varkappa==0:\n",
    "        ax.plot(x_values,y_values,c='black',alpha=1.,lw=3)#,s=5)\n",
    "        first_case=False\n",
    "    else:\n",
    "        ax.scatter(x_values,y_values,\n",
    "               c=c_values,cmap='Greens',alpha=0.7,s=3,vmin=vmin,vmax=2*vmax)\n",
    "# title=f'Top {num_points} Trials for {modelname} Model\\n'\n",
    "FormatAxes(ax,\n",
    "           x1lim=x1lim,\n",
    "           x2lim=x2lim,\n",
    "           x1label=r'$q$ (1/cm$^{2}$)',#r'$q=N/A$ (1/cm$^{2}$)',\n",
    "           x2label=r'$w$ (Hz/cm$^{2}$)',#r'$w=W_{-2}/A$ (Hz/cm$^{2}$)',\n",
    "           title=None,\n",
    "           fontsize=fontsize,\n",
    "           use_loglog=True)\n",
    "# cbar=fig.colorbar(cmap='bone', ax=ax, shrink=0.6,label=r'RMSE$_{particle\\;vs\\;full}$')#, location='top'\n",
    "# fig.colorbar(pcm, ax=[axs[0, col]], location='top', shrink=0.6)\n",
    "#     cbar=fig.colorbar(pcm, ax=axs[:, col],shrink=0.6)#,label=output_col)\n",
    "\n",
    "import matplotlib as mpl\n",
    "norm = mpl.colors.Normalize(vmin=vmin, vmax=vmax)\n",
    "cmap = plt.cm.Greens\n",
    "cax = fig.add_axes([0.95, 0.2, 0.02, 0.6])\n",
    "cb = mpl.colorbar.ColorbarBase(cax,\n",
    "                               cmap=cmap,\n",
    "                               norm=norm,\n",
    "                               spacing='proportional')\n",
    "cb.set_label(r'$a$ (cm$^{2}/$s)', fontsize=fontsize)\n",
    "cb.ax.tick_params(labelsize=fontsize)\n",
    "\n",
    "ax.annotate(\"increasing a\", xy=(0.3, 11), xytext=(0.15, 10),fontsize=fontsize)\n",
    "plt.show()"
   ]
  },
  {
   "cell_type": "code",
   "execution_count": 33,
   "metadata": {
    "ExecuteTime": {
     "end_time": "2021-09-21T18:07:21.502340Z",
     "start_time": "2021-09-21T18:07:21.460238Z"
    }
   },
   "outputs": [],
   "source": [
    "ax.plot?"
   ]
  },
  {
   "cell_type": "code",
   "execution_count": 6,
   "metadata": {
    "ExecuteTime": {
     "end_time": "2021-09-21T17:59:13.057043Z",
     "start_time": "2021-09-21T17:59:12.725225Z"
    }
   },
   "outputs": [
    {
     "data": {
      "image/png": "[encoded data removed]",
      "text/plain": [
       "<Figure size 360x360 with 2 Axes>"
      ]
     },
     "metadata": {
      "needs_background": "light"
     },
     "output_type": "display_data"
    }
   ],
   "source": [
    "num_points = 25\n",
    "c_col = 'rmse_full'\n",
    "vmin = 0.\n",
    "vmax = .25\n",
    "fontsize = 20\n",
    "x1lim = [0, 1]\n",
    "x2lim = [1e-2, 15]\n",
    "# x1lim=[5,10]\n",
    "# x2lim=[50,350]\n",
    "fig, ax = plt.subplots(figsize=(5,5))\n",
    "varkappa_lst = sorted(set(df['varkappa'].values))\n",
    "varkappa_lst = list(reversed([1, 5, 10, 20, 30]))\n",
    "\n",
    "vmin = 0\n",
    "vmax = np.max(varkappa_lst)\n",
    "for varkappa in varkappa_lst:\n",
    "    #extract the data\n",
    "    query = query_template.copy()\n",
    "    query &= df.varkappa == varkappa\n",
    "    M_returned = df.loc[query, 'M'].values\n",
    "    nu_returned = df.loc[query, 'm'].values\n",
    "    #     print((M_returned.shape,nu_returned.shape))  #shows there is a unique fit recalled\n",
    "    M = M_returned[0]\n",
    "    nu = nu_returned[0]\n",
    "    x_values = np.linspace(0, 1, 1000)\n",
    "    y_values = M * x_values**nu\n",
    "    c_values = varkappa + 0. * x_values\n",
    "\n",
    "    #scatter plot\n",
    "    # ax.scatter(x_values,y_values,c=c_values,cmap='Greens',alpha=0.7,s=50)\n",
    "    ax.scatter(x_values,\n",
    "               y_values,\n",
    "               c=c_values,\n",
    "               cmap='Greens',\n",
    "               alpha=0.7,\n",
    "               s=5,\n",
    "               vmin=vmin,\n",
    "               vmax=vmax)\n",
    "# title=f'Top {num_points} Trials for {modelname} Model\\n'\n",
    "FormatAxes(ax,\n",
    "           x1lim=x1lim,\n",
    "           x2lim=x2lim,\n",
    "           x1label=r'$q=N/A$ (1/cm$^{2}$)',\n",
    "           x2label=r'$w=W_{-2}/A$ (Hz/cm$^{2}$)',\n",
    "           title=None,\n",
    "           fontsize=fontsize,\n",
    "           use_loglog=False)\n",
    "# cbar=fig.colorbar(cmap='bone', ax=ax, shrink=0.6,label=r'RMSE$_{particle\\;vs\\;full}$')#, location='top'\n",
    "# fig.colorbar(pcm, ax=[axs[0, col]], location='top', shrink=0.6)\n",
    "#     cbar=fig.colorbar(pcm, ax=axs[:, col],shrink=0.6)#,label=output_col)\n",
    "\n",
    "import matplotlib as mpl\n",
    "norm = mpl.colors.Normalize(vmin=vmin, vmax=vmax)\n",
    "cmap = plt.cm.Greens\n",
    "cax = fig.add_axes([0.95, 0.2, 0.02, 0.6])\n",
    "cb = mpl.colorbar.ColorbarBase(cax,\n",
    "                               cmap=cmap,\n",
    "                               norm=norm,\n",
    "                               spacing='proportional')\n",
    "cb.set_label(r'$a$ (cm$^{2}/$s)', fontsize=fontsize)\n",
    "cb.ax.tick_params(labelsize=fontsize)\n",
    "\n",
    "#TODO: add an arrow that indicates increasing a\n",
    "arrow = ax.arrow(0.8,\n",
    "                 1,\n",
    "                 -0.5,\n",
    "                 8,\n",
    "#                  label='My label',\n",
    "                 color='w',\n",
    "                 linewidth=4,\n",
    "                 head_width=0.05,\n",
    "                 head_length=1.5,\n",
    "                 length_includes_head=False,\n",
    "                 overhang=-.01,\n",
    "                 head_starts_at_zero=False,\n",
    "                 width=0.005,\n",
    "                capstyle='butt',# 'round', 'projecting'},\n",
    "#                  fill=True\n",
    "                )\n",
    "ax.annotate(\"increasing a\", xy=(0.5, 10), xytext=(0.3, 10), arrowprops=dict(arrowstyle=\"->\"),fontsize=24)\n",
    "plt.show()"
   ]
  },
  {
   "cell_type": "code",
   "execution_count": 7,
   "metadata": {
    "ExecuteTime": {
     "end_time": "2021-09-21T17:59:13.075160Z",
     "start_time": "2021-09-21T17:59:13.059389Z"
    }
   },
   "outputs": [],
   "source": [
    "#TODO: plot a versus M and a versus nu on the same axis\n"
   ]
  },
  {
   "cell_type": "code",
   "execution_count": 8,
   "metadata": {
    "ExecuteTime": {
     "end_time": "2021-09-21T17:59:13.409906Z",
     "start_time": "2021-09-21T17:59:13.076483Z"
    }
   },
   "outputs": [
    {
     "data": {
      "image/png": "[encoded data removed]",
      "text/plain": [
       "<Figure size 360x360 with 2 Axes>"
      ]
     },
     "metadata": {
      "needs_background": "light"
     },
     "output_type": "display_data"
    }
   ],
   "source": [
    "num_points = 25\n",
    "c_col = 'rmse_full'\n",
    "vmin = 0.\n",
    "vmax = .25\n",
    "fontsize = 20\n",
    "x1lim = [0, 1]\n",
    "x2lim = [1e-2, 15]\n",
    "# x1lim=[5,10]\n",
    "# x2lim=[50,350]\n",
    "fig, ax = plt.subplots(figsize=(5,5))\n",
    "varkappa_lst = sorted(set(df['varkappa'].values))\n",
    "varkappa_lst = list(reversed([1, 5, 10, 20, 30]))\n",
    "\n",
    "vmin = 0\n",
    "vmax = np.max(varkappa_lst)\n",
    "for varkappa in varkappa_lst:\n",
    "    #extract the data\n",
    "    query = query_template.copy()\n",
    "    query &= df.varkappa == varkappa\n",
    "    M_returned = df.loc[query, 'M'].values\n",
    "    nu_returned = df.loc[query, 'm'].values\n",
    "    #     print((M_returned.shape,nu_returned.shape))  #shows there is a unique fit recalled\n",
    "    M = M_returned[0]\n",
    "    nu = nu_returned[0]\n",
    "    x_values = np.linspace(0, 1, 1000)\n",
    "    y_values = M * x_values**nu\n",
    "    c_values = varkappa + 0. * x_values\n",
    "\n",
    "    #scatter plot\n",
    "    # ax.scatter(x_values,y_values,c=c_values,cmap='Greens',alpha=0.7,s=50)\n",
    "    ax.scatter(x_values,\n",
    "               y_values,\n",
    "               c=c_values,\n",
    "               cmap='Greens',\n",
    "               alpha=0.7,\n",
    "               s=5,\n",
    "               vmin=vmin,\n",
    "               vmax=vmax)\n",
    "# title=f'Top {num_points} Trials for {modelname} Model\\n'\n",
    "FormatAxes(ax,\n",
    "           x1lim=x1lim,\n",
    "           x2lim=x2lim,\n",
    "           x1label=r'$q=N/A$ (1/cm$^{2}$)',\n",
    "           x2label=r'$w=W_{-2}/A$ (Hz/cm$^{2}$)',\n",
    "           title=None,\n",
    "           fontsize=fontsize,\n",
    "           use_loglog=False)\n",
    "# cbar=fig.colorbar(cmap='bone', ax=ax, shrink=0.6,label=r'RMSE$_{particle\\;vs\\;full}$')#, location='top'\n",
    "# fig.colorbar(pcm, ax=[axs[0, col]], location='top', shrink=0.6)\n",
    "#     cbar=fig.colorbar(pcm, ax=axs[:, col],shrink=0.6)#,label=output_col)\n",
    "\n",
    "import matplotlib as mpl\n",
    "norm = mpl.colors.Normalize(vmin=vmin, vmax=vmax)\n",
    "cmap = plt.cm.Greens\n",
    "cax = fig.add_axes([0.95, 0.2, 0.02, 0.6])\n",
    "cb = mpl.colorbar.ColorbarBase(cax,\n",
    "                               cmap=cmap,\n",
    "                               norm=norm,\n",
    "                               spacing='proportional')\n",
    "cb.set_label(r'$a$ (cm$^{2}/$s)', fontsize=fontsize)\n",
    "cb.ax.tick_params(labelsize=fontsize)\n",
    "\n",
    "#TODO: add an arrow that indicates increasing a\n",
    "arrow = ax.arrow(0.8,\n",
    "                 1,\n",
    "                 -0.5,\n",
    "                 8,\n",
    "#                  label='My label',\n",
    "                 color='w',\n",
    "                 linewidth=4,\n",
    "                 head_width=0.05,\n",
    "                 head_length=1.5,\n",
    "                 length_includes_head=False,\n",
    "                 overhang=-.01,\n",
    "                 head_starts_at_zero=False,\n",
    "                 width=0.005,\n",
    "                capstyle='butt',# 'round', 'projecting'},\n",
    "#                  fill=True\n",
    "                )\n",
    "ax.annotate(\"increasing a\", xy=(0.5, 10), xytext=(0.3, 10), arrowprops=dict(arrowstyle=\"->\"),fontsize=24)\n",
    "plt.show()"
   ]
  },
  {
   "cell_type": "markdown",
   "metadata": {},
   "source": [
    "# plot a versus the power law fit parameters"
   ]
  },
  {
   "cell_type": "code",
   "execution_count": 53,
   "metadata": {
    "ExecuteTime": {
     "end_time": "2021-09-21T18:13:28.905440Z",
     "start_time": "2021-09-21T18:13:28.855437Z"
    }
   },
   "outputs": [
    {
     "data": {
      "text/html": [
       "<div>\n",
       "<style scoped>\n",
       "    .dataframe tbody tr th:only-of-type {\n",
       "        vertical-align: middle;\n",
       "    }\n",
       "\n",
       "    .dataframe tbody tr th {\n",
       "        vertical-align: top;\n",
       "    }\n",
       "\n",
       "    .dataframe thead th {\n",
       "        text-align: right;\n",
       "    }\n",
       "</style>\n",
       "<table border=\"1\" class=\"dataframe\">\n",
       "  <thead>\n",
       "    <tr style=\"text-align: right;\">\n",
       "      <th></th>\n",
       "      <th>m</th>\n",
       "      <th>Delta_m</th>\n",
       "      <th>M</th>\n",
       "      <th>Delta_M</th>\n",
       "      <th>Rsq</th>\n",
       "      <th>rmse</th>\n",
       "      <th>rmse_full</th>\n",
       "      <th>model_name_full</th>\n",
       "      <th>q_min</th>\n",
       "      <th>q_max</th>\n",
       "      <th>...</th>\n",
       "      <th>D</th>\n",
       "      <th>varkappa</th>\n",
       "      <th>x0</th>\n",
       "      <th>L</th>\n",
       "      <th>force_code</th>\n",
       "      <th>neighbor</th>\n",
       "      <th>reflect</th>\n",
       "      <th>set_second</th>\n",
       "      <th>no_repulsion</th>\n",
       "      <th>no_attraction</th>\n",
       "    </tr>\n",
       "  </thead>\n",
       "  <tbody>\n",
       "    <tr>\n",
       "      <th>0</th>\n",
       "      <td>1.477497</td>\n",
       "      <td>0.017889</td>\n",
       "      <td>10.233038</td>\n",
       "      <td>0.458553</td>\n",
       "      <td>0.996691</td>\n",
       "      <td>0.254568</td>\n",
       "      <td>2.192560</td>\n",
       "      <td>fk_ncbc</td>\n",
       "      <td>0.1</td>\n",
       "      <td>1.0</td>\n",
       "      <td>...</td>\n",
       "      <td>1.6</td>\n",
       "      <td>9</td>\n",
       "      <td>0</td>\n",
       "      <td>10</td>\n",
       "      <td>2</td>\n",
       "      <td>0</td>\n",
       "      <td>0</td>\n",
       "      <td>0</td>\n",
       "      <td>0</td>\n",
       "      <td>0</td>\n",
       "    </tr>\n",
       "    <tr>\n",
       "      <th>1</th>\n",
       "      <td>1.726534</td>\n",
       "      <td>0.013938</td>\n",
       "      <td>18.451423</td>\n",
       "      <td>0.663628</td>\n",
       "      <td>0.998526</td>\n",
       "      <td>0.252599</td>\n",
       "      <td>0.849591</td>\n",
       "      <td>lr_pbc</td>\n",
       "      <td>0.1</td>\n",
       "      <td>1.0</td>\n",
       "      <td>...</td>\n",
       "      <td>1.0</td>\n",
       "      <td>9</td>\n",
       "      <td>0</td>\n",
       "      <td>10</td>\n",
       "      <td>2</td>\n",
       "      <td>0</td>\n",
       "      <td>1</td>\n",
       "      <td>0</td>\n",
       "      <td>0</td>\n",
       "      <td>0</td>\n",
       "    </tr>\n",
       "    <tr>\n",
       "      <th>2</th>\n",
       "      <td>1.361442</td>\n",
       "      <td>0.010685</td>\n",
       "      <td>34.324471</td>\n",
       "      <td>1.345462</td>\n",
       "      <td>0.998607</td>\n",
       "      <td>0.557511</td>\n",
       "      <td>10.602247</td>\n",
       "      <td>lr_pbc</td>\n",
       "      <td>0.1</td>\n",
       "      <td>1.0</td>\n",
       "      <td>...</td>\n",
       "      <td>1.2</td>\n",
       "      <td>90</td>\n",
       "      <td>0</td>\n",
       "      <td>10</td>\n",
       "      <td>2</td>\n",
       "      <td>0</td>\n",
       "      <td>1</td>\n",
       "      <td>0</td>\n",
       "      <td>0</td>\n",
       "      <td>0</td>\n",
       "    </tr>\n",
       "    <tr>\n",
       "      <th>3</th>\n",
       "      <td>3.050656</td>\n",
       "      <td>0.082928</td>\n",
       "      <td>110.878921</td>\n",
       "      <td>27.313205</td>\n",
       "      <td>0.983541</td>\n",
       "      <td>8.696932</td>\n",
       "      <td>40.571684</td>\n",
       "      <td>lr_pbc</td>\n",
       "      <td>0.1</td>\n",
       "      <td>1.0</td>\n",
       "      <td>...</td>\n",
       "      <td>1.6</td>\n",
       "      <td>1</td>\n",
       "      <td>0</td>\n",
       "      <td>10</td>\n",
       "      <td>2</td>\n",
       "      <td>0</td>\n",
       "      <td>0</td>\n",
       "      <td>0</td>\n",
       "      <td>0</td>\n",
       "      <td>0</td>\n",
       "    </tr>\n",
       "    <tr>\n",
       "      <th>4</th>\n",
       "      <td>1.961670</td>\n",
       "      <td>0.014691</td>\n",
       "      <td>3.008488</td>\n",
       "      <td>0.072870</td>\n",
       "      <td>0.998732</td>\n",
       "      <td>0.053220</td>\n",
       "      <td>1.228204</td>\n",
       "      <td>fk_pbc</td>\n",
       "      <td>0.1</td>\n",
       "      <td>1.0</td>\n",
       "      <td>...</td>\n",
       "      <td>1.9</td>\n",
       "      <td>1</td>\n",
       "      <td>0</td>\n",
       "      <td>10</td>\n",
       "      <td>2</td>\n",
       "      <td>0</td>\n",
       "      <td>0</td>\n",
       "      <td>0</td>\n",
       "      <td>0</td>\n",
       "      <td>0</td>\n",
       "    </tr>\n",
       "  </tbody>\n",
       "</table>\n",
       "<p>5 rows × 22 columns</p>\n",
       "</div>"
      ],
      "text/plain": [
       "          m   Delta_m           M    Delta_M       Rsq      rmse  rmse_full  \\\n",
       "0  1.477497  0.017889   10.233038   0.458553  0.996691  0.254568   2.192560   \n",
       "1  1.726534  0.013938   18.451423   0.663628  0.998526  0.252599   0.849591   \n",
       "2  1.361442  0.010685   34.324471   1.345462  0.998607  0.557511  10.602247   \n",
       "3  3.050656  0.082928  110.878921  27.313205  0.983541  8.696932  40.571684   \n",
       "4  1.961670  0.014691    3.008488   0.072870  0.998732  0.053220   1.228204   \n",
       "\n",
       "  model_name_full  q_min  q_max  ...    D  varkappa  x0   L  force_code  \\\n",
       "0         fk_ncbc    0.1    1.0  ...  1.6         9   0  10           2   \n",
       "1          lr_pbc    0.1    1.0  ...  1.0         9   0  10           2   \n",
       "2          lr_pbc    0.1    1.0  ...  1.2        90   0  10           2   \n",
       "3          lr_pbc    0.1    1.0  ...  1.6         1   0  10           2   \n",
       "4          fk_pbc    0.1    1.0  ...  1.9         1   0  10           2   \n",
       "\n",
       "   neighbor  reflect  set_second  no_repulsion  no_attraction  \n",
       "0         0        0           0             0              0  \n",
       "1         0        1           0             0              0  \n",
       "2         0        1           0             0              0  \n",
       "3         0        0           0             0              0  \n",
       "4         0        0           0             0              0  \n",
       "\n",
       "[5 rows x 22 columns]"
      ]
     },
     "execution_count": 53,
     "metadata": {},
     "output_type": "execute_result"
    }
   ],
   "source": [
    "# input_fn_star=f\"/home/timothytyree/Documents/GitHub/bgmc/python/data/osg_output/run_17_ar_star.csv\"\n",
    "# # input_fn=f\"/home/timothytyree/Documents/GitHub/bgmc/python/data/local_results/black_star_run_1_all_powerlaw_fits.csv\"\n",
    "\n",
    "# df=pd.read_csv(input_fn_star)\n",
    "# #map columns of star df to df\n",
    "# df['varkappa']=df['astar']\n",
    "# df['r']=df['rstar']\n",
    "# df['model_name_full']=df['model_name']\n",
    "# df_star=df.copy()\n",
    "\n",
    "# input_fn=f\"/home/timothytyree/Documents/GitHub/bgmc/python/data/osg_output/run_18_all_powerlaw_fits.csv\"\n",
    "# input_fn=f\"/home/timothytyree/Documents/GitHub/bgmc/python/data/osg_output/run_17_all_powerlaw_fits.csv\"\n",
    "input_fn=f\"/home/timothytyree/Documents/GitHub/bgmc/python/data/osg_output/run_15_all_powerlaw_fits.csv\"\n",
    "df=pd.read_csv(input_fn)\n",
    "df.head()"
   ]
  },
  {
   "cell_type": "code",
   "execution_count": 54,
   "metadata": {
    "ExecuteTime": {
     "end_time": "2021-09-21T18:13:30.009395Z",
     "start_time": "2021-09-21T18:13:29.960443Z"
    }
   },
   "outputs": [],
   "source": [
    "r=0.1\n",
    "kappa=250\n",
    "D=0.7\n",
    "# varkappa_lst=sorted(set(df['varkappa'].values))\n",
    "# varkappa_lst\n",
    "\n",
    "#TODO: extract xy values for kappa, r, D fixed to any value, which I can change later\n",
    "#define constant parameters\n",
    "reflect=0\n",
    "force_code=2\n",
    "set_second=0\n",
    "neighbor=0\n",
    "no_attraction=0\n",
    "no_repulsion=0\n",
    "# kappa=100\n",
    "L=10\n",
    "\n",
    "#template query for the DataFrame\n",
    "query =(df.set_second==set_second)\n",
    "query&=(df.no_repulsion==no_repulsion)&(df.no_attraction==no_attraction)\n",
    "query&=(df.neighbor==neighbor)&(df.force_code==force_code)\n",
    "query&=df.r==r\n",
    "query&=df.kappa==kappa\n",
    "query&=df.D==D\n",
    "query&=df.L==L\n",
    "# query&=df.x0==x0\n",
    "query_template=query.copy()"
   ]
  },
  {
   "cell_type": "code",
   "execution_count": 55,
   "metadata": {
    "ExecuteTime": {
     "end_time": "2021-09-21T18:13:31.350823Z",
     "start_time": "2021-09-21T18:13:31.311128Z"
    }
   },
   "outputs": [],
   "source": [
    "#extract the data\n",
    "varkappa_lst = sorted(set(df['varkappa'].values))\n",
    "M_lst=[];nu_lst=[]\n",
    "Delta_M_lst=[];Delta_nu_lst=[]\n",
    "for varkappa in varkappa_lst:\n",
    "    #extract the data\n",
    "    query = query_template.copy()\n",
    "    query &= df.varkappa == varkappa\n",
    "    M_returned = df.loc[query, 'M'].values\n",
    "    nu_returned = df.loc[query, 'm'].values\n",
    "    Delta_M = df.loc[query, 'Delta_M'].values[:1]\n",
    "    Delta_nu = df.loc[query, 'Delta_m'].values[:1]\n",
    "    #     print((M_returned.shape,nu_returned.shape))  #shows there is a unique fit recalled\n",
    "    M = M_returned[0]\n",
    "    nu = nu_returned[0]\n",
    "    M_lst.append(M)\n",
    "    nu_lst.append(nu)\n",
    "    Delta_M_lst.append(Delta_M)\n",
    "    Delta_nu_lst.append(Delta_nu)\n",
    "    \n",
    "M_values=np.array(M_lst)\n",
    "nu_values=np.array(nu_lst)\n",
    "Delta_M_values=np.array(Delta_M_lst).flatten()\n",
    "Delta_nu_values=np.array(Delta_nu_lst).flatten()"
   ]
  },
  {
   "cell_type": "code",
   "execution_count": 93,
   "metadata": {
    "ExecuteTime": {
     "end_time": "2021-09-21T18:32:25.329588Z",
     "start_time": "2021-09-21T18:32:24.977207Z"
    }
   },
   "outputs": [
    {
     "data": {
      "image/png": "[encoded data removed]",
      "text/plain": [
       "<Figure size 360x288 with 2 Axes>"
      ]
     },
     "metadata": {
      "needs_background": "light"
     },
     "output_type": "display_data"
    },
    {
     "name": "stdout",
     "output_type": "stream",
     "text": [
      "for D=0.7, kappa=250, r=0.1 fixed,\n",
      "the powerlaw OLS fit for loglog of M versus a\n",
      "m=0.34662844685683697\n",
      "Delta_m=0.007544034420649642\n",
      "b=1.5430792099954873\n",
      "Delta_b=0.023831286783598894\n",
      "Rsquared=0.9972947153026107\n"
     ]
    }
   ],
   "source": [
    "num_points = 25\n",
    "c_col = 'rmse_full'\n",
    "vmin = 0.\n",
    "vmax = .25\n",
    "fontsize = 20\n",
    "x1lim = [9e-1, 100]\n",
    "x2lim = [1e-0, 100]\n",
    "y2lim = [1.3,2.3]\n",
    "x_values=np.array(varkappa_lst)\n",
    "\n",
    "fig, ax = plt.subplots(1, sharex=True,figsize=(5,4))\n",
    "ax_twin = ax.twinx() # Create twin axis for the first subplot\n",
    "\n",
    "\n",
    "x_values=np.array(varkappa_lst)\n",
    "y_values=M_values\n",
    "yerr_values=Delta_M_values\n",
    "PlotErrorBarScatter(ax, x_values, y_values, yerr_values, title=None, title_fontsize=fontsize, label=None, alpha=0.5, c='k', markersize=3, elinewidth=4, capsize=3)\n",
    "\n",
    "dict_out=compute_95CI_ols(np.log(x_values[1:]),np.log(y_values[1:]))\n",
    "# yhat_values=np.exp(dict_out['m']*np.log(x_values)+dict_out['b'])\n",
    "yhat_values=x_values**dict_out['m']*np.exp(dict_out['b'])#/dict_out['m'])\n",
    "\n",
    "\n",
    "ax.plot(x_values,yhat_values,c='k',lw=2)\n",
    "\n",
    "# ax.fill_between(x_values,M_values+Delta_M_values,M_values-Delta_M_values,'g-',lw=3)\n",
    "# ax_twin.plot(x_values,nu_lst,'g--',lw=3)\n",
    "\n",
    "x_values=np.array(varkappa_lst)\n",
    "y_values=nu_values\n",
    "yerr_values=Delta_nu_values\n",
    "PlotErrorBarScatter(ax_twin, x_values, y_values, yerr_values, title=None, title_fontsize=fontsize, label=None, alpha=0.5, c='C4', markersize=3, elinewidth=4, capsize=3)\n",
    "ax_twin.plot(x_values,nu_values,c='C4',lw=3)\n",
    "ax_twin.plot(x_values,2+0.*nu_values,'--',c='C4',lw=3)\n",
    "\n",
    "FormatAxes(ax,\n",
    "           x1lim=x1lim,\n",
    "           x2lim=x2lim,\n",
    "           x1label=r'$a$ (cm$^{2}/s$)',\n",
    "           x2label=r'$M$ (cm$^{2(\\nu-1)}/s$)',\n",
    "           title=None,\n",
    "           fontsize=fontsize,\n",
    "           use_loglog=True)\n",
    "# ax_twin.set_yscale('log')\n",
    "ax_twin.spines['right'].set_color('C4')\n",
    "ax_twin.tick_params(axis='both', which='major', labelsize=fontsize)#,**kwargs)\n",
    "ax_twin.tick_params(axis='both', which='minor', labelsize=0)#,**kwargs)\n",
    "ax_twin.set_ylabel(r'$\\nu$', fontsize=fontsize)\n",
    "ax_twin.tick_params(axis='y', colors='C4')\n",
    "ax_twin.yaxis.label.set_color('C4')\n",
    "ax_twin.set_ylim(y2lim)\n",
    "\n",
    "plt.show()\n",
    "print(f'for D={D}, kappa={kappa}, r={r} fixed,')\n",
    "print('the powerlaw OLS fit for loglog of M versus a')\n",
    "print_dict(dict_out)"
   ]
  },
  {
   "cell_type": "code",
   "execution_count": 59,
   "metadata": {
    "ExecuteTime": {
     "end_time": "2021-09-21T18:14:27.486696Z",
     "start_time": "2021-09-21T18:14:27.461186Z"
    }
   },
   "outputs": [
    {
     "name": "stdout",
     "output_type": "stream",
     "text": [
      "((25,), (25,), (25,))\n"
     ]
    },
    {
     "data": {
      "text/plain": [
       "True"
      ]
     },
     "execution_count": 59,
     "metadata": {},
     "output_type": "execute_result"
    }
   ],
   "source": []
  },
  {
   "cell_type": "code",
   "execution_count": 17,
   "metadata": {
    "ExecuteTime": {
     "end_time": "2021-09-21T18:00:05.028099Z",
     "start_time": "2021-09-21T18:00:05.000841Z"
    }
   },
   "outputs": [
    {
     "name": "stdout",
     "output_type": "stream",
     "text": [
      "def format_plot(ax,xlabel,ylabel,fontsize=20,use_loglog=False,**kwargs):\n",
      "    '''format plot formats the matplotlib axis instance, ax,\n",
      "    performing routine formatting to the plot,\n",
      "    labeling the x axis by the string, xlabel and\n",
      "    labeling the y axis by the string, ylabel\n",
      "    '''\n",
      "    if use_loglog:\n",
      "        ax.set_xscale('log')\n",
      "        ax.set_yscale('log')\n",
      "    ax.set_xlabel(xlabel,fontsize=fontsize,**kwargs)\n",
      "    ax.set_ylabel(ylabel,fontsize=fontsize,**kwargs)\n",
      "    ax.tick_params(axis='both', which='major', labelsize=fontsize,**kwargs)\n",
      "    ax.tick_params(axis='both', which='minor', labelsize=0,**kwargs)\n",
      "    return True\n",
      "\n"
     ]
    }
   ],
   "source": [
    "from inspect import getsource\n",
    "print(getsource(format_plot))"
   ]
  },
  {
   "cell_type": "code",
   "execution_count": 79,
   "metadata": {
    "ExecuteTime": {
     "end_time": "2021-09-21T18:26:06.704008Z",
     "start_time": "2021-09-21T18:26:06.685248Z"
    }
   },
   "outputs": [
    {
     "data": {
      "text/plain": [
       "array([nan, nan, nan, nan, nan, nan, nan, nan, nan, nan, nan, nan, nan,\n",
       "       nan, nan, nan, nan, nan, nan, nan, nan, nan, nan, nan, nan])"
      ]
     },
     "execution_count": 79,
     "metadata": {},
     "output_type": "execute_result"
    }
   ],
   "source": [
    "yhat_values"
   ]
  },
  {
   "cell_type": "code",
   "execution_count": null,
   "metadata": {},
   "outputs": [],
   "source": []
  }
 ],
 "metadata": {
  "kernelspec": {
   "display_name": "Python 3",
   "language": "python",
   "name": "python3"
  },
  "language_info": {
   "codemirror_mode": {
    "name": "ipython",
    "version": 3
   },
   "file_extension": ".py",
   "mimetype": "text/x-python",
   "name": "python",
   "nbconvert_exporter": "python",
   "pygments_lexer": "ipython3",
   "version": "3.7.6"
  },
  "toc": {
   "base_numbering": 1,
   "nav_menu": {},
   "number_sections": true,
   "sideBar": true,
   "skip_h1_title": false,
   "title_cell": "Table of Contents",
   "title_sidebar": "Contents",
   "toc_cell": false,
   "toc_position": {},
   "toc_section_display": true,
   "toc_window_display": false
  },
  "varInspector": {
   "cols": {
    "lenName": 16,
    "lenType": 16,
    "lenVar": 40
   },
   "kernels_config": {
    "python": {
     "delete_cmd_postfix": "",
     "delete_cmd_prefix": "del ",
     "library": "var_list.py",
     "varRefreshCmd": "print(var_dic_list())"
    },
    "r": {
     "delete_cmd_postfix": ") ",
     "delete_cmd_prefix": "rm(",
     "library": "var_list.r",
     "varRefreshCmd": "cat(var_dic_list()) "
    }
   },
   "types_to_exclude": [
    "module",
    "function",
    "builtin_function_or_method",
    "instance",
    "_Feature"
   ],
   "window_display": false
  }
 },
 "nbformat": 4,
 "nbformat_minor": 4
}
