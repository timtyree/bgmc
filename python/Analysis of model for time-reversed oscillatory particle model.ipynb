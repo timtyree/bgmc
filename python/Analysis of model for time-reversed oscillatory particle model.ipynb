{
 "cells": [
  {
   "cell_type": "markdown",
   "id": "0e579329",
   "metadata": {},
   "source": [
    "# Analysis of time-reversed model for oscillatory particle attraction\n",
    "Tim Tyree<br>\n",
    "12.13.2021"
   ]
  },
  {
   "cell_type": "code",
   "execution_count": 1,
   "id": "a3bfd534",
   "metadata": {
    "ExecuteTime": {
     "end_time": "2022-01-05T15:01:40.649544Z",
     "start_time": "2022-01-05T15:01:39.228993Z"
    }
   },
   "outputs": [],
   "source": [
    "import numpy as np\n",
    "import time\n",
    "import matplotlib.pyplot as plt\n",
    "from lib import *\n",
    "from scipy.signal import savgol_filter\n",
    "import dask.bag as db\n",
    "from lib.lib_care.measure.bootstrap import bin_and_bootstrap_xy_values_parallel\n",
    "darkmode=False\n",
    "if darkmode:\n",
    "    # For darkmode plots\n",
    "    from jupyterthemes import jtplot\n",
    "    jtplot.style(theme='monokai', context='notebook', ticks=True, grid=False)\n",
    "    \n",
    "seed=42\n",
    "np.random.seed(seed)"
   ]
  },
  {
   "cell_type": "markdown",
   "id": "70ddcacb",
   "metadata": {},
   "source": [
    "For the given phase, $\\phi_0$, and for $t'=t_f-t$, the time-reversed problem is\n",
    "\n",
    "$$\n",
    "\\frac{d\\bar R}{dt'} = \\frac{2a}{\\bar R}\\cos(\\phi'-\\omega t')\n",
    "$$\n",
    "\n",
    "\n",
    "We intend to study numerically the mean-squared range (MSR) versus the time leading up to annihilation in the presence of white-noise.  Our stochastic model is\n",
    "\n",
    "$$\n",
    "d\\bar R = -\\frac{2a}{\\bar R}\\cos(\\omega t)dt + \\sqrt{4D}dW\n",
    "$$\n"
   ]
  },
  {
   "cell_type": "markdown",
   "id": "7e444426",
   "metadata": {},
   "source": [
    "# define module"
   ]
  },
  {
   "cell_type": "code",
   "execution_count": 2,
   "id": "1b2b77bf",
   "metadata": {
    "ExecuteTime": {
     "end_time": "2022-01-05T15:01:40.655418Z",
     "start_time": "2022-01-05T15:01:40.650995Z"
    }
   },
   "outputs": [],
   "source": [
    "# def gener_positions_oscillatory_reversed(\n",
    "#     num_pairs=150, #number of independent pairs of particles\n",
    "#     a=8.5, #cm^2/s known attraction coefficient \n",
    "#     D=0.3, #cm^2/s known diffusion coefficient\n",
    "#     Dt=1e-5, #s\n",
    "#     initial_phase_orientation=0.,#radians\n",
    "#     period_of_oscillation=90.,#ms\n",
    "#     rstart=1e-4,\n",
    "#     rend=4, #cm\n",
    "#     tmax=1,\n",
    "#     printing=False,print_every=50000,\n",
    "#     mode='oscillatory',\n",
    "#     use_early_stopping=True,\n",
    "#     **kwargs\n",
    "#     ):\n",
    "#     '''\n",
    "#     Example Usage:\n",
    "#     dict_out,positions_out=gener_positions_oscillatory_reversed(a=a,D=D,initial_phase_orientation=0.,printing=True)\n",
    "#     '''\n",
    "#     dont_break=True\n",
    "#     #initialize particles locations as being at the same locations\n",
    "#     t=0\n",
    "#     x1=0\n",
    "#     x2=np.sqrt(rstart)\n",
    "#     y1=0\n",
    "#     y2=np.sqrt(rstart)\n",
    "#     zero_values=np.zeros(num_pairs)\n",
    "\n",
    "#     x1_values=zero_values.copy()+x1\n",
    "#     x2_values=zero_values.copy()+x2\n",
    "#     y1_values=zero_values.copy()+y1\n",
    "#     y2_values=zero_values.copy()+y2\n",
    "\n",
    "#     stepscale = np.sqrt(2 * D * Dt)\n",
    "#     impulse_prefactor = a * Dt\n",
    "\n",
    "#     #tmax=1#10#0.1#1 #seconds\n",
    "#     num_steps=np.int64(np.around(tmax/Dt))\n",
    "\n",
    "#     position_array=np.zeros(shape=(num_steps,4,num_pairs))+np.nan\n",
    "#     mean_array=np.zeros(shape=(num_steps,3))\n",
    "#     std_array=np.zeros(shape=(num_steps,3))\n",
    "\n",
    "#     #add support for still_running\n",
    "#     boo_still_running=zero_values==zero_values\n",
    "\n",
    "#     #compute the distance between each pair of particles\n",
    "#     dx_values=(x2_values-x1_values)\n",
    "#     dy_values=(y2_values-y1_values)\n",
    "#     Rsq_values=dx_values*dx_values+dy_values*dy_values\n",
    "#     omega=((1e-3*period_of_oscillation/(2*np.pi))**-1)\n",
    "#     ##enforces the alignment boundary condition. smart, but might be messing up the oscillations\n",
    "#     time_constant=initial_phase_orientation/omega\n",
    "#     #time_constant=0.\n",
    "#     if printing:\n",
    "#         print(f\"running simulation for {num_steps} steps...\")\n",
    "#     start=time.time()\n",
    "#     step_num=0\n",
    "#     while dont_break and (step_num < num_steps):\n",
    "#         t=step_num*Dt + time_constant\n",
    "#         #compute the attractive step between all pairs\n",
    "#         f_values=impulse_prefactor/Rsq_values\n",
    "#         F1x=f_values*dx_values\n",
    "#         F1y=f_values*dy_values\n",
    "#         if mode=='oscillatory':\n",
    "#             F1x*=np.cos(omega*t)\n",
    "#             F1y*=np.cos(omega*t)\n",
    "\n",
    "#         #compute the diffusive step between all pairs\n",
    "#         dxW1_values=stepscale*np.random.normal(size=num_pairs)\n",
    "#         dxW2_values=stepscale*np.random.normal(size=num_pairs)\n",
    "#         dyW1_values=stepscale*np.random.normal(size=num_pairs)\n",
    "#         dyW2_values=stepscale*np.random.normal(size=num_pairs)\n",
    "\n",
    "#         #the mean distance between all pairs of particles\n",
    "#         R_values=np.sqrt(Rsq_values)\n",
    "#         mean_R=np.mean(R_values)\n",
    "#         std_R=np.std(R_values)\n",
    "\n",
    "#         #the mean magnitude of the diffusive step\n",
    "#         diffusive_step_values=0.5*np.sqrt(dxW1_values**2+dyW1_values**2)+0.5*np.sqrt(dxW2_values**2+dyW2_values**2)\n",
    "#         mean_diffusive_step=np.mean(diffusive_step_values)\n",
    "#         std_diffusive_step=np.std(diffusive_step_values)\n",
    "\n",
    "#         #the mean magnitude of the attractive step\n",
    "#         attractive_step_values=np.sqrt(F1x**2+F1y**2)\n",
    "#         mean_attractive_step=np.mean(attractive_step_values)\n",
    "#         std_attractive_step=np.std(attractive_step_values)\n",
    "#         if printing:\n",
    "#             if (step_num+1) % print_every == 0:\n",
    "#                 relative_percent=100*mean_diffusive_step/mean_attractive_step\n",
    "#                 print(f\"simulation {100*(step_num+1)/num_steps:.0f}% completed: R={mean_R:.4f}+/-{1.96*std_R:.4f}, diffusion/attraction is {relative_percent:.2f}%\")\n",
    "#                 # print(f\"the mean range is {mean_R:.4f} cm\")\n",
    "#                 # print(f\"the mean diffusive step was {100*mean_diffusive_step/mean_attractive_step:.2f}% larger than the mean attractive step\")\n",
    "\n",
    "#         #compute the net change in position (with signs chosed s.t. repulsive at zero phase)\n",
    "# #         x1step_values=F1x+dxW1_values\n",
    "# #         y1step_values=F1y+dyW1_values\n",
    "# #         x2step_values=-F1x+dxW2_values\n",
    "# #         y2step_values=-F1y+dyW2_values\n",
    "#         x1step_values=-F1x+dxW1_values\n",
    "#         y1step_values=-F1y+dyW1_values\n",
    "#         x2step_values=F1x+dxW2_values\n",
    "#         y2step_values=F1y+dyW2_values\n",
    "\n",
    "#         #identify any particles that didn't get within the threshold distance\n",
    "#         #compute the distance between each pair of particles\n",
    "#         dx_values=(x2_values-x1_values)\n",
    "#         dy_values=(y2_values-y1_values)\n",
    "#         Rsq_values=dx_values**2+dy_values**2\n",
    "\n",
    "#         #update particle locations if they are still running\n",
    "#         x1_values[boo_still_running]=x1_values[boo_still_running]+x1step_values[boo_still_running]\n",
    "#         y1_values[boo_still_running]=y1_values[boo_still_running]+y1step_values[boo_still_running]\n",
    "#         x2_values[boo_still_running]=x2_values[boo_still_running]+x2step_values[boo_still_running]\n",
    "#         y2_values[boo_still_running]=y2_values[boo_still_running]+y2step_values[boo_still_running]\n",
    "#         #DONE: verified the mean distance between particles got smaller    \n",
    "#         # if (step_count+1) % save_every == 0:\n",
    "#         #save particle locations to a numpy array with the correct number of positions\n",
    "#         # x1,y1,x2,y2\n",
    "#         position_array[step_num,0,boo_still_running]=x1_values[boo_still_running]\n",
    "#         position_array[step_num,1,boo_still_running]=y1_values[boo_still_running]\n",
    "#         position_array[step_num,2,boo_still_running]=x2_values[boo_still_running]\n",
    "#         position_array[step_num,3,boo_still_running]=y2_values[boo_still_running]\n",
    "#         mean_array[step_num,0]=mean_R\n",
    "#         mean_array[step_num,1]=mean_diffusive_step\n",
    "#         mean_array[step_num,2]=mean_attractive_step\n",
    "#         #save results for quick plotting\n",
    "#         std_array[step_num,0]=std_R\n",
    "#         std_array[step_num,1]=std_diffusive_step\n",
    "#         std_array[step_num,2]=std_attractive_step\n",
    "\n",
    "#     #         #identify any particles that didn't get within the threshold distance\n",
    "#     #         #compute the distance between each pair of particles\n",
    "#     #         dx_values=(x2_values-x1_values)\n",
    "#     #         dy_values=(y2_values-y1_values)\n",
    "#     #         Rsq_values=dx_values*dx_values+dy_values*dy_values\n",
    "#         R_values=np.sqrt(Rsq_values)\n",
    "#         boo_still_running=boo_still_running&(R_values<rend)\n",
    "        \n",
    "#         step_num+=1\n",
    "#         if use_early_stopping and not boo_still_running.any():\n",
    "#             dont_break=False\n",
    "#     if printing:\n",
    "#         print(f\"simulation complete!\\nTotal run time: {time.time()-start:.4f} seconds\")\n",
    "#         print(f\"the number of particles that didn't finished is {sum(boo_still_running)} out of {boo_still_running.shape[0]}.\")\n",
    "\n",
    "#     dict_out={\n",
    "#         #         \"Gamma_max\":np.float32(Gamma_max),\n",
    "#         #         \"Gamma_values\":Gamma_values.astype('float32'),\n",
    "#         \"Rsq_values\":Rsq_values.astype('float32'),\n",
    "#         \"mean_array\":mean_array.astype('float32'),\n",
    "#         \"std_array\":std_array.astype('float32')\n",
    "#     }\n",
    "#     if printing:\n",
    "#         print(*dict_out)\n",
    "#         #print_dict(dict_out)\n",
    "#     return dict_out,position_array#positions_out"
   ]
  },
  {
   "cell_type": "code",
   "execution_count": 3,
   "id": "7aa43315",
   "metadata": {
    "ExecuteTime": {
     "end_time": "2022-01-05T15:01:40.666921Z",
     "start_time": "2022-01-05T15:01:40.656588Z"
    }
   },
   "outputs": [],
   "source": [
    "# def visualize_model_oscillatory_reversed(ax=None,\n",
    "#     a=1.6,#8.5,\n",
    "#     D=0.6,#0.3,\n",
    "#     initial_phase_orientation=np.pi,#0#np.pi/2,#-np.pi/2,\n",
    "#     period_of_oscillation=45.,\n",
    "#     num_pairs=1000,\n",
    "#     rstart=1e-4,#1.5,\n",
    "#     Dt=1e-5,\n",
    "#     xmin=0,\n",
    "#     xmax=0.1,\n",
    "#     ymin=0,\n",
    "#     ymax=0.6,\n",
    "#     alpha=0.7,\n",
    "#     show_inputted_a=True,show_title=True,show_legend=True,use_xylim=True,    \n",
    "#     show_label_black_dotted=False,\n",
    "#     printing=True,\n",
    "#     plotting=True,c='C3',label=r\"Simulation\",**kwargs):\n",
    "#     \"\"\"generate MSR using the time-reversed oscillatory model. estimated run time is 15 seconds for 100 statistically independent trials.\n",
    "#     Example Usage:\n",
    "#     dict_fit=visualize_model_oscillatory_reversed(a=1.6,D=0.3,c='C0',label='Fenton-Karma')\n",
    "#     dict_fit=visualize_model_oscillatory_reversed(a=8.5,D=0.6,c='C1',label='Luo-Rudy')\n",
    "#     plt.show()\n",
    "#     \"\"\"\n",
    "#     dict_out,position_array = gener_positions_oscillatory_reversed(\n",
    "#                 a=a, D=D, printing=False,num_pairs=num_pairs,period_of_oscillation=period_of_oscillation,initial_phase_orientation=initial_phase_orientation,**kwargs)\n",
    "#     positions_out=position_array\n",
    "#     if printing:\n",
    "#         print(*dict_out)\n",
    "#         print(f\"positions_out.shape={positions_out.shape}\")\n",
    "\n",
    "#     title=f\"a={a:.1f}, D={D:.1f}, T={period_of_oscillation:.1f}, \"+r\"$\\phi_f$\"+f\"={initial_phase_orientation:.4f}, \"+r\"R$_f$\"+f\"={rstart:.0e}, \"+r\" N$_{trials}$\"+f\"={num_pairs}\\n\"\n",
    "    \n",
    "#     #compute the distance between each pair of particles after aligning by annihilation (unshifted)\n",
    "#     x1_values=positions_out[:,0]\n",
    "#     y1_values=positions_out[:,1]\n",
    "#     x2_values=positions_out[:,2]\n",
    "#     y2_values=positions_out[:,3]\n",
    "#     dx_values=(x2_values-x1_values)\n",
    "#     dy_values=(y2_values-y1_values)\n",
    "#     Rsq_values=dx_values**2+dy_values**2\n",
    "#     #compute the ensemble averaged values\n",
    "#     MSR_values=np.mean(Rsq_values,axis=1)\n",
    "#     aligned_coordinates_values=np.mean(positions_out,axis=-1)\n",
    "#     # maxt=Dt*MSR_values.shape[0]\n",
    "#     t_values=np.arange(MSR_values.shape[0])*Dt\n",
    "#     boo=~(np.isnan(t_values)|np.isnan(MSR_values))\n",
    "#     dict_fit=compute_95CI_ols(t_values[boo],MSR_values[boo])\n",
    "#     if printing:\n",
    "#         print_dict(dict_fit)    \n",
    "#         print(f\"num_samples={positions_out.shape[-1]}\")\n",
    "#         print(f\"num_timepoints={t_values.shape[0]}\")\n",
    "#         print(f\"ahat = {dict_fit['m']/4:.4f}+/-{dict_fit['Delta_m']/4:.4f}\")\n",
    "    \n",
    "#         if ax is None:\n",
    "#             ax=plt.gca()\n",
    "#         xv=np.linspace(xmin,xmax,100)\n",
    "#         if show_inputted_a:\n",
    "#             if show_label_black_dotted:\n",
    "#                 ax.plot(xv,4*a*xv,'k--',label=r'$4a(t_f-t)$')\n",
    "#             else:\n",
    "#                 ax.plot(xv,4*a*xv,'k--')#,label=r'$4a(t_f-t)$')\n",
    "#         if use_xylim:\n",
    "#             ax.set_xlim([xmin,xmax])\n",
    "#             ax.set_ylim([ymin,ymax])\n",
    "#         ax.plot(t_values,MSR_values,c=c,label=label,alpha=alpha)\n",
    "#         if show_title:\n",
    "#             plt.title(title,fontsize=16)\n",
    "#         if show_legend:\n",
    "#             plt.legend(fontsize=16)\n",
    "#         #plt.plot(t_values,t_values*0.,'--',c='gray',alpha=0.5)\n",
    "#     #record\n",
    "#     dict_fit['title']=title\n",
    "#     dict_fit['tdeath']=t_values\n",
    "#     dict_fit['MSR']=MSR_values\n",
    "#     return dict_fit"
   ]
  },
  {
   "cell_type": "markdown",
   "id": "3efd6a9e",
   "metadata": {},
   "source": [
    "# overlay the MSR of the full model over the MSR from the time-reversed oscillatory model"
   ]
  },
  {
   "cell_type": "code",
   "execution_count": 4,
   "id": "50dd9e0b",
   "metadata": {
    "ExecuteTime": {
     "end_time": "2022-01-05T15:01:40.675225Z",
     "start_time": "2022-01-05T15:01:40.668290Z"
    }
   },
   "outputs": [
    {
     "name": "stdout",
     "output_type": "stream",
     "text": [
      "1e-03\n"
     ]
    }
   ],
   "source": [
    "# # dict_fit_lr=visualize_model_oscillatory_reversed(a=8.5,D=0.3,c='C1',label='Luo-Rudy')\n",
    "# dict_fit_fk=visualize_model_oscillatory_reversed(a=1.6,D=0.6,c='C0',label='Fenton-Karma')\n",
    "# dict_fit_lr=visualize_model_oscillatory_reversed(a=8.5,D=0.6,c='C1',label='Luo-Rudy')\n",
    "# format_plot(ax=plt.gca(),xlabel=r'$t_f-t$ (sec)',ylabel=r'MSR (cm$^2$)')\n",
    "# plt.xlim([0,1])\n",
    "# plt.ylim([0,3])\n",
    "# plt.show()\n",
    "print(f\"{1e-3:.0e}\")"
   ]
  },
  {
   "cell_type": "code",
   "execution_count": 5,
   "id": "438cd133",
   "metadata": {
    "ExecuteTime": {
     "end_time": "2022-01-05T15:01:40.687014Z",
     "start_time": "2022-01-05T15:01:40.676437Z"
    }
   },
   "outputs": [],
   "source": [
    "#estimate a_sr expected for this value with a sliding window\n",
    "msr_dir_lr=f'{nb_dir}/data/full_results/msr_lr_boostrapped_tavg2_14.0_n_2083_a_8.6.csv'\n",
    "# msr_dir_lr='/home/timothytyree/Documents/GitHub/bgmc/python/data/full_results/msr_lr_boostrapped_tavg2_14.0_n_2083_a_8.6.csv'\n",
    "# a_LR = 8.5950#+/-0.3771 cm^2/s\n",
    "# tavg2=14 ms, num_samples=2083\n",
    "msr_dir_fk=f'{nb_dir}/data/full_results/msr_fk_boostrapped_tavg2_14.0_n_19087_a_1.6_tmax_300.csv'\n",
    "# msr_dir_fk='/home/timothytyree/Documents/GitHub/bgmc/python/data/full_results/msr_fk_boostrapped_tavg2_14.0_n_19087_a_1.6_tmax_300.csv'\n",
    "# a_FK = 1.604153#+/-0.040173 cm^2/s\n",
    "# tavg2=14 ms, num_samples=19087, tmin=0, tmax=300 ms\n",
    "df_msd_lr=pd.read_csv(msr_dir_lr)\n",
    "x_values_LR=df_msd_lr['tdeath_avg'].values\n",
    "y_values_LR=df_msd_lr['MSR'].values\n",
    "yerr_values_LR=df_msd_lr['Delta_MSR'].values\n",
    "df_msd_fk=pd.read_csv(msr_dir_fk)\n",
    "x_values_FK=df_msd_fk['tdeath_avg'].values\n",
    "y_values_FK=df_msd_fk['MSR'].values\n",
    "yerr_values_FK=df_msd_fk['Delta_MSR'].values"
   ]
  },
  {
   "cell_type": "code",
   "execution_count": 6,
   "id": "aaf442c4",
   "metadata": {
    "ExecuteTime": {
     "end_time": "2022-01-05T15:01:40.698006Z",
     "start_time": "2022-01-05T15:01:40.688566Z"
    }
   },
   "outputs": [
    {
     "name": "stdout",
     "output_type": "stream",
     "text": [
      "a_hat_FK = 1.604153+/-0.040173 cm^2/s, tmax=300\n",
      "Warning: CI not valid for less than 8 data points!\n",
      "a_hat_FK = 7.392251+/-0.601845 cm^2/s, tmax=8\n",
      "\n",
      "a_hat_LR = 2.245111+/-0.224026 cm^2/s, tmax=90\n",
      "a_hat_LR = 8.595018+/-0.377114 cm^2/s, tmax=8\n"
     ]
    }
   ],
   "source": [
    "tmax=300#ms\n",
    "x_values=x_values_FK.copy()\n",
    "y_values=y_values_FK.copy()\n",
    "boo=x_values<tmax #ms\n",
    "dict_a_SR=compute_95CI_ols(x_values[boo],y_values[boo])\n",
    "a_SR=dict_a_SR['m']/4*1e3\n",
    "Delta_a_SR=dict_a_SR['Delta_m']/4*1e3\n",
    "print(f\"a_hat_FK = {a_SR:.6f}+/-{Delta_a_SR:.6f} cm^2/s, tmax={tmax}\")\n",
    "a_hat_FK=a_SR\n",
    "\n",
    "tmax=8#ms\n",
    "x_values=x_values_FK.copy()\n",
    "y_values=y_values_FK.copy()\n",
    "boo=x_values<tmax #ms\n",
    "dict_a_SR=compute_95CI_ols(x_values[boo],y_values[boo])\n",
    "a_SR=dict_a_SR['m']/4*1e3\n",
    "Delta_a_SR=dict_a_SR['Delta_m']/4*1e3\n",
    "print(f\"a_hat_FK = {a_SR:.6f}+/-{Delta_a_SR:.6f} cm^2/s, tmax={tmax}\")\n",
    "print('')\n",
    "# tmax=8#ms #gives a nice value\n",
    "tmax=90#ms\n",
    "x_values=x_values_LR.copy()\n",
    "y_values=y_values_LR.copy()\n",
    "boo=x_values<tmax #ms\n",
    "dict_a_SR=compute_95CI_ols(x_values[boo],y_values[boo])\n",
    "a_SR=dict_a_SR['m']/4*1e3\n",
    "Delta_a_SR=dict_a_SR['Delta_m']/4*1e3\n",
    "print(f\"a_hat_LR = {a_SR:.6f}+/-{Delta_a_SR:.6f} cm^2/s, tmax={tmax}\")\n",
    "a_hat_LR=a_SR\n",
    "\n",
    "tmax=8#ms #gives a nice value\n",
    "# tmax=90#ms\n",
    "x_values=x_values_LR.copy()\n",
    "y_values=y_values_LR.copy()\n",
    "boo=x_values<tmax #ms\n",
    "dict_a_SR=compute_95CI_ols(x_values[boo],y_values[boo])\n",
    "a_SR=dict_a_SR['m']/4*1e3\n",
    "Delta_a_SR=dict_a_SR['Delta_m']/4*1e3\n",
    "print(f\"a_hat_LR = {a_SR:.6f}+/-{Delta_a_SR:.6f} cm^2/s, tmax={tmax}\")\n",
    "a_hat_LR=a_SR"
   ]
  },
  {
   "cell_type": "code",
   "execution_count": 7,
   "id": "7a50a077",
   "metadata": {
    "ExecuteTime": {
     "end_time": "2022-01-05T15:01:40.704944Z",
     "start_time": "2022-01-05T15:01:40.701099Z"
    }
   },
   "outputs": [],
   "source": [
    "# a_osc_LR=8.5/4\n",
    "# a_osc_FK=1.6\n",
    "# D_osc_LR=3.#1.2\n",
    "# D_osc_FK=1.6#.8\n",
    "# a_osc_LR=8.5\n",
    "# a_osc_FK=1.6\n",
    "# D_osc_LR=0.6\n",
    "# D_osc_FK=0.3\n",
    "#worked pretty well\n",
    "# a_osc_LR=8.5/2\n",
    "# a_osc_FK=1.6\n",
    "# D_osc_LR=1.2\n",
    "# D_osc_FK=.9#.8\n",
    "# #a=D test cases\n",
    "# a_osc_LR=8./4\n",
    "# a_osc_FK=6.4/4\n",
    "# D_osc_LR=8./4\n",
    "# D_osc_FK=6.4/4\n",
    "# a_osc_LR=2.6#.2\n",
    "# a_osc_FK=1.6#.4#.2#.6\n",
    "# D_osc_LR=2.4#/2#.2\n",
    "# D_osc_FK=1.6#.4#/2#.2#.6\n",
    "#a=D/2 test cases\n",
    "a_osc_LR=11./3#11.3/3\n",
    "a_osc_FK=7.4/3\n",
    "D_osc_LR=a_osc_LR/2\n",
    "D_osc_FK=a_osc_FK/2"
   ]
  },
  {
   "cell_type": "code",
   "execution_count": 8,
   "id": "2c90bdb7",
   "metadata": {
    "ExecuteTime": {
     "end_time": "2022-01-05T15:01:40.712046Z",
     "start_time": "2022-01-05T15:01:40.706009Z"
    }
   },
   "outputs": [
    {
     "name": "stdout",
     "output_type": "stream",
     "text": [
      "tf=2.027027027027027e-05\n",
      "tf=5.30674459635687e-06\n",
      "tf=1.3636363636363638e-05\n",
      "tf=3.569991727638211e-06\n"
     ]
    }
   ],
   "source": [
    "period_of_oscillation=120#ms\n",
    "Rf=1e-2 #cm\n",
    "omega=((1e-3*period_of_oscillation/(2*np.pi))**-1)\n",
    "#enforces the alignment boundary condition. smart, but might be messing up the oscillations.  can be kept general if needed...\n",
    "D=D_osc_FK;a=a_osc_FK\n",
    "tf=Rf**2/(4*D);print(f\"tf={tf}\")\n",
    "tf=Rf*np.arcsin(omega*Rf**2/(4*a));print(f\"tf={tf}\")\n",
    "initial_phase_orientation=omega*tf\n",
    "# initial_phase_orientation=omega*tf\n",
    "initial_phase_orientation_FK=initial_phase_orientation#-np.pi/6,#-np.pi/4,#0,#np.pi/2,#radians\n",
    "# initial_phase_orientation_FK+=np.pi/8\n",
    "D=D_osc_LR;a=a_osc_LR\n",
    "tf=Rf**2/(4*D);print(f\"tf={tf}\")\n",
    "tf=Rf*np.arcsin(omega*Rf**2/(4*a));print(f\"tf={tf}\")\n",
    "initial_phase_orientation=omega*tf\n",
    "# initial_phase_orientation=omega*tf\n",
    "initial_phase_orientation_LR=initial_phase_orientation\n",
    "# initial_phase_orientation_LR+=np.pi/8"
   ]
  },
  {
   "cell_type": "code",
   "execution_count": 9,
   "id": "ddb34224",
   "metadata": {
    "ExecuteTime": {
     "end_time": "2022-01-05T15:04:44.618995Z",
     "start_time": "2022-01-05T15:01:40.713281Z"
    }
   },
   "outputs": [
    {
     "name": "stdout",
     "output_type": "stream",
     "text": [
      "Rsq_values mean_array std_array\n",
      "positions_out.shape=(300000, 4, 1000)\n",
      "m=9.579263927783497\n",
      "Delta_m=0.029087816872082586\n",
      "b=0.06752172802993606\n",
      "Delta_b=0.0034150731919553976\n",
      "Rsquared=0.9534656446245036\n",
      "num_samples=1000\n",
      "num_timepoints=300000\n",
      "ahat = 2.3948+/-0.0073\n",
      "Rsq_values mean_array std_array\n",
      "positions_out.shape=(300000, 4, 1000)\n",
      "m=9.945140539261452\n",
      "Delta_m=0.06386654334029969\n",
      "b=0.27848486463163113\n",
      "Delta_b=0.0042254111911729135\n",
      "Rsquared=0.8904682362528031\n",
      "num_samples=1000\n",
      "num_timepoints=300000\n",
      "ahat = 2.4863+/-0.0160\n"
     ]
    },
    {
     "data": {
      "text/plain": [
       "<matplotlib.legend.Legend at 0x7f1a9f47f790>"
      ]
     },
     "execution_count": 9,
     "metadata": {},
     "output_type": "execute_result"
    },
    {
     "data": {
      "image/png": "[encoded data removed]",
      "text/plain": [
       "<Figure size 432x288 with 1 Axes>"
      ]
     },
     "metadata": {
      "needs_background": "light"
     },
     "output_type": "display_data"
    }
   ],
   "source": [
    "# Dscale=2\n",
    "# tmax=0.1 #run time <10 seconds\n",
    "tmax=3#1 #run time <2 minutes\n",
    "# tmax=10 #run time >30 minutes...\n",
    "#NOTE: if tmax=10 by necessity, and a grid search is desired for that, then a cupy acceleration of this routine may be warranted...\n",
    "#plot expected\n",
    "xv=np.linspace(0,1e3,200)\n",
    "plt.plot(xv,4*(a_osc_LR+2*D_osc_LR)*xv,'--',lw=2,alpha=0.8,c='k')#C1')\n",
    "plt.plot(xv,4*(a_osc_FK+2*D_osc_FK)*xv,'--',lw=2,alpha=0.8,c='k')#C0')\n",
    "#plot data\n",
    "plt.plot(x_values_FK*1e-3,y_values_FK,lw=2,alpha=0.8,c='C0')\n",
    "plt.fill_between(x_values_FK*1e-3,y_values_FK-yerr_values_FK,y_values_FK+yerr_values_FK,lw=2,alpha=0.4,color='C0',label='Fenton-Karma')\n",
    "plt.plot(x_values_LR*1e-3,y_values_LR,lw=2,alpha=0.8,c='C1')\n",
    "plt.fill_between(x_values_LR*1e-3,y_values_LR-yerr_values_LR,y_values_LR+yerr_values_LR,lw=2,alpha=0.4,color='C1',label='Luo-Rudy')\n",
    "\n",
    "# dict_fit_lr=visualize_model_oscillatory_reversed(a=8.5,D=0.3,c='C1',label='Luo-Rudy')\n",
    "# dict_fit_fk=visualize_model_oscillatory_reversed(a=1.6,D=1.2,c='C0',label='Fenton-Karma')\n",
    "# dict_fit_fk=visualize_model_oscillatory_reversed(a=1.6*2,D=1.2/2,c='C0',label='Fenton-Karma')\n",
    "# dict_fit_fk=visualize_model_oscillatory_reversed(a=2.8,D=1.2/2,c='C0',label='Fenton-Karma')#too small of a_FK\n",
    "# dict_fit_fk=visualize_model_oscillatory_reversed(a=4.,D=1.2/2,c='C0',label='Fenton-Karma')#osc. amplitude too big\n",
    "# dict_fit_fk=visualize_model_oscillatory_reversed(a=a_osc_FK,D=.6*Dscale,\n",
    "dict_fit_fk=visualize_model_oscillatory_reversed(a=a_osc_FK,D=D_osc_FK,\n",
    "                                                 initial_phase_orientation=initial_phase_orientation_FK,#radians\n",
    "                                                 period_of_oscillation=120,#ms\n",
    "                                                 c='k',#'C0',\n",
    "                                                 label='_',\n",
    "                                                 show_title=False,tmax=tmax,show_inputted_a=False,rstart=Rf)\n",
    "\n",
    "dict_fit_lr=visualize_model_oscillatory_reversed(a=a_osc_LR,D=D_osc_LR,\n",
    "# dict_fit_lr=visualize_model_oscillatory_reversed(a=a_osc_LR,D=0.3*Dscale,\n",
    "                                                 initial_phase_orientation=initial_phase_orientation_LR,#radians\n",
    "                                                 period_of_oscillation=120,#ms\n",
    "                                                 c='k',#'C1',\n",
    "                                                 label='_',\n",
    "                                                 show_title=False,tmax=tmax,show_inputted_a=False,rstart=Rf)\n",
    "format_plot(ax=plt.gca(),xlabel=r'$t_f-t$ (ms)',ylabel=r'MSR (cm$^2$)')\n",
    "title= \"FK: \"+dict_fit_fk['title']\n",
    "title+= \"\\nLR: \"+dict_fit_lr['title']\n",
    "plt.title(title,fontsize=16)\n",
    "plt.xlim([0,.5])\n",
    "plt.ylim([0,2])\n",
    "# plt.xlim([0,1])\n",
    "# plt.ylim([0,3])\n",
    "plt.legend(fontsize=16,loc='lower right')\n",
    "# plt.show()"
   ]
  },
  {
   "cell_type": "code",
   "execution_count": 10,
   "id": "18837dd6",
   "metadata": {
    "ExecuteTime": {
     "end_time": "2022-01-05T15:04:44.769269Z",
     "start_time": "2022-01-05T15:04:44.620117Z"
    }
   },
   "outputs": [
    {
     "data": {
      "image/png": "[encoded data removed]",
      "text/plain": [
       "<Figure size 432x288 with 1 Axes>"
      ]
     },
     "metadata": {
      "needs_background": "light"
     },
     "output_type": "display_data"
    }
   ],
   "source": [
    "xv=np.linspace(0,1e3,200)\n",
    "# a2=a_hat_LR\n",
    "# a1=a_hat_FK\n",
    "a2=a_osc_LR+2*D_osc_LR\n",
    "a1=a_osc_FK+2*D_osc_FK\n",
    "plt.plot(xv,4*a2*xv,'--',lw=2,alpha=1,c='k')\n",
    "plt.plot(xv,4*a1*xv,'--',lw=2,alpha=1,c='k')\n",
    "#plot data\n",
    "plt.plot(x_values_FK*1e-3,y_values_FK,lw=2,alpha=0.8,c='C0')\n",
    "plt.fill_between(x_values_FK*1e-3,y_values_FK-yerr_values_FK,y_values_FK+yerr_values_FK,lw=2,alpha=0.4,color='C0',label='Fenton-Karma')\n",
    "plt.plot(x_values_LR*1e-3,y_values_LR,lw=2,alpha=0.8,c='C1')\n",
    "plt.fill_between(x_values_LR*1e-3,y_values_LR-yerr_values_LR,y_values_LR+yerr_values_LR,lw=2,alpha=0.4,color='C1',label='Luo-Rudy')\n",
    "\n",
    "plt.plot(dict_fit_fk['tdeath'],dict_fit_fk['MSR'],'k',alpha=0.7)\n",
    "plt.plot(dict_fit_lr['tdeath'],dict_fit_lr['MSR'],'k',alpha=0.7)\n",
    "format_plot(ax=plt.gca(),xlabel=r'$t_f-t$ (s)',ylabel=r'MSR (cm$^2$)')\n",
    "title= \"FK: \"+dict_fit_fk['title']\n",
    "title+= \"LR: \"+dict_fit_lr['title']\n",
    "plt.title(title,fontsize=16)\n",
    "plt.xlim([0,1.5])\n",
    "plt.ylim([0,4])\n",
    "# plt.xlim([0,1])\n",
    "# plt.ylim([0,3])\n",
    "plt.legend(fontsize=16,loc='lower right')\n",
    "plt.show()"
   ]
  },
  {
   "cell_type": "code",
   "execution_count": null,
   "id": "0a1f9c6e",
   "metadata": {},
   "outputs": [],
   "source": []
  },
  {
   "cell_type": "code",
   "execution_count": null,
   "id": "79c19dfb",
   "metadata": {},
   "outputs": [],
   "source": []
  },
  {
   "cell_type": "code",
   "execution_count": null,
   "id": "6852e6fb",
   "metadata": {},
   "outputs": [],
   "source": []
  },
  {
   "cell_type": "code",
   "execution_count": null,
   "id": "0685c41c",
   "metadata": {},
   "outputs": [],
   "source": []
  },
  {
   "cell_type": "markdown",
   "id": "41fd82be",
   "metadata": {},
   "source": [
    "- Question: does FK model diverge from 4a*tdeath for some tdeath<10 seconds?\n",
    "- Answer: it doesn't appear so, "
   ]
  },
  {
   "cell_type": "code",
   "execution_count": null,
   "id": "cf651ef2",
   "metadata": {},
   "outputs": [],
   "source": []
  },
  {
   "cell_type": "code",
   "execution_count": null,
   "id": "9993a293",
   "metadata": {},
   "outputs": [],
   "source": []
  },
  {
   "cell_type": "code",
   "execution_count": null,
   "id": "8196bea5",
   "metadata": {},
   "outputs": [],
   "source": []
  },
  {
   "cell_type": "code",
   "execution_count": 11,
   "id": "60d5d6c6",
   "metadata": {
    "ExecuteTime": {
     "end_time": "2022-01-05T15:04:44.971227Z",
     "start_time": "2022-01-05T15:04:44.770235Z"
    }
   },
   "outputs": [
    {
     "ename": "NameError",
     "evalue": "name 'xmin' is not defined",
     "output_type": "error",
     "traceback": [
      "\u001b[0;31m---------------------------------------------------------------------------\u001b[0m",
      "\u001b[0;31mNameError\u001b[0m                                 Traceback (most recent call last)",
      "\u001b[0;32m/tmp/ipykernel_1402633/1739159969.py\u001b[0m in \u001b[0;36m<module>\u001b[0;34m\u001b[0m\n\u001b[1;32m      4\u001b[0m \u001b[0;32mif\u001b[0m \u001b[0max\u001b[0m \u001b[0;32mis\u001b[0m \u001b[0;32mNone\u001b[0m\u001b[0;34m:\u001b[0m\u001b[0;34m\u001b[0m\u001b[0;34m\u001b[0m\u001b[0m\n\u001b[1;32m      5\u001b[0m     \u001b[0max\u001b[0m\u001b[0;34m=\u001b[0m\u001b[0mplt\u001b[0m\u001b[0;34m.\u001b[0m\u001b[0mgca\u001b[0m\u001b[0;34m(\u001b[0m\u001b[0;34m)\u001b[0m\u001b[0;34m\u001b[0m\u001b[0;34m\u001b[0m\u001b[0m\n\u001b[0;32m----> 6\u001b[0;31m \u001b[0mxv\u001b[0m\u001b[0;34m=\u001b[0m\u001b[0mnp\u001b[0m\u001b[0;34m.\u001b[0m\u001b[0mlinspace\u001b[0m\u001b[0;34m(\u001b[0m\u001b[0mxmin\u001b[0m\u001b[0;34m,\u001b[0m\u001b[0mxmax\u001b[0m\u001b[0;34m,\u001b[0m\u001b[0;36m100\u001b[0m\u001b[0;34m)\u001b[0m\u001b[0;34m\u001b[0m\u001b[0;34m\u001b[0m\u001b[0m\n\u001b[0m\u001b[1;32m      7\u001b[0m \u001b[0;32mif\u001b[0m \u001b[0mshow_inputted_a\u001b[0m\u001b[0;34m:\u001b[0m\u001b[0;34m\u001b[0m\u001b[0;34m\u001b[0m\u001b[0m\n\u001b[1;32m      8\u001b[0m     \u001b[0;32mif\u001b[0m \u001b[0mshow_label_black_dotted\u001b[0m\u001b[0;34m:\u001b[0m\u001b[0;34m\u001b[0m\u001b[0;34m\u001b[0m\u001b[0m\n",
      "\u001b[0;31mNameError\u001b[0m: name 'xmin' is not defined"
     ]
    },
    {
     "data": {
      "image/png": "[encoded data removed]",
      "text/plain": [
       "<Figure size 432x288 with 1 Axes>"
      ]
     },
     "metadata": {
      "needs_background": "light"
     },
     "output_type": "display_data"
    }
   ],
   "source": [
    "#TODO: plot ^those results zoomed out a bit\n",
    "#FK values\n",
    "ax=None\n",
    "if ax is None:\n",
    "    ax=plt.gca()\n",
    "xv=np.linspace(xmin,xmax,100)\n",
    "if show_inputted_a:\n",
    "    if show_label_black_dotted:\n",
    "        ax.plot(xv,4*a*xv,'k--',label=r'$4a(t_f-t)$')\n",
    "    else:\n",
    "        ax.plot(xv,4*a*xv,'k--')#,label=r'$4a(t_f-t)$')\n",
    "\n",
    "ax.plot(t_values,MSR_values,c=c,label=label)\n",
    "if show_title:\n",
    "    plt.title(title,fontsize=16)\n",
    "if show_legend:\n",
    "    plt.legend(fontsize=16)\n",
    "\n",
    "title= \"FK: \"+dict_fit_fk['title']\n",
    "title= \"LR: \"+dict_fit_lr['title']\n",
    "plt.title(title,fontsize=16)\n",
    "plt.xlim([0,1])\n",
    "plt.ylim([0,3])\n",
    "plt.show()"
   ]
  },
  {
   "cell_type": "markdown",
   "id": "64897769",
   "metadata": {
    "heading_collapsed": true
   },
   "source": [
    "# a number of token plots"
   ]
  },
  {
   "cell_type": "code",
   "execution_count": null,
   "id": "12a75ceb",
   "metadata": {
    "ExecuteTime": {
     "end_time": "2022-01-05T15:04:44.974764Z",
     "start_time": "2022-01-05T15:04:44.974754Z"
    },
    "hidden": true
   },
   "outputs": [],
   "source": [
    "# initial_phase_orientation=-np.pi/2\n",
    "# initial_phase_orientation=np.pi/2\n",
    "initial_phase_orientation=0.\n",
    "# initial_phase_orientation=np.pi\n",
    "\n",
    "#plot expected\n",
    "xv=np.linspace(0,1e3,200)\n",
    "plt.plot(xv,4*a_hat_LR*xv,'--',lw=2,alpha=0.8,c='C1')\n",
    "plt.plot(xv,4*a_hat_FK*xv,'--',lw=2,alpha=0.8,c='C0')\n",
    "#plot data\n",
    "plt.plot(x_values_FK*1e-3,y_values_FK,lw=2,alpha=0.8,c='C0')\n",
    "plt.fill_between(x_values_FK*1e-3,y_values_FK-yerr_values_FK,y_values_FK+yerr_values_FK,lw=2,alpha=0.4,color='C0')\n",
    "plt.plot(x_values_LR*1e-3,y_values_LR,lw=2,alpha=0.8,c='C1')\n",
    "plt.fill_between(x_values_LR*1e-3,y_values_LR-yerr_values_LR,y_values_LR+yerr_values_LR,lw=2,alpha=0.4,color='C1')\n",
    "format_plot(ax=plt.gca(),xlabel=r'$t_f-t$ (ms)',ylabel=r'MSR (cm$^2$)')\n",
    "\n",
    "# dict_fit_lr=visualize_model_oscillatory_reversed(a=8.5,D=0.3,c='C1',label='Luo-Rudy')\n",
    "# dict_fit_fk=visualize_model_oscillatory_reversed(a=1.6,D=1.2,c='C0',label='Fenton-Karma')\n",
    "# dict_fit_fk=visualize_model_oscillatory_reversed(a=1.6*2,D=1.2/2,c='C0',label='Fenton-Karma')\n",
    "# dict_fit_fk=visualize_model_oscillatory_reversed(a=2.8,D=1.2/2,c='C0',label='Fenton-Karma')#too small of a_FK\n",
    "# dict_fit_fk=visualize_model_oscillatory_reversed(a=4.,D=1.2/2,c='C0',label='Fenton-Karma')#osc. amplitude too big\n",
    "dict_fit_fk=visualize_model_oscillatory_reversed(a=1.6,D=.8,initial_phase_orientation=initial_phase_orientation,c='C0',label='Fenton-Karma')\n",
    "\n",
    "dict_fit_lr=visualize_model_oscillatory_reversed(a=8.5/2,D=1.2,initial_phase_orientation=initial_phase_orientation,c='C1',label='Luo-Rudy')\n",
    "plt.xlim([0,1])\n",
    "plt.ylim([0,8])\n",
    "plt.show()"
   ]
  },
  {
   "cell_type": "code",
   "execution_count": null,
   "id": "259f3ec4",
   "metadata": {
    "ExecuteTime": {
     "end_time": "2022-01-05T15:04:44.975483Z",
     "start_time": "2022-01-05T15:04:44.975474Z"
    },
    "hidden": true
   },
   "outputs": [],
   "source": [
    "# initial_phase_orientation=-np.pi/2\n",
    "# initial_phase_orientation=np.pi/2\n",
    "# initial_phase_orientation=0.\n",
    "initial_phase_orientation=np.pi\n",
    "\n",
    "#plot expected\n",
    "xv=np.linspace(0,1e3,200)\n",
    "plt.plot(xv,4*a_hat_LR*xv,'--',lw=2,alpha=0.8,c='C1')\n",
    "plt.plot(xv,4*a_hat_FK*xv,'--',lw=2,alpha=0.8,c='C0')\n",
    "#plot data\n",
    "plt.plot(x_values_FK*1e-3,y_values_FK,lw=2,alpha=0.8,c='C0')\n",
    "plt.fill_between(x_values_FK*1e-3,y_values_FK-yerr_values_FK,y_values_FK+yerr_values_FK,lw=2,alpha=0.4,color='C0')\n",
    "plt.plot(x_values_LR*1e-3,y_values_LR,lw=2,alpha=0.8,c='C1')\n",
    "plt.fill_between(x_values_LR*1e-3,y_values_LR-yerr_values_LR,y_values_LR+yerr_values_LR,lw=2,alpha=0.4,color='C1')\n",
    "format_plot(ax=plt.gca(),xlabel=r'$t_f-t$ (ms)',ylabel=r'MSR (cm$^2$)')\n",
    "\n",
    "# dict_fit_lr=visualize_model_oscillatory_reversed(a=8.5,D=0.3,c='C1',label='Luo-Rudy')\n",
    "# dict_fit_fk=visualize_model_oscillatory_reversed(a=1.6,D=1.2,c='C0',label='Fenton-Karma')\n",
    "# dict_fit_fk=visualize_model_oscillatory_reversed(a=1.6*2,D=1.2/2,c='C0',label='Fenton-Karma')\n",
    "# dict_fit_fk=visualize_model_oscillatory_reversed(a=2.8,D=1.2/2,c='C0',label='Fenton-Karma')#too small of a_FK\n",
    "# dict_fit_fk=visualize_model_oscillatory_reversed(a=4.,D=1.2/2,c='C0',label='Fenton-Karma')#osc. amplitude too big\n",
    "dict_fit_fk=visualize_model_oscillatory_reversed(a=1.6,D=.8,initial_phase_orientation=initial_phase_orientation,c='C0',label='Fenton-Karma')\n",
    "dict_fit_lr=visualize_model_oscillatory_reversed(a=8.5/2,D=1.2,initial_phase_orientation=initial_phase_orientation,c='C1',label='Luo-Rudy')\n",
    "plt.xlim([0,1])\n",
    "plt.ylim([0,3])\n",
    "plt.show()"
   ]
  },
  {
   "cell_type": "code",
   "execution_count": null,
   "id": "ff3e4dd6",
   "metadata": {
    "ExecuteTime": {
     "end_time": "2022-01-05T15:04:44.976292Z",
     "start_time": "2022-01-05T15:04:44.976282Z"
    },
    "hidden": true
   },
   "outputs": [],
   "source": [
    "initial_phase_orientation=-np.pi/2\n",
    "# initial_phase_orientation=np.pi/2\n",
    "# initial_phase_orientation=0.\n",
    "# initial_phase_orientation=np.pi\n",
    "\n",
    "#plot expected\n",
    "xv=np.linspace(0,1e3,200)\n",
    "plt.plot(xv,4*a_hat_LR*xv,'--',lw=2,alpha=0.8,c='C1')\n",
    "plt.plot(xv,4*a_hat_FK*xv,'--',lw=2,alpha=0.8,c='C0')\n",
    "#plot data\n",
    "plt.plot(x_values_FK*1e-3,y_values_FK,lw=2,alpha=0.8,c='C0')\n",
    "plt.fill_between(x_values_FK*1e-3,y_values_FK-yerr_values_FK,y_values_FK+yerr_values_FK,lw=2,alpha=0.4,color='C0')\n",
    "plt.plot(x_values_LR*1e-3,y_values_LR,lw=2,alpha=0.8,c='C1')\n",
    "plt.fill_between(x_values_LR*1e-3,y_values_LR-yerr_values_LR,y_values_LR+yerr_values_LR,lw=2,alpha=0.4,color='C1')\n",
    "format_plot(ax=plt.gca(),xlabel=r'$t_f-t$ (ms)',ylabel=r'MSR (cm$^2$)')\n",
    "\n",
    "# dict_fit_lr=visualize_model_oscillatory_reversed(a=8.5,D=0.3,c='C1',label='Luo-Rudy')\n",
    "# dict_fit_fk=visualize_model_oscillatory_reversed(a=1.6,D=1.2,c='C0',label='Fenton-Karma')\n",
    "# dict_fit_fk=visualize_model_oscillatory_reversed(a=1.6*2,D=1.2/2,c='C0',label='Fenton-Karma')\n",
    "# dict_fit_fk=visualize_model_oscillatory_reversed(a=2.8,D=1.2/2,c='C0',label='Fenton-Karma')#too small of a_FK\n",
    "# dict_fit_fk=visualize_model_oscillatory_reversed(a=4.,D=1.2/2,c='C0',label='Fenton-Karma')#osc. amplitude too big\n",
    "dict_fit_fk=visualize_model_oscillatory_reversed(a=1.6,D=.8,initial_phase_orientation=initial_phase_orientation,c='C0',label='Fenton-Karma')\n",
    "\n",
    "dict_fit_lr=visualize_model_oscillatory_reversed(a=8.5/2,D=1.2,initial_phase_orientation=initial_phase_orientation,c='C1',label='Luo-Rudy')\n",
    "plt.xlim([0,1])\n",
    "plt.ylim([0,3])\n",
    "plt.show()"
   ]
  },
  {
   "cell_type": "code",
   "execution_count": null,
   "id": "2e74e309",
   "metadata": {
    "ExecuteTime": {
     "end_time": "2022-01-05T15:04:44.976918Z",
     "start_time": "2022-01-05T15:04:44.976908Z"
    },
    "hidden": true
   },
   "outputs": [],
   "source": [
    "#plot expected\n",
    "xv=np.linspace(0,1e3,200)\n",
    "plt.plot(xv,4*a_hat_LR*xv,'--',lw=2,alpha=0.8,c='C1')\n",
    "plt.plot(xv,4*a_hat_FK*xv,'--',lw=2,alpha=0.8,c='C0')\n",
    "#plot data\n",
    "plt.plot(x_values_FK*1e-3,y_values_FK,lw=2,alpha=0.8,c='C0')\n",
    "plt.fill_between(x_values_FK*1e-3,y_values_FK-yerr_values_FK,y_values_FK+yerr_values_FK,lw=2,alpha=0.4,color='C0')\n",
    "plt.plot(x_values_LR*1e-3,y_values_LR,lw=2,alpha=0.8,c='C1')\n",
    "plt.fill_between(x_values_LR*1e-3,y_values_LR-yerr_values_LR,y_values_LR+yerr_values_LR,lw=2,alpha=0.4,color='C1')\n",
    "format_plot(ax=plt.gca(),xlabel=r'$t_f-t$ (ms)',ylabel=r'MSR (cm$^2$)')\n",
    "# dict_fit_lr=visualize_model_oscillatory_reversed(a=8.5,D=0.3,c='C1',label='Luo-Rudy')\n",
    "dict_fit_fk=visualize_model_oscillatory_reversed(a=1.6,D=0.6,c='C0',label='Fenton-Karma')\n",
    "dict_fit_lr=visualize_model_oscillatory_reversed(a=8.5,D=0.6,c='C1',label='Luo-Rudy')\n",
    "plt.xlim([0,1])\n",
    "plt.ylim([0,3])\n",
    "plt.show()"
   ]
  },
  {
   "cell_type": "code",
   "execution_count": null,
   "id": "7141924b",
   "metadata": {
    "hidden": true
   },
   "outputs": [],
   "source": []
  },
  {
   "cell_type": "code",
   "execution_count": null,
   "id": "05c00d4d",
   "metadata": {
    "hidden": true
   },
   "outputs": [],
   "source": []
  },
  {
   "cell_type": "code",
   "execution_count": null,
   "id": "159fb5b5",
   "metadata": {
    "hidden": true
   },
   "outputs": [],
   "source": []
  },
  {
   "cell_type": "code",
   "execution_count": null,
   "id": "f1d0aa14",
   "metadata": {
    "hidden": true
   },
   "outputs": [],
   "source": []
  },
  {
   "cell_type": "markdown",
   "id": "9808af4b",
   "metadata": {
    "heading_collapsed": true
   },
   "source": [
    "# visualize a token trial"
   ]
  },
  {
   "cell_type": "code",
   "execution_count": null,
   "id": "72b9e667",
   "metadata": {
    "hidden": true
   },
   "outputs": [],
   "source": []
  },
  {
   "cell_type": "code",
   "execution_count": null,
   "id": "50006f64",
   "metadata": {
    "ExecuteTime": {
     "end_time": "2022-01-05T15:04:44.977559Z",
     "start_time": "2022-01-05T15:04:44.977549Z"
    },
    "hidden": true
   },
   "outputs": [],
   "source": [
    "# dict_fit_lr=visualize_model_oscillatory_reversed(a=8.5,D=0.3,c='C1',label='Luo-Rudy')\n",
    "dict_fit_fk=visualize_model_oscillatory_reversed(a=1.6,D=0.6,c='C0',label='Fenton-Karma')\n",
    "dict_fit_lr=visualize_model_oscillatory_reversed(a=8.5,D=0.6,c='C1',label='Luo-Rudy')\n",
    "format_plot(ax=plt.gca(),xlabel=r'$t_f-t$ (sec)',ylabel=r'MSR (cm$^2$)')\n",
    "plt.xlim([0,1])\n",
    "plt.ylim([0,3])\n",
    "plt.show()"
   ]
  },
  {
   "cell_type": "code",
   "execution_count": null,
   "id": "1c599ea3",
   "metadata": {
    "ExecuteTime": {
     "end_time": "2022-01-05T15:04:44.978270Z",
     "start_time": "2022-01-05T15:04:44.978260Z"
    },
    "hidden": true
   },
   "outputs": [],
   "source": [
    "# dict_fit_lr=visualize_model_oscillatory_reversed(a=8.5,D=0.3,c='C1',label='Luo-Rudy')\n",
    "dict_fit_fk=visualize_model_oscillatory_reversed(a=1.6,D=0.6,c='C0',label='Fenton-Karma',initial)\n",
    "dict_fit_lr=visualize_model_oscillatory_reversed(a=8.5,D=0.6,c='C1',label='Luo-Rudy')\n",
    "format_plot(ax=plt.gca(),xlabel=r'$t_f-t$ (sec)',ylabel=r'MSR (cm$^2$)')\n",
    "plt.xlim([0,1])\n",
    "plt.ylim([0,3])\n",
    "plt.show()"
   ]
  },
  {
   "cell_type": "code",
   "execution_count": null,
   "id": "3114f7a0",
   "metadata": {
    "ExecuteTime": {
     "end_time": "2022-01-05T15:04:44.978970Z",
     "start_time": "2022-01-05T15:04:44.978960Z"
    },
    "hidden": true
   },
   "outputs": [],
   "source": [
    "dict_fit_fk=visualize_model_oscillatory_reversed(a=0.,D=0.6,c='C0',label='Fenton-Karma')\n",
    "dict_fit_lr=visualize_model_oscillatory_reversed(a=0.,D=0.3,c='C1',label='Luo-Rudy')\n",
    "format_plot(ax=plt.gca(),xlabel=r'$t_f-t$ (sec)',ylabel=r'MSR (cm$^2$)')\n",
    "plt.show()"
   ]
  },
  {
   "cell_type": "code",
   "execution_count": null,
   "id": "395fc6b4",
   "metadata": {
    "ExecuteTime": {
     "end_time": "2022-01-05T15:04:44.979499Z",
     "start_time": "2022-01-05T15:04:44.979490Z"
    },
    "hidden": true
   },
   "outputs": [],
   "source": [
    "# dict_fit_fk=visualize_model_oscillatory_reversed(a=1.6,D=0.,c='C0',label='Fenton-Karma')\n",
    "# dict_fit_lr=visualize_model_oscillatory_reversed(a=8.5,D=0.,c='C1',label='Luo-Rudy')\n",
    "# format_plot(ax=plt.gca(),xlabel=r'$t_f-t$ (sec)',ylabel=r'MSR (cm$^2$)')\n",
    "# plt.title(title,fontsize=16)\n",
    "# plt.legend(fontsize=16)\n",
    "# plt.show()"
   ]
  },
  {
   "cell_type": "code",
   "execution_count": null,
   "id": "93819385",
   "metadata": {
    "ExecuteTime": {
     "end_time": "2022-01-05T15:04:44.980588Z",
     "start_time": "2022-01-05T15:04:44.980578Z"
    },
    "hidden": true
   },
   "outputs": [],
   "source": [
    "dict_fit_fk=visualize_model_oscillatory_reversed(a=1.6,D=0.,c='C0',label='Fenton-Karma')\n",
    "dict_fit_lr=visualize_model_oscillatory_reversed(a=8.5,D=0.,c='C1',label='Luo-Rudy')\n",
    "plt.ylim((0,.05))\n",
    "format_plot(ax=plt.gca(),xlabel=r'$t_f-t$ (sec)',ylabel=r'MSR (cm$^2$)')\n",
    "plt.show()"
   ]
  },
  {
   "cell_type": "markdown",
   "id": "b4e30a2b",
   "metadata": {
    "heading_collapsed": true
   },
   "source": [
    "# show MSR for four most-distant phases"
   ]
  },
  {
   "cell_type": "code",
   "execution_count": null,
   "id": "8af861db",
   "metadata": {
    "ExecuteTime": {
     "end_time": "2022-01-05T15:04:44.981291Z",
     "start_time": "2022-01-05T15:04:44.981281Z"
    },
    "hidden": true
   },
   "outputs": [],
   "source": [
    "# initial_phase_orientation=-np.pi/2\n",
    "# initial_phase_orientation=np.pi/2\n",
    "initial_phase_orientation=0.\n",
    "# initial_phase_orientation=np.pi\n",
    "dict_fit_fk=visualize_model_oscillatory_reversed(a=1.6,D=.6,#0,#\n",
    "                                                 show_label_black_dotted=False,initial_phase_orientation=initial_phase_orientation,c='C0',label='Fenton-Karma')\n",
    "dict_fit_lr=visualize_model_oscillatory_reversed(a=8.5,D=0.6,#,0,#\n",
    "                                                 show_label_black_dotted=True,initial_phase_orientation=initial_phase_orientation,c='C1',label='Luo-Rudy')\n",
    "plt.ylim((0,4))\n",
    "format_plot(ax=plt.gca(),xlabel=r'$t_f-t$ (sec)',ylabel=r'MSR (cm$^2$)')\n",
    "plt.show()"
   ]
  },
  {
   "cell_type": "code",
   "execution_count": null,
   "id": "fcdac6c8",
   "metadata": {
    "ExecuteTime": {
     "end_time": "2022-01-05T15:04:44.982066Z",
     "start_time": "2022-01-05T15:04:44.982055Z"
    },
    "hidden": true
   },
   "outputs": [],
   "source": [
    "# initial_phase_orientation=-np.pi/2\n",
    "# initial_phase_orientation=np.pi/2\n",
    "# initial_phase_orientation=0.\n",
    "initial_phase_orientation=np.pi\n",
    "dict_fit_fk=visualize_model_oscillatory_reversed(a=1.6,D=.6,#0,#\n",
    "                                                 show_label_black_dotted=False,initial_phase_orientation=initial_phase_orientation,c='C0',label='Fenton-Karma')\n",
    "dict_fit_lr=visualize_model_oscillatory_reversed(a=8.5,D=0.6,#,0,#\n",
    "                                                 show_label_black_dotted=True,initial_phase_orientation=initial_phase_orientation,c='C1',label='Luo-Rudy')\n",
    "plt.ylim((0,4))\n",
    "format_plot(ax=plt.gca(),xlabel=r'$t_f-t$ (sec)',ylabel=r'MSR (cm$^2$)')\n",
    "plt.show()"
   ]
  },
  {
   "cell_type": "code",
   "execution_count": null,
   "id": "0f0c4e39",
   "metadata": {
    "ExecuteTime": {
     "end_time": "2022-01-05T15:04:44.982941Z",
     "start_time": "2022-01-05T15:04:44.982932Z"
    },
    "hidden": true
   },
   "outputs": [],
   "source": [
    "# initial_phase_orientation=-np.pi/2\n",
    "initial_phase_orientation=np.pi/2\n",
    "# initial_phase_orientation=0.\n",
    "# initial_phase_orientation=np.pi\n",
    "dict_fit_fk=visualize_model_oscillatory_reversed(a=1.6,D=.6,#0,#\n",
    "                                                 show_label_black_dotted=False,initial_phase_orientation=initial_phase_orientation,c='C0',label='Fenton-Karma')\n",
    "dict_fit_lr=visualize_model_oscillatory_reversed(a=8.5,D=0.6,#,0,#\n",
    "                                                 show_label_black_dotted=True,initial_phase_orientation=initial_phase_orientation,c='C1',label='Luo-Rudy')\n",
    "plt.ylim((0,4))\n",
    "format_plot(ax=plt.gca(),xlabel=r'$t_f-t$ (sec)',ylabel=r'MSR (cm$^2$)')\n",
    "plt.show()"
   ]
  },
  {
   "cell_type": "code",
   "execution_count": null,
   "id": "2ea989e9",
   "metadata": {
    "ExecuteTime": {
     "end_time": "2022-01-05T15:04:44.983653Z",
     "start_time": "2022-01-05T15:04:44.983642Z"
    },
    "hidden": true
   },
   "outputs": [],
   "source": [
    "initial_phase_orientation=-np.pi/2\n",
    "# initial_phase_orientation=np.pi/2\n",
    "# initial_phase_orientation=0.\n",
    "# initial_phase_orientation=np.pi\n",
    "dict_fit_fk=visualize_model_oscillatory_reversed(a=1.6,D=.6,#0,#\n",
    "                                                 show_label_black_dotted=False,initial_phase_orientation=initial_phase_orientation,c='C0',label='Fenton-Karma')\n",
    "dict_fit_lr=visualize_model_oscillatory_reversed(a=8.5,D=0.6,#,0,#\n",
    "                                                 show_label_black_dotted=True,initial_phase_orientation=initial_phase_orientation,c='C1',label='Luo-Rudy')\n",
    "plt.ylim((0,4))\n",
    "format_plot(ax=plt.gca(),xlabel=r'$t_f-t$ (sec)',ylabel=r'MSR (cm$^2$)')\n",
    "plt.show()"
   ]
  },
  {
   "cell_type": "code",
   "execution_count": null,
   "id": "5b6ff44c",
   "metadata": {
    "ExecuteTime": {
     "end_time": "2022-01-05T15:04:44.984259Z",
     "start_time": "2022-01-05T15:04:44.984249Z"
    },
    "hidden": true
   },
   "outputs": [],
   "source": [
    "# initial_phase_orientation=-np.pi/2\n",
    "initial_phase_orientation=np.pi/2\n",
    "# initial_phase_orientation=np.pi\n",
    "dict_fit_fk=visualize_model_oscillatory_reversed(a=1.6,D=0,#.6,\n",
    "                                                 show_label_black_dotted=False,initial_phase_orientation=initial_phase_orientation,c='C0',label='Fenton-Karma')\n",
    "dict_fit_lr=visualize_model_oscillatory_reversed(a=8.5,D=0,#0.3,\n",
    "                                                 show_label_black_dotted=True,initial_phase_orientation=initial_phase_orientation,c='C1',label='Luo-Rudy')\n",
    "# plt.ylim((0,.2))\n",
    "format_plot(ax=plt.gca(),xlabel=r'$t_f-t$ (sec)',ylabel=r'MSR (cm$^2$)')\n",
    "plt.xlim(0,10)\n",
    "plt.show()\n",
    "#heretim"
   ]
  },
  {
   "cell_type": "code",
   "execution_count": null,
   "id": "e4b1c688",
   "metadata": {
    "ExecuteTime": {
     "end_time": "2022-01-05T15:04:44.984910Z",
     "start_time": "2022-01-05T15:04:44.984900Z"
    },
    "hidden": true
   },
   "outputs": [],
   "source": [
    "# initial_phase_orientation=-np.pi/2\n",
    "#initial_phase_orientation=np.pi/2\n",
    "initial_phase_orientation=0.\n",
    "# initial_phase_orientation=np.pi\n",
    "dict_fit_fk=visualize_model_oscillatory_reversed(a=1.6,D=0,#0.6,\n",
    "                                                 show_label_black_dotted=False,initial_phase_orientation=initial_phase_orientation,c='C0',label='Fenton-Karma')\n",
    "dict_fit_lr=visualize_model_oscillatory_reversed(a=8.5,D=0,#0.3,\n",
    "                                                 show_label_black_dotted=True,initial_phase_orientation=initial_phase_orientation,c='C1',label='Luo-Rudy')\n",
    "# plt.ylim((0,.2))\n",
    "format_plot(ax=plt.gca(),xlabel=r'$t_f-t$ (sec)',ylabel=r'MSR (cm$^2$)')\n",
    "# plt.title(title,fontsize=16)\n",
    "# plt.legend(fontsize=16)\n",
    "plt.show()"
   ]
  },
  {
   "cell_type": "code",
   "execution_count": null,
   "id": "903f4088",
   "metadata": {
    "ExecuteTime": {
     "end_time": "2022-01-05T15:04:44.985498Z",
     "start_time": "2022-01-05T15:04:44.985488Z"
    },
    "hidden": true
   },
   "outputs": [],
   "source": [
    "# initial_phase_orientation=-np.pi/2\n",
    "# #initial_phase_orientation=np.pi/2\n",
    "# # initial_phase_o|rientation=0.\n",
    "initial_phase_orientation=np.pi\n",
    "dict_fit_fk=visualize_model_oscillatory_reversed(a=1.6,D=0,#0.6,\n",
    "                                                 show_label_black_dotted=False,initial_phase_orientation=initial_phase_orientation,c='C0',label='Fenton-Karma')\n",
    "dict_fit_lr=visualize_model_oscillatory_reversed(a=8.5,D=0,#0.3,\n",
    "                                                 show_label_black_dotted=True,initial_phase_orientation=initial_phase_orientation,c='C1',label='Luo-Rudy')\n",
    "# plt.ylim((0,.2))\n",
    "format_plot(ax=plt.gca(),xlabel=r'$t_f-t$ (sec)',ylabel=r'MSR (cm$^2$)')\n",
    "# plt.title(title,fontsize=16)\n",
    "# plt.legend(fontsize=16)\n",
    "plt.show()"
   ]
  },
  {
   "cell_type": "markdown",
   "id": "dd1a285e",
   "metadata": {
    "hidden": true
   },
   "source": [
    "## repeat without diffusion"
   ]
  },
  {
   "cell_type": "code",
   "execution_count": null,
   "id": "eda08ac4",
   "metadata": {
    "ExecuteTime": {
     "end_time": "2022-01-05T15:04:44.986045Z",
     "start_time": "2022-01-05T15:04:44.986035Z"
    },
    "hidden": true
   },
   "outputs": [],
   "source": [
    "# initial_phase_orientation=-np.pi/2\n",
    "# #initial_phase_orientation=np.pi/2\n",
    "initial_phase_orientation=np.pi\n",
    "dict_fit_fk=visualize_model_oscillatory_reversed(a=1.6,D=0.,show_label_black_dotted=False,initial_phase_orientation=initial_phase_orientation,c='C0',label='Fenton-Karma')\n",
    "dict_fit_lr=visualize_model_oscillatory_reversed(a=8.5,D=0.,show_label_black_dotted=True,initial_phase_orientation=initial_phase_orientation,c='C1',label='Luo-Rudy')\n",
    "# plt.ylim((0,.2))\n",
    "format_plot(ax=plt.gca(),xlabel=r'$t_f-t$ (sec)',ylabel=r'MSR (cm$^2$)')\n",
    "# plt.title(title,fontsize=16)\n",
    "# plt.legend(fontsize=16)\n",
    "plt.show()"
   ]
  },
  {
   "cell_type": "code",
   "execution_count": null,
   "id": "e0c33c83",
   "metadata": {
    "ExecuteTime": {
     "end_time": "2022-01-05T15:04:44.986737Z",
     "start_time": "2022-01-05T15:04:44.986726Z"
    },
    "hidden": true
   },
   "outputs": [],
   "source": [
    "# initial_phase_orientation=-np.pi/2\n",
    "# #initial_phase_orientation=np.pi/2\n",
    "initial_phase_orientation=0.\n",
    "# initial_phase_orientation=np.pi\n",
    "dict_fit_fk=visualize_model_oscillatory_reversed(a=1.6,D=0.,show_label_black_dotted=False,initial_phase_orientation=initial_phase_orientation,c='C0',label='Fenton-Karma')\n",
    "dict_fit_lr=visualize_model_oscillatory_reversed(a=8.5,D=0.,show_label_black_dotted=True,initial_phase_orientation=initial_phase_orientation,c='C1',label='Luo-Rudy')\n",
    "# plt.ylim((0,.2))\n",
    "format_plot(ax=plt.gca(),xlabel=r'$t_f-t$ (sec)',ylabel=r'MSR (cm$^2$)')\n",
    "# plt.title(title,fontsize=16)\n",
    "# plt.legend(fontsize=16)\n",
    "plt.show()"
   ]
  },
  {
   "cell_type": "code",
   "execution_count": null,
   "id": "869b631d",
   "metadata": {
    "ExecuteTime": {
     "end_time": "2022-01-05T15:04:44.987277Z",
     "start_time": "2022-01-05T15:04:44.987267Z"
    },
    "hidden": true
   },
   "outputs": [],
   "source": [
    "# initial_phase_orientation=-np.pi/2\n",
    "initial_phase_orientation=np.pi/2\n",
    "# initial_phase_orientation=np.pi\n",
    "dict_fit_fk=visualize_model_oscillatory_reversed(a=1.6,D=0.,show_label_black_dotted=False,initial_phase_orientation=initial_phase_orientation,c='C0',label='Fenton-Karma')\n",
    "dict_fit_lr=visualize_model_oscillatory_reversed(a=8.5,D=0.,show_label_black_dotted=True,initial_phase_orientation=initial_phase_orientation,c='C1',label='Luo-Rudy')\n",
    "# plt.ylim((0,.2))\n",
    "format_plot(ax=plt.gca(),xlabel=r'$t_f-t$ (sec)',ylabel=r'MSR (cm$^2$)')\n",
    "# plt.title(title,fontsize=16)\n",
    "# plt.legend(fontsize=16)\n",
    "plt.show()"
   ]
  },
  {
   "cell_type": "code",
   "execution_count": null,
   "id": "6abd292f",
   "metadata": {
    "ExecuteTime": {
     "end_time": "2022-01-05T15:04:44.987868Z",
     "start_time": "2022-01-05T15:04:44.987858Z"
    },
    "hidden": true
   },
   "outputs": [],
   "source": [
    "initial_phase_orientation=-np.pi/2\n",
    "# initial_phase_orientation=np.pi/2\n",
    "# initial_phase_orientation=np.pi\n",
    "dict_fit_fk=visualize_model_oscillatory_reversed(a=1.6,D=0.,show_label_black_dotted=False,initial_phase_orientation=initial_phase_orientation,c='C0',label='Fenton-Karma')\n",
    "dict_fit_lr=visualize_model_oscillatory_reversed(a=8.5,D=0.,show_label_black_dotted=True,initial_phase_orientation=initial_phase_orientation,c='C1',label='Luo-Rudy')\n",
    "# plt.ylim((0,.2))\n",
    "format_plot(ax=plt.gca(),xlabel=r'$t_f-t$ (sec)',ylabel=r'MSR (cm$^2$)')\n",
    "# plt.title(title,fontsize=16)\n",
    "# plt.legend(fontsize=16)\n",
    "plt.show()"
   ]
  },
  {
   "cell_type": "code",
   "execution_count": null,
   "id": "d9061ce6",
   "metadata": {
    "hidden": true
   },
   "outputs": [],
   "source": []
  },
  {
   "cell_type": "markdown",
   "id": "80e12fc8",
   "metadata": {},
   "source": [
    "# Visualize a number of trials, so as to paint a picture in terms of the full models"
   ]
  },
  {
   "cell_type": "code",
   "execution_count": null,
   "id": "c69ef3e3",
   "metadata": {
    "ExecuteTime": {
     "end_time": "2022-01-05T15:04:44.988497Z",
     "start_time": "2022-01-05T15:04:44.988487Z"
    }
   },
   "outputs": [],
   "source": [
    "1"
   ]
  },
  {
   "cell_type": "code",
   "execution_count": null,
   "id": "adace9c4",
   "metadata": {
    "ExecuteTime": {
     "end_time": "2022-01-05T15:04:44.989008Z",
     "start_time": "2022-01-05T15:04:44.988998Z"
    }
   },
   "outputs": [],
   "source": [
    "#estimated run time: 11 minutes\n",
    "testing=True\n",
    "if testing:\n",
    "    #2 min. runtime\n",
    "    a=8.5\n",
    "    D=0.3\n",
    "    num_pairs=400#2min 22sec: 100#1min 30sec: 10+1\n",
    "    initial_phase_orientation=-np.pi/2\n",
    "    #initial_phase_orientation=np.pi/2\n",
    "    # initial_phase_orientation=np.pi\n",
    "    #rstart=0.01#1.5,rstart=rstart\n",
    "    #before, long runtime\n",
    "    dict_out,position_array = gener_positions_oscillatory_reversed(\n",
    "                a=a, D=D, printing=False,num_pairs=num_pairs,initial_phase_orientation=initial_phase_orientation)\n",
    "    print(*dict_out)\n",
    "    print(f\"positions_out.shape={positions_out.shape}\")\n",
    "    beep(5)"
   ]
  },
  {
   "cell_type": "code",
   "execution_count": null,
   "id": "81762e7f",
   "metadata": {
    "ExecuteTime": {
     "end_time": "2022-01-05T15:04:44.989748Z",
     "start_time": "2022-01-05T15:04:44.989738Z"
    }
   },
   "outputs": [],
   "source": [
    "# positions_out=dict_out['positions_out']\n",
    "Dt=1e-5\n",
    "rstart=1e-4\n",
    "title=f\"a={a:.4f}, D={D:.4f},\\n\"+r\"$\\phi_0$\"+f\"={initial_phase_orientation:.4f}, \"+r\"R$_0$\"+f\"={rstart:.4f}, \"+r\" N$_{trials}$\"+f\"={num_pairs}\\n\"\n",
    "\n",
    "print(f\"positions_out.shape={positions_out.shape}\")\n",
    "#compute the distance between each pair of particles after aligning by annihilation (unshifted)\n",
    "x1_values=positions_out[:,0]\n",
    "y1_values=positions_out[:,1]\n",
    "x2_values=positions_out[:,2]\n",
    "y2_values=positions_out[:,3]\n",
    "dx_values=(x2_values-x1_values)\n",
    "dy_values=(y2_values-y1_values)\n",
    "Rsq_values=dx_values**2+dy_values**2\n",
    "#compute the ensemble averaged values\n",
    "MSR_values=np.mean(Rsq_values,axis=1)\n",
    "aligned_coordinates_values=np.mean(positions_out,axis=-1)\n",
    "# maxt=Dt*MSR_values.shape[0]\n",
    "t_values=np.arange(MSR_values.shape[0])*Dt\n",
    "# x_values=aligned_mean_values[:,0]\n",
    "# plt.plot(aligned_mean_values[:,1])\n",
    "# plt.plot(aligned_mean_values[:,2])\n",
    "# plt.plot(aligned_mean_values[:,3])\n",
    "\n",
    "xmin,xmax=0,0.1\n",
    "ymin,ymax=0,0.6\n",
    "xv=np.linspace(xmin,xmax,100)\n",
    "plt.plot(xv,4*a*xv,'k--',label=r'$4a(t_f-t)$')\n",
    "plt.xlim([xmin,xmax])\n",
    "plt.ylim([ymin,ymax])\n",
    "plt.plot(t_values,MSR_values,c='C5',label=r\"Simulation\")\n",
    "# plt.plot(t_values,aligned_mean_values[::-1,0]**2)\n",
    "plt.plot(t_values,t_values*0.,'--',c='gray',alpha=0.5)\n",
    "format_plot(ax=plt.gca(),xlabel=r'$t_f-t$ (sec)',ylabel=r'MSR (cm$^2$)')\n",
    "plt.title(title,fontsize=16)\n",
    "plt.legend(fontsize=16)\n",
    "plt.show()"
   ]
  },
  {
   "cell_type": "code",
   "execution_count": null,
   "id": "a66e946b",
   "metadata": {
    "ExecuteTime": {
     "end_time": "2021-12-14T01:47:44.687981Z",
     "start_time": "2021-12-14T01:47:44.674374Z"
    }
   },
   "outputs": [],
   "source": []
  },
  {
   "cell_type": "code",
   "execution_count": null,
   "id": "8c824d1b",
   "metadata": {
    "ExecuteTime": {
     "end_time": "2022-01-05T15:04:44.990569Z",
     "start_time": "2022-01-05T15:04:44.990559Z"
    }
   },
   "outputs": [],
   "source": [
    "boo=~(np.isnan(t_values)|np.isnan(MSR_values))\n",
    "dict_fit=compute_95CI_ols(t_values[boo],MSR_values[boo])\n",
    "print_dict(dict_fit)\n",
    "print(f\"num_samples={positions_out.shape[-1]}\")\n",
    "print(f\"num_timepoints={t_values.shape[0]}\")\n",
    "print(f\"ahat = {dict_fit['m']/4:.4f}+/-{dict_fit['Delta_m']/4:.4f}\")"
   ]
  },
  {
   "cell_type": "code",
   "execution_count": null,
   "id": "e2bdc97b",
   "metadata": {},
   "outputs": [],
   "source": []
  },
  {
   "cell_type": "code",
   "execution_count": null,
   "id": "f33671c2",
   "metadata": {},
   "outputs": [],
   "source": []
  },
  {
   "cell_type": "code",
   "execution_count": null,
   "id": "8c10fb33",
   "metadata": {},
   "outputs": [],
   "source": []
  },
  {
   "cell_type": "code",
   "execution_count": null,
   "id": "f12a14cd",
   "metadata": {},
   "outputs": [],
   "source": []
  },
  {
   "cell_type": "markdown",
   "id": "3e583fcc",
   "metadata": {},
   "source": [
    "__Interacting Particle Models that could potentially explain the apparent disagreement for the Luo-Rudy model at long time scales__\n",
    "\n",
    "Considering $C=\\sqrt{4D}$,\n",
    "\n",
    "$$\n",
    "dR = \\frac{-2a}{R}dt + CdW(t).\n",
    "$$\n",
    "\n",
    "The attracting inverse_powerlaw_model be changed to the fractional_powerlaw_model:\n",
    "\n",
    "$$\n",
    "dR = \\frac{-2a}{R^b}dt + CdW(t)\n",
    "$$\n",
    "\n",
    "for $b=0.716(1)$ (LR) or $b=0.797(2)$ (FK).\n",
    "\n",
    "\n",
    "The attracting inverse_powerlaw_model be changed to the attracting and repelling oscillatory_powerlaw_model:\n",
    "\n",
    "$$\n",
    "dR = \\frac{-2a}{R}\\cos(\\omega t + \\phi)dt + CdW(t)\n",
    "$$\n",
    "\n",
    "for $\\omega=2\\pi/T$ for $T=100$ ms (LR) or for $T=90$ ms (FK).  To keep the model simple, $\\phi=\\phi_0$ is a phase constant."
   ]
  },
  {
   "cell_type": "code",
   "execution_count": null,
   "id": "d1198510",
   "metadata": {},
   "outputs": [],
   "source": []
  }
 ],
 "metadata": {
  "hide_input": false,
  "kernelspec": {
   "display_name": "Python 3 (ipykernel)",
   "language": "python",
   "name": "python3"
  },
  "language_info": {
   "codemirror_mode": {
    "name": "ipython",
    "version": 3
   },
   "file_extension": ".py",
   "mimetype": "text/x-python",
   "name": "python",
   "nbconvert_exporter": "python",
   "pygments_lexer": "ipython3",
   "version": "3.7.10"
  },
  "nbTranslate": {
   "displayLangs": [
    "*"
   ],
   "hotkey": "alt-t",
   "langInMainMenu": true,
   "sourceLang": "en",
   "targetLang": "fr",
   "useGoogleTranslate": true
  },
  "notify_time": "0",
  "toc": {
   "base_numbering": 1,
   "nav_menu": {},
   "number_sections": true,
   "sideBar": true,
   "skip_h1_title": false,
   "title_cell": "Table of Contents",
   "title_sidebar": "Contents",
   "toc_cell": false,
   "toc_position": {},
   "toc_section_display": true,
   "toc_window_display": false
  },
  "varInspector": {
   "cols": {
    "lenName": 16,
    "lenType": 16,
    "lenVar": 40
   },
   "kernels_config": {
    "python": {
     "delete_cmd_postfix": "",
     "delete_cmd_prefix": "del ",
     "library": "var_list.py",
     "varRefreshCmd": "print(var_dic_list())"
    },
    "r": {
     "delete_cmd_postfix": ") ",
     "delete_cmd_prefix": "rm(",
     "library": "var_list.r",
     "varRefreshCmd": "cat(var_dic_list()) "
    }
   },
   "types_to_exclude": [
    "module",
    "function",
    "builtin_function_or_method",
    "instance",
    "_Feature"
   ],
   "window_display": false
  }
 },
 "nbformat": 4,
 "nbformat_minor": 5
}
